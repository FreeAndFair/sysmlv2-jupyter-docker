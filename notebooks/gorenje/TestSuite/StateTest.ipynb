{
 "cells": [
  {
   "cell_type": "markdown",
   "id": "intensive-spyware",
   "metadata": {},
   "source": [
    "# SysML v2 Test Suite\n",
    "\n",
    "This can notebook can be cleared using menu `Edit --> Clear All Outputs` and then all cells can be\n",
    "run using menu `Run --> Run All Cells`.\n",
    "\n",
    "**WARNING**: This file is generated, all modifications here will be ignored.\n"
   ]
  },
  {
   "cell_type": "markdown",
   "id": "artistic-partition",
   "metadata": {},
   "source": [
    "## File: ../../sysml/src/examples/Simple Tests/StateTest.sysml"
   ]
  },
  {
   "cell_type": "code",
   "execution_count": 1,
   "id": "involved-ability",
   "metadata": {
    "execution": {
     "iopub.execute_input": "2021-03-26T13:02:42.603198Z",
     "iopub.status.busy": "2021-03-26T13:02:42.602263Z",
     "iopub.status.idle": "2021-03-26T13:02:43.101557Z",
     "shell.execute_reply": "2021-03-26T13:02:43.101129Z"
    }
   },
   "outputs": [
    {
     "data": {
      "text/plain": [
       "Package StateTest (b25b2e45-8444-4fa2-8701-0ea481d59483)\n"
      ]
     },
     "execution_count": 1,
     "metadata": {},
     "output_type": "execute_result"
    }
   ],
   "source": [
    "package StateTest {\n",
    "\tattribute def Sig {\n",
    "\t\tx;\n",
    "\t}\n",
    "\tattribute def Exit;\n",
    "\t\n",
    "\tpart p;\n",
    "\t\n",
    "\taction act;\n",
    "\t\n",
    "\tstate def S {\n",
    "\t\tentry action A; then S1;\n",
    "\t\tdo action B;\n",
    "\t\texit act;\n",
    "\t\t\n",
    "\t\tstate S1;\n",
    "\t\t\taccept s : Sig\n",
    "\t\t\tdo action D\n",
    "\t\t\tthen S2;\n",
    "\t\t\n",
    "\t\tstate S2 {\n",
    "\t\t\tdo send Sig(T::s::x) to p;\n",
    "\t\t}\n",
    "\t\taccept Exit then done;\n",
    "\t\t\n",
    "\t\ttransition T\n",
    "\t\t\tfirst S2\n",
    "\t\t\taccept s : Sig\n",
    "\t\t\tif true\n",
    "\t\t\tdo send s to p\n",
    "\t\t\tthen S1;\t\t\n",
    "\t}\n",
    "}"
   ]
  },
  {
   "cell_type": "code",
   "execution_count": 2,
   "id": "collected-native",
   "metadata": {
    "execution": {
     "iopub.execute_input": "2021-03-26T13:02:43.153150Z",
     "iopub.status.busy": "2021-03-26T13:02:43.152531Z",
     "iopub.status.idle": "2021-03-26T13:02:43.746420Z",
     "shell.execute_reply": "2021-03-26T13:02:43.746819Z"
    }
   },
   "outputs": [
    {
     "data": {
      "image/svg+xml": [
       "<?xml version=\"1.0\" encoding=\"UTF-8\" standalone=\"no\"?><svg xmlns=\"http://www.w3.org/2000/svg\" xmlns:xlink=\"http://www.w3.org/1999/xlink\" contentScriptType=\"application/ecmascript\" contentStyleType=\"text/css\" height=\"570px\" preserveAspectRatio=\"none\" style=\"width:819px;height:570px;\" version=\"1.1\" viewBox=\"0 0 819 570\" width=\"819px\" zoomAndPan=\"magnify\"><defs/><g><!--MD5=[fbc87193dbaf4d95561dea2c320d4a47]\n",
       "cluster E1--><a href=\"psysml:5e99c5ac-660c-4bcd-ba7f-80dc44a07c9e\" target=\"_top\" title=\"psysml:5e99c5ac-660c-4bcd-ba7f-80dc44a07c9e\" xlink:actuate=\"onRequest\" xlink:href=\"psysml:5e99c5ac-660c-4bcd-ba7f-80dc44a07c9e\" xlink:show=\"new\" xlink:title=\"psysml:5e99c5ac-660c-4bcd-ba7f-80dc44a07c9e\" xlink:type=\"simple\"><polygon fill=\"#FFFFFF\" points=\"16,6,98,6,105,28.2969,797,28.2969,797,558,16,558,16,6\" style=\"stroke: #000000; stroke-width: 1.5;\"/><line style=\"stroke: #000000; stroke-width: 1.5;\" x1=\"16\" x2=\"105\" y1=\"28.2969\" y2=\"28.2969\"/><text fill=\"#000000\" font-family=\"sans-serif\" font-size=\"14\" font-weight=\"bold\" lengthAdjust=\"spacingAndGlyphs\" textLength=\"76\" x=\"20\" y=\"20.9951\">StateTest</text></a><!--MD5=[14e3b0961a2654348d326746436168a1]\n",
       "cluster E6--><a href=\"psysml:0bc7341d-f31b-4869-a064-1af20ff16fcc\" target=\"_top\" title=\"psysml:0bc7341d-f31b-4869-a064-1af20ff16fcc\" xlink:actuate=\"onRequest\" xlink:href=\"psysml:0bc7341d-f31b-4869-a064-1af20ff16fcc\" xlink:show=\"new\" xlink:title=\"psysml:0bc7341d-f31b-4869-a064-1af20ff16fcc\" xlink:type=\"simple\"><rect fill=\"#FFFFFF\" height=\"485\" id=\"E6\" style=\"stroke: #383838; stroke-width: 1.5;\" width=\"327\" x=\"446\" y=\"49\"/><rect fill=\"#F8F8F8\" height=\"37.9375\" style=\"stroke: #383838; stroke-width: 1.5;\" width=\"327\" x=\"446\" y=\"49\"/><text fill=\"#000000\" font-family=\"sans-serif\" font-size=\"12\" font-style=\"italic\" lengthAdjust=\"spacingAndGlyphs\" textLength=\"71\" x=\"574\" y=\"65.1387\">«state def»</text><text fill=\"#000000\" font-family=\"sans-serif\" font-size=\"12\" lengthAdjust=\"spacingAndGlyphs\" textLength=\"8\" x=\"605.5\" y=\"79.1074\">S</text><line style=\"stroke: #383838; stroke-width: 1.0;\" x1=\"446\" x2=\"773\" y1=\"132.8438\" y2=\"132.8438\"/><text fill=\"#000000\" font-family=\"sans-serif\" font-size=\"12\" font-weight=\"bold\" lengthAdjust=\"spacingAndGlyphs\" textLength=\"38\" x=\"451\" y=\"100.0762\">entry</text><text fill=\"#000000\" font-family=\"sans-serif\" font-size=\"12\" lengthAdjust=\"spacingAndGlyphs\" textLength=\"16\" x=\"489\" y=\"100.0762\">/ A</text><text fill=\"#000000\" font-family=\"sans-serif\" font-size=\"12\" font-weight=\"bold\" lengthAdjust=\"spacingAndGlyphs\" textLength=\"18\" x=\"451\" y=\"114.0449\">do</text><text fill=\"#000000\" font-family=\"sans-serif\" font-size=\"12\" lengthAdjust=\"spacingAndGlyphs\" textLength=\"16\" x=\"469\" y=\"114.0449\">/ B</text><text fill=\"#000000\" font-family=\"sans-serif\" font-size=\"12\" font-weight=\"bold\" lengthAdjust=\"spacingAndGlyphs\" textLength=\"26\" x=\"451\" y=\"128.0137\">exit</text><text fill=\"#000000\" font-family=\"sans-serif\" font-size=\"12\" lengthAdjust=\"spacingAndGlyphs\" textLength=\"28\" x=\"477\" y=\"128.0137\">/ act</text></a><!--MD5=[b4997ac47864f28c2f74865a473b2911]\n",
       "class E2--><a href=\"psysml:408e0494-0708-476d-85d5-333a69b53e96\" target=\"_top\" title=\"psysml:408e0494-0708-476d-85d5-333a69b53e96\" xlink:actuate=\"onRequest\" xlink:href=\"psysml:408e0494-0708-476d-85d5-333a69b53e96\" xlink:show=\"new\" xlink:title=\"psysml:408e0494-0708-476d-85d5-333a69b53e96\" xlink:type=\"simple\"><rect fill=\"#FFFFFF\" height=\"75.5469\" id=\"E2\" style=\"stroke: #383838; stroke-width: 1.5;\" width=\"95\" x=\"334.5\" y=\"119\"/><text fill=\"#000000\" font-family=\"sans-serif\" font-size=\"12\" font-style=\"italic\" lengthAdjust=\"spacingAndGlyphs\" textLength=\"93\" x=\"335.5\" y=\"135.1387\">«attribute def»</text><text fill=\"#000000\" font-family=\"sans-serif\" font-size=\"12\" lengthAdjust=\"spacingAndGlyphs\" textLength=\"19\" x=\"372.5\" y=\"149.1074\">Sig</text><line style=\"stroke: #383838; stroke-width: 1.5;\" x1=\"335.5\" x2=\"428.5\" y1=\"156.9375\" y2=\"156.9375\"/><text fill=\"#000000\" font-family=\"sans-serif\" font-size=\"11\" lengthAdjust=\"spacingAndGlyphs\" textLength=\"6\" x=\"340.5\" y=\"187.9526\">x</text><line style=\"stroke: #383838; stroke-width: 1.0;\" x1=\"335.5\" x2=\"354.5\" y1=\"171.3398\" y2=\"171.3398\"/><text fill=\"#000000\" font-family=\"sans-serif\" font-size=\"11\" lengthAdjust=\"spacingAndGlyphs\" textLength=\"55\" x=\"354.5\" y=\"174.6479\">attributes</text><line style=\"stroke: #383838; stroke-width: 1.0;\" x1=\"409.5\" x2=\"428.5\" y1=\"171.3398\" y2=\"171.3398\"/></a><!--MD5=[09b614a08d8cba4a07c9adeb5e0fee81]\n",
       "class E3--><a href=\"psysml:0109ef31-4e51-4de7-9ac0-eb82fbd89c67\" target=\"_top\" title=\"psysml:0109ef31-4e51-4de7-9ac0-eb82fbd89c67\" xlink:actuate=\"onRequest\" xlink:href=\"psysml:0109ef31-4e51-4de7-9ac0-eb82fbd89c67\" xlink:show=\"new\" xlink:title=\"psysml:0109ef31-4e51-4de7-9ac0-eb82fbd89c67\" xlink:type=\"simple\"><rect fill=\"#FFFFFF\" height=\"45.9375\" id=\"E3\" style=\"stroke: #383838; stroke-width: 1.5;\" width=\"95\" x=\"204.5\" y=\"134\"/><text fill=\"#000000\" font-family=\"sans-serif\" font-size=\"12\" font-style=\"italic\" lengthAdjust=\"spacingAndGlyphs\" textLength=\"93\" x=\"205.5\" y=\"150.1387\">«attribute def»</text><text fill=\"#000000\" font-family=\"sans-serif\" font-size=\"12\" lengthAdjust=\"spacingAndGlyphs\" textLength=\"22\" x=\"241\" y=\"164.1074\">Exit</text><line style=\"stroke: #383838; stroke-width: 1.5;\" x1=\"205.5\" x2=\"298.5\" y1=\"171.9375\" y2=\"171.9375\"/></a><!--MD5=[ebbe1d658d1005bcc118a6aa81145e00]\n",
       "class E4--><a href=\"psysml:64a2c9fa-aa89-4eff-b01c-ff58906cbde0\" target=\"_top\" title=\"psysml:64a2c9fa-aa89-4eff-b01c-ff58906cbde0\" xlink:actuate=\"onRequest\" xlink:href=\"psysml:64a2c9fa-aa89-4eff-b01c-ff58906cbde0\" xlink:show=\"new\" xlink:title=\"psysml:64a2c9fa-aa89-4eff-b01c-ff58906cbde0\" xlink:type=\"simple\"><rect fill=\"#FFFFFF\" height=\"45.9375\" id=\"E4\" rx=\"10\" ry=\"10\" style=\"stroke: #383838; stroke-width: 1.5;\" width=\"42\" x=\"127\" y=\"134\"/><text fill=\"#000000\" font-family=\"sans-serif\" font-size=\"12\" font-style=\"italic\" lengthAdjust=\"spacingAndGlyphs\" textLength=\"40\" x=\"128\" y=\"150.1387\">«part»</text><text fill=\"#000000\" font-family=\"sans-serif\" font-size=\"12\" lengthAdjust=\"spacingAndGlyphs\" textLength=\"8\" x=\"144\" y=\"164.1074\">p</text><line style=\"stroke: #383838; stroke-width: 1.5;\" x1=\"128\" x2=\"168\" y1=\"171.9375\" y2=\"171.9375\"/></a><g id=\"E1.E5\"><a href=\"psysml:6519856a-88df-4cdc-a713-a9dddd16e281\" target=\"_top\" title=\"psysml:6519856a-88df-4cdc-a713-a9dddd16e281\" xlink:actuate=\"onRequest\" xlink:href=\"psysml:6519856a-88df-4cdc-a713-a9dddd16e281\" xlink:show=\"new\" xlink:title=\"psysml:6519856a-88df-4cdc-a713-a9dddd16e281\" xlink:type=\"simple\"><rect fill=\"#FFFFFF\" height=\"42.9375\" id=\"E5\" rx=\"10\" ry=\"10\" style=\"stroke: #383838; stroke-width: 1.5;\" width=\"60\" x=\"32\" y=\"135.5\"/><rect fill=\"#F8F8F8\" height=\"37.9375\" rx=\"10\" ry=\"10\" style=\"stroke: #F8F8F8; stroke-width: 1.5;\" width=\"60\" x=\"32\" y=\"135.5\"/><rect fill=\"#F8F8F8\" height=\"10\" style=\"stroke: #F8F8F8; stroke-width: 1.5;\" width=\"60\" x=\"32\" y=\"163.4375\"/><rect fill=\"none\" height=\"42.9375\" id=\"E5\" rx=\"10\" ry=\"10\" style=\"stroke: #383838; stroke-width: 1.5;\" width=\"60\" x=\"32\" y=\"135.5\"/><text fill=\"#000000\" font-family=\"sans-serif\" font-size=\"12\" font-style=\"italic\" lengthAdjust=\"spacingAndGlyphs\" textLength=\"53\" x=\"35.5\" y=\"151.6387\">«action»</text><text fill=\"#000000\" font-family=\"sans-serif\" font-size=\"12\" lengthAdjust=\"spacingAndGlyphs\" textLength=\"20\" x=\"52\" y=\"165.6074\">act</text></a></g><ellipse cx=\"558\" cy=\"157\" fill=\"#000000\" rx=\"10\" ry=\"10\" style=\"stroke: none; stroke-width: 1.0;\"/><ellipse cx=\"558\" cy=\"508\" fill=\"none\" rx=\"10\" ry=\"10\" style=\"stroke: #000000; stroke-width: 1.0;\"/><ellipse cx=\"558.5\" cy=\"508.5\" fill=\"#000000\" rx=\"6\" ry=\"6\" style=\"stroke: none; stroke-width: 1.0;\"/><g id=\"E1.E6.E7\"><a href=\"psysml:70242e19-3f56-46b0-b4b5-fd0d440c29ee\" target=\"_top\" title=\"psysml:70242e19-3f56-46b0-b4b5-fd0d440c29ee\" xlink:actuate=\"onRequest\" xlink:href=\"psysml:70242e19-3f56-46b0-b4b5-fd0d440c29ee\" xlink:show=\"new\" xlink:title=\"psysml:70242e19-3f56-46b0-b4b5-fd0d440c29ee\" xlink:type=\"simple\"><rect fill=\"#FFFFFF\" height=\"40\" id=\"E7\" rx=\"10\" ry=\"10\" style=\"stroke: #383838; stroke-width: 1.5;\" width=\"50\" x=\"533\" y=\"256\"/><rect fill=\"#F8F8F8\" height=\"23.9688\" rx=\"10\" ry=\"10\" style=\"stroke: #F8F8F8; stroke-width: 1.5;\" width=\"50\" x=\"533\" y=\"256\"/><rect fill=\"#F8F8F8\" height=\"10\" style=\"stroke: #F8F8F8; stroke-width: 1.5;\" width=\"50\" x=\"533\" y=\"269.9688\"/><rect fill=\"none\" height=\"40\" id=\"E7\" rx=\"10\" ry=\"10\" style=\"stroke: #383838; stroke-width: 1.5;\" width=\"50\" x=\"533\" y=\"256\"/><text fill=\"#000000\" font-family=\"sans-serif\" font-size=\"12\" lengthAdjust=\"spacingAndGlyphs\" textLength=\"16\" x=\"550\" y=\"272.1387\">S1</text></a></g><g id=\"E1.E6.E8\"><a href=\"psysml:a085f23d-1115-47bd-987f-c38856471ed2\" target=\"_top\" title=\"psysml:a085f23d-1115-47bd-987f-c38856471ed2\" xlink:actuate=\"onRequest\" xlink:href=\"psysml:a085f23d-1115-47bd-987f-c38856471ed2\" xlink:show=\"new\" xlink:title=\"psysml:a085f23d-1115-47bd-987f-c38856471ed2\" xlink:type=\"simple\"><rect fill=\"#FFFFFF\" height=\"47.9375\" id=\"E8\" rx=\"10\" ry=\"10\" style=\"stroke: #383838; stroke-width: 1.5;\" width=\"50\" x=\"533\" y=\"373\"/><rect fill=\"#F8F8F8\" height=\"23.9688\" rx=\"10\" ry=\"10\" style=\"stroke: #F8F8F8; stroke-width: 1.5;\" width=\"50\" x=\"533\" y=\"373\"/><rect fill=\"#F8F8F8\" height=\"10\" style=\"stroke: #F8F8F8; stroke-width: 1.5;\" width=\"50\" x=\"533\" y=\"386.9688\"/><rect fill=\"none\" height=\"47.9375\" id=\"E8\" rx=\"10\" ry=\"10\" style=\"stroke: #383838; stroke-width: 1.5;\" width=\"50\" x=\"533\" y=\"373\"/><text fill=\"#000000\" font-family=\"sans-serif\" font-size=\"12\" lengthAdjust=\"spacingAndGlyphs\" textLength=\"16\" x=\"550\" y=\"389.1387\">S2</text><line style=\"stroke: #383838; stroke-width: 1.0;\" x1=\"533\" x2=\"583\" y1=\"396.9688\" y2=\"396.9688\"/><text fill=\"#000000\" font-family=\"sans-serif\" font-size=\"12\" font-weight=\"bold\" lengthAdjust=\"spacingAndGlyphs\" textLength=\"18\" x=\"538\" y=\"410.1074\">do</text><text fill=\"#000000\" font-family=\"sans-serif\" font-size=\"12\" lengthAdjust=\"spacingAndGlyphs\" textLength=\"4\" x=\"556\" y=\"410.1074\">/</text></a></g><!--MD5=[5a531d3a85f3339e6e197084acb48195]\n",
       "link *start*E6 to E7--><a href=\"psysml:43d9c4f9-ed20-4c00-a0b0-be6dc49a6894\" target=\"_top\" title=\"psysml:43d9c4f9-ed20-4c00-a0b0-be6dc49a6894\" xlink:actuate=\"onRequest\" xlink:href=\"psysml:43d9c4f9-ed20-4c00-a0b0-be6dc49a6894\" xlink:show=\"new\" xlink:title=\"psysml:43d9c4f9-ed20-4c00-a0b0-be6dc49a6894\" xlink:type=\"simple\"><path d=\"M558,167.18 C558,184.98 558,224.73 558,250.67 \" fill=\"none\" id=\"*start*E6-&gt;E7\" style=\"stroke: #383838; stroke-width: 1.0;\"/><polygon fill=\"#383838\" points=\"558,255.98,562,246.98,558,250.98,554,246.98,558,255.98\" style=\"stroke: #383838; stroke-width: 1.0;\"/></a><!--MD5=[7ec9a8babba89ddcae1318ca9fb3c814]\n",
       "link E8 to *end*E6--><a href=\"psysml:f955b7ee-57f2-4e8a-b602-a443c9a31c83\" target=\"_top\" title=\"psysml:f955b7ee-57f2-4e8a-b602-a443c9a31c83\" xlink:actuate=\"onRequest\" xlink:href=\"psysml:f955b7ee-57f2-4e8a-b602-a443c9a31c83\" xlink:show=\"new\" xlink:title=\"psysml:f955b7ee-57f2-4e8a-b602-a443c9a31c83\" xlink:type=\"simple\"><path d=\"M558,421.12 C558,442.75 558,474.39 558,492.62 \" fill=\"none\" id=\"E8-&gt;*end*E6\" style=\"stroke: #383838; stroke-width: 1.0;\"/><polygon fill=\"#383838\" points=\"558,497.82,562,488.82,558,492.82,554,488.82,558,497.82\" style=\"stroke: #383838; stroke-width: 1.0;\"/><text fill=\"#000000\" font-family=\"sans-serif\" font-size=\"13\" lengthAdjust=\"spacingAndGlyphs\" textLength=\"23\" x=\"559\" y=\"464.0669\">Exit</text></a><!--MD5=[79bc8f324ef4d02c541433f2e6e513c3]\n",
       "link E7 to E8--><a href=\"psysml:d37fdc60-36d2-41f0-83fe-622a63ffc619\" target=\"_top\" title=\"psysml:d37fdc60-36d2-41f0-83fe-622a63ffc619\" xlink:actuate=\"onRequest\" xlink:href=\"psysml:d37fdc60-36d2-41f0-83fe-622a63ffc619\" xlink:show=\"new\" xlink:title=\"psysml:d37fdc60-36d2-41f0-83fe-622a63ffc619\" xlink:type=\"simple\"><path d=\"M532.93,288.88 C518.69,297.12 502.12,309.56 494,326 C483.11,348.05 506.72,368.2 528.27,381.16 \" fill=\"none\" id=\"E7-&gt;E8\" style=\"stroke: #383838; stroke-width: 1.0;\"/><polygon fill=\"#383838\" points=\"532.83,383.82,527.0682,375.8324,528.5101,381.3024,523.0401,382.7443,532.83,383.82\" style=\"stroke: #383838; stroke-width: 1.0;\"/><text fill=\"#000000\" font-family=\"sans-serif\" font-size=\"13\" lengthAdjust=\"spacingAndGlyphs\" textLength=\"81\" x=\"495\" y=\"339.0669\">Sig /action D</text></a><!--MD5=[bfa3c8b0d15052fdf50ae9310b491027]\n",
       "link E8 to E7--><a href=\"psysml:b2ce6d4b-1a56-4d0e-ade4-ffb9136266c2\" target=\"_top\" title=\"psysml:b2ce6d4b-1a56-4d0e-ade4-ffb9136266c2\" xlink:actuate=\"onRequest\" xlink:href=\"psysml:b2ce6d4b-1a56-4d0e-ade4-ffb9136266c2\" xlink:show=\"new\" xlink:title=\"psysml:b2ce6d4b-1a56-4d0e-ade4-ffb9136266c2\" xlink:type=\"simple\"><path d=\"M572.17,372.99 C578.81,359.48 584.56,341.98 581,326 C579.1,317.49 575.56,308.72 571.82,300.99 \" fill=\"none\" id=\"E8-&gt;E7\" style=\"stroke: #383838; stroke-width: 1.0;\"/><polygon fill=\"#383838\" points=\"569.47,296.32,569.9298,306.1581,571.7118,300.7893,577.0806,302.5713,569.47,296.32\" style=\"stroke: #383838; stroke-width: 1.0;\"/><text fill=\"#000000\" font-family=\"sans-serif\" font-size=\"13\" lengthAdjust=\"spacingAndGlyphs\" textLength=\"135\" x=\"583\" y=\"339.0669\">Sig [true]/send s to p</text></a><!--MD5=[e377bebd5de29975482bc6b00eee7aea]\n",
       "@startuml\r\n",
       " skinparam monochrome true\r\n",
       "skinparam classbackgroundcolor white\r\n",
       "skinparam shadowing false\r\n",
       "skinparam wrapWidth 300\r\n",
       "hide circle\r\n",
       "\r\n",
       "package \"StateTest\" as E1  [[psysml:5e99c5ac-660c-4bcd-ba7f-80dc44a07c9e ]]  {\r\n",
       "comp def \"Sig\" as E2  <<(T,blue)attribute def>> [[psysml:408e0494-0708-476d-85d5-333a69b53e96 ]] {\r\n",
       "- - attributes - -\r\n",
       "x\r\n",
       "}\r\n",
       "comp def \"Exit\" as E3  <<(T,blue)attribute def>> [[psysml:0109ef31-4e51-4de7-9ac0-eb82fbd89c67 ]] {\r\n",
       "}\r\n",
       "comp usage \"p\" as E4  <<(T,blue)part>> [[psysml:64a2c9fa-aa89-4eff-b01c-ff58906cbde0 ]] {\r\n",
       "}\r\n",
       "rec usage \"act\" as E5  <<(T,blue)action>> [[psysml:6519856a-88df-4cdc-a713-a9dddd16e281 ]] {\r\n",
       "}\r\n",
       "\r\n",
       "rec def \"S\" as E6  <<(T,blue)state def>> [[psysml:0bc7341d-f31b-4869-a064-1af20ff16fcc ]] {\r\n",
       "rec usage \"S1\" as E7 [[psysml:70242e19-3f56-46b0-b4b5-fd0d440c29ee ]] {\r\n",
       "}\r\n",
       "\r\n",
       "rec usage \"S2\" as E8 [[psysml:a085f23d-1115-47bd-987f-c38856471ed2 ]] {\r\n",
       "desc \"S2\" as E8  : **do**/ \r\n",
       "}\r\n",
       "\r\n",
       "[*] - -> E7 [[psysml:43d9c4f9-ed20-4c00-a0b0-be6dc49a6894 ]] \r\n",
       "E8  - -> [*] [[psysml:f955b7ee-57f2-4e8a-b602-a443c9a31c83 ]] : Exit \r\n",
       "desc \"S\" as E6  : **entry**/ A\r\n",
       "desc \"S\" as E6  : **do**/ B\r\n",
       "desc \"S\" as E6  : **exit**/ act \r\n",
       "}\r\n",
       "\r\n",
       "E7  - -> E8 [[psysml:d37fdc60-36d2-41f0-83fe-622a63ffc619 ]] : Sig /action D\r\n",
       "E8  - -> E7 [[psysml:b2ce6d4b-1a56-4d0e-ade4-ffb9136266c2 ]] : Sig [true]/send s to p\r\n",
       "}\r\n",
       "@enduml\r\n",
       "\n",
       "PlantUML version 1.2020.13(Sat Jun 13 12:26:38 UTC 2020)\n",
       "(EPL source distribution)\n",
       "Java Runtime: OpenJDK Runtime Environment\n",
       "JVM: OpenJDK 64-Bit Server VM\n",
       "Default Encoding: UTF-8\n",
       "Language: en\n",
       "Country: null\n",
       "--></g></svg>"
      ]
     },
     "execution_count": 2,
     "metadata": {},
     "output_type": "execute_result"
    }
   ],
   "source": [
    "%viz --style=\"COMPTREE\" --view=\"Default\" \"StateTest\""
   ]
  },
  {
   "cell_type": "code",
   "execution_count": 3,
   "id": "encouraging-thailand",
   "metadata": {
    "execution": {
     "iopub.execute_input": "2021-03-26T13:02:43.798187Z",
     "iopub.status.busy": "2021-03-26T13:02:43.797610Z",
     "iopub.status.idle": "2021-03-26T13:02:43.990259Z",
     "shell.execute_reply": "2021-03-26T13:02:43.989863Z"
    }
   },
   "outputs": [
    {
     "data": {
      "image/svg+xml": [
       "<?xml version=\"1.0\" encoding=\"UTF-8\" standalone=\"no\"?><svg xmlns=\"http://www.w3.org/2000/svg\" xmlns:xlink=\"http://www.w3.org/1999/xlink\" contentScriptType=\"application/ecmascript\" contentStyleType=\"text/css\" height=\"471px\" preserveAspectRatio=\"none\" style=\"width:594px;height:471px;\" version=\"1.1\" viewBox=\"0 0 594 471\" width=\"594px\" zoomAndPan=\"magnify\"><defs/><g><!--MD5=[fbc87193dbaf4d95561dea2c320d4a47]\n",
       "cluster E1--><a href=\"psysml:5e99c5ac-660c-4bcd-ba7f-80dc44a07c9e\" target=\"_top\" title=\"psysml:5e99c5ac-660c-4bcd-ba7f-80dc44a07c9e\" xlink:actuate=\"onRequest\" xlink:href=\"psysml:5e99c5ac-660c-4bcd-ba7f-80dc44a07c9e\" xlink:show=\"new\" xlink:title=\"psysml:5e99c5ac-660c-4bcd-ba7f-80dc44a07c9e\" xlink:type=\"simple\"><polygon fill=\"#FFFFFF\" points=\"16,6,98,6,105,28.2969,572,28.2969,572,459,16,459,16,6\" style=\"stroke: #000000; stroke-width: 1.5;\"/><line style=\"stroke: #000000; stroke-width: 1.5;\" x1=\"16\" x2=\"105\" y1=\"28.2969\" y2=\"28.2969\"/><text fill=\"#000000\" font-family=\"sans-serif\" font-size=\"14\" font-weight=\"bold\" lengthAdjust=\"spacingAndGlyphs\" textLength=\"76\" x=\"20\" y=\"20.9951\">StateTest</text></a><!--MD5=[b4997ac47864f28c2f74865a473b2911]\n",
       "class E2--><a href=\"psysml:408e0494-0708-476d-85d5-333a69b53e96\" target=\"_top\" title=\"psysml:408e0494-0708-476d-85d5-333a69b53e96\" xlink:actuate=\"onRequest\" xlink:href=\"psysml:408e0494-0708-476d-85d5-333a69b53e96\" xlink:show=\"new\" xlink:title=\"psysml:408e0494-0708-476d-85d5-333a69b53e96\" xlink:type=\"simple\"><rect fill=\"#FFFFFF\" height=\"75.5469\" id=\"E2\" style=\"stroke: #383838; stroke-width: 1.5;\" width=\"95\" x=\"460.5\" y=\"83\"/><text fill=\"#000000\" font-family=\"sans-serif\" font-size=\"12\" font-style=\"italic\" lengthAdjust=\"spacingAndGlyphs\" textLength=\"93\" x=\"461.5\" y=\"99.1387\">«attribute def»</text><text fill=\"#000000\" font-family=\"sans-serif\" font-size=\"12\" lengthAdjust=\"spacingAndGlyphs\" textLength=\"19\" x=\"498.5\" y=\"113.1074\">Sig</text><line style=\"stroke: #383838; stroke-width: 1.5;\" x1=\"461.5\" x2=\"554.5\" y1=\"120.9375\" y2=\"120.9375\"/><text fill=\"#000000\" font-family=\"sans-serif\" font-size=\"11\" lengthAdjust=\"spacingAndGlyphs\" textLength=\"6\" x=\"466.5\" y=\"151.9526\">x</text><line style=\"stroke: #383838; stroke-width: 1.0;\" x1=\"461.5\" x2=\"480.5\" y1=\"135.3398\" y2=\"135.3398\"/><text fill=\"#000000\" font-family=\"sans-serif\" font-size=\"11\" lengthAdjust=\"spacingAndGlyphs\" textLength=\"55\" x=\"480.5\" y=\"138.6479\">attributes</text><line style=\"stroke: #383838; stroke-width: 1.0;\" x1=\"535.5\" x2=\"554.5\" y1=\"135.3398\" y2=\"135.3398\"/></a><!--MD5=[09b614a08d8cba4a07c9adeb5e0fee81]\n",
       "class E3--><a href=\"psysml:0109ef31-4e51-4de7-9ac0-eb82fbd89c67\" target=\"_top\" title=\"psysml:0109ef31-4e51-4de7-9ac0-eb82fbd89c67\" xlink:actuate=\"onRequest\" xlink:href=\"psysml:0109ef31-4e51-4de7-9ac0-eb82fbd89c67\" xlink:show=\"new\" xlink:title=\"psysml:0109ef31-4e51-4de7-9ac0-eb82fbd89c67\" xlink:type=\"simple\"><rect fill=\"#FFFFFF\" height=\"45.9375\" id=\"E3\" style=\"stroke: #383838; stroke-width: 1.5;\" width=\"95\" x=\"330.5\" y=\"98\"/><text fill=\"#000000\" font-family=\"sans-serif\" font-size=\"12\" font-style=\"italic\" lengthAdjust=\"spacingAndGlyphs\" textLength=\"93\" x=\"331.5\" y=\"114.1387\">«attribute def»</text><text fill=\"#000000\" font-family=\"sans-serif\" font-size=\"12\" lengthAdjust=\"spacingAndGlyphs\" textLength=\"22\" x=\"367\" y=\"128.1074\">Exit</text><line style=\"stroke: #383838; stroke-width: 1.5;\" x1=\"331.5\" x2=\"424.5\" y1=\"135.9375\" y2=\"135.9375\"/></a><!--MD5=[ebbe1d658d1005bcc118a6aa81145e00]\n",
       "class E4--><a href=\"psysml:64a2c9fa-aa89-4eff-b01c-ff58906cbde0\" target=\"_top\" title=\"psysml:64a2c9fa-aa89-4eff-b01c-ff58906cbde0\" xlink:actuate=\"onRequest\" xlink:href=\"psysml:64a2c9fa-aa89-4eff-b01c-ff58906cbde0\" xlink:show=\"new\" xlink:title=\"psysml:64a2c9fa-aa89-4eff-b01c-ff58906cbde0\" xlink:type=\"simple\"><rect fill=\"#FFFFFF\" height=\"45.9375\" id=\"E4\" rx=\"10\" ry=\"10\" style=\"stroke: #383838; stroke-width: 1.5;\" width=\"42\" x=\"253\" y=\"98\"/><text fill=\"#000000\" font-family=\"sans-serif\" font-size=\"12\" font-style=\"italic\" lengthAdjust=\"spacingAndGlyphs\" textLength=\"40\" x=\"254\" y=\"114.1387\">«part»</text><text fill=\"#000000\" font-family=\"sans-serif\" font-size=\"12\" lengthAdjust=\"spacingAndGlyphs\" textLength=\"8\" x=\"270\" y=\"128.1074\">p</text><line style=\"stroke: #383838; stroke-width: 1.5;\" x1=\"254\" x2=\"294\" y1=\"135.9375\" y2=\"135.9375\"/></a><!--MD5=[270fce915f116d4de14055a7c1d9a0f3]\n",
       "class E5--><a href=\"psysml:6519856a-88df-4cdc-a713-a9dddd16e281\" target=\"_top\" title=\"psysml:6519856a-88df-4cdc-a713-a9dddd16e281\" xlink:actuate=\"onRequest\" xlink:href=\"psysml:6519856a-88df-4cdc-a713-a9dddd16e281\" xlink:show=\"new\" xlink:title=\"psysml:6519856a-88df-4cdc-a713-a9dddd16e281\" xlink:type=\"simple\"><rect fill=\"#FFFFFF\" height=\"45.9375\" id=\"E5\" rx=\"10\" ry=\"10\" style=\"stroke: #383838; stroke-width: 1.5;\" width=\"55\" x=\"162.5\" y=\"98\"/><text fill=\"#000000\" font-family=\"sans-serif\" font-size=\"12\" font-style=\"italic\" lengthAdjust=\"spacingAndGlyphs\" textLength=\"53\" x=\"163.5\" y=\"114.1387\">«action»</text><text fill=\"#000000\" font-family=\"sans-serif\" font-size=\"12\" lengthAdjust=\"spacingAndGlyphs\" textLength=\"20\" x=\"180\" y=\"128.1074\">act</text><line style=\"stroke: #383838; stroke-width: 1.5;\" x1=\"163.5\" x2=\"216.5\" y1=\"135.9375\" y2=\"135.9375\"/></a><!--MD5=[60a26617385b1d2d0262a64233df1f8d]\n",
       "class E6--><a href=\"psysml:0bc7341d-f31b-4869-a064-1af20ff16fcc\" target=\"_top\" title=\"psysml:0bc7341d-f31b-4869-a064-1af20ff16fcc\" xlink:actuate=\"onRequest\" xlink:href=\"psysml:0bc7341d-f31b-4869-a064-1af20ff16fcc\" xlink:show=\"new\" xlink:title=\"psysml:0bc7341d-f31b-4869-a064-1af20ff16fcc\" xlink:type=\"simple\"><rect fill=\"#FFFFFF\" height=\"160.375\" id=\"E6\" style=\"stroke: #383838; stroke-width: 1.5;\" width=\"95\" x=\"32.5\" y=\"41\"/><text fill=\"#000000\" font-family=\"sans-serif\" font-size=\"12\" font-style=\"italic\" lengthAdjust=\"spacingAndGlyphs\" textLength=\"71\" x=\"44.5\" y=\"57.1387\">«state def»</text><text fill=\"#000000\" font-family=\"sans-serif\" font-size=\"12\" lengthAdjust=\"spacingAndGlyphs\" textLength=\"8\" x=\"76\" y=\"71.1074\">S</text><line style=\"stroke: #383838; stroke-width: 1.5;\" x1=\"33.5\" x2=\"126.5\" y1=\"78.9375\" y2=\"78.9375\"/><text fill=\"#000000\" font-family=\"sans-serif\" font-size=\"11\" lengthAdjust=\"spacingAndGlyphs\" textLength=\"17\" x=\"38.5\" y=\"109.9526\">act</text><text fill=\"#000000\" font-family=\"sans-serif\" font-size=\"11\" lengthAdjust=\"spacingAndGlyphs\" textLength=\"7\" x=\"38.5\" y=\"122.7573\">A</text><text fill=\"#000000\" font-family=\"sans-serif\" font-size=\"11\" lengthAdjust=\"spacingAndGlyphs\" textLength=\"8\" x=\"38.5\" y=\"135.562\">B</text><line style=\"stroke: #383838; stroke-width: 1.0;\" x1=\"33.5\" x2=\"36.5\" y1=\"93.3398\" y2=\"93.3398\"/><text fill=\"#000000\" font-family=\"sans-serif\" font-size=\"11\" lengthAdjust=\"spacingAndGlyphs\" textLength=\"87\" x=\"36.5\" y=\"96.6479\">performActions</text><line style=\"stroke: #383838; stroke-width: 1.0;\" x1=\"123.5\" x2=\"126.5\" y1=\"93.3398\" y2=\"93.3398\"/><text fill=\"#000000\" font-family=\"sans-serif\" font-size=\"11\" lengthAdjust=\"spacingAndGlyphs\" textLength=\"15\" x=\"38.5\" y=\"165.1714\">S1</text><line style=\"stroke: #383838; stroke-width: 1.0;\" x1=\"33.5\" x2=\"62\" y1=\"148.5586\" y2=\"148.5586\"/><text fill=\"#000000\" font-family=\"sans-serif\" font-size=\"11\" lengthAdjust=\"spacingAndGlyphs\" textLength=\"36\" x=\"62\" y=\"151.8667\">states</text><line style=\"stroke: #383838; stroke-width: 1.0;\" x1=\"98\" x2=\"126.5\" y1=\"148.5586\" y2=\"148.5586\"/><text fill=\"#000000\" font-family=\"sans-serif\" font-size=\"11\" lengthAdjust=\"spacingAndGlyphs\" textLength=\"7\" x=\"38.5\" y=\"194.7808\">T</text><line style=\"stroke: #383838; stroke-width: 1.0;\" x1=\"33.5\" x2=\"49.5\" y1=\"178.168\" y2=\"178.168\"/><text fill=\"#000000\" font-family=\"sans-serif\" font-size=\"11\" lengthAdjust=\"spacingAndGlyphs\" textLength=\"61\" x=\"49.5\" y=\"181.4761\">transitions</text><line style=\"stroke: #383838; stroke-width: 1.0;\" x1=\"110.5\" x2=\"126.5\" y1=\"178.168\" y2=\"178.168\"/></a><!--MD5=[1dd1bfd58a279cf63c5f349dbc8fc6a1]\n",
       "class E11--><a href=\"psysml:a085f23d-1115-47bd-987f-c38856471ed2\" target=\"_top\" title=\"psysml:a085f23d-1115-47bd-987f-c38856471ed2\" xlink:actuate=\"onRequest\" xlink:href=\"psysml:a085f23d-1115-47bd-987f-c38856471ed2\" xlink:show=\"new\" xlink:title=\"psysml:a085f23d-1115-47bd-987f-c38856471ed2\" xlink:type=\"simple\"><rect fill=\"#FFFFFF\" height=\"45.9375\" id=\"E11\" rx=\"10\" ry=\"10\" style=\"stroke: #383838; stroke-width: 1.5;\" width=\"49\" x=\"55.5\" y=\"261\"/><text fill=\"#000000\" font-family=\"sans-serif\" font-size=\"12\" font-style=\"italic\" lengthAdjust=\"spacingAndGlyphs\" textLength=\"47\" x=\"56.5\" y=\"277.1387\">«state»</text><text fill=\"#000000\" font-family=\"sans-serif\" font-size=\"12\" lengthAdjust=\"spacingAndGlyphs\" textLength=\"16\" x=\"72\" y=\"291.1074\">S2</text><line style=\"stroke: #383838; stroke-width: 1.5;\" x1=\"56.5\" x2=\"103.5\" y1=\"298.9375\" y2=\"298.9375\"/></a><!--MD5=[49a0ec8f00dab7302a31f22d0f0fe584]\n",
       "class E12--><a href=\"psysml:cfc90439-05ae-44f8-b88d-04fe860fe407\" target=\"_top\" title=\"psysml:cfc90439-05ae-44f8-b88d-04fe860fe407\" xlink:actuate=\"onRequest\" xlink:href=\"psysml:cfc90439-05ae-44f8-b88d-04fe860fe407\" xlink:show=\"new\" xlink:title=\"psysml:cfc90439-05ae-44f8-b88d-04fe860fe407\" xlink:type=\"simple\"><rect fill=\"#FFFFFF\" height=\"75.5469\" id=\"E12\" rx=\"10\" ry=\"10\" style=\"stroke: #383838; stroke-width: 1.5;\" width=\"90\" x=\"35\" y=\"367\"/><text fill=\"#000000\" font-family=\"sans-serif\" font-size=\"12\" font-style=\"italic\" lengthAdjust=\"spacingAndGlyphs\" textLength=\"88\" x=\"36\" y=\"383.1387\">«send action»</text><text fill=\"#000000\" font-family=\"sans-serif\" font-size=\"12\" lengthAdjust=\"spacingAndGlyphs\" textLength=\"55\" x=\"52.5\" y=\"397.1074\">doAction</text><line style=\"stroke: #383838; stroke-width: 1.5;\" x1=\"36\" x2=\"124\" y1=\"404.9375\" y2=\"404.9375\"/><text fill=\"#000000\" font-family=\"sans-serif\" font-size=\"11\" lengthAdjust=\"spacingAndGlyphs\" textLength=\"25\" x=\"41\" y=\"435.9526\">item</text><line style=\"stroke: #383838; stroke-width: 1.0;\" x1=\"36\" x2=\"42.5\" y1=\"419.3398\" y2=\"419.3398\"/><text fill=\"#000000\" font-family=\"sans-serif\" font-size=\"11\" lengthAdjust=\"spacingAndGlyphs\" textLength=\"75\" x=\"42.5\" y=\"422.6479\">itemFeatures</text><line style=\"stroke: #383838; stroke-width: 1.0;\" x1=\"117.5\" x2=\"124\" y1=\"419.3398\" y2=\"419.3398\"/></a><!--MD5=[1f5f03483f7de0d5b3680a7f6650997f]\n",
       "reverse link E6 to E11--><a href=\"psysml:a085f23d-1115-47bd-987f-c38856471ed2\" target=\"_top\" title=\"psysml:a085f23d-1115-47bd-987f-c38856471ed2\" xlink:actuate=\"onRequest\" xlink:href=\"psysml:a085f23d-1115-47bd-987f-c38856471ed2\" xlink:show=\"new\" xlink:title=\"psysml:a085f23d-1115-47bd-987f-c38856471ed2\" xlink:type=\"simple\"><path d=\"M80,214.17 C80,231.58 80,248.25 80,260.82 \" fill=\"none\" id=\"E6&lt;-E11\" style=\"stroke: #383838; stroke-width: 1.0;\"/><polygon fill=\"#383838\" points=\"80,201.09,76.0066,207.0944,80.0132,213.09,84.0066,207.0856,80,201.09\" style=\"stroke: #383838; stroke-width: 1.0;\"/></a><!--MD5=[94adabc162ce7e41b39f13be14fbaeb3]\n",
       "reverse link E11 to E12--><a href=\"psysml:cfc90439-05ae-44f8-b88d-04fe860fe407\" target=\"_top\" title=\"psysml:cfc90439-05ae-44f8-b88d-04fe860fe407\" xlink:actuate=\"onRequest\" xlink:href=\"psysml:cfc90439-05ae-44f8-b88d-04fe860fe407\" xlink:show=\"new\" xlink:title=\"psysml:cfc90439-05ae-44f8-b88d-04fe860fe407\" xlink:type=\"simple\"><path d=\"M80,320.23 C80,334.82 80,351.76 80,366.58 \" fill=\"none\" id=\"E11&lt;-E12\" style=\"stroke: #383838; stroke-width: 1.0;\"/><polygon fill=\"#FFFFFF\" points=\"80,307.1,76,313.1,80,319.1,84,313.1,80,307.1\" style=\"stroke: #383838; stroke-width: 1.0;\"/></a><!--MD5=[16c397b647ad0d28affeef664607f30d]\n",
       "@startuml\r\n",
       " skinparam monochrome true\r\n",
       "skinparam classbackgroundcolor white\r\n",
       "skinparam shadowing false\r\n",
       "skinparam wrapWidth 300\r\n",
       "hide circle\r\n",
       "\r\n",
       "package \"StateTest\" as E1  [[psysml:5e99c5ac-660c-4bcd-ba7f-80dc44a07c9e ]]  {\r\n",
       "comp def \"Sig\" as E2  <<(T,blue)attribute def>> [[psysml:408e0494-0708-476d-85d5-333a69b53e96 ]] {\r\n",
       "- - attributes - -\r\n",
       "x\r\n",
       "}\r\n",
       "comp def \"Exit\" as E3  <<(T,blue)attribute def>> [[psysml:0109ef31-4e51-4de7-9ac0-eb82fbd89c67 ]] {\r\n",
       "}\r\n",
       "comp usage \"p\" as E4  <<(T,blue)part>> [[psysml:64a2c9fa-aa89-4eff-b01c-ff58906cbde0 ]] {\r\n",
       "}\r\n",
       "comp usage \"act\" as E5  <<(T,blue)action>> [[psysml:6519856a-88df-4cdc-a713-a9dddd16e281 ]] {\r\n",
       "}\r\n",
       "comp def \"S\" as E6  <<(T,blue)state def>> [[psysml:0bc7341d-f31b-4869-a064-1af20ff16fcc ]] {\r\n",
       "- - performActions - -\r\n",
       "act\r\n",
       "A\r\n",
       "B\r\n",
       "- - states - -\r\n",
       "S1\r\n",
       "- - transitions - -\r\n",
       "T\r\n",
       "}\r\n",
       "comp usage \"S2\" as E11  <<(T,blue)state>> [[psysml:a085f23d-1115-47bd-987f-c38856471ed2 ]] {\r\n",
       "}\r\n",
       "comp usage \"doAction\" as E12 <<send action>> [[psysml:cfc90439-05ae-44f8-b88d-04fe860fe407 ]] {\r\n",
       "- - itemFeatures - -\r\n",
       "item\r\n",
       "}\r\n",
       "E6 *- - E11 [[psysml:a085f23d-1115-47bd-987f-c38856471ed2 ]] \r\n",
       "E11 o- - E12 [[psysml:cfc90439-05ae-44f8-b88d-04fe860fe407 ]] \r\n",
       "}\r\n",
       "@enduml\r\n",
       "\n",
       "PlantUML version 1.2020.13(Sat Jun 13 12:26:38 UTC 2020)\n",
       "(EPL source distribution)\n",
       "Java Runtime: OpenJDK Runtime Environment\n",
       "JVM: OpenJDK 64-Bit Server VM\n",
       "Default Encoding: UTF-8\n",
       "Language: en\n",
       "Country: null\n",
       "--></g></svg>"
      ]
     },
     "execution_count": 3,
     "metadata": {},
     "output_type": "execute_result"
    }
   ],
   "source": [
    "%viz --style=\"COMPTREE\" --view=\"Tree\" \"StateTest\""
   ]
  },
  {
   "cell_type": "code",
   "execution_count": 4,
   "id": "patient-intersection",
   "metadata": {
    "execution": {
     "iopub.execute_input": "2021-03-26T13:02:44.054214Z",
     "iopub.status.busy": "2021-03-26T13:02:44.053765Z",
     "iopub.status.idle": "2021-03-26T13:02:44.110888Z",
     "shell.execute_reply": "2021-03-26T13:02:44.111290Z"
    }
   },
   "outputs": [
    {
     "data": {
      "image/svg+xml": [
       "<?xml version=\"1.0\" encoding=\"UTF-8\" standalone=\"no\"?><svg xmlns=\"http://www.w3.org/2000/svg\" xmlns:xlink=\"http://www.w3.org/1999/xlink\" contentScriptType=\"application/ecmascript\" contentStyleType=\"text/css\" height=\"475px\" preserveAspectRatio=\"none\" style=\"width:346px;height:475px;\" version=\"1.1\" viewBox=\"0 0 346 475\" width=\"346px\" zoomAndPan=\"magnify\"><defs/><g><!--MD5=[fbc87193dbaf4d95561dea2c320d4a47]\n",
       "cluster E1--><a href=\"psysml:0bc7341d-f31b-4869-a064-1af20ff16fcc\" target=\"_top\" title=\"psysml:0bc7341d-f31b-4869-a064-1af20ff16fcc\" xlink:actuate=\"onRequest\" xlink:href=\"psysml:0bc7341d-f31b-4869-a064-1af20ff16fcc\" xlink:show=\"new\" xlink:title=\"psysml:0bc7341d-f31b-4869-a064-1af20ff16fcc\" xlink:type=\"simple\"><rect fill=\"#FFFFFF\" height=\"457\" id=\"E1\" style=\"stroke: #383838; stroke-width: 1.5;\" width=\"327\" x=\"7\" y=\"7\"/><rect fill=\"#F8F8F8\" height=\"37.9375\" style=\"stroke: #383838; stroke-width: 1.5;\" width=\"327\" x=\"7\" y=\"7\"/><text fill=\"#000000\" font-family=\"sans-serif\" font-size=\"12\" font-style=\"italic\" lengthAdjust=\"spacingAndGlyphs\" textLength=\"71\" x=\"135\" y=\"23.1387\">«state def»</text><text fill=\"#000000\" font-family=\"sans-serif\" font-size=\"12\" lengthAdjust=\"spacingAndGlyphs\" textLength=\"8\" x=\"166.5\" y=\"37.1074\">S</text><line style=\"stroke: #383838; stroke-width: 1.0;\" x1=\"7\" x2=\"334\" y1=\"90.8438\" y2=\"90.8438\"/><text fill=\"#000000\" font-family=\"sans-serif\" font-size=\"12\" font-weight=\"bold\" lengthAdjust=\"spacingAndGlyphs\" textLength=\"38\" x=\"12\" y=\"58.0762\">entry</text><text fill=\"#000000\" font-family=\"sans-serif\" font-size=\"12\" lengthAdjust=\"spacingAndGlyphs\" textLength=\"16\" x=\"50\" y=\"58.0762\">/ A</text><text fill=\"#000000\" font-family=\"sans-serif\" font-size=\"12\" font-weight=\"bold\" lengthAdjust=\"spacingAndGlyphs\" textLength=\"18\" x=\"12\" y=\"72.0449\">do</text><text fill=\"#000000\" font-family=\"sans-serif\" font-size=\"12\" lengthAdjust=\"spacingAndGlyphs\" textLength=\"16\" x=\"30\" y=\"72.0449\">/ B</text><text fill=\"#000000\" font-family=\"sans-serif\" font-size=\"12\" font-weight=\"bold\" lengthAdjust=\"spacingAndGlyphs\" textLength=\"26\" x=\"12\" y=\"86.0137\">exit</text><text fill=\"#000000\" font-family=\"sans-serif\" font-size=\"12\" lengthAdjust=\"spacingAndGlyphs\" textLength=\"28\" x=\"38\" y=\"86.0137\">/ act</text></a><ellipse cx=\"119\" cy=\"115\" fill=\"#000000\" rx=\"10\" ry=\"10\" style=\"stroke: none; stroke-width: 1.0;\"/><ellipse cx=\"119\" cy=\"438\" fill=\"none\" rx=\"10\" ry=\"10\" style=\"stroke: #000000; stroke-width: 1.0;\"/><ellipse cx=\"119.5\" cy=\"438.5\" fill=\"#000000\" rx=\"6\" ry=\"6\" style=\"stroke: none; stroke-width: 1.0;\"/><g id=\"E1.E2\"><a href=\"psysml:70242e19-3f56-46b0-b4b5-fd0d440c29ee\" target=\"_top\" title=\"psysml:70242e19-3f56-46b0-b4b5-fd0d440c29ee\" xlink:actuate=\"onRequest\" xlink:href=\"psysml:70242e19-3f56-46b0-b4b5-fd0d440c29ee\" xlink:show=\"new\" xlink:title=\"psysml:70242e19-3f56-46b0-b4b5-fd0d440c29ee\" xlink:type=\"simple\"><rect fill=\"#FFFFFF\" height=\"40\" id=\"E2\" rx=\"10\" ry=\"10\" style=\"stroke: #383838; stroke-width: 1.5;\" width=\"50\" x=\"94\" y=\"186\"/><rect fill=\"#F8F8F8\" height=\"23.9688\" rx=\"10\" ry=\"10\" style=\"stroke: #F8F8F8; stroke-width: 1.5;\" width=\"50\" x=\"94\" y=\"186\"/><rect fill=\"#F8F8F8\" height=\"10\" style=\"stroke: #F8F8F8; stroke-width: 1.5;\" width=\"50\" x=\"94\" y=\"199.9688\"/><rect fill=\"none\" height=\"40\" id=\"E2\" rx=\"10\" ry=\"10\" style=\"stroke: #383838; stroke-width: 1.5;\" width=\"50\" x=\"94\" y=\"186\"/><text fill=\"#000000\" font-family=\"sans-serif\" font-size=\"12\" lengthAdjust=\"spacingAndGlyphs\" textLength=\"16\" x=\"111\" y=\"202.1387\">S1</text></a></g><g id=\"E1.E3\"><a href=\"psysml:a085f23d-1115-47bd-987f-c38856471ed2\" target=\"_top\" title=\"psysml:a085f23d-1115-47bd-987f-c38856471ed2\" xlink:actuate=\"onRequest\" xlink:href=\"psysml:a085f23d-1115-47bd-987f-c38856471ed2\" xlink:show=\"new\" xlink:title=\"psysml:a085f23d-1115-47bd-987f-c38856471ed2\" xlink:type=\"simple\"><rect fill=\"#FFFFFF\" height=\"47.9375\" id=\"E3\" rx=\"10\" ry=\"10\" style=\"stroke: #383838; stroke-width: 1.5;\" width=\"50\" x=\"94\" y=\"303\"/><rect fill=\"#F8F8F8\" height=\"23.9688\" rx=\"10\" ry=\"10\" style=\"stroke: #F8F8F8; stroke-width: 1.5;\" width=\"50\" x=\"94\" y=\"303\"/><rect fill=\"#F8F8F8\" height=\"10\" style=\"stroke: #F8F8F8; stroke-width: 1.5;\" width=\"50\" x=\"94\" y=\"316.9688\"/><rect fill=\"none\" height=\"47.9375\" id=\"E3\" rx=\"10\" ry=\"10\" style=\"stroke: #383838; stroke-width: 1.5;\" width=\"50\" x=\"94\" y=\"303\"/><text fill=\"#000000\" font-family=\"sans-serif\" font-size=\"12\" lengthAdjust=\"spacingAndGlyphs\" textLength=\"16\" x=\"111\" y=\"319.1387\">S2</text><line style=\"stroke: #383838; stroke-width: 1.0;\" x1=\"94\" x2=\"144\" y1=\"326.9688\" y2=\"326.9688\"/><text fill=\"#000000\" font-family=\"sans-serif\" font-size=\"12\" font-weight=\"bold\" lengthAdjust=\"spacingAndGlyphs\" textLength=\"18\" x=\"99\" y=\"340.1074\">do</text><text fill=\"#000000\" font-family=\"sans-serif\" font-size=\"12\" lengthAdjust=\"spacingAndGlyphs\" textLength=\"4\" x=\"117\" y=\"340.1074\">/</text></a></g><!--MD5=[cff944eb183b832d446717a4e202d613]\n",
       "link *start*E1 to E2--><a href=\"psysml:43d9c4f9-ed20-4c00-a0b0-be6dc49a6894\" target=\"_top\" title=\"psysml:43d9c4f9-ed20-4c00-a0b0-be6dc49a6894\" xlink:actuate=\"onRequest\" xlink:href=\"psysml:43d9c4f9-ed20-4c00-a0b0-be6dc49a6894\" xlink:show=\"new\" xlink:title=\"psysml:43d9c4f9-ed20-4c00-a0b0-be6dc49a6894\" xlink:type=\"simple\"><path d=\"M119,125.19 C119,138.18 119,162.38 119,180.73 \" fill=\"none\" id=\"*start*E1-&gt;E2\" style=\"stroke: #383838; stroke-width: 1.0;\"/><polygon fill=\"#383838\" points=\"119,185.74,123,176.74,119,180.74,115,176.74,119,185.74\" style=\"stroke: #383838; stroke-width: 1.0;\"/></a><!--MD5=[9ee7afa76ca8c509b3d216624c3a9893]\n",
       "link E3 to *end*E1--><a href=\"psysml:f955b7ee-57f2-4e8a-b602-a443c9a31c83\" target=\"_top\" title=\"psysml:f955b7ee-57f2-4e8a-b602-a443c9a31c83\" xlink:actuate=\"onRequest\" xlink:href=\"psysml:f955b7ee-57f2-4e8a-b602-a443c9a31c83\" xlink:show=\"new\" xlink:title=\"psysml:f955b7ee-57f2-4e8a-b602-a443c9a31c83\" xlink:type=\"simple\"><path d=\"M119,351.12 C119,372.75 119,404.39 119,422.62 \" fill=\"none\" id=\"E3-&gt;*end*E1\" style=\"stroke: #383838; stroke-width: 1.0;\"/><polygon fill=\"#383838\" points=\"119,427.82,123,418.82,119,422.82,115,418.82,119,427.82\" style=\"stroke: #383838; stroke-width: 1.0;\"/><text fill=\"#000000\" font-family=\"sans-serif\" font-size=\"13\" lengthAdjust=\"spacingAndGlyphs\" textLength=\"23\" x=\"120\" y=\"394.0669\">Exit</text></a><!--MD5=[2720a5a1f2c3fca2055b230370638851]\n",
       "link E2 to E3--><a href=\"psysml:d37fdc60-36d2-41f0-83fe-622a63ffc619\" target=\"_top\" title=\"psysml:d37fdc60-36d2-41f0-83fe-622a63ffc619\" xlink:actuate=\"onRequest\" xlink:href=\"psysml:d37fdc60-36d2-41f0-83fe-622a63ffc619\" xlink:show=\"new\" xlink:title=\"psysml:d37fdc60-36d2-41f0-83fe-622a63ffc619\" xlink:type=\"simple\"><path d=\"M93.93,218.88 C79.69,227.12 63.12,239.56 55,256 C44.11,278.05 67.72,298.2 89.27,311.16 \" fill=\"none\" id=\"E2-&gt;E3\" style=\"stroke: #383838; stroke-width: 1.0;\"/><polygon fill=\"#383838\" points=\"93.83,313.82,88.0682,305.8324,89.5101,311.3024,84.0401,312.7443,93.83,313.82\" style=\"stroke: #383838; stroke-width: 1.0;\"/><text fill=\"#000000\" font-family=\"sans-serif\" font-size=\"13\" lengthAdjust=\"spacingAndGlyphs\" textLength=\"81\" x=\"56\" y=\"269.0669\">Sig /action D</text></a><!--MD5=[05d275557350bfb9b23a4ef7222b4c39]\n",
       "link E3 to E2--><a href=\"psysml:b2ce6d4b-1a56-4d0e-ade4-ffb9136266c2\" target=\"_top\" title=\"psysml:b2ce6d4b-1a56-4d0e-ade4-ffb9136266c2\" xlink:actuate=\"onRequest\" xlink:href=\"psysml:b2ce6d4b-1a56-4d0e-ade4-ffb9136266c2\" xlink:show=\"new\" xlink:title=\"psysml:b2ce6d4b-1a56-4d0e-ade4-ffb9136266c2\" xlink:type=\"simple\"><path d=\"M133.17,302.99 C139.81,289.48 145.56,271.98 142,256 C140.1,247.49 136.56,238.72 132.82,230.99 \" fill=\"none\" id=\"E3-&gt;E2\" style=\"stroke: #383838; stroke-width: 1.0;\"/><polygon fill=\"#383838\" points=\"130.47,226.32,130.9298,236.1581,132.7118,230.7893,138.0806,232.5713,130.47,226.32\" style=\"stroke: #383838; stroke-width: 1.0;\"/><text fill=\"#000000\" font-family=\"sans-serif\" font-size=\"13\" lengthAdjust=\"spacingAndGlyphs\" textLength=\"135\" x=\"144\" y=\"269.0669\">Sig [true]/send s to p</text></a><!--MD5=[8a812ce1f27c9bd2251c2671a1e13531]\n",
       "@startuml\r\n",
       " skinparam monochrome true\r\n",
       "skinparam classbackgroundcolor white\r\n",
       "skinparam shadowing false\r\n",
       "skinparam wrapWidth 300\r\n",
       "hide circle\r\n",
       "\r\n",
       "rec def \"S\" as E1  <<(T,blue)state def>> [[psysml:0bc7341d-f31b-4869-a064-1af20ff16fcc ]] {\r\n",
       "rec usage \"S1\" as E2 [[psysml:70242e19-3f56-46b0-b4b5-fd0d440c29ee ]] {\r\n",
       "}\r\n",
       "\r\n",
       "rec usage \"S2\" as E3 [[psysml:a085f23d-1115-47bd-987f-c38856471ed2 ]] {\r\n",
       "desc \"S2\" as E3  : **do**/ \r\n",
       "}\r\n",
       "\r\n",
       "[*] - -> E2 [[psysml:43d9c4f9-ed20-4c00-a0b0-be6dc49a6894 ]] \r\n",
       "E3  - -> [*] [[psysml:f955b7ee-57f2-4e8a-b602-a443c9a31c83 ]] : Exit \r\n",
       "desc \"S\" as E1  : **entry**/ A\r\n",
       "desc \"S\" as E1  : **do**/ B\r\n",
       "desc \"S\" as E1  : **exit**/ act \r\n",
       "}\r\n",
       "\r\n",
       "E2  - -> E3 [[psysml:d37fdc60-36d2-41f0-83fe-622a63ffc619 ]] : Sig /action D\r\n",
       "E3  - -> E2 [[psysml:b2ce6d4b-1a56-4d0e-ade4-ffb9136266c2 ]] : Sig [true]/send s to p\r\n",
       "@enduml\r\n",
       "\n",
       "PlantUML version 1.2020.13(Sat Jun 13 12:26:38 UTC 2020)\n",
       "(EPL source distribution)\n",
       "Java Runtime: OpenJDK Runtime Environment\n",
       "JVM: OpenJDK 64-Bit Server VM\n",
       "Default Encoding: UTF-8\n",
       "Language: en\n",
       "Country: null\n",
       "--></g></svg>"
      ]
     },
     "execution_count": 4,
     "metadata": {},
     "output_type": "execute_result"
    }
   ],
   "source": [
    "%viz --style=\"COMPTREE\" --view=\"State\" \"StateTest\""
   ]
  },
  {
   "cell_type": "code",
   "execution_count": 5,
   "id": "oriented-airline",
   "metadata": {
    "execution": {
     "iopub.execute_input": "2021-03-26T13:02:44.162614Z",
     "iopub.status.busy": "2021-03-26T13:02:44.162217Z",
     "iopub.status.idle": "2021-03-26T13:02:44.208612Z",
     "shell.execute_reply": "2021-03-26T13:02:44.207777Z"
    }
   },
   "outputs": [
    {
     "data": {
      "image/svg+xml": [
       "<?xml version=\"1.0\" encoding=\"UTF-8\" standalone=\"no\"?><svg xmlns=\"http://www.w3.org/2000/svg\" xmlns:xlink=\"http://www.w3.org/1999/xlink\" contentScriptType=\"application/ecmascript\" contentStyleType=\"text/css\" height=\"112px\" preserveAspectRatio=\"none\" style=\"width:598px;height:112px;\" version=\"1.1\" viewBox=\"0 0 598 112\" width=\"598px\" zoomAndPan=\"magnify\"><defs/><g><!--MD5=[fbc87193dbaf4d95561dea2c320d4a47]\n",
       "cluster E1--><a href=\"psysml:5e99c5ac-660c-4bcd-ba7f-80dc44a07c9e\" target=\"_top\" title=\"psysml:5e99c5ac-660c-4bcd-ba7f-80dc44a07c9e\" xlink:actuate=\"onRequest\" xlink:href=\"psysml:5e99c5ac-660c-4bcd-ba7f-80dc44a07c9e\" xlink:show=\"new\" xlink:title=\"psysml:5e99c5ac-660c-4bcd-ba7f-80dc44a07c9e\" xlink:type=\"simple\"><polygon fill=\"#FFFFFF\" points=\"16,6,98,6,105,28.2969,576,28.2969,576,100,16,100,16,6\" style=\"stroke: #000000; stroke-width: 1.5;\"/><line style=\"stroke: #000000; stroke-width: 1.5;\" x1=\"16\" x2=\"105\" y1=\"28.2969\" y2=\"28.2969\"/><text fill=\"#000000\" font-family=\"sans-serif\" font-size=\"14\" font-weight=\"bold\" lengthAdjust=\"spacingAndGlyphs\" textLength=\"76\" x=\"20\" y=\"20.9951\">StateTest</text></a><g id=\"E1.E2\"><a href=\"psysml:408e0494-0708-476d-85d5-333a69b53e96\" target=\"_top\" title=\"psysml:408e0494-0708-476d-85d5-333a69b53e96\" xlink:actuate=\"onRequest\" xlink:href=\"psysml:408e0494-0708-476d-85d5-333a69b53e96\" xlink:show=\"new\" xlink:title=\"psysml:408e0494-0708-476d-85d5-333a69b53e96\" xlink:type=\"simple\"><rect fill=\"#FFFFFF\" height=\"42.9375\" id=\"E2\" style=\"stroke: #383838; stroke-width: 1.5;\" width=\"100\" x=\"460\" y=\"41\"/><rect fill=\"#F8F8F8\" height=\"37.9375\" style=\"stroke: #383838; stroke-width: 1.5;\" width=\"100\" x=\"460\" y=\"41\"/><text fill=\"#000000\" font-family=\"sans-serif\" font-size=\"12\" font-style=\"italic\" lengthAdjust=\"spacingAndGlyphs\" textLength=\"93\" x=\"463.5\" y=\"57.1387\">«attribute def»</text><text fill=\"#000000\" font-family=\"sans-serif\" font-size=\"12\" lengthAdjust=\"spacingAndGlyphs\" textLength=\"19\" x=\"500.5\" y=\"71.1074\">Sig</text></a></g><g id=\"E1.E3\"><a href=\"psysml:0109ef31-4e51-4de7-9ac0-eb82fbd89c67\" target=\"_top\" title=\"psysml:0109ef31-4e51-4de7-9ac0-eb82fbd89c67\" xlink:actuate=\"onRequest\" xlink:href=\"psysml:0109ef31-4e51-4de7-9ac0-eb82fbd89c67\" xlink:show=\"new\" xlink:title=\"psysml:0109ef31-4e51-4de7-9ac0-eb82fbd89c67\" xlink:type=\"simple\"><rect fill=\"#FFFFFF\" height=\"42.9375\" id=\"E3\" style=\"stroke: #383838; stroke-width: 1.5;\" width=\"100\" x=\"325\" y=\"41\"/><rect fill=\"#F8F8F8\" height=\"37.9375\" style=\"stroke: #383838; stroke-width: 1.5;\" width=\"100\" x=\"325\" y=\"41\"/><text fill=\"#000000\" font-family=\"sans-serif\" font-size=\"12\" font-style=\"italic\" lengthAdjust=\"spacingAndGlyphs\" textLength=\"93\" x=\"328.5\" y=\"57.1387\">«attribute def»</text><text fill=\"#000000\" font-family=\"sans-serif\" font-size=\"12\" lengthAdjust=\"spacingAndGlyphs\" textLength=\"22\" x=\"364\" y=\"71.1074\">Exit</text></a></g><g id=\"E1.E6\"><a href=\"psysml:0bc7341d-f31b-4869-a064-1af20ff16fcc\" target=\"_top\" title=\"psysml:0bc7341d-f31b-4869-a064-1af20ff16fcc\" xlink:actuate=\"onRequest\" xlink:href=\"psysml:0bc7341d-f31b-4869-a064-1af20ff16fcc\" xlink:show=\"new\" xlink:title=\"psysml:0bc7341d-f31b-4869-a064-1af20ff16fcc\" xlink:type=\"simple\"><rect fill=\"#FFFFFF\" height=\"42.9375\" id=\"E6\" style=\"stroke: #383838; stroke-width: 1.5;\" width=\"78\" x=\"212\" y=\"41\"/><rect fill=\"#F8F8F8\" height=\"37.9375\" style=\"stroke: #383838; stroke-width: 1.5;\" width=\"78\" x=\"212\" y=\"41\"/><text fill=\"#000000\" font-family=\"sans-serif\" font-size=\"12\" font-style=\"italic\" lengthAdjust=\"spacingAndGlyphs\" textLength=\"71\" x=\"215.5\" y=\"57.1387\">«state def»</text><text fill=\"#000000\" font-family=\"sans-serif\" font-size=\"12\" lengthAdjust=\"spacingAndGlyphs\" textLength=\"8\" x=\"247\" y=\"71.1074\">S</text></a></g><g id=\"E1.E4\"><a href=\"psysml:64a2c9fa-aa89-4eff-b01c-ff58906cbde0\" target=\"_top\" title=\"psysml:64a2c9fa-aa89-4eff-b01c-ff58906cbde0\" xlink:actuate=\"onRequest\" xlink:href=\"psysml:64a2c9fa-aa89-4eff-b01c-ff58906cbde0\" xlink:show=\"new\" xlink:title=\"psysml:64a2c9fa-aa89-4eff-b01c-ff58906cbde0\" xlink:type=\"simple\"><rect fill=\"#FFFFFF\" height=\"40\" id=\"E4\" rx=\"10\" ry=\"10\" style=\"stroke: #383838; stroke-width: 1.5;\" width=\"50\" x=\"127\" y=\"42.5\"/><rect fill=\"#F8F8F8\" height=\"23.9688\" rx=\"10\" ry=\"10\" style=\"stroke: #F8F8F8; stroke-width: 1.5;\" width=\"50\" x=\"127\" y=\"42.5\"/><rect fill=\"#F8F8F8\" height=\"10\" style=\"stroke: #F8F8F8; stroke-width: 1.5;\" width=\"50\" x=\"127\" y=\"56.4688\"/><rect fill=\"none\" height=\"40\" id=\"E4\" rx=\"10\" ry=\"10\" style=\"stroke: #383838; stroke-width: 1.5;\" width=\"50\" x=\"127\" y=\"42.5\"/><text fill=\"#000000\" font-family=\"sans-serif\" font-size=\"12\" lengthAdjust=\"spacingAndGlyphs\" textLength=\"8\" x=\"148\" y=\"58.6387\">p</text></a></g><g id=\"E1.E5\"><a href=\"psysml:6519856a-88df-4cdc-a713-a9dddd16e281\" target=\"_top\" title=\"psysml:6519856a-88df-4cdc-a713-a9dddd16e281\" xlink:actuate=\"onRequest\" xlink:href=\"psysml:6519856a-88df-4cdc-a713-a9dddd16e281\" xlink:show=\"new\" xlink:title=\"psysml:6519856a-88df-4cdc-a713-a9dddd16e281\" xlink:type=\"simple\"><rect fill=\"#FFFFFF\" height=\"42.9375\" id=\"E5\" rx=\"10\" ry=\"10\" style=\"stroke: #383838; stroke-width: 1.5;\" width=\"60\" x=\"32\" y=\"41\"/><rect fill=\"#F8F8F8\" height=\"37.9375\" rx=\"10\" ry=\"10\" style=\"stroke: #F8F8F8; stroke-width: 1.5;\" width=\"60\" x=\"32\" y=\"41\"/><rect fill=\"#F8F8F8\" height=\"10\" style=\"stroke: #F8F8F8; stroke-width: 1.5;\" width=\"60\" x=\"32\" y=\"68.9375\"/><rect fill=\"none\" height=\"42.9375\" id=\"E5\" rx=\"10\" ry=\"10\" style=\"stroke: #383838; stroke-width: 1.5;\" width=\"60\" x=\"32\" y=\"41\"/><text fill=\"#000000\" font-family=\"sans-serif\" font-size=\"12\" font-style=\"italic\" lengthAdjust=\"spacingAndGlyphs\" textLength=\"53\" x=\"35.5\" y=\"57.1387\">«action»</text><text fill=\"#000000\" font-family=\"sans-serif\" font-size=\"12\" lengthAdjust=\"spacingAndGlyphs\" textLength=\"20\" x=\"52\" y=\"71.1074\">act</text></a></g><!--MD5=[6bcd3ca52dd1df5fe1b191e0ebc2a3c1]\n",
       "@startuml\r\n",
       "skinparam ranksep 8\r\n",
       "skinparam rectangle {\r\n",
       " backgroundColor<<block>> LightGreen\r\n",
       "}\r\n",
       " skinparam monochrome true\r\n",
       "skinparam classbackgroundcolor white\r\n",
       "skinparam shadowing false\r\n",
       "skinparam wrapWidth 300\r\n",
       "hide circle\r\n",
       "\r\n",
       "package \"StateTest\" as E1  [[psysml:5e99c5ac-660c-4bcd-ba7f-80dc44a07c9e ]]  {\r\n",
       "def \"Sig\" as E2  <<(T,blue)attribute def>> [[psysml:408e0494-0708-476d-85d5-333a69b53e96 ]] \r\n",
       "def \"Exit\" as E3  <<(T,blue)attribute def>> [[psysml:0109ef31-4e51-4de7-9ac0-eb82fbd89c67 ]] \r\n",
       "rec usage \"p\" as E4  [[psysml:64a2c9fa-aa89-4eff-b01c-ff58906cbde0 ]] {\r\n",
       "}\r\n",
       "rec usage \"act\" as E5  <<(T,blue)action>> [[psysml:6519856a-88df-4cdc-a713-a9dddd16e281 ]] {\r\n",
       "}\r\n",
       "def \"S\" as E6  <<(T,blue)state def>> [[psysml:0bc7341d-f31b-4869-a064-1af20ff16fcc ]] \r\n",
       "}\r\n",
       "@enduml\r\n",
       "\n",
       "PlantUML version 1.2020.13(Sat Jun 13 12:26:38 UTC 2020)\n",
       "(EPL source distribution)\n",
       "Java Runtime: OpenJDK Runtime Environment\n",
       "JVM: OpenJDK 64-Bit Server VM\n",
       "Default Encoding: UTF-8\n",
       "Language: en\n",
       "Country: null\n",
       "--></g></svg>"
      ]
     },
     "execution_count": 5,
     "metadata": {},
     "output_type": "execute_result"
    }
   ],
   "source": [
    "%viz --style=\"COMPTREE\" --view=\"Interconnection\" \"StateTest\""
   ]
  },
  {
   "cell_type": "code",
   "execution_count": 6,
   "id": "still-amber",
   "metadata": {
    "execution": {
     "iopub.execute_input": "2021-03-26T13:02:44.265425Z",
     "iopub.status.busy": "2021-03-26T13:02:44.264133Z",
     "iopub.status.idle": "2021-03-26T13:02:44.353960Z",
     "shell.execute_reply": "2021-03-26T13:02:44.352612Z"
    }
   },
   "outputs": [
    {
     "data": {
      "image/svg+xml": [
       "<?xml version=\"1.0\" encoding=\"UTF-8\" standalone=\"no\"?><svg xmlns=\"http://www.w3.org/2000/svg\" xmlns:xlink=\"http://www.w3.org/1999/xlink\" contentScriptType=\"application/ecmascript\" contentStyleType=\"text/css\" height=\"467px\" preserveAspectRatio=\"none\" style=\"width:796px;height:467px;background:#000000;\" version=\"1.1\" viewBox=\"0 0 796 467\" width=\"796px\" zoomAndPan=\"magnify\"><defs/><g><rect fill=\"#031D1D\" height=\"1\" style=\"stroke: #031D1D; stroke-width: 1.0;\" width=\"1\" x=\"0\" y=\"0\"/><rect fill=\"#33FF02\" height=\"21.2969\" style=\"stroke: #33FF02; stroke-width: 1.0;\" width=\"789\" x=\"5\" y=\"5\"/><text fill=\"#000000\" font-family=\"sans-serif\" font-size=\"14\" font-weight=\"bold\" lengthAdjust=\"spacingAndGlyphs\" textLength=\"178\" x=\"6\" y=\"20\">[From string (line 25) ]</text><text fill=\"#33FF02\" font-family=\"sans-serif\" font-size=\"14\" font-weight=\"bold\" lengthAdjust=\"spacingAndGlyphs\" textLength=\"0\" x=\"10\" y=\"40.2969\"/><text fill=\"#33FF02\" font-family=\"sans-serif\" font-size=\"14\" font-weight=\"bold\" lengthAdjust=\"spacingAndGlyphs\" textLength=\"79\" x=\"5\" y=\"56.5938\">@startuml</text><text fill=\"#33FF02\" font-family=\"sans-serif\" font-size=\"14\" font-weight=\"bold\" lengthAdjust=\"spacingAndGlyphs\" textLength=\"165\" x=\"5\" y=\"72.8906\">skinparam ranksep 8</text><text fill=\"#33FF02\" font-family=\"sans-serif\" font-size=\"14\" font-weight=\"bold\" lengthAdjust=\"spacingAndGlyphs\" textLength=\"228\" x=\"10\" y=\"89.1875\">skinparam monochrome true</text><text fill=\"#33FF02\" font-family=\"sans-serif\" font-size=\"14\" font-weight=\"bold\" lengthAdjust=\"spacingAndGlyphs\" textLength=\"309\" x=\"5\" y=\"105.4844\">skinparam classbackgroundcolor white</text><text fill=\"#33FF02\" font-family=\"sans-serif\" font-size=\"14\" font-weight=\"bold\" lengthAdjust=\"spacingAndGlyphs\" textLength=\"215\" x=\"5\" y=\"121.7813\">skinparam shadowing false</text><text fill=\"#33FF02\" font-family=\"sans-serif\" font-size=\"14\" font-weight=\"bold\" lengthAdjust=\"spacingAndGlyphs\" textLength=\"206\" x=\"5\" y=\"138.0781\">skinparam wrapWidth 300</text><text fill=\"#33FF02\" font-family=\"sans-serif\" font-size=\"14\" font-weight=\"bold\" lengthAdjust=\"spacingAndGlyphs\" textLength=\"82\" x=\"5\" y=\"154.375\">hide circle</text><text fill=\"#33FF02\" font-family=\"sans-serif\" font-size=\"14\" font-weight=\"bold\" lengthAdjust=\"spacingAndGlyphs\" textLength=\"0\" x=\"10\" y=\"170.6719\"/><text fill=\"#33FF02\" font-family=\"sans-serif\" font-size=\"14\" font-weight=\"bold\" lengthAdjust=\"spacingAndGlyphs\" textLength=\"781\" x=\"5\" y=\"186.9688\">rec usage \"act\" as E1  &lt;&lt;(T,blue)action&gt;&gt; [[psysml:6519856a-88df-4cdc-a713-a9dddd16e281 ]] {</text><text fill=\"#33FF02\" font-family=\"sans-serif\" font-size=\"14\" font-weight=\"bold\" lengthAdjust=\"spacingAndGlyphs\" textLength=\"10\" x=\"5\" y=\"203.2656\">}</text><text fill=\"#33FF02\" font-family=\"sans-serif\" font-size=\"14\" font-weight=\"bold\" lengthAdjust=\"spacingAndGlyphs\" textLength=\"0\" x=\"10\" y=\"219.5625\"/><text fill=\"#33FF02\" font-family=\"sans-serif\" font-size=\"14\" font-weight=\"bold\" lengthAdjust=\"spacingAndGlyphs\" textLength=\"752\" x=\"5\" y=\"235.8594\">rec def \"S\" as E2  &lt;&lt;(T,blue)state def&gt;&gt; [[psysml:0bc7341d-f31b-4869-a064-1af20ff16fcc ]] {</text><text fill=\"#33FF02\" font-family=\"sans-serif\" font-size=\"14\" font-weight=\"bold\" lengthAdjust=\"spacingAndGlyphs\" textLength=\"771\" x=\"5\" y=\"252.1563\">rec usage \"A\" as E3 &lt;&lt;perform action&gt;&gt; [[psysml:24ce981a-669a-4b1b-8e70-ec9679f168ba ]] {</text><text fill=\"#33FF02\" font-family=\"sans-serif\" font-size=\"14\" font-weight=\"bold\" lengthAdjust=\"spacingAndGlyphs\" textLength=\"10\" x=\"5\" y=\"268.4531\">}</text><text fill=\"#33FF02\" font-family=\"sans-serif\" font-size=\"14\" font-weight=\"bold\" lengthAdjust=\"spacingAndGlyphs\" textLength=\"0\" x=\"10\" y=\"284.75\"/><text fill=\"#33FF02\" font-family=\"sans-serif\" font-size=\"14\" font-weight=\"bold\" lengthAdjust=\"spacingAndGlyphs\" textLength=\"773\" x=\"5\" y=\"301.0469\">rec usage \"B\" as E4 &lt;&lt;perform action&gt;&gt; [[psysml:0cb81d18-66e4-4e05-a75e-b6d7358364f8 ]] {</text><text fill=\"#33FF02\" font-family=\"sans-serif\" font-size=\"14\" font-weight=\"bold\" lengthAdjust=\"spacingAndGlyphs\" textLength=\"10\" x=\"5\" y=\"317.3438\">}</text><text fill=\"#33FF02\" font-family=\"sans-serif\" font-size=\"14\" font-weight=\"bold\" lengthAdjust=\"spacingAndGlyphs\" textLength=\"0\" x=\"10\" y=\"333.6406\"/><text fill=\"#33FF02\" font-family=\"sans-serif\" font-size=\"14\" font-weight=\"bold\" lengthAdjust=\"spacingAndGlyphs\" textLength=\"789\" x=\"5\" y=\"349.9375\">rec usage \"act\" as E5 &lt;&lt;perform action&gt;&gt; [[psysml:3038242a-7c4d-4726-ae4e-c76791d4ee71 ]] {</text><text fill=\"#33FF02\" font-family=\"sans-serif\" font-size=\"14\" font-weight=\"bold\" lengthAdjust=\"spacingAndGlyphs\" textLength=\"10\" x=\"5\" y=\"366.2344\">}</text><text fill=\"#33FF02\" font-family=\"sans-serif\" font-size=\"14\" font-weight=\"bold\" lengthAdjust=\"spacingAndGlyphs\" textLength=\"0\" x=\"10\" y=\"382.5313\"/><text fill=\"#33FF02\" font-family=\"sans-serif\" font-size=\"14\" font-weight=\"bold\" lengthAdjust=\"spacingAndGlyphs\" textLength=\"769\" x=\"5\" y=\"398.8281\">rec usage \"S1\" as E6  &lt;&lt;(T,blue)state&gt;&gt; [[psysml:70242e19-3f56-46b0-b4b5-fd0d440c29ee ]] {</text><text fill=\"#33FF02\" font-family=\"sans-serif\" font-size=\"14\" font-weight=\"bold\" lengthAdjust=\"spacingAndGlyphs\" textLength=\"10\" x=\"5\" y=\"415.125\">}</text><text fill=\"#33FF02\" font-family=\"sans-serif\" font-size=\"14\" font-weight=\"bold\" lengthAdjust=\"spacingAndGlyphs\" textLength=\"0\" x=\"10\" y=\"431.4219\"/><text fill=\"#33FF02\" font-family=\"sans-serif\" font-size=\"14\" font-weight=\"bold\" lengthAdjust=\"spacingAndGlyphs\" textLength=\"10\" x=\"5\" y=\"447.7188\">{</text><text fill=\"#FF0000\" font-family=\"sans-serif\" font-size=\"14\" font-weight=\"bold\" lengthAdjust=\"spacingAndGlyphs\" textLength=\"106\" x=\"10\" y=\"464.0156\">Syntax Error?</text><!--MD5=[a746d4498b926acb20ef783af21a5871]\n",
       "@startuml\r\n",
       "skinparam ranksep 8\r\n",
       " skinparam monochrome true\r\n",
       "skinparam classbackgroundcolor white\r\n",
       "skinparam shadowing false\r\n",
       "skinparam wrapWidth 300\r\n",
       "hide circle\r\n",
       "\r\n",
       "rec usage \"act\" as E1  <<(T,blue)action>> [[psysml:6519856a-88df-4cdc-a713-a9dddd16e281 ]] {\r\n",
       "}\r\n",
       "\r\n",
       "rec def \"S\" as E2  <<(T,blue)state def>> [[psysml:0bc7341d-f31b-4869-a064-1af20ff16fcc ]] {\r\n",
       "rec usage \"A\" as E3 <<perform action>> [[psysml:24ce981a-669a-4b1b-8e70-ec9679f168ba ]] {\r\n",
       "}\r\n",
       "\r\n",
       "rec usage \"B\" as E4 <<perform action>> [[psysml:0cb81d18-66e4-4e05-a75e-b6d7358364f8 ]] {\r\n",
       "}\r\n",
       "\r\n",
       "rec usage \"act\" as E5 <<perform action>> [[psysml:3038242a-7c4d-4726-ae4e-c76791d4ee71 ]] {\r\n",
       "}\r\n",
       "\r\n",
       "rec usage \"S1\" as E6  <<(T,blue)state>> [[psysml:70242e19-3f56-46b0-b4b5-fd0d440c29ee ]] {\r\n",
       "}\r\n",
       "\r\n",
       "{\r\n",
       "{\r\n",
       "}\r\n",
       "\r\n",
       "rec usage \"D\" as E7 <<perform action>> [[psysml:9fa67b9a-f55b-4b6f-8c3c-7583e77a313e ]] {\r\n",
       "}\r\n",
       "\r\n",
       "}\r\n",
       "\r\n",
       "rec usage \"S2\" as E8  <<(T,blue)state>> [[psysml:a085f23d-1115-47bd-987f-c38856471ed2 ]] {\r\n",
       "rec usage \"doAction\" as E9 <<send action>> [[psysml:cfc90439-05ae-44f8-b88d-04fe860fe407 ]] {\r\n",
       "portin \"$x\" as E10  [[psysml:ae5b5913-d198-445b-b606-f76bd72ed7d9 ]] \r\n",
       "portout \"$result\" as E11  [[psysml:f2619e5d-ad00-4b4a-a4fe-7cd7945e1b82 ]] \r\n",
       "}\r\n",
       "\r\n",
       "}\r\n",
       "\r\n",
       "{\r\n",
       "{\r\n",
       "}\r\n",
       "\r\n",
       "}\r\n",
       "\r\n",
       "rec usage \"T\" as E12  <<(T,blue)transition>> [[psysml:b2ce6d4b-1a56-4d0e-ade4-ffb9136266c2 ]] {\r\n",
       "rec usage \"S2\" as E13  <<(T,blue)state>> [[psysml:a085f23d-1115-47bd-987f-c38856471ed2 ]] {\r\n",
       "rec usage \"doAction\" as E14 <<send action>> [[psysml:cfc90439-05ae-44f8-b88d-04fe860fe407 ]] {\r\n",
       "portin \"$x\" as E15  [[psysml:ae5b5913-d198-445b-b606-f76bd72ed7d9 ]] \r\n",
       "portout \"$result\" as E16  [[psysml:f2619e5d-ad00-4b4a-a4fe-7cd7945e1b82 ]] \r\n",
       "}\r\n",
       "\r\n",
       "}\r\n",
       "\r\n",
       "{\r\n",
       "}\r\n",
       "\r\n",
       "portout \"$result\" as E17  [[psysml:9abbd064-7570-4e45-a029-f7befd203c67 ]] \r\n",
       "{\r\n",
       "}\r\n",
       "\r\n",
       "}\r\n",
       "\r\n",
       "}\r\n",
       "\r\n",
       "@enduml\r\n",
       "\n",
       "PlantUML version 1.2020.13(Sat Jun 13 12:26:38 UTC 2020)\n",
       "(EPL source distribution)\n",
       "Java Runtime: OpenJDK Runtime Environment\n",
       "JVM: OpenJDK 64-Bit Server VM\n",
       "Default Encoding: UTF-8\n",
       "Language: en\n",
       "Country: null\n",
       "--></g></svg>"
      ]
     },
     "execution_count": 6,
     "metadata": {},
     "output_type": "execute_result"
    }
   ],
   "source": [
    "%viz --style=\"COMPTREE\" --view=\"Action\" \"StateTest\""
   ]
  },
  {
   "cell_type": "code",
   "execution_count": 7,
   "id": "minor-people",
   "metadata": {
    "execution": {
     "iopub.execute_input": "2021-03-26T13:02:44.403937Z",
     "iopub.status.busy": "2021-03-26T13:02:44.403545Z",
     "iopub.status.idle": "2021-03-26T13:02:44.543185Z",
     "shell.execute_reply": "2021-03-26T13:02:44.543526Z"
    }
   },
   "outputs": [
    {
     "data": {
      "image/svg+xml": [
       "<?xml version=\"1.0\" encoding=\"UTF-8\" standalone=\"no\"?><svg xmlns=\"http://www.w3.org/2000/svg\" xmlns:xlink=\"http://www.w3.org/1999/xlink\" contentScriptType=\"application/ecmascript\" contentStyleType=\"text/css\" height=\"471px\" preserveAspectRatio=\"none\" style=\"width:594px;height:471px;\" version=\"1.1\" viewBox=\"0 0 594 471\" width=\"594px\" zoomAndPan=\"magnify\"><defs/><g><!--MD5=[fbc87193dbaf4d95561dea2c320d4a47]\n",
       "cluster E1--><a href=\"psysml:5e99c5ac-660c-4bcd-ba7f-80dc44a07c9e\" target=\"_top\" title=\"psysml:5e99c5ac-660c-4bcd-ba7f-80dc44a07c9e\" xlink:actuate=\"onRequest\" xlink:href=\"psysml:5e99c5ac-660c-4bcd-ba7f-80dc44a07c9e\" xlink:show=\"new\" xlink:title=\"psysml:5e99c5ac-660c-4bcd-ba7f-80dc44a07c9e\" xlink:type=\"simple\"><polygon fill=\"#FFFFFF\" points=\"16,6,98,6,105,28.2969,572,28.2969,572,459,16,459,16,6\" style=\"stroke: #000000; stroke-width: 1.5;\"/><line style=\"stroke: #000000; stroke-width: 1.5;\" x1=\"16\" x2=\"105\" y1=\"28.2969\" y2=\"28.2969\"/><text fill=\"#000000\" font-family=\"sans-serif\" font-size=\"14\" font-weight=\"bold\" lengthAdjust=\"spacingAndGlyphs\" textLength=\"76\" x=\"20\" y=\"20.9951\">StateTest</text></a><!--MD5=[b4997ac47864f28c2f74865a473b2911]\n",
       "class E2--><a href=\"psysml:408e0494-0708-476d-85d5-333a69b53e96\" target=\"_top\" title=\"psysml:408e0494-0708-476d-85d5-333a69b53e96\" xlink:actuate=\"onRequest\" xlink:href=\"psysml:408e0494-0708-476d-85d5-333a69b53e96\" xlink:show=\"new\" xlink:title=\"psysml:408e0494-0708-476d-85d5-333a69b53e96\" xlink:type=\"simple\"><rect fill=\"#FFFFFF\" height=\"75.5469\" id=\"E2\" style=\"stroke: #383838; stroke-width: 1.5;\" width=\"95\" x=\"460.5\" y=\"83\"/><text fill=\"#000000\" font-family=\"sans-serif\" font-size=\"12\" font-style=\"italic\" lengthAdjust=\"spacingAndGlyphs\" textLength=\"93\" x=\"461.5\" y=\"99.1387\">«attribute def»</text><text fill=\"#000000\" font-family=\"sans-serif\" font-size=\"12\" lengthAdjust=\"spacingAndGlyphs\" textLength=\"19\" x=\"498.5\" y=\"113.1074\">Sig</text><line style=\"stroke: #383838; stroke-width: 1.5;\" x1=\"461.5\" x2=\"554.5\" y1=\"120.9375\" y2=\"120.9375\"/><text fill=\"#000000\" font-family=\"sans-serif\" font-size=\"11\" lengthAdjust=\"spacingAndGlyphs\" textLength=\"6\" x=\"466.5\" y=\"151.9526\">x</text><line style=\"stroke: #383838; stroke-width: 1.0;\" x1=\"461.5\" x2=\"480.5\" y1=\"135.3398\" y2=\"135.3398\"/><text fill=\"#000000\" font-family=\"sans-serif\" font-size=\"11\" lengthAdjust=\"spacingAndGlyphs\" textLength=\"55\" x=\"480.5\" y=\"138.6479\">attributes</text><line style=\"stroke: #383838; stroke-width: 1.0;\" x1=\"535.5\" x2=\"554.5\" y1=\"135.3398\" y2=\"135.3398\"/></a><!--MD5=[09b614a08d8cba4a07c9adeb5e0fee81]\n",
       "class E3--><a href=\"psysml:0109ef31-4e51-4de7-9ac0-eb82fbd89c67\" target=\"_top\" title=\"psysml:0109ef31-4e51-4de7-9ac0-eb82fbd89c67\" xlink:actuate=\"onRequest\" xlink:href=\"psysml:0109ef31-4e51-4de7-9ac0-eb82fbd89c67\" xlink:show=\"new\" xlink:title=\"psysml:0109ef31-4e51-4de7-9ac0-eb82fbd89c67\" xlink:type=\"simple\"><rect fill=\"#FFFFFF\" height=\"45.9375\" id=\"E3\" style=\"stroke: #383838; stroke-width: 1.5;\" width=\"95\" x=\"330.5\" y=\"98\"/><text fill=\"#000000\" font-family=\"sans-serif\" font-size=\"12\" font-style=\"italic\" lengthAdjust=\"spacingAndGlyphs\" textLength=\"93\" x=\"331.5\" y=\"114.1387\">«attribute def»</text><text fill=\"#000000\" font-family=\"sans-serif\" font-size=\"12\" lengthAdjust=\"spacingAndGlyphs\" textLength=\"22\" x=\"367\" y=\"128.1074\">Exit</text><line style=\"stroke: #383838; stroke-width: 1.5;\" x1=\"331.5\" x2=\"424.5\" y1=\"135.9375\" y2=\"135.9375\"/></a><!--MD5=[ebbe1d658d1005bcc118a6aa81145e00]\n",
       "class E4--><a href=\"psysml:64a2c9fa-aa89-4eff-b01c-ff58906cbde0\" target=\"_top\" title=\"psysml:64a2c9fa-aa89-4eff-b01c-ff58906cbde0\" xlink:actuate=\"onRequest\" xlink:href=\"psysml:64a2c9fa-aa89-4eff-b01c-ff58906cbde0\" xlink:show=\"new\" xlink:title=\"psysml:64a2c9fa-aa89-4eff-b01c-ff58906cbde0\" xlink:type=\"simple\"><rect fill=\"#FFFFFF\" height=\"45.9375\" id=\"E4\" rx=\"10\" ry=\"10\" style=\"stroke: #383838; stroke-width: 1.5;\" width=\"42\" x=\"253\" y=\"98\"/><text fill=\"#000000\" font-family=\"sans-serif\" font-size=\"12\" font-style=\"italic\" lengthAdjust=\"spacingAndGlyphs\" textLength=\"40\" x=\"254\" y=\"114.1387\">«part»</text><text fill=\"#000000\" font-family=\"sans-serif\" font-size=\"12\" lengthAdjust=\"spacingAndGlyphs\" textLength=\"8\" x=\"270\" y=\"128.1074\">p</text><line style=\"stroke: #383838; stroke-width: 1.5;\" x1=\"254\" x2=\"294\" y1=\"135.9375\" y2=\"135.9375\"/></a><!--MD5=[270fce915f116d4de14055a7c1d9a0f3]\n",
       "class E5--><a href=\"psysml:6519856a-88df-4cdc-a713-a9dddd16e281\" target=\"_top\" title=\"psysml:6519856a-88df-4cdc-a713-a9dddd16e281\" xlink:actuate=\"onRequest\" xlink:href=\"psysml:6519856a-88df-4cdc-a713-a9dddd16e281\" xlink:show=\"new\" xlink:title=\"psysml:6519856a-88df-4cdc-a713-a9dddd16e281\" xlink:type=\"simple\"><rect fill=\"#FFFFFF\" height=\"45.9375\" id=\"E5\" rx=\"10\" ry=\"10\" style=\"stroke: #383838; stroke-width: 1.5;\" width=\"55\" x=\"162.5\" y=\"98\"/><text fill=\"#000000\" font-family=\"sans-serif\" font-size=\"12\" font-style=\"italic\" lengthAdjust=\"spacingAndGlyphs\" textLength=\"53\" x=\"163.5\" y=\"114.1387\">«action»</text><text fill=\"#000000\" font-family=\"sans-serif\" font-size=\"12\" lengthAdjust=\"spacingAndGlyphs\" textLength=\"20\" x=\"180\" y=\"128.1074\">act</text><line style=\"stroke: #383838; stroke-width: 1.5;\" x1=\"163.5\" x2=\"216.5\" y1=\"135.9375\" y2=\"135.9375\"/></a><!--MD5=[60a26617385b1d2d0262a64233df1f8d]\n",
       "class E6--><a href=\"psysml:0bc7341d-f31b-4869-a064-1af20ff16fcc\" target=\"_top\" title=\"psysml:0bc7341d-f31b-4869-a064-1af20ff16fcc\" xlink:actuate=\"onRequest\" xlink:href=\"psysml:0bc7341d-f31b-4869-a064-1af20ff16fcc\" xlink:show=\"new\" xlink:title=\"psysml:0bc7341d-f31b-4869-a064-1af20ff16fcc\" xlink:type=\"simple\"><rect fill=\"#FFFFFF\" height=\"160.375\" id=\"E6\" style=\"stroke: #383838; stroke-width: 1.5;\" width=\"95\" x=\"32.5\" y=\"41\"/><text fill=\"#000000\" font-family=\"sans-serif\" font-size=\"12\" font-style=\"italic\" lengthAdjust=\"spacingAndGlyphs\" textLength=\"71\" x=\"44.5\" y=\"57.1387\">«state def»</text><text fill=\"#000000\" font-family=\"sans-serif\" font-size=\"12\" lengthAdjust=\"spacingAndGlyphs\" textLength=\"8\" x=\"76\" y=\"71.1074\">S</text><line style=\"stroke: #383838; stroke-width: 1.5;\" x1=\"33.5\" x2=\"126.5\" y1=\"78.9375\" y2=\"78.9375\"/><text fill=\"#000000\" font-family=\"sans-serif\" font-size=\"11\" lengthAdjust=\"spacingAndGlyphs\" textLength=\"17\" x=\"38.5\" y=\"109.9526\">act</text><text fill=\"#000000\" font-family=\"sans-serif\" font-size=\"11\" lengthAdjust=\"spacingAndGlyphs\" textLength=\"7\" x=\"38.5\" y=\"122.7573\">A</text><text fill=\"#000000\" font-family=\"sans-serif\" font-size=\"11\" lengthAdjust=\"spacingAndGlyphs\" textLength=\"8\" x=\"38.5\" y=\"135.562\">B</text><line style=\"stroke: #383838; stroke-width: 1.0;\" x1=\"33.5\" x2=\"36.5\" y1=\"93.3398\" y2=\"93.3398\"/><text fill=\"#000000\" font-family=\"sans-serif\" font-size=\"11\" lengthAdjust=\"spacingAndGlyphs\" textLength=\"87\" x=\"36.5\" y=\"96.6479\">performActions</text><line style=\"stroke: #383838; stroke-width: 1.0;\" x1=\"123.5\" x2=\"126.5\" y1=\"93.3398\" y2=\"93.3398\"/><text fill=\"#000000\" font-family=\"sans-serif\" font-size=\"11\" lengthAdjust=\"spacingAndGlyphs\" textLength=\"15\" x=\"38.5\" y=\"165.1714\">S1</text><line style=\"stroke: #383838; stroke-width: 1.0;\" x1=\"33.5\" x2=\"62\" y1=\"148.5586\" y2=\"148.5586\"/><text fill=\"#000000\" font-family=\"sans-serif\" font-size=\"11\" lengthAdjust=\"spacingAndGlyphs\" textLength=\"36\" x=\"62\" y=\"151.8667\">states</text><line style=\"stroke: #383838; stroke-width: 1.0;\" x1=\"98\" x2=\"126.5\" y1=\"148.5586\" y2=\"148.5586\"/><text fill=\"#000000\" font-family=\"sans-serif\" font-size=\"11\" lengthAdjust=\"spacingAndGlyphs\" textLength=\"7\" x=\"38.5\" y=\"194.7808\">T</text><line style=\"stroke: #383838; stroke-width: 1.0;\" x1=\"33.5\" x2=\"49.5\" y1=\"178.168\" y2=\"178.168\"/><text fill=\"#000000\" font-family=\"sans-serif\" font-size=\"11\" lengthAdjust=\"spacingAndGlyphs\" textLength=\"61\" x=\"49.5\" y=\"181.4761\">transitions</text><line style=\"stroke: #383838; stroke-width: 1.0;\" x1=\"110.5\" x2=\"126.5\" y1=\"178.168\" y2=\"178.168\"/></a><!--MD5=[1dd1bfd58a279cf63c5f349dbc8fc6a1]\n",
       "class E11--><a href=\"psysml:a085f23d-1115-47bd-987f-c38856471ed2\" target=\"_top\" title=\"psysml:a085f23d-1115-47bd-987f-c38856471ed2\" xlink:actuate=\"onRequest\" xlink:href=\"psysml:a085f23d-1115-47bd-987f-c38856471ed2\" xlink:show=\"new\" xlink:title=\"psysml:a085f23d-1115-47bd-987f-c38856471ed2\" xlink:type=\"simple\"><rect fill=\"#FFFFFF\" height=\"45.9375\" id=\"E11\" rx=\"10\" ry=\"10\" style=\"stroke: #383838; stroke-width: 1.5;\" width=\"49\" x=\"55.5\" y=\"261\"/><text fill=\"#000000\" font-family=\"sans-serif\" font-size=\"12\" font-style=\"italic\" lengthAdjust=\"spacingAndGlyphs\" textLength=\"47\" x=\"56.5\" y=\"277.1387\">«state»</text><text fill=\"#000000\" font-family=\"sans-serif\" font-size=\"12\" lengthAdjust=\"spacingAndGlyphs\" textLength=\"16\" x=\"72\" y=\"291.1074\">S2</text><line style=\"stroke: #383838; stroke-width: 1.5;\" x1=\"56.5\" x2=\"103.5\" y1=\"298.9375\" y2=\"298.9375\"/></a><!--MD5=[49a0ec8f00dab7302a31f22d0f0fe584]\n",
       "class E12--><a href=\"psysml:cfc90439-05ae-44f8-b88d-04fe860fe407\" target=\"_top\" title=\"psysml:cfc90439-05ae-44f8-b88d-04fe860fe407\" xlink:actuate=\"onRequest\" xlink:href=\"psysml:cfc90439-05ae-44f8-b88d-04fe860fe407\" xlink:show=\"new\" xlink:title=\"psysml:cfc90439-05ae-44f8-b88d-04fe860fe407\" xlink:type=\"simple\"><rect fill=\"#FFFFFF\" height=\"75.5469\" id=\"E12\" rx=\"10\" ry=\"10\" style=\"stroke: #383838; stroke-width: 1.5;\" width=\"90\" x=\"35\" y=\"367\"/><text fill=\"#000000\" font-family=\"sans-serif\" font-size=\"12\" font-style=\"italic\" lengthAdjust=\"spacingAndGlyphs\" textLength=\"88\" x=\"36\" y=\"383.1387\">«send action»</text><text fill=\"#000000\" font-family=\"sans-serif\" font-size=\"12\" lengthAdjust=\"spacingAndGlyphs\" textLength=\"55\" x=\"52.5\" y=\"397.1074\">doAction</text><line style=\"stroke: #383838; stroke-width: 1.5;\" x1=\"36\" x2=\"124\" y1=\"404.9375\" y2=\"404.9375\"/><text fill=\"#000000\" font-family=\"sans-serif\" font-size=\"11\" lengthAdjust=\"spacingAndGlyphs\" textLength=\"25\" x=\"41\" y=\"435.9526\">item</text><line style=\"stroke: #383838; stroke-width: 1.0;\" x1=\"36\" x2=\"42.5\" y1=\"419.3398\" y2=\"419.3398\"/><text fill=\"#000000\" font-family=\"sans-serif\" font-size=\"11\" lengthAdjust=\"spacingAndGlyphs\" textLength=\"75\" x=\"42.5\" y=\"422.6479\">itemFeatures</text><line style=\"stroke: #383838; stroke-width: 1.0;\" x1=\"117.5\" x2=\"124\" y1=\"419.3398\" y2=\"419.3398\"/></a><!--MD5=[1f5f03483f7de0d5b3680a7f6650997f]\n",
       "reverse link E6 to E11--><a href=\"psysml:a085f23d-1115-47bd-987f-c38856471ed2\" target=\"_top\" title=\"psysml:a085f23d-1115-47bd-987f-c38856471ed2\" xlink:actuate=\"onRequest\" xlink:href=\"psysml:a085f23d-1115-47bd-987f-c38856471ed2\" xlink:show=\"new\" xlink:title=\"psysml:a085f23d-1115-47bd-987f-c38856471ed2\" xlink:type=\"simple\"><path d=\"M80,214.17 C80,231.58 80,248.25 80,260.82 \" fill=\"none\" id=\"E6&lt;-E11\" style=\"stroke: #383838; stroke-width: 1.0;\"/><polygon fill=\"#383838\" points=\"80,201.09,76.0066,207.0944,80.0132,213.09,84.0066,207.0856,80,201.09\" style=\"stroke: #383838; stroke-width: 1.0;\"/></a><!--MD5=[94adabc162ce7e41b39f13be14fbaeb3]\n",
       "reverse link E11 to E12--><a href=\"psysml:cfc90439-05ae-44f8-b88d-04fe860fe407\" target=\"_top\" title=\"psysml:cfc90439-05ae-44f8-b88d-04fe860fe407\" xlink:actuate=\"onRequest\" xlink:href=\"psysml:cfc90439-05ae-44f8-b88d-04fe860fe407\" xlink:show=\"new\" xlink:title=\"psysml:cfc90439-05ae-44f8-b88d-04fe860fe407\" xlink:type=\"simple\"><path d=\"M80,320.23 C80,334.82 80,351.76 80,366.58 \" fill=\"none\" id=\"E11&lt;-E12\" style=\"stroke: #383838; stroke-width: 1.0;\"/><polygon fill=\"#FFFFFF\" points=\"80,307.1,76,313.1,80,319.1,84,313.1,80,307.1\" style=\"stroke: #383838; stroke-width: 1.0;\"/></a><!--MD5=[16c397b647ad0d28affeef664607f30d]\n",
       "@startuml\r\n",
       " skinparam monochrome true\r\n",
       "skinparam classbackgroundcolor white\r\n",
       "skinparam shadowing false\r\n",
       "skinparam wrapWidth 300\r\n",
       "hide circle\r\n",
       "\r\n",
       "package \"StateTest\" as E1  [[psysml:5e99c5ac-660c-4bcd-ba7f-80dc44a07c9e ]]  {\r\n",
       "comp def \"Sig\" as E2  <<(T,blue)attribute def>> [[psysml:408e0494-0708-476d-85d5-333a69b53e96 ]] {\r\n",
       "- - attributes - -\r\n",
       "x\r\n",
       "}\r\n",
       "comp def \"Exit\" as E3  <<(T,blue)attribute def>> [[psysml:0109ef31-4e51-4de7-9ac0-eb82fbd89c67 ]] {\r\n",
       "}\r\n",
       "comp usage \"p\" as E4  <<(T,blue)part>> [[psysml:64a2c9fa-aa89-4eff-b01c-ff58906cbde0 ]] {\r\n",
       "}\r\n",
       "comp usage \"act\" as E5  <<(T,blue)action>> [[psysml:6519856a-88df-4cdc-a713-a9dddd16e281 ]] {\r\n",
       "}\r\n",
       "comp def \"S\" as E6  <<(T,blue)state def>> [[psysml:0bc7341d-f31b-4869-a064-1af20ff16fcc ]] {\r\n",
       "- - performActions - -\r\n",
       "act\r\n",
       "A\r\n",
       "B\r\n",
       "- - states - -\r\n",
       "S1\r\n",
       "- - transitions - -\r\n",
       "T\r\n",
       "}\r\n",
       "comp usage \"S2\" as E11  <<(T,blue)state>> [[psysml:a085f23d-1115-47bd-987f-c38856471ed2 ]] {\r\n",
       "}\r\n",
       "comp usage \"doAction\" as E12 <<send action>> [[psysml:cfc90439-05ae-44f8-b88d-04fe860fe407 ]] {\r\n",
       "- - itemFeatures - -\r\n",
       "item\r\n",
       "}\r\n",
       "E6 *- - E11 [[psysml:a085f23d-1115-47bd-987f-c38856471ed2 ]] \r\n",
       "E11 o- - E12 [[psysml:cfc90439-05ae-44f8-b88d-04fe860fe407 ]] \r\n",
       "}\r\n",
       "@enduml\r\n",
       "\n",
       "PlantUML version 1.2020.13(Sat Jun 13 12:26:38 UTC 2020)\n",
       "(EPL source distribution)\n",
       "Java Runtime: OpenJDK Runtime Environment\n",
       "JVM: OpenJDK 64-Bit Server VM\n",
       "Default Encoding: UTF-8\n",
       "Language: en\n",
       "Country: null\n",
       "--></g></svg>"
      ]
     },
     "execution_count": 7,
     "metadata": {},
     "output_type": "execute_result"
    }
   ],
   "source": [
    "%viz --style=\"COMPTREE\" --view=\"Sequence\" \"StateTest\""
   ]
  },
  {
   "cell_type": "code",
   "execution_count": 8,
   "id": "practical-closing",
   "metadata": {
    "execution": {
     "iopub.execute_input": "2021-03-26T13:02:44.594291Z",
     "iopub.status.busy": "2021-03-26T13:02:44.593807Z",
     "iopub.status.idle": "2021-03-26T13:02:44.650518Z",
     "shell.execute_reply": "2021-03-26T13:02:44.650893Z"
    }
   },
   "outputs": [
    {
     "data": {
      "image/svg+xml": [
       "<?xml version=\"1.0\" encoding=\"UTF-8\" standalone=\"no\"?><svg xmlns=\"http://www.w3.org/2000/svg\" xmlns:xlink=\"http://www.w3.org/1999/xlink\" contentScriptType=\"application/ecmascript\" contentStyleType=\"text/css\" height=\"570px\" preserveAspectRatio=\"none\" style=\"width:819px;height:570px;\" version=\"1.1\" viewBox=\"0 0 819 570\" width=\"819px\" zoomAndPan=\"magnify\"><defs/><g><!--MD5=[fbc87193dbaf4d95561dea2c320d4a47]\n",
       "cluster E1--><a href=\"psysml:5e99c5ac-660c-4bcd-ba7f-80dc44a07c9e\" target=\"_top\" title=\"psysml:5e99c5ac-660c-4bcd-ba7f-80dc44a07c9e\" xlink:actuate=\"onRequest\" xlink:href=\"psysml:5e99c5ac-660c-4bcd-ba7f-80dc44a07c9e\" xlink:show=\"new\" xlink:title=\"psysml:5e99c5ac-660c-4bcd-ba7f-80dc44a07c9e\" xlink:type=\"simple\"><polygon fill=\"#FFFFFF\" points=\"16,6,98,6,105,28.2969,797,28.2969,797,558,16,558,16,6\" style=\"stroke: #000000; stroke-width: 1.5;\"/><line style=\"stroke: #000000; stroke-width: 1.5;\" x1=\"16\" x2=\"105\" y1=\"28.2969\" y2=\"28.2969\"/><text fill=\"#000000\" font-family=\"sans-serif\" font-size=\"14\" font-weight=\"bold\" lengthAdjust=\"spacingAndGlyphs\" textLength=\"76\" x=\"20\" y=\"20.9951\">StateTest</text></a><!--MD5=[14e3b0961a2654348d326746436168a1]\n",
       "cluster E6--><a href=\"psysml:0bc7341d-f31b-4869-a064-1af20ff16fcc\" target=\"_top\" title=\"psysml:0bc7341d-f31b-4869-a064-1af20ff16fcc\" xlink:actuate=\"onRequest\" xlink:href=\"psysml:0bc7341d-f31b-4869-a064-1af20ff16fcc\" xlink:show=\"new\" xlink:title=\"psysml:0bc7341d-f31b-4869-a064-1af20ff16fcc\" xlink:type=\"simple\"><rect fill=\"#FFFFFF\" height=\"485\" id=\"E6\" style=\"stroke: #383838; stroke-width: 1.5;\" width=\"327\" x=\"446\" y=\"49\"/><rect fill=\"#F8F8F8\" height=\"37.9375\" style=\"stroke: #383838; stroke-width: 1.5;\" width=\"327\" x=\"446\" y=\"49\"/><text fill=\"#000000\" font-family=\"sans-serif\" font-size=\"12\" font-style=\"italic\" lengthAdjust=\"spacingAndGlyphs\" textLength=\"71\" x=\"574\" y=\"65.1387\">«state def»</text><text fill=\"#000000\" font-family=\"sans-serif\" font-size=\"12\" lengthAdjust=\"spacingAndGlyphs\" textLength=\"8\" x=\"605.5\" y=\"79.1074\">S</text><line style=\"stroke: #383838; stroke-width: 1.0;\" x1=\"446\" x2=\"773\" y1=\"132.8438\" y2=\"132.8438\"/><text fill=\"#000000\" font-family=\"sans-serif\" font-size=\"12\" font-weight=\"bold\" lengthAdjust=\"spacingAndGlyphs\" textLength=\"38\" x=\"451\" y=\"100.0762\">entry</text><text fill=\"#000000\" font-family=\"sans-serif\" font-size=\"12\" lengthAdjust=\"spacingAndGlyphs\" textLength=\"16\" x=\"489\" y=\"100.0762\">/ A</text><text fill=\"#000000\" font-family=\"sans-serif\" font-size=\"12\" font-weight=\"bold\" lengthAdjust=\"spacingAndGlyphs\" textLength=\"18\" x=\"451\" y=\"114.0449\">do</text><text fill=\"#000000\" font-family=\"sans-serif\" font-size=\"12\" lengthAdjust=\"spacingAndGlyphs\" textLength=\"16\" x=\"469\" y=\"114.0449\">/ B</text><text fill=\"#000000\" font-family=\"sans-serif\" font-size=\"12\" font-weight=\"bold\" lengthAdjust=\"spacingAndGlyphs\" textLength=\"26\" x=\"451\" y=\"128.0137\">exit</text><text fill=\"#000000\" font-family=\"sans-serif\" font-size=\"12\" lengthAdjust=\"spacingAndGlyphs\" textLength=\"28\" x=\"477\" y=\"128.0137\">/ act</text></a><!--MD5=[b4997ac47864f28c2f74865a473b2911]\n",
       "class E2--><a href=\"psysml:408e0494-0708-476d-85d5-333a69b53e96\" target=\"_top\" title=\"psysml:408e0494-0708-476d-85d5-333a69b53e96\" xlink:actuate=\"onRequest\" xlink:href=\"psysml:408e0494-0708-476d-85d5-333a69b53e96\" xlink:show=\"new\" xlink:title=\"psysml:408e0494-0708-476d-85d5-333a69b53e96\" xlink:type=\"simple\"><rect fill=\"#FFFFFF\" height=\"75.5469\" id=\"E2\" style=\"stroke: #383838; stroke-width: 1.5;\" width=\"95\" x=\"334.5\" y=\"119\"/><text fill=\"#000000\" font-family=\"sans-serif\" font-size=\"12\" font-style=\"italic\" lengthAdjust=\"spacingAndGlyphs\" textLength=\"93\" x=\"335.5\" y=\"135.1387\">«attribute def»</text><text fill=\"#000000\" font-family=\"sans-serif\" font-size=\"12\" lengthAdjust=\"spacingAndGlyphs\" textLength=\"19\" x=\"372.5\" y=\"149.1074\">Sig</text><line style=\"stroke: #383838; stroke-width: 1.5;\" x1=\"335.5\" x2=\"428.5\" y1=\"156.9375\" y2=\"156.9375\"/><text fill=\"#000000\" font-family=\"sans-serif\" font-size=\"11\" lengthAdjust=\"spacingAndGlyphs\" textLength=\"6\" x=\"340.5\" y=\"187.9526\">x</text><line style=\"stroke: #383838; stroke-width: 1.0;\" x1=\"335.5\" x2=\"354.5\" y1=\"171.3398\" y2=\"171.3398\"/><text fill=\"#000000\" font-family=\"sans-serif\" font-size=\"11\" lengthAdjust=\"spacingAndGlyphs\" textLength=\"55\" x=\"354.5\" y=\"174.6479\">attributes</text><line style=\"stroke: #383838; stroke-width: 1.0;\" x1=\"409.5\" x2=\"428.5\" y1=\"171.3398\" y2=\"171.3398\"/></a><!--MD5=[09b614a08d8cba4a07c9adeb5e0fee81]\n",
       "class E3--><a href=\"psysml:0109ef31-4e51-4de7-9ac0-eb82fbd89c67\" target=\"_top\" title=\"psysml:0109ef31-4e51-4de7-9ac0-eb82fbd89c67\" xlink:actuate=\"onRequest\" xlink:href=\"psysml:0109ef31-4e51-4de7-9ac0-eb82fbd89c67\" xlink:show=\"new\" xlink:title=\"psysml:0109ef31-4e51-4de7-9ac0-eb82fbd89c67\" xlink:type=\"simple\"><rect fill=\"#FFFFFF\" height=\"45.9375\" id=\"E3\" style=\"stroke: #383838; stroke-width: 1.5;\" width=\"95\" x=\"204.5\" y=\"134\"/><text fill=\"#000000\" font-family=\"sans-serif\" font-size=\"12\" font-style=\"italic\" lengthAdjust=\"spacingAndGlyphs\" textLength=\"93\" x=\"205.5\" y=\"150.1387\">«attribute def»</text><text fill=\"#000000\" font-family=\"sans-serif\" font-size=\"12\" lengthAdjust=\"spacingAndGlyphs\" textLength=\"22\" x=\"241\" y=\"164.1074\">Exit</text><line style=\"stroke: #383838; stroke-width: 1.5;\" x1=\"205.5\" x2=\"298.5\" y1=\"171.9375\" y2=\"171.9375\"/></a><!--MD5=[ebbe1d658d1005bcc118a6aa81145e00]\n",
       "class E4--><a href=\"psysml:64a2c9fa-aa89-4eff-b01c-ff58906cbde0\" target=\"_top\" title=\"psysml:64a2c9fa-aa89-4eff-b01c-ff58906cbde0\" xlink:actuate=\"onRequest\" xlink:href=\"psysml:64a2c9fa-aa89-4eff-b01c-ff58906cbde0\" xlink:show=\"new\" xlink:title=\"psysml:64a2c9fa-aa89-4eff-b01c-ff58906cbde0\" xlink:type=\"simple\"><rect fill=\"#FFFFFF\" height=\"45.9375\" id=\"E4\" rx=\"10\" ry=\"10\" style=\"stroke: #383838; stroke-width: 1.5;\" width=\"42\" x=\"127\" y=\"134\"/><text fill=\"#000000\" font-family=\"sans-serif\" font-size=\"12\" font-style=\"italic\" lengthAdjust=\"spacingAndGlyphs\" textLength=\"40\" x=\"128\" y=\"150.1387\">«part»</text><text fill=\"#000000\" font-family=\"sans-serif\" font-size=\"12\" lengthAdjust=\"spacingAndGlyphs\" textLength=\"8\" x=\"144\" y=\"164.1074\">p</text><line style=\"stroke: #383838; stroke-width: 1.5;\" x1=\"128\" x2=\"168\" y1=\"171.9375\" y2=\"171.9375\"/></a><g id=\"E1.E5\"><a href=\"psysml:6519856a-88df-4cdc-a713-a9dddd16e281\" target=\"_top\" title=\"psysml:6519856a-88df-4cdc-a713-a9dddd16e281\" xlink:actuate=\"onRequest\" xlink:href=\"psysml:6519856a-88df-4cdc-a713-a9dddd16e281\" xlink:show=\"new\" xlink:title=\"psysml:6519856a-88df-4cdc-a713-a9dddd16e281\" xlink:type=\"simple\"><rect fill=\"#FFFFFF\" height=\"42.9375\" id=\"E5\" rx=\"10\" ry=\"10\" style=\"stroke: #383838; stroke-width: 1.5;\" width=\"60\" x=\"32\" y=\"135.5\"/><rect fill=\"#F8F8F8\" height=\"37.9375\" rx=\"10\" ry=\"10\" style=\"stroke: #F8F8F8; stroke-width: 1.5;\" width=\"60\" x=\"32\" y=\"135.5\"/><rect fill=\"#F8F8F8\" height=\"10\" style=\"stroke: #F8F8F8; stroke-width: 1.5;\" width=\"60\" x=\"32\" y=\"163.4375\"/><rect fill=\"none\" height=\"42.9375\" id=\"E5\" rx=\"10\" ry=\"10\" style=\"stroke: #383838; stroke-width: 1.5;\" width=\"60\" x=\"32\" y=\"135.5\"/><text fill=\"#000000\" font-family=\"sans-serif\" font-size=\"12\" font-style=\"italic\" lengthAdjust=\"spacingAndGlyphs\" textLength=\"53\" x=\"35.5\" y=\"151.6387\">«action»</text><text fill=\"#000000\" font-family=\"sans-serif\" font-size=\"12\" lengthAdjust=\"spacingAndGlyphs\" textLength=\"20\" x=\"52\" y=\"165.6074\">act</text></a></g><ellipse cx=\"558\" cy=\"157\" fill=\"#000000\" rx=\"10\" ry=\"10\" style=\"stroke: none; stroke-width: 1.0;\"/><ellipse cx=\"558\" cy=\"508\" fill=\"none\" rx=\"10\" ry=\"10\" style=\"stroke: #000000; stroke-width: 1.0;\"/><ellipse cx=\"558.5\" cy=\"508.5\" fill=\"#000000\" rx=\"6\" ry=\"6\" style=\"stroke: none; stroke-width: 1.0;\"/><g id=\"E1.E6.E7\"><a href=\"psysml:70242e19-3f56-46b0-b4b5-fd0d440c29ee\" target=\"_top\" title=\"psysml:70242e19-3f56-46b0-b4b5-fd0d440c29ee\" xlink:actuate=\"onRequest\" xlink:href=\"psysml:70242e19-3f56-46b0-b4b5-fd0d440c29ee\" xlink:show=\"new\" xlink:title=\"psysml:70242e19-3f56-46b0-b4b5-fd0d440c29ee\" xlink:type=\"simple\"><rect fill=\"#FFFFFF\" height=\"40\" id=\"E7\" rx=\"10\" ry=\"10\" style=\"stroke: #383838; stroke-width: 1.5;\" width=\"50\" x=\"533\" y=\"256\"/><rect fill=\"#F8F8F8\" height=\"23.9688\" rx=\"10\" ry=\"10\" style=\"stroke: #F8F8F8; stroke-width: 1.5;\" width=\"50\" x=\"533\" y=\"256\"/><rect fill=\"#F8F8F8\" height=\"10\" style=\"stroke: #F8F8F8; stroke-width: 1.5;\" width=\"50\" x=\"533\" y=\"269.9688\"/><rect fill=\"none\" height=\"40\" id=\"E7\" rx=\"10\" ry=\"10\" style=\"stroke: #383838; stroke-width: 1.5;\" width=\"50\" x=\"533\" y=\"256\"/><text fill=\"#000000\" font-family=\"sans-serif\" font-size=\"12\" lengthAdjust=\"spacingAndGlyphs\" textLength=\"16\" x=\"550\" y=\"272.1387\">S1</text></a></g><g id=\"E1.E6.E8\"><a href=\"psysml:a085f23d-1115-47bd-987f-c38856471ed2\" target=\"_top\" title=\"psysml:a085f23d-1115-47bd-987f-c38856471ed2\" xlink:actuate=\"onRequest\" xlink:href=\"psysml:a085f23d-1115-47bd-987f-c38856471ed2\" xlink:show=\"new\" xlink:title=\"psysml:a085f23d-1115-47bd-987f-c38856471ed2\" xlink:type=\"simple\"><rect fill=\"#FFFFFF\" height=\"47.9375\" id=\"E8\" rx=\"10\" ry=\"10\" style=\"stroke: #383838; stroke-width: 1.5;\" width=\"50\" x=\"533\" y=\"373\"/><rect fill=\"#F8F8F8\" height=\"23.9688\" rx=\"10\" ry=\"10\" style=\"stroke: #F8F8F8; stroke-width: 1.5;\" width=\"50\" x=\"533\" y=\"373\"/><rect fill=\"#F8F8F8\" height=\"10\" style=\"stroke: #F8F8F8; stroke-width: 1.5;\" width=\"50\" x=\"533\" y=\"386.9688\"/><rect fill=\"none\" height=\"47.9375\" id=\"E8\" rx=\"10\" ry=\"10\" style=\"stroke: #383838; stroke-width: 1.5;\" width=\"50\" x=\"533\" y=\"373\"/><text fill=\"#000000\" font-family=\"sans-serif\" font-size=\"12\" lengthAdjust=\"spacingAndGlyphs\" textLength=\"16\" x=\"550\" y=\"389.1387\">S2</text><line style=\"stroke: #383838; stroke-width: 1.0;\" x1=\"533\" x2=\"583\" y1=\"396.9688\" y2=\"396.9688\"/><text fill=\"#000000\" font-family=\"sans-serif\" font-size=\"12\" font-weight=\"bold\" lengthAdjust=\"spacingAndGlyphs\" textLength=\"18\" x=\"538\" y=\"410.1074\">do</text><text fill=\"#000000\" font-family=\"sans-serif\" font-size=\"12\" lengthAdjust=\"spacingAndGlyphs\" textLength=\"4\" x=\"556\" y=\"410.1074\">/</text></a></g><!--MD5=[5a531d3a85f3339e6e197084acb48195]\n",
       "link *start*E6 to E7--><a href=\"psysml:43d9c4f9-ed20-4c00-a0b0-be6dc49a6894\" target=\"_top\" title=\"psysml:43d9c4f9-ed20-4c00-a0b0-be6dc49a6894\" xlink:actuate=\"onRequest\" xlink:href=\"psysml:43d9c4f9-ed20-4c00-a0b0-be6dc49a6894\" xlink:show=\"new\" xlink:title=\"psysml:43d9c4f9-ed20-4c00-a0b0-be6dc49a6894\" xlink:type=\"simple\"><path d=\"M558,167.18 C558,184.98 558,224.73 558,250.67 \" fill=\"none\" id=\"*start*E6-&gt;E7\" style=\"stroke: #383838; stroke-width: 1.0;\"/><polygon fill=\"#383838\" points=\"558,255.98,562,246.98,558,250.98,554,246.98,558,255.98\" style=\"stroke: #383838; stroke-width: 1.0;\"/></a><!--MD5=[7ec9a8babba89ddcae1318ca9fb3c814]\n",
       "link E8 to *end*E6--><a href=\"psysml:f955b7ee-57f2-4e8a-b602-a443c9a31c83\" target=\"_top\" title=\"psysml:f955b7ee-57f2-4e8a-b602-a443c9a31c83\" xlink:actuate=\"onRequest\" xlink:href=\"psysml:f955b7ee-57f2-4e8a-b602-a443c9a31c83\" xlink:show=\"new\" xlink:title=\"psysml:f955b7ee-57f2-4e8a-b602-a443c9a31c83\" xlink:type=\"simple\"><path d=\"M558,421.12 C558,442.75 558,474.39 558,492.62 \" fill=\"none\" id=\"E8-&gt;*end*E6\" style=\"stroke: #383838; stroke-width: 1.0;\"/><polygon fill=\"#383838\" points=\"558,497.82,562,488.82,558,492.82,554,488.82,558,497.82\" style=\"stroke: #383838; stroke-width: 1.0;\"/><text fill=\"#000000\" font-family=\"sans-serif\" font-size=\"13\" lengthAdjust=\"spacingAndGlyphs\" textLength=\"23\" x=\"559\" y=\"464.0669\">Exit</text></a><!--MD5=[79bc8f324ef4d02c541433f2e6e513c3]\n",
       "link E7 to E8--><a href=\"psysml:d37fdc60-36d2-41f0-83fe-622a63ffc619\" target=\"_top\" title=\"psysml:d37fdc60-36d2-41f0-83fe-622a63ffc619\" xlink:actuate=\"onRequest\" xlink:href=\"psysml:d37fdc60-36d2-41f0-83fe-622a63ffc619\" xlink:show=\"new\" xlink:title=\"psysml:d37fdc60-36d2-41f0-83fe-622a63ffc619\" xlink:type=\"simple\"><path d=\"M532.93,288.88 C518.69,297.12 502.12,309.56 494,326 C483.11,348.05 506.72,368.2 528.27,381.16 \" fill=\"none\" id=\"E7-&gt;E8\" style=\"stroke: #383838; stroke-width: 1.0;\"/><polygon fill=\"#383838\" points=\"532.83,383.82,527.0682,375.8324,528.5101,381.3024,523.0401,382.7443,532.83,383.82\" style=\"stroke: #383838; stroke-width: 1.0;\"/><text fill=\"#000000\" font-family=\"sans-serif\" font-size=\"13\" lengthAdjust=\"spacingAndGlyphs\" textLength=\"81\" x=\"495\" y=\"339.0669\">Sig /action D</text></a><!--MD5=[bfa3c8b0d15052fdf50ae9310b491027]\n",
       "link E8 to E7--><a href=\"psysml:b2ce6d4b-1a56-4d0e-ade4-ffb9136266c2\" target=\"_top\" title=\"psysml:b2ce6d4b-1a56-4d0e-ade4-ffb9136266c2\" xlink:actuate=\"onRequest\" xlink:href=\"psysml:b2ce6d4b-1a56-4d0e-ade4-ffb9136266c2\" xlink:show=\"new\" xlink:title=\"psysml:b2ce6d4b-1a56-4d0e-ade4-ffb9136266c2\" xlink:type=\"simple\"><path d=\"M572.17,372.99 C578.81,359.48 584.56,341.98 581,326 C579.1,317.49 575.56,308.72 571.82,300.99 \" fill=\"none\" id=\"E8-&gt;E7\" style=\"stroke: #383838; stroke-width: 1.0;\"/><polygon fill=\"#383838\" points=\"569.47,296.32,569.9298,306.1581,571.7118,300.7893,577.0806,302.5713,569.47,296.32\" style=\"stroke: #383838; stroke-width: 1.0;\"/><text fill=\"#000000\" font-family=\"sans-serif\" font-size=\"13\" lengthAdjust=\"spacingAndGlyphs\" textLength=\"135\" x=\"583\" y=\"339.0669\">Sig [true]/send s to p</text></a><!--MD5=[e377bebd5de29975482bc6b00eee7aea]\n",
       "@startuml\r\n",
       " skinparam monochrome true\r\n",
       "skinparam classbackgroundcolor white\r\n",
       "skinparam shadowing false\r\n",
       "skinparam wrapWidth 300\r\n",
       "hide circle\r\n",
       "\r\n",
       "package \"StateTest\" as E1  [[psysml:5e99c5ac-660c-4bcd-ba7f-80dc44a07c9e ]]  {\r\n",
       "comp def \"Sig\" as E2  <<(T,blue)attribute def>> [[psysml:408e0494-0708-476d-85d5-333a69b53e96 ]] {\r\n",
       "- - attributes - -\r\n",
       "x\r\n",
       "}\r\n",
       "comp def \"Exit\" as E3  <<(T,blue)attribute def>> [[psysml:0109ef31-4e51-4de7-9ac0-eb82fbd89c67 ]] {\r\n",
       "}\r\n",
       "comp usage \"p\" as E4  <<(T,blue)part>> [[psysml:64a2c9fa-aa89-4eff-b01c-ff58906cbde0 ]] {\r\n",
       "}\r\n",
       "rec usage \"act\" as E5  <<(T,blue)action>> [[psysml:6519856a-88df-4cdc-a713-a9dddd16e281 ]] {\r\n",
       "}\r\n",
       "\r\n",
       "rec def \"S\" as E6  <<(T,blue)state def>> [[psysml:0bc7341d-f31b-4869-a064-1af20ff16fcc ]] {\r\n",
       "rec usage \"S1\" as E7 [[psysml:70242e19-3f56-46b0-b4b5-fd0d440c29ee ]] {\r\n",
       "}\r\n",
       "\r\n",
       "rec usage \"S2\" as E8 [[psysml:a085f23d-1115-47bd-987f-c38856471ed2 ]] {\r\n",
       "desc \"S2\" as E8  : **do**/ \r\n",
       "}\r\n",
       "\r\n",
       "[*] - -> E7 [[psysml:43d9c4f9-ed20-4c00-a0b0-be6dc49a6894 ]] \r\n",
       "E8  - -> [*] [[psysml:f955b7ee-57f2-4e8a-b602-a443c9a31c83 ]] : Exit \r\n",
       "desc \"S\" as E6  : **entry**/ A\r\n",
       "desc \"S\" as E6  : **do**/ B\r\n",
       "desc \"S\" as E6  : **exit**/ act \r\n",
       "}\r\n",
       "\r\n",
       "E7  - -> E8 [[psysml:d37fdc60-36d2-41f0-83fe-622a63ffc619 ]] : Sig /action D\r\n",
       "E8  - -> E7 [[psysml:b2ce6d4b-1a56-4d0e-ade4-ffb9136266c2 ]] : Sig [true]/send s to p\r\n",
       "}\r\n",
       "@enduml\r\n",
       "\n",
       "PlantUML version 1.2020.13(Sat Jun 13 12:26:38 UTC 2020)\n",
       "(EPL source distribution)\n",
       "Java Runtime: OpenJDK Runtime Environment\n",
       "JVM: OpenJDK 64-Bit Server VM\n",
       "Default Encoding: UTF-8\n",
       "Language: en\n",
       "Country: null\n",
       "--></g></svg>"
      ]
     },
     "execution_count": 8,
     "metadata": {},
     "output_type": "execute_result"
    }
   ],
   "source": [
    "%viz --style=\"COMPTREE\" --view=\"MIXED\" \"StateTest\""
   ]
  },
  {
   "cell_type": "code",
   "execution_count": 9,
   "id": "recorded-paradise",
   "metadata": {
    "execution": {
     "iopub.execute_input": "2021-03-26T13:02:44.702184Z",
     "iopub.status.busy": "2021-03-26T13:02:44.701479Z",
     "iopub.status.idle": "2021-03-26T13:02:44.767778Z",
     "shell.execute_reply": "2021-03-26T13:02:44.768188Z"
    }
   },
   "outputs": [
    {
     "data": {
      "image/svg+xml": [
       "<?xml version=\"1.0\" encoding=\"UTF-8\" standalone=\"no\"?><svg xmlns=\"http://www.w3.org/2000/svg\" xmlns:xlink=\"http://www.w3.org/1999/xlink\" contentScriptType=\"application/ecmascript\" contentStyleType=\"text/css\" height=\"570px\" preserveAspectRatio=\"none\" style=\"width:819px;height:570px;\" version=\"1.1\" viewBox=\"0 0 819 570\" width=\"819px\" zoomAndPan=\"magnify\"><defs/><g><!--MD5=[fbc87193dbaf4d95561dea2c320d4a47]\n",
       "cluster E1--><a href=\"psysml:5e99c5ac-660c-4bcd-ba7f-80dc44a07c9e\" target=\"_top\" title=\"psysml:5e99c5ac-660c-4bcd-ba7f-80dc44a07c9e\" xlink:actuate=\"onRequest\" xlink:href=\"psysml:5e99c5ac-660c-4bcd-ba7f-80dc44a07c9e\" xlink:show=\"new\" xlink:title=\"psysml:5e99c5ac-660c-4bcd-ba7f-80dc44a07c9e\" xlink:type=\"simple\"><polygon fill=\"#FFFFFF\" points=\"16,6,98,6,105,28.2969,797,28.2969,797,558,16,558,16,6\" style=\"stroke: #000000; stroke-width: 1.5;\"/><line style=\"stroke: #000000; stroke-width: 1.5;\" x1=\"16\" x2=\"105\" y1=\"28.2969\" y2=\"28.2969\"/><text fill=\"#000000\" font-family=\"sans-serif\" font-size=\"14\" font-weight=\"bold\" lengthAdjust=\"spacingAndGlyphs\" textLength=\"76\" x=\"20\" y=\"20.9951\">StateTest</text></a><!--MD5=[14e3b0961a2654348d326746436168a1]\n",
       "cluster E6--><a href=\"psysml:0bc7341d-f31b-4869-a064-1af20ff16fcc\" target=\"_top\" title=\"psysml:0bc7341d-f31b-4869-a064-1af20ff16fcc\" xlink:actuate=\"onRequest\" xlink:href=\"psysml:0bc7341d-f31b-4869-a064-1af20ff16fcc\" xlink:show=\"new\" xlink:title=\"psysml:0bc7341d-f31b-4869-a064-1af20ff16fcc\" xlink:type=\"simple\"><rect fill=\"#FFFFFF\" height=\"485\" id=\"E6\" style=\"stroke: #383838; stroke-width: 1.5;\" width=\"327\" x=\"446\" y=\"49\"/><rect fill=\"#F8F8F8\" height=\"37.9375\" style=\"stroke: #383838; stroke-width: 1.5;\" width=\"327\" x=\"446\" y=\"49\"/><text fill=\"#000000\" font-family=\"sans-serif\" font-size=\"12\" font-style=\"italic\" lengthAdjust=\"spacingAndGlyphs\" textLength=\"71\" x=\"574\" y=\"65.1387\">«state def»</text><text fill=\"#000000\" font-family=\"sans-serif\" font-size=\"12\" lengthAdjust=\"spacingAndGlyphs\" textLength=\"8\" x=\"605.5\" y=\"79.1074\">S</text><line style=\"stroke: #383838; stroke-width: 1.0;\" x1=\"446\" x2=\"773\" y1=\"132.8438\" y2=\"132.8438\"/><text fill=\"#000000\" font-family=\"sans-serif\" font-size=\"12\" font-weight=\"bold\" lengthAdjust=\"spacingAndGlyphs\" textLength=\"38\" x=\"451\" y=\"100.0762\">entry</text><text fill=\"#000000\" font-family=\"sans-serif\" font-size=\"12\" lengthAdjust=\"spacingAndGlyphs\" textLength=\"16\" x=\"489\" y=\"100.0762\">/ A</text><text fill=\"#000000\" font-family=\"sans-serif\" font-size=\"12\" font-weight=\"bold\" lengthAdjust=\"spacingAndGlyphs\" textLength=\"18\" x=\"451\" y=\"114.0449\">do</text><text fill=\"#000000\" font-family=\"sans-serif\" font-size=\"12\" lengthAdjust=\"spacingAndGlyphs\" textLength=\"16\" x=\"469\" y=\"114.0449\">/ B</text><text fill=\"#000000\" font-family=\"sans-serif\" font-size=\"12\" font-weight=\"bold\" lengthAdjust=\"spacingAndGlyphs\" textLength=\"26\" x=\"451\" y=\"128.0137\">exit</text><text fill=\"#000000\" font-family=\"sans-serif\" font-size=\"12\" lengthAdjust=\"spacingAndGlyphs\" textLength=\"28\" x=\"477\" y=\"128.0137\">/ act</text></a><!--MD5=[b4997ac47864f28c2f74865a473b2911]\n",
       "class E2--><a href=\"psysml:408e0494-0708-476d-85d5-333a69b53e96\" target=\"_top\" title=\"psysml:408e0494-0708-476d-85d5-333a69b53e96\" xlink:actuate=\"onRequest\" xlink:href=\"psysml:408e0494-0708-476d-85d5-333a69b53e96\" xlink:show=\"new\" xlink:title=\"psysml:408e0494-0708-476d-85d5-333a69b53e96\" xlink:type=\"simple\"><rect fill=\"#FFFFFF\" height=\"75.5469\" id=\"E2\" style=\"stroke: #383838; stroke-width: 1.5;\" width=\"95\" x=\"334.5\" y=\"119\"/><text fill=\"#000000\" font-family=\"sans-serif\" font-size=\"12\" font-style=\"italic\" lengthAdjust=\"spacingAndGlyphs\" textLength=\"93\" x=\"335.5\" y=\"135.1387\">«attribute def»</text><text fill=\"#000000\" font-family=\"sans-serif\" font-size=\"12\" lengthAdjust=\"spacingAndGlyphs\" textLength=\"19\" x=\"372.5\" y=\"149.1074\">Sig</text><line style=\"stroke: #383838; stroke-width: 1.5;\" x1=\"335.5\" x2=\"428.5\" y1=\"156.9375\" y2=\"156.9375\"/><text fill=\"#000000\" font-family=\"sans-serif\" font-size=\"11\" lengthAdjust=\"spacingAndGlyphs\" textLength=\"6\" x=\"340.5\" y=\"187.9526\">x</text><line style=\"stroke: #383838; stroke-width: 1.0;\" x1=\"335.5\" x2=\"354.5\" y1=\"171.3398\" y2=\"171.3398\"/><text fill=\"#000000\" font-family=\"sans-serif\" font-size=\"11\" lengthAdjust=\"spacingAndGlyphs\" textLength=\"55\" x=\"354.5\" y=\"174.6479\">attributes</text><line style=\"stroke: #383838; stroke-width: 1.0;\" x1=\"409.5\" x2=\"428.5\" y1=\"171.3398\" y2=\"171.3398\"/></a><!--MD5=[09b614a08d8cba4a07c9adeb5e0fee81]\n",
       "class E3--><a href=\"psysml:0109ef31-4e51-4de7-9ac0-eb82fbd89c67\" target=\"_top\" title=\"psysml:0109ef31-4e51-4de7-9ac0-eb82fbd89c67\" xlink:actuate=\"onRequest\" xlink:href=\"psysml:0109ef31-4e51-4de7-9ac0-eb82fbd89c67\" xlink:show=\"new\" xlink:title=\"psysml:0109ef31-4e51-4de7-9ac0-eb82fbd89c67\" xlink:type=\"simple\"><rect fill=\"#FFFFFF\" height=\"45.9375\" id=\"E3\" style=\"stroke: #383838; stroke-width: 1.5;\" width=\"95\" x=\"204.5\" y=\"134\"/><text fill=\"#000000\" font-family=\"sans-serif\" font-size=\"12\" font-style=\"italic\" lengthAdjust=\"spacingAndGlyphs\" textLength=\"93\" x=\"205.5\" y=\"150.1387\">«attribute def»</text><text fill=\"#000000\" font-family=\"sans-serif\" font-size=\"12\" lengthAdjust=\"spacingAndGlyphs\" textLength=\"22\" x=\"241\" y=\"164.1074\">Exit</text><line style=\"stroke: #383838; stroke-width: 1.5;\" x1=\"205.5\" x2=\"298.5\" y1=\"171.9375\" y2=\"171.9375\"/></a><!--MD5=[ebbe1d658d1005bcc118a6aa81145e00]\n",
       "class E4--><a href=\"psysml:64a2c9fa-aa89-4eff-b01c-ff58906cbde0\" target=\"_top\" title=\"psysml:64a2c9fa-aa89-4eff-b01c-ff58906cbde0\" xlink:actuate=\"onRequest\" xlink:href=\"psysml:64a2c9fa-aa89-4eff-b01c-ff58906cbde0\" xlink:show=\"new\" xlink:title=\"psysml:64a2c9fa-aa89-4eff-b01c-ff58906cbde0\" xlink:type=\"simple\"><rect fill=\"#FFFFFF\" height=\"45.9375\" id=\"E4\" rx=\"10\" ry=\"10\" style=\"stroke: #383838; stroke-width: 1.5;\" width=\"42\" x=\"127\" y=\"134\"/><text fill=\"#000000\" font-family=\"sans-serif\" font-size=\"12\" font-style=\"italic\" lengthAdjust=\"spacingAndGlyphs\" textLength=\"40\" x=\"128\" y=\"150.1387\">«part»</text><text fill=\"#000000\" font-family=\"sans-serif\" font-size=\"12\" lengthAdjust=\"spacingAndGlyphs\" textLength=\"8\" x=\"144\" y=\"164.1074\">p</text><line style=\"stroke: #383838; stroke-width: 1.5;\" x1=\"128\" x2=\"168\" y1=\"171.9375\" y2=\"171.9375\"/></a><g id=\"E1.E5\"><a href=\"psysml:6519856a-88df-4cdc-a713-a9dddd16e281\" target=\"_top\" title=\"psysml:6519856a-88df-4cdc-a713-a9dddd16e281\" xlink:actuate=\"onRequest\" xlink:href=\"psysml:6519856a-88df-4cdc-a713-a9dddd16e281\" xlink:show=\"new\" xlink:title=\"psysml:6519856a-88df-4cdc-a713-a9dddd16e281\" xlink:type=\"simple\"><rect fill=\"#FFFFFF\" height=\"42.9375\" id=\"E5\" rx=\"10\" ry=\"10\" style=\"stroke: #383838; stroke-width: 1.5;\" width=\"60\" x=\"32\" y=\"135.5\"/><rect fill=\"#F8F8F8\" height=\"37.9375\" rx=\"10\" ry=\"10\" style=\"stroke: #F8F8F8; stroke-width: 1.5;\" width=\"60\" x=\"32\" y=\"135.5\"/><rect fill=\"#F8F8F8\" height=\"10\" style=\"stroke: #F8F8F8; stroke-width: 1.5;\" width=\"60\" x=\"32\" y=\"163.4375\"/><rect fill=\"none\" height=\"42.9375\" id=\"E5\" rx=\"10\" ry=\"10\" style=\"stroke: #383838; stroke-width: 1.5;\" width=\"60\" x=\"32\" y=\"135.5\"/><text fill=\"#000000\" font-family=\"sans-serif\" font-size=\"12\" font-style=\"italic\" lengthAdjust=\"spacingAndGlyphs\" textLength=\"53\" x=\"35.5\" y=\"151.6387\">«action»</text><text fill=\"#000000\" font-family=\"sans-serif\" font-size=\"12\" lengthAdjust=\"spacingAndGlyphs\" textLength=\"20\" x=\"52\" y=\"165.6074\">act</text></a></g><ellipse cx=\"558\" cy=\"157\" fill=\"#000000\" rx=\"10\" ry=\"10\" style=\"stroke: none; stroke-width: 1.0;\"/><ellipse cx=\"558\" cy=\"508\" fill=\"none\" rx=\"10\" ry=\"10\" style=\"stroke: #000000; stroke-width: 1.0;\"/><ellipse cx=\"558.5\" cy=\"508.5\" fill=\"#000000\" rx=\"6\" ry=\"6\" style=\"stroke: none; stroke-width: 1.0;\"/><g id=\"E1.E6.E7\"><a href=\"psysml:70242e19-3f56-46b0-b4b5-fd0d440c29ee\" target=\"_top\" title=\"psysml:70242e19-3f56-46b0-b4b5-fd0d440c29ee\" xlink:actuate=\"onRequest\" xlink:href=\"psysml:70242e19-3f56-46b0-b4b5-fd0d440c29ee\" xlink:show=\"new\" xlink:title=\"psysml:70242e19-3f56-46b0-b4b5-fd0d440c29ee\" xlink:type=\"simple\"><rect fill=\"#FFFFFF\" height=\"40\" id=\"E7\" rx=\"10\" ry=\"10\" style=\"stroke: #383838; stroke-width: 1.5;\" width=\"50\" x=\"533\" y=\"256\"/><rect fill=\"#F8F8F8\" height=\"23.9688\" rx=\"10\" ry=\"10\" style=\"stroke: #F8F8F8; stroke-width: 1.5;\" width=\"50\" x=\"533\" y=\"256\"/><rect fill=\"#F8F8F8\" height=\"10\" style=\"stroke: #F8F8F8; stroke-width: 1.5;\" width=\"50\" x=\"533\" y=\"269.9688\"/><rect fill=\"none\" height=\"40\" id=\"E7\" rx=\"10\" ry=\"10\" style=\"stroke: #383838; stroke-width: 1.5;\" width=\"50\" x=\"533\" y=\"256\"/><text fill=\"#000000\" font-family=\"sans-serif\" font-size=\"12\" lengthAdjust=\"spacingAndGlyphs\" textLength=\"16\" x=\"550\" y=\"272.1387\">S1</text></a></g><g id=\"E1.E6.E8\"><a href=\"psysml:a085f23d-1115-47bd-987f-c38856471ed2\" target=\"_top\" title=\"psysml:a085f23d-1115-47bd-987f-c38856471ed2\" xlink:actuate=\"onRequest\" xlink:href=\"psysml:a085f23d-1115-47bd-987f-c38856471ed2\" xlink:show=\"new\" xlink:title=\"psysml:a085f23d-1115-47bd-987f-c38856471ed2\" xlink:type=\"simple\"><rect fill=\"#FFFFFF\" height=\"47.9375\" id=\"E8\" rx=\"10\" ry=\"10\" style=\"stroke: #383838; stroke-width: 1.5;\" width=\"50\" x=\"533\" y=\"373\"/><rect fill=\"#F8F8F8\" height=\"23.9688\" rx=\"10\" ry=\"10\" style=\"stroke: #F8F8F8; stroke-width: 1.5;\" width=\"50\" x=\"533\" y=\"373\"/><rect fill=\"#F8F8F8\" height=\"10\" style=\"stroke: #F8F8F8; stroke-width: 1.5;\" width=\"50\" x=\"533\" y=\"386.9688\"/><rect fill=\"none\" height=\"47.9375\" id=\"E8\" rx=\"10\" ry=\"10\" style=\"stroke: #383838; stroke-width: 1.5;\" width=\"50\" x=\"533\" y=\"373\"/><text fill=\"#000000\" font-family=\"sans-serif\" font-size=\"12\" lengthAdjust=\"spacingAndGlyphs\" textLength=\"16\" x=\"550\" y=\"389.1387\">S2</text><line style=\"stroke: #383838; stroke-width: 1.0;\" x1=\"533\" x2=\"583\" y1=\"396.9688\" y2=\"396.9688\"/><text fill=\"#000000\" font-family=\"sans-serif\" font-size=\"12\" font-weight=\"bold\" lengthAdjust=\"spacingAndGlyphs\" textLength=\"18\" x=\"538\" y=\"410.1074\">do</text><text fill=\"#000000\" font-family=\"sans-serif\" font-size=\"12\" lengthAdjust=\"spacingAndGlyphs\" textLength=\"4\" x=\"556\" y=\"410.1074\">/</text></a></g><!--MD5=[5a531d3a85f3339e6e197084acb48195]\n",
       "link *start*E6 to E7--><a href=\"psysml:43d9c4f9-ed20-4c00-a0b0-be6dc49a6894\" target=\"_top\" title=\"psysml:43d9c4f9-ed20-4c00-a0b0-be6dc49a6894\" xlink:actuate=\"onRequest\" xlink:href=\"psysml:43d9c4f9-ed20-4c00-a0b0-be6dc49a6894\" xlink:show=\"new\" xlink:title=\"psysml:43d9c4f9-ed20-4c00-a0b0-be6dc49a6894\" xlink:type=\"simple\"><path d=\"M558,167.18 C558,184.98 558,224.73 558,250.67 \" fill=\"none\" id=\"*start*E6-&gt;E7\" style=\"stroke: #383838; stroke-width: 1.0;\"/><polygon fill=\"#383838\" points=\"558,255.98,562,246.98,558,250.98,554,246.98,558,255.98\" style=\"stroke: #383838; stroke-width: 1.0;\"/></a><!--MD5=[7ec9a8babba89ddcae1318ca9fb3c814]\n",
       "link E8 to *end*E6--><a href=\"psysml:f955b7ee-57f2-4e8a-b602-a443c9a31c83\" target=\"_top\" title=\"psysml:f955b7ee-57f2-4e8a-b602-a443c9a31c83\" xlink:actuate=\"onRequest\" xlink:href=\"psysml:f955b7ee-57f2-4e8a-b602-a443c9a31c83\" xlink:show=\"new\" xlink:title=\"psysml:f955b7ee-57f2-4e8a-b602-a443c9a31c83\" xlink:type=\"simple\"><path d=\"M558,421.12 C558,442.75 558,474.39 558,492.62 \" fill=\"none\" id=\"E8-&gt;*end*E6\" style=\"stroke: #383838; stroke-width: 1.0;\"/><polygon fill=\"#383838\" points=\"558,497.82,562,488.82,558,492.82,554,488.82,558,497.82\" style=\"stroke: #383838; stroke-width: 1.0;\"/><text fill=\"#000000\" font-family=\"sans-serif\" font-size=\"13\" lengthAdjust=\"spacingAndGlyphs\" textLength=\"23\" x=\"559\" y=\"464.0669\">Exit</text></a><!--MD5=[79bc8f324ef4d02c541433f2e6e513c3]\n",
       "link E7 to E8--><a href=\"psysml:d37fdc60-36d2-41f0-83fe-622a63ffc619\" target=\"_top\" title=\"psysml:d37fdc60-36d2-41f0-83fe-622a63ffc619\" xlink:actuate=\"onRequest\" xlink:href=\"psysml:d37fdc60-36d2-41f0-83fe-622a63ffc619\" xlink:show=\"new\" xlink:title=\"psysml:d37fdc60-36d2-41f0-83fe-622a63ffc619\" xlink:type=\"simple\"><path d=\"M533.07,296.08 C515.1,309.84 494,326 494,326 C494,326 494,343 494,343 C494,343 511.69,357.65 528.47,371.55 \" fill=\"none\" id=\"E7-&gt;E8\" style=\"stroke: #383838; stroke-width: 1.0;\"/><polygon fill=\"#383838\" points=\"532.71,375.05,528.3341,366.2267,528.8607,371.8589,523.2284,372.3855,532.71,375.05\" style=\"stroke: #383838; stroke-width: 1.0;\"/><text fill=\"#000000\" font-family=\"sans-serif\" font-size=\"13\" lengthAdjust=\"spacingAndGlyphs\" textLength=\"81\" x=\"495\" y=\"339.0669\">Sig /action D</text></a><!--MD5=[bfa3c8b0d15052fdf50ae9310b491027]\n",
       "link E8 to E7--><a href=\"psysml:b2ce6d4b-1a56-4d0e-ade4-ffb9136266c2\" target=\"_top\" title=\"psysml:b2ce6d4b-1a56-4d0e-ade4-ffb9136266c2\" xlink:actuate=\"onRequest\" xlink:href=\"psysml:b2ce6d4b-1a56-4d0e-ade4-ffb9136266c2\" xlink:show=\"new\" xlink:title=\"psysml:b2ce6d4b-1a56-4d0e-ade4-ffb9136266c2\" xlink:type=\"simple\"><path d=\"M568.02,372.91 C574.22,358.63 581,343 581,343 C581,343 581,326 581,326 C581,326 574.98,313.18 569.11,300.66 \" fill=\"none\" id=\"E8-&gt;E7\" style=\"stroke: #383838; stroke-width: 1.0;\"/><polygon fill=\"#383838\" points=\"566.96,296.08,567.1429,305.9272,569.0752,300.6106,574.3918,302.5428,566.96,296.08\" style=\"stroke: #383838; stroke-width: 1.0;\"/><text fill=\"#000000\" font-family=\"sans-serif\" font-size=\"13\" lengthAdjust=\"spacingAndGlyphs\" textLength=\"135\" x=\"582\" y=\"339.0669\">Sig [true]/send s to p</text></a><!--MD5=[7fcc8da6ff7f72929d585af3a0301432]\n",
       "@startuml\r\n",
       "skinparam linetype polyline\r\n",
       "skinparam monochrome true\r\n",
       "skinparam classbackgroundcolor white\r\n",
       "skinparam shadowing false\r\n",
       "skinparam wrapWidth 300\r\n",
       "hide circle\r\n",
       "\r\n",
       "package \"StateTest\" as E1  [[psysml:5e99c5ac-660c-4bcd-ba7f-80dc44a07c9e ]]  {\r\n",
       "comp def \"Sig\" as E2  <<(T,blue)attribute def>> [[psysml:408e0494-0708-476d-85d5-333a69b53e96 ]] {\r\n",
       "- - attributes - -\r\n",
       "x\r\n",
       "}\r\n",
       "comp def \"Exit\" as E3  <<(T,blue)attribute def>> [[psysml:0109ef31-4e51-4de7-9ac0-eb82fbd89c67 ]] {\r\n",
       "}\r\n",
       "comp usage \"p\" as E4  <<(T,blue)part>> [[psysml:64a2c9fa-aa89-4eff-b01c-ff58906cbde0 ]] {\r\n",
       "}\r\n",
       "rec usage \"act\" as E5  <<(T,blue)action>> [[psysml:6519856a-88df-4cdc-a713-a9dddd16e281 ]] {\r\n",
       "}\r\n",
       "\r\n",
       "rec def \"S\" as E6  <<(T,blue)state def>> [[psysml:0bc7341d-f31b-4869-a064-1af20ff16fcc ]] {\r\n",
       "rec usage \"S1\" as E7 [[psysml:70242e19-3f56-46b0-b4b5-fd0d440c29ee ]] {\r\n",
       "}\r\n",
       "\r\n",
       "rec usage \"S2\" as E8 [[psysml:a085f23d-1115-47bd-987f-c38856471ed2 ]] {\r\n",
       "desc \"S2\" as E8  : **do**/ \r\n",
       "}\r\n",
       "\r\n",
       "[*] - -> E7 [[psysml:43d9c4f9-ed20-4c00-a0b0-be6dc49a6894 ]] \r\n",
       "E8  - -> [*] [[psysml:f955b7ee-57f2-4e8a-b602-a443c9a31c83 ]] : Exit \r\n",
       "desc \"S\" as E6  : **entry**/ A\r\n",
       "desc \"S\" as E6  : **do**/ B\r\n",
       "desc \"S\" as E6  : **exit**/ act \r\n",
       "}\r\n",
       "\r\n",
       "E7  - -> E8 [[psysml:d37fdc60-36d2-41f0-83fe-622a63ffc619 ]] : Sig /action D\r\n",
       "E8  - -> E7 [[psysml:b2ce6d4b-1a56-4d0e-ade4-ffb9136266c2 ]] : Sig [true]/send s to p\r\n",
       "}\r\n",
       "@enduml\r\n",
       "\n",
       "PlantUML version 1.2020.13(Sat Jun 13 12:26:38 UTC 2020)\n",
       "(EPL source distribution)\n",
       "Java Runtime: OpenJDK Runtime Environment\n",
       "JVM: OpenJDK 64-Bit Server VM\n",
       "Default Encoding: UTF-8\n",
       "Language: en\n",
       "Country: null\n",
       "--></g></svg>"
      ]
     },
     "execution_count": 9,
     "metadata": {},
     "output_type": "execute_result"
    }
   ],
   "source": [
    "%viz --style=\"POLYLINE\" --view=\"Default\" \"StateTest\""
   ]
  },
  {
   "cell_type": "code",
   "execution_count": 10,
   "id": "anonymous-designation",
   "metadata": {
    "execution": {
     "iopub.execute_input": "2021-03-26T13:02:44.820243Z",
     "iopub.status.busy": "2021-03-26T13:02:44.819572Z",
     "iopub.status.idle": "2021-03-26T13:02:44.951751Z",
     "shell.execute_reply": "2021-03-26T13:02:44.950180Z"
    }
   },
   "outputs": [
    {
     "data": {
      "image/svg+xml": [
       "<?xml version=\"1.0\" encoding=\"UTF-8\" standalone=\"no\"?><svg xmlns=\"http://www.w3.org/2000/svg\" xmlns:xlink=\"http://www.w3.org/1999/xlink\" contentScriptType=\"application/ecmascript\" contentStyleType=\"text/css\" height=\"471px\" preserveAspectRatio=\"none\" style=\"width:594px;height:471px;\" version=\"1.1\" viewBox=\"0 0 594 471\" width=\"594px\" zoomAndPan=\"magnify\"><defs/><g><!--MD5=[fbc87193dbaf4d95561dea2c320d4a47]\n",
       "cluster E1--><a href=\"psysml:5e99c5ac-660c-4bcd-ba7f-80dc44a07c9e\" target=\"_top\" title=\"psysml:5e99c5ac-660c-4bcd-ba7f-80dc44a07c9e\" xlink:actuate=\"onRequest\" xlink:href=\"psysml:5e99c5ac-660c-4bcd-ba7f-80dc44a07c9e\" xlink:show=\"new\" xlink:title=\"psysml:5e99c5ac-660c-4bcd-ba7f-80dc44a07c9e\" xlink:type=\"simple\"><polygon fill=\"#FFFFFF\" points=\"16,6,98,6,105,28.2969,572,28.2969,572,459,16,459,16,6\" style=\"stroke: #000000; stroke-width: 1.5;\"/><line style=\"stroke: #000000; stroke-width: 1.5;\" x1=\"16\" x2=\"105\" y1=\"28.2969\" y2=\"28.2969\"/><text fill=\"#000000\" font-family=\"sans-serif\" font-size=\"14\" font-weight=\"bold\" lengthAdjust=\"spacingAndGlyphs\" textLength=\"76\" x=\"20\" y=\"20.9951\">StateTest</text></a><!--MD5=[b4997ac47864f28c2f74865a473b2911]\n",
       "class E2--><a href=\"psysml:408e0494-0708-476d-85d5-333a69b53e96\" target=\"_top\" title=\"psysml:408e0494-0708-476d-85d5-333a69b53e96\" xlink:actuate=\"onRequest\" xlink:href=\"psysml:408e0494-0708-476d-85d5-333a69b53e96\" xlink:show=\"new\" xlink:title=\"psysml:408e0494-0708-476d-85d5-333a69b53e96\" xlink:type=\"simple\"><rect fill=\"#FFFFFF\" height=\"75.5469\" id=\"E2\" style=\"stroke: #383838; stroke-width: 1.5;\" width=\"95\" x=\"460.5\" y=\"83\"/><text fill=\"#000000\" font-family=\"sans-serif\" font-size=\"12\" font-style=\"italic\" lengthAdjust=\"spacingAndGlyphs\" textLength=\"93\" x=\"461.5\" y=\"99.1387\">«attribute def»</text><text fill=\"#000000\" font-family=\"sans-serif\" font-size=\"12\" lengthAdjust=\"spacingAndGlyphs\" textLength=\"19\" x=\"498.5\" y=\"113.1074\">Sig</text><line style=\"stroke: #383838; stroke-width: 1.5;\" x1=\"461.5\" x2=\"554.5\" y1=\"120.9375\" y2=\"120.9375\"/><text fill=\"#000000\" font-family=\"sans-serif\" font-size=\"11\" lengthAdjust=\"spacingAndGlyphs\" textLength=\"6\" x=\"466.5\" y=\"151.9526\">x</text><line style=\"stroke: #383838; stroke-width: 1.0;\" x1=\"461.5\" x2=\"480.5\" y1=\"135.3398\" y2=\"135.3398\"/><text fill=\"#000000\" font-family=\"sans-serif\" font-size=\"11\" lengthAdjust=\"spacingAndGlyphs\" textLength=\"55\" x=\"480.5\" y=\"138.6479\">attributes</text><line style=\"stroke: #383838; stroke-width: 1.0;\" x1=\"535.5\" x2=\"554.5\" y1=\"135.3398\" y2=\"135.3398\"/></a><!--MD5=[09b614a08d8cba4a07c9adeb5e0fee81]\n",
       "class E3--><a href=\"psysml:0109ef31-4e51-4de7-9ac0-eb82fbd89c67\" target=\"_top\" title=\"psysml:0109ef31-4e51-4de7-9ac0-eb82fbd89c67\" xlink:actuate=\"onRequest\" xlink:href=\"psysml:0109ef31-4e51-4de7-9ac0-eb82fbd89c67\" xlink:show=\"new\" xlink:title=\"psysml:0109ef31-4e51-4de7-9ac0-eb82fbd89c67\" xlink:type=\"simple\"><rect fill=\"#FFFFFF\" height=\"45.9375\" id=\"E3\" style=\"stroke: #383838; stroke-width: 1.5;\" width=\"95\" x=\"330.5\" y=\"98\"/><text fill=\"#000000\" font-family=\"sans-serif\" font-size=\"12\" font-style=\"italic\" lengthAdjust=\"spacingAndGlyphs\" textLength=\"93\" x=\"331.5\" y=\"114.1387\">«attribute def»</text><text fill=\"#000000\" font-family=\"sans-serif\" font-size=\"12\" lengthAdjust=\"spacingAndGlyphs\" textLength=\"22\" x=\"367\" y=\"128.1074\">Exit</text><line style=\"stroke: #383838; stroke-width: 1.5;\" x1=\"331.5\" x2=\"424.5\" y1=\"135.9375\" y2=\"135.9375\"/></a><!--MD5=[ebbe1d658d1005bcc118a6aa81145e00]\n",
       "class E4--><a href=\"psysml:64a2c9fa-aa89-4eff-b01c-ff58906cbde0\" target=\"_top\" title=\"psysml:64a2c9fa-aa89-4eff-b01c-ff58906cbde0\" xlink:actuate=\"onRequest\" xlink:href=\"psysml:64a2c9fa-aa89-4eff-b01c-ff58906cbde0\" xlink:show=\"new\" xlink:title=\"psysml:64a2c9fa-aa89-4eff-b01c-ff58906cbde0\" xlink:type=\"simple\"><rect fill=\"#FFFFFF\" height=\"45.9375\" id=\"E4\" rx=\"10\" ry=\"10\" style=\"stroke: #383838; stroke-width: 1.5;\" width=\"42\" x=\"253\" y=\"98\"/><text fill=\"#000000\" font-family=\"sans-serif\" font-size=\"12\" font-style=\"italic\" lengthAdjust=\"spacingAndGlyphs\" textLength=\"40\" x=\"254\" y=\"114.1387\">«part»</text><text fill=\"#000000\" font-family=\"sans-serif\" font-size=\"12\" lengthAdjust=\"spacingAndGlyphs\" textLength=\"8\" x=\"270\" y=\"128.1074\">p</text><line style=\"stroke: #383838; stroke-width: 1.5;\" x1=\"254\" x2=\"294\" y1=\"135.9375\" y2=\"135.9375\"/></a><!--MD5=[270fce915f116d4de14055a7c1d9a0f3]\n",
       "class E5--><a href=\"psysml:6519856a-88df-4cdc-a713-a9dddd16e281\" target=\"_top\" title=\"psysml:6519856a-88df-4cdc-a713-a9dddd16e281\" xlink:actuate=\"onRequest\" xlink:href=\"psysml:6519856a-88df-4cdc-a713-a9dddd16e281\" xlink:show=\"new\" xlink:title=\"psysml:6519856a-88df-4cdc-a713-a9dddd16e281\" xlink:type=\"simple\"><rect fill=\"#FFFFFF\" height=\"45.9375\" id=\"E5\" rx=\"10\" ry=\"10\" style=\"stroke: #383838; stroke-width: 1.5;\" width=\"55\" x=\"162.5\" y=\"98\"/><text fill=\"#000000\" font-family=\"sans-serif\" font-size=\"12\" font-style=\"italic\" lengthAdjust=\"spacingAndGlyphs\" textLength=\"53\" x=\"163.5\" y=\"114.1387\">«action»</text><text fill=\"#000000\" font-family=\"sans-serif\" font-size=\"12\" lengthAdjust=\"spacingAndGlyphs\" textLength=\"20\" x=\"180\" y=\"128.1074\">act</text><line style=\"stroke: #383838; stroke-width: 1.5;\" x1=\"163.5\" x2=\"216.5\" y1=\"135.9375\" y2=\"135.9375\"/></a><!--MD5=[60a26617385b1d2d0262a64233df1f8d]\n",
       "class E6--><a href=\"psysml:0bc7341d-f31b-4869-a064-1af20ff16fcc\" target=\"_top\" title=\"psysml:0bc7341d-f31b-4869-a064-1af20ff16fcc\" xlink:actuate=\"onRequest\" xlink:href=\"psysml:0bc7341d-f31b-4869-a064-1af20ff16fcc\" xlink:show=\"new\" xlink:title=\"psysml:0bc7341d-f31b-4869-a064-1af20ff16fcc\" xlink:type=\"simple\"><rect fill=\"#FFFFFF\" height=\"160.375\" id=\"E6\" style=\"stroke: #383838; stroke-width: 1.5;\" width=\"95\" x=\"32.5\" y=\"41\"/><text fill=\"#000000\" font-family=\"sans-serif\" font-size=\"12\" font-style=\"italic\" lengthAdjust=\"spacingAndGlyphs\" textLength=\"71\" x=\"44.5\" y=\"57.1387\">«state def»</text><text fill=\"#000000\" font-family=\"sans-serif\" font-size=\"12\" lengthAdjust=\"spacingAndGlyphs\" textLength=\"8\" x=\"76\" y=\"71.1074\">S</text><line style=\"stroke: #383838; stroke-width: 1.5;\" x1=\"33.5\" x2=\"126.5\" y1=\"78.9375\" y2=\"78.9375\"/><text fill=\"#000000\" font-family=\"sans-serif\" font-size=\"11\" lengthAdjust=\"spacingAndGlyphs\" textLength=\"17\" x=\"38.5\" y=\"109.9526\">act</text><text fill=\"#000000\" font-family=\"sans-serif\" font-size=\"11\" lengthAdjust=\"spacingAndGlyphs\" textLength=\"7\" x=\"38.5\" y=\"122.7573\">A</text><text fill=\"#000000\" font-family=\"sans-serif\" font-size=\"11\" lengthAdjust=\"spacingAndGlyphs\" textLength=\"8\" x=\"38.5\" y=\"135.562\">B</text><line style=\"stroke: #383838; stroke-width: 1.0;\" x1=\"33.5\" x2=\"36.5\" y1=\"93.3398\" y2=\"93.3398\"/><text fill=\"#000000\" font-family=\"sans-serif\" font-size=\"11\" lengthAdjust=\"spacingAndGlyphs\" textLength=\"87\" x=\"36.5\" y=\"96.6479\">performActions</text><line style=\"stroke: #383838; stroke-width: 1.0;\" x1=\"123.5\" x2=\"126.5\" y1=\"93.3398\" y2=\"93.3398\"/><text fill=\"#000000\" font-family=\"sans-serif\" font-size=\"11\" lengthAdjust=\"spacingAndGlyphs\" textLength=\"15\" x=\"38.5\" y=\"165.1714\">S1</text><line style=\"stroke: #383838; stroke-width: 1.0;\" x1=\"33.5\" x2=\"62\" y1=\"148.5586\" y2=\"148.5586\"/><text fill=\"#000000\" font-family=\"sans-serif\" font-size=\"11\" lengthAdjust=\"spacingAndGlyphs\" textLength=\"36\" x=\"62\" y=\"151.8667\">states</text><line style=\"stroke: #383838; stroke-width: 1.0;\" x1=\"98\" x2=\"126.5\" y1=\"148.5586\" y2=\"148.5586\"/><text fill=\"#000000\" font-family=\"sans-serif\" font-size=\"11\" lengthAdjust=\"spacingAndGlyphs\" textLength=\"7\" x=\"38.5\" y=\"194.7808\">T</text><line style=\"stroke: #383838; stroke-width: 1.0;\" x1=\"33.5\" x2=\"49.5\" y1=\"178.168\" y2=\"178.168\"/><text fill=\"#000000\" font-family=\"sans-serif\" font-size=\"11\" lengthAdjust=\"spacingAndGlyphs\" textLength=\"61\" x=\"49.5\" y=\"181.4761\">transitions</text><line style=\"stroke: #383838; stroke-width: 1.0;\" x1=\"110.5\" x2=\"126.5\" y1=\"178.168\" y2=\"178.168\"/></a><!--MD5=[1dd1bfd58a279cf63c5f349dbc8fc6a1]\n",
       "class E11--><a href=\"psysml:a085f23d-1115-47bd-987f-c38856471ed2\" target=\"_top\" title=\"psysml:a085f23d-1115-47bd-987f-c38856471ed2\" xlink:actuate=\"onRequest\" xlink:href=\"psysml:a085f23d-1115-47bd-987f-c38856471ed2\" xlink:show=\"new\" xlink:title=\"psysml:a085f23d-1115-47bd-987f-c38856471ed2\" xlink:type=\"simple\"><rect fill=\"#FFFFFF\" height=\"45.9375\" id=\"E11\" rx=\"10\" ry=\"10\" style=\"stroke: #383838; stroke-width: 1.5;\" width=\"49\" x=\"55.5\" y=\"261\"/><text fill=\"#000000\" font-family=\"sans-serif\" font-size=\"12\" font-style=\"italic\" lengthAdjust=\"spacingAndGlyphs\" textLength=\"47\" x=\"56.5\" y=\"277.1387\">«state»</text><text fill=\"#000000\" font-family=\"sans-serif\" font-size=\"12\" lengthAdjust=\"spacingAndGlyphs\" textLength=\"16\" x=\"72\" y=\"291.1074\">S2</text><line style=\"stroke: #383838; stroke-width: 1.5;\" x1=\"56.5\" x2=\"103.5\" y1=\"298.9375\" y2=\"298.9375\"/></a><!--MD5=[49a0ec8f00dab7302a31f22d0f0fe584]\n",
       "class E12--><a href=\"psysml:cfc90439-05ae-44f8-b88d-04fe860fe407\" target=\"_top\" title=\"psysml:cfc90439-05ae-44f8-b88d-04fe860fe407\" xlink:actuate=\"onRequest\" xlink:href=\"psysml:cfc90439-05ae-44f8-b88d-04fe860fe407\" xlink:show=\"new\" xlink:title=\"psysml:cfc90439-05ae-44f8-b88d-04fe860fe407\" xlink:type=\"simple\"><rect fill=\"#FFFFFF\" height=\"75.5469\" id=\"E12\" rx=\"10\" ry=\"10\" style=\"stroke: #383838; stroke-width: 1.5;\" width=\"90\" x=\"35\" y=\"367\"/><text fill=\"#000000\" font-family=\"sans-serif\" font-size=\"12\" font-style=\"italic\" lengthAdjust=\"spacingAndGlyphs\" textLength=\"88\" x=\"36\" y=\"383.1387\">«send action»</text><text fill=\"#000000\" font-family=\"sans-serif\" font-size=\"12\" lengthAdjust=\"spacingAndGlyphs\" textLength=\"55\" x=\"52.5\" y=\"397.1074\">doAction</text><line style=\"stroke: #383838; stroke-width: 1.5;\" x1=\"36\" x2=\"124\" y1=\"404.9375\" y2=\"404.9375\"/><text fill=\"#000000\" font-family=\"sans-serif\" font-size=\"11\" lengthAdjust=\"spacingAndGlyphs\" textLength=\"25\" x=\"41\" y=\"435.9526\">item</text><line style=\"stroke: #383838; stroke-width: 1.0;\" x1=\"36\" x2=\"42.5\" y1=\"419.3398\" y2=\"419.3398\"/><text fill=\"#000000\" font-family=\"sans-serif\" font-size=\"11\" lengthAdjust=\"spacingAndGlyphs\" textLength=\"75\" x=\"42.5\" y=\"422.6479\">itemFeatures</text><line style=\"stroke: #383838; stroke-width: 1.0;\" x1=\"117.5\" x2=\"124\" y1=\"419.3398\" y2=\"419.3398\"/></a><!--MD5=[1f5f03483f7de0d5b3680a7f6650997f]\n",
       "reverse link E6 to E11--><a href=\"psysml:a085f23d-1115-47bd-987f-c38856471ed2\" target=\"_top\" title=\"psysml:a085f23d-1115-47bd-987f-c38856471ed2\" xlink:actuate=\"onRequest\" xlink:href=\"psysml:a085f23d-1115-47bd-987f-c38856471ed2\" xlink:show=\"new\" xlink:title=\"psysml:a085f23d-1115-47bd-987f-c38856471ed2\" xlink:type=\"simple\"><path d=\"M80,214.17 C80,231.58 80,248.25 80,260.82 \" fill=\"none\" id=\"E6&lt;-E11\" style=\"stroke: #383838; stroke-width: 1.0;\"/><polygon fill=\"#383838\" points=\"80,201.09,76.0066,207.0944,80.0132,213.09,84.0066,207.0856,80,201.09\" style=\"stroke: #383838; stroke-width: 1.0;\"/></a><!--MD5=[94adabc162ce7e41b39f13be14fbaeb3]\n",
       "reverse link E11 to E12--><a href=\"psysml:cfc90439-05ae-44f8-b88d-04fe860fe407\" target=\"_top\" title=\"psysml:cfc90439-05ae-44f8-b88d-04fe860fe407\" xlink:actuate=\"onRequest\" xlink:href=\"psysml:cfc90439-05ae-44f8-b88d-04fe860fe407\" xlink:show=\"new\" xlink:title=\"psysml:cfc90439-05ae-44f8-b88d-04fe860fe407\" xlink:type=\"simple\"><path d=\"M80,320.23 C80,334.82 80,351.76 80,366.58 \" fill=\"none\" id=\"E11&lt;-E12\" style=\"stroke: #383838; stroke-width: 1.0;\"/><polygon fill=\"#FFFFFF\" points=\"80,307.1,76,313.1,80,319.1,84,313.1,80,307.1\" style=\"stroke: #383838; stroke-width: 1.0;\"/></a><!--MD5=[176c9024e0b85e4781a2267cab9618e2]\n",
       "@startuml\r\n",
       "skinparam linetype polyline\r\n",
       "skinparam monochrome true\r\n",
       "skinparam classbackgroundcolor white\r\n",
       "skinparam shadowing false\r\n",
       "skinparam wrapWidth 300\r\n",
       "hide circle\r\n",
       "\r\n",
       "package \"StateTest\" as E1  [[psysml:5e99c5ac-660c-4bcd-ba7f-80dc44a07c9e ]]  {\r\n",
       "comp def \"Sig\" as E2  <<(T,blue)attribute def>> [[psysml:408e0494-0708-476d-85d5-333a69b53e96 ]] {\r\n",
       "- - attributes - -\r\n",
       "x\r\n",
       "}\r\n",
       "comp def \"Exit\" as E3  <<(T,blue)attribute def>> [[psysml:0109ef31-4e51-4de7-9ac0-eb82fbd89c67 ]] {\r\n",
       "}\r\n",
       "comp usage \"p\" as E4  <<(T,blue)part>> [[psysml:64a2c9fa-aa89-4eff-b01c-ff58906cbde0 ]] {\r\n",
       "}\r\n",
       "comp usage \"act\" as E5  <<(T,blue)action>> [[psysml:6519856a-88df-4cdc-a713-a9dddd16e281 ]] {\r\n",
       "}\r\n",
       "comp def \"S\" as E6  <<(T,blue)state def>> [[psysml:0bc7341d-f31b-4869-a064-1af20ff16fcc ]] {\r\n",
       "- - performActions - -\r\n",
       "act\r\n",
       "A\r\n",
       "B\r\n",
       "- - states - -\r\n",
       "S1\r\n",
       "- - transitions - -\r\n",
       "T\r\n",
       "}\r\n",
       "comp usage \"S2\" as E11  <<(T,blue)state>> [[psysml:a085f23d-1115-47bd-987f-c38856471ed2 ]] {\r\n",
       "}\r\n",
       "comp usage \"doAction\" as E12 <<send action>> [[psysml:cfc90439-05ae-44f8-b88d-04fe860fe407 ]] {\r\n",
       "- - itemFeatures - -\r\n",
       "item\r\n",
       "}\r\n",
       "E6 *- - E11 [[psysml:a085f23d-1115-47bd-987f-c38856471ed2 ]] \r\n",
       "E11 o- - E12 [[psysml:cfc90439-05ae-44f8-b88d-04fe860fe407 ]] \r\n",
       "}\r\n",
       "@enduml\r\n",
       "\n",
       "PlantUML version 1.2020.13(Sat Jun 13 12:26:38 UTC 2020)\n",
       "(EPL source distribution)\n",
       "Java Runtime: OpenJDK Runtime Environment\n",
       "JVM: OpenJDK 64-Bit Server VM\n",
       "Default Encoding: UTF-8\n",
       "Language: en\n",
       "Country: null\n",
       "--></g></svg>"
      ]
     },
     "execution_count": 10,
     "metadata": {},
     "output_type": "execute_result"
    }
   ],
   "source": [
    "%viz --style=\"POLYLINE\" --view=\"Tree\" \"StateTest\""
   ]
  },
  {
   "cell_type": "code",
   "execution_count": 11,
   "id": "focused-audit",
   "metadata": {
    "execution": {
     "iopub.execute_input": "2021-03-26T13:02:45.002459Z",
     "iopub.status.busy": "2021-03-26T13:02:45.001777Z",
     "iopub.status.idle": "2021-03-26T13:02:45.045330Z",
     "shell.execute_reply": "2021-03-26T13:02:45.045690Z"
    }
   },
   "outputs": [
    {
     "data": {
      "image/svg+xml": [
       "<?xml version=\"1.0\" encoding=\"UTF-8\" standalone=\"no\"?><svg xmlns=\"http://www.w3.org/2000/svg\" xmlns:xlink=\"http://www.w3.org/1999/xlink\" contentScriptType=\"application/ecmascript\" contentStyleType=\"text/css\" height=\"475px\" preserveAspectRatio=\"none\" style=\"width:346px;height:475px;\" version=\"1.1\" viewBox=\"0 0 346 475\" width=\"346px\" zoomAndPan=\"magnify\"><defs/><g><!--MD5=[fbc87193dbaf4d95561dea2c320d4a47]\n",
       "cluster E1--><a href=\"psysml:0bc7341d-f31b-4869-a064-1af20ff16fcc\" target=\"_top\" title=\"psysml:0bc7341d-f31b-4869-a064-1af20ff16fcc\" xlink:actuate=\"onRequest\" xlink:href=\"psysml:0bc7341d-f31b-4869-a064-1af20ff16fcc\" xlink:show=\"new\" xlink:title=\"psysml:0bc7341d-f31b-4869-a064-1af20ff16fcc\" xlink:type=\"simple\"><rect fill=\"#FFFFFF\" height=\"457\" id=\"E1\" style=\"stroke: #383838; stroke-width: 1.5;\" width=\"327\" x=\"7\" y=\"7\"/><rect fill=\"#F8F8F8\" height=\"37.9375\" style=\"stroke: #383838; stroke-width: 1.5;\" width=\"327\" x=\"7\" y=\"7\"/><text fill=\"#000000\" font-family=\"sans-serif\" font-size=\"12\" font-style=\"italic\" lengthAdjust=\"spacingAndGlyphs\" textLength=\"71\" x=\"135\" y=\"23.1387\">«state def»</text><text fill=\"#000000\" font-family=\"sans-serif\" font-size=\"12\" lengthAdjust=\"spacingAndGlyphs\" textLength=\"8\" x=\"166.5\" y=\"37.1074\">S</text><line style=\"stroke: #383838; stroke-width: 1.0;\" x1=\"7\" x2=\"334\" y1=\"90.8438\" y2=\"90.8438\"/><text fill=\"#000000\" font-family=\"sans-serif\" font-size=\"12\" font-weight=\"bold\" lengthAdjust=\"spacingAndGlyphs\" textLength=\"38\" x=\"12\" y=\"58.0762\">entry</text><text fill=\"#000000\" font-family=\"sans-serif\" font-size=\"12\" lengthAdjust=\"spacingAndGlyphs\" textLength=\"16\" x=\"50\" y=\"58.0762\">/ A</text><text fill=\"#000000\" font-family=\"sans-serif\" font-size=\"12\" font-weight=\"bold\" lengthAdjust=\"spacingAndGlyphs\" textLength=\"18\" x=\"12\" y=\"72.0449\">do</text><text fill=\"#000000\" font-family=\"sans-serif\" font-size=\"12\" lengthAdjust=\"spacingAndGlyphs\" textLength=\"16\" x=\"30\" y=\"72.0449\">/ B</text><text fill=\"#000000\" font-family=\"sans-serif\" font-size=\"12\" font-weight=\"bold\" lengthAdjust=\"spacingAndGlyphs\" textLength=\"26\" x=\"12\" y=\"86.0137\">exit</text><text fill=\"#000000\" font-family=\"sans-serif\" font-size=\"12\" lengthAdjust=\"spacingAndGlyphs\" textLength=\"28\" x=\"38\" y=\"86.0137\">/ act</text></a><ellipse cx=\"119\" cy=\"115\" fill=\"#000000\" rx=\"10\" ry=\"10\" style=\"stroke: none; stroke-width: 1.0;\"/><ellipse cx=\"119\" cy=\"438\" fill=\"none\" rx=\"10\" ry=\"10\" style=\"stroke: #000000; stroke-width: 1.0;\"/><ellipse cx=\"119.5\" cy=\"438.5\" fill=\"#000000\" rx=\"6\" ry=\"6\" style=\"stroke: none; stroke-width: 1.0;\"/><g id=\"E1.E2\"><a href=\"psysml:70242e19-3f56-46b0-b4b5-fd0d440c29ee\" target=\"_top\" title=\"psysml:70242e19-3f56-46b0-b4b5-fd0d440c29ee\" xlink:actuate=\"onRequest\" xlink:href=\"psysml:70242e19-3f56-46b0-b4b5-fd0d440c29ee\" xlink:show=\"new\" xlink:title=\"psysml:70242e19-3f56-46b0-b4b5-fd0d440c29ee\" xlink:type=\"simple\"><rect fill=\"#FFFFFF\" height=\"40\" id=\"E2\" rx=\"10\" ry=\"10\" style=\"stroke: #383838; stroke-width: 1.5;\" width=\"50\" x=\"94\" y=\"186\"/><rect fill=\"#F8F8F8\" height=\"23.9688\" rx=\"10\" ry=\"10\" style=\"stroke: #F8F8F8; stroke-width: 1.5;\" width=\"50\" x=\"94\" y=\"186\"/><rect fill=\"#F8F8F8\" height=\"10\" style=\"stroke: #F8F8F8; stroke-width: 1.5;\" width=\"50\" x=\"94\" y=\"199.9688\"/><rect fill=\"none\" height=\"40\" id=\"E2\" rx=\"10\" ry=\"10\" style=\"stroke: #383838; stroke-width: 1.5;\" width=\"50\" x=\"94\" y=\"186\"/><text fill=\"#000000\" font-family=\"sans-serif\" font-size=\"12\" lengthAdjust=\"spacingAndGlyphs\" textLength=\"16\" x=\"111\" y=\"202.1387\">S1</text></a></g><g id=\"E1.E3\"><a href=\"psysml:a085f23d-1115-47bd-987f-c38856471ed2\" target=\"_top\" title=\"psysml:a085f23d-1115-47bd-987f-c38856471ed2\" xlink:actuate=\"onRequest\" xlink:href=\"psysml:a085f23d-1115-47bd-987f-c38856471ed2\" xlink:show=\"new\" xlink:title=\"psysml:a085f23d-1115-47bd-987f-c38856471ed2\" xlink:type=\"simple\"><rect fill=\"#FFFFFF\" height=\"47.9375\" id=\"E3\" rx=\"10\" ry=\"10\" style=\"stroke: #383838; stroke-width: 1.5;\" width=\"50\" x=\"94\" y=\"303\"/><rect fill=\"#F8F8F8\" height=\"23.9688\" rx=\"10\" ry=\"10\" style=\"stroke: #F8F8F8; stroke-width: 1.5;\" width=\"50\" x=\"94\" y=\"303\"/><rect fill=\"#F8F8F8\" height=\"10\" style=\"stroke: #F8F8F8; stroke-width: 1.5;\" width=\"50\" x=\"94\" y=\"316.9688\"/><rect fill=\"none\" height=\"47.9375\" id=\"E3\" rx=\"10\" ry=\"10\" style=\"stroke: #383838; stroke-width: 1.5;\" width=\"50\" x=\"94\" y=\"303\"/><text fill=\"#000000\" font-family=\"sans-serif\" font-size=\"12\" lengthAdjust=\"spacingAndGlyphs\" textLength=\"16\" x=\"111\" y=\"319.1387\">S2</text><line style=\"stroke: #383838; stroke-width: 1.0;\" x1=\"94\" x2=\"144\" y1=\"326.9688\" y2=\"326.9688\"/><text fill=\"#000000\" font-family=\"sans-serif\" font-size=\"12\" font-weight=\"bold\" lengthAdjust=\"spacingAndGlyphs\" textLength=\"18\" x=\"99\" y=\"340.1074\">do</text><text fill=\"#000000\" font-family=\"sans-serif\" font-size=\"12\" lengthAdjust=\"spacingAndGlyphs\" textLength=\"4\" x=\"117\" y=\"340.1074\">/</text></a></g><!--MD5=[cff944eb183b832d446717a4e202d613]\n",
       "link *start*E1 to E2--><a href=\"psysml:43d9c4f9-ed20-4c00-a0b0-be6dc49a6894\" target=\"_top\" title=\"psysml:43d9c4f9-ed20-4c00-a0b0-be6dc49a6894\" xlink:actuate=\"onRequest\" xlink:href=\"psysml:43d9c4f9-ed20-4c00-a0b0-be6dc49a6894\" xlink:show=\"new\" xlink:title=\"psysml:43d9c4f9-ed20-4c00-a0b0-be6dc49a6894\" xlink:type=\"simple\"><path d=\"M119,125.19 C119,138.18 119,162.38 119,180.73 \" fill=\"none\" id=\"*start*E1-&gt;E2\" style=\"stroke: #383838; stroke-width: 1.0;\"/><polygon fill=\"#383838\" points=\"119,185.74,123,176.74,119,180.74,115,176.74,119,185.74\" style=\"stroke: #383838; stroke-width: 1.0;\"/></a><!--MD5=[9ee7afa76ca8c509b3d216624c3a9893]\n",
       "link E3 to *end*E1--><a href=\"psysml:f955b7ee-57f2-4e8a-b602-a443c9a31c83\" target=\"_top\" title=\"psysml:f955b7ee-57f2-4e8a-b602-a443c9a31c83\" xlink:actuate=\"onRequest\" xlink:href=\"psysml:f955b7ee-57f2-4e8a-b602-a443c9a31c83\" xlink:show=\"new\" xlink:title=\"psysml:f955b7ee-57f2-4e8a-b602-a443c9a31c83\" xlink:type=\"simple\"><path d=\"M119,351.12 C119,372.75 119,404.39 119,422.62 \" fill=\"none\" id=\"E3-&gt;*end*E1\" style=\"stroke: #383838; stroke-width: 1.0;\"/><polygon fill=\"#383838\" points=\"119,427.82,123,418.82,119,422.82,115,418.82,119,427.82\" style=\"stroke: #383838; stroke-width: 1.0;\"/><text fill=\"#000000\" font-family=\"sans-serif\" font-size=\"13\" lengthAdjust=\"spacingAndGlyphs\" textLength=\"23\" x=\"120\" y=\"394.0669\">Exit</text></a><!--MD5=[2720a5a1f2c3fca2055b230370638851]\n",
       "link E2 to E3--><a href=\"psysml:d37fdc60-36d2-41f0-83fe-622a63ffc619\" target=\"_top\" title=\"psysml:d37fdc60-36d2-41f0-83fe-622a63ffc619\" xlink:actuate=\"onRequest\" xlink:href=\"psysml:d37fdc60-36d2-41f0-83fe-622a63ffc619\" xlink:show=\"new\" xlink:title=\"psysml:d37fdc60-36d2-41f0-83fe-622a63ffc619\" xlink:type=\"simple\"><path d=\"M94.07,226.08 C76.1,239.84 55,256 55,256 C55,256 55,273 55,273 C55,273 72.69,287.65 89.47,301.55 \" fill=\"none\" id=\"E2-&gt;E3\" style=\"stroke: #383838; stroke-width: 1.0;\"/><polygon fill=\"#383838\" points=\"93.71,305.05,89.3341,296.2267,89.8607,301.8589,84.2284,302.3855,93.71,305.05\" style=\"stroke: #383838; stroke-width: 1.0;\"/><text fill=\"#000000\" font-family=\"sans-serif\" font-size=\"13\" lengthAdjust=\"spacingAndGlyphs\" textLength=\"81\" x=\"56\" y=\"269.0669\">Sig /action D</text></a><!--MD5=[05d275557350bfb9b23a4ef7222b4c39]\n",
       "link E3 to E2--><a href=\"psysml:b2ce6d4b-1a56-4d0e-ade4-ffb9136266c2\" target=\"_top\" title=\"psysml:b2ce6d4b-1a56-4d0e-ade4-ffb9136266c2\" xlink:actuate=\"onRequest\" xlink:href=\"psysml:b2ce6d4b-1a56-4d0e-ade4-ffb9136266c2\" xlink:show=\"new\" xlink:title=\"psysml:b2ce6d4b-1a56-4d0e-ade4-ffb9136266c2\" xlink:type=\"simple\"><path d=\"M129.02,302.91 C135.22,288.63 142,273 142,273 C142,273 142,256 142,256 C142,256 135.98,243.18 130.11,230.66 \" fill=\"none\" id=\"E3-&gt;E2\" style=\"stroke: #383838; stroke-width: 1.0;\"/><polygon fill=\"#383838\" points=\"127.96,226.08,128.1429,235.9272,130.0752,230.6106,135.3918,232.5428,127.96,226.08\" style=\"stroke: #383838; stroke-width: 1.0;\"/><text fill=\"#000000\" font-family=\"sans-serif\" font-size=\"13\" lengthAdjust=\"spacingAndGlyphs\" textLength=\"135\" x=\"143\" y=\"269.0669\">Sig [true]/send s to p</text></a><!--MD5=[19a8cc3a8038987ea3109d2617a977a6]\n",
       "@startuml\r\n",
       "skinparam linetype polyline\r\n",
       "skinparam monochrome true\r\n",
       "skinparam classbackgroundcolor white\r\n",
       "skinparam shadowing false\r\n",
       "skinparam wrapWidth 300\r\n",
       "hide circle\r\n",
       "\r\n",
       "rec def \"S\" as E1  <<(T,blue)state def>> [[psysml:0bc7341d-f31b-4869-a064-1af20ff16fcc ]] {\r\n",
       "rec usage \"S1\" as E2 [[psysml:70242e19-3f56-46b0-b4b5-fd0d440c29ee ]] {\r\n",
       "}\r\n",
       "\r\n",
       "rec usage \"S2\" as E3 [[psysml:a085f23d-1115-47bd-987f-c38856471ed2 ]] {\r\n",
       "desc \"S2\" as E3  : **do**/ \r\n",
       "}\r\n",
       "\r\n",
       "[*] - -> E2 [[psysml:43d9c4f9-ed20-4c00-a0b0-be6dc49a6894 ]] \r\n",
       "E3  - -> [*] [[psysml:f955b7ee-57f2-4e8a-b602-a443c9a31c83 ]] : Exit \r\n",
       "desc \"S\" as E1  : **entry**/ A\r\n",
       "desc \"S\" as E1  : **do**/ B\r\n",
       "desc \"S\" as E1  : **exit**/ act \r\n",
       "}\r\n",
       "\r\n",
       "E2  - -> E3 [[psysml:d37fdc60-36d2-41f0-83fe-622a63ffc619 ]] : Sig /action D\r\n",
       "E3  - -> E2 [[psysml:b2ce6d4b-1a56-4d0e-ade4-ffb9136266c2 ]] : Sig [true]/send s to p\r\n",
       "@enduml\r\n",
       "\n",
       "PlantUML version 1.2020.13(Sat Jun 13 12:26:38 UTC 2020)\n",
       "(EPL source distribution)\n",
       "Java Runtime: OpenJDK Runtime Environment\n",
       "JVM: OpenJDK 64-Bit Server VM\n",
       "Default Encoding: UTF-8\n",
       "Language: en\n",
       "Country: null\n",
       "--></g></svg>"
      ]
     },
     "execution_count": 11,
     "metadata": {},
     "output_type": "execute_result"
    }
   ],
   "source": [
    "%viz --style=\"POLYLINE\" --view=\"State\" \"StateTest\""
   ]
  },
  {
   "cell_type": "code",
   "execution_count": 12,
   "id": "operational-arrangement",
   "metadata": {
    "execution": {
     "iopub.execute_input": "2021-03-26T13:02:45.096935Z",
     "iopub.status.busy": "2021-03-26T13:02:45.096346Z",
     "iopub.status.idle": "2021-03-26T13:02:45.126926Z",
     "shell.execute_reply": "2021-03-26T13:02:45.127285Z"
    }
   },
   "outputs": [
    {
     "data": {
      "image/svg+xml": [
       "<?xml version=\"1.0\" encoding=\"UTF-8\" standalone=\"no\"?><svg xmlns=\"http://www.w3.org/2000/svg\" xmlns:xlink=\"http://www.w3.org/1999/xlink\" contentScriptType=\"application/ecmascript\" contentStyleType=\"text/css\" height=\"112px\" preserveAspectRatio=\"none\" style=\"width:598px;height:112px;\" version=\"1.1\" viewBox=\"0 0 598 112\" width=\"598px\" zoomAndPan=\"magnify\"><defs/><g><!--MD5=[fbc87193dbaf4d95561dea2c320d4a47]\n",
       "cluster E1--><a href=\"psysml:5e99c5ac-660c-4bcd-ba7f-80dc44a07c9e\" target=\"_top\" title=\"psysml:5e99c5ac-660c-4bcd-ba7f-80dc44a07c9e\" xlink:actuate=\"onRequest\" xlink:href=\"psysml:5e99c5ac-660c-4bcd-ba7f-80dc44a07c9e\" xlink:show=\"new\" xlink:title=\"psysml:5e99c5ac-660c-4bcd-ba7f-80dc44a07c9e\" xlink:type=\"simple\"><polygon fill=\"#FFFFFF\" points=\"16,6,98,6,105,28.2969,576,28.2969,576,100,16,100,16,6\" style=\"stroke: #000000; stroke-width: 1.5;\"/><line style=\"stroke: #000000; stroke-width: 1.5;\" x1=\"16\" x2=\"105\" y1=\"28.2969\" y2=\"28.2969\"/><text fill=\"#000000\" font-family=\"sans-serif\" font-size=\"14\" font-weight=\"bold\" lengthAdjust=\"spacingAndGlyphs\" textLength=\"76\" x=\"20\" y=\"20.9951\">StateTest</text></a><g id=\"E1.E2\"><a href=\"psysml:408e0494-0708-476d-85d5-333a69b53e96\" target=\"_top\" title=\"psysml:408e0494-0708-476d-85d5-333a69b53e96\" xlink:actuate=\"onRequest\" xlink:href=\"psysml:408e0494-0708-476d-85d5-333a69b53e96\" xlink:show=\"new\" xlink:title=\"psysml:408e0494-0708-476d-85d5-333a69b53e96\" xlink:type=\"simple\"><rect fill=\"#FFFFFF\" height=\"42.9375\" id=\"E2\" style=\"stroke: #383838; stroke-width: 1.5;\" width=\"100\" x=\"460\" y=\"41\"/><rect fill=\"#F8F8F8\" height=\"37.9375\" style=\"stroke: #383838; stroke-width: 1.5;\" width=\"100\" x=\"460\" y=\"41\"/><text fill=\"#000000\" font-family=\"sans-serif\" font-size=\"12\" font-style=\"italic\" lengthAdjust=\"spacingAndGlyphs\" textLength=\"93\" x=\"463.5\" y=\"57.1387\">«attribute def»</text><text fill=\"#000000\" font-family=\"sans-serif\" font-size=\"12\" lengthAdjust=\"spacingAndGlyphs\" textLength=\"19\" x=\"500.5\" y=\"71.1074\">Sig</text></a></g><g id=\"E1.E3\"><a href=\"psysml:0109ef31-4e51-4de7-9ac0-eb82fbd89c67\" target=\"_top\" title=\"psysml:0109ef31-4e51-4de7-9ac0-eb82fbd89c67\" xlink:actuate=\"onRequest\" xlink:href=\"psysml:0109ef31-4e51-4de7-9ac0-eb82fbd89c67\" xlink:show=\"new\" xlink:title=\"psysml:0109ef31-4e51-4de7-9ac0-eb82fbd89c67\" xlink:type=\"simple\"><rect fill=\"#FFFFFF\" height=\"42.9375\" id=\"E3\" style=\"stroke: #383838; stroke-width: 1.5;\" width=\"100\" x=\"325\" y=\"41\"/><rect fill=\"#F8F8F8\" height=\"37.9375\" style=\"stroke: #383838; stroke-width: 1.5;\" width=\"100\" x=\"325\" y=\"41\"/><text fill=\"#000000\" font-family=\"sans-serif\" font-size=\"12\" font-style=\"italic\" lengthAdjust=\"spacingAndGlyphs\" textLength=\"93\" x=\"328.5\" y=\"57.1387\">«attribute def»</text><text fill=\"#000000\" font-family=\"sans-serif\" font-size=\"12\" lengthAdjust=\"spacingAndGlyphs\" textLength=\"22\" x=\"364\" y=\"71.1074\">Exit</text></a></g><g id=\"E1.E6\"><a href=\"psysml:0bc7341d-f31b-4869-a064-1af20ff16fcc\" target=\"_top\" title=\"psysml:0bc7341d-f31b-4869-a064-1af20ff16fcc\" xlink:actuate=\"onRequest\" xlink:href=\"psysml:0bc7341d-f31b-4869-a064-1af20ff16fcc\" xlink:show=\"new\" xlink:title=\"psysml:0bc7341d-f31b-4869-a064-1af20ff16fcc\" xlink:type=\"simple\"><rect fill=\"#FFFFFF\" height=\"42.9375\" id=\"E6\" style=\"stroke: #383838; stroke-width: 1.5;\" width=\"78\" x=\"212\" y=\"41\"/><rect fill=\"#F8F8F8\" height=\"37.9375\" style=\"stroke: #383838; stroke-width: 1.5;\" width=\"78\" x=\"212\" y=\"41\"/><text fill=\"#000000\" font-family=\"sans-serif\" font-size=\"12\" font-style=\"italic\" lengthAdjust=\"spacingAndGlyphs\" textLength=\"71\" x=\"215.5\" y=\"57.1387\">«state def»</text><text fill=\"#000000\" font-family=\"sans-serif\" font-size=\"12\" lengthAdjust=\"spacingAndGlyphs\" textLength=\"8\" x=\"247\" y=\"71.1074\">S</text></a></g><g id=\"E1.E4\"><a href=\"psysml:64a2c9fa-aa89-4eff-b01c-ff58906cbde0\" target=\"_top\" title=\"psysml:64a2c9fa-aa89-4eff-b01c-ff58906cbde0\" xlink:actuate=\"onRequest\" xlink:href=\"psysml:64a2c9fa-aa89-4eff-b01c-ff58906cbde0\" xlink:show=\"new\" xlink:title=\"psysml:64a2c9fa-aa89-4eff-b01c-ff58906cbde0\" xlink:type=\"simple\"><rect fill=\"#FFFFFF\" height=\"40\" id=\"E4\" rx=\"10\" ry=\"10\" style=\"stroke: #383838; stroke-width: 1.5;\" width=\"50\" x=\"127\" y=\"42.5\"/><rect fill=\"#F8F8F8\" height=\"23.9688\" rx=\"10\" ry=\"10\" style=\"stroke: #F8F8F8; stroke-width: 1.5;\" width=\"50\" x=\"127\" y=\"42.5\"/><rect fill=\"#F8F8F8\" height=\"10\" style=\"stroke: #F8F8F8; stroke-width: 1.5;\" width=\"50\" x=\"127\" y=\"56.4688\"/><rect fill=\"none\" height=\"40\" id=\"E4\" rx=\"10\" ry=\"10\" style=\"stroke: #383838; stroke-width: 1.5;\" width=\"50\" x=\"127\" y=\"42.5\"/><text fill=\"#000000\" font-family=\"sans-serif\" font-size=\"12\" lengthAdjust=\"spacingAndGlyphs\" textLength=\"8\" x=\"148\" y=\"58.6387\">p</text></a></g><g id=\"E1.E5\"><a href=\"psysml:6519856a-88df-4cdc-a713-a9dddd16e281\" target=\"_top\" title=\"psysml:6519856a-88df-4cdc-a713-a9dddd16e281\" xlink:actuate=\"onRequest\" xlink:href=\"psysml:6519856a-88df-4cdc-a713-a9dddd16e281\" xlink:show=\"new\" xlink:title=\"psysml:6519856a-88df-4cdc-a713-a9dddd16e281\" xlink:type=\"simple\"><rect fill=\"#FFFFFF\" height=\"42.9375\" id=\"E5\" rx=\"10\" ry=\"10\" style=\"stroke: #383838; stroke-width: 1.5;\" width=\"60\" x=\"32\" y=\"41\"/><rect fill=\"#F8F8F8\" height=\"37.9375\" rx=\"10\" ry=\"10\" style=\"stroke: #F8F8F8; stroke-width: 1.5;\" width=\"60\" x=\"32\" y=\"41\"/><rect fill=\"#F8F8F8\" height=\"10\" style=\"stroke: #F8F8F8; stroke-width: 1.5;\" width=\"60\" x=\"32\" y=\"68.9375\"/><rect fill=\"none\" height=\"42.9375\" id=\"E5\" rx=\"10\" ry=\"10\" style=\"stroke: #383838; stroke-width: 1.5;\" width=\"60\" x=\"32\" y=\"41\"/><text fill=\"#000000\" font-family=\"sans-serif\" font-size=\"12\" font-style=\"italic\" lengthAdjust=\"spacingAndGlyphs\" textLength=\"53\" x=\"35.5\" y=\"57.1387\">«action»</text><text fill=\"#000000\" font-family=\"sans-serif\" font-size=\"12\" lengthAdjust=\"spacingAndGlyphs\" textLength=\"20\" x=\"52\" y=\"71.1074\">act</text></a></g><!--MD5=[2692bd8fb0d8dc2abf9d877ba8d430d0]\n",
       "@startuml\r\n",
       "skinparam ranksep 8\r\n",
       "skinparam rectangle {\r\n",
       " backgroundColor<<block>> LightGreen\r\n",
       "}\r\n",
       "skinparam linetype polyline\r\n",
       "skinparam monochrome true\r\n",
       "skinparam classbackgroundcolor white\r\n",
       "skinparam shadowing false\r\n",
       "skinparam wrapWidth 300\r\n",
       "hide circle\r\n",
       "\r\n",
       "package \"StateTest\" as E1  [[psysml:5e99c5ac-660c-4bcd-ba7f-80dc44a07c9e ]]  {\r\n",
       "def \"Sig\" as E2  <<(T,blue)attribute def>> [[psysml:408e0494-0708-476d-85d5-333a69b53e96 ]] \r\n",
       "def \"Exit\" as E3  <<(T,blue)attribute def>> [[psysml:0109ef31-4e51-4de7-9ac0-eb82fbd89c67 ]] \r\n",
       "rec usage \"p\" as E4  [[psysml:64a2c9fa-aa89-4eff-b01c-ff58906cbde0 ]] {\r\n",
       "}\r\n",
       "rec usage \"act\" as E5  <<(T,blue)action>> [[psysml:6519856a-88df-4cdc-a713-a9dddd16e281 ]] {\r\n",
       "}\r\n",
       "def \"S\" as E6  <<(T,blue)state def>> [[psysml:0bc7341d-f31b-4869-a064-1af20ff16fcc ]] \r\n",
       "}\r\n",
       "@enduml\r\n",
       "\n",
       "PlantUML version 1.2020.13(Sat Jun 13 12:26:38 UTC 2020)\n",
       "(EPL source distribution)\n",
       "Java Runtime: OpenJDK Runtime Environment\n",
       "JVM: OpenJDK 64-Bit Server VM\n",
       "Default Encoding: UTF-8\n",
       "Language: en\n",
       "Country: null\n",
       "--></g></svg>"
      ]
     },
     "execution_count": 12,
     "metadata": {},
     "output_type": "execute_result"
    }
   ],
   "source": [
    "%viz --style=\"POLYLINE\" --view=\"Interconnection\" \"StateTest\""
   ]
  },
  {
   "cell_type": "code",
   "execution_count": 13,
   "id": "spiritual-greeting",
   "metadata": {
    "execution": {
     "iopub.execute_input": "2021-03-26T13:02:45.181517Z",
     "iopub.status.busy": "2021-03-26T13:02:45.180718Z",
     "iopub.status.idle": "2021-03-26T13:02:45.206350Z",
     "shell.execute_reply": "2021-03-26T13:02:45.205553Z"
    }
   },
   "outputs": [
    {
     "data": {
      "image/svg+xml": [
       "<?xml version=\"1.0\" encoding=\"UTF-8\" standalone=\"no\"?><svg xmlns=\"http://www.w3.org/2000/svg\" xmlns:xlink=\"http://www.w3.org/1999/xlink\" contentScriptType=\"application/ecmascript\" contentStyleType=\"text/css\" height=\"483px\" preserveAspectRatio=\"none\" style=\"width:796px;height:483px;background:#000000;\" version=\"1.1\" viewBox=\"0 0 796 483\" width=\"796px\" zoomAndPan=\"magnify\"><defs/><g><rect fill=\"#0D1421\" height=\"1\" style=\"stroke: #0D1421; stroke-width: 1.0;\" width=\"1\" x=\"0\" y=\"0\"/><rect fill=\"#33FF02\" height=\"21.2969\" style=\"stroke: #33FF02; stroke-width: 1.0;\" width=\"789\" x=\"5\" y=\"5\"/><text fill=\"#000000\" font-family=\"sans-serif\" font-size=\"14\" font-weight=\"bold\" lengthAdjust=\"spacingAndGlyphs\" textLength=\"178\" x=\"6\" y=\"20\">[From string (line 26) ]</text><text fill=\"#33FF02\" font-family=\"sans-serif\" font-size=\"14\" font-weight=\"bold\" lengthAdjust=\"spacingAndGlyphs\" textLength=\"0\" x=\"10\" y=\"40.2969\"/><text fill=\"#33FF02\" font-family=\"sans-serif\" font-size=\"14\" font-weight=\"bold\" lengthAdjust=\"spacingAndGlyphs\" textLength=\"79\" x=\"5\" y=\"56.5938\">@startuml</text><text fill=\"#33FF02\" font-family=\"sans-serif\" font-size=\"14\" font-weight=\"bold\" lengthAdjust=\"spacingAndGlyphs\" textLength=\"165\" x=\"5\" y=\"72.8906\">skinparam ranksep 8</text><text fill=\"#33FF02\" font-family=\"sans-serif\" font-size=\"14\" font-weight=\"bold\" lengthAdjust=\"spacingAndGlyphs\" textLength=\"215\" x=\"5\" y=\"89.1875\">skinparam linetype polyline</text><text fill=\"#33FF02\" font-family=\"sans-serif\" font-size=\"14\" font-weight=\"bold\" lengthAdjust=\"spacingAndGlyphs\" textLength=\"228\" x=\"5\" y=\"105.4844\">skinparam monochrome true</text><text fill=\"#33FF02\" font-family=\"sans-serif\" font-size=\"14\" font-weight=\"bold\" lengthAdjust=\"spacingAndGlyphs\" textLength=\"309\" x=\"5\" y=\"121.7813\">skinparam classbackgroundcolor white</text><text fill=\"#33FF02\" font-family=\"sans-serif\" font-size=\"14\" font-weight=\"bold\" lengthAdjust=\"spacingAndGlyphs\" textLength=\"215\" x=\"5\" y=\"138.0781\">skinparam shadowing false</text><text fill=\"#33FF02\" font-family=\"sans-serif\" font-size=\"14\" font-weight=\"bold\" lengthAdjust=\"spacingAndGlyphs\" textLength=\"206\" x=\"5\" y=\"154.375\">skinparam wrapWidth 300</text><text fill=\"#33FF02\" font-family=\"sans-serif\" font-size=\"14\" font-weight=\"bold\" lengthAdjust=\"spacingAndGlyphs\" textLength=\"82\" x=\"5\" y=\"170.6719\">hide circle</text><text fill=\"#33FF02\" font-family=\"sans-serif\" font-size=\"14\" font-weight=\"bold\" lengthAdjust=\"spacingAndGlyphs\" textLength=\"0\" x=\"10\" y=\"186.9688\"/><text fill=\"#33FF02\" font-family=\"sans-serif\" font-size=\"14\" font-weight=\"bold\" lengthAdjust=\"spacingAndGlyphs\" textLength=\"781\" x=\"5\" y=\"203.2656\">rec usage \"act\" as E1  &lt;&lt;(T,blue)action&gt;&gt; [[psysml:6519856a-88df-4cdc-a713-a9dddd16e281 ]] {</text><text fill=\"#33FF02\" font-family=\"sans-serif\" font-size=\"14\" font-weight=\"bold\" lengthAdjust=\"spacingAndGlyphs\" textLength=\"10\" x=\"5\" y=\"219.5625\">}</text><text fill=\"#33FF02\" font-family=\"sans-serif\" font-size=\"14\" font-weight=\"bold\" lengthAdjust=\"spacingAndGlyphs\" textLength=\"0\" x=\"10\" y=\"235.8594\"/><text fill=\"#33FF02\" font-family=\"sans-serif\" font-size=\"14\" font-weight=\"bold\" lengthAdjust=\"spacingAndGlyphs\" textLength=\"752\" x=\"5\" y=\"252.1563\">rec def \"S\" as E2  &lt;&lt;(T,blue)state def&gt;&gt; [[psysml:0bc7341d-f31b-4869-a064-1af20ff16fcc ]] {</text><text fill=\"#33FF02\" font-family=\"sans-serif\" font-size=\"14\" font-weight=\"bold\" lengthAdjust=\"spacingAndGlyphs\" textLength=\"771\" x=\"5\" y=\"268.4531\">rec usage \"A\" as E3 &lt;&lt;perform action&gt;&gt; [[psysml:24ce981a-669a-4b1b-8e70-ec9679f168ba ]] {</text><text fill=\"#33FF02\" font-family=\"sans-serif\" font-size=\"14\" font-weight=\"bold\" lengthAdjust=\"spacingAndGlyphs\" textLength=\"10\" x=\"5\" y=\"284.75\">}</text><text fill=\"#33FF02\" font-family=\"sans-serif\" font-size=\"14\" font-weight=\"bold\" lengthAdjust=\"spacingAndGlyphs\" textLength=\"0\" x=\"10\" y=\"301.0469\"/><text fill=\"#33FF02\" font-family=\"sans-serif\" font-size=\"14\" font-weight=\"bold\" lengthAdjust=\"spacingAndGlyphs\" textLength=\"773\" x=\"5\" y=\"317.3438\">rec usage \"B\" as E4 &lt;&lt;perform action&gt;&gt; [[psysml:0cb81d18-66e4-4e05-a75e-b6d7358364f8 ]] {</text><text fill=\"#33FF02\" font-family=\"sans-serif\" font-size=\"14\" font-weight=\"bold\" lengthAdjust=\"spacingAndGlyphs\" textLength=\"10\" x=\"5\" y=\"333.6406\">}</text><text fill=\"#33FF02\" font-family=\"sans-serif\" font-size=\"14\" font-weight=\"bold\" lengthAdjust=\"spacingAndGlyphs\" textLength=\"0\" x=\"10\" y=\"349.9375\"/><text fill=\"#33FF02\" font-family=\"sans-serif\" font-size=\"14\" font-weight=\"bold\" lengthAdjust=\"spacingAndGlyphs\" textLength=\"789\" x=\"5\" y=\"366.2344\">rec usage \"act\" as E5 &lt;&lt;perform action&gt;&gt; [[psysml:3038242a-7c4d-4726-ae4e-c76791d4ee71 ]] {</text><text fill=\"#33FF02\" font-family=\"sans-serif\" font-size=\"14\" font-weight=\"bold\" lengthAdjust=\"spacingAndGlyphs\" textLength=\"10\" x=\"5\" y=\"382.5313\">}</text><text fill=\"#33FF02\" font-family=\"sans-serif\" font-size=\"14\" font-weight=\"bold\" lengthAdjust=\"spacingAndGlyphs\" textLength=\"0\" x=\"10\" y=\"398.8281\"/><text fill=\"#33FF02\" font-family=\"sans-serif\" font-size=\"14\" font-weight=\"bold\" lengthAdjust=\"spacingAndGlyphs\" textLength=\"769\" x=\"5\" y=\"415.125\">rec usage \"S1\" as E6  &lt;&lt;(T,blue)state&gt;&gt; [[psysml:70242e19-3f56-46b0-b4b5-fd0d440c29ee ]] {</text><text fill=\"#33FF02\" font-family=\"sans-serif\" font-size=\"14\" font-weight=\"bold\" lengthAdjust=\"spacingAndGlyphs\" textLength=\"10\" x=\"5\" y=\"431.4219\">}</text><text fill=\"#33FF02\" font-family=\"sans-serif\" font-size=\"14\" font-weight=\"bold\" lengthAdjust=\"spacingAndGlyphs\" textLength=\"0\" x=\"10\" y=\"447.7188\"/><text fill=\"#33FF02\" font-family=\"sans-serif\" font-size=\"14\" font-weight=\"bold\" lengthAdjust=\"spacingAndGlyphs\" textLength=\"10\" x=\"5\" y=\"464.0156\">{</text><text fill=\"#FF0000\" font-family=\"sans-serif\" font-size=\"14\" font-weight=\"bold\" lengthAdjust=\"spacingAndGlyphs\" textLength=\"106\" x=\"10\" y=\"480.3125\">Syntax Error?</text><!--MD5=[622cf4fc9c4bd2ca9125f2430720a866]\n",
       "@startuml\r\n",
       "skinparam ranksep 8\r\n",
       "skinparam linetype polyline\r\n",
       "skinparam monochrome true\r\n",
       "skinparam classbackgroundcolor white\r\n",
       "skinparam shadowing false\r\n",
       "skinparam wrapWidth 300\r\n",
       "hide circle\r\n",
       "\r\n",
       "rec usage \"act\" as E1  <<(T,blue)action>> [[psysml:6519856a-88df-4cdc-a713-a9dddd16e281 ]] {\r\n",
       "}\r\n",
       "\r\n",
       "rec def \"S\" as E2  <<(T,blue)state def>> [[psysml:0bc7341d-f31b-4869-a064-1af20ff16fcc ]] {\r\n",
       "rec usage \"A\" as E3 <<perform action>> [[psysml:24ce981a-669a-4b1b-8e70-ec9679f168ba ]] {\r\n",
       "}\r\n",
       "\r\n",
       "rec usage \"B\" as E4 <<perform action>> [[psysml:0cb81d18-66e4-4e05-a75e-b6d7358364f8 ]] {\r\n",
       "}\r\n",
       "\r\n",
       "rec usage \"act\" as E5 <<perform action>> [[psysml:3038242a-7c4d-4726-ae4e-c76791d4ee71 ]] {\r\n",
       "}\r\n",
       "\r\n",
       "rec usage \"S1\" as E6  <<(T,blue)state>> [[psysml:70242e19-3f56-46b0-b4b5-fd0d440c29ee ]] {\r\n",
       "}\r\n",
       "\r\n",
       "{\r\n",
       "{\r\n",
       "}\r\n",
       "\r\n",
       "rec usage \"D\" as E7 <<perform action>> [[psysml:9fa67b9a-f55b-4b6f-8c3c-7583e77a313e ]] {\r\n",
       "}\r\n",
       "\r\n",
       "}\r\n",
       "\r\n",
       "rec usage \"S2\" as E8  <<(T,blue)state>> [[psysml:a085f23d-1115-47bd-987f-c38856471ed2 ]] {\r\n",
       "rec usage \"doAction\" as E9 <<send action>> [[psysml:cfc90439-05ae-44f8-b88d-04fe860fe407 ]] {\r\n",
       "portin \"$x\" as E10  [[psysml:ae5b5913-d198-445b-b606-f76bd72ed7d9 ]] \r\n",
       "portout \"$result\" as E11  [[psysml:f2619e5d-ad00-4b4a-a4fe-7cd7945e1b82 ]] \r\n",
       "}\r\n",
       "\r\n",
       "}\r\n",
       "\r\n",
       "{\r\n",
       "{\r\n",
       "}\r\n",
       "\r\n",
       "}\r\n",
       "\r\n",
       "rec usage \"T\" as E12  <<(T,blue)transition>> [[psysml:b2ce6d4b-1a56-4d0e-ade4-ffb9136266c2 ]] {\r\n",
       "rec usage \"S2\" as E13  <<(T,blue)state>> [[psysml:a085f23d-1115-47bd-987f-c38856471ed2 ]] {\r\n",
       "rec usage \"doAction\" as E14 <<send action>> [[psysml:cfc90439-05ae-44f8-b88d-04fe860fe407 ]] {\r\n",
       "portin \"$x\" as E15  [[psysml:ae5b5913-d198-445b-b606-f76bd72ed7d9 ]] \r\n",
       "portout \"$result\" as E16  [[psysml:f2619e5d-ad00-4b4a-a4fe-7cd7945e1b82 ]] \r\n",
       "}\r\n",
       "\r\n",
       "}\r\n",
       "\r\n",
       "{\r\n",
       "}\r\n",
       "\r\n",
       "portout \"$result\" as E17  [[psysml:9abbd064-7570-4e45-a029-f7befd203c67 ]] \r\n",
       "{\r\n",
       "}\r\n",
       "\r\n",
       "}\r\n",
       "\r\n",
       "}\r\n",
       "\r\n",
       "@enduml\r\n",
       "\n",
       "PlantUML version 1.2020.13(Sat Jun 13 12:26:38 UTC 2020)\n",
       "(EPL source distribution)\n",
       "Java Runtime: OpenJDK Runtime Environment\n",
       "JVM: OpenJDK 64-Bit Server VM\n",
       "Default Encoding: UTF-8\n",
       "Language: en\n",
       "Country: null\n",
       "--></g></svg>"
      ]
     },
     "execution_count": 13,
     "metadata": {},
     "output_type": "execute_result"
    }
   ],
   "source": [
    "%viz --style=\"POLYLINE\" --view=\"Action\" \"StateTest\""
   ]
  },
  {
   "cell_type": "code",
   "execution_count": 14,
   "id": "streaming-devon",
   "metadata": {
    "execution": {
     "iopub.execute_input": "2021-03-26T13:02:45.259895Z",
     "iopub.status.busy": "2021-03-26T13:02:45.259209Z",
     "iopub.status.idle": "2021-03-26T13:02:45.367052Z",
     "shell.execute_reply": "2021-03-26T13:02:45.365527Z"
    }
   },
   "outputs": [
    {
     "data": {
      "image/svg+xml": [
       "<?xml version=\"1.0\" encoding=\"UTF-8\" standalone=\"no\"?><svg xmlns=\"http://www.w3.org/2000/svg\" xmlns:xlink=\"http://www.w3.org/1999/xlink\" contentScriptType=\"application/ecmascript\" contentStyleType=\"text/css\" height=\"471px\" preserveAspectRatio=\"none\" style=\"width:594px;height:471px;\" version=\"1.1\" viewBox=\"0 0 594 471\" width=\"594px\" zoomAndPan=\"magnify\"><defs/><g><!--MD5=[fbc87193dbaf4d95561dea2c320d4a47]\n",
       "cluster E1--><a href=\"psysml:5e99c5ac-660c-4bcd-ba7f-80dc44a07c9e\" target=\"_top\" title=\"psysml:5e99c5ac-660c-4bcd-ba7f-80dc44a07c9e\" xlink:actuate=\"onRequest\" xlink:href=\"psysml:5e99c5ac-660c-4bcd-ba7f-80dc44a07c9e\" xlink:show=\"new\" xlink:title=\"psysml:5e99c5ac-660c-4bcd-ba7f-80dc44a07c9e\" xlink:type=\"simple\"><polygon fill=\"#FFFFFF\" points=\"16,6,98,6,105,28.2969,572,28.2969,572,459,16,459,16,6\" style=\"stroke: #000000; stroke-width: 1.5;\"/><line style=\"stroke: #000000; stroke-width: 1.5;\" x1=\"16\" x2=\"105\" y1=\"28.2969\" y2=\"28.2969\"/><text fill=\"#000000\" font-family=\"sans-serif\" font-size=\"14\" font-weight=\"bold\" lengthAdjust=\"spacingAndGlyphs\" textLength=\"76\" x=\"20\" y=\"20.9951\">StateTest</text></a><!--MD5=[b4997ac47864f28c2f74865a473b2911]\n",
       "class E2--><a href=\"psysml:408e0494-0708-476d-85d5-333a69b53e96\" target=\"_top\" title=\"psysml:408e0494-0708-476d-85d5-333a69b53e96\" xlink:actuate=\"onRequest\" xlink:href=\"psysml:408e0494-0708-476d-85d5-333a69b53e96\" xlink:show=\"new\" xlink:title=\"psysml:408e0494-0708-476d-85d5-333a69b53e96\" xlink:type=\"simple\"><rect fill=\"#FFFFFF\" height=\"75.5469\" id=\"E2\" style=\"stroke: #383838; stroke-width: 1.5;\" width=\"95\" x=\"460.5\" y=\"83\"/><text fill=\"#000000\" font-family=\"sans-serif\" font-size=\"12\" font-style=\"italic\" lengthAdjust=\"spacingAndGlyphs\" textLength=\"93\" x=\"461.5\" y=\"99.1387\">«attribute def»</text><text fill=\"#000000\" font-family=\"sans-serif\" font-size=\"12\" lengthAdjust=\"spacingAndGlyphs\" textLength=\"19\" x=\"498.5\" y=\"113.1074\">Sig</text><line style=\"stroke: #383838; stroke-width: 1.5;\" x1=\"461.5\" x2=\"554.5\" y1=\"120.9375\" y2=\"120.9375\"/><text fill=\"#000000\" font-family=\"sans-serif\" font-size=\"11\" lengthAdjust=\"spacingAndGlyphs\" textLength=\"6\" x=\"466.5\" y=\"151.9526\">x</text><line style=\"stroke: #383838; stroke-width: 1.0;\" x1=\"461.5\" x2=\"480.5\" y1=\"135.3398\" y2=\"135.3398\"/><text fill=\"#000000\" font-family=\"sans-serif\" font-size=\"11\" lengthAdjust=\"spacingAndGlyphs\" textLength=\"55\" x=\"480.5\" y=\"138.6479\">attributes</text><line style=\"stroke: #383838; stroke-width: 1.0;\" x1=\"535.5\" x2=\"554.5\" y1=\"135.3398\" y2=\"135.3398\"/></a><!--MD5=[09b614a08d8cba4a07c9adeb5e0fee81]\n",
       "class E3--><a href=\"psysml:0109ef31-4e51-4de7-9ac0-eb82fbd89c67\" target=\"_top\" title=\"psysml:0109ef31-4e51-4de7-9ac0-eb82fbd89c67\" xlink:actuate=\"onRequest\" xlink:href=\"psysml:0109ef31-4e51-4de7-9ac0-eb82fbd89c67\" xlink:show=\"new\" xlink:title=\"psysml:0109ef31-4e51-4de7-9ac0-eb82fbd89c67\" xlink:type=\"simple\"><rect fill=\"#FFFFFF\" height=\"45.9375\" id=\"E3\" style=\"stroke: #383838; stroke-width: 1.5;\" width=\"95\" x=\"330.5\" y=\"98\"/><text fill=\"#000000\" font-family=\"sans-serif\" font-size=\"12\" font-style=\"italic\" lengthAdjust=\"spacingAndGlyphs\" textLength=\"93\" x=\"331.5\" y=\"114.1387\">«attribute def»</text><text fill=\"#000000\" font-family=\"sans-serif\" font-size=\"12\" lengthAdjust=\"spacingAndGlyphs\" textLength=\"22\" x=\"367\" y=\"128.1074\">Exit</text><line style=\"stroke: #383838; stroke-width: 1.5;\" x1=\"331.5\" x2=\"424.5\" y1=\"135.9375\" y2=\"135.9375\"/></a><!--MD5=[ebbe1d658d1005bcc118a6aa81145e00]\n",
       "class E4--><a href=\"psysml:64a2c9fa-aa89-4eff-b01c-ff58906cbde0\" target=\"_top\" title=\"psysml:64a2c9fa-aa89-4eff-b01c-ff58906cbde0\" xlink:actuate=\"onRequest\" xlink:href=\"psysml:64a2c9fa-aa89-4eff-b01c-ff58906cbde0\" xlink:show=\"new\" xlink:title=\"psysml:64a2c9fa-aa89-4eff-b01c-ff58906cbde0\" xlink:type=\"simple\"><rect fill=\"#FFFFFF\" height=\"45.9375\" id=\"E4\" rx=\"10\" ry=\"10\" style=\"stroke: #383838; stroke-width: 1.5;\" width=\"42\" x=\"253\" y=\"98\"/><text fill=\"#000000\" font-family=\"sans-serif\" font-size=\"12\" font-style=\"italic\" lengthAdjust=\"spacingAndGlyphs\" textLength=\"40\" x=\"254\" y=\"114.1387\">«part»</text><text fill=\"#000000\" font-family=\"sans-serif\" font-size=\"12\" lengthAdjust=\"spacingAndGlyphs\" textLength=\"8\" x=\"270\" y=\"128.1074\">p</text><line style=\"stroke: #383838; stroke-width: 1.5;\" x1=\"254\" x2=\"294\" y1=\"135.9375\" y2=\"135.9375\"/></a><!--MD5=[270fce915f116d4de14055a7c1d9a0f3]\n",
       "class E5--><a href=\"psysml:6519856a-88df-4cdc-a713-a9dddd16e281\" target=\"_top\" title=\"psysml:6519856a-88df-4cdc-a713-a9dddd16e281\" xlink:actuate=\"onRequest\" xlink:href=\"psysml:6519856a-88df-4cdc-a713-a9dddd16e281\" xlink:show=\"new\" xlink:title=\"psysml:6519856a-88df-4cdc-a713-a9dddd16e281\" xlink:type=\"simple\"><rect fill=\"#FFFFFF\" height=\"45.9375\" id=\"E5\" rx=\"10\" ry=\"10\" style=\"stroke: #383838; stroke-width: 1.5;\" width=\"55\" x=\"162.5\" y=\"98\"/><text fill=\"#000000\" font-family=\"sans-serif\" font-size=\"12\" font-style=\"italic\" lengthAdjust=\"spacingAndGlyphs\" textLength=\"53\" x=\"163.5\" y=\"114.1387\">«action»</text><text fill=\"#000000\" font-family=\"sans-serif\" font-size=\"12\" lengthAdjust=\"spacingAndGlyphs\" textLength=\"20\" x=\"180\" y=\"128.1074\">act</text><line style=\"stroke: #383838; stroke-width: 1.5;\" x1=\"163.5\" x2=\"216.5\" y1=\"135.9375\" y2=\"135.9375\"/></a><!--MD5=[60a26617385b1d2d0262a64233df1f8d]\n",
       "class E6--><a href=\"psysml:0bc7341d-f31b-4869-a064-1af20ff16fcc\" target=\"_top\" title=\"psysml:0bc7341d-f31b-4869-a064-1af20ff16fcc\" xlink:actuate=\"onRequest\" xlink:href=\"psysml:0bc7341d-f31b-4869-a064-1af20ff16fcc\" xlink:show=\"new\" xlink:title=\"psysml:0bc7341d-f31b-4869-a064-1af20ff16fcc\" xlink:type=\"simple\"><rect fill=\"#FFFFFF\" height=\"160.375\" id=\"E6\" style=\"stroke: #383838; stroke-width: 1.5;\" width=\"95\" x=\"32.5\" y=\"41\"/><text fill=\"#000000\" font-family=\"sans-serif\" font-size=\"12\" font-style=\"italic\" lengthAdjust=\"spacingAndGlyphs\" textLength=\"71\" x=\"44.5\" y=\"57.1387\">«state def»</text><text fill=\"#000000\" font-family=\"sans-serif\" font-size=\"12\" lengthAdjust=\"spacingAndGlyphs\" textLength=\"8\" x=\"76\" y=\"71.1074\">S</text><line style=\"stroke: #383838; stroke-width: 1.5;\" x1=\"33.5\" x2=\"126.5\" y1=\"78.9375\" y2=\"78.9375\"/><text fill=\"#000000\" font-family=\"sans-serif\" font-size=\"11\" lengthAdjust=\"spacingAndGlyphs\" textLength=\"17\" x=\"38.5\" y=\"109.9526\">act</text><text fill=\"#000000\" font-family=\"sans-serif\" font-size=\"11\" lengthAdjust=\"spacingAndGlyphs\" textLength=\"7\" x=\"38.5\" y=\"122.7573\">A</text><text fill=\"#000000\" font-family=\"sans-serif\" font-size=\"11\" lengthAdjust=\"spacingAndGlyphs\" textLength=\"8\" x=\"38.5\" y=\"135.562\">B</text><line style=\"stroke: #383838; stroke-width: 1.0;\" x1=\"33.5\" x2=\"36.5\" y1=\"93.3398\" y2=\"93.3398\"/><text fill=\"#000000\" font-family=\"sans-serif\" font-size=\"11\" lengthAdjust=\"spacingAndGlyphs\" textLength=\"87\" x=\"36.5\" y=\"96.6479\">performActions</text><line style=\"stroke: #383838; stroke-width: 1.0;\" x1=\"123.5\" x2=\"126.5\" y1=\"93.3398\" y2=\"93.3398\"/><text fill=\"#000000\" font-family=\"sans-serif\" font-size=\"11\" lengthAdjust=\"spacingAndGlyphs\" textLength=\"15\" x=\"38.5\" y=\"165.1714\">S1</text><line style=\"stroke: #383838; stroke-width: 1.0;\" x1=\"33.5\" x2=\"62\" y1=\"148.5586\" y2=\"148.5586\"/><text fill=\"#000000\" font-family=\"sans-serif\" font-size=\"11\" lengthAdjust=\"spacingAndGlyphs\" textLength=\"36\" x=\"62\" y=\"151.8667\">states</text><line style=\"stroke: #383838; stroke-width: 1.0;\" x1=\"98\" x2=\"126.5\" y1=\"148.5586\" y2=\"148.5586\"/><text fill=\"#000000\" font-family=\"sans-serif\" font-size=\"11\" lengthAdjust=\"spacingAndGlyphs\" textLength=\"7\" x=\"38.5\" y=\"194.7808\">T</text><line style=\"stroke: #383838; stroke-width: 1.0;\" x1=\"33.5\" x2=\"49.5\" y1=\"178.168\" y2=\"178.168\"/><text fill=\"#000000\" font-family=\"sans-serif\" font-size=\"11\" lengthAdjust=\"spacingAndGlyphs\" textLength=\"61\" x=\"49.5\" y=\"181.4761\">transitions</text><line style=\"stroke: #383838; stroke-width: 1.0;\" x1=\"110.5\" x2=\"126.5\" y1=\"178.168\" y2=\"178.168\"/></a><!--MD5=[1dd1bfd58a279cf63c5f349dbc8fc6a1]\n",
       "class E11--><a href=\"psysml:a085f23d-1115-47bd-987f-c38856471ed2\" target=\"_top\" title=\"psysml:a085f23d-1115-47bd-987f-c38856471ed2\" xlink:actuate=\"onRequest\" xlink:href=\"psysml:a085f23d-1115-47bd-987f-c38856471ed2\" xlink:show=\"new\" xlink:title=\"psysml:a085f23d-1115-47bd-987f-c38856471ed2\" xlink:type=\"simple\"><rect fill=\"#FFFFFF\" height=\"45.9375\" id=\"E11\" rx=\"10\" ry=\"10\" style=\"stroke: #383838; stroke-width: 1.5;\" width=\"49\" x=\"55.5\" y=\"261\"/><text fill=\"#000000\" font-family=\"sans-serif\" font-size=\"12\" font-style=\"italic\" lengthAdjust=\"spacingAndGlyphs\" textLength=\"47\" x=\"56.5\" y=\"277.1387\">«state»</text><text fill=\"#000000\" font-family=\"sans-serif\" font-size=\"12\" lengthAdjust=\"spacingAndGlyphs\" textLength=\"16\" x=\"72\" y=\"291.1074\">S2</text><line style=\"stroke: #383838; stroke-width: 1.5;\" x1=\"56.5\" x2=\"103.5\" y1=\"298.9375\" y2=\"298.9375\"/></a><!--MD5=[49a0ec8f00dab7302a31f22d0f0fe584]\n",
       "class E12--><a href=\"psysml:cfc90439-05ae-44f8-b88d-04fe860fe407\" target=\"_top\" title=\"psysml:cfc90439-05ae-44f8-b88d-04fe860fe407\" xlink:actuate=\"onRequest\" xlink:href=\"psysml:cfc90439-05ae-44f8-b88d-04fe860fe407\" xlink:show=\"new\" xlink:title=\"psysml:cfc90439-05ae-44f8-b88d-04fe860fe407\" xlink:type=\"simple\"><rect fill=\"#FFFFFF\" height=\"75.5469\" id=\"E12\" rx=\"10\" ry=\"10\" style=\"stroke: #383838; stroke-width: 1.5;\" width=\"90\" x=\"35\" y=\"367\"/><text fill=\"#000000\" font-family=\"sans-serif\" font-size=\"12\" font-style=\"italic\" lengthAdjust=\"spacingAndGlyphs\" textLength=\"88\" x=\"36\" y=\"383.1387\">«send action»</text><text fill=\"#000000\" font-family=\"sans-serif\" font-size=\"12\" lengthAdjust=\"spacingAndGlyphs\" textLength=\"55\" x=\"52.5\" y=\"397.1074\">doAction</text><line style=\"stroke: #383838; stroke-width: 1.5;\" x1=\"36\" x2=\"124\" y1=\"404.9375\" y2=\"404.9375\"/><text fill=\"#000000\" font-family=\"sans-serif\" font-size=\"11\" lengthAdjust=\"spacingAndGlyphs\" textLength=\"25\" x=\"41\" y=\"435.9526\">item</text><line style=\"stroke: #383838; stroke-width: 1.0;\" x1=\"36\" x2=\"42.5\" y1=\"419.3398\" y2=\"419.3398\"/><text fill=\"#000000\" font-family=\"sans-serif\" font-size=\"11\" lengthAdjust=\"spacingAndGlyphs\" textLength=\"75\" x=\"42.5\" y=\"422.6479\">itemFeatures</text><line style=\"stroke: #383838; stroke-width: 1.0;\" x1=\"117.5\" x2=\"124\" y1=\"419.3398\" y2=\"419.3398\"/></a><!--MD5=[1f5f03483f7de0d5b3680a7f6650997f]\n",
       "reverse link E6 to E11--><a href=\"psysml:a085f23d-1115-47bd-987f-c38856471ed2\" target=\"_top\" title=\"psysml:a085f23d-1115-47bd-987f-c38856471ed2\" xlink:actuate=\"onRequest\" xlink:href=\"psysml:a085f23d-1115-47bd-987f-c38856471ed2\" xlink:show=\"new\" xlink:title=\"psysml:a085f23d-1115-47bd-987f-c38856471ed2\" xlink:type=\"simple\"><path d=\"M80,214.17 C80,231.58 80,248.25 80,260.82 \" fill=\"none\" id=\"E6&lt;-E11\" style=\"stroke: #383838; stroke-width: 1.0;\"/><polygon fill=\"#383838\" points=\"80,201.09,76.0066,207.0944,80.0132,213.09,84.0066,207.0856,80,201.09\" style=\"stroke: #383838; stroke-width: 1.0;\"/></a><!--MD5=[94adabc162ce7e41b39f13be14fbaeb3]\n",
       "reverse link E11 to E12--><a href=\"psysml:cfc90439-05ae-44f8-b88d-04fe860fe407\" target=\"_top\" title=\"psysml:cfc90439-05ae-44f8-b88d-04fe860fe407\" xlink:actuate=\"onRequest\" xlink:href=\"psysml:cfc90439-05ae-44f8-b88d-04fe860fe407\" xlink:show=\"new\" xlink:title=\"psysml:cfc90439-05ae-44f8-b88d-04fe860fe407\" xlink:type=\"simple\"><path d=\"M80,320.23 C80,334.82 80,351.76 80,366.58 \" fill=\"none\" id=\"E11&lt;-E12\" style=\"stroke: #383838; stroke-width: 1.0;\"/><polygon fill=\"#FFFFFF\" points=\"80,307.1,76,313.1,80,319.1,84,313.1,80,307.1\" style=\"stroke: #383838; stroke-width: 1.0;\"/></a><!--MD5=[176c9024e0b85e4781a2267cab9618e2]\n",
       "@startuml\r\n",
       "skinparam linetype polyline\r\n",
       "skinparam monochrome true\r\n",
       "skinparam classbackgroundcolor white\r\n",
       "skinparam shadowing false\r\n",
       "skinparam wrapWidth 300\r\n",
       "hide circle\r\n",
       "\r\n",
       "package \"StateTest\" as E1  [[psysml:5e99c5ac-660c-4bcd-ba7f-80dc44a07c9e ]]  {\r\n",
       "comp def \"Sig\" as E2  <<(T,blue)attribute def>> [[psysml:408e0494-0708-476d-85d5-333a69b53e96 ]] {\r\n",
       "- - attributes - -\r\n",
       "x\r\n",
       "}\r\n",
       "comp def \"Exit\" as E3  <<(T,blue)attribute def>> [[psysml:0109ef31-4e51-4de7-9ac0-eb82fbd89c67 ]] {\r\n",
       "}\r\n",
       "comp usage \"p\" as E4  <<(T,blue)part>> [[psysml:64a2c9fa-aa89-4eff-b01c-ff58906cbde0 ]] {\r\n",
       "}\r\n",
       "comp usage \"act\" as E5  <<(T,blue)action>> [[psysml:6519856a-88df-4cdc-a713-a9dddd16e281 ]] {\r\n",
       "}\r\n",
       "comp def \"S\" as E6  <<(T,blue)state def>> [[psysml:0bc7341d-f31b-4869-a064-1af20ff16fcc ]] {\r\n",
       "- - performActions - -\r\n",
       "act\r\n",
       "A\r\n",
       "B\r\n",
       "- - states - -\r\n",
       "S1\r\n",
       "- - transitions - -\r\n",
       "T\r\n",
       "}\r\n",
       "comp usage \"S2\" as E11  <<(T,blue)state>> [[psysml:a085f23d-1115-47bd-987f-c38856471ed2 ]] {\r\n",
       "}\r\n",
       "comp usage \"doAction\" as E12 <<send action>> [[psysml:cfc90439-05ae-44f8-b88d-04fe860fe407 ]] {\r\n",
       "- - itemFeatures - -\r\n",
       "item\r\n",
       "}\r\n",
       "E6 *- - E11 [[psysml:a085f23d-1115-47bd-987f-c38856471ed2 ]] \r\n",
       "E11 o- - E12 [[psysml:cfc90439-05ae-44f8-b88d-04fe860fe407 ]] \r\n",
       "}\r\n",
       "@enduml\r\n",
       "\n",
       "PlantUML version 1.2020.13(Sat Jun 13 12:26:38 UTC 2020)\n",
       "(EPL source distribution)\n",
       "Java Runtime: OpenJDK Runtime Environment\n",
       "JVM: OpenJDK 64-Bit Server VM\n",
       "Default Encoding: UTF-8\n",
       "Language: en\n",
       "Country: null\n",
       "--></g></svg>"
      ]
     },
     "execution_count": 14,
     "metadata": {},
     "output_type": "execute_result"
    }
   ],
   "source": [
    "%viz --style=\"POLYLINE\" --view=\"Sequence\" \"StateTest\""
   ]
  },
  {
   "cell_type": "code",
   "execution_count": 15,
   "id": "competent-jewel",
   "metadata": {
    "execution": {
     "iopub.execute_input": "2021-03-26T13:02:45.419213Z",
     "iopub.status.busy": "2021-03-26T13:02:45.418146Z",
     "iopub.status.idle": "2021-03-26T13:02:45.474115Z",
     "shell.execute_reply": "2021-03-26T13:02:45.472631Z"
    }
   },
   "outputs": [
    {
     "data": {
      "image/svg+xml": [
       "<?xml version=\"1.0\" encoding=\"UTF-8\" standalone=\"no\"?><svg xmlns=\"http://www.w3.org/2000/svg\" xmlns:xlink=\"http://www.w3.org/1999/xlink\" contentScriptType=\"application/ecmascript\" contentStyleType=\"text/css\" height=\"570px\" preserveAspectRatio=\"none\" style=\"width:819px;height:570px;\" version=\"1.1\" viewBox=\"0 0 819 570\" width=\"819px\" zoomAndPan=\"magnify\"><defs/><g><!--MD5=[fbc87193dbaf4d95561dea2c320d4a47]\n",
       "cluster E1--><a href=\"psysml:5e99c5ac-660c-4bcd-ba7f-80dc44a07c9e\" target=\"_top\" title=\"psysml:5e99c5ac-660c-4bcd-ba7f-80dc44a07c9e\" xlink:actuate=\"onRequest\" xlink:href=\"psysml:5e99c5ac-660c-4bcd-ba7f-80dc44a07c9e\" xlink:show=\"new\" xlink:title=\"psysml:5e99c5ac-660c-4bcd-ba7f-80dc44a07c9e\" xlink:type=\"simple\"><polygon fill=\"#FFFFFF\" points=\"16,6,98,6,105,28.2969,797,28.2969,797,558,16,558,16,6\" style=\"stroke: #000000; stroke-width: 1.5;\"/><line style=\"stroke: #000000; stroke-width: 1.5;\" x1=\"16\" x2=\"105\" y1=\"28.2969\" y2=\"28.2969\"/><text fill=\"#000000\" font-family=\"sans-serif\" font-size=\"14\" font-weight=\"bold\" lengthAdjust=\"spacingAndGlyphs\" textLength=\"76\" x=\"20\" y=\"20.9951\">StateTest</text></a><!--MD5=[14e3b0961a2654348d326746436168a1]\n",
       "cluster E6--><a href=\"psysml:0bc7341d-f31b-4869-a064-1af20ff16fcc\" target=\"_top\" title=\"psysml:0bc7341d-f31b-4869-a064-1af20ff16fcc\" xlink:actuate=\"onRequest\" xlink:href=\"psysml:0bc7341d-f31b-4869-a064-1af20ff16fcc\" xlink:show=\"new\" xlink:title=\"psysml:0bc7341d-f31b-4869-a064-1af20ff16fcc\" xlink:type=\"simple\"><rect fill=\"#FFFFFF\" height=\"485\" id=\"E6\" style=\"stroke: #383838; stroke-width: 1.5;\" width=\"327\" x=\"446\" y=\"49\"/><rect fill=\"#F8F8F8\" height=\"37.9375\" style=\"stroke: #383838; stroke-width: 1.5;\" width=\"327\" x=\"446\" y=\"49\"/><text fill=\"#000000\" font-family=\"sans-serif\" font-size=\"12\" font-style=\"italic\" lengthAdjust=\"spacingAndGlyphs\" textLength=\"71\" x=\"574\" y=\"65.1387\">«state def»</text><text fill=\"#000000\" font-family=\"sans-serif\" font-size=\"12\" lengthAdjust=\"spacingAndGlyphs\" textLength=\"8\" x=\"605.5\" y=\"79.1074\">S</text><line style=\"stroke: #383838; stroke-width: 1.0;\" x1=\"446\" x2=\"773\" y1=\"132.8438\" y2=\"132.8438\"/><text fill=\"#000000\" font-family=\"sans-serif\" font-size=\"12\" font-weight=\"bold\" lengthAdjust=\"spacingAndGlyphs\" textLength=\"38\" x=\"451\" y=\"100.0762\">entry</text><text fill=\"#000000\" font-family=\"sans-serif\" font-size=\"12\" lengthAdjust=\"spacingAndGlyphs\" textLength=\"16\" x=\"489\" y=\"100.0762\">/ A</text><text fill=\"#000000\" font-family=\"sans-serif\" font-size=\"12\" font-weight=\"bold\" lengthAdjust=\"spacingAndGlyphs\" textLength=\"18\" x=\"451\" y=\"114.0449\">do</text><text fill=\"#000000\" font-family=\"sans-serif\" font-size=\"12\" lengthAdjust=\"spacingAndGlyphs\" textLength=\"16\" x=\"469\" y=\"114.0449\">/ B</text><text fill=\"#000000\" font-family=\"sans-serif\" font-size=\"12\" font-weight=\"bold\" lengthAdjust=\"spacingAndGlyphs\" textLength=\"26\" x=\"451\" y=\"128.0137\">exit</text><text fill=\"#000000\" font-family=\"sans-serif\" font-size=\"12\" lengthAdjust=\"spacingAndGlyphs\" textLength=\"28\" x=\"477\" y=\"128.0137\">/ act</text></a><!--MD5=[b4997ac47864f28c2f74865a473b2911]\n",
       "class E2--><a href=\"psysml:408e0494-0708-476d-85d5-333a69b53e96\" target=\"_top\" title=\"psysml:408e0494-0708-476d-85d5-333a69b53e96\" xlink:actuate=\"onRequest\" xlink:href=\"psysml:408e0494-0708-476d-85d5-333a69b53e96\" xlink:show=\"new\" xlink:title=\"psysml:408e0494-0708-476d-85d5-333a69b53e96\" xlink:type=\"simple\"><rect fill=\"#FFFFFF\" height=\"75.5469\" id=\"E2\" style=\"stroke: #383838; stroke-width: 1.5;\" width=\"95\" x=\"334.5\" y=\"119\"/><text fill=\"#000000\" font-family=\"sans-serif\" font-size=\"12\" font-style=\"italic\" lengthAdjust=\"spacingAndGlyphs\" textLength=\"93\" x=\"335.5\" y=\"135.1387\">«attribute def»</text><text fill=\"#000000\" font-family=\"sans-serif\" font-size=\"12\" lengthAdjust=\"spacingAndGlyphs\" textLength=\"19\" x=\"372.5\" y=\"149.1074\">Sig</text><line style=\"stroke: #383838; stroke-width: 1.5;\" x1=\"335.5\" x2=\"428.5\" y1=\"156.9375\" y2=\"156.9375\"/><text fill=\"#000000\" font-family=\"sans-serif\" font-size=\"11\" lengthAdjust=\"spacingAndGlyphs\" textLength=\"6\" x=\"340.5\" y=\"187.9526\">x</text><line style=\"stroke: #383838; stroke-width: 1.0;\" x1=\"335.5\" x2=\"354.5\" y1=\"171.3398\" y2=\"171.3398\"/><text fill=\"#000000\" font-family=\"sans-serif\" font-size=\"11\" lengthAdjust=\"spacingAndGlyphs\" textLength=\"55\" x=\"354.5\" y=\"174.6479\">attributes</text><line style=\"stroke: #383838; stroke-width: 1.0;\" x1=\"409.5\" x2=\"428.5\" y1=\"171.3398\" y2=\"171.3398\"/></a><!--MD5=[09b614a08d8cba4a07c9adeb5e0fee81]\n",
       "class E3--><a href=\"psysml:0109ef31-4e51-4de7-9ac0-eb82fbd89c67\" target=\"_top\" title=\"psysml:0109ef31-4e51-4de7-9ac0-eb82fbd89c67\" xlink:actuate=\"onRequest\" xlink:href=\"psysml:0109ef31-4e51-4de7-9ac0-eb82fbd89c67\" xlink:show=\"new\" xlink:title=\"psysml:0109ef31-4e51-4de7-9ac0-eb82fbd89c67\" xlink:type=\"simple\"><rect fill=\"#FFFFFF\" height=\"45.9375\" id=\"E3\" style=\"stroke: #383838; stroke-width: 1.5;\" width=\"95\" x=\"204.5\" y=\"134\"/><text fill=\"#000000\" font-family=\"sans-serif\" font-size=\"12\" font-style=\"italic\" lengthAdjust=\"spacingAndGlyphs\" textLength=\"93\" x=\"205.5\" y=\"150.1387\">«attribute def»</text><text fill=\"#000000\" font-family=\"sans-serif\" font-size=\"12\" lengthAdjust=\"spacingAndGlyphs\" textLength=\"22\" x=\"241\" y=\"164.1074\">Exit</text><line style=\"stroke: #383838; stroke-width: 1.5;\" x1=\"205.5\" x2=\"298.5\" y1=\"171.9375\" y2=\"171.9375\"/></a><!--MD5=[ebbe1d658d1005bcc118a6aa81145e00]\n",
       "class E4--><a href=\"psysml:64a2c9fa-aa89-4eff-b01c-ff58906cbde0\" target=\"_top\" title=\"psysml:64a2c9fa-aa89-4eff-b01c-ff58906cbde0\" xlink:actuate=\"onRequest\" xlink:href=\"psysml:64a2c9fa-aa89-4eff-b01c-ff58906cbde0\" xlink:show=\"new\" xlink:title=\"psysml:64a2c9fa-aa89-4eff-b01c-ff58906cbde0\" xlink:type=\"simple\"><rect fill=\"#FFFFFF\" height=\"45.9375\" id=\"E4\" rx=\"10\" ry=\"10\" style=\"stroke: #383838; stroke-width: 1.5;\" width=\"42\" x=\"127\" y=\"134\"/><text fill=\"#000000\" font-family=\"sans-serif\" font-size=\"12\" font-style=\"italic\" lengthAdjust=\"spacingAndGlyphs\" textLength=\"40\" x=\"128\" y=\"150.1387\">«part»</text><text fill=\"#000000\" font-family=\"sans-serif\" font-size=\"12\" lengthAdjust=\"spacingAndGlyphs\" textLength=\"8\" x=\"144\" y=\"164.1074\">p</text><line style=\"stroke: #383838; stroke-width: 1.5;\" x1=\"128\" x2=\"168\" y1=\"171.9375\" y2=\"171.9375\"/></a><g id=\"E1.E5\"><a href=\"psysml:6519856a-88df-4cdc-a713-a9dddd16e281\" target=\"_top\" title=\"psysml:6519856a-88df-4cdc-a713-a9dddd16e281\" xlink:actuate=\"onRequest\" xlink:href=\"psysml:6519856a-88df-4cdc-a713-a9dddd16e281\" xlink:show=\"new\" xlink:title=\"psysml:6519856a-88df-4cdc-a713-a9dddd16e281\" xlink:type=\"simple\"><rect fill=\"#FFFFFF\" height=\"42.9375\" id=\"E5\" rx=\"10\" ry=\"10\" style=\"stroke: #383838; stroke-width: 1.5;\" width=\"60\" x=\"32\" y=\"135.5\"/><rect fill=\"#F8F8F8\" height=\"37.9375\" rx=\"10\" ry=\"10\" style=\"stroke: #F8F8F8; stroke-width: 1.5;\" width=\"60\" x=\"32\" y=\"135.5\"/><rect fill=\"#F8F8F8\" height=\"10\" style=\"stroke: #F8F8F8; stroke-width: 1.5;\" width=\"60\" x=\"32\" y=\"163.4375\"/><rect fill=\"none\" height=\"42.9375\" id=\"E5\" rx=\"10\" ry=\"10\" style=\"stroke: #383838; stroke-width: 1.5;\" width=\"60\" x=\"32\" y=\"135.5\"/><text fill=\"#000000\" font-family=\"sans-serif\" font-size=\"12\" font-style=\"italic\" lengthAdjust=\"spacingAndGlyphs\" textLength=\"53\" x=\"35.5\" y=\"151.6387\">«action»</text><text fill=\"#000000\" font-family=\"sans-serif\" font-size=\"12\" lengthAdjust=\"spacingAndGlyphs\" textLength=\"20\" x=\"52\" y=\"165.6074\">act</text></a></g><ellipse cx=\"558\" cy=\"157\" fill=\"#000000\" rx=\"10\" ry=\"10\" style=\"stroke: none; stroke-width: 1.0;\"/><ellipse cx=\"558\" cy=\"508\" fill=\"none\" rx=\"10\" ry=\"10\" style=\"stroke: #000000; stroke-width: 1.0;\"/><ellipse cx=\"558.5\" cy=\"508.5\" fill=\"#000000\" rx=\"6\" ry=\"6\" style=\"stroke: none; stroke-width: 1.0;\"/><g id=\"E1.E6.E7\"><a href=\"psysml:70242e19-3f56-46b0-b4b5-fd0d440c29ee\" target=\"_top\" title=\"psysml:70242e19-3f56-46b0-b4b5-fd0d440c29ee\" xlink:actuate=\"onRequest\" xlink:href=\"psysml:70242e19-3f56-46b0-b4b5-fd0d440c29ee\" xlink:show=\"new\" xlink:title=\"psysml:70242e19-3f56-46b0-b4b5-fd0d440c29ee\" xlink:type=\"simple\"><rect fill=\"#FFFFFF\" height=\"40\" id=\"E7\" rx=\"10\" ry=\"10\" style=\"stroke: #383838; stroke-width: 1.5;\" width=\"50\" x=\"533\" y=\"256\"/><rect fill=\"#F8F8F8\" height=\"23.9688\" rx=\"10\" ry=\"10\" style=\"stroke: #F8F8F8; stroke-width: 1.5;\" width=\"50\" x=\"533\" y=\"256\"/><rect fill=\"#F8F8F8\" height=\"10\" style=\"stroke: #F8F8F8; stroke-width: 1.5;\" width=\"50\" x=\"533\" y=\"269.9688\"/><rect fill=\"none\" height=\"40\" id=\"E7\" rx=\"10\" ry=\"10\" style=\"stroke: #383838; stroke-width: 1.5;\" width=\"50\" x=\"533\" y=\"256\"/><text fill=\"#000000\" font-family=\"sans-serif\" font-size=\"12\" lengthAdjust=\"spacingAndGlyphs\" textLength=\"16\" x=\"550\" y=\"272.1387\">S1</text></a></g><g id=\"E1.E6.E8\"><a href=\"psysml:a085f23d-1115-47bd-987f-c38856471ed2\" target=\"_top\" title=\"psysml:a085f23d-1115-47bd-987f-c38856471ed2\" xlink:actuate=\"onRequest\" xlink:href=\"psysml:a085f23d-1115-47bd-987f-c38856471ed2\" xlink:show=\"new\" xlink:title=\"psysml:a085f23d-1115-47bd-987f-c38856471ed2\" xlink:type=\"simple\"><rect fill=\"#FFFFFF\" height=\"47.9375\" id=\"E8\" rx=\"10\" ry=\"10\" style=\"stroke: #383838; stroke-width: 1.5;\" width=\"50\" x=\"533\" y=\"373\"/><rect fill=\"#F8F8F8\" height=\"23.9688\" rx=\"10\" ry=\"10\" style=\"stroke: #F8F8F8; stroke-width: 1.5;\" width=\"50\" x=\"533\" y=\"373\"/><rect fill=\"#F8F8F8\" height=\"10\" style=\"stroke: #F8F8F8; stroke-width: 1.5;\" width=\"50\" x=\"533\" y=\"386.9688\"/><rect fill=\"none\" height=\"47.9375\" id=\"E8\" rx=\"10\" ry=\"10\" style=\"stroke: #383838; stroke-width: 1.5;\" width=\"50\" x=\"533\" y=\"373\"/><text fill=\"#000000\" font-family=\"sans-serif\" font-size=\"12\" lengthAdjust=\"spacingAndGlyphs\" textLength=\"16\" x=\"550\" y=\"389.1387\">S2</text><line style=\"stroke: #383838; stroke-width: 1.0;\" x1=\"533\" x2=\"583\" y1=\"396.9688\" y2=\"396.9688\"/><text fill=\"#000000\" font-family=\"sans-serif\" font-size=\"12\" font-weight=\"bold\" lengthAdjust=\"spacingAndGlyphs\" textLength=\"18\" x=\"538\" y=\"410.1074\">do</text><text fill=\"#000000\" font-family=\"sans-serif\" font-size=\"12\" lengthAdjust=\"spacingAndGlyphs\" textLength=\"4\" x=\"556\" y=\"410.1074\">/</text></a></g><!--MD5=[5a531d3a85f3339e6e197084acb48195]\n",
       "link *start*E6 to E7--><a href=\"psysml:43d9c4f9-ed20-4c00-a0b0-be6dc49a6894\" target=\"_top\" title=\"psysml:43d9c4f9-ed20-4c00-a0b0-be6dc49a6894\" xlink:actuate=\"onRequest\" xlink:href=\"psysml:43d9c4f9-ed20-4c00-a0b0-be6dc49a6894\" xlink:show=\"new\" xlink:title=\"psysml:43d9c4f9-ed20-4c00-a0b0-be6dc49a6894\" xlink:type=\"simple\"><path d=\"M558,167.18 C558,184.98 558,224.73 558,250.67 \" fill=\"none\" id=\"*start*E6-&gt;E7\" style=\"stroke: #383838; stroke-width: 1.0;\"/><polygon fill=\"#383838\" points=\"558,255.98,562,246.98,558,250.98,554,246.98,558,255.98\" style=\"stroke: #383838; stroke-width: 1.0;\"/></a><!--MD5=[7ec9a8babba89ddcae1318ca9fb3c814]\n",
       "link E8 to *end*E6--><a href=\"psysml:f955b7ee-57f2-4e8a-b602-a443c9a31c83\" target=\"_top\" title=\"psysml:f955b7ee-57f2-4e8a-b602-a443c9a31c83\" xlink:actuate=\"onRequest\" xlink:href=\"psysml:f955b7ee-57f2-4e8a-b602-a443c9a31c83\" xlink:show=\"new\" xlink:title=\"psysml:f955b7ee-57f2-4e8a-b602-a443c9a31c83\" xlink:type=\"simple\"><path d=\"M558,421.12 C558,442.75 558,474.39 558,492.62 \" fill=\"none\" id=\"E8-&gt;*end*E6\" style=\"stroke: #383838; stroke-width: 1.0;\"/><polygon fill=\"#383838\" points=\"558,497.82,562,488.82,558,492.82,554,488.82,558,497.82\" style=\"stroke: #383838; stroke-width: 1.0;\"/><text fill=\"#000000\" font-family=\"sans-serif\" font-size=\"13\" lengthAdjust=\"spacingAndGlyphs\" textLength=\"23\" x=\"559\" y=\"464.0669\">Exit</text></a><!--MD5=[79bc8f324ef4d02c541433f2e6e513c3]\n",
       "link E7 to E8--><a href=\"psysml:d37fdc60-36d2-41f0-83fe-622a63ffc619\" target=\"_top\" title=\"psysml:d37fdc60-36d2-41f0-83fe-622a63ffc619\" xlink:actuate=\"onRequest\" xlink:href=\"psysml:d37fdc60-36d2-41f0-83fe-622a63ffc619\" xlink:show=\"new\" xlink:title=\"psysml:d37fdc60-36d2-41f0-83fe-622a63ffc619\" xlink:type=\"simple\"><path d=\"M533.07,296.08 C515.1,309.84 494,326 494,326 C494,326 494,343 494,343 C494,343 511.69,357.65 528.47,371.55 \" fill=\"none\" id=\"E7-&gt;E8\" style=\"stroke: #383838; stroke-width: 1.0;\"/><polygon fill=\"#383838\" points=\"532.71,375.05,528.3341,366.2267,528.8607,371.8589,523.2284,372.3855,532.71,375.05\" style=\"stroke: #383838; stroke-width: 1.0;\"/><text fill=\"#000000\" font-family=\"sans-serif\" font-size=\"13\" lengthAdjust=\"spacingAndGlyphs\" textLength=\"81\" x=\"495\" y=\"339.0669\">Sig /action D</text></a><!--MD5=[bfa3c8b0d15052fdf50ae9310b491027]\n",
       "link E8 to E7--><a href=\"psysml:b2ce6d4b-1a56-4d0e-ade4-ffb9136266c2\" target=\"_top\" title=\"psysml:b2ce6d4b-1a56-4d0e-ade4-ffb9136266c2\" xlink:actuate=\"onRequest\" xlink:href=\"psysml:b2ce6d4b-1a56-4d0e-ade4-ffb9136266c2\" xlink:show=\"new\" xlink:title=\"psysml:b2ce6d4b-1a56-4d0e-ade4-ffb9136266c2\" xlink:type=\"simple\"><path d=\"M568.02,372.91 C574.22,358.63 581,343 581,343 C581,343 581,326 581,326 C581,326 574.98,313.18 569.11,300.66 \" fill=\"none\" id=\"E8-&gt;E7\" style=\"stroke: #383838; stroke-width: 1.0;\"/><polygon fill=\"#383838\" points=\"566.96,296.08,567.1429,305.9272,569.0752,300.6106,574.3918,302.5428,566.96,296.08\" style=\"stroke: #383838; stroke-width: 1.0;\"/><text fill=\"#000000\" font-family=\"sans-serif\" font-size=\"13\" lengthAdjust=\"spacingAndGlyphs\" textLength=\"135\" x=\"582\" y=\"339.0669\">Sig [true]/send s to p</text></a><!--MD5=[7fcc8da6ff7f72929d585af3a0301432]\n",
       "@startuml\r\n",
       "skinparam linetype polyline\r\n",
       "skinparam monochrome true\r\n",
       "skinparam classbackgroundcolor white\r\n",
       "skinparam shadowing false\r\n",
       "skinparam wrapWidth 300\r\n",
       "hide circle\r\n",
       "\r\n",
       "package \"StateTest\" as E1  [[psysml:5e99c5ac-660c-4bcd-ba7f-80dc44a07c9e ]]  {\r\n",
       "comp def \"Sig\" as E2  <<(T,blue)attribute def>> [[psysml:408e0494-0708-476d-85d5-333a69b53e96 ]] {\r\n",
       "- - attributes - -\r\n",
       "x\r\n",
       "}\r\n",
       "comp def \"Exit\" as E3  <<(T,blue)attribute def>> [[psysml:0109ef31-4e51-4de7-9ac0-eb82fbd89c67 ]] {\r\n",
       "}\r\n",
       "comp usage \"p\" as E4  <<(T,blue)part>> [[psysml:64a2c9fa-aa89-4eff-b01c-ff58906cbde0 ]] {\r\n",
       "}\r\n",
       "rec usage \"act\" as E5  <<(T,blue)action>> [[psysml:6519856a-88df-4cdc-a713-a9dddd16e281 ]] {\r\n",
       "}\r\n",
       "\r\n",
       "rec def \"S\" as E6  <<(T,blue)state def>> [[psysml:0bc7341d-f31b-4869-a064-1af20ff16fcc ]] {\r\n",
       "rec usage \"S1\" as E7 [[psysml:70242e19-3f56-46b0-b4b5-fd0d440c29ee ]] {\r\n",
       "}\r\n",
       "\r\n",
       "rec usage \"S2\" as E8 [[psysml:a085f23d-1115-47bd-987f-c38856471ed2 ]] {\r\n",
       "desc \"S2\" as E8  : **do**/ \r\n",
       "}\r\n",
       "\r\n",
       "[*] - -> E7 [[psysml:43d9c4f9-ed20-4c00-a0b0-be6dc49a6894 ]] \r\n",
       "E8  - -> [*] [[psysml:f955b7ee-57f2-4e8a-b602-a443c9a31c83 ]] : Exit \r\n",
       "desc \"S\" as E6  : **entry**/ A\r\n",
       "desc \"S\" as E6  : **do**/ B\r\n",
       "desc \"S\" as E6  : **exit**/ act \r\n",
       "}\r\n",
       "\r\n",
       "E7  - -> E8 [[psysml:d37fdc60-36d2-41f0-83fe-622a63ffc619 ]] : Sig /action D\r\n",
       "E8  - -> E7 [[psysml:b2ce6d4b-1a56-4d0e-ade4-ffb9136266c2 ]] : Sig [true]/send s to p\r\n",
       "}\r\n",
       "@enduml\r\n",
       "\n",
       "PlantUML version 1.2020.13(Sat Jun 13 12:26:38 UTC 2020)\n",
       "(EPL source distribution)\n",
       "Java Runtime: OpenJDK Runtime Environment\n",
       "JVM: OpenJDK 64-Bit Server VM\n",
       "Default Encoding: UTF-8\n",
       "Language: en\n",
       "Country: null\n",
       "--></g></svg>"
      ]
     },
     "execution_count": 15,
     "metadata": {},
     "output_type": "execute_result"
    }
   ],
   "source": [
    "%viz --style=\"POLYLINE\" --view=\"MIXED\" \"StateTest\""
   ]
  },
  {
   "cell_type": "code",
   "execution_count": 16,
   "id": "initial-newton",
   "metadata": {
    "execution": {
     "iopub.execute_input": "2021-03-26T13:02:45.534306Z",
     "iopub.status.busy": "2021-03-26T13:02:45.533949Z",
     "iopub.status.idle": "2021-03-26T13:02:45.585773Z",
     "shell.execute_reply": "2021-03-26T13:02:45.583404Z"
    }
   },
   "outputs": [
    {
     "data": {
      "image/svg+xml": [
       "<?xml version=\"1.0\" encoding=\"UTF-8\" standalone=\"no\"?><svg xmlns=\"http://www.w3.org/2000/svg\" xmlns:xlink=\"http://www.w3.org/1999/xlink\" contentScriptType=\"application/ecmascript\" contentStyleType=\"text/css\" height=\"633px\" preserveAspectRatio=\"none\" style=\"width:652px;height:633px;\" version=\"1.1\" viewBox=\"0 0 652 633\" width=\"652px\" zoomAndPan=\"magnify\"><defs/><g><!--MD5=[fbc87193dbaf4d95561dea2c320d4a47]\n",
       "cluster E1--><a href=\"psysml:5e99c5ac-660c-4bcd-ba7f-80dc44a07c9e\" target=\"_top\" title=\"psysml:5e99c5ac-660c-4bcd-ba7f-80dc44a07c9e\" xlink:actuate=\"onRequest\" xlink:href=\"psysml:5e99c5ac-660c-4bcd-ba7f-80dc44a07c9e\" xlink:show=\"new\" xlink:title=\"psysml:5e99c5ac-660c-4bcd-ba7f-80dc44a07c9e\" xlink:type=\"simple\"><polygon fill=\"#FFFFFF\" points=\"16,6,98,6,105,28.2969,630,28.2969,630,621,16,621,16,6\" style=\"stroke: #000000; stroke-width: 1.5;\"/><line style=\"stroke: #000000; stroke-width: 1.5;\" x1=\"16\" x2=\"105\" y1=\"28.2969\" y2=\"28.2969\"/><text fill=\"#000000\" font-family=\"sans-serif\" font-size=\"14\" font-weight=\"bold\" lengthAdjust=\"spacingAndGlyphs\" textLength=\"76\" x=\"20\" y=\"20.9951\">StateTest</text></a><!--MD5=[14e3b0961a2654348d326746436168a1]\n",
       "cluster E6--><a href=\"psysml:0bc7341d-f31b-4869-a064-1af20ff16fcc\" target=\"_top\" title=\"psysml:0bc7341d-f31b-4869-a064-1af20ff16fcc\" xlink:actuate=\"onRequest\" xlink:href=\"psysml:0bc7341d-f31b-4869-a064-1af20ff16fcc\" xlink:show=\"new\" xlink:title=\"psysml:0bc7341d-f31b-4869-a064-1af20ff16fcc\" xlink:type=\"simple\"><rect fill=\"#FFFFFF\" height=\"223\" id=\"E6\" style=\"stroke: #383838; stroke-width: 1.5;\" width=\"552.5\" x=\"53.5\" y=\"49\"/><rect fill=\"#F8F8F8\" height=\"37.9375\" style=\"stroke: #383838; stroke-width: 1.5;\" width=\"552.5\" x=\"53.5\" y=\"49\"/><text fill=\"#000000\" font-family=\"sans-serif\" font-size=\"12\" font-style=\"italic\" lengthAdjust=\"spacingAndGlyphs\" textLength=\"71\" x=\"294.25\" y=\"65.1387\">«state def»</text><text fill=\"#000000\" font-family=\"sans-serif\" font-size=\"12\" lengthAdjust=\"spacingAndGlyphs\" textLength=\"8\" x=\"325.75\" y=\"79.1074\">S</text><line style=\"stroke: #383838; stroke-width: 1.0;\" x1=\"53.5\" x2=\"606\" y1=\"132.8438\" y2=\"132.8438\"/><text fill=\"#000000\" font-family=\"sans-serif\" font-size=\"12\" font-weight=\"bold\" lengthAdjust=\"spacingAndGlyphs\" textLength=\"38\" x=\"58.5\" y=\"100.0762\">entry</text><text fill=\"#000000\" font-family=\"sans-serif\" font-size=\"12\" lengthAdjust=\"spacingAndGlyphs\" textLength=\"16\" x=\"96.5\" y=\"100.0762\">/ A</text><text fill=\"#000000\" font-family=\"sans-serif\" font-size=\"12\" font-weight=\"bold\" lengthAdjust=\"spacingAndGlyphs\" textLength=\"18\" x=\"58.5\" y=\"114.0449\">do</text><text fill=\"#000000\" font-family=\"sans-serif\" font-size=\"12\" lengthAdjust=\"spacingAndGlyphs\" textLength=\"16\" x=\"76.5\" y=\"114.0449\">/ B</text><text fill=\"#000000\" font-family=\"sans-serif\" font-size=\"12\" font-weight=\"bold\" lengthAdjust=\"spacingAndGlyphs\" textLength=\"26\" x=\"58.5\" y=\"128.0137\">exit</text><text fill=\"#000000\" font-family=\"sans-serif\" font-size=\"12\" lengthAdjust=\"spacingAndGlyphs\" textLength=\"28\" x=\"84.5\" y=\"128.0137\">/ act</text></a><!--MD5=[b4997ac47864f28c2f74865a473b2911]\n",
       "class E2--><a href=\"psysml:408e0494-0708-476d-85d5-333a69b53e96\" target=\"_top\" title=\"psysml:408e0494-0708-476d-85d5-333a69b53e96\" xlink:actuate=\"onRequest\" xlink:href=\"psysml:408e0494-0708-476d-85d5-333a69b53e96\" xlink:show=\"new\" xlink:title=\"psysml:408e0494-0708-476d-85d5-333a69b53e96\" xlink:type=\"simple\"><rect fill=\"#FFFFFF\" height=\"75.5469\" id=\"E2\" style=\"stroke: #383838; stroke-width: 1.5;\" width=\"95\" x=\"32\" y=\"288\"/><text fill=\"#000000\" font-family=\"sans-serif\" font-size=\"12\" font-style=\"italic\" lengthAdjust=\"spacingAndGlyphs\" textLength=\"93\" x=\"33\" y=\"304.1387\">«attribute def»</text><text fill=\"#000000\" font-family=\"sans-serif\" font-size=\"12\" lengthAdjust=\"spacingAndGlyphs\" textLength=\"19\" x=\"70\" y=\"318.1074\">Sig</text><line style=\"stroke: #383838; stroke-width: 1.5;\" x1=\"33\" x2=\"126\" y1=\"325.9375\" y2=\"325.9375\"/><text fill=\"#000000\" font-family=\"sans-serif\" font-size=\"11\" lengthAdjust=\"spacingAndGlyphs\" textLength=\"6\" x=\"38\" y=\"356.9526\">x</text><line style=\"stroke: #383838; stroke-width: 1.0;\" x1=\"33\" x2=\"52\" y1=\"340.3398\" y2=\"340.3398\"/><text fill=\"#000000\" font-family=\"sans-serif\" font-size=\"11\" lengthAdjust=\"spacingAndGlyphs\" textLength=\"55\" x=\"52\" y=\"343.6479\">attributes</text><line style=\"stroke: #383838; stroke-width: 1.0;\" x1=\"107\" x2=\"126\" y1=\"340.3398\" y2=\"340.3398\"/></a><!--MD5=[09b614a08d8cba4a07c9adeb5e0fee81]\n",
       "class E3--><a href=\"psysml:0109ef31-4e51-4de7-9ac0-eb82fbd89c67\" target=\"_top\" title=\"psysml:0109ef31-4e51-4de7-9ac0-eb82fbd89c67\" xlink:actuate=\"onRequest\" xlink:href=\"psysml:0109ef31-4e51-4de7-9ac0-eb82fbd89c67\" xlink:show=\"new\" xlink:title=\"psysml:0109ef31-4e51-4de7-9ac0-eb82fbd89c67\" xlink:type=\"simple\"><rect fill=\"#FFFFFF\" height=\"45.9375\" id=\"E3\" style=\"stroke: #383838; stroke-width: 1.5;\" width=\"95\" x=\"32\" y=\"399\"/><text fill=\"#000000\" font-family=\"sans-serif\" font-size=\"12\" font-style=\"italic\" lengthAdjust=\"spacingAndGlyphs\" textLength=\"93\" x=\"33\" y=\"415.1387\">«attribute def»</text><text fill=\"#000000\" font-family=\"sans-serif\" font-size=\"12\" lengthAdjust=\"spacingAndGlyphs\" textLength=\"22\" x=\"68.5\" y=\"429.1074\">Exit</text><line style=\"stroke: #383838; stroke-width: 1.5;\" x1=\"33\" x2=\"126\" y1=\"436.9375\" y2=\"436.9375\"/></a><!--MD5=[ebbe1d658d1005bcc118a6aa81145e00]\n",
       "class E4--><a href=\"psysml:64a2c9fa-aa89-4eff-b01c-ff58906cbde0\" target=\"_top\" title=\"psysml:64a2c9fa-aa89-4eff-b01c-ff58906cbde0\" xlink:actuate=\"onRequest\" xlink:href=\"psysml:64a2c9fa-aa89-4eff-b01c-ff58906cbde0\" xlink:show=\"new\" xlink:title=\"psysml:64a2c9fa-aa89-4eff-b01c-ff58906cbde0\" xlink:type=\"simple\"><rect fill=\"#FFFFFF\" height=\"45.9375\" id=\"E4\" rx=\"10\" ry=\"10\" style=\"stroke: #383838; stroke-width: 1.5;\" width=\"42\" x=\"58.5\" y=\"480\"/><text fill=\"#000000\" font-family=\"sans-serif\" font-size=\"12\" font-style=\"italic\" lengthAdjust=\"spacingAndGlyphs\" textLength=\"40\" x=\"59.5\" y=\"496.1387\">«part»</text><text fill=\"#000000\" font-family=\"sans-serif\" font-size=\"12\" lengthAdjust=\"spacingAndGlyphs\" textLength=\"8\" x=\"75.5\" y=\"510.1074\">p</text><line style=\"stroke: #383838; stroke-width: 1.5;\" x1=\"59.5\" x2=\"99.5\" y1=\"517.9375\" y2=\"517.9375\"/></a><g id=\"E1.E5\"><a href=\"psysml:6519856a-88df-4cdc-a713-a9dddd16e281\" target=\"_top\" title=\"psysml:6519856a-88df-4cdc-a713-a9dddd16e281\" xlink:actuate=\"onRequest\" xlink:href=\"psysml:6519856a-88df-4cdc-a713-a9dddd16e281\" xlink:show=\"new\" xlink:title=\"psysml:6519856a-88df-4cdc-a713-a9dddd16e281\" xlink:type=\"simple\"><rect fill=\"#FFFFFF\" height=\"42.9375\" id=\"E5\" rx=\"10\" ry=\"10\" style=\"stroke: #383838; stroke-width: 1.5;\" width=\"60\" x=\"49.5\" y=\"561.5\"/><rect fill=\"#F8F8F8\" height=\"37.9375\" rx=\"10\" ry=\"10\" style=\"stroke: #F8F8F8; stroke-width: 1.5;\" width=\"60\" x=\"49.5\" y=\"561.5\"/><rect fill=\"#F8F8F8\" height=\"10\" style=\"stroke: #F8F8F8; stroke-width: 1.5;\" width=\"60\" x=\"49.5\" y=\"589.4375\"/><rect fill=\"none\" height=\"42.9375\" id=\"E5\" rx=\"10\" ry=\"10\" style=\"stroke: #383838; stroke-width: 1.5;\" width=\"60\" x=\"49.5\" y=\"561.5\"/><text fill=\"#000000\" font-family=\"sans-serif\" font-size=\"12\" font-style=\"italic\" lengthAdjust=\"spacingAndGlyphs\" textLength=\"53\" x=\"53\" y=\"577.6387\">«action»</text><text fill=\"#000000\" font-family=\"sans-serif\" font-size=\"12\" lengthAdjust=\"spacingAndGlyphs\" textLength=\"20\" x=\"69.5\" y=\"591.6074\">act</text></a></g><ellipse cx=\"79.5\" cy=\"194\" fill=\"#000000\" rx=\"10\" ry=\"10\" style=\"stroke: none; stroke-width: 1.0;\"/><ellipse cx=\"580\" cy=\"196\" fill=\"none\" rx=\"10\" ry=\"10\" style=\"stroke: #000000; stroke-width: 1.0;\"/><ellipse cx=\"580.5\" cy=\"196.5\" fill=\"#000000\" rx=\"6\" ry=\"6\" style=\"stroke: none; stroke-width: 1.0;\"/><g id=\"E1.E6.E7\"><a href=\"psysml:70242e19-3f56-46b0-b4b5-fd0d440c29ee\" target=\"_top\" title=\"psysml:70242e19-3f56-46b0-b4b5-fd0d440c29ee\" xlink:actuate=\"onRequest\" xlink:href=\"psysml:70242e19-3f56-46b0-b4b5-fd0d440c29ee\" xlink:show=\"new\" xlink:title=\"psysml:70242e19-3f56-46b0-b4b5-fd0d440c29ee\" xlink:type=\"simple\"><rect fill=\"#FFFFFF\" height=\"40\" id=\"E7\" rx=\"10\" ry=\"10\" style=\"stroke: #383838; stroke-width: 1.5;\" width=\"50\" x=\"188\" y=\"174\"/><rect fill=\"#F8F8F8\" height=\"23.9688\" rx=\"10\" ry=\"10\" style=\"stroke: #F8F8F8; stroke-width: 1.5;\" width=\"50\" x=\"188\" y=\"174\"/><rect fill=\"#F8F8F8\" height=\"10\" style=\"stroke: #F8F8F8; stroke-width: 1.5;\" width=\"50\" x=\"188\" y=\"187.9688\"/><rect fill=\"none\" height=\"40\" id=\"E7\" rx=\"10\" ry=\"10\" style=\"stroke: #383838; stroke-width: 1.5;\" width=\"50\" x=\"188\" y=\"174\"/><text fill=\"#000000\" font-family=\"sans-serif\" font-size=\"12\" lengthAdjust=\"spacingAndGlyphs\" textLength=\"16\" x=\"205\" y=\"190.1387\">S1</text></a></g><g id=\"E1.E6.E8\"><a href=\"psysml:a085f23d-1115-47bd-987f-c38856471ed2\" target=\"_top\" title=\"psysml:a085f23d-1115-47bd-987f-c38856471ed2\" xlink:actuate=\"onRequest\" xlink:href=\"psysml:a085f23d-1115-47bd-987f-c38856471ed2\" xlink:show=\"new\" xlink:title=\"psysml:a085f23d-1115-47bd-987f-c38856471ed2\" xlink:type=\"simple\"><rect fill=\"#FFFFFF\" height=\"47.9375\" id=\"E8\" rx=\"10\" ry=\"10\" style=\"stroke: #383838; stroke-width: 1.5;\" width=\"50\" x=\"435\" y=\"172\"/><rect fill=\"#F8F8F8\" height=\"23.9688\" rx=\"10\" ry=\"10\" style=\"stroke: #F8F8F8; stroke-width: 1.5;\" width=\"50\" x=\"435\" y=\"172\"/><rect fill=\"#F8F8F8\" height=\"10\" style=\"stroke: #F8F8F8; stroke-width: 1.5;\" width=\"50\" x=\"435\" y=\"185.9688\"/><rect fill=\"none\" height=\"47.9375\" id=\"E8\" rx=\"10\" ry=\"10\" style=\"stroke: #383838; stroke-width: 1.5;\" width=\"50\" x=\"435\" y=\"172\"/><text fill=\"#000000\" font-family=\"sans-serif\" font-size=\"12\" lengthAdjust=\"spacingAndGlyphs\" textLength=\"16\" x=\"452\" y=\"188.1387\">S2</text><line style=\"stroke: #383838; stroke-width: 1.0;\" x1=\"435\" x2=\"485\" y1=\"195.9688\" y2=\"195.9688\"/><text fill=\"#000000\" font-family=\"sans-serif\" font-size=\"12\" font-weight=\"bold\" lengthAdjust=\"spacingAndGlyphs\" textLength=\"18\" x=\"440\" y=\"209.1074\">do</text><text fill=\"#000000\" font-family=\"sans-serif\" font-size=\"12\" lengthAdjust=\"spacingAndGlyphs\" textLength=\"4\" x=\"458\" y=\"209.1074\">/</text></a></g><!--MD5=[5a531d3a85f3339e6e197084acb48195]\n",
       "link *start*E6 to E7--><a href=\"psysml:43d9c4f9-ed20-4c00-a0b0-be6dc49a6894\" target=\"_top\" title=\"psysml:43d9c4f9-ed20-4c00-a0b0-be6dc49a6894\" xlink:actuate=\"onRequest\" xlink:href=\"psysml:43d9c4f9-ed20-4c00-a0b0-be6dc49a6894\" xlink:show=\"new\" xlink:title=\"psysml:43d9c4f9-ed20-4c00-a0b0-be6dc49a6894\" xlink:type=\"simple\"><path d=\"M89.54,194 C108.46,194 152.97,194 182.78,194 \" fill=\"none\" id=\"*start*E6-&gt;E7\" style=\"stroke: #383838; stroke-width: 1.0;\"/><polygon fill=\"#383838\" points=\"187.8,194,178.8,190,182.8,194,178.8,198,187.8,194\" style=\"stroke: #383838; stroke-width: 1.0;\"/></a><!--MD5=[7ec9a8babba89ddcae1318ca9fb3c814]\n",
       "link E8 to *end*E6--><a href=\"psysml:f955b7ee-57f2-4e8a-b602-a443c9a31c83\" target=\"_top\" title=\"psysml:f955b7ee-57f2-4e8a-b602-a443c9a31c83\" xlink:actuate=\"onRequest\" xlink:href=\"psysml:f955b7ee-57f2-4e8a-b602-a443c9a31c83\" xlink:show=\"new\" xlink:title=\"psysml:f955b7ee-57f2-4e8a-b602-a443c9a31c83\" xlink:type=\"simple\"><path d=\"M485.16,196 C509.08,196 544.89,196 564.64,196 \" fill=\"none\" id=\"E8-&gt;*end*E6\" style=\"stroke: #383838; stroke-width: 1.0;\"/><polygon fill=\"#383838\" points=\"569.76,196,560.76,192,564.76,196,560.76,200,569.76,196\" style=\"stroke: #383838; stroke-width: 1.0;\"/><text fill=\"#000000\" font-family=\"sans-serif\" font-size=\"13\" lengthAdjust=\"spacingAndGlyphs\" textLength=\"23\" x=\"516\" y=\"192.0669\">Exit</text></a><!--MD5=[79bc8f324ef4d02c541433f2e6e513c3]\n",
       "link E7 to E8--><a href=\"psysml:d37fdc60-36d2-41f0-83fe-622a63ffc619\" target=\"_top\" title=\"psysml:d37fdc60-36d2-41f0-83fe-622a63ffc619\" xlink:actuate=\"onRequest\" xlink:href=\"psysml:d37fdc60-36d2-41f0-83fe-622a63ffc619\" xlink:show=\"new\" xlink:title=\"psysml:d37fdc60-36d2-41f0-83fe-622a63ffc619\" xlink:type=\"simple\"><path d=\"M238.15,210.85 C247.11,216.14 257.62,221.31 268,224 C326.94,239.27 345.84,238.42 405,224 C413.58,221.91 422.32,218.19 430.2,214.14 \" fill=\"none\" id=\"E7-&gt;E8\" style=\"stroke: #383838; stroke-width: 1.0;\"/><polygon fill=\"#383838\" points=\"434.98,211.59,425.156,212.2893,430.5666,213.94,428.9159,219.3506,434.98,211.59\" style=\"stroke: #383838; stroke-width: 1.0;\"/><text fill=\"#000000\" font-family=\"sans-serif\" font-size=\"13\" lengthAdjust=\"spacingAndGlyphs\" textLength=\"81\" x=\"296\" y=\"220.0669\">Sig /action D</text></a><!--MD5=[bfa3c8b0d15052fdf50ae9310b491027]\n",
       "link E8 to E7--><a href=\"psysml:b2ce6d4b-1a56-4d0e-ade4-ffb9136266c2\" target=\"_top\" title=\"psysml:b2ce6d4b-1a56-4d0e-ade4-ffb9136266c2\" xlink:actuate=\"onRequest\" xlink:href=\"psysml:b2ce6d4b-1a56-4d0e-ade4-ffb9136266c2\" xlink:show=\"new\" xlink:title=\"psysml:b2ce6d4b-1a56-4d0e-ade4-ffb9136266c2\" xlink:type=\"simple\"><path d=\"M434.71,195.8 C389.48,195.43 292.49,194.64 243.54,194.24 \" fill=\"none\" id=\"E8-&gt;E7\" style=\"stroke: #383838; stroke-width: 1.0;\"/><polygon fill=\"#383838\" points=\"238.39,194.2,247.3554,198.277,243.3898,194.2429,247.424,190.2773,238.39,194.2\" style=\"stroke: #383838; stroke-width: 1.0;\"/><text fill=\"#000000\" font-family=\"sans-serif\" font-size=\"13\" lengthAdjust=\"spacingAndGlyphs\" textLength=\"135\" x=\"269\" y=\"191.0669\">Sig [true]/send s to p</text></a><!--MD5=[13aa555858b150fce9552785674c0b88]\n",
       "@startuml\r\n",
       "left to right direction\r\n",
       "skinparam monochrome true\r\n",
       "skinparam classbackgroundcolor white\r\n",
       "skinparam shadowing false\r\n",
       "skinparam wrapWidth 300\r\n",
       "hide circle\r\n",
       "\r\n",
       "package \"StateTest\" as E1  [[psysml:5e99c5ac-660c-4bcd-ba7f-80dc44a07c9e ]]  {\r\n",
       "comp def \"Sig\" as E2  <<(T,blue)attribute def>> [[psysml:408e0494-0708-476d-85d5-333a69b53e96 ]] {\r\n",
       "- - attributes - -\r\n",
       "x\r\n",
       "}\r\n",
       "comp def \"Exit\" as E3  <<(T,blue)attribute def>> [[psysml:0109ef31-4e51-4de7-9ac0-eb82fbd89c67 ]] {\r\n",
       "}\r\n",
       "comp usage \"p\" as E4  <<(T,blue)part>> [[psysml:64a2c9fa-aa89-4eff-b01c-ff58906cbde0 ]] {\r\n",
       "}\r\n",
       "rec usage \"act\" as E5  <<(T,blue)action>> [[psysml:6519856a-88df-4cdc-a713-a9dddd16e281 ]] {\r\n",
       "}\r\n",
       "\r\n",
       "rec def \"S\" as E6  <<(T,blue)state def>> [[psysml:0bc7341d-f31b-4869-a064-1af20ff16fcc ]] {\r\n",
       "rec usage \"S1\" as E7 [[psysml:70242e19-3f56-46b0-b4b5-fd0d440c29ee ]] {\r\n",
       "}\r\n",
       "\r\n",
       "rec usage \"S2\" as E8 [[psysml:a085f23d-1115-47bd-987f-c38856471ed2 ]] {\r\n",
       "desc \"S2\" as E8  : **do**/ \r\n",
       "}\r\n",
       "\r\n",
       "[*] - -> E7 [[psysml:43d9c4f9-ed20-4c00-a0b0-be6dc49a6894 ]] \r\n",
       "E8  - -> [*] [[psysml:f955b7ee-57f2-4e8a-b602-a443c9a31c83 ]] : Exit \r\n",
       "desc \"S\" as E6  : **entry**/ A\r\n",
       "desc \"S\" as E6  : **do**/ B\r\n",
       "desc \"S\" as E6  : **exit**/ act \r\n",
       "}\r\n",
       "\r\n",
       "E7  - -> E8 [[psysml:d37fdc60-36d2-41f0-83fe-622a63ffc619 ]] : Sig /action D\r\n",
       "E8  - -> E7 [[psysml:b2ce6d4b-1a56-4d0e-ade4-ffb9136266c2 ]] : Sig [true]/send s to p\r\n",
       "}\r\n",
       "@enduml\r\n",
       "\n",
       "PlantUML version 1.2020.13(Sat Jun 13 12:26:38 UTC 2020)\n",
       "(EPL source distribution)\n",
       "Java Runtime: OpenJDK Runtime Environment\n",
       "JVM: OpenJDK 64-Bit Server VM\n",
       "Default Encoding: UTF-8\n",
       "Language: en\n",
       "Country: null\n",
       "--></g></svg>"
      ]
     },
     "execution_count": 16,
     "metadata": {},
     "output_type": "execute_result"
    }
   ],
   "source": [
    "%viz --style=\"LR\" --view=\"Default\" \"StateTest\""
   ]
  },
  {
   "cell_type": "code",
   "execution_count": 17,
   "id": "crude-dating",
   "metadata": {
    "execution": {
     "iopub.execute_input": "2021-03-26T13:02:45.638334Z",
     "iopub.status.busy": "2021-03-26T13:02:45.636688Z",
     "iopub.status.idle": "2021-03-26T13:02:45.772213Z",
     "shell.execute_reply": "2021-03-26T13:02:45.771758Z"
    }
   },
   "outputs": [
    {
     "data": {
      "image/svg+xml": [
       "<?xml version=\"1.0\" encoding=\"UTF-8\" standalone=\"no\"?><svg xmlns=\"http://www.w3.org/2000/svg\" xmlns:xlink=\"http://www.w3.org/1999/xlink\" contentScriptType=\"application/ecmascript\" contentStyleType=\"text/css\" height=\"583px\" preserveAspectRatio=\"none\" style=\"width:424px;height:583px;\" version=\"1.1\" viewBox=\"0 0 424 583\" width=\"424px\" zoomAndPan=\"magnify\"><defs/><g><!--MD5=[fbc87193dbaf4d95561dea2c320d4a47]\n",
       "cluster E1--><a href=\"psysml:5e99c5ac-660c-4bcd-ba7f-80dc44a07c9e\" target=\"_top\" title=\"psysml:5e99c5ac-660c-4bcd-ba7f-80dc44a07c9e\" xlink:actuate=\"onRequest\" xlink:href=\"psysml:5e99c5ac-660c-4bcd-ba7f-80dc44a07c9e\" xlink:show=\"new\" xlink:title=\"psysml:5e99c5ac-660c-4bcd-ba7f-80dc44a07c9e\" xlink:type=\"simple\"><polygon fill=\"#FFFFFF\" points=\"16,6,98,6,105,28.2969,402,28.2969,402,571,16,571,16,6\" style=\"stroke: #000000; stroke-width: 1.5;\"/><line style=\"stroke: #000000; stroke-width: 1.5;\" x1=\"16\" x2=\"105\" y1=\"28.2969\" y2=\"28.2969\"/><text fill=\"#000000\" font-family=\"sans-serif\" font-size=\"14\" font-weight=\"bold\" lengthAdjust=\"spacingAndGlyphs\" textLength=\"76\" x=\"20\" y=\"20.9951\">StateTest</text></a><!--MD5=[b4997ac47864f28c2f74865a473b2911]\n",
       "class E2--><a href=\"psysml:408e0494-0708-476d-85d5-333a69b53e96\" target=\"_top\" title=\"psysml:408e0494-0708-476d-85d5-333a69b53e96\" xlink:actuate=\"onRequest\" xlink:href=\"psysml:408e0494-0708-476d-85d5-333a69b53e96\" xlink:show=\"new\" xlink:title=\"psysml:408e0494-0708-476d-85d5-333a69b53e96\" xlink:type=\"simple\"><rect fill=\"#FFFFFF\" height=\"75.5469\" id=\"E2\" style=\"stroke: #383838; stroke-width: 1.5;\" width=\"95\" x=\"32\" y=\"41\"/><text fill=\"#000000\" font-family=\"sans-serif\" font-size=\"12\" font-style=\"italic\" lengthAdjust=\"spacingAndGlyphs\" textLength=\"93\" x=\"33\" y=\"57.1387\">«attribute def»</text><text fill=\"#000000\" font-family=\"sans-serif\" font-size=\"12\" lengthAdjust=\"spacingAndGlyphs\" textLength=\"19\" x=\"70\" y=\"71.1074\">Sig</text><line style=\"stroke: #383838; stroke-width: 1.5;\" x1=\"33\" x2=\"126\" y1=\"78.9375\" y2=\"78.9375\"/><text fill=\"#000000\" font-family=\"sans-serif\" font-size=\"11\" lengthAdjust=\"spacingAndGlyphs\" textLength=\"6\" x=\"38\" y=\"109.9526\">x</text><line style=\"stroke: #383838; stroke-width: 1.0;\" x1=\"33\" x2=\"52\" y1=\"93.3398\" y2=\"93.3398\"/><text fill=\"#000000\" font-family=\"sans-serif\" font-size=\"11\" lengthAdjust=\"spacingAndGlyphs\" textLength=\"55\" x=\"52\" y=\"96.6479\">attributes</text><line style=\"stroke: #383838; stroke-width: 1.0;\" x1=\"107\" x2=\"126\" y1=\"93.3398\" y2=\"93.3398\"/></a><!--MD5=[09b614a08d8cba4a07c9adeb5e0fee81]\n",
       "class E3--><a href=\"psysml:0109ef31-4e51-4de7-9ac0-eb82fbd89c67\" target=\"_top\" title=\"psysml:0109ef31-4e51-4de7-9ac0-eb82fbd89c67\" xlink:actuate=\"onRequest\" xlink:href=\"psysml:0109ef31-4e51-4de7-9ac0-eb82fbd89c67\" xlink:show=\"new\" xlink:title=\"psysml:0109ef31-4e51-4de7-9ac0-eb82fbd89c67\" xlink:type=\"simple\"><rect fill=\"#FFFFFF\" height=\"45.9375\" id=\"E3\" style=\"stroke: #383838; stroke-width: 1.5;\" width=\"95\" x=\"32\" y=\"152\"/><text fill=\"#000000\" font-family=\"sans-serif\" font-size=\"12\" font-style=\"italic\" lengthAdjust=\"spacingAndGlyphs\" textLength=\"93\" x=\"33\" y=\"168.1387\">«attribute def»</text><text fill=\"#000000\" font-family=\"sans-serif\" font-size=\"12\" lengthAdjust=\"spacingAndGlyphs\" textLength=\"22\" x=\"68.5\" y=\"182.1074\">Exit</text><line style=\"stroke: #383838; stroke-width: 1.5;\" x1=\"33\" x2=\"126\" y1=\"189.9375\" y2=\"189.9375\"/></a><!--MD5=[ebbe1d658d1005bcc118a6aa81145e00]\n",
       "class E4--><a href=\"psysml:64a2c9fa-aa89-4eff-b01c-ff58906cbde0\" target=\"_top\" title=\"psysml:64a2c9fa-aa89-4eff-b01c-ff58906cbde0\" xlink:actuate=\"onRequest\" xlink:href=\"psysml:64a2c9fa-aa89-4eff-b01c-ff58906cbde0\" xlink:show=\"new\" xlink:title=\"psysml:64a2c9fa-aa89-4eff-b01c-ff58906cbde0\" xlink:type=\"simple\"><rect fill=\"#FFFFFF\" height=\"45.9375\" id=\"E4\" rx=\"10\" ry=\"10\" style=\"stroke: #383838; stroke-width: 1.5;\" width=\"42\" x=\"58.5\" y=\"233\"/><text fill=\"#000000\" font-family=\"sans-serif\" font-size=\"12\" font-style=\"italic\" lengthAdjust=\"spacingAndGlyphs\" textLength=\"40\" x=\"59.5\" y=\"249.1387\">«part»</text><text fill=\"#000000\" font-family=\"sans-serif\" font-size=\"12\" lengthAdjust=\"spacingAndGlyphs\" textLength=\"8\" x=\"75.5\" y=\"263.1074\">p</text><line style=\"stroke: #383838; stroke-width: 1.5;\" x1=\"59.5\" x2=\"99.5\" y1=\"270.9375\" y2=\"270.9375\"/></a><!--MD5=[270fce915f116d4de14055a7c1d9a0f3]\n",
       "class E5--><a href=\"psysml:6519856a-88df-4cdc-a713-a9dddd16e281\" target=\"_top\" title=\"psysml:6519856a-88df-4cdc-a713-a9dddd16e281\" xlink:actuate=\"onRequest\" xlink:href=\"psysml:6519856a-88df-4cdc-a713-a9dddd16e281\" xlink:show=\"new\" xlink:title=\"psysml:6519856a-88df-4cdc-a713-a9dddd16e281\" xlink:type=\"simple\"><rect fill=\"#FFFFFF\" height=\"45.9375\" id=\"E5\" rx=\"10\" ry=\"10\" style=\"stroke: #383838; stroke-width: 1.5;\" width=\"55\" x=\"52\" y=\"314\"/><text fill=\"#000000\" font-family=\"sans-serif\" font-size=\"12\" font-style=\"italic\" lengthAdjust=\"spacingAndGlyphs\" textLength=\"53\" x=\"53\" y=\"330.1387\">«action»</text><text fill=\"#000000\" font-family=\"sans-serif\" font-size=\"12\" lengthAdjust=\"spacingAndGlyphs\" textLength=\"20\" x=\"69.5\" y=\"344.1074\">act</text><line style=\"stroke: #383838; stroke-width: 1.5;\" x1=\"53\" x2=\"106\" y1=\"351.9375\" y2=\"351.9375\"/></a><!--MD5=[60a26617385b1d2d0262a64233df1f8d]\n",
       "class E6--><a href=\"psysml:0bc7341d-f31b-4869-a064-1af20ff16fcc\" target=\"_top\" title=\"psysml:0bc7341d-f31b-4869-a064-1af20ff16fcc\" xlink:actuate=\"onRequest\" xlink:href=\"psysml:0bc7341d-f31b-4869-a064-1af20ff16fcc\" xlink:show=\"new\" xlink:title=\"psysml:0bc7341d-f31b-4869-a064-1af20ff16fcc\" xlink:type=\"simple\"><rect fill=\"#FFFFFF\" height=\"160.375\" id=\"E6\" style=\"stroke: #383838; stroke-width: 1.5;\" width=\"95\" x=\"32\" y=\"395\"/><text fill=\"#000000\" font-family=\"sans-serif\" font-size=\"12\" font-style=\"italic\" lengthAdjust=\"spacingAndGlyphs\" textLength=\"71\" x=\"44\" y=\"411.1387\">«state def»</text><text fill=\"#000000\" font-family=\"sans-serif\" font-size=\"12\" lengthAdjust=\"spacingAndGlyphs\" textLength=\"8\" x=\"75.5\" y=\"425.1074\">S</text><line style=\"stroke: #383838; stroke-width: 1.5;\" x1=\"33\" x2=\"126\" y1=\"432.9375\" y2=\"432.9375\"/><text fill=\"#000000\" font-family=\"sans-serif\" font-size=\"11\" lengthAdjust=\"spacingAndGlyphs\" textLength=\"17\" x=\"38\" y=\"463.9526\">act</text><text fill=\"#000000\" font-family=\"sans-serif\" font-size=\"11\" lengthAdjust=\"spacingAndGlyphs\" textLength=\"7\" x=\"38\" y=\"476.7573\">A</text><text fill=\"#000000\" font-family=\"sans-serif\" font-size=\"11\" lengthAdjust=\"spacingAndGlyphs\" textLength=\"8\" x=\"38\" y=\"489.562\">B</text><line style=\"stroke: #383838; stroke-width: 1.0;\" x1=\"33\" x2=\"36\" y1=\"447.3398\" y2=\"447.3398\"/><text fill=\"#000000\" font-family=\"sans-serif\" font-size=\"11\" lengthAdjust=\"spacingAndGlyphs\" textLength=\"87\" x=\"36\" y=\"450.6479\">performActions</text><line style=\"stroke: #383838; stroke-width: 1.0;\" x1=\"123\" x2=\"126\" y1=\"447.3398\" y2=\"447.3398\"/><text fill=\"#000000\" font-family=\"sans-serif\" font-size=\"11\" lengthAdjust=\"spacingAndGlyphs\" textLength=\"15\" x=\"38\" y=\"519.1714\">S1</text><line style=\"stroke: #383838; stroke-width: 1.0;\" x1=\"33\" x2=\"61.5\" y1=\"502.5586\" y2=\"502.5586\"/><text fill=\"#000000\" font-family=\"sans-serif\" font-size=\"11\" lengthAdjust=\"spacingAndGlyphs\" textLength=\"36\" x=\"61.5\" y=\"505.8667\">states</text><line style=\"stroke: #383838; stroke-width: 1.0;\" x1=\"97.5\" x2=\"126\" y1=\"502.5586\" y2=\"502.5586\"/><text fill=\"#000000\" font-family=\"sans-serif\" font-size=\"11\" lengthAdjust=\"spacingAndGlyphs\" textLength=\"7\" x=\"38\" y=\"548.7808\">T</text><line style=\"stroke: #383838; stroke-width: 1.0;\" x1=\"33\" x2=\"49\" y1=\"532.168\" y2=\"532.168\"/><text fill=\"#000000\" font-family=\"sans-serif\" font-size=\"11\" lengthAdjust=\"spacingAndGlyphs\" textLength=\"61\" x=\"49\" y=\"535.4761\">transitions</text><line style=\"stroke: #383838; stroke-width: 1.0;\" x1=\"110\" x2=\"126\" y1=\"532.168\" y2=\"532.168\"/></a><!--MD5=[1dd1bfd58a279cf63c5f349dbc8fc6a1]\n",
       "class E11--><a href=\"psysml:a085f23d-1115-47bd-987f-c38856471ed2\" target=\"_top\" title=\"psysml:a085f23d-1115-47bd-987f-c38856471ed2\" xlink:actuate=\"onRequest\" xlink:href=\"psysml:a085f23d-1115-47bd-987f-c38856471ed2\" xlink:show=\"new\" xlink:title=\"psysml:a085f23d-1115-47bd-987f-c38856471ed2\" xlink:type=\"simple\"><rect fill=\"#FFFFFF\" height=\"45.9375\" id=\"E11\" rx=\"10\" ry=\"10\" style=\"stroke: #383838; stroke-width: 1.5;\" width=\"49\" x=\"187\" y=\"452\"/><text fill=\"#000000\" font-family=\"sans-serif\" font-size=\"12\" font-style=\"italic\" lengthAdjust=\"spacingAndGlyphs\" textLength=\"47\" x=\"188\" y=\"468.1387\">«state»</text><text fill=\"#000000\" font-family=\"sans-serif\" font-size=\"12\" lengthAdjust=\"spacingAndGlyphs\" textLength=\"16\" x=\"203.5\" y=\"482.1074\">S2</text><line style=\"stroke: #383838; stroke-width: 1.5;\" x1=\"188\" x2=\"235\" y1=\"489.9375\" y2=\"489.9375\"/></a><!--MD5=[49a0ec8f00dab7302a31f22d0f0fe584]\n",
       "class E12--><a href=\"psysml:cfc90439-05ae-44f8-b88d-04fe860fe407\" target=\"_top\" title=\"psysml:cfc90439-05ae-44f8-b88d-04fe860fe407\" xlink:actuate=\"onRequest\" xlink:href=\"psysml:cfc90439-05ae-44f8-b88d-04fe860fe407\" xlink:show=\"new\" xlink:title=\"psysml:cfc90439-05ae-44f8-b88d-04fe860fe407\" xlink:type=\"simple\"><rect fill=\"#FFFFFF\" height=\"75.5469\" id=\"E12\" rx=\"10\" ry=\"10\" style=\"stroke: #383838; stroke-width: 1.5;\" width=\"90\" x=\"296\" y=\"437\"/><text fill=\"#000000\" font-family=\"sans-serif\" font-size=\"12\" font-style=\"italic\" lengthAdjust=\"spacingAndGlyphs\" textLength=\"88\" x=\"297\" y=\"453.1387\">«send action»</text><text fill=\"#000000\" font-family=\"sans-serif\" font-size=\"12\" lengthAdjust=\"spacingAndGlyphs\" textLength=\"55\" x=\"313.5\" y=\"467.1074\">doAction</text><line style=\"stroke: #383838; stroke-width: 1.5;\" x1=\"297\" x2=\"385\" y1=\"474.9375\" y2=\"474.9375\"/><text fill=\"#000000\" font-family=\"sans-serif\" font-size=\"11\" lengthAdjust=\"spacingAndGlyphs\" textLength=\"25\" x=\"302\" y=\"505.9526\">item</text><line style=\"stroke: #383838; stroke-width: 1.0;\" x1=\"297\" x2=\"303.5\" y1=\"489.3398\" y2=\"489.3398\"/><text fill=\"#000000\" font-family=\"sans-serif\" font-size=\"11\" lengthAdjust=\"spacingAndGlyphs\" textLength=\"75\" x=\"303.5\" y=\"492.6479\">itemFeatures</text><line style=\"stroke: #383838; stroke-width: 1.0;\" x1=\"378.5\" x2=\"385\" y1=\"489.3398\" y2=\"489.3398\"/></a><!--MD5=[1f5f03483f7de0d5b3680a7f6650997f]\n",
       "reverse link E6 to E11--><a href=\"psysml:a085f23d-1115-47bd-987f-c38856471ed2\" target=\"_top\" title=\"psysml:a085f23d-1115-47bd-987f-c38856471ed2\" xlink:actuate=\"onRequest\" xlink:href=\"psysml:a085f23d-1115-47bd-987f-c38856471ed2\" xlink:show=\"new\" xlink:title=\"psysml:a085f23d-1115-47bd-987f-c38856471ed2\" xlink:type=\"simple\"><path d=\"M140.15,475 C156.69,475 173.69,475 186.84,475 \" fill=\"none\" id=\"E6&lt;-E11\" style=\"stroke: #383838; stroke-width: 1.0;\"/><polygon fill=\"#383838\" points=\"127.07,475,133.07,479,139.07,475,133.07,471,127.07,475\" style=\"stroke: #383838; stroke-width: 1.0;\"/></a><!--MD5=[94adabc162ce7e41b39f13be14fbaeb3]\n",
       "reverse link E11 to E12--><a href=\"psysml:cfc90439-05ae-44f8-b88d-04fe860fe407\" target=\"_top\" title=\"psysml:cfc90439-05ae-44f8-b88d-04fe860fe407\" xlink:actuate=\"onRequest\" xlink:href=\"psysml:cfc90439-05ae-44f8-b88d-04fe860fe407\" xlink:show=\"new\" xlink:title=\"psysml:cfc90439-05ae-44f8-b88d-04fe860fe407\" xlink:type=\"simple\"><path d=\"M249.28,475 C263.81,475 280.62,475 295.8,475 \" fill=\"none\" id=\"E11&lt;-E12\" style=\"stroke: #383838; stroke-width: 1.0;\"/><polygon fill=\"#FFFFFF\" points=\"236.18,475,242.18,479,248.18,475,242.18,471,236.18,475\" style=\"stroke: #383838; stroke-width: 1.0;\"/></a><!--MD5=[350faad2f245a39c0dc667c07ef13d95]\n",
       "@startuml\r\n",
       "left to right direction\r\n",
       "skinparam monochrome true\r\n",
       "skinparam classbackgroundcolor white\r\n",
       "skinparam shadowing false\r\n",
       "skinparam wrapWidth 300\r\n",
       "hide circle\r\n",
       "\r\n",
       "package \"StateTest\" as E1  [[psysml:5e99c5ac-660c-4bcd-ba7f-80dc44a07c9e ]]  {\r\n",
       "comp def \"Sig\" as E2  <<(T,blue)attribute def>> [[psysml:408e0494-0708-476d-85d5-333a69b53e96 ]] {\r\n",
       "- - attributes - -\r\n",
       "x\r\n",
       "}\r\n",
       "comp def \"Exit\" as E3  <<(T,blue)attribute def>> [[psysml:0109ef31-4e51-4de7-9ac0-eb82fbd89c67 ]] {\r\n",
       "}\r\n",
       "comp usage \"p\" as E4  <<(T,blue)part>> [[psysml:64a2c9fa-aa89-4eff-b01c-ff58906cbde0 ]] {\r\n",
       "}\r\n",
       "comp usage \"act\" as E5  <<(T,blue)action>> [[psysml:6519856a-88df-4cdc-a713-a9dddd16e281 ]] {\r\n",
       "}\r\n",
       "comp def \"S\" as E6  <<(T,blue)state def>> [[psysml:0bc7341d-f31b-4869-a064-1af20ff16fcc ]] {\r\n",
       "- - performActions - -\r\n",
       "act\r\n",
       "A\r\n",
       "B\r\n",
       "- - states - -\r\n",
       "S1\r\n",
       "- - transitions - -\r\n",
       "T\r\n",
       "}\r\n",
       "comp usage \"S2\" as E11  <<(T,blue)state>> [[psysml:a085f23d-1115-47bd-987f-c38856471ed2 ]] {\r\n",
       "}\r\n",
       "comp usage \"doAction\" as E12 <<send action>> [[psysml:cfc90439-05ae-44f8-b88d-04fe860fe407 ]] {\r\n",
       "- - itemFeatures - -\r\n",
       "item\r\n",
       "}\r\n",
       "E6 *- - E11 [[psysml:a085f23d-1115-47bd-987f-c38856471ed2 ]] \r\n",
       "E11 o- - E12 [[psysml:cfc90439-05ae-44f8-b88d-04fe860fe407 ]] \r\n",
       "}\r\n",
       "@enduml\r\n",
       "\n",
       "PlantUML version 1.2020.13(Sat Jun 13 12:26:38 UTC 2020)\n",
       "(EPL source distribution)\n",
       "Java Runtime: OpenJDK Runtime Environment\n",
       "JVM: OpenJDK 64-Bit Server VM\n",
       "Default Encoding: UTF-8\n",
       "Language: en\n",
       "Country: null\n",
       "--></g></svg>"
      ]
     },
     "execution_count": 17,
     "metadata": {},
     "output_type": "execute_result"
    }
   ],
   "source": [
    "%viz --style=\"LR\" --view=\"Tree\" \"StateTest\""
   ]
  },
  {
   "cell_type": "code",
   "execution_count": 18,
   "id": "fancy-express",
   "metadata": {
    "execution": {
     "iopub.execute_input": "2021-03-26T13:02:45.822614Z",
     "iopub.status.busy": "2021-03-26T13:02:45.822076Z",
     "iopub.status.idle": "2021-03-26T13:02:45.854234Z",
     "shell.execute_reply": "2021-03-26T13:02:45.852751Z"
    }
   },
   "outputs": [
    {
     "data": {
      "image/svg+xml": [
       "<?xml version=\"1.0\" encoding=\"UTF-8\" standalone=\"no\"?><svg xmlns=\"http://www.w3.org/2000/svg\" xmlns:xlink=\"http://www.w3.org/1999/xlink\" contentScriptType=\"application/ecmascript\" contentStyleType=\"text/css\" height=\"241px\" preserveAspectRatio=\"none\" style=\"width:534px;height:241px;\" version=\"1.1\" viewBox=\"0 0 534 241\" width=\"534px\" zoomAndPan=\"magnify\"><defs/><g><!--MD5=[fbc87193dbaf4d95561dea2c320d4a47]\n",
       "cluster E1--><a href=\"psysml:0bc7341d-f31b-4869-a064-1af20ff16fcc\" target=\"_top\" title=\"psysml:0bc7341d-f31b-4869-a064-1af20ff16fcc\" xlink:actuate=\"onRequest\" xlink:href=\"psysml:0bc7341d-f31b-4869-a064-1af20ff16fcc\" xlink:show=\"new\" xlink:title=\"psysml:0bc7341d-f31b-4869-a064-1af20ff16fcc\" xlink:type=\"simple\"><rect fill=\"#FFFFFF\" height=\"223\" id=\"E1\" style=\"stroke: #383838; stroke-width: 1.5;\" width=\"515\" x=\"7\" y=\"7\"/><rect fill=\"#F8F8F8\" height=\"37.9375\" style=\"stroke: #383838; stroke-width: 1.5;\" width=\"515\" x=\"7\" y=\"7\"/><text fill=\"#000000\" font-family=\"sans-serif\" font-size=\"12\" font-style=\"italic\" lengthAdjust=\"spacingAndGlyphs\" textLength=\"71\" x=\"229\" y=\"23.1387\">«state def»</text><text fill=\"#000000\" font-family=\"sans-serif\" font-size=\"12\" lengthAdjust=\"spacingAndGlyphs\" textLength=\"8\" x=\"260.5\" y=\"37.1074\">S</text><line style=\"stroke: #383838; stroke-width: 1.0;\" x1=\"7\" x2=\"522\" y1=\"90.8438\" y2=\"90.8438\"/><text fill=\"#000000\" font-family=\"sans-serif\" font-size=\"12\" font-weight=\"bold\" lengthAdjust=\"spacingAndGlyphs\" textLength=\"38\" x=\"12\" y=\"58.0762\">entry</text><text fill=\"#000000\" font-family=\"sans-serif\" font-size=\"12\" lengthAdjust=\"spacingAndGlyphs\" textLength=\"16\" x=\"50\" y=\"58.0762\">/ A</text><text fill=\"#000000\" font-family=\"sans-serif\" font-size=\"12\" font-weight=\"bold\" lengthAdjust=\"spacingAndGlyphs\" textLength=\"18\" x=\"12\" y=\"72.0449\">do</text><text fill=\"#000000\" font-family=\"sans-serif\" font-size=\"12\" lengthAdjust=\"spacingAndGlyphs\" textLength=\"16\" x=\"30\" y=\"72.0449\">/ B</text><text fill=\"#000000\" font-family=\"sans-serif\" font-size=\"12\" font-weight=\"bold\" lengthAdjust=\"spacingAndGlyphs\" textLength=\"26\" x=\"12\" y=\"86.0137\">exit</text><text fill=\"#000000\" font-family=\"sans-serif\" font-size=\"12\" lengthAdjust=\"spacingAndGlyphs\" textLength=\"28\" x=\"38\" y=\"86.0137\">/ act</text></a><ellipse cx=\"33\" cy=\"152\" fill=\"#000000\" rx=\"10\" ry=\"10\" style=\"stroke: none; stroke-width: 1.0;\"/><ellipse cx=\"496\" cy=\"154\" fill=\"none\" rx=\"10\" ry=\"10\" style=\"stroke: #000000; stroke-width: 1.0;\"/><ellipse cx=\"496.5\" cy=\"154.5\" fill=\"#000000\" rx=\"6\" ry=\"6\" style=\"stroke: none; stroke-width: 1.0;\"/><g id=\"E1.E2\"><a href=\"psysml:70242e19-3f56-46b0-b4b5-fd0d440c29ee\" target=\"_top\" title=\"psysml:70242e19-3f56-46b0-b4b5-fd0d440c29ee\" xlink:actuate=\"onRequest\" xlink:href=\"psysml:70242e19-3f56-46b0-b4b5-fd0d440c29ee\" xlink:show=\"new\" xlink:title=\"psysml:70242e19-3f56-46b0-b4b5-fd0d440c29ee\" xlink:type=\"simple\"><rect fill=\"#FFFFFF\" height=\"40\" id=\"E2\" rx=\"10\" ry=\"10\" style=\"stroke: #383838; stroke-width: 1.5;\" width=\"50\" x=\"104\" y=\"132\"/><rect fill=\"#F8F8F8\" height=\"23.9688\" rx=\"10\" ry=\"10\" style=\"stroke: #F8F8F8; stroke-width: 1.5;\" width=\"50\" x=\"104\" y=\"132\"/><rect fill=\"#F8F8F8\" height=\"10\" style=\"stroke: #F8F8F8; stroke-width: 1.5;\" width=\"50\" x=\"104\" y=\"145.9688\"/><rect fill=\"none\" height=\"40\" id=\"E2\" rx=\"10\" ry=\"10\" style=\"stroke: #383838; stroke-width: 1.5;\" width=\"50\" x=\"104\" y=\"132\"/><text fill=\"#000000\" font-family=\"sans-serif\" font-size=\"12\" lengthAdjust=\"spacingAndGlyphs\" textLength=\"16\" x=\"121\" y=\"148.1387\">S1</text></a></g><g id=\"E1.E3\"><a href=\"psysml:a085f23d-1115-47bd-987f-c38856471ed2\" target=\"_top\" title=\"psysml:a085f23d-1115-47bd-987f-c38856471ed2\" xlink:actuate=\"onRequest\" xlink:href=\"psysml:a085f23d-1115-47bd-987f-c38856471ed2\" xlink:show=\"new\" xlink:title=\"psysml:a085f23d-1115-47bd-987f-c38856471ed2\" xlink:type=\"simple\"><rect fill=\"#FFFFFF\" height=\"47.9375\" id=\"E3\" rx=\"10\" ry=\"10\" style=\"stroke: #383838; stroke-width: 1.5;\" width=\"50\" x=\"351\" y=\"130\"/><rect fill=\"#F8F8F8\" height=\"23.9688\" rx=\"10\" ry=\"10\" style=\"stroke: #F8F8F8; stroke-width: 1.5;\" width=\"50\" x=\"351\" y=\"130\"/><rect fill=\"#F8F8F8\" height=\"10\" style=\"stroke: #F8F8F8; stroke-width: 1.5;\" width=\"50\" x=\"351\" y=\"143.9688\"/><rect fill=\"none\" height=\"47.9375\" id=\"E3\" rx=\"10\" ry=\"10\" style=\"stroke: #383838; stroke-width: 1.5;\" width=\"50\" x=\"351\" y=\"130\"/><text fill=\"#000000\" font-family=\"sans-serif\" font-size=\"12\" lengthAdjust=\"spacingAndGlyphs\" textLength=\"16\" x=\"368\" y=\"146.1387\">S2</text><line style=\"stroke: #383838; stroke-width: 1.0;\" x1=\"351\" x2=\"401\" y1=\"153.9688\" y2=\"153.9688\"/><text fill=\"#000000\" font-family=\"sans-serif\" font-size=\"12\" font-weight=\"bold\" lengthAdjust=\"spacingAndGlyphs\" textLength=\"18\" x=\"356\" y=\"167.1074\">do</text><text fill=\"#000000\" font-family=\"sans-serif\" font-size=\"12\" lengthAdjust=\"spacingAndGlyphs\" textLength=\"4\" x=\"374\" y=\"167.1074\">/</text></a></g><!--MD5=[cff944eb183b832d446717a4e202d613]\n",
       "link *start*E1 to E2--><a href=\"psysml:43d9c4f9-ed20-4c00-a0b0-be6dc49a6894\" target=\"_top\" title=\"psysml:43d9c4f9-ed20-4c00-a0b0-be6dc49a6894\" xlink:actuate=\"onRequest\" xlink:href=\"psysml:43d9c4f9-ed20-4c00-a0b0-be6dc49a6894\" xlink:show=\"new\" xlink:title=\"psysml:43d9c4f9-ed20-4c00-a0b0-be6dc49a6894\" xlink:type=\"simple\"><path d=\"M43.01,152 C55.7,152 79.41,152 98.57,152 \" fill=\"none\" id=\"*start*E1-&gt;E2\" style=\"stroke: #383838; stroke-width: 1.0;\"/><polygon fill=\"#383838\" points=\"103.84,152,94.84,148,98.84,152,94.84,156,103.84,152\" style=\"stroke: #383838; stroke-width: 1.0;\"/></a><!--MD5=[9ee7afa76ca8c509b3d216624c3a9893]\n",
       "link E3 to *end*E1--><a href=\"psysml:f955b7ee-57f2-4e8a-b602-a443c9a31c83\" target=\"_top\" title=\"psysml:f955b7ee-57f2-4e8a-b602-a443c9a31c83\" xlink:actuate=\"onRequest\" xlink:href=\"psysml:f955b7ee-57f2-4e8a-b602-a443c9a31c83\" xlink:show=\"new\" xlink:title=\"psysml:f955b7ee-57f2-4e8a-b602-a443c9a31c83\" xlink:type=\"simple\"><path d=\"M401.16,154 C425.08,154 460.89,154 480.64,154 \" fill=\"none\" id=\"E3-&gt;*end*E1\" style=\"stroke: #383838; stroke-width: 1.0;\"/><polygon fill=\"#383838\" points=\"485.76,154,476.76,150,480.76,154,476.76,158,485.76,154\" style=\"stroke: #383838; stroke-width: 1.0;\"/><text fill=\"#000000\" font-family=\"sans-serif\" font-size=\"13\" lengthAdjust=\"spacingAndGlyphs\" textLength=\"23\" x=\"432\" y=\"150.0669\">Exit</text></a><!--MD5=[2720a5a1f2c3fca2055b230370638851]\n",
       "link E2 to E3--><a href=\"psysml:d37fdc60-36d2-41f0-83fe-622a63ffc619\" target=\"_top\" title=\"psysml:d37fdc60-36d2-41f0-83fe-622a63ffc619\" xlink:actuate=\"onRequest\" xlink:href=\"psysml:d37fdc60-36d2-41f0-83fe-622a63ffc619\" xlink:show=\"new\" xlink:title=\"psysml:d37fdc60-36d2-41f0-83fe-622a63ffc619\" xlink:type=\"simple\"><path d=\"M154.15,168.85 C163.11,174.14 173.62,179.31 184,182 C242.94,197.27 261.84,196.42 321,182 C329.58,179.91 338.32,176.19 346.2,172.14 \" fill=\"none\" id=\"E2-&gt;E3\" style=\"stroke: #383838; stroke-width: 1.0;\"/><polygon fill=\"#383838\" points=\"350.98,169.59,341.156,170.2893,346.5666,171.94,344.9159,177.3506,350.98,169.59\" style=\"stroke: #383838; stroke-width: 1.0;\"/><text fill=\"#000000\" font-family=\"sans-serif\" font-size=\"13\" lengthAdjust=\"spacingAndGlyphs\" textLength=\"81\" x=\"212\" y=\"178.0669\">Sig /action D</text></a><!--MD5=[05d275557350bfb9b23a4ef7222b4c39]\n",
       "link E3 to E2--><a href=\"psysml:b2ce6d4b-1a56-4d0e-ade4-ffb9136266c2\" target=\"_top\" title=\"psysml:b2ce6d4b-1a56-4d0e-ade4-ffb9136266c2\" xlink:actuate=\"onRequest\" xlink:href=\"psysml:b2ce6d4b-1a56-4d0e-ade4-ffb9136266c2\" xlink:show=\"new\" xlink:title=\"psysml:b2ce6d4b-1a56-4d0e-ade4-ffb9136266c2\" xlink:type=\"simple\"><path d=\"M350.71,153.8 C305.48,153.43 208.49,152.64 159.54,152.24 \" fill=\"none\" id=\"E3-&gt;E2\" style=\"stroke: #383838; stroke-width: 1.0;\"/><polygon fill=\"#383838\" points=\"154.39,152.2,163.3554,156.277,159.3898,152.2429,163.424,148.2773,154.39,152.2\" style=\"stroke: #383838; stroke-width: 1.0;\"/><text fill=\"#000000\" font-family=\"sans-serif\" font-size=\"13\" lengthAdjust=\"spacingAndGlyphs\" textLength=\"135\" x=\"185\" y=\"149.0669\">Sig [true]/send s to p</text></a><!--MD5=[a444e4d3a9c9bc37241808bb8efdf703]\n",
       "@startuml\r\n",
       "left to right direction\r\n",
       "skinparam monochrome true\r\n",
       "skinparam classbackgroundcolor white\r\n",
       "skinparam shadowing false\r\n",
       "skinparam wrapWidth 300\r\n",
       "hide circle\r\n",
       "\r\n",
       "rec def \"S\" as E1  <<(T,blue)state def>> [[psysml:0bc7341d-f31b-4869-a064-1af20ff16fcc ]] {\r\n",
       "rec usage \"S1\" as E2 [[psysml:70242e19-3f56-46b0-b4b5-fd0d440c29ee ]] {\r\n",
       "}\r\n",
       "\r\n",
       "rec usage \"S2\" as E3 [[psysml:a085f23d-1115-47bd-987f-c38856471ed2 ]] {\r\n",
       "desc \"S2\" as E3  : **do**/ \r\n",
       "}\r\n",
       "\r\n",
       "[*] - -> E2 [[psysml:43d9c4f9-ed20-4c00-a0b0-be6dc49a6894 ]] \r\n",
       "E3  - -> [*] [[psysml:f955b7ee-57f2-4e8a-b602-a443c9a31c83 ]] : Exit \r\n",
       "desc \"S\" as E1  : **entry**/ A\r\n",
       "desc \"S\" as E1  : **do**/ B\r\n",
       "desc \"S\" as E1  : **exit**/ act \r\n",
       "}\r\n",
       "\r\n",
       "E2  - -> E3 [[psysml:d37fdc60-36d2-41f0-83fe-622a63ffc619 ]] : Sig /action D\r\n",
       "E3  - -> E2 [[psysml:b2ce6d4b-1a56-4d0e-ade4-ffb9136266c2 ]] : Sig [true]/send s to p\r\n",
       "@enduml\r\n",
       "\n",
       "PlantUML version 1.2020.13(Sat Jun 13 12:26:38 UTC 2020)\n",
       "(EPL source distribution)\n",
       "Java Runtime: OpenJDK Runtime Environment\n",
       "JVM: OpenJDK 64-Bit Server VM\n",
       "Default Encoding: UTF-8\n",
       "Language: en\n",
       "Country: null\n",
       "--></g></svg>"
      ]
     },
     "execution_count": 18,
     "metadata": {},
     "output_type": "execute_result"
    }
   ],
   "source": [
    "%viz --style=\"LR\" --view=\"State\" \"StateTest\""
   ]
  },
  {
   "cell_type": "code",
   "execution_count": 19,
   "id": "periodic-static",
   "metadata": {
    "execution": {
     "iopub.execute_input": "2021-03-26T13:02:45.904824Z",
     "iopub.status.busy": "2021-03-26T13:02:45.904045Z",
     "iopub.status.idle": "2021-03-26T13:02:45.929617Z",
     "shell.execute_reply": "2021-03-26T13:02:45.928395Z"
    }
   },
   "outputs": [
    {
     "data": {
      "image/svg+xml": [
       "<?xml version=\"1.0\" encoding=\"UTF-8\" standalone=\"no\"?><svg xmlns=\"http://www.w3.org/2000/svg\" xmlns:xlink=\"http://www.w3.org/1999/xlink\" contentScriptType=\"application/ecmascript\" contentStyleType=\"text/css\" height=\"423px\" preserveAspectRatio=\"none\" style=\"width:170px;height:423px;\" version=\"1.1\" viewBox=\"0 0 170 423\" width=\"170px\" zoomAndPan=\"magnify\"><defs/><g><!--MD5=[fbc87193dbaf4d95561dea2c320d4a47]\n",
       "cluster E1--><a href=\"psysml:5e99c5ac-660c-4bcd-ba7f-80dc44a07c9e\" target=\"_top\" title=\"psysml:5e99c5ac-660c-4bcd-ba7f-80dc44a07c9e\" xlink:actuate=\"onRequest\" xlink:href=\"psysml:5e99c5ac-660c-4bcd-ba7f-80dc44a07c9e\" xlink:show=\"new\" xlink:title=\"psysml:5e99c5ac-660c-4bcd-ba7f-80dc44a07c9e\" xlink:type=\"simple\"><polygon fill=\"#FFFFFF\" points=\"16,6,98,6,105,28.2969,148,28.2969,148,411,16,411,16,6\" style=\"stroke: #000000; stroke-width: 1.5;\"/><line style=\"stroke: #000000; stroke-width: 1.5;\" x1=\"16\" x2=\"105\" y1=\"28.2969\" y2=\"28.2969\"/><text fill=\"#000000\" font-family=\"sans-serif\" font-size=\"14\" font-weight=\"bold\" lengthAdjust=\"spacingAndGlyphs\" textLength=\"76\" x=\"20\" y=\"20.9951\">StateTest</text></a><g id=\"E1.E2\"><a href=\"psysml:408e0494-0708-476d-85d5-333a69b53e96\" target=\"_top\" title=\"psysml:408e0494-0708-476d-85d5-333a69b53e96\" xlink:actuate=\"onRequest\" xlink:href=\"psysml:408e0494-0708-476d-85d5-333a69b53e96\" xlink:show=\"new\" xlink:title=\"psysml:408e0494-0708-476d-85d5-333a69b53e96\" xlink:type=\"simple\"><rect fill=\"#FFFFFF\" height=\"42.9375\" id=\"E2\" style=\"stroke: #383838; stroke-width: 1.5;\" width=\"100\" x=\"32\" y=\"41.5\"/><rect fill=\"#F8F8F8\" height=\"37.9375\" style=\"stroke: #383838; stroke-width: 1.5;\" width=\"100\" x=\"32\" y=\"41.5\"/><text fill=\"#000000\" font-family=\"sans-serif\" font-size=\"12\" font-style=\"italic\" lengthAdjust=\"spacingAndGlyphs\" textLength=\"93\" x=\"35.5\" y=\"57.6387\">«attribute def»</text><text fill=\"#000000\" font-family=\"sans-serif\" font-size=\"12\" lengthAdjust=\"spacingAndGlyphs\" textLength=\"19\" x=\"72.5\" y=\"71.6074\">Sig</text></a></g><g id=\"E1.E3\"><a href=\"psysml:0109ef31-4e51-4de7-9ac0-eb82fbd89c67\" target=\"_top\" title=\"psysml:0109ef31-4e51-4de7-9ac0-eb82fbd89c67\" xlink:actuate=\"onRequest\" xlink:href=\"psysml:0109ef31-4e51-4de7-9ac0-eb82fbd89c67\" xlink:show=\"new\" xlink:title=\"psysml:0109ef31-4e51-4de7-9ac0-eb82fbd89c67\" xlink:type=\"simple\"><rect fill=\"#FFFFFF\" height=\"42.9375\" id=\"E3\" style=\"stroke: #383838; stroke-width: 1.5;\" width=\"100\" x=\"32\" y=\"119.5\"/><rect fill=\"#F8F8F8\" height=\"37.9375\" style=\"stroke: #383838; stroke-width: 1.5;\" width=\"100\" x=\"32\" y=\"119.5\"/><text fill=\"#000000\" font-family=\"sans-serif\" font-size=\"12\" font-style=\"italic\" lengthAdjust=\"spacingAndGlyphs\" textLength=\"93\" x=\"35.5\" y=\"135.6387\">«attribute def»</text><text fill=\"#000000\" font-family=\"sans-serif\" font-size=\"12\" lengthAdjust=\"spacingAndGlyphs\" textLength=\"22\" x=\"71\" y=\"149.6074\">Exit</text></a></g><g id=\"E1.E6\"><a href=\"psysml:0bc7341d-f31b-4869-a064-1af20ff16fcc\" target=\"_top\" title=\"psysml:0bc7341d-f31b-4869-a064-1af20ff16fcc\" xlink:actuate=\"onRequest\" xlink:href=\"psysml:0bc7341d-f31b-4869-a064-1af20ff16fcc\" xlink:show=\"new\" xlink:title=\"psysml:0bc7341d-f31b-4869-a064-1af20ff16fcc\" xlink:type=\"simple\"><rect fill=\"#FFFFFF\" height=\"42.9375\" id=\"E6\" style=\"stroke: #383838; stroke-width: 1.5;\" width=\"78\" x=\"43\" y=\"197.5\"/><rect fill=\"#F8F8F8\" height=\"37.9375\" style=\"stroke: #383838; stroke-width: 1.5;\" width=\"78\" x=\"43\" y=\"197.5\"/><text fill=\"#000000\" font-family=\"sans-serif\" font-size=\"12\" font-style=\"italic\" lengthAdjust=\"spacingAndGlyphs\" textLength=\"71\" x=\"46.5\" y=\"213.6387\">«state def»</text><text fill=\"#000000\" font-family=\"sans-serif\" font-size=\"12\" lengthAdjust=\"spacingAndGlyphs\" textLength=\"8\" x=\"78\" y=\"227.6074\">S</text></a></g><g id=\"E1.E4\"><a href=\"psysml:64a2c9fa-aa89-4eff-b01c-ff58906cbde0\" target=\"_top\" title=\"psysml:64a2c9fa-aa89-4eff-b01c-ff58906cbde0\" xlink:actuate=\"onRequest\" xlink:href=\"psysml:64a2c9fa-aa89-4eff-b01c-ff58906cbde0\" xlink:show=\"new\" xlink:title=\"psysml:64a2c9fa-aa89-4eff-b01c-ff58906cbde0\" xlink:type=\"simple\"><rect fill=\"#FFFFFF\" height=\"40\" id=\"E4\" rx=\"10\" ry=\"10\" style=\"stroke: #383838; stroke-width: 1.5;\" width=\"50\" x=\"57\" y=\"276\"/><rect fill=\"#F8F8F8\" height=\"23.9688\" rx=\"10\" ry=\"10\" style=\"stroke: #F8F8F8; stroke-width: 1.5;\" width=\"50\" x=\"57\" y=\"276\"/><rect fill=\"#F8F8F8\" height=\"10\" style=\"stroke: #F8F8F8; stroke-width: 1.5;\" width=\"50\" x=\"57\" y=\"289.9688\"/><rect fill=\"none\" height=\"40\" id=\"E4\" rx=\"10\" ry=\"10\" style=\"stroke: #383838; stroke-width: 1.5;\" width=\"50\" x=\"57\" y=\"276\"/><text fill=\"#000000\" font-family=\"sans-serif\" font-size=\"12\" lengthAdjust=\"spacingAndGlyphs\" textLength=\"8\" x=\"78\" y=\"292.1387\">p</text></a></g><g id=\"E1.E5\"><a href=\"psysml:6519856a-88df-4cdc-a713-a9dddd16e281\" target=\"_top\" title=\"psysml:6519856a-88df-4cdc-a713-a9dddd16e281\" xlink:actuate=\"onRequest\" xlink:href=\"psysml:6519856a-88df-4cdc-a713-a9dddd16e281\" xlink:show=\"new\" xlink:title=\"psysml:6519856a-88df-4cdc-a713-a9dddd16e281\" xlink:type=\"simple\"><rect fill=\"#FFFFFF\" height=\"42.9375\" id=\"E5\" rx=\"10\" ry=\"10\" style=\"stroke: #383838; stroke-width: 1.5;\" width=\"60\" x=\"52\" y=\"351.5\"/><rect fill=\"#F8F8F8\" height=\"37.9375\" rx=\"10\" ry=\"10\" style=\"stroke: #F8F8F8; stroke-width: 1.5;\" width=\"60\" x=\"52\" y=\"351.5\"/><rect fill=\"#F8F8F8\" height=\"10\" style=\"stroke: #F8F8F8; stroke-width: 1.5;\" width=\"60\" x=\"52\" y=\"379.4375\"/><rect fill=\"none\" height=\"42.9375\" id=\"E5\" rx=\"10\" ry=\"10\" style=\"stroke: #383838; stroke-width: 1.5;\" width=\"60\" x=\"52\" y=\"351.5\"/><text fill=\"#000000\" font-family=\"sans-serif\" font-size=\"12\" font-style=\"italic\" lengthAdjust=\"spacingAndGlyphs\" textLength=\"53\" x=\"55.5\" y=\"367.6387\">«action»</text><text fill=\"#000000\" font-family=\"sans-serif\" font-size=\"12\" lengthAdjust=\"spacingAndGlyphs\" textLength=\"20\" x=\"72\" y=\"381.6074\">act</text></a></g><!--MD5=[45bb6d77df88b30d561ae3bd97201f89]\n",
       "@startuml\r\n",
       "skinparam ranksep 8\r\n",
       "skinparam rectangle {\r\n",
       " backgroundColor<<block>> LightGreen\r\n",
       "}\r\n",
       "left to right direction\r\n",
       "skinparam monochrome true\r\n",
       "skinparam classbackgroundcolor white\r\n",
       "skinparam shadowing false\r\n",
       "skinparam wrapWidth 300\r\n",
       "hide circle\r\n",
       "\r\n",
       "package \"StateTest\" as E1  [[psysml:5e99c5ac-660c-4bcd-ba7f-80dc44a07c9e ]]  {\r\n",
       "def \"Sig\" as E2  <<(T,blue)attribute def>> [[psysml:408e0494-0708-476d-85d5-333a69b53e96 ]] \r\n",
       "def \"Exit\" as E3  <<(T,blue)attribute def>> [[psysml:0109ef31-4e51-4de7-9ac0-eb82fbd89c67 ]] \r\n",
       "rec usage \"p\" as E4  [[psysml:64a2c9fa-aa89-4eff-b01c-ff58906cbde0 ]] {\r\n",
       "}\r\n",
       "rec usage \"act\" as E5  <<(T,blue)action>> [[psysml:6519856a-88df-4cdc-a713-a9dddd16e281 ]] {\r\n",
       "}\r\n",
       "def \"S\" as E6  <<(T,blue)state def>> [[psysml:0bc7341d-f31b-4869-a064-1af20ff16fcc ]] \r\n",
       "}\r\n",
       "@enduml\r\n",
       "\n",
       "PlantUML version 1.2020.13(Sat Jun 13 12:26:38 UTC 2020)\n",
       "(EPL source distribution)\n",
       "Java Runtime: OpenJDK Runtime Environment\n",
       "JVM: OpenJDK 64-Bit Server VM\n",
       "Default Encoding: UTF-8\n",
       "Language: en\n",
       "Country: null\n",
       "--></g></svg>"
      ]
     },
     "execution_count": 19,
     "metadata": {},
     "output_type": "execute_result"
    }
   ],
   "source": [
    "%viz --style=\"LR\" --view=\"Interconnection\" \"StateTest\""
   ]
  },
  {
   "cell_type": "code",
   "execution_count": 20,
   "id": "transparent-greenhouse",
   "metadata": {
    "execution": {
     "iopub.execute_input": "2021-03-26T13:02:45.983312Z",
     "iopub.status.busy": "2021-03-26T13:02:45.982391Z",
     "iopub.status.idle": "2021-03-26T13:02:45.999850Z",
     "shell.execute_reply": "2021-03-26T13:02:45.998121Z"
    }
   },
   "outputs": [
    {
     "data": {
      "image/svg+xml": [
       "<?xml version=\"1.0\" encoding=\"UTF-8\" standalone=\"no\"?><svg xmlns=\"http://www.w3.org/2000/svg\" xmlns:xlink=\"http://www.w3.org/1999/xlink\" contentScriptType=\"application/ecmascript\" contentStyleType=\"text/css\" height=\"483px\" preserveAspectRatio=\"none\" style=\"width:796px;height:483px;background:#000000;\" version=\"1.1\" viewBox=\"0 0 796 483\" width=\"796px\" zoomAndPan=\"magnify\"><defs/><g><rect fill=\"#041D17\" height=\"1\" style=\"stroke: #041D17; stroke-width: 1.0;\" width=\"1\" x=\"0\" y=\"0\"/><rect fill=\"#33FF02\" height=\"21.2969\" style=\"stroke: #33FF02; stroke-width: 1.0;\" width=\"789\" x=\"5\" y=\"5\"/><text fill=\"#000000\" font-family=\"sans-serif\" font-size=\"14\" font-weight=\"bold\" lengthAdjust=\"spacingAndGlyphs\" textLength=\"178\" x=\"6\" y=\"20\">[From string (line 26) ]</text><text fill=\"#33FF02\" font-family=\"sans-serif\" font-size=\"14\" font-weight=\"bold\" lengthAdjust=\"spacingAndGlyphs\" textLength=\"0\" x=\"10\" y=\"40.2969\"/><text fill=\"#33FF02\" font-family=\"sans-serif\" font-size=\"14\" font-weight=\"bold\" lengthAdjust=\"spacingAndGlyphs\" textLength=\"79\" x=\"5\" y=\"56.5938\">@startuml</text><text fill=\"#33FF02\" font-family=\"sans-serif\" font-size=\"14\" font-weight=\"bold\" lengthAdjust=\"spacingAndGlyphs\" textLength=\"165\" x=\"5\" y=\"72.8906\">skinparam ranksep 8</text><text fill=\"#33FF02\" font-family=\"sans-serif\" font-size=\"14\" font-weight=\"bold\" lengthAdjust=\"spacingAndGlyphs\" textLength=\"164\" x=\"5\" y=\"89.1875\">left to right direction</text><text fill=\"#33FF02\" font-family=\"sans-serif\" font-size=\"14\" font-weight=\"bold\" lengthAdjust=\"spacingAndGlyphs\" textLength=\"228\" x=\"5\" y=\"105.4844\">skinparam monochrome true</text><text fill=\"#33FF02\" font-family=\"sans-serif\" font-size=\"14\" font-weight=\"bold\" lengthAdjust=\"spacingAndGlyphs\" textLength=\"309\" x=\"5\" y=\"121.7813\">skinparam classbackgroundcolor white</text><text fill=\"#33FF02\" font-family=\"sans-serif\" font-size=\"14\" font-weight=\"bold\" lengthAdjust=\"spacingAndGlyphs\" textLength=\"215\" x=\"5\" y=\"138.0781\">skinparam shadowing false</text><text fill=\"#33FF02\" font-family=\"sans-serif\" font-size=\"14\" font-weight=\"bold\" lengthAdjust=\"spacingAndGlyphs\" textLength=\"206\" x=\"5\" y=\"154.375\">skinparam wrapWidth 300</text><text fill=\"#33FF02\" font-family=\"sans-serif\" font-size=\"14\" font-weight=\"bold\" lengthAdjust=\"spacingAndGlyphs\" textLength=\"82\" x=\"5\" y=\"170.6719\">hide circle</text><text fill=\"#33FF02\" font-family=\"sans-serif\" font-size=\"14\" font-weight=\"bold\" lengthAdjust=\"spacingAndGlyphs\" textLength=\"0\" x=\"10\" y=\"186.9688\"/><text fill=\"#33FF02\" font-family=\"sans-serif\" font-size=\"14\" font-weight=\"bold\" lengthAdjust=\"spacingAndGlyphs\" textLength=\"781\" x=\"5\" y=\"203.2656\">rec usage \"act\" as E1  &lt;&lt;(T,blue)action&gt;&gt; [[psysml:6519856a-88df-4cdc-a713-a9dddd16e281 ]] {</text><text fill=\"#33FF02\" font-family=\"sans-serif\" font-size=\"14\" font-weight=\"bold\" lengthAdjust=\"spacingAndGlyphs\" textLength=\"10\" x=\"5\" y=\"219.5625\">}</text><text fill=\"#33FF02\" font-family=\"sans-serif\" font-size=\"14\" font-weight=\"bold\" lengthAdjust=\"spacingAndGlyphs\" textLength=\"0\" x=\"10\" y=\"235.8594\"/><text fill=\"#33FF02\" font-family=\"sans-serif\" font-size=\"14\" font-weight=\"bold\" lengthAdjust=\"spacingAndGlyphs\" textLength=\"752\" x=\"5\" y=\"252.1563\">rec def \"S\" as E2  &lt;&lt;(T,blue)state def&gt;&gt; [[psysml:0bc7341d-f31b-4869-a064-1af20ff16fcc ]] {</text><text fill=\"#33FF02\" font-family=\"sans-serif\" font-size=\"14\" font-weight=\"bold\" lengthAdjust=\"spacingAndGlyphs\" textLength=\"771\" x=\"5\" y=\"268.4531\">rec usage \"A\" as E3 &lt;&lt;perform action&gt;&gt; [[psysml:24ce981a-669a-4b1b-8e70-ec9679f168ba ]] {</text><text fill=\"#33FF02\" font-family=\"sans-serif\" font-size=\"14\" font-weight=\"bold\" lengthAdjust=\"spacingAndGlyphs\" textLength=\"10\" x=\"5\" y=\"284.75\">}</text><text fill=\"#33FF02\" font-family=\"sans-serif\" font-size=\"14\" font-weight=\"bold\" lengthAdjust=\"spacingAndGlyphs\" textLength=\"0\" x=\"10\" y=\"301.0469\"/><text fill=\"#33FF02\" font-family=\"sans-serif\" font-size=\"14\" font-weight=\"bold\" lengthAdjust=\"spacingAndGlyphs\" textLength=\"773\" x=\"5\" y=\"317.3438\">rec usage \"B\" as E4 &lt;&lt;perform action&gt;&gt; [[psysml:0cb81d18-66e4-4e05-a75e-b6d7358364f8 ]] {</text><text fill=\"#33FF02\" font-family=\"sans-serif\" font-size=\"14\" font-weight=\"bold\" lengthAdjust=\"spacingAndGlyphs\" textLength=\"10\" x=\"5\" y=\"333.6406\">}</text><text fill=\"#33FF02\" font-family=\"sans-serif\" font-size=\"14\" font-weight=\"bold\" lengthAdjust=\"spacingAndGlyphs\" textLength=\"0\" x=\"10\" y=\"349.9375\"/><text fill=\"#33FF02\" font-family=\"sans-serif\" font-size=\"14\" font-weight=\"bold\" lengthAdjust=\"spacingAndGlyphs\" textLength=\"789\" x=\"5\" y=\"366.2344\">rec usage \"act\" as E5 &lt;&lt;perform action&gt;&gt; [[psysml:3038242a-7c4d-4726-ae4e-c76791d4ee71 ]] {</text><text fill=\"#33FF02\" font-family=\"sans-serif\" font-size=\"14\" font-weight=\"bold\" lengthAdjust=\"spacingAndGlyphs\" textLength=\"10\" x=\"5\" y=\"382.5313\">}</text><text fill=\"#33FF02\" font-family=\"sans-serif\" font-size=\"14\" font-weight=\"bold\" lengthAdjust=\"spacingAndGlyphs\" textLength=\"0\" x=\"10\" y=\"398.8281\"/><text fill=\"#33FF02\" font-family=\"sans-serif\" font-size=\"14\" font-weight=\"bold\" lengthAdjust=\"spacingAndGlyphs\" textLength=\"769\" x=\"5\" y=\"415.125\">rec usage \"S1\" as E6  &lt;&lt;(T,blue)state&gt;&gt; [[psysml:70242e19-3f56-46b0-b4b5-fd0d440c29ee ]] {</text><text fill=\"#33FF02\" font-family=\"sans-serif\" font-size=\"14\" font-weight=\"bold\" lengthAdjust=\"spacingAndGlyphs\" textLength=\"10\" x=\"5\" y=\"431.4219\">}</text><text fill=\"#33FF02\" font-family=\"sans-serif\" font-size=\"14\" font-weight=\"bold\" lengthAdjust=\"spacingAndGlyphs\" textLength=\"0\" x=\"10\" y=\"447.7188\"/><text fill=\"#33FF02\" font-family=\"sans-serif\" font-size=\"14\" font-weight=\"bold\" lengthAdjust=\"spacingAndGlyphs\" textLength=\"10\" x=\"5\" y=\"464.0156\">{</text><text fill=\"#FF0000\" font-family=\"sans-serif\" font-size=\"14\" font-weight=\"bold\" lengthAdjust=\"spacingAndGlyphs\" textLength=\"106\" x=\"10\" y=\"480.3125\">Syntax Error?</text><!--MD5=[3ad4d4cbda0629d6e84250512dccc41a]\n",
       "@startuml\r\n",
       "skinparam ranksep 8\r\n",
       "left to right direction\r\n",
       "skinparam monochrome true\r\n",
       "skinparam classbackgroundcolor white\r\n",
       "skinparam shadowing false\r\n",
       "skinparam wrapWidth 300\r\n",
       "hide circle\r\n",
       "\r\n",
       "rec usage \"act\" as E1  <<(T,blue)action>> [[psysml:6519856a-88df-4cdc-a713-a9dddd16e281 ]] {\r\n",
       "}\r\n",
       "\r\n",
       "rec def \"S\" as E2  <<(T,blue)state def>> [[psysml:0bc7341d-f31b-4869-a064-1af20ff16fcc ]] {\r\n",
       "rec usage \"A\" as E3 <<perform action>> [[psysml:24ce981a-669a-4b1b-8e70-ec9679f168ba ]] {\r\n",
       "}\r\n",
       "\r\n",
       "rec usage \"B\" as E4 <<perform action>> [[psysml:0cb81d18-66e4-4e05-a75e-b6d7358364f8 ]] {\r\n",
       "}\r\n",
       "\r\n",
       "rec usage \"act\" as E5 <<perform action>> [[psysml:3038242a-7c4d-4726-ae4e-c76791d4ee71 ]] {\r\n",
       "}\r\n",
       "\r\n",
       "rec usage \"S1\" as E6  <<(T,blue)state>> [[psysml:70242e19-3f56-46b0-b4b5-fd0d440c29ee ]] {\r\n",
       "}\r\n",
       "\r\n",
       "{\r\n",
       "{\r\n",
       "}\r\n",
       "\r\n",
       "rec usage \"D\" as E7 <<perform action>> [[psysml:9fa67b9a-f55b-4b6f-8c3c-7583e77a313e ]] {\r\n",
       "}\r\n",
       "\r\n",
       "}\r\n",
       "\r\n",
       "rec usage \"S2\" as E8  <<(T,blue)state>> [[psysml:a085f23d-1115-47bd-987f-c38856471ed2 ]] {\r\n",
       "rec usage \"doAction\" as E9 <<send action>> [[psysml:cfc90439-05ae-44f8-b88d-04fe860fe407 ]] {\r\n",
       "portin \"$x\" as E10  [[psysml:ae5b5913-d198-445b-b606-f76bd72ed7d9 ]] \r\n",
       "portout \"$result\" as E11  [[psysml:f2619e5d-ad00-4b4a-a4fe-7cd7945e1b82 ]] \r\n",
       "}\r\n",
       "\r\n",
       "}\r\n",
       "\r\n",
       "{\r\n",
       "{\r\n",
       "}\r\n",
       "\r\n",
       "}\r\n",
       "\r\n",
       "rec usage \"T\" as E12  <<(T,blue)transition>> [[psysml:b2ce6d4b-1a56-4d0e-ade4-ffb9136266c2 ]] {\r\n",
       "rec usage \"S2\" as E13  <<(T,blue)state>> [[psysml:a085f23d-1115-47bd-987f-c38856471ed2 ]] {\r\n",
       "rec usage \"doAction\" as E14 <<send action>> [[psysml:cfc90439-05ae-44f8-b88d-04fe860fe407 ]] {\r\n",
       "portin \"$x\" as E15  [[psysml:ae5b5913-d198-445b-b606-f76bd72ed7d9 ]] \r\n",
       "portout \"$result\" as E16  [[psysml:f2619e5d-ad00-4b4a-a4fe-7cd7945e1b82 ]] \r\n",
       "}\r\n",
       "\r\n",
       "}\r\n",
       "\r\n",
       "{\r\n",
       "}\r\n",
       "\r\n",
       "portout \"$result\" as E17  [[psysml:9abbd064-7570-4e45-a029-f7befd203c67 ]] \r\n",
       "{\r\n",
       "}\r\n",
       "\r\n",
       "}\r\n",
       "\r\n",
       "}\r\n",
       "\r\n",
       "@enduml\r\n",
       "\n",
       "PlantUML version 1.2020.13(Sat Jun 13 12:26:38 UTC 2020)\n",
       "(EPL source distribution)\n",
       "Java Runtime: OpenJDK Runtime Environment\n",
       "JVM: OpenJDK 64-Bit Server VM\n",
       "Default Encoding: UTF-8\n",
       "Language: en\n",
       "Country: null\n",
       "--></g></svg>"
      ]
     },
     "execution_count": 20,
     "metadata": {},
     "output_type": "execute_result"
    }
   ],
   "source": [
    "%viz --style=\"LR\" --view=\"Action\" \"StateTest\""
   ]
  },
  {
   "cell_type": "code",
   "execution_count": 21,
   "id": "hindu-sunday",
   "metadata": {
    "execution": {
     "iopub.execute_input": "2021-03-26T13:02:46.051276Z",
     "iopub.status.busy": "2021-03-26T13:02:46.050455Z",
     "iopub.status.idle": "2021-03-26T13:02:46.158194Z",
     "shell.execute_reply": "2021-03-26T13:02:46.156674Z"
    }
   },
   "outputs": [
    {
     "data": {
      "image/svg+xml": [
       "<?xml version=\"1.0\" encoding=\"UTF-8\" standalone=\"no\"?><svg xmlns=\"http://www.w3.org/2000/svg\" xmlns:xlink=\"http://www.w3.org/1999/xlink\" contentScriptType=\"application/ecmascript\" contentStyleType=\"text/css\" height=\"583px\" preserveAspectRatio=\"none\" style=\"width:424px;height:583px;\" version=\"1.1\" viewBox=\"0 0 424 583\" width=\"424px\" zoomAndPan=\"magnify\"><defs/><g><!--MD5=[fbc87193dbaf4d95561dea2c320d4a47]\n",
       "cluster E1--><a href=\"psysml:5e99c5ac-660c-4bcd-ba7f-80dc44a07c9e\" target=\"_top\" title=\"psysml:5e99c5ac-660c-4bcd-ba7f-80dc44a07c9e\" xlink:actuate=\"onRequest\" xlink:href=\"psysml:5e99c5ac-660c-4bcd-ba7f-80dc44a07c9e\" xlink:show=\"new\" xlink:title=\"psysml:5e99c5ac-660c-4bcd-ba7f-80dc44a07c9e\" xlink:type=\"simple\"><polygon fill=\"#FFFFFF\" points=\"16,6,98,6,105,28.2969,402,28.2969,402,571,16,571,16,6\" style=\"stroke: #000000; stroke-width: 1.5;\"/><line style=\"stroke: #000000; stroke-width: 1.5;\" x1=\"16\" x2=\"105\" y1=\"28.2969\" y2=\"28.2969\"/><text fill=\"#000000\" font-family=\"sans-serif\" font-size=\"14\" font-weight=\"bold\" lengthAdjust=\"spacingAndGlyphs\" textLength=\"76\" x=\"20\" y=\"20.9951\">StateTest</text></a><!--MD5=[b4997ac47864f28c2f74865a473b2911]\n",
       "class E2--><a href=\"psysml:408e0494-0708-476d-85d5-333a69b53e96\" target=\"_top\" title=\"psysml:408e0494-0708-476d-85d5-333a69b53e96\" xlink:actuate=\"onRequest\" xlink:href=\"psysml:408e0494-0708-476d-85d5-333a69b53e96\" xlink:show=\"new\" xlink:title=\"psysml:408e0494-0708-476d-85d5-333a69b53e96\" xlink:type=\"simple\"><rect fill=\"#FFFFFF\" height=\"75.5469\" id=\"E2\" style=\"stroke: #383838; stroke-width: 1.5;\" width=\"95\" x=\"32\" y=\"41\"/><text fill=\"#000000\" font-family=\"sans-serif\" font-size=\"12\" font-style=\"italic\" lengthAdjust=\"spacingAndGlyphs\" textLength=\"93\" x=\"33\" y=\"57.1387\">«attribute def»</text><text fill=\"#000000\" font-family=\"sans-serif\" font-size=\"12\" lengthAdjust=\"spacingAndGlyphs\" textLength=\"19\" x=\"70\" y=\"71.1074\">Sig</text><line style=\"stroke: #383838; stroke-width: 1.5;\" x1=\"33\" x2=\"126\" y1=\"78.9375\" y2=\"78.9375\"/><text fill=\"#000000\" font-family=\"sans-serif\" font-size=\"11\" lengthAdjust=\"spacingAndGlyphs\" textLength=\"6\" x=\"38\" y=\"109.9526\">x</text><line style=\"stroke: #383838; stroke-width: 1.0;\" x1=\"33\" x2=\"52\" y1=\"93.3398\" y2=\"93.3398\"/><text fill=\"#000000\" font-family=\"sans-serif\" font-size=\"11\" lengthAdjust=\"spacingAndGlyphs\" textLength=\"55\" x=\"52\" y=\"96.6479\">attributes</text><line style=\"stroke: #383838; stroke-width: 1.0;\" x1=\"107\" x2=\"126\" y1=\"93.3398\" y2=\"93.3398\"/></a><!--MD5=[09b614a08d8cba4a07c9adeb5e0fee81]\n",
       "class E3--><a href=\"psysml:0109ef31-4e51-4de7-9ac0-eb82fbd89c67\" target=\"_top\" title=\"psysml:0109ef31-4e51-4de7-9ac0-eb82fbd89c67\" xlink:actuate=\"onRequest\" xlink:href=\"psysml:0109ef31-4e51-4de7-9ac0-eb82fbd89c67\" xlink:show=\"new\" xlink:title=\"psysml:0109ef31-4e51-4de7-9ac0-eb82fbd89c67\" xlink:type=\"simple\"><rect fill=\"#FFFFFF\" height=\"45.9375\" id=\"E3\" style=\"stroke: #383838; stroke-width: 1.5;\" width=\"95\" x=\"32\" y=\"152\"/><text fill=\"#000000\" font-family=\"sans-serif\" font-size=\"12\" font-style=\"italic\" lengthAdjust=\"spacingAndGlyphs\" textLength=\"93\" x=\"33\" y=\"168.1387\">«attribute def»</text><text fill=\"#000000\" font-family=\"sans-serif\" font-size=\"12\" lengthAdjust=\"spacingAndGlyphs\" textLength=\"22\" x=\"68.5\" y=\"182.1074\">Exit</text><line style=\"stroke: #383838; stroke-width: 1.5;\" x1=\"33\" x2=\"126\" y1=\"189.9375\" y2=\"189.9375\"/></a><!--MD5=[ebbe1d658d1005bcc118a6aa81145e00]\n",
       "class E4--><a href=\"psysml:64a2c9fa-aa89-4eff-b01c-ff58906cbde0\" target=\"_top\" title=\"psysml:64a2c9fa-aa89-4eff-b01c-ff58906cbde0\" xlink:actuate=\"onRequest\" xlink:href=\"psysml:64a2c9fa-aa89-4eff-b01c-ff58906cbde0\" xlink:show=\"new\" xlink:title=\"psysml:64a2c9fa-aa89-4eff-b01c-ff58906cbde0\" xlink:type=\"simple\"><rect fill=\"#FFFFFF\" height=\"45.9375\" id=\"E4\" rx=\"10\" ry=\"10\" style=\"stroke: #383838; stroke-width: 1.5;\" width=\"42\" x=\"58.5\" y=\"233\"/><text fill=\"#000000\" font-family=\"sans-serif\" font-size=\"12\" font-style=\"italic\" lengthAdjust=\"spacingAndGlyphs\" textLength=\"40\" x=\"59.5\" y=\"249.1387\">«part»</text><text fill=\"#000000\" font-family=\"sans-serif\" font-size=\"12\" lengthAdjust=\"spacingAndGlyphs\" textLength=\"8\" x=\"75.5\" y=\"263.1074\">p</text><line style=\"stroke: #383838; stroke-width: 1.5;\" x1=\"59.5\" x2=\"99.5\" y1=\"270.9375\" y2=\"270.9375\"/></a><!--MD5=[270fce915f116d4de14055a7c1d9a0f3]\n",
       "class E5--><a href=\"psysml:6519856a-88df-4cdc-a713-a9dddd16e281\" target=\"_top\" title=\"psysml:6519856a-88df-4cdc-a713-a9dddd16e281\" xlink:actuate=\"onRequest\" xlink:href=\"psysml:6519856a-88df-4cdc-a713-a9dddd16e281\" xlink:show=\"new\" xlink:title=\"psysml:6519856a-88df-4cdc-a713-a9dddd16e281\" xlink:type=\"simple\"><rect fill=\"#FFFFFF\" height=\"45.9375\" id=\"E5\" rx=\"10\" ry=\"10\" style=\"stroke: #383838; stroke-width: 1.5;\" width=\"55\" x=\"52\" y=\"314\"/><text fill=\"#000000\" font-family=\"sans-serif\" font-size=\"12\" font-style=\"italic\" lengthAdjust=\"spacingAndGlyphs\" textLength=\"53\" x=\"53\" y=\"330.1387\">«action»</text><text fill=\"#000000\" font-family=\"sans-serif\" font-size=\"12\" lengthAdjust=\"spacingAndGlyphs\" textLength=\"20\" x=\"69.5\" y=\"344.1074\">act</text><line style=\"stroke: #383838; stroke-width: 1.5;\" x1=\"53\" x2=\"106\" y1=\"351.9375\" y2=\"351.9375\"/></a><!--MD5=[60a26617385b1d2d0262a64233df1f8d]\n",
       "class E6--><a href=\"psysml:0bc7341d-f31b-4869-a064-1af20ff16fcc\" target=\"_top\" title=\"psysml:0bc7341d-f31b-4869-a064-1af20ff16fcc\" xlink:actuate=\"onRequest\" xlink:href=\"psysml:0bc7341d-f31b-4869-a064-1af20ff16fcc\" xlink:show=\"new\" xlink:title=\"psysml:0bc7341d-f31b-4869-a064-1af20ff16fcc\" xlink:type=\"simple\"><rect fill=\"#FFFFFF\" height=\"160.375\" id=\"E6\" style=\"stroke: #383838; stroke-width: 1.5;\" width=\"95\" x=\"32\" y=\"395\"/><text fill=\"#000000\" font-family=\"sans-serif\" font-size=\"12\" font-style=\"italic\" lengthAdjust=\"spacingAndGlyphs\" textLength=\"71\" x=\"44\" y=\"411.1387\">«state def»</text><text fill=\"#000000\" font-family=\"sans-serif\" font-size=\"12\" lengthAdjust=\"spacingAndGlyphs\" textLength=\"8\" x=\"75.5\" y=\"425.1074\">S</text><line style=\"stroke: #383838; stroke-width: 1.5;\" x1=\"33\" x2=\"126\" y1=\"432.9375\" y2=\"432.9375\"/><text fill=\"#000000\" font-family=\"sans-serif\" font-size=\"11\" lengthAdjust=\"spacingAndGlyphs\" textLength=\"17\" x=\"38\" y=\"463.9526\">act</text><text fill=\"#000000\" font-family=\"sans-serif\" font-size=\"11\" lengthAdjust=\"spacingAndGlyphs\" textLength=\"7\" x=\"38\" y=\"476.7573\">A</text><text fill=\"#000000\" font-family=\"sans-serif\" font-size=\"11\" lengthAdjust=\"spacingAndGlyphs\" textLength=\"8\" x=\"38\" y=\"489.562\">B</text><line style=\"stroke: #383838; stroke-width: 1.0;\" x1=\"33\" x2=\"36\" y1=\"447.3398\" y2=\"447.3398\"/><text fill=\"#000000\" font-family=\"sans-serif\" font-size=\"11\" lengthAdjust=\"spacingAndGlyphs\" textLength=\"87\" x=\"36\" y=\"450.6479\">performActions</text><line style=\"stroke: #383838; stroke-width: 1.0;\" x1=\"123\" x2=\"126\" y1=\"447.3398\" y2=\"447.3398\"/><text fill=\"#000000\" font-family=\"sans-serif\" font-size=\"11\" lengthAdjust=\"spacingAndGlyphs\" textLength=\"15\" x=\"38\" y=\"519.1714\">S1</text><line style=\"stroke: #383838; stroke-width: 1.0;\" x1=\"33\" x2=\"61.5\" y1=\"502.5586\" y2=\"502.5586\"/><text fill=\"#000000\" font-family=\"sans-serif\" font-size=\"11\" lengthAdjust=\"spacingAndGlyphs\" textLength=\"36\" x=\"61.5\" y=\"505.8667\">states</text><line style=\"stroke: #383838; stroke-width: 1.0;\" x1=\"97.5\" x2=\"126\" y1=\"502.5586\" y2=\"502.5586\"/><text fill=\"#000000\" font-family=\"sans-serif\" font-size=\"11\" lengthAdjust=\"spacingAndGlyphs\" textLength=\"7\" x=\"38\" y=\"548.7808\">T</text><line style=\"stroke: #383838; stroke-width: 1.0;\" x1=\"33\" x2=\"49\" y1=\"532.168\" y2=\"532.168\"/><text fill=\"#000000\" font-family=\"sans-serif\" font-size=\"11\" lengthAdjust=\"spacingAndGlyphs\" textLength=\"61\" x=\"49\" y=\"535.4761\">transitions</text><line style=\"stroke: #383838; stroke-width: 1.0;\" x1=\"110\" x2=\"126\" y1=\"532.168\" y2=\"532.168\"/></a><!--MD5=[1dd1bfd58a279cf63c5f349dbc8fc6a1]\n",
       "class E11--><a href=\"psysml:a085f23d-1115-47bd-987f-c38856471ed2\" target=\"_top\" title=\"psysml:a085f23d-1115-47bd-987f-c38856471ed2\" xlink:actuate=\"onRequest\" xlink:href=\"psysml:a085f23d-1115-47bd-987f-c38856471ed2\" xlink:show=\"new\" xlink:title=\"psysml:a085f23d-1115-47bd-987f-c38856471ed2\" xlink:type=\"simple\"><rect fill=\"#FFFFFF\" height=\"45.9375\" id=\"E11\" rx=\"10\" ry=\"10\" style=\"stroke: #383838; stroke-width: 1.5;\" width=\"49\" x=\"187\" y=\"452\"/><text fill=\"#000000\" font-family=\"sans-serif\" font-size=\"12\" font-style=\"italic\" lengthAdjust=\"spacingAndGlyphs\" textLength=\"47\" x=\"188\" y=\"468.1387\">«state»</text><text fill=\"#000000\" font-family=\"sans-serif\" font-size=\"12\" lengthAdjust=\"spacingAndGlyphs\" textLength=\"16\" x=\"203.5\" y=\"482.1074\">S2</text><line style=\"stroke: #383838; stroke-width: 1.5;\" x1=\"188\" x2=\"235\" y1=\"489.9375\" y2=\"489.9375\"/></a><!--MD5=[49a0ec8f00dab7302a31f22d0f0fe584]\n",
       "class E12--><a href=\"psysml:cfc90439-05ae-44f8-b88d-04fe860fe407\" target=\"_top\" title=\"psysml:cfc90439-05ae-44f8-b88d-04fe860fe407\" xlink:actuate=\"onRequest\" xlink:href=\"psysml:cfc90439-05ae-44f8-b88d-04fe860fe407\" xlink:show=\"new\" xlink:title=\"psysml:cfc90439-05ae-44f8-b88d-04fe860fe407\" xlink:type=\"simple\"><rect fill=\"#FFFFFF\" height=\"75.5469\" id=\"E12\" rx=\"10\" ry=\"10\" style=\"stroke: #383838; stroke-width: 1.5;\" width=\"90\" x=\"296\" y=\"437\"/><text fill=\"#000000\" font-family=\"sans-serif\" font-size=\"12\" font-style=\"italic\" lengthAdjust=\"spacingAndGlyphs\" textLength=\"88\" x=\"297\" y=\"453.1387\">«send action»</text><text fill=\"#000000\" font-family=\"sans-serif\" font-size=\"12\" lengthAdjust=\"spacingAndGlyphs\" textLength=\"55\" x=\"313.5\" y=\"467.1074\">doAction</text><line style=\"stroke: #383838; stroke-width: 1.5;\" x1=\"297\" x2=\"385\" y1=\"474.9375\" y2=\"474.9375\"/><text fill=\"#000000\" font-family=\"sans-serif\" font-size=\"11\" lengthAdjust=\"spacingAndGlyphs\" textLength=\"25\" x=\"302\" y=\"505.9526\">item</text><line style=\"stroke: #383838; stroke-width: 1.0;\" x1=\"297\" x2=\"303.5\" y1=\"489.3398\" y2=\"489.3398\"/><text fill=\"#000000\" font-family=\"sans-serif\" font-size=\"11\" lengthAdjust=\"spacingAndGlyphs\" textLength=\"75\" x=\"303.5\" y=\"492.6479\">itemFeatures</text><line style=\"stroke: #383838; stroke-width: 1.0;\" x1=\"378.5\" x2=\"385\" y1=\"489.3398\" y2=\"489.3398\"/></a><!--MD5=[1f5f03483f7de0d5b3680a7f6650997f]\n",
       "reverse link E6 to E11--><a href=\"psysml:a085f23d-1115-47bd-987f-c38856471ed2\" target=\"_top\" title=\"psysml:a085f23d-1115-47bd-987f-c38856471ed2\" xlink:actuate=\"onRequest\" xlink:href=\"psysml:a085f23d-1115-47bd-987f-c38856471ed2\" xlink:show=\"new\" xlink:title=\"psysml:a085f23d-1115-47bd-987f-c38856471ed2\" xlink:type=\"simple\"><path d=\"M140.15,475 C156.69,475 173.69,475 186.84,475 \" fill=\"none\" id=\"E6&lt;-E11\" style=\"stroke: #383838; stroke-width: 1.0;\"/><polygon fill=\"#383838\" points=\"127.07,475,133.07,479,139.07,475,133.07,471,127.07,475\" style=\"stroke: #383838; stroke-width: 1.0;\"/></a><!--MD5=[94adabc162ce7e41b39f13be14fbaeb3]\n",
       "reverse link E11 to E12--><a href=\"psysml:cfc90439-05ae-44f8-b88d-04fe860fe407\" target=\"_top\" title=\"psysml:cfc90439-05ae-44f8-b88d-04fe860fe407\" xlink:actuate=\"onRequest\" xlink:href=\"psysml:cfc90439-05ae-44f8-b88d-04fe860fe407\" xlink:show=\"new\" xlink:title=\"psysml:cfc90439-05ae-44f8-b88d-04fe860fe407\" xlink:type=\"simple\"><path d=\"M249.28,475 C263.81,475 280.62,475 295.8,475 \" fill=\"none\" id=\"E11&lt;-E12\" style=\"stroke: #383838; stroke-width: 1.0;\"/><polygon fill=\"#FFFFFF\" points=\"236.18,475,242.18,479,248.18,475,242.18,471,236.18,475\" style=\"stroke: #383838; stroke-width: 1.0;\"/></a><!--MD5=[350faad2f245a39c0dc667c07ef13d95]\n",
       "@startuml\r\n",
       "left to right direction\r\n",
       "skinparam monochrome true\r\n",
       "skinparam classbackgroundcolor white\r\n",
       "skinparam shadowing false\r\n",
       "skinparam wrapWidth 300\r\n",
       "hide circle\r\n",
       "\r\n",
       "package \"StateTest\" as E1  [[psysml:5e99c5ac-660c-4bcd-ba7f-80dc44a07c9e ]]  {\r\n",
       "comp def \"Sig\" as E2  <<(T,blue)attribute def>> [[psysml:408e0494-0708-476d-85d5-333a69b53e96 ]] {\r\n",
       "- - attributes - -\r\n",
       "x\r\n",
       "}\r\n",
       "comp def \"Exit\" as E3  <<(T,blue)attribute def>> [[psysml:0109ef31-4e51-4de7-9ac0-eb82fbd89c67 ]] {\r\n",
       "}\r\n",
       "comp usage \"p\" as E4  <<(T,blue)part>> [[psysml:64a2c9fa-aa89-4eff-b01c-ff58906cbde0 ]] {\r\n",
       "}\r\n",
       "comp usage \"act\" as E5  <<(T,blue)action>> [[psysml:6519856a-88df-4cdc-a713-a9dddd16e281 ]] {\r\n",
       "}\r\n",
       "comp def \"S\" as E6  <<(T,blue)state def>> [[psysml:0bc7341d-f31b-4869-a064-1af20ff16fcc ]] {\r\n",
       "- - performActions - -\r\n",
       "act\r\n",
       "A\r\n",
       "B\r\n",
       "- - states - -\r\n",
       "S1\r\n",
       "- - transitions - -\r\n",
       "T\r\n",
       "}\r\n",
       "comp usage \"S2\" as E11  <<(T,blue)state>> [[psysml:a085f23d-1115-47bd-987f-c38856471ed2 ]] {\r\n",
       "}\r\n",
       "comp usage \"doAction\" as E12 <<send action>> [[psysml:cfc90439-05ae-44f8-b88d-04fe860fe407 ]] {\r\n",
       "- - itemFeatures - -\r\n",
       "item\r\n",
       "}\r\n",
       "E6 *- - E11 [[psysml:a085f23d-1115-47bd-987f-c38856471ed2 ]] \r\n",
       "E11 o- - E12 [[psysml:cfc90439-05ae-44f8-b88d-04fe860fe407 ]] \r\n",
       "}\r\n",
       "@enduml\r\n",
       "\n",
       "PlantUML version 1.2020.13(Sat Jun 13 12:26:38 UTC 2020)\n",
       "(EPL source distribution)\n",
       "Java Runtime: OpenJDK Runtime Environment\n",
       "JVM: OpenJDK 64-Bit Server VM\n",
       "Default Encoding: UTF-8\n",
       "Language: en\n",
       "Country: null\n",
       "--></g></svg>"
      ]
     },
     "execution_count": 21,
     "metadata": {},
     "output_type": "execute_result"
    }
   ],
   "source": [
    "%viz --style=\"LR\" --view=\"Sequence\" \"StateTest\""
   ]
  },
  {
   "cell_type": "code",
   "execution_count": 22,
   "id": "reserved-bandwidth",
   "metadata": {
    "execution": {
     "iopub.execute_input": "2021-03-26T13:02:46.209000Z",
     "iopub.status.busy": "2021-03-26T13:02:46.208487Z",
     "iopub.status.idle": "2021-03-26T13:02:46.262656Z",
     "shell.execute_reply": "2021-03-26T13:02:46.261940Z"
    }
   },
   "outputs": [
    {
     "data": {
      "image/svg+xml": [
       "<?xml version=\"1.0\" encoding=\"UTF-8\" standalone=\"no\"?><svg xmlns=\"http://www.w3.org/2000/svg\" xmlns:xlink=\"http://www.w3.org/1999/xlink\" contentScriptType=\"application/ecmascript\" contentStyleType=\"text/css\" height=\"633px\" preserveAspectRatio=\"none\" style=\"width:652px;height:633px;\" version=\"1.1\" viewBox=\"0 0 652 633\" width=\"652px\" zoomAndPan=\"magnify\"><defs/><g><!--MD5=[fbc87193dbaf4d95561dea2c320d4a47]\n",
       "cluster E1--><a href=\"psysml:5e99c5ac-660c-4bcd-ba7f-80dc44a07c9e\" target=\"_top\" title=\"psysml:5e99c5ac-660c-4bcd-ba7f-80dc44a07c9e\" xlink:actuate=\"onRequest\" xlink:href=\"psysml:5e99c5ac-660c-4bcd-ba7f-80dc44a07c9e\" xlink:show=\"new\" xlink:title=\"psysml:5e99c5ac-660c-4bcd-ba7f-80dc44a07c9e\" xlink:type=\"simple\"><polygon fill=\"#FFFFFF\" points=\"16,6,98,6,105,28.2969,630,28.2969,630,621,16,621,16,6\" style=\"stroke: #000000; stroke-width: 1.5;\"/><line style=\"stroke: #000000; stroke-width: 1.5;\" x1=\"16\" x2=\"105\" y1=\"28.2969\" y2=\"28.2969\"/><text fill=\"#000000\" font-family=\"sans-serif\" font-size=\"14\" font-weight=\"bold\" lengthAdjust=\"spacingAndGlyphs\" textLength=\"76\" x=\"20\" y=\"20.9951\">StateTest</text></a><!--MD5=[14e3b0961a2654348d326746436168a1]\n",
       "cluster E6--><a href=\"psysml:0bc7341d-f31b-4869-a064-1af20ff16fcc\" target=\"_top\" title=\"psysml:0bc7341d-f31b-4869-a064-1af20ff16fcc\" xlink:actuate=\"onRequest\" xlink:href=\"psysml:0bc7341d-f31b-4869-a064-1af20ff16fcc\" xlink:show=\"new\" xlink:title=\"psysml:0bc7341d-f31b-4869-a064-1af20ff16fcc\" xlink:type=\"simple\"><rect fill=\"#FFFFFF\" height=\"223\" id=\"E6\" style=\"stroke: #383838; stroke-width: 1.5;\" width=\"552.5\" x=\"53.5\" y=\"49\"/><rect fill=\"#F8F8F8\" height=\"37.9375\" style=\"stroke: #383838; stroke-width: 1.5;\" width=\"552.5\" x=\"53.5\" y=\"49\"/><text fill=\"#000000\" font-family=\"sans-serif\" font-size=\"12\" font-style=\"italic\" lengthAdjust=\"spacingAndGlyphs\" textLength=\"71\" x=\"294.25\" y=\"65.1387\">«state def»</text><text fill=\"#000000\" font-family=\"sans-serif\" font-size=\"12\" lengthAdjust=\"spacingAndGlyphs\" textLength=\"8\" x=\"325.75\" y=\"79.1074\">S</text><line style=\"stroke: #383838; stroke-width: 1.0;\" x1=\"53.5\" x2=\"606\" y1=\"132.8438\" y2=\"132.8438\"/><text fill=\"#000000\" font-family=\"sans-serif\" font-size=\"12\" font-weight=\"bold\" lengthAdjust=\"spacingAndGlyphs\" textLength=\"38\" x=\"58.5\" y=\"100.0762\">entry</text><text fill=\"#000000\" font-family=\"sans-serif\" font-size=\"12\" lengthAdjust=\"spacingAndGlyphs\" textLength=\"16\" x=\"96.5\" y=\"100.0762\">/ A</text><text fill=\"#000000\" font-family=\"sans-serif\" font-size=\"12\" font-weight=\"bold\" lengthAdjust=\"spacingAndGlyphs\" textLength=\"18\" x=\"58.5\" y=\"114.0449\">do</text><text fill=\"#000000\" font-family=\"sans-serif\" font-size=\"12\" lengthAdjust=\"spacingAndGlyphs\" textLength=\"16\" x=\"76.5\" y=\"114.0449\">/ B</text><text fill=\"#000000\" font-family=\"sans-serif\" font-size=\"12\" font-weight=\"bold\" lengthAdjust=\"spacingAndGlyphs\" textLength=\"26\" x=\"58.5\" y=\"128.0137\">exit</text><text fill=\"#000000\" font-family=\"sans-serif\" font-size=\"12\" lengthAdjust=\"spacingAndGlyphs\" textLength=\"28\" x=\"84.5\" y=\"128.0137\">/ act</text></a><!--MD5=[b4997ac47864f28c2f74865a473b2911]\n",
       "class E2--><a href=\"psysml:408e0494-0708-476d-85d5-333a69b53e96\" target=\"_top\" title=\"psysml:408e0494-0708-476d-85d5-333a69b53e96\" xlink:actuate=\"onRequest\" xlink:href=\"psysml:408e0494-0708-476d-85d5-333a69b53e96\" xlink:show=\"new\" xlink:title=\"psysml:408e0494-0708-476d-85d5-333a69b53e96\" xlink:type=\"simple\"><rect fill=\"#FFFFFF\" height=\"75.5469\" id=\"E2\" style=\"stroke: #383838; stroke-width: 1.5;\" width=\"95\" x=\"32\" y=\"288\"/><text fill=\"#000000\" font-family=\"sans-serif\" font-size=\"12\" font-style=\"italic\" lengthAdjust=\"spacingAndGlyphs\" textLength=\"93\" x=\"33\" y=\"304.1387\">«attribute def»</text><text fill=\"#000000\" font-family=\"sans-serif\" font-size=\"12\" lengthAdjust=\"spacingAndGlyphs\" textLength=\"19\" x=\"70\" y=\"318.1074\">Sig</text><line style=\"stroke: #383838; stroke-width: 1.5;\" x1=\"33\" x2=\"126\" y1=\"325.9375\" y2=\"325.9375\"/><text fill=\"#000000\" font-family=\"sans-serif\" font-size=\"11\" lengthAdjust=\"spacingAndGlyphs\" textLength=\"6\" x=\"38\" y=\"356.9526\">x</text><line style=\"stroke: #383838; stroke-width: 1.0;\" x1=\"33\" x2=\"52\" y1=\"340.3398\" y2=\"340.3398\"/><text fill=\"#000000\" font-family=\"sans-serif\" font-size=\"11\" lengthAdjust=\"spacingAndGlyphs\" textLength=\"55\" x=\"52\" y=\"343.6479\">attributes</text><line style=\"stroke: #383838; stroke-width: 1.0;\" x1=\"107\" x2=\"126\" y1=\"340.3398\" y2=\"340.3398\"/></a><!--MD5=[09b614a08d8cba4a07c9adeb5e0fee81]\n",
       "class E3--><a href=\"psysml:0109ef31-4e51-4de7-9ac0-eb82fbd89c67\" target=\"_top\" title=\"psysml:0109ef31-4e51-4de7-9ac0-eb82fbd89c67\" xlink:actuate=\"onRequest\" xlink:href=\"psysml:0109ef31-4e51-4de7-9ac0-eb82fbd89c67\" xlink:show=\"new\" xlink:title=\"psysml:0109ef31-4e51-4de7-9ac0-eb82fbd89c67\" xlink:type=\"simple\"><rect fill=\"#FFFFFF\" height=\"45.9375\" id=\"E3\" style=\"stroke: #383838; stroke-width: 1.5;\" width=\"95\" x=\"32\" y=\"399\"/><text fill=\"#000000\" font-family=\"sans-serif\" font-size=\"12\" font-style=\"italic\" lengthAdjust=\"spacingAndGlyphs\" textLength=\"93\" x=\"33\" y=\"415.1387\">«attribute def»</text><text fill=\"#000000\" font-family=\"sans-serif\" font-size=\"12\" lengthAdjust=\"spacingAndGlyphs\" textLength=\"22\" x=\"68.5\" y=\"429.1074\">Exit</text><line style=\"stroke: #383838; stroke-width: 1.5;\" x1=\"33\" x2=\"126\" y1=\"436.9375\" y2=\"436.9375\"/></a><!--MD5=[ebbe1d658d1005bcc118a6aa81145e00]\n",
       "class E4--><a href=\"psysml:64a2c9fa-aa89-4eff-b01c-ff58906cbde0\" target=\"_top\" title=\"psysml:64a2c9fa-aa89-4eff-b01c-ff58906cbde0\" xlink:actuate=\"onRequest\" xlink:href=\"psysml:64a2c9fa-aa89-4eff-b01c-ff58906cbde0\" xlink:show=\"new\" xlink:title=\"psysml:64a2c9fa-aa89-4eff-b01c-ff58906cbde0\" xlink:type=\"simple\"><rect fill=\"#FFFFFF\" height=\"45.9375\" id=\"E4\" rx=\"10\" ry=\"10\" style=\"stroke: #383838; stroke-width: 1.5;\" width=\"42\" x=\"58.5\" y=\"480\"/><text fill=\"#000000\" font-family=\"sans-serif\" font-size=\"12\" font-style=\"italic\" lengthAdjust=\"spacingAndGlyphs\" textLength=\"40\" x=\"59.5\" y=\"496.1387\">«part»</text><text fill=\"#000000\" font-family=\"sans-serif\" font-size=\"12\" lengthAdjust=\"spacingAndGlyphs\" textLength=\"8\" x=\"75.5\" y=\"510.1074\">p</text><line style=\"stroke: #383838; stroke-width: 1.5;\" x1=\"59.5\" x2=\"99.5\" y1=\"517.9375\" y2=\"517.9375\"/></a><g id=\"E1.E5\"><a href=\"psysml:6519856a-88df-4cdc-a713-a9dddd16e281\" target=\"_top\" title=\"psysml:6519856a-88df-4cdc-a713-a9dddd16e281\" xlink:actuate=\"onRequest\" xlink:href=\"psysml:6519856a-88df-4cdc-a713-a9dddd16e281\" xlink:show=\"new\" xlink:title=\"psysml:6519856a-88df-4cdc-a713-a9dddd16e281\" xlink:type=\"simple\"><rect fill=\"#FFFFFF\" height=\"42.9375\" id=\"E5\" rx=\"10\" ry=\"10\" style=\"stroke: #383838; stroke-width: 1.5;\" width=\"60\" x=\"49.5\" y=\"561.5\"/><rect fill=\"#F8F8F8\" height=\"37.9375\" rx=\"10\" ry=\"10\" style=\"stroke: #F8F8F8; stroke-width: 1.5;\" width=\"60\" x=\"49.5\" y=\"561.5\"/><rect fill=\"#F8F8F8\" height=\"10\" style=\"stroke: #F8F8F8; stroke-width: 1.5;\" width=\"60\" x=\"49.5\" y=\"589.4375\"/><rect fill=\"none\" height=\"42.9375\" id=\"E5\" rx=\"10\" ry=\"10\" style=\"stroke: #383838; stroke-width: 1.5;\" width=\"60\" x=\"49.5\" y=\"561.5\"/><text fill=\"#000000\" font-family=\"sans-serif\" font-size=\"12\" font-style=\"italic\" lengthAdjust=\"spacingAndGlyphs\" textLength=\"53\" x=\"53\" y=\"577.6387\">«action»</text><text fill=\"#000000\" font-family=\"sans-serif\" font-size=\"12\" lengthAdjust=\"spacingAndGlyphs\" textLength=\"20\" x=\"69.5\" y=\"591.6074\">act</text></a></g><ellipse cx=\"79.5\" cy=\"194\" fill=\"#000000\" rx=\"10\" ry=\"10\" style=\"stroke: none; stroke-width: 1.0;\"/><ellipse cx=\"580\" cy=\"196\" fill=\"none\" rx=\"10\" ry=\"10\" style=\"stroke: #000000; stroke-width: 1.0;\"/><ellipse cx=\"580.5\" cy=\"196.5\" fill=\"#000000\" rx=\"6\" ry=\"6\" style=\"stroke: none; stroke-width: 1.0;\"/><g id=\"E1.E6.E7\"><a href=\"psysml:70242e19-3f56-46b0-b4b5-fd0d440c29ee\" target=\"_top\" title=\"psysml:70242e19-3f56-46b0-b4b5-fd0d440c29ee\" xlink:actuate=\"onRequest\" xlink:href=\"psysml:70242e19-3f56-46b0-b4b5-fd0d440c29ee\" xlink:show=\"new\" xlink:title=\"psysml:70242e19-3f56-46b0-b4b5-fd0d440c29ee\" xlink:type=\"simple\"><rect fill=\"#FFFFFF\" height=\"40\" id=\"E7\" rx=\"10\" ry=\"10\" style=\"stroke: #383838; stroke-width: 1.5;\" width=\"50\" x=\"188\" y=\"174\"/><rect fill=\"#F8F8F8\" height=\"23.9688\" rx=\"10\" ry=\"10\" style=\"stroke: #F8F8F8; stroke-width: 1.5;\" width=\"50\" x=\"188\" y=\"174\"/><rect fill=\"#F8F8F8\" height=\"10\" style=\"stroke: #F8F8F8; stroke-width: 1.5;\" width=\"50\" x=\"188\" y=\"187.9688\"/><rect fill=\"none\" height=\"40\" id=\"E7\" rx=\"10\" ry=\"10\" style=\"stroke: #383838; stroke-width: 1.5;\" width=\"50\" x=\"188\" y=\"174\"/><text fill=\"#000000\" font-family=\"sans-serif\" font-size=\"12\" lengthAdjust=\"spacingAndGlyphs\" textLength=\"16\" x=\"205\" y=\"190.1387\">S1</text></a></g><g id=\"E1.E6.E8\"><a href=\"psysml:a085f23d-1115-47bd-987f-c38856471ed2\" target=\"_top\" title=\"psysml:a085f23d-1115-47bd-987f-c38856471ed2\" xlink:actuate=\"onRequest\" xlink:href=\"psysml:a085f23d-1115-47bd-987f-c38856471ed2\" xlink:show=\"new\" xlink:title=\"psysml:a085f23d-1115-47bd-987f-c38856471ed2\" xlink:type=\"simple\"><rect fill=\"#FFFFFF\" height=\"47.9375\" id=\"E8\" rx=\"10\" ry=\"10\" style=\"stroke: #383838; stroke-width: 1.5;\" width=\"50\" x=\"435\" y=\"172\"/><rect fill=\"#F8F8F8\" height=\"23.9688\" rx=\"10\" ry=\"10\" style=\"stroke: #F8F8F8; stroke-width: 1.5;\" width=\"50\" x=\"435\" y=\"172\"/><rect fill=\"#F8F8F8\" height=\"10\" style=\"stroke: #F8F8F8; stroke-width: 1.5;\" width=\"50\" x=\"435\" y=\"185.9688\"/><rect fill=\"none\" height=\"47.9375\" id=\"E8\" rx=\"10\" ry=\"10\" style=\"stroke: #383838; stroke-width: 1.5;\" width=\"50\" x=\"435\" y=\"172\"/><text fill=\"#000000\" font-family=\"sans-serif\" font-size=\"12\" lengthAdjust=\"spacingAndGlyphs\" textLength=\"16\" x=\"452\" y=\"188.1387\">S2</text><line style=\"stroke: #383838; stroke-width: 1.0;\" x1=\"435\" x2=\"485\" y1=\"195.9688\" y2=\"195.9688\"/><text fill=\"#000000\" font-family=\"sans-serif\" font-size=\"12\" font-weight=\"bold\" lengthAdjust=\"spacingAndGlyphs\" textLength=\"18\" x=\"440\" y=\"209.1074\">do</text><text fill=\"#000000\" font-family=\"sans-serif\" font-size=\"12\" lengthAdjust=\"spacingAndGlyphs\" textLength=\"4\" x=\"458\" y=\"209.1074\">/</text></a></g><!--MD5=[5a531d3a85f3339e6e197084acb48195]\n",
       "link *start*E6 to E7--><a href=\"psysml:43d9c4f9-ed20-4c00-a0b0-be6dc49a6894\" target=\"_top\" title=\"psysml:43d9c4f9-ed20-4c00-a0b0-be6dc49a6894\" xlink:actuate=\"onRequest\" xlink:href=\"psysml:43d9c4f9-ed20-4c00-a0b0-be6dc49a6894\" xlink:show=\"new\" xlink:title=\"psysml:43d9c4f9-ed20-4c00-a0b0-be6dc49a6894\" xlink:type=\"simple\"><path d=\"M89.54,194 C108.46,194 152.97,194 182.78,194 \" fill=\"none\" id=\"*start*E6-&gt;E7\" style=\"stroke: #383838; stroke-width: 1.0;\"/><polygon fill=\"#383838\" points=\"187.8,194,178.8,190,182.8,194,178.8,198,187.8,194\" style=\"stroke: #383838; stroke-width: 1.0;\"/></a><!--MD5=[7ec9a8babba89ddcae1318ca9fb3c814]\n",
       "link E8 to *end*E6--><a href=\"psysml:f955b7ee-57f2-4e8a-b602-a443c9a31c83\" target=\"_top\" title=\"psysml:f955b7ee-57f2-4e8a-b602-a443c9a31c83\" xlink:actuate=\"onRequest\" xlink:href=\"psysml:f955b7ee-57f2-4e8a-b602-a443c9a31c83\" xlink:show=\"new\" xlink:title=\"psysml:f955b7ee-57f2-4e8a-b602-a443c9a31c83\" xlink:type=\"simple\"><path d=\"M485.16,196 C509.08,196 544.89,196 564.64,196 \" fill=\"none\" id=\"E8-&gt;*end*E6\" style=\"stroke: #383838; stroke-width: 1.0;\"/><polygon fill=\"#383838\" points=\"569.76,196,560.76,192,564.76,196,560.76,200,569.76,196\" style=\"stroke: #383838; stroke-width: 1.0;\"/><text fill=\"#000000\" font-family=\"sans-serif\" font-size=\"13\" lengthAdjust=\"spacingAndGlyphs\" textLength=\"23\" x=\"516\" y=\"192.0669\">Exit</text></a><!--MD5=[79bc8f324ef4d02c541433f2e6e513c3]\n",
       "link E7 to E8--><a href=\"psysml:d37fdc60-36d2-41f0-83fe-622a63ffc619\" target=\"_top\" title=\"psysml:d37fdc60-36d2-41f0-83fe-622a63ffc619\" xlink:actuate=\"onRequest\" xlink:href=\"psysml:d37fdc60-36d2-41f0-83fe-622a63ffc619\" xlink:show=\"new\" xlink:title=\"psysml:d37fdc60-36d2-41f0-83fe-622a63ffc619\" xlink:type=\"simple\"><path d=\"M238.15,210.85 C247.11,216.14 257.62,221.31 268,224 C326.94,239.27 345.84,238.42 405,224 C413.58,221.91 422.32,218.19 430.2,214.14 \" fill=\"none\" id=\"E7-&gt;E8\" style=\"stroke: #383838; stroke-width: 1.0;\"/><polygon fill=\"#383838\" points=\"434.98,211.59,425.156,212.2893,430.5666,213.94,428.9159,219.3506,434.98,211.59\" style=\"stroke: #383838; stroke-width: 1.0;\"/><text fill=\"#000000\" font-family=\"sans-serif\" font-size=\"13\" lengthAdjust=\"spacingAndGlyphs\" textLength=\"81\" x=\"296\" y=\"220.0669\">Sig /action D</text></a><!--MD5=[bfa3c8b0d15052fdf50ae9310b491027]\n",
       "link E8 to E7--><a href=\"psysml:b2ce6d4b-1a56-4d0e-ade4-ffb9136266c2\" target=\"_top\" title=\"psysml:b2ce6d4b-1a56-4d0e-ade4-ffb9136266c2\" xlink:actuate=\"onRequest\" xlink:href=\"psysml:b2ce6d4b-1a56-4d0e-ade4-ffb9136266c2\" xlink:show=\"new\" xlink:title=\"psysml:b2ce6d4b-1a56-4d0e-ade4-ffb9136266c2\" xlink:type=\"simple\"><path d=\"M434.71,195.8 C389.48,195.43 292.49,194.64 243.54,194.24 \" fill=\"none\" id=\"E8-&gt;E7\" style=\"stroke: #383838; stroke-width: 1.0;\"/><polygon fill=\"#383838\" points=\"238.39,194.2,247.3554,198.277,243.3898,194.2429,247.424,190.2773,238.39,194.2\" style=\"stroke: #383838; stroke-width: 1.0;\"/><text fill=\"#000000\" font-family=\"sans-serif\" font-size=\"13\" lengthAdjust=\"spacingAndGlyphs\" textLength=\"135\" x=\"269\" y=\"191.0669\">Sig [true]/send s to p</text></a><!--MD5=[13aa555858b150fce9552785674c0b88]\n",
       "@startuml\r\n",
       "left to right direction\r\n",
       "skinparam monochrome true\r\n",
       "skinparam classbackgroundcolor white\r\n",
       "skinparam shadowing false\r\n",
       "skinparam wrapWidth 300\r\n",
       "hide circle\r\n",
       "\r\n",
       "package \"StateTest\" as E1  [[psysml:5e99c5ac-660c-4bcd-ba7f-80dc44a07c9e ]]  {\r\n",
       "comp def \"Sig\" as E2  <<(T,blue)attribute def>> [[psysml:408e0494-0708-476d-85d5-333a69b53e96 ]] {\r\n",
       "- - attributes - -\r\n",
       "x\r\n",
       "}\r\n",
       "comp def \"Exit\" as E3  <<(T,blue)attribute def>> [[psysml:0109ef31-4e51-4de7-9ac0-eb82fbd89c67 ]] {\r\n",
       "}\r\n",
       "comp usage \"p\" as E4  <<(T,blue)part>> [[psysml:64a2c9fa-aa89-4eff-b01c-ff58906cbde0 ]] {\r\n",
       "}\r\n",
       "rec usage \"act\" as E5  <<(T,blue)action>> [[psysml:6519856a-88df-4cdc-a713-a9dddd16e281 ]] {\r\n",
       "}\r\n",
       "\r\n",
       "rec def \"S\" as E6  <<(T,blue)state def>> [[psysml:0bc7341d-f31b-4869-a064-1af20ff16fcc ]] {\r\n",
       "rec usage \"S1\" as E7 [[psysml:70242e19-3f56-46b0-b4b5-fd0d440c29ee ]] {\r\n",
       "}\r\n",
       "\r\n",
       "rec usage \"S2\" as E8 [[psysml:a085f23d-1115-47bd-987f-c38856471ed2 ]] {\r\n",
       "desc \"S2\" as E8  : **do**/ \r\n",
       "}\r\n",
       "\r\n",
       "[*] - -> E7 [[psysml:43d9c4f9-ed20-4c00-a0b0-be6dc49a6894 ]] \r\n",
       "E8  - -> [*] [[psysml:f955b7ee-57f2-4e8a-b602-a443c9a31c83 ]] : Exit \r\n",
       "desc \"S\" as E6  : **entry**/ A\r\n",
       "desc \"S\" as E6  : **do**/ B\r\n",
       "desc \"S\" as E6  : **exit**/ act \r\n",
       "}\r\n",
       "\r\n",
       "E7  - -> E8 [[psysml:d37fdc60-36d2-41f0-83fe-622a63ffc619 ]] : Sig /action D\r\n",
       "E8  - -> E7 [[psysml:b2ce6d4b-1a56-4d0e-ade4-ffb9136266c2 ]] : Sig [true]/send s to p\r\n",
       "}\r\n",
       "@enduml\r\n",
       "\n",
       "PlantUML version 1.2020.13(Sat Jun 13 12:26:38 UTC 2020)\n",
       "(EPL source distribution)\n",
       "Java Runtime: OpenJDK Runtime Environment\n",
       "JVM: OpenJDK 64-Bit Server VM\n",
       "Default Encoding: UTF-8\n",
       "Language: en\n",
       "Country: null\n",
       "--></g></svg>"
      ]
     },
     "execution_count": 22,
     "metadata": {},
     "output_type": "execute_result"
    }
   ],
   "source": [
    "%viz --style=\"LR\" --view=\"MIXED\" \"StateTest\""
   ]
  },
  {
   "cell_type": "code",
   "execution_count": 23,
   "id": "narrow-western",
   "metadata": {
    "execution": {
     "iopub.execute_input": "2021-03-26T13:02:46.314761Z",
     "iopub.status.busy": "2021-03-26T13:02:46.314003Z",
     "iopub.status.idle": "2021-03-26T13:02:46.354984Z",
     "shell.execute_reply": "2021-03-26T13:02:46.354258Z"
    }
   },
   "outputs": [
    {
     "data": {
      "image/svg+xml": [
       "<?xml version=\"1.0\" encoding=\"UTF-8\" standalone=\"no\"?><svg xmlns=\"http://www.w3.org/2000/svg\" xmlns:xlink=\"http://www.w3.org/1999/xlink\" contentScriptType=\"application/ecmascript\" contentStyleType=\"text/css\" height=\"561px\" preserveAspectRatio=\"none\" style=\"width:819px;height:561px;\" version=\"1.1\" viewBox=\"0 0 819 561\" width=\"819px\" zoomAndPan=\"magnify\"><defs><filter height=\"300%\" id=\"f1ulssgoqze2m\" width=\"300%\" x=\"-1\" y=\"-1\"><feGaussianBlur result=\"blurOut\" stdDeviation=\"2.0\"/><feColorMatrix in=\"blurOut\" result=\"blurOut2\" type=\"matrix\" values=\"0 0 0 0 0 0 0 0 0 0 0 0 0 0 0 0 0 0 .4 0\"/><feOffset dx=\"4.0\" dy=\"4.0\" in=\"blurOut2\" result=\"blurOut3\"/><feBlend in=\"SourceGraphic\" in2=\"blurOut3\" mode=\"normal\"/></filter></defs><g><!--MD5=[fbc87193dbaf4d95561dea2c320d4a47]\n",
       "cluster E1--><a href=\"psysml:5e99c5ac-660c-4bcd-ba7f-80dc44a07c9e\" target=\"_top\" title=\"psysml:5e99c5ac-660c-4bcd-ba7f-80dc44a07c9e\" xlink:actuate=\"onRequest\" xlink:href=\"psysml:5e99c5ac-660c-4bcd-ba7f-80dc44a07c9e\" xlink:show=\"new\" xlink:title=\"psysml:5e99c5ac-660c-4bcd-ba7f-80dc44a07c9e\" xlink:type=\"simple\"><polygon fill=\"#FFFFFF\" filter=\"url(#f1ulssgoqze2m)\" points=\"16,6,98,6,105,28.2969,797,28.2969,797,549.5,16,549.5,16,6\" style=\"stroke: #000000; stroke-width: 1.5;\"/><line style=\"stroke: #000000; stroke-width: 1.5;\" x1=\"16\" x2=\"105\" y1=\"28.2969\" y2=\"28.2969\"/><text fill=\"#000000\" font-family=\"sans-serif\" font-size=\"14\" font-weight=\"bold\" lengthAdjust=\"spacingAndGlyphs\" textLength=\"76\" x=\"20\" y=\"20.9951\">StateTest</text></a><!--MD5=[14e3b0961a2654348d326746436168a1]\n",
       "cluster E6--><a href=\"psysml:0bc7341d-f31b-4869-a064-1af20ff16fcc\" target=\"_top\" title=\"psysml:0bc7341d-f31b-4869-a064-1af20ff16fcc\" xlink:actuate=\"onRequest\" xlink:href=\"psysml:0bc7341d-f31b-4869-a064-1af20ff16fcc\" xlink:show=\"new\" xlink:title=\"psysml:0bc7341d-f31b-4869-a064-1af20ff16fcc\" xlink:type=\"simple\"><rect fill=\"#FFFFFF\" filter=\"url(#f1ulssgoqze2m)\" height=\"476.5\" id=\"E6\" style=\"stroke: #A80036; stroke-width: 1.5;\" width=\"327\" x=\"446\" y=\"49\"/><rect fill=\"#FEFECE\" height=\"37.9375\" style=\"stroke: #A80036; stroke-width: 1.5;\" width=\"327\" x=\"446\" y=\"49\"/><text fill=\"#000000\" font-family=\"sans-serif\" font-size=\"12\" font-style=\"italic\" lengthAdjust=\"spacingAndGlyphs\" textLength=\"71\" x=\"574\" y=\"65.1387\">«state def»</text><text fill=\"#000000\" font-family=\"sans-serif\" font-size=\"12\" lengthAdjust=\"spacingAndGlyphs\" textLength=\"8\" x=\"605.5\" y=\"79.1074\">S</text><line style=\"stroke: #A80036; stroke-width: 1.0;\" x1=\"446\" x2=\"773\" y1=\"132.8438\" y2=\"132.8438\"/><text fill=\"#000000\" font-family=\"sans-serif\" font-size=\"12\" font-weight=\"bold\" lengthAdjust=\"spacingAndGlyphs\" textLength=\"38\" x=\"451\" y=\"100.0762\">entry</text><text fill=\"#000000\" font-family=\"sans-serif\" font-size=\"12\" lengthAdjust=\"spacingAndGlyphs\" textLength=\"16\" x=\"489\" y=\"100.0762\">/ A</text><text fill=\"#000000\" font-family=\"sans-serif\" font-size=\"12\" font-weight=\"bold\" lengthAdjust=\"spacingAndGlyphs\" textLength=\"18\" x=\"451\" y=\"114.0449\">do</text><text fill=\"#000000\" font-family=\"sans-serif\" font-size=\"12\" lengthAdjust=\"spacingAndGlyphs\" textLength=\"16\" x=\"469\" y=\"114.0449\">/ B</text><text fill=\"#000000\" font-family=\"sans-serif\" font-size=\"12\" font-weight=\"bold\" lengthAdjust=\"spacingAndGlyphs\" textLength=\"26\" x=\"451\" y=\"128.0137\">exit</text><text fill=\"#000000\" font-family=\"sans-serif\" font-size=\"12\" lengthAdjust=\"spacingAndGlyphs\" textLength=\"28\" x=\"477\" y=\"128.0137\">/ act</text></a><!--MD5=[b4997ac47864f28c2f74865a473b2911]\n",
       "class E2--><a href=\"psysml:408e0494-0708-476d-85d5-333a69b53e96\" target=\"_top\" title=\"psysml:408e0494-0708-476d-85d5-333a69b53e96\" xlink:actuate=\"onRequest\" xlink:href=\"psysml:408e0494-0708-476d-85d5-333a69b53e96\" xlink:show=\"new\" xlink:title=\"psysml:408e0494-0708-476d-85d5-333a69b53e96\" xlink:type=\"simple\"><rect fill=\"#FEFECE\" filter=\"url(#f1ulssgoqze2m)\" height=\"58.7422\" id=\"E2\" style=\"stroke: #A80036; stroke-width: 1.5;\" width=\"95\" x=\"334.5\" y=\"127.5\"/><text fill=\"#000000\" font-family=\"sans-serif\" font-size=\"12\" font-style=\"italic\" lengthAdjust=\"spacingAndGlyphs\" textLength=\"93\" x=\"335.5\" y=\"143.6387\">«attribute def»</text><text fill=\"#000000\" font-family=\"sans-serif\" font-size=\"12\" lengthAdjust=\"spacingAndGlyphs\" textLength=\"19\" x=\"372.5\" y=\"157.6074\">Sig</text><line style=\"stroke: #A80036; stroke-width: 1.5;\" x1=\"335.5\" x2=\"428.5\" y1=\"165.4375\" y2=\"165.4375\"/><text fill=\"#000000\" font-family=\"sans-serif\" font-size=\"11\" lengthAdjust=\"spacingAndGlyphs\" textLength=\"6\" x=\"340.5\" y=\"179.6479\">x</text></a><!--MD5=[09b614a08d8cba4a07c9adeb5e0fee81]\n",
       "class E3--><a href=\"psysml:0109ef31-4e51-4de7-9ac0-eb82fbd89c67\" target=\"_top\" title=\"psysml:0109ef31-4e51-4de7-9ac0-eb82fbd89c67\" xlink:actuate=\"onRequest\" xlink:href=\"psysml:0109ef31-4e51-4de7-9ac0-eb82fbd89c67\" xlink:show=\"new\" xlink:title=\"psysml:0109ef31-4e51-4de7-9ac0-eb82fbd89c67\" xlink:type=\"simple\"><rect fill=\"#FEFECE\" filter=\"url(#f1ulssgoqze2m)\" height=\"45.9375\" id=\"E3\" style=\"stroke: #A80036; stroke-width: 1.5;\" width=\"95\" x=\"204.5\" y=\"134\"/><text fill=\"#000000\" font-family=\"sans-serif\" font-size=\"12\" font-style=\"italic\" lengthAdjust=\"spacingAndGlyphs\" textLength=\"93\" x=\"205.5\" y=\"150.1387\">«attribute def»</text><text fill=\"#000000\" font-family=\"sans-serif\" font-size=\"12\" lengthAdjust=\"spacingAndGlyphs\" textLength=\"22\" x=\"241\" y=\"164.1074\">Exit</text><line style=\"stroke: #A80036; stroke-width: 1.5;\" x1=\"205.5\" x2=\"298.5\" y1=\"171.9375\" y2=\"171.9375\"/></a><!--MD5=[ebbe1d658d1005bcc118a6aa81145e00]\n",
       "class E4--><a href=\"psysml:64a2c9fa-aa89-4eff-b01c-ff58906cbde0\" target=\"_top\" title=\"psysml:64a2c9fa-aa89-4eff-b01c-ff58906cbde0\" xlink:actuate=\"onRequest\" xlink:href=\"psysml:64a2c9fa-aa89-4eff-b01c-ff58906cbde0\" xlink:show=\"new\" xlink:title=\"psysml:64a2c9fa-aa89-4eff-b01c-ff58906cbde0\" xlink:type=\"simple\"><rect fill=\"#FEFECE\" filter=\"url(#f1ulssgoqze2m)\" height=\"45.9375\" id=\"E4\" rx=\"10\" ry=\"10\" style=\"stroke: #A80036; stroke-width: 1.5;\" width=\"42\" x=\"127\" y=\"134\"/><text fill=\"#000000\" font-family=\"sans-serif\" font-size=\"12\" font-style=\"italic\" lengthAdjust=\"spacingAndGlyphs\" textLength=\"40\" x=\"128\" y=\"150.1387\">«part»</text><text fill=\"#000000\" font-family=\"sans-serif\" font-size=\"12\" lengthAdjust=\"spacingAndGlyphs\" textLength=\"8\" x=\"144\" y=\"164.1074\">p</text><line style=\"stroke: #A80036; stroke-width: 1.5;\" x1=\"128\" x2=\"168\" y1=\"171.9375\" y2=\"171.9375\"/></a><g id=\"E1.E5\"><a href=\"psysml:6519856a-88df-4cdc-a713-a9dddd16e281\" target=\"_top\" title=\"psysml:6519856a-88df-4cdc-a713-a9dddd16e281\" xlink:actuate=\"onRequest\" xlink:href=\"psysml:6519856a-88df-4cdc-a713-a9dddd16e281\" xlink:show=\"new\" xlink:title=\"psysml:6519856a-88df-4cdc-a713-a9dddd16e281\" xlink:type=\"simple\"><rect fill=\"#FEFECE\" filter=\"url(#f1ulssgoqze2m)\" height=\"42.9375\" id=\"E5\" rx=\"10\" ry=\"10\" style=\"stroke: #A80036; stroke-width: 1.5;\" width=\"60\" x=\"32\" y=\"135.5\"/><text fill=\"#000000\" font-family=\"sans-serif\" font-size=\"12\" font-style=\"italic\" lengthAdjust=\"spacingAndGlyphs\" textLength=\"53\" x=\"35.5\" y=\"151.6387\">«action»</text><text fill=\"#000000\" font-family=\"sans-serif\" font-size=\"12\" lengthAdjust=\"spacingAndGlyphs\" textLength=\"20\" x=\"52\" y=\"165.6074\">act</text></a></g><ellipse cx=\"558\" cy=\"157\" fill=\"#000000\" filter=\"url(#f1ulssgoqze2m)\" rx=\"10\" ry=\"10\" style=\"stroke: none; stroke-width: 1.0;\"/><ellipse cx=\"558\" cy=\"499.5\" fill=\"none\" filter=\"url(#f1ulssgoqze2m)\" rx=\"10\" ry=\"10\" style=\"stroke: #000000; stroke-width: 1.0;\"/><ellipse cx=\"558.5\" cy=\"500\" fill=\"#000000\" rx=\"6\" ry=\"6\" style=\"stroke: none; stroke-width: 1.0;\"/><g id=\"E1.E6.E7\"><a href=\"psysml:70242e19-3f56-46b0-b4b5-fd0d440c29ee\" target=\"_top\" title=\"psysml:70242e19-3f56-46b0-b4b5-fd0d440c29ee\" xlink:actuate=\"onRequest\" xlink:href=\"psysml:70242e19-3f56-46b0-b4b5-fd0d440c29ee\" xlink:show=\"new\" xlink:title=\"psysml:70242e19-3f56-46b0-b4b5-fd0d440c29ee\" xlink:type=\"simple\"><rect fill=\"#FEFECE\" filter=\"url(#f1ulssgoqze2m)\" height=\"40\" id=\"E7\" rx=\"10\" ry=\"10\" style=\"stroke: #A80036; stroke-width: 1.5;\" width=\"50\" x=\"533\" y=\"247.5\"/><text fill=\"#000000\" font-family=\"sans-serif\" font-size=\"12\" lengthAdjust=\"spacingAndGlyphs\" textLength=\"16\" x=\"550\" y=\"263.6387\">S1</text></a></g><g id=\"E1.E6.E8\"><a href=\"psysml:a085f23d-1115-47bd-987f-c38856471ed2\" target=\"_top\" title=\"psysml:a085f23d-1115-47bd-987f-c38856471ed2\" xlink:actuate=\"onRequest\" xlink:href=\"psysml:a085f23d-1115-47bd-987f-c38856471ed2\" xlink:show=\"new\" xlink:title=\"psysml:a085f23d-1115-47bd-987f-c38856471ed2\" xlink:type=\"simple\"><rect fill=\"#FEFECE\" filter=\"url(#f1ulssgoqze2m)\" height=\"47.9375\" id=\"E8\" rx=\"10\" ry=\"10\" style=\"stroke: #A80036; stroke-width: 1.5;\" width=\"50\" x=\"533\" y=\"364.5\"/><text fill=\"#000000\" font-family=\"sans-serif\" font-size=\"12\" lengthAdjust=\"spacingAndGlyphs\" textLength=\"16\" x=\"550\" y=\"380.6387\">S2</text><line style=\"stroke: #A80036; stroke-width: 1.0;\" x1=\"533\" x2=\"583\" y1=\"388.4688\" y2=\"388.4688\"/><text fill=\"#000000\" font-family=\"sans-serif\" font-size=\"12\" font-weight=\"bold\" lengthAdjust=\"spacingAndGlyphs\" textLength=\"18\" x=\"538\" y=\"401.6074\">do</text><text fill=\"#000000\" font-family=\"sans-serif\" font-size=\"12\" lengthAdjust=\"spacingAndGlyphs\" textLength=\"4\" x=\"556\" y=\"401.6074\">/</text></a></g><!--MD5=[5a531d3a85f3339e6e197084acb48195]\n",
       "link *start*E6 to E7--><a href=\"psysml:43d9c4f9-ed20-4c00-a0b0-be6dc49a6894\" target=\"_top\" title=\"psysml:43d9c4f9-ed20-4c00-a0b0-be6dc49a6894\" xlink:actuate=\"onRequest\" xlink:href=\"psysml:43d9c4f9-ed20-4c00-a0b0-be6dc49a6894\" xlink:show=\"new\" xlink:title=\"psysml:43d9c4f9-ed20-4c00-a0b0-be6dc49a6894\" xlink:type=\"simple\"><path d=\"M558,167.25 C558,183.64 558,218.28 558,241.97 \" fill=\"none\" id=\"*start*E6-&gt;E7\" style=\"stroke: #A80036; stroke-width: 1.0;\"/><polygon fill=\"#A80036\" points=\"558,247.15,562,238.15,558,242.15,554,238.15,558,247.15\" style=\"stroke: #A80036; stroke-width: 1.0;\"/></a><!--MD5=[7ec9a8babba89ddcae1318ca9fb3c814]\n",
       "link E8 to *end*E6--><a href=\"psysml:f955b7ee-57f2-4e8a-b602-a443c9a31c83\" target=\"_top\" title=\"psysml:f955b7ee-57f2-4e8a-b602-a443c9a31c83\" xlink:actuate=\"onRequest\" xlink:href=\"psysml:f955b7ee-57f2-4e8a-b602-a443c9a31c83\" xlink:show=\"new\" xlink:title=\"psysml:f955b7ee-57f2-4e8a-b602-a443c9a31c83\" xlink:type=\"simple\"><path d=\"M558,412.62 C558,434.25 558,465.89 558,484.12 \" fill=\"none\" id=\"E8-&gt;*end*E6\" style=\"stroke: #A80036; stroke-width: 1.0;\"/><polygon fill=\"#A80036\" points=\"558,489.32,562,480.32,558,484.32,554,480.32,558,489.32\" style=\"stroke: #A80036; stroke-width: 1.0;\"/><text fill=\"#000000\" font-family=\"sans-serif\" font-size=\"13\" lengthAdjust=\"spacingAndGlyphs\" textLength=\"23\" x=\"559\" y=\"455.5669\">Exit</text></a><!--MD5=[79bc8f324ef4d02c541433f2e6e513c3]\n",
       "link E7 to E8--><a href=\"psysml:d37fdc60-36d2-41f0-83fe-622a63ffc619\" target=\"_top\" title=\"psysml:d37fdc60-36d2-41f0-83fe-622a63ffc619\" xlink:actuate=\"onRequest\" xlink:href=\"psysml:d37fdc60-36d2-41f0-83fe-622a63ffc619\" xlink:show=\"new\" xlink:title=\"psysml:d37fdc60-36d2-41f0-83fe-622a63ffc619\" xlink:type=\"simple\"><path d=\"M532.93,280.38 C518.69,288.62 502.12,301.06 494,317.5 C483.11,339.55 506.72,359.7 528.27,372.66 \" fill=\"none\" id=\"E7-&gt;E8\" style=\"stroke: #A80036; stroke-width: 1.0;\"/><polygon fill=\"#A80036\" points=\"532.83,375.32,527.0682,367.3324,528.5101,372.8024,523.0401,374.2443,532.83,375.32\" style=\"stroke: #A80036; stroke-width: 1.0;\"/><text fill=\"#000000\" font-family=\"sans-serif\" font-size=\"13\" lengthAdjust=\"spacingAndGlyphs\" textLength=\"81\" x=\"495\" y=\"330.5669\">Sig /action D</text></a><!--MD5=[bfa3c8b0d15052fdf50ae9310b491027]\n",
       "link E8 to E7--><a href=\"psysml:b2ce6d4b-1a56-4d0e-ade4-ffb9136266c2\" target=\"_top\" title=\"psysml:b2ce6d4b-1a56-4d0e-ade4-ffb9136266c2\" xlink:actuate=\"onRequest\" xlink:href=\"psysml:b2ce6d4b-1a56-4d0e-ade4-ffb9136266c2\" xlink:show=\"new\" xlink:title=\"psysml:b2ce6d4b-1a56-4d0e-ade4-ffb9136266c2\" xlink:type=\"simple\"><path d=\"M572.17,364.49 C578.81,350.98 584.56,333.48 581,317.5 C579.1,308.99 575.56,300.22 571.82,292.49 \" fill=\"none\" id=\"E8-&gt;E7\" style=\"stroke: #A80036; stroke-width: 1.0;\"/><polygon fill=\"#A80036\" points=\"569.47,287.82,569.9298,297.6581,571.7118,292.2893,577.0806,294.0713,569.47,287.82\" style=\"stroke: #A80036; stroke-width: 1.0;\"/><text fill=\"#000000\" font-family=\"sans-serif\" font-size=\"13\" lengthAdjust=\"spacingAndGlyphs\" textLength=\"135\" x=\"583\" y=\"330.5669\">Sig [true]/send s to p</text></a><!--MD5=[1392eb5821ffa10ead3ad01e2239c3cf]\n",
       "@startuml\r\n",
       "skinparam wrapWidth 300\r\n",
       "hide circle\r\n",
       "\r\n",
       "package \"StateTest\" as E1  [[psysml:5e99c5ac-660c-4bcd-ba7f-80dc44a07c9e ]]  {\r\n",
       "comp def \"Sig\" as E2  <<(T,blue)attribute def>> [[psysml:408e0494-0708-476d-85d5-333a69b53e96 ]] {\r\n",
       "x\r\n",
       "}\r\n",
       "comp def \"Exit\" as E3  <<(T,blue)attribute def>> [[psysml:0109ef31-4e51-4de7-9ac0-eb82fbd89c67 ]] {\r\n",
       "}\r\n",
       "comp usage \"p\" as E4  <<(T,blue)part>> [[psysml:64a2c9fa-aa89-4eff-b01c-ff58906cbde0 ]] {\r\n",
       "}\r\n",
       "rec usage \"act\" as E5  <<(T,blue)action>> [[psysml:6519856a-88df-4cdc-a713-a9dddd16e281 ]] {\r\n",
       "}\r\n",
       "\r\n",
       "rec def \"S\" as E6  <<(T,blue)state def>> [[psysml:0bc7341d-f31b-4869-a064-1af20ff16fcc ]] {\r\n",
       "rec usage \"S1\" as E7 [[psysml:70242e19-3f56-46b0-b4b5-fd0d440c29ee ]] {\r\n",
       "}\r\n",
       "\r\n",
       "rec usage \"S2\" as E8 [[psysml:a085f23d-1115-47bd-987f-c38856471ed2 ]] {\r\n",
       "desc \"S2\" as E8  : **do**/ \r\n",
       "}\r\n",
       "\r\n",
       "[*] - -> E7 [[psysml:43d9c4f9-ed20-4c00-a0b0-be6dc49a6894 ]] \r\n",
       "E8  - -> [*] [[psysml:f955b7ee-57f2-4e8a-b602-a443c9a31c83 ]] : Exit \r\n",
       "desc \"S\" as E6  : **entry**/ A\r\n",
       "desc \"S\" as E6  : **do**/ B\r\n",
       "desc \"S\" as E6  : **exit**/ act \r\n",
       "}\r\n",
       "\r\n",
       "E7  - -> E8 [[psysml:d37fdc60-36d2-41f0-83fe-622a63ffc619 ]] : Sig /action D\r\n",
       "E8  - -> E7 [[psysml:b2ce6d4b-1a56-4d0e-ade4-ffb9136266c2 ]] : Sig [true]/send s to p\r\n",
       "}\r\n",
       "@enduml\r\n",
       "\n",
       "PlantUML version 1.2020.13(Sat Jun 13 12:26:38 UTC 2020)\n",
       "(EPL source distribution)\n",
       "Java Runtime: OpenJDK Runtime Environment\n",
       "JVM: OpenJDK 64-Bit Server VM\n",
       "Default Encoding: UTF-8\n",
       "Language: en\n",
       "Country: null\n",
       "--></g></svg>"
      ]
     },
     "execution_count": 23,
     "metadata": {},
     "output_type": "execute_result"
    }
   ],
   "source": [
    "%viz --style=\"STDCOLOR\" --view=\"Default\" \"StateTest\""
   ]
  },
  {
   "cell_type": "code",
   "execution_count": 24,
   "id": "threaded-notice",
   "metadata": {
    "execution": {
     "iopub.execute_input": "2021-03-26T13:02:46.406897Z",
     "iopub.status.busy": "2021-03-26T13:02:46.406506Z",
     "iopub.status.idle": "2021-03-26T13:02:46.514766Z",
     "shell.execute_reply": "2021-03-26T13:02:46.514456Z"
    }
   },
   "outputs": [
    {
     "data": {
      "image/svg+xml": [
       "<?xml version=\"1.0\" encoding=\"UTF-8\" standalone=\"no\"?><svg xmlns=\"http://www.w3.org/2000/svg\" xmlns:xlink=\"http://www.w3.org/1999/xlink\" contentScriptType=\"application/ecmascript\" contentStyleType=\"text/css\" height=\"471px\" preserveAspectRatio=\"none\" style=\"width:594px;height:471px;\" version=\"1.1\" viewBox=\"0 0 594 471\" width=\"594px\" zoomAndPan=\"magnify\"><defs><filter height=\"300%\" id=\"f1dyyepzpo90sj\" width=\"300%\" x=\"-1\" y=\"-1\"><feGaussianBlur result=\"blurOut\" stdDeviation=\"2.0\"/><feColorMatrix in=\"blurOut\" result=\"blurOut2\" type=\"matrix\" values=\"0 0 0 0 0 0 0 0 0 0 0 0 0 0 0 0 0 0 .4 0\"/><feOffset dx=\"4.0\" dy=\"4.0\" in=\"blurOut2\" result=\"blurOut3\"/><feBlend in=\"SourceGraphic\" in2=\"blurOut3\" mode=\"normal\"/></filter></defs><g><!--MD5=[fbc87193dbaf4d95561dea2c320d4a47]\n",
       "cluster E1--><a href=\"psysml:5e99c5ac-660c-4bcd-ba7f-80dc44a07c9e\" target=\"_top\" title=\"psysml:5e99c5ac-660c-4bcd-ba7f-80dc44a07c9e\" xlink:actuate=\"onRequest\" xlink:href=\"psysml:5e99c5ac-660c-4bcd-ba7f-80dc44a07c9e\" xlink:show=\"new\" xlink:title=\"psysml:5e99c5ac-660c-4bcd-ba7f-80dc44a07c9e\" xlink:type=\"simple\"><polygon fill=\"#FFFFFF\" filter=\"url(#f1dyyepzpo90sj)\" points=\"16,6,98,6,105,28.2969,572,28.2969,572,459,16,459,16,6\" style=\"stroke: #000000; stroke-width: 1.5;\"/><line style=\"stroke: #000000; stroke-width: 1.5;\" x1=\"16\" x2=\"105\" y1=\"28.2969\" y2=\"28.2969\"/><text fill=\"#000000\" font-family=\"sans-serif\" font-size=\"14\" font-weight=\"bold\" lengthAdjust=\"spacingAndGlyphs\" textLength=\"76\" x=\"20\" y=\"20.9951\">StateTest</text></a><!--MD5=[b4997ac47864f28c2f74865a473b2911]\n",
       "class E2--><a href=\"psysml:408e0494-0708-476d-85d5-333a69b53e96\" target=\"_top\" title=\"psysml:408e0494-0708-476d-85d5-333a69b53e96\" xlink:actuate=\"onRequest\" xlink:href=\"psysml:408e0494-0708-476d-85d5-333a69b53e96\" xlink:show=\"new\" xlink:title=\"psysml:408e0494-0708-476d-85d5-333a69b53e96\" xlink:type=\"simple\"><rect fill=\"#FEFECE\" filter=\"url(#f1dyyepzpo90sj)\" height=\"58.7422\" id=\"E2\" style=\"stroke: #A80036; stroke-width: 1.5;\" width=\"95\" x=\"460.5\" y=\"91.5\"/><text fill=\"#000000\" font-family=\"sans-serif\" font-size=\"12\" font-style=\"italic\" lengthAdjust=\"spacingAndGlyphs\" textLength=\"93\" x=\"461.5\" y=\"107.6387\">«attribute def»</text><text fill=\"#000000\" font-family=\"sans-serif\" font-size=\"12\" lengthAdjust=\"spacingAndGlyphs\" textLength=\"19\" x=\"498.5\" y=\"121.6074\">Sig</text><line style=\"stroke: #A80036; stroke-width: 1.5;\" x1=\"461.5\" x2=\"554.5\" y1=\"129.4375\" y2=\"129.4375\"/><text fill=\"#000000\" font-family=\"sans-serif\" font-size=\"11\" lengthAdjust=\"spacingAndGlyphs\" textLength=\"6\" x=\"466.5\" y=\"143.6479\">x</text></a><!--MD5=[09b614a08d8cba4a07c9adeb5e0fee81]\n",
       "class E3--><a href=\"psysml:0109ef31-4e51-4de7-9ac0-eb82fbd89c67\" target=\"_top\" title=\"psysml:0109ef31-4e51-4de7-9ac0-eb82fbd89c67\" xlink:actuate=\"onRequest\" xlink:href=\"psysml:0109ef31-4e51-4de7-9ac0-eb82fbd89c67\" xlink:show=\"new\" xlink:title=\"psysml:0109ef31-4e51-4de7-9ac0-eb82fbd89c67\" xlink:type=\"simple\"><rect fill=\"#FEFECE\" filter=\"url(#f1dyyepzpo90sj)\" height=\"45.9375\" id=\"E3\" style=\"stroke: #A80036; stroke-width: 1.5;\" width=\"95\" x=\"330.5\" y=\"98\"/><text fill=\"#000000\" font-family=\"sans-serif\" font-size=\"12\" font-style=\"italic\" lengthAdjust=\"spacingAndGlyphs\" textLength=\"93\" x=\"331.5\" y=\"114.1387\">«attribute def»</text><text fill=\"#000000\" font-family=\"sans-serif\" font-size=\"12\" lengthAdjust=\"spacingAndGlyphs\" textLength=\"22\" x=\"367\" y=\"128.1074\">Exit</text><line style=\"stroke: #A80036; stroke-width: 1.5;\" x1=\"331.5\" x2=\"424.5\" y1=\"135.9375\" y2=\"135.9375\"/></a><!--MD5=[ebbe1d658d1005bcc118a6aa81145e00]\n",
       "class E4--><a href=\"psysml:64a2c9fa-aa89-4eff-b01c-ff58906cbde0\" target=\"_top\" title=\"psysml:64a2c9fa-aa89-4eff-b01c-ff58906cbde0\" xlink:actuate=\"onRequest\" xlink:href=\"psysml:64a2c9fa-aa89-4eff-b01c-ff58906cbde0\" xlink:show=\"new\" xlink:title=\"psysml:64a2c9fa-aa89-4eff-b01c-ff58906cbde0\" xlink:type=\"simple\"><rect fill=\"#FEFECE\" filter=\"url(#f1dyyepzpo90sj)\" height=\"45.9375\" id=\"E4\" rx=\"10\" ry=\"10\" style=\"stroke: #A80036; stroke-width: 1.5;\" width=\"42\" x=\"253\" y=\"98\"/><text fill=\"#000000\" font-family=\"sans-serif\" font-size=\"12\" font-style=\"italic\" lengthAdjust=\"spacingAndGlyphs\" textLength=\"40\" x=\"254\" y=\"114.1387\">«part»</text><text fill=\"#000000\" font-family=\"sans-serif\" font-size=\"12\" lengthAdjust=\"spacingAndGlyphs\" textLength=\"8\" x=\"270\" y=\"128.1074\">p</text><line style=\"stroke: #A80036; stroke-width: 1.5;\" x1=\"254\" x2=\"294\" y1=\"135.9375\" y2=\"135.9375\"/></a><!--MD5=[270fce915f116d4de14055a7c1d9a0f3]\n",
       "class E5--><a href=\"psysml:6519856a-88df-4cdc-a713-a9dddd16e281\" target=\"_top\" title=\"psysml:6519856a-88df-4cdc-a713-a9dddd16e281\" xlink:actuate=\"onRequest\" xlink:href=\"psysml:6519856a-88df-4cdc-a713-a9dddd16e281\" xlink:show=\"new\" xlink:title=\"psysml:6519856a-88df-4cdc-a713-a9dddd16e281\" xlink:type=\"simple\"><rect fill=\"#FEFECE\" filter=\"url(#f1dyyepzpo90sj)\" height=\"45.9375\" id=\"E5\" rx=\"10\" ry=\"10\" style=\"stroke: #A80036; stroke-width: 1.5;\" width=\"55\" x=\"162.5\" y=\"98\"/><text fill=\"#000000\" font-family=\"sans-serif\" font-size=\"12\" font-style=\"italic\" lengthAdjust=\"spacingAndGlyphs\" textLength=\"53\" x=\"163.5\" y=\"114.1387\">«action»</text><text fill=\"#000000\" font-family=\"sans-serif\" font-size=\"12\" lengthAdjust=\"spacingAndGlyphs\" textLength=\"20\" x=\"180\" y=\"128.1074\">act</text><line style=\"stroke: #A80036; stroke-width: 1.5;\" x1=\"163.5\" x2=\"216.5\" y1=\"135.9375\" y2=\"135.9375\"/></a><!--MD5=[60a26617385b1d2d0262a64233df1f8d]\n",
       "class E6--><a href=\"psysml:0bc7341d-f31b-4869-a064-1af20ff16fcc\" target=\"_top\" title=\"psysml:0bc7341d-f31b-4869-a064-1af20ff16fcc\" xlink:actuate=\"onRequest\" xlink:href=\"psysml:0bc7341d-f31b-4869-a064-1af20ff16fcc\" xlink:show=\"new\" xlink:title=\"psysml:0bc7341d-f31b-4869-a064-1af20ff16fcc\" xlink:type=\"simple\"><rect fill=\"#FEFECE\" filter=\"url(#f1dyyepzpo90sj)\" height=\"160.375\" id=\"E6\" style=\"stroke: #A80036; stroke-width: 1.5;\" width=\"95\" x=\"32.5\" y=\"41\"/><text fill=\"#000000\" font-family=\"sans-serif\" font-size=\"12\" font-style=\"italic\" lengthAdjust=\"spacingAndGlyphs\" textLength=\"71\" x=\"44.5\" y=\"57.1387\">«state def»</text><text fill=\"#000000\" font-family=\"sans-serif\" font-size=\"12\" lengthAdjust=\"spacingAndGlyphs\" textLength=\"8\" x=\"76\" y=\"71.1074\">S</text><line style=\"stroke: #A80036; stroke-width: 1.5;\" x1=\"33.5\" x2=\"126.5\" y1=\"78.9375\" y2=\"78.9375\"/><text fill=\"#000000\" font-family=\"sans-serif\" font-size=\"11\" lengthAdjust=\"spacingAndGlyphs\" textLength=\"17\" x=\"38.5\" y=\"109.9526\">act</text><text fill=\"#000000\" font-family=\"sans-serif\" font-size=\"11\" lengthAdjust=\"spacingAndGlyphs\" textLength=\"7\" x=\"38.5\" y=\"122.7573\">A</text><text fill=\"#000000\" font-family=\"sans-serif\" font-size=\"11\" lengthAdjust=\"spacingAndGlyphs\" textLength=\"8\" x=\"38.5\" y=\"135.562\">B</text><line style=\"stroke: #A80036; stroke-width: 1.0;\" x1=\"33.5\" x2=\"36.5\" y1=\"93.3398\" y2=\"93.3398\"/><text fill=\"#000000\" font-family=\"sans-serif\" font-size=\"11\" lengthAdjust=\"spacingAndGlyphs\" textLength=\"87\" x=\"36.5\" y=\"96.6479\">performActions</text><line style=\"stroke: #A80036; stroke-width: 1.0;\" x1=\"123.5\" x2=\"126.5\" y1=\"93.3398\" y2=\"93.3398\"/><text fill=\"#000000\" font-family=\"sans-serif\" font-size=\"11\" lengthAdjust=\"spacingAndGlyphs\" textLength=\"15\" x=\"38.5\" y=\"165.1714\">S1</text><line style=\"stroke: #A80036; stroke-width: 1.0;\" x1=\"33.5\" x2=\"62\" y1=\"148.5586\" y2=\"148.5586\"/><text fill=\"#000000\" font-family=\"sans-serif\" font-size=\"11\" lengthAdjust=\"spacingAndGlyphs\" textLength=\"36\" x=\"62\" y=\"151.8667\">states</text><line style=\"stroke: #A80036; stroke-width: 1.0;\" x1=\"98\" x2=\"126.5\" y1=\"148.5586\" y2=\"148.5586\"/><text fill=\"#000000\" font-family=\"sans-serif\" font-size=\"11\" lengthAdjust=\"spacingAndGlyphs\" textLength=\"7\" x=\"38.5\" y=\"194.7808\">T</text><line style=\"stroke: #A80036; stroke-width: 1.0;\" x1=\"33.5\" x2=\"49.5\" y1=\"178.168\" y2=\"178.168\"/><text fill=\"#000000\" font-family=\"sans-serif\" font-size=\"11\" lengthAdjust=\"spacingAndGlyphs\" textLength=\"61\" x=\"49.5\" y=\"181.4761\">transitions</text><line style=\"stroke: #A80036; stroke-width: 1.0;\" x1=\"110.5\" x2=\"126.5\" y1=\"178.168\" y2=\"178.168\"/></a><!--MD5=[1dd1bfd58a279cf63c5f349dbc8fc6a1]\n",
       "class E11--><a href=\"psysml:a085f23d-1115-47bd-987f-c38856471ed2\" target=\"_top\" title=\"psysml:a085f23d-1115-47bd-987f-c38856471ed2\" xlink:actuate=\"onRequest\" xlink:href=\"psysml:a085f23d-1115-47bd-987f-c38856471ed2\" xlink:show=\"new\" xlink:title=\"psysml:a085f23d-1115-47bd-987f-c38856471ed2\" xlink:type=\"simple\"><rect fill=\"#FEFECE\" filter=\"url(#f1dyyepzpo90sj)\" height=\"45.9375\" id=\"E11\" rx=\"10\" ry=\"10\" style=\"stroke: #A80036; stroke-width: 1.5;\" width=\"49\" x=\"55.5\" y=\"261\"/><text fill=\"#000000\" font-family=\"sans-serif\" font-size=\"12\" font-style=\"italic\" lengthAdjust=\"spacingAndGlyphs\" textLength=\"47\" x=\"56.5\" y=\"277.1387\">«state»</text><text fill=\"#000000\" font-family=\"sans-serif\" font-size=\"12\" lengthAdjust=\"spacingAndGlyphs\" textLength=\"16\" x=\"72\" y=\"291.1074\">S2</text><line style=\"stroke: #A80036; stroke-width: 1.5;\" x1=\"56.5\" x2=\"103.5\" y1=\"298.9375\" y2=\"298.9375\"/></a><!--MD5=[49a0ec8f00dab7302a31f22d0f0fe584]\n",
       "class E12--><a href=\"psysml:cfc90439-05ae-44f8-b88d-04fe860fe407\" target=\"_top\" title=\"psysml:cfc90439-05ae-44f8-b88d-04fe860fe407\" xlink:actuate=\"onRequest\" xlink:href=\"psysml:cfc90439-05ae-44f8-b88d-04fe860fe407\" xlink:show=\"new\" xlink:title=\"psysml:cfc90439-05ae-44f8-b88d-04fe860fe407\" xlink:type=\"simple\"><rect fill=\"#FEFECE\" filter=\"url(#f1dyyepzpo90sj)\" height=\"75.5469\" id=\"E12\" rx=\"10\" ry=\"10\" style=\"stroke: #A80036; stroke-width: 1.5;\" width=\"90\" x=\"35\" y=\"367\"/><text fill=\"#000000\" font-family=\"sans-serif\" font-size=\"12\" font-style=\"italic\" lengthAdjust=\"spacingAndGlyphs\" textLength=\"88\" x=\"36\" y=\"383.1387\">«send action»</text><text fill=\"#000000\" font-family=\"sans-serif\" font-size=\"12\" lengthAdjust=\"spacingAndGlyphs\" textLength=\"55\" x=\"52.5\" y=\"397.1074\">doAction</text><line style=\"stroke: #A80036; stroke-width: 1.5;\" x1=\"36\" x2=\"124\" y1=\"404.9375\" y2=\"404.9375\"/><text fill=\"#000000\" font-family=\"sans-serif\" font-size=\"11\" lengthAdjust=\"spacingAndGlyphs\" textLength=\"25\" x=\"41\" y=\"435.9526\">item</text><line style=\"stroke: #A80036; stroke-width: 1.0;\" x1=\"36\" x2=\"42.5\" y1=\"419.3398\" y2=\"419.3398\"/><text fill=\"#000000\" font-family=\"sans-serif\" font-size=\"11\" lengthAdjust=\"spacingAndGlyphs\" textLength=\"75\" x=\"42.5\" y=\"422.6479\">itemFeatures</text><line style=\"stroke: #A80036; stroke-width: 1.0;\" x1=\"117.5\" x2=\"124\" y1=\"419.3398\" y2=\"419.3398\"/></a><!--MD5=[1f5f03483f7de0d5b3680a7f6650997f]\n",
       "reverse link E6 to E11--><a href=\"psysml:a085f23d-1115-47bd-987f-c38856471ed2\" target=\"_top\" title=\"psysml:a085f23d-1115-47bd-987f-c38856471ed2\" xlink:actuate=\"onRequest\" xlink:href=\"psysml:a085f23d-1115-47bd-987f-c38856471ed2\" xlink:show=\"new\" xlink:title=\"psysml:a085f23d-1115-47bd-987f-c38856471ed2\" xlink:type=\"simple\"><path d=\"M80,214.17 C80,231.58 80,248.25 80,260.82 \" fill=\"none\" id=\"E6&lt;-E11\" style=\"stroke: #A80036; stroke-width: 1.0;\"/><polygon fill=\"#A80036\" points=\"80,201.09,76.0066,207.0944,80.0132,213.09,84.0066,207.0856,80,201.09\" style=\"stroke: #A80036; stroke-width: 1.0;\"/></a><!--MD5=[94adabc162ce7e41b39f13be14fbaeb3]\n",
       "reverse link E11 to E12--><a href=\"psysml:cfc90439-05ae-44f8-b88d-04fe860fe407\" target=\"_top\" title=\"psysml:cfc90439-05ae-44f8-b88d-04fe860fe407\" xlink:actuate=\"onRequest\" xlink:href=\"psysml:cfc90439-05ae-44f8-b88d-04fe860fe407\" xlink:show=\"new\" xlink:title=\"psysml:cfc90439-05ae-44f8-b88d-04fe860fe407\" xlink:type=\"simple\"><path d=\"M80,320.23 C80,334.82 80,351.76 80,366.58 \" fill=\"none\" id=\"E11&lt;-E12\" style=\"stroke: #A80036; stroke-width: 1.0;\"/><polygon fill=\"#FFFFFF\" points=\"80,307.1,76,313.1,80,319.1,84,313.1,80,307.1\" style=\"stroke: #A80036; stroke-width: 1.0;\"/></a><!--MD5=[ef293a6bd9c74608544b43340f8a2bc4]\n",
       "@startuml\r\n",
       "skinparam wrapWidth 300\r\n",
       "hide circle\r\n",
       "\r\n",
       "package \"StateTest\" as E1  [[psysml:5e99c5ac-660c-4bcd-ba7f-80dc44a07c9e ]]  {\r\n",
       "comp def \"Sig\" as E2  <<(T,blue)attribute def>> [[psysml:408e0494-0708-476d-85d5-333a69b53e96 ]] {\r\n",
       "x\r\n",
       "}\r\n",
       "comp def \"Exit\" as E3  <<(T,blue)attribute def>> [[psysml:0109ef31-4e51-4de7-9ac0-eb82fbd89c67 ]] {\r\n",
       "}\r\n",
       "comp usage \"p\" as E4  <<(T,blue)part>> [[psysml:64a2c9fa-aa89-4eff-b01c-ff58906cbde0 ]] {\r\n",
       "}\r\n",
       "comp usage \"act\" as E5  <<(T,blue)action>> [[psysml:6519856a-88df-4cdc-a713-a9dddd16e281 ]] {\r\n",
       "}\r\n",
       "comp def \"S\" as E6  <<(T,blue)state def>> [[psysml:0bc7341d-f31b-4869-a064-1af20ff16fcc ]] {\r\n",
       "- - performActions - -\r\n",
       "act\r\n",
       "A\r\n",
       "B\r\n",
       "- - states - -\r\n",
       "S1\r\n",
       "- - transitions - -\r\n",
       "T\r\n",
       "}\r\n",
       "comp usage \"S2\" as E11  <<(T,blue)state>> [[psysml:a085f23d-1115-47bd-987f-c38856471ed2 ]] {\r\n",
       "}\r\n",
       "comp usage \"doAction\" as E12 <<send action>> [[psysml:cfc90439-05ae-44f8-b88d-04fe860fe407 ]] {\r\n",
       "- - itemFeatures - -\r\n",
       "item\r\n",
       "}\r\n",
       "E6 *- - E11 [[psysml:a085f23d-1115-47bd-987f-c38856471ed2 ]] \r\n",
       "E11 o- - E12 [[psysml:cfc90439-05ae-44f8-b88d-04fe860fe407 ]] \r\n",
       "}\r\n",
       "@enduml\r\n",
       "\n",
       "PlantUML version 1.2020.13(Sat Jun 13 12:26:38 UTC 2020)\n",
       "(EPL source distribution)\n",
       "Java Runtime: OpenJDK Runtime Environment\n",
       "JVM: OpenJDK 64-Bit Server VM\n",
       "Default Encoding: UTF-8\n",
       "Language: en\n",
       "Country: null\n",
       "--></g></svg>"
      ]
     },
     "execution_count": 24,
     "metadata": {},
     "output_type": "execute_result"
    }
   ],
   "source": [
    "%viz --style=\"STDCOLOR\" --view=\"Tree\" \"StateTest\""
   ]
  },
  {
   "cell_type": "code",
   "execution_count": 25,
   "id": "sacred-motivation",
   "metadata": {
    "execution": {
     "iopub.execute_input": "2021-03-26T13:02:46.570061Z",
     "iopub.status.busy": "2021-03-26T13:02:46.569416Z",
     "iopub.status.idle": "2021-03-26T13:02:46.599466Z",
     "shell.execute_reply": "2021-03-26T13:02:46.598023Z"
    }
   },
   "outputs": [
    {
     "data": {
      "image/svg+xml": [
       "<?xml version=\"1.0\" encoding=\"UTF-8\" standalone=\"no\"?><svg xmlns=\"http://www.w3.org/2000/svg\" xmlns:xlink=\"http://www.w3.org/1999/xlink\" contentScriptType=\"application/ecmascript\" contentStyleType=\"text/css\" height=\"483px\" preserveAspectRatio=\"none\" style=\"width:353px;height:483px;\" version=\"1.1\" viewBox=\"0 0 353 483\" width=\"353px\" zoomAndPan=\"magnify\"><defs><filter height=\"300%\" id=\"fia8b2x97jv1x\" width=\"300%\" x=\"-1\" y=\"-1\"><feGaussianBlur result=\"blurOut\" stdDeviation=\"2.0\"/><feColorMatrix in=\"blurOut\" result=\"blurOut2\" type=\"matrix\" values=\"0 0 0 0 0 0 0 0 0 0 0 0 0 0 0 0 0 0 .4 0\"/><feOffset dx=\"4.0\" dy=\"4.0\" in=\"blurOut2\" result=\"blurOut3\"/><feBlend in=\"SourceGraphic\" in2=\"blurOut3\" mode=\"normal\"/></filter></defs><g><!--MD5=[fbc87193dbaf4d95561dea2c320d4a47]\n",
       "cluster E1--><a href=\"psysml:0bc7341d-f31b-4869-a064-1af20ff16fcc\" target=\"_top\" title=\"psysml:0bc7341d-f31b-4869-a064-1af20ff16fcc\" xlink:actuate=\"onRequest\" xlink:href=\"psysml:0bc7341d-f31b-4869-a064-1af20ff16fcc\" xlink:show=\"new\" xlink:title=\"psysml:0bc7341d-f31b-4869-a064-1af20ff16fcc\" xlink:type=\"simple\"><rect fill=\"#FFFFFF\" filter=\"url(#fia8b2x97jv1x)\" height=\"457\" id=\"E1\" style=\"stroke: #A80036; stroke-width: 1.5;\" width=\"327\" x=\"7\" y=\"7\"/><rect fill=\"#FEFECE\" height=\"37.9375\" style=\"stroke: #A80036; stroke-width: 1.5;\" width=\"327\" x=\"7\" y=\"7\"/><text fill=\"#000000\" font-family=\"sans-serif\" font-size=\"12\" font-style=\"italic\" lengthAdjust=\"spacingAndGlyphs\" textLength=\"71\" x=\"135\" y=\"23.1387\">«state def»</text><text fill=\"#000000\" font-family=\"sans-serif\" font-size=\"12\" lengthAdjust=\"spacingAndGlyphs\" textLength=\"8\" x=\"166.5\" y=\"37.1074\">S</text><line style=\"stroke: #A80036; stroke-width: 1.0;\" x1=\"7\" x2=\"334\" y1=\"90.8438\" y2=\"90.8438\"/><text fill=\"#000000\" font-family=\"sans-serif\" font-size=\"12\" font-weight=\"bold\" lengthAdjust=\"spacingAndGlyphs\" textLength=\"38\" x=\"12\" y=\"58.0762\">entry</text><text fill=\"#000000\" font-family=\"sans-serif\" font-size=\"12\" lengthAdjust=\"spacingAndGlyphs\" textLength=\"16\" x=\"50\" y=\"58.0762\">/ A</text><text fill=\"#000000\" font-family=\"sans-serif\" font-size=\"12\" font-weight=\"bold\" lengthAdjust=\"spacingAndGlyphs\" textLength=\"18\" x=\"12\" y=\"72.0449\">do</text><text fill=\"#000000\" font-family=\"sans-serif\" font-size=\"12\" lengthAdjust=\"spacingAndGlyphs\" textLength=\"16\" x=\"30\" y=\"72.0449\">/ B</text><text fill=\"#000000\" font-family=\"sans-serif\" font-size=\"12\" font-weight=\"bold\" lengthAdjust=\"spacingAndGlyphs\" textLength=\"26\" x=\"12\" y=\"86.0137\">exit</text><text fill=\"#000000\" font-family=\"sans-serif\" font-size=\"12\" lengthAdjust=\"spacingAndGlyphs\" textLength=\"28\" x=\"38\" y=\"86.0137\">/ act</text></a><ellipse cx=\"119\" cy=\"115\" fill=\"#000000\" filter=\"url(#fia8b2x97jv1x)\" rx=\"10\" ry=\"10\" style=\"stroke: none; stroke-width: 1.0;\"/><ellipse cx=\"119\" cy=\"438\" fill=\"none\" filter=\"url(#fia8b2x97jv1x)\" rx=\"10\" ry=\"10\" style=\"stroke: #000000; stroke-width: 1.0;\"/><ellipse cx=\"119.5\" cy=\"438.5\" fill=\"#000000\" rx=\"6\" ry=\"6\" style=\"stroke: none; stroke-width: 1.0;\"/><g id=\"E1.E2\"><a href=\"psysml:70242e19-3f56-46b0-b4b5-fd0d440c29ee\" target=\"_top\" title=\"psysml:70242e19-3f56-46b0-b4b5-fd0d440c29ee\" xlink:actuate=\"onRequest\" xlink:href=\"psysml:70242e19-3f56-46b0-b4b5-fd0d440c29ee\" xlink:show=\"new\" xlink:title=\"psysml:70242e19-3f56-46b0-b4b5-fd0d440c29ee\" xlink:type=\"simple\"><rect fill=\"#FEFECE\" filter=\"url(#fia8b2x97jv1x)\" height=\"40\" id=\"E2\" rx=\"10\" ry=\"10\" style=\"stroke: #A80036; stroke-width: 1.5;\" width=\"50\" x=\"94\" y=\"186\"/><text fill=\"#000000\" font-family=\"sans-serif\" font-size=\"12\" lengthAdjust=\"spacingAndGlyphs\" textLength=\"16\" x=\"111\" y=\"202.1387\">S1</text></a></g><g id=\"E1.E3\"><a href=\"psysml:a085f23d-1115-47bd-987f-c38856471ed2\" target=\"_top\" title=\"psysml:a085f23d-1115-47bd-987f-c38856471ed2\" xlink:actuate=\"onRequest\" xlink:href=\"psysml:a085f23d-1115-47bd-987f-c38856471ed2\" xlink:show=\"new\" xlink:title=\"psysml:a085f23d-1115-47bd-987f-c38856471ed2\" xlink:type=\"simple\"><rect fill=\"#FEFECE\" filter=\"url(#fia8b2x97jv1x)\" height=\"47.9375\" id=\"E3\" rx=\"10\" ry=\"10\" style=\"stroke: #A80036; stroke-width: 1.5;\" width=\"50\" x=\"94\" y=\"303\"/><text fill=\"#000000\" font-family=\"sans-serif\" font-size=\"12\" lengthAdjust=\"spacingAndGlyphs\" textLength=\"16\" x=\"111\" y=\"319.1387\">S2</text><line style=\"stroke: #A80036; stroke-width: 1.0;\" x1=\"94\" x2=\"144\" y1=\"326.9688\" y2=\"326.9688\"/><text fill=\"#000000\" font-family=\"sans-serif\" font-size=\"12\" font-weight=\"bold\" lengthAdjust=\"spacingAndGlyphs\" textLength=\"18\" x=\"99\" y=\"340.1074\">do</text><text fill=\"#000000\" font-family=\"sans-serif\" font-size=\"12\" lengthAdjust=\"spacingAndGlyphs\" textLength=\"4\" x=\"117\" y=\"340.1074\">/</text></a></g><!--MD5=[cff944eb183b832d446717a4e202d613]\n",
       "link *start*E1 to E2--><a href=\"psysml:43d9c4f9-ed20-4c00-a0b0-be6dc49a6894\" target=\"_top\" title=\"psysml:43d9c4f9-ed20-4c00-a0b0-be6dc49a6894\" xlink:actuate=\"onRequest\" xlink:href=\"psysml:43d9c4f9-ed20-4c00-a0b0-be6dc49a6894\" xlink:show=\"new\" xlink:title=\"psysml:43d9c4f9-ed20-4c00-a0b0-be6dc49a6894\" xlink:type=\"simple\"><path d=\"M119,125.19 C119,138.18 119,162.38 119,180.73 \" fill=\"none\" id=\"*start*E1-&gt;E2\" style=\"stroke: #A80036; stroke-width: 1.0;\"/><polygon fill=\"#A80036\" points=\"119,185.74,123,176.74,119,180.74,115,176.74,119,185.74\" style=\"stroke: #A80036; stroke-width: 1.0;\"/></a><!--MD5=[9ee7afa76ca8c509b3d216624c3a9893]\n",
       "link E3 to *end*E1--><a href=\"psysml:f955b7ee-57f2-4e8a-b602-a443c9a31c83\" target=\"_top\" title=\"psysml:f955b7ee-57f2-4e8a-b602-a443c9a31c83\" xlink:actuate=\"onRequest\" xlink:href=\"psysml:f955b7ee-57f2-4e8a-b602-a443c9a31c83\" xlink:show=\"new\" xlink:title=\"psysml:f955b7ee-57f2-4e8a-b602-a443c9a31c83\" xlink:type=\"simple\"><path d=\"M119,351.12 C119,372.75 119,404.39 119,422.62 \" fill=\"none\" id=\"E3-&gt;*end*E1\" style=\"stroke: #A80036; stroke-width: 1.0;\"/><polygon fill=\"#A80036\" points=\"119,427.82,123,418.82,119,422.82,115,418.82,119,427.82\" style=\"stroke: #A80036; stroke-width: 1.0;\"/><text fill=\"#000000\" font-family=\"sans-serif\" font-size=\"13\" lengthAdjust=\"spacingAndGlyphs\" textLength=\"23\" x=\"120\" y=\"394.0669\">Exit</text></a><!--MD5=[2720a5a1f2c3fca2055b230370638851]\n",
       "link E2 to E3--><a href=\"psysml:d37fdc60-36d2-41f0-83fe-622a63ffc619\" target=\"_top\" title=\"psysml:d37fdc60-36d2-41f0-83fe-622a63ffc619\" xlink:actuate=\"onRequest\" xlink:href=\"psysml:d37fdc60-36d2-41f0-83fe-622a63ffc619\" xlink:show=\"new\" xlink:title=\"psysml:d37fdc60-36d2-41f0-83fe-622a63ffc619\" xlink:type=\"simple\"><path d=\"M93.93,218.88 C79.69,227.12 63.12,239.56 55,256 C44.11,278.05 67.72,298.2 89.27,311.16 \" fill=\"none\" id=\"E2-&gt;E3\" style=\"stroke: #A80036; stroke-width: 1.0;\"/><polygon fill=\"#A80036\" points=\"93.83,313.82,88.0682,305.8324,89.5101,311.3024,84.0401,312.7443,93.83,313.82\" style=\"stroke: #A80036; stroke-width: 1.0;\"/><text fill=\"#000000\" font-family=\"sans-serif\" font-size=\"13\" lengthAdjust=\"spacingAndGlyphs\" textLength=\"81\" x=\"56\" y=\"269.0669\">Sig /action D</text></a><!--MD5=[05d275557350bfb9b23a4ef7222b4c39]\n",
       "link E3 to E2--><a href=\"psysml:b2ce6d4b-1a56-4d0e-ade4-ffb9136266c2\" target=\"_top\" title=\"psysml:b2ce6d4b-1a56-4d0e-ade4-ffb9136266c2\" xlink:actuate=\"onRequest\" xlink:href=\"psysml:b2ce6d4b-1a56-4d0e-ade4-ffb9136266c2\" xlink:show=\"new\" xlink:title=\"psysml:b2ce6d4b-1a56-4d0e-ade4-ffb9136266c2\" xlink:type=\"simple\"><path d=\"M133.17,302.99 C139.81,289.48 145.56,271.98 142,256 C140.1,247.49 136.56,238.72 132.82,230.99 \" fill=\"none\" id=\"E3-&gt;E2\" style=\"stroke: #A80036; stroke-width: 1.0;\"/><polygon fill=\"#A80036\" points=\"130.47,226.32,130.9298,236.1581,132.7118,230.7893,138.0806,232.5713,130.47,226.32\" style=\"stroke: #A80036; stroke-width: 1.0;\"/><text fill=\"#000000\" font-family=\"sans-serif\" font-size=\"13\" lengthAdjust=\"spacingAndGlyphs\" textLength=\"135\" x=\"144\" y=\"269.0669\">Sig [true]/send s to p</text></a><!--MD5=[b73cffb6024ff5b65441e6aafd050ad3]\n",
       "@startuml\r\n",
       "skinparam wrapWidth 300\r\n",
       "hide circle\r\n",
       "\r\n",
       "rec def \"S\" as E1  <<(T,blue)state def>> [[psysml:0bc7341d-f31b-4869-a064-1af20ff16fcc ]] {\r\n",
       "rec usage \"S1\" as E2 [[psysml:70242e19-3f56-46b0-b4b5-fd0d440c29ee ]] {\r\n",
       "}\r\n",
       "\r\n",
       "rec usage \"S2\" as E3 [[psysml:a085f23d-1115-47bd-987f-c38856471ed2 ]] {\r\n",
       "desc \"S2\" as E3  : **do**/ \r\n",
       "}\r\n",
       "\r\n",
       "[*] - -> E2 [[psysml:43d9c4f9-ed20-4c00-a0b0-be6dc49a6894 ]] \r\n",
       "E3  - -> [*] [[psysml:f955b7ee-57f2-4e8a-b602-a443c9a31c83 ]] : Exit \r\n",
       "desc \"S\" as E1  : **entry**/ A\r\n",
       "desc \"S\" as E1  : **do**/ B\r\n",
       "desc \"S\" as E1  : **exit**/ act \r\n",
       "}\r\n",
       "\r\n",
       "E2  - -> E3 [[psysml:d37fdc60-36d2-41f0-83fe-622a63ffc619 ]] : Sig /action D\r\n",
       "E3  - -> E2 [[psysml:b2ce6d4b-1a56-4d0e-ade4-ffb9136266c2 ]] : Sig [true]/send s to p\r\n",
       "@enduml\r\n",
       "\n",
       "PlantUML version 1.2020.13(Sat Jun 13 12:26:38 UTC 2020)\n",
       "(EPL source distribution)\n",
       "Java Runtime: OpenJDK Runtime Environment\n",
       "JVM: OpenJDK 64-Bit Server VM\n",
       "Default Encoding: UTF-8\n",
       "Language: en\n",
       "Country: null\n",
       "--></g></svg>"
      ]
     },
     "execution_count": 25,
     "metadata": {},
     "output_type": "execute_result"
    }
   ],
   "source": [
    "%viz --style=\"STDCOLOR\" --view=\"State\" \"StateTest\""
   ]
  },
  {
   "cell_type": "code",
   "execution_count": 26,
   "id": "silent-joining",
   "metadata": {
    "execution": {
     "iopub.execute_input": "2021-03-26T13:02:46.651420Z",
     "iopub.status.busy": "2021-03-26T13:02:46.650499Z",
     "iopub.status.idle": "2021-03-26T13:02:46.675671Z",
     "shell.execute_reply": "2021-03-26T13:02:46.675337Z"
    }
   },
   "outputs": [
    {
     "data": {
      "image/svg+xml": [
       "<?xml version=\"1.0\" encoding=\"UTF-8\" standalone=\"no\"?><svg xmlns=\"http://www.w3.org/2000/svg\" xmlns:xlink=\"http://www.w3.org/1999/xlink\" contentScriptType=\"application/ecmascript\" contentStyleType=\"text/css\" height=\"112px\" preserveAspectRatio=\"none\" style=\"width:598px;height:112px;\" version=\"1.1\" viewBox=\"0 0 598 112\" width=\"598px\" zoomAndPan=\"magnify\"><defs><filter height=\"300%\" id=\"fnenykpd8vjhd\" width=\"300%\" x=\"-1\" y=\"-1\"><feGaussianBlur result=\"blurOut\" stdDeviation=\"2.0\"/><feColorMatrix in=\"blurOut\" result=\"blurOut2\" type=\"matrix\" values=\"0 0 0 0 0 0 0 0 0 0 0 0 0 0 0 0 0 0 .4 0\"/><feOffset dx=\"4.0\" dy=\"4.0\" in=\"blurOut2\" result=\"blurOut3\"/><feBlend in=\"SourceGraphic\" in2=\"blurOut3\" mode=\"normal\"/></filter></defs><g><!--MD5=[fbc87193dbaf4d95561dea2c320d4a47]\n",
       "cluster E1--><a href=\"psysml:5e99c5ac-660c-4bcd-ba7f-80dc44a07c9e\" target=\"_top\" title=\"psysml:5e99c5ac-660c-4bcd-ba7f-80dc44a07c9e\" xlink:actuate=\"onRequest\" xlink:href=\"psysml:5e99c5ac-660c-4bcd-ba7f-80dc44a07c9e\" xlink:show=\"new\" xlink:title=\"psysml:5e99c5ac-660c-4bcd-ba7f-80dc44a07c9e\" xlink:type=\"simple\"><polygon fill=\"#FFFFFF\" filter=\"url(#fnenykpd8vjhd)\" points=\"16,6,98,6,105,28.2969,576,28.2969,576,100,16,100,16,6\" style=\"stroke: #000000; stroke-width: 1.5;\"/><line style=\"stroke: #000000; stroke-width: 1.5;\" x1=\"16\" x2=\"105\" y1=\"28.2969\" y2=\"28.2969\"/><text fill=\"#000000\" font-family=\"sans-serif\" font-size=\"14\" font-weight=\"bold\" lengthAdjust=\"spacingAndGlyphs\" textLength=\"76\" x=\"20\" y=\"20.9951\">StateTest</text></a><g id=\"E1.E2\"><a href=\"psysml:408e0494-0708-476d-85d5-333a69b53e96\" target=\"_top\" title=\"psysml:408e0494-0708-476d-85d5-333a69b53e96\" xlink:actuate=\"onRequest\" xlink:href=\"psysml:408e0494-0708-476d-85d5-333a69b53e96\" xlink:show=\"new\" xlink:title=\"psysml:408e0494-0708-476d-85d5-333a69b53e96\" xlink:type=\"simple\"><rect fill=\"#FEFECE\" filter=\"url(#fnenykpd8vjhd)\" height=\"42.9375\" id=\"E2\" style=\"stroke: #A80036; stroke-width: 1.5;\" width=\"100\" x=\"460\" y=\"41\"/><text fill=\"#000000\" font-family=\"sans-serif\" font-size=\"12\" font-style=\"italic\" lengthAdjust=\"spacingAndGlyphs\" textLength=\"93\" x=\"463.5\" y=\"57.1387\">«attribute def»</text><text fill=\"#000000\" font-family=\"sans-serif\" font-size=\"12\" lengthAdjust=\"spacingAndGlyphs\" textLength=\"19\" x=\"500.5\" y=\"71.1074\">Sig</text></a></g><g id=\"E1.E3\"><a href=\"psysml:0109ef31-4e51-4de7-9ac0-eb82fbd89c67\" target=\"_top\" title=\"psysml:0109ef31-4e51-4de7-9ac0-eb82fbd89c67\" xlink:actuate=\"onRequest\" xlink:href=\"psysml:0109ef31-4e51-4de7-9ac0-eb82fbd89c67\" xlink:show=\"new\" xlink:title=\"psysml:0109ef31-4e51-4de7-9ac0-eb82fbd89c67\" xlink:type=\"simple\"><rect fill=\"#FEFECE\" filter=\"url(#fnenykpd8vjhd)\" height=\"42.9375\" id=\"E3\" style=\"stroke: #A80036; stroke-width: 1.5;\" width=\"100\" x=\"325\" y=\"41\"/><text fill=\"#000000\" font-family=\"sans-serif\" font-size=\"12\" font-style=\"italic\" lengthAdjust=\"spacingAndGlyphs\" textLength=\"93\" x=\"328.5\" y=\"57.1387\">«attribute def»</text><text fill=\"#000000\" font-family=\"sans-serif\" font-size=\"12\" lengthAdjust=\"spacingAndGlyphs\" textLength=\"22\" x=\"364\" y=\"71.1074\">Exit</text></a></g><g id=\"E1.E6\"><a href=\"psysml:0bc7341d-f31b-4869-a064-1af20ff16fcc\" target=\"_top\" title=\"psysml:0bc7341d-f31b-4869-a064-1af20ff16fcc\" xlink:actuate=\"onRequest\" xlink:href=\"psysml:0bc7341d-f31b-4869-a064-1af20ff16fcc\" xlink:show=\"new\" xlink:title=\"psysml:0bc7341d-f31b-4869-a064-1af20ff16fcc\" xlink:type=\"simple\"><rect fill=\"#FEFECE\" filter=\"url(#fnenykpd8vjhd)\" height=\"42.9375\" id=\"E6\" style=\"stroke: #A80036; stroke-width: 1.5;\" width=\"78\" x=\"212\" y=\"41\"/><text fill=\"#000000\" font-family=\"sans-serif\" font-size=\"12\" font-style=\"italic\" lengthAdjust=\"spacingAndGlyphs\" textLength=\"71\" x=\"215.5\" y=\"57.1387\">«state def»</text><text fill=\"#000000\" font-family=\"sans-serif\" font-size=\"12\" lengthAdjust=\"spacingAndGlyphs\" textLength=\"8\" x=\"247\" y=\"71.1074\">S</text></a></g><g id=\"E1.E4\"><a href=\"psysml:64a2c9fa-aa89-4eff-b01c-ff58906cbde0\" target=\"_top\" title=\"psysml:64a2c9fa-aa89-4eff-b01c-ff58906cbde0\" xlink:actuate=\"onRequest\" xlink:href=\"psysml:64a2c9fa-aa89-4eff-b01c-ff58906cbde0\" xlink:show=\"new\" xlink:title=\"psysml:64a2c9fa-aa89-4eff-b01c-ff58906cbde0\" xlink:type=\"simple\"><rect fill=\"#FEFECE\" filter=\"url(#fnenykpd8vjhd)\" height=\"40\" id=\"E4\" rx=\"10\" ry=\"10\" style=\"stroke: #A80036; stroke-width: 1.5;\" width=\"50\" x=\"127\" y=\"42.5\"/><text fill=\"#000000\" font-family=\"sans-serif\" font-size=\"12\" lengthAdjust=\"spacingAndGlyphs\" textLength=\"8\" x=\"148\" y=\"58.6387\">p</text></a></g><g id=\"E1.E5\"><a href=\"psysml:6519856a-88df-4cdc-a713-a9dddd16e281\" target=\"_top\" title=\"psysml:6519856a-88df-4cdc-a713-a9dddd16e281\" xlink:actuate=\"onRequest\" xlink:href=\"psysml:6519856a-88df-4cdc-a713-a9dddd16e281\" xlink:show=\"new\" xlink:title=\"psysml:6519856a-88df-4cdc-a713-a9dddd16e281\" xlink:type=\"simple\"><rect fill=\"#FEFECE\" filter=\"url(#fnenykpd8vjhd)\" height=\"42.9375\" id=\"E5\" rx=\"10\" ry=\"10\" style=\"stroke: #A80036; stroke-width: 1.5;\" width=\"60\" x=\"32\" y=\"41\"/><text fill=\"#000000\" font-family=\"sans-serif\" font-size=\"12\" font-style=\"italic\" lengthAdjust=\"spacingAndGlyphs\" textLength=\"53\" x=\"35.5\" y=\"57.1387\">«action»</text><text fill=\"#000000\" font-family=\"sans-serif\" font-size=\"12\" lengthAdjust=\"spacingAndGlyphs\" textLength=\"20\" x=\"52\" y=\"71.1074\">act</text></a></g><!--MD5=[2d6cee9d8b41add184b59257a72c4525]\n",
       "@startuml\r\n",
       "skinparam ranksep 8\r\n",
       "skinparam rectangle {\r\n",
       " backgroundColor<<block>> LightGreen\r\n",
       "}\r\n",
       "skinparam wrapWidth 300\r\n",
       "hide circle\r\n",
       "\r\n",
       "package \"StateTest\" as E1  [[psysml:5e99c5ac-660c-4bcd-ba7f-80dc44a07c9e ]]  {\r\n",
       "def \"Sig\" as E2  <<(T,blue)attribute def>> [[psysml:408e0494-0708-476d-85d5-333a69b53e96 ]] \r\n",
       "def \"Exit\" as E3  <<(T,blue)attribute def>> [[psysml:0109ef31-4e51-4de7-9ac0-eb82fbd89c67 ]] \r\n",
       "rec usage \"p\" as E4  [[psysml:64a2c9fa-aa89-4eff-b01c-ff58906cbde0 ]] {\r\n",
       "}\r\n",
       "rec usage \"act\" as E5  <<(T,blue)action>> [[psysml:6519856a-88df-4cdc-a713-a9dddd16e281 ]] {\r\n",
       "}\r\n",
       "def \"S\" as E6  <<(T,blue)state def>> [[psysml:0bc7341d-f31b-4869-a064-1af20ff16fcc ]] \r\n",
       "}\r\n",
       "@enduml\r\n",
       "\n",
       "PlantUML version 1.2020.13(Sat Jun 13 12:26:38 UTC 2020)\n",
       "(EPL source distribution)\n",
       "Java Runtime: OpenJDK Runtime Environment\n",
       "JVM: OpenJDK 64-Bit Server VM\n",
       "Default Encoding: UTF-8\n",
       "Language: en\n",
       "Country: null\n",
       "--></g></svg>"
      ]
     },
     "execution_count": 26,
     "metadata": {},
     "output_type": "execute_result"
    }
   ],
   "source": [
    "%viz --style=\"STDCOLOR\" --view=\"Interconnection\" \"StateTest\""
   ]
  },
  {
   "cell_type": "code",
   "execution_count": 27,
   "id": "silver-street",
   "metadata": {
    "execution": {
     "iopub.execute_input": "2021-03-26T13:02:46.727047Z",
     "iopub.status.busy": "2021-03-26T13:02:46.726487Z",
     "iopub.status.idle": "2021-03-26T13:02:46.738204Z",
     "shell.execute_reply": "2021-03-26T13:02:46.736594Z"
    }
   },
   "outputs": [
    {
     "data": {
      "image/svg+xml": [
       "<?xml version=\"1.0\" encoding=\"UTF-8\" standalone=\"no\"?><svg xmlns=\"http://www.w3.org/2000/svg\" xmlns:xlink=\"http://www.w3.org/1999/xlink\" contentScriptType=\"application/ecmascript\" contentStyleType=\"text/css\" height=\"418px\" preserveAspectRatio=\"none\" style=\"width:796px;height:418px;background:#000000;\" version=\"1.1\" viewBox=\"0 0 796 418\" width=\"796px\" zoomAndPan=\"magnify\"><defs/><g><rect fill=\"#16130E\" height=\"1\" style=\"stroke: #16130E; stroke-width: 1.0;\" width=\"1\" x=\"0\" y=\"0\"/><rect fill=\"#33FF02\" height=\"21.2969\" style=\"stroke: #33FF02; stroke-width: 1.0;\" width=\"789\" x=\"5\" y=\"5\"/><text fill=\"#000000\" font-family=\"sans-serif\" font-size=\"14\" font-weight=\"bold\" lengthAdjust=\"spacingAndGlyphs\" textLength=\"178\" x=\"6\" y=\"20\">[From string (line 22) ]</text><text fill=\"#33FF02\" font-family=\"sans-serif\" font-size=\"14\" font-weight=\"bold\" lengthAdjust=\"spacingAndGlyphs\" textLength=\"0\" x=\"10\" y=\"40.2969\"/><text fill=\"#33FF02\" font-family=\"sans-serif\" font-size=\"14\" font-weight=\"bold\" lengthAdjust=\"spacingAndGlyphs\" textLength=\"79\" x=\"5\" y=\"56.5938\">@startuml</text><text fill=\"#33FF02\" font-family=\"sans-serif\" font-size=\"14\" font-weight=\"bold\" lengthAdjust=\"spacingAndGlyphs\" textLength=\"165\" x=\"5\" y=\"72.8906\">skinparam ranksep 8</text><text fill=\"#33FF02\" font-family=\"sans-serif\" font-size=\"14\" font-weight=\"bold\" lengthAdjust=\"spacingAndGlyphs\" textLength=\"206\" x=\"5\" y=\"89.1875\">skinparam wrapWidth 300</text><text fill=\"#33FF02\" font-family=\"sans-serif\" font-size=\"14\" font-weight=\"bold\" lengthAdjust=\"spacingAndGlyphs\" textLength=\"82\" x=\"5\" y=\"105.4844\">hide circle</text><text fill=\"#33FF02\" font-family=\"sans-serif\" font-size=\"14\" font-weight=\"bold\" lengthAdjust=\"spacingAndGlyphs\" textLength=\"0\" x=\"10\" y=\"121.7813\"/><text fill=\"#33FF02\" font-family=\"sans-serif\" font-size=\"14\" font-weight=\"bold\" lengthAdjust=\"spacingAndGlyphs\" textLength=\"781\" x=\"5\" y=\"138.0781\">rec usage \"act\" as E1  &lt;&lt;(T,blue)action&gt;&gt; [[psysml:6519856a-88df-4cdc-a713-a9dddd16e281 ]] {</text><text fill=\"#33FF02\" font-family=\"sans-serif\" font-size=\"14\" font-weight=\"bold\" lengthAdjust=\"spacingAndGlyphs\" textLength=\"10\" x=\"5\" y=\"154.375\">}</text><text fill=\"#33FF02\" font-family=\"sans-serif\" font-size=\"14\" font-weight=\"bold\" lengthAdjust=\"spacingAndGlyphs\" textLength=\"0\" x=\"10\" y=\"170.6719\"/><text fill=\"#33FF02\" font-family=\"sans-serif\" font-size=\"14\" font-weight=\"bold\" lengthAdjust=\"spacingAndGlyphs\" textLength=\"752\" x=\"5\" y=\"186.9688\">rec def \"S\" as E2  &lt;&lt;(T,blue)state def&gt;&gt; [[psysml:0bc7341d-f31b-4869-a064-1af20ff16fcc ]] {</text><text fill=\"#33FF02\" font-family=\"sans-serif\" font-size=\"14\" font-weight=\"bold\" lengthAdjust=\"spacingAndGlyphs\" textLength=\"771\" x=\"5\" y=\"203.2656\">rec usage \"A\" as E3 &lt;&lt;perform action&gt;&gt; [[psysml:24ce981a-669a-4b1b-8e70-ec9679f168ba ]] {</text><text fill=\"#33FF02\" font-family=\"sans-serif\" font-size=\"14\" font-weight=\"bold\" lengthAdjust=\"spacingAndGlyphs\" textLength=\"10\" x=\"5\" y=\"219.5625\">}</text><text fill=\"#33FF02\" font-family=\"sans-serif\" font-size=\"14\" font-weight=\"bold\" lengthAdjust=\"spacingAndGlyphs\" textLength=\"0\" x=\"10\" y=\"235.8594\"/><text fill=\"#33FF02\" font-family=\"sans-serif\" font-size=\"14\" font-weight=\"bold\" lengthAdjust=\"spacingAndGlyphs\" textLength=\"773\" x=\"5\" y=\"252.1563\">rec usage \"B\" as E4 &lt;&lt;perform action&gt;&gt; [[psysml:0cb81d18-66e4-4e05-a75e-b6d7358364f8 ]] {</text><text fill=\"#33FF02\" font-family=\"sans-serif\" font-size=\"14\" font-weight=\"bold\" lengthAdjust=\"spacingAndGlyphs\" textLength=\"10\" x=\"5\" y=\"268.4531\">}</text><text fill=\"#33FF02\" font-family=\"sans-serif\" font-size=\"14\" font-weight=\"bold\" lengthAdjust=\"spacingAndGlyphs\" textLength=\"0\" x=\"10\" y=\"284.75\"/><text fill=\"#33FF02\" font-family=\"sans-serif\" font-size=\"14\" font-weight=\"bold\" lengthAdjust=\"spacingAndGlyphs\" textLength=\"789\" x=\"5\" y=\"301.0469\">rec usage \"act\" as E5 &lt;&lt;perform action&gt;&gt; [[psysml:3038242a-7c4d-4726-ae4e-c76791d4ee71 ]] {</text><text fill=\"#33FF02\" font-family=\"sans-serif\" font-size=\"14\" font-weight=\"bold\" lengthAdjust=\"spacingAndGlyphs\" textLength=\"10\" x=\"5\" y=\"317.3438\">}</text><text fill=\"#33FF02\" font-family=\"sans-serif\" font-size=\"14\" font-weight=\"bold\" lengthAdjust=\"spacingAndGlyphs\" textLength=\"0\" x=\"10\" y=\"333.6406\"/><text fill=\"#33FF02\" font-family=\"sans-serif\" font-size=\"14\" font-weight=\"bold\" lengthAdjust=\"spacingAndGlyphs\" textLength=\"769\" x=\"5\" y=\"349.9375\">rec usage \"S1\" as E6  &lt;&lt;(T,blue)state&gt;&gt; [[psysml:70242e19-3f56-46b0-b4b5-fd0d440c29ee ]] {</text><text fill=\"#33FF02\" font-family=\"sans-serif\" font-size=\"14\" font-weight=\"bold\" lengthAdjust=\"spacingAndGlyphs\" textLength=\"10\" x=\"5\" y=\"366.2344\">}</text><text fill=\"#33FF02\" font-family=\"sans-serif\" font-size=\"14\" font-weight=\"bold\" lengthAdjust=\"spacingAndGlyphs\" textLength=\"0\" x=\"10\" y=\"382.5313\"/><text fill=\"#33FF02\" font-family=\"sans-serif\" font-size=\"14\" font-weight=\"bold\" lengthAdjust=\"spacingAndGlyphs\" textLength=\"10\" x=\"5\" y=\"398.8281\">{</text><text fill=\"#FF0000\" font-family=\"sans-serif\" font-size=\"14\" font-weight=\"bold\" lengthAdjust=\"spacingAndGlyphs\" textLength=\"106\" x=\"10\" y=\"415.125\">Syntax Error?</text><!--MD5=[8926d79399e60f72c0702c4d6928fdb2]\n",
       "@startuml\r\n",
       "skinparam ranksep 8\r\n",
       "skinparam wrapWidth 300\r\n",
       "hide circle\r\n",
       "\r\n",
       "rec usage \"act\" as E1  <<(T,blue)action>> [[psysml:6519856a-88df-4cdc-a713-a9dddd16e281 ]] {\r\n",
       "}\r\n",
       "\r\n",
       "rec def \"S\" as E2  <<(T,blue)state def>> [[psysml:0bc7341d-f31b-4869-a064-1af20ff16fcc ]] {\r\n",
       "rec usage \"A\" as E3 <<perform action>> [[psysml:24ce981a-669a-4b1b-8e70-ec9679f168ba ]] {\r\n",
       "}\r\n",
       "\r\n",
       "rec usage \"B\" as E4 <<perform action>> [[psysml:0cb81d18-66e4-4e05-a75e-b6d7358364f8 ]] {\r\n",
       "}\r\n",
       "\r\n",
       "rec usage \"act\" as E5 <<perform action>> [[psysml:3038242a-7c4d-4726-ae4e-c76791d4ee71 ]] {\r\n",
       "}\r\n",
       "\r\n",
       "rec usage \"S1\" as E6  <<(T,blue)state>> [[psysml:70242e19-3f56-46b0-b4b5-fd0d440c29ee ]] {\r\n",
       "}\r\n",
       "\r\n",
       "{\r\n",
       "{\r\n",
       "}\r\n",
       "\r\n",
       "rec usage \"D\" as E7 <<perform action>> [[psysml:9fa67b9a-f55b-4b6f-8c3c-7583e77a313e ]] {\r\n",
       "}\r\n",
       "\r\n",
       "}\r\n",
       "\r\n",
       "rec usage \"S2\" as E8  <<(T,blue)state>> [[psysml:a085f23d-1115-47bd-987f-c38856471ed2 ]] {\r\n",
       "rec usage \"doAction\" as E9 <<send action>> [[psysml:cfc90439-05ae-44f8-b88d-04fe860fe407 ]] {\r\n",
       "portin \"$x\" as E10  [[psysml:ae5b5913-d198-445b-b606-f76bd72ed7d9 ]] \r\n",
       "portout \"$result\" as E11  [[psysml:f2619e5d-ad00-4b4a-a4fe-7cd7945e1b82 ]] \r\n",
       "}\r\n",
       "\r\n",
       "}\r\n",
       "\r\n",
       "{\r\n",
       "{\r\n",
       "}\r\n",
       "\r\n",
       "}\r\n",
       "\r\n",
       "rec usage \"T\" as E12  <<(T,blue)transition>> [[psysml:b2ce6d4b-1a56-4d0e-ade4-ffb9136266c2 ]] {\r\n",
       "rec usage \"S2\" as E13  <<(T,blue)state>> [[psysml:a085f23d-1115-47bd-987f-c38856471ed2 ]] {\r\n",
       "rec usage \"doAction\" as E14 <<send action>> [[psysml:cfc90439-05ae-44f8-b88d-04fe860fe407 ]] {\r\n",
       "portin \"$x\" as E15  [[psysml:ae5b5913-d198-445b-b606-f76bd72ed7d9 ]] \r\n",
       "portout \"$result\" as E16  [[psysml:f2619e5d-ad00-4b4a-a4fe-7cd7945e1b82 ]] \r\n",
       "}\r\n",
       "\r\n",
       "}\r\n",
       "\r\n",
       "{\r\n",
       "}\r\n",
       "\r\n",
       "portout \"$result\" as E17  [[psysml:9abbd064-7570-4e45-a029-f7befd203c67 ]] \r\n",
       "{\r\n",
       "}\r\n",
       "\r\n",
       "}\r\n",
       "\r\n",
       "}\r\n",
       "\r\n",
       "@enduml\r\n",
       "\n",
       "PlantUML version 1.2020.13(Sat Jun 13 12:26:38 UTC 2020)\n",
       "(EPL source distribution)\n",
       "Java Runtime: OpenJDK Runtime Environment\n",
       "JVM: OpenJDK 64-Bit Server VM\n",
       "Default Encoding: UTF-8\n",
       "Language: en\n",
       "Country: null\n",
       "--></g></svg>"
      ]
     },
     "execution_count": 27,
     "metadata": {},
     "output_type": "execute_result"
    }
   ],
   "source": [
    "%viz --style=\"STDCOLOR\" --view=\"Action\" \"StateTest\""
   ]
  },
  {
   "cell_type": "code",
   "execution_count": 28,
   "id": "hazardous-paintball",
   "metadata": {
    "execution": {
     "iopub.execute_input": "2021-03-26T13:02:46.788612Z",
     "iopub.status.busy": "2021-03-26T13:02:46.788199Z",
     "iopub.status.idle": "2021-03-26T13:02:46.911143Z",
     "shell.execute_reply": "2021-03-26T13:02:46.910789Z"
    }
   },
   "outputs": [
    {
     "data": {
      "image/svg+xml": [
       "<?xml version=\"1.0\" encoding=\"UTF-8\" standalone=\"no\"?><svg xmlns=\"http://www.w3.org/2000/svg\" xmlns:xlink=\"http://www.w3.org/1999/xlink\" contentScriptType=\"application/ecmascript\" contentStyleType=\"text/css\" height=\"471px\" preserveAspectRatio=\"none\" style=\"width:594px;height:471px;\" version=\"1.1\" viewBox=\"0 0 594 471\" width=\"594px\" zoomAndPan=\"magnify\"><defs><filter height=\"300%\" id=\"f1dyyepzpo90sj\" width=\"300%\" x=\"-1\" y=\"-1\"><feGaussianBlur result=\"blurOut\" stdDeviation=\"2.0\"/><feColorMatrix in=\"blurOut\" result=\"blurOut2\" type=\"matrix\" values=\"0 0 0 0 0 0 0 0 0 0 0 0 0 0 0 0 0 0 .4 0\"/><feOffset dx=\"4.0\" dy=\"4.0\" in=\"blurOut2\" result=\"blurOut3\"/><feBlend in=\"SourceGraphic\" in2=\"blurOut3\" mode=\"normal\"/></filter></defs><g><!--MD5=[fbc87193dbaf4d95561dea2c320d4a47]\n",
       "cluster E1--><a href=\"psysml:5e99c5ac-660c-4bcd-ba7f-80dc44a07c9e\" target=\"_top\" title=\"psysml:5e99c5ac-660c-4bcd-ba7f-80dc44a07c9e\" xlink:actuate=\"onRequest\" xlink:href=\"psysml:5e99c5ac-660c-4bcd-ba7f-80dc44a07c9e\" xlink:show=\"new\" xlink:title=\"psysml:5e99c5ac-660c-4bcd-ba7f-80dc44a07c9e\" xlink:type=\"simple\"><polygon fill=\"#FFFFFF\" filter=\"url(#f1dyyepzpo90sj)\" points=\"16,6,98,6,105,28.2969,572,28.2969,572,459,16,459,16,6\" style=\"stroke: #000000; stroke-width: 1.5;\"/><line style=\"stroke: #000000; stroke-width: 1.5;\" x1=\"16\" x2=\"105\" y1=\"28.2969\" y2=\"28.2969\"/><text fill=\"#000000\" font-family=\"sans-serif\" font-size=\"14\" font-weight=\"bold\" lengthAdjust=\"spacingAndGlyphs\" textLength=\"76\" x=\"20\" y=\"20.9951\">StateTest</text></a><!--MD5=[b4997ac47864f28c2f74865a473b2911]\n",
       "class E2--><a href=\"psysml:408e0494-0708-476d-85d5-333a69b53e96\" target=\"_top\" title=\"psysml:408e0494-0708-476d-85d5-333a69b53e96\" xlink:actuate=\"onRequest\" xlink:href=\"psysml:408e0494-0708-476d-85d5-333a69b53e96\" xlink:show=\"new\" xlink:title=\"psysml:408e0494-0708-476d-85d5-333a69b53e96\" xlink:type=\"simple\"><rect fill=\"#FEFECE\" filter=\"url(#f1dyyepzpo90sj)\" height=\"58.7422\" id=\"E2\" style=\"stroke: #A80036; stroke-width: 1.5;\" width=\"95\" x=\"460.5\" y=\"91.5\"/><text fill=\"#000000\" font-family=\"sans-serif\" font-size=\"12\" font-style=\"italic\" lengthAdjust=\"spacingAndGlyphs\" textLength=\"93\" x=\"461.5\" y=\"107.6387\">«attribute def»</text><text fill=\"#000000\" font-family=\"sans-serif\" font-size=\"12\" lengthAdjust=\"spacingAndGlyphs\" textLength=\"19\" x=\"498.5\" y=\"121.6074\">Sig</text><line style=\"stroke: #A80036; stroke-width: 1.5;\" x1=\"461.5\" x2=\"554.5\" y1=\"129.4375\" y2=\"129.4375\"/><text fill=\"#000000\" font-family=\"sans-serif\" font-size=\"11\" lengthAdjust=\"spacingAndGlyphs\" textLength=\"6\" x=\"466.5\" y=\"143.6479\">x</text></a><!--MD5=[09b614a08d8cba4a07c9adeb5e0fee81]\n",
       "class E3--><a href=\"psysml:0109ef31-4e51-4de7-9ac0-eb82fbd89c67\" target=\"_top\" title=\"psysml:0109ef31-4e51-4de7-9ac0-eb82fbd89c67\" xlink:actuate=\"onRequest\" xlink:href=\"psysml:0109ef31-4e51-4de7-9ac0-eb82fbd89c67\" xlink:show=\"new\" xlink:title=\"psysml:0109ef31-4e51-4de7-9ac0-eb82fbd89c67\" xlink:type=\"simple\"><rect fill=\"#FEFECE\" filter=\"url(#f1dyyepzpo90sj)\" height=\"45.9375\" id=\"E3\" style=\"stroke: #A80036; stroke-width: 1.5;\" width=\"95\" x=\"330.5\" y=\"98\"/><text fill=\"#000000\" font-family=\"sans-serif\" font-size=\"12\" font-style=\"italic\" lengthAdjust=\"spacingAndGlyphs\" textLength=\"93\" x=\"331.5\" y=\"114.1387\">«attribute def»</text><text fill=\"#000000\" font-family=\"sans-serif\" font-size=\"12\" lengthAdjust=\"spacingAndGlyphs\" textLength=\"22\" x=\"367\" y=\"128.1074\">Exit</text><line style=\"stroke: #A80036; stroke-width: 1.5;\" x1=\"331.5\" x2=\"424.5\" y1=\"135.9375\" y2=\"135.9375\"/></a><!--MD5=[ebbe1d658d1005bcc118a6aa81145e00]\n",
       "class E4--><a href=\"psysml:64a2c9fa-aa89-4eff-b01c-ff58906cbde0\" target=\"_top\" title=\"psysml:64a2c9fa-aa89-4eff-b01c-ff58906cbde0\" xlink:actuate=\"onRequest\" xlink:href=\"psysml:64a2c9fa-aa89-4eff-b01c-ff58906cbde0\" xlink:show=\"new\" xlink:title=\"psysml:64a2c9fa-aa89-4eff-b01c-ff58906cbde0\" xlink:type=\"simple\"><rect fill=\"#FEFECE\" filter=\"url(#f1dyyepzpo90sj)\" height=\"45.9375\" id=\"E4\" rx=\"10\" ry=\"10\" style=\"stroke: #A80036; stroke-width: 1.5;\" width=\"42\" x=\"253\" y=\"98\"/><text fill=\"#000000\" font-family=\"sans-serif\" font-size=\"12\" font-style=\"italic\" lengthAdjust=\"spacingAndGlyphs\" textLength=\"40\" x=\"254\" y=\"114.1387\">«part»</text><text fill=\"#000000\" font-family=\"sans-serif\" font-size=\"12\" lengthAdjust=\"spacingAndGlyphs\" textLength=\"8\" x=\"270\" y=\"128.1074\">p</text><line style=\"stroke: #A80036; stroke-width: 1.5;\" x1=\"254\" x2=\"294\" y1=\"135.9375\" y2=\"135.9375\"/></a><!--MD5=[270fce915f116d4de14055a7c1d9a0f3]\n",
       "class E5--><a href=\"psysml:6519856a-88df-4cdc-a713-a9dddd16e281\" target=\"_top\" title=\"psysml:6519856a-88df-4cdc-a713-a9dddd16e281\" xlink:actuate=\"onRequest\" xlink:href=\"psysml:6519856a-88df-4cdc-a713-a9dddd16e281\" xlink:show=\"new\" xlink:title=\"psysml:6519856a-88df-4cdc-a713-a9dddd16e281\" xlink:type=\"simple\"><rect fill=\"#FEFECE\" filter=\"url(#f1dyyepzpo90sj)\" height=\"45.9375\" id=\"E5\" rx=\"10\" ry=\"10\" style=\"stroke: #A80036; stroke-width: 1.5;\" width=\"55\" x=\"162.5\" y=\"98\"/><text fill=\"#000000\" font-family=\"sans-serif\" font-size=\"12\" font-style=\"italic\" lengthAdjust=\"spacingAndGlyphs\" textLength=\"53\" x=\"163.5\" y=\"114.1387\">«action»</text><text fill=\"#000000\" font-family=\"sans-serif\" font-size=\"12\" lengthAdjust=\"spacingAndGlyphs\" textLength=\"20\" x=\"180\" y=\"128.1074\">act</text><line style=\"stroke: #A80036; stroke-width: 1.5;\" x1=\"163.5\" x2=\"216.5\" y1=\"135.9375\" y2=\"135.9375\"/></a><!--MD5=[60a26617385b1d2d0262a64233df1f8d]\n",
       "class E6--><a href=\"psysml:0bc7341d-f31b-4869-a064-1af20ff16fcc\" target=\"_top\" title=\"psysml:0bc7341d-f31b-4869-a064-1af20ff16fcc\" xlink:actuate=\"onRequest\" xlink:href=\"psysml:0bc7341d-f31b-4869-a064-1af20ff16fcc\" xlink:show=\"new\" xlink:title=\"psysml:0bc7341d-f31b-4869-a064-1af20ff16fcc\" xlink:type=\"simple\"><rect fill=\"#FEFECE\" filter=\"url(#f1dyyepzpo90sj)\" height=\"160.375\" id=\"E6\" style=\"stroke: #A80036; stroke-width: 1.5;\" width=\"95\" x=\"32.5\" y=\"41\"/><text fill=\"#000000\" font-family=\"sans-serif\" font-size=\"12\" font-style=\"italic\" lengthAdjust=\"spacingAndGlyphs\" textLength=\"71\" x=\"44.5\" y=\"57.1387\">«state def»</text><text fill=\"#000000\" font-family=\"sans-serif\" font-size=\"12\" lengthAdjust=\"spacingAndGlyphs\" textLength=\"8\" x=\"76\" y=\"71.1074\">S</text><line style=\"stroke: #A80036; stroke-width: 1.5;\" x1=\"33.5\" x2=\"126.5\" y1=\"78.9375\" y2=\"78.9375\"/><text fill=\"#000000\" font-family=\"sans-serif\" font-size=\"11\" lengthAdjust=\"spacingAndGlyphs\" textLength=\"17\" x=\"38.5\" y=\"109.9526\">act</text><text fill=\"#000000\" font-family=\"sans-serif\" font-size=\"11\" lengthAdjust=\"spacingAndGlyphs\" textLength=\"7\" x=\"38.5\" y=\"122.7573\">A</text><text fill=\"#000000\" font-family=\"sans-serif\" font-size=\"11\" lengthAdjust=\"spacingAndGlyphs\" textLength=\"8\" x=\"38.5\" y=\"135.562\">B</text><line style=\"stroke: #A80036; stroke-width: 1.0;\" x1=\"33.5\" x2=\"36.5\" y1=\"93.3398\" y2=\"93.3398\"/><text fill=\"#000000\" font-family=\"sans-serif\" font-size=\"11\" lengthAdjust=\"spacingAndGlyphs\" textLength=\"87\" x=\"36.5\" y=\"96.6479\">performActions</text><line style=\"stroke: #A80036; stroke-width: 1.0;\" x1=\"123.5\" x2=\"126.5\" y1=\"93.3398\" y2=\"93.3398\"/><text fill=\"#000000\" font-family=\"sans-serif\" font-size=\"11\" lengthAdjust=\"spacingAndGlyphs\" textLength=\"15\" x=\"38.5\" y=\"165.1714\">S1</text><line style=\"stroke: #A80036; stroke-width: 1.0;\" x1=\"33.5\" x2=\"62\" y1=\"148.5586\" y2=\"148.5586\"/><text fill=\"#000000\" font-family=\"sans-serif\" font-size=\"11\" lengthAdjust=\"spacingAndGlyphs\" textLength=\"36\" x=\"62\" y=\"151.8667\">states</text><line style=\"stroke: #A80036; stroke-width: 1.0;\" x1=\"98\" x2=\"126.5\" y1=\"148.5586\" y2=\"148.5586\"/><text fill=\"#000000\" font-family=\"sans-serif\" font-size=\"11\" lengthAdjust=\"spacingAndGlyphs\" textLength=\"7\" x=\"38.5\" y=\"194.7808\">T</text><line style=\"stroke: #A80036; stroke-width: 1.0;\" x1=\"33.5\" x2=\"49.5\" y1=\"178.168\" y2=\"178.168\"/><text fill=\"#000000\" font-family=\"sans-serif\" font-size=\"11\" lengthAdjust=\"spacingAndGlyphs\" textLength=\"61\" x=\"49.5\" y=\"181.4761\">transitions</text><line style=\"stroke: #A80036; stroke-width: 1.0;\" x1=\"110.5\" x2=\"126.5\" y1=\"178.168\" y2=\"178.168\"/></a><!--MD5=[1dd1bfd58a279cf63c5f349dbc8fc6a1]\n",
       "class E11--><a href=\"psysml:a085f23d-1115-47bd-987f-c38856471ed2\" target=\"_top\" title=\"psysml:a085f23d-1115-47bd-987f-c38856471ed2\" xlink:actuate=\"onRequest\" xlink:href=\"psysml:a085f23d-1115-47bd-987f-c38856471ed2\" xlink:show=\"new\" xlink:title=\"psysml:a085f23d-1115-47bd-987f-c38856471ed2\" xlink:type=\"simple\"><rect fill=\"#FEFECE\" filter=\"url(#f1dyyepzpo90sj)\" height=\"45.9375\" id=\"E11\" rx=\"10\" ry=\"10\" style=\"stroke: #A80036; stroke-width: 1.5;\" width=\"49\" x=\"55.5\" y=\"261\"/><text fill=\"#000000\" font-family=\"sans-serif\" font-size=\"12\" font-style=\"italic\" lengthAdjust=\"spacingAndGlyphs\" textLength=\"47\" x=\"56.5\" y=\"277.1387\">«state»</text><text fill=\"#000000\" font-family=\"sans-serif\" font-size=\"12\" lengthAdjust=\"spacingAndGlyphs\" textLength=\"16\" x=\"72\" y=\"291.1074\">S2</text><line style=\"stroke: #A80036; stroke-width: 1.5;\" x1=\"56.5\" x2=\"103.5\" y1=\"298.9375\" y2=\"298.9375\"/></a><!--MD5=[49a0ec8f00dab7302a31f22d0f0fe584]\n",
       "class E12--><a href=\"psysml:cfc90439-05ae-44f8-b88d-04fe860fe407\" target=\"_top\" title=\"psysml:cfc90439-05ae-44f8-b88d-04fe860fe407\" xlink:actuate=\"onRequest\" xlink:href=\"psysml:cfc90439-05ae-44f8-b88d-04fe860fe407\" xlink:show=\"new\" xlink:title=\"psysml:cfc90439-05ae-44f8-b88d-04fe860fe407\" xlink:type=\"simple\"><rect fill=\"#FEFECE\" filter=\"url(#f1dyyepzpo90sj)\" height=\"75.5469\" id=\"E12\" rx=\"10\" ry=\"10\" style=\"stroke: #A80036; stroke-width: 1.5;\" width=\"90\" x=\"35\" y=\"367\"/><text fill=\"#000000\" font-family=\"sans-serif\" font-size=\"12\" font-style=\"italic\" lengthAdjust=\"spacingAndGlyphs\" textLength=\"88\" x=\"36\" y=\"383.1387\">«send action»</text><text fill=\"#000000\" font-family=\"sans-serif\" font-size=\"12\" lengthAdjust=\"spacingAndGlyphs\" textLength=\"55\" x=\"52.5\" y=\"397.1074\">doAction</text><line style=\"stroke: #A80036; stroke-width: 1.5;\" x1=\"36\" x2=\"124\" y1=\"404.9375\" y2=\"404.9375\"/><text fill=\"#000000\" font-family=\"sans-serif\" font-size=\"11\" lengthAdjust=\"spacingAndGlyphs\" textLength=\"25\" x=\"41\" y=\"435.9526\">item</text><line style=\"stroke: #A80036; stroke-width: 1.0;\" x1=\"36\" x2=\"42.5\" y1=\"419.3398\" y2=\"419.3398\"/><text fill=\"#000000\" font-family=\"sans-serif\" font-size=\"11\" lengthAdjust=\"spacingAndGlyphs\" textLength=\"75\" x=\"42.5\" y=\"422.6479\">itemFeatures</text><line style=\"stroke: #A80036; stroke-width: 1.0;\" x1=\"117.5\" x2=\"124\" y1=\"419.3398\" y2=\"419.3398\"/></a><!--MD5=[1f5f03483f7de0d5b3680a7f6650997f]\n",
       "reverse link E6 to E11--><a href=\"psysml:a085f23d-1115-47bd-987f-c38856471ed2\" target=\"_top\" title=\"psysml:a085f23d-1115-47bd-987f-c38856471ed2\" xlink:actuate=\"onRequest\" xlink:href=\"psysml:a085f23d-1115-47bd-987f-c38856471ed2\" xlink:show=\"new\" xlink:title=\"psysml:a085f23d-1115-47bd-987f-c38856471ed2\" xlink:type=\"simple\"><path d=\"M80,214.17 C80,231.58 80,248.25 80,260.82 \" fill=\"none\" id=\"E6&lt;-E11\" style=\"stroke: #A80036; stroke-width: 1.0;\"/><polygon fill=\"#A80036\" points=\"80,201.09,76.0066,207.0944,80.0132,213.09,84.0066,207.0856,80,201.09\" style=\"stroke: #A80036; stroke-width: 1.0;\"/></a><!--MD5=[94adabc162ce7e41b39f13be14fbaeb3]\n",
       "reverse link E11 to E12--><a href=\"psysml:cfc90439-05ae-44f8-b88d-04fe860fe407\" target=\"_top\" title=\"psysml:cfc90439-05ae-44f8-b88d-04fe860fe407\" xlink:actuate=\"onRequest\" xlink:href=\"psysml:cfc90439-05ae-44f8-b88d-04fe860fe407\" xlink:show=\"new\" xlink:title=\"psysml:cfc90439-05ae-44f8-b88d-04fe860fe407\" xlink:type=\"simple\"><path d=\"M80,320.23 C80,334.82 80,351.76 80,366.58 \" fill=\"none\" id=\"E11&lt;-E12\" style=\"stroke: #A80036; stroke-width: 1.0;\"/><polygon fill=\"#FFFFFF\" points=\"80,307.1,76,313.1,80,319.1,84,313.1,80,307.1\" style=\"stroke: #A80036; stroke-width: 1.0;\"/></a><!--MD5=[ef293a6bd9c74608544b43340f8a2bc4]\n",
       "@startuml\r\n",
       "skinparam wrapWidth 300\r\n",
       "hide circle\r\n",
       "\r\n",
       "package \"StateTest\" as E1  [[psysml:5e99c5ac-660c-4bcd-ba7f-80dc44a07c9e ]]  {\r\n",
       "comp def \"Sig\" as E2  <<(T,blue)attribute def>> [[psysml:408e0494-0708-476d-85d5-333a69b53e96 ]] {\r\n",
       "x\r\n",
       "}\r\n",
       "comp def \"Exit\" as E3  <<(T,blue)attribute def>> [[psysml:0109ef31-4e51-4de7-9ac0-eb82fbd89c67 ]] {\r\n",
       "}\r\n",
       "comp usage \"p\" as E4  <<(T,blue)part>> [[psysml:64a2c9fa-aa89-4eff-b01c-ff58906cbde0 ]] {\r\n",
       "}\r\n",
       "comp usage \"act\" as E5  <<(T,blue)action>> [[psysml:6519856a-88df-4cdc-a713-a9dddd16e281 ]] {\r\n",
       "}\r\n",
       "comp def \"S\" as E6  <<(T,blue)state def>> [[psysml:0bc7341d-f31b-4869-a064-1af20ff16fcc ]] {\r\n",
       "- - performActions - -\r\n",
       "act\r\n",
       "A\r\n",
       "B\r\n",
       "- - states - -\r\n",
       "S1\r\n",
       "- - transitions - -\r\n",
       "T\r\n",
       "}\r\n",
       "comp usage \"S2\" as E11  <<(T,blue)state>> [[psysml:a085f23d-1115-47bd-987f-c38856471ed2 ]] {\r\n",
       "}\r\n",
       "comp usage \"doAction\" as E12 <<send action>> [[psysml:cfc90439-05ae-44f8-b88d-04fe860fe407 ]] {\r\n",
       "- - itemFeatures - -\r\n",
       "item\r\n",
       "}\r\n",
       "E6 *- - E11 [[psysml:a085f23d-1115-47bd-987f-c38856471ed2 ]] \r\n",
       "E11 o- - E12 [[psysml:cfc90439-05ae-44f8-b88d-04fe860fe407 ]] \r\n",
       "}\r\n",
       "@enduml\r\n",
       "\n",
       "PlantUML version 1.2020.13(Sat Jun 13 12:26:38 UTC 2020)\n",
       "(EPL source distribution)\n",
       "Java Runtime: OpenJDK Runtime Environment\n",
       "JVM: OpenJDK 64-Bit Server VM\n",
       "Default Encoding: UTF-8\n",
       "Language: en\n",
       "Country: null\n",
       "--></g></svg>"
      ]
     },
     "execution_count": 28,
     "metadata": {},
     "output_type": "execute_result"
    }
   ],
   "source": [
    "%viz --style=\"STDCOLOR\" --view=\"Sequence\" \"StateTest\""
   ]
  },
  {
   "cell_type": "code",
   "execution_count": 29,
   "id": "sunrise-worse",
   "metadata": {
    "execution": {
     "iopub.execute_input": "2021-03-26T13:02:46.961453Z",
     "iopub.status.busy": "2021-03-26T13:02:46.961083Z",
     "iopub.status.idle": "2021-03-26T13:02:47.000457Z",
     "shell.execute_reply": "2021-03-26T13:02:47.000179Z"
    }
   },
   "outputs": [
    {
     "data": {
      "image/svg+xml": [
       "<?xml version=\"1.0\" encoding=\"UTF-8\" standalone=\"no\"?><svg xmlns=\"http://www.w3.org/2000/svg\" xmlns:xlink=\"http://www.w3.org/1999/xlink\" contentScriptType=\"application/ecmascript\" contentStyleType=\"text/css\" height=\"561px\" preserveAspectRatio=\"none\" style=\"width:819px;height:561px;\" version=\"1.1\" viewBox=\"0 0 819 561\" width=\"819px\" zoomAndPan=\"magnify\"><defs><filter height=\"300%\" id=\"f1ulssgoqze2m\" width=\"300%\" x=\"-1\" y=\"-1\"><feGaussianBlur result=\"blurOut\" stdDeviation=\"2.0\"/><feColorMatrix in=\"blurOut\" result=\"blurOut2\" type=\"matrix\" values=\"0 0 0 0 0 0 0 0 0 0 0 0 0 0 0 0 0 0 .4 0\"/><feOffset dx=\"4.0\" dy=\"4.0\" in=\"blurOut2\" result=\"blurOut3\"/><feBlend in=\"SourceGraphic\" in2=\"blurOut3\" mode=\"normal\"/></filter></defs><g><!--MD5=[fbc87193dbaf4d95561dea2c320d4a47]\n",
       "cluster E1--><a href=\"psysml:5e99c5ac-660c-4bcd-ba7f-80dc44a07c9e\" target=\"_top\" title=\"psysml:5e99c5ac-660c-4bcd-ba7f-80dc44a07c9e\" xlink:actuate=\"onRequest\" xlink:href=\"psysml:5e99c5ac-660c-4bcd-ba7f-80dc44a07c9e\" xlink:show=\"new\" xlink:title=\"psysml:5e99c5ac-660c-4bcd-ba7f-80dc44a07c9e\" xlink:type=\"simple\"><polygon fill=\"#FFFFFF\" filter=\"url(#f1ulssgoqze2m)\" points=\"16,6,98,6,105,28.2969,797,28.2969,797,549.5,16,549.5,16,6\" style=\"stroke: #000000; stroke-width: 1.5;\"/><line style=\"stroke: #000000; stroke-width: 1.5;\" x1=\"16\" x2=\"105\" y1=\"28.2969\" y2=\"28.2969\"/><text fill=\"#000000\" font-family=\"sans-serif\" font-size=\"14\" font-weight=\"bold\" lengthAdjust=\"spacingAndGlyphs\" textLength=\"76\" x=\"20\" y=\"20.9951\">StateTest</text></a><!--MD5=[14e3b0961a2654348d326746436168a1]\n",
       "cluster E6--><a href=\"psysml:0bc7341d-f31b-4869-a064-1af20ff16fcc\" target=\"_top\" title=\"psysml:0bc7341d-f31b-4869-a064-1af20ff16fcc\" xlink:actuate=\"onRequest\" xlink:href=\"psysml:0bc7341d-f31b-4869-a064-1af20ff16fcc\" xlink:show=\"new\" xlink:title=\"psysml:0bc7341d-f31b-4869-a064-1af20ff16fcc\" xlink:type=\"simple\"><rect fill=\"#FFFFFF\" filter=\"url(#f1ulssgoqze2m)\" height=\"476.5\" id=\"E6\" style=\"stroke: #A80036; stroke-width: 1.5;\" width=\"327\" x=\"446\" y=\"49\"/><rect fill=\"#FEFECE\" height=\"37.9375\" style=\"stroke: #A80036; stroke-width: 1.5;\" width=\"327\" x=\"446\" y=\"49\"/><text fill=\"#000000\" font-family=\"sans-serif\" font-size=\"12\" font-style=\"italic\" lengthAdjust=\"spacingAndGlyphs\" textLength=\"71\" x=\"574\" y=\"65.1387\">«state def»</text><text fill=\"#000000\" font-family=\"sans-serif\" font-size=\"12\" lengthAdjust=\"spacingAndGlyphs\" textLength=\"8\" x=\"605.5\" y=\"79.1074\">S</text><line style=\"stroke: #A80036; stroke-width: 1.0;\" x1=\"446\" x2=\"773\" y1=\"132.8438\" y2=\"132.8438\"/><text fill=\"#000000\" font-family=\"sans-serif\" font-size=\"12\" font-weight=\"bold\" lengthAdjust=\"spacingAndGlyphs\" textLength=\"38\" x=\"451\" y=\"100.0762\">entry</text><text fill=\"#000000\" font-family=\"sans-serif\" font-size=\"12\" lengthAdjust=\"spacingAndGlyphs\" textLength=\"16\" x=\"489\" y=\"100.0762\">/ A</text><text fill=\"#000000\" font-family=\"sans-serif\" font-size=\"12\" font-weight=\"bold\" lengthAdjust=\"spacingAndGlyphs\" textLength=\"18\" x=\"451\" y=\"114.0449\">do</text><text fill=\"#000000\" font-family=\"sans-serif\" font-size=\"12\" lengthAdjust=\"spacingAndGlyphs\" textLength=\"16\" x=\"469\" y=\"114.0449\">/ B</text><text fill=\"#000000\" font-family=\"sans-serif\" font-size=\"12\" font-weight=\"bold\" lengthAdjust=\"spacingAndGlyphs\" textLength=\"26\" x=\"451\" y=\"128.0137\">exit</text><text fill=\"#000000\" font-family=\"sans-serif\" font-size=\"12\" lengthAdjust=\"spacingAndGlyphs\" textLength=\"28\" x=\"477\" y=\"128.0137\">/ act</text></a><!--MD5=[b4997ac47864f28c2f74865a473b2911]\n",
       "class E2--><a href=\"psysml:408e0494-0708-476d-85d5-333a69b53e96\" target=\"_top\" title=\"psysml:408e0494-0708-476d-85d5-333a69b53e96\" xlink:actuate=\"onRequest\" xlink:href=\"psysml:408e0494-0708-476d-85d5-333a69b53e96\" xlink:show=\"new\" xlink:title=\"psysml:408e0494-0708-476d-85d5-333a69b53e96\" xlink:type=\"simple\"><rect fill=\"#FEFECE\" filter=\"url(#f1ulssgoqze2m)\" height=\"58.7422\" id=\"E2\" style=\"stroke: #A80036; stroke-width: 1.5;\" width=\"95\" x=\"334.5\" y=\"127.5\"/><text fill=\"#000000\" font-family=\"sans-serif\" font-size=\"12\" font-style=\"italic\" lengthAdjust=\"spacingAndGlyphs\" textLength=\"93\" x=\"335.5\" y=\"143.6387\">«attribute def»</text><text fill=\"#000000\" font-family=\"sans-serif\" font-size=\"12\" lengthAdjust=\"spacingAndGlyphs\" textLength=\"19\" x=\"372.5\" y=\"157.6074\">Sig</text><line style=\"stroke: #A80036; stroke-width: 1.5;\" x1=\"335.5\" x2=\"428.5\" y1=\"165.4375\" y2=\"165.4375\"/><text fill=\"#000000\" font-family=\"sans-serif\" font-size=\"11\" lengthAdjust=\"spacingAndGlyphs\" textLength=\"6\" x=\"340.5\" y=\"179.6479\">x</text></a><!--MD5=[09b614a08d8cba4a07c9adeb5e0fee81]\n",
       "class E3--><a href=\"psysml:0109ef31-4e51-4de7-9ac0-eb82fbd89c67\" target=\"_top\" title=\"psysml:0109ef31-4e51-4de7-9ac0-eb82fbd89c67\" xlink:actuate=\"onRequest\" xlink:href=\"psysml:0109ef31-4e51-4de7-9ac0-eb82fbd89c67\" xlink:show=\"new\" xlink:title=\"psysml:0109ef31-4e51-4de7-9ac0-eb82fbd89c67\" xlink:type=\"simple\"><rect fill=\"#FEFECE\" filter=\"url(#f1ulssgoqze2m)\" height=\"45.9375\" id=\"E3\" style=\"stroke: #A80036; stroke-width: 1.5;\" width=\"95\" x=\"204.5\" y=\"134\"/><text fill=\"#000000\" font-family=\"sans-serif\" font-size=\"12\" font-style=\"italic\" lengthAdjust=\"spacingAndGlyphs\" textLength=\"93\" x=\"205.5\" y=\"150.1387\">«attribute def»</text><text fill=\"#000000\" font-family=\"sans-serif\" font-size=\"12\" lengthAdjust=\"spacingAndGlyphs\" textLength=\"22\" x=\"241\" y=\"164.1074\">Exit</text><line style=\"stroke: #A80036; stroke-width: 1.5;\" x1=\"205.5\" x2=\"298.5\" y1=\"171.9375\" y2=\"171.9375\"/></a><!--MD5=[ebbe1d658d1005bcc118a6aa81145e00]\n",
       "class E4--><a href=\"psysml:64a2c9fa-aa89-4eff-b01c-ff58906cbde0\" target=\"_top\" title=\"psysml:64a2c9fa-aa89-4eff-b01c-ff58906cbde0\" xlink:actuate=\"onRequest\" xlink:href=\"psysml:64a2c9fa-aa89-4eff-b01c-ff58906cbde0\" xlink:show=\"new\" xlink:title=\"psysml:64a2c9fa-aa89-4eff-b01c-ff58906cbde0\" xlink:type=\"simple\"><rect fill=\"#FEFECE\" filter=\"url(#f1ulssgoqze2m)\" height=\"45.9375\" id=\"E4\" rx=\"10\" ry=\"10\" style=\"stroke: #A80036; stroke-width: 1.5;\" width=\"42\" x=\"127\" y=\"134\"/><text fill=\"#000000\" font-family=\"sans-serif\" font-size=\"12\" font-style=\"italic\" lengthAdjust=\"spacingAndGlyphs\" textLength=\"40\" x=\"128\" y=\"150.1387\">«part»</text><text fill=\"#000000\" font-family=\"sans-serif\" font-size=\"12\" lengthAdjust=\"spacingAndGlyphs\" textLength=\"8\" x=\"144\" y=\"164.1074\">p</text><line style=\"stroke: #A80036; stroke-width: 1.5;\" x1=\"128\" x2=\"168\" y1=\"171.9375\" y2=\"171.9375\"/></a><g id=\"E1.E5\"><a href=\"psysml:6519856a-88df-4cdc-a713-a9dddd16e281\" target=\"_top\" title=\"psysml:6519856a-88df-4cdc-a713-a9dddd16e281\" xlink:actuate=\"onRequest\" xlink:href=\"psysml:6519856a-88df-4cdc-a713-a9dddd16e281\" xlink:show=\"new\" xlink:title=\"psysml:6519856a-88df-4cdc-a713-a9dddd16e281\" xlink:type=\"simple\"><rect fill=\"#FEFECE\" filter=\"url(#f1ulssgoqze2m)\" height=\"42.9375\" id=\"E5\" rx=\"10\" ry=\"10\" style=\"stroke: #A80036; stroke-width: 1.5;\" width=\"60\" x=\"32\" y=\"135.5\"/><text fill=\"#000000\" font-family=\"sans-serif\" font-size=\"12\" font-style=\"italic\" lengthAdjust=\"spacingAndGlyphs\" textLength=\"53\" x=\"35.5\" y=\"151.6387\">«action»</text><text fill=\"#000000\" font-family=\"sans-serif\" font-size=\"12\" lengthAdjust=\"spacingAndGlyphs\" textLength=\"20\" x=\"52\" y=\"165.6074\">act</text></a></g><ellipse cx=\"558\" cy=\"157\" fill=\"#000000\" filter=\"url(#f1ulssgoqze2m)\" rx=\"10\" ry=\"10\" style=\"stroke: none; stroke-width: 1.0;\"/><ellipse cx=\"558\" cy=\"499.5\" fill=\"none\" filter=\"url(#f1ulssgoqze2m)\" rx=\"10\" ry=\"10\" style=\"stroke: #000000; stroke-width: 1.0;\"/><ellipse cx=\"558.5\" cy=\"500\" fill=\"#000000\" rx=\"6\" ry=\"6\" style=\"stroke: none; stroke-width: 1.0;\"/><g id=\"E1.E6.E7\"><a href=\"psysml:70242e19-3f56-46b0-b4b5-fd0d440c29ee\" target=\"_top\" title=\"psysml:70242e19-3f56-46b0-b4b5-fd0d440c29ee\" xlink:actuate=\"onRequest\" xlink:href=\"psysml:70242e19-3f56-46b0-b4b5-fd0d440c29ee\" xlink:show=\"new\" xlink:title=\"psysml:70242e19-3f56-46b0-b4b5-fd0d440c29ee\" xlink:type=\"simple\"><rect fill=\"#FEFECE\" filter=\"url(#f1ulssgoqze2m)\" height=\"40\" id=\"E7\" rx=\"10\" ry=\"10\" style=\"stroke: #A80036; stroke-width: 1.5;\" width=\"50\" x=\"533\" y=\"247.5\"/><text fill=\"#000000\" font-family=\"sans-serif\" font-size=\"12\" lengthAdjust=\"spacingAndGlyphs\" textLength=\"16\" x=\"550\" y=\"263.6387\">S1</text></a></g><g id=\"E1.E6.E8\"><a href=\"psysml:a085f23d-1115-47bd-987f-c38856471ed2\" target=\"_top\" title=\"psysml:a085f23d-1115-47bd-987f-c38856471ed2\" xlink:actuate=\"onRequest\" xlink:href=\"psysml:a085f23d-1115-47bd-987f-c38856471ed2\" xlink:show=\"new\" xlink:title=\"psysml:a085f23d-1115-47bd-987f-c38856471ed2\" xlink:type=\"simple\"><rect fill=\"#FEFECE\" filter=\"url(#f1ulssgoqze2m)\" height=\"47.9375\" id=\"E8\" rx=\"10\" ry=\"10\" style=\"stroke: #A80036; stroke-width: 1.5;\" width=\"50\" x=\"533\" y=\"364.5\"/><text fill=\"#000000\" font-family=\"sans-serif\" font-size=\"12\" lengthAdjust=\"spacingAndGlyphs\" textLength=\"16\" x=\"550\" y=\"380.6387\">S2</text><line style=\"stroke: #A80036; stroke-width: 1.0;\" x1=\"533\" x2=\"583\" y1=\"388.4688\" y2=\"388.4688\"/><text fill=\"#000000\" font-family=\"sans-serif\" font-size=\"12\" font-weight=\"bold\" lengthAdjust=\"spacingAndGlyphs\" textLength=\"18\" x=\"538\" y=\"401.6074\">do</text><text fill=\"#000000\" font-family=\"sans-serif\" font-size=\"12\" lengthAdjust=\"spacingAndGlyphs\" textLength=\"4\" x=\"556\" y=\"401.6074\">/</text></a></g><!--MD5=[5a531d3a85f3339e6e197084acb48195]\n",
       "link *start*E6 to E7--><a href=\"psysml:43d9c4f9-ed20-4c00-a0b0-be6dc49a6894\" target=\"_top\" title=\"psysml:43d9c4f9-ed20-4c00-a0b0-be6dc49a6894\" xlink:actuate=\"onRequest\" xlink:href=\"psysml:43d9c4f9-ed20-4c00-a0b0-be6dc49a6894\" xlink:show=\"new\" xlink:title=\"psysml:43d9c4f9-ed20-4c00-a0b0-be6dc49a6894\" xlink:type=\"simple\"><path d=\"M558,167.25 C558,183.64 558,218.28 558,241.97 \" fill=\"none\" id=\"*start*E6-&gt;E7\" style=\"stroke: #A80036; stroke-width: 1.0;\"/><polygon fill=\"#A80036\" points=\"558,247.15,562,238.15,558,242.15,554,238.15,558,247.15\" style=\"stroke: #A80036; stroke-width: 1.0;\"/></a><!--MD5=[7ec9a8babba89ddcae1318ca9fb3c814]\n",
       "link E8 to *end*E6--><a href=\"psysml:f955b7ee-57f2-4e8a-b602-a443c9a31c83\" target=\"_top\" title=\"psysml:f955b7ee-57f2-4e8a-b602-a443c9a31c83\" xlink:actuate=\"onRequest\" xlink:href=\"psysml:f955b7ee-57f2-4e8a-b602-a443c9a31c83\" xlink:show=\"new\" xlink:title=\"psysml:f955b7ee-57f2-4e8a-b602-a443c9a31c83\" xlink:type=\"simple\"><path d=\"M558,412.62 C558,434.25 558,465.89 558,484.12 \" fill=\"none\" id=\"E8-&gt;*end*E6\" style=\"stroke: #A80036; stroke-width: 1.0;\"/><polygon fill=\"#A80036\" points=\"558,489.32,562,480.32,558,484.32,554,480.32,558,489.32\" style=\"stroke: #A80036; stroke-width: 1.0;\"/><text fill=\"#000000\" font-family=\"sans-serif\" font-size=\"13\" lengthAdjust=\"spacingAndGlyphs\" textLength=\"23\" x=\"559\" y=\"455.5669\">Exit</text></a><!--MD5=[79bc8f324ef4d02c541433f2e6e513c3]\n",
       "link E7 to E8--><a href=\"psysml:d37fdc60-36d2-41f0-83fe-622a63ffc619\" target=\"_top\" title=\"psysml:d37fdc60-36d2-41f0-83fe-622a63ffc619\" xlink:actuate=\"onRequest\" xlink:href=\"psysml:d37fdc60-36d2-41f0-83fe-622a63ffc619\" xlink:show=\"new\" xlink:title=\"psysml:d37fdc60-36d2-41f0-83fe-622a63ffc619\" xlink:type=\"simple\"><path d=\"M532.93,280.38 C518.69,288.62 502.12,301.06 494,317.5 C483.11,339.55 506.72,359.7 528.27,372.66 \" fill=\"none\" id=\"E7-&gt;E8\" style=\"stroke: #A80036; stroke-width: 1.0;\"/><polygon fill=\"#A80036\" points=\"532.83,375.32,527.0682,367.3324,528.5101,372.8024,523.0401,374.2443,532.83,375.32\" style=\"stroke: #A80036; stroke-width: 1.0;\"/><text fill=\"#000000\" font-family=\"sans-serif\" font-size=\"13\" lengthAdjust=\"spacingAndGlyphs\" textLength=\"81\" x=\"495\" y=\"330.5669\">Sig /action D</text></a><!--MD5=[bfa3c8b0d15052fdf50ae9310b491027]\n",
       "link E8 to E7--><a href=\"psysml:b2ce6d4b-1a56-4d0e-ade4-ffb9136266c2\" target=\"_top\" title=\"psysml:b2ce6d4b-1a56-4d0e-ade4-ffb9136266c2\" xlink:actuate=\"onRequest\" xlink:href=\"psysml:b2ce6d4b-1a56-4d0e-ade4-ffb9136266c2\" xlink:show=\"new\" xlink:title=\"psysml:b2ce6d4b-1a56-4d0e-ade4-ffb9136266c2\" xlink:type=\"simple\"><path d=\"M572.17,364.49 C578.81,350.98 584.56,333.48 581,317.5 C579.1,308.99 575.56,300.22 571.82,292.49 \" fill=\"none\" id=\"E8-&gt;E7\" style=\"stroke: #A80036; stroke-width: 1.0;\"/><polygon fill=\"#A80036\" points=\"569.47,287.82,569.9298,297.6581,571.7118,292.2893,577.0806,294.0713,569.47,287.82\" style=\"stroke: #A80036; stroke-width: 1.0;\"/><text fill=\"#000000\" font-family=\"sans-serif\" font-size=\"13\" lengthAdjust=\"spacingAndGlyphs\" textLength=\"135\" x=\"583\" y=\"330.5669\">Sig [true]/send s to p</text></a><!--MD5=[1392eb5821ffa10ead3ad01e2239c3cf]\n",
       "@startuml\r\n",
       "skinparam wrapWidth 300\r\n",
       "hide circle\r\n",
       "\r\n",
       "package \"StateTest\" as E1  [[psysml:5e99c5ac-660c-4bcd-ba7f-80dc44a07c9e ]]  {\r\n",
       "comp def \"Sig\" as E2  <<(T,blue)attribute def>> [[psysml:408e0494-0708-476d-85d5-333a69b53e96 ]] {\r\n",
       "x\r\n",
       "}\r\n",
       "comp def \"Exit\" as E3  <<(T,blue)attribute def>> [[psysml:0109ef31-4e51-4de7-9ac0-eb82fbd89c67 ]] {\r\n",
       "}\r\n",
       "comp usage \"p\" as E4  <<(T,blue)part>> [[psysml:64a2c9fa-aa89-4eff-b01c-ff58906cbde0 ]] {\r\n",
       "}\r\n",
       "rec usage \"act\" as E5  <<(T,blue)action>> [[psysml:6519856a-88df-4cdc-a713-a9dddd16e281 ]] {\r\n",
       "}\r\n",
       "\r\n",
       "rec def \"S\" as E6  <<(T,blue)state def>> [[psysml:0bc7341d-f31b-4869-a064-1af20ff16fcc ]] {\r\n",
       "rec usage \"S1\" as E7 [[psysml:70242e19-3f56-46b0-b4b5-fd0d440c29ee ]] {\r\n",
       "}\r\n",
       "\r\n",
       "rec usage \"S2\" as E8 [[psysml:a085f23d-1115-47bd-987f-c38856471ed2 ]] {\r\n",
       "desc \"S2\" as E8  : **do**/ \r\n",
       "}\r\n",
       "\r\n",
       "[*] - -> E7 [[psysml:43d9c4f9-ed20-4c00-a0b0-be6dc49a6894 ]] \r\n",
       "E8  - -> [*] [[psysml:f955b7ee-57f2-4e8a-b602-a443c9a31c83 ]] : Exit \r\n",
       "desc \"S\" as E6  : **entry**/ A\r\n",
       "desc \"S\" as E6  : **do**/ B\r\n",
       "desc \"S\" as E6  : **exit**/ act \r\n",
       "}\r\n",
       "\r\n",
       "E7  - -> E8 [[psysml:d37fdc60-36d2-41f0-83fe-622a63ffc619 ]] : Sig /action D\r\n",
       "E8  - -> E7 [[psysml:b2ce6d4b-1a56-4d0e-ade4-ffb9136266c2 ]] : Sig [true]/send s to p\r\n",
       "}\r\n",
       "@enduml\r\n",
       "\n",
       "PlantUML version 1.2020.13(Sat Jun 13 12:26:38 UTC 2020)\n",
       "(EPL source distribution)\n",
       "Java Runtime: OpenJDK Runtime Environment\n",
       "JVM: OpenJDK 64-Bit Server VM\n",
       "Default Encoding: UTF-8\n",
       "Language: en\n",
       "Country: null\n",
       "--></g></svg>"
      ]
     },
     "execution_count": 29,
     "metadata": {},
     "output_type": "execute_result"
    }
   ],
   "source": [
    "%viz --style=\"STDCOLOR\" --view=\"MIXED\" \"StateTest\""
   ]
  },
  {
   "cell_type": "code",
   "execution_count": 30,
   "id": "worldwide-slovak",
   "metadata": {
    "execution": {
     "iopub.execute_input": "2021-03-26T13:02:47.050495Z",
     "iopub.status.busy": "2021-03-26T13:02:47.050129Z",
     "iopub.status.idle": "2021-03-26T13:02:47.116233Z",
     "shell.execute_reply": "2021-03-26T13:02:47.115440Z"
    }
   },
   "outputs": [
    {
     "data": {
      "image/svg+xml": [
       "<?xml version=\"1.0\" encoding=\"UTF-8\" standalone=\"no\"?><svg xmlns=\"http://www.w3.org/2000/svg\" xmlns:xlink=\"http://www.w3.org/1999/xlink\" contentScriptType=\"application/ecmascript\" contentStyleType=\"text/css\" height=\"569px\" preserveAspectRatio=\"none\" style=\"width:923px;height:569px;\" version=\"1.1\" viewBox=\"0 0 923 569\" width=\"923px\" zoomAndPan=\"magnify\"><defs><filter height=\"300%\" id=\"f5z03mjwn5hqi\" width=\"300%\" x=\"-1\" y=\"-1\"><feGaussianBlur result=\"blurOut\" stdDeviation=\"2.0\"/><feColorMatrix in=\"blurOut\" result=\"blurOut2\" type=\"matrix\" values=\"0 0 0 0 0 0 0 0 0 0 0 0 0 0 0 0 0 0 .4 0\"/><feOffset dx=\"4.0\" dy=\"4.0\" in=\"blurOut2\" result=\"blurOut3\"/><feBlend in=\"SourceGraphic\" in2=\"blurOut3\" mode=\"normal\"/></filter></defs><g><!--MD5=[fbc87193dbaf4d95561dea2c320d4a47]\n",
       "cluster E1--><a href=\"psysml:5e99c5ac-660c-4bcd-ba7f-80dc44a07c9e\" target=\"_top\" title=\"psysml:5e99c5ac-660c-4bcd-ba7f-80dc44a07c9e\" xlink:actuate=\"onRequest\" xlink:href=\"psysml:5e99c5ac-660c-4bcd-ba7f-80dc44a07c9e\" xlink:show=\"new\" xlink:title=\"psysml:5e99c5ac-660c-4bcd-ba7f-80dc44a07c9e\" xlink:type=\"simple\"><polygon fill=\"#FFFFFF\" filter=\"url(#f5z03mjwn5hqi)\" points=\"16,6,98,6,105,28.2969,901,28.2969,901,557.5,16,557.5,16,6\" style=\"stroke: #000000; stroke-width: 1.5;\"/><line style=\"stroke: #000000; stroke-width: 1.5;\" x1=\"16\" x2=\"105\" y1=\"28.2969\" y2=\"28.2969\"/><text fill=\"#000000\" font-family=\"sans-serif\" font-size=\"14\" font-weight=\"bold\" lengthAdjust=\"spacingAndGlyphs\" textLength=\"76\" x=\"20\" y=\"20.9951\">StateTest</text></a><!--MD5=[14e3b0961a2654348d326746436168a1]\n",
       "cluster E6--><a href=\"psysml:0bc7341d-f31b-4869-a064-1af20ff16fcc\" target=\"_top\" title=\"psysml:0bc7341d-f31b-4869-a064-1af20ff16fcc\" xlink:actuate=\"onRequest\" xlink:href=\"psysml:0bc7341d-f31b-4869-a064-1af20ff16fcc\" xlink:show=\"new\" xlink:title=\"psysml:0bc7341d-f31b-4869-a064-1af20ff16fcc\" xlink:type=\"simple\"><rect fill=\"#FFFFFF\" filter=\"url(#f5z03mjwn5hqi)\" height=\"484.5\" id=\"E6\" style=\"stroke: #A80036; stroke-width: 1.5;\" width=\"327\" x=\"550\" y=\"49\"/><rect fill=\"#FEFECE\" height=\"37.9375\" style=\"stroke: #A80036; stroke-width: 1.5;\" width=\"327\" x=\"550\" y=\"49\"/><text fill=\"#000000\" font-family=\"sans-serif\" font-size=\"12\" font-style=\"italic\" lengthAdjust=\"spacingAndGlyphs\" textLength=\"71\" x=\"678\" y=\"65.1387\">«state def»</text><text fill=\"#000000\" font-family=\"sans-serif\" font-size=\"12\" lengthAdjust=\"spacingAndGlyphs\" textLength=\"8\" x=\"709.5\" y=\"79.1074\">S</text><line style=\"stroke: #A80036; stroke-width: 1.0;\" x1=\"550\" x2=\"877\" y1=\"132.8438\" y2=\"132.8438\"/><text fill=\"#000000\" font-family=\"sans-serif\" font-size=\"12\" font-weight=\"bold\" lengthAdjust=\"spacingAndGlyphs\" textLength=\"38\" x=\"555\" y=\"100.0762\">entry</text><text fill=\"#000000\" font-family=\"sans-serif\" font-size=\"12\" lengthAdjust=\"spacingAndGlyphs\" textLength=\"16\" x=\"593\" y=\"100.0762\">/ A</text><text fill=\"#000000\" font-family=\"sans-serif\" font-size=\"12\" font-weight=\"bold\" lengthAdjust=\"spacingAndGlyphs\" textLength=\"18\" x=\"555\" y=\"114.0449\">do</text><text fill=\"#000000\" font-family=\"sans-serif\" font-size=\"12\" lengthAdjust=\"spacingAndGlyphs\" textLength=\"16\" x=\"573\" y=\"114.0449\">/ B</text><text fill=\"#000000\" font-family=\"sans-serif\" font-size=\"12\" font-weight=\"bold\" lengthAdjust=\"spacingAndGlyphs\" textLength=\"26\" x=\"555\" y=\"128.0137\">exit</text><text fill=\"#000000\" font-family=\"sans-serif\" font-size=\"12\" lengthAdjust=\"spacingAndGlyphs\" textLength=\"28\" x=\"581\" y=\"128.0137\">/ act</text></a><!--MD5=[b4997ac47864f28c2f74865a473b2911]\n",
       "class E2--><a href=\"psysml:408e0494-0708-476d-85d5-333a69b53e96\" target=\"_top\" title=\"psysml:408e0494-0708-476d-85d5-333a69b53e96\" xlink:actuate=\"onRequest\" xlink:href=\"psysml:408e0494-0708-476d-85d5-333a69b53e96\" xlink:show=\"new\" xlink:title=\"psysml:408e0494-0708-476d-85d5-333a69b53e96\" xlink:type=\"simple\"><rect fill=\"#FEFECE\" filter=\"url(#f5z03mjwn5hqi)\" height=\"58.7422\" id=\"E2\" style=\"stroke: #A80036; stroke-width: 1.5;\" width=\"121\" x=\"412.5\" y=\"127.5\"/><ellipse cx=\"427.5\" cy=\"146.4688\" fill=\"#A52A2A\" rx=\"11\" ry=\"11\" style=\"stroke: #A80036; stroke-width: 1.0;\"/><path d=\"M427.0938,142.2813 L427.0938,150.2656 L427.75,150.2656 Q429.1875,150.2656 429.7969,149.3594 Q430.4219,148.4375 430.4219,146.2656 Q430.4219,144.0938 429.7969,143.1875 Q429.1875,142.2813 427.75,142.2813 L427.0938,142.2813 Z M424.6406,140.0781 L427.2656,140.0781 Q430.2969,140.0781 431.625,141.5313 Q432.9688,142.9688 432.9688,146.2656 Q432.9688,149.5625 431.625,151.0156 Q430.2969,152.4688 427.2656,152.4688 L424.6406,152.4688 L424.6406,140.0781 Z \"/><text fill=\"#000000\" font-family=\"sans-serif\" font-size=\"12\" font-style=\"italic\" lengthAdjust=\"spacingAndGlyphs\" textLength=\"93\" x=\"439.5\" y=\"143.6387\">«attribute def»</text><text fill=\"#000000\" font-family=\"sans-serif\" font-size=\"12\" lengthAdjust=\"spacingAndGlyphs\" textLength=\"19\" x=\"476.5\" y=\"157.6074\">Sig</text><line style=\"stroke: #A80036; stroke-width: 1.5;\" x1=\"413.5\" x2=\"532.5\" y1=\"165.4375\" y2=\"165.4375\"/><text fill=\"#000000\" font-family=\"sans-serif\" font-size=\"11\" lengthAdjust=\"spacingAndGlyphs\" textLength=\"6\" x=\"418.5\" y=\"179.6479\">x</text></a><!--MD5=[09b614a08d8cba4a07c9adeb5e0fee81]\n",
       "class E3--><a href=\"psysml:0109ef31-4e51-4de7-9ac0-eb82fbd89c67\" target=\"_top\" title=\"psysml:0109ef31-4e51-4de7-9ac0-eb82fbd89c67\" xlink:actuate=\"onRequest\" xlink:href=\"psysml:0109ef31-4e51-4de7-9ac0-eb82fbd89c67\" xlink:show=\"new\" xlink:title=\"psysml:0109ef31-4e51-4de7-9ac0-eb82fbd89c67\" xlink:type=\"simple\"><rect fill=\"#FEFECE\" filter=\"url(#f5z03mjwn5hqi)\" height=\"45.9375\" id=\"E3\" style=\"stroke: #A80036; stroke-width: 1.5;\" width=\"121\" x=\"256.5\" y=\"134\"/><ellipse cx=\"271.5\" cy=\"152.9688\" fill=\"#A52A2A\" rx=\"11\" ry=\"11\" style=\"stroke: #A80036; stroke-width: 1.0;\"/><path d=\"M271.0938,148.7813 L271.0938,156.7656 L271.75,156.7656 Q273.1875,156.7656 273.7969,155.8594 Q274.4219,154.9375 274.4219,152.7656 Q274.4219,150.5938 273.7969,149.6875 Q273.1875,148.7813 271.75,148.7813 L271.0938,148.7813 Z M268.6406,146.5781 L271.2656,146.5781 Q274.2969,146.5781 275.625,148.0313 Q276.9688,149.4688 276.9688,152.7656 Q276.9688,156.0625 275.625,157.5156 Q274.2969,158.9688 271.2656,158.9688 L268.6406,158.9688 L268.6406,146.5781 Z \"/><text fill=\"#000000\" font-family=\"sans-serif\" font-size=\"12\" font-style=\"italic\" lengthAdjust=\"spacingAndGlyphs\" textLength=\"93\" x=\"283.5\" y=\"150.1387\">«attribute def»</text><text fill=\"#000000\" font-family=\"sans-serif\" font-size=\"12\" lengthAdjust=\"spacingAndGlyphs\" textLength=\"22\" x=\"319\" y=\"164.1074\">Exit</text><line style=\"stroke: #A80036; stroke-width: 1.5;\" x1=\"257.5\" x2=\"376.5\" y1=\"171.9375\" y2=\"171.9375\"/></a><!--MD5=[ebbe1d658d1005bcc118a6aa81145e00]\n",
       "class E4--><a href=\"psysml:64a2c9fa-aa89-4eff-b01c-ff58906cbde0\" target=\"_top\" title=\"psysml:64a2c9fa-aa89-4eff-b01c-ff58906cbde0\" xlink:actuate=\"onRequest\" xlink:href=\"psysml:64a2c9fa-aa89-4eff-b01c-ff58906cbde0\" xlink:show=\"new\" xlink:title=\"psysml:64a2c9fa-aa89-4eff-b01c-ff58906cbde0\" xlink:type=\"simple\"><rect fill=\"#FEFECE\" filter=\"url(#f5z03mjwn5hqi)\" height=\"45.9375\" id=\"E4\" rx=\"10\" ry=\"10\" style=\"stroke: #A80036; stroke-width: 1.5;\" width=\"68\" x=\"153\" y=\"134\"/><ellipse cx=\"168\" cy=\"152.9688\" fill=\"#32CD32\" rx=\"11\" ry=\"11\" style=\"stroke: #A80036; stroke-width: 1.0;\"/><path d=\"M167.7969,148.6406 L167.7969,152.2656 L168.7969,152.2656 Q170,152.2656 170.4844,151.8594 Q170.9688,151.4531 170.9688,150.4531 Q170.9688,149.4531 170.4844,149.0469 Q170,148.6406 168.7969,148.6406 L167.7969,148.6406 Z M165.3438,146.5781 L168.7031,146.5781 Q171.2656,146.5781 172.3906,147.5 Q173.5156,148.4063 173.5156,150.4531 Q173.5156,152.5 172.3906,153.4219 Q171.2656,154.3281 168.7031,154.3281 L167.7969,154.3281 L167.7969,158.9688 L165.3438,158.9688 L165.3438,146.5781 Z \"/><text fill=\"#000000\" font-family=\"sans-serif\" font-size=\"12\" font-style=\"italic\" lengthAdjust=\"spacingAndGlyphs\" textLength=\"40\" x=\"180\" y=\"150.1387\">«part»</text><text fill=\"#000000\" font-family=\"sans-serif\" font-size=\"12\" lengthAdjust=\"spacingAndGlyphs\" textLength=\"8\" x=\"196\" y=\"164.1074\">p</text><line style=\"stroke: #A80036; stroke-width: 1.5;\" x1=\"154\" x2=\"220\" y1=\"171.9375\" y2=\"171.9375\"/></a><g id=\"E1.E5\"><a href=\"psysml:6519856a-88df-4cdc-a713-a9dddd16e281\" target=\"_top\" title=\"psysml:6519856a-88df-4cdc-a713-a9dddd16e281\" xlink:actuate=\"onRequest\" xlink:href=\"psysml:6519856a-88df-4cdc-a713-a9dddd16e281\" xlink:show=\"new\" xlink:title=\"psysml:6519856a-88df-4cdc-a713-a9dddd16e281\" xlink:type=\"simple\"><rect fill=\"#FEFECE\" filter=\"url(#f5z03mjwn5hqi)\" height=\"42.9375\" id=\"E5\" rx=\"10\" ry=\"10\" style=\"stroke: #A80036; stroke-width: 1.5;\" width=\"86\" x=\"32\" y=\"135.5\"/><ellipse cx=\"49.25\" cy=\"154.4688\" fill=\"#FFA500\" rx=\"11\" ry=\"11\" style=\"stroke: #A80036; stroke-width: 1.0;\"/><path d=\"M45.125,156.3906 L45.125,148.5781 L47.5781,148.5781 L47.5781,157.0156 Q47.5781,157.9375 48.0469,158.4688 Q48.5313,159 49.3594,159 Q50.2031,159 50.6719,158.4688 Q51.1406,157.9375 51.1406,157.0156 L51.1406,148.5781 L53.5938,148.5781 L53.5938,156.3906 Q53.5938,158.9219 52.5938,160.0625 Q51.5938,161.2031 49.3594,161.2031 Q47.1406,161.2031 46.125,160.0625 Q45.125,158.9219 45.125,156.3906 Z \"/><text fill=\"#000000\" font-family=\"sans-serif\" font-size=\"12\" font-style=\"italic\" lengthAdjust=\"spacingAndGlyphs\" textLength=\"53\" x=\"61.75\" y=\"151.6387\">«action»</text><text fill=\"#000000\" font-family=\"sans-serif\" font-size=\"12\" lengthAdjust=\"spacingAndGlyphs\" textLength=\"20\" x=\"78.25\" y=\"165.6074\">act</text></a></g><ellipse cx=\"662\" cy=\"157\" fill=\"#000000\" filter=\"url(#f5z03mjwn5hqi)\" rx=\"10\" ry=\"10\" style=\"stroke: none; stroke-width: 1.0;\"/><ellipse cx=\"662\" cy=\"507.5\" fill=\"none\" filter=\"url(#f5z03mjwn5hqi)\" rx=\"10\" ry=\"10\" style=\"stroke: #000000; stroke-width: 1.0;\"/><ellipse cx=\"662.5\" cy=\"508\" fill=\"#000000\" rx=\"6\" ry=\"6\" style=\"stroke: none; stroke-width: 1.0;\"/><g id=\"E1.E6.E7\"><a href=\"psysml:70242e19-3f56-46b0-b4b5-fd0d440c29ee\" target=\"_top\" title=\"psysml:70242e19-3f56-46b0-b4b5-fd0d440c29ee\" xlink:actuate=\"onRequest\" xlink:href=\"psysml:70242e19-3f56-46b0-b4b5-fd0d440c29ee\" xlink:show=\"new\" xlink:title=\"psysml:70242e19-3f56-46b0-b4b5-fd0d440c29ee\" xlink:type=\"simple\"><rect fill=\"#FEFECE\" filter=\"url(#f5z03mjwn5hqi)\" height=\"40\" id=\"E7\" rx=\"10\" ry=\"10\" style=\"stroke: #A80036; stroke-width: 1.5;\" width=\"53\" x=\"635.5\" y=\"247.5\"/><ellipse cx=\"652.75\" cy=\"263.5\" fill=\"#B6DBBB\" rx=\"11\" ry=\"11\" style=\"stroke: #A80036; stroke-width: 1.0;\"/><path d=\"M648.625,265.4219 L648.625,257.6094 L651.0781,257.6094 L651.0781,266.0469 Q651.0781,266.9688 651.5469,267.5 Q652.0313,268.0313 652.8594,268.0313 Q653.7031,268.0313 654.1719,267.5 Q654.6406,266.9688 654.6406,266.0469 L654.6406,257.6094 L657.0938,257.6094 L657.0938,265.4219 Q657.0938,267.9531 656.0938,269.0938 Q655.0938,270.2344 652.8594,270.2344 Q650.6406,270.2344 649.625,269.0938 Q648.625,267.9531 648.625,265.4219 Z \"/><text fill=\"#000000\" font-family=\"sans-serif\" font-size=\"12\" lengthAdjust=\"spacingAndGlyphs\" textLength=\"16\" x=\"667.25\" y=\"267.6543\">S1</text></a></g><g id=\"E1.E6.E8\"><a href=\"psysml:a085f23d-1115-47bd-987f-c38856471ed2\" target=\"_top\" title=\"psysml:a085f23d-1115-47bd-987f-c38856471ed2\" xlink:actuate=\"onRequest\" xlink:href=\"psysml:a085f23d-1115-47bd-987f-c38856471ed2\" xlink:show=\"new\" xlink:title=\"psysml:a085f23d-1115-47bd-987f-c38856471ed2\" xlink:type=\"simple\"><rect fill=\"#FEFECE\" filter=\"url(#f5z03mjwn5hqi)\" height=\"55.9688\" id=\"E8\" rx=\"10\" ry=\"10\" style=\"stroke: #A80036; stroke-width: 1.5;\" width=\"58\" x=\"633\" y=\"364.5\"/><ellipse cx=\"652.5\" cy=\"380.5\" fill=\"#B6DBBB\" rx=\"11\" ry=\"11\" style=\"stroke: #A80036; stroke-width: 1.0;\"/><path d=\"M648.375,382.4219 L648.375,374.6094 L650.8281,374.6094 L650.8281,383.0469 Q650.8281,383.9688 651.2969,384.5 Q651.7813,385.0313 652.6094,385.0313 Q653.4531,385.0313 653.9219,384.5 Q654.3906,383.9688 654.3906,383.0469 L654.3906,374.6094 L656.8438,374.6094 L656.8438,382.4219 Q656.8438,384.9531 655.8438,386.0938 Q654.8438,387.2344 652.6094,387.2344 Q650.3906,387.2344 649.375,386.0938 Q648.375,384.9531 648.375,382.4219 Z \"/><text fill=\"#000000\" font-family=\"sans-serif\" font-size=\"12\" lengthAdjust=\"spacingAndGlyphs\" textLength=\"16\" x=\"667.5\" y=\"384.6543\">S2</text><line style=\"stroke: #A80036; stroke-width: 1.0;\" x1=\"633\" x2=\"691\" y1=\"396.5\" y2=\"396.5\"/><text fill=\"#000000\" font-family=\"sans-serif\" font-size=\"12\" font-weight=\"bold\" lengthAdjust=\"spacingAndGlyphs\" textLength=\"18\" x=\"638\" y=\"409.6387\">do</text><text fill=\"#000000\" font-family=\"sans-serif\" font-size=\"12\" lengthAdjust=\"spacingAndGlyphs\" textLength=\"4\" x=\"656\" y=\"409.6387\">/</text></a></g><!--MD5=[5a531d3a85f3339e6e197084acb48195]\n",
       "link *start*E6 to E7--><a href=\"psysml:43d9c4f9-ed20-4c00-a0b0-be6dc49a6894\" target=\"_top\" title=\"psysml:43d9c4f9-ed20-4c00-a0b0-be6dc49a6894\" xlink:actuate=\"onRequest\" xlink:href=\"psysml:43d9c4f9-ed20-4c00-a0b0-be6dc49a6894\" xlink:show=\"new\" xlink:title=\"psysml:43d9c4f9-ed20-4c00-a0b0-be6dc49a6894\" xlink:type=\"simple\"><path d=\"M662,167.25 C662,183.64 662,218.28 662,241.97 \" fill=\"none\" id=\"*start*E6-&gt;E7\" style=\"stroke: #A80036; stroke-width: 1.0;\"/><polygon fill=\"#A80036\" points=\"662,247.15,666,238.15,662,242.15,658,238.15,662,247.15\" style=\"stroke: #A80036; stroke-width: 1.0;\"/></a><!--MD5=[7ec9a8babba89ddcae1318ca9fb3c814]\n",
       "link E8 to *end*E6--><a href=\"psysml:f955b7ee-57f2-4e8a-b602-a443c9a31c83\" target=\"_top\" title=\"psysml:f955b7ee-57f2-4e8a-b602-a443c9a31c83\" xlink:actuate=\"onRequest\" xlink:href=\"psysml:f955b7ee-57f2-4e8a-b602-a443c9a31c83\" xlink:show=\"new\" xlink:title=\"psysml:f955b7ee-57f2-4e8a-b602-a443c9a31c83\" xlink:type=\"simple\"><path d=\"M662,420.57 C662,443.05 662,474.17 662,492.13 \" fill=\"none\" id=\"E8-&gt;*end*E6\" style=\"stroke: #A80036; stroke-width: 1.0;\"/><polygon fill=\"#A80036\" points=\"662,497.26,666,488.26,662,492.26,658,488.26,662,497.26\" style=\"stroke: #A80036; stroke-width: 1.0;\"/><text fill=\"#000000\" font-family=\"sans-serif\" font-size=\"13\" lengthAdjust=\"spacingAndGlyphs\" textLength=\"23\" x=\"663\" y=\"463.5669\">Exit</text></a><!--MD5=[79bc8f324ef4d02c541433f2e6e513c3]\n",
       "link E7 to E8--><a href=\"psysml:d37fdc60-36d2-41f0-83fe-622a63ffc619\" target=\"_top\" title=\"psysml:d37fdc60-36d2-41f0-83fe-622a63ffc619\" xlink:actuate=\"onRequest\" xlink:href=\"psysml:d37fdc60-36d2-41f0-83fe-622a63ffc619\" xlink:show=\"new\" xlink:title=\"psysml:d37fdc60-36d2-41f0-83fe-622a63ffc619\" xlink:type=\"simple\"><path d=\"M635.25,280.67 C613.47,292.49 587.88,311.93 598,334.5 C604.51,349.01 616.74,361.35 628.79,370.79 \" fill=\"none\" id=\"E7-&gt;E8\" style=\"stroke: #A80036; stroke-width: 1.0;\"/><polygon fill=\"#A80036\" points=\"632.86,373.88,628.0945,365.2609,628.872,370.864,623.2689,371.6416,632.86,373.88\" style=\"stroke: #A80036; stroke-width: 1.0;\"/><text fill=\"#000000\" font-family=\"sans-serif\" font-size=\"13\" lengthAdjust=\"spacingAndGlyphs\" textLength=\"81\" x=\"599\" y=\"330.5669\">Sig /action D</text></a><!--MD5=[bfa3c8b0d15052fdf50ae9310b491027]\n",
       "link E8 to E7--><a href=\"psysml:b2ce6d4b-1a56-4d0e-ade4-ffb9136266c2\" target=\"_top\" title=\"psysml:b2ce6d4b-1a56-4d0e-ade4-ffb9136266c2\" xlink:actuate=\"onRequest\" xlink:href=\"psysml:b2ce6d4b-1a56-4d0e-ade4-ffb9136266c2\" xlink:show=\"new\" xlink:title=\"psysml:b2ce6d4b-1a56-4d0e-ade4-ffb9136266c2\" xlink:type=\"simple\"><path d=\"M677.55,364.38 C683.68,350.5 688.51,333.26 685,317.5 C683.1,308.99 679.56,300.22 675.82,292.49 \" fill=\"none\" id=\"E8-&gt;E7\" style=\"stroke: #A80036; stroke-width: 1.0;\"/><polygon fill=\"#A80036\" points=\"673.47,287.82,673.9298,297.6581,675.7118,292.2893,681.0806,294.0713,673.47,287.82\" style=\"stroke: #A80036; stroke-width: 1.0;\"/><text fill=\"#000000\" font-family=\"sans-serif\" font-size=\"13\" lengthAdjust=\"spacingAndGlyphs\" textLength=\"135\" x=\"687\" y=\"330.5669\">Sig [true]/send s to p</text></a><!--MD5=[22fc1779a86c76829fda52c9491d9999]\n",
       "@startuml\r\n",
       " \r\n",
       "package \"StateTest\" as E1  [[psysml:5e99c5ac-660c-4bcd-ba7f-80dc44a07c9e ]]  {\r\n",
       "comp def \"Sig\" as E2  <<(D,brown)attribute def>> [[psysml:408e0494-0708-476d-85d5-333a69b53e96 ]] {\r\n",
       "x\r\n",
       "}\r\n",
       "comp def \"Exit\" as E3  <<(D,brown)attribute def>> [[psysml:0109ef31-4e51-4de7-9ac0-eb82fbd89c67 ]] {\r\n",
       "}\r\n",
       "comp usage \"p\" as E4  << (P,limegreen) part>> [[psysml:64a2c9fa-aa89-4eff-b01c-ff58906cbde0 ]] {\r\n",
       "}\r\n",
       "rec usage \"act\" as E5  <<(U,orange)action>> [[psysml:6519856a-88df-4cdc-a713-a9dddd16e281 ]] {\r\n",
       "}\r\n",
       "\r\n",
       "rec def \"S\" as E6  <<(D,brown)state def>> [[psysml:0bc7341d-f31b-4869-a064-1af20ff16fcc ]] {\r\n",
       "rec usage \"S1\" as E7 [[psysml:70242e19-3f56-46b0-b4b5-fd0d440c29ee ]] {\r\n",
       "}\r\n",
       "\r\n",
       "rec usage \"S2\" as E8 [[psysml:a085f23d-1115-47bd-987f-c38856471ed2 ]] {\r\n",
       "desc \"S2\" as E8  : **do**/ \r\n",
       "}\r\n",
       "\r\n",
       "[*] - -> E7 [[psysml:43d9c4f9-ed20-4c00-a0b0-be6dc49a6894 ]] \r\n",
       "E8  - -> [*] [[psysml:f955b7ee-57f2-4e8a-b602-a443c9a31c83 ]] : Exit \r\n",
       "desc \"S\" as E6  : **entry**/ A\r\n",
       "desc \"S\" as E6  : **do**/ B\r\n",
       "desc \"S\" as E6  : **exit**/ act \r\n",
       "}\r\n",
       "\r\n",
       "E7  - -> E8 [[psysml:d37fdc60-36d2-41f0-83fe-622a63ffc619 ]] : Sig /action D\r\n",
       "E8  - -> E7 [[psysml:b2ce6d4b-1a56-4d0e-ade4-ffb9136266c2 ]] : Sig [true]/send s to p\r\n",
       "}\r\n",
       "@enduml\r\n",
       "\n",
       "PlantUML version 1.2020.13(Sat Jun 13 12:26:38 UTC 2020)\n",
       "(EPL source distribution)\n",
       "Java Runtime: OpenJDK Runtime Environment\n",
       "JVM: OpenJDK 64-Bit Server VM\n",
       "Default Encoding: UTF-8\n",
       "Language: en\n",
       "Country: null\n",
       "--></g></svg>"
      ]
     },
     "execution_count": 30,
     "metadata": {},
     "output_type": "execute_result"
    }
   ],
   "source": [
    "%viz --style=\"PLANTUML\" --view=\"Default\" \"StateTest\""
   ]
  },
  {
   "cell_type": "code",
   "execution_count": 31,
   "id": "caring-roman",
   "metadata": {
    "execution": {
     "iopub.execute_input": "2021-03-26T13:02:47.167465Z",
     "iopub.status.busy": "2021-03-26T13:02:47.166749Z",
     "iopub.status.idle": "2021-03-26T13:02:47.292705Z",
     "shell.execute_reply": "2021-03-26T13:02:47.291706Z"
    }
   },
   "outputs": [
    {
     "data": {
      "image/svg+xml": [
       "<?xml version=\"1.0\" encoding=\"UTF-8\" standalone=\"no\"?><svg xmlns=\"http://www.w3.org/2000/svg\" xmlns:xlink=\"http://www.w3.org/1999/xlink\" contentScriptType=\"application/ecmascript\" contentStyleType=\"text/css\" height=\"471px\" preserveAspectRatio=\"none\" style=\"width:702px;height:471px;\" version=\"1.1\" viewBox=\"0 0 702 471\" width=\"702px\" zoomAndPan=\"magnify\"><defs><filter height=\"300%\" id=\"f1jn1ky99wr1k\" width=\"300%\" x=\"-1\" y=\"-1\"><feGaussianBlur result=\"blurOut\" stdDeviation=\"2.0\"/><feColorMatrix in=\"blurOut\" result=\"blurOut2\" type=\"matrix\" values=\"0 0 0 0 0 0 0 0 0 0 0 0 0 0 0 0 0 0 .4 0\"/><feOffset dx=\"4.0\" dy=\"4.0\" in=\"blurOut2\" result=\"blurOut3\"/><feBlend in=\"SourceGraphic\" in2=\"blurOut3\" mode=\"normal\"/></filter></defs><g><!--MD5=[fbc87193dbaf4d95561dea2c320d4a47]\n",
       "cluster E1--><a href=\"psysml:5e99c5ac-660c-4bcd-ba7f-80dc44a07c9e\" target=\"_top\" title=\"psysml:5e99c5ac-660c-4bcd-ba7f-80dc44a07c9e\" xlink:actuate=\"onRequest\" xlink:href=\"psysml:5e99c5ac-660c-4bcd-ba7f-80dc44a07c9e\" xlink:show=\"new\" xlink:title=\"psysml:5e99c5ac-660c-4bcd-ba7f-80dc44a07c9e\" xlink:type=\"simple\"><polygon fill=\"#FFFFFF\" filter=\"url(#f1jn1ky99wr1k)\" points=\"16,6,98,6,105,28.2969,680,28.2969,680,459,16,459,16,6\" style=\"stroke: #000000; stroke-width: 1.5;\"/><line style=\"stroke: #000000; stroke-width: 1.5;\" x1=\"16\" x2=\"105\" y1=\"28.2969\" y2=\"28.2969\"/><text fill=\"#000000\" font-family=\"sans-serif\" font-size=\"14\" font-weight=\"bold\" lengthAdjust=\"spacingAndGlyphs\" textLength=\"76\" x=\"20\" y=\"20.9951\">StateTest</text></a><!--MD5=[b4997ac47864f28c2f74865a473b2911]\n",
       "class E2--><a href=\"psysml:408e0494-0708-476d-85d5-333a69b53e96\" target=\"_top\" title=\"psysml:408e0494-0708-476d-85d5-333a69b53e96\" xlink:actuate=\"onRequest\" xlink:href=\"psysml:408e0494-0708-476d-85d5-333a69b53e96\" xlink:show=\"new\" xlink:title=\"psysml:408e0494-0708-476d-85d5-333a69b53e96\" xlink:type=\"simple\"><rect fill=\"#FEFECE\" filter=\"url(#f1jn1ky99wr1k)\" height=\"58.7422\" id=\"E2\" style=\"stroke: #A80036; stroke-width: 1.5;\" width=\"121\" x=\"542.5\" y=\"91.5\"/><ellipse cx=\"557.5\" cy=\"110.4688\" fill=\"#A52A2A\" rx=\"11\" ry=\"11\" style=\"stroke: #A80036; stroke-width: 1.0;\"/><path d=\"M557.0938,106.2813 L557.0938,114.2656 L557.75,114.2656 Q559.1875,114.2656 559.7969,113.3594 Q560.4219,112.4375 560.4219,110.2656 Q560.4219,108.0938 559.7969,107.1875 Q559.1875,106.2813 557.75,106.2813 L557.0938,106.2813 Z M554.6406,104.0781 L557.2656,104.0781 Q560.2969,104.0781 561.625,105.5313 Q562.9688,106.9688 562.9688,110.2656 Q562.9688,113.5625 561.625,115.0156 Q560.2969,116.4688 557.2656,116.4688 L554.6406,116.4688 L554.6406,104.0781 Z \"/><text fill=\"#000000\" font-family=\"sans-serif\" font-size=\"12\" font-style=\"italic\" lengthAdjust=\"spacingAndGlyphs\" textLength=\"93\" x=\"569.5\" y=\"107.6387\">«attribute def»</text><text fill=\"#000000\" font-family=\"sans-serif\" font-size=\"12\" lengthAdjust=\"spacingAndGlyphs\" textLength=\"19\" x=\"606.5\" y=\"121.6074\">Sig</text><line style=\"stroke: #A80036; stroke-width: 1.5;\" x1=\"543.5\" x2=\"662.5\" y1=\"129.4375\" y2=\"129.4375\"/><text fill=\"#000000\" font-family=\"sans-serif\" font-size=\"11\" lengthAdjust=\"spacingAndGlyphs\" textLength=\"6\" x=\"548.5\" y=\"143.6479\">x</text></a><!--MD5=[09b614a08d8cba4a07c9adeb5e0fee81]\n",
       "class E3--><a href=\"psysml:0109ef31-4e51-4de7-9ac0-eb82fbd89c67\" target=\"_top\" title=\"psysml:0109ef31-4e51-4de7-9ac0-eb82fbd89c67\" xlink:actuate=\"onRequest\" xlink:href=\"psysml:0109ef31-4e51-4de7-9ac0-eb82fbd89c67\" xlink:show=\"new\" xlink:title=\"psysml:0109ef31-4e51-4de7-9ac0-eb82fbd89c67\" xlink:type=\"simple\"><rect fill=\"#FEFECE\" filter=\"url(#f1jn1ky99wr1k)\" height=\"45.9375\" id=\"E3\" style=\"stroke: #A80036; stroke-width: 1.5;\" width=\"121\" x=\"386.5\" y=\"98\"/><ellipse cx=\"401.5\" cy=\"116.9688\" fill=\"#A52A2A\" rx=\"11\" ry=\"11\" style=\"stroke: #A80036; stroke-width: 1.0;\"/><path d=\"M401.0938,112.7813 L401.0938,120.7656 L401.75,120.7656 Q403.1875,120.7656 403.7969,119.8594 Q404.4219,118.9375 404.4219,116.7656 Q404.4219,114.5938 403.7969,113.6875 Q403.1875,112.7813 401.75,112.7813 L401.0938,112.7813 Z M398.6406,110.5781 L401.2656,110.5781 Q404.2969,110.5781 405.625,112.0313 Q406.9688,113.4688 406.9688,116.7656 Q406.9688,120.0625 405.625,121.5156 Q404.2969,122.9688 401.2656,122.9688 L398.6406,122.9688 L398.6406,110.5781 Z \"/><text fill=\"#000000\" font-family=\"sans-serif\" font-size=\"12\" font-style=\"italic\" lengthAdjust=\"spacingAndGlyphs\" textLength=\"93\" x=\"413.5\" y=\"114.1387\">«attribute def»</text><text fill=\"#000000\" font-family=\"sans-serif\" font-size=\"12\" lengthAdjust=\"spacingAndGlyphs\" textLength=\"22\" x=\"449\" y=\"128.1074\">Exit</text><line style=\"stroke: #A80036; stroke-width: 1.5;\" x1=\"387.5\" x2=\"506.5\" y1=\"135.9375\" y2=\"135.9375\"/></a><!--MD5=[ebbe1d658d1005bcc118a6aa81145e00]\n",
       "class E4--><a href=\"psysml:64a2c9fa-aa89-4eff-b01c-ff58906cbde0\" target=\"_top\" title=\"psysml:64a2c9fa-aa89-4eff-b01c-ff58906cbde0\" xlink:actuate=\"onRequest\" xlink:href=\"psysml:64a2c9fa-aa89-4eff-b01c-ff58906cbde0\" xlink:show=\"new\" xlink:title=\"psysml:64a2c9fa-aa89-4eff-b01c-ff58906cbde0\" xlink:type=\"simple\"><rect fill=\"#FEFECE\" filter=\"url(#f1jn1ky99wr1k)\" height=\"45.9375\" id=\"E4\" rx=\"10\" ry=\"10\" style=\"stroke: #A80036; stroke-width: 1.5;\" width=\"68\" x=\"283\" y=\"98\"/><ellipse cx=\"298\" cy=\"116.9688\" fill=\"#32CD32\" rx=\"11\" ry=\"11\" style=\"stroke: #A80036; stroke-width: 1.0;\"/><path d=\"M297.7969,112.6406 L297.7969,116.2656 L298.7969,116.2656 Q300,116.2656 300.4844,115.8594 Q300.9688,115.4531 300.9688,114.4531 Q300.9688,113.4531 300.4844,113.0469 Q300,112.6406 298.7969,112.6406 L297.7969,112.6406 Z M295.3438,110.5781 L298.7031,110.5781 Q301.2656,110.5781 302.3906,111.5 Q303.5156,112.4063 303.5156,114.4531 Q303.5156,116.5 302.3906,117.4219 Q301.2656,118.3281 298.7031,118.3281 L297.7969,118.3281 L297.7969,122.9688 L295.3438,122.9688 L295.3438,110.5781 Z \"/><text fill=\"#000000\" font-family=\"sans-serif\" font-size=\"12\" font-style=\"italic\" lengthAdjust=\"spacingAndGlyphs\" textLength=\"40\" x=\"310\" y=\"114.1387\">«part»</text><text fill=\"#000000\" font-family=\"sans-serif\" font-size=\"12\" lengthAdjust=\"spacingAndGlyphs\" textLength=\"8\" x=\"326\" y=\"128.1074\">p</text><line style=\"stroke: #A80036; stroke-width: 1.5;\" x1=\"284\" x2=\"350\" y1=\"135.9375\" y2=\"135.9375\"/></a><!--MD5=[270fce915f116d4de14055a7c1d9a0f3]\n",
       "class E5--><a href=\"psysml:6519856a-88df-4cdc-a713-a9dddd16e281\" target=\"_top\" title=\"psysml:6519856a-88df-4cdc-a713-a9dddd16e281\" xlink:actuate=\"onRequest\" xlink:href=\"psysml:6519856a-88df-4cdc-a713-a9dddd16e281\" xlink:show=\"new\" xlink:title=\"psysml:6519856a-88df-4cdc-a713-a9dddd16e281\" xlink:type=\"simple\"><rect fill=\"#FEFECE\" filter=\"url(#f1jn1ky99wr1k)\" height=\"45.9375\" id=\"E5\" rx=\"10\" ry=\"10\" style=\"stroke: #A80036; stroke-width: 1.5;\" width=\"81\" x=\"166.5\" y=\"98\"/><ellipse cx=\"181.5\" cy=\"116.9688\" fill=\"#FFA500\" rx=\"11\" ry=\"11\" style=\"stroke: #A80036; stroke-width: 1.0;\"/><path d=\"M177.375,118.8906 L177.375,111.0781 L179.8281,111.0781 L179.8281,119.5156 Q179.8281,120.4375 180.2969,120.9688 Q180.7813,121.5 181.6094,121.5 Q182.4531,121.5 182.9219,120.9688 Q183.3906,120.4375 183.3906,119.5156 L183.3906,111.0781 L185.8438,111.0781 L185.8438,118.8906 Q185.8438,121.4219 184.8438,122.5625 Q183.8438,123.7031 181.6094,123.7031 Q179.3906,123.7031 178.375,122.5625 Q177.375,121.4219 177.375,118.8906 Z \"/><text fill=\"#000000\" font-family=\"sans-serif\" font-size=\"12\" font-style=\"italic\" lengthAdjust=\"spacingAndGlyphs\" textLength=\"53\" x=\"193.5\" y=\"114.1387\">«action»</text><text fill=\"#000000\" font-family=\"sans-serif\" font-size=\"12\" lengthAdjust=\"spacingAndGlyphs\" textLength=\"20\" x=\"210\" y=\"128.1074\">act</text><line style=\"stroke: #A80036; stroke-width: 1.5;\" x1=\"167.5\" x2=\"246.5\" y1=\"135.9375\" y2=\"135.9375\"/></a><!--MD5=[60a26617385b1d2d0262a64233df1f8d]\n",
       "class E6--><a href=\"psysml:0bc7341d-f31b-4869-a064-1af20ff16fcc\" target=\"_top\" title=\"psysml:0bc7341d-f31b-4869-a064-1af20ff16fcc\" xlink:actuate=\"onRequest\" xlink:href=\"psysml:0bc7341d-f31b-4869-a064-1af20ff16fcc\" xlink:show=\"new\" xlink:title=\"psysml:0bc7341d-f31b-4869-a064-1af20ff16fcc\" xlink:type=\"simple\"><rect fill=\"#FEFECE\" filter=\"url(#f1jn1ky99wr1k)\" height=\"160.375\" id=\"E6\" style=\"stroke: #A80036; stroke-width: 1.5;\" width=\"99\" x=\"32.5\" y=\"41\"/><ellipse cx=\"47.5\" cy=\"59.9688\" fill=\"#A52A2A\" rx=\"11\" ry=\"11\" style=\"stroke: #A80036; stroke-width: 1.0;\"/><path d=\"M47.0938,55.7813 L47.0938,63.7656 L47.75,63.7656 Q49.1875,63.7656 49.7969,62.8594 Q50.4219,61.9375 50.4219,59.7656 Q50.4219,57.5938 49.7969,56.6875 Q49.1875,55.7813 47.75,55.7813 L47.0938,55.7813 Z M44.6406,53.5781 L47.2656,53.5781 Q50.2969,53.5781 51.625,55.0313 Q52.9688,56.4688 52.9688,59.7656 Q52.9688,63.0625 51.625,64.5156 Q50.2969,65.9688 47.2656,65.9688 L44.6406,65.9688 L44.6406,53.5781 Z \"/><text fill=\"#000000\" font-family=\"sans-serif\" font-size=\"12\" font-style=\"italic\" lengthAdjust=\"spacingAndGlyphs\" textLength=\"71\" x=\"59.5\" y=\"57.1387\">«state def»</text><text fill=\"#000000\" font-family=\"sans-serif\" font-size=\"12\" lengthAdjust=\"spacingAndGlyphs\" textLength=\"8\" x=\"91\" y=\"71.1074\">S</text><line style=\"stroke: #A80036; stroke-width: 1.5;\" x1=\"33.5\" x2=\"130.5\" y1=\"78.9375\" y2=\"78.9375\"/><text fill=\"#000000\" font-family=\"sans-serif\" font-size=\"11\" lengthAdjust=\"spacingAndGlyphs\" textLength=\"17\" x=\"38.5\" y=\"109.9526\">act</text><text fill=\"#000000\" font-family=\"sans-serif\" font-size=\"11\" lengthAdjust=\"spacingAndGlyphs\" textLength=\"7\" x=\"38.5\" y=\"122.7573\">A</text><text fill=\"#000000\" font-family=\"sans-serif\" font-size=\"11\" lengthAdjust=\"spacingAndGlyphs\" textLength=\"8\" x=\"38.5\" y=\"135.562\">B</text><line style=\"stroke: #A80036; stroke-width: 1.0;\" x1=\"33.5\" x2=\"38.5\" y1=\"93.3398\" y2=\"93.3398\"/><text fill=\"#000000\" font-family=\"sans-serif\" font-size=\"11\" lengthAdjust=\"spacingAndGlyphs\" textLength=\"87\" x=\"38.5\" y=\"96.6479\">performActions</text><line style=\"stroke: #A80036; stroke-width: 1.0;\" x1=\"125.5\" x2=\"130.5\" y1=\"93.3398\" y2=\"93.3398\"/><text fill=\"#000000\" font-family=\"sans-serif\" font-size=\"11\" lengthAdjust=\"spacingAndGlyphs\" textLength=\"15\" x=\"38.5\" y=\"165.1714\">S1</text><line style=\"stroke: #A80036; stroke-width: 1.0;\" x1=\"33.5\" x2=\"64\" y1=\"148.5586\" y2=\"148.5586\"/><text fill=\"#000000\" font-family=\"sans-serif\" font-size=\"11\" lengthAdjust=\"spacingAndGlyphs\" textLength=\"36\" x=\"64\" y=\"151.8667\">states</text><line style=\"stroke: #A80036; stroke-width: 1.0;\" x1=\"100\" x2=\"130.5\" y1=\"148.5586\" y2=\"148.5586\"/><text fill=\"#000000\" font-family=\"sans-serif\" font-size=\"11\" lengthAdjust=\"spacingAndGlyphs\" textLength=\"7\" x=\"38.5\" y=\"194.7808\">T</text><line style=\"stroke: #A80036; stroke-width: 1.0;\" x1=\"33.5\" x2=\"51.5\" y1=\"178.168\" y2=\"178.168\"/><text fill=\"#000000\" font-family=\"sans-serif\" font-size=\"11\" lengthAdjust=\"spacingAndGlyphs\" textLength=\"61\" x=\"51.5\" y=\"181.4761\">transitions</text><line style=\"stroke: #A80036; stroke-width: 1.0;\" x1=\"112.5\" x2=\"130.5\" y1=\"178.168\" y2=\"178.168\"/></a><!--MD5=[1dd1bfd58a279cf63c5f349dbc8fc6a1]\n",
       "class E11--><a href=\"psysml:a085f23d-1115-47bd-987f-c38856471ed2\" target=\"_top\" title=\"psysml:a085f23d-1115-47bd-987f-c38856471ed2\" xlink:actuate=\"onRequest\" xlink:href=\"psysml:a085f23d-1115-47bd-987f-c38856471ed2\" xlink:show=\"new\" xlink:title=\"psysml:a085f23d-1115-47bd-987f-c38856471ed2\" xlink:type=\"simple\"><rect fill=\"#FEFECE\" filter=\"url(#f1jn1ky99wr1k)\" height=\"45.9375\" id=\"E11\" rx=\"10\" ry=\"10\" style=\"stroke: #A80036; stroke-width: 1.5;\" width=\"75\" x=\"48.5\" y=\"261\"/><ellipse cx=\"63.5\" cy=\"279.9688\" fill=\"#FFA500\" rx=\"11\" ry=\"11\" style=\"stroke: #A80036; stroke-width: 1.0;\"/><path d=\"M59.375,281.8906 L59.375,274.0781 L61.8281,274.0781 L61.8281,282.5156 Q61.8281,283.4375 62.2969,283.9688 Q62.7813,284.5 63.6094,284.5 Q64.4531,284.5 64.9219,283.9688 Q65.3906,283.4375 65.3906,282.5156 L65.3906,274.0781 L67.8438,274.0781 L67.8438,281.8906 Q67.8438,284.4219 66.8438,285.5625 Q65.8438,286.7031 63.6094,286.7031 Q61.3906,286.7031 60.375,285.5625 Q59.375,284.4219 59.375,281.8906 Z \"/><text fill=\"#000000\" font-family=\"sans-serif\" font-size=\"12\" font-style=\"italic\" lengthAdjust=\"spacingAndGlyphs\" textLength=\"47\" x=\"75.5\" y=\"277.1387\">«state»</text><text fill=\"#000000\" font-family=\"sans-serif\" font-size=\"12\" lengthAdjust=\"spacingAndGlyphs\" textLength=\"16\" x=\"91\" y=\"291.1074\">S2</text><line style=\"stroke: #A80036; stroke-width: 1.5;\" x1=\"49.5\" x2=\"122.5\" y1=\"298.9375\" y2=\"298.9375\"/></a><!--MD5=[49a0ec8f00dab7302a31f22d0f0fe584]\n",
       "class E12--><a href=\"psysml:cfc90439-05ae-44f8-b88d-04fe860fe407\" target=\"_top\" title=\"psysml:cfc90439-05ae-44f8-b88d-04fe860fe407\" xlink:actuate=\"onRequest\" xlink:href=\"psysml:cfc90439-05ae-44f8-b88d-04fe860fe407\" xlink:show=\"new\" xlink:title=\"psysml:cfc90439-05ae-44f8-b88d-04fe860fe407\" xlink:type=\"simple\"><rect fill=\"#FEFECE\" filter=\"url(#f1jn1ky99wr1k)\" height=\"75.5469\" id=\"E12\" rx=\"10\" ry=\"10\" style=\"stroke: #A80036; stroke-width: 1.5;\" width=\"116\" x=\"32\" y=\"367\"/><ellipse cx=\"47\" cy=\"385.9688\" fill=\"#B6DBBB\" rx=\"11\" ry=\"11\" style=\"stroke: #A80036; stroke-width: 1.0;\"/><path d=\"M42.875,387.8906 L42.875,380.0781 L45.3281,380.0781 L45.3281,388.5156 Q45.3281,389.4375 45.7969,389.9688 Q46.2813,390.5 47.1094,390.5 Q47.9531,390.5 48.4219,389.9688 Q48.8906,389.4375 48.8906,388.5156 L48.8906,380.0781 L51.3438,380.0781 L51.3438,387.8906 Q51.3438,390.4219 50.3438,391.5625 Q49.3438,392.7031 47.1094,392.7031 Q44.8906,392.7031 43.875,391.5625 Q42.875,390.4219 42.875,387.8906 Z \"/><text fill=\"#000000\" font-family=\"sans-serif\" font-size=\"12\" font-style=\"italic\" lengthAdjust=\"spacingAndGlyphs\" textLength=\"88\" x=\"59\" y=\"383.1387\">«send action»</text><text fill=\"#000000\" font-family=\"sans-serif\" font-size=\"12\" lengthAdjust=\"spacingAndGlyphs\" textLength=\"55\" x=\"75.5\" y=\"397.1074\">doAction</text><line style=\"stroke: #A80036; stroke-width: 1.5;\" x1=\"33\" x2=\"147\" y1=\"404.9375\" y2=\"404.9375\"/><text fill=\"#000000\" font-family=\"sans-serif\" font-size=\"11\" lengthAdjust=\"spacingAndGlyphs\" textLength=\"25\" x=\"38\" y=\"435.9526\">item</text><line style=\"stroke: #A80036; stroke-width: 1.0;\" x1=\"33\" x2=\"52.5\" y1=\"419.3398\" y2=\"419.3398\"/><text fill=\"#000000\" font-family=\"sans-serif\" font-size=\"11\" lengthAdjust=\"spacingAndGlyphs\" textLength=\"75\" x=\"52.5\" y=\"422.6479\">itemFeatures</text><line style=\"stroke: #A80036; stroke-width: 1.0;\" x1=\"127.5\" x2=\"147\" y1=\"419.3398\" y2=\"419.3398\"/></a><!--MD5=[1f5f03483f7de0d5b3680a7f6650997f]\n",
       "reverse link E6 to E11--><a href=\"psysml:a085f23d-1115-47bd-987f-c38856471ed2\" target=\"_top\" title=\"psysml:a085f23d-1115-47bd-987f-c38856471ed2\" xlink:actuate=\"onRequest\" xlink:href=\"psysml:a085f23d-1115-47bd-987f-c38856471ed2\" xlink:show=\"new\" xlink:title=\"psysml:a085f23d-1115-47bd-987f-c38856471ed2\" xlink:type=\"simple\"><path d=\"M84.29,214.17 C84.72,231.58 85.14,248.25 85.45,260.82 \" fill=\"none\" id=\"E6&lt;-E11\" style=\"stroke: #A80036; stroke-width: 1.0;\"/><polygon fill=\"#A80036\" points=\"83.96,201.09,80.1062,207.1849,84.25,213.0865,88.1038,206.9916,83.96,201.09\" style=\"stroke: #A80036; stroke-width: 1.0;\"/></a><!--MD5=[94adabc162ce7e41b39f13be14fbaeb3]\n",
       "reverse link E11 to E12--><a href=\"psysml:cfc90439-05ae-44f8-b88d-04fe860fe407\" target=\"_top\" title=\"psysml:cfc90439-05ae-44f8-b88d-04fe860fe407\" xlink:actuate=\"onRequest\" xlink:href=\"psysml:cfc90439-05ae-44f8-b88d-04fe860fe407\" xlink:show=\"new\" xlink:title=\"psysml:cfc90439-05ae-44f8-b88d-04fe860fe407\" xlink:type=\"simple\"><path d=\"M87.18,320.23 C87.67,334.82 88.24,351.76 88.74,366.58 \" fill=\"none\" id=\"E11&lt;-E12\" style=\"stroke: #A80036; stroke-width: 1.0;\"/><polygon fill=\"#FFFFFF\" points=\"86.74,307.1,82.9466,313.2327,87.1486,319.093,90.942,312.9603,86.74,307.1\" style=\"stroke: #A80036; stroke-width: 1.0;\"/></a><!--MD5=[0b0d0ad45e5babe11b796c7df1edb596]\n",
       "@startuml\r\n",
       " \r\n",
       "package \"StateTest\" as E1  [[psysml:5e99c5ac-660c-4bcd-ba7f-80dc44a07c9e ]]  {\r\n",
       "comp def \"Sig\" as E2  <<(D,brown)attribute def>> [[psysml:408e0494-0708-476d-85d5-333a69b53e96 ]] {\r\n",
       "x\r\n",
       "}\r\n",
       "comp def \"Exit\" as E3  <<(D,brown)attribute def>> [[psysml:0109ef31-4e51-4de7-9ac0-eb82fbd89c67 ]] {\r\n",
       "}\r\n",
       "comp usage \"p\" as E4  << (P,limegreen) part>> [[psysml:64a2c9fa-aa89-4eff-b01c-ff58906cbde0 ]] {\r\n",
       "}\r\n",
       "comp usage \"act\" as E5  <<(U,orange)action>> [[psysml:6519856a-88df-4cdc-a713-a9dddd16e281 ]] {\r\n",
       "}\r\n",
       "comp def \"S\" as E6  <<(D,brown)state def>> [[psysml:0bc7341d-f31b-4869-a064-1af20ff16fcc ]] {\r\n",
       "- - performActions - -\r\n",
       "act\r\n",
       "A\r\n",
       "B\r\n",
       "- - states - -\r\n",
       "S1\r\n",
       "- - transitions - -\r\n",
       "T\r\n",
       "}\r\n",
       "comp usage \"S2\" as E11  <<(U,orange)state>> [[psysml:a085f23d-1115-47bd-987f-c38856471ed2 ]] {\r\n",
       "}\r\n",
       "comp usage \"doAction\" as E12 <<send action>> [[psysml:cfc90439-05ae-44f8-b88d-04fe860fe407 ]] {\r\n",
       "- - itemFeatures - -\r\n",
       "item\r\n",
       "}\r\n",
       "E6 *- - E11 [[psysml:a085f23d-1115-47bd-987f-c38856471ed2 ]] \r\n",
       "E11 o- - E12 [[psysml:cfc90439-05ae-44f8-b88d-04fe860fe407 ]] \r\n",
       "}\r\n",
       "@enduml\r\n",
       "\n",
       "PlantUML version 1.2020.13(Sat Jun 13 12:26:38 UTC 2020)\n",
       "(EPL source distribution)\n",
       "Java Runtime: OpenJDK Runtime Environment\n",
       "JVM: OpenJDK 64-Bit Server VM\n",
       "Default Encoding: UTF-8\n",
       "Language: en\n",
       "Country: null\n",
       "--></g></svg>"
      ]
     },
     "execution_count": 31,
     "metadata": {},
     "output_type": "execute_result"
    }
   ],
   "source": [
    "%viz --style=\"PLANTUML\" --view=\"Tree\" \"StateTest\""
   ]
  },
  {
   "cell_type": "code",
   "execution_count": 32,
   "id": "above-glenn",
   "metadata": {
    "execution": {
     "iopub.execute_input": "2021-03-26T13:02:47.346491Z",
     "iopub.status.busy": "2021-03-26T13:02:47.345763Z",
     "iopub.status.idle": "2021-03-26T13:02:47.381579Z",
     "shell.execute_reply": "2021-03-26T13:02:47.381147Z"
    }
   },
   "outputs": [
    {
     "data": {
      "image/svg+xml": [
       "<?xml version=\"1.0\" encoding=\"UTF-8\" standalone=\"no\"?><svg xmlns=\"http://www.w3.org/2000/svg\" xmlns:xlink=\"http://www.w3.org/1999/xlink\" contentScriptType=\"application/ecmascript\" contentStyleType=\"text/css\" height=\"491px\" preserveAspectRatio=\"none\" style=\"width:353px;height:491px;\" version=\"1.1\" viewBox=\"0 0 353 491\" width=\"353px\" zoomAndPan=\"magnify\"><defs><filter height=\"300%\" id=\"fag5v7l2j9oq6\" width=\"300%\" x=\"-1\" y=\"-1\"><feGaussianBlur result=\"blurOut\" stdDeviation=\"2.0\"/><feColorMatrix in=\"blurOut\" result=\"blurOut2\" type=\"matrix\" values=\"0 0 0 0 0 0 0 0 0 0 0 0 0 0 0 0 0 0 .4 0\"/><feOffset dx=\"4.0\" dy=\"4.0\" in=\"blurOut2\" result=\"blurOut3\"/><feBlend in=\"SourceGraphic\" in2=\"blurOut3\" mode=\"normal\"/></filter></defs><g><!--MD5=[fbc87193dbaf4d95561dea2c320d4a47]\n",
       "cluster E1--><a href=\"psysml:0bc7341d-f31b-4869-a064-1af20ff16fcc\" target=\"_top\" title=\"psysml:0bc7341d-f31b-4869-a064-1af20ff16fcc\" xlink:actuate=\"onRequest\" xlink:href=\"psysml:0bc7341d-f31b-4869-a064-1af20ff16fcc\" xlink:show=\"new\" xlink:title=\"psysml:0bc7341d-f31b-4869-a064-1af20ff16fcc\" xlink:type=\"simple\"><rect fill=\"#FFFFFF\" filter=\"url(#fag5v7l2j9oq6)\" height=\"465\" id=\"E1\" style=\"stroke: #A80036; stroke-width: 1.5;\" width=\"327\" x=\"7\" y=\"7\"/><rect fill=\"#FEFECE\" height=\"37.9375\" style=\"stroke: #A80036; stroke-width: 1.5;\" width=\"327\" x=\"7\" y=\"7\"/><text fill=\"#000000\" font-family=\"sans-serif\" font-size=\"12\" font-style=\"italic\" lengthAdjust=\"spacingAndGlyphs\" textLength=\"71\" x=\"135\" y=\"23.1387\">«state def»</text><text fill=\"#000000\" font-family=\"sans-serif\" font-size=\"12\" lengthAdjust=\"spacingAndGlyphs\" textLength=\"8\" x=\"166.5\" y=\"37.1074\">S</text><line style=\"stroke: #A80036; stroke-width: 1.0;\" x1=\"7\" x2=\"334\" y1=\"90.8438\" y2=\"90.8438\"/><text fill=\"#000000\" font-family=\"sans-serif\" font-size=\"12\" font-weight=\"bold\" lengthAdjust=\"spacingAndGlyphs\" textLength=\"38\" x=\"12\" y=\"58.0762\">entry</text><text fill=\"#000000\" font-family=\"sans-serif\" font-size=\"12\" lengthAdjust=\"spacingAndGlyphs\" textLength=\"16\" x=\"50\" y=\"58.0762\">/ A</text><text fill=\"#000000\" font-family=\"sans-serif\" font-size=\"12\" font-weight=\"bold\" lengthAdjust=\"spacingAndGlyphs\" textLength=\"18\" x=\"12\" y=\"72.0449\">do</text><text fill=\"#000000\" font-family=\"sans-serif\" font-size=\"12\" lengthAdjust=\"spacingAndGlyphs\" textLength=\"16\" x=\"30\" y=\"72.0449\">/ B</text><text fill=\"#000000\" font-family=\"sans-serif\" font-size=\"12\" font-weight=\"bold\" lengthAdjust=\"spacingAndGlyphs\" textLength=\"26\" x=\"12\" y=\"86.0137\">exit</text><text fill=\"#000000\" font-family=\"sans-serif\" font-size=\"12\" lengthAdjust=\"spacingAndGlyphs\" textLength=\"28\" x=\"38\" y=\"86.0137\">/ act</text></a><ellipse cx=\"119\" cy=\"115\" fill=\"#000000\" filter=\"url(#fag5v7l2j9oq6)\" rx=\"10\" ry=\"10\" style=\"stroke: none; stroke-width: 1.0;\"/><ellipse cx=\"119\" cy=\"446\" fill=\"none\" filter=\"url(#fag5v7l2j9oq6)\" rx=\"10\" ry=\"10\" style=\"stroke: #000000; stroke-width: 1.0;\"/><ellipse cx=\"119.5\" cy=\"446.5\" fill=\"#000000\" rx=\"6\" ry=\"6\" style=\"stroke: none; stroke-width: 1.0;\"/><g id=\"E1.E2\"><a href=\"psysml:70242e19-3f56-46b0-b4b5-fd0d440c29ee\" target=\"_top\" title=\"psysml:70242e19-3f56-46b0-b4b5-fd0d440c29ee\" xlink:actuate=\"onRequest\" xlink:href=\"psysml:70242e19-3f56-46b0-b4b5-fd0d440c29ee\" xlink:show=\"new\" xlink:title=\"psysml:70242e19-3f56-46b0-b4b5-fd0d440c29ee\" xlink:type=\"simple\"><rect fill=\"#FEFECE\" filter=\"url(#fag5v7l2j9oq6)\" height=\"40\" id=\"E2\" rx=\"10\" ry=\"10\" style=\"stroke: #A80036; stroke-width: 1.5;\" width=\"53\" x=\"92.5\" y=\"186\"/><ellipse cx=\"109.75\" cy=\"202\" fill=\"#B6DBBB\" rx=\"11\" ry=\"11\" style=\"stroke: #A80036; stroke-width: 1.0;\"/><path d=\"M105.625,203.9219 L105.625,196.1094 L108.0781,196.1094 L108.0781,204.5469 Q108.0781,205.4688 108.5469,206 Q109.0313,206.5313 109.8594,206.5313 Q110.7031,206.5313 111.1719,206 Q111.6406,205.4688 111.6406,204.5469 L111.6406,196.1094 L114.0938,196.1094 L114.0938,203.9219 Q114.0938,206.4531 113.0938,207.5938 Q112.0938,208.7344 109.8594,208.7344 Q107.6406,208.7344 106.625,207.5938 Q105.625,206.4531 105.625,203.9219 Z \"/><text fill=\"#000000\" font-family=\"sans-serif\" font-size=\"12\" lengthAdjust=\"spacingAndGlyphs\" textLength=\"16\" x=\"124.25\" y=\"206.1543\">S1</text></a></g><g id=\"E1.E3\"><a href=\"psysml:a085f23d-1115-47bd-987f-c38856471ed2\" target=\"_top\" title=\"psysml:a085f23d-1115-47bd-987f-c38856471ed2\" xlink:actuate=\"onRequest\" xlink:href=\"psysml:a085f23d-1115-47bd-987f-c38856471ed2\" xlink:show=\"new\" xlink:title=\"psysml:a085f23d-1115-47bd-987f-c38856471ed2\" xlink:type=\"simple\"><rect fill=\"#FEFECE\" filter=\"url(#fag5v7l2j9oq6)\" height=\"55.9688\" id=\"E3\" rx=\"10\" ry=\"10\" style=\"stroke: #A80036; stroke-width: 1.5;\" width=\"58\" x=\"90\" y=\"303\"/><ellipse cx=\"109.5\" cy=\"319\" fill=\"#B6DBBB\" rx=\"11\" ry=\"11\" style=\"stroke: #A80036; stroke-width: 1.0;\"/><path d=\"M105.375,320.9219 L105.375,313.1094 L107.8281,313.1094 L107.8281,321.5469 Q107.8281,322.4688 108.2969,323 Q108.7813,323.5313 109.6094,323.5313 Q110.4531,323.5313 110.9219,323 Q111.3906,322.4688 111.3906,321.5469 L111.3906,313.1094 L113.8438,313.1094 L113.8438,320.9219 Q113.8438,323.4531 112.8438,324.5938 Q111.8438,325.7344 109.6094,325.7344 Q107.3906,325.7344 106.375,324.5938 Q105.375,323.4531 105.375,320.9219 Z \"/><text fill=\"#000000\" font-family=\"sans-serif\" font-size=\"12\" lengthAdjust=\"spacingAndGlyphs\" textLength=\"16\" x=\"124.5\" y=\"323.1543\">S2</text><line style=\"stroke: #A80036; stroke-width: 1.0;\" x1=\"90\" x2=\"148\" y1=\"335\" y2=\"335\"/><text fill=\"#000000\" font-family=\"sans-serif\" font-size=\"12\" font-weight=\"bold\" lengthAdjust=\"spacingAndGlyphs\" textLength=\"18\" x=\"95\" y=\"348.1387\">do</text><text fill=\"#000000\" font-family=\"sans-serif\" font-size=\"12\" lengthAdjust=\"spacingAndGlyphs\" textLength=\"4\" x=\"113\" y=\"348.1387\">/</text></a></g><!--MD5=[cff944eb183b832d446717a4e202d613]\n",
       "link *start*E1 to E2--><a href=\"psysml:43d9c4f9-ed20-4c00-a0b0-be6dc49a6894\" target=\"_top\" title=\"psysml:43d9c4f9-ed20-4c00-a0b0-be6dc49a6894\" xlink:actuate=\"onRequest\" xlink:href=\"psysml:43d9c4f9-ed20-4c00-a0b0-be6dc49a6894\" xlink:show=\"new\" xlink:title=\"psysml:43d9c4f9-ed20-4c00-a0b0-be6dc49a6894\" xlink:type=\"simple\"><path d=\"M119,125.19 C119,138.18 119,162.38 119,180.73 \" fill=\"none\" id=\"*start*E1-&gt;E2\" style=\"stroke: #A80036; stroke-width: 1.0;\"/><polygon fill=\"#A80036\" points=\"119,185.74,123,176.74,119,180.74,115,176.74,119,185.74\" style=\"stroke: #A80036; stroke-width: 1.0;\"/></a><!--MD5=[9ee7afa76ca8c509b3d216624c3a9893]\n",
       "link E3 to *end*E1--><a href=\"psysml:f955b7ee-57f2-4e8a-b602-a443c9a31c83\" target=\"_top\" title=\"psysml:f955b7ee-57f2-4e8a-b602-a443c9a31c83\" xlink:actuate=\"onRequest\" xlink:href=\"psysml:f955b7ee-57f2-4e8a-b602-a443c9a31c83\" xlink:show=\"new\" xlink:title=\"psysml:f955b7ee-57f2-4e8a-b602-a443c9a31c83\" xlink:type=\"simple\"><path d=\"M119,359.07 C119,381.55 119,412.67 119,430.63 \" fill=\"none\" id=\"E3-&gt;*end*E1\" style=\"stroke: #A80036; stroke-width: 1.0;\"/><polygon fill=\"#A80036\" points=\"119,435.76,123,426.76,119,430.76,115,426.76,119,435.76\" style=\"stroke: #A80036; stroke-width: 1.0;\"/><text fill=\"#000000\" font-family=\"sans-serif\" font-size=\"13\" lengthAdjust=\"spacingAndGlyphs\" textLength=\"23\" x=\"120\" y=\"402.0669\">Exit</text></a><!--MD5=[2720a5a1f2c3fca2055b230370638851]\n",
       "link E2 to E3--><a href=\"psysml:d37fdc60-36d2-41f0-83fe-622a63ffc619\" target=\"_top\" title=\"psysml:d37fdc60-36d2-41f0-83fe-622a63ffc619\" xlink:actuate=\"onRequest\" xlink:href=\"psysml:d37fdc60-36d2-41f0-83fe-622a63ffc619\" xlink:show=\"new\" xlink:title=\"psysml:d37fdc60-36d2-41f0-83fe-622a63ffc619\" xlink:type=\"simple\"><path d=\"M92.25,219.17 C70.47,230.99 44.88,250.43 55,273 C61.51,287.51 73.74,299.85 85.79,309.29 \" fill=\"none\" id=\"E2-&gt;E3\" style=\"stroke: #A80036; stroke-width: 1.0;\"/><polygon fill=\"#A80036\" points=\"89.86,312.38,85.0945,303.7609,85.872,309.364,80.2689,310.1416,89.86,312.38\" style=\"stroke: #A80036; stroke-width: 1.0;\"/><text fill=\"#000000\" font-family=\"sans-serif\" font-size=\"13\" lengthAdjust=\"spacingAndGlyphs\" textLength=\"81\" x=\"56\" y=\"269.0669\">Sig /action D</text></a><!--MD5=[05d275557350bfb9b23a4ef7222b4c39]\n",
       "link E3 to E2--><a href=\"psysml:b2ce6d4b-1a56-4d0e-ade4-ffb9136266c2\" target=\"_top\" title=\"psysml:b2ce6d4b-1a56-4d0e-ade4-ffb9136266c2\" xlink:actuate=\"onRequest\" xlink:href=\"psysml:b2ce6d4b-1a56-4d0e-ade4-ffb9136266c2\" xlink:show=\"new\" xlink:title=\"psysml:b2ce6d4b-1a56-4d0e-ade4-ffb9136266c2\" xlink:type=\"simple\"><path d=\"M134.55,302.88 C140.68,289 145.51,271.76 142,256 C140.1,247.49 136.56,238.72 132.82,230.99 \" fill=\"none\" id=\"E3-&gt;E2\" style=\"stroke: #A80036; stroke-width: 1.0;\"/><polygon fill=\"#A80036\" points=\"130.47,226.32,130.9298,236.1581,132.7118,230.7893,138.0806,232.5713,130.47,226.32\" style=\"stroke: #A80036; stroke-width: 1.0;\"/><text fill=\"#000000\" font-family=\"sans-serif\" font-size=\"13\" lengthAdjust=\"spacingAndGlyphs\" textLength=\"135\" x=\"144\" y=\"269.0669\">Sig [true]/send s to p</text></a><!--MD5=[473b0b3edd92efb86ed96b40afbaa5a7]\n",
       "@startuml\r\n",
       " \r\n",
       "rec def \"S\" as E1  <<(D,brown)state def>> [[psysml:0bc7341d-f31b-4869-a064-1af20ff16fcc ]] {\r\n",
       "rec usage \"S1\" as E2 [[psysml:70242e19-3f56-46b0-b4b5-fd0d440c29ee ]] {\r\n",
       "}\r\n",
       "\r\n",
       "rec usage \"S2\" as E3 [[psysml:a085f23d-1115-47bd-987f-c38856471ed2 ]] {\r\n",
       "desc \"S2\" as E3  : **do**/ \r\n",
       "}\r\n",
       "\r\n",
       "[*] - -> E2 [[psysml:43d9c4f9-ed20-4c00-a0b0-be6dc49a6894 ]] \r\n",
       "E3  - -> [*] [[psysml:f955b7ee-57f2-4e8a-b602-a443c9a31c83 ]] : Exit \r\n",
       "desc \"S\" as E1  : **entry**/ A\r\n",
       "desc \"S\" as E1  : **do**/ B\r\n",
       "desc \"S\" as E1  : **exit**/ act \r\n",
       "}\r\n",
       "\r\n",
       "E2  - -> E3 [[psysml:d37fdc60-36d2-41f0-83fe-622a63ffc619 ]] : Sig /action D\r\n",
       "E3  - -> E2 [[psysml:b2ce6d4b-1a56-4d0e-ade4-ffb9136266c2 ]] : Sig [true]/send s to p\r\n",
       "@enduml\r\n",
       "\n",
       "PlantUML version 1.2020.13(Sat Jun 13 12:26:38 UTC 2020)\n",
       "(EPL source distribution)\n",
       "Java Runtime: OpenJDK Runtime Environment\n",
       "JVM: OpenJDK 64-Bit Server VM\n",
       "Default Encoding: UTF-8\n",
       "Language: en\n",
       "Country: null\n",
       "--></g></svg>"
      ]
     },
     "execution_count": 32,
     "metadata": {},
     "output_type": "execute_result"
    }
   ],
   "source": [
    "%viz --style=\"PLANTUML\" --view=\"State\" \"StateTest\""
   ]
  },
  {
   "cell_type": "code",
   "execution_count": 33,
   "id": "sudden-saying",
   "metadata": {
    "execution": {
     "iopub.execute_input": "2021-03-26T13:02:47.436251Z",
     "iopub.status.busy": "2021-03-26T13:02:47.435404Z",
     "iopub.status.idle": "2021-03-26T13:02:47.476825Z",
     "shell.execute_reply": "2021-03-26T13:02:47.475684Z"
    }
   },
   "outputs": [
    {
     "data": {
      "image/svg+xml": [
       "<?xml version=\"1.0\" encoding=\"UTF-8\" standalone=\"no\"?><svg xmlns=\"http://www.w3.org/2000/svg\" xmlns:xlink=\"http://www.w3.org/1999/xlink\" contentScriptType=\"application/ecmascript\" contentStyleType=\"text/css\" height=\"112px\" preserveAspectRatio=\"none\" style=\"width:702px;height:112px;\" version=\"1.1\" viewBox=\"0 0 702 112\" width=\"702px\" zoomAndPan=\"magnify\"><defs><filter height=\"300%\" id=\"f7cedpkasch5d\" width=\"300%\" x=\"-1\" y=\"-1\"><feGaussianBlur result=\"blurOut\" stdDeviation=\"2.0\"/><feColorMatrix in=\"blurOut\" result=\"blurOut2\" type=\"matrix\" values=\"0 0 0 0 0 0 0 0 0 0 0 0 0 0 0 0 0 0 .4 0\"/><feOffset dx=\"4.0\" dy=\"4.0\" in=\"blurOut2\" result=\"blurOut3\"/><feBlend in=\"SourceGraphic\" in2=\"blurOut3\" mode=\"normal\"/></filter></defs><g><!--MD5=[fbc87193dbaf4d95561dea2c320d4a47]\n",
       "cluster E1--><a href=\"psysml:5e99c5ac-660c-4bcd-ba7f-80dc44a07c9e\" target=\"_top\" title=\"psysml:5e99c5ac-660c-4bcd-ba7f-80dc44a07c9e\" xlink:actuate=\"onRequest\" xlink:href=\"psysml:5e99c5ac-660c-4bcd-ba7f-80dc44a07c9e\" xlink:show=\"new\" xlink:title=\"psysml:5e99c5ac-660c-4bcd-ba7f-80dc44a07c9e\" xlink:type=\"simple\"><polygon fill=\"#FFFFFF\" filter=\"url(#f7cedpkasch5d)\" points=\"16,6,98,6,105,28.2969,680,28.2969,680,100,16,100,16,6\" style=\"stroke: #000000; stroke-width: 1.5;\"/><line style=\"stroke: #000000; stroke-width: 1.5;\" x1=\"16\" x2=\"105\" y1=\"28.2969\" y2=\"28.2969\"/><text fill=\"#000000\" font-family=\"sans-serif\" font-size=\"14\" font-weight=\"bold\" lengthAdjust=\"spacingAndGlyphs\" textLength=\"76\" x=\"20\" y=\"20.9951\">StateTest</text></a><g id=\"E1.E2\"><a href=\"psysml:408e0494-0708-476d-85d5-333a69b53e96\" target=\"_top\" title=\"psysml:408e0494-0708-476d-85d5-333a69b53e96\" xlink:actuate=\"onRequest\" xlink:href=\"psysml:408e0494-0708-476d-85d5-333a69b53e96\" xlink:show=\"new\" xlink:title=\"psysml:408e0494-0708-476d-85d5-333a69b53e96\" xlink:type=\"simple\"><rect fill=\"#FEFECE\" filter=\"url(#f7cedpkasch5d)\" height=\"42.9375\" id=\"E2\" style=\"stroke: #A80036; stroke-width: 1.5;\" width=\"126\" x=\"538\" y=\"41\"/><ellipse cx=\"555.25\" cy=\"59.9688\" fill=\"#A52A2A\" rx=\"11\" ry=\"11\" style=\"stroke: #A80036; stroke-width: 1.0;\"/><path d=\"M554.8438,55.7813 L554.8438,63.7656 L555.5,63.7656 Q556.9375,63.7656 557.5469,62.8594 Q558.1719,61.9375 558.1719,59.7656 Q558.1719,57.5938 557.5469,56.6875 Q556.9375,55.7813 555.5,55.7813 L554.8438,55.7813 Z M552.3906,53.5781 L555.0156,53.5781 Q558.0469,53.5781 559.375,55.0313 Q560.7188,56.4688 560.7188,59.7656 Q560.7188,63.0625 559.375,64.5156 Q558.0469,65.9688 555.0156,65.9688 L552.3906,65.9688 L552.3906,53.5781 Z \"/><text fill=\"#000000\" font-family=\"sans-serif\" font-size=\"12\" font-style=\"italic\" lengthAdjust=\"spacingAndGlyphs\" textLength=\"93\" x=\"567.75\" y=\"57.1387\">«attribute def»</text><text fill=\"#000000\" font-family=\"sans-serif\" font-size=\"12\" lengthAdjust=\"spacingAndGlyphs\" textLength=\"19\" x=\"604.75\" y=\"71.1074\">Sig</text></a></g><g id=\"E1.E3\"><a href=\"psysml:0109ef31-4e51-4de7-9ac0-eb82fbd89c67\" target=\"_top\" title=\"psysml:0109ef31-4e51-4de7-9ac0-eb82fbd89c67\" xlink:actuate=\"onRequest\" xlink:href=\"psysml:0109ef31-4e51-4de7-9ac0-eb82fbd89c67\" xlink:show=\"new\" xlink:title=\"psysml:0109ef31-4e51-4de7-9ac0-eb82fbd89c67\" xlink:type=\"simple\"><rect fill=\"#FEFECE\" filter=\"url(#f7cedpkasch5d)\" height=\"42.9375\" id=\"E3\" style=\"stroke: #A80036; stroke-width: 1.5;\" width=\"126\" x=\"377\" y=\"41\"/><ellipse cx=\"394.25\" cy=\"59.9688\" fill=\"#A52A2A\" rx=\"11\" ry=\"11\" style=\"stroke: #A80036; stroke-width: 1.0;\"/><path d=\"M393.8438,55.7813 L393.8438,63.7656 L394.5,63.7656 Q395.9375,63.7656 396.5469,62.8594 Q397.1719,61.9375 397.1719,59.7656 Q397.1719,57.5938 396.5469,56.6875 Q395.9375,55.7813 394.5,55.7813 L393.8438,55.7813 Z M391.3906,53.5781 L394.0156,53.5781 Q397.0469,53.5781 398.375,55.0313 Q399.7188,56.4688 399.7188,59.7656 Q399.7188,63.0625 398.375,64.5156 Q397.0469,65.9688 394.0156,65.9688 L391.3906,65.9688 L391.3906,53.5781 Z \"/><text fill=\"#000000\" font-family=\"sans-serif\" font-size=\"12\" font-style=\"italic\" lengthAdjust=\"spacingAndGlyphs\" textLength=\"93\" x=\"406.75\" y=\"57.1387\">«attribute def»</text><text fill=\"#000000\" font-family=\"sans-serif\" font-size=\"12\" lengthAdjust=\"spacingAndGlyphs\" textLength=\"22\" x=\"442.25\" y=\"71.1074\">Exit</text></a></g><g id=\"E1.E6\"><a href=\"psysml:0bc7341d-f31b-4869-a064-1af20ff16fcc\" target=\"_top\" title=\"psysml:0bc7341d-f31b-4869-a064-1af20ff16fcc\" xlink:actuate=\"onRequest\" xlink:href=\"psysml:0bc7341d-f31b-4869-a064-1af20ff16fcc\" xlink:show=\"new\" xlink:title=\"psysml:0bc7341d-f31b-4869-a064-1af20ff16fcc\" xlink:type=\"simple\"><rect fill=\"#FEFECE\" filter=\"url(#f7cedpkasch5d)\" height=\"42.9375\" id=\"E6\" style=\"stroke: #A80036; stroke-width: 1.5;\" width=\"104\" x=\"238\" y=\"41\"/><ellipse cx=\"255.25\" cy=\"59.9688\" fill=\"#A52A2A\" rx=\"11\" ry=\"11\" style=\"stroke: #A80036; stroke-width: 1.0;\"/><path d=\"M254.8438,55.7813 L254.8438,63.7656 L255.5,63.7656 Q256.9375,63.7656 257.5469,62.8594 Q258.1719,61.9375 258.1719,59.7656 Q258.1719,57.5938 257.5469,56.6875 Q256.9375,55.7813 255.5,55.7813 L254.8438,55.7813 Z M252.3906,53.5781 L255.0156,53.5781 Q258.0469,53.5781 259.375,55.0313 Q260.7188,56.4688 260.7188,59.7656 Q260.7188,63.0625 259.375,64.5156 Q258.0469,65.9688 255.0156,65.9688 L252.3906,65.9688 L252.3906,53.5781 Z \"/><text fill=\"#000000\" font-family=\"sans-serif\" font-size=\"12\" font-style=\"italic\" lengthAdjust=\"spacingAndGlyphs\" textLength=\"71\" x=\"267.75\" y=\"57.1387\">«state def»</text><text fill=\"#000000\" font-family=\"sans-serif\" font-size=\"12\" lengthAdjust=\"spacingAndGlyphs\" textLength=\"8\" x=\"299.25\" y=\"71.1074\">S</text></a></g><g id=\"E1.E4\"><a href=\"psysml:64a2c9fa-aa89-4eff-b01c-ff58906cbde0\" target=\"_top\" title=\"psysml:64a2c9fa-aa89-4eff-b01c-ff58906cbde0\" xlink:actuate=\"onRequest\" xlink:href=\"psysml:64a2c9fa-aa89-4eff-b01c-ff58906cbde0\" xlink:show=\"new\" xlink:title=\"psysml:64a2c9fa-aa89-4eff-b01c-ff58906cbde0\" xlink:type=\"simple\"><rect fill=\"#FEFECE\" filter=\"url(#f7cedpkasch5d)\" height=\"40\" id=\"E4\" rx=\"10\" ry=\"10\" style=\"stroke: #A80036; stroke-width: 1.5;\" width=\"50\" x=\"153\" y=\"42.5\"/><ellipse cx=\"172.5\" cy=\"58.5\" fill=\"#B6DBBB\" rx=\"11\" ry=\"11\" style=\"stroke: #A80036; stroke-width: 1.0;\"/><path d=\"M168.375,60.4219 L168.375,52.6094 L170.8281,52.6094 L170.8281,61.0469 Q170.8281,61.9688 171.2969,62.5 Q171.7813,63.0313 172.6094,63.0313 Q173.4531,63.0313 173.9219,62.5 Q174.3906,61.9688 174.3906,61.0469 L174.3906,52.6094 L176.8438,52.6094 L176.8438,60.4219 Q176.8438,62.9531 175.8438,64.0938 Q174.8438,65.2344 172.6094,65.2344 Q170.3906,65.2344 169.375,64.0938 Q168.375,62.9531 168.375,60.4219 Z \"/><text fill=\"#000000\" font-family=\"sans-serif\" font-size=\"12\" lengthAdjust=\"spacingAndGlyphs\" textLength=\"8\" x=\"187.5\" y=\"62.6543\">p</text></a></g><g id=\"E1.E5\"><a href=\"psysml:6519856a-88df-4cdc-a713-a9dddd16e281\" target=\"_top\" title=\"psysml:6519856a-88df-4cdc-a713-a9dddd16e281\" xlink:actuate=\"onRequest\" xlink:href=\"psysml:6519856a-88df-4cdc-a713-a9dddd16e281\" xlink:show=\"new\" xlink:title=\"psysml:6519856a-88df-4cdc-a713-a9dddd16e281\" xlink:type=\"simple\"><rect fill=\"#FEFECE\" filter=\"url(#f7cedpkasch5d)\" height=\"42.9375\" id=\"E5\" rx=\"10\" ry=\"10\" style=\"stroke: #A80036; stroke-width: 1.5;\" width=\"86\" x=\"32\" y=\"41\"/><ellipse cx=\"49.25\" cy=\"59.9688\" fill=\"#FFA500\" rx=\"11\" ry=\"11\" style=\"stroke: #A80036; stroke-width: 1.0;\"/><path d=\"M45.125,61.8906 L45.125,54.0781 L47.5781,54.0781 L47.5781,62.5156 Q47.5781,63.4375 48.0469,63.9688 Q48.5313,64.5 49.3594,64.5 Q50.2031,64.5 50.6719,63.9688 Q51.1406,63.4375 51.1406,62.5156 L51.1406,54.0781 L53.5938,54.0781 L53.5938,61.8906 Q53.5938,64.4219 52.5938,65.5625 Q51.5938,66.7031 49.3594,66.7031 Q47.1406,66.7031 46.125,65.5625 Q45.125,64.4219 45.125,61.8906 Z \"/><text fill=\"#000000\" font-family=\"sans-serif\" font-size=\"12\" font-style=\"italic\" lengthAdjust=\"spacingAndGlyphs\" textLength=\"53\" x=\"61.75\" y=\"57.1387\">«action»</text><text fill=\"#000000\" font-family=\"sans-serif\" font-size=\"12\" lengthAdjust=\"spacingAndGlyphs\" textLength=\"20\" x=\"78.25\" y=\"71.1074\">act</text></a></g><!--MD5=[6cfb9ad396ac494641f6071835f3b798]\n",
       "@startuml\r\n",
       "skinparam ranksep 8\r\n",
       "skinparam rectangle {\r\n",
       " backgroundColor<<block>> LightGreen\r\n",
       "}\r\n",
       " \r\n",
       "package \"StateTest\" as E1  [[psysml:5e99c5ac-660c-4bcd-ba7f-80dc44a07c9e ]]  {\r\n",
       "def \"Sig\" as E2  <<(D,brown)attribute def>> [[psysml:408e0494-0708-476d-85d5-333a69b53e96 ]] \r\n",
       "def \"Exit\" as E3  <<(D,brown)attribute def>> [[psysml:0109ef31-4e51-4de7-9ac0-eb82fbd89c67 ]] \r\n",
       "rec usage \"p\" as E4  [[psysml:64a2c9fa-aa89-4eff-b01c-ff58906cbde0 ]] {\r\n",
       "}\r\n",
       "rec usage \"act\" as E5  <<(U,orange)action>> [[psysml:6519856a-88df-4cdc-a713-a9dddd16e281 ]] {\r\n",
       "}\r\n",
       "def \"S\" as E6  <<(D,brown)state def>> [[psysml:0bc7341d-f31b-4869-a064-1af20ff16fcc ]] \r\n",
       "}\r\n",
       "@enduml\r\n",
       "\n",
       "PlantUML version 1.2020.13(Sat Jun 13 12:26:38 UTC 2020)\n",
       "(EPL source distribution)\n",
       "Java Runtime: OpenJDK Runtime Environment\n",
       "JVM: OpenJDK 64-Bit Server VM\n",
       "Default Encoding: UTF-8\n",
       "Language: en\n",
       "Country: null\n",
       "--></g></svg>"
      ]
     },
     "execution_count": 33,
     "metadata": {},
     "output_type": "execute_result"
    }
   ],
   "source": [
    "%viz --style=\"PLANTUML\" --view=\"Interconnection\" \"StateTest\""
   ]
  },
  {
   "cell_type": "code",
   "execution_count": 34,
   "id": "hydraulic-kelly",
   "metadata": {
    "execution": {
     "iopub.execute_input": "2021-03-26T13:02:47.545782Z",
     "iopub.status.busy": "2021-03-26T13:02:47.529002Z",
     "iopub.status.idle": "2021-03-26T13:02:47.558977Z",
     "shell.execute_reply": "2021-03-26T13:02:47.560673Z"
    }
   },
   "outputs": [
    {
     "data": {
      "image/svg+xml": [
       "<?xml version=\"1.0\" encoding=\"UTF-8\" standalone=\"no\"?><svg xmlns=\"http://www.w3.org/2000/svg\" xmlns:xlink=\"http://www.w3.org/1999/xlink\" contentScriptType=\"application/ecmascript\" contentStyleType=\"text/css\" height=\"386px\" preserveAspectRatio=\"none\" style=\"width:811px;height:386px;background:#000000;\" version=\"1.1\" viewBox=\"0 0 811 386\" width=\"811px\" zoomAndPan=\"magnify\"><defs/><g><rect fill=\"#0B0619\" height=\"1\" style=\"stroke: #0B0619; stroke-width: 1.0;\" width=\"1\" x=\"0\" y=\"0\"/><rect fill=\"#33FF02\" height=\"21.2969\" style=\"stroke: #33FF02; stroke-width: 1.0;\" width=\"804\" x=\"5\" y=\"5\"/><text fill=\"#000000\" font-family=\"sans-serif\" font-size=\"14\" font-weight=\"bold\" lengthAdjust=\"spacingAndGlyphs\" textLength=\"178\" x=\"6\" y=\"20\">[From string (line 20) ]</text><text fill=\"#33FF02\" font-family=\"sans-serif\" font-size=\"14\" font-weight=\"bold\" lengthAdjust=\"spacingAndGlyphs\" textLength=\"0\" x=\"10\" y=\"40.2969\"/><text fill=\"#33FF02\" font-family=\"sans-serif\" font-size=\"14\" font-weight=\"bold\" lengthAdjust=\"spacingAndGlyphs\" textLength=\"79\" x=\"5\" y=\"56.5938\">@startuml</text><text fill=\"#33FF02\" font-family=\"sans-serif\" font-size=\"14\" font-weight=\"bold\" lengthAdjust=\"spacingAndGlyphs\" textLength=\"165\" x=\"5\" y=\"72.8906\">skinparam ranksep 8</text><text fill=\"#33FF02\" font-family=\"sans-serif\" font-size=\"14\" font-weight=\"bold\" lengthAdjust=\"spacingAndGlyphs\" textLength=\"0\" x=\"10\" y=\"89.1875\"/><text fill=\"#33FF02\" font-family=\"sans-serif\" font-size=\"14\" font-weight=\"bold\" lengthAdjust=\"spacingAndGlyphs\" textLength=\"804\" x=\"5\" y=\"105.4844\">rec usage \"act\" as E1  &lt;&lt;(U,orange)action&gt;&gt; [[psysml:6519856a-88df-4cdc-a713-a9dddd16e281 ]] {</text><text fill=\"#33FF02\" font-family=\"sans-serif\" font-size=\"14\" font-weight=\"bold\" lengthAdjust=\"spacingAndGlyphs\" textLength=\"10\" x=\"5\" y=\"121.7813\">}</text><text fill=\"#33FF02\" font-family=\"sans-serif\" font-size=\"14\" font-weight=\"bold\" lengthAdjust=\"spacingAndGlyphs\" textLength=\"0\" x=\"10\" y=\"138.0781\"/><text fill=\"#33FF02\" font-family=\"sans-serif\" font-size=\"14\" font-weight=\"bold\" lengthAdjust=\"spacingAndGlyphs\" textLength=\"770\" x=\"5\" y=\"154.375\">rec def \"S\" as E2  &lt;&lt;(D,brown)state def&gt;&gt; [[psysml:0bc7341d-f31b-4869-a064-1af20ff16fcc ]] {</text><text fill=\"#33FF02\" font-family=\"sans-serif\" font-size=\"14\" font-weight=\"bold\" lengthAdjust=\"spacingAndGlyphs\" textLength=\"771\" x=\"5\" y=\"170.6719\">rec usage \"A\" as E3 &lt;&lt;perform action&gt;&gt; [[psysml:24ce981a-669a-4b1b-8e70-ec9679f168ba ]] {</text><text fill=\"#33FF02\" font-family=\"sans-serif\" font-size=\"14\" font-weight=\"bold\" lengthAdjust=\"spacingAndGlyphs\" textLength=\"10\" x=\"5\" y=\"186.9688\">}</text><text fill=\"#33FF02\" font-family=\"sans-serif\" font-size=\"14\" font-weight=\"bold\" lengthAdjust=\"spacingAndGlyphs\" textLength=\"0\" x=\"10\" y=\"203.2656\"/><text fill=\"#33FF02\" font-family=\"sans-serif\" font-size=\"14\" font-weight=\"bold\" lengthAdjust=\"spacingAndGlyphs\" textLength=\"773\" x=\"5\" y=\"219.5625\">rec usage \"B\" as E4 &lt;&lt;perform action&gt;&gt; [[psysml:0cb81d18-66e4-4e05-a75e-b6d7358364f8 ]] {</text><text fill=\"#33FF02\" font-family=\"sans-serif\" font-size=\"14\" font-weight=\"bold\" lengthAdjust=\"spacingAndGlyphs\" textLength=\"10\" x=\"5\" y=\"235.8594\">}</text><text fill=\"#33FF02\" font-family=\"sans-serif\" font-size=\"14\" font-weight=\"bold\" lengthAdjust=\"spacingAndGlyphs\" textLength=\"0\" x=\"10\" y=\"252.1563\"/><text fill=\"#33FF02\" font-family=\"sans-serif\" font-size=\"14\" font-weight=\"bold\" lengthAdjust=\"spacingAndGlyphs\" textLength=\"789\" x=\"5\" y=\"268.4531\">rec usage \"act\" as E5 &lt;&lt;perform action&gt;&gt; [[psysml:3038242a-7c4d-4726-ae4e-c76791d4ee71 ]] {</text><text fill=\"#33FF02\" font-family=\"sans-serif\" font-size=\"14\" font-weight=\"bold\" lengthAdjust=\"spacingAndGlyphs\" textLength=\"10\" x=\"5\" y=\"284.75\">}</text><text fill=\"#33FF02\" font-family=\"sans-serif\" font-size=\"14\" font-weight=\"bold\" lengthAdjust=\"spacingAndGlyphs\" textLength=\"0\" x=\"10\" y=\"301.0469\"/><text fill=\"#33FF02\" font-family=\"sans-serif\" font-size=\"14\" font-weight=\"bold\" lengthAdjust=\"spacingAndGlyphs\" textLength=\"792\" x=\"5\" y=\"317.3438\">rec usage \"S1\" as E6  &lt;&lt;(U,orange)state&gt;&gt; [[psysml:70242e19-3f56-46b0-b4b5-fd0d440c29ee ]] {</text><text fill=\"#33FF02\" font-family=\"sans-serif\" font-size=\"14\" font-weight=\"bold\" lengthAdjust=\"spacingAndGlyphs\" textLength=\"10\" x=\"5\" y=\"333.6406\">}</text><text fill=\"#33FF02\" font-family=\"sans-serif\" font-size=\"14\" font-weight=\"bold\" lengthAdjust=\"spacingAndGlyphs\" textLength=\"0\" x=\"10\" y=\"349.9375\"/><text fill=\"#33FF02\" font-family=\"sans-serif\" font-size=\"14\" font-weight=\"bold\" lengthAdjust=\"spacingAndGlyphs\" textLength=\"10\" x=\"5\" y=\"366.2344\">{</text><text fill=\"#FF0000\" font-family=\"sans-serif\" font-size=\"14\" font-weight=\"bold\" lengthAdjust=\"spacingAndGlyphs\" textLength=\"106\" x=\"10\" y=\"382.5313\">Syntax Error?</text><!--MD5=[89240142eeb830de3ef0e77b6823b9a4]\n",
       "@startuml\r\n",
       "skinparam ranksep 8\r\n",
       " \r\n",
       "rec usage \"act\" as E1  <<(U,orange)action>> [[psysml:6519856a-88df-4cdc-a713-a9dddd16e281 ]] {\r\n",
       "}\r\n",
       "\r\n",
       "rec def \"S\" as E2  <<(D,brown)state def>> [[psysml:0bc7341d-f31b-4869-a064-1af20ff16fcc ]] {\r\n",
       "rec usage \"A\" as E3 <<perform action>> [[psysml:24ce981a-669a-4b1b-8e70-ec9679f168ba ]] {\r\n",
       "}\r\n",
       "\r\n",
       "rec usage \"B\" as E4 <<perform action>> [[psysml:0cb81d18-66e4-4e05-a75e-b6d7358364f8 ]] {\r\n",
       "}\r\n",
       "\r\n",
       "rec usage \"act\" as E5 <<perform action>> [[psysml:3038242a-7c4d-4726-ae4e-c76791d4ee71 ]] {\r\n",
       "}\r\n",
       "\r\n",
       "rec usage \"S1\" as E6  <<(U,orange)state>> [[psysml:70242e19-3f56-46b0-b4b5-fd0d440c29ee ]] {\r\n",
       "}\r\n",
       "\r\n",
       "{\r\n",
       "{\r\n",
       "}\r\n",
       "\r\n",
       "rec usage \"D\" as E7 <<perform action>> [[psysml:9fa67b9a-f55b-4b6f-8c3c-7583e77a313e ]] {\r\n",
       "}\r\n",
       "\r\n",
       "}\r\n",
       "\r\n",
       "rec usage \"S2\" as E8  <<(U,orange)state>> [[psysml:a085f23d-1115-47bd-987f-c38856471ed2 ]] {\r\n",
       "rec usage \"doAction\" as E9 <<send action>> [[psysml:cfc90439-05ae-44f8-b88d-04fe860fe407 ]] {\r\n",
       "portin \"$x\" as E10  [[psysml:ae5b5913-d198-445b-b606-f76bd72ed7d9 ]] \r\n",
       "portout \"$result\" as E11  [[psysml:f2619e5d-ad00-4b4a-a4fe-7cd7945e1b82 ]] \r\n",
       "}\r\n",
       "\r\n",
       "}\r\n",
       "\r\n",
       "{\r\n",
       "{\r\n",
       "}\r\n",
       "\r\n",
       "}\r\n",
       "\r\n",
       "rec usage \"T\" as E12  <<(U,orange)transition>> [[psysml:b2ce6d4b-1a56-4d0e-ade4-ffb9136266c2 ]] {\r\n",
       "rec usage \"S2\" as E13  <<(U,orange)state>> [[psysml:a085f23d-1115-47bd-987f-c38856471ed2 ]] {\r\n",
       "rec usage \"doAction\" as E14 <<send action>> [[psysml:cfc90439-05ae-44f8-b88d-04fe860fe407 ]] {\r\n",
       "portin \"$x\" as E15  [[psysml:ae5b5913-d198-445b-b606-f76bd72ed7d9 ]] \r\n",
       "portout \"$result\" as E16  [[psysml:f2619e5d-ad00-4b4a-a4fe-7cd7945e1b82 ]] \r\n",
       "}\r\n",
       "\r\n",
       "}\r\n",
       "\r\n",
       "{\r\n",
       "}\r\n",
       "\r\n",
       "portout \"$result\" as E17  [[psysml:9abbd064-7570-4e45-a029-f7befd203c67 ]] \r\n",
       "{\r\n",
       "}\r\n",
       "\r\n",
       "}\r\n",
       "\r\n",
       "}\r\n",
       "\r\n",
       "@enduml\r\n",
       "\n",
       "PlantUML version 1.2020.13(Sat Jun 13 12:26:38 UTC 2020)\n",
       "(EPL source distribution)\n",
       "Java Runtime: OpenJDK Runtime Environment\n",
       "JVM: OpenJDK 64-Bit Server VM\n",
       "Default Encoding: UTF-8\n",
       "Language: en\n",
       "Country: null\n",
       "--></g></svg>"
      ]
     },
     "execution_count": 34,
     "metadata": {},
     "output_type": "execute_result"
    }
   ],
   "source": [
    "%viz --style=\"PLANTUML\" --view=\"Action\" \"StateTest\""
   ]
  },
  {
   "cell_type": "code",
   "execution_count": 35,
   "id": "beautiful-finland",
   "metadata": {
    "execution": {
     "iopub.execute_input": "2021-03-26T13:02:47.610309Z",
     "iopub.status.busy": "2021-03-26T13:02:47.609919Z",
     "iopub.status.idle": "2021-03-26T13:02:47.732708Z",
     "shell.execute_reply": "2021-03-26T13:02:47.731154Z"
    }
   },
   "outputs": [
    {
     "data": {
      "image/svg+xml": [
       "<?xml version=\"1.0\" encoding=\"UTF-8\" standalone=\"no\"?><svg xmlns=\"http://www.w3.org/2000/svg\" xmlns:xlink=\"http://www.w3.org/1999/xlink\" contentScriptType=\"application/ecmascript\" contentStyleType=\"text/css\" height=\"471px\" preserveAspectRatio=\"none\" style=\"width:702px;height:471px;\" version=\"1.1\" viewBox=\"0 0 702 471\" width=\"702px\" zoomAndPan=\"magnify\"><defs><filter height=\"300%\" id=\"f1jn1ky99wr1k\" width=\"300%\" x=\"-1\" y=\"-1\"><feGaussianBlur result=\"blurOut\" stdDeviation=\"2.0\"/><feColorMatrix in=\"blurOut\" result=\"blurOut2\" type=\"matrix\" values=\"0 0 0 0 0 0 0 0 0 0 0 0 0 0 0 0 0 0 .4 0\"/><feOffset dx=\"4.0\" dy=\"4.0\" in=\"blurOut2\" result=\"blurOut3\"/><feBlend in=\"SourceGraphic\" in2=\"blurOut3\" mode=\"normal\"/></filter></defs><g><!--MD5=[fbc87193dbaf4d95561dea2c320d4a47]\n",
       "cluster E1--><a href=\"psysml:5e99c5ac-660c-4bcd-ba7f-80dc44a07c9e\" target=\"_top\" title=\"psysml:5e99c5ac-660c-4bcd-ba7f-80dc44a07c9e\" xlink:actuate=\"onRequest\" xlink:href=\"psysml:5e99c5ac-660c-4bcd-ba7f-80dc44a07c9e\" xlink:show=\"new\" xlink:title=\"psysml:5e99c5ac-660c-4bcd-ba7f-80dc44a07c9e\" xlink:type=\"simple\"><polygon fill=\"#FFFFFF\" filter=\"url(#f1jn1ky99wr1k)\" points=\"16,6,98,6,105,28.2969,680,28.2969,680,459,16,459,16,6\" style=\"stroke: #000000; stroke-width: 1.5;\"/><line style=\"stroke: #000000; stroke-width: 1.5;\" x1=\"16\" x2=\"105\" y1=\"28.2969\" y2=\"28.2969\"/><text fill=\"#000000\" font-family=\"sans-serif\" font-size=\"14\" font-weight=\"bold\" lengthAdjust=\"spacingAndGlyphs\" textLength=\"76\" x=\"20\" y=\"20.9951\">StateTest</text></a><!--MD5=[b4997ac47864f28c2f74865a473b2911]\n",
       "class E2--><a href=\"psysml:408e0494-0708-476d-85d5-333a69b53e96\" target=\"_top\" title=\"psysml:408e0494-0708-476d-85d5-333a69b53e96\" xlink:actuate=\"onRequest\" xlink:href=\"psysml:408e0494-0708-476d-85d5-333a69b53e96\" xlink:show=\"new\" xlink:title=\"psysml:408e0494-0708-476d-85d5-333a69b53e96\" xlink:type=\"simple\"><rect fill=\"#FEFECE\" filter=\"url(#f1jn1ky99wr1k)\" height=\"58.7422\" id=\"E2\" style=\"stroke: #A80036; stroke-width: 1.5;\" width=\"121\" x=\"542.5\" y=\"91.5\"/><ellipse cx=\"557.5\" cy=\"110.4688\" fill=\"#A52A2A\" rx=\"11\" ry=\"11\" style=\"stroke: #A80036; stroke-width: 1.0;\"/><path d=\"M557.0938,106.2813 L557.0938,114.2656 L557.75,114.2656 Q559.1875,114.2656 559.7969,113.3594 Q560.4219,112.4375 560.4219,110.2656 Q560.4219,108.0938 559.7969,107.1875 Q559.1875,106.2813 557.75,106.2813 L557.0938,106.2813 Z M554.6406,104.0781 L557.2656,104.0781 Q560.2969,104.0781 561.625,105.5313 Q562.9688,106.9688 562.9688,110.2656 Q562.9688,113.5625 561.625,115.0156 Q560.2969,116.4688 557.2656,116.4688 L554.6406,116.4688 L554.6406,104.0781 Z \"/><text fill=\"#000000\" font-family=\"sans-serif\" font-size=\"12\" font-style=\"italic\" lengthAdjust=\"spacingAndGlyphs\" textLength=\"93\" x=\"569.5\" y=\"107.6387\">«attribute def»</text><text fill=\"#000000\" font-family=\"sans-serif\" font-size=\"12\" lengthAdjust=\"spacingAndGlyphs\" textLength=\"19\" x=\"606.5\" y=\"121.6074\">Sig</text><line style=\"stroke: #A80036; stroke-width: 1.5;\" x1=\"543.5\" x2=\"662.5\" y1=\"129.4375\" y2=\"129.4375\"/><text fill=\"#000000\" font-family=\"sans-serif\" font-size=\"11\" lengthAdjust=\"spacingAndGlyphs\" textLength=\"6\" x=\"548.5\" y=\"143.6479\">x</text></a><!--MD5=[09b614a08d8cba4a07c9adeb5e0fee81]\n",
       "class E3--><a href=\"psysml:0109ef31-4e51-4de7-9ac0-eb82fbd89c67\" target=\"_top\" title=\"psysml:0109ef31-4e51-4de7-9ac0-eb82fbd89c67\" xlink:actuate=\"onRequest\" xlink:href=\"psysml:0109ef31-4e51-4de7-9ac0-eb82fbd89c67\" xlink:show=\"new\" xlink:title=\"psysml:0109ef31-4e51-4de7-9ac0-eb82fbd89c67\" xlink:type=\"simple\"><rect fill=\"#FEFECE\" filter=\"url(#f1jn1ky99wr1k)\" height=\"45.9375\" id=\"E3\" style=\"stroke: #A80036; stroke-width: 1.5;\" width=\"121\" x=\"386.5\" y=\"98\"/><ellipse cx=\"401.5\" cy=\"116.9688\" fill=\"#A52A2A\" rx=\"11\" ry=\"11\" style=\"stroke: #A80036; stroke-width: 1.0;\"/><path d=\"M401.0938,112.7813 L401.0938,120.7656 L401.75,120.7656 Q403.1875,120.7656 403.7969,119.8594 Q404.4219,118.9375 404.4219,116.7656 Q404.4219,114.5938 403.7969,113.6875 Q403.1875,112.7813 401.75,112.7813 L401.0938,112.7813 Z M398.6406,110.5781 L401.2656,110.5781 Q404.2969,110.5781 405.625,112.0313 Q406.9688,113.4688 406.9688,116.7656 Q406.9688,120.0625 405.625,121.5156 Q404.2969,122.9688 401.2656,122.9688 L398.6406,122.9688 L398.6406,110.5781 Z \"/><text fill=\"#000000\" font-family=\"sans-serif\" font-size=\"12\" font-style=\"italic\" lengthAdjust=\"spacingAndGlyphs\" textLength=\"93\" x=\"413.5\" y=\"114.1387\">«attribute def»</text><text fill=\"#000000\" font-family=\"sans-serif\" font-size=\"12\" lengthAdjust=\"spacingAndGlyphs\" textLength=\"22\" x=\"449\" y=\"128.1074\">Exit</text><line style=\"stroke: #A80036; stroke-width: 1.5;\" x1=\"387.5\" x2=\"506.5\" y1=\"135.9375\" y2=\"135.9375\"/></a><!--MD5=[ebbe1d658d1005bcc118a6aa81145e00]\n",
       "class E4--><a href=\"psysml:64a2c9fa-aa89-4eff-b01c-ff58906cbde0\" target=\"_top\" title=\"psysml:64a2c9fa-aa89-4eff-b01c-ff58906cbde0\" xlink:actuate=\"onRequest\" xlink:href=\"psysml:64a2c9fa-aa89-4eff-b01c-ff58906cbde0\" xlink:show=\"new\" xlink:title=\"psysml:64a2c9fa-aa89-4eff-b01c-ff58906cbde0\" xlink:type=\"simple\"><rect fill=\"#FEFECE\" filter=\"url(#f1jn1ky99wr1k)\" height=\"45.9375\" id=\"E4\" rx=\"10\" ry=\"10\" style=\"stroke: #A80036; stroke-width: 1.5;\" width=\"68\" x=\"283\" y=\"98\"/><ellipse cx=\"298\" cy=\"116.9688\" fill=\"#32CD32\" rx=\"11\" ry=\"11\" style=\"stroke: #A80036; stroke-width: 1.0;\"/><path d=\"M297.7969,112.6406 L297.7969,116.2656 L298.7969,116.2656 Q300,116.2656 300.4844,115.8594 Q300.9688,115.4531 300.9688,114.4531 Q300.9688,113.4531 300.4844,113.0469 Q300,112.6406 298.7969,112.6406 L297.7969,112.6406 Z M295.3438,110.5781 L298.7031,110.5781 Q301.2656,110.5781 302.3906,111.5 Q303.5156,112.4063 303.5156,114.4531 Q303.5156,116.5 302.3906,117.4219 Q301.2656,118.3281 298.7031,118.3281 L297.7969,118.3281 L297.7969,122.9688 L295.3438,122.9688 L295.3438,110.5781 Z \"/><text fill=\"#000000\" font-family=\"sans-serif\" font-size=\"12\" font-style=\"italic\" lengthAdjust=\"spacingAndGlyphs\" textLength=\"40\" x=\"310\" y=\"114.1387\">«part»</text><text fill=\"#000000\" font-family=\"sans-serif\" font-size=\"12\" lengthAdjust=\"spacingAndGlyphs\" textLength=\"8\" x=\"326\" y=\"128.1074\">p</text><line style=\"stroke: #A80036; stroke-width: 1.5;\" x1=\"284\" x2=\"350\" y1=\"135.9375\" y2=\"135.9375\"/></a><!--MD5=[270fce915f116d4de14055a7c1d9a0f3]\n",
       "class E5--><a href=\"psysml:6519856a-88df-4cdc-a713-a9dddd16e281\" target=\"_top\" title=\"psysml:6519856a-88df-4cdc-a713-a9dddd16e281\" xlink:actuate=\"onRequest\" xlink:href=\"psysml:6519856a-88df-4cdc-a713-a9dddd16e281\" xlink:show=\"new\" xlink:title=\"psysml:6519856a-88df-4cdc-a713-a9dddd16e281\" xlink:type=\"simple\"><rect fill=\"#FEFECE\" filter=\"url(#f1jn1ky99wr1k)\" height=\"45.9375\" id=\"E5\" rx=\"10\" ry=\"10\" style=\"stroke: #A80036; stroke-width: 1.5;\" width=\"81\" x=\"166.5\" y=\"98\"/><ellipse cx=\"181.5\" cy=\"116.9688\" fill=\"#FFA500\" rx=\"11\" ry=\"11\" style=\"stroke: #A80036; stroke-width: 1.0;\"/><path d=\"M177.375,118.8906 L177.375,111.0781 L179.8281,111.0781 L179.8281,119.5156 Q179.8281,120.4375 180.2969,120.9688 Q180.7813,121.5 181.6094,121.5 Q182.4531,121.5 182.9219,120.9688 Q183.3906,120.4375 183.3906,119.5156 L183.3906,111.0781 L185.8438,111.0781 L185.8438,118.8906 Q185.8438,121.4219 184.8438,122.5625 Q183.8438,123.7031 181.6094,123.7031 Q179.3906,123.7031 178.375,122.5625 Q177.375,121.4219 177.375,118.8906 Z \"/><text fill=\"#000000\" font-family=\"sans-serif\" font-size=\"12\" font-style=\"italic\" lengthAdjust=\"spacingAndGlyphs\" textLength=\"53\" x=\"193.5\" y=\"114.1387\">«action»</text><text fill=\"#000000\" font-family=\"sans-serif\" font-size=\"12\" lengthAdjust=\"spacingAndGlyphs\" textLength=\"20\" x=\"210\" y=\"128.1074\">act</text><line style=\"stroke: #A80036; stroke-width: 1.5;\" x1=\"167.5\" x2=\"246.5\" y1=\"135.9375\" y2=\"135.9375\"/></a><!--MD5=[60a26617385b1d2d0262a64233df1f8d]\n",
       "class E6--><a href=\"psysml:0bc7341d-f31b-4869-a064-1af20ff16fcc\" target=\"_top\" title=\"psysml:0bc7341d-f31b-4869-a064-1af20ff16fcc\" xlink:actuate=\"onRequest\" xlink:href=\"psysml:0bc7341d-f31b-4869-a064-1af20ff16fcc\" xlink:show=\"new\" xlink:title=\"psysml:0bc7341d-f31b-4869-a064-1af20ff16fcc\" xlink:type=\"simple\"><rect fill=\"#FEFECE\" filter=\"url(#f1jn1ky99wr1k)\" height=\"160.375\" id=\"E6\" style=\"stroke: #A80036; stroke-width: 1.5;\" width=\"99\" x=\"32.5\" y=\"41\"/><ellipse cx=\"47.5\" cy=\"59.9688\" fill=\"#A52A2A\" rx=\"11\" ry=\"11\" style=\"stroke: #A80036; stroke-width: 1.0;\"/><path d=\"M47.0938,55.7813 L47.0938,63.7656 L47.75,63.7656 Q49.1875,63.7656 49.7969,62.8594 Q50.4219,61.9375 50.4219,59.7656 Q50.4219,57.5938 49.7969,56.6875 Q49.1875,55.7813 47.75,55.7813 L47.0938,55.7813 Z M44.6406,53.5781 L47.2656,53.5781 Q50.2969,53.5781 51.625,55.0313 Q52.9688,56.4688 52.9688,59.7656 Q52.9688,63.0625 51.625,64.5156 Q50.2969,65.9688 47.2656,65.9688 L44.6406,65.9688 L44.6406,53.5781 Z \"/><text fill=\"#000000\" font-family=\"sans-serif\" font-size=\"12\" font-style=\"italic\" lengthAdjust=\"spacingAndGlyphs\" textLength=\"71\" x=\"59.5\" y=\"57.1387\">«state def»</text><text fill=\"#000000\" font-family=\"sans-serif\" font-size=\"12\" lengthAdjust=\"spacingAndGlyphs\" textLength=\"8\" x=\"91\" y=\"71.1074\">S</text><line style=\"stroke: #A80036; stroke-width: 1.5;\" x1=\"33.5\" x2=\"130.5\" y1=\"78.9375\" y2=\"78.9375\"/><text fill=\"#000000\" font-family=\"sans-serif\" font-size=\"11\" lengthAdjust=\"spacingAndGlyphs\" textLength=\"17\" x=\"38.5\" y=\"109.9526\">act</text><text fill=\"#000000\" font-family=\"sans-serif\" font-size=\"11\" lengthAdjust=\"spacingAndGlyphs\" textLength=\"7\" x=\"38.5\" y=\"122.7573\">A</text><text fill=\"#000000\" font-family=\"sans-serif\" font-size=\"11\" lengthAdjust=\"spacingAndGlyphs\" textLength=\"8\" x=\"38.5\" y=\"135.562\">B</text><line style=\"stroke: #A80036; stroke-width: 1.0;\" x1=\"33.5\" x2=\"38.5\" y1=\"93.3398\" y2=\"93.3398\"/><text fill=\"#000000\" font-family=\"sans-serif\" font-size=\"11\" lengthAdjust=\"spacingAndGlyphs\" textLength=\"87\" x=\"38.5\" y=\"96.6479\">performActions</text><line style=\"stroke: #A80036; stroke-width: 1.0;\" x1=\"125.5\" x2=\"130.5\" y1=\"93.3398\" y2=\"93.3398\"/><text fill=\"#000000\" font-family=\"sans-serif\" font-size=\"11\" lengthAdjust=\"spacingAndGlyphs\" textLength=\"15\" x=\"38.5\" y=\"165.1714\">S1</text><line style=\"stroke: #A80036; stroke-width: 1.0;\" x1=\"33.5\" x2=\"64\" y1=\"148.5586\" y2=\"148.5586\"/><text fill=\"#000000\" font-family=\"sans-serif\" font-size=\"11\" lengthAdjust=\"spacingAndGlyphs\" textLength=\"36\" x=\"64\" y=\"151.8667\">states</text><line style=\"stroke: #A80036; stroke-width: 1.0;\" x1=\"100\" x2=\"130.5\" y1=\"148.5586\" y2=\"148.5586\"/><text fill=\"#000000\" font-family=\"sans-serif\" font-size=\"11\" lengthAdjust=\"spacingAndGlyphs\" textLength=\"7\" x=\"38.5\" y=\"194.7808\">T</text><line style=\"stroke: #A80036; stroke-width: 1.0;\" x1=\"33.5\" x2=\"51.5\" y1=\"178.168\" y2=\"178.168\"/><text fill=\"#000000\" font-family=\"sans-serif\" font-size=\"11\" lengthAdjust=\"spacingAndGlyphs\" textLength=\"61\" x=\"51.5\" y=\"181.4761\">transitions</text><line style=\"stroke: #A80036; stroke-width: 1.0;\" x1=\"112.5\" x2=\"130.5\" y1=\"178.168\" y2=\"178.168\"/></a><!--MD5=[1dd1bfd58a279cf63c5f349dbc8fc6a1]\n",
       "class E11--><a href=\"psysml:a085f23d-1115-47bd-987f-c38856471ed2\" target=\"_top\" title=\"psysml:a085f23d-1115-47bd-987f-c38856471ed2\" xlink:actuate=\"onRequest\" xlink:href=\"psysml:a085f23d-1115-47bd-987f-c38856471ed2\" xlink:show=\"new\" xlink:title=\"psysml:a085f23d-1115-47bd-987f-c38856471ed2\" xlink:type=\"simple\"><rect fill=\"#FEFECE\" filter=\"url(#f1jn1ky99wr1k)\" height=\"45.9375\" id=\"E11\" rx=\"10\" ry=\"10\" style=\"stroke: #A80036; stroke-width: 1.5;\" width=\"75\" x=\"48.5\" y=\"261\"/><ellipse cx=\"63.5\" cy=\"279.9688\" fill=\"#FFA500\" rx=\"11\" ry=\"11\" style=\"stroke: #A80036; stroke-width: 1.0;\"/><path d=\"M59.375,281.8906 L59.375,274.0781 L61.8281,274.0781 L61.8281,282.5156 Q61.8281,283.4375 62.2969,283.9688 Q62.7813,284.5 63.6094,284.5 Q64.4531,284.5 64.9219,283.9688 Q65.3906,283.4375 65.3906,282.5156 L65.3906,274.0781 L67.8438,274.0781 L67.8438,281.8906 Q67.8438,284.4219 66.8438,285.5625 Q65.8438,286.7031 63.6094,286.7031 Q61.3906,286.7031 60.375,285.5625 Q59.375,284.4219 59.375,281.8906 Z \"/><text fill=\"#000000\" font-family=\"sans-serif\" font-size=\"12\" font-style=\"italic\" lengthAdjust=\"spacingAndGlyphs\" textLength=\"47\" x=\"75.5\" y=\"277.1387\">«state»</text><text fill=\"#000000\" font-family=\"sans-serif\" font-size=\"12\" lengthAdjust=\"spacingAndGlyphs\" textLength=\"16\" x=\"91\" y=\"291.1074\">S2</text><line style=\"stroke: #A80036; stroke-width: 1.5;\" x1=\"49.5\" x2=\"122.5\" y1=\"298.9375\" y2=\"298.9375\"/></a><!--MD5=[49a0ec8f00dab7302a31f22d0f0fe584]\n",
       "class E12--><a href=\"psysml:cfc90439-05ae-44f8-b88d-04fe860fe407\" target=\"_top\" title=\"psysml:cfc90439-05ae-44f8-b88d-04fe860fe407\" xlink:actuate=\"onRequest\" xlink:href=\"psysml:cfc90439-05ae-44f8-b88d-04fe860fe407\" xlink:show=\"new\" xlink:title=\"psysml:cfc90439-05ae-44f8-b88d-04fe860fe407\" xlink:type=\"simple\"><rect fill=\"#FEFECE\" filter=\"url(#f1jn1ky99wr1k)\" height=\"75.5469\" id=\"E12\" rx=\"10\" ry=\"10\" style=\"stroke: #A80036; stroke-width: 1.5;\" width=\"116\" x=\"32\" y=\"367\"/><ellipse cx=\"47\" cy=\"385.9688\" fill=\"#B6DBBB\" rx=\"11\" ry=\"11\" style=\"stroke: #A80036; stroke-width: 1.0;\"/><path d=\"M42.875,387.8906 L42.875,380.0781 L45.3281,380.0781 L45.3281,388.5156 Q45.3281,389.4375 45.7969,389.9688 Q46.2813,390.5 47.1094,390.5 Q47.9531,390.5 48.4219,389.9688 Q48.8906,389.4375 48.8906,388.5156 L48.8906,380.0781 L51.3438,380.0781 L51.3438,387.8906 Q51.3438,390.4219 50.3438,391.5625 Q49.3438,392.7031 47.1094,392.7031 Q44.8906,392.7031 43.875,391.5625 Q42.875,390.4219 42.875,387.8906 Z \"/><text fill=\"#000000\" font-family=\"sans-serif\" font-size=\"12\" font-style=\"italic\" lengthAdjust=\"spacingAndGlyphs\" textLength=\"88\" x=\"59\" y=\"383.1387\">«send action»</text><text fill=\"#000000\" font-family=\"sans-serif\" font-size=\"12\" lengthAdjust=\"spacingAndGlyphs\" textLength=\"55\" x=\"75.5\" y=\"397.1074\">doAction</text><line style=\"stroke: #A80036; stroke-width: 1.5;\" x1=\"33\" x2=\"147\" y1=\"404.9375\" y2=\"404.9375\"/><text fill=\"#000000\" font-family=\"sans-serif\" font-size=\"11\" lengthAdjust=\"spacingAndGlyphs\" textLength=\"25\" x=\"38\" y=\"435.9526\">item</text><line style=\"stroke: #A80036; stroke-width: 1.0;\" x1=\"33\" x2=\"52.5\" y1=\"419.3398\" y2=\"419.3398\"/><text fill=\"#000000\" font-family=\"sans-serif\" font-size=\"11\" lengthAdjust=\"spacingAndGlyphs\" textLength=\"75\" x=\"52.5\" y=\"422.6479\">itemFeatures</text><line style=\"stroke: #A80036; stroke-width: 1.0;\" x1=\"127.5\" x2=\"147\" y1=\"419.3398\" y2=\"419.3398\"/></a><!--MD5=[1f5f03483f7de0d5b3680a7f6650997f]\n",
       "reverse link E6 to E11--><a href=\"psysml:a085f23d-1115-47bd-987f-c38856471ed2\" target=\"_top\" title=\"psysml:a085f23d-1115-47bd-987f-c38856471ed2\" xlink:actuate=\"onRequest\" xlink:href=\"psysml:a085f23d-1115-47bd-987f-c38856471ed2\" xlink:show=\"new\" xlink:title=\"psysml:a085f23d-1115-47bd-987f-c38856471ed2\" xlink:type=\"simple\"><path d=\"M84.29,214.17 C84.72,231.58 85.14,248.25 85.45,260.82 \" fill=\"none\" id=\"E6&lt;-E11\" style=\"stroke: #A80036; stroke-width: 1.0;\"/><polygon fill=\"#A80036\" points=\"83.96,201.09,80.1062,207.1849,84.25,213.0865,88.1038,206.9916,83.96,201.09\" style=\"stroke: #A80036; stroke-width: 1.0;\"/></a><!--MD5=[94adabc162ce7e41b39f13be14fbaeb3]\n",
       "reverse link E11 to E12--><a href=\"psysml:cfc90439-05ae-44f8-b88d-04fe860fe407\" target=\"_top\" title=\"psysml:cfc90439-05ae-44f8-b88d-04fe860fe407\" xlink:actuate=\"onRequest\" xlink:href=\"psysml:cfc90439-05ae-44f8-b88d-04fe860fe407\" xlink:show=\"new\" xlink:title=\"psysml:cfc90439-05ae-44f8-b88d-04fe860fe407\" xlink:type=\"simple\"><path d=\"M87.18,320.23 C87.67,334.82 88.24,351.76 88.74,366.58 \" fill=\"none\" id=\"E11&lt;-E12\" style=\"stroke: #A80036; stroke-width: 1.0;\"/><polygon fill=\"#FFFFFF\" points=\"86.74,307.1,82.9466,313.2327,87.1486,319.093,90.942,312.9603,86.74,307.1\" style=\"stroke: #A80036; stroke-width: 1.0;\"/></a><!--MD5=[0b0d0ad45e5babe11b796c7df1edb596]\n",
       "@startuml\r\n",
       " \r\n",
       "package \"StateTest\" as E1  [[psysml:5e99c5ac-660c-4bcd-ba7f-80dc44a07c9e ]]  {\r\n",
       "comp def \"Sig\" as E2  <<(D,brown)attribute def>> [[psysml:408e0494-0708-476d-85d5-333a69b53e96 ]] {\r\n",
       "x\r\n",
       "}\r\n",
       "comp def \"Exit\" as E3  <<(D,brown)attribute def>> [[psysml:0109ef31-4e51-4de7-9ac0-eb82fbd89c67 ]] {\r\n",
       "}\r\n",
       "comp usage \"p\" as E4  << (P,limegreen) part>> [[psysml:64a2c9fa-aa89-4eff-b01c-ff58906cbde0 ]] {\r\n",
       "}\r\n",
       "comp usage \"act\" as E5  <<(U,orange)action>> [[psysml:6519856a-88df-4cdc-a713-a9dddd16e281 ]] {\r\n",
       "}\r\n",
       "comp def \"S\" as E6  <<(D,brown)state def>> [[psysml:0bc7341d-f31b-4869-a064-1af20ff16fcc ]] {\r\n",
       "- - performActions - -\r\n",
       "act\r\n",
       "A\r\n",
       "B\r\n",
       "- - states - -\r\n",
       "S1\r\n",
       "- - transitions - -\r\n",
       "T\r\n",
       "}\r\n",
       "comp usage \"S2\" as E11  <<(U,orange)state>> [[psysml:a085f23d-1115-47bd-987f-c38856471ed2 ]] {\r\n",
       "}\r\n",
       "comp usage \"doAction\" as E12 <<send action>> [[psysml:cfc90439-05ae-44f8-b88d-04fe860fe407 ]] {\r\n",
       "- - itemFeatures - -\r\n",
       "item\r\n",
       "}\r\n",
       "E6 *- - E11 [[psysml:a085f23d-1115-47bd-987f-c38856471ed2 ]] \r\n",
       "E11 o- - E12 [[psysml:cfc90439-05ae-44f8-b88d-04fe860fe407 ]] \r\n",
       "}\r\n",
       "@enduml\r\n",
       "\n",
       "PlantUML version 1.2020.13(Sat Jun 13 12:26:38 UTC 2020)\n",
       "(EPL source distribution)\n",
       "Java Runtime: OpenJDK Runtime Environment\n",
       "JVM: OpenJDK 64-Bit Server VM\n",
       "Default Encoding: UTF-8\n",
       "Language: en\n",
       "Country: null\n",
       "--></g></svg>"
      ]
     },
     "execution_count": 35,
     "metadata": {},
     "output_type": "execute_result"
    }
   ],
   "source": [
    "%viz --style=\"PLANTUML\" --view=\"Sequence\" \"StateTest\""
   ]
  },
  {
   "cell_type": "code",
   "execution_count": 36,
   "id": "skilled-major",
   "metadata": {
    "execution": {
     "iopub.execute_input": "2021-03-26T13:02:47.782691Z",
     "iopub.status.busy": "2021-03-26T13:02:47.782115Z",
     "iopub.status.idle": "2021-03-26T13:02:47.827421Z",
     "shell.execute_reply": "2021-03-26T13:02:47.826504Z"
    }
   },
   "outputs": [
    {
     "data": {
      "image/svg+xml": [
       "<?xml version=\"1.0\" encoding=\"UTF-8\" standalone=\"no\"?><svg xmlns=\"http://www.w3.org/2000/svg\" xmlns:xlink=\"http://www.w3.org/1999/xlink\" contentScriptType=\"application/ecmascript\" contentStyleType=\"text/css\" height=\"569px\" preserveAspectRatio=\"none\" style=\"width:923px;height:569px;\" version=\"1.1\" viewBox=\"0 0 923 569\" width=\"923px\" zoomAndPan=\"magnify\"><defs><filter height=\"300%\" id=\"f5z03mjwn5hqi\" width=\"300%\" x=\"-1\" y=\"-1\"><feGaussianBlur result=\"blurOut\" stdDeviation=\"2.0\"/><feColorMatrix in=\"blurOut\" result=\"blurOut2\" type=\"matrix\" values=\"0 0 0 0 0 0 0 0 0 0 0 0 0 0 0 0 0 0 .4 0\"/><feOffset dx=\"4.0\" dy=\"4.0\" in=\"blurOut2\" result=\"blurOut3\"/><feBlend in=\"SourceGraphic\" in2=\"blurOut3\" mode=\"normal\"/></filter></defs><g><!--MD5=[fbc87193dbaf4d95561dea2c320d4a47]\n",
       "cluster E1--><a href=\"psysml:5e99c5ac-660c-4bcd-ba7f-80dc44a07c9e\" target=\"_top\" title=\"psysml:5e99c5ac-660c-4bcd-ba7f-80dc44a07c9e\" xlink:actuate=\"onRequest\" xlink:href=\"psysml:5e99c5ac-660c-4bcd-ba7f-80dc44a07c9e\" xlink:show=\"new\" xlink:title=\"psysml:5e99c5ac-660c-4bcd-ba7f-80dc44a07c9e\" xlink:type=\"simple\"><polygon fill=\"#FFFFFF\" filter=\"url(#f5z03mjwn5hqi)\" points=\"16,6,98,6,105,28.2969,901,28.2969,901,557.5,16,557.5,16,6\" style=\"stroke: #000000; stroke-width: 1.5;\"/><line style=\"stroke: #000000; stroke-width: 1.5;\" x1=\"16\" x2=\"105\" y1=\"28.2969\" y2=\"28.2969\"/><text fill=\"#000000\" font-family=\"sans-serif\" font-size=\"14\" font-weight=\"bold\" lengthAdjust=\"spacingAndGlyphs\" textLength=\"76\" x=\"20\" y=\"20.9951\">StateTest</text></a><!--MD5=[14e3b0961a2654348d326746436168a1]\n",
       "cluster E6--><a href=\"psysml:0bc7341d-f31b-4869-a064-1af20ff16fcc\" target=\"_top\" title=\"psysml:0bc7341d-f31b-4869-a064-1af20ff16fcc\" xlink:actuate=\"onRequest\" xlink:href=\"psysml:0bc7341d-f31b-4869-a064-1af20ff16fcc\" xlink:show=\"new\" xlink:title=\"psysml:0bc7341d-f31b-4869-a064-1af20ff16fcc\" xlink:type=\"simple\"><rect fill=\"#FFFFFF\" filter=\"url(#f5z03mjwn5hqi)\" height=\"484.5\" id=\"E6\" style=\"stroke: #A80036; stroke-width: 1.5;\" width=\"327\" x=\"550\" y=\"49\"/><rect fill=\"#FEFECE\" height=\"37.9375\" style=\"stroke: #A80036; stroke-width: 1.5;\" width=\"327\" x=\"550\" y=\"49\"/><text fill=\"#000000\" font-family=\"sans-serif\" font-size=\"12\" font-style=\"italic\" lengthAdjust=\"spacingAndGlyphs\" textLength=\"71\" x=\"678\" y=\"65.1387\">«state def»</text><text fill=\"#000000\" font-family=\"sans-serif\" font-size=\"12\" lengthAdjust=\"spacingAndGlyphs\" textLength=\"8\" x=\"709.5\" y=\"79.1074\">S</text><line style=\"stroke: #A80036; stroke-width: 1.0;\" x1=\"550\" x2=\"877\" y1=\"132.8438\" y2=\"132.8438\"/><text fill=\"#000000\" font-family=\"sans-serif\" font-size=\"12\" font-weight=\"bold\" lengthAdjust=\"spacingAndGlyphs\" textLength=\"38\" x=\"555\" y=\"100.0762\">entry</text><text fill=\"#000000\" font-family=\"sans-serif\" font-size=\"12\" lengthAdjust=\"spacingAndGlyphs\" textLength=\"16\" x=\"593\" y=\"100.0762\">/ A</text><text fill=\"#000000\" font-family=\"sans-serif\" font-size=\"12\" font-weight=\"bold\" lengthAdjust=\"spacingAndGlyphs\" textLength=\"18\" x=\"555\" y=\"114.0449\">do</text><text fill=\"#000000\" font-family=\"sans-serif\" font-size=\"12\" lengthAdjust=\"spacingAndGlyphs\" textLength=\"16\" x=\"573\" y=\"114.0449\">/ B</text><text fill=\"#000000\" font-family=\"sans-serif\" font-size=\"12\" font-weight=\"bold\" lengthAdjust=\"spacingAndGlyphs\" textLength=\"26\" x=\"555\" y=\"128.0137\">exit</text><text fill=\"#000000\" font-family=\"sans-serif\" font-size=\"12\" lengthAdjust=\"spacingAndGlyphs\" textLength=\"28\" x=\"581\" y=\"128.0137\">/ act</text></a><!--MD5=[b4997ac47864f28c2f74865a473b2911]\n",
       "class E2--><a href=\"psysml:408e0494-0708-476d-85d5-333a69b53e96\" target=\"_top\" title=\"psysml:408e0494-0708-476d-85d5-333a69b53e96\" xlink:actuate=\"onRequest\" xlink:href=\"psysml:408e0494-0708-476d-85d5-333a69b53e96\" xlink:show=\"new\" xlink:title=\"psysml:408e0494-0708-476d-85d5-333a69b53e96\" xlink:type=\"simple\"><rect fill=\"#FEFECE\" filter=\"url(#f5z03mjwn5hqi)\" height=\"58.7422\" id=\"E2\" style=\"stroke: #A80036; stroke-width: 1.5;\" width=\"121\" x=\"412.5\" y=\"127.5\"/><ellipse cx=\"427.5\" cy=\"146.4688\" fill=\"#A52A2A\" rx=\"11\" ry=\"11\" style=\"stroke: #A80036; stroke-width: 1.0;\"/><path d=\"M427.0938,142.2813 L427.0938,150.2656 L427.75,150.2656 Q429.1875,150.2656 429.7969,149.3594 Q430.4219,148.4375 430.4219,146.2656 Q430.4219,144.0938 429.7969,143.1875 Q429.1875,142.2813 427.75,142.2813 L427.0938,142.2813 Z M424.6406,140.0781 L427.2656,140.0781 Q430.2969,140.0781 431.625,141.5313 Q432.9688,142.9688 432.9688,146.2656 Q432.9688,149.5625 431.625,151.0156 Q430.2969,152.4688 427.2656,152.4688 L424.6406,152.4688 L424.6406,140.0781 Z \"/><text fill=\"#000000\" font-family=\"sans-serif\" font-size=\"12\" font-style=\"italic\" lengthAdjust=\"spacingAndGlyphs\" textLength=\"93\" x=\"439.5\" y=\"143.6387\">«attribute def»</text><text fill=\"#000000\" font-family=\"sans-serif\" font-size=\"12\" lengthAdjust=\"spacingAndGlyphs\" textLength=\"19\" x=\"476.5\" y=\"157.6074\">Sig</text><line style=\"stroke: #A80036; stroke-width: 1.5;\" x1=\"413.5\" x2=\"532.5\" y1=\"165.4375\" y2=\"165.4375\"/><text fill=\"#000000\" font-family=\"sans-serif\" font-size=\"11\" lengthAdjust=\"spacingAndGlyphs\" textLength=\"6\" x=\"418.5\" y=\"179.6479\">x</text></a><!--MD5=[09b614a08d8cba4a07c9adeb5e0fee81]\n",
       "class E3--><a href=\"psysml:0109ef31-4e51-4de7-9ac0-eb82fbd89c67\" target=\"_top\" title=\"psysml:0109ef31-4e51-4de7-9ac0-eb82fbd89c67\" xlink:actuate=\"onRequest\" xlink:href=\"psysml:0109ef31-4e51-4de7-9ac0-eb82fbd89c67\" xlink:show=\"new\" xlink:title=\"psysml:0109ef31-4e51-4de7-9ac0-eb82fbd89c67\" xlink:type=\"simple\"><rect fill=\"#FEFECE\" filter=\"url(#f5z03mjwn5hqi)\" height=\"45.9375\" id=\"E3\" style=\"stroke: #A80036; stroke-width: 1.5;\" width=\"121\" x=\"256.5\" y=\"134\"/><ellipse cx=\"271.5\" cy=\"152.9688\" fill=\"#A52A2A\" rx=\"11\" ry=\"11\" style=\"stroke: #A80036; stroke-width: 1.0;\"/><path d=\"M271.0938,148.7813 L271.0938,156.7656 L271.75,156.7656 Q273.1875,156.7656 273.7969,155.8594 Q274.4219,154.9375 274.4219,152.7656 Q274.4219,150.5938 273.7969,149.6875 Q273.1875,148.7813 271.75,148.7813 L271.0938,148.7813 Z M268.6406,146.5781 L271.2656,146.5781 Q274.2969,146.5781 275.625,148.0313 Q276.9688,149.4688 276.9688,152.7656 Q276.9688,156.0625 275.625,157.5156 Q274.2969,158.9688 271.2656,158.9688 L268.6406,158.9688 L268.6406,146.5781 Z \"/><text fill=\"#000000\" font-family=\"sans-serif\" font-size=\"12\" font-style=\"italic\" lengthAdjust=\"spacingAndGlyphs\" textLength=\"93\" x=\"283.5\" y=\"150.1387\">«attribute def»</text><text fill=\"#000000\" font-family=\"sans-serif\" font-size=\"12\" lengthAdjust=\"spacingAndGlyphs\" textLength=\"22\" x=\"319\" y=\"164.1074\">Exit</text><line style=\"stroke: #A80036; stroke-width: 1.5;\" x1=\"257.5\" x2=\"376.5\" y1=\"171.9375\" y2=\"171.9375\"/></a><!--MD5=[ebbe1d658d1005bcc118a6aa81145e00]\n",
       "class E4--><a href=\"psysml:64a2c9fa-aa89-4eff-b01c-ff58906cbde0\" target=\"_top\" title=\"psysml:64a2c9fa-aa89-4eff-b01c-ff58906cbde0\" xlink:actuate=\"onRequest\" xlink:href=\"psysml:64a2c9fa-aa89-4eff-b01c-ff58906cbde0\" xlink:show=\"new\" xlink:title=\"psysml:64a2c9fa-aa89-4eff-b01c-ff58906cbde0\" xlink:type=\"simple\"><rect fill=\"#FEFECE\" filter=\"url(#f5z03mjwn5hqi)\" height=\"45.9375\" id=\"E4\" rx=\"10\" ry=\"10\" style=\"stroke: #A80036; stroke-width: 1.5;\" width=\"68\" x=\"153\" y=\"134\"/><ellipse cx=\"168\" cy=\"152.9688\" fill=\"#32CD32\" rx=\"11\" ry=\"11\" style=\"stroke: #A80036; stroke-width: 1.0;\"/><path d=\"M167.7969,148.6406 L167.7969,152.2656 L168.7969,152.2656 Q170,152.2656 170.4844,151.8594 Q170.9688,151.4531 170.9688,150.4531 Q170.9688,149.4531 170.4844,149.0469 Q170,148.6406 168.7969,148.6406 L167.7969,148.6406 Z M165.3438,146.5781 L168.7031,146.5781 Q171.2656,146.5781 172.3906,147.5 Q173.5156,148.4063 173.5156,150.4531 Q173.5156,152.5 172.3906,153.4219 Q171.2656,154.3281 168.7031,154.3281 L167.7969,154.3281 L167.7969,158.9688 L165.3438,158.9688 L165.3438,146.5781 Z \"/><text fill=\"#000000\" font-family=\"sans-serif\" font-size=\"12\" font-style=\"italic\" lengthAdjust=\"spacingAndGlyphs\" textLength=\"40\" x=\"180\" y=\"150.1387\">«part»</text><text fill=\"#000000\" font-family=\"sans-serif\" font-size=\"12\" lengthAdjust=\"spacingAndGlyphs\" textLength=\"8\" x=\"196\" y=\"164.1074\">p</text><line style=\"stroke: #A80036; stroke-width: 1.5;\" x1=\"154\" x2=\"220\" y1=\"171.9375\" y2=\"171.9375\"/></a><g id=\"E1.E5\"><a href=\"psysml:6519856a-88df-4cdc-a713-a9dddd16e281\" target=\"_top\" title=\"psysml:6519856a-88df-4cdc-a713-a9dddd16e281\" xlink:actuate=\"onRequest\" xlink:href=\"psysml:6519856a-88df-4cdc-a713-a9dddd16e281\" xlink:show=\"new\" xlink:title=\"psysml:6519856a-88df-4cdc-a713-a9dddd16e281\" xlink:type=\"simple\"><rect fill=\"#FEFECE\" filter=\"url(#f5z03mjwn5hqi)\" height=\"42.9375\" id=\"E5\" rx=\"10\" ry=\"10\" style=\"stroke: #A80036; stroke-width: 1.5;\" width=\"86\" x=\"32\" y=\"135.5\"/><ellipse cx=\"49.25\" cy=\"154.4688\" fill=\"#FFA500\" rx=\"11\" ry=\"11\" style=\"stroke: #A80036; stroke-width: 1.0;\"/><path d=\"M45.125,156.3906 L45.125,148.5781 L47.5781,148.5781 L47.5781,157.0156 Q47.5781,157.9375 48.0469,158.4688 Q48.5313,159 49.3594,159 Q50.2031,159 50.6719,158.4688 Q51.1406,157.9375 51.1406,157.0156 L51.1406,148.5781 L53.5938,148.5781 L53.5938,156.3906 Q53.5938,158.9219 52.5938,160.0625 Q51.5938,161.2031 49.3594,161.2031 Q47.1406,161.2031 46.125,160.0625 Q45.125,158.9219 45.125,156.3906 Z \"/><text fill=\"#000000\" font-family=\"sans-serif\" font-size=\"12\" font-style=\"italic\" lengthAdjust=\"spacingAndGlyphs\" textLength=\"53\" x=\"61.75\" y=\"151.6387\">«action»</text><text fill=\"#000000\" font-family=\"sans-serif\" font-size=\"12\" lengthAdjust=\"spacingAndGlyphs\" textLength=\"20\" x=\"78.25\" y=\"165.6074\">act</text></a></g><ellipse cx=\"662\" cy=\"157\" fill=\"#000000\" filter=\"url(#f5z03mjwn5hqi)\" rx=\"10\" ry=\"10\" style=\"stroke: none; stroke-width: 1.0;\"/><ellipse cx=\"662\" cy=\"507.5\" fill=\"none\" filter=\"url(#f5z03mjwn5hqi)\" rx=\"10\" ry=\"10\" style=\"stroke: #000000; stroke-width: 1.0;\"/><ellipse cx=\"662.5\" cy=\"508\" fill=\"#000000\" rx=\"6\" ry=\"6\" style=\"stroke: none; stroke-width: 1.0;\"/><g id=\"E1.E6.E7\"><a href=\"psysml:70242e19-3f56-46b0-b4b5-fd0d440c29ee\" target=\"_top\" title=\"psysml:70242e19-3f56-46b0-b4b5-fd0d440c29ee\" xlink:actuate=\"onRequest\" xlink:href=\"psysml:70242e19-3f56-46b0-b4b5-fd0d440c29ee\" xlink:show=\"new\" xlink:title=\"psysml:70242e19-3f56-46b0-b4b5-fd0d440c29ee\" xlink:type=\"simple\"><rect fill=\"#FEFECE\" filter=\"url(#f5z03mjwn5hqi)\" height=\"40\" id=\"E7\" rx=\"10\" ry=\"10\" style=\"stroke: #A80036; stroke-width: 1.5;\" width=\"53\" x=\"635.5\" y=\"247.5\"/><ellipse cx=\"652.75\" cy=\"263.5\" fill=\"#B6DBBB\" rx=\"11\" ry=\"11\" style=\"stroke: #A80036; stroke-width: 1.0;\"/><path d=\"M648.625,265.4219 L648.625,257.6094 L651.0781,257.6094 L651.0781,266.0469 Q651.0781,266.9688 651.5469,267.5 Q652.0313,268.0313 652.8594,268.0313 Q653.7031,268.0313 654.1719,267.5 Q654.6406,266.9688 654.6406,266.0469 L654.6406,257.6094 L657.0938,257.6094 L657.0938,265.4219 Q657.0938,267.9531 656.0938,269.0938 Q655.0938,270.2344 652.8594,270.2344 Q650.6406,270.2344 649.625,269.0938 Q648.625,267.9531 648.625,265.4219 Z \"/><text fill=\"#000000\" font-family=\"sans-serif\" font-size=\"12\" lengthAdjust=\"spacingAndGlyphs\" textLength=\"16\" x=\"667.25\" y=\"267.6543\">S1</text></a></g><g id=\"E1.E6.E8\"><a href=\"psysml:a085f23d-1115-47bd-987f-c38856471ed2\" target=\"_top\" title=\"psysml:a085f23d-1115-47bd-987f-c38856471ed2\" xlink:actuate=\"onRequest\" xlink:href=\"psysml:a085f23d-1115-47bd-987f-c38856471ed2\" xlink:show=\"new\" xlink:title=\"psysml:a085f23d-1115-47bd-987f-c38856471ed2\" xlink:type=\"simple\"><rect fill=\"#FEFECE\" filter=\"url(#f5z03mjwn5hqi)\" height=\"55.9688\" id=\"E8\" rx=\"10\" ry=\"10\" style=\"stroke: #A80036; stroke-width: 1.5;\" width=\"58\" x=\"633\" y=\"364.5\"/><ellipse cx=\"652.5\" cy=\"380.5\" fill=\"#B6DBBB\" rx=\"11\" ry=\"11\" style=\"stroke: #A80036; stroke-width: 1.0;\"/><path d=\"M648.375,382.4219 L648.375,374.6094 L650.8281,374.6094 L650.8281,383.0469 Q650.8281,383.9688 651.2969,384.5 Q651.7813,385.0313 652.6094,385.0313 Q653.4531,385.0313 653.9219,384.5 Q654.3906,383.9688 654.3906,383.0469 L654.3906,374.6094 L656.8438,374.6094 L656.8438,382.4219 Q656.8438,384.9531 655.8438,386.0938 Q654.8438,387.2344 652.6094,387.2344 Q650.3906,387.2344 649.375,386.0938 Q648.375,384.9531 648.375,382.4219 Z \"/><text fill=\"#000000\" font-family=\"sans-serif\" font-size=\"12\" lengthAdjust=\"spacingAndGlyphs\" textLength=\"16\" x=\"667.5\" y=\"384.6543\">S2</text><line style=\"stroke: #A80036; stroke-width: 1.0;\" x1=\"633\" x2=\"691\" y1=\"396.5\" y2=\"396.5\"/><text fill=\"#000000\" font-family=\"sans-serif\" font-size=\"12\" font-weight=\"bold\" lengthAdjust=\"spacingAndGlyphs\" textLength=\"18\" x=\"638\" y=\"409.6387\">do</text><text fill=\"#000000\" font-family=\"sans-serif\" font-size=\"12\" lengthAdjust=\"spacingAndGlyphs\" textLength=\"4\" x=\"656\" y=\"409.6387\">/</text></a></g><!--MD5=[5a531d3a85f3339e6e197084acb48195]\n",
       "link *start*E6 to E7--><a href=\"psysml:43d9c4f9-ed20-4c00-a0b0-be6dc49a6894\" target=\"_top\" title=\"psysml:43d9c4f9-ed20-4c00-a0b0-be6dc49a6894\" xlink:actuate=\"onRequest\" xlink:href=\"psysml:43d9c4f9-ed20-4c00-a0b0-be6dc49a6894\" xlink:show=\"new\" xlink:title=\"psysml:43d9c4f9-ed20-4c00-a0b0-be6dc49a6894\" xlink:type=\"simple\"><path d=\"M662,167.25 C662,183.64 662,218.28 662,241.97 \" fill=\"none\" id=\"*start*E6-&gt;E7\" style=\"stroke: #A80036; stroke-width: 1.0;\"/><polygon fill=\"#A80036\" points=\"662,247.15,666,238.15,662,242.15,658,238.15,662,247.15\" style=\"stroke: #A80036; stroke-width: 1.0;\"/></a><!--MD5=[7ec9a8babba89ddcae1318ca9fb3c814]\n",
       "link E8 to *end*E6--><a href=\"psysml:f955b7ee-57f2-4e8a-b602-a443c9a31c83\" target=\"_top\" title=\"psysml:f955b7ee-57f2-4e8a-b602-a443c9a31c83\" xlink:actuate=\"onRequest\" xlink:href=\"psysml:f955b7ee-57f2-4e8a-b602-a443c9a31c83\" xlink:show=\"new\" xlink:title=\"psysml:f955b7ee-57f2-4e8a-b602-a443c9a31c83\" xlink:type=\"simple\"><path d=\"M662,420.57 C662,443.05 662,474.17 662,492.13 \" fill=\"none\" id=\"E8-&gt;*end*E6\" style=\"stroke: #A80036; stroke-width: 1.0;\"/><polygon fill=\"#A80036\" points=\"662,497.26,666,488.26,662,492.26,658,488.26,662,497.26\" style=\"stroke: #A80036; stroke-width: 1.0;\"/><text fill=\"#000000\" font-family=\"sans-serif\" font-size=\"13\" lengthAdjust=\"spacingAndGlyphs\" textLength=\"23\" x=\"663\" y=\"463.5669\">Exit</text></a><!--MD5=[79bc8f324ef4d02c541433f2e6e513c3]\n",
       "link E7 to E8--><a href=\"psysml:d37fdc60-36d2-41f0-83fe-622a63ffc619\" target=\"_top\" title=\"psysml:d37fdc60-36d2-41f0-83fe-622a63ffc619\" xlink:actuate=\"onRequest\" xlink:href=\"psysml:d37fdc60-36d2-41f0-83fe-622a63ffc619\" xlink:show=\"new\" xlink:title=\"psysml:d37fdc60-36d2-41f0-83fe-622a63ffc619\" xlink:type=\"simple\"><path d=\"M635.25,280.67 C613.47,292.49 587.88,311.93 598,334.5 C604.51,349.01 616.74,361.35 628.79,370.79 \" fill=\"none\" id=\"E7-&gt;E8\" style=\"stroke: #A80036; stroke-width: 1.0;\"/><polygon fill=\"#A80036\" points=\"632.86,373.88,628.0945,365.2609,628.872,370.864,623.2689,371.6416,632.86,373.88\" style=\"stroke: #A80036; stroke-width: 1.0;\"/><text fill=\"#000000\" font-family=\"sans-serif\" font-size=\"13\" lengthAdjust=\"spacingAndGlyphs\" textLength=\"81\" x=\"599\" y=\"330.5669\">Sig /action D</text></a><!--MD5=[bfa3c8b0d15052fdf50ae9310b491027]\n",
       "link E8 to E7--><a href=\"psysml:b2ce6d4b-1a56-4d0e-ade4-ffb9136266c2\" target=\"_top\" title=\"psysml:b2ce6d4b-1a56-4d0e-ade4-ffb9136266c2\" xlink:actuate=\"onRequest\" xlink:href=\"psysml:b2ce6d4b-1a56-4d0e-ade4-ffb9136266c2\" xlink:show=\"new\" xlink:title=\"psysml:b2ce6d4b-1a56-4d0e-ade4-ffb9136266c2\" xlink:type=\"simple\"><path d=\"M677.55,364.38 C683.68,350.5 688.51,333.26 685,317.5 C683.1,308.99 679.56,300.22 675.82,292.49 \" fill=\"none\" id=\"E8-&gt;E7\" style=\"stroke: #A80036; stroke-width: 1.0;\"/><polygon fill=\"#A80036\" points=\"673.47,287.82,673.9298,297.6581,675.7118,292.2893,681.0806,294.0713,673.47,287.82\" style=\"stroke: #A80036; stroke-width: 1.0;\"/><text fill=\"#000000\" font-family=\"sans-serif\" font-size=\"13\" lengthAdjust=\"spacingAndGlyphs\" textLength=\"135\" x=\"687\" y=\"330.5669\">Sig [true]/send s to p</text></a><!--MD5=[22fc1779a86c76829fda52c9491d9999]\n",
       "@startuml\r\n",
       " \r\n",
       "package \"StateTest\" as E1  [[psysml:5e99c5ac-660c-4bcd-ba7f-80dc44a07c9e ]]  {\r\n",
       "comp def \"Sig\" as E2  <<(D,brown)attribute def>> [[psysml:408e0494-0708-476d-85d5-333a69b53e96 ]] {\r\n",
       "x\r\n",
       "}\r\n",
       "comp def \"Exit\" as E3  <<(D,brown)attribute def>> [[psysml:0109ef31-4e51-4de7-9ac0-eb82fbd89c67 ]] {\r\n",
       "}\r\n",
       "comp usage \"p\" as E4  << (P,limegreen) part>> [[psysml:64a2c9fa-aa89-4eff-b01c-ff58906cbde0 ]] {\r\n",
       "}\r\n",
       "rec usage \"act\" as E5  <<(U,orange)action>> [[psysml:6519856a-88df-4cdc-a713-a9dddd16e281 ]] {\r\n",
       "}\r\n",
       "\r\n",
       "rec def \"S\" as E6  <<(D,brown)state def>> [[psysml:0bc7341d-f31b-4869-a064-1af20ff16fcc ]] {\r\n",
       "rec usage \"S1\" as E7 [[psysml:70242e19-3f56-46b0-b4b5-fd0d440c29ee ]] {\r\n",
       "}\r\n",
       "\r\n",
       "rec usage \"S2\" as E8 [[psysml:a085f23d-1115-47bd-987f-c38856471ed2 ]] {\r\n",
       "desc \"S2\" as E8  : **do**/ \r\n",
       "}\r\n",
       "\r\n",
       "[*] - -> E7 [[psysml:43d9c4f9-ed20-4c00-a0b0-be6dc49a6894 ]] \r\n",
       "E8  - -> [*] [[psysml:f955b7ee-57f2-4e8a-b602-a443c9a31c83 ]] : Exit \r\n",
       "desc \"S\" as E6  : **entry**/ A\r\n",
       "desc \"S\" as E6  : **do**/ B\r\n",
       "desc \"S\" as E6  : **exit**/ act \r\n",
       "}\r\n",
       "\r\n",
       "E7  - -> E8 [[psysml:d37fdc60-36d2-41f0-83fe-622a63ffc619 ]] : Sig /action D\r\n",
       "E8  - -> E7 [[psysml:b2ce6d4b-1a56-4d0e-ade4-ffb9136266c2 ]] : Sig [true]/send s to p\r\n",
       "}\r\n",
       "@enduml\r\n",
       "\n",
       "PlantUML version 1.2020.13(Sat Jun 13 12:26:38 UTC 2020)\n",
       "(EPL source distribution)\n",
       "Java Runtime: OpenJDK Runtime Environment\n",
       "JVM: OpenJDK 64-Bit Server VM\n",
       "Default Encoding: UTF-8\n",
       "Language: en\n",
       "Country: null\n",
       "--></g></svg>"
      ]
     },
     "execution_count": 36,
     "metadata": {},
     "output_type": "execute_result"
    }
   ],
   "source": [
    "%viz --style=\"PLANTUML\" --view=\"MIXED\" \"StateTest\""
   ]
  },
  {
   "cell_type": "code",
   "execution_count": 37,
   "id": "speaking-skating",
   "metadata": {
    "execution": {
     "iopub.execute_input": "2021-03-26T13:02:47.879008Z",
     "iopub.status.busy": "2021-03-26T13:02:47.878657Z",
     "iopub.status.idle": "2021-03-26T13:02:47.924779Z",
     "shell.execute_reply": "2021-03-26T13:02:47.925134Z"
    }
   },
   "outputs": [
    {
     "data": {
      "image/svg+xml": [
       "<?xml version=\"1.0\" encoding=\"UTF-8\" standalone=\"no\"?><svg xmlns=\"http://www.w3.org/2000/svg\" xmlns:xlink=\"http://www.w3.org/1999/xlink\" contentScriptType=\"application/ecmascript\" contentStyleType=\"text/css\" height=\"570px\" preserveAspectRatio=\"none\" style=\"width:819px;height:570px;\" version=\"1.1\" viewBox=\"0 0 819 570\" width=\"819px\" zoomAndPan=\"magnify\"><defs/><g><!--MD5=[fbc87193dbaf4d95561dea2c320d4a47]\n",
       "cluster E1--><a href=\"psysml:5e99c5ac-660c-4bcd-ba7f-80dc44a07c9e\" target=\"_top\" title=\"psysml:5e99c5ac-660c-4bcd-ba7f-80dc44a07c9e\" xlink:actuate=\"onRequest\" xlink:href=\"psysml:5e99c5ac-660c-4bcd-ba7f-80dc44a07c9e\" xlink:show=\"new\" xlink:title=\"psysml:5e99c5ac-660c-4bcd-ba7f-80dc44a07c9e\" xlink:type=\"simple\"><polygon fill=\"#FFFFFF\" points=\"16,6,98,6,105,28.2969,797,28.2969,797,558,16,558,16,6\" style=\"stroke: #000000; stroke-width: 1.5;\"/><line style=\"stroke: #000000; stroke-width: 1.5;\" x1=\"16\" x2=\"105\" y1=\"28.2969\" y2=\"28.2969\"/><text fill=\"#000000\" font-family=\"sans-serif\" font-size=\"14\" font-weight=\"bold\" lengthAdjust=\"spacingAndGlyphs\" textLength=\"76\" x=\"20\" y=\"20.9951\">StateTest</text></a><!--MD5=[14e3b0961a2654348d326746436168a1]\n",
       "cluster E6--><a href=\"psysml:0bc7341d-f31b-4869-a064-1af20ff16fcc\" target=\"_top\" title=\"psysml:0bc7341d-f31b-4869-a064-1af20ff16fcc\" xlink:actuate=\"onRequest\" xlink:href=\"psysml:0bc7341d-f31b-4869-a064-1af20ff16fcc\" xlink:show=\"new\" xlink:title=\"psysml:0bc7341d-f31b-4869-a064-1af20ff16fcc\" xlink:type=\"simple\"><rect fill=\"#FFFFFF\" height=\"485\" id=\"E6\" style=\"stroke: #383838; stroke-width: 1.5;\" width=\"327\" x=\"446\" y=\"49\"/><rect fill=\"#F8F8F8\" height=\"37.9375\" style=\"stroke: #383838; stroke-width: 1.5;\" width=\"327\" x=\"446\" y=\"49\"/><text fill=\"#000000\" font-family=\"sans-serif\" font-size=\"12\" font-style=\"italic\" lengthAdjust=\"spacingAndGlyphs\" textLength=\"71\" x=\"574\" y=\"65.1387\">«state def»</text><text fill=\"#000000\" font-family=\"sans-serif\" font-size=\"12\" lengthAdjust=\"spacingAndGlyphs\" textLength=\"8\" x=\"605.5\" y=\"79.1074\">S</text><line style=\"stroke: #383838; stroke-width: 1.0;\" x1=\"446\" x2=\"773\" y1=\"132.8438\" y2=\"132.8438\"/><text fill=\"#000000\" font-family=\"sans-serif\" font-size=\"12\" font-weight=\"bold\" lengthAdjust=\"spacingAndGlyphs\" textLength=\"38\" x=\"451\" y=\"100.0762\">entry</text><text fill=\"#000000\" font-family=\"sans-serif\" font-size=\"12\" lengthAdjust=\"spacingAndGlyphs\" textLength=\"16\" x=\"489\" y=\"100.0762\">/ A</text><text fill=\"#000000\" font-family=\"sans-serif\" font-size=\"12\" font-weight=\"bold\" lengthAdjust=\"spacingAndGlyphs\" textLength=\"18\" x=\"451\" y=\"114.0449\">do</text><text fill=\"#000000\" font-family=\"sans-serif\" font-size=\"12\" lengthAdjust=\"spacingAndGlyphs\" textLength=\"16\" x=\"469\" y=\"114.0449\">/ B</text><text fill=\"#000000\" font-family=\"sans-serif\" font-size=\"12\" font-weight=\"bold\" lengthAdjust=\"spacingAndGlyphs\" textLength=\"26\" x=\"451\" y=\"128.0137\">exit</text><text fill=\"#000000\" font-family=\"sans-serif\" font-size=\"12\" lengthAdjust=\"spacingAndGlyphs\" textLength=\"28\" x=\"477\" y=\"128.0137\">/ act</text></a><!--MD5=[b4997ac47864f28c2f74865a473b2911]\n",
       "class E2--><a href=\"psysml:408e0494-0708-476d-85d5-333a69b53e96\" target=\"_top\" title=\"psysml:408e0494-0708-476d-85d5-333a69b53e96\" xlink:actuate=\"onRequest\" xlink:href=\"psysml:408e0494-0708-476d-85d5-333a69b53e96\" xlink:show=\"new\" xlink:title=\"psysml:408e0494-0708-476d-85d5-333a69b53e96\" xlink:type=\"simple\"><rect fill=\"#FFFFFF\" height=\"75.5469\" id=\"E2\" style=\"stroke: #383838; stroke-width: 1.5;\" width=\"95\" x=\"334.5\" y=\"119\"/><text fill=\"#000000\" font-family=\"sans-serif\" font-size=\"12\" font-style=\"italic\" lengthAdjust=\"spacingAndGlyphs\" textLength=\"93\" x=\"335.5\" y=\"135.1387\">«attribute def»</text><text fill=\"#000000\" font-family=\"sans-serif\" font-size=\"12\" lengthAdjust=\"spacingAndGlyphs\" textLength=\"19\" x=\"372.5\" y=\"149.1074\">Sig</text><line style=\"stroke: #383838; stroke-width: 1.5;\" x1=\"335.5\" x2=\"428.5\" y1=\"156.9375\" y2=\"156.9375\"/><text fill=\"#000000\" font-family=\"sans-serif\" font-size=\"11\" lengthAdjust=\"spacingAndGlyphs\" textLength=\"6\" x=\"340.5\" y=\"187.9526\">x</text><line style=\"stroke: #383838; stroke-width: 1.0;\" x1=\"335.5\" x2=\"354.5\" y1=\"171.3398\" y2=\"171.3398\"/><text fill=\"#000000\" font-family=\"sans-serif\" font-size=\"11\" lengthAdjust=\"spacingAndGlyphs\" textLength=\"55\" x=\"354.5\" y=\"174.6479\">attributes</text><line style=\"stroke: #383838; stroke-width: 1.0;\" x1=\"409.5\" x2=\"428.5\" y1=\"171.3398\" y2=\"171.3398\"/></a><!--MD5=[09b614a08d8cba4a07c9adeb5e0fee81]\n",
       "class E3--><a href=\"psysml:0109ef31-4e51-4de7-9ac0-eb82fbd89c67\" target=\"_top\" title=\"psysml:0109ef31-4e51-4de7-9ac0-eb82fbd89c67\" xlink:actuate=\"onRequest\" xlink:href=\"psysml:0109ef31-4e51-4de7-9ac0-eb82fbd89c67\" xlink:show=\"new\" xlink:title=\"psysml:0109ef31-4e51-4de7-9ac0-eb82fbd89c67\" xlink:type=\"simple\"><rect fill=\"#FFFFFF\" height=\"45.9375\" id=\"E3\" style=\"stroke: #383838; stroke-width: 1.5;\" width=\"95\" x=\"204.5\" y=\"134\"/><text fill=\"#000000\" font-family=\"sans-serif\" font-size=\"12\" font-style=\"italic\" lengthAdjust=\"spacingAndGlyphs\" textLength=\"93\" x=\"205.5\" y=\"150.1387\">«attribute def»</text><text fill=\"#000000\" font-family=\"sans-serif\" font-size=\"12\" lengthAdjust=\"spacingAndGlyphs\" textLength=\"22\" x=\"241\" y=\"164.1074\">Exit</text><line style=\"stroke: #383838; stroke-width: 1.5;\" x1=\"205.5\" x2=\"298.5\" y1=\"171.9375\" y2=\"171.9375\"/></a><!--MD5=[ebbe1d658d1005bcc118a6aa81145e00]\n",
       "class E4--><a href=\"psysml:64a2c9fa-aa89-4eff-b01c-ff58906cbde0\" target=\"_top\" title=\"psysml:64a2c9fa-aa89-4eff-b01c-ff58906cbde0\" xlink:actuate=\"onRequest\" xlink:href=\"psysml:64a2c9fa-aa89-4eff-b01c-ff58906cbde0\" xlink:show=\"new\" xlink:title=\"psysml:64a2c9fa-aa89-4eff-b01c-ff58906cbde0\" xlink:type=\"simple\"><rect fill=\"#FFFFFF\" height=\"45.9375\" id=\"E4\" rx=\"10\" ry=\"10\" style=\"stroke: #383838; stroke-width: 1.5;\" width=\"42\" x=\"127\" y=\"134\"/><text fill=\"#000000\" font-family=\"sans-serif\" font-size=\"12\" font-style=\"italic\" lengthAdjust=\"spacingAndGlyphs\" textLength=\"40\" x=\"128\" y=\"150.1387\">«part»</text><text fill=\"#000000\" font-family=\"sans-serif\" font-size=\"12\" lengthAdjust=\"spacingAndGlyphs\" textLength=\"8\" x=\"144\" y=\"164.1074\">p</text><line style=\"stroke: #383838; stroke-width: 1.5;\" x1=\"128\" x2=\"168\" y1=\"171.9375\" y2=\"171.9375\"/></a><g id=\"E1.E5\"><a href=\"psysml:6519856a-88df-4cdc-a713-a9dddd16e281\" target=\"_top\" title=\"psysml:6519856a-88df-4cdc-a713-a9dddd16e281\" xlink:actuate=\"onRequest\" xlink:href=\"psysml:6519856a-88df-4cdc-a713-a9dddd16e281\" xlink:show=\"new\" xlink:title=\"psysml:6519856a-88df-4cdc-a713-a9dddd16e281\" xlink:type=\"simple\"><rect fill=\"#FFFFFF\" height=\"42.9375\" id=\"E5\" rx=\"10\" ry=\"10\" style=\"stroke: #383838; stroke-width: 1.5;\" width=\"60\" x=\"32\" y=\"135.5\"/><rect fill=\"#F8F8F8\" height=\"37.9375\" rx=\"10\" ry=\"10\" style=\"stroke: #F8F8F8; stroke-width: 1.5;\" width=\"60\" x=\"32\" y=\"135.5\"/><rect fill=\"#F8F8F8\" height=\"10\" style=\"stroke: #F8F8F8; stroke-width: 1.5;\" width=\"60\" x=\"32\" y=\"163.4375\"/><rect fill=\"none\" height=\"42.9375\" id=\"E5\" rx=\"10\" ry=\"10\" style=\"stroke: #383838; stroke-width: 1.5;\" width=\"60\" x=\"32\" y=\"135.5\"/><text fill=\"#000000\" font-family=\"sans-serif\" font-size=\"12\" font-style=\"italic\" lengthAdjust=\"spacingAndGlyphs\" textLength=\"53\" x=\"35.5\" y=\"151.6387\">«action»</text><text fill=\"#000000\" font-family=\"sans-serif\" font-size=\"12\" lengthAdjust=\"spacingAndGlyphs\" textLength=\"20\" x=\"52\" y=\"165.6074\">act</text></a></g><ellipse cx=\"558\" cy=\"157\" fill=\"#000000\" rx=\"10\" ry=\"10\" style=\"stroke: none; stroke-width: 1.0;\"/><ellipse cx=\"558\" cy=\"508\" fill=\"none\" rx=\"10\" ry=\"10\" style=\"stroke: #000000; stroke-width: 1.0;\"/><ellipse cx=\"558.5\" cy=\"508.5\" fill=\"#000000\" rx=\"6\" ry=\"6\" style=\"stroke: none; stroke-width: 1.0;\"/><g id=\"E1.E6.E7\"><a href=\"psysml:70242e19-3f56-46b0-b4b5-fd0d440c29ee\" target=\"_top\" title=\"psysml:70242e19-3f56-46b0-b4b5-fd0d440c29ee\" xlink:actuate=\"onRequest\" xlink:href=\"psysml:70242e19-3f56-46b0-b4b5-fd0d440c29ee\" xlink:show=\"new\" xlink:title=\"psysml:70242e19-3f56-46b0-b4b5-fd0d440c29ee\" xlink:type=\"simple\"><rect fill=\"#FFFFFF\" height=\"40\" id=\"E7\" rx=\"10\" ry=\"10\" style=\"stroke: #383838; stroke-width: 1.5;\" width=\"50\" x=\"533\" y=\"256\"/><rect fill=\"#F8F8F8\" height=\"23.9688\" rx=\"10\" ry=\"10\" style=\"stroke: #F8F8F8; stroke-width: 1.5;\" width=\"50\" x=\"533\" y=\"256\"/><rect fill=\"#F8F8F8\" height=\"10\" style=\"stroke: #F8F8F8; stroke-width: 1.5;\" width=\"50\" x=\"533\" y=\"269.9688\"/><rect fill=\"none\" height=\"40\" id=\"E7\" rx=\"10\" ry=\"10\" style=\"stroke: #383838; stroke-width: 1.5;\" width=\"50\" x=\"533\" y=\"256\"/><text fill=\"#000000\" font-family=\"sans-serif\" font-size=\"12\" lengthAdjust=\"spacingAndGlyphs\" textLength=\"16\" x=\"550\" y=\"272.1387\">S1</text></a></g><g id=\"E1.E6.E8\"><a href=\"psysml:a085f23d-1115-47bd-987f-c38856471ed2\" target=\"_top\" title=\"psysml:a085f23d-1115-47bd-987f-c38856471ed2\" xlink:actuate=\"onRequest\" xlink:href=\"psysml:a085f23d-1115-47bd-987f-c38856471ed2\" xlink:show=\"new\" xlink:title=\"psysml:a085f23d-1115-47bd-987f-c38856471ed2\" xlink:type=\"simple\"><rect fill=\"#FFFFFF\" height=\"47.9375\" id=\"E8\" rx=\"10\" ry=\"10\" style=\"stroke: #383838; stroke-width: 1.5;\" width=\"50\" x=\"533\" y=\"373\"/><rect fill=\"#F8F8F8\" height=\"23.9688\" rx=\"10\" ry=\"10\" style=\"stroke: #F8F8F8; stroke-width: 1.5;\" width=\"50\" x=\"533\" y=\"373\"/><rect fill=\"#F8F8F8\" height=\"10\" style=\"stroke: #F8F8F8; stroke-width: 1.5;\" width=\"50\" x=\"533\" y=\"386.9688\"/><rect fill=\"none\" height=\"47.9375\" id=\"E8\" rx=\"10\" ry=\"10\" style=\"stroke: #383838; stroke-width: 1.5;\" width=\"50\" x=\"533\" y=\"373\"/><text fill=\"#000000\" font-family=\"sans-serif\" font-size=\"12\" lengthAdjust=\"spacingAndGlyphs\" textLength=\"16\" x=\"550\" y=\"389.1387\">S2</text><line style=\"stroke: #383838; stroke-width: 1.0;\" x1=\"533\" x2=\"583\" y1=\"396.9688\" y2=\"396.9688\"/><text fill=\"#000000\" font-family=\"sans-serif\" font-size=\"12\" font-weight=\"bold\" lengthAdjust=\"spacingAndGlyphs\" textLength=\"18\" x=\"538\" y=\"410.1074\">do</text><text fill=\"#000000\" font-family=\"sans-serif\" font-size=\"12\" lengthAdjust=\"spacingAndGlyphs\" textLength=\"4\" x=\"556\" y=\"410.1074\">/</text></a></g><!--MD5=[5a531d3a85f3339e6e197084acb48195]\n",
       "link *start*E6 to E7--><a href=\"psysml:43d9c4f9-ed20-4c00-a0b0-be6dc49a6894\" target=\"_top\" title=\"psysml:43d9c4f9-ed20-4c00-a0b0-be6dc49a6894\" xlink:actuate=\"onRequest\" xlink:href=\"psysml:43d9c4f9-ed20-4c00-a0b0-be6dc49a6894\" xlink:show=\"new\" xlink:title=\"psysml:43d9c4f9-ed20-4c00-a0b0-be6dc49a6894\" xlink:type=\"simple\"><path d=\"M558,167.18 C558,184.98 558,224.73 558,250.67 \" fill=\"none\" id=\"*start*E6-&gt;E7\" style=\"stroke: #383838; stroke-width: 1.0;\"/><polygon fill=\"#383838\" points=\"558,255.98,562,246.98,558,250.98,554,246.98,558,255.98\" style=\"stroke: #383838; stroke-width: 1.0;\"/></a><!--MD5=[7ec9a8babba89ddcae1318ca9fb3c814]\n",
       "link E8 to *end*E6--><a href=\"psysml:f955b7ee-57f2-4e8a-b602-a443c9a31c83\" target=\"_top\" title=\"psysml:f955b7ee-57f2-4e8a-b602-a443c9a31c83\" xlink:actuate=\"onRequest\" xlink:href=\"psysml:f955b7ee-57f2-4e8a-b602-a443c9a31c83\" xlink:show=\"new\" xlink:title=\"psysml:f955b7ee-57f2-4e8a-b602-a443c9a31c83\" xlink:type=\"simple\"><path d=\"M558,421.12 C558,442.75 558,474.39 558,492.62 \" fill=\"none\" id=\"E8-&gt;*end*E6\" style=\"stroke: #383838; stroke-width: 1.0;\"/><polygon fill=\"#383838\" points=\"558,497.82,562,488.82,558,492.82,554,488.82,558,497.82\" style=\"stroke: #383838; stroke-width: 1.0;\"/><text fill=\"#000000\" font-family=\"sans-serif\" font-size=\"13\" lengthAdjust=\"spacingAndGlyphs\" textLength=\"23\" x=\"559\" y=\"464.0669\">Exit</text></a><!--MD5=[79bc8f324ef4d02c541433f2e6e513c3]\n",
       "link E7 to E8--><a href=\"psysml:d37fdc60-36d2-41f0-83fe-622a63ffc619\" target=\"_top\" title=\"psysml:d37fdc60-36d2-41f0-83fe-622a63ffc619\" xlink:actuate=\"onRequest\" xlink:href=\"psysml:d37fdc60-36d2-41f0-83fe-622a63ffc619\" xlink:show=\"new\" xlink:title=\"psysml:d37fdc60-36d2-41f0-83fe-622a63ffc619\" xlink:type=\"simple\"><path d=\"M532.93,288.88 C518.69,297.12 502.12,309.56 494,326 C483.11,348.05 506.72,368.2 528.27,381.16 \" fill=\"none\" id=\"E7-&gt;E8\" style=\"stroke: #383838; stroke-width: 1.0;\"/><polygon fill=\"#383838\" points=\"532.83,383.82,527.0682,375.8324,528.5101,381.3024,523.0401,382.7443,532.83,383.82\" style=\"stroke: #383838; stroke-width: 1.0;\"/><text fill=\"#000000\" font-family=\"sans-serif\" font-size=\"13\" lengthAdjust=\"spacingAndGlyphs\" textLength=\"81\" x=\"495\" y=\"339.0669\">Sig /action D</text></a><!--MD5=[bfa3c8b0d15052fdf50ae9310b491027]\n",
       "link E8 to E7--><a href=\"psysml:b2ce6d4b-1a56-4d0e-ade4-ffb9136266c2\" target=\"_top\" title=\"psysml:b2ce6d4b-1a56-4d0e-ade4-ffb9136266c2\" xlink:actuate=\"onRequest\" xlink:href=\"psysml:b2ce6d4b-1a56-4d0e-ade4-ffb9136266c2\" xlink:show=\"new\" xlink:title=\"psysml:b2ce6d4b-1a56-4d0e-ade4-ffb9136266c2\" xlink:type=\"simple\"><path d=\"M572.17,372.99 C578.81,359.48 584.56,341.98 581,326 C579.1,317.49 575.56,308.72 571.82,300.99 \" fill=\"none\" id=\"E8-&gt;E7\" style=\"stroke: #383838; stroke-width: 1.0;\"/><polygon fill=\"#383838\" points=\"569.47,296.32,569.9298,306.1581,571.7118,300.7893,577.0806,302.5713,569.47,296.32\" style=\"stroke: #383838; stroke-width: 1.0;\"/><text fill=\"#000000\" font-family=\"sans-serif\" font-size=\"13\" lengthAdjust=\"spacingAndGlyphs\" textLength=\"135\" x=\"583\" y=\"339.0669\">Sig [true]/send s to p</text></a><!--MD5=[24ffa93e25522f2e36e5f209dc9c6e2e]\n",
       "@startuml\r\n",
       "skinparam monochrome true\r\n",
       "skinparam classbackgroundcolor white\r\n",
       "skinparam shadowing false\r\n",
       "skinparam wrapWidth 300\r\n",
       "hide circle\r\n",
       "\r\n",
       "package \"StateTest\" as E1  [[psysml:5e99c5ac-660c-4bcd-ba7f-80dc44a07c9e ]]  {\r\n",
       "comp def \"Sig\" as E2  <<(T,blue)attribute def>> [[psysml:408e0494-0708-476d-85d5-333a69b53e96 ]] {\r\n",
       "- - attributes - -\r\n",
       "x\r\n",
       "}\r\n",
       "comp def \"Exit\" as E3  <<(T,blue)attribute def>> [[psysml:0109ef31-4e51-4de7-9ac0-eb82fbd89c67 ]] {\r\n",
       "}\r\n",
       "comp usage \"p\" as E4  <<(T,blue)part>> [[psysml:64a2c9fa-aa89-4eff-b01c-ff58906cbde0 ]] {\r\n",
       "}\r\n",
       "rec usage \"act\" as E5  <<(T,blue)action>> [[psysml:6519856a-88df-4cdc-a713-a9dddd16e281 ]] {\r\n",
       "}\r\n",
       "\r\n",
       "rec def \"S\" as E6  <<(T,blue)state def>> [[psysml:0bc7341d-f31b-4869-a064-1af20ff16fcc ]] {\r\n",
       "rec usage \"S1\" as E7 [[psysml:70242e19-3f56-46b0-b4b5-fd0d440c29ee ]] {\r\n",
       "}\r\n",
       "\r\n",
       "rec usage \"S2\" as E8 [[psysml:a085f23d-1115-47bd-987f-c38856471ed2 ]] {\r\n",
       "desc \"S2\" as E8  : **do**/ \r\n",
       "}\r\n",
       "\r\n",
       "[*] - -> E7 [[psysml:43d9c4f9-ed20-4c00-a0b0-be6dc49a6894 ]] \r\n",
       "E8  - -> [*] [[psysml:f955b7ee-57f2-4e8a-b602-a443c9a31c83 ]] : Exit \r\n",
       "desc \"S\" as E6  : **entry**/ A\r\n",
       "desc \"S\" as E6  : **do**/ B\r\n",
       "desc \"S\" as E6  : **exit**/ act \r\n",
       "}\r\n",
       "\r\n",
       "E7  - -> E8 [[psysml:d37fdc60-36d2-41f0-83fe-622a63ffc619 ]] : Sig /action D\r\n",
       "E8  - -> E7 [[psysml:b2ce6d4b-1a56-4d0e-ade4-ffb9136266c2 ]] : Sig [true]/send s to p\r\n",
       "}\r\n",
       "@enduml\r\n",
       "\n",
       "PlantUML version 1.2020.13(Sat Jun 13 12:26:38 UTC 2020)\n",
       "(EPL source distribution)\n",
       "Java Runtime: OpenJDK Runtime Environment\n",
       "JVM: OpenJDK 64-Bit Server VM\n",
       "Default Encoding: UTF-8\n",
       "Language: en\n",
       "Country: null\n",
       "--></g></svg>"
      ]
     },
     "execution_count": 37,
     "metadata": {},
     "output_type": "execute_result"
    }
   ],
   "source": [
    "%viz --style=\"DEFAULT\" --view=\"Default\" \"StateTest\""
   ]
  },
  {
   "cell_type": "code",
   "execution_count": 38,
   "id": "outer-forward",
   "metadata": {
    "execution": {
     "iopub.execute_input": "2021-03-26T13:02:47.976812Z",
     "iopub.status.busy": "2021-03-26T13:02:47.976282Z",
     "iopub.status.idle": "2021-03-26T13:02:48.080201Z",
     "shell.execute_reply": "2021-03-26T13:02:48.078948Z"
    }
   },
   "outputs": [
    {
     "data": {
      "image/svg+xml": [
       "<?xml version=\"1.0\" encoding=\"UTF-8\" standalone=\"no\"?><svg xmlns=\"http://www.w3.org/2000/svg\" xmlns:xlink=\"http://www.w3.org/1999/xlink\" contentScriptType=\"application/ecmascript\" contentStyleType=\"text/css\" height=\"471px\" preserveAspectRatio=\"none\" style=\"width:594px;height:471px;\" version=\"1.1\" viewBox=\"0 0 594 471\" width=\"594px\" zoomAndPan=\"magnify\"><defs/><g><!--MD5=[fbc87193dbaf4d95561dea2c320d4a47]\n",
       "cluster E1--><a href=\"psysml:5e99c5ac-660c-4bcd-ba7f-80dc44a07c9e\" target=\"_top\" title=\"psysml:5e99c5ac-660c-4bcd-ba7f-80dc44a07c9e\" xlink:actuate=\"onRequest\" xlink:href=\"psysml:5e99c5ac-660c-4bcd-ba7f-80dc44a07c9e\" xlink:show=\"new\" xlink:title=\"psysml:5e99c5ac-660c-4bcd-ba7f-80dc44a07c9e\" xlink:type=\"simple\"><polygon fill=\"#FFFFFF\" points=\"16,6,98,6,105,28.2969,572,28.2969,572,459,16,459,16,6\" style=\"stroke: #000000; stroke-width: 1.5;\"/><line style=\"stroke: #000000; stroke-width: 1.5;\" x1=\"16\" x2=\"105\" y1=\"28.2969\" y2=\"28.2969\"/><text fill=\"#000000\" font-family=\"sans-serif\" font-size=\"14\" font-weight=\"bold\" lengthAdjust=\"spacingAndGlyphs\" textLength=\"76\" x=\"20\" y=\"20.9951\">StateTest</text></a><!--MD5=[b4997ac47864f28c2f74865a473b2911]\n",
       "class E2--><a href=\"psysml:408e0494-0708-476d-85d5-333a69b53e96\" target=\"_top\" title=\"psysml:408e0494-0708-476d-85d5-333a69b53e96\" xlink:actuate=\"onRequest\" xlink:href=\"psysml:408e0494-0708-476d-85d5-333a69b53e96\" xlink:show=\"new\" xlink:title=\"psysml:408e0494-0708-476d-85d5-333a69b53e96\" xlink:type=\"simple\"><rect fill=\"#FFFFFF\" height=\"75.5469\" id=\"E2\" style=\"stroke: #383838; stroke-width: 1.5;\" width=\"95\" x=\"460.5\" y=\"83\"/><text fill=\"#000000\" font-family=\"sans-serif\" font-size=\"12\" font-style=\"italic\" lengthAdjust=\"spacingAndGlyphs\" textLength=\"93\" x=\"461.5\" y=\"99.1387\">«attribute def»</text><text fill=\"#000000\" font-family=\"sans-serif\" font-size=\"12\" lengthAdjust=\"spacingAndGlyphs\" textLength=\"19\" x=\"498.5\" y=\"113.1074\">Sig</text><line style=\"stroke: #383838; stroke-width: 1.5;\" x1=\"461.5\" x2=\"554.5\" y1=\"120.9375\" y2=\"120.9375\"/><text fill=\"#000000\" font-family=\"sans-serif\" font-size=\"11\" lengthAdjust=\"spacingAndGlyphs\" textLength=\"6\" x=\"466.5\" y=\"151.9526\">x</text><line style=\"stroke: #383838; stroke-width: 1.0;\" x1=\"461.5\" x2=\"480.5\" y1=\"135.3398\" y2=\"135.3398\"/><text fill=\"#000000\" font-family=\"sans-serif\" font-size=\"11\" lengthAdjust=\"spacingAndGlyphs\" textLength=\"55\" x=\"480.5\" y=\"138.6479\">attributes</text><line style=\"stroke: #383838; stroke-width: 1.0;\" x1=\"535.5\" x2=\"554.5\" y1=\"135.3398\" y2=\"135.3398\"/></a><!--MD5=[09b614a08d8cba4a07c9adeb5e0fee81]\n",
       "class E3--><a href=\"psysml:0109ef31-4e51-4de7-9ac0-eb82fbd89c67\" target=\"_top\" title=\"psysml:0109ef31-4e51-4de7-9ac0-eb82fbd89c67\" xlink:actuate=\"onRequest\" xlink:href=\"psysml:0109ef31-4e51-4de7-9ac0-eb82fbd89c67\" xlink:show=\"new\" xlink:title=\"psysml:0109ef31-4e51-4de7-9ac0-eb82fbd89c67\" xlink:type=\"simple\"><rect fill=\"#FFFFFF\" height=\"45.9375\" id=\"E3\" style=\"stroke: #383838; stroke-width: 1.5;\" width=\"95\" x=\"330.5\" y=\"98\"/><text fill=\"#000000\" font-family=\"sans-serif\" font-size=\"12\" font-style=\"italic\" lengthAdjust=\"spacingAndGlyphs\" textLength=\"93\" x=\"331.5\" y=\"114.1387\">«attribute def»</text><text fill=\"#000000\" font-family=\"sans-serif\" font-size=\"12\" lengthAdjust=\"spacingAndGlyphs\" textLength=\"22\" x=\"367\" y=\"128.1074\">Exit</text><line style=\"stroke: #383838; stroke-width: 1.5;\" x1=\"331.5\" x2=\"424.5\" y1=\"135.9375\" y2=\"135.9375\"/></a><!--MD5=[ebbe1d658d1005bcc118a6aa81145e00]\n",
       "class E4--><a href=\"psysml:64a2c9fa-aa89-4eff-b01c-ff58906cbde0\" target=\"_top\" title=\"psysml:64a2c9fa-aa89-4eff-b01c-ff58906cbde0\" xlink:actuate=\"onRequest\" xlink:href=\"psysml:64a2c9fa-aa89-4eff-b01c-ff58906cbde0\" xlink:show=\"new\" xlink:title=\"psysml:64a2c9fa-aa89-4eff-b01c-ff58906cbde0\" xlink:type=\"simple\"><rect fill=\"#FFFFFF\" height=\"45.9375\" id=\"E4\" rx=\"10\" ry=\"10\" style=\"stroke: #383838; stroke-width: 1.5;\" width=\"42\" x=\"253\" y=\"98\"/><text fill=\"#000000\" font-family=\"sans-serif\" font-size=\"12\" font-style=\"italic\" lengthAdjust=\"spacingAndGlyphs\" textLength=\"40\" x=\"254\" y=\"114.1387\">«part»</text><text fill=\"#000000\" font-family=\"sans-serif\" font-size=\"12\" lengthAdjust=\"spacingAndGlyphs\" textLength=\"8\" x=\"270\" y=\"128.1074\">p</text><line style=\"stroke: #383838; stroke-width: 1.5;\" x1=\"254\" x2=\"294\" y1=\"135.9375\" y2=\"135.9375\"/></a><!--MD5=[270fce915f116d4de14055a7c1d9a0f3]\n",
       "class E5--><a href=\"psysml:6519856a-88df-4cdc-a713-a9dddd16e281\" target=\"_top\" title=\"psysml:6519856a-88df-4cdc-a713-a9dddd16e281\" xlink:actuate=\"onRequest\" xlink:href=\"psysml:6519856a-88df-4cdc-a713-a9dddd16e281\" xlink:show=\"new\" xlink:title=\"psysml:6519856a-88df-4cdc-a713-a9dddd16e281\" xlink:type=\"simple\"><rect fill=\"#FFFFFF\" height=\"45.9375\" id=\"E5\" rx=\"10\" ry=\"10\" style=\"stroke: #383838; stroke-width: 1.5;\" width=\"55\" x=\"162.5\" y=\"98\"/><text fill=\"#000000\" font-family=\"sans-serif\" font-size=\"12\" font-style=\"italic\" lengthAdjust=\"spacingAndGlyphs\" textLength=\"53\" x=\"163.5\" y=\"114.1387\">«action»</text><text fill=\"#000000\" font-family=\"sans-serif\" font-size=\"12\" lengthAdjust=\"spacingAndGlyphs\" textLength=\"20\" x=\"180\" y=\"128.1074\">act</text><line style=\"stroke: #383838; stroke-width: 1.5;\" x1=\"163.5\" x2=\"216.5\" y1=\"135.9375\" y2=\"135.9375\"/></a><!--MD5=[60a26617385b1d2d0262a64233df1f8d]\n",
       "class E6--><a href=\"psysml:0bc7341d-f31b-4869-a064-1af20ff16fcc\" target=\"_top\" title=\"psysml:0bc7341d-f31b-4869-a064-1af20ff16fcc\" xlink:actuate=\"onRequest\" xlink:href=\"psysml:0bc7341d-f31b-4869-a064-1af20ff16fcc\" xlink:show=\"new\" xlink:title=\"psysml:0bc7341d-f31b-4869-a064-1af20ff16fcc\" xlink:type=\"simple\"><rect fill=\"#FFFFFF\" height=\"160.375\" id=\"E6\" style=\"stroke: #383838; stroke-width: 1.5;\" width=\"95\" x=\"32.5\" y=\"41\"/><text fill=\"#000000\" font-family=\"sans-serif\" font-size=\"12\" font-style=\"italic\" lengthAdjust=\"spacingAndGlyphs\" textLength=\"71\" x=\"44.5\" y=\"57.1387\">«state def»</text><text fill=\"#000000\" font-family=\"sans-serif\" font-size=\"12\" lengthAdjust=\"spacingAndGlyphs\" textLength=\"8\" x=\"76\" y=\"71.1074\">S</text><line style=\"stroke: #383838; stroke-width: 1.5;\" x1=\"33.5\" x2=\"126.5\" y1=\"78.9375\" y2=\"78.9375\"/><text fill=\"#000000\" font-family=\"sans-serif\" font-size=\"11\" lengthAdjust=\"spacingAndGlyphs\" textLength=\"17\" x=\"38.5\" y=\"109.9526\">act</text><text fill=\"#000000\" font-family=\"sans-serif\" font-size=\"11\" lengthAdjust=\"spacingAndGlyphs\" textLength=\"7\" x=\"38.5\" y=\"122.7573\">A</text><text fill=\"#000000\" font-family=\"sans-serif\" font-size=\"11\" lengthAdjust=\"spacingAndGlyphs\" textLength=\"8\" x=\"38.5\" y=\"135.562\">B</text><line style=\"stroke: #383838; stroke-width: 1.0;\" x1=\"33.5\" x2=\"36.5\" y1=\"93.3398\" y2=\"93.3398\"/><text fill=\"#000000\" font-family=\"sans-serif\" font-size=\"11\" lengthAdjust=\"spacingAndGlyphs\" textLength=\"87\" x=\"36.5\" y=\"96.6479\">performActions</text><line style=\"stroke: #383838; stroke-width: 1.0;\" x1=\"123.5\" x2=\"126.5\" y1=\"93.3398\" y2=\"93.3398\"/><text fill=\"#000000\" font-family=\"sans-serif\" font-size=\"11\" lengthAdjust=\"spacingAndGlyphs\" textLength=\"15\" x=\"38.5\" y=\"165.1714\">S1</text><line style=\"stroke: #383838; stroke-width: 1.0;\" x1=\"33.5\" x2=\"62\" y1=\"148.5586\" y2=\"148.5586\"/><text fill=\"#000000\" font-family=\"sans-serif\" font-size=\"11\" lengthAdjust=\"spacingAndGlyphs\" textLength=\"36\" x=\"62\" y=\"151.8667\">states</text><line style=\"stroke: #383838; stroke-width: 1.0;\" x1=\"98\" x2=\"126.5\" y1=\"148.5586\" y2=\"148.5586\"/><text fill=\"#000000\" font-family=\"sans-serif\" font-size=\"11\" lengthAdjust=\"spacingAndGlyphs\" textLength=\"7\" x=\"38.5\" y=\"194.7808\">T</text><line style=\"stroke: #383838; stroke-width: 1.0;\" x1=\"33.5\" x2=\"49.5\" y1=\"178.168\" y2=\"178.168\"/><text fill=\"#000000\" font-family=\"sans-serif\" font-size=\"11\" lengthAdjust=\"spacingAndGlyphs\" textLength=\"61\" x=\"49.5\" y=\"181.4761\">transitions</text><line style=\"stroke: #383838; stroke-width: 1.0;\" x1=\"110.5\" x2=\"126.5\" y1=\"178.168\" y2=\"178.168\"/></a><!--MD5=[1dd1bfd58a279cf63c5f349dbc8fc6a1]\n",
       "class E11--><a href=\"psysml:a085f23d-1115-47bd-987f-c38856471ed2\" target=\"_top\" title=\"psysml:a085f23d-1115-47bd-987f-c38856471ed2\" xlink:actuate=\"onRequest\" xlink:href=\"psysml:a085f23d-1115-47bd-987f-c38856471ed2\" xlink:show=\"new\" xlink:title=\"psysml:a085f23d-1115-47bd-987f-c38856471ed2\" xlink:type=\"simple\"><rect fill=\"#FFFFFF\" height=\"45.9375\" id=\"E11\" rx=\"10\" ry=\"10\" style=\"stroke: #383838; stroke-width: 1.5;\" width=\"49\" x=\"55.5\" y=\"261\"/><text fill=\"#000000\" font-family=\"sans-serif\" font-size=\"12\" font-style=\"italic\" lengthAdjust=\"spacingAndGlyphs\" textLength=\"47\" x=\"56.5\" y=\"277.1387\">«state»</text><text fill=\"#000000\" font-family=\"sans-serif\" font-size=\"12\" lengthAdjust=\"spacingAndGlyphs\" textLength=\"16\" x=\"72\" y=\"291.1074\">S2</text><line style=\"stroke: #383838; stroke-width: 1.5;\" x1=\"56.5\" x2=\"103.5\" y1=\"298.9375\" y2=\"298.9375\"/></a><!--MD5=[49a0ec8f00dab7302a31f22d0f0fe584]\n",
       "class E12--><a href=\"psysml:cfc90439-05ae-44f8-b88d-04fe860fe407\" target=\"_top\" title=\"psysml:cfc90439-05ae-44f8-b88d-04fe860fe407\" xlink:actuate=\"onRequest\" xlink:href=\"psysml:cfc90439-05ae-44f8-b88d-04fe860fe407\" xlink:show=\"new\" xlink:title=\"psysml:cfc90439-05ae-44f8-b88d-04fe860fe407\" xlink:type=\"simple\"><rect fill=\"#FFFFFF\" height=\"75.5469\" id=\"E12\" rx=\"10\" ry=\"10\" style=\"stroke: #383838; stroke-width: 1.5;\" width=\"90\" x=\"35\" y=\"367\"/><text fill=\"#000000\" font-family=\"sans-serif\" font-size=\"12\" font-style=\"italic\" lengthAdjust=\"spacingAndGlyphs\" textLength=\"88\" x=\"36\" y=\"383.1387\">«send action»</text><text fill=\"#000000\" font-family=\"sans-serif\" font-size=\"12\" lengthAdjust=\"spacingAndGlyphs\" textLength=\"55\" x=\"52.5\" y=\"397.1074\">doAction</text><line style=\"stroke: #383838; stroke-width: 1.5;\" x1=\"36\" x2=\"124\" y1=\"404.9375\" y2=\"404.9375\"/><text fill=\"#000000\" font-family=\"sans-serif\" font-size=\"11\" lengthAdjust=\"spacingAndGlyphs\" textLength=\"25\" x=\"41\" y=\"435.9526\">item</text><line style=\"stroke: #383838; stroke-width: 1.0;\" x1=\"36\" x2=\"42.5\" y1=\"419.3398\" y2=\"419.3398\"/><text fill=\"#000000\" font-family=\"sans-serif\" font-size=\"11\" lengthAdjust=\"spacingAndGlyphs\" textLength=\"75\" x=\"42.5\" y=\"422.6479\">itemFeatures</text><line style=\"stroke: #383838; stroke-width: 1.0;\" x1=\"117.5\" x2=\"124\" y1=\"419.3398\" y2=\"419.3398\"/></a><!--MD5=[1f5f03483f7de0d5b3680a7f6650997f]\n",
       "reverse link E6 to E11--><a href=\"psysml:a085f23d-1115-47bd-987f-c38856471ed2\" target=\"_top\" title=\"psysml:a085f23d-1115-47bd-987f-c38856471ed2\" xlink:actuate=\"onRequest\" xlink:href=\"psysml:a085f23d-1115-47bd-987f-c38856471ed2\" xlink:show=\"new\" xlink:title=\"psysml:a085f23d-1115-47bd-987f-c38856471ed2\" xlink:type=\"simple\"><path d=\"M80,214.17 C80,231.58 80,248.25 80,260.82 \" fill=\"none\" id=\"E6&lt;-E11\" style=\"stroke: #383838; stroke-width: 1.0;\"/><polygon fill=\"#383838\" points=\"80,201.09,76.0066,207.0944,80.0132,213.09,84.0066,207.0856,80,201.09\" style=\"stroke: #383838; stroke-width: 1.0;\"/></a><!--MD5=[94adabc162ce7e41b39f13be14fbaeb3]\n",
       "reverse link E11 to E12--><a href=\"psysml:cfc90439-05ae-44f8-b88d-04fe860fe407\" target=\"_top\" title=\"psysml:cfc90439-05ae-44f8-b88d-04fe860fe407\" xlink:actuate=\"onRequest\" xlink:href=\"psysml:cfc90439-05ae-44f8-b88d-04fe860fe407\" xlink:show=\"new\" xlink:title=\"psysml:cfc90439-05ae-44f8-b88d-04fe860fe407\" xlink:type=\"simple\"><path d=\"M80,320.23 C80,334.82 80,351.76 80,366.58 \" fill=\"none\" id=\"E11&lt;-E12\" style=\"stroke: #383838; stroke-width: 1.0;\"/><polygon fill=\"#FFFFFF\" points=\"80,307.1,76,313.1,80,319.1,84,313.1,80,307.1\" style=\"stroke: #383838; stroke-width: 1.0;\"/></a><!--MD5=[dad2034bdbba8b02c1a75be43c860ab1]\n",
       "@startuml\r\n",
       "skinparam monochrome true\r\n",
       "skinparam classbackgroundcolor white\r\n",
       "skinparam shadowing false\r\n",
       "skinparam wrapWidth 300\r\n",
       "hide circle\r\n",
       "\r\n",
       "package \"StateTest\" as E1  [[psysml:5e99c5ac-660c-4bcd-ba7f-80dc44a07c9e ]]  {\r\n",
       "comp def \"Sig\" as E2  <<(T,blue)attribute def>> [[psysml:408e0494-0708-476d-85d5-333a69b53e96 ]] {\r\n",
       "- - attributes - -\r\n",
       "x\r\n",
       "}\r\n",
       "comp def \"Exit\" as E3  <<(T,blue)attribute def>> [[psysml:0109ef31-4e51-4de7-9ac0-eb82fbd89c67 ]] {\r\n",
       "}\r\n",
       "comp usage \"p\" as E4  <<(T,blue)part>> [[psysml:64a2c9fa-aa89-4eff-b01c-ff58906cbde0 ]] {\r\n",
       "}\r\n",
       "comp usage \"act\" as E5  <<(T,blue)action>> [[psysml:6519856a-88df-4cdc-a713-a9dddd16e281 ]] {\r\n",
       "}\r\n",
       "comp def \"S\" as E6  <<(T,blue)state def>> [[psysml:0bc7341d-f31b-4869-a064-1af20ff16fcc ]] {\r\n",
       "- - performActions - -\r\n",
       "act\r\n",
       "A\r\n",
       "B\r\n",
       "- - states - -\r\n",
       "S1\r\n",
       "- - transitions - -\r\n",
       "T\r\n",
       "}\r\n",
       "comp usage \"S2\" as E11  <<(T,blue)state>> [[psysml:a085f23d-1115-47bd-987f-c38856471ed2 ]] {\r\n",
       "}\r\n",
       "comp usage \"doAction\" as E12 <<send action>> [[psysml:cfc90439-05ae-44f8-b88d-04fe860fe407 ]] {\r\n",
       "- - itemFeatures - -\r\n",
       "item\r\n",
       "}\r\n",
       "E6 *- - E11 [[psysml:a085f23d-1115-47bd-987f-c38856471ed2 ]] \r\n",
       "E11 o- - E12 [[psysml:cfc90439-05ae-44f8-b88d-04fe860fe407 ]] \r\n",
       "}\r\n",
       "@enduml\r\n",
       "\n",
       "PlantUML version 1.2020.13(Sat Jun 13 12:26:38 UTC 2020)\n",
       "(EPL source distribution)\n",
       "Java Runtime: OpenJDK Runtime Environment\n",
       "JVM: OpenJDK 64-Bit Server VM\n",
       "Default Encoding: UTF-8\n",
       "Language: en\n",
       "Country: null\n",
       "--></g></svg>"
      ]
     },
     "execution_count": 38,
     "metadata": {},
     "output_type": "execute_result"
    }
   ],
   "source": [
    "%viz --style=\"DEFAULT\" --view=\"Tree\" \"StateTest\""
   ]
  },
  {
   "cell_type": "code",
   "execution_count": 39,
   "id": "measured-serial",
   "metadata": {
    "execution": {
     "iopub.execute_input": "2021-03-26T13:02:48.130384Z",
     "iopub.status.busy": "2021-03-26T13:02:48.130021Z",
     "iopub.status.idle": "2021-03-26T13:02:48.162226Z",
     "shell.execute_reply": "2021-03-26T13:02:48.160997Z"
    }
   },
   "outputs": [
    {
     "data": {
      "image/svg+xml": [
       "<?xml version=\"1.0\" encoding=\"UTF-8\" standalone=\"no\"?><svg xmlns=\"http://www.w3.org/2000/svg\" xmlns:xlink=\"http://www.w3.org/1999/xlink\" contentScriptType=\"application/ecmascript\" contentStyleType=\"text/css\" height=\"475px\" preserveAspectRatio=\"none\" style=\"width:346px;height:475px;\" version=\"1.1\" viewBox=\"0 0 346 475\" width=\"346px\" zoomAndPan=\"magnify\"><defs/><g><!--MD5=[fbc87193dbaf4d95561dea2c320d4a47]\n",
       "cluster E1--><a href=\"psysml:0bc7341d-f31b-4869-a064-1af20ff16fcc\" target=\"_top\" title=\"psysml:0bc7341d-f31b-4869-a064-1af20ff16fcc\" xlink:actuate=\"onRequest\" xlink:href=\"psysml:0bc7341d-f31b-4869-a064-1af20ff16fcc\" xlink:show=\"new\" xlink:title=\"psysml:0bc7341d-f31b-4869-a064-1af20ff16fcc\" xlink:type=\"simple\"><rect fill=\"#FFFFFF\" height=\"457\" id=\"E1\" style=\"stroke: #383838; stroke-width: 1.5;\" width=\"327\" x=\"7\" y=\"7\"/><rect fill=\"#F8F8F8\" height=\"37.9375\" style=\"stroke: #383838; stroke-width: 1.5;\" width=\"327\" x=\"7\" y=\"7\"/><text fill=\"#000000\" font-family=\"sans-serif\" font-size=\"12\" font-style=\"italic\" lengthAdjust=\"spacingAndGlyphs\" textLength=\"71\" x=\"135\" y=\"23.1387\">«state def»</text><text fill=\"#000000\" font-family=\"sans-serif\" font-size=\"12\" lengthAdjust=\"spacingAndGlyphs\" textLength=\"8\" x=\"166.5\" y=\"37.1074\">S</text><line style=\"stroke: #383838; stroke-width: 1.0;\" x1=\"7\" x2=\"334\" y1=\"90.8438\" y2=\"90.8438\"/><text fill=\"#000000\" font-family=\"sans-serif\" font-size=\"12\" font-weight=\"bold\" lengthAdjust=\"spacingAndGlyphs\" textLength=\"38\" x=\"12\" y=\"58.0762\">entry</text><text fill=\"#000000\" font-family=\"sans-serif\" font-size=\"12\" lengthAdjust=\"spacingAndGlyphs\" textLength=\"16\" x=\"50\" y=\"58.0762\">/ A</text><text fill=\"#000000\" font-family=\"sans-serif\" font-size=\"12\" font-weight=\"bold\" lengthAdjust=\"spacingAndGlyphs\" textLength=\"18\" x=\"12\" y=\"72.0449\">do</text><text fill=\"#000000\" font-family=\"sans-serif\" font-size=\"12\" lengthAdjust=\"spacingAndGlyphs\" textLength=\"16\" x=\"30\" y=\"72.0449\">/ B</text><text fill=\"#000000\" font-family=\"sans-serif\" font-size=\"12\" font-weight=\"bold\" lengthAdjust=\"spacingAndGlyphs\" textLength=\"26\" x=\"12\" y=\"86.0137\">exit</text><text fill=\"#000000\" font-family=\"sans-serif\" font-size=\"12\" lengthAdjust=\"spacingAndGlyphs\" textLength=\"28\" x=\"38\" y=\"86.0137\">/ act</text></a><ellipse cx=\"119\" cy=\"115\" fill=\"#000000\" rx=\"10\" ry=\"10\" style=\"stroke: none; stroke-width: 1.0;\"/><ellipse cx=\"119\" cy=\"438\" fill=\"none\" rx=\"10\" ry=\"10\" style=\"stroke: #000000; stroke-width: 1.0;\"/><ellipse cx=\"119.5\" cy=\"438.5\" fill=\"#000000\" rx=\"6\" ry=\"6\" style=\"stroke: none; stroke-width: 1.0;\"/><g id=\"E1.E2\"><a href=\"psysml:70242e19-3f56-46b0-b4b5-fd0d440c29ee\" target=\"_top\" title=\"psysml:70242e19-3f56-46b0-b4b5-fd0d440c29ee\" xlink:actuate=\"onRequest\" xlink:href=\"psysml:70242e19-3f56-46b0-b4b5-fd0d440c29ee\" xlink:show=\"new\" xlink:title=\"psysml:70242e19-3f56-46b0-b4b5-fd0d440c29ee\" xlink:type=\"simple\"><rect fill=\"#FFFFFF\" height=\"40\" id=\"E2\" rx=\"10\" ry=\"10\" style=\"stroke: #383838; stroke-width: 1.5;\" width=\"50\" x=\"94\" y=\"186\"/><rect fill=\"#F8F8F8\" height=\"23.9688\" rx=\"10\" ry=\"10\" style=\"stroke: #F8F8F8; stroke-width: 1.5;\" width=\"50\" x=\"94\" y=\"186\"/><rect fill=\"#F8F8F8\" height=\"10\" style=\"stroke: #F8F8F8; stroke-width: 1.5;\" width=\"50\" x=\"94\" y=\"199.9688\"/><rect fill=\"none\" height=\"40\" id=\"E2\" rx=\"10\" ry=\"10\" style=\"stroke: #383838; stroke-width: 1.5;\" width=\"50\" x=\"94\" y=\"186\"/><text fill=\"#000000\" font-family=\"sans-serif\" font-size=\"12\" lengthAdjust=\"spacingAndGlyphs\" textLength=\"16\" x=\"111\" y=\"202.1387\">S1</text></a></g><g id=\"E1.E3\"><a href=\"psysml:a085f23d-1115-47bd-987f-c38856471ed2\" target=\"_top\" title=\"psysml:a085f23d-1115-47bd-987f-c38856471ed2\" xlink:actuate=\"onRequest\" xlink:href=\"psysml:a085f23d-1115-47bd-987f-c38856471ed2\" xlink:show=\"new\" xlink:title=\"psysml:a085f23d-1115-47bd-987f-c38856471ed2\" xlink:type=\"simple\"><rect fill=\"#FFFFFF\" height=\"47.9375\" id=\"E3\" rx=\"10\" ry=\"10\" style=\"stroke: #383838; stroke-width: 1.5;\" width=\"50\" x=\"94\" y=\"303\"/><rect fill=\"#F8F8F8\" height=\"23.9688\" rx=\"10\" ry=\"10\" style=\"stroke: #F8F8F8; stroke-width: 1.5;\" width=\"50\" x=\"94\" y=\"303\"/><rect fill=\"#F8F8F8\" height=\"10\" style=\"stroke: #F8F8F8; stroke-width: 1.5;\" width=\"50\" x=\"94\" y=\"316.9688\"/><rect fill=\"none\" height=\"47.9375\" id=\"E3\" rx=\"10\" ry=\"10\" style=\"stroke: #383838; stroke-width: 1.5;\" width=\"50\" x=\"94\" y=\"303\"/><text fill=\"#000000\" font-family=\"sans-serif\" font-size=\"12\" lengthAdjust=\"spacingAndGlyphs\" textLength=\"16\" x=\"111\" y=\"319.1387\">S2</text><line style=\"stroke: #383838; stroke-width: 1.0;\" x1=\"94\" x2=\"144\" y1=\"326.9688\" y2=\"326.9688\"/><text fill=\"#000000\" font-family=\"sans-serif\" font-size=\"12\" font-weight=\"bold\" lengthAdjust=\"spacingAndGlyphs\" textLength=\"18\" x=\"99\" y=\"340.1074\">do</text><text fill=\"#000000\" font-family=\"sans-serif\" font-size=\"12\" lengthAdjust=\"spacingAndGlyphs\" textLength=\"4\" x=\"117\" y=\"340.1074\">/</text></a></g><!--MD5=[cff944eb183b832d446717a4e202d613]\n",
       "link *start*E1 to E2--><a href=\"psysml:43d9c4f9-ed20-4c00-a0b0-be6dc49a6894\" target=\"_top\" title=\"psysml:43d9c4f9-ed20-4c00-a0b0-be6dc49a6894\" xlink:actuate=\"onRequest\" xlink:href=\"psysml:43d9c4f9-ed20-4c00-a0b0-be6dc49a6894\" xlink:show=\"new\" xlink:title=\"psysml:43d9c4f9-ed20-4c00-a0b0-be6dc49a6894\" xlink:type=\"simple\"><path d=\"M119,125.19 C119,138.18 119,162.38 119,180.73 \" fill=\"none\" id=\"*start*E1-&gt;E2\" style=\"stroke: #383838; stroke-width: 1.0;\"/><polygon fill=\"#383838\" points=\"119,185.74,123,176.74,119,180.74,115,176.74,119,185.74\" style=\"stroke: #383838; stroke-width: 1.0;\"/></a><!--MD5=[9ee7afa76ca8c509b3d216624c3a9893]\n",
       "link E3 to *end*E1--><a href=\"psysml:f955b7ee-57f2-4e8a-b602-a443c9a31c83\" target=\"_top\" title=\"psysml:f955b7ee-57f2-4e8a-b602-a443c9a31c83\" xlink:actuate=\"onRequest\" xlink:href=\"psysml:f955b7ee-57f2-4e8a-b602-a443c9a31c83\" xlink:show=\"new\" xlink:title=\"psysml:f955b7ee-57f2-4e8a-b602-a443c9a31c83\" xlink:type=\"simple\"><path d=\"M119,351.12 C119,372.75 119,404.39 119,422.62 \" fill=\"none\" id=\"E3-&gt;*end*E1\" style=\"stroke: #383838; stroke-width: 1.0;\"/><polygon fill=\"#383838\" points=\"119,427.82,123,418.82,119,422.82,115,418.82,119,427.82\" style=\"stroke: #383838; stroke-width: 1.0;\"/><text fill=\"#000000\" font-family=\"sans-serif\" font-size=\"13\" lengthAdjust=\"spacingAndGlyphs\" textLength=\"23\" x=\"120\" y=\"394.0669\">Exit</text></a><!--MD5=[2720a5a1f2c3fca2055b230370638851]\n",
       "link E2 to E3--><a href=\"psysml:d37fdc60-36d2-41f0-83fe-622a63ffc619\" target=\"_top\" title=\"psysml:d37fdc60-36d2-41f0-83fe-622a63ffc619\" xlink:actuate=\"onRequest\" xlink:href=\"psysml:d37fdc60-36d2-41f0-83fe-622a63ffc619\" xlink:show=\"new\" xlink:title=\"psysml:d37fdc60-36d2-41f0-83fe-622a63ffc619\" xlink:type=\"simple\"><path d=\"M93.93,218.88 C79.69,227.12 63.12,239.56 55,256 C44.11,278.05 67.72,298.2 89.27,311.16 \" fill=\"none\" id=\"E2-&gt;E3\" style=\"stroke: #383838; stroke-width: 1.0;\"/><polygon fill=\"#383838\" points=\"93.83,313.82,88.0682,305.8324,89.5101,311.3024,84.0401,312.7443,93.83,313.82\" style=\"stroke: #383838; stroke-width: 1.0;\"/><text fill=\"#000000\" font-family=\"sans-serif\" font-size=\"13\" lengthAdjust=\"spacingAndGlyphs\" textLength=\"81\" x=\"56\" y=\"269.0669\">Sig /action D</text></a><!--MD5=[05d275557350bfb9b23a4ef7222b4c39]\n",
       "link E3 to E2--><a href=\"psysml:b2ce6d4b-1a56-4d0e-ade4-ffb9136266c2\" target=\"_top\" title=\"psysml:b2ce6d4b-1a56-4d0e-ade4-ffb9136266c2\" xlink:actuate=\"onRequest\" xlink:href=\"psysml:b2ce6d4b-1a56-4d0e-ade4-ffb9136266c2\" xlink:show=\"new\" xlink:title=\"psysml:b2ce6d4b-1a56-4d0e-ade4-ffb9136266c2\" xlink:type=\"simple\"><path d=\"M133.17,302.99 C139.81,289.48 145.56,271.98 142,256 C140.1,247.49 136.56,238.72 132.82,230.99 \" fill=\"none\" id=\"E3-&gt;E2\" style=\"stroke: #383838; stroke-width: 1.0;\"/><polygon fill=\"#383838\" points=\"130.47,226.32,130.9298,236.1581,132.7118,230.7893,138.0806,232.5713,130.47,226.32\" style=\"stroke: #383838; stroke-width: 1.0;\"/><text fill=\"#000000\" font-family=\"sans-serif\" font-size=\"13\" lengthAdjust=\"spacingAndGlyphs\" textLength=\"135\" x=\"144\" y=\"269.0669\">Sig [true]/send s to p</text></a><!--MD5=[075dfcbd366527e7fb491b9cfdfffaf8]\n",
       "@startuml\r\n",
       "skinparam monochrome true\r\n",
       "skinparam classbackgroundcolor white\r\n",
       "skinparam shadowing false\r\n",
       "skinparam wrapWidth 300\r\n",
       "hide circle\r\n",
       "\r\n",
       "rec def \"S\" as E1  <<(T,blue)state def>> [[psysml:0bc7341d-f31b-4869-a064-1af20ff16fcc ]] {\r\n",
       "rec usage \"S1\" as E2 [[psysml:70242e19-3f56-46b0-b4b5-fd0d440c29ee ]] {\r\n",
       "}\r\n",
       "\r\n",
       "rec usage \"S2\" as E3 [[psysml:a085f23d-1115-47bd-987f-c38856471ed2 ]] {\r\n",
       "desc \"S2\" as E3  : **do**/ \r\n",
       "}\r\n",
       "\r\n",
       "[*] - -> E2 [[psysml:43d9c4f9-ed20-4c00-a0b0-be6dc49a6894 ]] \r\n",
       "E3  - -> [*] [[psysml:f955b7ee-57f2-4e8a-b602-a443c9a31c83 ]] : Exit \r\n",
       "desc \"S\" as E1  : **entry**/ A\r\n",
       "desc \"S\" as E1  : **do**/ B\r\n",
       "desc \"S\" as E1  : **exit**/ act \r\n",
       "}\r\n",
       "\r\n",
       "E2  - -> E3 [[psysml:d37fdc60-36d2-41f0-83fe-622a63ffc619 ]] : Sig /action D\r\n",
       "E3  - -> E2 [[psysml:b2ce6d4b-1a56-4d0e-ade4-ffb9136266c2 ]] : Sig [true]/send s to p\r\n",
       "@enduml\r\n",
       "\n",
       "PlantUML version 1.2020.13(Sat Jun 13 12:26:38 UTC 2020)\n",
       "(EPL source distribution)\n",
       "Java Runtime: OpenJDK Runtime Environment\n",
       "JVM: OpenJDK 64-Bit Server VM\n",
       "Default Encoding: UTF-8\n",
       "Language: en\n",
       "Country: null\n",
       "--></g></svg>"
      ]
     },
     "execution_count": 39,
     "metadata": {},
     "output_type": "execute_result"
    }
   ],
   "source": [
    "%viz --style=\"DEFAULT\" --view=\"State\" \"StateTest\""
   ]
  },
  {
   "cell_type": "code",
   "execution_count": 40,
   "id": "leading-tokyo",
   "metadata": {
    "execution": {
     "iopub.execute_input": "2021-03-26T13:02:48.211794Z",
     "iopub.status.busy": "2021-03-26T13:02:48.211401Z",
     "iopub.status.idle": "2021-03-26T13:02:48.236826Z",
     "shell.execute_reply": "2021-03-26T13:02:48.235522Z"
    }
   },
   "outputs": [
    {
     "data": {
      "image/svg+xml": [
       "<?xml version=\"1.0\" encoding=\"UTF-8\" standalone=\"no\"?><svg xmlns=\"http://www.w3.org/2000/svg\" xmlns:xlink=\"http://www.w3.org/1999/xlink\" contentScriptType=\"application/ecmascript\" contentStyleType=\"text/css\" height=\"112px\" preserveAspectRatio=\"none\" style=\"width:598px;height:112px;\" version=\"1.1\" viewBox=\"0 0 598 112\" width=\"598px\" zoomAndPan=\"magnify\"><defs/><g><!--MD5=[fbc87193dbaf4d95561dea2c320d4a47]\n",
       "cluster E1--><a href=\"psysml:5e99c5ac-660c-4bcd-ba7f-80dc44a07c9e\" target=\"_top\" title=\"psysml:5e99c5ac-660c-4bcd-ba7f-80dc44a07c9e\" xlink:actuate=\"onRequest\" xlink:href=\"psysml:5e99c5ac-660c-4bcd-ba7f-80dc44a07c9e\" xlink:show=\"new\" xlink:title=\"psysml:5e99c5ac-660c-4bcd-ba7f-80dc44a07c9e\" xlink:type=\"simple\"><polygon fill=\"#FFFFFF\" points=\"16,6,98,6,105,28.2969,576,28.2969,576,100,16,100,16,6\" style=\"stroke: #000000; stroke-width: 1.5;\"/><line style=\"stroke: #000000; stroke-width: 1.5;\" x1=\"16\" x2=\"105\" y1=\"28.2969\" y2=\"28.2969\"/><text fill=\"#000000\" font-family=\"sans-serif\" font-size=\"14\" font-weight=\"bold\" lengthAdjust=\"spacingAndGlyphs\" textLength=\"76\" x=\"20\" y=\"20.9951\">StateTest</text></a><g id=\"E1.E2\"><a href=\"psysml:408e0494-0708-476d-85d5-333a69b53e96\" target=\"_top\" title=\"psysml:408e0494-0708-476d-85d5-333a69b53e96\" xlink:actuate=\"onRequest\" xlink:href=\"psysml:408e0494-0708-476d-85d5-333a69b53e96\" xlink:show=\"new\" xlink:title=\"psysml:408e0494-0708-476d-85d5-333a69b53e96\" xlink:type=\"simple\"><rect fill=\"#FFFFFF\" height=\"42.9375\" id=\"E2\" style=\"stroke: #383838; stroke-width: 1.5;\" width=\"100\" x=\"460\" y=\"41\"/><rect fill=\"#F8F8F8\" height=\"37.9375\" style=\"stroke: #383838; stroke-width: 1.5;\" width=\"100\" x=\"460\" y=\"41\"/><text fill=\"#000000\" font-family=\"sans-serif\" font-size=\"12\" font-style=\"italic\" lengthAdjust=\"spacingAndGlyphs\" textLength=\"93\" x=\"463.5\" y=\"57.1387\">«attribute def»</text><text fill=\"#000000\" font-family=\"sans-serif\" font-size=\"12\" lengthAdjust=\"spacingAndGlyphs\" textLength=\"19\" x=\"500.5\" y=\"71.1074\">Sig</text></a></g><g id=\"E1.E3\"><a href=\"psysml:0109ef31-4e51-4de7-9ac0-eb82fbd89c67\" target=\"_top\" title=\"psysml:0109ef31-4e51-4de7-9ac0-eb82fbd89c67\" xlink:actuate=\"onRequest\" xlink:href=\"psysml:0109ef31-4e51-4de7-9ac0-eb82fbd89c67\" xlink:show=\"new\" xlink:title=\"psysml:0109ef31-4e51-4de7-9ac0-eb82fbd89c67\" xlink:type=\"simple\"><rect fill=\"#FFFFFF\" height=\"42.9375\" id=\"E3\" style=\"stroke: #383838; stroke-width: 1.5;\" width=\"100\" x=\"325\" y=\"41\"/><rect fill=\"#F8F8F8\" height=\"37.9375\" style=\"stroke: #383838; stroke-width: 1.5;\" width=\"100\" x=\"325\" y=\"41\"/><text fill=\"#000000\" font-family=\"sans-serif\" font-size=\"12\" font-style=\"italic\" lengthAdjust=\"spacingAndGlyphs\" textLength=\"93\" x=\"328.5\" y=\"57.1387\">«attribute def»</text><text fill=\"#000000\" font-family=\"sans-serif\" font-size=\"12\" lengthAdjust=\"spacingAndGlyphs\" textLength=\"22\" x=\"364\" y=\"71.1074\">Exit</text></a></g><g id=\"E1.E6\"><a href=\"psysml:0bc7341d-f31b-4869-a064-1af20ff16fcc\" target=\"_top\" title=\"psysml:0bc7341d-f31b-4869-a064-1af20ff16fcc\" xlink:actuate=\"onRequest\" xlink:href=\"psysml:0bc7341d-f31b-4869-a064-1af20ff16fcc\" xlink:show=\"new\" xlink:title=\"psysml:0bc7341d-f31b-4869-a064-1af20ff16fcc\" xlink:type=\"simple\"><rect fill=\"#FFFFFF\" height=\"42.9375\" id=\"E6\" style=\"stroke: #383838; stroke-width: 1.5;\" width=\"78\" x=\"212\" y=\"41\"/><rect fill=\"#F8F8F8\" height=\"37.9375\" style=\"stroke: #383838; stroke-width: 1.5;\" width=\"78\" x=\"212\" y=\"41\"/><text fill=\"#000000\" font-family=\"sans-serif\" font-size=\"12\" font-style=\"italic\" lengthAdjust=\"spacingAndGlyphs\" textLength=\"71\" x=\"215.5\" y=\"57.1387\">«state def»</text><text fill=\"#000000\" font-family=\"sans-serif\" font-size=\"12\" lengthAdjust=\"spacingAndGlyphs\" textLength=\"8\" x=\"247\" y=\"71.1074\">S</text></a></g><g id=\"E1.E4\"><a href=\"psysml:64a2c9fa-aa89-4eff-b01c-ff58906cbde0\" target=\"_top\" title=\"psysml:64a2c9fa-aa89-4eff-b01c-ff58906cbde0\" xlink:actuate=\"onRequest\" xlink:href=\"psysml:64a2c9fa-aa89-4eff-b01c-ff58906cbde0\" xlink:show=\"new\" xlink:title=\"psysml:64a2c9fa-aa89-4eff-b01c-ff58906cbde0\" xlink:type=\"simple\"><rect fill=\"#FFFFFF\" height=\"40\" id=\"E4\" rx=\"10\" ry=\"10\" style=\"stroke: #383838; stroke-width: 1.5;\" width=\"50\" x=\"127\" y=\"42.5\"/><rect fill=\"#F8F8F8\" height=\"23.9688\" rx=\"10\" ry=\"10\" style=\"stroke: #F8F8F8; stroke-width: 1.5;\" width=\"50\" x=\"127\" y=\"42.5\"/><rect fill=\"#F8F8F8\" height=\"10\" style=\"stroke: #F8F8F8; stroke-width: 1.5;\" width=\"50\" x=\"127\" y=\"56.4688\"/><rect fill=\"none\" height=\"40\" id=\"E4\" rx=\"10\" ry=\"10\" style=\"stroke: #383838; stroke-width: 1.5;\" width=\"50\" x=\"127\" y=\"42.5\"/><text fill=\"#000000\" font-family=\"sans-serif\" font-size=\"12\" lengthAdjust=\"spacingAndGlyphs\" textLength=\"8\" x=\"148\" y=\"58.6387\">p</text></a></g><g id=\"E1.E5\"><a href=\"psysml:6519856a-88df-4cdc-a713-a9dddd16e281\" target=\"_top\" title=\"psysml:6519856a-88df-4cdc-a713-a9dddd16e281\" xlink:actuate=\"onRequest\" xlink:href=\"psysml:6519856a-88df-4cdc-a713-a9dddd16e281\" xlink:show=\"new\" xlink:title=\"psysml:6519856a-88df-4cdc-a713-a9dddd16e281\" xlink:type=\"simple\"><rect fill=\"#FFFFFF\" height=\"42.9375\" id=\"E5\" rx=\"10\" ry=\"10\" style=\"stroke: #383838; stroke-width: 1.5;\" width=\"60\" x=\"32\" y=\"41\"/><rect fill=\"#F8F8F8\" height=\"37.9375\" rx=\"10\" ry=\"10\" style=\"stroke: #F8F8F8; stroke-width: 1.5;\" width=\"60\" x=\"32\" y=\"41\"/><rect fill=\"#F8F8F8\" height=\"10\" style=\"stroke: #F8F8F8; stroke-width: 1.5;\" width=\"60\" x=\"32\" y=\"68.9375\"/><rect fill=\"none\" height=\"42.9375\" id=\"E5\" rx=\"10\" ry=\"10\" style=\"stroke: #383838; stroke-width: 1.5;\" width=\"60\" x=\"32\" y=\"41\"/><text fill=\"#000000\" font-family=\"sans-serif\" font-size=\"12\" font-style=\"italic\" lengthAdjust=\"spacingAndGlyphs\" textLength=\"53\" x=\"35.5\" y=\"57.1387\">«action»</text><text fill=\"#000000\" font-family=\"sans-serif\" font-size=\"12\" lengthAdjust=\"spacingAndGlyphs\" textLength=\"20\" x=\"52\" y=\"71.1074\">act</text></a></g><!--MD5=[c20ea74386c96ad3fb09930d01678290]\n",
       "@startuml\r\n",
       "skinparam ranksep 8\r\n",
       "skinparam rectangle {\r\n",
       " backgroundColor<<block>> LightGreen\r\n",
       "}\r\n",
       "skinparam monochrome true\r\n",
       "skinparam classbackgroundcolor white\r\n",
       "skinparam shadowing false\r\n",
       "skinparam wrapWidth 300\r\n",
       "hide circle\r\n",
       "\r\n",
       "package \"StateTest\" as E1  [[psysml:5e99c5ac-660c-4bcd-ba7f-80dc44a07c9e ]]  {\r\n",
       "def \"Sig\" as E2  <<(T,blue)attribute def>> [[psysml:408e0494-0708-476d-85d5-333a69b53e96 ]] \r\n",
       "def \"Exit\" as E3  <<(T,blue)attribute def>> [[psysml:0109ef31-4e51-4de7-9ac0-eb82fbd89c67 ]] \r\n",
       "rec usage \"p\" as E4  [[psysml:64a2c9fa-aa89-4eff-b01c-ff58906cbde0 ]] {\r\n",
       "}\r\n",
       "rec usage \"act\" as E5  <<(T,blue)action>> [[psysml:6519856a-88df-4cdc-a713-a9dddd16e281 ]] {\r\n",
       "}\r\n",
       "def \"S\" as E6  <<(T,blue)state def>> [[psysml:0bc7341d-f31b-4869-a064-1af20ff16fcc ]] \r\n",
       "}\r\n",
       "@enduml\r\n",
       "\n",
       "PlantUML version 1.2020.13(Sat Jun 13 12:26:38 UTC 2020)\n",
       "(EPL source distribution)\n",
       "Java Runtime: OpenJDK Runtime Environment\n",
       "JVM: OpenJDK 64-Bit Server VM\n",
       "Default Encoding: UTF-8\n",
       "Language: en\n",
       "Country: null\n",
       "--></g></svg>"
      ]
     },
     "execution_count": 40,
     "metadata": {},
     "output_type": "execute_result"
    }
   ],
   "source": [
    "%viz --style=\"DEFAULT\" --view=\"Interconnection\" \"StateTest\""
   ]
  },
  {
   "cell_type": "code",
   "execution_count": 41,
   "id": "designing-russia",
   "metadata": {
    "execution": {
     "iopub.execute_input": "2021-03-26T13:02:48.292703Z",
     "iopub.status.busy": "2021-03-26T13:02:48.292317Z",
     "iopub.status.idle": "2021-03-26T13:02:48.298416Z",
     "shell.execute_reply": "2021-03-26T13:02:48.297343Z"
    }
   },
   "outputs": [
    {
     "data": {
      "image/svg+xml": [
       "<?xml version=\"1.0\" encoding=\"UTF-8\" standalone=\"no\"?><svg xmlns=\"http://www.w3.org/2000/svg\" xmlns:xlink=\"http://www.w3.org/1999/xlink\" contentScriptType=\"application/ecmascript\" contentStyleType=\"text/css\" height=\"467px\" preserveAspectRatio=\"none\" style=\"width:796px;height:467px;background:#000000;\" version=\"1.1\" viewBox=\"0 0 796 467\" width=\"796px\" zoomAndPan=\"magnify\"><defs/><g><rect fill=\"#251D0C\" height=\"1\" style=\"stroke: #251D0C; stroke-width: 1.0;\" width=\"1\" x=\"0\" y=\"0\"/><rect fill=\"#33FF02\" height=\"21.2969\" style=\"stroke: #33FF02; stroke-width: 1.0;\" width=\"789\" x=\"5\" y=\"5\"/><text fill=\"#000000\" font-family=\"sans-serif\" font-size=\"14\" font-weight=\"bold\" lengthAdjust=\"spacingAndGlyphs\" textLength=\"178\" x=\"6\" y=\"20\">[From string (line 25) ]</text><text fill=\"#33FF02\" font-family=\"sans-serif\" font-size=\"14\" font-weight=\"bold\" lengthAdjust=\"spacingAndGlyphs\" textLength=\"0\" x=\"10\" y=\"40.2969\"/><text fill=\"#33FF02\" font-family=\"sans-serif\" font-size=\"14\" font-weight=\"bold\" lengthAdjust=\"spacingAndGlyphs\" textLength=\"79\" x=\"5\" y=\"56.5938\">@startuml</text><text fill=\"#33FF02\" font-family=\"sans-serif\" font-size=\"14\" font-weight=\"bold\" lengthAdjust=\"spacingAndGlyphs\" textLength=\"165\" x=\"5\" y=\"72.8906\">skinparam ranksep 8</text><text fill=\"#33FF02\" font-family=\"sans-serif\" font-size=\"14\" font-weight=\"bold\" lengthAdjust=\"spacingAndGlyphs\" textLength=\"228\" x=\"5\" y=\"89.1875\">skinparam monochrome true</text><text fill=\"#33FF02\" font-family=\"sans-serif\" font-size=\"14\" font-weight=\"bold\" lengthAdjust=\"spacingAndGlyphs\" textLength=\"309\" x=\"5\" y=\"105.4844\">skinparam classbackgroundcolor white</text><text fill=\"#33FF02\" font-family=\"sans-serif\" font-size=\"14\" font-weight=\"bold\" lengthAdjust=\"spacingAndGlyphs\" textLength=\"215\" x=\"5\" y=\"121.7813\">skinparam shadowing false</text><text fill=\"#33FF02\" font-family=\"sans-serif\" font-size=\"14\" font-weight=\"bold\" lengthAdjust=\"spacingAndGlyphs\" textLength=\"206\" x=\"5\" y=\"138.0781\">skinparam wrapWidth 300</text><text fill=\"#33FF02\" font-family=\"sans-serif\" font-size=\"14\" font-weight=\"bold\" lengthAdjust=\"spacingAndGlyphs\" textLength=\"82\" x=\"5\" y=\"154.375\">hide circle</text><text fill=\"#33FF02\" font-family=\"sans-serif\" font-size=\"14\" font-weight=\"bold\" lengthAdjust=\"spacingAndGlyphs\" textLength=\"0\" x=\"10\" y=\"170.6719\"/><text fill=\"#33FF02\" font-family=\"sans-serif\" font-size=\"14\" font-weight=\"bold\" lengthAdjust=\"spacingAndGlyphs\" textLength=\"781\" x=\"5\" y=\"186.9688\">rec usage \"act\" as E1  &lt;&lt;(T,blue)action&gt;&gt; [[psysml:6519856a-88df-4cdc-a713-a9dddd16e281 ]] {</text><text fill=\"#33FF02\" font-family=\"sans-serif\" font-size=\"14\" font-weight=\"bold\" lengthAdjust=\"spacingAndGlyphs\" textLength=\"10\" x=\"5\" y=\"203.2656\">}</text><text fill=\"#33FF02\" font-family=\"sans-serif\" font-size=\"14\" font-weight=\"bold\" lengthAdjust=\"spacingAndGlyphs\" textLength=\"0\" x=\"10\" y=\"219.5625\"/><text fill=\"#33FF02\" font-family=\"sans-serif\" font-size=\"14\" font-weight=\"bold\" lengthAdjust=\"spacingAndGlyphs\" textLength=\"752\" x=\"5\" y=\"235.8594\">rec def \"S\" as E2  &lt;&lt;(T,blue)state def&gt;&gt; [[psysml:0bc7341d-f31b-4869-a064-1af20ff16fcc ]] {</text><text fill=\"#33FF02\" font-family=\"sans-serif\" font-size=\"14\" font-weight=\"bold\" lengthAdjust=\"spacingAndGlyphs\" textLength=\"771\" x=\"5\" y=\"252.1563\">rec usage \"A\" as E3 &lt;&lt;perform action&gt;&gt; [[psysml:24ce981a-669a-4b1b-8e70-ec9679f168ba ]] {</text><text fill=\"#33FF02\" font-family=\"sans-serif\" font-size=\"14\" font-weight=\"bold\" lengthAdjust=\"spacingAndGlyphs\" textLength=\"10\" x=\"5\" y=\"268.4531\">}</text><text fill=\"#33FF02\" font-family=\"sans-serif\" font-size=\"14\" font-weight=\"bold\" lengthAdjust=\"spacingAndGlyphs\" textLength=\"0\" x=\"10\" y=\"284.75\"/><text fill=\"#33FF02\" font-family=\"sans-serif\" font-size=\"14\" font-weight=\"bold\" lengthAdjust=\"spacingAndGlyphs\" textLength=\"773\" x=\"5\" y=\"301.0469\">rec usage \"B\" as E4 &lt;&lt;perform action&gt;&gt; [[psysml:0cb81d18-66e4-4e05-a75e-b6d7358364f8 ]] {</text><text fill=\"#33FF02\" font-family=\"sans-serif\" font-size=\"14\" font-weight=\"bold\" lengthAdjust=\"spacingAndGlyphs\" textLength=\"10\" x=\"5\" y=\"317.3438\">}</text><text fill=\"#33FF02\" font-family=\"sans-serif\" font-size=\"14\" font-weight=\"bold\" lengthAdjust=\"spacingAndGlyphs\" textLength=\"0\" x=\"10\" y=\"333.6406\"/><text fill=\"#33FF02\" font-family=\"sans-serif\" font-size=\"14\" font-weight=\"bold\" lengthAdjust=\"spacingAndGlyphs\" textLength=\"789\" x=\"5\" y=\"349.9375\">rec usage \"act\" as E5 &lt;&lt;perform action&gt;&gt; [[psysml:3038242a-7c4d-4726-ae4e-c76791d4ee71 ]] {</text><text fill=\"#33FF02\" font-family=\"sans-serif\" font-size=\"14\" font-weight=\"bold\" lengthAdjust=\"spacingAndGlyphs\" textLength=\"10\" x=\"5\" y=\"366.2344\">}</text><text fill=\"#33FF02\" font-family=\"sans-serif\" font-size=\"14\" font-weight=\"bold\" lengthAdjust=\"spacingAndGlyphs\" textLength=\"0\" x=\"10\" y=\"382.5313\"/><text fill=\"#33FF02\" font-family=\"sans-serif\" font-size=\"14\" font-weight=\"bold\" lengthAdjust=\"spacingAndGlyphs\" textLength=\"769\" x=\"5\" y=\"398.8281\">rec usage \"S1\" as E6  &lt;&lt;(T,blue)state&gt;&gt; [[psysml:70242e19-3f56-46b0-b4b5-fd0d440c29ee ]] {</text><text fill=\"#33FF02\" font-family=\"sans-serif\" font-size=\"14\" font-weight=\"bold\" lengthAdjust=\"spacingAndGlyphs\" textLength=\"10\" x=\"5\" y=\"415.125\">}</text><text fill=\"#33FF02\" font-family=\"sans-serif\" font-size=\"14\" font-weight=\"bold\" lengthAdjust=\"spacingAndGlyphs\" textLength=\"0\" x=\"10\" y=\"431.4219\"/><text fill=\"#33FF02\" font-family=\"sans-serif\" font-size=\"14\" font-weight=\"bold\" lengthAdjust=\"spacingAndGlyphs\" textLength=\"10\" x=\"5\" y=\"447.7188\">{</text><text fill=\"#FF0000\" font-family=\"sans-serif\" font-size=\"14\" font-weight=\"bold\" lengthAdjust=\"spacingAndGlyphs\" textLength=\"106\" x=\"10\" y=\"464.0156\">Syntax Error?</text><!--MD5=[f36000ac33854bf49860734fa17d0545]\n",
       "@startuml\r\n",
       "skinparam ranksep 8\r\n",
       "skinparam monochrome true\r\n",
       "skinparam classbackgroundcolor white\r\n",
       "skinparam shadowing false\r\n",
       "skinparam wrapWidth 300\r\n",
       "hide circle\r\n",
       "\r\n",
       "rec usage \"act\" as E1  <<(T,blue)action>> [[psysml:6519856a-88df-4cdc-a713-a9dddd16e281 ]] {\r\n",
       "}\r\n",
       "\r\n",
       "rec def \"S\" as E2  <<(T,blue)state def>> [[psysml:0bc7341d-f31b-4869-a064-1af20ff16fcc ]] {\r\n",
       "rec usage \"A\" as E3 <<perform action>> [[psysml:24ce981a-669a-4b1b-8e70-ec9679f168ba ]] {\r\n",
       "}\r\n",
       "\r\n",
       "rec usage \"B\" as E4 <<perform action>> [[psysml:0cb81d18-66e4-4e05-a75e-b6d7358364f8 ]] {\r\n",
       "}\r\n",
       "\r\n",
       "rec usage \"act\" as E5 <<perform action>> [[psysml:3038242a-7c4d-4726-ae4e-c76791d4ee71 ]] {\r\n",
       "}\r\n",
       "\r\n",
       "rec usage \"S1\" as E6  <<(T,blue)state>> [[psysml:70242e19-3f56-46b0-b4b5-fd0d440c29ee ]] {\r\n",
       "}\r\n",
       "\r\n",
       "{\r\n",
       "{\r\n",
       "}\r\n",
       "\r\n",
       "rec usage \"D\" as E7 <<perform action>> [[psysml:9fa67b9a-f55b-4b6f-8c3c-7583e77a313e ]] {\r\n",
       "}\r\n",
       "\r\n",
       "}\r\n",
       "\r\n",
       "rec usage \"S2\" as E8  <<(T,blue)state>> [[psysml:a085f23d-1115-47bd-987f-c38856471ed2 ]] {\r\n",
       "rec usage \"doAction\" as E9 <<send action>> [[psysml:cfc90439-05ae-44f8-b88d-04fe860fe407 ]] {\r\n",
       "portin \"$x\" as E10  [[psysml:ae5b5913-d198-445b-b606-f76bd72ed7d9 ]] \r\n",
       "portout \"$result\" as E11  [[psysml:f2619e5d-ad00-4b4a-a4fe-7cd7945e1b82 ]] \r\n",
       "}\r\n",
       "\r\n",
       "}\r\n",
       "\r\n",
       "{\r\n",
       "{\r\n",
       "}\r\n",
       "\r\n",
       "}\r\n",
       "\r\n",
       "rec usage \"T\" as E12  <<(T,blue)transition>> [[psysml:b2ce6d4b-1a56-4d0e-ade4-ffb9136266c2 ]] {\r\n",
       "rec usage \"S2\" as E13  <<(T,blue)state>> [[psysml:a085f23d-1115-47bd-987f-c38856471ed2 ]] {\r\n",
       "rec usage \"doAction\" as E14 <<send action>> [[psysml:cfc90439-05ae-44f8-b88d-04fe860fe407 ]] {\r\n",
       "portin \"$x\" as E15  [[psysml:ae5b5913-d198-445b-b606-f76bd72ed7d9 ]] \r\n",
       "portout \"$result\" as E16  [[psysml:f2619e5d-ad00-4b4a-a4fe-7cd7945e1b82 ]] \r\n",
       "}\r\n",
       "\r\n",
       "}\r\n",
       "\r\n",
       "{\r\n",
       "}\r\n",
       "\r\n",
       "portout \"$result\" as E17  [[psysml:9abbd064-7570-4e45-a029-f7befd203c67 ]] \r\n",
       "{\r\n",
       "}\r\n",
       "\r\n",
       "}\r\n",
       "\r\n",
       "}\r\n",
       "\r\n",
       "@enduml\r\n",
       "\n",
       "PlantUML version 1.2020.13(Sat Jun 13 12:26:38 UTC 2020)\n",
       "(EPL source distribution)\n",
       "Java Runtime: OpenJDK Runtime Environment\n",
       "JVM: OpenJDK 64-Bit Server VM\n",
       "Default Encoding: UTF-8\n",
       "Language: en\n",
       "Country: null\n",
       "--></g></svg>"
      ]
     },
     "execution_count": 41,
     "metadata": {},
     "output_type": "execute_result"
    }
   ],
   "source": [
    "%viz --style=\"DEFAULT\" --view=\"Action\" \"StateTest\""
   ]
  },
  {
   "cell_type": "code",
   "execution_count": 42,
   "id": "reverse-nutrition",
   "metadata": {
    "execution": {
     "iopub.execute_input": "2021-03-26T13:02:48.349578Z",
     "iopub.status.busy": "2021-03-26T13:02:48.348969Z",
     "iopub.status.idle": "2021-03-26T13:02:48.452218Z",
     "shell.execute_reply": "2021-03-26T13:02:48.451675Z"
    }
   },
   "outputs": [
    {
     "data": {
      "image/svg+xml": [
       "<?xml version=\"1.0\" encoding=\"UTF-8\" standalone=\"no\"?><svg xmlns=\"http://www.w3.org/2000/svg\" xmlns:xlink=\"http://www.w3.org/1999/xlink\" contentScriptType=\"application/ecmascript\" contentStyleType=\"text/css\" height=\"471px\" preserveAspectRatio=\"none\" style=\"width:594px;height:471px;\" version=\"1.1\" viewBox=\"0 0 594 471\" width=\"594px\" zoomAndPan=\"magnify\"><defs/><g><!--MD5=[fbc87193dbaf4d95561dea2c320d4a47]\n",
       "cluster E1--><a href=\"psysml:5e99c5ac-660c-4bcd-ba7f-80dc44a07c9e\" target=\"_top\" title=\"psysml:5e99c5ac-660c-4bcd-ba7f-80dc44a07c9e\" xlink:actuate=\"onRequest\" xlink:href=\"psysml:5e99c5ac-660c-4bcd-ba7f-80dc44a07c9e\" xlink:show=\"new\" xlink:title=\"psysml:5e99c5ac-660c-4bcd-ba7f-80dc44a07c9e\" xlink:type=\"simple\"><polygon fill=\"#FFFFFF\" points=\"16,6,98,6,105,28.2969,572,28.2969,572,459,16,459,16,6\" style=\"stroke: #000000; stroke-width: 1.5;\"/><line style=\"stroke: #000000; stroke-width: 1.5;\" x1=\"16\" x2=\"105\" y1=\"28.2969\" y2=\"28.2969\"/><text fill=\"#000000\" font-family=\"sans-serif\" font-size=\"14\" font-weight=\"bold\" lengthAdjust=\"spacingAndGlyphs\" textLength=\"76\" x=\"20\" y=\"20.9951\">StateTest</text></a><!--MD5=[b4997ac47864f28c2f74865a473b2911]\n",
       "class E2--><a href=\"psysml:408e0494-0708-476d-85d5-333a69b53e96\" target=\"_top\" title=\"psysml:408e0494-0708-476d-85d5-333a69b53e96\" xlink:actuate=\"onRequest\" xlink:href=\"psysml:408e0494-0708-476d-85d5-333a69b53e96\" xlink:show=\"new\" xlink:title=\"psysml:408e0494-0708-476d-85d5-333a69b53e96\" xlink:type=\"simple\"><rect fill=\"#FFFFFF\" height=\"75.5469\" id=\"E2\" style=\"stroke: #383838; stroke-width: 1.5;\" width=\"95\" x=\"460.5\" y=\"83\"/><text fill=\"#000000\" font-family=\"sans-serif\" font-size=\"12\" font-style=\"italic\" lengthAdjust=\"spacingAndGlyphs\" textLength=\"93\" x=\"461.5\" y=\"99.1387\">«attribute def»</text><text fill=\"#000000\" font-family=\"sans-serif\" font-size=\"12\" lengthAdjust=\"spacingAndGlyphs\" textLength=\"19\" x=\"498.5\" y=\"113.1074\">Sig</text><line style=\"stroke: #383838; stroke-width: 1.5;\" x1=\"461.5\" x2=\"554.5\" y1=\"120.9375\" y2=\"120.9375\"/><text fill=\"#000000\" font-family=\"sans-serif\" font-size=\"11\" lengthAdjust=\"spacingAndGlyphs\" textLength=\"6\" x=\"466.5\" y=\"151.9526\">x</text><line style=\"stroke: #383838; stroke-width: 1.0;\" x1=\"461.5\" x2=\"480.5\" y1=\"135.3398\" y2=\"135.3398\"/><text fill=\"#000000\" font-family=\"sans-serif\" font-size=\"11\" lengthAdjust=\"spacingAndGlyphs\" textLength=\"55\" x=\"480.5\" y=\"138.6479\">attributes</text><line style=\"stroke: #383838; stroke-width: 1.0;\" x1=\"535.5\" x2=\"554.5\" y1=\"135.3398\" y2=\"135.3398\"/></a><!--MD5=[09b614a08d8cba4a07c9adeb5e0fee81]\n",
       "class E3--><a href=\"psysml:0109ef31-4e51-4de7-9ac0-eb82fbd89c67\" target=\"_top\" title=\"psysml:0109ef31-4e51-4de7-9ac0-eb82fbd89c67\" xlink:actuate=\"onRequest\" xlink:href=\"psysml:0109ef31-4e51-4de7-9ac0-eb82fbd89c67\" xlink:show=\"new\" xlink:title=\"psysml:0109ef31-4e51-4de7-9ac0-eb82fbd89c67\" xlink:type=\"simple\"><rect fill=\"#FFFFFF\" height=\"45.9375\" id=\"E3\" style=\"stroke: #383838; stroke-width: 1.5;\" width=\"95\" x=\"330.5\" y=\"98\"/><text fill=\"#000000\" font-family=\"sans-serif\" font-size=\"12\" font-style=\"italic\" lengthAdjust=\"spacingAndGlyphs\" textLength=\"93\" x=\"331.5\" y=\"114.1387\">«attribute def»</text><text fill=\"#000000\" font-family=\"sans-serif\" font-size=\"12\" lengthAdjust=\"spacingAndGlyphs\" textLength=\"22\" x=\"367\" y=\"128.1074\">Exit</text><line style=\"stroke: #383838; stroke-width: 1.5;\" x1=\"331.5\" x2=\"424.5\" y1=\"135.9375\" y2=\"135.9375\"/></a><!--MD5=[ebbe1d658d1005bcc118a6aa81145e00]\n",
       "class E4--><a href=\"psysml:64a2c9fa-aa89-4eff-b01c-ff58906cbde0\" target=\"_top\" title=\"psysml:64a2c9fa-aa89-4eff-b01c-ff58906cbde0\" xlink:actuate=\"onRequest\" xlink:href=\"psysml:64a2c9fa-aa89-4eff-b01c-ff58906cbde0\" xlink:show=\"new\" xlink:title=\"psysml:64a2c9fa-aa89-4eff-b01c-ff58906cbde0\" xlink:type=\"simple\"><rect fill=\"#FFFFFF\" height=\"45.9375\" id=\"E4\" rx=\"10\" ry=\"10\" style=\"stroke: #383838; stroke-width: 1.5;\" width=\"42\" x=\"253\" y=\"98\"/><text fill=\"#000000\" font-family=\"sans-serif\" font-size=\"12\" font-style=\"italic\" lengthAdjust=\"spacingAndGlyphs\" textLength=\"40\" x=\"254\" y=\"114.1387\">«part»</text><text fill=\"#000000\" font-family=\"sans-serif\" font-size=\"12\" lengthAdjust=\"spacingAndGlyphs\" textLength=\"8\" x=\"270\" y=\"128.1074\">p</text><line style=\"stroke: #383838; stroke-width: 1.5;\" x1=\"254\" x2=\"294\" y1=\"135.9375\" y2=\"135.9375\"/></a><!--MD5=[270fce915f116d4de14055a7c1d9a0f3]\n",
       "class E5--><a href=\"psysml:6519856a-88df-4cdc-a713-a9dddd16e281\" target=\"_top\" title=\"psysml:6519856a-88df-4cdc-a713-a9dddd16e281\" xlink:actuate=\"onRequest\" xlink:href=\"psysml:6519856a-88df-4cdc-a713-a9dddd16e281\" xlink:show=\"new\" xlink:title=\"psysml:6519856a-88df-4cdc-a713-a9dddd16e281\" xlink:type=\"simple\"><rect fill=\"#FFFFFF\" height=\"45.9375\" id=\"E5\" rx=\"10\" ry=\"10\" style=\"stroke: #383838; stroke-width: 1.5;\" width=\"55\" x=\"162.5\" y=\"98\"/><text fill=\"#000000\" font-family=\"sans-serif\" font-size=\"12\" font-style=\"italic\" lengthAdjust=\"spacingAndGlyphs\" textLength=\"53\" x=\"163.5\" y=\"114.1387\">«action»</text><text fill=\"#000000\" font-family=\"sans-serif\" font-size=\"12\" lengthAdjust=\"spacingAndGlyphs\" textLength=\"20\" x=\"180\" y=\"128.1074\">act</text><line style=\"stroke: #383838; stroke-width: 1.5;\" x1=\"163.5\" x2=\"216.5\" y1=\"135.9375\" y2=\"135.9375\"/></a><!--MD5=[60a26617385b1d2d0262a64233df1f8d]\n",
       "class E6--><a href=\"psysml:0bc7341d-f31b-4869-a064-1af20ff16fcc\" target=\"_top\" title=\"psysml:0bc7341d-f31b-4869-a064-1af20ff16fcc\" xlink:actuate=\"onRequest\" xlink:href=\"psysml:0bc7341d-f31b-4869-a064-1af20ff16fcc\" xlink:show=\"new\" xlink:title=\"psysml:0bc7341d-f31b-4869-a064-1af20ff16fcc\" xlink:type=\"simple\"><rect fill=\"#FFFFFF\" height=\"160.375\" id=\"E6\" style=\"stroke: #383838; stroke-width: 1.5;\" width=\"95\" x=\"32.5\" y=\"41\"/><text fill=\"#000000\" font-family=\"sans-serif\" font-size=\"12\" font-style=\"italic\" lengthAdjust=\"spacingAndGlyphs\" textLength=\"71\" x=\"44.5\" y=\"57.1387\">«state def»</text><text fill=\"#000000\" font-family=\"sans-serif\" font-size=\"12\" lengthAdjust=\"spacingAndGlyphs\" textLength=\"8\" x=\"76\" y=\"71.1074\">S</text><line style=\"stroke: #383838; stroke-width: 1.5;\" x1=\"33.5\" x2=\"126.5\" y1=\"78.9375\" y2=\"78.9375\"/><text fill=\"#000000\" font-family=\"sans-serif\" font-size=\"11\" lengthAdjust=\"spacingAndGlyphs\" textLength=\"17\" x=\"38.5\" y=\"109.9526\">act</text><text fill=\"#000000\" font-family=\"sans-serif\" font-size=\"11\" lengthAdjust=\"spacingAndGlyphs\" textLength=\"7\" x=\"38.5\" y=\"122.7573\">A</text><text fill=\"#000000\" font-family=\"sans-serif\" font-size=\"11\" lengthAdjust=\"spacingAndGlyphs\" textLength=\"8\" x=\"38.5\" y=\"135.562\">B</text><line style=\"stroke: #383838; stroke-width: 1.0;\" x1=\"33.5\" x2=\"36.5\" y1=\"93.3398\" y2=\"93.3398\"/><text fill=\"#000000\" font-family=\"sans-serif\" font-size=\"11\" lengthAdjust=\"spacingAndGlyphs\" textLength=\"87\" x=\"36.5\" y=\"96.6479\">performActions</text><line style=\"stroke: #383838; stroke-width: 1.0;\" x1=\"123.5\" x2=\"126.5\" y1=\"93.3398\" y2=\"93.3398\"/><text fill=\"#000000\" font-family=\"sans-serif\" font-size=\"11\" lengthAdjust=\"spacingAndGlyphs\" textLength=\"15\" x=\"38.5\" y=\"165.1714\">S1</text><line style=\"stroke: #383838; stroke-width: 1.0;\" x1=\"33.5\" x2=\"62\" y1=\"148.5586\" y2=\"148.5586\"/><text fill=\"#000000\" font-family=\"sans-serif\" font-size=\"11\" lengthAdjust=\"spacingAndGlyphs\" textLength=\"36\" x=\"62\" y=\"151.8667\">states</text><line style=\"stroke: #383838; stroke-width: 1.0;\" x1=\"98\" x2=\"126.5\" y1=\"148.5586\" y2=\"148.5586\"/><text fill=\"#000000\" font-family=\"sans-serif\" font-size=\"11\" lengthAdjust=\"spacingAndGlyphs\" textLength=\"7\" x=\"38.5\" y=\"194.7808\">T</text><line style=\"stroke: #383838; stroke-width: 1.0;\" x1=\"33.5\" x2=\"49.5\" y1=\"178.168\" y2=\"178.168\"/><text fill=\"#000000\" font-family=\"sans-serif\" font-size=\"11\" lengthAdjust=\"spacingAndGlyphs\" textLength=\"61\" x=\"49.5\" y=\"181.4761\">transitions</text><line style=\"stroke: #383838; stroke-width: 1.0;\" x1=\"110.5\" x2=\"126.5\" y1=\"178.168\" y2=\"178.168\"/></a><!--MD5=[1dd1bfd58a279cf63c5f349dbc8fc6a1]\n",
       "class E11--><a href=\"psysml:a085f23d-1115-47bd-987f-c38856471ed2\" target=\"_top\" title=\"psysml:a085f23d-1115-47bd-987f-c38856471ed2\" xlink:actuate=\"onRequest\" xlink:href=\"psysml:a085f23d-1115-47bd-987f-c38856471ed2\" xlink:show=\"new\" xlink:title=\"psysml:a085f23d-1115-47bd-987f-c38856471ed2\" xlink:type=\"simple\"><rect fill=\"#FFFFFF\" height=\"45.9375\" id=\"E11\" rx=\"10\" ry=\"10\" style=\"stroke: #383838; stroke-width: 1.5;\" width=\"49\" x=\"55.5\" y=\"261\"/><text fill=\"#000000\" font-family=\"sans-serif\" font-size=\"12\" font-style=\"italic\" lengthAdjust=\"spacingAndGlyphs\" textLength=\"47\" x=\"56.5\" y=\"277.1387\">«state»</text><text fill=\"#000000\" font-family=\"sans-serif\" font-size=\"12\" lengthAdjust=\"spacingAndGlyphs\" textLength=\"16\" x=\"72\" y=\"291.1074\">S2</text><line style=\"stroke: #383838; stroke-width: 1.5;\" x1=\"56.5\" x2=\"103.5\" y1=\"298.9375\" y2=\"298.9375\"/></a><!--MD5=[49a0ec8f00dab7302a31f22d0f0fe584]\n",
       "class E12--><a href=\"psysml:cfc90439-05ae-44f8-b88d-04fe860fe407\" target=\"_top\" title=\"psysml:cfc90439-05ae-44f8-b88d-04fe860fe407\" xlink:actuate=\"onRequest\" xlink:href=\"psysml:cfc90439-05ae-44f8-b88d-04fe860fe407\" xlink:show=\"new\" xlink:title=\"psysml:cfc90439-05ae-44f8-b88d-04fe860fe407\" xlink:type=\"simple\"><rect fill=\"#FFFFFF\" height=\"75.5469\" id=\"E12\" rx=\"10\" ry=\"10\" style=\"stroke: #383838; stroke-width: 1.5;\" width=\"90\" x=\"35\" y=\"367\"/><text fill=\"#000000\" font-family=\"sans-serif\" font-size=\"12\" font-style=\"italic\" lengthAdjust=\"spacingAndGlyphs\" textLength=\"88\" x=\"36\" y=\"383.1387\">«send action»</text><text fill=\"#000000\" font-family=\"sans-serif\" font-size=\"12\" lengthAdjust=\"spacingAndGlyphs\" textLength=\"55\" x=\"52.5\" y=\"397.1074\">doAction</text><line style=\"stroke: #383838; stroke-width: 1.5;\" x1=\"36\" x2=\"124\" y1=\"404.9375\" y2=\"404.9375\"/><text fill=\"#000000\" font-family=\"sans-serif\" font-size=\"11\" lengthAdjust=\"spacingAndGlyphs\" textLength=\"25\" x=\"41\" y=\"435.9526\">item</text><line style=\"stroke: #383838; stroke-width: 1.0;\" x1=\"36\" x2=\"42.5\" y1=\"419.3398\" y2=\"419.3398\"/><text fill=\"#000000\" font-family=\"sans-serif\" font-size=\"11\" lengthAdjust=\"spacingAndGlyphs\" textLength=\"75\" x=\"42.5\" y=\"422.6479\">itemFeatures</text><line style=\"stroke: #383838; stroke-width: 1.0;\" x1=\"117.5\" x2=\"124\" y1=\"419.3398\" y2=\"419.3398\"/></a><!--MD5=[1f5f03483f7de0d5b3680a7f6650997f]\n",
       "reverse link E6 to E11--><a href=\"psysml:a085f23d-1115-47bd-987f-c38856471ed2\" target=\"_top\" title=\"psysml:a085f23d-1115-47bd-987f-c38856471ed2\" xlink:actuate=\"onRequest\" xlink:href=\"psysml:a085f23d-1115-47bd-987f-c38856471ed2\" xlink:show=\"new\" xlink:title=\"psysml:a085f23d-1115-47bd-987f-c38856471ed2\" xlink:type=\"simple\"><path d=\"M80,214.17 C80,231.58 80,248.25 80,260.82 \" fill=\"none\" id=\"E6&lt;-E11\" style=\"stroke: #383838; stroke-width: 1.0;\"/><polygon fill=\"#383838\" points=\"80,201.09,76.0066,207.0944,80.0132,213.09,84.0066,207.0856,80,201.09\" style=\"stroke: #383838; stroke-width: 1.0;\"/></a><!--MD5=[94adabc162ce7e41b39f13be14fbaeb3]\n",
       "reverse link E11 to E12--><a href=\"psysml:cfc90439-05ae-44f8-b88d-04fe860fe407\" target=\"_top\" title=\"psysml:cfc90439-05ae-44f8-b88d-04fe860fe407\" xlink:actuate=\"onRequest\" xlink:href=\"psysml:cfc90439-05ae-44f8-b88d-04fe860fe407\" xlink:show=\"new\" xlink:title=\"psysml:cfc90439-05ae-44f8-b88d-04fe860fe407\" xlink:type=\"simple\"><path d=\"M80,320.23 C80,334.82 80,351.76 80,366.58 \" fill=\"none\" id=\"E11&lt;-E12\" style=\"stroke: #383838; stroke-width: 1.0;\"/><polygon fill=\"#FFFFFF\" points=\"80,307.1,76,313.1,80,319.1,84,313.1,80,307.1\" style=\"stroke: #383838; stroke-width: 1.0;\"/></a><!--MD5=[dad2034bdbba8b02c1a75be43c860ab1]\n",
       "@startuml\r\n",
       "skinparam monochrome true\r\n",
       "skinparam classbackgroundcolor white\r\n",
       "skinparam shadowing false\r\n",
       "skinparam wrapWidth 300\r\n",
       "hide circle\r\n",
       "\r\n",
       "package \"StateTest\" as E1  [[psysml:5e99c5ac-660c-4bcd-ba7f-80dc44a07c9e ]]  {\r\n",
       "comp def \"Sig\" as E2  <<(T,blue)attribute def>> [[psysml:408e0494-0708-476d-85d5-333a69b53e96 ]] {\r\n",
       "- - attributes - -\r\n",
       "x\r\n",
       "}\r\n",
       "comp def \"Exit\" as E3  <<(T,blue)attribute def>> [[psysml:0109ef31-4e51-4de7-9ac0-eb82fbd89c67 ]] {\r\n",
       "}\r\n",
       "comp usage \"p\" as E4  <<(T,blue)part>> [[psysml:64a2c9fa-aa89-4eff-b01c-ff58906cbde0 ]] {\r\n",
       "}\r\n",
       "comp usage \"act\" as E5  <<(T,blue)action>> [[psysml:6519856a-88df-4cdc-a713-a9dddd16e281 ]] {\r\n",
       "}\r\n",
       "comp def \"S\" as E6  <<(T,blue)state def>> [[psysml:0bc7341d-f31b-4869-a064-1af20ff16fcc ]] {\r\n",
       "- - performActions - -\r\n",
       "act\r\n",
       "A\r\n",
       "B\r\n",
       "- - states - -\r\n",
       "S1\r\n",
       "- - transitions - -\r\n",
       "T\r\n",
       "}\r\n",
       "comp usage \"S2\" as E11  <<(T,blue)state>> [[psysml:a085f23d-1115-47bd-987f-c38856471ed2 ]] {\r\n",
       "}\r\n",
       "comp usage \"doAction\" as E12 <<send action>> [[psysml:cfc90439-05ae-44f8-b88d-04fe860fe407 ]] {\r\n",
       "- - itemFeatures - -\r\n",
       "item\r\n",
       "}\r\n",
       "E6 *- - E11 [[psysml:a085f23d-1115-47bd-987f-c38856471ed2 ]] \r\n",
       "E11 o- - E12 [[psysml:cfc90439-05ae-44f8-b88d-04fe860fe407 ]] \r\n",
       "}\r\n",
       "@enduml\r\n",
       "\n",
       "PlantUML version 1.2020.13(Sat Jun 13 12:26:38 UTC 2020)\n",
       "(EPL source distribution)\n",
       "Java Runtime: OpenJDK Runtime Environment\n",
       "JVM: OpenJDK 64-Bit Server VM\n",
       "Default Encoding: UTF-8\n",
       "Language: en\n",
       "Country: null\n",
       "--></g></svg>"
      ]
     },
     "execution_count": 42,
     "metadata": {},
     "output_type": "execute_result"
    }
   ],
   "source": [
    "%viz --style=\"DEFAULT\" --view=\"Sequence\" \"StateTest\""
   ]
  },
  {
   "cell_type": "code",
   "execution_count": 43,
   "id": "opposed-bunch",
   "metadata": {
    "execution": {
     "iopub.execute_input": "2021-03-26T13:02:48.503659Z",
     "iopub.status.busy": "2021-03-26T13:02:48.503328Z",
     "iopub.status.idle": "2021-03-26T13:02:48.555576Z",
     "shell.execute_reply": "2021-03-26T13:02:48.553188Z"
    }
   },
   "outputs": [
    {
     "data": {
      "image/svg+xml": [
       "<?xml version=\"1.0\" encoding=\"UTF-8\" standalone=\"no\"?><svg xmlns=\"http://www.w3.org/2000/svg\" xmlns:xlink=\"http://www.w3.org/1999/xlink\" contentScriptType=\"application/ecmascript\" contentStyleType=\"text/css\" height=\"570px\" preserveAspectRatio=\"none\" style=\"width:819px;height:570px;\" version=\"1.1\" viewBox=\"0 0 819 570\" width=\"819px\" zoomAndPan=\"magnify\"><defs/><g><!--MD5=[fbc87193dbaf4d95561dea2c320d4a47]\n",
       "cluster E1--><a href=\"psysml:5e99c5ac-660c-4bcd-ba7f-80dc44a07c9e\" target=\"_top\" title=\"psysml:5e99c5ac-660c-4bcd-ba7f-80dc44a07c9e\" xlink:actuate=\"onRequest\" xlink:href=\"psysml:5e99c5ac-660c-4bcd-ba7f-80dc44a07c9e\" xlink:show=\"new\" xlink:title=\"psysml:5e99c5ac-660c-4bcd-ba7f-80dc44a07c9e\" xlink:type=\"simple\"><polygon fill=\"#FFFFFF\" points=\"16,6,98,6,105,28.2969,797,28.2969,797,558,16,558,16,6\" style=\"stroke: #000000; stroke-width: 1.5;\"/><line style=\"stroke: #000000; stroke-width: 1.5;\" x1=\"16\" x2=\"105\" y1=\"28.2969\" y2=\"28.2969\"/><text fill=\"#000000\" font-family=\"sans-serif\" font-size=\"14\" font-weight=\"bold\" lengthAdjust=\"spacingAndGlyphs\" textLength=\"76\" x=\"20\" y=\"20.9951\">StateTest</text></a><!--MD5=[14e3b0961a2654348d326746436168a1]\n",
       "cluster E6--><a href=\"psysml:0bc7341d-f31b-4869-a064-1af20ff16fcc\" target=\"_top\" title=\"psysml:0bc7341d-f31b-4869-a064-1af20ff16fcc\" xlink:actuate=\"onRequest\" xlink:href=\"psysml:0bc7341d-f31b-4869-a064-1af20ff16fcc\" xlink:show=\"new\" xlink:title=\"psysml:0bc7341d-f31b-4869-a064-1af20ff16fcc\" xlink:type=\"simple\"><rect fill=\"#FFFFFF\" height=\"485\" id=\"E6\" style=\"stroke: #383838; stroke-width: 1.5;\" width=\"327\" x=\"446\" y=\"49\"/><rect fill=\"#F8F8F8\" height=\"37.9375\" style=\"stroke: #383838; stroke-width: 1.5;\" width=\"327\" x=\"446\" y=\"49\"/><text fill=\"#000000\" font-family=\"sans-serif\" font-size=\"12\" font-style=\"italic\" lengthAdjust=\"spacingAndGlyphs\" textLength=\"71\" x=\"574\" y=\"65.1387\">«state def»</text><text fill=\"#000000\" font-family=\"sans-serif\" font-size=\"12\" lengthAdjust=\"spacingAndGlyphs\" textLength=\"8\" x=\"605.5\" y=\"79.1074\">S</text><line style=\"stroke: #383838; stroke-width: 1.0;\" x1=\"446\" x2=\"773\" y1=\"132.8438\" y2=\"132.8438\"/><text fill=\"#000000\" font-family=\"sans-serif\" font-size=\"12\" font-weight=\"bold\" lengthAdjust=\"spacingAndGlyphs\" textLength=\"38\" x=\"451\" y=\"100.0762\">entry</text><text fill=\"#000000\" font-family=\"sans-serif\" font-size=\"12\" lengthAdjust=\"spacingAndGlyphs\" textLength=\"16\" x=\"489\" y=\"100.0762\">/ A</text><text fill=\"#000000\" font-family=\"sans-serif\" font-size=\"12\" font-weight=\"bold\" lengthAdjust=\"spacingAndGlyphs\" textLength=\"18\" x=\"451\" y=\"114.0449\">do</text><text fill=\"#000000\" font-family=\"sans-serif\" font-size=\"12\" lengthAdjust=\"spacingAndGlyphs\" textLength=\"16\" x=\"469\" y=\"114.0449\">/ B</text><text fill=\"#000000\" font-family=\"sans-serif\" font-size=\"12\" font-weight=\"bold\" lengthAdjust=\"spacingAndGlyphs\" textLength=\"26\" x=\"451\" y=\"128.0137\">exit</text><text fill=\"#000000\" font-family=\"sans-serif\" font-size=\"12\" lengthAdjust=\"spacingAndGlyphs\" textLength=\"28\" x=\"477\" y=\"128.0137\">/ act</text></a><!--MD5=[b4997ac47864f28c2f74865a473b2911]\n",
       "class E2--><a href=\"psysml:408e0494-0708-476d-85d5-333a69b53e96\" target=\"_top\" title=\"psysml:408e0494-0708-476d-85d5-333a69b53e96\" xlink:actuate=\"onRequest\" xlink:href=\"psysml:408e0494-0708-476d-85d5-333a69b53e96\" xlink:show=\"new\" xlink:title=\"psysml:408e0494-0708-476d-85d5-333a69b53e96\" xlink:type=\"simple\"><rect fill=\"#FFFFFF\" height=\"75.5469\" id=\"E2\" style=\"stroke: #383838; stroke-width: 1.5;\" width=\"95\" x=\"334.5\" y=\"119\"/><text fill=\"#000000\" font-family=\"sans-serif\" font-size=\"12\" font-style=\"italic\" lengthAdjust=\"spacingAndGlyphs\" textLength=\"93\" x=\"335.5\" y=\"135.1387\">«attribute def»</text><text fill=\"#000000\" font-family=\"sans-serif\" font-size=\"12\" lengthAdjust=\"spacingAndGlyphs\" textLength=\"19\" x=\"372.5\" y=\"149.1074\">Sig</text><line style=\"stroke: #383838; stroke-width: 1.5;\" x1=\"335.5\" x2=\"428.5\" y1=\"156.9375\" y2=\"156.9375\"/><text fill=\"#000000\" font-family=\"sans-serif\" font-size=\"11\" lengthAdjust=\"spacingAndGlyphs\" textLength=\"6\" x=\"340.5\" y=\"187.9526\">x</text><line style=\"stroke: #383838; stroke-width: 1.0;\" x1=\"335.5\" x2=\"354.5\" y1=\"171.3398\" y2=\"171.3398\"/><text fill=\"#000000\" font-family=\"sans-serif\" font-size=\"11\" lengthAdjust=\"spacingAndGlyphs\" textLength=\"55\" x=\"354.5\" y=\"174.6479\">attributes</text><line style=\"stroke: #383838; stroke-width: 1.0;\" x1=\"409.5\" x2=\"428.5\" y1=\"171.3398\" y2=\"171.3398\"/></a><!--MD5=[09b614a08d8cba4a07c9adeb5e0fee81]\n",
       "class E3--><a href=\"psysml:0109ef31-4e51-4de7-9ac0-eb82fbd89c67\" target=\"_top\" title=\"psysml:0109ef31-4e51-4de7-9ac0-eb82fbd89c67\" xlink:actuate=\"onRequest\" xlink:href=\"psysml:0109ef31-4e51-4de7-9ac0-eb82fbd89c67\" xlink:show=\"new\" xlink:title=\"psysml:0109ef31-4e51-4de7-9ac0-eb82fbd89c67\" xlink:type=\"simple\"><rect fill=\"#FFFFFF\" height=\"45.9375\" id=\"E3\" style=\"stroke: #383838; stroke-width: 1.5;\" width=\"95\" x=\"204.5\" y=\"134\"/><text fill=\"#000000\" font-family=\"sans-serif\" font-size=\"12\" font-style=\"italic\" lengthAdjust=\"spacingAndGlyphs\" textLength=\"93\" x=\"205.5\" y=\"150.1387\">«attribute def»</text><text fill=\"#000000\" font-family=\"sans-serif\" font-size=\"12\" lengthAdjust=\"spacingAndGlyphs\" textLength=\"22\" x=\"241\" y=\"164.1074\">Exit</text><line style=\"stroke: #383838; stroke-width: 1.5;\" x1=\"205.5\" x2=\"298.5\" y1=\"171.9375\" y2=\"171.9375\"/></a><!--MD5=[ebbe1d658d1005bcc118a6aa81145e00]\n",
       "class E4--><a href=\"psysml:64a2c9fa-aa89-4eff-b01c-ff58906cbde0\" target=\"_top\" title=\"psysml:64a2c9fa-aa89-4eff-b01c-ff58906cbde0\" xlink:actuate=\"onRequest\" xlink:href=\"psysml:64a2c9fa-aa89-4eff-b01c-ff58906cbde0\" xlink:show=\"new\" xlink:title=\"psysml:64a2c9fa-aa89-4eff-b01c-ff58906cbde0\" xlink:type=\"simple\"><rect fill=\"#FFFFFF\" height=\"45.9375\" id=\"E4\" rx=\"10\" ry=\"10\" style=\"stroke: #383838; stroke-width: 1.5;\" width=\"42\" x=\"127\" y=\"134\"/><text fill=\"#000000\" font-family=\"sans-serif\" font-size=\"12\" font-style=\"italic\" lengthAdjust=\"spacingAndGlyphs\" textLength=\"40\" x=\"128\" y=\"150.1387\">«part»</text><text fill=\"#000000\" font-family=\"sans-serif\" font-size=\"12\" lengthAdjust=\"spacingAndGlyphs\" textLength=\"8\" x=\"144\" y=\"164.1074\">p</text><line style=\"stroke: #383838; stroke-width: 1.5;\" x1=\"128\" x2=\"168\" y1=\"171.9375\" y2=\"171.9375\"/></a><g id=\"E1.E5\"><a href=\"psysml:6519856a-88df-4cdc-a713-a9dddd16e281\" target=\"_top\" title=\"psysml:6519856a-88df-4cdc-a713-a9dddd16e281\" xlink:actuate=\"onRequest\" xlink:href=\"psysml:6519856a-88df-4cdc-a713-a9dddd16e281\" xlink:show=\"new\" xlink:title=\"psysml:6519856a-88df-4cdc-a713-a9dddd16e281\" xlink:type=\"simple\"><rect fill=\"#FFFFFF\" height=\"42.9375\" id=\"E5\" rx=\"10\" ry=\"10\" style=\"stroke: #383838; stroke-width: 1.5;\" width=\"60\" x=\"32\" y=\"135.5\"/><rect fill=\"#F8F8F8\" height=\"37.9375\" rx=\"10\" ry=\"10\" style=\"stroke: #F8F8F8; stroke-width: 1.5;\" width=\"60\" x=\"32\" y=\"135.5\"/><rect fill=\"#F8F8F8\" height=\"10\" style=\"stroke: #F8F8F8; stroke-width: 1.5;\" width=\"60\" x=\"32\" y=\"163.4375\"/><rect fill=\"none\" height=\"42.9375\" id=\"E5\" rx=\"10\" ry=\"10\" style=\"stroke: #383838; stroke-width: 1.5;\" width=\"60\" x=\"32\" y=\"135.5\"/><text fill=\"#000000\" font-family=\"sans-serif\" font-size=\"12\" font-style=\"italic\" lengthAdjust=\"spacingAndGlyphs\" textLength=\"53\" x=\"35.5\" y=\"151.6387\">«action»</text><text fill=\"#000000\" font-family=\"sans-serif\" font-size=\"12\" lengthAdjust=\"spacingAndGlyphs\" textLength=\"20\" x=\"52\" y=\"165.6074\">act</text></a></g><ellipse cx=\"558\" cy=\"157\" fill=\"#000000\" rx=\"10\" ry=\"10\" style=\"stroke: none; stroke-width: 1.0;\"/><ellipse cx=\"558\" cy=\"508\" fill=\"none\" rx=\"10\" ry=\"10\" style=\"stroke: #000000; stroke-width: 1.0;\"/><ellipse cx=\"558.5\" cy=\"508.5\" fill=\"#000000\" rx=\"6\" ry=\"6\" style=\"stroke: none; stroke-width: 1.0;\"/><g id=\"E1.E6.E7\"><a href=\"psysml:70242e19-3f56-46b0-b4b5-fd0d440c29ee\" target=\"_top\" title=\"psysml:70242e19-3f56-46b0-b4b5-fd0d440c29ee\" xlink:actuate=\"onRequest\" xlink:href=\"psysml:70242e19-3f56-46b0-b4b5-fd0d440c29ee\" xlink:show=\"new\" xlink:title=\"psysml:70242e19-3f56-46b0-b4b5-fd0d440c29ee\" xlink:type=\"simple\"><rect fill=\"#FFFFFF\" height=\"40\" id=\"E7\" rx=\"10\" ry=\"10\" style=\"stroke: #383838; stroke-width: 1.5;\" width=\"50\" x=\"533\" y=\"256\"/><rect fill=\"#F8F8F8\" height=\"23.9688\" rx=\"10\" ry=\"10\" style=\"stroke: #F8F8F8; stroke-width: 1.5;\" width=\"50\" x=\"533\" y=\"256\"/><rect fill=\"#F8F8F8\" height=\"10\" style=\"stroke: #F8F8F8; stroke-width: 1.5;\" width=\"50\" x=\"533\" y=\"269.9688\"/><rect fill=\"none\" height=\"40\" id=\"E7\" rx=\"10\" ry=\"10\" style=\"stroke: #383838; stroke-width: 1.5;\" width=\"50\" x=\"533\" y=\"256\"/><text fill=\"#000000\" font-family=\"sans-serif\" font-size=\"12\" lengthAdjust=\"spacingAndGlyphs\" textLength=\"16\" x=\"550\" y=\"272.1387\">S1</text></a></g><g id=\"E1.E6.E8\"><a href=\"psysml:a085f23d-1115-47bd-987f-c38856471ed2\" target=\"_top\" title=\"psysml:a085f23d-1115-47bd-987f-c38856471ed2\" xlink:actuate=\"onRequest\" xlink:href=\"psysml:a085f23d-1115-47bd-987f-c38856471ed2\" xlink:show=\"new\" xlink:title=\"psysml:a085f23d-1115-47bd-987f-c38856471ed2\" xlink:type=\"simple\"><rect fill=\"#FFFFFF\" height=\"47.9375\" id=\"E8\" rx=\"10\" ry=\"10\" style=\"stroke: #383838; stroke-width: 1.5;\" width=\"50\" x=\"533\" y=\"373\"/><rect fill=\"#F8F8F8\" height=\"23.9688\" rx=\"10\" ry=\"10\" style=\"stroke: #F8F8F8; stroke-width: 1.5;\" width=\"50\" x=\"533\" y=\"373\"/><rect fill=\"#F8F8F8\" height=\"10\" style=\"stroke: #F8F8F8; stroke-width: 1.5;\" width=\"50\" x=\"533\" y=\"386.9688\"/><rect fill=\"none\" height=\"47.9375\" id=\"E8\" rx=\"10\" ry=\"10\" style=\"stroke: #383838; stroke-width: 1.5;\" width=\"50\" x=\"533\" y=\"373\"/><text fill=\"#000000\" font-family=\"sans-serif\" font-size=\"12\" lengthAdjust=\"spacingAndGlyphs\" textLength=\"16\" x=\"550\" y=\"389.1387\">S2</text><line style=\"stroke: #383838; stroke-width: 1.0;\" x1=\"533\" x2=\"583\" y1=\"396.9688\" y2=\"396.9688\"/><text fill=\"#000000\" font-family=\"sans-serif\" font-size=\"12\" font-weight=\"bold\" lengthAdjust=\"spacingAndGlyphs\" textLength=\"18\" x=\"538\" y=\"410.1074\">do</text><text fill=\"#000000\" font-family=\"sans-serif\" font-size=\"12\" lengthAdjust=\"spacingAndGlyphs\" textLength=\"4\" x=\"556\" y=\"410.1074\">/</text></a></g><!--MD5=[5a531d3a85f3339e6e197084acb48195]\n",
       "link *start*E6 to E7--><a href=\"psysml:43d9c4f9-ed20-4c00-a0b0-be6dc49a6894\" target=\"_top\" title=\"psysml:43d9c4f9-ed20-4c00-a0b0-be6dc49a6894\" xlink:actuate=\"onRequest\" xlink:href=\"psysml:43d9c4f9-ed20-4c00-a0b0-be6dc49a6894\" xlink:show=\"new\" xlink:title=\"psysml:43d9c4f9-ed20-4c00-a0b0-be6dc49a6894\" xlink:type=\"simple\"><path d=\"M558,167.18 C558,184.98 558,224.73 558,250.67 \" fill=\"none\" id=\"*start*E6-&gt;E7\" style=\"stroke: #383838; stroke-width: 1.0;\"/><polygon fill=\"#383838\" points=\"558,255.98,562,246.98,558,250.98,554,246.98,558,255.98\" style=\"stroke: #383838; stroke-width: 1.0;\"/></a><!--MD5=[7ec9a8babba89ddcae1318ca9fb3c814]\n",
       "link E8 to *end*E6--><a href=\"psysml:f955b7ee-57f2-4e8a-b602-a443c9a31c83\" target=\"_top\" title=\"psysml:f955b7ee-57f2-4e8a-b602-a443c9a31c83\" xlink:actuate=\"onRequest\" xlink:href=\"psysml:f955b7ee-57f2-4e8a-b602-a443c9a31c83\" xlink:show=\"new\" xlink:title=\"psysml:f955b7ee-57f2-4e8a-b602-a443c9a31c83\" xlink:type=\"simple\"><path d=\"M558,421.12 C558,442.75 558,474.39 558,492.62 \" fill=\"none\" id=\"E8-&gt;*end*E6\" style=\"stroke: #383838; stroke-width: 1.0;\"/><polygon fill=\"#383838\" points=\"558,497.82,562,488.82,558,492.82,554,488.82,558,497.82\" style=\"stroke: #383838; stroke-width: 1.0;\"/><text fill=\"#000000\" font-family=\"sans-serif\" font-size=\"13\" lengthAdjust=\"spacingAndGlyphs\" textLength=\"23\" x=\"559\" y=\"464.0669\">Exit</text></a><!--MD5=[79bc8f324ef4d02c541433f2e6e513c3]\n",
       "link E7 to E8--><a href=\"psysml:d37fdc60-36d2-41f0-83fe-622a63ffc619\" target=\"_top\" title=\"psysml:d37fdc60-36d2-41f0-83fe-622a63ffc619\" xlink:actuate=\"onRequest\" xlink:href=\"psysml:d37fdc60-36d2-41f0-83fe-622a63ffc619\" xlink:show=\"new\" xlink:title=\"psysml:d37fdc60-36d2-41f0-83fe-622a63ffc619\" xlink:type=\"simple\"><path d=\"M532.93,288.88 C518.69,297.12 502.12,309.56 494,326 C483.11,348.05 506.72,368.2 528.27,381.16 \" fill=\"none\" id=\"E7-&gt;E8\" style=\"stroke: #383838; stroke-width: 1.0;\"/><polygon fill=\"#383838\" points=\"532.83,383.82,527.0682,375.8324,528.5101,381.3024,523.0401,382.7443,532.83,383.82\" style=\"stroke: #383838; stroke-width: 1.0;\"/><text fill=\"#000000\" font-family=\"sans-serif\" font-size=\"13\" lengthAdjust=\"spacingAndGlyphs\" textLength=\"81\" x=\"495\" y=\"339.0669\">Sig /action D</text></a><!--MD5=[bfa3c8b0d15052fdf50ae9310b491027]\n",
       "link E8 to E7--><a href=\"psysml:b2ce6d4b-1a56-4d0e-ade4-ffb9136266c2\" target=\"_top\" title=\"psysml:b2ce6d4b-1a56-4d0e-ade4-ffb9136266c2\" xlink:actuate=\"onRequest\" xlink:href=\"psysml:b2ce6d4b-1a56-4d0e-ade4-ffb9136266c2\" xlink:show=\"new\" xlink:title=\"psysml:b2ce6d4b-1a56-4d0e-ade4-ffb9136266c2\" xlink:type=\"simple\"><path d=\"M572.17,372.99 C578.81,359.48 584.56,341.98 581,326 C579.1,317.49 575.56,308.72 571.82,300.99 \" fill=\"none\" id=\"E8-&gt;E7\" style=\"stroke: #383838; stroke-width: 1.0;\"/><polygon fill=\"#383838\" points=\"569.47,296.32,569.9298,306.1581,571.7118,300.7893,577.0806,302.5713,569.47,296.32\" style=\"stroke: #383838; stroke-width: 1.0;\"/><text fill=\"#000000\" font-family=\"sans-serif\" font-size=\"13\" lengthAdjust=\"spacingAndGlyphs\" textLength=\"135\" x=\"583\" y=\"339.0669\">Sig [true]/send s to p</text></a><!--MD5=[24ffa93e25522f2e36e5f209dc9c6e2e]\n",
       "@startuml\r\n",
       "skinparam monochrome true\r\n",
       "skinparam classbackgroundcolor white\r\n",
       "skinparam shadowing false\r\n",
       "skinparam wrapWidth 300\r\n",
       "hide circle\r\n",
       "\r\n",
       "package \"StateTest\" as E1  [[psysml:5e99c5ac-660c-4bcd-ba7f-80dc44a07c9e ]]  {\r\n",
       "comp def \"Sig\" as E2  <<(T,blue)attribute def>> [[psysml:408e0494-0708-476d-85d5-333a69b53e96 ]] {\r\n",
       "- - attributes - -\r\n",
       "x\r\n",
       "}\r\n",
       "comp def \"Exit\" as E3  <<(T,blue)attribute def>> [[psysml:0109ef31-4e51-4de7-9ac0-eb82fbd89c67 ]] {\r\n",
       "}\r\n",
       "comp usage \"p\" as E4  <<(T,blue)part>> [[psysml:64a2c9fa-aa89-4eff-b01c-ff58906cbde0 ]] {\r\n",
       "}\r\n",
       "rec usage \"act\" as E5  <<(T,blue)action>> [[psysml:6519856a-88df-4cdc-a713-a9dddd16e281 ]] {\r\n",
       "}\r\n",
       "\r\n",
       "rec def \"S\" as E6  <<(T,blue)state def>> [[psysml:0bc7341d-f31b-4869-a064-1af20ff16fcc ]] {\r\n",
       "rec usage \"S1\" as E7 [[psysml:70242e19-3f56-46b0-b4b5-fd0d440c29ee ]] {\r\n",
       "}\r\n",
       "\r\n",
       "rec usage \"S2\" as E8 [[psysml:a085f23d-1115-47bd-987f-c38856471ed2 ]] {\r\n",
       "desc \"S2\" as E8  : **do**/ \r\n",
       "}\r\n",
       "\r\n",
       "[*] - -> E7 [[psysml:43d9c4f9-ed20-4c00-a0b0-be6dc49a6894 ]] \r\n",
       "E8  - -> [*] [[psysml:f955b7ee-57f2-4e8a-b602-a443c9a31c83 ]] : Exit \r\n",
       "desc \"S\" as E6  : **entry**/ A\r\n",
       "desc \"S\" as E6  : **do**/ B\r\n",
       "desc \"S\" as E6  : **exit**/ act \r\n",
       "}\r\n",
       "\r\n",
       "E7  - -> E8 [[psysml:d37fdc60-36d2-41f0-83fe-622a63ffc619 ]] : Sig /action D\r\n",
       "E8  - -> E7 [[psysml:b2ce6d4b-1a56-4d0e-ade4-ffb9136266c2 ]] : Sig [true]/send s to p\r\n",
       "}\r\n",
       "@enduml\r\n",
       "\n",
       "PlantUML version 1.2020.13(Sat Jun 13 12:26:38 UTC 2020)\n",
       "(EPL source distribution)\n",
       "Java Runtime: OpenJDK Runtime Environment\n",
       "JVM: OpenJDK 64-Bit Server VM\n",
       "Default Encoding: UTF-8\n",
       "Language: en\n",
       "Country: null\n",
       "--></g></svg>"
      ]
     },
     "execution_count": 43,
     "metadata": {},
     "output_type": "execute_result"
    }
   ],
   "source": [
    "%viz --style=\"DEFAULT\" --view=\"MIXED\" \"StateTest\""
   ]
  },
  {
   "cell_type": "code",
   "execution_count": 44,
   "id": "unexpected-prison",
   "metadata": {
    "execution": {
     "iopub.execute_input": "2021-03-26T13:02:48.606783Z",
     "iopub.status.busy": "2021-03-26T13:02:48.606425Z",
     "iopub.status.idle": "2021-03-26T13:02:48.657479Z",
     "shell.execute_reply": "2021-03-26T13:02:48.656161Z"
    }
   },
   "outputs": [
    {
     "data": {
      "image/svg+xml": [
       "<?xml version=\"1.0\" encoding=\"UTF-8\" standalone=\"no\"?><svg xmlns=\"http://www.w3.org/2000/svg\" xmlns:xlink=\"http://www.w3.org/1999/xlink\" contentScriptType=\"application/ecmascript\" contentStyleType=\"text/css\" height=\"570px\" preserveAspectRatio=\"none\" style=\"width:819px;height:570px;\" version=\"1.1\" viewBox=\"0 0 819 570\" width=\"819px\" zoomAndPan=\"magnify\"><defs/><g><!--MD5=[fbc87193dbaf4d95561dea2c320d4a47]\n",
       "cluster E1--><a href=\"psysml:5e99c5ac-660c-4bcd-ba7f-80dc44a07c9e\" target=\"_top\" title=\"psysml:5e99c5ac-660c-4bcd-ba7f-80dc44a07c9e\" xlink:actuate=\"onRequest\" xlink:href=\"psysml:5e99c5ac-660c-4bcd-ba7f-80dc44a07c9e\" xlink:show=\"new\" xlink:title=\"psysml:5e99c5ac-660c-4bcd-ba7f-80dc44a07c9e\" xlink:type=\"simple\"><polygon fill=\"#FFFFFF\" points=\"16,6,98,6,105,28.2969,797,28.2969,797,558,16,558,16,6\" style=\"stroke: #000000; stroke-width: 1.5;\"/><line style=\"stroke: #000000; stroke-width: 1.5;\" x1=\"16\" x2=\"105\" y1=\"28.2969\" y2=\"28.2969\"/><text fill=\"#000000\" font-family=\"sans-serif\" font-size=\"14\" font-weight=\"bold\" lengthAdjust=\"spacingAndGlyphs\" textLength=\"76\" x=\"20\" y=\"20.9951\">StateTest</text></a><!--MD5=[14e3b0961a2654348d326746436168a1]\n",
       "cluster E6--><a href=\"psysml:0bc7341d-f31b-4869-a064-1af20ff16fcc\" target=\"_top\" title=\"psysml:0bc7341d-f31b-4869-a064-1af20ff16fcc\" xlink:actuate=\"onRequest\" xlink:href=\"psysml:0bc7341d-f31b-4869-a064-1af20ff16fcc\" xlink:show=\"new\" xlink:title=\"psysml:0bc7341d-f31b-4869-a064-1af20ff16fcc\" xlink:type=\"simple\"><rect fill=\"#FFFFFF\" height=\"485\" id=\"E6\" style=\"stroke: #383838; stroke-width: 1.5;\" width=\"327\" x=\"446\" y=\"49\"/><rect fill=\"#F8F8F8\" height=\"37.9375\" style=\"stroke: #383838; stroke-width: 1.5;\" width=\"327\" x=\"446\" y=\"49\"/><text fill=\"#000000\" font-family=\"sans-serif\" font-size=\"12\" font-style=\"italic\" lengthAdjust=\"spacingAndGlyphs\" textLength=\"71\" x=\"574\" y=\"65.1387\">«state def»</text><text fill=\"#000000\" font-family=\"sans-serif\" font-size=\"12\" lengthAdjust=\"spacingAndGlyphs\" textLength=\"8\" x=\"605.5\" y=\"79.1074\">S</text><line style=\"stroke: #383838; stroke-width: 1.0;\" x1=\"446\" x2=\"773\" y1=\"132.8438\" y2=\"132.8438\"/><text fill=\"#000000\" font-family=\"sans-serif\" font-size=\"12\" font-weight=\"bold\" lengthAdjust=\"spacingAndGlyphs\" textLength=\"38\" x=\"451\" y=\"100.0762\">entry</text><text fill=\"#000000\" font-family=\"sans-serif\" font-size=\"12\" lengthAdjust=\"spacingAndGlyphs\" textLength=\"16\" x=\"489\" y=\"100.0762\">/ A</text><text fill=\"#000000\" font-family=\"sans-serif\" font-size=\"12\" font-weight=\"bold\" lengthAdjust=\"spacingAndGlyphs\" textLength=\"18\" x=\"451\" y=\"114.0449\">do</text><text fill=\"#000000\" font-family=\"sans-serif\" font-size=\"12\" lengthAdjust=\"spacingAndGlyphs\" textLength=\"16\" x=\"469\" y=\"114.0449\">/ B</text><text fill=\"#000000\" font-family=\"sans-serif\" font-size=\"12\" font-weight=\"bold\" lengthAdjust=\"spacingAndGlyphs\" textLength=\"26\" x=\"451\" y=\"128.0137\">exit</text><text fill=\"#000000\" font-family=\"sans-serif\" font-size=\"12\" lengthAdjust=\"spacingAndGlyphs\" textLength=\"28\" x=\"477\" y=\"128.0137\">/ act</text></a><!--MD5=[b4997ac47864f28c2f74865a473b2911]\n",
       "class E2--><a href=\"psysml:408e0494-0708-476d-85d5-333a69b53e96\" target=\"_top\" title=\"psysml:408e0494-0708-476d-85d5-333a69b53e96\" xlink:actuate=\"onRequest\" xlink:href=\"psysml:408e0494-0708-476d-85d5-333a69b53e96\" xlink:show=\"new\" xlink:title=\"psysml:408e0494-0708-476d-85d5-333a69b53e96\" xlink:type=\"simple\"><rect fill=\"#FFFFFF\" height=\"75.5469\" id=\"E2\" style=\"stroke: #383838; stroke-width: 1.5;\" width=\"95\" x=\"334.5\" y=\"119\"/><text fill=\"#000000\" font-family=\"sans-serif\" font-size=\"12\" font-style=\"italic\" lengthAdjust=\"spacingAndGlyphs\" textLength=\"93\" x=\"335.5\" y=\"135.1387\">«attribute def»</text><text fill=\"#000000\" font-family=\"sans-serif\" font-size=\"12\" lengthAdjust=\"spacingAndGlyphs\" textLength=\"19\" x=\"372.5\" y=\"149.1074\">Sig</text><line style=\"stroke: #383838; stroke-width: 1.5;\" x1=\"335.5\" x2=\"428.5\" y1=\"156.9375\" y2=\"156.9375\"/><text fill=\"#000000\" font-family=\"sans-serif\" font-size=\"11\" lengthAdjust=\"spacingAndGlyphs\" textLength=\"6\" x=\"340.5\" y=\"187.9526\">x</text><line style=\"stroke: #383838; stroke-width: 1.0;\" x1=\"335.5\" x2=\"354.5\" y1=\"171.3398\" y2=\"171.3398\"/><text fill=\"#000000\" font-family=\"sans-serif\" font-size=\"11\" lengthAdjust=\"spacingAndGlyphs\" textLength=\"55\" x=\"354.5\" y=\"174.6479\">attributes</text><line style=\"stroke: #383838; stroke-width: 1.0;\" x1=\"409.5\" x2=\"428.5\" y1=\"171.3398\" y2=\"171.3398\"/></a><!--MD5=[09b614a08d8cba4a07c9adeb5e0fee81]\n",
       "class E3--><a href=\"psysml:0109ef31-4e51-4de7-9ac0-eb82fbd89c67\" target=\"_top\" title=\"psysml:0109ef31-4e51-4de7-9ac0-eb82fbd89c67\" xlink:actuate=\"onRequest\" xlink:href=\"psysml:0109ef31-4e51-4de7-9ac0-eb82fbd89c67\" xlink:show=\"new\" xlink:title=\"psysml:0109ef31-4e51-4de7-9ac0-eb82fbd89c67\" xlink:type=\"simple\"><rect fill=\"#FFFFFF\" height=\"45.9375\" id=\"E3\" style=\"stroke: #383838; stroke-width: 1.5;\" width=\"95\" x=\"204.5\" y=\"134\"/><text fill=\"#000000\" font-family=\"sans-serif\" font-size=\"12\" font-style=\"italic\" lengthAdjust=\"spacingAndGlyphs\" textLength=\"93\" x=\"205.5\" y=\"150.1387\">«attribute def»</text><text fill=\"#000000\" font-family=\"sans-serif\" font-size=\"12\" lengthAdjust=\"spacingAndGlyphs\" textLength=\"22\" x=\"241\" y=\"164.1074\">Exit</text><line style=\"stroke: #383838; stroke-width: 1.5;\" x1=\"205.5\" x2=\"298.5\" y1=\"171.9375\" y2=\"171.9375\"/></a><!--MD5=[ebbe1d658d1005bcc118a6aa81145e00]\n",
       "class E4--><a href=\"psysml:64a2c9fa-aa89-4eff-b01c-ff58906cbde0\" target=\"_top\" title=\"psysml:64a2c9fa-aa89-4eff-b01c-ff58906cbde0\" xlink:actuate=\"onRequest\" xlink:href=\"psysml:64a2c9fa-aa89-4eff-b01c-ff58906cbde0\" xlink:show=\"new\" xlink:title=\"psysml:64a2c9fa-aa89-4eff-b01c-ff58906cbde0\" xlink:type=\"simple\"><rect fill=\"#FFFFFF\" height=\"45.9375\" id=\"E4\" rx=\"10\" ry=\"10\" style=\"stroke: #383838; stroke-width: 1.5;\" width=\"42\" x=\"127\" y=\"134\"/><text fill=\"#000000\" font-family=\"sans-serif\" font-size=\"12\" font-style=\"italic\" lengthAdjust=\"spacingAndGlyphs\" textLength=\"40\" x=\"128\" y=\"150.1387\">«part»</text><text fill=\"#000000\" font-family=\"sans-serif\" font-size=\"12\" lengthAdjust=\"spacingAndGlyphs\" textLength=\"8\" x=\"144\" y=\"164.1074\">p</text><line style=\"stroke: #383838; stroke-width: 1.5;\" x1=\"128\" x2=\"168\" y1=\"171.9375\" y2=\"171.9375\"/></a><g id=\"E1.E5\"><a href=\"psysml:6519856a-88df-4cdc-a713-a9dddd16e281\" target=\"_top\" title=\"psysml:6519856a-88df-4cdc-a713-a9dddd16e281\" xlink:actuate=\"onRequest\" xlink:href=\"psysml:6519856a-88df-4cdc-a713-a9dddd16e281\" xlink:show=\"new\" xlink:title=\"psysml:6519856a-88df-4cdc-a713-a9dddd16e281\" xlink:type=\"simple\"><rect fill=\"#FFFFFF\" height=\"42.9375\" id=\"E5\" rx=\"10\" ry=\"10\" style=\"stroke: #383838; stroke-width: 1.5;\" width=\"60\" x=\"32\" y=\"135.5\"/><rect fill=\"#F8F8F8\" height=\"37.9375\" rx=\"10\" ry=\"10\" style=\"stroke: #F8F8F8; stroke-width: 1.5;\" width=\"60\" x=\"32\" y=\"135.5\"/><rect fill=\"#F8F8F8\" height=\"10\" style=\"stroke: #F8F8F8; stroke-width: 1.5;\" width=\"60\" x=\"32\" y=\"163.4375\"/><rect fill=\"none\" height=\"42.9375\" id=\"E5\" rx=\"10\" ry=\"10\" style=\"stroke: #383838; stroke-width: 1.5;\" width=\"60\" x=\"32\" y=\"135.5\"/><text fill=\"#000000\" font-family=\"sans-serif\" font-size=\"12\" font-style=\"italic\" lengthAdjust=\"spacingAndGlyphs\" textLength=\"53\" x=\"35.5\" y=\"151.6387\">«action»</text><text fill=\"#000000\" font-family=\"sans-serif\" font-size=\"12\" lengthAdjust=\"spacingAndGlyphs\" textLength=\"20\" x=\"52\" y=\"165.6074\">act</text></a></g><ellipse cx=\"558\" cy=\"157\" fill=\"#000000\" rx=\"10\" ry=\"10\" style=\"stroke: none; stroke-width: 1.0;\"/><ellipse cx=\"558\" cy=\"508\" fill=\"none\" rx=\"10\" ry=\"10\" style=\"stroke: #000000; stroke-width: 1.0;\"/><ellipse cx=\"558.5\" cy=\"508.5\" fill=\"#000000\" rx=\"6\" ry=\"6\" style=\"stroke: none; stroke-width: 1.0;\"/><g id=\"E1.E6.E7\"><a href=\"psysml:70242e19-3f56-46b0-b4b5-fd0d440c29ee\" target=\"_top\" title=\"psysml:70242e19-3f56-46b0-b4b5-fd0d440c29ee\" xlink:actuate=\"onRequest\" xlink:href=\"psysml:70242e19-3f56-46b0-b4b5-fd0d440c29ee\" xlink:show=\"new\" xlink:title=\"psysml:70242e19-3f56-46b0-b4b5-fd0d440c29ee\" xlink:type=\"simple\"><rect fill=\"#FFFFFF\" height=\"40\" id=\"E7\" rx=\"10\" ry=\"10\" style=\"stroke: #383838; stroke-width: 1.5;\" width=\"50\" x=\"533\" y=\"256\"/><rect fill=\"#F8F8F8\" height=\"23.9688\" rx=\"10\" ry=\"10\" style=\"stroke: #F8F8F8; stroke-width: 1.5;\" width=\"50\" x=\"533\" y=\"256\"/><rect fill=\"#F8F8F8\" height=\"10\" style=\"stroke: #F8F8F8; stroke-width: 1.5;\" width=\"50\" x=\"533\" y=\"269.9688\"/><rect fill=\"none\" height=\"40\" id=\"E7\" rx=\"10\" ry=\"10\" style=\"stroke: #383838; stroke-width: 1.5;\" width=\"50\" x=\"533\" y=\"256\"/><text fill=\"#000000\" font-family=\"sans-serif\" font-size=\"12\" lengthAdjust=\"spacingAndGlyphs\" textLength=\"16\" x=\"550\" y=\"272.1387\">S1</text></a></g><g id=\"E1.E6.E8\"><a href=\"psysml:a085f23d-1115-47bd-987f-c38856471ed2\" target=\"_top\" title=\"psysml:a085f23d-1115-47bd-987f-c38856471ed2\" xlink:actuate=\"onRequest\" xlink:href=\"psysml:a085f23d-1115-47bd-987f-c38856471ed2\" xlink:show=\"new\" xlink:title=\"psysml:a085f23d-1115-47bd-987f-c38856471ed2\" xlink:type=\"simple\"><rect fill=\"#FFFFFF\" height=\"47.9375\" id=\"E8\" rx=\"10\" ry=\"10\" style=\"stroke: #383838; stroke-width: 1.5;\" width=\"50\" x=\"533\" y=\"373\"/><rect fill=\"#F8F8F8\" height=\"23.9688\" rx=\"10\" ry=\"10\" style=\"stroke: #F8F8F8; stroke-width: 1.5;\" width=\"50\" x=\"533\" y=\"373\"/><rect fill=\"#F8F8F8\" height=\"10\" style=\"stroke: #F8F8F8; stroke-width: 1.5;\" width=\"50\" x=\"533\" y=\"386.9688\"/><rect fill=\"none\" height=\"47.9375\" id=\"E8\" rx=\"10\" ry=\"10\" style=\"stroke: #383838; stroke-width: 1.5;\" width=\"50\" x=\"533\" y=\"373\"/><text fill=\"#000000\" font-family=\"sans-serif\" font-size=\"12\" lengthAdjust=\"spacingAndGlyphs\" textLength=\"16\" x=\"550\" y=\"389.1387\">S2</text><line style=\"stroke: #383838; stroke-width: 1.0;\" x1=\"533\" x2=\"583\" y1=\"396.9688\" y2=\"396.9688\"/><text fill=\"#000000\" font-family=\"sans-serif\" font-size=\"12\" font-weight=\"bold\" lengthAdjust=\"spacingAndGlyphs\" textLength=\"18\" x=\"538\" y=\"410.1074\">do</text><text fill=\"#000000\" font-family=\"sans-serif\" font-size=\"12\" lengthAdjust=\"spacingAndGlyphs\" textLength=\"4\" x=\"556\" y=\"410.1074\">/</text></a></g><!--MD5=[5a531d3a85f3339e6e197084acb48195]\n",
       "link *start*E6 to E7--><a href=\"psysml:43d9c4f9-ed20-4c00-a0b0-be6dc49a6894\" target=\"_top\" title=\"psysml:43d9c4f9-ed20-4c00-a0b0-be6dc49a6894\" xlink:actuate=\"onRequest\" xlink:href=\"psysml:43d9c4f9-ed20-4c00-a0b0-be6dc49a6894\" xlink:show=\"new\" xlink:title=\"psysml:43d9c4f9-ed20-4c00-a0b0-be6dc49a6894\" xlink:type=\"simple\"><path d=\"M558,167.18 C558,184.98 558,224.73 558,250.67 \" fill=\"none\" id=\"*start*E6-&gt;E7\" style=\"stroke: #383838; stroke-width: 1.0;\"/><polygon fill=\"#383838\" points=\"558,255.98,562,246.98,558,250.98,554,246.98,558,255.98\" style=\"stroke: #383838; stroke-width: 1.0;\"/></a><!--MD5=[7ec9a8babba89ddcae1318ca9fb3c814]\n",
       "link E8 to *end*E6--><a href=\"psysml:f955b7ee-57f2-4e8a-b602-a443c9a31c83\" target=\"_top\" title=\"psysml:f955b7ee-57f2-4e8a-b602-a443c9a31c83\" xlink:actuate=\"onRequest\" xlink:href=\"psysml:f955b7ee-57f2-4e8a-b602-a443c9a31c83\" xlink:show=\"new\" xlink:title=\"psysml:f955b7ee-57f2-4e8a-b602-a443c9a31c83\" xlink:type=\"simple\"><path d=\"M558,421.12 C558,442.75 558,474.39 558,492.62 \" fill=\"none\" id=\"E8-&gt;*end*E6\" style=\"stroke: #383838; stroke-width: 1.0;\"/><polygon fill=\"#383838\" points=\"558,497.82,562,488.82,558,492.82,554,488.82,558,497.82\" style=\"stroke: #383838; stroke-width: 1.0;\"/><text fill=\"#000000\" font-family=\"sans-serif\" font-size=\"13\" lengthAdjust=\"spacingAndGlyphs\" textLength=\"23\" x=\"559\" y=\"464.0669\">Exit</text></a><!--MD5=[79bc8f324ef4d02c541433f2e6e513c3]\n",
       "link E7 to E8--><a href=\"psysml:d37fdc60-36d2-41f0-83fe-622a63ffc619\" target=\"_top\" title=\"psysml:d37fdc60-36d2-41f0-83fe-622a63ffc619\" xlink:actuate=\"onRequest\" xlink:href=\"psysml:d37fdc60-36d2-41f0-83fe-622a63ffc619\" xlink:show=\"new\" xlink:title=\"psysml:d37fdc60-36d2-41f0-83fe-622a63ffc619\" xlink:type=\"simple\"><path d=\"M532.93,288.88 C518.69,297.12 502.12,309.56 494,326 C483.11,348.05 506.72,368.2 528.27,381.16 \" fill=\"none\" id=\"E7-&gt;E8\" style=\"stroke: #383838; stroke-width: 1.0;\"/><polygon fill=\"#383838\" points=\"532.83,383.82,527.0682,375.8324,528.5101,381.3024,523.0401,382.7443,532.83,383.82\" style=\"stroke: #383838; stroke-width: 1.0;\"/><text fill=\"#000000\" font-family=\"sans-serif\" font-size=\"13\" lengthAdjust=\"spacingAndGlyphs\" textLength=\"81\" x=\"495\" y=\"339.0669\">Sig /action D</text></a><!--MD5=[bfa3c8b0d15052fdf50ae9310b491027]\n",
       "link E8 to E7--><a href=\"psysml:b2ce6d4b-1a56-4d0e-ade4-ffb9136266c2\" target=\"_top\" title=\"psysml:b2ce6d4b-1a56-4d0e-ade4-ffb9136266c2\" xlink:actuate=\"onRequest\" xlink:href=\"psysml:b2ce6d4b-1a56-4d0e-ade4-ffb9136266c2\" xlink:show=\"new\" xlink:title=\"psysml:b2ce6d4b-1a56-4d0e-ade4-ffb9136266c2\" xlink:type=\"simple\"><path d=\"M572.17,372.99 C578.81,359.48 584.56,341.98 581,326 C579.1,317.49 575.56,308.72 571.82,300.99 \" fill=\"none\" id=\"E8-&gt;E7\" style=\"stroke: #383838; stroke-width: 1.0;\"/><polygon fill=\"#383838\" points=\"569.47,296.32,569.9298,306.1581,571.7118,300.7893,577.0806,302.5713,569.47,296.32\" style=\"stroke: #383838; stroke-width: 1.0;\"/><text fill=\"#000000\" font-family=\"sans-serif\" font-size=\"13\" lengthAdjust=\"spacingAndGlyphs\" textLength=\"135\" x=\"583\" y=\"339.0669\">Sig [true]/send s to p</text></a><!--MD5=[17642edb3ceb2bdeacc5580077830709]\n",
       "@startuml\r\n",
       "top to bottom direction\r\n",
       "skinparam monochrome true\r\n",
       "skinparam classbackgroundcolor white\r\n",
       "skinparam shadowing false\r\n",
       "skinparam wrapWidth 300\r\n",
       "hide circle\r\n",
       "\r\n",
       "package \"StateTest\" as E1  [[psysml:5e99c5ac-660c-4bcd-ba7f-80dc44a07c9e ]]  {\r\n",
       "comp def \"Sig\" as E2  <<(T,blue)attribute def>> [[psysml:408e0494-0708-476d-85d5-333a69b53e96 ]] {\r\n",
       "- - attributes - -\r\n",
       "x\r\n",
       "}\r\n",
       "comp def \"Exit\" as E3  <<(T,blue)attribute def>> [[psysml:0109ef31-4e51-4de7-9ac0-eb82fbd89c67 ]] {\r\n",
       "}\r\n",
       "comp usage \"p\" as E4  <<(T,blue)part>> [[psysml:64a2c9fa-aa89-4eff-b01c-ff58906cbde0 ]] {\r\n",
       "}\r\n",
       "rec usage \"act\" as E5  <<(T,blue)action>> [[psysml:6519856a-88df-4cdc-a713-a9dddd16e281 ]] {\r\n",
       "}\r\n",
       "\r\n",
       "rec def \"S\" as E6  <<(T,blue)state def>> [[psysml:0bc7341d-f31b-4869-a064-1af20ff16fcc ]] {\r\n",
       "rec usage \"S1\" as E7 [[psysml:70242e19-3f56-46b0-b4b5-fd0d440c29ee ]] {\r\n",
       "}\r\n",
       "\r\n",
       "rec usage \"S2\" as E8 [[psysml:a085f23d-1115-47bd-987f-c38856471ed2 ]] {\r\n",
       "desc \"S2\" as E8  : **do**/ \r\n",
       "}\r\n",
       "\r\n",
       "[*] - -> E7 [[psysml:43d9c4f9-ed20-4c00-a0b0-be6dc49a6894 ]] \r\n",
       "E8  - -> [*] [[psysml:f955b7ee-57f2-4e8a-b602-a443c9a31c83 ]] : Exit \r\n",
       "desc \"S\" as E6  : **entry**/ A\r\n",
       "desc \"S\" as E6  : **do**/ B\r\n",
       "desc \"S\" as E6  : **exit**/ act \r\n",
       "}\r\n",
       "\r\n",
       "E7  - -> E8 [[psysml:d37fdc60-36d2-41f0-83fe-622a63ffc619 ]] : Sig /action D\r\n",
       "E8  - -> E7 [[psysml:b2ce6d4b-1a56-4d0e-ade4-ffb9136266c2 ]] : Sig [true]/send s to p\r\n",
       "}\r\n",
       "@enduml\r\n",
       "\n",
       "PlantUML version 1.2020.13(Sat Jun 13 12:26:38 UTC 2020)\n",
       "(EPL source distribution)\n",
       "Java Runtime: OpenJDK Runtime Environment\n",
       "JVM: OpenJDK 64-Bit Server VM\n",
       "Default Encoding: UTF-8\n",
       "Language: en\n",
       "Country: null\n",
       "--></g></svg>"
      ]
     },
     "execution_count": 44,
     "metadata": {},
     "output_type": "execute_result"
    }
   ],
   "source": [
    "%viz --style=\"TB\" --view=\"Default\" \"StateTest\""
   ]
  },
  {
   "cell_type": "code",
   "execution_count": 45,
   "id": "neutral-alignment",
   "metadata": {
    "execution": {
     "iopub.execute_input": "2021-03-26T13:02:48.707755Z",
     "iopub.status.busy": "2021-03-26T13:02:48.707329Z",
     "iopub.status.idle": "2021-03-26T13:02:48.808900Z",
     "shell.execute_reply": "2021-03-26T13:02:48.807386Z"
    }
   },
   "outputs": [
    {
     "data": {
      "image/svg+xml": [
       "<?xml version=\"1.0\" encoding=\"UTF-8\" standalone=\"no\"?><svg xmlns=\"http://www.w3.org/2000/svg\" xmlns:xlink=\"http://www.w3.org/1999/xlink\" contentScriptType=\"application/ecmascript\" contentStyleType=\"text/css\" height=\"471px\" preserveAspectRatio=\"none\" style=\"width:594px;height:471px;\" version=\"1.1\" viewBox=\"0 0 594 471\" width=\"594px\" zoomAndPan=\"magnify\"><defs/><g><!--MD5=[fbc87193dbaf4d95561dea2c320d4a47]\n",
       "cluster E1--><a href=\"psysml:5e99c5ac-660c-4bcd-ba7f-80dc44a07c9e\" target=\"_top\" title=\"psysml:5e99c5ac-660c-4bcd-ba7f-80dc44a07c9e\" xlink:actuate=\"onRequest\" xlink:href=\"psysml:5e99c5ac-660c-4bcd-ba7f-80dc44a07c9e\" xlink:show=\"new\" xlink:title=\"psysml:5e99c5ac-660c-4bcd-ba7f-80dc44a07c9e\" xlink:type=\"simple\"><polygon fill=\"#FFFFFF\" points=\"16,6,98,6,105,28.2969,572,28.2969,572,459,16,459,16,6\" style=\"stroke: #000000; stroke-width: 1.5;\"/><line style=\"stroke: #000000; stroke-width: 1.5;\" x1=\"16\" x2=\"105\" y1=\"28.2969\" y2=\"28.2969\"/><text fill=\"#000000\" font-family=\"sans-serif\" font-size=\"14\" font-weight=\"bold\" lengthAdjust=\"spacingAndGlyphs\" textLength=\"76\" x=\"20\" y=\"20.9951\">StateTest</text></a><!--MD5=[b4997ac47864f28c2f74865a473b2911]\n",
       "class E2--><a href=\"psysml:408e0494-0708-476d-85d5-333a69b53e96\" target=\"_top\" title=\"psysml:408e0494-0708-476d-85d5-333a69b53e96\" xlink:actuate=\"onRequest\" xlink:href=\"psysml:408e0494-0708-476d-85d5-333a69b53e96\" xlink:show=\"new\" xlink:title=\"psysml:408e0494-0708-476d-85d5-333a69b53e96\" xlink:type=\"simple\"><rect fill=\"#FFFFFF\" height=\"75.5469\" id=\"E2\" style=\"stroke: #383838; stroke-width: 1.5;\" width=\"95\" x=\"460.5\" y=\"83\"/><text fill=\"#000000\" font-family=\"sans-serif\" font-size=\"12\" font-style=\"italic\" lengthAdjust=\"spacingAndGlyphs\" textLength=\"93\" x=\"461.5\" y=\"99.1387\">«attribute def»</text><text fill=\"#000000\" font-family=\"sans-serif\" font-size=\"12\" lengthAdjust=\"spacingAndGlyphs\" textLength=\"19\" x=\"498.5\" y=\"113.1074\">Sig</text><line style=\"stroke: #383838; stroke-width: 1.5;\" x1=\"461.5\" x2=\"554.5\" y1=\"120.9375\" y2=\"120.9375\"/><text fill=\"#000000\" font-family=\"sans-serif\" font-size=\"11\" lengthAdjust=\"spacingAndGlyphs\" textLength=\"6\" x=\"466.5\" y=\"151.9526\">x</text><line style=\"stroke: #383838; stroke-width: 1.0;\" x1=\"461.5\" x2=\"480.5\" y1=\"135.3398\" y2=\"135.3398\"/><text fill=\"#000000\" font-family=\"sans-serif\" font-size=\"11\" lengthAdjust=\"spacingAndGlyphs\" textLength=\"55\" x=\"480.5\" y=\"138.6479\">attributes</text><line style=\"stroke: #383838; stroke-width: 1.0;\" x1=\"535.5\" x2=\"554.5\" y1=\"135.3398\" y2=\"135.3398\"/></a><!--MD5=[09b614a08d8cba4a07c9adeb5e0fee81]\n",
       "class E3--><a href=\"psysml:0109ef31-4e51-4de7-9ac0-eb82fbd89c67\" target=\"_top\" title=\"psysml:0109ef31-4e51-4de7-9ac0-eb82fbd89c67\" xlink:actuate=\"onRequest\" xlink:href=\"psysml:0109ef31-4e51-4de7-9ac0-eb82fbd89c67\" xlink:show=\"new\" xlink:title=\"psysml:0109ef31-4e51-4de7-9ac0-eb82fbd89c67\" xlink:type=\"simple\"><rect fill=\"#FFFFFF\" height=\"45.9375\" id=\"E3\" style=\"stroke: #383838; stroke-width: 1.5;\" width=\"95\" x=\"330.5\" y=\"98\"/><text fill=\"#000000\" font-family=\"sans-serif\" font-size=\"12\" font-style=\"italic\" lengthAdjust=\"spacingAndGlyphs\" textLength=\"93\" x=\"331.5\" y=\"114.1387\">«attribute def»</text><text fill=\"#000000\" font-family=\"sans-serif\" font-size=\"12\" lengthAdjust=\"spacingAndGlyphs\" textLength=\"22\" x=\"367\" y=\"128.1074\">Exit</text><line style=\"stroke: #383838; stroke-width: 1.5;\" x1=\"331.5\" x2=\"424.5\" y1=\"135.9375\" y2=\"135.9375\"/></a><!--MD5=[ebbe1d658d1005bcc118a6aa81145e00]\n",
       "class E4--><a href=\"psysml:64a2c9fa-aa89-4eff-b01c-ff58906cbde0\" target=\"_top\" title=\"psysml:64a2c9fa-aa89-4eff-b01c-ff58906cbde0\" xlink:actuate=\"onRequest\" xlink:href=\"psysml:64a2c9fa-aa89-4eff-b01c-ff58906cbde0\" xlink:show=\"new\" xlink:title=\"psysml:64a2c9fa-aa89-4eff-b01c-ff58906cbde0\" xlink:type=\"simple\"><rect fill=\"#FFFFFF\" height=\"45.9375\" id=\"E4\" rx=\"10\" ry=\"10\" style=\"stroke: #383838; stroke-width: 1.5;\" width=\"42\" x=\"253\" y=\"98\"/><text fill=\"#000000\" font-family=\"sans-serif\" font-size=\"12\" font-style=\"italic\" lengthAdjust=\"spacingAndGlyphs\" textLength=\"40\" x=\"254\" y=\"114.1387\">«part»</text><text fill=\"#000000\" font-family=\"sans-serif\" font-size=\"12\" lengthAdjust=\"spacingAndGlyphs\" textLength=\"8\" x=\"270\" y=\"128.1074\">p</text><line style=\"stroke: #383838; stroke-width: 1.5;\" x1=\"254\" x2=\"294\" y1=\"135.9375\" y2=\"135.9375\"/></a><!--MD5=[270fce915f116d4de14055a7c1d9a0f3]\n",
       "class E5--><a href=\"psysml:6519856a-88df-4cdc-a713-a9dddd16e281\" target=\"_top\" title=\"psysml:6519856a-88df-4cdc-a713-a9dddd16e281\" xlink:actuate=\"onRequest\" xlink:href=\"psysml:6519856a-88df-4cdc-a713-a9dddd16e281\" xlink:show=\"new\" xlink:title=\"psysml:6519856a-88df-4cdc-a713-a9dddd16e281\" xlink:type=\"simple\"><rect fill=\"#FFFFFF\" height=\"45.9375\" id=\"E5\" rx=\"10\" ry=\"10\" style=\"stroke: #383838; stroke-width: 1.5;\" width=\"55\" x=\"162.5\" y=\"98\"/><text fill=\"#000000\" font-family=\"sans-serif\" font-size=\"12\" font-style=\"italic\" lengthAdjust=\"spacingAndGlyphs\" textLength=\"53\" x=\"163.5\" y=\"114.1387\">«action»</text><text fill=\"#000000\" font-family=\"sans-serif\" font-size=\"12\" lengthAdjust=\"spacingAndGlyphs\" textLength=\"20\" x=\"180\" y=\"128.1074\">act</text><line style=\"stroke: #383838; stroke-width: 1.5;\" x1=\"163.5\" x2=\"216.5\" y1=\"135.9375\" y2=\"135.9375\"/></a><!--MD5=[60a26617385b1d2d0262a64233df1f8d]\n",
       "class E6--><a href=\"psysml:0bc7341d-f31b-4869-a064-1af20ff16fcc\" target=\"_top\" title=\"psysml:0bc7341d-f31b-4869-a064-1af20ff16fcc\" xlink:actuate=\"onRequest\" xlink:href=\"psysml:0bc7341d-f31b-4869-a064-1af20ff16fcc\" xlink:show=\"new\" xlink:title=\"psysml:0bc7341d-f31b-4869-a064-1af20ff16fcc\" xlink:type=\"simple\"><rect fill=\"#FFFFFF\" height=\"160.375\" id=\"E6\" style=\"stroke: #383838; stroke-width: 1.5;\" width=\"95\" x=\"32.5\" y=\"41\"/><text fill=\"#000000\" font-family=\"sans-serif\" font-size=\"12\" font-style=\"italic\" lengthAdjust=\"spacingAndGlyphs\" textLength=\"71\" x=\"44.5\" y=\"57.1387\">«state def»</text><text fill=\"#000000\" font-family=\"sans-serif\" font-size=\"12\" lengthAdjust=\"spacingAndGlyphs\" textLength=\"8\" x=\"76\" y=\"71.1074\">S</text><line style=\"stroke: #383838; stroke-width: 1.5;\" x1=\"33.5\" x2=\"126.5\" y1=\"78.9375\" y2=\"78.9375\"/><text fill=\"#000000\" font-family=\"sans-serif\" font-size=\"11\" lengthAdjust=\"spacingAndGlyphs\" textLength=\"17\" x=\"38.5\" y=\"109.9526\">act</text><text fill=\"#000000\" font-family=\"sans-serif\" font-size=\"11\" lengthAdjust=\"spacingAndGlyphs\" textLength=\"7\" x=\"38.5\" y=\"122.7573\">A</text><text fill=\"#000000\" font-family=\"sans-serif\" font-size=\"11\" lengthAdjust=\"spacingAndGlyphs\" textLength=\"8\" x=\"38.5\" y=\"135.562\">B</text><line style=\"stroke: #383838; stroke-width: 1.0;\" x1=\"33.5\" x2=\"36.5\" y1=\"93.3398\" y2=\"93.3398\"/><text fill=\"#000000\" font-family=\"sans-serif\" font-size=\"11\" lengthAdjust=\"spacingAndGlyphs\" textLength=\"87\" x=\"36.5\" y=\"96.6479\">performActions</text><line style=\"stroke: #383838; stroke-width: 1.0;\" x1=\"123.5\" x2=\"126.5\" y1=\"93.3398\" y2=\"93.3398\"/><text fill=\"#000000\" font-family=\"sans-serif\" font-size=\"11\" lengthAdjust=\"spacingAndGlyphs\" textLength=\"15\" x=\"38.5\" y=\"165.1714\">S1</text><line style=\"stroke: #383838; stroke-width: 1.0;\" x1=\"33.5\" x2=\"62\" y1=\"148.5586\" y2=\"148.5586\"/><text fill=\"#000000\" font-family=\"sans-serif\" font-size=\"11\" lengthAdjust=\"spacingAndGlyphs\" textLength=\"36\" x=\"62\" y=\"151.8667\">states</text><line style=\"stroke: #383838; stroke-width: 1.0;\" x1=\"98\" x2=\"126.5\" y1=\"148.5586\" y2=\"148.5586\"/><text fill=\"#000000\" font-family=\"sans-serif\" font-size=\"11\" lengthAdjust=\"spacingAndGlyphs\" textLength=\"7\" x=\"38.5\" y=\"194.7808\">T</text><line style=\"stroke: #383838; stroke-width: 1.0;\" x1=\"33.5\" x2=\"49.5\" y1=\"178.168\" y2=\"178.168\"/><text fill=\"#000000\" font-family=\"sans-serif\" font-size=\"11\" lengthAdjust=\"spacingAndGlyphs\" textLength=\"61\" x=\"49.5\" y=\"181.4761\">transitions</text><line style=\"stroke: #383838; stroke-width: 1.0;\" x1=\"110.5\" x2=\"126.5\" y1=\"178.168\" y2=\"178.168\"/></a><!--MD5=[1dd1bfd58a279cf63c5f349dbc8fc6a1]\n",
       "class E11--><a href=\"psysml:a085f23d-1115-47bd-987f-c38856471ed2\" target=\"_top\" title=\"psysml:a085f23d-1115-47bd-987f-c38856471ed2\" xlink:actuate=\"onRequest\" xlink:href=\"psysml:a085f23d-1115-47bd-987f-c38856471ed2\" xlink:show=\"new\" xlink:title=\"psysml:a085f23d-1115-47bd-987f-c38856471ed2\" xlink:type=\"simple\"><rect fill=\"#FFFFFF\" height=\"45.9375\" id=\"E11\" rx=\"10\" ry=\"10\" style=\"stroke: #383838; stroke-width: 1.5;\" width=\"49\" x=\"55.5\" y=\"261\"/><text fill=\"#000000\" font-family=\"sans-serif\" font-size=\"12\" font-style=\"italic\" lengthAdjust=\"spacingAndGlyphs\" textLength=\"47\" x=\"56.5\" y=\"277.1387\">«state»</text><text fill=\"#000000\" font-family=\"sans-serif\" font-size=\"12\" lengthAdjust=\"spacingAndGlyphs\" textLength=\"16\" x=\"72\" y=\"291.1074\">S2</text><line style=\"stroke: #383838; stroke-width: 1.5;\" x1=\"56.5\" x2=\"103.5\" y1=\"298.9375\" y2=\"298.9375\"/></a><!--MD5=[49a0ec8f00dab7302a31f22d0f0fe584]\n",
       "class E12--><a href=\"psysml:cfc90439-05ae-44f8-b88d-04fe860fe407\" target=\"_top\" title=\"psysml:cfc90439-05ae-44f8-b88d-04fe860fe407\" xlink:actuate=\"onRequest\" xlink:href=\"psysml:cfc90439-05ae-44f8-b88d-04fe860fe407\" xlink:show=\"new\" xlink:title=\"psysml:cfc90439-05ae-44f8-b88d-04fe860fe407\" xlink:type=\"simple\"><rect fill=\"#FFFFFF\" height=\"75.5469\" id=\"E12\" rx=\"10\" ry=\"10\" style=\"stroke: #383838; stroke-width: 1.5;\" width=\"90\" x=\"35\" y=\"367\"/><text fill=\"#000000\" font-family=\"sans-serif\" font-size=\"12\" font-style=\"italic\" lengthAdjust=\"spacingAndGlyphs\" textLength=\"88\" x=\"36\" y=\"383.1387\">«send action»</text><text fill=\"#000000\" font-family=\"sans-serif\" font-size=\"12\" lengthAdjust=\"spacingAndGlyphs\" textLength=\"55\" x=\"52.5\" y=\"397.1074\">doAction</text><line style=\"stroke: #383838; stroke-width: 1.5;\" x1=\"36\" x2=\"124\" y1=\"404.9375\" y2=\"404.9375\"/><text fill=\"#000000\" font-family=\"sans-serif\" font-size=\"11\" lengthAdjust=\"spacingAndGlyphs\" textLength=\"25\" x=\"41\" y=\"435.9526\">item</text><line style=\"stroke: #383838; stroke-width: 1.0;\" x1=\"36\" x2=\"42.5\" y1=\"419.3398\" y2=\"419.3398\"/><text fill=\"#000000\" font-family=\"sans-serif\" font-size=\"11\" lengthAdjust=\"spacingAndGlyphs\" textLength=\"75\" x=\"42.5\" y=\"422.6479\">itemFeatures</text><line style=\"stroke: #383838; stroke-width: 1.0;\" x1=\"117.5\" x2=\"124\" y1=\"419.3398\" y2=\"419.3398\"/></a><!--MD5=[1f5f03483f7de0d5b3680a7f6650997f]\n",
       "reverse link E6 to E11--><a href=\"psysml:a085f23d-1115-47bd-987f-c38856471ed2\" target=\"_top\" title=\"psysml:a085f23d-1115-47bd-987f-c38856471ed2\" xlink:actuate=\"onRequest\" xlink:href=\"psysml:a085f23d-1115-47bd-987f-c38856471ed2\" xlink:show=\"new\" xlink:title=\"psysml:a085f23d-1115-47bd-987f-c38856471ed2\" xlink:type=\"simple\"><path d=\"M80,214.17 C80,231.58 80,248.25 80,260.82 \" fill=\"none\" id=\"E6&lt;-E11\" style=\"stroke: #383838; stroke-width: 1.0;\"/><polygon fill=\"#383838\" points=\"80,201.09,76.0066,207.0944,80.0132,213.09,84.0066,207.0856,80,201.09\" style=\"stroke: #383838; stroke-width: 1.0;\"/></a><!--MD5=[94adabc162ce7e41b39f13be14fbaeb3]\n",
       "reverse link E11 to E12--><a href=\"psysml:cfc90439-05ae-44f8-b88d-04fe860fe407\" target=\"_top\" title=\"psysml:cfc90439-05ae-44f8-b88d-04fe860fe407\" xlink:actuate=\"onRequest\" xlink:href=\"psysml:cfc90439-05ae-44f8-b88d-04fe860fe407\" xlink:show=\"new\" xlink:title=\"psysml:cfc90439-05ae-44f8-b88d-04fe860fe407\" xlink:type=\"simple\"><path d=\"M80,320.23 C80,334.82 80,351.76 80,366.58 \" fill=\"none\" id=\"E11&lt;-E12\" style=\"stroke: #383838; stroke-width: 1.0;\"/><polygon fill=\"#FFFFFF\" points=\"80,307.1,76,313.1,80,319.1,84,313.1,80,307.1\" style=\"stroke: #383838; stroke-width: 1.0;\"/></a><!--MD5=[21bf36d2e69a16038c34930635564045]\n",
       "@startuml\r\n",
       "top to bottom direction\r\n",
       "skinparam monochrome true\r\n",
       "skinparam classbackgroundcolor white\r\n",
       "skinparam shadowing false\r\n",
       "skinparam wrapWidth 300\r\n",
       "hide circle\r\n",
       "\r\n",
       "package \"StateTest\" as E1  [[psysml:5e99c5ac-660c-4bcd-ba7f-80dc44a07c9e ]]  {\r\n",
       "comp def \"Sig\" as E2  <<(T,blue)attribute def>> [[psysml:408e0494-0708-476d-85d5-333a69b53e96 ]] {\r\n",
       "- - attributes - -\r\n",
       "x\r\n",
       "}\r\n",
       "comp def \"Exit\" as E3  <<(T,blue)attribute def>> [[psysml:0109ef31-4e51-4de7-9ac0-eb82fbd89c67 ]] {\r\n",
       "}\r\n",
       "comp usage \"p\" as E4  <<(T,blue)part>> [[psysml:64a2c9fa-aa89-4eff-b01c-ff58906cbde0 ]] {\r\n",
       "}\r\n",
       "comp usage \"act\" as E5  <<(T,blue)action>> [[psysml:6519856a-88df-4cdc-a713-a9dddd16e281 ]] {\r\n",
       "}\r\n",
       "comp def \"S\" as E6  <<(T,blue)state def>> [[psysml:0bc7341d-f31b-4869-a064-1af20ff16fcc ]] {\r\n",
       "- - performActions - -\r\n",
       "act\r\n",
       "A\r\n",
       "B\r\n",
       "- - states - -\r\n",
       "S1\r\n",
       "- - transitions - -\r\n",
       "T\r\n",
       "}\r\n",
       "comp usage \"S2\" as E11  <<(T,blue)state>> [[psysml:a085f23d-1115-47bd-987f-c38856471ed2 ]] {\r\n",
       "}\r\n",
       "comp usage \"doAction\" as E12 <<send action>> [[psysml:cfc90439-05ae-44f8-b88d-04fe860fe407 ]] {\r\n",
       "- - itemFeatures - -\r\n",
       "item\r\n",
       "}\r\n",
       "E6 *- - E11 [[psysml:a085f23d-1115-47bd-987f-c38856471ed2 ]] \r\n",
       "E11 o- - E12 [[psysml:cfc90439-05ae-44f8-b88d-04fe860fe407 ]] \r\n",
       "}\r\n",
       "@enduml\r\n",
       "\n",
       "PlantUML version 1.2020.13(Sat Jun 13 12:26:38 UTC 2020)\n",
       "(EPL source distribution)\n",
       "Java Runtime: OpenJDK Runtime Environment\n",
       "JVM: OpenJDK 64-Bit Server VM\n",
       "Default Encoding: UTF-8\n",
       "Language: en\n",
       "Country: null\n",
       "--></g></svg>"
      ]
     },
     "execution_count": 45,
     "metadata": {},
     "output_type": "execute_result"
    }
   ],
   "source": [
    "%viz --style=\"TB\" --view=\"Tree\" \"StateTest\""
   ]
  },
  {
   "cell_type": "code",
   "execution_count": 46,
   "id": "flush-shame",
   "metadata": {
    "execution": {
     "iopub.execute_input": "2021-03-26T13:02:48.858312Z",
     "iopub.status.busy": "2021-03-26T13:02:48.857957Z",
     "iopub.status.idle": "2021-03-26T13:02:48.884524Z",
     "shell.execute_reply": "2021-03-26T13:02:48.883265Z"
    }
   },
   "outputs": [
    {
     "data": {
      "image/svg+xml": [
       "<?xml version=\"1.0\" encoding=\"UTF-8\" standalone=\"no\"?><svg xmlns=\"http://www.w3.org/2000/svg\" xmlns:xlink=\"http://www.w3.org/1999/xlink\" contentScriptType=\"application/ecmascript\" contentStyleType=\"text/css\" height=\"475px\" preserveAspectRatio=\"none\" style=\"width:346px;height:475px;\" version=\"1.1\" viewBox=\"0 0 346 475\" width=\"346px\" zoomAndPan=\"magnify\"><defs/><g><!--MD5=[fbc87193dbaf4d95561dea2c320d4a47]\n",
       "cluster E1--><a href=\"psysml:0bc7341d-f31b-4869-a064-1af20ff16fcc\" target=\"_top\" title=\"psysml:0bc7341d-f31b-4869-a064-1af20ff16fcc\" xlink:actuate=\"onRequest\" xlink:href=\"psysml:0bc7341d-f31b-4869-a064-1af20ff16fcc\" xlink:show=\"new\" xlink:title=\"psysml:0bc7341d-f31b-4869-a064-1af20ff16fcc\" xlink:type=\"simple\"><rect fill=\"#FFFFFF\" height=\"457\" id=\"E1\" style=\"stroke: #383838; stroke-width: 1.5;\" width=\"327\" x=\"7\" y=\"7\"/><rect fill=\"#F8F8F8\" height=\"37.9375\" style=\"stroke: #383838; stroke-width: 1.5;\" width=\"327\" x=\"7\" y=\"7\"/><text fill=\"#000000\" font-family=\"sans-serif\" font-size=\"12\" font-style=\"italic\" lengthAdjust=\"spacingAndGlyphs\" textLength=\"71\" x=\"135\" y=\"23.1387\">«state def»</text><text fill=\"#000000\" font-family=\"sans-serif\" font-size=\"12\" lengthAdjust=\"spacingAndGlyphs\" textLength=\"8\" x=\"166.5\" y=\"37.1074\">S</text><line style=\"stroke: #383838; stroke-width: 1.0;\" x1=\"7\" x2=\"334\" y1=\"90.8438\" y2=\"90.8438\"/><text fill=\"#000000\" font-family=\"sans-serif\" font-size=\"12\" font-weight=\"bold\" lengthAdjust=\"spacingAndGlyphs\" textLength=\"38\" x=\"12\" y=\"58.0762\">entry</text><text fill=\"#000000\" font-family=\"sans-serif\" font-size=\"12\" lengthAdjust=\"spacingAndGlyphs\" textLength=\"16\" x=\"50\" y=\"58.0762\">/ A</text><text fill=\"#000000\" font-family=\"sans-serif\" font-size=\"12\" font-weight=\"bold\" lengthAdjust=\"spacingAndGlyphs\" textLength=\"18\" x=\"12\" y=\"72.0449\">do</text><text fill=\"#000000\" font-family=\"sans-serif\" font-size=\"12\" lengthAdjust=\"spacingAndGlyphs\" textLength=\"16\" x=\"30\" y=\"72.0449\">/ B</text><text fill=\"#000000\" font-family=\"sans-serif\" font-size=\"12\" font-weight=\"bold\" lengthAdjust=\"spacingAndGlyphs\" textLength=\"26\" x=\"12\" y=\"86.0137\">exit</text><text fill=\"#000000\" font-family=\"sans-serif\" font-size=\"12\" lengthAdjust=\"spacingAndGlyphs\" textLength=\"28\" x=\"38\" y=\"86.0137\">/ act</text></a><ellipse cx=\"119\" cy=\"115\" fill=\"#000000\" rx=\"10\" ry=\"10\" style=\"stroke: none; stroke-width: 1.0;\"/><ellipse cx=\"119\" cy=\"438\" fill=\"none\" rx=\"10\" ry=\"10\" style=\"stroke: #000000; stroke-width: 1.0;\"/><ellipse cx=\"119.5\" cy=\"438.5\" fill=\"#000000\" rx=\"6\" ry=\"6\" style=\"stroke: none; stroke-width: 1.0;\"/><g id=\"E1.E2\"><a href=\"psysml:70242e19-3f56-46b0-b4b5-fd0d440c29ee\" target=\"_top\" title=\"psysml:70242e19-3f56-46b0-b4b5-fd0d440c29ee\" xlink:actuate=\"onRequest\" xlink:href=\"psysml:70242e19-3f56-46b0-b4b5-fd0d440c29ee\" xlink:show=\"new\" xlink:title=\"psysml:70242e19-3f56-46b0-b4b5-fd0d440c29ee\" xlink:type=\"simple\"><rect fill=\"#FFFFFF\" height=\"40\" id=\"E2\" rx=\"10\" ry=\"10\" style=\"stroke: #383838; stroke-width: 1.5;\" width=\"50\" x=\"94\" y=\"186\"/><rect fill=\"#F8F8F8\" height=\"23.9688\" rx=\"10\" ry=\"10\" style=\"stroke: #F8F8F8; stroke-width: 1.5;\" width=\"50\" x=\"94\" y=\"186\"/><rect fill=\"#F8F8F8\" height=\"10\" style=\"stroke: #F8F8F8; stroke-width: 1.5;\" width=\"50\" x=\"94\" y=\"199.9688\"/><rect fill=\"none\" height=\"40\" id=\"E2\" rx=\"10\" ry=\"10\" style=\"stroke: #383838; stroke-width: 1.5;\" width=\"50\" x=\"94\" y=\"186\"/><text fill=\"#000000\" font-family=\"sans-serif\" font-size=\"12\" lengthAdjust=\"spacingAndGlyphs\" textLength=\"16\" x=\"111\" y=\"202.1387\">S1</text></a></g><g id=\"E1.E3\"><a href=\"psysml:a085f23d-1115-47bd-987f-c38856471ed2\" target=\"_top\" title=\"psysml:a085f23d-1115-47bd-987f-c38856471ed2\" xlink:actuate=\"onRequest\" xlink:href=\"psysml:a085f23d-1115-47bd-987f-c38856471ed2\" xlink:show=\"new\" xlink:title=\"psysml:a085f23d-1115-47bd-987f-c38856471ed2\" xlink:type=\"simple\"><rect fill=\"#FFFFFF\" height=\"47.9375\" id=\"E3\" rx=\"10\" ry=\"10\" style=\"stroke: #383838; stroke-width: 1.5;\" width=\"50\" x=\"94\" y=\"303\"/><rect fill=\"#F8F8F8\" height=\"23.9688\" rx=\"10\" ry=\"10\" style=\"stroke: #F8F8F8; stroke-width: 1.5;\" width=\"50\" x=\"94\" y=\"303\"/><rect fill=\"#F8F8F8\" height=\"10\" style=\"stroke: #F8F8F8; stroke-width: 1.5;\" width=\"50\" x=\"94\" y=\"316.9688\"/><rect fill=\"none\" height=\"47.9375\" id=\"E3\" rx=\"10\" ry=\"10\" style=\"stroke: #383838; stroke-width: 1.5;\" width=\"50\" x=\"94\" y=\"303\"/><text fill=\"#000000\" font-family=\"sans-serif\" font-size=\"12\" lengthAdjust=\"spacingAndGlyphs\" textLength=\"16\" x=\"111\" y=\"319.1387\">S2</text><line style=\"stroke: #383838; stroke-width: 1.0;\" x1=\"94\" x2=\"144\" y1=\"326.9688\" y2=\"326.9688\"/><text fill=\"#000000\" font-family=\"sans-serif\" font-size=\"12\" font-weight=\"bold\" lengthAdjust=\"spacingAndGlyphs\" textLength=\"18\" x=\"99\" y=\"340.1074\">do</text><text fill=\"#000000\" font-family=\"sans-serif\" font-size=\"12\" lengthAdjust=\"spacingAndGlyphs\" textLength=\"4\" x=\"117\" y=\"340.1074\">/</text></a></g><!--MD5=[cff944eb183b832d446717a4e202d613]\n",
       "link *start*E1 to E2--><a href=\"psysml:43d9c4f9-ed20-4c00-a0b0-be6dc49a6894\" target=\"_top\" title=\"psysml:43d9c4f9-ed20-4c00-a0b0-be6dc49a6894\" xlink:actuate=\"onRequest\" xlink:href=\"psysml:43d9c4f9-ed20-4c00-a0b0-be6dc49a6894\" xlink:show=\"new\" xlink:title=\"psysml:43d9c4f9-ed20-4c00-a0b0-be6dc49a6894\" xlink:type=\"simple\"><path d=\"M119,125.19 C119,138.18 119,162.38 119,180.73 \" fill=\"none\" id=\"*start*E1-&gt;E2\" style=\"stroke: #383838; stroke-width: 1.0;\"/><polygon fill=\"#383838\" points=\"119,185.74,123,176.74,119,180.74,115,176.74,119,185.74\" style=\"stroke: #383838; stroke-width: 1.0;\"/></a><!--MD5=[9ee7afa76ca8c509b3d216624c3a9893]\n",
       "link E3 to *end*E1--><a href=\"psysml:f955b7ee-57f2-4e8a-b602-a443c9a31c83\" target=\"_top\" title=\"psysml:f955b7ee-57f2-4e8a-b602-a443c9a31c83\" xlink:actuate=\"onRequest\" xlink:href=\"psysml:f955b7ee-57f2-4e8a-b602-a443c9a31c83\" xlink:show=\"new\" xlink:title=\"psysml:f955b7ee-57f2-4e8a-b602-a443c9a31c83\" xlink:type=\"simple\"><path d=\"M119,351.12 C119,372.75 119,404.39 119,422.62 \" fill=\"none\" id=\"E3-&gt;*end*E1\" style=\"stroke: #383838; stroke-width: 1.0;\"/><polygon fill=\"#383838\" points=\"119,427.82,123,418.82,119,422.82,115,418.82,119,427.82\" style=\"stroke: #383838; stroke-width: 1.0;\"/><text fill=\"#000000\" font-family=\"sans-serif\" font-size=\"13\" lengthAdjust=\"spacingAndGlyphs\" textLength=\"23\" x=\"120\" y=\"394.0669\">Exit</text></a><!--MD5=[2720a5a1f2c3fca2055b230370638851]\n",
       "link E2 to E3--><a href=\"psysml:d37fdc60-36d2-41f0-83fe-622a63ffc619\" target=\"_top\" title=\"psysml:d37fdc60-36d2-41f0-83fe-622a63ffc619\" xlink:actuate=\"onRequest\" xlink:href=\"psysml:d37fdc60-36d2-41f0-83fe-622a63ffc619\" xlink:show=\"new\" xlink:title=\"psysml:d37fdc60-36d2-41f0-83fe-622a63ffc619\" xlink:type=\"simple\"><path d=\"M93.93,218.88 C79.69,227.12 63.12,239.56 55,256 C44.11,278.05 67.72,298.2 89.27,311.16 \" fill=\"none\" id=\"E2-&gt;E3\" style=\"stroke: #383838; stroke-width: 1.0;\"/><polygon fill=\"#383838\" points=\"93.83,313.82,88.0682,305.8324,89.5101,311.3024,84.0401,312.7443,93.83,313.82\" style=\"stroke: #383838; stroke-width: 1.0;\"/><text fill=\"#000000\" font-family=\"sans-serif\" font-size=\"13\" lengthAdjust=\"spacingAndGlyphs\" textLength=\"81\" x=\"56\" y=\"269.0669\">Sig /action D</text></a><!--MD5=[05d275557350bfb9b23a4ef7222b4c39]\n",
       "link E3 to E2--><a href=\"psysml:b2ce6d4b-1a56-4d0e-ade4-ffb9136266c2\" target=\"_top\" title=\"psysml:b2ce6d4b-1a56-4d0e-ade4-ffb9136266c2\" xlink:actuate=\"onRequest\" xlink:href=\"psysml:b2ce6d4b-1a56-4d0e-ade4-ffb9136266c2\" xlink:show=\"new\" xlink:title=\"psysml:b2ce6d4b-1a56-4d0e-ade4-ffb9136266c2\" xlink:type=\"simple\"><path d=\"M133.17,302.99 C139.81,289.48 145.56,271.98 142,256 C140.1,247.49 136.56,238.72 132.82,230.99 \" fill=\"none\" id=\"E3-&gt;E2\" style=\"stroke: #383838; stroke-width: 1.0;\"/><polygon fill=\"#383838\" points=\"130.47,226.32,130.9298,236.1581,132.7118,230.7893,138.0806,232.5713,130.47,226.32\" style=\"stroke: #383838; stroke-width: 1.0;\"/><text fill=\"#000000\" font-family=\"sans-serif\" font-size=\"13\" lengthAdjust=\"spacingAndGlyphs\" textLength=\"135\" x=\"144\" y=\"269.0669\">Sig [true]/send s to p</text></a><!--MD5=[a5ef401a89b9a575c82dc6f18831440e]\n",
       "@startuml\r\n",
       "top to bottom direction\r\n",
       "skinparam monochrome true\r\n",
       "skinparam classbackgroundcolor white\r\n",
       "skinparam shadowing false\r\n",
       "skinparam wrapWidth 300\r\n",
       "hide circle\r\n",
       "\r\n",
       "rec def \"S\" as E1  <<(T,blue)state def>> [[psysml:0bc7341d-f31b-4869-a064-1af20ff16fcc ]] {\r\n",
       "rec usage \"S1\" as E2 [[psysml:70242e19-3f56-46b0-b4b5-fd0d440c29ee ]] {\r\n",
       "}\r\n",
       "\r\n",
       "rec usage \"S2\" as E3 [[psysml:a085f23d-1115-47bd-987f-c38856471ed2 ]] {\r\n",
       "desc \"S2\" as E3  : **do**/ \r\n",
       "}\r\n",
       "\r\n",
       "[*] - -> E2 [[psysml:43d9c4f9-ed20-4c00-a0b0-be6dc49a6894 ]] \r\n",
       "E3  - -> [*] [[psysml:f955b7ee-57f2-4e8a-b602-a443c9a31c83 ]] : Exit \r\n",
       "desc \"S\" as E1  : **entry**/ A\r\n",
       "desc \"S\" as E1  : **do**/ B\r\n",
       "desc \"S\" as E1  : **exit**/ act \r\n",
       "}\r\n",
       "\r\n",
       "E2  - -> E3 [[psysml:d37fdc60-36d2-41f0-83fe-622a63ffc619 ]] : Sig /action D\r\n",
       "E3  - -> E2 [[psysml:b2ce6d4b-1a56-4d0e-ade4-ffb9136266c2 ]] : Sig [true]/send s to p\r\n",
       "@enduml\r\n",
       "\n",
       "PlantUML version 1.2020.13(Sat Jun 13 12:26:38 UTC 2020)\n",
       "(EPL source distribution)\n",
       "Java Runtime: OpenJDK Runtime Environment\n",
       "JVM: OpenJDK 64-Bit Server VM\n",
       "Default Encoding: UTF-8\n",
       "Language: en\n",
       "Country: null\n",
       "--></g></svg>"
      ]
     },
     "execution_count": 46,
     "metadata": {},
     "output_type": "execute_result"
    }
   ],
   "source": [
    "%viz --style=\"TB\" --view=\"State\" \"StateTest\""
   ]
  },
  {
   "cell_type": "code",
   "execution_count": 47,
   "id": "adaptive-reservoir",
   "metadata": {
    "execution": {
     "iopub.execute_input": "2021-03-26T13:02:48.934491Z",
     "iopub.status.busy": "2021-03-26T13:02:48.934079Z",
     "iopub.status.idle": "2021-03-26T13:02:48.959161Z",
     "shell.execute_reply": "2021-03-26T13:02:48.957907Z"
    }
   },
   "outputs": [
    {
     "data": {
      "image/svg+xml": [
       "<?xml version=\"1.0\" encoding=\"UTF-8\" standalone=\"no\"?><svg xmlns=\"http://www.w3.org/2000/svg\" xmlns:xlink=\"http://www.w3.org/1999/xlink\" contentScriptType=\"application/ecmascript\" contentStyleType=\"text/css\" height=\"112px\" preserveAspectRatio=\"none\" style=\"width:598px;height:112px;\" version=\"1.1\" viewBox=\"0 0 598 112\" width=\"598px\" zoomAndPan=\"magnify\"><defs/><g><!--MD5=[fbc87193dbaf4d95561dea2c320d4a47]\n",
       "cluster E1--><a href=\"psysml:5e99c5ac-660c-4bcd-ba7f-80dc44a07c9e\" target=\"_top\" title=\"psysml:5e99c5ac-660c-4bcd-ba7f-80dc44a07c9e\" xlink:actuate=\"onRequest\" xlink:href=\"psysml:5e99c5ac-660c-4bcd-ba7f-80dc44a07c9e\" xlink:show=\"new\" xlink:title=\"psysml:5e99c5ac-660c-4bcd-ba7f-80dc44a07c9e\" xlink:type=\"simple\"><polygon fill=\"#FFFFFF\" points=\"16,6,98,6,105,28.2969,576,28.2969,576,100,16,100,16,6\" style=\"stroke: #000000; stroke-width: 1.5;\"/><line style=\"stroke: #000000; stroke-width: 1.5;\" x1=\"16\" x2=\"105\" y1=\"28.2969\" y2=\"28.2969\"/><text fill=\"#000000\" font-family=\"sans-serif\" font-size=\"14\" font-weight=\"bold\" lengthAdjust=\"spacingAndGlyphs\" textLength=\"76\" x=\"20\" y=\"20.9951\">StateTest</text></a><g id=\"E1.E2\"><a href=\"psysml:408e0494-0708-476d-85d5-333a69b53e96\" target=\"_top\" title=\"psysml:408e0494-0708-476d-85d5-333a69b53e96\" xlink:actuate=\"onRequest\" xlink:href=\"psysml:408e0494-0708-476d-85d5-333a69b53e96\" xlink:show=\"new\" xlink:title=\"psysml:408e0494-0708-476d-85d5-333a69b53e96\" xlink:type=\"simple\"><rect fill=\"#FFFFFF\" height=\"42.9375\" id=\"E2\" style=\"stroke: #383838; stroke-width: 1.5;\" width=\"100\" x=\"460\" y=\"41\"/><rect fill=\"#F8F8F8\" height=\"37.9375\" style=\"stroke: #383838; stroke-width: 1.5;\" width=\"100\" x=\"460\" y=\"41\"/><text fill=\"#000000\" font-family=\"sans-serif\" font-size=\"12\" font-style=\"italic\" lengthAdjust=\"spacingAndGlyphs\" textLength=\"93\" x=\"463.5\" y=\"57.1387\">«attribute def»</text><text fill=\"#000000\" font-family=\"sans-serif\" font-size=\"12\" lengthAdjust=\"spacingAndGlyphs\" textLength=\"19\" x=\"500.5\" y=\"71.1074\">Sig</text></a></g><g id=\"E1.E3\"><a href=\"psysml:0109ef31-4e51-4de7-9ac0-eb82fbd89c67\" target=\"_top\" title=\"psysml:0109ef31-4e51-4de7-9ac0-eb82fbd89c67\" xlink:actuate=\"onRequest\" xlink:href=\"psysml:0109ef31-4e51-4de7-9ac0-eb82fbd89c67\" xlink:show=\"new\" xlink:title=\"psysml:0109ef31-4e51-4de7-9ac0-eb82fbd89c67\" xlink:type=\"simple\"><rect fill=\"#FFFFFF\" height=\"42.9375\" id=\"E3\" style=\"stroke: #383838; stroke-width: 1.5;\" width=\"100\" x=\"325\" y=\"41\"/><rect fill=\"#F8F8F8\" height=\"37.9375\" style=\"stroke: #383838; stroke-width: 1.5;\" width=\"100\" x=\"325\" y=\"41\"/><text fill=\"#000000\" font-family=\"sans-serif\" font-size=\"12\" font-style=\"italic\" lengthAdjust=\"spacingAndGlyphs\" textLength=\"93\" x=\"328.5\" y=\"57.1387\">«attribute def»</text><text fill=\"#000000\" font-family=\"sans-serif\" font-size=\"12\" lengthAdjust=\"spacingAndGlyphs\" textLength=\"22\" x=\"364\" y=\"71.1074\">Exit</text></a></g><g id=\"E1.E6\"><a href=\"psysml:0bc7341d-f31b-4869-a064-1af20ff16fcc\" target=\"_top\" title=\"psysml:0bc7341d-f31b-4869-a064-1af20ff16fcc\" xlink:actuate=\"onRequest\" xlink:href=\"psysml:0bc7341d-f31b-4869-a064-1af20ff16fcc\" xlink:show=\"new\" xlink:title=\"psysml:0bc7341d-f31b-4869-a064-1af20ff16fcc\" xlink:type=\"simple\"><rect fill=\"#FFFFFF\" height=\"42.9375\" id=\"E6\" style=\"stroke: #383838; stroke-width: 1.5;\" width=\"78\" x=\"212\" y=\"41\"/><rect fill=\"#F8F8F8\" height=\"37.9375\" style=\"stroke: #383838; stroke-width: 1.5;\" width=\"78\" x=\"212\" y=\"41\"/><text fill=\"#000000\" font-family=\"sans-serif\" font-size=\"12\" font-style=\"italic\" lengthAdjust=\"spacingAndGlyphs\" textLength=\"71\" x=\"215.5\" y=\"57.1387\">«state def»</text><text fill=\"#000000\" font-family=\"sans-serif\" font-size=\"12\" lengthAdjust=\"spacingAndGlyphs\" textLength=\"8\" x=\"247\" y=\"71.1074\">S</text></a></g><g id=\"E1.E4\"><a href=\"psysml:64a2c9fa-aa89-4eff-b01c-ff58906cbde0\" target=\"_top\" title=\"psysml:64a2c9fa-aa89-4eff-b01c-ff58906cbde0\" xlink:actuate=\"onRequest\" xlink:href=\"psysml:64a2c9fa-aa89-4eff-b01c-ff58906cbde0\" xlink:show=\"new\" xlink:title=\"psysml:64a2c9fa-aa89-4eff-b01c-ff58906cbde0\" xlink:type=\"simple\"><rect fill=\"#FFFFFF\" height=\"40\" id=\"E4\" rx=\"10\" ry=\"10\" style=\"stroke: #383838; stroke-width: 1.5;\" width=\"50\" x=\"127\" y=\"42.5\"/><rect fill=\"#F8F8F8\" height=\"23.9688\" rx=\"10\" ry=\"10\" style=\"stroke: #F8F8F8; stroke-width: 1.5;\" width=\"50\" x=\"127\" y=\"42.5\"/><rect fill=\"#F8F8F8\" height=\"10\" style=\"stroke: #F8F8F8; stroke-width: 1.5;\" width=\"50\" x=\"127\" y=\"56.4688\"/><rect fill=\"none\" height=\"40\" id=\"E4\" rx=\"10\" ry=\"10\" style=\"stroke: #383838; stroke-width: 1.5;\" width=\"50\" x=\"127\" y=\"42.5\"/><text fill=\"#000000\" font-family=\"sans-serif\" font-size=\"12\" lengthAdjust=\"spacingAndGlyphs\" textLength=\"8\" x=\"148\" y=\"58.6387\">p</text></a></g><g id=\"E1.E5\"><a href=\"psysml:6519856a-88df-4cdc-a713-a9dddd16e281\" target=\"_top\" title=\"psysml:6519856a-88df-4cdc-a713-a9dddd16e281\" xlink:actuate=\"onRequest\" xlink:href=\"psysml:6519856a-88df-4cdc-a713-a9dddd16e281\" xlink:show=\"new\" xlink:title=\"psysml:6519856a-88df-4cdc-a713-a9dddd16e281\" xlink:type=\"simple\"><rect fill=\"#FFFFFF\" height=\"42.9375\" id=\"E5\" rx=\"10\" ry=\"10\" style=\"stroke: #383838; stroke-width: 1.5;\" width=\"60\" x=\"32\" y=\"41\"/><rect fill=\"#F8F8F8\" height=\"37.9375\" rx=\"10\" ry=\"10\" style=\"stroke: #F8F8F8; stroke-width: 1.5;\" width=\"60\" x=\"32\" y=\"41\"/><rect fill=\"#F8F8F8\" height=\"10\" style=\"stroke: #F8F8F8; stroke-width: 1.5;\" width=\"60\" x=\"32\" y=\"68.9375\"/><rect fill=\"none\" height=\"42.9375\" id=\"E5\" rx=\"10\" ry=\"10\" style=\"stroke: #383838; stroke-width: 1.5;\" width=\"60\" x=\"32\" y=\"41\"/><text fill=\"#000000\" font-family=\"sans-serif\" font-size=\"12\" font-style=\"italic\" lengthAdjust=\"spacingAndGlyphs\" textLength=\"53\" x=\"35.5\" y=\"57.1387\">«action»</text><text fill=\"#000000\" font-family=\"sans-serif\" font-size=\"12\" lengthAdjust=\"spacingAndGlyphs\" textLength=\"20\" x=\"52\" y=\"71.1074\">act</text></a></g><!--MD5=[1f9ab14eba440a1868881ef6a1e331e0]\n",
       "@startuml\r\n",
       "skinparam ranksep 8\r\n",
       "skinparam rectangle {\r\n",
       " backgroundColor<<block>> LightGreen\r\n",
       "}\r\n",
       "top to bottom direction\r\n",
       "skinparam monochrome true\r\n",
       "skinparam classbackgroundcolor white\r\n",
       "skinparam shadowing false\r\n",
       "skinparam wrapWidth 300\r\n",
       "hide circle\r\n",
       "\r\n",
       "package \"StateTest\" as E1  [[psysml:5e99c5ac-660c-4bcd-ba7f-80dc44a07c9e ]]  {\r\n",
       "def \"Sig\" as E2  <<(T,blue)attribute def>> [[psysml:408e0494-0708-476d-85d5-333a69b53e96 ]] \r\n",
       "def \"Exit\" as E3  <<(T,blue)attribute def>> [[psysml:0109ef31-4e51-4de7-9ac0-eb82fbd89c67 ]] \r\n",
       "rec usage \"p\" as E4  [[psysml:64a2c9fa-aa89-4eff-b01c-ff58906cbde0 ]] {\r\n",
       "}\r\n",
       "rec usage \"act\" as E5  <<(T,blue)action>> [[psysml:6519856a-88df-4cdc-a713-a9dddd16e281 ]] {\r\n",
       "}\r\n",
       "def \"S\" as E6  <<(T,blue)state def>> [[psysml:0bc7341d-f31b-4869-a064-1af20ff16fcc ]] \r\n",
       "}\r\n",
       "@enduml\r\n",
       "\n",
       "PlantUML version 1.2020.13(Sat Jun 13 12:26:38 UTC 2020)\n",
       "(EPL source distribution)\n",
       "Java Runtime: OpenJDK Runtime Environment\n",
       "JVM: OpenJDK 64-Bit Server VM\n",
       "Default Encoding: UTF-8\n",
       "Language: en\n",
       "Country: null\n",
       "--></g></svg>"
      ]
     },
     "execution_count": 47,
     "metadata": {},
     "output_type": "execute_result"
    }
   ],
   "source": [
    "%viz --style=\"TB\" --view=\"Interconnection\" \"StateTest\""
   ]
  },
  {
   "cell_type": "code",
   "execution_count": 48,
   "id": "single-scanning",
   "metadata": {
    "execution": {
     "iopub.execute_input": "2021-03-26T13:02:49.010792Z",
     "iopub.status.busy": "2021-03-26T13:02:49.010253Z",
     "iopub.status.idle": "2021-03-26T13:02:49.023336Z",
     "shell.execute_reply": "2021-03-26T13:02:49.021992Z"
    }
   },
   "outputs": [
    {
     "data": {
      "image/svg+xml": [
       "<?xml version=\"1.0\" encoding=\"UTF-8\" standalone=\"no\"?><svg xmlns=\"http://www.w3.org/2000/svg\" xmlns:xlink=\"http://www.w3.org/1999/xlink\" contentScriptType=\"application/ecmascript\" contentStyleType=\"text/css\" height=\"483px\" preserveAspectRatio=\"none\" style=\"width:796px;height:483px;background:#000000;\" version=\"1.1\" viewBox=\"0 0 796 483\" width=\"796px\" zoomAndPan=\"magnify\"><defs/><g><rect fill=\"#131017\" height=\"1\" style=\"stroke: #131017; stroke-width: 1.0;\" width=\"1\" x=\"0\" y=\"0\"/><rect fill=\"#33FF02\" height=\"21.2969\" style=\"stroke: #33FF02; stroke-width: 1.0;\" width=\"789\" x=\"5\" y=\"5\"/><text fill=\"#000000\" font-family=\"sans-serif\" font-size=\"14\" font-weight=\"bold\" lengthAdjust=\"spacingAndGlyphs\" textLength=\"178\" x=\"6\" y=\"20\">[From string (line 26) ]</text><text fill=\"#33FF02\" font-family=\"sans-serif\" font-size=\"14\" font-weight=\"bold\" lengthAdjust=\"spacingAndGlyphs\" textLength=\"0\" x=\"10\" y=\"40.2969\"/><text fill=\"#33FF02\" font-family=\"sans-serif\" font-size=\"14\" font-weight=\"bold\" lengthAdjust=\"spacingAndGlyphs\" textLength=\"79\" x=\"5\" y=\"56.5938\">@startuml</text><text fill=\"#33FF02\" font-family=\"sans-serif\" font-size=\"14\" font-weight=\"bold\" lengthAdjust=\"spacingAndGlyphs\" textLength=\"165\" x=\"5\" y=\"72.8906\">skinparam ranksep 8</text><text fill=\"#33FF02\" font-family=\"sans-serif\" font-size=\"14\" font-weight=\"bold\" lengthAdjust=\"spacingAndGlyphs\" textLength=\"183\" x=\"5\" y=\"89.1875\">top to bottom direction</text><text fill=\"#33FF02\" font-family=\"sans-serif\" font-size=\"14\" font-weight=\"bold\" lengthAdjust=\"spacingAndGlyphs\" textLength=\"228\" x=\"5\" y=\"105.4844\">skinparam monochrome true</text><text fill=\"#33FF02\" font-family=\"sans-serif\" font-size=\"14\" font-weight=\"bold\" lengthAdjust=\"spacingAndGlyphs\" textLength=\"309\" x=\"5\" y=\"121.7813\">skinparam classbackgroundcolor white</text><text fill=\"#33FF02\" font-family=\"sans-serif\" font-size=\"14\" font-weight=\"bold\" lengthAdjust=\"spacingAndGlyphs\" textLength=\"215\" x=\"5\" y=\"138.0781\">skinparam shadowing false</text><text fill=\"#33FF02\" font-family=\"sans-serif\" font-size=\"14\" font-weight=\"bold\" lengthAdjust=\"spacingAndGlyphs\" textLength=\"206\" x=\"5\" y=\"154.375\">skinparam wrapWidth 300</text><text fill=\"#33FF02\" font-family=\"sans-serif\" font-size=\"14\" font-weight=\"bold\" lengthAdjust=\"spacingAndGlyphs\" textLength=\"82\" x=\"5\" y=\"170.6719\">hide circle</text><text fill=\"#33FF02\" font-family=\"sans-serif\" font-size=\"14\" font-weight=\"bold\" lengthAdjust=\"spacingAndGlyphs\" textLength=\"0\" x=\"10\" y=\"186.9688\"/><text fill=\"#33FF02\" font-family=\"sans-serif\" font-size=\"14\" font-weight=\"bold\" lengthAdjust=\"spacingAndGlyphs\" textLength=\"781\" x=\"5\" y=\"203.2656\">rec usage \"act\" as E1  &lt;&lt;(T,blue)action&gt;&gt; [[psysml:6519856a-88df-4cdc-a713-a9dddd16e281 ]] {</text><text fill=\"#33FF02\" font-family=\"sans-serif\" font-size=\"14\" font-weight=\"bold\" lengthAdjust=\"spacingAndGlyphs\" textLength=\"10\" x=\"5\" y=\"219.5625\">}</text><text fill=\"#33FF02\" font-family=\"sans-serif\" font-size=\"14\" font-weight=\"bold\" lengthAdjust=\"spacingAndGlyphs\" textLength=\"0\" x=\"10\" y=\"235.8594\"/><text fill=\"#33FF02\" font-family=\"sans-serif\" font-size=\"14\" font-weight=\"bold\" lengthAdjust=\"spacingAndGlyphs\" textLength=\"752\" x=\"5\" y=\"252.1563\">rec def \"S\" as E2  &lt;&lt;(T,blue)state def&gt;&gt; [[psysml:0bc7341d-f31b-4869-a064-1af20ff16fcc ]] {</text><text fill=\"#33FF02\" font-family=\"sans-serif\" font-size=\"14\" font-weight=\"bold\" lengthAdjust=\"spacingAndGlyphs\" textLength=\"771\" x=\"5\" y=\"268.4531\">rec usage \"A\" as E3 &lt;&lt;perform action&gt;&gt; [[psysml:24ce981a-669a-4b1b-8e70-ec9679f168ba ]] {</text><text fill=\"#33FF02\" font-family=\"sans-serif\" font-size=\"14\" font-weight=\"bold\" lengthAdjust=\"spacingAndGlyphs\" textLength=\"10\" x=\"5\" y=\"284.75\">}</text><text fill=\"#33FF02\" font-family=\"sans-serif\" font-size=\"14\" font-weight=\"bold\" lengthAdjust=\"spacingAndGlyphs\" textLength=\"0\" x=\"10\" y=\"301.0469\"/><text fill=\"#33FF02\" font-family=\"sans-serif\" font-size=\"14\" font-weight=\"bold\" lengthAdjust=\"spacingAndGlyphs\" textLength=\"773\" x=\"5\" y=\"317.3438\">rec usage \"B\" as E4 &lt;&lt;perform action&gt;&gt; [[psysml:0cb81d18-66e4-4e05-a75e-b6d7358364f8 ]] {</text><text fill=\"#33FF02\" font-family=\"sans-serif\" font-size=\"14\" font-weight=\"bold\" lengthAdjust=\"spacingAndGlyphs\" textLength=\"10\" x=\"5\" y=\"333.6406\">}</text><text fill=\"#33FF02\" font-family=\"sans-serif\" font-size=\"14\" font-weight=\"bold\" lengthAdjust=\"spacingAndGlyphs\" textLength=\"0\" x=\"10\" y=\"349.9375\"/><text fill=\"#33FF02\" font-family=\"sans-serif\" font-size=\"14\" font-weight=\"bold\" lengthAdjust=\"spacingAndGlyphs\" textLength=\"789\" x=\"5\" y=\"366.2344\">rec usage \"act\" as E5 &lt;&lt;perform action&gt;&gt; [[psysml:3038242a-7c4d-4726-ae4e-c76791d4ee71 ]] {</text><text fill=\"#33FF02\" font-family=\"sans-serif\" font-size=\"14\" font-weight=\"bold\" lengthAdjust=\"spacingAndGlyphs\" textLength=\"10\" x=\"5\" y=\"382.5313\">}</text><text fill=\"#33FF02\" font-family=\"sans-serif\" font-size=\"14\" font-weight=\"bold\" lengthAdjust=\"spacingAndGlyphs\" textLength=\"0\" x=\"10\" y=\"398.8281\"/><text fill=\"#33FF02\" font-family=\"sans-serif\" font-size=\"14\" font-weight=\"bold\" lengthAdjust=\"spacingAndGlyphs\" textLength=\"769\" x=\"5\" y=\"415.125\">rec usage \"S1\" as E6  &lt;&lt;(T,blue)state&gt;&gt; [[psysml:70242e19-3f56-46b0-b4b5-fd0d440c29ee ]] {</text><text fill=\"#33FF02\" font-family=\"sans-serif\" font-size=\"14\" font-weight=\"bold\" lengthAdjust=\"spacingAndGlyphs\" textLength=\"10\" x=\"5\" y=\"431.4219\">}</text><text fill=\"#33FF02\" font-family=\"sans-serif\" font-size=\"14\" font-weight=\"bold\" lengthAdjust=\"spacingAndGlyphs\" textLength=\"0\" x=\"10\" y=\"447.7188\"/><text fill=\"#33FF02\" font-family=\"sans-serif\" font-size=\"14\" font-weight=\"bold\" lengthAdjust=\"spacingAndGlyphs\" textLength=\"10\" x=\"5\" y=\"464.0156\">{</text><text fill=\"#FF0000\" font-family=\"sans-serif\" font-size=\"14\" font-weight=\"bold\" lengthAdjust=\"spacingAndGlyphs\" textLength=\"106\" x=\"10\" y=\"480.3125\">Syntax Error?</text><!--MD5=[cb91d0c92623d177ba0e95626a5d86e6]\n",
       "@startuml\r\n",
       "skinparam ranksep 8\r\n",
       "top to bottom direction\r\n",
       "skinparam monochrome true\r\n",
       "skinparam classbackgroundcolor white\r\n",
       "skinparam shadowing false\r\n",
       "skinparam wrapWidth 300\r\n",
       "hide circle\r\n",
       "\r\n",
       "rec usage \"act\" as E1  <<(T,blue)action>> [[psysml:6519856a-88df-4cdc-a713-a9dddd16e281 ]] {\r\n",
       "}\r\n",
       "\r\n",
       "rec def \"S\" as E2  <<(T,blue)state def>> [[psysml:0bc7341d-f31b-4869-a064-1af20ff16fcc ]] {\r\n",
       "rec usage \"A\" as E3 <<perform action>> [[psysml:24ce981a-669a-4b1b-8e70-ec9679f168ba ]] {\r\n",
       "}\r\n",
       "\r\n",
       "rec usage \"B\" as E4 <<perform action>> [[psysml:0cb81d18-66e4-4e05-a75e-b6d7358364f8 ]] {\r\n",
       "}\r\n",
       "\r\n",
       "rec usage \"act\" as E5 <<perform action>> [[psysml:3038242a-7c4d-4726-ae4e-c76791d4ee71 ]] {\r\n",
       "}\r\n",
       "\r\n",
       "rec usage \"S1\" as E6  <<(T,blue)state>> [[psysml:70242e19-3f56-46b0-b4b5-fd0d440c29ee ]] {\r\n",
       "}\r\n",
       "\r\n",
       "{\r\n",
       "{\r\n",
       "}\r\n",
       "\r\n",
       "rec usage \"D\" as E7 <<perform action>> [[psysml:9fa67b9a-f55b-4b6f-8c3c-7583e77a313e ]] {\r\n",
       "}\r\n",
       "\r\n",
       "}\r\n",
       "\r\n",
       "rec usage \"S2\" as E8  <<(T,blue)state>> [[psysml:a085f23d-1115-47bd-987f-c38856471ed2 ]] {\r\n",
       "rec usage \"doAction\" as E9 <<send action>> [[psysml:cfc90439-05ae-44f8-b88d-04fe860fe407 ]] {\r\n",
       "portin \"$x\" as E10  [[psysml:ae5b5913-d198-445b-b606-f76bd72ed7d9 ]] \r\n",
       "portout \"$result\" as E11  [[psysml:f2619e5d-ad00-4b4a-a4fe-7cd7945e1b82 ]] \r\n",
       "}\r\n",
       "\r\n",
       "}\r\n",
       "\r\n",
       "{\r\n",
       "{\r\n",
       "}\r\n",
       "\r\n",
       "}\r\n",
       "\r\n",
       "rec usage \"T\" as E12  <<(T,blue)transition>> [[psysml:b2ce6d4b-1a56-4d0e-ade4-ffb9136266c2 ]] {\r\n",
       "rec usage \"S2\" as E13  <<(T,blue)state>> [[psysml:a085f23d-1115-47bd-987f-c38856471ed2 ]] {\r\n",
       "rec usage \"doAction\" as E14 <<send action>> [[psysml:cfc90439-05ae-44f8-b88d-04fe860fe407 ]] {\r\n",
       "portin \"$x\" as E15  [[psysml:ae5b5913-d198-445b-b606-f76bd72ed7d9 ]] \r\n",
       "portout \"$result\" as E16  [[psysml:f2619e5d-ad00-4b4a-a4fe-7cd7945e1b82 ]] \r\n",
       "}\r\n",
       "\r\n",
       "}\r\n",
       "\r\n",
       "{\r\n",
       "}\r\n",
       "\r\n",
       "portout \"$result\" as E17  [[psysml:9abbd064-7570-4e45-a029-f7befd203c67 ]] \r\n",
       "{\r\n",
       "}\r\n",
       "\r\n",
       "}\r\n",
       "\r\n",
       "}\r\n",
       "\r\n",
       "@enduml\r\n",
       "\n",
       "PlantUML version 1.2020.13(Sat Jun 13 12:26:38 UTC 2020)\n",
       "(EPL source distribution)\n",
       "Java Runtime: OpenJDK Runtime Environment\n",
       "JVM: OpenJDK 64-Bit Server VM\n",
       "Default Encoding: UTF-8\n",
       "Language: en\n",
       "Country: null\n",
       "--></g></svg>"
      ]
     },
     "execution_count": 48,
     "metadata": {},
     "output_type": "execute_result"
    }
   ],
   "source": [
    "%viz --style=\"TB\" --view=\"Action\" \"StateTest\""
   ]
  },
  {
   "cell_type": "code",
   "execution_count": 49,
   "id": "endangered-woman",
   "metadata": {
    "execution": {
     "iopub.execute_input": "2021-03-26T13:02:49.074420Z",
     "iopub.status.busy": "2021-03-26T13:02:49.073682Z",
     "iopub.status.idle": "2021-03-26T13:02:49.172892Z",
     "shell.execute_reply": "2021-03-26T13:02:49.171435Z"
    }
   },
   "outputs": [
    {
     "data": {
      "image/svg+xml": [
       "<?xml version=\"1.0\" encoding=\"UTF-8\" standalone=\"no\"?><svg xmlns=\"http://www.w3.org/2000/svg\" xmlns:xlink=\"http://www.w3.org/1999/xlink\" contentScriptType=\"application/ecmascript\" contentStyleType=\"text/css\" height=\"471px\" preserveAspectRatio=\"none\" style=\"width:594px;height:471px;\" version=\"1.1\" viewBox=\"0 0 594 471\" width=\"594px\" zoomAndPan=\"magnify\"><defs/><g><!--MD5=[fbc87193dbaf4d95561dea2c320d4a47]\n",
       "cluster E1--><a href=\"psysml:5e99c5ac-660c-4bcd-ba7f-80dc44a07c9e\" target=\"_top\" title=\"psysml:5e99c5ac-660c-4bcd-ba7f-80dc44a07c9e\" xlink:actuate=\"onRequest\" xlink:href=\"psysml:5e99c5ac-660c-4bcd-ba7f-80dc44a07c9e\" xlink:show=\"new\" xlink:title=\"psysml:5e99c5ac-660c-4bcd-ba7f-80dc44a07c9e\" xlink:type=\"simple\"><polygon fill=\"#FFFFFF\" points=\"16,6,98,6,105,28.2969,572,28.2969,572,459,16,459,16,6\" style=\"stroke: #000000; stroke-width: 1.5;\"/><line style=\"stroke: #000000; stroke-width: 1.5;\" x1=\"16\" x2=\"105\" y1=\"28.2969\" y2=\"28.2969\"/><text fill=\"#000000\" font-family=\"sans-serif\" font-size=\"14\" font-weight=\"bold\" lengthAdjust=\"spacingAndGlyphs\" textLength=\"76\" x=\"20\" y=\"20.9951\">StateTest</text></a><!--MD5=[b4997ac47864f28c2f74865a473b2911]\n",
       "class E2--><a href=\"psysml:408e0494-0708-476d-85d5-333a69b53e96\" target=\"_top\" title=\"psysml:408e0494-0708-476d-85d5-333a69b53e96\" xlink:actuate=\"onRequest\" xlink:href=\"psysml:408e0494-0708-476d-85d5-333a69b53e96\" xlink:show=\"new\" xlink:title=\"psysml:408e0494-0708-476d-85d5-333a69b53e96\" xlink:type=\"simple\"><rect fill=\"#FFFFFF\" height=\"75.5469\" id=\"E2\" style=\"stroke: #383838; stroke-width: 1.5;\" width=\"95\" x=\"460.5\" y=\"83\"/><text fill=\"#000000\" font-family=\"sans-serif\" font-size=\"12\" font-style=\"italic\" lengthAdjust=\"spacingAndGlyphs\" textLength=\"93\" x=\"461.5\" y=\"99.1387\">«attribute def»</text><text fill=\"#000000\" font-family=\"sans-serif\" font-size=\"12\" lengthAdjust=\"spacingAndGlyphs\" textLength=\"19\" x=\"498.5\" y=\"113.1074\">Sig</text><line style=\"stroke: #383838; stroke-width: 1.5;\" x1=\"461.5\" x2=\"554.5\" y1=\"120.9375\" y2=\"120.9375\"/><text fill=\"#000000\" font-family=\"sans-serif\" font-size=\"11\" lengthAdjust=\"spacingAndGlyphs\" textLength=\"6\" x=\"466.5\" y=\"151.9526\">x</text><line style=\"stroke: #383838; stroke-width: 1.0;\" x1=\"461.5\" x2=\"480.5\" y1=\"135.3398\" y2=\"135.3398\"/><text fill=\"#000000\" font-family=\"sans-serif\" font-size=\"11\" lengthAdjust=\"spacingAndGlyphs\" textLength=\"55\" x=\"480.5\" y=\"138.6479\">attributes</text><line style=\"stroke: #383838; stroke-width: 1.0;\" x1=\"535.5\" x2=\"554.5\" y1=\"135.3398\" y2=\"135.3398\"/></a><!--MD5=[09b614a08d8cba4a07c9adeb5e0fee81]\n",
       "class E3--><a href=\"psysml:0109ef31-4e51-4de7-9ac0-eb82fbd89c67\" target=\"_top\" title=\"psysml:0109ef31-4e51-4de7-9ac0-eb82fbd89c67\" xlink:actuate=\"onRequest\" xlink:href=\"psysml:0109ef31-4e51-4de7-9ac0-eb82fbd89c67\" xlink:show=\"new\" xlink:title=\"psysml:0109ef31-4e51-4de7-9ac0-eb82fbd89c67\" xlink:type=\"simple\"><rect fill=\"#FFFFFF\" height=\"45.9375\" id=\"E3\" style=\"stroke: #383838; stroke-width: 1.5;\" width=\"95\" x=\"330.5\" y=\"98\"/><text fill=\"#000000\" font-family=\"sans-serif\" font-size=\"12\" font-style=\"italic\" lengthAdjust=\"spacingAndGlyphs\" textLength=\"93\" x=\"331.5\" y=\"114.1387\">«attribute def»</text><text fill=\"#000000\" font-family=\"sans-serif\" font-size=\"12\" lengthAdjust=\"spacingAndGlyphs\" textLength=\"22\" x=\"367\" y=\"128.1074\">Exit</text><line style=\"stroke: #383838; stroke-width: 1.5;\" x1=\"331.5\" x2=\"424.5\" y1=\"135.9375\" y2=\"135.9375\"/></a><!--MD5=[ebbe1d658d1005bcc118a6aa81145e00]\n",
       "class E4--><a href=\"psysml:64a2c9fa-aa89-4eff-b01c-ff58906cbde0\" target=\"_top\" title=\"psysml:64a2c9fa-aa89-4eff-b01c-ff58906cbde0\" xlink:actuate=\"onRequest\" xlink:href=\"psysml:64a2c9fa-aa89-4eff-b01c-ff58906cbde0\" xlink:show=\"new\" xlink:title=\"psysml:64a2c9fa-aa89-4eff-b01c-ff58906cbde0\" xlink:type=\"simple\"><rect fill=\"#FFFFFF\" height=\"45.9375\" id=\"E4\" rx=\"10\" ry=\"10\" style=\"stroke: #383838; stroke-width: 1.5;\" width=\"42\" x=\"253\" y=\"98\"/><text fill=\"#000000\" font-family=\"sans-serif\" font-size=\"12\" font-style=\"italic\" lengthAdjust=\"spacingAndGlyphs\" textLength=\"40\" x=\"254\" y=\"114.1387\">«part»</text><text fill=\"#000000\" font-family=\"sans-serif\" font-size=\"12\" lengthAdjust=\"spacingAndGlyphs\" textLength=\"8\" x=\"270\" y=\"128.1074\">p</text><line style=\"stroke: #383838; stroke-width: 1.5;\" x1=\"254\" x2=\"294\" y1=\"135.9375\" y2=\"135.9375\"/></a><!--MD5=[270fce915f116d4de14055a7c1d9a0f3]\n",
       "class E5--><a href=\"psysml:6519856a-88df-4cdc-a713-a9dddd16e281\" target=\"_top\" title=\"psysml:6519856a-88df-4cdc-a713-a9dddd16e281\" xlink:actuate=\"onRequest\" xlink:href=\"psysml:6519856a-88df-4cdc-a713-a9dddd16e281\" xlink:show=\"new\" xlink:title=\"psysml:6519856a-88df-4cdc-a713-a9dddd16e281\" xlink:type=\"simple\"><rect fill=\"#FFFFFF\" height=\"45.9375\" id=\"E5\" rx=\"10\" ry=\"10\" style=\"stroke: #383838; stroke-width: 1.5;\" width=\"55\" x=\"162.5\" y=\"98\"/><text fill=\"#000000\" font-family=\"sans-serif\" font-size=\"12\" font-style=\"italic\" lengthAdjust=\"spacingAndGlyphs\" textLength=\"53\" x=\"163.5\" y=\"114.1387\">«action»</text><text fill=\"#000000\" font-family=\"sans-serif\" font-size=\"12\" lengthAdjust=\"spacingAndGlyphs\" textLength=\"20\" x=\"180\" y=\"128.1074\">act</text><line style=\"stroke: #383838; stroke-width: 1.5;\" x1=\"163.5\" x2=\"216.5\" y1=\"135.9375\" y2=\"135.9375\"/></a><!--MD5=[60a26617385b1d2d0262a64233df1f8d]\n",
       "class E6--><a href=\"psysml:0bc7341d-f31b-4869-a064-1af20ff16fcc\" target=\"_top\" title=\"psysml:0bc7341d-f31b-4869-a064-1af20ff16fcc\" xlink:actuate=\"onRequest\" xlink:href=\"psysml:0bc7341d-f31b-4869-a064-1af20ff16fcc\" xlink:show=\"new\" xlink:title=\"psysml:0bc7341d-f31b-4869-a064-1af20ff16fcc\" xlink:type=\"simple\"><rect fill=\"#FFFFFF\" height=\"160.375\" id=\"E6\" style=\"stroke: #383838; stroke-width: 1.5;\" width=\"95\" x=\"32.5\" y=\"41\"/><text fill=\"#000000\" font-family=\"sans-serif\" font-size=\"12\" font-style=\"italic\" lengthAdjust=\"spacingAndGlyphs\" textLength=\"71\" x=\"44.5\" y=\"57.1387\">«state def»</text><text fill=\"#000000\" font-family=\"sans-serif\" font-size=\"12\" lengthAdjust=\"spacingAndGlyphs\" textLength=\"8\" x=\"76\" y=\"71.1074\">S</text><line style=\"stroke: #383838; stroke-width: 1.5;\" x1=\"33.5\" x2=\"126.5\" y1=\"78.9375\" y2=\"78.9375\"/><text fill=\"#000000\" font-family=\"sans-serif\" font-size=\"11\" lengthAdjust=\"spacingAndGlyphs\" textLength=\"17\" x=\"38.5\" y=\"109.9526\">act</text><text fill=\"#000000\" font-family=\"sans-serif\" font-size=\"11\" lengthAdjust=\"spacingAndGlyphs\" textLength=\"7\" x=\"38.5\" y=\"122.7573\">A</text><text fill=\"#000000\" font-family=\"sans-serif\" font-size=\"11\" lengthAdjust=\"spacingAndGlyphs\" textLength=\"8\" x=\"38.5\" y=\"135.562\">B</text><line style=\"stroke: #383838; stroke-width: 1.0;\" x1=\"33.5\" x2=\"36.5\" y1=\"93.3398\" y2=\"93.3398\"/><text fill=\"#000000\" font-family=\"sans-serif\" font-size=\"11\" lengthAdjust=\"spacingAndGlyphs\" textLength=\"87\" x=\"36.5\" y=\"96.6479\">performActions</text><line style=\"stroke: #383838; stroke-width: 1.0;\" x1=\"123.5\" x2=\"126.5\" y1=\"93.3398\" y2=\"93.3398\"/><text fill=\"#000000\" font-family=\"sans-serif\" font-size=\"11\" lengthAdjust=\"spacingAndGlyphs\" textLength=\"15\" x=\"38.5\" y=\"165.1714\">S1</text><line style=\"stroke: #383838; stroke-width: 1.0;\" x1=\"33.5\" x2=\"62\" y1=\"148.5586\" y2=\"148.5586\"/><text fill=\"#000000\" font-family=\"sans-serif\" font-size=\"11\" lengthAdjust=\"spacingAndGlyphs\" textLength=\"36\" x=\"62\" y=\"151.8667\">states</text><line style=\"stroke: #383838; stroke-width: 1.0;\" x1=\"98\" x2=\"126.5\" y1=\"148.5586\" y2=\"148.5586\"/><text fill=\"#000000\" font-family=\"sans-serif\" font-size=\"11\" lengthAdjust=\"spacingAndGlyphs\" textLength=\"7\" x=\"38.5\" y=\"194.7808\">T</text><line style=\"stroke: #383838; stroke-width: 1.0;\" x1=\"33.5\" x2=\"49.5\" y1=\"178.168\" y2=\"178.168\"/><text fill=\"#000000\" font-family=\"sans-serif\" font-size=\"11\" lengthAdjust=\"spacingAndGlyphs\" textLength=\"61\" x=\"49.5\" y=\"181.4761\">transitions</text><line style=\"stroke: #383838; stroke-width: 1.0;\" x1=\"110.5\" x2=\"126.5\" y1=\"178.168\" y2=\"178.168\"/></a><!--MD5=[1dd1bfd58a279cf63c5f349dbc8fc6a1]\n",
       "class E11--><a href=\"psysml:a085f23d-1115-47bd-987f-c38856471ed2\" target=\"_top\" title=\"psysml:a085f23d-1115-47bd-987f-c38856471ed2\" xlink:actuate=\"onRequest\" xlink:href=\"psysml:a085f23d-1115-47bd-987f-c38856471ed2\" xlink:show=\"new\" xlink:title=\"psysml:a085f23d-1115-47bd-987f-c38856471ed2\" xlink:type=\"simple\"><rect fill=\"#FFFFFF\" height=\"45.9375\" id=\"E11\" rx=\"10\" ry=\"10\" style=\"stroke: #383838; stroke-width: 1.5;\" width=\"49\" x=\"55.5\" y=\"261\"/><text fill=\"#000000\" font-family=\"sans-serif\" font-size=\"12\" font-style=\"italic\" lengthAdjust=\"spacingAndGlyphs\" textLength=\"47\" x=\"56.5\" y=\"277.1387\">«state»</text><text fill=\"#000000\" font-family=\"sans-serif\" font-size=\"12\" lengthAdjust=\"spacingAndGlyphs\" textLength=\"16\" x=\"72\" y=\"291.1074\">S2</text><line style=\"stroke: #383838; stroke-width: 1.5;\" x1=\"56.5\" x2=\"103.5\" y1=\"298.9375\" y2=\"298.9375\"/></a><!--MD5=[49a0ec8f00dab7302a31f22d0f0fe584]\n",
       "class E12--><a href=\"psysml:cfc90439-05ae-44f8-b88d-04fe860fe407\" target=\"_top\" title=\"psysml:cfc90439-05ae-44f8-b88d-04fe860fe407\" xlink:actuate=\"onRequest\" xlink:href=\"psysml:cfc90439-05ae-44f8-b88d-04fe860fe407\" xlink:show=\"new\" xlink:title=\"psysml:cfc90439-05ae-44f8-b88d-04fe860fe407\" xlink:type=\"simple\"><rect fill=\"#FFFFFF\" height=\"75.5469\" id=\"E12\" rx=\"10\" ry=\"10\" style=\"stroke: #383838; stroke-width: 1.5;\" width=\"90\" x=\"35\" y=\"367\"/><text fill=\"#000000\" font-family=\"sans-serif\" font-size=\"12\" font-style=\"italic\" lengthAdjust=\"spacingAndGlyphs\" textLength=\"88\" x=\"36\" y=\"383.1387\">«send action»</text><text fill=\"#000000\" font-family=\"sans-serif\" font-size=\"12\" lengthAdjust=\"spacingAndGlyphs\" textLength=\"55\" x=\"52.5\" y=\"397.1074\">doAction</text><line style=\"stroke: #383838; stroke-width: 1.5;\" x1=\"36\" x2=\"124\" y1=\"404.9375\" y2=\"404.9375\"/><text fill=\"#000000\" font-family=\"sans-serif\" font-size=\"11\" lengthAdjust=\"spacingAndGlyphs\" textLength=\"25\" x=\"41\" y=\"435.9526\">item</text><line style=\"stroke: #383838; stroke-width: 1.0;\" x1=\"36\" x2=\"42.5\" y1=\"419.3398\" y2=\"419.3398\"/><text fill=\"#000000\" font-family=\"sans-serif\" font-size=\"11\" lengthAdjust=\"spacingAndGlyphs\" textLength=\"75\" x=\"42.5\" y=\"422.6479\">itemFeatures</text><line style=\"stroke: #383838; stroke-width: 1.0;\" x1=\"117.5\" x2=\"124\" y1=\"419.3398\" y2=\"419.3398\"/></a><!--MD5=[1f5f03483f7de0d5b3680a7f6650997f]\n",
       "reverse link E6 to E11--><a href=\"psysml:a085f23d-1115-47bd-987f-c38856471ed2\" target=\"_top\" title=\"psysml:a085f23d-1115-47bd-987f-c38856471ed2\" xlink:actuate=\"onRequest\" xlink:href=\"psysml:a085f23d-1115-47bd-987f-c38856471ed2\" xlink:show=\"new\" xlink:title=\"psysml:a085f23d-1115-47bd-987f-c38856471ed2\" xlink:type=\"simple\"><path d=\"M80,214.17 C80,231.58 80,248.25 80,260.82 \" fill=\"none\" id=\"E6&lt;-E11\" style=\"stroke: #383838; stroke-width: 1.0;\"/><polygon fill=\"#383838\" points=\"80,201.09,76.0066,207.0944,80.0132,213.09,84.0066,207.0856,80,201.09\" style=\"stroke: #383838; stroke-width: 1.0;\"/></a><!--MD5=[94adabc162ce7e41b39f13be14fbaeb3]\n",
       "reverse link E11 to E12--><a href=\"psysml:cfc90439-05ae-44f8-b88d-04fe860fe407\" target=\"_top\" title=\"psysml:cfc90439-05ae-44f8-b88d-04fe860fe407\" xlink:actuate=\"onRequest\" xlink:href=\"psysml:cfc90439-05ae-44f8-b88d-04fe860fe407\" xlink:show=\"new\" xlink:title=\"psysml:cfc90439-05ae-44f8-b88d-04fe860fe407\" xlink:type=\"simple\"><path d=\"M80,320.23 C80,334.82 80,351.76 80,366.58 \" fill=\"none\" id=\"E11&lt;-E12\" style=\"stroke: #383838; stroke-width: 1.0;\"/><polygon fill=\"#FFFFFF\" points=\"80,307.1,76,313.1,80,319.1,84,313.1,80,307.1\" style=\"stroke: #383838; stroke-width: 1.0;\"/></a><!--MD5=[21bf36d2e69a16038c34930635564045]\n",
       "@startuml\r\n",
       "top to bottom direction\r\n",
       "skinparam monochrome true\r\n",
       "skinparam classbackgroundcolor white\r\n",
       "skinparam shadowing false\r\n",
       "skinparam wrapWidth 300\r\n",
       "hide circle\r\n",
       "\r\n",
       "package \"StateTest\" as E1  [[psysml:5e99c5ac-660c-4bcd-ba7f-80dc44a07c9e ]]  {\r\n",
       "comp def \"Sig\" as E2  <<(T,blue)attribute def>> [[psysml:408e0494-0708-476d-85d5-333a69b53e96 ]] {\r\n",
       "- - attributes - -\r\n",
       "x\r\n",
       "}\r\n",
       "comp def \"Exit\" as E3  <<(T,blue)attribute def>> [[psysml:0109ef31-4e51-4de7-9ac0-eb82fbd89c67 ]] {\r\n",
       "}\r\n",
       "comp usage \"p\" as E4  <<(T,blue)part>> [[psysml:64a2c9fa-aa89-4eff-b01c-ff58906cbde0 ]] {\r\n",
       "}\r\n",
       "comp usage \"act\" as E5  <<(T,blue)action>> [[psysml:6519856a-88df-4cdc-a713-a9dddd16e281 ]] {\r\n",
       "}\r\n",
       "comp def \"S\" as E6  <<(T,blue)state def>> [[psysml:0bc7341d-f31b-4869-a064-1af20ff16fcc ]] {\r\n",
       "- - performActions - -\r\n",
       "act\r\n",
       "A\r\n",
       "B\r\n",
       "- - states - -\r\n",
       "S1\r\n",
       "- - transitions - -\r\n",
       "T\r\n",
       "}\r\n",
       "comp usage \"S2\" as E11  <<(T,blue)state>> [[psysml:a085f23d-1115-47bd-987f-c38856471ed2 ]] {\r\n",
       "}\r\n",
       "comp usage \"doAction\" as E12 <<send action>> [[psysml:cfc90439-05ae-44f8-b88d-04fe860fe407 ]] {\r\n",
       "- - itemFeatures - -\r\n",
       "item\r\n",
       "}\r\n",
       "E6 *- - E11 [[psysml:a085f23d-1115-47bd-987f-c38856471ed2 ]] \r\n",
       "E11 o- - E12 [[psysml:cfc90439-05ae-44f8-b88d-04fe860fe407 ]] \r\n",
       "}\r\n",
       "@enduml\r\n",
       "\n",
       "PlantUML version 1.2020.13(Sat Jun 13 12:26:38 UTC 2020)\n",
       "(EPL source distribution)\n",
       "Java Runtime: OpenJDK Runtime Environment\n",
       "JVM: OpenJDK 64-Bit Server VM\n",
       "Default Encoding: UTF-8\n",
       "Language: en\n",
       "Country: null\n",
       "--></g></svg>"
      ]
     },
     "execution_count": 49,
     "metadata": {},
     "output_type": "execute_result"
    }
   ],
   "source": [
    "%viz --style=\"TB\" --view=\"Sequence\" \"StateTest\""
   ]
  },
  {
   "cell_type": "code",
   "execution_count": 50,
   "id": "australian-testimony",
   "metadata": {
    "execution": {
     "iopub.execute_input": "2021-03-26T13:02:49.223578Z",
     "iopub.status.busy": "2021-03-26T13:02:49.223178Z",
     "iopub.status.idle": "2021-03-26T13:02:49.268579Z",
     "shell.execute_reply": "2021-03-26T13:02:49.267271Z"
    }
   },
   "outputs": [
    {
     "data": {
      "image/svg+xml": [
       "<?xml version=\"1.0\" encoding=\"UTF-8\" standalone=\"no\"?><svg xmlns=\"http://www.w3.org/2000/svg\" xmlns:xlink=\"http://www.w3.org/1999/xlink\" contentScriptType=\"application/ecmascript\" contentStyleType=\"text/css\" height=\"570px\" preserveAspectRatio=\"none\" style=\"width:819px;height:570px;\" version=\"1.1\" viewBox=\"0 0 819 570\" width=\"819px\" zoomAndPan=\"magnify\"><defs/><g><!--MD5=[fbc87193dbaf4d95561dea2c320d4a47]\n",
       "cluster E1--><a href=\"psysml:5e99c5ac-660c-4bcd-ba7f-80dc44a07c9e\" target=\"_top\" title=\"psysml:5e99c5ac-660c-4bcd-ba7f-80dc44a07c9e\" xlink:actuate=\"onRequest\" xlink:href=\"psysml:5e99c5ac-660c-4bcd-ba7f-80dc44a07c9e\" xlink:show=\"new\" xlink:title=\"psysml:5e99c5ac-660c-4bcd-ba7f-80dc44a07c9e\" xlink:type=\"simple\"><polygon fill=\"#FFFFFF\" points=\"16,6,98,6,105,28.2969,797,28.2969,797,558,16,558,16,6\" style=\"stroke: #000000; stroke-width: 1.5;\"/><line style=\"stroke: #000000; stroke-width: 1.5;\" x1=\"16\" x2=\"105\" y1=\"28.2969\" y2=\"28.2969\"/><text fill=\"#000000\" font-family=\"sans-serif\" font-size=\"14\" font-weight=\"bold\" lengthAdjust=\"spacingAndGlyphs\" textLength=\"76\" x=\"20\" y=\"20.9951\">StateTest</text></a><!--MD5=[14e3b0961a2654348d326746436168a1]\n",
       "cluster E6--><a href=\"psysml:0bc7341d-f31b-4869-a064-1af20ff16fcc\" target=\"_top\" title=\"psysml:0bc7341d-f31b-4869-a064-1af20ff16fcc\" xlink:actuate=\"onRequest\" xlink:href=\"psysml:0bc7341d-f31b-4869-a064-1af20ff16fcc\" xlink:show=\"new\" xlink:title=\"psysml:0bc7341d-f31b-4869-a064-1af20ff16fcc\" xlink:type=\"simple\"><rect fill=\"#FFFFFF\" height=\"485\" id=\"E6\" style=\"stroke: #383838; stroke-width: 1.5;\" width=\"327\" x=\"446\" y=\"49\"/><rect fill=\"#F8F8F8\" height=\"37.9375\" style=\"stroke: #383838; stroke-width: 1.5;\" width=\"327\" x=\"446\" y=\"49\"/><text fill=\"#000000\" font-family=\"sans-serif\" font-size=\"12\" font-style=\"italic\" lengthAdjust=\"spacingAndGlyphs\" textLength=\"71\" x=\"574\" y=\"65.1387\">«state def»</text><text fill=\"#000000\" font-family=\"sans-serif\" font-size=\"12\" lengthAdjust=\"spacingAndGlyphs\" textLength=\"8\" x=\"605.5\" y=\"79.1074\">S</text><line style=\"stroke: #383838; stroke-width: 1.0;\" x1=\"446\" x2=\"773\" y1=\"132.8438\" y2=\"132.8438\"/><text fill=\"#000000\" font-family=\"sans-serif\" font-size=\"12\" font-weight=\"bold\" lengthAdjust=\"spacingAndGlyphs\" textLength=\"38\" x=\"451\" y=\"100.0762\">entry</text><text fill=\"#000000\" font-family=\"sans-serif\" font-size=\"12\" lengthAdjust=\"spacingAndGlyphs\" textLength=\"16\" x=\"489\" y=\"100.0762\">/ A</text><text fill=\"#000000\" font-family=\"sans-serif\" font-size=\"12\" font-weight=\"bold\" lengthAdjust=\"spacingAndGlyphs\" textLength=\"18\" x=\"451\" y=\"114.0449\">do</text><text fill=\"#000000\" font-family=\"sans-serif\" font-size=\"12\" lengthAdjust=\"spacingAndGlyphs\" textLength=\"16\" x=\"469\" y=\"114.0449\">/ B</text><text fill=\"#000000\" font-family=\"sans-serif\" font-size=\"12\" font-weight=\"bold\" lengthAdjust=\"spacingAndGlyphs\" textLength=\"26\" x=\"451\" y=\"128.0137\">exit</text><text fill=\"#000000\" font-family=\"sans-serif\" font-size=\"12\" lengthAdjust=\"spacingAndGlyphs\" textLength=\"28\" x=\"477\" y=\"128.0137\">/ act</text></a><!--MD5=[b4997ac47864f28c2f74865a473b2911]\n",
       "class E2--><a href=\"psysml:408e0494-0708-476d-85d5-333a69b53e96\" target=\"_top\" title=\"psysml:408e0494-0708-476d-85d5-333a69b53e96\" xlink:actuate=\"onRequest\" xlink:href=\"psysml:408e0494-0708-476d-85d5-333a69b53e96\" xlink:show=\"new\" xlink:title=\"psysml:408e0494-0708-476d-85d5-333a69b53e96\" xlink:type=\"simple\"><rect fill=\"#FFFFFF\" height=\"75.5469\" id=\"E2\" style=\"stroke: #383838; stroke-width: 1.5;\" width=\"95\" x=\"334.5\" y=\"119\"/><text fill=\"#000000\" font-family=\"sans-serif\" font-size=\"12\" font-style=\"italic\" lengthAdjust=\"spacingAndGlyphs\" textLength=\"93\" x=\"335.5\" y=\"135.1387\">«attribute def»</text><text fill=\"#000000\" font-family=\"sans-serif\" font-size=\"12\" lengthAdjust=\"spacingAndGlyphs\" textLength=\"19\" x=\"372.5\" y=\"149.1074\">Sig</text><line style=\"stroke: #383838; stroke-width: 1.5;\" x1=\"335.5\" x2=\"428.5\" y1=\"156.9375\" y2=\"156.9375\"/><text fill=\"#000000\" font-family=\"sans-serif\" font-size=\"11\" lengthAdjust=\"spacingAndGlyphs\" textLength=\"6\" x=\"340.5\" y=\"187.9526\">x</text><line style=\"stroke: #383838; stroke-width: 1.0;\" x1=\"335.5\" x2=\"354.5\" y1=\"171.3398\" y2=\"171.3398\"/><text fill=\"#000000\" font-family=\"sans-serif\" font-size=\"11\" lengthAdjust=\"spacingAndGlyphs\" textLength=\"55\" x=\"354.5\" y=\"174.6479\">attributes</text><line style=\"stroke: #383838; stroke-width: 1.0;\" x1=\"409.5\" x2=\"428.5\" y1=\"171.3398\" y2=\"171.3398\"/></a><!--MD5=[09b614a08d8cba4a07c9adeb5e0fee81]\n",
       "class E3--><a href=\"psysml:0109ef31-4e51-4de7-9ac0-eb82fbd89c67\" target=\"_top\" title=\"psysml:0109ef31-4e51-4de7-9ac0-eb82fbd89c67\" xlink:actuate=\"onRequest\" xlink:href=\"psysml:0109ef31-4e51-4de7-9ac0-eb82fbd89c67\" xlink:show=\"new\" xlink:title=\"psysml:0109ef31-4e51-4de7-9ac0-eb82fbd89c67\" xlink:type=\"simple\"><rect fill=\"#FFFFFF\" height=\"45.9375\" id=\"E3\" style=\"stroke: #383838; stroke-width: 1.5;\" width=\"95\" x=\"204.5\" y=\"134\"/><text fill=\"#000000\" font-family=\"sans-serif\" font-size=\"12\" font-style=\"italic\" lengthAdjust=\"spacingAndGlyphs\" textLength=\"93\" x=\"205.5\" y=\"150.1387\">«attribute def»</text><text fill=\"#000000\" font-family=\"sans-serif\" font-size=\"12\" lengthAdjust=\"spacingAndGlyphs\" textLength=\"22\" x=\"241\" y=\"164.1074\">Exit</text><line style=\"stroke: #383838; stroke-width: 1.5;\" x1=\"205.5\" x2=\"298.5\" y1=\"171.9375\" y2=\"171.9375\"/></a><!--MD5=[ebbe1d658d1005bcc118a6aa81145e00]\n",
       "class E4--><a href=\"psysml:64a2c9fa-aa89-4eff-b01c-ff58906cbde0\" target=\"_top\" title=\"psysml:64a2c9fa-aa89-4eff-b01c-ff58906cbde0\" xlink:actuate=\"onRequest\" xlink:href=\"psysml:64a2c9fa-aa89-4eff-b01c-ff58906cbde0\" xlink:show=\"new\" xlink:title=\"psysml:64a2c9fa-aa89-4eff-b01c-ff58906cbde0\" xlink:type=\"simple\"><rect fill=\"#FFFFFF\" height=\"45.9375\" id=\"E4\" rx=\"10\" ry=\"10\" style=\"stroke: #383838; stroke-width: 1.5;\" width=\"42\" x=\"127\" y=\"134\"/><text fill=\"#000000\" font-family=\"sans-serif\" font-size=\"12\" font-style=\"italic\" lengthAdjust=\"spacingAndGlyphs\" textLength=\"40\" x=\"128\" y=\"150.1387\">«part»</text><text fill=\"#000000\" font-family=\"sans-serif\" font-size=\"12\" lengthAdjust=\"spacingAndGlyphs\" textLength=\"8\" x=\"144\" y=\"164.1074\">p</text><line style=\"stroke: #383838; stroke-width: 1.5;\" x1=\"128\" x2=\"168\" y1=\"171.9375\" y2=\"171.9375\"/></a><g id=\"E1.E5\"><a href=\"psysml:6519856a-88df-4cdc-a713-a9dddd16e281\" target=\"_top\" title=\"psysml:6519856a-88df-4cdc-a713-a9dddd16e281\" xlink:actuate=\"onRequest\" xlink:href=\"psysml:6519856a-88df-4cdc-a713-a9dddd16e281\" xlink:show=\"new\" xlink:title=\"psysml:6519856a-88df-4cdc-a713-a9dddd16e281\" xlink:type=\"simple\"><rect fill=\"#FFFFFF\" height=\"42.9375\" id=\"E5\" rx=\"10\" ry=\"10\" style=\"stroke: #383838; stroke-width: 1.5;\" width=\"60\" x=\"32\" y=\"135.5\"/><rect fill=\"#F8F8F8\" height=\"37.9375\" rx=\"10\" ry=\"10\" style=\"stroke: #F8F8F8; stroke-width: 1.5;\" width=\"60\" x=\"32\" y=\"135.5\"/><rect fill=\"#F8F8F8\" height=\"10\" style=\"stroke: #F8F8F8; stroke-width: 1.5;\" width=\"60\" x=\"32\" y=\"163.4375\"/><rect fill=\"none\" height=\"42.9375\" id=\"E5\" rx=\"10\" ry=\"10\" style=\"stroke: #383838; stroke-width: 1.5;\" width=\"60\" x=\"32\" y=\"135.5\"/><text fill=\"#000000\" font-family=\"sans-serif\" font-size=\"12\" font-style=\"italic\" lengthAdjust=\"spacingAndGlyphs\" textLength=\"53\" x=\"35.5\" y=\"151.6387\">«action»</text><text fill=\"#000000\" font-family=\"sans-serif\" font-size=\"12\" lengthAdjust=\"spacingAndGlyphs\" textLength=\"20\" x=\"52\" y=\"165.6074\">act</text></a></g><ellipse cx=\"558\" cy=\"157\" fill=\"#000000\" rx=\"10\" ry=\"10\" style=\"stroke: none; stroke-width: 1.0;\"/><ellipse cx=\"558\" cy=\"508\" fill=\"none\" rx=\"10\" ry=\"10\" style=\"stroke: #000000; stroke-width: 1.0;\"/><ellipse cx=\"558.5\" cy=\"508.5\" fill=\"#000000\" rx=\"6\" ry=\"6\" style=\"stroke: none; stroke-width: 1.0;\"/><g id=\"E1.E6.E7\"><a href=\"psysml:70242e19-3f56-46b0-b4b5-fd0d440c29ee\" target=\"_top\" title=\"psysml:70242e19-3f56-46b0-b4b5-fd0d440c29ee\" xlink:actuate=\"onRequest\" xlink:href=\"psysml:70242e19-3f56-46b0-b4b5-fd0d440c29ee\" xlink:show=\"new\" xlink:title=\"psysml:70242e19-3f56-46b0-b4b5-fd0d440c29ee\" xlink:type=\"simple\"><rect fill=\"#FFFFFF\" height=\"40\" id=\"E7\" rx=\"10\" ry=\"10\" style=\"stroke: #383838; stroke-width: 1.5;\" width=\"50\" x=\"533\" y=\"256\"/><rect fill=\"#F8F8F8\" height=\"23.9688\" rx=\"10\" ry=\"10\" style=\"stroke: #F8F8F8; stroke-width: 1.5;\" width=\"50\" x=\"533\" y=\"256\"/><rect fill=\"#F8F8F8\" height=\"10\" style=\"stroke: #F8F8F8; stroke-width: 1.5;\" width=\"50\" x=\"533\" y=\"269.9688\"/><rect fill=\"none\" height=\"40\" id=\"E7\" rx=\"10\" ry=\"10\" style=\"stroke: #383838; stroke-width: 1.5;\" width=\"50\" x=\"533\" y=\"256\"/><text fill=\"#000000\" font-family=\"sans-serif\" font-size=\"12\" lengthAdjust=\"spacingAndGlyphs\" textLength=\"16\" x=\"550\" y=\"272.1387\">S1</text></a></g><g id=\"E1.E6.E8\"><a href=\"psysml:a085f23d-1115-47bd-987f-c38856471ed2\" target=\"_top\" title=\"psysml:a085f23d-1115-47bd-987f-c38856471ed2\" xlink:actuate=\"onRequest\" xlink:href=\"psysml:a085f23d-1115-47bd-987f-c38856471ed2\" xlink:show=\"new\" xlink:title=\"psysml:a085f23d-1115-47bd-987f-c38856471ed2\" xlink:type=\"simple\"><rect fill=\"#FFFFFF\" height=\"47.9375\" id=\"E8\" rx=\"10\" ry=\"10\" style=\"stroke: #383838; stroke-width: 1.5;\" width=\"50\" x=\"533\" y=\"373\"/><rect fill=\"#F8F8F8\" height=\"23.9688\" rx=\"10\" ry=\"10\" style=\"stroke: #F8F8F8; stroke-width: 1.5;\" width=\"50\" x=\"533\" y=\"373\"/><rect fill=\"#F8F8F8\" height=\"10\" style=\"stroke: #F8F8F8; stroke-width: 1.5;\" width=\"50\" x=\"533\" y=\"386.9688\"/><rect fill=\"none\" height=\"47.9375\" id=\"E8\" rx=\"10\" ry=\"10\" style=\"stroke: #383838; stroke-width: 1.5;\" width=\"50\" x=\"533\" y=\"373\"/><text fill=\"#000000\" font-family=\"sans-serif\" font-size=\"12\" lengthAdjust=\"spacingAndGlyphs\" textLength=\"16\" x=\"550\" y=\"389.1387\">S2</text><line style=\"stroke: #383838; stroke-width: 1.0;\" x1=\"533\" x2=\"583\" y1=\"396.9688\" y2=\"396.9688\"/><text fill=\"#000000\" font-family=\"sans-serif\" font-size=\"12\" font-weight=\"bold\" lengthAdjust=\"spacingAndGlyphs\" textLength=\"18\" x=\"538\" y=\"410.1074\">do</text><text fill=\"#000000\" font-family=\"sans-serif\" font-size=\"12\" lengthAdjust=\"spacingAndGlyphs\" textLength=\"4\" x=\"556\" y=\"410.1074\">/</text></a></g><!--MD5=[5a531d3a85f3339e6e197084acb48195]\n",
       "link *start*E6 to E7--><a href=\"psysml:43d9c4f9-ed20-4c00-a0b0-be6dc49a6894\" target=\"_top\" title=\"psysml:43d9c4f9-ed20-4c00-a0b0-be6dc49a6894\" xlink:actuate=\"onRequest\" xlink:href=\"psysml:43d9c4f9-ed20-4c00-a0b0-be6dc49a6894\" xlink:show=\"new\" xlink:title=\"psysml:43d9c4f9-ed20-4c00-a0b0-be6dc49a6894\" xlink:type=\"simple\"><path d=\"M558,167.18 C558,184.98 558,224.73 558,250.67 \" fill=\"none\" id=\"*start*E6-&gt;E7\" style=\"stroke: #383838; stroke-width: 1.0;\"/><polygon fill=\"#383838\" points=\"558,255.98,562,246.98,558,250.98,554,246.98,558,255.98\" style=\"stroke: #383838; stroke-width: 1.0;\"/></a><!--MD5=[7ec9a8babba89ddcae1318ca9fb3c814]\n",
       "link E8 to *end*E6--><a href=\"psysml:f955b7ee-57f2-4e8a-b602-a443c9a31c83\" target=\"_top\" title=\"psysml:f955b7ee-57f2-4e8a-b602-a443c9a31c83\" xlink:actuate=\"onRequest\" xlink:href=\"psysml:f955b7ee-57f2-4e8a-b602-a443c9a31c83\" xlink:show=\"new\" xlink:title=\"psysml:f955b7ee-57f2-4e8a-b602-a443c9a31c83\" xlink:type=\"simple\"><path d=\"M558,421.12 C558,442.75 558,474.39 558,492.62 \" fill=\"none\" id=\"E8-&gt;*end*E6\" style=\"stroke: #383838; stroke-width: 1.0;\"/><polygon fill=\"#383838\" points=\"558,497.82,562,488.82,558,492.82,554,488.82,558,497.82\" style=\"stroke: #383838; stroke-width: 1.0;\"/><text fill=\"#000000\" font-family=\"sans-serif\" font-size=\"13\" lengthAdjust=\"spacingAndGlyphs\" textLength=\"23\" x=\"559\" y=\"464.0669\">Exit</text></a><!--MD5=[79bc8f324ef4d02c541433f2e6e513c3]\n",
       "link E7 to E8--><a href=\"psysml:d37fdc60-36d2-41f0-83fe-622a63ffc619\" target=\"_top\" title=\"psysml:d37fdc60-36d2-41f0-83fe-622a63ffc619\" xlink:actuate=\"onRequest\" xlink:href=\"psysml:d37fdc60-36d2-41f0-83fe-622a63ffc619\" xlink:show=\"new\" xlink:title=\"psysml:d37fdc60-36d2-41f0-83fe-622a63ffc619\" xlink:type=\"simple\"><path d=\"M532.93,288.88 C518.69,297.12 502.12,309.56 494,326 C483.11,348.05 506.72,368.2 528.27,381.16 \" fill=\"none\" id=\"E7-&gt;E8\" style=\"stroke: #383838; stroke-width: 1.0;\"/><polygon fill=\"#383838\" points=\"532.83,383.82,527.0682,375.8324,528.5101,381.3024,523.0401,382.7443,532.83,383.82\" style=\"stroke: #383838; stroke-width: 1.0;\"/><text fill=\"#000000\" font-family=\"sans-serif\" font-size=\"13\" lengthAdjust=\"spacingAndGlyphs\" textLength=\"81\" x=\"495\" y=\"339.0669\">Sig /action D</text></a><!--MD5=[bfa3c8b0d15052fdf50ae9310b491027]\n",
       "link E8 to E7--><a href=\"psysml:b2ce6d4b-1a56-4d0e-ade4-ffb9136266c2\" target=\"_top\" title=\"psysml:b2ce6d4b-1a56-4d0e-ade4-ffb9136266c2\" xlink:actuate=\"onRequest\" xlink:href=\"psysml:b2ce6d4b-1a56-4d0e-ade4-ffb9136266c2\" xlink:show=\"new\" xlink:title=\"psysml:b2ce6d4b-1a56-4d0e-ade4-ffb9136266c2\" xlink:type=\"simple\"><path d=\"M572.17,372.99 C578.81,359.48 584.56,341.98 581,326 C579.1,317.49 575.56,308.72 571.82,300.99 \" fill=\"none\" id=\"E8-&gt;E7\" style=\"stroke: #383838; stroke-width: 1.0;\"/><polygon fill=\"#383838\" points=\"569.47,296.32,569.9298,306.1581,571.7118,300.7893,577.0806,302.5713,569.47,296.32\" style=\"stroke: #383838; stroke-width: 1.0;\"/><text fill=\"#000000\" font-family=\"sans-serif\" font-size=\"13\" lengthAdjust=\"spacingAndGlyphs\" textLength=\"135\" x=\"583\" y=\"339.0669\">Sig [true]/send s to p</text></a><!--MD5=[17642edb3ceb2bdeacc5580077830709]\n",
       "@startuml\r\n",
       "top to bottom direction\r\n",
       "skinparam monochrome true\r\n",
       "skinparam classbackgroundcolor white\r\n",
       "skinparam shadowing false\r\n",
       "skinparam wrapWidth 300\r\n",
       "hide circle\r\n",
       "\r\n",
       "package \"StateTest\" as E1  [[psysml:5e99c5ac-660c-4bcd-ba7f-80dc44a07c9e ]]  {\r\n",
       "comp def \"Sig\" as E2  <<(T,blue)attribute def>> [[psysml:408e0494-0708-476d-85d5-333a69b53e96 ]] {\r\n",
       "- - attributes - -\r\n",
       "x\r\n",
       "}\r\n",
       "comp def \"Exit\" as E3  <<(T,blue)attribute def>> [[psysml:0109ef31-4e51-4de7-9ac0-eb82fbd89c67 ]] {\r\n",
       "}\r\n",
       "comp usage \"p\" as E4  <<(T,blue)part>> [[psysml:64a2c9fa-aa89-4eff-b01c-ff58906cbde0 ]] {\r\n",
       "}\r\n",
       "rec usage \"act\" as E5  <<(T,blue)action>> [[psysml:6519856a-88df-4cdc-a713-a9dddd16e281 ]] {\r\n",
       "}\r\n",
       "\r\n",
       "rec def \"S\" as E6  <<(T,blue)state def>> [[psysml:0bc7341d-f31b-4869-a064-1af20ff16fcc ]] {\r\n",
       "rec usage \"S1\" as E7 [[psysml:70242e19-3f56-46b0-b4b5-fd0d440c29ee ]] {\r\n",
       "}\r\n",
       "\r\n",
       "rec usage \"S2\" as E8 [[psysml:a085f23d-1115-47bd-987f-c38856471ed2 ]] {\r\n",
       "desc \"S2\" as E8  : **do**/ \r\n",
       "}\r\n",
       "\r\n",
       "[*] - -> E7 [[psysml:43d9c4f9-ed20-4c00-a0b0-be6dc49a6894 ]] \r\n",
       "E8  - -> [*] [[psysml:f955b7ee-57f2-4e8a-b602-a443c9a31c83 ]] : Exit \r\n",
       "desc \"S\" as E6  : **entry**/ A\r\n",
       "desc \"S\" as E6  : **do**/ B\r\n",
       "desc \"S\" as E6  : **exit**/ act \r\n",
       "}\r\n",
       "\r\n",
       "E7  - -> E8 [[psysml:d37fdc60-36d2-41f0-83fe-622a63ffc619 ]] : Sig /action D\r\n",
       "E8  - -> E7 [[psysml:b2ce6d4b-1a56-4d0e-ade4-ffb9136266c2 ]] : Sig [true]/send s to p\r\n",
       "}\r\n",
       "@enduml\r\n",
       "\n",
       "PlantUML version 1.2020.13(Sat Jun 13 12:26:38 UTC 2020)\n",
       "(EPL source distribution)\n",
       "Java Runtime: OpenJDK Runtime Environment\n",
       "JVM: OpenJDK 64-Bit Server VM\n",
       "Default Encoding: UTF-8\n",
       "Language: en\n",
       "Country: null\n",
       "--></g></svg>"
      ]
     },
     "execution_count": 50,
     "metadata": {},
     "output_type": "execute_result"
    }
   ],
   "source": [
    "%viz --style=\"TB\" --view=\"MIXED\" \"StateTest\""
   ]
  },
  {
   "cell_type": "code",
   "execution_count": 51,
   "id": "current-casino",
   "metadata": {
    "execution": {
     "iopub.execute_input": "2021-03-26T13:02:49.319713Z",
     "iopub.status.busy": "2021-03-26T13:02:49.318731Z",
     "iopub.status.idle": "2021-03-26T13:02:49.361262Z",
     "shell.execute_reply": "2021-03-26T13:02:49.359851Z"
    }
   },
   "outputs": [
    {
     "data": {
      "image/svg+xml": [
       "<?xml version=\"1.0\" encoding=\"UTF-8\" standalone=\"no\"?><svg xmlns=\"http://www.w3.org/2000/svg\" xmlns:xlink=\"http://www.w3.org/1999/xlink\" contentScriptType=\"application/ecmascript\" contentStyleType=\"text/css\" height=\"570px\" preserveAspectRatio=\"none\" style=\"width:819px;height:570px;\" version=\"1.1\" viewBox=\"0 0 819 570\" width=\"819px\" zoomAndPan=\"magnify\"><defs/><g><!--MD5=[fbc87193dbaf4d95561dea2c320d4a47]\n",
       "cluster E1--><a href=\"psysml:5e99c5ac-660c-4bcd-ba7f-80dc44a07c9e\" target=\"_top\" title=\"psysml:5e99c5ac-660c-4bcd-ba7f-80dc44a07c9e\" xlink:actuate=\"onRequest\" xlink:href=\"psysml:5e99c5ac-660c-4bcd-ba7f-80dc44a07c9e\" xlink:show=\"new\" xlink:title=\"psysml:5e99c5ac-660c-4bcd-ba7f-80dc44a07c9e\" xlink:type=\"simple\"><polygon fill=\"#FFFFFF\" points=\"16,6,98,6,105,28.2969,797,28.2969,797,558,16,558,16,6\" style=\"stroke: #000000; stroke-width: 1.5;\"/><line style=\"stroke: #000000; stroke-width: 1.5;\" x1=\"16\" x2=\"105\" y1=\"28.2969\" y2=\"28.2969\"/><text fill=\"#000000\" font-family=\"sans-serif\" font-size=\"14\" font-weight=\"bold\" lengthAdjust=\"spacingAndGlyphs\" textLength=\"76\" x=\"20\" y=\"20.9951\">StateTest</text></a><!--MD5=[14e3b0961a2654348d326746436168a1]\n",
       "cluster E6--><a href=\"psysml:0bc7341d-f31b-4869-a064-1af20ff16fcc\" target=\"_top\" title=\"psysml:0bc7341d-f31b-4869-a064-1af20ff16fcc\" xlink:actuate=\"onRequest\" xlink:href=\"psysml:0bc7341d-f31b-4869-a064-1af20ff16fcc\" xlink:show=\"new\" xlink:title=\"psysml:0bc7341d-f31b-4869-a064-1af20ff16fcc\" xlink:type=\"simple\"><rect fill=\"#FFFFFF\" height=\"485\" id=\"E6\" style=\"stroke: #383838; stroke-width: 1.5;\" width=\"327\" x=\"446\" y=\"49\"/><rect fill=\"#F8F8F8\" height=\"37.9375\" style=\"stroke: #383838; stroke-width: 1.5;\" width=\"327\" x=\"446\" y=\"49\"/><text fill=\"#000000\" font-family=\"sans-serif\" font-size=\"12\" font-style=\"italic\" lengthAdjust=\"spacingAndGlyphs\" textLength=\"71\" x=\"574\" y=\"65.1387\">«state def»</text><text fill=\"#000000\" font-family=\"sans-serif\" font-size=\"12\" lengthAdjust=\"spacingAndGlyphs\" textLength=\"8\" x=\"605.5\" y=\"79.1074\">S</text><line style=\"stroke: #383838; stroke-width: 1.0;\" x1=\"446\" x2=\"773\" y1=\"132.8438\" y2=\"132.8438\"/><text fill=\"#000000\" font-family=\"sans-serif\" font-size=\"12\" font-weight=\"bold\" lengthAdjust=\"spacingAndGlyphs\" textLength=\"38\" x=\"451\" y=\"100.0762\">entry</text><text fill=\"#000000\" font-family=\"sans-serif\" font-size=\"12\" lengthAdjust=\"spacingAndGlyphs\" textLength=\"16\" x=\"489\" y=\"100.0762\">/ A</text><text fill=\"#000000\" font-family=\"sans-serif\" font-size=\"12\" font-weight=\"bold\" lengthAdjust=\"spacingAndGlyphs\" textLength=\"18\" x=\"451\" y=\"114.0449\">do</text><text fill=\"#000000\" font-family=\"sans-serif\" font-size=\"12\" lengthAdjust=\"spacingAndGlyphs\" textLength=\"16\" x=\"469\" y=\"114.0449\">/ B</text><text fill=\"#000000\" font-family=\"sans-serif\" font-size=\"12\" font-weight=\"bold\" lengthAdjust=\"spacingAndGlyphs\" textLength=\"26\" x=\"451\" y=\"128.0137\">exit</text><text fill=\"#000000\" font-family=\"sans-serif\" font-size=\"12\" lengthAdjust=\"spacingAndGlyphs\" textLength=\"28\" x=\"477\" y=\"128.0137\">/ act</text></a><!--MD5=[b4997ac47864f28c2f74865a473b2911]\n",
       "class E2--><a href=\"psysml:408e0494-0708-476d-85d5-333a69b53e96\" target=\"_top\" title=\"psysml:408e0494-0708-476d-85d5-333a69b53e96\" xlink:actuate=\"onRequest\" xlink:href=\"psysml:408e0494-0708-476d-85d5-333a69b53e96\" xlink:show=\"new\" xlink:title=\"psysml:408e0494-0708-476d-85d5-333a69b53e96\" xlink:type=\"simple\"><rect fill=\"#FFFFFF\" height=\"75.5469\" id=\"E2\" style=\"stroke: #383838; stroke-width: 1.5;\" width=\"95\" x=\"334.5\" y=\"119\"/><text fill=\"#000000\" font-family=\"sans-serif\" font-size=\"12\" font-style=\"italic\" lengthAdjust=\"spacingAndGlyphs\" textLength=\"93\" x=\"335.5\" y=\"135.1387\">«attribute def»</text><text fill=\"#000000\" font-family=\"sans-serif\" font-size=\"12\" lengthAdjust=\"spacingAndGlyphs\" textLength=\"19\" x=\"372.5\" y=\"149.1074\">Sig</text><line style=\"stroke: #383838; stroke-width: 1.5;\" x1=\"335.5\" x2=\"428.5\" y1=\"156.9375\" y2=\"156.9375\"/><text fill=\"#000000\" font-family=\"sans-serif\" font-size=\"11\" lengthAdjust=\"spacingAndGlyphs\" textLength=\"6\" x=\"340.5\" y=\"187.9526\">x</text><line style=\"stroke: #383838; stroke-width: 1.0;\" x1=\"335.5\" x2=\"354.5\" y1=\"171.3398\" y2=\"171.3398\"/><text fill=\"#000000\" font-family=\"sans-serif\" font-size=\"11\" lengthAdjust=\"spacingAndGlyphs\" textLength=\"55\" x=\"354.5\" y=\"174.6479\">attributes</text><line style=\"stroke: #383838; stroke-width: 1.0;\" x1=\"409.5\" x2=\"428.5\" y1=\"171.3398\" y2=\"171.3398\"/></a><!--MD5=[09b614a08d8cba4a07c9adeb5e0fee81]\n",
       "class E3--><a href=\"psysml:0109ef31-4e51-4de7-9ac0-eb82fbd89c67\" target=\"_top\" title=\"psysml:0109ef31-4e51-4de7-9ac0-eb82fbd89c67\" xlink:actuate=\"onRequest\" xlink:href=\"psysml:0109ef31-4e51-4de7-9ac0-eb82fbd89c67\" xlink:show=\"new\" xlink:title=\"psysml:0109ef31-4e51-4de7-9ac0-eb82fbd89c67\" xlink:type=\"simple\"><rect fill=\"#FFFFFF\" height=\"45.9375\" id=\"E3\" style=\"stroke: #383838; stroke-width: 1.5;\" width=\"95\" x=\"204.5\" y=\"134\"/><text fill=\"#000000\" font-family=\"sans-serif\" font-size=\"12\" font-style=\"italic\" lengthAdjust=\"spacingAndGlyphs\" textLength=\"93\" x=\"205.5\" y=\"150.1387\">«attribute def»</text><text fill=\"#000000\" font-family=\"sans-serif\" font-size=\"12\" lengthAdjust=\"spacingAndGlyphs\" textLength=\"22\" x=\"241\" y=\"164.1074\">Exit</text><line style=\"stroke: #383838; stroke-width: 1.5;\" x1=\"205.5\" x2=\"298.5\" y1=\"171.9375\" y2=\"171.9375\"/></a><!--MD5=[ebbe1d658d1005bcc118a6aa81145e00]\n",
       "class E4--><a href=\"psysml:64a2c9fa-aa89-4eff-b01c-ff58906cbde0\" target=\"_top\" title=\"psysml:64a2c9fa-aa89-4eff-b01c-ff58906cbde0\" xlink:actuate=\"onRequest\" xlink:href=\"psysml:64a2c9fa-aa89-4eff-b01c-ff58906cbde0\" xlink:show=\"new\" xlink:title=\"psysml:64a2c9fa-aa89-4eff-b01c-ff58906cbde0\" xlink:type=\"simple\"><rect fill=\"#FFFFFF\" height=\"45.9375\" id=\"E4\" rx=\"10\" ry=\"10\" style=\"stroke: #383838; stroke-width: 1.5;\" width=\"42\" x=\"127\" y=\"134\"/><text fill=\"#000000\" font-family=\"sans-serif\" font-size=\"12\" font-style=\"italic\" lengthAdjust=\"spacingAndGlyphs\" textLength=\"40\" x=\"128\" y=\"150.1387\">«part»</text><text fill=\"#000000\" font-family=\"sans-serif\" font-size=\"12\" lengthAdjust=\"spacingAndGlyphs\" textLength=\"8\" x=\"144\" y=\"164.1074\">p</text><line style=\"stroke: #383838; stroke-width: 1.5;\" x1=\"128\" x2=\"168\" y1=\"171.9375\" y2=\"171.9375\"/></a><g id=\"E1.E5\"><a href=\"psysml:6519856a-88df-4cdc-a713-a9dddd16e281\" target=\"_top\" title=\"psysml:6519856a-88df-4cdc-a713-a9dddd16e281\" xlink:actuate=\"onRequest\" xlink:href=\"psysml:6519856a-88df-4cdc-a713-a9dddd16e281\" xlink:show=\"new\" xlink:title=\"psysml:6519856a-88df-4cdc-a713-a9dddd16e281\" xlink:type=\"simple\"><rect fill=\"#FFFFFF\" height=\"42.9375\" id=\"E5\" rx=\"10\" ry=\"10\" style=\"stroke: #383838; stroke-width: 1.5;\" width=\"60\" x=\"32\" y=\"135.5\"/><rect fill=\"#F8F8F8\" height=\"37.9375\" rx=\"10\" ry=\"10\" style=\"stroke: #F8F8F8; stroke-width: 1.5;\" width=\"60\" x=\"32\" y=\"135.5\"/><rect fill=\"#F8F8F8\" height=\"10\" style=\"stroke: #F8F8F8; stroke-width: 1.5;\" width=\"60\" x=\"32\" y=\"163.4375\"/><rect fill=\"none\" height=\"42.9375\" id=\"E5\" rx=\"10\" ry=\"10\" style=\"stroke: #383838; stroke-width: 1.5;\" width=\"60\" x=\"32\" y=\"135.5\"/><text fill=\"#000000\" font-family=\"sans-serif\" font-size=\"12\" font-style=\"italic\" lengthAdjust=\"spacingAndGlyphs\" textLength=\"53\" x=\"35.5\" y=\"151.6387\">«action»</text><text fill=\"#000000\" font-family=\"sans-serif\" font-size=\"12\" lengthAdjust=\"spacingAndGlyphs\" textLength=\"20\" x=\"52\" y=\"165.6074\">act</text></a></g><ellipse cx=\"558\" cy=\"157\" fill=\"#000000\" rx=\"10\" ry=\"10\" style=\"stroke: none; stroke-width: 1.0;\"/><ellipse cx=\"558\" cy=\"508\" fill=\"none\" rx=\"10\" ry=\"10\" style=\"stroke: #000000; stroke-width: 1.0;\"/><ellipse cx=\"558.5\" cy=\"508.5\" fill=\"#000000\" rx=\"6\" ry=\"6\" style=\"stroke: none; stroke-width: 1.0;\"/><g id=\"E1.E6.E7\"><a href=\"psysml:70242e19-3f56-46b0-b4b5-fd0d440c29ee\" target=\"_top\" title=\"psysml:70242e19-3f56-46b0-b4b5-fd0d440c29ee\" xlink:actuate=\"onRequest\" xlink:href=\"psysml:70242e19-3f56-46b0-b4b5-fd0d440c29ee\" xlink:show=\"new\" xlink:title=\"psysml:70242e19-3f56-46b0-b4b5-fd0d440c29ee\" xlink:type=\"simple\"><rect fill=\"#FFFFFF\" height=\"40\" id=\"E7\" rx=\"10\" ry=\"10\" style=\"stroke: #383838; stroke-width: 1.5;\" width=\"50\" x=\"533\" y=\"256\"/><rect fill=\"#F8F8F8\" height=\"23.9688\" rx=\"10\" ry=\"10\" style=\"stroke: #F8F8F8; stroke-width: 1.5;\" width=\"50\" x=\"533\" y=\"256\"/><rect fill=\"#F8F8F8\" height=\"10\" style=\"stroke: #F8F8F8; stroke-width: 1.5;\" width=\"50\" x=\"533\" y=\"269.9688\"/><rect fill=\"none\" height=\"40\" id=\"E7\" rx=\"10\" ry=\"10\" style=\"stroke: #383838; stroke-width: 1.5;\" width=\"50\" x=\"533\" y=\"256\"/><text fill=\"#000000\" font-family=\"sans-serif\" font-size=\"12\" lengthAdjust=\"spacingAndGlyphs\" textLength=\"16\" x=\"550\" y=\"272.1387\">S1</text></a></g><g id=\"E1.E6.E8\"><a href=\"psysml:a085f23d-1115-47bd-987f-c38856471ed2\" target=\"_top\" title=\"psysml:a085f23d-1115-47bd-987f-c38856471ed2\" xlink:actuate=\"onRequest\" xlink:href=\"psysml:a085f23d-1115-47bd-987f-c38856471ed2\" xlink:show=\"new\" xlink:title=\"psysml:a085f23d-1115-47bd-987f-c38856471ed2\" xlink:type=\"simple\"><rect fill=\"#FFFFFF\" height=\"47.9375\" id=\"E8\" rx=\"10\" ry=\"10\" style=\"stroke: #383838; stroke-width: 1.5;\" width=\"50\" x=\"533\" y=\"373\"/><rect fill=\"#F8F8F8\" height=\"23.9688\" rx=\"10\" ry=\"10\" style=\"stroke: #F8F8F8; stroke-width: 1.5;\" width=\"50\" x=\"533\" y=\"373\"/><rect fill=\"#F8F8F8\" height=\"10\" style=\"stroke: #F8F8F8; stroke-width: 1.5;\" width=\"50\" x=\"533\" y=\"386.9688\"/><rect fill=\"none\" height=\"47.9375\" id=\"E8\" rx=\"10\" ry=\"10\" style=\"stroke: #383838; stroke-width: 1.5;\" width=\"50\" x=\"533\" y=\"373\"/><text fill=\"#000000\" font-family=\"sans-serif\" font-size=\"12\" lengthAdjust=\"spacingAndGlyphs\" textLength=\"16\" x=\"550\" y=\"389.1387\">S2</text><line style=\"stroke: #383838; stroke-width: 1.0;\" x1=\"533\" x2=\"583\" y1=\"396.9688\" y2=\"396.9688\"/><text fill=\"#000000\" font-family=\"sans-serif\" font-size=\"12\" font-weight=\"bold\" lengthAdjust=\"spacingAndGlyphs\" textLength=\"18\" x=\"538\" y=\"410.1074\">do</text><text fill=\"#000000\" font-family=\"sans-serif\" font-size=\"12\" lengthAdjust=\"spacingAndGlyphs\" textLength=\"4\" x=\"556\" y=\"410.1074\">/</text></a></g><!--MD5=[5a531d3a85f3339e6e197084acb48195]\n",
       "link *start*E6 to E7--><a href=\"psysml:43d9c4f9-ed20-4c00-a0b0-be6dc49a6894\" target=\"_top\" title=\"psysml:43d9c4f9-ed20-4c00-a0b0-be6dc49a6894\" xlink:actuate=\"onRequest\" xlink:href=\"psysml:43d9c4f9-ed20-4c00-a0b0-be6dc49a6894\" xlink:show=\"new\" xlink:title=\"psysml:43d9c4f9-ed20-4c00-a0b0-be6dc49a6894\" xlink:type=\"simple\"><path d=\"M558,167.15 C558,167.15 558,250.67 558,250.67 \" fill=\"none\" id=\"*start*E6-&gt;E7\" style=\"stroke: #383838; stroke-width: 1.0;\"/><polygon fill=\"#383838\" points=\"558,255.67,562,246.67,558,250.67,554,246.67,558,255.67\" style=\"stroke: #383838; stroke-width: 1.0;\"/></a><!--MD5=[7ec9a8babba89ddcae1318ca9fb3c814]\n",
       "link E8 to *end*E6--><a href=\"psysml:f955b7ee-57f2-4e8a-b602-a443c9a31c83\" target=\"_top\" title=\"psysml:f955b7ee-57f2-4e8a-b602-a443c9a31c83\" xlink:actuate=\"onRequest\" xlink:href=\"psysml:f955b7ee-57f2-4e8a-b602-a443c9a31c83\" xlink:show=\"new\" xlink:title=\"psysml:f955b7ee-57f2-4e8a-b602-a443c9a31c83\" xlink:type=\"simple\"><path d=\"M558,421.09 C558,421.09 558,492.94 558,492.94 \" fill=\"none\" id=\"E8-&gt;*end*E6\" style=\"stroke: #383838; stroke-width: 1.0;\"/><polygon fill=\"#383838\" points=\"558,497.94,562,488.94,558,492.94,554,488.94,558,497.94\" style=\"stroke: #383838; stroke-width: 1.0;\"/><text fill=\"#000000\" font-family=\"sans-serif\" font-size=\"13\" lengthAdjust=\"spacingAndGlyphs\" textLength=\"23\" x=\"559\" y=\"464.0669\">Exit</text></a><!--MD5=[79bc8f324ef4d02c541433f2e6e513c3]\n",
       "link E7 to E8--><a href=\"psysml:d37fdc60-36d2-41f0-83fe-622a63ffc619\" target=\"_top\" title=\"psysml:d37fdc60-36d2-41f0-83fe-622a63ffc619\" xlink:actuate=\"onRequest\" xlink:href=\"psysml:d37fdc60-36d2-41f0-83fe-622a63ffc619\" xlink:show=\"new\" xlink:title=\"psysml:d37fdc60-36d2-41f0-83fe-622a63ffc619\" xlink:type=\"simple\"><path d=\"M549.67,296.25 C549.67,296.25 549.67,367.93 549.67,367.93 \" fill=\"none\" id=\"E7-&gt;E8\" style=\"stroke: #383838; stroke-width: 1.0;\"/><polygon fill=\"#383838\" points=\"549.67,372.93,553.67,363.93,549.67,367.93,545.67,363.93,549.67,372.93\" style=\"stroke: #383838; stroke-width: 1.0;\"/><text fill=\"#000000\" font-family=\"sans-serif\" font-size=\"13\" lengthAdjust=\"spacingAndGlyphs\" textLength=\"81\" x=\"498\" y=\"339.0669\">Sig /action D</text></a><!--MD5=[bfa3c8b0d15052fdf50ae9310b491027]\n",
       "link E8 to E7--><a href=\"psysml:b2ce6d4b-1a56-4d0e-ade4-ffb9136266c2\" target=\"_top\" title=\"psysml:b2ce6d4b-1a56-4d0e-ade4-ffb9136266c2\" xlink:actuate=\"onRequest\" xlink:href=\"psysml:b2ce6d4b-1a56-4d0e-ade4-ffb9136266c2\" xlink:show=\"new\" xlink:title=\"psysml:b2ce6d4b-1a56-4d0e-ade4-ffb9136266c2\" xlink:type=\"simple\"><path d=\"M566.33,372.8 C566.33,372.8 566.33,301.14 566.33,301.14 \" fill=\"none\" id=\"E8-&gt;E7\" style=\"stroke: #383838; stroke-width: 1.0;\"/><polygon fill=\"#383838\" points=\"566.33,296.14,562.33,305.14,566.33,301.14,570.33,305.14,566.33,296.14\" style=\"stroke: #383838; stroke-width: 1.0;\"/><text fill=\"#000000\" font-family=\"sans-serif\" font-size=\"13\" lengthAdjust=\"spacingAndGlyphs\" textLength=\"135\" x=\"621\" y=\"339.0669\">Sig [true]/send s to p</text></a><!--MD5=[fa1f6d00ccfc677604cbfd2b72d18b24]\n",
       "@startuml\r\n",
       "skinparam linetype ortho\r\n",
       "skinparam monochrome true\r\n",
       "skinparam classbackgroundcolor white\r\n",
       "skinparam shadowing false\r\n",
       "skinparam wrapWidth 300\r\n",
       "hide circle\r\n",
       "\r\n",
       "package \"StateTest\" as E1  [[psysml:5e99c5ac-660c-4bcd-ba7f-80dc44a07c9e ]]  {\r\n",
       "comp def \"Sig\" as E2  <<(T,blue)attribute def>> [[psysml:408e0494-0708-476d-85d5-333a69b53e96 ]] {\r\n",
       "- - attributes - -\r\n",
       "x\r\n",
       "}\r\n",
       "comp def \"Exit\" as E3  <<(T,blue)attribute def>> [[psysml:0109ef31-4e51-4de7-9ac0-eb82fbd89c67 ]] {\r\n",
       "}\r\n",
       "comp usage \"p\" as E4  <<(T,blue)part>> [[psysml:64a2c9fa-aa89-4eff-b01c-ff58906cbde0 ]] {\r\n",
       "}\r\n",
       "rec usage \"act\" as E5  <<(T,blue)action>> [[psysml:6519856a-88df-4cdc-a713-a9dddd16e281 ]] {\r\n",
       "}\r\n",
       "\r\n",
       "rec def \"S\" as E6  <<(T,blue)state def>> [[psysml:0bc7341d-f31b-4869-a064-1af20ff16fcc ]] {\r\n",
       "rec usage \"S1\" as E7 [[psysml:70242e19-3f56-46b0-b4b5-fd0d440c29ee ]] {\r\n",
       "}\r\n",
       "\r\n",
       "rec usage \"S2\" as E8 [[psysml:a085f23d-1115-47bd-987f-c38856471ed2 ]] {\r\n",
       "desc \"S2\" as E8  : **do**/ \r\n",
       "}\r\n",
       "\r\n",
       "[*] - -> E7 [[psysml:43d9c4f9-ed20-4c00-a0b0-be6dc49a6894 ]] \r\n",
       "E8  - -> [*] [[psysml:f955b7ee-57f2-4e8a-b602-a443c9a31c83 ]] : Exit \r\n",
       "desc \"S\" as E6  : **entry**/ A\r\n",
       "desc \"S\" as E6  : **do**/ B\r\n",
       "desc \"S\" as E6  : **exit**/ act \r\n",
       "}\r\n",
       "\r\n",
       "E7  - -> E8 [[psysml:d37fdc60-36d2-41f0-83fe-622a63ffc619 ]] : Sig /action D\r\n",
       "E8  - -> E7 [[psysml:b2ce6d4b-1a56-4d0e-ade4-ffb9136266c2 ]] : Sig [true]/send s to p\r\n",
       "}\r\n",
       "@enduml\r\n",
       "\n",
       "PlantUML version 1.2020.13(Sat Jun 13 12:26:38 UTC 2020)\n",
       "(EPL source distribution)\n",
       "Java Runtime: OpenJDK Runtime Environment\n",
       "JVM: OpenJDK 64-Bit Server VM\n",
       "Default Encoding: UTF-8\n",
       "Language: en\n",
       "Country: null\n",
       "--></g></svg>"
      ]
     },
     "execution_count": 51,
     "metadata": {},
     "output_type": "execute_result"
    }
   ],
   "source": [
    "%viz --style=\"ORTHOLINE\" --view=\"Default\" \"StateTest\""
   ]
  },
  {
   "cell_type": "code",
   "execution_count": 52,
   "id": "composite-selling",
   "metadata": {
    "execution": {
     "iopub.execute_input": "2021-03-26T13:02:49.412058Z",
     "iopub.status.busy": "2021-03-26T13:02:49.411495Z",
     "iopub.status.idle": "2021-03-26T13:02:49.520256Z",
     "shell.execute_reply": "2021-03-26T13:02:49.518762Z"
    }
   },
   "outputs": [
    {
     "data": {
      "image/svg+xml": [
       "<?xml version=\"1.0\" encoding=\"UTF-8\" standalone=\"no\"?><svg xmlns=\"http://www.w3.org/2000/svg\" xmlns:xlink=\"http://www.w3.org/1999/xlink\" contentScriptType=\"application/ecmascript\" contentStyleType=\"text/css\" height=\"471px\" preserveAspectRatio=\"none\" style=\"width:594px;height:471px;\" version=\"1.1\" viewBox=\"0 0 594 471\" width=\"594px\" zoomAndPan=\"magnify\"><defs/><g><!--MD5=[fbc87193dbaf4d95561dea2c320d4a47]\n",
       "cluster E1--><a href=\"psysml:5e99c5ac-660c-4bcd-ba7f-80dc44a07c9e\" target=\"_top\" title=\"psysml:5e99c5ac-660c-4bcd-ba7f-80dc44a07c9e\" xlink:actuate=\"onRequest\" xlink:href=\"psysml:5e99c5ac-660c-4bcd-ba7f-80dc44a07c9e\" xlink:show=\"new\" xlink:title=\"psysml:5e99c5ac-660c-4bcd-ba7f-80dc44a07c9e\" xlink:type=\"simple\"><polygon fill=\"#FFFFFF\" points=\"16,6,98,6,105,28.2969,572,28.2969,572,459,16,459,16,6\" style=\"stroke: #000000; stroke-width: 1.5;\"/><line style=\"stroke: #000000; stroke-width: 1.5;\" x1=\"16\" x2=\"105\" y1=\"28.2969\" y2=\"28.2969\"/><text fill=\"#000000\" font-family=\"sans-serif\" font-size=\"14\" font-weight=\"bold\" lengthAdjust=\"spacingAndGlyphs\" textLength=\"76\" x=\"20\" y=\"20.9951\">StateTest</text></a><!--MD5=[b4997ac47864f28c2f74865a473b2911]\n",
       "class E2--><a href=\"psysml:408e0494-0708-476d-85d5-333a69b53e96\" target=\"_top\" title=\"psysml:408e0494-0708-476d-85d5-333a69b53e96\" xlink:actuate=\"onRequest\" xlink:href=\"psysml:408e0494-0708-476d-85d5-333a69b53e96\" xlink:show=\"new\" xlink:title=\"psysml:408e0494-0708-476d-85d5-333a69b53e96\" xlink:type=\"simple\"><rect fill=\"#FFFFFF\" height=\"75.5469\" id=\"E2\" style=\"stroke: #383838; stroke-width: 1.5;\" width=\"95\" x=\"460.5\" y=\"83\"/><text fill=\"#000000\" font-family=\"sans-serif\" font-size=\"12\" font-style=\"italic\" lengthAdjust=\"spacingAndGlyphs\" textLength=\"93\" x=\"461.5\" y=\"99.1387\">«attribute def»</text><text fill=\"#000000\" font-family=\"sans-serif\" font-size=\"12\" lengthAdjust=\"spacingAndGlyphs\" textLength=\"19\" x=\"498.5\" y=\"113.1074\">Sig</text><line style=\"stroke: #383838; stroke-width: 1.5;\" x1=\"461.5\" x2=\"554.5\" y1=\"120.9375\" y2=\"120.9375\"/><text fill=\"#000000\" font-family=\"sans-serif\" font-size=\"11\" lengthAdjust=\"spacingAndGlyphs\" textLength=\"6\" x=\"466.5\" y=\"151.9526\">x</text><line style=\"stroke: #383838; stroke-width: 1.0;\" x1=\"461.5\" x2=\"480.5\" y1=\"135.3398\" y2=\"135.3398\"/><text fill=\"#000000\" font-family=\"sans-serif\" font-size=\"11\" lengthAdjust=\"spacingAndGlyphs\" textLength=\"55\" x=\"480.5\" y=\"138.6479\">attributes</text><line style=\"stroke: #383838; stroke-width: 1.0;\" x1=\"535.5\" x2=\"554.5\" y1=\"135.3398\" y2=\"135.3398\"/></a><!--MD5=[09b614a08d8cba4a07c9adeb5e0fee81]\n",
       "class E3--><a href=\"psysml:0109ef31-4e51-4de7-9ac0-eb82fbd89c67\" target=\"_top\" title=\"psysml:0109ef31-4e51-4de7-9ac0-eb82fbd89c67\" xlink:actuate=\"onRequest\" xlink:href=\"psysml:0109ef31-4e51-4de7-9ac0-eb82fbd89c67\" xlink:show=\"new\" xlink:title=\"psysml:0109ef31-4e51-4de7-9ac0-eb82fbd89c67\" xlink:type=\"simple\"><rect fill=\"#FFFFFF\" height=\"45.9375\" id=\"E3\" style=\"stroke: #383838; stroke-width: 1.5;\" width=\"95\" x=\"330.5\" y=\"98\"/><text fill=\"#000000\" font-family=\"sans-serif\" font-size=\"12\" font-style=\"italic\" lengthAdjust=\"spacingAndGlyphs\" textLength=\"93\" x=\"331.5\" y=\"114.1387\">«attribute def»</text><text fill=\"#000000\" font-family=\"sans-serif\" font-size=\"12\" lengthAdjust=\"spacingAndGlyphs\" textLength=\"22\" x=\"367\" y=\"128.1074\">Exit</text><line style=\"stroke: #383838; stroke-width: 1.5;\" x1=\"331.5\" x2=\"424.5\" y1=\"135.9375\" y2=\"135.9375\"/></a><!--MD5=[ebbe1d658d1005bcc118a6aa81145e00]\n",
       "class E4--><a href=\"psysml:64a2c9fa-aa89-4eff-b01c-ff58906cbde0\" target=\"_top\" title=\"psysml:64a2c9fa-aa89-4eff-b01c-ff58906cbde0\" xlink:actuate=\"onRequest\" xlink:href=\"psysml:64a2c9fa-aa89-4eff-b01c-ff58906cbde0\" xlink:show=\"new\" xlink:title=\"psysml:64a2c9fa-aa89-4eff-b01c-ff58906cbde0\" xlink:type=\"simple\"><rect fill=\"#FFFFFF\" height=\"45.9375\" id=\"E4\" rx=\"10\" ry=\"10\" style=\"stroke: #383838; stroke-width: 1.5;\" width=\"42\" x=\"253\" y=\"98\"/><text fill=\"#000000\" font-family=\"sans-serif\" font-size=\"12\" font-style=\"italic\" lengthAdjust=\"spacingAndGlyphs\" textLength=\"40\" x=\"254\" y=\"114.1387\">«part»</text><text fill=\"#000000\" font-family=\"sans-serif\" font-size=\"12\" lengthAdjust=\"spacingAndGlyphs\" textLength=\"8\" x=\"270\" y=\"128.1074\">p</text><line style=\"stroke: #383838; stroke-width: 1.5;\" x1=\"254\" x2=\"294\" y1=\"135.9375\" y2=\"135.9375\"/></a><!--MD5=[270fce915f116d4de14055a7c1d9a0f3]\n",
       "class E5--><a href=\"psysml:6519856a-88df-4cdc-a713-a9dddd16e281\" target=\"_top\" title=\"psysml:6519856a-88df-4cdc-a713-a9dddd16e281\" xlink:actuate=\"onRequest\" xlink:href=\"psysml:6519856a-88df-4cdc-a713-a9dddd16e281\" xlink:show=\"new\" xlink:title=\"psysml:6519856a-88df-4cdc-a713-a9dddd16e281\" xlink:type=\"simple\"><rect fill=\"#FFFFFF\" height=\"45.9375\" id=\"E5\" rx=\"10\" ry=\"10\" style=\"stroke: #383838; stroke-width: 1.5;\" width=\"55\" x=\"162.5\" y=\"98\"/><text fill=\"#000000\" font-family=\"sans-serif\" font-size=\"12\" font-style=\"italic\" lengthAdjust=\"spacingAndGlyphs\" textLength=\"53\" x=\"163.5\" y=\"114.1387\">«action»</text><text fill=\"#000000\" font-family=\"sans-serif\" font-size=\"12\" lengthAdjust=\"spacingAndGlyphs\" textLength=\"20\" x=\"180\" y=\"128.1074\">act</text><line style=\"stroke: #383838; stroke-width: 1.5;\" x1=\"163.5\" x2=\"216.5\" y1=\"135.9375\" y2=\"135.9375\"/></a><!--MD5=[60a26617385b1d2d0262a64233df1f8d]\n",
       "class E6--><a href=\"psysml:0bc7341d-f31b-4869-a064-1af20ff16fcc\" target=\"_top\" title=\"psysml:0bc7341d-f31b-4869-a064-1af20ff16fcc\" xlink:actuate=\"onRequest\" xlink:href=\"psysml:0bc7341d-f31b-4869-a064-1af20ff16fcc\" xlink:show=\"new\" xlink:title=\"psysml:0bc7341d-f31b-4869-a064-1af20ff16fcc\" xlink:type=\"simple\"><rect fill=\"#FFFFFF\" height=\"160.375\" id=\"E6\" style=\"stroke: #383838; stroke-width: 1.5;\" width=\"95\" x=\"32.5\" y=\"41\"/><text fill=\"#000000\" font-family=\"sans-serif\" font-size=\"12\" font-style=\"italic\" lengthAdjust=\"spacingAndGlyphs\" textLength=\"71\" x=\"44.5\" y=\"57.1387\">«state def»</text><text fill=\"#000000\" font-family=\"sans-serif\" font-size=\"12\" lengthAdjust=\"spacingAndGlyphs\" textLength=\"8\" x=\"76\" y=\"71.1074\">S</text><line style=\"stroke: #383838; stroke-width: 1.5;\" x1=\"33.5\" x2=\"126.5\" y1=\"78.9375\" y2=\"78.9375\"/><text fill=\"#000000\" font-family=\"sans-serif\" font-size=\"11\" lengthAdjust=\"spacingAndGlyphs\" textLength=\"17\" x=\"38.5\" y=\"109.9526\">act</text><text fill=\"#000000\" font-family=\"sans-serif\" font-size=\"11\" lengthAdjust=\"spacingAndGlyphs\" textLength=\"7\" x=\"38.5\" y=\"122.7573\">A</text><text fill=\"#000000\" font-family=\"sans-serif\" font-size=\"11\" lengthAdjust=\"spacingAndGlyphs\" textLength=\"8\" x=\"38.5\" y=\"135.562\">B</text><line style=\"stroke: #383838; stroke-width: 1.0;\" x1=\"33.5\" x2=\"36.5\" y1=\"93.3398\" y2=\"93.3398\"/><text fill=\"#000000\" font-family=\"sans-serif\" font-size=\"11\" lengthAdjust=\"spacingAndGlyphs\" textLength=\"87\" x=\"36.5\" y=\"96.6479\">performActions</text><line style=\"stroke: #383838; stroke-width: 1.0;\" x1=\"123.5\" x2=\"126.5\" y1=\"93.3398\" y2=\"93.3398\"/><text fill=\"#000000\" font-family=\"sans-serif\" font-size=\"11\" lengthAdjust=\"spacingAndGlyphs\" textLength=\"15\" x=\"38.5\" y=\"165.1714\">S1</text><line style=\"stroke: #383838; stroke-width: 1.0;\" x1=\"33.5\" x2=\"62\" y1=\"148.5586\" y2=\"148.5586\"/><text fill=\"#000000\" font-family=\"sans-serif\" font-size=\"11\" lengthAdjust=\"spacingAndGlyphs\" textLength=\"36\" x=\"62\" y=\"151.8667\">states</text><line style=\"stroke: #383838; stroke-width: 1.0;\" x1=\"98\" x2=\"126.5\" y1=\"148.5586\" y2=\"148.5586\"/><text fill=\"#000000\" font-family=\"sans-serif\" font-size=\"11\" lengthAdjust=\"spacingAndGlyphs\" textLength=\"7\" x=\"38.5\" y=\"194.7808\">T</text><line style=\"stroke: #383838; stroke-width: 1.0;\" x1=\"33.5\" x2=\"49.5\" y1=\"178.168\" y2=\"178.168\"/><text fill=\"#000000\" font-family=\"sans-serif\" font-size=\"11\" lengthAdjust=\"spacingAndGlyphs\" textLength=\"61\" x=\"49.5\" y=\"181.4761\">transitions</text><line style=\"stroke: #383838; stroke-width: 1.0;\" x1=\"110.5\" x2=\"126.5\" y1=\"178.168\" y2=\"178.168\"/></a><!--MD5=[1dd1bfd58a279cf63c5f349dbc8fc6a1]\n",
       "class E11--><a href=\"psysml:a085f23d-1115-47bd-987f-c38856471ed2\" target=\"_top\" title=\"psysml:a085f23d-1115-47bd-987f-c38856471ed2\" xlink:actuate=\"onRequest\" xlink:href=\"psysml:a085f23d-1115-47bd-987f-c38856471ed2\" xlink:show=\"new\" xlink:title=\"psysml:a085f23d-1115-47bd-987f-c38856471ed2\" xlink:type=\"simple\"><rect fill=\"#FFFFFF\" height=\"45.9375\" id=\"E11\" rx=\"10\" ry=\"10\" style=\"stroke: #383838; stroke-width: 1.5;\" width=\"49\" x=\"55.5\" y=\"261\"/><text fill=\"#000000\" font-family=\"sans-serif\" font-size=\"12\" font-style=\"italic\" lengthAdjust=\"spacingAndGlyphs\" textLength=\"47\" x=\"56.5\" y=\"277.1387\">«state»</text><text fill=\"#000000\" font-family=\"sans-serif\" font-size=\"12\" lengthAdjust=\"spacingAndGlyphs\" textLength=\"16\" x=\"72\" y=\"291.1074\">S2</text><line style=\"stroke: #383838; stroke-width: 1.5;\" x1=\"56.5\" x2=\"103.5\" y1=\"298.9375\" y2=\"298.9375\"/></a><!--MD5=[49a0ec8f00dab7302a31f22d0f0fe584]\n",
       "class E12--><a href=\"psysml:cfc90439-05ae-44f8-b88d-04fe860fe407\" target=\"_top\" title=\"psysml:cfc90439-05ae-44f8-b88d-04fe860fe407\" xlink:actuate=\"onRequest\" xlink:href=\"psysml:cfc90439-05ae-44f8-b88d-04fe860fe407\" xlink:show=\"new\" xlink:title=\"psysml:cfc90439-05ae-44f8-b88d-04fe860fe407\" xlink:type=\"simple\"><rect fill=\"#FFFFFF\" height=\"75.5469\" id=\"E12\" rx=\"10\" ry=\"10\" style=\"stroke: #383838; stroke-width: 1.5;\" width=\"90\" x=\"35\" y=\"367\"/><text fill=\"#000000\" font-family=\"sans-serif\" font-size=\"12\" font-style=\"italic\" lengthAdjust=\"spacingAndGlyphs\" textLength=\"88\" x=\"36\" y=\"383.1387\">«send action»</text><text fill=\"#000000\" font-family=\"sans-serif\" font-size=\"12\" lengthAdjust=\"spacingAndGlyphs\" textLength=\"55\" x=\"52.5\" y=\"397.1074\">doAction</text><line style=\"stroke: #383838; stroke-width: 1.5;\" x1=\"36\" x2=\"124\" y1=\"404.9375\" y2=\"404.9375\"/><text fill=\"#000000\" font-family=\"sans-serif\" font-size=\"11\" lengthAdjust=\"spacingAndGlyphs\" textLength=\"25\" x=\"41\" y=\"435.9526\">item</text><line style=\"stroke: #383838; stroke-width: 1.0;\" x1=\"36\" x2=\"42.5\" y1=\"419.3398\" y2=\"419.3398\"/><text fill=\"#000000\" font-family=\"sans-serif\" font-size=\"11\" lengthAdjust=\"spacingAndGlyphs\" textLength=\"75\" x=\"42.5\" y=\"422.6479\">itemFeatures</text><line style=\"stroke: #383838; stroke-width: 1.0;\" x1=\"117.5\" x2=\"124\" y1=\"419.3398\" y2=\"419.3398\"/></a><!--MD5=[1f5f03483f7de0d5b3680a7f6650997f]\n",
       "reverse link E6 to E11--><a href=\"psysml:a085f23d-1115-47bd-987f-c38856471ed2\" target=\"_top\" title=\"psysml:a085f23d-1115-47bd-987f-c38856471ed2\" xlink:actuate=\"onRequest\" xlink:href=\"psysml:a085f23d-1115-47bd-987f-c38856471ed2\" xlink:show=\"new\" xlink:title=\"psysml:a085f23d-1115-47bd-987f-c38856471ed2\" xlink:type=\"simple\"><path d=\"M80,214.07 C80,214.07 80,260.85 80,260.85 \" fill=\"none\" id=\"E6&lt;-E11\" style=\"stroke: #383838; stroke-width: 1.0;\"/><polygon fill=\"#383838\" points=\"80,201.07,76,207.07,80,213.07,84,207.07,80,201.07\" style=\"stroke: #383838; stroke-width: 1.0;\"/></a><!--MD5=[94adabc162ce7e41b39f13be14fbaeb3]\n",
       "reverse link E11 to E12--><a href=\"psysml:cfc90439-05ae-44f8-b88d-04fe860fe407\" target=\"_top\" title=\"psysml:cfc90439-05ae-44f8-b88d-04fe860fe407\" xlink:actuate=\"onRequest\" xlink:href=\"psysml:cfc90439-05ae-44f8-b88d-04fe860fe407\" xlink:show=\"new\" xlink:title=\"psysml:cfc90439-05ae-44f8-b88d-04fe860fe407\" xlink:type=\"simple\"><path d=\"M80,320.04 C80,320.04 80,366.81 80,366.81 \" fill=\"none\" id=\"E11&lt;-E12\" style=\"stroke: #383838; stroke-width: 1.0;\"/><polygon fill=\"#FFFFFF\" points=\"80,307.04,76,313.04,80,319.04,84,313.04,80,307.04\" style=\"stroke: #383838; stroke-width: 1.0;\"/></a><!--MD5=[642eda5c315ff49f279184fcd6f62c7c]\n",
       "@startuml\r\n",
       "skinparam linetype ortho\r\n",
       "skinparam monochrome true\r\n",
       "skinparam classbackgroundcolor white\r\n",
       "skinparam shadowing false\r\n",
       "skinparam wrapWidth 300\r\n",
       "hide circle\r\n",
       "\r\n",
       "package \"StateTest\" as E1  [[psysml:5e99c5ac-660c-4bcd-ba7f-80dc44a07c9e ]]  {\r\n",
       "comp def \"Sig\" as E2  <<(T,blue)attribute def>> [[psysml:408e0494-0708-476d-85d5-333a69b53e96 ]] {\r\n",
       "- - attributes - -\r\n",
       "x\r\n",
       "}\r\n",
       "comp def \"Exit\" as E3  <<(T,blue)attribute def>> [[psysml:0109ef31-4e51-4de7-9ac0-eb82fbd89c67 ]] {\r\n",
       "}\r\n",
       "comp usage \"p\" as E4  <<(T,blue)part>> [[psysml:64a2c9fa-aa89-4eff-b01c-ff58906cbde0 ]] {\r\n",
       "}\r\n",
       "comp usage \"act\" as E5  <<(T,blue)action>> [[psysml:6519856a-88df-4cdc-a713-a9dddd16e281 ]] {\r\n",
       "}\r\n",
       "comp def \"S\" as E6  <<(T,blue)state def>> [[psysml:0bc7341d-f31b-4869-a064-1af20ff16fcc ]] {\r\n",
       "- - performActions - -\r\n",
       "act\r\n",
       "A\r\n",
       "B\r\n",
       "- - states - -\r\n",
       "S1\r\n",
       "- - transitions - -\r\n",
       "T\r\n",
       "}\r\n",
       "comp usage \"S2\" as E11  <<(T,blue)state>> [[psysml:a085f23d-1115-47bd-987f-c38856471ed2 ]] {\r\n",
       "}\r\n",
       "comp usage \"doAction\" as E12 <<send action>> [[psysml:cfc90439-05ae-44f8-b88d-04fe860fe407 ]] {\r\n",
       "- - itemFeatures - -\r\n",
       "item\r\n",
       "}\r\n",
       "E6 *- - E11 [[psysml:a085f23d-1115-47bd-987f-c38856471ed2 ]] \r\n",
       "E11 o- - E12 [[psysml:cfc90439-05ae-44f8-b88d-04fe860fe407 ]] \r\n",
       "}\r\n",
       "@enduml\r\n",
       "\n",
       "PlantUML version 1.2020.13(Sat Jun 13 12:26:38 UTC 2020)\n",
       "(EPL source distribution)\n",
       "Java Runtime: OpenJDK Runtime Environment\n",
       "JVM: OpenJDK 64-Bit Server VM\n",
       "Default Encoding: UTF-8\n",
       "Language: en\n",
       "Country: null\n",
       "--></g></svg>"
      ]
     },
     "execution_count": 52,
     "metadata": {},
     "output_type": "execute_result"
    }
   ],
   "source": [
    "%viz --style=\"ORTHOLINE\" --view=\"Tree\" \"StateTest\""
   ]
  },
  {
   "cell_type": "code",
   "execution_count": 53,
   "id": "focused-rachel",
   "metadata": {
    "execution": {
     "iopub.execute_input": "2021-03-26T13:02:49.572693Z",
     "iopub.status.busy": "2021-03-26T13:02:49.572163Z",
     "iopub.status.idle": "2021-03-26T13:02:49.603626Z",
     "shell.execute_reply": "2021-03-26T13:02:49.602374Z"
    }
   },
   "outputs": [
    {
     "data": {
      "image/svg+xml": [
       "<?xml version=\"1.0\" encoding=\"UTF-8\" standalone=\"no\"?><svg xmlns=\"http://www.w3.org/2000/svg\" xmlns:xlink=\"http://www.w3.org/1999/xlink\" contentScriptType=\"application/ecmascript\" contentStyleType=\"text/css\" height=\"475px\" preserveAspectRatio=\"none\" style=\"width:346px;height:475px;\" version=\"1.1\" viewBox=\"0 0 346 475\" width=\"346px\" zoomAndPan=\"magnify\"><defs/><g><!--MD5=[fbc87193dbaf4d95561dea2c320d4a47]\n",
       "cluster E1--><a href=\"psysml:0bc7341d-f31b-4869-a064-1af20ff16fcc\" target=\"_top\" title=\"psysml:0bc7341d-f31b-4869-a064-1af20ff16fcc\" xlink:actuate=\"onRequest\" xlink:href=\"psysml:0bc7341d-f31b-4869-a064-1af20ff16fcc\" xlink:show=\"new\" xlink:title=\"psysml:0bc7341d-f31b-4869-a064-1af20ff16fcc\" xlink:type=\"simple\"><rect fill=\"#FFFFFF\" height=\"457\" id=\"E1\" style=\"stroke: #383838; stroke-width: 1.5;\" width=\"327\" x=\"7\" y=\"7\"/><rect fill=\"#F8F8F8\" height=\"37.9375\" style=\"stroke: #383838; stroke-width: 1.5;\" width=\"327\" x=\"7\" y=\"7\"/><text fill=\"#000000\" font-family=\"sans-serif\" font-size=\"12\" font-style=\"italic\" lengthAdjust=\"spacingAndGlyphs\" textLength=\"71\" x=\"135\" y=\"23.1387\">«state def»</text><text fill=\"#000000\" font-family=\"sans-serif\" font-size=\"12\" lengthAdjust=\"spacingAndGlyphs\" textLength=\"8\" x=\"166.5\" y=\"37.1074\">S</text><line style=\"stroke: #383838; stroke-width: 1.0;\" x1=\"7\" x2=\"334\" y1=\"90.8438\" y2=\"90.8438\"/><text fill=\"#000000\" font-family=\"sans-serif\" font-size=\"12\" font-weight=\"bold\" lengthAdjust=\"spacingAndGlyphs\" textLength=\"38\" x=\"12\" y=\"58.0762\">entry</text><text fill=\"#000000\" font-family=\"sans-serif\" font-size=\"12\" lengthAdjust=\"spacingAndGlyphs\" textLength=\"16\" x=\"50\" y=\"58.0762\">/ A</text><text fill=\"#000000\" font-family=\"sans-serif\" font-size=\"12\" font-weight=\"bold\" lengthAdjust=\"spacingAndGlyphs\" textLength=\"18\" x=\"12\" y=\"72.0449\">do</text><text fill=\"#000000\" font-family=\"sans-serif\" font-size=\"12\" lengthAdjust=\"spacingAndGlyphs\" textLength=\"16\" x=\"30\" y=\"72.0449\">/ B</text><text fill=\"#000000\" font-family=\"sans-serif\" font-size=\"12\" font-weight=\"bold\" lengthAdjust=\"spacingAndGlyphs\" textLength=\"26\" x=\"12\" y=\"86.0137\">exit</text><text fill=\"#000000\" font-family=\"sans-serif\" font-size=\"12\" lengthAdjust=\"spacingAndGlyphs\" textLength=\"28\" x=\"38\" y=\"86.0137\">/ act</text></a><ellipse cx=\"119\" cy=\"115\" fill=\"#000000\" rx=\"10\" ry=\"10\" style=\"stroke: none; stroke-width: 1.0;\"/><ellipse cx=\"119\" cy=\"438\" fill=\"none\" rx=\"10\" ry=\"10\" style=\"stroke: #000000; stroke-width: 1.0;\"/><ellipse cx=\"119.5\" cy=\"438.5\" fill=\"#000000\" rx=\"6\" ry=\"6\" style=\"stroke: none; stroke-width: 1.0;\"/><g id=\"E1.E2\"><a href=\"psysml:70242e19-3f56-46b0-b4b5-fd0d440c29ee\" target=\"_top\" title=\"psysml:70242e19-3f56-46b0-b4b5-fd0d440c29ee\" xlink:actuate=\"onRequest\" xlink:href=\"psysml:70242e19-3f56-46b0-b4b5-fd0d440c29ee\" xlink:show=\"new\" xlink:title=\"psysml:70242e19-3f56-46b0-b4b5-fd0d440c29ee\" xlink:type=\"simple\"><rect fill=\"#FFFFFF\" height=\"40\" id=\"E2\" rx=\"10\" ry=\"10\" style=\"stroke: #383838; stroke-width: 1.5;\" width=\"50\" x=\"94\" y=\"186\"/><rect fill=\"#F8F8F8\" height=\"23.9688\" rx=\"10\" ry=\"10\" style=\"stroke: #F8F8F8; stroke-width: 1.5;\" width=\"50\" x=\"94\" y=\"186\"/><rect fill=\"#F8F8F8\" height=\"10\" style=\"stroke: #F8F8F8; stroke-width: 1.5;\" width=\"50\" x=\"94\" y=\"199.9688\"/><rect fill=\"none\" height=\"40\" id=\"E2\" rx=\"10\" ry=\"10\" style=\"stroke: #383838; stroke-width: 1.5;\" width=\"50\" x=\"94\" y=\"186\"/><text fill=\"#000000\" font-family=\"sans-serif\" font-size=\"12\" lengthAdjust=\"spacingAndGlyphs\" textLength=\"16\" x=\"111\" y=\"202.1387\">S1</text></a></g><g id=\"E1.E3\"><a href=\"psysml:a085f23d-1115-47bd-987f-c38856471ed2\" target=\"_top\" title=\"psysml:a085f23d-1115-47bd-987f-c38856471ed2\" xlink:actuate=\"onRequest\" xlink:href=\"psysml:a085f23d-1115-47bd-987f-c38856471ed2\" xlink:show=\"new\" xlink:title=\"psysml:a085f23d-1115-47bd-987f-c38856471ed2\" xlink:type=\"simple\"><rect fill=\"#FFFFFF\" height=\"47.9375\" id=\"E3\" rx=\"10\" ry=\"10\" style=\"stroke: #383838; stroke-width: 1.5;\" width=\"50\" x=\"94\" y=\"303\"/><rect fill=\"#F8F8F8\" height=\"23.9688\" rx=\"10\" ry=\"10\" style=\"stroke: #F8F8F8; stroke-width: 1.5;\" width=\"50\" x=\"94\" y=\"303\"/><rect fill=\"#F8F8F8\" height=\"10\" style=\"stroke: #F8F8F8; stroke-width: 1.5;\" width=\"50\" x=\"94\" y=\"316.9688\"/><rect fill=\"none\" height=\"47.9375\" id=\"E3\" rx=\"10\" ry=\"10\" style=\"stroke: #383838; stroke-width: 1.5;\" width=\"50\" x=\"94\" y=\"303\"/><text fill=\"#000000\" font-family=\"sans-serif\" font-size=\"12\" lengthAdjust=\"spacingAndGlyphs\" textLength=\"16\" x=\"111\" y=\"319.1387\">S2</text><line style=\"stroke: #383838; stroke-width: 1.0;\" x1=\"94\" x2=\"144\" y1=\"326.9688\" y2=\"326.9688\"/><text fill=\"#000000\" font-family=\"sans-serif\" font-size=\"12\" font-weight=\"bold\" lengthAdjust=\"spacingAndGlyphs\" textLength=\"18\" x=\"99\" y=\"340.1074\">do</text><text fill=\"#000000\" font-family=\"sans-serif\" font-size=\"12\" lengthAdjust=\"spacingAndGlyphs\" textLength=\"4\" x=\"117\" y=\"340.1074\">/</text></a></g><!--MD5=[cff944eb183b832d446717a4e202d613]\n",
       "link *start*E1 to E2--><a href=\"psysml:43d9c4f9-ed20-4c00-a0b0-be6dc49a6894\" target=\"_top\" title=\"psysml:43d9c4f9-ed20-4c00-a0b0-be6dc49a6894\" xlink:actuate=\"onRequest\" xlink:href=\"psysml:43d9c4f9-ed20-4c00-a0b0-be6dc49a6894\" xlink:show=\"new\" xlink:title=\"psysml:43d9c4f9-ed20-4c00-a0b0-be6dc49a6894\" xlink:type=\"simple\"><path d=\"M119,125.09 C119,125.09 119,180.93 119,180.93 \" fill=\"none\" id=\"*start*E1-&gt;E2\" style=\"stroke: #383838; stroke-width: 1.0;\"/><polygon fill=\"#383838\" points=\"119,185.93,123,176.93,119,180.93,115,176.93,119,185.93\" style=\"stroke: #383838; stroke-width: 1.0;\"/></a><!--MD5=[9ee7afa76ca8c509b3d216624c3a9893]\n",
       "link E3 to *end*E1--><a href=\"psysml:f955b7ee-57f2-4e8a-b602-a443c9a31c83\" target=\"_top\" title=\"psysml:f955b7ee-57f2-4e8a-b602-a443c9a31c83\" xlink:actuate=\"onRequest\" xlink:href=\"psysml:f955b7ee-57f2-4e8a-b602-a443c9a31c83\" xlink:show=\"new\" xlink:title=\"psysml:f955b7ee-57f2-4e8a-b602-a443c9a31c83\" xlink:type=\"simple\"><path d=\"M119,351.09 C119,351.09 119,422.94 119,422.94 \" fill=\"none\" id=\"E3-&gt;*end*E1\" style=\"stroke: #383838; stroke-width: 1.0;\"/><polygon fill=\"#383838\" points=\"119,427.94,123,418.94,119,422.94,115,418.94,119,427.94\" style=\"stroke: #383838; stroke-width: 1.0;\"/><text fill=\"#000000\" font-family=\"sans-serif\" font-size=\"13\" lengthAdjust=\"spacingAndGlyphs\" textLength=\"23\" x=\"120\" y=\"394.0669\">Exit</text></a><!--MD5=[2720a5a1f2c3fca2055b230370638851]\n",
       "link E2 to E3--><a href=\"psysml:d37fdc60-36d2-41f0-83fe-622a63ffc619\" target=\"_top\" title=\"psysml:d37fdc60-36d2-41f0-83fe-622a63ffc619\" xlink:actuate=\"onRequest\" xlink:href=\"psysml:d37fdc60-36d2-41f0-83fe-622a63ffc619\" xlink:show=\"new\" xlink:title=\"psysml:d37fdc60-36d2-41f0-83fe-622a63ffc619\" xlink:type=\"simple\"><path d=\"M110.67,226.25 C110.67,226.25 110.67,297.93 110.67,297.93 \" fill=\"none\" id=\"E2-&gt;E3\" style=\"stroke: #383838; stroke-width: 1.0;\"/><polygon fill=\"#383838\" points=\"110.67,302.93,114.67,293.93,110.67,297.93,106.67,293.93,110.67,302.93\" style=\"stroke: #383838; stroke-width: 1.0;\"/><text fill=\"#000000\" font-family=\"sans-serif\" font-size=\"13\" lengthAdjust=\"spacingAndGlyphs\" textLength=\"81\" x=\"59\" y=\"269.0669\">Sig /action D</text></a><!--MD5=[05d275557350bfb9b23a4ef7222b4c39]\n",
       "link E3 to E2--><a href=\"psysml:b2ce6d4b-1a56-4d0e-ade4-ffb9136266c2\" target=\"_top\" title=\"psysml:b2ce6d4b-1a56-4d0e-ade4-ffb9136266c2\" xlink:actuate=\"onRequest\" xlink:href=\"psysml:b2ce6d4b-1a56-4d0e-ade4-ffb9136266c2\" xlink:show=\"new\" xlink:title=\"psysml:b2ce6d4b-1a56-4d0e-ade4-ffb9136266c2\" xlink:type=\"simple\"><path d=\"M127.33,302.8 C127.33,302.8 127.33,231.14 127.33,231.14 \" fill=\"none\" id=\"E3-&gt;E2\" style=\"stroke: #383838; stroke-width: 1.0;\"/><polygon fill=\"#383838\" points=\"127.33,226.14,123.33,235.14,127.33,231.14,131.33,235.14,127.33,226.14\" style=\"stroke: #383838; stroke-width: 1.0;\"/><text fill=\"#000000\" font-family=\"sans-serif\" font-size=\"13\" lengthAdjust=\"spacingAndGlyphs\" textLength=\"135\" x=\"182\" y=\"269.0669\">Sig [true]/send s to p</text></a><!--MD5=[cb4e335ad27e693235ce50d6d379c086]\n",
       "@startuml\r\n",
       "skinparam linetype ortho\r\n",
       "skinparam monochrome true\r\n",
       "skinparam classbackgroundcolor white\r\n",
       "skinparam shadowing false\r\n",
       "skinparam wrapWidth 300\r\n",
       "hide circle\r\n",
       "\r\n",
       "rec def \"S\" as E1  <<(T,blue)state def>> [[psysml:0bc7341d-f31b-4869-a064-1af20ff16fcc ]] {\r\n",
       "rec usage \"S1\" as E2 [[psysml:70242e19-3f56-46b0-b4b5-fd0d440c29ee ]] {\r\n",
       "}\r\n",
       "\r\n",
       "rec usage \"S2\" as E3 [[psysml:a085f23d-1115-47bd-987f-c38856471ed2 ]] {\r\n",
       "desc \"S2\" as E3  : **do**/ \r\n",
       "}\r\n",
       "\r\n",
       "[*] - -> E2 [[psysml:43d9c4f9-ed20-4c00-a0b0-be6dc49a6894 ]] \r\n",
       "E3  - -> [*] [[psysml:f955b7ee-57f2-4e8a-b602-a443c9a31c83 ]] : Exit \r\n",
       "desc \"S\" as E1  : **entry**/ A\r\n",
       "desc \"S\" as E1  : **do**/ B\r\n",
       "desc \"S\" as E1  : **exit**/ act \r\n",
       "}\r\n",
       "\r\n",
       "E2  - -> E3 [[psysml:d37fdc60-36d2-41f0-83fe-622a63ffc619 ]] : Sig /action D\r\n",
       "E3  - -> E2 [[psysml:b2ce6d4b-1a56-4d0e-ade4-ffb9136266c2 ]] : Sig [true]/send s to p\r\n",
       "@enduml\r\n",
       "\n",
       "PlantUML version 1.2020.13(Sat Jun 13 12:26:38 UTC 2020)\n",
       "(EPL source distribution)\n",
       "Java Runtime: OpenJDK Runtime Environment\n",
       "JVM: OpenJDK 64-Bit Server VM\n",
       "Default Encoding: UTF-8\n",
       "Language: en\n",
       "Country: null\n",
       "--></g></svg>"
      ]
     },
     "execution_count": 53,
     "metadata": {},
     "output_type": "execute_result"
    }
   ],
   "source": [
    "%viz --style=\"ORTHOLINE\" --view=\"State\" \"StateTest\""
   ]
  },
  {
   "cell_type": "code",
   "execution_count": 54,
   "id": "communist-grill",
   "metadata": {
    "execution": {
     "iopub.execute_input": "2021-03-26T13:02:49.653909Z",
     "iopub.status.busy": "2021-03-26T13:02:49.653481Z",
     "iopub.status.idle": "2021-03-26T13:02:49.677343Z",
     "shell.execute_reply": "2021-03-26T13:02:49.676073Z"
    }
   },
   "outputs": [
    {
     "data": {
      "image/svg+xml": [
       "<?xml version=\"1.0\" encoding=\"UTF-8\" standalone=\"no\"?><svg xmlns=\"http://www.w3.org/2000/svg\" xmlns:xlink=\"http://www.w3.org/1999/xlink\" contentScriptType=\"application/ecmascript\" contentStyleType=\"text/css\" height=\"112px\" preserveAspectRatio=\"none\" style=\"width:598px;height:112px;\" version=\"1.1\" viewBox=\"0 0 598 112\" width=\"598px\" zoomAndPan=\"magnify\"><defs/><g><!--MD5=[fbc87193dbaf4d95561dea2c320d4a47]\n",
       "cluster E1--><a href=\"psysml:5e99c5ac-660c-4bcd-ba7f-80dc44a07c9e\" target=\"_top\" title=\"psysml:5e99c5ac-660c-4bcd-ba7f-80dc44a07c9e\" xlink:actuate=\"onRequest\" xlink:href=\"psysml:5e99c5ac-660c-4bcd-ba7f-80dc44a07c9e\" xlink:show=\"new\" xlink:title=\"psysml:5e99c5ac-660c-4bcd-ba7f-80dc44a07c9e\" xlink:type=\"simple\"><polygon fill=\"#FFFFFF\" points=\"16,6,98,6,105,28.2969,576,28.2969,576,100,16,100,16,6\" style=\"stroke: #000000; stroke-width: 1.5;\"/><line style=\"stroke: #000000; stroke-width: 1.5;\" x1=\"16\" x2=\"105\" y1=\"28.2969\" y2=\"28.2969\"/><text fill=\"#000000\" font-family=\"sans-serif\" font-size=\"14\" font-weight=\"bold\" lengthAdjust=\"spacingAndGlyphs\" textLength=\"76\" x=\"20\" y=\"20.9951\">StateTest</text></a><g id=\"E1.E2\"><a href=\"psysml:408e0494-0708-476d-85d5-333a69b53e96\" target=\"_top\" title=\"psysml:408e0494-0708-476d-85d5-333a69b53e96\" xlink:actuate=\"onRequest\" xlink:href=\"psysml:408e0494-0708-476d-85d5-333a69b53e96\" xlink:show=\"new\" xlink:title=\"psysml:408e0494-0708-476d-85d5-333a69b53e96\" xlink:type=\"simple\"><rect fill=\"#FFFFFF\" height=\"42.9375\" id=\"E2\" style=\"stroke: #383838; stroke-width: 1.5;\" width=\"100\" x=\"460\" y=\"41\"/><rect fill=\"#F8F8F8\" height=\"37.9375\" style=\"stroke: #383838; stroke-width: 1.5;\" width=\"100\" x=\"460\" y=\"41\"/><text fill=\"#000000\" font-family=\"sans-serif\" font-size=\"12\" font-style=\"italic\" lengthAdjust=\"spacingAndGlyphs\" textLength=\"93\" x=\"463.5\" y=\"57.1387\">«attribute def»</text><text fill=\"#000000\" font-family=\"sans-serif\" font-size=\"12\" lengthAdjust=\"spacingAndGlyphs\" textLength=\"19\" x=\"500.5\" y=\"71.1074\">Sig</text></a></g><g id=\"E1.E3\"><a href=\"psysml:0109ef31-4e51-4de7-9ac0-eb82fbd89c67\" target=\"_top\" title=\"psysml:0109ef31-4e51-4de7-9ac0-eb82fbd89c67\" xlink:actuate=\"onRequest\" xlink:href=\"psysml:0109ef31-4e51-4de7-9ac0-eb82fbd89c67\" xlink:show=\"new\" xlink:title=\"psysml:0109ef31-4e51-4de7-9ac0-eb82fbd89c67\" xlink:type=\"simple\"><rect fill=\"#FFFFFF\" height=\"42.9375\" id=\"E3\" style=\"stroke: #383838; stroke-width: 1.5;\" width=\"100\" x=\"325\" y=\"41\"/><rect fill=\"#F8F8F8\" height=\"37.9375\" style=\"stroke: #383838; stroke-width: 1.5;\" width=\"100\" x=\"325\" y=\"41\"/><text fill=\"#000000\" font-family=\"sans-serif\" font-size=\"12\" font-style=\"italic\" lengthAdjust=\"spacingAndGlyphs\" textLength=\"93\" x=\"328.5\" y=\"57.1387\">«attribute def»</text><text fill=\"#000000\" font-family=\"sans-serif\" font-size=\"12\" lengthAdjust=\"spacingAndGlyphs\" textLength=\"22\" x=\"364\" y=\"71.1074\">Exit</text></a></g><g id=\"E1.E6\"><a href=\"psysml:0bc7341d-f31b-4869-a064-1af20ff16fcc\" target=\"_top\" title=\"psysml:0bc7341d-f31b-4869-a064-1af20ff16fcc\" xlink:actuate=\"onRequest\" xlink:href=\"psysml:0bc7341d-f31b-4869-a064-1af20ff16fcc\" xlink:show=\"new\" xlink:title=\"psysml:0bc7341d-f31b-4869-a064-1af20ff16fcc\" xlink:type=\"simple\"><rect fill=\"#FFFFFF\" height=\"42.9375\" id=\"E6\" style=\"stroke: #383838; stroke-width: 1.5;\" width=\"78\" x=\"212\" y=\"41\"/><rect fill=\"#F8F8F8\" height=\"37.9375\" style=\"stroke: #383838; stroke-width: 1.5;\" width=\"78\" x=\"212\" y=\"41\"/><text fill=\"#000000\" font-family=\"sans-serif\" font-size=\"12\" font-style=\"italic\" lengthAdjust=\"spacingAndGlyphs\" textLength=\"71\" x=\"215.5\" y=\"57.1387\">«state def»</text><text fill=\"#000000\" font-family=\"sans-serif\" font-size=\"12\" lengthAdjust=\"spacingAndGlyphs\" textLength=\"8\" x=\"247\" y=\"71.1074\">S</text></a></g><g id=\"E1.E4\"><a href=\"psysml:64a2c9fa-aa89-4eff-b01c-ff58906cbde0\" target=\"_top\" title=\"psysml:64a2c9fa-aa89-4eff-b01c-ff58906cbde0\" xlink:actuate=\"onRequest\" xlink:href=\"psysml:64a2c9fa-aa89-4eff-b01c-ff58906cbde0\" xlink:show=\"new\" xlink:title=\"psysml:64a2c9fa-aa89-4eff-b01c-ff58906cbde0\" xlink:type=\"simple\"><rect fill=\"#FFFFFF\" height=\"40\" id=\"E4\" rx=\"10\" ry=\"10\" style=\"stroke: #383838; stroke-width: 1.5;\" width=\"50\" x=\"127\" y=\"42.5\"/><rect fill=\"#F8F8F8\" height=\"23.9688\" rx=\"10\" ry=\"10\" style=\"stroke: #F8F8F8; stroke-width: 1.5;\" width=\"50\" x=\"127\" y=\"42.5\"/><rect fill=\"#F8F8F8\" height=\"10\" style=\"stroke: #F8F8F8; stroke-width: 1.5;\" width=\"50\" x=\"127\" y=\"56.4688\"/><rect fill=\"none\" height=\"40\" id=\"E4\" rx=\"10\" ry=\"10\" style=\"stroke: #383838; stroke-width: 1.5;\" width=\"50\" x=\"127\" y=\"42.5\"/><text fill=\"#000000\" font-family=\"sans-serif\" font-size=\"12\" lengthAdjust=\"spacingAndGlyphs\" textLength=\"8\" x=\"148\" y=\"58.6387\">p</text></a></g><g id=\"E1.E5\"><a href=\"psysml:6519856a-88df-4cdc-a713-a9dddd16e281\" target=\"_top\" title=\"psysml:6519856a-88df-4cdc-a713-a9dddd16e281\" xlink:actuate=\"onRequest\" xlink:href=\"psysml:6519856a-88df-4cdc-a713-a9dddd16e281\" xlink:show=\"new\" xlink:title=\"psysml:6519856a-88df-4cdc-a713-a9dddd16e281\" xlink:type=\"simple\"><rect fill=\"#FFFFFF\" height=\"42.9375\" id=\"E5\" rx=\"10\" ry=\"10\" style=\"stroke: #383838; stroke-width: 1.5;\" width=\"60\" x=\"32\" y=\"41\"/><rect fill=\"#F8F8F8\" height=\"37.9375\" rx=\"10\" ry=\"10\" style=\"stroke: #F8F8F8; stroke-width: 1.5;\" width=\"60\" x=\"32\" y=\"41\"/><rect fill=\"#F8F8F8\" height=\"10\" style=\"stroke: #F8F8F8; stroke-width: 1.5;\" width=\"60\" x=\"32\" y=\"68.9375\"/><rect fill=\"none\" height=\"42.9375\" id=\"E5\" rx=\"10\" ry=\"10\" style=\"stroke: #383838; stroke-width: 1.5;\" width=\"60\" x=\"32\" y=\"41\"/><text fill=\"#000000\" font-family=\"sans-serif\" font-size=\"12\" font-style=\"italic\" lengthAdjust=\"spacingAndGlyphs\" textLength=\"53\" x=\"35.5\" y=\"57.1387\">«action»</text><text fill=\"#000000\" font-family=\"sans-serif\" font-size=\"12\" lengthAdjust=\"spacingAndGlyphs\" textLength=\"20\" x=\"52\" y=\"71.1074\">act</text></a></g><!--MD5=[13e071faedfbbba635d770db2539c818]\n",
       "@startuml\r\n",
       "skinparam ranksep 8\r\n",
       "skinparam rectangle {\r\n",
       " backgroundColor<<block>> LightGreen\r\n",
       "}\r\n",
       "skinparam linetype ortho\r\n",
       "skinparam monochrome true\r\n",
       "skinparam classbackgroundcolor white\r\n",
       "skinparam shadowing false\r\n",
       "skinparam wrapWidth 300\r\n",
       "hide circle\r\n",
       "\r\n",
       "package \"StateTest\" as E1  [[psysml:5e99c5ac-660c-4bcd-ba7f-80dc44a07c9e ]]  {\r\n",
       "def \"Sig\" as E2  <<(T,blue)attribute def>> [[psysml:408e0494-0708-476d-85d5-333a69b53e96 ]] \r\n",
       "def \"Exit\" as E3  <<(T,blue)attribute def>> [[psysml:0109ef31-4e51-4de7-9ac0-eb82fbd89c67 ]] \r\n",
       "rec usage \"p\" as E4  [[psysml:64a2c9fa-aa89-4eff-b01c-ff58906cbde0 ]] {\r\n",
       "}\r\n",
       "rec usage \"act\" as E5  <<(T,blue)action>> [[psysml:6519856a-88df-4cdc-a713-a9dddd16e281 ]] {\r\n",
       "}\r\n",
       "def \"S\" as E6  <<(T,blue)state def>> [[psysml:0bc7341d-f31b-4869-a064-1af20ff16fcc ]] \r\n",
       "}\r\n",
       "@enduml\r\n",
       "\n",
       "PlantUML version 1.2020.13(Sat Jun 13 12:26:38 UTC 2020)\n",
       "(EPL source distribution)\n",
       "Java Runtime: OpenJDK Runtime Environment\n",
       "JVM: OpenJDK 64-Bit Server VM\n",
       "Default Encoding: UTF-8\n",
       "Language: en\n",
       "Country: null\n",
       "--></g></svg>"
      ]
     },
     "execution_count": 54,
     "metadata": {},
     "output_type": "execute_result"
    }
   ],
   "source": [
    "%viz --style=\"ORTHOLINE\" --view=\"Interconnection\" \"StateTest\""
   ]
  },
  {
   "cell_type": "code",
   "execution_count": 55,
   "id": "thousand-judges",
   "metadata": {
    "execution": {
     "iopub.execute_input": "2021-03-26T13:02:49.727242Z",
     "iopub.status.busy": "2021-03-26T13:02:49.726787Z",
     "iopub.status.idle": "2021-03-26T13:02:49.739378Z",
     "shell.execute_reply": "2021-03-26T13:02:49.739009Z"
    }
   },
   "outputs": [
    {
     "data": {
      "image/svg+xml": [
       "<?xml version=\"1.0\" encoding=\"UTF-8\" standalone=\"no\"?><svg xmlns=\"http://www.w3.org/2000/svg\" xmlns:xlink=\"http://www.w3.org/1999/xlink\" contentScriptType=\"application/ecmascript\" contentStyleType=\"text/css\" height=\"483px\" preserveAspectRatio=\"none\" style=\"width:796px;height:483px;background:#000000;\" version=\"1.1\" viewBox=\"0 0 796 483\" width=\"796px\" zoomAndPan=\"magnify\"><defs/><g><rect fill=\"#1C0622\" height=\"1\" style=\"stroke: #1C0622; stroke-width: 1.0;\" width=\"1\" x=\"0\" y=\"0\"/><rect fill=\"#33FF02\" height=\"21.2969\" style=\"stroke: #33FF02; stroke-width: 1.0;\" width=\"789\" x=\"5\" y=\"5\"/><text fill=\"#000000\" font-family=\"sans-serif\" font-size=\"14\" font-weight=\"bold\" lengthAdjust=\"spacingAndGlyphs\" textLength=\"178\" x=\"6\" y=\"20\">[From string (line 26) ]</text><text fill=\"#33FF02\" font-family=\"sans-serif\" font-size=\"14\" font-weight=\"bold\" lengthAdjust=\"spacingAndGlyphs\" textLength=\"0\" x=\"10\" y=\"40.2969\"/><text fill=\"#33FF02\" font-family=\"sans-serif\" font-size=\"14\" font-weight=\"bold\" lengthAdjust=\"spacingAndGlyphs\" textLength=\"79\" x=\"5\" y=\"56.5938\">@startuml</text><text fill=\"#33FF02\" font-family=\"sans-serif\" font-size=\"14\" font-weight=\"bold\" lengthAdjust=\"spacingAndGlyphs\" textLength=\"165\" x=\"5\" y=\"72.8906\">skinparam ranksep 8</text><text fill=\"#33FF02\" font-family=\"sans-serif\" font-size=\"14\" font-weight=\"bold\" lengthAdjust=\"spacingAndGlyphs\" textLength=\"197\" x=\"5\" y=\"89.1875\">skinparam linetype ortho</text><text fill=\"#33FF02\" font-family=\"sans-serif\" font-size=\"14\" font-weight=\"bold\" lengthAdjust=\"spacingAndGlyphs\" textLength=\"228\" x=\"5\" y=\"105.4844\">skinparam monochrome true</text><text fill=\"#33FF02\" font-family=\"sans-serif\" font-size=\"14\" font-weight=\"bold\" lengthAdjust=\"spacingAndGlyphs\" textLength=\"309\" x=\"5\" y=\"121.7813\">skinparam classbackgroundcolor white</text><text fill=\"#33FF02\" font-family=\"sans-serif\" font-size=\"14\" font-weight=\"bold\" lengthAdjust=\"spacingAndGlyphs\" textLength=\"215\" x=\"5\" y=\"138.0781\">skinparam shadowing false</text><text fill=\"#33FF02\" font-family=\"sans-serif\" font-size=\"14\" font-weight=\"bold\" lengthAdjust=\"spacingAndGlyphs\" textLength=\"206\" x=\"5\" y=\"154.375\">skinparam wrapWidth 300</text><text fill=\"#33FF02\" font-family=\"sans-serif\" font-size=\"14\" font-weight=\"bold\" lengthAdjust=\"spacingAndGlyphs\" textLength=\"82\" x=\"5\" y=\"170.6719\">hide circle</text><text fill=\"#33FF02\" font-family=\"sans-serif\" font-size=\"14\" font-weight=\"bold\" lengthAdjust=\"spacingAndGlyphs\" textLength=\"0\" x=\"10\" y=\"186.9688\"/><text fill=\"#33FF02\" font-family=\"sans-serif\" font-size=\"14\" font-weight=\"bold\" lengthAdjust=\"spacingAndGlyphs\" textLength=\"781\" x=\"5\" y=\"203.2656\">rec usage \"act\" as E1  &lt;&lt;(T,blue)action&gt;&gt; [[psysml:6519856a-88df-4cdc-a713-a9dddd16e281 ]] {</text><text fill=\"#33FF02\" font-family=\"sans-serif\" font-size=\"14\" font-weight=\"bold\" lengthAdjust=\"spacingAndGlyphs\" textLength=\"10\" x=\"5\" y=\"219.5625\">}</text><text fill=\"#33FF02\" font-family=\"sans-serif\" font-size=\"14\" font-weight=\"bold\" lengthAdjust=\"spacingAndGlyphs\" textLength=\"0\" x=\"10\" y=\"235.8594\"/><text fill=\"#33FF02\" font-family=\"sans-serif\" font-size=\"14\" font-weight=\"bold\" lengthAdjust=\"spacingAndGlyphs\" textLength=\"752\" x=\"5\" y=\"252.1563\">rec def \"S\" as E2  &lt;&lt;(T,blue)state def&gt;&gt; [[psysml:0bc7341d-f31b-4869-a064-1af20ff16fcc ]] {</text><text fill=\"#33FF02\" font-family=\"sans-serif\" font-size=\"14\" font-weight=\"bold\" lengthAdjust=\"spacingAndGlyphs\" textLength=\"771\" x=\"5\" y=\"268.4531\">rec usage \"A\" as E3 &lt;&lt;perform action&gt;&gt; [[psysml:24ce981a-669a-4b1b-8e70-ec9679f168ba ]] {</text><text fill=\"#33FF02\" font-family=\"sans-serif\" font-size=\"14\" font-weight=\"bold\" lengthAdjust=\"spacingAndGlyphs\" textLength=\"10\" x=\"5\" y=\"284.75\">}</text><text fill=\"#33FF02\" font-family=\"sans-serif\" font-size=\"14\" font-weight=\"bold\" lengthAdjust=\"spacingAndGlyphs\" textLength=\"0\" x=\"10\" y=\"301.0469\"/><text fill=\"#33FF02\" font-family=\"sans-serif\" font-size=\"14\" font-weight=\"bold\" lengthAdjust=\"spacingAndGlyphs\" textLength=\"773\" x=\"5\" y=\"317.3438\">rec usage \"B\" as E4 &lt;&lt;perform action&gt;&gt; [[psysml:0cb81d18-66e4-4e05-a75e-b6d7358364f8 ]] {</text><text fill=\"#33FF02\" font-family=\"sans-serif\" font-size=\"14\" font-weight=\"bold\" lengthAdjust=\"spacingAndGlyphs\" textLength=\"10\" x=\"5\" y=\"333.6406\">}</text><text fill=\"#33FF02\" font-family=\"sans-serif\" font-size=\"14\" font-weight=\"bold\" lengthAdjust=\"spacingAndGlyphs\" textLength=\"0\" x=\"10\" y=\"349.9375\"/><text fill=\"#33FF02\" font-family=\"sans-serif\" font-size=\"14\" font-weight=\"bold\" lengthAdjust=\"spacingAndGlyphs\" textLength=\"789\" x=\"5\" y=\"366.2344\">rec usage \"act\" as E5 &lt;&lt;perform action&gt;&gt; [[psysml:3038242a-7c4d-4726-ae4e-c76791d4ee71 ]] {</text><text fill=\"#33FF02\" font-family=\"sans-serif\" font-size=\"14\" font-weight=\"bold\" lengthAdjust=\"spacingAndGlyphs\" textLength=\"10\" x=\"5\" y=\"382.5313\">}</text><text fill=\"#33FF02\" font-family=\"sans-serif\" font-size=\"14\" font-weight=\"bold\" lengthAdjust=\"spacingAndGlyphs\" textLength=\"0\" x=\"10\" y=\"398.8281\"/><text fill=\"#33FF02\" font-family=\"sans-serif\" font-size=\"14\" font-weight=\"bold\" lengthAdjust=\"spacingAndGlyphs\" textLength=\"769\" x=\"5\" y=\"415.125\">rec usage \"S1\" as E6  &lt;&lt;(T,blue)state&gt;&gt; [[psysml:70242e19-3f56-46b0-b4b5-fd0d440c29ee ]] {</text><text fill=\"#33FF02\" font-family=\"sans-serif\" font-size=\"14\" font-weight=\"bold\" lengthAdjust=\"spacingAndGlyphs\" textLength=\"10\" x=\"5\" y=\"431.4219\">}</text><text fill=\"#33FF02\" font-family=\"sans-serif\" font-size=\"14\" font-weight=\"bold\" lengthAdjust=\"spacingAndGlyphs\" textLength=\"0\" x=\"10\" y=\"447.7188\"/><text fill=\"#33FF02\" font-family=\"sans-serif\" font-size=\"14\" font-weight=\"bold\" lengthAdjust=\"spacingAndGlyphs\" textLength=\"10\" x=\"5\" y=\"464.0156\">{</text><text fill=\"#FF0000\" font-family=\"sans-serif\" font-size=\"14\" font-weight=\"bold\" lengthAdjust=\"spacingAndGlyphs\" textLength=\"106\" x=\"10\" y=\"480.3125\">Syntax Error?</text><!--MD5=[ed5485e618c6bd4899c031d5cae4bf0f]\n",
       "@startuml\r\n",
       "skinparam ranksep 8\r\n",
       "skinparam linetype ortho\r\n",
       "skinparam monochrome true\r\n",
       "skinparam classbackgroundcolor white\r\n",
       "skinparam shadowing false\r\n",
       "skinparam wrapWidth 300\r\n",
       "hide circle\r\n",
       "\r\n",
       "rec usage \"act\" as E1  <<(T,blue)action>> [[psysml:6519856a-88df-4cdc-a713-a9dddd16e281 ]] {\r\n",
       "}\r\n",
       "\r\n",
       "rec def \"S\" as E2  <<(T,blue)state def>> [[psysml:0bc7341d-f31b-4869-a064-1af20ff16fcc ]] {\r\n",
       "rec usage \"A\" as E3 <<perform action>> [[psysml:24ce981a-669a-4b1b-8e70-ec9679f168ba ]] {\r\n",
       "}\r\n",
       "\r\n",
       "rec usage \"B\" as E4 <<perform action>> [[psysml:0cb81d18-66e4-4e05-a75e-b6d7358364f8 ]] {\r\n",
       "}\r\n",
       "\r\n",
       "rec usage \"act\" as E5 <<perform action>> [[psysml:3038242a-7c4d-4726-ae4e-c76791d4ee71 ]] {\r\n",
       "}\r\n",
       "\r\n",
       "rec usage \"S1\" as E6  <<(T,blue)state>> [[psysml:70242e19-3f56-46b0-b4b5-fd0d440c29ee ]] {\r\n",
       "}\r\n",
       "\r\n",
       "{\r\n",
       "{\r\n",
       "}\r\n",
       "\r\n",
       "rec usage \"D\" as E7 <<perform action>> [[psysml:9fa67b9a-f55b-4b6f-8c3c-7583e77a313e ]] {\r\n",
       "}\r\n",
       "\r\n",
       "}\r\n",
       "\r\n",
       "rec usage \"S2\" as E8  <<(T,blue)state>> [[psysml:a085f23d-1115-47bd-987f-c38856471ed2 ]] {\r\n",
       "rec usage \"doAction\" as E9 <<send action>> [[psysml:cfc90439-05ae-44f8-b88d-04fe860fe407 ]] {\r\n",
       "portin \"$x\" as E10  [[psysml:ae5b5913-d198-445b-b606-f76bd72ed7d9 ]] \r\n",
       "portout \"$result\" as E11  [[psysml:f2619e5d-ad00-4b4a-a4fe-7cd7945e1b82 ]] \r\n",
       "}\r\n",
       "\r\n",
       "}\r\n",
       "\r\n",
       "{\r\n",
       "{\r\n",
       "}\r\n",
       "\r\n",
       "}\r\n",
       "\r\n",
       "rec usage \"T\" as E12  <<(T,blue)transition>> [[psysml:b2ce6d4b-1a56-4d0e-ade4-ffb9136266c2 ]] {\r\n",
       "rec usage \"S2\" as E13  <<(T,blue)state>> [[psysml:a085f23d-1115-47bd-987f-c38856471ed2 ]] {\r\n",
       "rec usage \"doAction\" as E14 <<send action>> [[psysml:cfc90439-05ae-44f8-b88d-04fe860fe407 ]] {\r\n",
       "portin \"$x\" as E15  [[psysml:ae5b5913-d198-445b-b606-f76bd72ed7d9 ]] \r\n",
       "portout \"$result\" as E16  [[psysml:f2619e5d-ad00-4b4a-a4fe-7cd7945e1b82 ]] \r\n",
       "}\r\n",
       "\r\n",
       "}\r\n",
       "\r\n",
       "{\r\n",
       "}\r\n",
       "\r\n",
       "portout \"$result\" as E17  [[psysml:9abbd064-7570-4e45-a029-f7befd203c67 ]] \r\n",
       "{\r\n",
       "}\r\n",
       "\r\n",
       "}\r\n",
       "\r\n",
       "}\r\n",
       "\r\n",
       "@enduml\r\n",
       "\n",
       "PlantUML version 1.2020.13(Sat Jun 13 12:26:38 UTC 2020)\n",
       "(EPL source distribution)\n",
       "Java Runtime: OpenJDK Runtime Environment\n",
       "JVM: OpenJDK 64-Bit Server VM\n",
       "Default Encoding: UTF-8\n",
       "Language: en\n",
       "Country: null\n",
       "--></g></svg>"
      ]
     },
     "execution_count": 55,
     "metadata": {},
     "output_type": "execute_result"
    }
   ],
   "source": [
    "%viz --style=\"ORTHOLINE\" --view=\"Action\" \"StateTest\""
   ]
  },
  {
   "cell_type": "code",
   "execution_count": 56,
   "id": "further-reader",
   "metadata": {
    "execution": {
     "iopub.execute_input": "2021-03-26T13:02:49.791787Z",
     "iopub.status.busy": "2021-03-26T13:02:49.789236Z",
     "iopub.status.idle": "2021-03-26T13:02:49.906926Z",
     "shell.execute_reply": "2021-03-26T13:02:49.905595Z"
    }
   },
   "outputs": [
    {
     "data": {
      "image/svg+xml": [
       "<?xml version=\"1.0\" encoding=\"UTF-8\" standalone=\"no\"?><svg xmlns=\"http://www.w3.org/2000/svg\" xmlns:xlink=\"http://www.w3.org/1999/xlink\" contentScriptType=\"application/ecmascript\" contentStyleType=\"text/css\" height=\"471px\" preserveAspectRatio=\"none\" style=\"width:594px;height:471px;\" version=\"1.1\" viewBox=\"0 0 594 471\" width=\"594px\" zoomAndPan=\"magnify\"><defs/><g><!--MD5=[fbc87193dbaf4d95561dea2c320d4a47]\n",
       "cluster E1--><a href=\"psysml:5e99c5ac-660c-4bcd-ba7f-80dc44a07c9e\" target=\"_top\" title=\"psysml:5e99c5ac-660c-4bcd-ba7f-80dc44a07c9e\" xlink:actuate=\"onRequest\" xlink:href=\"psysml:5e99c5ac-660c-4bcd-ba7f-80dc44a07c9e\" xlink:show=\"new\" xlink:title=\"psysml:5e99c5ac-660c-4bcd-ba7f-80dc44a07c9e\" xlink:type=\"simple\"><polygon fill=\"#FFFFFF\" points=\"16,6,98,6,105,28.2969,572,28.2969,572,459,16,459,16,6\" style=\"stroke: #000000; stroke-width: 1.5;\"/><line style=\"stroke: #000000; stroke-width: 1.5;\" x1=\"16\" x2=\"105\" y1=\"28.2969\" y2=\"28.2969\"/><text fill=\"#000000\" font-family=\"sans-serif\" font-size=\"14\" font-weight=\"bold\" lengthAdjust=\"spacingAndGlyphs\" textLength=\"76\" x=\"20\" y=\"20.9951\">StateTest</text></a><!--MD5=[b4997ac47864f28c2f74865a473b2911]\n",
       "class E2--><a href=\"psysml:408e0494-0708-476d-85d5-333a69b53e96\" target=\"_top\" title=\"psysml:408e0494-0708-476d-85d5-333a69b53e96\" xlink:actuate=\"onRequest\" xlink:href=\"psysml:408e0494-0708-476d-85d5-333a69b53e96\" xlink:show=\"new\" xlink:title=\"psysml:408e0494-0708-476d-85d5-333a69b53e96\" xlink:type=\"simple\"><rect fill=\"#FFFFFF\" height=\"75.5469\" id=\"E2\" style=\"stroke: #383838; stroke-width: 1.5;\" width=\"95\" x=\"460.5\" y=\"83\"/><text fill=\"#000000\" font-family=\"sans-serif\" font-size=\"12\" font-style=\"italic\" lengthAdjust=\"spacingAndGlyphs\" textLength=\"93\" x=\"461.5\" y=\"99.1387\">«attribute def»</text><text fill=\"#000000\" font-family=\"sans-serif\" font-size=\"12\" lengthAdjust=\"spacingAndGlyphs\" textLength=\"19\" x=\"498.5\" y=\"113.1074\">Sig</text><line style=\"stroke: #383838; stroke-width: 1.5;\" x1=\"461.5\" x2=\"554.5\" y1=\"120.9375\" y2=\"120.9375\"/><text fill=\"#000000\" font-family=\"sans-serif\" font-size=\"11\" lengthAdjust=\"spacingAndGlyphs\" textLength=\"6\" x=\"466.5\" y=\"151.9526\">x</text><line style=\"stroke: #383838; stroke-width: 1.0;\" x1=\"461.5\" x2=\"480.5\" y1=\"135.3398\" y2=\"135.3398\"/><text fill=\"#000000\" font-family=\"sans-serif\" font-size=\"11\" lengthAdjust=\"spacingAndGlyphs\" textLength=\"55\" x=\"480.5\" y=\"138.6479\">attributes</text><line style=\"stroke: #383838; stroke-width: 1.0;\" x1=\"535.5\" x2=\"554.5\" y1=\"135.3398\" y2=\"135.3398\"/></a><!--MD5=[09b614a08d8cba4a07c9adeb5e0fee81]\n",
       "class E3--><a href=\"psysml:0109ef31-4e51-4de7-9ac0-eb82fbd89c67\" target=\"_top\" title=\"psysml:0109ef31-4e51-4de7-9ac0-eb82fbd89c67\" xlink:actuate=\"onRequest\" xlink:href=\"psysml:0109ef31-4e51-4de7-9ac0-eb82fbd89c67\" xlink:show=\"new\" xlink:title=\"psysml:0109ef31-4e51-4de7-9ac0-eb82fbd89c67\" xlink:type=\"simple\"><rect fill=\"#FFFFFF\" height=\"45.9375\" id=\"E3\" style=\"stroke: #383838; stroke-width: 1.5;\" width=\"95\" x=\"330.5\" y=\"98\"/><text fill=\"#000000\" font-family=\"sans-serif\" font-size=\"12\" font-style=\"italic\" lengthAdjust=\"spacingAndGlyphs\" textLength=\"93\" x=\"331.5\" y=\"114.1387\">«attribute def»</text><text fill=\"#000000\" font-family=\"sans-serif\" font-size=\"12\" lengthAdjust=\"spacingAndGlyphs\" textLength=\"22\" x=\"367\" y=\"128.1074\">Exit</text><line style=\"stroke: #383838; stroke-width: 1.5;\" x1=\"331.5\" x2=\"424.5\" y1=\"135.9375\" y2=\"135.9375\"/></a><!--MD5=[ebbe1d658d1005bcc118a6aa81145e00]\n",
       "class E4--><a href=\"psysml:64a2c9fa-aa89-4eff-b01c-ff58906cbde0\" target=\"_top\" title=\"psysml:64a2c9fa-aa89-4eff-b01c-ff58906cbde0\" xlink:actuate=\"onRequest\" xlink:href=\"psysml:64a2c9fa-aa89-4eff-b01c-ff58906cbde0\" xlink:show=\"new\" xlink:title=\"psysml:64a2c9fa-aa89-4eff-b01c-ff58906cbde0\" xlink:type=\"simple\"><rect fill=\"#FFFFFF\" height=\"45.9375\" id=\"E4\" rx=\"10\" ry=\"10\" style=\"stroke: #383838; stroke-width: 1.5;\" width=\"42\" x=\"253\" y=\"98\"/><text fill=\"#000000\" font-family=\"sans-serif\" font-size=\"12\" font-style=\"italic\" lengthAdjust=\"spacingAndGlyphs\" textLength=\"40\" x=\"254\" y=\"114.1387\">«part»</text><text fill=\"#000000\" font-family=\"sans-serif\" font-size=\"12\" lengthAdjust=\"spacingAndGlyphs\" textLength=\"8\" x=\"270\" y=\"128.1074\">p</text><line style=\"stroke: #383838; stroke-width: 1.5;\" x1=\"254\" x2=\"294\" y1=\"135.9375\" y2=\"135.9375\"/></a><!--MD5=[270fce915f116d4de14055a7c1d9a0f3]\n",
       "class E5--><a href=\"psysml:6519856a-88df-4cdc-a713-a9dddd16e281\" target=\"_top\" title=\"psysml:6519856a-88df-4cdc-a713-a9dddd16e281\" xlink:actuate=\"onRequest\" xlink:href=\"psysml:6519856a-88df-4cdc-a713-a9dddd16e281\" xlink:show=\"new\" xlink:title=\"psysml:6519856a-88df-4cdc-a713-a9dddd16e281\" xlink:type=\"simple\"><rect fill=\"#FFFFFF\" height=\"45.9375\" id=\"E5\" rx=\"10\" ry=\"10\" style=\"stroke: #383838; stroke-width: 1.5;\" width=\"55\" x=\"162.5\" y=\"98\"/><text fill=\"#000000\" font-family=\"sans-serif\" font-size=\"12\" font-style=\"italic\" lengthAdjust=\"spacingAndGlyphs\" textLength=\"53\" x=\"163.5\" y=\"114.1387\">«action»</text><text fill=\"#000000\" font-family=\"sans-serif\" font-size=\"12\" lengthAdjust=\"spacingAndGlyphs\" textLength=\"20\" x=\"180\" y=\"128.1074\">act</text><line style=\"stroke: #383838; stroke-width: 1.5;\" x1=\"163.5\" x2=\"216.5\" y1=\"135.9375\" y2=\"135.9375\"/></a><!--MD5=[60a26617385b1d2d0262a64233df1f8d]\n",
       "class E6--><a href=\"psysml:0bc7341d-f31b-4869-a064-1af20ff16fcc\" target=\"_top\" title=\"psysml:0bc7341d-f31b-4869-a064-1af20ff16fcc\" xlink:actuate=\"onRequest\" xlink:href=\"psysml:0bc7341d-f31b-4869-a064-1af20ff16fcc\" xlink:show=\"new\" xlink:title=\"psysml:0bc7341d-f31b-4869-a064-1af20ff16fcc\" xlink:type=\"simple\"><rect fill=\"#FFFFFF\" height=\"160.375\" id=\"E6\" style=\"stroke: #383838; stroke-width: 1.5;\" width=\"95\" x=\"32.5\" y=\"41\"/><text fill=\"#000000\" font-family=\"sans-serif\" font-size=\"12\" font-style=\"italic\" lengthAdjust=\"spacingAndGlyphs\" textLength=\"71\" x=\"44.5\" y=\"57.1387\">«state def»</text><text fill=\"#000000\" font-family=\"sans-serif\" font-size=\"12\" lengthAdjust=\"spacingAndGlyphs\" textLength=\"8\" x=\"76\" y=\"71.1074\">S</text><line style=\"stroke: #383838; stroke-width: 1.5;\" x1=\"33.5\" x2=\"126.5\" y1=\"78.9375\" y2=\"78.9375\"/><text fill=\"#000000\" font-family=\"sans-serif\" font-size=\"11\" lengthAdjust=\"spacingAndGlyphs\" textLength=\"17\" x=\"38.5\" y=\"109.9526\">act</text><text fill=\"#000000\" font-family=\"sans-serif\" font-size=\"11\" lengthAdjust=\"spacingAndGlyphs\" textLength=\"7\" x=\"38.5\" y=\"122.7573\">A</text><text fill=\"#000000\" font-family=\"sans-serif\" font-size=\"11\" lengthAdjust=\"spacingAndGlyphs\" textLength=\"8\" x=\"38.5\" y=\"135.562\">B</text><line style=\"stroke: #383838; stroke-width: 1.0;\" x1=\"33.5\" x2=\"36.5\" y1=\"93.3398\" y2=\"93.3398\"/><text fill=\"#000000\" font-family=\"sans-serif\" font-size=\"11\" lengthAdjust=\"spacingAndGlyphs\" textLength=\"87\" x=\"36.5\" y=\"96.6479\">performActions</text><line style=\"stroke: #383838; stroke-width: 1.0;\" x1=\"123.5\" x2=\"126.5\" y1=\"93.3398\" y2=\"93.3398\"/><text fill=\"#000000\" font-family=\"sans-serif\" font-size=\"11\" lengthAdjust=\"spacingAndGlyphs\" textLength=\"15\" x=\"38.5\" y=\"165.1714\">S1</text><line style=\"stroke: #383838; stroke-width: 1.0;\" x1=\"33.5\" x2=\"62\" y1=\"148.5586\" y2=\"148.5586\"/><text fill=\"#000000\" font-family=\"sans-serif\" font-size=\"11\" lengthAdjust=\"spacingAndGlyphs\" textLength=\"36\" x=\"62\" y=\"151.8667\">states</text><line style=\"stroke: #383838; stroke-width: 1.0;\" x1=\"98\" x2=\"126.5\" y1=\"148.5586\" y2=\"148.5586\"/><text fill=\"#000000\" font-family=\"sans-serif\" font-size=\"11\" lengthAdjust=\"spacingAndGlyphs\" textLength=\"7\" x=\"38.5\" y=\"194.7808\">T</text><line style=\"stroke: #383838; stroke-width: 1.0;\" x1=\"33.5\" x2=\"49.5\" y1=\"178.168\" y2=\"178.168\"/><text fill=\"#000000\" font-family=\"sans-serif\" font-size=\"11\" lengthAdjust=\"spacingAndGlyphs\" textLength=\"61\" x=\"49.5\" y=\"181.4761\">transitions</text><line style=\"stroke: #383838; stroke-width: 1.0;\" x1=\"110.5\" x2=\"126.5\" y1=\"178.168\" y2=\"178.168\"/></a><!--MD5=[1dd1bfd58a279cf63c5f349dbc8fc6a1]\n",
       "class E11--><a href=\"psysml:a085f23d-1115-47bd-987f-c38856471ed2\" target=\"_top\" title=\"psysml:a085f23d-1115-47bd-987f-c38856471ed2\" xlink:actuate=\"onRequest\" xlink:href=\"psysml:a085f23d-1115-47bd-987f-c38856471ed2\" xlink:show=\"new\" xlink:title=\"psysml:a085f23d-1115-47bd-987f-c38856471ed2\" xlink:type=\"simple\"><rect fill=\"#FFFFFF\" height=\"45.9375\" id=\"E11\" rx=\"10\" ry=\"10\" style=\"stroke: #383838; stroke-width: 1.5;\" width=\"49\" x=\"55.5\" y=\"261\"/><text fill=\"#000000\" font-family=\"sans-serif\" font-size=\"12\" font-style=\"italic\" lengthAdjust=\"spacingAndGlyphs\" textLength=\"47\" x=\"56.5\" y=\"277.1387\">«state»</text><text fill=\"#000000\" font-family=\"sans-serif\" font-size=\"12\" lengthAdjust=\"spacingAndGlyphs\" textLength=\"16\" x=\"72\" y=\"291.1074\">S2</text><line style=\"stroke: #383838; stroke-width: 1.5;\" x1=\"56.5\" x2=\"103.5\" y1=\"298.9375\" y2=\"298.9375\"/></a><!--MD5=[49a0ec8f00dab7302a31f22d0f0fe584]\n",
       "class E12--><a href=\"psysml:cfc90439-05ae-44f8-b88d-04fe860fe407\" target=\"_top\" title=\"psysml:cfc90439-05ae-44f8-b88d-04fe860fe407\" xlink:actuate=\"onRequest\" xlink:href=\"psysml:cfc90439-05ae-44f8-b88d-04fe860fe407\" xlink:show=\"new\" xlink:title=\"psysml:cfc90439-05ae-44f8-b88d-04fe860fe407\" xlink:type=\"simple\"><rect fill=\"#FFFFFF\" height=\"75.5469\" id=\"E12\" rx=\"10\" ry=\"10\" style=\"stroke: #383838; stroke-width: 1.5;\" width=\"90\" x=\"35\" y=\"367\"/><text fill=\"#000000\" font-family=\"sans-serif\" font-size=\"12\" font-style=\"italic\" lengthAdjust=\"spacingAndGlyphs\" textLength=\"88\" x=\"36\" y=\"383.1387\">«send action»</text><text fill=\"#000000\" font-family=\"sans-serif\" font-size=\"12\" lengthAdjust=\"spacingAndGlyphs\" textLength=\"55\" x=\"52.5\" y=\"397.1074\">doAction</text><line style=\"stroke: #383838; stroke-width: 1.5;\" x1=\"36\" x2=\"124\" y1=\"404.9375\" y2=\"404.9375\"/><text fill=\"#000000\" font-family=\"sans-serif\" font-size=\"11\" lengthAdjust=\"spacingAndGlyphs\" textLength=\"25\" x=\"41\" y=\"435.9526\">item</text><line style=\"stroke: #383838; stroke-width: 1.0;\" x1=\"36\" x2=\"42.5\" y1=\"419.3398\" y2=\"419.3398\"/><text fill=\"#000000\" font-family=\"sans-serif\" font-size=\"11\" lengthAdjust=\"spacingAndGlyphs\" textLength=\"75\" x=\"42.5\" y=\"422.6479\">itemFeatures</text><line style=\"stroke: #383838; stroke-width: 1.0;\" x1=\"117.5\" x2=\"124\" y1=\"419.3398\" y2=\"419.3398\"/></a><!--MD5=[1f5f03483f7de0d5b3680a7f6650997f]\n",
       "reverse link E6 to E11--><a href=\"psysml:a085f23d-1115-47bd-987f-c38856471ed2\" target=\"_top\" title=\"psysml:a085f23d-1115-47bd-987f-c38856471ed2\" xlink:actuate=\"onRequest\" xlink:href=\"psysml:a085f23d-1115-47bd-987f-c38856471ed2\" xlink:show=\"new\" xlink:title=\"psysml:a085f23d-1115-47bd-987f-c38856471ed2\" xlink:type=\"simple\"><path d=\"M80,214.07 C80,214.07 80,260.85 80,260.85 \" fill=\"none\" id=\"E6&lt;-E11\" style=\"stroke: #383838; stroke-width: 1.0;\"/><polygon fill=\"#383838\" points=\"80,201.07,76,207.07,80,213.07,84,207.07,80,201.07\" style=\"stroke: #383838; stroke-width: 1.0;\"/></a><!--MD5=[94adabc162ce7e41b39f13be14fbaeb3]\n",
       "reverse link E11 to E12--><a href=\"psysml:cfc90439-05ae-44f8-b88d-04fe860fe407\" target=\"_top\" title=\"psysml:cfc90439-05ae-44f8-b88d-04fe860fe407\" xlink:actuate=\"onRequest\" xlink:href=\"psysml:cfc90439-05ae-44f8-b88d-04fe860fe407\" xlink:show=\"new\" xlink:title=\"psysml:cfc90439-05ae-44f8-b88d-04fe860fe407\" xlink:type=\"simple\"><path d=\"M80,320.04 C80,320.04 80,366.81 80,366.81 \" fill=\"none\" id=\"E11&lt;-E12\" style=\"stroke: #383838; stroke-width: 1.0;\"/><polygon fill=\"#FFFFFF\" points=\"80,307.04,76,313.04,80,319.04,84,313.04,80,307.04\" style=\"stroke: #383838; stroke-width: 1.0;\"/></a><!--MD5=[642eda5c315ff49f279184fcd6f62c7c]\n",
       "@startuml\r\n",
       "skinparam linetype ortho\r\n",
       "skinparam monochrome true\r\n",
       "skinparam classbackgroundcolor white\r\n",
       "skinparam shadowing false\r\n",
       "skinparam wrapWidth 300\r\n",
       "hide circle\r\n",
       "\r\n",
       "package \"StateTest\" as E1  [[psysml:5e99c5ac-660c-4bcd-ba7f-80dc44a07c9e ]]  {\r\n",
       "comp def \"Sig\" as E2  <<(T,blue)attribute def>> [[psysml:408e0494-0708-476d-85d5-333a69b53e96 ]] {\r\n",
       "- - attributes - -\r\n",
       "x\r\n",
       "}\r\n",
       "comp def \"Exit\" as E3  <<(T,blue)attribute def>> [[psysml:0109ef31-4e51-4de7-9ac0-eb82fbd89c67 ]] {\r\n",
       "}\r\n",
       "comp usage \"p\" as E4  <<(T,blue)part>> [[psysml:64a2c9fa-aa89-4eff-b01c-ff58906cbde0 ]] {\r\n",
       "}\r\n",
       "comp usage \"act\" as E5  <<(T,blue)action>> [[psysml:6519856a-88df-4cdc-a713-a9dddd16e281 ]] {\r\n",
       "}\r\n",
       "comp def \"S\" as E6  <<(T,blue)state def>> [[psysml:0bc7341d-f31b-4869-a064-1af20ff16fcc ]] {\r\n",
       "- - performActions - -\r\n",
       "act\r\n",
       "A\r\n",
       "B\r\n",
       "- - states - -\r\n",
       "S1\r\n",
       "- - transitions - -\r\n",
       "T\r\n",
       "}\r\n",
       "comp usage \"S2\" as E11  <<(T,blue)state>> [[psysml:a085f23d-1115-47bd-987f-c38856471ed2 ]] {\r\n",
       "}\r\n",
       "comp usage \"doAction\" as E12 <<send action>> [[psysml:cfc90439-05ae-44f8-b88d-04fe860fe407 ]] {\r\n",
       "- - itemFeatures - -\r\n",
       "item\r\n",
       "}\r\n",
       "E6 *- - E11 [[psysml:a085f23d-1115-47bd-987f-c38856471ed2 ]] \r\n",
       "E11 o- - E12 [[psysml:cfc90439-05ae-44f8-b88d-04fe860fe407 ]] \r\n",
       "}\r\n",
       "@enduml\r\n",
       "\n",
       "PlantUML version 1.2020.13(Sat Jun 13 12:26:38 UTC 2020)\n",
       "(EPL source distribution)\n",
       "Java Runtime: OpenJDK Runtime Environment\n",
       "JVM: OpenJDK 64-Bit Server VM\n",
       "Default Encoding: UTF-8\n",
       "Language: en\n",
       "Country: null\n",
       "--></g></svg>"
      ]
     },
     "execution_count": 56,
     "metadata": {},
     "output_type": "execute_result"
    }
   ],
   "source": [
    "%viz --style=\"ORTHOLINE\" --view=\"Sequence\" \"StateTest\""
   ]
  },
  {
   "cell_type": "code",
   "execution_count": 57,
   "id": "hindu-stream",
   "metadata": {
    "execution": {
     "iopub.execute_input": "2021-03-26T13:02:49.960496Z",
     "iopub.status.busy": "2021-03-26T13:02:49.960094Z",
     "iopub.status.idle": "2021-03-26T13:02:50.002083Z",
     "shell.execute_reply": "2021-03-26T13:02:50.000579Z"
    }
   },
   "outputs": [
    {
     "data": {
      "image/svg+xml": [
       "<?xml version=\"1.0\" encoding=\"UTF-8\" standalone=\"no\"?><svg xmlns=\"http://www.w3.org/2000/svg\" xmlns:xlink=\"http://www.w3.org/1999/xlink\" contentScriptType=\"application/ecmascript\" contentStyleType=\"text/css\" height=\"570px\" preserveAspectRatio=\"none\" style=\"width:819px;height:570px;\" version=\"1.1\" viewBox=\"0 0 819 570\" width=\"819px\" zoomAndPan=\"magnify\"><defs/><g><!--MD5=[fbc87193dbaf4d95561dea2c320d4a47]\n",
       "cluster E1--><a href=\"psysml:5e99c5ac-660c-4bcd-ba7f-80dc44a07c9e\" target=\"_top\" title=\"psysml:5e99c5ac-660c-4bcd-ba7f-80dc44a07c9e\" xlink:actuate=\"onRequest\" xlink:href=\"psysml:5e99c5ac-660c-4bcd-ba7f-80dc44a07c9e\" xlink:show=\"new\" xlink:title=\"psysml:5e99c5ac-660c-4bcd-ba7f-80dc44a07c9e\" xlink:type=\"simple\"><polygon fill=\"#FFFFFF\" points=\"16,6,98,6,105,28.2969,797,28.2969,797,558,16,558,16,6\" style=\"stroke: #000000; stroke-width: 1.5;\"/><line style=\"stroke: #000000; stroke-width: 1.5;\" x1=\"16\" x2=\"105\" y1=\"28.2969\" y2=\"28.2969\"/><text fill=\"#000000\" font-family=\"sans-serif\" font-size=\"14\" font-weight=\"bold\" lengthAdjust=\"spacingAndGlyphs\" textLength=\"76\" x=\"20\" y=\"20.9951\">StateTest</text></a><!--MD5=[14e3b0961a2654348d326746436168a1]\n",
       "cluster E6--><a href=\"psysml:0bc7341d-f31b-4869-a064-1af20ff16fcc\" target=\"_top\" title=\"psysml:0bc7341d-f31b-4869-a064-1af20ff16fcc\" xlink:actuate=\"onRequest\" xlink:href=\"psysml:0bc7341d-f31b-4869-a064-1af20ff16fcc\" xlink:show=\"new\" xlink:title=\"psysml:0bc7341d-f31b-4869-a064-1af20ff16fcc\" xlink:type=\"simple\"><rect fill=\"#FFFFFF\" height=\"485\" id=\"E6\" style=\"stroke: #383838; stroke-width: 1.5;\" width=\"327\" x=\"446\" y=\"49\"/><rect fill=\"#F8F8F8\" height=\"37.9375\" style=\"stroke: #383838; stroke-width: 1.5;\" width=\"327\" x=\"446\" y=\"49\"/><text fill=\"#000000\" font-family=\"sans-serif\" font-size=\"12\" font-style=\"italic\" lengthAdjust=\"spacingAndGlyphs\" textLength=\"71\" x=\"574\" y=\"65.1387\">«state def»</text><text fill=\"#000000\" font-family=\"sans-serif\" font-size=\"12\" lengthAdjust=\"spacingAndGlyphs\" textLength=\"8\" x=\"605.5\" y=\"79.1074\">S</text><line style=\"stroke: #383838; stroke-width: 1.0;\" x1=\"446\" x2=\"773\" y1=\"132.8438\" y2=\"132.8438\"/><text fill=\"#000000\" font-family=\"sans-serif\" font-size=\"12\" font-weight=\"bold\" lengthAdjust=\"spacingAndGlyphs\" textLength=\"38\" x=\"451\" y=\"100.0762\">entry</text><text fill=\"#000000\" font-family=\"sans-serif\" font-size=\"12\" lengthAdjust=\"spacingAndGlyphs\" textLength=\"16\" x=\"489\" y=\"100.0762\">/ A</text><text fill=\"#000000\" font-family=\"sans-serif\" font-size=\"12\" font-weight=\"bold\" lengthAdjust=\"spacingAndGlyphs\" textLength=\"18\" x=\"451\" y=\"114.0449\">do</text><text fill=\"#000000\" font-family=\"sans-serif\" font-size=\"12\" lengthAdjust=\"spacingAndGlyphs\" textLength=\"16\" x=\"469\" y=\"114.0449\">/ B</text><text fill=\"#000000\" font-family=\"sans-serif\" font-size=\"12\" font-weight=\"bold\" lengthAdjust=\"spacingAndGlyphs\" textLength=\"26\" x=\"451\" y=\"128.0137\">exit</text><text fill=\"#000000\" font-family=\"sans-serif\" font-size=\"12\" lengthAdjust=\"spacingAndGlyphs\" textLength=\"28\" x=\"477\" y=\"128.0137\">/ act</text></a><!--MD5=[b4997ac47864f28c2f74865a473b2911]\n",
       "class E2--><a href=\"psysml:408e0494-0708-476d-85d5-333a69b53e96\" target=\"_top\" title=\"psysml:408e0494-0708-476d-85d5-333a69b53e96\" xlink:actuate=\"onRequest\" xlink:href=\"psysml:408e0494-0708-476d-85d5-333a69b53e96\" xlink:show=\"new\" xlink:title=\"psysml:408e0494-0708-476d-85d5-333a69b53e96\" xlink:type=\"simple\"><rect fill=\"#FFFFFF\" height=\"75.5469\" id=\"E2\" style=\"stroke: #383838; stroke-width: 1.5;\" width=\"95\" x=\"334.5\" y=\"119\"/><text fill=\"#000000\" font-family=\"sans-serif\" font-size=\"12\" font-style=\"italic\" lengthAdjust=\"spacingAndGlyphs\" textLength=\"93\" x=\"335.5\" y=\"135.1387\">«attribute def»</text><text fill=\"#000000\" font-family=\"sans-serif\" font-size=\"12\" lengthAdjust=\"spacingAndGlyphs\" textLength=\"19\" x=\"372.5\" y=\"149.1074\">Sig</text><line style=\"stroke: #383838; stroke-width: 1.5;\" x1=\"335.5\" x2=\"428.5\" y1=\"156.9375\" y2=\"156.9375\"/><text fill=\"#000000\" font-family=\"sans-serif\" font-size=\"11\" lengthAdjust=\"spacingAndGlyphs\" textLength=\"6\" x=\"340.5\" y=\"187.9526\">x</text><line style=\"stroke: #383838; stroke-width: 1.0;\" x1=\"335.5\" x2=\"354.5\" y1=\"171.3398\" y2=\"171.3398\"/><text fill=\"#000000\" font-family=\"sans-serif\" font-size=\"11\" lengthAdjust=\"spacingAndGlyphs\" textLength=\"55\" x=\"354.5\" y=\"174.6479\">attributes</text><line style=\"stroke: #383838; stroke-width: 1.0;\" x1=\"409.5\" x2=\"428.5\" y1=\"171.3398\" y2=\"171.3398\"/></a><!--MD5=[09b614a08d8cba4a07c9adeb5e0fee81]\n",
       "class E3--><a href=\"psysml:0109ef31-4e51-4de7-9ac0-eb82fbd89c67\" target=\"_top\" title=\"psysml:0109ef31-4e51-4de7-9ac0-eb82fbd89c67\" xlink:actuate=\"onRequest\" xlink:href=\"psysml:0109ef31-4e51-4de7-9ac0-eb82fbd89c67\" xlink:show=\"new\" xlink:title=\"psysml:0109ef31-4e51-4de7-9ac0-eb82fbd89c67\" xlink:type=\"simple\"><rect fill=\"#FFFFFF\" height=\"45.9375\" id=\"E3\" style=\"stroke: #383838; stroke-width: 1.5;\" width=\"95\" x=\"204.5\" y=\"134\"/><text fill=\"#000000\" font-family=\"sans-serif\" font-size=\"12\" font-style=\"italic\" lengthAdjust=\"spacingAndGlyphs\" textLength=\"93\" x=\"205.5\" y=\"150.1387\">«attribute def»</text><text fill=\"#000000\" font-family=\"sans-serif\" font-size=\"12\" lengthAdjust=\"spacingAndGlyphs\" textLength=\"22\" x=\"241\" y=\"164.1074\">Exit</text><line style=\"stroke: #383838; stroke-width: 1.5;\" x1=\"205.5\" x2=\"298.5\" y1=\"171.9375\" y2=\"171.9375\"/></a><!--MD5=[ebbe1d658d1005bcc118a6aa81145e00]\n",
       "class E4--><a href=\"psysml:64a2c9fa-aa89-4eff-b01c-ff58906cbde0\" target=\"_top\" title=\"psysml:64a2c9fa-aa89-4eff-b01c-ff58906cbde0\" xlink:actuate=\"onRequest\" xlink:href=\"psysml:64a2c9fa-aa89-4eff-b01c-ff58906cbde0\" xlink:show=\"new\" xlink:title=\"psysml:64a2c9fa-aa89-4eff-b01c-ff58906cbde0\" xlink:type=\"simple\"><rect fill=\"#FFFFFF\" height=\"45.9375\" id=\"E4\" rx=\"10\" ry=\"10\" style=\"stroke: #383838; stroke-width: 1.5;\" width=\"42\" x=\"127\" y=\"134\"/><text fill=\"#000000\" font-family=\"sans-serif\" font-size=\"12\" font-style=\"italic\" lengthAdjust=\"spacingAndGlyphs\" textLength=\"40\" x=\"128\" y=\"150.1387\">«part»</text><text fill=\"#000000\" font-family=\"sans-serif\" font-size=\"12\" lengthAdjust=\"spacingAndGlyphs\" textLength=\"8\" x=\"144\" y=\"164.1074\">p</text><line style=\"stroke: #383838; stroke-width: 1.5;\" x1=\"128\" x2=\"168\" y1=\"171.9375\" y2=\"171.9375\"/></a><g id=\"E1.E5\"><a href=\"psysml:6519856a-88df-4cdc-a713-a9dddd16e281\" target=\"_top\" title=\"psysml:6519856a-88df-4cdc-a713-a9dddd16e281\" xlink:actuate=\"onRequest\" xlink:href=\"psysml:6519856a-88df-4cdc-a713-a9dddd16e281\" xlink:show=\"new\" xlink:title=\"psysml:6519856a-88df-4cdc-a713-a9dddd16e281\" xlink:type=\"simple\"><rect fill=\"#FFFFFF\" height=\"42.9375\" id=\"E5\" rx=\"10\" ry=\"10\" style=\"stroke: #383838; stroke-width: 1.5;\" width=\"60\" x=\"32\" y=\"135.5\"/><rect fill=\"#F8F8F8\" height=\"37.9375\" rx=\"10\" ry=\"10\" style=\"stroke: #F8F8F8; stroke-width: 1.5;\" width=\"60\" x=\"32\" y=\"135.5\"/><rect fill=\"#F8F8F8\" height=\"10\" style=\"stroke: #F8F8F8; stroke-width: 1.5;\" width=\"60\" x=\"32\" y=\"163.4375\"/><rect fill=\"none\" height=\"42.9375\" id=\"E5\" rx=\"10\" ry=\"10\" style=\"stroke: #383838; stroke-width: 1.5;\" width=\"60\" x=\"32\" y=\"135.5\"/><text fill=\"#000000\" font-family=\"sans-serif\" font-size=\"12\" font-style=\"italic\" lengthAdjust=\"spacingAndGlyphs\" textLength=\"53\" x=\"35.5\" y=\"151.6387\">«action»</text><text fill=\"#000000\" font-family=\"sans-serif\" font-size=\"12\" lengthAdjust=\"spacingAndGlyphs\" textLength=\"20\" x=\"52\" y=\"165.6074\">act</text></a></g><ellipse cx=\"558\" cy=\"157\" fill=\"#000000\" rx=\"10\" ry=\"10\" style=\"stroke: none; stroke-width: 1.0;\"/><ellipse cx=\"558\" cy=\"508\" fill=\"none\" rx=\"10\" ry=\"10\" style=\"stroke: #000000; stroke-width: 1.0;\"/><ellipse cx=\"558.5\" cy=\"508.5\" fill=\"#000000\" rx=\"6\" ry=\"6\" style=\"stroke: none; stroke-width: 1.0;\"/><g id=\"E1.E6.E7\"><a href=\"psysml:70242e19-3f56-46b0-b4b5-fd0d440c29ee\" target=\"_top\" title=\"psysml:70242e19-3f56-46b0-b4b5-fd0d440c29ee\" xlink:actuate=\"onRequest\" xlink:href=\"psysml:70242e19-3f56-46b0-b4b5-fd0d440c29ee\" xlink:show=\"new\" xlink:title=\"psysml:70242e19-3f56-46b0-b4b5-fd0d440c29ee\" xlink:type=\"simple\"><rect fill=\"#FFFFFF\" height=\"40\" id=\"E7\" rx=\"10\" ry=\"10\" style=\"stroke: #383838; stroke-width: 1.5;\" width=\"50\" x=\"533\" y=\"256\"/><rect fill=\"#F8F8F8\" height=\"23.9688\" rx=\"10\" ry=\"10\" style=\"stroke: #F8F8F8; stroke-width: 1.5;\" width=\"50\" x=\"533\" y=\"256\"/><rect fill=\"#F8F8F8\" height=\"10\" style=\"stroke: #F8F8F8; stroke-width: 1.5;\" width=\"50\" x=\"533\" y=\"269.9688\"/><rect fill=\"none\" height=\"40\" id=\"E7\" rx=\"10\" ry=\"10\" style=\"stroke: #383838; stroke-width: 1.5;\" width=\"50\" x=\"533\" y=\"256\"/><text fill=\"#000000\" font-family=\"sans-serif\" font-size=\"12\" lengthAdjust=\"spacingAndGlyphs\" textLength=\"16\" x=\"550\" y=\"272.1387\">S1</text></a></g><g id=\"E1.E6.E8\"><a href=\"psysml:a085f23d-1115-47bd-987f-c38856471ed2\" target=\"_top\" title=\"psysml:a085f23d-1115-47bd-987f-c38856471ed2\" xlink:actuate=\"onRequest\" xlink:href=\"psysml:a085f23d-1115-47bd-987f-c38856471ed2\" xlink:show=\"new\" xlink:title=\"psysml:a085f23d-1115-47bd-987f-c38856471ed2\" xlink:type=\"simple\"><rect fill=\"#FFFFFF\" height=\"47.9375\" id=\"E8\" rx=\"10\" ry=\"10\" style=\"stroke: #383838; stroke-width: 1.5;\" width=\"50\" x=\"533\" y=\"373\"/><rect fill=\"#F8F8F8\" height=\"23.9688\" rx=\"10\" ry=\"10\" style=\"stroke: #F8F8F8; stroke-width: 1.5;\" width=\"50\" x=\"533\" y=\"373\"/><rect fill=\"#F8F8F8\" height=\"10\" style=\"stroke: #F8F8F8; stroke-width: 1.5;\" width=\"50\" x=\"533\" y=\"386.9688\"/><rect fill=\"none\" height=\"47.9375\" id=\"E8\" rx=\"10\" ry=\"10\" style=\"stroke: #383838; stroke-width: 1.5;\" width=\"50\" x=\"533\" y=\"373\"/><text fill=\"#000000\" font-family=\"sans-serif\" font-size=\"12\" lengthAdjust=\"spacingAndGlyphs\" textLength=\"16\" x=\"550\" y=\"389.1387\">S2</text><line style=\"stroke: #383838; stroke-width: 1.0;\" x1=\"533\" x2=\"583\" y1=\"396.9688\" y2=\"396.9688\"/><text fill=\"#000000\" font-family=\"sans-serif\" font-size=\"12\" font-weight=\"bold\" lengthAdjust=\"spacingAndGlyphs\" textLength=\"18\" x=\"538\" y=\"410.1074\">do</text><text fill=\"#000000\" font-family=\"sans-serif\" font-size=\"12\" lengthAdjust=\"spacingAndGlyphs\" textLength=\"4\" x=\"556\" y=\"410.1074\">/</text></a></g><!--MD5=[5a531d3a85f3339e6e197084acb48195]\n",
       "link *start*E6 to E7--><a href=\"psysml:43d9c4f9-ed20-4c00-a0b0-be6dc49a6894\" target=\"_top\" title=\"psysml:43d9c4f9-ed20-4c00-a0b0-be6dc49a6894\" xlink:actuate=\"onRequest\" xlink:href=\"psysml:43d9c4f9-ed20-4c00-a0b0-be6dc49a6894\" xlink:show=\"new\" xlink:title=\"psysml:43d9c4f9-ed20-4c00-a0b0-be6dc49a6894\" xlink:type=\"simple\"><path d=\"M558,167.15 C558,167.15 558,250.67 558,250.67 \" fill=\"none\" id=\"*start*E6-&gt;E7\" style=\"stroke: #383838; stroke-width: 1.0;\"/><polygon fill=\"#383838\" points=\"558,255.67,562,246.67,558,250.67,554,246.67,558,255.67\" style=\"stroke: #383838; stroke-width: 1.0;\"/></a><!--MD5=[7ec9a8babba89ddcae1318ca9fb3c814]\n",
       "link E8 to *end*E6--><a href=\"psysml:f955b7ee-57f2-4e8a-b602-a443c9a31c83\" target=\"_top\" title=\"psysml:f955b7ee-57f2-4e8a-b602-a443c9a31c83\" xlink:actuate=\"onRequest\" xlink:href=\"psysml:f955b7ee-57f2-4e8a-b602-a443c9a31c83\" xlink:show=\"new\" xlink:title=\"psysml:f955b7ee-57f2-4e8a-b602-a443c9a31c83\" xlink:type=\"simple\"><path d=\"M558,421.09 C558,421.09 558,492.94 558,492.94 \" fill=\"none\" id=\"E8-&gt;*end*E6\" style=\"stroke: #383838; stroke-width: 1.0;\"/><polygon fill=\"#383838\" points=\"558,497.94,562,488.94,558,492.94,554,488.94,558,497.94\" style=\"stroke: #383838; stroke-width: 1.0;\"/><text fill=\"#000000\" font-family=\"sans-serif\" font-size=\"13\" lengthAdjust=\"spacingAndGlyphs\" textLength=\"23\" x=\"559\" y=\"464.0669\">Exit</text></a><!--MD5=[79bc8f324ef4d02c541433f2e6e513c3]\n",
       "link E7 to E8--><a href=\"psysml:d37fdc60-36d2-41f0-83fe-622a63ffc619\" target=\"_top\" title=\"psysml:d37fdc60-36d2-41f0-83fe-622a63ffc619\" xlink:actuate=\"onRequest\" xlink:href=\"psysml:d37fdc60-36d2-41f0-83fe-622a63ffc619\" xlink:show=\"new\" xlink:title=\"psysml:d37fdc60-36d2-41f0-83fe-622a63ffc619\" xlink:type=\"simple\"><path d=\"M549.67,296.25 C549.67,296.25 549.67,367.93 549.67,367.93 \" fill=\"none\" id=\"E7-&gt;E8\" style=\"stroke: #383838; stroke-width: 1.0;\"/><polygon fill=\"#383838\" points=\"549.67,372.93,553.67,363.93,549.67,367.93,545.67,363.93,549.67,372.93\" style=\"stroke: #383838; stroke-width: 1.0;\"/><text fill=\"#000000\" font-family=\"sans-serif\" font-size=\"13\" lengthAdjust=\"spacingAndGlyphs\" textLength=\"81\" x=\"498\" y=\"339.0669\">Sig /action D</text></a><!--MD5=[bfa3c8b0d15052fdf50ae9310b491027]\n",
       "link E8 to E7--><a href=\"psysml:b2ce6d4b-1a56-4d0e-ade4-ffb9136266c2\" target=\"_top\" title=\"psysml:b2ce6d4b-1a56-4d0e-ade4-ffb9136266c2\" xlink:actuate=\"onRequest\" xlink:href=\"psysml:b2ce6d4b-1a56-4d0e-ade4-ffb9136266c2\" xlink:show=\"new\" xlink:title=\"psysml:b2ce6d4b-1a56-4d0e-ade4-ffb9136266c2\" xlink:type=\"simple\"><path d=\"M566.33,372.8 C566.33,372.8 566.33,301.14 566.33,301.14 \" fill=\"none\" id=\"E8-&gt;E7\" style=\"stroke: #383838; stroke-width: 1.0;\"/><polygon fill=\"#383838\" points=\"566.33,296.14,562.33,305.14,566.33,301.14,570.33,305.14,566.33,296.14\" style=\"stroke: #383838; stroke-width: 1.0;\"/><text fill=\"#000000\" font-family=\"sans-serif\" font-size=\"13\" lengthAdjust=\"spacingAndGlyphs\" textLength=\"135\" x=\"621\" y=\"339.0669\">Sig [true]/send s to p</text></a><!--MD5=[fa1f6d00ccfc677604cbfd2b72d18b24]\n",
       "@startuml\r\n",
       "skinparam linetype ortho\r\n",
       "skinparam monochrome true\r\n",
       "skinparam classbackgroundcolor white\r\n",
       "skinparam shadowing false\r\n",
       "skinparam wrapWidth 300\r\n",
       "hide circle\r\n",
       "\r\n",
       "package \"StateTest\" as E1  [[psysml:5e99c5ac-660c-4bcd-ba7f-80dc44a07c9e ]]  {\r\n",
       "comp def \"Sig\" as E2  <<(T,blue)attribute def>> [[psysml:408e0494-0708-476d-85d5-333a69b53e96 ]] {\r\n",
       "- - attributes - -\r\n",
       "x\r\n",
       "}\r\n",
       "comp def \"Exit\" as E3  <<(T,blue)attribute def>> [[psysml:0109ef31-4e51-4de7-9ac0-eb82fbd89c67 ]] {\r\n",
       "}\r\n",
       "comp usage \"p\" as E4  <<(T,blue)part>> [[psysml:64a2c9fa-aa89-4eff-b01c-ff58906cbde0 ]] {\r\n",
       "}\r\n",
       "rec usage \"act\" as E5  <<(T,blue)action>> [[psysml:6519856a-88df-4cdc-a713-a9dddd16e281 ]] {\r\n",
       "}\r\n",
       "\r\n",
       "rec def \"S\" as E6  <<(T,blue)state def>> [[psysml:0bc7341d-f31b-4869-a064-1af20ff16fcc ]] {\r\n",
       "rec usage \"S1\" as E7 [[psysml:70242e19-3f56-46b0-b4b5-fd0d440c29ee ]] {\r\n",
       "}\r\n",
       "\r\n",
       "rec usage \"S2\" as E8 [[psysml:a085f23d-1115-47bd-987f-c38856471ed2 ]] {\r\n",
       "desc \"S2\" as E8  : **do**/ \r\n",
       "}\r\n",
       "\r\n",
       "[*] - -> E7 [[psysml:43d9c4f9-ed20-4c00-a0b0-be6dc49a6894 ]] \r\n",
       "E8  - -> [*] [[psysml:f955b7ee-57f2-4e8a-b602-a443c9a31c83 ]] : Exit \r\n",
       "desc \"S\" as E6  : **entry**/ A\r\n",
       "desc \"S\" as E6  : **do**/ B\r\n",
       "desc \"S\" as E6  : **exit**/ act \r\n",
       "}\r\n",
       "\r\n",
       "E7  - -> E8 [[psysml:d37fdc60-36d2-41f0-83fe-622a63ffc619 ]] : Sig /action D\r\n",
       "E8  - -> E7 [[psysml:b2ce6d4b-1a56-4d0e-ade4-ffb9136266c2 ]] : Sig [true]/send s to p\r\n",
       "}\r\n",
       "@enduml\r\n",
       "\n",
       "PlantUML version 1.2020.13(Sat Jun 13 12:26:38 UTC 2020)\n",
       "(EPL source distribution)\n",
       "Java Runtime: OpenJDK Runtime Environment\n",
       "JVM: OpenJDK 64-Bit Server VM\n",
       "Default Encoding: UTF-8\n",
       "Language: en\n",
       "Country: null\n",
       "--></g></svg>"
      ]
     },
     "execution_count": 57,
     "metadata": {},
     "output_type": "execute_result"
    }
   ],
   "source": [
    "%viz --style=\"ORTHOLINE\" --view=\"MIXED\" \"StateTest\""
   ]
  }
 ],
 "metadata": {
  "kernelspec": {
   "display_name": "SysML",
   "language": "sysml",
   "name": "sysml"
  },
  "language_info": {
   "codemirror_mode": "sysml",
   "file_extension": ".sysml",
   "mimetype": "text/x-sysml",
   "name": "SysML",
   "pygments_lexer": "java",
   "version": "1.0.0"
  }
 },
 "nbformat": 4,
 "nbformat_minor": 5
}
