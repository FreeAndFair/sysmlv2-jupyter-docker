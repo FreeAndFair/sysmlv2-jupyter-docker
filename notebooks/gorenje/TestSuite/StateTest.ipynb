{
 "cells": [
  {
   "cell_type": "markdown",
   "id": "premier-colors",
   "metadata": {},
   "source": [
    "# SysML v2 Test Suite\n",
    "\n",
    "This can notebook can be cleared using menu `Edit --> Clear All Outputs` and then all cells can be\n",
    "run using menu `Run --> Run All Cells`.\n",
    "\n",
    "**WARNING**: This file is generated, all modifications here will be ignored.\n"
   ]
  },
  {
   "cell_type": "markdown",
   "id": "successful-folks",
   "metadata": {},
   "source": [
    "## File: ../../sysml/src/examples/Simple Tests/StateTest.sysml"
   ]
  },
  {
   "cell_type": "code",
   "execution_count": 1,
   "id": "collected-dialogue",
   "metadata": {
    "execution": {
     "iopub.execute_input": "2021-03-25T13:48:05.101262Z",
     "iopub.status.busy": "2021-03-25T13:48:05.100203Z",
     "iopub.status.idle": "2021-03-25T13:48:05.808631Z",
     "shell.execute_reply": "2021-03-25T13:48:05.807816Z"
    }
   },
   "outputs": [
    {
     "data": {
      "text/plain": [
       "Package StateTest (aa58dcab-3741-40a4-a1d5-e94cf8231c1b)\n"
      ]
     },
     "execution_count": 1,
     "metadata": {},
     "output_type": "execute_result"
    }
   ],
   "source": [
    "package StateTest {\n",
    "\tattribute def Sig {\n",
    "\t\tx;\n",
    "\t}\n",
    "\tattribute def Exit;\n",
    "\t\n",
    "\tpart p;\n",
    "\t\n",
    "\taction act;\n",
    "\t\n",
    "\tstate def S {\n",
    "\t\tentry action A; then S1;\n",
    "\t\tdo action B;\n",
    "\t\texit act;\n",
    "\t\t\n",
    "\t\tstate S1;\n",
    "\t\t\taccept s : Sig\n",
    "\t\t\tdo action D\n",
    "\t\t\tthen S2;\n",
    "\t\t\n",
    "\t\tstate S2 {\n",
    "\t\t\tdo send Sig(T::s::x) to p;\n",
    "\t\t}\n",
    "\t\taccept Exit then done;\n",
    "\t\t\n",
    "\t\ttransition T\n",
    "\t\t\tfirst S2\n",
    "\t\t\taccept s : Sig\n",
    "\t\t\tif true\n",
    "\t\t\tdo send s to p\n",
    "\t\t\tthen S1;\t\t\n",
    "\t}\n",
    "}"
   ]
  },
  {
   "cell_type": "code",
   "execution_count": 2,
   "id": "raising-speaking",
   "metadata": {
    "execution": {
     "iopub.execute_input": "2021-03-25T13:48:05.861318Z",
     "iopub.status.busy": "2021-03-25T13:48:05.860828Z",
     "iopub.status.idle": "2021-03-25T13:48:07.011947Z",
     "shell.execute_reply": "2021-03-25T13:48:07.011074Z"
    }
   },
   "outputs": [
    {
     "data": {
      "image/svg+xml": [
       "<?xml version=\"1.0\" encoding=\"UTF-8\" standalone=\"no\"?><svg xmlns=\"http://www.w3.org/2000/svg\" xmlns:xlink=\"http://www.w3.org/1999/xlink\" contentScriptType=\"application/ecmascript\" contentStyleType=\"text/css\" height=\"570px\" preserveAspectRatio=\"none\" style=\"width:819px;height:570px;\" version=\"1.1\" viewBox=\"0 0 819 570\" width=\"819px\" zoomAndPan=\"magnify\"><defs/><g><!--MD5=[fbc87193dbaf4d95561dea2c320d4a47]\n",
       "cluster E1--><a href=\"psysml:7751d53a-3d7b-46fc-b5d8-bf0ae3c7070c\" target=\"_top\" title=\"psysml:7751d53a-3d7b-46fc-b5d8-bf0ae3c7070c\" xlink:actuate=\"onRequest\" xlink:href=\"psysml:7751d53a-3d7b-46fc-b5d8-bf0ae3c7070c\" xlink:show=\"new\" xlink:title=\"psysml:7751d53a-3d7b-46fc-b5d8-bf0ae3c7070c\" xlink:type=\"simple\"><polygon fill=\"#FFFFFF\" points=\"16,6,98,6,105,28.2969,797,28.2969,797,558,16,558,16,6\" style=\"stroke: #000000; stroke-width: 1.5;\"/><line style=\"stroke: #000000; stroke-width: 1.5;\" x1=\"16\" x2=\"105\" y1=\"28.2969\" y2=\"28.2969\"/><text fill=\"#000000\" font-family=\"sans-serif\" font-size=\"14\" font-weight=\"bold\" lengthAdjust=\"spacingAndGlyphs\" textLength=\"76\" x=\"20\" y=\"20.9951\">StateTest</text></a><!--MD5=[14e3b0961a2654348d326746436168a1]\n",
       "cluster E6--><a href=\"psysml:6343fae7-e97a-4dac-816a-0d66812becae\" target=\"_top\" title=\"psysml:6343fae7-e97a-4dac-816a-0d66812becae\" xlink:actuate=\"onRequest\" xlink:href=\"psysml:6343fae7-e97a-4dac-816a-0d66812becae\" xlink:show=\"new\" xlink:title=\"psysml:6343fae7-e97a-4dac-816a-0d66812becae\" xlink:type=\"simple\"><rect fill=\"#FFFFFF\" height=\"485\" id=\"E6\" style=\"stroke: #383838; stroke-width: 1.5;\" width=\"327\" x=\"446\" y=\"49\"/><rect fill=\"#F8F8F8\" height=\"37.9375\" style=\"stroke: #383838; stroke-width: 1.5;\" width=\"327\" x=\"446\" y=\"49\"/><text fill=\"#000000\" font-family=\"sans-serif\" font-size=\"12\" font-style=\"italic\" lengthAdjust=\"spacingAndGlyphs\" textLength=\"71\" x=\"574\" y=\"65.1387\">«state def»</text><text fill=\"#000000\" font-family=\"sans-serif\" font-size=\"12\" lengthAdjust=\"spacingAndGlyphs\" textLength=\"8\" x=\"605.5\" y=\"79.1074\">S</text><line style=\"stroke: #383838; stroke-width: 1.0;\" x1=\"446\" x2=\"773\" y1=\"132.8438\" y2=\"132.8438\"/><text fill=\"#000000\" font-family=\"sans-serif\" font-size=\"12\" font-weight=\"bold\" lengthAdjust=\"spacingAndGlyphs\" textLength=\"38\" x=\"451\" y=\"100.0762\">entry</text><text fill=\"#000000\" font-family=\"sans-serif\" font-size=\"12\" lengthAdjust=\"spacingAndGlyphs\" textLength=\"16\" x=\"489\" y=\"100.0762\">/ A</text><text fill=\"#000000\" font-family=\"sans-serif\" font-size=\"12\" font-weight=\"bold\" lengthAdjust=\"spacingAndGlyphs\" textLength=\"18\" x=\"451\" y=\"114.0449\">do</text><text fill=\"#000000\" font-family=\"sans-serif\" font-size=\"12\" lengthAdjust=\"spacingAndGlyphs\" textLength=\"16\" x=\"469\" y=\"114.0449\">/ B</text><text fill=\"#000000\" font-family=\"sans-serif\" font-size=\"12\" font-weight=\"bold\" lengthAdjust=\"spacingAndGlyphs\" textLength=\"26\" x=\"451\" y=\"128.0137\">exit</text><text fill=\"#000000\" font-family=\"sans-serif\" font-size=\"12\" lengthAdjust=\"spacingAndGlyphs\" textLength=\"28\" x=\"477\" y=\"128.0137\">/ act</text></a><!--MD5=[b4997ac47864f28c2f74865a473b2911]\n",
       "class E2--><a href=\"psysml:85dbfb10-d456-4c59-a9e0-99da33bb7a4b\" target=\"_top\" title=\"psysml:85dbfb10-d456-4c59-a9e0-99da33bb7a4b\" xlink:actuate=\"onRequest\" xlink:href=\"psysml:85dbfb10-d456-4c59-a9e0-99da33bb7a4b\" xlink:show=\"new\" xlink:title=\"psysml:85dbfb10-d456-4c59-a9e0-99da33bb7a4b\" xlink:type=\"simple\"><rect fill=\"#FFFFFF\" height=\"75.5469\" id=\"E2\" style=\"stroke: #383838; stroke-width: 1.5;\" width=\"95\" x=\"334.5\" y=\"119\"/><text fill=\"#000000\" font-family=\"sans-serif\" font-size=\"12\" font-style=\"italic\" lengthAdjust=\"spacingAndGlyphs\" textLength=\"93\" x=\"335.5\" y=\"135.1387\">«attribute def»</text><text fill=\"#000000\" font-family=\"sans-serif\" font-size=\"12\" lengthAdjust=\"spacingAndGlyphs\" textLength=\"19\" x=\"372.5\" y=\"149.1074\">Sig</text><line style=\"stroke: #383838; stroke-width: 1.5;\" x1=\"335.5\" x2=\"428.5\" y1=\"156.9375\" y2=\"156.9375\"/><text fill=\"#000000\" font-family=\"sans-serif\" font-size=\"11\" lengthAdjust=\"spacingAndGlyphs\" textLength=\"6\" x=\"340.5\" y=\"187.9526\">x</text><line style=\"stroke: #383838; stroke-width: 1.0;\" x1=\"335.5\" x2=\"354.5\" y1=\"171.3398\" y2=\"171.3398\"/><text fill=\"#000000\" font-family=\"sans-serif\" font-size=\"11\" lengthAdjust=\"spacingAndGlyphs\" textLength=\"55\" x=\"354.5\" y=\"174.6479\">attributes</text><line style=\"stroke: #383838; stroke-width: 1.0;\" x1=\"409.5\" x2=\"428.5\" y1=\"171.3398\" y2=\"171.3398\"/></a><!--MD5=[09b614a08d8cba4a07c9adeb5e0fee81]\n",
       "class E3--><a href=\"psysml:06ed69bb-03e4-455b-a820-630d0564221d\" target=\"_top\" title=\"psysml:06ed69bb-03e4-455b-a820-630d0564221d\" xlink:actuate=\"onRequest\" xlink:href=\"psysml:06ed69bb-03e4-455b-a820-630d0564221d\" xlink:show=\"new\" xlink:title=\"psysml:06ed69bb-03e4-455b-a820-630d0564221d\" xlink:type=\"simple\"><rect fill=\"#FFFFFF\" height=\"45.9375\" id=\"E3\" style=\"stroke: #383838; stroke-width: 1.5;\" width=\"95\" x=\"204.5\" y=\"134\"/><text fill=\"#000000\" font-family=\"sans-serif\" font-size=\"12\" font-style=\"italic\" lengthAdjust=\"spacingAndGlyphs\" textLength=\"93\" x=\"205.5\" y=\"150.1387\">«attribute def»</text><text fill=\"#000000\" font-family=\"sans-serif\" font-size=\"12\" lengthAdjust=\"spacingAndGlyphs\" textLength=\"22\" x=\"241\" y=\"164.1074\">Exit</text><line style=\"stroke: #383838; stroke-width: 1.5;\" x1=\"205.5\" x2=\"298.5\" y1=\"171.9375\" y2=\"171.9375\"/></a><!--MD5=[ebbe1d658d1005bcc118a6aa81145e00]\n",
       "class E4--><a href=\"psysml:f6292196-12b9-4bba-a758-98820cb4f3f5\" target=\"_top\" title=\"psysml:f6292196-12b9-4bba-a758-98820cb4f3f5\" xlink:actuate=\"onRequest\" xlink:href=\"psysml:f6292196-12b9-4bba-a758-98820cb4f3f5\" xlink:show=\"new\" xlink:title=\"psysml:f6292196-12b9-4bba-a758-98820cb4f3f5\" xlink:type=\"simple\"><rect fill=\"#FFFFFF\" height=\"45.9375\" id=\"E4\" rx=\"10\" ry=\"10\" style=\"stroke: #383838; stroke-width: 1.5;\" width=\"42\" x=\"127\" y=\"134\"/><text fill=\"#000000\" font-family=\"sans-serif\" font-size=\"12\" font-style=\"italic\" lengthAdjust=\"spacingAndGlyphs\" textLength=\"40\" x=\"128\" y=\"150.1387\">«part»</text><text fill=\"#000000\" font-family=\"sans-serif\" font-size=\"12\" lengthAdjust=\"spacingAndGlyphs\" textLength=\"8\" x=\"144\" y=\"164.1074\">p</text><line style=\"stroke: #383838; stroke-width: 1.5;\" x1=\"128\" x2=\"168\" y1=\"171.9375\" y2=\"171.9375\"/></a><g id=\"E1.E5\"><a href=\"psysml:d7bec2b6-e32c-41d0-a208-370a3f1c18c8\" target=\"_top\" title=\"psysml:d7bec2b6-e32c-41d0-a208-370a3f1c18c8\" xlink:actuate=\"onRequest\" xlink:href=\"psysml:d7bec2b6-e32c-41d0-a208-370a3f1c18c8\" xlink:show=\"new\" xlink:title=\"psysml:d7bec2b6-e32c-41d0-a208-370a3f1c18c8\" xlink:type=\"simple\"><rect fill=\"#FFFFFF\" height=\"42.9375\" id=\"E5\" rx=\"10\" ry=\"10\" style=\"stroke: #383838; stroke-width: 1.5;\" width=\"60\" x=\"32\" y=\"135.5\"/><rect fill=\"#F8F8F8\" height=\"37.9375\" rx=\"10\" ry=\"10\" style=\"stroke: #F8F8F8; stroke-width: 1.5;\" width=\"60\" x=\"32\" y=\"135.5\"/><rect fill=\"#F8F8F8\" height=\"10\" style=\"stroke: #F8F8F8; stroke-width: 1.5;\" width=\"60\" x=\"32\" y=\"163.4375\"/><rect fill=\"none\" height=\"42.9375\" id=\"E5\" rx=\"10\" ry=\"10\" style=\"stroke: #383838; stroke-width: 1.5;\" width=\"60\" x=\"32\" y=\"135.5\"/><text fill=\"#000000\" font-family=\"sans-serif\" font-size=\"12\" font-style=\"italic\" lengthAdjust=\"spacingAndGlyphs\" textLength=\"53\" x=\"35.5\" y=\"151.6387\">«action»</text><text fill=\"#000000\" font-family=\"sans-serif\" font-size=\"12\" lengthAdjust=\"spacingAndGlyphs\" textLength=\"20\" x=\"52\" y=\"165.6074\">act</text></a></g><ellipse cx=\"558\" cy=\"157\" fill=\"#000000\" rx=\"10\" ry=\"10\" style=\"stroke: none; stroke-width: 1.0;\"/><ellipse cx=\"558\" cy=\"508\" fill=\"none\" rx=\"10\" ry=\"10\" style=\"stroke: #000000; stroke-width: 1.0;\"/><ellipse cx=\"558.5\" cy=\"508.5\" fill=\"#000000\" rx=\"6\" ry=\"6\" style=\"stroke: none; stroke-width: 1.0;\"/><g id=\"E1.E6.E7\"><a href=\"psysml:df9bf7b7-ea8a-42e1-9b23-b8091030681c\" target=\"_top\" title=\"psysml:df9bf7b7-ea8a-42e1-9b23-b8091030681c\" xlink:actuate=\"onRequest\" xlink:href=\"psysml:df9bf7b7-ea8a-42e1-9b23-b8091030681c\" xlink:show=\"new\" xlink:title=\"psysml:df9bf7b7-ea8a-42e1-9b23-b8091030681c\" xlink:type=\"simple\"><rect fill=\"#FFFFFF\" height=\"40\" id=\"E7\" rx=\"10\" ry=\"10\" style=\"stroke: #383838; stroke-width: 1.5;\" width=\"50\" x=\"533\" y=\"256\"/><rect fill=\"#F8F8F8\" height=\"23.9688\" rx=\"10\" ry=\"10\" style=\"stroke: #F8F8F8; stroke-width: 1.5;\" width=\"50\" x=\"533\" y=\"256\"/><rect fill=\"#F8F8F8\" height=\"10\" style=\"stroke: #F8F8F8; stroke-width: 1.5;\" width=\"50\" x=\"533\" y=\"269.9688\"/><rect fill=\"none\" height=\"40\" id=\"E7\" rx=\"10\" ry=\"10\" style=\"stroke: #383838; stroke-width: 1.5;\" width=\"50\" x=\"533\" y=\"256\"/><text fill=\"#000000\" font-family=\"sans-serif\" font-size=\"12\" lengthAdjust=\"spacingAndGlyphs\" textLength=\"16\" x=\"550\" y=\"272.1387\">S1</text></a></g><g id=\"E1.E6.E8\"><a href=\"psysml:372708ac-c185-450b-8b20-5b0e6796b1d2\" target=\"_top\" title=\"psysml:372708ac-c185-450b-8b20-5b0e6796b1d2\" xlink:actuate=\"onRequest\" xlink:href=\"psysml:372708ac-c185-450b-8b20-5b0e6796b1d2\" xlink:show=\"new\" xlink:title=\"psysml:372708ac-c185-450b-8b20-5b0e6796b1d2\" xlink:type=\"simple\"><rect fill=\"#FFFFFF\" height=\"47.9375\" id=\"E8\" rx=\"10\" ry=\"10\" style=\"stroke: #383838; stroke-width: 1.5;\" width=\"50\" x=\"533\" y=\"373\"/><rect fill=\"#F8F8F8\" height=\"23.9688\" rx=\"10\" ry=\"10\" style=\"stroke: #F8F8F8; stroke-width: 1.5;\" width=\"50\" x=\"533\" y=\"373\"/><rect fill=\"#F8F8F8\" height=\"10\" style=\"stroke: #F8F8F8; stroke-width: 1.5;\" width=\"50\" x=\"533\" y=\"386.9688\"/><rect fill=\"none\" height=\"47.9375\" id=\"E8\" rx=\"10\" ry=\"10\" style=\"stroke: #383838; stroke-width: 1.5;\" width=\"50\" x=\"533\" y=\"373\"/><text fill=\"#000000\" font-family=\"sans-serif\" font-size=\"12\" lengthAdjust=\"spacingAndGlyphs\" textLength=\"16\" x=\"550\" y=\"389.1387\">S2</text><line style=\"stroke: #383838; stroke-width: 1.0;\" x1=\"533\" x2=\"583\" y1=\"396.9688\" y2=\"396.9688\"/><text fill=\"#000000\" font-family=\"sans-serif\" font-size=\"12\" font-weight=\"bold\" lengthAdjust=\"spacingAndGlyphs\" textLength=\"18\" x=\"538\" y=\"410.1074\">do</text><text fill=\"#000000\" font-family=\"sans-serif\" font-size=\"12\" lengthAdjust=\"spacingAndGlyphs\" textLength=\"4\" x=\"556\" y=\"410.1074\">/</text></a></g><!--MD5=[5a531d3a85f3339e6e197084acb48195]\n",
       "link *start*E6 to E7--><a href=\"psysml:63e0b6b5-21d2-46c8-92d5-87e224212dbf\" target=\"_top\" title=\"psysml:63e0b6b5-21d2-46c8-92d5-87e224212dbf\" xlink:actuate=\"onRequest\" xlink:href=\"psysml:63e0b6b5-21d2-46c8-92d5-87e224212dbf\" xlink:show=\"new\" xlink:title=\"psysml:63e0b6b5-21d2-46c8-92d5-87e224212dbf\" xlink:type=\"simple\"><path d=\"M558,167.18 C558,184.98 558,224.73 558,250.67 \" fill=\"none\" id=\"*start*E6-&gt;E7\" style=\"stroke: #383838; stroke-width: 1.0;\"/><polygon fill=\"#383838\" points=\"558,255.98,562,246.98,558,250.98,554,246.98,558,255.98\" style=\"stroke: #383838; stroke-width: 1.0;\"/></a><!--MD5=[7ec9a8babba89ddcae1318ca9fb3c814]\n",
       "link E8 to *end*E6--><a href=\"psysml:60b88d5b-1ac8-4d6b-b052-bf1a623237b5\" target=\"_top\" title=\"psysml:60b88d5b-1ac8-4d6b-b052-bf1a623237b5\" xlink:actuate=\"onRequest\" xlink:href=\"psysml:60b88d5b-1ac8-4d6b-b052-bf1a623237b5\" xlink:show=\"new\" xlink:title=\"psysml:60b88d5b-1ac8-4d6b-b052-bf1a623237b5\" xlink:type=\"simple\"><path d=\"M558,421.12 C558,442.75 558,474.39 558,492.62 \" fill=\"none\" id=\"E8-&gt;*end*E6\" style=\"stroke: #383838; stroke-width: 1.0;\"/><polygon fill=\"#383838\" points=\"558,497.82,562,488.82,558,492.82,554,488.82,558,497.82\" style=\"stroke: #383838; stroke-width: 1.0;\"/><text fill=\"#000000\" font-family=\"sans-serif\" font-size=\"13\" lengthAdjust=\"spacingAndGlyphs\" textLength=\"23\" x=\"559\" y=\"464.0669\">Exit</text></a><!--MD5=[79bc8f324ef4d02c541433f2e6e513c3]\n",
       "link E7 to E8--><a href=\"psysml:b9f5e72d-c680-433c-ba5c-575fc587f4f3\" target=\"_top\" title=\"psysml:b9f5e72d-c680-433c-ba5c-575fc587f4f3\" xlink:actuate=\"onRequest\" xlink:href=\"psysml:b9f5e72d-c680-433c-ba5c-575fc587f4f3\" xlink:show=\"new\" xlink:title=\"psysml:b9f5e72d-c680-433c-ba5c-575fc587f4f3\" xlink:type=\"simple\"><path d=\"M532.93,288.88 C518.69,297.12 502.12,309.56 494,326 C483.11,348.05 506.72,368.2 528.27,381.16 \" fill=\"none\" id=\"E7-&gt;E8\" style=\"stroke: #383838; stroke-width: 1.0;\"/><polygon fill=\"#383838\" points=\"532.83,383.82,527.0682,375.8324,528.5101,381.3024,523.0401,382.7443,532.83,383.82\" style=\"stroke: #383838; stroke-width: 1.0;\"/><text fill=\"#000000\" font-family=\"sans-serif\" font-size=\"13\" lengthAdjust=\"spacingAndGlyphs\" textLength=\"81\" x=\"495\" y=\"339.0669\">Sig /action D</text></a><!--MD5=[bfa3c8b0d15052fdf50ae9310b491027]\n",
       "link E8 to E7--><a href=\"psysml:8fe1fd83-9e96-4978-be75-1a7ead5c4a85\" target=\"_top\" title=\"psysml:8fe1fd83-9e96-4978-be75-1a7ead5c4a85\" xlink:actuate=\"onRequest\" xlink:href=\"psysml:8fe1fd83-9e96-4978-be75-1a7ead5c4a85\" xlink:show=\"new\" xlink:title=\"psysml:8fe1fd83-9e96-4978-be75-1a7ead5c4a85\" xlink:type=\"simple\"><path d=\"M572.17,372.99 C578.81,359.48 584.56,341.98 581,326 C579.1,317.49 575.56,308.72 571.82,300.99 \" fill=\"none\" id=\"E8-&gt;E7\" style=\"stroke: #383838; stroke-width: 1.0;\"/><polygon fill=\"#383838\" points=\"569.47,296.32,569.9298,306.1581,571.7118,300.7893,577.0806,302.5713,569.47,296.32\" style=\"stroke: #383838; stroke-width: 1.0;\"/><text fill=\"#000000\" font-family=\"sans-serif\" font-size=\"13\" lengthAdjust=\"spacingAndGlyphs\" textLength=\"135\" x=\"583\" y=\"339.0669\">Sig [true]/send s to p</text></a><!--MD5=[286e979229546f4b999254ac42c7ce8b]\n",
       "@startuml\r\n",
       " skinparam monochrome true\r\n",
       "skinparam classbackgroundcolor white\r\n",
       "skinparam shadowing false\r\n",
       "skinparam wrapWidth 300\r\n",
       "hide circle\r\n",
       "\r\n",
       "package \"StateTest\" as E1  [[psysml:7751d53a-3d7b-46fc-b5d8-bf0ae3c7070c ]]  {\r\n",
       "comp def \"Sig\" as E2  <<(T,blue)attribute def>> [[psysml:85dbfb10-d456-4c59-a9e0-99da33bb7a4b ]] {\r\n",
       "- - attributes - -\r\n",
       "x\r\n",
       "}\r\n",
       "comp def \"Exit\" as E3  <<(T,blue)attribute def>> [[psysml:06ed69bb-03e4-455b-a820-630d0564221d ]] {\r\n",
       "}\r\n",
       "comp usage \"p\" as E4  <<(T,blue)part>> [[psysml:f6292196-12b9-4bba-a758-98820cb4f3f5 ]] {\r\n",
       "}\r\n",
       "rec usage \"act\" as E5  <<(T,blue)action>> [[psysml:d7bec2b6-e32c-41d0-a208-370a3f1c18c8 ]] {\r\n",
       "}\r\n",
       "\r\n",
       "rec def \"S\" as E6  <<(T,blue)state def>> [[psysml:6343fae7-e97a-4dac-816a-0d66812becae ]] {\r\n",
       "rec usage \"S1\" as E7 [[psysml:df9bf7b7-ea8a-42e1-9b23-b8091030681c ]] {\r\n",
       "}\r\n",
       "\r\n",
       "rec usage \"S2\" as E8 [[psysml:372708ac-c185-450b-8b20-5b0e6796b1d2 ]] {\r\n",
       "desc \"S2\" as E8  : **do**/ \r\n",
       "}\r\n",
       "\r\n",
       "[*] - -> E7 [[psysml:63e0b6b5-21d2-46c8-92d5-87e224212dbf ]] \r\n",
       "E8  - -> [*] [[psysml:60b88d5b-1ac8-4d6b-b052-bf1a623237b5 ]] : Exit \r\n",
       "desc \"S\" as E6  : **entry**/ A\r\n",
       "desc \"S\" as E6  : **do**/ B\r\n",
       "desc \"S\" as E6  : **exit**/ act \r\n",
       "}\r\n",
       "\r\n",
       "E7  - -> E8 [[psysml:b9f5e72d-c680-433c-ba5c-575fc587f4f3 ]] : Sig /action D\r\n",
       "E8  - -> E7 [[psysml:8fe1fd83-9e96-4978-be75-1a7ead5c4a85 ]] : Sig [true]/send s to p\r\n",
       "}\r\n",
       "@enduml\r\n",
       "\n",
       "PlantUML version 1.2020.13(Sat Jun 13 12:26:38 UTC 2020)\n",
       "(EPL source distribution)\n",
       "Java Runtime: OpenJDK Runtime Environment\n",
       "JVM: OpenJDK 64-Bit Server VM\n",
       "Default Encoding: UTF-8\n",
       "Language: en\n",
       "Country: null\n",
       "--></g></svg>"
      ]
     },
     "execution_count": 2,
     "metadata": {},
     "output_type": "execute_result"
    }
   ],
   "source": [
    "%viz --style=\"COMPTREE\" --view=\"Default\" \"StateTest\""
   ]
  },
  {
   "cell_type": "code",
   "execution_count": 3,
   "id": "reported-factory",
   "metadata": {
    "execution": {
     "iopub.execute_input": "2021-03-25T13:48:07.066144Z",
     "iopub.status.busy": "2021-03-25T13:48:07.065017Z",
     "iopub.status.idle": "2021-03-25T13:48:07.626536Z",
     "shell.execute_reply": "2021-03-25T13:48:07.623339Z"
    }
   },
   "outputs": [
    {
     "data": {
      "image/svg+xml": [
       "<?xml version=\"1.0\" encoding=\"UTF-8\" standalone=\"no\"?><svg xmlns=\"http://www.w3.org/2000/svg\" xmlns:xlink=\"http://www.w3.org/1999/xlink\" contentScriptType=\"application/ecmascript\" contentStyleType=\"text/css\" height=\"471px\" preserveAspectRatio=\"none\" style=\"width:594px;height:471px;\" version=\"1.1\" viewBox=\"0 0 594 471\" width=\"594px\" zoomAndPan=\"magnify\"><defs/><g><!--MD5=[fbc87193dbaf4d95561dea2c320d4a47]\n",
       "cluster E1--><a href=\"psysml:7751d53a-3d7b-46fc-b5d8-bf0ae3c7070c\" target=\"_top\" title=\"psysml:7751d53a-3d7b-46fc-b5d8-bf0ae3c7070c\" xlink:actuate=\"onRequest\" xlink:href=\"psysml:7751d53a-3d7b-46fc-b5d8-bf0ae3c7070c\" xlink:show=\"new\" xlink:title=\"psysml:7751d53a-3d7b-46fc-b5d8-bf0ae3c7070c\" xlink:type=\"simple\"><polygon fill=\"#FFFFFF\" points=\"16,6,98,6,105,28.2969,572,28.2969,572,459,16,459,16,6\" style=\"stroke: #000000; stroke-width: 1.5;\"/><line style=\"stroke: #000000; stroke-width: 1.5;\" x1=\"16\" x2=\"105\" y1=\"28.2969\" y2=\"28.2969\"/><text fill=\"#000000\" font-family=\"sans-serif\" font-size=\"14\" font-weight=\"bold\" lengthAdjust=\"spacingAndGlyphs\" textLength=\"76\" x=\"20\" y=\"20.9951\">StateTest</text></a><!--MD5=[b4997ac47864f28c2f74865a473b2911]\n",
       "class E2--><a href=\"psysml:85dbfb10-d456-4c59-a9e0-99da33bb7a4b\" target=\"_top\" title=\"psysml:85dbfb10-d456-4c59-a9e0-99da33bb7a4b\" xlink:actuate=\"onRequest\" xlink:href=\"psysml:85dbfb10-d456-4c59-a9e0-99da33bb7a4b\" xlink:show=\"new\" xlink:title=\"psysml:85dbfb10-d456-4c59-a9e0-99da33bb7a4b\" xlink:type=\"simple\"><rect fill=\"#FFFFFF\" height=\"75.5469\" id=\"E2\" style=\"stroke: #383838; stroke-width: 1.5;\" width=\"95\" x=\"460.5\" y=\"83\"/><text fill=\"#000000\" font-family=\"sans-serif\" font-size=\"12\" font-style=\"italic\" lengthAdjust=\"spacingAndGlyphs\" textLength=\"93\" x=\"461.5\" y=\"99.1387\">«attribute def»</text><text fill=\"#000000\" font-family=\"sans-serif\" font-size=\"12\" lengthAdjust=\"spacingAndGlyphs\" textLength=\"19\" x=\"498.5\" y=\"113.1074\">Sig</text><line style=\"stroke: #383838; stroke-width: 1.5;\" x1=\"461.5\" x2=\"554.5\" y1=\"120.9375\" y2=\"120.9375\"/><text fill=\"#000000\" font-family=\"sans-serif\" font-size=\"11\" lengthAdjust=\"spacingAndGlyphs\" textLength=\"6\" x=\"466.5\" y=\"151.9526\">x</text><line style=\"stroke: #383838; stroke-width: 1.0;\" x1=\"461.5\" x2=\"480.5\" y1=\"135.3398\" y2=\"135.3398\"/><text fill=\"#000000\" font-family=\"sans-serif\" font-size=\"11\" lengthAdjust=\"spacingAndGlyphs\" textLength=\"55\" x=\"480.5\" y=\"138.6479\">attributes</text><line style=\"stroke: #383838; stroke-width: 1.0;\" x1=\"535.5\" x2=\"554.5\" y1=\"135.3398\" y2=\"135.3398\"/></a><!--MD5=[09b614a08d8cba4a07c9adeb5e0fee81]\n",
       "class E3--><a href=\"psysml:06ed69bb-03e4-455b-a820-630d0564221d\" target=\"_top\" title=\"psysml:06ed69bb-03e4-455b-a820-630d0564221d\" xlink:actuate=\"onRequest\" xlink:href=\"psysml:06ed69bb-03e4-455b-a820-630d0564221d\" xlink:show=\"new\" xlink:title=\"psysml:06ed69bb-03e4-455b-a820-630d0564221d\" xlink:type=\"simple\"><rect fill=\"#FFFFFF\" height=\"45.9375\" id=\"E3\" style=\"stroke: #383838; stroke-width: 1.5;\" width=\"95\" x=\"330.5\" y=\"98\"/><text fill=\"#000000\" font-family=\"sans-serif\" font-size=\"12\" font-style=\"italic\" lengthAdjust=\"spacingAndGlyphs\" textLength=\"93\" x=\"331.5\" y=\"114.1387\">«attribute def»</text><text fill=\"#000000\" font-family=\"sans-serif\" font-size=\"12\" lengthAdjust=\"spacingAndGlyphs\" textLength=\"22\" x=\"367\" y=\"128.1074\">Exit</text><line style=\"stroke: #383838; stroke-width: 1.5;\" x1=\"331.5\" x2=\"424.5\" y1=\"135.9375\" y2=\"135.9375\"/></a><!--MD5=[ebbe1d658d1005bcc118a6aa81145e00]\n",
       "class E4--><a href=\"psysml:f6292196-12b9-4bba-a758-98820cb4f3f5\" target=\"_top\" title=\"psysml:f6292196-12b9-4bba-a758-98820cb4f3f5\" xlink:actuate=\"onRequest\" xlink:href=\"psysml:f6292196-12b9-4bba-a758-98820cb4f3f5\" xlink:show=\"new\" xlink:title=\"psysml:f6292196-12b9-4bba-a758-98820cb4f3f5\" xlink:type=\"simple\"><rect fill=\"#FFFFFF\" height=\"45.9375\" id=\"E4\" rx=\"10\" ry=\"10\" style=\"stroke: #383838; stroke-width: 1.5;\" width=\"42\" x=\"253\" y=\"98\"/><text fill=\"#000000\" font-family=\"sans-serif\" font-size=\"12\" font-style=\"italic\" lengthAdjust=\"spacingAndGlyphs\" textLength=\"40\" x=\"254\" y=\"114.1387\">«part»</text><text fill=\"#000000\" font-family=\"sans-serif\" font-size=\"12\" lengthAdjust=\"spacingAndGlyphs\" textLength=\"8\" x=\"270\" y=\"128.1074\">p</text><line style=\"stroke: #383838; stroke-width: 1.5;\" x1=\"254\" x2=\"294\" y1=\"135.9375\" y2=\"135.9375\"/></a><!--MD5=[270fce915f116d4de14055a7c1d9a0f3]\n",
       "class E5--><a href=\"psysml:d7bec2b6-e32c-41d0-a208-370a3f1c18c8\" target=\"_top\" title=\"psysml:d7bec2b6-e32c-41d0-a208-370a3f1c18c8\" xlink:actuate=\"onRequest\" xlink:href=\"psysml:d7bec2b6-e32c-41d0-a208-370a3f1c18c8\" xlink:show=\"new\" xlink:title=\"psysml:d7bec2b6-e32c-41d0-a208-370a3f1c18c8\" xlink:type=\"simple\"><rect fill=\"#FFFFFF\" height=\"45.9375\" id=\"E5\" rx=\"10\" ry=\"10\" style=\"stroke: #383838; stroke-width: 1.5;\" width=\"55\" x=\"162.5\" y=\"98\"/><text fill=\"#000000\" font-family=\"sans-serif\" font-size=\"12\" font-style=\"italic\" lengthAdjust=\"spacingAndGlyphs\" textLength=\"53\" x=\"163.5\" y=\"114.1387\">«action»</text><text fill=\"#000000\" font-family=\"sans-serif\" font-size=\"12\" lengthAdjust=\"spacingAndGlyphs\" textLength=\"20\" x=\"180\" y=\"128.1074\">act</text><line style=\"stroke: #383838; stroke-width: 1.5;\" x1=\"163.5\" x2=\"216.5\" y1=\"135.9375\" y2=\"135.9375\"/></a><!--MD5=[60a26617385b1d2d0262a64233df1f8d]\n",
       "class E6--><a href=\"psysml:6343fae7-e97a-4dac-816a-0d66812becae\" target=\"_top\" title=\"psysml:6343fae7-e97a-4dac-816a-0d66812becae\" xlink:actuate=\"onRequest\" xlink:href=\"psysml:6343fae7-e97a-4dac-816a-0d66812becae\" xlink:show=\"new\" xlink:title=\"psysml:6343fae7-e97a-4dac-816a-0d66812becae\" xlink:type=\"simple\"><rect fill=\"#FFFFFF\" height=\"160.375\" id=\"E6\" style=\"stroke: #383838; stroke-width: 1.5;\" width=\"95\" x=\"32.5\" y=\"41\"/><text fill=\"#000000\" font-family=\"sans-serif\" font-size=\"12\" font-style=\"italic\" lengthAdjust=\"spacingAndGlyphs\" textLength=\"71\" x=\"44.5\" y=\"57.1387\">«state def»</text><text fill=\"#000000\" font-family=\"sans-serif\" font-size=\"12\" lengthAdjust=\"spacingAndGlyphs\" textLength=\"8\" x=\"76\" y=\"71.1074\">S</text><line style=\"stroke: #383838; stroke-width: 1.5;\" x1=\"33.5\" x2=\"126.5\" y1=\"78.9375\" y2=\"78.9375\"/><text fill=\"#000000\" font-family=\"sans-serif\" font-size=\"11\" lengthAdjust=\"spacingAndGlyphs\" textLength=\"17\" x=\"38.5\" y=\"109.9526\">act</text><text fill=\"#000000\" font-family=\"sans-serif\" font-size=\"11\" lengthAdjust=\"spacingAndGlyphs\" textLength=\"7\" x=\"38.5\" y=\"122.7573\">A</text><text fill=\"#000000\" font-family=\"sans-serif\" font-size=\"11\" lengthAdjust=\"spacingAndGlyphs\" textLength=\"8\" x=\"38.5\" y=\"135.562\">B</text><line style=\"stroke: #383838; stroke-width: 1.0;\" x1=\"33.5\" x2=\"36.5\" y1=\"93.3398\" y2=\"93.3398\"/><text fill=\"#000000\" font-family=\"sans-serif\" font-size=\"11\" lengthAdjust=\"spacingAndGlyphs\" textLength=\"87\" x=\"36.5\" y=\"96.6479\">performActions</text><line style=\"stroke: #383838; stroke-width: 1.0;\" x1=\"123.5\" x2=\"126.5\" y1=\"93.3398\" y2=\"93.3398\"/><text fill=\"#000000\" font-family=\"sans-serif\" font-size=\"11\" lengthAdjust=\"spacingAndGlyphs\" textLength=\"15\" x=\"38.5\" y=\"165.1714\">S1</text><line style=\"stroke: #383838; stroke-width: 1.0;\" x1=\"33.5\" x2=\"62\" y1=\"148.5586\" y2=\"148.5586\"/><text fill=\"#000000\" font-family=\"sans-serif\" font-size=\"11\" lengthAdjust=\"spacingAndGlyphs\" textLength=\"36\" x=\"62\" y=\"151.8667\">states</text><line style=\"stroke: #383838; stroke-width: 1.0;\" x1=\"98\" x2=\"126.5\" y1=\"148.5586\" y2=\"148.5586\"/><text fill=\"#000000\" font-family=\"sans-serif\" font-size=\"11\" lengthAdjust=\"spacingAndGlyphs\" textLength=\"7\" x=\"38.5\" y=\"194.7808\">T</text><line style=\"stroke: #383838; stroke-width: 1.0;\" x1=\"33.5\" x2=\"49.5\" y1=\"178.168\" y2=\"178.168\"/><text fill=\"#000000\" font-family=\"sans-serif\" font-size=\"11\" lengthAdjust=\"spacingAndGlyphs\" textLength=\"61\" x=\"49.5\" y=\"181.4761\">transitions</text><line style=\"stroke: #383838; stroke-width: 1.0;\" x1=\"110.5\" x2=\"126.5\" y1=\"178.168\" y2=\"178.168\"/></a><!--MD5=[1dd1bfd58a279cf63c5f349dbc8fc6a1]\n",
       "class E11--><a href=\"psysml:372708ac-c185-450b-8b20-5b0e6796b1d2\" target=\"_top\" title=\"psysml:372708ac-c185-450b-8b20-5b0e6796b1d2\" xlink:actuate=\"onRequest\" xlink:href=\"psysml:372708ac-c185-450b-8b20-5b0e6796b1d2\" xlink:show=\"new\" xlink:title=\"psysml:372708ac-c185-450b-8b20-5b0e6796b1d2\" xlink:type=\"simple\"><rect fill=\"#FFFFFF\" height=\"45.9375\" id=\"E11\" rx=\"10\" ry=\"10\" style=\"stroke: #383838; stroke-width: 1.5;\" width=\"49\" x=\"55.5\" y=\"261\"/><text fill=\"#000000\" font-family=\"sans-serif\" font-size=\"12\" font-style=\"italic\" lengthAdjust=\"spacingAndGlyphs\" textLength=\"47\" x=\"56.5\" y=\"277.1387\">«state»</text><text fill=\"#000000\" font-family=\"sans-serif\" font-size=\"12\" lengthAdjust=\"spacingAndGlyphs\" textLength=\"16\" x=\"72\" y=\"291.1074\">S2</text><line style=\"stroke: #383838; stroke-width: 1.5;\" x1=\"56.5\" x2=\"103.5\" y1=\"298.9375\" y2=\"298.9375\"/></a><!--MD5=[49a0ec8f00dab7302a31f22d0f0fe584]\n",
       "class E12--><a href=\"psysml:db8ff6bb-65b2-44b6-939f-52bfaf067d5c\" target=\"_top\" title=\"psysml:db8ff6bb-65b2-44b6-939f-52bfaf067d5c\" xlink:actuate=\"onRequest\" xlink:href=\"psysml:db8ff6bb-65b2-44b6-939f-52bfaf067d5c\" xlink:show=\"new\" xlink:title=\"psysml:db8ff6bb-65b2-44b6-939f-52bfaf067d5c\" xlink:type=\"simple\"><rect fill=\"#FFFFFF\" height=\"75.5469\" id=\"E12\" rx=\"10\" ry=\"10\" style=\"stroke: #383838; stroke-width: 1.5;\" width=\"90\" x=\"35\" y=\"367\"/><text fill=\"#000000\" font-family=\"sans-serif\" font-size=\"12\" font-style=\"italic\" lengthAdjust=\"spacingAndGlyphs\" textLength=\"88\" x=\"36\" y=\"383.1387\">«send action»</text><text fill=\"#000000\" font-family=\"sans-serif\" font-size=\"12\" lengthAdjust=\"spacingAndGlyphs\" textLength=\"55\" x=\"52.5\" y=\"397.1074\">doAction</text><line style=\"stroke: #383838; stroke-width: 1.5;\" x1=\"36\" x2=\"124\" y1=\"404.9375\" y2=\"404.9375\"/><text fill=\"#000000\" font-family=\"sans-serif\" font-size=\"11\" lengthAdjust=\"spacingAndGlyphs\" textLength=\"25\" x=\"41\" y=\"435.9526\">item</text><line style=\"stroke: #383838; stroke-width: 1.0;\" x1=\"36\" x2=\"42.5\" y1=\"419.3398\" y2=\"419.3398\"/><text fill=\"#000000\" font-family=\"sans-serif\" font-size=\"11\" lengthAdjust=\"spacingAndGlyphs\" textLength=\"75\" x=\"42.5\" y=\"422.6479\">itemFeatures</text><line style=\"stroke: #383838; stroke-width: 1.0;\" x1=\"117.5\" x2=\"124\" y1=\"419.3398\" y2=\"419.3398\"/></a><!--MD5=[1f5f03483f7de0d5b3680a7f6650997f]\n",
       "reverse link E6 to E11--><a href=\"psysml:372708ac-c185-450b-8b20-5b0e6796b1d2\" target=\"_top\" title=\"psysml:372708ac-c185-450b-8b20-5b0e6796b1d2\" xlink:actuate=\"onRequest\" xlink:href=\"psysml:372708ac-c185-450b-8b20-5b0e6796b1d2\" xlink:show=\"new\" xlink:title=\"psysml:372708ac-c185-450b-8b20-5b0e6796b1d2\" xlink:type=\"simple\"><path d=\"M80,214.17 C80,231.58 80,248.25 80,260.82 \" fill=\"none\" id=\"E6&lt;-E11\" style=\"stroke: #383838; stroke-width: 1.0;\"/><polygon fill=\"#383838\" points=\"80,201.09,76.0066,207.0944,80.0132,213.09,84.0066,207.0856,80,201.09\" style=\"stroke: #383838; stroke-width: 1.0;\"/></a><!--MD5=[94adabc162ce7e41b39f13be14fbaeb3]\n",
       "reverse link E11 to E12--><a href=\"psysml:db8ff6bb-65b2-44b6-939f-52bfaf067d5c\" target=\"_top\" title=\"psysml:db8ff6bb-65b2-44b6-939f-52bfaf067d5c\" xlink:actuate=\"onRequest\" xlink:href=\"psysml:db8ff6bb-65b2-44b6-939f-52bfaf067d5c\" xlink:show=\"new\" xlink:title=\"psysml:db8ff6bb-65b2-44b6-939f-52bfaf067d5c\" xlink:type=\"simple\"><path d=\"M80,320.23 C80,334.82 80,351.76 80,366.58 \" fill=\"none\" id=\"E11&lt;-E12\" style=\"stroke: #383838; stroke-width: 1.0;\"/><polygon fill=\"#FFFFFF\" points=\"80,307.1,76,313.1,80,319.1,84,313.1,80,307.1\" style=\"stroke: #383838; stroke-width: 1.0;\"/></a><!--MD5=[b3f57cfc02944d5b88fd4fc8dd935f7c]\n",
       "@startuml\r\n",
       " skinparam monochrome true\r\n",
       "skinparam classbackgroundcolor white\r\n",
       "skinparam shadowing false\r\n",
       "skinparam wrapWidth 300\r\n",
       "hide circle\r\n",
       "\r\n",
       "package \"StateTest\" as E1  [[psysml:7751d53a-3d7b-46fc-b5d8-bf0ae3c7070c ]]  {\r\n",
       "comp def \"Sig\" as E2  <<(T,blue)attribute def>> [[psysml:85dbfb10-d456-4c59-a9e0-99da33bb7a4b ]] {\r\n",
       "- - attributes - -\r\n",
       "x\r\n",
       "}\r\n",
       "comp def \"Exit\" as E3  <<(T,blue)attribute def>> [[psysml:06ed69bb-03e4-455b-a820-630d0564221d ]] {\r\n",
       "}\r\n",
       "comp usage \"p\" as E4  <<(T,blue)part>> [[psysml:f6292196-12b9-4bba-a758-98820cb4f3f5 ]] {\r\n",
       "}\r\n",
       "comp usage \"act\" as E5  <<(T,blue)action>> [[psysml:d7bec2b6-e32c-41d0-a208-370a3f1c18c8 ]] {\r\n",
       "}\r\n",
       "comp def \"S\" as E6  <<(T,blue)state def>> [[psysml:6343fae7-e97a-4dac-816a-0d66812becae ]] {\r\n",
       "- - performActions - -\r\n",
       "act\r\n",
       "A\r\n",
       "B\r\n",
       "- - states - -\r\n",
       "S1\r\n",
       "- - transitions - -\r\n",
       "T\r\n",
       "}\r\n",
       "comp usage \"S2\" as E11  <<(T,blue)state>> [[psysml:372708ac-c185-450b-8b20-5b0e6796b1d2 ]] {\r\n",
       "}\r\n",
       "comp usage \"doAction\" as E12 <<send action>> [[psysml:db8ff6bb-65b2-44b6-939f-52bfaf067d5c ]] {\r\n",
       "- - itemFeatures - -\r\n",
       "item\r\n",
       "}\r\n",
       "E6 *- - E11 [[psysml:372708ac-c185-450b-8b20-5b0e6796b1d2 ]] \r\n",
       "E11 o- - E12 [[psysml:db8ff6bb-65b2-44b6-939f-52bfaf067d5c ]] \r\n",
       "}\r\n",
       "@enduml\r\n",
       "\n",
       "PlantUML version 1.2020.13(Sat Jun 13 12:26:38 UTC 2020)\n",
       "(EPL source distribution)\n",
       "Java Runtime: OpenJDK Runtime Environment\n",
       "JVM: OpenJDK 64-Bit Server VM\n",
       "Default Encoding: UTF-8\n",
       "Language: en\n",
       "Country: null\n",
       "--></g></svg>"
      ]
     },
     "execution_count": 3,
     "metadata": {},
     "output_type": "execute_result"
    }
   ],
   "source": [
    "%viz --style=\"COMPTREE\" --view=\"Tree\" \"StateTest\""
   ]
  },
  {
   "cell_type": "code",
   "execution_count": 4,
   "id": "greater-sheriff",
   "metadata": {
    "execution": {
     "iopub.execute_input": "2021-03-25T13:48:07.682561Z",
     "iopub.status.busy": "2021-03-25T13:48:07.681142Z",
     "iopub.status.idle": "2021-03-25T13:48:07.820006Z",
     "shell.execute_reply": "2021-03-25T13:48:07.820386Z"
    }
   },
   "outputs": [
    {
     "data": {
      "image/svg+xml": [
       "<?xml version=\"1.0\" encoding=\"UTF-8\" standalone=\"no\"?><svg xmlns=\"http://www.w3.org/2000/svg\" xmlns:xlink=\"http://www.w3.org/1999/xlink\" contentScriptType=\"application/ecmascript\" contentStyleType=\"text/css\" height=\"475px\" preserveAspectRatio=\"none\" style=\"width:346px;height:475px;\" version=\"1.1\" viewBox=\"0 0 346 475\" width=\"346px\" zoomAndPan=\"magnify\"><defs/><g><!--MD5=[fbc87193dbaf4d95561dea2c320d4a47]\n",
       "cluster E1--><a href=\"psysml:6343fae7-e97a-4dac-816a-0d66812becae\" target=\"_top\" title=\"psysml:6343fae7-e97a-4dac-816a-0d66812becae\" xlink:actuate=\"onRequest\" xlink:href=\"psysml:6343fae7-e97a-4dac-816a-0d66812becae\" xlink:show=\"new\" xlink:title=\"psysml:6343fae7-e97a-4dac-816a-0d66812becae\" xlink:type=\"simple\"><rect fill=\"#FFFFFF\" height=\"457\" id=\"E1\" style=\"stroke: #383838; stroke-width: 1.5;\" width=\"327\" x=\"7\" y=\"7\"/><rect fill=\"#F8F8F8\" height=\"37.9375\" style=\"stroke: #383838; stroke-width: 1.5;\" width=\"327\" x=\"7\" y=\"7\"/><text fill=\"#000000\" font-family=\"sans-serif\" font-size=\"12\" font-style=\"italic\" lengthAdjust=\"spacingAndGlyphs\" textLength=\"71\" x=\"135\" y=\"23.1387\">«state def»</text><text fill=\"#000000\" font-family=\"sans-serif\" font-size=\"12\" lengthAdjust=\"spacingAndGlyphs\" textLength=\"8\" x=\"166.5\" y=\"37.1074\">S</text><line style=\"stroke: #383838; stroke-width: 1.0;\" x1=\"7\" x2=\"334\" y1=\"90.8438\" y2=\"90.8438\"/><text fill=\"#000000\" font-family=\"sans-serif\" font-size=\"12\" font-weight=\"bold\" lengthAdjust=\"spacingAndGlyphs\" textLength=\"38\" x=\"12\" y=\"58.0762\">entry</text><text fill=\"#000000\" font-family=\"sans-serif\" font-size=\"12\" lengthAdjust=\"spacingAndGlyphs\" textLength=\"16\" x=\"50\" y=\"58.0762\">/ A</text><text fill=\"#000000\" font-family=\"sans-serif\" font-size=\"12\" font-weight=\"bold\" lengthAdjust=\"spacingAndGlyphs\" textLength=\"18\" x=\"12\" y=\"72.0449\">do</text><text fill=\"#000000\" font-family=\"sans-serif\" font-size=\"12\" lengthAdjust=\"spacingAndGlyphs\" textLength=\"16\" x=\"30\" y=\"72.0449\">/ B</text><text fill=\"#000000\" font-family=\"sans-serif\" font-size=\"12\" font-weight=\"bold\" lengthAdjust=\"spacingAndGlyphs\" textLength=\"26\" x=\"12\" y=\"86.0137\">exit</text><text fill=\"#000000\" font-family=\"sans-serif\" font-size=\"12\" lengthAdjust=\"spacingAndGlyphs\" textLength=\"28\" x=\"38\" y=\"86.0137\">/ act</text></a><ellipse cx=\"119\" cy=\"115\" fill=\"#000000\" rx=\"10\" ry=\"10\" style=\"stroke: none; stroke-width: 1.0;\"/><ellipse cx=\"119\" cy=\"438\" fill=\"none\" rx=\"10\" ry=\"10\" style=\"stroke: #000000; stroke-width: 1.0;\"/><ellipse cx=\"119.5\" cy=\"438.5\" fill=\"#000000\" rx=\"6\" ry=\"6\" style=\"stroke: none; stroke-width: 1.0;\"/><g id=\"E1.E2\"><a href=\"psysml:df9bf7b7-ea8a-42e1-9b23-b8091030681c\" target=\"_top\" title=\"psysml:df9bf7b7-ea8a-42e1-9b23-b8091030681c\" xlink:actuate=\"onRequest\" xlink:href=\"psysml:df9bf7b7-ea8a-42e1-9b23-b8091030681c\" xlink:show=\"new\" xlink:title=\"psysml:df9bf7b7-ea8a-42e1-9b23-b8091030681c\" xlink:type=\"simple\"><rect fill=\"#FFFFFF\" height=\"40\" id=\"E2\" rx=\"10\" ry=\"10\" style=\"stroke: #383838; stroke-width: 1.5;\" width=\"50\" x=\"94\" y=\"186\"/><rect fill=\"#F8F8F8\" height=\"23.9688\" rx=\"10\" ry=\"10\" style=\"stroke: #F8F8F8; stroke-width: 1.5;\" width=\"50\" x=\"94\" y=\"186\"/><rect fill=\"#F8F8F8\" height=\"10\" style=\"stroke: #F8F8F8; stroke-width: 1.5;\" width=\"50\" x=\"94\" y=\"199.9688\"/><rect fill=\"none\" height=\"40\" id=\"E2\" rx=\"10\" ry=\"10\" style=\"stroke: #383838; stroke-width: 1.5;\" width=\"50\" x=\"94\" y=\"186\"/><text fill=\"#000000\" font-family=\"sans-serif\" font-size=\"12\" lengthAdjust=\"spacingAndGlyphs\" textLength=\"16\" x=\"111\" y=\"202.1387\">S1</text></a></g><g id=\"E1.E3\"><a href=\"psysml:372708ac-c185-450b-8b20-5b0e6796b1d2\" target=\"_top\" title=\"psysml:372708ac-c185-450b-8b20-5b0e6796b1d2\" xlink:actuate=\"onRequest\" xlink:href=\"psysml:372708ac-c185-450b-8b20-5b0e6796b1d2\" xlink:show=\"new\" xlink:title=\"psysml:372708ac-c185-450b-8b20-5b0e6796b1d2\" xlink:type=\"simple\"><rect fill=\"#FFFFFF\" height=\"47.9375\" id=\"E3\" rx=\"10\" ry=\"10\" style=\"stroke: #383838; stroke-width: 1.5;\" width=\"50\" x=\"94\" y=\"303\"/><rect fill=\"#F8F8F8\" height=\"23.9688\" rx=\"10\" ry=\"10\" style=\"stroke: #F8F8F8; stroke-width: 1.5;\" width=\"50\" x=\"94\" y=\"303\"/><rect fill=\"#F8F8F8\" height=\"10\" style=\"stroke: #F8F8F8; stroke-width: 1.5;\" width=\"50\" x=\"94\" y=\"316.9688\"/><rect fill=\"none\" height=\"47.9375\" id=\"E3\" rx=\"10\" ry=\"10\" style=\"stroke: #383838; stroke-width: 1.5;\" width=\"50\" x=\"94\" y=\"303\"/><text fill=\"#000000\" font-family=\"sans-serif\" font-size=\"12\" lengthAdjust=\"spacingAndGlyphs\" textLength=\"16\" x=\"111\" y=\"319.1387\">S2</text><line style=\"stroke: #383838; stroke-width: 1.0;\" x1=\"94\" x2=\"144\" y1=\"326.9688\" y2=\"326.9688\"/><text fill=\"#000000\" font-family=\"sans-serif\" font-size=\"12\" font-weight=\"bold\" lengthAdjust=\"spacingAndGlyphs\" textLength=\"18\" x=\"99\" y=\"340.1074\">do</text><text fill=\"#000000\" font-family=\"sans-serif\" font-size=\"12\" lengthAdjust=\"spacingAndGlyphs\" textLength=\"4\" x=\"117\" y=\"340.1074\">/</text></a></g><!--MD5=[cff944eb183b832d446717a4e202d613]\n",
       "link *start*E1 to E2--><a href=\"psysml:63e0b6b5-21d2-46c8-92d5-87e224212dbf\" target=\"_top\" title=\"psysml:63e0b6b5-21d2-46c8-92d5-87e224212dbf\" xlink:actuate=\"onRequest\" xlink:href=\"psysml:63e0b6b5-21d2-46c8-92d5-87e224212dbf\" xlink:show=\"new\" xlink:title=\"psysml:63e0b6b5-21d2-46c8-92d5-87e224212dbf\" xlink:type=\"simple\"><path d=\"M119,125.19 C119,138.18 119,162.38 119,180.73 \" fill=\"none\" id=\"*start*E1-&gt;E2\" style=\"stroke: #383838; stroke-width: 1.0;\"/><polygon fill=\"#383838\" points=\"119,185.74,123,176.74,119,180.74,115,176.74,119,185.74\" style=\"stroke: #383838; stroke-width: 1.0;\"/></a><!--MD5=[9ee7afa76ca8c509b3d216624c3a9893]\n",
       "link E3 to *end*E1--><a href=\"psysml:60b88d5b-1ac8-4d6b-b052-bf1a623237b5\" target=\"_top\" title=\"psysml:60b88d5b-1ac8-4d6b-b052-bf1a623237b5\" xlink:actuate=\"onRequest\" xlink:href=\"psysml:60b88d5b-1ac8-4d6b-b052-bf1a623237b5\" xlink:show=\"new\" xlink:title=\"psysml:60b88d5b-1ac8-4d6b-b052-bf1a623237b5\" xlink:type=\"simple\"><path d=\"M119,351.12 C119,372.75 119,404.39 119,422.62 \" fill=\"none\" id=\"E3-&gt;*end*E1\" style=\"stroke: #383838; stroke-width: 1.0;\"/><polygon fill=\"#383838\" points=\"119,427.82,123,418.82,119,422.82,115,418.82,119,427.82\" style=\"stroke: #383838; stroke-width: 1.0;\"/><text fill=\"#000000\" font-family=\"sans-serif\" font-size=\"13\" lengthAdjust=\"spacingAndGlyphs\" textLength=\"23\" x=\"120\" y=\"394.0669\">Exit</text></a><!--MD5=[2720a5a1f2c3fca2055b230370638851]\n",
       "link E2 to E3--><a href=\"psysml:b9f5e72d-c680-433c-ba5c-575fc587f4f3\" target=\"_top\" title=\"psysml:b9f5e72d-c680-433c-ba5c-575fc587f4f3\" xlink:actuate=\"onRequest\" xlink:href=\"psysml:b9f5e72d-c680-433c-ba5c-575fc587f4f3\" xlink:show=\"new\" xlink:title=\"psysml:b9f5e72d-c680-433c-ba5c-575fc587f4f3\" xlink:type=\"simple\"><path d=\"M93.93,218.88 C79.69,227.12 63.12,239.56 55,256 C44.11,278.05 67.72,298.2 89.27,311.16 \" fill=\"none\" id=\"E2-&gt;E3\" style=\"stroke: #383838; stroke-width: 1.0;\"/><polygon fill=\"#383838\" points=\"93.83,313.82,88.0682,305.8324,89.5101,311.3024,84.0401,312.7443,93.83,313.82\" style=\"stroke: #383838; stroke-width: 1.0;\"/><text fill=\"#000000\" font-family=\"sans-serif\" font-size=\"13\" lengthAdjust=\"spacingAndGlyphs\" textLength=\"81\" x=\"56\" y=\"269.0669\">Sig /action D</text></a><!--MD5=[05d275557350bfb9b23a4ef7222b4c39]\n",
       "link E3 to E2--><a href=\"psysml:8fe1fd83-9e96-4978-be75-1a7ead5c4a85\" target=\"_top\" title=\"psysml:8fe1fd83-9e96-4978-be75-1a7ead5c4a85\" xlink:actuate=\"onRequest\" xlink:href=\"psysml:8fe1fd83-9e96-4978-be75-1a7ead5c4a85\" xlink:show=\"new\" xlink:title=\"psysml:8fe1fd83-9e96-4978-be75-1a7ead5c4a85\" xlink:type=\"simple\"><path d=\"M133.17,302.99 C139.81,289.48 145.56,271.98 142,256 C140.1,247.49 136.56,238.72 132.82,230.99 \" fill=\"none\" id=\"E3-&gt;E2\" style=\"stroke: #383838; stroke-width: 1.0;\"/><polygon fill=\"#383838\" points=\"130.47,226.32,130.9298,236.1581,132.7118,230.7893,138.0806,232.5713,130.47,226.32\" style=\"stroke: #383838; stroke-width: 1.0;\"/><text fill=\"#000000\" font-family=\"sans-serif\" font-size=\"13\" lengthAdjust=\"spacingAndGlyphs\" textLength=\"135\" x=\"144\" y=\"269.0669\">Sig [true]/send s to p</text></a><!--MD5=[e60771e1d399e9f44731d023f2067c3c]\n",
       "@startuml\r\n",
       " skinparam monochrome true\r\n",
       "skinparam classbackgroundcolor white\r\n",
       "skinparam shadowing false\r\n",
       "skinparam wrapWidth 300\r\n",
       "hide circle\r\n",
       "\r\n",
       "rec def \"S\" as E1  <<(T,blue)state def>> [[psysml:6343fae7-e97a-4dac-816a-0d66812becae ]] {\r\n",
       "rec usage \"S1\" as E2 [[psysml:df9bf7b7-ea8a-42e1-9b23-b8091030681c ]] {\r\n",
       "}\r\n",
       "\r\n",
       "rec usage \"S2\" as E3 [[psysml:372708ac-c185-450b-8b20-5b0e6796b1d2 ]] {\r\n",
       "desc \"S2\" as E3  : **do**/ \r\n",
       "}\r\n",
       "\r\n",
       "[*] - -> E2 [[psysml:63e0b6b5-21d2-46c8-92d5-87e224212dbf ]] \r\n",
       "E3  - -> [*] [[psysml:60b88d5b-1ac8-4d6b-b052-bf1a623237b5 ]] : Exit \r\n",
       "desc \"S\" as E1  : **entry**/ A\r\n",
       "desc \"S\" as E1  : **do**/ B\r\n",
       "desc \"S\" as E1  : **exit**/ act \r\n",
       "}\r\n",
       "\r\n",
       "E2  - -> E3 [[psysml:b9f5e72d-c680-433c-ba5c-575fc587f4f3 ]] : Sig /action D\r\n",
       "E3  - -> E2 [[psysml:8fe1fd83-9e96-4978-be75-1a7ead5c4a85 ]] : Sig [true]/send s to p\r\n",
       "@enduml\r\n",
       "\n",
       "PlantUML version 1.2020.13(Sat Jun 13 12:26:38 UTC 2020)\n",
       "(EPL source distribution)\n",
       "Java Runtime: OpenJDK Runtime Environment\n",
       "JVM: OpenJDK 64-Bit Server VM\n",
       "Default Encoding: UTF-8\n",
       "Language: en\n",
       "Country: null\n",
       "--></g></svg>"
      ]
     },
     "execution_count": 4,
     "metadata": {},
     "output_type": "execute_result"
    }
   ],
   "source": [
    "%viz --style=\"COMPTREE\" --view=\"State\" \"StateTest\""
   ]
  },
  {
   "cell_type": "code",
   "execution_count": 5,
   "id": "hungry-assessment",
   "metadata": {
    "execution": {
     "iopub.execute_input": "2021-03-25T13:48:07.873853Z",
     "iopub.status.busy": "2021-03-25T13:48:07.873015Z",
     "iopub.status.idle": "2021-03-25T13:48:07.957899Z",
     "shell.execute_reply": "2021-03-25T13:48:07.956595Z"
    }
   },
   "outputs": [
    {
     "data": {
      "image/svg+xml": [
       "<?xml version=\"1.0\" encoding=\"UTF-8\" standalone=\"no\"?><svg xmlns=\"http://www.w3.org/2000/svg\" xmlns:xlink=\"http://www.w3.org/1999/xlink\" contentScriptType=\"application/ecmascript\" contentStyleType=\"text/css\" height=\"112px\" preserveAspectRatio=\"none\" style=\"width:598px;height:112px;\" version=\"1.1\" viewBox=\"0 0 598 112\" width=\"598px\" zoomAndPan=\"magnify\"><defs/><g><!--MD5=[fbc87193dbaf4d95561dea2c320d4a47]\n",
       "cluster E1--><a href=\"psysml:7751d53a-3d7b-46fc-b5d8-bf0ae3c7070c\" target=\"_top\" title=\"psysml:7751d53a-3d7b-46fc-b5d8-bf0ae3c7070c\" xlink:actuate=\"onRequest\" xlink:href=\"psysml:7751d53a-3d7b-46fc-b5d8-bf0ae3c7070c\" xlink:show=\"new\" xlink:title=\"psysml:7751d53a-3d7b-46fc-b5d8-bf0ae3c7070c\" xlink:type=\"simple\"><polygon fill=\"#FFFFFF\" points=\"16,6,98,6,105,28.2969,576,28.2969,576,100,16,100,16,6\" style=\"stroke: #000000; stroke-width: 1.5;\"/><line style=\"stroke: #000000; stroke-width: 1.5;\" x1=\"16\" x2=\"105\" y1=\"28.2969\" y2=\"28.2969\"/><text fill=\"#000000\" font-family=\"sans-serif\" font-size=\"14\" font-weight=\"bold\" lengthAdjust=\"spacingAndGlyphs\" textLength=\"76\" x=\"20\" y=\"20.9951\">StateTest</text></a><g id=\"E1.E2\"><a href=\"psysml:85dbfb10-d456-4c59-a9e0-99da33bb7a4b\" target=\"_top\" title=\"psysml:85dbfb10-d456-4c59-a9e0-99da33bb7a4b\" xlink:actuate=\"onRequest\" xlink:href=\"psysml:85dbfb10-d456-4c59-a9e0-99da33bb7a4b\" xlink:show=\"new\" xlink:title=\"psysml:85dbfb10-d456-4c59-a9e0-99da33bb7a4b\" xlink:type=\"simple\"><rect fill=\"#FFFFFF\" height=\"42.9375\" id=\"E2\" style=\"stroke: #383838; stroke-width: 1.5;\" width=\"100\" x=\"460\" y=\"41\"/><rect fill=\"#F8F8F8\" height=\"37.9375\" style=\"stroke: #383838; stroke-width: 1.5;\" width=\"100\" x=\"460\" y=\"41\"/><text fill=\"#000000\" font-family=\"sans-serif\" font-size=\"12\" font-style=\"italic\" lengthAdjust=\"spacingAndGlyphs\" textLength=\"93\" x=\"463.5\" y=\"57.1387\">«attribute def»</text><text fill=\"#000000\" font-family=\"sans-serif\" font-size=\"12\" lengthAdjust=\"spacingAndGlyphs\" textLength=\"19\" x=\"500.5\" y=\"71.1074\">Sig</text></a></g><g id=\"E1.E3\"><a href=\"psysml:06ed69bb-03e4-455b-a820-630d0564221d\" target=\"_top\" title=\"psysml:06ed69bb-03e4-455b-a820-630d0564221d\" xlink:actuate=\"onRequest\" xlink:href=\"psysml:06ed69bb-03e4-455b-a820-630d0564221d\" xlink:show=\"new\" xlink:title=\"psysml:06ed69bb-03e4-455b-a820-630d0564221d\" xlink:type=\"simple\"><rect fill=\"#FFFFFF\" height=\"42.9375\" id=\"E3\" style=\"stroke: #383838; stroke-width: 1.5;\" width=\"100\" x=\"325\" y=\"41\"/><rect fill=\"#F8F8F8\" height=\"37.9375\" style=\"stroke: #383838; stroke-width: 1.5;\" width=\"100\" x=\"325\" y=\"41\"/><text fill=\"#000000\" font-family=\"sans-serif\" font-size=\"12\" font-style=\"italic\" lengthAdjust=\"spacingAndGlyphs\" textLength=\"93\" x=\"328.5\" y=\"57.1387\">«attribute def»</text><text fill=\"#000000\" font-family=\"sans-serif\" font-size=\"12\" lengthAdjust=\"spacingAndGlyphs\" textLength=\"22\" x=\"364\" y=\"71.1074\">Exit</text></a></g><g id=\"E1.E6\"><a href=\"psysml:6343fae7-e97a-4dac-816a-0d66812becae\" target=\"_top\" title=\"psysml:6343fae7-e97a-4dac-816a-0d66812becae\" xlink:actuate=\"onRequest\" xlink:href=\"psysml:6343fae7-e97a-4dac-816a-0d66812becae\" xlink:show=\"new\" xlink:title=\"psysml:6343fae7-e97a-4dac-816a-0d66812becae\" xlink:type=\"simple\"><rect fill=\"#FFFFFF\" height=\"42.9375\" id=\"E6\" style=\"stroke: #383838; stroke-width: 1.5;\" width=\"78\" x=\"212\" y=\"41\"/><rect fill=\"#F8F8F8\" height=\"37.9375\" style=\"stroke: #383838; stroke-width: 1.5;\" width=\"78\" x=\"212\" y=\"41\"/><text fill=\"#000000\" font-family=\"sans-serif\" font-size=\"12\" font-style=\"italic\" lengthAdjust=\"spacingAndGlyphs\" textLength=\"71\" x=\"215.5\" y=\"57.1387\">«state def»</text><text fill=\"#000000\" font-family=\"sans-serif\" font-size=\"12\" lengthAdjust=\"spacingAndGlyphs\" textLength=\"8\" x=\"247\" y=\"71.1074\">S</text></a></g><g id=\"E1.E4\"><a href=\"psysml:f6292196-12b9-4bba-a758-98820cb4f3f5\" target=\"_top\" title=\"psysml:f6292196-12b9-4bba-a758-98820cb4f3f5\" xlink:actuate=\"onRequest\" xlink:href=\"psysml:f6292196-12b9-4bba-a758-98820cb4f3f5\" xlink:show=\"new\" xlink:title=\"psysml:f6292196-12b9-4bba-a758-98820cb4f3f5\" xlink:type=\"simple\"><rect fill=\"#FFFFFF\" height=\"40\" id=\"E4\" rx=\"10\" ry=\"10\" style=\"stroke: #383838; stroke-width: 1.5;\" width=\"50\" x=\"127\" y=\"42.5\"/><rect fill=\"#F8F8F8\" height=\"23.9688\" rx=\"10\" ry=\"10\" style=\"stroke: #F8F8F8; stroke-width: 1.5;\" width=\"50\" x=\"127\" y=\"42.5\"/><rect fill=\"#F8F8F8\" height=\"10\" style=\"stroke: #F8F8F8; stroke-width: 1.5;\" width=\"50\" x=\"127\" y=\"56.4688\"/><rect fill=\"none\" height=\"40\" id=\"E4\" rx=\"10\" ry=\"10\" style=\"stroke: #383838; stroke-width: 1.5;\" width=\"50\" x=\"127\" y=\"42.5\"/><text fill=\"#000000\" font-family=\"sans-serif\" font-size=\"12\" lengthAdjust=\"spacingAndGlyphs\" textLength=\"8\" x=\"148\" y=\"58.6387\">p</text></a></g><g id=\"E1.E5\"><a href=\"psysml:d7bec2b6-e32c-41d0-a208-370a3f1c18c8\" target=\"_top\" title=\"psysml:d7bec2b6-e32c-41d0-a208-370a3f1c18c8\" xlink:actuate=\"onRequest\" xlink:href=\"psysml:d7bec2b6-e32c-41d0-a208-370a3f1c18c8\" xlink:show=\"new\" xlink:title=\"psysml:d7bec2b6-e32c-41d0-a208-370a3f1c18c8\" xlink:type=\"simple\"><rect fill=\"#FFFFFF\" height=\"42.9375\" id=\"E5\" rx=\"10\" ry=\"10\" style=\"stroke: #383838; stroke-width: 1.5;\" width=\"60\" x=\"32\" y=\"41\"/><rect fill=\"#F8F8F8\" height=\"37.9375\" rx=\"10\" ry=\"10\" style=\"stroke: #F8F8F8; stroke-width: 1.5;\" width=\"60\" x=\"32\" y=\"41\"/><rect fill=\"#F8F8F8\" height=\"10\" style=\"stroke: #F8F8F8; stroke-width: 1.5;\" width=\"60\" x=\"32\" y=\"68.9375\"/><rect fill=\"none\" height=\"42.9375\" id=\"E5\" rx=\"10\" ry=\"10\" style=\"stroke: #383838; stroke-width: 1.5;\" width=\"60\" x=\"32\" y=\"41\"/><text fill=\"#000000\" font-family=\"sans-serif\" font-size=\"12\" font-style=\"italic\" lengthAdjust=\"spacingAndGlyphs\" textLength=\"53\" x=\"35.5\" y=\"57.1387\">«action»</text><text fill=\"#000000\" font-family=\"sans-serif\" font-size=\"12\" lengthAdjust=\"spacingAndGlyphs\" textLength=\"20\" x=\"52\" y=\"71.1074\">act</text></a></g><!--MD5=[4d8a29c3871dd657dd30ec938c365feb]\n",
       "@startuml\r\n",
       "skinparam ranksep 8\r\n",
       "skinparam rectangle {\r\n",
       " backgroundColor<<block>> LightGreen\r\n",
       "}\r\n",
       " skinparam monochrome true\r\n",
       "skinparam classbackgroundcolor white\r\n",
       "skinparam shadowing false\r\n",
       "skinparam wrapWidth 300\r\n",
       "hide circle\r\n",
       "\r\n",
       "package \"StateTest\" as E1  [[psysml:7751d53a-3d7b-46fc-b5d8-bf0ae3c7070c ]]  {\r\n",
       "def \"Sig\" as E2  <<(T,blue)attribute def>> [[psysml:85dbfb10-d456-4c59-a9e0-99da33bb7a4b ]] \r\n",
       "def \"Exit\" as E3  <<(T,blue)attribute def>> [[psysml:06ed69bb-03e4-455b-a820-630d0564221d ]] \r\n",
       "rec usage \"p\" as E4  [[psysml:f6292196-12b9-4bba-a758-98820cb4f3f5 ]] {\r\n",
       "}\r\n",
       "rec usage \"act\" as E5  <<(T,blue)action>> [[psysml:d7bec2b6-e32c-41d0-a208-370a3f1c18c8 ]] {\r\n",
       "}\r\n",
       "def \"S\" as E6  <<(T,blue)state def>> [[psysml:6343fae7-e97a-4dac-816a-0d66812becae ]] \r\n",
       "}\r\n",
       "@enduml\r\n",
       "\n",
       "PlantUML version 1.2020.13(Sat Jun 13 12:26:38 UTC 2020)\n",
       "(EPL source distribution)\n",
       "Java Runtime: OpenJDK Runtime Environment\n",
       "JVM: OpenJDK 64-Bit Server VM\n",
       "Default Encoding: UTF-8\n",
       "Language: en\n",
       "Country: null\n",
       "--></g></svg>"
      ]
     },
     "execution_count": 5,
     "metadata": {},
     "output_type": "execute_result"
    }
   ],
   "source": [
    "%viz --style=\"COMPTREE\" --view=\"Interconnection\" \"StateTest\""
   ]
  },
  {
   "cell_type": "code",
   "execution_count": 6,
   "id": "forty-transition",
   "metadata": {
    "execution": {
     "iopub.execute_input": "2021-03-25T13:48:08.012011Z",
     "iopub.status.busy": "2021-03-25T13:48:08.010958Z",
     "iopub.status.idle": "2021-03-25T13:48:08.189701Z",
     "shell.execute_reply": "2021-03-25T13:48:08.190204Z"
    }
   },
   "outputs": [
    {
     "data": {
      "image/svg+xml": [
       "<?xml version=\"1.0\" encoding=\"UTF-8\" standalone=\"no\"?><svg xmlns=\"http://www.w3.org/2000/svg\" xmlns:xlink=\"http://www.w3.org/1999/xlink\" contentScriptType=\"application/ecmascript\" contentStyleType=\"text/css\" height=\"537px\" preserveAspectRatio=\"none\" style=\"width:797px;height:537px;background:#000000;\" version=\"1.1\" viewBox=\"0 0 797 537\" width=\"797px\" zoomAndPan=\"magnify\"><defs/><g><rect fill=\"#1D2323\" height=\"1\" style=\"stroke: #1D2323; stroke-width: 1.0;\" width=\"1\" x=\"0\" y=\"0\"/><rect fill=\"#EAE2C9\" height=\"65.1875\" style=\"stroke: #EAE2C9; stroke-width: 1.0;\" width=\"796\" x=\"0\" y=\"0\"/><text fill=\"#000000\" font-family=\"sans-serif\" font-size=\"14\" font-weight=\"bold\" lengthAdjust=\"spacingAndGlyphs\" textLength=\"310\" x=\"10\" y=\"12.9951\">Add your own dedication into PlantUML</text><text fill=\"#000000\" font-family=\"sans-serif\" font-size=\"14\" lengthAdjust=\"spacingAndGlyphs\" textLength=\"0\" x=\"14\" y=\"29.292\"/><text fill=\"#000000\" font-family=\"sans-serif\" font-size=\"14\" lengthAdjust=\"spacingAndGlyphs\" textLength=\"154\" x=\"10\" y=\"45.5889\">For just $5 per month!</text><text fill=\"#000000\" font-family=\"sans-serif\" font-size=\"14\" lengthAdjust=\"spacingAndGlyphs\" textLength=\"69\" x=\"10\" y=\"61.8857\">Details on</text><a href=\"http://plantuml.com/dedication\" target=\"_top\" title=\"http://plantuml.com/dedication\" xlink:actuate=\"onRequest\" xlink:href=\"http://plantuml.com/dedication\" xlink:show=\"new\" xlink:title=\"http://plantuml.com/dedication\" xlink:type=\"simple\"><text fill=\"#000000\" font-family=\"sans-serif\" font-size=\"14\" font-style=\"italic\" lengthAdjust=\"spacingAndGlyphs\" textLength=\"213\" x=\"83\" y=\"61.8857\">http://plantuml.com/dedication</text></a><rect fill=\"#000000\" height=\"471.3125\" style=\"stroke: #000000; stroke-width: 1.0;\" width=\"796\" x=\"0\" y=\"65.1875\"/><rect fill=\"#33FF02\" height=\"21.2969\" style=\"stroke: #33FF02; stroke-width: 1.0;\" width=\"786\" x=\"5\" y=\"70.1875\"/><text fill=\"#000000\" font-family=\"sans-serif\" font-size=\"14\" font-weight=\"bold\" lengthAdjust=\"spacingAndGlyphs\" textLength=\"178\" x=\"6\" y=\"85.1875\">[From string (line 25) ]</text><text fill=\"#33FF02\" font-family=\"sans-serif\" font-size=\"14\" font-weight=\"bold\" lengthAdjust=\"spacingAndGlyphs\" textLength=\"0\" x=\"10\" y=\"105.4844\"/><text fill=\"#33FF02\" font-family=\"sans-serif\" font-size=\"14\" font-weight=\"bold\" lengthAdjust=\"spacingAndGlyphs\" textLength=\"79\" x=\"5\" y=\"121.7813\">@startuml</text><text fill=\"#33FF02\" font-family=\"sans-serif\" font-size=\"14\" font-weight=\"bold\" lengthAdjust=\"spacingAndGlyphs\" textLength=\"165\" x=\"5\" y=\"138.0781\">skinparam ranksep 8</text><text fill=\"#33FF02\" font-family=\"sans-serif\" font-size=\"14\" font-weight=\"bold\" lengthAdjust=\"spacingAndGlyphs\" textLength=\"228\" x=\"10\" y=\"154.375\">skinparam monochrome true</text><text fill=\"#33FF02\" font-family=\"sans-serif\" font-size=\"14\" font-weight=\"bold\" lengthAdjust=\"spacingAndGlyphs\" textLength=\"309\" x=\"5\" y=\"170.6719\">skinparam classbackgroundcolor white</text><text fill=\"#33FF02\" font-family=\"sans-serif\" font-size=\"14\" font-weight=\"bold\" lengthAdjust=\"spacingAndGlyphs\" textLength=\"215\" x=\"5\" y=\"186.9688\">skinparam shadowing false</text><text fill=\"#33FF02\" font-family=\"sans-serif\" font-size=\"14\" font-weight=\"bold\" lengthAdjust=\"spacingAndGlyphs\" textLength=\"206\" x=\"5\" y=\"203.2656\">skinparam wrapWidth 300</text><text fill=\"#33FF02\" font-family=\"sans-serif\" font-size=\"14\" font-weight=\"bold\" lengthAdjust=\"spacingAndGlyphs\" textLength=\"82\" x=\"5\" y=\"219.5625\">hide circle</text><text fill=\"#33FF02\" font-family=\"sans-serif\" font-size=\"14\" font-weight=\"bold\" lengthAdjust=\"spacingAndGlyphs\" textLength=\"0\" x=\"10\" y=\"235.8594\"/><text fill=\"#33FF02\" font-family=\"sans-serif\" font-size=\"14\" font-weight=\"bold\" lengthAdjust=\"spacingAndGlyphs\" textLength=\"780\" x=\"5\" y=\"252.1563\">rec usage \"act\" as E1  &lt;&lt;(T,blue)action&gt;&gt; [[psysml:d7bec2b6-e32c-41d0-a208-370a3f1c18c8 ]] {</text><text fill=\"#33FF02\" font-family=\"sans-serif\" font-size=\"14\" font-weight=\"bold\" lengthAdjust=\"spacingAndGlyphs\" textLength=\"10\" x=\"5\" y=\"268.4531\">}</text><text fill=\"#33FF02\" font-family=\"sans-serif\" font-size=\"14\" font-weight=\"bold\" lengthAdjust=\"spacingAndGlyphs\" textLength=\"0\" x=\"10\" y=\"284.75\"/><text fill=\"#33FF02\" font-family=\"sans-serif\" font-size=\"14\" font-weight=\"bold\" lengthAdjust=\"spacingAndGlyphs\" textLength=\"766\" x=\"5\" y=\"301.0469\">rec def \"S\" as E2  &lt;&lt;(T,blue)state def&gt;&gt; [[psysml:6343fae7-e97a-4dac-816a-0d66812becae ]] {</text><text fill=\"#33FF02\" font-family=\"sans-serif\" font-size=\"14\" font-weight=\"bold\" lengthAdjust=\"spacingAndGlyphs\" textLength=\"771\" x=\"5\" y=\"317.3438\">rec usage \"A\" as E3 &lt;&lt;perform action&gt;&gt; [[psysml:8359d21e-76a2-4117-aa0c-e497139fc203 ]] {</text><text fill=\"#33FF02\" font-family=\"sans-serif\" font-size=\"14\" font-weight=\"bold\" lengthAdjust=\"spacingAndGlyphs\" textLength=\"10\" x=\"5\" y=\"333.6406\">}</text><text fill=\"#33FF02\" font-family=\"sans-serif\" font-size=\"14\" font-weight=\"bold\" lengthAdjust=\"spacingAndGlyphs\" textLength=\"0\" x=\"10\" y=\"349.9375\"/><text fill=\"#33FF02\" font-family=\"sans-serif\" font-size=\"14\" font-weight=\"bold\" lengthAdjust=\"spacingAndGlyphs\" textLength=\"757\" x=\"5\" y=\"366.2344\">rec usage \"B\" as E4 &lt;&lt;perform action&gt;&gt; [[psysml:fefee72e-42fb-4d4a-8086-a3c1a01af58c ]] {</text><text fill=\"#33FF02\" font-family=\"sans-serif\" font-size=\"14\" font-weight=\"bold\" lengthAdjust=\"spacingAndGlyphs\" textLength=\"10\" x=\"5\" y=\"382.5313\">}</text><text fill=\"#33FF02\" font-family=\"sans-serif\" font-size=\"14\" font-weight=\"bold\" lengthAdjust=\"spacingAndGlyphs\" textLength=\"0\" x=\"10\" y=\"398.8281\"/><text fill=\"#33FF02\" font-family=\"sans-serif\" font-size=\"14\" font-weight=\"bold\" lengthAdjust=\"spacingAndGlyphs\" textLength=\"786\" x=\"5\" y=\"415.125\">rec usage \"act\" as E5 &lt;&lt;perform action&gt;&gt; [[psysml:0785ac9a-a9d7-4330-a90b-536bd85a1c26 ]] {</text><text fill=\"#33FF02\" font-family=\"sans-serif\" font-size=\"14\" font-weight=\"bold\" lengthAdjust=\"spacingAndGlyphs\" textLength=\"10\" x=\"5\" y=\"431.4219\">}</text><text fill=\"#33FF02\" font-family=\"sans-serif\" font-size=\"14\" font-weight=\"bold\" lengthAdjust=\"spacingAndGlyphs\" textLength=\"0\" x=\"10\" y=\"447.7188\"/><text fill=\"#33FF02\" font-family=\"sans-serif\" font-size=\"14\" font-weight=\"bold\" lengthAdjust=\"spacingAndGlyphs\" textLength=\"767\" x=\"5\" y=\"464.0156\">rec usage \"S1\" as E6  &lt;&lt;(T,blue)state&gt;&gt; [[psysml:df9bf7b7-ea8a-42e1-9b23-b8091030681c ]] {</text><text fill=\"#33FF02\" font-family=\"sans-serif\" font-size=\"14\" font-weight=\"bold\" lengthAdjust=\"spacingAndGlyphs\" textLength=\"10\" x=\"5\" y=\"480.3125\">}</text><text fill=\"#33FF02\" font-family=\"sans-serif\" font-size=\"14\" font-weight=\"bold\" lengthAdjust=\"spacingAndGlyphs\" textLength=\"0\" x=\"10\" y=\"496.6094\"/><text fill=\"#33FF02\" font-family=\"sans-serif\" font-size=\"14\" font-weight=\"bold\" lengthAdjust=\"spacingAndGlyphs\" textLength=\"10\" x=\"5\" y=\"512.9063\">{</text><text fill=\"#FF0000\" font-family=\"sans-serif\" font-size=\"14\" font-weight=\"bold\" lengthAdjust=\"spacingAndGlyphs\" textLength=\"106\" x=\"10\" y=\"529.2031\">Syntax Error?</text><!--MD5=[f7d4e77740a5892176672559556e64bb]\n",
       "@startuml\r\n",
       "skinparam ranksep 8\r\n",
       " skinparam monochrome true\r\n",
       "skinparam classbackgroundcolor white\r\n",
       "skinparam shadowing false\r\n",
       "skinparam wrapWidth 300\r\n",
       "hide circle\r\n",
       "\r\n",
       "rec usage \"act\" as E1  <<(T,blue)action>> [[psysml:d7bec2b6-e32c-41d0-a208-370a3f1c18c8 ]] {\r\n",
       "}\r\n",
       "\r\n",
       "rec def \"S\" as E2  <<(T,blue)state def>> [[psysml:6343fae7-e97a-4dac-816a-0d66812becae ]] {\r\n",
       "rec usage \"A\" as E3 <<perform action>> [[psysml:8359d21e-76a2-4117-aa0c-e497139fc203 ]] {\r\n",
       "}\r\n",
       "\r\n",
       "rec usage \"B\" as E4 <<perform action>> [[psysml:fefee72e-42fb-4d4a-8086-a3c1a01af58c ]] {\r\n",
       "}\r\n",
       "\r\n",
       "rec usage \"act\" as E5 <<perform action>> [[psysml:0785ac9a-a9d7-4330-a90b-536bd85a1c26 ]] {\r\n",
       "}\r\n",
       "\r\n",
       "rec usage \"S1\" as E6  <<(T,blue)state>> [[psysml:df9bf7b7-ea8a-42e1-9b23-b8091030681c ]] {\r\n",
       "}\r\n",
       "\r\n",
       "{\r\n",
       "{\r\n",
       "}\r\n",
       "\r\n",
       "rec usage \"D\" as E7 <<perform action>> [[psysml:13511cfd-781a-4ec2-8fcf-a4a28f7b6394 ]] {\r\n",
       "}\r\n",
       "\r\n",
       "}\r\n",
       "\r\n",
       "rec usage \"S2\" as E8  <<(T,blue)state>> [[psysml:372708ac-c185-450b-8b20-5b0e6796b1d2 ]] {\r\n",
       "rec usage \"doAction\" as E9 <<send action>> [[psysml:db8ff6bb-65b2-44b6-939f-52bfaf067d5c ]] {\r\n",
       "portin \"$x\" as E10  [[psysml:f2ac6743-4d1a-421e-9e84-f3280953fc52 ]] \r\n",
       "portout \"$result\" as E11  [[psysml:58832e21-8b8c-4456-b993-1dc2ff31e51d ]] \r\n",
       "}\r\n",
       "\r\n",
       "}\r\n",
       "\r\n",
       "{\r\n",
       "{\r\n",
       "}\r\n",
       "\r\n",
       "}\r\n",
       "\r\n",
       "rec usage \"T\" as E12  <<(T,blue)transition>> [[psysml:8fe1fd83-9e96-4978-be75-1a7ead5c4a85 ]] {\r\n",
       "rec usage \"S2\" as E13  <<(T,blue)state>> [[psysml:372708ac-c185-450b-8b20-5b0e6796b1d2 ]] {\r\n",
       "rec usage \"doAction\" as E14 <<send action>> [[psysml:db8ff6bb-65b2-44b6-939f-52bfaf067d5c ]] {\r\n",
       "portin \"$x\" as E15  [[psysml:f2ac6743-4d1a-421e-9e84-f3280953fc52 ]] \r\n",
       "portout \"$result\" as E16  [[psysml:58832e21-8b8c-4456-b993-1dc2ff31e51d ]] \r\n",
       "}\r\n",
       "\r\n",
       "}\r\n",
       "\r\n",
       "{\r\n",
       "}\r\n",
       "\r\n",
       "portout \"$result\" as E17  [[psysml:19fa8e9c-57e3-4ff0-b297-c44a7cb57e28 ]] \r\n",
       "{\r\n",
       "}\r\n",
       "\r\n",
       "}\r\n",
       "\r\n",
       "}\r\n",
       "\r\n",
       "@enduml\r\n",
       "\n",
       "PlantUML version 1.2020.13(Sat Jun 13 12:26:38 UTC 2020)\n",
       "(EPL source distribution)\n",
       "Java Runtime: OpenJDK Runtime Environment\n",
       "JVM: OpenJDK 64-Bit Server VM\n",
       "Default Encoding: UTF-8\n",
       "Language: en\n",
       "Country: null\n",
       "--></g></svg>"
      ]
     },
     "execution_count": 6,
     "metadata": {},
     "output_type": "execute_result"
    }
   ],
   "source": [
    "%viz --style=\"COMPTREE\" --view=\"Action\" \"StateTest\""
   ]
  },
  {
   "cell_type": "code",
   "execution_count": 7,
   "id": "unavailable-qualification",
   "metadata": {
    "execution": {
     "iopub.execute_input": "2021-03-25T13:48:08.242226Z",
     "iopub.status.busy": "2021-03-25T13:48:08.241472Z",
     "iopub.status.idle": "2021-03-25T13:48:08.772581Z",
     "shell.execute_reply": "2021-03-25T13:48:08.770962Z"
    }
   },
   "outputs": [
    {
     "data": {
      "image/svg+xml": [
       "<?xml version=\"1.0\" encoding=\"UTF-8\" standalone=\"no\"?><svg xmlns=\"http://www.w3.org/2000/svg\" xmlns:xlink=\"http://www.w3.org/1999/xlink\" contentScriptType=\"application/ecmascript\" contentStyleType=\"text/css\" height=\"471px\" preserveAspectRatio=\"none\" style=\"width:594px;height:471px;\" version=\"1.1\" viewBox=\"0 0 594 471\" width=\"594px\" zoomAndPan=\"magnify\"><defs/><g><!--MD5=[fbc87193dbaf4d95561dea2c320d4a47]\n",
       "cluster E1--><a href=\"psysml:7751d53a-3d7b-46fc-b5d8-bf0ae3c7070c\" target=\"_top\" title=\"psysml:7751d53a-3d7b-46fc-b5d8-bf0ae3c7070c\" xlink:actuate=\"onRequest\" xlink:href=\"psysml:7751d53a-3d7b-46fc-b5d8-bf0ae3c7070c\" xlink:show=\"new\" xlink:title=\"psysml:7751d53a-3d7b-46fc-b5d8-bf0ae3c7070c\" xlink:type=\"simple\"><polygon fill=\"#FFFFFF\" points=\"16,6,98,6,105,28.2969,572,28.2969,572,459,16,459,16,6\" style=\"stroke: #000000; stroke-width: 1.5;\"/><line style=\"stroke: #000000; stroke-width: 1.5;\" x1=\"16\" x2=\"105\" y1=\"28.2969\" y2=\"28.2969\"/><text fill=\"#000000\" font-family=\"sans-serif\" font-size=\"14\" font-weight=\"bold\" lengthAdjust=\"spacingAndGlyphs\" textLength=\"76\" x=\"20\" y=\"20.9951\">StateTest</text></a><!--MD5=[b4997ac47864f28c2f74865a473b2911]\n",
       "class E2--><a href=\"psysml:85dbfb10-d456-4c59-a9e0-99da33bb7a4b\" target=\"_top\" title=\"psysml:85dbfb10-d456-4c59-a9e0-99da33bb7a4b\" xlink:actuate=\"onRequest\" xlink:href=\"psysml:85dbfb10-d456-4c59-a9e0-99da33bb7a4b\" xlink:show=\"new\" xlink:title=\"psysml:85dbfb10-d456-4c59-a9e0-99da33bb7a4b\" xlink:type=\"simple\"><rect fill=\"#FFFFFF\" height=\"75.5469\" id=\"E2\" style=\"stroke: #383838; stroke-width: 1.5;\" width=\"95\" x=\"460.5\" y=\"83\"/><text fill=\"#000000\" font-family=\"sans-serif\" font-size=\"12\" font-style=\"italic\" lengthAdjust=\"spacingAndGlyphs\" textLength=\"93\" x=\"461.5\" y=\"99.1387\">«attribute def»</text><text fill=\"#000000\" font-family=\"sans-serif\" font-size=\"12\" lengthAdjust=\"spacingAndGlyphs\" textLength=\"19\" x=\"498.5\" y=\"113.1074\">Sig</text><line style=\"stroke: #383838; stroke-width: 1.5;\" x1=\"461.5\" x2=\"554.5\" y1=\"120.9375\" y2=\"120.9375\"/><text fill=\"#000000\" font-family=\"sans-serif\" font-size=\"11\" lengthAdjust=\"spacingAndGlyphs\" textLength=\"6\" x=\"466.5\" y=\"151.9526\">x</text><line style=\"stroke: #383838; stroke-width: 1.0;\" x1=\"461.5\" x2=\"480.5\" y1=\"135.3398\" y2=\"135.3398\"/><text fill=\"#000000\" font-family=\"sans-serif\" font-size=\"11\" lengthAdjust=\"spacingAndGlyphs\" textLength=\"55\" x=\"480.5\" y=\"138.6479\">attributes</text><line style=\"stroke: #383838; stroke-width: 1.0;\" x1=\"535.5\" x2=\"554.5\" y1=\"135.3398\" y2=\"135.3398\"/></a><!--MD5=[09b614a08d8cba4a07c9adeb5e0fee81]\n",
       "class E3--><a href=\"psysml:06ed69bb-03e4-455b-a820-630d0564221d\" target=\"_top\" title=\"psysml:06ed69bb-03e4-455b-a820-630d0564221d\" xlink:actuate=\"onRequest\" xlink:href=\"psysml:06ed69bb-03e4-455b-a820-630d0564221d\" xlink:show=\"new\" xlink:title=\"psysml:06ed69bb-03e4-455b-a820-630d0564221d\" xlink:type=\"simple\"><rect fill=\"#FFFFFF\" height=\"45.9375\" id=\"E3\" style=\"stroke: #383838; stroke-width: 1.5;\" width=\"95\" x=\"330.5\" y=\"98\"/><text fill=\"#000000\" font-family=\"sans-serif\" font-size=\"12\" font-style=\"italic\" lengthAdjust=\"spacingAndGlyphs\" textLength=\"93\" x=\"331.5\" y=\"114.1387\">«attribute def»</text><text fill=\"#000000\" font-family=\"sans-serif\" font-size=\"12\" lengthAdjust=\"spacingAndGlyphs\" textLength=\"22\" x=\"367\" y=\"128.1074\">Exit</text><line style=\"stroke: #383838; stroke-width: 1.5;\" x1=\"331.5\" x2=\"424.5\" y1=\"135.9375\" y2=\"135.9375\"/></a><!--MD5=[ebbe1d658d1005bcc118a6aa81145e00]\n",
       "class E4--><a href=\"psysml:f6292196-12b9-4bba-a758-98820cb4f3f5\" target=\"_top\" title=\"psysml:f6292196-12b9-4bba-a758-98820cb4f3f5\" xlink:actuate=\"onRequest\" xlink:href=\"psysml:f6292196-12b9-4bba-a758-98820cb4f3f5\" xlink:show=\"new\" xlink:title=\"psysml:f6292196-12b9-4bba-a758-98820cb4f3f5\" xlink:type=\"simple\"><rect fill=\"#FFFFFF\" height=\"45.9375\" id=\"E4\" rx=\"10\" ry=\"10\" style=\"stroke: #383838; stroke-width: 1.5;\" width=\"42\" x=\"253\" y=\"98\"/><text fill=\"#000000\" font-family=\"sans-serif\" font-size=\"12\" font-style=\"italic\" lengthAdjust=\"spacingAndGlyphs\" textLength=\"40\" x=\"254\" y=\"114.1387\">«part»</text><text fill=\"#000000\" font-family=\"sans-serif\" font-size=\"12\" lengthAdjust=\"spacingAndGlyphs\" textLength=\"8\" x=\"270\" y=\"128.1074\">p</text><line style=\"stroke: #383838; stroke-width: 1.5;\" x1=\"254\" x2=\"294\" y1=\"135.9375\" y2=\"135.9375\"/></a><!--MD5=[270fce915f116d4de14055a7c1d9a0f3]\n",
       "class E5--><a href=\"psysml:d7bec2b6-e32c-41d0-a208-370a3f1c18c8\" target=\"_top\" title=\"psysml:d7bec2b6-e32c-41d0-a208-370a3f1c18c8\" xlink:actuate=\"onRequest\" xlink:href=\"psysml:d7bec2b6-e32c-41d0-a208-370a3f1c18c8\" xlink:show=\"new\" xlink:title=\"psysml:d7bec2b6-e32c-41d0-a208-370a3f1c18c8\" xlink:type=\"simple\"><rect fill=\"#FFFFFF\" height=\"45.9375\" id=\"E5\" rx=\"10\" ry=\"10\" style=\"stroke: #383838; stroke-width: 1.5;\" width=\"55\" x=\"162.5\" y=\"98\"/><text fill=\"#000000\" font-family=\"sans-serif\" font-size=\"12\" font-style=\"italic\" lengthAdjust=\"spacingAndGlyphs\" textLength=\"53\" x=\"163.5\" y=\"114.1387\">«action»</text><text fill=\"#000000\" font-family=\"sans-serif\" font-size=\"12\" lengthAdjust=\"spacingAndGlyphs\" textLength=\"20\" x=\"180\" y=\"128.1074\">act</text><line style=\"stroke: #383838; stroke-width: 1.5;\" x1=\"163.5\" x2=\"216.5\" y1=\"135.9375\" y2=\"135.9375\"/></a><!--MD5=[60a26617385b1d2d0262a64233df1f8d]\n",
       "class E6--><a href=\"psysml:6343fae7-e97a-4dac-816a-0d66812becae\" target=\"_top\" title=\"psysml:6343fae7-e97a-4dac-816a-0d66812becae\" xlink:actuate=\"onRequest\" xlink:href=\"psysml:6343fae7-e97a-4dac-816a-0d66812becae\" xlink:show=\"new\" xlink:title=\"psysml:6343fae7-e97a-4dac-816a-0d66812becae\" xlink:type=\"simple\"><rect fill=\"#FFFFFF\" height=\"160.375\" id=\"E6\" style=\"stroke: #383838; stroke-width: 1.5;\" width=\"95\" x=\"32.5\" y=\"41\"/><text fill=\"#000000\" font-family=\"sans-serif\" font-size=\"12\" font-style=\"italic\" lengthAdjust=\"spacingAndGlyphs\" textLength=\"71\" x=\"44.5\" y=\"57.1387\">«state def»</text><text fill=\"#000000\" font-family=\"sans-serif\" font-size=\"12\" lengthAdjust=\"spacingAndGlyphs\" textLength=\"8\" x=\"76\" y=\"71.1074\">S</text><line style=\"stroke: #383838; stroke-width: 1.5;\" x1=\"33.5\" x2=\"126.5\" y1=\"78.9375\" y2=\"78.9375\"/><text fill=\"#000000\" font-family=\"sans-serif\" font-size=\"11\" lengthAdjust=\"spacingAndGlyphs\" textLength=\"17\" x=\"38.5\" y=\"109.9526\">act</text><text fill=\"#000000\" font-family=\"sans-serif\" font-size=\"11\" lengthAdjust=\"spacingAndGlyphs\" textLength=\"7\" x=\"38.5\" y=\"122.7573\">A</text><text fill=\"#000000\" font-family=\"sans-serif\" font-size=\"11\" lengthAdjust=\"spacingAndGlyphs\" textLength=\"8\" x=\"38.5\" y=\"135.562\">B</text><line style=\"stroke: #383838; stroke-width: 1.0;\" x1=\"33.5\" x2=\"36.5\" y1=\"93.3398\" y2=\"93.3398\"/><text fill=\"#000000\" font-family=\"sans-serif\" font-size=\"11\" lengthAdjust=\"spacingAndGlyphs\" textLength=\"87\" x=\"36.5\" y=\"96.6479\">performActions</text><line style=\"stroke: #383838; stroke-width: 1.0;\" x1=\"123.5\" x2=\"126.5\" y1=\"93.3398\" y2=\"93.3398\"/><text fill=\"#000000\" font-family=\"sans-serif\" font-size=\"11\" lengthAdjust=\"spacingAndGlyphs\" textLength=\"15\" x=\"38.5\" y=\"165.1714\">S1</text><line style=\"stroke: #383838; stroke-width: 1.0;\" x1=\"33.5\" x2=\"62\" y1=\"148.5586\" y2=\"148.5586\"/><text fill=\"#000000\" font-family=\"sans-serif\" font-size=\"11\" lengthAdjust=\"spacingAndGlyphs\" textLength=\"36\" x=\"62\" y=\"151.8667\">states</text><line style=\"stroke: #383838; stroke-width: 1.0;\" x1=\"98\" x2=\"126.5\" y1=\"148.5586\" y2=\"148.5586\"/><text fill=\"#000000\" font-family=\"sans-serif\" font-size=\"11\" lengthAdjust=\"spacingAndGlyphs\" textLength=\"7\" x=\"38.5\" y=\"194.7808\">T</text><line style=\"stroke: #383838; stroke-width: 1.0;\" x1=\"33.5\" x2=\"49.5\" y1=\"178.168\" y2=\"178.168\"/><text fill=\"#000000\" font-family=\"sans-serif\" font-size=\"11\" lengthAdjust=\"spacingAndGlyphs\" textLength=\"61\" x=\"49.5\" y=\"181.4761\">transitions</text><line style=\"stroke: #383838; stroke-width: 1.0;\" x1=\"110.5\" x2=\"126.5\" y1=\"178.168\" y2=\"178.168\"/></a><!--MD5=[1dd1bfd58a279cf63c5f349dbc8fc6a1]\n",
       "class E11--><a href=\"psysml:372708ac-c185-450b-8b20-5b0e6796b1d2\" target=\"_top\" title=\"psysml:372708ac-c185-450b-8b20-5b0e6796b1d2\" xlink:actuate=\"onRequest\" xlink:href=\"psysml:372708ac-c185-450b-8b20-5b0e6796b1d2\" xlink:show=\"new\" xlink:title=\"psysml:372708ac-c185-450b-8b20-5b0e6796b1d2\" xlink:type=\"simple\"><rect fill=\"#FFFFFF\" height=\"45.9375\" id=\"E11\" rx=\"10\" ry=\"10\" style=\"stroke: #383838; stroke-width: 1.5;\" width=\"49\" x=\"55.5\" y=\"261\"/><text fill=\"#000000\" font-family=\"sans-serif\" font-size=\"12\" font-style=\"italic\" lengthAdjust=\"spacingAndGlyphs\" textLength=\"47\" x=\"56.5\" y=\"277.1387\">«state»</text><text fill=\"#000000\" font-family=\"sans-serif\" font-size=\"12\" lengthAdjust=\"spacingAndGlyphs\" textLength=\"16\" x=\"72\" y=\"291.1074\">S2</text><line style=\"stroke: #383838; stroke-width: 1.5;\" x1=\"56.5\" x2=\"103.5\" y1=\"298.9375\" y2=\"298.9375\"/></a><!--MD5=[49a0ec8f00dab7302a31f22d0f0fe584]\n",
       "class E12--><a href=\"psysml:db8ff6bb-65b2-44b6-939f-52bfaf067d5c\" target=\"_top\" title=\"psysml:db8ff6bb-65b2-44b6-939f-52bfaf067d5c\" xlink:actuate=\"onRequest\" xlink:href=\"psysml:db8ff6bb-65b2-44b6-939f-52bfaf067d5c\" xlink:show=\"new\" xlink:title=\"psysml:db8ff6bb-65b2-44b6-939f-52bfaf067d5c\" xlink:type=\"simple\"><rect fill=\"#FFFFFF\" height=\"75.5469\" id=\"E12\" rx=\"10\" ry=\"10\" style=\"stroke: #383838; stroke-width: 1.5;\" width=\"90\" x=\"35\" y=\"367\"/><text fill=\"#000000\" font-family=\"sans-serif\" font-size=\"12\" font-style=\"italic\" lengthAdjust=\"spacingAndGlyphs\" textLength=\"88\" x=\"36\" y=\"383.1387\">«send action»</text><text fill=\"#000000\" font-family=\"sans-serif\" font-size=\"12\" lengthAdjust=\"spacingAndGlyphs\" textLength=\"55\" x=\"52.5\" y=\"397.1074\">doAction</text><line style=\"stroke: #383838; stroke-width: 1.5;\" x1=\"36\" x2=\"124\" y1=\"404.9375\" y2=\"404.9375\"/><text fill=\"#000000\" font-family=\"sans-serif\" font-size=\"11\" lengthAdjust=\"spacingAndGlyphs\" textLength=\"25\" x=\"41\" y=\"435.9526\">item</text><line style=\"stroke: #383838; stroke-width: 1.0;\" x1=\"36\" x2=\"42.5\" y1=\"419.3398\" y2=\"419.3398\"/><text fill=\"#000000\" font-family=\"sans-serif\" font-size=\"11\" lengthAdjust=\"spacingAndGlyphs\" textLength=\"75\" x=\"42.5\" y=\"422.6479\">itemFeatures</text><line style=\"stroke: #383838; stroke-width: 1.0;\" x1=\"117.5\" x2=\"124\" y1=\"419.3398\" y2=\"419.3398\"/></a><!--MD5=[1f5f03483f7de0d5b3680a7f6650997f]\n",
       "reverse link E6 to E11--><a href=\"psysml:372708ac-c185-450b-8b20-5b0e6796b1d2\" target=\"_top\" title=\"psysml:372708ac-c185-450b-8b20-5b0e6796b1d2\" xlink:actuate=\"onRequest\" xlink:href=\"psysml:372708ac-c185-450b-8b20-5b0e6796b1d2\" xlink:show=\"new\" xlink:title=\"psysml:372708ac-c185-450b-8b20-5b0e6796b1d2\" xlink:type=\"simple\"><path d=\"M80,214.17 C80,231.58 80,248.25 80,260.82 \" fill=\"none\" id=\"E6&lt;-E11\" style=\"stroke: #383838; stroke-width: 1.0;\"/><polygon fill=\"#383838\" points=\"80,201.09,76.0066,207.0944,80.0132,213.09,84.0066,207.0856,80,201.09\" style=\"stroke: #383838; stroke-width: 1.0;\"/></a><!--MD5=[94adabc162ce7e41b39f13be14fbaeb3]\n",
       "reverse link E11 to E12--><a href=\"psysml:db8ff6bb-65b2-44b6-939f-52bfaf067d5c\" target=\"_top\" title=\"psysml:db8ff6bb-65b2-44b6-939f-52bfaf067d5c\" xlink:actuate=\"onRequest\" xlink:href=\"psysml:db8ff6bb-65b2-44b6-939f-52bfaf067d5c\" xlink:show=\"new\" xlink:title=\"psysml:db8ff6bb-65b2-44b6-939f-52bfaf067d5c\" xlink:type=\"simple\"><path d=\"M80,320.23 C80,334.82 80,351.76 80,366.58 \" fill=\"none\" id=\"E11&lt;-E12\" style=\"stroke: #383838; stroke-width: 1.0;\"/><polygon fill=\"#FFFFFF\" points=\"80,307.1,76,313.1,80,319.1,84,313.1,80,307.1\" style=\"stroke: #383838; stroke-width: 1.0;\"/></a><!--MD5=[b3f57cfc02944d5b88fd4fc8dd935f7c]\n",
       "@startuml\r\n",
       " skinparam monochrome true\r\n",
       "skinparam classbackgroundcolor white\r\n",
       "skinparam shadowing false\r\n",
       "skinparam wrapWidth 300\r\n",
       "hide circle\r\n",
       "\r\n",
       "package \"StateTest\" as E1  [[psysml:7751d53a-3d7b-46fc-b5d8-bf0ae3c7070c ]]  {\r\n",
       "comp def \"Sig\" as E2  <<(T,blue)attribute def>> [[psysml:85dbfb10-d456-4c59-a9e0-99da33bb7a4b ]] {\r\n",
       "- - attributes - -\r\n",
       "x\r\n",
       "}\r\n",
       "comp def \"Exit\" as E3  <<(T,blue)attribute def>> [[psysml:06ed69bb-03e4-455b-a820-630d0564221d ]] {\r\n",
       "}\r\n",
       "comp usage \"p\" as E4  <<(T,blue)part>> [[psysml:f6292196-12b9-4bba-a758-98820cb4f3f5 ]] {\r\n",
       "}\r\n",
       "comp usage \"act\" as E5  <<(T,blue)action>> [[psysml:d7bec2b6-e32c-41d0-a208-370a3f1c18c8 ]] {\r\n",
       "}\r\n",
       "comp def \"S\" as E6  <<(T,blue)state def>> [[psysml:6343fae7-e97a-4dac-816a-0d66812becae ]] {\r\n",
       "- - performActions - -\r\n",
       "act\r\n",
       "A\r\n",
       "B\r\n",
       "- - states - -\r\n",
       "S1\r\n",
       "- - transitions - -\r\n",
       "T\r\n",
       "}\r\n",
       "comp usage \"S2\" as E11  <<(T,blue)state>> [[psysml:372708ac-c185-450b-8b20-5b0e6796b1d2 ]] {\r\n",
       "}\r\n",
       "comp usage \"doAction\" as E12 <<send action>> [[psysml:db8ff6bb-65b2-44b6-939f-52bfaf067d5c ]] {\r\n",
       "- - itemFeatures - -\r\n",
       "item\r\n",
       "}\r\n",
       "E6 *- - E11 [[psysml:372708ac-c185-450b-8b20-5b0e6796b1d2 ]] \r\n",
       "E11 o- - E12 [[psysml:db8ff6bb-65b2-44b6-939f-52bfaf067d5c ]] \r\n",
       "}\r\n",
       "@enduml\r\n",
       "\n",
       "PlantUML version 1.2020.13(Sat Jun 13 12:26:38 UTC 2020)\n",
       "(EPL source distribution)\n",
       "Java Runtime: OpenJDK Runtime Environment\n",
       "JVM: OpenJDK 64-Bit Server VM\n",
       "Default Encoding: UTF-8\n",
       "Language: en\n",
       "Country: null\n",
       "--></g></svg>"
      ]
     },
     "execution_count": 7,
     "metadata": {},
     "output_type": "execute_result"
    }
   ],
   "source": [
    "%viz --style=\"COMPTREE\" --view=\"Sequence\" \"StateTest\""
   ]
  },
  {
   "cell_type": "code",
   "execution_count": 8,
   "id": "sized-technician",
   "metadata": {
    "execution": {
     "iopub.execute_input": "2021-03-25T13:48:08.823190Z",
     "iopub.status.busy": "2021-03-25T13:48:08.822298Z",
     "iopub.status.idle": "2021-03-25T13:48:09.010187Z",
     "shell.execute_reply": "2021-03-25T13:48:09.010591Z"
    }
   },
   "outputs": [
    {
     "data": {
      "image/svg+xml": [
       "<?xml version=\"1.0\" encoding=\"UTF-8\" standalone=\"no\"?><svg xmlns=\"http://www.w3.org/2000/svg\" xmlns:xlink=\"http://www.w3.org/1999/xlink\" contentScriptType=\"application/ecmascript\" contentStyleType=\"text/css\" height=\"570px\" preserveAspectRatio=\"none\" style=\"width:819px;height:570px;\" version=\"1.1\" viewBox=\"0 0 819 570\" width=\"819px\" zoomAndPan=\"magnify\"><defs/><g><!--MD5=[fbc87193dbaf4d95561dea2c320d4a47]\n",
       "cluster E1--><a href=\"psysml:7751d53a-3d7b-46fc-b5d8-bf0ae3c7070c\" target=\"_top\" title=\"psysml:7751d53a-3d7b-46fc-b5d8-bf0ae3c7070c\" xlink:actuate=\"onRequest\" xlink:href=\"psysml:7751d53a-3d7b-46fc-b5d8-bf0ae3c7070c\" xlink:show=\"new\" xlink:title=\"psysml:7751d53a-3d7b-46fc-b5d8-bf0ae3c7070c\" xlink:type=\"simple\"><polygon fill=\"#FFFFFF\" points=\"16,6,98,6,105,28.2969,797,28.2969,797,558,16,558,16,6\" style=\"stroke: #000000; stroke-width: 1.5;\"/><line style=\"stroke: #000000; stroke-width: 1.5;\" x1=\"16\" x2=\"105\" y1=\"28.2969\" y2=\"28.2969\"/><text fill=\"#000000\" font-family=\"sans-serif\" font-size=\"14\" font-weight=\"bold\" lengthAdjust=\"spacingAndGlyphs\" textLength=\"76\" x=\"20\" y=\"20.9951\">StateTest</text></a><!--MD5=[14e3b0961a2654348d326746436168a1]\n",
       "cluster E6--><a href=\"psysml:6343fae7-e97a-4dac-816a-0d66812becae\" target=\"_top\" title=\"psysml:6343fae7-e97a-4dac-816a-0d66812becae\" xlink:actuate=\"onRequest\" xlink:href=\"psysml:6343fae7-e97a-4dac-816a-0d66812becae\" xlink:show=\"new\" xlink:title=\"psysml:6343fae7-e97a-4dac-816a-0d66812becae\" xlink:type=\"simple\"><rect fill=\"#FFFFFF\" height=\"485\" id=\"E6\" style=\"stroke: #383838; stroke-width: 1.5;\" width=\"327\" x=\"446\" y=\"49\"/><rect fill=\"#F8F8F8\" height=\"37.9375\" style=\"stroke: #383838; stroke-width: 1.5;\" width=\"327\" x=\"446\" y=\"49\"/><text fill=\"#000000\" font-family=\"sans-serif\" font-size=\"12\" font-style=\"italic\" lengthAdjust=\"spacingAndGlyphs\" textLength=\"71\" x=\"574\" y=\"65.1387\">«state def»</text><text fill=\"#000000\" font-family=\"sans-serif\" font-size=\"12\" lengthAdjust=\"spacingAndGlyphs\" textLength=\"8\" x=\"605.5\" y=\"79.1074\">S</text><line style=\"stroke: #383838; stroke-width: 1.0;\" x1=\"446\" x2=\"773\" y1=\"132.8438\" y2=\"132.8438\"/><text fill=\"#000000\" font-family=\"sans-serif\" font-size=\"12\" font-weight=\"bold\" lengthAdjust=\"spacingAndGlyphs\" textLength=\"38\" x=\"451\" y=\"100.0762\">entry</text><text fill=\"#000000\" font-family=\"sans-serif\" font-size=\"12\" lengthAdjust=\"spacingAndGlyphs\" textLength=\"16\" x=\"489\" y=\"100.0762\">/ A</text><text fill=\"#000000\" font-family=\"sans-serif\" font-size=\"12\" font-weight=\"bold\" lengthAdjust=\"spacingAndGlyphs\" textLength=\"18\" x=\"451\" y=\"114.0449\">do</text><text fill=\"#000000\" font-family=\"sans-serif\" font-size=\"12\" lengthAdjust=\"spacingAndGlyphs\" textLength=\"16\" x=\"469\" y=\"114.0449\">/ B</text><text fill=\"#000000\" font-family=\"sans-serif\" font-size=\"12\" font-weight=\"bold\" lengthAdjust=\"spacingAndGlyphs\" textLength=\"26\" x=\"451\" y=\"128.0137\">exit</text><text fill=\"#000000\" font-family=\"sans-serif\" font-size=\"12\" lengthAdjust=\"spacingAndGlyphs\" textLength=\"28\" x=\"477\" y=\"128.0137\">/ act</text></a><!--MD5=[b4997ac47864f28c2f74865a473b2911]\n",
       "class E2--><a href=\"psysml:85dbfb10-d456-4c59-a9e0-99da33bb7a4b\" target=\"_top\" title=\"psysml:85dbfb10-d456-4c59-a9e0-99da33bb7a4b\" xlink:actuate=\"onRequest\" xlink:href=\"psysml:85dbfb10-d456-4c59-a9e0-99da33bb7a4b\" xlink:show=\"new\" xlink:title=\"psysml:85dbfb10-d456-4c59-a9e0-99da33bb7a4b\" xlink:type=\"simple\"><rect fill=\"#FFFFFF\" height=\"75.5469\" id=\"E2\" style=\"stroke: #383838; stroke-width: 1.5;\" width=\"95\" x=\"334.5\" y=\"119\"/><text fill=\"#000000\" font-family=\"sans-serif\" font-size=\"12\" font-style=\"italic\" lengthAdjust=\"spacingAndGlyphs\" textLength=\"93\" x=\"335.5\" y=\"135.1387\">«attribute def»</text><text fill=\"#000000\" font-family=\"sans-serif\" font-size=\"12\" lengthAdjust=\"spacingAndGlyphs\" textLength=\"19\" x=\"372.5\" y=\"149.1074\">Sig</text><line style=\"stroke: #383838; stroke-width: 1.5;\" x1=\"335.5\" x2=\"428.5\" y1=\"156.9375\" y2=\"156.9375\"/><text fill=\"#000000\" font-family=\"sans-serif\" font-size=\"11\" lengthAdjust=\"spacingAndGlyphs\" textLength=\"6\" x=\"340.5\" y=\"187.9526\">x</text><line style=\"stroke: #383838; stroke-width: 1.0;\" x1=\"335.5\" x2=\"354.5\" y1=\"171.3398\" y2=\"171.3398\"/><text fill=\"#000000\" font-family=\"sans-serif\" font-size=\"11\" lengthAdjust=\"spacingAndGlyphs\" textLength=\"55\" x=\"354.5\" y=\"174.6479\">attributes</text><line style=\"stroke: #383838; stroke-width: 1.0;\" x1=\"409.5\" x2=\"428.5\" y1=\"171.3398\" y2=\"171.3398\"/></a><!--MD5=[09b614a08d8cba4a07c9adeb5e0fee81]\n",
       "class E3--><a href=\"psysml:06ed69bb-03e4-455b-a820-630d0564221d\" target=\"_top\" title=\"psysml:06ed69bb-03e4-455b-a820-630d0564221d\" xlink:actuate=\"onRequest\" xlink:href=\"psysml:06ed69bb-03e4-455b-a820-630d0564221d\" xlink:show=\"new\" xlink:title=\"psysml:06ed69bb-03e4-455b-a820-630d0564221d\" xlink:type=\"simple\"><rect fill=\"#FFFFFF\" height=\"45.9375\" id=\"E3\" style=\"stroke: #383838; stroke-width: 1.5;\" width=\"95\" x=\"204.5\" y=\"134\"/><text fill=\"#000000\" font-family=\"sans-serif\" font-size=\"12\" font-style=\"italic\" lengthAdjust=\"spacingAndGlyphs\" textLength=\"93\" x=\"205.5\" y=\"150.1387\">«attribute def»</text><text fill=\"#000000\" font-family=\"sans-serif\" font-size=\"12\" lengthAdjust=\"spacingAndGlyphs\" textLength=\"22\" x=\"241\" y=\"164.1074\">Exit</text><line style=\"stroke: #383838; stroke-width: 1.5;\" x1=\"205.5\" x2=\"298.5\" y1=\"171.9375\" y2=\"171.9375\"/></a><!--MD5=[ebbe1d658d1005bcc118a6aa81145e00]\n",
       "class E4--><a href=\"psysml:f6292196-12b9-4bba-a758-98820cb4f3f5\" target=\"_top\" title=\"psysml:f6292196-12b9-4bba-a758-98820cb4f3f5\" xlink:actuate=\"onRequest\" xlink:href=\"psysml:f6292196-12b9-4bba-a758-98820cb4f3f5\" xlink:show=\"new\" xlink:title=\"psysml:f6292196-12b9-4bba-a758-98820cb4f3f5\" xlink:type=\"simple\"><rect fill=\"#FFFFFF\" height=\"45.9375\" id=\"E4\" rx=\"10\" ry=\"10\" style=\"stroke: #383838; stroke-width: 1.5;\" width=\"42\" x=\"127\" y=\"134\"/><text fill=\"#000000\" font-family=\"sans-serif\" font-size=\"12\" font-style=\"italic\" lengthAdjust=\"spacingAndGlyphs\" textLength=\"40\" x=\"128\" y=\"150.1387\">«part»</text><text fill=\"#000000\" font-family=\"sans-serif\" font-size=\"12\" lengthAdjust=\"spacingAndGlyphs\" textLength=\"8\" x=\"144\" y=\"164.1074\">p</text><line style=\"stroke: #383838; stroke-width: 1.5;\" x1=\"128\" x2=\"168\" y1=\"171.9375\" y2=\"171.9375\"/></a><g id=\"E1.E5\"><a href=\"psysml:d7bec2b6-e32c-41d0-a208-370a3f1c18c8\" target=\"_top\" title=\"psysml:d7bec2b6-e32c-41d0-a208-370a3f1c18c8\" xlink:actuate=\"onRequest\" xlink:href=\"psysml:d7bec2b6-e32c-41d0-a208-370a3f1c18c8\" xlink:show=\"new\" xlink:title=\"psysml:d7bec2b6-e32c-41d0-a208-370a3f1c18c8\" xlink:type=\"simple\"><rect fill=\"#FFFFFF\" height=\"42.9375\" id=\"E5\" rx=\"10\" ry=\"10\" style=\"stroke: #383838; stroke-width: 1.5;\" width=\"60\" x=\"32\" y=\"135.5\"/><rect fill=\"#F8F8F8\" height=\"37.9375\" rx=\"10\" ry=\"10\" style=\"stroke: #F8F8F8; stroke-width: 1.5;\" width=\"60\" x=\"32\" y=\"135.5\"/><rect fill=\"#F8F8F8\" height=\"10\" style=\"stroke: #F8F8F8; stroke-width: 1.5;\" width=\"60\" x=\"32\" y=\"163.4375\"/><rect fill=\"none\" height=\"42.9375\" id=\"E5\" rx=\"10\" ry=\"10\" style=\"stroke: #383838; stroke-width: 1.5;\" width=\"60\" x=\"32\" y=\"135.5\"/><text fill=\"#000000\" font-family=\"sans-serif\" font-size=\"12\" font-style=\"italic\" lengthAdjust=\"spacingAndGlyphs\" textLength=\"53\" x=\"35.5\" y=\"151.6387\">«action»</text><text fill=\"#000000\" font-family=\"sans-serif\" font-size=\"12\" lengthAdjust=\"spacingAndGlyphs\" textLength=\"20\" x=\"52\" y=\"165.6074\">act</text></a></g><ellipse cx=\"558\" cy=\"157\" fill=\"#000000\" rx=\"10\" ry=\"10\" style=\"stroke: none; stroke-width: 1.0;\"/><ellipse cx=\"558\" cy=\"508\" fill=\"none\" rx=\"10\" ry=\"10\" style=\"stroke: #000000; stroke-width: 1.0;\"/><ellipse cx=\"558.5\" cy=\"508.5\" fill=\"#000000\" rx=\"6\" ry=\"6\" style=\"stroke: none; stroke-width: 1.0;\"/><g id=\"E1.E6.E7\"><a href=\"psysml:df9bf7b7-ea8a-42e1-9b23-b8091030681c\" target=\"_top\" title=\"psysml:df9bf7b7-ea8a-42e1-9b23-b8091030681c\" xlink:actuate=\"onRequest\" xlink:href=\"psysml:df9bf7b7-ea8a-42e1-9b23-b8091030681c\" xlink:show=\"new\" xlink:title=\"psysml:df9bf7b7-ea8a-42e1-9b23-b8091030681c\" xlink:type=\"simple\"><rect fill=\"#FFFFFF\" height=\"40\" id=\"E7\" rx=\"10\" ry=\"10\" style=\"stroke: #383838; stroke-width: 1.5;\" width=\"50\" x=\"533\" y=\"256\"/><rect fill=\"#F8F8F8\" height=\"23.9688\" rx=\"10\" ry=\"10\" style=\"stroke: #F8F8F8; stroke-width: 1.5;\" width=\"50\" x=\"533\" y=\"256\"/><rect fill=\"#F8F8F8\" height=\"10\" style=\"stroke: #F8F8F8; stroke-width: 1.5;\" width=\"50\" x=\"533\" y=\"269.9688\"/><rect fill=\"none\" height=\"40\" id=\"E7\" rx=\"10\" ry=\"10\" style=\"stroke: #383838; stroke-width: 1.5;\" width=\"50\" x=\"533\" y=\"256\"/><text fill=\"#000000\" font-family=\"sans-serif\" font-size=\"12\" lengthAdjust=\"spacingAndGlyphs\" textLength=\"16\" x=\"550\" y=\"272.1387\">S1</text></a></g><g id=\"E1.E6.E8\"><a href=\"psysml:372708ac-c185-450b-8b20-5b0e6796b1d2\" target=\"_top\" title=\"psysml:372708ac-c185-450b-8b20-5b0e6796b1d2\" xlink:actuate=\"onRequest\" xlink:href=\"psysml:372708ac-c185-450b-8b20-5b0e6796b1d2\" xlink:show=\"new\" xlink:title=\"psysml:372708ac-c185-450b-8b20-5b0e6796b1d2\" xlink:type=\"simple\"><rect fill=\"#FFFFFF\" height=\"47.9375\" id=\"E8\" rx=\"10\" ry=\"10\" style=\"stroke: #383838; stroke-width: 1.5;\" width=\"50\" x=\"533\" y=\"373\"/><rect fill=\"#F8F8F8\" height=\"23.9688\" rx=\"10\" ry=\"10\" style=\"stroke: #F8F8F8; stroke-width: 1.5;\" width=\"50\" x=\"533\" y=\"373\"/><rect fill=\"#F8F8F8\" height=\"10\" style=\"stroke: #F8F8F8; stroke-width: 1.5;\" width=\"50\" x=\"533\" y=\"386.9688\"/><rect fill=\"none\" height=\"47.9375\" id=\"E8\" rx=\"10\" ry=\"10\" style=\"stroke: #383838; stroke-width: 1.5;\" width=\"50\" x=\"533\" y=\"373\"/><text fill=\"#000000\" font-family=\"sans-serif\" font-size=\"12\" lengthAdjust=\"spacingAndGlyphs\" textLength=\"16\" x=\"550\" y=\"389.1387\">S2</text><line style=\"stroke: #383838; stroke-width: 1.0;\" x1=\"533\" x2=\"583\" y1=\"396.9688\" y2=\"396.9688\"/><text fill=\"#000000\" font-family=\"sans-serif\" font-size=\"12\" font-weight=\"bold\" lengthAdjust=\"spacingAndGlyphs\" textLength=\"18\" x=\"538\" y=\"410.1074\">do</text><text fill=\"#000000\" font-family=\"sans-serif\" font-size=\"12\" lengthAdjust=\"spacingAndGlyphs\" textLength=\"4\" x=\"556\" y=\"410.1074\">/</text></a></g><!--MD5=[5a531d3a85f3339e6e197084acb48195]\n",
       "link *start*E6 to E7--><a href=\"psysml:63e0b6b5-21d2-46c8-92d5-87e224212dbf\" target=\"_top\" title=\"psysml:63e0b6b5-21d2-46c8-92d5-87e224212dbf\" xlink:actuate=\"onRequest\" xlink:href=\"psysml:63e0b6b5-21d2-46c8-92d5-87e224212dbf\" xlink:show=\"new\" xlink:title=\"psysml:63e0b6b5-21d2-46c8-92d5-87e224212dbf\" xlink:type=\"simple\"><path d=\"M558,167.18 C558,184.98 558,224.73 558,250.67 \" fill=\"none\" id=\"*start*E6-&gt;E7\" style=\"stroke: #383838; stroke-width: 1.0;\"/><polygon fill=\"#383838\" points=\"558,255.98,562,246.98,558,250.98,554,246.98,558,255.98\" style=\"stroke: #383838; stroke-width: 1.0;\"/></a><!--MD5=[7ec9a8babba89ddcae1318ca9fb3c814]\n",
       "link E8 to *end*E6--><a href=\"psysml:60b88d5b-1ac8-4d6b-b052-bf1a623237b5\" target=\"_top\" title=\"psysml:60b88d5b-1ac8-4d6b-b052-bf1a623237b5\" xlink:actuate=\"onRequest\" xlink:href=\"psysml:60b88d5b-1ac8-4d6b-b052-bf1a623237b5\" xlink:show=\"new\" xlink:title=\"psysml:60b88d5b-1ac8-4d6b-b052-bf1a623237b5\" xlink:type=\"simple\"><path d=\"M558,421.12 C558,442.75 558,474.39 558,492.62 \" fill=\"none\" id=\"E8-&gt;*end*E6\" style=\"stroke: #383838; stroke-width: 1.0;\"/><polygon fill=\"#383838\" points=\"558,497.82,562,488.82,558,492.82,554,488.82,558,497.82\" style=\"stroke: #383838; stroke-width: 1.0;\"/><text fill=\"#000000\" font-family=\"sans-serif\" font-size=\"13\" lengthAdjust=\"spacingAndGlyphs\" textLength=\"23\" x=\"559\" y=\"464.0669\">Exit</text></a><!--MD5=[79bc8f324ef4d02c541433f2e6e513c3]\n",
       "link E7 to E8--><a href=\"psysml:b9f5e72d-c680-433c-ba5c-575fc587f4f3\" target=\"_top\" title=\"psysml:b9f5e72d-c680-433c-ba5c-575fc587f4f3\" xlink:actuate=\"onRequest\" xlink:href=\"psysml:b9f5e72d-c680-433c-ba5c-575fc587f4f3\" xlink:show=\"new\" xlink:title=\"psysml:b9f5e72d-c680-433c-ba5c-575fc587f4f3\" xlink:type=\"simple\"><path d=\"M532.93,288.88 C518.69,297.12 502.12,309.56 494,326 C483.11,348.05 506.72,368.2 528.27,381.16 \" fill=\"none\" id=\"E7-&gt;E8\" style=\"stroke: #383838; stroke-width: 1.0;\"/><polygon fill=\"#383838\" points=\"532.83,383.82,527.0682,375.8324,528.5101,381.3024,523.0401,382.7443,532.83,383.82\" style=\"stroke: #383838; stroke-width: 1.0;\"/><text fill=\"#000000\" font-family=\"sans-serif\" font-size=\"13\" lengthAdjust=\"spacingAndGlyphs\" textLength=\"81\" x=\"495\" y=\"339.0669\">Sig /action D</text></a><!--MD5=[bfa3c8b0d15052fdf50ae9310b491027]\n",
       "link E8 to E7--><a href=\"psysml:8fe1fd83-9e96-4978-be75-1a7ead5c4a85\" target=\"_top\" title=\"psysml:8fe1fd83-9e96-4978-be75-1a7ead5c4a85\" xlink:actuate=\"onRequest\" xlink:href=\"psysml:8fe1fd83-9e96-4978-be75-1a7ead5c4a85\" xlink:show=\"new\" xlink:title=\"psysml:8fe1fd83-9e96-4978-be75-1a7ead5c4a85\" xlink:type=\"simple\"><path d=\"M572.17,372.99 C578.81,359.48 584.56,341.98 581,326 C579.1,317.49 575.56,308.72 571.82,300.99 \" fill=\"none\" id=\"E8-&gt;E7\" style=\"stroke: #383838; stroke-width: 1.0;\"/><polygon fill=\"#383838\" points=\"569.47,296.32,569.9298,306.1581,571.7118,300.7893,577.0806,302.5713,569.47,296.32\" style=\"stroke: #383838; stroke-width: 1.0;\"/><text fill=\"#000000\" font-family=\"sans-serif\" font-size=\"13\" lengthAdjust=\"spacingAndGlyphs\" textLength=\"135\" x=\"583\" y=\"339.0669\">Sig [true]/send s to p</text></a><!--MD5=[286e979229546f4b999254ac42c7ce8b]\n",
       "@startuml\r\n",
       " skinparam monochrome true\r\n",
       "skinparam classbackgroundcolor white\r\n",
       "skinparam shadowing false\r\n",
       "skinparam wrapWidth 300\r\n",
       "hide circle\r\n",
       "\r\n",
       "package \"StateTest\" as E1  [[psysml:7751d53a-3d7b-46fc-b5d8-bf0ae3c7070c ]]  {\r\n",
       "comp def \"Sig\" as E2  <<(T,blue)attribute def>> [[psysml:85dbfb10-d456-4c59-a9e0-99da33bb7a4b ]] {\r\n",
       "- - attributes - -\r\n",
       "x\r\n",
       "}\r\n",
       "comp def \"Exit\" as E3  <<(T,blue)attribute def>> [[psysml:06ed69bb-03e4-455b-a820-630d0564221d ]] {\r\n",
       "}\r\n",
       "comp usage \"p\" as E4  <<(T,blue)part>> [[psysml:f6292196-12b9-4bba-a758-98820cb4f3f5 ]] {\r\n",
       "}\r\n",
       "rec usage \"act\" as E5  <<(T,blue)action>> [[psysml:d7bec2b6-e32c-41d0-a208-370a3f1c18c8 ]] {\r\n",
       "}\r\n",
       "\r\n",
       "rec def \"S\" as E6  <<(T,blue)state def>> [[psysml:6343fae7-e97a-4dac-816a-0d66812becae ]] {\r\n",
       "rec usage \"S1\" as E7 [[psysml:df9bf7b7-ea8a-42e1-9b23-b8091030681c ]] {\r\n",
       "}\r\n",
       "\r\n",
       "rec usage \"S2\" as E8 [[psysml:372708ac-c185-450b-8b20-5b0e6796b1d2 ]] {\r\n",
       "desc \"S2\" as E8  : **do**/ \r\n",
       "}\r\n",
       "\r\n",
       "[*] - -> E7 [[psysml:63e0b6b5-21d2-46c8-92d5-87e224212dbf ]] \r\n",
       "E8  - -> [*] [[psysml:60b88d5b-1ac8-4d6b-b052-bf1a623237b5 ]] : Exit \r\n",
       "desc \"S\" as E6  : **entry**/ A\r\n",
       "desc \"S\" as E6  : **do**/ B\r\n",
       "desc \"S\" as E6  : **exit**/ act \r\n",
       "}\r\n",
       "\r\n",
       "E7  - -> E8 [[psysml:b9f5e72d-c680-433c-ba5c-575fc587f4f3 ]] : Sig /action D\r\n",
       "E8  - -> E7 [[psysml:8fe1fd83-9e96-4978-be75-1a7ead5c4a85 ]] : Sig [true]/send s to p\r\n",
       "}\r\n",
       "@enduml\r\n",
       "\n",
       "PlantUML version 1.2020.13(Sat Jun 13 12:26:38 UTC 2020)\n",
       "(EPL source distribution)\n",
       "Java Runtime: OpenJDK Runtime Environment\n",
       "JVM: OpenJDK 64-Bit Server VM\n",
       "Default Encoding: UTF-8\n",
       "Language: en\n",
       "Country: null\n",
       "--></g></svg>"
      ]
     },
     "execution_count": 8,
     "metadata": {},
     "output_type": "execute_result"
    }
   ],
   "source": [
    "%viz --style=\"COMPTREE\" --view=\"MIXED\" \"StateTest\""
   ]
  },
  {
   "cell_type": "code",
   "execution_count": 9,
   "id": "pharmaceutical-picnic",
   "metadata": {
    "execution": {
     "iopub.execute_input": "2021-03-25T13:48:09.063204Z",
     "iopub.status.busy": "2021-03-25T13:48:09.062398Z",
     "iopub.status.idle": "2021-03-25T13:48:09.251051Z",
     "shell.execute_reply": "2021-03-25T13:48:09.251486Z"
    }
   },
   "outputs": [
    {
     "data": {
      "image/svg+xml": [
       "<?xml version=\"1.0\" encoding=\"UTF-8\" standalone=\"no\"?><svg xmlns=\"http://www.w3.org/2000/svg\" xmlns:xlink=\"http://www.w3.org/1999/xlink\" contentScriptType=\"application/ecmascript\" contentStyleType=\"text/css\" height=\"570px\" preserveAspectRatio=\"none\" style=\"width:819px;height:570px;\" version=\"1.1\" viewBox=\"0 0 819 570\" width=\"819px\" zoomAndPan=\"magnify\"><defs/><g><!--MD5=[fbc87193dbaf4d95561dea2c320d4a47]\n",
       "cluster E1--><a href=\"psysml:7751d53a-3d7b-46fc-b5d8-bf0ae3c7070c\" target=\"_top\" title=\"psysml:7751d53a-3d7b-46fc-b5d8-bf0ae3c7070c\" xlink:actuate=\"onRequest\" xlink:href=\"psysml:7751d53a-3d7b-46fc-b5d8-bf0ae3c7070c\" xlink:show=\"new\" xlink:title=\"psysml:7751d53a-3d7b-46fc-b5d8-bf0ae3c7070c\" xlink:type=\"simple\"><polygon fill=\"#FFFFFF\" points=\"16,6,98,6,105,28.2969,797,28.2969,797,558,16,558,16,6\" style=\"stroke: #000000; stroke-width: 1.5;\"/><line style=\"stroke: #000000; stroke-width: 1.5;\" x1=\"16\" x2=\"105\" y1=\"28.2969\" y2=\"28.2969\"/><text fill=\"#000000\" font-family=\"sans-serif\" font-size=\"14\" font-weight=\"bold\" lengthAdjust=\"spacingAndGlyphs\" textLength=\"76\" x=\"20\" y=\"20.9951\">StateTest</text></a><!--MD5=[14e3b0961a2654348d326746436168a1]\n",
       "cluster E6--><a href=\"psysml:6343fae7-e97a-4dac-816a-0d66812becae\" target=\"_top\" title=\"psysml:6343fae7-e97a-4dac-816a-0d66812becae\" xlink:actuate=\"onRequest\" xlink:href=\"psysml:6343fae7-e97a-4dac-816a-0d66812becae\" xlink:show=\"new\" xlink:title=\"psysml:6343fae7-e97a-4dac-816a-0d66812becae\" xlink:type=\"simple\"><rect fill=\"#FFFFFF\" height=\"485\" id=\"E6\" style=\"stroke: #383838; stroke-width: 1.5;\" width=\"327\" x=\"446\" y=\"49\"/><rect fill=\"#F8F8F8\" height=\"37.9375\" style=\"stroke: #383838; stroke-width: 1.5;\" width=\"327\" x=\"446\" y=\"49\"/><text fill=\"#000000\" font-family=\"sans-serif\" font-size=\"12\" font-style=\"italic\" lengthAdjust=\"spacingAndGlyphs\" textLength=\"71\" x=\"574\" y=\"65.1387\">«state def»</text><text fill=\"#000000\" font-family=\"sans-serif\" font-size=\"12\" lengthAdjust=\"spacingAndGlyphs\" textLength=\"8\" x=\"605.5\" y=\"79.1074\">S</text><line style=\"stroke: #383838; stroke-width: 1.0;\" x1=\"446\" x2=\"773\" y1=\"132.8438\" y2=\"132.8438\"/><text fill=\"#000000\" font-family=\"sans-serif\" font-size=\"12\" font-weight=\"bold\" lengthAdjust=\"spacingAndGlyphs\" textLength=\"38\" x=\"451\" y=\"100.0762\">entry</text><text fill=\"#000000\" font-family=\"sans-serif\" font-size=\"12\" lengthAdjust=\"spacingAndGlyphs\" textLength=\"16\" x=\"489\" y=\"100.0762\">/ A</text><text fill=\"#000000\" font-family=\"sans-serif\" font-size=\"12\" font-weight=\"bold\" lengthAdjust=\"spacingAndGlyphs\" textLength=\"18\" x=\"451\" y=\"114.0449\">do</text><text fill=\"#000000\" font-family=\"sans-serif\" font-size=\"12\" lengthAdjust=\"spacingAndGlyphs\" textLength=\"16\" x=\"469\" y=\"114.0449\">/ B</text><text fill=\"#000000\" font-family=\"sans-serif\" font-size=\"12\" font-weight=\"bold\" lengthAdjust=\"spacingAndGlyphs\" textLength=\"26\" x=\"451\" y=\"128.0137\">exit</text><text fill=\"#000000\" font-family=\"sans-serif\" font-size=\"12\" lengthAdjust=\"spacingAndGlyphs\" textLength=\"28\" x=\"477\" y=\"128.0137\">/ act</text></a><!--MD5=[b4997ac47864f28c2f74865a473b2911]\n",
       "class E2--><a href=\"psysml:85dbfb10-d456-4c59-a9e0-99da33bb7a4b\" target=\"_top\" title=\"psysml:85dbfb10-d456-4c59-a9e0-99da33bb7a4b\" xlink:actuate=\"onRequest\" xlink:href=\"psysml:85dbfb10-d456-4c59-a9e0-99da33bb7a4b\" xlink:show=\"new\" xlink:title=\"psysml:85dbfb10-d456-4c59-a9e0-99da33bb7a4b\" xlink:type=\"simple\"><rect fill=\"#FFFFFF\" height=\"75.5469\" id=\"E2\" style=\"stroke: #383838; stroke-width: 1.5;\" width=\"95\" x=\"334.5\" y=\"119\"/><text fill=\"#000000\" font-family=\"sans-serif\" font-size=\"12\" font-style=\"italic\" lengthAdjust=\"spacingAndGlyphs\" textLength=\"93\" x=\"335.5\" y=\"135.1387\">«attribute def»</text><text fill=\"#000000\" font-family=\"sans-serif\" font-size=\"12\" lengthAdjust=\"spacingAndGlyphs\" textLength=\"19\" x=\"372.5\" y=\"149.1074\">Sig</text><line style=\"stroke: #383838; stroke-width: 1.5;\" x1=\"335.5\" x2=\"428.5\" y1=\"156.9375\" y2=\"156.9375\"/><text fill=\"#000000\" font-family=\"sans-serif\" font-size=\"11\" lengthAdjust=\"spacingAndGlyphs\" textLength=\"6\" x=\"340.5\" y=\"187.9526\">x</text><line style=\"stroke: #383838; stroke-width: 1.0;\" x1=\"335.5\" x2=\"354.5\" y1=\"171.3398\" y2=\"171.3398\"/><text fill=\"#000000\" font-family=\"sans-serif\" font-size=\"11\" lengthAdjust=\"spacingAndGlyphs\" textLength=\"55\" x=\"354.5\" y=\"174.6479\">attributes</text><line style=\"stroke: #383838; stroke-width: 1.0;\" x1=\"409.5\" x2=\"428.5\" y1=\"171.3398\" y2=\"171.3398\"/></a><!--MD5=[09b614a08d8cba4a07c9adeb5e0fee81]\n",
       "class E3--><a href=\"psysml:06ed69bb-03e4-455b-a820-630d0564221d\" target=\"_top\" title=\"psysml:06ed69bb-03e4-455b-a820-630d0564221d\" xlink:actuate=\"onRequest\" xlink:href=\"psysml:06ed69bb-03e4-455b-a820-630d0564221d\" xlink:show=\"new\" xlink:title=\"psysml:06ed69bb-03e4-455b-a820-630d0564221d\" xlink:type=\"simple\"><rect fill=\"#FFFFFF\" height=\"45.9375\" id=\"E3\" style=\"stroke: #383838; stroke-width: 1.5;\" width=\"95\" x=\"204.5\" y=\"134\"/><text fill=\"#000000\" font-family=\"sans-serif\" font-size=\"12\" font-style=\"italic\" lengthAdjust=\"spacingAndGlyphs\" textLength=\"93\" x=\"205.5\" y=\"150.1387\">«attribute def»</text><text fill=\"#000000\" font-family=\"sans-serif\" font-size=\"12\" lengthAdjust=\"spacingAndGlyphs\" textLength=\"22\" x=\"241\" y=\"164.1074\">Exit</text><line style=\"stroke: #383838; stroke-width: 1.5;\" x1=\"205.5\" x2=\"298.5\" y1=\"171.9375\" y2=\"171.9375\"/></a><!--MD5=[ebbe1d658d1005bcc118a6aa81145e00]\n",
       "class E4--><a href=\"psysml:f6292196-12b9-4bba-a758-98820cb4f3f5\" target=\"_top\" title=\"psysml:f6292196-12b9-4bba-a758-98820cb4f3f5\" xlink:actuate=\"onRequest\" xlink:href=\"psysml:f6292196-12b9-4bba-a758-98820cb4f3f5\" xlink:show=\"new\" xlink:title=\"psysml:f6292196-12b9-4bba-a758-98820cb4f3f5\" xlink:type=\"simple\"><rect fill=\"#FFFFFF\" height=\"45.9375\" id=\"E4\" rx=\"10\" ry=\"10\" style=\"stroke: #383838; stroke-width: 1.5;\" width=\"42\" x=\"127\" y=\"134\"/><text fill=\"#000000\" font-family=\"sans-serif\" font-size=\"12\" font-style=\"italic\" lengthAdjust=\"spacingAndGlyphs\" textLength=\"40\" x=\"128\" y=\"150.1387\">«part»</text><text fill=\"#000000\" font-family=\"sans-serif\" font-size=\"12\" lengthAdjust=\"spacingAndGlyphs\" textLength=\"8\" x=\"144\" y=\"164.1074\">p</text><line style=\"stroke: #383838; stroke-width: 1.5;\" x1=\"128\" x2=\"168\" y1=\"171.9375\" y2=\"171.9375\"/></a><g id=\"E1.E5\"><a href=\"psysml:d7bec2b6-e32c-41d0-a208-370a3f1c18c8\" target=\"_top\" title=\"psysml:d7bec2b6-e32c-41d0-a208-370a3f1c18c8\" xlink:actuate=\"onRequest\" xlink:href=\"psysml:d7bec2b6-e32c-41d0-a208-370a3f1c18c8\" xlink:show=\"new\" xlink:title=\"psysml:d7bec2b6-e32c-41d0-a208-370a3f1c18c8\" xlink:type=\"simple\"><rect fill=\"#FFFFFF\" height=\"42.9375\" id=\"E5\" rx=\"10\" ry=\"10\" style=\"stroke: #383838; stroke-width: 1.5;\" width=\"60\" x=\"32\" y=\"135.5\"/><rect fill=\"#F8F8F8\" height=\"37.9375\" rx=\"10\" ry=\"10\" style=\"stroke: #F8F8F8; stroke-width: 1.5;\" width=\"60\" x=\"32\" y=\"135.5\"/><rect fill=\"#F8F8F8\" height=\"10\" style=\"stroke: #F8F8F8; stroke-width: 1.5;\" width=\"60\" x=\"32\" y=\"163.4375\"/><rect fill=\"none\" height=\"42.9375\" id=\"E5\" rx=\"10\" ry=\"10\" style=\"stroke: #383838; stroke-width: 1.5;\" width=\"60\" x=\"32\" y=\"135.5\"/><text fill=\"#000000\" font-family=\"sans-serif\" font-size=\"12\" font-style=\"italic\" lengthAdjust=\"spacingAndGlyphs\" textLength=\"53\" x=\"35.5\" y=\"151.6387\">«action»</text><text fill=\"#000000\" font-family=\"sans-serif\" font-size=\"12\" lengthAdjust=\"spacingAndGlyphs\" textLength=\"20\" x=\"52\" y=\"165.6074\">act</text></a></g><ellipse cx=\"558\" cy=\"157\" fill=\"#000000\" rx=\"10\" ry=\"10\" style=\"stroke: none; stroke-width: 1.0;\"/><ellipse cx=\"558\" cy=\"508\" fill=\"none\" rx=\"10\" ry=\"10\" style=\"stroke: #000000; stroke-width: 1.0;\"/><ellipse cx=\"558.5\" cy=\"508.5\" fill=\"#000000\" rx=\"6\" ry=\"6\" style=\"stroke: none; stroke-width: 1.0;\"/><g id=\"E1.E6.E7\"><a href=\"psysml:df9bf7b7-ea8a-42e1-9b23-b8091030681c\" target=\"_top\" title=\"psysml:df9bf7b7-ea8a-42e1-9b23-b8091030681c\" xlink:actuate=\"onRequest\" xlink:href=\"psysml:df9bf7b7-ea8a-42e1-9b23-b8091030681c\" xlink:show=\"new\" xlink:title=\"psysml:df9bf7b7-ea8a-42e1-9b23-b8091030681c\" xlink:type=\"simple\"><rect fill=\"#FFFFFF\" height=\"40\" id=\"E7\" rx=\"10\" ry=\"10\" style=\"stroke: #383838; stroke-width: 1.5;\" width=\"50\" x=\"533\" y=\"256\"/><rect fill=\"#F8F8F8\" height=\"23.9688\" rx=\"10\" ry=\"10\" style=\"stroke: #F8F8F8; stroke-width: 1.5;\" width=\"50\" x=\"533\" y=\"256\"/><rect fill=\"#F8F8F8\" height=\"10\" style=\"stroke: #F8F8F8; stroke-width: 1.5;\" width=\"50\" x=\"533\" y=\"269.9688\"/><rect fill=\"none\" height=\"40\" id=\"E7\" rx=\"10\" ry=\"10\" style=\"stroke: #383838; stroke-width: 1.5;\" width=\"50\" x=\"533\" y=\"256\"/><text fill=\"#000000\" font-family=\"sans-serif\" font-size=\"12\" lengthAdjust=\"spacingAndGlyphs\" textLength=\"16\" x=\"550\" y=\"272.1387\">S1</text></a></g><g id=\"E1.E6.E8\"><a href=\"psysml:372708ac-c185-450b-8b20-5b0e6796b1d2\" target=\"_top\" title=\"psysml:372708ac-c185-450b-8b20-5b0e6796b1d2\" xlink:actuate=\"onRequest\" xlink:href=\"psysml:372708ac-c185-450b-8b20-5b0e6796b1d2\" xlink:show=\"new\" xlink:title=\"psysml:372708ac-c185-450b-8b20-5b0e6796b1d2\" xlink:type=\"simple\"><rect fill=\"#FFFFFF\" height=\"47.9375\" id=\"E8\" rx=\"10\" ry=\"10\" style=\"stroke: #383838; stroke-width: 1.5;\" width=\"50\" x=\"533\" y=\"373\"/><rect fill=\"#F8F8F8\" height=\"23.9688\" rx=\"10\" ry=\"10\" style=\"stroke: #F8F8F8; stroke-width: 1.5;\" width=\"50\" x=\"533\" y=\"373\"/><rect fill=\"#F8F8F8\" height=\"10\" style=\"stroke: #F8F8F8; stroke-width: 1.5;\" width=\"50\" x=\"533\" y=\"386.9688\"/><rect fill=\"none\" height=\"47.9375\" id=\"E8\" rx=\"10\" ry=\"10\" style=\"stroke: #383838; stroke-width: 1.5;\" width=\"50\" x=\"533\" y=\"373\"/><text fill=\"#000000\" font-family=\"sans-serif\" font-size=\"12\" lengthAdjust=\"spacingAndGlyphs\" textLength=\"16\" x=\"550\" y=\"389.1387\">S2</text><line style=\"stroke: #383838; stroke-width: 1.0;\" x1=\"533\" x2=\"583\" y1=\"396.9688\" y2=\"396.9688\"/><text fill=\"#000000\" font-family=\"sans-serif\" font-size=\"12\" font-weight=\"bold\" lengthAdjust=\"spacingAndGlyphs\" textLength=\"18\" x=\"538\" y=\"410.1074\">do</text><text fill=\"#000000\" font-family=\"sans-serif\" font-size=\"12\" lengthAdjust=\"spacingAndGlyphs\" textLength=\"4\" x=\"556\" y=\"410.1074\">/</text></a></g><!--MD5=[5a531d3a85f3339e6e197084acb48195]\n",
       "link *start*E6 to E7--><a href=\"psysml:63e0b6b5-21d2-46c8-92d5-87e224212dbf\" target=\"_top\" title=\"psysml:63e0b6b5-21d2-46c8-92d5-87e224212dbf\" xlink:actuate=\"onRequest\" xlink:href=\"psysml:63e0b6b5-21d2-46c8-92d5-87e224212dbf\" xlink:show=\"new\" xlink:title=\"psysml:63e0b6b5-21d2-46c8-92d5-87e224212dbf\" xlink:type=\"simple\"><path d=\"M558,167.18 C558,184.98 558,224.73 558,250.67 \" fill=\"none\" id=\"*start*E6-&gt;E7\" style=\"stroke: #383838; stroke-width: 1.0;\"/><polygon fill=\"#383838\" points=\"558,255.98,562,246.98,558,250.98,554,246.98,558,255.98\" style=\"stroke: #383838; stroke-width: 1.0;\"/></a><!--MD5=[7ec9a8babba89ddcae1318ca9fb3c814]\n",
       "link E8 to *end*E6--><a href=\"psysml:60b88d5b-1ac8-4d6b-b052-bf1a623237b5\" target=\"_top\" title=\"psysml:60b88d5b-1ac8-4d6b-b052-bf1a623237b5\" xlink:actuate=\"onRequest\" xlink:href=\"psysml:60b88d5b-1ac8-4d6b-b052-bf1a623237b5\" xlink:show=\"new\" xlink:title=\"psysml:60b88d5b-1ac8-4d6b-b052-bf1a623237b5\" xlink:type=\"simple\"><path d=\"M558,421.12 C558,442.75 558,474.39 558,492.62 \" fill=\"none\" id=\"E8-&gt;*end*E6\" style=\"stroke: #383838; stroke-width: 1.0;\"/><polygon fill=\"#383838\" points=\"558,497.82,562,488.82,558,492.82,554,488.82,558,497.82\" style=\"stroke: #383838; stroke-width: 1.0;\"/><text fill=\"#000000\" font-family=\"sans-serif\" font-size=\"13\" lengthAdjust=\"spacingAndGlyphs\" textLength=\"23\" x=\"559\" y=\"464.0669\">Exit</text></a><!--MD5=[79bc8f324ef4d02c541433f2e6e513c3]\n",
       "link E7 to E8--><a href=\"psysml:b9f5e72d-c680-433c-ba5c-575fc587f4f3\" target=\"_top\" title=\"psysml:b9f5e72d-c680-433c-ba5c-575fc587f4f3\" xlink:actuate=\"onRequest\" xlink:href=\"psysml:b9f5e72d-c680-433c-ba5c-575fc587f4f3\" xlink:show=\"new\" xlink:title=\"psysml:b9f5e72d-c680-433c-ba5c-575fc587f4f3\" xlink:type=\"simple\"><path d=\"M533.07,296.08 C515.1,309.84 494,326 494,326 C494,326 494,343 494,343 C494,343 511.69,357.65 528.47,371.55 \" fill=\"none\" id=\"E7-&gt;E8\" style=\"stroke: #383838; stroke-width: 1.0;\"/><polygon fill=\"#383838\" points=\"532.71,375.05,528.3341,366.2267,528.8607,371.8589,523.2284,372.3855,532.71,375.05\" style=\"stroke: #383838; stroke-width: 1.0;\"/><text fill=\"#000000\" font-family=\"sans-serif\" font-size=\"13\" lengthAdjust=\"spacingAndGlyphs\" textLength=\"81\" x=\"495\" y=\"339.0669\">Sig /action D</text></a><!--MD5=[bfa3c8b0d15052fdf50ae9310b491027]\n",
       "link E8 to E7--><a href=\"psysml:8fe1fd83-9e96-4978-be75-1a7ead5c4a85\" target=\"_top\" title=\"psysml:8fe1fd83-9e96-4978-be75-1a7ead5c4a85\" xlink:actuate=\"onRequest\" xlink:href=\"psysml:8fe1fd83-9e96-4978-be75-1a7ead5c4a85\" xlink:show=\"new\" xlink:title=\"psysml:8fe1fd83-9e96-4978-be75-1a7ead5c4a85\" xlink:type=\"simple\"><path d=\"M568.02,372.91 C574.22,358.63 581,343 581,343 C581,343 581,326 581,326 C581,326 574.98,313.18 569.11,300.66 \" fill=\"none\" id=\"E8-&gt;E7\" style=\"stroke: #383838; stroke-width: 1.0;\"/><polygon fill=\"#383838\" points=\"566.96,296.08,567.1429,305.9272,569.0752,300.6106,574.3918,302.5428,566.96,296.08\" style=\"stroke: #383838; stroke-width: 1.0;\"/><text fill=\"#000000\" font-family=\"sans-serif\" font-size=\"13\" lengthAdjust=\"spacingAndGlyphs\" textLength=\"135\" x=\"582\" y=\"339.0669\">Sig [true]/send s to p</text></a><!--MD5=[2a21a5c202a9a62979a4642bc524f884]\n",
       "@startuml\r\n",
       "skinparam linetype polyline\r\n",
       "skinparam monochrome true\r\n",
       "skinparam classbackgroundcolor white\r\n",
       "skinparam shadowing false\r\n",
       "skinparam wrapWidth 300\r\n",
       "hide circle\r\n",
       "\r\n",
       "package \"StateTest\" as E1  [[psysml:7751d53a-3d7b-46fc-b5d8-bf0ae3c7070c ]]  {\r\n",
       "comp def \"Sig\" as E2  <<(T,blue)attribute def>> [[psysml:85dbfb10-d456-4c59-a9e0-99da33bb7a4b ]] {\r\n",
       "- - attributes - -\r\n",
       "x\r\n",
       "}\r\n",
       "comp def \"Exit\" as E3  <<(T,blue)attribute def>> [[psysml:06ed69bb-03e4-455b-a820-630d0564221d ]] {\r\n",
       "}\r\n",
       "comp usage \"p\" as E4  <<(T,blue)part>> [[psysml:f6292196-12b9-4bba-a758-98820cb4f3f5 ]] {\r\n",
       "}\r\n",
       "rec usage \"act\" as E5  <<(T,blue)action>> [[psysml:d7bec2b6-e32c-41d0-a208-370a3f1c18c8 ]] {\r\n",
       "}\r\n",
       "\r\n",
       "rec def \"S\" as E6  <<(T,blue)state def>> [[psysml:6343fae7-e97a-4dac-816a-0d66812becae ]] {\r\n",
       "rec usage \"S1\" as E7 [[psysml:df9bf7b7-ea8a-42e1-9b23-b8091030681c ]] {\r\n",
       "}\r\n",
       "\r\n",
       "rec usage \"S2\" as E8 [[psysml:372708ac-c185-450b-8b20-5b0e6796b1d2 ]] {\r\n",
       "desc \"S2\" as E8  : **do**/ \r\n",
       "}\r\n",
       "\r\n",
       "[*] - -> E7 [[psysml:63e0b6b5-21d2-46c8-92d5-87e224212dbf ]] \r\n",
       "E8  - -> [*] [[psysml:60b88d5b-1ac8-4d6b-b052-bf1a623237b5 ]] : Exit \r\n",
       "desc \"S\" as E6  : **entry**/ A\r\n",
       "desc \"S\" as E6  : **do**/ B\r\n",
       "desc \"S\" as E6  : **exit**/ act \r\n",
       "}\r\n",
       "\r\n",
       "E7  - -> E8 [[psysml:b9f5e72d-c680-433c-ba5c-575fc587f4f3 ]] : Sig /action D\r\n",
       "E8  - -> E7 [[psysml:8fe1fd83-9e96-4978-be75-1a7ead5c4a85 ]] : Sig [true]/send s to p\r\n",
       "}\r\n",
       "@enduml\r\n",
       "\n",
       "PlantUML version 1.2020.13(Sat Jun 13 12:26:38 UTC 2020)\n",
       "(EPL source distribution)\n",
       "Java Runtime: OpenJDK Runtime Environment\n",
       "JVM: OpenJDK 64-Bit Server VM\n",
       "Default Encoding: UTF-8\n",
       "Language: en\n",
       "Country: null\n",
       "--></g></svg>"
      ]
     },
     "execution_count": 9,
     "metadata": {},
     "output_type": "execute_result"
    }
   ],
   "source": [
    "%viz --style=\"POLYLINE\" --view=\"Default\" \"StateTest\""
   ]
  },
  {
   "cell_type": "code",
   "execution_count": 10,
   "id": "unknown-detective",
   "metadata": {
    "execution": {
     "iopub.execute_input": "2021-03-25T13:48:09.302885Z",
     "iopub.status.busy": "2021-03-25T13:48:09.302323Z",
     "iopub.status.idle": "2021-03-25T13:48:09.752525Z",
     "shell.execute_reply": "2021-03-25T13:48:09.752985Z"
    }
   },
   "outputs": [
    {
     "data": {
      "image/svg+xml": [
       "<?xml version=\"1.0\" encoding=\"UTF-8\" standalone=\"no\"?><svg xmlns=\"http://www.w3.org/2000/svg\" xmlns:xlink=\"http://www.w3.org/1999/xlink\" contentScriptType=\"application/ecmascript\" contentStyleType=\"text/css\" height=\"471px\" preserveAspectRatio=\"none\" style=\"width:594px;height:471px;\" version=\"1.1\" viewBox=\"0 0 594 471\" width=\"594px\" zoomAndPan=\"magnify\"><defs/><g><!--MD5=[fbc87193dbaf4d95561dea2c320d4a47]\n",
       "cluster E1--><a href=\"psysml:7751d53a-3d7b-46fc-b5d8-bf0ae3c7070c\" target=\"_top\" title=\"psysml:7751d53a-3d7b-46fc-b5d8-bf0ae3c7070c\" xlink:actuate=\"onRequest\" xlink:href=\"psysml:7751d53a-3d7b-46fc-b5d8-bf0ae3c7070c\" xlink:show=\"new\" xlink:title=\"psysml:7751d53a-3d7b-46fc-b5d8-bf0ae3c7070c\" xlink:type=\"simple\"><polygon fill=\"#FFFFFF\" points=\"16,6,98,6,105,28.2969,572,28.2969,572,459,16,459,16,6\" style=\"stroke: #000000; stroke-width: 1.5;\"/><line style=\"stroke: #000000; stroke-width: 1.5;\" x1=\"16\" x2=\"105\" y1=\"28.2969\" y2=\"28.2969\"/><text fill=\"#000000\" font-family=\"sans-serif\" font-size=\"14\" font-weight=\"bold\" lengthAdjust=\"spacingAndGlyphs\" textLength=\"76\" x=\"20\" y=\"20.9951\">StateTest</text></a><!--MD5=[b4997ac47864f28c2f74865a473b2911]\n",
       "class E2--><a href=\"psysml:85dbfb10-d456-4c59-a9e0-99da33bb7a4b\" target=\"_top\" title=\"psysml:85dbfb10-d456-4c59-a9e0-99da33bb7a4b\" xlink:actuate=\"onRequest\" xlink:href=\"psysml:85dbfb10-d456-4c59-a9e0-99da33bb7a4b\" xlink:show=\"new\" xlink:title=\"psysml:85dbfb10-d456-4c59-a9e0-99da33bb7a4b\" xlink:type=\"simple\"><rect fill=\"#FFFFFF\" height=\"75.5469\" id=\"E2\" style=\"stroke: #383838; stroke-width: 1.5;\" width=\"95\" x=\"460.5\" y=\"83\"/><text fill=\"#000000\" font-family=\"sans-serif\" font-size=\"12\" font-style=\"italic\" lengthAdjust=\"spacingAndGlyphs\" textLength=\"93\" x=\"461.5\" y=\"99.1387\">«attribute def»</text><text fill=\"#000000\" font-family=\"sans-serif\" font-size=\"12\" lengthAdjust=\"spacingAndGlyphs\" textLength=\"19\" x=\"498.5\" y=\"113.1074\">Sig</text><line style=\"stroke: #383838; stroke-width: 1.5;\" x1=\"461.5\" x2=\"554.5\" y1=\"120.9375\" y2=\"120.9375\"/><text fill=\"#000000\" font-family=\"sans-serif\" font-size=\"11\" lengthAdjust=\"spacingAndGlyphs\" textLength=\"6\" x=\"466.5\" y=\"151.9526\">x</text><line style=\"stroke: #383838; stroke-width: 1.0;\" x1=\"461.5\" x2=\"480.5\" y1=\"135.3398\" y2=\"135.3398\"/><text fill=\"#000000\" font-family=\"sans-serif\" font-size=\"11\" lengthAdjust=\"spacingAndGlyphs\" textLength=\"55\" x=\"480.5\" y=\"138.6479\">attributes</text><line style=\"stroke: #383838; stroke-width: 1.0;\" x1=\"535.5\" x2=\"554.5\" y1=\"135.3398\" y2=\"135.3398\"/></a><!--MD5=[09b614a08d8cba4a07c9adeb5e0fee81]\n",
       "class E3--><a href=\"psysml:06ed69bb-03e4-455b-a820-630d0564221d\" target=\"_top\" title=\"psysml:06ed69bb-03e4-455b-a820-630d0564221d\" xlink:actuate=\"onRequest\" xlink:href=\"psysml:06ed69bb-03e4-455b-a820-630d0564221d\" xlink:show=\"new\" xlink:title=\"psysml:06ed69bb-03e4-455b-a820-630d0564221d\" xlink:type=\"simple\"><rect fill=\"#FFFFFF\" height=\"45.9375\" id=\"E3\" style=\"stroke: #383838; stroke-width: 1.5;\" width=\"95\" x=\"330.5\" y=\"98\"/><text fill=\"#000000\" font-family=\"sans-serif\" font-size=\"12\" font-style=\"italic\" lengthAdjust=\"spacingAndGlyphs\" textLength=\"93\" x=\"331.5\" y=\"114.1387\">«attribute def»</text><text fill=\"#000000\" font-family=\"sans-serif\" font-size=\"12\" lengthAdjust=\"spacingAndGlyphs\" textLength=\"22\" x=\"367\" y=\"128.1074\">Exit</text><line style=\"stroke: #383838; stroke-width: 1.5;\" x1=\"331.5\" x2=\"424.5\" y1=\"135.9375\" y2=\"135.9375\"/></a><!--MD5=[ebbe1d658d1005bcc118a6aa81145e00]\n",
       "class E4--><a href=\"psysml:f6292196-12b9-4bba-a758-98820cb4f3f5\" target=\"_top\" title=\"psysml:f6292196-12b9-4bba-a758-98820cb4f3f5\" xlink:actuate=\"onRequest\" xlink:href=\"psysml:f6292196-12b9-4bba-a758-98820cb4f3f5\" xlink:show=\"new\" xlink:title=\"psysml:f6292196-12b9-4bba-a758-98820cb4f3f5\" xlink:type=\"simple\"><rect fill=\"#FFFFFF\" height=\"45.9375\" id=\"E4\" rx=\"10\" ry=\"10\" style=\"stroke: #383838; stroke-width: 1.5;\" width=\"42\" x=\"253\" y=\"98\"/><text fill=\"#000000\" font-family=\"sans-serif\" font-size=\"12\" font-style=\"italic\" lengthAdjust=\"spacingAndGlyphs\" textLength=\"40\" x=\"254\" y=\"114.1387\">«part»</text><text fill=\"#000000\" font-family=\"sans-serif\" font-size=\"12\" lengthAdjust=\"spacingAndGlyphs\" textLength=\"8\" x=\"270\" y=\"128.1074\">p</text><line style=\"stroke: #383838; stroke-width: 1.5;\" x1=\"254\" x2=\"294\" y1=\"135.9375\" y2=\"135.9375\"/></a><!--MD5=[270fce915f116d4de14055a7c1d9a0f3]\n",
       "class E5--><a href=\"psysml:d7bec2b6-e32c-41d0-a208-370a3f1c18c8\" target=\"_top\" title=\"psysml:d7bec2b6-e32c-41d0-a208-370a3f1c18c8\" xlink:actuate=\"onRequest\" xlink:href=\"psysml:d7bec2b6-e32c-41d0-a208-370a3f1c18c8\" xlink:show=\"new\" xlink:title=\"psysml:d7bec2b6-e32c-41d0-a208-370a3f1c18c8\" xlink:type=\"simple\"><rect fill=\"#FFFFFF\" height=\"45.9375\" id=\"E5\" rx=\"10\" ry=\"10\" style=\"stroke: #383838; stroke-width: 1.5;\" width=\"55\" x=\"162.5\" y=\"98\"/><text fill=\"#000000\" font-family=\"sans-serif\" font-size=\"12\" font-style=\"italic\" lengthAdjust=\"spacingAndGlyphs\" textLength=\"53\" x=\"163.5\" y=\"114.1387\">«action»</text><text fill=\"#000000\" font-family=\"sans-serif\" font-size=\"12\" lengthAdjust=\"spacingAndGlyphs\" textLength=\"20\" x=\"180\" y=\"128.1074\">act</text><line style=\"stroke: #383838; stroke-width: 1.5;\" x1=\"163.5\" x2=\"216.5\" y1=\"135.9375\" y2=\"135.9375\"/></a><!--MD5=[60a26617385b1d2d0262a64233df1f8d]\n",
       "class E6--><a href=\"psysml:6343fae7-e97a-4dac-816a-0d66812becae\" target=\"_top\" title=\"psysml:6343fae7-e97a-4dac-816a-0d66812becae\" xlink:actuate=\"onRequest\" xlink:href=\"psysml:6343fae7-e97a-4dac-816a-0d66812becae\" xlink:show=\"new\" xlink:title=\"psysml:6343fae7-e97a-4dac-816a-0d66812becae\" xlink:type=\"simple\"><rect fill=\"#FFFFFF\" height=\"160.375\" id=\"E6\" style=\"stroke: #383838; stroke-width: 1.5;\" width=\"95\" x=\"32.5\" y=\"41\"/><text fill=\"#000000\" font-family=\"sans-serif\" font-size=\"12\" font-style=\"italic\" lengthAdjust=\"spacingAndGlyphs\" textLength=\"71\" x=\"44.5\" y=\"57.1387\">«state def»</text><text fill=\"#000000\" font-family=\"sans-serif\" font-size=\"12\" lengthAdjust=\"spacingAndGlyphs\" textLength=\"8\" x=\"76\" y=\"71.1074\">S</text><line style=\"stroke: #383838; stroke-width: 1.5;\" x1=\"33.5\" x2=\"126.5\" y1=\"78.9375\" y2=\"78.9375\"/><text fill=\"#000000\" font-family=\"sans-serif\" font-size=\"11\" lengthAdjust=\"spacingAndGlyphs\" textLength=\"17\" x=\"38.5\" y=\"109.9526\">act</text><text fill=\"#000000\" font-family=\"sans-serif\" font-size=\"11\" lengthAdjust=\"spacingAndGlyphs\" textLength=\"7\" x=\"38.5\" y=\"122.7573\">A</text><text fill=\"#000000\" font-family=\"sans-serif\" font-size=\"11\" lengthAdjust=\"spacingAndGlyphs\" textLength=\"8\" x=\"38.5\" y=\"135.562\">B</text><line style=\"stroke: #383838; stroke-width: 1.0;\" x1=\"33.5\" x2=\"36.5\" y1=\"93.3398\" y2=\"93.3398\"/><text fill=\"#000000\" font-family=\"sans-serif\" font-size=\"11\" lengthAdjust=\"spacingAndGlyphs\" textLength=\"87\" x=\"36.5\" y=\"96.6479\">performActions</text><line style=\"stroke: #383838; stroke-width: 1.0;\" x1=\"123.5\" x2=\"126.5\" y1=\"93.3398\" y2=\"93.3398\"/><text fill=\"#000000\" font-family=\"sans-serif\" font-size=\"11\" lengthAdjust=\"spacingAndGlyphs\" textLength=\"15\" x=\"38.5\" y=\"165.1714\">S1</text><line style=\"stroke: #383838; stroke-width: 1.0;\" x1=\"33.5\" x2=\"62\" y1=\"148.5586\" y2=\"148.5586\"/><text fill=\"#000000\" font-family=\"sans-serif\" font-size=\"11\" lengthAdjust=\"spacingAndGlyphs\" textLength=\"36\" x=\"62\" y=\"151.8667\">states</text><line style=\"stroke: #383838; stroke-width: 1.0;\" x1=\"98\" x2=\"126.5\" y1=\"148.5586\" y2=\"148.5586\"/><text fill=\"#000000\" font-family=\"sans-serif\" font-size=\"11\" lengthAdjust=\"spacingAndGlyphs\" textLength=\"7\" x=\"38.5\" y=\"194.7808\">T</text><line style=\"stroke: #383838; stroke-width: 1.0;\" x1=\"33.5\" x2=\"49.5\" y1=\"178.168\" y2=\"178.168\"/><text fill=\"#000000\" font-family=\"sans-serif\" font-size=\"11\" lengthAdjust=\"spacingAndGlyphs\" textLength=\"61\" x=\"49.5\" y=\"181.4761\">transitions</text><line style=\"stroke: #383838; stroke-width: 1.0;\" x1=\"110.5\" x2=\"126.5\" y1=\"178.168\" y2=\"178.168\"/></a><!--MD5=[1dd1bfd58a279cf63c5f349dbc8fc6a1]\n",
       "class E11--><a href=\"psysml:372708ac-c185-450b-8b20-5b0e6796b1d2\" target=\"_top\" title=\"psysml:372708ac-c185-450b-8b20-5b0e6796b1d2\" xlink:actuate=\"onRequest\" xlink:href=\"psysml:372708ac-c185-450b-8b20-5b0e6796b1d2\" xlink:show=\"new\" xlink:title=\"psysml:372708ac-c185-450b-8b20-5b0e6796b1d2\" xlink:type=\"simple\"><rect fill=\"#FFFFFF\" height=\"45.9375\" id=\"E11\" rx=\"10\" ry=\"10\" style=\"stroke: #383838; stroke-width: 1.5;\" width=\"49\" x=\"55.5\" y=\"261\"/><text fill=\"#000000\" font-family=\"sans-serif\" font-size=\"12\" font-style=\"italic\" lengthAdjust=\"spacingAndGlyphs\" textLength=\"47\" x=\"56.5\" y=\"277.1387\">«state»</text><text fill=\"#000000\" font-family=\"sans-serif\" font-size=\"12\" lengthAdjust=\"spacingAndGlyphs\" textLength=\"16\" x=\"72\" y=\"291.1074\">S2</text><line style=\"stroke: #383838; stroke-width: 1.5;\" x1=\"56.5\" x2=\"103.5\" y1=\"298.9375\" y2=\"298.9375\"/></a><!--MD5=[49a0ec8f00dab7302a31f22d0f0fe584]\n",
       "class E12--><a href=\"psysml:db8ff6bb-65b2-44b6-939f-52bfaf067d5c\" target=\"_top\" title=\"psysml:db8ff6bb-65b2-44b6-939f-52bfaf067d5c\" xlink:actuate=\"onRequest\" xlink:href=\"psysml:db8ff6bb-65b2-44b6-939f-52bfaf067d5c\" xlink:show=\"new\" xlink:title=\"psysml:db8ff6bb-65b2-44b6-939f-52bfaf067d5c\" xlink:type=\"simple\"><rect fill=\"#FFFFFF\" height=\"75.5469\" id=\"E12\" rx=\"10\" ry=\"10\" style=\"stroke: #383838; stroke-width: 1.5;\" width=\"90\" x=\"35\" y=\"367\"/><text fill=\"#000000\" font-family=\"sans-serif\" font-size=\"12\" font-style=\"italic\" lengthAdjust=\"spacingAndGlyphs\" textLength=\"88\" x=\"36\" y=\"383.1387\">«send action»</text><text fill=\"#000000\" font-family=\"sans-serif\" font-size=\"12\" lengthAdjust=\"spacingAndGlyphs\" textLength=\"55\" x=\"52.5\" y=\"397.1074\">doAction</text><line style=\"stroke: #383838; stroke-width: 1.5;\" x1=\"36\" x2=\"124\" y1=\"404.9375\" y2=\"404.9375\"/><text fill=\"#000000\" font-family=\"sans-serif\" font-size=\"11\" lengthAdjust=\"spacingAndGlyphs\" textLength=\"25\" x=\"41\" y=\"435.9526\">item</text><line style=\"stroke: #383838; stroke-width: 1.0;\" x1=\"36\" x2=\"42.5\" y1=\"419.3398\" y2=\"419.3398\"/><text fill=\"#000000\" font-family=\"sans-serif\" font-size=\"11\" lengthAdjust=\"spacingAndGlyphs\" textLength=\"75\" x=\"42.5\" y=\"422.6479\">itemFeatures</text><line style=\"stroke: #383838; stroke-width: 1.0;\" x1=\"117.5\" x2=\"124\" y1=\"419.3398\" y2=\"419.3398\"/></a><!--MD5=[1f5f03483f7de0d5b3680a7f6650997f]\n",
       "reverse link E6 to E11--><a href=\"psysml:372708ac-c185-450b-8b20-5b0e6796b1d2\" target=\"_top\" title=\"psysml:372708ac-c185-450b-8b20-5b0e6796b1d2\" xlink:actuate=\"onRequest\" xlink:href=\"psysml:372708ac-c185-450b-8b20-5b0e6796b1d2\" xlink:show=\"new\" xlink:title=\"psysml:372708ac-c185-450b-8b20-5b0e6796b1d2\" xlink:type=\"simple\"><path d=\"M80,214.17 C80,231.58 80,248.25 80,260.82 \" fill=\"none\" id=\"E6&lt;-E11\" style=\"stroke: #383838; stroke-width: 1.0;\"/><polygon fill=\"#383838\" points=\"80,201.09,76.0066,207.0944,80.0132,213.09,84.0066,207.0856,80,201.09\" style=\"stroke: #383838; stroke-width: 1.0;\"/></a><!--MD5=[94adabc162ce7e41b39f13be14fbaeb3]\n",
       "reverse link E11 to E12--><a href=\"psysml:db8ff6bb-65b2-44b6-939f-52bfaf067d5c\" target=\"_top\" title=\"psysml:db8ff6bb-65b2-44b6-939f-52bfaf067d5c\" xlink:actuate=\"onRequest\" xlink:href=\"psysml:db8ff6bb-65b2-44b6-939f-52bfaf067d5c\" xlink:show=\"new\" xlink:title=\"psysml:db8ff6bb-65b2-44b6-939f-52bfaf067d5c\" xlink:type=\"simple\"><path d=\"M80,320.23 C80,334.82 80,351.76 80,366.58 \" fill=\"none\" id=\"E11&lt;-E12\" style=\"stroke: #383838; stroke-width: 1.0;\"/><polygon fill=\"#FFFFFF\" points=\"80,307.1,76,313.1,80,319.1,84,313.1,80,307.1\" style=\"stroke: #383838; stroke-width: 1.0;\"/></a><!--MD5=[ecf0a5b1bda4f857e0bece80b6bbcebe]\n",
       "@startuml\r\n",
       "skinparam linetype polyline\r\n",
       "skinparam monochrome true\r\n",
       "skinparam classbackgroundcolor white\r\n",
       "skinparam shadowing false\r\n",
       "skinparam wrapWidth 300\r\n",
       "hide circle\r\n",
       "\r\n",
       "package \"StateTest\" as E1  [[psysml:7751d53a-3d7b-46fc-b5d8-bf0ae3c7070c ]]  {\r\n",
       "comp def \"Sig\" as E2  <<(T,blue)attribute def>> [[psysml:85dbfb10-d456-4c59-a9e0-99da33bb7a4b ]] {\r\n",
       "- - attributes - -\r\n",
       "x\r\n",
       "}\r\n",
       "comp def \"Exit\" as E3  <<(T,blue)attribute def>> [[psysml:06ed69bb-03e4-455b-a820-630d0564221d ]] {\r\n",
       "}\r\n",
       "comp usage \"p\" as E4  <<(T,blue)part>> [[psysml:f6292196-12b9-4bba-a758-98820cb4f3f5 ]] {\r\n",
       "}\r\n",
       "comp usage \"act\" as E5  <<(T,blue)action>> [[psysml:d7bec2b6-e32c-41d0-a208-370a3f1c18c8 ]] {\r\n",
       "}\r\n",
       "comp def \"S\" as E6  <<(T,blue)state def>> [[psysml:6343fae7-e97a-4dac-816a-0d66812becae ]] {\r\n",
       "- - performActions - -\r\n",
       "act\r\n",
       "A\r\n",
       "B\r\n",
       "- - states - -\r\n",
       "S1\r\n",
       "- - transitions - -\r\n",
       "T\r\n",
       "}\r\n",
       "comp usage \"S2\" as E11  <<(T,blue)state>> [[psysml:372708ac-c185-450b-8b20-5b0e6796b1d2 ]] {\r\n",
       "}\r\n",
       "comp usage \"doAction\" as E12 <<send action>> [[psysml:db8ff6bb-65b2-44b6-939f-52bfaf067d5c ]] {\r\n",
       "- - itemFeatures - -\r\n",
       "item\r\n",
       "}\r\n",
       "E6 *- - E11 [[psysml:372708ac-c185-450b-8b20-5b0e6796b1d2 ]] \r\n",
       "E11 o- - E12 [[psysml:db8ff6bb-65b2-44b6-939f-52bfaf067d5c ]] \r\n",
       "}\r\n",
       "@enduml\r\n",
       "\n",
       "PlantUML version 1.2020.13(Sat Jun 13 12:26:38 UTC 2020)\n",
       "(EPL source distribution)\n",
       "Java Runtime: OpenJDK Runtime Environment\n",
       "JVM: OpenJDK 64-Bit Server VM\n",
       "Default Encoding: UTF-8\n",
       "Language: en\n",
       "Country: null\n",
       "--></g></svg>"
      ]
     },
     "execution_count": 10,
     "metadata": {},
     "output_type": "execute_result"
    }
   ],
   "source": [
    "%viz --style=\"POLYLINE\" --view=\"Tree\" \"StateTest\""
   ]
  },
  {
   "cell_type": "code",
   "execution_count": 11,
   "id": "animal-problem",
   "metadata": {
    "execution": {
     "iopub.execute_input": "2021-03-25T13:48:09.806496Z",
     "iopub.status.busy": "2021-03-25T13:48:09.803437Z",
     "iopub.status.idle": "2021-03-25T13:48:09.924947Z",
     "shell.execute_reply": "2021-03-25T13:48:09.925447Z"
    }
   },
   "outputs": [
    {
     "data": {
      "image/svg+xml": [
       "<?xml version=\"1.0\" encoding=\"UTF-8\" standalone=\"no\"?><svg xmlns=\"http://www.w3.org/2000/svg\" xmlns:xlink=\"http://www.w3.org/1999/xlink\" contentScriptType=\"application/ecmascript\" contentStyleType=\"text/css\" height=\"475px\" preserveAspectRatio=\"none\" style=\"width:346px;height:475px;\" version=\"1.1\" viewBox=\"0 0 346 475\" width=\"346px\" zoomAndPan=\"magnify\"><defs/><g><!--MD5=[fbc87193dbaf4d95561dea2c320d4a47]\n",
       "cluster E1--><a href=\"psysml:6343fae7-e97a-4dac-816a-0d66812becae\" target=\"_top\" title=\"psysml:6343fae7-e97a-4dac-816a-0d66812becae\" xlink:actuate=\"onRequest\" xlink:href=\"psysml:6343fae7-e97a-4dac-816a-0d66812becae\" xlink:show=\"new\" xlink:title=\"psysml:6343fae7-e97a-4dac-816a-0d66812becae\" xlink:type=\"simple\"><rect fill=\"#FFFFFF\" height=\"457\" id=\"E1\" style=\"stroke: #383838; stroke-width: 1.5;\" width=\"327\" x=\"7\" y=\"7\"/><rect fill=\"#F8F8F8\" height=\"37.9375\" style=\"stroke: #383838; stroke-width: 1.5;\" width=\"327\" x=\"7\" y=\"7\"/><text fill=\"#000000\" font-family=\"sans-serif\" font-size=\"12\" font-style=\"italic\" lengthAdjust=\"spacingAndGlyphs\" textLength=\"71\" x=\"135\" y=\"23.1387\">«state def»</text><text fill=\"#000000\" font-family=\"sans-serif\" font-size=\"12\" lengthAdjust=\"spacingAndGlyphs\" textLength=\"8\" x=\"166.5\" y=\"37.1074\">S</text><line style=\"stroke: #383838; stroke-width: 1.0;\" x1=\"7\" x2=\"334\" y1=\"90.8438\" y2=\"90.8438\"/><text fill=\"#000000\" font-family=\"sans-serif\" font-size=\"12\" font-weight=\"bold\" lengthAdjust=\"spacingAndGlyphs\" textLength=\"38\" x=\"12\" y=\"58.0762\">entry</text><text fill=\"#000000\" font-family=\"sans-serif\" font-size=\"12\" lengthAdjust=\"spacingAndGlyphs\" textLength=\"16\" x=\"50\" y=\"58.0762\">/ A</text><text fill=\"#000000\" font-family=\"sans-serif\" font-size=\"12\" font-weight=\"bold\" lengthAdjust=\"spacingAndGlyphs\" textLength=\"18\" x=\"12\" y=\"72.0449\">do</text><text fill=\"#000000\" font-family=\"sans-serif\" font-size=\"12\" lengthAdjust=\"spacingAndGlyphs\" textLength=\"16\" x=\"30\" y=\"72.0449\">/ B</text><text fill=\"#000000\" font-family=\"sans-serif\" font-size=\"12\" font-weight=\"bold\" lengthAdjust=\"spacingAndGlyphs\" textLength=\"26\" x=\"12\" y=\"86.0137\">exit</text><text fill=\"#000000\" font-family=\"sans-serif\" font-size=\"12\" lengthAdjust=\"spacingAndGlyphs\" textLength=\"28\" x=\"38\" y=\"86.0137\">/ act</text></a><ellipse cx=\"119\" cy=\"115\" fill=\"#000000\" rx=\"10\" ry=\"10\" style=\"stroke: none; stroke-width: 1.0;\"/><ellipse cx=\"119\" cy=\"438\" fill=\"none\" rx=\"10\" ry=\"10\" style=\"stroke: #000000; stroke-width: 1.0;\"/><ellipse cx=\"119.5\" cy=\"438.5\" fill=\"#000000\" rx=\"6\" ry=\"6\" style=\"stroke: none; stroke-width: 1.0;\"/><g id=\"E1.E2\"><a href=\"psysml:df9bf7b7-ea8a-42e1-9b23-b8091030681c\" target=\"_top\" title=\"psysml:df9bf7b7-ea8a-42e1-9b23-b8091030681c\" xlink:actuate=\"onRequest\" xlink:href=\"psysml:df9bf7b7-ea8a-42e1-9b23-b8091030681c\" xlink:show=\"new\" xlink:title=\"psysml:df9bf7b7-ea8a-42e1-9b23-b8091030681c\" xlink:type=\"simple\"><rect fill=\"#FFFFFF\" height=\"40\" id=\"E2\" rx=\"10\" ry=\"10\" style=\"stroke: #383838; stroke-width: 1.5;\" width=\"50\" x=\"94\" y=\"186\"/><rect fill=\"#F8F8F8\" height=\"23.9688\" rx=\"10\" ry=\"10\" style=\"stroke: #F8F8F8; stroke-width: 1.5;\" width=\"50\" x=\"94\" y=\"186\"/><rect fill=\"#F8F8F8\" height=\"10\" style=\"stroke: #F8F8F8; stroke-width: 1.5;\" width=\"50\" x=\"94\" y=\"199.9688\"/><rect fill=\"none\" height=\"40\" id=\"E2\" rx=\"10\" ry=\"10\" style=\"stroke: #383838; stroke-width: 1.5;\" width=\"50\" x=\"94\" y=\"186\"/><text fill=\"#000000\" font-family=\"sans-serif\" font-size=\"12\" lengthAdjust=\"spacingAndGlyphs\" textLength=\"16\" x=\"111\" y=\"202.1387\">S1</text></a></g><g id=\"E1.E3\"><a href=\"psysml:372708ac-c185-450b-8b20-5b0e6796b1d2\" target=\"_top\" title=\"psysml:372708ac-c185-450b-8b20-5b0e6796b1d2\" xlink:actuate=\"onRequest\" xlink:href=\"psysml:372708ac-c185-450b-8b20-5b0e6796b1d2\" xlink:show=\"new\" xlink:title=\"psysml:372708ac-c185-450b-8b20-5b0e6796b1d2\" xlink:type=\"simple\"><rect fill=\"#FFFFFF\" height=\"47.9375\" id=\"E3\" rx=\"10\" ry=\"10\" style=\"stroke: #383838; stroke-width: 1.5;\" width=\"50\" x=\"94\" y=\"303\"/><rect fill=\"#F8F8F8\" height=\"23.9688\" rx=\"10\" ry=\"10\" style=\"stroke: #F8F8F8; stroke-width: 1.5;\" width=\"50\" x=\"94\" y=\"303\"/><rect fill=\"#F8F8F8\" height=\"10\" style=\"stroke: #F8F8F8; stroke-width: 1.5;\" width=\"50\" x=\"94\" y=\"316.9688\"/><rect fill=\"none\" height=\"47.9375\" id=\"E3\" rx=\"10\" ry=\"10\" style=\"stroke: #383838; stroke-width: 1.5;\" width=\"50\" x=\"94\" y=\"303\"/><text fill=\"#000000\" font-family=\"sans-serif\" font-size=\"12\" lengthAdjust=\"spacingAndGlyphs\" textLength=\"16\" x=\"111\" y=\"319.1387\">S2</text><line style=\"stroke: #383838; stroke-width: 1.0;\" x1=\"94\" x2=\"144\" y1=\"326.9688\" y2=\"326.9688\"/><text fill=\"#000000\" font-family=\"sans-serif\" font-size=\"12\" font-weight=\"bold\" lengthAdjust=\"spacingAndGlyphs\" textLength=\"18\" x=\"99\" y=\"340.1074\">do</text><text fill=\"#000000\" font-family=\"sans-serif\" font-size=\"12\" lengthAdjust=\"spacingAndGlyphs\" textLength=\"4\" x=\"117\" y=\"340.1074\">/</text></a></g><!--MD5=[cff944eb183b832d446717a4e202d613]\n",
       "link *start*E1 to E2--><a href=\"psysml:63e0b6b5-21d2-46c8-92d5-87e224212dbf\" target=\"_top\" title=\"psysml:63e0b6b5-21d2-46c8-92d5-87e224212dbf\" xlink:actuate=\"onRequest\" xlink:href=\"psysml:63e0b6b5-21d2-46c8-92d5-87e224212dbf\" xlink:show=\"new\" xlink:title=\"psysml:63e0b6b5-21d2-46c8-92d5-87e224212dbf\" xlink:type=\"simple\"><path d=\"M119,125.19 C119,138.18 119,162.38 119,180.73 \" fill=\"none\" id=\"*start*E1-&gt;E2\" style=\"stroke: #383838; stroke-width: 1.0;\"/><polygon fill=\"#383838\" points=\"119,185.74,123,176.74,119,180.74,115,176.74,119,185.74\" style=\"stroke: #383838; stroke-width: 1.0;\"/></a><!--MD5=[9ee7afa76ca8c509b3d216624c3a9893]\n",
       "link E3 to *end*E1--><a href=\"psysml:60b88d5b-1ac8-4d6b-b052-bf1a623237b5\" target=\"_top\" title=\"psysml:60b88d5b-1ac8-4d6b-b052-bf1a623237b5\" xlink:actuate=\"onRequest\" xlink:href=\"psysml:60b88d5b-1ac8-4d6b-b052-bf1a623237b5\" xlink:show=\"new\" xlink:title=\"psysml:60b88d5b-1ac8-4d6b-b052-bf1a623237b5\" xlink:type=\"simple\"><path d=\"M119,351.12 C119,372.75 119,404.39 119,422.62 \" fill=\"none\" id=\"E3-&gt;*end*E1\" style=\"stroke: #383838; stroke-width: 1.0;\"/><polygon fill=\"#383838\" points=\"119,427.82,123,418.82,119,422.82,115,418.82,119,427.82\" style=\"stroke: #383838; stroke-width: 1.0;\"/><text fill=\"#000000\" font-family=\"sans-serif\" font-size=\"13\" lengthAdjust=\"spacingAndGlyphs\" textLength=\"23\" x=\"120\" y=\"394.0669\">Exit</text></a><!--MD5=[2720a5a1f2c3fca2055b230370638851]\n",
       "link E2 to E3--><a href=\"psysml:b9f5e72d-c680-433c-ba5c-575fc587f4f3\" target=\"_top\" title=\"psysml:b9f5e72d-c680-433c-ba5c-575fc587f4f3\" xlink:actuate=\"onRequest\" xlink:href=\"psysml:b9f5e72d-c680-433c-ba5c-575fc587f4f3\" xlink:show=\"new\" xlink:title=\"psysml:b9f5e72d-c680-433c-ba5c-575fc587f4f3\" xlink:type=\"simple\"><path d=\"M94.07,226.08 C76.1,239.84 55,256 55,256 C55,256 55,273 55,273 C55,273 72.69,287.65 89.47,301.55 \" fill=\"none\" id=\"E2-&gt;E3\" style=\"stroke: #383838; stroke-width: 1.0;\"/><polygon fill=\"#383838\" points=\"93.71,305.05,89.3341,296.2267,89.8607,301.8589,84.2284,302.3855,93.71,305.05\" style=\"stroke: #383838; stroke-width: 1.0;\"/><text fill=\"#000000\" font-family=\"sans-serif\" font-size=\"13\" lengthAdjust=\"spacingAndGlyphs\" textLength=\"81\" x=\"56\" y=\"269.0669\">Sig /action D</text></a><!--MD5=[05d275557350bfb9b23a4ef7222b4c39]\n",
       "link E3 to E2--><a href=\"psysml:8fe1fd83-9e96-4978-be75-1a7ead5c4a85\" target=\"_top\" title=\"psysml:8fe1fd83-9e96-4978-be75-1a7ead5c4a85\" xlink:actuate=\"onRequest\" xlink:href=\"psysml:8fe1fd83-9e96-4978-be75-1a7ead5c4a85\" xlink:show=\"new\" xlink:title=\"psysml:8fe1fd83-9e96-4978-be75-1a7ead5c4a85\" xlink:type=\"simple\"><path d=\"M129.02,302.91 C135.22,288.63 142,273 142,273 C142,273 142,256 142,256 C142,256 135.98,243.18 130.11,230.66 \" fill=\"none\" id=\"E3-&gt;E2\" style=\"stroke: #383838; stroke-width: 1.0;\"/><polygon fill=\"#383838\" points=\"127.96,226.08,128.1429,235.9272,130.0752,230.6106,135.3918,232.5428,127.96,226.08\" style=\"stroke: #383838; stroke-width: 1.0;\"/><text fill=\"#000000\" font-family=\"sans-serif\" font-size=\"13\" lengthAdjust=\"spacingAndGlyphs\" textLength=\"135\" x=\"143\" y=\"269.0669\">Sig [true]/send s to p</text></a><!--MD5=[ab74f0039c4a4664b8965e5093372c97]\n",
       "@startuml\r\n",
       "skinparam linetype polyline\r\n",
       "skinparam monochrome true\r\n",
       "skinparam classbackgroundcolor white\r\n",
       "skinparam shadowing false\r\n",
       "skinparam wrapWidth 300\r\n",
       "hide circle\r\n",
       "\r\n",
       "rec def \"S\" as E1  <<(T,blue)state def>> [[psysml:6343fae7-e97a-4dac-816a-0d66812becae ]] {\r\n",
       "rec usage \"S1\" as E2 [[psysml:df9bf7b7-ea8a-42e1-9b23-b8091030681c ]] {\r\n",
       "}\r\n",
       "\r\n",
       "rec usage \"S2\" as E3 [[psysml:372708ac-c185-450b-8b20-5b0e6796b1d2 ]] {\r\n",
       "desc \"S2\" as E3  : **do**/ \r\n",
       "}\r\n",
       "\r\n",
       "[*] - -> E2 [[psysml:63e0b6b5-21d2-46c8-92d5-87e224212dbf ]] \r\n",
       "E3  - -> [*] [[psysml:60b88d5b-1ac8-4d6b-b052-bf1a623237b5 ]] : Exit \r\n",
       "desc \"S\" as E1  : **entry**/ A\r\n",
       "desc \"S\" as E1  : **do**/ B\r\n",
       "desc \"S\" as E1  : **exit**/ act \r\n",
       "}\r\n",
       "\r\n",
       "E2  - -> E3 [[psysml:b9f5e72d-c680-433c-ba5c-575fc587f4f3 ]] : Sig /action D\r\n",
       "E3  - -> E2 [[psysml:8fe1fd83-9e96-4978-be75-1a7ead5c4a85 ]] : Sig [true]/send s to p\r\n",
       "@enduml\r\n",
       "\n",
       "PlantUML version 1.2020.13(Sat Jun 13 12:26:38 UTC 2020)\n",
       "(EPL source distribution)\n",
       "Java Runtime: OpenJDK Runtime Environment\n",
       "JVM: OpenJDK 64-Bit Server VM\n",
       "Default Encoding: UTF-8\n",
       "Language: en\n",
       "Country: null\n",
       "--></g></svg>"
      ]
     },
     "execution_count": 11,
     "metadata": {},
     "output_type": "execute_result"
    }
   ],
   "source": [
    "%viz --style=\"POLYLINE\" --view=\"State\" \"StateTest\""
   ]
  },
  {
   "cell_type": "code",
   "execution_count": 12,
   "id": "moral-label",
   "metadata": {
    "execution": {
     "iopub.execute_input": "2021-03-25T13:48:09.976468Z",
     "iopub.status.busy": "2021-03-25T13:48:09.975930Z",
     "iopub.status.idle": "2021-03-25T13:48:10.047864Z",
     "shell.execute_reply": "2021-03-25T13:48:10.048307Z"
    }
   },
   "outputs": [
    {
     "data": {
      "image/svg+xml": [
       "<?xml version=\"1.0\" encoding=\"UTF-8\" standalone=\"no\"?><svg xmlns=\"http://www.w3.org/2000/svg\" xmlns:xlink=\"http://www.w3.org/1999/xlink\" contentScriptType=\"application/ecmascript\" contentStyleType=\"text/css\" height=\"112px\" preserveAspectRatio=\"none\" style=\"width:598px;height:112px;\" version=\"1.1\" viewBox=\"0 0 598 112\" width=\"598px\" zoomAndPan=\"magnify\"><defs/><g><!--MD5=[fbc87193dbaf4d95561dea2c320d4a47]\n",
       "cluster E1--><a href=\"psysml:7751d53a-3d7b-46fc-b5d8-bf0ae3c7070c\" target=\"_top\" title=\"psysml:7751d53a-3d7b-46fc-b5d8-bf0ae3c7070c\" xlink:actuate=\"onRequest\" xlink:href=\"psysml:7751d53a-3d7b-46fc-b5d8-bf0ae3c7070c\" xlink:show=\"new\" xlink:title=\"psysml:7751d53a-3d7b-46fc-b5d8-bf0ae3c7070c\" xlink:type=\"simple\"><polygon fill=\"#FFFFFF\" points=\"16,6,98,6,105,28.2969,576,28.2969,576,100,16,100,16,6\" style=\"stroke: #000000; stroke-width: 1.5;\"/><line style=\"stroke: #000000; stroke-width: 1.5;\" x1=\"16\" x2=\"105\" y1=\"28.2969\" y2=\"28.2969\"/><text fill=\"#000000\" font-family=\"sans-serif\" font-size=\"14\" font-weight=\"bold\" lengthAdjust=\"spacingAndGlyphs\" textLength=\"76\" x=\"20\" y=\"20.9951\">StateTest</text></a><g id=\"E1.E2\"><a href=\"psysml:85dbfb10-d456-4c59-a9e0-99da33bb7a4b\" target=\"_top\" title=\"psysml:85dbfb10-d456-4c59-a9e0-99da33bb7a4b\" xlink:actuate=\"onRequest\" xlink:href=\"psysml:85dbfb10-d456-4c59-a9e0-99da33bb7a4b\" xlink:show=\"new\" xlink:title=\"psysml:85dbfb10-d456-4c59-a9e0-99da33bb7a4b\" xlink:type=\"simple\"><rect fill=\"#FFFFFF\" height=\"42.9375\" id=\"E2\" style=\"stroke: #383838; stroke-width: 1.5;\" width=\"100\" x=\"460\" y=\"41\"/><rect fill=\"#F8F8F8\" height=\"37.9375\" style=\"stroke: #383838; stroke-width: 1.5;\" width=\"100\" x=\"460\" y=\"41\"/><text fill=\"#000000\" font-family=\"sans-serif\" font-size=\"12\" font-style=\"italic\" lengthAdjust=\"spacingAndGlyphs\" textLength=\"93\" x=\"463.5\" y=\"57.1387\">«attribute def»</text><text fill=\"#000000\" font-family=\"sans-serif\" font-size=\"12\" lengthAdjust=\"spacingAndGlyphs\" textLength=\"19\" x=\"500.5\" y=\"71.1074\">Sig</text></a></g><g id=\"E1.E3\"><a href=\"psysml:06ed69bb-03e4-455b-a820-630d0564221d\" target=\"_top\" title=\"psysml:06ed69bb-03e4-455b-a820-630d0564221d\" xlink:actuate=\"onRequest\" xlink:href=\"psysml:06ed69bb-03e4-455b-a820-630d0564221d\" xlink:show=\"new\" xlink:title=\"psysml:06ed69bb-03e4-455b-a820-630d0564221d\" xlink:type=\"simple\"><rect fill=\"#FFFFFF\" height=\"42.9375\" id=\"E3\" style=\"stroke: #383838; stroke-width: 1.5;\" width=\"100\" x=\"325\" y=\"41\"/><rect fill=\"#F8F8F8\" height=\"37.9375\" style=\"stroke: #383838; stroke-width: 1.5;\" width=\"100\" x=\"325\" y=\"41\"/><text fill=\"#000000\" font-family=\"sans-serif\" font-size=\"12\" font-style=\"italic\" lengthAdjust=\"spacingAndGlyphs\" textLength=\"93\" x=\"328.5\" y=\"57.1387\">«attribute def»</text><text fill=\"#000000\" font-family=\"sans-serif\" font-size=\"12\" lengthAdjust=\"spacingAndGlyphs\" textLength=\"22\" x=\"364\" y=\"71.1074\">Exit</text></a></g><g id=\"E1.E6\"><a href=\"psysml:6343fae7-e97a-4dac-816a-0d66812becae\" target=\"_top\" title=\"psysml:6343fae7-e97a-4dac-816a-0d66812becae\" xlink:actuate=\"onRequest\" xlink:href=\"psysml:6343fae7-e97a-4dac-816a-0d66812becae\" xlink:show=\"new\" xlink:title=\"psysml:6343fae7-e97a-4dac-816a-0d66812becae\" xlink:type=\"simple\"><rect fill=\"#FFFFFF\" height=\"42.9375\" id=\"E6\" style=\"stroke: #383838; stroke-width: 1.5;\" width=\"78\" x=\"212\" y=\"41\"/><rect fill=\"#F8F8F8\" height=\"37.9375\" style=\"stroke: #383838; stroke-width: 1.5;\" width=\"78\" x=\"212\" y=\"41\"/><text fill=\"#000000\" font-family=\"sans-serif\" font-size=\"12\" font-style=\"italic\" lengthAdjust=\"spacingAndGlyphs\" textLength=\"71\" x=\"215.5\" y=\"57.1387\">«state def»</text><text fill=\"#000000\" font-family=\"sans-serif\" font-size=\"12\" lengthAdjust=\"spacingAndGlyphs\" textLength=\"8\" x=\"247\" y=\"71.1074\">S</text></a></g><g id=\"E1.E4\"><a href=\"psysml:f6292196-12b9-4bba-a758-98820cb4f3f5\" target=\"_top\" title=\"psysml:f6292196-12b9-4bba-a758-98820cb4f3f5\" xlink:actuate=\"onRequest\" xlink:href=\"psysml:f6292196-12b9-4bba-a758-98820cb4f3f5\" xlink:show=\"new\" xlink:title=\"psysml:f6292196-12b9-4bba-a758-98820cb4f3f5\" xlink:type=\"simple\"><rect fill=\"#FFFFFF\" height=\"40\" id=\"E4\" rx=\"10\" ry=\"10\" style=\"stroke: #383838; stroke-width: 1.5;\" width=\"50\" x=\"127\" y=\"42.5\"/><rect fill=\"#F8F8F8\" height=\"23.9688\" rx=\"10\" ry=\"10\" style=\"stroke: #F8F8F8; stroke-width: 1.5;\" width=\"50\" x=\"127\" y=\"42.5\"/><rect fill=\"#F8F8F8\" height=\"10\" style=\"stroke: #F8F8F8; stroke-width: 1.5;\" width=\"50\" x=\"127\" y=\"56.4688\"/><rect fill=\"none\" height=\"40\" id=\"E4\" rx=\"10\" ry=\"10\" style=\"stroke: #383838; stroke-width: 1.5;\" width=\"50\" x=\"127\" y=\"42.5\"/><text fill=\"#000000\" font-family=\"sans-serif\" font-size=\"12\" lengthAdjust=\"spacingAndGlyphs\" textLength=\"8\" x=\"148\" y=\"58.6387\">p</text></a></g><g id=\"E1.E5\"><a href=\"psysml:d7bec2b6-e32c-41d0-a208-370a3f1c18c8\" target=\"_top\" title=\"psysml:d7bec2b6-e32c-41d0-a208-370a3f1c18c8\" xlink:actuate=\"onRequest\" xlink:href=\"psysml:d7bec2b6-e32c-41d0-a208-370a3f1c18c8\" xlink:show=\"new\" xlink:title=\"psysml:d7bec2b6-e32c-41d0-a208-370a3f1c18c8\" xlink:type=\"simple\"><rect fill=\"#FFFFFF\" height=\"42.9375\" id=\"E5\" rx=\"10\" ry=\"10\" style=\"stroke: #383838; stroke-width: 1.5;\" width=\"60\" x=\"32\" y=\"41\"/><rect fill=\"#F8F8F8\" height=\"37.9375\" rx=\"10\" ry=\"10\" style=\"stroke: #F8F8F8; stroke-width: 1.5;\" width=\"60\" x=\"32\" y=\"41\"/><rect fill=\"#F8F8F8\" height=\"10\" style=\"stroke: #F8F8F8; stroke-width: 1.5;\" width=\"60\" x=\"32\" y=\"68.9375\"/><rect fill=\"none\" height=\"42.9375\" id=\"E5\" rx=\"10\" ry=\"10\" style=\"stroke: #383838; stroke-width: 1.5;\" width=\"60\" x=\"32\" y=\"41\"/><text fill=\"#000000\" font-family=\"sans-serif\" font-size=\"12\" font-style=\"italic\" lengthAdjust=\"spacingAndGlyphs\" textLength=\"53\" x=\"35.5\" y=\"57.1387\">«action»</text><text fill=\"#000000\" font-family=\"sans-serif\" font-size=\"12\" lengthAdjust=\"spacingAndGlyphs\" textLength=\"20\" x=\"52\" y=\"71.1074\">act</text></a></g><!--MD5=[8e2e37bb8911bb4f4d82e78a539490e2]\n",
       "@startuml\r\n",
       "skinparam ranksep 8\r\n",
       "skinparam rectangle {\r\n",
       " backgroundColor<<block>> LightGreen\r\n",
       "}\r\n",
       "skinparam linetype polyline\r\n",
       "skinparam monochrome true\r\n",
       "skinparam classbackgroundcolor white\r\n",
       "skinparam shadowing false\r\n",
       "skinparam wrapWidth 300\r\n",
       "hide circle\r\n",
       "\r\n",
       "package \"StateTest\" as E1  [[psysml:7751d53a-3d7b-46fc-b5d8-bf0ae3c7070c ]]  {\r\n",
       "def \"Sig\" as E2  <<(T,blue)attribute def>> [[psysml:85dbfb10-d456-4c59-a9e0-99da33bb7a4b ]] \r\n",
       "def \"Exit\" as E3  <<(T,blue)attribute def>> [[psysml:06ed69bb-03e4-455b-a820-630d0564221d ]] \r\n",
       "rec usage \"p\" as E4  [[psysml:f6292196-12b9-4bba-a758-98820cb4f3f5 ]] {\r\n",
       "}\r\n",
       "rec usage \"act\" as E5  <<(T,blue)action>> [[psysml:d7bec2b6-e32c-41d0-a208-370a3f1c18c8 ]] {\r\n",
       "}\r\n",
       "def \"S\" as E6  <<(T,blue)state def>> [[psysml:6343fae7-e97a-4dac-816a-0d66812becae ]] \r\n",
       "}\r\n",
       "@enduml\r\n",
       "\n",
       "PlantUML version 1.2020.13(Sat Jun 13 12:26:38 UTC 2020)\n",
       "(EPL source distribution)\n",
       "Java Runtime: OpenJDK Runtime Environment\n",
       "JVM: OpenJDK 64-Bit Server VM\n",
       "Default Encoding: UTF-8\n",
       "Language: en\n",
       "Country: null\n",
       "--></g></svg>"
      ]
     },
     "execution_count": 12,
     "metadata": {},
     "output_type": "execute_result"
    }
   ],
   "source": [
    "%viz --style=\"POLYLINE\" --view=\"Interconnection\" \"StateTest\""
   ]
  },
  {
   "cell_type": "code",
   "execution_count": 13,
   "id": "found-month",
   "metadata": {
    "execution": {
     "iopub.execute_input": "2021-03-25T13:48:10.100283Z",
     "iopub.status.busy": "2021-03-25T13:48:10.099433Z",
     "iopub.status.idle": "2021-03-25T13:48:10.168394Z",
     "shell.execute_reply": "2021-03-25T13:48:10.168857Z"
    }
   },
   "outputs": [
    {
     "data": {
      "image/svg+xml": [
       "<?xml version=\"1.0\" encoding=\"UTF-8\" standalone=\"no\"?><svg xmlns=\"http://www.w3.org/2000/svg\" xmlns:xlink=\"http://www.w3.org/1999/xlink\" contentScriptType=\"application/ecmascript\" contentStyleType=\"text/css\" height=\"553px\" preserveAspectRatio=\"none\" style=\"width:797px;height:553px;background:#000000;\" version=\"1.1\" viewBox=\"0 0 797 553\" width=\"797px\" zoomAndPan=\"magnify\"><defs/><g><rect fill=\"#151609\" height=\"1\" style=\"stroke: #151609; stroke-width: 1.0;\" width=\"1\" x=\"0\" y=\"0\"/><rect fill=\"#EAE2C9\" height=\"65.1875\" style=\"stroke: #EAE2C9; stroke-width: 1.0;\" width=\"796\" x=\"0\" y=\"0\"/><text fill=\"#000000\" font-family=\"sans-serif\" font-size=\"14\" font-weight=\"bold\" lengthAdjust=\"spacingAndGlyphs\" textLength=\"310\" x=\"10\" y=\"12.9951\">Add your own dedication into PlantUML</text><text fill=\"#000000\" font-family=\"sans-serif\" font-size=\"14\" lengthAdjust=\"spacingAndGlyphs\" textLength=\"0\" x=\"14\" y=\"29.292\"/><text fill=\"#000000\" font-family=\"sans-serif\" font-size=\"14\" lengthAdjust=\"spacingAndGlyphs\" textLength=\"154\" x=\"10\" y=\"45.5889\">For just $5 per month!</text><text fill=\"#000000\" font-family=\"sans-serif\" font-size=\"14\" lengthAdjust=\"spacingAndGlyphs\" textLength=\"69\" x=\"10\" y=\"61.8857\">Details on</text><a href=\"http://plantuml.com/dedication\" target=\"_top\" title=\"http://plantuml.com/dedication\" xlink:actuate=\"onRequest\" xlink:href=\"http://plantuml.com/dedication\" xlink:show=\"new\" xlink:title=\"http://plantuml.com/dedication\" xlink:type=\"simple\"><text fill=\"#000000\" font-family=\"sans-serif\" font-size=\"14\" font-style=\"italic\" lengthAdjust=\"spacingAndGlyphs\" textLength=\"213\" x=\"83\" y=\"61.8857\">http://plantuml.com/dedication</text></a><rect fill=\"#000000\" height=\"487.6094\" style=\"stroke: #000000; stroke-width: 1.0;\" width=\"796\" x=\"0\" y=\"65.1875\"/><rect fill=\"#33FF02\" height=\"21.2969\" style=\"stroke: #33FF02; stroke-width: 1.0;\" width=\"786\" x=\"5\" y=\"70.1875\"/><text fill=\"#000000\" font-family=\"sans-serif\" font-size=\"14\" font-weight=\"bold\" lengthAdjust=\"spacingAndGlyphs\" textLength=\"178\" x=\"6\" y=\"85.1875\">[From string (line 26) ]</text><text fill=\"#33FF02\" font-family=\"sans-serif\" font-size=\"14\" font-weight=\"bold\" lengthAdjust=\"spacingAndGlyphs\" textLength=\"0\" x=\"10\" y=\"105.4844\"/><text fill=\"#33FF02\" font-family=\"sans-serif\" font-size=\"14\" font-weight=\"bold\" lengthAdjust=\"spacingAndGlyphs\" textLength=\"79\" x=\"5\" y=\"121.7813\">@startuml</text><text fill=\"#33FF02\" font-family=\"sans-serif\" font-size=\"14\" font-weight=\"bold\" lengthAdjust=\"spacingAndGlyphs\" textLength=\"165\" x=\"5\" y=\"138.0781\">skinparam ranksep 8</text><text fill=\"#33FF02\" font-family=\"sans-serif\" font-size=\"14\" font-weight=\"bold\" lengthAdjust=\"spacingAndGlyphs\" textLength=\"215\" x=\"5\" y=\"154.375\">skinparam linetype polyline</text><text fill=\"#33FF02\" font-family=\"sans-serif\" font-size=\"14\" font-weight=\"bold\" lengthAdjust=\"spacingAndGlyphs\" textLength=\"228\" x=\"5\" y=\"170.6719\">skinparam monochrome true</text><text fill=\"#33FF02\" font-family=\"sans-serif\" font-size=\"14\" font-weight=\"bold\" lengthAdjust=\"spacingAndGlyphs\" textLength=\"309\" x=\"5\" y=\"186.9688\">skinparam classbackgroundcolor white</text><text fill=\"#33FF02\" font-family=\"sans-serif\" font-size=\"14\" font-weight=\"bold\" lengthAdjust=\"spacingAndGlyphs\" textLength=\"215\" x=\"5\" y=\"203.2656\">skinparam shadowing false</text><text fill=\"#33FF02\" font-family=\"sans-serif\" font-size=\"14\" font-weight=\"bold\" lengthAdjust=\"spacingAndGlyphs\" textLength=\"206\" x=\"5\" y=\"219.5625\">skinparam wrapWidth 300</text><text fill=\"#33FF02\" font-family=\"sans-serif\" font-size=\"14\" font-weight=\"bold\" lengthAdjust=\"spacingAndGlyphs\" textLength=\"82\" x=\"5\" y=\"235.8594\">hide circle</text><text fill=\"#33FF02\" font-family=\"sans-serif\" font-size=\"14\" font-weight=\"bold\" lengthAdjust=\"spacingAndGlyphs\" textLength=\"0\" x=\"10\" y=\"252.1563\"/><text fill=\"#33FF02\" font-family=\"sans-serif\" font-size=\"14\" font-weight=\"bold\" lengthAdjust=\"spacingAndGlyphs\" textLength=\"780\" x=\"5\" y=\"268.4531\">rec usage \"act\" as E1  &lt;&lt;(T,blue)action&gt;&gt; [[psysml:d7bec2b6-e32c-41d0-a208-370a3f1c18c8 ]] {</text><text fill=\"#33FF02\" font-family=\"sans-serif\" font-size=\"14\" font-weight=\"bold\" lengthAdjust=\"spacingAndGlyphs\" textLength=\"10\" x=\"5\" y=\"284.75\">}</text><text fill=\"#33FF02\" font-family=\"sans-serif\" font-size=\"14\" font-weight=\"bold\" lengthAdjust=\"spacingAndGlyphs\" textLength=\"0\" x=\"10\" y=\"301.0469\"/><text fill=\"#33FF02\" font-family=\"sans-serif\" font-size=\"14\" font-weight=\"bold\" lengthAdjust=\"spacingAndGlyphs\" textLength=\"766\" x=\"5\" y=\"317.3438\">rec def \"S\" as E2  &lt;&lt;(T,blue)state def&gt;&gt; [[psysml:6343fae7-e97a-4dac-816a-0d66812becae ]] {</text><text fill=\"#33FF02\" font-family=\"sans-serif\" font-size=\"14\" font-weight=\"bold\" lengthAdjust=\"spacingAndGlyphs\" textLength=\"771\" x=\"5\" y=\"333.6406\">rec usage \"A\" as E3 &lt;&lt;perform action&gt;&gt; [[psysml:8359d21e-76a2-4117-aa0c-e497139fc203 ]] {</text><text fill=\"#33FF02\" font-family=\"sans-serif\" font-size=\"14\" font-weight=\"bold\" lengthAdjust=\"spacingAndGlyphs\" textLength=\"10\" x=\"5\" y=\"349.9375\">}</text><text fill=\"#33FF02\" font-family=\"sans-serif\" font-size=\"14\" font-weight=\"bold\" lengthAdjust=\"spacingAndGlyphs\" textLength=\"0\" x=\"10\" y=\"366.2344\"/><text fill=\"#33FF02\" font-family=\"sans-serif\" font-size=\"14\" font-weight=\"bold\" lengthAdjust=\"spacingAndGlyphs\" textLength=\"757\" x=\"5\" y=\"382.5313\">rec usage \"B\" as E4 &lt;&lt;perform action&gt;&gt; [[psysml:fefee72e-42fb-4d4a-8086-a3c1a01af58c ]] {</text><text fill=\"#33FF02\" font-family=\"sans-serif\" font-size=\"14\" font-weight=\"bold\" lengthAdjust=\"spacingAndGlyphs\" textLength=\"10\" x=\"5\" y=\"398.8281\">}</text><text fill=\"#33FF02\" font-family=\"sans-serif\" font-size=\"14\" font-weight=\"bold\" lengthAdjust=\"spacingAndGlyphs\" textLength=\"0\" x=\"10\" y=\"415.125\"/><text fill=\"#33FF02\" font-family=\"sans-serif\" font-size=\"14\" font-weight=\"bold\" lengthAdjust=\"spacingAndGlyphs\" textLength=\"786\" x=\"5\" y=\"431.4219\">rec usage \"act\" as E5 &lt;&lt;perform action&gt;&gt; [[psysml:0785ac9a-a9d7-4330-a90b-536bd85a1c26 ]] {</text><text fill=\"#33FF02\" font-family=\"sans-serif\" font-size=\"14\" font-weight=\"bold\" lengthAdjust=\"spacingAndGlyphs\" textLength=\"10\" x=\"5\" y=\"447.7188\">}</text><text fill=\"#33FF02\" font-family=\"sans-serif\" font-size=\"14\" font-weight=\"bold\" lengthAdjust=\"spacingAndGlyphs\" textLength=\"0\" x=\"10\" y=\"464.0156\"/><text fill=\"#33FF02\" font-family=\"sans-serif\" font-size=\"14\" font-weight=\"bold\" lengthAdjust=\"spacingAndGlyphs\" textLength=\"767\" x=\"5\" y=\"480.3125\">rec usage \"S1\" as E6  &lt;&lt;(T,blue)state&gt;&gt; [[psysml:df9bf7b7-ea8a-42e1-9b23-b8091030681c ]] {</text><text fill=\"#33FF02\" font-family=\"sans-serif\" font-size=\"14\" font-weight=\"bold\" lengthAdjust=\"spacingAndGlyphs\" textLength=\"10\" x=\"5\" y=\"496.6094\">}</text><text fill=\"#33FF02\" font-family=\"sans-serif\" font-size=\"14\" font-weight=\"bold\" lengthAdjust=\"spacingAndGlyphs\" textLength=\"0\" x=\"10\" y=\"512.9063\"/><text fill=\"#33FF02\" font-family=\"sans-serif\" font-size=\"14\" font-weight=\"bold\" lengthAdjust=\"spacingAndGlyphs\" textLength=\"10\" x=\"5\" y=\"529.2031\">{</text><text fill=\"#FF0000\" font-family=\"sans-serif\" font-size=\"14\" font-weight=\"bold\" lengthAdjust=\"spacingAndGlyphs\" textLength=\"106\" x=\"10\" y=\"545.5\">Syntax Error?</text><!--MD5=[80bd3f2fc6058732c743dc44f7fba8f4]\n",
       "@startuml\r\n",
       "skinparam ranksep 8\r\n",
       "skinparam linetype polyline\r\n",
       "skinparam monochrome true\r\n",
       "skinparam classbackgroundcolor white\r\n",
       "skinparam shadowing false\r\n",
       "skinparam wrapWidth 300\r\n",
       "hide circle\r\n",
       "\r\n",
       "rec usage \"act\" as E1  <<(T,blue)action>> [[psysml:d7bec2b6-e32c-41d0-a208-370a3f1c18c8 ]] {\r\n",
       "}\r\n",
       "\r\n",
       "rec def \"S\" as E2  <<(T,blue)state def>> [[psysml:6343fae7-e97a-4dac-816a-0d66812becae ]] {\r\n",
       "rec usage \"A\" as E3 <<perform action>> [[psysml:8359d21e-76a2-4117-aa0c-e497139fc203 ]] {\r\n",
       "}\r\n",
       "\r\n",
       "rec usage \"B\" as E4 <<perform action>> [[psysml:fefee72e-42fb-4d4a-8086-a3c1a01af58c ]] {\r\n",
       "}\r\n",
       "\r\n",
       "rec usage \"act\" as E5 <<perform action>> [[psysml:0785ac9a-a9d7-4330-a90b-536bd85a1c26 ]] {\r\n",
       "}\r\n",
       "\r\n",
       "rec usage \"S1\" as E6  <<(T,blue)state>> [[psysml:df9bf7b7-ea8a-42e1-9b23-b8091030681c ]] {\r\n",
       "}\r\n",
       "\r\n",
       "{\r\n",
       "{\r\n",
       "}\r\n",
       "\r\n",
       "rec usage \"D\" as E7 <<perform action>> [[psysml:13511cfd-781a-4ec2-8fcf-a4a28f7b6394 ]] {\r\n",
       "}\r\n",
       "\r\n",
       "}\r\n",
       "\r\n",
       "rec usage \"S2\" as E8  <<(T,blue)state>> [[psysml:372708ac-c185-450b-8b20-5b0e6796b1d2 ]] {\r\n",
       "rec usage \"doAction\" as E9 <<send action>> [[psysml:db8ff6bb-65b2-44b6-939f-52bfaf067d5c ]] {\r\n",
       "portin \"$x\" as E10  [[psysml:f2ac6743-4d1a-421e-9e84-f3280953fc52 ]] \r\n",
       "portout \"$result\" as E11  [[psysml:58832e21-8b8c-4456-b993-1dc2ff31e51d ]] \r\n",
       "}\r\n",
       "\r\n",
       "}\r\n",
       "\r\n",
       "{\r\n",
       "{\r\n",
       "}\r\n",
       "\r\n",
       "}\r\n",
       "\r\n",
       "rec usage \"T\" as E12  <<(T,blue)transition>> [[psysml:8fe1fd83-9e96-4978-be75-1a7ead5c4a85 ]] {\r\n",
       "rec usage \"S2\" as E13  <<(T,blue)state>> [[psysml:372708ac-c185-450b-8b20-5b0e6796b1d2 ]] {\r\n",
       "rec usage \"doAction\" as E14 <<send action>> [[psysml:db8ff6bb-65b2-44b6-939f-52bfaf067d5c ]] {\r\n",
       "portin \"$x\" as E15  [[psysml:f2ac6743-4d1a-421e-9e84-f3280953fc52 ]] \r\n",
       "portout \"$result\" as E16  [[psysml:58832e21-8b8c-4456-b993-1dc2ff31e51d ]] \r\n",
       "}\r\n",
       "\r\n",
       "}\r\n",
       "\r\n",
       "{\r\n",
       "}\r\n",
       "\r\n",
       "portout \"$result\" as E17  [[psysml:19fa8e9c-57e3-4ff0-b297-c44a7cb57e28 ]] \r\n",
       "{\r\n",
       "}\r\n",
       "\r\n",
       "}\r\n",
       "\r\n",
       "}\r\n",
       "\r\n",
       "@enduml\r\n",
       "\n",
       "PlantUML version 1.2020.13(Sat Jun 13 12:26:38 UTC 2020)\n",
       "(EPL source distribution)\n",
       "Java Runtime: OpenJDK Runtime Environment\n",
       "JVM: OpenJDK 64-Bit Server VM\n",
       "Default Encoding: UTF-8\n",
       "Language: en\n",
       "Country: null\n",
       "--></g></svg>"
      ]
     },
     "execution_count": 13,
     "metadata": {},
     "output_type": "execute_result"
    }
   ],
   "source": [
    "%viz --style=\"POLYLINE\" --view=\"Action\" \"StateTest\""
   ]
  },
  {
   "cell_type": "code",
   "execution_count": 14,
   "id": "about-legislature",
   "metadata": {
    "execution": {
     "iopub.execute_input": "2021-03-25T13:48:10.219868Z",
     "iopub.status.busy": "2021-03-25T13:48:10.219324Z",
     "iopub.status.idle": "2021-03-25T13:48:10.671225Z",
     "shell.execute_reply": "2021-03-25T13:48:10.670858Z"
    }
   },
   "outputs": [
    {
     "data": {
      "image/svg+xml": [
       "<?xml version=\"1.0\" encoding=\"UTF-8\" standalone=\"no\"?><svg xmlns=\"http://www.w3.org/2000/svg\" xmlns:xlink=\"http://www.w3.org/1999/xlink\" contentScriptType=\"application/ecmascript\" contentStyleType=\"text/css\" height=\"471px\" preserveAspectRatio=\"none\" style=\"width:594px;height:471px;\" version=\"1.1\" viewBox=\"0 0 594 471\" width=\"594px\" zoomAndPan=\"magnify\"><defs/><g><!--MD5=[fbc87193dbaf4d95561dea2c320d4a47]\n",
       "cluster E1--><a href=\"psysml:7751d53a-3d7b-46fc-b5d8-bf0ae3c7070c\" target=\"_top\" title=\"psysml:7751d53a-3d7b-46fc-b5d8-bf0ae3c7070c\" xlink:actuate=\"onRequest\" xlink:href=\"psysml:7751d53a-3d7b-46fc-b5d8-bf0ae3c7070c\" xlink:show=\"new\" xlink:title=\"psysml:7751d53a-3d7b-46fc-b5d8-bf0ae3c7070c\" xlink:type=\"simple\"><polygon fill=\"#FFFFFF\" points=\"16,6,98,6,105,28.2969,572,28.2969,572,459,16,459,16,6\" style=\"stroke: #000000; stroke-width: 1.5;\"/><line style=\"stroke: #000000; stroke-width: 1.5;\" x1=\"16\" x2=\"105\" y1=\"28.2969\" y2=\"28.2969\"/><text fill=\"#000000\" font-family=\"sans-serif\" font-size=\"14\" font-weight=\"bold\" lengthAdjust=\"spacingAndGlyphs\" textLength=\"76\" x=\"20\" y=\"20.9951\">StateTest</text></a><!--MD5=[b4997ac47864f28c2f74865a473b2911]\n",
       "class E2--><a href=\"psysml:85dbfb10-d456-4c59-a9e0-99da33bb7a4b\" target=\"_top\" title=\"psysml:85dbfb10-d456-4c59-a9e0-99da33bb7a4b\" xlink:actuate=\"onRequest\" xlink:href=\"psysml:85dbfb10-d456-4c59-a9e0-99da33bb7a4b\" xlink:show=\"new\" xlink:title=\"psysml:85dbfb10-d456-4c59-a9e0-99da33bb7a4b\" xlink:type=\"simple\"><rect fill=\"#FFFFFF\" height=\"75.5469\" id=\"E2\" style=\"stroke: #383838; stroke-width: 1.5;\" width=\"95\" x=\"460.5\" y=\"83\"/><text fill=\"#000000\" font-family=\"sans-serif\" font-size=\"12\" font-style=\"italic\" lengthAdjust=\"spacingAndGlyphs\" textLength=\"93\" x=\"461.5\" y=\"99.1387\">«attribute def»</text><text fill=\"#000000\" font-family=\"sans-serif\" font-size=\"12\" lengthAdjust=\"spacingAndGlyphs\" textLength=\"19\" x=\"498.5\" y=\"113.1074\">Sig</text><line style=\"stroke: #383838; stroke-width: 1.5;\" x1=\"461.5\" x2=\"554.5\" y1=\"120.9375\" y2=\"120.9375\"/><text fill=\"#000000\" font-family=\"sans-serif\" font-size=\"11\" lengthAdjust=\"spacingAndGlyphs\" textLength=\"6\" x=\"466.5\" y=\"151.9526\">x</text><line style=\"stroke: #383838; stroke-width: 1.0;\" x1=\"461.5\" x2=\"480.5\" y1=\"135.3398\" y2=\"135.3398\"/><text fill=\"#000000\" font-family=\"sans-serif\" font-size=\"11\" lengthAdjust=\"spacingAndGlyphs\" textLength=\"55\" x=\"480.5\" y=\"138.6479\">attributes</text><line style=\"stroke: #383838; stroke-width: 1.0;\" x1=\"535.5\" x2=\"554.5\" y1=\"135.3398\" y2=\"135.3398\"/></a><!--MD5=[09b614a08d8cba4a07c9adeb5e0fee81]\n",
       "class E3--><a href=\"psysml:06ed69bb-03e4-455b-a820-630d0564221d\" target=\"_top\" title=\"psysml:06ed69bb-03e4-455b-a820-630d0564221d\" xlink:actuate=\"onRequest\" xlink:href=\"psysml:06ed69bb-03e4-455b-a820-630d0564221d\" xlink:show=\"new\" xlink:title=\"psysml:06ed69bb-03e4-455b-a820-630d0564221d\" xlink:type=\"simple\"><rect fill=\"#FFFFFF\" height=\"45.9375\" id=\"E3\" style=\"stroke: #383838; stroke-width: 1.5;\" width=\"95\" x=\"330.5\" y=\"98\"/><text fill=\"#000000\" font-family=\"sans-serif\" font-size=\"12\" font-style=\"italic\" lengthAdjust=\"spacingAndGlyphs\" textLength=\"93\" x=\"331.5\" y=\"114.1387\">«attribute def»</text><text fill=\"#000000\" font-family=\"sans-serif\" font-size=\"12\" lengthAdjust=\"spacingAndGlyphs\" textLength=\"22\" x=\"367\" y=\"128.1074\">Exit</text><line style=\"stroke: #383838; stroke-width: 1.5;\" x1=\"331.5\" x2=\"424.5\" y1=\"135.9375\" y2=\"135.9375\"/></a><!--MD5=[ebbe1d658d1005bcc118a6aa81145e00]\n",
       "class E4--><a href=\"psysml:f6292196-12b9-4bba-a758-98820cb4f3f5\" target=\"_top\" title=\"psysml:f6292196-12b9-4bba-a758-98820cb4f3f5\" xlink:actuate=\"onRequest\" xlink:href=\"psysml:f6292196-12b9-4bba-a758-98820cb4f3f5\" xlink:show=\"new\" xlink:title=\"psysml:f6292196-12b9-4bba-a758-98820cb4f3f5\" xlink:type=\"simple\"><rect fill=\"#FFFFFF\" height=\"45.9375\" id=\"E4\" rx=\"10\" ry=\"10\" style=\"stroke: #383838; stroke-width: 1.5;\" width=\"42\" x=\"253\" y=\"98\"/><text fill=\"#000000\" font-family=\"sans-serif\" font-size=\"12\" font-style=\"italic\" lengthAdjust=\"spacingAndGlyphs\" textLength=\"40\" x=\"254\" y=\"114.1387\">«part»</text><text fill=\"#000000\" font-family=\"sans-serif\" font-size=\"12\" lengthAdjust=\"spacingAndGlyphs\" textLength=\"8\" x=\"270\" y=\"128.1074\">p</text><line style=\"stroke: #383838; stroke-width: 1.5;\" x1=\"254\" x2=\"294\" y1=\"135.9375\" y2=\"135.9375\"/></a><!--MD5=[270fce915f116d4de14055a7c1d9a0f3]\n",
       "class E5--><a href=\"psysml:d7bec2b6-e32c-41d0-a208-370a3f1c18c8\" target=\"_top\" title=\"psysml:d7bec2b6-e32c-41d0-a208-370a3f1c18c8\" xlink:actuate=\"onRequest\" xlink:href=\"psysml:d7bec2b6-e32c-41d0-a208-370a3f1c18c8\" xlink:show=\"new\" xlink:title=\"psysml:d7bec2b6-e32c-41d0-a208-370a3f1c18c8\" xlink:type=\"simple\"><rect fill=\"#FFFFFF\" height=\"45.9375\" id=\"E5\" rx=\"10\" ry=\"10\" style=\"stroke: #383838; stroke-width: 1.5;\" width=\"55\" x=\"162.5\" y=\"98\"/><text fill=\"#000000\" font-family=\"sans-serif\" font-size=\"12\" font-style=\"italic\" lengthAdjust=\"spacingAndGlyphs\" textLength=\"53\" x=\"163.5\" y=\"114.1387\">«action»</text><text fill=\"#000000\" font-family=\"sans-serif\" font-size=\"12\" lengthAdjust=\"spacingAndGlyphs\" textLength=\"20\" x=\"180\" y=\"128.1074\">act</text><line style=\"stroke: #383838; stroke-width: 1.5;\" x1=\"163.5\" x2=\"216.5\" y1=\"135.9375\" y2=\"135.9375\"/></a><!--MD5=[60a26617385b1d2d0262a64233df1f8d]\n",
       "class E6--><a href=\"psysml:6343fae7-e97a-4dac-816a-0d66812becae\" target=\"_top\" title=\"psysml:6343fae7-e97a-4dac-816a-0d66812becae\" xlink:actuate=\"onRequest\" xlink:href=\"psysml:6343fae7-e97a-4dac-816a-0d66812becae\" xlink:show=\"new\" xlink:title=\"psysml:6343fae7-e97a-4dac-816a-0d66812becae\" xlink:type=\"simple\"><rect fill=\"#FFFFFF\" height=\"160.375\" id=\"E6\" style=\"stroke: #383838; stroke-width: 1.5;\" width=\"95\" x=\"32.5\" y=\"41\"/><text fill=\"#000000\" font-family=\"sans-serif\" font-size=\"12\" font-style=\"italic\" lengthAdjust=\"spacingAndGlyphs\" textLength=\"71\" x=\"44.5\" y=\"57.1387\">«state def»</text><text fill=\"#000000\" font-family=\"sans-serif\" font-size=\"12\" lengthAdjust=\"spacingAndGlyphs\" textLength=\"8\" x=\"76\" y=\"71.1074\">S</text><line style=\"stroke: #383838; stroke-width: 1.5;\" x1=\"33.5\" x2=\"126.5\" y1=\"78.9375\" y2=\"78.9375\"/><text fill=\"#000000\" font-family=\"sans-serif\" font-size=\"11\" lengthAdjust=\"spacingAndGlyphs\" textLength=\"17\" x=\"38.5\" y=\"109.9526\">act</text><text fill=\"#000000\" font-family=\"sans-serif\" font-size=\"11\" lengthAdjust=\"spacingAndGlyphs\" textLength=\"7\" x=\"38.5\" y=\"122.7573\">A</text><text fill=\"#000000\" font-family=\"sans-serif\" font-size=\"11\" lengthAdjust=\"spacingAndGlyphs\" textLength=\"8\" x=\"38.5\" y=\"135.562\">B</text><line style=\"stroke: #383838; stroke-width: 1.0;\" x1=\"33.5\" x2=\"36.5\" y1=\"93.3398\" y2=\"93.3398\"/><text fill=\"#000000\" font-family=\"sans-serif\" font-size=\"11\" lengthAdjust=\"spacingAndGlyphs\" textLength=\"87\" x=\"36.5\" y=\"96.6479\">performActions</text><line style=\"stroke: #383838; stroke-width: 1.0;\" x1=\"123.5\" x2=\"126.5\" y1=\"93.3398\" y2=\"93.3398\"/><text fill=\"#000000\" font-family=\"sans-serif\" font-size=\"11\" lengthAdjust=\"spacingAndGlyphs\" textLength=\"15\" x=\"38.5\" y=\"165.1714\">S1</text><line style=\"stroke: #383838; stroke-width: 1.0;\" x1=\"33.5\" x2=\"62\" y1=\"148.5586\" y2=\"148.5586\"/><text fill=\"#000000\" font-family=\"sans-serif\" font-size=\"11\" lengthAdjust=\"spacingAndGlyphs\" textLength=\"36\" x=\"62\" y=\"151.8667\">states</text><line style=\"stroke: #383838; stroke-width: 1.0;\" x1=\"98\" x2=\"126.5\" y1=\"148.5586\" y2=\"148.5586\"/><text fill=\"#000000\" font-family=\"sans-serif\" font-size=\"11\" lengthAdjust=\"spacingAndGlyphs\" textLength=\"7\" x=\"38.5\" y=\"194.7808\">T</text><line style=\"stroke: #383838; stroke-width: 1.0;\" x1=\"33.5\" x2=\"49.5\" y1=\"178.168\" y2=\"178.168\"/><text fill=\"#000000\" font-family=\"sans-serif\" font-size=\"11\" lengthAdjust=\"spacingAndGlyphs\" textLength=\"61\" x=\"49.5\" y=\"181.4761\">transitions</text><line style=\"stroke: #383838; stroke-width: 1.0;\" x1=\"110.5\" x2=\"126.5\" y1=\"178.168\" y2=\"178.168\"/></a><!--MD5=[1dd1bfd58a279cf63c5f349dbc8fc6a1]\n",
       "class E11--><a href=\"psysml:372708ac-c185-450b-8b20-5b0e6796b1d2\" target=\"_top\" title=\"psysml:372708ac-c185-450b-8b20-5b0e6796b1d2\" xlink:actuate=\"onRequest\" xlink:href=\"psysml:372708ac-c185-450b-8b20-5b0e6796b1d2\" xlink:show=\"new\" xlink:title=\"psysml:372708ac-c185-450b-8b20-5b0e6796b1d2\" xlink:type=\"simple\"><rect fill=\"#FFFFFF\" height=\"45.9375\" id=\"E11\" rx=\"10\" ry=\"10\" style=\"stroke: #383838; stroke-width: 1.5;\" width=\"49\" x=\"55.5\" y=\"261\"/><text fill=\"#000000\" font-family=\"sans-serif\" font-size=\"12\" font-style=\"italic\" lengthAdjust=\"spacingAndGlyphs\" textLength=\"47\" x=\"56.5\" y=\"277.1387\">«state»</text><text fill=\"#000000\" font-family=\"sans-serif\" font-size=\"12\" lengthAdjust=\"spacingAndGlyphs\" textLength=\"16\" x=\"72\" y=\"291.1074\">S2</text><line style=\"stroke: #383838; stroke-width: 1.5;\" x1=\"56.5\" x2=\"103.5\" y1=\"298.9375\" y2=\"298.9375\"/></a><!--MD5=[49a0ec8f00dab7302a31f22d0f0fe584]\n",
       "class E12--><a href=\"psysml:db8ff6bb-65b2-44b6-939f-52bfaf067d5c\" target=\"_top\" title=\"psysml:db8ff6bb-65b2-44b6-939f-52bfaf067d5c\" xlink:actuate=\"onRequest\" xlink:href=\"psysml:db8ff6bb-65b2-44b6-939f-52bfaf067d5c\" xlink:show=\"new\" xlink:title=\"psysml:db8ff6bb-65b2-44b6-939f-52bfaf067d5c\" xlink:type=\"simple\"><rect fill=\"#FFFFFF\" height=\"75.5469\" id=\"E12\" rx=\"10\" ry=\"10\" style=\"stroke: #383838; stroke-width: 1.5;\" width=\"90\" x=\"35\" y=\"367\"/><text fill=\"#000000\" font-family=\"sans-serif\" font-size=\"12\" font-style=\"italic\" lengthAdjust=\"spacingAndGlyphs\" textLength=\"88\" x=\"36\" y=\"383.1387\">«send action»</text><text fill=\"#000000\" font-family=\"sans-serif\" font-size=\"12\" lengthAdjust=\"spacingAndGlyphs\" textLength=\"55\" x=\"52.5\" y=\"397.1074\">doAction</text><line style=\"stroke: #383838; stroke-width: 1.5;\" x1=\"36\" x2=\"124\" y1=\"404.9375\" y2=\"404.9375\"/><text fill=\"#000000\" font-family=\"sans-serif\" font-size=\"11\" lengthAdjust=\"spacingAndGlyphs\" textLength=\"25\" x=\"41\" y=\"435.9526\">item</text><line style=\"stroke: #383838; stroke-width: 1.0;\" x1=\"36\" x2=\"42.5\" y1=\"419.3398\" y2=\"419.3398\"/><text fill=\"#000000\" font-family=\"sans-serif\" font-size=\"11\" lengthAdjust=\"spacingAndGlyphs\" textLength=\"75\" x=\"42.5\" y=\"422.6479\">itemFeatures</text><line style=\"stroke: #383838; stroke-width: 1.0;\" x1=\"117.5\" x2=\"124\" y1=\"419.3398\" y2=\"419.3398\"/></a><!--MD5=[1f5f03483f7de0d5b3680a7f6650997f]\n",
       "reverse link E6 to E11--><a href=\"psysml:372708ac-c185-450b-8b20-5b0e6796b1d2\" target=\"_top\" title=\"psysml:372708ac-c185-450b-8b20-5b0e6796b1d2\" xlink:actuate=\"onRequest\" xlink:href=\"psysml:372708ac-c185-450b-8b20-5b0e6796b1d2\" xlink:show=\"new\" xlink:title=\"psysml:372708ac-c185-450b-8b20-5b0e6796b1d2\" xlink:type=\"simple\"><path d=\"M80,214.17 C80,231.58 80,248.25 80,260.82 \" fill=\"none\" id=\"E6&lt;-E11\" style=\"stroke: #383838; stroke-width: 1.0;\"/><polygon fill=\"#383838\" points=\"80,201.09,76.0066,207.0944,80.0132,213.09,84.0066,207.0856,80,201.09\" style=\"stroke: #383838; stroke-width: 1.0;\"/></a><!--MD5=[94adabc162ce7e41b39f13be14fbaeb3]\n",
       "reverse link E11 to E12--><a href=\"psysml:db8ff6bb-65b2-44b6-939f-52bfaf067d5c\" target=\"_top\" title=\"psysml:db8ff6bb-65b2-44b6-939f-52bfaf067d5c\" xlink:actuate=\"onRequest\" xlink:href=\"psysml:db8ff6bb-65b2-44b6-939f-52bfaf067d5c\" xlink:show=\"new\" xlink:title=\"psysml:db8ff6bb-65b2-44b6-939f-52bfaf067d5c\" xlink:type=\"simple\"><path d=\"M80,320.23 C80,334.82 80,351.76 80,366.58 \" fill=\"none\" id=\"E11&lt;-E12\" style=\"stroke: #383838; stroke-width: 1.0;\"/><polygon fill=\"#FFFFFF\" points=\"80,307.1,76,313.1,80,319.1,84,313.1,80,307.1\" style=\"stroke: #383838; stroke-width: 1.0;\"/></a><!--MD5=[ecf0a5b1bda4f857e0bece80b6bbcebe]\n",
       "@startuml\r\n",
       "skinparam linetype polyline\r\n",
       "skinparam monochrome true\r\n",
       "skinparam classbackgroundcolor white\r\n",
       "skinparam shadowing false\r\n",
       "skinparam wrapWidth 300\r\n",
       "hide circle\r\n",
       "\r\n",
       "package \"StateTest\" as E1  [[psysml:7751d53a-3d7b-46fc-b5d8-bf0ae3c7070c ]]  {\r\n",
       "comp def \"Sig\" as E2  <<(T,blue)attribute def>> [[psysml:85dbfb10-d456-4c59-a9e0-99da33bb7a4b ]] {\r\n",
       "- - attributes - -\r\n",
       "x\r\n",
       "}\r\n",
       "comp def \"Exit\" as E3  <<(T,blue)attribute def>> [[psysml:06ed69bb-03e4-455b-a820-630d0564221d ]] {\r\n",
       "}\r\n",
       "comp usage \"p\" as E4  <<(T,blue)part>> [[psysml:f6292196-12b9-4bba-a758-98820cb4f3f5 ]] {\r\n",
       "}\r\n",
       "comp usage \"act\" as E5  <<(T,blue)action>> [[psysml:d7bec2b6-e32c-41d0-a208-370a3f1c18c8 ]] {\r\n",
       "}\r\n",
       "comp def \"S\" as E6  <<(T,blue)state def>> [[psysml:6343fae7-e97a-4dac-816a-0d66812becae ]] {\r\n",
       "- - performActions - -\r\n",
       "act\r\n",
       "A\r\n",
       "B\r\n",
       "- - states - -\r\n",
       "S1\r\n",
       "- - transitions - -\r\n",
       "T\r\n",
       "}\r\n",
       "comp usage \"S2\" as E11  <<(T,blue)state>> [[psysml:372708ac-c185-450b-8b20-5b0e6796b1d2 ]] {\r\n",
       "}\r\n",
       "comp usage \"doAction\" as E12 <<send action>> [[psysml:db8ff6bb-65b2-44b6-939f-52bfaf067d5c ]] {\r\n",
       "- - itemFeatures - -\r\n",
       "item\r\n",
       "}\r\n",
       "E6 *- - E11 [[psysml:372708ac-c185-450b-8b20-5b0e6796b1d2 ]] \r\n",
       "E11 o- - E12 [[psysml:db8ff6bb-65b2-44b6-939f-52bfaf067d5c ]] \r\n",
       "}\r\n",
       "@enduml\r\n",
       "\n",
       "PlantUML version 1.2020.13(Sat Jun 13 12:26:38 UTC 2020)\n",
       "(EPL source distribution)\n",
       "Java Runtime: OpenJDK Runtime Environment\n",
       "JVM: OpenJDK 64-Bit Server VM\n",
       "Default Encoding: UTF-8\n",
       "Language: en\n",
       "Country: null\n",
       "--></g></svg>"
      ]
     },
     "execution_count": 14,
     "metadata": {},
     "output_type": "execute_result"
    }
   ],
   "source": [
    "%viz --style=\"POLYLINE\" --view=\"Sequence\" \"StateTest\""
   ]
  },
  {
   "cell_type": "code",
   "execution_count": 15,
   "id": "supposed-austin",
   "metadata": {
    "execution": {
     "iopub.execute_input": "2021-03-25T13:48:10.722169Z",
     "iopub.status.busy": "2021-03-25T13:48:10.721578Z",
     "iopub.status.idle": "2021-03-25T13:48:10.907560Z",
     "shell.execute_reply": "2021-03-25T13:48:10.905971Z"
    }
   },
   "outputs": [
    {
     "data": {
      "image/svg+xml": [
       "<?xml version=\"1.0\" encoding=\"UTF-8\" standalone=\"no\"?><svg xmlns=\"http://www.w3.org/2000/svg\" xmlns:xlink=\"http://www.w3.org/1999/xlink\" contentScriptType=\"application/ecmascript\" contentStyleType=\"text/css\" height=\"570px\" preserveAspectRatio=\"none\" style=\"width:819px;height:570px;\" version=\"1.1\" viewBox=\"0 0 819 570\" width=\"819px\" zoomAndPan=\"magnify\"><defs/><g><!--MD5=[fbc87193dbaf4d95561dea2c320d4a47]\n",
       "cluster E1--><a href=\"psysml:7751d53a-3d7b-46fc-b5d8-bf0ae3c7070c\" target=\"_top\" title=\"psysml:7751d53a-3d7b-46fc-b5d8-bf0ae3c7070c\" xlink:actuate=\"onRequest\" xlink:href=\"psysml:7751d53a-3d7b-46fc-b5d8-bf0ae3c7070c\" xlink:show=\"new\" xlink:title=\"psysml:7751d53a-3d7b-46fc-b5d8-bf0ae3c7070c\" xlink:type=\"simple\"><polygon fill=\"#FFFFFF\" points=\"16,6,98,6,105,28.2969,797,28.2969,797,558,16,558,16,6\" style=\"stroke: #000000; stroke-width: 1.5;\"/><line style=\"stroke: #000000; stroke-width: 1.5;\" x1=\"16\" x2=\"105\" y1=\"28.2969\" y2=\"28.2969\"/><text fill=\"#000000\" font-family=\"sans-serif\" font-size=\"14\" font-weight=\"bold\" lengthAdjust=\"spacingAndGlyphs\" textLength=\"76\" x=\"20\" y=\"20.9951\">StateTest</text></a><!--MD5=[14e3b0961a2654348d326746436168a1]\n",
       "cluster E6--><a href=\"psysml:6343fae7-e97a-4dac-816a-0d66812becae\" target=\"_top\" title=\"psysml:6343fae7-e97a-4dac-816a-0d66812becae\" xlink:actuate=\"onRequest\" xlink:href=\"psysml:6343fae7-e97a-4dac-816a-0d66812becae\" xlink:show=\"new\" xlink:title=\"psysml:6343fae7-e97a-4dac-816a-0d66812becae\" xlink:type=\"simple\"><rect fill=\"#FFFFFF\" height=\"485\" id=\"E6\" style=\"stroke: #383838; stroke-width: 1.5;\" width=\"327\" x=\"446\" y=\"49\"/><rect fill=\"#F8F8F8\" height=\"37.9375\" style=\"stroke: #383838; stroke-width: 1.5;\" width=\"327\" x=\"446\" y=\"49\"/><text fill=\"#000000\" font-family=\"sans-serif\" font-size=\"12\" font-style=\"italic\" lengthAdjust=\"spacingAndGlyphs\" textLength=\"71\" x=\"574\" y=\"65.1387\">«state def»</text><text fill=\"#000000\" font-family=\"sans-serif\" font-size=\"12\" lengthAdjust=\"spacingAndGlyphs\" textLength=\"8\" x=\"605.5\" y=\"79.1074\">S</text><line style=\"stroke: #383838; stroke-width: 1.0;\" x1=\"446\" x2=\"773\" y1=\"132.8438\" y2=\"132.8438\"/><text fill=\"#000000\" font-family=\"sans-serif\" font-size=\"12\" font-weight=\"bold\" lengthAdjust=\"spacingAndGlyphs\" textLength=\"38\" x=\"451\" y=\"100.0762\">entry</text><text fill=\"#000000\" font-family=\"sans-serif\" font-size=\"12\" lengthAdjust=\"spacingAndGlyphs\" textLength=\"16\" x=\"489\" y=\"100.0762\">/ A</text><text fill=\"#000000\" font-family=\"sans-serif\" font-size=\"12\" font-weight=\"bold\" lengthAdjust=\"spacingAndGlyphs\" textLength=\"18\" x=\"451\" y=\"114.0449\">do</text><text fill=\"#000000\" font-family=\"sans-serif\" font-size=\"12\" lengthAdjust=\"spacingAndGlyphs\" textLength=\"16\" x=\"469\" y=\"114.0449\">/ B</text><text fill=\"#000000\" font-family=\"sans-serif\" font-size=\"12\" font-weight=\"bold\" lengthAdjust=\"spacingAndGlyphs\" textLength=\"26\" x=\"451\" y=\"128.0137\">exit</text><text fill=\"#000000\" font-family=\"sans-serif\" font-size=\"12\" lengthAdjust=\"spacingAndGlyphs\" textLength=\"28\" x=\"477\" y=\"128.0137\">/ act</text></a><!--MD5=[b4997ac47864f28c2f74865a473b2911]\n",
       "class E2--><a href=\"psysml:85dbfb10-d456-4c59-a9e0-99da33bb7a4b\" target=\"_top\" title=\"psysml:85dbfb10-d456-4c59-a9e0-99da33bb7a4b\" xlink:actuate=\"onRequest\" xlink:href=\"psysml:85dbfb10-d456-4c59-a9e0-99da33bb7a4b\" xlink:show=\"new\" xlink:title=\"psysml:85dbfb10-d456-4c59-a9e0-99da33bb7a4b\" xlink:type=\"simple\"><rect fill=\"#FFFFFF\" height=\"75.5469\" id=\"E2\" style=\"stroke: #383838; stroke-width: 1.5;\" width=\"95\" x=\"334.5\" y=\"119\"/><text fill=\"#000000\" font-family=\"sans-serif\" font-size=\"12\" font-style=\"italic\" lengthAdjust=\"spacingAndGlyphs\" textLength=\"93\" x=\"335.5\" y=\"135.1387\">«attribute def»</text><text fill=\"#000000\" font-family=\"sans-serif\" font-size=\"12\" lengthAdjust=\"spacingAndGlyphs\" textLength=\"19\" x=\"372.5\" y=\"149.1074\">Sig</text><line style=\"stroke: #383838; stroke-width: 1.5;\" x1=\"335.5\" x2=\"428.5\" y1=\"156.9375\" y2=\"156.9375\"/><text fill=\"#000000\" font-family=\"sans-serif\" font-size=\"11\" lengthAdjust=\"spacingAndGlyphs\" textLength=\"6\" x=\"340.5\" y=\"187.9526\">x</text><line style=\"stroke: #383838; stroke-width: 1.0;\" x1=\"335.5\" x2=\"354.5\" y1=\"171.3398\" y2=\"171.3398\"/><text fill=\"#000000\" font-family=\"sans-serif\" font-size=\"11\" lengthAdjust=\"spacingAndGlyphs\" textLength=\"55\" x=\"354.5\" y=\"174.6479\">attributes</text><line style=\"stroke: #383838; stroke-width: 1.0;\" x1=\"409.5\" x2=\"428.5\" y1=\"171.3398\" y2=\"171.3398\"/></a><!--MD5=[09b614a08d8cba4a07c9adeb5e0fee81]\n",
       "class E3--><a href=\"psysml:06ed69bb-03e4-455b-a820-630d0564221d\" target=\"_top\" title=\"psysml:06ed69bb-03e4-455b-a820-630d0564221d\" xlink:actuate=\"onRequest\" xlink:href=\"psysml:06ed69bb-03e4-455b-a820-630d0564221d\" xlink:show=\"new\" xlink:title=\"psysml:06ed69bb-03e4-455b-a820-630d0564221d\" xlink:type=\"simple\"><rect fill=\"#FFFFFF\" height=\"45.9375\" id=\"E3\" style=\"stroke: #383838; stroke-width: 1.5;\" width=\"95\" x=\"204.5\" y=\"134\"/><text fill=\"#000000\" font-family=\"sans-serif\" font-size=\"12\" font-style=\"italic\" lengthAdjust=\"spacingAndGlyphs\" textLength=\"93\" x=\"205.5\" y=\"150.1387\">«attribute def»</text><text fill=\"#000000\" font-family=\"sans-serif\" font-size=\"12\" lengthAdjust=\"spacingAndGlyphs\" textLength=\"22\" x=\"241\" y=\"164.1074\">Exit</text><line style=\"stroke: #383838; stroke-width: 1.5;\" x1=\"205.5\" x2=\"298.5\" y1=\"171.9375\" y2=\"171.9375\"/></a><!--MD5=[ebbe1d658d1005bcc118a6aa81145e00]\n",
       "class E4--><a href=\"psysml:f6292196-12b9-4bba-a758-98820cb4f3f5\" target=\"_top\" title=\"psysml:f6292196-12b9-4bba-a758-98820cb4f3f5\" xlink:actuate=\"onRequest\" xlink:href=\"psysml:f6292196-12b9-4bba-a758-98820cb4f3f5\" xlink:show=\"new\" xlink:title=\"psysml:f6292196-12b9-4bba-a758-98820cb4f3f5\" xlink:type=\"simple\"><rect fill=\"#FFFFFF\" height=\"45.9375\" id=\"E4\" rx=\"10\" ry=\"10\" style=\"stroke: #383838; stroke-width: 1.5;\" width=\"42\" x=\"127\" y=\"134\"/><text fill=\"#000000\" font-family=\"sans-serif\" font-size=\"12\" font-style=\"italic\" lengthAdjust=\"spacingAndGlyphs\" textLength=\"40\" x=\"128\" y=\"150.1387\">«part»</text><text fill=\"#000000\" font-family=\"sans-serif\" font-size=\"12\" lengthAdjust=\"spacingAndGlyphs\" textLength=\"8\" x=\"144\" y=\"164.1074\">p</text><line style=\"stroke: #383838; stroke-width: 1.5;\" x1=\"128\" x2=\"168\" y1=\"171.9375\" y2=\"171.9375\"/></a><g id=\"E1.E5\"><a href=\"psysml:d7bec2b6-e32c-41d0-a208-370a3f1c18c8\" target=\"_top\" title=\"psysml:d7bec2b6-e32c-41d0-a208-370a3f1c18c8\" xlink:actuate=\"onRequest\" xlink:href=\"psysml:d7bec2b6-e32c-41d0-a208-370a3f1c18c8\" xlink:show=\"new\" xlink:title=\"psysml:d7bec2b6-e32c-41d0-a208-370a3f1c18c8\" xlink:type=\"simple\"><rect fill=\"#FFFFFF\" height=\"42.9375\" id=\"E5\" rx=\"10\" ry=\"10\" style=\"stroke: #383838; stroke-width: 1.5;\" width=\"60\" x=\"32\" y=\"135.5\"/><rect fill=\"#F8F8F8\" height=\"37.9375\" rx=\"10\" ry=\"10\" style=\"stroke: #F8F8F8; stroke-width: 1.5;\" width=\"60\" x=\"32\" y=\"135.5\"/><rect fill=\"#F8F8F8\" height=\"10\" style=\"stroke: #F8F8F8; stroke-width: 1.5;\" width=\"60\" x=\"32\" y=\"163.4375\"/><rect fill=\"none\" height=\"42.9375\" id=\"E5\" rx=\"10\" ry=\"10\" style=\"stroke: #383838; stroke-width: 1.5;\" width=\"60\" x=\"32\" y=\"135.5\"/><text fill=\"#000000\" font-family=\"sans-serif\" font-size=\"12\" font-style=\"italic\" lengthAdjust=\"spacingAndGlyphs\" textLength=\"53\" x=\"35.5\" y=\"151.6387\">«action»</text><text fill=\"#000000\" font-family=\"sans-serif\" font-size=\"12\" lengthAdjust=\"spacingAndGlyphs\" textLength=\"20\" x=\"52\" y=\"165.6074\">act</text></a></g><ellipse cx=\"558\" cy=\"157\" fill=\"#000000\" rx=\"10\" ry=\"10\" style=\"stroke: none; stroke-width: 1.0;\"/><ellipse cx=\"558\" cy=\"508\" fill=\"none\" rx=\"10\" ry=\"10\" style=\"stroke: #000000; stroke-width: 1.0;\"/><ellipse cx=\"558.5\" cy=\"508.5\" fill=\"#000000\" rx=\"6\" ry=\"6\" style=\"stroke: none; stroke-width: 1.0;\"/><g id=\"E1.E6.E7\"><a href=\"psysml:df9bf7b7-ea8a-42e1-9b23-b8091030681c\" target=\"_top\" title=\"psysml:df9bf7b7-ea8a-42e1-9b23-b8091030681c\" xlink:actuate=\"onRequest\" xlink:href=\"psysml:df9bf7b7-ea8a-42e1-9b23-b8091030681c\" xlink:show=\"new\" xlink:title=\"psysml:df9bf7b7-ea8a-42e1-9b23-b8091030681c\" xlink:type=\"simple\"><rect fill=\"#FFFFFF\" height=\"40\" id=\"E7\" rx=\"10\" ry=\"10\" style=\"stroke: #383838; stroke-width: 1.5;\" width=\"50\" x=\"533\" y=\"256\"/><rect fill=\"#F8F8F8\" height=\"23.9688\" rx=\"10\" ry=\"10\" style=\"stroke: #F8F8F8; stroke-width: 1.5;\" width=\"50\" x=\"533\" y=\"256\"/><rect fill=\"#F8F8F8\" height=\"10\" style=\"stroke: #F8F8F8; stroke-width: 1.5;\" width=\"50\" x=\"533\" y=\"269.9688\"/><rect fill=\"none\" height=\"40\" id=\"E7\" rx=\"10\" ry=\"10\" style=\"stroke: #383838; stroke-width: 1.5;\" width=\"50\" x=\"533\" y=\"256\"/><text fill=\"#000000\" font-family=\"sans-serif\" font-size=\"12\" lengthAdjust=\"spacingAndGlyphs\" textLength=\"16\" x=\"550\" y=\"272.1387\">S1</text></a></g><g id=\"E1.E6.E8\"><a href=\"psysml:372708ac-c185-450b-8b20-5b0e6796b1d2\" target=\"_top\" title=\"psysml:372708ac-c185-450b-8b20-5b0e6796b1d2\" xlink:actuate=\"onRequest\" xlink:href=\"psysml:372708ac-c185-450b-8b20-5b0e6796b1d2\" xlink:show=\"new\" xlink:title=\"psysml:372708ac-c185-450b-8b20-5b0e6796b1d2\" xlink:type=\"simple\"><rect fill=\"#FFFFFF\" height=\"47.9375\" id=\"E8\" rx=\"10\" ry=\"10\" style=\"stroke: #383838; stroke-width: 1.5;\" width=\"50\" x=\"533\" y=\"373\"/><rect fill=\"#F8F8F8\" height=\"23.9688\" rx=\"10\" ry=\"10\" style=\"stroke: #F8F8F8; stroke-width: 1.5;\" width=\"50\" x=\"533\" y=\"373\"/><rect fill=\"#F8F8F8\" height=\"10\" style=\"stroke: #F8F8F8; stroke-width: 1.5;\" width=\"50\" x=\"533\" y=\"386.9688\"/><rect fill=\"none\" height=\"47.9375\" id=\"E8\" rx=\"10\" ry=\"10\" style=\"stroke: #383838; stroke-width: 1.5;\" width=\"50\" x=\"533\" y=\"373\"/><text fill=\"#000000\" font-family=\"sans-serif\" font-size=\"12\" lengthAdjust=\"spacingAndGlyphs\" textLength=\"16\" x=\"550\" y=\"389.1387\">S2</text><line style=\"stroke: #383838; stroke-width: 1.0;\" x1=\"533\" x2=\"583\" y1=\"396.9688\" y2=\"396.9688\"/><text fill=\"#000000\" font-family=\"sans-serif\" font-size=\"12\" font-weight=\"bold\" lengthAdjust=\"spacingAndGlyphs\" textLength=\"18\" x=\"538\" y=\"410.1074\">do</text><text fill=\"#000000\" font-family=\"sans-serif\" font-size=\"12\" lengthAdjust=\"spacingAndGlyphs\" textLength=\"4\" x=\"556\" y=\"410.1074\">/</text></a></g><!--MD5=[5a531d3a85f3339e6e197084acb48195]\n",
       "link *start*E6 to E7--><a href=\"psysml:63e0b6b5-21d2-46c8-92d5-87e224212dbf\" target=\"_top\" title=\"psysml:63e0b6b5-21d2-46c8-92d5-87e224212dbf\" xlink:actuate=\"onRequest\" xlink:href=\"psysml:63e0b6b5-21d2-46c8-92d5-87e224212dbf\" xlink:show=\"new\" xlink:title=\"psysml:63e0b6b5-21d2-46c8-92d5-87e224212dbf\" xlink:type=\"simple\"><path d=\"M558,167.18 C558,184.98 558,224.73 558,250.67 \" fill=\"none\" id=\"*start*E6-&gt;E7\" style=\"stroke: #383838; stroke-width: 1.0;\"/><polygon fill=\"#383838\" points=\"558,255.98,562,246.98,558,250.98,554,246.98,558,255.98\" style=\"stroke: #383838; stroke-width: 1.0;\"/></a><!--MD5=[7ec9a8babba89ddcae1318ca9fb3c814]\n",
       "link E8 to *end*E6--><a href=\"psysml:60b88d5b-1ac8-4d6b-b052-bf1a623237b5\" target=\"_top\" title=\"psysml:60b88d5b-1ac8-4d6b-b052-bf1a623237b5\" xlink:actuate=\"onRequest\" xlink:href=\"psysml:60b88d5b-1ac8-4d6b-b052-bf1a623237b5\" xlink:show=\"new\" xlink:title=\"psysml:60b88d5b-1ac8-4d6b-b052-bf1a623237b5\" xlink:type=\"simple\"><path d=\"M558,421.12 C558,442.75 558,474.39 558,492.62 \" fill=\"none\" id=\"E8-&gt;*end*E6\" style=\"stroke: #383838; stroke-width: 1.0;\"/><polygon fill=\"#383838\" points=\"558,497.82,562,488.82,558,492.82,554,488.82,558,497.82\" style=\"stroke: #383838; stroke-width: 1.0;\"/><text fill=\"#000000\" font-family=\"sans-serif\" font-size=\"13\" lengthAdjust=\"spacingAndGlyphs\" textLength=\"23\" x=\"559\" y=\"464.0669\">Exit</text></a><!--MD5=[79bc8f324ef4d02c541433f2e6e513c3]\n",
       "link E7 to E8--><a href=\"psysml:b9f5e72d-c680-433c-ba5c-575fc587f4f3\" target=\"_top\" title=\"psysml:b9f5e72d-c680-433c-ba5c-575fc587f4f3\" xlink:actuate=\"onRequest\" xlink:href=\"psysml:b9f5e72d-c680-433c-ba5c-575fc587f4f3\" xlink:show=\"new\" xlink:title=\"psysml:b9f5e72d-c680-433c-ba5c-575fc587f4f3\" xlink:type=\"simple\"><path d=\"M533.07,296.08 C515.1,309.84 494,326 494,326 C494,326 494,343 494,343 C494,343 511.69,357.65 528.47,371.55 \" fill=\"none\" id=\"E7-&gt;E8\" style=\"stroke: #383838; stroke-width: 1.0;\"/><polygon fill=\"#383838\" points=\"532.71,375.05,528.3341,366.2267,528.8607,371.8589,523.2284,372.3855,532.71,375.05\" style=\"stroke: #383838; stroke-width: 1.0;\"/><text fill=\"#000000\" font-family=\"sans-serif\" font-size=\"13\" lengthAdjust=\"spacingAndGlyphs\" textLength=\"81\" x=\"495\" y=\"339.0669\">Sig /action D</text></a><!--MD5=[bfa3c8b0d15052fdf50ae9310b491027]\n",
       "link E8 to E7--><a href=\"psysml:8fe1fd83-9e96-4978-be75-1a7ead5c4a85\" target=\"_top\" title=\"psysml:8fe1fd83-9e96-4978-be75-1a7ead5c4a85\" xlink:actuate=\"onRequest\" xlink:href=\"psysml:8fe1fd83-9e96-4978-be75-1a7ead5c4a85\" xlink:show=\"new\" xlink:title=\"psysml:8fe1fd83-9e96-4978-be75-1a7ead5c4a85\" xlink:type=\"simple\"><path d=\"M568.02,372.91 C574.22,358.63 581,343 581,343 C581,343 581,326 581,326 C581,326 574.98,313.18 569.11,300.66 \" fill=\"none\" id=\"E8-&gt;E7\" style=\"stroke: #383838; stroke-width: 1.0;\"/><polygon fill=\"#383838\" points=\"566.96,296.08,567.1429,305.9272,569.0752,300.6106,574.3918,302.5428,566.96,296.08\" style=\"stroke: #383838; stroke-width: 1.0;\"/><text fill=\"#000000\" font-family=\"sans-serif\" font-size=\"13\" lengthAdjust=\"spacingAndGlyphs\" textLength=\"135\" x=\"582\" y=\"339.0669\">Sig [true]/send s to p</text></a><!--MD5=[2a21a5c202a9a62979a4642bc524f884]\n",
       "@startuml\r\n",
       "skinparam linetype polyline\r\n",
       "skinparam monochrome true\r\n",
       "skinparam classbackgroundcolor white\r\n",
       "skinparam shadowing false\r\n",
       "skinparam wrapWidth 300\r\n",
       "hide circle\r\n",
       "\r\n",
       "package \"StateTest\" as E1  [[psysml:7751d53a-3d7b-46fc-b5d8-bf0ae3c7070c ]]  {\r\n",
       "comp def \"Sig\" as E2  <<(T,blue)attribute def>> [[psysml:85dbfb10-d456-4c59-a9e0-99da33bb7a4b ]] {\r\n",
       "- - attributes - -\r\n",
       "x\r\n",
       "}\r\n",
       "comp def \"Exit\" as E3  <<(T,blue)attribute def>> [[psysml:06ed69bb-03e4-455b-a820-630d0564221d ]] {\r\n",
       "}\r\n",
       "comp usage \"p\" as E4  <<(T,blue)part>> [[psysml:f6292196-12b9-4bba-a758-98820cb4f3f5 ]] {\r\n",
       "}\r\n",
       "rec usage \"act\" as E5  <<(T,blue)action>> [[psysml:d7bec2b6-e32c-41d0-a208-370a3f1c18c8 ]] {\r\n",
       "}\r\n",
       "\r\n",
       "rec def \"S\" as E6  <<(T,blue)state def>> [[psysml:6343fae7-e97a-4dac-816a-0d66812becae ]] {\r\n",
       "rec usage \"S1\" as E7 [[psysml:df9bf7b7-ea8a-42e1-9b23-b8091030681c ]] {\r\n",
       "}\r\n",
       "\r\n",
       "rec usage \"S2\" as E8 [[psysml:372708ac-c185-450b-8b20-5b0e6796b1d2 ]] {\r\n",
       "desc \"S2\" as E8  : **do**/ \r\n",
       "}\r\n",
       "\r\n",
       "[*] - -> E7 [[psysml:63e0b6b5-21d2-46c8-92d5-87e224212dbf ]] \r\n",
       "E8  - -> [*] [[psysml:60b88d5b-1ac8-4d6b-b052-bf1a623237b5 ]] : Exit \r\n",
       "desc \"S\" as E6  : **entry**/ A\r\n",
       "desc \"S\" as E6  : **do**/ B\r\n",
       "desc \"S\" as E6  : **exit**/ act \r\n",
       "}\r\n",
       "\r\n",
       "E7  - -> E8 [[psysml:b9f5e72d-c680-433c-ba5c-575fc587f4f3 ]] : Sig /action D\r\n",
       "E8  - -> E7 [[psysml:8fe1fd83-9e96-4978-be75-1a7ead5c4a85 ]] : Sig [true]/send s to p\r\n",
       "}\r\n",
       "@enduml\r\n",
       "\n",
       "PlantUML version 1.2020.13(Sat Jun 13 12:26:38 UTC 2020)\n",
       "(EPL source distribution)\n",
       "Java Runtime: OpenJDK Runtime Environment\n",
       "JVM: OpenJDK 64-Bit Server VM\n",
       "Default Encoding: UTF-8\n",
       "Language: en\n",
       "Country: null\n",
       "--></g></svg>"
      ]
     },
     "execution_count": 15,
     "metadata": {},
     "output_type": "execute_result"
    }
   ],
   "source": [
    "%viz --style=\"POLYLINE\" --view=\"MIXED\" \"StateTest\""
   ]
  },
  {
   "cell_type": "code",
   "execution_count": 16,
   "id": "three-burton",
   "metadata": {
    "execution": {
     "iopub.execute_input": "2021-03-25T13:48:10.958016Z",
     "iopub.status.busy": "2021-03-25T13:48:10.957456Z",
     "iopub.status.idle": "2021-03-25T13:48:11.148813Z",
     "shell.execute_reply": "2021-03-25T13:48:11.147057Z"
    }
   },
   "outputs": [
    {
     "data": {
      "image/svg+xml": [
       "<?xml version=\"1.0\" encoding=\"UTF-8\" standalone=\"no\"?><svg xmlns=\"http://www.w3.org/2000/svg\" xmlns:xlink=\"http://www.w3.org/1999/xlink\" contentScriptType=\"application/ecmascript\" contentStyleType=\"text/css\" height=\"633px\" preserveAspectRatio=\"none\" style=\"width:652px;height:633px;\" version=\"1.1\" viewBox=\"0 0 652 633\" width=\"652px\" zoomAndPan=\"magnify\"><defs/><g><!--MD5=[fbc87193dbaf4d95561dea2c320d4a47]\n",
       "cluster E1--><a href=\"psysml:7751d53a-3d7b-46fc-b5d8-bf0ae3c7070c\" target=\"_top\" title=\"psysml:7751d53a-3d7b-46fc-b5d8-bf0ae3c7070c\" xlink:actuate=\"onRequest\" xlink:href=\"psysml:7751d53a-3d7b-46fc-b5d8-bf0ae3c7070c\" xlink:show=\"new\" xlink:title=\"psysml:7751d53a-3d7b-46fc-b5d8-bf0ae3c7070c\" xlink:type=\"simple\"><polygon fill=\"#FFFFFF\" points=\"16,6,98,6,105,28.2969,630,28.2969,630,621,16,621,16,6\" style=\"stroke: #000000; stroke-width: 1.5;\"/><line style=\"stroke: #000000; stroke-width: 1.5;\" x1=\"16\" x2=\"105\" y1=\"28.2969\" y2=\"28.2969\"/><text fill=\"#000000\" font-family=\"sans-serif\" font-size=\"14\" font-weight=\"bold\" lengthAdjust=\"spacingAndGlyphs\" textLength=\"76\" x=\"20\" y=\"20.9951\">StateTest</text></a><!--MD5=[14e3b0961a2654348d326746436168a1]\n",
       "cluster E6--><a href=\"psysml:6343fae7-e97a-4dac-816a-0d66812becae\" target=\"_top\" title=\"psysml:6343fae7-e97a-4dac-816a-0d66812becae\" xlink:actuate=\"onRequest\" xlink:href=\"psysml:6343fae7-e97a-4dac-816a-0d66812becae\" xlink:show=\"new\" xlink:title=\"psysml:6343fae7-e97a-4dac-816a-0d66812becae\" xlink:type=\"simple\"><rect fill=\"#FFFFFF\" height=\"223\" id=\"E6\" style=\"stroke: #383838; stroke-width: 1.5;\" width=\"552.5\" x=\"53.5\" y=\"49\"/><rect fill=\"#F8F8F8\" height=\"37.9375\" style=\"stroke: #383838; stroke-width: 1.5;\" width=\"552.5\" x=\"53.5\" y=\"49\"/><text fill=\"#000000\" font-family=\"sans-serif\" font-size=\"12\" font-style=\"italic\" lengthAdjust=\"spacingAndGlyphs\" textLength=\"71\" x=\"294.25\" y=\"65.1387\">«state def»</text><text fill=\"#000000\" font-family=\"sans-serif\" font-size=\"12\" lengthAdjust=\"spacingAndGlyphs\" textLength=\"8\" x=\"325.75\" y=\"79.1074\">S</text><line style=\"stroke: #383838; stroke-width: 1.0;\" x1=\"53.5\" x2=\"606\" y1=\"132.8438\" y2=\"132.8438\"/><text fill=\"#000000\" font-family=\"sans-serif\" font-size=\"12\" font-weight=\"bold\" lengthAdjust=\"spacingAndGlyphs\" textLength=\"38\" x=\"58.5\" y=\"100.0762\">entry</text><text fill=\"#000000\" font-family=\"sans-serif\" font-size=\"12\" lengthAdjust=\"spacingAndGlyphs\" textLength=\"16\" x=\"96.5\" y=\"100.0762\">/ A</text><text fill=\"#000000\" font-family=\"sans-serif\" font-size=\"12\" font-weight=\"bold\" lengthAdjust=\"spacingAndGlyphs\" textLength=\"18\" x=\"58.5\" y=\"114.0449\">do</text><text fill=\"#000000\" font-family=\"sans-serif\" font-size=\"12\" lengthAdjust=\"spacingAndGlyphs\" textLength=\"16\" x=\"76.5\" y=\"114.0449\">/ B</text><text fill=\"#000000\" font-family=\"sans-serif\" font-size=\"12\" font-weight=\"bold\" lengthAdjust=\"spacingAndGlyphs\" textLength=\"26\" x=\"58.5\" y=\"128.0137\">exit</text><text fill=\"#000000\" font-family=\"sans-serif\" font-size=\"12\" lengthAdjust=\"spacingAndGlyphs\" textLength=\"28\" x=\"84.5\" y=\"128.0137\">/ act</text></a><!--MD5=[b4997ac47864f28c2f74865a473b2911]\n",
       "class E2--><a href=\"psysml:85dbfb10-d456-4c59-a9e0-99da33bb7a4b\" target=\"_top\" title=\"psysml:85dbfb10-d456-4c59-a9e0-99da33bb7a4b\" xlink:actuate=\"onRequest\" xlink:href=\"psysml:85dbfb10-d456-4c59-a9e0-99da33bb7a4b\" xlink:show=\"new\" xlink:title=\"psysml:85dbfb10-d456-4c59-a9e0-99da33bb7a4b\" xlink:type=\"simple\"><rect fill=\"#FFFFFF\" height=\"75.5469\" id=\"E2\" style=\"stroke: #383838; stroke-width: 1.5;\" width=\"95\" x=\"32\" y=\"288\"/><text fill=\"#000000\" font-family=\"sans-serif\" font-size=\"12\" font-style=\"italic\" lengthAdjust=\"spacingAndGlyphs\" textLength=\"93\" x=\"33\" y=\"304.1387\">«attribute def»</text><text fill=\"#000000\" font-family=\"sans-serif\" font-size=\"12\" lengthAdjust=\"spacingAndGlyphs\" textLength=\"19\" x=\"70\" y=\"318.1074\">Sig</text><line style=\"stroke: #383838; stroke-width: 1.5;\" x1=\"33\" x2=\"126\" y1=\"325.9375\" y2=\"325.9375\"/><text fill=\"#000000\" font-family=\"sans-serif\" font-size=\"11\" lengthAdjust=\"spacingAndGlyphs\" textLength=\"6\" x=\"38\" y=\"356.9526\">x</text><line style=\"stroke: #383838; stroke-width: 1.0;\" x1=\"33\" x2=\"52\" y1=\"340.3398\" y2=\"340.3398\"/><text fill=\"#000000\" font-family=\"sans-serif\" font-size=\"11\" lengthAdjust=\"spacingAndGlyphs\" textLength=\"55\" x=\"52\" y=\"343.6479\">attributes</text><line style=\"stroke: #383838; stroke-width: 1.0;\" x1=\"107\" x2=\"126\" y1=\"340.3398\" y2=\"340.3398\"/></a><!--MD5=[09b614a08d8cba4a07c9adeb5e0fee81]\n",
       "class E3--><a href=\"psysml:06ed69bb-03e4-455b-a820-630d0564221d\" target=\"_top\" title=\"psysml:06ed69bb-03e4-455b-a820-630d0564221d\" xlink:actuate=\"onRequest\" xlink:href=\"psysml:06ed69bb-03e4-455b-a820-630d0564221d\" xlink:show=\"new\" xlink:title=\"psysml:06ed69bb-03e4-455b-a820-630d0564221d\" xlink:type=\"simple\"><rect fill=\"#FFFFFF\" height=\"45.9375\" id=\"E3\" style=\"stroke: #383838; stroke-width: 1.5;\" width=\"95\" x=\"32\" y=\"399\"/><text fill=\"#000000\" font-family=\"sans-serif\" font-size=\"12\" font-style=\"italic\" lengthAdjust=\"spacingAndGlyphs\" textLength=\"93\" x=\"33\" y=\"415.1387\">«attribute def»</text><text fill=\"#000000\" font-family=\"sans-serif\" font-size=\"12\" lengthAdjust=\"spacingAndGlyphs\" textLength=\"22\" x=\"68.5\" y=\"429.1074\">Exit</text><line style=\"stroke: #383838; stroke-width: 1.5;\" x1=\"33\" x2=\"126\" y1=\"436.9375\" y2=\"436.9375\"/></a><!--MD5=[ebbe1d658d1005bcc118a6aa81145e00]\n",
       "class E4--><a href=\"psysml:f6292196-12b9-4bba-a758-98820cb4f3f5\" target=\"_top\" title=\"psysml:f6292196-12b9-4bba-a758-98820cb4f3f5\" xlink:actuate=\"onRequest\" xlink:href=\"psysml:f6292196-12b9-4bba-a758-98820cb4f3f5\" xlink:show=\"new\" xlink:title=\"psysml:f6292196-12b9-4bba-a758-98820cb4f3f5\" xlink:type=\"simple\"><rect fill=\"#FFFFFF\" height=\"45.9375\" id=\"E4\" rx=\"10\" ry=\"10\" style=\"stroke: #383838; stroke-width: 1.5;\" width=\"42\" x=\"58.5\" y=\"480\"/><text fill=\"#000000\" font-family=\"sans-serif\" font-size=\"12\" font-style=\"italic\" lengthAdjust=\"spacingAndGlyphs\" textLength=\"40\" x=\"59.5\" y=\"496.1387\">«part»</text><text fill=\"#000000\" font-family=\"sans-serif\" font-size=\"12\" lengthAdjust=\"spacingAndGlyphs\" textLength=\"8\" x=\"75.5\" y=\"510.1074\">p</text><line style=\"stroke: #383838; stroke-width: 1.5;\" x1=\"59.5\" x2=\"99.5\" y1=\"517.9375\" y2=\"517.9375\"/></a><g id=\"E1.E5\"><a href=\"psysml:d7bec2b6-e32c-41d0-a208-370a3f1c18c8\" target=\"_top\" title=\"psysml:d7bec2b6-e32c-41d0-a208-370a3f1c18c8\" xlink:actuate=\"onRequest\" xlink:href=\"psysml:d7bec2b6-e32c-41d0-a208-370a3f1c18c8\" xlink:show=\"new\" xlink:title=\"psysml:d7bec2b6-e32c-41d0-a208-370a3f1c18c8\" xlink:type=\"simple\"><rect fill=\"#FFFFFF\" height=\"42.9375\" id=\"E5\" rx=\"10\" ry=\"10\" style=\"stroke: #383838; stroke-width: 1.5;\" width=\"60\" x=\"49.5\" y=\"561.5\"/><rect fill=\"#F8F8F8\" height=\"37.9375\" rx=\"10\" ry=\"10\" style=\"stroke: #F8F8F8; stroke-width: 1.5;\" width=\"60\" x=\"49.5\" y=\"561.5\"/><rect fill=\"#F8F8F8\" height=\"10\" style=\"stroke: #F8F8F8; stroke-width: 1.5;\" width=\"60\" x=\"49.5\" y=\"589.4375\"/><rect fill=\"none\" height=\"42.9375\" id=\"E5\" rx=\"10\" ry=\"10\" style=\"stroke: #383838; stroke-width: 1.5;\" width=\"60\" x=\"49.5\" y=\"561.5\"/><text fill=\"#000000\" font-family=\"sans-serif\" font-size=\"12\" font-style=\"italic\" lengthAdjust=\"spacingAndGlyphs\" textLength=\"53\" x=\"53\" y=\"577.6387\">«action»</text><text fill=\"#000000\" font-family=\"sans-serif\" font-size=\"12\" lengthAdjust=\"spacingAndGlyphs\" textLength=\"20\" x=\"69.5\" y=\"591.6074\">act</text></a></g><ellipse cx=\"79.5\" cy=\"194\" fill=\"#000000\" rx=\"10\" ry=\"10\" style=\"stroke: none; stroke-width: 1.0;\"/><ellipse cx=\"580\" cy=\"196\" fill=\"none\" rx=\"10\" ry=\"10\" style=\"stroke: #000000; stroke-width: 1.0;\"/><ellipse cx=\"580.5\" cy=\"196.5\" fill=\"#000000\" rx=\"6\" ry=\"6\" style=\"stroke: none; stroke-width: 1.0;\"/><g id=\"E1.E6.E7\"><a href=\"psysml:df9bf7b7-ea8a-42e1-9b23-b8091030681c\" target=\"_top\" title=\"psysml:df9bf7b7-ea8a-42e1-9b23-b8091030681c\" xlink:actuate=\"onRequest\" xlink:href=\"psysml:df9bf7b7-ea8a-42e1-9b23-b8091030681c\" xlink:show=\"new\" xlink:title=\"psysml:df9bf7b7-ea8a-42e1-9b23-b8091030681c\" xlink:type=\"simple\"><rect fill=\"#FFFFFF\" height=\"40\" id=\"E7\" rx=\"10\" ry=\"10\" style=\"stroke: #383838; stroke-width: 1.5;\" width=\"50\" x=\"188\" y=\"174\"/><rect fill=\"#F8F8F8\" height=\"23.9688\" rx=\"10\" ry=\"10\" style=\"stroke: #F8F8F8; stroke-width: 1.5;\" width=\"50\" x=\"188\" y=\"174\"/><rect fill=\"#F8F8F8\" height=\"10\" style=\"stroke: #F8F8F8; stroke-width: 1.5;\" width=\"50\" x=\"188\" y=\"187.9688\"/><rect fill=\"none\" height=\"40\" id=\"E7\" rx=\"10\" ry=\"10\" style=\"stroke: #383838; stroke-width: 1.5;\" width=\"50\" x=\"188\" y=\"174\"/><text fill=\"#000000\" font-family=\"sans-serif\" font-size=\"12\" lengthAdjust=\"spacingAndGlyphs\" textLength=\"16\" x=\"205\" y=\"190.1387\">S1</text></a></g><g id=\"E1.E6.E8\"><a href=\"psysml:372708ac-c185-450b-8b20-5b0e6796b1d2\" target=\"_top\" title=\"psysml:372708ac-c185-450b-8b20-5b0e6796b1d2\" xlink:actuate=\"onRequest\" xlink:href=\"psysml:372708ac-c185-450b-8b20-5b0e6796b1d2\" xlink:show=\"new\" xlink:title=\"psysml:372708ac-c185-450b-8b20-5b0e6796b1d2\" xlink:type=\"simple\"><rect fill=\"#FFFFFF\" height=\"47.9375\" id=\"E8\" rx=\"10\" ry=\"10\" style=\"stroke: #383838; stroke-width: 1.5;\" width=\"50\" x=\"435\" y=\"172\"/><rect fill=\"#F8F8F8\" height=\"23.9688\" rx=\"10\" ry=\"10\" style=\"stroke: #F8F8F8; stroke-width: 1.5;\" width=\"50\" x=\"435\" y=\"172\"/><rect fill=\"#F8F8F8\" height=\"10\" style=\"stroke: #F8F8F8; stroke-width: 1.5;\" width=\"50\" x=\"435\" y=\"185.9688\"/><rect fill=\"none\" height=\"47.9375\" id=\"E8\" rx=\"10\" ry=\"10\" style=\"stroke: #383838; stroke-width: 1.5;\" width=\"50\" x=\"435\" y=\"172\"/><text fill=\"#000000\" font-family=\"sans-serif\" font-size=\"12\" lengthAdjust=\"spacingAndGlyphs\" textLength=\"16\" x=\"452\" y=\"188.1387\">S2</text><line style=\"stroke: #383838; stroke-width: 1.0;\" x1=\"435\" x2=\"485\" y1=\"195.9688\" y2=\"195.9688\"/><text fill=\"#000000\" font-family=\"sans-serif\" font-size=\"12\" font-weight=\"bold\" lengthAdjust=\"spacingAndGlyphs\" textLength=\"18\" x=\"440\" y=\"209.1074\">do</text><text fill=\"#000000\" font-family=\"sans-serif\" font-size=\"12\" lengthAdjust=\"spacingAndGlyphs\" textLength=\"4\" x=\"458\" y=\"209.1074\">/</text></a></g><!--MD5=[5a531d3a85f3339e6e197084acb48195]\n",
       "link *start*E6 to E7--><a href=\"psysml:63e0b6b5-21d2-46c8-92d5-87e224212dbf\" target=\"_top\" title=\"psysml:63e0b6b5-21d2-46c8-92d5-87e224212dbf\" xlink:actuate=\"onRequest\" xlink:href=\"psysml:63e0b6b5-21d2-46c8-92d5-87e224212dbf\" xlink:show=\"new\" xlink:title=\"psysml:63e0b6b5-21d2-46c8-92d5-87e224212dbf\" xlink:type=\"simple\"><path d=\"M89.54,194 C108.46,194 152.97,194 182.78,194 \" fill=\"none\" id=\"*start*E6-&gt;E7\" style=\"stroke: #383838; stroke-width: 1.0;\"/><polygon fill=\"#383838\" points=\"187.8,194,178.8,190,182.8,194,178.8,198,187.8,194\" style=\"stroke: #383838; stroke-width: 1.0;\"/></a><!--MD5=[7ec9a8babba89ddcae1318ca9fb3c814]\n",
       "link E8 to *end*E6--><a href=\"psysml:60b88d5b-1ac8-4d6b-b052-bf1a623237b5\" target=\"_top\" title=\"psysml:60b88d5b-1ac8-4d6b-b052-bf1a623237b5\" xlink:actuate=\"onRequest\" xlink:href=\"psysml:60b88d5b-1ac8-4d6b-b052-bf1a623237b5\" xlink:show=\"new\" xlink:title=\"psysml:60b88d5b-1ac8-4d6b-b052-bf1a623237b5\" xlink:type=\"simple\"><path d=\"M485.16,196 C509.08,196 544.89,196 564.64,196 \" fill=\"none\" id=\"E8-&gt;*end*E6\" style=\"stroke: #383838; stroke-width: 1.0;\"/><polygon fill=\"#383838\" points=\"569.76,196,560.76,192,564.76,196,560.76,200,569.76,196\" style=\"stroke: #383838; stroke-width: 1.0;\"/><text fill=\"#000000\" font-family=\"sans-serif\" font-size=\"13\" lengthAdjust=\"spacingAndGlyphs\" textLength=\"23\" x=\"516\" y=\"192.0669\">Exit</text></a><!--MD5=[79bc8f324ef4d02c541433f2e6e513c3]\n",
       "link E7 to E8--><a href=\"psysml:b9f5e72d-c680-433c-ba5c-575fc587f4f3\" target=\"_top\" title=\"psysml:b9f5e72d-c680-433c-ba5c-575fc587f4f3\" xlink:actuate=\"onRequest\" xlink:href=\"psysml:b9f5e72d-c680-433c-ba5c-575fc587f4f3\" xlink:show=\"new\" xlink:title=\"psysml:b9f5e72d-c680-433c-ba5c-575fc587f4f3\" xlink:type=\"simple\"><path d=\"M238.15,210.85 C247.11,216.14 257.62,221.31 268,224 C326.94,239.27 345.84,238.42 405,224 C413.58,221.91 422.32,218.19 430.2,214.14 \" fill=\"none\" id=\"E7-&gt;E8\" style=\"stroke: #383838; stroke-width: 1.0;\"/><polygon fill=\"#383838\" points=\"434.98,211.59,425.156,212.2893,430.5666,213.94,428.9159,219.3506,434.98,211.59\" style=\"stroke: #383838; stroke-width: 1.0;\"/><text fill=\"#000000\" font-family=\"sans-serif\" font-size=\"13\" lengthAdjust=\"spacingAndGlyphs\" textLength=\"81\" x=\"296\" y=\"220.0669\">Sig /action D</text></a><!--MD5=[bfa3c8b0d15052fdf50ae9310b491027]\n",
       "link E8 to E7--><a href=\"psysml:8fe1fd83-9e96-4978-be75-1a7ead5c4a85\" target=\"_top\" title=\"psysml:8fe1fd83-9e96-4978-be75-1a7ead5c4a85\" xlink:actuate=\"onRequest\" xlink:href=\"psysml:8fe1fd83-9e96-4978-be75-1a7ead5c4a85\" xlink:show=\"new\" xlink:title=\"psysml:8fe1fd83-9e96-4978-be75-1a7ead5c4a85\" xlink:type=\"simple\"><path d=\"M434.71,195.8 C389.48,195.43 292.49,194.64 243.54,194.24 \" fill=\"none\" id=\"E8-&gt;E7\" style=\"stroke: #383838; stroke-width: 1.0;\"/><polygon fill=\"#383838\" points=\"238.39,194.2,247.3554,198.277,243.3898,194.2429,247.424,190.2773,238.39,194.2\" style=\"stroke: #383838; stroke-width: 1.0;\"/><text fill=\"#000000\" font-family=\"sans-serif\" font-size=\"13\" lengthAdjust=\"spacingAndGlyphs\" textLength=\"135\" x=\"269\" y=\"191.0669\">Sig [true]/send s to p</text></a><!--MD5=[ef9157909890dd5068735eedfed7648b]\n",
       "@startuml\r\n",
       "left to right direction\r\n",
       "skinparam monochrome true\r\n",
       "skinparam classbackgroundcolor white\r\n",
       "skinparam shadowing false\r\n",
       "skinparam wrapWidth 300\r\n",
       "hide circle\r\n",
       "\r\n",
       "package \"StateTest\" as E1  [[psysml:7751d53a-3d7b-46fc-b5d8-bf0ae3c7070c ]]  {\r\n",
       "comp def \"Sig\" as E2  <<(T,blue)attribute def>> [[psysml:85dbfb10-d456-4c59-a9e0-99da33bb7a4b ]] {\r\n",
       "- - attributes - -\r\n",
       "x\r\n",
       "}\r\n",
       "comp def \"Exit\" as E3  <<(T,blue)attribute def>> [[psysml:06ed69bb-03e4-455b-a820-630d0564221d ]] {\r\n",
       "}\r\n",
       "comp usage \"p\" as E4  <<(T,blue)part>> [[psysml:f6292196-12b9-4bba-a758-98820cb4f3f5 ]] {\r\n",
       "}\r\n",
       "rec usage \"act\" as E5  <<(T,blue)action>> [[psysml:d7bec2b6-e32c-41d0-a208-370a3f1c18c8 ]] {\r\n",
       "}\r\n",
       "\r\n",
       "rec def \"S\" as E6  <<(T,blue)state def>> [[psysml:6343fae7-e97a-4dac-816a-0d66812becae ]] {\r\n",
       "rec usage \"S1\" as E7 [[psysml:df9bf7b7-ea8a-42e1-9b23-b8091030681c ]] {\r\n",
       "}\r\n",
       "\r\n",
       "rec usage \"S2\" as E8 [[psysml:372708ac-c185-450b-8b20-5b0e6796b1d2 ]] {\r\n",
       "desc \"S2\" as E8  : **do**/ \r\n",
       "}\r\n",
       "\r\n",
       "[*] - -> E7 [[psysml:63e0b6b5-21d2-46c8-92d5-87e224212dbf ]] \r\n",
       "E8  - -> [*] [[psysml:60b88d5b-1ac8-4d6b-b052-bf1a623237b5 ]] : Exit \r\n",
       "desc \"S\" as E6  : **entry**/ A\r\n",
       "desc \"S\" as E6  : **do**/ B\r\n",
       "desc \"S\" as E6  : **exit**/ act \r\n",
       "}\r\n",
       "\r\n",
       "E7  - -> E8 [[psysml:b9f5e72d-c680-433c-ba5c-575fc587f4f3 ]] : Sig /action D\r\n",
       "E8  - -> E7 [[psysml:8fe1fd83-9e96-4978-be75-1a7ead5c4a85 ]] : Sig [true]/send s to p\r\n",
       "}\r\n",
       "@enduml\r\n",
       "\n",
       "PlantUML version 1.2020.13(Sat Jun 13 12:26:38 UTC 2020)\n",
       "(EPL source distribution)\n",
       "Java Runtime: OpenJDK Runtime Environment\n",
       "JVM: OpenJDK 64-Bit Server VM\n",
       "Default Encoding: UTF-8\n",
       "Language: en\n",
       "Country: null\n",
       "--></g></svg>"
      ]
     },
     "execution_count": 16,
     "metadata": {},
     "output_type": "execute_result"
    }
   ],
   "source": [
    "%viz --style=\"LR\" --view=\"Default\" \"StateTest\""
   ]
  },
  {
   "cell_type": "code",
   "execution_count": 17,
   "id": "veterinary-sequence",
   "metadata": {
    "execution": {
     "iopub.execute_input": "2021-03-25T13:48:11.198855Z",
     "iopub.status.busy": "2021-03-25T13:48:11.198266Z",
     "iopub.status.idle": "2021-03-25T13:48:11.664456Z",
     "shell.execute_reply": "2021-03-25T13:48:11.664993Z"
    }
   },
   "outputs": [
    {
     "data": {
      "image/svg+xml": [
       "<?xml version=\"1.0\" encoding=\"UTF-8\" standalone=\"no\"?><svg xmlns=\"http://www.w3.org/2000/svg\" xmlns:xlink=\"http://www.w3.org/1999/xlink\" contentScriptType=\"application/ecmascript\" contentStyleType=\"text/css\" height=\"583px\" preserveAspectRatio=\"none\" style=\"width:424px;height:583px;\" version=\"1.1\" viewBox=\"0 0 424 583\" width=\"424px\" zoomAndPan=\"magnify\"><defs/><g><!--MD5=[fbc87193dbaf4d95561dea2c320d4a47]\n",
       "cluster E1--><a href=\"psysml:7751d53a-3d7b-46fc-b5d8-bf0ae3c7070c\" target=\"_top\" title=\"psysml:7751d53a-3d7b-46fc-b5d8-bf0ae3c7070c\" xlink:actuate=\"onRequest\" xlink:href=\"psysml:7751d53a-3d7b-46fc-b5d8-bf0ae3c7070c\" xlink:show=\"new\" xlink:title=\"psysml:7751d53a-3d7b-46fc-b5d8-bf0ae3c7070c\" xlink:type=\"simple\"><polygon fill=\"#FFFFFF\" points=\"16,6,98,6,105,28.2969,402,28.2969,402,571,16,571,16,6\" style=\"stroke: #000000; stroke-width: 1.5;\"/><line style=\"stroke: #000000; stroke-width: 1.5;\" x1=\"16\" x2=\"105\" y1=\"28.2969\" y2=\"28.2969\"/><text fill=\"#000000\" font-family=\"sans-serif\" font-size=\"14\" font-weight=\"bold\" lengthAdjust=\"spacingAndGlyphs\" textLength=\"76\" x=\"20\" y=\"20.9951\">StateTest</text></a><!--MD5=[b4997ac47864f28c2f74865a473b2911]\n",
       "class E2--><a href=\"psysml:85dbfb10-d456-4c59-a9e0-99da33bb7a4b\" target=\"_top\" title=\"psysml:85dbfb10-d456-4c59-a9e0-99da33bb7a4b\" xlink:actuate=\"onRequest\" xlink:href=\"psysml:85dbfb10-d456-4c59-a9e0-99da33bb7a4b\" xlink:show=\"new\" xlink:title=\"psysml:85dbfb10-d456-4c59-a9e0-99da33bb7a4b\" xlink:type=\"simple\"><rect fill=\"#FFFFFF\" height=\"75.5469\" id=\"E2\" style=\"stroke: #383838; stroke-width: 1.5;\" width=\"95\" x=\"32\" y=\"41\"/><text fill=\"#000000\" font-family=\"sans-serif\" font-size=\"12\" font-style=\"italic\" lengthAdjust=\"spacingAndGlyphs\" textLength=\"93\" x=\"33\" y=\"57.1387\">«attribute def»</text><text fill=\"#000000\" font-family=\"sans-serif\" font-size=\"12\" lengthAdjust=\"spacingAndGlyphs\" textLength=\"19\" x=\"70\" y=\"71.1074\">Sig</text><line style=\"stroke: #383838; stroke-width: 1.5;\" x1=\"33\" x2=\"126\" y1=\"78.9375\" y2=\"78.9375\"/><text fill=\"#000000\" font-family=\"sans-serif\" font-size=\"11\" lengthAdjust=\"spacingAndGlyphs\" textLength=\"6\" x=\"38\" y=\"109.9526\">x</text><line style=\"stroke: #383838; stroke-width: 1.0;\" x1=\"33\" x2=\"52\" y1=\"93.3398\" y2=\"93.3398\"/><text fill=\"#000000\" font-family=\"sans-serif\" font-size=\"11\" lengthAdjust=\"spacingAndGlyphs\" textLength=\"55\" x=\"52\" y=\"96.6479\">attributes</text><line style=\"stroke: #383838; stroke-width: 1.0;\" x1=\"107\" x2=\"126\" y1=\"93.3398\" y2=\"93.3398\"/></a><!--MD5=[09b614a08d8cba4a07c9adeb5e0fee81]\n",
       "class E3--><a href=\"psysml:06ed69bb-03e4-455b-a820-630d0564221d\" target=\"_top\" title=\"psysml:06ed69bb-03e4-455b-a820-630d0564221d\" xlink:actuate=\"onRequest\" xlink:href=\"psysml:06ed69bb-03e4-455b-a820-630d0564221d\" xlink:show=\"new\" xlink:title=\"psysml:06ed69bb-03e4-455b-a820-630d0564221d\" xlink:type=\"simple\"><rect fill=\"#FFFFFF\" height=\"45.9375\" id=\"E3\" style=\"stroke: #383838; stroke-width: 1.5;\" width=\"95\" x=\"32\" y=\"152\"/><text fill=\"#000000\" font-family=\"sans-serif\" font-size=\"12\" font-style=\"italic\" lengthAdjust=\"spacingAndGlyphs\" textLength=\"93\" x=\"33\" y=\"168.1387\">«attribute def»</text><text fill=\"#000000\" font-family=\"sans-serif\" font-size=\"12\" lengthAdjust=\"spacingAndGlyphs\" textLength=\"22\" x=\"68.5\" y=\"182.1074\">Exit</text><line style=\"stroke: #383838; stroke-width: 1.5;\" x1=\"33\" x2=\"126\" y1=\"189.9375\" y2=\"189.9375\"/></a><!--MD5=[ebbe1d658d1005bcc118a6aa81145e00]\n",
       "class E4--><a href=\"psysml:f6292196-12b9-4bba-a758-98820cb4f3f5\" target=\"_top\" title=\"psysml:f6292196-12b9-4bba-a758-98820cb4f3f5\" xlink:actuate=\"onRequest\" xlink:href=\"psysml:f6292196-12b9-4bba-a758-98820cb4f3f5\" xlink:show=\"new\" xlink:title=\"psysml:f6292196-12b9-4bba-a758-98820cb4f3f5\" xlink:type=\"simple\"><rect fill=\"#FFFFFF\" height=\"45.9375\" id=\"E4\" rx=\"10\" ry=\"10\" style=\"stroke: #383838; stroke-width: 1.5;\" width=\"42\" x=\"58.5\" y=\"233\"/><text fill=\"#000000\" font-family=\"sans-serif\" font-size=\"12\" font-style=\"italic\" lengthAdjust=\"spacingAndGlyphs\" textLength=\"40\" x=\"59.5\" y=\"249.1387\">«part»</text><text fill=\"#000000\" font-family=\"sans-serif\" font-size=\"12\" lengthAdjust=\"spacingAndGlyphs\" textLength=\"8\" x=\"75.5\" y=\"263.1074\">p</text><line style=\"stroke: #383838; stroke-width: 1.5;\" x1=\"59.5\" x2=\"99.5\" y1=\"270.9375\" y2=\"270.9375\"/></a><!--MD5=[270fce915f116d4de14055a7c1d9a0f3]\n",
       "class E5--><a href=\"psysml:d7bec2b6-e32c-41d0-a208-370a3f1c18c8\" target=\"_top\" title=\"psysml:d7bec2b6-e32c-41d0-a208-370a3f1c18c8\" xlink:actuate=\"onRequest\" xlink:href=\"psysml:d7bec2b6-e32c-41d0-a208-370a3f1c18c8\" xlink:show=\"new\" xlink:title=\"psysml:d7bec2b6-e32c-41d0-a208-370a3f1c18c8\" xlink:type=\"simple\"><rect fill=\"#FFFFFF\" height=\"45.9375\" id=\"E5\" rx=\"10\" ry=\"10\" style=\"stroke: #383838; stroke-width: 1.5;\" width=\"55\" x=\"52\" y=\"314\"/><text fill=\"#000000\" font-family=\"sans-serif\" font-size=\"12\" font-style=\"italic\" lengthAdjust=\"spacingAndGlyphs\" textLength=\"53\" x=\"53\" y=\"330.1387\">«action»</text><text fill=\"#000000\" font-family=\"sans-serif\" font-size=\"12\" lengthAdjust=\"spacingAndGlyphs\" textLength=\"20\" x=\"69.5\" y=\"344.1074\">act</text><line style=\"stroke: #383838; stroke-width: 1.5;\" x1=\"53\" x2=\"106\" y1=\"351.9375\" y2=\"351.9375\"/></a><!--MD5=[60a26617385b1d2d0262a64233df1f8d]\n",
       "class E6--><a href=\"psysml:6343fae7-e97a-4dac-816a-0d66812becae\" target=\"_top\" title=\"psysml:6343fae7-e97a-4dac-816a-0d66812becae\" xlink:actuate=\"onRequest\" xlink:href=\"psysml:6343fae7-e97a-4dac-816a-0d66812becae\" xlink:show=\"new\" xlink:title=\"psysml:6343fae7-e97a-4dac-816a-0d66812becae\" xlink:type=\"simple\"><rect fill=\"#FFFFFF\" height=\"160.375\" id=\"E6\" style=\"stroke: #383838; stroke-width: 1.5;\" width=\"95\" x=\"32\" y=\"395\"/><text fill=\"#000000\" font-family=\"sans-serif\" font-size=\"12\" font-style=\"italic\" lengthAdjust=\"spacingAndGlyphs\" textLength=\"71\" x=\"44\" y=\"411.1387\">«state def»</text><text fill=\"#000000\" font-family=\"sans-serif\" font-size=\"12\" lengthAdjust=\"spacingAndGlyphs\" textLength=\"8\" x=\"75.5\" y=\"425.1074\">S</text><line style=\"stroke: #383838; stroke-width: 1.5;\" x1=\"33\" x2=\"126\" y1=\"432.9375\" y2=\"432.9375\"/><text fill=\"#000000\" font-family=\"sans-serif\" font-size=\"11\" lengthAdjust=\"spacingAndGlyphs\" textLength=\"17\" x=\"38\" y=\"463.9526\">act</text><text fill=\"#000000\" font-family=\"sans-serif\" font-size=\"11\" lengthAdjust=\"spacingAndGlyphs\" textLength=\"7\" x=\"38\" y=\"476.7573\">A</text><text fill=\"#000000\" font-family=\"sans-serif\" font-size=\"11\" lengthAdjust=\"spacingAndGlyphs\" textLength=\"8\" x=\"38\" y=\"489.562\">B</text><line style=\"stroke: #383838; stroke-width: 1.0;\" x1=\"33\" x2=\"36\" y1=\"447.3398\" y2=\"447.3398\"/><text fill=\"#000000\" font-family=\"sans-serif\" font-size=\"11\" lengthAdjust=\"spacingAndGlyphs\" textLength=\"87\" x=\"36\" y=\"450.6479\">performActions</text><line style=\"stroke: #383838; stroke-width: 1.0;\" x1=\"123\" x2=\"126\" y1=\"447.3398\" y2=\"447.3398\"/><text fill=\"#000000\" font-family=\"sans-serif\" font-size=\"11\" lengthAdjust=\"spacingAndGlyphs\" textLength=\"15\" x=\"38\" y=\"519.1714\">S1</text><line style=\"stroke: #383838; stroke-width: 1.0;\" x1=\"33\" x2=\"61.5\" y1=\"502.5586\" y2=\"502.5586\"/><text fill=\"#000000\" font-family=\"sans-serif\" font-size=\"11\" lengthAdjust=\"spacingAndGlyphs\" textLength=\"36\" x=\"61.5\" y=\"505.8667\">states</text><line style=\"stroke: #383838; stroke-width: 1.0;\" x1=\"97.5\" x2=\"126\" y1=\"502.5586\" y2=\"502.5586\"/><text fill=\"#000000\" font-family=\"sans-serif\" font-size=\"11\" lengthAdjust=\"spacingAndGlyphs\" textLength=\"7\" x=\"38\" y=\"548.7808\">T</text><line style=\"stroke: #383838; stroke-width: 1.0;\" x1=\"33\" x2=\"49\" y1=\"532.168\" y2=\"532.168\"/><text fill=\"#000000\" font-family=\"sans-serif\" font-size=\"11\" lengthAdjust=\"spacingAndGlyphs\" textLength=\"61\" x=\"49\" y=\"535.4761\">transitions</text><line style=\"stroke: #383838; stroke-width: 1.0;\" x1=\"110\" x2=\"126\" y1=\"532.168\" y2=\"532.168\"/></a><!--MD5=[1dd1bfd58a279cf63c5f349dbc8fc6a1]\n",
       "class E11--><a href=\"psysml:372708ac-c185-450b-8b20-5b0e6796b1d2\" target=\"_top\" title=\"psysml:372708ac-c185-450b-8b20-5b0e6796b1d2\" xlink:actuate=\"onRequest\" xlink:href=\"psysml:372708ac-c185-450b-8b20-5b0e6796b1d2\" xlink:show=\"new\" xlink:title=\"psysml:372708ac-c185-450b-8b20-5b0e6796b1d2\" xlink:type=\"simple\"><rect fill=\"#FFFFFF\" height=\"45.9375\" id=\"E11\" rx=\"10\" ry=\"10\" style=\"stroke: #383838; stroke-width: 1.5;\" width=\"49\" x=\"187\" y=\"452\"/><text fill=\"#000000\" font-family=\"sans-serif\" font-size=\"12\" font-style=\"italic\" lengthAdjust=\"spacingAndGlyphs\" textLength=\"47\" x=\"188\" y=\"468.1387\">«state»</text><text fill=\"#000000\" font-family=\"sans-serif\" font-size=\"12\" lengthAdjust=\"spacingAndGlyphs\" textLength=\"16\" x=\"203.5\" y=\"482.1074\">S2</text><line style=\"stroke: #383838; stroke-width: 1.5;\" x1=\"188\" x2=\"235\" y1=\"489.9375\" y2=\"489.9375\"/></a><!--MD5=[49a0ec8f00dab7302a31f22d0f0fe584]\n",
       "class E12--><a href=\"psysml:db8ff6bb-65b2-44b6-939f-52bfaf067d5c\" target=\"_top\" title=\"psysml:db8ff6bb-65b2-44b6-939f-52bfaf067d5c\" xlink:actuate=\"onRequest\" xlink:href=\"psysml:db8ff6bb-65b2-44b6-939f-52bfaf067d5c\" xlink:show=\"new\" xlink:title=\"psysml:db8ff6bb-65b2-44b6-939f-52bfaf067d5c\" xlink:type=\"simple\"><rect fill=\"#FFFFFF\" height=\"75.5469\" id=\"E12\" rx=\"10\" ry=\"10\" style=\"stroke: #383838; stroke-width: 1.5;\" width=\"90\" x=\"296\" y=\"437\"/><text fill=\"#000000\" font-family=\"sans-serif\" font-size=\"12\" font-style=\"italic\" lengthAdjust=\"spacingAndGlyphs\" textLength=\"88\" x=\"297\" y=\"453.1387\">«send action»</text><text fill=\"#000000\" font-family=\"sans-serif\" font-size=\"12\" lengthAdjust=\"spacingAndGlyphs\" textLength=\"55\" x=\"313.5\" y=\"467.1074\">doAction</text><line style=\"stroke: #383838; stroke-width: 1.5;\" x1=\"297\" x2=\"385\" y1=\"474.9375\" y2=\"474.9375\"/><text fill=\"#000000\" font-family=\"sans-serif\" font-size=\"11\" lengthAdjust=\"spacingAndGlyphs\" textLength=\"25\" x=\"302\" y=\"505.9526\">item</text><line style=\"stroke: #383838; stroke-width: 1.0;\" x1=\"297\" x2=\"303.5\" y1=\"489.3398\" y2=\"489.3398\"/><text fill=\"#000000\" font-family=\"sans-serif\" font-size=\"11\" lengthAdjust=\"spacingAndGlyphs\" textLength=\"75\" x=\"303.5\" y=\"492.6479\">itemFeatures</text><line style=\"stroke: #383838; stroke-width: 1.0;\" x1=\"378.5\" x2=\"385\" y1=\"489.3398\" y2=\"489.3398\"/></a><!--MD5=[1f5f03483f7de0d5b3680a7f6650997f]\n",
       "reverse link E6 to E11--><a href=\"psysml:372708ac-c185-450b-8b20-5b0e6796b1d2\" target=\"_top\" title=\"psysml:372708ac-c185-450b-8b20-5b0e6796b1d2\" xlink:actuate=\"onRequest\" xlink:href=\"psysml:372708ac-c185-450b-8b20-5b0e6796b1d2\" xlink:show=\"new\" xlink:title=\"psysml:372708ac-c185-450b-8b20-5b0e6796b1d2\" xlink:type=\"simple\"><path d=\"M140.15,475 C156.69,475 173.69,475 186.84,475 \" fill=\"none\" id=\"E6&lt;-E11\" style=\"stroke: #383838; stroke-width: 1.0;\"/><polygon fill=\"#383838\" points=\"127.07,475,133.07,479,139.07,475,133.07,471,127.07,475\" style=\"stroke: #383838; stroke-width: 1.0;\"/></a><!--MD5=[94adabc162ce7e41b39f13be14fbaeb3]\n",
       "reverse link E11 to E12--><a href=\"psysml:db8ff6bb-65b2-44b6-939f-52bfaf067d5c\" target=\"_top\" title=\"psysml:db8ff6bb-65b2-44b6-939f-52bfaf067d5c\" xlink:actuate=\"onRequest\" xlink:href=\"psysml:db8ff6bb-65b2-44b6-939f-52bfaf067d5c\" xlink:show=\"new\" xlink:title=\"psysml:db8ff6bb-65b2-44b6-939f-52bfaf067d5c\" xlink:type=\"simple\"><path d=\"M249.28,475 C263.81,475 280.62,475 295.8,475 \" fill=\"none\" id=\"E11&lt;-E12\" style=\"stroke: #383838; stroke-width: 1.0;\"/><polygon fill=\"#FFFFFF\" points=\"236.18,475,242.18,479,248.18,475,242.18,471,236.18,475\" style=\"stroke: #383838; stroke-width: 1.0;\"/></a><!--MD5=[b3ea03313385c6ec37fa6fe3ade1b2b9]\n",
       "@startuml\r\n",
       "left to right direction\r\n",
       "skinparam monochrome true\r\n",
       "skinparam classbackgroundcolor white\r\n",
       "skinparam shadowing false\r\n",
       "skinparam wrapWidth 300\r\n",
       "hide circle\r\n",
       "\r\n",
       "package \"StateTest\" as E1  [[psysml:7751d53a-3d7b-46fc-b5d8-bf0ae3c7070c ]]  {\r\n",
       "comp def \"Sig\" as E2  <<(T,blue)attribute def>> [[psysml:85dbfb10-d456-4c59-a9e0-99da33bb7a4b ]] {\r\n",
       "- - attributes - -\r\n",
       "x\r\n",
       "}\r\n",
       "comp def \"Exit\" as E3  <<(T,blue)attribute def>> [[psysml:06ed69bb-03e4-455b-a820-630d0564221d ]] {\r\n",
       "}\r\n",
       "comp usage \"p\" as E4  <<(T,blue)part>> [[psysml:f6292196-12b9-4bba-a758-98820cb4f3f5 ]] {\r\n",
       "}\r\n",
       "comp usage \"act\" as E5  <<(T,blue)action>> [[psysml:d7bec2b6-e32c-41d0-a208-370a3f1c18c8 ]] {\r\n",
       "}\r\n",
       "comp def \"S\" as E6  <<(T,blue)state def>> [[psysml:6343fae7-e97a-4dac-816a-0d66812becae ]] {\r\n",
       "- - performActions - -\r\n",
       "act\r\n",
       "A\r\n",
       "B\r\n",
       "- - states - -\r\n",
       "S1\r\n",
       "- - transitions - -\r\n",
       "T\r\n",
       "}\r\n",
       "comp usage \"S2\" as E11  <<(T,blue)state>> [[psysml:372708ac-c185-450b-8b20-5b0e6796b1d2 ]] {\r\n",
       "}\r\n",
       "comp usage \"doAction\" as E12 <<send action>> [[psysml:db8ff6bb-65b2-44b6-939f-52bfaf067d5c ]] {\r\n",
       "- - itemFeatures - -\r\n",
       "item\r\n",
       "}\r\n",
       "E6 *- - E11 [[psysml:372708ac-c185-450b-8b20-5b0e6796b1d2 ]] \r\n",
       "E11 o- - E12 [[psysml:db8ff6bb-65b2-44b6-939f-52bfaf067d5c ]] \r\n",
       "}\r\n",
       "@enduml\r\n",
       "\n",
       "PlantUML version 1.2020.13(Sat Jun 13 12:26:38 UTC 2020)\n",
       "(EPL source distribution)\n",
       "Java Runtime: OpenJDK Runtime Environment\n",
       "JVM: OpenJDK 64-Bit Server VM\n",
       "Default Encoding: UTF-8\n",
       "Language: en\n",
       "Country: null\n",
       "--></g></svg>"
      ]
     },
     "execution_count": 17,
     "metadata": {},
     "output_type": "execute_result"
    }
   ],
   "source": [
    "%viz --style=\"LR\" --view=\"Tree\" \"StateTest\""
   ]
  },
  {
   "cell_type": "code",
   "execution_count": 18,
   "id": "julian-advancement",
   "metadata": {
    "execution": {
     "iopub.execute_input": "2021-03-25T13:48:11.715242Z",
     "iopub.status.busy": "2021-03-25T13:48:11.714783Z",
     "iopub.status.idle": "2021-03-25T13:48:11.836867Z",
     "shell.execute_reply": "2021-03-25T13:48:11.836452Z"
    }
   },
   "outputs": [
    {
     "data": {
      "image/svg+xml": [
       "<?xml version=\"1.0\" encoding=\"UTF-8\" standalone=\"no\"?><svg xmlns=\"http://www.w3.org/2000/svg\" xmlns:xlink=\"http://www.w3.org/1999/xlink\" contentScriptType=\"application/ecmascript\" contentStyleType=\"text/css\" height=\"241px\" preserveAspectRatio=\"none\" style=\"width:534px;height:241px;\" version=\"1.1\" viewBox=\"0 0 534 241\" width=\"534px\" zoomAndPan=\"magnify\"><defs/><g><!--MD5=[fbc87193dbaf4d95561dea2c320d4a47]\n",
       "cluster E1--><a href=\"psysml:6343fae7-e97a-4dac-816a-0d66812becae\" target=\"_top\" title=\"psysml:6343fae7-e97a-4dac-816a-0d66812becae\" xlink:actuate=\"onRequest\" xlink:href=\"psysml:6343fae7-e97a-4dac-816a-0d66812becae\" xlink:show=\"new\" xlink:title=\"psysml:6343fae7-e97a-4dac-816a-0d66812becae\" xlink:type=\"simple\"><rect fill=\"#FFFFFF\" height=\"223\" id=\"E1\" style=\"stroke: #383838; stroke-width: 1.5;\" width=\"515\" x=\"7\" y=\"7\"/><rect fill=\"#F8F8F8\" height=\"37.9375\" style=\"stroke: #383838; stroke-width: 1.5;\" width=\"515\" x=\"7\" y=\"7\"/><text fill=\"#000000\" font-family=\"sans-serif\" font-size=\"12\" font-style=\"italic\" lengthAdjust=\"spacingAndGlyphs\" textLength=\"71\" x=\"229\" y=\"23.1387\">«state def»</text><text fill=\"#000000\" font-family=\"sans-serif\" font-size=\"12\" lengthAdjust=\"spacingAndGlyphs\" textLength=\"8\" x=\"260.5\" y=\"37.1074\">S</text><line style=\"stroke: #383838; stroke-width: 1.0;\" x1=\"7\" x2=\"522\" y1=\"90.8438\" y2=\"90.8438\"/><text fill=\"#000000\" font-family=\"sans-serif\" font-size=\"12\" font-weight=\"bold\" lengthAdjust=\"spacingAndGlyphs\" textLength=\"38\" x=\"12\" y=\"58.0762\">entry</text><text fill=\"#000000\" font-family=\"sans-serif\" font-size=\"12\" lengthAdjust=\"spacingAndGlyphs\" textLength=\"16\" x=\"50\" y=\"58.0762\">/ A</text><text fill=\"#000000\" font-family=\"sans-serif\" font-size=\"12\" font-weight=\"bold\" lengthAdjust=\"spacingAndGlyphs\" textLength=\"18\" x=\"12\" y=\"72.0449\">do</text><text fill=\"#000000\" font-family=\"sans-serif\" font-size=\"12\" lengthAdjust=\"spacingAndGlyphs\" textLength=\"16\" x=\"30\" y=\"72.0449\">/ B</text><text fill=\"#000000\" font-family=\"sans-serif\" font-size=\"12\" font-weight=\"bold\" lengthAdjust=\"spacingAndGlyphs\" textLength=\"26\" x=\"12\" y=\"86.0137\">exit</text><text fill=\"#000000\" font-family=\"sans-serif\" font-size=\"12\" lengthAdjust=\"spacingAndGlyphs\" textLength=\"28\" x=\"38\" y=\"86.0137\">/ act</text></a><ellipse cx=\"33\" cy=\"152\" fill=\"#000000\" rx=\"10\" ry=\"10\" style=\"stroke: none; stroke-width: 1.0;\"/><ellipse cx=\"496\" cy=\"154\" fill=\"none\" rx=\"10\" ry=\"10\" style=\"stroke: #000000; stroke-width: 1.0;\"/><ellipse cx=\"496.5\" cy=\"154.5\" fill=\"#000000\" rx=\"6\" ry=\"6\" style=\"stroke: none; stroke-width: 1.0;\"/><g id=\"E1.E2\"><a href=\"psysml:df9bf7b7-ea8a-42e1-9b23-b8091030681c\" target=\"_top\" title=\"psysml:df9bf7b7-ea8a-42e1-9b23-b8091030681c\" xlink:actuate=\"onRequest\" xlink:href=\"psysml:df9bf7b7-ea8a-42e1-9b23-b8091030681c\" xlink:show=\"new\" xlink:title=\"psysml:df9bf7b7-ea8a-42e1-9b23-b8091030681c\" xlink:type=\"simple\"><rect fill=\"#FFFFFF\" height=\"40\" id=\"E2\" rx=\"10\" ry=\"10\" style=\"stroke: #383838; stroke-width: 1.5;\" width=\"50\" x=\"104\" y=\"132\"/><rect fill=\"#F8F8F8\" height=\"23.9688\" rx=\"10\" ry=\"10\" style=\"stroke: #F8F8F8; stroke-width: 1.5;\" width=\"50\" x=\"104\" y=\"132\"/><rect fill=\"#F8F8F8\" height=\"10\" style=\"stroke: #F8F8F8; stroke-width: 1.5;\" width=\"50\" x=\"104\" y=\"145.9688\"/><rect fill=\"none\" height=\"40\" id=\"E2\" rx=\"10\" ry=\"10\" style=\"stroke: #383838; stroke-width: 1.5;\" width=\"50\" x=\"104\" y=\"132\"/><text fill=\"#000000\" font-family=\"sans-serif\" font-size=\"12\" lengthAdjust=\"spacingAndGlyphs\" textLength=\"16\" x=\"121\" y=\"148.1387\">S1</text></a></g><g id=\"E1.E3\"><a href=\"psysml:372708ac-c185-450b-8b20-5b0e6796b1d2\" target=\"_top\" title=\"psysml:372708ac-c185-450b-8b20-5b0e6796b1d2\" xlink:actuate=\"onRequest\" xlink:href=\"psysml:372708ac-c185-450b-8b20-5b0e6796b1d2\" xlink:show=\"new\" xlink:title=\"psysml:372708ac-c185-450b-8b20-5b0e6796b1d2\" xlink:type=\"simple\"><rect fill=\"#FFFFFF\" height=\"47.9375\" id=\"E3\" rx=\"10\" ry=\"10\" style=\"stroke: #383838; stroke-width: 1.5;\" width=\"50\" x=\"351\" y=\"130\"/><rect fill=\"#F8F8F8\" height=\"23.9688\" rx=\"10\" ry=\"10\" style=\"stroke: #F8F8F8; stroke-width: 1.5;\" width=\"50\" x=\"351\" y=\"130\"/><rect fill=\"#F8F8F8\" height=\"10\" style=\"stroke: #F8F8F8; stroke-width: 1.5;\" width=\"50\" x=\"351\" y=\"143.9688\"/><rect fill=\"none\" height=\"47.9375\" id=\"E3\" rx=\"10\" ry=\"10\" style=\"stroke: #383838; stroke-width: 1.5;\" width=\"50\" x=\"351\" y=\"130\"/><text fill=\"#000000\" font-family=\"sans-serif\" font-size=\"12\" lengthAdjust=\"spacingAndGlyphs\" textLength=\"16\" x=\"368\" y=\"146.1387\">S2</text><line style=\"stroke: #383838; stroke-width: 1.0;\" x1=\"351\" x2=\"401\" y1=\"153.9688\" y2=\"153.9688\"/><text fill=\"#000000\" font-family=\"sans-serif\" font-size=\"12\" font-weight=\"bold\" lengthAdjust=\"spacingAndGlyphs\" textLength=\"18\" x=\"356\" y=\"167.1074\">do</text><text fill=\"#000000\" font-family=\"sans-serif\" font-size=\"12\" lengthAdjust=\"spacingAndGlyphs\" textLength=\"4\" x=\"374\" y=\"167.1074\">/</text></a></g><!--MD5=[cff944eb183b832d446717a4e202d613]\n",
       "link *start*E1 to E2--><a href=\"psysml:63e0b6b5-21d2-46c8-92d5-87e224212dbf\" target=\"_top\" title=\"psysml:63e0b6b5-21d2-46c8-92d5-87e224212dbf\" xlink:actuate=\"onRequest\" xlink:href=\"psysml:63e0b6b5-21d2-46c8-92d5-87e224212dbf\" xlink:show=\"new\" xlink:title=\"psysml:63e0b6b5-21d2-46c8-92d5-87e224212dbf\" xlink:type=\"simple\"><path d=\"M43.01,152 C55.7,152 79.41,152 98.57,152 \" fill=\"none\" id=\"*start*E1-&gt;E2\" style=\"stroke: #383838; stroke-width: 1.0;\"/><polygon fill=\"#383838\" points=\"103.84,152,94.84,148,98.84,152,94.84,156,103.84,152\" style=\"stroke: #383838; stroke-width: 1.0;\"/></a><!--MD5=[9ee7afa76ca8c509b3d216624c3a9893]\n",
       "link E3 to *end*E1--><a href=\"psysml:60b88d5b-1ac8-4d6b-b052-bf1a623237b5\" target=\"_top\" title=\"psysml:60b88d5b-1ac8-4d6b-b052-bf1a623237b5\" xlink:actuate=\"onRequest\" xlink:href=\"psysml:60b88d5b-1ac8-4d6b-b052-bf1a623237b5\" xlink:show=\"new\" xlink:title=\"psysml:60b88d5b-1ac8-4d6b-b052-bf1a623237b5\" xlink:type=\"simple\"><path d=\"M401.16,154 C425.08,154 460.89,154 480.64,154 \" fill=\"none\" id=\"E3-&gt;*end*E1\" style=\"stroke: #383838; stroke-width: 1.0;\"/><polygon fill=\"#383838\" points=\"485.76,154,476.76,150,480.76,154,476.76,158,485.76,154\" style=\"stroke: #383838; stroke-width: 1.0;\"/><text fill=\"#000000\" font-family=\"sans-serif\" font-size=\"13\" lengthAdjust=\"spacingAndGlyphs\" textLength=\"23\" x=\"432\" y=\"150.0669\">Exit</text></a><!--MD5=[2720a5a1f2c3fca2055b230370638851]\n",
       "link E2 to E3--><a href=\"psysml:b9f5e72d-c680-433c-ba5c-575fc587f4f3\" target=\"_top\" title=\"psysml:b9f5e72d-c680-433c-ba5c-575fc587f4f3\" xlink:actuate=\"onRequest\" xlink:href=\"psysml:b9f5e72d-c680-433c-ba5c-575fc587f4f3\" xlink:show=\"new\" xlink:title=\"psysml:b9f5e72d-c680-433c-ba5c-575fc587f4f3\" xlink:type=\"simple\"><path d=\"M154.15,168.85 C163.11,174.14 173.62,179.31 184,182 C242.94,197.27 261.84,196.42 321,182 C329.58,179.91 338.32,176.19 346.2,172.14 \" fill=\"none\" id=\"E2-&gt;E3\" style=\"stroke: #383838; stroke-width: 1.0;\"/><polygon fill=\"#383838\" points=\"350.98,169.59,341.156,170.2893,346.5666,171.94,344.9159,177.3506,350.98,169.59\" style=\"stroke: #383838; stroke-width: 1.0;\"/><text fill=\"#000000\" font-family=\"sans-serif\" font-size=\"13\" lengthAdjust=\"spacingAndGlyphs\" textLength=\"81\" x=\"212\" y=\"178.0669\">Sig /action D</text></a><!--MD5=[05d275557350bfb9b23a4ef7222b4c39]\n",
       "link E3 to E2--><a href=\"psysml:8fe1fd83-9e96-4978-be75-1a7ead5c4a85\" target=\"_top\" title=\"psysml:8fe1fd83-9e96-4978-be75-1a7ead5c4a85\" xlink:actuate=\"onRequest\" xlink:href=\"psysml:8fe1fd83-9e96-4978-be75-1a7ead5c4a85\" xlink:show=\"new\" xlink:title=\"psysml:8fe1fd83-9e96-4978-be75-1a7ead5c4a85\" xlink:type=\"simple\"><path d=\"M350.71,153.8 C305.48,153.43 208.49,152.64 159.54,152.24 \" fill=\"none\" id=\"E3-&gt;E2\" style=\"stroke: #383838; stroke-width: 1.0;\"/><polygon fill=\"#383838\" points=\"154.39,152.2,163.3554,156.277,159.3898,152.2429,163.424,148.2773,154.39,152.2\" style=\"stroke: #383838; stroke-width: 1.0;\"/><text fill=\"#000000\" font-family=\"sans-serif\" font-size=\"13\" lengthAdjust=\"spacingAndGlyphs\" textLength=\"135\" x=\"185\" y=\"149.0669\">Sig [true]/send s to p</text></a><!--MD5=[28f71ed19e89bdb843798ebb708031ad]\n",
       "@startuml\r\n",
       "left to right direction\r\n",
       "skinparam monochrome true\r\n",
       "skinparam classbackgroundcolor white\r\n",
       "skinparam shadowing false\r\n",
       "skinparam wrapWidth 300\r\n",
       "hide circle\r\n",
       "\r\n",
       "rec def \"S\" as E1  <<(T,blue)state def>> [[psysml:6343fae7-e97a-4dac-816a-0d66812becae ]] {\r\n",
       "rec usage \"S1\" as E2 [[psysml:df9bf7b7-ea8a-42e1-9b23-b8091030681c ]] {\r\n",
       "}\r\n",
       "\r\n",
       "rec usage \"S2\" as E3 [[psysml:372708ac-c185-450b-8b20-5b0e6796b1d2 ]] {\r\n",
       "desc \"S2\" as E3  : **do**/ \r\n",
       "}\r\n",
       "\r\n",
       "[*] - -> E2 [[psysml:63e0b6b5-21d2-46c8-92d5-87e224212dbf ]] \r\n",
       "E3  - -> [*] [[psysml:60b88d5b-1ac8-4d6b-b052-bf1a623237b5 ]] : Exit \r\n",
       "desc \"S\" as E1  : **entry**/ A\r\n",
       "desc \"S\" as E1  : **do**/ B\r\n",
       "desc \"S\" as E1  : **exit**/ act \r\n",
       "}\r\n",
       "\r\n",
       "E2  - -> E3 [[psysml:b9f5e72d-c680-433c-ba5c-575fc587f4f3 ]] : Sig /action D\r\n",
       "E3  - -> E2 [[psysml:8fe1fd83-9e96-4978-be75-1a7ead5c4a85 ]] : Sig [true]/send s to p\r\n",
       "@enduml\r\n",
       "\n",
       "PlantUML version 1.2020.13(Sat Jun 13 12:26:38 UTC 2020)\n",
       "(EPL source distribution)\n",
       "Java Runtime: OpenJDK Runtime Environment\n",
       "JVM: OpenJDK 64-Bit Server VM\n",
       "Default Encoding: UTF-8\n",
       "Language: en\n",
       "Country: null\n",
       "--></g></svg>"
      ]
     },
     "execution_count": 18,
     "metadata": {},
     "output_type": "execute_result"
    }
   ],
   "source": [
    "%viz --style=\"LR\" --view=\"State\" \"StateTest\""
   ]
  },
  {
   "cell_type": "code",
   "execution_count": 19,
   "id": "spiritual-engine",
   "metadata": {
    "execution": {
     "iopub.execute_input": "2021-03-25T13:48:11.889735Z",
     "iopub.status.busy": "2021-03-25T13:48:11.889157Z",
     "iopub.status.idle": "2021-03-25T13:48:11.959337Z",
     "shell.execute_reply": "2021-03-25T13:48:11.959898Z"
    }
   },
   "outputs": [
    {
     "data": {
      "image/svg+xml": [
       "<?xml version=\"1.0\" encoding=\"UTF-8\" standalone=\"no\"?><svg xmlns=\"http://www.w3.org/2000/svg\" xmlns:xlink=\"http://www.w3.org/1999/xlink\" contentScriptType=\"application/ecmascript\" contentStyleType=\"text/css\" height=\"423px\" preserveAspectRatio=\"none\" style=\"width:170px;height:423px;\" version=\"1.1\" viewBox=\"0 0 170 423\" width=\"170px\" zoomAndPan=\"magnify\"><defs/><g><!--MD5=[fbc87193dbaf4d95561dea2c320d4a47]\n",
       "cluster E1--><a href=\"psysml:7751d53a-3d7b-46fc-b5d8-bf0ae3c7070c\" target=\"_top\" title=\"psysml:7751d53a-3d7b-46fc-b5d8-bf0ae3c7070c\" xlink:actuate=\"onRequest\" xlink:href=\"psysml:7751d53a-3d7b-46fc-b5d8-bf0ae3c7070c\" xlink:show=\"new\" xlink:title=\"psysml:7751d53a-3d7b-46fc-b5d8-bf0ae3c7070c\" xlink:type=\"simple\"><polygon fill=\"#FFFFFF\" points=\"16,6,98,6,105,28.2969,148,28.2969,148,411,16,411,16,6\" style=\"stroke: #000000; stroke-width: 1.5;\"/><line style=\"stroke: #000000; stroke-width: 1.5;\" x1=\"16\" x2=\"105\" y1=\"28.2969\" y2=\"28.2969\"/><text fill=\"#000000\" font-family=\"sans-serif\" font-size=\"14\" font-weight=\"bold\" lengthAdjust=\"spacingAndGlyphs\" textLength=\"76\" x=\"20\" y=\"20.9951\">StateTest</text></a><g id=\"E1.E2\"><a href=\"psysml:85dbfb10-d456-4c59-a9e0-99da33bb7a4b\" target=\"_top\" title=\"psysml:85dbfb10-d456-4c59-a9e0-99da33bb7a4b\" xlink:actuate=\"onRequest\" xlink:href=\"psysml:85dbfb10-d456-4c59-a9e0-99da33bb7a4b\" xlink:show=\"new\" xlink:title=\"psysml:85dbfb10-d456-4c59-a9e0-99da33bb7a4b\" xlink:type=\"simple\"><rect fill=\"#FFFFFF\" height=\"42.9375\" id=\"E2\" style=\"stroke: #383838; stroke-width: 1.5;\" width=\"100\" x=\"32\" y=\"41.5\"/><rect fill=\"#F8F8F8\" height=\"37.9375\" style=\"stroke: #383838; stroke-width: 1.5;\" width=\"100\" x=\"32\" y=\"41.5\"/><text fill=\"#000000\" font-family=\"sans-serif\" font-size=\"12\" font-style=\"italic\" lengthAdjust=\"spacingAndGlyphs\" textLength=\"93\" x=\"35.5\" y=\"57.6387\">«attribute def»</text><text fill=\"#000000\" font-family=\"sans-serif\" font-size=\"12\" lengthAdjust=\"spacingAndGlyphs\" textLength=\"19\" x=\"72.5\" y=\"71.6074\">Sig</text></a></g><g id=\"E1.E3\"><a href=\"psysml:06ed69bb-03e4-455b-a820-630d0564221d\" target=\"_top\" title=\"psysml:06ed69bb-03e4-455b-a820-630d0564221d\" xlink:actuate=\"onRequest\" xlink:href=\"psysml:06ed69bb-03e4-455b-a820-630d0564221d\" xlink:show=\"new\" xlink:title=\"psysml:06ed69bb-03e4-455b-a820-630d0564221d\" xlink:type=\"simple\"><rect fill=\"#FFFFFF\" height=\"42.9375\" id=\"E3\" style=\"stroke: #383838; stroke-width: 1.5;\" width=\"100\" x=\"32\" y=\"119.5\"/><rect fill=\"#F8F8F8\" height=\"37.9375\" style=\"stroke: #383838; stroke-width: 1.5;\" width=\"100\" x=\"32\" y=\"119.5\"/><text fill=\"#000000\" font-family=\"sans-serif\" font-size=\"12\" font-style=\"italic\" lengthAdjust=\"spacingAndGlyphs\" textLength=\"93\" x=\"35.5\" y=\"135.6387\">«attribute def»</text><text fill=\"#000000\" font-family=\"sans-serif\" font-size=\"12\" lengthAdjust=\"spacingAndGlyphs\" textLength=\"22\" x=\"71\" y=\"149.6074\">Exit</text></a></g><g id=\"E1.E6\"><a href=\"psysml:6343fae7-e97a-4dac-816a-0d66812becae\" target=\"_top\" title=\"psysml:6343fae7-e97a-4dac-816a-0d66812becae\" xlink:actuate=\"onRequest\" xlink:href=\"psysml:6343fae7-e97a-4dac-816a-0d66812becae\" xlink:show=\"new\" xlink:title=\"psysml:6343fae7-e97a-4dac-816a-0d66812becae\" xlink:type=\"simple\"><rect fill=\"#FFFFFF\" height=\"42.9375\" id=\"E6\" style=\"stroke: #383838; stroke-width: 1.5;\" width=\"78\" x=\"43\" y=\"197.5\"/><rect fill=\"#F8F8F8\" height=\"37.9375\" style=\"stroke: #383838; stroke-width: 1.5;\" width=\"78\" x=\"43\" y=\"197.5\"/><text fill=\"#000000\" font-family=\"sans-serif\" font-size=\"12\" font-style=\"italic\" lengthAdjust=\"spacingAndGlyphs\" textLength=\"71\" x=\"46.5\" y=\"213.6387\">«state def»</text><text fill=\"#000000\" font-family=\"sans-serif\" font-size=\"12\" lengthAdjust=\"spacingAndGlyphs\" textLength=\"8\" x=\"78\" y=\"227.6074\">S</text></a></g><g id=\"E1.E4\"><a href=\"psysml:f6292196-12b9-4bba-a758-98820cb4f3f5\" target=\"_top\" title=\"psysml:f6292196-12b9-4bba-a758-98820cb4f3f5\" xlink:actuate=\"onRequest\" xlink:href=\"psysml:f6292196-12b9-4bba-a758-98820cb4f3f5\" xlink:show=\"new\" xlink:title=\"psysml:f6292196-12b9-4bba-a758-98820cb4f3f5\" xlink:type=\"simple\"><rect fill=\"#FFFFFF\" height=\"40\" id=\"E4\" rx=\"10\" ry=\"10\" style=\"stroke: #383838; stroke-width: 1.5;\" width=\"50\" x=\"57\" y=\"276\"/><rect fill=\"#F8F8F8\" height=\"23.9688\" rx=\"10\" ry=\"10\" style=\"stroke: #F8F8F8; stroke-width: 1.5;\" width=\"50\" x=\"57\" y=\"276\"/><rect fill=\"#F8F8F8\" height=\"10\" style=\"stroke: #F8F8F8; stroke-width: 1.5;\" width=\"50\" x=\"57\" y=\"289.9688\"/><rect fill=\"none\" height=\"40\" id=\"E4\" rx=\"10\" ry=\"10\" style=\"stroke: #383838; stroke-width: 1.5;\" width=\"50\" x=\"57\" y=\"276\"/><text fill=\"#000000\" font-family=\"sans-serif\" font-size=\"12\" lengthAdjust=\"spacingAndGlyphs\" textLength=\"8\" x=\"78\" y=\"292.1387\">p</text></a></g><g id=\"E1.E5\"><a href=\"psysml:d7bec2b6-e32c-41d0-a208-370a3f1c18c8\" target=\"_top\" title=\"psysml:d7bec2b6-e32c-41d0-a208-370a3f1c18c8\" xlink:actuate=\"onRequest\" xlink:href=\"psysml:d7bec2b6-e32c-41d0-a208-370a3f1c18c8\" xlink:show=\"new\" xlink:title=\"psysml:d7bec2b6-e32c-41d0-a208-370a3f1c18c8\" xlink:type=\"simple\"><rect fill=\"#FFFFFF\" height=\"42.9375\" id=\"E5\" rx=\"10\" ry=\"10\" style=\"stroke: #383838; stroke-width: 1.5;\" width=\"60\" x=\"52\" y=\"351.5\"/><rect fill=\"#F8F8F8\" height=\"37.9375\" rx=\"10\" ry=\"10\" style=\"stroke: #F8F8F8; stroke-width: 1.5;\" width=\"60\" x=\"52\" y=\"351.5\"/><rect fill=\"#F8F8F8\" height=\"10\" style=\"stroke: #F8F8F8; stroke-width: 1.5;\" width=\"60\" x=\"52\" y=\"379.4375\"/><rect fill=\"none\" height=\"42.9375\" id=\"E5\" rx=\"10\" ry=\"10\" style=\"stroke: #383838; stroke-width: 1.5;\" width=\"60\" x=\"52\" y=\"351.5\"/><text fill=\"#000000\" font-family=\"sans-serif\" font-size=\"12\" font-style=\"italic\" lengthAdjust=\"spacingAndGlyphs\" textLength=\"53\" x=\"55.5\" y=\"367.6387\">«action»</text><text fill=\"#000000\" font-family=\"sans-serif\" font-size=\"12\" lengthAdjust=\"spacingAndGlyphs\" textLength=\"20\" x=\"72\" y=\"381.6074\">act</text></a></g><!--MD5=[8d72db00cfbc23fea390daa3c8340435]\n",
       "@startuml\r\n",
       "skinparam ranksep 8\r\n",
       "skinparam rectangle {\r\n",
       " backgroundColor<<block>> LightGreen\r\n",
       "}\r\n",
       "left to right direction\r\n",
       "skinparam monochrome true\r\n",
       "skinparam classbackgroundcolor white\r\n",
       "skinparam shadowing false\r\n",
       "skinparam wrapWidth 300\r\n",
       "hide circle\r\n",
       "\r\n",
       "package \"StateTest\" as E1  [[psysml:7751d53a-3d7b-46fc-b5d8-bf0ae3c7070c ]]  {\r\n",
       "def \"Sig\" as E2  <<(T,blue)attribute def>> [[psysml:85dbfb10-d456-4c59-a9e0-99da33bb7a4b ]] \r\n",
       "def \"Exit\" as E3  <<(T,blue)attribute def>> [[psysml:06ed69bb-03e4-455b-a820-630d0564221d ]] \r\n",
       "rec usage \"p\" as E4  [[psysml:f6292196-12b9-4bba-a758-98820cb4f3f5 ]] {\r\n",
       "}\r\n",
       "rec usage \"act\" as E5  <<(T,blue)action>> [[psysml:d7bec2b6-e32c-41d0-a208-370a3f1c18c8 ]] {\r\n",
       "}\r\n",
       "def \"S\" as E6  <<(T,blue)state def>> [[psysml:6343fae7-e97a-4dac-816a-0d66812becae ]] \r\n",
       "}\r\n",
       "@enduml\r\n",
       "\n",
       "PlantUML version 1.2020.13(Sat Jun 13 12:26:38 UTC 2020)\n",
       "(EPL source distribution)\n",
       "Java Runtime: OpenJDK Runtime Environment\n",
       "JVM: OpenJDK 64-Bit Server VM\n",
       "Default Encoding: UTF-8\n",
       "Language: en\n",
       "Country: null\n",
       "--></g></svg>"
      ]
     },
     "execution_count": 19,
     "metadata": {},
     "output_type": "execute_result"
    }
   ],
   "source": [
    "%viz --style=\"LR\" --view=\"Interconnection\" \"StateTest\""
   ]
  },
  {
   "cell_type": "code",
   "execution_count": 20,
   "id": "duplicate-keeping",
   "metadata": {
    "execution": {
     "iopub.execute_input": "2021-03-25T13:48:12.010437Z",
     "iopub.status.busy": "2021-03-25T13:48:12.009856Z",
     "iopub.status.idle": "2021-03-25T13:48:12.076922Z",
     "shell.execute_reply": "2021-03-25T13:48:12.075293Z"
    }
   },
   "outputs": [
    {
     "data": {
      "image/svg+xml": [
       "<?xml version=\"1.0\" encoding=\"UTF-8\" standalone=\"no\"?><svg xmlns=\"http://www.w3.org/2000/svg\" xmlns:xlink=\"http://www.w3.org/1999/xlink\" contentScriptType=\"application/ecmascript\" contentStyleType=\"text/css\" height=\"553px\" preserveAspectRatio=\"none\" style=\"width:797px;height:553px;background:#000000;\" version=\"1.1\" viewBox=\"0 0 797 553\" width=\"797px\" zoomAndPan=\"magnify\"><defs/><g><rect fill=\"#1E0906\" height=\"1\" style=\"stroke: #1E0906; stroke-width: 1.0;\" width=\"1\" x=\"0\" y=\"0\"/><rect fill=\"#EAE2C9\" height=\"65.1875\" style=\"stroke: #EAE2C9; stroke-width: 1.0;\" width=\"796\" x=\"0\" y=\"0\"/><text fill=\"#000000\" font-family=\"sans-serif\" font-size=\"14\" font-weight=\"bold\" lengthAdjust=\"spacingAndGlyphs\" textLength=\"310\" x=\"10\" y=\"12.9951\">Add your own dedication into PlantUML</text><text fill=\"#000000\" font-family=\"sans-serif\" font-size=\"14\" lengthAdjust=\"spacingAndGlyphs\" textLength=\"0\" x=\"14\" y=\"29.292\"/><text fill=\"#000000\" font-family=\"sans-serif\" font-size=\"14\" lengthAdjust=\"spacingAndGlyphs\" textLength=\"154\" x=\"10\" y=\"45.5889\">For just $5 per month!</text><text fill=\"#000000\" font-family=\"sans-serif\" font-size=\"14\" lengthAdjust=\"spacingAndGlyphs\" textLength=\"69\" x=\"10\" y=\"61.8857\">Details on</text><a href=\"http://plantuml.com/dedication\" target=\"_top\" title=\"http://plantuml.com/dedication\" xlink:actuate=\"onRequest\" xlink:href=\"http://plantuml.com/dedication\" xlink:show=\"new\" xlink:title=\"http://plantuml.com/dedication\" xlink:type=\"simple\"><text fill=\"#000000\" font-family=\"sans-serif\" font-size=\"14\" font-style=\"italic\" lengthAdjust=\"spacingAndGlyphs\" textLength=\"213\" x=\"83\" y=\"61.8857\">http://plantuml.com/dedication</text></a><rect fill=\"#000000\" height=\"487.6094\" style=\"stroke: #000000; stroke-width: 1.0;\" width=\"796\" x=\"0\" y=\"65.1875\"/><rect fill=\"#33FF02\" height=\"21.2969\" style=\"stroke: #33FF02; stroke-width: 1.0;\" width=\"786\" x=\"5\" y=\"70.1875\"/><text fill=\"#000000\" font-family=\"sans-serif\" font-size=\"14\" font-weight=\"bold\" lengthAdjust=\"spacingAndGlyphs\" textLength=\"178\" x=\"6\" y=\"85.1875\">[From string (line 26) ]</text><text fill=\"#33FF02\" font-family=\"sans-serif\" font-size=\"14\" font-weight=\"bold\" lengthAdjust=\"spacingAndGlyphs\" textLength=\"0\" x=\"10\" y=\"105.4844\"/><text fill=\"#33FF02\" font-family=\"sans-serif\" font-size=\"14\" font-weight=\"bold\" lengthAdjust=\"spacingAndGlyphs\" textLength=\"79\" x=\"5\" y=\"121.7813\">@startuml</text><text fill=\"#33FF02\" font-family=\"sans-serif\" font-size=\"14\" font-weight=\"bold\" lengthAdjust=\"spacingAndGlyphs\" textLength=\"165\" x=\"5\" y=\"138.0781\">skinparam ranksep 8</text><text fill=\"#33FF02\" font-family=\"sans-serif\" font-size=\"14\" font-weight=\"bold\" lengthAdjust=\"spacingAndGlyphs\" textLength=\"164\" x=\"5\" y=\"154.375\">left to right direction</text><text fill=\"#33FF02\" font-family=\"sans-serif\" font-size=\"14\" font-weight=\"bold\" lengthAdjust=\"spacingAndGlyphs\" textLength=\"228\" x=\"5\" y=\"170.6719\">skinparam monochrome true</text><text fill=\"#33FF02\" font-family=\"sans-serif\" font-size=\"14\" font-weight=\"bold\" lengthAdjust=\"spacingAndGlyphs\" textLength=\"309\" x=\"5\" y=\"186.9688\">skinparam classbackgroundcolor white</text><text fill=\"#33FF02\" font-family=\"sans-serif\" font-size=\"14\" font-weight=\"bold\" lengthAdjust=\"spacingAndGlyphs\" textLength=\"215\" x=\"5\" y=\"203.2656\">skinparam shadowing false</text><text fill=\"#33FF02\" font-family=\"sans-serif\" font-size=\"14\" font-weight=\"bold\" lengthAdjust=\"spacingAndGlyphs\" textLength=\"206\" x=\"5\" y=\"219.5625\">skinparam wrapWidth 300</text><text fill=\"#33FF02\" font-family=\"sans-serif\" font-size=\"14\" font-weight=\"bold\" lengthAdjust=\"spacingAndGlyphs\" textLength=\"82\" x=\"5\" y=\"235.8594\">hide circle</text><text fill=\"#33FF02\" font-family=\"sans-serif\" font-size=\"14\" font-weight=\"bold\" lengthAdjust=\"spacingAndGlyphs\" textLength=\"0\" x=\"10\" y=\"252.1563\"/><text fill=\"#33FF02\" font-family=\"sans-serif\" font-size=\"14\" font-weight=\"bold\" lengthAdjust=\"spacingAndGlyphs\" textLength=\"780\" x=\"5\" y=\"268.4531\">rec usage \"act\" as E1  &lt;&lt;(T,blue)action&gt;&gt; [[psysml:d7bec2b6-e32c-41d0-a208-370a3f1c18c8 ]] {</text><text fill=\"#33FF02\" font-family=\"sans-serif\" font-size=\"14\" font-weight=\"bold\" lengthAdjust=\"spacingAndGlyphs\" textLength=\"10\" x=\"5\" y=\"284.75\">}</text><text fill=\"#33FF02\" font-family=\"sans-serif\" font-size=\"14\" font-weight=\"bold\" lengthAdjust=\"spacingAndGlyphs\" textLength=\"0\" x=\"10\" y=\"301.0469\"/><text fill=\"#33FF02\" font-family=\"sans-serif\" font-size=\"14\" font-weight=\"bold\" lengthAdjust=\"spacingAndGlyphs\" textLength=\"766\" x=\"5\" y=\"317.3438\">rec def \"S\" as E2  &lt;&lt;(T,blue)state def&gt;&gt; [[psysml:6343fae7-e97a-4dac-816a-0d66812becae ]] {</text><text fill=\"#33FF02\" font-family=\"sans-serif\" font-size=\"14\" font-weight=\"bold\" lengthAdjust=\"spacingAndGlyphs\" textLength=\"771\" x=\"5\" y=\"333.6406\">rec usage \"A\" as E3 &lt;&lt;perform action&gt;&gt; [[psysml:8359d21e-76a2-4117-aa0c-e497139fc203 ]] {</text><text fill=\"#33FF02\" font-family=\"sans-serif\" font-size=\"14\" font-weight=\"bold\" lengthAdjust=\"spacingAndGlyphs\" textLength=\"10\" x=\"5\" y=\"349.9375\">}</text><text fill=\"#33FF02\" font-family=\"sans-serif\" font-size=\"14\" font-weight=\"bold\" lengthAdjust=\"spacingAndGlyphs\" textLength=\"0\" x=\"10\" y=\"366.2344\"/><text fill=\"#33FF02\" font-family=\"sans-serif\" font-size=\"14\" font-weight=\"bold\" lengthAdjust=\"spacingAndGlyphs\" textLength=\"757\" x=\"5\" y=\"382.5313\">rec usage \"B\" as E4 &lt;&lt;perform action&gt;&gt; [[psysml:fefee72e-42fb-4d4a-8086-a3c1a01af58c ]] {</text><text fill=\"#33FF02\" font-family=\"sans-serif\" font-size=\"14\" font-weight=\"bold\" lengthAdjust=\"spacingAndGlyphs\" textLength=\"10\" x=\"5\" y=\"398.8281\">}</text><text fill=\"#33FF02\" font-family=\"sans-serif\" font-size=\"14\" font-weight=\"bold\" lengthAdjust=\"spacingAndGlyphs\" textLength=\"0\" x=\"10\" y=\"415.125\"/><text fill=\"#33FF02\" font-family=\"sans-serif\" font-size=\"14\" font-weight=\"bold\" lengthAdjust=\"spacingAndGlyphs\" textLength=\"786\" x=\"5\" y=\"431.4219\">rec usage \"act\" as E5 &lt;&lt;perform action&gt;&gt; [[psysml:0785ac9a-a9d7-4330-a90b-536bd85a1c26 ]] {</text><text fill=\"#33FF02\" font-family=\"sans-serif\" font-size=\"14\" font-weight=\"bold\" lengthAdjust=\"spacingAndGlyphs\" textLength=\"10\" x=\"5\" y=\"447.7188\">}</text><text fill=\"#33FF02\" font-family=\"sans-serif\" font-size=\"14\" font-weight=\"bold\" lengthAdjust=\"spacingAndGlyphs\" textLength=\"0\" x=\"10\" y=\"464.0156\"/><text fill=\"#33FF02\" font-family=\"sans-serif\" font-size=\"14\" font-weight=\"bold\" lengthAdjust=\"spacingAndGlyphs\" textLength=\"767\" x=\"5\" y=\"480.3125\">rec usage \"S1\" as E6  &lt;&lt;(T,blue)state&gt;&gt; [[psysml:df9bf7b7-ea8a-42e1-9b23-b8091030681c ]] {</text><text fill=\"#33FF02\" font-family=\"sans-serif\" font-size=\"14\" font-weight=\"bold\" lengthAdjust=\"spacingAndGlyphs\" textLength=\"10\" x=\"5\" y=\"496.6094\">}</text><text fill=\"#33FF02\" font-family=\"sans-serif\" font-size=\"14\" font-weight=\"bold\" lengthAdjust=\"spacingAndGlyphs\" textLength=\"0\" x=\"10\" y=\"512.9063\"/><text fill=\"#33FF02\" font-family=\"sans-serif\" font-size=\"14\" font-weight=\"bold\" lengthAdjust=\"spacingAndGlyphs\" textLength=\"10\" x=\"5\" y=\"529.2031\">{</text><text fill=\"#FF0000\" font-family=\"sans-serif\" font-size=\"14\" font-weight=\"bold\" lengthAdjust=\"spacingAndGlyphs\" textLength=\"106\" x=\"10\" y=\"545.5\">Syntax Error?</text><!--MD5=[eb554afb10d7cc93e7d6ead27034206e]\n",
       "@startuml\r\n",
       "skinparam ranksep 8\r\n",
       "left to right direction\r\n",
       "skinparam monochrome true\r\n",
       "skinparam classbackgroundcolor white\r\n",
       "skinparam shadowing false\r\n",
       "skinparam wrapWidth 300\r\n",
       "hide circle\r\n",
       "\r\n",
       "rec usage \"act\" as E1  <<(T,blue)action>> [[psysml:d7bec2b6-e32c-41d0-a208-370a3f1c18c8 ]] {\r\n",
       "}\r\n",
       "\r\n",
       "rec def \"S\" as E2  <<(T,blue)state def>> [[psysml:6343fae7-e97a-4dac-816a-0d66812becae ]] {\r\n",
       "rec usage \"A\" as E3 <<perform action>> [[psysml:8359d21e-76a2-4117-aa0c-e497139fc203 ]] {\r\n",
       "}\r\n",
       "\r\n",
       "rec usage \"B\" as E4 <<perform action>> [[psysml:fefee72e-42fb-4d4a-8086-a3c1a01af58c ]] {\r\n",
       "}\r\n",
       "\r\n",
       "rec usage \"act\" as E5 <<perform action>> [[psysml:0785ac9a-a9d7-4330-a90b-536bd85a1c26 ]] {\r\n",
       "}\r\n",
       "\r\n",
       "rec usage \"S1\" as E6  <<(T,blue)state>> [[psysml:df9bf7b7-ea8a-42e1-9b23-b8091030681c ]] {\r\n",
       "}\r\n",
       "\r\n",
       "{\r\n",
       "{\r\n",
       "}\r\n",
       "\r\n",
       "rec usage \"D\" as E7 <<perform action>> [[psysml:13511cfd-781a-4ec2-8fcf-a4a28f7b6394 ]] {\r\n",
       "}\r\n",
       "\r\n",
       "}\r\n",
       "\r\n",
       "rec usage \"S2\" as E8  <<(T,blue)state>> [[psysml:372708ac-c185-450b-8b20-5b0e6796b1d2 ]] {\r\n",
       "rec usage \"doAction\" as E9 <<send action>> [[psysml:db8ff6bb-65b2-44b6-939f-52bfaf067d5c ]] {\r\n",
       "portin \"$x\" as E10  [[psysml:f2ac6743-4d1a-421e-9e84-f3280953fc52 ]] \r\n",
       "portout \"$result\" as E11  [[psysml:58832e21-8b8c-4456-b993-1dc2ff31e51d ]] \r\n",
       "}\r\n",
       "\r\n",
       "}\r\n",
       "\r\n",
       "{\r\n",
       "{\r\n",
       "}\r\n",
       "\r\n",
       "}\r\n",
       "\r\n",
       "rec usage \"T\" as E12  <<(T,blue)transition>> [[psysml:8fe1fd83-9e96-4978-be75-1a7ead5c4a85 ]] {\r\n",
       "rec usage \"S2\" as E13  <<(T,blue)state>> [[psysml:372708ac-c185-450b-8b20-5b0e6796b1d2 ]] {\r\n",
       "rec usage \"doAction\" as E14 <<send action>> [[psysml:db8ff6bb-65b2-44b6-939f-52bfaf067d5c ]] {\r\n",
       "portin \"$x\" as E15  [[psysml:f2ac6743-4d1a-421e-9e84-f3280953fc52 ]] \r\n",
       "portout \"$result\" as E16  [[psysml:58832e21-8b8c-4456-b993-1dc2ff31e51d ]] \r\n",
       "}\r\n",
       "\r\n",
       "}\r\n",
       "\r\n",
       "{\r\n",
       "}\r\n",
       "\r\n",
       "portout \"$result\" as E17  [[psysml:19fa8e9c-57e3-4ff0-b297-c44a7cb57e28 ]] \r\n",
       "{\r\n",
       "}\r\n",
       "\r\n",
       "}\r\n",
       "\r\n",
       "}\r\n",
       "\r\n",
       "@enduml\r\n",
       "\n",
       "PlantUML version 1.2020.13(Sat Jun 13 12:26:38 UTC 2020)\n",
       "(EPL source distribution)\n",
       "Java Runtime: OpenJDK Runtime Environment\n",
       "JVM: OpenJDK 64-Bit Server VM\n",
       "Default Encoding: UTF-8\n",
       "Language: en\n",
       "Country: null\n",
       "--></g></svg>"
      ]
     },
     "execution_count": 20,
     "metadata": {},
     "output_type": "execute_result"
    }
   ],
   "source": [
    "%viz --style=\"LR\" --view=\"Action\" \"StateTest\""
   ]
  },
  {
   "cell_type": "code",
   "execution_count": 21,
   "id": "billion-shield",
   "metadata": {
    "execution": {
     "iopub.execute_input": "2021-03-25T13:48:12.127770Z",
     "iopub.status.busy": "2021-03-25T13:48:12.127223Z",
     "iopub.status.idle": "2021-03-25T13:48:12.566304Z",
     "shell.execute_reply": "2021-03-25T13:48:12.564763Z"
    }
   },
   "outputs": [
    {
     "data": {
      "image/svg+xml": [
       "<?xml version=\"1.0\" encoding=\"UTF-8\" standalone=\"no\"?><svg xmlns=\"http://www.w3.org/2000/svg\" xmlns:xlink=\"http://www.w3.org/1999/xlink\" contentScriptType=\"application/ecmascript\" contentStyleType=\"text/css\" height=\"583px\" preserveAspectRatio=\"none\" style=\"width:424px;height:583px;\" version=\"1.1\" viewBox=\"0 0 424 583\" width=\"424px\" zoomAndPan=\"magnify\"><defs/><g><!--MD5=[fbc87193dbaf4d95561dea2c320d4a47]\n",
       "cluster E1--><a href=\"psysml:7751d53a-3d7b-46fc-b5d8-bf0ae3c7070c\" target=\"_top\" title=\"psysml:7751d53a-3d7b-46fc-b5d8-bf0ae3c7070c\" xlink:actuate=\"onRequest\" xlink:href=\"psysml:7751d53a-3d7b-46fc-b5d8-bf0ae3c7070c\" xlink:show=\"new\" xlink:title=\"psysml:7751d53a-3d7b-46fc-b5d8-bf0ae3c7070c\" xlink:type=\"simple\"><polygon fill=\"#FFFFFF\" points=\"16,6,98,6,105,28.2969,402,28.2969,402,571,16,571,16,6\" style=\"stroke: #000000; stroke-width: 1.5;\"/><line style=\"stroke: #000000; stroke-width: 1.5;\" x1=\"16\" x2=\"105\" y1=\"28.2969\" y2=\"28.2969\"/><text fill=\"#000000\" font-family=\"sans-serif\" font-size=\"14\" font-weight=\"bold\" lengthAdjust=\"spacingAndGlyphs\" textLength=\"76\" x=\"20\" y=\"20.9951\">StateTest</text></a><!--MD5=[b4997ac47864f28c2f74865a473b2911]\n",
       "class E2--><a href=\"psysml:85dbfb10-d456-4c59-a9e0-99da33bb7a4b\" target=\"_top\" title=\"psysml:85dbfb10-d456-4c59-a9e0-99da33bb7a4b\" xlink:actuate=\"onRequest\" xlink:href=\"psysml:85dbfb10-d456-4c59-a9e0-99da33bb7a4b\" xlink:show=\"new\" xlink:title=\"psysml:85dbfb10-d456-4c59-a9e0-99da33bb7a4b\" xlink:type=\"simple\"><rect fill=\"#FFFFFF\" height=\"75.5469\" id=\"E2\" style=\"stroke: #383838; stroke-width: 1.5;\" width=\"95\" x=\"32\" y=\"41\"/><text fill=\"#000000\" font-family=\"sans-serif\" font-size=\"12\" font-style=\"italic\" lengthAdjust=\"spacingAndGlyphs\" textLength=\"93\" x=\"33\" y=\"57.1387\">«attribute def»</text><text fill=\"#000000\" font-family=\"sans-serif\" font-size=\"12\" lengthAdjust=\"spacingAndGlyphs\" textLength=\"19\" x=\"70\" y=\"71.1074\">Sig</text><line style=\"stroke: #383838; stroke-width: 1.5;\" x1=\"33\" x2=\"126\" y1=\"78.9375\" y2=\"78.9375\"/><text fill=\"#000000\" font-family=\"sans-serif\" font-size=\"11\" lengthAdjust=\"spacingAndGlyphs\" textLength=\"6\" x=\"38\" y=\"109.9526\">x</text><line style=\"stroke: #383838; stroke-width: 1.0;\" x1=\"33\" x2=\"52\" y1=\"93.3398\" y2=\"93.3398\"/><text fill=\"#000000\" font-family=\"sans-serif\" font-size=\"11\" lengthAdjust=\"spacingAndGlyphs\" textLength=\"55\" x=\"52\" y=\"96.6479\">attributes</text><line style=\"stroke: #383838; stroke-width: 1.0;\" x1=\"107\" x2=\"126\" y1=\"93.3398\" y2=\"93.3398\"/></a><!--MD5=[09b614a08d8cba4a07c9adeb5e0fee81]\n",
       "class E3--><a href=\"psysml:06ed69bb-03e4-455b-a820-630d0564221d\" target=\"_top\" title=\"psysml:06ed69bb-03e4-455b-a820-630d0564221d\" xlink:actuate=\"onRequest\" xlink:href=\"psysml:06ed69bb-03e4-455b-a820-630d0564221d\" xlink:show=\"new\" xlink:title=\"psysml:06ed69bb-03e4-455b-a820-630d0564221d\" xlink:type=\"simple\"><rect fill=\"#FFFFFF\" height=\"45.9375\" id=\"E3\" style=\"stroke: #383838; stroke-width: 1.5;\" width=\"95\" x=\"32\" y=\"152\"/><text fill=\"#000000\" font-family=\"sans-serif\" font-size=\"12\" font-style=\"italic\" lengthAdjust=\"spacingAndGlyphs\" textLength=\"93\" x=\"33\" y=\"168.1387\">«attribute def»</text><text fill=\"#000000\" font-family=\"sans-serif\" font-size=\"12\" lengthAdjust=\"spacingAndGlyphs\" textLength=\"22\" x=\"68.5\" y=\"182.1074\">Exit</text><line style=\"stroke: #383838; stroke-width: 1.5;\" x1=\"33\" x2=\"126\" y1=\"189.9375\" y2=\"189.9375\"/></a><!--MD5=[ebbe1d658d1005bcc118a6aa81145e00]\n",
       "class E4--><a href=\"psysml:f6292196-12b9-4bba-a758-98820cb4f3f5\" target=\"_top\" title=\"psysml:f6292196-12b9-4bba-a758-98820cb4f3f5\" xlink:actuate=\"onRequest\" xlink:href=\"psysml:f6292196-12b9-4bba-a758-98820cb4f3f5\" xlink:show=\"new\" xlink:title=\"psysml:f6292196-12b9-4bba-a758-98820cb4f3f5\" xlink:type=\"simple\"><rect fill=\"#FFFFFF\" height=\"45.9375\" id=\"E4\" rx=\"10\" ry=\"10\" style=\"stroke: #383838; stroke-width: 1.5;\" width=\"42\" x=\"58.5\" y=\"233\"/><text fill=\"#000000\" font-family=\"sans-serif\" font-size=\"12\" font-style=\"italic\" lengthAdjust=\"spacingAndGlyphs\" textLength=\"40\" x=\"59.5\" y=\"249.1387\">«part»</text><text fill=\"#000000\" font-family=\"sans-serif\" font-size=\"12\" lengthAdjust=\"spacingAndGlyphs\" textLength=\"8\" x=\"75.5\" y=\"263.1074\">p</text><line style=\"stroke: #383838; stroke-width: 1.5;\" x1=\"59.5\" x2=\"99.5\" y1=\"270.9375\" y2=\"270.9375\"/></a><!--MD5=[270fce915f116d4de14055a7c1d9a0f3]\n",
       "class E5--><a href=\"psysml:d7bec2b6-e32c-41d0-a208-370a3f1c18c8\" target=\"_top\" title=\"psysml:d7bec2b6-e32c-41d0-a208-370a3f1c18c8\" xlink:actuate=\"onRequest\" xlink:href=\"psysml:d7bec2b6-e32c-41d0-a208-370a3f1c18c8\" xlink:show=\"new\" xlink:title=\"psysml:d7bec2b6-e32c-41d0-a208-370a3f1c18c8\" xlink:type=\"simple\"><rect fill=\"#FFFFFF\" height=\"45.9375\" id=\"E5\" rx=\"10\" ry=\"10\" style=\"stroke: #383838; stroke-width: 1.5;\" width=\"55\" x=\"52\" y=\"314\"/><text fill=\"#000000\" font-family=\"sans-serif\" font-size=\"12\" font-style=\"italic\" lengthAdjust=\"spacingAndGlyphs\" textLength=\"53\" x=\"53\" y=\"330.1387\">«action»</text><text fill=\"#000000\" font-family=\"sans-serif\" font-size=\"12\" lengthAdjust=\"spacingAndGlyphs\" textLength=\"20\" x=\"69.5\" y=\"344.1074\">act</text><line style=\"stroke: #383838; stroke-width: 1.5;\" x1=\"53\" x2=\"106\" y1=\"351.9375\" y2=\"351.9375\"/></a><!--MD5=[60a26617385b1d2d0262a64233df1f8d]\n",
       "class E6--><a href=\"psysml:6343fae7-e97a-4dac-816a-0d66812becae\" target=\"_top\" title=\"psysml:6343fae7-e97a-4dac-816a-0d66812becae\" xlink:actuate=\"onRequest\" xlink:href=\"psysml:6343fae7-e97a-4dac-816a-0d66812becae\" xlink:show=\"new\" xlink:title=\"psysml:6343fae7-e97a-4dac-816a-0d66812becae\" xlink:type=\"simple\"><rect fill=\"#FFFFFF\" height=\"160.375\" id=\"E6\" style=\"stroke: #383838; stroke-width: 1.5;\" width=\"95\" x=\"32\" y=\"395\"/><text fill=\"#000000\" font-family=\"sans-serif\" font-size=\"12\" font-style=\"italic\" lengthAdjust=\"spacingAndGlyphs\" textLength=\"71\" x=\"44\" y=\"411.1387\">«state def»</text><text fill=\"#000000\" font-family=\"sans-serif\" font-size=\"12\" lengthAdjust=\"spacingAndGlyphs\" textLength=\"8\" x=\"75.5\" y=\"425.1074\">S</text><line style=\"stroke: #383838; stroke-width: 1.5;\" x1=\"33\" x2=\"126\" y1=\"432.9375\" y2=\"432.9375\"/><text fill=\"#000000\" font-family=\"sans-serif\" font-size=\"11\" lengthAdjust=\"spacingAndGlyphs\" textLength=\"17\" x=\"38\" y=\"463.9526\">act</text><text fill=\"#000000\" font-family=\"sans-serif\" font-size=\"11\" lengthAdjust=\"spacingAndGlyphs\" textLength=\"7\" x=\"38\" y=\"476.7573\">A</text><text fill=\"#000000\" font-family=\"sans-serif\" font-size=\"11\" lengthAdjust=\"spacingAndGlyphs\" textLength=\"8\" x=\"38\" y=\"489.562\">B</text><line style=\"stroke: #383838; stroke-width: 1.0;\" x1=\"33\" x2=\"36\" y1=\"447.3398\" y2=\"447.3398\"/><text fill=\"#000000\" font-family=\"sans-serif\" font-size=\"11\" lengthAdjust=\"spacingAndGlyphs\" textLength=\"87\" x=\"36\" y=\"450.6479\">performActions</text><line style=\"stroke: #383838; stroke-width: 1.0;\" x1=\"123\" x2=\"126\" y1=\"447.3398\" y2=\"447.3398\"/><text fill=\"#000000\" font-family=\"sans-serif\" font-size=\"11\" lengthAdjust=\"spacingAndGlyphs\" textLength=\"15\" x=\"38\" y=\"519.1714\">S1</text><line style=\"stroke: #383838; stroke-width: 1.0;\" x1=\"33\" x2=\"61.5\" y1=\"502.5586\" y2=\"502.5586\"/><text fill=\"#000000\" font-family=\"sans-serif\" font-size=\"11\" lengthAdjust=\"spacingAndGlyphs\" textLength=\"36\" x=\"61.5\" y=\"505.8667\">states</text><line style=\"stroke: #383838; stroke-width: 1.0;\" x1=\"97.5\" x2=\"126\" y1=\"502.5586\" y2=\"502.5586\"/><text fill=\"#000000\" font-family=\"sans-serif\" font-size=\"11\" lengthAdjust=\"spacingAndGlyphs\" textLength=\"7\" x=\"38\" y=\"548.7808\">T</text><line style=\"stroke: #383838; stroke-width: 1.0;\" x1=\"33\" x2=\"49\" y1=\"532.168\" y2=\"532.168\"/><text fill=\"#000000\" font-family=\"sans-serif\" font-size=\"11\" lengthAdjust=\"spacingAndGlyphs\" textLength=\"61\" x=\"49\" y=\"535.4761\">transitions</text><line style=\"stroke: #383838; stroke-width: 1.0;\" x1=\"110\" x2=\"126\" y1=\"532.168\" y2=\"532.168\"/></a><!--MD5=[1dd1bfd58a279cf63c5f349dbc8fc6a1]\n",
       "class E11--><a href=\"psysml:372708ac-c185-450b-8b20-5b0e6796b1d2\" target=\"_top\" title=\"psysml:372708ac-c185-450b-8b20-5b0e6796b1d2\" xlink:actuate=\"onRequest\" xlink:href=\"psysml:372708ac-c185-450b-8b20-5b0e6796b1d2\" xlink:show=\"new\" xlink:title=\"psysml:372708ac-c185-450b-8b20-5b0e6796b1d2\" xlink:type=\"simple\"><rect fill=\"#FFFFFF\" height=\"45.9375\" id=\"E11\" rx=\"10\" ry=\"10\" style=\"stroke: #383838; stroke-width: 1.5;\" width=\"49\" x=\"187\" y=\"452\"/><text fill=\"#000000\" font-family=\"sans-serif\" font-size=\"12\" font-style=\"italic\" lengthAdjust=\"spacingAndGlyphs\" textLength=\"47\" x=\"188\" y=\"468.1387\">«state»</text><text fill=\"#000000\" font-family=\"sans-serif\" font-size=\"12\" lengthAdjust=\"spacingAndGlyphs\" textLength=\"16\" x=\"203.5\" y=\"482.1074\">S2</text><line style=\"stroke: #383838; stroke-width: 1.5;\" x1=\"188\" x2=\"235\" y1=\"489.9375\" y2=\"489.9375\"/></a><!--MD5=[49a0ec8f00dab7302a31f22d0f0fe584]\n",
       "class E12--><a href=\"psysml:db8ff6bb-65b2-44b6-939f-52bfaf067d5c\" target=\"_top\" title=\"psysml:db8ff6bb-65b2-44b6-939f-52bfaf067d5c\" xlink:actuate=\"onRequest\" xlink:href=\"psysml:db8ff6bb-65b2-44b6-939f-52bfaf067d5c\" xlink:show=\"new\" xlink:title=\"psysml:db8ff6bb-65b2-44b6-939f-52bfaf067d5c\" xlink:type=\"simple\"><rect fill=\"#FFFFFF\" height=\"75.5469\" id=\"E12\" rx=\"10\" ry=\"10\" style=\"stroke: #383838; stroke-width: 1.5;\" width=\"90\" x=\"296\" y=\"437\"/><text fill=\"#000000\" font-family=\"sans-serif\" font-size=\"12\" font-style=\"italic\" lengthAdjust=\"spacingAndGlyphs\" textLength=\"88\" x=\"297\" y=\"453.1387\">«send action»</text><text fill=\"#000000\" font-family=\"sans-serif\" font-size=\"12\" lengthAdjust=\"spacingAndGlyphs\" textLength=\"55\" x=\"313.5\" y=\"467.1074\">doAction</text><line style=\"stroke: #383838; stroke-width: 1.5;\" x1=\"297\" x2=\"385\" y1=\"474.9375\" y2=\"474.9375\"/><text fill=\"#000000\" font-family=\"sans-serif\" font-size=\"11\" lengthAdjust=\"spacingAndGlyphs\" textLength=\"25\" x=\"302\" y=\"505.9526\">item</text><line style=\"stroke: #383838; stroke-width: 1.0;\" x1=\"297\" x2=\"303.5\" y1=\"489.3398\" y2=\"489.3398\"/><text fill=\"#000000\" font-family=\"sans-serif\" font-size=\"11\" lengthAdjust=\"spacingAndGlyphs\" textLength=\"75\" x=\"303.5\" y=\"492.6479\">itemFeatures</text><line style=\"stroke: #383838; stroke-width: 1.0;\" x1=\"378.5\" x2=\"385\" y1=\"489.3398\" y2=\"489.3398\"/></a><!--MD5=[1f5f03483f7de0d5b3680a7f6650997f]\n",
       "reverse link E6 to E11--><a href=\"psysml:372708ac-c185-450b-8b20-5b0e6796b1d2\" target=\"_top\" title=\"psysml:372708ac-c185-450b-8b20-5b0e6796b1d2\" xlink:actuate=\"onRequest\" xlink:href=\"psysml:372708ac-c185-450b-8b20-5b0e6796b1d2\" xlink:show=\"new\" xlink:title=\"psysml:372708ac-c185-450b-8b20-5b0e6796b1d2\" xlink:type=\"simple\"><path d=\"M140.15,475 C156.69,475 173.69,475 186.84,475 \" fill=\"none\" id=\"E6&lt;-E11\" style=\"stroke: #383838; stroke-width: 1.0;\"/><polygon fill=\"#383838\" points=\"127.07,475,133.07,479,139.07,475,133.07,471,127.07,475\" style=\"stroke: #383838; stroke-width: 1.0;\"/></a><!--MD5=[94adabc162ce7e41b39f13be14fbaeb3]\n",
       "reverse link E11 to E12--><a href=\"psysml:db8ff6bb-65b2-44b6-939f-52bfaf067d5c\" target=\"_top\" title=\"psysml:db8ff6bb-65b2-44b6-939f-52bfaf067d5c\" xlink:actuate=\"onRequest\" xlink:href=\"psysml:db8ff6bb-65b2-44b6-939f-52bfaf067d5c\" xlink:show=\"new\" xlink:title=\"psysml:db8ff6bb-65b2-44b6-939f-52bfaf067d5c\" xlink:type=\"simple\"><path d=\"M249.28,475 C263.81,475 280.62,475 295.8,475 \" fill=\"none\" id=\"E11&lt;-E12\" style=\"stroke: #383838; stroke-width: 1.0;\"/><polygon fill=\"#FFFFFF\" points=\"236.18,475,242.18,479,248.18,475,242.18,471,236.18,475\" style=\"stroke: #383838; stroke-width: 1.0;\"/></a><!--MD5=[b3ea03313385c6ec37fa6fe3ade1b2b9]\n",
       "@startuml\r\n",
       "left to right direction\r\n",
       "skinparam monochrome true\r\n",
       "skinparam classbackgroundcolor white\r\n",
       "skinparam shadowing false\r\n",
       "skinparam wrapWidth 300\r\n",
       "hide circle\r\n",
       "\r\n",
       "package \"StateTest\" as E1  [[psysml:7751d53a-3d7b-46fc-b5d8-bf0ae3c7070c ]]  {\r\n",
       "comp def \"Sig\" as E2  <<(T,blue)attribute def>> [[psysml:85dbfb10-d456-4c59-a9e0-99da33bb7a4b ]] {\r\n",
       "- - attributes - -\r\n",
       "x\r\n",
       "}\r\n",
       "comp def \"Exit\" as E3  <<(T,blue)attribute def>> [[psysml:06ed69bb-03e4-455b-a820-630d0564221d ]] {\r\n",
       "}\r\n",
       "comp usage \"p\" as E4  <<(T,blue)part>> [[psysml:f6292196-12b9-4bba-a758-98820cb4f3f5 ]] {\r\n",
       "}\r\n",
       "comp usage \"act\" as E5  <<(T,blue)action>> [[psysml:d7bec2b6-e32c-41d0-a208-370a3f1c18c8 ]] {\r\n",
       "}\r\n",
       "comp def \"S\" as E6  <<(T,blue)state def>> [[psysml:6343fae7-e97a-4dac-816a-0d66812becae ]] {\r\n",
       "- - performActions - -\r\n",
       "act\r\n",
       "A\r\n",
       "B\r\n",
       "- - states - -\r\n",
       "S1\r\n",
       "- - transitions - -\r\n",
       "T\r\n",
       "}\r\n",
       "comp usage \"S2\" as E11  <<(T,blue)state>> [[psysml:372708ac-c185-450b-8b20-5b0e6796b1d2 ]] {\r\n",
       "}\r\n",
       "comp usage \"doAction\" as E12 <<send action>> [[psysml:db8ff6bb-65b2-44b6-939f-52bfaf067d5c ]] {\r\n",
       "- - itemFeatures - -\r\n",
       "item\r\n",
       "}\r\n",
       "E6 *- - E11 [[psysml:372708ac-c185-450b-8b20-5b0e6796b1d2 ]] \r\n",
       "E11 o- - E12 [[psysml:db8ff6bb-65b2-44b6-939f-52bfaf067d5c ]] \r\n",
       "}\r\n",
       "@enduml\r\n",
       "\n",
       "PlantUML version 1.2020.13(Sat Jun 13 12:26:38 UTC 2020)\n",
       "(EPL source distribution)\n",
       "Java Runtime: OpenJDK Runtime Environment\n",
       "JVM: OpenJDK 64-Bit Server VM\n",
       "Default Encoding: UTF-8\n",
       "Language: en\n",
       "Country: null\n",
       "--></g></svg>"
      ]
     },
     "execution_count": 21,
     "metadata": {},
     "output_type": "execute_result"
    }
   ],
   "source": [
    "%viz --style=\"LR\" --view=\"Sequence\" \"StateTest\""
   ]
  },
  {
   "cell_type": "code",
   "execution_count": 22,
   "id": "other-conversation",
   "metadata": {
    "execution": {
     "iopub.execute_input": "2021-03-25T13:48:12.618613Z",
     "iopub.status.busy": "2021-03-25T13:48:12.617834Z",
     "iopub.status.idle": "2021-03-25T13:48:12.796291Z",
     "shell.execute_reply": "2021-03-25T13:48:12.794590Z"
    }
   },
   "outputs": [
    {
     "data": {
      "image/svg+xml": [
       "<?xml version=\"1.0\" encoding=\"UTF-8\" standalone=\"no\"?><svg xmlns=\"http://www.w3.org/2000/svg\" xmlns:xlink=\"http://www.w3.org/1999/xlink\" contentScriptType=\"application/ecmascript\" contentStyleType=\"text/css\" height=\"633px\" preserveAspectRatio=\"none\" style=\"width:652px;height:633px;\" version=\"1.1\" viewBox=\"0 0 652 633\" width=\"652px\" zoomAndPan=\"magnify\"><defs/><g><!--MD5=[fbc87193dbaf4d95561dea2c320d4a47]\n",
       "cluster E1--><a href=\"psysml:7751d53a-3d7b-46fc-b5d8-bf0ae3c7070c\" target=\"_top\" title=\"psysml:7751d53a-3d7b-46fc-b5d8-bf0ae3c7070c\" xlink:actuate=\"onRequest\" xlink:href=\"psysml:7751d53a-3d7b-46fc-b5d8-bf0ae3c7070c\" xlink:show=\"new\" xlink:title=\"psysml:7751d53a-3d7b-46fc-b5d8-bf0ae3c7070c\" xlink:type=\"simple\"><polygon fill=\"#FFFFFF\" points=\"16,6,98,6,105,28.2969,630,28.2969,630,621,16,621,16,6\" style=\"stroke: #000000; stroke-width: 1.5;\"/><line style=\"stroke: #000000; stroke-width: 1.5;\" x1=\"16\" x2=\"105\" y1=\"28.2969\" y2=\"28.2969\"/><text fill=\"#000000\" font-family=\"sans-serif\" font-size=\"14\" font-weight=\"bold\" lengthAdjust=\"spacingAndGlyphs\" textLength=\"76\" x=\"20\" y=\"20.9951\">StateTest</text></a><!--MD5=[14e3b0961a2654348d326746436168a1]\n",
       "cluster E6--><a href=\"psysml:6343fae7-e97a-4dac-816a-0d66812becae\" target=\"_top\" title=\"psysml:6343fae7-e97a-4dac-816a-0d66812becae\" xlink:actuate=\"onRequest\" xlink:href=\"psysml:6343fae7-e97a-4dac-816a-0d66812becae\" xlink:show=\"new\" xlink:title=\"psysml:6343fae7-e97a-4dac-816a-0d66812becae\" xlink:type=\"simple\"><rect fill=\"#FFFFFF\" height=\"223\" id=\"E6\" style=\"stroke: #383838; stroke-width: 1.5;\" width=\"552.5\" x=\"53.5\" y=\"49\"/><rect fill=\"#F8F8F8\" height=\"37.9375\" style=\"stroke: #383838; stroke-width: 1.5;\" width=\"552.5\" x=\"53.5\" y=\"49\"/><text fill=\"#000000\" font-family=\"sans-serif\" font-size=\"12\" font-style=\"italic\" lengthAdjust=\"spacingAndGlyphs\" textLength=\"71\" x=\"294.25\" y=\"65.1387\">«state def»</text><text fill=\"#000000\" font-family=\"sans-serif\" font-size=\"12\" lengthAdjust=\"spacingAndGlyphs\" textLength=\"8\" x=\"325.75\" y=\"79.1074\">S</text><line style=\"stroke: #383838; stroke-width: 1.0;\" x1=\"53.5\" x2=\"606\" y1=\"132.8438\" y2=\"132.8438\"/><text fill=\"#000000\" font-family=\"sans-serif\" font-size=\"12\" font-weight=\"bold\" lengthAdjust=\"spacingAndGlyphs\" textLength=\"38\" x=\"58.5\" y=\"100.0762\">entry</text><text fill=\"#000000\" font-family=\"sans-serif\" font-size=\"12\" lengthAdjust=\"spacingAndGlyphs\" textLength=\"16\" x=\"96.5\" y=\"100.0762\">/ A</text><text fill=\"#000000\" font-family=\"sans-serif\" font-size=\"12\" font-weight=\"bold\" lengthAdjust=\"spacingAndGlyphs\" textLength=\"18\" x=\"58.5\" y=\"114.0449\">do</text><text fill=\"#000000\" font-family=\"sans-serif\" font-size=\"12\" lengthAdjust=\"spacingAndGlyphs\" textLength=\"16\" x=\"76.5\" y=\"114.0449\">/ B</text><text fill=\"#000000\" font-family=\"sans-serif\" font-size=\"12\" font-weight=\"bold\" lengthAdjust=\"spacingAndGlyphs\" textLength=\"26\" x=\"58.5\" y=\"128.0137\">exit</text><text fill=\"#000000\" font-family=\"sans-serif\" font-size=\"12\" lengthAdjust=\"spacingAndGlyphs\" textLength=\"28\" x=\"84.5\" y=\"128.0137\">/ act</text></a><!--MD5=[b4997ac47864f28c2f74865a473b2911]\n",
       "class E2--><a href=\"psysml:85dbfb10-d456-4c59-a9e0-99da33bb7a4b\" target=\"_top\" title=\"psysml:85dbfb10-d456-4c59-a9e0-99da33bb7a4b\" xlink:actuate=\"onRequest\" xlink:href=\"psysml:85dbfb10-d456-4c59-a9e0-99da33bb7a4b\" xlink:show=\"new\" xlink:title=\"psysml:85dbfb10-d456-4c59-a9e0-99da33bb7a4b\" xlink:type=\"simple\"><rect fill=\"#FFFFFF\" height=\"75.5469\" id=\"E2\" style=\"stroke: #383838; stroke-width: 1.5;\" width=\"95\" x=\"32\" y=\"288\"/><text fill=\"#000000\" font-family=\"sans-serif\" font-size=\"12\" font-style=\"italic\" lengthAdjust=\"spacingAndGlyphs\" textLength=\"93\" x=\"33\" y=\"304.1387\">«attribute def»</text><text fill=\"#000000\" font-family=\"sans-serif\" font-size=\"12\" lengthAdjust=\"spacingAndGlyphs\" textLength=\"19\" x=\"70\" y=\"318.1074\">Sig</text><line style=\"stroke: #383838; stroke-width: 1.5;\" x1=\"33\" x2=\"126\" y1=\"325.9375\" y2=\"325.9375\"/><text fill=\"#000000\" font-family=\"sans-serif\" font-size=\"11\" lengthAdjust=\"spacingAndGlyphs\" textLength=\"6\" x=\"38\" y=\"356.9526\">x</text><line style=\"stroke: #383838; stroke-width: 1.0;\" x1=\"33\" x2=\"52\" y1=\"340.3398\" y2=\"340.3398\"/><text fill=\"#000000\" font-family=\"sans-serif\" font-size=\"11\" lengthAdjust=\"spacingAndGlyphs\" textLength=\"55\" x=\"52\" y=\"343.6479\">attributes</text><line style=\"stroke: #383838; stroke-width: 1.0;\" x1=\"107\" x2=\"126\" y1=\"340.3398\" y2=\"340.3398\"/></a><!--MD5=[09b614a08d8cba4a07c9adeb5e0fee81]\n",
       "class E3--><a href=\"psysml:06ed69bb-03e4-455b-a820-630d0564221d\" target=\"_top\" title=\"psysml:06ed69bb-03e4-455b-a820-630d0564221d\" xlink:actuate=\"onRequest\" xlink:href=\"psysml:06ed69bb-03e4-455b-a820-630d0564221d\" xlink:show=\"new\" xlink:title=\"psysml:06ed69bb-03e4-455b-a820-630d0564221d\" xlink:type=\"simple\"><rect fill=\"#FFFFFF\" height=\"45.9375\" id=\"E3\" style=\"stroke: #383838; stroke-width: 1.5;\" width=\"95\" x=\"32\" y=\"399\"/><text fill=\"#000000\" font-family=\"sans-serif\" font-size=\"12\" font-style=\"italic\" lengthAdjust=\"spacingAndGlyphs\" textLength=\"93\" x=\"33\" y=\"415.1387\">«attribute def»</text><text fill=\"#000000\" font-family=\"sans-serif\" font-size=\"12\" lengthAdjust=\"spacingAndGlyphs\" textLength=\"22\" x=\"68.5\" y=\"429.1074\">Exit</text><line style=\"stroke: #383838; stroke-width: 1.5;\" x1=\"33\" x2=\"126\" y1=\"436.9375\" y2=\"436.9375\"/></a><!--MD5=[ebbe1d658d1005bcc118a6aa81145e00]\n",
       "class E4--><a href=\"psysml:f6292196-12b9-4bba-a758-98820cb4f3f5\" target=\"_top\" title=\"psysml:f6292196-12b9-4bba-a758-98820cb4f3f5\" xlink:actuate=\"onRequest\" xlink:href=\"psysml:f6292196-12b9-4bba-a758-98820cb4f3f5\" xlink:show=\"new\" xlink:title=\"psysml:f6292196-12b9-4bba-a758-98820cb4f3f5\" xlink:type=\"simple\"><rect fill=\"#FFFFFF\" height=\"45.9375\" id=\"E4\" rx=\"10\" ry=\"10\" style=\"stroke: #383838; stroke-width: 1.5;\" width=\"42\" x=\"58.5\" y=\"480\"/><text fill=\"#000000\" font-family=\"sans-serif\" font-size=\"12\" font-style=\"italic\" lengthAdjust=\"spacingAndGlyphs\" textLength=\"40\" x=\"59.5\" y=\"496.1387\">«part»</text><text fill=\"#000000\" font-family=\"sans-serif\" font-size=\"12\" lengthAdjust=\"spacingAndGlyphs\" textLength=\"8\" x=\"75.5\" y=\"510.1074\">p</text><line style=\"stroke: #383838; stroke-width: 1.5;\" x1=\"59.5\" x2=\"99.5\" y1=\"517.9375\" y2=\"517.9375\"/></a><g id=\"E1.E5\"><a href=\"psysml:d7bec2b6-e32c-41d0-a208-370a3f1c18c8\" target=\"_top\" title=\"psysml:d7bec2b6-e32c-41d0-a208-370a3f1c18c8\" xlink:actuate=\"onRequest\" xlink:href=\"psysml:d7bec2b6-e32c-41d0-a208-370a3f1c18c8\" xlink:show=\"new\" xlink:title=\"psysml:d7bec2b6-e32c-41d0-a208-370a3f1c18c8\" xlink:type=\"simple\"><rect fill=\"#FFFFFF\" height=\"42.9375\" id=\"E5\" rx=\"10\" ry=\"10\" style=\"stroke: #383838; stroke-width: 1.5;\" width=\"60\" x=\"49.5\" y=\"561.5\"/><rect fill=\"#F8F8F8\" height=\"37.9375\" rx=\"10\" ry=\"10\" style=\"stroke: #F8F8F8; stroke-width: 1.5;\" width=\"60\" x=\"49.5\" y=\"561.5\"/><rect fill=\"#F8F8F8\" height=\"10\" style=\"stroke: #F8F8F8; stroke-width: 1.5;\" width=\"60\" x=\"49.5\" y=\"589.4375\"/><rect fill=\"none\" height=\"42.9375\" id=\"E5\" rx=\"10\" ry=\"10\" style=\"stroke: #383838; stroke-width: 1.5;\" width=\"60\" x=\"49.5\" y=\"561.5\"/><text fill=\"#000000\" font-family=\"sans-serif\" font-size=\"12\" font-style=\"italic\" lengthAdjust=\"spacingAndGlyphs\" textLength=\"53\" x=\"53\" y=\"577.6387\">«action»</text><text fill=\"#000000\" font-family=\"sans-serif\" font-size=\"12\" lengthAdjust=\"spacingAndGlyphs\" textLength=\"20\" x=\"69.5\" y=\"591.6074\">act</text></a></g><ellipse cx=\"79.5\" cy=\"194\" fill=\"#000000\" rx=\"10\" ry=\"10\" style=\"stroke: none; stroke-width: 1.0;\"/><ellipse cx=\"580\" cy=\"196\" fill=\"none\" rx=\"10\" ry=\"10\" style=\"stroke: #000000; stroke-width: 1.0;\"/><ellipse cx=\"580.5\" cy=\"196.5\" fill=\"#000000\" rx=\"6\" ry=\"6\" style=\"stroke: none; stroke-width: 1.0;\"/><g id=\"E1.E6.E7\"><a href=\"psysml:df9bf7b7-ea8a-42e1-9b23-b8091030681c\" target=\"_top\" title=\"psysml:df9bf7b7-ea8a-42e1-9b23-b8091030681c\" xlink:actuate=\"onRequest\" xlink:href=\"psysml:df9bf7b7-ea8a-42e1-9b23-b8091030681c\" xlink:show=\"new\" xlink:title=\"psysml:df9bf7b7-ea8a-42e1-9b23-b8091030681c\" xlink:type=\"simple\"><rect fill=\"#FFFFFF\" height=\"40\" id=\"E7\" rx=\"10\" ry=\"10\" style=\"stroke: #383838; stroke-width: 1.5;\" width=\"50\" x=\"188\" y=\"174\"/><rect fill=\"#F8F8F8\" height=\"23.9688\" rx=\"10\" ry=\"10\" style=\"stroke: #F8F8F8; stroke-width: 1.5;\" width=\"50\" x=\"188\" y=\"174\"/><rect fill=\"#F8F8F8\" height=\"10\" style=\"stroke: #F8F8F8; stroke-width: 1.5;\" width=\"50\" x=\"188\" y=\"187.9688\"/><rect fill=\"none\" height=\"40\" id=\"E7\" rx=\"10\" ry=\"10\" style=\"stroke: #383838; stroke-width: 1.5;\" width=\"50\" x=\"188\" y=\"174\"/><text fill=\"#000000\" font-family=\"sans-serif\" font-size=\"12\" lengthAdjust=\"spacingAndGlyphs\" textLength=\"16\" x=\"205\" y=\"190.1387\">S1</text></a></g><g id=\"E1.E6.E8\"><a href=\"psysml:372708ac-c185-450b-8b20-5b0e6796b1d2\" target=\"_top\" title=\"psysml:372708ac-c185-450b-8b20-5b0e6796b1d2\" xlink:actuate=\"onRequest\" xlink:href=\"psysml:372708ac-c185-450b-8b20-5b0e6796b1d2\" xlink:show=\"new\" xlink:title=\"psysml:372708ac-c185-450b-8b20-5b0e6796b1d2\" xlink:type=\"simple\"><rect fill=\"#FFFFFF\" height=\"47.9375\" id=\"E8\" rx=\"10\" ry=\"10\" style=\"stroke: #383838; stroke-width: 1.5;\" width=\"50\" x=\"435\" y=\"172\"/><rect fill=\"#F8F8F8\" height=\"23.9688\" rx=\"10\" ry=\"10\" style=\"stroke: #F8F8F8; stroke-width: 1.5;\" width=\"50\" x=\"435\" y=\"172\"/><rect fill=\"#F8F8F8\" height=\"10\" style=\"stroke: #F8F8F8; stroke-width: 1.5;\" width=\"50\" x=\"435\" y=\"185.9688\"/><rect fill=\"none\" height=\"47.9375\" id=\"E8\" rx=\"10\" ry=\"10\" style=\"stroke: #383838; stroke-width: 1.5;\" width=\"50\" x=\"435\" y=\"172\"/><text fill=\"#000000\" font-family=\"sans-serif\" font-size=\"12\" lengthAdjust=\"spacingAndGlyphs\" textLength=\"16\" x=\"452\" y=\"188.1387\">S2</text><line style=\"stroke: #383838; stroke-width: 1.0;\" x1=\"435\" x2=\"485\" y1=\"195.9688\" y2=\"195.9688\"/><text fill=\"#000000\" font-family=\"sans-serif\" font-size=\"12\" font-weight=\"bold\" lengthAdjust=\"spacingAndGlyphs\" textLength=\"18\" x=\"440\" y=\"209.1074\">do</text><text fill=\"#000000\" font-family=\"sans-serif\" font-size=\"12\" lengthAdjust=\"spacingAndGlyphs\" textLength=\"4\" x=\"458\" y=\"209.1074\">/</text></a></g><!--MD5=[5a531d3a85f3339e6e197084acb48195]\n",
       "link *start*E6 to E7--><a href=\"psysml:63e0b6b5-21d2-46c8-92d5-87e224212dbf\" target=\"_top\" title=\"psysml:63e0b6b5-21d2-46c8-92d5-87e224212dbf\" xlink:actuate=\"onRequest\" xlink:href=\"psysml:63e0b6b5-21d2-46c8-92d5-87e224212dbf\" xlink:show=\"new\" xlink:title=\"psysml:63e0b6b5-21d2-46c8-92d5-87e224212dbf\" xlink:type=\"simple\"><path d=\"M89.54,194 C108.46,194 152.97,194 182.78,194 \" fill=\"none\" id=\"*start*E6-&gt;E7\" style=\"stroke: #383838; stroke-width: 1.0;\"/><polygon fill=\"#383838\" points=\"187.8,194,178.8,190,182.8,194,178.8,198,187.8,194\" style=\"stroke: #383838; stroke-width: 1.0;\"/></a><!--MD5=[7ec9a8babba89ddcae1318ca9fb3c814]\n",
       "link E8 to *end*E6--><a href=\"psysml:60b88d5b-1ac8-4d6b-b052-bf1a623237b5\" target=\"_top\" title=\"psysml:60b88d5b-1ac8-4d6b-b052-bf1a623237b5\" xlink:actuate=\"onRequest\" xlink:href=\"psysml:60b88d5b-1ac8-4d6b-b052-bf1a623237b5\" xlink:show=\"new\" xlink:title=\"psysml:60b88d5b-1ac8-4d6b-b052-bf1a623237b5\" xlink:type=\"simple\"><path d=\"M485.16,196 C509.08,196 544.89,196 564.64,196 \" fill=\"none\" id=\"E8-&gt;*end*E6\" style=\"stroke: #383838; stroke-width: 1.0;\"/><polygon fill=\"#383838\" points=\"569.76,196,560.76,192,564.76,196,560.76,200,569.76,196\" style=\"stroke: #383838; stroke-width: 1.0;\"/><text fill=\"#000000\" font-family=\"sans-serif\" font-size=\"13\" lengthAdjust=\"spacingAndGlyphs\" textLength=\"23\" x=\"516\" y=\"192.0669\">Exit</text></a><!--MD5=[79bc8f324ef4d02c541433f2e6e513c3]\n",
       "link E7 to E8--><a href=\"psysml:b9f5e72d-c680-433c-ba5c-575fc587f4f3\" target=\"_top\" title=\"psysml:b9f5e72d-c680-433c-ba5c-575fc587f4f3\" xlink:actuate=\"onRequest\" xlink:href=\"psysml:b9f5e72d-c680-433c-ba5c-575fc587f4f3\" xlink:show=\"new\" xlink:title=\"psysml:b9f5e72d-c680-433c-ba5c-575fc587f4f3\" xlink:type=\"simple\"><path d=\"M238.15,210.85 C247.11,216.14 257.62,221.31 268,224 C326.94,239.27 345.84,238.42 405,224 C413.58,221.91 422.32,218.19 430.2,214.14 \" fill=\"none\" id=\"E7-&gt;E8\" style=\"stroke: #383838; stroke-width: 1.0;\"/><polygon fill=\"#383838\" points=\"434.98,211.59,425.156,212.2893,430.5666,213.94,428.9159,219.3506,434.98,211.59\" style=\"stroke: #383838; stroke-width: 1.0;\"/><text fill=\"#000000\" font-family=\"sans-serif\" font-size=\"13\" lengthAdjust=\"spacingAndGlyphs\" textLength=\"81\" x=\"296\" y=\"220.0669\">Sig /action D</text></a><!--MD5=[bfa3c8b0d15052fdf50ae9310b491027]\n",
       "link E8 to E7--><a href=\"psysml:8fe1fd83-9e96-4978-be75-1a7ead5c4a85\" target=\"_top\" title=\"psysml:8fe1fd83-9e96-4978-be75-1a7ead5c4a85\" xlink:actuate=\"onRequest\" xlink:href=\"psysml:8fe1fd83-9e96-4978-be75-1a7ead5c4a85\" xlink:show=\"new\" xlink:title=\"psysml:8fe1fd83-9e96-4978-be75-1a7ead5c4a85\" xlink:type=\"simple\"><path d=\"M434.71,195.8 C389.48,195.43 292.49,194.64 243.54,194.24 \" fill=\"none\" id=\"E8-&gt;E7\" style=\"stroke: #383838; stroke-width: 1.0;\"/><polygon fill=\"#383838\" points=\"238.39,194.2,247.3554,198.277,243.3898,194.2429,247.424,190.2773,238.39,194.2\" style=\"stroke: #383838; stroke-width: 1.0;\"/><text fill=\"#000000\" font-family=\"sans-serif\" font-size=\"13\" lengthAdjust=\"spacingAndGlyphs\" textLength=\"135\" x=\"269\" y=\"191.0669\">Sig [true]/send s to p</text></a><!--MD5=[ef9157909890dd5068735eedfed7648b]\n",
       "@startuml\r\n",
       "left to right direction\r\n",
       "skinparam monochrome true\r\n",
       "skinparam classbackgroundcolor white\r\n",
       "skinparam shadowing false\r\n",
       "skinparam wrapWidth 300\r\n",
       "hide circle\r\n",
       "\r\n",
       "package \"StateTest\" as E1  [[psysml:7751d53a-3d7b-46fc-b5d8-bf0ae3c7070c ]]  {\r\n",
       "comp def \"Sig\" as E2  <<(T,blue)attribute def>> [[psysml:85dbfb10-d456-4c59-a9e0-99da33bb7a4b ]] {\r\n",
       "- - attributes - -\r\n",
       "x\r\n",
       "}\r\n",
       "comp def \"Exit\" as E3  <<(T,blue)attribute def>> [[psysml:06ed69bb-03e4-455b-a820-630d0564221d ]] {\r\n",
       "}\r\n",
       "comp usage \"p\" as E4  <<(T,blue)part>> [[psysml:f6292196-12b9-4bba-a758-98820cb4f3f5 ]] {\r\n",
       "}\r\n",
       "rec usage \"act\" as E5  <<(T,blue)action>> [[psysml:d7bec2b6-e32c-41d0-a208-370a3f1c18c8 ]] {\r\n",
       "}\r\n",
       "\r\n",
       "rec def \"S\" as E6  <<(T,blue)state def>> [[psysml:6343fae7-e97a-4dac-816a-0d66812becae ]] {\r\n",
       "rec usage \"S1\" as E7 [[psysml:df9bf7b7-ea8a-42e1-9b23-b8091030681c ]] {\r\n",
       "}\r\n",
       "\r\n",
       "rec usage \"S2\" as E8 [[psysml:372708ac-c185-450b-8b20-5b0e6796b1d2 ]] {\r\n",
       "desc \"S2\" as E8  : **do**/ \r\n",
       "}\r\n",
       "\r\n",
       "[*] - -> E7 [[psysml:63e0b6b5-21d2-46c8-92d5-87e224212dbf ]] \r\n",
       "E8  - -> [*] [[psysml:60b88d5b-1ac8-4d6b-b052-bf1a623237b5 ]] : Exit \r\n",
       "desc \"S\" as E6  : **entry**/ A\r\n",
       "desc \"S\" as E6  : **do**/ B\r\n",
       "desc \"S\" as E6  : **exit**/ act \r\n",
       "}\r\n",
       "\r\n",
       "E7  - -> E8 [[psysml:b9f5e72d-c680-433c-ba5c-575fc587f4f3 ]] : Sig /action D\r\n",
       "E8  - -> E7 [[psysml:8fe1fd83-9e96-4978-be75-1a7ead5c4a85 ]] : Sig [true]/send s to p\r\n",
       "}\r\n",
       "@enduml\r\n",
       "\n",
       "PlantUML version 1.2020.13(Sat Jun 13 12:26:38 UTC 2020)\n",
       "(EPL source distribution)\n",
       "Java Runtime: OpenJDK Runtime Environment\n",
       "JVM: OpenJDK 64-Bit Server VM\n",
       "Default Encoding: UTF-8\n",
       "Language: en\n",
       "Country: null\n",
       "--></g></svg>"
      ]
     },
     "execution_count": 22,
     "metadata": {},
     "output_type": "execute_result"
    }
   ],
   "source": [
    "%viz --style=\"LR\" --view=\"MIXED\" \"StateTest\""
   ]
  },
  {
   "cell_type": "code",
   "execution_count": 23,
   "id": "controversial-master",
   "metadata": {
    "execution": {
     "iopub.execute_input": "2021-03-25T13:48:12.849885Z",
     "iopub.status.busy": "2021-03-25T13:48:12.848218Z",
     "iopub.status.idle": "2021-03-25T13:48:13.011288Z",
     "shell.execute_reply": "2021-03-25T13:48:13.009792Z"
    }
   },
   "outputs": [
    {
     "data": {
      "image/svg+xml": [
       "<?xml version=\"1.0\" encoding=\"UTF-8\" standalone=\"no\"?><svg xmlns=\"http://www.w3.org/2000/svg\" xmlns:xlink=\"http://www.w3.org/1999/xlink\" contentScriptType=\"application/ecmascript\" contentStyleType=\"text/css\" height=\"561px\" preserveAspectRatio=\"none\" style=\"width:819px;height:561px;\" version=\"1.1\" viewBox=\"0 0 819 561\" width=\"819px\" zoomAndPan=\"magnify\"><defs><filter height=\"300%\" id=\"fdmmbs9qvyz6a\" width=\"300%\" x=\"-1\" y=\"-1\"><feGaussianBlur result=\"blurOut\" stdDeviation=\"2.0\"/><feColorMatrix in=\"blurOut\" result=\"blurOut2\" type=\"matrix\" values=\"0 0 0 0 0 0 0 0 0 0 0 0 0 0 0 0 0 0 .4 0\"/><feOffset dx=\"4.0\" dy=\"4.0\" in=\"blurOut2\" result=\"blurOut3\"/><feBlend in=\"SourceGraphic\" in2=\"blurOut3\" mode=\"normal\"/></filter></defs><g><!--MD5=[fbc87193dbaf4d95561dea2c320d4a47]\n",
       "cluster E1--><a href=\"psysml:7751d53a-3d7b-46fc-b5d8-bf0ae3c7070c\" target=\"_top\" title=\"psysml:7751d53a-3d7b-46fc-b5d8-bf0ae3c7070c\" xlink:actuate=\"onRequest\" xlink:href=\"psysml:7751d53a-3d7b-46fc-b5d8-bf0ae3c7070c\" xlink:show=\"new\" xlink:title=\"psysml:7751d53a-3d7b-46fc-b5d8-bf0ae3c7070c\" xlink:type=\"simple\"><polygon fill=\"#FFFFFF\" filter=\"url(#fdmmbs9qvyz6a)\" points=\"16,6,98,6,105,28.2969,797,28.2969,797,549.5,16,549.5,16,6\" style=\"stroke: #000000; stroke-width: 1.5;\"/><line style=\"stroke: #000000; stroke-width: 1.5;\" x1=\"16\" x2=\"105\" y1=\"28.2969\" y2=\"28.2969\"/><text fill=\"#000000\" font-family=\"sans-serif\" font-size=\"14\" font-weight=\"bold\" lengthAdjust=\"spacingAndGlyphs\" textLength=\"76\" x=\"20\" y=\"20.9951\">StateTest</text></a><!--MD5=[14e3b0961a2654348d326746436168a1]\n",
       "cluster E6--><a href=\"psysml:6343fae7-e97a-4dac-816a-0d66812becae\" target=\"_top\" title=\"psysml:6343fae7-e97a-4dac-816a-0d66812becae\" xlink:actuate=\"onRequest\" xlink:href=\"psysml:6343fae7-e97a-4dac-816a-0d66812becae\" xlink:show=\"new\" xlink:title=\"psysml:6343fae7-e97a-4dac-816a-0d66812becae\" xlink:type=\"simple\"><rect fill=\"#FFFFFF\" filter=\"url(#fdmmbs9qvyz6a)\" height=\"476.5\" id=\"E6\" style=\"stroke: #A80036; stroke-width: 1.5;\" width=\"327\" x=\"446\" y=\"49\"/><rect fill=\"#FEFECE\" height=\"37.9375\" style=\"stroke: #A80036; stroke-width: 1.5;\" width=\"327\" x=\"446\" y=\"49\"/><text fill=\"#000000\" font-family=\"sans-serif\" font-size=\"12\" font-style=\"italic\" lengthAdjust=\"spacingAndGlyphs\" textLength=\"71\" x=\"574\" y=\"65.1387\">«state def»</text><text fill=\"#000000\" font-family=\"sans-serif\" font-size=\"12\" lengthAdjust=\"spacingAndGlyphs\" textLength=\"8\" x=\"605.5\" y=\"79.1074\">S</text><line style=\"stroke: #A80036; stroke-width: 1.0;\" x1=\"446\" x2=\"773\" y1=\"132.8438\" y2=\"132.8438\"/><text fill=\"#000000\" font-family=\"sans-serif\" font-size=\"12\" font-weight=\"bold\" lengthAdjust=\"spacingAndGlyphs\" textLength=\"38\" x=\"451\" y=\"100.0762\">entry</text><text fill=\"#000000\" font-family=\"sans-serif\" font-size=\"12\" lengthAdjust=\"spacingAndGlyphs\" textLength=\"16\" x=\"489\" y=\"100.0762\">/ A</text><text fill=\"#000000\" font-family=\"sans-serif\" font-size=\"12\" font-weight=\"bold\" lengthAdjust=\"spacingAndGlyphs\" textLength=\"18\" x=\"451\" y=\"114.0449\">do</text><text fill=\"#000000\" font-family=\"sans-serif\" font-size=\"12\" lengthAdjust=\"spacingAndGlyphs\" textLength=\"16\" x=\"469\" y=\"114.0449\">/ B</text><text fill=\"#000000\" font-family=\"sans-serif\" font-size=\"12\" font-weight=\"bold\" lengthAdjust=\"spacingAndGlyphs\" textLength=\"26\" x=\"451\" y=\"128.0137\">exit</text><text fill=\"#000000\" font-family=\"sans-serif\" font-size=\"12\" lengthAdjust=\"spacingAndGlyphs\" textLength=\"28\" x=\"477\" y=\"128.0137\">/ act</text></a><!--MD5=[b4997ac47864f28c2f74865a473b2911]\n",
       "class E2--><a href=\"psysml:85dbfb10-d456-4c59-a9e0-99da33bb7a4b\" target=\"_top\" title=\"psysml:85dbfb10-d456-4c59-a9e0-99da33bb7a4b\" xlink:actuate=\"onRequest\" xlink:href=\"psysml:85dbfb10-d456-4c59-a9e0-99da33bb7a4b\" xlink:show=\"new\" xlink:title=\"psysml:85dbfb10-d456-4c59-a9e0-99da33bb7a4b\" xlink:type=\"simple\"><rect fill=\"#FEFECE\" filter=\"url(#fdmmbs9qvyz6a)\" height=\"58.7422\" id=\"E2\" style=\"stroke: #A80036; stroke-width: 1.5;\" width=\"95\" x=\"334.5\" y=\"127.5\"/><text fill=\"#000000\" font-family=\"sans-serif\" font-size=\"12\" font-style=\"italic\" lengthAdjust=\"spacingAndGlyphs\" textLength=\"93\" x=\"335.5\" y=\"143.6387\">«attribute def»</text><text fill=\"#000000\" font-family=\"sans-serif\" font-size=\"12\" lengthAdjust=\"spacingAndGlyphs\" textLength=\"19\" x=\"372.5\" y=\"157.6074\">Sig</text><line style=\"stroke: #A80036; stroke-width: 1.5;\" x1=\"335.5\" x2=\"428.5\" y1=\"165.4375\" y2=\"165.4375\"/><text fill=\"#000000\" font-family=\"sans-serif\" font-size=\"11\" lengthAdjust=\"spacingAndGlyphs\" textLength=\"6\" x=\"340.5\" y=\"179.6479\">x</text></a><!--MD5=[09b614a08d8cba4a07c9adeb5e0fee81]\n",
       "class E3--><a href=\"psysml:06ed69bb-03e4-455b-a820-630d0564221d\" target=\"_top\" title=\"psysml:06ed69bb-03e4-455b-a820-630d0564221d\" xlink:actuate=\"onRequest\" xlink:href=\"psysml:06ed69bb-03e4-455b-a820-630d0564221d\" xlink:show=\"new\" xlink:title=\"psysml:06ed69bb-03e4-455b-a820-630d0564221d\" xlink:type=\"simple\"><rect fill=\"#FEFECE\" filter=\"url(#fdmmbs9qvyz6a)\" height=\"45.9375\" id=\"E3\" style=\"stroke: #A80036; stroke-width: 1.5;\" width=\"95\" x=\"204.5\" y=\"134\"/><text fill=\"#000000\" font-family=\"sans-serif\" font-size=\"12\" font-style=\"italic\" lengthAdjust=\"spacingAndGlyphs\" textLength=\"93\" x=\"205.5\" y=\"150.1387\">«attribute def»</text><text fill=\"#000000\" font-family=\"sans-serif\" font-size=\"12\" lengthAdjust=\"spacingAndGlyphs\" textLength=\"22\" x=\"241\" y=\"164.1074\">Exit</text><line style=\"stroke: #A80036; stroke-width: 1.5;\" x1=\"205.5\" x2=\"298.5\" y1=\"171.9375\" y2=\"171.9375\"/></a><!--MD5=[ebbe1d658d1005bcc118a6aa81145e00]\n",
       "class E4--><a href=\"psysml:f6292196-12b9-4bba-a758-98820cb4f3f5\" target=\"_top\" title=\"psysml:f6292196-12b9-4bba-a758-98820cb4f3f5\" xlink:actuate=\"onRequest\" xlink:href=\"psysml:f6292196-12b9-4bba-a758-98820cb4f3f5\" xlink:show=\"new\" xlink:title=\"psysml:f6292196-12b9-4bba-a758-98820cb4f3f5\" xlink:type=\"simple\"><rect fill=\"#FEFECE\" filter=\"url(#fdmmbs9qvyz6a)\" height=\"45.9375\" id=\"E4\" rx=\"10\" ry=\"10\" style=\"stroke: #A80036; stroke-width: 1.5;\" width=\"42\" x=\"127\" y=\"134\"/><text fill=\"#000000\" font-family=\"sans-serif\" font-size=\"12\" font-style=\"italic\" lengthAdjust=\"spacingAndGlyphs\" textLength=\"40\" x=\"128\" y=\"150.1387\">«part»</text><text fill=\"#000000\" font-family=\"sans-serif\" font-size=\"12\" lengthAdjust=\"spacingAndGlyphs\" textLength=\"8\" x=\"144\" y=\"164.1074\">p</text><line style=\"stroke: #A80036; stroke-width: 1.5;\" x1=\"128\" x2=\"168\" y1=\"171.9375\" y2=\"171.9375\"/></a><g id=\"E1.E5\"><a href=\"psysml:d7bec2b6-e32c-41d0-a208-370a3f1c18c8\" target=\"_top\" title=\"psysml:d7bec2b6-e32c-41d0-a208-370a3f1c18c8\" xlink:actuate=\"onRequest\" xlink:href=\"psysml:d7bec2b6-e32c-41d0-a208-370a3f1c18c8\" xlink:show=\"new\" xlink:title=\"psysml:d7bec2b6-e32c-41d0-a208-370a3f1c18c8\" xlink:type=\"simple\"><rect fill=\"#FEFECE\" filter=\"url(#fdmmbs9qvyz6a)\" height=\"42.9375\" id=\"E5\" rx=\"10\" ry=\"10\" style=\"stroke: #A80036; stroke-width: 1.5;\" width=\"60\" x=\"32\" y=\"135.5\"/><text fill=\"#000000\" font-family=\"sans-serif\" font-size=\"12\" font-style=\"italic\" lengthAdjust=\"spacingAndGlyphs\" textLength=\"53\" x=\"35.5\" y=\"151.6387\">«action»</text><text fill=\"#000000\" font-family=\"sans-serif\" font-size=\"12\" lengthAdjust=\"spacingAndGlyphs\" textLength=\"20\" x=\"52\" y=\"165.6074\">act</text></a></g><ellipse cx=\"558\" cy=\"157\" fill=\"#000000\" filter=\"url(#fdmmbs9qvyz6a)\" rx=\"10\" ry=\"10\" style=\"stroke: none; stroke-width: 1.0;\"/><ellipse cx=\"558\" cy=\"499.5\" fill=\"none\" filter=\"url(#fdmmbs9qvyz6a)\" rx=\"10\" ry=\"10\" style=\"stroke: #000000; stroke-width: 1.0;\"/><ellipse cx=\"558.5\" cy=\"500\" fill=\"#000000\" rx=\"6\" ry=\"6\" style=\"stroke: none; stroke-width: 1.0;\"/><g id=\"E1.E6.E7\"><a href=\"psysml:df9bf7b7-ea8a-42e1-9b23-b8091030681c\" target=\"_top\" title=\"psysml:df9bf7b7-ea8a-42e1-9b23-b8091030681c\" xlink:actuate=\"onRequest\" xlink:href=\"psysml:df9bf7b7-ea8a-42e1-9b23-b8091030681c\" xlink:show=\"new\" xlink:title=\"psysml:df9bf7b7-ea8a-42e1-9b23-b8091030681c\" xlink:type=\"simple\"><rect fill=\"#FEFECE\" filter=\"url(#fdmmbs9qvyz6a)\" height=\"40\" id=\"E7\" rx=\"10\" ry=\"10\" style=\"stroke: #A80036; stroke-width: 1.5;\" width=\"50\" x=\"533\" y=\"247.5\"/><text fill=\"#000000\" font-family=\"sans-serif\" font-size=\"12\" lengthAdjust=\"spacingAndGlyphs\" textLength=\"16\" x=\"550\" y=\"263.6387\">S1</text></a></g><g id=\"E1.E6.E8\"><a href=\"psysml:372708ac-c185-450b-8b20-5b0e6796b1d2\" target=\"_top\" title=\"psysml:372708ac-c185-450b-8b20-5b0e6796b1d2\" xlink:actuate=\"onRequest\" xlink:href=\"psysml:372708ac-c185-450b-8b20-5b0e6796b1d2\" xlink:show=\"new\" xlink:title=\"psysml:372708ac-c185-450b-8b20-5b0e6796b1d2\" xlink:type=\"simple\"><rect fill=\"#FEFECE\" filter=\"url(#fdmmbs9qvyz6a)\" height=\"47.9375\" id=\"E8\" rx=\"10\" ry=\"10\" style=\"stroke: #A80036; stroke-width: 1.5;\" width=\"50\" x=\"533\" y=\"364.5\"/><text fill=\"#000000\" font-family=\"sans-serif\" font-size=\"12\" lengthAdjust=\"spacingAndGlyphs\" textLength=\"16\" x=\"550\" y=\"380.6387\">S2</text><line style=\"stroke: #A80036; stroke-width: 1.0;\" x1=\"533\" x2=\"583\" y1=\"388.4688\" y2=\"388.4688\"/><text fill=\"#000000\" font-family=\"sans-serif\" font-size=\"12\" font-weight=\"bold\" lengthAdjust=\"spacingAndGlyphs\" textLength=\"18\" x=\"538\" y=\"401.6074\">do</text><text fill=\"#000000\" font-family=\"sans-serif\" font-size=\"12\" lengthAdjust=\"spacingAndGlyphs\" textLength=\"4\" x=\"556\" y=\"401.6074\">/</text></a></g><!--MD5=[5a531d3a85f3339e6e197084acb48195]\n",
       "link *start*E6 to E7--><a href=\"psysml:63e0b6b5-21d2-46c8-92d5-87e224212dbf\" target=\"_top\" title=\"psysml:63e0b6b5-21d2-46c8-92d5-87e224212dbf\" xlink:actuate=\"onRequest\" xlink:href=\"psysml:63e0b6b5-21d2-46c8-92d5-87e224212dbf\" xlink:show=\"new\" xlink:title=\"psysml:63e0b6b5-21d2-46c8-92d5-87e224212dbf\" xlink:type=\"simple\"><path d=\"M558,167.25 C558,183.64 558,218.28 558,241.97 \" fill=\"none\" id=\"*start*E6-&gt;E7\" style=\"stroke: #A80036; stroke-width: 1.0;\"/><polygon fill=\"#A80036\" points=\"558,247.15,562,238.15,558,242.15,554,238.15,558,247.15\" style=\"stroke: #A80036; stroke-width: 1.0;\"/></a><!--MD5=[7ec9a8babba89ddcae1318ca9fb3c814]\n",
       "link E8 to *end*E6--><a href=\"psysml:60b88d5b-1ac8-4d6b-b052-bf1a623237b5\" target=\"_top\" title=\"psysml:60b88d5b-1ac8-4d6b-b052-bf1a623237b5\" xlink:actuate=\"onRequest\" xlink:href=\"psysml:60b88d5b-1ac8-4d6b-b052-bf1a623237b5\" xlink:show=\"new\" xlink:title=\"psysml:60b88d5b-1ac8-4d6b-b052-bf1a623237b5\" xlink:type=\"simple\"><path d=\"M558,412.62 C558,434.25 558,465.89 558,484.12 \" fill=\"none\" id=\"E8-&gt;*end*E6\" style=\"stroke: #A80036; stroke-width: 1.0;\"/><polygon fill=\"#A80036\" points=\"558,489.32,562,480.32,558,484.32,554,480.32,558,489.32\" style=\"stroke: #A80036; stroke-width: 1.0;\"/><text fill=\"#000000\" font-family=\"sans-serif\" font-size=\"13\" lengthAdjust=\"spacingAndGlyphs\" textLength=\"23\" x=\"559\" y=\"455.5669\">Exit</text></a><!--MD5=[79bc8f324ef4d02c541433f2e6e513c3]\n",
       "link E7 to E8--><a href=\"psysml:b9f5e72d-c680-433c-ba5c-575fc587f4f3\" target=\"_top\" title=\"psysml:b9f5e72d-c680-433c-ba5c-575fc587f4f3\" xlink:actuate=\"onRequest\" xlink:href=\"psysml:b9f5e72d-c680-433c-ba5c-575fc587f4f3\" xlink:show=\"new\" xlink:title=\"psysml:b9f5e72d-c680-433c-ba5c-575fc587f4f3\" xlink:type=\"simple\"><path d=\"M532.93,280.38 C518.69,288.62 502.12,301.06 494,317.5 C483.11,339.55 506.72,359.7 528.27,372.66 \" fill=\"none\" id=\"E7-&gt;E8\" style=\"stroke: #A80036; stroke-width: 1.0;\"/><polygon fill=\"#A80036\" points=\"532.83,375.32,527.0682,367.3324,528.5101,372.8024,523.0401,374.2443,532.83,375.32\" style=\"stroke: #A80036; stroke-width: 1.0;\"/><text fill=\"#000000\" font-family=\"sans-serif\" font-size=\"13\" lengthAdjust=\"spacingAndGlyphs\" textLength=\"81\" x=\"495\" y=\"330.5669\">Sig /action D</text></a><!--MD5=[bfa3c8b0d15052fdf50ae9310b491027]\n",
       "link E8 to E7--><a href=\"psysml:8fe1fd83-9e96-4978-be75-1a7ead5c4a85\" target=\"_top\" title=\"psysml:8fe1fd83-9e96-4978-be75-1a7ead5c4a85\" xlink:actuate=\"onRequest\" xlink:href=\"psysml:8fe1fd83-9e96-4978-be75-1a7ead5c4a85\" xlink:show=\"new\" xlink:title=\"psysml:8fe1fd83-9e96-4978-be75-1a7ead5c4a85\" xlink:type=\"simple\"><path d=\"M572.17,364.49 C578.81,350.98 584.56,333.48 581,317.5 C579.1,308.99 575.56,300.22 571.82,292.49 \" fill=\"none\" id=\"E8-&gt;E7\" style=\"stroke: #A80036; stroke-width: 1.0;\"/><polygon fill=\"#A80036\" points=\"569.47,287.82,569.9298,297.6581,571.7118,292.2893,577.0806,294.0713,569.47,287.82\" style=\"stroke: #A80036; stroke-width: 1.0;\"/><text fill=\"#000000\" font-family=\"sans-serif\" font-size=\"13\" lengthAdjust=\"spacingAndGlyphs\" textLength=\"135\" x=\"583\" y=\"330.5669\">Sig [true]/send s to p</text></a><!--MD5=[25ca214f95bdf2afd12c442c1adebf85]\n",
       "@startuml\r\n",
       "skinparam wrapWidth 300\r\n",
       "hide circle\r\n",
       "\r\n",
       "package \"StateTest\" as E1  [[psysml:7751d53a-3d7b-46fc-b5d8-bf0ae3c7070c ]]  {\r\n",
       "comp def \"Sig\" as E2  <<(T,blue)attribute def>> [[psysml:85dbfb10-d456-4c59-a9e0-99da33bb7a4b ]] {\r\n",
       "x\r\n",
       "}\r\n",
       "comp def \"Exit\" as E3  <<(T,blue)attribute def>> [[psysml:06ed69bb-03e4-455b-a820-630d0564221d ]] {\r\n",
       "}\r\n",
       "comp usage \"p\" as E4  <<(T,blue)part>> [[psysml:f6292196-12b9-4bba-a758-98820cb4f3f5 ]] {\r\n",
       "}\r\n",
       "rec usage \"act\" as E5  <<(T,blue)action>> [[psysml:d7bec2b6-e32c-41d0-a208-370a3f1c18c8 ]] {\r\n",
       "}\r\n",
       "\r\n",
       "rec def \"S\" as E6  <<(T,blue)state def>> [[psysml:6343fae7-e97a-4dac-816a-0d66812becae ]] {\r\n",
       "rec usage \"S1\" as E7 [[psysml:df9bf7b7-ea8a-42e1-9b23-b8091030681c ]] {\r\n",
       "}\r\n",
       "\r\n",
       "rec usage \"S2\" as E8 [[psysml:372708ac-c185-450b-8b20-5b0e6796b1d2 ]] {\r\n",
       "desc \"S2\" as E8  : **do**/ \r\n",
       "}\r\n",
       "\r\n",
       "[*] - -> E7 [[psysml:63e0b6b5-21d2-46c8-92d5-87e224212dbf ]] \r\n",
       "E8  - -> [*] [[psysml:60b88d5b-1ac8-4d6b-b052-bf1a623237b5 ]] : Exit \r\n",
       "desc \"S\" as E6  : **entry**/ A\r\n",
       "desc \"S\" as E6  : **do**/ B\r\n",
       "desc \"S\" as E6  : **exit**/ act \r\n",
       "}\r\n",
       "\r\n",
       "E7  - -> E8 [[psysml:b9f5e72d-c680-433c-ba5c-575fc587f4f3 ]] : Sig /action D\r\n",
       "E8  - -> E7 [[psysml:8fe1fd83-9e96-4978-be75-1a7ead5c4a85 ]] : Sig [true]/send s to p\r\n",
       "}\r\n",
       "@enduml\r\n",
       "\n",
       "PlantUML version 1.2020.13(Sat Jun 13 12:26:38 UTC 2020)\n",
       "(EPL source distribution)\n",
       "Java Runtime: OpenJDK Runtime Environment\n",
       "JVM: OpenJDK 64-Bit Server VM\n",
       "Default Encoding: UTF-8\n",
       "Language: en\n",
       "Country: null\n",
       "--></g></svg>"
      ]
     },
     "execution_count": 23,
     "metadata": {},
     "output_type": "execute_result"
    }
   ],
   "source": [
    "%viz --style=\"STDCOLOR\" --view=\"Default\" \"StateTest\""
   ]
  },
  {
   "cell_type": "code",
   "execution_count": 24,
   "id": "increasing-tender",
   "metadata": {
    "execution": {
     "iopub.execute_input": "2021-03-25T13:48:13.061420Z",
     "iopub.status.busy": "2021-03-25T13:48:13.060995Z",
     "iopub.status.idle": "2021-03-25T13:48:13.462765Z",
     "shell.execute_reply": "2021-03-25T13:48:13.460411Z"
    }
   },
   "outputs": [
    {
     "data": {
      "image/svg+xml": [
       "<?xml version=\"1.0\" encoding=\"UTF-8\" standalone=\"no\"?><svg xmlns=\"http://www.w3.org/2000/svg\" xmlns:xlink=\"http://www.w3.org/1999/xlink\" contentScriptType=\"application/ecmascript\" contentStyleType=\"text/css\" height=\"471px\" preserveAspectRatio=\"none\" style=\"width:594px;height:471px;\" version=\"1.1\" viewBox=\"0 0 594 471\" width=\"594px\" zoomAndPan=\"magnify\"><defs><filter height=\"300%\" id=\"f15k9v9lh43ec7\" width=\"300%\" x=\"-1\" y=\"-1\"><feGaussianBlur result=\"blurOut\" stdDeviation=\"2.0\"/><feColorMatrix in=\"blurOut\" result=\"blurOut2\" type=\"matrix\" values=\"0 0 0 0 0 0 0 0 0 0 0 0 0 0 0 0 0 0 .4 0\"/><feOffset dx=\"4.0\" dy=\"4.0\" in=\"blurOut2\" result=\"blurOut3\"/><feBlend in=\"SourceGraphic\" in2=\"blurOut3\" mode=\"normal\"/></filter></defs><g><!--MD5=[fbc87193dbaf4d95561dea2c320d4a47]\n",
       "cluster E1--><a href=\"psysml:7751d53a-3d7b-46fc-b5d8-bf0ae3c7070c\" target=\"_top\" title=\"psysml:7751d53a-3d7b-46fc-b5d8-bf0ae3c7070c\" xlink:actuate=\"onRequest\" xlink:href=\"psysml:7751d53a-3d7b-46fc-b5d8-bf0ae3c7070c\" xlink:show=\"new\" xlink:title=\"psysml:7751d53a-3d7b-46fc-b5d8-bf0ae3c7070c\" xlink:type=\"simple\"><polygon fill=\"#FFFFFF\" filter=\"url(#f15k9v9lh43ec7)\" points=\"16,6,98,6,105,28.2969,572,28.2969,572,459,16,459,16,6\" style=\"stroke: #000000; stroke-width: 1.5;\"/><line style=\"stroke: #000000; stroke-width: 1.5;\" x1=\"16\" x2=\"105\" y1=\"28.2969\" y2=\"28.2969\"/><text fill=\"#000000\" font-family=\"sans-serif\" font-size=\"14\" font-weight=\"bold\" lengthAdjust=\"spacingAndGlyphs\" textLength=\"76\" x=\"20\" y=\"20.9951\">StateTest</text></a><!--MD5=[b4997ac47864f28c2f74865a473b2911]\n",
       "class E2--><a href=\"psysml:85dbfb10-d456-4c59-a9e0-99da33bb7a4b\" target=\"_top\" title=\"psysml:85dbfb10-d456-4c59-a9e0-99da33bb7a4b\" xlink:actuate=\"onRequest\" xlink:href=\"psysml:85dbfb10-d456-4c59-a9e0-99da33bb7a4b\" xlink:show=\"new\" xlink:title=\"psysml:85dbfb10-d456-4c59-a9e0-99da33bb7a4b\" xlink:type=\"simple\"><rect fill=\"#FEFECE\" filter=\"url(#f15k9v9lh43ec7)\" height=\"58.7422\" id=\"E2\" style=\"stroke: #A80036; stroke-width: 1.5;\" width=\"95\" x=\"460.5\" y=\"91.5\"/><text fill=\"#000000\" font-family=\"sans-serif\" font-size=\"12\" font-style=\"italic\" lengthAdjust=\"spacingAndGlyphs\" textLength=\"93\" x=\"461.5\" y=\"107.6387\">«attribute def»</text><text fill=\"#000000\" font-family=\"sans-serif\" font-size=\"12\" lengthAdjust=\"spacingAndGlyphs\" textLength=\"19\" x=\"498.5\" y=\"121.6074\">Sig</text><line style=\"stroke: #A80036; stroke-width: 1.5;\" x1=\"461.5\" x2=\"554.5\" y1=\"129.4375\" y2=\"129.4375\"/><text fill=\"#000000\" font-family=\"sans-serif\" font-size=\"11\" lengthAdjust=\"spacingAndGlyphs\" textLength=\"6\" x=\"466.5\" y=\"143.6479\">x</text></a><!--MD5=[09b614a08d8cba4a07c9adeb5e0fee81]\n",
       "class E3--><a href=\"psysml:06ed69bb-03e4-455b-a820-630d0564221d\" target=\"_top\" title=\"psysml:06ed69bb-03e4-455b-a820-630d0564221d\" xlink:actuate=\"onRequest\" xlink:href=\"psysml:06ed69bb-03e4-455b-a820-630d0564221d\" xlink:show=\"new\" xlink:title=\"psysml:06ed69bb-03e4-455b-a820-630d0564221d\" xlink:type=\"simple\"><rect fill=\"#FEFECE\" filter=\"url(#f15k9v9lh43ec7)\" height=\"45.9375\" id=\"E3\" style=\"stroke: #A80036; stroke-width: 1.5;\" width=\"95\" x=\"330.5\" y=\"98\"/><text fill=\"#000000\" font-family=\"sans-serif\" font-size=\"12\" font-style=\"italic\" lengthAdjust=\"spacingAndGlyphs\" textLength=\"93\" x=\"331.5\" y=\"114.1387\">«attribute def»</text><text fill=\"#000000\" font-family=\"sans-serif\" font-size=\"12\" lengthAdjust=\"spacingAndGlyphs\" textLength=\"22\" x=\"367\" y=\"128.1074\">Exit</text><line style=\"stroke: #A80036; stroke-width: 1.5;\" x1=\"331.5\" x2=\"424.5\" y1=\"135.9375\" y2=\"135.9375\"/></a><!--MD5=[ebbe1d658d1005bcc118a6aa81145e00]\n",
       "class E4--><a href=\"psysml:f6292196-12b9-4bba-a758-98820cb4f3f5\" target=\"_top\" title=\"psysml:f6292196-12b9-4bba-a758-98820cb4f3f5\" xlink:actuate=\"onRequest\" xlink:href=\"psysml:f6292196-12b9-4bba-a758-98820cb4f3f5\" xlink:show=\"new\" xlink:title=\"psysml:f6292196-12b9-4bba-a758-98820cb4f3f5\" xlink:type=\"simple\"><rect fill=\"#FEFECE\" filter=\"url(#f15k9v9lh43ec7)\" height=\"45.9375\" id=\"E4\" rx=\"10\" ry=\"10\" style=\"stroke: #A80036; stroke-width: 1.5;\" width=\"42\" x=\"253\" y=\"98\"/><text fill=\"#000000\" font-family=\"sans-serif\" font-size=\"12\" font-style=\"italic\" lengthAdjust=\"spacingAndGlyphs\" textLength=\"40\" x=\"254\" y=\"114.1387\">«part»</text><text fill=\"#000000\" font-family=\"sans-serif\" font-size=\"12\" lengthAdjust=\"spacingAndGlyphs\" textLength=\"8\" x=\"270\" y=\"128.1074\">p</text><line style=\"stroke: #A80036; stroke-width: 1.5;\" x1=\"254\" x2=\"294\" y1=\"135.9375\" y2=\"135.9375\"/></a><!--MD5=[270fce915f116d4de14055a7c1d9a0f3]\n",
       "class E5--><a href=\"psysml:d7bec2b6-e32c-41d0-a208-370a3f1c18c8\" target=\"_top\" title=\"psysml:d7bec2b6-e32c-41d0-a208-370a3f1c18c8\" xlink:actuate=\"onRequest\" xlink:href=\"psysml:d7bec2b6-e32c-41d0-a208-370a3f1c18c8\" xlink:show=\"new\" xlink:title=\"psysml:d7bec2b6-e32c-41d0-a208-370a3f1c18c8\" xlink:type=\"simple\"><rect fill=\"#FEFECE\" filter=\"url(#f15k9v9lh43ec7)\" height=\"45.9375\" id=\"E5\" rx=\"10\" ry=\"10\" style=\"stroke: #A80036; stroke-width: 1.5;\" width=\"55\" x=\"162.5\" y=\"98\"/><text fill=\"#000000\" font-family=\"sans-serif\" font-size=\"12\" font-style=\"italic\" lengthAdjust=\"spacingAndGlyphs\" textLength=\"53\" x=\"163.5\" y=\"114.1387\">«action»</text><text fill=\"#000000\" font-family=\"sans-serif\" font-size=\"12\" lengthAdjust=\"spacingAndGlyphs\" textLength=\"20\" x=\"180\" y=\"128.1074\">act</text><line style=\"stroke: #A80036; stroke-width: 1.5;\" x1=\"163.5\" x2=\"216.5\" y1=\"135.9375\" y2=\"135.9375\"/></a><!--MD5=[60a26617385b1d2d0262a64233df1f8d]\n",
       "class E6--><a href=\"psysml:6343fae7-e97a-4dac-816a-0d66812becae\" target=\"_top\" title=\"psysml:6343fae7-e97a-4dac-816a-0d66812becae\" xlink:actuate=\"onRequest\" xlink:href=\"psysml:6343fae7-e97a-4dac-816a-0d66812becae\" xlink:show=\"new\" xlink:title=\"psysml:6343fae7-e97a-4dac-816a-0d66812becae\" xlink:type=\"simple\"><rect fill=\"#FEFECE\" filter=\"url(#f15k9v9lh43ec7)\" height=\"160.375\" id=\"E6\" style=\"stroke: #A80036; stroke-width: 1.5;\" width=\"95\" x=\"32.5\" y=\"41\"/><text fill=\"#000000\" font-family=\"sans-serif\" font-size=\"12\" font-style=\"italic\" lengthAdjust=\"spacingAndGlyphs\" textLength=\"71\" x=\"44.5\" y=\"57.1387\">«state def»</text><text fill=\"#000000\" font-family=\"sans-serif\" font-size=\"12\" lengthAdjust=\"spacingAndGlyphs\" textLength=\"8\" x=\"76\" y=\"71.1074\">S</text><line style=\"stroke: #A80036; stroke-width: 1.5;\" x1=\"33.5\" x2=\"126.5\" y1=\"78.9375\" y2=\"78.9375\"/><text fill=\"#000000\" font-family=\"sans-serif\" font-size=\"11\" lengthAdjust=\"spacingAndGlyphs\" textLength=\"17\" x=\"38.5\" y=\"109.9526\">act</text><text fill=\"#000000\" font-family=\"sans-serif\" font-size=\"11\" lengthAdjust=\"spacingAndGlyphs\" textLength=\"7\" x=\"38.5\" y=\"122.7573\">A</text><text fill=\"#000000\" font-family=\"sans-serif\" font-size=\"11\" lengthAdjust=\"spacingAndGlyphs\" textLength=\"8\" x=\"38.5\" y=\"135.562\">B</text><line style=\"stroke: #A80036; stroke-width: 1.0;\" x1=\"33.5\" x2=\"36.5\" y1=\"93.3398\" y2=\"93.3398\"/><text fill=\"#000000\" font-family=\"sans-serif\" font-size=\"11\" lengthAdjust=\"spacingAndGlyphs\" textLength=\"87\" x=\"36.5\" y=\"96.6479\">performActions</text><line style=\"stroke: #A80036; stroke-width: 1.0;\" x1=\"123.5\" x2=\"126.5\" y1=\"93.3398\" y2=\"93.3398\"/><text fill=\"#000000\" font-family=\"sans-serif\" font-size=\"11\" lengthAdjust=\"spacingAndGlyphs\" textLength=\"15\" x=\"38.5\" y=\"165.1714\">S1</text><line style=\"stroke: #A80036; stroke-width: 1.0;\" x1=\"33.5\" x2=\"62\" y1=\"148.5586\" y2=\"148.5586\"/><text fill=\"#000000\" font-family=\"sans-serif\" font-size=\"11\" lengthAdjust=\"spacingAndGlyphs\" textLength=\"36\" x=\"62\" y=\"151.8667\">states</text><line style=\"stroke: #A80036; stroke-width: 1.0;\" x1=\"98\" x2=\"126.5\" y1=\"148.5586\" y2=\"148.5586\"/><text fill=\"#000000\" font-family=\"sans-serif\" font-size=\"11\" lengthAdjust=\"spacingAndGlyphs\" textLength=\"7\" x=\"38.5\" y=\"194.7808\">T</text><line style=\"stroke: #A80036; stroke-width: 1.0;\" x1=\"33.5\" x2=\"49.5\" y1=\"178.168\" y2=\"178.168\"/><text fill=\"#000000\" font-family=\"sans-serif\" font-size=\"11\" lengthAdjust=\"spacingAndGlyphs\" textLength=\"61\" x=\"49.5\" y=\"181.4761\">transitions</text><line style=\"stroke: #A80036; stroke-width: 1.0;\" x1=\"110.5\" x2=\"126.5\" y1=\"178.168\" y2=\"178.168\"/></a><!--MD5=[1dd1bfd58a279cf63c5f349dbc8fc6a1]\n",
       "class E11--><a href=\"psysml:372708ac-c185-450b-8b20-5b0e6796b1d2\" target=\"_top\" title=\"psysml:372708ac-c185-450b-8b20-5b0e6796b1d2\" xlink:actuate=\"onRequest\" xlink:href=\"psysml:372708ac-c185-450b-8b20-5b0e6796b1d2\" xlink:show=\"new\" xlink:title=\"psysml:372708ac-c185-450b-8b20-5b0e6796b1d2\" xlink:type=\"simple\"><rect fill=\"#FEFECE\" filter=\"url(#f15k9v9lh43ec7)\" height=\"45.9375\" id=\"E11\" rx=\"10\" ry=\"10\" style=\"stroke: #A80036; stroke-width: 1.5;\" width=\"49\" x=\"55.5\" y=\"261\"/><text fill=\"#000000\" font-family=\"sans-serif\" font-size=\"12\" font-style=\"italic\" lengthAdjust=\"spacingAndGlyphs\" textLength=\"47\" x=\"56.5\" y=\"277.1387\">«state»</text><text fill=\"#000000\" font-family=\"sans-serif\" font-size=\"12\" lengthAdjust=\"spacingAndGlyphs\" textLength=\"16\" x=\"72\" y=\"291.1074\">S2</text><line style=\"stroke: #A80036; stroke-width: 1.5;\" x1=\"56.5\" x2=\"103.5\" y1=\"298.9375\" y2=\"298.9375\"/></a><!--MD5=[49a0ec8f00dab7302a31f22d0f0fe584]\n",
       "class E12--><a href=\"psysml:db8ff6bb-65b2-44b6-939f-52bfaf067d5c\" target=\"_top\" title=\"psysml:db8ff6bb-65b2-44b6-939f-52bfaf067d5c\" xlink:actuate=\"onRequest\" xlink:href=\"psysml:db8ff6bb-65b2-44b6-939f-52bfaf067d5c\" xlink:show=\"new\" xlink:title=\"psysml:db8ff6bb-65b2-44b6-939f-52bfaf067d5c\" xlink:type=\"simple\"><rect fill=\"#FEFECE\" filter=\"url(#f15k9v9lh43ec7)\" height=\"75.5469\" id=\"E12\" rx=\"10\" ry=\"10\" style=\"stroke: #A80036; stroke-width: 1.5;\" width=\"90\" x=\"35\" y=\"367\"/><text fill=\"#000000\" font-family=\"sans-serif\" font-size=\"12\" font-style=\"italic\" lengthAdjust=\"spacingAndGlyphs\" textLength=\"88\" x=\"36\" y=\"383.1387\">«send action»</text><text fill=\"#000000\" font-family=\"sans-serif\" font-size=\"12\" lengthAdjust=\"spacingAndGlyphs\" textLength=\"55\" x=\"52.5\" y=\"397.1074\">doAction</text><line style=\"stroke: #A80036; stroke-width: 1.5;\" x1=\"36\" x2=\"124\" y1=\"404.9375\" y2=\"404.9375\"/><text fill=\"#000000\" font-family=\"sans-serif\" font-size=\"11\" lengthAdjust=\"spacingAndGlyphs\" textLength=\"25\" x=\"41\" y=\"435.9526\">item</text><line style=\"stroke: #A80036; stroke-width: 1.0;\" x1=\"36\" x2=\"42.5\" y1=\"419.3398\" y2=\"419.3398\"/><text fill=\"#000000\" font-family=\"sans-serif\" font-size=\"11\" lengthAdjust=\"spacingAndGlyphs\" textLength=\"75\" x=\"42.5\" y=\"422.6479\">itemFeatures</text><line style=\"stroke: #A80036; stroke-width: 1.0;\" x1=\"117.5\" x2=\"124\" y1=\"419.3398\" y2=\"419.3398\"/></a><!--MD5=[1f5f03483f7de0d5b3680a7f6650997f]\n",
       "reverse link E6 to E11--><a href=\"psysml:372708ac-c185-450b-8b20-5b0e6796b1d2\" target=\"_top\" title=\"psysml:372708ac-c185-450b-8b20-5b0e6796b1d2\" xlink:actuate=\"onRequest\" xlink:href=\"psysml:372708ac-c185-450b-8b20-5b0e6796b1d2\" xlink:show=\"new\" xlink:title=\"psysml:372708ac-c185-450b-8b20-5b0e6796b1d2\" xlink:type=\"simple\"><path d=\"M80,214.17 C80,231.58 80,248.25 80,260.82 \" fill=\"none\" id=\"E6&lt;-E11\" style=\"stroke: #A80036; stroke-width: 1.0;\"/><polygon fill=\"#A80036\" points=\"80,201.09,76.0066,207.0944,80.0132,213.09,84.0066,207.0856,80,201.09\" style=\"stroke: #A80036; stroke-width: 1.0;\"/></a><!--MD5=[94adabc162ce7e41b39f13be14fbaeb3]\n",
       "reverse link E11 to E12--><a href=\"psysml:db8ff6bb-65b2-44b6-939f-52bfaf067d5c\" target=\"_top\" title=\"psysml:db8ff6bb-65b2-44b6-939f-52bfaf067d5c\" xlink:actuate=\"onRequest\" xlink:href=\"psysml:db8ff6bb-65b2-44b6-939f-52bfaf067d5c\" xlink:show=\"new\" xlink:title=\"psysml:db8ff6bb-65b2-44b6-939f-52bfaf067d5c\" xlink:type=\"simple\"><path d=\"M80,320.23 C80,334.82 80,351.76 80,366.58 \" fill=\"none\" id=\"E11&lt;-E12\" style=\"stroke: #A80036; stroke-width: 1.0;\"/><polygon fill=\"#FFFFFF\" points=\"80,307.1,76,313.1,80,319.1,84,313.1,80,307.1\" style=\"stroke: #A80036; stroke-width: 1.0;\"/></a><!--MD5=[c31969b879792f2a1d4766a38e4cef4e]\n",
       "@startuml\r\n",
       "skinparam wrapWidth 300\r\n",
       "hide circle\r\n",
       "\r\n",
       "package \"StateTest\" as E1  [[psysml:7751d53a-3d7b-46fc-b5d8-bf0ae3c7070c ]]  {\r\n",
       "comp def \"Sig\" as E2  <<(T,blue)attribute def>> [[psysml:85dbfb10-d456-4c59-a9e0-99da33bb7a4b ]] {\r\n",
       "x\r\n",
       "}\r\n",
       "comp def \"Exit\" as E3  <<(T,blue)attribute def>> [[psysml:06ed69bb-03e4-455b-a820-630d0564221d ]] {\r\n",
       "}\r\n",
       "comp usage \"p\" as E4  <<(T,blue)part>> [[psysml:f6292196-12b9-4bba-a758-98820cb4f3f5 ]] {\r\n",
       "}\r\n",
       "comp usage \"act\" as E5  <<(T,blue)action>> [[psysml:d7bec2b6-e32c-41d0-a208-370a3f1c18c8 ]] {\r\n",
       "}\r\n",
       "comp def \"S\" as E6  <<(T,blue)state def>> [[psysml:6343fae7-e97a-4dac-816a-0d66812becae ]] {\r\n",
       "- - performActions - -\r\n",
       "act\r\n",
       "A\r\n",
       "B\r\n",
       "- - states - -\r\n",
       "S1\r\n",
       "- - transitions - -\r\n",
       "T\r\n",
       "}\r\n",
       "comp usage \"S2\" as E11  <<(T,blue)state>> [[psysml:372708ac-c185-450b-8b20-5b0e6796b1d2 ]] {\r\n",
       "}\r\n",
       "comp usage \"doAction\" as E12 <<send action>> [[psysml:db8ff6bb-65b2-44b6-939f-52bfaf067d5c ]] {\r\n",
       "- - itemFeatures - -\r\n",
       "item\r\n",
       "}\r\n",
       "E6 *- - E11 [[psysml:372708ac-c185-450b-8b20-5b0e6796b1d2 ]] \r\n",
       "E11 o- - E12 [[psysml:db8ff6bb-65b2-44b6-939f-52bfaf067d5c ]] \r\n",
       "}\r\n",
       "@enduml\r\n",
       "\n",
       "PlantUML version 1.2020.13(Sat Jun 13 12:26:38 UTC 2020)\n",
       "(EPL source distribution)\n",
       "Java Runtime: OpenJDK Runtime Environment\n",
       "JVM: OpenJDK 64-Bit Server VM\n",
       "Default Encoding: UTF-8\n",
       "Language: en\n",
       "Country: null\n",
       "--></g></svg>"
      ]
     },
     "execution_count": 24,
     "metadata": {},
     "output_type": "execute_result"
    }
   ],
   "source": [
    "%viz --style=\"STDCOLOR\" --view=\"Tree\" \"StateTest\""
   ]
  },
  {
   "cell_type": "code",
   "execution_count": 25,
   "id": "random-county",
   "metadata": {
    "execution": {
     "iopub.execute_input": "2021-03-25T13:48:13.512620Z",
     "iopub.status.busy": "2021-03-25T13:48:13.512074Z",
     "iopub.status.idle": "2021-03-25T13:48:13.622446Z",
     "shell.execute_reply": "2021-03-25T13:48:13.620924Z"
    }
   },
   "outputs": [
    {
     "data": {
      "image/svg+xml": [
       "<?xml version=\"1.0\" encoding=\"UTF-8\" standalone=\"no\"?><svg xmlns=\"http://www.w3.org/2000/svg\" xmlns:xlink=\"http://www.w3.org/1999/xlink\" contentScriptType=\"application/ecmascript\" contentStyleType=\"text/css\" height=\"483px\" preserveAspectRatio=\"none\" style=\"width:353px;height:483px;\" version=\"1.1\" viewBox=\"0 0 353 483\" width=\"353px\" zoomAndPan=\"magnify\"><defs><filter height=\"300%\" id=\"ffq25gger68ny\" width=\"300%\" x=\"-1\" y=\"-1\"><feGaussianBlur result=\"blurOut\" stdDeviation=\"2.0\"/><feColorMatrix in=\"blurOut\" result=\"blurOut2\" type=\"matrix\" values=\"0 0 0 0 0 0 0 0 0 0 0 0 0 0 0 0 0 0 .4 0\"/><feOffset dx=\"4.0\" dy=\"4.0\" in=\"blurOut2\" result=\"blurOut3\"/><feBlend in=\"SourceGraphic\" in2=\"blurOut3\" mode=\"normal\"/></filter></defs><g><!--MD5=[fbc87193dbaf4d95561dea2c320d4a47]\n",
       "cluster E1--><a href=\"psysml:6343fae7-e97a-4dac-816a-0d66812becae\" target=\"_top\" title=\"psysml:6343fae7-e97a-4dac-816a-0d66812becae\" xlink:actuate=\"onRequest\" xlink:href=\"psysml:6343fae7-e97a-4dac-816a-0d66812becae\" xlink:show=\"new\" xlink:title=\"psysml:6343fae7-e97a-4dac-816a-0d66812becae\" xlink:type=\"simple\"><rect fill=\"#FFFFFF\" filter=\"url(#ffq25gger68ny)\" height=\"457\" id=\"E1\" style=\"stroke: #A80036; stroke-width: 1.5;\" width=\"327\" x=\"7\" y=\"7\"/><rect fill=\"#FEFECE\" height=\"37.9375\" style=\"stroke: #A80036; stroke-width: 1.5;\" width=\"327\" x=\"7\" y=\"7\"/><text fill=\"#000000\" font-family=\"sans-serif\" font-size=\"12\" font-style=\"italic\" lengthAdjust=\"spacingAndGlyphs\" textLength=\"71\" x=\"135\" y=\"23.1387\">«state def»</text><text fill=\"#000000\" font-family=\"sans-serif\" font-size=\"12\" lengthAdjust=\"spacingAndGlyphs\" textLength=\"8\" x=\"166.5\" y=\"37.1074\">S</text><line style=\"stroke: #A80036; stroke-width: 1.0;\" x1=\"7\" x2=\"334\" y1=\"90.8438\" y2=\"90.8438\"/><text fill=\"#000000\" font-family=\"sans-serif\" font-size=\"12\" font-weight=\"bold\" lengthAdjust=\"spacingAndGlyphs\" textLength=\"38\" x=\"12\" y=\"58.0762\">entry</text><text fill=\"#000000\" font-family=\"sans-serif\" font-size=\"12\" lengthAdjust=\"spacingAndGlyphs\" textLength=\"16\" x=\"50\" y=\"58.0762\">/ A</text><text fill=\"#000000\" font-family=\"sans-serif\" font-size=\"12\" font-weight=\"bold\" lengthAdjust=\"spacingAndGlyphs\" textLength=\"18\" x=\"12\" y=\"72.0449\">do</text><text fill=\"#000000\" font-family=\"sans-serif\" font-size=\"12\" lengthAdjust=\"spacingAndGlyphs\" textLength=\"16\" x=\"30\" y=\"72.0449\">/ B</text><text fill=\"#000000\" font-family=\"sans-serif\" font-size=\"12\" font-weight=\"bold\" lengthAdjust=\"spacingAndGlyphs\" textLength=\"26\" x=\"12\" y=\"86.0137\">exit</text><text fill=\"#000000\" font-family=\"sans-serif\" font-size=\"12\" lengthAdjust=\"spacingAndGlyphs\" textLength=\"28\" x=\"38\" y=\"86.0137\">/ act</text></a><ellipse cx=\"119\" cy=\"115\" fill=\"#000000\" filter=\"url(#ffq25gger68ny)\" rx=\"10\" ry=\"10\" style=\"stroke: none; stroke-width: 1.0;\"/><ellipse cx=\"119\" cy=\"438\" fill=\"none\" filter=\"url(#ffq25gger68ny)\" rx=\"10\" ry=\"10\" style=\"stroke: #000000; stroke-width: 1.0;\"/><ellipse cx=\"119.5\" cy=\"438.5\" fill=\"#000000\" rx=\"6\" ry=\"6\" style=\"stroke: none; stroke-width: 1.0;\"/><g id=\"E1.E2\"><a href=\"psysml:df9bf7b7-ea8a-42e1-9b23-b8091030681c\" target=\"_top\" title=\"psysml:df9bf7b7-ea8a-42e1-9b23-b8091030681c\" xlink:actuate=\"onRequest\" xlink:href=\"psysml:df9bf7b7-ea8a-42e1-9b23-b8091030681c\" xlink:show=\"new\" xlink:title=\"psysml:df9bf7b7-ea8a-42e1-9b23-b8091030681c\" xlink:type=\"simple\"><rect fill=\"#FEFECE\" filter=\"url(#ffq25gger68ny)\" height=\"40\" id=\"E2\" rx=\"10\" ry=\"10\" style=\"stroke: #A80036; stroke-width: 1.5;\" width=\"50\" x=\"94\" y=\"186\"/><text fill=\"#000000\" font-family=\"sans-serif\" font-size=\"12\" lengthAdjust=\"spacingAndGlyphs\" textLength=\"16\" x=\"111\" y=\"202.1387\">S1</text></a></g><g id=\"E1.E3\"><a href=\"psysml:372708ac-c185-450b-8b20-5b0e6796b1d2\" target=\"_top\" title=\"psysml:372708ac-c185-450b-8b20-5b0e6796b1d2\" xlink:actuate=\"onRequest\" xlink:href=\"psysml:372708ac-c185-450b-8b20-5b0e6796b1d2\" xlink:show=\"new\" xlink:title=\"psysml:372708ac-c185-450b-8b20-5b0e6796b1d2\" xlink:type=\"simple\"><rect fill=\"#FEFECE\" filter=\"url(#ffq25gger68ny)\" height=\"47.9375\" id=\"E3\" rx=\"10\" ry=\"10\" style=\"stroke: #A80036; stroke-width: 1.5;\" width=\"50\" x=\"94\" y=\"303\"/><text fill=\"#000000\" font-family=\"sans-serif\" font-size=\"12\" lengthAdjust=\"spacingAndGlyphs\" textLength=\"16\" x=\"111\" y=\"319.1387\">S2</text><line style=\"stroke: #A80036; stroke-width: 1.0;\" x1=\"94\" x2=\"144\" y1=\"326.9688\" y2=\"326.9688\"/><text fill=\"#000000\" font-family=\"sans-serif\" font-size=\"12\" font-weight=\"bold\" lengthAdjust=\"spacingAndGlyphs\" textLength=\"18\" x=\"99\" y=\"340.1074\">do</text><text fill=\"#000000\" font-family=\"sans-serif\" font-size=\"12\" lengthAdjust=\"spacingAndGlyphs\" textLength=\"4\" x=\"117\" y=\"340.1074\">/</text></a></g><!--MD5=[cff944eb183b832d446717a4e202d613]\n",
       "link *start*E1 to E2--><a href=\"psysml:63e0b6b5-21d2-46c8-92d5-87e224212dbf\" target=\"_top\" title=\"psysml:63e0b6b5-21d2-46c8-92d5-87e224212dbf\" xlink:actuate=\"onRequest\" xlink:href=\"psysml:63e0b6b5-21d2-46c8-92d5-87e224212dbf\" xlink:show=\"new\" xlink:title=\"psysml:63e0b6b5-21d2-46c8-92d5-87e224212dbf\" xlink:type=\"simple\"><path d=\"M119,125.19 C119,138.18 119,162.38 119,180.73 \" fill=\"none\" id=\"*start*E1-&gt;E2\" style=\"stroke: #A80036; stroke-width: 1.0;\"/><polygon fill=\"#A80036\" points=\"119,185.74,123,176.74,119,180.74,115,176.74,119,185.74\" style=\"stroke: #A80036; stroke-width: 1.0;\"/></a><!--MD5=[9ee7afa76ca8c509b3d216624c3a9893]\n",
       "link E3 to *end*E1--><a href=\"psysml:60b88d5b-1ac8-4d6b-b052-bf1a623237b5\" target=\"_top\" title=\"psysml:60b88d5b-1ac8-4d6b-b052-bf1a623237b5\" xlink:actuate=\"onRequest\" xlink:href=\"psysml:60b88d5b-1ac8-4d6b-b052-bf1a623237b5\" xlink:show=\"new\" xlink:title=\"psysml:60b88d5b-1ac8-4d6b-b052-bf1a623237b5\" xlink:type=\"simple\"><path d=\"M119,351.12 C119,372.75 119,404.39 119,422.62 \" fill=\"none\" id=\"E3-&gt;*end*E1\" style=\"stroke: #A80036; stroke-width: 1.0;\"/><polygon fill=\"#A80036\" points=\"119,427.82,123,418.82,119,422.82,115,418.82,119,427.82\" style=\"stroke: #A80036; stroke-width: 1.0;\"/><text fill=\"#000000\" font-family=\"sans-serif\" font-size=\"13\" lengthAdjust=\"spacingAndGlyphs\" textLength=\"23\" x=\"120\" y=\"394.0669\">Exit</text></a><!--MD5=[2720a5a1f2c3fca2055b230370638851]\n",
       "link E2 to E3--><a href=\"psysml:b9f5e72d-c680-433c-ba5c-575fc587f4f3\" target=\"_top\" title=\"psysml:b9f5e72d-c680-433c-ba5c-575fc587f4f3\" xlink:actuate=\"onRequest\" xlink:href=\"psysml:b9f5e72d-c680-433c-ba5c-575fc587f4f3\" xlink:show=\"new\" xlink:title=\"psysml:b9f5e72d-c680-433c-ba5c-575fc587f4f3\" xlink:type=\"simple\"><path d=\"M93.93,218.88 C79.69,227.12 63.12,239.56 55,256 C44.11,278.05 67.72,298.2 89.27,311.16 \" fill=\"none\" id=\"E2-&gt;E3\" style=\"stroke: #A80036; stroke-width: 1.0;\"/><polygon fill=\"#A80036\" points=\"93.83,313.82,88.0682,305.8324,89.5101,311.3024,84.0401,312.7443,93.83,313.82\" style=\"stroke: #A80036; stroke-width: 1.0;\"/><text fill=\"#000000\" font-family=\"sans-serif\" font-size=\"13\" lengthAdjust=\"spacingAndGlyphs\" textLength=\"81\" x=\"56\" y=\"269.0669\">Sig /action D</text></a><!--MD5=[05d275557350bfb9b23a4ef7222b4c39]\n",
       "link E3 to E2--><a href=\"psysml:8fe1fd83-9e96-4978-be75-1a7ead5c4a85\" target=\"_top\" title=\"psysml:8fe1fd83-9e96-4978-be75-1a7ead5c4a85\" xlink:actuate=\"onRequest\" xlink:href=\"psysml:8fe1fd83-9e96-4978-be75-1a7ead5c4a85\" xlink:show=\"new\" xlink:title=\"psysml:8fe1fd83-9e96-4978-be75-1a7ead5c4a85\" xlink:type=\"simple\"><path d=\"M133.17,302.99 C139.81,289.48 145.56,271.98 142,256 C140.1,247.49 136.56,238.72 132.82,230.99 \" fill=\"none\" id=\"E3-&gt;E2\" style=\"stroke: #A80036; stroke-width: 1.0;\"/><polygon fill=\"#A80036\" points=\"130.47,226.32,130.9298,236.1581,132.7118,230.7893,138.0806,232.5713,130.47,226.32\" style=\"stroke: #A80036; stroke-width: 1.0;\"/><text fill=\"#000000\" font-family=\"sans-serif\" font-size=\"13\" lengthAdjust=\"spacingAndGlyphs\" textLength=\"135\" x=\"144\" y=\"269.0669\">Sig [true]/send s to p</text></a><!--MD5=[a6efdd6b86652c826cc4692c02766958]\n",
       "@startuml\r\n",
       "skinparam wrapWidth 300\r\n",
       "hide circle\r\n",
       "\r\n",
       "rec def \"S\" as E1  <<(T,blue)state def>> [[psysml:6343fae7-e97a-4dac-816a-0d66812becae ]] {\r\n",
       "rec usage \"S1\" as E2 [[psysml:df9bf7b7-ea8a-42e1-9b23-b8091030681c ]] {\r\n",
       "}\r\n",
       "\r\n",
       "rec usage \"S2\" as E3 [[psysml:372708ac-c185-450b-8b20-5b0e6796b1d2 ]] {\r\n",
       "desc \"S2\" as E3  : **do**/ \r\n",
       "}\r\n",
       "\r\n",
       "[*] - -> E2 [[psysml:63e0b6b5-21d2-46c8-92d5-87e224212dbf ]] \r\n",
       "E3  - -> [*] [[psysml:60b88d5b-1ac8-4d6b-b052-bf1a623237b5 ]] : Exit \r\n",
       "desc \"S\" as E1  : **entry**/ A\r\n",
       "desc \"S\" as E1  : **do**/ B\r\n",
       "desc \"S\" as E1  : **exit**/ act \r\n",
       "}\r\n",
       "\r\n",
       "E2  - -> E3 [[psysml:b9f5e72d-c680-433c-ba5c-575fc587f4f3 ]] : Sig /action D\r\n",
       "E3  - -> E2 [[psysml:8fe1fd83-9e96-4978-be75-1a7ead5c4a85 ]] : Sig [true]/send s to p\r\n",
       "@enduml\r\n",
       "\n",
       "PlantUML version 1.2020.13(Sat Jun 13 12:26:38 UTC 2020)\n",
       "(EPL source distribution)\n",
       "Java Runtime: OpenJDK Runtime Environment\n",
       "JVM: OpenJDK 64-Bit Server VM\n",
       "Default Encoding: UTF-8\n",
       "Language: en\n",
       "Country: null\n",
       "--></g></svg>"
      ]
     },
     "execution_count": 25,
     "metadata": {},
     "output_type": "execute_result"
    }
   ],
   "source": [
    "%viz --style=\"STDCOLOR\" --view=\"State\" \"StateTest\""
   ]
  },
  {
   "cell_type": "code",
   "execution_count": 26,
   "id": "infrared-terrain",
   "metadata": {
    "execution": {
     "iopub.execute_input": "2021-03-25T13:48:13.674814Z",
     "iopub.status.busy": "2021-03-25T13:48:13.674264Z",
     "iopub.status.idle": "2021-03-25T13:48:13.735152Z",
     "shell.execute_reply": "2021-03-25T13:48:13.735678Z"
    }
   },
   "outputs": [
    {
     "data": {
      "image/svg+xml": [
       "<?xml version=\"1.0\" encoding=\"UTF-8\" standalone=\"no\"?><svg xmlns=\"http://www.w3.org/2000/svg\" xmlns:xlink=\"http://www.w3.org/1999/xlink\" contentScriptType=\"application/ecmascript\" contentStyleType=\"text/css\" height=\"112px\" preserveAspectRatio=\"none\" style=\"width:598px;height:112px;\" version=\"1.1\" viewBox=\"0 0 598 112\" width=\"598px\" zoomAndPan=\"magnify\"><defs><filter height=\"300%\" id=\"femlt4ov9uf4v\" width=\"300%\" x=\"-1\" y=\"-1\"><feGaussianBlur result=\"blurOut\" stdDeviation=\"2.0\"/><feColorMatrix in=\"blurOut\" result=\"blurOut2\" type=\"matrix\" values=\"0 0 0 0 0 0 0 0 0 0 0 0 0 0 0 0 0 0 .4 0\"/><feOffset dx=\"4.0\" dy=\"4.0\" in=\"blurOut2\" result=\"blurOut3\"/><feBlend in=\"SourceGraphic\" in2=\"blurOut3\" mode=\"normal\"/></filter></defs><g><!--MD5=[fbc87193dbaf4d95561dea2c320d4a47]\n",
       "cluster E1--><a href=\"psysml:7751d53a-3d7b-46fc-b5d8-bf0ae3c7070c\" target=\"_top\" title=\"psysml:7751d53a-3d7b-46fc-b5d8-bf0ae3c7070c\" xlink:actuate=\"onRequest\" xlink:href=\"psysml:7751d53a-3d7b-46fc-b5d8-bf0ae3c7070c\" xlink:show=\"new\" xlink:title=\"psysml:7751d53a-3d7b-46fc-b5d8-bf0ae3c7070c\" xlink:type=\"simple\"><polygon fill=\"#FFFFFF\" filter=\"url(#femlt4ov9uf4v)\" points=\"16,6,98,6,105,28.2969,576,28.2969,576,100,16,100,16,6\" style=\"stroke: #000000; stroke-width: 1.5;\"/><line style=\"stroke: #000000; stroke-width: 1.5;\" x1=\"16\" x2=\"105\" y1=\"28.2969\" y2=\"28.2969\"/><text fill=\"#000000\" font-family=\"sans-serif\" font-size=\"14\" font-weight=\"bold\" lengthAdjust=\"spacingAndGlyphs\" textLength=\"76\" x=\"20\" y=\"20.9951\">StateTest</text></a><g id=\"E1.E2\"><a href=\"psysml:85dbfb10-d456-4c59-a9e0-99da33bb7a4b\" target=\"_top\" title=\"psysml:85dbfb10-d456-4c59-a9e0-99da33bb7a4b\" xlink:actuate=\"onRequest\" xlink:href=\"psysml:85dbfb10-d456-4c59-a9e0-99da33bb7a4b\" xlink:show=\"new\" xlink:title=\"psysml:85dbfb10-d456-4c59-a9e0-99da33bb7a4b\" xlink:type=\"simple\"><rect fill=\"#FEFECE\" filter=\"url(#femlt4ov9uf4v)\" height=\"42.9375\" id=\"E2\" style=\"stroke: #A80036; stroke-width: 1.5;\" width=\"100\" x=\"460\" y=\"41\"/><text fill=\"#000000\" font-family=\"sans-serif\" font-size=\"12\" font-style=\"italic\" lengthAdjust=\"spacingAndGlyphs\" textLength=\"93\" x=\"463.5\" y=\"57.1387\">«attribute def»</text><text fill=\"#000000\" font-family=\"sans-serif\" font-size=\"12\" lengthAdjust=\"spacingAndGlyphs\" textLength=\"19\" x=\"500.5\" y=\"71.1074\">Sig</text></a></g><g id=\"E1.E3\"><a href=\"psysml:06ed69bb-03e4-455b-a820-630d0564221d\" target=\"_top\" title=\"psysml:06ed69bb-03e4-455b-a820-630d0564221d\" xlink:actuate=\"onRequest\" xlink:href=\"psysml:06ed69bb-03e4-455b-a820-630d0564221d\" xlink:show=\"new\" xlink:title=\"psysml:06ed69bb-03e4-455b-a820-630d0564221d\" xlink:type=\"simple\"><rect fill=\"#FEFECE\" filter=\"url(#femlt4ov9uf4v)\" height=\"42.9375\" id=\"E3\" style=\"stroke: #A80036; stroke-width: 1.5;\" width=\"100\" x=\"325\" y=\"41\"/><text fill=\"#000000\" font-family=\"sans-serif\" font-size=\"12\" font-style=\"italic\" lengthAdjust=\"spacingAndGlyphs\" textLength=\"93\" x=\"328.5\" y=\"57.1387\">«attribute def»</text><text fill=\"#000000\" font-family=\"sans-serif\" font-size=\"12\" lengthAdjust=\"spacingAndGlyphs\" textLength=\"22\" x=\"364\" y=\"71.1074\">Exit</text></a></g><g id=\"E1.E6\"><a href=\"psysml:6343fae7-e97a-4dac-816a-0d66812becae\" target=\"_top\" title=\"psysml:6343fae7-e97a-4dac-816a-0d66812becae\" xlink:actuate=\"onRequest\" xlink:href=\"psysml:6343fae7-e97a-4dac-816a-0d66812becae\" xlink:show=\"new\" xlink:title=\"psysml:6343fae7-e97a-4dac-816a-0d66812becae\" xlink:type=\"simple\"><rect fill=\"#FEFECE\" filter=\"url(#femlt4ov9uf4v)\" height=\"42.9375\" id=\"E6\" style=\"stroke: #A80036; stroke-width: 1.5;\" width=\"78\" x=\"212\" y=\"41\"/><text fill=\"#000000\" font-family=\"sans-serif\" font-size=\"12\" font-style=\"italic\" lengthAdjust=\"spacingAndGlyphs\" textLength=\"71\" x=\"215.5\" y=\"57.1387\">«state def»</text><text fill=\"#000000\" font-family=\"sans-serif\" font-size=\"12\" lengthAdjust=\"spacingAndGlyphs\" textLength=\"8\" x=\"247\" y=\"71.1074\">S</text></a></g><g id=\"E1.E4\"><a href=\"psysml:f6292196-12b9-4bba-a758-98820cb4f3f5\" target=\"_top\" title=\"psysml:f6292196-12b9-4bba-a758-98820cb4f3f5\" xlink:actuate=\"onRequest\" xlink:href=\"psysml:f6292196-12b9-4bba-a758-98820cb4f3f5\" xlink:show=\"new\" xlink:title=\"psysml:f6292196-12b9-4bba-a758-98820cb4f3f5\" xlink:type=\"simple\"><rect fill=\"#FEFECE\" filter=\"url(#femlt4ov9uf4v)\" height=\"40\" id=\"E4\" rx=\"10\" ry=\"10\" style=\"stroke: #A80036; stroke-width: 1.5;\" width=\"50\" x=\"127\" y=\"42.5\"/><text fill=\"#000000\" font-family=\"sans-serif\" font-size=\"12\" lengthAdjust=\"spacingAndGlyphs\" textLength=\"8\" x=\"148\" y=\"58.6387\">p</text></a></g><g id=\"E1.E5\"><a href=\"psysml:d7bec2b6-e32c-41d0-a208-370a3f1c18c8\" target=\"_top\" title=\"psysml:d7bec2b6-e32c-41d0-a208-370a3f1c18c8\" xlink:actuate=\"onRequest\" xlink:href=\"psysml:d7bec2b6-e32c-41d0-a208-370a3f1c18c8\" xlink:show=\"new\" xlink:title=\"psysml:d7bec2b6-e32c-41d0-a208-370a3f1c18c8\" xlink:type=\"simple\"><rect fill=\"#FEFECE\" filter=\"url(#femlt4ov9uf4v)\" height=\"42.9375\" id=\"E5\" rx=\"10\" ry=\"10\" style=\"stroke: #A80036; stroke-width: 1.5;\" width=\"60\" x=\"32\" y=\"41\"/><text fill=\"#000000\" font-family=\"sans-serif\" font-size=\"12\" font-style=\"italic\" lengthAdjust=\"spacingAndGlyphs\" textLength=\"53\" x=\"35.5\" y=\"57.1387\">«action»</text><text fill=\"#000000\" font-family=\"sans-serif\" font-size=\"12\" lengthAdjust=\"spacingAndGlyphs\" textLength=\"20\" x=\"52\" y=\"71.1074\">act</text></a></g><!--MD5=[d2ad7b421aedeebf4c0eb8b349b68913]\n",
       "@startuml\r\n",
       "skinparam ranksep 8\r\n",
       "skinparam rectangle {\r\n",
       " backgroundColor<<block>> LightGreen\r\n",
       "}\r\n",
       "skinparam wrapWidth 300\r\n",
       "hide circle\r\n",
       "\r\n",
       "package \"StateTest\" as E1  [[psysml:7751d53a-3d7b-46fc-b5d8-bf0ae3c7070c ]]  {\r\n",
       "def \"Sig\" as E2  <<(T,blue)attribute def>> [[psysml:85dbfb10-d456-4c59-a9e0-99da33bb7a4b ]] \r\n",
       "def \"Exit\" as E3  <<(T,blue)attribute def>> [[psysml:06ed69bb-03e4-455b-a820-630d0564221d ]] \r\n",
       "rec usage \"p\" as E4  [[psysml:f6292196-12b9-4bba-a758-98820cb4f3f5 ]] {\r\n",
       "}\r\n",
       "rec usage \"act\" as E5  <<(T,blue)action>> [[psysml:d7bec2b6-e32c-41d0-a208-370a3f1c18c8 ]] {\r\n",
       "}\r\n",
       "def \"S\" as E6  <<(T,blue)state def>> [[psysml:6343fae7-e97a-4dac-816a-0d66812becae ]] \r\n",
       "}\r\n",
       "@enduml\r\n",
       "\n",
       "PlantUML version 1.2020.13(Sat Jun 13 12:26:38 UTC 2020)\n",
       "(EPL source distribution)\n",
       "Java Runtime: OpenJDK Runtime Environment\n",
       "JVM: OpenJDK 64-Bit Server VM\n",
       "Default Encoding: UTF-8\n",
       "Language: en\n",
       "Country: null\n",
       "--></g></svg>"
      ]
     },
     "execution_count": 26,
     "metadata": {},
     "output_type": "execute_result"
    }
   ],
   "source": [
    "%viz --style=\"STDCOLOR\" --view=\"Interconnection\" \"StateTest\""
   ]
  },
  {
   "cell_type": "code",
   "execution_count": 27,
   "id": "surgical-hayes",
   "metadata": {
    "execution": {
     "iopub.execute_input": "2021-03-25T13:48:13.785986Z",
     "iopub.status.busy": "2021-03-25T13:48:13.785511Z",
     "iopub.status.idle": "2021-03-25T13:48:13.838976Z",
     "shell.execute_reply": "2021-03-25T13:48:13.839735Z"
    }
   },
   "outputs": [
    {
     "data": {
      "image/svg+xml": [
       "<?xml version=\"1.0\" encoding=\"UTF-8\" standalone=\"no\"?><svg xmlns=\"http://www.w3.org/2000/svg\" xmlns:xlink=\"http://www.w3.org/1999/xlink\" contentScriptType=\"application/ecmascript\" contentStyleType=\"text/css\" height=\"488px\" preserveAspectRatio=\"none\" style=\"width:797px;height:488px;background:#000000;\" version=\"1.1\" viewBox=\"0 0 797 488\" width=\"797px\" zoomAndPan=\"magnify\"><defs/><g><rect fill=\"#06071E\" height=\"1\" style=\"stroke: #06071E; stroke-width: 1.0;\" width=\"1\" x=\"0\" y=\"0\"/><rect fill=\"#EAE2C9\" height=\"65.1875\" style=\"stroke: #EAE2C9; stroke-width: 1.0;\" width=\"796\" x=\"0\" y=\"0\"/><text fill=\"#000000\" font-family=\"sans-serif\" font-size=\"14\" font-weight=\"bold\" lengthAdjust=\"spacingAndGlyphs\" textLength=\"310\" x=\"10\" y=\"12.9951\">Add your own dedication into PlantUML</text><text fill=\"#000000\" font-family=\"sans-serif\" font-size=\"14\" lengthAdjust=\"spacingAndGlyphs\" textLength=\"0\" x=\"14\" y=\"29.292\"/><text fill=\"#000000\" font-family=\"sans-serif\" font-size=\"14\" lengthAdjust=\"spacingAndGlyphs\" textLength=\"154\" x=\"10\" y=\"45.5889\">For just $5 per month!</text><text fill=\"#000000\" font-family=\"sans-serif\" font-size=\"14\" lengthAdjust=\"spacingAndGlyphs\" textLength=\"69\" x=\"10\" y=\"61.8857\">Details on</text><a href=\"http://plantuml.com/dedication\" target=\"_top\" title=\"http://plantuml.com/dedication\" xlink:actuate=\"onRequest\" xlink:href=\"http://plantuml.com/dedication\" xlink:show=\"new\" xlink:title=\"http://plantuml.com/dedication\" xlink:type=\"simple\"><text fill=\"#000000\" font-family=\"sans-serif\" font-size=\"14\" font-style=\"italic\" lengthAdjust=\"spacingAndGlyphs\" textLength=\"213\" x=\"83\" y=\"61.8857\">http://plantuml.com/dedication</text></a><rect fill=\"#000000\" height=\"422.4219\" style=\"stroke: #000000; stroke-width: 1.0;\" width=\"796\" x=\"0\" y=\"65.1875\"/><rect fill=\"#33FF02\" height=\"21.2969\" style=\"stroke: #33FF02; stroke-width: 1.0;\" width=\"786\" x=\"5\" y=\"70.1875\"/><text fill=\"#000000\" font-family=\"sans-serif\" font-size=\"14\" font-weight=\"bold\" lengthAdjust=\"spacingAndGlyphs\" textLength=\"178\" x=\"6\" y=\"85.1875\">[From string (line 22) ]</text><text fill=\"#33FF02\" font-family=\"sans-serif\" font-size=\"14\" font-weight=\"bold\" lengthAdjust=\"spacingAndGlyphs\" textLength=\"0\" x=\"10\" y=\"105.4844\"/><text fill=\"#33FF02\" font-family=\"sans-serif\" font-size=\"14\" font-weight=\"bold\" lengthAdjust=\"spacingAndGlyphs\" textLength=\"79\" x=\"5\" y=\"121.7813\">@startuml</text><text fill=\"#33FF02\" font-family=\"sans-serif\" font-size=\"14\" font-weight=\"bold\" lengthAdjust=\"spacingAndGlyphs\" textLength=\"165\" x=\"5\" y=\"138.0781\">skinparam ranksep 8</text><text fill=\"#33FF02\" font-family=\"sans-serif\" font-size=\"14\" font-weight=\"bold\" lengthAdjust=\"spacingAndGlyphs\" textLength=\"206\" x=\"5\" y=\"154.375\">skinparam wrapWidth 300</text><text fill=\"#33FF02\" font-family=\"sans-serif\" font-size=\"14\" font-weight=\"bold\" lengthAdjust=\"spacingAndGlyphs\" textLength=\"82\" x=\"5\" y=\"170.6719\">hide circle</text><text fill=\"#33FF02\" font-family=\"sans-serif\" font-size=\"14\" font-weight=\"bold\" lengthAdjust=\"spacingAndGlyphs\" textLength=\"0\" x=\"10\" y=\"186.9688\"/><text fill=\"#33FF02\" font-family=\"sans-serif\" font-size=\"14\" font-weight=\"bold\" lengthAdjust=\"spacingAndGlyphs\" textLength=\"780\" x=\"5\" y=\"203.2656\">rec usage \"act\" as E1  &lt;&lt;(T,blue)action&gt;&gt; [[psysml:d7bec2b6-e32c-41d0-a208-370a3f1c18c8 ]] {</text><text fill=\"#33FF02\" font-family=\"sans-serif\" font-size=\"14\" font-weight=\"bold\" lengthAdjust=\"spacingAndGlyphs\" textLength=\"10\" x=\"5\" y=\"219.5625\">}</text><text fill=\"#33FF02\" font-family=\"sans-serif\" font-size=\"14\" font-weight=\"bold\" lengthAdjust=\"spacingAndGlyphs\" textLength=\"0\" x=\"10\" y=\"235.8594\"/><text fill=\"#33FF02\" font-family=\"sans-serif\" font-size=\"14\" font-weight=\"bold\" lengthAdjust=\"spacingAndGlyphs\" textLength=\"766\" x=\"5\" y=\"252.1563\">rec def \"S\" as E2  &lt;&lt;(T,blue)state def&gt;&gt; [[psysml:6343fae7-e97a-4dac-816a-0d66812becae ]] {</text><text fill=\"#33FF02\" font-family=\"sans-serif\" font-size=\"14\" font-weight=\"bold\" lengthAdjust=\"spacingAndGlyphs\" textLength=\"771\" x=\"5\" y=\"268.4531\">rec usage \"A\" as E3 &lt;&lt;perform action&gt;&gt; [[psysml:8359d21e-76a2-4117-aa0c-e497139fc203 ]] {</text><text fill=\"#33FF02\" font-family=\"sans-serif\" font-size=\"14\" font-weight=\"bold\" lengthAdjust=\"spacingAndGlyphs\" textLength=\"10\" x=\"5\" y=\"284.75\">}</text><text fill=\"#33FF02\" font-family=\"sans-serif\" font-size=\"14\" font-weight=\"bold\" lengthAdjust=\"spacingAndGlyphs\" textLength=\"0\" x=\"10\" y=\"301.0469\"/><text fill=\"#33FF02\" font-family=\"sans-serif\" font-size=\"14\" font-weight=\"bold\" lengthAdjust=\"spacingAndGlyphs\" textLength=\"757\" x=\"5\" y=\"317.3438\">rec usage \"B\" as E4 &lt;&lt;perform action&gt;&gt; [[psysml:fefee72e-42fb-4d4a-8086-a3c1a01af58c ]] {</text><text fill=\"#33FF02\" font-family=\"sans-serif\" font-size=\"14\" font-weight=\"bold\" lengthAdjust=\"spacingAndGlyphs\" textLength=\"10\" x=\"5\" y=\"333.6406\">}</text><text fill=\"#33FF02\" font-family=\"sans-serif\" font-size=\"14\" font-weight=\"bold\" lengthAdjust=\"spacingAndGlyphs\" textLength=\"0\" x=\"10\" y=\"349.9375\"/><text fill=\"#33FF02\" font-family=\"sans-serif\" font-size=\"14\" font-weight=\"bold\" lengthAdjust=\"spacingAndGlyphs\" textLength=\"786\" x=\"5\" y=\"366.2344\">rec usage \"act\" as E5 &lt;&lt;perform action&gt;&gt; [[psysml:0785ac9a-a9d7-4330-a90b-536bd85a1c26 ]] {</text><text fill=\"#33FF02\" font-family=\"sans-serif\" font-size=\"14\" font-weight=\"bold\" lengthAdjust=\"spacingAndGlyphs\" textLength=\"10\" x=\"5\" y=\"382.5313\">}</text><text fill=\"#33FF02\" font-family=\"sans-serif\" font-size=\"14\" font-weight=\"bold\" lengthAdjust=\"spacingAndGlyphs\" textLength=\"0\" x=\"10\" y=\"398.8281\"/><text fill=\"#33FF02\" font-family=\"sans-serif\" font-size=\"14\" font-weight=\"bold\" lengthAdjust=\"spacingAndGlyphs\" textLength=\"767\" x=\"5\" y=\"415.125\">rec usage \"S1\" as E6  &lt;&lt;(T,blue)state&gt;&gt; [[psysml:df9bf7b7-ea8a-42e1-9b23-b8091030681c ]] {</text><text fill=\"#33FF02\" font-family=\"sans-serif\" font-size=\"14\" font-weight=\"bold\" lengthAdjust=\"spacingAndGlyphs\" textLength=\"10\" x=\"5\" y=\"431.4219\">}</text><text fill=\"#33FF02\" font-family=\"sans-serif\" font-size=\"14\" font-weight=\"bold\" lengthAdjust=\"spacingAndGlyphs\" textLength=\"0\" x=\"10\" y=\"447.7188\"/><text fill=\"#33FF02\" font-family=\"sans-serif\" font-size=\"14\" font-weight=\"bold\" lengthAdjust=\"spacingAndGlyphs\" textLength=\"10\" x=\"5\" y=\"464.0156\">{</text><text fill=\"#FF0000\" font-family=\"sans-serif\" font-size=\"14\" font-weight=\"bold\" lengthAdjust=\"spacingAndGlyphs\" textLength=\"106\" x=\"10\" y=\"480.3125\">Syntax Error?</text><!--MD5=[0e138d477dc83ccd89b3e7fb468c840c]\n",
       "@startuml\r\n",
       "skinparam ranksep 8\r\n",
       "skinparam wrapWidth 300\r\n",
       "hide circle\r\n",
       "\r\n",
       "rec usage \"act\" as E1  <<(T,blue)action>> [[psysml:d7bec2b6-e32c-41d0-a208-370a3f1c18c8 ]] {\r\n",
       "}\r\n",
       "\r\n",
       "rec def \"S\" as E2  <<(T,blue)state def>> [[psysml:6343fae7-e97a-4dac-816a-0d66812becae ]] {\r\n",
       "rec usage \"A\" as E3 <<perform action>> [[psysml:8359d21e-76a2-4117-aa0c-e497139fc203 ]] {\r\n",
       "}\r\n",
       "\r\n",
       "rec usage \"B\" as E4 <<perform action>> [[psysml:fefee72e-42fb-4d4a-8086-a3c1a01af58c ]] {\r\n",
       "}\r\n",
       "\r\n",
       "rec usage \"act\" as E5 <<perform action>> [[psysml:0785ac9a-a9d7-4330-a90b-536bd85a1c26 ]] {\r\n",
       "}\r\n",
       "\r\n",
       "rec usage \"S1\" as E6  <<(T,blue)state>> [[psysml:df9bf7b7-ea8a-42e1-9b23-b8091030681c ]] {\r\n",
       "}\r\n",
       "\r\n",
       "{\r\n",
       "{\r\n",
       "}\r\n",
       "\r\n",
       "rec usage \"D\" as E7 <<perform action>> [[psysml:13511cfd-781a-4ec2-8fcf-a4a28f7b6394 ]] {\r\n",
       "}\r\n",
       "\r\n",
       "}\r\n",
       "\r\n",
       "rec usage \"S2\" as E8  <<(T,blue)state>> [[psysml:372708ac-c185-450b-8b20-5b0e6796b1d2 ]] {\r\n",
       "rec usage \"doAction\" as E9 <<send action>> [[psysml:db8ff6bb-65b2-44b6-939f-52bfaf067d5c ]] {\r\n",
       "portin \"$x\" as E10  [[psysml:f2ac6743-4d1a-421e-9e84-f3280953fc52 ]] \r\n",
       "portout \"$result\" as E11  [[psysml:58832e21-8b8c-4456-b993-1dc2ff31e51d ]] \r\n",
       "}\r\n",
       "\r\n",
       "}\r\n",
       "\r\n",
       "{\r\n",
       "{\r\n",
       "}\r\n",
       "\r\n",
       "}\r\n",
       "\r\n",
       "rec usage \"T\" as E12  <<(T,blue)transition>> [[psysml:8fe1fd83-9e96-4978-be75-1a7ead5c4a85 ]] {\r\n",
       "rec usage \"S2\" as E13  <<(T,blue)state>> [[psysml:372708ac-c185-450b-8b20-5b0e6796b1d2 ]] {\r\n",
       "rec usage \"doAction\" as E14 <<send action>> [[psysml:db8ff6bb-65b2-44b6-939f-52bfaf067d5c ]] {\r\n",
       "portin \"$x\" as E15  [[psysml:f2ac6743-4d1a-421e-9e84-f3280953fc52 ]] \r\n",
       "portout \"$result\" as E16  [[psysml:58832e21-8b8c-4456-b993-1dc2ff31e51d ]] \r\n",
       "}\r\n",
       "\r\n",
       "}\r\n",
       "\r\n",
       "{\r\n",
       "}\r\n",
       "\r\n",
       "portout \"$result\" as E17  [[psysml:19fa8e9c-57e3-4ff0-b297-c44a7cb57e28 ]] \r\n",
       "{\r\n",
       "}\r\n",
       "\r\n",
       "}\r\n",
       "\r\n",
       "}\r\n",
       "\r\n",
       "@enduml\r\n",
       "\n",
       "PlantUML version 1.2020.13(Sat Jun 13 12:26:38 UTC 2020)\n",
       "(EPL source distribution)\n",
       "Java Runtime: OpenJDK Runtime Environment\n",
       "JVM: OpenJDK 64-Bit Server VM\n",
       "Default Encoding: UTF-8\n",
       "Language: en\n",
       "Country: null\n",
       "--></g></svg>"
      ]
     },
     "execution_count": 27,
     "metadata": {},
     "output_type": "execute_result"
    }
   ],
   "source": [
    "%viz --style=\"STDCOLOR\" --view=\"Action\" \"StateTest\""
   ]
  },
  {
   "cell_type": "code",
   "execution_count": 28,
   "id": "strategic-entrepreneur",
   "metadata": {
    "execution": {
     "iopub.execute_input": "2021-03-25T13:48:13.889922Z",
     "iopub.status.busy": "2021-03-25T13:48:13.889256Z",
     "iopub.status.idle": "2021-03-25T13:48:14.295189Z",
     "shell.execute_reply": "2021-03-25T13:48:14.294347Z"
    }
   },
   "outputs": [
    {
     "data": {
      "image/svg+xml": [
       "<?xml version=\"1.0\" encoding=\"UTF-8\" standalone=\"no\"?><svg xmlns=\"http://www.w3.org/2000/svg\" xmlns:xlink=\"http://www.w3.org/1999/xlink\" contentScriptType=\"application/ecmascript\" contentStyleType=\"text/css\" height=\"471px\" preserveAspectRatio=\"none\" style=\"width:594px;height:471px;\" version=\"1.1\" viewBox=\"0 0 594 471\" width=\"594px\" zoomAndPan=\"magnify\"><defs><filter height=\"300%\" id=\"f15k9v9lh43ec7\" width=\"300%\" x=\"-1\" y=\"-1\"><feGaussianBlur result=\"blurOut\" stdDeviation=\"2.0\"/><feColorMatrix in=\"blurOut\" result=\"blurOut2\" type=\"matrix\" values=\"0 0 0 0 0 0 0 0 0 0 0 0 0 0 0 0 0 0 .4 0\"/><feOffset dx=\"4.0\" dy=\"4.0\" in=\"blurOut2\" result=\"blurOut3\"/><feBlend in=\"SourceGraphic\" in2=\"blurOut3\" mode=\"normal\"/></filter></defs><g><!--MD5=[fbc87193dbaf4d95561dea2c320d4a47]\n",
       "cluster E1--><a href=\"psysml:7751d53a-3d7b-46fc-b5d8-bf0ae3c7070c\" target=\"_top\" title=\"psysml:7751d53a-3d7b-46fc-b5d8-bf0ae3c7070c\" xlink:actuate=\"onRequest\" xlink:href=\"psysml:7751d53a-3d7b-46fc-b5d8-bf0ae3c7070c\" xlink:show=\"new\" xlink:title=\"psysml:7751d53a-3d7b-46fc-b5d8-bf0ae3c7070c\" xlink:type=\"simple\"><polygon fill=\"#FFFFFF\" filter=\"url(#f15k9v9lh43ec7)\" points=\"16,6,98,6,105,28.2969,572,28.2969,572,459,16,459,16,6\" style=\"stroke: #000000; stroke-width: 1.5;\"/><line style=\"stroke: #000000; stroke-width: 1.5;\" x1=\"16\" x2=\"105\" y1=\"28.2969\" y2=\"28.2969\"/><text fill=\"#000000\" font-family=\"sans-serif\" font-size=\"14\" font-weight=\"bold\" lengthAdjust=\"spacingAndGlyphs\" textLength=\"76\" x=\"20\" y=\"20.9951\">StateTest</text></a><!--MD5=[b4997ac47864f28c2f74865a473b2911]\n",
       "class E2--><a href=\"psysml:85dbfb10-d456-4c59-a9e0-99da33bb7a4b\" target=\"_top\" title=\"psysml:85dbfb10-d456-4c59-a9e0-99da33bb7a4b\" xlink:actuate=\"onRequest\" xlink:href=\"psysml:85dbfb10-d456-4c59-a9e0-99da33bb7a4b\" xlink:show=\"new\" xlink:title=\"psysml:85dbfb10-d456-4c59-a9e0-99da33bb7a4b\" xlink:type=\"simple\"><rect fill=\"#FEFECE\" filter=\"url(#f15k9v9lh43ec7)\" height=\"58.7422\" id=\"E2\" style=\"stroke: #A80036; stroke-width: 1.5;\" width=\"95\" x=\"460.5\" y=\"91.5\"/><text fill=\"#000000\" font-family=\"sans-serif\" font-size=\"12\" font-style=\"italic\" lengthAdjust=\"spacingAndGlyphs\" textLength=\"93\" x=\"461.5\" y=\"107.6387\">«attribute def»</text><text fill=\"#000000\" font-family=\"sans-serif\" font-size=\"12\" lengthAdjust=\"spacingAndGlyphs\" textLength=\"19\" x=\"498.5\" y=\"121.6074\">Sig</text><line style=\"stroke: #A80036; stroke-width: 1.5;\" x1=\"461.5\" x2=\"554.5\" y1=\"129.4375\" y2=\"129.4375\"/><text fill=\"#000000\" font-family=\"sans-serif\" font-size=\"11\" lengthAdjust=\"spacingAndGlyphs\" textLength=\"6\" x=\"466.5\" y=\"143.6479\">x</text></a><!--MD5=[09b614a08d8cba4a07c9adeb5e0fee81]\n",
       "class E3--><a href=\"psysml:06ed69bb-03e4-455b-a820-630d0564221d\" target=\"_top\" title=\"psysml:06ed69bb-03e4-455b-a820-630d0564221d\" xlink:actuate=\"onRequest\" xlink:href=\"psysml:06ed69bb-03e4-455b-a820-630d0564221d\" xlink:show=\"new\" xlink:title=\"psysml:06ed69bb-03e4-455b-a820-630d0564221d\" xlink:type=\"simple\"><rect fill=\"#FEFECE\" filter=\"url(#f15k9v9lh43ec7)\" height=\"45.9375\" id=\"E3\" style=\"stroke: #A80036; stroke-width: 1.5;\" width=\"95\" x=\"330.5\" y=\"98\"/><text fill=\"#000000\" font-family=\"sans-serif\" font-size=\"12\" font-style=\"italic\" lengthAdjust=\"spacingAndGlyphs\" textLength=\"93\" x=\"331.5\" y=\"114.1387\">«attribute def»</text><text fill=\"#000000\" font-family=\"sans-serif\" font-size=\"12\" lengthAdjust=\"spacingAndGlyphs\" textLength=\"22\" x=\"367\" y=\"128.1074\">Exit</text><line style=\"stroke: #A80036; stroke-width: 1.5;\" x1=\"331.5\" x2=\"424.5\" y1=\"135.9375\" y2=\"135.9375\"/></a><!--MD5=[ebbe1d658d1005bcc118a6aa81145e00]\n",
       "class E4--><a href=\"psysml:f6292196-12b9-4bba-a758-98820cb4f3f5\" target=\"_top\" title=\"psysml:f6292196-12b9-4bba-a758-98820cb4f3f5\" xlink:actuate=\"onRequest\" xlink:href=\"psysml:f6292196-12b9-4bba-a758-98820cb4f3f5\" xlink:show=\"new\" xlink:title=\"psysml:f6292196-12b9-4bba-a758-98820cb4f3f5\" xlink:type=\"simple\"><rect fill=\"#FEFECE\" filter=\"url(#f15k9v9lh43ec7)\" height=\"45.9375\" id=\"E4\" rx=\"10\" ry=\"10\" style=\"stroke: #A80036; stroke-width: 1.5;\" width=\"42\" x=\"253\" y=\"98\"/><text fill=\"#000000\" font-family=\"sans-serif\" font-size=\"12\" font-style=\"italic\" lengthAdjust=\"spacingAndGlyphs\" textLength=\"40\" x=\"254\" y=\"114.1387\">«part»</text><text fill=\"#000000\" font-family=\"sans-serif\" font-size=\"12\" lengthAdjust=\"spacingAndGlyphs\" textLength=\"8\" x=\"270\" y=\"128.1074\">p</text><line style=\"stroke: #A80036; stroke-width: 1.5;\" x1=\"254\" x2=\"294\" y1=\"135.9375\" y2=\"135.9375\"/></a><!--MD5=[270fce915f116d4de14055a7c1d9a0f3]\n",
       "class E5--><a href=\"psysml:d7bec2b6-e32c-41d0-a208-370a3f1c18c8\" target=\"_top\" title=\"psysml:d7bec2b6-e32c-41d0-a208-370a3f1c18c8\" xlink:actuate=\"onRequest\" xlink:href=\"psysml:d7bec2b6-e32c-41d0-a208-370a3f1c18c8\" xlink:show=\"new\" xlink:title=\"psysml:d7bec2b6-e32c-41d0-a208-370a3f1c18c8\" xlink:type=\"simple\"><rect fill=\"#FEFECE\" filter=\"url(#f15k9v9lh43ec7)\" height=\"45.9375\" id=\"E5\" rx=\"10\" ry=\"10\" style=\"stroke: #A80036; stroke-width: 1.5;\" width=\"55\" x=\"162.5\" y=\"98\"/><text fill=\"#000000\" font-family=\"sans-serif\" font-size=\"12\" font-style=\"italic\" lengthAdjust=\"spacingAndGlyphs\" textLength=\"53\" x=\"163.5\" y=\"114.1387\">«action»</text><text fill=\"#000000\" font-family=\"sans-serif\" font-size=\"12\" lengthAdjust=\"spacingAndGlyphs\" textLength=\"20\" x=\"180\" y=\"128.1074\">act</text><line style=\"stroke: #A80036; stroke-width: 1.5;\" x1=\"163.5\" x2=\"216.5\" y1=\"135.9375\" y2=\"135.9375\"/></a><!--MD5=[60a26617385b1d2d0262a64233df1f8d]\n",
       "class E6--><a href=\"psysml:6343fae7-e97a-4dac-816a-0d66812becae\" target=\"_top\" title=\"psysml:6343fae7-e97a-4dac-816a-0d66812becae\" xlink:actuate=\"onRequest\" xlink:href=\"psysml:6343fae7-e97a-4dac-816a-0d66812becae\" xlink:show=\"new\" xlink:title=\"psysml:6343fae7-e97a-4dac-816a-0d66812becae\" xlink:type=\"simple\"><rect fill=\"#FEFECE\" filter=\"url(#f15k9v9lh43ec7)\" height=\"160.375\" id=\"E6\" style=\"stroke: #A80036; stroke-width: 1.5;\" width=\"95\" x=\"32.5\" y=\"41\"/><text fill=\"#000000\" font-family=\"sans-serif\" font-size=\"12\" font-style=\"italic\" lengthAdjust=\"spacingAndGlyphs\" textLength=\"71\" x=\"44.5\" y=\"57.1387\">«state def»</text><text fill=\"#000000\" font-family=\"sans-serif\" font-size=\"12\" lengthAdjust=\"spacingAndGlyphs\" textLength=\"8\" x=\"76\" y=\"71.1074\">S</text><line style=\"stroke: #A80036; stroke-width: 1.5;\" x1=\"33.5\" x2=\"126.5\" y1=\"78.9375\" y2=\"78.9375\"/><text fill=\"#000000\" font-family=\"sans-serif\" font-size=\"11\" lengthAdjust=\"spacingAndGlyphs\" textLength=\"17\" x=\"38.5\" y=\"109.9526\">act</text><text fill=\"#000000\" font-family=\"sans-serif\" font-size=\"11\" lengthAdjust=\"spacingAndGlyphs\" textLength=\"7\" x=\"38.5\" y=\"122.7573\">A</text><text fill=\"#000000\" font-family=\"sans-serif\" font-size=\"11\" lengthAdjust=\"spacingAndGlyphs\" textLength=\"8\" x=\"38.5\" y=\"135.562\">B</text><line style=\"stroke: #A80036; stroke-width: 1.0;\" x1=\"33.5\" x2=\"36.5\" y1=\"93.3398\" y2=\"93.3398\"/><text fill=\"#000000\" font-family=\"sans-serif\" font-size=\"11\" lengthAdjust=\"spacingAndGlyphs\" textLength=\"87\" x=\"36.5\" y=\"96.6479\">performActions</text><line style=\"stroke: #A80036; stroke-width: 1.0;\" x1=\"123.5\" x2=\"126.5\" y1=\"93.3398\" y2=\"93.3398\"/><text fill=\"#000000\" font-family=\"sans-serif\" font-size=\"11\" lengthAdjust=\"spacingAndGlyphs\" textLength=\"15\" x=\"38.5\" y=\"165.1714\">S1</text><line style=\"stroke: #A80036; stroke-width: 1.0;\" x1=\"33.5\" x2=\"62\" y1=\"148.5586\" y2=\"148.5586\"/><text fill=\"#000000\" font-family=\"sans-serif\" font-size=\"11\" lengthAdjust=\"spacingAndGlyphs\" textLength=\"36\" x=\"62\" y=\"151.8667\">states</text><line style=\"stroke: #A80036; stroke-width: 1.0;\" x1=\"98\" x2=\"126.5\" y1=\"148.5586\" y2=\"148.5586\"/><text fill=\"#000000\" font-family=\"sans-serif\" font-size=\"11\" lengthAdjust=\"spacingAndGlyphs\" textLength=\"7\" x=\"38.5\" y=\"194.7808\">T</text><line style=\"stroke: #A80036; stroke-width: 1.0;\" x1=\"33.5\" x2=\"49.5\" y1=\"178.168\" y2=\"178.168\"/><text fill=\"#000000\" font-family=\"sans-serif\" font-size=\"11\" lengthAdjust=\"spacingAndGlyphs\" textLength=\"61\" x=\"49.5\" y=\"181.4761\">transitions</text><line style=\"stroke: #A80036; stroke-width: 1.0;\" x1=\"110.5\" x2=\"126.5\" y1=\"178.168\" y2=\"178.168\"/></a><!--MD5=[1dd1bfd58a279cf63c5f349dbc8fc6a1]\n",
       "class E11--><a href=\"psysml:372708ac-c185-450b-8b20-5b0e6796b1d2\" target=\"_top\" title=\"psysml:372708ac-c185-450b-8b20-5b0e6796b1d2\" xlink:actuate=\"onRequest\" xlink:href=\"psysml:372708ac-c185-450b-8b20-5b0e6796b1d2\" xlink:show=\"new\" xlink:title=\"psysml:372708ac-c185-450b-8b20-5b0e6796b1d2\" xlink:type=\"simple\"><rect fill=\"#FEFECE\" filter=\"url(#f15k9v9lh43ec7)\" height=\"45.9375\" id=\"E11\" rx=\"10\" ry=\"10\" style=\"stroke: #A80036; stroke-width: 1.5;\" width=\"49\" x=\"55.5\" y=\"261\"/><text fill=\"#000000\" font-family=\"sans-serif\" font-size=\"12\" font-style=\"italic\" lengthAdjust=\"spacingAndGlyphs\" textLength=\"47\" x=\"56.5\" y=\"277.1387\">«state»</text><text fill=\"#000000\" font-family=\"sans-serif\" font-size=\"12\" lengthAdjust=\"spacingAndGlyphs\" textLength=\"16\" x=\"72\" y=\"291.1074\">S2</text><line style=\"stroke: #A80036; stroke-width: 1.5;\" x1=\"56.5\" x2=\"103.5\" y1=\"298.9375\" y2=\"298.9375\"/></a><!--MD5=[49a0ec8f00dab7302a31f22d0f0fe584]\n",
       "class E12--><a href=\"psysml:db8ff6bb-65b2-44b6-939f-52bfaf067d5c\" target=\"_top\" title=\"psysml:db8ff6bb-65b2-44b6-939f-52bfaf067d5c\" xlink:actuate=\"onRequest\" xlink:href=\"psysml:db8ff6bb-65b2-44b6-939f-52bfaf067d5c\" xlink:show=\"new\" xlink:title=\"psysml:db8ff6bb-65b2-44b6-939f-52bfaf067d5c\" xlink:type=\"simple\"><rect fill=\"#FEFECE\" filter=\"url(#f15k9v9lh43ec7)\" height=\"75.5469\" id=\"E12\" rx=\"10\" ry=\"10\" style=\"stroke: #A80036; stroke-width: 1.5;\" width=\"90\" x=\"35\" y=\"367\"/><text fill=\"#000000\" font-family=\"sans-serif\" font-size=\"12\" font-style=\"italic\" lengthAdjust=\"spacingAndGlyphs\" textLength=\"88\" x=\"36\" y=\"383.1387\">«send action»</text><text fill=\"#000000\" font-family=\"sans-serif\" font-size=\"12\" lengthAdjust=\"spacingAndGlyphs\" textLength=\"55\" x=\"52.5\" y=\"397.1074\">doAction</text><line style=\"stroke: #A80036; stroke-width: 1.5;\" x1=\"36\" x2=\"124\" y1=\"404.9375\" y2=\"404.9375\"/><text fill=\"#000000\" font-family=\"sans-serif\" font-size=\"11\" lengthAdjust=\"spacingAndGlyphs\" textLength=\"25\" x=\"41\" y=\"435.9526\">item</text><line style=\"stroke: #A80036; stroke-width: 1.0;\" x1=\"36\" x2=\"42.5\" y1=\"419.3398\" y2=\"419.3398\"/><text fill=\"#000000\" font-family=\"sans-serif\" font-size=\"11\" lengthAdjust=\"spacingAndGlyphs\" textLength=\"75\" x=\"42.5\" y=\"422.6479\">itemFeatures</text><line style=\"stroke: #A80036; stroke-width: 1.0;\" x1=\"117.5\" x2=\"124\" y1=\"419.3398\" y2=\"419.3398\"/></a><!--MD5=[1f5f03483f7de0d5b3680a7f6650997f]\n",
       "reverse link E6 to E11--><a href=\"psysml:372708ac-c185-450b-8b20-5b0e6796b1d2\" target=\"_top\" title=\"psysml:372708ac-c185-450b-8b20-5b0e6796b1d2\" xlink:actuate=\"onRequest\" xlink:href=\"psysml:372708ac-c185-450b-8b20-5b0e6796b1d2\" xlink:show=\"new\" xlink:title=\"psysml:372708ac-c185-450b-8b20-5b0e6796b1d2\" xlink:type=\"simple\"><path d=\"M80,214.17 C80,231.58 80,248.25 80,260.82 \" fill=\"none\" id=\"E6&lt;-E11\" style=\"stroke: #A80036; stroke-width: 1.0;\"/><polygon fill=\"#A80036\" points=\"80,201.09,76.0066,207.0944,80.0132,213.09,84.0066,207.0856,80,201.09\" style=\"stroke: #A80036; stroke-width: 1.0;\"/></a><!--MD5=[94adabc162ce7e41b39f13be14fbaeb3]\n",
       "reverse link E11 to E12--><a href=\"psysml:db8ff6bb-65b2-44b6-939f-52bfaf067d5c\" target=\"_top\" title=\"psysml:db8ff6bb-65b2-44b6-939f-52bfaf067d5c\" xlink:actuate=\"onRequest\" xlink:href=\"psysml:db8ff6bb-65b2-44b6-939f-52bfaf067d5c\" xlink:show=\"new\" xlink:title=\"psysml:db8ff6bb-65b2-44b6-939f-52bfaf067d5c\" xlink:type=\"simple\"><path d=\"M80,320.23 C80,334.82 80,351.76 80,366.58 \" fill=\"none\" id=\"E11&lt;-E12\" style=\"stroke: #A80036; stroke-width: 1.0;\"/><polygon fill=\"#FFFFFF\" points=\"80,307.1,76,313.1,80,319.1,84,313.1,80,307.1\" style=\"stroke: #A80036; stroke-width: 1.0;\"/></a><!--MD5=[c31969b879792f2a1d4766a38e4cef4e]\n",
       "@startuml\r\n",
       "skinparam wrapWidth 300\r\n",
       "hide circle\r\n",
       "\r\n",
       "package \"StateTest\" as E1  [[psysml:7751d53a-3d7b-46fc-b5d8-bf0ae3c7070c ]]  {\r\n",
       "comp def \"Sig\" as E2  <<(T,blue)attribute def>> [[psysml:85dbfb10-d456-4c59-a9e0-99da33bb7a4b ]] {\r\n",
       "x\r\n",
       "}\r\n",
       "comp def \"Exit\" as E3  <<(T,blue)attribute def>> [[psysml:06ed69bb-03e4-455b-a820-630d0564221d ]] {\r\n",
       "}\r\n",
       "comp usage \"p\" as E4  <<(T,blue)part>> [[psysml:f6292196-12b9-4bba-a758-98820cb4f3f5 ]] {\r\n",
       "}\r\n",
       "comp usage \"act\" as E5  <<(T,blue)action>> [[psysml:d7bec2b6-e32c-41d0-a208-370a3f1c18c8 ]] {\r\n",
       "}\r\n",
       "comp def \"S\" as E6  <<(T,blue)state def>> [[psysml:6343fae7-e97a-4dac-816a-0d66812becae ]] {\r\n",
       "- - performActions - -\r\n",
       "act\r\n",
       "A\r\n",
       "B\r\n",
       "- - states - -\r\n",
       "S1\r\n",
       "- - transitions - -\r\n",
       "T\r\n",
       "}\r\n",
       "comp usage \"S2\" as E11  <<(T,blue)state>> [[psysml:372708ac-c185-450b-8b20-5b0e6796b1d2 ]] {\r\n",
       "}\r\n",
       "comp usage \"doAction\" as E12 <<send action>> [[psysml:db8ff6bb-65b2-44b6-939f-52bfaf067d5c ]] {\r\n",
       "- - itemFeatures - -\r\n",
       "item\r\n",
       "}\r\n",
       "E6 *- - E11 [[psysml:372708ac-c185-450b-8b20-5b0e6796b1d2 ]] \r\n",
       "E11 o- - E12 [[psysml:db8ff6bb-65b2-44b6-939f-52bfaf067d5c ]] \r\n",
       "}\r\n",
       "@enduml\r\n",
       "\n",
       "PlantUML version 1.2020.13(Sat Jun 13 12:26:38 UTC 2020)\n",
       "(EPL source distribution)\n",
       "Java Runtime: OpenJDK Runtime Environment\n",
       "JVM: OpenJDK 64-Bit Server VM\n",
       "Default Encoding: UTF-8\n",
       "Language: en\n",
       "Country: null\n",
       "--></g></svg>"
      ]
     },
     "execution_count": 28,
     "metadata": {},
     "output_type": "execute_result"
    }
   ],
   "source": [
    "%viz --style=\"STDCOLOR\" --view=\"Sequence\" \"StateTest\""
   ]
  },
  {
   "cell_type": "code",
   "execution_count": 29,
   "id": "international-canal",
   "metadata": {
    "execution": {
     "iopub.execute_input": "2021-03-25T13:48:14.347242Z",
     "iopub.status.busy": "2021-03-25T13:48:14.346608Z",
     "iopub.status.idle": "2021-03-25T13:48:14.500430Z",
     "shell.execute_reply": "2021-03-25T13:48:14.500959Z"
    }
   },
   "outputs": [
    {
     "data": {
      "image/svg+xml": [
       "<?xml version=\"1.0\" encoding=\"UTF-8\" standalone=\"no\"?><svg xmlns=\"http://www.w3.org/2000/svg\" xmlns:xlink=\"http://www.w3.org/1999/xlink\" contentScriptType=\"application/ecmascript\" contentStyleType=\"text/css\" height=\"561px\" preserveAspectRatio=\"none\" style=\"width:819px;height:561px;\" version=\"1.1\" viewBox=\"0 0 819 561\" width=\"819px\" zoomAndPan=\"magnify\"><defs><filter height=\"300%\" id=\"fdmmbs9qvyz6a\" width=\"300%\" x=\"-1\" y=\"-1\"><feGaussianBlur result=\"blurOut\" stdDeviation=\"2.0\"/><feColorMatrix in=\"blurOut\" result=\"blurOut2\" type=\"matrix\" values=\"0 0 0 0 0 0 0 0 0 0 0 0 0 0 0 0 0 0 .4 0\"/><feOffset dx=\"4.0\" dy=\"4.0\" in=\"blurOut2\" result=\"blurOut3\"/><feBlend in=\"SourceGraphic\" in2=\"blurOut3\" mode=\"normal\"/></filter></defs><g><!--MD5=[fbc87193dbaf4d95561dea2c320d4a47]\n",
       "cluster E1--><a href=\"psysml:7751d53a-3d7b-46fc-b5d8-bf0ae3c7070c\" target=\"_top\" title=\"psysml:7751d53a-3d7b-46fc-b5d8-bf0ae3c7070c\" xlink:actuate=\"onRequest\" xlink:href=\"psysml:7751d53a-3d7b-46fc-b5d8-bf0ae3c7070c\" xlink:show=\"new\" xlink:title=\"psysml:7751d53a-3d7b-46fc-b5d8-bf0ae3c7070c\" xlink:type=\"simple\"><polygon fill=\"#FFFFFF\" filter=\"url(#fdmmbs9qvyz6a)\" points=\"16,6,98,6,105,28.2969,797,28.2969,797,549.5,16,549.5,16,6\" style=\"stroke: #000000; stroke-width: 1.5;\"/><line style=\"stroke: #000000; stroke-width: 1.5;\" x1=\"16\" x2=\"105\" y1=\"28.2969\" y2=\"28.2969\"/><text fill=\"#000000\" font-family=\"sans-serif\" font-size=\"14\" font-weight=\"bold\" lengthAdjust=\"spacingAndGlyphs\" textLength=\"76\" x=\"20\" y=\"20.9951\">StateTest</text></a><!--MD5=[14e3b0961a2654348d326746436168a1]\n",
       "cluster E6--><a href=\"psysml:6343fae7-e97a-4dac-816a-0d66812becae\" target=\"_top\" title=\"psysml:6343fae7-e97a-4dac-816a-0d66812becae\" xlink:actuate=\"onRequest\" xlink:href=\"psysml:6343fae7-e97a-4dac-816a-0d66812becae\" xlink:show=\"new\" xlink:title=\"psysml:6343fae7-e97a-4dac-816a-0d66812becae\" xlink:type=\"simple\"><rect fill=\"#FFFFFF\" filter=\"url(#fdmmbs9qvyz6a)\" height=\"476.5\" id=\"E6\" style=\"stroke: #A80036; stroke-width: 1.5;\" width=\"327\" x=\"446\" y=\"49\"/><rect fill=\"#FEFECE\" height=\"37.9375\" style=\"stroke: #A80036; stroke-width: 1.5;\" width=\"327\" x=\"446\" y=\"49\"/><text fill=\"#000000\" font-family=\"sans-serif\" font-size=\"12\" font-style=\"italic\" lengthAdjust=\"spacingAndGlyphs\" textLength=\"71\" x=\"574\" y=\"65.1387\">«state def»</text><text fill=\"#000000\" font-family=\"sans-serif\" font-size=\"12\" lengthAdjust=\"spacingAndGlyphs\" textLength=\"8\" x=\"605.5\" y=\"79.1074\">S</text><line style=\"stroke: #A80036; stroke-width: 1.0;\" x1=\"446\" x2=\"773\" y1=\"132.8438\" y2=\"132.8438\"/><text fill=\"#000000\" font-family=\"sans-serif\" font-size=\"12\" font-weight=\"bold\" lengthAdjust=\"spacingAndGlyphs\" textLength=\"38\" x=\"451\" y=\"100.0762\">entry</text><text fill=\"#000000\" font-family=\"sans-serif\" font-size=\"12\" lengthAdjust=\"spacingAndGlyphs\" textLength=\"16\" x=\"489\" y=\"100.0762\">/ A</text><text fill=\"#000000\" font-family=\"sans-serif\" font-size=\"12\" font-weight=\"bold\" lengthAdjust=\"spacingAndGlyphs\" textLength=\"18\" x=\"451\" y=\"114.0449\">do</text><text fill=\"#000000\" font-family=\"sans-serif\" font-size=\"12\" lengthAdjust=\"spacingAndGlyphs\" textLength=\"16\" x=\"469\" y=\"114.0449\">/ B</text><text fill=\"#000000\" font-family=\"sans-serif\" font-size=\"12\" font-weight=\"bold\" lengthAdjust=\"spacingAndGlyphs\" textLength=\"26\" x=\"451\" y=\"128.0137\">exit</text><text fill=\"#000000\" font-family=\"sans-serif\" font-size=\"12\" lengthAdjust=\"spacingAndGlyphs\" textLength=\"28\" x=\"477\" y=\"128.0137\">/ act</text></a><!--MD5=[b4997ac47864f28c2f74865a473b2911]\n",
       "class E2--><a href=\"psysml:85dbfb10-d456-4c59-a9e0-99da33bb7a4b\" target=\"_top\" title=\"psysml:85dbfb10-d456-4c59-a9e0-99da33bb7a4b\" xlink:actuate=\"onRequest\" xlink:href=\"psysml:85dbfb10-d456-4c59-a9e0-99da33bb7a4b\" xlink:show=\"new\" xlink:title=\"psysml:85dbfb10-d456-4c59-a9e0-99da33bb7a4b\" xlink:type=\"simple\"><rect fill=\"#FEFECE\" filter=\"url(#fdmmbs9qvyz6a)\" height=\"58.7422\" id=\"E2\" style=\"stroke: #A80036; stroke-width: 1.5;\" width=\"95\" x=\"334.5\" y=\"127.5\"/><text fill=\"#000000\" font-family=\"sans-serif\" font-size=\"12\" font-style=\"italic\" lengthAdjust=\"spacingAndGlyphs\" textLength=\"93\" x=\"335.5\" y=\"143.6387\">«attribute def»</text><text fill=\"#000000\" font-family=\"sans-serif\" font-size=\"12\" lengthAdjust=\"spacingAndGlyphs\" textLength=\"19\" x=\"372.5\" y=\"157.6074\">Sig</text><line style=\"stroke: #A80036; stroke-width: 1.5;\" x1=\"335.5\" x2=\"428.5\" y1=\"165.4375\" y2=\"165.4375\"/><text fill=\"#000000\" font-family=\"sans-serif\" font-size=\"11\" lengthAdjust=\"spacingAndGlyphs\" textLength=\"6\" x=\"340.5\" y=\"179.6479\">x</text></a><!--MD5=[09b614a08d8cba4a07c9adeb5e0fee81]\n",
       "class E3--><a href=\"psysml:06ed69bb-03e4-455b-a820-630d0564221d\" target=\"_top\" title=\"psysml:06ed69bb-03e4-455b-a820-630d0564221d\" xlink:actuate=\"onRequest\" xlink:href=\"psysml:06ed69bb-03e4-455b-a820-630d0564221d\" xlink:show=\"new\" xlink:title=\"psysml:06ed69bb-03e4-455b-a820-630d0564221d\" xlink:type=\"simple\"><rect fill=\"#FEFECE\" filter=\"url(#fdmmbs9qvyz6a)\" height=\"45.9375\" id=\"E3\" style=\"stroke: #A80036; stroke-width: 1.5;\" width=\"95\" x=\"204.5\" y=\"134\"/><text fill=\"#000000\" font-family=\"sans-serif\" font-size=\"12\" font-style=\"italic\" lengthAdjust=\"spacingAndGlyphs\" textLength=\"93\" x=\"205.5\" y=\"150.1387\">«attribute def»</text><text fill=\"#000000\" font-family=\"sans-serif\" font-size=\"12\" lengthAdjust=\"spacingAndGlyphs\" textLength=\"22\" x=\"241\" y=\"164.1074\">Exit</text><line style=\"stroke: #A80036; stroke-width: 1.5;\" x1=\"205.5\" x2=\"298.5\" y1=\"171.9375\" y2=\"171.9375\"/></a><!--MD5=[ebbe1d658d1005bcc118a6aa81145e00]\n",
       "class E4--><a href=\"psysml:f6292196-12b9-4bba-a758-98820cb4f3f5\" target=\"_top\" title=\"psysml:f6292196-12b9-4bba-a758-98820cb4f3f5\" xlink:actuate=\"onRequest\" xlink:href=\"psysml:f6292196-12b9-4bba-a758-98820cb4f3f5\" xlink:show=\"new\" xlink:title=\"psysml:f6292196-12b9-4bba-a758-98820cb4f3f5\" xlink:type=\"simple\"><rect fill=\"#FEFECE\" filter=\"url(#fdmmbs9qvyz6a)\" height=\"45.9375\" id=\"E4\" rx=\"10\" ry=\"10\" style=\"stroke: #A80036; stroke-width: 1.5;\" width=\"42\" x=\"127\" y=\"134\"/><text fill=\"#000000\" font-family=\"sans-serif\" font-size=\"12\" font-style=\"italic\" lengthAdjust=\"spacingAndGlyphs\" textLength=\"40\" x=\"128\" y=\"150.1387\">«part»</text><text fill=\"#000000\" font-family=\"sans-serif\" font-size=\"12\" lengthAdjust=\"spacingAndGlyphs\" textLength=\"8\" x=\"144\" y=\"164.1074\">p</text><line style=\"stroke: #A80036; stroke-width: 1.5;\" x1=\"128\" x2=\"168\" y1=\"171.9375\" y2=\"171.9375\"/></a><g id=\"E1.E5\"><a href=\"psysml:d7bec2b6-e32c-41d0-a208-370a3f1c18c8\" target=\"_top\" title=\"psysml:d7bec2b6-e32c-41d0-a208-370a3f1c18c8\" xlink:actuate=\"onRequest\" xlink:href=\"psysml:d7bec2b6-e32c-41d0-a208-370a3f1c18c8\" xlink:show=\"new\" xlink:title=\"psysml:d7bec2b6-e32c-41d0-a208-370a3f1c18c8\" xlink:type=\"simple\"><rect fill=\"#FEFECE\" filter=\"url(#fdmmbs9qvyz6a)\" height=\"42.9375\" id=\"E5\" rx=\"10\" ry=\"10\" style=\"stroke: #A80036; stroke-width: 1.5;\" width=\"60\" x=\"32\" y=\"135.5\"/><text fill=\"#000000\" font-family=\"sans-serif\" font-size=\"12\" font-style=\"italic\" lengthAdjust=\"spacingAndGlyphs\" textLength=\"53\" x=\"35.5\" y=\"151.6387\">«action»</text><text fill=\"#000000\" font-family=\"sans-serif\" font-size=\"12\" lengthAdjust=\"spacingAndGlyphs\" textLength=\"20\" x=\"52\" y=\"165.6074\">act</text></a></g><ellipse cx=\"558\" cy=\"157\" fill=\"#000000\" filter=\"url(#fdmmbs9qvyz6a)\" rx=\"10\" ry=\"10\" style=\"stroke: none; stroke-width: 1.0;\"/><ellipse cx=\"558\" cy=\"499.5\" fill=\"none\" filter=\"url(#fdmmbs9qvyz6a)\" rx=\"10\" ry=\"10\" style=\"stroke: #000000; stroke-width: 1.0;\"/><ellipse cx=\"558.5\" cy=\"500\" fill=\"#000000\" rx=\"6\" ry=\"6\" style=\"stroke: none; stroke-width: 1.0;\"/><g id=\"E1.E6.E7\"><a href=\"psysml:df9bf7b7-ea8a-42e1-9b23-b8091030681c\" target=\"_top\" title=\"psysml:df9bf7b7-ea8a-42e1-9b23-b8091030681c\" xlink:actuate=\"onRequest\" xlink:href=\"psysml:df9bf7b7-ea8a-42e1-9b23-b8091030681c\" xlink:show=\"new\" xlink:title=\"psysml:df9bf7b7-ea8a-42e1-9b23-b8091030681c\" xlink:type=\"simple\"><rect fill=\"#FEFECE\" filter=\"url(#fdmmbs9qvyz6a)\" height=\"40\" id=\"E7\" rx=\"10\" ry=\"10\" style=\"stroke: #A80036; stroke-width: 1.5;\" width=\"50\" x=\"533\" y=\"247.5\"/><text fill=\"#000000\" font-family=\"sans-serif\" font-size=\"12\" lengthAdjust=\"spacingAndGlyphs\" textLength=\"16\" x=\"550\" y=\"263.6387\">S1</text></a></g><g id=\"E1.E6.E8\"><a href=\"psysml:372708ac-c185-450b-8b20-5b0e6796b1d2\" target=\"_top\" title=\"psysml:372708ac-c185-450b-8b20-5b0e6796b1d2\" xlink:actuate=\"onRequest\" xlink:href=\"psysml:372708ac-c185-450b-8b20-5b0e6796b1d2\" xlink:show=\"new\" xlink:title=\"psysml:372708ac-c185-450b-8b20-5b0e6796b1d2\" xlink:type=\"simple\"><rect fill=\"#FEFECE\" filter=\"url(#fdmmbs9qvyz6a)\" height=\"47.9375\" id=\"E8\" rx=\"10\" ry=\"10\" style=\"stroke: #A80036; stroke-width: 1.5;\" width=\"50\" x=\"533\" y=\"364.5\"/><text fill=\"#000000\" font-family=\"sans-serif\" font-size=\"12\" lengthAdjust=\"spacingAndGlyphs\" textLength=\"16\" x=\"550\" y=\"380.6387\">S2</text><line style=\"stroke: #A80036; stroke-width: 1.0;\" x1=\"533\" x2=\"583\" y1=\"388.4688\" y2=\"388.4688\"/><text fill=\"#000000\" font-family=\"sans-serif\" font-size=\"12\" font-weight=\"bold\" lengthAdjust=\"spacingAndGlyphs\" textLength=\"18\" x=\"538\" y=\"401.6074\">do</text><text fill=\"#000000\" font-family=\"sans-serif\" font-size=\"12\" lengthAdjust=\"spacingAndGlyphs\" textLength=\"4\" x=\"556\" y=\"401.6074\">/</text></a></g><!--MD5=[5a531d3a85f3339e6e197084acb48195]\n",
       "link *start*E6 to E7--><a href=\"psysml:63e0b6b5-21d2-46c8-92d5-87e224212dbf\" target=\"_top\" title=\"psysml:63e0b6b5-21d2-46c8-92d5-87e224212dbf\" xlink:actuate=\"onRequest\" xlink:href=\"psysml:63e0b6b5-21d2-46c8-92d5-87e224212dbf\" xlink:show=\"new\" xlink:title=\"psysml:63e0b6b5-21d2-46c8-92d5-87e224212dbf\" xlink:type=\"simple\"><path d=\"M558,167.25 C558,183.64 558,218.28 558,241.97 \" fill=\"none\" id=\"*start*E6-&gt;E7\" style=\"stroke: #A80036; stroke-width: 1.0;\"/><polygon fill=\"#A80036\" points=\"558,247.15,562,238.15,558,242.15,554,238.15,558,247.15\" style=\"stroke: #A80036; stroke-width: 1.0;\"/></a><!--MD5=[7ec9a8babba89ddcae1318ca9fb3c814]\n",
       "link E8 to *end*E6--><a href=\"psysml:60b88d5b-1ac8-4d6b-b052-bf1a623237b5\" target=\"_top\" title=\"psysml:60b88d5b-1ac8-4d6b-b052-bf1a623237b5\" xlink:actuate=\"onRequest\" xlink:href=\"psysml:60b88d5b-1ac8-4d6b-b052-bf1a623237b5\" xlink:show=\"new\" xlink:title=\"psysml:60b88d5b-1ac8-4d6b-b052-bf1a623237b5\" xlink:type=\"simple\"><path d=\"M558,412.62 C558,434.25 558,465.89 558,484.12 \" fill=\"none\" id=\"E8-&gt;*end*E6\" style=\"stroke: #A80036; stroke-width: 1.0;\"/><polygon fill=\"#A80036\" points=\"558,489.32,562,480.32,558,484.32,554,480.32,558,489.32\" style=\"stroke: #A80036; stroke-width: 1.0;\"/><text fill=\"#000000\" font-family=\"sans-serif\" font-size=\"13\" lengthAdjust=\"spacingAndGlyphs\" textLength=\"23\" x=\"559\" y=\"455.5669\">Exit</text></a><!--MD5=[79bc8f324ef4d02c541433f2e6e513c3]\n",
       "link E7 to E8--><a href=\"psysml:b9f5e72d-c680-433c-ba5c-575fc587f4f3\" target=\"_top\" title=\"psysml:b9f5e72d-c680-433c-ba5c-575fc587f4f3\" xlink:actuate=\"onRequest\" xlink:href=\"psysml:b9f5e72d-c680-433c-ba5c-575fc587f4f3\" xlink:show=\"new\" xlink:title=\"psysml:b9f5e72d-c680-433c-ba5c-575fc587f4f3\" xlink:type=\"simple\"><path d=\"M532.93,280.38 C518.69,288.62 502.12,301.06 494,317.5 C483.11,339.55 506.72,359.7 528.27,372.66 \" fill=\"none\" id=\"E7-&gt;E8\" style=\"stroke: #A80036; stroke-width: 1.0;\"/><polygon fill=\"#A80036\" points=\"532.83,375.32,527.0682,367.3324,528.5101,372.8024,523.0401,374.2443,532.83,375.32\" style=\"stroke: #A80036; stroke-width: 1.0;\"/><text fill=\"#000000\" font-family=\"sans-serif\" font-size=\"13\" lengthAdjust=\"spacingAndGlyphs\" textLength=\"81\" x=\"495\" y=\"330.5669\">Sig /action D</text></a><!--MD5=[bfa3c8b0d15052fdf50ae9310b491027]\n",
       "link E8 to E7--><a href=\"psysml:8fe1fd83-9e96-4978-be75-1a7ead5c4a85\" target=\"_top\" title=\"psysml:8fe1fd83-9e96-4978-be75-1a7ead5c4a85\" xlink:actuate=\"onRequest\" xlink:href=\"psysml:8fe1fd83-9e96-4978-be75-1a7ead5c4a85\" xlink:show=\"new\" xlink:title=\"psysml:8fe1fd83-9e96-4978-be75-1a7ead5c4a85\" xlink:type=\"simple\"><path d=\"M572.17,364.49 C578.81,350.98 584.56,333.48 581,317.5 C579.1,308.99 575.56,300.22 571.82,292.49 \" fill=\"none\" id=\"E8-&gt;E7\" style=\"stroke: #A80036; stroke-width: 1.0;\"/><polygon fill=\"#A80036\" points=\"569.47,287.82,569.9298,297.6581,571.7118,292.2893,577.0806,294.0713,569.47,287.82\" style=\"stroke: #A80036; stroke-width: 1.0;\"/><text fill=\"#000000\" font-family=\"sans-serif\" font-size=\"13\" lengthAdjust=\"spacingAndGlyphs\" textLength=\"135\" x=\"583\" y=\"330.5669\">Sig [true]/send s to p</text></a><!--MD5=[25ca214f95bdf2afd12c442c1adebf85]\n",
       "@startuml\r\n",
       "skinparam wrapWidth 300\r\n",
       "hide circle\r\n",
       "\r\n",
       "package \"StateTest\" as E1  [[psysml:7751d53a-3d7b-46fc-b5d8-bf0ae3c7070c ]]  {\r\n",
       "comp def \"Sig\" as E2  <<(T,blue)attribute def>> [[psysml:85dbfb10-d456-4c59-a9e0-99da33bb7a4b ]] {\r\n",
       "x\r\n",
       "}\r\n",
       "comp def \"Exit\" as E3  <<(T,blue)attribute def>> [[psysml:06ed69bb-03e4-455b-a820-630d0564221d ]] {\r\n",
       "}\r\n",
       "comp usage \"p\" as E4  <<(T,blue)part>> [[psysml:f6292196-12b9-4bba-a758-98820cb4f3f5 ]] {\r\n",
       "}\r\n",
       "rec usage \"act\" as E5  <<(T,blue)action>> [[psysml:d7bec2b6-e32c-41d0-a208-370a3f1c18c8 ]] {\r\n",
       "}\r\n",
       "\r\n",
       "rec def \"S\" as E6  <<(T,blue)state def>> [[psysml:6343fae7-e97a-4dac-816a-0d66812becae ]] {\r\n",
       "rec usage \"S1\" as E7 [[psysml:df9bf7b7-ea8a-42e1-9b23-b8091030681c ]] {\r\n",
       "}\r\n",
       "\r\n",
       "rec usage \"S2\" as E8 [[psysml:372708ac-c185-450b-8b20-5b0e6796b1d2 ]] {\r\n",
       "desc \"S2\" as E8  : **do**/ \r\n",
       "}\r\n",
       "\r\n",
       "[*] - -> E7 [[psysml:63e0b6b5-21d2-46c8-92d5-87e224212dbf ]] \r\n",
       "E8  - -> [*] [[psysml:60b88d5b-1ac8-4d6b-b052-bf1a623237b5 ]] : Exit \r\n",
       "desc \"S\" as E6  : **entry**/ A\r\n",
       "desc \"S\" as E6  : **do**/ B\r\n",
       "desc \"S\" as E6  : **exit**/ act \r\n",
       "}\r\n",
       "\r\n",
       "E7  - -> E8 [[psysml:b9f5e72d-c680-433c-ba5c-575fc587f4f3 ]] : Sig /action D\r\n",
       "E8  - -> E7 [[psysml:8fe1fd83-9e96-4978-be75-1a7ead5c4a85 ]] : Sig [true]/send s to p\r\n",
       "}\r\n",
       "@enduml\r\n",
       "\n",
       "PlantUML version 1.2020.13(Sat Jun 13 12:26:38 UTC 2020)\n",
       "(EPL source distribution)\n",
       "Java Runtime: OpenJDK Runtime Environment\n",
       "JVM: OpenJDK 64-Bit Server VM\n",
       "Default Encoding: UTF-8\n",
       "Language: en\n",
       "Country: null\n",
       "--></g></svg>"
      ]
     },
     "execution_count": 29,
     "metadata": {},
     "output_type": "execute_result"
    }
   ],
   "source": [
    "%viz --style=\"STDCOLOR\" --view=\"MIXED\" \"StateTest\""
   ]
  },
  {
   "cell_type": "code",
   "execution_count": 30,
   "id": "processed-validity",
   "metadata": {
    "execution": {
     "iopub.execute_input": "2021-03-25T13:48:14.550810Z",
     "iopub.status.busy": "2021-03-25T13:48:14.550311Z",
     "iopub.status.idle": "2021-03-25T13:48:14.729866Z",
     "shell.execute_reply": "2021-03-25T13:48:14.728194Z"
    }
   },
   "outputs": [
    {
     "data": {
      "image/svg+xml": [
       "<?xml version=\"1.0\" encoding=\"UTF-8\" standalone=\"no\"?><svg xmlns=\"http://www.w3.org/2000/svg\" xmlns:xlink=\"http://www.w3.org/1999/xlink\" contentScriptType=\"application/ecmascript\" contentStyleType=\"text/css\" height=\"569px\" preserveAspectRatio=\"none\" style=\"width:923px;height:569px;\" version=\"1.1\" viewBox=\"0 0 923 569\" width=\"923px\" zoomAndPan=\"magnify\"><defs><filter height=\"300%\" id=\"f1a50vy75w57wm\" width=\"300%\" x=\"-1\" y=\"-1\"><feGaussianBlur result=\"blurOut\" stdDeviation=\"2.0\"/><feColorMatrix in=\"blurOut\" result=\"blurOut2\" type=\"matrix\" values=\"0 0 0 0 0 0 0 0 0 0 0 0 0 0 0 0 0 0 .4 0\"/><feOffset dx=\"4.0\" dy=\"4.0\" in=\"blurOut2\" result=\"blurOut3\"/><feBlend in=\"SourceGraphic\" in2=\"blurOut3\" mode=\"normal\"/></filter></defs><g><!--MD5=[fbc87193dbaf4d95561dea2c320d4a47]\n",
       "cluster E1--><a href=\"psysml:7751d53a-3d7b-46fc-b5d8-bf0ae3c7070c\" target=\"_top\" title=\"psysml:7751d53a-3d7b-46fc-b5d8-bf0ae3c7070c\" xlink:actuate=\"onRequest\" xlink:href=\"psysml:7751d53a-3d7b-46fc-b5d8-bf0ae3c7070c\" xlink:show=\"new\" xlink:title=\"psysml:7751d53a-3d7b-46fc-b5d8-bf0ae3c7070c\" xlink:type=\"simple\"><polygon fill=\"#FFFFFF\" filter=\"url(#f1a50vy75w57wm)\" points=\"16,6,98,6,105,28.2969,901,28.2969,901,557.5,16,557.5,16,6\" style=\"stroke: #000000; stroke-width: 1.5;\"/><line style=\"stroke: #000000; stroke-width: 1.5;\" x1=\"16\" x2=\"105\" y1=\"28.2969\" y2=\"28.2969\"/><text fill=\"#000000\" font-family=\"sans-serif\" font-size=\"14\" font-weight=\"bold\" lengthAdjust=\"spacingAndGlyphs\" textLength=\"76\" x=\"20\" y=\"20.9951\">StateTest</text></a><!--MD5=[14e3b0961a2654348d326746436168a1]\n",
       "cluster E6--><a href=\"psysml:6343fae7-e97a-4dac-816a-0d66812becae\" target=\"_top\" title=\"psysml:6343fae7-e97a-4dac-816a-0d66812becae\" xlink:actuate=\"onRequest\" xlink:href=\"psysml:6343fae7-e97a-4dac-816a-0d66812becae\" xlink:show=\"new\" xlink:title=\"psysml:6343fae7-e97a-4dac-816a-0d66812becae\" xlink:type=\"simple\"><rect fill=\"#FFFFFF\" filter=\"url(#f1a50vy75w57wm)\" height=\"484.5\" id=\"E6\" style=\"stroke: #A80036; stroke-width: 1.5;\" width=\"327\" x=\"550\" y=\"49\"/><rect fill=\"#FEFECE\" height=\"37.9375\" style=\"stroke: #A80036; stroke-width: 1.5;\" width=\"327\" x=\"550\" y=\"49\"/><text fill=\"#000000\" font-family=\"sans-serif\" font-size=\"12\" font-style=\"italic\" lengthAdjust=\"spacingAndGlyphs\" textLength=\"71\" x=\"678\" y=\"65.1387\">«state def»</text><text fill=\"#000000\" font-family=\"sans-serif\" font-size=\"12\" lengthAdjust=\"spacingAndGlyphs\" textLength=\"8\" x=\"709.5\" y=\"79.1074\">S</text><line style=\"stroke: #A80036; stroke-width: 1.0;\" x1=\"550\" x2=\"877\" y1=\"132.8438\" y2=\"132.8438\"/><text fill=\"#000000\" font-family=\"sans-serif\" font-size=\"12\" font-weight=\"bold\" lengthAdjust=\"spacingAndGlyphs\" textLength=\"38\" x=\"555\" y=\"100.0762\">entry</text><text fill=\"#000000\" font-family=\"sans-serif\" font-size=\"12\" lengthAdjust=\"spacingAndGlyphs\" textLength=\"16\" x=\"593\" y=\"100.0762\">/ A</text><text fill=\"#000000\" font-family=\"sans-serif\" font-size=\"12\" font-weight=\"bold\" lengthAdjust=\"spacingAndGlyphs\" textLength=\"18\" x=\"555\" y=\"114.0449\">do</text><text fill=\"#000000\" font-family=\"sans-serif\" font-size=\"12\" lengthAdjust=\"spacingAndGlyphs\" textLength=\"16\" x=\"573\" y=\"114.0449\">/ B</text><text fill=\"#000000\" font-family=\"sans-serif\" font-size=\"12\" font-weight=\"bold\" lengthAdjust=\"spacingAndGlyphs\" textLength=\"26\" x=\"555\" y=\"128.0137\">exit</text><text fill=\"#000000\" font-family=\"sans-serif\" font-size=\"12\" lengthAdjust=\"spacingAndGlyphs\" textLength=\"28\" x=\"581\" y=\"128.0137\">/ act</text></a><!--MD5=[b4997ac47864f28c2f74865a473b2911]\n",
       "class E2--><a href=\"psysml:85dbfb10-d456-4c59-a9e0-99da33bb7a4b\" target=\"_top\" title=\"psysml:85dbfb10-d456-4c59-a9e0-99da33bb7a4b\" xlink:actuate=\"onRequest\" xlink:href=\"psysml:85dbfb10-d456-4c59-a9e0-99da33bb7a4b\" xlink:show=\"new\" xlink:title=\"psysml:85dbfb10-d456-4c59-a9e0-99da33bb7a4b\" xlink:type=\"simple\"><rect fill=\"#FEFECE\" filter=\"url(#f1a50vy75w57wm)\" height=\"58.7422\" id=\"E2\" style=\"stroke: #A80036; stroke-width: 1.5;\" width=\"121\" x=\"412.5\" y=\"127.5\"/><ellipse cx=\"427.5\" cy=\"146.4688\" fill=\"#A52A2A\" rx=\"11\" ry=\"11\" style=\"stroke: #A80036; stroke-width: 1.0;\"/><path d=\"M427.0938,142.2813 L427.0938,150.2656 L427.75,150.2656 Q429.1875,150.2656 429.7969,149.3594 Q430.4219,148.4375 430.4219,146.2656 Q430.4219,144.0938 429.7969,143.1875 Q429.1875,142.2813 427.75,142.2813 L427.0938,142.2813 Z M424.6406,140.0781 L427.2656,140.0781 Q430.2969,140.0781 431.625,141.5313 Q432.9688,142.9688 432.9688,146.2656 Q432.9688,149.5625 431.625,151.0156 Q430.2969,152.4688 427.2656,152.4688 L424.6406,152.4688 L424.6406,140.0781 Z \"/><text fill=\"#000000\" font-family=\"sans-serif\" font-size=\"12\" font-style=\"italic\" lengthAdjust=\"spacingAndGlyphs\" textLength=\"93\" x=\"439.5\" y=\"143.6387\">«attribute def»</text><text fill=\"#000000\" font-family=\"sans-serif\" font-size=\"12\" lengthAdjust=\"spacingAndGlyphs\" textLength=\"19\" x=\"476.5\" y=\"157.6074\">Sig</text><line style=\"stroke: #A80036; stroke-width: 1.5;\" x1=\"413.5\" x2=\"532.5\" y1=\"165.4375\" y2=\"165.4375\"/><text fill=\"#000000\" font-family=\"sans-serif\" font-size=\"11\" lengthAdjust=\"spacingAndGlyphs\" textLength=\"6\" x=\"418.5\" y=\"179.6479\">x</text></a><!--MD5=[09b614a08d8cba4a07c9adeb5e0fee81]\n",
       "class E3--><a href=\"psysml:06ed69bb-03e4-455b-a820-630d0564221d\" target=\"_top\" title=\"psysml:06ed69bb-03e4-455b-a820-630d0564221d\" xlink:actuate=\"onRequest\" xlink:href=\"psysml:06ed69bb-03e4-455b-a820-630d0564221d\" xlink:show=\"new\" xlink:title=\"psysml:06ed69bb-03e4-455b-a820-630d0564221d\" xlink:type=\"simple\"><rect fill=\"#FEFECE\" filter=\"url(#f1a50vy75w57wm)\" height=\"45.9375\" id=\"E3\" style=\"stroke: #A80036; stroke-width: 1.5;\" width=\"121\" x=\"256.5\" y=\"134\"/><ellipse cx=\"271.5\" cy=\"152.9688\" fill=\"#A52A2A\" rx=\"11\" ry=\"11\" style=\"stroke: #A80036; stroke-width: 1.0;\"/><path d=\"M271.0938,148.7813 L271.0938,156.7656 L271.75,156.7656 Q273.1875,156.7656 273.7969,155.8594 Q274.4219,154.9375 274.4219,152.7656 Q274.4219,150.5938 273.7969,149.6875 Q273.1875,148.7813 271.75,148.7813 L271.0938,148.7813 Z M268.6406,146.5781 L271.2656,146.5781 Q274.2969,146.5781 275.625,148.0313 Q276.9688,149.4688 276.9688,152.7656 Q276.9688,156.0625 275.625,157.5156 Q274.2969,158.9688 271.2656,158.9688 L268.6406,158.9688 L268.6406,146.5781 Z \"/><text fill=\"#000000\" font-family=\"sans-serif\" font-size=\"12\" font-style=\"italic\" lengthAdjust=\"spacingAndGlyphs\" textLength=\"93\" x=\"283.5\" y=\"150.1387\">«attribute def»</text><text fill=\"#000000\" font-family=\"sans-serif\" font-size=\"12\" lengthAdjust=\"spacingAndGlyphs\" textLength=\"22\" x=\"319\" y=\"164.1074\">Exit</text><line style=\"stroke: #A80036; stroke-width: 1.5;\" x1=\"257.5\" x2=\"376.5\" y1=\"171.9375\" y2=\"171.9375\"/></a><!--MD5=[ebbe1d658d1005bcc118a6aa81145e00]\n",
       "class E4--><a href=\"psysml:f6292196-12b9-4bba-a758-98820cb4f3f5\" target=\"_top\" title=\"psysml:f6292196-12b9-4bba-a758-98820cb4f3f5\" xlink:actuate=\"onRequest\" xlink:href=\"psysml:f6292196-12b9-4bba-a758-98820cb4f3f5\" xlink:show=\"new\" xlink:title=\"psysml:f6292196-12b9-4bba-a758-98820cb4f3f5\" xlink:type=\"simple\"><rect fill=\"#FEFECE\" filter=\"url(#f1a50vy75w57wm)\" height=\"45.9375\" id=\"E4\" rx=\"10\" ry=\"10\" style=\"stroke: #A80036; stroke-width: 1.5;\" width=\"68\" x=\"153\" y=\"134\"/><ellipse cx=\"168\" cy=\"152.9688\" fill=\"#32CD32\" rx=\"11\" ry=\"11\" style=\"stroke: #A80036; stroke-width: 1.0;\"/><path d=\"M167.7969,148.6406 L167.7969,152.2656 L168.7969,152.2656 Q170,152.2656 170.4844,151.8594 Q170.9688,151.4531 170.9688,150.4531 Q170.9688,149.4531 170.4844,149.0469 Q170,148.6406 168.7969,148.6406 L167.7969,148.6406 Z M165.3438,146.5781 L168.7031,146.5781 Q171.2656,146.5781 172.3906,147.5 Q173.5156,148.4063 173.5156,150.4531 Q173.5156,152.5 172.3906,153.4219 Q171.2656,154.3281 168.7031,154.3281 L167.7969,154.3281 L167.7969,158.9688 L165.3438,158.9688 L165.3438,146.5781 Z \"/><text fill=\"#000000\" font-family=\"sans-serif\" font-size=\"12\" font-style=\"italic\" lengthAdjust=\"spacingAndGlyphs\" textLength=\"40\" x=\"180\" y=\"150.1387\">«part»</text><text fill=\"#000000\" font-family=\"sans-serif\" font-size=\"12\" lengthAdjust=\"spacingAndGlyphs\" textLength=\"8\" x=\"196\" y=\"164.1074\">p</text><line style=\"stroke: #A80036; stroke-width: 1.5;\" x1=\"154\" x2=\"220\" y1=\"171.9375\" y2=\"171.9375\"/></a><g id=\"E1.E5\"><a href=\"psysml:d7bec2b6-e32c-41d0-a208-370a3f1c18c8\" target=\"_top\" title=\"psysml:d7bec2b6-e32c-41d0-a208-370a3f1c18c8\" xlink:actuate=\"onRequest\" xlink:href=\"psysml:d7bec2b6-e32c-41d0-a208-370a3f1c18c8\" xlink:show=\"new\" xlink:title=\"psysml:d7bec2b6-e32c-41d0-a208-370a3f1c18c8\" xlink:type=\"simple\"><rect fill=\"#FEFECE\" filter=\"url(#f1a50vy75w57wm)\" height=\"42.9375\" id=\"E5\" rx=\"10\" ry=\"10\" style=\"stroke: #A80036; stroke-width: 1.5;\" width=\"86\" x=\"32\" y=\"135.5\"/><ellipse cx=\"49.25\" cy=\"154.4688\" fill=\"#FFA500\" rx=\"11\" ry=\"11\" style=\"stroke: #A80036; stroke-width: 1.0;\"/><path d=\"M45.125,156.3906 L45.125,148.5781 L47.5781,148.5781 L47.5781,157.0156 Q47.5781,157.9375 48.0469,158.4688 Q48.5313,159 49.3594,159 Q50.2031,159 50.6719,158.4688 Q51.1406,157.9375 51.1406,157.0156 L51.1406,148.5781 L53.5938,148.5781 L53.5938,156.3906 Q53.5938,158.9219 52.5938,160.0625 Q51.5938,161.2031 49.3594,161.2031 Q47.1406,161.2031 46.125,160.0625 Q45.125,158.9219 45.125,156.3906 Z \"/><text fill=\"#000000\" font-family=\"sans-serif\" font-size=\"12\" font-style=\"italic\" lengthAdjust=\"spacingAndGlyphs\" textLength=\"53\" x=\"61.75\" y=\"151.6387\">«action»</text><text fill=\"#000000\" font-family=\"sans-serif\" font-size=\"12\" lengthAdjust=\"spacingAndGlyphs\" textLength=\"20\" x=\"78.25\" y=\"165.6074\">act</text></a></g><ellipse cx=\"662\" cy=\"157\" fill=\"#000000\" filter=\"url(#f1a50vy75w57wm)\" rx=\"10\" ry=\"10\" style=\"stroke: none; stroke-width: 1.0;\"/><ellipse cx=\"662\" cy=\"507.5\" fill=\"none\" filter=\"url(#f1a50vy75w57wm)\" rx=\"10\" ry=\"10\" style=\"stroke: #000000; stroke-width: 1.0;\"/><ellipse cx=\"662.5\" cy=\"508\" fill=\"#000000\" rx=\"6\" ry=\"6\" style=\"stroke: none; stroke-width: 1.0;\"/><g id=\"E1.E6.E7\"><a href=\"psysml:df9bf7b7-ea8a-42e1-9b23-b8091030681c\" target=\"_top\" title=\"psysml:df9bf7b7-ea8a-42e1-9b23-b8091030681c\" xlink:actuate=\"onRequest\" xlink:href=\"psysml:df9bf7b7-ea8a-42e1-9b23-b8091030681c\" xlink:show=\"new\" xlink:title=\"psysml:df9bf7b7-ea8a-42e1-9b23-b8091030681c\" xlink:type=\"simple\"><rect fill=\"#FEFECE\" filter=\"url(#f1a50vy75w57wm)\" height=\"40\" id=\"E7\" rx=\"10\" ry=\"10\" style=\"stroke: #A80036; stroke-width: 1.5;\" width=\"53\" x=\"635.5\" y=\"247.5\"/><ellipse cx=\"652.75\" cy=\"263.5\" fill=\"#B6DBBB\" rx=\"11\" ry=\"11\" style=\"stroke: #A80036; stroke-width: 1.0;\"/><path d=\"M648.625,265.4219 L648.625,257.6094 L651.0781,257.6094 L651.0781,266.0469 Q651.0781,266.9688 651.5469,267.5 Q652.0313,268.0313 652.8594,268.0313 Q653.7031,268.0313 654.1719,267.5 Q654.6406,266.9688 654.6406,266.0469 L654.6406,257.6094 L657.0938,257.6094 L657.0938,265.4219 Q657.0938,267.9531 656.0938,269.0938 Q655.0938,270.2344 652.8594,270.2344 Q650.6406,270.2344 649.625,269.0938 Q648.625,267.9531 648.625,265.4219 Z \"/><text fill=\"#000000\" font-family=\"sans-serif\" font-size=\"12\" lengthAdjust=\"spacingAndGlyphs\" textLength=\"16\" x=\"667.25\" y=\"267.6543\">S1</text></a></g><g id=\"E1.E6.E8\"><a href=\"psysml:372708ac-c185-450b-8b20-5b0e6796b1d2\" target=\"_top\" title=\"psysml:372708ac-c185-450b-8b20-5b0e6796b1d2\" xlink:actuate=\"onRequest\" xlink:href=\"psysml:372708ac-c185-450b-8b20-5b0e6796b1d2\" xlink:show=\"new\" xlink:title=\"psysml:372708ac-c185-450b-8b20-5b0e6796b1d2\" xlink:type=\"simple\"><rect fill=\"#FEFECE\" filter=\"url(#f1a50vy75w57wm)\" height=\"55.9688\" id=\"E8\" rx=\"10\" ry=\"10\" style=\"stroke: #A80036; stroke-width: 1.5;\" width=\"58\" x=\"633\" y=\"364.5\"/><ellipse cx=\"652.5\" cy=\"380.5\" fill=\"#B6DBBB\" rx=\"11\" ry=\"11\" style=\"stroke: #A80036; stroke-width: 1.0;\"/><path d=\"M648.375,382.4219 L648.375,374.6094 L650.8281,374.6094 L650.8281,383.0469 Q650.8281,383.9688 651.2969,384.5 Q651.7813,385.0313 652.6094,385.0313 Q653.4531,385.0313 653.9219,384.5 Q654.3906,383.9688 654.3906,383.0469 L654.3906,374.6094 L656.8438,374.6094 L656.8438,382.4219 Q656.8438,384.9531 655.8438,386.0938 Q654.8438,387.2344 652.6094,387.2344 Q650.3906,387.2344 649.375,386.0938 Q648.375,384.9531 648.375,382.4219 Z \"/><text fill=\"#000000\" font-family=\"sans-serif\" font-size=\"12\" lengthAdjust=\"spacingAndGlyphs\" textLength=\"16\" x=\"667.5\" y=\"384.6543\">S2</text><line style=\"stroke: #A80036; stroke-width: 1.0;\" x1=\"633\" x2=\"691\" y1=\"396.5\" y2=\"396.5\"/><text fill=\"#000000\" font-family=\"sans-serif\" font-size=\"12\" font-weight=\"bold\" lengthAdjust=\"spacingAndGlyphs\" textLength=\"18\" x=\"638\" y=\"409.6387\">do</text><text fill=\"#000000\" font-family=\"sans-serif\" font-size=\"12\" lengthAdjust=\"spacingAndGlyphs\" textLength=\"4\" x=\"656\" y=\"409.6387\">/</text></a></g><!--MD5=[5a531d3a85f3339e6e197084acb48195]\n",
       "link *start*E6 to E7--><a href=\"psysml:63e0b6b5-21d2-46c8-92d5-87e224212dbf\" target=\"_top\" title=\"psysml:63e0b6b5-21d2-46c8-92d5-87e224212dbf\" xlink:actuate=\"onRequest\" xlink:href=\"psysml:63e0b6b5-21d2-46c8-92d5-87e224212dbf\" xlink:show=\"new\" xlink:title=\"psysml:63e0b6b5-21d2-46c8-92d5-87e224212dbf\" xlink:type=\"simple\"><path d=\"M662,167.25 C662,183.64 662,218.28 662,241.97 \" fill=\"none\" id=\"*start*E6-&gt;E7\" style=\"stroke: #A80036; stroke-width: 1.0;\"/><polygon fill=\"#A80036\" points=\"662,247.15,666,238.15,662,242.15,658,238.15,662,247.15\" style=\"stroke: #A80036; stroke-width: 1.0;\"/></a><!--MD5=[7ec9a8babba89ddcae1318ca9fb3c814]\n",
       "link E8 to *end*E6--><a href=\"psysml:60b88d5b-1ac8-4d6b-b052-bf1a623237b5\" target=\"_top\" title=\"psysml:60b88d5b-1ac8-4d6b-b052-bf1a623237b5\" xlink:actuate=\"onRequest\" xlink:href=\"psysml:60b88d5b-1ac8-4d6b-b052-bf1a623237b5\" xlink:show=\"new\" xlink:title=\"psysml:60b88d5b-1ac8-4d6b-b052-bf1a623237b5\" xlink:type=\"simple\"><path d=\"M662,420.57 C662,443.05 662,474.17 662,492.13 \" fill=\"none\" id=\"E8-&gt;*end*E6\" style=\"stroke: #A80036; stroke-width: 1.0;\"/><polygon fill=\"#A80036\" points=\"662,497.26,666,488.26,662,492.26,658,488.26,662,497.26\" style=\"stroke: #A80036; stroke-width: 1.0;\"/><text fill=\"#000000\" font-family=\"sans-serif\" font-size=\"13\" lengthAdjust=\"spacingAndGlyphs\" textLength=\"23\" x=\"663\" y=\"463.5669\">Exit</text></a><!--MD5=[79bc8f324ef4d02c541433f2e6e513c3]\n",
       "link E7 to E8--><a href=\"psysml:b9f5e72d-c680-433c-ba5c-575fc587f4f3\" target=\"_top\" title=\"psysml:b9f5e72d-c680-433c-ba5c-575fc587f4f3\" xlink:actuate=\"onRequest\" xlink:href=\"psysml:b9f5e72d-c680-433c-ba5c-575fc587f4f3\" xlink:show=\"new\" xlink:title=\"psysml:b9f5e72d-c680-433c-ba5c-575fc587f4f3\" xlink:type=\"simple\"><path d=\"M635.25,280.67 C613.47,292.49 587.88,311.93 598,334.5 C604.51,349.01 616.74,361.35 628.79,370.79 \" fill=\"none\" id=\"E7-&gt;E8\" style=\"stroke: #A80036; stroke-width: 1.0;\"/><polygon fill=\"#A80036\" points=\"632.86,373.88,628.0945,365.2609,628.872,370.864,623.2689,371.6416,632.86,373.88\" style=\"stroke: #A80036; stroke-width: 1.0;\"/><text fill=\"#000000\" font-family=\"sans-serif\" font-size=\"13\" lengthAdjust=\"spacingAndGlyphs\" textLength=\"81\" x=\"599\" y=\"330.5669\">Sig /action D</text></a><!--MD5=[bfa3c8b0d15052fdf50ae9310b491027]\n",
       "link E8 to E7--><a href=\"psysml:8fe1fd83-9e96-4978-be75-1a7ead5c4a85\" target=\"_top\" title=\"psysml:8fe1fd83-9e96-4978-be75-1a7ead5c4a85\" xlink:actuate=\"onRequest\" xlink:href=\"psysml:8fe1fd83-9e96-4978-be75-1a7ead5c4a85\" xlink:show=\"new\" xlink:title=\"psysml:8fe1fd83-9e96-4978-be75-1a7ead5c4a85\" xlink:type=\"simple\"><path d=\"M677.55,364.38 C683.68,350.5 688.51,333.26 685,317.5 C683.1,308.99 679.56,300.22 675.82,292.49 \" fill=\"none\" id=\"E8-&gt;E7\" style=\"stroke: #A80036; stroke-width: 1.0;\"/><polygon fill=\"#A80036\" points=\"673.47,287.82,673.9298,297.6581,675.7118,292.2893,681.0806,294.0713,673.47,287.82\" style=\"stroke: #A80036; stroke-width: 1.0;\"/><text fill=\"#000000\" font-family=\"sans-serif\" font-size=\"13\" lengthAdjust=\"spacingAndGlyphs\" textLength=\"135\" x=\"687\" y=\"330.5669\">Sig [true]/send s to p</text></a><!--MD5=[8e0559a131d304ce61ccbbe078ecacda]\n",
       "@startuml\r\n",
       " \r\n",
       "package \"StateTest\" as E1  [[psysml:7751d53a-3d7b-46fc-b5d8-bf0ae3c7070c ]]  {\r\n",
       "comp def \"Sig\" as E2  <<(D,brown)attribute def>> [[psysml:85dbfb10-d456-4c59-a9e0-99da33bb7a4b ]] {\r\n",
       "x\r\n",
       "}\r\n",
       "comp def \"Exit\" as E3  <<(D,brown)attribute def>> [[psysml:06ed69bb-03e4-455b-a820-630d0564221d ]] {\r\n",
       "}\r\n",
       "comp usage \"p\" as E4  << (P,limegreen) part>> [[psysml:f6292196-12b9-4bba-a758-98820cb4f3f5 ]] {\r\n",
       "}\r\n",
       "rec usage \"act\" as E5  <<(U,orange)action>> [[psysml:d7bec2b6-e32c-41d0-a208-370a3f1c18c8 ]] {\r\n",
       "}\r\n",
       "\r\n",
       "rec def \"S\" as E6  <<(D,brown)state def>> [[psysml:6343fae7-e97a-4dac-816a-0d66812becae ]] {\r\n",
       "rec usage \"S1\" as E7 [[psysml:df9bf7b7-ea8a-42e1-9b23-b8091030681c ]] {\r\n",
       "}\r\n",
       "\r\n",
       "rec usage \"S2\" as E8 [[psysml:372708ac-c185-450b-8b20-5b0e6796b1d2 ]] {\r\n",
       "desc \"S2\" as E8  : **do**/ \r\n",
       "}\r\n",
       "\r\n",
       "[*] - -> E7 [[psysml:63e0b6b5-21d2-46c8-92d5-87e224212dbf ]] \r\n",
       "E8  - -> [*] [[psysml:60b88d5b-1ac8-4d6b-b052-bf1a623237b5 ]] : Exit \r\n",
       "desc \"S\" as E6  : **entry**/ A\r\n",
       "desc \"S\" as E6  : **do**/ B\r\n",
       "desc \"S\" as E6  : **exit**/ act \r\n",
       "}\r\n",
       "\r\n",
       "E7  - -> E8 [[psysml:b9f5e72d-c680-433c-ba5c-575fc587f4f3 ]] : Sig /action D\r\n",
       "E8  - -> E7 [[psysml:8fe1fd83-9e96-4978-be75-1a7ead5c4a85 ]] : Sig [true]/send s to p\r\n",
       "}\r\n",
       "@enduml\r\n",
       "\n",
       "PlantUML version 1.2020.13(Sat Jun 13 12:26:38 UTC 2020)\n",
       "(EPL source distribution)\n",
       "Java Runtime: OpenJDK Runtime Environment\n",
       "JVM: OpenJDK 64-Bit Server VM\n",
       "Default Encoding: UTF-8\n",
       "Language: en\n",
       "Country: null\n",
       "--></g></svg>"
      ]
     },
     "execution_count": 30,
     "metadata": {},
     "output_type": "execute_result"
    }
   ],
   "source": [
    "%viz --style=\"PLANTUML\" --view=\"Default\" \"StateTest\""
   ]
  },
  {
   "cell_type": "code",
   "execution_count": 31,
   "id": "pretty-proof",
   "metadata": {
    "execution": {
     "iopub.execute_input": "2021-03-25T13:48:14.781374Z",
     "iopub.status.busy": "2021-03-25T13:48:14.780636Z",
     "iopub.status.idle": "2021-03-25T13:48:15.197278Z",
     "shell.execute_reply": "2021-03-25T13:48:15.195833Z"
    }
   },
   "outputs": [
    {
     "data": {
      "image/svg+xml": [
       "<?xml version=\"1.0\" encoding=\"UTF-8\" standalone=\"no\"?><svg xmlns=\"http://www.w3.org/2000/svg\" xmlns:xlink=\"http://www.w3.org/1999/xlink\" contentScriptType=\"application/ecmascript\" contentStyleType=\"text/css\" height=\"471px\" preserveAspectRatio=\"none\" style=\"width:702px;height:471px;\" version=\"1.1\" viewBox=\"0 0 702 471\" width=\"702px\" zoomAndPan=\"magnify\"><defs><filter height=\"300%\" id=\"flhlvgtimh70m\" width=\"300%\" x=\"-1\" y=\"-1\"><feGaussianBlur result=\"blurOut\" stdDeviation=\"2.0\"/><feColorMatrix in=\"blurOut\" result=\"blurOut2\" type=\"matrix\" values=\"0 0 0 0 0 0 0 0 0 0 0 0 0 0 0 0 0 0 .4 0\"/><feOffset dx=\"4.0\" dy=\"4.0\" in=\"blurOut2\" result=\"blurOut3\"/><feBlend in=\"SourceGraphic\" in2=\"blurOut3\" mode=\"normal\"/></filter></defs><g><!--MD5=[fbc87193dbaf4d95561dea2c320d4a47]\n",
       "cluster E1--><a href=\"psysml:7751d53a-3d7b-46fc-b5d8-bf0ae3c7070c\" target=\"_top\" title=\"psysml:7751d53a-3d7b-46fc-b5d8-bf0ae3c7070c\" xlink:actuate=\"onRequest\" xlink:href=\"psysml:7751d53a-3d7b-46fc-b5d8-bf0ae3c7070c\" xlink:show=\"new\" xlink:title=\"psysml:7751d53a-3d7b-46fc-b5d8-bf0ae3c7070c\" xlink:type=\"simple\"><polygon fill=\"#FFFFFF\" filter=\"url(#flhlvgtimh70m)\" points=\"16,6,98,6,105,28.2969,680,28.2969,680,459,16,459,16,6\" style=\"stroke: #000000; stroke-width: 1.5;\"/><line style=\"stroke: #000000; stroke-width: 1.5;\" x1=\"16\" x2=\"105\" y1=\"28.2969\" y2=\"28.2969\"/><text fill=\"#000000\" font-family=\"sans-serif\" font-size=\"14\" font-weight=\"bold\" lengthAdjust=\"spacingAndGlyphs\" textLength=\"76\" x=\"20\" y=\"20.9951\">StateTest</text></a><!--MD5=[b4997ac47864f28c2f74865a473b2911]\n",
       "class E2--><a href=\"psysml:85dbfb10-d456-4c59-a9e0-99da33bb7a4b\" target=\"_top\" title=\"psysml:85dbfb10-d456-4c59-a9e0-99da33bb7a4b\" xlink:actuate=\"onRequest\" xlink:href=\"psysml:85dbfb10-d456-4c59-a9e0-99da33bb7a4b\" xlink:show=\"new\" xlink:title=\"psysml:85dbfb10-d456-4c59-a9e0-99da33bb7a4b\" xlink:type=\"simple\"><rect fill=\"#FEFECE\" filter=\"url(#flhlvgtimh70m)\" height=\"58.7422\" id=\"E2\" style=\"stroke: #A80036; stroke-width: 1.5;\" width=\"121\" x=\"542.5\" y=\"91.5\"/><ellipse cx=\"557.5\" cy=\"110.4688\" fill=\"#A52A2A\" rx=\"11\" ry=\"11\" style=\"stroke: #A80036; stroke-width: 1.0;\"/><path d=\"M557.0938,106.2813 L557.0938,114.2656 L557.75,114.2656 Q559.1875,114.2656 559.7969,113.3594 Q560.4219,112.4375 560.4219,110.2656 Q560.4219,108.0938 559.7969,107.1875 Q559.1875,106.2813 557.75,106.2813 L557.0938,106.2813 Z M554.6406,104.0781 L557.2656,104.0781 Q560.2969,104.0781 561.625,105.5313 Q562.9688,106.9688 562.9688,110.2656 Q562.9688,113.5625 561.625,115.0156 Q560.2969,116.4688 557.2656,116.4688 L554.6406,116.4688 L554.6406,104.0781 Z \"/><text fill=\"#000000\" font-family=\"sans-serif\" font-size=\"12\" font-style=\"italic\" lengthAdjust=\"spacingAndGlyphs\" textLength=\"93\" x=\"569.5\" y=\"107.6387\">«attribute def»</text><text fill=\"#000000\" font-family=\"sans-serif\" font-size=\"12\" lengthAdjust=\"spacingAndGlyphs\" textLength=\"19\" x=\"606.5\" y=\"121.6074\">Sig</text><line style=\"stroke: #A80036; stroke-width: 1.5;\" x1=\"543.5\" x2=\"662.5\" y1=\"129.4375\" y2=\"129.4375\"/><text fill=\"#000000\" font-family=\"sans-serif\" font-size=\"11\" lengthAdjust=\"spacingAndGlyphs\" textLength=\"6\" x=\"548.5\" y=\"143.6479\">x</text></a><!--MD5=[09b614a08d8cba4a07c9adeb5e0fee81]\n",
       "class E3--><a href=\"psysml:06ed69bb-03e4-455b-a820-630d0564221d\" target=\"_top\" title=\"psysml:06ed69bb-03e4-455b-a820-630d0564221d\" xlink:actuate=\"onRequest\" xlink:href=\"psysml:06ed69bb-03e4-455b-a820-630d0564221d\" xlink:show=\"new\" xlink:title=\"psysml:06ed69bb-03e4-455b-a820-630d0564221d\" xlink:type=\"simple\"><rect fill=\"#FEFECE\" filter=\"url(#flhlvgtimh70m)\" height=\"45.9375\" id=\"E3\" style=\"stroke: #A80036; stroke-width: 1.5;\" width=\"121\" x=\"386.5\" y=\"98\"/><ellipse cx=\"401.5\" cy=\"116.9688\" fill=\"#A52A2A\" rx=\"11\" ry=\"11\" style=\"stroke: #A80036; stroke-width: 1.0;\"/><path d=\"M401.0938,112.7813 L401.0938,120.7656 L401.75,120.7656 Q403.1875,120.7656 403.7969,119.8594 Q404.4219,118.9375 404.4219,116.7656 Q404.4219,114.5938 403.7969,113.6875 Q403.1875,112.7813 401.75,112.7813 L401.0938,112.7813 Z M398.6406,110.5781 L401.2656,110.5781 Q404.2969,110.5781 405.625,112.0313 Q406.9688,113.4688 406.9688,116.7656 Q406.9688,120.0625 405.625,121.5156 Q404.2969,122.9688 401.2656,122.9688 L398.6406,122.9688 L398.6406,110.5781 Z \"/><text fill=\"#000000\" font-family=\"sans-serif\" font-size=\"12\" font-style=\"italic\" lengthAdjust=\"spacingAndGlyphs\" textLength=\"93\" x=\"413.5\" y=\"114.1387\">«attribute def»</text><text fill=\"#000000\" font-family=\"sans-serif\" font-size=\"12\" lengthAdjust=\"spacingAndGlyphs\" textLength=\"22\" x=\"449\" y=\"128.1074\">Exit</text><line style=\"stroke: #A80036; stroke-width: 1.5;\" x1=\"387.5\" x2=\"506.5\" y1=\"135.9375\" y2=\"135.9375\"/></a><!--MD5=[ebbe1d658d1005bcc118a6aa81145e00]\n",
       "class E4--><a href=\"psysml:f6292196-12b9-4bba-a758-98820cb4f3f5\" target=\"_top\" title=\"psysml:f6292196-12b9-4bba-a758-98820cb4f3f5\" xlink:actuate=\"onRequest\" xlink:href=\"psysml:f6292196-12b9-4bba-a758-98820cb4f3f5\" xlink:show=\"new\" xlink:title=\"psysml:f6292196-12b9-4bba-a758-98820cb4f3f5\" xlink:type=\"simple\"><rect fill=\"#FEFECE\" filter=\"url(#flhlvgtimh70m)\" height=\"45.9375\" id=\"E4\" rx=\"10\" ry=\"10\" style=\"stroke: #A80036; stroke-width: 1.5;\" width=\"68\" x=\"283\" y=\"98\"/><ellipse cx=\"298\" cy=\"116.9688\" fill=\"#32CD32\" rx=\"11\" ry=\"11\" style=\"stroke: #A80036; stroke-width: 1.0;\"/><path d=\"M297.7969,112.6406 L297.7969,116.2656 L298.7969,116.2656 Q300,116.2656 300.4844,115.8594 Q300.9688,115.4531 300.9688,114.4531 Q300.9688,113.4531 300.4844,113.0469 Q300,112.6406 298.7969,112.6406 L297.7969,112.6406 Z M295.3438,110.5781 L298.7031,110.5781 Q301.2656,110.5781 302.3906,111.5 Q303.5156,112.4063 303.5156,114.4531 Q303.5156,116.5 302.3906,117.4219 Q301.2656,118.3281 298.7031,118.3281 L297.7969,118.3281 L297.7969,122.9688 L295.3438,122.9688 L295.3438,110.5781 Z \"/><text fill=\"#000000\" font-family=\"sans-serif\" font-size=\"12\" font-style=\"italic\" lengthAdjust=\"spacingAndGlyphs\" textLength=\"40\" x=\"310\" y=\"114.1387\">«part»</text><text fill=\"#000000\" font-family=\"sans-serif\" font-size=\"12\" lengthAdjust=\"spacingAndGlyphs\" textLength=\"8\" x=\"326\" y=\"128.1074\">p</text><line style=\"stroke: #A80036; stroke-width: 1.5;\" x1=\"284\" x2=\"350\" y1=\"135.9375\" y2=\"135.9375\"/></a><!--MD5=[270fce915f116d4de14055a7c1d9a0f3]\n",
       "class E5--><a href=\"psysml:d7bec2b6-e32c-41d0-a208-370a3f1c18c8\" target=\"_top\" title=\"psysml:d7bec2b6-e32c-41d0-a208-370a3f1c18c8\" xlink:actuate=\"onRequest\" xlink:href=\"psysml:d7bec2b6-e32c-41d0-a208-370a3f1c18c8\" xlink:show=\"new\" xlink:title=\"psysml:d7bec2b6-e32c-41d0-a208-370a3f1c18c8\" xlink:type=\"simple\"><rect fill=\"#FEFECE\" filter=\"url(#flhlvgtimh70m)\" height=\"45.9375\" id=\"E5\" rx=\"10\" ry=\"10\" style=\"stroke: #A80036; stroke-width: 1.5;\" width=\"81\" x=\"166.5\" y=\"98\"/><ellipse cx=\"181.5\" cy=\"116.9688\" fill=\"#FFA500\" rx=\"11\" ry=\"11\" style=\"stroke: #A80036; stroke-width: 1.0;\"/><path d=\"M177.375,118.8906 L177.375,111.0781 L179.8281,111.0781 L179.8281,119.5156 Q179.8281,120.4375 180.2969,120.9688 Q180.7813,121.5 181.6094,121.5 Q182.4531,121.5 182.9219,120.9688 Q183.3906,120.4375 183.3906,119.5156 L183.3906,111.0781 L185.8438,111.0781 L185.8438,118.8906 Q185.8438,121.4219 184.8438,122.5625 Q183.8438,123.7031 181.6094,123.7031 Q179.3906,123.7031 178.375,122.5625 Q177.375,121.4219 177.375,118.8906 Z \"/><text fill=\"#000000\" font-family=\"sans-serif\" font-size=\"12\" font-style=\"italic\" lengthAdjust=\"spacingAndGlyphs\" textLength=\"53\" x=\"193.5\" y=\"114.1387\">«action»</text><text fill=\"#000000\" font-family=\"sans-serif\" font-size=\"12\" lengthAdjust=\"spacingAndGlyphs\" textLength=\"20\" x=\"210\" y=\"128.1074\">act</text><line style=\"stroke: #A80036; stroke-width: 1.5;\" x1=\"167.5\" x2=\"246.5\" y1=\"135.9375\" y2=\"135.9375\"/></a><!--MD5=[60a26617385b1d2d0262a64233df1f8d]\n",
       "class E6--><a href=\"psysml:6343fae7-e97a-4dac-816a-0d66812becae\" target=\"_top\" title=\"psysml:6343fae7-e97a-4dac-816a-0d66812becae\" xlink:actuate=\"onRequest\" xlink:href=\"psysml:6343fae7-e97a-4dac-816a-0d66812becae\" xlink:show=\"new\" xlink:title=\"psysml:6343fae7-e97a-4dac-816a-0d66812becae\" xlink:type=\"simple\"><rect fill=\"#FEFECE\" filter=\"url(#flhlvgtimh70m)\" height=\"160.375\" id=\"E6\" style=\"stroke: #A80036; stroke-width: 1.5;\" width=\"99\" x=\"32.5\" y=\"41\"/><ellipse cx=\"47.5\" cy=\"59.9688\" fill=\"#A52A2A\" rx=\"11\" ry=\"11\" style=\"stroke: #A80036; stroke-width: 1.0;\"/><path d=\"M47.0938,55.7813 L47.0938,63.7656 L47.75,63.7656 Q49.1875,63.7656 49.7969,62.8594 Q50.4219,61.9375 50.4219,59.7656 Q50.4219,57.5938 49.7969,56.6875 Q49.1875,55.7813 47.75,55.7813 L47.0938,55.7813 Z M44.6406,53.5781 L47.2656,53.5781 Q50.2969,53.5781 51.625,55.0313 Q52.9688,56.4688 52.9688,59.7656 Q52.9688,63.0625 51.625,64.5156 Q50.2969,65.9688 47.2656,65.9688 L44.6406,65.9688 L44.6406,53.5781 Z \"/><text fill=\"#000000\" font-family=\"sans-serif\" font-size=\"12\" font-style=\"italic\" lengthAdjust=\"spacingAndGlyphs\" textLength=\"71\" x=\"59.5\" y=\"57.1387\">«state def»</text><text fill=\"#000000\" font-family=\"sans-serif\" font-size=\"12\" lengthAdjust=\"spacingAndGlyphs\" textLength=\"8\" x=\"91\" y=\"71.1074\">S</text><line style=\"stroke: #A80036; stroke-width: 1.5;\" x1=\"33.5\" x2=\"130.5\" y1=\"78.9375\" y2=\"78.9375\"/><text fill=\"#000000\" font-family=\"sans-serif\" font-size=\"11\" lengthAdjust=\"spacingAndGlyphs\" textLength=\"17\" x=\"38.5\" y=\"109.9526\">act</text><text fill=\"#000000\" font-family=\"sans-serif\" font-size=\"11\" lengthAdjust=\"spacingAndGlyphs\" textLength=\"7\" x=\"38.5\" y=\"122.7573\">A</text><text fill=\"#000000\" font-family=\"sans-serif\" font-size=\"11\" lengthAdjust=\"spacingAndGlyphs\" textLength=\"8\" x=\"38.5\" y=\"135.562\">B</text><line style=\"stroke: #A80036; stroke-width: 1.0;\" x1=\"33.5\" x2=\"38.5\" y1=\"93.3398\" y2=\"93.3398\"/><text fill=\"#000000\" font-family=\"sans-serif\" font-size=\"11\" lengthAdjust=\"spacingAndGlyphs\" textLength=\"87\" x=\"38.5\" y=\"96.6479\">performActions</text><line style=\"stroke: #A80036; stroke-width: 1.0;\" x1=\"125.5\" x2=\"130.5\" y1=\"93.3398\" y2=\"93.3398\"/><text fill=\"#000000\" font-family=\"sans-serif\" font-size=\"11\" lengthAdjust=\"spacingAndGlyphs\" textLength=\"15\" x=\"38.5\" y=\"165.1714\">S1</text><line style=\"stroke: #A80036; stroke-width: 1.0;\" x1=\"33.5\" x2=\"64\" y1=\"148.5586\" y2=\"148.5586\"/><text fill=\"#000000\" font-family=\"sans-serif\" font-size=\"11\" lengthAdjust=\"spacingAndGlyphs\" textLength=\"36\" x=\"64\" y=\"151.8667\">states</text><line style=\"stroke: #A80036; stroke-width: 1.0;\" x1=\"100\" x2=\"130.5\" y1=\"148.5586\" y2=\"148.5586\"/><text fill=\"#000000\" font-family=\"sans-serif\" font-size=\"11\" lengthAdjust=\"spacingAndGlyphs\" textLength=\"7\" x=\"38.5\" y=\"194.7808\">T</text><line style=\"stroke: #A80036; stroke-width: 1.0;\" x1=\"33.5\" x2=\"51.5\" y1=\"178.168\" y2=\"178.168\"/><text fill=\"#000000\" font-family=\"sans-serif\" font-size=\"11\" lengthAdjust=\"spacingAndGlyphs\" textLength=\"61\" x=\"51.5\" y=\"181.4761\">transitions</text><line style=\"stroke: #A80036; stroke-width: 1.0;\" x1=\"112.5\" x2=\"130.5\" y1=\"178.168\" y2=\"178.168\"/></a><!--MD5=[1dd1bfd58a279cf63c5f349dbc8fc6a1]\n",
       "class E11--><a href=\"psysml:372708ac-c185-450b-8b20-5b0e6796b1d2\" target=\"_top\" title=\"psysml:372708ac-c185-450b-8b20-5b0e6796b1d2\" xlink:actuate=\"onRequest\" xlink:href=\"psysml:372708ac-c185-450b-8b20-5b0e6796b1d2\" xlink:show=\"new\" xlink:title=\"psysml:372708ac-c185-450b-8b20-5b0e6796b1d2\" xlink:type=\"simple\"><rect fill=\"#FEFECE\" filter=\"url(#flhlvgtimh70m)\" height=\"45.9375\" id=\"E11\" rx=\"10\" ry=\"10\" style=\"stroke: #A80036; stroke-width: 1.5;\" width=\"75\" x=\"48.5\" y=\"261\"/><ellipse cx=\"63.5\" cy=\"279.9688\" fill=\"#FFA500\" rx=\"11\" ry=\"11\" style=\"stroke: #A80036; stroke-width: 1.0;\"/><path d=\"M59.375,281.8906 L59.375,274.0781 L61.8281,274.0781 L61.8281,282.5156 Q61.8281,283.4375 62.2969,283.9688 Q62.7813,284.5 63.6094,284.5 Q64.4531,284.5 64.9219,283.9688 Q65.3906,283.4375 65.3906,282.5156 L65.3906,274.0781 L67.8438,274.0781 L67.8438,281.8906 Q67.8438,284.4219 66.8438,285.5625 Q65.8438,286.7031 63.6094,286.7031 Q61.3906,286.7031 60.375,285.5625 Q59.375,284.4219 59.375,281.8906 Z \"/><text fill=\"#000000\" font-family=\"sans-serif\" font-size=\"12\" font-style=\"italic\" lengthAdjust=\"spacingAndGlyphs\" textLength=\"47\" x=\"75.5\" y=\"277.1387\">«state»</text><text fill=\"#000000\" font-family=\"sans-serif\" font-size=\"12\" lengthAdjust=\"spacingAndGlyphs\" textLength=\"16\" x=\"91\" y=\"291.1074\">S2</text><line style=\"stroke: #A80036; stroke-width: 1.5;\" x1=\"49.5\" x2=\"122.5\" y1=\"298.9375\" y2=\"298.9375\"/></a><!--MD5=[49a0ec8f00dab7302a31f22d0f0fe584]\n",
       "class E12--><a href=\"psysml:db8ff6bb-65b2-44b6-939f-52bfaf067d5c\" target=\"_top\" title=\"psysml:db8ff6bb-65b2-44b6-939f-52bfaf067d5c\" xlink:actuate=\"onRequest\" xlink:href=\"psysml:db8ff6bb-65b2-44b6-939f-52bfaf067d5c\" xlink:show=\"new\" xlink:title=\"psysml:db8ff6bb-65b2-44b6-939f-52bfaf067d5c\" xlink:type=\"simple\"><rect fill=\"#FEFECE\" filter=\"url(#flhlvgtimh70m)\" height=\"75.5469\" id=\"E12\" rx=\"10\" ry=\"10\" style=\"stroke: #A80036; stroke-width: 1.5;\" width=\"116\" x=\"32\" y=\"367\"/><ellipse cx=\"47\" cy=\"385.9688\" fill=\"#B6DBBB\" rx=\"11\" ry=\"11\" style=\"stroke: #A80036; stroke-width: 1.0;\"/><path d=\"M42.875,387.8906 L42.875,380.0781 L45.3281,380.0781 L45.3281,388.5156 Q45.3281,389.4375 45.7969,389.9688 Q46.2813,390.5 47.1094,390.5 Q47.9531,390.5 48.4219,389.9688 Q48.8906,389.4375 48.8906,388.5156 L48.8906,380.0781 L51.3438,380.0781 L51.3438,387.8906 Q51.3438,390.4219 50.3438,391.5625 Q49.3438,392.7031 47.1094,392.7031 Q44.8906,392.7031 43.875,391.5625 Q42.875,390.4219 42.875,387.8906 Z \"/><text fill=\"#000000\" font-family=\"sans-serif\" font-size=\"12\" font-style=\"italic\" lengthAdjust=\"spacingAndGlyphs\" textLength=\"88\" x=\"59\" y=\"383.1387\">«send action»</text><text fill=\"#000000\" font-family=\"sans-serif\" font-size=\"12\" lengthAdjust=\"spacingAndGlyphs\" textLength=\"55\" x=\"75.5\" y=\"397.1074\">doAction</text><line style=\"stroke: #A80036; stroke-width: 1.5;\" x1=\"33\" x2=\"147\" y1=\"404.9375\" y2=\"404.9375\"/><text fill=\"#000000\" font-family=\"sans-serif\" font-size=\"11\" lengthAdjust=\"spacingAndGlyphs\" textLength=\"25\" x=\"38\" y=\"435.9526\">item</text><line style=\"stroke: #A80036; stroke-width: 1.0;\" x1=\"33\" x2=\"52.5\" y1=\"419.3398\" y2=\"419.3398\"/><text fill=\"#000000\" font-family=\"sans-serif\" font-size=\"11\" lengthAdjust=\"spacingAndGlyphs\" textLength=\"75\" x=\"52.5\" y=\"422.6479\">itemFeatures</text><line style=\"stroke: #A80036; stroke-width: 1.0;\" x1=\"127.5\" x2=\"147\" y1=\"419.3398\" y2=\"419.3398\"/></a><!--MD5=[1f5f03483f7de0d5b3680a7f6650997f]\n",
       "reverse link E6 to E11--><a href=\"psysml:372708ac-c185-450b-8b20-5b0e6796b1d2\" target=\"_top\" title=\"psysml:372708ac-c185-450b-8b20-5b0e6796b1d2\" xlink:actuate=\"onRequest\" xlink:href=\"psysml:372708ac-c185-450b-8b20-5b0e6796b1d2\" xlink:show=\"new\" xlink:title=\"psysml:372708ac-c185-450b-8b20-5b0e6796b1d2\" xlink:type=\"simple\"><path d=\"M84.29,214.17 C84.72,231.58 85.14,248.25 85.45,260.82 \" fill=\"none\" id=\"E6&lt;-E11\" style=\"stroke: #A80036; stroke-width: 1.0;\"/><polygon fill=\"#A80036\" points=\"83.96,201.09,80.1062,207.1849,84.25,213.0865,88.1038,206.9916,83.96,201.09\" style=\"stroke: #A80036; stroke-width: 1.0;\"/></a><!--MD5=[94adabc162ce7e41b39f13be14fbaeb3]\n",
       "reverse link E11 to E12--><a href=\"psysml:db8ff6bb-65b2-44b6-939f-52bfaf067d5c\" target=\"_top\" title=\"psysml:db8ff6bb-65b2-44b6-939f-52bfaf067d5c\" xlink:actuate=\"onRequest\" xlink:href=\"psysml:db8ff6bb-65b2-44b6-939f-52bfaf067d5c\" xlink:show=\"new\" xlink:title=\"psysml:db8ff6bb-65b2-44b6-939f-52bfaf067d5c\" xlink:type=\"simple\"><path d=\"M87.18,320.23 C87.67,334.82 88.24,351.76 88.74,366.58 \" fill=\"none\" id=\"E11&lt;-E12\" style=\"stroke: #A80036; stroke-width: 1.0;\"/><polygon fill=\"#FFFFFF\" points=\"86.74,307.1,82.9466,313.2327,87.1486,319.093,90.942,312.9603,86.74,307.1\" style=\"stroke: #A80036; stroke-width: 1.0;\"/></a><!--MD5=[e290f5f3698b3e38339463286987c3a4]\n",
       "@startuml\r\n",
       " \r\n",
       "package \"StateTest\" as E1  [[psysml:7751d53a-3d7b-46fc-b5d8-bf0ae3c7070c ]]  {\r\n",
       "comp def \"Sig\" as E2  <<(D,brown)attribute def>> [[psysml:85dbfb10-d456-4c59-a9e0-99da33bb7a4b ]] {\r\n",
       "x\r\n",
       "}\r\n",
       "comp def \"Exit\" as E3  <<(D,brown)attribute def>> [[psysml:06ed69bb-03e4-455b-a820-630d0564221d ]] {\r\n",
       "}\r\n",
       "comp usage \"p\" as E4  << (P,limegreen) part>> [[psysml:f6292196-12b9-4bba-a758-98820cb4f3f5 ]] {\r\n",
       "}\r\n",
       "comp usage \"act\" as E5  <<(U,orange)action>> [[psysml:d7bec2b6-e32c-41d0-a208-370a3f1c18c8 ]] {\r\n",
       "}\r\n",
       "comp def \"S\" as E6  <<(D,brown)state def>> [[psysml:6343fae7-e97a-4dac-816a-0d66812becae ]] {\r\n",
       "- - performActions - -\r\n",
       "act\r\n",
       "A\r\n",
       "B\r\n",
       "- - states - -\r\n",
       "S1\r\n",
       "- - transitions - -\r\n",
       "T\r\n",
       "}\r\n",
       "comp usage \"S2\" as E11  <<(U,orange)state>> [[psysml:372708ac-c185-450b-8b20-5b0e6796b1d2 ]] {\r\n",
       "}\r\n",
       "comp usage \"doAction\" as E12 <<send action>> [[psysml:db8ff6bb-65b2-44b6-939f-52bfaf067d5c ]] {\r\n",
       "- - itemFeatures - -\r\n",
       "item\r\n",
       "}\r\n",
       "E6 *- - E11 [[psysml:372708ac-c185-450b-8b20-5b0e6796b1d2 ]] \r\n",
       "E11 o- - E12 [[psysml:db8ff6bb-65b2-44b6-939f-52bfaf067d5c ]] \r\n",
       "}\r\n",
       "@enduml\r\n",
       "\n",
       "PlantUML version 1.2020.13(Sat Jun 13 12:26:38 UTC 2020)\n",
       "(EPL source distribution)\n",
       "Java Runtime: OpenJDK Runtime Environment\n",
       "JVM: OpenJDK 64-Bit Server VM\n",
       "Default Encoding: UTF-8\n",
       "Language: en\n",
       "Country: null\n",
       "--></g></svg>"
      ]
     },
     "execution_count": 31,
     "metadata": {},
     "output_type": "execute_result"
    }
   ],
   "source": [
    "%viz --style=\"PLANTUML\" --view=\"Tree\" \"StateTest\""
   ]
  },
  {
   "cell_type": "code",
   "execution_count": 32,
   "id": "intellectual-ideal",
   "metadata": {
    "execution": {
     "iopub.execute_input": "2021-03-25T13:48:15.248517Z",
     "iopub.status.busy": "2021-03-25T13:48:15.247797Z",
     "iopub.status.idle": "2021-03-25T13:48:15.359985Z",
     "shell.execute_reply": "2021-03-25T13:48:15.358506Z"
    }
   },
   "outputs": [
    {
     "data": {
      "image/svg+xml": [
       "<?xml version=\"1.0\" encoding=\"UTF-8\" standalone=\"no\"?><svg xmlns=\"http://www.w3.org/2000/svg\" xmlns:xlink=\"http://www.w3.org/1999/xlink\" contentScriptType=\"application/ecmascript\" contentStyleType=\"text/css\" height=\"491px\" preserveAspectRatio=\"none\" style=\"width:353px;height:491px;\" version=\"1.1\" viewBox=\"0 0 353 491\" width=\"353px\" zoomAndPan=\"magnify\"><defs><filter height=\"300%\" id=\"f18ggbqyqhzsg1\" width=\"300%\" x=\"-1\" y=\"-1\"><feGaussianBlur result=\"blurOut\" stdDeviation=\"2.0\"/><feColorMatrix in=\"blurOut\" result=\"blurOut2\" type=\"matrix\" values=\"0 0 0 0 0 0 0 0 0 0 0 0 0 0 0 0 0 0 .4 0\"/><feOffset dx=\"4.0\" dy=\"4.0\" in=\"blurOut2\" result=\"blurOut3\"/><feBlend in=\"SourceGraphic\" in2=\"blurOut3\" mode=\"normal\"/></filter></defs><g><!--MD5=[fbc87193dbaf4d95561dea2c320d4a47]\n",
       "cluster E1--><a href=\"psysml:6343fae7-e97a-4dac-816a-0d66812becae\" target=\"_top\" title=\"psysml:6343fae7-e97a-4dac-816a-0d66812becae\" xlink:actuate=\"onRequest\" xlink:href=\"psysml:6343fae7-e97a-4dac-816a-0d66812becae\" xlink:show=\"new\" xlink:title=\"psysml:6343fae7-e97a-4dac-816a-0d66812becae\" xlink:type=\"simple\"><rect fill=\"#FFFFFF\" filter=\"url(#f18ggbqyqhzsg1)\" height=\"465\" id=\"E1\" style=\"stroke: #A80036; stroke-width: 1.5;\" width=\"327\" x=\"7\" y=\"7\"/><rect fill=\"#FEFECE\" height=\"37.9375\" style=\"stroke: #A80036; stroke-width: 1.5;\" width=\"327\" x=\"7\" y=\"7\"/><text fill=\"#000000\" font-family=\"sans-serif\" font-size=\"12\" font-style=\"italic\" lengthAdjust=\"spacingAndGlyphs\" textLength=\"71\" x=\"135\" y=\"23.1387\">«state def»</text><text fill=\"#000000\" font-family=\"sans-serif\" font-size=\"12\" lengthAdjust=\"spacingAndGlyphs\" textLength=\"8\" x=\"166.5\" y=\"37.1074\">S</text><line style=\"stroke: #A80036; stroke-width: 1.0;\" x1=\"7\" x2=\"334\" y1=\"90.8438\" y2=\"90.8438\"/><text fill=\"#000000\" font-family=\"sans-serif\" font-size=\"12\" font-weight=\"bold\" lengthAdjust=\"spacingAndGlyphs\" textLength=\"38\" x=\"12\" y=\"58.0762\">entry</text><text fill=\"#000000\" font-family=\"sans-serif\" font-size=\"12\" lengthAdjust=\"spacingAndGlyphs\" textLength=\"16\" x=\"50\" y=\"58.0762\">/ A</text><text fill=\"#000000\" font-family=\"sans-serif\" font-size=\"12\" font-weight=\"bold\" lengthAdjust=\"spacingAndGlyphs\" textLength=\"18\" x=\"12\" y=\"72.0449\">do</text><text fill=\"#000000\" font-family=\"sans-serif\" font-size=\"12\" lengthAdjust=\"spacingAndGlyphs\" textLength=\"16\" x=\"30\" y=\"72.0449\">/ B</text><text fill=\"#000000\" font-family=\"sans-serif\" font-size=\"12\" font-weight=\"bold\" lengthAdjust=\"spacingAndGlyphs\" textLength=\"26\" x=\"12\" y=\"86.0137\">exit</text><text fill=\"#000000\" font-family=\"sans-serif\" font-size=\"12\" lengthAdjust=\"spacingAndGlyphs\" textLength=\"28\" x=\"38\" y=\"86.0137\">/ act</text></a><ellipse cx=\"119\" cy=\"115\" fill=\"#000000\" filter=\"url(#f18ggbqyqhzsg1)\" rx=\"10\" ry=\"10\" style=\"stroke: none; stroke-width: 1.0;\"/><ellipse cx=\"119\" cy=\"446\" fill=\"none\" filter=\"url(#f18ggbqyqhzsg1)\" rx=\"10\" ry=\"10\" style=\"stroke: #000000; stroke-width: 1.0;\"/><ellipse cx=\"119.5\" cy=\"446.5\" fill=\"#000000\" rx=\"6\" ry=\"6\" style=\"stroke: none; stroke-width: 1.0;\"/><g id=\"E1.E2\"><a href=\"psysml:df9bf7b7-ea8a-42e1-9b23-b8091030681c\" target=\"_top\" title=\"psysml:df9bf7b7-ea8a-42e1-9b23-b8091030681c\" xlink:actuate=\"onRequest\" xlink:href=\"psysml:df9bf7b7-ea8a-42e1-9b23-b8091030681c\" xlink:show=\"new\" xlink:title=\"psysml:df9bf7b7-ea8a-42e1-9b23-b8091030681c\" xlink:type=\"simple\"><rect fill=\"#FEFECE\" filter=\"url(#f18ggbqyqhzsg1)\" height=\"40\" id=\"E2\" rx=\"10\" ry=\"10\" style=\"stroke: #A80036; stroke-width: 1.5;\" width=\"53\" x=\"92.5\" y=\"186\"/><ellipse cx=\"109.75\" cy=\"202\" fill=\"#B6DBBB\" rx=\"11\" ry=\"11\" style=\"stroke: #A80036; stroke-width: 1.0;\"/><path d=\"M105.625,203.9219 L105.625,196.1094 L108.0781,196.1094 L108.0781,204.5469 Q108.0781,205.4688 108.5469,206 Q109.0313,206.5313 109.8594,206.5313 Q110.7031,206.5313 111.1719,206 Q111.6406,205.4688 111.6406,204.5469 L111.6406,196.1094 L114.0938,196.1094 L114.0938,203.9219 Q114.0938,206.4531 113.0938,207.5938 Q112.0938,208.7344 109.8594,208.7344 Q107.6406,208.7344 106.625,207.5938 Q105.625,206.4531 105.625,203.9219 Z \"/><text fill=\"#000000\" font-family=\"sans-serif\" font-size=\"12\" lengthAdjust=\"spacingAndGlyphs\" textLength=\"16\" x=\"124.25\" y=\"206.1543\">S1</text></a></g><g id=\"E1.E3\"><a href=\"psysml:372708ac-c185-450b-8b20-5b0e6796b1d2\" target=\"_top\" title=\"psysml:372708ac-c185-450b-8b20-5b0e6796b1d2\" xlink:actuate=\"onRequest\" xlink:href=\"psysml:372708ac-c185-450b-8b20-5b0e6796b1d2\" xlink:show=\"new\" xlink:title=\"psysml:372708ac-c185-450b-8b20-5b0e6796b1d2\" xlink:type=\"simple\"><rect fill=\"#FEFECE\" filter=\"url(#f18ggbqyqhzsg1)\" height=\"55.9688\" id=\"E3\" rx=\"10\" ry=\"10\" style=\"stroke: #A80036; stroke-width: 1.5;\" width=\"58\" x=\"90\" y=\"303\"/><ellipse cx=\"109.5\" cy=\"319\" fill=\"#B6DBBB\" rx=\"11\" ry=\"11\" style=\"stroke: #A80036; stroke-width: 1.0;\"/><path d=\"M105.375,320.9219 L105.375,313.1094 L107.8281,313.1094 L107.8281,321.5469 Q107.8281,322.4688 108.2969,323 Q108.7813,323.5313 109.6094,323.5313 Q110.4531,323.5313 110.9219,323 Q111.3906,322.4688 111.3906,321.5469 L111.3906,313.1094 L113.8438,313.1094 L113.8438,320.9219 Q113.8438,323.4531 112.8438,324.5938 Q111.8438,325.7344 109.6094,325.7344 Q107.3906,325.7344 106.375,324.5938 Q105.375,323.4531 105.375,320.9219 Z \"/><text fill=\"#000000\" font-family=\"sans-serif\" font-size=\"12\" lengthAdjust=\"spacingAndGlyphs\" textLength=\"16\" x=\"124.5\" y=\"323.1543\">S2</text><line style=\"stroke: #A80036; stroke-width: 1.0;\" x1=\"90\" x2=\"148\" y1=\"335\" y2=\"335\"/><text fill=\"#000000\" font-family=\"sans-serif\" font-size=\"12\" font-weight=\"bold\" lengthAdjust=\"spacingAndGlyphs\" textLength=\"18\" x=\"95\" y=\"348.1387\">do</text><text fill=\"#000000\" font-family=\"sans-serif\" font-size=\"12\" lengthAdjust=\"spacingAndGlyphs\" textLength=\"4\" x=\"113\" y=\"348.1387\">/</text></a></g><!--MD5=[cff944eb183b832d446717a4e202d613]\n",
       "link *start*E1 to E2--><a href=\"psysml:63e0b6b5-21d2-46c8-92d5-87e224212dbf\" target=\"_top\" title=\"psysml:63e0b6b5-21d2-46c8-92d5-87e224212dbf\" xlink:actuate=\"onRequest\" xlink:href=\"psysml:63e0b6b5-21d2-46c8-92d5-87e224212dbf\" xlink:show=\"new\" xlink:title=\"psysml:63e0b6b5-21d2-46c8-92d5-87e224212dbf\" xlink:type=\"simple\"><path d=\"M119,125.19 C119,138.18 119,162.38 119,180.73 \" fill=\"none\" id=\"*start*E1-&gt;E2\" style=\"stroke: #A80036; stroke-width: 1.0;\"/><polygon fill=\"#A80036\" points=\"119,185.74,123,176.74,119,180.74,115,176.74,119,185.74\" style=\"stroke: #A80036; stroke-width: 1.0;\"/></a><!--MD5=[9ee7afa76ca8c509b3d216624c3a9893]\n",
       "link E3 to *end*E1--><a href=\"psysml:60b88d5b-1ac8-4d6b-b052-bf1a623237b5\" target=\"_top\" title=\"psysml:60b88d5b-1ac8-4d6b-b052-bf1a623237b5\" xlink:actuate=\"onRequest\" xlink:href=\"psysml:60b88d5b-1ac8-4d6b-b052-bf1a623237b5\" xlink:show=\"new\" xlink:title=\"psysml:60b88d5b-1ac8-4d6b-b052-bf1a623237b5\" xlink:type=\"simple\"><path d=\"M119,359.07 C119,381.55 119,412.67 119,430.63 \" fill=\"none\" id=\"E3-&gt;*end*E1\" style=\"stroke: #A80036; stroke-width: 1.0;\"/><polygon fill=\"#A80036\" points=\"119,435.76,123,426.76,119,430.76,115,426.76,119,435.76\" style=\"stroke: #A80036; stroke-width: 1.0;\"/><text fill=\"#000000\" font-family=\"sans-serif\" font-size=\"13\" lengthAdjust=\"spacingAndGlyphs\" textLength=\"23\" x=\"120\" y=\"402.0669\">Exit</text></a><!--MD5=[2720a5a1f2c3fca2055b230370638851]\n",
       "link E2 to E3--><a href=\"psysml:b9f5e72d-c680-433c-ba5c-575fc587f4f3\" target=\"_top\" title=\"psysml:b9f5e72d-c680-433c-ba5c-575fc587f4f3\" xlink:actuate=\"onRequest\" xlink:href=\"psysml:b9f5e72d-c680-433c-ba5c-575fc587f4f3\" xlink:show=\"new\" xlink:title=\"psysml:b9f5e72d-c680-433c-ba5c-575fc587f4f3\" xlink:type=\"simple\"><path d=\"M92.25,219.17 C70.47,230.99 44.88,250.43 55,273 C61.51,287.51 73.74,299.85 85.79,309.29 \" fill=\"none\" id=\"E2-&gt;E3\" style=\"stroke: #A80036; stroke-width: 1.0;\"/><polygon fill=\"#A80036\" points=\"89.86,312.38,85.0945,303.7609,85.872,309.364,80.2689,310.1416,89.86,312.38\" style=\"stroke: #A80036; stroke-width: 1.0;\"/><text fill=\"#000000\" font-family=\"sans-serif\" font-size=\"13\" lengthAdjust=\"spacingAndGlyphs\" textLength=\"81\" x=\"56\" y=\"269.0669\">Sig /action D</text></a><!--MD5=[05d275557350bfb9b23a4ef7222b4c39]\n",
       "link E3 to E2--><a href=\"psysml:8fe1fd83-9e96-4978-be75-1a7ead5c4a85\" target=\"_top\" title=\"psysml:8fe1fd83-9e96-4978-be75-1a7ead5c4a85\" xlink:actuate=\"onRequest\" xlink:href=\"psysml:8fe1fd83-9e96-4978-be75-1a7ead5c4a85\" xlink:show=\"new\" xlink:title=\"psysml:8fe1fd83-9e96-4978-be75-1a7ead5c4a85\" xlink:type=\"simple\"><path d=\"M134.55,302.88 C140.68,289 145.51,271.76 142,256 C140.1,247.49 136.56,238.72 132.82,230.99 \" fill=\"none\" id=\"E3-&gt;E2\" style=\"stroke: #A80036; stroke-width: 1.0;\"/><polygon fill=\"#A80036\" points=\"130.47,226.32,130.9298,236.1581,132.7118,230.7893,138.0806,232.5713,130.47,226.32\" style=\"stroke: #A80036; stroke-width: 1.0;\"/><text fill=\"#000000\" font-family=\"sans-serif\" font-size=\"13\" lengthAdjust=\"spacingAndGlyphs\" textLength=\"135\" x=\"144\" y=\"269.0669\">Sig [true]/send s to p</text></a><!--MD5=[94bd6d6ffc1d396274f20222486c585a]\n",
       "@startuml\r\n",
       " \r\n",
       "rec def \"S\" as E1  <<(D,brown)state def>> [[psysml:6343fae7-e97a-4dac-816a-0d66812becae ]] {\r\n",
       "rec usage \"S1\" as E2 [[psysml:df9bf7b7-ea8a-42e1-9b23-b8091030681c ]] {\r\n",
       "}\r\n",
       "\r\n",
       "rec usage \"S2\" as E3 [[psysml:372708ac-c185-450b-8b20-5b0e6796b1d2 ]] {\r\n",
       "desc \"S2\" as E3  : **do**/ \r\n",
       "}\r\n",
       "\r\n",
       "[*] - -> E2 [[psysml:63e0b6b5-21d2-46c8-92d5-87e224212dbf ]] \r\n",
       "E3  - -> [*] [[psysml:60b88d5b-1ac8-4d6b-b052-bf1a623237b5 ]] : Exit \r\n",
       "desc \"S\" as E1  : **entry**/ A\r\n",
       "desc \"S\" as E1  : **do**/ B\r\n",
       "desc \"S\" as E1  : **exit**/ act \r\n",
       "}\r\n",
       "\r\n",
       "E2  - -> E3 [[psysml:b9f5e72d-c680-433c-ba5c-575fc587f4f3 ]] : Sig /action D\r\n",
       "E3  - -> E2 [[psysml:8fe1fd83-9e96-4978-be75-1a7ead5c4a85 ]] : Sig [true]/send s to p\r\n",
       "@enduml\r\n",
       "\n",
       "PlantUML version 1.2020.13(Sat Jun 13 12:26:38 UTC 2020)\n",
       "(EPL source distribution)\n",
       "Java Runtime: OpenJDK Runtime Environment\n",
       "JVM: OpenJDK 64-Bit Server VM\n",
       "Default Encoding: UTF-8\n",
       "Language: en\n",
       "Country: null\n",
       "--></g></svg>"
      ]
     },
     "execution_count": 32,
     "metadata": {},
     "output_type": "execute_result"
    }
   ],
   "source": [
    "%viz --style=\"PLANTUML\" --view=\"State\" \"StateTest\""
   ]
  },
  {
   "cell_type": "code",
   "execution_count": 33,
   "id": "alien-booking",
   "metadata": {
    "execution": {
     "iopub.execute_input": "2021-03-25T13:48:15.411254Z",
     "iopub.status.busy": "2021-03-25T13:48:15.410748Z",
     "iopub.status.idle": "2021-03-25T13:48:15.471060Z",
     "shell.execute_reply": "2021-03-25T13:48:15.469494Z"
    }
   },
   "outputs": [
    {
     "data": {
      "image/svg+xml": [
       "<?xml version=\"1.0\" encoding=\"UTF-8\" standalone=\"no\"?><svg xmlns=\"http://www.w3.org/2000/svg\" xmlns:xlink=\"http://www.w3.org/1999/xlink\" contentScriptType=\"application/ecmascript\" contentStyleType=\"text/css\" height=\"112px\" preserveAspectRatio=\"none\" style=\"width:702px;height:112px;\" version=\"1.1\" viewBox=\"0 0 702 112\" width=\"702px\" zoomAndPan=\"magnify\"><defs><filter height=\"300%\" id=\"fg558rnf3k48j\" width=\"300%\" x=\"-1\" y=\"-1\"><feGaussianBlur result=\"blurOut\" stdDeviation=\"2.0\"/><feColorMatrix in=\"blurOut\" result=\"blurOut2\" type=\"matrix\" values=\"0 0 0 0 0 0 0 0 0 0 0 0 0 0 0 0 0 0 .4 0\"/><feOffset dx=\"4.0\" dy=\"4.0\" in=\"blurOut2\" result=\"blurOut3\"/><feBlend in=\"SourceGraphic\" in2=\"blurOut3\" mode=\"normal\"/></filter></defs><g><!--MD5=[fbc87193dbaf4d95561dea2c320d4a47]\n",
       "cluster E1--><a href=\"psysml:7751d53a-3d7b-46fc-b5d8-bf0ae3c7070c\" target=\"_top\" title=\"psysml:7751d53a-3d7b-46fc-b5d8-bf0ae3c7070c\" xlink:actuate=\"onRequest\" xlink:href=\"psysml:7751d53a-3d7b-46fc-b5d8-bf0ae3c7070c\" xlink:show=\"new\" xlink:title=\"psysml:7751d53a-3d7b-46fc-b5d8-bf0ae3c7070c\" xlink:type=\"simple\"><polygon fill=\"#FFFFFF\" filter=\"url(#fg558rnf3k48j)\" points=\"16,6,98,6,105,28.2969,680,28.2969,680,100,16,100,16,6\" style=\"stroke: #000000; stroke-width: 1.5;\"/><line style=\"stroke: #000000; stroke-width: 1.5;\" x1=\"16\" x2=\"105\" y1=\"28.2969\" y2=\"28.2969\"/><text fill=\"#000000\" font-family=\"sans-serif\" font-size=\"14\" font-weight=\"bold\" lengthAdjust=\"spacingAndGlyphs\" textLength=\"76\" x=\"20\" y=\"20.9951\">StateTest</text></a><g id=\"E1.E2\"><a href=\"psysml:85dbfb10-d456-4c59-a9e0-99da33bb7a4b\" target=\"_top\" title=\"psysml:85dbfb10-d456-4c59-a9e0-99da33bb7a4b\" xlink:actuate=\"onRequest\" xlink:href=\"psysml:85dbfb10-d456-4c59-a9e0-99da33bb7a4b\" xlink:show=\"new\" xlink:title=\"psysml:85dbfb10-d456-4c59-a9e0-99da33bb7a4b\" xlink:type=\"simple\"><rect fill=\"#FEFECE\" filter=\"url(#fg558rnf3k48j)\" height=\"42.9375\" id=\"E2\" style=\"stroke: #A80036; stroke-width: 1.5;\" width=\"126\" x=\"538\" y=\"41\"/><ellipse cx=\"555.25\" cy=\"59.9688\" fill=\"#A52A2A\" rx=\"11\" ry=\"11\" style=\"stroke: #A80036; stroke-width: 1.0;\"/><path d=\"M554.8438,55.7813 L554.8438,63.7656 L555.5,63.7656 Q556.9375,63.7656 557.5469,62.8594 Q558.1719,61.9375 558.1719,59.7656 Q558.1719,57.5938 557.5469,56.6875 Q556.9375,55.7813 555.5,55.7813 L554.8438,55.7813 Z M552.3906,53.5781 L555.0156,53.5781 Q558.0469,53.5781 559.375,55.0313 Q560.7188,56.4688 560.7188,59.7656 Q560.7188,63.0625 559.375,64.5156 Q558.0469,65.9688 555.0156,65.9688 L552.3906,65.9688 L552.3906,53.5781 Z \"/><text fill=\"#000000\" font-family=\"sans-serif\" font-size=\"12\" font-style=\"italic\" lengthAdjust=\"spacingAndGlyphs\" textLength=\"93\" x=\"567.75\" y=\"57.1387\">«attribute def»</text><text fill=\"#000000\" font-family=\"sans-serif\" font-size=\"12\" lengthAdjust=\"spacingAndGlyphs\" textLength=\"19\" x=\"604.75\" y=\"71.1074\">Sig</text></a></g><g id=\"E1.E3\"><a href=\"psysml:06ed69bb-03e4-455b-a820-630d0564221d\" target=\"_top\" title=\"psysml:06ed69bb-03e4-455b-a820-630d0564221d\" xlink:actuate=\"onRequest\" xlink:href=\"psysml:06ed69bb-03e4-455b-a820-630d0564221d\" xlink:show=\"new\" xlink:title=\"psysml:06ed69bb-03e4-455b-a820-630d0564221d\" xlink:type=\"simple\"><rect fill=\"#FEFECE\" filter=\"url(#fg558rnf3k48j)\" height=\"42.9375\" id=\"E3\" style=\"stroke: #A80036; stroke-width: 1.5;\" width=\"126\" x=\"377\" y=\"41\"/><ellipse cx=\"394.25\" cy=\"59.9688\" fill=\"#A52A2A\" rx=\"11\" ry=\"11\" style=\"stroke: #A80036; stroke-width: 1.0;\"/><path d=\"M393.8438,55.7813 L393.8438,63.7656 L394.5,63.7656 Q395.9375,63.7656 396.5469,62.8594 Q397.1719,61.9375 397.1719,59.7656 Q397.1719,57.5938 396.5469,56.6875 Q395.9375,55.7813 394.5,55.7813 L393.8438,55.7813 Z M391.3906,53.5781 L394.0156,53.5781 Q397.0469,53.5781 398.375,55.0313 Q399.7188,56.4688 399.7188,59.7656 Q399.7188,63.0625 398.375,64.5156 Q397.0469,65.9688 394.0156,65.9688 L391.3906,65.9688 L391.3906,53.5781 Z \"/><text fill=\"#000000\" font-family=\"sans-serif\" font-size=\"12\" font-style=\"italic\" lengthAdjust=\"spacingAndGlyphs\" textLength=\"93\" x=\"406.75\" y=\"57.1387\">«attribute def»</text><text fill=\"#000000\" font-family=\"sans-serif\" font-size=\"12\" lengthAdjust=\"spacingAndGlyphs\" textLength=\"22\" x=\"442.25\" y=\"71.1074\">Exit</text></a></g><g id=\"E1.E6\"><a href=\"psysml:6343fae7-e97a-4dac-816a-0d66812becae\" target=\"_top\" title=\"psysml:6343fae7-e97a-4dac-816a-0d66812becae\" xlink:actuate=\"onRequest\" xlink:href=\"psysml:6343fae7-e97a-4dac-816a-0d66812becae\" xlink:show=\"new\" xlink:title=\"psysml:6343fae7-e97a-4dac-816a-0d66812becae\" xlink:type=\"simple\"><rect fill=\"#FEFECE\" filter=\"url(#fg558rnf3k48j)\" height=\"42.9375\" id=\"E6\" style=\"stroke: #A80036; stroke-width: 1.5;\" width=\"104\" x=\"238\" y=\"41\"/><ellipse cx=\"255.25\" cy=\"59.9688\" fill=\"#A52A2A\" rx=\"11\" ry=\"11\" style=\"stroke: #A80036; stroke-width: 1.0;\"/><path d=\"M254.8438,55.7813 L254.8438,63.7656 L255.5,63.7656 Q256.9375,63.7656 257.5469,62.8594 Q258.1719,61.9375 258.1719,59.7656 Q258.1719,57.5938 257.5469,56.6875 Q256.9375,55.7813 255.5,55.7813 L254.8438,55.7813 Z M252.3906,53.5781 L255.0156,53.5781 Q258.0469,53.5781 259.375,55.0313 Q260.7188,56.4688 260.7188,59.7656 Q260.7188,63.0625 259.375,64.5156 Q258.0469,65.9688 255.0156,65.9688 L252.3906,65.9688 L252.3906,53.5781 Z \"/><text fill=\"#000000\" font-family=\"sans-serif\" font-size=\"12\" font-style=\"italic\" lengthAdjust=\"spacingAndGlyphs\" textLength=\"71\" x=\"267.75\" y=\"57.1387\">«state def»</text><text fill=\"#000000\" font-family=\"sans-serif\" font-size=\"12\" lengthAdjust=\"spacingAndGlyphs\" textLength=\"8\" x=\"299.25\" y=\"71.1074\">S</text></a></g><g id=\"E1.E4\"><a href=\"psysml:f6292196-12b9-4bba-a758-98820cb4f3f5\" target=\"_top\" title=\"psysml:f6292196-12b9-4bba-a758-98820cb4f3f5\" xlink:actuate=\"onRequest\" xlink:href=\"psysml:f6292196-12b9-4bba-a758-98820cb4f3f5\" xlink:show=\"new\" xlink:title=\"psysml:f6292196-12b9-4bba-a758-98820cb4f3f5\" xlink:type=\"simple\"><rect fill=\"#FEFECE\" filter=\"url(#fg558rnf3k48j)\" height=\"40\" id=\"E4\" rx=\"10\" ry=\"10\" style=\"stroke: #A80036; stroke-width: 1.5;\" width=\"50\" x=\"153\" y=\"42.5\"/><ellipse cx=\"172.5\" cy=\"58.5\" fill=\"#B6DBBB\" rx=\"11\" ry=\"11\" style=\"stroke: #A80036; stroke-width: 1.0;\"/><path d=\"M168.375,60.4219 L168.375,52.6094 L170.8281,52.6094 L170.8281,61.0469 Q170.8281,61.9688 171.2969,62.5 Q171.7813,63.0313 172.6094,63.0313 Q173.4531,63.0313 173.9219,62.5 Q174.3906,61.9688 174.3906,61.0469 L174.3906,52.6094 L176.8438,52.6094 L176.8438,60.4219 Q176.8438,62.9531 175.8438,64.0938 Q174.8438,65.2344 172.6094,65.2344 Q170.3906,65.2344 169.375,64.0938 Q168.375,62.9531 168.375,60.4219 Z \"/><text fill=\"#000000\" font-family=\"sans-serif\" font-size=\"12\" lengthAdjust=\"spacingAndGlyphs\" textLength=\"8\" x=\"187.5\" y=\"62.6543\">p</text></a></g><g id=\"E1.E5\"><a href=\"psysml:d7bec2b6-e32c-41d0-a208-370a3f1c18c8\" target=\"_top\" title=\"psysml:d7bec2b6-e32c-41d0-a208-370a3f1c18c8\" xlink:actuate=\"onRequest\" xlink:href=\"psysml:d7bec2b6-e32c-41d0-a208-370a3f1c18c8\" xlink:show=\"new\" xlink:title=\"psysml:d7bec2b6-e32c-41d0-a208-370a3f1c18c8\" xlink:type=\"simple\"><rect fill=\"#FEFECE\" filter=\"url(#fg558rnf3k48j)\" height=\"42.9375\" id=\"E5\" rx=\"10\" ry=\"10\" style=\"stroke: #A80036; stroke-width: 1.5;\" width=\"86\" x=\"32\" y=\"41\"/><ellipse cx=\"49.25\" cy=\"59.9688\" fill=\"#FFA500\" rx=\"11\" ry=\"11\" style=\"stroke: #A80036; stroke-width: 1.0;\"/><path d=\"M45.125,61.8906 L45.125,54.0781 L47.5781,54.0781 L47.5781,62.5156 Q47.5781,63.4375 48.0469,63.9688 Q48.5313,64.5 49.3594,64.5 Q50.2031,64.5 50.6719,63.9688 Q51.1406,63.4375 51.1406,62.5156 L51.1406,54.0781 L53.5938,54.0781 L53.5938,61.8906 Q53.5938,64.4219 52.5938,65.5625 Q51.5938,66.7031 49.3594,66.7031 Q47.1406,66.7031 46.125,65.5625 Q45.125,64.4219 45.125,61.8906 Z \"/><text fill=\"#000000\" font-family=\"sans-serif\" font-size=\"12\" font-style=\"italic\" lengthAdjust=\"spacingAndGlyphs\" textLength=\"53\" x=\"61.75\" y=\"57.1387\">«action»</text><text fill=\"#000000\" font-family=\"sans-serif\" font-size=\"12\" lengthAdjust=\"spacingAndGlyphs\" textLength=\"20\" x=\"78.25\" y=\"71.1074\">act</text></a></g><!--MD5=[2e6f23a16237684ab77985a13a6a9743]\n",
       "@startuml\r\n",
       "skinparam ranksep 8\r\n",
       "skinparam rectangle {\r\n",
       " backgroundColor<<block>> LightGreen\r\n",
       "}\r\n",
       " \r\n",
       "package \"StateTest\" as E1  [[psysml:7751d53a-3d7b-46fc-b5d8-bf0ae3c7070c ]]  {\r\n",
       "def \"Sig\" as E2  <<(D,brown)attribute def>> [[psysml:85dbfb10-d456-4c59-a9e0-99da33bb7a4b ]] \r\n",
       "def \"Exit\" as E3  <<(D,brown)attribute def>> [[psysml:06ed69bb-03e4-455b-a820-630d0564221d ]] \r\n",
       "rec usage \"p\" as E4  [[psysml:f6292196-12b9-4bba-a758-98820cb4f3f5 ]] {\r\n",
       "}\r\n",
       "rec usage \"act\" as E5  <<(U,orange)action>> [[psysml:d7bec2b6-e32c-41d0-a208-370a3f1c18c8 ]] {\r\n",
       "}\r\n",
       "def \"S\" as E6  <<(D,brown)state def>> [[psysml:6343fae7-e97a-4dac-816a-0d66812becae ]] \r\n",
       "}\r\n",
       "@enduml\r\n",
       "\n",
       "PlantUML version 1.2020.13(Sat Jun 13 12:26:38 UTC 2020)\n",
       "(EPL source distribution)\n",
       "Java Runtime: OpenJDK Runtime Environment\n",
       "JVM: OpenJDK 64-Bit Server VM\n",
       "Default Encoding: UTF-8\n",
       "Language: en\n",
       "Country: null\n",
       "--></g></svg>"
      ]
     },
     "execution_count": 33,
     "metadata": {},
     "output_type": "execute_result"
    }
   ],
   "source": [
    "%viz --style=\"PLANTUML\" --view=\"Interconnection\" \"StateTest\""
   ]
  },
  {
   "cell_type": "code",
   "execution_count": 34,
   "id": "faced-premises",
   "metadata": {
    "execution": {
     "iopub.execute_input": "2021-03-25T13:48:15.520955Z",
     "iopub.status.busy": "2021-03-25T13:48:15.520527Z",
     "iopub.status.idle": "2021-03-25T13:48:15.570856Z",
     "shell.execute_reply": "2021-03-25T13:48:15.569190Z"
    }
   },
   "outputs": [
    {
     "data": {
      "image/svg+xml": [
       "<?xml version=\"1.0\" encoding=\"UTF-8\" standalone=\"no\"?><svg xmlns=\"http://www.w3.org/2000/svg\" xmlns:xlink=\"http://www.w3.org/1999/xlink\" contentScriptType=\"application/ecmascript\" contentStyleType=\"text/css\" height=\"456px\" preserveAspectRatio=\"none\" style=\"width:814px;height:456px;background:#000000;\" version=\"1.1\" viewBox=\"0 0 814 456\" width=\"814px\" zoomAndPan=\"magnify\"><defs/><g><rect fill=\"#002107\" height=\"1\" style=\"stroke: #002107; stroke-width: 1.0;\" width=\"1\" x=\"0\" y=\"0\"/><rect fill=\"#EAE2C9\" height=\"65.1875\" style=\"stroke: #EAE2C9; stroke-width: 1.0;\" width=\"813\" x=\"0\" y=\"0\"/><text fill=\"#000000\" font-family=\"sans-serif\" font-size=\"14\" font-weight=\"bold\" lengthAdjust=\"spacingAndGlyphs\" textLength=\"310\" x=\"10\" y=\"12.9951\">Add your own dedication into PlantUML</text><text fill=\"#000000\" font-family=\"sans-serif\" font-size=\"14\" lengthAdjust=\"spacingAndGlyphs\" textLength=\"0\" x=\"14\" y=\"29.292\"/><text fill=\"#000000\" font-family=\"sans-serif\" font-size=\"14\" lengthAdjust=\"spacingAndGlyphs\" textLength=\"154\" x=\"10\" y=\"45.5889\">For just $5 per month!</text><text fill=\"#000000\" font-family=\"sans-serif\" font-size=\"14\" lengthAdjust=\"spacingAndGlyphs\" textLength=\"69\" x=\"10\" y=\"61.8857\">Details on</text><a href=\"http://plantuml.com/dedication\" target=\"_top\" title=\"http://plantuml.com/dedication\" xlink:actuate=\"onRequest\" xlink:href=\"http://plantuml.com/dedication\" xlink:show=\"new\" xlink:title=\"http://plantuml.com/dedication\" xlink:type=\"simple\"><text fill=\"#000000\" font-family=\"sans-serif\" font-size=\"14\" font-style=\"italic\" lengthAdjust=\"spacingAndGlyphs\" textLength=\"213\" x=\"83\" y=\"61.8857\">http://plantuml.com/dedication</text></a><rect fill=\"#000000\" height=\"389.8281\" style=\"stroke: #000000; stroke-width: 1.0;\" width=\"813\" x=\"0\" y=\"65.1875\"/><rect fill=\"#33FF02\" height=\"21.2969\" style=\"stroke: #33FF02; stroke-width: 1.0;\" width=\"803\" x=\"5\" y=\"70.1875\"/><text fill=\"#000000\" font-family=\"sans-serif\" font-size=\"14\" font-weight=\"bold\" lengthAdjust=\"spacingAndGlyphs\" textLength=\"178\" x=\"6\" y=\"85.1875\">[From string (line 20) ]</text><text fill=\"#33FF02\" font-family=\"sans-serif\" font-size=\"14\" font-weight=\"bold\" lengthAdjust=\"spacingAndGlyphs\" textLength=\"0\" x=\"10\" y=\"105.4844\"/><text fill=\"#33FF02\" font-family=\"sans-serif\" font-size=\"14\" font-weight=\"bold\" lengthAdjust=\"spacingAndGlyphs\" textLength=\"79\" x=\"5\" y=\"121.7813\">@startuml</text><text fill=\"#33FF02\" font-family=\"sans-serif\" font-size=\"14\" font-weight=\"bold\" lengthAdjust=\"spacingAndGlyphs\" textLength=\"165\" x=\"5\" y=\"138.0781\">skinparam ranksep 8</text><text fill=\"#33FF02\" font-family=\"sans-serif\" font-size=\"14\" font-weight=\"bold\" lengthAdjust=\"spacingAndGlyphs\" textLength=\"0\" x=\"10\" y=\"154.375\"/><text fill=\"#33FF02\" font-family=\"sans-serif\" font-size=\"14\" font-weight=\"bold\" lengthAdjust=\"spacingAndGlyphs\" textLength=\"803\" x=\"5\" y=\"170.6719\">rec usage \"act\" as E1  &lt;&lt;(U,orange)action&gt;&gt; [[psysml:d7bec2b6-e32c-41d0-a208-370a3f1c18c8 ]] {</text><text fill=\"#33FF02\" font-family=\"sans-serif\" font-size=\"14\" font-weight=\"bold\" lengthAdjust=\"spacingAndGlyphs\" textLength=\"10\" x=\"5\" y=\"186.9688\">}</text><text fill=\"#33FF02\" font-family=\"sans-serif\" font-size=\"14\" font-weight=\"bold\" lengthAdjust=\"spacingAndGlyphs\" textLength=\"0\" x=\"10\" y=\"203.2656\"/><text fill=\"#33FF02\" font-family=\"sans-serif\" font-size=\"14\" font-weight=\"bold\" lengthAdjust=\"spacingAndGlyphs\" textLength=\"784\" x=\"5\" y=\"219.5625\">rec def \"S\" as E2  &lt;&lt;(D,brown)state def&gt;&gt; [[psysml:6343fae7-e97a-4dac-816a-0d66812becae ]] {</text><text fill=\"#33FF02\" font-family=\"sans-serif\" font-size=\"14\" font-weight=\"bold\" lengthAdjust=\"spacingAndGlyphs\" textLength=\"771\" x=\"5\" y=\"235.8594\">rec usage \"A\" as E3 &lt;&lt;perform action&gt;&gt; [[psysml:8359d21e-76a2-4117-aa0c-e497139fc203 ]] {</text><text fill=\"#33FF02\" font-family=\"sans-serif\" font-size=\"14\" font-weight=\"bold\" lengthAdjust=\"spacingAndGlyphs\" textLength=\"10\" x=\"5\" y=\"252.1563\">}</text><text fill=\"#33FF02\" font-family=\"sans-serif\" font-size=\"14\" font-weight=\"bold\" lengthAdjust=\"spacingAndGlyphs\" textLength=\"0\" x=\"10\" y=\"268.4531\"/><text fill=\"#33FF02\" font-family=\"sans-serif\" font-size=\"14\" font-weight=\"bold\" lengthAdjust=\"spacingAndGlyphs\" textLength=\"757\" x=\"5\" y=\"284.75\">rec usage \"B\" as E4 &lt;&lt;perform action&gt;&gt; [[psysml:fefee72e-42fb-4d4a-8086-a3c1a01af58c ]] {</text><text fill=\"#33FF02\" font-family=\"sans-serif\" font-size=\"14\" font-weight=\"bold\" lengthAdjust=\"spacingAndGlyphs\" textLength=\"10\" x=\"5\" y=\"301.0469\">}</text><text fill=\"#33FF02\" font-family=\"sans-serif\" font-size=\"14\" font-weight=\"bold\" lengthAdjust=\"spacingAndGlyphs\" textLength=\"0\" x=\"10\" y=\"317.3438\"/><text fill=\"#33FF02\" font-family=\"sans-serif\" font-size=\"14\" font-weight=\"bold\" lengthAdjust=\"spacingAndGlyphs\" textLength=\"786\" x=\"5\" y=\"333.6406\">rec usage \"act\" as E5 &lt;&lt;perform action&gt;&gt; [[psysml:0785ac9a-a9d7-4330-a90b-536bd85a1c26 ]] {</text><text fill=\"#33FF02\" font-family=\"sans-serif\" font-size=\"14\" font-weight=\"bold\" lengthAdjust=\"spacingAndGlyphs\" textLength=\"10\" x=\"5\" y=\"349.9375\">}</text><text fill=\"#33FF02\" font-family=\"sans-serif\" font-size=\"14\" font-weight=\"bold\" lengthAdjust=\"spacingAndGlyphs\" textLength=\"0\" x=\"10\" y=\"366.2344\"/><text fill=\"#33FF02\" font-family=\"sans-serif\" font-size=\"14\" font-weight=\"bold\" lengthAdjust=\"spacingAndGlyphs\" textLength=\"790\" x=\"5\" y=\"382.5313\">rec usage \"S1\" as E6  &lt;&lt;(U,orange)state&gt;&gt; [[psysml:df9bf7b7-ea8a-42e1-9b23-b8091030681c ]] {</text><text fill=\"#33FF02\" font-family=\"sans-serif\" font-size=\"14\" font-weight=\"bold\" lengthAdjust=\"spacingAndGlyphs\" textLength=\"10\" x=\"5\" y=\"398.8281\">}</text><text fill=\"#33FF02\" font-family=\"sans-serif\" font-size=\"14\" font-weight=\"bold\" lengthAdjust=\"spacingAndGlyphs\" textLength=\"0\" x=\"10\" y=\"415.125\"/><text fill=\"#33FF02\" font-family=\"sans-serif\" font-size=\"14\" font-weight=\"bold\" lengthAdjust=\"spacingAndGlyphs\" textLength=\"10\" x=\"5\" y=\"431.4219\">{</text><text fill=\"#FF0000\" font-family=\"sans-serif\" font-size=\"14\" font-weight=\"bold\" lengthAdjust=\"spacingAndGlyphs\" textLength=\"106\" x=\"10\" y=\"447.7188\">Syntax Error?</text><!--MD5=[05ad6cf732fcd7c2c506ffa00c4c7b9f]\n",
       "@startuml\r\n",
       "skinparam ranksep 8\r\n",
       " \r\n",
       "rec usage \"act\" as E1  <<(U,orange)action>> [[psysml:d7bec2b6-e32c-41d0-a208-370a3f1c18c8 ]] {\r\n",
       "}\r\n",
       "\r\n",
       "rec def \"S\" as E2  <<(D,brown)state def>> [[psysml:6343fae7-e97a-4dac-816a-0d66812becae ]] {\r\n",
       "rec usage \"A\" as E3 <<perform action>> [[psysml:8359d21e-76a2-4117-aa0c-e497139fc203 ]] {\r\n",
       "}\r\n",
       "\r\n",
       "rec usage \"B\" as E4 <<perform action>> [[psysml:fefee72e-42fb-4d4a-8086-a3c1a01af58c ]] {\r\n",
       "}\r\n",
       "\r\n",
       "rec usage \"act\" as E5 <<perform action>> [[psysml:0785ac9a-a9d7-4330-a90b-536bd85a1c26 ]] {\r\n",
       "}\r\n",
       "\r\n",
       "rec usage \"S1\" as E6  <<(U,orange)state>> [[psysml:df9bf7b7-ea8a-42e1-9b23-b8091030681c ]] {\r\n",
       "}\r\n",
       "\r\n",
       "{\r\n",
       "{\r\n",
       "}\r\n",
       "\r\n",
       "rec usage \"D\" as E7 <<perform action>> [[psysml:13511cfd-781a-4ec2-8fcf-a4a28f7b6394 ]] {\r\n",
       "}\r\n",
       "\r\n",
       "}\r\n",
       "\r\n",
       "rec usage \"S2\" as E8  <<(U,orange)state>> [[psysml:372708ac-c185-450b-8b20-5b0e6796b1d2 ]] {\r\n",
       "rec usage \"doAction\" as E9 <<send action>> [[psysml:db8ff6bb-65b2-44b6-939f-52bfaf067d5c ]] {\r\n",
       "portin \"$x\" as E10  [[psysml:f2ac6743-4d1a-421e-9e84-f3280953fc52 ]] \r\n",
       "portout \"$result\" as E11  [[psysml:58832e21-8b8c-4456-b993-1dc2ff31e51d ]] \r\n",
       "}\r\n",
       "\r\n",
       "}\r\n",
       "\r\n",
       "{\r\n",
       "{\r\n",
       "}\r\n",
       "\r\n",
       "}\r\n",
       "\r\n",
       "rec usage \"T\" as E12  <<(U,orange)transition>> [[psysml:8fe1fd83-9e96-4978-be75-1a7ead5c4a85 ]] {\r\n",
       "rec usage \"S2\" as E13  <<(U,orange)state>> [[psysml:372708ac-c185-450b-8b20-5b0e6796b1d2 ]] {\r\n",
       "rec usage \"doAction\" as E14 <<send action>> [[psysml:db8ff6bb-65b2-44b6-939f-52bfaf067d5c ]] {\r\n",
       "portin \"$x\" as E15  [[psysml:f2ac6743-4d1a-421e-9e84-f3280953fc52 ]] \r\n",
       "portout \"$result\" as E16  [[psysml:58832e21-8b8c-4456-b993-1dc2ff31e51d ]] \r\n",
       "}\r\n",
       "\r\n",
       "}\r\n",
       "\r\n",
       "{\r\n",
       "}\r\n",
       "\r\n",
       "portout \"$result\" as E17  [[psysml:19fa8e9c-57e3-4ff0-b297-c44a7cb57e28 ]] \r\n",
       "{\r\n",
       "}\r\n",
       "\r\n",
       "}\r\n",
       "\r\n",
       "}\r\n",
       "\r\n",
       "@enduml\r\n",
       "\n",
       "PlantUML version 1.2020.13(Sat Jun 13 12:26:38 UTC 2020)\n",
       "(EPL source distribution)\n",
       "Java Runtime: OpenJDK Runtime Environment\n",
       "JVM: OpenJDK 64-Bit Server VM\n",
       "Default Encoding: UTF-8\n",
       "Language: en\n",
       "Country: null\n",
       "--></g></svg>"
      ]
     },
     "execution_count": 34,
     "metadata": {},
     "output_type": "execute_result"
    }
   ],
   "source": [
    "%viz --style=\"PLANTUML\" --view=\"Action\" \"StateTest\""
   ]
  },
  {
   "cell_type": "code",
   "execution_count": 35,
   "id": "latter-bunny",
   "metadata": {
    "execution": {
     "iopub.execute_input": "2021-03-25T13:48:15.620973Z",
     "iopub.status.busy": "2021-03-25T13:48:15.620437Z",
     "iopub.status.idle": "2021-03-25T13:48:16.031284Z",
     "shell.execute_reply": "2021-03-25T13:48:16.029366Z"
    }
   },
   "outputs": [
    {
     "data": {
      "image/svg+xml": [
       "<?xml version=\"1.0\" encoding=\"UTF-8\" standalone=\"no\"?><svg xmlns=\"http://www.w3.org/2000/svg\" xmlns:xlink=\"http://www.w3.org/1999/xlink\" contentScriptType=\"application/ecmascript\" contentStyleType=\"text/css\" height=\"471px\" preserveAspectRatio=\"none\" style=\"width:702px;height:471px;\" version=\"1.1\" viewBox=\"0 0 702 471\" width=\"702px\" zoomAndPan=\"magnify\"><defs><filter height=\"300%\" id=\"flhlvgtimh70m\" width=\"300%\" x=\"-1\" y=\"-1\"><feGaussianBlur result=\"blurOut\" stdDeviation=\"2.0\"/><feColorMatrix in=\"blurOut\" result=\"blurOut2\" type=\"matrix\" values=\"0 0 0 0 0 0 0 0 0 0 0 0 0 0 0 0 0 0 .4 0\"/><feOffset dx=\"4.0\" dy=\"4.0\" in=\"blurOut2\" result=\"blurOut3\"/><feBlend in=\"SourceGraphic\" in2=\"blurOut3\" mode=\"normal\"/></filter></defs><g><!--MD5=[fbc87193dbaf4d95561dea2c320d4a47]\n",
       "cluster E1--><a href=\"psysml:7751d53a-3d7b-46fc-b5d8-bf0ae3c7070c\" target=\"_top\" title=\"psysml:7751d53a-3d7b-46fc-b5d8-bf0ae3c7070c\" xlink:actuate=\"onRequest\" xlink:href=\"psysml:7751d53a-3d7b-46fc-b5d8-bf0ae3c7070c\" xlink:show=\"new\" xlink:title=\"psysml:7751d53a-3d7b-46fc-b5d8-bf0ae3c7070c\" xlink:type=\"simple\"><polygon fill=\"#FFFFFF\" filter=\"url(#flhlvgtimh70m)\" points=\"16,6,98,6,105,28.2969,680,28.2969,680,459,16,459,16,6\" style=\"stroke: #000000; stroke-width: 1.5;\"/><line style=\"stroke: #000000; stroke-width: 1.5;\" x1=\"16\" x2=\"105\" y1=\"28.2969\" y2=\"28.2969\"/><text fill=\"#000000\" font-family=\"sans-serif\" font-size=\"14\" font-weight=\"bold\" lengthAdjust=\"spacingAndGlyphs\" textLength=\"76\" x=\"20\" y=\"20.9951\">StateTest</text></a><!--MD5=[b4997ac47864f28c2f74865a473b2911]\n",
       "class E2--><a href=\"psysml:85dbfb10-d456-4c59-a9e0-99da33bb7a4b\" target=\"_top\" title=\"psysml:85dbfb10-d456-4c59-a9e0-99da33bb7a4b\" xlink:actuate=\"onRequest\" xlink:href=\"psysml:85dbfb10-d456-4c59-a9e0-99da33bb7a4b\" xlink:show=\"new\" xlink:title=\"psysml:85dbfb10-d456-4c59-a9e0-99da33bb7a4b\" xlink:type=\"simple\"><rect fill=\"#FEFECE\" filter=\"url(#flhlvgtimh70m)\" height=\"58.7422\" id=\"E2\" style=\"stroke: #A80036; stroke-width: 1.5;\" width=\"121\" x=\"542.5\" y=\"91.5\"/><ellipse cx=\"557.5\" cy=\"110.4688\" fill=\"#A52A2A\" rx=\"11\" ry=\"11\" style=\"stroke: #A80036; stroke-width: 1.0;\"/><path d=\"M557.0938,106.2813 L557.0938,114.2656 L557.75,114.2656 Q559.1875,114.2656 559.7969,113.3594 Q560.4219,112.4375 560.4219,110.2656 Q560.4219,108.0938 559.7969,107.1875 Q559.1875,106.2813 557.75,106.2813 L557.0938,106.2813 Z M554.6406,104.0781 L557.2656,104.0781 Q560.2969,104.0781 561.625,105.5313 Q562.9688,106.9688 562.9688,110.2656 Q562.9688,113.5625 561.625,115.0156 Q560.2969,116.4688 557.2656,116.4688 L554.6406,116.4688 L554.6406,104.0781 Z \"/><text fill=\"#000000\" font-family=\"sans-serif\" font-size=\"12\" font-style=\"italic\" lengthAdjust=\"spacingAndGlyphs\" textLength=\"93\" x=\"569.5\" y=\"107.6387\">«attribute def»</text><text fill=\"#000000\" font-family=\"sans-serif\" font-size=\"12\" lengthAdjust=\"spacingAndGlyphs\" textLength=\"19\" x=\"606.5\" y=\"121.6074\">Sig</text><line style=\"stroke: #A80036; stroke-width: 1.5;\" x1=\"543.5\" x2=\"662.5\" y1=\"129.4375\" y2=\"129.4375\"/><text fill=\"#000000\" font-family=\"sans-serif\" font-size=\"11\" lengthAdjust=\"spacingAndGlyphs\" textLength=\"6\" x=\"548.5\" y=\"143.6479\">x</text></a><!--MD5=[09b614a08d8cba4a07c9adeb5e0fee81]\n",
       "class E3--><a href=\"psysml:06ed69bb-03e4-455b-a820-630d0564221d\" target=\"_top\" title=\"psysml:06ed69bb-03e4-455b-a820-630d0564221d\" xlink:actuate=\"onRequest\" xlink:href=\"psysml:06ed69bb-03e4-455b-a820-630d0564221d\" xlink:show=\"new\" xlink:title=\"psysml:06ed69bb-03e4-455b-a820-630d0564221d\" xlink:type=\"simple\"><rect fill=\"#FEFECE\" filter=\"url(#flhlvgtimh70m)\" height=\"45.9375\" id=\"E3\" style=\"stroke: #A80036; stroke-width: 1.5;\" width=\"121\" x=\"386.5\" y=\"98\"/><ellipse cx=\"401.5\" cy=\"116.9688\" fill=\"#A52A2A\" rx=\"11\" ry=\"11\" style=\"stroke: #A80036; stroke-width: 1.0;\"/><path d=\"M401.0938,112.7813 L401.0938,120.7656 L401.75,120.7656 Q403.1875,120.7656 403.7969,119.8594 Q404.4219,118.9375 404.4219,116.7656 Q404.4219,114.5938 403.7969,113.6875 Q403.1875,112.7813 401.75,112.7813 L401.0938,112.7813 Z M398.6406,110.5781 L401.2656,110.5781 Q404.2969,110.5781 405.625,112.0313 Q406.9688,113.4688 406.9688,116.7656 Q406.9688,120.0625 405.625,121.5156 Q404.2969,122.9688 401.2656,122.9688 L398.6406,122.9688 L398.6406,110.5781 Z \"/><text fill=\"#000000\" font-family=\"sans-serif\" font-size=\"12\" font-style=\"italic\" lengthAdjust=\"spacingAndGlyphs\" textLength=\"93\" x=\"413.5\" y=\"114.1387\">«attribute def»</text><text fill=\"#000000\" font-family=\"sans-serif\" font-size=\"12\" lengthAdjust=\"spacingAndGlyphs\" textLength=\"22\" x=\"449\" y=\"128.1074\">Exit</text><line style=\"stroke: #A80036; stroke-width: 1.5;\" x1=\"387.5\" x2=\"506.5\" y1=\"135.9375\" y2=\"135.9375\"/></a><!--MD5=[ebbe1d658d1005bcc118a6aa81145e00]\n",
       "class E4--><a href=\"psysml:f6292196-12b9-4bba-a758-98820cb4f3f5\" target=\"_top\" title=\"psysml:f6292196-12b9-4bba-a758-98820cb4f3f5\" xlink:actuate=\"onRequest\" xlink:href=\"psysml:f6292196-12b9-4bba-a758-98820cb4f3f5\" xlink:show=\"new\" xlink:title=\"psysml:f6292196-12b9-4bba-a758-98820cb4f3f5\" xlink:type=\"simple\"><rect fill=\"#FEFECE\" filter=\"url(#flhlvgtimh70m)\" height=\"45.9375\" id=\"E4\" rx=\"10\" ry=\"10\" style=\"stroke: #A80036; stroke-width: 1.5;\" width=\"68\" x=\"283\" y=\"98\"/><ellipse cx=\"298\" cy=\"116.9688\" fill=\"#32CD32\" rx=\"11\" ry=\"11\" style=\"stroke: #A80036; stroke-width: 1.0;\"/><path d=\"M297.7969,112.6406 L297.7969,116.2656 L298.7969,116.2656 Q300,116.2656 300.4844,115.8594 Q300.9688,115.4531 300.9688,114.4531 Q300.9688,113.4531 300.4844,113.0469 Q300,112.6406 298.7969,112.6406 L297.7969,112.6406 Z M295.3438,110.5781 L298.7031,110.5781 Q301.2656,110.5781 302.3906,111.5 Q303.5156,112.4063 303.5156,114.4531 Q303.5156,116.5 302.3906,117.4219 Q301.2656,118.3281 298.7031,118.3281 L297.7969,118.3281 L297.7969,122.9688 L295.3438,122.9688 L295.3438,110.5781 Z \"/><text fill=\"#000000\" font-family=\"sans-serif\" font-size=\"12\" font-style=\"italic\" lengthAdjust=\"spacingAndGlyphs\" textLength=\"40\" x=\"310\" y=\"114.1387\">«part»</text><text fill=\"#000000\" font-family=\"sans-serif\" font-size=\"12\" lengthAdjust=\"spacingAndGlyphs\" textLength=\"8\" x=\"326\" y=\"128.1074\">p</text><line style=\"stroke: #A80036; stroke-width: 1.5;\" x1=\"284\" x2=\"350\" y1=\"135.9375\" y2=\"135.9375\"/></a><!--MD5=[270fce915f116d4de14055a7c1d9a0f3]\n",
       "class E5--><a href=\"psysml:d7bec2b6-e32c-41d0-a208-370a3f1c18c8\" target=\"_top\" title=\"psysml:d7bec2b6-e32c-41d0-a208-370a3f1c18c8\" xlink:actuate=\"onRequest\" xlink:href=\"psysml:d7bec2b6-e32c-41d0-a208-370a3f1c18c8\" xlink:show=\"new\" xlink:title=\"psysml:d7bec2b6-e32c-41d0-a208-370a3f1c18c8\" xlink:type=\"simple\"><rect fill=\"#FEFECE\" filter=\"url(#flhlvgtimh70m)\" height=\"45.9375\" id=\"E5\" rx=\"10\" ry=\"10\" style=\"stroke: #A80036; stroke-width: 1.5;\" width=\"81\" x=\"166.5\" y=\"98\"/><ellipse cx=\"181.5\" cy=\"116.9688\" fill=\"#FFA500\" rx=\"11\" ry=\"11\" style=\"stroke: #A80036; stroke-width: 1.0;\"/><path d=\"M177.375,118.8906 L177.375,111.0781 L179.8281,111.0781 L179.8281,119.5156 Q179.8281,120.4375 180.2969,120.9688 Q180.7813,121.5 181.6094,121.5 Q182.4531,121.5 182.9219,120.9688 Q183.3906,120.4375 183.3906,119.5156 L183.3906,111.0781 L185.8438,111.0781 L185.8438,118.8906 Q185.8438,121.4219 184.8438,122.5625 Q183.8438,123.7031 181.6094,123.7031 Q179.3906,123.7031 178.375,122.5625 Q177.375,121.4219 177.375,118.8906 Z \"/><text fill=\"#000000\" font-family=\"sans-serif\" font-size=\"12\" font-style=\"italic\" lengthAdjust=\"spacingAndGlyphs\" textLength=\"53\" x=\"193.5\" y=\"114.1387\">«action»</text><text fill=\"#000000\" font-family=\"sans-serif\" font-size=\"12\" lengthAdjust=\"spacingAndGlyphs\" textLength=\"20\" x=\"210\" y=\"128.1074\">act</text><line style=\"stroke: #A80036; stroke-width: 1.5;\" x1=\"167.5\" x2=\"246.5\" y1=\"135.9375\" y2=\"135.9375\"/></a><!--MD5=[60a26617385b1d2d0262a64233df1f8d]\n",
       "class E6--><a href=\"psysml:6343fae7-e97a-4dac-816a-0d66812becae\" target=\"_top\" title=\"psysml:6343fae7-e97a-4dac-816a-0d66812becae\" xlink:actuate=\"onRequest\" xlink:href=\"psysml:6343fae7-e97a-4dac-816a-0d66812becae\" xlink:show=\"new\" xlink:title=\"psysml:6343fae7-e97a-4dac-816a-0d66812becae\" xlink:type=\"simple\"><rect fill=\"#FEFECE\" filter=\"url(#flhlvgtimh70m)\" height=\"160.375\" id=\"E6\" style=\"stroke: #A80036; stroke-width: 1.5;\" width=\"99\" x=\"32.5\" y=\"41\"/><ellipse cx=\"47.5\" cy=\"59.9688\" fill=\"#A52A2A\" rx=\"11\" ry=\"11\" style=\"stroke: #A80036; stroke-width: 1.0;\"/><path d=\"M47.0938,55.7813 L47.0938,63.7656 L47.75,63.7656 Q49.1875,63.7656 49.7969,62.8594 Q50.4219,61.9375 50.4219,59.7656 Q50.4219,57.5938 49.7969,56.6875 Q49.1875,55.7813 47.75,55.7813 L47.0938,55.7813 Z M44.6406,53.5781 L47.2656,53.5781 Q50.2969,53.5781 51.625,55.0313 Q52.9688,56.4688 52.9688,59.7656 Q52.9688,63.0625 51.625,64.5156 Q50.2969,65.9688 47.2656,65.9688 L44.6406,65.9688 L44.6406,53.5781 Z \"/><text fill=\"#000000\" font-family=\"sans-serif\" font-size=\"12\" font-style=\"italic\" lengthAdjust=\"spacingAndGlyphs\" textLength=\"71\" x=\"59.5\" y=\"57.1387\">«state def»</text><text fill=\"#000000\" font-family=\"sans-serif\" font-size=\"12\" lengthAdjust=\"spacingAndGlyphs\" textLength=\"8\" x=\"91\" y=\"71.1074\">S</text><line style=\"stroke: #A80036; stroke-width: 1.5;\" x1=\"33.5\" x2=\"130.5\" y1=\"78.9375\" y2=\"78.9375\"/><text fill=\"#000000\" font-family=\"sans-serif\" font-size=\"11\" lengthAdjust=\"spacingAndGlyphs\" textLength=\"17\" x=\"38.5\" y=\"109.9526\">act</text><text fill=\"#000000\" font-family=\"sans-serif\" font-size=\"11\" lengthAdjust=\"spacingAndGlyphs\" textLength=\"7\" x=\"38.5\" y=\"122.7573\">A</text><text fill=\"#000000\" font-family=\"sans-serif\" font-size=\"11\" lengthAdjust=\"spacingAndGlyphs\" textLength=\"8\" x=\"38.5\" y=\"135.562\">B</text><line style=\"stroke: #A80036; stroke-width: 1.0;\" x1=\"33.5\" x2=\"38.5\" y1=\"93.3398\" y2=\"93.3398\"/><text fill=\"#000000\" font-family=\"sans-serif\" font-size=\"11\" lengthAdjust=\"spacingAndGlyphs\" textLength=\"87\" x=\"38.5\" y=\"96.6479\">performActions</text><line style=\"stroke: #A80036; stroke-width: 1.0;\" x1=\"125.5\" x2=\"130.5\" y1=\"93.3398\" y2=\"93.3398\"/><text fill=\"#000000\" font-family=\"sans-serif\" font-size=\"11\" lengthAdjust=\"spacingAndGlyphs\" textLength=\"15\" x=\"38.5\" y=\"165.1714\">S1</text><line style=\"stroke: #A80036; stroke-width: 1.0;\" x1=\"33.5\" x2=\"64\" y1=\"148.5586\" y2=\"148.5586\"/><text fill=\"#000000\" font-family=\"sans-serif\" font-size=\"11\" lengthAdjust=\"spacingAndGlyphs\" textLength=\"36\" x=\"64\" y=\"151.8667\">states</text><line style=\"stroke: #A80036; stroke-width: 1.0;\" x1=\"100\" x2=\"130.5\" y1=\"148.5586\" y2=\"148.5586\"/><text fill=\"#000000\" font-family=\"sans-serif\" font-size=\"11\" lengthAdjust=\"spacingAndGlyphs\" textLength=\"7\" x=\"38.5\" y=\"194.7808\">T</text><line style=\"stroke: #A80036; stroke-width: 1.0;\" x1=\"33.5\" x2=\"51.5\" y1=\"178.168\" y2=\"178.168\"/><text fill=\"#000000\" font-family=\"sans-serif\" font-size=\"11\" lengthAdjust=\"spacingAndGlyphs\" textLength=\"61\" x=\"51.5\" y=\"181.4761\">transitions</text><line style=\"stroke: #A80036; stroke-width: 1.0;\" x1=\"112.5\" x2=\"130.5\" y1=\"178.168\" y2=\"178.168\"/></a><!--MD5=[1dd1bfd58a279cf63c5f349dbc8fc6a1]\n",
       "class E11--><a href=\"psysml:372708ac-c185-450b-8b20-5b0e6796b1d2\" target=\"_top\" title=\"psysml:372708ac-c185-450b-8b20-5b0e6796b1d2\" xlink:actuate=\"onRequest\" xlink:href=\"psysml:372708ac-c185-450b-8b20-5b0e6796b1d2\" xlink:show=\"new\" xlink:title=\"psysml:372708ac-c185-450b-8b20-5b0e6796b1d2\" xlink:type=\"simple\"><rect fill=\"#FEFECE\" filter=\"url(#flhlvgtimh70m)\" height=\"45.9375\" id=\"E11\" rx=\"10\" ry=\"10\" style=\"stroke: #A80036; stroke-width: 1.5;\" width=\"75\" x=\"48.5\" y=\"261\"/><ellipse cx=\"63.5\" cy=\"279.9688\" fill=\"#FFA500\" rx=\"11\" ry=\"11\" style=\"stroke: #A80036; stroke-width: 1.0;\"/><path d=\"M59.375,281.8906 L59.375,274.0781 L61.8281,274.0781 L61.8281,282.5156 Q61.8281,283.4375 62.2969,283.9688 Q62.7813,284.5 63.6094,284.5 Q64.4531,284.5 64.9219,283.9688 Q65.3906,283.4375 65.3906,282.5156 L65.3906,274.0781 L67.8438,274.0781 L67.8438,281.8906 Q67.8438,284.4219 66.8438,285.5625 Q65.8438,286.7031 63.6094,286.7031 Q61.3906,286.7031 60.375,285.5625 Q59.375,284.4219 59.375,281.8906 Z \"/><text fill=\"#000000\" font-family=\"sans-serif\" font-size=\"12\" font-style=\"italic\" lengthAdjust=\"spacingAndGlyphs\" textLength=\"47\" x=\"75.5\" y=\"277.1387\">«state»</text><text fill=\"#000000\" font-family=\"sans-serif\" font-size=\"12\" lengthAdjust=\"spacingAndGlyphs\" textLength=\"16\" x=\"91\" y=\"291.1074\">S2</text><line style=\"stroke: #A80036; stroke-width: 1.5;\" x1=\"49.5\" x2=\"122.5\" y1=\"298.9375\" y2=\"298.9375\"/></a><!--MD5=[49a0ec8f00dab7302a31f22d0f0fe584]\n",
       "class E12--><a href=\"psysml:db8ff6bb-65b2-44b6-939f-52bfaf067d5c\" target=\"_top\" title=\"psysml:db8ff6bb-65b2-44b6-939f-52bfaf067d5c\" xlink:actuate=\"onRequest\" xlink:href=\"psysml:db8ff6bb-65b2-44b6-939f-52bfaf067d5c\" xlink:show=\"new\" xlink:title=\"psysml:db8ff6bb-65b2-44b6-939f-52bfaf067d5c\" xlink:type=\"simple\"><rect fill=\"#FEFECE\" filter=\"url(#flhlvgtimh70m)\" height=\"75.5469\" id=\"E12\" rx=\"10\" ry=\"10\" style=\"stroke: #A80036; stroke-width: 1.5;\" width=\"116\" x=\"32\" y=\"367\"/><ellipse cx=\"47\" cy=\"385.9688\" fill=\"#B6DBBB\" rx=\"11\" ry=\"11\" style=\"stroke: #A80036; stroke-width: 1.0;\"/><path d=\"M42.875,387.8906 L42.875,380.0781 L45.3281,380.0781 L45.3281,388.5156 Q45.3281,389.4375 45.7969,389.9688 Q46.2813,390.5 47.1094,390.5 Q47.9531,390.5 48.4219,389.9688 Q48.8906,389.4375 48.8906,388.5156 L48.8906,380.0781 L51.3438,380.0781 L51.3438,387.8906 Q51.3438,390.4219 50.3438,391.5625 Q49.3438,392.7031 47.1094,392.7031 Q44.8906,392.7031 43.875,391.5625 Q42.875,390.4219 42.875,387.8906 Z \"/><text fill=\"#000000\" font-family=\"sans-serif\" font-size=\"12\" font-style=\"italic\" lengthAdjust=\"spacingAndGlyphs\" textLength=\"88\" x=\"59\" y=\"383.1387\">«send action»</text><text fill=\"#000000\" font-family=\"sans-serif\" font-size=\"12\" lengthAdjust=\"spacingAndGlyphs\" textLength=\"55\" x=\"75.5\" y=\"397.1074\">doAction</text><line style=\"stroke: #A80036; stroke-width: 1.5;\" x1=\"33\" x2=\"147\" y1=\"404.9375\" y2=\"404.9375\"/><text fill=\"#000000\" font-family=\"sans-serif\" font-size=\"11\" lengthAdjust=\"spacingAndGlyphs\" textLength=\"25\" x=\"38\" y=\"435.9526\">item</text><line style=\"stroke: #A80036; stroke-width: 1.0;\" x1=\"33\" x2=\"52.5\" y1=\"419.3398\" y2=\"419.3398\"/><text fill=\"#000000\" font-family=\"sans-serif\" font-size=\"11\" lengthAdjust=\"spacingAndGlyphs\" textLength=\"75\" x=\"52.5\" y=\"422.6479\">itemFeatures</text><line style=\"stroke: #A80036; stroke-width: 1.0;\" x1=\"127.5\" x2=\"147\" y1=\"419.3398\" y2=\"419.3398\"/></a><!--MD5=[1f5f03483f7de0d5b3680a7f6650997f]\n",
       "reverse link E6 to E11--><a href=\"psysml:372708ac-c185-450b-8b20-5b0e6796b1d2\" target=\"_top\" title=\"psysml:372708ac-c185-450b-8b20-5b0e6796b1d2\" xlink:actuate=\"onRequest\" xlink:href=\"psysml:372708ac-c185-450b-8b20-5b0e6796b1d2\" xlink:show=\"new\" xlink:title=\"psysml:372708ac-c185-450b-8b20-5b0e6796b1d2\" xlink:type=\"simple\"><path d=\"M84.29,214.17 C84.72,231.58 85.14,248.25 85.45,260.82 \" fill=\"none\" id=\"E6&lt;-E11\" style=\"stroke: #A80036; stroke-width: 1.0;\"/><polygon fill=\"#A80036\" points=\"83.96,201.09,80.1062,207.1849,84.25,213.0865,88.1038,206.9916,83.96,201.09\" style=\"stroke: #A80036; stroke-width: 1.0;\"/></a><!--MD5=[94adabc162ce7e41b39f13be14fbaeb3]\n",
       "reverse link E11 to E12--><a href=\"psysml:db8ff6bb-65b2-44b6-939f-52bfaf067d5c\" target=\"_top\" title=\"psysml:db8ff6bb-65b2-44b6-939f-52bfaf067d5c\" xlink:actuate=\"onRequest\" xlink:href=\"psysml:db8ff6bb-65b2-44b6-939f-52bfaf067d5c\" xlink:show=\"new\" xlink:title=\"psysml:db8ff6bb-65b2-44b6-939f-52bfaf067d5c\" xlink:type=\"simple\"><path d=\"M87.18,320.23 C87.67,334.82 88.24,351.76 88.74,366.58 \" fill=\"none\" id=\"E11&lt;-E12\" style=\"stroke: #A80036; stroke-width: 1.0;\"/><polygon fill=\"#FFFFFF\" points=\"86.74,307.1,82.9466,313.2327,87.1486,319.093,90.942,312.9603,86.74,307.1\" style=\"stroke: #A80036; stroke-width: 1.0;\"/></a><!--MD5=[e290f5f3698b3e38339463286987c3a4]\n",
       "@startuml\r\n",
       " \r\n",
       "package \"StateTest\" as E1  [[psysml:7751d53a-3d7b-46fc-b5d8-bf0ae3c7070c ]]  {\r\n",
       "comp def \"Sig\" as E2  <<(D,brown)attribute def>> [[psysml:85dbfb10-d456-4c59-a9e0-99da33bb7a4b ]] {\r\n",
       "x\r\n",
       "}\r\n",
       "comp def \"Exit\" as E3  <<(D,brown)attribute def>> [[psysml:06ed69bb-03e4-455b-a820-630d0564221d ]] {\r\n",
       "}\r\n",
       "comp usage \"p\" as E4  << (P,limegreen) part>> [[psysml:f6292196-12b9-4bba-a758-98820cb4f3f5 ]] {\r\n",
       "}\r\n",
       "comp usage \"act\" as E5  <<(U,orange)action>> [[psysml:d7bec2b6-e32c-41d0-a208-370a3f1c18c8 ]] {\r\n",
       "}\r\n",
       "comp def \"S\" as E6  <<(D,brown)state def>> [[psysml:6343fae7-e97a-4dac-816a-0d66812becae ]] {\r\n",
       "- - performActions - -\r\n",
       "act\r\n",
       "A\r\n",
       "B\r\n",
       "- - states - -\r\n",
       "S1\r\n",
       "- - transitions - -\r\n",
       "T\r\n",
       "}\r\n",
       "comp usage \"S2\" as E11  <<(U,orange)state>> [[psysml:372708ac-c185-450b-8b20-5b0e6796b1d2 ]] {\r\n",
       "}\r\n",
       "comp usage \"doAction\" as E12 <<send action>> [[psysml:db8ff6bb-65b2-44b6-939f-52bfaf067d5c ]] {\r\n",
       "- - itemFeatures - -\r\n",
       "item\r\n",
       "}\r\n",
       "E6 *- - E11 [[psysml:372708ac-c185-450b-8b20-5b0e6796b1d2 ]] \r\n",
       "E11 o- - E12 [[psysml:db8ff6bb-65b2-44b6-939f-52bfaf067d5c ]] \r\n",
       "}\r\n",
       "@enduml\r\n",
       "\n",
       "PlantUML version 1.2020.13(Sat Jun 13 12:26:38 UTC 2020)\n",
       "(EPL source distribution)\n",
       "Java Runtime: OpenJDK Runtime Environment\n",
       "JVM: OpenJDK 64-Bit Server VM\n",
       "Default Encoding: UTF-8\n",
       "Language: en\n",
       "Country: null\n",
       "--></g></svg>"
      ]
     },
     "execution_count": 35,
     "metadata": {},
     "output_type": "execute_result"
    }
   ],
   "source": [
    "%viz --style=\"PLANTUML\" --view=\"Sequence\" \"StateTest\""
   ]
  },
  {
   "cell_type": "code",
   "execution_count": 36,
   "id": "helpful-protein",
   "metadata": {
    "execution": {
     "iopub.execute_input": "2021-03-25T13:48:16.082601Z",
     "iopub.status.busy": "2021-03-25T13:48:16.081394Z",
     "iopub.status.idle": "2021-03-25T13:48:16.244346Z",
     "shell.execute_reply": "2021-03-25T13:48:16.242789Z"
    }
   },
   "outputs": [
    {
     "data": {
      "image/svg+xml": [
       "<?xml version=\"1.0\" encoding=\"UTF-8\" standalone=\"no\"?><svg xmlns=\"http://www.w3.org/2000/svg\" xmlns:xlink=\"http://www.w3.org/1999/xlink\" contentScriptType=\"application/ecmascript\" contentStyleType=\"text/css\" height=\"569px\" preserveAspectRatio=\"none\" style=\"width:923px;height:569px;\" version=\"1.1\" viewBox=\"0 0 923 569\" width=\"923px\" zoomAndPan=\"magnify\"><defs><filter height=\"300%\" id=\"f1a50vy75w57wm\" width=\"300%\" x=\"-1\" y=\"-1\"><feGaussianBlur result=\"blurOut\" stdDeviation=\"2.0\"/><feColorMatrix in=\"blurOut\" result=\"blurOut2\" type=\"matrix\" values=\"0 0 0 0 0 0 0 0 0 0 0 0 0 0 0 0 0 0 .4 0\"/><feOffset dx=\"4.0\" dy=\"4.0\" in=\"blurOut2\" result=\"blurOut3\"/><feBlend in=\"SourceGraphic\" in2=\"blurOut3\" mode=\"normal\"/></filter></defs><g><!--MD5=[fbc87193dbaf4d95561dea2c320d4a47]\n",
       "cluster E1--><a href=\"psysml:7751d53a-3d7b-46fc-b5d8-bf0ae3c7070c\" target=\"_top\" title=\"psysml:7751d53a-3d7b-46fc-b5d8-bf0ae3c7070c\" xlink:actuate=\"onRequest\" xlink:href=\"psysml:7751d53a-3d7b-46fc-b5d8-bf0ae3c7070c\" xlink:show=\"new\" xlink:title=\"psysml:7751d53a-3d7b-46fc-b5d8-bf0ae3c7070c\" xlink:type=\"simple\"><polygon fill=\"#FFFFFF\" filter=\"url(#f1a50vy75w57wm)\" points=\"16,6,98,6,105,28.2969,901,28.2969,901,557.5,16,557.5,16,6\" style=\"stroke: #000000; stroke-width: 1.5;\"/><line style=\"stroke: #000000; stroke-width: 1.5;\" x1=\"16\" x2=\"105\" y1=\"28.2969\" y2=\"28.2969\"/><text fill=\"#000000\" font-family=\"sans-serif\" font-size=\"14\" font-weight=\"bold\" lengthAdjust=\"spacingAndGlyphs\" textLength=\"76\" x=\"20\" y=\"20.9951\">StateTest</text></a><!--MD5=[14e3b0961a2654348d326746436168a1]\n",
       "cluster E6--><a href=\"psysml:6343fae7-e97a-4dac-816a-0d66812becae\" target=\"_top\" title=\"psysml:6343fae7-e97a-4dac-816a-0d66812becae\" xlink:actuate=\"onRequest\" xlink:href=\"psysml:6343fae7-e97a-4dac-816a-0d66812becae\" xlink:show=\"new\" xlink:title=\"psysml:6343fae7-e97a-4dac-816a-0d66812becae\" xlink:type=\"simple\"><rect fill=\"#FFFFFF\" filter=\"url(#f1a50vy75w57wm)\" height=\"484.5\" id=\"E6\" style=\"stroke: #A80036; stroke-width: 1.5;\" width=\"327\" x=\"550\" y=\"49\"/><rect fill=\"#FEFECE\" height=\"37.9375\" style=\"stroke: #A80036; stroke-width: 1.5;\" width=\"327\" x=\"550\" y=\"49\"/><text fill=\"#000000\" font-family=\"sans-serif\" font-size=\"12\" font-style=\"italic\" lengthAdjust=\"spacingAndGlyphs\" textLength=\"71\" x=\"678\" y=\"65.1387\">«state def»</text><text fill=\"#000000\" font-family=\"sans-serif\" font-size=\"12\" lengthAdjust=\"spacingAndGlyphs\" textLength=\"8\" x=\"709.5\" y=\"79.1074\">S</text><line style=\"stroke: #A80036; stroke-width: 1.0;\" x1=\"550\" x2=\"877\" y1=\"132.8438\" y2=\"132.8438\"/><text fill=\"#000000\" font-family=\"sans-serif\" font-size=\"12\" font-weight=\"bold\" lengthAdjust=\"spacingAndGlyphs\" textLength=\"38\" x=\"555\" y=\"100.0762\">entry</text><text fill=\"#000000\" font-family=\"sans-serif\" font-size=\"12\" lengthAdjust=\"spacingAndGlyphs\" textLength=\"16\" x=\"593\" y=\"100.0762\">/ A</text><text fill=\"#000000\" font-family=\"sans-serif\" font-size=\"12\" font-weight=\"bold\" lengthAdjust=\"spacingAndGlyphs\" textLength=\"18\" x=\"555\" y=\"114.0449\">do</text><text fill=\"#000000\" font-family=\"sans-serif\" font-size=\"12\" lengthAdjust=\"spacingAndGlyphs\" textLength=\"16\" x=\"573\" y=\"114.0449\">/ B</text><text fill=\"#000000\" font-family=\"sans-serif\" font-size=\"12\" font-weight=\"bold\" lengthAdjust=\"spacingAndGlyphs\" textLength=\"26\" x=\"555\" y=\"128.0137\">exit</text><text fill=\"#000000\" font-family=\"sans-serif\" font-size=\"12\" lengthAdjust=\"spacingAndGlyphs\" textLength=\"28\" x=\"581\" y=\"128.0137\">/ act</text></a><!--MD5=[b4997ac47864f28c2f74865a473b2911]\n",
       "class E2--><a href=\"psysml:85dbfb10-d456-4c59-a9e0-99da33bb7a4b\" target=\"_top\" title=\"psysml:85dbfb10-d456-4c59-a9e0-99da33bb7a4b\" xlink:actuate=\"onRequest\" xlink:href=\"psysml:85dbfb10-d456-4c59-a9e0-99da33bb7a4b\" xlink:show=\"new\" xlink:title=\"psysml:85dbfb10-d456-4c59-a9e0-99da33bb7a4b\" xlink:type=\"simple\"><rect fill=\"#FEFECE\" filter=\"url(#f1a50vy75w57wm)\" height=\"58.7422\" id=\"E2\" style=\"stroke: #A80036; stroke-width: 1.5;\" width=\"121\" x=\"412.5\" y=\"127.5\"/><ellipse cx=\"427.5\" cy=\"146.4688\" fill=\"#A52A2A\" rx=\"11\" ry=\"11\" style=\"stroke: #A80036; stroke-width: 1.0;\"/><path d=\"M427.0938,142.2813 L427.0938,150.2656 L427.75,150.2656 Q429.1875,150.2656 429.7969,149.3594 Q430.4219,148.4375 430.4219,146.2656 Q430.4219,144.0938 429.7969,143.1875 Q429.1875,142.2813 427.75,142.2813 L427.0938,142.2813 Z M424.6406,140.0781 L427.2656,140.0781 Q430.2969,140.0781 431.625,141.5313 Q432.9688,142.9688 432.9688,146.2656 Q432.9688,149.5625 431.625,151.0156 Q430.2969,152.4688 427.2656,152.4688 L424.6406,152.4688 L424.6406,140.0781 Z \"/><text fill=\"#000000\" font-family=\"sans-serif\" font-size=\"12\" font-style=\"italic\" lengthAdjust=\"spacingAndGlyphs\" textLength=\"93\" x=\"439.5\" y=\"143.6387\">«attribute def»</text><text fill=\"#000000\" font-family=\"sans-serif\" font-size=\"12\" lengthAdjust=\"spacingAndGlyphs\" textLength=\"19\" x=\"476.5\" y=\"157.6074\">Sig</text><line style=\"stroke: #A80036; stroke-width: 1.5;\" x1=\"413.5\" x2=\"532.5\" y1=\"165.4375\" y2=\"165.4375\"/><text fill=\"#000000\" font-family=\"sans-serif\" font-size=\"11\" lengthAdjust=\"spacingAndGlyphs\" textLength=\"6\" x=\"418.5\" y=\"179.6479\">x</text></a><!--MD5=[09b614a08d8cba4a07c9adeb5e0fee81]\n",
       "class E3--><a href=\"psysml:06ed69bb-03e4-455b-a820-630d0564221d\" target=\"_top\" title=\"psysml:06ed69bb-03e4-455b-a820-630d0564221d\" xlink:actuate=\"onRequest\" xlink:href=\"psysml:06ed69bb-03e4-455b-a820-630d0564221d\" xlink:show=\"new\" xlink:title=\"psysml:06ed69bb-03e4-455b-a820-630d0564221d\" xlink:type=\"simple\"><rect fill=\"#FEFECE\" filter=\"url(#f1a50vy75w57wm)\" height=\"45.9375\" id=\"E3\" style=\"stroke: #A80036; stroke-width: 1.5;\" width=\"121\" x=\"256.5\" y=\"134\"/><ellipse cx=\"271.5\" cy=\"152.9688\" fill=\"#A52A2A\" rx=\"11\" ry=\"11\" style=\"stroke: #A80036; stroke-width: 1.0;\"/><path d=\"M271.0938,148.7813 L271.0938,156.7656 L271.75,156.7656 Q273.1875,156.7656 273.7969,155.8594 Q274.4219,154.9375 274.4219,152.7656 Q274.4219,150.5938 273.7969,149.6875 Q273.1875,148.7813 271.75,148.7813 L271.0938,148.7813 Z M268.6406,146.5781 L271.2656,146.5781 Q274.2969,146.5781 275.625,148.0313 Q276.9688,149.4688 276.9688,152.7656 Q276.9688,156.0625 275.625,157.5156 Q274.2969,158.9688 271.2656,158.9688 L268.6406,158.9688 L268.6406,146.5781 Z \"/><text fill=\"#000000\" font-family=\"sans-serif\" font-size=\"12\" font-style=\"italic\" lengthAdjust=\"spacingAndGlyphs\" textLength=\"93\" x=\"283.5\" y=\"150.1387\">«attribute def»</text><text fill=\"#000000\" font-family=\"sans-serif\" font-size=\"12\" lengthAdjust=\"spacingAndGlyphs\" textLength=\"22\" x=\"319\" y=\"164.1074\">Exit</text><line style=\"stroke: #A80036; stroke-width: 1.5;\" x1=\"257.5\" x2=\"376.5\" y1=\"171.9375\" y2=\"171.9375\"/></a><!--MD5=[ebbe1d658d1005bcc118a6aa81145e00]\n",
       "class E4--><a href=\"psysml:f6292196-12b9-4bba-a758-98820cb4f3f5\" target=\"_top\" title=\"psysml:f6292196-12b9-4bba-a758-98820cb4f3f5\" xlink:actuate=\"onRequest\" xlink:href=\"psysml:f6292196-12b9-4bba-a758-98820cb4f3f5\" xlink:show=\"new\" xlink:title=\"psysml:f6292196-12b9-4bba-a758-98820cb4f3f5\" xlink:type=\"simple\"><rect fill=\"#FEFECE\" filter=\"url(#f1a50vy75w57wm)\" height=\"45.9375\" id=\"E4\" rx=\"10\" ry=\"10\" style=\"stroke: #A80036; stroke-width: 1.5;\" width=\"68\" x=\"153\" y=\"134\"/><ellipse cx=\"168\" cy=\"152.9688\" fill=\"#32CD32\" rx=\"11\" ry=\"11\" style=\"stroke: #A80036; stroke-width: 1.0;\"/><path d=\"M167.7969,148.6406 L167.7969,152.2656 L168.7969,152.2656 Q170,152.2656 170.4844,151.8594 Q170.9688,151.4531 170.9688,150.4531 Q170.9688,149.4531 170.4844,149.0469 Q170,148.6406 168.7969,148.6406 L167.7969,148.6406 Z M165.3438,146.5781 L168.7031,146.5781 Q171.2656,146.5781 172.3906,147.5 Q173.5156,148.4063 173.5156,150.4531 Q173.5156,152.5 172.3906,153.4219 Q171.2656,154.3281 168.7031,154.3281 L167.7969,154.3281 L167.7969,158.9688 L165.3438,158.9688 L165.3438,146.5781 Z \"/><text fill=\"#000000\" font-family=\"sans-serif\" font-size=\"12\" font-style=\"italic\" lengthAdjust=\"spacingAndGlyphs\" textLength=\"40\" x=\"180\" y=\"150.1387\">«part»</text><text fill=\"#000000\" font-family=\"sans-serif\" font-size=\"12\" lengthAdjust=\"spacingAndGlyphs\" textLength=\"8\" x=\"196\" y=\"164.1074\">p</text><line style=\"stroke: #A80036; stroke-width: 1.5;\" x1=\"154\" x2=\"220\" y1=\"171.9375\" y2=\"171.9375\"/></a><g id=\"E1.E5\"><a href=\"psysml:d7bec2b6-e32c-41d0-a208-370a3f1c18c8\" target=\"_top\" title=\"psysml:d7bec2b6-e32c-41d0-a208-370a3f1c18c8\" xlink:actuate=\"onRequest\" xlink:href=\"psysml:d7bec2b6-e32c-41d0-a208-370a3f1c18c8\" xlink:show=\"new\" xlink:title=\"psysml:d7bec2b6-e32c-41d0-a208-370a3f1c18c8\" xlink:type=\"simple\"><rect fill=\"#FEFECE\" filter=\"url(#f1a50vy75w57wm)\" height=\"42.9375\" id=\"E5\" rx=\"10\" ry=\"10\" style=\"stroke: #A80036; stroke-width: 1.5;\" width=\"86\" x=\"32\" y=\"135.5\"/><ellipse cx=\"49.25\" cy=\"154.4688\" fill=\"#FFA500\" rx=\"11\" ry=\"11\" style=\"stroke: #A80036; stroke-width: 1.0;\"/><path d=\"M45.125,156.3906 L45.125,148.5781 L47.5781,148.5781 L47.5781,157.0156 Q47.5781,157.9375 48.0469,158.4688 Q48.5313,159 49.3594,159 Q50.2031,159 50.6719,158.4688 Q51.1406,157.9375 51.1406,157.0156 L51.1406,148.5781 L53.5938,148.5781 L53.5938,156.3906 Q53.5938,158.9219 52.5938,160.0625 Q51.5938,161.2031 49.3594,161.2031 Q47.1406,161.2031 46.125,160.0625 Q45.125,158.9219 45.125,156.3906 Z \"/><text fill=\"#000000\" font-family=\"sans-serif\" font-size=\"12\" font-style=\"italic\" lengthAdjust=\"spacingAndGlyphs\" textLength=\"53\" x=\"61.75\" y=\"151.6387\">«action»</text><text fill=\"#000000\" font-family=\"sans-serif\" font-size=\"12\" lengthAdjust=\"spacingAndGlyphs\" textLength=\"20\" x=\"78.25\" y=\"165.6074\">act</text></a></g><ellipse cx=\"662\" cy=\"157\" fill=\"#000000\" filter=\"url(#f1a50vy75w57wm)\" rx=\"10\" ry=\"10\" style=\"stroke: none; stroke-width: 1.0;\"/><ellipse cx=\"662\" cy=\"507.5\" fill=\"none\" filter=\"url(#f1a50vy75w57wm)\" rx=\"10\" ry=\"10\" style=\"stroke: #000000; stroke-width: 1.0;\"/><ellipse cx=\"662.5\" cy=\"508\" fill=\"#000000\" rx=\"6\" ry=\"6\" style=\"stroke: none; stroke-width: 1.0;\"/><g id=\"E1.E6.E7\"><a href=\"psysml:df9bf7b7-ea8a-42e1-9b23-b8091030681c\" target=\"_top\" title=\"psysml:df9bf7b7-ea8a-42e1-9b23-b8091030681c\" xlink:actuate=\"onRequest\" xlink:href=\"psysml:df9bf7b7-ea8a-42e1-9b23-b8091030681c\" xlink:show=\"new\" xlink:title=\"psysml:df9bf7b7-ea8a-42e1-9b23-b8091030681c\" xlink:type=\"simple\"><rect fill=\"#FEFECE\" filter=\"url(#f1a50vy75w57wm)\" height=\"40\" id=\"E7\" rx=\"10\" ry=\"10\" style=\"stroke: #A80036; stroke-width: 1.5;\" width=\"53\" x=\"635.5\" y=\"247.5\"/><ellipse cx=\"652.75\" cy=\"263.5\" fill=\"#B6DBBB\" rx=\"11\" ry=\"11\" style=\"stroke: #A80036; stroke-width: 1.0;\"/><path d=\"M648.625,265.4219 L648.625,257.6094 L651.0781,257.6094 L651.0781,266.0469 Q651.0781,266.9688 651.5469,267.5 Q652.0313,268.0313 652.8594,268.0313 Q653.7031,268.0313 654.1719,267.5 Q654.6406,266.9688 654.6406,266.0469 L654.6406,257.6094 L657.0938,257.6094 L657.0938,265.4219 Q657.0938,267.9531 656.0938,269.0938 Q655.0938,270.2344 652.8594,270.2344 Q650.6406,270.2344 649.625,269.0938 Q648.625,267.9531 648.625,265.4219 Z \"/><text fill=\"#000000\" font-family=\"sans-serif\" font-size=\"12\" lengthAdjust=\"spacingAndGlyphs\" textLength=\"16\" x=\"667.25\" y=\"267.6543\">S1</text></a></g><g id=\"E1.E6.E8\"><a href=\"psysml:372708ac-c185-450b-8b20-5b0e6796b1d2\" target=\"_top\" title=\"psysml:372708ac-c185-450b-8b20-5b0e6796b1d2\" xlink:actuate=\"onRequest\" xlink:href=\"psysml:372708ac-c185-450b-8b20-5b0e6796b1d2\" xlink:show=\"new\" xlink:title=\"psysml:372708ac-c185-450b-8b20-5b0e6796b1d2\" xlink:type=\"simple\"><rect fill=\"#FEFECE\" filter=\"url(#f1a50vy75w57wm)\" height=\"55.9688\" id=\"E8\" rx=\"10\" ry=\"10\" style=\"stroke: #A80036; stroke-width: 1.5;\" width=\"58\" x=\"633\" y=\"364.5\"/><ellipse cx=\"652.5\" cy=\"380.5\" fill=\"#B6DBBB\" rx=\"11\" ry=\"11\" style=\"stroke: #A80036; stroke-width: 1.0;\"/><path d=\"M648.375,382.4219 L648.375,374.6094 L650.8281,374.6094 L650.8281,383.0469 Q650.8281,383.9688 651.2969,384.5 Q651.7813,385.0313 652.6094,385.0313 Q653.4531,385.0313 653.9219,384.5 Q654.3906,383.9688 654.3906,383.0469 L654.3906,374.6094 L656.8438,374.6094 L656.8438,382.4219 Q656.8438,384.9531 655.8438,386.0938 Q654.8438,387.2344 652.6094,387.2344 Q650.3906,387.2344 649.375,386.0938 Q648.375,384.9531 648.375,382.4219 Z \"/><text fill=\"#000000\" font-family=\"sans-serif\" font-size=\"12\" lengthAdjust=\"spacingAndGlyphs\" textLength=\"16\" x=\"667.5\" y=\"384.6543\">S2</text><line style=\"stroke: #A80036; stroke-width: 1.0;\" x1=\"633\" x2=\"691\" y1=\"396.5\" y2=\"396.5\"/><text fill=\"#000000\" font-family=\"sans-serif\" font-size=\"12\" font-weight=\"bold\" lengthAdjust=\"spacingAndGlyphs\" textLength=\"18\" x=\"638\" y=\"409.6387\">do</text><text fill=\"#000000\" font-family=\"sans-serif\" font-size=\"12\" lengthAdjust=\"spacingAndGlyphs\" textLength=\"4\" x=\"656\" y=\"409.6387\">/</text></a></g><!--MD5=[5a531d3a85f3339e6e197084acb48195]\n",
       "link *start*E6 to E7--><a href=\"psysml:63e0b6b5-21d2-46c8-92d5-87e224212dbf\" target=\"_top\" title=\"psysml:63e0b6b5-21d2-46c8-92d5-87e224212dbf\" xlink:actuate=\"onRequest\" xlink:href=\"psysml:63e0b6b5-21d2-46c8-92d5-87e224212dbf\" xlink:show=\"new\" xlink:title=\"psysml:63e0b6b5-21d2-46c8-92d5-87e224212dbf\" xlink:type=\"simple\"><path d=\"M662,167.25 C662,183.64 662,218.28 662,241.97 \" fill=\"none\" id=\"*start*E6-&gt;E7\" style=\"stroke: #A80036; stroke-width: 1.0;\"/><polygon fill=\"#A80036\" points=\"662,247.15,666,238.15,662,242.15,658,238.15,662,247.15\" style=\"stroke: #A80036; stroke-width: 1.0;\"/></a><!--MD5=[7ec9a8babba89ddcae1318ca9fb3c814]\n",
       "link E8 to *end*E6--><a href=\"psysml:60b88d5b-1ac8-4d6b-b052-bf1a623237b5\" target=\"_top\" title=\"psysml:60b88d5b-1ac8-4d6b-b052-bf1a623237b5\" xlink:actuate=\"onRequest\" xlink:href=\"psysml:60b88d5b-1ac8-4d6b-b052-bf1a623237b5\" xlink:show=\"new\" xlink:title=\"psysml:60b88d5b-1ac8-4d6b-b052-bf1a623237b5\" xlink:type=\"simple\"><path d=\"M662,420.57 C662,443.05 662,474.17 662,492.13 \" fill=\"none\" id=\"E8-&gt;*end*E6\" style=\"stroke: #A80036; stroke-width: 1.0;\"/><polygon fill=\"#A80036\" points=\"662,497.26,666,488.26,662,492.26,658,488.26,662,497.26\" style=\"stroke: #A80036; stroke-width: 1.0;\"/><text fill=\"#000000\" font-family=\"sans-serif\" font-size=\"13\" lengthAdjust=\"spacingAndGlyphs\" textLength=\"23\" x=\"663\" y=\"463.5669\">Exit</text></a><!--MD5=[79bc8f324ef4d02c541433f2e6e513c3]\n",
       "link E7 to E8--><a href=\"psysml:b9f5e72d-c680-433c-ba5c-575fc587f4f3\" target=\"_top\" title=\"psysml:b9f5e72d-c680-433c-ba5c-575fc587f4f3\" xlink:actuate=\"onRequest\" xlink:href=\"psysml:b9f5e72d-c680-433c-ba5c-575fc587f4f3\" xlink:show=\"new\" xlink:title=\"psysml:b9f5e72d-c680-433c-ba5c-575fc587f4f3\" xlink:type=\"simple\"><path d=\"M635.25,280.67 C613.47,292.49 587.88,311.93 598,334.5 C604.51,349.01 616.74,361.35 628.79,370.79 \" fill=\"none\" id=\"E7-&gt;E8\" style=\"stroke: #A80036; stroke-width: 1.0;\"/><polygon fill=\"#A80036\" points=\"632.86,373.88,628.0945,365.2609,628.872,370.864,623.2689,371.6416,632.86,373.88\" style=\"stroke: #A80036; stroke-width: 1.0;\"/><text fill=\"#000000\" font-family=\"sans-serif\" font-size=\"13\" lengthAdjust=\"spacingAndGlyphs\" textLength=\"81\" x=\"599\" y=\"330.5669\">Sig /action D</text></a><!--MD5=[bfa3c8b0d15052fdf50ae9310b491027]\n",
       "link E8 to E7--><a href=\"psysml:8fe1fd83-9e96-4978-be75-1a7ead5c4a85\" target=\"_top\" title=\"psysml:8fe1fd83-9e96-4978-be75-1a7ead5c4a85\" xlink:actuate=\"onRequest\" xlink:href=\"psysml:8fe1fd83-9e96-4978-be75-1a7ead5c4a85\" xlink:show=\"new\" xlink:title=\"psysml:8fe1fd83-9e96-4978-be75-1a7ead5c4a85\" xlink:type=\"simple\"><path d=\"M677.55,364.38 C683.68,350.5 688.51,333.26 685,317.5 C683.1,308.99 679.56,300.22 675.82,292.49 \" fill=\"none\" id=\"E8-&gt;E7\" style=\"stroke: #A80036; stroke-width: 1.0;\"/><polygon fill=\"#A80036\" points=\"673.47,287.82,673.9298,297.6581,675.7118,292.2893,681.0806,294.0713,673.47,287.82\" style=\"stroke: #A80036; stroke-width: 1.0;\"/><text fill=\"#000000\" font-family=\"sans-serif\" font-size=\"13\" lengthAdjust=\"spacingAndGlyphs\" textLength=\"135\" x=\"687\" y=\"330.5669\">Sig [true]/send s to p</text></a><!--MD5=[8e0559a131d304ce61ccbbe078ecacda]\n",
       "@startuml\r\n",
       " \r\n",
       "package \"StateTest\" as E1  [[psysml:7751d53a-3d7b-46fc-b5d8-bf0ae3c7070c ]]  {\r\n",
       "comp def \"Sig\" as E2  <<(D,brown)attribute def>> [[psysml:85dbfb10-d456-4c59-a9e0-99da33bb7a4b ]] {\r\n",
       "x\r\n",
       "}\r\n",
       "comp def \"Exit\" as E3  <<(D,brown)attribute def>> [[psysml:06ed69bb-03e4-455b-a820-630d0564221d ]] {\r\n",
       "}\r\n",
       "comp usage \"p\" as E4  << (P,limegreen) part>> [[psysml:f6292196-12b9-4bba-a758-98820cb4f3f5 ]] {\r\n",
       "}\r\n",
       "rec usage \"act\" as E5  <<(U,orange)action>> [[psysml:d7bec2b6-e32c-41d0-a208-370a3f1c18c8 ]] {\r\n",
       "}\r\n",
       "\r\n",
       "rec def \"S\" as E6  <<(D,brown)state def>> [[psysml:6343fae7-e97a-4dac-816a-0d66812becae ]] {\r\n",
       "rec usage \"S1\" as E7 [[psysml:df9bf7b7-ea8a-42e1-9b23-b8091030681c ]] {\r\n",
       "}\r\n",
       "\r\n",
       "rec usage \"S2\" as E8 [[psysml:372708ac-c185-450b-8b20-5b0e6796b1d2 ]] {\r\n",
       "desc \"S2\" as E8  : **do**/ \r\n",
       "}\r\n",
       "\r\n",
       "[*] - -> E7 [[psysml:63e0b6b5-21d2-46c8-92d5-87e224212dbf ]] \r\n",
       "E8  - -> [*] [[psysml:60b88d5b-1ac8-4d6b-b052-bf1a623237b5 ]] : Exit \r\n",
       "desc \"S\" as E6  : **entry**/ A\r\n",
       "desc \"S\" as E6  : **do**/ B\r\n",
       "desc \"S\" as E6  : **exit**/ act \r\n",
       "}\r\n",
       "\r\n",
       "E7  - -> E8 [[psysml:b9f5e72d-c680-433c-ba5c-575fc587f4f3 ]] : Sig /action D\r\n",
       "E8  - -> E7 [[psysml:8fe1fd83-9e96-4978-be75-1a7ead5c4a85 ]] : Sig [true]/send s to p\r\n",
       "}\r\n",
       "@enduml\r\n",
       "\n",
       "PlantUML version 1.2020.13(Sat Jun 13 12:26:38 UTC 2020)\n",
       "(EPL source distribution)\n",
       "Java Runtime: OpenJDK Runtime Environment\n",
       "JVM: OpenJDK 64-Bit Server VM\n",
       "Default Encoding: UTF-8\n",
       "Language: en\n",
       "Country: null\n",
       "--></g></svg>"
      ]
     },
     "execution_count": 36,
     "metadata": {},
     "output_type": "execute_result"
    }
   ],
   "source": [
    "%viz --style=\"PLANTUML\" --view=\"MIXED\" \"StateTest\""
   ]
  },
  {
   "cell_type": "code",
   "execution_count": 37,
   "id": "shared-asbestos",
   "metadata": {
    "execution": {
     "iopub.execute_input": "2021-03-25T13:48:16.293828Z",
     "iopub.status.busy": "2021-03-25T13:48:16.293349Z",
     "iopub.status.idle": "2021-03-25T13:48:16.468999Z",
     "shell.execute_reply": "2021-03-25T13:48:16.467437Z"
    }
   },
   "outputs": [
    {
     "data": {
      "image/svg+xml": [
       "<?xml version=\"1.0\" encoding=\"UTF-8\" standalone=\"no\"?><svg xmlns=\"http://www.w3.org/2000/svg\" xmlns:xlink=\"http://www.w3.org/1999/xlink\" contentScriptType=\"application/ecmascript\" contentStyleType=\"text/css\" height=\"570px\" preserveAspectRatio=\"none\" style=\"width:819px;height:570px;\" version=\"1.1\" viewBox=\"0 0 819 570\" width=\"819px\" zoomAndPan=\"magnify\"><defs/><g><!--MD5=[fbc87193dbaf4d95561dea2c320d4a47]\n",
       "cluster E1--><a href=\"psysml:7751d53a-3d7b-46fc-b5d8-bf0ae3c7070c\" target=\"_top\" title=\"psysml:7751d53a-3d7b-46fc-b5d8-bf0ae3c7070c\" xlink:actuate=\"onRequest\" xlink:href=\"psysml:7751d53a-3d7b-46fc-b5d8-bf0ae3c7070c\" xlink:show=\"new\" xlink:title=\"psysml:7751d53a-3d7b-46fc-b5d8-bf0ae3c7070c\" xlink:type=\"simple\"><polygon fill=\"#FFFFFF\" points=\"16,6,98,6,105,28.2969,797,28.2969,797,558,16,558,16,6\" style=\"stroke: #000000; stroke-width: 1.5;\"/><line style=\"stroke: #000000; stroke-width: 1.5;\" x1=\"16\" x2=\"105\" y1=\"28.2969\" y2=\"28.2969\"/><text fill=\"#000000\" font-family=\"sans-serif\" font-size=\"14\" font-weight=\"bold\" lengthAdjust=\"spacingAndGlyphs\" textLength=\"76\" x=\"20\" y=\"20.9951\">StateTest</text></a><!--MD5=[14e3b0961a2654348d326746436168a1]\n",
       "cluster E6--><a href=\"psysml:6343fae7-e97a-4dac-816a-0d66812becae\" target=\"_top\" title=\"psysml:6343fae7-e97a-4dac-816a-0d66812becae\" xlink:actuate=\"onRequest\" xlink:href=\"psysml:6343fae7-e97a-4dac-816a-0d66812becae\" xlink:show=\"new\" xlink:title=\"psysml:6343fae7-e97a-4dac-816a-0d66812becae\" xlink:type=\"simple\"><rect fill=\"#FFFFFF\" height=\"485\" id=\"E6\" style=\"stroke: #383838; stroke-width: 1.5;\" width=\"327\" x=\"446\" y=\"49\"/><rect fill=\"#F8F8F8\" height=\"37.9375\" style=\"stroke: #383838; stroke-width: 1.5;\" width=\"327\" x=\"446\" y=\"49\"/><text fill=\"#000000\" font-family=\"sans-serif\" font-size=\"12\" font-style=\"italic\" lengthAdjust=\"spacingAndGlyphs\" textLength=\"71\" x=\"574\" y=\"65.1387\">«state def»</text><text fill=\"#000000\" font-family=\"sans-serif\" font-size=\"12\" lengthAdjust=\"spacingAndGlyphs\" textLength=\"8\" x=\"605.5\" y=\"79.1074\">S</text><line style=\"stroke: #383838; stroke-width: 1.0;\" x1=\"446\" x2=\"773\" y1=\"132.8438\" y2=\"132.8438\"/><text fill=\"#000000\" font-family=\"sans-serif\" font-size=\"12\" font-weight=\"bold\" lengthAdjust=\"spacingAndGlyphs\" textLength=\"38\" x=\"451\" y=\"100.0762\">entry</text><text fill=\"#000000\" font-family=\"sans-serif\" font-size=\"12\" lengthAdjust=\"spacingAndGlyphs\" textLength=\"16\" x=\"489\" y=\"100.0762\">/ A</text><text fill=\"#000000\" font-family=\"sans-serif\" font-size=\"12\" font-weight=\"bold\" lengthAdjust=\"spacingAndGlyphs\" textLength=\"18\" x=\"451\" y=\"114.0449\">do</text><text fill=\"#000000\" font-family=\"sans-serif\" font-size=\"12\" lengthAdjust=\"spacingAndGlyphs\" textLength=\"16\" x=\"469\" y=\"114.0449\">/ B</text><text fill=\"#000000\" font-family=\"sans-serif\" font-size=\"12\" font-weight=\"bold\" lengthAdjust=\"spacingAndGlyphs\" textLength=\"26\" x=\"451\" y=\"128.0137\">exit</text><text fill=\"#000000\" font-family=\"sans-serif\" font-size=\"12\" lengthAdjust=\"spacingAndGlyphs\" textLength=\"28\" x=\"477\" y=\"128.0137\">/ act</text></a><!--MD5=[b4997ac47864f28c2f74865a473b2911]\n",
       "class E2--><a href=\"psysml:85dbfb10-d456-4c59-a9e0-99da33bb7a4b\" target=\"_top\" title=\"psysml:85dbfb10-d456-4c59-a9e0-99da33bb7a4b\" xlink:actuate=\"onRequest\" xlink:href=\"psysml:85dbfb10-d456-4c59-a9e0-99da33bb7a4b\" xlink:show=\"new\" xlink:title=\"psysml:85dbfb10-d456-4c59-a9e0-99da33bb7a4b\" xlink:type=\"simple\"><rect fill=\"#FFFFFF\" height=\"75.5469\" id=\"E2\" style=\"stroke: #383838; stroke-width: 1.5;\" width=\"95\" x=\"334.5\" y=\"119\"/><text fill=\"#000000\" font-family=\"sans-serif\" font-size=\"12\" font-style=\"italic\" lengthAdjust=\"spacingAndGlyphs\" textLength=\"93\" x=\"335.5\" y=\"135.1387\">«attribute def»</text><text fill=\"#000000\" font-family=\"sans-serif\" font-size=\"12\" lengthAdjust=\"spacingAndGlyphs\" textLength=\"19\" x=\"372.5\" y=\"149.1074\">Sig</text><line style=\"stroke: #383838; stroke-width: 1.5;\" x1=\"335.5\" x2=\"428.5\" y1=\"156.9375\" y2=\"156.9375\"/><text fill=\"#000000\" font-family=\"sans-serif\" font-size=\"11\" lengthAdjust=\"spacingAndGlyphs\" textLength=\"6\" x=\"340.5\" y=\"187.9526\">x</text><line style=\"stroke: #383838; stroke-width: 1.0;\" x1=\"335.5\" x2=\"354.5\" y1=\"171.3398\" y2=\"171.3398\"/><text fill=\"#000000\" font-family=\"sans-serif\" font-size=\"11\" lengthAdjust=\"spacingAndGlyphs\" textLength=\"55\" x=\"354.5\" y=\"174.6479\">attributes</text><line style=\"stroke: #383838; stroke-width: 1.0;\" x1=\"409.5\" x2=\"428.5\" y1=\"171.3398\" y2=\"171.3398\"/></a><!--MD5=[09b614a08d8cba4a07c9adeb5e0fee81]\n",
       "class E3--><a href=\"psysml:06ed69bb-03e4-455b-a820-630d0564221d\" target=\"_top\" title=\"psysml:06ed69bb-03e4-455b-a820-630d0564221d\" xlink:actuate=\"onRequest\" xlink:href=\"psysml:06ed69bb-03e4-455b-a820-630d0564221d\" xlink:show=\"new\" xlink:title=\"psysml:06ed69bb-03e4-455b-a820-630d0564221d\" xlink:type=\"simple\"><rect fill=\"#FFFFFF\" height=\"45.9375\" id=\"E3\" style=\"stroke: #383838; stroke-width: 1.5;\" width=\"95\" x=\"204.5\" y=\"134\"/><text fill=\"#000000\" font-family=\"sans-serif\" font-size=\"12\" font-style=\"italic\" lengthAdjust=\"spacingAndGlyphs\" textLength=\"93\" x=\"205.5\" y=\"150.1387\">«attribute def»</text><text fill=\"#000000\" font-family=\"sans-serif\" font-size=\"12\" lengthAdjust=\"spacingAndGlyphs\" textLength=\"22\" x=\"241\" y=\"164.1074\">Exit</text><line style=\"stroke: #383838; stroke-width: 1.5;\" x1=\"205.5\" x2=\"298.5\" y1=\"171.9375\" y2=\"171.9375\"/></a><!--MD5=[ebbe1d658d1005bcc118a6aa81145e00]\n",
       "class E4--><a href=\"psysml:f6292196-12b9-4bba-a758-98820cb4f3f5\" target=\"_top\" title=\"psysml:f6292196-12b9-4bba-a758-98820cb4f3f5\" xlink:actuate=\"onRequest\" xlink:href=\"psysml:f6292196-12b9-4bba-a758-98820cb4f3f5\" xlink:show=\"new\" xlink:title=\"psysml:f6292196-12b9-4bba-a758-98820cb4f3f5\" xlink:type=\"simple\"><rect fill=\"#FFFFFF\" height=\"45.9375\" id=\"E4\" rx=\"10\" ry=\"10\" style=\"stroke: #383838; stroke-width: 1.5;\" width=\"42\" x=\"127\" y=\"134\"/><text fill=\"#000000\" font-family=\"sans-serif\" font-size=\"12\" font-style=\"italic\" lengthAdjust=\"spacingAndGlyphs\" textLength=\"40\" x=\"128\" y=\"150.1387\">«part»</text><text fill=\"#000000\" font-family=\"sans-serif\" font-size=\"12\" lengthAdjust=\"spacingAndGlyphs\" textLength=\"8\" x=\"144\" y=\"164.1074\">p</text><line style=\"stroke: #383838; stroke-width: 1.5;\" x1=\"128\" x2=\"168\" y1=\"171.9375\" y2=\"171.9375\"/></a><g id=\"E1.E5\"><a href=\"psysml:d7bec2b6-e32c-41d0-a208-370a3f1c18c8\" target=\"_top\" title=\"psysml:d7bec2b6-e32c-41d0-a208-370a3f1c18c8\" xlink:actuate=\"onRequest\" xlink:href=\"psysml:d7bec2b6-e32c-41d0-a208-370a3f1c18c8\" xlink:show=\"new\" xlink:title=\"psysml:d7bec2b6-e32c-41d0-a208-370a3f1c18c8\" xlink:type=\"simple\"><rect fill=\"#FFFFFF\" height=\"42.9375\" id=\"E5\" rx=\"10\" ry=\"10\" style=\"stroke: #383838; stroke-width: 1.5;\" width=\"60\" x=\"32\" y=\"135.5\"/><rect fill=\"#F8F8F8\" height=\"37.9375\" rx=\"10\" ry=\"10\" style=\"stroke: #F8F8F8; stroke-width: 1.5;\" width=\"60\" x=\"32\" y=\"135.5\"/><rect fill=\"#F8F8F8\" height=\"10\" style=\"stroke: #F8F8F8; stroke-width: 1.5;\" width=\"60\" x=\"32\" y=\"163.4375\"/><rect fill=\"none\" height=\"42.9375\" id=\"E5\" rx=\"10\" ry=\"10\" style=\"stroke: #383838; stroke-width: 1.5;\" width=\"60\" x=\"32\" y=\"135.5\"/><text fill=\"#000000\" font-family=\"sans-serif\" font-size=\"12\" font-style=\"italic\" lengthAdjust=\"spacingAndGlyphs\" textLength=\"53\" x=\"35.5\" y=\"151.6387\">«action»</text><text fill=\"#000000\" font-family=\"sans-serif\" font-size=\"12\" lengthAdjust=\"spacingAndGlyphs\" textLength=\"20\" x=\"52\" y=\"165.6074\">act</text></a></g><ellipse cx=\"558\" cy=\"157\" fill=\"#000000\" rx=\"10\" ry=\"10\" style=\"stroke: none; stroke-width: 1.0;\"/><ellipse cx=\"558\" cy=\"508\" fill=\"none\" rx=\"10\" ry=\"10\" style=\"stroke: #000000; stroke-width: 1.0;\"/><ellipse cx=\"558.5\" cy=\"508.5\" fill=\"#000000\" rx=\"6\" ry=\"6\" style=\"stroke: none; stroke-width: 1.0;\"/><g id=\"E1.E6.E7\"><a href=\"psysml:df9bf7b7-ea8a-42e1-9b23-b8091030681c\" target=\"_top\" title=\"psysml:df9bf7b7-ea8a-42e1-9b23-b8091030681c\" xlink:actuate=\"onRequest\" xlink:href=\"psysml:df9bf7b7-ea8a-42e1-9b23-b8091030681c\" xlink:show=\"new\" xlink:title=\"psysml:df9bf7b7-ea8a-42e1-9b23-b8091030681c\" xlink:type=\"simple\"><rect fill=\"#FFFFFF\" height=\"40\" id=\"E7\" rx=\"10\" ry=\"10\" style=\"stroke: #383838; stroke-width: 1.5;\" width=\"50\" x=\"533\" y=\"256\"/><rect fill=\"#F8F8F8\" height=\"23.9688\" rx=\"10\" ry=\"10\" style=\"stroke: #F8F8F8; stroke-width: 1.5;\" width=\"50\" x=\"533\" y=\"256\"/><rect fill=\"#F8F8F8\" height=\"10\" style=\"stroke: #F8F8F8; stroke-width: 1.5;\" width=\"50\" x=\"533\" y=\"269.9688\"/><rect fill=\"none\" height=\"40\" id=\"E7\" rx=\"10\" ry=\"10\" style=\"stroke: #383838; stroke-width: 1.5;\" width=\"50\" x=\"533\" y=\"256\"/><text fill=\"#000000\" font-family=\"sans-serif\" font-size=\"12\" lengthAdjust=\"spacingAndGlyphs\" textLength=\"16\" x=\"550\" y=\"272.1387\">S1</text></a></g><g id=\"E1.E6.E8\"><a href=\"psysml:372708ac-c185-450b-8b20-5b0e6796b1d2\" target=\"_top\" title=\"psysml:372708ac-c185-450b-8b20-5b0e6796b1d2\" xlink:actuate=\"onRequest\" xlink:href=\"psysml:372708ac-c185-450b-8b20-5b0e6796b1d2\" xlink:show=\"new\" xlink:title=\"psysml:372708ac-c185-450b-8b20-5b0e6796b1d2\" xlink:type=\"simple\"><rect fill=\"#FFFFFF\" height=\"47.9375\" id=\"E8\" rx=\"10\" ry=\"10\" style=\"stroke: #383838; stroke-width: 1.5;\" width=\"50\" x=\"533\" y=\"373\"/><rect fill=\"#F8F8F8\" height=\"23.9688\" rx=\"10\" ry=\"10\" style=\"stroke: #F8F8F8; stroke-width: 1.5;\" width=\"50\" x=\"533\" y=\"373\"/><rect fill=\"#F8F8F8\" height=\"10\" style=\"stroke: #F8F8F8; stroke-width: 1.5;\" width=\"50\" x=\"533\" y=\"386.9688\"/><rect fill=\"none\" height=\"47.9375\" id=\"E8\" rx=\"10\" ry=\"10\" style=\"stroke: #383838; stroke-width: 1.5;\" width=\"50\" x=\"533\" y=\"373\"/><text fill=\"#000000\" font-family=\"sans-serif\" font-size=\"12\" lengthAdjust=\"spacingAndGlyphs\" textLength=\"16\" x=\"550\" y=\"389.1387\">S2</text><line style=\"stroke: #383838; stroke-width: 1.0;\" x1=\"533\" x2=\"583\" y1=\"396.9688\" y2=\"396.9688\"/><text fill=\"#000000\" font-family=\"sans-serif\" font-size=\"12\" font-weight=\"bold\" lengthAdjust=\"spacingAndGlyphs\" textLength=\"18\" x=\"538\" y=\"410.1074\">do</text><text fill=\"#000000\" font-family=\"sans-serif\" font-size=\"12\" lengthAdjust=\"spacingAndGlyphs\" textLength=\"4\" x=\"556\" y=\"410.1074\">/</text></a></g><!--MD5=[5a531d3a85f3339e6e197084acb48195]\n",
       "link *start*E6 to E7--><a href=\"psysml:63e0b6b5-21d2-46c8-92d5-87e224212dbf\" target=\"_top\" title=\"psysml:63e0b6b5-21d2-46c8-92d5-87e224212dbf\" xlink:actuate=\"onRequest\" xlink:href=\"psysml:63e0b6b5-21d2-46c8-92d5-87e224212dbf\" xlink:show=\"new\" xlink:title=\"psysml:63e0b6b5-21d2-46c8-92d5-87e224212dbf\" xlink:type=\"simple\"><path d=\"M558,167.18 C558,184.98 558,224.73 558,250.67 \" fill=\"none\" id=\"*start*E6-&gt;E7\" style=\"stroke: #383838; stroke-width: 1.0;\"/><polygon fill=\"#383838\" points=\"558,255.98,562,246.98,558,250.98,554,246.98,558,255.98\" style=\"stroke: #383838; stroke-width: 1.0;\"/></a><!--MD5=[7ec9a8babba89ddcae1318ca9fb3c814]\n",
       "link E8 to *end*E6--><a href=\"psysml:60b88d5b-1ac8-4d6b-b052-bf1a623237b5\" target=\"_top\" title=\"psysml:60b88d5b-1ac8-4d6b-b052-bf1a623237b5\" xlink:actuate=\"onRequest\" xlink:href=\"psysml:60b88d5b-1ac8-4d6b-b052-bf1a623237b5\" xlink:show=\"new\" xlink:title=\"psysml:60b88d5b-1ac8-4d6b-b052-bf1a623237b5\" xlink:type=\"simple\"><path d=\"M558,421.12 C558,442.75 558,474.39 558,492.62 \" fill=\"none\" id=\"E8-&gt;*end*E6\" style=\"stroke: #383838; stroke-width: 1.0;\"/><polygon fill=\"#383838\" points=\"558,497.82,562,488.82,558,492.82,554,488.82,558,497.82\" style=\"stroke: #383838; stroke-width: 1.0;\"/><text fill=\"#000000\" font-family=\"sans-serif\" font-size=\"13\" lengthAdjust=\"spacingAndGlyphs\" textLength=\"23\" x=\"559\" y=\"464.0669\">Exit</text></a><!--MD5=[79bc8f324ef4d02c541433f2e6e513c3]\n",
       "link E7 to E8--><a href=\"psysml:b9f5e72d-c680-433c-ba5c-575fc587f4f3\" target=\"_top\" title=\"psysml:b9f5e72d-c680-433c-ba5c-575fc587f4f3\" xlink:actuate=\"onRequest\" xlink:href=\"psysml:b9f5e72d-c680-433c-ba5c-575fc587f4f3\" xlink:show=\"new\" xlink:title=\"psysml:b9f5e72d-c680-433c-ba5c-575fc587f4f3\" xlink:type=\"simple\"><path d=\"M532.93,288.88 C518.69,297.12 502.12,309.56 494,326 C483.11,348.05 506.72,368.2 528.27,381.16 \" fill=\"none\" id=\"E7-&gt;E8\" style=\"stroke: #383838; stroke-width: 1.0;\"/><polygon fill=\"#383838\" points=\"532.83,383.82,527.0682,375.8324,528.5101,381.3024,523.0401,382.7443,532.83,383.82\" style=\"stroke: #383838; stroke-width: 1.0;\"/><text fill=\"#000000\" font-family=\"sans-serif\" font-size=\"13\" lengthAdjust=\"spacingAndGlyphs\" textLength=\"81\" x=\"495\" y=\"339.0669\">Sig /action D</text></a><!--MD5=[bfa3c8b0d15052fdf50ae9310b491027]\n",
       "link E8 to E7--><a href=\"psysml:8fe1fd83-9e96-4978-be75-1a7ead5c4a85\" target=\"_top\" title=\"psysml:8fe1fd83-9e96-4978-be75-1a7ead5c4a85\" xlink:actuate=\"onRequest\" xlink:href=\"psysml:8fe1fd83-9e96-4978-be75-1a7ead5c4a85\" xlink:show=\"new\" xlink:title=\"psysml:8fe1fd83-9e96-4978-be75-1a7ead5c4a85\" xlink:type=\"simple\"><path d=\"M572.17,372.99 C578.81,359.48 584.56,341.98 581,326 C579.1,317.49 575.56,308.72 571.82,300.99 \" fill=\"none\" id=\"E8-&gt;E7\" style=\"stroke: #383838; stroke-width: 1.0;\"/><polygon fill=\"#383838\" points=\"569.47,296.32,569.9298,306.1581,571.7118,300.7893,577.0806,302.5713,569.47,296.32\" style=\"stroke: #383838; stroke-width: 1.0;\"/><text fill=\"#000000\" font-family=\"sans-serif\" font-size=\"13\" lengthAdjust=\"spacingAndGlyphs\" textLength=\"135\" x=\"583\" y=\"339.0669\">Sig [true]/send s to p</text></a><!--MD5=[cb46777394168f4fc3d28b0aef077bb3]\n",
       "@startuml\r\n",
       "skinparam monochrome true\r\n",
       "skinparam classbackgroundcolor white\r\n",
       "skinparam shadowing false\r\n",
       "skinparam wrapWidth 300\r\n",
       "hide circle\r\n",
       "\r\n",
       "package \"StateTest\" as E1  [[psysml:7751d53a-3d7b-46fc-b5d8-bf0ae3c7070c ]]  {\r\n",
       "comp def \"Sig\" as E2  <<(T,blue)attribute def>> [[psysml:85dbfb10-d456-4c59-a9e0-99da33bb7a4b ]] {\r\n",
       "- - attributes - -\r\n",
       "x\r\n",
       "}\r\n",
       "comp def \"Exit\" as E3  <<(T,blue)attribute def>> [[psysml:06ed69bb-03e4-455b-a820-630d0564221d ]] {\r\n",
       "}\r\n",
       "comp usage \"p\" as E4  <<(T,blue)part>> [[psysml:f6292196-12b9-4bba-a758-98820cb4f3f5 ]] {\r\n",
       "}\r\n",
       "rec usage \"act\" as E5  <<(T,blue)action>> [[psysml:d7bec2b6-e32c-41d0-a208-370a3f1c18c8 ]] {\r\n",
       "}\r\n",
       "\r\n",
       "rec def \"S\" as E6  <<(T,blue)state def>> [[psysml:6343fae7-e97a-4dac-816a-0d66812becae ]] {\r\n",
       "rec usage \"S1\" as E7 [[psysml:df9bf7b7-ea8a-42e1-9b23-b8091030681c ]] {\r\n",
       "}\r\n",
       "\r\n",
       "rec usage \"S2\" as E8 [[psysml:372708ac-c185-450b-8b20-5b0e6796b1d2 ]] {\r\n",
       "desc \"S2\" as E8  : **do**/ \r\n",
       "}\r\n",
       "\r\n",
       "[*] - -> E7 [[psysml:63e0b6b5-21d2-46c8-92d5-87e224212dbf ]] \r\n",
       "E8  - -> [*] [[psysml:60b88d5b-1ac8-4d6b-b052-bf1a623237b5 ]] : Exit \r\n",
       "desc \"S\" as E6  : **entry**/ A\r\n",
       "desc \"S\" as E6  : **do**/ B\r\n",
       "desc \"S\" as E6  : **exit**/ act \r\n",
       "}\r\n",
       "\r\n",
       "E7  - -> E8 [[psysml:b9f5e72d-c680-433c-ba5c-575fc587f4f3 ]] : Sig /action D\r\n",
       "E8  - -> E7 [[psysml:8fe1fd83-9e96-4978-be75-1a7ead5c4a85 ]] : Sig [true]/send s to p\r\n",
       "}\r\n",
       "@enduml\r\n",
       "\n",
       "PlantUML version 1.2020.13(Sat Jun 13 12:26:38 UTC 2020)\n",
       "(EPL source distribution)\n",
       "Java Runtime: OpenJDK Runtime Environment\n",
       "JVM: OpenJDK 64-Bit Server VM\n",
       "Default Encoding: UTF-8\n",
       "Language: en\n",
       "Country: null\n",
       "--></g></svg>"
      ]
     },
     "execution_count": 37,
     "metadata": {},
     "output_type": "execute_result"
    }
   ],
   "source": [
    "%viz --style=\"DEFAULT\" --view=\"Default\" \"StateTest\""
   ]
  },
  {
   "cell_type": "code",
   "execution_count": 38,
   "id": "resident-disposition",
   "metadata": {
    "execution": {
     "iopub.execute_input": "2021-03-25T13:48:16.521087Z",
     "iopub.status.busy": "2021-03-25T13:48:16.520396Z",
     "iopub.status.idle": "2021-03-25T13:48:16.958864Z",
     "shell.execute_reply": "2021-03-25T13:48:16.957054Z"
    }
   },
   "outputs": [
    {
     "data": {
      "image/svg+xml": [
       "<?xml version=\"1.0\" encoding=\"UTF-8\" standalone=\"no\"?><svg xmlns=\"http://www.w3.org/2000/svg\" xmlns:xlink=\"http://www.w3.org/1999/xlink\" contentScriptType=\"application/ecmascript\" contentStyleType=\"text/css\" height=\"471px\" preserveAspectRatio=\"none\" style=\"width:594px;height:471px;\" version=\"1.1\" viewBox=\"0 0 594 471\" width=\"594px\" zoomAndPan=\"magnify\"><defs/><g><!--MD5=[fbc87193dbaf4d95561dea2c320d4a47]\n",
       "cluster E1--><a href=\"psysml:7751d53a-3d7b-46fc-b5d8-bf0ae3c7070c\" target=\"_top\" title=\"psysml:7751d53a-3d7b-46fc-b5d8-bf0ae3c7070c\" xlink:actuate=\"onRequest\" xlink:href=\"psysml:7751d53a-3d7b-46fc-b5d8-bf0ae3c7070c\" xlink:show=\"new\" xlink:title=\"psysml:7751d53a-3d7b-46fc-b5d8-bf0ae3c7070c\" xlink:type=\"simple\"><polygon fill=\"#FFFFFF\" points=\"16,6,98,6,105,28.2969,572,28.2969,572,459,16,459,16,6\" style=\"stroke: #000000; stroke-width: 1.5;\"/><line style=\"stroke: #000000; stroke-width: 1.5;\" x1=\"16\" x2=\"105\" y1=\"28.2969\" y2=\"28.2969\"/><text fill=\"#000000\" font-family=\"sans-serif\" font-size=\"14\" font-weight=\"bold\" lengthAdjust=\"spacingAndGlyphs\" textLength=\"76\" x=\"20\" y=\"20.9951\">StateTest</text></a><!--MD5=[b4997ac47864f28c2f74865a473b2911]\n",
       "class E2--><a href=\"psysml:85dbfb10-d456-4c59-a9e0-99da33bb7a4b\" target=\"_top\" title=\"psysml:85dbfb10-d456-4c59-a9e0-99da33bb7a4b\" xlink:actuate=\"onRequest\" xlink:href=\"psysml:85dbfb10-d456-4c59-a9e0-99da33bb7a4b\" xlink:show=\"new\" xlink:title=\"psysml:85dbfb10-d456-4c59-a9e0-99da33bb7a4b\" xlink:type=\"simple\"><rect fill=\"#FFFFFF\" height=\"75.5469\" id=\"E2\" style=\"stroke: #383838; stroke-width: 1.5;\" width=\"95\" x=\"460.5\" y=\"83\"/><text fill=\"#000000\" font-family=\"sans-serif\" font-size=\"12\" font-style=\"italic\" lengthAdjust=\"spacingAndGlyphs\" textLength=\"93\" x=\"461.5\" y=\"99.1387\">«attribute def»</text><text fill=\"#000000\" font-family=\"sans-serif\" font-size=\"12\" lengthAdjust=\"spacingAndGlyphs\" textLength=\"19\" x=\"498.5\" y=\"113.1074\">Sig</text><line style=\"stroke: #383838; stroke-width: 1.5;\" x1=\"461.5\" x2=\"554.5\" y1=\"120.9375\" y2=\"120.9375\"/><text fill=\"#000000\" font-family=\"sans-serif\" font-size=\"11\" lengthAdjust=\"spacingAndGlyphs\" textLength=\"6\" x=\"466.5\" y=\"151.9526\">x</text><line style=\"stroke: #383838; stroke-width: 1.0;\" x1=\"461.5\" x2=\"480.5\" y1=\"135.3398\" y2=\"135.3398\"/><text fill=\"#000000\" font-family=\"sans-serif\" font-size=\"11\" lengthAdjust=\"spacingAndGlyphs\" textLength=\"55\" x=\"480.5\" y=\"138.6479\">attributes</text><line style=\"stroke: #383838; stroke-width: 1.0;\" x1=\"535.5\" x2=\"554.5\" y1=\"135.3398\" y2=\"135.3398\"/></a><!--MD5=[09b614a08d8cba4a07c9adeb5e0fee81]\n",
       "class E3--><a href=\"psysml:06ed69bb-03e4-455b-a820-630d0564221d\" target=\"_top\" title=\"psysml:06ed69bb-03e4-455b-a820-630d0564221d\" xlink:actuate=\"onRequest\" xlink:href=\"psysml:06ed69bb-03e4-455b-a820-630d0564221d\" xlink:show=\"new\" xlink:title=\"psysml:06ed69bb-03e4-455b-a820-630d0564221d\" xlink:type=\"simple\"><rect fill=\"#FFFFFF\" height=\"45.9375\" id=\"E3\" style=\"stroke: #383838; stroke-width: 1.5;\" width=\"95\" x=\"330.5\" y=\"98\"/><text fill=\"#000000\" font-family=\"sans-serif\" font-size=\"12\" font-style=\"italic\" lengthAdjust=\"spacingAndGlyphs\" textLength=\"93\" x=\"331.5\" y=\"114.1387\">«attribute def»</text><text fill=\"#000000\" font-family=\"sans-serif\" font-size=\"12\" lengthAdjust=\"spacingAndGlyphs\" textLength=\"22\" x=\"367\" y=\"128.1074\">Exit</text><line style=\"stroke: #383838; stroke-width: 1.5;\" x1=\"331.5\" x2=\"424.5\" y1=\"135.9375\" y2=\"135.9375\"/></a><!--MD5=[ebbe1d658d1005bcc118a6aa81145e00]\n",
       "class E4--><a href=\"psysml:f6292196-12b9-4bba-a758-98820cb4f3f5\" target=\"_top\" title=\"psysml:f6292196-12b9-4bba-a758-98820cb4f3f5\" xlink:actuate=\"onRequest\" xlink:href=\"psysml:f6292196-12b9-4bba-a758-98820cb4f3f5\" xlink:show=\"new\" xlink:title=\"psysml:f6292196-12b9-4bba-a758-98820cb4f3f5\" xlink:type=\"simple\"><rect fill=\"#FFFFFF\" height=\"45.9375\" id=\"E4\" rx=\"10\" ry=\"10\" style=\"stroke: #383838; stroke-width: 1.5;\" width=\"42\" x=\"253\" y=\"98\"/><text fill=\"#000000\" font-family=\"sans-serif\" font-size=\"12\" font-style=\"italic\" lengthAdjust=\"spacingAndGlyphs\" textLength=\"40\" x=\"254\" y=\"114.1387\">«part»</text><text fill=\"#000000\" font-family=\"sans-serif\" font-size=\"12\" lengthAdjust=\"spacingAndGlyphs\" textLength=\"8\" x=\"270\" y=\"128.1074\">p</text><line style=\"stroke: #383838; stroke-width: 1.5;\" x1=\"254\" x2=\"294\" y1=\"135.9375\" y2=\"135.9375\"/></a><!--MD5=[270fce915f116d4de14055a7c1d9a0f3]\n",
       "class E5--><a href=\"psysml:d7bec2b6-e32c-41d0-a208-370a3f1c18c8\" target=\"_top\" title=\"psysml:d7bec2b6-e32c-41d0-a208-370a3f1c18c8\" xlink:actuate=\"onRequest\" xlink:href=\"psysml:d7bec2b6-e32c-41d0-a208-370a3f1c18c8\" xlink:show=\"new\" xlink:title=\"psysml:d7bec2b6-e32c-41d0-a208-370a3f1c18c8\" xlink:type=\"simple\"><rect fill=\"#FFFFFF\" height=\"45.9375\" id=\"E5\" rx=\"10\" ry=\"10\" style=\"stroke: #383838; stroke-width: 1.5;\" width=\"55\" x=\"162.5\" y=\"98\"/><text fill=\"#000000\" font-family=\"sans-serif\" font-size=\"12\" font-style=\"italic\" lengthAdjust=\"spacingAndGlyphs\" textLength=\"53\" x=\"163.5\" y=\"114.1387\">«action»</text><text fill=\"#000000\" font-family=\"sans-serif\" font-size=\"12\" lengthAdjust=\"spacingAndGlyphs\" textLength=\"20\" x=\"180\" y=\"128.1074\">act</text><line style=\"stroke: #383838; stroke-width: 1.5;\" x1=\"163.5\" x2=\"216.5\" y1=\"135.9375\" y2=\"135.9375\"/></a><!--MD5=[60a26617385b1d2d0262a64233df1f8d]\n",
       "class E6--><a href=\"psysml:6343fae7-e97a-4dac-816a-0d66812becae\" target=\"_top\" title=\"psysml:6343fae7-e97a-4dac-816a-0d66812becae\" xlink:actuate=\"onRequest\" xlink:href=\"psysml:6343fae7-e97a-4dac-816a-0d66812becae\" xlink:show=\"new\" xlink:title=\"psysml:6343fae7-e97a-4dac-816a-0d66812becae\" xlink:type=\"simple\"><rect fill=\"#FFFFFF\" height=\"160.375\" id=\"E6\" style=\"stroke: #383838; stroke-width: 1.5;\" width=\"95\" x=\"32.5\" y=\"41\"/><text fill=\"#000000\" font-family=\"sans-serif\" font-size=\"12\" font-style=\"italic\" lengthAdjust=\"spacingAndGlyphs\" textLength=\"71\" x=\"44.5\" y=\"57.1387\">«state def»</text><text fill=\"#000000\" font-family=\"sans-serif\" font-size=\"12\" lengthAdjust=\"spacingAndGlyphs\" textLength=\"8\" x=\"76\" y=\"71.1074\">S</text><line style=\"stroke: #383838; stroke-width: 1.5;\" x1=\"33.5\" x2=\"126.5\" y1=\"78.9375\" y2=\"78.9375\"/><text fill=\"#000000\" font-family=\"sans-serif\" font-size=\"11\" lengthAdjust=\"spacingAndGlyphs\" textLength=\"17\" x=\"38.5\" y=\"109.9526\">act</text><text fill=\"#000000\" font-family=\"sans-serif\" font-size=\"11\" lengthAdjust=\"spacingAndGlyphs\" textLength=\"7\" x=\"38.5\" y=\"122.7573\">A</text><text fill=\"#000000\" font-family=\"sans-serif\" font-size=\"11\" lengthAdjust=\"spacingAndGlyphs\" textLength=\"8\" x=\"38.5\" y=\"135.562\">B</text><line style=\"stroke: #383838; stroke-width: 1.0;\" x1=\"33.5\" x2=\"36.5\" y1=\"93.3398\" y2=\"93.3398\"/><text fill=\"#000000\" font-family=\"sans-serif\" font-size=\"11\" lengthAdjust=\"spacingAndGlyphs\" textLength=\"87\" x=\"36.5\" y=\"96.6479\">performActions</text><line style=\"stroke: #383838; stroke-width: 1.0;\" x1=\"123.5\" x2=\"126.5\" y1=\"93.3398\" y2=\"93.3398\"/><text fill=\"#000000\" font-family=\"sans-serif\" font-size=\"11\" lengthAdjust=\"spacingAndGlyphs\" textLength=\"15\" x=\"38.5\" y=\"165.1714\">S1</text><line style=\"stroke: #383838; stroke-width: 1.0;\" x1=\"33.5\" x2=\"62\" y1=\"148.5586\" y2=\"148.5586\"/><text fill=\"#000000\" font-family=\"sans-serif\" font-size=\"11\" lengthAdjust=\"spacingAndGlyphs\" textLength=\"36\" x=\"62\" y=\"151.8667\">states</text><line style=\"stroke: #383838; stroke-width: 1.0;\" x1=\"98\" x2=\"126.5\" y1=\"148.5586\" y2=\"148.5586\"/><text fill=\"#000000\" font-family=\"sans-serif\" font-size=\"11\" lengthAdjust=\"spacingAndGlyphs\" textLength=\"7\" x=\"38.5\" y=\"194.7808\">T</text><line style=\"stroke: #383838; stroke-width: 1.0;\" x1=\"33.5\" x2=\"49.5\" y1=\"178.168\" y2=\"178.168\"/><text fill=\"#000000\" font-family=\"sans-serif\" font-size=\"11\" lengthAdjust=\"spacingAndGlyphs\" textLength=\"61\" x=\"49.5\" y=\"181.4761\">transitions</text><line style=\"stroke: #383838; stroke-width: 1.0;\" x1=\"110.5\" x2=\"126.5\" y1=\"178.168\" y2=\"178.168\"/></a><!--MD5=[1dd1bfd58a279cf63c5f349dbc8fc6a1]\n",
       "class E11--><a href=\"psysml:372708ac-c185-450b-8b20-5b0e6796b1d2\" target=\"_top\" title=\"psysml:372708ac-c185-450b-8b20-5b0e6796b1d2\" xlink:actuate=\"onRequest\" xlink:href=\"psysml:372708ac-c185-450b-8b20-5b0e6796b1d2\" xlink:show=\"new\" xlink:title=\"psysml:372708ac-c185-450b-8b20-5b0e6796b1d2\" xlink:type=\"simple\"><rect fill=\"#FFFFFF\" height=\"45.9375\" id=\"E11\" rx=\"10\" ry=\"10\" style=\"stroke: #383838; stroke-width: 1.5;\" width=\"49\" x=\"55.5\" y=\"261\"/><text fill=\"#000000\" font-family=\"sans-serif\" font-size=\"12\" font-style=\"italic\" lengthAdjust=\"spacingAndGlyphs\" textLength=\"47\" x=\"56.5\" y=\"277.1387\">«state»</text><text fill=\"#000000\" font-family=\"sans-serif\" font-size=\"12\" lengthAdjust=\"spacingAndGlyphs\" textLength=\"16\" x=\"72\" y=\"291.1074\">S2</text><line style=\"stroke: #383838; stroke-width: 1.5;\" x1=\"56.5\" x2=\"103.5\" y1=\"298.9375\" y2=\"298.9375\"/></a><!--MD5=[49a0ec8f00dab7302a31f22d0f0fe584]\n",
       "class E12--><a href=\"psysml:db8ff6bb-65b2-44b6-939f-52bfaf067d5c\" target=\"_top\" title=\"psysml:db8ff6bb-65b2-44b6-939f-52bfaf067d5c\" xlink:actuate=\"onRequest\" xlink:href=\"psysml:db8ff6bb-65b2-44b6-939f-52bfaf067d5c\" xlink:show=\"new\" xlink:title=\"psysml:db8ff6bb-65b2-44b6-939f-52bfaf067d5c\" xlink:type=\"simple\"><rect fill=\"#FFFFFF\" height=\"75.5469\" id=\"E12\" rx=\"10\" ry=\"10\" style=\"stroke: #383838; stroke-width: 1.5;\" width=\"90\" x=\"35\" y=\"367\"/><text fill=\"#000000\" font-family=\"sans-serif\" font-size=\"12\" font-style=\"italic\" lengthAdjust=\"spacingAndGlyphs\" textLength=\"88\" x=\"36\" y=\"383.1387\">«send action»</text><text fill=\"#000000\" font-family=\"sans-serif\" font-size=\"12\" lengthAdjust=\"spacingAndGlyphs\" textLength=\"55\" x=\"52.5\" y=\"397.1074\">doAction</text><line style=\"stroke: #383838; stroke-width: 1.5;\" x1=\"36\" x2=\"124\" y1=\"404.9375\" y2=\"404.9375\"/><text fill=\"#000000\" font-family=\"sans-serif\" font-size=\"11\" lengthAdjust=\"spacingAndGlyphs\" textLength=\"25\" x=\"41\" y=\"435.9526\">item</text><line style=\"stroke: #383838; stroke-width: 1.0;\" x1=\"36\" x2=\"42.5\" y1=\"419.3398\" y2=\"419.3398\"/><text fill=\"#000000\" font-family=\"sans-serif\" font-size=\"11\" lengthAdjust=\"spacingAndGlyphs\" textLength=\"75\" x=\"42.5\" y=\"422.6479\">itemFeatures</text><line style=\"stroke: #383838; stroke-width: 1.0;\" x1=\"117.5\" x2=\"124\" y1=\"419.3398\" y2=\"419.3398\"/></a><!--MD5=[1f5f03483f7de0d5b3680a7f6650997f]\n",
       "reverse link E6 to E11--><a href=\"psysml:372708ac-c185-450b-8b20-5b0e6796b1d2\" target=\"_top\" title=\"psysml:372708ac-c185-450b-8b20-5b0e6796b1d2\" xlink:actuate=\"onRequest\" xlink:href=\"psysml:372708ac-c185-450b-8b20-5b0e6796b1d2\" xlink:show=\"new\" xlink:title=\"psysml:372708ac-c185-450b-8b20-5b0e6796b1d2\" xlink:type=\"simple\"><path d=\"M80,214.17 C80,231.58 80,248.25 80,260.82 \" fill=\"none\" id=\"E6&lt;-E11\" style=\"stroke: #383838; stroke-width: 1.0;\"/><polygon fill=\"#383838\" points=\"80,201.09,76.0066,207.0944,80.0132,213.09,84.0066,207.0856,80,201.09\" style=\"stroke: #383838; stroke-width: 1.0;\"/></a><!--MD5=[94adabc162ce7e41b39f13be14fbaeb3]\n",
       "reverse link E11 to E12--><a href=\"psysml:db8ff6bb-65b2-44b6-939f-52bfaf067d5c\" target=\"_top\" title=\"psysml:db8ff6bb-65b2-44b6-939f-52bfaf067d5c\" xlink:actuate=\"onRequest\" xlink:href=\"psysml:db8ff6bb-65b2-44b6-939f-52bfaf067d5c\" xlink:show=\"new\" xlink:title=\"psysml:db8ff6bb-65b2-44b6-939f-52bfaf067d5c\" xlink:type=\"simple\"><path d=\"M80,320.23 C80,334.82 80,351.76 80,366.58 \" fill=\"none\" id=\"E11&lt;-E12\" style=\"stroke: #383838; stroke-width: 1.0;\"/><polygon fill=\"#FFFFFF\" points=\"80,307.1,76,313.1,80,319.1,84,313.1,80,307.1\" style=\"stroke: #383838; stroke-width: 1.0;\"/></a><!--MD5=[4b54bfee4f81342ce0ba5439ba2658e9]\n",
       "@startuml\r\n",
       "skinparam monochrome true\r\n",
       "skinparam classbackgroundcolor white\r\n",
       "skinparam shadowing false\r\n",
       "skinparam wrapWidth 300\r\n",
       "hide circle\r\n",
       "\r\n",
       "package \"StateTest\" as E1  [[psysml:7751d53a-3d7b-46fc-b5d8-bf0ae3c7070c ]]  {\r\n",
       "comp def \"Sig\" as E2  <<(T,blue)attribute def>> [[psysml:85dbfb10-d456-4c59-a9e0-99da33bb7a4b ]] {\r\n",
       "- - attributes - -\r\n",
       "x\r\n",
       "}\r\n",
       "comp def \"Exit\" as E3  <<(T,blue)attribute def>> [[psysml:06ed69bb-03e4-455b-a820-630d0564221d ]] {\r\n",
       "}\r\n",
       "comp usage \"p\" as E4  <<(T,blue)part>> [[psysml:f6292196-12b9-4bba-a758-98820cb4f3f5 ]] {\r\n",
       "}\r\n",
       "comp usage \"act\" as E5  <<(T,blue)action>> [[psysml:d7bec2b6-e32c-41d0-a208-370a3f1c18c8 ]] {\r\n",
       "}\r\n",
       "comp def \"S\" as E6  <<(T,blue)state def>> [[psysml:6343fae7-e97a-4dac-816a-0d66812becae ]] {\r\n",
       "- - performActions - -\r\n",
       "act\r\n",
       "A\r\n",
       "B\r\n",
       "- - states - -\r\n",
       "S1\r\n",
       "- - transitions - -\r\n",
       "T\r\n",
       "}\r\n",
       "comp usage \"S2\" as E11  <<(T,blue)state>> [[psysml:372708ac-c185-450b-8b20-5b0e6796b1d2 ]] {\r\n",
       "}\r\n",
       "comp usage \"doAction\" as E12 <<send action>> [[psysml:db8ff6bb-65b2-44b6-939f-52bfaf067d5c ]] {\r\n",
       "- - itemFeatures - -\r\n",
       "item\r\n",
       "}\r\n",
       "E6 *- - E11 [[psysml:372708ac-c185-450b-8b20-5b0e6796b1d2 ]] \r\n",
       "E11 o- - E12 [[psysml:db8ff6bb-65b2-44b6-939f-52bfaf067d5c ]] \r\n",
       "}\r\n",
       "@enduml\r\n",
       "\n",
       "PlantUML version 1.2020.13(Sat Jun 13 12:26:38 UTC 2020)\n",
       "(EPL source distribution)\n",
       "Java Runtime: OpenJDK Runtime Environment\n",
       "JVM: OpenJDK 64-Bit Server VM\n",
       "Default Encoding: UTF-8\n",
       "Language: en\n",
       "Country: null\n",
       "--></g></svg>"
      ]
     },
     "execution_count": 38,
     "metadata": {},
     "output_type": "execute_result"
    }
   ],
   "source": [
    "%viz --style=\"DEFAULT\" --view=\"Tree\" \"StateTest\""
   ]
  },
  {
   "cell_type": "code",
   "execution_count": 39,
   "id": "younger-colon",
   "metadata": {
    "execution": {
     "iopub.execute_input": "2021-03-25T13:48:17.009354Z",
     "iopub.status.busy": "2021-03-25T13:48:17.008364Z",
     "iopub.status.idle": "2021-03-25T13:48:17.124001Z",
     "shell.execute_reply": "2021-03-25T13:48:17.122217Z"
    }
   },
   "outputs": [
    {
     "data": {
      "image/svg+xml": [
       "<?xml version=\"1.0\" encoding=\"UTF-8\" standalone=\"no\"?><svg xmlns=\"http://www.w3.org/2000/svg\" xmlns:xlink=\"http://www.w3.org/1999/xlink\" contentScriptType=\"application/ecmascript\" contentStyleType=\"text/css\" height=\"475px\" preserveAspectRatio=\"none\" style=\"width:346px;height:475px;\" version=\"1.1\" viewBox=\"0 0 346 475\" width=\"346px\" zoomAndPan=\"magnify\"><defs/><g><!--MD5=[fbc87193dbaf4d95561dea2c320d4a47]\n",
       "cluster E1--><a href=\"psysml:6343fae7-e97a-4dac-816a-0d66812becae\" target=\"_top\" title=\"psysml:6343fae7-e97a-4dac-816a-0d66812becae\" xlink:actuate=\"onRequest\" xlink:href=\"psysml:6343fae7-e97a-4dac-816a-0d66812becae\" xlink:show=\"new\" xlink:title=\"psysml:6343fae7-e97a-4dac-816a-0d66812becae\" xlink:type=\"simple\"><rect fill=\"#FFFFFF\" height=\"457\" id=\"E1\" style=\"stroke: #383838; stroke-width: 1.5;\" width=\"327\" x=\"7\" y=\"7\"/><rect fill=\"#F8F8F8\" height=\"37.9375\" style=\"stroke: #383838; stroke-width: 1.5;\" width=\"327\" x=\"7\" y=\"7\"/><text fill=\"#000000\" font-family=\"sans-serif\" font-size=\"12\" font-style=\"italic\" lengthAdjust=\"spacingAndGlyphs\" textLength=\"71\" x=\"135\" y=\"23.1387\">«state def»</text><text fill=\"#000000\" font-family=\"sans-serif\" font-size=\"12\" lengthAdjust=\"spacingAndGlyphs\" textLength=\"8\" x=\"166.5\" y=\"37.1074\">S</text><line style=\"stroke: #383838; stroke-width: 1.0;\" x1=\"7\" x2=\"334\" y1=\"90.8438\" y2=\"90.8438\"/><text fill=\"#000000\" font-family=\"sans-serif\" font-size=\"12\" font-weight=\"bold\" lengthAdjust=\"spacingAndGlyphs\" textLength=\"38\" x=\"12\" y=\"58.0762\">entry</text><text fill=\"#000000\" font-family=\"sans-serif\" font-size=\"12\" lengthAdjust=\"spacingAndGlyphs\" textLength=\"16\" x=\"50\" y=\"58.0762\">/ A</text><text fill=\"#000000\" font-family=\"sans-serif\" font-size=\"12\" font-weight=\"bold\" lengthAdjust=\"spacingAndGlyphs\" textLength=\"18\" x=\"12\" y=\"72.0449\">do</text><text fill=\"#000000\" font-family=\"sans-serif\" font-size=\"12\" lengthAdjust=\"spacingAndGlyphs\" textLength=\"16\" x=\"30\" y=\"72.0449\">/ B</text><text fill=\"#000000\" font-family=\"sans-serif\" font-size=\"12\" font-weight=\"bold\" lengthAdjust=\"spacingAndGlyphs\" textLength=\"26\" x=\"12\" y=\"86.0137\">exit</text><text fill=\"#000000\" font-family=\"sans-serif\" font-size=\"12\" lengthAdjust=\"spacingAndGlyphs\" textLength=\"28\" x=\"38\" y=\"86.0137\">/ act</text></a><ellipse cx=\"119\" cy=\"115\" fill=\"#000000\" rx=\"10\" ry=\"10\" style=\"stroke: none; stroke-width: 1.0;\"/><ellipse cx=\"119\" cy=\"438\" fill=\"none\" rx=\"10\" ry=\"10\" style=\"stroke: #000000; stroke-width: 1.0;\"/><ellipse cx=\"119.5\" cy=\"438.5\" fill=\"#000000\" rx=\"6\" ry=\"6\" style=\"stroke: none; stroke-width: 1.0;\"/><g id=\"E1.E2\"><a href=\"psysml:df9bf7b7-ea8a-42e1-9b23-b8091030681c\" target=\"_top\" title=\"psysml:df9bf7b7-ea8a-42e1-9b23-b8091030681c\" xlink:actuate=\"onRequest\" xlink:href=\"psysml:df9bf7b7-ea8a-42e1-9b23-b8091030681c\" xlink:show=\"new\" xlink:title=\"psysml:df9bf7b7-ea8a-42e1-9b23-b8091030681c\" xlink:type=\"simple\"><rect fill=\"#FFFFFF\" height=\"40\" id=\"E2\" rx=\"10\" ry=\"10\" style=\"stroke: #383838; stroke-width: 1.5;\" width=\"50\" x=\"94\" y=\"186\"/><rect fill=\"#F8F8F8\" height=\"23.9688\" rx=\"10\" ry=\"10\" style=\"stroke: #F8F8F8; stroke-width: 1.5;\" width=\"50\" x=\"94\" y=\"186\"/><rect fill=\"#F8F8F8\" height=\"10\" style=\"stroke: #F8F8F8; stroke-width: 1.5;\" width=\"50\" x=\"94\" y=\"199.9688\"/><rect fill=\"none\" height=\"40\" id=\"E2\" rx=\"10\" ry=\"10\" style=\"stroke: #383838; stroke-width: 1.5;\" width=\"50\" x=\"94\" y=\"186\"/><text fill=\"#000000\" font-family=\"sans-serif\" font-size=\"12\" lengthAdjust=\"spacingAndGlyphs\" textLength=\"16\" x=\"111\" y=\"202.1387\">S1</text></a></g><g id=\"E1.E3\"><a href=\"psysml:372708ac-c185-450b-8b20-5b0e6796b1d2\" target=\"_top\" title=\"psysml:372708ac-c185-450b-8b20-5b0e6796b1d2\" xlink:actuate=\"onRequest\" xlink:href=\"psysml:372708ac-c185-450b-8b20-5b0e6796b1d2\" xlink:show=\"new\" xlink:title=\"psysml:372708ac-c185-450b-8b20-5b0e6796b1d2\" xlink:type=\"simple\"><rect fill=\"#FFFFFF\" height=\"47.9375\" id=\"E3\" rx=\"10\" ry=\"10\" style=\"stroke: #383838; stroke-width: 1.5;\" width=\"50\" x=\"94\" y=\"303\"/><rect fill=\"#F8F8F8\" height=\"23.9688\" rx=\"10\" ry=\"10\" style=\"stroke: #F8F8F8; stroke-width: 1.5;\" width=\"50\" x=\"94\" y=\"303\"/><rect fill=\"#F8F8F8\" height=\"10\" style=\"stroke: #F8F8F8; stroke-width: 1.5;\" width=\"50\" x=\"94\" y=\"316.9688\"/><rect fill=\"none\" height=\"47.9375\" id=\"E3\" rx=\"10\" ry=\"10\" style=\"stroke: #383838; stroke-width: 1.5;\" width=\"50\" x=\"94\" y=\"303\"/><text fill=\"#000000\" font-family=\"sans-serif\" font-size=\"12\" lengthAdjust=\"spacingAndGlyphs\" textLength=\"16\" x=\"111\" y=\"319.1387\">S2</text><line style=\"stroke: #383838; stroke-width: 1.0;\" x1=\"94\" x2=\"144\" y1=\"326.9688\" y2=\"326.9688\"/><text fill=\"#000000\" font-family=\"sans-serif\" font-size=\"12\" font-weight=\"bold\" lengthAdjust=\"spacingAndGlyphs\" textLength=\"18\" x=\"99\" y=\"340.1074\">do</text><text fill=\"#000000\" font-family=\"sans-serif\" font-size=\"12\" lengthAdjust=\"spacingAndGlyphs\" textLength=\"4\" x=\"117\" y=\"340.1074\">/</text></a></g><!--MD5=[cff944eb183b832d446717a4e202d613]\n",
       "link *start*E1 to E2--><a href=\"psysml:63e0b6b5-21d2-46c8-92d5-87e224212dbf\" target=\"_top\" title=\"psysml:63e0b6b5-21d2-46c8-92d5-87e224212dbf\" xlink:actuate=\"onRequest\" xlink:href=\"psysml:63e0b6b5-21d2-46c8-92d5-87e224212dbf\" xlink:show=\"new\" xlink:title=\"psysml:63e0b6b5-21d2-46c8-92d5-87e224212dbf\" xlink:type=\"simple\"><path d=\"M119,125.19 C119,138.18 119,162.38 119,180.73 \" fill=\"none\" id=\"*start*E1-&gt;E2\" style=\"stroke: #383838; stroke-width: 1.0;\"/><polygon fill=\"#383838\" points=\"119,185.74,123,176.74,119,180.74,115,176.74,119,185.74\" style=\"stroke: #383838; stroke-width: 1.0;\"/></a><!--MD5=[9ee7afa76ca8c509b3d216624c3a9893]\n",
       "link E3 to *end*E1--><a href=\"psysml:60b88d5b-1ac8-4d6b-b052-bf1a623237b5\" target=\"_top\" title=\"psysml:60b88d5b-1ac8-4d6b-b052-bf1a623237b5\" xlink:actuate=\"onRequest\" xlink:href=\"psysml:60b88d5b-1ac8-4d6b-b052-bf1a623237b5\" xlink:show=\"new\" xlink:title=\"psysml:60b88d5b-1ac8-4d6b-b052-bf1a623237b5\" xlink:type=\"simple\"><path d=\"M119,351.12 C119,372.75 119,404.39 119,422.62 \" fill=\"none\" id=\"E3-&gt;*end*E1\" style=\"stroke: #383838; stroke-width: 1.0;\"/><polygon fill=\"#383838\" points=\"119,427.82,123,418.82,119,422.82,115,418.82,119,427.82\" style=\"stroke: #383838; stroke-width: 1.0;\"/><text fill=\"#000000\" font-family=\"sans-serif\" font-size=\"13\" lengthAdjust=\"spacingAndGlyphs\" textLength=\"23\" x=\"120\" y=\"394.0669\">Exit</text></a><!--MD5=[2720a5a1f2c3fca2055b230370638851]\n",
       "link E2 to E3--><a href=\"psysml:b9f5e72d-c680-433c-ba5c-575fc587f4f3\" target=\"_top\" title=\"psysml:b9f5e72d-c680-433c-ba5c-575fc587f4f3\" xlink:actuate=\"onRequest\" xlink:href=\"psysml:b9f5e72d-c680-433c-ba5c-575fc587f4f3\" xlink:show=\"new\" xlink:title=\"psysml:b9f5e72d-c680-433c-ba5c-575fc587f4f3\" xlink:type=\"simple\"><path d=\"M93.93,218.88 C79.69,227.12 63.12,239.56 55,256 C44.11,278.05 67.72,298.2 89.27,311.16 \" fill=\"none\" id=\"E2-&gt;E3\" style=\"stroke: #383838; stroke-width: 1.0;\"/><polygon fill=\"#383838\" points=\"93.83,313.82,88.0682,305.8324,89.5101,311.3024,84.0401,312.7443,93.83,313.82\" style=\"stroke: #383838; stroke-width: 1.0;\"/><text fill=\"#000000\" font-family=\"sans-serif\" font-size=\"13\" lengthAdjust=\"spacingAndGlyphs\" textLength=\"81\" x=\"56\" y=\"269.0669\">Sig /action D</text></a><!--MD5=[05d275557350bfb9b23a4ef7222b4c39]\n",
       "link E3 to E2--><a href=\"psysml:8fe1fd83-9e96-4978-be75-1a7ead5c4a85\" target=\"_top\" title=\"psysml:8fe1fd83-9e96-4978-be75-1a7ead5c4a85\" xlink:actuate=\"onRequest\" xlink:href=\"psysml:8fe1fd83-9e96-4978-be75-1a7ead5c4a85\" xlink:show=\"new\" xlink:title=\"psysml:8fe1fd83-9e96-4978-be75-1a7ead5c4a85\" xlink:type=\"simple\"><path d=\"M133.17,302.99 C139.81,289.48 145.56,271.98 142,256 C140.1,247.49 136.56,238.72 132.82,230.99 \" fill=\"none\" id=\"E3-&gt;E2\" style=\"stroke: #383838; stroke-width: 1.0;\"/><polygon fill=\"#383838\" points=\"130.47,226.32,130.9298,236.1581,132.7118,230.7893,138.0806,232.5713,130.47,226.32\" style=\"stroke: #383838; stroke-width: 1.0;\"/><text fill=\"#000000\" font-family=\"sans-serif\" font-size=\"13\" lengthAdjust=\"spacingAndGlyphs\" textLength=\"135\" x=\"144\" y=\"269.0669\">Sig [true]/send s to p</text></a><!--MD5=[541f9f0e4c7aef32a46c84ca30be06dc]\n",
       "@startuml\r\n",
       "skinparam monochrome true\r\n",
       "skinparam classbackgroundcolor white\r\n",
       "skinparam shadowing false\r\n",
       "skinparam wrapWidth 300\r\n",
       "hide circle\r\n",
       "\r\n",
       "rec def \"S\" as E1  <<(T,blue)state def>> [[psysml:6343fae7-e97a-4dac-816a-0d66812becae ]] {\r\n",
       "rec usage \"S1\" as E2 [[psysml:df9bf7b7-ea8a-42e1-9b23-b8091030681c ]] {\r\n",
       "}\r\n",
       "\r\n",
       "rec usage \"S2\" as E3 [[psysml:372708ac-c185-450b-8b20-5b0e6796b1d2 ]] {\r\n",
       "desc \"S2\" as E3  : **do**/ \r\n",
       "}\r\n",
       "\r\n",
       "[*] - -> E2 [[psysml:63e0b6b5-21d2-46c8-92d5-87e224212dbf ]] \r\n",
       "E3  - -> [*] [[psysml:60b88d5b-1ac8-4d6b-b052-bf1a623237b5 ]] : Exit \r\n",
       "desc \"S\" as E1  : **entry**/ A\r\n",
       "desc \"S\" as E1  : **do**/ B\r\n",
       "desc \"S\" as E1  : **exit**/ act \r\n",
       "}\r\n",
       "\r\n",
       "E2  - -> E3 [[psysml:b9f5e72d-c680-433c-ba5c-575fc587f4f3 ]] : Sig /action D\r\n",
       "E3  - -> E2 [[psysml:8fe1fd83-9e96-4978-be75-1a7ead5c4a85 ]] : Sig [true]/send s to p\r\n",
       "@enduml\r\n",
       "\n",
       "PlantUML version 1.2020.13(Sat Jun 13 12:26:38 UTC 2020)\n",
       "(EPL source distribution)\n",
       "Java Runtime: OpenJDK Runtime Environment\n",
       "JVM: OpenJDK 64-Bit Server VM\n",
       "Default Encoding: UTF-8\n",
       "Language: en\n",
       "Country: null\n",
       "--></g></svg>"
      ]
     },
     "execution_count": 39,
     "metadata": {},
     "output_type": "execute_result"
    }
   ],
   "source": [
    "%viz --style=\"DEFAULT\" --view=\"State\" \"StateTest\""
   ]
  },
  {
   "cell_type": "code",
   "execution_count": 40,
   "id": "intensive-lending",
   "metadata": {
    "execution": {
     "iopub.execute_input": "2021-03-25T13:48:17.174063Z",
     "iopub.status.busy": "2021-03-25T13:48:17.173453Z",
     "iopub.status.idle": "2021-03-25T13:48:17.238460Z",
     "shell.execute_reply": "2021-03-25T13:48:17.237115Z"
    }
   },
   "outputs": [
    {
     "data": {
      "image/svg+xml": [
       "<?xml version=\"1.0\" encoding=\"UTF-8\" standalone=\"no\"?><svg xmlns=\"http://www.w3.org/2000/svg\" xmlns:xlink=\"http://www.w3.org/1999/xlink\" contentScriptType=\"application/ecmascript\" contentStyleType=\"text/css\" height=\"112px\" preserveAspectRatio=\"none\" style=\"width:598px;height:112px;\" version=\"1.1\" viewBox=\"0 0 598 112\" width=\"598px\" zoomAndPan=\"magnify\"><defs/><g><!--MD5=[fbc87193dbaf4d95561dea2c320d4a47]\n",
       "cluster E1--><a href=\"psysml:7751d53a-3d7b-46fc-b5d8-bf0ae3c7070c\" target=\"_top\" title=\"psysml:7751d53a-3d7b-46fc-b5d8-bf0ae3c7070c\" xlink:actuate=\"onRequest\" xlink:href=\"psysml:7751d53a-3d7b-46fc-b5d8-bf0ae3c7070c\" xlink:show=\"new\" xlink:title=\"psysml:7751d53a-3d7b-46fc-b5d8-bf0ae3c7070c\" xlink:type=\"simple\"><polygon fill=\"#FFFFFF\" points=\"16,6,98,6,105,28.2969,576,28.2969,576,100,16,100,16,6\" style=\"stroke: #000000; stroke-width: 1.5;\"/><line style=\"stroke: #000000; stroke-width: 1.5;\" x1=\"16\" x2=\"105\" y1=\"28.2969\" y2=\"28.2969\"/><text fill=\"#000000\" font-family=\"sans-serif\" font-size=\"14\" font-weight=\"bold\" lengthAdjust=\"spacingAndGlyphs\" textLength=\"76\" x=\"20\" y=\"20.9951\">StateTest</text></a><g id=\"E1.E2\"><a href=\"psysml:85dbfb10-d456-4c59-a9e0-99da33bb7a4b\" target=\"_top\" title=\"psysml:85dbfb10-d456-4c59-a9e0-99da33bb7a4b\" xlink:actuate=\"onRequest\" xlink:href=\"psysml:85dbfb10-d456-4c59-a9e0-99da33bb7a4b\" xlink:show=\"new\" xlink:title=\"psysml:85dbfb10-d456-4c59-a9e0-99da33bb7a4b\" xlink:type=\"simple\"><rect fill=\"#FFFFFF\" height=\"42.9375\" id=\"E2\" style=\"stroke: #383838; stroke-width: 1.5;\" width=\"100\" x=\"460\" y=\"41\"/><rect fill=\"#F8F8F8\" height=\"37.9375\" style=\"stroke: #383838; stroke-width: 1.5;\" width=\"100\" x=\"460\" y=\"41\"/><text fill=\"#000000\" font-family=\"sans-serif\" font-size=\"12\" font-style=\"italic\" lengthAdjust=\"spacingAndGlyphs\" textLength=\"93\" x=\"463.5\" y=\"57.1387\">«attribute def»</text><text fill=\"#000000\" font-family=\"sans-serif\" font-size=\"12\" lengthAdjust=\"spacingAndGlyphs\" textLength=\"19\" x=\"500.5\" y=\"71.1074\">Sig</text></a></g><g id=\"E1.E3\"><a href=\"psysml:06ed69bb-03e4-455b-a820-630d0564221d\" target=\"_top\" title=\"psysml:06ed69bb-03e4-455b-a820-630d0564221d\" xlink:actuate=\"onRequest\" xlink:href=\"psysml:06ed69bb-03e4-455b-a820-630d0564221d\" xlink:show=\"new\" xlink:title=\"psysml:06ed69bb-03e4-455b-a820-630d0564221d\" xlink:type=\"simple\"><rect fill=\"#FFFFFF\" height=\"42.9375\" id=\"E3\" style=\"stroke: #383838; stroke-width: 1.5;\" width=\"100\" x=\"325\" y=\"41\"/><rect fill=\"#F8F8F8\" height=\"37.9375\" style=\"stroke: #383838; stroke-width: 1.5;\" width=\"100\" x=\"325\" y=\"41\"/><text fill=\"#000000\" font-family=\"sans-serif\" font-size=\"12\" font-style=\"italic\" lengthAdjust=\"spacingAndGlyphs\" textLength=\"93\" x=\"328.5\" y=\"57.1387\">«attribute def»</text><text fill=\"#000000\" font-family=\"sans-serif\" font-size=\"12\" lengthAdjust=\"spacingAndGlyphs\" textLength=\"22\" x=\"364\" y=\"71.1074\">Exit</text></a></g><g id=\"E1.E6\"><a href=\"psysml:6343fae7-e97a-4dac-816a-0d66812becae\" target=\"_top\" title=\"psysml:6343fae7-e97a-4dac-816a-0d66812becae\" xlink:actuate=\"onRequest\" xlink:href=\"psysml:6343fae7-e97a-4dac-816a-0d66812becae\" xlink:show=\"new\" xlink:title=\"psysml:6343fae7-e97a-4dac-816a-0d66812becae\" xlink:type=\"simple\"><rect fill=\"#FFFFFF\" height=\"42.9375\" id=\"E6\" style=\"stroke: #383838; stroke-width: 1.5;\" width=\"78\" x=\"212\" y=\"41\"/><rect fill=\"#F8F8F8\" height=\"37.9375\" style=\"stroke: #383838; stroke-width: 1.5;\" width=\"78\" x=\"212\" y=\"41\"/><text fill=\"#000000\" font-family=\"sans-serif\" font-size=\"12\" font-style=\"italic\" lengthAdjust=\"spacingAndGlyphs\" textLength=\"71\" x=\"215.5\" y=\"57.1387\">«state def»</text><text fill=\"#000000\" font-family=\"sans-serif\" font-size=\"12\" lengthAdjust=\"spacingAndGlyphs\" textLength=\"8\" x=\"247\" y=\"71.1074\">S</text></a></g><g id=\"E1.E4\"><a href=\"psysml:f6292196-12b9-4bba-a758-98820cb4f3f5\" target=\"_top\" title=\"psysml:f6292196-12b9-4bba-a758-98820cb4f3f5\" xlink:actuate=\"onRequest\" xlink:href=\"psysml:f6292196-12b9-4bba-a758-98820cb4f3f5\" xlink:show=\"new\" xlink:title=\"psysml:f6292196-12b9-4bba-a758-98820cb4f3f5\" xlink:type=\"simple\"><rect fill=\"#FFFFFF\" height=\"40\" id=\"E4\" rx=\"10\" ry=\"10\" style=\"stroke: #383838; stroke-width: 1.5;\" width=\"50\" x=\"127\" y=\"42.5\"/><rect fill=\"#F8F8F8\" height=\"23.9688\" rx=\"10\" ry=\"10\" style=\"stroke: #F8F8F8; stroke-width: 1.5;\" width=\"50\" x=\"127\" y=\"42.5\"/><rect fill=\"#F8F8F8\" height=\"10\" style=\"stroke: #F8F8F8; stroke-width: 1.5;\" width=\"50\" x=\"127\" y=\"56.4688\"/><rect fill=\"none\" height=\"40\" id=\"E4\" rx=\"10\" ry=\"10\" style=\"stroke: #383838; stroke-width: 1.5;\" width=\"50\" x=\"127\" y=\"42.5\"/><text fill=\"#000000\" font-family=\"sans-serif\" font-size=\"12\" lengthAdjust=\"spacingAndGlyphs\" textLength=\"8\" x=\"148\" y=\"58.6387\">p</text></a></g><g id=\"E1.E5\"><a href=\"psysml:d7bec2b6-e32c-41d0-a208-370a3f1c18c8\" target=\"_top\" title=\"psysml:d7bec2b6-e32c-41d0-a208-370a3f1c18c8\" xlink:actuate=\"onRequest\" xlink:href=\"psysml:d7bec2b6-e32c-41d0-a208-370a3f1c18c8\" xlink:show=\"new\" xlink:title=\"psysml:d7bec2b6-e32c-41d0-a208-370a3f1c18c8\" xlink:type=\"simple\"><rect fill=\"#FFFFFF\" height=\"42.9375\" id=\"E5\" rx=\"10\" ry=\"10\" style=\"stroke: #383838; stroke-width: 1.5;\" width=\"60\" x=\"32\" y=\"41\"/><rect fill=\"#F8F8F8\" height=\"37.9375\" rx=\"10\" ry=\"10\" style=\"stroke: #F8F8F8; stroke-width: 1.5;\" width=\"60\" x=\"32\" y=\"41\"/><rect fill=\"#F8F8F8\" height=\"10\" style=\"stroke: #F8F8F8; stroke-width: 1.5;\" width=\"60\" x=\"32\" y=\"68.9375\"/><rect fill=\"none\" height=\"42.9375\" id=\"E5\" rx=\"10\" ry=\"10\" style=\"stroke: #383838; stroke-width: 1.5;\" width=\"60\" x=\"32\" y=\"41\"/><text fill=\"#000000\" font-family=\"sans-serif\" font-size=\"12\" font-style=\"italic\" lengthAdjust=\"spacingAndGlyphs\" textLength=\"53\" x=\"35.5\" y=\"57.1387\">«action»</text><text fill=\"#000000\" font-family=\"sans-serif\" font-size=\"12\" lengthAdjust=\"spacingAndGlyphs\" textLength=\"20\" x=\"52\" y=\"71.1074\">act</text></a></g><!--MD5=[85dc5b8b82fce8894d14ecab2f548062]\n",
       "@startuml\r\n",
       "skinparam ranksep 8\r\n",
       "skinparam rectangle {\r\n",
       " backgroundColor<<block>> LightGreen\r\n",
       "}\r\n",
       "skinparam monochrome true\r\n",
       "skinparam classbackgroundcolor white\r\n",
       "skinparam shadowing false\r\n",
       "skinparam wrapWidth 300\r\n",
       "hide circle\r\n",
       "\r\n",
       "package \"StateTest\" as E1  [[psysml:7751d53a-3d7b-46fc-b5d8-bf0ae3c7070c ]]  {\r\n",
       "def \"Sig\" as E2  <<(T,blue)attribute def>> [[psysml:85dbfb10-d456-4c59-a9e0-99da33bb7a4b ]] \r\n",
       "def \"Exit\" as E3  <<(T,blue)attribute def>> [[psysml:06ed69bb-03e4-455b-a820-630d0564221d ]] \r\n",
       "rec usage \"p\" as E4  [[psysml:f6292196-12b9-4bba-a758-98820cb4f3f5 ]] {\r\n",
       "}\r\n",
       "rec usage \"act\" as E5  <<(T,blue)action>> [[psysml:d7bec2b6-e32c-41d0-a208-370a3f1c18c8 ]] {\r\n",
       "}\r\n",
       "def \"S\" as E6  <<(T,blue)state def>> [[psysml:6343fae7-e97a-4dac-816a-0d66812becae ]] \r\n",
       "}\r\n",
       "@enduml\r\n",
       "\n",
       "PlantUML version 1.2020.13(Sat Jun 13 12:26:38 UTC 2020)\n",
       "(EPL source distribution)\n",
       "Java Runtime: OpenJDK Runtime Environment\n",
       "JVM: OpenJDK 64-Bit Server VM\n",
       "Default Encoding: UTF-8\n",
       "Language: en\n",
       "Country: null\n",
       "--></g></svg>"
      ]
     },
     "execution_count": 40,
     "metadata": {},
     "output_type": "execute_result"
    }
   ],
   "source": [
    "%viz --style=\"DEFAULT\" --view=\"Interconnection\" \"StateTest\""
   ]
  },
  {
   "cell_type": "code",
   "execution_count": 41,
   "id": "unlimited-resort",
   "metadata": {
    "execution": {
     "iopub.execute_input": "2021-03-25T13:48:17.289810Z",
     "iopub.status.busy": "2021-03-25T13:48:17.289042Z",
     "iopub.status.idle": "2021-03-25T13:48:17.360610Z",
     "shell.execute_reply": "2021-03-25T13:48:17.356072Z"
    }
   },
   "outputs": [
    {
     "data": {
      "image/svg+xml": [
       "<?xml version=\"1.0\" encoding=\"UTF-8\" standalone=\"no\"?><svg xmlns=\"http://www.w3.org/2000/svg\" xmlns:xlink=\"http://www.w3.org/1999/xlink\" contentScriptType=\"application/ecmascript\" contentStyleType=\"text/css\" height=\"537px\" preserveAspectRatio=\"none\" style=\"width:797px;height:537px;background:#000000;\" version=\"1.1\" viewBox=\"0 0 797 537\" width=\"797px\" zoomAndPan=\"magnify\"><defs/><g><rect fill=\"#09150C\" height=\"1\" style=\"stroke: #09150C; stroke-width: 1.0;\" width=\"1\" x=\"0\" y=\"0\"/><rect fill=\"#EAE2C9\" height=\"65.1875\" style=\"stroke: #EAE2C9; stroke-width: 1.0;\" width=\"796\" x=\"0\" y=\"0\"/><text fill=\"#000000\" font-family=\"sans-serif\" font-size=\"14\" font-weight=\"bold\" lengthAdjust=\"spacingAndGlyphs\" textLength=\"310\" x=\"10\" y=\"12.9951\">Add your own dedication into PlantUML</text><text fill=\"#000000\" font-family=\"sans-serif\" font-size=\"14\" lengthAdjust=\"spacingAndGlyphs\" textLength=\"0\" x=\"14\" y=\"29.292\"/><text fill=\"#000000\" font-family=\"sans-serif\" font-size=\"14\" lengthAdjust=\"spacingAndGlyphs\" textLength=\"154\" x=\"10\" y=\"45.5889\">For just $5 per month!</text><text fill=\"#000000\" font-family=\"sans-serif\" font-size=\"14\" lengthAdjust=\"spacingAndGlyphs\" textLength=\"69\" x=\"10\" y=\"61.8857\">Details on</text><a href=\"http://plantuml.com/dedication\" target=\"_top\" title=\"http://plantuml.com/dedication\" xlink:actuate=\"onRequest\" xlink:href=\"http://plantuml.com/dedication\" xlink:show=\"new\" xlink:title=\"http://plantuml.com/dedication\" xlink:type=\"simple\"><text fill=\"#000000\" font-family=\"sans-serif\" font-size=\"14\" font-style=\"italic\" lengthAdjust=\"spacingAndGlyphs\" textLength=\"213\" x=\"83\" y=\"61.8857\">http://plantuml.com/dedication</text></a><rect fill=\"#000000\" height=\"471.3125\" style=\"stroke: #000000; stroke-width: 1.0;\" width=\"796\" x=\"0\" y=\"65.1875\"/><rect fill=\"#33FF02\" height=\"21.2969\" style=\"stroke: #33FF02; stroke-width: 1.0;\" width=\"786\" x=\"5\" y=\"70.1875\"/><text fill=\"#000000\" font-family=\"sans-serif\" font-size=\"14\" font-weight=\"bold\" lengthAdjust=\"spacingAndGlyphs\" textLength=\"178\" x=\"6\" y=\"85.1875\">[From string (line 25) ]</text><text fill=\"#33FF02\" font-family=\"sans-serif\" font-size=\"14\" font-weight=\"bold\" lengthAdjust=\"spacingAndGlyphs\" textLength=\"0\" x=\"10\" y=\"105.4844\"/><text fill=\"#33FF02\" font-family=\"sans-serif\" font-size=\"14\" font-weight=\"bold\" lengthAdjust=\"spacingAndGlyphs\" textLength=\"79\" x=\"5\" y=\"121.7813\">@startuml</text><text fill=\"#33FF02\" font-family=\"sans-serif\" font-size=\"14\" font-weight=\"bold\" lengthAdjust=\"spacingAndGlyphs\" textLength=\"165\" x=\"5\" y=\"138.0781\">skinparam ranksep 8</text><text fill=\"#33FF02\" font-family=\"sans-serif\" font-size=\"14\" font-weight=\"bold\" lengthAdjust=\"spacingAndGlyphs\" textLength=\"228\" x=\"5\" y=\"154.375\">skinparam monochrome true</text><text fill=\"#33FF02\" font-family=\"sans-serif\" font-size=\"14\" font-weight=\"bold\" lengthAdjust=\"spacingAndGlyphs\" textLength=\"309\" x=\"5\" y=\"170.6719\">skinparam classbackgroundcolor white</text><text fill=\"#33FF02\" font-family=\"sans-serif\" font-size=\"14\" font-weight=\"bold\" lengthAdjust=\"spacingAndGlyphs\" textLength=\"215\" x=\"5\" y=\"186.9688\">skinparam shadowing false</text><text fill=\"#33FF02\" font-family=\"sans-serif\" font-size=\"14\" font-weight=\"bold\" lengthAdjust=\"spacingAndGlyphs\" textLength=\"206\" x=\"5\" y=\"203.2656\">skinparam wrapWidth 300</text><text fill=\"#33FF02\" font-family=\"sans-serif\" font-size=\"14\" font-weight=\"bold\" lengthAdjust=\"spacingAndGlyphs\" textLength=\"82\" x=\"5\" y=\"219.5625\">hide circle</text><text fill=\"#33FF02\" font-family=\"sans-serif\" font-size=\"14\" font-weight=\"bold\" lengthAdjust=\"spacingAndGlyphs\" textLength=\"0\" x=\"10\" y=\"235.8594\"/><text fill=\"#33FF02\" font-family=\"sans-serif\" font-size=\"14\" font-weight=\"bold\" lengthAdjust=\"spacingAndGlyphs\" textLength=\"780\" x=\"5\" y=\"252.1563\">rec usage \"act\" as E1  &lt;&lt;(T,blue)action&gt;&gt; [[psysml:d7bec2b6-e32c-41d0-a208-370a3f1c18c8 ]] {</text><text fill=\"#33FF02\" font-family=\"sans-serif\" font-size=\"14\" font-weight=\"bold\" lengthAdjust=\"spacingAndGlyphs\" textLength=\"10\" x=\"5\" y=\"268.4531\">}</text><text fill=\"#33FF02\" font-family=\"sans-serif\" font-size=\"14\" font-weight=\"bold\" lengthAdjust=\"spacingAndGlyphs\" textLength=\"0\" x=\"10\" y=\"284.75\"/><text fill=\"#33FF02\" font-family=\"sans-serif\" font-size=\"14\" font-weight=\"bold\" lengthAdjust=\"spacingAndGlyphs\" textLength=\"766\" x=\"5\" y=\"301.0469\">rec def \"S\" as E2  &lt;&lt;(T,blue)state def&gt;&gt; [[psysml:6343fae7-e97a-4dac-816a-0d66812becae ]] {</text><text fill=\"#33FF02\" font-family=\"sans-serif\" font-size=\"14\" font-weight=\"bold\" lengthAdjust=\"spacingAndGlyphs\" textLength=\"771\" x=\"5\" y=\"317.3438\">rec usage \"A\" as E3 &lt;&lt;perform action&gt;&gt; [[psysml:8359d21e-76a2-4117-aa0c-e497139fc203 ]] {</text><text fill=\"#33FF02\" font-family=\"sans-serif\" font-size=\"14\" font-weight=\"bold\" lengthAdjust=\"spacingAndGlyphs\" textLength=\"10\" x=\"5\" y=\"333.6406\">}</text><text fill=\"#33FF02\" font-family=\"sans-serif\" font-size=\"14\" font-weight=\"bold\" lengthAdjust=\"spacingAndGlyphs\" textLength=\"0\" x=\"10\" y=\"349.9375\"/><text fill=\"#33FF02\" font-family=\"sans-serif\" font-size=\"14\" font-weight=\"bold\" lengthAdjust=\"spacingAndGlyphs\" textLength=\"757\" x=\"5\" y=\"366.2344\">rec usage \"B\" as E4 &lt;&lt;perform action&gt;&gt; [[psysml:fefee72e-42fb-4d4a-8086-a3c1a01af58c ]] {</text><text fill=\"#33FF02\" font-family=\"sans-serif\" font-size=\"14\" font-weight=\"bold\" lengthAdjust=\"spacingAndGlyphs\" textLength=\"10\" x=\"5\" y=\"382.5313\">}</text><text fill=\"#33FF02\" font-family=\"sans-serif\" font-size=\"14\" font-weight=\"bold\" lengthAdjust=\"spacingAndGlyphs\" textLength=\"0\" x=\"10\" y=\"398.8281\"/><text fill=\"#33FF02\" font-family=\"sans-serif\" font-size=\"14\" font-weight=\"bold\" lengthAdjust=\"spacingAndGlyphs\" textLength=\"786\" x=\"5\" y=\"415.125\">rec usage \"act\" as E5 &lt;&lt;perform action&gt;&gt; [[psysml:0785ac9a-a9d7-4330-a90b-536bd85a1c26 ]] {</text><text fill=\"#33FF02\" font-family=\"sans-serif\" font-size=\"14\" font-weight=\"bold\" lengthAdjust=\"spacingAndGlyphs\" textLength=\"10\" x=\"5\" y=\"431.4219\">}</text><text fill=\"#33FF02\" font-family=\"sans-serif\" font-size=\"14\" font-weight=\"bold\" lengthAdjust=\"spacingAndGlyphs\" textLength=\"0\" x=\"10\" y=\"447.7188\"/><text fill=\"#33FF02\" font-family=\"sans-serif\" font-size=\"14\" font-weight=\"bold\" lengthAdjust=\"spacingAndGlyphs\" textLength=\"767\" x=\"5\" y=\"464.0156\">rec usage \"S1\" as E6  &lt;&lt;(T,blue)state&gt;&gt; [[psysml:df9bf7b7-ea8a-42e1-9b23-b8091030681c ]] {</text><text fill=\"#33FF02\" font-family=\"sans-serif\" font-size=\"14\" font-weight=\"bold\" lengthAdjust=\"spacingAndGlyphs\" textLength=\"10\" x=\"5\" y=\"480.3125\">}</text><text fill=\"#33FF02\" font-family=\"sans-serif\" font-size=\"14\" font-weight=\"bold\" lengthAdjust=\"spacingAndGlyphs\" textLength=\"0\" x=\"10\" y=\"496.6094\"/><text fill=\"#33FF02\" font-family=\"sans-serif\" font-size=\"14\" font-weight=\"bold\" lengthAdjust=\"spacingAndGlyphs\" textLength=\"10\" x=\"5\" y=\"512.9063\">{</text><text fill=\"#FF0000\" font-family=\"sans-serif\" font-size=\"14\" font-weight=\"bold\" lengthAdjust=\"spacingAndGlyphs\" textLength=\"106\" x=\"10\" y=\"529.2031\">Syntax Error?</text><!--MD5=[5164b541fc5d5242e0848d583b48acfb]\n",
       "@startuml\r\n",
       "skinparam ranksep 8\r\n",
       "skinparam monochrome true\r\n",
       "skinparam classbackgroundcolor white\r\n",
       "skinparam shadowing false\r\n",
       "skinparam wrapWidth 300\r\n",
       "hide circle\r\n",
       "\r\n",
       "rec usage \"act\" as E1  <<(T,blue)action>> [[psysml:d7bec2b6-e32c-41d0-a208-370a3f1c18c8 ]] {\r\n",
       "}\r\n",
       "\r\n",
       "rec def \"S\" as E2  <<(T,blue)state def>> [[psysml:6343fae7-e97a-4dac-816a-0d66812becae ]] {\r\n",
       "rec usage \"A\" as E3 <<perform action>> [[psysml:8359d21e-76a2-4117-aa0c-e497139fc203 ]] {\r\n",
       "}\r\n",
       "\r\n",
       "rec usage \"B\" as E4 <<perform action>> [[psysml:fefee72e-42fb-4d4a-8086-a3c1a01af58c ]] {\r\n",
       "}\r\n",
       "\r\n",
       "rec usage \"act\" as E5 <<perform action>> [[psysml:0785ac9a-a9d7-4330-a90b-536bd85a1c26 ]] {\r\n",
       "}\r\n",
       "\r\n",
       "rec usage \"S1\" as E6  <<(T,blue)state>> [[psysml:df9bf7b7-ea8a-42e1-9b23-b8091030681c ]] {\r\n",
       "}\r\n",
       "\r\n",
       "{\r\n",
       "{\r\n",
       "}\r\n",
       "\r\n",
       "rec usage \"D\" as E7 <<perform action>> [[psysml:13511cfd-781a-4ec2-8fcf-a4a28f7b6394 ]] {\r\n",
       "}\r\n",
       "\r\n",
       "}\r\n",
       "\r\n",
       "rec usage \"S2\" as E8  <<(T,blue)state>> [[psysml:372708ac-c185-450b-8b20-5b0e6796b1d2 ]] {\r\n",
       "rec usage \"doAction\" as E9 <<send action>> [[psysml:db8ff6bb-65b2-44b6-939f-52bfaf067d5c ]] {\r\n",
       "portin \"$x\" as E10  [[psysml:f2ac6743-4d1a-421e-9e84-f3280953fc52 ]] \r\n",
       "portout \"$result\" as E11  [[psysml:58832e21-8b8c-4456-b993-1dc2ff31e51d ]] \r\n",
       "}\r\n",
       "\r\n",
       "}\r\n",
       "\r\n",
       "{\r\n",
       "{\r\n",
       "}\r\n",
       "\r\n",
       "}\r\n",
       "\r\n",
       "rec usage \"T\" as E12  <<(T,blue)transition>> [[psysml:8fe1fd83-9e96-4978-be75-1a7ead5c4a85 ]] {\r\n",
       "rec usage \"S2\" as E13  <<(T,blue)state>> [[psysml:372708ac-c185-450b-8b20-5b0e6796b1d2 ]] {\r\n",
       "rec usage \"doAction\" as E14 <<send action>> [[psysml:db8ff6bb-65b2-44b6-939f-52bfaf067d5c ]] {\r\n",
       "portin \"$x\" as E15  [[psysml:f2ac6743-4d1a-421e-9e84-f3280953fc52 ]] \r\n",
       "portout \"$result\" as E16  [[psysml:58832e21-8b8c-4456-b993-1dc2ff31e51d ]] \r\n",
       "}\r\n",
       "\r\n",
       "}\r\n",
       "\r\n",
       "{\r\n",
       "}\r\n",
       "\r\n",
       "portout \"$result\" as E17  [[psysml:19fa8e9c-57e3-4ff0-b297-c44a7cb57e28 ]] \r\n",
       "{\r\n",
       "}\r\n",
       "\r\n",
       "}\r\n",
       "\r\n",
       "}\r\n",
       "\r\n",
       "@enduml\r\n",
       "\n",
       "PlantUML version 1.2020.13(Sat Jun 13 12:26:38 UTC 2020)\n",
       "(EPL source distribution)\n",
       "Java Runtime: OpenJDK Runtime Environment\n",
       "JVM: OpenJDK 64-Bit Server VM\n",
       "Default Encoding: UTF-8\n",
       "Language: en\n",
       "Country: null\n",
       "--></g></svg>"
      ]
     },
     "execution_count": 41,
     "metadata": {},
     "output_type": "execute_result"
    }
   ],
   "source": [
    "%viz --style=\"DEFAULT\" --view=\"Action\" \"StateTest\""
   ]
  },
  {
   "cell_type": "code",
   "execution_count": 42,
   "id": "personal-release",
   "metadata": {
    "execution": {
     "iopub.execute_input": "2021-03-25T13:48:17.406668Z",
     "iopub.status.busy": "2021-03-25T13:48:17.406009Z",
     "iopub.status.idle": "2021-03-25T13:48:17.838477Z",
     "shell.execute_reply": "2021-03-25T13:48:17.837031Z"
    }
   },
   "outputs": [
    {
     "data": {
      "image/svg+xml": [
       "<?xml version=\"1.0\" encoding=\"UTF-8\" standalone=\"no\"?><svg xmlns=\"http://www.w3.org/2000/svg\" xmlns:xlink=\"http://www.w3.org/1999/xlink\" contentScriptType=\"application/ecmascript\" contentStyleType=\"text/css\" height=\"471px\" preserveAspectRatio=\"none\" style=\"width:594px;height:471px;\" version=\"1.1\" viewBox=\"0 0 594 471\" width=\"594px\" zoomAndPan=\"magnify\"><defs/><g><!--MD5=[fbc87193dbaf4d95561dea2c320d4a47]\n",
       "cluster E1--><a href=\"psysml:7751d53a-3d7b-46fc-b5d8-bf0ae3c7070c\" target=\"_top\" title=\"psysml:7751d53a-3d7b-46fc-b5d8-bf0ae3c7070c\" xlink:actuate=\"onRequest\" xlink:href=\"psysml:7751d53a-3d7b-46fc-b5d8-bf0ae3c7070c\" xlink:show=\"new\" xlink:title=\"psysml:7751d53a-3d7b-46fc-b5d8-bf0ae3c7070c\" xlink:type=\"simple\"><polygon fill=\"#FFFFFF\" points=\"16,6,98,6,105,28.2969,572,28.2969,572,459,16,459,16,6\" style=\"stroke: #000000; stroke-width: 1.5;\"/><line style=\"stroke: #000000; stroke-width: 1.5;\" x1=\"16\" x2=\"105\" y1=\"28.2969\" y2=\"28.2969\"/><text fill=\"#000000\" font-family=\"sans-serif\" font-size=\"14\" font-weight=\"bold\" lengthAdjust=\"spacingAndGlyphs\" textLength=\"76\" x=\"20\" y=\"20.9951\">StateTest</text></a><!--MD5=[b4997ac47864f28c2f74865a473b2911]\n",
       "class E2--><a href=\"psysml:85dbfb10-d456-4c59-a9e0-99da33bb7a4b\" target=\"_top\" title=\"psysml:85dbfb10-d456-4c59-a9e0-99da33bb7a4b\" xlink:actuate=\"onRequest\" xlink:href=\"psysml:85dbfb10-d456-4c59-a9e0-99da33bb7a4b\" xlink:show=\"new\" xlink:title=\"psysml:85dbfb10-d456-4c59-a9e0-99da33bb7a4b\" xlink:type=\"simple\"><rect fill=\"#FFFFFF\" height=\"75.5469\" id=\"E2\" style=\"stroke: #383838; stroke-width: 1.5;\" width=\"95\" x=\"460.5\" y=\"83\"/><text fill=\"#000000\" font-family=\"sans-serif\" font-size=\"12\" font-style=\"italic\" lengthAdjust=\"spacingAndGlyphs\" textLength=\"93\" x=\"461.5\" y=\"99.1387\">«attribute def»</text><text fill=\"#000000\" font-family=\"sans-serif\" font-size=\"12\" lengthAdjust=\"spacingAndGlyphs\" textLength=\"19\" x=\"498.5\" y=\"113.1074\">Sig</text><line style=\"stroke: #383838; stroke-width: 1.5;\" x1=\"461.5\" x2=\"554.5\" y1=\"120.9375\" y2=\"120.9375\"/><text fill=\"#000000\" font-family=\"sans-serif\" font-size=\"11\" lengthAdjust=\"spacingAndGlyphs\" textLength=\"6\" x=\"466.5\" y=\"151.9526\">x</text><line style=\"stroke: #383838; stroke-width: 1.0;\" x1=\"461.5\" x2=\"480.5\" y1=\"135.3398\" y2=\"135.3398\"/><text fill=\"#000000\" font-family=\"sans-serif\" font-size=\"11\" lengthAdjust=\"spacingAndGlyphs\" textLength=\"55\" x=\"480.5\" y=\"138.6479\">attributes</text><line style=\"stroke: #383838; stroke-width: 1.0;\" x1=\"535.5\" x2=\"554.5\" y1=\"135.3398\" y2=\"135.3398\"/></a><!--MD5=[09b614a08d8cba4a07c9adeb5e0fee81]\n",
       "class E3--><a href=\"psysml:06ed69bb-03e4-455b-a820-630d0564221d\" target=\"_top\" title=\"psysml:06ed69bb-03e4-455b-a820-630d0564221d\" xlink:actuate=\"onRequest\" xlink:href=\"psysml:06ed69bb-03e4-455b-a820-630d0564221d\" xlink:show=\"new\" xlink:title=\"psysml:06ed69bb-03e4-455b-a820-630d0564221d\" xlink:type=\"simple\"><rect fill=\"#FFFFFF\" height=\"45.9375\" id=\"E3\" style=\"stroke: #383838; stroke-width: 1.5;\" width=\"95\" x=\"330.5\" y=\"98\"/><text fill=\"#000000\" font-family=\"sans-serif\" font-size=\"12\" font-style=\"italic\" lengthAdjust=\"spacingAndGlyphs\" textLength=\"93\" x=\"331.5\" y=\"114.1387\">«attribute def»</text><text fill=\"#000000\" font-family=\"sans-serif\" font-size=\"12\" lengthAdjust=\"spacingAndGlyphs\" textLength=\"22\" x=\"367\" y=\"128.1074\">Exit</text><line style=\"stroke: #383838; stroke-width: 1.5;\" x1=\"331.5\" x2=\"424.5\" y1=\"135.9375\" y2=\"135.9375\"/></a><!--MD5=[ebbe1d658d1005bcc118a6aa81145e00]\n",
       "class E4--><a href=\"psysml:f6292196-12b9-4bba-a758-98820cb4f3f5\" target=\"_top\" title=\"psysml:f6292196-12b9-4bba-a758-98820cb4f3f5\" xlink:actuate=\"onRequest\" xlink:href=\"psysml:f6292196-12b9-4bba-a758-98820cb4f3f5\" xlink:show=\"new\" xlink:title=\"psysml:f6292196-12b9-4bba-a758-98820cb4f3f5\" xlink:type=\"simple\"><rect fill=\"#FFFFFF\" height=\"45.9375\" id=\"E4\" rx=\"10\" ry=\"10\" style=\"stroke: #383838; stroke-width: 1.5;\" width=\"42\" x=\"253\" y=\"98\"/><text fill=\"#000000\" font-family=\"sans-serif\" font-size=\"12\" font-style=\"italic\" lengthAdjust=\"spacingAndGlyphs\" textLength=\"40\" x=\"254\" y=\"114.1387\">«part»</text><text fill=\"#000000\" font-family=\"sans-serif\" font-size=\"12\" lengthAdjust=\"spacingAndGlyphs\" textLength=\"8\" x=\"270\" y=\"128.1074\">p</text><line style=\"stroke: #383838; stroke-width: 1.5;\" x1=\"254\" x2=\"294\" y1=\"135.9375\" y2=\"135.9375\"/></a><!--MD5=[270fce915f116d4de14055a7c1d9a0f3]\n",
       "class E5--><a href=\"psysml:d7bec2b6-e32c-41d0-a208-370a3f1c18c8\" target=\"_top\" title=\"psysml:d7bec2b6-e32c-41d0-a208-370a3f1c18c8\" xlink:actuate=\"onRequest\" xlink:href=\"psysml:d7bec2b6-e32c-41d0-a208-370a3f1c18c8\" xlink:show=\"new\" xlink:title=\"psysml:d7bec2b6-e32c-41d0-a208-370a3f1c18c8\" xlink:type=\"simple\"><rect fill=\"#FFFFFF\" height=\"45.9375\" id=\"E5\" rx=\"10\" ry=\"10\" style=\"stroke: #383838; stroke-width: 1.5;\" width=\"55\" x=\"162.5\" y=\"98\"/><text fill=\"#000000\" font-family=\"sans-serif\" font-size=\"12\" font-style=\"italic\" lengthAdjust=\"spacingAndGlyphs\" textLength=\"53\" x=\"163.5\" y=\"114.1387\">«action»</text><text fill=\"#000000\" font-family=\"sans-serif\" font-size=\"12\" lengthAdjust=\"spacingAndGlyphs\" textLength=\"20\" x=\"180\" y=\"128.1074\">act</text><line style=\"stroke: #383838; stroke-width: 1.5;\" x1=\"163.5\" x2=\"216.5\" y1=\"135.9375\" y2=\"135.9375\"/></a><!--MD5=[60a26617385b1d2d0262a64233df1f8d]\n",
       "class E6--><a href=\"psysml:6343fae7-e97a-4dac-816a-0d66812becae\" target=\"_top\" title=\"psysml:6343fae7-e97a-4dac-816a-0d66812becae\" xlink:actuate=\"onRequest\" xlink:href=\"psysml:6343fae7-e97a-4dac-816a-0d66812becae\" xlink:show=\"new\" xlink:title=\"psysml:6343fae7-e97a-4dac-816a-0d66812becae\" xlink:type=\"simple\"><rect fill=\"#FFFFFF\" height=\"160.375\" id=\"E6\" style=\"stroke: #383838; stroke-width: 1.5;\" width=\"95\" x=\"32.5\" y=\"41\"/><text fill=\"#000000\" font-family=\"sans-serif\" font-size=\"12\" font-style=\"italic\" lengthAdjust=\"spacingAndGlyphs\" textLength=\"71\" x=\"44.5\" y=\"57.1387\">«state def»</text><text fill=\"#000000\" font-family=\"sans-serif\" font-size=\"12\" lengthAdjust=\"spacingAndGlyphs\" textLength=\"8\" x=\"76\" y=\"71.1074\">S</text><line style=\"stroke: #383838; stroke-width: 1.5;\" x1=\"33.5\" x2=\"126.5\" y1=\"78.9375\" y2=\"78.9375\"/><text fill=\"#000000\" font-family=\"sans-serif\" font-size=\"11\" lengthAdjust=\"spacingAndGlyphs\" textLength=\"17\" x=\"38.5\" y=\"109.9526\">act</text><text fill=\"#000000\" font-family=\"sans-serif\" font-size=\"11\" lengthAdjust=\"spacingAndGlyphs\" textLength=\"7\" x=\"38.5\" y=\"122.7573\">A</text><text fill=\"#000000\" font-family=\"sans-serif\" font-size=\"11\" lengthAdjust=\"spacingAndGlyphs\" textLength=\"8\" x=\"38.5\" y=\"135.562\">B</text><line style=\"stroke: #383838; stroke-width: 1.0;\" x1=\"33.5\" x2=\"36.5\" y1=\"93.3398\" y2=\"93.3398\"/><text fill=\"#000000\" font-family=\"sans-serif\" font-size=\"11\" lengthAdjust=\"spacingAndGlyphs\" textLength=\"87\" x=\"36.5\" y=\"96.6479\">performActions</text><line style=\"stroke: #383838; stroke-width: 1.0;\" x1=\"123.5\" x2=\"126.5\" y1=\"93.3398\" y2=\"93.3398\"/><text fill=\"#000000\" font-family=\"sans-serif\" font-size=\"11\" lengthAdjust=\"spacingAndGlyphs\" textLength=\"15\" x=\"38.5\" y=\"165.1714\">S1</text><line style=\"stroke: #383838; stroke-width: 1.0;\" x1=\"33.5\" x2=\"62\" y1=\"148.5586\" y2=\"148.5586\"/><text fill=\"#000000\" font-family=\"sans-serif\" font-size=\"11\" lengthAdjust=\"spacingAndGlyphs\" textLength=\"36\" x=\"62\" y=\"151.8667\">states</text><line style=\"stroke: #383838; stroke-width: 1.0;\" x1=\"98\" x2=\"126.5\" y1=\"148.5586\" y2=\"148.5586\"/><text fill=\"#000000\" font-family=\"sans-serif\" font-size=\"11\" lengthAdjust=\"spacingAndGlyphs\" textLength=\"7\" x=\"38.5\" y=\"194.7808\">T</text><line style=\"stroke: #383838; stroke-width: 1.0;\" x1=\"33.5\" x2=\"49.5\" y1=\"178.168\" y2=\"178.168\"/><text fill=\"#000000\" font-family=\"sans-serif\" font-size=\"11\" lengthAdjust=\"spacingAndGlyphs\" textLength=\"61\" x=\"49.5\" y=\"181.4761\">transitions</text><line style=\"stroke: #383838; stroke-width: 1.0;\" x1=\"110.5\" x2=\"126.5\" y1=\"178.168\" y2=\"178.168\"/></a><!--MD5=[1dd1bfd58a279cf63c5f349dbc8fc6a1]\n",
       "class E11--><a href=\"psysml:372708ac-c185-450b-8b20-5b0e6796b1d2\" target=\"_top\" title=\"psysml:372708ac-c185-450b-8b20-5b0e6796b1d2\" xlink:actuate=\"onRequest\" xlink:href=\"psysml:372708ac-c185-450b-8b20-5b0e6796b1d2\" xlink:show=\"new\" xlink:title=\"psysml:372708ac-c185-450b-8b20-5b0e6796b1d2\" xlink:type=\"simple\"><rect fill=\"#FFFFFF\" height=\"45.9375\" id=\"E11\" rx=\"10\" ry=\"10\" style=\"stroke: #383838; stroke-width: 1.5;\" width=\"49\" x=\"55.5\" y=\"261\"/><text fill=\"#000000\" font-family=\"sans-serif\" font-size=\"12\" font-style=\"italic\" lengthAdjust=\"spacingAndGlyphs\" textLength=\"47\" x=\"56.5\" y=\"277.1387\">«state»</text><text fill=\"#000000\" font-family=\"sans-serif\" font-size=\"12\" lengthAdjust=\"spacingAndGlyphs\" textLength=\"16\" x=\"72\" y=\"291.1074\">S2</text><line style=\"stroke: #383838; stroke-width: 1.5;\" x1=\"56.5\" x2=\"103.5\" y1=\"298.9375\" y2=\"298.9375\"/></a><!--MD5=[49a0ec8f00dab7302a31f22d0f0fe584]\n",
       "class E12--><a href=\"psysml:db8ff6bb-65b2-44b6-939f-52bfaf067d5c\" target=\"_top\" title=\"psysml:db8ff6bb-65b2-44b6-939f-52bfaf067d5c\" xlink:actuate=\"onRequest\" xlink:href=\"psysml:db8ff6bb-65b2-44b6-939f-52bfaf067d5c\" xlink:show=\"new\" xlink:title=\"psysml:db8ff6bb-65b2-44b6-939f-52bfaf067d5c\" xlink:type=\"simple\"><rect fill=\"#FFFFFF\" height=\"75.5469\" id=\"E12\" rx=\"10\" ry=\"10\" style=\"stroke: #383838; stroke-width: 1.5;\" width=\"90\" x=\"35\" y=\"367\"/><text fill=\"#000000\" font-family=\"sans-serif\" font-size=\"12\" font-style=\"italic\" lengthAdjust=\"spacingAndGlyphs\" textLength=\"88\" x=\"36\" y=\"383.1387\">«send action»</text><text fill=\"#000000\" font-family=\"sans-serif\" font-size=\"12\" lengthAdjust=\"spacingAndGlyphs\" textLength=\"55\" x=\"52.5\" y=\"397.1074\">doAction</text><line style=\"stroke: #383838; stroke-width: 1.5;\" x1=\"36\" x2=\"124\" y1=\"404.9375\" y2=\"404.9375\"/><text fill=\"#000000\" font-family=\"sans-serif\" font-size=\"11\" lengthAdjust=\"spacingAndGlyphs\" textLength=\"25\" x=\"41\" y=\"435.9526\">item</text><line style=\"stroke: #383838; stroke-width: 1.0;\" x1=\"36\" x2=\"42.5\" y1=\"419.3398\" y2=\"419.3398\"/><text fill=\"#000000\" font-family=\"sans-serif\" font-size=\"11\" lengthAdjust=\"spacingAndGlyphs\" textLength=\"75\" x=\"42.5\" y=\"422.6479\">itemFeatures</text><line style=\"stroke: #383838; stroke-width: 1.0;\" x1=\"117.5\" x2=\"124\" y1=\"419.3398\" y2=\"419.3398\"/></a><!--MD5=[1f5f03483f7de0d5b3680a7f6650997f]\n",
       "reverse link E6 to E11--><a href=\"psysml:372708ac-c185-450b-8b20-5b0e6796b1d2\" target=\"_top\" title=\"psysml:372708ac-c185-450b-8b20-5b0e6796b1d2\" xlink:actuate=\"onRequest\" xlink:href=\"psysml:372708ac-c185-450b-8b20-5b0e6796b1d2\" xlink:show=\"new\" xlink:title=\"psysml:372708ac-c185-450b-8b20-5b0e6796b1d2\" xlink:type=\"simple\"><path d=\"M80,214.17 C80,231.58 80,248.25 80,260.82 \" fill=\"none\" id=\"E6&lt;-E11\" style=\"stroke: #383838; stroke-width: 1.0;\"/><polygon fill=\"#383838\" points=\"80,201.09,76.0066,207.0944,80.0132,213.09,84.0066,207.0856,80,201.09\" style=\"stroke: #383838; stroke-width: 1.0;\"/></a><!--MD5=[94adabc162ce7e41b39f13be14fbaeb3]\n",
       "reverse link E11 to E12--><a href=\"psysml:db8ff6bb-65b2-44b6-939f-52bfaf067d5c\" target=\"_top\" title=\"psysml:db8ff6bb-65b2-44b6-939f-52bfaf067d5c\" xlink:actuate=\"onRequest\" xlink:href=\"psysml:db8ff6bb-65b2-44b6-939f-52bfaf067d5c\" xlink:show=\"new\" xlink:title=\"psysml:db8ff6bb-65b2-44b6-939f-52bfaf067d5c\" xlink:type=\"simple\"><path d=\"M80,320.23 C80,334.82 80,351.76 80,366.58 \" fill=\"none\" id=\"E11&lt;-E12\" style=\"stroke: #383838; stroke-width: 1.0;\"/><polygon fill=\"#FFFFFF\" points=\"80,307.1,76,313.1,80,319.1,84,313.1,80,307.1\" style=\"stroke: #383838; stroke-width: 1.0;\"/></a><!--MD5=[4b54bfee4f81342ce0ba5439ba2658e9]\n",
       "@startuml\r\n",
       "skinparam monochrome true\r\n",
       "skinparam classbackgroundcolor white\r\n",
       "skinparam shadowing false\r\n",
       "skinparam wrapWidth 300\r\n",
       "hide circle\r\n",
       "\r\n",
       "package \"StateTest\" as E1  [[psysml:7751d53a-3d7b-46fc-b5d8-bf0ae3c7070c ]]  {\r\n",
       "comp def \"Sig\" as E2  <<(T,blue)attribute def>> [[psysml:85dbfb10-d456-4c59-a9e0-99da33bb7a4b ]] {\r\n",
       "- - attributes - -\r\n",
       "x\r\n",
       "}\r\n",
       "comp def \"Exit\" as E3  <<(T,blue)attribute def>> [[psysml:06ed69bb-03e4-455b-a820-630d0564221d ]] {\r\n",
       "}\r\n",
       "comp usage \"p\" as E4  <<(T,blue)part>> [[psysml:f6292196-12b9-4bba-a758-98820cb4f3f5 ]] {\r\n",
       "}\r\n",
       "comp usage \"act\" as E5  <<(T,blue)action>> [[psysml:d7bec2b6-e32c-41d0-a208-370a3f1c18c8 ]] {\r\n",
       "}\r\n",
       "comp def \"S\" as E6  <<(T,blue)state def>> [[psysml:6343fae7-e97a-4dac-816a-0d66812becae ]] {\r\n",
       "- - performActions - -\r\n",
       "act\r\n",
       "A\r\n",
       "B\r\n",
       "- - states - -\r\n",
       "S1\r\n",
       "- - transitions - -\r\n",
       "T\r\n",
       "}\r\n",
       "comp usage \"S2\" as E11  <<(T,blue)state>> [[psysml:372708ac-c185-450b-8b20-5b0e6796b1d2 ]] {\r\n",
       "}\r\n",
       "comp usage \"doAction\" as E12 <<send action>> [[psysml:db8ff6bb-65b2-44b6-939f-52bfaf067d5c ]] {\r\n",
       "- - itemFeatures - -\r\n",
       "item\r\n",
       "}\r\n",
       "E6 *- - E11 [[psysml:372708ac-c185-450b-8b20-5b0e6796b1d2 ]] \r\n",
       "E11 o- - E12 [[psysml:db8ff6bb-65b2-44b6-939f-52bfaf067d5c ]] \r\n",
       "}\r\n",
       "@enduml\r\n",
       "\n",
       "PlantUML version 1.2020.13(Sat Jun 13 12:26:38 UTC 2020)\n",
       "(EPL source distribution)\n",
       "Java Runtime: OpenJDK Runtime Environment\n",
       "JVM: OpenJDK 64-Bit Server VM\n",
       "Default Encoding: UTF-8\n",
       "Language: en\n",
       "Country: null\n",
       "--></g></svg>"
      ]
     },
     "execution_count": 42,
     "metadata": {},
     "output_type": "execute_result"
    }
   ],
   "source": [
    "%viz --style=\"DEFAULT\" --view=\"Sequence\" \"StateTest\""
   ]
  },
  {
   "cell_type": "code",
   "execution_count": 43,
   "id": "human-glory",
   "metadata": {
    "execution": {
     "iopub.execute_input": "2021-03-25T13:48:17.888197Z",
     "iopub.status.busy": "2021-03-25T13:48:17.887791Z",
     "iopub.status.idle": "2021-03-25T13:48:18.061922Z",
     "shell.execute_reply": "2021-03-25T13:48:18.060092Z"
    }
   },
   "outputs": [
    {
     "data": {
      "image/svg+xml": [
       "<?xml version=\"1.0\" encoding=\"UTF-8\" standalone=\"no\"?><svg xmlns=\"http://www.w3.org/2000/svg\" xmlns:xlink=\"http://www.w3.org/1999/xlink\" contentScriptType=\"application/ecmascript\" contentStyleType=\"text/css\" height=\"570px\" preserveAspectRatio=\"none\" style=\"width:819px;height:570px;\" version=\"1.1\" viewBox=\"0 0 819 570\" width=\"819px\" zoomAndPan=\"magnify\"><defs/><g><!--MD5=[fbc87193dbaf4d95561dea2c320d4a47]\n",
       "cluster E1--><a href=\"psysml:7751d53a-3d7b-46fc-b5d8-bf0ae3c7070c\" target=\"_top\" title=\"psysml:7751d53a-3d7b-46fc-b5d8-bf0ae3c7070c\" xlink:actuate=\"onRequest\" xlink:href=\"psysml:7751d53a-3d7b-46fc-b5d8-bf0ae3c7070c\" xlink:show=\"new\" xlink:title=\"psysml:7751d53a-3d7b-46fc-b5d8-bf0ae3c7070c\" xlink:type=\"simple\"><polygon fill=\"#FFFFFF\" points=\"16,6,98,6,105,28.2969,797,28.2969,797,558,16,558,16,6\" style=\"stroke: #000000; stroke-width: 1.5;\"/><line style=\"stroke: #000000; stroke-width: 1.5;\" x1=\"16\" x2=\"105\" y1=\"28.2969\" y2=\"28.2969\"/><text fill=\"#000000\" font-family=\"sans-serif\" font-size=\"14\" font-weight=\"bold\" lengthAdjust=\"spacingAndGlyphs\" textLength=\"76\" x=\"20\" y=\"20.9951\">StateTest</text></a><!--MD5=[14e3b0961a2654348d326746436168a1]\n",
       "cluster E6--><a href=\"psysml:6343fae7-e97a-4dac-816a-0d66812becae\" target=\"_top\" title=\"psysml:6343fae7-e97a-4dac-816a-0d66812becae\" xlink:actuate=\"onRequest\" xlink:href=\"psysml:6343fae7-e97a-4dac-816a-0d66812becae\" xlink:show=\"new\" xlink:title=\"psysml:6343fae7-e97a-4dac-816a-0d66812becae\" xlink:type=\"simple\"><rect fill=\"#FFFFFF\" height=\"485\" id=\"E6\" style=\"stroke: #383838; stroke-width: 1.5;\" width=\"327\" x=\"446\" y=\"49\"/><rect fill=\"#F8F8F8\" height=\"37.9375\" style=\"stroke: #383838; stroke-width: 1.5;\" width=\"327\" x=\"446\" y=\"49\"/><text fill=\"#000000\" font-family=\"sans-serif\" font-size=\"12\" font-style=\"italic\" lengthAdjust=\"spacingAndGlyphs\" textLength=\"71\" x=\"574\" y=\"65.1387\">«state def»</text><text fill=\"#000000\" font-family=\"sans-serif\" font-size=\"12\" lengthAdjust=\"spacingAndGlyphs\" textLength=\"8\" x=\"605.5\" y=\"79.1074\">S</text><line style=\"stroke: #383838; stroke-width: 1.0;\" x1=\"446\" x2=\"773\" y1=\"132.8438\" y2=\"132.8438\"/><text fill=\"#000000\" font-family=\"sans-serif\" font-size=\"12\" font-weight=\"bold\" lengthAdjust=\"spacingAndGlyphs\" textLength=\"38\" x=\"451\" y=\"100.0762\">entry</text><text fill=\"#000000\" font-family=\"sans-serif\" font-size=\"12\" lengthAdjust=\"spacingAndGlyphs\" textLength=\"16\" x=\"489\" y=\"100.0762\">/ A</text><text fill=\"#000000\" font-family=\"sans-serif\" font-size=\"12\" font-weight=\"bold\" lengthAdjust=\"spacingAndGlyphs\" textLength=\"18\" x=\"451\" y=\"114.0449\">do</text><text fill=\"#000000\" font-family=\"sans-serif\" font-size=\"12\" lengthAdjust=\"spacingAndGlyphs\" textLength=\"16\" x=\"469\" y=\"114.0449\">/ B</text><text fill=\"#000000\" font-family=\"sans-serif\" font-size=\"12\" font-weight=\"bold\" lengthAdjust=\"spacingAndGlyphs\" textLength=\"26\" x=\"451\" y=\"128.0137\">exit</text><text fill=\"#000000\" font-family=\"sans-serif\" font-size=\"12\" lengthAdjust=\"spacingAndGlyphs\" textLength=\"28\" x=\"477\" y=\"128.0137\">/ act</text></a><!--MD5=[b4997ac47864f28c2f74865a473b2911]\n",
       "class E2--><a href=\"psysml:85dbfb10-d456-4c59-a9e0-99da33bb7a4b\" target=\"_top\" title=\"psysml:85dbfb10-d456-4c59-a9e0-99da33bb7a4b\" xlink:actuate=\"onRequest\" xlink:href=\"psysml:85dbfb10-d456-4c59-a9e0-99da33bb7a4b\" xlink:show=\"new\" xlink:title=\"psysml:85dbfb10-d456-4c59-a9e0-99da33bb7a4b\" xlink:type=\"simple\"><rect fill=\"#FFFFFF\" height=\"75.5469\" id=\"E2\" style=\"stroke: #383838; stroke-width: 1.5;\" width=\"95\" x=\"334.5\" y=\"119\"/><text fill=\"#000000\" font-family=\"sans-serif\" font-size=\"12\" font-style=\"italic\" lengthAdjust=\"spacingAndGlyphs\" textLength=\"93\" x=\"335.5\" y=\"135.1387\">«attribute def»</text><text fill=\"#000000\" font-family=\"sans-serif\" font-size=\"12\" lengthAdjust=\"spacingAndGlyphs\" textLength=\"19\" x=\"372.5\" y=\"149.1074\">Sig</text><line style=\"stroke: #383838; stroke-width: 1.5;\" x1=\"335.5\" x2=\"428.5\" y1=\"156.9375\" y2=\"156.9375\"/><text fill=\"#000000\" font-family=\"sans-serif\" font-size=\"11\" lengthAdjust=\"spacingAndGlyphs\" textLength=\"6\" x=\"340.5\" y=\"187.9526\">x</text><line style=\"stroke: #383838; stroke-width: 1.0;\" x1=\"335.5\" x2=\"354.5\" y1=\"171.3398\" y2=\"171.3398\"/><text fill=\"#000000\" font-family=\"sans-serif\" font-size=\"11\" lengthAdjust=\"spacingAndGlyphs\" textLength=\"55\" x=\"354.5\" y=\"174.6479\">attributes</text><line style=\"stroke: #383838; stroke-width: 1.0;\" x1=\"409.5\" x2=\"428.5\" y1=\"171.3398\" y2=\"171.3398\"/></a><!--MD5=[09b614a08d8cba4a07c9adeb5e0fee81]\n",
       "class E3--><a href=\"psysml:06ed69bb-03e4-455b-a820-630d0564221d\" target=\"_top\" title=\"psysml:06ed69bb-03e4-455b-a820-630d0564221d\" xlink:actuate=\"onRequest\" xlink:href=\"psysml:06ed69bb-03e4-455b-a820-630d0564221d\" xlink:show=\"new\" xlink:title=\"psysml:06ed69bb-03e4-455b-a820-630d0564221d\" xlink:type=\"simple\"><rect fill=\"#FFFFFF\" height=\"45.9375\" id=\"E3\" style=\"stroke: #383838; stroke-width: 1.5;\" width=\"95\" x=\"204.5\" y=\"134\"/><text fill=\"#000000\" font-family=\"sans-serif\" font-size=\"12\" font-style=\"italic\" lengthAdjust=\"spacingAndGlyphs\" textLength=\"93\" x=\"205.5\" y=\"150.1387\">«attribute def»</text><text fill=\"#000000\" font-family=\"sans-serif\" font-size=\"12\" lengthAdjust=\"spacingAndGlyphs\" textLength=\"22\" x=\"241\" y=\"164.1074\">Exit</text><line style=\"stroke: #383838; stroke-width: 1.5;\" x1=\"205.5\" x2=\"298.5\" y1=\"171.9375\" y2=\"171.9375\"/></a><!--MD5=[ebbe1d658d1005bcc118a6aa81145e00]\n",
       "class E4--><a href=\"psysml:f6292196-12b9-4bba-a758-98820cb4f3f5\" target=\"_top\" title=\"psysml:f6292196-12b9-4bba-a758-98820cb4f3f5\" xlink:actuate=\"onRequest\" xlink:href=\"psysml:f6292196-12b9-4bba-a758-98820cb4f3f5\" xlink:show=\"new\" xlink:title=\"psysml:f6292196-12b9-4bba-a758-98820cb4f3f5\" xlink:type=\"simple\"><rect fill=\"#FFFFFF\" height=\"45.9375\" id=\"E4\" rx=\"10\" ry=\"10\" style=\"stroke: #383838; stroke-width: 1.5;\" width=\"42\" x=\"127\" y=\"134\"/><text fill=\"#000000\" font-family=\"sans-serif\" font-size=\"12\" font-style=\"italic\" lengthAdjust=\"spacingAndGlyphs\" textLength=\"40\" x=\"128\" y=\"150.1387\">«part»</text><text fill=\"#000000\" font-family=\"sans-serif\" font-size=\"12\" lengthAdjust=\"spacingAndGlyphs\" textLength=\"8\" x=\"144\" y=\"164.1074\">p</text><line style=\"stroke: #383838; stroke-width: 1.5;\" x1=\"128\" x2=\"168\" y1=\"171.9375\" y2=\"171.9375\"/></a><g id=\"E1.E5\"><a href=\"psysml:d7bec2b6-e32c-41d0-a208-370a3f1c18c8\" target=\"_top\" title=\"psysml:d7bec2b6-e32c-41d0-a208-370a3f1c18c8\" xlink:actuate=\"onRequest\" xlink:href=\"psysml:d7bec2b6-e32c-41d0-a208-370a3f1c18c8\" xlink:show=\"new\" xlink:title=\"psysml:d7bec2b6-e32c-41d0-a208-370a3f1c18c8\" xlink:type=\"simple\"><rect fill=\"#FFFFFF\" height=\"42.9375\" id=\"E5\" rx=\"10\" ry=\"10\" style=\"stroke: #383838; stroke-width: 1.5;\" width=\"60\" x=\"32\" y=\"135.5\"/><rect fill=\"#F8F8F8\" height=\"37.9375\" rx=\"10\" ry=\"10\" style=\"stroke: #F8F8F8; stroke-width: 1.5;\" width=\"60\" x=\"32\" y=\"135.5\"/><rect fill=\"#F8F8F8\" height=\"10\" style=\"stroke: #F8F8F8; stroke-width: 1.5;\" width=\"60\" x=\"32\" y=\"163.4375\"/><rect fill=\"none\" height=\"42.9375\" id=\"E5\" rx=\"10\" ry=\"10\" style=\"stroke: #383838; stroke-width: 1.5;\" width=\"60\" x=\"32\" y=\"135.5\"/><text fill=\"#000000\" font-family=\"sans-serif\" font-size=\"12\" font-style=\"italic\" lengthAdjust=\"spacingAndGlyphs\" textLength=\"53\" x=\"35.5\" y=\"151.6387\">«action»</text><text fill=\"#000000\" font-family=\"sans-serif\" font-size=\"12\" lengthAdjust=\"spacingAndGlyphs\" textLength=\"20\" x=\"52\" y=\"165.6074\">act</text></a></g><ellipse cx=\"558\" cy=\"157\" fill=\"#000000\" rx=\"10\" ry=\"10\" style=\"stroke: none; stroke-width: 1.0;\"/><ellipse cx=\"558\" cy=\"508\" fill=\"none\" rx=\"10\" ry=\"10\" style=\"stroke: #000000; stroke-width: 1.0;\"/><ellipse cx=\"558.5\" cy=\"508.5\" fill=\"#000000\" rx=\"6\" ry=\"6\" style=\"stroke: none; stroke-width: 1.0;\"/><g id=\"E1.E6.E7\"><a href=\"psysml:df9bf7b7-ea8a-42e1-9b23-b8091030681c\" target=\"_top\" title=\"psysml:df9bf7b7-ea8a-42e1-9b23-b8091030681c\" xlink:actuate=\"onRequest\" xlink:href=\"psysml:df9bf7b7-ea8a-42e1-9b23-b8091030681c\" xlink:show=\"new\" xlink:title=\"psysml:df9bf7b7-ea8a-42e1-9b23-b8091030681c\" xlink:type=\"simple\"><rect fill=\"#FFFFFF\" height=\"40\" id=\"E7\" rx=\"10\" ry=\"10\" style=\"stroke: #383838; stroke-width: 1.5;\" width=\"50\" x=\"533\" y=\"256\"/><rect fill=\"#F8F8F8\" height=\"23.9688\" rx=\"10\" ry=\"10\" style=\"stroke: #F8F8F8; stroke-width: 1.5;\" width=\"50\" x=\"533\" y=\"256\"/><rect fill=\"#F8F8F8\" height=\"10\" style=\"stroke: #F8F8F8; stroke-width: 1.5;\" width=\"50\" x=\"533\" y=\"269.9688\"/><rect fill=\"none\" height=\"40\" id=\"E7\" rx=\"10\" ry=\"10\" style=\"stroke: #383838; stroke-width: 1.5;\" width=\"50\" x=\"533\" y=\"256\"/><text fill=\"#000000\" font-family=\"sans-serif\" font-size=\"12\" lengthAdjust=\"spacingAndGlyphs\" textLength=\"16\" x=\"550\" y=\"272.1387\">S1</text></a></g><g id=\"E1.E6.E8\"><a href=\"psysml:372708ac-c185-450b-8b20-5b0e6796b1d2\" target=\"_top\" title=\"psysml:372708ac-c185-450b-8b20-5b0e6796b1d2\" xlink:actuate=\"onRequest\" xlink:href=\"psysml:372708ac-c185-450b-8b20-5b0e6796b1d2\" xlink:show=\"new\" xlink:title=\"psysml:372708ac-c185-450b-8b20-5b0e6796b1d2\" xlink:type=\"simple\"><rect fill=\"#FFFFFF\" height=\"47.9375\" id=\"E8\" rx=\"10\" ry=\"10\" style=\"stroke: #383838; stroke-width: 1.5;\" width=\"50\" x=\"533\" y=\"373\"/><rect fill=\"#F8F8F8\" height=\"23.9688\" rx=\"10\" ry=\"10\" style=\"stroke: #F8F8F8; stroke-width: 1.5;\" width=\"50\" x=\"533\" y=\"373\"/><rect fill=\"#F8F8F8\" height=\"10\" style=\"stroke: #F8F8F8; stroke-width: 1.5;\" width=\"50\" x=\"533\" y=\"386.9688\"/><rect fill=\"none\" height=\"47.9375\" id=\"E8\" rx=\"10\" ry=\"10\" style=\"stroke: #383838; stroke-width: 1.5;\" width=\"50\" x=\"533\" y=\"373\"/><text fill=\"#000000\" font-family=\"sans-serif\" font-size=\"12\" lengthAdjust=\"spacingAndGlyphs\" textLength=\"16\" x=\"550\" y=\"389.1387\">S2</text><line style=\"stroke: #383838; stroke-width: 1.0;\" x1=\"533\" x2=\"583\" y1=\"396.9688\" y2=\"396.9688\"/><text fill=\"#000000\" font-family=\"sans-serif\" font-size=\"12\" font-weight=\"bold\" lengthAdjust=\"spacingAndGlyphs\" textLength=\"18\" x=\"538\" y=\"410.1074\">do</text><text fill=\"#000000\" font-family=\"sans-serif\" font-size=\"12\" lengthAdjust=\"spacingAndGlyphs\" textLength=\"4\" x=\"556\" y=\"410.1074\">/</text></a></g><!--MD5=[5a531d3a85f3339e6e197084acb48195]\n",
       "link *start*E6 to E7--><a href=\"psysml:63e0b6b5-21d2-46c8-92d5-87e224212dbf\" target=\"_top\" title=\"psysml:63e0b6b5-21d2-46c8-92d5-87e224212dbf\" xlink:actuate=\"onRequest\" xlink:href=\"psysml:63e0b6b5-21d2-46c8-92d5-87e224212dbf\" xlink:show=\"new\" xlink:title=\"psysml:63e0b6b5-21d2-46c8-92d5-87e224212dbf\" xlink:type=\"simple\"><path d=\"M558,167.18 C558,184.98 558,224.73 558,250.67 \" fill=\"none\" id=\"*start*E6-&gt;E7\" style=\"stroke: #383838; stroke-width: 1.0;\"/><polygon fill=\"#383838\" points=\"558,255.98,562,246.98,558,250.98,554,246.98,558,255.98\" style=\"stroke: #383838; stroke-width: 1.0;\"/></a><!--MD5=[7ec9a8babba89ddcae1318ca9fb3c814]\n",
       "link E8 to *end*E6--><a href=\"psysml:60b88d5b-1ac8-4d6b-b052-bf1a623237b5\" target=\"_top\" title=\"psysml:60b88d5b-1ac8-4d6b-b052-bf1a623237b5\" xlink:actuate=\"onRequest\" xlink:href=\"psysml:60b88d5b-1ac8-4d6b-b052-bf1a623237b5\" xlink:show=\"new\" xlink:title=\"psysml:60b88d5b-1ac8-4d6b-b052-bf1a623237b5\" xlink:type=\"simple\"><path d=\"M558,421.12 C558,442.75 558,474.39 558,492.62 \" fill=\"none\" id=\"E8-&gt;*end*E6\" style=\"stroke: #383838; stroke-width: 1.0;\"/><polygon fill=\"#383838\" points=\"558,497.82,562,488.82,558,492.82,554,488.82,558,497.82\" style=\"stroke: #383838; stroke-width: 1.0;\"/><text fill=\"#000000\" font-family=\"sans-serif\" font-size=\"13\" lengthAdjust=\"spacingAndGlyphs\" textLength=\"23\" x=\"559\" y=\"464.0669\">Exit</text></a><!--MD5=[79bc8f324ef4d02c541433f2e6e513c3]\n",
       "link E7 to E8--><a href=\"psysml:b9f5e72d-c680-433c-ba5c-575fc587f4f3\" target=\"_top\" title=\"psysml:b9f5e72d-c680-433c-ba5c-575fc587f4f3\" xlink:actuate=\"onRequest\" xlink:href=\"psysml:b9f5e72d-c680-433c-ba5c-575fc587f4f3\" xlink:show=\"new\" xlink:title=\"psysml:b9f5e72d-c680-433c-ba5c-575fc587f4f3\" xlink:type=\"simple\"><path d=\"M532.93,288.88 C518.69,297.12 502.12,309.56 494,326 C483.11,348.05 506.72,368.2 528.27,381.16 \" fill=\"none\" id=\"E7-&gt;E8\" style=\"stroke: #383838; stroke-width: 1.0;\"/><polygon fill=\"#383838\" points=\"532.83,383.82,527.0682,375.8324,528.5101,381.3024,523.0401,382.7443,532.83,383.82\" style=\"stroke: #383838; stroke-width: 1.0;\"/><text fill=\"#000000\" font-family=\"sans-serif\" font-size=\"13\" lengthAdjust=\"spacingAndGlyphs\" textLength=\"81\" x=\"495\" y=\"339.0669\">Sig /action D</text></a><!--MD5=[bfa3c8b0d15052fdf50ae9310b491027]\n",
       "link E8 to E7--><a href=\"psysml:8fe1fd83-9e96-4978-be75-1a7ead5c4a85\" target=\"_top\" title=\"psysml:8fe1fd83-9e96-4978-be75-1a7ead5c4a85\" xlink:actuate=\"onRequest\" xlink:href=\"psysml:8fe1fd83-9e96-4978-be75-1a7ead5c4a85\" xlink:show=\"new\" xlink:title=\"psysml:8fe1fd83-9e96-4978-be75-1a7ead5c4a85\" xlink:type=\"simple\"><path d=\"M572.17,372.99 C578.81,359.48 584.56,341.98 581,326 C579.1,317.49 575.56,308.72 571.82,300.99 \" fill=\"none\" id=\"E8-&gt;E7\" style=\"stroke: #383838; stroke-width: 1.0;\"/><polygon fill=\"#383838\" points=\"569.47,296.32,569.9298,306.1581,571.7118,300.7893,577.0806,302.5713,569.47,296.32\" style=\"stroke: #383838; stroke-width: 1.0;\"/><text fill=\"#000000\" font-family=\"sans-serif\" font-size=\"13\" lengthAdjust=\"spacingAndGlyphs\" textLength=\"135\" x=\"583\" y=\"339.0669\">Sig [true]/send s to p</text></a><!--MD5=[cb46777394168f4fc3d28b0aef077bb3]\n",
       "@startuml\r\n",
       "skinparam monochrome true\r\n",
       "skinparam classbackgroundcolor white\r\n",
       "skinparam shadowing false\r\n",
       "skinparam wrapWidth 300\r\n",
       "hide circle\r\n",
       "\r\n",
       "package \"StateTest\" as E1  [[psysml:7751d53a-3d7b-46fc-b5d8-bf0ae3c7070c ]]  {\r\n",
       "comp def \"Sig\" as E2  <<(T,blue)attribute def>> [[psysml:85dbfb10-d456-4c59-a9e0-99da33bb7a4b ]] {\r\n",
       "- - attributes - -\r\n",
       "x\r\n",
       "}\r\n",
       "comp def \"Exit\" as E3  <<(T,blue)attribute def>> [[psysml:06ed69bb-03e4-455b-a820-630d0564221d ]] {\r\n",
       "}\r\n",
       "comp usage \"p\" as E4  <<(T,blue)part>> [[psysml:f6292196-12b9-4bba-a758-98820cb4f3f5 ]] {\r\n",
       "}\r\n",
       "rec usage \"act\" as E5  <<(T,blue)action>> [[psysml:d7bec2b6-e32c-41d0-a208-370a3f1c18c8 ]] {\r\n",
       "}\r\n",
       "\r\n",
       "rec def \"S\" as E6  <<(T,blue)state def>> [[psysml:6343fae7-e97a-4dac-816a-0d66812becae ]] {\r\n",
       "rec usage \"S1\" as E7 [[psysml:df9bf7b7-ea8a-42e1-9b23-b8091030681c ]] {\r\n",
       "}\r\n",
       "\r\n",
       "rec usage \"S2\" as E8 [[psysml:372708ac-c185-450b-8b20-5b0e6796b1d2 ]] {\r\n",
       "desc \"S2\" as E8  : **do**/ \r\n",
       "}\r\n",
       "\r\n",
       "[*] - -> E7 [[psysml:63e0b6b5-21d2-46c8-92d5-87e224212dbf ]] \r\n",
       "E8  - -> [*] [[psysml:60b88d5b-1ac8-4d6b-b052-bf1a623237b5 ]] : Exit \r\n",
       "desc \"S\" as E6  : **entry**/ A\r\n",
       "desc \"S\" as E6  : **do**/ B\r\n",
       "desc \"S\" as E6  : **exit**/ act \r\n",
       "}\r\n",
       "\r\n",
       "E7  - -> E8 [[psysml:b9f5e72d-c680-433c-ba5c-575fc587f4f3 ]] : Sig /action D\r\n",
       "E8  - -> E7 [[psysml:8fe1fd83-9e96-4978-be75-1a7ead5c4a85 ]] : Sig [true]/send s to p\r\n",
       "}\r\n",
       "@enduml\r\n",
       "\n",
       "PlantUML version 1.2020.13(Sat Jun 13 12:26:38 UTC 2020)\n",
       "(EPL source distribution)\n",
       "Java Runtime: OpenJDK Runtime Environment\n",
       "JVM: OpenJDK 64-Bit Server VM\n",
       "Default Encoding: UTF-8\n",
       "Language: en\n",
       "Country: null\n",
       "--></g></svg>"
      ]
     },
     "execution_count": 43,
     "metadata": {},
     "output_type": "execute_result"
    }
   ],
   "source": [
    "%viz --style=\"DEFAULT\" --view=\"MIXED\" \"StateTest\""
   ]
  },
  {
   "cell_type": "code",
   "execution_count": 44,
   "id": "bulgarian-martial",
   "metadata": {
    "execution": {
     "iopub.execute_input": "2021-03-25T13:48:18.114265Z",
     "iopub.status.busy": "2021-03-25T13:48:18.113506Z",
     "iopub.status.idle": "2021-03-25T13:48:18.296767Z",
     "shell.execute_reply": "2021-03-25T13:48:18.295077Z"
    }
   },
   "outputs": [
    {
     "data": {
      "image/svg+xml": [
       "<?xml version=\"1.0\" encoding=\"UTF-8\" standalone=\"no\"?><svg xmlns=\"http://www.w3.org/2000/svg\" xmlns:xlink=\"http://www.w3.org/1999/xlink\" contentScriptType=\"application/ecmascript\" contentStyleType=\"text/css\" height=\"570px\" preserveAspectRatio=\"none\" style=\"width:819px;height:570px;\" version=\"1.1\" viewBox=\"0 0 819 570\" width=\"819px\" zoomAndPan=\"magnify\"><defs/><g><!--MD5=[fbc87193dbaf4d95561dea2c320d4a47]\n",
       "cluster E1--><a href=\"psysml:7751d53a-3d7b-46fc-b5d8-bf0ae3c7070c\" target=\"_top\" title=\"psysml:7751d53a-3d7b-46fc-b5d8-bf0ae3c7070c\" xlink:actuate=\"onRequest\" xlink:href=\"psysml:7751d53a-3d7b-46fc-b5d8-bf0ae3c7070c\" xlink:show=\"new\" xlink:title=\"psysml:7751d53a-3d7b-46fc-b5d8-bf0ae3c7070c\" xlink:type=\"simple\"><polygon fill=\"#FFFFFF\" points=\"16,6,98,6,105,28.2969,797,28.2969,797,558,16,558,16,6\" style=\"stroke: #000000; stroke-width: 1.5;\"/><line style=\"stroke: #000000; stroke-width: 1.5;\" x1=\"16\" x2=\"105\" y1=\"28.2969\" y2=\"28.2969\"/><text fill=\"#000000\" font-family=\"sans-serif\" font-size=\"14\" font-weight=\"bold\" lengthAdjust=\"spacingAndGlyphs\" textLength=\"76\" x=\"20\" y=\"20.9951\">StateTest</text></a><!--MD5=[14e3b0961a2654348d326746436168a1]\n",
       "cluster E6--><a href=\"psysml:6343fae7-e97a-4dac-816a-0d66812becae\" target=\"_top\" title=\"psysml:6343fae7-e97a-4dac-816a-0d66812becae\" xlink:actuate=\"onRequest\" xlink:href=\"psysml:6343fae7-e97a-4dac-816a-0d66812becae\" xlink:show=\"new\" xlink:title=\"psysml:6343fae7-e97a-4dac-816a-0d66812becae\" xlink:type=\"simple\"><rect fill=\"#FFFFFF\" height=\"485\" id=\"E6\" style=\"stroke: #383838; stroke-width: 1.5;\" width=\"327\" x=\"446\" y=\"49\"/><rect fill=\"#F8F8F8\" height=\"37.9375\" style=\"stroke: #383838; stroke-width: 1.5;\" width=\"327\" x=\"446\" y=\"49\"/><text fill=\"#000000\" font-family=\"sans-serif\" font-size=\"12\" font-style=\"italic\" lengthAdjust=\"spacingAndGlyphs\" textLength=\"71\" x=\"574\" y=\"65.1387\">«state def»</text><text fill=\"#000000\" font-family=\"sans-serif\" font-size=\"12\" lengthAdjust=\"spacingAndGlyphs\" textLength=\"8\" x=\"605.5\" y=\"79.1074\">S</text><line style=\"stroke: #383838; stroke-width: 1.0;\" x1=\"446\" x2=\"773\" y1=\"132.8438\" y2=\"132.8438\"/><text fill=\"#000000\" font-family=\"sans-serif\" font-size=\"12\" font-weight=\"bold\" lengthAdjust=\"spacingAndGlyphs\" textLength=\"38\" x=\"451\" y=\"100.0762\">entry</text><text fill=\"#000000\" font-family=\"sans-serif\" font-size=\"12\" lengthAdjust=\"spacingAndGlyphs\" textLength=\"16\" x=\"489\" y=\"100.0762\">/ A</text><text fill=\"#000000\" font-family=\"sans-serif\" font-size=\"12\" font-weight=\"bold\" lengthAdjust=\"spacingAndGlyphs\" textLength=\"18\" x=\"451\" y=\"114.0449\">do</text><text fill=\"#000000\" font-family=\"sans-serif\" font-size=\"12\" lengthAdjust=\"spacingAndGlyphs\" textLength=\"16\" x=\"469\" y=\"114.0449\">/ B</text><text fill=\"#000000\" font-family=\"sans-serif\" font-size=\"12\" font-weight=\"bold\" lengthAdjust=\"spacingAndGlyphs\" textLength=\"26\" x=\"451\" y=\"128.0137\">exit</text><text fill=\"#000000\" font-family=\"sans-serif\" font-size=\"12\" lengthAdjust=\"spacingAndGlyphs\" textLength=\"28\" x=\"477\" y=\"128.0137\">/ act</text></a><!--MD5=[b4997ac47864f28c2f74865a473b2911]\n",
       "class E2--><a href=\"psysml:85dbfb10-d456-4c59-a9e0-99da33bb7a4b\" target=\"_top\" title=\"psysml:85dbfb10-d456-4c59-a9e0-99da33bb7a4b\" xlink:actuate=\"onRequest\" xlink:href=\"psysml:85dbfb10-d456-4c59-a9e0-99da33bb7a4b\" xlink:show=\"new\" xlink:title=\"psysml:85dbfb10-d456-4c59-a9e0-99da33bb7a4b\" xlink:type=\"simple\"><rect fill=\"#FFFFFF\" height=\"75.5469\" id=\"E2\" style=\"stroke: #383838; stroke-width: 1.5;\" width=\"95\" x=\"334.5\" y=\"119\"/><text fill=\"#000000\" font-family=\"sans-serif\" font-size=\"12\" font-style=\"italic\" lengthAdjust=\"spacingAndGlyphs\" textLength=\"93\" x=\"335.5\" y=\"135.1387\">«attribute def»</text><text fill=\"#000000\" font-family=\"sans-serif\" font-size=\"12\" lengthAdjust=\"spacingAndGlyphs\" textLength=\"19\" x=\"372.5\" y=\"149.1074\">Sig</text><line style=\"stroke: #383838; stroke-width: 1.5;\" x1=\"335.5\" x2=\"428.5\" y1=\"156.9375\" y2=\"156.9375\"/><text fill=\"#000000\" font-family=\"sans-serif\" font-size=\"11\" lengthAdjust=\"spacingAndGlyphs\" textLength=\"6\" x=\"340.5\" y=\"187.9526\">x</text><line style=\"stroke: #383838; stroke-width: 1.0;\" x1=\"335.5\" x2=\"354.5\" y1=\"171.3398\" y2=\"171.3398\"/><text fill=\"#000000\" font-family=\"sans-serif\" font-size=\"11\" lengthAdjust=\"spacingAndGlyphs\" textLength=\"55\" x=\"354.5\" y=\"174.6479\">attributes</text><line style=\"stroke: #383838; stroke-width: 1.0;\" x1=\"409.5\" x2=\"428.5\" y1=\"171.3398\" y2=\"171.3398\"/></a><!--MD5=[09b614a08d8cba4a07c9adeb5e0fee81]\n",
       "class E3--><a href=\"psysml:06ed69bb-03e4-455b-a820-630d0564221d\" target=\"_top\" title=\"psysml:06ed69bb-03e4-455b-a820-630d0564221d\" xlink:actuate=\"onRequest\" xlink:href=\"psysml:06ed69bb-03e4-455b-a820-630d0564221d\" xlink:show=\"new\" xlink:title=\"psysml:06ed69bb-03e4-455b-a820-630d0564221d\" xlink:type=\"simple\"><rect fill=\"#FFFFFF\" height=\"45.9375\" id=\"E3\" style=\"stroke: #383838; stroke-width: 1.5;\" width=\"95\" x=\"204.5\" y=\"134\"/><text fill=\"#000000\" font-family=\"sans-serif\" font-size=\"12\" font-style=\"italic\" lengthAdjust=\"spacingAndGlyphs\" textLength=\"93\" x=\"205.5\" y=\"150.1387\">«attribute def»</text><text fill=\"#000000\" font-family=\"sans-serif\" font-size=\"12\" lengthAdjust=\"spacingAndGlyphs\" textLength=\"22\" x=\"241\" y=\"164.1074\">Exit</text><line style=\"stroke: #383838; stroke-width: 1.5;\" x1=\"205.5\" x2=\"298.5\" y1=\"171.9375\" y2=\"171.9375\"/></a><!--MD5=[ebbe1d658d1005bcc118a6aa81145e00]\n",
       "class E4--><a href=\"psysml:f6292196-12b9-4bba-a758-98820cb4f3f5\" target=\"_top\" title=\"psysml:f6292196-12b9-4bba-a758-98820cb4f3f5\" xlink:actuate=\"onRequest\" xlink:href=\"psysml:f6292196-12b9-4bba-a758-98820cb4f3f5\" xlink:show=\"new\" xlink:title=\"psysml:f6292196-12b9-4bba-a758-98820cb4f3f5\" xlink:type=\"simple\"><rect fill=\"#FFFFFF\" height=\"45.9375\" id=\"E4\" rx=\"10\" ry=\"10\" style=\"stroke: #383838; stroke-width: 1.5;\" width=\"42\" x=\"127\" y=\"134\"/><text fill=\"#000000\" font-family=\"sans-serif\" font-size=\"12\" font-style=\"italic\" lengthAdjust=\"spacingAndGlyphs\" textLength=\"40\" x=\"128\" y=\"150.1387\">«part»</text><text fill=\"#000000\" font-family=\"sans-serif\" font-size=\"12\" lengthAdjust=\"spacingAndGlyphs\" textLength=\"8\" x=\"144\" y=\"164.1074\">p</text><line style=\"stroke: #383838; stroke-width: 1.5;\" x1=\"128\" x2=\"168\" y1=\"171.9375\" y2=\"171.9375\"/></a><g id=\"E1.E5\"><a href=\"psysml:d7bec2b6-e32c-41d0-a208-370a3f1c18c8\" target=\"_top\" title=\"psysml:d7bec2b6-e32c-41d0-a208-370a3f1c18c8\" xlink:actuate=\"onRequest\" xlink:href=\"psysml:d7bec2b6-e32c-41d0-a208-370a3f1c18c8\" xlink:show=\"new\" xlink:title=\"psysml:d7bec2b6-e32c-41d0-a208-370a3f1c18c8\" xlink:type=\"simple\"><rect fill=\"#FFFFFF\" height=\"42.9375\" id=\"E5\" rx=\"10\" ry=\"10\" style=\"stroke: #383838; stroke-width: 1.5;\" width=\"60\" x=\"32\" y=\"135.5\"/><rect fill=\"#F8F8F8\" height=\"37.9375\" rx=\"10\" ry=\"10\" style=\"stroke: #F8F8F8; stroke-width: 1.5;\" width=\"60\" x=\"32\" y=\"135.5\"/><rect fill=\"#F8F8F8\" height=\"10\" style=\"stroke: #F8F8F8; stroke-width: 1.5;\" width=\"60\" x=\"32\" y=\"163.4375\"/><rect fill=\"none\" height=\"42.9375\" id=\"E5\" rx=\"10\" ry=\"10\" style=\"stroke: #383838; stroke-width: 1.5;\" width=\"60\" x=\"32\" y=\"135.5\"/><text fill=\"#000000\" font-family=\"sans-serif\" font-size=\"12\" font-style=\"italic\" lengthAdjust=\"spacingAndGlyphs\" textLength=\"53\" x=\"35.5\" y=\"151.6387\">«action»</text><text fill=\"#000000\" font-family=\"sans-serif\" font-size=\"12\" lengthAdjust=\"spacingAndGlyphs\" textLength=\"20\" x=\"52\" y=\"165.6074\">act</text></a></g><ellipse cx=\"558\" cy=\"157\" fill=\"#000000\" rx=\"10\" ry=\"10\" style=\"stroke: none; stroke-width: 1.0;\"/><ellipse cx=\"558\" cy=\"508\" fill=\"none\" rx=\"10\" ry=\"10\" style=\"stroke: #000000; stroke-width: 1.0;\"/><ellipse cx=\"558.5\" cy=\"508.5\" fill=\"#000000\" rx=\"6\" ry=\"6\" style=\"stroke: none; stroke-width: 1.0;\"/><g id=\"E1.E6.E7\"><a href=\"psysml:df9bf7b7-ea8a-42e1-9b23-b8091030681c\" target=\"_top\" title=\"psysml:df9bf7b7-ea8a-42e1-9b23-b8091030681c\" xlink:actuate=\"onRequest\" xlink:href=\"psysml:df9bf7b7-ea8a-42e1-9b23-b8091030681c\" xlink:show=\"new\" xlink:title=\"psysml:df9bf7b7-ea8a-42e1-9b23-b8091030681c\" xlink:type=\"simple\"><rect fill=\"#FFFFFF\" height=\"40\" id=\"E7\" rx=\"10\" ry=\"10\" style=\"stroke: #383838; stroke-width: 1.5;\" width=\"50\" x=\"533\" y=\"256\"/><rect fill=\"#F8F8F8\" height=\"23.9688\" rx=\"10\" ry=\"10\" style=\"stroke: #F8F8F8; stroke-width: 1.5;\" width=\"50\" x=\"533\" y=\"256\"/><rect fill=\"#F8F8F8\" height=\"10\" style=\"stroke: #F8F8F8; stroke-width: 1.5;\" width=\"50\" x=\"533\" y=\"269.9688\"/><rect fill=\"none\" height=\"40\" id=\"E7\" rx=\"10\" ry=\"10\" style=\"stroke: #383838; stroke-width: 1.5;\" width=\"50\" x=\"533\" y=\"256\"/><text fill=\"#000000\" font-family=\"sans-serif\" font-size=\"12\" lengthAdjust=\"spacingAndGlyphs\" textLength=\"16\" x=\"550\" y=\"272.1387\">S1</text></a></g><g id=\"E1.E6.E8\"><a href=\"psysml:372708ac-c185-450b-8b20-5b0e6796b1d2\" target=\"_top\" title=\"psysml:372708ac-c185-450b-8b20-5b0e6796b1d2\" xlink:actuate=\"onRequest\" xlink:href=\"psysml:372708ac-c185-450b-8b20-5b0e6796b1d2\" xlink:show=\"new\" xlink:title=\"psysml:372708ac-c185-450b-8b20-5b0e6796b1d2\" xlink:type=\"simple\"><rect fill=\"#FFFFFF\" height=\"47.9375\" id=\"E8\" rx=\"10\" ry=\"10\" style=\"stroke: #383838; stroke-width: 1.5;\" width=\"50\" x=\"533\" y=\"373\"/><rect fill=\"#F8F8F8\" height=\"23.9688\" rx=\"10\" ry=\"10\" style=\"stroke: #F8F8F8; stroke-width: 1.5;\" width=\"50\" x=\"533\" y=\"373\"/><rect fill=\"#F8F8F8\" height=\"10\" style=\"stroke: #F8F8F8; stroke-width: 1.5;\" width=\"50\" x=\"533\" y=\"386.9688\"/><rect fill=\"none\" height=\"47.9375\" id=\"E8\" rx=\"10\" ry=\"10\" style=\"stroke: #383838; stroke-width: 1.5;\" width=\"50\" x=\"533\" y=\"373\"/><text fill=\"#000000\" font-family=\"sans-serif\" font-size=\"12\" lengthAdjust=\"spacingAndGlyphs\" textLength=\"16\" x=\"550\" y=\"389.1387\">S2</text><line style=\"stroke: #383838; stroke-width: 1.0;\" x1=\"533\" x2=\"583\" y1=\"396.9688\" y2=\"396.9688\"/><text fill=\"#000000\" font-family=\"sans-serif\" font-size=\"12\" font-weight=\"bold\" lengthAdjust=\"spacingAndGlyphs\" textLength=\"18\" x=\"538\" y=\"410.1074\">do</text><text fill=\"#000000\" font-family=\"sans-serif\" font-size=\"12\" lengthAdjust=\"spacingAndGlyphs\" textLength=\"4\" x=\"556\" y=\"410.1074\">/</text></a></g><!--MD5=[5a531d3a85f3339e6e197084acb48195]\n",
       "link *start*E6 to E7--><a href=\"psysml:63e0b6b5-21d2-46c8-92d5-87e224212dbf\" target=\"_top\" title=\"psysml:63e0b6b5-21d2-46c8-92d5-87e224212dbf\" xlink:actuate=\"onRequest\" xlink:href=\"psysml:63e0b6b5-21d2-46c8-92d5-87e224212dbf\" xlink:show=\"new\" xlink:title=\"psysml:63e0b6b5-21d2-46c8-92d5-87e224212dbf\" xlink:type=\"simple\"><path d=\"M558,167.18 C558,184.98 558,224.73 558,250.67 \" fill=\"none\" id=\"*start*E6-&gt;E7\" style=\"stroke: #383838; stroke-width: 1.0;\"/><polygon fill=\"#383838\" points=\"558,255.98,562,246.98,558,250.98,554,246.98,558,255.98\" style=\"stroke: #383838; stroke-width: 1.0;\"/></a><!--MD5=[7ec9a8babba89ddcae1318ca9fb3c814]\n",
       "link E8 to *end*E6--><a href=\"psysml:60b88d5b-1ac8-4d6b-b052-bf1a623237b5\" target=\"_top\" title=\"psysml:60b88d5b-1ac8-4d6b-b052-bf1a623237b5\" xlink:actuate=\"onRequest\" xlink:href=\"psysml:60b88d5b-1ac8-4d6b-b052-bf1a623237b5\" xlink:show=\"new\" xlink:title=\"psysml:60b88d5b-1ac8-4d6b-b052-bf1a623237b5\" xlink:type=\"simple\"><path d=\"M558,421.12 C558,442.75 558,474.39 558,492.62 \" fill=\"none\" id=\"E8-&gt;*end*E6\" style=\"stroke: #383838; stroke-width: 1.0;\"/><polygon fill=\"#383838\" points=\"558,497.82,562,488.82,558,492.82,554,488.82,558,497.82\" style=\"stroke: #383838; stroke-width: 1.0;\"/><text fill=\"#000000\" font-family=\"sans-serif\" font-size=\"13\" lengthAdjust=\"spacingAndGlyphs\" textLength=\"23\" x=\"559\" y=\"464.0669\">Exit</text></a><!--MD5=[79bc8f324ef4d02c541433f2e6e513c3]\n",
       "link E7 to E8--><a href=\"psysml:b9f5e72d-c680-433c-ba5c-575fc587f4f3\" target=\"_top\" title=\"psysml:b9f5e72d-c680-433c-ba5c-575fc587f4f3\" xlink:actuate=\"onRequest\" xlink:href=\"psysml:b9f5e72d-c680-433c-ba5c-575fc587f4f3\" xlink:show=\"new\" xlink:title=\"psysml:b9f5e72d-c680-433c-ba5c-575fc587f4f3\" xlink:type=\"simple\"><path d=\"M532.93,288.88 C518.69,297.12 502.12,309.56 494,326 C483.11,348.05 506.72,368.2 528.27,381.16 \" fill=\"none\" id=\"E7-&gt;E8\" style=\"stroke: #383838; stroke-width: 1.0;\"/><polygon fill=\"#383838\" points=\"532.83,383.82,527.0682,375.8324,528.5101,381.3024,523.0401,382.7443,532.83,383.82\" style=\"stroke: #383838; stroke-width: 1.0;\"/><text fill=\"#000000\" font-family=\"sans-serif\" font-size=\"13\" lengthAdjust=\"spacingAndGlyphs\" textLength=\"81\" x=\"495\" y=\"339.0669\">Sig /action D</text></a><!--MD5=[bfa3c8b0d15052fdf50ae9310b491027]\n",
       "link E8 to E7--><a href=\"psysml:8fe1fd83-9e96-4978-be75-1a7ead5c4a85\" target=\"_top\" title=\"psysml:8fe1fd83-9e96-4978-be75-1a7ead5c4a85\" xlink:actuate=\"onRequest\" xlink:href=\"psysml:8fe1fd83-9e96-4978-be75-1a7ead5c4a85\" xlink:show=\"new\" xlink:title=\"psysml:8fe1fd83-9e96-4978-be75-1a7ead5c4a85\" xlink:type=\"simple\"><path d=\"M572.17,372.99 C578.81,359.48 584.56,341.98 581,326 C579.1,317.49 575.56,308.72 571.82,300.99 \" fill=\"none\" id=\"E8-&gt;E7\" style=\"stroke: #383838; stroke-width: 1.0;\"/><polygon fill=\"#383838\" points=\"569.47,296.32,569.9298,306.1581,571.7118,300.7893,577.0806,302.5713,569.47,296.32\" style=\"stroke: #383838; stroke-width: 1.0;\"/><text fill=\"#000000\" font-family=\"sans-serif\" font-size=\"13\" lengthAdjust=\"spacingAndGlyphs\" textLength=\"135\" x=\"583\" y=\"339.0669\">Sig [true]/send s to p</text></a><!--MD5=[1794a0506409a7d3b30473fb8250f95c]\n",
       "@startuml\r\n",
       "top to bottom direction\r\n",
       "skinparam monochrome true\r\n",
       "skinparam classbackgroundcolor white\r\n",
       "skinparam shadowing false\r\n",
       "skinparam wrapWidth 300\r\n",
       "hide circle\r\n",
       "\r\n",
       "package \"StateTest\" as E1  [[psysml:7751d53a-3d7b-46fc-b5d8-bf0ae3c7070c ]]  {\r\n",
       "comp def \"Sig\" as E2  <<(T,blue)attribute def>> [[psysml:85dbfb10-d456-4c59-a9e0-99da33bb7a4b ]] {\r\n",
       "- - attributes - -\r\n",
       "x\r\n",
       "}\r\n",
       "comp def \"Exit\" as E3  <<(T,blue)attribute def>> [[psysml:06ed69bb-03e4-455b-a820-630d0564221d ]] {\r\n",
       "}\r\n",
       "comp usage \"p\" as E4  <<(T,blue)part>> [[psysml:f6292196-12b9-4bba-a758-98820cb4f3f5 ]] {\r\n",
       "}\r\n",
       "rec usage \"act\" as E5  <<(T,blue)action>> [[psysml:d7bec2b6-e32c-41d0-a208-370a3f1c18c8 ]] {\r\n",
       "}\r\n",
       "\r\n",
       "rec def \"S\" as E6  <<(T,blue)state def>> [[psysml:6343fae7-e97a-4dac-816a-0d66812becae ]] {\r\n",
       "rec usage \"S1\" as E7 [[psysml:df9bf7b7-ea8a-42e1-9b23-b8091030681c ]] {\r\n",
       "}\r\n",
       "\r\n",
       "rec usage \"S2\" as E8 [[psysml:372708ac-c185-450b-8b20-5b0e6796b1d2 ]] {\r\n",
       "desc \"S2\" as E8  : **do**/ \r\n",
       "}\r\n",
       "\r\n",
       "[*] - -> E7 [[psysml:63e0b6b5-21d2-46c8-92d5-87e224212dbf ]] \r\n",
       "E8  - -> [*] [[psysml:60b88d5b-1ac8-4d6b-b052-bf1a623237b5 ]] : Exit \r\n",
       "desc \"S\" as E6  : **entry**/ A\r\n",
       "desc \"S\" as E6  : **do**/ B\r\n",
       "desc \"S\" as E6  : **exit**/ act \r\n",
       "}\r\n",
       "\r\n",
       "E7  - -> E8 [[psysml:b9f5e72d-c680-433c-ba5c-575fc587f4f3 ]] : Sig /action D\r\n",
       "E8  - -> E7 [[psysml:8fe1fd83-9e96-4978-be75-1a7ead5c4a85 ]] : Sig [true]/send s to p\r\n",
       "}\r\n",
       "@enduml\r\n",
       "\n",
       "PlantUML version 1.2020.13(Sat Jun 13 12:26:38 UTC 2020)\n",
       "(EPL source distribution)\n",
       "Java Runtime: OpenJDK Runtime Environment\n",
       "JVM: OpenJDK 64-Bit Server VM\n",
       "Default Encoding: UTF-8\n",
       "Language: en\n",
       "Country: null\n",
       "--></g></svg>"
      ]
     },
     "execution_count": 44,
     "metadata": {},
     "output_type": "execute_result"
    }
   ],
   "source": [
    "%viz --style=\"TB\" --view=\"Default\" \"StateTest\""
   ]
  },
  {
   "cell_type": "code",
   "execution_count": 45,
   "id": "residential-surrey",
   "metadata": {
    "execution": {
     "iopub.execute_input": "2021-03-25T13:48:18.349417Z",
     "iopub.status.busy": "2021-03-25T13:48:18.348838Z",
     "iopub.status.idle": "2021-03-25T13:48:18.771909Z",
     "shell.execute_reply": "2021-03-25T13:48:18.772382Z"
    }
   },
   "outputs": [
    {
     "data": {
      "image/svg+xml": [
       "<?xml version=\"1.0\" encoding=\"UTF-8\" standalone=\"no\"?><svg xmlns=\"http://www.w3.org/2000/svg\" xmlns:xlink=\"http://www.w3.org/1999/xlink\" contentScriptType=\"application/ecmascript\" contentStyleType=\"text/css\" height=\"471px\" preserveAspectRatio=\"none\" style=\"width:594px;height:471px;\" version=\"1.1\" viewBox=\"0 0 594 471\" width=\"594px\" zoomAndPan=\"magnify\"><defs/><g><!--MD5=[fbc87193dbaf4d95561dea2c320d4a47]\n",
       "cluster E1--><a href=\"psysml:7751d53a-3d7b-46fc-b5d8-bf0ae3c7070c\" target=\"_top\" title=\"psysml:7751d53a-3d7b-46fc-b5d8-bf0ae3c7070c\" xlink:actuate=\"onRequest\" xlink:href=\"psysml:7751d53a-3d7b-46fc-b5d8-bf0ae3c7070c\" xlink:show=\"new\" xlink:title=\"psysml:7751d53a-3d7b-46fc-b5d8-bf0ae3c7070c\" xlink:type=\"simple\"><polygon fill=\"#FFFFFF\" points=\"16,6,98,6,105,28.2969,572,28.2969,572,459,16,459,16,6\" style=\"stroke: #000000; stroke-width: 1.5;\"/><line style=\"stroke: #000000; stroke-width: 1.5;\" x1=\"16\" x2=\"105\" y1=\"28.2969\" y2=\"28.2969\"/><text fill=\"#000000\" font-family=\"sans-serif\" font-size=\"14\" font-weight=\"bold\" lengthAdjust=\"spacingAndGlyphs\" textLength=\"76\" x=\"20\" y=\"20.9951\">StateTest</text></a><!--MD5=[b4997ac47864f28c2f74865a473b2911]\n",
       "class E2--><a href=\"psysml:85dbfb10-d456-4c59-a9e0-99da33bb7a4b\" target=\"_top\" title=\"psysml:85dbfb10-d456-4c59-a9e0-99da33bb7a4b\" xlink:actuate=\"onRequest\" xlink:href=\"psysml:85dbfb10-d456-4c59-a9e0-99da33bb7a4b\" xlink:show=\"new\" xlink:title=\"psysml:85dbfb10-d456-4c59-a9e0-99da33bb7a4b\" xlink:type=\"simple\"><rect fill=\"#FFFFFF\" height=\"75.5469\" id=\"E2\" style=\"stroke: #383838; stroke-width: 1.5;\" width=\"95\" x=\"460.5\" y=\"83\"/><text fill=\"#000000\" font-family=\"sans-serif\" font-size=\"12\" font-style=\"italic\" lengthAdjust=\"spacingAndGlyphs\" textLength=\"93\" x=\"461.5\" y=\"99.1387\">«attribute def»</text><text fill=\"#000000\" font-family=\"sans-serif\" font-size=\"12\" lengthAdjust=\"spacingAndGlyphs\" textLength=\"19\" x=\"498.5\" y=\"113.1074\">Sig</text><line style=\"stroke: #383838; stroke-width: 1.5;\" x1=\"461.5\" x2=\"554.5\" y1=\"120.9375\" y2=\"120.9375\"/><text fill=\"#000000\" font-family=\"sans-serif\" font-size=\"11\" lengthAdjust=\"spacingAndGlyphs\" textLength=\"6\" x=\"466.5\" y=\"151.9526\">x</text><line style=\"stroke: #383838; stroke-width: 1.0;\" x1=\"461.5\" x2=\"480.5\" y1=\"135.3398\" y2=\"135.3398\"/><text fill=\"#000000\" font-family=\"sans-serif\" font-size=\"11\" lengthAdjust=\"spacingAndGlyphs\" textLength=\"55\" x=\"480.5\" y=\"138.6479\">attributes</text><line style=\"stroke: #383838; stroke-width: 1.0;\" x1=\"535.5\" x2=\"554.5\" y1=\"135.3398\" y2=\"135.3398\"/></a><!--MD5=[09b614a08d8cba4a07c9adeb5e0fee81]\n",
       "class E3--><a href=\"psysml:06ed69bb-03e4-455b-a820-630d0564221d\" target=\"_top\" title=\"psysml:06ed69bb-03e4-455b-a820-630d0564221d\" xlink:actuate=\"onRequest\" xlink:href=\"psysml:06ed69bb-03e4-455b-a820-630d0564221d\" xlink:show=\"new\" xlink:title=\"psysml:06ed69bb-03e4-455b-a820-630d0564221d\" xlink:type=\"simple\"><rect fill=\"#FFFFFF\" height=\"45.9375\" id=\"E3\" style=\"stroke: #383838; stroke-width: 1.5;\" width=\"95\" x=\"330.5\" y=\"98\"/><text fill=\"#000000\" font-family=\"sans-serif\" font-size=\"12\" font-style=\"italic\" lengthAdjust=\"spacingAndGlyphs\" textLength=\"93\" x=\"331.5\" y=\"114.1387\">«attribute def»</text><text fill=\"#000000\" font-family=\"sans-serif\" font-size=\"12\" lengthAdjust=\"spacingAndGlyphs\" textLength=\"22\" x=\"367\" y=\"128.1074\">Exit</text><line style=\"stroke: #383838; stroke-width: 1.5;\" x1=\"331.5\" x2=\"424.5\" y1=\"135.9375\" y2=\"135.9375\"/></a><!--MD5=[ebbe1d658d1005bcc118a6aa81145e00]\n",
       "class E4--><a href=\"psysml:f6292196-12b9-4bba-a758-98820cb4f3f5\" target=\"_top\" title=\"psysml:f6292196-12b9-4bba-a758-98820cb4f3f5\" xlink:actuate=\"onRequest\" xlink:href=\"psysml:f6292196-12b9-4bba-a758-98820cb4f3f5\" xlink:show=\"new\" xlink:title=\"psysml:f6292196-12b9-4bba-a758-98820cb4f3f5\" xlink:type=\"simple\"><rect fill=\"#FFFFFF\" height=\"45.9375\" id=\"E4\" rx=\"10\" ry=\"10\" style=\"stroke: #383838; stroke-width: 1.5;\" width=\"42\" x=\"253\" y=\"98\"/><text fill=\"#000000\" font-family=\"sans-serif\" font-size=\"12\" font-style=\"italic\" lengthAdjust=\"spacingAndGlyphs\" textLength=\"40\" x=\"254\" y=\"114.1387\">«part»</text><text fill=\"#000000\" font-family=\"sans-serif\" font-size=\"12\" lengthAdjust=\"spacingAndGlyphs\" textLength=\"8\" x=\"270\" y=\"128.1074\">p</text><line style=\"stroke: #383838; stroke-width: 1.5;\" x1=\"254\" x2=\"294\" y1=\"135.9375\" y2=\"135.9375\"/></a><!--MD5=[270fce915f116d4de14055a7c1d9a0f3]\n",
       "class E5--><a href=\"psysml:d7bec2b6-e32c-41d0-a208-370a3f1c18c8\" target=\"_top\" title=\"psysml:d7bec2b6-e32c-41d0-a208-370a3f1c18c8\" xlink:actuate=\"onRequest\" xlink:href=\"psysml:d7bec2b6-e32c-41d0-a208-370a3f1c18c8\" xlink:show=\"new\" xlink:title=\"psysml:d7bec2b6-e32c-41d0-a208-370a3f1c18c8\" xlink:type=\"simple\"><rect fill=\"#FFFFFF\" height=\"45.9375\" id=\"E5\" rx=\"10\" ry=\"10\" style=\"stroke: #383838; stroke-width: 1.5;\" width=\"55\" x=\"162.5\" y=\"98\"/><text fill=\"#000000\" font-family=\"sans-serif\" font-size=\"12\" font-style=\"italic\" lengthAdjust=\"spacingAndGlyphs\" textLength=\"53\" x=\"163.5\" y=\"114.1387\">«action»</text><text fill=\"#000000\" font-family=\"sans-serif\" font-size=\"12\" lengthAdjust=\"spacingAndGlyphs\" textLength=\"20\" x=\"180\" y=\"128.1074\">act</text><line style=\"stroke: #383838; stroke-width: 1.5;\" x1=\"163.5\" x2=\"216.5\" y1=\"135.9375\" y2=\"135.9375\"/></a><!--MD5=[60a26617385b1d2d0262a64233df1f8d]\n",
       "class E6--><a href=\"psysml:6343fae7-e97a-4dac-816a-0d66812becae\" target=\"_top\" title=\"psysml:6343fae7-e97a-4dac-816a-0d66812becae\" xlink:actuate=\"onRequest\" xlink:href=\"psysml:6343fae7-e97a-4dac-816a-0d66812becae\" xlink:show=\"new\" xlink:title=\"psysml:6343fae7-e97a-4dac-816a-0d66812becae\" xlink:type=\"simple\"><rect fill=\"#FFFFFF\" height=\"160.375\" id=\"E6\" style=\"stroke: #383838; stroke-width: 1.5;\" width=\"95\" x=\"32.5\" y=\"41\"/><text fill=\"#000000\" font-family=\"sans-serif\" font-size=\"12\" font-style=\"italic\" lengthAdjust=\"spacingAndGlyphs\" textLength=\"71\" x=\"44.5\" y=\"57.1387\">«state def»</text><text fill=\"#000000\" font-family=\"sans-serif\" font-size=\"12\" lengthAdjust=\"spacingAndGlyphs\" textLength=\"8\" x=\"76\" y=\"71.1074\">S</text><line style=\"stroke: #383838; stroke-width: 1.5;\" x1=\"33.5\" x2=\"126.5\" y1=\"78.9375\" y2=\"78.9375\"/><text fill=\"#000000\" font-family=\"sans-serif\" font-size=\"11\" lengthAdjust=\"spacingAndGlyphs\" textLength=\"17\" x=\"38.5\" y=\"109.9526\">act</text><text fill=\"#000000\" font-family=\"sans-serif\" font-size=\"11\" lengthAdjust=\"spacingAndGlyphs\" textLength=\"7\" x=\"38.5\" y=\"122.7573\">A</text><text fill=\"#000000\" font-family=\"sans-serif\" font-size=\"11\" lengthAdjust=\"spacingAndGlyphs\" textLength=\"8\" x=\"38.5\" y=\"135.562\">B</text><line style=\"stroke: #383838; stroke-width: 1.0;\" x1=\"33.5\" x2=\"36.5\" y1=\"93.3398\" y2=\"93.3398\"/><text fill=\"#000000\" font-family=\"sans-serif\" font-size=\"11\" lengthAdjust=\"spacingAndGlyphs\" textLength=\"87\" x=\"36.5\" y=\"96.6479\">performActions</text><line style=\"stroke: #383838; stroke-width: 1.0;\" x1=\"123.5\" x2=\"126.5\" y1=\"93.3398\" y2=\"93.3398\"/><text fill=\"#000000\" font-family=\"sans-serif\" font-size=\"11\" lengthAdjust=\"spacingAndGlyphs\" textLength=\"15\" x=\"38.5\" y=\"165.1714\">S1</text><line style=\"stroke: #383838; stroke-width: 1.0;\" x1=\"33.5\" x2=\"62\" y1=\"148.5586\" y2=\"148.5586\"/><text fill=\"#000000\" font-family=\"sans-serif\" font-size=\"11\" lengthAdjust=\"spacingAndGlyphs\" textLength=\"36\" x=\"62\" y=\"151.8667\">states</text><line style=\"stroke: #383838; stroke-width: 1.0;\" x1=\"98\" x2=\"126.5\" y1=\"148.5586\" y2=\"148.5586\"/><text fill=\"#000000\" font-family=\"sans-serif\" font-size=\"11\" lengthAdjust=\"spacingAndGlyphs\" textLength=\"7\" x=\"38.5\" y=\"194.7808\">T</text><line style=\"stroke: #383838; stroke-width: 1.0;\" x1=\"33.5\" x2=\"49.5\" y1=\"178.168\" y2=\"178.168\"/><text fill=\"#000000\" font-family=\"sans-serif\" font-size=\"11\" lengthAdjust=\"spacingAndGlyphs\" textLength=\"61\" x=\"49.5\" y=\"181.4761\">transitions</text><line style=\"stroke: #383838; stroke-width: 1.0;\" x1=\"110.5\" x2=\"126.5\" y1=\"178.168\" y2=\"178.168\"/></a><!--MD5=[1dd1bfd58a279cf63c5f349dbc8fc6a1]\n",
       "class E11--><a href=\"psysml:372708ac-c185-450b-8b20-5b0e6796b1d2\" target=\"_top\" title=\"psysml:372708ac-c185-450b-8b20-5b0e6796b1d2\" xlink:actuate=\"onRequest\" xlink:href=\"psysml:372708ac-c185-450b-8b20-5b0e6796b1d2\" xlink:show=\"new\" xlink:title=\"psysml:372708ac-c185-450b-8b20-5b0e6796b1d2\" xlink:type=\"simple\"><rect fill=\"#FFFFFF\" height=\"45.9375\" id=\"E11\" rx=\"10\" ry=\"10\" style=\"stroke: #383838; stroke-width: 1.5;\" width=\"49\" x=\"55.5\" y=\"261\"/><text fill=\"#000000\" font-family=\"sans-serif\" font-size=\"12\" font-style=\"italic\" lengthAdjust=\"spacingAndGlyphs\" textLength=\"47\" x=\"56.5\" y=\"277.1387\">«state»</text><text fill=\"#000000\" font-family=\"sans-serif\" font-size=\"12\" lengthAdjust=\"spacingAndGlyphs\" textLength=\"16\" x=\"72\" y=\"291.1074\">S2</text><line style=\"stroke: #383838; stroke-width: 1.5;\" x1=\"56.5\" x2=\"103.5\" y1=\"298.9375\" y2=\"298.9375\"/></a><!--MD5=[49a0ec8f00dab7302a31f22d0f0fe584]\n",
       "class E12--><a href=\"psysml:db8ff6bb-65b2-44b6-939f-52bfaf067d5c\" target=\"_top\" title=\"psysml:db8ff6bb-65b2-44b6-939f-52bfaf067d5c\" xlink:actuate=\"onRequest\" xlink:href=\"psysml:db8ff6bb-65b2-44b6-939f-52bfaf067d5c\" xlink:show=\"new\" xlink:title=\"psysml:db8ff6bb-65b2-44b6-939f-52bfaf067d5c\" xlink:type=\"simple\"><rect fill=\"#FFFFFF\" height=\"75.5469\" id=\"E12\" rx=\"10\" ry=\"10\" style=\"stroke: #383838; stroke-width: 1.5;\" width=\"90\" x=\"35\" y=\"367\"/><text fill=\"#000000\" font-family=\"sans-serif\" font-size=\"12\" font-style=\"italic\" lengthAdjust=\"spacingAndGlyphs\" textLength=\"88\" x=\"36\" y=\"383.1387\">«send action»</text><text fill=\"#000000\" font-family=\"sans-serif\" font-size=\"12\" lengthAdjust=\"spacingAndGlyphs\" textLength=\"55\" x=\"52.5\" y=\"397.1074\">doAction</text><line style=\"stroke: #383838; stroke-width: 1.5;\" x1=\"36\" x2=\"124\" y1=\"404.9375\" y2=\"404.9375\"/><text fill=\"#000000\" font-family=\"sans-serif\" font-size=\"11\" lengthAdjust=\"spacingAndGlyphs\" textLength=\"25\" x=\"41\" y=\"435.9526\">item</text><line style=\"stroke: #383838; stroke-width: 1.0;\" x1=\"36\" x2=\"42.5\" y1=\"419.3398\" y2=\"419.3398\"/><text fill=\"#000000\" font-family=\"sans-serif\" font-size=\"11\" lengthAdjust=\"spacingAndGlyphs\" textLength=\"75\" x=\"42.5\" y=\"422.6479\">itemFeatures</text><line style=\"stroke: #383838; stroke-width: 1.0;\" x1=\"117.5\" x2=\"124\" y1=\"419.3398\" y2=\"419.3398\"/></a><!--MD5=[1f5f03483f7de0d5b3680a7f6650997f]\n",
       "reverse link E6 to E11--><a href=\"psysml:372708ac-c185-450b-8b20-5b0e6796b1d2\" target=\"_top\" title=\"psysml:372708ac-c185-450b-8b20-5b0e6796b1d2\" xlink:actuate=\"onRequest\" xlink:href=\"psysml:372708ac-c185-450b-8b20-5b0e6796b1d2\" xlink:show=\"new\" xlink:title=\"psysml:372708ac-c185-450b-8b20-5b0e6796b1d2\" xlink:type=\"simple\"><path d=\"M80,214.17 C80,231.58 80,248.25 80,260.82 \" fill=\"none\" id=\"E6&lt;-E11\" style=\"stroke: #383838; stroke-width: 1.0;\"/><polygon fill=\"#383838\" points=\"80,201.09,76.0066,207.0944,80.0132,213.09,84.0066,207.0856,80,201.09\" style=\"stroke: #383838; stroke-width: 1.0;\"/></a><!--MD5=[94adabc162ce7e41b39f13be14fbaeb3]\n",
       "reverse link E11 to E12--><a href=\"psysml:db8ff6bb-65b2-44b6-939f-52bfaf067d5c\" target=\"_top\" title=\"psysml:db8ff6bb-65b2-44b6-939f-52bfaf067d5c\" xlink:actuate=\"onRequest\" xlink:href=\"psysml:db8ff6bb-65b2-44b6-939f-52bfaf067d5c\" xlink:show=\"new\" xlink:title=\"psysml:db8ff6bb-65b2-44b6-939f-52bfaf067d5c\" xlink:type=\"simple\"><path d=\"M80,320.23 C80,334.82 80,351.76 80,366.58 \" fill=\"none\" id=\"E11&lt;-E12\" style=\"stroke: #383838; stroke-width: 1.0;\"/><polygon fill=\"#FFFFFF\" points=\"80,307.1,76,313.1,80,319.1,84,313.1,80,307.1\" style=\"stroke: #383838; stroke-width: 1.0;\"/></a><!--MD5=[fcba6871440dc2a6932dde8702c22c83]\n",
       "@startuml\r\n",
       "top to bottom direction\r\n",
       "skinparam monochrome true\r\n",
       "skinparam classbackgroundcolor white\r\n",
       "skinparam shadowing false\r\n",
       "skinparam wrapWidth 300\r\n",
       "hide circle\r\n",
       "\r\n",
       "package \"StateTest\" as E1  [[psysml:7751d53a-3d7b-46fc-b5d8-bf0ae3c7070c ]]  {\r\n",
       "comp def \"Sig\" as E2  <<(T,blue)attribute def>> [[psysml:85dbfb10-d456-4c59-a9e0-99da33bb7a4b ]] {\r\n",
       "- - attributes - -\r\n",
       "x\r\n",
       "}\r\n",
       "comp def \"Exit\" as E3  <<(T,blue)attribute def>> [[psysml:06ed69bb-03e4-455b-a820-630d0564221d ]] {\r\n",
       "}\r\n",
       "comp usage \"p\" as E4  <<(T,blue)part>> [[psysml:f6292196-12b9-4bba-a758-98820cb4f3f5 ]] {\r\n",
       "}\r\n",
       "comp usage \"act\" as E5  <<(T,blue)action>> [[psysml:d7bec2b6-e32c-41d0-a208-370a3f1c18c8 ]] {\r\n",
       "}\r\n",
       "comp def \"S\" as E6  <<(T,blue)state def>> [[psysml:6343fae7-e97a-4dac-816a-0d66812becae ]] {\r\n",
       "- - performActions - -\r\n",
       "act\r\n",
       "A\r\n",
       "B\r\n",
       "- - states - -\r\n",
       "S1\r\n",
       "- - transitions - -\r\n",
       "T\r\n",
       "}\r\n",
       "comp usage \"S2\" as E11  <<(T,blue)state>> [[psysml:372708ac-c185-450b-8b20-5b0e6796b1d2 ]] {\r\n",
       "}\r\n",
       "comp usage \"doAction\" as E12 <<send action>> [[psysml:db8ff6bb-65b2-44b6-939f-52bfaf067d5c ]] {\r\n",
       "- - itemFeatures - -\r\n",
       "item\r\n",
       "}\r\n",
       "E6 *- - E11 [[psysml:372708ac-c185-450b-8b20-5b0e6796b1d2 ]] \r\n",
       "E11 o- - E12 [[psysml:db8ff6bb-65b2-44b6-939f-52bfaf067d5c ]] \r\n",
       "}\r\n",
       "@enduml\r\n",
       "\n",
       "PlantUML version 1.2020.13(Sat Jun 13 12:26:38 UTC 2020)\n",
       "(EPL source distribution)\n",
       "Java Runtime: OpenJDK Runtime Environment\n",
       "JVM: OpenJDK 64-Bit Server VM\n",
       "Default Encoding: UTF-8\n",
       "Language: en\n",
       "Country: null\n",
       "--></g></svg>"
      ]
     },
     "execution_count": 45,
     "metadata": {},
     "output_type": "execute_result"
    }
   ],
   "source": [
    "%viz --style=\"TB\" --view=\"Tree\" \"StateTest\""
   ]
  },
  {
   "cell_type": "code",
   "execution_count": 46,
   "id": "excess-pension",
   "metadata": {
    "execution": {
     "iopub.execute_input": "2021-03-25T13:48:18.825652Z",
     "iopub.status.busy": "2021-03-25T13:48:18.825018Z",
     "iopub.status.idle": "2021-03-25T13:48:18.938643Z",
     "shell.execute_reply": "2021-03-25T13:48:18.937317Z"
    }
   },
   "outputs": [
    {
     "data": {
      "image/svg+xml": [
       "<?xml version=\"1.0\" encoding=\"UTF-8\" standalone=\"no\"?><svg xmlns=\"http://www.w3.org/2000/svg\" xmlns:xlink=\"http://www.w3.org/1999/xlink\" contentScriptType=\"application/ecmascript\" contentStyleType=\"text/css\" height=\"475px\" preserveAspectRatio=\"none\" style=\"width:346px;height:475px;\" version=\"1.1\" viewBox=\"0 0 346 475\" width=\"346px\" zoomAndPan=\"magnify\"><defs/><g><!--MD5=[fbc87193dbaf4d95561dea2c320d4a47]\n",
       "cluster E1--><a href=\"psysml:6343fae7-e97a-4dac-816a-0d66812becae\" target=\"_top\" title=\"psysml:6343fae7-e97a-4dac-816a-0d66812becae\" xlink:actuate=\"onRequest\" xlink:href=\"psysml:6343fae7-e97a-4dac-816a-0d66812becae\" xlink:show=\"new\" xlink:title=\"psysml:6343fae7-e97a-4dac-816a-0d66812becae\" xlink:type=\"simple\"><rect fill=\"#FFFFFF\" height=\"457\" id=\"E1\" style=\"stroke: #383838; stroke-width: 1.5;\" width=\"327\" x=\"7\" y=\"7\"/><rect fill=\"#F8F8F8\" height=\"37.9375\" style=\"stroke: #383838; stroke-width: 1.5;\" width=\"327\" x=\"7\" y=\"7\"/><text fill=\"#000000\" font-family=\"sans-serif\" font-size=\"12\" font-style=\"italic\" lengthAdjust=\"spacingAndGlyphs\" textLength=\"71\" x=\"135\" y=\"23.1387\">«state def»</text><text fill=\"#000000\" font-family=\"sans-serif\" font-size=\"12\" lengthAdjust=\"spacingAndGlyphs\" textLength=\"8\" x=\"166.5\" y=\"37.1074\">S</text><line style=\"stroke: #383838; stroke-width: 1.0;\" x1=\"7\" x2=\"334\" y1=\"90.8438\" y2=\"90.8438\"/><text fill=\"#000000\" font-family=\"sans-serif\" font-size=\"12\" font-weight=\"bold\" lengthAdjust=\"spacingAndGlyphs\" textLength=\"38\" x=\"12\" y=\"58.0762\">entry</text><text fill=\"#000000\" font-family=\"sans-serif\" font-size=\"12\" lengthAdjust=\"spacingAndGlyphs\" textLength=\"16\" x=\"50\" y=\"58.0762\">/ A</text><text fill=\"#000000\" font-family=\"sans-serif\" font-size=\"12\" font-weight=\"bold\" lengthAdjust=\"spacingAndGlyphs\" textLength=\"18\" x=\"12\" y=\"72.0449\">do</text><text fill=\"#000000\" font-family=\"sans-serif\" font-size=\"12\" lengthAdjust=\"spacingAndGlyphs\" textLength=\"16\" x=\"30\" y=\"72.0449\">/ B</text><text fill=\"#000000\" font-family=\"sans-serif\" font-size=\"12\" font-weight=\"bold\" lengthAdjust=\"spacingAndGlyphs\" textLength=\"26\" x=\"12\" y=\"86.0137\">exit</text><text fill=\"#000000\" font-family=\"sans-serif\" font-size=\"12\" lengthAdjust=\"spacingAndGlyphs\" textLength=\"28\" x=\"38\" y=\"86.0137\">/ act</text></a><ellipse cx=\"119\" cy=\"115\" fill=\"#000000\" rx=\"10\" ry=\"10\" style=\"stroke: none; stroke-width: 1.0;\"/><ellipse cx=\"119\" cy=\"438\" fill=\"none\" rx=\"10\" ry=\"10\" style=\"stroke: #000000; stroke-width: 1.0;\"/><ellipse cx=\"119.5\" cy=\"438.5\" fill=\"#000000\" rx=\"6\" ry=\"6\" style=\"stroke: none; stroke-width: 1.0;\"/><g id=\"E1.E2\"><a href=\"psysml:df9bf7b7-ea8a-42e1-9b23-b8091030681c\" target=\"_top\" title=\"psysml:df9bf7b7-ea8a-42e1-9b23-b8091030681c\" xlink:actuate=\"onRequest\" xlink:href=\"psysml:df9bf7b7-ea8a-42e1-9b23-b8091030681c\" xlink:show=\"new\" xlink:title=\"psysml:df9bf7b7-ea8a-42e1-9b23-b8091030681c\" xlink:type=\"simple\"><rect fill=\"#FFFFFF\" height=\"40\" id=\"E2\" rx=\"10\" ry=\"10\" style=\"stroke: #383838; stroke-width: 1.5;\" width=\"50\" x=\"94\" y=\"186\"/><rect fill=\"#F8F8F8\" height=\"23.9688\" rx=\"10\" ry=\"10\" style=\"stroke: #F8F8F8; stroke-width: 1.5;\" width=\"50\" x=\"94\" y=\"186\"/><rect fill=\"#F8F8F8\" height=\"10\" style=\"stroke: #F8F8F8; stroke-width: 1.5;\" width=\"50\" x=\"94\" y=\"199.9688\"/><rect fill=\"none\" height=\"40\" id=\"E2\" rx=\"10\" ry=\"10\" style=\"stroke: #383838; stroke-width: 1.5;\" width=\"50\" x=\"94\" y=\"186\"/><text fill=\"#000000\" font-family=\"sans-serif\" font-size=\"12\" lengthAdjust=\"spacingAndGlyphs\" textLength=\"16\" x=\"111\" y=\"202.1387\">S1</text></a></g><g id=\"E1.E3\"><a href=\"psysml:372708ac-c185-450b-8b20-5b0e6796b1d2\" target=\"_top\" title=\"psysml:372708ac-c185-450b-8b20-5b0e6796b1d2\" xlink:actuate=\"onRequest\" xlink:href=\"psysml:372708ac-c185-450b-8b20-5b0e6796b1d2\" xlink:show=\"new\" xlink:title=\"psysml:372708ac-c185-450b-8b20-5b0e6796b1d2\" xlink:type=\"simple\"><rect fill=\"#FFFFFF\" height=\"47.9375\" id=\"E3\" rx=\"10\" ry=\"10\" style=\"stroke: #383838; stroke-width: 1.5;\" width=\"50\" x=\"94\" y=\"303\"/><rect fill=\"#F8F8F8\" height=\"23.9688\" rx=\"10\" ry=\"10\" style=\"stroke: #F8F8F8; stroke-width: 1.5;\" width=\"50\" x=\"94\" y=\"303\"/><rect fill=\"#F8F8F8\" height=\"10\" style=\"stroke: #F8F8F8; stroke-width: 1.5;\" width=\"50\" x=\"94\" y=\"316.9688\"/><rect fill=\"none\" height=\"47.9375\" id=\"E3\" rx=\"10\" ry=\"10\" style=\"stroke: #383838; stroke-width: 1.5;\" width=\"50\" x=\"94\" y=\"303\"/><text fill=\"#000000\" font-family=\"sans-serif\" font-size=\"12\" lengthAdjust=\"spacingAndGlyphs\" textLength=\"16\" x=\"111\" y=\"319.1387\">S2</text><line style=\"stroke: #383838; stroke-width: 1.0;\" x1=\"94\" x2=\"144\" y1=\"326.9688\" y2=\"326.9688\"/><text fill=\"#000000\" font-family=\"sans-serif\" font-size=\"12\" font-weight=\"bold\" lengthAdjust=\"spacingAndGlyphs\" textLength=\"18\" x=\"99\" y=\"340.1074\">do</text><text fill=\"#000000\" font-family=\"sans-serif\" font-size=\"12\" lengthAdjust=\"spacingAndGlyphs\" textLength=\"4\" x=\"117\" y=\"340.1074\">/</text></a></g><!--MD5=[cff944eb183b832d446717a4e202d613]\n",
       "link *start*E1 to E2--><a href=\"psysml:63e0b6b5-21d2-46c8-92d5-87e224212dbf\" target=\"_top\" title=\"psysml:63e0b6b5-21d2-46c8-92d5-87e224212dbf\" xlink:actuate=\"onRequest\" xlink:href=\"psysml:63e0b6b5-21d2-46c8-92d5-87e224212dbf\" xlink:show=\"new\" xlink:title=\"psysml:63e0b6b5-21d2-46c8-92d5-87e224212dbf\" xlink:type=\"simple\"><path d=\"M119,125.19 C119,138.18 119,162.38 119,180.73 \" fill=\"none\" id=\"*start*E1-&gt;E2\" style=\"stroke: #383838; stroke-width: 1.0;\"/><polygon fill=\"#383838\" points=\"119,185.74,123,176.74,119,180.74,115,176.74,119,185.74\" style=\"stroke: #383838; stroke-width: 1.0;\"/></a><!--MD5=[9ee7afa76ca8c509b3d216624c3a9893]\n",
       "link E3 to *end*E1--><a href=\"psysml:60b88d5b-1ac8-4d6b-b052-bf1a623237b5\" target=\"_top\" title=\"psysml:60b88d5b-1ac8-4d6b-b052-bf1a623237b5\" xlink:actuate=\"onRequest\" xlink:href=\"psysml:60b88d5b-1ac8-4d6b-b052-bf1a623237b5\" xlink:show=\"new\" xlink:title=\"psysml:60b88d5b-1ac8-4d6b-b052-bf1a623237b5\" xlink:type=\"simple\"><path d=\"M119,351.12 C119,372.75 119,404.39 119,422.62 \" fill=\"none\" id=\"E3-&gt;*end*E1\" style=\"stroke: #383838; stroke-width: 1.0;\"/><polygon fill=\"#383838\" points=\"119,427.82,123,418.82,119,422.82,115,418.82,119,427.82\" style=\"stroke: #383838; stroke-width: 1.0;\"/><text fill=\"#000000\" font-family=\"sans-serif\" font-size=\"13\" lengthAdjust=\"spacingAndGlyphs\" textLength=\"23\" x=\"120\" y=\"394.0669\">Exit</text></a><!--MD5=[2720a5a1f2c3fca2055b230370638851]\n",
       "link E2 to E3--><a href=\"psysml:b9f5e72d-c680-433c-ba5c-575fc587f4f3\" target=\"_top\" title=\"psysml:b9f5e72d-c680-433c-ba5c-575fc587f4f3\" xlink:actuate=\"onRequest\" xlink:href=\"psysml:b9f5e72d-c680-433c-ba5c-575fc587f4f3\" xlink:show=\"new\" xlink:title=\"psysml:b9f5e72d-c680-433c-ba5c-575fc587f4f3\" xlink:type=\"simple\"><path d=\"M93.93,218.88 C79.69,227.12 63.12,239.56 55,256 C44.11,278.05 67.72,298.2 89.27,311.16 \" fill=\"none\" id=\"E2-&gt;E3\" style=\"stroke: #383838; stroke-width: 1.0;\"/><polygon fill=\"#383838\" points=\"93.83,313.82,88.0682,305.8324,89.5101,311.3024,84.0401,312.7443,93.83,313.82\" style=\"stroke: #383838; stroke-width: 1.0;\"/><text fill=\"#000000\" font-family=\"sans-serif\" font-size=\"13\" lengthAdjust=\"spacingAndGlyphs\" textLength=\"81\" x=\"56\" y=\"269.0669\">Sig /action D</text></a><!--MD5=[05d275557350bfb9b23a4ef7222b4c39]\n",
       "link E3 to E2--><a href=\"psysml:8fe1fd83-9e96-4978-be75-1a7ead5c4a85\" target=\"_top\" title=\"psysml:8fe1fd83-9e96-4978-be75-1a7ead5c4a85\" xlink:actuate=\"onRequest\" xlink:href=\"psysml:8fe1fd83-9e96-4978-be75-1a7ead5c4a85\" xlink:show=\"new\" xlink:title=\"psysml:8fe1fd83-9e96-4978-be75-1a7ead5c4a85\" xlink:type=\"simple\"><path d=\"M133.17,302.99 C139.81,289.48 145.56,271.98 142,256 C140.1,247.49 136.56,238.72 132.82,230.99 \" fill=\"none\" id=\"E3-&gt;E2\" style=\"stroke: #383838; stroke-width: 1.0;\"/><polygon fill=\"#383838\" points=\"130.47,226.32,130.9298,236.1581,132.7118,230.7893,138.0806,232.5713,130.47,226.32\" style=\"stroke: #383838; stroke-width: 1.0;\"/><text fill=\"#000000\" font-family=\"sans-serif\" font-size=\"13\" lengthAdjust=\"spacingAndGlyphs\" textLength=\"135\" x=\"144\" y=\"269.0669\">Sig [true]/send s to p</text></a><!--MD5=[52fad09edc19c778110258148ce82b94]\n",
       "@startuml\r\n",
       "top to bottom direction\r\n",
       "skinparam monochrome true\r\n",
       "skinparam classbackgroundcolor white\r\n",
       "skinparam shadowing false\r\n",
       "skinparam wrapWidth 300\r\n",
       "hide circle\r\n",
       "\r\n",
       "rec def \"S\" as E1  <<(T,blue)state def>> [[psysml:6343fae7-e97a-4dac-816a-0d66812becae ]] {\r\n",
       "rec usage \"S1\" as E2 [[psysml:df9bf7b7-ea8a-42e1-9b23-b8091030681c ]] {\r\n",
       "}\r\n",
       "\r\n",
       "rec usage \"S2\" as E3 [[psysml:372708ac-c185-450b-8b20-5b0e6796b1d2 ]] {\r\n",
       "desc \"S2\" as E3  : **do**/ \r\n",
       "}\r\n",
       "\r\n",
       "[*] - -> E2 [[psysml:63e0b6b5-21d2-46c8-92d5-87e224212dbf ]] \r\n",
       "E3  - -> [*] [[psysml:60b88d5b-1ac8-4d6b-b052-bf1a623237b5 ]] : Exit \r\n",
       "desc \"S\" as E1  : **entry**/ A\r\n",
       "desc \"S\" as E1  : **do**/ B\r\n",
       "desc \"S\" as E1  : **exit**/ act \r\n",
       "}\r\n",
       "\r\n",
       "E2  - -> E3 [[psysml:b9f5e72d-c680-433c-ba5c-575fc587f4f3 ]] : Sig /action D\r\n",
       "E3  - -> E2 [[psysml:8fe1fd83-9e96-4978-be75-1a7ead5c4a85 ]] : Sig [true]/send s to p\r\n",
       "@enduml\r\n",
       "\n",
       "PlantUML version 1.2020.13(Sat Jun 13 12:26:38 UTC 2020)\n",
       "(EPL source distribution)\n",
       "Java Runtime: OpenJDK Runtime Environment\n",
       "JVM: OpenJDK 64-Bit Server VM\n",
       "Default Encoding: UTF-8\n",
       "Language: en\n",
       "Country: null\n",
       "--></g></svg>"
      ]
     },
     "execution_count": 46,
     "metadata": {},
     "output_type": "execute_result"
    }
   ],
   "source": [
    "%viz --style=\"TB\" --view=\"State\" \"StateTest\""
   ]
  },
  {
   "cell_type": "code",
   "execution_count": 47,
   "id": "consolidated-nepal",
   "metadata": {
    "execution": {
     "iopub.execute_input": "2021-03-25T13:48:18.992546Z",
     "iopub.status.busy": "2021-03-25T13:48:18.991849Z",
     "iopub.status.idle": "2021-03-25T13:48:19.057149Z",
     "shell.execute_reply": "2021-03-25T13:48:19.055520Z"
    }
   },
   "outputs": [
    {
     "data": {
      "image/svg+xml": [
       "<?xml version=\"1.0\" encoding=\"UTF-8\" standalone=\"no\"?><svg xmlns=\"http://www.w3.org/2000/svg\" xmlns:xlink=\"http://www.w3.org/1999/xlink\" contentScriptType=\"application/ecmascript\" contentStyleType=\"text/css\" height=\"112px\" preserveAspectRatio=\"none\" style=\"width:598px;height:112px;\" version=\"1.1\" viewBox=\"0 0 598 112\" width=\"598px\" zoomAndPan=\"magnify\"><defs/><g><!--MD5=[fbc87193dbaf4d95561dea2c320d4a47]\n",
       "cluster E1--><a href=\"psysml:7751d53a-3d7b-46fc-b5d8-bf0ae3c7070c\" target=\"_top\" title=\"psysml:7751d53a-3d7b-46fc-b5d8-bf0ae3c7070c\" xlink:actuate=\"onRequest\" xlink:href=\"psysml:7751d53a-3d7b-46fc-b5d8-bf0ae3c7070c\" xlink:show=\"new\" xlink:title=\"psysml:7751d53a-3d7b-46fc-b5d8-bf0ae3c7070c\" xlink:type=\"simple\"><polygon fill=\"#FFFFFF\" points=\"16,6,98,6,105,28.2969,576,28.2969,576,100,16,100,16,6\" style=\"stroke: #000000; stroke-width: 1.5;\"/><line style=\"stroke: #000000; stroke-width: 1.5;\" x1=\"16\" x2=\"105\" y1=\"28.2969\" y2=\"28.2969\"/><text fill=\"#000000\" font-family=\"sans-serif\" font-size=\"14\" font-weight=\"bold\" lengthAdjust=\"spacingAndGlyphs\" textLength=\"76\" x=\"20\" y=\"20.9951\">StateTest</text></a><g id=\"E1.E2\"><a href=\"psysml:85dbfb10-d456-4c59-a9e0-99da33bb7a4b\" target=\"_top\" title=\"psysml:85dbfb10-d456-4c59-a9e0-99da33bb7a4b\" xlink:actuate=\"onRequest\" xlink:href=\"psysml:85dbfb10-d456-4c59-a9e0-99da33bb7a4b\" xlink:show=\"new\" xlink:title=\"psysml:85dbfb10-d456-4c59-a9e0-99da33bb7a4b\" xlink:type=\"simple\"><rect fill=\"#FFFFFF\" height=\"42.9375\" id=\"E2\" style=\"stroke: #383838; stroke-width: 1.5;\" width=\"100\" x=\"460\" y=\"41\"/><rect fill=\"#F8F8F8\" height=\"37.9375\" style=\"stroke: #383838; stroke-width: 1.5;\" width=\"100\" x=\"460\" y=\"41\"/><text fill=\"#000000\" font-family=\"sans-serif\" font-size=\"12\" font-style=\"italic\" lengthAdjust=\"spacingAndGlyphs\" textLength=\"93\" x=\"463.5\" y=\"57.1387\">«attribute def»</text><text fill=\"#000000\" font-family=\"sans-serif\" font-size=\"12\" lengthAdjust=\"spacingAndGlyphs\" textLength=\"19\" x=\"500.5\" y=\"71.1074\">Sig</text></a></g><g id=\"E1.E3\"><a href=\"psysml:06ed69bb-03e4-455b-a820-630d0564221d\" target=\"_top\" title=\"psysml:06ed69bb-03e4-455b-a820-630d0564221d\" xlink:actuate=\"onRequest\" xlink:href=\"psysml:06ed69bb-03e4-455b-a820-630d0564221d\" xlink:show=\"new\" xlink:title=\"psysml:06ed69bb-03e4-455b-a820-630d0564221d\" xlink:type=\"simple\"><rect fill=\"#FFFFFF\" height=\"42.9375\" id=\"E3\" style=\"stroke: #383838; stroke-width: 1.5;\" width=\"100\" x=\"325\" y=\"41\"/><rect fill=\"#F8F8F8\" height=\"37.9375\" style=\"stroke: #383838; stroke-width: 1.5;\" width=\"100\" x=\"325\" y=\"41\"/><text fill=\"#000000\" font-family=\"sans-serif\" font-size=\"12\" font-style=\"italic\" lengthAdjust=\"spacingAndGlyphs\" textLength=\"93\" x=\"328.5\" y=\"57.1387\">«attribute def»</text><text fill=\"#000000\" font-family=\"sans-serif\" font-size=\"12\" lengthAdjust=\"spacingAndGlyphs\" textLength=\"22\" x=\"364\" y=\"71.1074\">Exit</text></a></g><g id=\"E1.E6\"><a href=\"psysml:6343fae7-e97a-4dac-816a-0d66812becae\" target=\"_top\" title=\"psysml:6343fae7-e97a-4dac-816a-0d66812becae\" xlink:actuate=\"onRequest\" xlink:href=\"psysml:6343fae7-e97a-4dac-816a-0d66812becae\" xlink:show=\"new\" xlink:title=\"psysml:6343fae7-e97a-4dac-816a-0d66812becae\" xlink:type=\"simple\"><rect fill=\"#FFFFFF\" height=\"42.9375\" id=\"E6\" style=\"stroke: #383838; stroke-width: 1.5;\" width=\"78\" x=\"212\" y=\"41\"/><rect fill=\"#F8F8F8\" height=\"37.9375\" style=\"stroke: #383838; stroke-width: 1.5;\" width=\"78\" x=\"212\" y=\"41\"/><text fill=\"#000000\" font-family=\"sans-serif\" font-size=\"12\" font-style=\"italic\" lengthAdjust=\"spacingAndGlyphs\" textLength=\"71\" x=\"215.5\" y=\"57.1387\">«state def»</text><text fill=\"#000000\" font-family=\"sans-serif\" font-size=\"12\" lengthAdjust=\"spacingAndGlyphs\" textLength=\"8\" x=\"247\" y=\"71.1074\">S</text></a></g><g id=\"E1.E4\"><a href=\"psysml:f6292196-12b9-4bba-a758-98820cb4f3f5\" target=\"_top\" title=\"psysml:f6292196-12b9-4bba-a758-98820cb4f3f5\" xlink:actuate=\"onRequest\" xlink:href=\"psysml:f6292196-12b9-4bba-a758-98820cb4f3f5\" xlink:show=\"new\" xlink:title=\"psysml:f6292196-12b9-4bba-a758-98820cb4f3f5\" xlink:type=\"simple\"><rect fill=\"#FFFFFF\" height=\"40\" id=\"E4\" rx=\"10\" ry=\"10\" style=\"stroke: #383838; stroke-width: 1.5;\" width=\"50\" x=\"127\" y=\"42.5\"/><rect fill=\"#F8F8F8\" height=\"23.9688\" rx=\"10\" ry=\"10\" style=\"stroke: #F8F8F8; stroke-width: 1.5;\" width=\"50\" x=\"127\" y=\"42.5\"/><rect fill=\"#F8F8F8\" height=\"10\" style=\"stroke: #F8F8F8; stroke-width: 1.5;\" width=\"50\" x=\"127\" y=\"56.4688\"/><rect fill=\"none\" height=\"40\" id=\"E4\" rx=\"10\" ry=\"10\" style=\"stroke: #383838; stroke-width: 1.5;\" width=\"50\" x=\"127\" y=\"42.5\"/><text fill=\"#000000\" font-family=\"sans-serif\" font-size=\"12\" lengthAdjust=\"spacingAndGlyphs\" textLength=\"8\" x=\"148\" y=\"58.6387\">p</text></a></g><g id=\"E1.E5\"><a href=\"psysml:d7bec2b6-e32c-41d0-a208-370a3f1c18c8\" target=\"_top\" title=\"psysml:d7bec2b6-e32c-41d0-a208-370a3f1c18c8\" xlink:actuate=\"onRequest\" xlink:href=\"psysml:d7bec2b6-e32c-41d0-a208-370a3f1c18c8\" xlink:show=\"new\" xlink:title=\"psysml:d7bec2b6-e32c-41d0-a208-370a3f1c18c8\" xlink:type=\"simple\"><rect fill=\"#FFFFFF\" height=\"42.9375\" id=\"E5\" rx=\"10\" ry=\"10\" style=\"stroke: #383838; stroke-width: 1.5;\" width=\"60\" x=\"32\" y=\"41\"/><rect fill=\"#F8F8F8\" height=\"37.9375\" rx=\"10\" ry=\"10\" style=\"stroke: #F8F8F8; stroke-width: 1.5;\" width=\"60\" x=\"32\" y=\"41\"/><rect fill=\"#F8F8F8\" height=\"10\" style=\"stroke: #F8F8F8; stroke-width: 1.5;\" width=\"60\" x=\"32\" y=\"68.9375\"/><rect fill=\"none\" height=\"42.9375\" id=\"E5\" rx=\"10\" ry=\"10\" style=\"stroke: #383838; stroke-width: 1.5;\" width=\"60\" x=\"32\" y=\"41\"/><text fill=\"#000000\" font-family=\"sans-serif\" font-size=\"12\" font-style=\"italic\" lengthAdjust=\"spacingAndGlyphs\" textLength=\"53\" x=\"35.5\" y=\"57.1387\">«action»</text><text fill=\"#000000\" font-family=\"sans-serif\" font-size=\"12\" lengthAdjust=\"spacingAndGlyphs\" textLength=\"20\" x=\"52\" y=\"71.1074\">act</text></a></g><!--MD5=[4e293190dae1c8f20866cf424a99265d]\n",
       "@startuml\r\n",
       "skinparam ranksep 8\r\n",
       "skinparam rectangle {\r\n",
       " backgroundColor<<block>> LightGreen\r\n",
       "}\r\n",
       "top to bottom direction\r\n",
       "skinparam monochrome true\r\n",
       "skinparam classbackgroundcolor white\r\n",
       "skinparam shadowing false\r\n",
       "skinparam wrapWidth 300\r\n",
       "hide circle\r\n",
       "\r\n",
       "package \"StateTest\" as E1  [[psysml:7751d53a-3d7b-46fc-b5d8-bf0ae3c7070c ]]  {\r\n",
       "def \"Sig\" as E2  <<(T,blue)attribute def>> [[psysml:85dbfb10-d456-4c59-a9e0-99da33bb7a4b ]] \r\n",
       "def \"Exit\" as E3  <<(T,blue)attribute def>> [[psysml:06ed69bb-03e4-455b-a820-630d0564221d ]] \r\n",
       "rec usage \"p\" as E4  [[psysml:f6292196-12b9-4bba-a758-98820cb4f3f5 ]] {\r\n",
       "}\r\n",
       "rec usage \"act\" as E5  <<(T,blue)action>> [[psysml:d7bec2b6-e32c-41d0-a208-370a3f1c18c8 ]] {\r\n",
       "}\r\n",
       "def \"S\" as E6  <<(T,blue)state def>> [[psysml:6343fae7-e97a-4dac-816a-0d66812becae ]] \r\n",
       "}\r\n",
       "@enduml\r\n",
       "\n",
       "PlantUML version 1.2020.13(Sat Jun 13 12:26:38 UTC 2020)\n",
       "(EPL source distribution)\n",
       "Java Runtime: OpenJDK Runtime Environment\n",
       "JVM: OpenJDK 64-Bit Server VM\n",
       "Default Encoding: UTF-8\n",
       "Language: en\n",
       "Country: null\n",
       "--></g></svg>"
      ]
     },
     "execution_count": 47,
     "metadata": {},
     "output_type": "execute_result"
    }
   ],
   "source": [
    "%viz --style=\"TB\" --view=\"Interconnection\" \"StateTest\""
   ]
  },
  {
   "cell_type": "code",
   "execution_count": 48,
   "id": "posted-sweden",
   "metadata": {
    "execution": {
     "iopub.execute_input": "2021-03-25T13:48:19.106816Z",
     "iopub.status.busy": "2021-03-25T13:48:19.106342Z",
     "iopub.status.idle": "2021-03-25T13:48:19.166322Z",
     "shell.execute_reply": "2021-03-25T13:48:19.164971Z"
    }
   },
   "outputs": [
    {
     "data": {
      "image/svg+xml": [
       "<?xml version=\"1.0\" encoding=\"UTF-8\" standalone=\"no\"?><svg xmlns=\"http://www.w3.org/2000/svg\" xmlns:xlink=\"http://www.w3.org/1999/xlink\" contentScriptType=\"application/ecmascript\" contentStyleType=\"text/css\" height=\"553px\" preserveAspectRatio=\"none\" style=\"width:797px;height:553px;background:#000000;\" version=\"1.1\" viewBox=\"0 0 797 553\" width=\"797px\" zoomAndPan=\"magnify\"><defs/><g><rect fill=\"#000C05\" height=\"1\" style=\"stroke: #000C05; stroke-width: 1.0;\" width=\"1\" x=\"0\" y=\"0\"/><rect fill=\"#EAE2C9\" height=\"65.1875\" style=\"stroke: #EAE2C9; stroke-width: 1.0;\" width=\"796\" x=\"0\" y=\"0\"/><text fill=\"#000000\" font-family=\"sans-serif\" font-size=\"14\" font-weight=\"bold\" lengthAdjust=\"spacingAndGlyphs\" textLength=\"310\" x=\"10\" y=\"12.9951\">Add your own dedication into PlantUML</text><text fill=\"#000000\" font-family=\"sans-serif\" font-size=\"14\" lengthAdjust=\"spacingAndGlyphs\" textLength=\"0\" x=\"14\" y=\"29.292\"/><text fill=\"#000000\" font-family=\"sans-serif\" font-size=\"14\" lengthAdjust=\"spacingAndGlyphs\" textLength=\"154\" x=\"10\" y=\"45.5889\">For just $5 per month!</text><text fill=\"#000000\" font-family=\"sans-serif\" font-size=\"14\" lengthAdjust=\"spacingAndGlyphs\" textLength=\"69\" x=\"10\" y=\"61.8857\">Details on</text><a href=\"http://plantuml.com/dedication\" target=\"_top\" title=\"http://plantuml.com/dedication\" xlink:actuate=\"onRequest\" xlink:href=\"http://plantuml.com/dedication\" xlink:show=\"new\" xlink:title=\"http://plantuml.com/dedication\" xlink:type=\"simple\"><text fill=\"#000000\" font-family=\"sans-serif\" font-size=\"14\" font-style=\"italic\" lengthAdjust=\"spacingAndGlyphs\" textLength=\"213\" x=\"83\" y=\"61.8857\">http://plantuml.com/dedication</text></a><rect fill=\"#000000\" height=\"487.6094\" style=\"stroke: #000000; stroke-width: 1.0;\" width=\"796\" x=\"0\" y=\"65.1875\"/><rect fill=\"#33FF02\" height=\"21.2969\" style=\"stroke: #33FF02; stroke-width: 1.0;\" width=\"786\" x=\"5\" y=\"70.1875\"/><text fill=\"#000000\" font-family=\"sans-serif\" font-size=\"14\" font-weight=\"bold\" lengthAdjust=\"spacingAndGlyphs\" textLength=\"178\" x=\"6\" y=\"85.1875\">[From string (line 26) ]</text><text fill=\"#33FF02\" font-family=\"sans-serif\" font-size=\"14\" font-weight=\"bold\" lengthAdjust=\"spacingAndGlyphs\" textLength=\"0\" x=\"10\" y=\"105.4844\"/><text fill=\"#33FF02\" font-family=\"sans-serif\" font-size=\"14\" font-weight=\"bold\" lengthAdjust=\"spacingAndGlyphs\" textLength=\"79\" x=\"5\" y=\"121.7813\">@startuml</text><text fill=\"#33FF02\" font-family=\"sans-serif\" font-size=\"14\" font-weight=\"bold\" lengthAdjust=\"spacingAndGlyphs\" textLength=\"165\" x=\"5\" y=\"138.0781\">skinparam ranksep 8</text><text fill=\"#33FF02\" font-family=\"sans-serif\" font-size=\"14\" font-weight=\"bold\" lengthAdjust=\"spacingAndGlyphs\" textLength=\"183\" x=\"5\" y=\"154.375\">top to bottom direction</text><text fill=\"#33FF02\" font-family=\"sans-serif\" font-size=\"14\" font-weight=\"bold\" lengthAdjust=\"spacingAndGlyphs\" textLength=\"228\" x=\"5\" y=\"170.6719\">skinparam monochrome true</text><text fill=\"#33FF02\" font-family=\"sans-serif\" font-size=\"14\" font-weight=\"bold\" lengthAdjust=\"spacingAndGlyphs\" textLength=\"309\" x=\"5\" y=\"186.9688\">skinparam classbackgroundcolor white</text><text fill=\"#33FF02\" font-family=\"sans-serif\" font-size=\"14\" font-weight=\"bold\" lengthAdjust=\"spacingAndGlyphs\" textLength=\"215\" x=\"5\" y=\"203.2656\">skinparam shadowing false</text><text fill=\"#33FF02\" font-family=\"sans-serif\" font-size=\"14\" font-weight=\"bold\" lengthAdjust=\"spacingAndGlyphs\" textLength=\"206\" x=\"5\" y=\"219.5625\">skinparam wrapWidth 300</text><text fill=\"#33FF02\" font-family=\"sans-serif\" font-size=\"14\" font-weight=\"bold\" lengthAdjust=\"spacingAndGlyphs\" textLength=\"82\" x=\"5\" y=\"235.8594\">hide circle</text><text fill=\"#33FF02\" font-family=\"sans-serif\" font-size=\"14\" font-weight=\"bold\" lengthAdjust=\"spacingAndGlyphs\" textLength=\"0\" x=\"10\" y=\"252.1563\"/><text fill=\"#33FF02\" font-family=\"sans-serif\" font-size=\"14\" font-weight=\"bold\" lengthAdjust=\"spacingAndGlyphs\" textLength=\"780\" x=\"5\" y=\"268.4531\">rec usage \"act\" as E1  &lt;&lt;(T,blue)action&gt;&gt; [[psysml:d7bec2b6-e32c-41d0-a208-370a3f1c18c8 ]] {</text><text fill=\"#33FF02\" font-family=\"sans-serif\" font-size=\"14\" font-weight=\"bold\" lengthAdjust=\"spacingAndGlyphs\" textLength=\"10\" x=\"5\" y=\"284.75\">}</text><text fill=\"#33FF02\" font-family=\"sans-serif\" font-size=\"14\" font-weight=\"bold\" lengthAdjust=\"spacingAndGlyphs\" textLength=\"0\" x=\"10\" y=\"301.0469\"/><text fill=\"#33FF02\" font-family=\"sans-serif\" font-size=\"14\" font-weight=\"bold\" lengthAdjust=\"spacingAndGlyphs\" textLength=\"766\" x=\"5\" y=\"317.3438\">rec def \"S\" as E2  &lt;&lt;(T,blue)state def&gt;&gt; [[psysml:6343fae7-e97a-4dac-816a-0d66812becae ]] {</text><text fill=\"#33FF02\" font-family=\"sans-serif\" font-size=\"14\" font-weight=\"bold\" lengthAdjust=\"spacingAndGlyphs\" textLength=\"771\" x=\"5\" y=\"333.6406\">rec usage \"A\" as E3 &lt;&lt;perform action&gt;&gt; [[psysml:8359d21e-76a2-4117-aa0c-e497139fc203 ]] {</text><text fill=\"#33FF02\" font-family=\"sans-serif\" font-size=\"14\" font-weight=\"bold\" lengthAdjust=\"spacingAndGlyphs\" textLength=\"10\" x=\"5\" y=\"349.9375\">}</text><text fill=\"#33FF02\" font-family=\"sans-serif\" font-size=\"14\" font-weight=\"bold\" lengthAdjust=\"spacingAndGlyphs\" textLength=\"0\" x=\"10\" y=\"366.2344\"/><text fill=\"#33FF02\" font-family=\"sans-serif\" font-size=\"14\" font-weight=\"bold\" lengthAdjust=\"spacingAndGlyphs\" textLength=\"757\" x=\"5\" y=\"382.5313\">rec usage \"B\" as E4 &lt;&lt;perform action&gt;&gt; [[psysml:fefee72e-42fb-4d4a-8086-a3c1a01af58c ]] {</text><text fill=\"#33FF02\" font-family=\"sans-serif\" font-size=\"14\" font-weight=\"bold\" lengthAdjust=\"spacingAndGlyphs\" textLength=\"10\" x=\"5\" y=\"398.8281\">}</text><text fill=\"#33FF02\" font-family=\"sans-serif\" font-size=\"14\" font-weight=\"bold\" lengthAdjust=\"spacingAndGlyphs\" textLength=\"0\" x=\"10\" y=\"415.125\"/><text fill=\"#33FF02\" font-family=\"sans-serif\" font-size=\"14\" font-weight=\"bold\" lengthAdjust=\"spacingAndGlyphs\" textLength=\"786\" x=\"5\" y=\"431.4219\">rec usage \"act\" as E5 &lt;&lt;perform action&gt;&gt; [[psysml:0785ac9a-a9d7-4330-a90b-536bd85a1c26 ]] {</text><text fill=\"#33FF02\" font-family=\"sans-serif\" font-size=\"14\" font-weight=\"bold\" lengthAdjust=\"spacingAndGlyphs\" textLength=\"10\" x=\"5\" y=\"447.7188\">}</text><text fill=\"#33FF02\" font-family=\"sans-serif\" font-size=\"14\" font-weight=\"bold\" lengthAdjust=\"spacingAndGlyphs\" textLength=\"0\" x=\"10\" y=\"464.0156\"/><text fill=\"#33FF02\" font-family=\"sans-serif\" font-size=\"14\" font-weight=\"bold\" lengthAdjust=\"spacingAndGlyphs\" textLength=\"767\" x=\"5\" y=\"480.3125\">rec usage \"S1\" as E6  &lt;&lt;(T,blue)state&gt;&gt; [[psysml:df9bf7b7-ea8a-42e1-9b23-b8091030681c ]] {</text><text fill=\"#33FF02\" font-family=\"sans-serif\" font-size=\"14\" font-weight=\"bold\" lengthAdjust=\"spacingAndGlyphs\" textLength=\"10\" x=\"5\" y=\"496.6094\">}</text><text fill=\"#33FF02\" font-family=\"sans-serif\" font-size=\"14\" font-weight=\"bold\" lengthAdjust=\"spacingAndGlyphs\" textLength=\"0\" x=\"10\" y=\"512.9063\"/><text fill=\"#33FF02\" font-family=\"sans-serif\" font-size=\"14\" font-weight=\"bold\" lengthAdjust=\"spacingAndGlyphs\" textLength=\"10\" x=\"5\" y=\"529.2031\">{</text><text fill=\"#FF0000\" font-family=\"sans-serif\" font-size=\"14\" font-weight=\"bold\" lengthAdjust=\"spacingAndGlyphs\" textLength=\"106\" x=\"10\" y=\"545.5\">Syntax Error?</text><!--MD5=[20f851b21419dfbac78888343531ecae]\n",
       "@startuml\r\n",
       "skinparam ranksep 8\r\n",
       "top to bottom direction\r\n",
       "skinparam monochrome true\r\n",
       "skinparam classbackgroundcolor white\r\n",
       "skinparam shadowing false\r\n",
       "skinparam wrapWidth 300\r\n",
       "hide circle\r\n",
       "\r\n",
       "rec usage \"act\" as E1  <<(T,blue)action>> [[psysml:d7bec2b6-e32c-41d0-a208-370a3f1c18c8 ]] {\r\n",
       "}\r\n",
       "\r\n",
       "rec def \"S\" as E2  <<(T,blue)state def>> [[psysml:6343fae7-e97a-4dac-816a-0d66812becae ]] {\r\n",
       "rec usage \"A\" as E3 <<perform action>> [[psysml:8359d21e-76a2-4117-aa0c-e497139fc203 ]] {\r\n",
       "}\r\n",
       "\r\n",
       "rec usage \"B\" as E4 <<perform action>> [[psysml:fefee72e-42fb-4d4a-8086-a3c1a01af58c ]] {\r\n",
       "}\r\n",
       "\r\n",
       "rec usage \"act\" as E5 <<perform action>> [[psysml:0785ac9a-a9d7-4330-a90b-536bd85a1c26 ]] {\r\n",
       "}\r\n",
       "\r\n",
       "rec usage \"S1\" as E6  <<(T,blue)state>> [[psysml:df9bf7b7-ea8a-42e1-9b23-b8091030681c ]] {\r\n",
       "}\r\n",
       "\r\n",
       "{\r\n",
       "{\r\n",
       "}\r\n",
       "\r\n",
       "rec usage \"D\" as E7 <<perform action>> [[psysml:13511cfd-781a-4ec2-8fcf-a4a28f7b6394 ]] {\r\n",
       "}\r\n",
       "\r\n",
       "}\r\n",
       "\r\n",
       "rec usage \"S2\" as E8  <<(T,blue)state>> [[psysml:372708ac-c185-450b-8b20-5b0e6796b1d2 ]] {\r\n",
       "rec usage \"doAction\" as E9 <<send action>> [[psysml:db8ff6bb-65b2-44b6-939f-52bfaf067d5c ]] {\r\n",
       "portin \"$x\" as E10  [[psysml:f2ac6743-4d1a-421e-9e84-f3280953fc52 ]] \r\n",
       "portout \"$result\" as E11  [[psysml:58832e21-8b8c-4456-b993-1dc2ff31e51d ]] \r\n",
       "}\r\n",
       "\r\n",
       "}\r\n",
       "\r\n",
       "{\r\n",
       "{\r\n",
       "}\r\n",
       "\r\n",
       "}\r\n",
       "\r\n",
       "rec usage \"T\" as E12  <<(T,blue)transition>> [[psysml:8fe1fd83-9e96-4978-be75-1a7ead5c4a85 ]] {\r\n",
       "rec usage \"S2\" as E13  <<(T,blue)state>> [[psysml:372708ac-c185-450b-8b20-5b0e6796b1d2 ]] {\r\n",
       "rec usage \"doAction\" as E14 <<send action>> [[psysml:db8ff6bb-65b2-44b6-939f-52bfaf067d5c ]] {\r\n",
       "portin \"$x\" as E15  [[psysml:f2ac6743-4d1a-421e-9e84-f3280953fc52 ]] \r\n",
       "portout \"$result\" as E16  [[psysml:58832e21-8b8c-4456-b993-1dc2ff31e51d ]] \r\n",
       "}\r\n",
       "\r\n",
       "}\r\n",
       "\r\n",
       "{\r\n",
       "}\r\n",
       "\r\n",
       "portout \"$result\" as E17  [[psysml:19fa8e9c-57e3-4ff0-b297-c44a7cb57e28 ]] \r\n",
       "{\r\n",
       "}\r\n",
       "\r\n",
       "}\r\n",
       "\r\n",
       "}\r\n",
       "\r\n",
       "@enduml\r\n",
       "\n",
       "PlantUML version 1.2020.13(Sat Jun 13 12:26:38 UTC 2020)\n",
       "(EPL source distribution)\n",
       "Java Runtime: OpenJDK Runtime Environment\n",
       "JVM: OpenJDK 64-Bit Server VM\n",
       "Default Encoding: UTF-8\n",
       "Language: en\n",
       "Country: null\n",
       "--></g></svg>"
      ]
     },
     "execution_count": 48,
     "metadata": {},
     "output_type": "execute_result"
    }
   ],
   "source": [
    "%viz --style=\"TB\" --view=\"Action\" \"StateTest\""
   ]
  },
  {
   "cell_type": "code",
   "execution_count": 49,
   "id": "cosmetic-saturn",
   "metadata": {
    "execution": {
     "iopub.execute_input": "2021-03-25T13:48:19.216479Z",
     "iopub.status.busy": "2021-03-25T13:48:19.216036Z",
     "iopub.status.idle": "2021-03-25T13:48:19.653098Z",
     "shell.execute_reply": "2021-03-25T13:48:19.652548Z"
    }
   },
   "outputs": [
    {
     "data": {
      "image/svg+xml": [
       "<?xml version=\"1.0\" encoding=\"UTF-8\" standalone=\"no\"?><svg xmlns=\"http://www.w3.org/2000/svg\" xmlns:xlink=\"http://www.w3.org/1999/xlink\" contentScriptType=\"application/ecmascript\" contentStyleType=\"text/css\" height=\"471px\" preserveAspectRatio=\"none\" style=\"width:594px;height:471px;\" version=\"1.1\" viewBox=\"0 0 594 471\" width=\"594px\" zoomAndPan=\"magnify\"><defs/><g><!--MD5=[fbc87193dbaf4d95561dea2c320d4a47]\n",
       "cluster E1--><a href=\"psysml:7751d53a-3d7b-46fc-b5d8-bf0ae3c7070c\" target=\"_top\" title=\"psysml:7751d53a-3d7b-46fc-b5d8-bf0ae3c7070c\" xlink:actuate=\"onRequest\" xlink:href=\"psysml:7751d53a-3d7b-46fc-b5d8-bf0ae3c7070c\" xlink:show=\"new\" xlink:title=\"psysml:7751d53a-3d7b-46fc-b5d8-bf0ae3c7070c\" xlink:type=\"simple\"><polygon fill=\"#FFFFFF\" points=\"16,6,98,6,105,28.2969,572,28.2969,572,459,16,459,16,6\" style=\"stroke: #000000; stroke-width: 1.5;\"/><line style=\"stroke: #000000; stroke-width: 1.5;\" x1=\"16\" x2=\"105\" y1=\"28.2969\" y2=\"28.2969\"/><text fill=\"#000000\" font-family=\"sans-serif\" font-size=\"14\" font-weight=\"bold\" lengthAdjust=\"spacingAndGlyphs\" textLength=\"76\" x=\"20\" y=\"20.9951\">StateTest</text></a><!--MD5=[b4997ac47864f28c2f74865a473b2911]\n",
       "class E2--><a href=\"psysml:85dbfb10-d456-4c59-a9e0-99da33bb7a4b\" target=\"_top\" title=\"psysml:85dbfb10-d456-4c59-a9e0-99da33bb7a4b\" xlink:actuate=\"onRequest\" xlink:href=\"psysml:85dbfb10-d456-4c59-a9e0-99da33bb7a4b\" xlink:show=\"new\" xlink:title=\"psysml:85dbfb10-d456-4c59-a9e0-99da33bb7a4b\" xlink:type=\"simple\"><rect fill=\"#FFFFFF\" height=\"75.5469\" id=\"E2\" style=\"stroke: #383838; stroke-width: 1.5;\" width=\"95\" x=\"460.5\" y=\"83\"/><text fill=\"#000000\" font-family=\"sans-serif\" font-size=\"12\" font-style=\"italic\" lengthAdjust=\"spacingAndGlyphs\" textLength=\"93\" x=\"461.5\" y=\"99.1387\">«attribute def»</text><text fill=\"#000000\" font-family=\"sans-serif\" font-size=\"12\" lengthAdjust=\"spacingAndGlyphs\" textLength=\"19\" x=\"498.5\" y=\"113.1074\">Sig</text><line style=\"stroke: #383838; stroke-width: 1.5;\" x1=\"461.5\" x2=\"554.5\" y1=\"120.9375\" y2=\"120.9375\"/><text fill=\"#000000\" font-family=\"sans-serif\" font-size=\"11\" lengthAdjust=\"spacingAndGlyphs\" textLength=\"6\" x=\"466.5\" y=\"151.9526\">x</text><line style=\"stroke: #383838; stroke-width: 1.0;\" x1=\"461.5\" x2=\"480.5\" y1=\"135.3398\" y2=\"135.3398\"/><text fill=\"#000000\" font-family=\"sans-serif\" font-size=\"11\" lengthAdjust=\"spacingAndGlyphs\" textLength=\"55\" x=\"480.5\" y=\"138.6479\">attributes</text><line style=\"stroke: #383838; stroke-width: 1.0;\" x1=\"535.5\" x2=\"554.5\" y1=\"135.3398\" y2=\"135.3398\"/></a><!--MD5=[09b614a08d8cba4a07c9adeb5e0fee81]\n",
       "class E3--><a href=\"psysml:06ed69bb-03e4-455b-a820-630d0564221d\" target=\"_top\" title=\"psysml:06ed69bb-03e4-455b-a820-630d0564221d\" xlink:actuate=\"onRequest\" xlink:href=\"psysml:06ed69bb-03e4-455b-a820-630d0564221d\" xlink:show=\"new\" xlink:title=\"psysml:06ed69bb-03e4-455b-a820-630d0564221d\" xlink:type=\"simple\"><rect fill=\"#FFFFFF\" height=\"45.9375\" id=\"E3\" style=\"stroke: #383838; stroke-width: 1.5;\" width=\"95\" x=\"330.5\" y=\"98\"/><text fill=\"#000000\" font-family=\"sans-serif\" font-size=\"12\" font-style=\"italic\" lengthAdjust=\"spacingAndGlyphs\" textLength=\"93\" x=\"331.5\" y=\"114.1387\">«attribute def»</text><text fill=\"#000000\" font-family=\"sans-serif\" font-size=\"12\" lengthAdjust=\"spacingAndGlyphs\" textLength=\"22\" x=\"367\" y=\"128.1074\">Exit</text><line style=\"stroke: #383838; stroke-width: 1.5;\" x1=\"331.5\" x2=\"424.5\" y1=\"135.9375\" y2=\"135.9375\"/></a><!--MD5=[ebbe1d658d1005bcc118a6aa81145e00]\n",
       "class E4--><a href=\"psysml:f6292196-12b9-4bba-a758-98820cb4f3f5\" target=\"_top\" title=\"psysml:f6292196-12b9-4bba-a758-98820cb4f3f5\" xlink:actuate=\"onRequest\" xlink:href=\"psysml:f6292196-12b9-4bba-a758-98820cb4f3f5\" xlink:show=\"new\" xlink:title=\"psysml:f6292196-12b9-4bba-a758-98820cb4f3f5\" xlink:type=\"simple\"><rect fill=\"#FFFFFF\" height=\"45.9375\" id=\"E4\" rx=\"10\" ry=\"10\" style=\"stroke: #383838; stroke-width: 1.5;\" width=\"42\" x=\"253\" y=\"98\"/><text fill=\"#000000\" font-family=\"sans-serif\" font-size=\"12\" font-style=\"italic\" lengthAdjust=\"spacingAndGlyphs\" textLength=\"40\" x=\"254\" y=\"114.1387\">«part»</text><text fill=\"#000000\" font-family=\"sans-serif\" font-size=\"12\" lengthAdjust=\"spacingAndGlyphs\" textLength=\"8\" x=\"270\" y=\"128.1074\">p</text><line style=\"stroke: #383838; stroke-width: 1.5;\" x1=\"254\" x2=\"294\" y1=\"135.9375\" y2=\"135.9375\"/></a><!--MD5=[270fce915f116d4de14055a7c1d9a0f3]\n",
       "class E5--><a href=\"psysml:d7bec2b6-e32c-41d0-a208-370a3f1c18c8\" target=\"_top\" title=\"psysml:d7bec2b6-e32c-41d0-a208-370a3f1c18c8\" xlink:actuate=\"onRequest\" xlink:href=\"psysml:d7bec2b6-e32c-41d0-a208-370a3f1c18c8\" xlink:show=\"new\" xlink:title=\"psysml:d7bec2b6-e32c-41d0-a208-370a3f1c18c8\" xlink:type=\"simple\"><rect fill=\"#FFFFFF\" height=\"45.9375\" id=\"E5\" rx=\"10\" ry=\"10\" style=\"stroke: #383838; stroke-width: 1.5;\" width=\"55\" x=\"162.5\" y=\"98\"/><text fill=\"#000000\" font-family=\"sans-serif\" font-size=\"12\" font-style=\"italic\" lengthAdjust=\"spacingAndGlyphs\" textLength=\"53\" x=\"163.5\" y=\"114.1387\">«action»</text><text fill=\"#000000\" font-family=\"sans-serif\" font-size=\"12\" lengthAdjust=\"spacingAndGlyphs\" textLength=\"20\" x=\"180\" y=\"128.1074\">act</text><line style=\"stroke: #383838; stroke-width: 1.5;\" x1=\"163.5\" x2=\"216.5\" y1=\"135.9375\" y2=\"135.9375\"/></a><!--MD5=[60a26617385b1d2d0262a64233df1f8d]\n",
       "class E6--><a href=\"psysml:6343fae7-e97a-4dac-816a-0d66812becae\" target=\"_top\" title=\"psysml:6343fae7-e97a-4dac-816a-0d66812becae\" xlink:actuate=\"onRequest\" xlink:href=\"psysml:6343fae7-e97a-4dac-816a-0d66812becae\" xlink:show=\"new\" xlink:title=\"psysml:6343fae7-e97a-4dac-816a-0d66812becae\" xlink:type=\"simple\"><rect fill=\"#FFFFFF\" height=\"160.375\" id=\"E6\" style=\"stroke: #383838; stroke-width: 1.5;\" width=\"95\" x=\"32.5\" y=\"41\"/><text fill=\"#000000\" font-family=\"sans-serif\" font-size=\"12\" font-style=\"italic\" lengthAdjust=\"spacingAndGlyphs\" textLength=\"71\" x=\"44.5\" y=\"57.1387\">«state def»</text><text fill=\"#000000\" font-family=\"sans-serif\" font-size=\"12\" lengthAdjust=\"spacingAndGlyphs\" textLength=\"8\" x=\"76\" y=\"71.1074\">S</text><line style=\"stroke: #383838; stroke-width: 1.5;\" x1=\"33.5\" x2=\"126.5\" y1=\"78.9375\" y2=\"78.9375\"/><text fill=\"#000000\" font-family=\"sans-serif\" font-size=\"11\" lengthAdjust=\"spacingAndGlyphs\" textLength=\"17\" x=\"38.5\" y=\"109.9526\">act</text><text fill=\"#000000\" font-family=\"sans-serif\" font-size=\"11\" lengthAdjust=\"spacingAndGlyphs\" textLength=\"7\" x=\"38.5\" y=\"122.7573\">A</text><text fill=\"#000000\" font-family=\"sans-serif\" font-size=\"11\" lengthAdjust=\"spacingAndGlyphs\" textLength=\"8\" x=\"38.5\" y=\"135.562\">B</text><line style=\"stroke: #383838; stroke-width: 1.0;\" x1=\"33.5\" x2=\"36.5\" y1=\"93.3398\" y2=\"93.3398\"/><text fill=\"#000000\" font-family=\"sans-serif\" font-size=\"11\" lengthAdjust=\"spacingAndGlyphs\" textLength=\"87\" x=\"36.5\" y=\"96.6479\">performActions</text><line style=\"stroke: #383838; stroke-width: 1.0;\" x1=\"123.5\" x2=\"126.5\" y1=\"93.3398\" y2=\"93.3398\"/><text fill=\"#000000\" font-family=\"sans-serif\" font-size=\"11\" lengthAdjust=\"spacingAndGlyphs\" textLength=\"15\" x=\"38.5\" y=\"165.1714\">S1</text><line style=\"stroke: #383838; stroke-width: 1.0;\" x1=\"33.5\" x2=\"62\" y1=\"148.5586\" y2=\"148.5586\"/><text fill=\"#000000\" font-family=\"sans-serif\" font-size=\"11\" lengthAdjust=\"spacingAndGlyphs\" textLength=\"36\" x=\"62\" y=\"151.8667\">states</text><line style=\"stroke: #383838; stroke-width: 1.0;\" x1=\"98\" x2=\"126.5\" y1=\"148.5586\" y2=\"148.5586\"/><text fill=\"#000000\" font-family=\"sans-serif\" font-size=\"11\" lengthAdjust=\"spacingAndGlyphs\" textLength=\"7\" x=\"38.5\" y=\"194.7808\">T</text><line style=\"stroke: #383838; stroke-width: 1.0;\" x1=\"33.5\" x2=\"49.5\" y1=\"178.168\" y2=\"178.168\"/><text fill=\"#000000\" font-family=\"sans-serif\" font-size=\"11\" lengthAdjust=\"spacingAndGlyphs\" textLength=\"61\" x=\"49.5\" y=\"181.4761\">transitions</text><line style=\"stroke: #383838; stroke-width: 1.0;\" x1=\"110.5\" x2=\"126.5\" y1=\"178.168\" y2=\"178.168\"/></a><!--MD5=[1dd1bfd58a279cf63c5f349dbc8fc6a1]\n",
       "class E11--><a href=\"psysml:372708ac-c185-450b-8b20-5b0e6796b1d2\" target=\"_top\" title=\"psysml:372708ac-c185-450b-8b20-5b0e6796b1d2\" xlink:actuate=\"onRequest\" xlink:href=\"psysml:372708ac-c185-450b-8b20-5b0e6796b1d2\" xlink:show=\"new\" xlink:title=\"psysml:372708ac-c185-450b-8b20-5b0e6796b1d2\" xlink:type=\"simple\"><rect fill=\"#FFFFFF\" height=\"45.9375\" id=\"E11\" rx=\"10\" ry=\"10\" style=\"stroke: #383838; stroke-width: 1.5;\" width=\"49\" x=\"55.5\" y=\"261\"/><text fill=\"#000000\" font-family=\"sans-serif\" font-size=\"12\" font-style=\"italic\" lengthAdjust=\"spacingAndGlyphs\" textLength=\"47\" x=\"56.5\" y=\"277.1387\">«state»</text><text fill=\"#000000\" font-family=\"sans-serif\" font-size=\"12\" lengthAdjust=\"spacingAndGlyphs\" textLength=\"16\" x=\"72\" y=\"291.1074\">S2</text><line style=\"stroke: #383838; stroke-width: 1.5;\" x1=\"56.5\" x2=\"103.5\" y1=\"298.9375\" y2=\"298.9375\"/></a><!--MD5=[49a0ec8f00dab7302a31f22d0f0fe584]\n",
       "class E12--><a href=\"psysml:db8ff6bb-65b2-44b6-939f-52bfaf067d5c\" target=\"_top\" title=\"psysml:db8ff6bb-65b2-44b6-939f-52bfaf067d5c\" xlink:actuate=\"onRequest\" xlink:href=\"psysml:db8ff6bb-65b2-44b6-939f-52bfaf067d5c\" xlink:show=\"new\" xlink:title=\"psysml:db8ff6bb-65b2-44b6-939f-52bfaf067d5c\" xlink:type=\"simple\"><rect fill=\"#FFFFFF\" height=\"75.5469\" id=\"E12\" rx=\"10\" ry=\"10\" style=\"stroke: #383838; stroke-width: 1.5;\" width=\"90\" x=\"35\" y=\"367\"/><text fill=\"#000000\" font-family=\"sans-serif\" font-size=\"12\" font-style=\"italic\" lengthAdjust=\"spacingAndGlyphs\" textLength=\"88\" x=\"36\" y=\"383.1387\">«send action»</text><text fill=\"#000000\" font-family=\"sans-serif\" font-size=\"12\" lengthAdjust=\"spacingAndGlyphs\" textLength=\"55\" x=\"52.5\" y=\"397.1074\">doAction</text><line style=\"stroke: #383838; stroke-width: 1.5;\" x1=\"36\" x2=\"124\" y1=\"404.9375\" y2=\"404.9375\"/><text fill=\"#000000\" font-family=\"sans-serif\" font-size=\"11\" lengthAdjust=\"spacingAndGlyphs\" textLength=\"25\" x=\"41\" y=\"435.9526\">item</text><line style=\"stroke: #383838; stroke-width: 1.0;\" x1=\"36\" x2=\"42.5\" y1=\"419.3398\" y2=\"419.3398\"/><text fill=\"#000000\" font-family=\"sans-serif\" font-size=\"11\" lengthAdjust=\"spacingAndGlyphs\" textLength=\"75\" x=\"42.5\" y=\"422.6479\">itemFeatures</text><line style=\"stroke: #383838; stroke-width: 1.0;\" x1=\"117.5\" x2=\"124\" y1=\"419.3398\" y2=\"419.3398\"/></a><!--MD5=[1f5f03483f7de0d5b3680a7f6650997f]\n",
       "reverse link E6 to E11--><a href=\"psysml:372708ac-c185-450b-8b20-5b0e6796b1d2\" target=\"_top\" title=\"psysml:372708ac-c185-450b-8b20-5b0e6796b1d2\" xlink:actuate=\"onRequest\" xlink:href=\"psysml:372708ac-c185-450b-8b20-5b0e6796b1d2\" xlink:show=\"new\" xlink:title=\"psysml:372708ac-c185-450b-8b20-5b0e6796b1d2\" xlink:type=\"simple\"><path d=\"M80,214.17 C80,231.58 80,248.25 80,260.82 \" fill=\"none\" id=\"E6&lt;-E11\" style=\"stroke: #383838; stroke-width: 1.0;\"/><polygon fill=\"#383838\" points=\"80,201.09,76.0066,207.0944,80.0132,213.09,84.0066,207.0856,80,201.09\" style=\"stroke: #383838; stroke-width: 1.0;\"/></a><!--MD5=[94adabc162ce7e41b39f13be14fbaeb3]\n",
       "reverse link E11 to E12--><a href=\"psysml:db8ff6bb-65b2-44b6-939f-52bfaf067d5c\" target=\"_top\" title=\"psysml:db8ff6bb-65b2-44b6-939f-52bfaf067d5c\" xlink:actuate=\"onRequest\" xlink:href=\"psysml:db8ff6bb-65b2-44b6-939f-52bfaf067d5c\" xlink:show=\"new\" xlink:title=\"psysml:db8ff6bb-65b2-44b6-939f-52bfaf067d5c\" xlink:type=\"simple\"><path d=\"M80,320.23 C80,334.82 80,351.76 80,366.58 \" fill=\"none\" id=\"E11&lt;-E12\" style=\"stroke: #383838; stroke-width: 1.0;\"/><polygon fill=\"#FFFFFF\" points=\"80,307.1,76,313.1,80,319.1,84,313.1,80,307.1\" style=\"stroke: #383838; stroke-width: 1.0;\"/></a><!--MD5=[fcba6871440dc2a6932dde8702c22c83]\n",
       "@startuml\r\n",
       "top to bottom direction\r\n",
       "skinparam monochrome true\r\n",
       "skinparam classbackgroundcolor white\r\n",
       "skinparam shadowing false\r\n",
       "skinparam wrapWidth 300\r\n",
       "hide circle\r\n",
       "\r\n",
       "package \"StateTest\" as E1  [[psysml:7751d53a-3d7b-46fc-b5d8-bf0ae3c7070c ]]  {\r\n",
       "comp def \"Sig\" as E2  <<(T,blue)attribute def>> [[psysml:85dbfb10-d456-4c59-a9e0-99da33bb7a4b ]] {\r\n",
       "- - attributes - -\r\n",
       "x\r\n",
       "}\r\n",
       "comp def \"Exit\" as E3  <<(T,blue)attribute def>> [[psysml:06ed69bb-03e4-455b-a820-630d0564221d ]] {\r\n",
       "}\r\n",
       "comp usage \"p\" as E4  <<(T,blue)part>> [[psysml:f6292196-12b9-4bba-a758-98820cb4f3f5 ]] {\r\n",
       "}\r\n",
       "comp usage \"act\" as E5  <<(T,blue)action>> [[psysml:d7bec2b6-e32c-41d0-a208-370a3f1c18c8 ]] {\r\n",
       "}\r\n",
       "comp def \"S\" as E6  <<(T,blue)state def>> [[psysml:6343fae7-e97a-4dac-816a-0d66812becae ]] {\r\n",
       "- - performActions - -\r\n",
       "act\r\n",
       "A\r\n",
       "B\r\n",
       "- - states - -\r\n",
       "S1\r\n",
       "- - transitions - -\r\n",
       "T\r\n",
       "}\r\n",
       "comp usage \"S2\" as E11  <<(T,blue)state>> [[psysml:372708ac-c185-450b-8b20-5b0e6796b1d2 ]] {\r\n",
       "}\r\n",
       "comp usage \"doAction\" as E12 <<send action>> [[psysml:db8ff6bb-65b2-44b6-939f-52bfaf067d5c ]] {\r\n",
       "- - itemFeatures - -\r\n",
       "item\r\n",
       "}\r\n",
       "E6 *- - E11 [[psysml:372708ac-c185-450b-8b20-5b0e6796b1d2 ]] \r\n",
       "E11 o- - E12 [[psysml:db8ff6bb-65b2-44b6-939f-52bfaf067d5c ]] \r\n",
       "}\r\n",
       "@enduml\r\n",
       "\n",
       "PlantUML version 1.2020.13(Sat Jun 13 12:26:38 UTC 2020)\n",
       "(EPL source distribution)\n",
       "Java Runtime: OpenJDK Runtime Environment\n",
       "JVM: OpenJDK 64-Bit Server VM\n",
       "Default Encoding: UTF-8\n",
       "Language: en\n",
       "Country: null\n",
       "--></g></svg>"
      ]
     },
     "execution_count": 49,
     "metadata": {},
     "output_type": "execute_result"
    }
   ],
   "source": [
    "%viz --style=\"TB\" --view=\"Sequence\" \"StateTest\""
   ]
  },
  {
   "cell_type": "code",
   "execution_count": 50,
   "id": "prescribed-tomorrow",
   "metadata": {
    "execution": {
     "iopub.execute_input": "2021-03-25T13:48:19.703802Z",
     "iopub.status.busy": "2021-03-25T13:48:19.703212Z",
     "iopub.status.idle": "2021-03-25T13:48:19.878204Z",
     "shell.execute_reply": "2021-03-25T13:48:19.878669Z"
    }
   },
   "outputs": [
    {
     "data": {
      "image/svg+xml": [
       "<?xml version=\"1.0\" encoding=\"UTF-8\" standalone=\"no\"?><svg xmlns=\"http://www.w3.org/2000/svg\" xmlns:xlink=\"http://www.w3.org/1999/xlink\" contentScriptType=\"application/ecmascript\" contentStyleType=\"text/css\" height=\"570px\" preserveAspectRatio=\"none\" style=\"width:819px;height:570px;\" version=\"1.1\" viewBox=\"0 0 819 570\" width=\"819px\" zoomAndPan=\"magnify\"><defs/><g><!--MD5=[fbc87193dbaf4d95561dea2c320d4a47]\n",
       "cluster E1--><a href=\"psysml:7751d53a-3d7b-46fc-b5d8-bf0ae3c7070c\" target=\"_top\" title=\"psysml:7751d53a-3d7b-46fc-b5d8-bf0ae3c7070c\" xlink:actuate=\"onRequest\" xlink:href=\"psysml:7751d53a-3d7b-46fc-b5d8-bf0ae3c7070c\" xlink:show=\"new\" xlink:title=\"psysml:7751d53a-3d7b-46fc-b5d8-bf0ae3c7070c\" xlink:type=\"simple\"><polygon fill=\"#FFFFFF\" points=\"16,6,98,6,105,28.2969,797,28.2969,797,558,16,558,16,6\" style=\"stroke: #000000; stroke-width: 1.5;\"/><line style=\"stroke: #000000; stroke-width: 1.5;\" x1=\"16\" x2=\"105\" y1=\"28.2969\" y2=\"28.2969\"/><text fill=\"#000000\" font-family=\"sans-serif\" font-size=\"14\" font-weight=\"bold\" lengthAdjust=\"spacingAndGlyphs\" textLength=\"76\" x=\"20\" y=\"20.9951\">StateTest</text></a><!--MD5=[14e3b0961a2654348d326746436168a1]\n",
       "cluster E6--><a href=\"psysml:6343fae7-e97a-4dac-816a-0d66812becae\" target=\"_top\" title=\"psysml:6343fae7-e97a-4dac-816a-0d66812becae\" xlink:actuate=\"onRequest\" xlink:href=\"psysml:6343fae7-e97a-4dac-816a-0d66812becae\" xlink:show=\"new\" xlink:title=\"psysml:6343fae7-e97a-4dac-816a-0d66812becae\" xlink:type=\"simple\"><rect fill=\"#FFFFFF\" height=\"485\" id=\"E6\" style=\"stroke: #383838; stroke-width: 1.5;\" width=\"327\" x=\"446\" y=\"49\"/><rect fill=\"#F8F8F8\" height=\"37.9375\" style=\"stroke: #383838; stroke-width: 1.5;\" width=\"327\" x=\"446\" y=\"49\"/><text fill=\"#000000\" font-family=\"sans-serif\" font-size=\"12\" font-style=\"italic\" lengthAdjust=\"spacingAndGlyphs\" textLength=\"71\" x=\"574\" y=\"65.1387\">«state def»</text><text fill=\"#000000\" font-family=\"sans-serif\" font-size=\"12\" lengthAdjust=\"spacingAndGlyphs\" textLength=\"8\" x=\"605.5\" y=\"79.1074\">S</text><line style=\"stroke: #383838; stroke-width: 1.0;\" x1=\"446\" x2=\"773\" y1=\"132.8438\" y2=\"132.8438\"/><text fill=\"#000000\" font-family=\"sans-serif\" font-size=\"12\" font-weight=\"bold\" lengthAdjust=\"spacingAndGlyphs\" textLength=\"38\" x=\"451\" y=\"100.0762\">entry</text><text fill=\"#000000\" font-family=\"sans-serif\" font-size=\"12\" lengthAdjust=\"spacingAndGlyphs\" textLength=\"16\" x=\"489\" y=\"100.0762\">/ A</text><text fill=\"#000000\" font-family=\"sans-serif\" font-size=\"12\" font-weight=\"bold\" lengthAdjust=\"spacingAndGlyphs\" textLength=\"18\" x=\"451\" y=\"114.0449\">do</text><text fill=\"#000000\" font-family=\"sans-serif\" font-size=\"12\" lengthAdjust=\"spacingAndGlyphs\" textLength=\"16\" x=\"469\" y=\"114.0449\">/ B</text><text fill=\"#000000\" font-family=\"sans-serif\" font-size=\"12\" font-weight=\"bold\" lengthAdjust=\"spacingAndGlyphs\" textLength=\"26\" x=\"451\" y=\"128.0137\">exit</text><text fill=\"#000000\" font-family=\"sans-serif\" font-size=\"12\" lengthAdjust=\"spacingAndGlyphs\" textLength=\"28\" x=\"477\" y=\"128.0137\">/ act</text></a><!--MD5=[b4997ac47864f28c2f74865a473b2911]\n",
       "class E2--><a href=\"psysml:85dbfb10-d456-4c59-a9e0-99da33bb7a4b\" target=\"_top\" title=\"psysml:85dbfb10-d456-4c59-a9e0-99da33bb7a4b\" xlink:actuate=\"onRequest\" xlink:href=\"psysml:85dbfb10-d456-4c59-a9e0-99da33bb7a4b\" xlink:show=\"new\" xlink:title=\"psysml:85dbfb10-d456-4c59-a9e0-99da33bb7a4b\" xlink:type=\"simple\"><rect fill=\"#FFFFFF\" height=\"75.5469\" id=\"E2\" style=\"stroke: #383838; stroke-width: 1.5;\" width=\"95\" x=\"334.5\" y=\"119\"/><text fill=\"#000000\" font-family=\"sans-serif\" font-size=\"12\" font-style=\"italic\" lengthAdjust=\"spacingAndGlyphs\" textLength=\"93\" x=\"335.5\" y=\"135.1387\">«attribute def»</text><text fill=\"#000000\" font-family=\"sans-serif\" font-size=\"12\" lengthAdjust=\"spacingAndGlyphs\" textLength=\"19\" x=\"372.5\" y=\"149.1074\">Sig</text><line style=\"stroke: #383838; stroke-width: 1.5;\" x1=\"335.5\" x2=\"428.5\" y1=\"156.9375\" y2=\"156.9375\"/><text fill=\"#000000\" font-family=\"sans-serif\" font-size=\"11\" lengthAdjust=\"spacingAndGlyphs\" textLength=\"6\" x=\"340.5\" y=\"187.9526\">x</text><line style=\"stroke: #383838; stroke-width: 1.0;\" x1=\"335.5\" x2=\"354.5\" y1=\"171.3398\" y2=\"171.3398\"/><text fill=\"#000000\" font-family=\"sans-serif\" font-size=\"11\" lengthAdjust=\"spacingAndGlyphs\" textLength=\"55\" x=\"354.5\" y=\"174.6479\">attributes</text><line style=\"stroke: #383838; stroke-width: 1.0;\" x1=\"409.5\" x2=\"428.5\" y1=\"171.3398\" y2=\"171.3398\"/></a><!--MD5=[09b614a08d8cba4a07c9adeb5e0fee81]\n",
       "class E3--><a href=\"psysml:06ed69bb-03e4-455b-a820-630d0564221d\" target=\"_top\" title=\"psysml:06ed69bb-03e4-455b-a820-630d0564221d\" xlink:actuate=\"onRequest\" xlink:href=\"psysml:06ed69bb-03e4-455b-a820-630d0564221d\" xlink:show=\"new\" xlink:title=\"psysml:06ed69bb-03e4-455b-a820-630d0564221d\" xlink:type=\"simple\"><rect fill=\"#FFFFFF\" height=\"45.9375\" id=\"E3\" style=\"stroke: #383838; stroke-width: 1.5;\" width=\"95\" x=\"204.5\" y=\"134\"/><text fill=\"#000000\" font-family=\"sans-serif\" font-size=\"12\" font-style=\"italic\" lengthAdjust=\"spacingAndGlyphs\" textLength=\"93\" x=\"205.5\" y=\"150.1387\">«attribute def»</text><text fill=\"#000000\" font-family=\"sans-serif\" font-size=\"12\" lengthAdjust=\"spacingAndGlyphs\" textLength=\"22\" x=\"241\" y=\"164.1074\">Exit</text><line style=\"stroke: #383838; stroke-width: 1.5;\" x1=\"205.5\" x2=\"298.5\" y1=\"171.9375\" y2=\"171.9375\"/></a><!--MD5=[ebbe1d658d1005bcc118a6aa81145e00]\n",
       "class E4--><a href=\"psysml:f6292196-12b9-4bba-a758-98820cb4f3f5\" target=\"_top\" title=\"psysml:f6292196-12b9-4bba-a758-98820cb4f3f5\" xlink:actuate=\"onRequest\" xlink:href=\"psysml:f6292196-12b9-4bba-a758-98820cb4f3f5\" xlink:show=\"new\" xlink:title=\"psysml:f6292196-12b9-4bba-a758-98820cb4f3f5\" xlink:type=\"simple\"><rect fill=\"#FFFFFF\" height=\"45.9375\" id=\"E4\" rx=\"10\" ry=\"10\" style=\"stroke: #383838; stroke-width: 1.5;\" width=\"42\" x=\"127\" y=\"134\"/><text fill=\"#000000\" font-family=\"sans-serif\" font-size=\"12\" font-style=\"italic\" lengthAdjust=\"spacingAndGlyphs\" textLength=\"40\" x=\"128\" y=\"150.1387\">«part»</text><text fill=\"#000000\" font-family=\"sans-serif\" font-size=\"12\" lengthAdjust=\"spacingAndGlyphs\" textLength=\"8\" x=\"144\" y=\"164.1074\">p</text><line style=\"stroke: #383838; stroke-width: 1.5;\" x1=\"128\" x2=\"168\" y1=\"171.9375\" y2=\"171.9375\"/></a><g id=\"E1.E5\"><a href=\"psysml:d7bec2b6-e32c-41d0-a208-370a3f1c18c8\" target=\"_top\" title=\"psysml:d7bec2b6-e32c-41d0-a208-370a3f1c18c8\" xlink:actuate=\"onRequest\" xlink:href=\"psysml:d7bec2b6-e32c-41d0-a208-370a3f1c18c8\" xlink:show=\"new\" xlink:title=\"psysml:d7bec2b6-e32c-41d0-a208-370a3f1c18c8\" xlink:type=\"simple\"><rect fill=\"#FFFFFF\" height=\"42.9375\" id=\"E5\" rx=\"10\" ry=\"10\" style=\"stroke: #383838; stroke-width: 1.5;\" width=\"60\" x=\"32\" y=\"135.5\"/><rect fill=\"#F8F8F8\" height=\"37.9375\" rx=\"10\" ry=\"10\" style=\"stroke: #F8F8F8; stroke-width: 1.5;\" width=\"60\" x=\"32\" y=\"135.5\"/><rect fill=\"#F8F8F8\" height=\"10\" style=\"stroke: #F8F8F8; stroke-width: 1.5;\" width=\"60\" x=\"32\" y=\"163.4375\"/><rect fill=\"none\" height=\"42.9375\" id=\"E5\" rx=\"10\" ry=\"10\" style=\"stroke: #383838; stroke-width: 1.5;\" width=\"60\" x=\"32\" y=\"135.5\"/><text fill=\"#000000\" font-family=\"sans-serif\" font-size=\"12\" font-style=\"italic\" lengthAdjust=\"spacingAndGlyphs\" textLength=\"53\" x=\"35.5\" y=\"151.6387\">«action»</text><text fill=\"#000000\" font-family=\"sans-serif\" font-size=\"12\" lengthAdjust=\"spacingAndGlyphs\" textLength=\"20\" x=\"52\" y=\"165.6074\">act</text></a></g><ellipse cx=\"558\" cy=\"157\" fill=\"#000000\" rx=\"10\" ry=\"10\" style=\"stroke: none; stroke-width: 1.0;\"/><ellipse cx=\"558\" cy=\"508\" fill=\"none\" rx=\"10\" ry=\"10\" style=\"stroke: #000000; stroke-width: 1.0;\"/><ellipse cx=\"558.5\" cy=\"508.5\" fill=\"#000000\" rx=\"6\" ry=\"6\" style=\"stroke: none; stroke-width: 1.0;\"/><g id=\"E1.E6.E7\"><a href=\"psysml:df9bf7b7-ea8a-42e1-9b23-b8091030681c\" target=\"_top\" title=\"psysml:df9bf7b7-ea8a-42e1-9b23-b8091030681c\" xlink:actuate=\"onRequest\" xlink:href=\"psysml:df9bf7b7-ea8a-42e1-9b23-b8091030681c\" xlink:show=\"new\" xlink:title=\"psysml:df9bf7b7-ea8a-42e1-9b23-b8091030681c\" xlink:type=\"simple\"><rect fill=\"#FFFFFF\" height=\"40\" id=\"E7\" rx=\"10\" ry=\"10\" style=\"stroke: #383838; stroke-width: 1.5;\" width=\"50\" x=\"533\" y=\"256\"/><rect fill=\"#F8F8F8\" height=\"23.9688\" rx=\"10\" ry=\"10\" style=\"stroke: #F8F8F8; stroke-width: 1.5;\" width=\"50\" x=\"533\" y=\"256\"/><rect fill=\"#F8F8F8\" height=\"10\" style=\"stroke: #F8F8F8; stroke-width: 1.5;\" width=\"50\" x=\"533\" y=\"269.9688\"/><rect fill=\"none\" height=\"40\" id=\"E7\" rx=\"10\" ry=\"10\" style=\"stroke: #383838; stroke-width: 1.5;\" width=\"50\" x=\"533\" y=\"256\"/><text fill=\"#000000\" font-family=\"sans-serif\" font-size=\"12\" lengthAdjust=\"spacingAndGlyphs\" textLength=\"16\" x=\"550\" y=\"272.1387\">S1</text></a></g><g id=\"E1.E6.E8\"><a href=\"psysml:372708ac-c185-450b-8b20-5b0e6796b1d2\" target=\"_top\" title=\"psysml:372708ac-c185-450b-8b20-5b0e6796b1d2\" xlink:actuate=\"onRequest\" xlink:href=\"psysml:372708ac-c185-450b-8b20-5b0e6796b1d2\" xlink:show=\"new\" xlink:title=\"psysml:372708ac-c185-450b-8b20-5b0e6796b1d2\" xlink:type=\"simple\"><rect fill=\"#FFFFFF\" height=\"47.9375\" id=\"E8\" rx=\"10\" ry=\"10\" style=\"stroke: #383838; stroke-width: 1.5;\" width=\"50\" x=\"533\" y=\"373\"/><rect fill=\"#F8F8F8\" height=\"23.9688\" rx=\"10\" ry=\"10\" style=\"stroke: #F8F8F8; stroke-width: 1.5;\" width=\"50\" x=\"533\" y=\"373\"/><rect fill=\"#F8F8F8\" height=\"10\" style=\"stroke: #F8F8F8; stroke-width: 1.5;\" width=\"50\" x=\"533\" y=\"386.9688\"/><rect fill=\"none\" height=\"47.9375\" id=\"E8\" rx=\"10\" ry=\"10\" style=\"stroke: #383838; stroke-width: 1.5;\" width=\"50\" x=\"533\" y=\"373\"/><text fill=\"#000000\" font-family=\"sans-serif\" font-size=\"12\" lengthAdjust=\"spacingAndGlyphs\" textLength=\"16\" x=\"550\" y=\"389.1387\">S2</text><line style=\"stroke: #383838; stroke-width: 1.0;\" x1=\"533\" x2=\"583\" y1=\"396.9688\" y2=\"396.9688\"/><text fill=\"#000000\" font-family=\"sans-serif\" font-size=\"12\" font-weight=\"bold\" lengthAdjust=\"spacingAndGlyphs\" textLength=\"18\" x=\"538\" y=\"410.1074\">do</text><text fill=\"#000000\" font-family=\"sans-serif\" font-size=\"12\" lengthAdjust=\"spacingAndGlyphs\" textLength=\"4\" x=\"556\" y=\"410.1074\">/</text></a></g><!--MD5=[5a531d3a85f3339e6e197084acb48195]\n",
       "link *start*E6 to E7--><a href=\"psysml:63e0b6b5-21d2-46c8-92d5-87e224212dbf\" target=\"_top\" title=\"psysml:63e0b6b5-21d2-46c8-92d5-87e224212dbf\" xlink:actuate=\"onRequest\" xlink:href=\"psysml:63e0b6b5-21d2-46c8-92d5-87e224212dbf\" xlink:show=\"new\" xlink:title=\"psysml:63e0b6b5-21d2-46c8-92d5-87e224212dbf\" xlink:type=\"simple\"><path d=\"M558,167.18 C558,184.98 558,224.73 558,250.67 \" fill=\"none\" id=\"*start*E6-&gt;E7\" style=\"stroke: #383838; stroke-width: 1.0;\"/><polygon fill=\"#383838\" points=\"558,255.98,562,246.98,558,250.98,554,246.98,558,255.98\" style=\"stroke: #383838; stroke-width: 1.0;\"/></a><!--MD5=[7ec9a8babba89ddcae1318ca9fb3c814]\n",
       "link E8 to *end*E6--><a href=\"psysml:60b88d5b-1ac8-4d6b-b052-bf1a623237b5\" target=\"_top\" title=\"psysml:60b88d5b-1ac8-4d6b-b052-bf1a623237b5\" xlink:actuate=\"onRequest\" xlink:href=\"psysml:60b88d5b-1ac8-4d6b-b052-bf1a623237b5\" xlink:show=\"new\" xlink:title=\"psysml:60b88d5b-1ac8-4d6b-b052-bf1a623237b5\" xlink:type=\"simple\"><path d=\"M558,421.12 C558,442.75 558,474.39 558,492.62 \" fill=\"none\" id=\"E8-&gt;*end*E6\" style=\"stroke: #383838; stroke-width: 1.0;\"/><polygon fill=\"#383838\" points=\"558,497.82,562,488.82,558,492.82,554,488.82,558,497.82\" style=\"stroke: #383838; stroke-width: 1.0;\"/><text fill=\"#000000\" font-family=\"sans-serif\" font-size=\"13\" lengthAdjust=\"spacingAndGlyphs\" textLength=\"23\" x=\"559\" y=\"464.0669\">Exit</text></a><!--MD5=[79bc8f324ef4d02c541433f2e6e513c3]\n",
       "link E7 to E8--><a href=\"psysml:b9f5e72d-c680-433c-ba5c-575fc587f4f3\" target=\"_top\" title=\"psysml:b9f5e72d-c680-433c-ba5c-575fc587f4f3\" xlink:actuate=\"onRequest\" xlink:href=\"psysml:b9f5e72d-c680-433c-ba5c-575fc587f4f3\" xlink:show=\"new\" xlink:title=\"psysml:b9f5e72d-c680-433c-ba5c-575fc587f4f3\" xlink:type=\"simple\"><path d=\"M532.93,288.88 C518.69,297.12 502.12,309.56 494,326 C483.11,348.05 506.72,368.2 528.27,381.16 \" fill=\"none\" id=\"E7-&gt;E8\" style=\"stroke: #383838; stroke-width: 1.0;\"/><polygon fill=\"#383838\" points=\"532.83,383.82,527.0682,375.8324,528.5101,381.3024,523.0401,382.7443,532.83,383.82\" style=\"stroke: #383838; stroke-width: 1.0;\"/><text fill=\"#000000\" font-family=\"sans-serif\" font-size=\"13\" lengthAdjust=\"spacingAndGlyphs\" textLength=\"81\" x=\"495\" y=\"339.0669\">Sig /action D</text></a><!--MD5=[bfa3c8b0d15052fdf50ae9310b491027]\n",
       "link E8 to E7--><a href=\"psysml:8fe1fd83-9e96-4978-be75-1a7ead5c4a85\" target=\"_top\" title=\"psysml:8fe1fd83-9e96-4978-be75-1a7ead5c4a85\" xlink:actuate=\"onRequest\" xlink:href=\"psysml:8fe1fd83-9e96-4978-be75-1a7ead5c4a85\" xlink:show=\"new\" xlink:title=\"psysml:8fe1fd83-9e96-4978-be75-1a7ead5c4a85\" xlink:type=\"simple\"><path d=\"M572.17,372.99 C578.81,359.48 584.56,341.98 581,326 C579.1,317.49 575.56,308.72 571.82,300.99 \" fill=\"none\" id=\"E8-&gt;E7\" style=\"stroke: #383838; stroke-width: 1.0;\"/><polygon fill=\"#383838\" points=\"569.47,296.32,569.9298,306.1581,571.7118,300.7893,577.0806,302.5713,569.47,296.32\" style=\"stroke: #383838; stroke-width: 1.0;\"/><text fill=\"#000000\" font-family=\"sans-serif\" font-size=\"13\" lengthAdjust=\"spacingAndGlyphs\" textLength=\"135\" x=\"583\" y=\"339.0669\">Sig [true]/send s to p</text></a><!--MD5=[1794a0506409a7d3b30473fb8250f95c]\n",
       "@startuml\r\n",
       "top to bottom direction\r\n",
       "skinparam monochrome true\r\n",
       "skinparam classbackgroundcolor white\r\n",
       "skinparam shadowing false\r\n",
       "skinparam wrapWidth 300\r\n",
       "hide circle\r\n",
       "\r\n",
       "package \"StateTest\" as E1  [[psysml:7751d53a-3d7b-46fc-b5d8-bf0ae3c7070c ]]  {\r\n",
       "comp def \"Sig\" as E2  <<(T,blue)attribute def>> [[psysml:85dbfb10-d456-4c59-a9e0-99da33bb7a4b ]] {\r\n",
       "- - attributes - -\r\n",
       "x\r\n",
       "}\r\n",
       "comp def \"Exit\" as E3  <<(T,blue)attribute def>> [[psysml:06ed69bb-03e4-455b-a820-630d0564221d ]] {\r\n",
       "}\r\n",
       "comp usage \"p\" as E4  <<(T,blue)part>> [[psysml:f6292196-12b9-4bba-a758-98820cb4f3f5 ]] {\r\n",
       "}\r\n",
       "rec usage \"act\" as E5  <<(T,blue)action>> [[psysml:d7bec2b6-e32c-41d0-a208-370a3f1c18c8 ]] {\r\n",
       "}\r\n",
       "\r\n",
       "rec def \"S\" as E6  <<(T,blue)state def>> [[psysml:6343fae7-e97a-4dac-816a-0d66812becae ]] {\r\n",
       "rec usage \"S1\" as E7 [[psysml:df9bf7b7-ea8a-42e1-9b23-b8091030681c ]] {\r\n",
       "}\r\n",
       "\r\n",
       "rec usage \"S2\" as E8 [[psysml:372708ac-c185-450b-8b20-5b0e6796b1d2 ]] {\r\n",
       "desc \"S2\" as E8  : **do**/ \r\n",
       "}\r\n",
       "\r\n",
       "[*] - -> E7 [[psysml:63e0b6b5-21d2-46c8-92d5-87e224212dbf ]] \r\n",
       "E8  - -> [*] [[psysml:60b88d5b-1ac8-4d6b-b052-bf1a623237b5 ]] : Exit \r\n",
       "desc \"S\" as E6  : **entry**/ A\r\n",
       "desc \"S\" as E6  : **do**/ B\r\n",
       "desc \"S\" as E6  : **exit**/ act \r\n",
       "}\r\n",
       "\r\n",
       "E7  - -> E8 [[psysml:b9f5e72d-c680-433c-ba5c-575fc587f4f3 ]] : Sig /action D\r\n",
       "E8  - -> E7 [[psysml:8fe1fd83-9e96-4978-be75-1a7ead5c4a85 ]] : Sig [true]/send s to p\r\n",
       "}\r\n",
       "@enduml\r\n",
       "\n",
       "PlantUML version 1.2020.13(Sat Jun 13 12:26:38 UTC 2020)\n",
       "(EPL source distribution)\n",
       "Java Runtime: OpenJDK Runtime Environment\n",
       "JVM: OpenJDK 64-Bit Server VM\n",
       "Default Encoding: UTF-8\n",
       "Language: en\n",
       "Country: null\n",
       "--></g></svg>"
      ]
     },
     "execution_count": 50,
     "metadata": {},
     "output_type": "execute_result"
    }
   ],
   "source": [
    "%viz --style=\"TB\" --view=\"MIXED\" \"StateTest\""
   ]
  },
  {
   "cell_type": "code",
   "execution_count": 51,
   "id": "controlling-microphone",
   "metadata": {
    "execution": {
     "iopub.execute_input": "2021-03-25T13:48:19.931466Z",
     "iopub.status.busy": "2021-03-25T13:48:19.930142Z",
     "iopub.status.idle": "2021-03-25T13:48:20.111505Z",
     "shell.execute_reply": "2021-03-25T13:48:20.111924Z"
    }
   },
   "outputs": [
    {
     "data": {
      "image/svg+xml": [
       "<?xml version=\"1.0\" encoding=\"UTF-8\" standalone=\"no\"?><svg xmlns=\"http://www.w3.org/2000/svg\" xmlns:xlink=\"http://www.w3.org/1999/xlink\" contentScriptType=\"application/ecmascript\" contentStyleType=\"text/css\" height=\"570px\" preserveAspectRatio=\"none\" style=\"width:819px;height:570px;\" version=\"1.1\" viewBox=\"0 0 819 570\" width=\"819px\" zoomAndPan=\"magnify\"><defs/><g><!--MD5=[fbc87193dbaf4d95561dea2c320d4a47]\n",
       "cluster E1--><a href=\"psysml:7751d53a-3d7b-46fc-b5d8-bf0ae3c7070c\" target=\"_top\" title=\"psysml:7751d53a-3d7b-46fc-b5d8-bf0ae3c7070c\" xlink:actuate=\"onRequest\" xlink:href=\"psysml:7751d53a-3d7b-46fc-b5d8-bf0ae3c7070c\" xlink:show=\"new\" xlink:title=\"psysml:7751d53a-3d7b-46fc-b5d8-bf0ae3c7070c\" xlink:type=\"simple\"><polygon fill=\"#FFFFFF\" points=\"16,6,98,6,105,28.2969,797,28.2969,797,558,16,558,16,6\" style=\"stroke: #000000; stroke-width: 1.5;\"/><line style=\"stroke: #000000; stroke-width: 1.5;\" x1=\"16\" x2=\"105\" y1=\"28.2969\" y2=\"28.2969\"/><text fill=\"#000000\" font-family=\"sans-serif\" font-size=\"14\" font-weight=\"bold\" lengthAdjust=\"spacingAndGlyphs\" textLength=\"76\" x=\"20\" y=\"20.9951\">StateTest</text></a><!--MD5=[14e3b0961a2654348d326746436168a1]\n",
       "cluster E6--><a href=\"psysml:6343fae7-e97a-4dac-816a-0d66812becae\" target=\"_top\" title=\"psysml:6343fae7-e97a-4dac-816a-0d66812becae\" xlink:actuate=\"onRequest\" xlink:href=\"psysml:6343fae7-e97a-4dac-816a-0d66812becae\" xlink:show=\"new\" xlink:title=\"psysml:6343fae7-e97a-4dac-816a-0d66812becae\" xlink:type=\"simple\"><rect fill=\"#FFFFFF\" height=\"485\" id=\"E6\" style=\"stroke: #383838; stroke-width: 1.5;\" width=\"327\" x=\"446\" y=\"49\"/><rect fill=\"#F8F8F8\" height=\"37.9375\" style=\"stroke: #383838; stroke-width: 1.5;\" width=\"327\" x=\"446\" y=\"49\"/><text fill=\"#000000\" font-family=\"sans-serif\" font-size=\"12\" font-style=\"italic\" lengthAdjust=\"spacingAndGlyphs\" textLength=\"71\" x=\"574\" y=\"65.1387\">«state def»</text><text fill=\"#000000\" font-family=\"sans-serif\" font-size=\"12\" lengthAdjust=\"spacingAndGlyphs\" textLength=\"8\" x=\"605.5\" y=\"79.1074\">S</text><line style=\"stroke: #383838; stroke-width: 1.0;\" x1=\"446\" x2=\"773\" y1=\"132.8438\" y2=\"132.8438\"/><text fill=\"#000000\" font-family=\"sans-serif\" font-size=\"12\" font-weight=\"bold\" lengthAdjust=\"spacingAndGlyphs\" textLength=\"38\" x=\"451\" y=\"100.0762\">entry</text><text fill=\"#000000\" font-family=\"sans-serif\" font-size=\"12\" lengthAdjust=\"spacingAndGlyphs\" textLength=\"16\" x=\"489\" y=\"100.0762\">/ A</text><text fill=\"#000000\" font-family=\"sans-serif\" font-size=\"12\" font-weight=\"bold\" lengthAdjust=\"spacingAndGlyphs\" textLength=\"18\" x=\"451\" y=\"114.0449\">do</text><text fill=\"#000000\" font-family=\"sans-serif\" font-size=\"12\" lengthAdjust=\"spacingAndGlyphs\" textLength=\"16\" x=\"469\" y=\"114.0449\">/ B</text><text fill=\"#000000\" font-family=\"sans-serif\" font-size=\"12\" font-weight=\"bold\" lengthAdjust=\"spacingAndGlyphs\" textLength=\"26\" x=\"451\" y=\"128.0137\">exit</text><text fill=\"#000000\" font-family=\"sans-serif\" font-size=\"12\" lengthAdjust=\"spacingAndGlyphs\" textLength=\"28\" x=\"477\" y=\"128.0137\">/ act</text></a><!--MD5=[b4997ac47864f28c2f74865a473b2911]\n",
       "class E2--><a href=\"psysml:85dbfb10-d456-4c59-a9e0-99da33bb7a4b\" target=\"_top\" title=\"psysml:85dbfb10-d456-4c59-a9e0-99da33bb7a4b\" xlink:actuate=\"onRequest\" xlink:href=\"psysml:85dbfb10-d456-4c59-a9e0-99da33bb7a4b\" xlink:show=\"new\" xlink:title=\"psysml:85dbfb10-d456-4c59-a9e0-99da33bb7a4b\" xlink:type=\"simple\"><rect fill=\"#FFFFFF\" height=\"75.5469\" id=\"E2\" style=\"stroke: #383838; stroke-width: 1.5;\" width=\"95\" x=\"334.5\" y=\"119\"/><text fill=\"#000000\" font-family=\"sans-serif\" font-size=\"12\" font-style=\"italic\" lengthAdjust=\"spacingAndGlyphs\" textLength=\"93\" x=\"335.5\" y=\"135.1387\">«attribute def»</text><text fill=\"#000000\" font-family=\"sans-serif\" font-size=\"12\" lengthAdjust=\"spacingAndGlyphs\" textLength=\"19\" x=\"372.5\" y=\"149.1074\">Sig</text><line style=\"stroke: #383838; stroke-width: 1.5;\" x1=\"335.5\" x2=\"428.5\" y1=\"156.9375\" y2=\"156.9375\"/><text fill=\"#000000\" font-family=\"sans-serif\" font-size=\"11\" lengthAdjust=\"spacingAndGlyphs\" textLength=\"6\" x=\"340.5\" y=\"187.9526\">x</text><line style=\"stroke: #383838; stroke-width: 1.0;\" x1=\"335.5\" x2=\"354.5\" y1=\"171.3398\" y2=\"171.3398\"/><text fill=\"#000000\" font-family=\"sans-serif\" font-size=\"11\" lengthAdjust=\"spacingAndGlyphs\" textLength=\"55\" x=\"354.5\" y=\"174.6479\">attributes</text><line style=\"stroke: #383838; stroke-width: 1.0;\" x1=\"409.5\" x2=\"428.5\" y1=\"171.3398\" y2=\"171.3398\"/></a><!--MD5=[09b614a08d8cba4a07c9adeb5e0fee81]\n",
       "class E3--><a href=\"psysml:06ed69bb-03e4-455b-a820-630d0564221d\" target=\"_top\" title=\"psysml:06ed69bb-03e4-455b-a820-630d0564221d\" xlink:actuate=\"onRequest\" xlink:href=\"psysml:06ed69bb-03e4-455b-a820-630d0564221d\" xlink:show=\"new\" xlink:title=\"psysml:06ed69bb-03e4-455b-a820-630d0564221d\" xlink:type=\"simple\"><rect fill=\"#FFFFFF\" height=\"45.9375\" id=\"E3\" style=\"stroke: #383838; stroke-width: 1.5;\" width=\"95\" x=\"204.5\" y=\"134\"/><text fill=\"#000000\" font-family=\"sans-serif\" font-size=\"12\" font-style=\"italic\" lengthAdjust=\"spacingAndGlyphs\" textLength=\"93\" x=\"205.5\" y=\"150.1387\">«attribute def»</text><text fill=\"#000000\" font-family=\"sans-serif\" font-size=\"12\" lengthAdjust=\"spacingAndGlyphs\" textLength=\"22\" x=\"241\" y=\"164.1074\">Exit</text><line style=\"stroke: #383838; stroke-width: 1.5;\" x1=\"205.5\" x2=\"298.5\" y1=\"171.9375\" y2=\"171.9375\"/></a><!--MD5=[ebbe1d658d1005bcc118a6aa81145e00]\n",
       "class E4--><a href=\"psysml:f6292196-12b9-4bba-a758-98820cb4f3f5\" target=\"_top\" title=\"psysml:f6292196-12b9-4bba-a758-98820cb4f3f5\" xlink:actuate=\"onRequest\" xlink:href=\"psysml:f6292196-12b9-4bba-a758-98820cb4f3f5\" xlink:show=\"new\" xlink:title=\"psysml:f6292196-12b9-4bba-a758-98820cb4f3f5\" xlink:type=\"simple\"><rect fill=\"#FFFFFF\" height=\"45.9375\" id=\"E4\" rx=\"10\" ry=\"10\" style=\"stroke: #383838; stroke-width: 1.5;\" width=\"42\" x=\"127\" y=\"134\"/><text fill=\"#000000\" font-family=\"sans-serif\" font-size=\"12\" font-style=\"italic\" lengthAdjust=\"spacingAndGlyphs\" textLength=\"40\" x=\"128\" y=\"150.1387\">«part»</text><text fill=\"#000000\" font-family=\"sans-serif\" font-size=\"12\" lengthAdjust=\"spacingAndGlyphs\" textLength=\"8\" x=\"144\" y=\"164.1074\">p</text><line style=\"stroke: #383838; stroke-width: 1.5;\" x1=\"128\" x2=\"168\" y1=\"171.9375\" y2=\"171.9375\"/></a><g id=\"E1.E5\"><a href=\"psysml:d7bec2b6-e32c-41d0-a208-370a3f1c18c8\" target=\"_top\" title=\"psysml:d7bec2b6-e32c-41d0-a208-370a3f1c18c8\" xlink:actuate=\"onRequest\" xlink:href=\"psysml:d7bec2b6-e32c-41d0-a208-370a3f1c18c8\" xlink:show=\"new\" xlink:title=\"psysml:d7bec2b6-e32c-41d0-a208-370a3f1c18c8\" xlink:type=\"simple\"><rect fill=\"#FFFFFF\" height=\"42.9375\" id=\"E5\" rx=\"10\" ry=\"10\" style=\"stroke: #383838; stroke-width: 1.5;\" width=\"60\" x=\"32\" y=\"135.5\"/><rect fill=\"#F8F8F8\" height=\"37.9375\" rx=\"10\" ry=\"10\" style=\"stroke: #F8F8F8; stroke-width: 1.5;\" width=\"60\" x=\"32\" y=\"135.5\"/><rect fill=\"#F8F8F8\" height=\"10\" style=\"stroke: #F8F8F8; stroke-width: 1.5;\" width=\"60\" x=\"32\" y=\"163.4375\"/><rect fill=\"none\" height=\"42.9375\" id=\"E5\" rx=\"10\" ry=\"10\" style=\"stroke: #383838; stroke-width: 1.5;\" width=\"60\" x=\"32\" y=\"135.5\"/><text fill=\"#000000\" font-family=\"sans-serif\" font-size=\"12\" font-style=\"italic\" lengthAdjust=\"spacingAndGlyphs\" textLength=\"53\" x=\"35.5\" y=\"151.6387\">«action»</text><text fill=\"#000000\" font-family=\"sans-serif\" font-size=\"12\" lengthAdjust=\"spacingAndGlyphs\" textLength=\"20\" x=\"52\" y=\"165.6074\">act</text></a></g><ellipse cx=\"558\" cy=\"157\" fill=\"#000000\" rx=\"10\" ry=\"10\" style=\"stroke: none; stroke-width: 1.0;\"/><ellipse cx=\"558\" cy=\"508\" fill=\"none\" rx=\"10\" ry=\"10\" style=\"stroke: #000000; stroke-width: 1.0;\"/><ellipse cx=\"558.5\" cy=\"508.5\" fill=\"#000000\" rx=\"6\" ry=\"6\" style=\"stroke: none; stroke-width: 1.0;\"/><g id=\"E1.E6.E7\"><a href=\"psysml:df9bf7b7-ea8a-42e1-9b23-b8091030681c\" target=\"_top\" title=\"psysml:df9bf7b7-ea8a-42e1-9b23-b8091030681c\" xlink:actuate=\"onRequest\" xlink:href=\"psysml:df9bf7b7-ea8a-42e1-9b23-b8091030681c\" xlink:show=\"new\" xlink:title=\"psysml:df9bf7b7-ea8a-42e1-9b23-b8091030681c\" xlink:type=\"simple\"><rect fill=\"#FFFFFF\" height=\"40\" id=\"E7\" rx=\"10\" ry=\"10\" style=\"stroke: #383838; stroke-width: 1.5;\" width=\"50\" x=\"533\" y=\"256\"/><rect fill=\"#F8F8F8\" height=\"23.9688\" rx=\"10\" ry=\"10\" style=\"stroke: #F8F8F8; stroke-width: 1.5;\" width=\"50\" x=\"533\" y=\"256\"/><rect fill=\"#F8F8F8\" height=\"10\" style=\"stroke: #F8F8F8; stroke-width: 1.5;\" width=\"50\" x=\"533\" y=\"269.9688\"/><rect fill=\"none\" height=\"40\" id=\"E7\" rx=\"10\" ry=\"10\" style=\"stroke: #383838; stroke-width: 1.5;\" width=\"50\" x=\"533\" y=\"256\"/><text fill=\"#000000\" font-family=\"sans-serif\" font-size=\"12\" lengthAdjust=\"spacingAndGlyphs\" textLength=\"16\" x=\"550\" y=\"272.1387\">S1</text></a></g><g id=\"E1.E6.E8\"><a href=\"psysml:372708ac-c185-450b-8b20-5b0e6796b1d2\" target=\"_top\" title=\"psysml:372708ac-c185-450b-8b20-5b0e6796b1d2\" xlink:actuate=\"onRequest\" xlink:href=\"psysml:372708ac-c185-450b-8b20-5b0e6796b1d2\" xlink:show=\"new\" xlink:title=\"psysml:372708ac-c185-450b-8b20-5b0e6796b1d2\" xlink:type=\"simple\"><rect fill=\"#FFFFFF\" height=\"47.9375\" id=\"E8\" rx=\"10\" ry=\"10\" style=\"stroke: #383838; stroke-width: 1.5;\" width=\"50\" x=\"533\" y=\"373\"/><rect fill=\"#F8F8F8\" height=\"23.9688\" rx=\"10\" ry=\"10\" style=\"stroke: #F8F8F8; stroke-width: 1.5;\" width=\"50\" x=\"533\" y=\"373\"/><rect fill=\"#F8F8F8\" height=\"10\" style=\"stroke: #F8F8F8; stroke-width: 1.5;\" width=\"50\" x=\"533\" y=\"386.9688\"/><rect fill=\"none\" height=\"47.9375\" id=\"E8\" rx=\"10\" ry=\"10\" style=\"stroke: #383838; stroke-width: 1.5;\" width=\"50\" x=\"533\" y=\"373\"/><text fill=\"#000000\" font-family=\"sans-serif\" font-size=\"12\" lengthAdjust=\"spacingAndGlyphs\" textLength=\"16\" x=\"550\" y=\"389.1387\">S2</text><line style=\"stroke: #383838; stroke-width: 1.0;\" x1=\"533\" x2=\"583\" y1=\"396.9688\" y2=\"396.9688\"/><text fill=\"#000000\" font-family=\"sans-serif\" font-size=\"12\" font-weight=\"bold\" lengthAdjust=\"spacingAndGlyphs\" textLength=\"18\" x=\"538\" y=\"410.1074\">do</text><text fill=\"#000000\" font-family=\"sans-serif\" font-size=\"12\" lengthAdjust=\"spacingAndGlyphs\" textLength=\"4\" x=\"556\" y=\"410.1074\">/</text></a></g><!--MD5=[5a531d3a85f3339e6e197084acb48195]\n",
       "link *start*E6 to E7--><a href=\"psysml:63e0b6b5-21d2-46c8-92d5-87e224212dbf\" target=\"_top\" title=\"psysml:63e0b6b5-21d2-46c8-92d5-87e224212dbf\" xlink:actuate=\"onRequest\" xlink:href=\"psysml:63e0b6b5-21d2-46c8-92d5-87e224212dbf\" xlink:show=\"new\" xlink:title=\"psysml:63e0b6b5-21d2-46c8-92d5-87e224212dbf\" xlink:type=\"simple\"><path d=\"M558,167.15 C558,167.15 558,250.67 558,250.67 \" fill=\"none\" id=\"*start*E6-&gt;E7\" style=\"stroke: #383838; stroke-width: 1.0;\"/><polygon fill=\"#383838\" points=\"558,255.67,562,246.67,558,250.67,554,246.67,558,255.67\" style=\"stroke: #383838; stroke-width: 1.0;\"/></a><!--MD5=[7ec9a8babba89ddcae1318ca9fb3c814]\n",
       "link E8 to *end*E6--><a href=\"psysml:60b88d5b-1ac8-4d6b-b052-bf1a623237b5\" target=\"_top\" title=\"psysml:60b88d5b-1ac8-4d6b-b052-bf1a623237b5\" xlink:actuate=\"onRequest\" xlink:href=\"psysml:60b88d5b-1ac8-4d6b-b052-bf1a623237b5\" xlink:show=\"new\" xlink:title=\"psysml:60b88d5b-1ac8-4d6b-b052-bf1a623237b5\" xlink:type=\"simple\"><path d=\"M558,421.09 C558,421.09 558,492.94 558,492.94 \" fill=\"none\" id=\"E8-&gt;*end*E6\" style=\"stroke: #383838; stroke-width: 1.0;\"/><polygon fill=\"#383838\" points=\"558,497.94,562,488.94,558,492.94,554,488.94,558,497.94\" style=\"stroke: #383838; stroke-width: 1.0;\"/><text fill=\"#000000\" font-family=\"sans-serif\" font-size=\"13\" lengthAdjust=\"spacingAndGlyphs\" textLength=\"23\" x=\"559\" y=\"464.0669\">Exit</text></a><!--MD5=[79bc8f324ef4d02c541433f2e6e513c3]\n",
       "link E7 to E8--><a href=\"psysml:b9f5e72d-c680-433c-ba5c-575fc587f4f3\" target=\"_top\" title=\"psysml:b9f5e72d-c680-433c-ba5c-575fc587f4f3\" xlink:actuate=\"onRequest\" xlink:href=\"psysml:b9f5e72d-c680-433c-ba5c-575fc587f4f3\" xlink:show=\"new\" xlink:title=\"psysml:b9f5e72d-c680-433c-ba5c-575fc587f4f3\" xlink:type=\"simple\"><path d=\"M549.67,296.25 C549.67,296.25 549.67,367.93 549.67,367.93 \" fill=\"none\" id=\"E7-&gt;E8\" style=\"stroke: #383838; stroke-width: 1.0;\"/><polygon fill=\"#383838\" points=\"549.67,372.93,553.67,363.93,549.67,367.93,545.67,363.93,549.67,372.93\" style=\"stroke: #383838; stroke-width: 1.0;\"/><text fill=\"#000000\" font-family=\"sans-serif\" font-size=\"13\" lengthAdjust=\"spacingAndGlyphs\" textLength=\"81\" x=\"498\" y=\"339.0669\">Sig /action D</text></a><!--MD5=[bfa3c8b0d15052fdf50ae9310b491027]\n",
       "link E8 to E7--><a href=\"psysml:8fe1fd83-9e96-4978-be75-1a7ead5c4a85\" target=\"_top\" title=\"psysml:8fe1fd83-9e96-4978-be75-1a7ead5c4a85\" xlink:actuate=\"onRequest\" xlink:href=\"psysml:8fe1fd83-9e96-4978-be75-1a7ead5c4a85\" xlink:show=\"new\" xlink:title=\"psysml:8fe1fd83-9e96-4978-be75-1a7ead5c4a85\" xlink:type=\"simple\"><path d=\"M566.33,372.8 C566.33,372.8 566.33,301.14 566.33,301.14 \" fill=\"none\" id=\"E8-&gt;E7\" style=\"stroke: #383838; stroke-width: 1.0;\"/><polygon fill=\"#383838\" points=\"566.33,296.14,562.33,305.14,566.33,301.14,570.33,305.14,566.33,296.14\" style=\"stroke: #383838; stroke-width: 1.0;\"/><text fill=\"#000000\" font-family=\"sans-serif\" font-size=\"13\" lengthAdjust=\"spacingAndGlyphs\" textLength=\"135\" x=\"621\" y=\"339.0669\">Sig [true]/send s to p</text></a><!--MD5=[9ab9f0fe1b358fd9c3d0cde24bbf89be]\n",
       "@startuml\r\n",
       "skinparam linetype ortho\r\n",
       "skinparam monochrome true\r\n",
       "skinparam classbackgroundcolor white\r\n",
       "skinparam shadowing false\r\n",
       "skinparam wrapWidth 300\r\n",
       "hide circle\r\n",
       "\r\n",
       "package \"StateTest\" as E1  [[psysml:7751d53a-3d7b-46fc-b5d8-bf0ae3c7070c ]]  {\r\n",
       "comp def \"Sig\" as E2  <<(T,blue)attribute def>> [[psysml:85dbfb10-d456-4c59-a9e0-99da33bb7a4b ]] {\r\n",
       "- - attributes - -\r\n",
       "x\r\n",
       "}\r\n",
       "comp def \"Exit\" as E3  <<(T,blue)attribute def>> [[psysml:06ed69bb-03e4-455b-a820-630d0564221d ]] {\r\n",
       "}\r\n",
       "comp usage \"p\" as E4  <<(T,blue)part>> [[psysml:f6292196-12b9-4bba-a758-98820cb4f3f5 ]] {\r\n",
       "}\r\n",
       "rec usage \"act\" as E5  <<(T,blue)action>> [[psysml:d7bec2b6-e32c-41d0-a208-370a3f1c18c8 ]] {\r\n",
       "}\r\n",
       "\r\n",
       "rec def \"S\" as E6  <<(T,blue)state def>> [[psysml:6343fae7-e97a-4dac-816a-0d66812becae ]] {\r\n",
       "rec usage \"S1\" as E7 [[psysml:df9bf7b7-ea8a-42e1-9b23-b8091030681c ]] {\r\n",
       "}\r\n",
       "\r\n",
       "rec usage \"S2\" as E8 [[psysml:372708ac-c185-450b-8b20-5b0e6796b1d2 ]] {\r\n",
       "desc \"S2\" as E8  : **do**/ \r\n",
       "}\r\n",
       "\r\n",
       "[*] - -> E7 [[psysml:63e0b6b5-21d2-46c8-92d5-87e224212dbf ]] \r\n",
       "E8  - -> [*] [[psysml:60b88d5b-1ac8-4d6b-b052-bf1a623237b5 ]] : Exit \r\n",
       "desc \"S\" as E6  : **entry**/ A\r\n",
       "desc \"S\" as E6  : **do**/ B\r\n",
       "desc \"S\" as E6  : **exit**/ act \r\n",
       "}\r\n",
       "\r\n",
       "E7  - -> E8 [[psysml:b9f5e72d-c680-433c-ba5c-575fc587f4f3 ]] : Sig /action D\r\n",
       "E8  - -> E7 [[psysml:8fe1fd83-9e96-4978-be75-1a7ead5c4a85 ]] : Sig [true]/send s to p\r\n",
       "}\r\n",
       "@enduml\r\n",
       "\n",
       "PlantUML version 1.2020.13(Sat Jun 13 12:26:38 UTC 2020)\n",
       "(EPL source distribution)\n",
       "Java Runtime: OpenJDK Runtime Environment\n",
       "JVM: OpenJDK 64-Bit Server VM\n",
       "Default Encoding: UTF-8\n",
       "Language: en\n",
       "Country: null\n",
       "--></g></svg>"
      ]
     },
     "execution_count": 51,
     "metadata": {},
     "output_type": "execute_result"
    }
   ],
   "source": [
    "%viz --style=\"ORTHOLINE\" --view=\"Default\" \"StateTest\""
   ]
  },
  {
   "cell_type": "code",
   "execution_count": 52,
   "id": "headed-criticism",
   "metadata": {
    "execution": {
     "iopub.execute_input": "2021-03-25T13:48:20.161879Z",
     "iopub.status.busy": "2021-03-25T13:48:20.161374Z",
     "iopub.status.idle": "2021-03-25T13:48:20.586440Z",
     "shell.execute_reply": "2021-03-25T13:48:20.584923Z"
    }
   },
   "outputs": [
    {
     "data": {
      "image/svg+xml": [
       "<?xml version=\"1.0\" encoding=\"UTF-8\" standalone=\"no\"?><svg xmlns=\"http://www.w3.org/2000/svg\" xmlns:xlink=\"http://www.w3.org/1999/xlink\" contentScriptType=\"application/ecmascript\" contentStyleType=\"text/css\" height=\"471px\" preserveAspectRatio=\"none\" style=\"width:594px;height:471px;\" version=\"1.1\" viewBox=\"0 0 594 471\" width=\"594px\" zoomAndPan=\"magnify\"><defs/><g><!--MD5=[fbc87193dbaf4d95561dea2c320d4a47]\n",
       "cluster E1--><a href=\"psysml:7751d53a-3d7b-46fc-b5d8-bf0ae3c7070c\" target=\"_top\" title=\"psysml:7751d53a-3d7b-46fc-b5d8-bf0ae3c7070c\" xlink:actuate=\"onRequest\" xlink:href=\"psysml:7751d53a-3d7b-46fc-b5d8-bf0ae3c7070c\" xlink:show=\"new\" xlink:title=\"psysml:7751d53a-3d7b-46fc-b5d8-bf0ae3c7070c\" xlink:type=\"simple\"><polygon fill=\"#FFFFFF\" points=\"16,6,98,6,105,28.2969,572,28.2969,572,459,16,459,16,6\" style=\"stroke: #000000; stroke-width: 1.5;\"/><line style=\"stroke: #000000; stroke-width: 1.5;\" x1=\"16\" x2=\"105\" y1=\"28.2969\" y2=\"28.2969\"/><text fill=\"#000000\" font-family=\"sans-serif\" font-size=\"14\" font-weight=\"bold\" lengthAdjust=\"spacingAndGlyphs\" textLength=\"76\" x=\"20\" y=\"20.9951\">StateTest</text></a><!--MD5=[b4997ac47864f28c2f74865a473b2911]\n",
       "class E2--><a href=\"psysml:85dbfb10-d456-4c59-a9e0-99da33bb7a4b\" target=\"_top\" title=\"psysml:85dbfb10-d456-4c59-a9e0-99da33bb7a4b\" xlink:actuate=\"onRequest\" xlink:href=\"psysml:85dbfb10-d456-4c59-a9e0-99da33bb7a4b\" xlink:show=\"new\" xlink:title=\"psysml:85dbfb10-d456-4c59-a9e0-99da33bb7a4b\" xlink:type=\"simple\"><rect fill=\"#FFFFFF\" height=\"75.5469\" id=\"E2\" style=\"stroke: #383838; stroke-width: 1.5;\" width=\"95\" x=\"460.5\" y=\"83\"/><text fill=\"#000000\" font-family=\"sans-serif\" font-size=\"12\" font-style=\"italic\" lengthAdjust=\"spacingAndGlyphs\" textLength=\"93\" x=\"461.5\" y=\"99.1387\">«attribute def»</text><text fill=\"#000000\" font-family=\"sans-serif\" font-size=\"12\" lengthAdjust=\"spacingAndGlyphs\" textLength=\"19\" x=\"498.5\" y=\"113.1074\">Sig</text><line style=\"stroke: #383838; stroke-width: 1.5;\" x1=\"461.5\" x2=\"554.5\" y1=\"120.9375\" y2=\"120.9375\"/><text fill=\"#000000\" font-family=\"sans-serif\" font-size=\"11\" lengthAdjust=\"spacingAndGlyphs\" textLength=\"6\" x=\"466.5\" y=\"151.9526\">x</text><line style=\"stroke: #383838; stroke-width: 1.0;\" x1=\"461.5\" x2=\"480.5\" y1=\"135.3398\" y2=\"135.3398\"/><text fill=\"#000000\" font-family=\"sans-serif\" font-size=\"11\" lengthAdjust=\"spacingAndGlyphs\" textLength=\"55\" x=\"480.5\" y=\"138.6479\">attributes</text><line style=\"stroke: #383838; stroke-width: 1.0;\" x1=\"535.5\" x2=\"554.5\" y1=\"135.3398\" y2=\"135.3398\"/></a><!--MD5=[09b614a08d8cba4a07c9adeb5e0fee81]\n",
       "class E3--><a href=\"psysml:06ed69bb-03e4-455b-a820-630d0564221d\" target=\"_top\" title=\"psysml:06ed69bb-03e4-455b-a820-630d0564221d\" xlink:actuate=\"onRequest\" xlink:href=\"psysml:06ed69bb-03e4-455b-a820-630d0564221d\" xlink:show=\"new\" xlink:title=\"psysml:06ed69bb-03e4-455b-a820-630d0564221d\" xlink:type=\"simple\"><rect fill=\"#FFFFFF\" height=\"45.9375\" id=\"E3\" style=\"stroke: #383838; stroke-width: 1.5;\" width=\"95\" x=\"330.5\" y=\"98\"/><text fill=\"#000000\" font-family=\"sans-serif\" font-size=\"12\" font-style=\"italic\" lengthAdjust=\"spacingAndGlyphs\" textLength=\"93\" x=\"331.5\" y=\"114.1387\">«attribute def»</text><text fill=\"#000000\" font-family=\"sans-serif\" font-size=\"12\" lengthAdjust=\"spacingAndGlyphs\" textLength=\"22\" x=\"367\" y=\"128.1074\">Exit</text><line style=\"stroke: #383838; stroke-width: 1.5;\" x1=\"331.5\" x2=\"424.5\" y1=\"135.9375\" y2=\"135.9375\"/></a><!--MD5=[ebbe1d658d1005bcc118a6aa81145e00]\n",
       "class E4--><a href=\"psysml:f6292196-12b9-4bba-a758-98820cb4f3f5\" target=\"_top\" title=\"psysml:f6292196-12b9-4bba-a758-98820cb4f3f5\" xlink:actuate=\"onRequest\" xlink:href=\"psysml:f6292196-12b9-4bba-a758-98820cb4f3f5\" xlink:show=\"new\" xlink:title=\"psysml:f6292196-12b9-4bba-a758-98820cb4f3f5\" xlink:type=\"simple\"><rect fill=\"#FFFFFF\" height=\"45.9375\" id=\"E4\" rx=\"10\" ry=\"10\" style=\"stroke: #383838; stroke-width: 1.5;\" width=\"42\" x=\"253\" y=\"98\"/><text fill=\"#000000\" font-family=\"sans-serif\" font-size=\"12\" font-style=\"italic\" lengthAdjust=\"spacingAndGlyphs\" textLength=\"40\" x=\"254\" y=\"114.1387\">«part»</text><text fill=\"#000000\" font-family=\"sans-serif\" font-size=\"12\" lengthAdjust=\"spacingAndGlyphs\" textLength=\"8\" x=\"270\" y=\"128.1074\">p</text><line style=\"stroke: #383838; stroke-width: 1.5;\" x1=\"254\" x2=\"294\" y1=\"135.9375\" y2=\"135.9375\"/></a><!--MD5=[270fce915f116d4de14055a7c1d9a0f3]\n",
       "class E5--><a href=\"psysml:d7bec2b6-e32c-41d0-a208-370a3f1c18c8\" target=\"_top\" title=\"psysml:d7bec2b6-e32c-41d0-a208-370a3f1c18c8\" xlink:actuate=\"onRequest\" xlink:href=\"psysml:d7bec2b6-e32c-41d0-a208-370a3f1c18c8\" xlink:show=\"new\" xlink:title=\"psysml:d7bec2b6-e32c-41d0-a208-370a3f1c18c8\" xlink:type=\"simple\"><rect fill=\"#FFFFFF\" height=\"45.9375\" id=\"E5\" rx=\"10\" ry=\"10\" style=\"stroke: #383838; stroke-width: 1.5;\" width=\"55\" x=\"162.5\" y=\"98\"/><text fill=\"#000000\" font-family=\"sans-serif\" font-size=\"12\" font-style=\"italic\" lengthAdjust=\"spacingAndGlyphs\" textLength=\"53\" x=\"163.5\" y=\"114.1387\">«action»</text><text fill=\"#000000\" font-family=\"sans-serif\" font-size=\"12\" lengthAdjust=\"spacingAndGlyphs\" textLength=\"20\" x=\"180\" y=\"128.1074\">act</text><line style=\"stroke: #383838; stroke-width: 1.5;\" x1=\"163.5\" x2=\"216.5\" y1=\"135.9375\" y2=\"135.9375\"/></a><!--MD5=[60a26617385b1d2d0262a64233df1f8d]\n",
       "class E6--><a href=\"psysml:6343fae7-e97a-4dac-816a-0d66812becae\" target=\"_top\" title=\"psysml:6343fae7-e97a-4dac-816a-0d66812becae\" xlink:actuate=\"onRequest\" xlink:href=\"psysml:6343fae7-e97a-4dac-816a-0d66812becae\" xlink:show=\"new\" xlink:title=\"psysml:6343fae7-e97a-4dac-816a-0d66812becae\" xlink:type=\"simple\"><rect fill=\"#FFFFFF\" height=\"160.375\" id=\"E6\" style=\"stroke: #383838; stroke-width: 1.5;\" width=\"95\" x=\"32.5\" y=\"41\"/><text fill=\"#000000\" font-family=\"sans-serif\" font-size=\"12\" font-style=\"italic\" lengthAdjust=\"spacingAndGlyphs\" textLength=\"71\" x=\"44.5\" y=\"57.1387\">«state def»</text><text fill=\"#000000\" font-family=\"sans-serif\" font-size=\"12\" lengthAdjust=\"spacingAndGlyphs\" textLength=\"8\" x=\"76\" y=\"71.1074\">S</text><line style=\"stroke: #383838; stroke-width: 1.5;\" x1=\"33.5\" x2=\"126.5\" y1=\"78.9375\" y2=\"78.9375\"/><text fill=\"#000000\" font-family=\"sans-serif\" font-size=\"11\" lengthAdjust=\"spacingAndGlyphs\" textLength=\"17\" x=\"38.5\" y=\"109.9526\">act</text><text fill=\"#000000\" font-family=\"sans-serif\" font-size=\"11\" lengthAdjust=\"spacingAndGlyphs\" textLength=\"7\" x=\"38.5\" y=\"122.7573\">A</text><text fill=\"#000000\" font-family=\"sans-serif\" font-size=\"11\" lengthAdjust=\"spacingAndGlyphs\" textLength=\"8\" x=\"38.5\" y=\"135.562\">B</text><line style=\"stroke: #383838; stroke-width: 1.0;\" x1=\"33.5\" x2=\"36.5\" y1=\"93.3398\" y2=\"93.3398\"/><text fill=\"#000000\" font-family=\"sans-serif\" font-size=\"11\" lengthAdjust=\"spacingAndGlyphs\" textLength=\"87\" x=\"36.5\" y=\"96.6479\">performActions</text><line style=\"stroke: #383838; stroke-width: 1.0;\" x1=\"123.5\" x2=\"126.5\" y1=\"93.3398\" y2=\"93.3398\"/><text fill=\"#000000\" font-family=\"sans-serif\" font-size=\"11\" lengthAdjust=\"spacingAndGlyphs\" textLength=\"15\" x=\"38.5\" y=\"165.1714\">S1</text><line style=\"stroke: #383838; stroke-width: 1.0;\" x1=\"33.5\" x2=\"62\" y1=\"148.5586\" y2=\"148.5586\"/><text fill=\"#000000\" font-family=\"sans-serif\" font-size=\"11\" lengthAdjust=\"spacingAndGlyphs\" textLength=\"36\" x=\"62\" y=\"151.8667\">states</text><line style=\"stroke: #383838; stroke-width: 1.0;\" x1=\"98\" x2=\"126.5\" y1=\"148.5586\" y2=\"148.5586\"/><text fill=\"#000000\" font-family=\"sans-serif\" font-size=\"11\" lengthAdjust=\"spacingAndGlyphs\" textLength=\"7\" x=\"38.5\" y=\"194.7808\">T</text><line style=\"stroke: #383838; stroke-width: 1.0;\" x1=\"33.5\" x2=\"49.5\" y1=\"178.168\" y2=\"178.168\"/><text fill=\"#000000\" font-family=\"sans-serif\" font-size=\"11\" lengthAdjust=\"spacingAndGlyphs\" textLength=\"61\" x=\"49.5\" y=\"181.4761\">transitions</text><line style=\"stroke: #383838; stroke-width: 1.0;\" x1=\"110.5\" x2=\"126.5\" y1=\"178.168\" y2=\"178.168\"/></a><!--MD5=[1dd1bfd58a279cf63c5f349dbc8fc6a1]\n",
       "class E11--><a href=\"psysml:372708ac-c185-450b-8b20-5b0e6796b1d2\" target=\"_top\" title=\"psysml:372708ac-c185-450b-8b20-5b0e6796b1d2\" xlink:actuate=\"onRequest\" xlink:href=\"psysml:372708ac-c185-450b-8b20-5b0e6796b1d2\" xlink:show=\"new\" xlink:title=\"psysml:372708ac-c185-450b-8b20-5b0e6796b1d2\" xlink:type=\"simple\"><rect fill=\"#FFFFFF\" height=\"45.9375\" id=\"E11\" rx=\"10\" ry=\"10\" style=\"stroke: #383838; stroke-width: 1.5;\" width=\"49\" x=\"55.5\" y=\"261\"/><text fill=\"#000000\" font-family=\"sans-serif\" font-size=\"12\" font-style=\"italic\" lengthAdjust=\"spacingAndGlyphs\" textLength=\"47\" x=\"56.5\" y=\"277.1387\">«state»</text><text fill=\"#000000\" font-family=\"sans-serif\" font-size=\"12\" lengthAdjust=\"spacingAndGlyphs\" textLength=\"16\" x=\"72\" y=\"291.1074\">S2</text><line style=\"stroke: #383838; stroke-width: 1.5;\" x1=\"56.5\" x2=\"103.5\" y1=\"298.9375\" y2=\"298.9375\"/></a><!--MD5=[49a0ec8f00dab7302a31f22d0f0fe584]\n",
       "class E12--><a href=\"psysml:db8ff6bb-65b2-44b6-939f-52bfaf067d5c\" target=\"_top\" title=\"psysml:db8ff6bb-65b2-44b6-939f-52bfaf067d5c\" xlink:actuate=\"onRequest\" xlink:href=\"psysml:db8ff6bb-65b2-44b6-939f-52bfaf067d5c\" xlink:show=\"new\" xlink:title=\"psysml:db8ff6bb-65b2-44b6-939f-52bfaf067d5c\" xlink:type=\"simple\"><rect fill=\"#FFFFFF\" height=\"75.5469\" id=\"E12\" rx=\"10\" ry=\"10\" style=\"stroke: #383838; stroke-width: 1.5;\" width=\"90\" x=\"35\" y=\"367\"/><text fill=\"#000000\" font-family=\"sans-serif\" font-size=\"12\" font-style=\"italic\" lengthAdjust=\"spacingAndGlyphs\" textLength=\"88\" x=\"36\" y=\"383.1387\">«send action»</text><text fill=\"#000000\" font-family=\"sans-serif\" font-size=\"12\" lengthAdjust=\"spacingAndGlyphs\" textLength=\"55\" x=\"52.5\" y=\"397.1074\">doAction</text><line style=\"stroke: #383838; stroke-width: 1.5;\" x1=\"36\" x2=\"124\" y1=\"404.9375\" y2=\"404.9375\"/><text fill=\"#000000\" font-family=\"sans-serif\" font-size=\"11\" lengthAdjust=\"spacingAndGlyphs\" textLength=\"25\" x=\"41\" y=\"435.9526\">item</text><line style=\"stroke: #383838; stroke-width: 1.0;\" x1=\"36\" x2=\"42.5\" y1=\"419.3398\" y2=\"419.3398\"/><text fill=\"#000000\" font-family=\"sans-serif\" font-size=\"11\" lengthAdjust=\"spacingAndGlyphs\" textLength=\"75\" x=\"42.5\" y=\"422.6479\">itemFeatures</text><line style=\"stroke: #383838; stroke-width: 1.0;\" x1=\"117.5\" x2=\"124\" y1=\"419.3398\" y2=\"419.3398\"/></a><!--MD5=[1f5f03483f7de0d5b3680a7f6650997f]\n",
       "reverse link E6 to E11--><a href=\"psysml:372708ac-c185-450b-8b20-5b0e6796b1d2\" target=\"_top\" title=\"psysml:372708ac-c185-450b-8b20-5b0e6796b1d2\" xlink:actuate=\"onRequest\" xlink:href=\"psysml:372708ac-c185-450b-8b20-5b0e6796b1d2\" xlink:show=\"new\" xlink:title=\"psysml:372708ac-c185-450b-8b20-5b0e6796b1d2\" xlink:type=\"simple\"><path d=\"M80,214.07 C80,214.07 80,260.85 80,260.85 \" fill=\"none\" id=\"E6&lt;-E11\" style=\"stroke: #383838; stroke-width: 1.0;\"/><polygon fill=\"#383838\" points=\"80,201.07,76,207.07,80,213.07,84,207.07,80,201.07\" style=\"stroke: #383838; stroke-width: 1.0;\"/></a><!--MD5=[94adabc162ce7e41b39f13be14fbaeb3]\n",
       "reverse link E11 to E12--><a href=\"psysml:db8ff6bb-65b2-44b6-939f-52bfaf067d5c\" target=\"_top\" title=\"psysml:db8ff6bb-65b2-44b6-939f-52bfaf067d5c\" xlink:actuate=\"onRequest\" xlink:href=\"psysml:db8ff6bb-65b2-44b6-939f-52bfaf067d5c\" xlink:show=\"new\" xlink:title=\"psysml:db8ff6bb-65b2-44b6-939f-52bfaf067d5c\" xlink:type=\"simple\"><path d=\"M80,320.04 C80,320.04 80,366.81 80,366.81 \" fill=\"none\" id=\"E11&lt;-E12\" style=\"stroke: #383838; stroke-width: 1.0;\"/><polygon fill=\"#FFFFFF\" points=\"80,307.04,76,313.04,80,319.04,84,313.04,80,307.04\" style=\"stroke: #383838; stroke-width: 1.0;\"/></a><!--MD5=[278106af9bd67c36d28bdfe4482314be]\n",
       "@startuml\r\n",
       "skinparam linetype ortho\r\n",
       "skinparam monochrome true\r\n",
       "skinparam classbackgroundcolor white\r\n",
       "skinparam shadowing false\r\n",
       "skinparam wrapWidth 300\r\n",
       "hide circle\r\n",
       "\r\n",
       "package \"StateTest\" as E1  [[psysml:7751d53a-3d7b-46fc-b5d8-bf0ae3c7070c ]]  {\r\n",
       "comp def \"Sig\" as E2  <<(T,blue)attribute def>> [[psysml:85dbfb10-d456-4c59-a9e0-99da33bb7a4b ]] {\r\n",
       "- - attributes - -\r\n",
       "x\r\n",
       "}\r\n",
       "comp def \"Exit\" as E3  <<(T,blue)attribute def>> [[psysml:06ed69bb-03e4-455b-a820-630d0564221d ]] {\r\n",
       "}\r\n",
       "comp usage \"p\" as E4  <<(T,blue)part>> [[psysml:f6292196-12b9-4bba-a758-98820cb4f3f5 ]] {\r\n",
       "}\r\n",
       "comp usage \"act\" as E5  <<(T,blue)action>> [[psysml:d7bec2b6-e32c-41d0-a208-370a3f1c18c8 ]] {\r\n",
       "}\r\n",
       "comp def \"S\" as E6  <<(T,blue)state def>> [[psysml:6343fae7-e97a-4dac-816a-0d66812becae ]] {\r\n",
       "- - performActions - -\r\n",
       "act\r\n",
       "A\r\n",
       "B\r\n",
       "- - states - -\r\n",
       "S1\r\n",
       "- - transitions - -\r\n",
       "T\r\n",
       "}\r\n",
       "comp usage \"S2\" as E11  <<(T,blue)state>> [[psysml:372708ac-c185-450b-8b20-5b0e6796b1d2 ]] {\r\n",
       "}\r\n",
       "comp usage \"doAction\" as E12 <<send action>> [[psysml:db8ff6bb-65b2-44b6-939f-52bfaf067d5c ]] {\r\n",
       "- - itemFeatures - -\r\n",
       "item\r\n",
       "}\r\n",
       "E6 *- - E11 [[psysml:372708ac-c185-450b-8b20-5b0e6796b1d2 ]] \r\n",
       "E11 o- - E12 [[psysml:db8ff6bb-65b2-44b6-939f-52bfaf067d5c ]] \r\n",
       "}\r\n",
       "@enduml\r\n",
       "\n",
       "PlantUML version 1.2020.13(Sat Jun 13 12:26:38 UTC 2020)\n",
       "(EPL source distribution)\n",
       "Java Runtime: OpenJDK Runtime Environment\n",
       "JVM: OpenJDK 64-Bit Server VM\n",
       "Default Encoding: UTF-8\n",
       "Language: en\n",
       "Country: null\n",
       "--></g></svg>"
      ]
     },
     "execution_count": 52,
     "metadata": {},
     "output_type": "execute_result"
    }
   ],
   "source": [
    "%viz --style=\"ORTHOLINE\" --view=\"Tree\" \"StateTest\""
   ]
  },
  {
   "cell_type": "code",
   "execution_count": 53,
   "id": "czech-prague",
   "metadata": {
    "execution": {
     "iopub.execute_input": "2021-03-25T13:48:20.637298Z",
     "iopub.status.busy": "2021-03-25T13:48:20.636576Z",
     "iopub.status.idle": "2021-03-25T13:48:20.752390Z",
     "shell.execute_reply": "2021-03-25T13:48:20.750736Z"
    }
   },
   "outputs": [
    {
     "data": {
      "image/svg+xml": [
       "<?xml version=\"1.0\" encoding=\"UTF-8\" standalone=\"no\"?><svg xmlns=\"http://www.w3.org/2000/svg\" xmlns:xlink=\"http://www.w3.org/1999/xlink\" contentScriptType=\"application/ecmascript\" contentStyleType=\"text/css\" height=\"475px\" preserveAspectRatio=\"none\" style=\"width:346px;height:475px;\" version=\"1.1\" viewBox=\"0 0 346 475\" width=\"346px\" zoomAndPan=\"magnify\"><defs/><g><!--MD5=[fbc87193dbaf4d95561dea2c320d4a47]\n",
       "cluster E1--><a href=\"psysml:6343fae7-e97a-4dac-816a-0d66812becae\" target=\"_top\" title=\"psysml:6343fae7-e97a-4dac-816a-0d66812becae\" xlink:actuate=\"onRequest\" xlink:href=\"psysml:6343fae7-e97a-4dac-816a-0d66812becae\" xlink:show=\"new\" xlink:title=\"psysml:6343fae7-e97a-4dac-816a-0d66812becae\" xlink:type=\"simple\"><rect fill=\"#FFFFFF\" height=\"457\" id=\"E1\" style=\"stroke: #383838; stroke-width: 1.5;\" width=\"327\" x=\"7\" y=\"7\"/><rect fill=\"#F8F8F8\" height=\"37.9375\" style=\"stroke: #383838; stroke-width: 1.5;\" width=\"327\" x=\"7\" y=\"7\"/><text fill=\"#000000\" font-family=\"sans-serif\" font-size=\"12\" font-style=\"italic\" lengthAdjust=\"spacingAndGlyphs\" textLength=\"71\" x=\"135\" y=\"23.1387\">«state def»</text><text fill=\"#000000\" font-family=\"sans-serif\" font-size=\"12\" lengthAdjust=\"spacingAndGlyphs\" textLength=\"8\" x=\"166.5\" y=\"37.1074\">S</text><line style=\"stroke: #383838; stroke-width: 1.0;\" x1=\"7\" x2=\"334\" y1=\"90.8438\" y2=\"90.8438\"/><text fill=\"#000000\" font-family=\"sans-serif\" font-size=\"12\" font-weight=\"bold\" lengthAdjust=\"spacingAndGlyphs\" textLength=\"38\" x=\"12\" y=\"58.0762\">entry</text><text fill=\"#000000\" font-family=\"sans-serif\" font-size=\"12\" lengthAdjust=\"spacingAndGlyphs\" textLength=\"16\" x=\"50\" y=\"58.0762\">/ A</text><text fill=\"#000000\" font-family=\"sans-serif\" font-size=\"12\" font-weight=\"bold\" lengthAdjust=\"spacingAndGlyphs\" textLength=\"18\" x=\"12\" y=\"72.0449\">do</text><text fill=\"#000000\" font-family=\"sans-serif\" font-size=\"12\" lengthAdjust=\"spacingAndGlyphs\" textLength=\"16\" x=\"30\" y=\"72.0449\">/ B</text><text fill=\"#000000\" font-family=\"sans-serif\" font-size=\"12\" font-weight=\"bold\" lengthAdjust=\"spacingAndGlyphs\" textLength=\"26\" x=\"12\" y=\"86.0137\">exit</text><text fill=\"#000000\" font-family=\"sans-serif\" font-size=\"12\" lengthAdjust=\"spacingAndGlyphs\" textLength=\"28\" x=\"38\" y=\"86.0137\">/ act</text></a><ellipse cx=\"119\" cy=\"115\" fill=\"#000000\" rx=\"10\" ry=\"10\" style=\"stroke: none; stroke-width: 1.0;\"/><ellipse cx=\"119\" cy=\"438\" fill=\"none\" rx=\"10\" ry=\"10\" style=\"stroke: #000000; stroke-width: 1.0;\"/><ellipse cx=\"119.5\" cy=\"438.5\" fill=\"#000000\" rx=\"6\" ry=\"6\" style=\"stroke: none; stroke-width: 1.0;\"/><g id=\"E1.E2\"><a href=\"psysml:df9bf7b7-ea8a-42e1-9b23-b8091030681c\" target=\"_top\" title=\"psysml:df9bf7b7-ea8a-42e1-9b23-b8091030681c\" xlink:actuate=\"onRequest\" xlink:href=\"psysml:df9bf7b7-ea8a-42e1-9b23-b8091030681c\" xlink:show=\"new\" xlink:title=\"psysml:df9bf7b7-ea8a-42e1-9b23-b8091030681c\" xlink:type=\"simple\"><rect fill=\"#FFFFFF\" height=\"40\" id=\"E2\" rx=\"10\" ry=\"10\" style=\"stroke: #383838; stroke-width: 1.5;\" width=\"50\" x=\"94\" y=\"186\"/><rect fill=\"#F8F8F8\" height=\"23.9688\" rx=\"10\" ry=\"10\" style=\"stroke: #F8F8F8; stroke-width: 1.5;\" width=\"50\" x=\"94\" y=\"186\"/><rect fill=\"#F8F8F8\" height=\"10\" style=\"stroke: #F8F8F8; stroke-width: 1.5;\" width=\"50\" x=\"94\" y=\"199.9688\"/><rect fill=\"none\" height=\"40\" id=\"E2\" rx=\"10\" ry=\"10\" style=\"stroke: #383838; stroke-width: 1.5;\" width=\"50\" x=\"94\" y=\"186\"/><text fill=\"#000000\" font-family=\"sans-serif\" font-size=\"12\" lengthAdjust=\"spacingAndGlyphs\" textLength=\"16\" x=\"111\" y=\"202.1387\">S1</text></a></g><g id=\"E1.E3\"><a href=\"psysml:372708ac-c185-450b-8b20-5b0e6796b1d2\" target=\"_top\" title=\"psysml:372708ac-c185-450b-8b20-5b0e6796b1d2\" xlink:actuate=\"onRequest\" xlink:href=\"psysml:372708ac-c185-450b-8b20-5b0e6796b1d2\" xlink:show=\"new\" xlink:title=\"psysml:372708ac-c185-450b-8b20-5b0e6796b1d2\" xlink:type=\"simple\"><rect fill=\"#FFFFFF\" height=\"47.9375\" id=\"E3\" rx=\"10\" ry=\"10\" style=\"stroke: #383838; stroke-width: 1.5;\" width=\"50\" x=\"94\" y=\"303\"/><rect fill=\"#F8F8F8\" height=\"23.9688\" rx=\"10\" ry=\"10\" style=\"stroke: #F8F8F8; stroke-width: 1.5;\" width=\"50\" x=\"94\" y=\"303\"/><rect fill=\"#F8F8F8\" height=\"10\" style=\"stroke: #F8F8F8; stroke-width: 1.5;\" width=\"50\" x=\"94\" y=\"316.9688\"/><rect fill=\"none\" height=\"47.9375\" id=\"E3\" rx=\"10\" ry=\"10\" style=\"stroke: #383838; stroke-width: 1.5;\" width=\"50\" x=\"94\" y=\"303\"/><text fill=\"#000000\" font-family=\"sans-serif\" font-size=\"12\" lengthAdjust=\"spacingAndGlyphs\" textLength=\"16\" x=\"111\" y=\"319.1387\">S2</text><line style=\"stroke: #383838; stroke-width: 1.0;\" x1=\"94\" x2=\"144\" y1=\"326.9688\" y2=\"326.9688\"/><text fill=\"#000000\" font-family=\"sans-serif\" font-size=\"12\" font-weight=\"bold\" lengthAdjust=\"spacingAndGlyphs\" textLength=\"18\" x=\"99\" y=\"340.1074\">do</text><text fill=\"#000000\" font-family=\"sans-serif\" font-size=\"12\" lengthAdjust=\"spacingAndGlyphs\" textLength=\"4\" x=\"117\" y=\"340.1074\">/</text></a></g><!--MD5=[cff944eb183b832d446717a4e202d613]\n",
       "link *start*E1 to E2--><a href=\"psysml:63e0b6b5-21d2-46c8-92d5-87e224212dbf\" target=\"_top\" title=\"psysml:63e0b6b5-21d2-46c8-92d5-87e224212dbf\" xlink:actuate=\"onRequest\" xlink:href=\"psysml:63e0b6b5-21d2-46c8-92d5-87e224212dbf\" xlink:show=\"new\" xlink:title=\"psysml:63e0b6b5-21d2-46c8-92d5-87e224212dbf\" xlink:type=\"simple\"><path d=\"M119,125.09 C119,125.09 119,180.93 119,180.93 \" fill=\"none\" id=\"*start*E1-&gt;E2\" style=\"stroke: #383838; stroke-width: 1.0;\"/><polygon fill=\"#383838\" points=\"119,185.93,123,176.93,119,180.93,115,176.93,119,185.93\" style=\"stroke: #383838; stroke-width: 1.0;\"/></a><!--MD5=[9ee7afa76ca8c509b3d216624c3a9893]\n",
       "link E3 to *end*E1--><a href=\"psysml:60b88d5b-1ac8-4d6b-b052-bf1a623237b5\" target=\"_top\" title=\"psysml:60b88d5b-1ac8-4d6b-b052-bf1a623237b5\" xlink:actuate=\"onRequest\" xlink:href=\"psysml:60b88d5b-1ac8-4d6b-b052-bf1a623237b5\" xlink:show=\"new\" xlink:title=\"psysml:60b88d5b-1ac8-4d6b-b052-bf1a623237b5\" xlink:type=\"simple\"><path d=\"M119,351.09 C119,351.09 119,422.94 119,422.94 \" fill=\"none\" id=\"E3-&gt;*end*E1\" style=\"stroke: #383838; stroke-width: 1.0;\"/><polygon fill=\"#383838\" points=\"119,427.94,123,418.94,119,422.94,115,418.94,119,427.94\" style=\"stroke: #383838; stroke-width: 1.0;\"/><text fill=\"#000000\" font-family=\"sans-serif\" font-size=\"13\" lengthAdjust=\"spacingAndGlyphs\" textLength=\"23\" x=\"120\" y=\"394.0669\">Exit</text></a><!--MD5=[2720a5a1f2c3fca2055b230370638851]\n",
       "link E2 to E3--><a href=\"psysml:b9f5e72d-c680-433c-ba5c-575fc587f4f3\" target=\"_top\" title=\"psysml:b9f5e72d-c680-433c-ba5c-575fc587f4f3\" xlink:actuate=\"onRequest\" xlink:href=\"psysml:b9f5e72d-c680-433c-ba5c-575fc587f4f3\" xlink:show=\"new\" xlink:title=\"psysml:b9f5e72d-c680-433c-ba5c-575fc587f4f3\" xlink:type=\"simple\"><path d=\"M110.67,226.25 C110.67,226.25 110.67,297.93 110.67,297.93 \" fill=\"none\" id=\"E2-&gt;E3\" style=\"stroke: #383838; stroke-width: 1.0;\"/><polygon fill=\"#383838\" points=\"110.67,302.93,114.67,293.93,110.67,297.93,106.67,293.93,110.67,302.93\" style=\"stroke: #383838; stroke-width: 1.0;\"/><text fill=\"#000000\" font-family=\"sans-serif\" font-size=\"13\" lengthAdjust=\"spacingAndGlyphs\" textLength=\"81\" x=\"59\" y=\"269.0669\">Sig /action D</text></a><!--MD5=[05d275557350bfb9b23a4ef7222b4c39]\n",
       "link E3 to E2--><a href=\"psysml:8fe1fd83-9e96-4978-be75-1a7ead5c4a85\" target=\"_top\" title=\"psysml:8fe1fd83-9e96-4978-be75-1a7ead5c4a85\" xlink:actuate=\"onRequest\" xlink:href=\"psysml:8fe1fd83-9e96-4978-be75-1a7ead5c4a85\" xlink:show=\"new\" xlink:title=\"psysml:8fe1fd83-9e96-4978-be75-1a7ead5c4a85\" xlink:type=\"simple\"><path d=\"M127.33,302.8 C127.33,302.8 127.33,231.14 127.33,231.14 \" fill=\"none\" id=\"E3-&gt;E2\" style=\"stroke: #383838; stroke-width: 1.0;\"/><polygon fill=\"#383838\" points=\"127.33,226.14,123.33,235.14,127.33,231.14,131.33,235.14,127.33,226.14\" style=\"stroke: #383838; stroke-width: 1.0;\"/><text fill=\"#000000\" font-family=\"sans-serif\" font-size=\"13\" lengthAdjust=\"spacingAndGlyphs\" textLength=\"135\" x=\"182\" y=\"269.0669\">Sig [true]/send s to p</text></a><!--MD5=[b4e94f6bc753699e1272070ace0b703e]\n",
       "@startuml\r\n",
       "skinparam linetype ortho\r\n",
       "skinparam monochrome true\r\n",
       "skinparam classbackgroundcolor white\r\n",
       "skinparam shadowing false\r\n",
       "skinparam wrapWidth 300\r\n",
       "hide circle\r\n",
       "\r\n",
       "rec def \"S\" as E1  <<(T,blue)state def>> [[psysml:6343fae7-e97a-4dac-816a-0d66812becae ]] {\r\n",
       "rec usage \"S1\" as E2 [[psysml:df9bf7b7-ea8a-42e1-9b23-b8091030681c ]] {\r\n",
       "}\r\n",
       "\r\n",
       "rec usage \"S2\" as E3 [[psysml:372708ac-c185-450b-8b20-5b0e6796b1d2 ]] {\r\n",
       "desc \"S2\" as E3  : **do**/ \r\n",
       "}\r\n",
       "\r\n",
       "[*] - -> E2 [[psysml:63e0b6b5-21d2-46c8-92d5-87e224212dbf ]] \r\n",
       "E3  - -> [*] [[psysml:60b88d5b-1ac8-4d6b-b052-bf1a623237b5 ]] : Exit \r\n",
       "desc \"S\" as E1  : **entry**/ A\r\n",
       "desc \"S\" as E1  : **do**/ B\r\n",
       "desc \"S\" as E1  : **exit**/ act \r\n",
       "}\r\n",
       "\r\n",
       "E2  - -> E3 [[psysml:b9f5e72d-c680-433c-ba5c-575fc587f4f3 ]] : Sig /action D\r\n",
       "E3  - -> E2 [[psysml:8fe1fd83-9e96-4978-be75-1a7ead5c4a85 ]] : Sig [true]/send s to p\r\n",
       "@enduml\r\n",
       "\n",
       "PlantUML version 1.2020.13(Sat Jun 13 12:26:38 UTC 2020)\n",
       "(EPL source distribution)\n",
       "Java Runtime: OpenJDK Runtime Environment\n",
       "JVM: OpenJDK 64-Bit Server VM\n",
       "Default Encoding: UTF-8\n",
       "Language: en\n",
       "Country: null\n",
       "--></g></svg>"
      ]
     },
     "execution_count": 53,
     "metadata": {},
     "output_type": "execute_result"
    }
   ],
   "source": [
    "%viz --style=\"ORTHOLINE\" --view=\"State\" \"StateTest\""
   ]
  },
  {
   "cell_type": "code",
   "execution_count": 54,
   "id": "absent-instrumentation",
   "metadata": {
    "execution": {
     "iopub.execute_input": "2021-03-25T13:48:20.803503Z",
     "iopub.status.busy": "2021-03-25T13:48:20.802525Z",
     "iopub.status.idle": "2021-03-25T13:48:20.876118Z",
     "shell.execute_reply": "2021-03-25T13:48:20.874250Z"
    }
   },
   "outputs": [
    {
     "data": {
      "image/svg+xml": [
       "<?xml version=\"1.0\" encoding=\"UTF-8\" standalone=\"no\"?><svg xmlns=\"http://www.w3.org/2000/svg\" xmlns:xlink=\"http://www.w3.org/1999/xlink\" contentScriptType=\"application/ecmascript\" contentStyleType=\"text/css\" height=\"112px\" preserveAspectRatio=\"none\" style=\"width:598px;height:112px;\" version=\"1.1\" viewBox=\"0 0 598 112\" width=\"598px\" zoomAndPan=\"magnify\"><defs/><g><!--MD5=[fbc87193dbaf4d95561dea2c320d4a47]\n",
       "cluster E1--><a href=\"psysml:7751d53a-3d7b-46fc-b5d8-bf0ae3c7070c\" target=\"_top\" title=\"psysml:7751d53a-3d7b-46fc-b5d8-bf0ae3c7070c\" xlink:actuate=\"onRequest\" xlink:href=\"psysml:7751d53a-3d7b-46fc-b5d8-bf0ae3c7070c\" xlink:show=\"new\" xlink:title=\"psysml:7751d53a-3d7b-46fc-b5d8-bf0ae3c7070c\" xlink:type=\"simple\"><polygon fill=\"#FFFFFF\" points=\"16,6,98,6,105,28.2969,576,28.2969,576,100,16,100,16,6\" style=\"stroke: #000000; stroke-width: 1.5;\"/><line style=\"stroke: #000000; stroke-width: 1.5;\" x1=\"16\" x2=\"105\" y1=\"28.2969\" y2=\"28.2969\"/><text fill=\"#000000\" font-family=\"sans-serif\" font-size=\"14\" font-weight=\"bold\" lengthAdjust=\"spacingAndGlyphs\" textLength=\"76\" x=\"20\" y=\"20.9951\">StateTest</text></a><g id=\"E1.E2\"><a href=\"psysml:85dbfb10-d456-4c59-a9e0-99da33bb7a4b\" target=\"_top\" title=\"psysml:85dbfb10-d456-4c59-a9e0-99da33bb7a4b\" xlink:actuate=\"onRequest\" xlink:href=\"psysml:85dbfb10-d456-4c59-a9e0-99da33bb7a4b\" xlink:show=\"new\" xlink:title=\"psysml:85dbfb10-d456-4c59-a9e0-99da33bb7a4b\" xlink:type=\"simple\"><rect fill=\"#FFFFFF\" height=\"42.9375\" id=\"E2\" style=\"stroke: #383838; stroke-width: 1.5;\" width=\"100\" x=\"460\" y=\"41\"/><rect fill=\"#F8F8F8\" height=\"37.9375\" style=\"stroke: #383838; stroke-width: 1.5;\" width=\"100\" x=\"460\" y=\"41\"/><text fill=\"#000000\" font-family=\"sans-serif\" font-size=\"12\" font-style=\"italic\" lengthAdjust=\"spacingAndGlyphs\" textLength=\"93\" x=\"463.5\" y=\"57.1387\">«attribute def»</text><text fill=\"#000000\" font-family=\"sans-serif\" font-size=\"12\" lengthAdjust=\"spacingAndGlyphs\" textLength=\"19\" x=\"500.5\" y=\"71.1074\">Sig</text></a></g><g id=\"E1.E3\"><a href=\"psysml:06ed69bb-03e4-455b-a820-630d0564221d\" target=\"_top\" title=\"psysml:06ed69bb-03e4-455b-a820-630d0564221d\" xlink:actuate=\"onRequest\" xlink:href=\"psysml:06ed69bb-03e4-455b-a820-630d0564221d\" xlink:show=\"new\" xlink:title=\"psysml:06ed69bb-03e4-455b-a820-630d0564221d\" xlink:type=\"simple\"><rect fill=\"#FFFFFF\" height=\"42.9375\" id=\"E3\" style=\"stroke: #383838; stroke-width: 1.5;\" width=\"100\" x=\"325\" y=\"41\"/><rect fill=\"#F8F8F8\" height=\"37.9375\" style=\"stroke: #383838; stroke-width: 1.5;\" width=\"100\" x=\"325\" y=\"41\"/><text fill=\"#000000\" font-family=\"sans-serif\" font-size=\"12\" font-style=\"italic\" lengthAdjust=\"spacingAndGlyphs\" textLength=\"93\" x=\"328.5\" y=\"57.1387\">«attribute def»</text><text fill=\"#000000\" font-family=\"sans-serif\" font-size=\"12\" lengthAdjust=\"spacingAndGlyphs\" textLength=\"22\" x=\"364\" y=\"71.1074\">Exit</text></a></g><g id=\"E1.E6\"><a href=\"psysml:6343fae7-e97a-4dac-816a-0d66812becae\" target=\"_top\" title=\"psysml:6343fae7-e97a-4dac-816a-0d66812becae\" xlink:actuate=\"onRequest\" xlink:href=\"psysml:6343fae7-e97a-4dac-816a-0d66812becae\" xlink:show=\"new\" xlink:title=\"psysml:6343fae7-e97a-4dac-816a-0d66812becae\" xlink:type=\"simple\"><rect fill=\"#FFFFFF\" height=\"42.9375\" id=\"E6\" style=\"stroke: #383838; stroke-width: 1.5;\" width=\"78\" x=\"212\" y=\"41\"/><rect fill=\"#F8F8F8\" height=\"37.9375\" style=\"stroke: #383838; stroke-width: 1.5;\" width=\"78\" x=\"212\" y=\"41\"/><text fill=\"#000000\" font-family=\"sans-serif\" font-size=\"12\" font-style=\"italic\" lengthAdjust=\"spacingAndGlyphs\" textLength=\"71\" x=\"215.5\" y=\"57.1387\">«state def»</text><text fill=\"#000000\" font-family=\"sans-serif\" font-size=\"12\" lengthAdjust=\"spacingAndGlyphs\" textLength=\"8\" x=\"247\" y=\"71.1074\">S</text></a></g><g id=\"E1.E4\"><a href=\"psysml:f6292196-12b9-4bba-a758-98820cb4f3f5\" target=\"_top\" title=\"psysml:f6292196-12b9-4bba-a758-98820cb4f3f5\" xlink:actuate=\"onRequest\" xlink:href=\"psysml:f6292196-12b9-4bba-a758-98820cb4f3f5\" xlink:show=\"new\" xlink:title=\"psysml:f6292196-12b9-4bba-a758-98820cb4f3f5\" xlink:type=\"simple\"><rect fill=\"#FFFFFF\" height=\"40\" id=\"E4\" rx=\"10\" ry=\"10\" style=\"stroke: #383838; stroke-width: 1.5;\" width=\"50\" x=\"127\" y=\"42.5\"/><rect fill=\"#F8F8F8\" height=\"23.9688\" rx=\"10\" ry=\"10\" style=\"stroke: #F8F8F8; stroke-width: 1.5;\" width=\"50\" x=\"127\" y=\"42.5\"/><rect fill=\"#F8F8F8\" height=\"10\" style=\"stroke: #F8F8F8; stroke-width: 1.5;\" width=\"50\" x=\"127\" y=\"56.4688\"/><rect fill=\"none\" height=\"40\" id=\"E4\" rx=\"10\" ry=\"10\" style=\"stroke: #383838; stroke-width: 1.5;\" width=\"50\" x=\"127\" y=\"42.5\"/><text fill=\"#000000\" font-family=\"sans-serif\" font-size=\"12\" lengthAdjust=\"spacingAndGlyphs\" textLength=\"8\" x=\"148\" y=\"58.6387\">p</text></a></g><g id=\"E1.E5\"><a href=\"psysml:d7bec2b6-e32c-41d0-a208-370a3f1c18c8\" target=\"_top\" title=\"psysml:d7bec2b6-e32c-41d0-a208-370a3f1c18c8\" xlink:actuate=\"onRequest\" xlink:href=\"psysml:d7bec2b6-e32c-41d0-a208-370a3f1c18c8\" xlink:show=\"new\" xlink:title=\"psysml:d7bec2b6-e32c-41d0-a208-370a3f1c18c8\" xlink:type=\"simple\"><rect fill=\"#FFFFFF\" height=\"42.9375\" id=\"E5\" rx=\"10\" ry=\"10\" style=\"stroke: #383838; stroke-width: 1.5;\" width=\"60\" x=\"32\" y=\"41\"/><rect fill=\"#F8F8F8\" height=\"37.9375\" rx=\"10\" ry=\"10\" style=\"stroke: #F8F8F8; stroke-width: 1.5;\" width=\"60\" x=\"32\" y=\"41\"/><rect fill=\"#F8F8F8\" height=\"10\" style=\"stroke: #F8F8F8; stroke-width: 1.5;\" width=\"60\" x=\"32\" y=\"68.9375\"/><rect fill=\"none\" height=\"42.9375\" id=\"E5\" rx=\"10\" ry=\"10\" style=\"stroke: #383838; stroke-width: 1.5;\" width=\"60\" x=\"32\" y=\"41\"/><text fill=\"#000000\" font-family=\"sans-serif\" font-size=\"12\" font-style=\"italic\" lengthAdjust=\"spacingAndGlyphs\" textLength=\"53\" x=\"35.5\" y=\"57.1387\">«action»</text><text fill=\"#000000\" font-family=\"sans-serif\" font-size=\"12\" lengthAdjust=\"spacingAndGlyphs\" textLength=\"20\" x=\"52\" y=\"71.1074\">act</text></a></g><!--MD5=[4471e80fc5a4c2709198a9a7617e4dcc]\n",
       "@startuml\r\n",
       "skinparam ranksep 8\r\n",
       "skinparam rectangle {\r\n",
       " backgroundColor<<block>> LightGreen\r\n",
       "}\r\n",
       "skinparam linetype ortho\r\n",
       "skinparam monochrome true\r\n",
       "skinparam classbackgroundcolor white\r\n",
       "skinparam shadowing false\r\n",
       "skinparam wrapWidth 300\r\n",
       "hide circle\r\n",
       "\r\n",
       "package \"StateTest\" as E1  [[psysml:7751d53a-3d7b-46fc-b5d8-bf0ae3c7070c ]]  {\r\n",
       "def \"Sig\" as E2  <<(T,blue)attribute def>> [[psysml:85dbfb10-d456-4c59-a9e0-99da33bb7a4b ]] \r\n",
       "def \"Exit\" as E3  <<(T,blue)attribute def>> [[psysml:06ed69bb-03e4-455b-a820-630d0564221d ]] \r\n",
       "rec usage \"p\" as E4  [[psysml:f6292196-12b9-4bba-a758-98820cb4f3f5 ]] {\r\n",
       "}\r\n",
       "rec usage \"act\" as E5  <<(T,blue)action>> [[psysml:d7bec2b6-e32c-41d0-a208-370a3f1c18c8 ]] {\r\n",
       "}\r\n",
       "def \"S\" as E6  <<(T,blue)state def>> [[psysml:6343fae7-e97a-4dac-816a-0d66812becae ]] \r\n",
       "}\r\n",
       "@enduml\r\n",
       "\n",
       "PlantUML version 1.2020.13(Sat Jun 13 12:26:38 UTC 2020)\n",
       "(EPL source distribution)\n",
       "Java Runtime: OpenJDK Runtime Environment\n",
       "JVM: OpenJDK 64-Bit Server VM\n",
       "Default Encoding: UTF-8\n",
       "Language: en\n",
       "Country: null\n",
       "--></g></svg>"
      ]
     },
     "execution_count": 54,
     "metadata": {},
     "output_type": "execute_result"
    }
   ],
   "source": [
    "%viz --style=\"ORTHOLINE\" --view=\"Interconnection\" \"StateTest\""
   ]
  },
  {
   "cell_type": "code",
   "execution_count": 55,
   "id": "contained-savage",
   "metadata": {
    "execution": {
     "iopub.execute_input": "2021-03-25T13:48:20.926282Z",
     "iopub.status.busy": "2021-03-25T13:48:20.925511Z",
     "iopub.status.idle": "2021-03-25T13:48:20.987805Z",
     "shell.execute_reply": "2021-03-25T13:48:20.986071Z"
    }
   },
   "outputs": [
    {
     "data": {
      "image/svg+xml": [
       "<?xml version=\"1.0\" encoding=\"UTF-8\" standalone=\"no\"?><svg xmlns=\"http://www.w3.org/2000/svg\" xmlns:xlink=\"http://www.w3.org/1999/xlink\" contentScriptType=\"application/ecmascript\" contentStyleType=\"text/css\" height=\"553px\" preserveAspectRatio=\"none\" style=\"width:797px;height:553px;background:#000000;\" version=\"1.1\" viewBox=\"0 0 797 553\" width=\"797px\" zoomAndPan=\"magnify\"><defs/><g><rect fill=\"#0D081F\" height=\"1\" style=\"stroke: #0D081F; stroke-width: 1.0;\" width=\"1\" x=\"0\" y=\"0\"/><rect fill=\"#EAE2C9\" height=\"65.1875\" style=\"stroke: #EAE2C9; stroke-width: 1.0;\" width=\"796\" x=\"0\" y=\"0\"/><text fill=\"#000000\" font-family=\"sans-serif\" font-size=\"14\" font-weight=\"bold\" lengthAdjust=\"spacingAndGlyphs\" textLength=\"310\" x=\"10\" y=\"12.9951\">Add your own dedication into PlantUML</text><text fill=\"#000000\" font-family=\"sans-serif\" font-size=\"14\" lengthAdjust=\"spacingAndGlyphs\" textLength=\"0\" x=\"14\" y=\"29.292\"/><text fill=\"#000000\" font-family=\"sans-serif\" font-size=\"14\" lengthAdjust=\"spacingAndGlyphs\" textLength=\"154\" x=\"10\" y=\"45.5889\">For just $5 per month!</text><text fill=\"#000000\" font-family=\"sans-serif\" font-size=\"14\" lengthAdjust=\"spacingAndGlyphs\" textLength=\"69\" x=\"10\" y=\"61.8857\">Details on</text><a href=\"http://plantuml.com/dedication\" target=\"_top\" title=\"http://plantuml.com/dedication\" xlink:actuate=\"onRequest\" xlink:href=\"http://plantuml.com/dedication\" xlink:show=\"new\" xlink:title=\"http://plantuml.com/dedication\" xlink:type=\"simple\"><text fill=\"#000000\" font-family=\"sans-serif\" font-size=\"14\" font-style=\"italic\" lengthAdjust=\"spacingAndGlyphs\" textLength=\"213\" x=\"83\" y=\"61.8857\">http://plantuml.com/dedication</text></a><rect fill=\"#000000\" height=\"487.6094\" style=\"stroke: #000000; stroke-width: 1.0;\" width=\"796\" x=\"0\" y=\"65.1875\"/><rect fill=\"#33FF02\" height=\"21.2969\" style=\"stroke: #33FF02; stroke-width: 1.0;\" width=\"786\" x=\"5\" y=\"70.1875\"/><text fill=\"#000000\" font-family=\"sans-serif\" font-size=\"14\" font-weight=\"bold\" lengthAdjust=\"spacingAndGlyphs\" textLength=\"178\" x=\"6\" y=\"85.1875\">[From string (line 26) ]</text><text fill=\"#33FF02\" font-family=\"sans-serif\" font-size=\"14\" font-weight=\"bold\" lengthAdjust=\"spacingAndGlyphs\" textLength=\"0\" x=\"10\" y=\"105.4844\"/><text fill=\"#33FF02\" font-family=\"sans-serif\" font-size=\"14\" font-weight=\"bold\" lengthAdjust=\"spacingAndGlyphs\" textLength=\"79\" x=\"5\" y=\"121.7813\">@startuml</text><text fill=\"#33FF02\" font-family=\"sans-serif\" font-size=\"14\" font-weight=\"bold\" lengthAdjust=\"spacingAndGlyphs\" textLength=\"165\" x=\"5\" y=\"138.0781\">skinparam ranksep 8</text><text fill=\"#33FF02\" font-family=\"sans-serif\" font-size=\"14\" font-weight=\"bold\" lengthAdjust=\"spacingAndGlyphs\" textLength=\"197\" x=\"5\" y=\"154.375\">skinparam linetype ortho</text><text fill=\"#33FF02\" font-family=\"sans-serif\" font-size=\"14\" font-weight=\"bold\" lengthAdjust=\"spacingAndGlyphs\" textLength=\"228\" x=\"5\" y=\"170.6719\">skinparam monochrome true</text><text fill=\"#33FF02\" font-family=\"sans-serif\" font-size=\"14\" font-weight=\"bold\" lengthAdjust=\"spacingAndGlyphs\" textLength=\"309\" x=\"5\" y=\"186.9688\">skinparam classbackgroundcolor white</text><text fill=\"#33FF02\" font-family=\"sans-serif\" font-size=\"14\" font-weight=\"bold\" lengthAdjust=\"spacingAndGlyphs\" textLength=\"215\" x=\"5\" y=\"203.2656\">skinparam shadowing false</text><text fill=\"#33FF02\" font-family=\"sans-serif\" font-size=\"14\" font-weight=\"bold\" lengthAdjust=\"spacingAndGlyphs\" textLength=\"206\" x=\"5\" y=\"219.5625\">skinparam wrapWidth 300</text><text fill=\"#33FF02\" font-family=\"sans-serif\" font-size=\"14\" font-weight=\"bold\" lengthAdjust=\"spacingAndGlyphs\" textLength=\"82\" x=\"5\" y=\"235.8594\">hide circle</text><text fill=\"#33FF02\" font-family=\"sans-serif\" font-size=\"14\" font-weight=\"bold\" lengthAdjust=\"spacingAndGlyphs\" textLength=\"0\" x=\"10\" y=\"252.1563\"/><text fill=\"#33FF02\" font-family=\"sans-serif\" font-size=\"14\" font-weight=\"bold\" lengthAdjust=\"spacingAndGlyphs\" textLength=\"780\" x=\"5\" y=\"268.4531\">rec usage \"act\" as E1  &lt;&lt;(T,blue)action&gt;&gt; [[psysml:d7bec2b6-e32c-41d0-a208-370a3f1c18c8 ]] {</text><text fill=\"#33FF02\" font-family=\"sans-serif\" font-size=\"14\" font-weight=\"bold\" lengthAdjust=\"spacingAndGlyphs\" textLength=\"10\" x=\"5\" y=\"284.75\">}</text><text fill=\"#33FF02\" font-family=\"sans-serif\" font-size=\"14\" font-weight=\"bold\" lengthAdjust=\"spacingAndGlyphs\" textLength=\"0\" x=\"10\" y=\"301.0469\"/><text fill=\"#33FF02\" font-family=\"sans-serif\" font-size=\"14\" font-weight=\"bold\" lengthAdjust=\"spacingAndGlyphs\" textLength=\"766\" x=\"5\" y=\"317.3438\">rec def \"S\" as E2  &lt;&lt;(T,blue)state def&gt;&gt; [[psysml:6343fae7-e97a-4dac-816a-0d66812becae ]] {</text><text fill=\"#33FF02\" font-family=\"sans-serif\" font-size=\"14\" font-weight=\"bold\" lengthAdjust=\"spacingAndGlyphs\" textLength=\"771\" x=\"5\" y=\"333.6406\">rec usage \"A\" as E3 &lt;&lt;perform action&gt;&gt; [[psysml:8359d21e-76a2-4117-aa0c-e497139fc203 ]] {</text><text fill=\"#33FF02\" font-family=\"sans-serif\" font-size=\"14\" font-weight=\"bold\" lengthAdjust=\"spacingAndGlyphs\" textLength=\"10\" x=\"5\" y=\"349.9375\">}</text><text fill=\"#33FF02\" font-family=\"sans-serif\" font-size=\"14\" font-weight=\"bold\" lengthAdjust=\"spacingAndGlyphs\" textLength=\"0\" x=\"10\" y=\"366.2344\"/><text fill=\"#33FF02\" font-family=\"sans-serif\" font-size=\"14\" font-weight=\"bold\" lengthAdjust=\"spacingAndGlyphs\" textLength=\"757\" x=\"5\" y=\"382.5313\">rec usage \"B\" as E4 &lt;&lt;perform action&gt;&gt; [[psysml:fefee72e-42fb-4d4a-8086-a3c1a01af58c ]] {</text><text fill=\"#33FF02\" font-family=\"sans-serif\" font-size=\"14\" font-weight=\"bold\" lengthAdjust=\"spacingAndGlyphs\" textLength=\"10\" x=\"5\" y=\"398.8281\">}</text><text fill=\"#33FF02\" font-family=\"sans-serif\" font-size=\"14\" font-weight=\"bold\" lengthAdjust=\"spacingAndGlyphs\" textLength=\"0\" x=\"10\" y=\"415.125\"/><text fill=\"#33FF02\" font-family=\"sans-serif\" font-size=\"14\" font-weight=\"bold\" lengthAdjust=\"spacingAndGlyphs\" textLength=\"786\" x=\"5\" y=\"431.4219\">rec usage \"act\" as E5 &lt;&lt;perform action&gt;&gt; [[psysml:0785ac9a-a9d7-4330-a90b-536bd85a1c26 ]] {</text><text fill=\"#33FF02\" font-family=\"sans-serif\" font-size=\"14\" font-weight=\"bold\" lengthAdjust=\"spacingAndGlyphs\" textLength=\"10\" x=\"5\" y=\"447.7188\">}</text><text fill=\"#33FF02\" font-family=\"sans-serif\" font-size=\"14\" font-weight=\"bold\" lengthAdjust=\"spacingAndGlyphs\" textLength=\"0\" x=\"10\" y=\"464.0156\"/><text fill=\"#33FF02\" font-family=\"sans-serif\" font-size=\"14\" font-weight=\"bold\" lengthAdjust=\"spacingAndGlyphs\" textLength=\"767\" x=\"5\" y=\"480.3125\">rec usage \"S1\" as E6  &lt;&lt;(T,blue)state&gt;&gt; [[psysml:df9bf7b7-ea8a-42e1-9b23-b8091030681c ]] {</text><text fill=\"#33FF02\" font-family=\"sans-serif\" font-size=\"14\" font-weight=\"bold\" lengthAdjust=\"spacingAndGlyphs\" textLength=\"10\" x=\"5\" y=\"496.6094\">}</text><text fill=\"#33FF02\" font-family=\"sans-serif\" font-size=\"14\" font-weight=\"bold\" lengthAdjust=\"spacingAndGlyphs\" textLength=\"0\" x=\"10\" y=\"512.9063\"/><text fill=\"#33FF02\" font-family=\"sans-serif\" font-size=\"14\" font-weight=\"bold\" lengthAdjust=\"spacingAndGlyphs\" textLength=\"10\" x=\"5\" y=\"529.2031\">{</text><text fill=\"#FF0000\" font-family=\"sans-serif\" font-size=\"14\" font-weight=\"bold\" lengthAdjust=\"spacingAndGlyphs\" textLength=\"106\" x=\"10\" y=\"545.5\">Syntax Error?</text><!--MD5=[dcba58a4b91dc729380898e833544bfe]\n",
       "@startuml\r\n",
       "skinparam ranksep 8\r\n",
       "skinparam linetype ortho\r\n",
       "skinparam monochrome true\r\n",
       "skinparam classbackgroundcolor white\r\n",
       "skinparam shadowing false\r\n",
       "skinparam wrapWidth 300\r\n",
       "hide circle\r\n",
       "\r\n",
       "rec usage \"act\" as E1  <<(T,blue)action>> [[psysml:d7bec2b6-e32c-41d0-a208-370a3f1c18c8 ]] {\r\n",
       "}\r\n",
       "\r\n",
       "rec def \"S\" as E2  <<(T,blue)state def>> [[psysml:6343fae7-e97a-4dac-816a-0d66812becae ]] {\r\n",
       "rec usage \"A\" as E3 <<perform action>> [[psysml:8359d21e-76a2-4117-aa0c-e497139fc203 ]] {\r\n",
       "}\r\n",
       "\r\n",
       "rec usage \"B\" as E4 <<perform action>> [[psysml:fefee72e-42fb-4d4a-8086-a3c1a01af58c ]] {\r\n",
       "}\r\n",
       "\r\n",
       "rec usage \"act\" as E5 <<perform action>> [[psysml:0785ac9a-a9d7-4330-a90b-536bd85a1c26 ]] {\r\n",
       "}\r\n",
       "\r\n",
       "rec usage \"S1\" as E6  <<(T,blue)state>> [[psysml:df9bf7b7-ea8a-42e1-9b23-b8091030681c ]] {\r\n",
       "}\r\n",
       "\r\n",
       "{\r\n",
       "{\r\n",
       "}\r\n",
       "\r\n",
       "rec usage \"D\" as E7 <<perform action>> [[psysml:13511cfd-781a-4ec2-8fcf-a4a28f7b6394 ]] {\r\n",
       "}\r\n",
       "\r\n",
       "}\r\n",
       "\r\n",
       "rec usage \"S2\" as E8  <<(T,blue)state>> [[psysml:372708ac-c185-450b-8b20-5b0e6796b1d2 ]] {\r\n",
       "rec usage \"doAction\" as E9 <<send action>> [[psysml:db8ff6bb-65b2-44b6-939f-52bfaf067d5c ]] {\r\n",
       "portin \"$x\" as E10  [[psysml:f2ac6743-4d1a-421e-9e84-f3280953fc52 ]] \r\n",
       "portout \"$result\" as E11  [[psysml:58832e21-8b8c-4456-b993-1dc2ff31e51d ]] \r\n",
       "}\r\n",
       "\r\n",
       "}\r\n",
       "\r\n",
       "{\r\n",
       "{\r\n",
       "}\r\n",
       "\r\n",
       "}\r\n",
       "\r\n",
       "rec usage \"T\" as E12  <<(T,blue)transition>> [[psysml:8fe1fd83-9e96-4978-be75-1a7ead5c4a85 ]] {\r\n",
       "rec usage \"S2\" as E13  <<(T,blue)state>> [[psysml:372708ac-c185-450b-8b20-5b0e6796b1d2 ]] {\r\n",
       "rec usage \"doAction\" as E14 <<send action>> [[psysml:db8ff6bb-65b2-44b6-939f-52bfaf067d5c ]] {\r\n",
       "portin \"$x\" as E15  [[psysml:f2ac6743-4d1a-421e-9e84-f3280953fc52 ]] \r\n",
       "portout \"$result\" as E16  [[psysml:58832e21-8b8c-4456-b993-1dc2ff31e51d ]] \r\n",
       "}\r\n",
       "\r\n",
       "}\r\n",
       "\r\n",
       "{\r\n",
       "}\r\n",
       "\r\n",
       "portout \"$result\" as E17  [[psysml:19fa8e9c-57e3-4ff0-b297-c44a7cb57e28 ]] \r\n",
       "{\r\n",
       "}\r\n",
       "\r\n",
       "}\r\n",
       "\r\n",
       "}\r\n",
       "\r\n",
       "@enduml\r\n",
       "\n",
       "PlantUML version 1.2020.13(Sat Jun 13 12:26:38 UTC 2020)\n",
       "(EPL source distribution)\n",
       "Java Runtime: OpenJDK Runtime Environment\n",
       "JVM: OpenJDK 64-Bit Server VM\n",
       "Default Encoding: UTF-8\n",
       "Language: en\n",
       "Country: null\n",
       "--></g></svg>"
      ]
     },
     "execution_count": 55,
     "metadata": {},
     "output_type": "execute_result"
    }
   ],
   "source": [
    "%viz --style=\"ORTHOLINE\" --view=\"Action\" \"StateTest\""
   ]
  },
  {
   "cell_type": "code",
   "execution_count": 56,
   "id": "hybrid-context",
   "metadata": {
    "execution": {
     "iopub.execute_input": "2021-03-25T13:48:21.037727Z",
     "iopub.status.busy": "2021-03-25T13:48:21.037186Z",
     "iopub.status.idle": "2021-03-25T13:48:21.455350Z",
     "shell.execute_reply": "2021-03-25T13:48:21.455017Z"
    }
   },
   "outputs": [
    {
     "data": {
      "image/svg+xml": [
       "<?xml version=\"1.0\" encoding=\"UTF-8\" standalone=\"no\"?><svg xmlns=\"http://www.w3.org/2000/svg\" xmlns:xlink=\"http://www.w3.org/1999/xlink\" contentScriptType=\"application/ecmascript\" contentStyleType=\"text/css\" height=\"471px\" preserveAspectRatio=\"none\" style=\"width:594px;height:471px;\" version=\"1.1\" viewBox=\"0 0 594 471\" width=\"594px\" zoomAndPan=\"magnify\"><defs/><g><!--MD5=[fbc87193dbaf4d95561dea2c320d4a47]\n",
       "cluster E1--><a href=\"psysml:7751d53a-3d7b-46fc-b5d8-bf0ae3c7070c\" target=\"_top\" title=\"psysml:7751d53a-3d7b-46fc-b5d8-bf0ae3c7070c\" xlink:actuate=\"onRequest\" xlink:href=\"psysml:7751d53a-3d7b-46fc-b5d8-bf0ae3c7070c\" xlink:show=\"new\" xlink:title=\"psysml:7751d53a-3d7b-46fc-b5d8-bf0ae3c7070c\" xlink:type=\"simple\"><polygon fill=\"#FFFFFF\" points=\"16,6,98,6,105,28.2969,572,28.2969,572,459,16,459,16,6\" style=\"stroke: #000000; stroke-width: 1.5;\"/><line style=\"stroke: #000000; stroke-width: 1.5;\" x1=\"16\" x2=\"105\" y1=\"28.2969\" y2=\"28.2969\"/><text fill=\"#000000\" font-family=\"sans-serif\" font-size=\"14\" font-weight=\"bold\" lengthAdjust=\"spacingAndGlyphs\" textLength=\"76\" x=\"20\" y=\"20.9951\">StateTest</text></a><!--MD5=[b4997ac47864f28c2f74865a473b2911]\n",
       "class E2--><a href=\"psysml:85dbfb10-d456-4c59-a9e0-99da33bb7a4b\" target=\"_top\" title=\"psysml:85dbfb10-d456-4c59-a9e0-99da33bb7a4b\" xlink:actuate=\"onRequest\" xlink:href=\"psysml:85dbfb10-d456-4c59-a9e0-99da33bb7a4b\" xlink:show=\"new\" xlink:title=\"psysml:85dbfb10-d456-4c59-a9e0-99da33bb7a4b\" xlink:type=\"simple\"><rect fill=\"#FFFFFF\" height=\"75.5469\" id=\"E2\" style=\"stroke: #383838; stroke-width: 1.5;\" width=\"95\" x=\"460.5\" y=\"83\"/><text fill=\"#000000\" font-family=\"sans-serif\" font-size=\"12\" font-style=\"italic\" lengthAdjust=\"spacingAndGlyphs\" textLength=\"93\" x=\"461.5\" y=\"99.1387\">«attribute def»</text><text fill=\"#000000\" font-family=\"sans-serif\" font-size=\"12\" lengthAdjust=\"spacingAndGlyphs\" textLength=\"19\" x=\"498.5\" y=\"113.1074\">Sig</text><line style=\"stroke: #383838; stroke-width: 1.5;\" x1=\"461.5\" x2=\"554.5\" y1=\"120.9375\" y2=\"120.9375\"/><text fill=\"#000000\" font-family=\"sans-serif\" font-size=\"11\" lengthAdjust=\"spacingAndGlyphs\" textLength=\"6\" x=\"466.5\" y=\"151.9526\">x</text><line style=\"stroke: #383838; stroke-width: 1.0;\" x1=\"461.5\" x2=\"480.5\" y1=\"135.3398\" y2=\"135.3398\"/><text fill=\"#000000\" font-family=\"sans-serif\" font-size=\"11\" lengthAdjust=\"spacingAndGlyphs\" textLength=\"55\" x=\"480.5\" y=\"138.6479\">attributes</text><line style=\"stroke: #383838; stroke-width: 1.0;\" x1=\"535.5\" x2=\"554.5\" y1=\"135.3398\" y2=\"135.3398\"/></a><!--MD5=[09b614a08d8cba4a07c9adeb5e0fee81]\n",
       "class E3--><a href=\"psysml:06ed69bb-03e4-455b-a820-630d0564221d\" target=\"_top\" title=\"psysml:06ed69bb-03e4-455b-a820-630d0564221d\" xlink:actuate=\"onRequest\" xlink:href=\"psysml:06ed69bb-03e4-455b-a820-630d0564221d\" xlink:show=\"new\" xlink:title=\"psysml:06ed69bb-03e4-455b-a820-630d0564221d\" xlink:type=\"simple\"><rect fill=\"#FFFFFF\" height=\"45.9375\" id=\"E3\" style=\"stroke: #383838; stroke-width: 1.5;\" width=\"95\" x=\"330.5\" y=\"98\"/><text fill=\"#000000\" font-family=\"sans-serif\" font-size=\"12\" font-style=\"italic\" lengthAdjust=\"spacingAndGlyphs\" textLength=\"93\" x=\"331.5\" y=\"114.1387\">«attribute def»</text><text fill=\"#000000\" font-family=\"sans-serif\" font-size=\"12\" lengthAdjust=\"spacingAndGlyphs\" textLength=\"22\" x=\"367\" y=\"128.1074\">Exit</text><line style=\"stroke: #383838; stroke-width: 1.5;\" x1=\"331.5\" x2=\"424.5\" y1=\"135.9375\" y2=\"135.9375\"/></a><!--MD5=[ebbe1d658d1005bcc118a6aa81145e00]\n",
       "class E4--><a href=\"psysml:f6292196-12b9-4bba-a758-98820cb4f3f5\" target=\"_top\" title=\"psysml:f6292196-12b9-4bba-a758-98820cb4f3f5\" xlink:actuate=\"onRequest\" xlink:href=\"psysml:f6292196-12b9-4bba-a758-98820cb4f3f5\" xlink:show=\"new\" xlink:title=\"psysml:f6292196-12b9-4bba-a758-98820cb4f3f5\" xlink:type=\"simple\"><rect fill=\"#FFFFFF\" height=\"45.9375\" id=\"E4\" rx=\"10\" ry=\"10\" style=\"stroke: #383838; stroke-width: 1.5;\" width=\"42\" x=\"253\" y=\"98\"/><text fill=\"#000000\" font-family=\"sans-serif\" font-size=\"12\" font-style=\"italic\" lengthAdjust=\"spacingAndGlyphs\" textLength=\"40\" x=\"254\" y=\"114.1387\">«part»</text><text fill=\"#000000\" font-family=\"sans-serif\" font-size=\"12\" lengthAdjust=\"spacingAndGlyphs\" textLength=\"8\" x=\"270\" y=\"128.1074\">p</text><line style=\"stroke: #383838; stroke-width: 1.5;\" x1=\"254\" x2=\"294\" y1=\"135.9375\" y2=\"135.9375\"/></a><!--MD5=[270fce915f116d4de14055a7c1d9a0f3]\n",
       "class E5--><a href=\"psysml:d7bec2b6-e32c-41d0-a208-370a3f1c18c8\" target=\"_top\" title=\"psysml:d7bec2b6-e32c-41d0-a208-370a3f1c18c8\" xlink:actuate=\"onRequest\" xlink:href=\"psysml:d7bec2b6-e32c-41d0-a208-370a3f1c18c8\" xlink:show=\"new\" xlink:title=\"psysml:d7bec2b6-e32c-41d0-a208-370a3f1c18c8\" xlink:type=\"simple\"><rect fill=\"#FFFFFF\" height=\"45.9375\" id=\"E5\" rx=\"10\" ry=\"10\" style=\"stroke: #383838; stroke-width: 1.5;\" width=\"55\" x=\"162.5\" y=\"98\"/><text fill=\"#000000\" font-family=\"sans-serif\" font-size=\"12\" font-style=\"italic\" lengthAdjust=\"spacingAndGlyphs\" textLength=\"53\" x=\"163.5\" y=\"114.1387\">«action»</text><text fill=\"#000000\" font-family=\"sans-serif\" font-size=\"12\" lengthAdjust=\"spacingAndGlyphs\" textLength=\"20\" x=\"180\" y=\"128.1074\">act</text><line style=\"stroke: #383838; stroke-width: 1.5;\" x1=\"163.5\" x2=\"216.5\" y1=\"135.9375\" y2=\"135.9375\"/></a><!--MD5=[60a26617385b1d2d0262a64233df1f8d]\n",
       "class E6--><a href=\"psysml:6343fae7-e97a-4dac-816a-0d66812becae\" target=\"_top\" title=\"psysml:6343fae7-e97a-4dac-816a-0d66812becae\" xlink:actuate=\"onRequest\" xlink:href=\"psysml:6343fae7-e97a-4dac-816a-0d66812becae\" xlink:show=\"new\" xlink:title=\"psysml:6343fae7-e97a-4dac-816a-0d66812becae\" xlink:type=\"simple\"><rect fill=\"#FFFFFF\" height=\"160.375\" id=\"E6\" style=\"stroke: #383838; stroke-width: 1.5;\" width=\"95\" x=\"32.5\" y=\"41\"/><text fill=\"#000000\" font-family=\"sans-serif\" font-size=\"12\" font-style=\"italic\" lengthAdjust=\"spacingAndGlyphs\" textLength=\"71\" x=\"44.5\" y=\"57.1387\">«state def»</text><text fill=\"#000000\" font-family=\"sans-serif\" font-size=\"12\" lengthAdjust=\"spacingAndGlyphs\" textLength=\"8\" x=\"76\" y=\"71.1074\">S</text><line style=\"stroke: #383838; stroke-width: 1.5;\" x1=\"33.5\" x2=\"126.5\" y1=\"78.9375\" y2=\"78.9375\"/><text fill=\"#000000\" font-family=\"sans-serif\" font-size=\"11\" lengthAdjust=\"spacingAndGlyphs\" textLength=\"17\" x=\"38.5\" y=\"109.9526\">act</text><text fill=\"#000000\" font-family=\"sans-serif\" font-size=\"11\" lengthAdjust=\"spacingAndGlyphs\" textLength=\"7\" x=\"38.5\" y=\"122.7573\">A</text><text fill=\"#000000\" font-family=\"sans-serif\" font-size=\"11\" lengthAdjust=\"spacingAndGlyphs\" textLength=\"8\" x=\"38.5\" y=\"135.562\">B</text><line style=\"stroke: #383838; stroke-width: 1.0;\" x1=\"33.5\" x2=\"36.5\" y1=\"93.3398\" y2=\"93.3398\"/><text fill=\"#000000\" font-family=\"sans-serif\" font-size=\"11\" lengthAdjust=\"spacingAndGlyphs\" textLength=\"87\" x=\"36.5\" y=\"96.6479\">performActions</text><line style=\"stroke: #383838; stroke-width: 1.0;\" x1=\"123.5\" x2=\"126.5\" y1=\"93.3398\" y2=\"93.3398\"/><text fill=\"#000000\" font-family=\"sans-serif\" font-size=\"11\" lengthAdjust=\"spacingAndGlyphs\" textLength=\"15\" x=\"38.5\" y=\"165.1714\">S1</text><line style=\"stroke: #383838; stroke-width: 1.0;\" x1=\"33.5\" x2=\"62\" y1=\"148.5586\" y2=\"148.5586\"/><text fill=\"#000000\" font-family=\"sans-serif\" font-size=\"11\" lengthAdjust=\"spacingAndGlyphs\" textLength=\"36\" x=\"62\" y=\"151.8667\">states</text><line style=\"stroke: #383838; stroke-width: 1.0;\" x1=\"98\" x2=\"126.5\" y1=\"148.5586\" y2=\"148.5586\"/><text fill=\"#000000\" font-family=\"sans-serif\" font-size=\"11\" lengthAdjust=\"spacingAndGlyphs\" textLength=\"7\" x=\"38.5\" y=\"194.7808\">T</text><line style=\"stroke: #383838; stroke-width: 1.0;\" x1=\"33.5\" x2=\"49.5\" y1=\"178.168\" y2=\"178.168\"/><text fill=\"#000000\" font-family=\"sans-serif\" font-size=\"11\" lengthAdjust=\"spacingAndGlyphs\" textLength=\"61\" x=\"49.5\" y=\"181.4761\">transitions</text><line style=\"stroke: #383838; stroke-width: 1.0;\" x1=\"110.5\" x2=\"126.5\" y1=\"178.168\" y2=\"178.168\"/></a><!--MD5=[1dd1bfd58a279cf63c5f349dbc8fc6a1]\n",
       "class E11--><a href=\"psysml:372708ac-c185-450b-8b20-5b0e6796b1d2\" target=\"_top\" title=\"psysml:372708ac-c185-450b-8b20-5b0e6796b1d2\" xlink:actuate=\"onRequest\" xlink:href=\"psysml:372708ac-c185-450b-8b20-5b0e6796b1d2\" xlink:show=\"new\" xlink:title=\"psysml:372708ac-c185-450b-8b20-5b0e6796b1d2\" xlink:type=\"simple\"><rect fill=\"#FFFFFF\" height=\"45.9375\" id=\"E11\" rx=\"10\" ry=\"10\" style=\"stroke: #383838; stroke-width: 1.5;\" width=\"49\" x=\"55.5\" y=\"261\"/><text fill=\"#000000\" font-family=\"sans-serif\" font-size=\"12\" font-style=\"italic\" lengthAdjust=\"spacingAndGlyphs\" textLength=\"47\" x=\"56.5\" y=\"277.1387\">«state»</text><text fill=\"#000000\" font-family=\"sans-serif\" font-size=\"12\" lengthAdjust=\"spacingAndGlyphs\" textLength=\"16\" x=\"72\" y=\"291.1074\">S2</text><line style=\"stroke: #383838; stroke-width: 1.5;\" x1=\"56.5\" x2=\"103.5\" y1=\"298.9375\" y2=\"298.9375\"/></a><!--MD5=[49a0ec8f00dab7302a31f22d0f0fe584]\n",
       "class E12--><a href=\"psysml:db8ff6bb-65b2-44b6-939f-52bfaf067d5c\" target=\"_top\" title=\"psysml:db8ff6bb-65b2-44b6-939f-52bfaf067d5c\" xlink:actuate=\"onRequest\" xlink:href=\"psysml:db8ff6bb-65b2-44b6-939f-52bfaf067d5c\" xlink:show=\"new\" xlink:title=\"psysml:db8ff6bb-65b2-44b6-939f-52bfaf067d5c\" xlink:type=\"simple\"><rect fill=\"#FFFFFF\" height=\"75.5469\" id=\"E12\" rx=\"10\" ry=\"10\" style=\"stroke: #383838; stroke-width: 1.5;\" width=\"90\" x=\"35\" y=\"367\"/><text fill=\"#000000\" font-family=\"sans-serif\" font-size=\"12\" font-style=\"italic\" lengthAdjust=\"spacingAndGlyphs\" textLength=\"88\" x=\"36\" y=\"383.1387\">«send action»</text><text fill=\"#000000\" font-family=\"sans-serif\" font-size=\"12\" lengthAdjust=\"spacingAndGlyphs\" textLength=\"55\" x=\"52.5\" y=\"397.1074\">doAction</text><line style=\"stroke: #383838; stroke-width: 1.5;\" x1=\"36\" x2=\"124\" y1=\"404.9375\" y2=\"404.9375\"/><text fill=\"#000000\" font-family=\"sans-serif\" font-size=\"11\" lengthAdjust=\"spacingAndGlyphs\" textLength=\"25\" x=\"41\" y=\"435.9526\">item</text><line style=\"stroke: #383838; stroke-width: 1.0;\" x1=\"36\" x2=\"42.5\" y1=\"419.3398\" y2=\"419.3398\"/><text fill=\"#000000\" font-family=\"sans-serif\" font-size=\"11\" lengthAdjust=\"spacingAndGlyphs\" textLength=\"75\" x=\"42.5\" y=\"422.6479\">itemFeatures</text><line style=\"stroke: #383838; stroke-width: 1.0;\" x1=\"117.5\" x2=\"124\" y1=\"419.3398\" y2=\"419.3398\"/></a><!--MD5=[1f5f03483f7de0d5b3680a7f6650997f]\n",
       "reverse link E6 to E11--><a href=\"psysml:372708ac-c185-450b-8b20-5b0e6796b1d2\" target=\"_top\" title=\"psysml:372708ac-c185-450b-8b20-5b0e6796b1d2\" xlink:actuate=\"onRequest\" xlink:href=\"psysml:372708ac-c185-450b-8b20-5b0e6796b1d2\" xlink:show=\"new\" xlink:title=\"psysml:372708ac-c185-450b-8b20-5b0e6796b1d2\" xlink:type=\"simple\"><path d=\"M80,214.07 C80,214.07 80,260.85 80,260.85 \" fill=\"none\" id=\"E6&lt;-E11\" style=\"stroke: #383838; stroke-width: 1.0;\"/><polygon fill=\"#383838\" points=\"80,201.07,76,207.07,80,213.07,84,207.07,80,201.07\" style=\"stroke: #383838; stroke-width: 1.0;\"/></a><!--MD5=[94adabc162ce7e41b39f13be14fbaeb3]\n",
       "reverse link E11 to E12--><a href=\"psysml:db8ff6bb-65b2-44b6-939f-52bfaf067d5c\" target=\"_top\" title=\"psysml:db8ff6bb-65b2-44b6-939f-52bfaf067d5c\" xlink:actuate=\"onRequest\" xlink:href=\"psysml:db8ff6bb-65b2-44b6-939f-52bfaf067d5c\" xlink:show=\"new\" xlink:title=\"psysml:db8ff6bb-65b2-44b6-939f-52bfaf067d5c\" xlink:type=\"simple\"><path d=\"M80,320.04 C80,320.04 80,366.81 80,366.81 \" fill=\"none\" id=\"E11&lt;-E12\" style=\"stroke: #383838; stroke-width: 1.0;\"/><polygon fill=\"#FFFFFF\" points=\"80,307.04,76,313.04,80,319.04,84,313.04,80,307.04\" style=\"stroke: #383838; stroke-width: 1.0;\"/></a><!--MD5=[278106af9bd67c36d28bdfe4482314be]\n",
       "@startuml\r\n",
       "skinparam linetype ortho\r\n",
       "skinparam monochrome true\r\n",
       "skinparam classbackgroundcolor white\r\n",
       "skinparam shadowing false\r\n",
       "skinparam wrapWidth 300\r\n",
       "hide circle\r\n",
       "\r\n",
       "package \"StateTest\" as E1  [[psysml:7751d53a-3d7b-46fc-b5d8-bf0ae3c7070c ]]  {\r\n",
       "comp def \"Sig\" as E2  <<(T,blue)attribute def>> [[psysml:85dbfb10-d456-4c59-a9e0-99da33bb7a4b ]] {\r\n",
       "- - attributes - -\r\n",
       "x\r\n",
       "}\r\n",
       "comp def \"Exit\" as E3  <<(T,blue)attribute def>> [[psysml:06ed69bb-03e4-455b-a820-630d0564221d ]] {\r\n",
       "}\r\n",
       "comp usage \"p\" as E4  <<(T,blue)part>> [[psysml:f6292196-12b9-4bba-a758-98820cb4f3f5 ]] {\r\n",
       "}\r\n",
       "comp usage \"act\" as E5  <<(T,blue)action>> [[psysml:d7bec2b6-e32c-41d0-a208-370a3f1c18c8 ]] {\r\n",
       "}\r\n",
       "comp def \"S\" as E6  <<(T,blue)state def>> [[psysml:6343fae7-e97a-4dac-816a-0d66812becae ]] {\r\n",
       "- - performActions - -\r\n",
       "act\r\n",
       "A\r\n",
       "B\r\n",
       "- - states - -\r\n",
       "S1\r\n",
       "- - transitions - -\r\n",
       "T\r\n",
       "}\r\n",
       "comp usage \"S2\" as E11  <<(T,blue)state>> [[psysml:372708ac-c185-450b-8b20-5b0e6796b1d2 ]] {\r\n",
       "}\r\n",
       "comp usage \"doAction\" as E12 <<send action>> [[psysml:db8ff6bb-65b2-44b6-939f-52bfaf067d5c ]] {\r\n",
       "- - itemFeatures - -\r\n",
       "item\r\n",
       "}\r\n",
       "E6 *- - E11 [[psysml:372708ac-c185-450b-8b20-5b0e6796b1d2 ]] \r\n",
       "E11 o- - E12 [[psysml:db8ff6bb-65b2-44b6-939f-52bfaf067d5c ]] \r\n",
       "}\r\n",
       "@enduml\r\n",
       "\n",
       "PlantUML version 1.2020.13(Sat Jun 13 12:26:38 UTC 2020)\n",
       "(EPL source distribution)\n",
       "Java Runtime: OpenJDK Runtime Environment\n",
       "JVM: OpenJDK 64-Bit Server VM\n",
       "Default Encoding: UTF-8\n",
       "Language: en\n",
       "Country: null\n",
       "--></g></svg>"
      ]
     },
     "execution_count": 56,
     "metadata": {},
     "output_type": "execute_result"
    }
   ],
   "source": [
    "%viz --style=\"ORTHOLINE\" --view=\"Sequence\" \"StateTest\""
   ]
  },
  {
   "cell_type": "code",
   "execution_count": 57,
   "id": "confidential-short",
   "metadata": {
    "execution": {
     "iopub.execute_input": "2021-03-25T13:48:21.507191Z",
     "iopub.status.busy": "2021-03-25T13:48:21.506423Z",
     "iopub.status.idle": "2021-03-25T13:48:21.686461Z",
     "shell.execute_reply": "2021-03-25T13:48:21.684974Z"
    }
   },
   "outputs": [
    {
     "data": {
      "image/svg+xml": [
       "<?xml version=\"1.0\" encoding=\"UTF-8\" standalone=\"no\"?><svg xmlns=\"http://www.w3.org/2000/svg\" xmlns:xlink=\"http://www.w3.org/1999/xlink\" contentScriptType=\"application/ecmascript\" contentStyleType=\"text/css\" height=\"570px\" preserveAspectRatio=\"none\" style=\"width:819px;height:570px;\" version=\"1.1\" viewBox=\"0 0 819 570\" width=\"819px\" zoomAndPan=\"magnify\"><defs/><g><!--MD5=[fbc87193dbaf4d95561dea2c320d4a47]\n",
       "cluster E1--><a href=\"psysml:7751d53a-3d7b-46fc-b5d8-bf0ae3c7070c\" target=\"_top\" title=\"psysml:7751d53a-3d7b-46fc-b5d8-bf0ae3c7070c\" xlink:actuate=\"onRequest\" xlink:href=\"psysml:7751d53a-3d7b-46fc-b5d8-bf0ae3c7070c\" xlink:show=\"new\" xlink:title=\"psysml:7751d53a-3d7b-46fc-b5d8-bf0ae3c7070c\" xlink:type=\"simple\"><polygon fill=\"#FFFFFF\" points=\"16,6,98,6,105,28.2969,797,28.2969,797,558,16,558,16,6\" style=\"stroke: #000000; stroke-width: 1.5;\"/><line style=\"stroke: #000000; stroke-width: 1.5;\" x1=\"16\" x2=\"105\" y1=\"28.2969\" y2=\"28.2969\"/><text fill=\"#000000\" font-family=\"sans-serif\" font-size=\"14\" font-weight=\"bold\" lengthAdjust=\"spacingAndGlyphs\" textLength=\"76\" x=\"20\" y=\"20.9951\">StateTest</text></a><!--MD5=[14e3b0961a2654348d326746436168a1]\n",
       "cluster E6--><a href=\"psysml:6343fae7-e97a-4dac-816a-0d66812becae\" target=\"_top\" title=\"psysml:6343fae7-e97a-4dac-816a-0d66812becae\" xlink:actuate=\"onRequest\" xlink:href=\"psysml:6343fae7-e97a-4dac-816a-0d66812becae\" xlink:show=\"new\" xlink:title=\"psysml:6343fae7-e97a-4dac-816a-0d66812becae\" xlink:type=\"simple\"><rect fill=\"#FFFFFF\" height=\"485\" id=\"E6\" style=\"stroke: #383838; stroke-width: 1.5;\" width=\"327\" x=\"446\" y=\"49\"/><rect fill=\"#F8F8F8\" height=\"37.9375\" style=\"stroke: #383838; stroke-width: 1.5;\" width=\"327\" x=\"446\" y=\"49\"/><text fill=\"#000000\" font-family=\"sans-serif\" font-size=\"12\" font-style=\"italic\" lengthAdjust=\"spacingAndGlyphs\" textLength=\"71\" x=\"574\" y=\"65.1387\">«state def»</text><text fill=\"#000000\" font-family=\"sans-serif\" font-size=\"12\" lengthAdjust=\"spacingAndGlyphs\" textLength=\"8\" x=\"605.5\" y=\"79.1074\">S</text><line style=\"stroke: #383838; stroke-width: 1.0;\" x1=\"446\" x2=\"773\" y1=\"132.8438\" y2=\"132.8438\"/><text fill=\"#000000\" font-family=\"sans-serif\" font-size=\"12\" font-weight=\"bold\" lengthAdjust=\"spacingAndGlyphs\" textLength=\"38\" x=\"451\" y=\"100.0762\">entry</text><text fill=\"#000000\" font-family=\"sans-serif\" font-size=\"12\" lengthAdjust=\"spacingAndGlyphs\" textLength=\"16\" x=\"489\" y=\"100.0762\">/ A</text><text fill=\"#000000\" font-family=\"sans-serif\" font-size=\"12\" font-weight=\"bold\" lengthAdjust=\"spacingAndGlyphs\" textLength=\"18\" x=\"451\" y=\"114.0449\">do</text><text fill=\"#000000\" font-family=\"sans-serif\" font-size=\"12\" lengthAdjust=\"spacingAndGlyphs\" textLength=\"16\" x=\"469\" y=\"114.0449\">/ B</text><text fill=\"#000000\" font-family=\"sans-serif\" font-size=\"12\" font-weight=\"bold\" lengthAdjust=\"spacingAndGlyphs\" textLength=\"26\" x=\"451\" y=\"128.0137\">exit</text><text fill=\"#000000\" font-family=\"sans-serif\" font-size=\"12\" lengthAdjust=\"spacingAndGlyphs\" textLength=\"28\" x=\"477\" y=\"128.0137\">/ act</text></a><!--MD5=[b4997ac47864f28c2f74865a473b2911]\n",
       "class E2--><a href=\"psysml:85dbfb10-d456-4c59-a9e0-99da33bb7a4b\" target=\"_top\" title=\"psysml:85dbfb10-d456-4c59-a9e0-99da33bb7a4b\" xlink:actuate=\"onRequest\" xlink:href=\"psysml:85dbfb10-d456-4c59-a9e0-99da33bb7a4b\" xlink:show=\"new\" xlink:title=\"psysml:85dbfb10-d456-4c59-a9e0-99da33bb7a4b\" xlink:type=\"simple\"><rect fill=\"#FFFFFF\" height=\"75.5469\" id=\"E2\" style=\"stroke: #383838; stroke-width: 1.5;\" width=\"95\" x=\"334.5\" y=\"119\"/><text fill=\"#000000\" font-family=\"sans-serif\" font-size=\"12\" font-style=\"italic\" lengthAdjust=\"spacingAndGlyphs\" textLength=\"93\" x=\"335.5\" y=\"135.1387\">«attribute def»</text><text fill=\"#000000\" font-family=\"sans-serif\" font-size=\"12\" lengthAdjust=\"spacingAndGlyphs\" textLength=\"19\" x=\"372.5\" y=\"149.1074\">Sig</text><line style=\"stroke: #383838; stroke-width: 1.5;\" x1=\"335.5\" x2=\"428.5\" y1=\"156.9375\" y2=\"156.9375\"/><text fill=\"#000000\" font-family=\"sans-serif\" font-size=\"11\" lengthAdjust=\"spacingAndGlyphs\" textLength=\"6\" x=\"340.5\" y=\"187.9526\">x</text><line style=\"stroke: #383838; stroke-width: 1.0;\" x1=\"335.5\" x2=\"354.5\" y1=\"171.3398\" y2=\"171.3398\"/><text fill=\"#000000\" font-family=\"sans-serif\" font-size=\"11\" lengthAdjust=\"spacingAndGlyphs\" textLength=\"55\" x=\"354.5\" y=\"174.6479\">attributes</text><line style=\"stroke: #383838; stroke-width: 1.0;\" x1=\"409.5\" x2=\"428.5\" y1=\"171.3398\" y2=\"171.3398\"/></a><!--MD5=[09b614a08d8cba4a07c9adeb5e0fee81]\n",
       "class E3--><a href=\"psysml:06ed69bb-03e4-455b-a820-630d0564221d\" target=\"_top\" title=\"psysml:06ed69bb-03e4-455b-a820-630d0564221d\" xlink:actuate=\"onRequest\" xlink:href=\"psysml:06ed69bb-03e4-455b-a820-630d0564221d\" xlink:show=\"new\" xlink:title=\"psysml:06ed69bb-03e4-455b-a820-630d0564221d\" xlink:type=\"simple\"><rect fill=\"#FFFFFF\" height=\"45.9375\" id=\"E3\" style=\"stroke: #383838; stroke-width: 1.5;\" width=\"95\" x=\"204.5\" y=\"134\"/><text fill=\"#000000\" font-family=\"sans-serif\" font-size=\"12\" font-style=\"italic\" lengthAdjust=\"spacingAndGlyphs\" textLength=\"93\" x=\"205.5\" y=\"150.1387\">«attribute def»</text><text fill=\"#000000\" font-family=\"sans-serif\" font-size=\"12\" lengthAdjust=\"spacingAndGlyphs\" textLength=\"22\" x=\"241\" y=\"164.1074\">Exit</text><line style=\"stroke: #383838; stroke-width: 1.5;\" x1=\"205.5\" x2=\"298.5\" y1=\"171.9375\" y2=\"171.9375\"/></a><!--MD5=[ebbe1d658d1005bcc118a6aa81145e00]\n",
       "class E4--><a href=\"psysml:f6292196-12b9-4bba-a758-98820cb4f3f5\" target=\"_top\" title=\"psysml:f6292196-12b9-4bba-a758-98820cb4f3f5\" xlink:actuate=\"onRequest\" xlink:href=\"psysml:f6292196-12b9-4bba-a758-98820cb4f3f5\" xlink:show=\"new\" xlink:title=\"psysml:f6292196-12b9-4bba-a758-98820cb4f3f5\" xlink:type=\"simple\"><rect fill=\"#FFFFFF\" height=\"45.9375\" id=\"E4\" rx=\"10\" ry=\"10\" style=\"stroke: #383838; stroke-width: 1.5;\" width=\"42\" x=\"127\" y=\"134\"/><text fill=\"#000000\" font-family=\"sans-serif\" font-size=\"12\" font-style=\"italic\" lengthAdjust=\"spacingAndGlyphs\" textLength=\"40\" x=\"128\" y=\"150.1387\">«part»</text><text fill=\"#000000\" font-family=\"sans-serif\" font-size=\"12\" lengthAdjust=\"spacingAndGlyphs\" textLength=\"8\" x=\"144\" y=\"164.1074\">p</text><line style=\"stroke: #383838; stroke-width: 1.5;\" x1=\"128\" x2=\"168\" y1=\"171.9375\" y2=\"171.9375\"/></a><g id=\"E1.E5\"><a href=\"psysml:d7bec2b6-e32c-41d0-a208-370a3f1c18c8\" target=\"_top\" title=\"psysml:d7bec2b6-e32c-41d0-a208-370a3f1c18c8\" xlink:actuate=\"onRequest\" xlink:href=\"psysml:d7bec2b6-e32c-41d0-a208-370a3f1c18c8\" xlink:show=\"new\" xlink:title=\"psysml:d7bec2b6-e32c-41d0-a208-370a3f1c18c8\" xlink:type=\"simple\"><rect fill=\"#FFFFFF\" height=\"42.9375\" id=\"E5\" rx=\"10\" ry=\"10\" style=\"stroke: #383838; stroke-width: 1.5;\" width=\"60\" x=\"32\" y=\"135.5\"/><rect fill=\"#F8F8F8\" height=\"37.9375\" rx=\"10\" ry=\"10\" style=\"stroke: #F8F8F8; stroke-width: 1.5;\" width=\"60\" x=\"32\" y=\"135.5\"/><rect fill=\"#F8F8F8\" height=\"10\" style=\"stroke: #F8F8F8; stroke-width: 1.5;\" width=\"60\" x=\"32\" y=\"163.4375\"/><rect fill=\"none\" height=\"42.9375\" id=\"E5\" rx=\"10\" ry=\"10\" style=\"stroke: #383838; stroke-width: 1.5;\" width=\"60\" x=\"32\" y=\"135.5\"/><text fill=\"#000000\" font-family=\"sans-serif\" font-size=\"12\" font-style=\"italic\" lengthAdjust=\"spacingAndGlyphs\" textLength=\"53\" x=\"35.5\" y=\"151.6387\">«action»</text><text fill=\"#000000\" font-family=\"sans-serif\" font-size=\"12\" lengthAdjust=\"spacingAndGlyphs\" textLength=\"20\" x=\"52\" y=\"165.6074\">act</text></a></g><ellipse cx=\"558\" cy=\"157\" fill=\"#000000\" rx=\"10\" ry=\"10\" style=\"stroke: none; stroke-width: 1.0;\"/><ellipse cx=\"558\" cy=\"508\" fill=\"none\" rx=\"10\" ry=\"10\" style=\"stroke: #000000; stroke-width: 1.0;\"/><ellipse cx=\"558.5\" cy=\"508.5\" fill=\"#000000\" rx=\"6\" ry=\"6\" style=\"stroke: none; stroke-width: 1.0;\"/><g id=\"E1.E6.E7\"><a href=\"psysml:df9bf7b7-ea8a-42e1-9b23-b8091030681c\" target=\"_top\" title=\"psysml:df9bf7b7-ea8a-42e1-9b23-b8091030681c\" xlink:actuate=\"onRequest\" xlink:href=\"psysml:df9bf7b7-ea8a-42e1-9b23-b8091030681c\" xlink:show=\"new\" xlink:title=\"psysml:df9bf7b7-ea8a-42e1-9b23-b8091030681c\" xlink:type=\"simple\"><rect fill=\"#FFFFFF\" height=\"40\" id=\"E7\" rx=\"10\" ry=\"10\" style=\"stroke: #383838; stroke-width: 1.5;\" width=\"50\" x=\"533\" y=\"256\"/><rect fill=\"#F8F8F8\" height=\"23.9688\" rx=\"10\" ry=\"10\" style=\"stroke: #F8F8F8; stroke-width: 1.5;\" width=\"50\" x=\"533\" y=\"256\"/><rect fill=\"#F8F8F8\" height=\"10\" style=\"stroke: #F8F8F8; stroke-width: 1.5;\" width=\"50\" x=\"533\" y=\"269.9688\"/><rect fill=\"none\" height=\"40\" id=\"E7\" rx=\"10\" ry=\"10\" style=\"stroke: #383838; stroke-width: 1.5;\" width=\"50\" x=\"533\" y=\"256\"/><text fill=\"#000000\" font-family=\"sans-serif\" font-size=\"12\" lengthAdjust=\"spacingAndGlyphs\" textLength=\"16\" x=\"550\" y=\"272.1387\">S1</text></a></g><g id=\"E1.E6.E8\"><a href=\"psysml:372708ac-c185-450b-8b20-5b0e6796b1d2\" target=\"_top\" title=\"psysml:372708ac-c185-450b-8b20-5b0e6796b1d2\" xlink:actuate=\"onRequest\" xlink:href=\"psysml:372708ac-c185-450b-8b20-5b0e6796b1d2\" xlink:show=\"new\" xlink:title=\"psysml:372708ac-c185-450b-8b20-5b0e6796b1d2\" xlink:type=\"simple\"><rect fill=\"#FFFFFF\" height=\"47.9375\" id=\"E8\" rx=\"10\" ry=\"10\" style=\"stroke: #383838; stroke-width: 1.5;\" width=\"50\" x=\"533\" y=\"373\"/><rect fill=\"#F8F8F8\" height=\"23.9688\" rx=\"10\" ry=\"10\" style=\"stroke: #F8F8F8; stroke-width: 1.5;\" width=\"50\" x=\"533\" y=\"373\"/><rect fill=\"#F8F8F8\" height=\"10\" style=\"stroke: #F8F8F8; stroke-width: 1.5;\" width=\"50\" x=\"533\" y=\"386.9688\"/><rect fill=\"none\" height=\"47.9375\" id=\"E8\" rx=\"10\" ry=\"10\" style=\"stroke: #383838; stroke-width: 1.5;\" width=\"50\" x=\"533\" y=\"373\"/><text fill=\"#000000\" font-family=\"sans-serif\" font-size=\"12\" lengthAdjust=\"spacingAndGlyphs\" textLength=\"16\" x=\"550\" y=\"389.1387\">S2</text><line style=\"stroke: #383838; stroke-width: 1.0;\" x1=\"533\" x2=\"583\" y1=\"396.9688\" y2=\"396.9688\"/><text fill=\"#000000\" font-family=\"sans-serif\" font-size=\"12\" font-weight=\"bold\" lengthAdjust=\"spacingAndGlyphs\" textLength=\"18\" x=\"538\" y=\"410.1074\">do</text><text fill=\"#000000\" font-family=\"sans-serif\" font-size=\"12\" lengthAdjust=\"spacingAndGlyphs\" textLength=\"4\" x=\"556\" y=\"410.1074\">/</text></a></g><!--MD5=[5a531d3a85f3339e6e197084acb48195]\n",
       "link *start*E6 to E7--><a href=\"psysml:63e0b6b5-21d2-46c8-92d5-87e224212dbf\" target=\"_top\" title=\"psysml:63e0b6b5-21d2-46c8-92d5-87e224212dbf\" xlink:actuate=\"onRequest\" xlink:href=\"psysml:63e0b6b5-21d2-46c8-92d5-87e224212dbf\" xlink:show=\"new\" xlink:title=\"psysml:63e0b6b5-21d2-46c8-92d5-87e224212dbf\" xlink:type=\"simple\"><path d=\"M558,167.15 C558,167.15 558,250.67 558,250.67 \" fill=\"none\" id=\"*start*E6-&gt;E7\" style=\"stroke: #383838; stroke-width: 1.0;\"/><polygon fill=\"#383838\" points=\"558,255.67,562,246.67,558,250.67,554,246.67,558,255.67\" style=\"stroke: #383838; stroke-width: 1.0;\"/></a><!--MD5=[7ec9a8babba89ddcae1318ca9fb3c814]\n",
       "link E8 to *end*E6--><a href=\"psysml:60b88d5b-1ac8-4d6b-b052-bf1a623237b5\" target=\"_top\" title=\"psysml:60b88d5b-1ac8-4d6b-b052-bf1a623237b5\" xlink:actuate=\"onRequest\" xlink:href=\"psysml:60b88d5b-1ac8-4d6b-b052-bf1a623237b5\" xlink:show=\"new\" xlink:title=\"psysml:60b88d5b-1ac8-4d6b-b052-bf1a623237b5\" xlink:type=\"simple\"><path d=\"M558,421.09 C558,421.09 558,492.94 558,492.94 \" fill=\"none\" id=\"E8-&gt;*end*E6\" style=\"stroke: #383838; stroke-width: 1.0;\"/><polygon fill=\"#383838\" points=\"558,497.94,562,488.94,558,492.94,554,488.94,558,497.94\" style=\"stroke: #383838; stroke-width: 1.0;\"/><text fill=\"#000000\" font-family=\"sans-serif\" font-size=\"13\" lengthAdjust=\"spacingAndGlyphs\" textLength=\"23\" x=\"559\" y=\"464.0669\">Exit</text></a><!--MD5=[79bc8f324ef4d02c541433f2e6e513c3]\n",
       "link E7 to E8--><a href=\"psysml:b9f5e72d-c680-433c-ba5c-575fc587f4f3\" target=\"_top\" title=\"psysml:b9f5e72d-c680-433c-ba5c-575fc587f4f3\" xlink:actuate=\"onRequest\" xlink:href=\"psysml:b9f5e72d-c680-433c-ba5c-575fc587f4f3\" xlink:show=\"new\" xlink:title=\"psysml:b9f5e72d-c680-433c-ba5c-575fc587f4f3\" xlink:type=\"simple\"><path d=\"M549.67,296.25 C549.67,296.25 549.67,367.93 549.67,367.93 \" fill=\"none\" id=\"E7-&gt;E8\" style=\"stroke: #383838; stroke-width: 1.0;\"/><polygon fill=\"#383838\" points=\"549.67,372.93,553.67,363.93,549.67,367.93,545.67,363.93,549.67,372.93\" style=\"stroke: #383838; stroke-width: 1.0;\"/><text fill=\"#000000\" font-family=\"sans-serif\" font-size=\"13\" lengthAdjust=\"spacingAndGlyphs\" textLength=\"81\" x=\"498\" y=\"339.0669\">Sig /action D</text></a><!--MD5=[bfa3c8b0d15052fdf50ae9310b491027]\n",
       "link E8 to E7--><a href=\"psysml:8fe1fd83-9e96-4978-be75-1a7ead5c4a85\" target=\"_top\" title=\"psysml:8fe1fd83-9e96-4978-be75-1a7ead5c4a85\" xlink:actuate=\"onRequest\" xlink:href=\"psysml:8fe1fd83-9e96-4978-be75-1a7ead5c4a85\" xlink:show=\"new\" xlink:title=\"psysml:8fe1fd83-9e96-4978-be75-1a7ead5c4a85\" xlink:type=\"simple\"><path d=\"M566.33,372.8 C566.33,372.8 566.33,301.14 566.33,301.14 \" fill=\"none\" id=\"E8-&gt;E7\" style=\"stroke: #383838; stroke-width: 1.0;\"/><polygon fill=\"#383838\" points=\"566.33,296.14,562.33,305.14,566.33,301.14,570.33,305.14,566.33,296.14\" style=\"stroke: #383838; stroke-width: 1.0;\"/><text fill=\"#000000\" font-family=\"sans-serif\" font-size=\"13\" lengthAdjust=\"spacingAndGlyphs\" textLength=\"135\" x=\"621\" y=\"339.0669\">Sig [true]/send s to p</text></a><!--MD5=[9ab9f0fe1b358fd9c3d0cde24bbf89be]\n",
       "@startuml\r\n",
       "skinparam linetype ortho\r\n",
       "skinparam monochrome true\r\n",
       "skinparam classbackgroundcolor white\r\n",
       "skinparam shadowing false\r\n",
       "skinparam wrapWidth 300\r\n",
       "hide circle\r\n",
       "\r\n",
       "package \"StateTest\" as E1  [[psysml:7751d53a-3d7b-46fc-b5d8-bf0ae3c7070c ]]  {\r\n",
       "comp def \"Sig\" as E2  <<(T,blue)attribute def>> [[psysml:85dbfb10-d456-4c59-a9e0-99da33bb7a4b ]] {\r\n",
       "- - attributes - -\r\n",
       "x\r\n",
       "}\r\n",
       "comp def \"Exit\" as E3  <<(T,blue)attribute def>> [[psysml:06ed69bb-03e4-455b-a820-630d0564221d ]] {\r\n",
       "}\r\n",
       "comp usage \"p\" as E4  <<(T,blue)part>> [[psysml:f6292196-12b9-4bba-a758-98820cb4f3f5 ]] {\r\n",
       "}\r\n",
       "rec usage \"act\" as E5  <<(T,blue)action>> [[psysml:d7bec2b6-e32c-41d0-a208-370a3f1c18c8 ]] {\r\n",
       "}\r\n",
       "\r\n",
       "rec def \"S\" as E6  <<(T,blue)state def>> [[psysml:6343fae7-e97a-4dac-816a-0d66812becae ]] {\r\n",
       "rec usage \"S1\" as E7 [[psysml:df9bf7b7-ea8a-42e1-9b23-b8091030681c ]] {\r\n",
       "}\r\n",
       "\r\n",
       "rec usage \"S2\" as E8 [[psysml:372708ac-c185-450b-8b20-5b0e6796b1d2 ]] {\r\n",
       "desc \"S2\" as E8  : **do**/ \r\n",
       "}\r\n",
       "\r\n",
       "[*] - -> E7 [[psysml:63e0b6b5-21d2-46c8-92d5-87e224212dbf ]] \r\n",
       "E8  - -> [*] [[psysml:60b88d5b-1ac8-4d6b-b052-bf1a623237b5 ]] : Exit \r\n",
       "desc \"S\" as E6  : **entry**/ A\r\n",
       "desc \"S\" as E6  : **do**/ B\r\n",
       "desc \"S\" as E6  : **exit**/ act \r\n",
       "}\r\n",
       "\r\n",
       "E7  - -> E8 [[psysml:b9f5e72d-c680-433c-ba5c-575fc587f4f3 ]] : Sig /action D\r\n",
       "E8  - -> E7 [[psysml:8fe1fd83-9e96-4978-be75-1a7ead5c4a85 ]] : Sig [true]/send s to p\r\n",
       "}\r\n",
       "@enduml\r\n",
       "\n",
       "PlantUML version 1.2020.13(Sat Jun 13 12:26:38 UTC 2020)\n",
       "(EPL source distribution)\n",
       "Java Runtime: OpenJDK Runtime Environment\n",
       "JVM: OpenJDK 64-Bit Server VM\n",
       "Default Encoding: UTF-8\n",
       "Language: en\n",
       "Country: null\n",
       "--></g></svg>"
      ]
     },
     "execution_count": 57,
     "metadata": {},
     "output_type": "execute_result"
    }
   ],
   "source": [
    "%viz --style=\"ORTHOLINE\" --view=\"MIXED\" \"StateTest\""
   ]
  }
 ],
 "metadata": {
  "kernelspec": {
   "display_name": "SysML",
   "language": "sysml",
   "name": "sysml"
  },
  "language_info": {
   "codemirror_mode": "sysml",
   "file_extension": ".sysml",
   "mimetype": "text/x-sysml",
   "name": "SysML",
   "pygments_lexer": "java",
   "version": "1.0.0"
  }
 },
 "nbformat": 4,
 "nbformat_minor": 5
}
