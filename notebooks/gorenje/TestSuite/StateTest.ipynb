{
 "cells": [
  {
   "cell_type": "markdown",
   "id": "28a642c1",
   "metadata": {},
   "source": [
    "# SysML v2 Test Suite\n",
    "\n",
    "This can notebook can be cleared using menu `Edit --> Clear All Outputs` and then all cells can be\n",
    "run using menu `Run --> Run All Cells`.\n",
    "\n",
    "**WARNING**: This file is generated, all modifications here will be ignored.\n"
   ]
  },
  {
   "cell_type": "markdown",
   "id": "d09cb89c",
   "metadata": {},
   "source": [
    "## File: ../../sysml/src/examples/Simple Tests/StateTest.sysml"
   ]
  },
  {
   "cell_type": "code",
   "execution_count": 1,
   "id": "5e10d5f9",
   "metadata": {
    "execution": {
     "iopub.execute_input": "2021-04-21T20:23:38.141091Z",
     "iopub.status.busy": "2021-04-21T20:23:38.140117Z",
     "iopub.status.idle": "2021-04-21T20:23:39.122800Z",
     "shell.execute_reply": "2021-04-21T20:23:39.121889Z"
    }
   },
   "outputs": [
    {
     "data": {
      "text/plain": [
       "Package StateTest (cba9e340-7e95-494d-94a3-572b3394cecb)\n"
      ]
     },
     "execution_count": 1,
     "metadata": {},
     "output_type": "execute_result"
    }
   ],
   "source": [
    "package StateTest {\n",
    "\tattribute def Sig {\n",
    "\t\tx;\n",
    "\t}\n",
    "\tattribute def Exit;\n",
    "\t\n",
    "\tpart p;\n",
    "\t\n",
    "\taction act;\n",
    "\t\n",
    "\tstate def S {\n",
    "\t\tentry action A; then S1;\n",
    "\t\tdo action B;\n",
    "\t\texit act;\n",
    "\t\t\n",
    "\t\tstate S1;\n",
    "\t\t\n",
    "\t\tstate S2 {\n",
    "\t\t\tdo send Sig(T::s::x) to p;\n",
    "\t\t}\n",
    "\t\taccept Exit then done;\n",
    "\t\t\n",
    "\t\ttransition\n",
    "\t\t\tfirst S1\n",
    "\t\t\taccept s : Sig\n",
    "\t\t\tdo action D\n",
    "\t\t\tthen S2;\n",
    "\t\t\n",
    "\t\ttransition T\n",
    "\t\t\tfirst S2\n",
    "\t\t\taccept s : Sig\n",
    "\t\t\tif true\n",
    "\t\t\tdo send s to p\n",
    "\t\t\tthen S1;\t\t\n",
    "\t}\n",
    "}"
   ]
  },
  {
   "cell_type": "code",
   "execution_count": 2,
   "id": "cfb40903",
   "metadata": {
    "execution": {
     "iopub.execute_input": "2021-04-21T20:23:39.174384Z",
     "iopub.status.busy": "2021-04-21T20:23:39.173952Z",
     "iopub.status.idle": "2021-04-21T20:23:40.015868Z",
     "shell.execute_reply": "2021-04-21T20:23:40.015354Z"
    }
   },
   "outputs": [
    {
     "data": {
      "image/svg+xml": [
       "<?xml version=\"1.0\" encoding=\"UTF-8\" standalone=\"no\"?><svg xmlns=\"http://www.w3.org/2000/svg\" xmlns:xlink=\"http://www.w3.org/1999/xlink\" contentScriptType=\"application/ecmascript\" contentStyleType=\"text/css\" height=\"570px\" preserveAspectRatio=\"none\" style=\"width:819px;height:570px;\" version=\"1.1\" viewBox=\"0 0 819 570\" width=\"819px\" zoomAndPan=\"magnify\"><defs/><g><!--MD5=[fbc87193dbaf4d95561dea2c320d4a47]\n",
       "cluster E1--><a href=\"psysml:800f45c9-cf5c-46ce-b3c3-487778cd6319\" target=\"_top\" title=\"psysml:800f45c9-cf5c-46ce-b3c3-487778cd6319\" xlink:actuate=\"onRequest\" xlink:href=\"psysml:800f45c9-cf5c-46ce-b3c3-487778cd6319\" xlink:show=\"new\" xlink:title=\"psysml:800f45c9-cf5c-46ce-b3c3-487778cd6319\" xlink:type=\"simple\"><polygon fill=\"#FFFFFF\" points=\"16,6,98,6,105,28.2969,797,28.2969,797,558,16,558,16,6\" style=\"stroke: #000000; stroke-width: 1.5;\"/><line style=\"stroke: #000000; stroke-width: 1.5;\" x1=\"16\" x2=\"105\" y1=\"28.2969\" y2=\"28.2969\"/><text fill=\"#000000\" font-family=\"sans-serif\" font-size=\"14\" font-weight=\"bold\" lengthAdjust=\"spacingAndGlyphs\" textLength=\"76\" x=\"20\" y=\"20.9951\">StateTest</text></a><!--MD5=[14e3b0961a2654348d326746436168a1]\n",
       "cluster E6--><a href=\"psysml:f2a66a23-1197-47ed-b1bd-74e1ad61d6fd\" target=\"_top\" title=\"psysml:f2a66a23-1197-47ed-b1bd-74e1ad61d6fd\" xlink:actuate=\"onRequest\" xlink:href=\"psysml:f2a66a23-1197-47ed-b1bd-74e1ad61d6fd\" xlink:show=\"new\" xlink:title=\"psysml:f2a66a23-1197-47ed-b1bd-74e1ad61d6fd\" xlink:type=\"simple\"><rect fill=\"#FFFFFF\" height=\"485\" id=\"E6\" style=\"stroke: #383838; stroke-width: 1.5;\" width=\"327\" x=\"446\" y=\"49\"/><rect fill=\"#F8F8F8\" height=\"37.9375\" style=\"stroke: #383838; stroke-width: 1.5;\" width=\"327\" x=\"446\" y=\"49\"/><text fill=\"#000000\" font-family=\"sans-serif\" font-size=\"12\" font-style=\"italic\" lengthAdjust=\"spacingAndGlyphs\" textLength=\"71\" x=\"574\" y=\"65.1387\">«state def»</text><text fill=\"#000000\" font-family=\"sans-serif\" font-size=\"12\" lengthAdjust=\"spacingAndGlyphs\" textLength=\"8\" x=\"605.5\" y=\"79.1074\">S</text><line style=\"stroke: #383838; stroke-width: 1.0;\" x1=\"446\" x2=\"773\" y1=\"132.8438\" y2=\"132.8438\"/><text fill=\"#000000\" font-family=\"sans-serif\" font-size=\"12\" font-weight=\"bold\" lengthAdjust=\"spacingAndGlyphs\" textLength=\"38\" x=\"451\" y=\"100.0762\">entry</text><text fill=\"#000000\" font-family=\"sans-serif\" font-size=\"12\" lengthAdjust=\"spacingAndGlyphs\" textLength=\"16\" x=\"489\" y=\"100.0762\">/ A</text><text fill=\"#000000\" font-family=\"sans-serif\" font-size=\"12\" font-weight=\"bold\" lengthAdjust=\"spacingAndGlyphs\" textLength=\"18\" x=\"451\" y=\"114.0449\">do</text><text fill=\"#000000\" font-family=\"sans-serif\" font-size=\"12\" lengthAdjust=\"spacingAndGlyphs\" textLength=\"16\" x=\"469\" y=\"114.0449\">/ B</text><text fill=\"#000000\" font-family=\"sans-serif\" font-size=\"12\" font-weight=\"bold\" lengthAdjust=\"spacingAndGlyphs\" textLength=\"26\" x=\"451\" y=\"128.0137\">exit</text><text fill=\"#000000\" font-family=\"sans-serif\" font-size=\"12\" lengthAdjust=\"spacingAndGlyphs\" textLength=\"28\" x=\"477\" y=\"128.0137\">/ act</text></a><!--MD5=[b4997ac47864f28c2f74865a473b2911]\n",
       "class E2--><a href=\"psysml:f1048496-f45f-4de3-be42-17169da36fba\" target=\"_top\" title=\"psysml:f1048496-f45f-4de3-be42-17169da36fba\" xlink:actuate=\"onRequest\" xlink:href=\"psysml:f1048496-f45f-4de3-be42-17169da36fba\" xlink:show=\"new\" xlink:title=\"psysml:f1048496-f45f-4de3-be42-17169da36fba\" xlink:type=\"simple\"><rect fill=\"#FFFFFF\" height=\"75.5469\" id=\"E2\" style=\"stroke: #383838; stroke-width: 1.5;\" width=\"95\" x=\"334.5\" y=\"119\"/><text fill=\"#000000\" font-family=\"sans-serif\" font-size=\"12\" font-style=\"italic\" lengthAdjust=\"spacingAndGlyphs\" textLength=\"93\" x=\"335.5\" y=\"135.1387\">«attribute def»</text><text fill=\"#000000\" font-family=\"sans-serif\" font-size=\"12\" lengthAdjust=\"spacingAndGlyphs\" textLength=\"19\" x=\"372.5\" y=\"149.1074\">Sig</text><line style=\"stroke: #383838; stroke-width: 1.5;\" x1=\"335.5\" x2=\"428.5\" y1=\"156.9375\" y2=\"156.9375\"/><text fill=\"#000000\" font-family=\"sans-serif\" font-size=\"11\" lengthAdjust=\"spacingAndGlyphs\" textLength=\"6\" x=\"340.5\" y=\"187.9526\">x</text><line style=\"stroke: #383838; stroke-width: 1.0;\" x1=\"335.5\" x2=\"354.5\" y1=\"171.3398\" y2=\"171.3398\"/><text fill=\"#000000\" font-family=\"sans-serif\" font-size=\"11\" lengthAdjust=\"spacingAndGlyphs\" textLength=\"55\" x=\"354.5\" y=\"174.6479\">attributes</text><line style=\"stroke: #383838; stroke-width: 1.0;\" x1=\"409.5\" x2=\"428.5\" y1=\"171.3398\" y2=\"171.3398\"/></a><!--MD5=[09b614a08d8cba4a07c9adeb5e0fee81]\n",
       "class E3--><a href=\"psysml:546c6a0a-79ca-4224-b50a-77e407cae485\" target=\"_top\" title=\"psysml:546c6a0a-79ca-4224-b50a-77e407cae485\" xlink:actuate=\"onRequest\" xlink:href=\"psysml:546c6a0a-79ca-4224-b50a-77e407cae485\" xlink:show=\"new\" xlink:title=\"psysml:546c6a0a-79ca-4224-b50a-77e407cae485\" xlink:type=\"simple\"><rect fill=\"#FFFFFF\" height=\"45.9375\" id=\"E3\" style=\"stroke: #383838; stroke-width: 1.5;\" width=\"95\" x=\"204.5\" y=\"134\"/><text fill=\"#000000\" font-family=\"sans-serif\" font-size=\"12\" font-style=\"italic\" lengthAdjust=\"spacingAndGlyphs\" textLength=\"93\" x=\"205.5\" y=\"150.1387\">«attribute def»</text><text fill=\"#000000\" font-family=\"sans-serif\" font-size=\"12\" lengthAdjust=\"spacingAndGlyphs\" textLength=\"22\" x=\"241\" y=\"164.1074\">Exit</text><line style=\"stroke: #383838; stroke-width: 1.5;\" x1=\"205.5\" x2=\"298.5\" y1=\"171.9375\" y2=\"171.9375\"/></a><!--MD5=[ebbe1d658d1005bcc118a6aa81145e00]\n",
       "class E4--><a href=\"psysml:4710131f-7c31-45d9-a6fe-10a60fc8490a\" target=\"_top\" title=\"psysml:4710131f-7c31-45d9-a6fe-10a60fc8490a\" xlink:actuate=\"onRequest\" xlink:href=\"psysml:4710131f-7c31-45d9-a6fe-10a60fc8490a\" xlink:show=\"new\" xlink:title=\"psysml:4710131f-7c31-45d9-a6fe-10a60fc8490a\" xlink:type=\"simple\"><rect fill=\"#FFFFFF\" height=\"45.9375\" id=\"E4\" rx=\"10\" ry=\"10\" style=\"stroke: #383838; stroke-width: 1.5;\" width=\"42\" x=\"127\" y=\"134\"/><text fill=\"#000000\" font-family=\"sans-serif\" font-size=\"12\" font-style=\"italic\" lengthAdjust=\"spacingAndGlyphs\" textLength=\"40\" x=\"128\" y=\"150.1387\">«part»</text><text fill=\"#000000\" font-family=\"sans-serif\" font-size=\"12\" lengthAdjust=\"spacingAndGlyphs\" textLength=\"8\" x=\"144\" y=\"164.1074\">p</text><line style=\"stroke: #383838; stroke-width: 1.5;\" x1=\"128\" x2=\"168\" y1=\"171.9375\" y2=\"171.9375\"/></a><g id=\"E1.E5\"><a href=\"psysml:0b92cdb5-3694-4434-adff-e0b2149bd4e6\" target=\"_top\" title=\"psysml:0b92cdb5-3694-4434-adff-e0b2149bd4e6\" xlink:actuate=\"onRequest\" xlink:href=\"psysml:0b92cdb5-3694-4434-adff-e0b2149bd4e6\" xlink:show=\"new\" xlink:title=\"psysml:0b92cdb5-3694-4434-adff-e0b2149bd4e6\" xlink:type=\"simple\"><rect fill=\"#FFFFFF\" height=\"42.9375\" id=\"E5\" rx=\"10\" ry=\"10\" style=\"stroke: #383838; stroke-width: 1.5;\" width=\"60\" x=\"32\" y=\"135.5\"/><rect fill=\"#F8F8F8\" height=\"37.9375\" rx=\"10\" ry=\"10\" style=\"stroke: #F8F8F8; stroke-width: 1.5;\" width=\"60\" x=\"32\" y=\"135.5\"/><rect fill=\"#F8F8F8\" height=\"10\" style=\"stroke: #F8F8F8; stroke-width: 1.5;\" width=\"60\" x=\"32\" y=\"163.4375\"/><rect fill=\"none\" height=\"42.9375\" id=\"E5\" rx=\"10\" ry=\"10\" style=\"stroke: #383838; stroke-width: 1.5;\" width=\"60\" x=\"32\" y=\"135.5\"/><text fill=\"#000000\" font-family=\"sans-serif\" font-size=\"12\" font-style=\"italic\" lengthAdjust=\"spacingAndGlyphs\" textLength=\"53\" x=\"35.5\" y=\"151.6387\">«action»</text><text fill=\"#000000\" font-family=\"sans-serif\" font-size=\"12\" lengthAdjust=\"spacingAndGlyphs\" textLength=\"20\" x=\"52\" y=\"165.6074\">act</text></a></g><ellipse cx=\"558\" cy=\"157\" fill=\"#000000\" rx=\"10\" ry=\"10\" style=\"stroke: none; stroke-width: 1.0;\"/><ellipse cx=\"583\" cy=\"508\" fill=\"none\" rx=\"10\" ry=\"10\" style=\"stroke: #000000; stroke-width: 1.0;\"/><ellipse cx=\"583.5\" cy=\"508.5\" fill=\"#000000\" rx=\"6\" ry=\"6\" style=\"stroke: none; stroke-width: 1.0;\"/><g id=\"E1.E6.E7\"><a href=\"psysml:0ffea2c5-2698-4589-991c-94f7ac5b0395\" target=\"_top\" title=\"psysml:0ffea2c5-2698-4589-991c-94f7ac5b0395\" xlink:actuate=\"onRequest\" xlink:href=\"psysml:0ffea2c5-2698-4589-991c-94f7ac5b0395\" xlink:show=\"new\" xlink:title=\"psysml:0ffea2c5-2698-4589-991c-94f7ac5b0395\" xlink:type=\"simple\"><rect fill=\"#FFFFFF\" height=\"40\" id=\"E7\" rx=\"10\" ry=\"10\" style=\"stroke: #383838; stroke-width: 1.5;\" width=\"50\" x=\"533\" y=\"256\"/><rect fill=\"#F8F8F8\" height=\"23.9688\" rx=\"10\" ry=\"10\" style=\"stroke: #F8F8F8; stroke-width: 1.5;\" width=\"50\" x=\"533\" y=\"256\"/><rect fill=\"#F8F8F8\" height=\"10\" style=\"stroke: #F8F8F8; stroke-width: 1.5;\" width=\"50\" x=\"533\" y=\"269.9688\"/><rect fill=\"none\" height=\"40\" id=\"E7\" rx=\"10\" ry=\"10\" style=\"stroke: #383838; stroke-width: 1.5;\" width=\"50\" x=\"533\" y=\"256\"/><text fill=\"#000000\" font-family=\"sans-serif\" font-size=\"12\" lengthAdjust=\"spacingAndGlyphs\" textLength=\"16\" x=\"550\" y=\"272.1387\">S1</text></a></g><g id=\"E1.E6.E8\"><a href=\"psysml:f6369ddf-93b2-4791-a9ee-7d090a7e6258\" target=\"_top\" title=\"psysml:f6369ddf-93b2-4791-a9ee-7d090a7e6258\" xlink:actuate=\"onRequest\" xlink:href=\"psysml:f6369ddf-93b2-4791-a9ee-7d090a7e6258\" xlink:show=\"new\" xlink:title=\"psysml:f6369ddf-93b2-4791-a9ee-7d090a7e6258\" xlink:type=\"simple\"><rect fill=\"#FFFFFF\" height=\"47.9375\" id=\"E8\" rx=\"10\" ry=\"10\" style=\"stroke: #383838; stroke-width: 1.5;\" width=\"169\" x=\"498.5\" y=\"373\"/><rect fill=\"#F8F8F8\" height=\"23.9688\" rx=\"10\" ry=\"10\" style=\"stroke: #F8F8F8; stroke-width: 1.5;\" width=\"169\" x=\"498.5\" y=\"373\"/><rect fill=\"#F8F8F8\" height=\"10\" style=\"stroke: #F8F8F8; stroke-width: 1.5;\" width=\"169\" x=\"498.5\" y=\"386.9688\"/><rect fill=\"none\" height=\"47.9375\" id=\"E8\" rx=\"10\" ry=\"10\" style=\"stroke: #383838; stroke-width: 1.5;\" width=\"169\" x=\"498.5\" y=\"373\"/><text fill=\"#000000\" font-family=\"sans-serif\" font-size=\"12\" lengthAdjust=\"spacingAndGlyphs\" textLength=\"16\" x=\"575\" y=\"389.1387\">S2</text><line style=\"stroke: #383838; stroke-width: 1.0;\" x1=\"498.5\" x2=\"667.5\" y1=\"396.9688\" y2=\"396.9688\"/><text fill=\"#000000\" font-family=\"sans-serif\" font-size=\"12\" font-weight=\"bold\" lengthAdjust=\"spacingAndGlyphs\" textLength=\"18\" x=\"503.5\" y=\"410.1074\">do</text><text fill=\"#000000\" font-family=\"sans-serif\" font-size=\"12\" lengthAdjust=\"spacingAndGlyphs\" textLength=\"141\" x=\"521.5\" y=\"410.1074\">/  send Sig(T::s::x) to p</text></a></g><!--MD5=[5a531d3a85f3339e6e197084acb48195]\n",
       "link *start*E6 to E7--><a href=\"psysml:3d6f6111-a5f0-4f07-bf0a-543b5052b3c3\" target=\"_top\" title=\"psysml:3d6f6111-a5f0-4f07-bf0a-543b5052b3c3\" xlink:actuate=\"onRequest\" xlink:href=\"psysml:3d6f6111-a5f0-4f07-bf0a-543b5052b3c3\" xlink:show=\"new\" xlink:title=\"psysml:3d6f6111-a5f0-4f07-bf0a-543b5052b3c3\" xlink:type=\"simple\"><path d=\"M558,167.18 C558,184.98 558,224.73 558,250.67 \" fill=\"none\" id=\"*start*E6-&gt;E7\" style=\"stroke: #383838; stroke-width: 1.0;\"/><polygon fill=\"#383838\" points=\"558,255.98,562,246.98,558,250.98,554,246.98,558,255.98\" style=\"stroke: #383838; stroke-width: 1.0;\"/></a><!--MD5=[7ec9a8babba89ddcae1318ca9fb3c814]\n",
       "link E8 to *end*E6--><a href=\"psysml:374875bf-0004-40f7-bedc-1374d527cde5\" target=\"_top\" title=\"psysml:374875bf-0004-40f7-bedc-1374d527cde5\" xlink:actuate=\"onRequest\" xlink:href=\"psysml:374875bf-0004-40f7-bedc-1374d527cde5\" xlink:show=\"new\" xlink:title=\"psysml:374875bf-0004-40f7-bedc-1374d527cde5\" xlink:type=\"simple\"><path d=\"M583,421.12 C583,442.75 583,474.39 583,492.62 \" fill=\"none\" id=\"E8-&gt;*end*E6\" style=\"stroke: #383838; stroke-width: 1.0;\"/><polygon fill=\"#383838\" points=\"583,497.82,587,488.82,583,492.82,579,488.82,583,497.82\" style=\"stroke: #383838; stroke-width: 1.0;\"/><text fill=\"#000000\" font-family=\"sans-serif\" font-size=\"13\" lengthAdjust=\"spacingAndGlyphs\" textLength=\"23\" x=\"584\" y=\"464.0669\">Exit</text></a><!--MD5=[79bc8f324ef4d02c541433f2e6e513c3]\n",
       "link E7 to E8--><a href=\"psysml:69f1494c-077d-4519-8343-87cce73be713\" target=\"_top\" title=\"psysml:69f1494c-077d-4519-8343-87cce73be713\" xlink:actuate=\"onRequest\" xlink:href=\"psysml:69f1494c-077d-4519-8343-87cce73be713\" xlink:show=\"new\" xlink:title=\"psysml:69f1494c-077d-4519-8343-87cce73be713\" xlink:type=\"simple\"><path d=\"M532.85,288.29 C509.89,300.31 481.3,320.66 494,343 C500.2,353.9 509.62,362.8 520.06,369.97 \" fill=\"none\" id=\"E7-&gt;E8\" style=\"stroke: #383838; stroke-width: 1.0;\"/><polygon fill=\"#383838\" points=\"524.26,372.74,518.9574,364.4404,520.0888,369.983,514.5462,371.1144,524.26,372.74\" style=\"stroke: #383838; stroke-width: 1.0;\"/><text fill=\"#000000\" font-family=\"sans-serif\" font-size=\"13\" lengthAdjust=\"spacingAndGlyphs\" textLength=\"81\" x=\"495\" y=\"339.0669\">Sig /action D</text></a><!--MD5=[bfa3c8b0d15052fdf50ae9310b491027]\n",
       "link E8 to E7--><a href=\"psysml:f8d53726-bfe5-4353-91f3-ae2ef06d9a38\" target=\"_top\" title=\"psysml:f8d53726-bfe5-4353-91f3-ae2ef06d9a38\" xlink:actuate=\"onRequest\" xlink:href=\"psysml:f8d53726-bfe5-4353-91f3-ae2ef06d9a38\" xlink:show=\"new\" xlink:title=\"psysml:f8d53726-bfe5-4353-91f3-ae2ef06d9a38\" xlink:type=\"simple\"><path d=\"M584.68,372.99 C585.12,359.19 584.66,341.38 581,326 C578.98,317.52 575.41,308.75 571.67,301.02 \" fill=\"none\" id=\"E8-&gt;E7\" style=\"stroke: #383838; stroke-width: 1.0;\"/><polygon fill=\"#383838\" points=\"569.33,296.35,569.7898,306.1881,571.5718,300.8193,576.9406,302.6013,569.33,296.35\" style=\"stroke: #383838; stroke-width: 1.0;\"/><text fill=\"#000000\" font-family=\"sans-serif\" font-size=\"13\" lengthAdjust=\"spacingAndGlyphs\" textLength=\"135\" x=\"584\" y=\"339.0669\">Sig [true]/send s to p</text></a><!--MD5=[11f1c41fb7fda44065fd28dca6760602]\n",
       "@startuml\r\n",
       " skinparam monochrome true\r\n",
       "skinparam classbackgroundcolor white\r\n",
       "skinparam shadowing false\r\n",
       "skinparam wrapWidth 300\r\n",
       "hide circle\r\n",
       "\r\n",
       "package \"StateTest\" as E1  [[psysml:800f45c9-cf5c-46ce-b3c3-487778cd6319 ]]  {\r\n",
       "comp def \"Sig\" as E2  <<(T,blue)attribute def>> [[psysml:f1048496-f45f-4de3-be42-17169da36fba ]] {\r\n",
       "- - attributes - -\r\n",
       "x\r\n",
       "}\r\n",
       "comp def \"Exit\" as E3  <<(T,blue)attribute def>> [[psysml:546c6a0a-79ca-4224-b50a-77e407cae485 ]] {\r\n",
       "}\r\n",
       "comp usage \"p\" as E4  <<(T,blue)part>> [[psysml:4710131f-7c31-45d9-a6fe-10a60fc8490a ]] {\r\n",
       "}\r\n",
       "rec usage \"act\" as E5  <<(T,blue)action>> [[psysml:0b92cdb5-3694-4434-adff-e0b2149bd4e6 ]] {\r\n",
       "}\r\n",
       "\r\n",
       "rec def \"S\" as E6  <<(T,blue)state def>> [[psysml:f2a66a23-1197-47ed-b1bd-74e1ad61d6fd ]] {\r\n",
       "rec usage \"S1\" as E7 [[psysml:0ffea2c5-2698-4589-991c-94f7ac5b0395 ]] {\r\n",
       "}\r\n",
       "\r\n",
       "rec usage \"S2\" as E8 [[psysml:f6369ddf-93b2-4791-a9ee-7d090a7e6258 ]] {\r\n",
       "desc \"S2\" as E8  : **do**/  send Sig(T::s::x) to p\r\n",
       "}\r\n",
       "\r\n",
       "desc \"S\" as E6  : **entry**/ A\r\n",
       "desc \"S\" as E6  : **do**/ B\r\n",
       "desc \"S\" as E6  : **exit**/ act \r\n",
       "[*] - -> E7 [[psysml:3d6f6111-a5f0-4f07-bf0a-543b5052b3c3 ]] \r\n",
       "E8  - -> [*] [[psysml:374875bf-0004-40f7-bedc-1374d527cde5 ]] : Exit \r\n",
       "}\r\n",
       "\r\n",
       "E7  - -> E8 [[psysml:69f1494c-077d-4519-8343-87cce73be713 ]] : Sig /action D\r\n",
       "E8  - -> E7 [[psysml:f8d53726-bfe5-4353-91f3-ae2ef06d9a38 ]] : Sig [true]/send s to p\r\n",
       "}\r\n",
       "@enduml\r\n",
       "\n",
       "PlantUML version 1.2020.13(Sat Jun 13 12:26:38 UTC 2020)\n",
       "(EPL source distribution)\n",
       "Java Runtime: OpenJDK Runtime Environment\n",
       "JVM: OpenJDK 64-Bit Server VM\n",
       "Default Encoding: UTF-8\n",
       "Language: en\n",
       "Country: null\n",
       "--></g></svg>"
      ]
     },
     "execution_count": 2,
     "metadata": {},
     "output_type": "execute_result"
    }
   ],
   "source": [
    "%viz --style=\"COMPTREE\" --view=\"Default\" \"StateTest\""
   ]
  },
  {
   "cell_type": "code",
   "execution_count": 3,
   "id": "32c8cf34",
   "metadata": {
    "execution": {
     "iopub.execute_input": "2021-04-21T20:23:40.075585Z",
     "iopub.status.busy": "2021-04-21T20:23:40.075111Z",
     "iopub.status.idle": "2021-04-21T20:23:40.293605Z",
     "shell.execute_reply": "2021-04-21T20:23:40.292436Z"
    }
   },
   "outputs": [
    {
     "data": {
      "image/svg+xml": [
       "<?xml version=\"1.0\" encoding=\"UTF-8\" standalone=\"no\"?><svg xmlns=\"http://www.w3.org/2000/svg\" xmlns:xlink=\"http://www.w3.org/1999/xlink\" contentScriptType=\"application/ecmascript\" contentStyleType=\"text/css\" height=\"365px\" preserveAspectRatio=\"none\" style=\"width:594px;height:365px;\" version=\"1.1\" viewBox=\"0 0 594 365\" width=\"594px\" zoomAndPan=\"magnify\"><defs/><g><!--MD5=[fbc87193dbaf4d95561dea2c320d4a47]\n",
       "cluster E1--><a href=\"psysml:800f45c9-cf5c-46ce-b3c3-487778cd6319\" target=\"_top\" title=\"psysml:800f45c9-cf5c-46ce-b3c3-487778cd6319\" xlink:actuate=\"onRequest\" xlink:href=\"psysml:800f45c9-cf5c-46ce-b3c3-487778cd6319\" xlink:show=\"new\" xlink:title=\"psysml:800f45c9-cf5c-46ce-b3c3-487778cd6319\" xlink:type=\"simple\"><polygon fill=\"#FFFFFF\" points=\"16,6,98,6,105,28.2969,572,28.2969,572,353,16,353,16,6\" style=\"stroke: #000000; stroke-width: 1.5;\"/><line style=\"stroke: #000000; stroke-width: 1.5;\" x1=\"16\" x2=\"105\" y1=\"28.2969\" y2=\"28.2969\"/><text fill=\"#000000\" font-family=\"sans-serif\" font-size=\"14\" font-weight=\"bold\" lengthAdjust=\"spacingAndGlyphs\" textLength=\"76\" x=\"20\" y=\"20.9951\">StateTest</text></a><!--MD5=[b4997ac47864f28c2f74865a473b2911]\n",
       "class E2--><a href=\"psysml:f1048496-f45f-4de3-be42-17169da36fba\" target=\"_top\" title=\"psysml:f1048496-f45f-4de3-be42-17169da36fba\" xlink:actuate=\"onRequest\" xlink:href=\"psysml:f1048496-f45f-4de3-be42-17169da36fba\" xlink:show=\"new\" xlink:title=\"psysml:f1048496-f45f-4de3-be42-17169da36fba\" xlink:type=\"simple\"><rect fill=\"#FFFFFF\" height=\"75.5469\" id=\"E2\" style=\"stroke: #383838; stroke-width: 1.5;\" width=\"95\" x=\"460.5\" y=\"83\"/><text fill=\"#000000\" font-family=\"sans-serif\" font-size=\"12\" font-style=\"italic\" lengthAdjust=\"spacingAndGlyphs\" textLength=\"93\" x=\"461.5\" y=\"99.1387\">«attribute def»</text><text fill=\"#000000\" font-family=\"sans-serif\" font-size=\"12\" lengthAdjust=\"spacingAndGlyphs\" textLength=\"19\" x=\"498.5\" y=\"113.1074\">Sig</text><line style=\"stroke: #383838; stroke-width: 1.5;\" x1=\"461.5\" x2=\"554.5\" y1=\"120.9375\" y2=\"120.9375\"/><text fill=\"#000000\" font-family=\"sans-serif\" font-size=\"11\" lengthAdjust=\"spacingAndGlyphs\" textLength=\"6\" x=\"466.5\" y=\"151.9526\">x</text><line style=\"stroke: #383838; stroke-width: 1.0;\" x1=\"461.5\" x2=\"480.5\" y1=\"135.3398\" y2=\"135.3398\"/><text fill=\"#000000\" font-family=\"sans-serif\" font-size=\"11\" lengthAdjust=\"spacingAndGlyphs\" textLength=\"55\" x=\"480.5\" y=\"138.6479\">attributes</text><line style=\"stroke: #383838; stroke-width: 1.0;\" x1=\"535.5\" x2=\"554.5\" y1=\"135.3398\" y2=\"135.3398\"/></a><!--MD5=[09b614a08d8cba4a07c9adeb5e0fee81]\n",
       "class E3--><a href=\"psysml:546c6a0a-79ca-4224-b50a-77e407cae485\" target=\"_top\" title=\"psysml:546c6a0a-79ca-4224-b50a-77e407cae485\" xlink:actuate=\"onRequest\" xlink:href=\"psysml:546c6a0a-79ca-4224-b50a-77e407cae485\" xlink:show=\"new\" xlink:title=\"psysml:546c6a0a-79ca-4224-b50a-77e407cae485\" xlink:type=\"simple\"><rect fill=\"#FFFFFF\" height=\"45.9375\" id=\"E3\" style=\"stroke: #383838; stroke-width: 1.5;\" width=\"95\" x=\"330.5\" y=\"98\"/><text fill=\"#000000\" font-family=\"sans-serif\" font-size=\"12\" font-style=\"italic\" lengthAdjust=\"spacingAndGlyphs\" textLength=\"93\" x=\"331.5\" y=\"114.1387\">«attribute def»</text><text fill=\"#000000\" font-family=\"sans-serif\" font-size=\"12\" lengthAdjust=\"spacingAndGlyphs\" textLength=\"22\" x=\"367\" y=\"128.1074\">Exit</text><line style=\"stroke: #383838; stroke-width: 1.5;\" x1=\"331.5\" x2=\"424.5\" y1=\"135.9375\" y2=\"135.9375\"/></a><!--MD5=[ebbe1d658d1005bcc118a6aa81145e00]\n",
       "class E4--><a href=\"psysml:4710131f-7c31-45d9-a6fe-10a60fc8490a\" target=\"_top\" title=\"psysml:4710131f-7c31-45d9-a6fe-10a60fc8490a\" xlink:actuate=\"onRequest\" xlink:href=\"psysml:4710131f-7c31-45d9-a6fe-10a60fc8490a\" xlink:show=\"new\" xlink:title=\"psysml:4710131f-7c31-45d9-a6fe-10a60fc8490a\" xlink:type=\"simple\"><rect fill=\"#FFFFFF\" height=\"45.9375\" id=\"E4\" rx=\"10\" ry=\"10\" style=\"stroke: #383838; stroke-width: 1.5;\" width=\"42\" x=\"253\" y=\"98\"/><text fill=\"#000000\" font-family=\"sans-serif\" font-size=\"12\" font-style=\"italic\" lengthAdjust=\"spacingAndGlyphs\" textLength=\"40\" x=\"254\" y=\"114.1387\">«part»</text><text fill=\"#000000\" font-family=\"sans-serif\" font-size=\"12\" lengthAdjust=\"spacingAndGlyphs\" textLength=\"8\" x=\"270\" y=\"128.1074\">p</text><line style=\"stroke: #383838; stroke-width: 1.5;\" x1=\"254\" x2=\"294\" y1=\"135.9375\" y2=\"135.9375\"/></a><!--MD5=[270fce915f116d4de14055a7c1d9a0f3]\n",
       "class E5--><a href=\"psysml:0b92cdb5-3694-4434-adff-e0b2149bd4e6\" target=\"_top\" title=\"psysml:0b92cdb5-3694-4434-adff-e0b2149bd4e6\" xlink:actuate=\"onRequest\" xlink:href=\"psysml:0b92cdb5-3694-4434-adff-e0b2149bd4e6\" xlink:show=\"new\" xlink:title=\"psysml:0b92cdb5-3694-4434-adff-e0b2149bd4e6\" xlink:type=\"simple\"><rect fill=\"#FFFFFF\" height=\"45.9375\" id=\"E5\" rx=\"10\" ry=\"10\" style=\"stroke: #383838; stroke-width: 1.5;\" width=\"55\" x=\"162.5\" y=\"98\"/><text fill=\"#000000\" font-family=\"sans-serif\" font-size=\"12\" font-style=\"italic\" lengthAdjust=\"spacingAndGlyphs\" textLength=\"53\" x=\"163.5\" y=\"114.1387\">«action»</text><text fill=\"#000000\" font-family=\"sans-serif\" font-size=\"12\" lengthAdjust=\"spacingAndGlyphs\" textLength=\"20\" x=\"180\" y=\"128.1074\">act</text><line style=\"stroke: #383838; stroke-width: 1.5;\" x1=\"163.5\" x2=\"216.5\" y1=\"135.9375\" y2=\"135.9375\"/></a><!--MD5=[60a26617385b1d2d0262a64233df1f8d]\n",
       "class E6--><a href=\"psysml:f2a66a23-1197-47ed-b1bd-74e1ad61d6fd\" target=\"_top\" title=\"psysml:f2a66a23-1197-47ed-b1bd-74e1ad61d6fd\" xlink:actuate=\"onRequest\" xlink:href=\"psysml:f2a66a23-1197-47ed-b1bd-74e1ad61d6fd\" xlink:show=\"new\" xlink:title=\"psysml:f2a66a23-1197-47ed-b1bd-74e1ad61d6fd\" xlink:type=\"simple\"><rect fill=\"#FFFFFF\" height=\"160.375\" id=\"E6\" style=\"stroke: #383838; stroke-width: 1.5;\" width=\"95\" x=\"32.5\" y=\"41\"/><text fill=\"#000000\" font-family=\"sans-serif\" font-size=\"12\" font-style=\"italic\" lengthAdjust=\"spacingAndGlyphs\" textLength=\"71\" x=\"44.5\" y=\"57.1387\">«state def»</text><text fill=\"#000000\" font-family=\"sans-serif\" font-size=\"12\" lengthAdjust=\"spacingAndGlyphs\" textLength=\"8\" x=\"76\" y=\"71.1074\">S</text><line style=\"stroke: #383838; stroke-width: 1.5;\" x1=\"33.5\" x2=\"126.5\" y1=\"78.9375\" y2=\"78.9375\"/><text fill=\"#000000\" font-family=\"sans-serif\" font-size=\"11\" lengthAdjust=\"spacingAndGlyphs\" textLength=\"17\" x=\"38.5\" y=\"109.9526\">act</text><text fill=\"#000000\" font-family=\"sans-serif\" font-size=\"11\" lengthAdjust=\"spacingAndGlyphs\" textLength=\"7\" x=\"38.5\" y=\"122.7573\">A</text><text fill=\"#000000\" font-family=\"sans-serif\" font-size=\"11\" lengthAdjust=\"spacingAndGlyphs\" textLength=\"8\" x=\"38.5\" y=\"135.562\">B</text><line style=\"stroke: #383838; stroke-width: 1.0;\" x1=\"33.5\" x2=\"36.5\" y1=\"93.3398\" y2=\"93.3398\"/><text fill=\"#000000\" font-family=\"sans-serif\" font-size=\"11\" lengthAdjust=\"spacingAndGlyphs\" textLength=\"87\" x=\"36.5\" y=\"96.6479\">performActions</text><line style=\"stroke: #383838; stroke-width: 1.0;\" x1=\"123.5\" x2=\"126.5\" y1=\"93.3398\" y2=\"93.3398\"/><text fill=\"#000000\" font-family=\"sans-serif\" font-size=\"11\" lengthAdjust=\"spacingAndGlyphs\" textLength=\"15\" x=\"38.5\" y=\"165.1714\">S1</text><line style=\"stroke: #383838; stroke-width: 1.0;\" x1=\"33.5\" x2=\"62\" y1=\"148.5586\" y2=\"148.5586\"/><text fill=\"#000000\" font-family=\"sans-serif\" font-size=\"11\" lengthAdjust=\"spacingAndGlyphs\" textLength=\"36\" x=\"62\" y=\"151.8667\">states</text><line style=\"stroke: #383838; stroke-width: 1.0;\" x1=\"98\" x2=\"126.5\" y1=\"148.5586\" y2=\"148.5586\"/><text fill=\"#000000\" font-family=\"sans-serif\" font-size=\"11\" lengthAdjust=\"spacingAndGlyphs\" textLength=\"7\" x=\"38.5\" y=\"194.7808\">T</text><line style=\"stroke: #383838; stroke-width: 1.0;\" x1=\"33.5\" x2=\"49.5\" y1=\"178.168\" y2=\"178.168\"/><text fill=\"#000000\" font-family=\"sans-serif\" font-size=\"11\" lengthAdjust=\"spacingAndGlyphs\" textLength=\"61\" x=\"49.5\" y=\"181.4761\">transitions</text><line style=\"stroke: #383838; stroke-width: 1.0;\" x1=\"110.5\" x2=\"126.5\" y1=\"178.168\" y2=\"178.168\"/></a><!--MD5=[1dd1bfd58a279cf63c5f349dbc8fc6a1]\n",
       "class E11--><a href=\"psysml:f6369ddf-93b2-4791-a9ee-7d090a7e6258\" target=\"_top\" title=\"psysml:f6369ddf-93b2-4791-a9ee-7d090a7e6258\" xlink:actuate=\"onRequest\" xlink:href=\"psysml:f6369ddf-93b2-4791-a9ee-7d090a7e6258\" xlink:show=\"new\" xlink:title=\"psysml:f6369ddf-93b2-4791-a9ee-7d090a7e6258\" xlink:type=\"simple\"><rect fill=\"#FFFFFF\" height=\"75.5469\" id=\"E11\" rx=\"10\" ry=\"10\" style=\"stroke: #383838; stroke-width: 1.5;\" width=\"77\" x=\"41.5\" y=\"261\"/><text fill=\"#000000\" font-family=\"sans-serif\" font-size=\"12\" font-style=\"italic\" lengthAdjust=\"spacingAndGlyphs\" textLength=\"47\" x=\"56.5\" y=\"277.1387\">«state»</text><text fill=\"#000000\" font-family=\"sans-serif\" font-size=\"12\" lengthAdjust=\"spacingAndGlyphs\" textLength=\"16\" x=\"72\" y=\"291.1074\">S2</text><line style=\"stroke: #383838; stroke-width: 1.5;\" x1=\"42.5\" x2=\"117.5\" y1=\"298.9375\" y2=\"298.9375\"/><text fill=\"#000000\" font-family=\"sans-serif\" font-size=\"11\" lengthAdjust=\"spacingAndGlyphs\" textLength=\"48\" x=\"47.5\" y=\"329.9526\">doAction</text><line style=\"stroke: #383838; stroke-width: 1.0;\" x1=\"42.5\" x2=\"45.5\" y1=\"313.3398\" y2=\"313.3398\"/><text fill=\"#000000\" font-family=\"sans-serif\" font-size=\"11\" lengthAdjust=\"spacingAndGlyphs\" textLength=\"69\" x=\"45.5\" y=\"316.6479\">sendActions</text><line style=\"stroke: #383838; stroke-width: 1.0;\" x1=\"114.5\" x2=\"117.5\" y1=\"313.3398\" y2=\"313.3398\"/></a><!--MD5=[1f5f03483f7de0d5b3680a7f6650997f]\n",
       "reverse link E6 to E11--><a href=\"psysml:247e0169-6466-401b-83f0-032a7b21c539\" target=\"_top\" title=\"psysml:247e0169-6466-401b-83f0-032a7b21c539\" xlink:actuate=\"onRequest\" xlink:href=\"psysml:247e0169-6466-401b-83f0-032a7b21c539\" xlink:show=\"new\" xlink:title=\"psysml:247e0169-6466-401b-83f0-032a7b21c539\" xlink:type=\"simple\"><path d=\"M80,214.46 C80,230.92 80,247.18 80,260.92 \" fill=\"none\" id=\"E6&lt;-E11\" style=\"stroke: #383838; stroke-width: 1.0;\"/><polygon fill=\"#383838\" points=\"80,201.25,76,207.25,80,213.25,84,207.25,80,201.25\" style=\"stroke: #383838; stroke-width: 1.0;\"/></a><!--MD5=[c8cf1e7a901e80e5fe2a5e2cb742e3fa]\n",
       "@startuml\r\n",
       " skinparam monochrome true\r\n",
       "skinparam classbackgroundcolor white\r\n",
       "skinparam shadowing false\r\n",
       "skinparam wrapWidth 300\r\n",
       "hide circle\r\n",
       "\r\n",
       "package \"StateTest\" as E1  [[psysml:800f45c9-cf5c-46ce-b3c3-487778cd6319 ]]  {\r\n",
       "comp def \"Sig\" as E2  <<(T,blue)attribute def>> [[psysml:f1048496-f45f-4de3-be42-17169da36fba ]] {\r\n",
       "- - attributes - -\r\n",
       "x\r\n",
       "}\r\n",
       "comp def \"Exit\" as E3  <<(T,blue)attribute def>> [[psysml:546c6a0a-79ca-4224-b50a-77e407cae485 ]] {\r\n",
       "}\r\n",
       "comp usage \"p\" as E4  <<(T,blue)part>> [[psysml:4710131f-7c31-45d9-a6fe-10a60fc8490a ]] {\r\n",
       "}\r\n",
       "comp usage \"act\" as E5  <<(T,blue)action>> [[psysml:0b92cdb5-3694-4434-adff-e0b2149bd4e6 ]] {\r\n",
       "}\r\n",
       "comp def \"S\" as E6  <<(T,blue)state def>> [[psysml:f2a66a23-1197-47ed-b1bd-74e1ad61d6fd ]] {\r\n",
       "- - performActions - -\r\n",
       "act\r\n",
       "A\r\n",
       "B\r\n",
       "- - states - -\r\n",
       "S1\r\n",
       "- - transitions - -\r\n",
       "T\r\n",
       "}\r\n",
       "comp usage \"S2\" as E11  <<(T,blue)state>> [[psysml:f6369ddf-93b2-4791-a9ee-7d090a7e6258 ]] {\r\n",
       "- - sendActions - -\r\n",
       "doAction\r\n",
       "}\r\n",
       "E6 *- - E11 [[psysml:247e0169-6466-401b-83f0-032a7b21c539 ]] \r\n",
       "}\r\n",
       "@enduml\r\n",
       "\n",
       "PlantUML version 1.2020.13(Sat Jun 13 12:26:38 UTC 2020)\n",
       "(EPL source distribution)\n",
       "Java Runtime: OpenJDK Runtime Environment\n",
       "JVM: OpenJDK 64-Bit Server VM\n",
       "Default Encoding: UTF-8\n",
       "Language: en\n",
       "Country: null\n",
       "--></g></svg>"
      ]
     },
     "execution_count": 3,
     "metadata": {},
     "output_type": "execute_result"
    }
   ],
   "source": [
    "%viz --style=\"COMPTREE\" --view=\"Tree\" \"StateTest\""
   ]
  },
  {
   "cell_type": "code",
   "execution_count": 4,
   "id": "f58cfc91",
   "metadata": {
    "execution": {
     "iopub.execute_input": "2021-04-21T20:23:40.347092Z",
     "iopub.status.busy": "2021-04-21T20:23:40.346127Z",
     "iopub.status.idle": "2021-04-21T20:23:40.439177Z",
     "shell.execute_reply": "2021-04-21T20:23:40.437854Z"
    }
   },
   "outputs": [
    {
     "data": {
      "image/svg+xml": [
       "<?xml version=\"1.0\" encoding=\"UTF-8\" standalone=\"no\"?><svg xmlns=\"http://www.w3.org/2000/svg\" xmlns:xlink=\"http://www.w3.org/1999/xlink\" contentScriptType=\"application/ecmascript\" contentStyleType=\"text/css\" height=\"475px\" preserveAspectRatio=\"none\" style=\"width:346px;height:475px;\" version=\"1.1\" viewBox=\"0 0 346 475\" width=\"346px\" zoomAndPan=\"magnify\"><defs/><g><!--MD5=[fbc87193dbaf4d95561dea2c320d4a47]\n",
       "cluster E1--><a href=\"psysml:f2a66a23-1197-47ed-b1bd-74e1ad61d6fd\" target=\"_top\" title=\"psysml:f2a66a23-1197-47ed-b1bd-74e1ad61d6fd\" xlink:actuate=\"onRequest\" xlink:href=\"psysml:f2a66a23-1197-47ed-b1bd-74e1ad61d6fd\" xlink:show=\"new\" xlink:title=\"psysml:f2a66a23-1197-47ed-b1bd-74e1ad61d6fd\" xlink:type=\"simple\"><rect fill=\"#FFFFFF\" height=\"457\" id=\"E1\" style=\"stroke: #383838; stroke-width: 1.5;\" width=\"327\" x=\"7\" y=\"7\"/><rect fill=\"#F8F8F8\" height=\"37.9375\" style=\"stroke: #383838; stroke-width: 1.5;\" width=\"327\" x=\"7\" y=\"7\"/><text fill=\"#000000\" font-family=\"sans-serif\" font-size=\"12\" font-style=\"italic\" lengthAdjust=\"spacingAndGlyphs\" textLength=\"71\" x=\"135\" y=\"23.1387\">«state def»</text><text fill=\"#000000\" font-family=\"sans-serif\" font-size=\"12\" lengthAdjust=\"spacingAndGlyphs\" textLength=\"8\" x=\"166.5\" y=\"37.1074\">S</text><line style=\"stroke: #383838; stroke-width: 1.0;\" x1=\"7\" x2=\"334\" y1=\"90.8438\" y2=\"90.8438\"/><text fill=\"#000000\" font-family=\"sans-serif\" font-size=\"12\" font-weight=\"bold\" lengthAdjust=\"spacingAndGlyphs\" textLength=\"38\" x=\"12\" y=\"58.0762\">entry</text><text fill=\"#000000\" font-family=\"sans-serif\" font-size=\"12\" lengthAdjust=\"spacingAndGlyphs\" textLength=\"16\" x=\"50\" y=\"58.0762\">/ A</text><text fill=\"#000000\" font-family=\"sans-serif\" font-size=\"12\" font-weight=\"bold\" lengthAdjust=\"spacingAndGlyphs\" textLength=\"18\" x=\"12\" y=\"72.0449\">do</text><text fill=\"#000000\" font-family=\"sans-serif\" font-size=\"12\" lengthAdjust=\"spacingAndGlyphs\" textLength=\"16\" x=\"30\" y=\"72.0449\">/ B</text><text fill=\"#000000\" font-family=\"sans-serif\" font-size=\"12\" font-weight=\"bold\" lengthAdjust=\"spacingAndGlyphs\" textLength=\"26\" x=\"12\" y=\"86.0137\">exit</text><text fill=\"#000000\" font-family=\"sans-serif\" font-size=\"12\" lengthAdjust=\"spacingAndGlyphs\" textLength=\"28\" x=\"38\" y=\"86.0137\">/ act</text></a><ellipse cx=\"119\" cy=\"115\" fill=\"#000000\" rx=\"10\" ry=\"10\" style=\"stroke: none; stroke-width: 1.0;\"/><ellipse cx=\"144\" cy=\"438\" fill=\"none\" rx=\"10\" ry=\"10\" style=\"stroke: #000000; stroke-width: 1.0;\"/><ellipse cx=\"144.5\" cy=\"438.5\" fill=\"#000000\" rx=\"6\" ry=\"6\" style=\"stroke: none; stroke-width: 1.0;\"/><g id=\"E1.E2\"><a href=\"psysml:0ffea2c5-2698-4589-991c-94f7ac5b0395\" target=\"_top\" title=\"psysml:0ffea2c5-2698-4589-991c-94f7ac5b0395\" xlink:actuate=\"onRequest\" xlink:href=\"psysml:0ffea2c5-2698-4589-991c-94f7ac5b0395\" xlink:show=\"new\" xlink:title=\"psysml:0ffea2c5-2698-4589-991c-94f7ac5b0395\" xlink:type=\"simple\"><rect fill=\"#FFFFFF\" height=\"40\" id=\"E2\" rx=\"10\" ry=\"10\" style=\"stroke: #383838; stroke-width: 1.5;\" width=\"50\" x=\"94\" y=\"186\"/><rect fill=\"#F8F8F8\" height=\"23.9688\" rx=\"10\" ry=\"10\" style=\"stroke: #F8F8F8; stroke-width: 1.5;\" width=\"50\" x=\"94\" y=\"186\"/><rect fill=\"#F8F8F8\" height=\"10\" style=\"stroke: #F8F8F8; stroke-width: 1.5;\" width=\"50\" x=\"94\" y=\"199.9688\"/><rect fill=\"none\" height=\"40\" id=\"E2\" rx=\"10\" ry=\"10\" style=\"stroke: #383838; stroke-width: 1.5;\" width=\"50\" x=\"94\" y=\"186\"/><text fill=\"#000000\" font-family=\"sans-serif\" font-size=\"12\" lengthAdjust=\"spacingAndGlyphs\" textLength=\"16\" x=\"111\" y=\"202.1387\">S1</text></a></g><g id=\"E1.E3\"><a href=\"psysml:f6369ddf-93b2-4791-a9ee-7d090a7e6258\" target=\"_top\" title=\"psysml:f6369ddf-93b2-4791-a9ee-7d090a7e6258\" xlink:actuate=\"onRequest\" xlink:href=\"psysml:f6369ddf-93b2-4791-a9ee-7d090a7e6258\" xlink:show=\"new\" xlink:title=\"psysml:f6369ddf-93b2-4791-a9ee-7d090a7e6258\" xlink:type=\"simple\"><rect fill=\"#FFFFFF\" height=\"47.9375\" id=\"E3\" rx=\"10\" ry=\"10\" style=\"stroke: #383838; stroke-width: 1.5;\" width=\"169\" x=\"59.5\" y=\"303\"/><rect fill=\"#F8F8F8\" height=\"23.9688\" rx=\"10\" ry=\"10\" style=\"stroke: #F8F8F8; stroke-width: 1.5;\" width=\"169\" x=\"59.5\" y=\"303\"/><rect fill=\"#F8F8F8\" height=\"10\" style=\"stroke: #F8F8F8; stroke-width: 1.5;\" width=\"169\" x=\"59.5\" y=\"316.9688\"/><rect fill=\"none\" height=\"47.9375\" id=\"E3\" rx=\"10\" ry=\"10\" style=\"stroke: #383838; stroke-width: 1.5;\" width=\"169\" x=\"59.5\" y=\"303\"/><text fill=\"#000000\" font-family=\"sans-serif\" font-size=\"12\" lengthAdjust=\"spacingAndGlyphs\" textLength=\"16\" x=\"136\" y=\"319.1387\">S2</text><line style=\"stroke: #383838; stroke-width: 1.0;\" x1=\"59.5\" x2=\"228.5\" y1=\"326.9688\" y2=\"326.9688\"/><text fill=\"#000000\" font-family=\"sans-serif\" font-size=\"12\" font-weight=\"bold\" lengthAdjust=\"spacingAndGlyphs\" textLength=\"18\" x=\"64.5\" y=\"340.1074\">do</text><text fill=\"#000000\" font-family=\"sans-serif\" font-size=\"12\" lengthAdjust=\"spacingAndGlyphs\" textLength=\"141\" x=\"82.5\" y=\"340.1074\">/  send Sig(T::s::x) to p</text></a></g><!--MD5=[cff944eb183b832d446717a4e202d613]\n",
       "link *start*E1 to E2--><a href=\"psysml:3d6f6111-a5f0-4f07-bf0a-543b5052b3c3\" target=\"_top\" title=\"psysml:3d6f6111-a5f0-4f07-bf0a-543b5052b3c3\" xlink:actuate=\"onRequest\" xlink:href=\"psysml:3d6f6111-a5f0-4f07-bf0a-543b5052b3c3\" xlink:show=\"new\" xlink:title=\"psysml:3d6f6111-a5f0-4f07-bf0a-543b5052b3c3\" xlink:type=\"simple\"><path d=\"M119,125.19 C119,138.18 119,162.38 119,180.73 \" fill=\"none\" id=\"*start*E1-&gt;E2\" style=\"stroke: #383838; stroke-width: 1.0;\"/><polygon fill=\"#383838\" points=\"119,185.74,123,176.74,119,180.74,115,176.74,119,185.74\" style=\"stroke: #383838; stroke-width: 1.0;\"/></a><!--MD5=[9ee7afa76ca8c509b3d216624c3a9893]\n",
       "link E3 to *end*E1--><a href=\"psysml:374875bf-0004-40f7-bedc-1374d527cde5\" target=\"_top\" title=\"psysml:374875bf-0004-40f7-bedc-1374d527cde5\" xlink:actuate=\"onRequest\" xlink:href=\"psysml:374875bf-0004-40f7-bedc-1374d527cde5\" xlink:show=\"new\" xlink:title=\"psysml:374875bf-0004-40f7-bedc-1374d527cde5\" xlink:type=\"simple\"><path d=\"M144,351.12 C144,372.75 144,404.39 144,422.62 \" fill=\"none\" id=\"E3-&gt;*end*E1\" style=\"stroke: #383838; stroke-width: 1.0;\"/><polygon fill=\"#383838\" points=\"144,427.82,148,418.82,144,422.82,140,418.82,144,427.82\" style=\"stroke: #383838; stroke-width: 1.0;\"/><text fill=\"#000000\" font-family=\"sans-serif\" font-size=\"13\" lengthAdjust=\"spacingAndGlyphs\" textLength=\"23\" x=\"145\" y=\"394.0669\">Exit</text></a><!--MD5=[2720a5a1f2c3fca2055b230370638851]\n",
       "link E2 to E3--><a href=\"psysml:69f1494c-077d-4519-8343-87cce73be713\" target=\"_top\" title=\"psysml:69f1494c-077d-4519-8343-87cce73be713\" xlink:actuate=\"onRequest\" xlink:href=\"psysml:69f1494c-077d-4519-8343-87cce73be713\" xlink:show=\"new\" xlink:title=\"psysml:69f1494c-077d-4519-8343-87cce73be713\" xlink:type=\"simple\"><path d=\"M93.85,218.29 C70.89,230.31 42.3,250.66 55,273 C61.2,283.9 70.62,292.8 81.06,299.97 \" fill=\"none\" id=\"E2-&gt;E3\" style=\"stroke: #383838; stroke-width: 1.0;\"/><polygon fill=\"#383838\" points=\"85.26,302.74,79.9574,294.4404,81.0888,299.983,75.5462,301.1144,85.26,302.74\" style=\"stroke: #383838; stroke-width: 1.0;\"/><text fill=\"#000000\" font-family=\"sans-serif\" font-size=\"13\" lengthAdjust=\"spacingAndGlyphs\" textLength=\"81\" x=\"56\" y=\"269.0669\">Sig /action D</text></a><!--MD5=[05d275557350bfb9b23a4ef7222b4c39]\n",
       "link E3 to E2--><a href=\"psysml:f8d53726-bfe5-4353-91f3-ae2ef06d9a38\" target=\"_top\" title=\"psysml:f8d53726-bfe5-4353-91f3-ae2ef06d9a38\" xlink:actuate=\"onRequest\" xlink:href=\"psysml:f8d53726-bfe5-4353-91f3-ae2ef06d9a38\" xlink:show=\"new\" xlink:title=\"psysml:f8d53726-bfe5-4353-91f3-ae2ef06d9a38\" xlink:type=\"simple\"><path d=\"M145.68,302.99 C146.12,289.19 145.66,271.38 142,256 C139.98,247.52 136.41,238.75 132.67,231.02 \" fill=\"none\" id=\"E3-&gt;E2\" style=\"stroke: #383838; stroke-width: 1.0;\"/><polygon fill=\"#383838\" points=\"130.33,226.35,130.7898,236.1881,132.5718,230.8193,137.9406,232.6013,130.33,226.35\" style=\"stroke: #383838; stroke-width: 1.0;\"/><text fill=\"#000000\" font-family=\"sans-serif\" font-size=\"13\" lengthAdjust=\"spacingAndGlyphs\" textLength=\"135\" x=\"145\" y=\"269.0669\">Sig [true]/send s to p</text></a><!--MD5=[97c94ab2876b612f942ab9e27683d284]\n",
       "@startuml\r\n",
       " skinparam monochrome true\r\n",
       "skinparam classbackgroundcolor white\r\n",
       "skinparam shadowing false\r\n",
       "skinparam wrapWidth 300\r\n",
       "hide circle\r\n",
       "\r\n",
       "rec def \"S\" as E1  <<(T,blue)state def>> [[psysml:f2a66a23-1197-47ed-b1bd-74e1ad61d6fd ]] {\r\n",
       "rec usage \"S1\" as E2 [[psysml:0ffea2c5-2698-4589-991c-94f7ac5b0395 ]] {\r\n",
       "}\r\n",
       "\r\n",
       "rec usage \"S2\" as E3 [[psysml:f6369ddf-93b2-4791-a9ee-7d090a7e6258 ]] {\r\n",
       "desc \"S2\" as E3  : **do**/  send Sig(T::s::x) to p\r\n",
       "}\r\n",
       "\r\n",
       "desc \"S\" as E1  : **entry**/ A\r\n",
       "desc \"S\" as E1  : **do**/ B\r\n",
       "desc \"S\" as E1  : **exit**/ act \r\n",
       "[*] - -> E2 [[psysml:3d6f6111-a5f0-4f07-bf0a-543b5052b3c3 ]] \r\n",
       "E3  - -> [*] [[psysml:374875bf-0004-40f7-bedc-1374d527cde5 ]] : Exit \r\n",
       "}\r\n",
       "\r\n",
       "E2  - -> E3 [[psysml:69f1494c-077d-4519-8343-87cce73be713 ]] : Sig /action D\r\n",
       "E3  - -> E2 [[psysml:f8d53726-bfe5-4353-91f3-ae2ef06d9a38 ]] : Sig [true]/send s to p\r\n",
       "@enduml\r\n",
       "\n",
       "PlantUML version 1.2020.13(Sat Jun 13 12:26:38 UTC 2020)\n",
       "(EPL source distribution)\n",
       "Java Runtime: OpenJDK Runtime Environment\n",
       "JVM: OpenJDK 64-Bit Server VM\n",
       "Default Encoding: UTF-8\n",
       "Language: en\n",
       "Country: null\n",
       "--></g></svg>"
      ]
     },
     "execution_count": 4,
     "metadata": {},
     "output_type": "execute_result"
    }
   ],
   "source": [
    "%viz --style=\"COMPTREE\" --view=\"State\" \"StateTest\""
   ]
  },
  {
   "cell_type": "code",
   "execution_count": 5,
   "id": "11284b2a",
   "metadata": {
    "execution": {
     "iopub.execute_input": "2021-04-21T20:23:40.493593Z",
     "iopub.status.busy": "2021-04-21T20:23:40.493120Z",
     "iopub.status.idle": "2021-04-21T20:23:40.567138Z",
     "shell.execute_reply": "2021-04-21T20:23:40.566480Z"
    }
   },
   "outputs": [
    {
     "data": {
      "image/svg+xml": [
       "<?xml version=\"1.0\" encoding=\"UTF-8\" standalone=\"no\"?><svg xmlns=\"http://www.w3.org/2000/svg\" xmlns:xlink=\"http://www.w3.org/1999/xlink\" contentScriptType=\"application/ecmascript\" contentStyleType=\"text/css\" height=\"421px\" preserveAspectRatio=\"none\" style=\"width:836px;height:421px;\" version=\"1.1\" viewBox=\"0 0 836 421\" width=\"836px\" zoomAndPan=\"magnify\"><defs/><g><!--MD5=[fbc87193dbaf4d95561dea2c320d4a47]\n",
       "cluster E1--><a href=\"psysml:800f45c9-cf5c-46ce-b3c3-487778cd6319\" target=\"_top\" title=\"psysml:800f45c9-cf5c-46ce-b3c3-487778cd6319\" xlink:actuate=\"onRequest\" xlink:href=\"psysml:800f45c9-cf5c-46ce-b3c3-487778cd6319\" xlink:show=\"new\" xlink:title=\"psysml:800f45c9-cf5c-46ce-b3c3-487778cd6319\" xlink:type=\"simple\"><polygon fill=\"#FFFFFF\" points=\"16,6,98,6,105,28.2969,814,28.2969,814,409.5,16,409.5,16,6\" style=\"stroke: #000000; stroke-width: 1.5;\"/><line style=\"stroke: #000000; stroke-width: 1.5;\" x1=\"16\" x2=\"105\" y1=\"28.2969\" y2=\"28.2969\"/><text fill=\"#000000\" font-family=\"sans-serif\" font-size=\"14\" font-weight=\"bold\" lengthAdjust=\"spacingAndGlyphs\" textLength=\"76\" x=\"20\" y=\"20.9951\">StateTest</text></a><!--MD5=[14e3b0961a2654348d326746436168a1]\n",
       "cluster E6--><a href=\"psysml:f2a66a23-1197-47ed-b1bd-74e1ad61d6fd\" target=\"_top\" title=\"psysml:f2a66a23-1197-47ed-b1bd-74e1ad61d6fd\" xlink:actuate=\"onRequest\" xlink:href=\"psysml:f2a66a23-1197-47ed-b1bd-74e1ad61d6fd\" xlink:show=\"new\" xlink:title=\"psysml:f2a66a23-1197-47ed-b1bd-74e1ad61d6fd\" xlink:type=\"simple\"><rect fill=\"#FFFFFF\" height=\"336.5\" id=\"E6\" style=\"stroke: #383838; stroke-width: 1.5;\" width=\"327\" x=\"463\" y=\"49\"/><rect fill=\"#F8F8F8\" height=\"37.9375\" style=\"stroke: #383838; stroke-width: 1.5;\" width=\"327\" x=\"463\" y=\"49\"/><text fill=\"#000000\" font-family=\"sans-serif\" font-size=\"12\" font-style=\"italic\" lengthAdjust=\"spacingAndGlyphs\" textLength=\"71\" x=\"591\" y=\"65.1387\">«state def»</text><text fill=\"#000000\" font-family=\"sans-serif\" font-size=\"12\" lengthAdjust=\"spacingAndGlyphs\" textLength=\"8\" x=\"622.5\" y=\"79.1074\">S</text><line style=\"stroke: #383838; stroke-width: 1.0;\" x1=\"463\" x2=\"790\" y1=\"132.8438\" y2=\"132.8438\"/><text fill=\"#000000\" font-family=\"sans-serif\" font-size=\"12\" font-weight=\"bold\" lengthAdjust=\"spacingAndGlyphs\" textLength=\"38\" x=\"468\" y=\"100.0762\">entry</text><text fill=\"#000000\" font-family=\"sans-serif\" font-size=\"12\" lengthAdjust=\"spacingAndGlyphs\" textLength=\"16\" x=\"506\" y=\"100.0762\">/ A</text><text fill=\"#000000\" font-family=\"sans-serif\" font-size=\"12\" font-weight=\"bold\" lengthAdjust=\"spacingAndGlyphs\" textLength=\"18\" x=\"468\" y=\"114.0449\">do</text><text fill=\"#000000\" font-family=\"sans-serif\" font-size=\"12\" lengthAdjust=\"spacingAndGlyphs\" textLength=\"16\" x=\"486\" y=\"114.0449\">/ B</text><text fill=\"#000000\" font-family=\"sans-serif\" font-size=\"12\" font-weight=\"bold\" lengthAdjust=\"spacingAndGlyphs\" textLength=\"26\" x=\"468\" y=\"128.0137\">exit</text><text fill=\"#000000\" font-family=\"sans-serif\" font-size=\"12\" lengthAdjust=\"spacingAndGlyphs\" textLength=\"28\" x=\"494\" y=\"128.0137\">/ act</text></a><g id=\"E1.E2\"><a href=\"psysml:f1048496-f45f-4de3-be42-17169da36fba\" target=\"_top\" title=\"psysml:f1048496-f45f-4de3-be42-17169da36fba\" xlink:actuate=\"onRequest\" xlink:href=\"psysml:f1048496-f45f-4de3-be42-17169da36fba\" xlink:show=\"new\" xlink:title=\"psysml:f1048496-f45f-4de3-be42-17169da36fba\" xlink:type=\"simple\"><rect fill=\"#FFFFFF\" height=\"42.9375\" id=\"E2\" style=\"stroke: #383838; stroke-width: 1.5;\" width=\"100\" x=\"347\" y=\"135.5\"/><rect fill=\"#F8F8F8\" height=\"37.9375\" style=\"stroke: #383838; stroke-width: 1.5;\" width=\"100\" x=\"347\" y=\"135.5\"/><text fill=\"#000000\" font-family=\"sans-serif\" font-size=\"12\" font-style=\"italic\" lengthAdjust=\"spacingAndGlyphs\" textLength=\"93\" x=\"350.5\" y=\"151.6387\">«attribute def»</text><text fill=\"#000000\" font-family=\"sans-serif\" font-size=\"12\" lengthAdjust=\"spacingAndGlyphs\" textLength=\"19\" x=\"387.5\" y=\"165.6074\">Sig</text></a></g><g id=\"E1.E3\"><a href=\"psysml:546c6a0a-79ca-4224-b50a-77e407cae485\" target=\"_top\" title=\"psysml:546c6a0a-79ca-4224-b50a-77e407cae485\" xlink:actuate=\"onRequest\" xlink:href=\"psysml:546c6a0a-79ca-4224-b50a-77e407cae485\" xlink:show=\"new\" xlink:title=\"psysml:546c6a0a-79ca-4224-b50a-77e407cae485\" xlink:type=\"simple\"><rect fill=\"#FFFFFF\" height=\"42.9375\" id=\"E3\" style=\"stroke: #383838; stroke-width: 1.5;\" width=\"100\" x=\"212\" y=\"135.5\"/><rect fill=\"#F8F8F8\" height=\"37.9375\" style=\"stroke: #383838; stroke-width: 1.5;\" width=\"100\" x=\"212\" y=\"135.5\"/><text fill=\"#000000\" font-family=\"sans-serif\" font-size=\"12\" font-style=\"italic\" lengthAdjust=\"spacingAndGlyphs\" textLength=\"93\" x=\"215.5\" y=\"151.6387\">«attribute def»</text><text fill=\"#000000\" font-family=\"sans-serif\" font-size=\"12\" lengthAdjust=\"spacingAndGlyphs\" textLength=\"22\" x=\"251\" y=\"165.6074\">Exit</text></a></g><g id=\"E1.E4\"><a href=\"psysml:4710131f-7c31-45d9-a6fe-10a60fc8490a\" target=\"_top\" title=\"psysml:4710131f-7c31-45d9-a6fe-10a60fc8490a\" xlink:actuate=\"onRequest\" xlink:href=\"psysml:4710131f-7c31-45d9-a6fe-10a60fc8490a\" xlink:show=\"new\" xlink:title=\"psysml:4710131f-7c31-45d9-a6fe-10a60fc8490a\" xlink:type=\"simple\"><rect fill=\"#FFFFFF\" height=\"40\" id=\"E4\" rx=\"10\" ry=\"10\" style=\"stroke: #383838; stroke-width: 1.5;\" width=\"50\" x=\"127\" y=\"137\"/><rect fill=\"#F8F8F8\" height=\"23.9688\" rx=\"10\" ry=\"10\" style=\"stroke: #F8F8F8; stroke-width: 1.5;\" width=\"50\" x=\"127\" y=\"137\"/><rect fill=\"#F8F8F8\" height=\"10\" style=\"stroke: #F8F8F8; stroke-width: 1.5;\" width=\"50\" x=\"127\" y=\"150.9688\"/><rect fill=\"none\" height=\"40\" id=\"E4\" rx=\"10\" ry=\"10\" style=\"stroke: #383838; stroke-width: 1.5;\" width=\"50\" x=\"127\" y=\"137\"/><text fill=\"#000000\" font-family=\"sans-serif\" font-size=\"12\" lengthAdjust=\"spacingAndGlyphs\" textLength=\"8\" x=\"148\" y=\"153.1387\">p</text></a></g><g id=\"E1.E5\"><a href=\"psysml:0b92cdb5-3694-4434-adff-e0b2149bd4e6\" target=\"_top\" title=\"psysml:0b92cdb5-3694-4434-adff-e0b2149bd4e6\" xlink:actuate=\"onRequest\" xlink:href=\"psysml:0b92cdb5-3694-4434-adff-e0b2149bd4e6\" xlink:show=\"new\" xlink:title=\"psysml:0b92cdb5-3694-4434-adff-e0b2149bd4e6\" xlink:type=\"simple\"><rect fill=\"#FFFFFF\" height=\"42.9375\" id=\"E5\" rx=\"10\" ry=\"10\" style=\"stroke: #383838; stroke-width: 1.5;\" width=\"60\" x=\"32\" y=\"135.5\"/><rect fill=\"#F8F8F8\" height=\"37.9375\" rx=\"10\" ry=\"10\" style=\"stroke: #F8F8F8; stroke-width: 1.5;\" width=\"60\" x=\"32\" y=\"135.5\"/><rect fill=\"#F8F8F8\" height=\"10\" style=\"stroke: #F8F8F8; stroke-width: 1.5;\" width=\"60\" x=\"32\" y=\"163.4375\"/><rect fill=\"none\" height=\"42.9375\" id=\"E5\" rx=\"10\" ry=\"10\" style=\"stroke: #383838; stroke-width: 1.5;\" width=\"60\" x=\"32\" y=\"135.5\"/><text fill=\"#000000\" font-family=\"sans-serif\" font-size=\"12\" font-style=\"italic\" lengthAdjust=\"spacingAndGlyphs\" textLength=\"53\" x=\"35.5\" y=\"151.6387\">«action»</text><text fill=\"#000000\" font-family=\"sans-serif\" font-size=\"12\" lengthAdjust=\"spacingAndGlyphs\" textLength=\"20\" x=\"52\" y=\"165.6074\">act</text></a></g><ellipse cx=\"575\" cy=\"157\" fill=\"#000000\" rx=\"10\" ry=\"10\" style=\"stroke: none; stroke-width: 1.0;\"/><ellipse cx=\"600\" cy=\"359.5\" fill=\"none\" rx=\"10\" ry=\"10\" style=\"stroke: #000000; stroke-width: 1.0;\"/><ellipse cx=\"600.5\" cy=\"360\" fill=\"#000000\" rx=\"6\" ry=\"6\" style=\"stroke: none; stroke-width: 1.0;\"/><g id=\"E1.E6.E7\"><a href=\"psysml:0ffea2c5-2698-4589-991c-94f7ac5b0395\" target=\"_top\" title=\"psysml:0ffea2c5-2698-4589-991c-94f7ac5b0395\" xlink:actuate=\"onRequest\" xlink:href=\"psysml:0ffea2c5-2698-4589-991c-94f7ac5b0395\" xlink:show=\"new\" xlink:title=\"psysml:0ffea2c5-2698-4589-991c-94f7ac5b0395\" xlink:type=\"simple\"><rect fill=\"#FFFFFF\" height=\"40\" id=\"E7\" rx=\"10\" ry=\"10\" style=\"stroke: #383838; stroke-width: 1.5;\" width=\"50\" x=\"550\" y=\"195.5\"/><rect fill=\"#F8F8F8\" height=\"23.9688\" rx=\"10\" ry=\"10\" style=\"stroke: #F8F8F8; stroke-width: 1.5;\" width=\"50\" x=\"550\" y=\"195.5\"/><rect fill=\"#F8F8F8\" height=\"10\" style=\"stroke: #F8F8F8; stroke-width: 1.5;\" width=\"50\" x=\"550\" y=\"209.4688\"/><rect fill=\"none\" height=\"40\" id=\"E7\" rx=\"10\" ry=\"10\" style=\"stroke: #383838; stroke-width: 1.5;\" width=\"50\" x=\"550\" y=\"195.5\"/><text fill=\"#000000\" font-family=\"sans-serif\" font-size=\"12\" lengthAdjust=\"spacingAndGlyphs\" textLength=\"16\" x=\"567\" y=\"211.6387\">S1</text></a></g><g id=\"E1.E6.E8\"><a href=\"psysml:f6369ddf-93b2-4791-a9ee-7d090a7e6258\" target=\"_top\" title=\"psysml:f6369ddf-93b2-4791-a9ee-7d090a7e6258\" xlink:actuate=\"onRequest\" xlink:href=\"psysml:f6369ddf-93b2-4791-a9ee-7d090a7e6258\" xlink:show=\"new\" xlink:title=\"psysml:f6369ddf-93b2-4791-a9ee-7d090a7e6258\" xlink:type=\"simple\"><rect fill=\"#FFFFFF\" height=\"47.9375\" id=\"E8\" rx=\"10\" ry=\"10\" style=\"stroke: #383838; stroke-width: 1.5;\" width=\"169\" x=\"515.5\" y=\"268.5\"/><rect fill=\"#F8F8F8\" height=\"23.9688\" rx=\"10\" ry=\"10\" style=\"stroke: #F8F8F8; stroke-width: 1.5;\" width=\"169\" x=\"515.5\" y=\"268.5\"/><rect fill=\"#F8F8F8\" height=\"10\" style=\"stroke: #F8F8F8; stroke-width: 1.5;\" width=\"169\" x=\"515.5\" y=\"282.4688\"/><rect fill=\"none\" height=\"47.9375\" id=\"E8\" rx=\"10\" ry=\"10\" style=\"stroke: #383838; stroke-width: 1.5;\" width=\"169\" x=\"515.5\" y=\"268.5\"/><text fill=\"#000000\" font-family=\"sans-serif\" font-size=\"12\" lengthAdjust=\"spacingAndGlyphs\" textLength=\"16\" x=\"592\" y=\"284.6387\">S2</text><line style=\"stroke: #383838; stroke-width: 1.0;\" x1=\"515.5\" x2=\"684.5\" y1=\"292.4688\" y2=\"292.4688\"/><text fill=\"#000000\" font-family=\"sans-serif\" font-size=\"12\" font-weight=\"bold\" lengthAdjust=\"spacingAndGlyphs\" textLength=\"18\" x=\"520.5\" y=\"305.6074\">do</text><text fill=\"#000000\" font-family=\"sans-serif\" font-size=\"12\" lengthAdjust=\"spacingAndGlyphs\" textLength=\"141\" x=\"538.5\" y=\"305.6074\">/  send Sig(T::s::x) to p</text></a></g><!--MD5=[5a531d3a85f3339e6e197084acb48195]\n",
       "link *start*E6 to E7--><a href=\"psysml:3d6f6111-a5f0-4f07-bf0a-543b5052b3c3\" target=\"_top\" title=\"psysml:3d6f6111-a5f0-4f07-bf0a-543b5052b3c3\" xlink:actuate=\"onRequest\" xlink:href=\"psysml:3d6f6111-a5f0-4f07-bf0a-543b5052b3c3\" xlink:show=\"new\" xlink:title=\"psysml:3d6f6111-a5f0-4f07-bf0a-543b5052b3c3\" xlink:type=\"simple\"><path d=\"M575,167.08 C575,173.38 575,182.09 575,190.34 \" fill=\"none\" id=\"*start*E6-&gt;E7\" style=\"stroke: #383838; stroke-width: 1.0;\"/><polygon fill=\"#383838\" points=\"575,195.38,579,186.38,575,190.38,571,186.38,575,195.38\" style=\"stroke: #383838; stroke-width: 1.0;\"/></a><!--MD5=[7ec9a8babba89ddcae1318ca9fb3c814]\n",
       "link E8 to *end*E6--><a href=\"psysml:374875bf-0004-40f7-bedc-1374d527cde5\" target=\"_top\" title=\"psysml:374875bf-0004-40f7-bedc-1374d527cde5\" xlink:actuate=\"onRequest\" xlink:href=\"psysml:374875bf-0004-40f7-bedc-1374d527cde5\" xlink:show=\"new\" xlink:title=\"psysml:374875bf-0004-40f7-bedc-1374d527cde5\" xlink:type=\"simple\"><path d=\"M600,316.6 C600,325.73 600,335.95 600,344 \" fill=\"none\" id=\"E8-&gt;*end*E6\" style=\"stroke: #383838; stroke-width: 1.0;\"/><polygon fill=\"#383838\" points=\"600,349.2,604,340.2,600,344.2,596,340.2,600,349.2\" style=\"stroke: #383838; stroke-width: 1.0;\"/><text fill=\"#000000\" font-family=\"sans-serif\" font-size=\"13\" lengthAdjust=\"spacingAndGlyphs\" textLength=\"23\" x=\"601\" y=\"337.5669\">Exit</text></a><!--MD5=[79bc8f324ef4d02c541433f2e6e513c3]\n",
       "link E7 to E8--><a href=\"psysml:69f1494c-077d-4519-8343-87cce73be713\" target=\"_top\" title=\"psysml:69f1494c-077d-4519-8343-87cce73be713\" xlink:actuate=\"onRequest\" xlink:href=\"psysml:69f1494c-077d-4519-8343-87cce73be713\" xlink:show=\"new\" xlink:title=\"psysml:69f1494c-077d-4519-8343-87cce73be713\" xlink:type=\"simple\"><path d=\"M549.73,220.27 C535.78,223.78 519.6,230.54 511,243.5 C506.82,249.8 506.62,254.34 511,260.5 C512,261.9 513.06,263.24 514.18,264.52 \" fill=\"none\" id=\"E7-&gt;E8\" style=\"stroke: #383838; stroke-width: 1.0;\"/><polygon fill=\"#383838\" points=\"517.73,268.17,514.3248,258.9285,514.2448,264.5848,508.5885,264.5048,517.73,268.17\" style=\"stroke: #383838; stroke-width: 1.0;\"/><text fill=\"#000000\" font-family=\"sans-serif\" font-size=\"13\" lengthAdjust=\"spacingAndGlyphs\" textLength=\"81\" x=\"512\" y=\"256.5669\">Sig /action D</text></a><!--MD5=[bfa3c8b0d15052fdf50ae9310b491027]\n",
       "link E8 to E7--><a href=\"psysml:f8d53726-bfe5-4353-91f3-ae2ef06d9a38\" target=\"_top\" title=\"psysml:f8d53726-bfe5-4353-91f3-ae2ef06d9a38\" xlink:actuate=\"onRequest\" xlink:href=\"psysml:f8d53726-bfe5-4353-91f3-ae2ef06d9a38\" xlink:show=\"new\" xlink:title=\"psysml:f8d53726-bfe5-4353-91f3-ae2ef06d9a38\" xlink:type=\"simple\"><path d=\"M602.07,268.4 C602.02,260.29 601.04,251.27 598,243.5 C597.53,242.3 596.98,241.11 596.37,239.94 \" fill=\"none\" id=\"E8-&gt;E7\" style=\"stroke: #383838; stroke-width: 1.0;\"/><polygon fill=\"#383838\" points=\"593.74,235.56,594.9405,245.3354,596.3125,239.8475,601.8004,241.2195,593.74,235.56\" style=\"stroke: #383838; stroke-width: 1.0;\"/><text fill=\"#000000\" font-family=\"sans-serif\" font-size=\"13\" lengthAdjust=\"spacingAndGlyphs\" textLength=\"135\" x=\"602\" y=\"256.5669\">Sig [true]/send s to p</text></a><!--MD5=[485203b9dc3985487395d248579c7a43]\n",
       "@startuml\r\n",
       "skinparam ranksep 10\r\n",
       "skinparam rectangle {\r\n",
       " backgroundColor<<block>> LightGreen\r\n",
       "}\r\n",
       " skinparam monochrome true\r\n",
       "skinparam classbackgroundcolor white\r\n",
       "skinparam shadowing false\r\n",
       "skinparam wrapWidth 300\r\n",
       "hide circle\r\n",
       "\r\n",
       "package \"StateTest\" as E1  [[psysml:800f45c9-cf5c-46ce-b3c3-487778cd6319 ]]  {\r\n",
       "def \"Sig\" as E2  <<(T,blue)attribute def>> [[psysml:f1048496-f45f-4de3-be42-17169da36fba ]] \r\n",
       "def \"Exit\" as E3  <<(T,blue)attribute def>> [[psysml:546c6a0a-79ca-4224-b50a-77e407cae485 ]] \r\n",
       "rec usage \"p\" as E4  [[psysml:4710131f-7c31-45d9-a6fe-10a60fc8490a ]] {\r\n",
       "}\r\n",
       "rec usage \"act\" as E5  <<(T,blue)action>> [[psysml:0b92cdb5-3694-4434-adff-e0b2149bd4e6 ]] {\r\n",
       "}\r\n",
       "\r\n",
       "rec def \"S\" as E6  <<(T,blue)state def>> [[psysml:f2a66a23-1197-47ed-b1bd-74e1ad61d6fd ]] {\r\n",
       "rec usage \"S1\" as E7 [[psysml:0ffea2c5-2698-4589-991c-94f7ac5b0395 ]] {\r\n",
       "}\r\n",
       "\r\n",
       "rec usage \"S2\" as E8 [[psysml:f6369ddf-93b2-4791-a9ee-7d090a7e6258 ]] {\r\n",
       "desc \"S2\" as E8  : **do**/  send Sig(T::s::x) to p\r\n",
       "}\r\n",
       "\r\n",
       "desc \"S\" as E6  : **entry**/ A\r\n",
       "desc \"S\" as E6  : **do**/ B\r\n",
       "desc \"S\" as E6  : **exit**/ act \r\n",
       "[*] - -> E7 [[psysml:3d6f6111-a5f0-4f07-bf0a-543b5052b3c3 ]] \r\n",
       "E8  - -> [*] [[psysml:374875bf-0004-40f7-bedc-1374d527cde5 ]] : Exit \r\n",
       "}\r\n",
       "\r\n",
       "E7  - -> E8 [[psysml:69f1494c-077d-4519-8343-87cce73be713 ]] : Sig /action D\r\n",
       "E8  - -> E7 [[psysml:f8d53726-bfe5-4353-91f3-ae2ef06d9a38 ]] : Sig [true]/send s to p\r\n",
       "}\r\n",
       "@enduml\r\n",
       "\n",
       "PlantUML version 1.2020.13(Sat Jun 13 12:26:38 UTC 2020)\n",
       "(EPL source distribution)\n",
       "Java Runtime: OpenJDK Runtime Environment\n",
       "JVM: OpenJDK 64-Bit Server VM\n",
       "Default Encoding: UTF-8\n",
       "Language: en\n",
       "Country: null\n",
       "--></g></svg>"
      ]
     },
     "execution_count": 5,
     "metadata": {},
     "output_type": "execute_result"
    }
   ],
   "source": [
    "%viz --style=\"COMPTREE\" --view=\"Interconnection\" \"StateTest\""
   ]
  },
  {
   "cell_type": "code",
   "execution_count": 6,
   "id": "25efbd74",
   "metadata": {
    "execution": {
     "iopub.execute_input": "2021-04-21T20:23:40.617318Z",
     "iopub.status.busy": "2021-04-21T20:23:40.616887Z",
     "iopub.status.idle": "2021-04-21T20:23:40.711959Z",
     "shell.execute_reply": "2021-04-21T20:23:40.711549Z"
    }
   },
   "outputs": [
    {
     "data": {
      "image/svg+xml": [
       "<?xml version=\"1.0\" encoding=\"UTF-8\" standalone=\"no\"?><svg xmlns=\"http://www.w3.org/2000/svg\" xmlns:xlink=\"http://www.w3.org/1999/xlink\" contentScriptType=\"application/ecmascript\" contentStyleType=\"text/css\" height=\"444px\" preserveAspectRatio=\"none\" style=\"width:594px;height:444px;\" version=\"1.1\" viewBox=\"0 0 594 444\" width=\"594px\" zoomAndPan=\"magnify\"><defs/><g><!--MD5=[e4f7fae6ed58524ba242bb0b0d3be6b7]\n",
       "cluster E2--><a href=\"psysml:f2a66a23-1197-47ed-b1bd-74e1ad61d6fd\" target=\"_top\" title=\"psysml:f2a66a23-1197-47ed-b1bd-74e1ad61d6fd\" xlink:actuate=\"onRequest\" xlink:href=\"psysml:f2a66a23-1197-47ed-b1bd-74e1ad61d6fd\" xlink:show=\"new\" xlink:title=\"psysml:f2a66a23-1197-47ed-b1bd-74e1ad61d6fd\" xlink:type=\"simple\"><rect fill=\"#FFFFFF\" height=\"426\" id=\"E2\" style=\"stroke: #383838; stroke-width: 1.5;\" width=\"497\" x=\"86\" y=\"7\"/><rect fill=\"#F8F8F8\" height=\"37.9375\" style=\"stroke: #383838; stroke-width: 1.5;\" width=\"497\" x=\"86\" y=\"7\"/><text fill=\"#000000\" font-family=\"sans-serif\" font-size=\"12\" font-style=\"italic\" lengthAdjust=\"spacingAndGlyphs\" textLength=\"71\" x=\"299\" y=\"23.1387\">«state def»</text><text fill=\"#000000\" font-family=\"sans-serif\" font-size=\"12\" lengthAdjust=\"spacingAndGlyphs\" textLength=\"8\" x=\"330.5\" y=\"37.1074\">S</text></a><!--MD5=[168fadf3d0c3fd93dd5d6da1b1d7ab76]\n",
       "cluster E7--><a href=\"psysml:f6369ddf-93b2-4791-a9ee-7d090a7e6258\" target=\"_top\" title=\"psysml:f6369ddf-93b2-4791-a9ee-7d090a7e6258\" xlink:actuate=\"onRequest\" xlink:href=\"psysml:f6369ddf-93b2-4791-a9ee-7d090a7e6258\" xlink:show=\"new\" xlink:title=\"psysml:f6369ddf-93b2-4791-a9ee-7d090a7e6258\" xlink:type=\"simple\"><rect fill=\"#FFFFFF\" height=\"138\" id=\"E7\" rx=\"10\" ry=\"10\" style=\"stroke: #383838; stroke-width: 1.5;\" width=\"195\" x=\"327\" y=\"210\"/><rect fill=\"#F8F8F8\" height=\"37.9375\" rx=\"10\" ry=\"10\" style=\"stroke: #F8F8F8; stroke-width: 1.5;\" width=\"195\" x=\"327\" y=\"210\"/><rect fill=\"#F8F8F8\" height=\"10\" style=\"stroke: #F8F8F8; stroke-width: 1.5;\" width=\"195\" x=\"327\" y=\"237.9375\"/><rect fill=\"none\" height=\"138\" id=\"E7\" rx=\"10\" ry=\"10\" style=\"stroke: #383838; stroke-width: 1.5;\" width=\"195\" x=\"327\" y=\"210\"/><text fill=\"#000000\" font-family=\"sans-serif\" font-size=\"12\" font-style=\"italic\" lengthAdjust=\"spacingAndGlyphs\" textLength=\"47\" x=\"401\" y=\"226.1387\">«state»</text><text fill=\"#000000\" font-family=\"sans-serif\" font-size=\"12\" lengthAdjust=\"spacingAndGlyphs\" textLength=\"16\" x=\"416.5\" y=\"240.1074\">S2</text><line style=\"stroke: #383838; stroke-width: 1.0;\" x1=\"327\" x2=\"522\" y1=\"247.9375\" y2=\"247.9375\"/></a><g id=\"E1\"><a href=\"psysml:0b92cdb5-3694-4434-adff-e0b2149bd4e6\" target=\"_top\" title=\"psysml:0b92cdb5-3694-4434-adff-e0b2149bd4e6\" xlink:actuate=\"onRequest\" xlink:href=\"psysml:0b92cdb5-3694-4434-adff-e0b2149bd4e6\" xlink:show=\"new\" xlink:title=\"psysml:0b92cdb5-3694-4434-adff-e0b2149bd4e6\" xlink:type=\"simple\"><rect fill=\"#FFFFFF\" height=\"42.9375\" id=\"E1\" rx=\"10\" ry=\"10\" style=\"stroke: #383838; stroke-width: 1.5;\" width=\"60\" x=\"7\" y=\"58\"/><rect fill=\"#F8F8F8\" height=\"37.9375\" rx=\"10\" ry=\"10\" style=\"stroke: #F8F8F8; stroke-width: 1.5;\" width=\"60\" x=\"7\" y=\"58\"/><rect fill=\"#F8F8F8\" height=\"10\" style=\"stroke: #F8F8F8; stroke-width: 1.5;\" width=\"60\" x=\"7\" y=\"85.9375\"/><rect fill=\"none\" height=\"42.9375\" id=\"E1\" rx=\"10\" ry=\"10\" style=\"stroke: #383838; stroke-width: 1.5;\" width=\"60\" x=\"7\" y=\"58\"/><text fill=\"#000000\" font-family=\"sans-serif\" font-size=\"12\" font-style=\"italic\" lengthAdjust=\"spacingAndGlyphs\" textLength=\"53\" x=\"10.5\" y=\"74.1387\">«action»</text><text fill=\"#000000\" font-family=\"sans-serif\" font-size=\"12\" lengthAdjust=\"spacingAndGlyphs\" textLength=\"20\" x=\"27\" y=\"88.1074\">act</text></a></g><ellipse cx=\"557\" cy=\"79.5\" fill=\"#000000\" rx=\"10\" ry=\"10\" style=\"stroke: none; stroke-width: 1.0;\"/><ellipse cx=\"335\" cy=\"407\" fill=\"none\" rx=\"10\" ry=\"10\" style=\"stroke: #000000; stroke-width: 1.0;\"/><ellipse cx=\"335.5\" cy=\"407.5\" fill=\"#000000\" rx=\"6\" ry=\"6\" style=\"stroke: none; stroke-width: 1.0;\"/><g id=\"E2.E3\"><a href=\"psysml:b2584b97-8c36-4971-ba08-266a53e2e05d\" target=\"_top\" title=\"psysml:b2584b97-8c36-4971-ba08-266a53e2e05d\" xlink:actuate=\"onRequest\" xlink:href=\"psysml:b2584b97-8c36-4971-ba08-266a53e2e05d\" xlink:show=\"new\" xlink:title=\"psysml:b2584b97-8c36-4971-ba08-266a53e2e05d\" xlink:type=\"simple\"><rect fill=\"#FFFFFF\" height=\"42.9375\" id=\"E3\" rx=\"10\" ry=\"10\" style=\"stroke: #383838; stroke-width: 1.5;\" width=\"113\" x=\"398.5\" y=\"58\"/><rect fill=\"#F8F8F8\" height=\"37.9375\" rx=\"10\" ry=\"10\" style=\"stroke: #F8F8F8; stroke-width: 1.5;\" width=\"113\" x=\"398.5\" y=\"58\"/><rect fill=\"#F8F8F8\" height=\"10\" style=\"stroke: #F8F8F8; stroke-width: 1.5;\" width=\"113\" x=\"398.5\" y=\"85.9375\"/><rect fill=\"none\" height=\"42.9375\" id=\"E3\" rx=\"10\" ry=\"10\" style=\"stroke: #383838; stroke-width: 1.5;\" width=\"113\" x=\"398.5\" y=\"58\"/><text fill=\"#000000\" font-family=\"sans-serif\" font-size=\"12\" font-style=\"italic\" lengthAdjust=\"spacingAndGlyphs\" textLength=\"106\" x=\"402\" y=\"74.1387\">«perform action»</text><text fill=\"#000000\" font-family=\"sans-serif\" font-size=\"12\" lengthAdjust=\"spacingAndGlyphs\" textLength=\"8\" x=\"451\" y=\"88.1074\">A</text></a></g><g id=\"E2.E4\"><a href=\"psysml:4ff81092-47a1-4e96-8d92-0120048334f8\" target=\"_top\" title=\"psysml:4ff81092-47a1-4e96-8d92-0120048334f8\" xlink:actuate=\"onRequest\" xlink:href=\"psysml:4ff81092-47a1-4e96-8d92-0120048334f8\" xlink:show=\"new\" xlink:title=\"psysml:4ff81092-47a1-4e96-8d92-0120048334f8\" xlink:type=\"simple\"><rect fill=\"#FFFFFF\" height=\"42.9375\" id=\"E4\" rx=\"10\" ry=\"10\" style=\"stroke: #383838; stroke-width: 1.5;\" width=\"113\" x=\"250.5\" y=\"58\"/><rect fill=\"#F8F8F8\" height=\"37.9375\" rx=\"10\" ry=\"10\" style=\"stroke: #F8F8F8; stroke-width: 1.5;\" width=\"113\" x=\"250.5\" y=\"58\"/><rect fill=\"#F8F8F8\" height=\"10\" style=\"stroke: #F8F8F8; stroke-width: 1.5;\" width=\"113\" x=\"250.5\" y=\"85.9375\"/><rect fill=\"none\" height=\"42.9375\" id=\"E4\" rx=\"10\" ry=\"10\" style=\"stroke: #383838; stroke-width: 1.5;\" width=\"113\" x=\"250.5\" y=\"58\"/><text fill=\"#000000\" font-family=\"sans-serif\" font-size=\"12\" font-style=\"italic\" lengthAdjust=\"spacingAndGlyphs\" textLength=\"106\" x=\"254\" y=\"74.1387\">«perform action»</text><text fill=\"#000000\" font-family=\"sans-serif\" font-size=\"12\" lengthAdjust=\"spacingAndGlyphs\" textLength=\"8\" x=\"303\" y=\"88.1074\">B</text></a></g><g id=\"E2.E5\"><a href=\"psysml:304a78cc-8684-4bf6-a939-94ca910a3e9f\" target=\"_top\" title=\"psysml:304a78cc-8684-4bf6-a939-94ca910a3e9f\" xlink:actuate=\"onRequest\" xlink:href=\"psysml:304a78cc-8684-4bf6-a939-94ca910a3e9f\" xlink:show=\"new\" xlink:title=\"psysml:304a78cc-8684-4bf6-a939-94ca910a3e9f\" xlink:type=\"simple\"><rect fill=\"#FFFFFF\" height=\"42.9375\" id=\"E5\" rx=\"10\" ry=\"10\" style=\"stroke: #383838; stroke-width: 1.5;\" width=\"113\" x=\"102.5\" y=\"58\"/><rect fill=\"#F8F8F8\" height=\"37.9375\" rx=\"10\" ry=\"10\" style=\"stroke: #F8F8F8; stroke-width: 1.5;\" width=\"113\" x=\"102.5\" y=\"58\"/><rect fill=\"#F8F8F8\" height=\"10\" style=\"stroke: #F8F8F8; stroke-width: 1.5;\" width=\"113\" x=\"102.5\" y=\"85.9375\"/><rect fill=\"none\" height=\"42.9375\" id=\"E5\" rx=\"10\" ry=\"10\" style=\"stroke: #383838; stroke-width: 1.5;\" width=\"113\" x=\"102.5\" y=\"58\"/><text fill=\"#000000\" font-family=\"sans-serif\" font-size=\"12\" font-style=\"italic\" lengthAdjust=\"spacingAndGlyphs\" textLength=\"106\" x=\"106\" y=\"74.1387\">«perform action»</text><text fill=\"#000000\" font-family=\"sans-serif\" font-size=\"12\" lengthAdjust=\"spacingAndGlyphs\" textLength=\"20\" x=\"149\" y=\"88.1074\">act</text></a></g><g id=\"E2.E6\"><a href=\"psysml:0ffea2c5-2698-4589-991c-94f7ac5b0395\" target=\"_top\" title=\"psysml:0ffea2c5-2698-4589-991c-94f7ac5b0395\" xlink:actuate=\"onRequest\" xlink:href=\"psysml:0ffea2c5-2698-4589-991c-94f7ac5b0395\" xlink:show=\"new\" xlink:title=\"psysml:0ffea2c5-2698-4589-991c-94f7ac5b0395\" xlink:type=\"simple\"><rect fill=\"#FFFFFF\" height=\"42.9375\" id=\"E6\" rx=\"10\" ry=\"10\" style=\"stroke: #383838; stroke-width: 1.5;\" width=\"54\" x=\"403\" y=\"118\"/><rect fill=\"#F8F8F8\" height=\"37.9375\" rx=\"10\" ry=\"10\" style=\"stroke: #F8F8F8; stroke-width: 1.5;\" width=\"54\" x=\"403\" y=\"118\"/><rect fill=\"#F8F8F8\" height=\"10\" style=\"stroke: #F8F8F8; stroke-width: 1.5;\" width=\"54\" x=\"403\" y=\"145.9375\"/><rect fill=\"none\" height=\"42.9375\" id=\"E6\" rx=\"10\" ry=\"10\" style=\"stroke: #383838; stroke-width: 1.5;\" width=\"54\" x=\"403\" y=\"118\"/><text fill=\"#000000\" font-family=\"sans-serif\" font-size=\"12\" font-style=\"italic\" lengthAdjust=\"spacingAndGlyphs\" textLength=\"47\" x=\"406.5\" y=\"134.1387\">«state»</text><text fill=\"#000000\" font-family=\"sans-serif\" font-size=\"12\" lengthAdjust=\"spacingAndGlyphs\" textLength=\"16\" x=\"422\" y=\"148.1074\">S1</text></a></g><!--MD5=[2803005a5f354d3255b1b7bbd839bbf7]\n",
       "entity E8--><a href=\"psysml:4e70c0dc-8141-4b3a-9526-a99ab1429170\" target=\"_top\" title=\"psysml:4e70c0dc-8141-4b3a-9526-a99ab1429170\" xlink:actuate=\"onRequest\" xlink:href=\"psysml:4e70c0dc-8141-4b3a-9526-a99ab1429170\" xlink:show=\"new\" xlink:title=\"psysml:4e70c0dc-8141-4b3a-9526-a99ab1429170\" xlink:type=\"simple\"><polygon fill=\"#F8F8F8\" points=\"370,269,370,323.5938,478,323.5938,498,296.2969,478,269\" style=\"stroke: #000000; stroke-width: 1.5;\"/><text fill=\"#000000\" font-family=\"sans-serif\" font-size=\"14\" font-style=\"italic\" lengthAdjust=\"spacingAndGlyphs\" textLength=\"99\" x=\"377\" y=\"291.9951\">«send action»</text><text fill=\"#000000\" font-family=\"sans-serif\" font-size=\"14\" lengthAdjust=\"spacingAndGlyphs\" textLength=\"75\" x=\"389\" y=\"309.292\">Sig(T::s::x)</text></a><!--MD5=[2e26681bccdb10b30299c36e1180c624]\n",
       "link *start*E2 to E6--><a href=\"psysml:3d6f6111-a5f0-4f07-bf0a-543b5052b3c3\" target=\"_top\" title=\"psysml:3d6f6111-a5f0-4f07-bf0a-543b5052b3c3\" xlink:actuate=\"onRequest\" xlink:href=\"psysml:3d6f6111-a5f0-4f07-bf0a-543b5052b3c3\" xlink:show=\"new\" xlink:title=\"psysml:3d6f6111-a5f0-4f07-bf0a-543b5052b3c3\" xlink:type=\"simple\"><path d=\"M549.53,86.84 C544.09,91.22 536.41,96.98 529,101 C507.7,112.55 482.09,122.15 462.25,128.74 \" fill=\"none\" id=\"*start*E2-&gt;E6\" style=\"stroke: #383838; stroke-width: 1.0; stroke-dasharray: 7.0,7.0;\"/><polygon fill=\"#383838\" points=\"457.34,130.36,467.1387,131.353,462.0905,128.8003,464.6432,123.7522,457.34,130.36\" style=\"stroke: #383838; stroke-width: 1.0;\"/></a><!--MD5=[ff9e4afefa821aea7eda324d3041742a]\n",
       "link E7 to *end*E2--><a href=\"psysml:374875bf-0004-40f7-bedc-1374d527cde5\" target=\"_top\" title=\"psysml:374875bf-0004-40f7-bedc-1374d527cde5\" xlink:actuate=\"onRequest\" xlink:href=\"psysml:374875bf-0004-40f7-bedc-1374d527cde5\" xlink:show=\"new\" xlink:title=\"psysml:374875bf-0004-40f7-bedc-1374d527cde5\" xlink:type=\"simple\"><path d=\"M335,348.1183 C335,348.2776 335,348.437 335,348.5964 C335,348.9153 335,349.2342 335,349.5533 C335,354.6588 335,359.7902 335,364.7664 C335,374.7188 335,384.05 335,391.31 \" fill=\"none\" id=\"E7-&gt;*end*E2\" style=\"stroke: #383838; stroke-width: 1.0; stroke-dasharray: 7.0,7.0;\"/><polygon fill=\"#383838\" points=\"335,396.65,339,387.65,335,391.65,331,387.65,335,396.65\" style=\"stroke: #383838; stroke-width: 1.0;\"/><text fill=\"#000000\" font-family=\"sans-serif\" font-size=\"13\" lengthAdjust=\"spacingAndGlyphs\" textLength=\"23\" x=\"336\" y=\"385.0669\">Exit</text></a><!--MD5=[02c70b7c851c11e3980e4e90450dc5dd]\n",
       "link E6 to E7--><a href=\"psysml:69f1494c-077d-4519-8343-87cce73be713\" target=\"_top\" title=\"psysml:69f1494c-077d-4519-8343-87cce73be713\" xlink:actuate=\"onRequest\" xlink:href=\"psysml:69f1494c-077d-4519-8343-87cce73be713\" xlink:show=\"new\" xlink:title=\"psysml:69f1494c-077d-4519-8343-87cce73be713\" xlink:type=\"simple\"><path d=\"M402.96,142.74 C369.7,146.11 316.15,153.8 304,169 C286.215,191.26 293.4475,222.2525 305.3787,247.9887 C311.3444,260.8569 318.4847,272.4109 324.2598,280.9023 C324.9817,281.9638 325.6823,282.9773 326.3566,283.9396 C326.5251,284.1802 326.6921,284.4176 326.8573,284.6517 \" fill=\"none\" id=\"E6-&gt;E7\" style=\"stroke: #383838; stroke-width: 1.0; stroke-dasharray: 7.0,7.0;\"/><polygon fill=\"#383838\" points=\"326.8573,284.6517,324.9364,274.992,323.9745,280.5664,318.4,279.6045,326.8573,284.6517\" style=\"stroke: #383838; stroke-width: 1.0;\"/><text fill=\"#000000\" font-family=\"sans-serif\" font-size=\"13\" lengthAdjust=\"spacingAndGlyphs\" textLength=\"81\" x=\"305\" y=\"182.0669\">Sig /action D</text></a><!--MD5=[fbb449814971db3a0b8220cf225b9e01]\n",
       "link E7 to E6--><a href=\"psysml:f8d53726-bfe5-4353-91f3-ae2ef06d9a38\" target=\"_top\" title=\"psysml:f8d53726-bfe5-4353-91f3-ae2ef06d9a38\" xlink:actuate=\"onRequest\" xlink:href=\"psysml:f8d53726-bfe5-4353-91f3-ae2ef06d9a38\" xlink:show=\"new\" xlink:title=\"psysml:f8d53726-bfe5-4353-91f3-ae2ef06d9a38\" xlink:type=\"simple\"><path d=\"M342.9071,209.9114 C342.9855,209.7539 343.0643,209.5968 343.1437,209.44 C343.4614,208.8126 343.7878,208.1903 344.1232,207.5733 C346.8063,202.638 350.0625,198.0487 354,194 C365.73,181.94 376.55,194.61 391,186 C399.6,180.88 407.24,173.18 413.43,165.57 \" fill=\"none\" id=\"E7-&gt;E6\" style=\"stroke: #383838; stroke-width: 1.0; stroke-dasharray: 7.0,7.0;\"/><polygon fill=\"#383838\" points=\"416.72,161.36,408.0232,165.9823,413.6385,165.2975,414.3232,170.9128,416.72,161.36\" style=\"stroke: #383838; stroke-width: 1.0;\"/><text fill=\"#000000\" font-family=\"sans-serif\" font-size=\"13\" lengthAdjust=\"spacingAndGlyphs\" textLength=\"135\" x=\"410\" y=\"182.0669\">Sig [true]/send s to p</text></a><!--MD5=[e17acd5c16b6fd368b536e042d0d678f]\n",
       "@startuml\r\n",
       "skinparam ranksep 8\r\n",
       " skinparam monochrome true\r\n",
       "skinparam classbackgroundcolor white\r\n",
       "skinparam shadowing false\r\n",
       "skinparam wrapWidth 300\r\n",
       "hide circle\r\n",
       "\r\n",
       "rec usage \"act\" as E1  <<(T,blue)action>> [[psysml:0b92cdb5-3694-4434-adff-e0b2149bd4e6 ]] {\r\n",
       "}\r\n",
       "\r\n",
       "rec def \"S\" as E2  <<(T,blue)state def>> [[psysml:f2a66a23-1197-47ed-b1bd-74e1ad61d6fd ]] {\r\n",
       "rec usage \"A\" as E3 <<perform action>> [[psysml:b2584b97-8c36-4971-ba08-266a53e2e05d ]] {\r\n",
       "}\r\n",
       "\r\n",
       "rec usage \"B\" as E4 <<perform action>> [[psysml:4ff81092-47a1-4e96-8d92-0120048334f8 ]] {\r\n",
       "}\r\n",
       "\r\n",
       "rec usage \"act\" as E5 <<perform action>> [[psysml:304a78cc-8684-4bf6-a939-94ca910a3e9f ]] {\r\n",
       "}\r\n",
       "\r\n",
       "rec usage \"S1\" as E6  <<(T,blue)state>> [[psysml:0ffea2c5-2698-4589-991c-94f7ac5b0395 ]] {\r\n",
       "}\r\n",
       "\r\n",
       "rec usage \"S2\" as E7  <<(T,blue)state>> [[psysml:f6369ddf-93b2-4791-a9ee-7d090a7e6258 ]] {\r\n",
       "send \" Sig(T::s::x)\" as E8 <<send action>> [[psysml:4e70c0dc-8141-4b3a-9526-a99ab1429170 ]] \r\n",
       "}\r\n",
       "\r\n",
       "[*] ..> E6 [[psysml:3d6f6111-a5f0-4f07-bf0a-543b5052b3c3 ]] \r\n",
       "E7 ..> [*] [[psysml:374875bf-0004-40f7-bedc-1374d527cde5 ]] : Exit \r\n",
       "}\r\n",
       "\r\n",
       "E6 ..> E7 [[psysml:69f1494c-077d-4519-8343-87cce73be713 ]] : Sig /action D\r\n",
       "E7 ..> E6 [[psysml:f8d53726-bfe5-4353-91f3-ae2ef06d9a38 ]] : Sig [true]/send s to p\r\n",
       "@enduml\r\n",
       "\n",
       "PlantUML version 1.2020.13(Sat Jun 13 12:26:38 UTC 2020)\n",
       "(EPL source distribution)\n",
       "Java Runtime: OpenJDK Runtime Environment\n",
       "JVM: OpenJDK 64-Bit Server VM\n",
       "Default Encoding: UTF-8\n",
       "Language: en\n",
       "Country: null\n",
       "--></g></svg>"
      ]
     },
     "execution_count": 6,
     "metadata": {},
     "output_type": "execute_result"
    }
   ],
   "source": [
    "%viz --style=\"COMPTREE\" --view=\"Action\" \"StateTest\""
   ]
  },
  {
   "cell_type": "code",
   "execution_count": 7,
   "id": "2c8e9a6c",
   "metadata": {
    "execution": {
     "iopub.execute_input": "2021-04-21T20:23:40.766572Z",
     "iopub.status.busy": "2021-04-21T20:23:40.765863Z",
     "iopub.status.idle": "2021-04-21T20:23:40.912402Z",
     "shell.execute_reply": "2021-04-21T20:23:40.912961Z"
    }
   },
   "outputs": [
    {
     "data": {
      "image/svg+xml": [
       "<?xml version=\"1.0\" encoding=\"UTF-8\" standalone=\"no\"?><svg xmlns=\"http://www.w3.org/2000/svg\" xmlns:xlink=\"http://www.w3.org/1999/xlink\" contentScriptType=\"application/ecmascript\" contentStyleType=\"text/css\" height=\"365px\" preserveAspectRatio=\"none\" style=\"width:594px;height:365px;\" version=\"1.1\" viewBox=\"0 0 594 365\" width=\"594px\" zoomAndPan=\"magnify\"><defs/><g><!--MD5=[fbc87193dbaf4d95561dea2c320d4a47]\n",
       "cluster E1--><a href=\"psysml:800f45c9-cf5c-46ce-b3c3-487778cd6319\" target=\"_top\" title=\"psysml:800f45c9-cf5c-46ce-b3c3-487778cd6319\" xlink:actuate=\"onRequest\" xlink:href=\"psysml:800f45c9-cf5c-46ce-b3c3-487778cd6319\" xlink:show=\"new\" xlink:title=\"psysml:800f45c9-cf5c-46ce-b3c3-487778cd6319\" xlink:type=\"simple\"><polygon fill=\"#FFFFFF\" points=\"16,6,98,6,105,28.2969,572,28.2969,572,353,16,353,16,6\" style=\"stroke: #000000; stroke-width: 1.5;\"/><line style=\"stroke: #000000; stroke-width: 1.5;\" x1=\"16\" x2=\"105\" y1=\"28.2969\" y2=\"28.2969\"/><text fill=\"#000000\" font-family=\"sans-serif\" font-size=\"14\" font-weight=\"bold\" lengthAdjust=\"spacingAndGlyphs\" textLength=\"76\" x=\"20\" y=\"20.9951\">StateTest</text></a><!--MD5=[b4997ac47864f28c2f74865a473b2911]\n",
       "class E2--><a href=\"psysml:f1048496-f45f-4de3-be42-17169da36fba\" target=\"_top\" title=\"psysml:f1048496-f45f-4de3-be42-17169da36fba\" xlink:actuate=\"onRequest\" xlink:href=\"psysml:f1048496-f45f-4de3-be42-17169da36fba\" xlink:show=\"new\" xlink:title=\"psysml:f1048496-f45f-4de3-be42-17169da36fba\" xlink:type=\"simple\"><rect fill=\"#FFFFFF\" height=\"75.5469\" id=\"E2\" style=\"stroke: #383838; stroke-width: 1.5;\" width=\"95\" x=\"460.5\" y=\"83\"/><text fill=\"#000000\" font-family=\"sans-serif\" font-size=\"12\" font-style=\"italic\" lengthAdjust=\"spacingAndGlyphs\" textLength=\"93\" x=\"461.5\" y=\"99.1387\">«attribute def»</text><text fill=\"#000000\" font-family=\"sans-serif\" font-size=\"12\" lengthAdjust=\"spacingAndGlyphs\" textLength=\"19\" x=\"498.5\" y=\"113.1074\">Sig</text><line style=\"stroke: #383838; stroke-width: 1.5;\" x1=\"461.5\" x2=\"554.5\" y1=\"120.9375\" y2=\"120.9375\"/><text fill=\"#000000\" font-family=\"sans-serif\" font-size=\"11\" lengthAdjust=\"spacingAndGlyphs\" textLength=\"6\" x=\"466.5\" y=\"151.9526\">x</text><line style=\"stroke: #383838; stroke-width: 1.0;\" x1=\"461.5\" x2=\"480.5\" y1=\"135.3398\" y2=\"135.3398\"/><text fill=\"#000000\" font-family=\"sans-serif\" font-size=\"11\" lengthAdjust=\"spacingAndGlyphs\" textLength=\"55\" x=\"480.5\" y=\"138.6479\">attributes</text><line style=\"stroke: #383838; stroke-width: 1.0;\" x1=\"535.5\" x2=\"554.5\" y1=\"135.3398\" y2=\"135.3398\"/></a><!--MD5=[09b614a08d8cba4a07c9adeb5e0fee81]\n",
       "class E3--><a href=\"psysml:546c6a0a-79ca-4224-b50a-77e407cae485\" target=\"_top\" title=\"psysml:546c6a0a-79ca-4224-b50a-77e407cae485\" xlink:actuate=\"onRequest\" xlink:href=\"psysml:546c6a0a-79ca-4224-b50a-77e407cae485\" xlink:show=\"new\" xlink:title=\"psysml:546c6a0a-79ca-4224-b50a-77e407cae485\" xlink:type=\"simple\"><rect fill=\"#FFFFFF\" height=\"45.9375\" id=\"E3\" style=\"stroke: #383838; stroke-width: 1.5;\" width=\"95\" x=\"330.5\" y=\"98\"/><text fill=\"#000000\" font-family=\"sans-serif\" font-size=\"12\" font-style=\"italic\" lengthAdjust=\"spacingAndGlyphs\" textLength=\"93\" x=\"331.5\" y=\"114.1387\">«attribute def»</text><text fill=\"#000000\" font-family=\"sans-serif\" font-size=\"12\" lengthAdjust=\"spacingAndGlyphs\" textLength=\"22\" x=\"367\" y=\"128.1074\">Exit</text><line style=\"stroke: #383838; stroke-width: 1.5;\" x1=\"331.5\" x2=\"424.5\" y1=\"135.9375\" y2=\"135.9375\"/></a><!--MD5=[ebbe1d658d1005bcc118a6aa81145e00]\n",
       "class E4--><a href=\"psysml:4710131f-7c31-45d9-a6fe-10a60fc8490a\" target=\"_top\" title=\"psysml:4710131f-7c31-45d9-a6fe-10a60fc8490a\" xlink:actuate=\"onRequest\" xlink:href=\"psysml:4710131f-7c31-45d9-a6fe-10a60fc8490a\" xlink:show=\"new\" xlink:title=\"psysml:4710131f-7c31-45d9-a6fe-10a60fc8490a\" xlink:type=\"simple\"><rect fill=\"#FFFFFF\" height=\"45.9375\" id=\"E4\" rx=\"10\" ry=\"10\" style=\"stroke: #383838; stroke-width: 1.5;\" width=\"42\" x=\"253\" y=\"98\"/><text fill=\"#000000\" font-family=\"sans-serif\" font-size=\"12\" font-style=\"italic\" lengthAdjust=\"spacingAndGlyphs\" textLength=\"40\" x=\"254\" y=\"114.1387\">«part»</text><text fill=\"#000000\" font-family=\"sans-serif\" font-size=\"12\" lengthAdjust=\"spacingAndGlyphs\" textLength=\"8\" x=\"270\" y=\"128.1074\">p</text><line style=\"stroke: #383838; stroke-width: 1.5;\" x1=\"254\" x2=\"294\" y1=\"135.9375\" y2=\"135.9375\"/></a><!--MD5=[270fce915f116d4de14055a7c1d9a0f3]\n",
       "class E5--><a href=\"psysml:0b92cdb5-3694-4434-adff-e0b2149bd4e6\" target=\"_top\" title=\"psysml:0b92cdb5-3694-4434-adff-e0b2149bd4e6\" xlink:actuate=\"onRequest\" xlink:href=\"psysml:0b92cdb5-3694-4434-adff-e0b2149bd4e6\" xlink:show=\"new\" xlink:title=\"psysml:0b92cdb5-3694-4434-adff-e0b2149bd4e6\" xlink:type=\"simple\"><rect fill=\"#FFFFFF\" height=\"45.9375\" id=\"E5\" rx=\"10\" ry=\"10\" style=\"stroke: #383838; stroke-width: 1.5;\" width=\"55\" x=\"162.5\" y=\"98\"/><text fill=\"#000000\" font-family=\"sans-serif\" font-size=\"12\" font-style=\"italic\" lengthAdjust=\"spacingAndGlyphs\" textLength=\"53\" x=\"163.5\" y=\"114.1387\">«action»</text><text fill=\"#000000\" font-family=\"sans-serif\" font-size=\"12\" lengthAdjust=\"spacingAndGlyphs\" textLength=\"20\" x=\"180\" y=\"128.1074\">act</text><line style=\"stroke: #383838; stroke-width: 1.5;\" x1=\"163.5\" x2=\"216.5\" y1=\"135.9375\" y2=\"135.9375\"/></a><!--MD5=[60a26617385b1d2d0262a64233df1f8d]\n",
       "class E6--><a href=\"psysml:f2a66a23-1197-47ed-b1bd-74e1ad61d6fd\" target=\"_top\" title=\"psysml:f2a66a23-1197-47ed-b1bd-74e1ad61d6fd\" xlink:actuate=\"onRequest\" xlink:href=\"psysml:f2a66a23-1197-47ed-b1bd-74e1ad61d6fd\" xlink:show=\"new\" xlink:title=\"psysml:f2a66a23-1197-47ed-b1bd-74e1ad61d6fd\" xlink:type=\"simple\"><rect fill=\"#FFFFFF\" height=\"160.375\" id=\"E6\" style=\"stroke: #383838; stroke-width: 1.5;\" width=\"95\" x=\"32.5\" y=\"41\"/><text fill=\"#000000\" font-family=\"sans-serif\" font-size=\"12\" font-style=\"italic\" lengthAdjust=\"spacingAndGlyphs\" textLength=\"71\" x=\"44.5\" y=\"57.1387\">«state def»</text><text fill=\"#000000\" font-family=\"sans-serif\" font-size=\"12\" lengthAdjust=\"spacingAndGlyphs\" textLength=\"8\" x=\"76\" y=\"71.1074\">S</text><line style=\"stroke: #383838; stroke-width: 1.5;\" x1=\"33.5\" x2=\"126.5\" y1=\"78.9375\" y2=\"78.9375\"/><text fill=\"#000000\" font-family=\"sans-serif\" font-size=\"11\" lengthAdjust=\"spacingAndGlyphs\" textLength=\"17\" x=\"38.5\" y=\"109.9526\">act</text><text fill=\"#000000\" font-family=\"sans-serif\" font-size=\"11\" lengthAdjust=\"spacingAndGlyphs\" textLength=\"7\" x=\"38.5\" y=\"122.7573\">A</text><text fill=\"#000000\" font-family=\"sans-serif\" font-size=\"11\" lengthAdjust=\"spacingAndGlyphs\" textLength=\"8\" x=\"38.5\" y=\"135.562\">B</text><line style=\"stroke: #383838; stroke-width: 1.0;\" x1=\"33.5\" x2=\"36.5\" y1=\"93.3398\" y2=\"93.3398\"/><text fill=\"#000000\" font-family=\"sans-serif\" font-size=\"11\" lengthAdjust=\"spacingAndGlyphs\" textLength=\"87\" x=\"36.5\" y=\"96.6479\">performActions</text><line style=\"stroke: #383838; stroke-width: 1.0;\" x1=\"123.5\" x2=\"126.5\" y1=\"93.3398\" y2=\"93.3398\"/><text fill=\"#000000\" font-family=\"sans-serif\" font-size=\"11\" lengthAdjust=\"spacingAndGlyphs\" textLength=\"15\" x=\"38.5\" y=\"165.1714\">S1</text><line style=\"stroke: #383838; stroke-width: 1.0;\" x1=\"33.5\" x2=\"62\" y1=\"148.5586\" y2=\"148.5586\"/><text fill=\"#000000\" font-family=\"sans-serif\" font-size=\"11\" lengthAdjust=\"spacingAndGlyphs\" textLength=\"36\" x=\"62\" y=\"151.8667\">states</text><line style=\"stroke: #383838; stroke-width: 1.0;\" x1=\"98\" x2=\"126.5\" y1=\"148.5586\" y2=\"148.5586\"/><text fill=\"#000000\" font-family=\"sans-serif\" font-size=\"11\" lengthAdjust=\"spacingAndGlyphs\" textLength=\"7\" x=\"38.5\" y=\"194.7808\">T</text><line style=\"stroke: #383838; stroke-width: 1.0;\" x1=\"33.5\" x2=\"49.5\" y1=\"178.168\" y2=\"178.168\"/><text fill=\"#000000\" font-family=\"sans-serif\" font-size=\"11\" lengthAdjust=\"spacingAndGlyphs\" textLength=\"61\" x=\"49.5\" y=\"181.4761\">transitions</text><line style=\"stroke: #383838; stroke-width: 1.0;\" x1=\"110.5\" x2=\"126.5\" y1=\"178.168\" y2=\"178.168\"/></a><!--MD5=[1dd1bfd58a279cf63c5f349dbc8fc6a1]\n",
       "class E11--><a href=\"psysml:f6369ddf-93b2-4791-a9ee-7d090a7e6258\" target=\"_top\" title=\"psysml:f6369ddf-93b2-4791-a9ee-7d090a7e6258\" xlink:actuate=\"onRequest\" xlink:href=\"psysml:f6369ddf-93b2-4791-a9ee-7d090a7e6258\" xlink:show=\"new\" xlink:title=\"psysml:f6369ddf-93b2-4791-a9ee-7d090a7e6258\" xlink:type=\"simple\"><rect fill=\"#FFFFFF\" height=\"75.5469\" id=\"E11\" rx=\"10\" ry=\"10\" style=\"stroke: #383838; stroke-width: 1.5;\" width=\"77\" x=\"41.5\" y=\"261\"/><text fill=\"#000000\" font-family=\"sans-serif\" font-size=\"12\" font-style=\"italic\" lengthAdjust=\"spacingAndGlyphs\" textLength=\"47\" x=\"56.5\" y=\"277.1387\">«state»</text><text fill=\"#000000\" font-family=\"sans-serif\" font-size=\"12\" lengthAdjust=\"spacingAndGlyphs\" textLength=\"16\" x=\"72\" y=\"291.1074\">S2</text><line style=\"stroke: #383838; stroke-width: 1.5;\" x1=\"42.5\" x2=\"117.5\" y1=\"298.9375\" y2=\"298.9375\"/><text fill=\"#000000\" font-family=\"sans-serif\" font-size=\"11\" lengthAdjust=\"spacingAndGlyphs\" textLength=\"48\" x=\"47.5\" y=\"329.9526\">doAction</text><line style=\"stroke: #383838; stroke-width: 1.0;\" x1=\"42.5\" x2=\"45.5\" y1=\"313.3398\" y2=\"313.3398\"/><text fill=\"#000000\" font-family=\"sans-serif\" font-size=\"11\" lengthAdjust=\"spacingAndGlyphs\" textLength=\"69\" x=\"45.5\" y=\"316.6479\">sendActions</text><line style=\"stroke: #383838; stroke-width: 1.0;\" x1=\"114.5\" x2=\"117.5\" y1=\"313.3398\" y2=\"313.3398\"/></a><!--MD5=[1f5f03483f7de0d5b3680a7f6650997f]\n",
       "reverse link E6 to E11--><a href=\"psysml:247e0169-6466-401b-83f0-032a7b21c539\" target=\"_top\" title=\"psysml:247e0169-6466-401b-83f0-032a7b21c539\" xlink:actuate=\"onRequest\" xlink:href=\"psysml:247e0169-6466-401b-83f0-032a7b21c539\" xlink:show=\"new\" xlink:title=\"psysml:247e0169-6466-401b-83f0-032a7b21c539\" xlink:type=\"simple\"><path d=\"M80,214.46 C80,230.92 80,247.18 80,260.92 \" fill=\"none\" id=\"E6&lt;-E11\" style=\"stroke: #383838; stroke-width: 1.0;\"/><polygon fill=\"#383838\" points=\"80,201.25,76,207.25,80,213.25,84,207.25,80,201.25\" style=\"stroke: #383838; stroke-width: 1.0;\"/></a><!--MD5=[c8cf1e7a901e80e5fe2a5e2cb742e3fa]\n",
       "@startuml\r\n",
       " skinparam monochrome true\r\n",
       "skinparam classbackgroundcolor white\r\n",
       "skinparam shadowing false\r\n",
       "skinparam wrapWidth 300\r\n",
       "hide circle\r\n",
       "\r\n",
       "package \"StateTest\" as E1  [[psysml:800f45c9-cf5c-46ce-b3c3-487778cd6319 ]]  {\r\n",
       "comp def \"Sig\" as E2  <<(T,blue)attribute def>> [[psysml:f1048496-f45f-4de3-be42-17169da36fba ]] {\r\n",
       "- - attributes - -\r\n",
       "x\r\n",
       "}\r\n",
       "comp def \"Exit\" as E3  <<(T,blue)attribute def>> [[psysml:546c6a0a-79ca-4224-b50a-77e407cae485 ]] {\r\n",
       "}\r\n",
       "comp usage \"p\" as E4  <<(T,blue)part>> [[psysml:4710131f-7c31-45d9-a6fe-10a60fc8490a ]] {\r\n",
       "}\r\n",
       "comp usage \"act\" as E5  <<(T,blue)action>> [[psysml:0b92cdb5-3694-4434-adff-e0b2149bd4e6 ]] {\r\n",
       "}\r\n",
       "comp def \"S\" as E6  <<(T,blue)state def>> [[psysml:f2a66a23-1197-47ed-b1bd-74e1ad61d6fd ]] {\r\n",
       "- - performActions - -\r\n",
       "act\r\n",
       "A\r\n",
       "B\r\n",
       "- - states - -\r\n",
       "S1\r\n",
       "- - transitions - -\r\n",
       "T\r\n",
       "}\r\n",
       "comp usage \"S2\" as E11  <<(T,blue)state>> [[psysml:f6369ddf-93b2-4791-a9ee-7d090a7e6258 ]] {\r\n",
       "- - sendActions - -\r\n",
       "doAction\r\n",
       "}\r\n",
       "E6 *- - E11 [[psysml:247e0169-6466-401b-83f0-032a7b21c539 ]] \r\n",
       "}\r\n",
       "@enduml\r\n",
       "\n",
       "PlantUML version 1.2020.13(Sat Jun 13 12:26:38 UTC 2020)\n",
       "(EPL source distribution)\n",
       "Java Runtime: OpenJDK Runtime Environment\n",
       "JVM: OpenJDK 64-Bit Server VM\n",
       "Default Encoding: UTF-8\n",
       "Language: en\n",
       "Country: null\n",
       "--></g></svg>"
      ]
     },
     "execution_count": 7,
     "metadata": {},
     "output_type": "execute_result"
    }
   ],
   "source": [
    "%viz --style=\"COMPTREE\" --view=\"Sequence\" \"StateTest\""
   ]
  },
  {
   "cell_type": "code",
   "execution_count": 8,
   "id": "913ae479",
   "metadata": {
    "execution": {
     "iopub.execute_input": "2021-04-21T20:23:40.963922Z",
     "iopub.status.busy": "2021-04-21T20:23:40.963199Z",
     "iopub.status.idle": "2021-04-21T20:23:41.024234Z",
     "shell.execute_reply": "2021-04-21T20:23:41.023741Z"
    }
   },
   "outputs": [
    {
     "data": {
      "image/svg+xml": [
       "<?xml version=\"1.0\" encoding=\"UTF-8\" standalone=\"no\"?><svg xmlns=\"http://www.w3.org/2000/svg\" xmlns:xlink=\"http://www.w3.org/1999/xlink\" contentScriptType=\"application/ecmascript\" contentStyleType=\"text/css\" height=\"570px\" preserveAspectRatio=\"none\" style=\"width:819px;height:570px;\" version=\"1.1\" viewBox=\"0 0 819 570\" width=\"819px\" zoomAndPan=\"magnify\"><defs/><g><!--MD5=[fbc87193dbaf4d95561dea2c320d4a47]\n",
       "cluster E1--><a href=\"psysml:800f45c9-cf5c-46ce-b3c3-487778cd6319\" target=\"_top\" title=\"psysml:800f45c9-cf5c-46ce-b3c3-487778cd6319\" xlink:actuate=\"onRequest\" xlink:href=\"psysml:800f45c9-cf5c-46ce-b3c3-487778cd6319\" xlink:show=\"new\" xlink:title=\"psysml:800f45c9-cf5c-46ce-b3c3-487778cd6319\" xlink:type=\"simple\"><polygon fill=\"#FFFFFF\" points=\"16,6,98,6,105,28.2969,797,28.2969,797,558,16,558,16,6\" style=\"stroke: #000000; stroke-width: 1.5;\"/><line style=\"stroke: #000000; stroke-width: 1.5;\" x1=\"16\" x2=\"105\" y1=\"28.2969\" y2=\"28.2969\"/><text fill=\"#000000\" font-family=\"sans-serif\" font-size=\"14\" font-weight=\"bold\" lengthAdjust=\"spacingAndGlyphs\" textLength=\"76\" x=\"20\" y=\"20.9951\">StateTest</text></a><!--MD5=[14e3b0961a2654348d326746436168a1]\n",
       "cluster E6--><a href=\"psysml:f2a66a23-1197-47ed-b1bd-74e1ad61d6fd\" target=\"_top\" title=\"psysml:f2a66a23-1197-47ed-b1bd-74e1ad61d6fd\" xlink:actuate=\"onRequest\" xlink:href=\"psysml:f2a66a23-1197-47ed-b1bd-74e1ad61d6fd\" xlink:show=\"new\" xlink:title=\"psysml:f2a66a23-1197-47ed-b1bd-74e1ad61d6fd\" xlink:type=\"simple\"><rect fill=\"#FFFFFF\" height=\"485\" id=\"E6\" style=\"stroke: #383838; stroke-width: 1.5;\" width=\"327\" x=\"446\" y=\"49\"/><rect fill=\"#F8F8F8\" height=\"37.9375\" style=\"stroke: #383838; stroke-width: 1.5;\" width=\"327\" x=\"446\" y=\"49\"/><text fill=\"#000000\" font-family=\"sans-serif\" font-size=\"12\" font-style=\"italic\" lengthAdjust=\"spacingAndGlyphs\" textLength=\"71\" x=\"574\" y=\"65.1387\">«state def»</text><text fill=\"#000000\" font-family=\"sans-serif\" font-size=\"12\" lengthAdjust=\"spacingAndGlyphs\" textLength=\"8\" x=\"605.5\" y=\"79.1074\">S</text><line style=\"stroke: #383838; stroke-width: 1.0;\" x1=\"446\" x2=\"773\" y1=\"132.8438\" y2=\"132.8438\"/><text fill=\"#000000\" font-family=\"sans-serif\" font-size=\"12\" font-weight=\"bold\" lengthAdjust=\"spacingAndGlyphs\" textLength=\"38\" x=\"451\" y=\"100.0762\">entry</text><text fill=\"#000000\" font-family=\"sans-serif\" font-size=\"12\" lengthAdjust=\"spacingAndGlyphs\" textLength=\"16\" x=\"489\" y=\"100.0762\">/ A</text><text fill=\"#000000\" font-family=\"sans-serif\" font-size=\"12\" font-weight=\"bold\" lengthAdjust=\"spacingAndGlyphs\" textLength=\"18\" x=\"451\" y=\"114.0449\">do</text><text fill=\"#000000\" font-family=\"sans-serif\" font-size=\"12\" lengthAdjust=\"spacingAndGlyphs\" textLength=\"16\" x=\"469\" y=\"114.0449\">/ B</text><text fill=\"#000000\" font-family=\"sans-serif\" font-size=\"12\" font-weight=\"bold\" lengthAdjust=\"spacingAndGlyphs\" textLength=\"26\" x=\"451\" y=\"128.0137\">exit</text><text fill=\"#000000\" font-family=\"sans-serif\" font-size=\"12\" lengthAdjust=\"spacingAndGlyphs\" textLength=\"28\" x=\"477\" y=\"128.0137\">/ act</text></a><!--MD5=[b4997ac47864f28c2f74865a473b2911]\n",
       "class E2--><a href=\"psysml:f1048496-f45f-4de3-be42-17169da36fba\" target=\"_top\" title=\"psysml:f1048496-f45f-4de3-be42-17169da36fba\" xlink:actuate=\"onRequest\" xlink:href=\"psysml:f1048496-f45f-4de3-be42-17169da36fba\" xlink:show=\"new\" xlink:title=\"psysml:f1048496-f45f-4de3-be42-17169da36fba\" xlink:type=\"simple\"><rect fill=\"#FFFFFF\" height=\"75.5469\" id=\"E2\" style=\"stroke: #383838; stroke-width: 1.5;\" width=\"95\" x=\"334.5\" y=\"119\"/><text fill=\"#000000\" font-family=\"sans-serif\" font-size=\"12\" font-style=\"italic\" lengthAdjust=\"spacingAndGlyphs\" textLength=\"93\" x=\"335.5\" y=\"135.1387\">«attribute def»</text><text fill=\"#000000\" font-family=\"sans-serif\" font-size=\"12\" lengthAdjust=\"spacingAndGlyphs\" textLength=\"19\" x=\"372.5\" y=\"149.1074\">Sig</text><line style=\"stroke: #383838; stroke-width: 1.5;\" x1=\"335.5\" x2=\"428.5\" y1=\"156.9375\" y2=\"156.9375\"/><text fill=\"#000000\" font-family=\"sans-serif\" font-size=\"11\" lengthAdjust=\"spacingAndGlyphs\" textLength=\"6\" x=\"340.5\" y=\"187.9526\">x</text><line style=\"stroke: #383838; stroke-width: 1.0;\" x1=\"335.5\" x2=\"354.5\" y1=\"171.3398\" y2=\"171.3398\"/><text fill=\"#000000\" font-family=\"sans-serif\" font-size=\"11\" lengthAdjust=\"spacingAndGlyphs\" textLength=\"55\" x=\"354.5\" y=\"174.6479\">attributes</text><line style=\"stroke: #383838; stroke-width: 1.0;\" x1=\"409.5\" x2=\"428.5\" y1=\"171.3398\" y2=\"171.3398\"/></a><!--MD5=[09b614a08d8cba4a07c9adeb5e0fee81]\n",
       "class E3--><a href=\"psysml:546c6a0a-79ca-4224-b50a-77e407cae485\" target=\"_top\" title=\"psysml:546c6a0a-79ca-4224-b50a-77e407cae485\" xlink:actuate=\"onRequest\" xlink:href=\"psysml:546c6a0a-79ca-4224-b50a-77e407cae485\" xlink:show=\"new\" xlink:title=\"psysml:546c6a0a-79ca-4224-b50a-77e407cae485\" xlink:type=\"simple\"><rect fill=\"#FFFFFF\" height=\"45.9375\" id=\"E3\" style=\"stroke: #383838; stroke-width: 1.5;\" width=\"95\" x=\"204.5\" y=\"134\"/><text fill=\"#000000\" font-family=\"sans-serif\" font-size=\"12\" font-style=\"italic\" lengthAdjust=\"spacingAndGlyphs\" textLength=\"93\" x=\"205.5\" y=\"150.1387\">«attribute def»</text><text fill=\"#000000\" font-family=\"sans-serif\" font-size=\"12\" lengthAdjust=\"spacingAndGlyphs\" textLength=\"22\" x=\"241\" y=\"164.1074\">Exit</text><line style=\"stroke: #383838; stroke-width: 1.5;\" x1=\"205.5\" x2=\"298.5\" y1=\"171.9375\" y2=\"171.9375\"/></a><!--MD5=[ebbe1d658d1005bcc118a6aa81145e00]\n",
       "class E4--><a href=\"psysml:4710131f-7c31-45d9-a6fe-10a60fc8490a\" target=\"_top\" title=\"psysml:4710131f-7c31-45d9-a6fe-10a60fc8490a\" xlink:actuate=\"onRequest\" xlink:href=\"psysml:4710131f-7c31-45d9-a6fe-10a60fc8490a\" xlink:show=\"new\" xlink:title=\"psysml:4710131f-7c31-45d9-a6fe-10a60fc8490a\" xlink:type=\"simple\"><rect fill=\"#FFFFFF\" height=\"45.9375\" id=\"E4\" rx=\"10\" ry=\"10\" style=\"stroke: #383838; stroke-width: 1.5;\" width=\"42\" x=\"127\" y=\"134\"/><text fill=\"#000000\" font-family=\"sans-serif\" font-size=\"12\" font-style=\"italic\" lengthAdjust=\"spacingAndGlyphs\" textLength=\"40\" x=\"128\" y=\"150.1387\">«part»</text><text fill=\"#000000\" font-family=\"sans-serif\" font-size=\"12\" lengthAdjust=\"spacingAndGlyphs\" textLength=\"8\" x=\"144\" y=\"164.1074\">p</text><line style=\"stroke: #383838; stroke-width: 1.5;\" x1=\"128\" x2=\"168\" y1=\"171.9375\" y2=\"171.9375\"/></a><g id=\"E1.E5\"><a href=\"psysml:0b92cdb5-3694-4434-adff-e0b2149bd4e6\" target=\"_top\" title=\"psysml:0b92cdb5-3694-4434-adff-e0b2149bd4e6\" xlink:actuate=\"onRequest\" xlink:href=\"psysml:0b92cdb5-3694-4434-adff-e0b2149bd4e6\" xlink:show=\"new\" xlink:title=\"psysml:0b92cdb5-3694-4434-adff-e0b2149bd4e6\" xlink:type=\"simple\"><rect fill=\"#FFFFFF\" height=\"42.9375\" id=\"E5\" rx=\"10\" ry=\"10\" style=\"stroke: #383838; stroke-width: 1.5;\" width=\"60\" x=\"32\" y=\"135.5\"/><rect fill=\"#F8F8F8\" height=\"37.9375\" rx=\"10\" ry=\"10\" style=\"stroke: #F8F8F8; stroke-width: 1.5;\" width=\"60\" x=\"32\" y=\"135.5\"/><rect fill=\"#F8F8F8\" height=\"10\" style=\"stroke: #F8F8F8; stroke-width: 1.5;\" width=\"60\" x=\"32\" y=\"163.4375\"/><rect fill=\"none\" height=\"42.9375\" id=\"E5\" rx=\"10\" ry=\"10\" style=\"stroke: #383838; stroke-width: 1.5;\" width=\"60\" x=\"32\" y=\"135.5\"/><text fill=\"#000000\" font-family=\"sans-serif\" font-size=\"12\" font-style=\"italic\" lengthAdjust=\"spacingAndGlyphs\" textLength=\"53\" x=\"35.5\" y=\"151.6387\">«action»</text><text fill=\"#000000\" font-family=\"sans-serif\" font-size=\"12\" lengthAdjust=\"spacingAndGlyphs\" textLength=\"20\" x=\"52\" y=\"165.6074\">act</text></a></g><ellipse cx=\"558\" cy=\"157\" fill=\"#000000\" rx=\"10\" ry=\"10\" style=\"stroke: none; stroke-width: 1.0;\"/><ellipse cx=\"583\" cy=\"508\" fill=\"none\" rx=\"10\" ry=\"10\" style=\"stroke: #000000; stroke-width: 1.0;\"/><ellipse cx=\"583.5\" cy=\"508.5\" fill=\"#000000\" rx=\"6\" ry=\"6\" style=\"stroke: none; stroke-width: 1.0;\"/><g id=\"E1.E6.E7\"><a href=\"psysml:0ffea2c5-2698-4589-991c-94f7ac5b0395\" target=\"_top\" title=\"psysml:0ffea2c5-2698-4589-991c-94f7ac5b0395\" xlink:actuate=\"onRequest\" xlink:href=\"psysml:0ffea2c5-2698-4589-991c-94f7ac5b0395\" xlink:show=\"new\" xlink:title=\"psysml:0ffea2c5-2698-4589-991c-94f7ac5b0395\" xlink:type=\"simple\"><rect fill=\"#FFFFFF\" height=\"40\" id=\"E7\" rx=\"10\" ry=\"10\" style=\"stroke: #383838; stroke-width: 1.5;\" width=\"50\" x=\"533\" y=\"256\"/><rect fill=\"#F8F8F8\" height=\"23.9688\" rx=\"10\" ry=\"10\" style=\"stroke: #F8F8F8; stroke-width: 1.5;\" width=\"50\" x=\"533\" y=\"256\"/><rect fill=\"#F8F8F8\" height=\"10\" style=\"stroke: #F8F8F8; stroke-width: 1.5;\" width=\"50\" x=\"533\" y=\"269.9688\"/><rect fill=\"none\" height=\"40\" id=\"E7\" rx=\"10\" ry=\"10\" style=\"stroke: #383838; stroke-width: 1.5;\" width=\"50\" x=\"533\" y=\"256\"/><text fill=\"#000000\" font-family=\"sans-serif\" font-size=\"12\" lengthAdjust=\"spacingAndGlyphs\" textLength=\"16\" x=\"550\" y=\"272.1387\">S1</text></a></g><g id=\"E1.E6.E8\"><a href=\"psysml:f6369ddf-93b2-4791-a9ee-7d090a7e6258\" target=\"_top\" title=\"psysml:f6369ddf-93b2-4791-a9ee-7d090a7e6258\" xlink:actuate=\"onRequest\" xlink:href=\"psysml:f6369ddf-93b2-4791-a9ee-7d090a7e6258\" xlink:show=\"new\" xlink:title=\"psysml:f6369ddf-93b2-4791-a9ee-7d090a7e6258\" xlink:type=\"simple\"><rect fill=\"#FFFFFF\" height=\"47.9375\" id=\"E8\" rx=\"10\" ry=\"10\" style=\"stroke: #383838; stroke-width: 1.5;\" width=\"169\" x=\"498.5\" y=\"373\"/><rect fill=\"#F8F8F8\" height=\"23.9688\" rx=\"10\" ry=\"10\" style=\"stroke: #F8F8F8; stroke-width: 1.5;\" width=\"169\" x=\"498.5\" y=\"373\"/><rect fill=\"#F8F8F8\" height=\"10\" style=\"stroke: #F8F8F8; stroke-width: 1.5;\" width=\"169\" x=\"498.5\" y=\"386.9688\"/><rect fill=\"none\" height=\"47.9375\" id=\"E8\" rx=\"10\" ry=\"10\" style=\"stroke: #383838; stroke-width: 1.5;\" width=\"169\" x=\"498.5\" y=\"373\"/><text fill=\"#000000\" font-family=\"sans-serif\" font-size=\"12\" lengthAdjust=\"spacingAndGlyphs\" textLength=\"16\" x=\"575\" y=\"389.1387\">S2</text><line style=\"stroke: #383838; stroke-width: 1.0;\" x1=\"498.5\" x2=\"667.5\" y1=\"396.9688\" y2=\"396.9688\"/><text fill=\"#000000\" font-family=\"sans-serif\" font-size=\"12\" font-weight=\"bold\" lengthAdjust=\"spacingAndGlyphs\" textLength=\"18\" x=\"503.5\" y=\"410.1074\">do</text><text fill=\"#000000\" font-family=\"sans-serif\" font-size=\"12\" lengthAdjust=\"spacingAndGlyphs\" textLength=\"141\" x=\"521.5\" y=\"410.1074\">/  send Sig(T::s::x) to p</text></a></g><!--MD5=[5a531d3a85f3339e6e197084acb48195]\n",
       "link *start*E6 to E7--><a href=\"psysml:3d6f6111-a5f0-4f07-bf0a-543b5052b3c3\" target=\"_top\" title=\"psysml:3d6f6111-a5f0-4f07-bf0a-543b5052b3c3\" xlink:actuate=\"onRequest\" xlink:href=\"psysml:3d6f6111-a5f0-4f07-bf0a-543b5052b3c3\" xlink:show=\"new\" xlink:title=\"psysml:3d6f6111-a5f0-4f07-bf0a-543b5052b3c3\" xlink:type=\"simple\"><path d=\"M558,167.18 C558,184.98 558,224.73 558,250.67 \" fill=\"none\" id=\"*start*E6-&gt;E7\" style=\"stroke: #383838; stroke-width: 1.0;\"/><polygon fill=\"#383838\" points=\"558,255.98,562,246.98,558,250.98,554,246.98,558,255.98\" style=\"stroke: #383838; stroke-width: 1.0;\"/></a><!--MD5=[7ec9a8babba89ddcae1318ca9fb3c814]\n",
       "link E8 to *end*E6--><a href=\"psysml:374875bf-0004-40f7-bedc-1374d527cde5\" target=\"_top\" title=\"psysml:374875bf-0004-40f7-bedc-1374d527cde5\" xlink:actuate=\"onRequest\" xlink:href=\"psysml:374875bf-0004-40f7-bedc-1374d527cde5\" xlink:show=\"new\" xlink:title=\"psysml:374875bf-0004-40f7-bedc-1374d527cde5\" xlink:type=\"simple\"><path d=\"M583,421.12 C583,442.75 583,474.39 583,492.62 \" fill=\"none\" id=\"E8-&gt;*end*E6\" style=\"stroke: #383838; stroke-width: 1.0;\"/><polygon fill=\"#383838\" points=\"583,497.82,587,488.82,583,492.82,579,488.82,583,497.82\" style=\"stroke: #383838; stroke-width: 1.0;\"/><text fill=\"#000000\" font-family=\"sans-serif\" font-size=\"13\" lengthAdjust=\"spacingAndGlyphs\" textLength=\"23\" x=\"584\" y=\"464.0669\">Exit</text></a><!--MD5=[79bc8f324ef4d02c541433f2e6e513c3]\n",
       "link E7 to E8--><a href=\"psysml:69f1494c-077d-4519-8343-87cce73be713\" target=\"_top\" title=\"psysml:69f1494c-077d-4519-8343-87cce73be713\" xlink:actuate=\"onRequest\" xlink:href=\"psysml:69f1494c-077d-4519-8343-87cce73be713\" xlink:show=\"new\" xlink:title=\"psysml:69f1494c-077d-4519-8343-87cce73be713\" xlink:type=\"simple\"><path d=\"M532.85,288.29 C509.89,300.31 481.3,320.66 494,343 C500.2,353.9 509.62,362.8 520.06,369.97 \" fill=\"none\" id=\"E7-&gt;E8\" style=\"stroke: #383838; stroke-width: 1.0;\"/><polygon fill=\"#383838\" points=\"524.26,372.74,518.9574,364.4404,520.0888,369.983,514.5462,371.1144,524.26,372.74\" style=\"stroke: #383838; stroke-width: 1.0;\"/><text fill=\"#000000\" font-family=\"sans-serif\" font-size=\"13\" lengthAdjust=\"spacingAndGlyphs\" textLength=\"81\" x=\"495\" y=\"339.0669\">Sig /action D</text></a><!--MD5=[bfa3c8b0d15052fdf50ae9310b491027]\n",
       "link E8 to E7--><a href=\"psysml:f8d53726-bfe5-4353-91f3-ae2ef06d9a38\" target=\"_top\" title=\"psysml:f8d53726-bfe5-4353-91f3-ae2ef06d9a38\" xlink:actuate=\"onRequest\" xlink:href=\"psysml:f8d53726-bfe5-4353-91f3-ae2ef06d9a38\" xlink:show=\"new\" xlink:title=\"psysml:f8d53726-bfe5-4353-91f3-ae2ef06d9a38\" xlink:type=\"simple\"><path d=\"M584.68,372.99 C585.12,359.19 584.66,341.38 581,326 C578.98,317.52 575.41,308.75 571.67,301.02 \" fill=\"none\" id=\"E8-&gt;E7\" style=\"stroke: #383838; stroke-width: 1.0;\"/><polygon fill=\"#383838\" points=\"569.33,296.35,569.7898,306.1881,571.5718,300.8193,576.9406,302.6013,569.33,296.35\" style=\"stroke: #383838; stroke-width: 1.0;\"/><text fill=\"#000000\" font-family=\"sans-serif\" font-size=\"13\" lengthAdjust=\"spacingAndGlyphs\" textLength=\"135\" x=\"584\" y=\"339.0669\">Sig [true]/send s to p</text></a><!--MD5=[11f1c41fb7fda44065fd28dca6760602]\n",
       "@startuml\r\n",
       " skinparam monochrome true\r\n",
       "skinparam classbackgroundcolor white\r\n",
       "skinparam shadowing false\r\n",
       "skinparam wrapWidth 300\r\n",
       "hide circle\r\n",
       "\r\n",
       "package \"StateTest\" as E1  [[psysml:800f45c9-cf5c-46ce-b3c3-487778cd6319 ]]  {\r\n",
       "comp def \"Sig\" as E2  <<(T,blue)attribute def>> [[psysml:f1048496-f45f-4de3-be42-17169da36fba ]] {\r\n",
       "- - attributes - -\r\n",
       "x\r\n",
       "}\r\n",
       "comp def \"Exit\" as E3  <<(T,blue)attribute def>> [[psysml:546c6a0a-79ca-4224-b50a-77e407cae485 ]] {\r\n",
       "}\r\n",
       "comp usage \"p\" as E4  <<(T,blue)part>> [[psysml:4710131f-7c31-45d9-a6fe-10a60fc8490a ]] {\r\n",
       "}\r\n",
       "rec usage \"act\" as E5  <<(T,blue)action>> [[psysml:0b92cdb5-3694-4434-adff-e0b2149bd4e6 ]] {\r\n",
       "}\r\n",
       "\r\n",
       "rec def \"S\" as E6  <<(T,blue)state def>> [[psysml:f2a66a23-1197-47ed-b1bd-74e1ad61d6fd ]] {\r\n",
       "rec usage \"S1\" as E7 [[psysml:0ffea2c5-2698-4589-991c-94f7ac5b0395 ]] {\r\n",
       "}\r\n",
       "\r\n",
       "rec usage \"S2\" as E8 [[psysml:f6369ddf-93b2-4791-a9ee-7d090a7e6258 ]] {\r\n",
       "desc \"S2\" as E8  : **do**/  send Sig(T::s::x) to p\r\n",
       "}\r\n",
       "\r\n",
       "desc \"S\" as E6  : **entry**/ A\r\n",
       "desc \"S\" as E6  : **do**/ B\r\n",
       "desc \"S\" as E6  : **exit**/ act \r\n",
       "[*] - -> E7 [[psysml:3d6f6111-a5f0-4f07-bf0a-543b5052b3c3 ]] \r\n",
       "E8  - -> [*] [[psysml:374875bf-0004-40f7-bedc-1374d527cde5 ]] : Exit \r\n",
       "}\r\n",
       "\r\n",
       "E7  - -> E8 [[psysml:69f1494c-077d-4519-8343-87cce73be713 ]] : Sig /action D\r\n",
       "E8  - -> E7 [[psysml:f8d53726-bfe5-4353-91f3-ae2ef06d9a38 ]] : Sig [true]/send s to p\r\n",
       "}\r\n",
       "@enduml\r\n",
       "\n",
       "PlantUML version 1.2020.13(Sat Jun 13 12:26:38 UTC 2020)\n",
       "(EPL source distribution)\n",
       "Java Runtime: OpenJDK Runtime Environment\n",
       "JVM: OpenJDK 64-Bit Server VM\n",
       "Default Encoding: UTF-8\n",
       "Language: en\n",
       "Country: null\n",
       "--></g></svg>"
      ]
     },
     "execution_count": 8,
     "metadata": {},
     "output_type": "execute_result"
    }
   ],
   "source": [
    "%viz --style=\"COMPTREE\" --view=\"MIXED\" \"StateTest\""
   ]
  },
  {
   "cell_type": "code",
   "execution_count": 9,
   "id": "fd0a9277",
   "metadata": {
    "execution": {
     "iopub.execute_input": "2021-04-21T20:23:41.075605Z",
     "iopub.status.busy": "2021-04-21T20:23:41.074980Z",
     "iopub.status.idle": "2021-04-21T20:23:41.138998Z",
     "shell.execute_reply": "2021-04-21T20:23:41.138663Z"
    }
   },
   "outputs": [
    {
     "data": {
      "image/svg+xml": [
       "<?xml version=\"1.0\" encoding=\"UTF-8\" standalone=\"no\"?><svg xmlns=\"http://www.w3.org/2000/svg\" xmlns:xlink=\"http://www.w3.org/1999/xlink\" contentScriptType=\"application/ecmascript\" contentStyleType=\"text/css\" height=\"570px\" preserveAspectRatio=\"none\" style=\"width:819px;height:570px;\" version=\"1.1\" viewBox=\"0 0 819 570\" width=\"819px\" zoomAndPan=\"magnify\"><defs/><g><!--MD5=[fbc87193dbaf4d95561dea2c320d4a47]\n",
       "cluster E1--><a href=\"psysml:800f45c9-cf5c-46ce-b3c3-487778cd6319\" target=\"_top\" title=\"psysml:800f45c9-cf5c-46ce-b3c3-487778cd6319\" xlink:actuate=\"onRequest\" xlink:href=\"psysml:800f45c9-cf5c-46ce-b3c3-487778cd6319\" xlink:show=\"new\" xlink:title=\"psysml:800f45c9-cf5c-46ce-b3c3-487778cd6319\" xlink:type=\"simple\"><polygon fill=\"#FFFFFF\" points=\"16,6,98,6,105,28.2969,797,28.2969,797,558,16,558,16,6\" style=\"stroke: #000000; stroke-width: 1.5;\"/><line style=\"stroke: #000000; stroke-width: 1.5;\" x1=\"16\" x2=\"105\" y1=\"28.2969\" y2=\"28.2969\"/><text fill=\"#000000\" font-family=\"sans-serif\" font-size=\"14\" font-weight=\"bold\" lengthAdjust=\"spacingAndGlyphs\" textLength=\"76\" x=\"20\" y=\"20.9951\">StateTest</text></a><!--MD5=[14e3b0961a2654348d326746436168a1]\n",
       "cluster E6--><a href=\"psysml:f2a66a23-1197-47ed-b1bd-74e1ad61d6fd\" target=\"_top\" title=\"psysml:f2a66a23-1197-47ed-b1bd-74e1ad61d6fd\" xlink:actuate=\"onRequest\" xlink:href=\"psysml:f2a66a23-1197-47ed-b1bd-74e1ad61d6fd\" xlink:show=\"new\" xlink:title=\"psysml:f2a66a23-1197-47ed-b1bd-74e1ad61d6fd\" xlink:type=\"simple\"><rect fill=\"#FFFFFF\" height=\"485\" id=\"E6\" style=\"stroke: #383838; stroke-width: 1.5;\" width=\"327\" x=\"446\" y=\"49\"/><rect fill=\"#F8F8F8\" height=\"37.9375\" style=\"stroke: #383838; stroke-width: 1.5;\" width=\"327\" x=\"446\" y=\"49\"/><text fill=\"#000000\" font-family=\"sans-serif\" font-size=\"12\" font-style=\"italic\" lengthAdjust=\"spacingAndGlyphs\" textLength=\"71\" x=\"574\" y=\"65.1387\">«state def»</text><text fill=\"#000000\" font-family=\"sans-serif\" font-size=\"12\" lengthAdjust=\"spacingAndGlyphs\" textLength=\"8\" x=\"605.5\" y=\"79.1074\">S</text><line style=\"stroke: #383838; stroke-width: 1.0;\" x1=\"446\" x2=\"773\" y1=\"132.8438\" y2=\"132.8438\"/><text fill=\"#000000\" font-family=\"sans-serif\" font-size=\"12\" font-weight=\"bold\" lengthAdjust=\"spacingAndGlyphs\" textLength=\"38\" x=\"451\" y=\"100.0762\">entry</text><text fill=\"#000000\" font-family=\"sans-serif\" font-size=\"12\" lengthAdjust=\"spacingAndGlyphs\" textLength=\"16\" x=\"489\" y=\"100.0762\">/ A</text><text fill=\"#000000\" font-family=\"sans-serif\" font-size=\"12\" font-weight=\"bold\" lengthAdjust=\"spacingAndGlyphs\" textLength=\"18\" x=\"451\" y=\"114.0449\">do</text><text fill=\"#000000\" font-family=\"sans-serif\" font-size=\"12\" lengthAdjust=\"spacingAndGlyphs\" textLength=\"16\" x=\"469\" y=\"114.0449\">/ B</text><text fill=\"#000000\" font-family=\"sans-serif\" font-size=\"12\" font-weight=\"bold\" lengthAdjust=\"spacingAndGlyphs\" textLength=\"26\" x=\"451\" y=\"128.0137\">exit</text><text fill=\"#000000\" font-family=\"sans-serif\" font-size=\"12\" lengthAdjust=\"spacingAndGlyphs\" textLength=\"28\" x=\"477\" y=\"128.0137\">/ act</text></a><!--MD5=[b4997ac47864f28c2f74865a473b2911]\n",
       "class E2--><a href=\"psysml:f1048496-f45f-4de3-be42-17169da36fba\" target=\"_top\" title=\"psysml:f1048496-f45f-4de3-be42-17169da36fba\" xlink:actuate=\"onRequest\" xlink:href=\"psysml:f1048496-f45f-4de3-be42-17169da36fba\" xlink:show=\"new\" xlink:title=\"psysml:f1048496-f45f-4de3-be42-17169da36fba\" xlink:type=\"simple\"><rect fill=\"#FFFFFF\" height=\"75.5469\" id=\"E2\" style=\"stroke: #383838; stroke-width: 1.5;\" width=\"95\" x=\"334.5\" y=\"119\"/><text fill=\"#000000\" font-family=\"sans-serif\" font-size=\"12\" font-style=\"italic\" lengthAdjust=\"spacingAndGlyphs\" textLength=\"93\" x=\"335.5\" y=\"135.1387\">«attribute def»</text><text fill=\"#000000\" font-family=\"sans-serif\" font-size=\"12\" lengthAdjust=\"spacingAndGlyphs\" textLength=\"19\" x=\"372.5\" y=\"149.1074\">Sig</text><line style=\"stroke: #383838; stroke-width: 1.5;\" x1=\"335.5\" x2=\"428.5\" y1=\"156.9375\" y2=\"156.9375\"/><text fill=\"#000000\" font-family=\"sans-serif\" font-size=\"11\" lengthAdjust=\"spacingAndGlyphs\" textLength=\"6\" x=\"340.5\" y=\"187.9526\">x</text><line style=\"stroke: #383838; stroke-width: 1.0;\" x1=\"335.5\" x2=\"354.5\" y1=\"171.3398\" y2=\"171.3398\"/><text fill=\"#000000\" font-family=\"sans-serif\" font-size=\"11\" lengthAdjust=\"spacingAndGlyphs\" textLength=\"55\" x=\"354.5\" y=\"174.6479\">attributes</text><line style=\"stroke: #383838; stroke-width: 1.0;\" x1=\"409.5\" x2=\"428.5\" y1=\"171.3398\" y2=\"171.3398\"/></a><!--MD5=[09b614a08d8cba4a07c9adeb5e0fee81]\n",
       "class E3--><a href=\"psysml:546c6a0a-79ca-4224-b50a-77e407cae485\" target=\"_top\" title=\"psysml:546c6a0a-79ca-4224-b50a-77e407cae485\" xlink:actuate=\"onRequest\" xlink:href=\"psysml:546c6a0a-79ca-4224-b50a-77e407cae485\" xlink:show=\"new\" xlink:title=\"psysml:546c6a0a-79ca-4224-b50a-77e407cae485\" xlink:type=\"simple\"><rect fill=\"#FFFFFF\" height=\"45.9375\" id=\"E3\" style=\"stroke: #383838; stroke-width: 1.5;\" width=\"95\" x=\"204.5\" y=\"134\"/><text fill=\"#000000\" font-family=\"sans-serif\" font-size=\"12\" font-style=\"italic\" lengthAdjust=\"spacingAndGlyphs\" textLength=\"93\" x=\"205.5\" y=\"150.1387\">«attribute def»</text><text fill=\"#000000\" font-family=\"sans-serif\" font-size=\"12\" lengthAdjust=\"spacingAndGlyphs\" textLength=\"22\" x=\"241\" y=\"164.1074\">Exit</text><line style=\"stroke: #383838; stroke-width: 1.5;\" x1=\"205.5\" x2=\"298.5\" y1=\"171.9375\" y2=\"171.9375\"/></a><!--MD5=[ebbe1d658d1005bcc118a6aa81145e00]\n",
       "class E4--><a href=\"psysml:4710131f-7c31-45d9-a6fe-10a60fc8490a\" target=\"_top\" title=\"psysml:4710131f-7c31-45d9-a6fe-10a60fc8490a\" xlink:actuate=\"onRequest\" xlink:href=\"psysml:4710131f-7c31-45d9-a6fe-10a60fc8490a\" xlink:show=\"new\" xlink:title=\"psysml:4710131f-7c31-45d9-a6fe-10a60fc8490a\" xlink:type=\"simple\"><rect fill=\"#FFFFFF\" height=\"45.9375\" id=\"E4\" rx=\"10\" ry=\"10\" style=\"stroke: #383838; stroke-width: 1.5;\" width=\"42\" x=\"127\" y=\"134\"/><text fill=\"#000000\" font-family=\"sans-serif\" font-size=\"12\" font-style=\"italic\" lengthAdjust=\"spacingAndGlyphs\" textLength=\"40\" x=\"128\" y=\"150.1387\">«part»</text><text fill=\"#000000\" font-family=\"sans-serif\" font-size=\"12\" lengthAdjust=\"spacingAndGlyphs\" textLength=\"8\" x=\"144\" y=\"164.1074\">p</text><line style=\"stroke: #383838; stroke-width: 1.5;\" x1=\"128\" x2=\"168\" y1=\"171.9375\" y2=\"171.9375\"/></a><g id=\"E1.E5\"><a href=\"psysml:0b92cdb5-3694-4434-adff-e0b2149bd4e6\" target=\"_top\" title=\"psysml:0b92cdb5-3694-4434-adff-e0b2149bd4e6\" xlink:actuate=\"onRequest\" xlink:href=\"psysml:0b92cdb5-3694-4434-adff-e0b2149bd4e6\" xlink:show=\"new\" xlink:title=\"psysml:0b92cdb5-3694-4434-adff-e0b2149bd4e6\" xlink:type=\"simple\"><rect fill=\"#FFFFFF\" height=\"42.9375\" id=\"E5\" rx=\"10\" ry=\"10\" style=\"stroke: #383838; stroke-width: 1.5;\" width=\"60\" x=\"32\" y=\"135.5\"/><rect fill=\"#F8F8F8\" height=\"37.9375\" rx=\"10\" ry=\"10\" style=\"stroke: #F8F8F8; stroke-width: 1.5;\" width=\"60\" x=\"32\" y=\"135.5\"/><rect fill=\"#F8F8F8\" height=\"10\" style=\"stroke: #F8F8F8; stroke-width: 1.5;\" width=\"60\" x=\"32\" y=\"163.4375\"/><rect fill=\"none\" height=\"42.9375\" id=\"E5\" rx=\"10\" ry=\"10\" style=\"stroke: #383838; stroke-width: 1.5;\" width=\"60\" x=\"32\" y=\"135.5\"/><text fill=\"#000000\" font-family=\"sans-serif\" font-size=\"12\" font-style=\"italic\" lengthAdjust=\"spacingAndGlyphs\" textLength=\"53\" x=\"35.5\" y=\"151.6387\">«action»</text><text fill=\"#000000\" font-family=\"sans-serif\" font-size=\"12\" lengthAdjust=\"spacingAndGlyphs\" textLength=\"20\" x=\"52\" y=\"165.6074\">act</text></a></g><ellipse cx=\"558\" cy=\"157\" fill=\"#000000\" rx=\"10\" ry=\"10\" style=\"stroke: none; stroke-width: 1.0;\"/><ellipse cx=\"583\" cy=\"508\" fill=\"none\" rx=\"10\" ry=\"10\" style=\"stroke: #000000; stroke-width: 1.0;\"/><ellipse cx=\"583.5\" cy=\"508.5\" fill=\"#000000\" rx=\"6\" ry=\"6\" style=\"stroke: none; stroke-width: 1.0;\"/><g id=\"E1.E6.E7\"><a href=\"psysml:0ffea2c5-2698-4589-991c-94f7ac5b0395\" target=\"_top\" title=\"psysml:0ffea2c5-2698-4589-991c-94f7ac5b0395\" xlink:actuate=\"onRequest\" xlink:href=\"psysml:0ffea2c5-2698-4589-991c-94f7ac5b0395\" xlink:show=\"new\" xlink:title=\"psysml:0ffea2c5-2698-4589-991c-94f7ac5b0395\" xlink:type=\"simple\"><rect fill=\"#FFFFFF\" height=\"40\" id=\"E7\" rx=\"10\" ry=\"10\" style=\"stroke: #383838; stroke-width: 1.5;\" width=\"50\" x=\"533\" y=\"256\"/><rect fill=\"#F8F8F8\" height=\"23.9688\" rx=\"10\" ry=\"10\" style=\"stroke: #F8F8F8; stroke-width: 1.5;\" width=\"50\" x=\"533\" y=\"256\"/><rect fill=\"#F8F8F8\" height=\"10\" style=\"stroke: #F8F8F8; stroke-width: 1.5;\" width=\"50\" x=\"533\" y=\"269.9688\"/><rect fill=\"none\" height=\"40\" id=\"E7\" rx=\"10\" ry=\"10\" style=\"stroke: #383838; stroke-width: 1.5;\" width=\"50\" x=\"533\" y=\"256\"/><text fill=\"#000000\" font-family=\"sans-serif\" font-size=\"12\" lengthAdjust=\"spacingAndGlyphs\" textLength=\"16\" x=\"550\" y=\"272.1387\">S1</text></a></g><g id=\"E1.E6.E8\"><a href=\"psysml:f6369ddf-93b2-4791-a9ee-7d090a7e6258\" target=\"_top\" title=\"psysml:f6369ddf-93b2-4791-a9ee-7d090a7e6258\" xlink:actuate=\"onRequest\" xlink:href=\"psysml:f6369ddf-93b2-4791-a9ee-7d090a7e6258\" xlink:show=\"new\" xlink:title=\"psysml:f6369ddf-93b2-4791-a9ee-7d090a7e6258\" xlink:type=\"simple\"><rect fill=\"#FFFFFF\" height=\"47.9375\" id=\"E8\" rx=\"10\" ry=\"10\" style=\"stroke: #383838; stroke-width: 1.5;\" width=\"169\" x=\"498.5\" y=\"373\"/><rect fill=\"#F8F8F8\" height=\"23.9688\" rx=\"10\" ry=\"10\" style=\"stroke: #F8F8F8; stroke-width: 1.5;\" width=\"169\" x=\"498.5\" y=\"373\"/><rect fill=\"#F8F8F8\" height=\"10\" style=\"stroke: #F8F8F8; stroke-width: 1.5;\" width=\"169\" x=\"498.5\" y=\"386.9688\"/><rect fill=\"none\" height=\"47.9375\" id=\"E8\" rx=\"10\" ry=\"10\" style=\"stroke: #383838; stroke-width: 1.5;\" width=\"169\" x=\"498.5\" y=\"373\"/><text fill=\"#000000\" font-family=\"sans-serif\" font-size=\"12\" lengthAdjust=\"spacingAndGlyphs\" textLength=\"16\" x=\"575\" y=\"389.1387\">S2</text><line style=\"stroke: #383838; stroke-width: 1.0;\" x1=\"498.5\" x2=\"667.5\" y1=\"396.9688\" y2=\"396.9688\"/><text fill=\"#000000\" font-family=\"sans-serif\" font-size=\"12\" font-weight=\"bold\" lengthAdjust=\"spacingAndGlyphs\" textLength=\"18\" x=\"503.5\" y=\"410.1074\">do</text><text fill=\"#000000\" font-family=\"sans-serif\" font-size=\"12\" lengthAdjust=\"spacingAndGlyphs\" textLength=\"141\" x=\"521.5\" y=\"410.1074\">/  send Sig(T::s::x) to p</text></a></g><!--MD5=[5a531d3a85f3339e6e197084acb48195]\n",
       "link *start*E6 to E7--><a href=\"psysml:3d6f6111-a5f0-4f07-bf0a-543b5052b3c3\" target=\"_top\" title=\"psysml:3d6f6111-a5f0-4f07-bf0a-543b5052b3c3\" xlink:actuate=\"onRequest\" xlink:href=\"psysml:3d6f6111-a5f0-4f07-bf0a-543b5052b3c3\" xlink:show=\"new\" xlink:title=\"psysml:3d6f6111-a5f0-4f07-bf0a-543b5052b3c3\" xlink:type=\"simple\"><path d=\"M558,167.18 C558,184.98 558,224.73 558,250.67 \" fill=\"none\" id=\"*start*E6-&gt;E7\" style=\"stroke: #383838; stroke-width: 1.0;\"/><polygon fill=\"#383838\" points=\"558,255.98,562,246.98,558,250.98,554,246.98,558,255.98\" style=\"stroke: #383838; stroke-width: 1.0;\"/></a><!--MD5=[7ec9a8babba89ddcae1318ca9fb3c814]\n",
       "link E8 to *end*E6--><a href=\"psysml:374875bf-0004-40f7-bedc-1374d527cde5\" target=\"_top\" title=\"psysml:374875bf-0004-40f7-bedc-1374d527cde5\" xlink:actuate=\"onRequest\" xlink:href=\"psysml:374875bf-0004-40f7-bedc-1374d527cde5\" xlink:show=\"new\" xlink:title=\"psysml:374875bf-0004-40f7-bedc-1374d527cde5\" xlink:type=\"simple\"><path d=\"M583,421.12 C583,442.75 583,474.39 583,492.62 \" fill=\"none\" id=\"E8-&gt;*end*E6\" style=\"stroke: #383838; stroke-width: 1.0;\"/><polygon fill=\"#383838\" points=\"583,497.82,587,488.82,583,492.82,579,488.82,583,497.82\" style=\"stroke: #383838; stroke-width: 1.0;\"/><text fill=\"#000000\" font-family=\"sans-serif\" font-size=\"13\" lengthAdjust=\"spacingAndGlyphs\" textLength=\"23\" x=\"584\" y=\"464.0669\">Exit</text></a><!--MD5=[79bc8f324ef4d02c541433f2e6e513c3]\n",
       "link E7 to E8--><a href=\"psysml:69f1494c-077d-4519-8343-87cce73be713\" target=\"_top\" title=\"psysml:69f1494c-077d-4519-8343-87cce73be713\" xlink:actuate=\"onRequest\" xlink:href=\"psysml:69f1494c-077d-4519-8343-87cce73be713\" xlink:show=\"new\" xlink:title=\"psysml:69f1494c-077d-4519-8343-87cce73be713\" xlink:type=\"simple\"><path d=\"M533.07,296.08 C515.1,309.84 494,326 494,326 C494,326 494,343 494,343 C494,343 517.06,356.73 539.71,370.22 \" fill=\"none\" id=\"E7-&gt;E8\" style=\"stroke: #383838; stroke-width: 1.0;\"/><polygon fill=\"#383838\" points=\"544.22,372.91,538.5408,364.8635,539.9262,370.3481,534.4417,371.7335,544.22,372.91\" style=\"stroke: #383838; stroke-width: 1.0;\"/><text fill=\"#000000\" font-family=\"sans-serif\" font-size=\"13\" lengthAdjust=\"spacingAndGlyphs\" textLength=\"81\" x=\"495\" y=\"339.0669\">Sig /action D</text></a><!--MD5=[bfa3c8b0d15052fdf50ae9310b491027]\n",
       "link E8 to E7--><a href=\"psysml:f8d53726-bfe5-4353-91f3-ae2ef06d9a38\" target=\"_top\" title=\"psysml:f8d53726-bfe5-4353-91f3-ae2ef06d9a38\" xlink:actuate=\"onRequest\" xlink:href=\"psysml:f8d53726-bfe5-4353-91f3-ae2ef06d9a38\" xlink:show=\"new\" xlink:title=\"psysml:f8d53726-bfe5-4353-91f3-ae2ef06d9a38\" xlink:type=\"simple\"><path d=\"M582.33,372.69 C581.75,352.33 581,326 581,326 C581,326 574.98,313.18 569.11,300.66 \" fill=\"none\" id=\"E8-&gt;E7\" style=\"stroke: #383838; stroke-width: 1.0;\"/><polygon fill=\"#383838\" points=\"566.96,296.08,567.1429,305.9272,569.0752,300.6106,574.3918,302.5428,566.96,296.08\" style=\"stroke: #383838; stroke-width: 1.0;\"/><text fill=\"#000000\" font-family=\"sans-serif\" font-size=\"13\" lengthAdjust=\"spacingAndGlyphs\" textLength=\"135\" x=\"582\" y=\"339.0669\">Sig [true]/send s to p</text></a><!--MD5=[e51a880811258925c4eaa716fd0948b4]\n",
       "@startuml\r\n",
       "skinparam linetype polyline\r\n",
       "skinparam monochrome true\r\n",
       "skinparam classbackgroundcolor white\r\n",
       "skinparam shadowing false\r\n",
       "skinparam wrapWidth 300\r\n",
       "hide circle\r\n",
       "\r\n",
       "package \"StateTest\" as E1  [[psysml:800f45c9-cf5c-46ce-b3c3-487778cd6319 ]]  {\r\n",
       "comp def \"Sig\" as E2  <<(T,blue)attribute def>> [[psysml:f1048496-f45f-4de3-be42-17169da36fba ]] {\r\n",
       "- - attributes - -\r\n",
       "x\r\n",
       "}\r\n",
       "comp def \"Exit\" as E3  <<(T,blue)attribute def>> [[psysml:546c6a0a-79ca-4224-b50a-77e407cae485 ]] {\r\n",
       "}\r\n",
       "comp usage \"p\" as E4  <<(T,blue)part>> [[psysml:4710131f-7c31-45d9-a6fe-10a60fc8490a ]] {\r\n",
       "}\r\n",
       "rec usage \"act\" as E5  <<(T,blue)action>> [[psysml:0b92cdb5-3694-4434-adff-e0b2149bd4e6 ]] {\r\n",
       "}\r\n",
       "\r\n",
       "rec def \"S\" as E6  <<(T,blue)state def>> [[psysml:f2a66a23-1197-47ed-b1bd-74e1ad61d6fd ]] {\r\n",
       "rec usage \"S1\" as E7 [[psysml:0ffea2c5-2698-4589-991c-94f7ac5b0395 ]] {\r\n",
       "}\r\n",
       "\r\n",
       "rec usage \"S2\" as E8 [[psysml:f6369ddf-93b2-4791-a9ee-7d090a7e6258 ]] {\r\n",
       "desc \"S2\" as E8  : **do**/  send Sig(T::s::x) to p\r\n",
       "}\r\n",
       "\r\n",
       "desc \"S\" as E6  : **entry**/ A\r\n",
       "desc \"S\" as E6  : **do**/ B\r\n",
       "desc \"S\" as E6  : **exit**/ act \r\n",
       "[*] - -> E7 [[psysml:3d6f6111-a5f0-4f07-bf0a-543b5052b3c3 ]] \r\n",
       "E8  - -> [*] [[psysml:374875bf-0004-40f7-bedc-1374d527cde5 ]] : Exit \r\n",
       "}\r\n",
       "\r\n",
       "E7  - -> E8 [[psysml:69f1494c-077d-4519-8343-87cce73be713 ]] : Sig /action D\r\n",
       "E8  - -> E7 [[psysml:f8d53726-bfe5-4353-91f3-ae2ef06d9a38 ]] : Sig [true]/send s to p\r\n",
       "}\r\n",
       "@enduml\r\n",
       "\n",
       "PlantUML version 1.2020.13(Sat Jun 13 12:26:38 UTC 2020)\n",
       "(EPL source distribution)\n",
       "Java Runtime: OpenJDK Runtime Environment\n",
       "JVM: OpenJDK 64-Bit Server VM\n",
       "Default Encoding: UTF-8\n",
       "Language: en\n",
       "Country: null\n",
       "--></g></svg>"
      ]
     },
     "execution_count": 9,
     "metadata": {},
     "output_type": "execute_result"
    }
   ],
   "source": [
    "%viz --style=\"POLYLINE\" --view=\"Default\" \"StateTest\""
   ]
  },
  {
   "cell_type": "code",
   "execution_count": 10,
   "id": "d952d9aa",
   "metadata": {
    "execution": {
     "iopub.execute_input": "2021-04-21T20:23:41.189141Z",
     "iopub.status.busy": "2021-04-21T20:23:41.188758Z",
     "iopub.status.idle": "2021-04-21T20:23:41.322679Z",
     "shell.execute_reply": "2021-04-21T20:23:41.320972Z"
    }
   },
   "outputs": [
    {
     "data": {
      "image/svg+xml": [
       "<?xml version=\"1.0\" encoding=\"UTF-8\" standalone=\"no\"?><svg xmlns=\"http://www.w3.org/2000/svg\" xmlns:xlink=\"http://www.w3.org/1999/xlink\" contentScriptType=\"application/ecmascript\" contentStyleType=\"text/css\" height=\"365px\" preserveAspectRatio=\"none\" style=\"width:594px;height:365px;\" version=\"1.1\" viewBox=\"0 0 594 365\" width=\"594px\" zoomAndPan=\"magnify\"><defs/><g><!--MD5=[fbc87193dbaf4d95561dea2c320d4a47]\n",
       "cluster E1--><a href=\"psysml:800f45c9-cf5c-46ce-b3c3-487778cd6319\" target=\"_top\" title=\"psysml:800f45c9-cf5c-46ce-b3c3-487778cd6319\" xlink:actuate=\"onRequest\" xlink:href=\"psysml:800f45c9-cf5c-46ce-b3c3-487778cd6319\" xlink:show=\"new\" xlink:title=\"psysml:800f45c9-cf5c-46ce-b3c3-487778cd6319\" xlink:type=\"simple\"><polygon fill=\"#FFFFFF\" points=\"16,6,98,6,105,28.2969,572,28.2969,572,353,16,353,16,6\" style=\"stroke: #000000; stroke-width: 1.5;\"/><line style=\"stroke: #000000; stroke-width: 1.5;\" x1=\"16\" x2=\"105\" y1=\"28.2969\" y2=\"28.2969\"/><text fill=\"#000000\" font-family=\"sans-serif\" font-size=\"14\" font-weight=\"bold\" lengthAdjust=\"spacingAndGlyphs\" textLength=\"76\" x=\"20\" y=\"20.9951\">StateTest</text></a><!--MD5=[b4997ac47864f28c2f74865a473b2911]\n",
       "class E2--><a href=\"psysml:f1048496-f45f-4de3-be42-17169da36fba\" target=\"_top\" title=\"psysml:f1048496-f45f-4de3-be42-17169da36fba\" xlink:actuate=\"onRequest\" xlink:href=\"psysml:f1048496-f45f-4de3-be42-17169da36fba\" xlink:show=\"new\" xlink:title=\"psysml:f1048496-f45f-4de3-be42-17169da36fba\" xlink:type=\"simple\"><rect fill=\"#FFFFFF\" height=\"75.5469\" id=\"E2\" style=\"stroke: #383838; stroke-width: 1.5;\" width=\"95\" x=\"460.5\" y=\"83\"/><text fill=\"#000000\" font-family=\"sans-serif\" font-size=\"12\" font-style=\"italic\" lengthAdjust=\"spacingAndGlyphs\" textLength=\"93\" x=\"461.5\" y=\"99.1387\">«attribute def»</text><text fill=\"#000000\" font-family=\"sans-serif\" font-size=\"12\" lengthAdjust=\"spacingAndGlyphs\" textLength=\"19\" x=\"498.5\" y=\"113.1074\">Sig</text><line style=\"stroke: #383838; stroke-width: 1.5;\" x1=\"461.5\" x2=\"554.5\" y1=\"120.9375\" y2=\"120.9375\"/><text fill=\"#000000\" font-family=\"sans-serif\" font-size=\"11\" lengthAdjust=\"spacingAndGlyphs\" textLength=\"6\" x=\"466.5\" y=\"151.9526\">x</text><line style=\"stroke: #383838; stroke-width: 1.0;\" x1=\"461.5\" x2=\"480.5\" y1=\"135.3398\" y2=\"135.3398\"/><text fill=\"#000000\" font-family=\"sans-serif\" font-size=\"11\" lengthAdjust=\"spacingAndGlyphs\" textLength=\"55\" x=\"480.5\" y=\"138.6479\">attributes</text><line style=\"stroke: #383838; stroke-width: 1.0;\" x1=\"535.5\" x2=\"554.5\" y1=\"135.3398\" y2=\"135.3398\"/></a><!--MD5=[09b614a08d8cba4a07c9adeb5e0fee81]\n",
       "class E3--><a href=\"psysml:546c6a0a-79ca-4224-b50a-77e407cae485\" target=\"_top\" title=\"psysml:546c6a0a-79ca-4224-b50a-77e407cae485\" xlink:actuate=\"onRequest\" xlink:href=\"psysml:546c6a0a-79ca-4224-b50a-77e407cae485\" xlink:show=\"new\" xlink:title=\"psysml:546c6a0a-79ca-4224-b50a-77e407cae485\" xlink:type=\"simple\"><rect fill=\"#FFFFFF\" height=\"45.9375\" id=\"E3\" style=\"stroke: #383838; stroke-width: 1.5;\" width=\"95\" x=\"330.5\" y=\"98\"/><text fill=\"#000000\" font-family=\"sans-serif\" font-size=\"12\" font-style=\"italic\" lengthAdjust=\"spacingAndGlyphs\" textLength=\"93\" x=\"331.5\" y=\"114.1387\">«attribute def»</text><text fill=\"#000000\" font-family=\"sans-serif\" font-size=\"12\" lengthAdjust=\"spacingAndGlyphs\" textLength=\"22\" x=\"367\" y=\"128.1074\">Exit</text><line style=\"stroke: #383838; stroke-width: 1.5;\" x1=\"331.5\" x2=\"424.5\" y1=\"135.9375\" y2=\"135.9375\"/></a><!--MD5=[ebbe1d658d1005bcc118a6aa81145e00]\n",
       "class E4--><a href=\"psysml:4710131f-7c31-45d9-a6fe-10a60fc8490a\" target=\"_top\" title=\"psysml:4710131f-7c31-45d9-a6fe-10a60fc8490a\" xlink:actuate=\"onRequest\" xlink:href=\"psysml:4710131f-7c31-45d9-a6fe-10a60fc8490a\" xlink:show=\"new\" xlink:title=\"psysml:4710131f-7c31-45d9-a6fe-10a60fc8490a\" xlink:type=\"simple\"><rect fill=\"#FFFFFF\" height=\"45.9375\" id=\"E4\" rx=\"10\" ry=\"10\" style=\"stroke: #383838; stroke-width: 1.5;\" width=\"42\" x=\"253\" y=\"98\"/><text fill=\"#000000\" font-family=\"sans-serif\" font-size=\"12\" font-style=\"italic\" lengthAdjust=\"spacingAndGlyphs\" textLength=\"40\" x=\"254\" y=\"114.1387\">«part»</text><text fill=\"#000000\" font-family=\"sans-serif\" font-size=\"12\" lengthAdjust=\"spacingAndGlyphs\" textLength=\"8\" x=\"270\" y=\"128.1074\">p</text><line style=\"stroke: #383838; stroke-width: 1.5;\" x1=\"254\" x2=\"294\" y1=\"135.9375\" y2=\"135.9375\"/></a><!--MD5=[270fce915f116d4de14055a7c1d9a0f3]\n",
       "class E5--><a href=\"psysml:0b92cdb5-3694-4434-adff-e0b2149bd4e6\" target=\"_top\" title=\"psysml:0b92cdb5-3694-4434-adff-e0b2149bd4e6\" xlink:actuate=\"onRequest\" xlink:href=\"psysml:0b92cdb5-3694-4434-adff-e0b2149bd4e6\" xlink:show=\"new\" xlink:title=\"psysml:0b92cdb5-3694-4434-adff-e0b2149bd4e6\" xlink:type=\"simple\"><rect fill=\"#FFFFFF\" height=\"45.9375\" id=\"E5\" rx=\"10\" ry=\"10\" style=\"stroke: #383838; stroke-width: 1.5;\" width=\"55\" x=\"162.5\" y=\"98\"/><text fill=\"#000000\" font-family=\"sans-serif\" font-size=\"12\" font-style=\"italic\" lengthAdjust=\"spacingAndGlyphs\" textLength=\"53\" x=\"163.5\" y=\"114.1387\">«action»</text><text fill=\"#000000\" font-family=\"sans-serif\" font-size=\"12\" lengthAdjust=\"spacingAndGlyphs\" textLength=\"20\" x=\"180\" y=\"128.1074\">act</text><line style=\"stroke: #383838; stroke-width: 1.5;\" x1=\"163.5\" x2=\"216.5\" y1=\"135.9375\" y2=\"135.9375\"/></a><!--MD5=[60a26617385b1d2d0262a64233df1f8d]\n",
       "class E6--><a href=\"psysml:f2a66a23-1197-47ed-b1bd-74e1ad61d6fd\" target=\"_top\" title=\"psysml:f2a66a23-1197-47ed-b1bd-74e1ad61d6fd\" xlink:actuate=\"onRequest\" xlink:href=\"psysml:f2a66a23-1197-47ed-b1bd-74e1ad61d6fd\" xlink:show=\"new\" xlink:title=\"psysml:f2a66a23-1197-47ed-b1bd-74e1ad61d6fd\" xlink:type=\"simple\"><rect fill=\"#FFFFFF\" height=\"160.375\" id=\"E6\" style=\"stroke: #383838; stroke-width: 1.5;\" width=\"95\" x=\"32.5\" y=\"41\"/><text fill=\"#000000\" font-family=\"sans-serif\" font-size=\"12\" font-style=\"italic\" lengthAdjust=\"spacingAndGlyphs\" textLength=\"71\" x=\"44.5\" y=\"57.1387\">«state def»</text><text fill=\"#000000\" font-family=\"sans-serif\" font-size=\"12\" lengthAdjust=\"spacingAndGlyphs\" textLength=\"8\" x=\"76\" y=\"71.1074\">S</text><line style=\"stroke: #383838; stroke-width: 1.5;\" x1=\"33.5\" x2=\"126.5\" y1=\"78.9375\" y2=\"78.9375\"/><text fill=\"#000000\" font-family=\"sans-serif\" font-size=\"11\" lengthAdjust=\"spacingAndGlyphs\" textLength=\"17\" x=\"38.5\" y=\"109.9526\">act</text><text fill=\"#000000\" font-family=\"sans-serif\" font-size=\"11\" lengthAdjust=\"spacingAndGlyphs\" textLength=\"7\" x=\"38.5\" y=\"122.7573\">A</text><text fill=\"#000000\" font-family=\"sans-serif\" font-size=\"11\" lengthAdjust=\"spacingAndGlyphs\" textLength=\"8\" x=\"38.5\" y=\"135.562\">B</text><line style=\"stroke: #383838; stroke-width: 1.0;\" x1=\"33.5\" x2=\"36.5\" y1=\"93.3398\" y2=\"93.3398\"/><text fill=\"#000000\" font-family=\"sans-serif\" font-size=\"11\" lengthAdjust=\"spacingAndGlyphs\" textLength=\"87\" x=\"36.5\" y=\"96.6479\">performActions</text><line style=\"stroke: #383838; stroke-width: 1.0;\" x1=\"123.5\" x2=\"126.5\" y1=\"93.3398\" y2=\"93.3398\"/><text fill=\"#000000\" font-family=\"sans-serif\" font-size=\"11\" lengthAdjust=\"spacingAndGlyphs\" textLength=\"15\" x=\"38.5\" y=\"165.1714\">S1</text><line style=\"stroke: #383838; stroke-width: 1.0;\" x1=\"33.5\" x2=\"62\" y1=\"148.5586\" y2=\"148.5586\"/><text fill=\"#000000\" font-family=\"sans-serif\" font-size=\"11\" lengthAdjust=\"spacingAndGlyphs\" textLength=\"36\" x=\"62\" y=\"151.8667\">states</text><line style=\"stroke: #383838; stroke-width: 1.0;\" x1=\"98\" x2=\"126.5\" y1=\"148.5586\" y2=\"148.5586\"/><text fill=\"#000000\" font-family=\"sans-serif\" font-size=\"11\" lengthAdjust=\"spacingAndGlyphs\" textLength=\"7\" x=\"38.5\" y=\"194.7808\">T</text><line style=\"stroke: #383838; stroke-width: 1.0;\" x1=\"33.5\" x2=\"49.5\" y1=\"178.168\" y2=\"178.168\"/><text fill=\"#000000\" font-family=\"sans-serif\" font-size=\"11\" lengthAdjust=\"spacingAndGlyphs\" textLength=\"61\" x=\"49.5\" y=\"181.4761\">transitions</text><line style=\"stroke: #383838; stroke-width: 1.0;\" x1=\"110.5\" x2=\"126.5\" y1=\"178.168\" y2=\"178.168\"/></a><!--MD5=[1dd1bfd58a279cf63c5f349dbc8fc6a1]\n",
       "class E11--><a href=\"psysml:f6369ddf-93b2-4791-a9ee-7d090a7e6258\" target=\"_top\" title=\"psysml:f6369ddf-93b2-4791-a9ee-7d090a7e6258\" xlink:actuate=\"onRequest\" xlink:href=\"psysml:f6369ddf-93b2-4791-a9ee-7d090a7e6258\" xlink:show=\"new\" xlink:title=\"psysml:f6369ddf-93b2-4791-a9ee-7d090a7e6258\" xlink:type=\"simple\"><rect fill=\"#FFFFFF\" height=\"75.5469\" id=\"E11\" rx=\"10\" ry=\"10\" style=\"stroke: #383838; stroke-width: 1.5;\" width=\"77\" x=\"41.5\" y=\"261\"/><text fill=\"#000000\" font-family=\"sans-serif\" font-size=\"12\" font-style=\"italic\" lengthAdjust=\"spacingAndGlyphs\" textLength=\"47\" x=\"56.5\" y=\"277.1387\">«state»</text><text fill=\"#000000\" font-family=\"sans-serif\" font-size=\"12\" lengthAdjust=\"spacingAndGlyphs\" textLength=\"16\" x=\"72\" y=\"291.1074\">S2</text><line style=\"stroke: #383838; stroke-width: 1.5;\" x1=\"42.5\" x2=\"117.5\" y1=\"298.9375\" y2=\"298.9375\"/><text fill=\"#000000\" font-family=\"sans-serif\" font-size=\"11\" lengthAdjust=\"spacingAndGlyphs\" textLength=\"48\" x=\"47.5\" y=\"329.9526\">doAction</text><line style=\"stroke: #383838; stroke-width: 1.0;\" x1=\"42.5\" x2=\"45.5\" y1=\"313.3398\" y2=\"313.3398\"/><text fill=\"#000000\" font-family=\"sans-serif\" font-size=\"11\" lengthAdjust=\"spacingAndGlyphs\" textLength=\"69\" x=\"45.5\" y=\"316.6479\">sendActions</text><line style=\"stroke: #383838; stroke-width: 1.0;\" x1=\"114.5\" x2=\"117.5\" y1=\"313.3398\" y2=\"313.3398\"/></a><!--MD5=[1f5f03483f7de0d5b3680a7f6650997f]\n",
       "reverse link E6 to E11--><a href=\"psysml:247e0169-6466-401b-83f0-032a7b21c539\" target=\"_top\" title=\"psysml:247e0169-6466-401b-83f0-032a7b21c539\" xlink:actuate=\"onRequest\" xlink:href=\"psysml:247e0169-6466-401b-83f0-032a7b21c539\" xlink:show=\"new\" xlink:title=\"psysml:247e0169-6466-401b-83f0-032a7b21c539\" xlink:type=\"simple\"><path d=\"M80,214.46 C80,230.92 80,247.18 80,260.92 \" fill=\"none\" id=\"E6&lt;-E11\" style=\"stroke: #383838; stroke-width: 1.0;\"/><polygon fill=\"#383838\" points=\"80,201.25,76,207.25,80,213.25,84,207.25,80,201.25\" style=\"stroke: #383838; stroke-width: 1.0;\"/></a><!--MD5=[33c044835fef4bff43c08c8af9d39e9b]\n",
       "@startuml\r\n",
       "skinparam linetype polyline\r\n",
       "skinparam monochrome true\r\n",
       "skinparam classbackgroundcolor white\r\n",
       "skinparam shadowing false\r\n",
       "skinparam wrapWidth 300\r\n",
       "hide circle\r\n",
       "\r\n",
       "package \"StateTest\" as E1  [[psysml:800f45c9-cf5c-46ce-b3c3-487778cd6319 ]]  {\r\n",
       "comp def \"Sig\" as E2  <<(T,blue)attribute def>> [[psysml:f1048496-f45f-4de3-be42-17169da36fba ]] {\r\n",
       "- - attributes - -\r\n",
       "x\r\n",
       "}\r\n",
       "comp def \"Exit\" as E3  <<(T,blue)attribute def>> [[psysml:546c6a0a-79ca-4224-b50a-77e407cae485 ]] {\r\n",
       "}\r\n",
       "comp usage \"p\" as E4  <<(T,blue)part>> [[psysml:4710131f-7c31-45d9-a6fe-10a60fc8490a ]] {\r\n",
       "}\r\n",
       "comp usage \"act\" as E5  <<(T,blue)action>> [[psysml:0b92cdb5-3694-4434-adff-e0b2149bd4e6 ]] {\r\n",
       "}\r\n",
       "comp def \"S\" as E6  <<(T,blue)state def>> [[psysml:f2a66a23-1197-47ed-b1bd-74e1ad61d6fd ]] {\r\n",
       "- - performActions - -\r\n",
       "act\r\n",
       "A\r\n",
       "B\r\n",
       "- - states - -\r\n",
       "S1\r\n",
       "- - transitions - -\r\n",
       "T\r\n",
       "}\r\n",
       "comp usage \"S2\" as E11  <<(T,blue)state>> [[psysml:f6369ddf-93b2-4791-a9ee-7d090a7e6258 ]] {\r\n",
       "- - sendActions - -\r\n",
       "doAction\r\n",
       "}\r\n",
       "E6 *- - E11 [[psysml:247e0169-6466-401b-83f0-032a7b21c539 ]] \r\n",
       "}\r\n",
       "@enduml\r\n",
       "\n",
       "PlantUML version 1.2020.13(Sat Jun 13 12:26:38 UTC 2020)\n",
       "(EPL source distribution)\n",
       "Java Runtime: OpenJDK Runtime Environment\n",
       "JVM: OpenJDK 64-Bit Server VM\n",
       "Default Encoding: UTF-8\n",
       "Language: en\n",
       "Country: null\n",
       "--></g></svg>"
      ]
     },
     "execution_count": 10,
     "metadata": {},
     "output_type": "execute_result"
    }
   ],
   "source": [
    "%viz --style=\"POLYLINE\" --view=\"Tree\" \"StateTest\""
   ]
  },
  {
   "cell_type": "code",
   "execution_count": 11,
   "id": "662f3011",
   "metadata": {
    "execution": {
     "iopub.execute_input": "2021-04-21T20:23:41.373871Z",
     "iopub.status.busy": "2021-04-21T20:23:41.373229Z",
     "iopub.status.idle": "2021-04-21T20:23:41.412018Z",
     "shell.execute_reply": "2021-04-21T20:23:41.411670Z"
    }
   },
   "outputs": [
    {
     "data": {
      "image/svg+xml": [
       "<?xml version=\"1.0\" encoding=\"UTF-8\" standalone=\"no\"?><svg xmlns=\"http://www.w3.org/2000/svg\" xmlns:xlink=\"http://www.w3.org/1999/xlink\" contentScriptType=\"application/ecmascript\" contentStyleType=\"text/css\" height=\"475px\" preserveAspectRatio=\"none\" style=\"width:346px;height:475px;\" version=\"1.1\" viewBox=\"0 0 346 475\" width=\"346px\" zoomAndPan=\"magnify\"><defs/><g><!--MD5=[fbc87193dbaf4d95561dea2c320d4a47]\n",
       "cluster E1--><a href=\"psysml:f2a66a23-1197-47ed-b1bd-74e1ad61d6fd\" target=\"_top\" title=\"psysml:f2a66a23-1197-47ed-b1bd-74e1ad61d6fd\" xlink:actuate=\"onRequest\" xlink:href=\"psysml:f2a66a23-1197-47ed-b1bd-74e1ad61d6fd\" xlink:show=\"new\" xlink:title=\"psysml:f2a66a23-1197-47ed-b1bd-74e1ad61d6fd\" xlink:type=\"simple\"><rect fill=\"#FFFFFF\" height=\"457\" id=\"E1\" style=\"stroke: #383838; stroke-width: 1.5;\" width=\"327\" x=\"7\" y=\"7\"/><rect fill=\"#F8F8F8\" height=\"37.9375\" style=\"stroke: #383838; stroke-width: 1.5;\" width=\"327\" x=\"7\" y=\"7\"/><text fill=\"#000000\" font-family=\"sans-serif\" font-size=\"12\" font-style=\"italic\" lengthAdjust=\"spacingAndGlyphs\" textLength=\"71\" x=\"135\" y=\"23.1387\">«state def»</text><text fill=\"#000000\" font-family=\"sans-serif\" font-size=\"12\" lengthAdjust=\"spacingAndGlyphs\" textLength=\"8\" x=\"166.5\" y=\"37.1074\">S</text><line style=\"stroke: #383838; stroke-width: 1.0;\" x1=\"7\" x2=\"334\" y1=\"90.8438\" y2=\"90.8438\"/><text fill=\"#000000\" font-family=\"sans-serif\" font-size=\"12\" font-weight=\"bold\" lengthAdjust=\"spacingAndGlyphs\" textLength=\"38\" x=\"12\" y=\"58.0762\">entry</text><text fill=\"#000000\" font-family=\"sans-serif\" font-size=\"12\" lengthAdjust=\"spacingAndGlyphs\" textLength=\"16\" x=\"50\" y=\"58.0762\">/ A</text><text fill=\"#000000\" font-family=\"sans-serif\" font-size=\"12\" font-weight=\"bold\" lengthAdjust=\"spacingAndGlyphs\" textLength=\"18\" x=\"12\" y=\"72.0449\">do</text><text fill=\"#000000\" font-family=\"sans-serif\" font-size=\"12\" lengthAdjust=\"spacingAndGlyphs\" textLength=\"16\" x=\"30\" y=\"72.0449\">/ B</text><text fill=\"#000000\" font-family=\"sans-serif\" font-size=\"12\" font-weight=\"bold\" lengthAdjust=\"spacingAndGlyphs\" textLength=\"26\" x=\"12\" y=\"86.0137\">exit</text><text fill=\"#000000\" font-family=\"sans-serif\" font-size=\"12\" lengthAdjust=\"spacingAndGlyphs\" textLength=\"28\" x=\"38\" y=\"86.0137\">/ act</text></a><ellipse cx=\"119\" cy=\"115\" fill=\"#000000\" rx=\"10\" ry=\"10\" style=\"stroke: none; stroke-width: 1.0;\"/><ellipse cx=\"144\" cy=\"438\" fill=\"none\" rx=\"10\" ry=\"10\" style=\"stroke: #000000; stroke-width: 1.0;\"/><ellipse cx=\"144.5\" cy=\"438.5\" fill=\"#000000\" rx=\"6\" ry=\"6\" style=\"stroke: none; stroke-width: 1.0;\"/><g id=\"E1.E2\"><a href=\"psysml:0ffea2c5-2698-4589-991c-94f7ac5b0395\" target=\"_top\" title=\"psysml:0ffea2c5-2698-4589-991c-94f7ac5b0395\" xlink:actuate=\"onRequest\" xlink:href=\"psysml:0ffea2c5-2698-4589-991c-94f7ac5b0395\" xlink:show=\"new\" xlink:title=\"psysml:0ffea2c5-2698-4589-991c-94f7ac5b0395\" xlink:type=\"simple\"><rect fill=\"#FFFFFF\" height=\"40\" id=\"E2\" rx=\"10\" ry=\"10\" style=\"stroke: #383838; stroke-width: 1.5;\" width=\"50\" x=\"94\" y=\"186\"/><rect fill=\"#F8F8F8\" height=\"23.9688\" rx=\"10\" ry=\"10\" style=\"stroke: #F8F8F8; stroke-width: 1.5;\" width=\"50\" x=\"94\" y=\"186\"/><rect fill=\"#F8F8F8\" height=\"10\" style=\"stroke: #F8F8F8; stroke-width: 1.5;\" width=\"50\" x=\"94\" y=\"199.9688\"/><rect fill=\"none\" height=\"40\" id=\"E2\" rx=\"10\" ry=\"10\" style=\"stroke: #383838; stroke-width: 1.5;\" width=\"50\" x=\"94\" y=\"186\"/><text fill=\"#000000\" font-family=\"sans-serif\" font-size=\"12\" lengthAdjust=\"spacingAndGlyphs\" textLength=\"16\" x=\"111\" y=\"202.1387\">S1</text></a></g><g id=\"E1.E3\"><a href=\"psysml:f6369ddf-93b2-4791-a9ee-7d090a7e6258\" target=\"_top\" title=\"psysml:f6369ddf-93b2-4791-a9ee-7d090a7e6258\" xlink:actuate=\"onRequest\" xlink:href=\"psysml:f6369ddf-93b2-4791-a9ee-7d090a7e6258\" xlink:show=\"new\" xlink:title=\"psysml:f6369ddf-93b2-4791-a9ee-7d090a7e6258\" xlink:type=\"simple\"><rect fill=\"#FFFFFF\" height=\"47.9375\" id=\"E3\" rx=\"10\" ry=\"10\" style=\"stroke: #383838; stroke-width: 1.5;\" width=\"169\" x=\"59.5\" y=\"303\"/><rect fill=\"#F8F8F8\" height=\"23.9688\" rx=\"10\" ry=\"10\" style=\"stroke: #F8F8F8; stroke-width: 1.5;\" width=\"169\" x=\"59.5\" y=\"303\"/><rect fill=\"#F8F8F8\" height=\"10\" style=\"stroke: #F8F8F8; stroke-width: 1.5;\" width=\"169\" x=\"59.5\" y=\"316.9688\"/><rect fill=\"none\" height=\"47.9375\" id=\"E3\" rx=\"10\" ry=\"10\" style=\"stroke: #383838; stroke-width: 1.5;\" width=\"169\" x=\"59.5\" y=\"303\"/><text fill=\"#000000\" font-family=\"sans-serif\" font-size=\"12\" lengthAdjust=\"spacingAndGlyphs\" textLength=\"16\" x=\"136\" y=\"319.1387\">S2</text><line style=\"stroke: #383838; stroke-width: 1.0;\" x1=\"59.5\" x2=\"228.5\" y1=\"326.9688\" y2=\"326.9688\"/><text fill=\"#000000\" font-family=\"sans-serif\" font-size=\"12\" font-weight=\"bold\" lengthAdjust=\"spacingAndGlyphs\" textLength=\"18\" x=\"64.5\" y=\"340.1074\">do</text><text fill=\"#000000\" font-family=\"sans-serif\" font-size=\"12\" lengthAdjust=\"spacingAndGlyphs\" textLength=\"141\" x=\"82.5\" y=\"340.1074\">/  send Sig(T::s::x) to p</text></a></g><!--MD5=[cff944eb183b832d446717a4e202d613]\n",
       "link *start*E1 to E2--><a href=\"psysml:3d6f6111-a5f0-4f07-bf0a-543b5052b3c3\" target=\"_top\" title=\"psysml:3d6f6111-a5f0-4f07-bf0a-543b5052b3c3\" xlink:actuate=\"onRequest\" xlink:href=\"psysml:3d6f6111-a5f0-4f07-bf0a-543b5052b3c3\" xlink:show=\"new\" xlink:title=\"psysml:3d6f6111-a5f0-4f07-bf0a-543b5052b3c3\" xlink:type=\"simple\"><path d=\"M119,125.19 C119,138.18 119,162.38 119,180.73 \" fill=\"none\" id=\"*start*E1-&gt;E2\" style=\"stroke: #383838; stroke-width: 1.0;\"/><polygon fill=\"#383838\" points=\"119,185.74,123,176.74,119,180.74,115,176.74,119,185.74\" style=\"stroke: #383838; stroke-width: 1.0;\"/></a><!--MD5=[9ee7afa76ca8c509b3d216624c3a9893]\n",
       "link E3 to *end*E1--><a href=\"psysml:374875bf-0004-40f7-bedc-1374d527cde5\" target=\"_top\" title=\"psysml:374875bf-0004-40f7-bedc-1374d527cde5\" xlink:actuate=\"onRequest\" xlink:href=\"psysml:374875bf-0004-40f7-bedc-1374d527cde5\" xlink:show=\"new\" xlink:title=\"psysml:374875bf-0004-40f7-bedc-1374d527cde5\" xlink:type=\"simple\"><path d=\"M144,351.12 C144,372.75 144,404.39 144,422.62 \" fill=\"none\" id=\"E3-&gt;*end*E1\" style=\"stroke: #383838; stroke-width: 1.0;\"/><polygon fill=\"#383838\" points=\"144,427.82,148,418.82,144,422.82,140,418.82,144,427.82\" style=\"stroke: #383838; stroke-width: 1.0;\"/><text fill=\"#000000\" font-family=\"sans-serif\" font-size=\"13\" lengthAdjust=\"spacingAndGlyphs\" textLength=\"23\" x=\"145\" y=\"394.0669\">Exit</text></a><!--MD5=[2720a5a1f2c3fca2055b230370638851]\n",
       "link E2 to E3--><a href=\"psysml:69f1494c-077d-4519-8343-87cce73be713\" target=\"_top\" title=\"psysml:69f1494c-077d-4519-8343-87cce73be713\" xlink:actuate=\"onRequest\" xlink:href=\"psysml:69f1494c-077d-4519-8343-87cce73be713\" xlink:show=\"new\" xlink:title=\"psysml:69f1494c-077d-4519-8343-87cce73be713\" xlink:type=\"simple\"><path d=\"M94.07,226.08 C76.1,239.84 55,256 55,256 C55,256 55,273 55,273 C55,273 78.06,286.73 100.71,300.22 \" fill=\"none\" id=\"E2-&gt;E3\" style=\"stroke: #383838; stroke-width: 1.0;\"/><polygon fill=\"#383838\" points=\"105.22,302.91,99.5408,294.8635,100.9262,300.3481,95.4417,301.7335,105.22,302.91\" style=\"stroke: #383838; stroke-width: 1.0;\"/><text fill=\"#000000\" font-family=\"sans-serif\" font-size=\"13\" lengthAdjust=\"spacingAndGlyphs\" textLength=\"81\" x=\"56\" y=\"269.0669\">Sig /action D</text></a><!--MD5=[05d275557350bfb9b23a4ef7222b4c39]\n",
       "link E3 to E2--><a href=\"psysml:f8d53726-bfe5-4353-91f3-ae2ef06d9a38\" target=\"_top\" title=\"psysml:f8d53726-bfe5-4353-91f3-ae2ef06d9a38\" xlink:actuate=\"onRequest\" xlink:href=\"psysml:f8d53726-bfe5-4353-91f3-ae2ef06d9a38\" xlink:show=\"new\" xlink:title=\"psysml:f8d53726-bfe5-4353-91f3-ae2ef06d9a38\" xlink:type=\"simple\"><path d=\"M143.33,302.69 C142.75,282.33 142,256 142,256 C142,256 135.98,243.18 130.11,230.66 \" fill=\"none\" id=\"E3-&gt;E2\" style=\"stroke: #383838; stroke-width: 1.0;\"/><polygon fill=\"#383838\" points=\"127.96,226.08,128.1429,235.9272,130.0752,230.6106,135.3918,232.5428,127.96,226.08\" style=\"stroke: #383838; stroke-width: 1.0;\"/><text fill=\"#000000\" font-family=\"sans-serif\" font-size=\"13\" lengthAdjust=\"spacingAndGlyphs\" textLength=\"135\" x=\"143\" y=\"269.0669\">Sig [true]/send s to p</text></a><!--MD5=[489b6ade75e2b03d43a9f2f5b0221128]\n",
       "@startuml\r\n",
       "skinparam linetype polyline\r\n",
       "skinparam monochrome true\r\n",
       "skinparam classbackgroundcolor white\r\n",
       "skinparam shadowing false\r\n",
       "skinparam wrapWidth 300\r\n",
       "hide circle\r\n",
       "\r\n",
       "rec def \"S\" as E1  <<(T,blue)state def>> [[psysml:f2a66a23-1197-47ed-b1bd-74e1ad61d6fd ]] {\r\n",
       "rec usage \"S1\" as E2 [[psysml:0ffea2c5-2698-4589-991c-94f7ac5b0395 ]] {\r\n",
       "}\r\n",
       "\r\n",
       "rec usage \"S2\" as E3 [[psysml:f6369ddf-93b2-4791-a9ee-7d090a7e6258 ]] {\r\n",
       "desc \"S2\" as E3  : **do**/  send Sig(T::s::x) to p\r\n",
       "}\r\n",
       "\r\n",
       "desc \"S\" as E1  : **entry**/ A\r\n",
       "desc \"S\" as E1  : **do**/ B\r\n",
       "desc \"S\" as E1  : **exit**/ act \r\n",
       "[*] - -> E2 [[psysml:3d6f6111-a5f0-4f07-bf0a-543b5052b3c3 ]] \r\n",
       "E3  - -> [*] [[psysml:374875bf-0004-40f7-bedc-1374d527cde5 ]] : Exit \r\n",
       "}\r\n",
       "\r\n",
       "E2  - -> E3 [[psysml:69f1494c-077d-4519-8343-87cce73be713 ]] : Sig /action D\r\n",
       "E3  - -> E2 [[psysml:f8d53726-bfe5-4353-91f3-ae2ef06d9a38 ]] : Sig [true]/send s to p\r\n",
       "@enduml\r\n",
       "\n",
       "PlantUML version 1.2020.13(Sat Jun 13 12:26:38 UTC 2020)\n",
       "(EPL source distribution)\n",
       "Java Runtime: OpenJDK Runtime Environment\n",
       "JVM: OpenJDK 64-Bit Server VM\n",
       "Default Encoding: UTF-8\n",
       "Language: en\n",
       "Country: null\n",
       "--></g></svg>"
      ]
     },
     "execution_count": 11,
     "metadata": {},
     "output_type": "execute_result"
    }
   ],
   "source": [
    "%viz --style=\"POLYLINE\" --view=\"State\" \"StateTest\""
   ]
  },
  {
   "cell_type": "code",
   "execution_count": 12,
   "id": "2b130895",
   "metadata": {
    "execution": {
     "iopub.execute_input": "2021-04-21T20:23:41.462251Z",
     "iopub.status.busy": "2021-04-21T20:23:41.461674Z",
     "iopub.status.idle": "2021-04-21T20:23:41.515616Z",
     "shell.execute_reply": "2021-04-21T20:23:41.515178Z"
    }
   },
   "outputs": [
    {
     "data": {
      "image/svg+xml": [
       "<?xml version=\"1.0\" encoding=\"UTF-8\" standalone=\"no\"?><svg xmlns=\"http://www.w3.org/2000/svg\" xmlns:xlink=\"http://www.w3.org/1999/xlink\" contentScriptType=\"application/ecmascript\" contentStyleType=\"text/css\" height=\"421px\" preserveAspectRatio=\"none\" style=\"width:836px;height:421px;\" version=\"1.1\" viewBox=\"0 0 836 421\" width=\"836px\" zoomAndPan=\"magnify\"><defs/><g><!--MD5=[fbc87193dbaf4d95561dea2c320d4a47]\n",
       "cluster E1--><a href=\"psysml:800f45c9-cf5c-46ce-b3c3-487778cd6319\" target=\"_top\" title=\"psysml:800f45c9-cf5c-46ce-b3c3-487778cd6319\" xlink:actuate=\"onRequest\" xlink:href=\"psysml:800f45c9-cf5c-46ce-b3c3-487778cd6319\" xlink:show=\"new\" xlink:title=\"psysml:800f45c9-cf5c-46ce-b3c3-487778cd6319\" xlink:type=\"simple\"><polygon fill=\"#FFFFFF\" points=\"16,6,98,6,105,28.2969,814,28.2969,814,409.5,16,409.5,16,6\" style=\"stroke: #000000; stroke-width: 1.5;\"/><line style=\"stroke: #000000; stroke-width: 1.5;\" x1=\"16\" x2=\"105\" y1=\"28.2969\" y2=\"28.2969\"/><text fill=\"#000000\" font-family=\"sans-serif\" font-size=\"14\" font-weight=\"bold\" lengthAdjust=\"spacingAndGlyphs\" textLength=\"76\" x=\"20\" y=\"20.9951\">StateTest</text></a><!--MD5=[14e3b0961a2654348d326746436168a1]\n",
       "cluster E6--><a href=\"psysml:f2a66a23-1197-47ed-b1bd-74e1ad61d6fd\" target=\"_top\" title=\"psysml:f2a66a23-1197-47ed-b1bd-74e1ad61d6fd\" xlink:actuate=\"onRequest\" xlink:href=\"psysml:f2a66a23-1197-47ed-b1bd-74e1ad61d6fd\" xlink:show=\"new\" xlink:title=\"psysml:f2a66a23-1197-47ed-b1bd-74e1ad61d6fd\" xlink:type=\"simple\"><rect fill=\"#FFFFFF\" height=\"336.5\" id=\"E6\" style=\"stroke: #383838; stroke-width: 1.5;\" width=\"327\" x=\"463\" y=\"49\"/><rect fill=\"#F8F8F8\" height=\"37.9375\" style=\"stroke: #383838; stroke-width: 1.5;\" width=\"327\" x=\"463\" y=\"49\"/><text fill=\"#000000\" font-family=\"sans-serif\" font-size=\"12\" font-style=\"italic\" lengthAdjust=\"spacingAndGlyphs\" textLength=\"71\" x=\"591\" y=\"65.1387\">«state def»</text><text fill=\"#000000\" font-family=\"sans-serif\" font-size=\"12\" lengthAdjust=\"spacingAndGlyphs\" textLength=\"8\" x=\"622.5\" y=\"79.1074\">S</text><line style=\"stroke: #383838; stroke-width: 1.0;\" x1=\"463\" x2=\"790\" y1=\"132.8438\" y2=\"132.8438\"/><text fill=\"#000000\" font-family=\"sans-serif\" font-size=\"12\" font-weight=\"bold\" lengthAdjust=\"spacingAndGlyphs\" textLength=\"38\" x=\"468\" y=\"100.0762\">entry</text><text fill=\"#000000\" font-family=\"sans-serif\" font-size=\"12\" lengthAdjust=\"spacingAndGlyphs\" textLength=\"16\" x=\"506\" y=\"100.0762\">/ A</text><text fill=\"#000000\" font-family=\"sans-serif\" font-size=\"12\" font-weight=\"bold\" lengthAdjust=\"spacingAndGlyphs\" textLength=\"18\" x=\"468\" y=\"114.0449\">do</text><text fill=\"#000000\" font-family=\"sans-serif\" font-size=\"12\" lengthAdjust=\"spacingAndGlyphs\" textLength=\"16\" x=\"486\" y=\"114.0449\">/ B</text><text fill=\"#000000\" font-family=\"sans-serif\" font-size=\"12\" font-weight=\"bold\" lengthAdjust=\"spacingAndGlyphs\" textLength=\"26\" x=\"468\" y=\"128.0137\">exit</text><text fill=\"#000000\" font-family=\"sans-serif\" font-size=\"12\" lengthAdjust=\"spacingAndGlyphs\" textLength=\"28\" x=\"494\" y=\"128.0137\">/ act</text></a><g id=\"E1.E2\"><a href=\"psysml:f1048496-f45f-4de3-be42-17169da36fba\" target=\"_top\" title=\"psysml:f1048496-f45f-4de3-be42-17169da36fba\" xlink:actuate=\"onRequest\" xlink:href=\"psysml:f1048496-f45f-4de3-be42-17169da36fba\" xlink:show=\"new\" xlink:title=\"psysml:f1048496-f45f-4de3-be42-17169da36fba\" xlink:type=\"simple\"><rect fill=\"#FFFFFF\" height=\"42.9375\" id=\"E2\" style=\"stroke: #383838; stroke-width: 1.5;\" width=\"100\" x=\"347\" y=\"135.5\"/><rect fill=\"#F8F8F8\" height=\"37.9375\" style=\"stroke: #383838; stroke-width: 1.5;\" width=\"100\" x=\"347\" y=\"135.5\"/><text fill=\"#000000\" font-family=\"sans-serif\" font-size=\"12\" font-style=\"italic\" lengthAdjust=\"spacingAndGlyphs\" textLength=\"93\" x=\"350.5\" y=\"151.6387\">«attribute def»</text><text fill=\"#000000\" font-family=\"sans-serif\" font-size=\"12\" lengthAdjust=\"spacingAndGlyphs\" textLength=\"19\" x=\"387.5\" y=\"165.6074\">Sig</text></a></g><g id=\"E1.E3\"><a href=\"psysml:546c6a0a-79ca-4224-b50a-77e407cae485\" target=\"_top\" title=\"psysml:546c6a0a-79ca-4224-b50a-77e407cae485\" xlink:actuate=\"onRequest\" xlink:href=\"psysml:546c6a0a-79ca-4224-b50a-77e407cae485\" xlink:show=\"new\" xlink:title=\"psysml:546c6a0a-79ca-4224-b50a-77e407cae485\" xlink:type=\"simple\"><rect fill=\"#FFFFFF\" height=\"42.9375\" id=\"E3\" style=\"stroke: #383838; stroke-width: 1.5;\" width=\"100\" x=\"212\" y=\"135.5\"/><rect fill=\"#F8F8F8\" height=\"37.9375\" style=\"stroke: #383838; stroke-width: 1.5;\" width=\"100\" x=\"212\" y=\"135.5\"/><text fill=\"#000000\" font-family=\"sans-serif\" font-size=\"12\" font-style=\"italic\" lengthAdjust=\"spacingAndGlyphs\" textLength=\"93\" x=\"215.5\" y=\"151.6387\">«attribute def»</text><text fill=\"#000000\" font-family=\"sans-serif\" font-size=\"12\" lengthAdjust=\"spacingAndGlyphs\" textLength=\"22\" x=\"251\" y=\"165.6074\">Exit</text></a></g><g id=\"E1.E4\"><a href=\"psysml:4710131f-7c31-45d9-a6fe-10a60fc8490a\" target=\"_top\" title=\"psysml:4710131f-7c31-45d9-a6fe-10a60fc8490a\" xlink:actuate=\"onRequest\" xlink:href=\"psysml:4710131f-7c31-45d9-a6fe-10a60fc8490a\" xlink:show=\"new\" xlink:title=\"psysml:4710131f-7c31-45d9-a6fe-10a60fc8490a\" xlink:type=\"simple\"><rect fill=\"#FFFFFF\" height=\"40\" id=\"E4\" rx=\"10\" ry=\"10\" style=\"stroke: #383838; stroke-width: 1.5;\" width=\"50\" x=\"127\" y=\"137\"/><rect fill=\"#F8F8F8\" height=\"23.9688\" rx=\"10\" ry=\"10\" style=\"stroke: #F8F8F8; stroke-width: 1.5;\" width=\"50\" x=\"127\" y=\"137\"/><rect fill=\"#F8F8F8\" height=\"10\" style=\"stroke: #F8F8F8; stroke-width: 1.5;\" width=\"50\" x=\"127\" y=\"150.9688\"/><rect fill=\"none\" height=\"40\" id=\"E4\" rx=\"10\" ry=\"10\" style=\"stroke: #383838; stroke-width: 1.5;\" width=\"50\" x=\"127\" y=\"137\"/><text fill=\"#000000\" font-family=\"sans-serif\" font-size=\"12\" lengthAdjust=\"spacingAndGlyphs\" textLength=\"8\" x=\"148\" y=\"153.1387\">p</text></a></g><g id=\"E1.E5\"><a href=\"psysml:0b92cdb5-3694-4434-adff-e0b2149bd4e6\" target=\"_top\" title=\"psysml:0b92cdb5-3694-4434-adff-e0b2149bd4e6\" xlink:actuate=\"onRequest\" xlink:href=\"psysml:0b92cdb5-3694-4434-adff-e0b2149bd4e6\" xlink:show=\"new\" xlink:title=\"psysml:0b92cdb5-3694-4434-adff-e0b2149bd4e6\" xlink:type=\"simple\"><rect fill=\"#FFFFFF\" height=\"42.9375\" id=\"E5\" rx=\"10\" ry=\"10\" style=\"stroke: #383838; stroke-width: 1.5;\" width=\"60\" x=\"32\" y=\"135.5\"/><rect fill=\"#F8F8F8\" height=\"37.9375\" rx=\"10\" ry=\"10\" style=\"stroke: #F8F8F8; stroke-width: 1.5;\" width=\"60\" x=\"32\" y=\"135.5\"/><rect fill=\"#F8F8F8\" height=\"10\" style=\"stroke: #F8F8F8; stroke-width: 1.5;\" width=\"60\" x=\"32\" y=\"163.4375\"/><rect fill=\"none\" height=\"42.9375\" id=\"E5\" rx=\"10\" ry=\"10\" style=\"stroke: #383838; stroke-width: 1.5;\" width=\"60\" x=\"32\" y=\"135.5\"/><text fill=\"#000000\" font-family=\"sans-serif\" font-size=\"12\" font-style=\"italic\" lengthAdjust=\"spacingAndGlyphs\" textLength=\"53\" x=\"35.5\" y=\"151.6387\">«action»</text><text fill=\"#000000\" font-family=\"sans-serif\" font-size=\"12\" lengthAdjust=\"spacingAndGlyphs\" textLength=\"20\" x=\"52\" y=\"165.6074\">act</text></a></g><ellipse cx=\"575\" cy=\"157\" fill=\"#000000\" rx=\"10\" ry=\"10\" style=\"stroke: none; stroke-width: 1.0;\"/><ellipse cx=\"600\" cy=\"359.5\" fill=\"none\" rx=\"10\" ry=\"10\" style=\"stroke: #000000; stroke-width: 1.0;\"/><ellipse cx=\"600.5\" cy=\"360\" fill=\"#000000\" rx=\"6\" ry=\"6\" style=\"stroke: none; stroke-width: 1.0;\"/><g id=\"E1.E6.E7\"><a href=\"psysml:0ffea2c5-2698-4589-991c-94f7ac5b0395\" target=\"_top\" title=\"psysml:0ffea2c5-2698-4589-991c-94f7ac5b0395\" xlink:actuate=\"onRequest\" xlink:href=\"psysml:0ffea2c5-2698-4589-991c-94f7ac5b0395\" xlink:show=\"new\" xlink:title=\"psysml:0ffea2c5-2698-4589-991c-94f7ac5b0395\" xlink:type=\"simple\"><rect fill=\"#FFFFFF\" height=\"40\" id=\"E7\" rx=\"10\" ry=\"10\" style=\"stroke: #383838; stroke-width: 1.5;\" width=\"50\" x=\"550\" y=\"195.5\"/><rect fill=\"#F8F8F8\" height=\"23.9688\" rx=\"10\" ry=\"10\" style=\"stroke: #F8F8F8; stroke-width: 1.5;\" width=\"50\" x=\"550\" y=\"195.5\"/><rect fill=\"#F8F8F8\" height=\"10\" style=\"stroke: #F8F8F8; stroke-width: 1.5;\" width=\"50\" x=\"550\" y=\"209.4688\"/><rect fill=\"none\" height=\"40\" id=\"E7\" rx=\"10\" ry=\"10\" style=\"stroke: #383838; stroke-width: 1.5;\" width=\"50\" x=\"550\" y=\"195.5\"/><text fill=\"#000000\" font-family=\"sans-serif\" font-size=\"12\" lengthAdjust=\"spacingAndGlyphs\" textLength=\"16\" x=\"567\" y=\"211.6387\">S1</text></a></g><g id=\"E1.E6.E8\"><a href=\"psysml:f6369ddf-93b2-4791-a9ee-7d090a7e6258\" target=\"_top\" title=\"psysml:f6369ddf-93b2-4791-a9ee-7d090a7e6258\" xlink:actuate=\"onRequest\" xlink:href=\"psysml:f6369ddf-93b2-4791-a9ee-7d090a7e6258\" xlink:show=\"new\" xlink:title=\"psysml:f6369ddf-93b2-4791-a9ee-7d090a7e6258\" xlink:type=\"simple\"><rect fill=\"#FFFFFF\" height=\"47.9375\" id=\"E8\" rx=\"10\" ry=\"10\" style=\"stroke: #383838; stroke-width: 1.5;\" width=\"169\" x=\"515.5\" y=\"268.5\"/><rect fill=\"#F8F8F8\" height=\"23.9688\" rx=\"10\" ry=\"10\" style=\"stroke: #F8F8F8; stroke-width: 1.5;\" width=\"169\" x=\"515.5\" y=\"268.5\"/><rect fill=\"#F8F8F8\" height=\"10\" style=\"stroke: #F8F8F8; stroke-width: 1.5;\" width=\"169\" x=\"515.5\" y=\"282.4688\"/><rect fill=\"none\" height=\"47.9375\" id=\"E8\" rx=\"10\" ry=\"10\" style=\"stroke: #383838; stroke-width: 1.5;\" width=\"169\" x=\"515.5\" y=\"268.5\"/><text fill=\"#000000\" font-family=\"sans-serif\" font-size=\"12\" lengthAdjust=\"spacingAndGlyphs\" textLength=\"16\" x=\"592\" y=\"284.6387\">S2</text><line style=\"stroke: #383838; stroke-width: 1.0;\" x1=\"515.5\" x2=\"684.5\" y1=\"292.4688\" y2=\"292.4688\"/><text fill=\"#000000\" font-family=\"sans-serif\" font-size=\"12\" font-weight=\"bold\" lengthAdjust=\"spacingAndGlyphs\" textLength=\"18\" x=\"520.5\" y=\"305.6074\">do</text><text fill=\"#000000\" font-family=\"sans-serif\" font-size=\"12\" lengthAdjust=\"spacingAndGlyphs\" textLength=\"141\" x=\"538.5\" y=\"305.6074\">/  send Sig(T::s::x) to p</text></a></g><!--MD5=[5a531d3a85f3339e6e197084acb48195]\n",
       "link *start*E6 to E7--><a href=\"psysml:3d6f6111-a5f0-4f07-bf0a-543b5052b3c3\" target=\"_top\" title=\"psysml:3d6f6111-a5f0-4f07-bf0a-543b5052b3c3\" xlink:actuate=\"onRequest\" xlink:href=\"psysml:3d6f6111-a5f0-4f07-bf0a-543b5052b3c3\" xlink:show=\"new\" xlink:title=\"psysml:3d6f6111-a5f0-4f07-bf0a-543b5052b3c3\" xlink:type=\"simple\"><path d=\"M575,167.08 C575,173.38 575,182.09 575,190.34 \" fill=\"none\" id=\"*start*E6-&gt;E7\" style=\"stroke: #383838; stroke-width: 1.0;\"/><polygon fill=\"#383838\" points=\"575,195.38,579,186.38,575,190.38,571,186.38,575,195.38\" style=\"stroke: #383838; stroke-width: 1.0;\"/></a><!--MD5=[7ec9a8babba89ddcae1318ca9fb3c814]\n",
       "link E8 to *end*E6--><a href=\"psysml:374875bf-0004-40f7-bedc-1374d527cde5\" target=\"_top\" title=\"psysml:374875bf-0004-40f7-bedc-1374d527cde5\" xlink:actuate=\"onRequest\" xlink:href=\"psysml:374875bf-0004-40f7-bedc-1374d527cde5\" xlink:show=\"new\" xlink:title=\"psysml:374875bf-0004-40f7-bedc-1374d527cde5\" xlink:type=\"simple\"><path d=\"M600,316.6 C600,325.73 600,335.95 600,344 \" fill=\"none\" id=\"E8-&gt;*end*E6\" style=\"stroke: #383838; stroke-width: 1.0;\"/><polygon fill=\"#383838\" points=\"600,349.2,604,340.2,600,344.2,596,340.2,600,349.2\" style=\"stroke: #383838; stroke-width: 1.0;\"/><text fill=\"#000000\" font-family=\"sans-serif\" font-size=\"13\" lengthAdjust=\"spacingAndGlyphs\" textLength=\"23\" x=\"601\" y=\"337.5669\">Exit</text></a><!--MD5=[79bc8f324ef4d02c541433f2e6e513c3]\n",
       "link E7 to E8--><a href=\"psysml:69f1494c-077d-4519-8343-87cce73be713\" target=\"_top\" title=\"psysml:69f1494c-077d-4519-8343-87cce73be713\" xlink:actuate=\"onRequest\" xlink:href=\"psysml:69f1494c-077d-4519-8343-87cce73be713\" xlink:show=\"new\" xlink:title=\"psysml:69f1494c-077d-4519-8343-87cce73be713\" xlink:type=\"simple\"><path d=\"M549.71,227.17 C531.82,234.72 511,243.5 511,243.5 C511,243.5 511,260.5 511,260.5 C511,260.5 518.51,263.12 529.17,266.83 \" fill=\"none\" id=\"E7-&gt;E8\" style=\"stroke: #383838; stroke-width: 1.0;\"/><polygon fill=\"#383838\" points=\"533.92,268.48,526.7376,261.7411,529.1985,266.8346,524.105,269.2955,533.92,268.48\" style=\"stroke: #383838; stroke-width: 1.0;\"/><text fill=\"#000000\" font-family=\"sans-serif\" font-size=\"13\" lengthAdjust=\"spacingAndGlyphs\" textLength=\"81\" x=\"512\" y=\"256.5669\">Sig /action D</text></a><!--MD5=[bfa3c8b0d15052fdf50ae9310b491027]\n",
       "link E8 to E7--><a href=\"psysml:f8d53726-bfe5-4353-91f3-ae2ef06d9a38\" target=\"_top\" title=\"psysml:f8d53726-bfe5-4353-91f3-ae2ef06d9a38\" xlink:actuate=\"onRequest\" xlink:href=\"psysml:f8d53726-bfe5-4353-91f3-ae2ef06d9a38\" xlink:show=\"new\" xlink:title=\"psysml:f8d53726-bfe5-4353-91f3-ae2ef06d9a38\" xlink:type=\"simple\"><path d=\"M599.04,268.34 C598.52,256.07 598,243.5 598,243.5 C598,243.5 596.6,241.85 594.48,239.37 \" fill=\"none\" id=\"E8-&gt;E7\" style=\"stroke: #383838; stroke-width: 1.0;\"/><polygon fill=\"#383838\" points=\"591.22,235.55,594.0021,244.9977,594.4587,239.3593,600.0971,239.8159,591.22,235.55\" style=\"stroke: #383838; stroke-width: 1.0;\"/><text fill=\"#000000\" font-family=\"sans-serif\" font-size=\"13\" lengthAdjust=\"spacingAndGlyphs\" textLength=\"135\" x=\"599\" y=\"256.5669\">Sig [true]/send s to p</text></a><!--MD5=[32415f8547d455f3a83124ed04cb63be]\n",
       "@startuml\r\n",
       "skinparam ranksep 10\r\n",
       "skinparam rectangle {\r\n",
       " backgroundColor<<block>> LightGreen\r\n",
       "}\r\n",
       "skinparam linetype polyline\r\n",
       "skinparam monochrome true\r\n",
       "skinparam classbackgroundcolor white\r\n",
       "skinparam shadowing false\r\n",
       "skinparam wrapWidth 300\r\n",
       "hide circle\r\n",
       "\r\n",
       "package \"StateTest\" as E1  [[psysml:800f45c9-cf5c-46ce-b3c3-487778cd6319 ]]  {\r\n",
       "def \"Sig\" as E2  <<(T,blue)attribute def>> [[psysml:f1048496-f45f-4de3-be42-17169da36fba ]] \r\n",
       "def \"Exit\" as E3  <<(T,blue)attribute def>> [[psysml:546c6a0a-79ca-4224-b50a-77e407cae485 ]] \r\n",
       "rec usage \"p\" as E4  [[psysml:4710131f-7c31-45d9-a6fe-10a60fc8490a ]] {\r\n",
       "}\r\n",
       "rec usage \"act\" as E5  <<(T,blue)action>> [[psysml:0b92cdb5-3694-4434-adff-e0b2149bd4e6 ]] {\r\n",
       "}\r\n",
       "\r\n",
       "rec def \"S\" as E6  <<(T,blue)state def>> [[psysml:f2a66a23-1197-47ed-b1bd-74e1ad61d6fd ]] {\r\n",
       "rec usage \"S1\" as E7 [[psysml:0ffea2c5-2698-4589-991c-94f7ac5b0395 ]] {\r\n",
       "}\r\n",
       "\r\n",
       "rec usage \"S2\" as E8 [[psysml:f6369ddf-93b2-4791-a9ee-7d090a7e6258 ]] {\r\n",
       "desc \"S2\" as E8  : **do**/  send Sig(T::s::x) to p\r\n",
       "}\r\n",
       "\r\n",
       "desc \"S\" as E6  : **entry**/ A\r\n",
       "desc \"S\" as E6  : **do**/ B\r\n",
       "desc \"S\" as E6  : **exit**/ act \r\n",
       "[*] - -> E7 [[psysml:3d6f6111-a5f0-4f07-bf0a-543b5052b3c3 ]] \r\n",
       "E8  - -> [*] [[psysml:374875bf-0004-40f7-bedc-1374d527cde5 ]] : Exit \r\n",
       "}\r\n",
       "\r\n",
       "E7  - -> E8 [[psysml:69f1494c-077d-4519-8343-87cce73be713 ]] : Sig /action D\r\n",
       "E8  - -> E7 [[psysml:f8d53726-bfe5-4353-91f3-ae2ef06d9a38 ]] : Sig [true]/send s to p\r\n",
       "}\r\n",
       "@enduml\r\n",
       "\n",
       "PlantUML version 1.2020.13(Sat Jun 13 12:26:38 UTC 2020)\n",
       "(EPL source distribution)\n",
       "Java Runtime: OpenJDK Runtime Environment\n",
       "JVM: OpenJDK 64-Bit Server VM\n",
       "Default Encoding: UTF-8\n",
       "Language: en\n",
       "Country: null\n",
       "--></g></svg>"
      ]
     },
     "execution_count": 12,
     "metadata": {},
     "output_type": "execute_result"
    }
   ],
   "source": [
    "%viz --style=\"POLYLINE\" --view=\"Interconnection\" \"StateTest\""
   ]
  },
  {
   "cell_type": "code",
   "execution_count": 13,
   "id": "47529169",
   "metadata": {
    "execution": {
     "iopub.execute_input": "2021-04-21T20:23:41.566033Z",
     "iopub.status.busy": "2021-04-21T20:23:41.565373Z",
     "iopub.status.idle": "2021-04-21T20:23:41.618404Z",
     "shell.execute_reply": "2021-04-21T20:23:41.618682Z"
    }
   },
   "outputs": [
    {
     "data": {
      "image/svg+xml": [
       "<?xml version=\"1.0\" encoding=\"UTF-8\" standalone=\"no\"?><svg xmlns=\"http://www.w3.org/2000/svg\" xmlns:xlink=\"http://www.w3.org/1999/xlink\" contentScriptType=\"application/ecmascript\" contentStyleType=\"text/css\" height=\"444px\" preserveAspectRatio=\"none\" style=\"width:594px;height:444px;\" version=\"1.1\" viewBox=\"0 0 594 444\" width=\"594px\" zoomAndPan=\"magnify\"><defs/><g><!--MD5=[e4f7fae6ed58524ba242bb0b0d3be6b7]\n",
       "cluster E2--><a href=\"psysml:f2a66a23-1197-47ed-b1bd-74e1ad61d6fd\" target=\"_top\" title=\"psysml:f2a66a23-1197-47ed-b1bd-74e1ad61d6fd\" xlink:actuate=\"onRequest\" xlink:href=\"psysml:f2a66a23-1197-47ed-b1bd-74e1ad61d6fd\" xlink:show=\"new\" xlink:title=\"psysml:f2a66a23-1197-47ed-b1bd-74e1ad61d6fd\" xlink:type=\"simple\"><rect fill=\"#FFFFFF\" height=\"426\" id=\"E2\" style=\"stroke: #383838; stroke-width: 1.5;\" width=\"497\" x=\"86\" y=\"7\"/><rect fill=\"#F8F8F8\" height=\"37.9375\" style=\"stroke: #383838; stroke-width: 1.5;\" width=\"497\" x=\"86\" y=\"7\"/><text fill=\"#000000\" font-family=\"sans-serif\" font-size=\"12\" font-style=\"italic\" lengthAdjust=\"spacingAndGlyphs\" textLength=\"71\" x=\"299\" y=\"23.1387\">«state def»</text><text fill=\"#000000\" font-family=\"sans-serif\" font-size=\"12\" lengthAdjust=\"spacingAndGlyphs\" textLength=\"8\" x=\"330.5\" y=\"37.1074\">S</text></a><!--MD5=[168fadf3d0c3fd93dd5d6da1b1d7ab76]\n",
       "cluster E7--><a href=\"psysml:f6369ddf-93b2-4791-a9ee-7d090a7e6258\" target=\"_top\" title=\"psysml:f6369ddf-93b2-4791-a9ee-7d090a7e6258\" xlink:actuate=\"onRequest\" xlink:href=\"psysml:f6369ddf-93b2-4791-a9ee-7d090a7e6258\" xlink:show=\"new\" xlink:title=\"psysml:f6369ddf-93b2-4791-a9ee-7d090a7e6258\" xlink:type=\"simple\"><rect fill=\"#FFFFFF\" height=\"138\" id=\"E7\" rx=\"10\" ry=\"10\" style=\"stroke: #383838; stroke-width: 1.5;\" width=\"195\" x=\"327\" y=\"210\"/><rect fill=\"#F8F8F8\" height=\"37.9375\" rx=\"10\" ry=\"10\" style=\"stroke: #F8F8F8; stroke-width: 1.5;\" width=\"195\" x=\"327\" y=\"210\"/><rect fill=\"#F8F8F8\" height=\"10\" style=\"stroke: #F8F8F8; stroke-width: 1.5;\" width=\"195\" x=\"327\" y=\"237.9375\"/><rect fill=\"none\" height=\"138\" id=\"E7\" rx=\"10\" ry=\"10\" style=\"stroke: #383838; stroke-width: 1.5;\" width=\"195\" x=\"327\" y=\"210\"/><text fill=\"#000000\" font-family=\"sans-serif\" font-size=\"12\" font-style=\"italic\" lengthAdjust=\"spacingAndGlyphs\" textLength=\"47\" x=\"401\" y=\"226.1387\">«state»</text><text fill=\"#000000\" font-family=\"sans-serif\" font-size=\"12\" lengthAdjust=\"spacingAndGlyphs\" textLength=\"16\" x=\"416.5\" y=\"240.1074\">S2</text><line style=\"stroke: #383838; stroke-width: 1.0;\" x1=\"327\" x2=\"522\" y1=\"247.9375\" y2=\"247.9375\"/></a><g id=\"E1\"><a href=\"psysml:0b92cdb5-3694-4434-adff-e0b2149bd4e6\" target=\"_top\" title=\"psysml:0b92cdb5-3694-4434-adff-e0b2149bd4e6\" xlink:actuate=\"onRequest\" xlink:href=\"psysml:0b92cdb5-3694-4434-adff-e0b2149bd4e6\" xlink:show=\"new\" xlink:title=\"psysml:0b92cdb5-3694-4434-adff-e0b2149bd4e6\" xlink:type=\"simple\"><rect fill=\"#FFFFFF\" height=\"42.9375\" id=\"E1\" rx=\"10\" ry=\"10\" style=\"stroke: #383838; stroke-width: 1.5;\" width=\"60\" x=\"7\" y=\"58\"/><rect fill=\"#F8F8F8\" height=\"37.9375\" rx=\"10\" ry=\"10\" style=\"stroke: #F8F8F8; stroke-width: 1.5;\" width=\"60\" x=\"7\" y=\"58\"/><rect fill=\"#F8F8F8\" height=\"10\" style=\"stroke: #F8F8F8; stroke-width: 1.5;\" width=\"60\" x=\"7\" y=\"85.9375\"/><rect fill=\"none\" height=\"42.9375\" id=\"E1\" rx=\"10\" ry=\"10\" style=\"stroke: #383838; stroke-width: 1.5;\" width=\"60\" x=\"7\" y=\"58\"/><text fill=\"#000000\" font-family=\"sans-serif\" font-size=\"12\" font-style=\"italic\" lengthAdjust=\"spacingAndGlyphs\" textLength=\"53\" x=\"10.5\" y=\"74.1387\">«action»</text><text fill=\"#000000\" font-family=\"sans-serif\" font-size=\"12\" lengthAdjust=\"spacingAndGlyphs\" textLength=\"20\" x=\"27\" y=\"88.1074\">act</text></a></g><ellipse cx=\"557\" cy=\"79.5\" fill=\"#000000\" rx=\"10\" ry=\"10\" style=\"stroke: none; stroke-width: 1.0;\"/><ellipse cx=\"335\" cy=\"407\" fill=\"none\" rx=\"10\" ry=\"10\" style=\"stroke: #000000; stroke-width: 1.0;\"/><ellipse cx=\"335.5\" cy=\"407.5\" fill=\"#000000\" rx=\"6\" ry=\"6\" style=\"stroke: none; stroke-width: 1.0;\"/><g id=\"E2.E3\"><a href=\"psysml:b2584b97-8c36-4971-ba08-266a53e2e05d\" target=\"_top\" title=\"psysml:b2584b97-8c36-4971-ba08-266a53e2e05d\" xlink:actuate=\"onRequest\" xlink:href=\"psysml:b2584b97-8c36-4971-ba08-266a53e2e05d\" xlink:show=\"new\" xlink:title=\"psysml:b2584b97-8c36-4971-ba08-266a53e2e05d\" xlink:type=\"simple\"><rect fill=\"#FFFFFF\" height=\"42.9375\" id=\"E3\" rx=\"10\" ry=\"10\" style=\"stroke: #383838; stroke-width: 1.5;\" width=\"113\" x=\"398.5\" y=\"58\"/><rect fill=\"#F8F8F8\" height=\"37.9375\" rx=\"10\" ry=\"10\" style=\"stroke: #F8F8F8; stroke-width: 1.5;\" width=\"113\" x=\"398.5\" y=\"58\"/><rect fill=\"#F8F8F8\" height=\"10\" style=\"stroke: #F8F8F8; stroke-width: 1.5;\" width=\"113\" x=\"398.5\" y=\"85.9375\"/><rect fill=\"none\" height=\"42.9375\" id=\"E3\" rx=\"10\" ry=\"10\" style=\"stroke: #383838; stroke-width: 1.5;\" width=\"113\" x=\"398.5\" y=\"58\"/><text fill=\"#000000\" font-family=\"sans-serif\" font-size=\"12\" font-style=\"italic\" lengthAdjust=\"spacingAndGlyphs\" textLength=\"106\" x=\"402\" y=\"74.1387\">«perform action»</text><text fill=\"#000000\" font-family=\"sans-serif\" font-size=\"12\" lengthAdjust=\"spacingAndGlyphs\" textLength=\"8\" x=\"451\" y=\"88.1074\">A</text></a></g><g id=\"E2.E4\"><a href=\"psysml:4ff81092-47a1-4e96-8d92-0120048334f8\" target=\"_top\" title=\"psysml:4ff81092-47a1-4e96-8d92-0120048334f8\" xlink:actuate=\"onRequest\" xlink:href=\"psysml:4ff81092-47a1-4e96-8d92-0120048334f8\" xlink:show=\"new\" xlink:title=\"psysml:4ff81092-47a1-4e96-8d92-0120048334f8\" xlink:type=\"simple\"><rect fill=\"#FFFFFF\" height=\"42.9375\" id=\"E4\" rx=\"10\" ry=\"10\" style=\"stroke: #383838; stroke-width: 1.5;\" width=\"113\" x=\"250.5\" y=\"58\"/><rect fill=\"#F8F8F8\" height=\"37.9375\" rx=\"10\" ry=\"10\" style=\"stroke: #F8F8F8; stroke-width: 1.5;\" width=\"113\" x=\"250.5\" y=\"58\"/><rect fill=\"#F8F8F8\" height=\"10\" style=\"stroke: #F8F8F8; stroke-width: 1.5;\" width=\"113\" x=\"250.5\" y=\"85.9375\"/><rect fill=\"none\" height=\"42.9375\" id=\"E4\" rx=\"10\" ry=\"10\" style=\"stroke: #383838; stroke-width: 1.5;\" width=\"113\" x=\"250.5\" y=\"58\"/><text fill=\"#000000\" font-family=\"sans-serif\" font-size=\"12\" font-style=\"italic\" lengthAdjust=\"spacingAndGlyphs\" textLength=\"106\" x=\"254\" y=\"74.1387\">«perform action»</text><text fill=\"#000000\" font-family=\"sans-serif\" font-size=\"12\" lengthAdjust=\"spacingAndGlyphs\" textLength=\"8\" x=\"303\" y=\"88.1074\">B</text></a></g><g id=\"E2.E5\"><a href=\"psysml:304a78cc-8684-4bf6-a939-94ca910a3e9f\" target=\"_top\" title=\"psysml:304a78cc-8684-4bf6-a939-94ca910a3e9f\" xlink:actuate=\"onRequest\" xlink:href=\"psysml:304a78cc-8684-4bf6-a939-94ca910a3e9f\" xlink:show=\"new\" xlink:title=\"psysml:304a78cc-8684-4bf6-a939-94ca910a3e9f\" xlink:type=\"simple\"><rect fill=\"#FFFFFF\" height=\"42.9375\" id=\"E5\" rx=\"10\" ry=\"10\" style=\"stroke: #383838; stroke-width: 1.5;\" width=\"113\" x=\"102.5\" y=\"58\"/><rect fill=\"#F8F8F8\" height=\"37.9375\" rx=\"10\" ry=\"10\" style=\"stroke: #F8F8F8; stroke-width: 1.5;\" width=\"113\" x=\"102.5\" y=\"58\"/><rect fill=\"#F8F8F8\" height=\"10\" style=\"stroke: #F8F8F8; stroke-width: 1.5;\" width=\"113\" x=\"102.5\" y=\"85.9375\"/><rect fill=\"none\" height=\"42.9375\" id=\"E5\" rx=\"10\" ry=\"10\" style=\"stroke: #383838; stroke-width: 1.5;\" width=\"113\" x=\"102.5\" y=\"58\"/><text fill=\"#000000\" font-family=\"sans-serif\" font-size=\"12\" font-style=\"italic\" lengthAdjust=\"spacingAndGlyphs\" textLength=\"106\" x=\"106\" y=\"74.1387\">«perform action»</text><text fill=\"#000000\" font-family=\"sans-serif\" font-size=\"12\" lengthAdjust=\"spacingAndGlyphs\" textLength=\"20\" x=\"149\" y=\"88.1074\">act</text></a></g><g id=\"E2.E6\"><a href=\"psysml:0ffea2c5-2698-4589-991c-94f7ac5b0395\" target=\"_top\" title=\"psysml:0ffea2c5-2698-4589-991c-94f7ac5b0395\" xlink:actuate=\"onRequest\" xlink:href=\"psysml:0ffea2c5-2698-4589-991c-94f7ac5b0395\" xlink:show=\"new\" xlink:title=\"psysml:0ffea2c5-2698-4589-991c-94f7ac5b0395\" xlink:type=\"simple\"><rect fill=\"#FFFFFF\" height=\"42.9375\" id=\"E6\" rx=\"10\" ry=\"10\" style=\"stroke: #383838; stroke-width: 1.5;\" width=\"54\" x=\"403\" y=\"118\"/><rect fill=\"#F8F8F8\" height=\"37.9375\" rx=\"10\" ry=\"10\" style=\"stroke: #F8F8F8; stroke-width: 1.5;\" width=\"54\" x=\"403\" y=\"118\"/><rect fill=\"#F8F8F8\" height=\"10\" style=\"stroke: #F8F8F8; stroke-width: 1.5;\" width=\"54\" x=\"403\" y=\"145.9375\"/><rect fill=\"none\" height=\"42.9375\" id=\"E6\" rx=\"10\" ry=\"10\" style=\"stroke: #383838; stroke-width: 1.5;\" width=\"54\" x=\"403\" y=\"118\"/><text fill=\"#000000\" font-family=\"sans-serif\" font-size=\"12\" font-style=\"italic\" lengthAdjust=\"spacingAndGlyphs\" textLength=\"47\" x=\"406.5\" y=\"134.1387\">«state»</text><text fill=\"#000000\" font-family=\"sans-serif\" font-size=\"12\" lengthAdjust=\"spacingAndGlyphs\" textLength=\"16\" x=\"422\" y=\"148.1074\">S1</text></a></g><!--MD5=[2803005a5f354d3255b1b7bbd839bbf7]\n",
       "entity E8--><a href=\"psysml:4e70c0dc-8141-4b3a-9526-a99ab1429170\" target=\"_top\" title=\"psysml:4e70c0dc-8141-4b3a-9526-a99ab1429170\" xlink:actuate=\"onRequest\" xlink:href=\"psysml:4e70c0dc-8141-4b3a-9526-a99ab1429170\" xlink:show=\"new\" xlink:title=\"psysml:4e70c0dc-8141-4b3a-9526-a99ab1429170\" xlink:type=\"simple\"><polygon fill=\"#F8F8F8\" points=\"370,269,370,323.5938,478,323.5938,498,296.2969,478,269\" style=\"stroke: #000000; stroke-width: 1.5;\"/><text fill=\"#000000\" font-family=\"sans-serif\" font-size=\"14\" font-style=\"italic\" lengthAdjust=\"spacingAndGlyphs\" textLength=\"99\" x=\"377\" y=\"291.9951\">«send action»</text><text fill=\"#000000\" font-family=\"sans-serif\" font-size=\"14\" lengthAdjust=\"spacingAndGlyphs\" textLength=\"75\" x=\"389\" y=\"309.292\">Sig(T::s::x)</text></a><!--MD5=[2e26681bccdb10b30299c36e1180c624]\n",
       "link *start*E2 to E6--><a href=\"psysml:3d6f6111-a5f0-4f07-bf0a-543b5052b3c3\" target=\"_top\" title=\"psysml:3d6f6111-a5f0-4f07-bf0a-543b5052b3c3\" xlink:actuate=\"onRequest\" xlink:href=\"psysml:3d6f6111-a5f0-4f07-bf0a-543b5052b3c3\" xlink:show=\"new\" xlink:title=\"psysml:3d6f6111-a5f0-4f07-bf0a-543b5052b3c3\" xlink:type=\"simple\"><path d=\"M549.35,86.1 C541.06,92.17 529,101 529,101 C529,101 490.9,115.43 461.97,126.39 \" fill=\"none\" id=\"*start*E2-&gt;E6\" style=\"stroke: #383838; stroke-width: 1.0; stroke-dasharray: 7.0,7.0;\"/><polygon fill=\"#383838\" points=\"457.05,128.25,466.8835,128.799,461.7252,126.4772,464.047,121.3188,457.05,128.25\" style=\"stroke: #383838; stroke-width: 1.0;\"/></a><!--MD5=[ff9e4afefa821aea7eda324d3041742a]\n",
       "link E7 to *end*E2--><a href=\"psysml:374875bf-0004-40f7-bedc-1374d527cde5\" target=\"_top\" title=\"psysml:374875bf-0004-40f7-bedc-1374d527cde5\" xlink:actuate=\"onRequest\" xlink:href=\"psysml:374875bf-0004-40f7-bedc-1374d527cde5\" xlink:show=\"new\" xlink:title=\"psysml:374875bf-0004-40f7-bedc-1374d527cde5\" xlink:type=\"simple\"><path d=\"M335,348.1183 C335,348.2776 335,348.437 335,348.5964 C335,348.9153 335,349.2342 335,349.5533 C335,354.6588 335,359.7902 335,364.7664 C335,374.7188 335,384.05 335,391.31 \" fill=\"none\" id=\"E7-&gt;*end*E2\" style=\"stroke: #383838; stroke-width: 1.0; stroke-dasharray: 7.0,7.0;\"/><polygon fill=\"#383838\" points=\"335,396.65,339,387.65,335,391.65,331,387.65,335,396.65\" style=\"stroke: #383838; stroke-width: 1.0;\"/><text fill=\"#000000\" font-family=\"sans-serif\" font-size=\"13\" lengthAdjust=\"spacingAndGlyphs\" textLength=\"23\" x=\"336\" y=\"385.0669\">Exit</text></a><!--MD5=[02c70b7c851c11e3980e4e90450dc5dd]\n",
       "link E6 to E7--><a href=\"psysml:69f1494c-077d-4519-8343-87cce73be713\" target=\"_top\" title=\"psysml:69f1494c-077d-4519-8343-87cce73be713\" xlink:actuate=\"onRequest\" xlink:href=\"psysml:69f1494c-077d-4519-8343-87cce73be713\" xlink:show=\"new\" xlink:title=\"psysml:69f1494c-077d-4519-8343-87cce73be713\" xlink:type=\"simple\"><path d=\"M402.97,146.61 C365.95,154.99 304,169 304,169 C304,169 304,186 304,186 C304,186 311.51,212.525 319.1375,239.465 C321.0444,246.2 322.9586,252.9609 324.7646,259.3398 C325.2162,260.9346 325.6609,262.5054 326.0971,264.046 C326.3152,264.8163 326.5312,265.5791 326.7447,266.3334 C326.7981,266.522 326.8514,266.7101 326.9045,266.8976 \" fill=\"none\" id=\"E6-&gt;E7\" style=\"stroke: #383838; stroke-width: 1.0; stroke-dasharray: 7.0,7.0;\"/><polygon fill=\"#383838\" points=\"326.9045,266.8976,328.3014,257.1483,325.5424,262.0867,320.604,259.3277,326.9045,266.8976\" style=\"stroke: #383838; stroke-width: 1.0;\"/><text fill=\"#000000\" font-family=\"sans-serif\" font-size=\"13\" lengthAdjust=\"spacingAndGlyphs\" textLength=\"81\" x=\"305\" y=\"182.0669\">Sig /action D</text></a><!--MD5=[fbb449814971db3a0b8220cf225b9e01]\n",
       "link E7 to E6--><a href=\"psysml:f8d53726-bfe5-4353-91f3-ae2ef06d9a38\" target=\"_top\" title=\"psysml:f8d53726-bfe5-4353-91f3-ae2ef06d9a38\" xlink:actuate=\"onRequest\" xlink:href=\"psysml:f8d53726-bfe5-4353-91f3-ae2ef06d9a38\" xlink:show=\"new\" xlink:title=\"psysml:f8d53726-bfe5-4353-91f3-ae2ef06d9a38\" xlink:type=\"simple\"><path d=\"M351.0326,209.852 C351.06,209.7057 351.0873,209.5601 351.1144,209.4153 C352.8494,200.1469 354,194 354,194 C354,194 391,186 391,186 C391,186 399.73,175.81 408.93,165.08 \" fill=\"none\" id=\"E7-&gt;E6\" style=\"stroke: #383838; stroke-width: 1.0; stroke-dasharray: 7.0,7.0;\"/><polygon fill=\"#383838\" points=\"412.33,161.12,403.4359,165.3501,409.076,164.9163,409.5099,170.5565,412.33,161.12\" style=\"stroke: #383838; stroke-width: 1.0;\"/><text fill=\"#000000\" font-family=\"sans-serif\" font-size=\"13\" lengthAdjust=\"spacingAndGlyphs\" textLength=\"135\" x=\"405\" y=\"182.0669\">Sig [true]/send s to p</text></a><!--MD5=[1e5cec1e29b083b13a96c85a43e7af5d]\n",
       "@startuml\r\n",
       "skinparam ranksep 8\r\n",
       "skinparam linetype polyline\r\n",
       "skinparam monochrome true\r\n",
       "skinparam classbackgroundcolor white\r\n",
       "skinparam shadowing false\r\n",
       "skinparam wrapWidth 300\r\n",
       "hide circle\r\n",
       "\r\n",
       "rec usage \"act\" as E1  <<(T,blue)action>> [[psysml:0b92cdb5-3694-4434-adff-e0b2149bd4e6 ]] {\r\n",
       "}\r\n",
       "\r\n",
       "rec def \"S\" as E2  <<(T,blue)state def>> [[psysml:f2a66a23-1197-47ed-b1bd-74e1ad61d6fd ]] {\r\n",
       "rec usage \"A\" as E3 <<perform action>> [[psysml:b2584b97-8c36-4971-ba08-266a53e2e05d ]] {\r\n",
       "}\r\n",
       "\r\n",
       "rec usage \"B\" as E4 <<perform action>> [[psysml:4ff81092-47a1-4e96-8d92-0120048334f8 ]] {\r\n",
       "}\r\n",
       "\r\n",
       "rec usage \"act\" as E5 <<perform action>> [[psysml:304a78cc-8684-4bf6-a939-94ca910a3e9f ]] {\r\n",
       "}\r\n",
       "\r\n",
       "rec usage \"S1\" as E6  <<(T,blue)state>> [[psysml:0ffea2c5-2698-4589-991c-94f7ac5b0395 ]] {\r\n",
       "}\r\n",
       "\r\n",
       "rec usage \"S2\" as E7  <<(T,blue)state>> [[psysml:f6369ddf-93b2-4791-a9ee-7d090a7e6258 ]] {\r\n",
       "send \" Sig(T::s::x)\" as E8 <<send action>> [[psysml:4e70c0dc-8141-4b3a-9526-a99ab1429170 ]] \r\n",
       "}\r\n",
       "\r\n",
       "[*] ..> E6 [[psysml:3d6f6111-a5f0-4f07-bf0a-543b5052b3c3 ]] \r\n",
       "E7 ..> [*] [[psysml:374875bf-0004-40f7-bedc-1374d527cde5 ]] : Exit \r\n",
       "}\r\n",
       "\r\n",
       "E6 ..> E7 [[psysml:69f1494c-077d-4519-8343-87cce73be713 ]] : Sig /action D\r\n",
       "E7 ..> E6 [[psysml:f8d53726-bfe5-4353-91f3-ae2ef06d9a38 ]] : Sig [true]/send s to p\r\n",
       "@enduml\r\n",
       "\n",
       "PlantUML version 1.2020.13(Sat Jun 13 12:26:38 UTC 2020)\n",
       "(EPL source distribution)\n",
       "Java Runtime: OpenJDK Runtime Environment\n",
       "JVM: OpenJDK 64-Bit Server VM\n",
       "Default Encoding: UTF-8\n",
       "Language: en\n",
       "Country: null\n",
       "--></g></svg>"
      ]
     },
     "execution_count": 13,
     "metadata": {},
     "output_type": "execute_result"
    }
   ],
   "source": [
    "%viz --style=\"POLYLINE\" --view=\"Action\" \"StateTest\""
   ]
  },
  {
   "cell_type": "code",
   "execution_count": 14,
   "id": "965b1b5a",
   "metadata": {
    "execution": {
     "iopub.execute_input": "2021-04-21T20:23:41.668795Z",
     "iopub.status.busy": "2021-04-21T20:23:41.668438Z",
     "iopub.status.idle": "2021-04-21T20:23:41.790657Z",
     "shell.execute_reply": "2021-04-21T20:23:41.790283Z"
    }
   },
   "outputs": [
    {
     "data": {
      "image/svg+xml": [
       "<?xml version=\"1.0\" encoding=\"UTF-8\" standalone=\"no\"?><svg xmlns=\"http://www.w3.org/2000/svg\" xmlns:xlink=\"http://www.w3.org/1999/xlink\" contentScriptType=\"application/ecmascript\" contentStyleType=\"text/css\" height=\"365px\" preserveAspectRatio=\"none\" style=\"width:594px;height:365px;\" version=\"1.1\" viewBox=\"0 0 594 365\" width=\"594px\" zoomAndPan=\"magnify\"><defs/><g><!--MD5=[fbc87193dbaf4d95561dea2c320d4a47]\n",
       "cluster E1--><a href=\"psysml:800f45c9-cf5c-46ce-b3c3-487778cd6319\" target=\"_top\" title=\"psysml:800f45c9-cf5c-46ce-b3c3-487778cd6319\" xlink:actuate=\"onRequest\" xlink:href=\"psysml:800f45c9-cf5c-46ce-b3c3-487778cd6319\" xlink:show=\"new\" xlink:title=\"psysml:800f45c9-cf5c-46ce-b3c3-487778cd6319\" xlink:type=\"simple\"><polygon fill=\"#FFFFFF\" points=\"16,6,98,6,105,28.2969,572,28.2969,572,353,16,353,16,6\" style=\"stroke: #000000; stroke-width: 1.5;\"/><line style=\"stroke: #000000; stroke-width: 1.5;\" x1=\"16\" x2=\"105\" y1=\"28.2969\" y2=\"28.2969\"/><text fill=\"#000000\" font-family=\"sans-serif\" font-size=\"14\" font-weight=\"bold\" lengthAdjust=\"spacingAndGlyphs\" textLength=\"76\" x=\"20\" y=\"20.9951\">StateTest</text></a><!--MD5=[b4997ac47864f28c2f74865a473b2911]\n",
       "class E2--><a href=\"psysml:f1048496-f45f-4de3-be42-17169da36fba\" target=\"_top\" title=\"psysml:f1048496-f45f-4de3-be42-17169da36fba\" xlink:actuate=\"onRequest\" xlink:href=\"psysml:f1048496-f45f-4de3-be42-17169da36fba\" xlink:show=\"new\" xlink:title=\"psysml:f1048496-f45f-4de3-be42-17169da36fba\" xlink:type=\"simple\"><rect fill=\"#FFFFFF\" height=\"75.5469\" id=\"E2\" style=\"stroke: #383838; stroke-width: 1.5;\" width=\"95\" x=\"460.5\" y=\"83\"/><text fill=\"#000000\" font-family=\"sans-serif\" font-size=\"12\" font-style=\"italic\" lengthAdjust=\"spacingAndGlyphs\" textLength=\"93\" x=\"461.5\" y=\"99.1387\">«attribute def»</text><text fill=\"#000000\" font-family=\"sans-serif\" font-size=\"12\" lengthAdjust=\"spacingAndGlyphs\" textLength=\"19\" x=\"498.5\" y=\"113.1074\">Sig</text><line style=\"stroke: #383838; stroke-width: 1.5;\" x1=\"461.5\" x2=\"554.5\" y1=\"120.9375\" y2=\"120.9375\"/><text fill=\"#000000\" font-family=\"sans-serif\" font-size=\"11\" lengthAdjust=\"spacingAndGlyphs\" textLength=\"6\" x=\"466.5\" y=\"151.9526\">x</text><line style=\"stroke: #383838; stroke-width: 1.0;\" x1=\"461.5\" x2=\"480.5\" y1=\"135.3398\" y2=\"135.3398\"/><text fill=\"#000000\" font-family=\"sans-serif\" font-size=\"11\" lengthAdjust=\"spacingAndGlyphs\" textLength=\"55\" x=\"480.5\" y=\"138.6479\">attributes</text><line style=\"stroke: #383838; stroke-width: 1.0;\" x1=\"535.5\" x2=\"554.5\" y1=\"135.3398\" y2=\"135.3398\"/></a><!--MD5=[09b614a08d8cba4a07c9adeb5e0fee81]\n",
       "class E3--><a href=\"psysml:546c6a0a-79ca-4224-b50a-77e407cae485\" target=\"_top\" title=\"psysml:546c6a0a-79ca-4224-b50a-77e407cae485\" xlink:actuate=\"onRequest\" xlink:href=\"psysml:546c6a0a-79ca-4224-b50a-77e407cae485\" xlink:show=\"new\" xlink:title=\"psysml:546c6a0a-79ca-4224-b50a-77e407cae485\" xlink:type=\"simple\"><rect fill=\"#FFFFFF\" height=\"45.9375\" id=\"E3\" style=\"stroke: #383838; stroke-width: 1.5;\" width=\"95\" x=\"330.5\" y=\"98\"/><text fill=\"#000000\" font-family=\"sans-serif\" font-size=\"12\" font-style=\"italic\" lengthAdjust=\"spacingAndGlyphs\" textLength=\"93\" x=\"331.5\" y=\"114.1387\">«attribute def»</text><text fill=\"#000000\" font-family=\"sans-serif\" font-size=\"12\" lengthAdjust=\"spacingAndGlyphs\" textLength=\"22\" x=\"367\" y=\"128.1074\">Exit</text><line style=\"stroke: #383838; stroke-width: 1.5;\" x1=\"331.5\" x2=\"424.5\" y1=\"135.9375\" y2=\"135.9375\"/></a><!--MD5=[ebbe1d658d1005bcc118a6aa81145e00]\n",
       "class E4--><a href=\"psysml:4710131f-7c31-45d9-a6fe-10a60fc8490a\" target=\"_top\" title=\"psysml:4710131f-7c31-45d9-a6fe-10a60fc8490a\" xlink:actuate=\"onRequest\" xlink:href=\"psysml:4710131f-7c31-45d9-a6fe-10a60fc8490a\" xlink:show=\"new\" xlink:title=\"psysml:4710131f-7c31-45d9-a6fe-10a60fc8490a\" xlink:type=\"simple\"><rect fill=\"#FFFFFF\" height=\"45.9375\" id=\"E4\" rx=\"10\" ry=\"10\" style=\"stroke: #383838; stroke-width: 1.5;\" width=\"42\" x=\"253\" y=\"98\"/><text fill=\"#000000\" font-family=\"sans-serif\" font-size=\"12\" font-style=\"italic\" lengthAdjust=\"spacingAndGlyphs\" textLength=\"40\" x=\"254\" y=\"114.1387\">«part»</text><text fill=\"#000000\" font-family=\"sans-serif\" font-size=\"12\" lengthAdjust=\"spacingAndGlyphs\" textLength=\"8\" x=\"270\" y=\"128.1074\">p</text><line style=\"stroke: #383838; stroke-width: 1.5;\" x1=\"254\" x2=\"294\" y1=\"135.9375\" y2=\"135.9375\"/></a><!--MD5=[270fce915f116d4de14055a7c1d9a0f3]\n",
       "class E5--><a href=\"psysml:0b92cdb5-3694-4434-adff-e0b2149bd4e6\" target=\"_top\" title=\"psysml:0b92cdb5-3694-4434-adff-e0b2149bd4e6\" xlink:actuate=\"onRequest\" xlink:href=\"psysml:0b92cdb5-3694-4434-adff-e0b2149bd4e6\" xlink:show=\"new\" xlink:title=\"psysml:0b92cdb5-3694-4434-adff-e0b2149bd4e6\" xlink:type=\"simple\"><rect fill=\"#FFFFFF\" height=\"45.9375\" id=\"E5\" rx=\"10\" ry=\"10\" style=\"stroke: #383838; stroke-width: 1.5;\" width=\"55\" x=\"162.5\" y=\"98\"/><text fill=\"#000000\" font-family=\"sans-serif\" font-size=\"12\" font-style=\"italic\" lengthAdjust=\"spacingAndGlyphs\" textLength=\"53\" x=\"163.5\" y=\"114.1387\">«action»</text><text fill=\"#000000\" font-family=\"sans-serif\" font-size=\"12\" lengthAdjust=\"spacingAndGlyphs\" textLength=\"20\" x=\"180\" y=\"128.1074\">act</text><line style=\"stroke: #383838; stroke-width: 1.5;\" x1=\"163.5\" x2=\"216.5\" y1=\"135.9375\" y2=\"135.9375\"/></a><!--MD5=[60a26617385b1d2d0262a64233df1f8d]\n",
       "class E6--><a href=\"psysml:f2a66a23-1197-47ed-b1bd-74e1ad61d6fd\" target=\"_top\" title=\"psysml:f2a66a23-1197-47ed-b1bd-74e1ad61d6fd\" xlink:actuate=\"onRequest\" xlink:href=\"psysml:f2a66a23-1197-47ed-b1bd-74e1ad61d6fd\" xlink:show=\"new\" xlink:title=\"psysml:f2a66a23-1197-47ed-b1bd-74e1ad61d6fd\" xlink:type=\"simple\"><rect fill=\"#FFFFFF\" height=\"160.375\" id=\"E6\" style=\"stroke: #383838; stroke-width: 1.5;\" width=\"95\" x=\"32.5\" y=\"41\"/><text fill=\"#000000\" font-family=\"sans-serif\" font-size=\"12\" font-style=\"italic\" lengthAdjust=\"spacingAndGlyphs\" textLength=\"71\" x=\"44.5\" y=\"57.1387\">«state def»</text><text fill=\"#000000\" font-family=\"sans-serif\" font-size=\"12\" lengthAdjust=\"spacingAndGlyphs\" textLength=\"8\" x=\"76\" y=\"71.1074\">S</text><line style=\"stroke: #383838; stroke-width: 1.5;\" x1=\"33.5\" x2=\"126.5\" y1=\"78.9375\" y2=\"78.9375\"/><text fill=\"#000000\" font-family=\"sans-serif\" font-size=\"11\" lengthAdjust=\"spacingAndGlyphs\" textLength=\"17\" x=\"38.5\" y=\"109.9526\">act</text><text fill=\"#000000\" font-family=\"sans-serif\" font-size=\"11\" lengthAdjust=\"spacingAndGlyphs\" textLength=\"7\" x=\"38.5\" y=\"122.7573\">A</text><text fill=\"#000000\" font-family=\"sans-serif\" font-size=\"11\" lengthAdjust=\"spacingAndGlyphs\" textLength=\"8\" x=\"38.5\" y=\"135.562\">B</text><line style=\"stroke: #383838; stroke-width: 1.0;\" x1=\"33.5\" x2=\"36.5\" y1=\"93.3398\" y2=\"93.3398\"/><text fill=\"#000000\" font-family=\"sans-serif\" font-size=\"11\" lengthAdjust=\"spacingAndGlyphs\" textLength=\"87\" x=\"36.5\" y=\"96.6479\">performActions</text><line style=\"stroke: #383838; stroke-width: 1.0;\" x1=\"123.5\" x2=\"126.5\" y1=\"93.3398\" y2=\"93.3398\"/><text fill=\"#000000\" font-family=\"sans-serif\" font-size=\"11\" lengthAdjust=\"spacingAndGlyphs\" textLength=\"15\" x=\"38.5\" y=\"165.1714\">S1</text><line style=\"stroke: #383838; stroke-width: 1.0;\" x1=\"33.5\" x2=\"62\" y1=\"148.5586\" y2=\"148.5586\"/><text fill=\"#000000\" font-family=\"sans-serif\" font-size=\"11\" lengthAdjust=\"spacingAndGlyphs\" textLength=\"36\" x=\"62\" y=\"151.8667\">states</text><line style=\"stroke: #383838; stroke-width: 1.0;\" x1=\"98\" x2=\"126.5\" y1=\"148.5586\" y2=\"148.5586\"/><text fill=\"#000000\" font-family=\"sans-serif\" font-size=\"11\" lengthAdjust=\"spacingAndGlyphs\" textLength=\"7\" x=\"38.5\" y=\"194.7808\">T</text><line style=\"stroke: #383838; stroke-width: 1.0;\" x1=\"33.5\" x2=\"49.5\" y1=\"178.168\" y2=\"178.168\"/><text fill=\"#000000\" font-family=\"sans-serif\" font-size=\"11\" lengthAdjust=\"spacingAndGlyphs\" textLength=\"61\" x=\"49.5\" y=\"181.4761\">transitions</text><line style=\"stroke: #383838; stroke-width: 1.0;\" x1=\"110.5\" x2=\"126.5\" y1=\"178.168\" y2=\"178.168\"/></a><!--MD5=[1dd1bfd58a279cf63c5f349dbc8fc6a1]\n",
       "class E11--><a href=\"psysml:f6369ddf-93b2-4791-a9ee-7d090a7e6258\" target=\"_top\" title=\"psysml:f6369ddf-93b2-4791-a9ee-7d090a7e6258\" xlink:actuate=\"onRequest\" xlink:href=\"psysml:f6369ddf-93b2-4791-a9ee-7d090a7e6258\" xlink:show=\"new\" xlink:title=\"psysml:f6369ddf-93b2-4791-a9ee-7d090a7e6258\" xlink:type=\"simple\"><rect fill=\"#FFFFFF\" height=\"75.5469\" id=\"E11\" rx=\"10\" ry=\"10\" style=\"stroke: #383838; stroke-width: 1.5;\" width=\"77\" x=\"41.5\" y=\"261\"/><text fill=\"#000000\" font-family=\"sans-serif\" font-size=\"12\" font-style=\"italic\" lengthAdjust=\"spacingAndGlyphs\" textLength=\"47\" x=\"56.5\" y=\"277.1387\">«state»</text><text fill=\"#000000\" font-family=\"sans-serif\" font-size=\"12\" lengthAdjust=\"spacingAndGlyphs\" textLength=\"16\" x=\"72\" y=\"291.1074\">S2</text><line style=\"stroke: #383838; stroke-width: 1.5;\" x1=\"42.5\" x2=\"117.5\" y1=\"298.9375\" y2=\"298.9375\"/><text fill=\"#000000\" font-family=\"sans-serif\" font-size=\"11\" lengthAdjust=\"spacingAndGlyphs\" textLength=\"48\" x=\"47.5\" y=\"329.9526\">doAction</text><line style=\"stroke: #383838; stroke-width: 1.0;\" x1=\"42.5\" x2=\"45.5\" y1=\"313.3398\" y2=\"313.3398\"/><text fill=\"#000000\" font-family=\"sans-serif\" font-size=\"11\" lengthAdjust=\"spacingAndGlyphs\" textLength=\"69\" x=\"45.5\" y=\"316.6479\">sendActions</text><line style=\"stroke: #383838; stroke-width: 1.0;\" x1=\"114.5\" x2=\"117.5\" y1=\"313.3398\" y2=\"313.3398\"/></a><!--MD5=[1f5f03483f7de0d5b3680a7f6650997f]\n",
       "reverse link E6 to E11--><a href=\"psysml:247e0169-6466-401b-83f0-032a7b21c539\" target=\"_top\" title=\"psysml:247e0169-6466-401b-83f0-032a7b21c539\" xlink:actuate=\"onRequest\" xlink:href=\"psysml:247e0169-6466-401b-83f0-032a7b21c539\" xlink:show=\"new\" xlink:title=\"psysml:247e0169-6466-401b-83f0-032a7b21c539\" xlink:type=\"simple\"><path d=\"M80,214.46 C80,230.92 80,247.18 80,260.92 \" fill=\"none\" id=\"E6&lt;-E11\" style=\"stroke: #383838; stroke-width: 1.0;\"/><polygon fill=\"#383838\" points=\"80,201.25,76,207.25,80,213.25,84,207.25,80,201.25\" style=\"stroke: #383838; stroke-width: 1.0;\"/></a><!--MD5=[33c044835fef4bff43c08c8af9d39e9b]\n",
       "@startuml\r\n",
       "skinparam linetype polyline\r\n",
       "skinparam monochrome true\r\n",
       "skinparam classbackgroundcolor white\r\n",
       "skinparam shadowing false\r\n",
       "skinparam wrapWidth 300\r\n",
       "hide circle\r\n",
       "\r\n",
       "package \"StateTest\" as E1  [[psysml:800f45c9-cf5c-46ce-b3c3-487778cd6319 ]]  {\r\n",
       "comp def \"Sig\" as E2  <<(T,blue)attribute def>> [[psysml:f1048496-f45f-4de3-be42-17169da36fba ]] {\r\n",
       "- - attributes - -\r\n",
       "x\r\n",
       "}\r\n",
       "comp def \"Exit\" as E3  <<(T,blue)attribute def>> [[psysml:546c6a0a-79ca-4224-b50a-77e407cae485 ]] {\r\n",
       "}\r\n",
       "comp usage \"p\" as E4  <<(T,blue)part>> [[psysml:4710131f-7c31-45d9-a6fe-10a60fc8490a ]] {\r\n",
       "}\r\n",
       "comp usage \"act\" as E5  <<(T,blue)action>> [[psysml:0b92cdb5-3694-4434-adff-e0b2149bd4e6 ]] {\r\n",
       "}\r\n",
       "comp def \"S\" as E6  <<(T,blue)state def>> [[psysml:f2a66a23-1197-47ed-b1bd-74e1ad61d6fd ]] {\r\n",
       "- - performActions - -\r\n",
       "act\r\n",
       "A\r\n",
       "B\r\n",
       "- - states - -\r\n",
       "S1\r\n",
       "- - transitions - -\r\n",
       "T\r\n",
       "}\r\n",
       "comp usage \"S2\" as E11  <<(T,blue)state>> [[psysml:f6369ddf-93b2-4791-a9ee-7d090a7e6258 ]] {\r\n",
       "- - sendActions - -\r\n",
       "doAction\r\n",
       "}\r\n",
       "E6 *- - E11 [[psysml:247e0169-6466-401b-83f0-032a7b21c539 ]] \r\n",
       "}\r\n",
       "@enduml\r\n",
       "\n",
       "PlantUML version 1.2020.13(Sat Jun 13 12:26:38 UTC 2020)\n",
       "(EPL source distribution)\n",
       "Java Runtime: OpenJDK Runtime Environment\n",
       "JVM: OpenJDK 64-Bit Server VM\n",
       "Default Encoding: UTF-8\n",
       "Language: en\n",
       "Country: null\n",
       "--></g></svg>"
      ]
     },
     "execution_count": 14,
     "metadata": {},
     "output_type": "execute_result"
    }
   ],
   "source": [
    "%viz --style=\"POLYLINE\" --view=\"Sequence\" \"StateTest\""
   ]
  },
  {
   "cell_type": "code",
   "execution_count": 15,
   "id": "83b17875",
   "metadata": {
    "execution": {
     "iopub.execute_input": "2021-04-21T20:23:41.841129Z",
     "iopub.status.busy": "2021-04-21T20:23:41.840672Z",
     "iopub.status.idle": "2021-04-21T20:23:41.920779Z",
     "shell.execute_reply": "2021-04-21T20:23:41.919059Z"
    }
   },
   "outputs": [
    {
     "data": {
      "image/svg+xml": [
       "<?xml version=\"1.0\" encoding=\"UTF-8\" standalone=\"no\"?><svg xmlns=\"http://www.w3.org/2000/svg\" xmlns:xlink=\"http://www.w3.org/1999/xlink\" contentScriptType=\"application/ecmascript\" contentStyleType=\"text/css\" height=\"570px\" preserveAspectRatio=\"none\" style=\"width:819px;height:570px;\" version=\"1.1\" viewBox=\"0 0 819 570\" width=\"819px\" zoomAndPan=\"magnify\"><defs/><g><!--MD5=[fbc87193dbaf4d95561dea2c320d4a47]\n",
       "cluster E1--><a href=\"psysml:800f45c9-cf5c-46ce-b3c3-487778cd6319\" target=\"_top\" title=\"psysml:800f45c9-cf5c-46ce-b3c3-487778cd6319\" xlink:actuate=\"onRequest\" xlink:href=\"psysml:800f45c9-cf5c-46ce-b3c3-487778cd6319\" xlink:show=\"new\" xlink:title=\"psysml:800f45c9-cf5c-46ce-b3c3-487778cd6319\" xlink:type=\"simple\"><polygon fill=\"#FFFFFF\" points=\"16,6,98,6,105,28.2969,797,28.2969,797,558,16,558,16,6\" style=\"stroke: #000000; stroke-width: 1.5;\"/><line style=\"stroke: #000000; stroke-width: 1.5;\" x1=\"16\" x2=\"105\" y1=\"28.2969\" y2=\"28.2969\"/><text fill=\"#000000\" font-family=\"sans-serif\" font-size=\"14\" font-weight=\"bold\" lengthAdjust=\"spacingAndGlyphs\" textLength=\"76\" x=\"20\" y=\"20.9951\">StateTest</text></a><!--MD5=[14e3b0961a2654348d326746436168a1]\n",
       "cluster E6--><a href=\"psysml:f2a66a23-1197-47ed-b1bd-74e1ad61d6fd\" target=\"_top\" title=\"psysml:f2a66a23-1197-47ed-b1bd-74e1ad61d6fd\" xlink:actuate=\"onRequest\" xlink:href=\"psysml:f2a66a23-1197-47ed-b1bd-74e1ad61d6fd\" xlink:show=\"new\" xlink:title=\"psysml:f2a66a23-1197-47ed-b1bd-74e1ad61d6fd\" xlink:type=\"simple\"><rect fill=\"#FFFFFF\" height=\"485\" id=\"E6\" style=\"stroke: #383838; stroke-width: 1.5;\" width=\"327\" x=\"446\" y=\"49\"/><rect fill=\"#F8F8F8\" height=\"37.9375\" style=\"stroke: #383838; stroke-width: 1.5;\" width=\"327\" x=\"446\" y=\"49\"/><text fill=\"#000000\" font-family=\"sans-serif\" font-size=\"12\" font-style=\"italic\" lengthAdjust=\"spacingAndGlyphs\" textLength=\"71\" x=\"574\" y=\"65.1387\">«state def»</text><text fill=\"#000000\" font-family=\"sans-serif\" font-size=\"12\" lengthAdjust=\"spacingAndGlyphs\" textLength=\"8\" x=\"605.5\" y=\"79.1074\">S</text><line style=\"stroke: #383838; stroke-width: 1.0;\" x1=\"446\" x2=\"773\" y1=\"132.8438\" y2=\"132.8438\"/><text fill=\"#000000\" font-family=\"sans-serif\" font-size=\"12\" font-weight=\"bold\" lengthAdjust=\"spacingAndGlyphs\" textLength=\"38\" x=\"451\" y=\"100.0762\">entry</text><text fill=\"#000000\" font-family=\"sans-serif\" font-size=\"12\" lengthAdjust=\"spacingAndGlyphs\" textLength=\"16\" x=\"489\" y=\"100.0762\">/ A</text><text fill=\"#000000\" font-family=\"sans-serif\" font-size=\"12\" font-weight=\"bold\" lengthAdjust=\"spacingAndGlyphs\" textLength=\"18\" x=\"451\" y=\"114.0449\">do</text><text fill=\"#000000\" font-family=\"sans-serif\" font-size=\"12\" lengthAdjust=\"spacingAndGlyphs\" textLength=\"16\" x=\"469\" y=\"114.0449\">/ B</text><text fill=\"#000000\" font-family=\"sans-serif\" font-size=\"12\" font-weight=\"bold\" lengthAdjust=\"spacingAndGlyphs\" textLength=\"26\" x=\"451\" y=\"128.0137\">exit</text><text fill=\"#000000\" font-family=\"sans-serif\" font-size=\"12\" lengthAdjust=\"spacingAndGlyphs\" textLength=\"28\" x=\"477\" y=\"128.0137\">/ act</text></a><!--MD5=[b4997ac47864f28c2f74865a473b2911]\n",
       "class E2--><a href=\"psysml:f1048496-f45f-4de3-be42-17169da36fba\" target=\"_top\" title=\"psysml:f1048496-f45f-4de3-be42-17169da36fba\" xlink:actuate=\"onRequest\" xlink:href=\"psysml:f1048496-f45f-4de3-be42-17169da36fba\" xlink:show=\"new\" xlink:title=\"psysml:f1048496-f45f-4de3-be42-17169da36fba\" xlink:type=\"simple\"><rect fill=\"#FFFFFF\" height=\"75.5469\" id=\"E2\" style=\"stroke: #383838; stroke-width: 1.5;\" width=\"95\" x=\"334.5\" y=\"119\"/><text fill=\"#000000\" font-family=\"sans-serif\" font-size=\"12\" font-style=\"italic\" lengthAdjust=\"spacingAndGlyphs\" textLength=\"93\" x=\"335.5\" y=\"135.1387\">«attribute def»</text><text fill=\"#000000\" font-family=\"sans-serif\" font-size=\"12\" lengthAdjust=\"spacingAndGlyphs\" textLength=\"19\" x=\"372.5\" y=\"149.1074\">Sig</text><line style=\"stroke: #383838; stroke-width: 1.5;\" x1=\"335.5\" x2=\"428.5\" y1=\"156.9375\" y2=\"156.9375\"/><text fill=\"#000000\" font-family=\"sans-serif\" font-size=\"11\" lengthAdjust=\"spacingAndGlyphs\" textLength=\"6\" x=\"340.5\" y=\"187.9526\">x</text><line style=\"stroke: #383838; stroke-width: 1.0;\" x1=\"335.5\" x2=\"354.5\" y1=\"171.3398\" y2=\"171.3398\"/><text fill=\"#000000\" font-family=\"sans-serif\" font-size=\"11\" lengthAdjust=\"spacingAndGlyphs\" textLength=\"55\" x=\"354.5\" y=\"174.6479\">attributes</text><line style=\"stroke: #383838; stroke-width: 1.0;\" x1=\"409.5\" x2=\"428.5\" y1=\"171.3398\" y2=\"171.3398\"/></a><!--MD5=[09b614a08d8cba4a07c9adeb5e0fee81]\n",
       "class E3--><a href=\"psysml:546c6a0a-79ca-4224-b50a-77e407cae485\" target=\"_top\" title=\"psysml:546c6a0a-79ca-4224-b50a-77e407cae485\" xlink:actuate=\"onRequest\" xlink:href=\"psysml:546c6a0a-79ca-4224-b50a-77e407cae485\" xlink:show=\"new\" xlink:title=\"psysml:546c6a0a-79ca-4224-b50a-77e407cae485\" xlink:type=\"simple\"><rect fill=\"#FFFFFF\" height=\"45.9375\" id=\"E3\" style=\"stroke: #383838; stroke-width: 1.5;\" width=\"95\" x=\"204.5\" y=\"134\"/><text fill=\"#000000\" font-family=\"sans-serif\" font-size=\"12\" font-style=\"italic\" lengthAdjust=\"spacingAndGlyphs\" textLength=\"93\" x=\"205.5\" y=\"150.1387\">«attribute def»</text><text fill=\"#000000\" font-family=\"sans-serif\" font-size=\"12\" lengthAdjust=\"spacingAndGlyphs\" textLength=\"22\" x=\"241\" y=\"164.1074\">Exit</text><line style=\"stroke: #383838; stroke-width: 1.5;\" x1=\"205.5\" x2=\"298.5\" y1=\"171.9375\" y2=\"171.9375\"/></a><!--MD5=[ebbe1d658d1005bcc118a6aa81145e00]\n",
       "class E4--><a href=\"psysml:4710131f-7c31-45d9-a6fe-10a60fc8490a\" target=\"_top\" title=\"psysml:4710131f-7c31-45d9-a6fe-10a60fc8490a\" xlink:actuate=\"onRequest\" xlink:href=\"psysml:4710131f-7c31-45d9-a6fe-10a60fc8490a\" xlink:show=\"new\" xlink:title=\"psysml:4710131f-7c31-45d9-a6fe-10a60fc8490a\" xlink:type=\"simple\"><rect fill=\"#FFFFFF\" height=\"45.9375\" id=\"E4\" rx=\"10\" ry=\"10\" style=\"stroke: #383838; stroke-width: 1.5;\" width=\"42\" x=\"127\" y=\"134\"/><text fill=\"#000000\" font-family=\"sans-serif\" font-size=\"12\" font-style=\"italic\" lengthAdjust=\"spacingAndGlyphs\" textLength=\"40\" x=\"128\" y=\"150.1387\">«part»</text><text fill=\"#000000\" font-family=\"sans-serif\" font-size=\"12\" lengthAdjust=\"spacingAndGlyphs\" textLength=\"8\" x=\"144\" y=\"164.1074\">p</text><line style=\"stroke: #383838; stroke-width: 1.5;\" x1=\"128\" x2=\"168\" y1=\"171.9375\" y2=\"171.9375\"/></a><g id=\"E1.E5\"><a href=\"psysml:0b92cdb5-3694-4434-adff-e0b2149bd4e6\" target=\"_top\" title=\"psysml:0b92cdb5-3694-4434-adff-e0b2149bd4e6\" xlink:actuate=\"onRequest\" xlink:href=\"psysml:0b92cdb5-3694-4434-adff-e0b2149bd4e6\" xlink:show=\"new\" xlink:title=\"psysml:0b92cdb5-3694-4434-adff-e0b2149bd4e6\" xlink:type=\"simple\"><rect fill=\"#FFFFFF\" height=\"42.9375\" id=\"E5\" rx=\"10\" ry=\"10\" style=\"stroke: #383838; stroke-width: 1.5;\" width=\"60\" x=\"32\" y=\"135.5\"/><rect fill=\"#F8F8F8\" height=\"37.9375\" rx=\"10\" ry=\"10\" style=\"stroke: #F8F8F8; stroke-width: 1.5;\" width=\"60\" x=\"32\" y=\"135.5\"/><rect fill=\"#F8F8F8\" height=\"10\" style=\"stroke: #F8F8F8; stroke-width: 1.5;\" width=\"60\" x=\"32\" y=\"163.4375\"/><rect fill=\"none\" height=\"42.9375\" id=\"E5\" rx=\"10\" ry=\"10\" style=\"stroke: #383838; stroke-width: 1.5;\" width=\"60\" x=\"32\" y=\"135.5\"/><text fill=\"#000000\" font-family=\"sans-serif\" font-size=\"12\" font-style=\"italic\" lengthAdjust=\"spacingAndGlyphs\" textLength=\"53\" x=\"35.5\" y=\"151.6387\">«action»</text><text fill=\"#000000\" font-family=\"sans-serif\" font-size=\"12\" lengthAdjust=\"spacingAndGlyphs\" textLength=\"20\" x=\"52\" y=\"165.6074\">act</text></a></g><ellipse cx=\"558\" cy=\"157\" fill=\"#000000\" rx=\"10\" ry=\"10\" style=\"stroke: none; stroke-width: 1.0;\"/><ellipse cx=\"583\" cy=\"508\" fill=\"none\" rx=\"10\" ry=\"10\" style=\"stroke: #000000; stroke-width: 1.0;\"/><ellipse cx=\"583.5\" cy=\"508.5\" fill=\"#000000\" rx=\"6\" ry=\"6\" style=\"stroke: none; stroke-width: 1.0;\"/><g id=\"E1.E6.E7\"><a href=\"psysml:0ffea2c5-2698-4589-991c-94f7ac5b0395\" target=\"_top\" title=\"psysml:0ffea2c5-2698-4589-991c-94f7ac5b0395\" xlink:actuate=\"onRequest\" xlink:href=\"psysml:0ffea2c5-2698-4589-991c-94f7ac5b0395\" xlink:show=\"new\" xlink:title=\"psysml:0ffea2c5-2698-4589-991c-94f7ac5b0395\" xlink:type=\"simple\"><rect fill=\"#FFFFFF\" height=\"40\" id=\"E7\" rx=\"10\" ry=\"10\" style=\"stroke: #383838; stroke-width: 1.5;\" width=\"50\" x=\"533\" y=\"256\"/><rect fill=\"#F8F8F8\" height=\"23.9688\" rx=\"10\" ry=\"10\" style=\"stroke: #F8F8F8; stroke-width: 1.5;\" width=\"50\" x=\"533\" y=\"256\"/><rect fill=\"#F8F8F8\" height=\"10\" style=\"stroke: #F8F8F8; stroke-width: 1.5;\" width=\"50\" x=\"533\" y=\"269.9688\"/><rect fill=\"none\" height=\"40\" id=\"E7\" rx=\"10\" ry=\"10\" style=\"stroke: #383838; stroke-width: 1.5;\" width=\"50\" x=\"533\" y=\"256\"/><text fill=\"#000000\" font-family=\"sans-serif\" font-size=\"12\" lengthAdjust=\"spacingAndGlyphs\" textLength=\"16\" x=\"550\" y=\"272.1387\">S1</text></a></g><g id=\"E1.E6.E8\"><a href=\"psysml:f6369ddf-93b2-4791-a9ee-7d090a7e6258\" target=\"_top\" title=\"psysml:f6369ddf-93b2-4791-a9ee-7d090a7e6258\" xlink:actuate=\"onRequest\" xlink:href=\"psysml:f6369ddf-93b2-4791-a9ee-7d090a7e6258\" xlink:show=\"new\" xlink:title=\"psysml:f6369ddf-93b2-4791-a9ee-7d090a7e6258\" xlink:type=\"simple\"><rect fill=\"#FFFFFF\" height=\"47.9375\" id=\"E8\" rx=\"10\" ry=\"10\" style=\"stroke: #383838; stroke-width: 1.5;\" width=\"169\" x=\"498.5\" y=\"373\"/><rect fill=\"#F8F8F8\" height=\"23.9688\" rx=\"10\" ry=\"10\" style=\"stroke: #F8F8F8; stroke-width: 1.5;\" width=\"169\" x=\"498.5\" y=\"373\"/><rect fill=\"#F8F8F8\" height=\"10\" style=\"stroke: #F8F8F8; stroke-width: 1.5;\" width=\"169\" x=\"498.5\" y=\"386.9688\"/><rect fill=\"none\" height=\"47.9375\" id=\"E8\" rx=\"10\" ry=\"10\" style=\"stroke: #383838; stroke-width: 1.5;\" width=\"169\" x=\"498.5\" y=\"373\"/><text fill=\"#000000\" font-family=\"sans-serif\" font-size=\"12\" lengthAdjust=\"spacingAndGlyphs\" textLength=\"16\" x=\"575\" y=\"389.1387\">S2</text><line style=\"stroke: #383838; stroke-width: 1.0;\" x1=\"498.5\" x2=\"667.5\" y1=\"396.9688\" y2=\"396.9688\"/><text fill=\"#000000\" font-family=\"sans-serif\" font-size=\"12\" font-weight=\"bold\" lengthAdjust=\"spacingAndGlyphs\" textLength=\"18\" x=\"503.5\" y=\"410.1074\">do</text><text fill=\"#000000\" font-family=\"sans-serif\" font-size=\"12\" lengthAdjust=\"spacingAndGlyphs\" textLength=\"141\" x=\"521.5\" y=\"410.1074\">/  send Sig(T::s::x) to p</text></a></g><!--MD5=[5a531d3a85f3339e6e197084acb48195]\n",
       "link *start*E6 to E7--><a href=\"psysml:3d6f6111-a5f0-4f07-bf0a-543b5052b3c3\" target=\"_top\" title=\"psysml:3d6f6111-a5f0-4f07-bf0a-543b5052b3c3\" xlink:actuate=\"onRequest\" xlink:href=\"psysml:3d6f6111-a5f0-4f07-bf0a-543b5052b3c3\" xlink:show=\"new\" xlink:title=\"psysml:3d6f6111-a5f0-4f07-bf0a-543b5052b3c3\" xlink:type=\"simple\"><path d=\"M558,167.18 C558,184.98 558,224.73 558,250.67 \" fill=\"none\" id=\"*start*E6-&gt;E7\" style=\"stroke: #383838; stroke-width: 1.0;\"/><polygon fill=\"#383838\" points=\"558,255.98,562,246.98,558,250.98,554,246.98,558,255.98\" style=\"stroke: #383838; stroke-width: 1.0;\"/></a><!--MD5=[7ec9a8babba89ddcae1318ca9fb3c814]\n",
       "link E8 to *end*E6--><a href=\"psysml:374875bf-0004-40f7-bedc-1374d527cde5\" target=\"_top\" title=\"psysml:374875bf-0004-40f7-bedc-1374d527cde5\" xlink:actuate=\"onRequest\" xlink:href=\"psysml:374875bf-0004-40f7-bedc-1374d527cde5\" xlink:show=\"new\" xlink:title=\"psysml:374875bf-0004-40f7-bedc-1374d527cde5\" xlink:type=\"simple\"><path d=\"M583,421.12 C583,442.75 583,474.39 583,492.62 \" fill=\"none\" id=\"E8-&gt;*end*E6\" style=\"stroke: #383838; stroke-width: 1.0;\"/><polygon fill=\"#383838\" points=\"583,497.82,587,488.82,583,492.82,579,488.82,583,497.82\" style=\"stroke: #383838; stroke-width: 1.0;\"/><text fill=\"#000000\" font-family=\"sans-serif\" font-size=\"13\" lengthAdjust=\"spacingAndGlyphs\" textLength=\"23\" x=\"584\" y=\"464.0669\">Exit</text></a><!--MD5=[79bc8f324ef4d02c541433f2e6e513c3]\n",
       "link E7 to E8--><a href=\"psysml:69f1494c-077d-4519-8343-87cce73be713\" target=\"_top\" title=\"psysml:69f1494c-077d-4519-8343-87cce73be713\" xlink:actuate=\"onRequest\" xlink:href=\"psysml:69f1494c-077d-4519-8343-87cce73be713\" xlink:show=\"new\" xlink:title=\"psysml:69f1494c-077d-4519-8343-87cce73be713\" xlink:type=\"simple\"><path d=\"M533.07,296.08 C515.1,309.84 494,326 494,326 C494,326 494,343 494,343 C494,343 517.06,356.73 539.71,370.22 \" fill=\"none\" id=\"E7-&gt;E8\" style=\"stroke: #383838; stroke-width: 1.0;\"/><polygon fill=\"#383838\" points=\"544.22,372.91,538.5408,364.8635,539.9262,370.3481,534.4417,371.7335,544.22,372.91\" style=\"stroke: #383838; stroke-width: 1.0;\"/><text fill=\"#000000\" font-family=\"sans-serif\" font-size=\"13\" lengthAdjust=\"spacingAndGlyphs\" textLength=\"81\" x=\"495\" y=\"339.0669\">Sig /action D</text></a><!--MD5=[bfa3c8b0d15052fdf50ae9310b491027]\n",
       "link E8 to E7--><a href=\"psysml:f8d53726-bfe5-4353-91f3-ae2ef06d9a38\" target=\"_top\" title=\"psysml:f8d53726-bfe5-4353-91f3-ae2ef06d9a38\" xlink:actuate=\"onRequest\" xlink:href=\"psysml:f8d53726-bfe5-4353-91f3-ae2ef06d9a38\" xlink:show=\"new\" xlink:title=\"psysml:f8d53726-bfe5-4353-91f3-ae2ef06d9a38\" xlink:type=\"simple\"><path d=\"M582.33,372.69 C581.75,352.33 581,326 581,326 C581,326 574.98,313.18 569.11,300.66 \" fill=\"none\" id=\"E8-&gt;E7\" style=\"stroke: #383838; stroke-width: 1.0;\"/><polygon fill=\"#383838\" points=\"566.96,296.08,567.1429,305.9272,569.0752,300.6106,574.3918,302.5428,566.96,296.08\" style=\"stroke: #383838; stroke-width: 1.0;\"/><text fill=\"#000000\" font-family=\"sans-serif\" font-size=\"13\" lengthAdjust=\"spacingAndGlyphs\" textLength=\"135\" x=\"582\" y=\"339.0669\">Sig [true]/send s to p</text></a><!--MD5=[e51a880811258925c4eaa716fd0948b4]\n",
       "@startuml\r\n",
       "skinparam linetype polyline\r\n",
       "skinparam monochrome true\r\n",
       "skinparam classbackgroundcolor white\r\n",
       "skinparam shadowing false\r\n",
       "skinparam wrapWidth 300\r\n",
       "hide circle\r\n",
       "\r\n",
       "package \"StateTest\" as E1  [[psysml:800f45c9-cf5c-46ce-b3c3-487778cd6319 ]]  {\r\n",
       "comp def \"Sig\" as E2  <<(T,blue)attribute def>> [[psysml:f1048496-f45f-4de3-be42-17169da36fba ]] {\r\n",
       "- - attributes - -\r\n",
       "x\r\n",
       "}\r\n",
       "comp def \"Exit\" as E3  <<(T,blue)attribute def>> [[psysml:546c6a0a-79ca-4224-b50a-77e407cae485 ]] {\r\n",
       "}\r\n",
       "comp usage \"p\" as E4  <<(T,blue)part>> [[psysml:4710131f-7c31-45d9-a6fe-10a60fc8490a ]] {\r\n",
       "}\r\n",
       "rec usage \"act\" as E5  <<(T,blue)action>> [[psysml:0b92cdb5-3694-4434-adff-e0b2149bd4e6 ]] {\r\n",
       "}\r\n",
       "\r\n",
       "rec def \"S\" as E6  <<(T,blue)state def>> [[psysml:f2a66a23-1197-47ed-b1bd-74e1ad61d6fd ]] {\r\n",
       "rec usage \"S1\" as E7 [[psysml:0ffea2c5-2698-4589-991c-94f7ac5b0395 ]] {\r\n",
       "}\r\n",
       "\r\n",
       "rec usage \"S2\" as E8 [[psysml:f6369ddf-93b2-4791-a9ee-7d090a7e6258 ]] {\r\n",
       "desc \"S2\" as E8  : **do**/  send Sig(T::s::x) to p\r\n",
       "}\r\n",
       "\r\n",
       "desc \"S\" as E6  : **entry**/ A\r\n",
       "desc \"S\" as E6  : **do**/ B\r\n",
       "desc \"S\" as E6  : **exit**/ act \r\n",
       "[*] - -> E7 [[psysml:3d6f6111-a5f0-4f07-bf0a-543b5052b3c3 ]] \r\n",
       "E8  - -> [*] [[psysml:374875bf-0004-40f7-bedc-1374d527cde5 ]] : Exit \r\n",
       "}\r\n",
       "\r\n",
       "E7  - -> E8 [[psysml:69f1494c-077d-4519-8343-87cce73be713 ]] : Sig /action D\r\n",
       "E8  - -> E7 [[psysml:f8d53726-bfe5-4353-91f3-ae2ef06d9a38 ]] : Sig [true]/send s to p\r\n",
       "}\r\n",
       "@enduml\r\n",
       "\n",
       "PlantUML version 1.2020.13(Sat Jun 13 12:26:38 UTC 2020)\n",
       "(EPL source distribution)\n",
       "Java Runtime: OpenJDK Runtime Environment\n",
       "JVM: OpenJDK 64-Bit Server VM\n",
       "Default Encoding: UTF-8\n",
       "Language: en\n",
       "Country: null\n",
       "--></g></svg>"
      ]
     },
     "execution_count": 15,
     "metadata": {},
     "output_type": "execute_result"
    }
   ],
   "source": [
    "%viz --style=\"POLYLINE\" --view=\"MIXED\" \"StateTest\""
   ]
  },
  {
   "cell_type": "code",
   "execution_count": 16,
   "id": "f0c4da75",
   "metadata": {
    "execution": {
     "iopub.execute_input": "2021-04-21T20:23:41.971213Z",
     "iopub.status.busy": "2021-04-21T20:23:41.970215Z",
     "iopub.status.idle": "2021-04-21T20:23:42.029461Z",
     "shell.execute_reply": "2021-04-21T20:23:42.028949Z"
    }
   },
   "outputs": [
    {
     "data": {
      "image/svg+xml": [
       "<?xml version=\"1.0\" encoding=\"UTF-8\" standalone=\"no\"?><svg xmlns=\"http://www.w3.org/2000/svg\" xmlns:xlink=\"http://www.w3.org/1999/xlink\" contentScriptType=\"application/ecmascript\" contentStyleType=\"text/css\" height=\"633px\" preserveAspectRatio=\"none\" style=\"width:771px;height:633px;\" version=\"1.1\" viewBox=\"0 0 771 633\" width=\"771px\" zoomAndPan=\"magnify\"><defs/><g><!--MD5=[fbc87193dbaf4d95561dea2c320d4a47]\n",
       "cluster E1--><a href=\"psysml:800f45c9-cf5c-46ce-b3c3-487778cd6319\" target=\"_top\" title=\"psysml:800f45c9-cf5c-46ce-b3c3-487778cd6319\" xlink:actuate=\"onRequest\" xlink:href=\"psysml:800f45c9-cf5c-46ce-b3c3-487778cd6319\" xlink:show=\"new\" xlink:title=\"psysml:800f45c9-cf5c-46ce-b3c3-487778cd6319\" xlink:type=\"simple\"><polygon fill=\"#FFFFFF\" points=\"16,6,98,6,105,28.2969,749,28.2969,749,621,16,621,16,6\" style=\"stroke: #000000; stroke-width: 1.5;\"/><line style=\"stroke: #000000; stroke-width: 1.5;\" x1=\"16\" x2=\"105\" y1=\"28.2969\" y2=\"28.2969\"/><text fill=\"#000000\" font-family=\"sans-serif\" font-size=\"14\" font-weight=\"bold\" lengthAdjust=\"spacingAndGlyphs\" textLength=\"76\" x=\"20\" y=\"20.9951\">StateTest</text></a><!--MD5=[14e3b0961a2654348d326746436168a1]\n",
       "cluster E6--><a href=\"psysml:f2a66a23-1197-47ed-b1bd-74e1ad61d6fd\" target=\"_top\" title=\"psysml:f2a66a23-1197-47ed-b1bd-74e1ad61d6fd\" xlink:actuate=\"onRequest\" xlink:href=\"psysml:f2a66a23-1197-47ed-b1bd-74e1ad61d6fd\" xlink:show=\"new\" xlink:title=\"psysml:f2a66a23-1197-47ed-b1bd-74e1ad61d6fd\" xlink:type=\"simple\"><rect fill=\"#FFFFFF\" height=\"223\" id=\"E6\" style=\"stroke: #383838; stroke-width: 1.5;\" width=\"671.5\" x=\"53.5\" y=\"49\"/><rect fill=\"#F8F8F8\" height=\"37.9375\" style=\"stroke: #383838; stroke-width: 1.5;\" width=\"671.5\" x=\"53.5\" y=\"49\"/><text fill=\"#000000\" font-family=\"sans-serif\" font-size=\"12\" font-style=\"italic\" lengthAdjust=\"spacingAndGlyphs\" textLength=\"71\" x=\"353.75\" y=\"65.1387\">«state def»</text><text fill=\"#000000\" font-family=\"sans-serif\" font-size=\"12\" lengthAdjust=\"spacingAndGlyphs\" textLength=\"8\" x=\"385.25\" y=\"79.1074\">S</text><line style=\"stroke: #383838; stroke-width: 1.0;\" x1=\"53.5\" x2=\"725\" y1=\"132.8438\" y2=\"132.8438\"/><text fill=\"#000000\" font-family=\"sans-serif\" font-size=\"12\" font-weight=\"bold\" lengthAdjust=\"spacingAndGlyphs\" textLength=\"38\" x=\"58.5\" y=\"100.0762\">entry</text><text fill=\"#000000\" font-family=\"sans-serif\" font-size=\"12\" lengthAdjust=\"spacingAndGlyphs\" textLength=\"16\" x=\"96.5\" y=\"100.0762\">/ A</text><text fill=\"#000000\" font-family=\"sans-serif\" font-size=\"12\" font-weight=\"bold\" lengthAdjust=\"spacingAndGlyphs\" textLength=\"18\" x=\"58.5\" y=\"114.0449\">do</text><text fill=\"#000000\" font-family=\"sans-serif\" font-size=\"12\" lengthAdjust=\"spacingAndGlyphs\" textLength=\"16\" x=\"76.5\" y=\"114.0449\">/ B</text><text fill=\"#000000\" font-family=\"sans-serif\" font-size=\"12\" font-weight=\"bold\" lengthAdjust=\"spacingAndGlyphs\" textLength=\"26\" x=\"58.5\" y=\"128.0137\">exit</text><text fill=\"#000000\" font-family=\"sans-serif\" font-size=\"12\" lengthAdjust=\"spacingAndGlyphs\" textLength=\"28\" x=\"84.5\" y=\"128.0137\">/ act</text></a><!--MD5=[b4997ac47864f28c2f74865a473b2911]\n",
       "class E2--><a href=\"psysml:f1048496-f45f-4de3-be42-17169da36fba\" target=\"_top\" title=\"psysml:f1048496-f45f-4de3-be42-17169da36fba\" xlink:actuate=\"onRequest\" xlink:href=\"psysml:f1048496-f45f-4de3-be42-17169da36fba\" xlink:show=\"new\" xlink:title=\"psysml:f1048496-f45f-4de3-be42-17169da36fba\" xlink:type=\"simple\"><rect fill=\"#FFFFFF\" height=\"75.5469\" id=\"E2\" style=\"stroke: #383838; stroke-width: 1.5;\" width=\"95\" x=\"32\" y=\"288\"/><text fill=\"#000000\" font-family=\"sans-serif\" font-size=\"12\" font-style=\"italic\" lengthAdjust=\"spacingAndGlyphs\" textLength=\"93\" x=\"33\" y=\"304.1387\">«attribute def»</text><text fill=\"#000000\" font-family=\"sans-serif\" font-size=\"12\" lengthAdjust=\"spacingAndGlyphs\" textLength=\"19\" x=\"70\" y=\"318.1074\">Sig</text><line style=\"stroke: #383838; stroke-width: 1.5;\" x1=\"33\" x2=\"126\" y1=\"325.9375\" y2=\"325.9375\"/><text fill=\"#000000\" font-family=\"sans-serif\" font-size=\"11\" lengthAdjust=\"spacingAndGlyphs\" textLength=\"6\" x=\"38\" y=\"356.9526\">x</text><line style=\"stroke: #383838; stroke-width: 1.0;\" x1=\"33\" x2=\"52\" y1=\"340.3398\" y2=\"340.3398\"/><text fill=\"#000000\" font-family=\"sans-serif\" font-size=\"11\" lengthAdjust=\"spacingAndGlyphs\" textLength=\"55\" x=\"52\" y=\"343.6479\">attributes</text><line style=\"stroke: #383838; stroke-width: 1.0;\" x1=\"107\" x2=\"126\" y1=\"340.3398\" y2=\"340.3398\"/></a><!--MD5=[09b614a08d8cba4a07c9adeb5e0fee81]\n",
       "class E3--><a href=\"psysml:546c6a0a-79ca-4224-b50a-77e407cae485\" target=\"_top\" title=\"psysml:546c6a0a-79ca-4224-b50a-77e407cae485\" xlink:actuate=\"onRequest\" xlink:href=\"psysml:546c6a0a-79ca-4224-b50a-77e407cae485\" xlink:show=\"new\" xlink:title=\"psysml:546c6a0a-79ca-4224-b50a-77e407cae485\" xlink:type=\"simple\"><rect fill=\"#FFFFFF\" height=\"45.9375\" id=\"E3\" style=\"stroke: #383838; stroke-width: 1.5;\" width=\"95\" x=\"32\" y=\"399\"/><text fill=\"#000000\" font-family=\"sans-serif\" font-size=\"12\" font-style=\"italic\" lengthAdjust=\"spacingAndGlyphs\" textLength=\"93\" x=\"33\" y=\"415.1387\">«attribute def»</text><text fill=\"#000000\" font-family=\"sans-serif\" font-size=\"12\" lengthAdjust=\"spacingAndGlyphs\" textLength=\"22\" x=\"68.5\" y=\"429.1074\">Exit</text><line style=\"stroke: #383838; stroke-width: 1.5;\" x1=\"33\" x2=\"126\" y1=\"436.9375\" y2=\"436.9375\"/></a><!--MD5=[ebbe1d658d1005bcc118a6aa81145e00]\n",
       "class E4--><a href=\"psysml:4710131f-7c31-45d9-a6fe-10a60fc8490a\" target=\"_top\" title=\"psysml:4710131f-7c31-45d9-a6fe-10a60fc8490a\" xlink:actuate=\"onRequest\" xlink:href=\"psysml:4710131f-7c31-45d9-a6fe-10a60fc8490a\" xlink:show=\"new\" xlink:title=\"psysml:4710131f-7c31-45d9-a6fe-10a60fc8490a\" xlink:type=\"simple\"><rect fill=\"#FFFFFF\" height=\"45.9375\" id=\"E4\" rx=\"10\" ry=\"10\" style=\"stroke: #383838; stroke-width: 1.5;\" width=\"42\" x=\"58.5\" y=\"480\"/><text fill=\"#000000\" font-family=\"sans-serif\" font-size=\"12\" font-style=\"italic\" lengthAdjust=\"spacingAndGlyphs\" textLength=\"40\" x=\"59.5\" y=\"496.1387\">«part»</text><text fill=\"#000000\" font-family=\"sans-serif\" font-size=\"12\" lengthAdjust=\"spacingAndGlyphs\" textLength=\"8\" x=\"75.5\" y=\"510.1074\">p</text><line style=\"stroke: #383838; stroke-width: 1.5;\" x1=\"59.5\" x2=\"99.5\" y1=\"517.9375\" y2=\"517.9375\"/></a><g id=\"E1.E5\"><a href=\"psysml:0b92cdb5-3694-4434-adff-e0b2149bd4e6\" target=\"_top\" title=\"psysml:0b92cdb5-3694-4434-adff-e0b2149bd4e6\" xlink:actuate=\"onRequest\" xlink:href=\"psysml:0b92cdb5-3694-4434-adff-e0b2149bd4e6\" xlink:show=\"new\" xlink:title=\"psysml:0b92cdb5-3694-4434-adff-e0b2149bd4e6\" xlink:type=\"simple\"><rect fill=\"#FFFFFF\" height=\"42.9375\" id=\"E5\" rx=\"10\" ry=\"10\" style=\"stroke: #383838; stroke-width: 1.5;\" width=\"60\" x=\"49.5\" y=\"561.5\"/><rect fill=\"#F8F8F8\" height=\"37.9375\" rx=\"10\" ry=\"10\" style=\"stroke: #F8F8F8; stroke-width: 1.5;\" width=\"60\" x=\"49.5\" y=\"561.5\"/><rect fill=\"#F8F8F8\" height=\"10\" style=\"stroke: #F8F8F8; stroke-width: 1.5;\" width=\"60\" x=\"49.5\" y=\"589.4375\"/><rect fill=\"none\" height=\"42.9375\" id=\"E5\" rx=\"10\" ry=\"10\" style=\"stroke: #383838; stroke-width: 1.5;\" width=\"60\" x=\"49.5\" y=\"561.5\"/><text fill=\"#000000\" font-family=\"sans-serif\" font-size=\"12\" font-style=\"italic\" lengthAdjust=\"spacingAndGlyphs\" textLength=\"53\" x=\"53\" y=\"577.6387\">«action»</text><text fill=\"#000000\" font-family=\"sans-serif\" font-size=\"12\" lengthAdjust=\"spacingAndGlyphs\" textLength=\"20\" x=\"69.5\" y=\"591.6074\">act</text></a></g><ellipse cx=\"79.5\" cy=\"194\" fill=\"#000000\" rx=\"10\" ry=\"10\" style=\"stroke: none; stroke-width: 1.0;\"/><ellipse cx=\"699\" cy=\"196\" fill=\"none\" rx=\"10\" ry=\"10\" style=\"stroke: #000000; stroke-width: 1.0;\"/><ellipse cx=\"699.5\" cy=\"196.5\" fill=\"#000000\" rx=\"6\" ry=\"6\" style=\"stroke: none; stroke-width: 1.0;\"/><g id=\"E1.E6.E7\"><a href=\"psysml:0ffea2c5-2698-4589-991c-94f7ac5b0395\" target=\"_top\" title=\"psysml:0ffea2c5-2698-4589-991c-94f7ac5b0395\" xlink:actuate=\"onRequest\" xlink:href=\"psysml:0ffea2c5-2698-4589-991c-94f7ac5b0395\" xlink:show=\"new\" xlink:title=\"psysml:0ffea2c5-2698-4589-991c-94f7ac5b0395\" xlink:type=\"simple\"><rect fill=\"#FFFFFF\" height=\"40\" id=\"E7\" rx=\"10\" ry=\"10\" style=\"stroke: #383838; stroke-width: 1.5;\" width=\"50\" x=\"188\" y=\"174\"/><rect fill=\"#F8F8F8\" height=\"23.9688\" rx=\"10\" ry=\"10\" style=\"stroke: #F8F8F8; stroke-width: 1.5;\" width=\"50\" x=\"188\" y=\"174\"/><rect fill=\"#F8F8F8\" height=\"10\" style=\"stroke: #F8F8F8; stroke-width: 1.5;\" width=\"50\" x=\"188\" y=\"187.9688\"/><rect fill=\"none\" height=\"40\" id=\"E7\" rx=\"10\" ry=\"10\" style=\"stroke: #383838; stroke-width: 1.5;\" width=\"50\" x=\"188\" y=\"174\"/><text fill=\"#000000\" font-family=\"sans-serif\" font-size=\"12\" lengthAdjust=\"spacingAndGlyphs\" textLength=\"16\" x=\"205\" y=\"190.1387\">S1</text></a></g><g id=\"E1.E6.E8\"><a href=\"psysml:f6369ddf-93b2-4791-a9ee-7d090a7e6258\" target=\"_top\" title=\"psysml:f6369ddf-93b2-4791-a9ee-7d090a7e6258\" xlink:actuate=\"onRequest\" xlink:href=\"psysml:f6369ddf-93b2-4791-a9ee-7d090a7e6258\" xlink:show=\"new\" xlink:title=\"psysml:f6369ddf-93b2-4791-a9ee-7d090a7e6258\" xlink:type=\"simple\"><rect fill=\"#FFFFFF\" height=\"47.9375\" id=\"E8\" rx=\"10\" ry=\"10\" style=\"stroke: #383838; stroke-width: 1.5;\" width=\"169\" x=\"435\" y=\"172\"/><rect fill=\"#F8F8F8\" height=\"23.9688\" rx=\"10\" ry=\"10\" style=\"stroke: #F8F8F8; stroke-width: 1.5;\" width=\"169\" x=\"435\" y=\"172\"/><rect fill=\"#F8F8F8\" height=\"10\" style=\"stroke: #F8F8F8; stroke-width: 1.5;\" width=\"169\" x=\"435\" y=\"185.9688\"/><rect fill=\"none\" height=\"47.9375\" id=\"E8\" rx=\"10\" ry=\"10\" style=\"stroke: #383838; stroke-width: 1.5;\" width=\"169\" x=\"435\" y=\"172\"/><text fill=\"#000000\" font-family=\"sans-serif\" font-size=\"12\" lengthAdjust=\"spacingAndGlyphs\" textLength=\"16\" x=\"511.5\" y=\"188.1387\">S2</text><line style=\"stroke: #383838; stroke-width: 1.0;\" x1=\"435\" x2=\"604\" y1=\"195.9688\" y2=\"195.9688\"/><text fill=\"#000000\" font-family=\"sans-serif\" font-size=\"12\" font-weight=\"bold\" lengthAdjust=\"spacingAndGlyphs\" textLength=\"18\" x=\"440\" y=\"209.1074\">do</text><text fill=\"#000000\" font-family=\"sans-serif\" font-size=\"12\" lengthAdjust=\"spacingAndGlyphs\" textLength=\"141\" x=\"458\" y=\"209.1074\">/  send Sig(T::s::x) to p</text></a></g><!--MD5=[5a531d3a85f3339e6e197084acb48195]\n",
       "link *start*E6 to E7--><a href=\"psysml:3d6f6111-a5f0-4f07-bf0a-543b5052b3c3\" target=\"_top\" title=\"psysml:3d6f6111-a5f0-4f07-bf0a-543b5052b3c3\" xlink:actuate=\"onRequest\" xlink:href=\"psysml:3d6f6111-a5f0-4f07-bf0a-543b5052b3c3\" xlink:show=\"new\" xlink:title=\"psysml:3d6f6111-a5f0-4f07-bf0a-543b5052b3c3\" xlink:type=\"simple\"><path d=\"M89.54,194 C108.46,194 152.97,194 182.78,194 \" fill=\"none\" id=\"*start*E6-&gt;E7\" style=\"stroke: #383838; stroke-width: 1.0;\"/><polygon fill=\"#383838\" points=\"187.8,194,178.8,190,182.8,194,178.8,198,187.8,194\" style=\"stroke: #383838; stroke-width: 1.0;\"/></a><!--MD5=[7ec9a8babba89ddcae1318ca9fb3c814]\n",
       "link E8 to *end*E6--><a href=\"psysml:374875bf-0004-40f7-bedc-1374d527cde5\" target=\"_top\" title=\"psysml:374875bf-0004-40f7-bedc-1374d527cde5\" xlink:actuate=\"onRequest\" xlink:href=\"psysml:374875bf-0004-40f7-bedc-1374d527cde5\" xlink:show=\"new\" xlink:title=\"psysml:374875bf-0004-40f7-bedc-1374d527cde5\" xlink:type=\"simple\"><path d=\"M604.05,196 C634.69,196 666.16,196 683.78,196 \" fill=\"none\" id=\"E8-&gt;*end*E6\" style=\"stroke: #383838; stroke-width: 1.0;\"/><polygon fill=\"#383838\" points=\"688.79,196,679.79,192,683.79,196,679.79,200,688.79,196\" style=\"stroke: #383838; stroke-width: 1.0;\"/><text fill=\"#000000\" font-family=\"sans-serif\" font-size=\"13\" lengthAdjust=\"spacingAndGlyphs\" textLength=\"23\" x=\"635\" y=\"192.0669\">Exit</text></a><!--MD5=[79bc8f324ef4d02c541433f2e6e513c3]\n",
       "link E7 to E8--><a href=\"psysml:69f1494c-077d-4519-8343-87cce73be713\" target=\"_top\" title=\"psysml:69f1494c-077d-4519-8343-87cce73be713\" xlink:actuate=\"onRequest\" xlink:href=\"psysml:69f1494c-077d-4519-8343-87cce73be713\" xlink:show=\"new\" xlink:title=\"psysml:69f1494c-077d-4519-8343-87cce73be713\" xlink:type=\"simple\"><path d=\"M238.15,210.85 C247.11,216.14 257.62,221.31 268,224 C321.24,237.8 382.58,231.3 431.24,221.11 \" fill=\"none\" id=\"E7-&gt;E8\" style=\"stroke: #383838; stroke-width: 1.0;\"/><polygon fill=\"#383838\" points=\"436.21,220.04,426.5733,218.0069,431.3202,221.0837,428.2433,225.8306,436.21,220.04\" style=\"stroke: #383838; stroke-width: 1.0;\"/><text fill=\"#000000\" font-family=\"sans-serif\" font-size=\"13\" lengthAdjust=\"spacingAndGlyphs\" textLength=\"81\" x=\"296\" y=\"220.0669\">Sig /action D</text></a><!--MD5=[bfa3c8b0d15052fdf50ae9310b491027]\n",
       "link E8 to E7--><a href=\"psysml:f8d53726-bfe5-4353-91f3-ae2ef06d9a38\" target=\"_top\" title=\"psysml:f8d53726-bfe5-4353-91f3-ae2ef06d9a38\" xlink:actuate=\"onRequest\" xlink:href=\"psysml:f8d53726-bfe5-4353-91f3-ae2ef06d9a38\" xlink:show=\"new\" xlink:title=\"psysml:f8d53726-bfe5-4353-91f3-ae2ef06d9a38\" xlink:type=\"simple\"><path d=\"M434.81,195.45 C371.05,195.03 287,194.48 243.28,194.19 \" fill=\"none\" id=\"E8-&gt;E7\" style=\"stroke: #383838; stroke-width: 1.0;\"/><polygon fill=\"#383838\" points=\"238.15,194.16,247.127,198.2114,243.1499,194.1886,247.1727,190.2115,238.15,194.16\" style=\"stroke: #383838; stroke-width: 1.0;\"/><text fill=\"#000000\" font-family=\"sans-serif\" font-size=\"13\" lengthAdjust=\"spacingAndGlyphs\" textLength=\"135\" x=\"269\" y=\"191.0669\">Sig [true]/send s to p</text></a><!--MD5=[e6bf01bd4a272268fe00e6ed75ce24eb]\n",
       "@startuml\r\n",
       "left to right direction\r\n",
       "skinparam monochrome true\r\n",
       "skinparam classbackgroundcolor white\r\n",
       "skinparam shadowing false\r\n",
       "skinparam wrapWidth 300\r\n",
       "hide circle\r\n",
       "\r\n",
       "package \"StateTest\" as E1  [[psysml:800f45c9-cf5c-46ce-b3c3-487778cd6319 ]]  {\r\n",
       "comp def \"Sig\" as E2  <<(T,blue)attribute def>> [[psysml:f1048496-f45f-4de3-be42-17169da36fba ]] {\r\n",
       "- - attributes - -\r\n",
       "x\r\n",
       "}\r\n",
       "comp def \"Exit\" as E3  <<(T,blue)attribute def>> [[psysml:546c6a0a-79ca-4224-b50a-77e407cae485 ]] {\r\n",
       "}\r\n",
       "comp usage \"p\" as E4  <<(T,blue)part>> [[psysml:4710131f-7c31-45d9-a6fe-10a60fc8490a ]] {\r\n",
       "}\r\n",
       "rec usage \"act\" as E5  <<(T,blue)action>> [[psysml:0b92cdb5-3694-4434-adff-e0b2149bd4e6 ]] {\r\n",
       "}\r\n",
       "\r\n",
       "rec def \"S\" as E6  <<(T,blue)state def>> [[psysml:f2a66a23-1197-47ed-b1bd-74e1ad61d6fd ]] {\r\n",
       "rec usage \"S1\" as E7 [[psysml:0ffea2c5-2698-4589-991c-94f7ac5b0395 ]] {\r\n",
       "}\r\n",
       "\r\n",
       "rec usage \"S2\" as E8 [[psysml:f6369ddf-93b2-4791-a9ee-7d090a7e6258 ]] {\r\n",
       "desc \"S2\" as E8  : **do**/  send Sig(T::s::x) to p\r\n",
       "}\r\n",
       "\r\n",
       "desc \"S\" as E6  : **entry**/ A\r\n",
       "desc \"S\" as E6  : **do**/ B\r\n",
       "desc \"S\" as E6  : **exit**/ act \r\n",
       "[*] - -> E7 [[psysml:3d6f6111-a5f0-4f07-bf0a-543b5052b3c3 ]] \r\n",
       "E8  - -> [*] [[psysml:374875bf-0004-40f7-bedc-1374d527cde5 ]] : Exit \r\n",
       "}\r\n",
       "\r\n",
       "E7  - -> E8 [[psysml:69f1494c-077d-4519-8343-87cce73be713 ]] : Sig /action D\r\n",
       "E8  - -> E7 [[psysml:f8d53726-bfe5-4353-91f3-ae2ef06d9a38 ]] : Sig [true]/send s to p\r\n",
       "}\r\n",
       "@enduml\r\n",
       "\n",
       "PlantUML version 1.2020.13(Sat Jun 13 12:26:38 UTC 2020)\n",
       "(EPL source distribution)\n",
       "Java Runtime: OpenJDK Runtime Environment\n",
       "JVM: OpenJDK 64-Bit Server VM\n",
       "Default Encoding: UTF-8\n",
       "Language: en\n",
       "Country: null\n",
       "--></g></svg>"
      ]
     },
     "execution_count": 16,
     "metadata": {},
     "output_type": "execute_result"
    }
   ],
   "source": [
    "%viz --style=\"LR\" --view=\"Default\" \"StateTest\""
   ]
  },
  {
   "cell_type": "code",
   "execution_count": 17,
   "id": "2f5a1ff3",
   "metadata": {
    "execution": {
     "iopub.execute_input": "2021-04-21T20:23:42.099147Z",
     "iopub.status.busy": "2021-04-21T20:23:42.079096Z",
     "iopub.status.idle": "2021-04-21T20:23:42.236946Z",
     "shell.execute_reply": "2021-04-21T20:23:42.237337Z"
    }
   },
   "outputs": [
    {
     "data": {
      "image/svg+xml": [
       "<?xml version=\"1.0\" encoding=\"UTF-8\" standalone=\"no\"?><svg xmlns=\"http://www.w3.org/2000/svg\" xmlns:xlink=\"http://www.w3.org/1999/xlink\" contentScriptType=\"application/ecmascript\" contentStyleType=\"text/css\" height=\"583px\" preserveAspectRatio=\"none\" style=\"width:302px;height:583px;\" version=\"1.1\" viewBox=\"0 0 302 583\" width=\"302px\" zoomAndPan=\"magnify\"><defs/><g><!--MD5=[fbc87193dbaf4d95561dea2c320d4a47]\n",
       "cluster E1--><a href=\"psysml:800f45c9-cf5c-46ce-b3c3-487778cd6319\" target=\"_top\" title=\"psysml:800f45c9-cf5c-46ce-b3c3-487778cd6319\" xlink:actuate=\"onRequest\" xlink:href=\"psysml:800f45c9-cf5c-46ce-b3c3-487778cd6319\" xlink:show=\"new\" xlink:title=\"psysml:800f45c9-cf5c-46ce-b3c3-487778cd6319\" xlink:type=\"simple\"><polygon fill=\"#FFFFFF\" points=\"16,6,98,6,105,28.2969,280,28.2969,280,571,16,571,16,6\" style=\"stroke: #000000; stroke-width: 1.5;\"/><line style=\"stroke: #000000; stroke-width: 1.5;\" x1=\"16\" x2=\"105\" y1=\"28.2969\" y2=\"28.2969\"/><text fill=\"#000000\" font-family=\"sans-serif\" font-size=\"14\" font-weight=\"bold\" lengthAdjust=\"spacingAndGlyphs\" textLength=\"76\" x=\"20\" y=\"20.9951\">StateTest</text></a><!--MD5=[b4997ac47864f28c2f74865a473b2911]\n",
       "class E2--><a href=\"psysml:f1048496-f45f-4de3-be42-17169da36fba\" target=\"_top\" title=\"psysml:f1048496-f45f-4de3-be42-17169da36fba\" xlink:actuate=\"onRequest\" xlink:href=\"psysml:f1048496-f45f-4de3-be42-17169da36fba\" xlink:show=\"new\" xlink:title=\"psysml:f1048496-f45f-4de3-be42-17169da36fba\" xlink:type=\"simple\"><rect fill=\"#FFFFFF\" height=\"75.5469\" id=\"E2\" style=\"stroke: #383838; stroke-width: 1.5;\" width=\"95\" x=\"32\" y=\"41\"/><text fill=\"#000000\" font-family=\"sans-serif\" font-size=\"12\" font-style=\"italic\" lengthAdjust=\"spacingAndGlyphs\" textLength=\"93\" x=\"33\" y=\"57.1387\">«attribute def»</text><text fill=\"#000000\" font-family=\"sans-serif\" font-size=\"12\" lengthAdjust=\"spacingAndGlyphs\" textLength=\"19\" x=\"70\" y=\"71.1074\">Sig</text><line style=\"stroke: #383838; stroke-width: 1.5;\" x1=\"33\" x2=\"126\" y1=\"78.9375\" y2=\"78.9375\"/><text fill=\"#000000\" font-family=\"sans-serif\" font-size=\"11\" lengthAdjust=\"spacingAndGlyphs\" textLength=\"6\" x=\"38\" y=\"109.9526\">x</text><line style=\"stroke: #383838; stroke-width: 1.0;\" x1=\"33\" x2=\"52\" y1=\"93.3398\" y2=\"93.3398\"/><text fill=\"#000000\" font-family=\"sans-serif\" font-size=\"11\" lengthAdjust=\"spacingAndGlyphs\" textLength=\"55\" x=\"52\" y=\"96.6479\">attributes</text><line style=\"stroke: #383838; stroke-width: 1.0;\" x1=\"107\" x2=\"126\" y1=\"93.3398\" y2=\"93.3398\"/></a><!--MD5=[09b614a08d8cba4a07c9adeb5e0fee81]\n",
       "class E3--><a href=\"psysml:546c6a0a-79ca-4224-b50a-77e407cae485\" target=\"_top\" title=\"psysml:546c6a0a-79ca-4224-b50a-77e407cae485\" xlink:actuate=\"onRequest\" xlink:href=\"psysml:546c6a0a-79ca-4224-b50a-77e407cae485\" xlink:show=\"new\" xlink:title=\"psysml:546c6a0a-79ca-4224-b50a-77e407cae485\" xlink:type=\"simple\"><rect fill=\"#FFFFFF\" height=\"45.9375\" id=\"E3\" style=\"stroke: #383838; stroke-width: 1.5;\" width=\"95\" x=\"32\" y=\"152\"/><text fill=\"#000000\" font-family=\"sans-serif\" font-size=\"12\" font-style=\"italic\" lengthAdjust=\"spacingAndGlyphs\" textLength=\"93\" x=\"33\" y=\"168.1387\">«attribute def»</text><text fill=\"#000000\" font-family=\"sans-serif\" font-size=\"12\" lengthAdjust=\"spacingAndGlyphs\" textLength=\"22\" x=\"68.5\" y=\"182.1074\">Exit</text><line style=\"stroke: #383838; stroke-width: 1.5;\" x1=\"33\" x2=\"126\" y1=\"189.9375\" y2=\"189.9375\"/></a><!--MD5=[ebbe1d658d1005bcc118a6aa81145e00]\n",
       "class E4--><a href=\"psysml:4710131f-7c31-45d9-a6fe-10a60fc8490a\" target=\"_top\" title=\"psysml:4710131f-7c31-45d9-a6fe-10a60fc8490a\" xlink:actuate=\"onRequest\" xlink:href=\"psysml:4710131f-7c31-45d9-a6fe-10a60fc8490a\" xlink:show=\"new\" xlink:title=\"psysml:4710131f-7c31-45d9-a6fe-10a60fc8490a\" xlink:type=\"simple\"><rect fill=\"#FFFFFF\" height=\"45.9375\" id=\"E4\" rx=\"10\" ry=\"10\" style=\"stroke: #383838; stroke-width: 1.5;\" width=\"42\" x=\"58.5\" y=\"233\"/><text fill=\"#000000\" font-family=\"sans-serif\" font-size=\"12\" font-style=\"italic\" lengthAdjust=\"spacingAndGlyphs\" textLength=\"40\" x=\"59.5\" y=\"249.1387\">«part»</text><text fill=\"#000000\" font-family=\"sans-serif\" font-size=\"12\" lengthAdjust=\"spacingAndGlyphs\" textLength=\"8\" x=\"75.5\" y=\"263.1074\">p</text><line style=\"stroke: #383838; stroke-width: 1.5;\" x1=\"59.5\" x2=\"99.5\" y1=\"270.9375\" y2=\"270.9375\"/></a><!--MD5=[270fce915f116d4de14055a7c1d9a0f3]\n",
       "class E5--><a href=\"psysml:0b92cdb5-3694-4434-adff-e0b2149bd4e6\" target=\"_top\" title=\"psysml:0b92cdb5-3694-4434-adff-e0b2149bd4e6\" xlink:actuate=\"onRequest\" xlink:href=\"psysml:0b92cdb5-3694-4434-adff-e0b2149bd4e6\" xlink:show=\"new\" xlink:title=\"psysml:0b92cdb5-3694-4434-adff-e0b2149bd4e6\" xlink:type=\"simple\"><rect fill=\"#FFFFFF\" height=\"45.9375\" id=\"E5\" rx=\"10\" ry=\"10\" style=\"stroke: #383838; stroke-width: 1.5;\" width=\"55\" x=\"52\" y=\"314\"/><text fill=\"#000000\" font-family=\"sans-serif\" font-size=\"12\" font-style=\"italic\" lengthAdjust=\"spacingAndGlyphs\" textLength=\"53\" x=\"53\" y=\"330.1387\">«action»</text><text fill=\"#000000\" font-family=\"sans-serif\" font-size=\"12\" lengthAdjust=\"spacingAndGlyphs\" textLength=\"20\" x=\"69.5\" y=\"344.1074\">act</text><line style=\"stroke: #383838; stroke-width: 1.5;\" x1=\"53\" x2=\"106\" y1=\"351.9375\" y2=\"351.9375\"/></a><!--MD5=[60a26617385b1d2d0262a64233df1f8d]\n",
       "class E6--><a href=\"psysml:f2a66a23-1197-47ed-b1bd-74e1ad61d6fd\" target=\"_top\" title=\"psysml:f2a66a23-1197-47ed-b1bd-74e1ad61d6fd\" xlink:actuate=\"onRequest\" xlink:href=\"psysml:f2a66a23-1197-47ed-b1bd-74e1ad61d6fd\" xlink:show=\"new\" xlink:title=\"psysml:f2a66a23-1197-47ed-b1bd-74e1ad61d6fd\" xlink:type=\"simple\"><rect fill=\"#FFFFFF\" height=\"160.375\" id=\"E6\" style=\"stroke: #383838; stroke-width: 1.5;\" width=\"95\" x=\"32\" y=\"395\"/><text fill=\"#000000\" font-family=\"sans-serif\" font-size=\"12\" font-style=\"italic\" lengthAdjust=\"spacingAndGlyphs\" textLength=\"71\" x=\"44\" y=\"411.1387\">«state def»</text><text fill=\"#000000\" font-family=\"sans-serif\" font-size=\"12\" lengthAdjust=\"spacingAndGlyphs\" textLength=\"8\" x=\"75.5\" y=\"425.1074\">S</text><line style=\"stroke: #383838; stroke-width: 1.5;\" x1=\"33\" x2=\"126\" y1=\"432.9375\" y2=\"432.9375\"/><text fill=\"#000000\" font-family=\"sans-serif\" font-size=\"11\" lengthAdjust=\"spacingAndGlyphs\" textLength=\"17\" x=\"38\" y=\"463.9526\">act</text><text fill=\"#000000\" font-family=\"sans-serif\" font-size=\"11\" lengthAdjust=\"spacingAndGlyphs\" textLength=\"7\" x=\"38\" y=\"476.7573\">A</text><text fill=\"#000000\" font-family=\"sans-serif\" font-size=\"11\" lengthAdjust=\"spacingAndGlyphs\" textLength=\"8\" x=\"38\" y=\"489.562\">B</text><line style=\"stroke: #383838; stroke-width: 1.0;\" x1=\"33\" x2=\"36\" y1=\"447.3398\" y2=\"447.3398\"/><text fill=\"#000000\" font-family=\"sans-serif\" font-size=\"11\" lengthAdjust=\"spacingAndGlyphs\" textLength=\"87\" x=\"36\" y=\"450.6479\">performActions</text><line style=\"stroke: #383838; stroke-width: 1.0;\" x1=\"123\" x2=\"126\" y1=\"447.3398\" y2=\"447.3398\"/><text fill=\"#000000\" font-family=\"sans-serif\" font-size=\"11\" lengthAdjust=\"spacingAndGlyphs\" textLength=\"15\" x=\"38\" y=\"519.1714\">S1</text><line style=\"stroke: #383838; stroke-width: 1.0;\" x1=\"33\" x2=\"61.5\" y1=\"502.5586\" y2=\"502.5586\"/><text fill=\"#000000\" font-family=\"sans-serif\" font-size=\"11\" lengthAdjust=\"spacingAndGlyphs\" textLength=\"36\" x=\"61.5\" y=\"505.8667\">states</text><line style=\"stroke: #383838; stroke-width: 1.0;\" x1=\"97.5\" x2=\"126\" y1=\"502.5586\" y2=\"502.5586\"/><text fill=\"#000000\" font-family=\"sans-serif\" font-size=\"11\" lengthAdjust=\"spacingAndGlyphs\" textLength=\"7\" x=\"38\" y=\"548.7808\">T</text><line style=\"stroke: #383838; stroke-width: 1.0;\" x1=\"33\" x2=\"49\" y1=\"532.168\" y2=\"532.168\"/><text fill=\"#000000\" font-family=\"sans-serif\" font-size=\"11\" lengthAdjust=\"spacingAndGlyphs\" textLength=\"61\" x=\"49\" y=\"535.4761\">transitions</text><line style=\"stroke: #383838; stroke-width: 1.0;\" x1=\"110\" x2=\"126\" y1=\"532.168\" y2=\"532.168\"/></a><!--MD5=[1dd1bfd58a279cf63c5f349dbc8fc6a1]\n",
       "class E11--><a href=\"psysml:f6369ddf-93b2-4791-a9ee-7d090a7e6258\" target=\"_top\" title=\"psysml:f6369ddf-93b2-4791-a9ee-7d090a7e6258\" xlink:actuate=\"onRequest\" xlink:href=\"psysml:f6369ddf-93b2-4791-a9ee-7d090a7e6258\" xlink:show=\"new\" xlink:title=\"psysml:f6369ddf-93b2-4791-a9ee-7d090a7e6258\" xlink:type=\"simple\"><rect fill=\"#FFFFFF\" height=\"75.5469\" id=\"E11\" rx=\"10\" ry=\"10\" style=\"stroke: #383838; stroke-width: 1.5;\" width=\"77\" x=\"187\" y=\"437\"/><text fill=\"#000000\" font-family=\"sans-serif\" font-size=\"12\" font-style=\"italic\" lengthAdjust=\"spacingAndGlyphs\" textLength=\"47\" x=\"202\" y=\"453.1387\">«state»</text><text fill=\"#000000\" font-family=\"sans-serif\" font-size=\"12\" lengthAdjust=\"spacingAndGlyphs\" textLength=\"16\" x=\"217.5\" y=\"467.1074\">S2</text><line style=\"stroke: #383838; stroke-width: 1.5;\" x1=\"188\" x2=\"263\" y1=\"474.9375\" y2=\"474.9375\"/><text fill=\"#000000\" font-family=\"sans-serif\" font-size=\"11\" lengthAdjust=\"spacingAndGlyphs\" textLength=\"48\" x=\"193\" y=\"505.9526\">doAction</text><line style=\"stroke: #383838; stroke-width: 1.0;\" x1=\"188\" x2=\"191\" y1=\"489.3398\" y2=\"489.3398\"/><text fill=\"#000000\" font-family=\"sans-serif\" font-size=\"11\" lengthAdjust=\"spacingAndGlyphs\" textLength=\"69\" x=\"191\" y=\"492.6479\">sendActions</text><line style=\"stroke: #383838; stroke-width: 1.0;\" x1=\"260\" x2=\"263\" y1=\"489.3398\" y2=\"489.3398\"/></a><!--MD5=[1f5f03483f7de0d5b3680a7f6650997f]\n",
       "reverse link E6 to E11--><a href=\"psysml:247e0169-6466-401b-83f0-032a7b21c539\" target=\"_top\" title=\"psysml:247e0169-6466-401b-83f0-032a7b21c539\" xlink:actuate=\"onRequest\" xlink:href=\"psysml:247e0169-6466-401b-83f0-032a7b21c539\" xlink:show=\"new\" xlink:title=\"psysml:247e0169-6466-401b-83f0-032a7b21c539\" xlink:type=\"simple\"><path d=\"M140.66,475 C156.23,475 172.55,475 186.62,475 \" fill=\"none\" id=\"E6&lt;-E11\" style=\"stroke: #383838; stroke-width: 1.0;\"/><polygon fill=\"#383838\" points=\"127.25,475,133.25,479,139.25,475,133.25,471,127.25,475\" style=\"stroke: #383838; stroke-width: 1.0;\"/></a><!--MD5=[2c1c813a589cf0ff4aabbcf5c72e0a6c]\n",
       "@startuml\r\n",
       "left to right direction\r\n",
       "skinparam monochrome true\r\n",
       "skinparam classbackgroundcolor white\r\n",
       "skinparam shadowing false\r\n",
       "skinparam wrapWidth 300\r\n",
       "hide circle\r\n",
       "\r\n",
       "package \"StateTest\" as E1  [[psysml:800f45c9-cf5c-46ce-b3c3-487778cd6319 ]]  {\r\n",
       "comp def \"Sig\" as E2  <<(T,blue)attribute def>> [[psysml:f1048496-f45f-4de3-be42-17169da36fba ]] {\r\n",
       "- - attributes - -\r\n",
       "x\r\n",
       "}\r\n",
       "comp def \"Exit\" as E3  <<(T,blue)attribute def>> [[psysml:546c6a0a-79ca-4224-b50a-77e407cae485 ]] {\r\n",
       "}\r\n",
       "comp usage \"p\" as E4  <<(T,blue)part>> [[psysml:4710131f-7c31-45d9-a6fe-10a60fc8490a ]] {\r\n",
       "}\r\n",
       "comp usage \"act\" as E5  <<(T,blue)action>> [[psysml:0b92cdb5-3694-4434-adff-e0b2149bd4e6 ]] {\r\n",
       "}\r\n",
       "comp def \"S\" as E6  <<(T,blue)state def>> [[psysml:f2a66a23-1197-47ed-b1bd-74e1ad61d6fd ]] {\r\n",
       "- - performActions - -\r\n",
       "act\r\n",
       "A\r\n",
       "B\r\n",
       "- - states - -\r\n",
       "S1\r\n",
       "- - transitions - -\r\n",
       "T\r\n",
       "}\r\n",
       "comp usage \"S2\" as E11  <<(T,blue)state>> [[psysml:f6369ddf-93b2-4791-a9ee-7d090a7e6258 ]] {\r\n",
       "- - sendActions - -\r\n",
       "doAction\r\n",
       "}\r\n",
       "E6 *- - E11 [[psysml:247e0169-6466-401b-83f0-032a7b21c539 ]] \r\n",
       "}\r\n",
       "@enduml\r\n",
       "\n",
       "PlantUML version 1.2020.13(Sat Jun 13 12:26:38 UTC 2020)\n",
       "(EPL source distribution)\n",
       "Java Runtime: OpenJDK Runtime Environment\n",
       "JVM: OpenJDK 64-Bit Server VM\n",
       "Default Encoding: UTF-8\n",
       "Language: en\n",
       "Country: null\n",
       "--></g></svg>"
      ]
     },
     "execution_count": 17,
     "metadata": {},
     "output_type": "execute_result"
    }
   ],
   "source": [
    "%viz --style=\"LR\" --view=\"Tree\" \"StateTest\""
   ]
  },
  {
   "cell_type": "code",
   "execution_count": 18,
   "id": "e2be354d",
   "metadata": {
    "execution": {
     "iopub.execute_input": "2021-04-21T20:23:42.288322Z",
     "iopub.status.busy": "2021-04-21T20:23:42.287911Z",
     "iopub.status.idle": "2021-04-21T20:23:42.332234Z",
     "shell.execute_reply": "2021-04-21T20:23:42.331849Z"
    }
   },
   "outputs": [
    {
     "data": {
      "image/svg+xml": [
       "<?xml version=\"1.0\" encoding=\"UTF-8\" standalone=\"no\"?><svg xmlns=\"http://www.w3.org/2000/svg\" xmlns:xlink=\"http://www.w3.org/1999/xlink\" contentScriptType=\"application/ecmascript\" contentStyleType=\"text/css\" height=\"241px\" preserveAspectRatio=\"none\" style=\"width:653px;height:241px;\" version=\"1.1\" viewBox=\"0 0 653 241\" width=\"653px\" zoomAndPan=\"magnify\"><defs/><g><!--MD5=[fbc87193dbaf4d95561dea2c320d4a47]\n",
       "cluster E1--><a href=\"psysml:f2a66a23-1197-47ed-b1bd-74e1ad61d6fd\" target=\"_top\" title=\"psysml:f2a66a23-1197-47ed-b1bd-74e1ad61d6fd\" xlink:actuate=\"onRequest\" xlink:href=\"psysml:f2a66a23-1197-47ed-b1bd-74e1ad61d6fd\" xlink:show=\"new\" xlink:title=\"psysml:f2a66a23-1197-47ed-b1bd-74e1ad61d6fd\" xlink:type=\"simple\"><rect fill=\"#FFFFFF\" height=\"223\" id=\"E1\" style=\"stroke: #383838; stroke-width: 1.5;\" width=\"634\" x=\"7\" y=\"7\"/><rect fill=\"#F8F8F8\" height=\"37.9375\" style=\"stroke: #383838; stroke-width: 1.5;\" width=\"634\" x=\"7\" y=\"7\"/><text fill=\"#000000\" font-family=\"sans-serif\" font-size=\"12\" font-style=\"italic\" lengthAdjust=\"spacingAndGlyphs\" textLength=\"71\" x=\"288.5\" y=\"23.1387\">«state def»</text><text fill=\"#000000\" font-family=\"sans-serif\" font-size=\"12\" lengthAdjust=\"spacingAndGlyphs\" textLength=\"8\" x=\"320\" y=\"37.1074\">S</text><line style=\"stroke: #383838; stroke-width: 1.0;\" x1=\"7\" x2=\"641\" y1=\"90.8438\" y2=\"90.8438\"/><text fill=\"#000000\" font-family=\"sans-serif\" font-size=\"12\" font-weight=\"bold\" lengthAdjust=\"spacingAndGlyphs\" textLength=\"38\" x=\"12\" y=\"58.0762\">entry</text><text fill=\"#000000\" font-family=\"sans-serif\" font-size=\"12\" lengthAdjust=\"spacingAndGlyphs\" textLength=\"16\" x=\"50\" y=\"58.0762\">/ A</text><text fill=\"#000000\" font-family=\"sans-serif\" font-size=\"12\" font-weight=\"bold\" lengthAdjust=\"spacingAndGlyphs\" textLength=\"18\" x=\"12\" y=\"72.0449\">do</text><text fill=\"#000000\" font-family=\"sans-serif\" font-size=\"12\" lengthAdjust=\"spacingAndGlyphs\" textLength=\"16\" x=\"30\" y=\"72.0449\">/ B</text><text fill=\"#000000\" font-family=\"sans-serif\" font-size=\"12\" font-weight=\"bold\" lengthAdjust=\"spacingAndGlyphs\" textLength=\"26\" x=\"12\" y=\"86.0137\">exit</text><text fill=\"#000000\" font-family=\"sans-serif\" font-size=\"12\" lengthAdjust=\"spacingAndGlyphs\" textLength=\"28\" x=\"38\" y=\"86.0137\">/ act</text></a><ellipse cx=\"33\" cy=\"152\" fill=\"#000000\" rx=\"10\" ry=\"10\" style=\"stroke: none; stroke-width: 1.0;\"/><ellipse cx=\"615\" cy=\"154\" fill=\"none\" rx=\"10\" ry=\"10\" style=\"stroke: #000000; stroke-width: 1.0;\"/><ellipse cx=\"615.5\" cy=\"154.5\" fill=\"#000000\" rx=\"6\" ry=\"6\" style=\"stroke: none; stroke-width: 1.0;\"/><g id=\"E1.E2\"><a href=\"psysml:0ffea2c5-2698-4589-991c-94f7ac5b0395\" target=\"_top\" title=\"psysml:0ffea2c5-2698-4589-991c-94f7ac5b0395\" xlink:actuate=\"onRequest\" xlink:href=\"psysml:0ffea2c5-2698-4589-991c-94f7ac5b0395\" xlink:show=\"new\" xlink:title=\"psysml:0ffea2c5-2698-4589-991c-94f7ac5b0395\" xlink:type=\"simple\"><rect fill=\"#FFFFFF\" height=\"40\" id=\"E2\" rx=\"10\" ry=\"10\" style=\"stroke: #383838; stroke-width: 1.5;\" width=\"50\" x=\"104\" y=\"132\"/><rect fill=\"#F8F8F8\" height=\"23.9688\" rx=\"10\" ry=\"10\" style=\"stroke: #F8F8F8; stroke-width: 1.5;\" width=\"50\" x=\"104\" y=\"132\"/><rect fill=\"#F8F8F8\" height=\"10\" style=\"stroke: #F8F8F8; stroke-width: 1.5;\" width=\"50\" x=\"104\" y=\"145.9688\"/><rect fill=\"none\" height=\"40\" id=\"E2\" rx=\"10\" ry=\"10\" style=\"stroke: #383838; stroke-width: 1.5;\" width=\"50\" x=\"104\" y=\"132\"/><text fill=\"#000000\" font-family=\"sans-serif\" font-size=\"12\" lengthAdjust=\"spacingAndGlyphs\" textLength=\"16\" x=\"121\" y=\"148.1387\">S1</text></a></g><g id=\"E1.E3\"><a href=\"psysml:f6369ddf-93b2-4791-a9ee-7d090a7e6258\" target=\"_top\" title=\"psysml:f6369ddf-93b2-4791-a9ee-7d090a7e6258\" xlink:actuate=\"onRequest\" xlink:href=\"psysml:f6369ddf-93b2-4791-a9ee-7d090a7e6258\" xlink:show=\"new\" xlink:title=\"psysml:f6369ddf-93b2-4791-a9ee-7d090a7e6258\" xlink:type=\"simple\"><rect fill=\"#FFFFFF\" height=\"47.9375\" id=\"E3\" rx=\"10\" ry=\"10\" style=\"stroke: #383838; stroke-width: 1.5;\" width=\"169\" x=\"351\" y=\"130\"/><rect fill=\"#F8F8F8\" height=\"23.9688\" rx=\"10\" ry=\"10\" style=\"stroke: #F8F8F8; stroke-width: 1.5;\" width=\"169\" x=\"351\" y=\"130\"/><rect fill=\"#F8F8F8\" height=\"10\" style=\"stroke: #F8F8F8; stroke-width: 1.5;\" width=\"169\" x=\"351\" y=\"143.9688\"/><rect fill=\"none\" height=\"47.9375\" id=\"E3\" rx=\"10\" ry=\"10\" style=\"stroke: #383838; stroke-width: 1.5;\" width=\"169\" x=\"351\" y=\"130\"/><text fill=\"#000000\" font-family=\"sans-serif\" font-size=\"12\" lengthAdjust=\"spacingAndGlyphs\" textLength=\"16\" x=\"427.5\" y=\"146.1387\">S2</text><line style=\"stroke: #383838; stroke-width: 1.0;\" x1=\"351\" x2=\"520\" y1=\"153.9688\" y2=\"153.9688\"/><text fill=\"#000000\" font-family=\"sans-serif\" font-size=\"12\" font-weight=\"bold\" lengthAdjust=\"spacingAndGlyphs\" textLength=\"18\" x=\"356\" y=\"167.1074\">do</text><text fill=\"#000000\" font-family=\"sans-serif\" font-size=\"12\" lengthAdjust=\"spacingAndGlyphs\" textLength=\"141\" x=\"374\" y=\"167.1074\">/  send Sig(T::s::x) to p</text></a></g><!--MD5=[cff944eb183b832d446717a4e202d613]\n",
       "link *start*E1 to E2--><a href=\"psysml:3d6f6111-a5f0-4f07-bf0a-543b5052b3c3\" target=\"_top\" title=\"psysml:3d6f6111-a5f0-4f07-bf0a-543b5052b3c3\" xlink:actuate=\"onRequest\" xlink:href=\"psysml:3d6f6111-a5f0-4f07-bf0a-543b5052b3c3\" xlink:show=\"new\" xlink:title=\"psysml:3d6f6111-a5f0-4f07-bf0a-543b5052b3c3\" xlink:type=\"simple\"><path d=\"M43.01,152 C55.7,152 79.41,152 98.57,152 \" fill=\"none\" id=\"*start*E1-&gt;E2\" style=\"stroke: #383838; stroke-width: 1.0;\"/><polygon fill=\"#383838\" points=\"103.84,152,94.84,148,98.84,152,94.84,156,103.84,152\" style=\"stroke: #383838; stroke-width: 1.0;\"/></a><!--MD5=[9ee7afa76ca8c509b3d216624c3a9893]\n",
       "link E3 to *end*E1--><a href=\"psysml:374875bf-0004-40f7-bedc-1374d527cde5\" target=\"_top\" title=\"psysml:374875bf-0004-40f7-bedc-1374d527cde5\" xlink:actuate=\"onRequest\" xlink:href=\"psysml:374875bf-0004-40f7-bedc-1374d527cde5\" xlink:show=\"new\" xlink:title=\"psysml:374875bf-0004-40f7-bedc-1374d527cde5\" xlink:type=\"simple\"><path d=\"M520.05,154 C550.69,154 582.16,154 599.78,154 \" fill=\"none\" id=\"E3-&gt;*end*E1\" style=\"stroke: #383838; stroke-width: 1.0;\"/><polygon fill=\"#383838\" points=\"604.79,154,595.79,150,599.79,154,595.79,158,604.79,154\" style=\"stroke: #383838; stroke-width: 1.0;\"/><text fill=\"#000000\" font-family=\"sans-serif\" font-size=\"13\" lengthAdjust=\"spacingAndGlyphs\" textLength=\"23\" x=\"551\" y=\"150.0669\">Exit</text></a><!--MD5=[2720a5a1f2c3fca2055b230370638851]\n",
       "link E2 to E3--><a href=\"psysml:69f1494c-077d-4519-8343-87cce73be713\" target=\"_top\" title=\"psysml:69f1494c-077d-4519-8343-87cce73be713\" xlink:actuate=\"onRequest\" xlink:href=\"psysml:69f1494c-077d-4519-8343-87cce73be713\" xlink:show=\"new\" xlink:title=\"psysml:69f1494c-077d-4519-8343-87cce73be713\" xlink:type=\"simple\"><path d=\"M154.15,168.85 C163.11,174.14 173.62,179.31 184,182 C237.24,195.8 298.58,189.3 347.24,179.11 \" fill=\"none\" id=\"E2-&gt;E3\" style=\"stroke: #383838; stroke-width: 1.0;\"/><polygon fill=\"#383838\" points=\"352.21,178.04,342.5733,176.0069,347.3202,179.0837,344.2433,183.8306,352.21,178.04\" style=\"stroke: #383838; stroke-width: 1.0;\"/><text fill=\"#000000\" font-family=\"sans-serif\" font-size=\"13\" lengthAdjust=\"spacingAndGlyphs\" textLength=\"81\" x=\"212\" y=\"178.0669\">Sig /action D</text></a><!--MD5=[05d275557350bfb9b23a4ef7222b4c39]\n",
       "link E3 to E2--><a href=\"psysml:f8d53726-bfe5-4353-91f3-ae2ef06d9a38\" target=\"_top\" title=\"psysml:f8d53726-bfe5-4353-91f3-ae2ef06d9a38\" xlink:actuate=\"onRequest\" xlink:href=\"psysml:f8d53726-bfe5-4353-91f3-ae2ef06d9a38\" xlink:show=\"new\" xlink:title=\"psysml:f8d53726-bfe5-4353-91f3-ae2ef06d9a38\" xlink:type=\"simple\"><path d=\"M350.81,153.45 C287.05,153.03 203,152.48 159.28,152.19 \" fill=\"none\" id=\"E3-&gt;E2\" style=\"stroke: #383838; stroke-width: 1.0;\"/><polygon fill=\"#383838\" points=\"154.15,152.16,163.127,156.2114,159.1499,152.1886,163.1727,148.2115,154.15,152.16\" style=\"stroke: #383838; stroke-width: 1.0;\"/><text fill=\"#000000\" font-family=\"sans-serif\" font-size=\"13\" lengthAdjust=\"spacingAndGlyphs\" textLength=\"135\" x=\"185\" y=\"149.0669\">Sig [true]/send s to p</text></a><!--MD5=[3d073e2f621eb6d078347790a4ade047]\n",
       "@startuml\r\n",
       "left to right direction\r\n",
       "skinparam monochrome true\r\n",
       "skinparam classbackgroundcolor white\r\n",
       "skinparam shadowing false\r\n",
       "skinparam wrapWidth 300\r\n",
       "hide circle\r\n",
       "\r\n",
       "rec def \"S\" as E1  <<(T,blue)state def>> [[psysml:f2a66a23-1197-47ed-b1bd-74e1ad61d6fd ]] {\r\n",
       "rec usage \"S1\" as E2 [[psysml:0ffea2c5-2698-4589-991c-94f7ac5b0395 ]] {\r\n",
       "}\r\n",
       "\r\n",
       "rec usage \"S2\" as E3 [[psysml:f6369ddf-93b2-4791-a9ee-7d090a7e6258 ]] {\r\n",
       "desc \"S2\" as E3  : **do**/  send Sig(T::s::x) to p\r\n",
       "}\r\n",
       "\r\n",
       "desc \"S\" as E1  : **entry**/ A\r\n",
       "desc \"S\" as E1  : **do**/ B\r\n",
       "desc \"S\" as E1  : **exit**/ act \r\n",
       "[*] - -> E2 [[psysml:3d6f6111-a5f0-4f07-bf0a-543b5052b3c3 ]] \r\n",
       "E3  - -> [*] [[psysml:374875bf-0004-40f7-bedc-1374d527cde5 ]] : Exit \r\n",
       "}\r\n",
       "\r\n",
       "E2  - -> E3 [[psysml:69f1494c-077d-4519-8343-87cce73be713 ]] : Sig /action D\r\n",
       "E3  - -> E2 [[psysml:f8d53726-bfe5-4353-91f3-ae2ef06d9a38 ]] : Sig [true]/send s to p\r\n",
       "@enduml\r\n",
       "\n",
       "PlantUML version 1.2020.13(Sat Jun 13 12:26:38 UTC 2020)\n",
       "(EPL source distribution)\n",
       "Java Runtime: OpenJDK Runtime Environment\n",
       "JVM: OpenJDK 64-Bit Server VM\n",
       "Default Encoding: UTF-8\n",
       "Language: en\n",
       "Country: null\n",
       "--></g></svg>"
      ]
     },
     "execution_count": 18,
     "metadata": {},
     "output_type": "execute_result"
    }
   ],
   "source": [
    "%viz --style=\"LR\" --view=\"State\" \"StateTest\""
   ]
  },
  {
   "cell_type": "code",
   "execution_count": 19,
   "id": "b0c09589",
   "metadata": {
    "execution": {
     "iopub.execute_input": "2021-04-21T20:23:42.382649Z",
     "iopub.status.busy": "2021-04-21T20:23:42.382115Z",
     "iopub.status.idle": "2021-04-21T20:23:42.427595Z",
     "shell.execute_reply": "2021-04-21T20:23:42.426011Z"
    }
   },
   "outputs": [
    {
     "data": {
      "image/svg+xml": [
       "<?xml version=\"1.0\" encoding=\"UTF-8\" standalone=\"no\"?><svg xmlns=\"http://www.w3.org/2000/svg\" xmlns:xlink=\"http://www.w3.org/1999/xlink\" contentScriptType=\"application/ecmascript\" contentStyleType=\"text/css\" height=\"592px\" preserveAspectRatio=\"none\" style=\"width:644px;height:592px;\" version=\"1.1\" viewBox=\"0 0 644 592\" width=\"644px\" zoomAndPan=\"magnify\"><defs/><g><!--MD5=[fbc87193dbaf4d95561dea2c320d4a47]\n",
       "cluster E1--><a href=\"psysml:800f45c9-cf5c-46ce-b3c3-487778cd6319\" target=\"_top\" title=\"psysml:800f45c9-cf5c-46ce-b3c3-487778cd6319\" xlink:actuate=\"onRequest\" xlink:href=\"psysml:800f45c9-cf5c-46ce-b3c3-487778cd6319\" xlink:show=\"new\" xlink:title=\"psysml:800f45c9-cf5c-46ce-b3c3-487778cd6319\" xlink:type=\"simple\"><polygon fill=\"#FFFFFF\" points=\"16,6,98,6,105,28.2969,622,28.2969,622,580,16,580,16,6\" style=\"stroke: #000000; stroke-width: 1.5;\"/><line style=\"stroke: #000000; stroke-width: 1.5;\" x1=\"16\" x2=\"105\" y1=\"28.2969\" y2=\"28.2969\"/><text fill=\"#000000\" font-family=\"sans-serif\" font-size=\"14\" font-weight=\"bold\" lengthAdjust=\"spacingAndGlyphs\" textLength=\"76\" x=\"20\" y=\"20.9951\">StateTest</text></a><!--MD5=[14e3b0961a2654348d326746436168a1]\n",
       "cluster E6--><a href=\"psysml:f2a66a23-1197-47ed-b1bd-74e1ad61d6fd\" target=\"_top\" title=\"psysml:f2a66a23-1197-47ed-b1bd-74e1ad61d6fd\" xlink:actuate=\"onRequest\" xlink:href=\"psysml:f2a66a23-1197-47ed-b1bd-74e1ad61d6fd\" xlink:show=\"new\" xlink:title=\"psysml:f2a66a23-1197-47ed-b1bd-74e1ad61d6fd\" xlink:type=\"simple\"><rect fill=\"#FFFFFF\" height=\"223\" id=\"E6\" style=\"stroke: #383838; stroke-width: 1.5;\" width=\"542\" x=\"56\" y=\"49\"/><rect fill=\"#F8F8F8\" height=\"37.9375\" style=\"stroke: #383838; stroke-width: 1.5;\" width=\"542\" x=\"56\" y=\"49\"/><text fill=\"#000000\" font-family=\"sans-serif\" font-size=\"12\" font-style=\"italic\" lengthAdjust=\"spacingAndGlyphs\" textLength=\"71\" x=\"291.5\" y=\"65.1387\">«state def»</text><text fill=\"#000000\" font-family=\"sans-serif\" font-size=\"12\" lengthAdjust=\"spacingAndGlyphs\" textLength=\"8\" x=\"323\" y=\"79.1074\">S</text><line style=\"stroke: #383838; stroke-width: 1.0;\" x1=\"56\" x2=\"598\" y1=\"132.8438\" y2=\"132.8438\"/><text fill=\"#000000\" font-family=\"sans-serif\" font-size=\"12\" font-weight=\"bold\" lengthAdjust=\"spacingAndGlyphs\" textLength=\"38\" x=\"61\" y=\"100.0762\">entry</text><text fill=\"#000000\" font-family=\"sans-serif\" font-size=\"12\" lengthAdjust=\"spacingAndGlyphs\" textLength=\"16\" x=\"99\" y=\"100.0762\">/ A</text><text fill=\"#000000\" font-family=\"sans-serif\" font-size=\"12\" font-weight=\"bold\" lengthAdjust=\"spacingAndGlyphs\" textLength=\"18\" x=\"61\" y=\"114.0449\">do</text><text fill=\"#000000\" font-family=\"sans-serif\" font-size=\"12\" lengthAdjust=\"spacingAndGlyphs\" textLength=\"16\" x=\"79\" y=\"114.0449\">/ B</text><text fill=\"#000000\" font-family=\"sans-serif\" font-size=\"12\" font-weight=\"bold\" lengthAdjust=\"spacingAndGlyphs\" textLength=\"26\" x=\"61\" y=\"128.0137\">exit</text><text fill=\"#000000\" font-family=\"sans-serif\" font-size=\"12\" lengthAdjust=\"spacingAndGlyphs\" textLength=\"28\" x=\"87\" y=\"128.0137\">/ act</text></a><g id=\"E1.E2\"><a href=\"psysml:f1048496-f45f-4de3-be42-17169da36fba\" target=\"_top\" title=\"psysml:f1048496-f45f-4de3-be42-17169da36fba\" xlink:actuate=\"onRequest\" xlink:href=\"psysml:f1048496-f45f-4de3-be42-17169da36fba\" xlink:show=\"new\" xlink:title=\"psysml:f1048496-f45f-4de3-be42-17169da36fba\" xlink:type=\"simple\"><rect fill=\"#FFFFFF\" height=\"42.9375\" id=\"E2\" style=\"stroke: #383838; stroke-width: 1.5;\" width=\"100\" x=\"32\" y=\"288.5\"/><rect fill=\"#F8F8F8\" height=\"37.9375\" style=\"stroke: #383838; stroke-width: 1.5;\" width=\"100\" x=\"32\" y=\"288.5\"/><text fill=\"#000000\" font-family=\"sans-serif\" font-size=\"12\" font-style=\"italic\" lengthAdjust=\"spacingAndGlyphs\" textLength=\"93\" x=\"35.5\" y=\"304.6387\">«attribute def»</text><text fill=\"#000000\" font-family=\"sans-serif\" font-size=\"12\" lengthAdjust=\"spacingAndGlyphs\" textLength=\"19\" x=\"72.5\" y=\"318.6074\">Sig</text></a></g><g id=\"E1.E3\"><a href=\"psysml:546c6a0a-79ca-4224-b50a-77e407cae485\" target=\"_top\" title=\"psysml:546c6a0a-79ca-4224-b50a-77e407cae485\" xlink:actuate=\"onRequest\" xlink:href=\"psysml:546c6a0a-79ca-4224-b50a-77e407cae485\" xlink:show=\"new\" xlink:title=\"psysml:546c6a0a-79ca-4224-b50a-77e407cae485\" xlink:type=\"simple\"><rect fill=\"#FFFFFF\" height=\"42.9375\" id=\"E3\" style=\"stroke: #383838; stroke-width: 1.5;\" width=\"100\" x=\"32\" y=\"366.5\"/><rect fill=\"#F8F8F8\" height=\"37.9375\" style=\"stroke: #383838; stroke-width: 1.5;\" width=\"100\" x=\"32\" y=\"366.5\"/><text fill=\"#000000\" font-family=\"sans-serif\" font-size=\"12\" font-style=\"italic\" lengthAdjust=\"spacingAndGlyphs\" textLength=\"93\" x=\"35.5\" y=\"382.6387\">«attribute def»</text><text fill=\"#000000\" font-family=\"sans-serif\" font-size=\"12\" lengthAdjust=\"spacingAndGlyphs\" textLength=\"22\" x=\"71\" y=\"396.6074\">Exit</text></a></g><g id=\"E1.E4\"><a href=\"psysml:4710131f-7c31-45d9-a6fe-10a60fc8490a\" target=\"_top\" title=\"psysml:4710131f-7c31-45d9-a6fe-10a60fc8490a\" xlink:actuate=\"onRequest\" xlink:href=\"psysml:4710131f-7c31-45d9-a6fe-10a60fc8490a\" xlink:show=\"new\" xlink:title=\"psysml:4710131f-7c31-45d9-a6fe-10a60fc8490a\" xlink:type=\"simple\"><rect fill=\"#FFFFFF\" height=\"40\" id=\"E4\" rx=\"10\" ry=\"10\" style=\"stroke: #383838; stroke-width: 1.5;\" width=\"50\" x=\"57\" y=\"445\"/><rect fill=\"#F8F8F8\" height=\"23.9688\" rx=\"10\" ry=\"10\" style=\"stroke: #F8F8F8; stroke-width: 1.5;\" width=\"50\" x=\"57\" y=\"445\"/><rect fill=\"#F8F8F8\" height=\"10\" style=\"stroke: #F8F8F8; stroke-width: 1.5;\" width=\"50\" x=\"57\" y=\"458.9688\"/><rect fill=\"none\" height=\"40\" id=\"E4\" rx=\"10\" ry=\"10\" style=\"stroke: #383838; stroke-width: 1.5;\" width=\"50\" x=\"57\" y=\"445\"/><text fill=\"#000000\" font-family=\"sans-serif\" font-size=\"12\" lengthAdjust=\"spacingAndGlyphs\" textLength=\"8\" x=\"78\" y=\"461.1387\">p</text></a></g><g id=\"E1.E5\"><a href=\"psysml:0b92cdb5-3694-4434-adff-e0b2149bd4e6\" target=\"_top\" title=\"psysml:0b92cdb5-3694-4434-adff-e0b2149bd4e6\" xlink:actuate=\"onRequest\" xlink:href=\"psysml:0b92cdb5-3694-4434-adff-e0b2149bd4e6\" xlink:show=\"new\" xlink:title=\"psysml:0b92cdb5-3694-4434-adff-e0b2149bd4e6\" xlink:type=\"simple\"><rect fill=\"#FFFFFF\" height=\"42.9375\" id=\"E5\" rx=\"10\" ry=\"10\" style=\"stroke: #383838; stroke-width: 1.5;\" width=\"60\" x=\"52\" y=\"520.5\"/><rect fill=\"#F8F8F8\" height=\"37.9375\" rx=\"10\" ry=\"10\" style=\"stroke: #F8F8F8; stroke-width: 1.5;\" width=\"60\" x=\"52\" y=\"520.5\"/><rect fill=\"#F8F8F8\" height=\"10\" style=\"stroke: #F8F8F8; stroke-width: 1.5;\" width=\"60\" x=\"52\" y=\"548.4375\"/><rect fill=\"none\" height=\"42.9375\" id=\"E5\" rx=\"10\" ry=\"10\" style=\"stroke: #383838; stroke-width: 1.5;\" width=\"60\" x=\"52\" y=\"520.5\"/><text fill=\"#000000\" font-family=\"sans-serif\" font-size=\"12\" font-style=\"italic\" lengthAdjust=\"spacingAndGlyphs\" textLength=\"53\" x=\"55.5\" y=\"536.6387\">«action»</text><text fill=\"#000000\" font-family=\"sans-serif\" font-size=\"12\" lengthAdjust=\"spacingAndGlyphs\" textLength=\"20\" x=\"72\" y=\"550.6074\">act</text></a></g><ellipse cx=\"82\" cy=\"194\" fill=\"#000000\" rx=\"10\" ry=\"10\" style=\"stroke: none; stroke-width: 1.0;\"/><ellipse cx=\"572\" cy=\"196\" fill=\"none\" rx=\"10\" ry=\"10\" style=\"stroke: #000000; stroke-width: 1.0;\"/><ellipse cx=\"572.5\" cy=\"196.5\" fill=\"#000000\" rx=\"6\" ry=\"6\" style=\"stroke: none; stroke-width: 1.0;\"/><g id=\"E1.E6.E7\"><a href=\"psysml:0ffea2c5-2698-4589-991c-94f7ac5b0395\" target=\"_top\" title=\"psysml:0ffea2c5-2698-4589-991c-94f7ac5b0395\" xlink:actuate=\"onRequest\" xlink:href=\"psysml:0ffea2c5-2698-4589-991c-94f7ac5b0395\" xlink:show=\"new\" xlink:title=\"psysml:0ffea2c5-2698-4589-991c-94f7ac5b0395\" xlink:type=\"simple\"><rect fill=\"#FFFFFF\" height=\"40\" id=\"E7\" rx=\"10\" ry=\"10\" style=\"stroke: #383838; stroke-width: 1.5;\" width=\"50\" x=\"149\" y=\"174\"/><rect fill=\"#F8F8F8\" height=\"23.9688\" rx=\"10\" ry=\"10\" style=\"stroke: #F8F8F8; stroke-width: 1.5;\" width=\"50\" x=\"149\" y=\"174\"/><rect fill=\"#F8F8F8\" height=\"10\" style=\"stroke: #F8F8F8; stroke-width: 1.5;\" width=\"50\" x=\"149\" y=\"187.9688\"/><rect fill=\"none\" height=\"40\" id=\"E7\" rx=\"10\" ry=\"10\" style=\"stroke: #383838; stroke-width: 1.5;\" width=\"50\" x=\"149\" y=\"174\"/><text fill=\"#000000\" font-family=\"sans-serif\" font-size=\"12\" lengthAdjust=\"spacingAndGlyphs\" textLength=\"16\" x=\"166\" y=\"190.1387\">S1</text></a></g><g id=\"E1.E6.E8\"><a href=\"psysml:f6369ddf-93b2-4791-a9ee-7d090a7e6258\" target=\"_top\" title=\"psysml:f6369ddf-93b2-4791-a9ee-7d090a7e6258\" xlink:actuate=\"onRequest\" xlink:href=\"psysml:f6369ddf-93b2-4791-a9ee-7d090a7e6258\" xlink:show=\"new\" xlink:title=\"psysml:f6369ddf-93b2-4791-a9ee-7d090a7e6258\" xlink:type=\"simple\"><rect fill=\"#FFFFFF\" height=\"47.9375\" id=\"E8\" rx=\"10\" ry=\"10\" style=\"stroke: #383838; stroke-width: 1.5;\" width=\"169\" x=\"352\" y=\"172\"/><rect fill=\"#F8F8F8\" height=\"23.9688\" rx=\"10\" ry=\"10\" style=\"stroke: #F8F8F8; stroke-width: 1.5;\" width=\"169\" x=\"352\" y=\"172\"/><rect fill=\"#F8F8F8\" height=\"10\" style=\"stroke: #F8F8F8; stroke-width: 1.5;\" width=\"169\" x=\"352\" y=\"185.9688\"/><rect fill=\"none\" height=\"47.9375\" id=\"E8\" rx=\"10\" ry=\"10\" style=\"stroke: #383838; stroke-width: 1.5;\" width=\"169\" x=\"352\" y=\"172\"/><text fill=\"#000000\" font-family=\"sans-serif\" font-size=\"12\" lengthAdjust=\"spacingAndGlyphs\" textLength=\"16\" x=\"428.5\" y=\"188.1387\">S2</text><line style=\"stroke: #383838; stroke-width: 1.0;\" x1=\"352\" x2=\"521\" y1=\"195.9688\" y2=\"195.9688\"/><text fill=\"#000000\" font-family=\"sans-serif\" font-size=\"12\" font-weight=\"bold\" lengthAdjust=\"spacingAndGlyphs\" textLength=\"18\" x=\"357\" y=\"209.1074\">do</text><text fill=\"#000000\" font-family=\"sans-serif\" font-size=\"12\" lengthAdjust=\"spacingAndGlyphs\" textLength=\"141\" x=\"375\" y=\"209.1074\">/  send Sig(T::s::x) to p</text></a></g><!--MD5=[5a531d3a85f3339e6e197084acb48195]\n",
       "link *start*E6 to E7--><a href=\"psysml:3d6f6111-a5f0-4f07-bf0a-543b5052b3c3\" target=\"_top\" title=\"psysml:3d6f6111-a5f0-4f07-bf0a-543b5052b3c3\" xlink:actuate=\"onRequest\" xlink:href=\"psysml:3d6f6111-a5f0-4f07-bf0a-543b5052b3c3\" xlink:show=\"new\" xlink:title=\"psysml:3d6f6111-a5f0-4f07-bf0a-543b5052b3c3\" xlink:type=\"simple\"><path d=\"M92.29,194 C104.26,194 125.63,194 143.37,194 \" fill=\"none\" id=\"*start*E6-&gt;E7\" style=\"stroke: #383838; stroke-width: 1.0;\"/><polygon fill=\"#383838\" points=\"148.75,194,139.75,190,143.75,194,139.75,198,148.75,194\" style=\"stroke: #383838; stroke-width: 1.0;\"/></a><!--MD5=[7ec9a8babba89ddcae1318ca9fb3c814]\n",
       "link E8 to *end*E6--><a href=\"psysml:374875bf-0004-40f7-bedc-1374d527cde5\" target=\"_top\" title=\"psysml:374875bf-0004-40f7-bedc-1374d527cde5\" xlink:actuate=\"onRequest\" xlink:href=\"psysml:374875bf-0004-40f7-bedc-1374d527cde5\" xlink:show=\"new\" xlink:title=\"psysml:374875bf-0004-40f7-bedc-1374d527cde5\" xlink:type=\"simple\"><path d=\"M521.29,196 C534.83,196 547.36,196 556.45,196 \" fill=\"none\" id=\"E8-&gt;*end*E6\" style=\"stroke: #383838; stroke-width: 1.0;\"/><polygon fill=\"#383838\" points=\"561.65,196,552.65,192,556.65,196,552.65,200,561.65,196\" style=\"stroke: #383838; stroke-width: 1.0;\"/><text fill=\"#000000\" font-family=\"sans-serif\" font-size=\"13\" lengthAdjust=\"spacingAndGlyphs\" textLength=\"23\" x=\"530\" y=\"192.0669\">Exit</text></a><!--MD5=[79bc8f324ef4d02c541433f2e6e513c3]\n",
       "link E7 to E8--><a href=\"psysml:69f1494c-077d-4519-8343-87cce73be713\" target=\"_top\" title=\"psysml:69f1494c-077d-4519-8343-87cce73be713\" xlink:actuate=\"onRequest\" xlink:href=\"psysml:69f1494c-077d-4519-8343-87cce73be713\" xlink:show=\"new\" xlink:title=\"psysml:69f1494c-077d-4519-8343-87cce73be713\" xlink:type=\"simple\"><path d=\"M191.89,214.17 C196.35,218.18 201.48,221.82 207,224 C263.62,246.39 283.78,233.01 344,224 C348.99,223.25 354.08,222.29 359.19,221.17 \" fill=\"none\" id=\"E7-&gt;E8\" style=\"stroke: #383838; stroke-width: 1.0;\"/><polygon fill=\"#383838\" points=\"364.29,220,354.6247,218.1075,359.4159,221.1149,356.4085,225.9061,364.29,220\" style=\"stroke: #383838; stroke-width: 1.0;\"/><text fill=\"#000000\" font-family=\"sans-serif\" font-size=\"13\" lengthAdjust=\"spacingAndGlyphs\" textLength=\"81\" x=\"235\" y=\"220.0669\">Sig /action D</text></a><!--MD5=[bfa3c8b0d15052fdf50ae9310b491027]\n",
       "link E8 to E7--><a href=\"psysml:f8d53726-bfe5-4353-91f3-ae2ef06d9a38\" target=\"_top\" title=\"psysml:f8d53726-bfe5-4353-91f3-ae2ef06d9a38\" xlink:actuate=\"onRequest\" xlink:href=\"psysml:f8d53726-bfe5-4353-91f3-ae2ef06d9a38\" xlink:show=\"new\" xlink:title=\"psysml:f8d53726-bfe5-4353-91f3-ae2ef06d9a38\" xlink:type=\"simple\"><path d=\"M351.8,195.36 C301.1,194.97 239.57,194.5 204.08,194.22 \" fill=\"none\" id=\"E8-&gt;E7\" style=\"stroke: #383838; stroke-width: 1.0;\"/><polygon fill=\"#383838\" points=\"199.04,194.18,208.017,198.2314,204.0399,194.2086,208.0627,190.2315,199.04,194.18\" style=\"stroke: #383838; stroke-width: 1.0;\"/><text fill=\"#000000\" font-family=\"sans-serif\" font-size=\"13\" lengthAdjust=\"spacingAndGlyphs\" textLength=\"135\" x=\"208\" y=\"191.0669\">Sig [true]/send s to p</text></a><!--MD5=[869328fff6ea1400ae03e1cfa3735735]\n",
       "@startuml\r\n",
       "skinparam ranksep 10\r\n",
       "skinparam rectangle {\r\n",
       " backgroundColor<<block>> LightGreen\r\n",
       "}\r\n",
       "left to right direction\r\n",
       "skinparam monochrome true\r\n",
       "skinparam classbackgroundcolor white\r\n",
       "skinparam shadowing false\r\n",
       "skinparam wrapWidth 300\r\n",
       "hide circle\r\n",
       "\r\n",
       "package \"StateTest\" as E1  [[psysml:800f45c9-cf5c-46ce-b3c3-487778cd6319 ]]  {\r\n",
       "def \"Sig\" as E2  <<(T,blue)attribute def>> [[psysml:f1048496-f45f-4de3-be42-17169da36fba ]] \r\n",
       "def \"Exit\" as E3  <<(T,blue)attribute def>> [[psysml:546c6a0a-79ca-4224-b50a-77e407cae485 ]] \r\n",
       "rec usage \"p\" as E4  [[psysml:4710131f-7c31-45d9-a6fe-10a60fc8490a ]] {\r\n",
       "}\r\n",
       "rec usage \"act\" as E5  <<(T,blue)action>> [[psysml:0b92cdb5-3694-4434-adff-e0b2149bd4e6 ]] {\r\n",
       "}\r\n",
       "\r\n",
       "rec def \"S\" as E6  <<(T,blue)state def>> [[psysml:f2a66a23-1197-47ed-b1bd-74e1ad61d6fd ]] {\r\n",
       "rec usage \"S1\" as E7 [[psysml:0ffea2c5-2698-4589-991c-94f7ac5b0395 ]] {\r\n",
       "}\r\n",
       "\r\n",
       "rec usage \"S2\" as E8 [[psysml:f6369ddf-93b2-4791-a9ee-7d090a7e6258 ]] {\r\n",
       "desc \"S2\" as E8  : **do**/  send Sig(T::s::x) to p\r\n",
       "}\r\n",
       "\r\n",
       "desc \"S\" as E6  : **entry**/ A\r\n",
       "desc \"S\" as E6  : **do**/ B\r\n",
       "desc \"S\" as E6  : **exit**/ act \r\n",
       "[*] - -> E7 [[psysml:3d6f6111-a5f0-4f07-bf0a-543b5052b3c3 ]] \r\n",
       "E8  - -> [*] [[psysml:374875bf-0004-40f7-bedc-1374d527cde5 ]] : Exit \r\n",
       "}\r\n",
       "\r\n",
       "E7  - -> E8 [[psysml:69f1494c-077d-4519-8343-87cce73be713 ]] : Sig /action D\r\n",
       "E8  - -> E7 [[psysml:f8d53726-bfe5-4353-91f3-ae2ef06d9a38 ]] : Sig [true]/send s to p\r\n",
       "}\r\n",
       "@enduml\r\n",
       "\n",
       "PlantUML version 1.2020.13(Sat Jun 13 12:26:38 UTC 2020)\n",
       "(EPL source distribution)\n",
       "Java Runtime: OpenJDK Runtime Environment\n",
       "JVM: OpenJDK 64-Bit Server VM\n",
       "Default Encoding: UTF-8\n",
       "Language: en\n",
       "Country: null\n",
       "--></g></svg>"
      ]
     },
     "execution_count": 19,
     "metadata": {},
     "output_type": "execute_result"
    }
   ],
   "source": [
    "%viz --style=\"LR\" --view=\"Interconnection\" \"StateTest\""
   ]
  },
  {
   "cell_type": "code",
   "execution_count": 20,
   "id": "ad3e70d3",
   "metadata": {
    "execution": {
     "iopub.execute_input": "2021-04-21T20:23:42.477899Z",
     "iopub.status.busy": "2021-04-21T20:23:42.477503Z",
     "iopub.status.idle": "2021-04-21T20:23:42.524918Z",
     "shell.execute_reply": "2021-04-21T20:23:42.524425Z"
    }
   },
   "outputs": [
    {
     "data": {
      "image/svg+xml": [
       "<?xml version=\"1.0\" encoding=\"UTF-8\" standalone=\"no\"?><svg xmlns=\"http://www.w3.org/2000/svg\" xmlns:xlink=\"http://www.w3.org/1999/xlink\" contentScriptType=\"application/ecmascript\" contentStyleType=\"text/css\" height=\"401px\" preserveAspectRatio=\"none\" style=\"width:656px;height:401px;\" version=\"1.1\" viewBox=\"0 0 656 401\" width=\"656px\" zoomAndPan=\"magnify\"><defs/><g><!--MD5=[e4f7fae6ed58524ba242bb0b0d3be6b7]\n",
       "cluster E2--><a href=\"psysml:f2a66a23-1197-47ed-b1bd-74e1ad61d6fd\" target=\"_top\" title=\"psysml:f2a66a23-1197-47ed-b1bd-74e1ad61d6fd\" xlink:actuate=\"onRequest\" xlink:href=\"psysml:f2a66a23-1197-47ed-b1bd-74e1ad61d6fd\" xlink:show=\"new\" xlink:title=\"psysml:f2a66a23-1197-47ed-b1bd-74e1ad61d6fd\" xlink:type=\"simple\"><rect fill=\"#FFFFFF\" height=\"322\" id=\"E2\" style=\"stroke: #383838; stroke-width: 1.5;\" width=\"638\" x=\"7\" y=\"7\"/><rect fill=\"#F8F8F8\" height=\"37.9375\" style=\"stroke: #383838; stroke-width: 1.5;\" width=\"638\" x=\"7\" y=\"7\"/><text fill=\"#000000\" font-family=\"sans-serif\" font-size=\"12\" font-style=\"italic\" lengthAdjust=\"spacingAndGlyphs\" textLength=\"71\" x=\"290.5\" y=\"23.1387\">«state def»</text><text fill=\"#000000\" font-family=\"sans-serif\" font-size=\"12\" lengthAdjust=\"spacingAndGlyphs\" textLength=\"8\" x=\"322\" y=\"37.1074\">S</text></a><!--MD5=[168fadf3d0c3fd93dd5d6da1b1d7ab76]\n",
       "cluster E7--><a href=\"psysml:f6369ddf-93b2-4791-a9ee-7d090a7e6258\" target=\"_top\" title=\"psysml:f6369ddf-93b2-4791-a9ee-7d090a7e6258\" xlink:actuate=\"onRequest\" xlink:href=\"psysml:f6369ddf-93b2-4791-a9ee-7d090a7e6258\" xlink:show=\"new\" xlink:title=\"psysml:f6369ddf-93b2-4791-a9ee-7d090a7e6258\" xlink:type=\"simple\"><rect fill=\"#FFFFFF\" height=\"158\" id=\"E7\" rx=\"10\" ry=\"10\" style=\"stroke: #383838; stroke-width: 1.5;\" width=\"176\" x=\"376\" y=\"74\"/><rect fill=\"#F8F8F8\" height=\"37.9375\" rx=\"10\" ry=\"10\" style=\"stroke: #F8F8F8; stroke-width: 1.5;\" width=\"176\" x=\"376\" y=\"74\"/><rect fill=\"#F8F8F8\" height=\"10\" style=\"stroke: #F8F8F8; stroke-width: 1.5;\" width=\"176\" x=\"376\" y=\"101.9375\"/><rect fill=\"none\" height=\"158\" id=\"E7\" rx=\"10\" ry=\"10\" style=\"stroke: #383838; stroke-width: 1.5;\" width=\"176\" x=\"376\" y=\"74\"/><text fill=\"#000000\" font-family=\"sans-serif\" font-size=\"12\" font-style=\"italic\" lengthAdjust=\"spacingAndGlyphs\" textLength=\"47\" x=\"440.5\" y=\"90.1387\">«state»</text><text fill=\"#000000\" font-family=\"sans-serif\" font-size=\"12\" lengthAdjust=\"spacingAndGlyphs\" textLength=\"16\" x=\"456\" y=\"104.1074\">S2</text><line style=\"stroke: #383838; stroke-width: 1.0;\" x1=\"376\" x2=\"552\" y1=\"111.9375\" y2=\"111.9375\"/></a><g id=\"E1\"><a href=\"psysml:0b92cdb5-3694-4434-adff-e0b2149bd4e6\" target=\"_top\" title=\"psysml:0b92cdb5-3694-4434-adff-e0b2149bd4e6\" xlink:actuate=\"onRequest\" xlink:href=\"psysml:0b92cdb5-3694-4434-adff-e0b2149bd4e6\" xlink:show=\"new\" xlink:title=\"psysml:0b92cdb5-3694-4434-adff-e0b2149bd4e6\" xlink:type=\"simple\"><rect fill=\"#FFFFFF\" height=\"42.9375\" id=\"E1\" rx=\"10\" ry=\"10\" style=\"stroke: #383838; stroke-width: 1.5;\" width=\"60\" x=\"49.5\" y=\"347.5\"/><rect fill=\"#F8F8F8\" height=\"37.9375\" rx=\"10\" ry=\"10\" style=\"stroke: #F8F8F8; stroke-width: 1.5;\" width=\"60\" x=\"49.5\" y=\"347.5\"/><rect fill=\"#F8F8F8\" height=\"10\" style=\"stroke: #F8F8F8; stroke-width: 1.5;\" width=\"60\" x=\"49.5\" y=\"375.4375\"/><rect fill=\"none\" height=\"42.9375\" id=\"E1\" rx=\"10\" ry=\"10\" style=\"stroke: #383838; stroke-width: 1.5;\" width=\"60\" x=\"49.5\" y=\"347.5\"/><text fill=\"#000000\" font-family=\"sans-serif\" font-size=\"12\" font-style=\"italic\" lengthAdjust=\"spacingAndGlyphs\" textLength=\"53\" x=\"53\" y=\"363.6387\">«action»</text><text fill=\"#000000\" font-family=\"sans-serif\" font-size=\"12\" lengthAdjust=\"spacingAndGlyphs\" textLength=\"20\" x=\"69.5\" y=\"377.6074\">act</text></a></g><ellipse cx=\"79.5\" cy=\"68\" fill=\"#000000\" rx=\"10\" ry=\"10\" style=\"stroke: none; stroke-width: 1.0;\"/><ellipse cx=\"619\" cy=\"224\" fill=\"none\" rx=\"10\" ry=\"10\" style=\"stroke: #000000; stroke-width: 1.0;\"/><ellipse cx=\"619.5\" cy=\"224.5\" fill=\"#000000\" rx=\"6\" ry=\"6\" style=\"stroke: none; stroke-width: 1.0;\"/><g id=\"E2.E3\"><a href=\"psysml:b2584b97-8c36-4971-ba08-266a53e2e05d\" target=\"_top\" title=\"psysml:b2584b97-8c36-4971-ba08-266a53e2e05d\" xlink:actuate=\"onRequest\" xlink:href=\"psysml:b2584b97-8c36-4971-ba08-266a53e2e05d\" xlink:show=\"new\" xlink:title=\"psysml:b2584b97-8c36-4971-ba08-266a53e2e05d\" xlink:type=\"simple\"><rect fill=\"#FFFFFF\" height=\"42.9375\" id=\"E3\" rx=\"10\" ry=\"10\" style=\"stroke: #383838; stroke-width: 1.5;\" width=\"113\" x=\"23\" y=\"113.5\"/><rect fill=\"#F8F8F8\" height=\"37.9375\" rx=\"10\" ry=\"10\" style=\"stroke: #F8F8F8; stroke-width: 1.5;\" width=\"113\" x=\"23\" y=\"113.5\"/><rect fill=\"#F8F8F8\" height=\"10\" style=\"stroke: #F8F8F8; stroke-width: 1.5;\" width=\"113\" x=\"23\" y=\"141.4375\"/><rect fill=\"none\" height=\"42.9375\" id=\"E3\" rx=\"10\" ry=\"10\" style=\"stroke: #383838; stroke-width: 1.5;\" width=\"113\" x=\"23\" y=\"113.5\"/><text fill=\"#000000\" font-family=\"sans-serif\" font-size=\"12\" font-style=\"italic\" lengthAdjust=\"spacingAndGlyphs\" textLength=\"106\" x=\"26.5\" y=\"129.6387\">«perform action»</text><text fill=\"#000000\" font-family=\"sans-serif\" font-size=\"12\" lengthAdjust=\"spacingAndGlyphs\" textLength=\"8\" x=\"75.5\" y=\"143.6074\">A</text></a></g><g id=\"E2.E4\"><a href=\"psysml:4ff81092-47a1-4e96-8d92-0120048334f8\" target=\"_top\" title=\"psysml:4ff81092-47a1-4e96-8d92-0120048334f8\" xlink:actuate=\"onRequest\" xlink:href=\"psysml:4ff81092-47a1-4e96-8d92-0120048334f8\" xlink:show=\"new\" xlink:title=\"psysml:4ff81092-47a1-4e96-8d92-0120048334f8\" xlink:type=\"simple\"><rect fill=\"#FFFFFF\" height=\"42.9375\" id=\"E4\" rx=\"10\" ry=\"10\" style=\"stroke: #383838; stroke-width: 1.5;\" width=\"113\" x=\"23\" y=\"191.5\"/><rect fill=\"#F8F8F8\" height=\"37.9375\" rx=\"10\" ry=\"10\" style=\"stroke: #F8F8F8; stroke-width: 1.5;\" width=\"113\" x=\"23\" y=\"191.5\"/><rect fill=\"#F8F8F8\" height=\"10\" style=\"stroke: #F8F8F8; stroke-width: 1.5;\" width=\"113\" x=\"23\" y=\"219.4375\"/><rect fill=\"none\" height=\"42.9375\" id=\"E4\" rx=\"10\" ry=\"10\" style=\"stroke: #383838; stroke-width: 1.5;\" width=\"113\" x=\"23\" y=\"191.5\"/><text fill=\"#000000\" font-family=\"sans-serif\" font-size=\"12\" font-style=\"italic\" lengthAdjust=\"spacingAndGlyphs\" textLength=\"106\" x=\"26.5\" y=\"207.6387\">«perform action»</text><text fill=\"#000000\" font-family=\"sans-serif\" font-size=\"12\" lengthAdjust=\"spacingAndGlyphs\" textLength=\"8\" x=\"75.5\" y=\"221.6074\">B</text></a></g><g id=\"E2.E5\"><a href=\"psysml:304a78cc-8684-4bf6-a939-94ca910a3e9f\" target=\"_top\" title=\"psysml:304a78cc-8684-4bf6-a939-94ca910a3e9f\" xlink:actuate=\"onRequest\" xlink:href=\"psysml:304a78cc-8684-4bf6-a939-94ca910a3e9f\" xlink:show=\"new\" xlink:title=\"psysml:304a78cc-8684-4bf6-a939-94ca910a3e9f\" xlink:type=\"simple\"><rect fill=\"#FFFFFF\" height=\"42.9375\" id=\"E5\" rx=\"10\" ry=\"10\" style=\"stroke: #383838; stroke-width: 1.5;\" width=\"113\" x=\"23\" y=\"269.5\"/><rect fill=\"#F8F8F8\" height=\"37.9375\" rx=\"10\" ry=\"10\" style=\"stroke: #F8F8F8; stroke-width: 1.5;\" width=\"113\" x=\"23\" y=\"269.5\"/><rect fill=\"#F8F8F8\" height=\"10\" style=\"stroke: #F8F8F8; stroke-width: 1.5;\" width=\"113\" x=\"23\" y=\"297.4375\"/><rect fill=\"none\" height=\"42.9375\" id=\"E5\" rx=\"10\" ry=\"10\" style=\"stroke: #383838; stroke-width: 1.5;\" width=\"113\" x=\"23\" y=\"269.5\"/><text fill=\"#000000\" font-family=\"sans-serif\" font-size=\"12\" font-style=\"italic\" lengthAdjust=\"spacingAndGlyphs\" textLength=\"106\" x=\"26.5\" y=\"285.6387\">«perform action»</text><text fill=\"#000000\" font-family=\"sans-serif\" font-size=\"12\" lengthAdjust=\"spacingAndGlyphs\" textLength=\"20\" x=\"69.5\" y=\"299.6074\">act</text></a></g><g id=\"E2.E6\"><a href=\"psysml:0ffea2c5-2698-4589-991c-94f7ac5b0395\" target=\"_top\" title=\"psysml:0ffea2c5-2698-4589-991c-94f7ac5b0395\" xlink:actuate=\"onRequest\" xlink:href=\"psysml:0ffea2c5-2698-4589-991c-94f7ac5b0395\" xlink:show=\"new\" xlink:title=\"psysml:0ffea2c5-2698-4589-991c-94f7ac5b0395\" xlink:type=\"simple\"><rect fill=\"#FFFFFF\" height=\"42.9375\" id=\"E6\" rx=\"10\" ry=\"10\" style=\"stroke: #383838; stroke-width: 1.5;\" width=\"54\" x=\"153\" y=\"145.5\"/><rect fill=\"#F8F8F8\" height=\"37.9375\" rx=\"10\" ry=\"10\" style=\"stroke: #F8F8F8; stroke-width: 1.5;\" width=\"54\" x=\"153\" y=\"145.5\"/><rect fill=\"#F8F8F8\" height=\"10\" style=\"stroke: #F8F8F8; stroke-width: 1.5;\" width=\"54\" x=\"153\" y=\"173.4375\"/><rect fill=\"none\" height=\"42.9375\" id=\"E6\" rx=\"10\" ry=\"10\" style=\"stroke: #383838; stroke-width: 1.5;\" width=\"54\" x=\"153\" y=\"145.5\"/><text fill=\"#000000\" font-family=\"sans-serif\" font-size=\"12\" font-style=\"italic\" lengthAdjust=\"spacingAndGlyphs\" textLength=\"47\" x=\"156.5\" y=\"161.6387\">«state»</text><text fill=\"#000000\" font-family=\"sans-serif\" font-size=\"12\" lengthAdjust=\"spacingAndGlyphs\" textLength=\"16\" x=\"172\" y=\"175.6074\">S1</text></a></g><!--MD5=[2803005a5f354d3255b1b7bbd839bbf7]\n",
       "entity E8--><a href=\"psysml:4e70c0dc-8141-4b3a-9526-a99ab1429170\" target=\"_top\" title=\"psysml:4e70c0dc-8141-4b3a-9526-a99ab1429170\" xlink:actuate=\"onRequest\" xlink:href=\"psysml:4e70c0dc-8141-4b3a-9526-a99ab1429170\" xlink:show=\"new\" xlink:title=\"psysml:4e70c0dc-8141-4b3a-9526-a99ab1429170\" xlink:type=\"simple\"><polygon fill=\"#F8F8F8\" points=\"400,133.5,400,188.0938,508,188.0938,528,160.7969,508,133.5\" style=\"stroke: #000000; stroke-width: 1.5;\"/><text fill=\"#000000\" font-family=\"sans-serif\" font-size=\"14\" font-style=\"italic\" lengthAdjust=\"spacingAndGlyphs\" textLength=\"99\" x=\"407\" y=\"156.4951\">«send action»</text><text fill=\"#000000\" font-family=\"sans-serif\" font-size=\"14\" lengthAdjust=\"spacingAndGlyphs\" textLength=\"75\" x=\"419\" y=\"173.792\">Sig(T::s::x)</text></a><!--MD5=[2e26681bccdb10b30299c36e1180c624]\n",
       "link *start*E2 to E6--><a href=\"psysml:3d6f6111-a5f0-4f07-bf0a-543b5052b3c3\" target=\"_top\" title=\"psysml:3d6f6111-a5f0-4f07-bf0a-543b5052b3c3\" xlink:actuate=\"onRequest\" xlink:href=\"psysml:3d6f6111-a5f0-4f07-bf0a-543b5052b3c3\" xlink:show=\"new\" xlink:title=\"psysml:3d6f6111-a5f0-4f07-bf0a-543b5052b3c3\" xlink:type=\"simple\"><path d=\"M89.29,70.71 C101.06,74.7 122.06,83.1 136,96 C149.4,108.4 160.07,125.91 167.42,140.44 \" fill=\"none\" id=\"*start*E2-&gt;E6\" style=\"stroke: #383838; stroke-width: 1.0; stroke-dasharray: 7.0,7.0;\"/><polygon fill=\"#383838\" points=\"169.79,145.25,169.4183,135.4082,167.5883,140.7608,162.2356,138.9309,169.79,145.25\" style=\"stroke: #383838; stroke-width: 1.0;\"/></a><!--MD5=[ff9e4afefa821aea7eda324d3041742a]\n",
       "link E7 to *end*E2--><a href=\"psysml:374875bf-0004-40f7-bedc-1374d527cde5\" target=\"_top\" title=\"psysml:374875bf-0004-40f7-bedc-1374d527cde5\" xlink:actuate=\"onRequest\" xlink:href=\"psysml:374875bf-0004-40f7-bedc-1374d527cde5\" xlink:show=\"new\" xlink:title=\"psysml:374875bf-0004-40f7-bedc-1374d527cde5\" xlink:type=\"simple\"><path d=\"M552.2241,224 C552.4597,224 552.6952,224 552.9304,224 C553.8716,224 554.8104,224 555.7463,224 C559.4897,224 563.1859,224 566.7973,224 C581.2431,224 594.3325,224 603.66,224 \" fill=\"none\" id=\"E7-&gt;*end*E2\" style=\"stroke: #383838; stroke-width: 1.0; stroke-dasharray: 7.0,7.0;\"/><polygon fill=\"#383838\" points=\"608.71,224,599.71,220,603.71,224,599.71,228,608.71,224\" style=\"stroke: #383838; stroke-width: 1.0;\"/><text fill=\"#000000\" font-family=\"sans-serif\" font-size=\"13\" lengthAdjust=\"spacingAndGlyphs\" textLength=\"23\" x=\"577\" y=\"220.0669\">Exit</text></a><!--MD5=[02c70b7c851c11e3980e4e90450dc5dd]\n",
       "link E6 to E7--><a href=\"psysml:69f1494c-077d-4519-8343-87cce73be713\" target=\"_top\" title=\"psysml:69f1494c-077d-4519-8343-87cce73be713\" xlink:actuate=\"onRequest\" xlink:href=\"psysml:69f1494c-077d-4519-8343-87cce73be713\" xlink:show=\"new\" xlink:title=\"psysml:69f1494c-077d-4519-8343-87cce73be713\" xlink:type=\"simple\"><path d=\"M187.13,188.79 C192.21,202.38 200.93,218.8 215,227 C261.875,254.315 322.685,254.015 372.3575,246.6663 C397.1937,242.9919 419.2456,237.5553 435.3791,232.9273 C436.3874,232.6381 437.3726,232.352 438.334,232.0697 \" fill=\"none\" id=\"E6-&gt;E7\" style=\"stroke: #383838; stroke-width: 1.0; stroke-dasharray: 7.0,7.0;\"/><polygon fill=\"#383838\" points=\"438.334,232.0697,428.5716,230.7676,433.5365,233.4785,430.8256,238.4435,438.334,232.0697\" style=\"stroke: #383838; stroke-width: 1.0;\"/><text fill=\"#000000\" font-family=\"sans-serif\" font-size=\"13\" lengthAdjust=\"spacingAndGlyphs\" textLength=\"81\" x=\"243\" y=\"223.0669\">Sig /action D</text></a><!--MD5=[fbb449814971db3a0b8220cf225b9e01]\n",
       "link E7 to E6--><a href=\"psysml:f8d53726-bfe5-4353-91f3-ae2ef06d9a38\" target=\"_top\" title=\"psysml:f8d53726-bfe5-4353-91f3-ae2ef06d9a38\" xlink:actuate=\"onRequest\" xlink:href=\"psysml:f8d53726-bfe5-4353-91f3-ae2ef06d9a38\" xlink:show=\"new\" xlink:title=\"psysml:f8d53726-bfe5-4353-91f3-ae2ef06d9a38\" xlink:type=\"simple\"><path d=\"M375.9005,208.1019 C375.5416,208.0329 375.183,207.9639 374.8245,207.8949 C374.1077,207.7568 373.3918,207.6187 372.6772,207.4806 C371.248,207.2043 369.8237,206.928 368.4064,206.6518 C365.5716,206.0995 362.7644,205.5481 360,205 C308.02,194.69 247.79,181.68 212.12,173.87 \" fill=\"none\" id=\"E7-&gt;E6\" style=\"stroke: #383838; stroke-width: 1.0; stroke-dasharray: 7.0,7.0;\"/><polygon fill=\"#383838\" points=\"207.04,172.76,214.9743,178.595,211.9239,173.831,216.6879,170.7807,207.04,172.76\" style=\"stroke: #383838; stroke-width: 1.0;\"/><text fill=\"#000000\" font-family=\"sans-serif\" font-size=\"13\" lengthAdjust=\"spacingAndGlyphs\" textLength=\"135\" x=\"216\" y=\"172.0669\">Sig [true]/send s to p</text></a><!--MD5=[94bc7e60c3002b1127ba2b3e799cf471]\n",
       "@startuml\r\n",
       "skinparam ranksep 8\r\n",
       "left to right direction\r\n",
       "skinparam monochrome true\r\n",
       "skinparam classbackgroundcolor white\r\n",
       "skinparam shadowing false\r\n",
       "skinparam wrapWidth 300\r\n",
       "hide circle\r\n",
       "\r\n",
       "rec usage \"act\" as E1  <<(T,blue)action>> [[psysml:0b92cdb5-3694-4434-adff-e0b2149bd4e6 ]] {\r\n",
       "}\r\n",
       "\r\n",
       "rec def \"S\" as E2  <<(T,blue)state def>> [[psysml:f2a66a23-1197-47ed-b1bd-74e1ad61d6fd ]] {\r\n",
       "rec usage \"A\" as E3 <<perform action>> [[psysml:b2584b97-8c36-4971-ba08-266a53e2e05d ]] {\r\n",
       "}\r\n",
       "\r\n",
       "rec usage \"B\" as E4 <<perform action>> [[psysml:4ff81092-47a1-4e96-8d92-0120048334f8 ]] {\r\n",
       "}\r\n",
       "\r\n",
       "rec usage \"act\" as E5 <<perform action>> [[psysml:304a78cc-8684-4bf6-a939-94ca910a3e9f ]] {\r\n",
       "}\r\n",
       "\r\n",
       "rec usage \"S1\" as E6  <<(T,blue)state>> [[psysml:0ffea2c5-2698-4589-991c-94f7ac5b0395 ]] {\r\n",
       "}\r\n",
       "\r\n",
       "rec usage \"S2\" as E7  <<(T,blue)state>> [[psysml:f6369ddf-93b2-4791-a9ee-7d090a7e6258 ]] {\r\n",
       "send \" Sig(T::s::x)\" as E8 <<send action>> [[psysml:4e70c0dc-8141-4b3a-9526-a99ab1429170 ]] \r\n",
       "}\r\n",
       "\r\n",
       "[*] ..> E6 [[psysml:3d6f6111-a5f0-4f07-bf0a-543b5052b3c3 ]] \r\n",
       "E7 ..> [*] [[psysml:374875bf-0004-40f7-bedc-1374d527cde5 ]] : Exit \r\n",
       "}\r\n",
       "\r\n",
       "E6 ..> E7 [[psysml:69f1494c-077d-4519-8343-87cce73be713 ]] : Sig /action D\r\n",
       "E7 ..> E6 [[psysml:f8d53726-bfe5-4353-91f3-ae2ef06d9a38 ]] : Sig [true]/send s to p\r\n",
       "@enduml\r\n",
       "\n",
       "PlantUML version 1.2020.13(Sat Jun 13 12:26:38 UTC 2020)\n",
       "(EPL source distribution)\n",
       "Java Runtime: OpenJDK Runtime Environment\n",
       "JVM: OpenJDK 64-Bit Server VM\n",
       "Default Encoding: UTF-8\n",
       "Language: en\n",
       "Country: null\n",
       "--></g></svg>"
      ]
     },
     "execution_count": 20,
     "metadata": {},
     "output_type": "execute_result"
    }
   ],
   "source": [
    "%viz --style=\"LR\" --view=\"Action\" \"StateTest\""
   ]
  },
  {
   "cell_type": "code",
   "execution_count": 21,
   "id": "7002f266",
   "metadata": {
    "execution": {
     "iopub.execute_input": "2021-04-21T20:23:42.575064Z",
     "iopub.status.busy": "2021-04-21T20:23:42.574675Z",
     "iopub.status.idle": "2021-04-21T20:23:42.706873Z",
     "shell.execute_reply": "2021-04-21T20:23:42.705082Z"
    }
   },
   "outputs": [
    {
     "data": {
      "image/svg+xml": [
       "<?xml version=\"1.0\" encoding=\"UTF-8\" standalone=\"no\"?><svg xmlns=\"http://www.w3.org/2000/svg\" xmlns:xlink=\"http://www.w3.org/1999/xlink\" contentScriptType=\"application/ecmascript\" contentStyleType=\"text/css\" height=\"583px\" preserveAspectRatio=\"none\" style=\"width:302px;height:583px;\" version=\"1.1\" viewBox=\"0 0 302 583\" width=\"302px\" zoomAndPan=\"magnify\"><defs/><g><!--MD5=[fbc87193dbaf4d95561dea2c320d4a47]\n",
       "cluster E1--><a href=\"psysml:800f45c9-cf5c-46ce-b3c3-487778cd6319\" target=\"_top\" title=\"psysml:800f45c9-cf5c-46ce-b3c3-487778cd6319\" xlink:actuate=\"onRequest\" xlink:href=\"psysml:800f45c9-cf5c-46ce-b3c3-487778cd6319\" xlink:show=\"new\" xlink:title=\"psysml:800f45c9-cf5c-46ce-b3c3-487778cd6319\" xlink:type=\"simple\"><polygon fill=\"#FFFFFF\" points=\"16,6,98,6,105,28.2969,280,28.2969,280,571,16,571,16,6\" style=\"stroke: #000000; stroke-width: 1.5;\"/><line style=\"stroke: #000000; stroke-width: 1.5;\" x1=\"16\" x2=\"105\" y1=\"28.2969\" y2=\"28.2969\"/><text fill=\"#000000\" font-family=\"sans-serif\" font-size=\"14\" font-weight=\"bold\" lengthAdjust=\"spacingAndGlyphs\" textLength=\"76\" x=\"20\" y=\"20.9951\">StateTest</text></a><!--MD5=[b4997ac47864f28c2f74865a473b2911]\n",
       "class E2--><a href=\"psysml:f1048496-f45f-4de3-be42-17169da36fba\" target=\"_top\" title=\"psysml:f1048496-f45f-4de3-be42-17169da36fba\" xlink:actuate=\"onRequest\" xlink:href=\"psysml:f1048496-f45f-4de3-be42-17169da36fba\" xlink:show=\"new\" xlink:title=\"psysml:f1048496-f45f-4de3-be42-17169da36fba\" xlink:type=\"simple\"><rect fill=\"#FFFFFF\" height=\"75.5469\" id=\"E2\" style=\"stroke: #383838; stroke-width: 1.5;\" width=\"95\" x=\"32\" y=\"41\"/><text fill=\"#000000\" font-family=\"sans-serif\" font-size=\"12\" font-style=\"italic\" lengthAdjust=\"spacingAndGlyphs\" textLength=\"93\" x=\"33\" y=\"57.1387\">«attribute def»</text><text fill=\"#000000\" font-family=\"sans-serif\" font-size=\"12\" lengthAdjust=\"spacingAndGlyphs\" textLength=\"19\" x=\"70\" y=\"71.1074\">Sig</text><line style=\"stroke: #383838; stroke-width: 1.5;\" x1=\"33\" x2=\"126\" y1=\"78.9375\" y2=\"78.9375\"/><text fill=\"#000000\" font-family=\"sans-serif\" font-size=\"11\" lengthAdjust=\"spacingAndGlyphs\" textLength=\"6\" x=\"38\" y=\"109.9526\">x</text><line style=\"stroke: #383838; stroke-width: 1.0;\" x1=\"33\" x2=\"52\" y1=\"93.3398\" y2=\"93.3398\"/><text fill=\"#000000\" font-family=\"sans-serif\" font-size=\"11\" lengthAdjust=\"spacingAndGlyphs\" textLength=\"55\" x=\"52\" y=\"96.6479\">attributes</text><line style=\"stroke: #383838; stroke-width: 1.0;\" x1=\"107\" x2=\"126\" y1=\"93.3398\" y2=\"93.3398\"/></a><!--MD5=[09b614a08d8cba4a07c9adeb5e0fee81]\n",
       "class E3--><a href=\"psysml:546c6a0a-79ca-4224-b50a-77e407cae485\" target=\"_top\" title=\"psysml:546c6a0a-79ca-4224-b50a-77e407cae485\" xlink:actuate=\"onRequest\" xlink:href=\"psysml:546c6a0a-79ca-4224-b50a-77e407cae485\" xlink:show=\"new\" xlink:title=\"psysml:546c6a0a-79ca-4224-b50a-77e407cae485\" xlink:type=\"simple\"><rect fill=\"#FFFFFF\" height=\"45.9375\" id=\"E3\" style=\"stroke: #383838; stroke-width: 1.5;\" width=\"95\" x=\"32\" y=\"152\"/><text fill=\"#000000\" font-family=\"sans-serif\" font-size=\"12\" font-style=\"italic\" lengthAdjust=\"spacingAndGlyphs\" textLength=\"93\" x=\"33\" y=\"168.1387\">«attribute def»</text><text fill=\"#000000\" font-family=\"sans-serif\" font-size=\"12\" lengthAdjust=\"spacingAndGlyphs\" textLength=\"22\" x=\"68.5\" y=\"182.1074\">Exit</text><line style=\"stroke: #383838; stroke-width: 1.5;\" x1=\"33\" x2=\"126\" y1=\"189.9375\" y2=\"189.9375\"/></a><!--MD5=[ebbe1d658d1005bcc118a6aa81145e00]\n",
       "class E4--><a href=\"psysml:4710131f-7c31-45d9-a6fe-10a60fc8490a\" target=\"_top\" title=\"psysml:4710131f-7c31-45d9-a6fe-10a60fc8490a\" xlink:actuate=\"onRequest\" xlink:href=\"psysml:4710131f-7c31-45d9-a6fe-10a60fc8490a\" xlink:show=\"new\" xlink:title=\"psysml:4710131f-7c31-45d9-a6fe-10a60fc8490a\" xlink:type=\"simple\"><rect fill=\"#FFFFFF\" height=\"45.9375\" id=\"E4\" rx=\"10\" ry=\"10\" style=\"stroke: #383838; stroke-width: 1.5;\" width=\"42\" x=\"58.5\" y=\"233\"/><text fill=\"#000000\" font-family=\"sans-serif\" font-size=\"12\" font-style=\"italic\" lengthAdjust=\"spacingAndGlyphs\" textLength=\"40\" x=\"59.5\" y=\"249.1387\">«part»</text><text fill=\"#000000\" font-family=\"sans-serif\" font-size=\"12\" lengthAdjust=\"spacingAndGlyphs\" textLength=\"8\" x=\"75.5\" y=\"263.1074\">p</text><line style=\"stroke: #383838; stroke-width: 1.5;\" x1=\"59.5\" x2=\"99.5\" y1=\"270.9375\" y2=\"270.9375\"/></a><!--MD5=[270fce915f116d4de14055a7c1d9a0f3]\n",
       "class E5--><a href=\"psysml:0b92cdb5-3694-4434-adff-e0b2149bd4e6\" target=\"_top\" title=\"psysml:0b92cdb5-3694-4434-adff-e0b2149bd4e6\" xlink:actuate=\"onRequest\" xlink:href=\"psysml:0b92cdb5-3694-4434-adff-e0b2149bd4e6\" xlink:show=\"new\" xlink:title=\"psysml:0b92cdb5-3694-4434-adff-e0b2149bd4e6\" xlink:type=\"simple\"><rect fill=\"#FFFFFF\" height=\"45.9375\" id=\"E5\" rx=\"10\" ry=\"10\" style=\"stroke: #383838; stroke-width: 1.5;\" width=\"55\" x=\"52\" y=\"314\"/><text fill=\"#000000\" font-family=\"sans-serif\" font-size=\"12\" font-style=\"italic\" lengthAdjust=\"spacingAndGlyphs\" textLength=\"53\" x=\"53\" y=\"330.1387\">«action»</text><text fill=\"#000000\" font-family=\"sans-serif\" font-size=\"12\" lengthAdjust=\"spacingAndGlyphs\" textLength=\"20\" x=\"69.5\" y=\"344.1074\">act</text><line style=\"stroke: #383838; stroke-width: 1.5;\" x1=\"53\" x2=\"106\" y1=\"351.9375\" y2=\"351.9375\"/></a><!--MD5=[60a26617385b1d2d0262a64233df1f8d]\n",
       "class E6--><a href=\"psysml:f2a66a23-1197-47ed-b1bd-74e1ad61d6fd\" target=\"_top\" title=\"psysml:f2a66a23-1197-47ed-b1bd-74e1ad61d6fd\" xlink:actuate=\"onRequest\" xlink:href=\"psysml:f2a66a23-1197-47ed-b1bd-74e1ad61d6fd\" xlink:show=\"new\" xlink:title=\"psysml:f2a66a23-1197-47ed-b1bd-74e1ad61d6fd\" xlink:type=\"simple\"><rect fill=\"#FFFFFF\" height=\"160.375\" id=\"E6\" style=\"stroke: #383838; stroke-width: 1.5;\" width=\"95\" x=\"32\" y=\"395\"/><text fill=\"#000000\" font-family=\"sans-serif\" font-size=\"12\" font-style=\"italic\" lengthAdjust=\"spacingAndGlyphs\" textLength=\"71\" x=\"44\" y=\"411.1387\">«state def»</text><text fill=\"#000000\" font-family=\"sans-serif\" font-size=\"12\" lengthAdjust=\"spacingAndGlyphs\" textLength=\"8\" x=\"75.5\" y=\"425.1074\">S</text><line style=\"stroke: #383838; stroke-width: 1.5;\" x1=\"33\" x2=\"126\" y1=\"432.9375\" y2=\"432.9375\"/><text fill=\"#000000\" font-family=\"sans-serif\" font-size=\"11\" lengthAdjust=\"spacingAndGlyphs\" textLength=\"17\" x=\"38\" y=\"463.9526\">act</text><text fill=\"#000000\" font-family=\"sans-serif\" font-size=\"11\" lengthAdjust=\"spacingAndGlyphs\" textLength=\"7\" x=\"38\" y=\"476.7573\">A</text><text fill=\"#000000\" font-family=\"sans-serif\" font-size=\"11\" lengthAdjust=\"spacingAndGlyphs\" textLength=\"8\" x=\"38\" y=\"489.562\">B</text><line style=\"stroke: #383838; stroke-width: 1.0;\" x1=\"33\" x2=\"36\" y1=\"447.3398\" y2=\"447.3398\"/><text fill=\"#000000\" font-family=\"sans-serif\" font-size=\"11\" lengthAdjust=\"spacingAndGlyphs\" textLength=\"87\" x=\"36\" y=\"450.6479\">performActions</text><line style=\"stroke: #383838; stroke-width: 1.0;\" x1=\"123\" x2=\"126\" y1=\"447.3398\" y2=\"447.3398\"/><text fill=\"#000000\" font-family=\"sans-serif\" font-size=\"11\" lengthAdjust=\"spacingAndGlyphs\" textLength=\"15\" x=\"38\" y=\"519.1714\">S1</text><line style=\"stroke: #383838; stroke-width: 1.0;\" x1=\"33\" x2=\"61.5\" y1=\"502.5586\" y2=\"502.5586\"/><text fill=\"#000000\" font-family=\"sans-serif\" font-size=\"11\" lengthAdjust=\"spacingAndGlyphs\" textLength=\"36\" x=\"61.5\" y=\"505.8667\">states</text><line style=\"stroke: #383838; stroke-width: 1.0;\" x1=\"97.5\" x2=\"126\" y1=\"502.5586\" y2=\"502.5586\"/><text fill=\"#000000\" font-family=\"sans-serif\" font-size=\"11\" lengthAdjust=\"spacingAndGlyphs\" textLength=\"7\" x=\"38\" y=\"548.7808\">T</text><line style=\"stroke: #383838; stroke-width: 1.0;\" x1=\"33\" x2=\"49\" y1=\"532.168\" y2=\"532.168\"/><text fill=\"#000000\" font-family=\"sans-serif\" font-size=\"11\" lengthAdjust=\"spacingAndGlyphs\" textLength=\"61\" x=\"49\" y=\"535.4761\">transitions</text><line style=\"stroke: #383838; stroke-width: 1.0;\" x1=\"110\" x2=\"126\" y1=\"532.168\" y2=\"532.168\"/></a><!--MD5=[1dd1bfd58a279cf63c5f349dbc8fc6a1]\n",
       "class E11--><a href=\"psysml:f6369ddf-93b2-4791-a9ee-7d090a7e6258\" target=\"_top\" title=\"psysml:f6369ddf-93b2-4791-a9ee-7d090a7e6258\" xlink:actuate=\"onRequest\" xlink:href=\"psysml:f6369ddf-93b2-4791-a9ee-7d090a7e6258\" xlink:show=\"new\" xlink:title=\"psysml:f6369ddf-93b2-4791-a9ee-7d090a7e6258\" xlink:type=\"simple\"><rect fill=\"#FFFFFF\" height=\"75.5469\" id=\"E11\" rx=\"10\" ry=\"10\" style=\"stroke: #383838; stroke-width: 1.5;\" width=\"77\" x=\"187\" y=\"437\"/><text fill=\"#000000\" font-family=\"sans-serif\" font-size=\"12\" font-style=\"italic\" lengthAdjust=\"spacingAndGlyphs\" textLength=\"47\" x=\"202\" y=\"453.1387\">«state»</text><text fill=\"#000000\" font-family=\"sans-serif\" font-size=\"12\" lengthAdjust=\"spacingAndGlyphs\" textLength=\"16\" x=\"217.5\" y=\"467.1074\">S2</text><line style=\"stroke: #383838; stroke-width: 1.5;\" x1=\"188\" x2=\"263\" y1=\"474.9375\" y2=\"474.9375\"/><text fill=\"#000000\" font-family=\"sans-serif\" font-size=\"11\" lengthAdjust=\"spacingAndGlyphs\" textLength=\"48\" x=\"193\" y=\"505.9526\">doAction</text><line style=\"stroke: #383838; stroke-width: 1.0;\" x1=\"188\" x2=\"191\" y1=\"489.3398\" y2=\"489.3398\"/><text fill=\"#000000\" font-family=\"sans-serif\" font-size=\"11\" lengthAdjust=\"spacingAndGlyphs\" textLength=\"69\" x=\"191\" y=\"492.6479\">sendActions</text><line style=\"stroke: #383838; stroke-width: 1.0;\" x1=\"260\" x2=\"263\" y1=\"489.3398\" y2=\"489.3398\"/></a><!--MD5=[1f5f03483f7de0d5b3680a7f6650997f]\n",
       "reverse link E6 to E11--><a href=\"psysml:247e0169-6466-401b-83f0-032a7b21c539\" target=\"_top\" title=\"psysml:247e0169-6466-401b-83f0-032a7b21c539\" xlink:actuate=\"onRequest\" xlink:href=\"psysml:247e0169-6466-401b-83f0-032a7b21c539\" xlink:show=\"new\" xlink:title=\"psysml:247e0169-6466-401b-83f0-032a7b21c539\" xlink:type=\"simple\"><path d=\"M140.66,475 C156.23,475 172.55,475 186.62,475 \" fill=\"none\" id=\"E6&lt;-E11\" style=\"stroke: #383838; stroke-width: 1.0;\"/><polygon fill=\"#383838\" points=\"127.25,475,133.25,479,139.25,475,133.25,471,127.25,475\" style=\"stroke: #383838; stroke-width: 1.0;\"/></a><!--MD5=[2c1c813a589cf0ff4aabbcf5c72e0a6c]\n",
       "@startuml\r\n",
       "left to right direction\r\n",
       "skinparam monochrome true\r\n",
       "skinparam classbackgroundcolor white\r\n",
       "skinparam shadowing false\r\n",
       "skinparam wrapWidth 300\r\n",
       "hide circle\r\n",
       "\r\n",
       "package \"StateTest\" as E1  [[psysml:800f45c9-cf5c-46ce-b3c3-487778cd6319 ]]  {\r\n",
       "comp def \"Sig\" as E2  <<(T,blue)attribute def>> [[psysml:f1048496-f45f-4de3-be42-17169da36fba ]] {\r\n",
       "- - attributes - -\r\n",
       "x\r\n",
       "}\r\n",
       "comp def \"Exit\" as E3  <<(T,blue)attribute def>> [[psysml:546c6a0a-79ca-4224-b50a-77e407cae485 ]] {\r\n",
       "}\r\n",
       "comp usage \"p\" as E4  <<(T,blue)part>> [[psysml:4710131f-7c31-45d9-a6fe-10a60fc8490a ]] {\r\n",
       "}\r\n",
       "comp usage \"act\" as E5  <<(T,blue)action>> [[psysml:0b92cdb5-3694-4434-adff-e0b2149bd4e6 ]] {\r\n",
       "}\r\n",
       "comp def \"S\" as E6  <<(T,blue)state def>> [[psysml:f2a66a23-1197-47ed-b1bd-74e1ad61d6fd ]] {\r\n",
       "- - performActions - -\r\n",
       "act\r\n",
       "A\r\n",
       "B\r\n",
       "- - states - -\r\n",
       "S1\r\n",
       "- - transitions - -\r\n",
       "T\r\n",
       "}\r\n",
       "comp usage \"S2\" as E11  <<(T,blue)state>> [[psysml:f6369ddf-93b2-4791-a9ee-7d090a7e6258 ]] {\r\n",
       "- - sendActions - -\r\n",
       "doAction\r\n",
       "}\r\n",
       "E6 *- - E11 [[psysml:247e0169-6466-401b-83f0-032a7b21c539 ]] \r\n",
       "}\r\n",
       "@enduml\r\n",
       "\n",
       "PlantUML version 1.2020.13(Sat Jun 13 12:26:38 UTC 2020)\n",
       "(EPL source distribution)\n",
       "Java Runtime: OpenJDK Runtime Environment\n",
       "JVM: OpenJDK 64-Bit Server VM\n",
       "Default Encoding: UTF-8\n",
       "Language: en\n",
       "Country: null\n",
       "--></g></svg>"
      ]
     },
     "execution_count": 21,
     "metadata": {},
     "output_type": "execute_result"
    }
   ],
   "source": [
    "%viz --style=\"LR\" --view=\"Sequence\" \"StateTest\""
   ]
  },
  {
   "cell_type": "code",
   "execution_count": 22,
   "id": "2763278d",
   "metadata": {
    "execution": {
     "iopub.execute_input": "2021-04-21T20:23:42.756839Z",
     "iopub.status.busy": "2021-04-21T20:23:42.756414Z",
     "iopub.status.idle": "2021-04-21T20:23:42.804627Z",
     "shell.execute_reply": "2021-04-21T20:23:42.802926Z"
    }
   },
   "outputs": [
    {
     "data": {
      "image/svg+xml": [
       "<?xml version=\"1.0\" encoding=\"UTF-8\" standalone=\"no\"?><svg xmlns=\"http://www.w3.org/2000/svg\" xmlns:xlink=\"http://www.w3.org/1999/xlink\" contentScriptType=\"application/ecmascript\" contentStyleType=\"text/css\" height=\"633px\" preserveAspectRatio=\"none\" style=\"width:771px;height:633px;\" version=\"1.1\" viewBox=\"0 0 771 633\" width=\"771px\" zoomAndPan=\"magnify\"><defs/><g><!--MD5=[fbc87193dbaf4d95561dea2c320d4a47]\n",
       "cluster E1--><a href=\"psysml:800f45c9-cf5c-46ce-b3c3-487778cd6319\" target=\"_top\" title=\"psysml:800f45c9-cf5c-46ce-b3c3-487778cd6319\" xlink:actuate=\"onRequest\" xlink:href=\"psysml:800f45c9-cf5c-46ce-b3c3-487778cd6319\" xlink:show=\"new\" xlink:title=\"psysml:800f45c9-cf5c-46ce-b3c3-487778cd6319\" xlink:type=\"simple\"><polygon fill=\"#FFFFFF\" points=\"16,6,98,6,105,28.2969,749,28.2969,749,621,16,621,16,6\" style=\"stroke: #000000; stroke-width: 1.5;\"/><line style=\"stroke: #000000; stroke-width: 1.5;\" x1=\"16\" x2=\"105\" y1=\"28.2969\" y2=\"28.2969\"/><text fill=\"#000000\" font-family=\"sans-serif\" font-size=\"14\" font-weight=\"bold\" lengthAdjust=\"spacingAndGlyphs\" textLength=\"76\" x=\"20\" y=\"20.9951\">StateTest</text></a><!--MD5=[14e3b0961a2654348d326746436168a1]\n",
       "cluster E6--><a href=\"psysml:f2a66a23-1197-47ed-b1bd-74e1ad61d6fd\" target=\"_top\" title=\"psysml:f2a66a23-1197-47ed-b1bd-74e1ad61d6fd\" xlink:actuate=\"onRequest\" xlink:href=\"psysml:f2a66a23-1197-47ed-b1bd-74e1ad61d6fd\" xlink:show=\"new\" xlink:title=\"psysml:f2a66a23-1197-47ed-b1bd-74e1ad61d6fd\" xlink:type=\"simple\"><rect fill=\"#FFFFFF\" height=\"223\" id=\"E6\" style=\"stroke: #383838; stroke-width: 1.5;\" width=\"671.5\" x=\"53.5\" y=\"49\"/><rect fill=\"#F8F8F8\" height=\"37.9375\" style=\"stroke: #383838; stroke-width: 1.5;\" width=\"671.5\" x=\"53.5\" y=\"49\"/><text fill=\"#000000\" font-family=\"sans-serif\" font-size=\"12\" font-style=\"italic\" lengthAdjust=\"spacingAndGlyphs\" textLength=\"71\" x=\"353.75\" y=\"65.1387\">«state def»</text><text fill=\"#000000\" font-family=\"sans-serif\" font-size=\"12\" lengthAdjust=\"spacingAndGlyphs\" textLength=\"8\" x=\"385.25\" y=\"79.1074\">S</text><line style=\"stroke: #383838; stroke-width: 1.0;\" x1=\"53.5\" x2=\"725\" y1=\"132.8438\" y2=\"132.8438\"/><text fill=\"#000000\" font-family=\"sans-serif\" font-size=\"12\" font-weight=\"bold\" lengthAdjust=\"spacingAndGlyphs\" textLength=\"38\" x=\"58.5\" y=\"100.0762\">entry</text><text fill=\"#000000\" font-family=\"sans-serif\" font-size=\"12\" lengthAdjust=\"spacingAndGlyphs\" textLength=\"16\" x=\"96.5\" y=\"100.0762\">/ A</text><text fill=\"#000000\" font-family=\"sans-serif\" font-size=\"12\" font-weight=\"bold\" lengthAdjust=\"spacingAndGlyphs\" textLength=\"18\" x=\"58.5\" y=\"114.0449\">do</text><text fill=\"#000000\" font-family=\"sans-serif\" font-size=\"12\" lengthAdjust=\"spacingAndGlyphs\" textLength=\"16\" x=\"76.5\" y=\"114.0449\">/ B</text><text fill=\"#000000\" font-family=\"sans-serif\" font-size=\"12\" font-weight=\"bold\" lengthAdjust=\"spacingAndGlyphs\" textLength=\"26\" x=\"58.5\" y=\"128.0137\">exit</text><text fill=\"#000000\" font-family=\"sans-serif\" font-size=\"12\" lengthAdjust=\"spacingAndGlyphs\" textLength=\"28\" x=\"84.5\" y=\"128.0137\">/ act</text></a><!--MD5=[b4997ac47864f28c2f74865a473b2911]\n",
       "class E2--><a href=\"psysml:f1048496-f45f-4de3-be42-17169da36fba\" target=\"_top\" title=\"psysml:f1048496-f45f-4de3-be42-17169da36fba\" xlink:actuate=\"onRequest\" xlink:href=\"psysml:f1048496-f45f-4de3-be42-17169da36fba\" xlink:show=\"new\" xlink:title=\"psysml:f1048496-f45f-4de3-be42-17169da36fba\" xlink:type=\"simple\"><rect fill=\"#FFFFFF\" height=\"75.5469\" id=\"E2\" style=\"stroke: #383838; stroke-width: 1.5;\" width=\"95\" x=\"32\" y=\"288\"/><text fill=\"#000000\" font-family=\"sans-serif\" font-size=\"12\" font-style=\"italic\" lengthAdjust=\"spacingAndGlyphs\" textLength=\"93\" x=\"33\" y=\"304.1387\">«attribute def»</text><text fill=\"#000000\" font-family=\"sans-serif\" font-size=\"12\" lengthAdjust=\"spacingAndGlyphs\" textLength=\"19\" x=\"70\" y=\"318.1074\">Sig</text><line style=\"stroke: #383838; stroke-width: 1.5;\" x1=\"33\" x2=\"126\" y1=\"325.9375\" y2=\"325.9375\"/><text fill=\"#000000\" font-family=\"sans-serif\" font-size=\"11\" lengthAdjust=\"spacingAndGlyphs\" textLength=\"6\" x=\"38\" y=\"356.9526\">x</text><line style=\"stroke: #383838; stroke-width: 1.0;\" x1=\"33\" x2=\"52\" y1=\"340.3398\" y2=\"340.3398\"/><text fill=\"#000000\" font-family=\"sans-serif\" font-size=\"11\" lengthAdjust=\"spacingAndGlyphs\" textLength=\"55\" x=\"52\" y=\"343.6479\">attributes</text><line style=\"stroke: #383838; stroke-width: 1.0;\" x1=\"107\" x2=\"126\" y1=\"340.3398\" y2=\"340.3398\"/></a><!--MD5=[09b614a08d8cba4a07c9adeb5e0fee81]\n",
       "class E3--><a href=\"psysml:546c6a0a-79ca-4224-b50a-77e407cae485\" target=\"_top\" title=\"psysml:546c6a0a-79ca-4224-b50a-77e407cae485\" xlink:actuate=\"onRequest\" xlink:href=\"psysml:546c6a0a-79ca-4224-b50a-77e407cae485\" xlink:show=\"new\" xlink:title=\"psysml:546c6a0a-79ca-4224-b50a-77e407cae485\" xlink:type=\"simple\"><rect fill=\"#FFFFFF\" height=\"45.9375\" id=\"E3\" style=\"stroke: #383838; stroke-width: 1.5;\" width=\"95\" x=\"32\" y=\"399\"/><text fill=\"#000000\" font-family=\"sans-serif\" font-size=\"12\" font-style=\"italic\" lengthAdjust=\"spacingAndGlyphs\" textLength=\"93\" x=\"33\" y=\"415.1387\">«attribute def»</text><text fill=\"#000000\" font-family=\"sans-serif\" font-size=\"12\" lengthAdjust=\"spacingAndGlyphs\" textLength=\"22\" x=\"68.5\" y=\"429.1074\">Exit</text><line style=\"stroke: #383838; stroke-width: 1.5;\" x1=\"33\" x2=\"126\" y1=\"436.9375\" y2=\"436.9375\"/></a><!--MD5=[ebbe1d658d1005bcc118a6aa81145e00]\n",
       "class E4--><a href=\"psysml:4710131f-7c31-45d9-a6fe-10a60fc8490a\" target=\"_top\" title=\"psysml:4710131f-7c31-45d9-a6fe-10a60fc8490a\" xlink:actuate=\"onRequest\" xlink:href=\"psysml:4710131f-7c31-45d9-a6fe-10a60fc8490a\" xlink:show=\"new\" xlink:title=\"psysml:4710131f-7c31-45d9-a6fe-10a60fc8490a\" xlink:type=\"simple\"><rect fill=\"#FFFFFF\" height=\"45.9375\" id=\"E4\" rx=\"10\" ry=\"10\" style=\"stroke: #383838; stroke-width: 1.5;\" width=\"42\" x=\"58.5\" y=\"480\"/><text fill=\"#000000\" font-family=\"sans-serif\" font-size=\"12\" font-style=\"italic\" lengthAdjust=\"spacingAndGlyphs\" textLength=\"40\" x=\"59.5\" y=\"496.1387\">«part»</text><text fill=\"#000000\" font-family=\"sans-serif\" font-size=\"12\" lengthAdjust=\"spacingAndGlyphs\" textLength=\"8\" x=\"75.5\" y=\"510.1074\">p</text><line style=\"stroke: #383838; stroke-width: 1.5;\" x1=\"59.5\" x2=\"99.5\" y1=\"517.9375\" y2=\"517.9375\"/></a><g id=\"E1.E5\"><a href=\"psysml:0b92cdb5-3694-4434-adff-e0b2149bd4e6\" target=\"_top\" title=\"psysml:0b92cdb5-3694-4434-adff-e0b2149bd4e6\" xlink:actuate=\"onRequest\" xlink:href=\"psysml:0b92cdb5-3694-4434-adff-e0b2149bd4e6\" xlink:show=\"new\" xlink:title=\"psysml:0b92cdb5-3694-4434-adff-e0b2149bd4e6\" xlink:type=\"simple\"><rect fill=\"#FFFFFF\" height=\"42.9375\" id=\"E5\" rx=\"10\" ry=\"10\" style=\"stroke: #383838; stroke-width: 1.5;\" width=\"60\" x=\"49.5\" y=\"561.5\"/><rect fill=\"#F8F8F8\" height=\"37.9375\" rx=\"10\" ry=\"10\" style=\"stroke: #F8F8F8; stroke-width: 1.5;\" width=\"60\" x=\"49.5\" y=\"561.5\"/><rect fill=\"#F8F8F8\" height=\"10\" style=\"stroke: #F8F8F8; stroke-width: 1.5;\" width=\"60\" x=\"49.5\" y=\"589.4375\"/><rect fill=\"none\" height=\"42.9375\" id=\"E5\" rx=\"10\" ry=\"10\" style=\"stroke: #383838; stroke-width: 1.5;\" width=\"60\" x=\"49.5\" y=\"561.5\"/><text fill=\"#000000\" font-family=\"sans-serif\" font-size=\"12\" font-style=\"italic\" lengthAdjust=\"spacingAndGlyphs\" textLength=\"53\" x=\"53\" y=\"577.6387\">«action»</text><text fill=\"#000000\" font-family=\"sans-serif\" font-size=\"12\" lengthAdjust=\"spacingAndGlyphs\" textLength=\"20\" x=\"69.5\" y=\"591.6074\">act</text></a></g><ellipse cx=\"79.5\" cy=\"194\" fill=\"#000000\" rx=\"10\" ry=\"10\" style=\"stroke: none; stroke-width: 1.0;\"/><ellipse cx=\"699\" cy=\"196\" fill=\"none\" rx=\"10\" ry=\"10\" style=\"stroke: #000000; stroke-width: 1.0;\"/><ellipse cx=\"699.5\" cy=\"196.5\" fill=\"#000000\" rx=\"6\" ry=\"6\" style=\"stroke: none; stroke-width: 1.0;\"/><g id=\"E1.E6.E7\"><a href=\"psysml:0ffea2c5-2698-4589-991c-94f7ac5b0395\" target=\"_top\" title=\"psysml:0ffea2c5-2698-4589-991c-94f7ac5b0395\" xlink:actuate=\"onRequest\" xlink:href=\"psysml:0ffea2c5-2698-4589-991c-94f7ac5b0395\" xlink:show=\"new\" xlink:title=\"psysml:0ffea2c5-2698-4589-991c-94f7ac5b0395\" xlink:type=\"simple\"><rect fill=\"#FFFFFF\" height=\"40\" id=\"E7\" rx=\"10\" ry=\"10\" style=\"stroke: #383838; stroke-width: 1.5;\" width=\"50\" x=\"188\" y=\"174\"/><rect fill=\"#F8F8F8\" height=\"23.9688\" rx=\"10\" ry=\"10\" style=\"stroke: #F8F8F8; stroke-width: 1.5;\" width=\"50\" x=\"188\" y=\"174\"/><rect fill=\"#F8F8F8\" height=\"10\" style=\"stroke: #F8F8F8; stroke-width: 1.5;\" width=\"50\" x=\"188\" y=\"187.9688\"/><rect fill=\"none\" height=\"40\" id=\"E7\" rx=\"10\" ry=\"10\" style=\"stroke: #383838; stroke-width: 1.5;\" width=\"50\" x=\"188\" y=\"174\"/><text fill=\"#000000\" font-family=\"sans-serif\" font-size=\"12\" lengthAdjust=\"spacingAndGlyphs\" textLength=\"16\" x=\"205\" y=\"190.1387\">S1</text></a></g><g id=\"E1.E6.E8\"><a href=\"psysml:f6369ddf-93b2-4791-a9ee-7d090a7e6258\" target=\"_top\" title=\"psysml:f6369ddf-93b2-4791-a9ee-7d090a7e6258\" xlink:actuate=\"onRequest\" xlink:href=\"psysml:f6369ddf-93b2-4791-a9ee-7d090a7e6258\" xlink:show=\"new\" xlink:title=\"psysml:f6369ddf-93b2-4791-a9ee-7d090a7e6258\" xlink:type=\"simple\"><rect fill=\"#FFFFFF\" height=\"47.9375\" id=\"E8\" rx=\"10\" ry=\"10\" style=\"stroke: #383838; stroke-width: 1.5;\" width=\"169\" x=\"435\" y=\"172\"/><rect fill=\"#F8F8F8\" height=\"23.9688\" rx=\"10\" ry=\"10\" style=\"stroke: #F8F8F8; stroke-width: 1.5;\" width=\"169\" x=\"435\" y=\"172\"/><rect fill=\"#F8F8F8\" height=\"10\" style=\"stroke: #F8F8F8; stroke-width: 1.5;\" width=\"169\" x=\"435\" y=\"185.9688\"/><rect fill=\"none\" height=\"47.9375\" id=\"E8\" rx=\"10\" ry=\"10\" style=\"stroke: #383838; stroke-width: 1.5;\" width=\"169\" x=\"435\" y=\"172\"/><text fill=\"#000000\" font-family=\"sans-serif\" font-size=\"12\" lengthAdjust=\"spacingAndGlyphs\" textLength=\"16\" x=\"511.5\" y=\"188.1387\">S2</text><line style=\"stroke: #383838; stroke-width: 1.0;\" x1=\"435\" x2=\"604\" y1=\"195.9688\" y2=\"195.9688\"/><text fill=\"#000000\" font-family=\"sans-serif\" font-size=\"12\" font-weight=\"bold\" lengthAdjust=\"spacingAndGlyphs\" textLength=\"18\" x=\"440\" y=\"209.1074\">do</text><text fill=\"#000000\" font-family=\"sans-serif\" font-size=\"12\" lengthAdjust=\"spacingAndGlyphs\" textLength=\"141\" x=\"458\" y=\"209.1074\">/  send Sig(T::s::x) to p</text></a></g><!--MD5=[5a531d3a85f3339e6e197084acb48195]\n",
       "link *start*E6 to E7--><a href=\"psysml:3d6f6111-a5f0-4f07-bf0a-543b5052b3c3\" target=\"_top\" title=\"psysml:3d6f6111-a5f0-4f07-bf0a-543b5052b3c3\" xlink:actuate=\"onRequest\" xlink:href=\"psysml:3d6f6111-a5f0-4f07-bf0a-543b5052b3c3\" xlink:show=\"new\" xlink:title=\"psysml:3d6f6111-a5f0-4f07-bf0a-543b5052b3c3\" xlink:type=\"simple\"><path d=\"M89.54,194 C108.46,194 152.97,194 182.78,194 \" fill=\"none\" id=\"*start*E6-&gt;E7\" style=\"stroke: #383838; stroke-width: 1.0;\"/><polygon fill=\"#383838\" points=\"187.8,194,178.8,190,182.8,194,178.8,198,187.8,194\" style=\"stroke: #383838; stroke-width: 1.0;\"/></a><!--MD5=[7ec9a8babba89ddcae1318ca9fb3c814]\n",
       "link E8 to *end*E6--><a href=\"psysml:374875bf-0004-40f7-bedc-1374d527cde5\" target=\"_top\" title=\"psysml:374875bf-0004-40f7-bedc-1374d527cde5\" xlink:actuate=\"onRequest\" xlink:href=\"psysml:374875bf-0004-40f7-bedc-1374d527cde5\" xlink:show=\"new\" xlink:title=\"psysml:374875bf-0004-40f7-bedc-1374d527cde5\" xlink:type=\"simple\"><path d=\"M604.05,196 C634.69,196 666.16,196 683.78,196 \" fill=\"none\" id=\"E8-&gt;*end*E6\" style=\"stroke: #383838; stroke-width: 1.0;\"/><polygon fill=\"#383838\" points=\"688.79,196,679.79,192,683.79,196,679.79,200,688.79,196\" style=\"stroke: #383838; stroke-width: 1.0;\"/><text fill=\"#000000\" font-family=\"sans-serif\" font-size=\"13\" lengthAdjust=\"spacingAndGlyphs\" textLength=\"23\" x=\"635\" y=\"192.0669\">Exit</text></a><!--MD5=[79bc8f324ef4d02c541433f2e6e513c3]\n",
       "link E7 to E8--><a href=\"psysml:69f1494c-077d-4519-8343-87cce73be713\" target=\"_top\" title=\"psysml:69f1494c-077d-4519-8343-87cce73be713\" xlink:actuate=\"onRequest\" xlink:href=\"psysml:69f1494c-077d-4519-8343-87cce73be713\" xlink:show=\"new\" xlink:title=\"psysml:69f1494c-077d-4519-8343-87cce73be713\" xlink:type=\"simple\"><path d=\"M238.15,210.85 C247.11,216.14 257.62,221.31 268,224 C321.24,237.8 382.58,231.3 431.24,221.11 \" fill=\"none\" id=\"E7-&gt;E8\" style=\"stroke: #383838; stroke-width: 1.0;\"/><polygon fill=\"#383838\" points=\"436.21,220.04,426.5733,218.0069,431.3202,221.0837,428.2433,225.8306,436.21,220.04\" style=\"stroke: #383838; stroke-width: 1.0;\"/><text fill=\"#000000\" font-family=\"sans-serif\" font-size=\"13\" lengthAdjust=\"spacingAndGlyphs\" textLength=\"81\" x=\"296\" y=\"220.0669\">Sig /action D</text></a><!--MD5=[bfa3c8b0d15052fdf50ae9310b491027]\n",
       "link E8 to E7--><a href=\"psysml:f8d53726-bfe5-4353-91f3-ae2ef06d9a38\" target=\"_top\" title=\"psysml:f8d53726-bfe5-4353-91f3-ae2ef06d9a38\" xlink:actuate=\"onRequest\" xlink:href=\"psysml:f8d53726-bfe5-4353-91f3-ae2ef06d9a38\" xlink:show=\"new\" xlink:title=\"psysml:f8d53726-bfe5-4353-91f3-ae2ef06d9a38\" xlink:type=\"simple\"><path d=\"M434.81,195.45 C371.05,195.03 287,194.48 243.28,194.19 \" fill=\"none\" id=\"E8-&gt;E7\" style=\"stroke: #383838; stroke-width: 1.0;\"/><polygon fill=\"#383838\" points=\"238.15,194.16,247.127,198.2114,243.1499,194.1886,247.1727,190.2115,238.15,194.16\" style=\"stroke: #383838; stroke-width: 1.0;\"/><text fill=\"#000000\" font-family=\"sans-serif\" font-size=\"13\" lengthAdjust=\"spacingAndGlyphs\" textLength=\"135\" x=\"269\" y=\"191.0669\">Sig [true]/send s to p</text></a><!--MD5=[e6bf01bd4a272268fe00e6ed75ce24eb]\n",
       "@startuml\r\n",
       "left to right direction\r\n",
       "skinparam monochrome true\r\n",
       "skinparam classbackgroundcolor white\r\n",
       "skinparam shadowing false\r\n",
       "skinparam wrapWidth 300\r\n",
       "hide circle\r\n",
       "\r\n",
       "package \"StateTest\" as E1  [[psysml:800f45c9-cf5c-46ce-b3c3-487778cd6319 ]]  {\r\n",
       "comp def \"Sig\" as E2  <<(T,blue)attribute def>> [[psysml:f1048496-f45f-4de3-be42-17169da36fba ]] {\r\n",
       "- - attributes - -\r\n",
       "x\r\n",
       "}\r\n",
       "comp def \"Exit\" as E3  <<(T,blue)attribute def>> [[psysml:546c6a0a-79ca-4224-b50a-77e407cae485 ]] {\r\n",
       "}\r\n",
       "comp usage \"p\" as E4  <<(T,blue)part>> [[psysml:4710131f-7c31-45d9-a6fe-10a60fc8490a ]] {\r\n",
       "}\r\n",
       "rec usage \"act\" as E5  <<(T,blue)action>> [[psysml:0b92cdb5-3694-4434-adff-e0b2149bd4e6 ]] {\r\n",
       "}\r\n",
       "\r\n",
       "rec def \"S\" as E6  <<(T,blue)state def>> [[psysml:f2a66a23-1197-47ed-b1bd-74e1ad61d6fd ]] {\r\n",
       "rec usage \"S1\" as E7 [[psysml:0ffea2c5-2698-4589-991c-94f7ac5b0395 ]] {\r\n",
       "}\r\n",
       "\r\n",
       "rec usage \"S2\" as E8 [[psysml:f6369ddf-93b2-4791-a9ee-7d090a7e6258 ]] {\r\n",
       "desc \"S2\" as E8  : **do**/  send Sig(T::s::x) to p\r\n",
       "}\r\n",
       "\r\n",
       "desc \"S\" as E6  : **entry**/ A\r\n",
       "desc \"S\" as E6  : **do**/ B\r\n",
       "desc \"S\" as E6  : **exit**/ act \r\n",
       "[*] - -> E7 [[psysml:3d6f6111-a5f0-4f07-bf0a-543b5052b3c3 ]] \r\n",
       "E8  - -> [*] [[psysml:374875bf-0004-40f7-bedc-1374d527cde5 ]] : Exit \r\n",
       "}\r\n",
       "\r\n",
       "E7  - -> E8 [[psysml:69f1494c-077d-4519-8343-87cce73be713 ]] : Sig /action D\r\n",
       "E8  - -> E7 [[psysml:f8d53726-bfe5-4353-91f3-ae2ef06d9a38 ]] : Sig [true]/send s to p\r\n",
       "}\r\n",
       "@enduml\r\n",
       "\n",
       "PlantUML version 1.2020.13(Sat Jun 13 12:26:38 UTC 2020)\n",
       "(EPL source distribution)\n",
       "Java Runtime: OpenJDK Runtime Environment\n",
       "JVM: OpenJDK 64-Bit Server VM\n",
       "Default Encoding: UTF-8\n",
       "Language: en\n",
       "Country: null\n",
       "--></g></svg>"
      ]
     },
     "execution_count": 22,
     "metadata": {},
     "output_type": "execute_result"
    }
   ],
   "source": [
    "%viz --style=\"LR\" --view=\"MIXED\" \"StateTest\""
   ]
  },
  {
   "cell_type": "code",
   "execution_count": 23,
   "id": "8d718f3c",
   "metadata": {
    "execution": {
     "iopub.execute_input": "2021-04-21T20:23:42.854614Z",
     "iopub.status.busy": "2021-04-21T20:23:42.854168Z",
     "iopub.status.idle": "2021-04-21T20:23:42.907583Z",
     "shell.execute_reply": "2021-04-21T20:23:42.905520Z"
    }
   },
   "outputs": [
    {
     "data": {
      "image/svg+xml": [
       "<?xml version=\"1.0\" encoding=\"UTF-8\" standalone=\"no\"?><svg xmlns=\"http://www.w3.org/2000/svg\" xmlns:xlink=\"http://www.w3.org/1999/xlink\" contentScriptType=\"application/ecmascript\" contentStyleType=\"text/css\" height=\"561px\" preserveAspectRatio=\"none\" style=\"width:819px;height:561px;\" version=\"1.1\" viewBox=\"0 0 819 561\" width=\"819px\" zoomAndPan=\"magnify\"><defs><filter height=\"300%\" id=\"f1ctsgbylv8kcq\" width=\"300%\" x=\"-1\" y=\"-1\"><feGaussianBlur result=\"blurOut\" stdDeviation=\"2.0\"/><feColorMatrix in=\"blurOut\" result=\"blurOut2\" type=\"matrix\" values=\"0 0 0 0 0 0 0 0 0 0 0 0 0 0 0 0 0 0 .4 0\"/><feOffset dx=\"4.0\" dy=\"4.0\" in=\"blurOut2\" result=\"blurOut3\"/><feBlend in=\"SourceGraphic\" in2=\"blurOut3\" mode=\"normal\"/></filter></defs><g><!--MD5=[fbc87193dbaf4d95561dea2c320d4a47]\n",
       "cluster E1--><a href=\"psysml:800f45c9-cf5c-46ce-b3c3-487778cd6319\" target=\"_top\" title=\"psysml:800f45c9-cf5c-46ce-b3c3-487778cd6319\" xlink:actuate=\"onRequest\" xlink:href=\"psysml:800f45c9-cf5c-46ce-b3c3-487778cd6319\" xlink:show=\"new\" xlink:title=\"psysml:800f45c9-cf5c-46ce-b3c3-487778cd6319\" xlink:type=\"simple\"><polygon fill=\"#FFFFFF\" filter=\"url(#f1ctsgbylv8kcq)\" points=\"16,6,98,6,105,28.2969,797,28.2969,797,549.5,16,549.5,16,6\" style=\"stroke: #000000; stroke-width: 1.5;\"/><line style=\"stroke: #000000; stroke-width: 1.5;\" x1=\"16\" x2=\"105\" y1=\"28.2969\" y2=\"28.2969\"/><text fill=\"#000000\" font-family=\"sans-serif\" font-size=\"14\" font-weight=\"bold\" lengthAdjust=\"spacingAndGlyphs\" textLength=\"76\" x=\"20\" y=\"20.9951\">StateTest</text></a><!--MD5=[14e3b0961a2654348d326746436168a1]\n",
       "cluster E6--><a href=\"psysml:f2a66a23-1197-47ed-b1bd-74e1ad61d6fd\" target=\"_top\" title=\"psysml:f2a66a23-1197-47ed-b1bd-74e1ad61d6fd\" xlink:actuate=\"onRequest\" xlink:href=\"psysml:f2a66a23-1197-47ed-b1bd-74e1ad61d6fd\" xlink:show=\"new\" xlink:title=\"psysml:f2a66a23-1197-47ed-b1bd-74e1ad61d6fd\" xlink:type=\"simple\"><rect fill=\"#FFFFFF\" filter=\"url(#f1ctsgbylv8kcq)\" height=\"476.5\" id=\"E6\" style=\"stroke: #A80036; stroke-width: 1.5;\" width=\"327\" x=\"446\" y=\"49\"/><rect fill=\"#FEFECE\" height=\"37.9375\" style=\"stroke: #A80036; stroke-width: 1.5;\" width=\"327\" x=\"446\" y=\"49\"/><text fill=\"#000000\" font-family=\"sans-serif\" font-size=\"12\" font-style=\"italic\" lengthAdjust=\"spacingAndGlyphs\" textLength=\"71\" x=\"574\" y=\"65.1387\">«state def»</text><text fill=\"#000000\" font-family=\"sans-serif\" font-size=\"12\" lengthAdjust=\"spacingAndGlyphs\" textLength=\"8\" x=\"605.5\" y=\"79.1074\">S</text><line style=\"stroke: #A80036; stroke-width: 1.0;\" x1=\"446\" x2=\"773\" y1=\"132.8438\" y2=\"132.8438\"/><text fill=\"#000000\" font-family=\"sans-serif\" font-size=\"12\" font-weight=\"bold\" lengthAdjust=\"spacingAndGlyphs\" textLength=\"38\" x=\"451\" y=\"100.0762\">entry</text><text fill=\"#000000\" font-family=\"sans-serif\" font-size=\"12\" lengthAdjust=\"spacingAndGlyphs\" textLength=\"16\" x=\"489\" y=\"100.0762\">/ A</text><text fill=\"#000000\" font-family=\"sans-serif\" font-size=\"12\" font-weight=\"bold\" lengthAdjust=\"spacingAndGlyphs\" textLength=\"18\" x=\"451\" y=\"114.0449\">do</text><text fill=\"#000000\" font-family=\"sans-serif\" font-size=\"12\" lengthAdjust=\"spacingAndGlyphs\" textLength=\"16\" x=\"469\" y=\"114.0449\">/ B</text><text fill=\"#000000\" font-family=\"sans-serif\" font-size=\"12\" font-weight=\"bold\" lengthAdjust=\"spacingAndGlyphs\" textLength=\"26\" x=\"451\" y=\"128.0137\">exit</text><text fill=\"#000000\" font-family=\"sans-serif\" font-size=\"12\" lengthAdjust=\"spacingAndGlyphs\" textLength=\"28\" x=\"477\" y=\"128.0137\">/ act</text></a><!--MD5=[b4997ac47864f28c2f74865a473b2911]\n",
       "class E2--><a href=\"psysml:f1048496-f45f-4de3-be42-17169da36fba\" target=\"_top\" title=\"psysml:f1048496-f45f-4de3-be42-17169da36fba\" xlink:actuate=\"onRequest\" xlink:href=\"psysml:f1048496-f45f-4de3-be42-17169da36fba\" xlink:show=\"new\" xlink:title=\"psysml:f1048496-f45f-4de3-be42-17169da36fba\" xlink:type=\"simple\"><rect fill=\"#FEFECE\" filter=\"url(#f1ctsgbylv8kcq)\" height=\"58.7422\" id=\"E2\" style=\"stroke: #A80036; stroke-width: 1.5;\" width=\"95\" x=\"334.5\" y=\"127.5\"/><text fill=\"#000000\" font-family=\"sans-serif\" font-size=\"12\" font-style=\"italic\" lengthAdjust=\"spacingAndGlyphs\" textLength=\"93\" x=\"335.5\" y=\"143.6387\">«attribute def»</text><text fill=\"#000000\" font-family=\"sans-serif\" font-size=\"12\" lengthAdjust=\"spacingAndGlyphs\" textLength=\"19\" x=\"372.5\" y=\"157.6074\">Sig</text><line style=\"stroke: #A80036; stroke-width: 1.5;\" x1=\"335.5\" x2=\"428.5\" y1=\"165.4375\" y2=\"165.4375\"/><text fill=\"#000000\" font-family=\"sans-serif\" font-size=\"11\" lengthAdjust=\"spacingAndGlyphs\" textLength=\"6\" x=\"340.5\" y=\"179.6479\">x</text></a><!--MD5=[09b614a08d8cba4a07c9adeb5e0fee81]\n",
       "class E3--><a href=\"psysml:546c6a0a-79ca-4224-b50a-77e407cae485\" target=\"_top\" title=\"psysml:546c6a0a-79ca-4224-b50a-77e407cae485\" xlink:actuate=\"onRequest\" xlink:href=\"psysml:546c6a0a-79ca-4224-b50a-77e407cae485\" xlink:show=\"new\" xlink:title=\"psysml:546c6a0a-79ca-4224-b50a-77e407cae485\" xlink:type=\"simple\"><rect fill=\"#FEFECE\" filter=\"url(#f1ctsgbylv8kcq)\" height=\"45.9375\" id=\"E3\" style=\"stroke: #A80036; stroke-width: 1.5;\" width=\"95\" x=\"204.5\" y=\"134\"/><text fill=\"#000000\" font-family=\"sans-serif\" font-size=\"12\" font-style=\"italic\" lengthAdjust=\"spacingAndGlyphs\" textLength=\"93\" x=\"205.5\" y=\"150.1387\">«attribute def»</text><text fill=\"#000000\" font-family=\"sans-serif\" font-size=\"12\" lengthAdjust=\"spacingAndGlyphs\" textLength=\"22\" x=\"241\" y=\"164.1074\">Exit</text><line style=\"stroke: #A80036; stroke-width: 1.5;\" x1=\"205.5\" x2=\"298.5\" y1=\"171.9375\" y2=\"171.9375\"/></a><!--MD5=[ebbe1d658d1005bcc118a6aa81145e00]\n",
       "class E4--><a href=\"psysml:4710131f-7c31-45d9-a6fe-10a60fc8490a\" target=\"_top\" title=\"psysml:4710131f-7c31-45d9-a6fe-10a60fc8490a\" xlink:actuate=\"onRequest\" xlink:href=\"psysml:4710131f-7c31-45d9-a6fe-10a60fc8490a\" xlink:show=\"new\" xlink:title=\"psysml:4710131f-7c31-45d9-a6fe-10a60fc8490a\" xlink:type=\"simple\"><rect fill=\"#FEFECE\" filter=\"url(#f1ctsgbylv8kcq)\" height=\"45.9375\" id=\"E4\" rx=\"10\" ry=\"10\" style=\"stroke: #A80036; stroke-width: 1.5;\" width=\"42\" x=\"127\" y=\"134\"/><text fill=\"#000000\" font-family=\"sans-serif\" font-size=\"12\" font-style=\"italic\" lengthAdjust=\"spacingAndGlyphs\" textLength=\"40\" x=\"128\" y=\"150.1387\">«part»</text><text fill=\"#000000\" font-family=\"sans-serif\" font-size=\"12\" lengthAdjust=\"spacingAndGlyphs\" textLength=\"8\" x=\"144\" y=\"164.1074\">p</text><line style=\"stroke: #A80036; stroke-width: 1.5;\" x1=\"128\" x2=\"168\" y1=\"171.9375\" y2=\"171.9375\"/></a><g id=\"E1.E5\"><a href=\"psysml:0b92cdb5-3694-4434-adff-e0b2149bd4e6\" target=\"_top\" title=\"psysml:0b92cdb5-3694-4434-adff-e0b2149bd4e6\" xlink:actuate=\"onRequest\" xlink:href=\"psysml:0b92cdb5-3694-4434-adff-e0b2149bd4e6\" xlink:show=\"new\" xlink:title=\"psysml:0b92cdb5-3694-4434-adff-e0b2149bd4e6\" xlink:type=\"simple\"><rect fill=\"#FEFECE\" filter=\"url(#f1ctsgbylv8kcq)\" height=\"42.9375\" id=\"E5\" rx=\"10\" ry=\"10\" style=\"stroke: #A80036; stroke-width: 1.5;\" width=\"60\" x=\"32\" y=\"135.5\"/><text fill=\"#000000\" font-family=\"sans-serif\" font-size=\"12\" font-style=\"italic\" lengthAdjust=\"spacingAndGlyphs\" textLength=\"53\" x=\"35.5\" y=\"151.6387\">«action»</text><text fill=\"#000000\" font-family=\"sans-serif\" font-size=\"12\" lengthAdjust=\"spacingAndGlyphs\" textLength=\"20\" x=\"52\" y=\"165.6074\">act</text></a></g><ellipse cx=\"558\" cy=\"157\" fill=\"#000000\" filter=\"url(#f1ctsgbylv8kcq)\" rx=\"10\" ry=\"10\" style=\"stroke: none; stroke-width: 1.0;\"/><ellipse cx=\"583\" cy=\"499.5\" fill=\"none\" filter=\"url(#f1ctsgbylv8kcq)\" rx=\"10\" ry=\"10\" style=\"stroke: #000000; stroke-width: 1.0;\"/><ellipse cx=\"583.5\" cy=\"500\" fill=\"#000000\" rx=\"6\" ry=\"6\" style=\"stroke: none; stroke-width: 1.0;\"/><g id=\"E1.E6.E7\"><a href=\"psysml:0ffea2c5-2698-4589-991c-94f7ac5b0395\" target=\"_top\" title=\"psysml:0ffea2c5-2698-4589-991c-94f7ac5b0395\" xlink:actuate=\"onRequest\" xlink:href=\"psysml:0ffea2c5-2698-4589-991c-94f7ac5b0395\" xlink:show=\"new\" xlink:title=\"psysml:0ffea2c5-2698-4589-991c-94f7ac5b0395\" xlink:type=\"simple\"><rect fill=\"#FEFECE\" filter=\"url(#f1ctsgbylv8kcq)\" height=\"40\" id=\"E7\" rx=\"10\" ry=\"10\" style=\"stroke: #A80036; stroke-width: 1.5;\" width=\"50\" x=\"533\" y=\"247.5\"/><text fill=\"#000000\" font-family=\"sans-serif\" font-size=\"12\" lengthAdjust=\"spacingAndGlyphs\" textLength=\"16\" x=\"550\" y=\"263.6387\">S1</text></a></g><g id=\"E1.E6.E8\"><a href=\"psysml:f6369ddf-93b2-4791-a9ee-7d090a7e6258\" target=\"_top\" title=\"psysml:f6369ddf-93b2-4791-a9ee-7d090a7e6258\" xlink:actuate=\"onRequest\" xlink:href=\"psysml:f6369ddf-93b2-4791-a9ee-7d090a7e6258\" xlink:show=\"new\" xlink:title=\"psysml:f6369ddf-93b2-4791-a9ee-7d090a7e6258\" xlink:type=\"simple\"><rect fill=\"#FEFECE\" filter=\"url(#f1ctsgbylv8kcq)\" height=\"47.9375\" id=\"E8\" rx=\"10\" ry=\"10\" style=\"stroke: #A80036; stroke-width: 1.5;\" width=\"169\" x=\"498.5\" y=\"364.5\"/><text fill=\"#000000\" font-family=\"sans-serif\" font-size=\"12\" lengthAdjust=\"spacingAndGlyphs\" textLength=\"16\" x=\"575\" y=\"380.6387\">S2</text><line style=\"stroke: #A80036; stroke-width: 1.0;\" x1=\"498.5\" x2=\"667.5\" y1=\"388.4688\" y2=\"388.4688\"/><text fill=\"#000000\" font-family=\"sans-serif\" font-size=\"12\" font-weight=\"bold\" lengthAdjust=\"spacingAndGlyphs\" textLength=\"18\" x=\"503.5\" y=\"401.6074\">do</text><text fill=\"#000000\" font-family=\"sans-serif\" font-size=\"12\" lengthAdjust=\"spacingAndGlyphs\" textLength=\"141\" x=\"521.5\" y=\"401.6074\">/  send Sig(T::s::x) to p</text></a></g><!--MD5=[5a531d3a85f3339e6e197084acb48195]\n",
       "link *start*E6 to E7--><a href=\"psysml:3d6f6111-a5f0-4f07-bf0a-543b5052b3c3\" target=\"_top\" title=\"psysml:3d6f6111-a5f0-4f07-bf0a-543b5052b3c3\" xlink:actuate=\"onRequest\" xlink:href=\"psysml:3d6f6111-a5f0-4f07-bf0a-543b5052b3c3\" xlink:show=\"new\" xlink:title=\"psysml:3d6f6111-a5f0-4f07-bf0a-543b5052b3c3\" xlink:type=\"simple\"><path d=\"M558,167.25 C558,183.64 558,218.28 558,241.97 \" fill=\"none\" id=\"*start*E6-&gt;E7\" style=\"stroke: #A80036; stroke-width: 1.0;\"/><polygon fill=\"#A80036\" points=\"558,247.15,562,238.15,558,242.15,554,238.15,558,247.15\" style=\"stroke: #A80036; stroke-width: 1.0;\"/></a><!--MD5=[7ec9a8babba89ddcae1318ca9fb3c814]\n",
       "link E8 to *end*E6--><a href=\"psysml:374875bf-0004-40f7-bedc-1374d527cde5\" target=\"_top\" title=\"psysml:374875bf-0004-40f7-bedc-1374d527cde5\" xlink:actuate=\"onRequest\" xlink:href=\"psysml:374875bf-0004-40f7-bedc-1374d527cde5\" xlink:show=\"new\" xlink:title=\"psysml:374875bf-0004-40f7-bedc-1374d527cde5\" xlink:type=\"simple\"><path d=\"M583,412.62 C583,434.25 583,465.89 583,484.12 \" fill=\"none\" id=\"E8-&gt;*end*E6\" style=\"stroke: #A80036; stroke-width: 1.0;\"/><polygon fill=\"#A80036\" points=\"583,489.32,587,480.32,583,484.32,579,480.32,583,489.32\" style=\"stroke: #A80036; stroke-width: 1.0;\"/><text fill=\"#000000\" font-family=\"sans-serif\" font-size=\"13\" lengthAdjust=\"spacingAndGlyphs\" textLength=\"23\" x=\"584\" y=\"455.5669\">Exit</text></a><!--MD5=[79bc8f324ef4d02c541433f2e6e513c3]\n",
       "link E7 to E8--><a href=\"psysml:69f1494c-077d-4519-8343-87cce73be713\" target=\"_top\" title=\"psysml:69f1494c-077d-4519-8343-87cce73be713\" xlink:actuate=\"onRequest\" xlink:href=\"psysml:69f1494c-077d-4519-8343-87cce73be713\" xlink:show=\"new\" xlink:title=\"psysml:69f1494c-077d-4519-8343-87cce73be713\" xlink:type=\"simple\"><path d=\"M532.85,279.79 C509.89,291.81 481.3,312.16 494,334.5 C500.2,345.4 509.62,354.3 520.06,361.47 \" fill=\"none\" id=\"E7-&gt;E8\" style=\"stroke: #A80036; stroke-width: 1.0;\"/><polygon fill=\"#A80036\" points=\"524.26,364.24,518.9574,355.9404,520.0888,361.483,514.5462,362.6144,524.26,364.24\" style=\"stroke: #A80036; stroke-width: 1.0;\"/><text fill=\"#000000\" font-family=\"sans-serif\" font-size=\"13\" lengthAdjust=\"spacingAndGlyphs\" textLength=\"81\" x=\"495\" y=\"330.5669\">Sig /action D</text></a><!--MD5=[bfa3c8b0d15052fdf50ae9310b491027]\n",
       "link E8 to E7--><a href=\"psysml:f8d53726-bfe5-4353-91f3-ae2ef06d9a38\" target=\"_top\" title=\"psysml:f8d53726-bfe5-4353-91f3-ae2ef06d9a38\" xlink:actuate=\"onRequest\" xlink:href=\"psysml:f8d53726-bfe5-4353-91f3-ae2ef06d9a38\" xlink:show=\"new\" xlink:title=\"psysml:f8d53726-bfe5-4353-91f3-ae2ef06d9a38\" xlink:type=\"simple\"><path d=\"M584.68,364.49 C585.12,350.69 584.66,332.88 581,317.5 C578.98,309.02 575.41,300.25 571.67,292.52 \" fill=\"none\" id=\"E8-&gt;E7\" style=\"stroke: #A80036; stroke-width: 1.0;\"/><polygon fill=\"#A80036\" points=\"569.33,287.85,569.7898,297.6881,571.5718,292.3193,576.9406,294.1013,569.33,287.85\" style=\"stroke: #A80036; stroke-width: 1.0;\"/><text fill=\"#000000\" font-family=\"sans-serif\" font-size=\"13\" lengthAdjust=\"spacingAndGlyphs\" textLength=\"135\" x=\"584\" y=\"330.5669\">Sig [true]/send s to p</text></a><!--MD5=[acc76d0badd4ab9a51096dcd7297dcdc]\n",
       "@startuml\r\n",
       "skinparam wrapWidth 300\r\n",
       "hide circle\r\n",
       "\r\n",
       "package \"StateTest\" as E1  [[psysml:800f45c9-cf5c-46ce-b3c3-487778cd6319 ]]  {\r\n",
       "comp def \"Sig\" as E2  <<(T,blue)attribute def>> [[psysml:f1048496-f45f-4de3-be42-17169da36fba ]] {\r\n",
       "x\r\n",
       "}\r\n",
       "comp def \"Exit\" as E3  <<(T,blue)attribute def>> [[psysml:546c6a0a-79ca-4224-b50a-77e407cae485 ]] {\r\n",
       "}\r\n",
       "comp usage \"p\" as E4  <<(T,blue)part>> [[psysml:4710131f-7c31-45d9-a6fe-10a60fc8490a ]] {\r\n",
       "}\r\n",
       "rec usage \"act\" as E5  <<(T,blue)action>> [[psysml:0b92cdb5-3694-4434-adff-e0b2149bd4e6 ]] {\r\n",
       "}\r\n",
       "\r\n",
       "rec def \"S\" as E6  <<(T,blue)state def>> [[psysml:f2a66a23-1197-47ed-b1bd-74e1ad61d6fd ]] {\r\n",
       "rec usage \"S1\" as E7 [[psysml:0ffea2c5-2698-4589-991c-94f7ac5b0395 ]] {\r\n",
       "}\r\n",
       "\r\n",
       "rec usage \"S2\" as E8 [[psysml:f6369ddf-93b2-4791-a9ee-7d090a7e6258 ]] {\r\n",
       "desc \"S2\" as E8  : **do**/  send Sig(T::s::x) to p\r\n",
       "}\r\n",
       "\r\n",
       "desc \"S\" as E6  : **entry**/ A\r\n",
       "desc \"S\" as E6  : **do**/ B\r\n",
       "desc \"S\" as E6  : **exit**/ act \r\n",
       "[*] - -> E7 [[psysml:3d6f6111-a5f0-4f07-bf0a-543b5052b3c3 ]] \r\n",
       "E8  - -> [*] [[psysml:374875bf-0004-40f7-bedc-1374d527cde5 ]] : Exit \r\n",
       "}\r\n",
       "\r\n",
       "E7  - -> E8 [[psysml:69f1494c-077d-4519-8343-87cce73be713 ]] : Sig /action D\r\n",
       "E8  - -> E7 [[psysml:f8d53726-bfe5-4353-91f3-ae2ef06d9a38 ]] : Sig [true]/send s to p\r\n",
       "}\r\n",
       "@enduml\r\n",
       "\n",
       "PlantUML version 1.2020.13(Sat Jun 13 12:26:38 UTC 2020)\n",
       "(EPL source distribution)\n",
       "Java Runtime: OpenJDK Runtime Environment\n",
       "JVM: OpenJDK 64-Bit Server VM\n",
       "Default Encoding: UTF-8\n",
       "Language: en\n",
       "Country: null\n",
       "--></g></svg>"
      ]
     },
     "execution_count": 23,
     "metadata": {},
     "output_type": "execute_result"
    }
   ],
   "source": [
    "%viz --style=\"STDCOLOR\" --view=\"Default\" \"StateTest\""
   ]
  },
  {
   "cell_type": "code",
   "execution_count": 24,
   "id": "b9df2064",
   "metadata": {
    "execution": {
     "iopub.execute_input": "2021-04-21T20:23:42.958194Z",
     "iopub.status.busy": "2021-04-21T20:23:42.957765Z",
     "iopub.status.idle": "2021-04-21T20:23:43.061740Z",
     "shell.execute_reply": "2021-04-21T20:23:43.060270Z"
    }
   },
   "outputs": [
    {
     "data": {
      "image/svg+xml": [
       "<?xml version=\"1.0\" encoding=\"UTF-8\" standalone=\"no\"?><svg xmlns=\"http://www.w3.org/2000/svg\" xmlns:xlink=\"http://www.w3.org/1999/xlink\" contentScriptType=\"application/ecmascript\" contentStyleType=\"text/css\" height=\"365px\" preserveAspectRatio=\"none\" style=\"width:594px;height:365px;\" version=\"1.1\" viewBox=\"0 0 594 365\" width=\"594px\" zoomAndPan=\"magnify\"><defs><filter height=\"300%\" id=\"f1dguo0si28ys1\" width=\"300%\" x=\"-1\" y=\"-1\"><feGaussianBlur result=\"blurOut\" stdDeviation=\"2.0\"/><feColorMatrix in=\"blurOut\" result=\"blurOut2\" type=\"matrix\" values=\"0 0 0 0 0 0 0 0 0 0 0 0 0 0 0 0 0 0 .4 0\"/><feOffset dx=\"4.0\" dy=\"4.0\" in=\"blurOut2\" result=\"blurOut3\"/><feBlend in=\"SourceGraphic\" in2=\"blurOut3\" mode=\"normal\"/></filter></defs><g><!--MD5=[fbc87193dbaf4d95561dea2c320d4a47]\n",
       "cluster E1--><a href=\"psysml:800f45c9-cf5c-46ce-b3c3-487778cd6319\" target=\"_top\" title=\"psysml:800f45c9-cf5c-46ce-b3c3-487778cd6319\" xlink:actuate=\"onRequest\" xlink:href=\"psysml:800f45c9-cf5c-46ce-b3c3-487778cd6319\" xlink:show=\"new\" xlink:title=\"psysml:800f45c9-cf5c-46ce-b3c3-487778cd6319\" xlink:type=\"simple\"><polygon fill=\"#FFFFFF\" filter=\"url(#f1dguo0si28ys1)\" points=\"16,6,98,6,105,28.2969,572,28.2969,572,353,16,353,16,6\" style=\"stroke: #000000; stroke-width: 1.5;\"/><line style=\"stroke: #000000; stroke-width: 1.5;\" x1=\"16\" x2=\"105\" y1=\"28.2969\" y2=\"28.2969\"/><text fill=\"#000000\" font-family=\"sans-serif\" font-size=\"14\" font-weight=\"bold\" lengthAdjust=\"spacingAndGlyphs\" textLength=\"76\" x=\"20\" y=\"20.9951\">StateTest</text></a><!--MD5=[b4997ac47864f28c2f74865a473b2911]\n",
       "class E2--><a href=\"psysml:f1048496-f45f-4de3-be42-17169da36fba\" target=\"_top\" title=\"psysml:f1048496-f45f-4de3-be42-17169da36fba\" xlink:actuate=\"onRequest\" xlink:href=\"psysml:f1048496-f45f-4de3-be42-17169da36fba\" xlink:show=\"new\" xlink:title=\"psysml:f1048496-f45f-4de3-be42-17169da36fba\" xlink:type=\"simple\"><rect fill=\"#FEFECE\" filter=\"url(#f1dguo0si28ys1)\" height=\"58.7422\" id=\"E2\" style=\"stroke: #A80036; stroke-width: 1.5;\" width=\"95\" x=\"460.5\" y=\"91.5\"/><text fill=\"#000000\" font-family=\"sans-serif\" font-size=\"12\" font-style=\"italic\" lengthAdjust=\"spacingAndGlyphs\" textLength=\"93\" x=\"461.5\" y=\"107.6387\">«attribute def»</text><text fill=\"#000000\" font-family=\"sans-serif\" font-size=\"12\" lengthAdjust=\"spacingAndGlyphs\" textLength=\"19\" x=\"498.5\" y=\"121.6074\">Sig</text><line style=\"stroke: #A80036; stroke-width: 1.5;\" x1=\"461.5\" x2=\"554.5\" y1=\"129.4375\" y2=\"129.4375\"/><text fill=\"#000000\" font-family=\"sans-serif\" font-size=\"11\" lengthAdjust=\"spacingAndGlyphs\" textLength=\"6\" x=\"466.5\" y=\"143.6479\">x</text></a><!--MD5=[09b614a08d8cba4a07c9adeb5e0fee81]\n",
       "class E3--><a href=\"psysml:546c6a0a-79ca-4224-b50a-77e407cae485\" target=\"_top\" title=\"psysml:546c6a0a-79ca-4224-b50a-77e407cae485\" xlink:actuate=\"onRequest\" xlink:href=\"psysml:546c6a0a-79ca-4224-b50a-77e407cae485\" xlink:show=\"new\" xlink:title=\"psysml:546c6a0a-79ca-4224-b50a-77e407cae485\" xlink:type=\"simple\"><rect fill=\"#FEFECE\" filter=\"url(#f1dguo0si28ys1)\" height=\"45.9375\" id=\"E3\" style=\"stroke: #A80036; stroke-width: 1.5;\" width=\"95\" x=\"330.5\" y=\"98\"/><text fill=\"#000000\" font-family=\"sans-serif\" font-size=\"12\" font-style=\"italic\" lengthAdjust=\"spacingAndGlyphs\" textLength=\"93\" x=\"331.5\" y=\"114.1387\">«attribute def»</text><text fill=\"#000000\" font-family=\"sans-serif\" font-size=\"12\" lengthAdjust=\"spacingAndGlyphs\" textLength=\"22\" x=\"367\" y=\"128.1074\">Exit</text><line style=\"stroke: #A80036; stroke-width: 1.5;\" x1=\"331.5\" x2=\"424.5\" y1=\"135.9375\" y2=\"135.9375\"/></a><!--MD5=[ebbe1d658d1005bcc118a6aa81145e00]\n",
       "class E4--><a href=\"psysml:4710131f-7c31-45d9-a6fe-10a60fc8490a\" target=\"_top\" title=\"psysml:4710131f-7c31-45d9-a6fe-10a60fc8490a\" xlink:actuate=\"onRequest\" xlink:href=\"psysml:4710131f-7c31-45d9-a6fe-10a60fc8490a\" xlink:show=\"new\" xlink:title=\"psysml:4710131f-7c31-45d9-a6fe-10a60fc8490a\" xlink:type=\"simple\"><rect fill=\"#FEFECE\" filter=\"url(#f1dguo0si28ys1)\" height=\"45.9375\" id=\"E4\" rx=\"10\" ry=\"10\" style=\"stroke: #A80036; stroke-width: 1.5;\" width=\"42\" x=\"253\" y=\"98\"/><text fill=\"#000000\" font-family=\"sans-serif\" font-size=\"12\" font-style=\"italic\" lengthAdjust=\"spacingAndGlyphs\" textLength=\"40\" x=\"254\" y=\"114.1387\">«part»</text><text fill=\"#000000\" font-family=\"sans-serif\" font-size=\"12\" lengthAdjust=\"spacingAndGlyphs\" textLength=\"8\" x=\"270\" y=\"128.1074\">p</text><line style=\"stroke: #A80036; stroke-width: 1.5;\" x1=\"254\" x2=\"294\" y1=\"135.9375\" y2=\"135.9375\"/></a><!--MD5=[270fce915f116d4de14055a7c1d9a0f3]\n",
       "class E5--><a href=\"psysml:0b92cdb5-3694-4434-adff-e0b2149bd4e6\" target=\"_top\" title=\"psysml:0b92cdb5-3694-4434-adff-e0b2149bd4e6\" xlink:actuate=\"onRequest\" xlink:href=\"psysml:0b92cdb5-3694-4434-adff-e0b2149bd4e6\" xlink:show=\"new\" xlink:title=\"psysml:0b92cdb5-3694-4434-adff-e0b2149bd4e6\" xlink:type=\"simple\"><rect fill=\"#FEFECE\" filter=\"url(#f1dguo0si28ys1)\" height=\"45.9375\" id=\"E5\" rx=\"10\" ry=\"10\" style=\"stroke: #A80036; stroke-width: 1.5;\" width=\"55\" x=\"162.5\" y=\"98\"/><text fill=\"#000000\" font-family=\"sans-serif\" font-size=\"12\" font-style=\"italic\" lengthAdjust=\"spacingAndGlyphs\" textLength=\"53\" x=\"163.5\" y=\"114.1387\">«action»</text><text fill=\"#000000\" font-family=\"sans-serif\" font-size=\"12\" lengthAdjust=\"spacingAndGlyphs\" textLength=\"20\" x=\"180\" y=\"128.1074\">act</text><line style=\"stroke: #A80036; stroke-width: 1.5;\" x1=\"163.5\" x2=\"216.5\" y1=\"135.9375\" y2=\"135.9375\"/></a><!--MD5=[60a26617385b1d2d0262a64233df1f8d]\n",
       "class E6--><a href=\"psysml:f2a66a23-1197-47ed-b1bd-74e1ad61d6fd\" target=\"_top\" title=\"psysml:f2a66a23-1197-47ed-b1bd-74e1ad61d6fd\" xlink:actuate=\"onRequest\" xlink:href=\"psysml:f2a66a23-1197-47ed-b1bd-74e1ad61d6fd\" xlink:show=\"new\" xlink:title=\"psysml:f2a66a23-1197-47ed-b1bd-74e1ad61d6fd\" xlink:type=\"simple\"><rect fill=\"#FEFECE\" filter=\"url(#f1dguo0si28ys1)\" height=\"160.375\" id=\"E6\" style=\"stroke: #A80036; stroke-width: 1.5;\" width=\"95\" x=\"32.5\" y=\"41\"/><text fill=\"#000000\" font-family=\"sans-serif\" font-size=\"12\" font-style=\"italic\" lengthAdjust=\"spacingAndGlyphs\" textLength=\"71\" x=\"44.5\" y=\"57.1387\">«state def»</text><text fill=\"#000000\" font-family=\"sans-serif\" font-size=\"12\" lengthAdjust=\"spacingAndGlyphs\" textLength=\"8\" x=\"76\" y=\"71.1074\">S</text><line style=\"stroke: #A80036; stroke-width: 1.5;\" x1=\"33.5\" x2=\"126.5\" y1=\"78.9375\" y2=\"78.9375\"/><text fill=\"#000000\" font-family=\"sans-serif\" font-size=\"11\" lengthAdjust=\"spacingAndGlyphs\" textLength=\"17\" x=\"38.5\" y=\"109.9526\">act</text><text fill=\"#000000\" font-family=\"sans-serif\" font-size=\"11\" lengthAdjust=\"spacingAndGlyphs\" textLength=\"7\" x=\"38.5\" y=\"122.7573\">A</text><text fill=\"#000000\" font-family=\"sans-serif\" font-size=\"11\" lengthAdjust=\"spacingAndGlyphs\" textLength=\"8\" x=\"38.5\" y=\"135.562\">B</text><line style=\"stroke: #A80036; stroke-width: 1.0;\" x1=\"33.5\" x2=\"36.5\" y1=\"93.3398\" y2=\"93.3398\"/><text fill=\"#000000\" font-family=\"sans-serif\" font-size=\"11\" lengthAdjust=\"spacingAndGlyphs\" textLength=\"87\" x=\"36.5\" y=\"96.6479\">performActions</text><line style=\"stroke: #A80036; stroke-width: 1.0;\" x1=\"123.5\" x2=\"126.5\" y1=\"93.3398\" y2=\"93.3398\"/><text fill=\"#000000\" font-family=\"sans-serif\" font-size=\"11\" lengthAdjust=\"spacingAndGlyphs\" textLength=\"15\" x=\"38.5\" y=\"165.1714\">S1</text><line style=\"stroke: #A80036; stroke-width: 1.0;\" x1=\"33.5\" x2=\"62\" y1=\"148.5586\" y2=\"148.5586\"/><text fill=\"#000000\" font-family=\"sans-serif\" font-size=\"11\" lengthAdjust=\"spacingAndGlyphs\" textLength=\"36\" x=\"62\" y=\"151.8667\">states</text><line style=\"stroke: #A80036; stroke-width: 1.0;\" x1=\"98\" x2=\"126.5\" y1=\"148.5586\" y2=\"148.5586\"/><text fill=\"#000000\" font-family=\"sans-serif\" font-size=\"11\" lengthAdjust=\"spacingAndGlyphs\" textLength=\"7\" x=\"38.5\" y=\"194.7808\">T</text><line style=\"stroke: #A80036; stroke-width: 1.0;\" x1=\"33.5\" x2=\"49.5\" y1=\"178.168\" y2=\"178.168\"/><text fill=\"#000000\" font-family=\"sans-serif\" font-size=\"11\" lengthAdjust=\"spacingAndGlyphs\" textLength=\"61\" x=\"49.5\" y=\"181.4761\">transitions</text><line style=\"stroke: #A80036; stroke-width: 1.0;\" x1=\"110.5\" x2=\"126.5\" y1=\"178.168\" y2=\"178.168\"/></a><!--MD5=[1dd1bfd58a279cf63c5f349dbc8fc6a1]\n",
       "class E11--><a href=\"psysml:f6369ddf-93b2-4791-a9ee-7d090a7e6258\" target=\"_top\" title=\"psysml:f6369ddf-93b2-4791-a9ee-7d090a7e6258\" xlink:actuate=\"onRequest\" xlink:href=\"psysml:f6369ddf-93b2-4791-a9ee-7d090a7e6258\" xlink:show=\"new\" xlink:title=\"psysml:f6369ddf-93b2-4791-a9ee-7d090a7e6258\" xlink:type=\"simple\"><rect fill=\"#FEFECE\" filter=\"url(#f1dguo0si28ys1)\" height=\"75.5469\" id=\"E11\" rx=\"10\" ry=\"10\" style=\"stroke: #A80036; stroke-width: 1.5;\" width=\"77\" x=\"41.5\" y=\"261\"/><text fill=\"#000000\" font-family=\"sans-serif\" font-size=\"12\" font-style=\"italic\" lengthAdjust=\"spacingAndGlyphs\" textLength=\"47\" x=\"56.5\" y=\"277.1387\">«state»</text><text fill=\"#000000\" font-family=\"sans-serif\" font-size=\"12\" lengthAdjust=\"spacingAndGlyphs\" textLength=\"16\" x=\"72\" y=\"291.1074\">S2</text><line style=\"stroke: #A80036; stroke-width: 1.5;\" x1=\"42.5\" x2=\"117.5\" y1=\"298.9375\" y2=\"298.9375\"/><text fill=\"#000000\" font-family=\"sans-serif\" font-size=\"11\" lengthAdjust=\"spacingAndGlyphs\" textLength=\"48\" x=\"47.5\" y=\"329.9526\">doAction</text><line style=\"stroke: #A80036; stroke-width: 1.0;\" x1=\"42.5\" x2=\"45.5\" y1=\"313.3398\" y2=\"313.3398\"/><text fill=\"#000000\" font-family=\"sans-serif\" font-size=\"11\" lengthAdjust=\"spacingAndGlyphs\" textLength=\"69\" x=\"45.5\" y=\"316.6479\">sendActions</text><line style=\"stroke: #A80036; stroke-width: 1.0;\" x1=\"114.5\" x2=\"117.5\" y1=\"313.3398\" y2=\"313.3398\"/></a><!--MD5=[1f5f03483f7de0d5b3680a7f6650997f]\n",
       "reverse link E6 to E11--><a href=\"psysml:247e0169-6466-401b-83f0-032a7b21c539\" target=\"_top\" title=\"psysml:247e0169-6466-401b-83f0-032a7b21c539\" xlink:actuate=\"onRequest\" xlink:href=\"psysml:247e0169-6466-401b-83f0-032a7b21c539\" xlink:show=\"new\" xlink:title=\"psysml:247e0169-6466-401b-83f0-032a7b21c539\" xlink:type=\"simple\"><path d=\"M80,214.46 C80,230.92 80,247.18 80,260.92 \" fill=\"none\" id=\"E6&lt;-E11\" style=\"stroke: #A80036; stroke-width: 1.0;\"/><polygon fill=\"#A80036\" points=\"80,201.25,76,207.25,80,213.25,84,207.25,80,201.25\" style=\"stroke: #A80036; stroke-width: 1.0;\"/></a><!--MD5=[e1a72a134fd0040c08312cce0c9bffc1]\n",
       "@startuml\r\n",
       "skinparam wrapWidth 300\r\n",
       "hide circle\r\n",
       "\r\n",
       "package \"StateTest\" as E1  [[psysml:800f45c9-cf5c-46ce-b3c3-487778cd6319 ]]  {\r\n",
       "comp def \"Sig\" as E2  <<(T,blue)attribute def>> [[psysml:f1048496-f45f-4de3-be42-17169da36fba ]] {\r\n",
       "x\r\n",
       "}\r\n",
       "comp def \"Exit\" as E3  <<(T,blue)attribute def>> [[psysml:546c6a0a-79ca-4224-b50a-77e407cae485 ]] {\r\n",
       "}\r\n",
       "comp usage \"p\" as E4  <<(T,blue)part>> [[psysml:4710131f-7c31-45d9-a6fe-10a60fc8490a ]] {\r\n",
       "}\r\n",
       "comp usage \"act\" as E5  <<(T,blue)action>> [[psysml:0b92cdb5-3694-4434-adff-e0b2149bd4e6 ]] {\r\n",
       "}\r\n",
       "comp def \"S\" as E6  <<(T,blue)state def>> [[psysml:f2a66a23-1197-47ed-b1bd-74e1ad61d6fd ]] {\r\n",
       "- - performActions - -\r\n",
       "act\r\n",
       "A\r\n",
       "B\r\n",
       "- - states - -\r\n",
       "S1\r\n",
       "- - transitions - -\r\n",
       "T\r\n",
       "}\r\n",
       "comp usage \"S2\" as E11  <<(T,blue)state>> [[psysml:f6369ddf-93b2-4791-a9ee-7d090a7e6258 ]] {\r\n",
       "- - sendActions - -\r\n",
       "doAction\r\n",
       "}\r\n",
       "E6 *- - E11 [[psysml:247e0169-6466-401b-83f0-032a7b21c539 ]] \r\n",
       "}\r\n",
       "@enduml\r\n",
       "\n",
       "PlantUML version 1.2020.13(Sat Jun 13 12:26:38 UTC 2020)\n",
       "(EPL source distribution)\n",
       "Java Runtime: OpenJDK Runtime Environment\n",
       "JVM: OpenJDK 64-Bit Server VM\n",
       "Default Encoding: UTF-8\n",
       "Language: en\n",
       "Country: null\n",
       "--></g></svg>"
      ]
     },
     "execution_count": 24,
     "metadata": {},
     "output_type": "execute_result"
    }
   ],
   "source": [
    "%viz --style=\"STDCOLOR\" --view=\"Tree\" \"StateTest\""
   ]
  },
  {
   "cell_type": "code",
   "execution_count": 25,
   "id": "734906e3",
   "metadata": {
    "execution": {
     "iopub.execute_input": "2021-04-21T20:23:43.115190Z",
     "iopub.status.busy": "2021-04-21T20:23:43.113965Z",
     "iopub.status.idle": "2021-04-21T20:23:43.145978Z",
     "shell.execute_reply": "2021-04-21T20:23:43.144784Z"
    }
   },
   "outputs": [
    {
     "data": {
      "image/svg+xml": [
       "<?xml version=\"1.0\" encoding=\"UTF-8\" standalone=\"no\"?><svg xmlns=\"http://www.w3.org/2000/svg\" xmlns:xlink=\"http://www.w3.org/1999/xlink\" contentScriptType=\"application/ecmascript\" contentStyleType=\"text/css\" height=\"483px\" preserveAspectRatio=\"none\" style=\"width:353px;height:483px;\" version=\"1.1\" viewBox=\"0 0 353 483\" width=\"353px\" zoomAndPan=\"magnify\"><defs><filter height=\"300%\" id=\"f1v3z7zkpcd5g9\" width=\"300%\" x=\"-1\" y=\"-1\"><feGaussianBlur result=\"blurOut\" stdDeviation=\"2.0\"/><feColorMatrix in=\"blurOut\" result=\"blurOut2\" type=\"matrix\" values=\"0 0 0 0 0 0 0 0 0 0 0 0 0 0 0 0 0 0 .4 0\"/><feOffset dx=\"4.0\" dy=\"4.0\" in=\"blurOut2\" result=\"blurOut3\"/><feBlend in=\"SourceGraphic\" in2=\"blurOut3\" mode=\"normal\"/></filter></defs><g><!--MD5=[fbc87193dbaf4d95561dea2c320d4a47]\n",
       "cluster E1--><a href=\"psysml:f2a66a23-1197-47ed-b1bd-74e1ad61d6fd\" target=\"_top\" title=\"psysml:f2a66a23-1197-47ed-b1bd-74e1ad61d6fd\" xlink:actuate=\"onRequest\" xlink:href=\"psysml:f2a66a23-1197-47ed-b1bd-74e1ad61d6fd\" xlink:show=\"new\" xlink:title=\"psysml:f2a66a23-1197-47ed-b1bd-74e1ad61d6fd\" xlink:type=\"simple\"><rect fill=\"#FFFFFF\" filter=\"url(#f1v3z7zkpcd5g9)\" height=\"457\" id=\"E1\" style=\"stroke: #A80036; stroke-width: 1.5;\" width=\"327\" x=\"7\" y=\"7\"/><rect fill=\"#FEFECE\" height=\"37.9375\" style=\"stroke: #A80036; stroke-width: 1.5;\" width=\"327\" x=\"7\" y=\"7\"/><text fill=\"#000000\" font-family=\"sans-serif\" font-size=\"12\" font-style=\"italic\" lengthAdjust=\"spacingAndGlyphs\" textLength=\"71\" x=\"135\" y=\"23.1387\">«state def»</text><text fill=\"#000000\" font-family=\"sans-serif\" font-size=\"12\" lengthAdjust=\"spacingAndGlyphs\" textLength=\"8\" x=\"166.5\" y=\"37.1074\">S</text><line style=\"stroke: #A80036; stroke-width: 1.0;\" x1=\"7\" x2=\"334\" y1=\"90.8438\" y2=\"90.8438\"/><text fill=\"#000000\" font-family=\"sans-serif\" font-size=\"12\" font-weight=\"bold\" lengthAdjust=\"spacingAndGlyphs\" textLength=\"38\" x=\"12\" y=\"58.0762\">entry</text><text fill=\"#000000\" font-family=\"sans-serif\" font-size=\"12\" lengthAdjust=\"spacingAndGlyphs\" textLength=\"16\" x=\"50\" y=\"58.0762\">/ A</text><text fill=\"#000000\" font-family=\"sans-serif\" font-size=\"12\" font-weight=\"bold\" lengthAdjust=\"spacingAndGlyphs\" textLength=\"18\" x=\"12\" y=\"72.0449\">do</text><text fill=\"#000000\" font-family=\"sans-serif\" font-size=\"12\" lengthAdjust=\"spacingAndGlyphs\" textLength=\"16\" x=\"30\" y=\"72.0449\">/ B</text><text fill=\"#000000\" font-family=\"sans-serif\" font-size=\"12\" font-weight=\"bold\" lengthAdjust=\"spacingAndGlyphs\" textLength=\"26\" x=\"12\" y=\"86.0137\">exit</text><text fill=\"#000000\" font-family=\"sans-serif\" font-size=\"12\" lengthAdjust=\"spacingAndGlyphs\" textLength=\"28\" x=\"38\" y=\"86.0137\">/ act</text></a><ellipse cx=\"119\" cy=\"115\" fill=\"#000000\" filter=\"url(#f1v3z7zkpcd5g9)\" rx=\"10\" ry=\"10\" style=\"stroke: none; stroke-width: 1.0;\"/><ellipse cx=\"144\" cy=\"438\" fill=\"none\" filter=\"url(#f1v3z7zkpcd5g9)\" rx=\"10\" ry=\"10\" style=\"stroke: #000000; stroke-width: 1.0;\"/><ellipse cx=\"144.5\" cy=\"438.5\" fill=\"#000000\" rx=\"6\" ry=\"6\" style=\"stroke: none; stroke-width: 1.0;\"/><g id=\"E1.E2\"><a href=\"psysml:0ffea2c5-2698-4589-991c-94f7ac5b0395\" target=\"_top\" title=\"psysml:0ffea2c5-2698-4589-991c-94f7ac5b0395\" xlink:actuate=\"onRequest\" xlink:href=\"psysml:0ffea2c5-2698-4589-991c-94f7ac5b0395\" xlink:show=\"new\" xlink:title=\"psysml:0ffea2c5-2698-4589-991c-94f7ac5b0395\" xlink:type=\"simple\"><rect fill=\"#FEFECE\" filter=\"url(#f1v3z7zkpcd5g9)\" height=\"40\" id=\"E2\" rx=\"10\" ry=\"10\" style=\"stroke: #A80036; stroke-width: 1.5;\" width=\"50\" x=\"94\" y=\"186\"/><text fill=\"#000000\" font-family=\"sans-serif\" font-size=\"12\" lengthAdjust=\"spacingAndGlyphs\" textLength=\"16\" x=\"111\" y=\"202.1387\">S1</text></a></g><g id=\"E1.E3\"><a href=\"psysml:f6369ddf-93b2-4791-a9ee-7d090a7e6258\" target=\"_top\" title=\"psysml:f6369ddf-93b2-4791-a9ee-7d090a7e6258\" xlink:actuate=\"onRequest\" xlink:href=\"psysml:f6369ddf-93b2-4791-a9ee-7d090a7e6258\" xlink:show=\"new\" xlink:title=\"psysml:f6369ddf-93b2-4791-a9ee-7d090a7e6258\" xlink:type=\"simple\"><rect fill=\"#FEFECE\" filter=\"url(#f1v3z7zkpcd5g9)\" height=\"47.9375\" id=\"E3\" rx=\"10\" ry=\"10\" style=\"stroke: #A80036; stroke-width: 1.5;\" width=\"169\" x=\"59.5\" y=\"303\"/><text fill=\"#000000\" font-family=\"sans-serif\" font-size=\"12\" lengthAdjust=\"spacingAndGlyphs\" textLength=\"16\" x=\"136\" y=\"319.1387\">S2</text><line style=\"stroke: #A80036; stroke-width: 1.0;\" x1=\"59.5\" x2=\"228.5\" y1=\"326.9688\" y2=\"326.9688\"/><text fill=\"#000000\" font-family=\"sans-serif\" font-size=\"12\" font-weight=\"bold\" lengthAdjust=\"spacingAndGlyphs\" textLength=\"18\" x=\"64.5\" y=\"340.1074\">do</text><text fill=\"#000000\" font-family=\"sans-serif\" font-size=\"12\" lengthAdjust=\"spacingAndGlyphs\" textLength=\"141\" x=\"82.5\" y=\"340.1074\">/  send Sig(T::s::x) to p</text></a></g><!--MD5=[cff944eb183b832d446717a4e202d613]\n",
       "link *start*E1 to E2--><a href=\"psysml:3d6f6111-a5f0-4f07-bf0a-543b5052b3c3\" target=\"_top\" title=\"psysml:3d6f6111-a5f0-4f07-bf0a-543b5052b3c3\" xlink:actuate=\"onRequest\" xlink:href=\"psysml:3d6f6111-a5f0-4f07-bf0a-543b5052b3c3\" xlink:show=\"new\" xlink:title=\"psysml:3d6f6111-a5f0-4f07-bf0a-543b5052b3c3\" xlink:type=\"simple\"><path d=\"M119,125.19 C119,138.18 119,162.38 119,180.73 \" fill=\"none\" id=\"*start*E1-&gt;E2\" style=\"stroke: #A80036; stroke-width: 1.0;\"/><polygon fill=\"#A80036\" points=\"119,185.74,123,176.74,119,180.74,115,176.74,119,185.74\" style=\"stroke: #A80036; stroke-width: 1.0;\"/></a><!--MD5=[9ee7afa76ca8c509b3d216624c3a9893]\n",
       "link E3 to *end*E1--><a href=\"psysml:374875bf-0004-40f7-bedc-1374d527cde5\" target=\"_top\" title=\"psysml:374875bf-0004-40f7-bedc-1374d527cde5\" xlink:actuate=\"onRequest\" xlink:href=\"psysml:374875bf-0004-40f7-bedc-1374d527cde5\" xlink:show=\"new\" xlink:title=\"psysml:374875bf-0004-40f7-bedc-1374d527cde5\" xlink:type=\"simple\"><path d=\"M144,351.12 C144,372.75 144,404.39 144,422.62 \" fill=\"none\" id=\"E3-&gt;*end*E1\" style=\"stroke: #A80036; stroke-width: 1.0;\"/><polygon fill=\"#A80036\" points=\"144,427.82,148,418.82,144,422.82,140,418.82,144,427.82\" style=\"stroke: #A80036; stroke-width: 1.0;\"/><text fill=\"#000000\" font-family=\"sans-serif\" font-size=\"13\" lengthAdjust=\"spacingAndGlyphs\" textLength=\"23\" x=\"145\" y=\"394.0669\">Exit</text></a><!--MD5=[2720a5a1f2c3fca2055b230370638851]\n",
       "link E2 to E3--><a href=\"psysml:69f1494c-077d-4519-8343-87cce73be713\" target=\"_top\" title=\"psysml:69f1494c-077d-4519-8343-87cce73be713\" xlink:actuate=\"onRequest\" xlink:href=\"psysml:69f1494c-077d-4519-8343-87cce73be713\" xlink:show=\"new\" xlink:title=\"psysml:69f1494c-077d-4519-8343-87cce73be713\" xlink:type=\"simple\"><path d=\"M93.85,218.29 C70.89,230.31 42.3,250.66 55,273 C61.2,283.9 70.62,292.8 81.06,299.97 \" fill=\"none\" id=\"E2-&gt;E3\" style=\"stroke: #A80036; stroke-width: 1.0;\"/><polygon fill=\"#A80036\" points=\"85.26,302.74,79.9574,294.4404,81.0888,299.983,75.5462,301.1144,85.26,302.74\" style=\"stroke: #A80036; stroke-width: 1.0;\"/><text fill=\"#000000\" font-family=\"sans-serif\" font-size=\"13\" lengthAdjust=\"spacingAndGlyphs\" textLength=\"81\" x=\"56\" y=\"269.0669\">Sig /action D</text></a><!--MD5=[05d275557350bfb9b23a4ef7222b4c39]\n",
       "link E3 to E2--><a href=\"psysml:f8d53726-bfe5-4353-91f3-ae2ef06d9a38\" target=\"_top\" title=\"psysml:f8d53726-bfe5-4353-91f3-ae2ef06d9a38\" xlink:actuate=\"onRequest\" xlink:href=\"psysml:f8d53726-bfe5-4353-91f3-ae2ef06d9a38\" xlink:show=\"new\" xlink:title=\"psysml:f8d53726-bfe5-4353-91f3-ae2ef06d9a38\" xlink:type=\"simple\"><path d=\"M145.68,302.99 C146.12,289.19 145.66,271.38 142,256 C139.98,247.52 136.41,238.75 132.67,231.02 \" fill=\"none\" id=\"E3-&gt;E2\" style=\"stroke: #A80036; stroke-width: 1.0;\"/><polygon fill=\"#A80036\" points=\"130.33,226.35,130.7898,236.1881,132.5718,230.8193,137.9406,232.6013,130.33,226.35\" style=\"stroke: #A80036; stroke-width: 1.0;\"/><text fill=\"#000000\" font-family=\"sans-serif\" font-size=\"13\" lengthAdjust=\"spacingAndGlyphs\" textLength=\"135\" x=\"145\" y=\"269.0669\">Sig [true]/send s to p</text></a><!--MD5=[bca3367439aeb2be16b7f5bcb13ee390]\n",
       "@startuml\r\n",
       "skinparam wrapWidth 300\r\n",
       "hide circle\r\n",
       "\r\n",
       "rec def \"S\" as E1  <<(T,blue)state def>> [[psysml:f2a66a23-1197-47ed-b1bd-74e1ad61d6fd ]] {\r\n",
       "rec usage \"S1\" as E2 [[psysml:0ffea2c5-2698-4589-991c-94f7ac5b0395 ]] {\r\n",
       "}\r\n",
       "\r\n",
       "rec usage \"S2\" as E3 [[psysml:f6369ddf-93b2-4791-a9ee-7d090a7e6258 ]] {\r\n",
       "desc \"S2\" as E3  : **do**/  send Sig(T::s::x) to p\r\n",
       "}\r\n",
       "\r\n",
       "desc \"S\" as E1  : **entry**/ A\r\n",
       "desc \"S\" as E1  : **do**/ B\r\n",
       "desc \"S\" as E1  : **exit**/ act \r\n",
       "[*] - -> E2 [[psysml:3d6f6111-a5f0-4f07-bf0a-543b5052b3c3 ]] \r\n",
       "E3  - -> [*] [[psysml:374875bf-0004-40f7-bedc-1374d527cde5 ]] : Exit \r\n",
       "}\r\n",
       "\r\n",
       "E2  - -> E3 [[psysml:69f1494c-077d-4519-8343-87cce73be713 ]] : Sig /action D\r\n",
       "E3  - -> E2 [[psysml:f8d53726-bfe5-4353-91f3-ae2ef06d9a38 ]] : Sig [true]/send s to p\r\n",
       "@enduml\r\n",
       "\n",
       "PlantUML version 1.2020.13(Sat Jun 13 12:26:38 UTC 2020)\n",
       "(EPL source distribution)\n",
       "Java Runtime: OpenJDK Runtime Environment\n",
       "JVM: OpenJDK 64-Bit Server VM\n",
       "Default Encoding: UTF-8\n",
       "Language: en\n",
       "Country: null\n",
       "--></g></svg>"
      ]
     },
     "execution_count": 25,
     "metadata": {},
     "output_type": "execute_result"
    }
   ],
   "source": [
    "%viz --style=\"STDCOLOR\" --view=\"State\" \"StateTest\""
   ]
  },
  {
   "cell_type": "code",
   "execution_count": 26,
   "id": "5bbdec40",
   "metadata": {
    "execution": {
     "iopub.execute_input": "2021-04-21T20:23:43.199916Z",
     "iopub.status.busy": "2021-04-21T20:23:43.198164Z",
     "iopub.status.idle": "2021-04-21T20:23:43.248155Z",
     "shell.execute_reply": "2021-04-21T20:23:43.246588Z"
    }
   },
   "outputs": [
    {
     "data": {
      "image/svg+xml": [
       "<?xml version=\"1.0\" encoding=\"UTF-8\" standalone=\"no\"?><svg xmlns=\"http://www.w3.org/2000/svg\" xmlns:xlink=\"http://www.w3.org/1999/xlink\" contentScriptType=\"application/ecmascript\" contentStyleType=\"text/css\" height=\"421px\" preserveAspectRatio=\"none\" style=\"width:836px;height:421px;\" version=\"1.1\" viewBox=\"0 0 836 421\" width=\"836px\" zoomAndPan=\"magnify\"><defs><filter height=\"300%\" id=\"f1a80qaupdb7vz\" width=\"300%\" x=\"-1\" y=\"-1\"><feGaussianBlur result=\"blurOut\" stdDeviation=\"2.0\"/><feColorMatrix in=\"blurOut\" result=\"blurOut2\" type=\"matrix\" values=\"0 0 0 0 0 0 0 0 0 0 0 0 0 0 0 0 0 0 .4 0\"/><feOffset dx=\"4.0\" dy=\"4.0\" in=\"blurOut2\" result=\"blurOut3\"/><feBlend in=\"SourceGraphic\" in2=\"blurOut3\" mode=\"normal\"/></filter></defs><g><!--MD5=[fbc87193dbaf4d95561dea2c320d4a47]\n",
       "cluster E1--><a href=\"psysml:800f45c9-cf5c-46ce-b3c3-487778cd6319\" target=\"_top\" title=\"psysml:800f45c9-cf5c-46ce-b3c3-487778cd6319\" xlink:actuate=\"onRequest\" xlink:href=\"psysml:800f45c9-cf5c-46ce-b3c3-487778cd6319\" xlink:show=\"new\" xlink:title=\"psysml:800f45c9-cf5c-46ce-b3c3-487778cd6319\" xlink:type=\"simple\"><polygon fill=\"#FFFFFF\" filter=\"url(#f1a80qaupdb7vz)\" points=\"16,6,98,6,105,28.2969,814,28.2969,814,409.5,16,409.5,16,6\" style=\"stroke: #000000; stroke-width: 1.5;\"/><line style=\"stroke: #000000; stroke-width: 1.5;\" x1=\"16\" x2=\"105\" y1=\"28.2969\" y2=\"28.2969\"/><text fill=\"#000000\" font-family=\"sans-serif\" font-size=\"14\" font-weight=\"bold\" lengthAdjust=\"spacingAndGlyphs\" textLength=\"76\" x=\"20\" y=\"20.9951\">StateTest</text></a><!--MD5=[14e3b0961a2654348d326746436168a1]\n",
       "cluster E6--><a href=\"psysml:f2a66a23-1197-47ed-b1bd-74e1ad61d6fd\" target=\"_top\" title=\"psysml:f2a66a23-1197-47ed-b1bd-74e1ad61d6fd\" xlink:actuate=\"onRequest\" xlink:href=\"psysml:f2a66a23-1197-47ed-b1bd-74e1ad61d6fd\" xlink:show=\"new\" xlink:title=\"psysml:f2a66a23-1197-47ed-b1bd-74e1ad61d6fd\" xlink:type=\"simple\"><rect fill=\"#FFFFFF\" filter=\"url(#f1a80qaupdb7vz)\" height=\"336.5\" id=\"E6\" style=\"stroke: #A80036; stroke-width: 1.5;\" width=\"327\" x=\"463\" y=\"49\"/><rect fill=\"#FEFECE\" height=\"37.9375\" style=\"stroke: #A80036; stroke-width: 1.5;\" width=\"327\" x=\"463\" y=\"49\"/><text fill=\"#000000\" font-family=\"sans-serif\" font-size=\"12\" font-style=\"italic\" lengthAdjust=\"spacingAndGlyphs\" textLength=\"71\" x=\"591\" y=\"65.1387\">«state def»</text><text fill=\"#000000\" font-family=\"sans-serif\" font-size=\"12\" lengthAdjust=\"spacingAndGlyphs\" textLength=\"8\" x=\"622.5\" y=\"79.1074\">S</text><line style=\"stroke: #A80036; stroke-width: 1.0;\" x1=\"463\" x2=\"790\" y1=\"132.8438\" y2=\"132.8438\"/><text fill=\"#000000\" font-family=\"sans-serif\" font-size=\"12\" font-weight=\"bold\" lengthAdjust=\"spacingAndGlyphs\" textLength=\"38\" x=\"468\" y=\"100.0762\">entry</text><text fill=\"#000000\" font-family=\"sans-serif\" font-size=\"12\" lengthAdjust=\"spacingAndGlyphs\" textLength=\"16\" x=\"506\" y=\"100.0762\">/ A</text><text fill=\"#000000\" font-family=\"sans-serif\" font-size=\"12\" font-weight=\"bold\" lengthAdjust=\"spacingAndGlyphs\" textLength=\"18\" x=\"468\" y=\"114.0449\">do</text><text fill=\"#000000\" font-family=\"sans-serif\" font-size=\"12\" lengthAdjust=\"spacingAndGlyphs\" textLength=\"16\" x=\"486\" y=\"114.0449\">/ B</text><text fill=\"#000000\" font-family=\"sans-serif\" font-size=\"12\" font-weight=\"bold\" lengthAdjust=\"spacingAndGlyphs\" textLength=\"26\" x=\"468\" y=\"128.0137\">exit</text><text fill=\"#000000\" font-family=\"sans-serif\" font-size=\"12\" lengthAdjust=\"spacingAndGlyphs\" textLength=\"28\" x=\"494\" y=\"128.0137\">/ act</text></a><g id=\"E1.E2\"><a href=\"psysml:f1048496-f45f-4de3-be42-17169da36fba\" target=\"_top\" title=\"psysml:f1048496-f45f-4de3-be42-17169da36fba\" xlink:actuate=\"onRequest\" xlink:href=\"psysml:f1048496-f45f-4de3-be42-17169da36fba\" xlink:show=\"new\" xlink:title=\"psysml:f1048496-f45f-4de3-be42-17169da36fba\" xlink:type=\"simple\"><rect fill=\"#FEFECE\" filter=\"url(#f1a80qaupdb7vz)\" height=\"42.9375\" id=\"E2\" style=\"stroke: #A80036; stroke-width: 1.5;\" width=\"100\" x=\"347\" y=\"135.5\"/><text fill=\"#000000\" font-family=\"sans-serif\" font-size=\"12\" font-style=\"italic\" lengthAdjust=\"spacingAndGlyphs\" textLength=\"93\" x=\"350.5\" y=\"151.6387\">«attribute def»</text><text fill=\"#000000\" font-family=\"sans-serif\" font-size=\"12\" lengthAdjust=\"spacingAndGlyphs\" textLength=\"19\" x=\"387.5\" y=\"165.6074\">Sig</text></a></g><g id=\"E1.E3\"><a href=\"psysml:546c6a0a-79ca-4224-b50a-77e407cae485\" target=\"_top\" title=\"psysml:546c6a0a-79ca-4224-b50a-77e407cae485\" xlink:actuate=\"onRequest\" xlink:href=\"psysml:546c6a0a-79ca-4224-b50a-77e407cae485\" xlink:show=\"new\" xlink:title=\"psysml:546c6a0a-79ca-4224-b50a-77e407cae485\" xlink:type=\"simple\"><rect fill=\"#FEFECE\" filter=\"url(#f1a80qaupdb7vz)\" height=\"42.9375\" id=\"E3\" style=\"stroke: #A80036; stroke-width: 1.5;\" width=\"100\" x=\"212\" y=\"135.5\"/><text fill=\"#000000\" font-family=\"sans-serif\" font-size=\"12\" font-style=\"italic\" lengthAdjust=\"spacingAndGlyphs\" textLength=\"93\" x=\"215.5\" y=\"151.6387\">«attribute def»</text><text fill=\"#000000\" font-family=\"sans-serif\" font-size=\"12\" lengthAdjust=\"spacingAndGlyphs\" textLength=\"22\" x=\"251\" y=\"165.6074\">Exit</text></a></g><g id=\"E1.E4\"><a href=\"psysml:4710131f-7c31-45d9-a6fe-10a60fc8490a\" target=\"_top\" title=\"psysml:4710131f-7c31-45d9-a6fe-10a60fc8490a\" xlink:actuate=\"onRequest\" xlink:href=\"psysml:4710131f-7c31-45d9-a6fe-10a60fc8490a\" xlink:show=\"new\" xlink:title=\"psysml:4710131f-7c31-45d9-a6fe-10a60fc8490a\" xlink:type=\"simple\"><rect fill=\"#FEFECE\" filter=\"url(#f1a80qaupdb7vz)\" height=\"40\" id=\"E4\" rx=\"10\" ry=\"10\" style=\"stroke: #A80036; stroke-width: 1.5;\" width=\"50\" x=\"127\" y=\"137\"/><text fill=\"#000000\" font-family=\"sans-serif\" font-size=\"12\" lengthAdjust=\"spacingAndGlyphs\" textLength=\"8\" x=\"148\" y=\"153.1387\">p</text></a></g><g id=\"E1.E5\"><a href=\"psysml:0b92cdb5-3694-4434-adff-e0b2149bd4e6\" target=\"_top\" title=\"psysml:0b92cdb5-3694-4434-adff-e0b2149bd4e6\" xlink:actuate=\"onRequest\" xlink:href=\"psysml:0b92cdb5-3694-4434-adff-e0b2149bd4e6\" xlink:show=\"new\" xlink:title=\"psysml:0b92cdb5-3694-4434-adff-e0b2149bd4e6\" xlink:type=\"simple\"><rect fill=\"#FEFECE\" filter=\"url(#f1a80qaupdb7vz)\" height=\"42.9375\" id=\"E5\" rx=\"10\" ry=\"10\" style=\"stroke: #A80036; stroke-width: 1.5;\" width=\"60\" x=\"32\" y=\"135.5\"/><text fill=\"#000000\" font-family=\"sans-serif\" font-size=\"12\" font-style=\"italic\" lengthAdjust=\"spacingAndGlyphs\" textLength=\"53\" x=\"35.5\" y=\"151.6387\">«action»</text><text fill=\"#000000\" font-family=\"sans-serif\" font-size=\"12\" lengthAdjust=\"spacingAndGlyphs\" textLength=\"20\" x=\"52\" y=\"165.6074\">act</text></a></g><ellipse cx=\"575\" cy=\"157\" fill=\"#000000\" filter=\"url(#f1a80qaupdb7vz)\" rx=\"10\" ry=\"10\" style=\"stroke: none; stroke-width: 1.0;\"/><ellipse cx=\"600\" cy=\"359.5\" fill=\"none\" filter=\"url(#f1a80qaupdb7vz)\" rx=\"10\" ry=\"10\" style=\"stroke: #000000; stroke-width: 1.0;\"/><ellipse cx=\"600.5\" cy=\"360\" fill=\"#000000\" rx=\"6\" ry=\"6\" style=\"stroke: none; stroke-width: 1.0;\"/><g id=\"E1.E6.E7\"><a href=\"psysml:0ffea2c5-2698-4589-991c-94f7ac5b0395\" target=\"_top\" title=\"psysml:0ffea2c5-2698-4589-991c-94f7ac5b0395\" xlink:actuate=\"onRequest\" xlink:href=\"psysml:0ffea2c5-2698-4589-991c-94f7ac5b0395\" xlink:show=\"new\" xlink:title=\"psysml:0ffea2c5-2698-4589-991c-94f7ac5b0395\" xlink:type=\"simple\"><rect fill=\"#FEFECE\" filter=\"url(#f1a80qaupdb7vz)\" height=\"40\" id=\"E7\" rx=\"10\" ry=\"10\" style=\"stroke: #A80036; stroke-width: 1.5;\" width=\"50\" x=\"550\" y=\"195.5\"/><text fill=\"#000000\" font-family=\"sans-serif\" font-size=\"12\" lengthAdjust=\"spacingAndGlyphs\" textLength=\"16\" x=\"567\" y=\"211.6387\">S1</text></a></g><g id=\"E1.E6.E8\"><a href=\"psysml:f6369ddf-93b2-4791-a9ee-7d090a7e6258\" target=\"_top\" title=\"psysml:f6369ddf-93b2-4791-a9ee-7d090a7e6258\" xlink:actuate=\"onRequest\" xlink:href=\"psysml:f6369ddf-93b2-4791-a9ee-7d090a7e6258\" xlink:show=\"new\" xlink:title=\"psysml:f6369ddf-93b2-4791-a9ee-7d090a7e6258\" xlink:type=\"simple\"><rect fill=\"#FEFECE\" filter=\"url(#f1a80qaupdb7vz)\" height=\"47.9375\" id=\"E8\" rx=\"10\" ry=\"10\" style=\"stroke: #A80036; stroke-width: 1.5;\" width=\"169\" x=\"515.5\" y=\"268.5\"/><text fill=\"#000000\" font-family=\"sans-serif\" font-size=\"12\" lengthAdjust=\"spacingAndGlyphs\" textLength=\"16\" x=\"592\" y=\"284.6387\">S2</text><line style=\"stroke: #A80036; stroke-width: 1.0;\" x1=\"515.5\" x2=\"684.5\" y1=\"292.4688\" y2=\"292.4688\"/><text fill=\"#000000\" font-family=\"sans-serif\" font-size=\"12\" font-weight=\"bold\" lengthAdjust=\"spacingAndGlyphs\" textLength=\"18\" x=\"520.5\" y=\"305.6074\">do</text><text fill=\"#000000\" font-family=\"sans-serif\" font-size=\"12\" lengthAdjust=\"spacingAndGlyphs\" textLength=\"141\" x=\"538.5\" y=\"305.6074\">/  send Sig(T::s::x) to p</text></a></g><!--MD5=[5a531d3a85f3339e6e197084acb48195]\n",
       "link *start*E6 to E7--><a href=\"psysml:3d6f6111-a5f0-4f07-bf0a-543b5052b3c3\" target=\"_top\" title=\"psysml:3d6f6111-a5f0-4f07-bf0a-543b5052b3c3\" xlink:actuate=\"onRequest\" xlink:href=\"psysml:3d6f6111-a5f0-4f07-bf0a-543b5052b3c3\" xlink:show=\"new\" xlink:title=\"psysml:3d6f6111-a5f0-4f07-bf0a-543b5052b3c3\" xlink:type=\"simple\"><path d=\"M575,167.08 C575,173.38 575,182.09 575,190.34 \" fill=\"none\" id=\"*start*E6-&gt;E7\" style=\"stroke: #A80036; stroke-width: 1.0;\"/><polygon fill=\"#A80036\" points=\"575,195.38,579,186.38,575,190.38,571,186.38,575,195.38\" style=\"stroke: #A80036; stroke-width: 1.0;\"/></a><!--MD5=[7ec9a8babba89ddcae1318ca9fb3c814]\n",
       "link E8 to *end*E6--><a href=\"psysml:374875bf-0004-40f7-bedc-1374d527cde5\" target=\"_top\" title=\"psysml:374875bf-0004-40f7-bedc-1374d527cde5\" xlink:actuate=\"onRequest\" xlink:href=\"psysml:374875bf-0004-40f7-bedc-1374d527cde5\" xlink:show=\"new\" xlink:title=\"psysml:374875bf-0004-40f7-bedc-1374d527cde5\" xlink:type=\"simple\"><path d=\"M600,316.6 C600,325.73 600,335.95 600,344 \" fill=\"none\" id=\"E8-&gt;*end*E6\" style=\"stroke: #A80036; stroke-width: 1.0;\"/><polygon fill=\"#A80036\" points=\"600,349.2,604,340.2,600,344.2,596,340.2,600,349.2\" style=\"stroke: #A80036; stroke-width: 1.0;\"/><text fill=\"#000000\" font-family=\"sans-serif\" font-size=\"13\" lengthAdjust=\"spacingAndGlyphs\" textLength=\"23\" x=\"601\" y=\"337.5669\">Exit</text></a><!--MD5=[79bc8f324ef4d02c541433f2e6e513c3]\n",
       "link E7 to E8--><a href=\"psysml:69f1494c-077d-4519-8343-87cce73be713\" target=\"_top\" title=\"psysml:69f1494c-077d-4519-8343-87cce73be713\" xlink:actuate=\"onRequest\" xlink:href=\"psysml:69f1494c-077d-4519-8343-87cce73be713\" xlink:show=\"new\" xlink:title=\"psysml:69f1494c-077d-4519-8343-87cce73be713\" xlink:type=\"simple\"><path d=\"M549.73,220.27 C535.78,223.78 519.6,230.54 511,243.5 C506.82,249.8 506.62,254.34 511,260.5 C512,261.9 513.06,263.24 514.18,264.52 \" fill=\"none\" id=\"E7-&gt;E8\" style=\"stroke: #A80036; stroke-width: 1.0;\"/><polygon fill=\"#A80036\" points=\"517.73,268.17,514.3248,258.9285,514.2448,264.5848,508.5885,264.5048,517.73,268.17\" style=\"stroke: #A80036; stroke-width: 1.0;\"/><text fill=\"#000000\" font-family=\"sans-serif\" font-size=\"13\" lengthAdjust=\"spacingAndGlyphs\" textLength=\"81\" x=\"512\" y=\"256.5669\">Sig /action D</text></a><!--MD5=[bfa3c8b0d15052fdf50ae9310b491027]\n",
       "link E8 to E7--><a href=\"psysml:f8d53726-bfe5-4353-91f3-ae2ef06d9a38\" target=\"_top\" title=\"psysml:f8d53726-bfe5-4353-91f3-ae2ef06d9a38\" xlink:actuate=\"onRequest\" xlink:href=\"psysml:f8d53726-bfe5-4353-91f3-ae2ef06d9a38\" xlink:show=\"new\" xlink:title=\"psysml:f8d53726-bfe5-4353-91f3-ae2ef06d9a38\" xlink:type=\"simple\"><path d=\"M602.07,268.4 C602.02,260.29 601.04,251.27 598,243.5 C597.53,242.3 596.98,241.11 596.37,239.94 \" fill=\"none\" id=\"E8-&gt;E7\" style=\"stroke: #A80036; stroke-width: 1.0;\"/><polygon fill=\"#A80036\" points=\"593.74,235.56,594.9405,245.3354,596.3125,239.8475,601.8004,241.2195,593.74,235.56\" style=\"stroke: #A80036; stroke-width: 1.0;\"/><text fill=\"#000000\" font-family=\"sans-serif\" font-size=\"13\" lengthAdjust=\"spacingAndGlyphs\" textLength=\"135\" x=\"602\" y=\"256.5669\">Sig [true]/send s to p</text></a><!--MD5=[1c3da75f0e374694208c6975330d2bcc]\n",
       "@startuml\r\n",
       "skinparam ranksep 10\r\n",
       "skinparam rectangle {\r\n",
       " backgroundColor<<block>> LightGreen\r\n",
       "}\r\n",
       "skinparam wrapWidth 300\r\n",
       "hide circle\r\n",
       "\r\n",
       "package \"StateTest\" as E1  [[psysml:800f45c9-cf5c-46ce-b3c3-487778cd6319 ]]  {\r\n",
       "def \"Sig\" as E2  <<(T,blue)attribute def>> [[psysml:f1048496-f45f-4de3-be42-17169da36fba ]] \r\n",
       "def \"Exit\" as E3  <<(T,blue)attribute def>> [[psysml:546c6a0a-79ca-4224-b50a-77e407cae485 ]] \r\n",
       "rec usage \"p\" as E4  [[psysml:4710131f-7c31-45d9-a6fe-10a60fc8490a ]] {\r\n",
       "}\r\n",
       "rec usage \"act\" as E5  <<(T,blue)action>> [[psysml:0b92cdb5-3694-4434-adff-e0b2149bd4e6 ]] {\r\n",
       "}\r\n",
       "\r\n",
       "rec def \"S\" as E6  <<(T,blue)state def>> [[psysml:f2a66a23-1197-47ed-b1bd-74e1ad61d6fd ]] {\r\n",
       "rec usage \"S1\" as E7 [[psysml:0ffea2c5-2698-4589-991c-94f7ac5b0395 ]] {\r\n",
       "}\r\n",
       "\r\n",
       "rec usage \"S2\" as E8 [[psysml:f6369ddf-93b2-4791-a9ee-7d090a7e6258 ]] {\r\n",
       "desc \"S2\" as E8  : **do**/  send Sig(T::s::x) to p\r\n",
       "}\r\n",
       "\r\n",
       "desc \"S\" as E6  : **entry**/ A\r\n",
       "desc \"S\" as E6  : **do**/ B\r\n",
       "desc \"S\" as E6  : **exit**/ act \r\n",
       "[*] - -> E7 [[psysml:3d6f6111-a5f0-4f07-bf0a-543b5052b3c3 ]] \r\n",
       "E8  - -> [*] [[psysml:374875bf-0004-40f7-bedc-1374d527cde5 ]] : Exit \r\n",
       "}\r\n",
       "\r\n",
       "E7  - -> E8 [[psysml:69f1494c-077d-4519-8343-87cce73be713 ]] : Sig /action D\r\n",
       "E8  - -> E7 [[psysml:f8d53726-bfe5-4353-91f3-ae2ef06d9a38 ]] : Sig [true]/send s to p\r\n",
       "}\r\n",
       "@enduml\r\n",
       "\n",
       "PlantUML version 1.2020.13(Sat Jun 13 12:26:38 UTC 2020)\n",
       "(EPL source distribution)\n",
       "Java Runtime: OpenJDK Runtime Environment\n",
       "JVM: OpenJDK 64-Bit Server VM\n",
       "Default Encoding: UTF-8\n",
       "Language: en\n",
       "Country: null\n",
       "--></g></svg>"
      ]
     },
     "execution_count": 26,
     "metadata": {},
     "output_type": "execute_result"
    }
   ],
   "source": [
    "%viz --style=\"STDCOLOR\" --view=\"Interconnection\" \"StateTest\""
   ]
  },
  {
   "cell_type": "code",
   "execution_count": 27,
   "id": "2087162a",
   "metadata": {
    "execution": {
     "iopub.execute_input": "2021-04-21T20:23:43.299585Z",
     "iopub.status.busy": "2021-04-21T20:23:43.299112Z",
     "iopub.status.idle": "2021-04-21T20:23:43.357183Z",
     "shell.execute_reply": "2021-04-21T20:23:43.356219Z"
    }
   },
   "outputs": [
    {
     "data": {
      "image/svg+xml": [
       "<?xml version=\"1.0\" encoding=\"UTF-8\" standalone=\"no\"?><svg xmlns=\"http://www.w3.org/2000/svg\" xmlns:xlink=\"http://www.w3.org/1999/xlink\" contentScriptType=\"application/ecmascript\" contentStyleType=\"text/css\" height=\"452px\" preserveAspectRatio=\"none\" style=\"width:602px;height:452px;\" version=\"1.1\" viewBox=\"0 0 602 452\" width=\"602px\" zoomAndPan=\"magnify\"><defs><filter height=\"300%\" id=\"fu1ncfoj25wme\" width=\"300%\" x=\"-1\" y=\"-1\"><feGaussianBlur result=\"blurOut\" stdDeviation=\"2.0\"/><feColorMatrix in=\"blurOut\" result=\"blurOut2\" type=\"matrix\" values=\"0 0 0 0 0 0 0 0 0 0 0 0 0 0 0 0 0 0 .4 0\"/><feOffset dx=\"4.0\" dy=\"4.0\" in=\"blurOut2\" result=\"blurOut3\"/><feBlend in=\"SourceGraphic\" in2=\"blurOut3\" mode=\"normal\"/></filter></defs><g><!--MD5=[e4f7fae6ed58524ba242bb0b0d3be6b7]\n",
       "cluster E2--><a href=\"psysml:f2a66a23-1197-47ed-b1bd-74e1ad61d6fd\" target=\"_top\" title=\"psysml:f2a66a23-1197-47ed-b1bd-74e1ad61d6fd\" xlink:actuate=\"onRequest\" xlink:href=\"psysml:f2a66a23-1197-47ed-b1bd-74e1ad61d6fd\" xlink:show=\"new\" xlink:title=\"psysml:f2a66a23-1197-47ed-b1bd-74e1ad61d6fd\" xlink:type=\"simple\"><rect fill=\"#FFFFFF\" filter=\"url(#fu1ncfoj25wme)\" height=\"426\" id=\"E2\" style=\"stroke: #A80036; stroke-width: 1.5;\" width=\"497\" x=\"86\" y=\"7\"/><rect fill=\"#FEFECE\" height=\"37.9375\" style=\"stroke: #A80036; stroke-width: 1.5;\" width=\"497\" x=\"86\" y=\"7\"/><text fill=\"#000000\" font-family=\"sans-serif\" font-size=\"12\" font-style=\"italic\" lengthAdjust=\"spacingAndGlyphs\" textLength=\"71\" x=\"299\" y=\"23.1387\">«state def»</text><text fill=\"#000000\" font-family=\"sans-serif\" font-size=\"12\" lengthAdjust=\"spacingAndGlyphs\" textLength=\"8\" x=\"330.5\" y=\"37.1074\">S</text></a><!--MD5=[168fadf3d0c3fd93dd5d6da1b1d7ab76]\n",
       "cluster E7--><a href=\"psysml:f6369ddf-93b2-4791-a9ee-7d090a7e6258\" target=\"_top\" title=\"psysml:f6369ddf-93b2-4791-a9ee-7d090a7e6258\" xlink:actuate=\"onRequest\" xlink:href=\"psysml:f6369ddf-93b2-4791-a9ee-7d090a7e6258\" xlink:show=\"new\" xlink:title=\"psysml:f6369ddf-93b2-4791-a9ee-7d090a7e6258\" xlink:type=\"simple\"><rect fill=\"#FFFFFF\" filter=\"url(#fu1ncfoj25wme)\" height=\"138\" id=\"E7\" rx=\"10\" ry=\"10\" style=\"stroke: #A80036; stroke-width: 1.5;\" width=\"195\" x=\"327\" y=\"210\"/><rect fill=\"#FEFECE\" height=\"37.9375\" rx=\"10\" ry=\"10\" style=\"stroke: #FEFECE; stroke-width: 1.5;\" width=\"195\" x=\"327\" y=\"210\"/><rect fill=\"#FEFECE\" height=\"10\" style=\"stroke: #FEFECE; stroke-width: 1.5;\" width=\"195\" x=\"327\" y=\"237.9375\"/><rect fill=\"none\" height=\"138\" id=\"E7\" rx=\"10\" ry=\"10\" style=\"stroke: #A80036; stroke-width: 1.5;\" width=\"195\" x=\"327\" y=\"210\"/><text fill=\"#000000\" font-family=\"sans-serif\" font-size=\"12\" font-style=\"italic\" lengthAdjust=\"spacingAndGlyphs\" textLength=\"47\" x=\"401\" y=\"226.1387\">«state»</text><text fill=\"#000000\" font-family=\"sans-serif\" font-size=\"12\" lengthAdjust=\"spacingAndGlyphs\" textLength=\"16\" x=\"416.5\" y=\"240.1074\">S2</text><line style=\"stroke: #A80036; stroke-width: 1.0;\" x1=\"327\" x2=\"522\" y1=\"247.9375\" y2=\"247.9375\"/></a><g id=\"E1\"><a href=\"psysml:0b92cdb5-3694-4434-adff-e0b2149bd4e6\" target=\"_top\" title=\"psysml:0b92cdb5-3694-4434-adff-e0b2149bd4e6\" xlink:actuate=\"onRequest\" xlink:href=\"psysml:0b92cdb5-3694-4434-adff-e0b2149bd4e6\" xlink:show=\"new\" xlink:title=\"psysml:0b92cdb5-3694-4434-adff-e0b2149bd4e6\" xlink:type=\"simple\"><rect fill=\"#FEFECE\" filter=\"url(#fu1ncfoj25wme)\" height=\"42.9375\" id=\"E1\" rx=\"10\" ry=\"10\" style=\"stroke: #A80036; stroke-width: 1.5;\" width=\"60\" x=\"7\" y=\"58\"/><text fill=\"#000000\" font-family=\"sans-serif\" font-size=\"12\" font-style=\"italic\" lengthAdjust=\"spacingAndGlyphs\" textLength=\"53\" x=\"10.5\" y=\"74.1387\">«action»</text><text fill=\"#000000\" font-family=\"sans-serif\" font-size=\"12\" lengthAdjust=\"spacingAndGlyphs\" textLength=\"20\" x=\"27\" y=\"88.1074\">act</text></a></g><ellipse cx=\"557\" cy=\"79.5\" fill=\"#000000\" filter=\"url(#fu1ncfoj25wme)\" rx=\"10\" ry=\"10\" style=\"stroke: none; stroke-width: 1.0;\"/><ellipse cx=\"335\" cy=\"407\" fill=\"none\" filter=\"url(#fu1ncfoj25wme)\" rx=\"10\" ry=\"10\" style=\"stroke: #000000; stroke-width: 1.0;\"/><ellipse cx=\"335.5\" cy=\"407.5\" fill=\"#000000\" rx=\"6\" ry=\"6\" style=\"stroke: none; stroke-width: 1.0;\"/><g id=\"E2.E3\"><a href=\"psysml:b2584b97-8c36-4971-ba08-266a53e2e05d\" target=\"_top\" title=\"psysml:b2584b97-8c36-4971-ba08-266a53e2e05d\" xlink:actuate=\"onRequest\" xlink:href=\"psysml:b2584b97-8c36-4971-ba08-266a53e2e05d\" xlink:show=\"new\" xlink:title=\"psysml:b2584b97-8c36-4971-ba08-266a53e2e05d\" xlink:type=\"simple\"><rect fill=\"#FEFECE\" filter=\"url(#fu1ncfoj25wme)\" height=\"42.9375\" id=\"E3\" rx=\"10\" ry=\"10\" style=\"stroke: #A80036; stroke-width: 1.5;\" width=\"113\" x=\"398.5\" y=\"58\"/><text fill=\"#000000\" font-family=\"sans-serif\" font-size=\"12\" font-style=\"italic\" lengthAdjust=\"spacingAndGlyphs\" textLength=\"106\" x=\"402\" y=\"74.1387\">«perform action»</text><text fill=\"#000000\" font-family=\"sans-serif\" font-size=\"12\" lengthAdjust=\"spacingAndGlyphs\" textLength=\"8\" x=\"451\" y=\"88.1074\">A</text></a></g><g id=\"E2.E4\"><a href=\"psysml:4ff81092-47a1-4e96-8d92-0120048334f8\" target=\"_top\" title=\"psysml:4ff81092-47a1-4e96-8d92-0120048334f8\" xlink:actuate=\"onRequest\" xlink:href=\"psysml:4ff81092-47a1-4e96-8d92-0120048334f8\" xlink:show=\"new\" xlink:title=\"psysml:4ff81092-47a1-4e96-8d92-0120048334f8\" xlink:type=\"simple\"><rect fill=\"#FEFECE\" filter=\"url(#fu1ncfoj25wme)\" height=\"42.9375\" id=\"E4\" rx=\"10\" ry=\"10\" style=\"stroke: #A80036; stroke-width: 1.5;\" width=\"113\" x=\"250.5\" y=\"58\"/><text fill=\"#000000\" font-family=\"sans-serif\" font-size=\"12\" font-style=\"italic\" lengthAdjust=\"spacingAndGlyphs\" textLength=\"106\" x=\"254\" y=\"74.1387\">«perform action»</text><text fill=\"#000000\" font-family=\"sans-serif\" font-size=\"12\" lengthAdjust=\"spacingAndGlyphs\" textLength=\"8\" x=\"303\" y=\"88.1074\">B</text></a></g><g id=\"E2.E5\"><a href=\"psysml:304a78cc-8684-4bf6-a939-94ca910a3e9f\" target=\"_top\" title=\"psysml:304a78cc-8684-4bf6-a939-94ca910a3e9f\" xlink:actuate=\"onRequest\" xlink:href=\"psysml:304a78cc-8684-4bf6-a939-94ca910a3e9f\" xlink:show=\"new\" xlink:title=\"psysml:304a78cc-8684-4bf6-a939-94ca910a3e9f\" xlink:type=\"simple\"><rect fill=\"#FEFECE\" filter=\"url(#fu1ncfoj25wme)\" height=\"42.9375\" id=\"E5\" rx=\"10\" ry=\"10\" style=\"stroke: #A80036; stroke-width: 1.5;\" width=\"113\" x=\"102.5\" y=\"58\"/><text fill=\"#000000\" font-family=\"sans-serif\" font-size=\"12\" font-style=\"italic\" lengthAdjust=\"spacingAndGlyphs\" textLength=\"106\" x=\"106\" y=\"74.1387\">«perform action»</text><text fill=\"#000000\" font-family=\"sans-serif\" font-size=\"12\" lengthAdjust=\"spacingAndGlyphs\" textLength=\"20\" x=\"149\" y=\"88.1074\">act</text></a></g><g id=\"E2.E6\"><a href=\"psysml:0ffea2c5-2698-4589-991c-94f7ac5b0395\" target=\"_top\" title=\"psysml:0ffea2c5-2698-4589-991c-94f7ac5b0395\" xlink:actuate=\"onRequest\" xlink:href=\"psysml:0ffea2c5-2698-4589-991c-94f7ac5b0395\" xlink:show=\"new\" xlink:title=\"psysml:0ffea2c5-2698-4589-991c-94f7ac5b0395\" xlink:type=\"simple\"><rect fill=\"#FEFECE\" filter=\"url(#fu1ncfoj25wme)\" height=\"42.9375\" id=\"E6\" rx=\"10\" ry=\"10\" style=\"stroke: #A80036; stroke-width: 1.5;\" width=\"54\" x=\"403\" y=\"118\"/><text fill=\"#000000\" font-family=\"sans-serif\" font-size=\"12\" font-style=\"italic\" lengthAdjust=\"spacingAndGlyphs\" textLength=\"47\" x=\"406.5\" y=\"134.1387\">«state»</text><text fill=\"#000000\" font-family=\"sans-serif\" font-size=\"12\" lengthAdjust=\"spacingAndGlyphs\" textLength=\"16\" x=\"422\" y=\"148.1074\">S1</text></a></g><!--MD5=[2803005a5f354d3255b1b7bbd839bbf7]\n",
       "entity E8--><a href=\"psysml:4e70c0dc-8141-4b3a-9526-a99ab1429170\" target=\"_top\" title=\"psysml:4e70c0dc-8141-4b3a-9526-a99ab1429170\" xlink:actuate=\"onRequest\" xlink:href=\"psysml:4e70c0dc-8141-4b3a-9526-a99ab1429170\" xlink:show=\"new\" xlink:title=\"psysml:4e70c0dc-8141-4b3a-9526-a99ab1429170\" xlink:type=\"simple\"><polygon fill=\"#FEFECE\" filter=\"url(#fu1ncfoj25wme)\" points=\"370,269,370,323.5938,478,323.5938,498,296.2969,478,269\" style=\"stroke: #000000; stroke-width: 1.5;\"/><text fill=\"#000000\" font-family=\"sans-serif\" font-size=\"14\" font-style=\"italic\" lengthAdjust=\"spacingAndGlyphs\" textLength=\"99\" x=\"377\" y=\"291.9951\">«send action»</text><text fill=\"#000000\" font-family=\"sans-serif\" font-size=\"14\" lengthAdjust=\"spacingAndGlyphs\" textLength=\"75\" x=\"389\" y=\"309.292\">Sig(T::s::x)</text></a><!--MD5=[2e26681bccdb10b30299c36e1180c624]\n",
       "link *start*E2 to E6--><a href=\"psysml:3d6f6111-a5f0-4f07-bf0a-543b5052b3c3\" target=\"_top\" title=\"psysml:3d6f6111-a5f0-4f07-bf0a-543b5052b3c3\" xlink:actuate=\"onRequest\" xlink:href=\"psysml:3d6f6111-a5f0-4f07-bf0a-543b5052b3c3\" xlink:show=\"new\" xlink:title=\"psysml:3d6f6111-a5f0-4f07-bf0a-543b5052b3c3\" xlink:type=\"simple\"><path d=\"M549.53,86.84 C544.09,91.22 536.41,96.98 529,101 C507.7,112.55 482.09,122.15 462.25,128.74 \" fill=\"none\" id=\"*start*E2-&gt;E6\" style=\"stroke: #A80036; stroke-width: 1.0; stroke-dasharray: 7.0,7.0;\"/><polygon fill=\"#A80036\" points=\"457.34,130.36,467.1387,131.353,462.0905,128.8003,464.6432,123.7522,457.34,130.36\" style=\"stroke: #A80036; stroke-width: 1.0;\"/></a><!--MD5=[ff9e4afefa821aea7eda324d3041742a]\n",
       "link E7 to *end*E2--><a href=\"psysml:374875bf-0004-40f7-bedc-1374d527cde5\" target=\"_top\" title=\"psysml:374875bf-0004-40f7-bedc-1374d527cde5\" xlink:actuate=\"onRequest\" xlink:href=\"psysml:374875bf-0004-40f7-bedc-1374d527cde5\" xlink:show=\"new\" xlink:title=\"psysml:374875bf-0004-40f7-bedc-1374d527cde5\" xlink:type=\"simple\"><path d=\"M335,348.1183 C335,348.2776 335,348.437 335,348.5964 C335,348.9153 335,349.2342 335,349.5533 C335,354.6588 335,359.7902 335,364.7664 C335,374.7188 335,384.05 335,391.31 \" fill=\"none\" id=\"E7-&gt;*end*E2\" style=\"stroke: #A80036; stroke-width: 1.0; stroke-dasharray: 7.0,7.0;\"/><polygon fill=\"#A80036\" points=\"335,396.65,339,387.65,335,391.65,331,387.65,335,396.65\" style=\"stroke: #A80036; stroke-width: 1.0;\"/><text fill=\"#000000\" font-family=\"sans-serif\" font-size=\"13\" lengthAdjust=\"spacingAndGlyphs\" textLength=\"23\" x=\"336\" y=\"385.0669\">Exit</text></a><!--MD5=[02c70b7c851c11e3980e4e90450dc5dd]\n",
       "link E6 to E7--><a href=\"psysml:69f1494c-077d-4519-8343-87cce73be713\" target=\"_top\" title=\"psysml:69f1494c-077d-4519-8343-87cce73be713\" xlink:actuate=\"onRequest\" xlink:href=\"psysml:69f1494c-077d-4519-8343-87cce73be713\" xlink:show=\"new\" xlink:title=\"psysml:69f1494c-077d-4519-8343-87cce73be713\" xlink:type=\"simple\"><path d=\"M402.96,142.74 C369.7,146.11 316.15,153.8 304,169 C286.215,191.26 293.4475,222.2525 305.3787,247.9887 C311.3444,260.8569 318.4847,272.4109 324.2598,280.9023 C324.9817,281.9638 325.6823,282.9773 326.3566,283.9396 C326.5251,284.1802 326.6921,284.4176 326.8573,284.6517 \" fill=\"none\" id=\"E6-&gt;E7\" style=\"stroke: #A80036; stroke-width: 1.0; stroke-dasharray: 7.0,7.0;\"/><polygon fill=\"#A80036\" points=\"326.8573,284.6517,324.9364,274.992,323.9745,280.5664,318.4,279.6045,326.8573,284.6517\" style=\"stroke: #A80036; stroke-width: 1.0;\"/><text fill=\"#000000\" font-family=\"sans-serif\" font-size=\"13\" lengthAdjust=\"spacingAndGlyphs\" textLength=\"81\" x=\"305\" y=\"182.0669\">Sig /action D</text></a><!--MD5=[fbb449814971db3a0b8220cf225b9e01]\n",
       "link E7 to E6--><a href=\"psysml:f8d53726-bfe5-4353-91f3-ae2ef06d9a38\" target=\"_top\" title=\"psysml:f8d53726-bfe5-4353-91f3-ae2ef06d9a38\" xlink:actuate=\"onRequest\" xlink:href=\"psysml:f8d53726-bfe5-4353-91f3-ae2ef06d9a38\" xlink:show=\"new\" xlink:title=\"psysml:f8d53726-bfe5-4353-91f3-ae2ef06d9a38\" xlink:type=\"simple\"><path d=\"M342.9071,209.9114 C342.9855,209.7539 343.0643,209.5968 343.1437,209.44 C343.4614,208.8126 343.7878,208.1903 344.1232,207.5733 C346.8063,202.638 350.0625,198.0487 354,194 C365.73,181.94 376.55,194.61 391,186 C399.6,180.88 407.24,173.18 413.43,165.57 \" fill=\"none\" id=\"E7-&gt;E6\" style=\"stroke: #A80036; stroke-width: 1.0; stroke-dasharray: 7.0,7.0;\"/><polygon fill=\"#A80036\" points=\"416.72,161.36,408.0232,165.9823,413.6385,165.2975,414.3232,170.9128,416.72,161.36\" style=\"stroke: #A80036; stroke-width: 1.0;\"/><text fill=\"#000000\" font-family=\"sans-serif\" font-size=\"13\" lengthAdjust=\"spacingAndGlyphs\" textLength=\"135\" x=\"410\" y=\"182.0669\">Sig [true]/send s to p</text></a><!--MD5=[a02aefdc77a04a1e199648f6d08d5334]\n",
       "@startuml\r\n",
       "skinparam ranksep 8\r\n",
       "skinparam wrapWidth 300\r\n",
       "hide circle\r\n",
       "\r\n",
       "rec usage \"act\" as E1  <<(T,blue)action>> [[psysml:0b92cdb5-3694-4434-adff-e0b2149bd4e6 ]] {\r\n",
       "}\r\n",
       "\r\n",
       "rec def \"S\" as E2  <<(T,blue)state def>> [[psysml:f2a66a23-1197-47ed-b1bd-74e1ad61d6fd ]] {\r\n",
       "rec usage \"A\" as E3 <<perform action>> [[psysml:b2584b97-8c36-4971-ba08-266a53e2e05d ]] {\r\n",
       "}\r\n",
       "\r\n",
       "rec usage \"B\" as E4 <<perform action>> [[psysml:4ff81092-47a1-4e96-8d92-0120048334f8 ]] {\r\n",
       "}\r\n",
       "\r\n",
       "rec usage \"act\" as E5 <<perform action>> [[psysml:304a78cc-8684-4bf6-a939-94ca910a3e9f ]] {\r\n",
       "}\r\n",
       "\r\n",
       "rec usage \"S1\" as E6  <<(T,blue)state>> [[psysml:0ffea2c5-2698-4589-991c-94f7ac5b0395 ]] {\r\n",
       "}\r\n",
       "\r\n",
       "rec usage \"S2\" as E7  <<(T,blue)state>> [[psysml:f6369ddf-93b2-4791-a9ee-7d090a7e6258 ]] {\r\n",
       "send \" Sig(T::s::x)\" as E8 <<send action>> [[psysml:4e70c0dc-8141-4b3a-9526-a99ab1429170 ]] \r\n",
       "}\r\n",
       "\r\n",
       "[*] ..> E6 [[psysml:3d6f6111-a5f0-4f07-bf0a-543b5052b3c3 ]] \r\n",
       "E7 ..> [*] [[psysml:374875bf-0004-40f7-bedc-1374d527cde5 ]] : Exit \r\n",
       "}\r\n",
       "\r\n",
       "E6 ..> E7 [[psysml:69f1494c-077d-4519-8343-87cce73be713 ]] : Sig /action D\r\n",
       "E7 ..> E6 [[psysml:f8d53726-bfe5-4353-91f3-ae2ef06d9a38 ]] : Sig [true]/send s to p\r\n",
       "@enduml\r\n",
       "\n",
       "PlantUML version 1.2020.13(Sat Jun 13 12:26:38 UTC 2020)\n",
       "(EPL source distribution)\n",
       "Java Runtime: OpenJDK Runtime Environment\n",
       "JVM: OpenJDK 64-Bit Server VM\n",
       "Default Encoding: UTF-8\n",
       "Language: en\n",
       "Country: null\n",
       "--></g></svg>"
      ]
     },
     "execution_count": 27,
     "metadata": {},
     "output_type": "execute_result"
    }
   ],
   "source": [
    "%viz --style=\"STDCOLOR\" --view=\"Action\" \"StateTest\""
   ]
  },
  {
   "cell_type": "code",
   "execution_count": 28,
   "id": "c4906d50",
   "metadata": {
    "execution": {
     "iopub.execute_input": "2021-04-21T20:23:43.410171Z",
     "iopub.status.busy": "2021-04-21T20:23:43.408344Z",
     "iopub.status.idle": "2021-04-21T20:23:43.523897Z",
     "shell.execute_reply": "2021-04-21T20:23:43.524630Z"
    }
   },
   "outputs": [
    {
     "data": {
      "image/svg+xml": [
       "<?xml version=\"1.0\" encoding=\"UTF-8\" standalone=\"no\"?><svg xmlns=\"http://www.w3.org/2000/svg\" xmlns:xlink=\"http://www.w3.org/1999/xlink\" contentScriptType=\"application/ecmascript\" contentStyleType=\"text/css\" height=\"365px\" preserveAspectRatio=\"none\" style=\"width:594px;height:365px;\" version=\"1.1\" viewBox=\"0 0 594 365\" width=\"594px\" zoomAndPan=\"magnify\"><defs><filter height=\"300%\" id=\"f1dguo0si28ys1\" width=\"300%\" x=\"-1\" y=\"-1\"><feGaussianBlur result=\"blurOut\" stdDeviation=\"2.0\"/><feColorMatrix in=\"blurOut\" result=\"blurOut2\" type=\"matrix\" values=\"0 0 0 0 0 0 0 0 0 0 0 0 0 0 0 0 0 0 .4 0\"/><feOffset dx=\"4.0\" dy=\"4.0\" in=\"blurOut2\" result=\"blurOut3\"/><feBlend in=\"SourceGraphic\" in2=\"blurOut3\" mode=\"normal\"/></filter></defs><g><!--MD5=[fbc87193dbaf4d95561dea2c320d4a47]\n",
       "cluster E1--><a href=\"psysml:800f45c9-cf5c-46ce-b3c3-487778cd6319\" target=\"_top\" title=\"psysml:800f45c9-cf5c-46ce-b3c3-487778cd6319\" xlink:actuate=\"onRequest\" xlink:href=\"psysml:800f45c9-cf5c-46ce-b3c3-487778cd6319\" xlink:show=\"new\" xlink:title=\"psysml:800f45c9-cf5c-46ce-b3c3-487778cd6319\" xlink:type=\"simple\"><polygon fill=\"#FFFFFF\" filter=\"url(#f1dguo0si28ys1)\" points=\"16,6,98,6,105,28.2969,572,28.2969,572,353,16,353,16,6\" style=\"stroke: #000000; stroke-width: 1.5;\"/><line style=\"stroke: #000000; stroke-width: 1.5;\" x1=\"16\" x2=\"105\" y1=\"28.2969\" y2=\"28.2969\"/><text fill=\"#000000\" font-family=\"sans-serif\" font-size=\"14\" font-weight=\"bold\" lengthAdjust=\"spacingAndGlyphs\" textLength=\"76\" x=\"20\" y=\"20.9951\">StateTest</text></a><!--MD5=[b4997ac47864f28c2f74865a473b2911]\n",
       "class E2--><a href=\"psysml:f1048496-f45f-4de3-be42-17169da36fba\" target=\"_top\" title=\"psysml:f1048496-f45f-4de3-be42-17169da36fba\" xlink:actuate=\"onRequest\" xlink:href=\"psysml:f1048496-f45f-4de3-be42-17169da36fba\" xlink:show=\"new\" xlink:title=\"psysml:f1048496-f45f-4de3-be42-17169da36fba\" xlink:type=\"simple\"><rect fill=\"#FEFECE\" filter=\"url(#f1dguo0si28ys1)\" height=\"58.7422\" id=\"E2\" style=\"stroke: #A80036; stroke-width: 1.5;\" width=\"95\" x=\"460.5\" y=\"91.5\"/><text fill=\"#000000\" font-family=\"sans-serif\" font-size=\"12\" font-style=\"italic\" lengthAdjust=\"spacingAndGlyphs\" textLength=\"93\" x=\"461.5\" y=\"107.6387\">«attribute def»</text><text fill=\"#000000\" font-family=\"sans-serif\" font-size=\"12\" lengthAdjust=\"spacingAndGlyphs\" textLength=\"19\" x=\"498.5\" y=\"121.6074\">Sig</text><line style=\"stroke: #A80036; stroke-width: 1.5;\" x1=\"461.5\" x2=\"554.5\" y1=\"129.4375\" y2=\"129.4375\"/><text fill=\"#000000\" font-family=\"sans-serif\" font-size=\"11\" lengthAdjust=\"spacingAndGlyphs\" textLength=\"6\" x=\"466.5\" y=\"143.6479\">x</text></a><!--MD5=[09b614a08d8cba4a07c9adeb5e0fee81]\n",
       "class E3--><a href=\"psysml:546c6a0a-79ca-4224-b50a-77e407cae485\" target=\"_top\" title=\"psysml:546c6a0a-79ca-4224-b50a-77e407cae485\" xlink:actuate=\"onRequest\" xlink:href=\"psysml:546c6a0a-79ca-4224-b50a-77e407cae485\" xlink:show=\"new\" xlink:title=\"psysml:546c6a0a-79ca-4224-b50a-77e407cae485\" xlink:type=\"simple\"><rect fill=\"#FEFECE\" filter=\"url(#f1dguo0si28ys1)\" height=\"45.9375\" id=\"E3\" style=\"stroke: #A80036; stroke-width: 1.5;\" width=\"95\" x=\"330.5\" y=\"98\"/><text fill=\"#000000\" font-family=\"sans-serif\" font-size=\"12\" font-style=\"italic\" lengthAdjust=\"spacingAndGlyphs\" textLength=\"93\" x=\"331.5\" y=\"114.1387\">«attribute def»</text><text fill=\"#000000\" font-family=\"sans-serif\" font-size=\"12\" lengthAdjust=\"spacingAndGlyphs\" textLength=\"22\" x=\"367\" y=\"128.1074\">Exit</text><line style=\"stroke: #A80036; stroke-width: 1.5;\" x1=\"331.5\" x2=\"424.5\" y1=\"135.9375\" y2=\"135.9375\"/></a><!--MD5=[ebbe1d658d1005bcc118a6aa81145e00]\n",
       "class E4--><a href=\"psysml:4710131f-7c31-45d9-a6fe-10a60fc8490a\" target=\"_top\" title=\"psysml:4710131f-7c31-45d9-a6fe-10a60fc8490a\" xlink:actuate=\"onRequest\" xlink:href=\"psysml:4710131f-7c31-45d9-a6fe-10a60fc8490a\" xlink:show=\"new\" xlink:title=\"psysml:4710131f-7c31-45d9-a6fe-10a60fc8490a\" xlink:type=\"simple\"><rect fill=\"#FEFECE\" filter=\"url(#f1dguo0si28ys1)\" height=\"45.9375\" id=\"E4\" rx=\"10\" ry=\"10\" style=\"stroke: #A80036; stroke-width: 1.5;\" width=\"42\" x=\"253\" y=\"98\"/><text fill=\"#000000\" font-family=\"sans-serif\" font-size=\"12\" font-style=\"italic\" lengthAdjust=\"spacingAndGlyphs\" textLength=\"40\" x=\"254\" y=\"114.1387\">«part»</text><text fill=\"#000000\" font-family=\"sans-serif\" font-size=\"12\" lengthAdjust=\"spacingAndGlyphs\" textLength=\"8\" x=\"270\" y=\"128.1074\">p</text><line style=\"stroke: #A80036; stroke-width: 1.5;\" x1=\"254\" x2=\"294\" y1=\"135.9375\" y2=\"135.9375\"/></a><!--MD5=[270fce915f116d4de14055a7c1d9a0f3]\n",
       "class E5--><a href=\"psysml:0b92cdb5-3694-4434-adff-e0b2149bd4e6\" target=\"_top\" title=\"psysml:0b92cdb5-3694-4434-adff-e0b2149bd4e6\" xlink:actuate=\"onRequest\" xlink:href=\"psysml:0b92cdb5-3694-4434-adff-e0b2149bd4e6\" xlink:show=\"new\" xlink:title=\"psysml:0b92cdb5-3694-4434-adff-e0b2149bd4e6\" xlink:type=\"simple\"><rect fill=\"#FEFECE\" filter=\"url(#f1dguo0si28ys1)\" height=\"45.9375\" id=\"E5\" rx=\"10\" ry=\"10\" style=\"stroke: #A80036; stroke-width: 1.5;\" width=\"55\" x=\"162.5\" y=\"98\"/><text fill=\"#000000\" font-family=\"sans-serif\" font-size=\"12\" font-style=\"italic\" lengthAdjust=\"spacingAndGlyphs\" textLength=\"53\" x=\"163.5\" y=\"114.1387\">«action»</text><text fill=\"#000000\" font-family=\"sans-serif\" font-size=\"12\" lengthAdjust=\"spacingAndGlyphs\" textLength=\"20\" x=\"180\" y=\"128.1074\">act</text><line style=\"stroke: #A80036; stroke-width: 1.5;\" x1=\"163.5\" x2=\"216.5\" y1=\"135.9375\" y2=\"135.9375\"/></a><!--MD5=[60a26617385b1d2d0262a64233df1f8d]\n",
       "class E6--><a href=\"psysml:f2a66a23-1197-47ed-b1bd-74e1ad61d6fd\" target=\"_top\" title=\"psysml:f2a66a23-1197-47ed-b1bd-74e1ad61d6fd\" xlink:actuate=\"onRequest\" xlink:href=\"psysml:f2a66a23-1197-47ed-b1bd-74e1ad61d6fd\" xlink:show=\"new\" xlink:title=\"psysml:f2a66a23-1197-47ed-b1bd-74e1ad61d6fd\" xlink:type=\"simple\"><rect fill=\"#FEFECE\" filter=\"url(#f1dguo0si28ys1)\" height=\"160.375\" id=\"E6\" style=\"stroke: #A80036; stroke-width: 1.5;\" width=\"95\" x=\"32.5\" y=\"41\"/><text fill=\"#000000\" font-family=\"sans-serif\" font-size=\"12\" font-style=\"italic\" lengthAdjust=\"spacingAndGlyphs\" textLength=\"71\" x=\"44.5\" y=\"57.1387\">«state def»</text><text fill=\"#000000\" font-family=\"sans-serif\" font-size=\"12\" lengthAdjust=\"spacingAndGlyphs\" textLength=\"8\" x=\"76\" y=\"71.1074\">S</text><line style=\"stroke: #A80036; stroke-width: 1.5;\" x1=\"33.5\" x2=\"126.5\" y1=\"78.9375\" y2=\"78.9375\"/><text fill=\"#000000\" font-family=\"sans-serif\" font-size=\"11\" lengthAdjust=\"spacingAndGlyphs\" textLength=\"17\" x=\"38.5\" y=\"109.9526\">act</text><text fill=\"#000000\" font-family=\"sans-serif\" font-size=\"11\" lengthAdjust=\"spacingAndGlyphs\" textLength=\"7\" x=\"38.5\" y=\"122.7573\">A</text><text fill=\"#000000\" font-family=\"sans-serif\" font-size=\"11\" lengthAdjust=\"spacingAndGlyphs\" textLength=\"8\" x=\"38.5\" y=\"135.562\">B</text><line style=\"stroke: #A80036; stroke-width: 1.0;\" x1=\"33.5\" x2=\"36.5\" y1=\"93.3398\" y2=\"93.3398\"/><text fill=\"#000000\" font-family=\"sans-serif\" font-size=\"11\" lengthAdjust=\"spacingAndGlyphs\" textLength=\"87\" x=\"36.5\" y=\"96.6479\">performActions</text><line style=\"stroke: #A80036; stroke-width: 1.0;\" x1=\"123.5\" x2=\"126.5\" y1=\"93.3398\" y2=\"93.3398\"/><text fill=\"#000000\" font-family=\"sans-serif\" font-size=\"11\" lengthAdjust=\"spacingAndGlyphs\" textLength=\"15\" x=\"38.5\" y=\"165.1714\">S1</text><line style=\"stroke: #A80036; stroke-width: 1.0;\" x1=\"33.5\" x2=\"62\" y1=\"148.5586\" y2=\"148.5586\"/><text fill=\"#000000\" font-family=\"sans-serif\" font-size=\"11\" lengthAdjust=\"spacingAndGlyphs\" textLength=\"36\" x=\"62\" y=\"151.8667\">states</text><line style=\"stroke: #A80036; stroke-width: 1.0;\" x1=\"98\" x2=\"126.5\" y1=\"148.5586\" y2=\"148.5586\"/><text fill=\"#000000\" font-family=\"sans-serif\" font-size=\"11\" lengthAdjust=\"spacingAndGlyphs\" textLength=\"7\" x=\"38.5\" y=\"194.7808\">T</text><line style=\"stroke: #A80036; stroke-width: 1.0;\" x1=\"33.5\" x2=\"49.5\" y1=\"178.168\" y2=\"178.168\"/><text fill=\"#000000\" font-family=\"sans-serif\" font-size=\"11\" lengthAdjust=\"spacingAndGlyphs\" textLength=\"61\" x=\"49.5\" y=\"181.4761\">transitions</text><line style=\"stroke: #A80036; stroke-width: 1.0;\" x1=\"110.5\" x2=\"126.5\" y1=\"178.168\" y2=\"178.168\"/></a><!--MD5=[1dd1bfd58a279cf63c5f349dbc8fc6a1]\n",
       "class E11--><a href=\"psysml:f6369ddf-93b2-4791-a9ee-7d090a7e6258\" target=\"_top\" title=\"psysml:f6369ddf-93b2-4791-a9ee-7d090a7e6258\" xlink:actuate=\"onRequest\" xlink:href=\"psysml:f6369ddf-93b2-4791-a9ee-7d090a7e6258\" xlink:show=\"new\" xlink:title=\"psysml:f6369ddf-93b2-4791-a9ee-7d090a7e6258\" xlink:type=\"simple\"><rect fill=\"#FEFECE\" filter=\"url(#f1dguo0si28ys1)\" height=\"75.5469\" id=\"E11\" rx=\"10\" ry=\"10\" style=\"stroke: #A80036; stroke-width: 1.5;\" width=\"77\" x=\"41.5\" y=\"261\"/><text fill=\"#000000\" font-family=\"sans-serif\" font-size=\"12\" font-style=\"italic\" lengthAdjust=\"spacingAndGlyphs\" textLength=\"47\" x=\"56.5\" y=\"277.1387\">«state»</text><text fill=\"#000000\" font-family=\"sans-serif\" font-size=\"12\" lengthAdjust=\"spacingAndGlyphs\" textLength=\"16\" x=\"72\" y=\"291.1074\">S2</text><line style=\"stroke: #A80036; stroke-width: 1.5;\" x1=\"42.5\" x2=\"117.5\" y1=\"298.9375\" y2=\"298.9375\"/><text fill=\"#000000\" font-family=\"sans-serif\" font-size=\"11\" lengthAdjust=\"spacingAndGlyphs\" textLength=\"48\" x=\"47.5\" y=\"329.9526\">doAction</text><line style=\"stroke: #A80036; stroke-width: 1.0;\" x1=\"42.5\" x2=\"45.5\" y1=\"313.3398\" y2=\"313.3398\"/><text fill=\"#000000\" font-family=\"sans-serif\" font-size=\"11\" lengthAdjust=\"spacingAndGlyphs\" textLength=\"69\" x=\"45.5\" y=\"316.6479\">sendActions</text><line style=\"stroke: #A80036; stroke-width: 1.0;\" x1=\"114.5\" x2=\"117.5\" y1=\"313.3398\" y2=\"313.3398\"/></a><!--MD5=[1f5f03483f7de0d5b3680a7f6650997f]\n",
       "reverse link E6 to E11--><a href=\"psysml:247e0169-6466-401b-83f0-032a7b21c539\" target=\"_top\" title=\"psysml:247e0169-6466-401b-83f0-032a7b21c539\" xlink:actuate=\"onRequest\" xlink:href=\"psysml:247e0169-6466-401b-83f0-032a7b21c539\" xlink:show=\"new\" xlink:title=\"psysml:247e0169-6466-401b-83f0-032a7b21c539\" xlink:type=\"simple\"><path d=\"M80,214.46 C80,230.92 80,247.18 80,260.92 \" fill=\"none\" id=\"E6&lt;-E11\" style=\"stroke: #A80036; stroke-width: 1.0;\"/><polygon fill=\"#A80036\" points=\"80,201.25,76,207.25,80,213.25,84,207.25,80,201.25\" style=\"stroke: #A80036; stroke-width: 1.0;\"/></a><!--MD5=[e1a72a134fd0040c08312cce0c9bffc1]\n",
       "@startuml\r\n",
       "skinparam wrapWidth 300\r\n",
       "hide circle\r\n",
       "\r\n",
       "package \"StateTest\" as E1  [[psysml:800f45c9-cf5c-46ce-b3c3-487778cd6319 ]]  {\r\n",
       "comp def \"Sig\" as E2  <<(T,blue)attribute def>> [[psysml:f1048496-f45f-4de3-be42-17169da36fba ]] {\r\n",
       "x\r\n",
       "}\r\n",
       "comp def \"Exit\" as E3  <<(T,blue)attribute def>> [[psysml:546c6a0a-79ca-4224-b50a-77e407cae485 ]] {\r\n",
       "}\r\n",
       "comp usage \"p\" as E4  <<(T,blue)part>> [[psysml:4710131f-7c31-45d9-a6fe-10a60fc8490a ]] {\r\n",
       "}\r\n",
       "comp usage \"act\" as E5  <<(T,blue)action>> [[psysml:0b92cdb5-3694-4434-adff-e0b2149bd4e6 ]] {\r\n",
       "}\r\n",
       "comp def \"S\" as E6  <<(T,blue)state def>> [[psysml:f2a66a23-1197-47ed-b1bd-74e1ad61d6fd ]] {\r\n",
       "- - performActions - -\r\n",
       "act\r\n",
       "A\r\n",
       "B\r\n",
       "- - states - -\r\n",
       "S1\r\n",
       "- - transitions - -\r\n",
       "T\r\n",
       "}\r\n",
       "comp usage \"S2\" as E11  <<(T,blue)state>> [[psysml:f6369ddf-93b2-4791-a9ee-7d090a7e6258 ]] {\r\n",
       "- - sendActions - -\r\n",
       "doAction\r\n",
       "}\r\n",
       "E6 *- - E11 [[psysml:247e0169-6466-401b-83f0-032a7b21c539 ]] \r\n",
       "}\r\n",
       "@enduml\r\n",
       "\n",
       "PlantUML version 1.2020.13(Sat Jun 13 12:26:38 UTC 2020)\n",
       "(EPL source distribution)\n",
       "Java Runtime: OpenJDK Runtime Environment\n",
       "JVM: OpenJDK 64-Bit Server VM\n",
       "Default Encoding: UTF-8\n",
       "Language: en\n",
       "Country: null\n",
       "--></g></svg>"
      ]
     },
     "execution_count": 28,
     "metadata": {},
     "output_type": "execute_result"
    }
   ],
   "source": [
    "%viz --style=\"STDCOLOR\" --view=\"Sequence\" \"StateTest\""
   ]
  },
  {
   "cell_type": "code",
   "execution_count": 29,
   "id": "97a7e397",
   "metadata": {
    "execution": {
     "iopub.execute_input": "2021-04-21T20:23:43.575310Z",
     "iopub.status.busy": "2021-04-21T20:23:43.574672Z",
     "iopub.status.idle": "2021-04-21T20:23:43.626765Z",
     "shell.execute_reply": "2021-04-21T20:23:43.626345Z"
    }
   },
   "outputs": [
    {
     "data": {
      "image/svg+xml": [
       "<?xml version=\"1.0\" encoding=\"UTF-8\" standalone=\"no\"?><svg xmlns=\"http://www.w3.org/2000/svg\" xmlns:xlink=\"http://www.w3.org/1999/xlink\" contentScriptType=\"application/ecmascript\" contentStyleType=\"text/css\" height=\"561px\" preserveAspectRatio=\"none\" style=\"width:819px;height:561px;\" version=\"1.1\" viewBox=\"0 0 819 561\" width=\"819px\" zoomAndPan=\"magnify\"><defs><filter height=\"300%\" id=\"f1ctsgbylv8kcq\" width=\"300%\" x=\"-1\" y=\"-1\"><feGaussianBlur result=\"blurOut\" stdDeviation=\"2.0\"/><feColorMatrix in=\"blurOut\" result=\"blurOut2\" type=\"matrix\" values=\"0 0 0 0 0 0 0 0 0 0 0 0 0 0 0 0 0 0 .4 0\"/><feOffset dx=\"4.0\" dy=\"4.0\" in=\"blurOut2\" result=\"blurOut3\"/><feBlend in=\"SourceGraphic\" in2=\"blurOut3\" mode=\"normal\"/></filter></defs><g><!--MD5=[fbc87193dbaf4d95561dea2c320d4a47]\n",
       "cluster E1--><a href=\"psysml:800f45c9-cf5c-46ce-b3c3-487778cd6319\" target=\"_top\" title=\"psysml:800f45c9-cf5c-46ce-b3c3-487778cd6319\" xlink:actuate=\"onRequest\" xlink:href=\"psysml:800f45c9-cf5c-46ce-b3c3-487778cd6319\" xlink:show=\"new\" xlink:title=\"psysml:800f45c9-cf5c-46ce-b3c3-487778cd6319\" xlink:type=\"simple\"><polygon fill=\"#FFFFFF\" filter=\"url(#f1ctsgbylv8kcq)\" points=\"16,6,98,6,105,28.2969,797,28.2969,797,549.5,16,549.5,16,6\" style=\"stroke: #000000; stroke-width: 1.5;\"/><line style=\"stroke: #000000; stroke-width: 1.5;\" x1=\"16\" x2=\"105\" y1=\"28.2969\" y2=\"28.2969\"/><text fill=\"#000000\" font-family=\"sans-serif\" font-size=\"14\" font-weight=\"bold\" lengthAdjust=\"spacingAndGlyphs\" textLength=\"76\" x=\"20\" y=\"20.9951\">StateTest</text></a><!--MD5=[14e3b0961a2654348d326746436168a1]\n",
       "cluster E6--><a href=\"psysml:f2a66a23-1197-47ed-b1bd-74e1ad61d6fd\" target=\"_top\" title=\"psysml:f2a66a23-1197-47ed-b1bd-74e1ad61d6fd\" xlink:actuate=\"onRequest\" xlink:href=\"psysml:f2a66a23-1197-47ed-b1bd-74e1ad61d6fd\" xlink:show=\"new\" xlink:title=\"psysml:f2a66a23-1197-47ed-b1bd-74e1ad61d6fd\" xlink:type=\"simple\"><rect fill=\"#FFFFFF\" filter=\"url(#f1ctsgbylv8kcq)\" height=\"476.5\" id=\"E6\" style=\"stroke: #A80036; stroke-width: 1.5;\" width=\"327\" x=\"446\" y=\"49\"/><rect fill=\"#FEFECE\" height=\"37.9375\" style=\"stroke: #A80036; stroke-width: 1.5;\" width=\"327\" x=\"446\" y=\"49\"/><text fill=\"#000000\" font-family=\"sans-serif\" font-size=\"12\" font-style=\"italic\" lengthAdjust=\"spacingAndGlyphs\" textLength=\"71\" x=\"574\" y=\"65.1387\">«state def»</text><text fill=\"#000000\" font-family=\"sans-serif\" font-size=\"12\" lengthAdjust=\"spacingAndGlyphs\" textLength=\"8\" x=\"605.5\" y=\"79.1074\">S</text><line style=\"stroke: #A80036; stroke-width: 1.0;\" x1=\"446\" x2=\"773\" y1=\"132.8438\" y2=\"132.8438\"/><text fill=\"#000000\" font-family=\"sans-serif\" font-size=\"12\" font-weight=\"bold\" lengthAdjust=\"spacingAndGlyphs\" textLength=\"38\" x=\"451\" y=\"100.0762\">entry</text><text fill=\"#000000\" font-family=\"sans-serif\" font-size=\"12\" lengthAdjust=\"spacingAndGlyphs\" textLength=\"16\" x=\"489\" y=\"100.0762\">/ A</text><text fill=\"#000000\" font-family=\"sans-serif\" font-size=\"12\" font-weight=\"bold\" lengthAdjust=\"spacingAndGlyphs\" textLength=\"18\" x=\"451\" y=\"114.0449\">do</text><text fill=\"#000000\" font-family=\"sans-serif\" font-size=\"12\" lengthAdjust=\"spacingAndGlyphs\" textLength=\"16\" x=\"469\" y=\"114.0449\">/ B</text><text fill=\"#000000\" font-family=\"sans-serif\" font-size=\"12\" font-weight=\"bold\" lengthAdjust=\"spacingAndGlyphs\" textLength=\"26\" x=\"451\" y=\"128.0137\">exit</text><text fill=\"#000000\" font-family=\"sans-serif\" font-size=\"12\" lengthAdjust=\"spacingAndGlyphs\" textLength=\"28\" x=\"477\" y=\"128.0137\">/ act</text></a><!--MD5=[b4997ac47864f28c2f74865a473b2911]\n",
       "class E2--><a href=\"psysml:f1048496-f45f-4de3-be42-17169da36fba\" target=\"_top\" title=\"psysml:f1048496-f45f-4de3-be42-17169da36fba\" xlink:actuate=\"onRequest\" xlink:href=\"psysml:f1048496-f45f-4de3-be42-17169da36fba\" xlink:show=\"new\" xlink:title=\"psysml:f1048496-f45f-4de3-be42-17169da36fba\" xlink:type=\"simple\"><rect fill=\"#FEFECE\" filter=\"url(#f1ctsgbylv8kcq)\" height=\"58.7422\" id=\"E2\" style=\"stroke: #A80036; stroke-width: 1.5;\" width=\"95\" x=\"334.5\" y=\"127.5\"/><text fill=\"#000000\" font-family=\"sans-serif\" font-size=\"12\" font-style=\"italic\" lengthAdjust=\"spacingAndGlyphs\" textLength=\"93\" x=\"335.5\" y=\"143.6387\">«attribute def»</text><text fill=\"#000000\" font-family=\"sans-serif\" font-size=\"12\" lengthAdjust=\"spacingAndGlyphs\" textLength=\"19\" x=\"372.5\" y=\"157.6074\">Sig</text><line style=\"stroke: #A80036; stroke-width: 1.5;\" x1=\"335.5\" x2=\"428.5\" y1=\"165.4375\" y2=\"165.4375\"/><text fill=\"#000000\" font-family=\"sans-serif\" font-size=\"11\" lengthAdjust=\"spacingAndGlyphs\" textLength=\"6\" x=\"340.5\" y=\"179.6479\">x</text></a><!--MD5=[09b614a08d8cba4a07c9adeb5e0fee81]\n",
       "class E3--><a href=\"psysml:546c6a0a-79ca-4224-b50a-77e407cae485\" target=\"_top\" title=\"psysml:546c6a0a-79ca-4224-b50a-77e407cae485\" xlink:actuate=\"onRequest\" xlink:href=\"psysml:546c6a0a-79ca-4224-b50a-77e407cae485\" xlink:show=\"new\" xlink:title=\"psysml:546c6a0a-79ca-4224-b50a-77e407cae485\" xlink:type=\"simple\"><rect fill=\"#FEFECE\" filter=\"url(#f1ctsgbylv8kcq)\" height=\"45.9375\" id=\"E3\" style=\"stroke: #A80036; stroke-width: 1.5;\" width=\"95\" x=\"204.5\" y=\"134\"/><text fill=\"#000000\" font-family=\"sans-serif\" font-size=\"12\" font-style=\"italic\" lengthAdjust=\"spacingAndGlyphs\" textLength=\"93\" x=\"205.5\" y=\"150.1387\">«attribute def»</text><text fill=\"#000000\" font-family=\"sans-serif\" font-size=\"12\" lengthAdjust=\"spacingAndGlyphs\" textLength=\"22\" x=\"241\" y=\"164.1074\">Exit</text><line style=\"stroke: #A80036; stroke-width: 1.5;\" x1=\"205.5\" x2=\"298.5\" y1=\"171.9375\" y2=\"171.9375\"/></a><!--MD5=[ebbe1d658d1005bcc118a6aa81145e00]\n",
       "class E4--><a href=\"psysml:4710131f-7c31-45d9-a6fe-10a60fc8490a\" target=\"_top\" title=\"psysml:4710131f-7c31-45d9-a6fe-10a60fc8490a\" xlink:actuate=\"onRequest\" xlink:href=\"psysml:4710131f-7c31-45d9-a6fe-10a60fc8490a\" xlink:show=\"new\" xlink:title=\"psysml:4710131f-7c31-45d9-a6fe-10a60fc8490a\" xlink:type=\"simple\"><rect fill=\"#FEFECE\" filter=\"url(#f1ctsgbylv8kcq)\" height=\"45.9375\" id=\"E4\" rx=\"10\" ry=\"10\" style=\"stroke: #A80036; stroke-width: 1.5;\" width=\"42\" x=\"127\" y=\"134\"/><text fill=\"#000000\" font-family=\"sans-serif\" font-size=\"12\" font-style=\"italic\" lengthAdjust=\"spacingAndGlyphs\" textLength=\"40\" x=\"128\" y=\"150.1387\">«part»</text><text fill=\"#000000\" font-family=\"sans-serif\" font-size=\"12\" lengthAdjust=\"spacingAndGlyphs\" textLength=\"8\" x=\"144\" y=\"164.1074\">p</text><line style=\"stroke: #A80036; stroke-width: 1.5;\" x1=\"128\" x2=\"168\" y1=\"171.9375\" y2=\"171.9375\"/></a><g id=\"E1.E5\"><a href=\"psysml:0b92cdb5-3694-4434-adff-e0b2149bd4e6\" target=\"_top\" title=\"psysml:0b92cdb5-3694-4434-adff-e0b2149bd4e6\" xlink:actuate=\"onRequest\" xlink:href=\"psysml:0b92cdb5-3694-4434-adff-e0b2149bd4e6\" xlink:show=\"new\" xlink:title=\"psysml:0b92cdb5-3694-4434-adff-e0b2149bd4e6\" xlink:type=\"simple\"><rect fill=\"#FEFECE\" filter=\"url(#f1ctsgbylv8kcq)\" height=\"42.9375\" id=\"E5\" rx=\"10\" ry=\"10\" style=\"stroke: #A80036; stroke-width: 1.5;\" width=\"60\" x=\"32\" y=\"135.5\"/><text fill=\"#000000\" font-family=\"sans-serif\" font-size=\"12\" font-style=\"italic\" lengthAdjust=\"spacingAndGlyphs\" textLength=\"53\" x=\"35.5\" y=\"151.6387\">«action»</text><text fill=\"#000000\" font-family=\"sans-serif\" font-size=\"12\" lengthAdjust=\"spacingAndGlyphs\" textLength=\"20\" x=\"52\" y=\"165.6074\">act</text></a></g><ellipse cx=\"558\" cy=\"157\" fill=\"#000000\" filter=\"url(#f1ctsgbylv8kcq)\" rx=\"10\" ry=\"10\" style=\"stroke: none; stroke-width: 1.0;\"/><ellipse cx=\"583\" cy=\"499.5\" fill=\"none\" filter=\"url(#f1ctsgbylv8kcq)\" rx=\"10\" ry=\"10\" style=\"stroke: #000000; stroke-width: 1.0;\"/><ellipse cx=\"583.5\" cy=\"500\" fill=\"#000000\" rx=\"6\" ry=\"6\" style=\"stroke: none; stroke-width: 1.0;\"/><g id=\"E1.E6.E7\"><a href=\"psysml:0ffea2c5-2698-4589-991c-94f7ac5b0395\" target=\"_top\" title=\"psysml:0ffea2c5-2698-4589-991c-94f7ac5b0395\" xlink:actuate=\"onRequest\" xlink:href=\"psysml:0ffea2c5-2698-4589-991c-94f7ac5b0395\" xlink:show=\"new\" xlink:title=\"psysml:0ffea2c5-2698-4589-991c-94f7ac5b0395\" xlink:type=\"simple\"><rect fill=\"#FEFECE\" filter=\"url(#f1ctsgbylv8kcq)\" height=\"40\" id=\"E7\" rx=\"10\" ry=\"10\" style=\"stroke: #A80036; stroke-width: 1.5;\" width=\"50\" x=\"533\" y=\"247.5\"/><text fill=\"#000000\" font-family=\"sans-serif\" font-size=\"12\" lengthAdjust=\"spacingAndGlyphs\" textLength=\"16\" x=\"550\" y=\"263.6387\">S1</text></a></g><g id=\"E1.E6.E8\"><a href=\"psysml:f6369ddf-93b2-4791-a9ee-7d090a7e6258\" target=\"_top\" title=\"psysml:f6369ddf-93b2-4791-a9ee-7d090a7e6258\" xlink:actuate=\"onRequest\" xlink:href=\"psysml:f6369ddf-93b2-4791-a9ee-7d090a7e6258\" xlink:show=\"new\" xlink:title=\"psysml:f6369ddf-93b2-4791-a9ee-7d090a7e6258\" xlink:type=\"simple\"><rect fill=\"#FEFECE\" filter=\"url(#f1ctsgbylv8kcq)\" height=\"47.9375\" id=\"E8\" rx=\"10\" ry=\"10\" style=\"stroke: #A80036; stroke-width: 1.5;\" width=\"169\" x=\"498.5\" y=\"364.5\"/><text fill=\"#000000\" font-family=\"sans-serif\" font-size=\"12\" lengthAdjust=\"spacingAndGlyphs\" textLength=\"16\" x=\"575\" y=\"380.6387\">S2</text><line style=\"stroke: #A80036; stroke-width: 1.0;\" x1=\"498.5\" x2=\"667.5\" y1=\"388.4688\" y2=\"388.4688\"/><text fill=\"#000000\" font-family=\"sans-serif\" font-size=\"12\" font-weight=\"bold\" lengthAdjust=\"spacingAndGlyphs\" textLength=\"18\" x=\"503.5\" y=\"401.6074\">do</text><text fill=\"#000000\" font-family=\"sans-serif\" font-size=\"12\" lengthAdjust=\"spacingAndGlyphs\" textLength=\"141\" x=\"521.5\" y=\"401.6074\">/  send Sig(T::s::x) to p</text></a></g><!--MD5=[5a531d3a85f3339e6e197084acb48195]\n",
       "link *start*E6 to E7--><a href=\"psysml:3d6f6111-a5f0-4f07-bf0a-543b5052b3c3\" target=\"_top\" title=\"psysml:3d6f6111-a5f0-4f07-bf0a-543b5052b3c3\" xlink:actuate=\"onRequest\" xlink:href=\"psysml:3d6f6111-a5f0-4f07-bf0a-543b5052b3c3\" xlink:show=\"new\" xlink:title=\"psysml:3d6f6111-a5f0-4f07-bf0a-543b5052b3c3\" xlink:type=\"simple\"><path d=\"M558,167.25 C558,183.64 558,218.28 558,241.97 \" fill=\"none\" id=\"*start*E6-&gt;E7\" style=\"stroke: #A80036; stroke-width: 1.0;\"/><polygon fill=\"#A80036\" points=\"558,247.15,562,238.15,558,242.15,554,238.15,558,247.15\" style=\"stroke: #A80036; stroke-width: 1.0;\"/></a><!--MD5=[7ec9a8babba89ddcae1318ca9fb3c814]\n",
       "link E8 to *end*E6--><a href=\"psysml:374875bf-0004-40f7-bedc-1374d527cde5\" target=\"_top\" title=\"psysml:374875bf-0004-40f7-bedc-1374d527cde5\" xlink:actuate=\"onRequest\" xlink:href=\"psysml:374875bf-0004-40f7-bedc-1374d527cde5\" xlink:show=\"new\" xlink:title=\"psysml:374875bf-0004-40f7-bedc-1374d527cde5\" xlink:type=\"simple\"><path d=\"M583,412.62 C583,434.25 583,465.89 583,484.12 \" fill=\"none\" id=\"E8-&gt;*end*E6\" style=\"stroke: #A80036; stroke-width: 1.0;\"/><polygon fill=\"#A80036\" points=\"583,489.32,587,480.32,583,484.32,579,480.32,583,489.32\" style=\"stroke: #A80036; stroke-width: 1.0;\"/><text fill=\"#000000\" font-family=\"sans-serif\" font-size=\"13\" lengthAdjust=\"spacingAndGlyphs\" textLength=\"23\" x=\"584\" y=\"455.5669\">Exit</text></a><!--MD5=[79bc8f324ef4d02c541433f2e6e513c3]\n",
       "link E7 to E8--><a href=\"psysml:69f1494c-077d-4519-8343-87cce73be713\" target=\"_top\" title=\"psysml:69f1494c-077d-4519-8343-87cce73be713\" xlink:actuate=\"onRequest\" xlink:href=\"psysml:69f1494c-077d-4519-8343-87cce73be713\" xlink:show=\"new\" xlink:title=\"psysml:69f1494c-077d-4519-8343-87cce73be713\" xlink:type=\"simple\"><path d=\"M532.85,279.79 C509.89,291.81 481.3,312.16 494,334.5 C500.2,345.4 509.62,354.3 520.06,361.47 \" fill=\"none\" id=\"E7-&gt;E8\" style=\"stroke: #A80036; stroke-width: 1.0;\"/><polygon fill=\"#A80036\" points=\"524.26,364.24,518.9574,355.9404,520.0888,361.483,514.5462,362.6144,524.26,364.24\" style=\"stroke: #A80036; stroke-width: 1.0;\"/><text fill=\"#000000\" font-family=\"sans-serif\" font-size=\"13\" lengthAdjust=\"spacingAndGlyphs\" textLength=\"81\" x=\"495\" y=\"330.5669\">Sig /action D</text></a><!--MD5=[bfa3c8b0d15052fdf50ae9310b491027]\n",
       "link E8 to E7--><a href=\"psysml:f8d53726-bfe5-4353-91f3-ae2ef06d9a38\" target=\"_top\" title=\"psysml:f8d53726-bfe5-4353-91f3-ae2ef06d9a38\" xlink:actuate=\"onRequest\" xlink:href=\"psysml:f8d53726-bfe5-4353-91f3-ae2ef06d9a38\" xlink:show=\"new\" xlink:title=\"psysml:f8d53726-bfe5-4353-91f3-ae2ef06d9a38\" xlink:type=\"simple\"><path d=\"M584.68,364.49 C585.12,350.69 584.66,332.88 581,317.5 C578.98,309.02 575.41,300.25 571.67,292.52 \" fill=\"none\" id=\"E8-&gt;E7\" style=\"stroke: #A80036; stroke-width: 1.0;\"/><polygon fill=\"#A80036\" points=\"569.33,287.85,569.7898,297.6881,571.5718,292.3193,576.9406,294.1013,569.33,287.85\" style=\"stroke: #A80036; stroke-width: 1.0;\"/><text fill=\"#000000\" font-family=\"sans-serif\" font-size=\"13\" lengthAdjust=\"spacingAndGlyphs\" textLength=\"135\" x=\"584\" y=\"330.5669\">Sig [true]/send s to p</text></a><!--MD5=[acc76d0badd4ab9a51096dcd7297dcdc]\n",
       "@startuml\r\n",
       "skinparam wrapWidth 300\r\n",
       "hide circle\r\n",
       "\r\n",
       "package \"StateTest\" as E1  [[psysml:800f45c9-cf5c-46ce-b3c3-487778cd6319 ]]  {\r\n",
       "comp def \"Sig\" as E2  <<(T,blue)attribute def>> [[psysml:f1048496-f45f-4de3-be42-17169da36fba ]] {\r\n",
       "x\r\n",
       "}\r\n",
       "comp def \"Exit\" as E3  <<(T,blue)attribute def>> [[psysml:546c6a0a-79ca-4224-b50a-77e407cae485 ]] {\r\n",
       "}\r\n",
       "comp usage \"p\" as E4  <<(T,blue)part>> [[psysml:4710131f-7c31-45d9-a6fe-10a60fc8490a ]] {\r\n",
       "}\r\n",
       "rec usage \"act\" as E5  <<(T,blue)action>> [[psysml:0b92cdb5-3694-4434-adff-e0b2149bd4e6 ]] {\r\n",
       "}\r\n",
       "\r\n",
       "rec def \"S\" as E6  <<(T,blue)state def>> [[psysml:f2a66a23-1197-47ed-b1bd-74e1ad61d6fd ]] {\r\n",
       "rec usage \"S1\" as E7 [[psysml:0ffea2c5-2698-4589-991c-94f7ac5b0395 ]] {\r\n",
       "}\r\n",
       "\r\n",
       "rec usage \"S2\" as E8 [[psysml:f6369ddf-93b2-4791-a9ee-7d090a7e6258 ]] {\r\n",
       "desc \"S2\" as E8  : **do**/  send Sig(T::s::x) to p\r\n",
       "}\r\n",
       "\r\n",
       "desc \"S\" as E6  : **entry**/ A\r\n",
       "desc \"S\" as E6  : **do**/ B\r\n",
       "desc \"S\" as E6  : **exit**/ act \r\n",
       "[*] - -> E7 [[psysml:3d6f6111-a5f0-4f07-bf0a-543b5052b3c3 ]] \r\n",
       "E8  - -> [*] [[psysml:374875bf-0004-40f7-bedc-1374d527cde5 ]] : Exit \r\n",
       "}\r\n",
       "\r\n",
       "E7  - -> E8 [[psysml:69f1494c-077d-4519-8343-87cce73be713 ]] : Sig /action D\r\n",
       "E8  - -> E7 [[psysml:f8d53726-bfe5-4353-91f3-ae2ef06d9a38 ]] : Sig [true]/send s to p\r\n",
       "}\r\n",
       "@enduml\r\n",
       "\n",
       "PlantUML version 1.2020.13(Sat Jun 13 12:26:38 UTC 2020)\n",
       "(EPL source distribution)\n",
       "Java Runtime: OpenJDK Runtime Environment\n",
       "JVM: OpenJDK 64-Bit Server VM\n",
       "Default Encoding: UTF-8\n",
       "Language: en\n",
       "Country: null\n",
       "--></g></svg>"
      ]
     },
     "execution_count": 29,
     "metadata": {},
     "output_type": "execute_result"
    }
   ],
   "source": [
    "%viz --style=\"STDCOLOR\" --view=\"MIXED\" \"StateTest\""
   ]
  },
  {
   "cell_type": "code",
   "execution_count": 30,
   "id": "d5dd7c2a",
   "metadata": {
    "execution": {
     "iopub.execute_input": "2021-04-21T20:23:43.676589Z",
     "iopub.status.busy": "2021-04-21T20:23:43.675917Z",
     "iopub.status.idle": "2021-04-21T20:23:43.763816Z",
     "shell.execute_reply": "2021-04-21T20:23:43.763472Z"
    }
   },
   "outputs": [
    {
     "data": {
      "image/svg+xml": [
       "<?xml version=\"1.0\" encoding=\"UTF-8\" standalone=\"no\"?><svg xmlns=\"http://www.w3.org/2000/svg\" xmlns:xlink=\"http://www.w3.org/1999/xlink\" contentScriptType=\"application/ecmascript\" contentStyleType=\"text/css\" height=\"569px\" preserveAspectRatio=\"none\" style=\"width:923px;height:569px;\" version=\"1.1\" viewBox=\"0 0 923 569\" width=\"923px\" zoomAndPan=\"magnify\"><defs><filter height=\"300%\" id=\"f1hnn71v8c84t4\" width=\"300%\" x=\"-1\" y=\"-1\"><feGaussianBlur result=\"blurOut\" stdDeviation=\"2.0\"/><feColorMatrix in=\"blurOut\" result=\"blurOut2\" type=\"matrix\" values=\"0 0 0 0 0 0 0 0 0 0 0 0 0 0 0 0 0 0 .4 0\"/><feOffset dx=\"4.0\" dy=\"4.0\" in=\"blurOut2\" result=\"blurOut3\"/><feBlend in=\"SourceGraphic\" in2=\"blurOut3\" mode=\"normal\"/></filter></defs><g><!--MD5=[fbc87193dbaf4d95561dea2c320d4a47]\n",
       "cluster E1--><a href=\"psysml:800f45c9-cf5c-46ce-b3c3-487778cd6319\" target=\"_top\" title=\"psysml:800f45c9-cf5c-46ce-b3c3-487778cd6319\" xlink:actuate=\"onRequest\" xlink:href=\"psysml:800f45c9-cf5c-46ce-b3c3-487778cd6319\" xlink:show=\"new\" xlink:title=\"psysml:800f45c9-cf5c-46ce-b3c3-487778cd6319\" xlink:type=\"simple\"><polygon fill=\"#FFFFFF\" filter=\"url(#f1hnn71v8c84t4)\" points=\"16,6,98,6,105,28.2969,901,28.2969,901,557.5,16,557.5,16,6\" style=\"stroke: #000000; stroke-width: 1.5;\"/><line style=\"stroke: #000000; stroke-width: 1.5;\" x1=\"16\" x2=\"105\" y1=\"28.2969\" y2=\"28.2969\"/><text fill=\"#000000\" font-family=\"sans-serif\" font-size=\"14\" font-weight=\"bold\" lengthAdjust=\"spacingAndGlyphs\" textLength=\"76\" x=\"20\" y=\"20.9951\">StateTest</text></a><!--MD5=[14e3b0961a2654348d326746436168a1]\n",
       "cluster E6--><a href=\"psysml:f2a66a23-1197-47ed-b1bd-74e1ad61d6fd\" target=\"_top\" title=\"psysml:f2a66a23-1197-47ed-b1bd-74e1ad61d6fd\" xlink:actuate=\"onRequest\" xlink:href=\"psysml:f2a66a23-1197-47ed-b1bd-74e1ad61d6fd\" xlink:show=\"new\" xlink:title=\"psysml:f2a66a23-1197-47ed-b1bd-74e1ad61d6fd\" xlink:type=\"simple\"><rect fill=\"#FFFFFF\" filter=\"url(#f1hnn71v8c84t4)\" height=\"484.5\" id=\"E6\" style=\"stroke: #A80036; stroke-width: 1.5;\" width=\"327\" x=\"550\" y=\"49\"/><rect fill=\"#FEFECE\" height=\"37.9375\" style=\"stroke: #A80036; stroke-width: 1.5;\" width=\"327\" x=\"550\" y=\"49\"/><text fill=\"#000000\" font-family=\"sans-serif\" font-size=\"12\" font-style=\"italic\" lengthAdjust=\"spacingAndGlyphs\" textLength=\"71\" x=\"678\" y=\"65.1387\">«state def»</text><text fill=\"#000000\" font-family=\"sans-serif\" font-size=\"12\" lengthAdjust=\"spacingAndGlyphs\" textLength=\"8\" x=\"709.5\" y=\"79.1074\">S</text><line style=\"stroke: #A80036; stroke-width: 1.0;\" x1=\"550\" x2=\"877\" y1=\"132.8438\" y2=\"132.8438\"/><text fill=\"#000000\" font-family=\"sans-serif\" font-size=\"12\" font-weight=\"bold\" lengthAdjust=\"spacingAndGlyphs\" textLength=\"38\" x=\"555\" y=\"100.0762\">entry</text><text fill=\"#000000\" font-family=\"sans-serif\" font-size=\"12\" lengthAdjust=\"spacingAndGlyphs\" textLength=\"16\" x=\"593\" y=\"100.0762\">/ A</text><text fill=\"#000000\" font-family=\"sans-serif\" font-size=\"12\" font-weight=\"bold\" lengthAdjust=\"spacingAndGlyphs\" textLength=\"18\" x=\"555\" y=\"114.0449\">do</text><text fill=\"#000000\" font-family=\"sans-serif\" font-size=\"12\" lengthAdjust=\"spacingAndGlyphs\" textLength=\"16\" x=\"573\" y=\"114.0449\">/ B</text><text fill=\"#000000\" font-family=\"sans-serif\" font-size=\"12\" font-weight=\"bold\" lengthAdjust=\"spacingAndGlyphs\" textLength=\"26\" x=\"555\" y=\"128.0137\">exit</text><text fill=\"#000000\" font-family=\"sans-serif\" font-size=\"12\" lengthAdjust=\"spacingAndGlyphs\" textLength=\"28\" x=\"581\" y=\"128.0137\">/ act</text></a><!--MD5=[b4997ac47864f28c2f74865a473b2911]\n",
       "class E2--><a href=\"psysml:f1048496-f45f-4de3-be42-17169da36fba\" target=\"_top\" title=\"psysml:f1048496-f45f-4de3-be42-17169da36fba\" xlink:actuate=\"onRequest\" xlink:href=\"psysml:f1048496-f45f-4de3-be42-17169da36fba\" xlink:show=\"new\" xlink:title=\"psysml:f1048496-f45f-4de3-be42-17169da36fba\" xlink:type=\"simple\"><rect fill=\"#FEFECE\" filter=\"url(#f1hnn71v8c84t4)\" height=\"58.7422\" id=\"E2\" style=\"stroke: #A80036; stroke-width: 1.5;\" width=\"121\" x=\"412.5\" y=\"127.5\"/><ellipse cx=\"427.5\" cy=\"146.4688\" fill=\"#A52A2A\" rx=\"11\" ry=\"11\" style=\"stroke: #A80036; stroke-width: 1.0;\"/><path d=\"M427.0938,142.2813 L427.0938,150.2656 L427.75,150.2656 Q429.1875,150.2656 429.7969,149.3594 Q430.4219,148.4375 430.4219,146.2656 Q430.4219,144.0938 429.7969,143.1875 Q429.1875,142.2813 427.75,142.2813 L427.0938,142.2813 Z M424.6406,140.0781 L427.2656,140.0781 Q430.2969,140.0781 431.625,141.5313 Q432.9688,142.9688 432.9688,146.2656 Q432.9688,149.5625 431.625,151.0156 Q430.2969,152.4688 427.2656,152.4688 L424.6406,152.4688 L424.6406,140.0781 Z \"/><text fill=\"#000000\" font-family=\"sans-serif\" font-size=\"12\" font-style=\"italic\" lengthAdjust=\"spacingAndGlyphs\" textLength=\"93\" x=\"439.5\" y=\"143.6387\">«attribute def»</text><text fill=\"#000000\" font-family=\"sans-serif\" font-size=\"12\" lengthAdjust=\"spacingAndGlyphs\" textLength=\"19\" x=\"476.5\" y=\"157.6074\">Sig</text><line style=\"stroke: #A80036; stroke-width: 1.5;\" x1=\"413.5\" x2=\"532.5\" y1=\"165.4375\" y2=\"165.4375\"/><text fill=\"#000000\" font-family=\"sans-serif\" font-size=\"11\" lengthAdjust=\"spacingAndGlyphs\" textLength=\"6\" x=\"418.5\" y=\"179.6479\">x</text></a><!--MD5=[09b614a08d8cba4a07c9adeb5e0fee81]\n",
       "class E3--><a href=\"psysml:546c6a0a-79ca-4224-b50a-77e407cae485\" target=\"_top\" title=\"psysml:546c6a0a-79ca-4224-b50a-77e407cae485\" xlink:actuate=\"onRequest\" xlink:href=\"psysml:546c6a0a-79ca-4224-b50a-77e407cae485\" xlink:show=\"new\" xlink:title=\"psysml:546c6a0a-79ca-4224-b50a-77e407cae485\" xlink:type=\"simple\"><rect fill=\"#FEFECE\" filter=\"url(#f1hnn71v8c84t4)\" height=\"45.9375\" id=\"E3\" style=\"stroke: #A80036; stroke-width: 1.5;\" width=\"121\" x=\"256.5\" y=\"134\"/><ellipse cx=\"271.5\" cy=\"152.9688\" fill=\"#A52A2A\" rx=\"11\" ry=\"11\" style=\"stroke: #A80036; stroke-width: 1.0;\"/><path d=\"M271.0938,148.7813 L271.0938,156.7656 L271.75,156.7656 Q273.1875,156.7656 273.7969,155.8594 Q274.4219,154.9375 274.4219,152.7656 Q274.4219,150.5938 273.7969,149.6875 Q273.1875,148.7813 271.75,148.7813 L271.0938,148.7813 Z M268.6406,146.5781 L271.2656,146.5781 Q274.2969,146.5781 275.625,148.0313 Q276.9688,149.4688 276.9688,152.7656 Q276.9688,156.0625 275.625,157.5156 Q274.2969,158.9688 271.2656,158.9688 L268.6406,158.9688 L268.6406,146.5781 Z \"/><text fill=\"#000000\" font-family=\"sans-serif\" font-size=\"12\" font-style=\"italic\" lengthAdjust=\"spacingAndGlyphs\" textLength=\"93\" x=\"283.5\" y=\"150.1387\">«attribute def»</text><text fill=\"#000000\" font-family=\"sans-serif\" font-size=\"12\" lengthAdjust=\"spacingAndGlyphs\" textLength=\"22\" x=\"319\" y=\"164.1074\">Exit</text><line style=\"stroke: #A80036; stroke-width: 1.5;\" x1=\"257.5\" x2=\"376.5\" y1=\"171.9375\" y2=\"171.9375\"/></a><!--MD5=[ebbe1d658d1005bcc118a6aa81145e00]\n",
       "class E4--><a href=\"psysml:4710131f-7c31-45d9-a6fe-10a60fc8490a\" target=\"_top\" title=\"psysml:4710131f-7c31-45d9-a6fe-10a60fc8490a\" xlink:actuate=\"onRequest\" xlink:href=\"psysml:4710131f-7c31-45d9-a6fe-10a60fc8490a\" xlink:show=\"new\" xlink:title=\"psysml:4710131f-7c31-45d9-a6fe-10a60fc8490a\" xlink:type=\"simple\"><rect fill=\"#FEFECE\" filter=\"url(#f1hnn71v8c84t4)\" height=\"45.9375\" id=\"E4\" rx=\"10\" ry=\"10\" style=\"stroke: #A80036; stroke-width: 1.5;\" width=\"68\" x=\"153\" y=\"134\"/><ellipse cx=\"168\" cy=\"152.9688\" fill=\"#32CD32\" rx=\"11\" ry=\"11\" style=\"stroke: #A80036; stroke-width: 1.0;\"/><path d=\"M167.7969,148.6406 L167.7969,152.2656 L168.7969,152.2656 Q170,152.2656 170.4844,151.8594 Q170.9688,151.4531 170.9688,150.4531 Q170.9688,149.4531 170.4844,149.0469 Q170,148.6406 168.7969,148.6406 L167.7969,148.6406 Z M165.3438,146.5781 L168.7031,146.5781 Q171.2656,146.5781 172.3906,147.5 Q173.5156,148.4063 173.5156,150.4531 Q173.5156,152.5 172.3906,153.4219 Q171.2656,154.3281 168.7031,154.3281 L167.7969,154.3281 L167.7969,158.9688 L165.3438,158.9688 L165.3438,146.5781 Z \"/><text fill=\"#000000\" font-family=\"sans-serif\" font-size=\"12\" font-style=\"italic\" lengthAdjust=\"spacingAndGlyphs\" textLength=\"40\" x=\"180\" y=\"150.1387\">«part»</text><text fill=\"#000000\" font-family=\"sans-serif\" font-size=\"12\" lengthAdjust=\"spacingAndGlyphs\" textLength=\"8\" x=\"196\" y=\"164.1074\">p</text><line style=\"stroke: #A80036; stroke-width: 1.5;\" x1=\"154\" x2=\"220\" y1=\"171.9375\" y2=\"171.9375\"/></a><g id=\"E1.E5\"><a href=\"psysml:0b92cdb5-3694-4434-adff-e0b2149bd4e6\" target=\"_top\" title=\"psysml:0b92cdb5-3694-4434-adff-e0b2149bd4e6\" xlink:actuate=\"onRequest\" xlink:href=\"psysml:0b92cdb5-3694-4434-adff-e0b2149bd4e6\" xlink:show=\"new\" xlink:title=\"psysml:0b92cdb5-3694-4434-adff-e0b2149bd4e6\" xlink:type=\"simple\"><rect fill=\"#FEFECE\" filter=\"url(#f1hnn71v8c84t4)\" height=\"42.9375\" id=\"E5\" rx=\"10\" ry=\"10\" style=\"stroke: #A80036; stroke-width: 1.5;\" width=\"86\" x=\"32\" y=\"135.5\"/><ellipse cx=\"49.25\" cy=\"154.4688\" fill=\"#FFA500\" rx=\"11\" ry=\"11\" style=\"stroke: #A80036; stroke-width: 1.0;\"/><path d=\"M45.125,156.3906 L45.125,148.5781 L47.5781,148.5781 L47.5781,157.0156 Q47.5781,157.9375 48.0469,158.4688 Q48.5313,159 49.3594,159 Q50.2031,159 50.6719,158.4688 Q51.1406,157.9375 51.1406,157.0156 L51.1406,148.5781 L53.5938,148.5781 L53.5938,156.3906 Q53.5938,158.9219 52.5938,160.0625 Q51.5938,161.2031 49.3594,161.2031 Q47.1406,161.2031 46.125,160.0625 Q45.125,158.9219 45.125,156.3906 Z \"/><text fill=\"#000000\" font-family=\"sans-serif\" font-size=\"12\" font-style=\"italic\" lengthAdjust=\"spacingAndGlyphs\" textLength=\"53\" x=\"61.75\" y=\"151.6387\">«action»</text><text fill=\"#000000\" font-family=\"sans-serif\" font-size=\"12\" lengthAdjust=\"spacingAndGlyphs\" textLength=\"20\" x=\"78.25\" y=\"165.6074\">act</text></a></g><ellipse cx=\"662\" cy=\"157\" fill=\"#000000\" filter=\"url(#f1hnn71v8c84t4)\" rx=\"10\" ry=\"10\" style=\"stroke: none; stroke-width: 1.0;\"/><ellipse cx=\"687\" cy=\"507.5\" fill=\"none\" filter=\"url(#f1hnn71v8c84t4)\" rx=\"10\" ry=\"10\" style=\"stroke: #000000; stroke-width: 1.0;\"/><ellipse cx=\"687.5\" cy=\"508\" fill=\"#000000\" rx=\"6\" ry=\"6\" style=\"stroke: none; stroke-width: 1.0;\"/><g id=\"E1.E6.E7\"><a href=\"psysml:0ffea2c5-2698-4589-991c-94f7ac5b0395\" target=\"_top\" title=\"psysml:0ffea2c5-2698-4589-991c-94f7ac5b0395\" xlink:actuate=\"onRequest\" xlink:href=\"psysml:0ffea2c5-2698-4589-991c-94f7ac5b0395\" xlink:show=\"new\" xlink:title=\"psysml:0ffea2c5-2698-4589-991c-94f7ac5b0395\" xlink:type=\"simple\"><rect fill=\"#FEFECE\" filter=\"url(#f1hnn71v8c84t4)\" height=\"40\" id=\"E7\" rx=\"10\" ry=\"10\" style=\"stroke: #A80036; stroke-width: 1.5;\" width=\"53\" x=\"635.5\" y=\"247.5\"/><ellipse cx=\"652.75\" cy=\"263.5\" fill=\"#B6DBBB\" rx=\"11\" ry=\"11\" style=\"stroke: #A80036; stroke-width: 1.0;\"/><path d=\"M648.625,265.4219 L648.625,257.6094 L651.0781,257.6094 L651.0781,266.0469 Q651.0781,266.9688 651.5469,267.5 Q652.0313,268.0313 652.8594,268.0313 Q653.7031,268.0313 654.1719,267.5 Q654.6406,266.9688 654.6406,266.0469 L654.6406,257.6094 L657.0938,257.6094 L657.0938,265.4219 Q657.0938,267.9531 656.0938,269.0938 Q655.0938,270.2344 652.8594,270.2344 Q650.6406,270.2344 649.625,269.0938 Q648.625,267.9531 648.625,265.4219 Z \"/><text fill=\"#000000\" font-family=\"sans-serif\" font-size=\"12\" lengthAdjust=\"spacingAndGlyphs\" textLength=\"16\" x=\"667.25\" y=\"267.6543\">S1</text></a></g><g id=\"E1.E6.E8\"><a href=\"psysml:f6369ddf-93b2-4791-a9ee-7d090a7e6258\" target=\"_top\" title=\"psysml:f6369ddf-93b2-4791-a9ee-7d090a7e6258\" xlink:actuate=\"onRequest\" xlink:href=\"psysml:f6369ddf-93b2-4791-a9ee-7d090a7e6258\" xlink:show=\"new\" xlink:title=\"psysml:f6369ddf-93b2-4791-a9ee-7d090a7e6258\" xlink:type=\"simple\"><rect fill=\"#FEFECE\" filter=\"url(#f1hnn71v8c84t4)\" height=\"55.9688\" id=\"E8\" rx=\"10\" ry=\"10\" style=\"stroke: #A80036; stroke-width: 1.5;\" width=\"169\" x=\"602.5\" y=\"364.5\"/><ellipse cx=\"674.75\" cy=\"380.5\" fill=\"#B6DBBB\" rx=\"11\" ry=\"11\" style=\"stroke: #A80036; stroke-width: 1.0;\"/><path d=\"M670.625,382.4219 L670.625,374.6094 L673.0781,374.6094 L673.0781,383.0469 Q673.0781,383.9688 673.5469,384.5 Q674.0313,385.0313 674.8594,385.0313 Q675.7031,385.0313 676.1719,384.5 Q676.6406,383.9688 676.6406,383.0469 L676.6406,374.6094 L679.0938,374.6094 L679.0938,382.4219 Q679.0938,384.9531 678.0938,386.0938 Q677.0938,387.2344 674.8594,387.2344 Q672.6406,387.2344 671.625,386.0938 Q670.625,384.9531 670.625,382.4219 Z \"/><text fill=\"#000000\" font-family=\"sans-serif\" font-size=\"12\" lengthAdjust=\"spacingAndGlyphs\" textLength=\"16\" x=\"695.25\" y=\"384.6543\">S2</text><line style=\"stroke: #A80036; stroke-width: 1.0;\" x1=\"602.5\" x2=\"771.5\" y1=\"396.5\" y2=\"396.5\"/><text fill=\"#000000\" font-family=\"sans-serif\" font-size=\"12\" font-weight=\"bold\" lengthAdjust=\"spacingAndGlyphs\" textLength=\"18\" x=\"607.5\" y=\"409.6387\">do</text><text fill=\"#000000\" font-family=\"sans-serif\" font-size=\"12\" lengthAdjust=\"spacingAndGlyphs\" textLength=\"141\" x=\"625.5\" y=\"409.6387\">/  send Sig(T::s::x) to p</text></a></g><!--MD5=[5a531d3a85f3339e6e197084acb48195]\n",
       "link *start*E6 to E7--><a href=\"psysml:3d6f6111-a5f0-4f07-bf0a-543b5052b3c3\" target=\"_top\" title=\"psysml:3d6f6111-a5f0-4f07-bf0a-543b5052b3c3\" xlink:actuate=\"onRequest\" xlink:href=\"psysml:3d6f6111-a5f0-4f07-bf0a-543b5052b3c3\" xlink:show=\"new\" xlink:title=\"psysml:3d6f6111-a5f0-4f07-bf0a-543b5052b3c3\" xlink:type=\"simple\"><path d=\"M662,167.25 C662,183.64 662,218.28 662,241.97 \" fill=\"none\" id=\"*start*E6-&gt;E7\" style=\"stroke: #A80036; stroke-width: 1.0;\"/><polygon fill=\"#A80036\" points=\"662,247.15,666,238.15,662,242.15,658,238.15,662,247.15\" style=\"stroke: #A80036; stroke-width: 1.0;\"/></a><!--MD5=[7ec9a8babba89ddcae1318ca9fb3c814]\n",
       "link E8 to *end*E6--><a href=\"psysml:374875bf-0004-40f7-bedc-1374d527cde5\" target=\"_top\" title=\"psysml:374875bf-0004-40f7-bedc-1374d527cde5\" xlink:actuate=\"onRequest\" xlink:href=\"psysml:374875bf-0004-40f7-bedc-1374d527cde5\" xlink:show=\"new\" xlink:title=\"psysml:374875bf-0004-40f7-bedc-1374d527cde5\" xlink:type=\"simple\"><path d=\"M687,420.57 C687,443.05 687,474.17 687,492.13 \" fill=\"none\" id=\"E8-&gt;*end*E6\" style=\"stroke: #A80036; stroke-width: 1.0;\"/><polygon fill=\"#A80036\" points=\"687,497.26,691,488.26,687,492.26,683,488.26,687,497.26\" style=\"stroke: #A80036; stroke-width: 1.0;\"/><text fill=\"#000000\" font-family=\"sans-serif\" font-size=\"13\" lengthAdjust=\"spacingAndGlyphs\" textLength=\"23\" x=\"688\" y=\"463.5669\">Exit</text></a><!--MD5=[79bc8f324ef4d02c541433f2e6e513c3]\n",
       "link E7 to E8--><a href=\"psysml:69f1494c-077d-4519-8343-87cce73be713\" target=\"_top\" title=\"psysml:69f1494c-077d-4519-8343-87cce73be713\" xlink:actuate=\"onRequest\" xlink:href=\"psysml:69f1494c-077d-4519-8343-87cce73be713\" xlink:show=\"new\" xlink:title=\"psysml:69f1494c-077d-4519-8343-87cce73be713\" xlink:type=\"simple\"><path d=\"M635.29,280.61 C612.77,292.67 585.97,312.52 598,334.5 C603.78,345.06 612.44,353.96 622.13,361.34 \" fill=\"none\" id=\"E7-&gt;E8\" style=\"stroke: #A80036; stroke-width: 1.0;\"/><polygon fill=\"#A80036\" points=\"626.35,364.42,621.4276,355.8894,622.3076,361.4774,616.7196,362.3574,626.35,364.42\" style=\"stroke: #A80036; stroke-width: 1.0;\"/><text fill=\"#000000\" font-family=\"sans-serif\" font-size=\"13\" lengthAdjust=\"spacingAndGlyphs\" textLength=\"81\" x=\"599\" y=\"330.5669\">Sig /action D</text></a><!--MD5=[bfa3c8b0d15052fdf50ae9310b491027]\n",
       "link E8 to E7--><a href=\"psysml:f8d53726-bfe5-4353-91f3-ae2ef06d9a38\" target=\"_top\" title=\"psysml:f8d53726-bfe5-4353-91f3-ae2ef06d9a38\" xlink:actuate=\"onRequest\" xlink:href=\"psysml:f8d53726-bfe5-4353-91f3-ae2ef06d9a38\" xlink:show=\"new\" xlink:title=\"psysml:f8d53726-bfe5-4353-91f3-ae2ef06d9a38\" xlink:type=\"simple\"><path d=\"M688.9,364.44 C689.24,350.28 688.62,332.76 685,317.5 C682.99,309.02 679.41,300.25 675.68,292.52 \" fill=\"none\" id=\"E8-&gt;E7\" style=\"stroke: #A80036; stroke-width: 1.0;\"/><polygon fill=\"#A80036\" points=\"673.34,287.85,673.7746,297.6893,675.5703,292.325,680.9346,294.1207,673.34,287.85\" style=\"stroke: #A80036; stroke-width: 1.0;\"/><text fill=\"#000000\" font-family=\"sans-serif\" font-size=\"13\" lengthAdjust=\"spacingAndGlyphs\" textLength=\"135\" x=\"688\" y=\"330.5669\">Sig [true]/send s to p</text></a><!--MD5=[789b268a33ccf86d3f7b99088d5b0cae]\n",
       "@startuml\r\n",
       " \r\n",
       "package \"StateTest\" as E1  [[psysml:800f45c9-cf5c-46ce-b3c3-487778cd6319 ]]  {\r\n",
       "comp def \"Sig\" as E2  <<(D,brown)attribute def>> [[psysml:f1048496-f45f-4de3-be42-17169da36fba ]] {\r\n",
       "x\r\n",
       "}\r\n",
       "comp def \"Exit\" as E3  <<(D,brown)attribute def>> [[psysml:546c6a0a-79ca-4224-b50a-77e407cae485 ]] {\r\n",
       "}\r\n",
       "comp usage \"p\" as E4  << (P,limegreen) part>> [[psysml:4710131f-7c31-45d9-a6fe-10a60fc8490a ]] {\r\n",
       "}\r\n",
       "rec usage \"act\" as E5  <<(U,orange)action>> [[psysml:0b92cdb5-3694-4434-adff-e0b2149bd4e6 ]] {\r\n",
       "}\r\n",
       "\r\n",
       "rec def \"S\" as E6  <<(D,brown)state def>> [[psysml:f2a66a23-1197-47ed-b1bd-74e1ad61d6fd ]] {\r\n",
       "rec usage \"S1\" as E7 [[psysml:0ffea2c5-2698-4589-991c-94f7ac5b0395 ]] {\r\n",
       "}\r\n",
       "\r\n",
       "rec usage \"S2\" as E8 [[psysml:f6369ddf-93b2-4791-a9ee-7d090a7e6258 ]] {\r\n",
       "desc \"S2\" as E8  : **do**/  send Sig(T::s::x) to p\r\n",
       "}\r\n",
       "\r\n",
       "desc \"S\" as E6  : **entry**/ A\r\n",
       "desc \"S\" as E6  : **do**/ B\r\n",
       "desc \"S\" as E6  : **exit**/ act \r\n",
       "[*] - -> E7 [[psysml:3d6f6111-a5f0-4f07-bf0a-543b5052b3c3 ]] \r\n",
       "E8  - -> [*] [[psysml:374875bf-0004-40f7-bedc-1374d527cde5 ]] : Exit \r\n",
       "}\r\n",
       "\r\n",
       "E7  - -> E8 [[psysml:69f1494c-077d-4519-8343-87cce73be713 ]] : Sig /action D\r\n",
       "E8  - -> E7 [[psysml:f8d53726-bfe5-4353-91f3-ae2ef06d9a38 ]] : Sig [true]/send s to p\r\n",
       "}\r\n",
       "@enduml\r\n",
       "\n",
       "PlantUML version 1.2020.13(Sat Jun 13 12:26:38 UTC 2020)\n",
       "(EPL source distribution)\n",
       "Java Runtime: OpenJDK Runtime Environment\n",
       "JVM: OpenJDK 64-Bit Server VM\n",
       "Default Encoding: UTF-8\n",
       "Language: en\n",
       "Country: null\n",
       "--></g></svg>"
      ]
     },
     "execution_count": 30,
     "metadata": {},
     "output_type": "execute_result"
    }
   ],
   "source": [
    "%viz --style=\"PLANTUML\" --view=\"Default\" \"StateTest\""
   ]
  },
  {
   "cell_type": "code",
   "execution_count": 31,
   "id": "a53b4ef6",
   "metadata": {
    "execution": {
     "iopub.execute_input": "2021-04-21T20:23:43.813474Z",
     "iopub.status.busy": "2021-04-21T20:23:43.813015Z",
     "iopub.status.idle": "2021-04-21T20:23:43.913933Z",
     "shell.execute_reply": "2021-04-21T20:23:43.913130Z"
    }
   },
   "outputs": [
    {
     "data": {
      "image/svg+xml": [
       "<?xml version=\"1.0\" encoding=\"UTF-8\" standalone=\"no\"?><svg xmlns=\"http://www.w3.org/2000/svg\" xmlns:xlink=\"http://www.w3.org/1999/xlink\" contentScriptType=\"application/ecmascript\" contentStyleType=\"text/css\" height=\"365px\" preserveAspectRatio=\"none\" style=\"width:702px;height:365px;\" version=\"1.1\" viewBox=\"0 0 702 365\" width=\"702px\" zoomAndPan=\"magnify\"><defs><filter height=\"300%\" id=\"f1etan0ukkywfg\" width=\"300%\" x=\"-1\" y=\"-1\"><feGaussianBlur result=\"blurOut\" stdDeviation=\"2.0\"/><feColorMatrix in=\"blurOut\" result=\"blurOut2\" type=\"matrix\" values=\"0 0 0 0 0 0 0 0 0 0 0 0 0 0 0 0 0 0 .4 0\"/><feOffset dx=\"4.0\" dy=\"4.0\" in=\"blurOut2\" result=\"blurOut3\"/><feBlend in=\"SourceGraphic\" in2=\"blurOut3\" mode=\"normal\"/></filter></defs><g><!--MD5=[fbc87193dbaf4d95561dea2c320d4a47]\n",
       "cluster E1--><a href=\"psysml:800f45c9-cf5c-46ce-b3c3-487778cd6319\" target=\"_top\" title=\"psysml:800f45c9-cf5c-46ce-b3c3-487778cd6319\" xlink:actuate=\"onRequest\" xlink:href=\"psysml:800f45c9-cf5c-46ce-b3c3-487778cd6319\" xlink:show=\"new\" xlink:title=\"psysml:800f45c9-cf5c-46ce-b3c3-487778cd6319\" xlink:type=\"simple\"><polygon fill=\"#FFFFFF\" filter=\"url(#f1etan0ukkywfg)\" points=\"16,6,98,6,105,28.2969,680,28.2969,680,353,16,353,16,6\" style=\"stroke: #000000; stroke-width: 1.5;\"/><line style=\"stroke: #000000; stroke-width: 1.5;\" x1=\"16\" x2=\"105\" y1=\"28.2969\" y2=\"28.2969\"/><text fill=\"#000000\" font-family=\"sans-serif\" font-size=\"14\" font-weight=\"bold\" lengthAdjust=\"spacingAndGlyphs\" textLength=\"76\" x=\"20\" y=\"20.9951\">StateTest</text></a><!--MD5=[b4997ac47864f28c2f74865a473b2911]\n",
       "class E2--><a href=\"psysml:f1048496-f45f-4de3-be42-17169da36fba\" target=\"_top\" title=\"psysml:f1048496-f45f-4de3-be42-17169da36fba\" xlink:actuate=\"onRequest\" xlink:href=\"psysml:f1048496-f45f-4de3-be42-17169da36fba\" xlink:show=\"new\" xlink:title=\"psysml:f1048496-f45f-4de3-be42-17169da36fba\" xlink:type=\"simple\"><rect fill=\"#FEFECE\" filter=\"url(#f1etan0ukkywfg)\" height=\"58.7422\" id=\"E2\" style=\"stroke: #A80036; stroke-width: 1.5;\" width=\"121\" x=\"542.5\" y=\"91.5\"/><ellipse cx=\"557.5\" cy=\"110.4688\" fill=\"#A52A2A\" rx=\"11\" ry=\"11\" style=\"stroke: #A80036; stroke-width: 1.0;\"/><path d=\"M557.0938,106.2813 L557.0938,114.2656 L557.75,114.2656 Q559.1875,114.2656 559.7969,113.3594 Q560.4219,112.4375 560.4219,110.2656 Q560.4219,108.0938 559.7969,107.1875 Q559.1875,106.2813 557.75,106.2813 L557.0938,106.2813 Z M554.6406,104.0781 L557.2656,104.0781 Q560.2969,104.0781 561.625,105.5313 Q562.9688,106.9688 562.9688,110.2656 Q562.9688,113.5625 561.625,115.0156 Q560.2969,116.4688 557.2656,116.4688 L554.6406,116.4688 L554.6406,104.0781 Z \"/><text fill=\"#000000\" font-family=\"sans-serif\" font-size=\"12\" font-style=\"italic\" lengthAdjust=\"spacingAndGlyphs\" textLength=\"93\" x=\"569.5\" y=\"107.6387\">«attribute def»</text><text fill=\"#000000\" font-family=\"sans-serif\" font-size=\"12\" lengthAdjust=\"spacingAndGlyphs\" textLength=\"19\" x=\"606.5\" y=\"121.6074\">Sig</text><line style=\"stroke: #A80036; stroke-width: 1.5;\" x1=\"543.5\" x2=\"662.5\" y1=\"129.4375\" y2=\"129.4375\"/><text fill=\"#000000\" font-family=\"sans-serif\" font-size=\"11\" lengthAdjust=\"spacingAndGlyphs\" textLength=\"6\" x=\"548.5\" y=\"143.6479\">x</text></a><!--MD5=[09b614a08d8cba4a07c9adeb5e0fee81]\n",
       "class E3--><a href=\"psysml:546c6a0a-79ca-4224-b50a-77e407cae485\" target=\"_top\" title=\"psysml:546c6a0a-79ca-4224-b50a-77e407cae485\" xlink:actuate=\"onRequest\" xlink:href=\"psysml:546c6a0a-79ca-4224-b50a-77e407cae485\" xlink:show=\"new\" xlink:title=\"psysml:546c6a0a-79ca-4224-b50a-77e407cae485\" xlink:type=\"simple\"><rect fill=\"#FEFECE\" filter=\"url(#f1etan0ukkywfg)\" height=\"45.9375\" id=\"E3\" style=\"stroke: #A80036; stroke-width: 1.5;\" width=\"121\" x=\"386.5\" y=\"98\"/><ellipse cx=\"401.5\" cy=\"116.9688\" fill=\"#A52A2A\" rx=\"11\" ry=\"11\" style=\"stroke: #A80036; stroke-width: 1.0;\"/><path d=\"M401.0938,112.7813 L401.0938,120.7656 L401.75,120.7656 Q403.1875,120.7656 403.7969,119.8594 Q404.4219,118.9375 404.4219,116.7656 Q404.4219,114.5938 403.7969,113.6875 Q403.1875,112.7813 401.75,112.7813 L401.0938,112.7813 Z M398.6406,110.5781 L401.2656,110.5781 Q404.2969,110.5781 405.625,112.0313 Q406.9688,113.4688 406.9688,116.7656 Q406.9688,120.0625 405.625,121.5156 Q404.2969,122.9688 401.2656,122.9688 L398.6406,122.9688 L398.6406,110.5781 Z \"/><text fill=\"#000000\" font-family=\"sans-serif\" font-size=\"12\" font-style=\"italic\" lengthAdjust=\"spacingAndGlyphs\" textLength=\"93\" x=\"413.5\" y=\"114.1387\">«attribute def»</text><text fill=\"#000000\" font-family=\"sans-serif\" font-size=\"12\" lengthAdjust=\"spacingAndGlyphs\" textLength=\"22\" x=\"449\" y=\"128.1074\">Exit</text><line style=\"stroke: #A80036; stroke-width: 1.5;\" x1=\"387.5\" x2=\"506.5\" y1=\"135.9375\" y2=\"135.9375\"/></a><!--MD5=[ebbe1d658d1005bcc118a6aa81145e00]\n",
       "class E4--><a href=\"psysml:4710131f-7c31-45d9-a6fe-10a60fc8490a\" target=\"_top\" title=\"psysml:4710131f-7c31-45d9-a6fe-10a60fc8490a\" xlink:actuate=\"onRequest\" xlink:href=\"psysml:4710131f-7c31-45d9-a6fe-10a60fc8490a\" xlink:show=\"new\" xlink:title=\"psysml:4710131f-7c31-45d9-a6fe-10a60fc8490a\" xlink:type=\"simple\"><rect fill=\"#FEFECE\" filter=\"url(#f1etan0ukkywfg)\" height=\"45.9375\" id=\"E4\" rx=\"10\" ry=\"10\" style=\"stroke: #A80036; stroke-width: 1.5;\" width=\"68\" x=\"283\" y=\"98\"/><ellipse cx=\"298\" cy=\"116.9688\" fill=\"#32CD32\" rx=\"11\" ry=\"11\" style=\"stroke: #A80036; stroke-width: 1.0;\"/><path d=\"M297.7969,112.6406 L297.7969,116.2656 L298.7969,116.2656 Q300,116.2656 300.4844,115.8594 Q300.9688,115.4531 300.9688,114.4531 Q300.9688,113.4531 300.4844,113.0469 Q300,112.6406 298.7969,112.6406 L297.7969,112.6406 Z M295.3438,110.5781 L298.7031,110.5781 Q301.2656,110.5781 302.3906,111.5 Q303.5156,112.4063 303.5156,114.4531 Q303.5156,116.5 302.3906,117.4219 Q301.2656,118.3281 298.7031,118.3281 L297.7969,118.3281 L297.7969,122.9688 L295.3438,122.9688 L295.3438,110.5781 Z \"/><text fill=\"#000000\" font-family=\"sans-serif\" font-size=\"12\" font-style=\"italic\" lengthAdjust=\"spacingAndGlyphs\" textLength=\"40\" x=\"310\" y=\"114.1387\">«part»</text><text fill=\"#000000\" font-family=\"sans-serif\" font-size=\"12\" lengthAdjust=\"spacingAndGlyphs\" textLength=\"8\" x=\"326\" y=\"128.1074\">p</text><line style=\"stroke: #A80036; stroke-width: 1.5;\" x1=\"284\" x2=\"350\" y1=\"135.9375\" y2=\"135.9375\"/></a><!--MD5=[270fce915f116d4de14055a7c1d9a0f3]\n",
       "class E5--><a href=\"psysml:0b92cdb5-3694-4434-adff-e0b2149bd4e6\" target=\"_top\" title=\"psysml:0b92cdb5-3694-4434-adff-e0b2149bd4e6\" xlink:actuate=\"onRequest\" xlink:href=\"psysml:0b92cdb5-3694-4434-adff-e0b2149bd4e6\" xlink:show=\"new\" xlink:title=\"psysml:0b92cdb5-3694-4434-adff-e0b2149bd4e6\" xlink:type=\"simple\"><rect fill=\"#FEFECE\" filter=\"url(#f1etan0ukkywfg)\" height=\"45.9375\" id=\"E5\" rx=\"10\" ry=\"10\" style=\"stroke: #A80036; stroke-width: 1.5;\" width=\"81\" x=\"166.5\" y=\"98\"/><ellipse cx=\"181.5\" cy=\"116.9688\" fill=\"#FFA500\" rx=\"11\" ry=\"11\" style=\"stroke: #A80036; stroke-width: 1.0;\"/><path d=\"M177.375,118.8906 L177.375,111.0781 L179.8281,111.0781 L179.8281,119.5156 Q179.8281,120.4375 180.2969,120.9688 Q180.7813,121.5 181.6094,121.5 Q182.4531,121.5 182.9219,120.9688 Q183.3906,120.4375 183.3906,119.5156 L183.3906,111.0781 L185.8438,111.0781 L185.8438,118.8906 Q185.8438,121.4219 184.8438,122.5625 Q183.8438,123.7031 181.6094,123.7031 Q179.3906,123.7031 178.375,122.5625 Q177.375,121.4219 177.375,118.8906 Z \"/><text fill=\"#000000\" font-family=\"sans-serif\" font-size=\"12\" font-style=\"italic\" lengthAdjust=\"spacingAndGlyphs\" textLength=\"53\" x=\"193.5\" y=\"114.1387\">«action»</text><text fill=\"#000000\" font-family=\"sans-serif\" font-size=\"12\" lengthAdjust=\"spacingAndGlyphs\" textLength=\"20\" x=\"210\" y=\"128.1074\">act</text><line style=\"stroke: #A80036; stroke-width: 1.5;\" x1=\"167.5\" x2=\"246.5\" y1=\"135.9375\" y2=\"135.9375\"/></a><!--MD5=[60a26617385b1d2d0262a64233df1f8d]\n",
       "class E6--><a href=\"psysml:f2a66a23-1197-47ed-b1bd-74e1ad61d6fd\" target=\"_top\" title=\"psysml:f2a66a23-1197-47ed-b1bd-74e1ad61d6fd\" xlink:actuate=\"onRequest\" xlink:href=\"psysml:f2a66a23-1197-47ed-b1bd-74e1ad61d6fd\" xlink:show=\"new\" xlink:title=\"psysml:f2a66a23-1197-47ed-b1bd-74e1ad61d6fd\" xlink:type=\"simple\"><rect fill=\"#FEFECE\" filter=\"url(#f1etan0ukkywfg)\" height=\"160.375\" id=\"E6\" style=\"stroke: #A80036; stroke-width: 1.5;\" width=\"99\" x=\"32.5\" y=\"41\"/><ellipse cx=\"47.5\" cy=\"59.9688\" fill=\"#A52A2A\" rx=\"11\" ry=\"11\" style=\"stroke: #A80036; stroke-width: 1.0;\"/><path d=\"M47.0938,55.7813 L47.0938,63.7656 L47.75,63.7656 Q49.1875,63.7656 49.7969,62.8594 Q50.4219,61.9375 50.4219,59.7656 Q50.4219,57.5938 49.7969,56.6875 Q49.1875,55.7813 47.75,55.7813 L47.0938,55.7813 Z M44.6406,53.5781 L47.2656,53.5781 Q50.2969,53.5781 51.625,55.0313 Q52.9688,56.4688 52.9688,59.7656 Q52.9688,63.0625 51.625,64.5156 Q50.2969,65.9688 47.2656,65.9688 L44.6406,65.9688 L44.6406,53.5781 Z \"/><text fill=\"#000000\" font-family=\"sans-serif\" font-size=\"12\" font-style=\"italic\" lengthAdjust=\"spacingAndGlyphs\" textLength=\"71\" x=\"59.5\" y=\"57.1387\">«state def»</text><text fill=\"#000000\" font-family=\"sans-serif\" font-size=\"12\" lengthAdjust=\"spacingAndGlyphs\" textLength=\"8\" x=\"91\" y=\"71.1074\">S</text><line style=\"stroke: #A80036; stroke-width: 1.5;\" x1=\"33.5\" x2=\"130.5\" y1=\"78.9375\" y2=\"78.9375\"/><text fill=\"#000000\" font-family=\"sans-serif\" font-size=\"11\" lengthAdjust=\"spacingAndGlyphs\" textLength=\"17\" x=\"38.5\" y=\"109.9526\">act</text><text fill=\"#000000\" font-family=\"sans-serif\" font-size=\"11\" lengthAdjust=\"spacingAndGlyphs\" textLength=\"7\" x=\"38.5\" y=\"122.7573\">A</text><text fill=\"#000000\" font-family=\"sans-serif\" font-size=\"11\" lengthAdjust=\"spacingAndGlyphs\" textLength=\"8\" x=\"38.5\" y=\"135.562\">B</text><line style=\"stroke: #A80036; stroke-width: 1.0;\" x1=\"33.5\" x2=\"38.5\" y1=\"93.3398\" y2=\"93.3398\"/><text fill=\"#000000\" font-family=\"sans-serif\" font-size=\"11\" lengthAdjust=\"spacingAndGlyphs\" textLength=\"87\" x=\"38.5\" y=\"96.6479\">performActions</text><line style=\"stroke: #A80036; stroke-width: 1.0;\" x1=\"125.5\" x2=\"130.5\" y1=\"93.3398\" y2=\"93.3398\"/><text fill=\"#000000\" font-family=\"sans-serif\" font-size=\"11\" lengthAdjust=\"spacingAndGlyphs\" textLength=\"15\" x=\"38.5\" y=\"165.1714\">S1</text><line style=\"stroke: #A80036; stroke-width: 1.0;\" x1=\"33.5\" x2=\"64\" y1=\"148.5586\" y2=\"148.5586\"/><text fill=\"#000000\" font-family=\"sans-serif\" font-size=\"11\" lengthAdjust=\"spacingAndGlyphs\" textLength=\"36\" x=\"64\" y=\"151.8667\">states</text><line style=\"stroke: #A80036; stroke-width: 1.0;\" x1=\"100\" x2=\"130.5\" y1=\"148.5586\" y2=\"148.5586\"/><text fill=\"#000000\" font-family=\"sans-serif\" font-size=\"11\" lengthAdjust=\"spacingAndGlyphs\" textLength=\"7\" x=\"38.5\" y=\"194.7808\">T</text><line style=\"stroke: #A80036; stroke-width: 1.0;\" x1=\"33.5\" x2=\"51.5\" y1=\"178.168\" y2=\"178.168\"/><text fill=\"#000000\" font-family=\"sans-serif\" font-size=\"11\" lengthAdjust=\"spacingAndGlyphs\" textLength=\"61\" x=\"51.5\" y=\"181.4761\">transitions</text><line style=\"stroke: #A80036; stroke-width: 1.0;\" x1=\"112.5\" x2=\"130.5\" y1=\"178.168\" y2=\"178.168\"/></a><!--MD5=[1dd1bfd58a279cf63c5f349dbc8fc6a1]\n",
       "class E11--><a href=\"psysml:f6369ddf-93b2-4791-a9ee-7d090a7e6258\" target=\"_top\" title=\"psysml:f6369ddf-93b2-4791-a9ee-7d090a7e6258\" xlink:actuate=\"onRequest\" xlink:href=\"psysml:f6369ddf-93b2-4791-a9ee-7d090a7e6258\" xlink:show=\"new\" xlink:title=\"psysml:f6369ddf-93b2-4791-a9ee-7d090a7e6258\" xlink:type=\"simple\"><rect fill=\"#FEFECE\" filter=\"url(#f1etan0ukkywfg)\" height=\"75.5469\" id=\"E11\" rx=\"10\" ry=\"10\" style=\"stroke: #A80036; stroke-width: 1.5;\" width=\"77\" x=\"43.5\" y=\"261\"/><ellipse cx=\"59.4\" cy=\"279.9688\" fill=\"#FFA500\" rx=\"11\" ry=\"11\" style=\"stroke: #A80036; stroke-width: 1.0;\"/><path d=\"M55.275,281.8906 L55.275,274.0781 L57.7281,274.0781 L57.7281,282.5156 Q57.7281,283.4375 58.1969,283.9688 Q58.6813,284.5 59.5094,284.5 Q60.3531,284.5 60.8219,283.9688 Q61.2906,283.4375 61.2906,282.5156 L61.2906,274.0781 L63.7438,274.0781 L63.7438,281.8906 Q63.7438,284.4219 62.7438,285.5625 Q61.7438,286.7031 59.5094,286.7031 Q57.2906,286.7031 56.275,285.5625 Q55.275,284.4219 55.275,281.8906 Z \"/><text fill=\"#000000\" font-family=\"sans-serif\" font-size=\"12\" font-style=\"italic\" lengthAdjust=\"spacingAndGlyphs\" textLength=\"47\" x=\"71.6\" y=\"277.1387\">«state»</text><text fill=\"#000000\" font-family=\"sans-serif\" font-size=\"12\" lengthAdjust=\"spacingAndGlyphs\" textLength=\"16\" x=\"87.1\" y=\"291.1074\">S2</text><line style=\"stroke: #A80036; stroke-width: 1.5;\" x1=\"44.5\" x2=\"119.5\" y1=\"298.9375\" y2=\"298.9375\"/><text fill=\"#000000\" font-family=\"sans-serif\" font-size=\"11\" lengthAdjust=\"spacingAndGlyphs\" textLength=\"48\" x=\"49.5\" y=\"329.9526\">doAction</text><line style=\"stroke: #A80036; stroke-width: 1.0;\" x1=\"44.5\" x2=\"47.5\" y1=\"313.3398\" y2=\"313.3398\"/><text fill=\"#000000\" font-family=\"sans-serif\" font-size=\"11\" lengthAdjust=\"spacingAndGlyphs\" textLength=\"69\" x=\"47.5\" y=\"316.6479\">sendActions</text><line style=\"stroke: #A80036; stroke-width: 1.0;\" x1=\"116.5\" x2=\"119.5\" y1=\"313.3398\" y2=\"313.3398\"/></a><!--MD5=[1f5f03483f7de0d5b3680a7f6650997f]\n",
       "reverse link E6 to E11--><a href=\"psysml:247e0169-6466-401b-83f0-032a7b21c539\" target=\"_top\" title=\"psysml:247e0169-6466-401b-83f0-032a7b21c539\" xlink:actuate=\"onRequest\" xlink:href=\"psysml:247e0169-6466-401b-83f0-032a7b21c539\" xlink:show=\"new\" xlink:title=\"psysml:247e0169-6466-401b-83f0-032a7b21c539\" xlink:type=\"simple\"><path d=\"M82,214.46 C82,230.92 82,247.18 82,260.92 \" fill=\"none\" id=\"E6&lt;-E11\" style=\"stroke: #A80036; stroke-width: 1.0;\"/><polygon fill=\"#A80036\" points=\"82,201.25,78,207.25,82,213.25,86,207.25,82,201.25\" style=\"stroke: #A80036; stroke-width: 1.0;\"/></a><!--MD5=[5c55736f13f1e7c7f837640619d9173d]\n",
       "@startuml\r\n",
       " \r\n",
       "package \"StateTest\" as E1  [[psysml:800f45c9-cf5c-46ce-b3c3-487778cd6319 ]]  {\r\n",
       "comp def \"Sig\" as E2  <<(D,brown)attribute def>> [[psysml:f1048496-f45f-4de3-be42-17169da36fba ]] {\r\n",
       "x\r\n",
       "}\r\n",
       "comp def \"Exit\" as E3  <<(D,brown)attribute def>> [[psysml:546c6a0a-79ca-4224-b50a-77e407cae485 ]] {\r\n",
       "}\r\n",
       "comp usage \"p\" as E4  << (P,limegreen) part>> [[psysml:4710131f-7c31-45d9-a6fe-10a60fc8490a ]] {\r\n",
       "}\r\n",
       "comp usage \"act\" as E5  <<(U,orange)action>> [[psysml:0b92cdb5-3694-4434-adff-e0b2149bd4e6 ]] {\r\n",
       "}\r\n",
       "comp def \"S\" as E6  <<(D,brown)state def>> [[psysml:f2a66a23-1197-47ed-b1bd-74e1ad61d6fd ]] {\r\n",
       "- - performActions - -\r\n",
       "act\r\n",
       "A\r\n",
       "B\r\n",
       "- - states - -\r\n",
       "S1\r\n",
       "- - transitions - -\r\n",
       "T\r\n",
       "}\r\n",
       "comp usage \"S2\" as E11  <<(U,orange)state>> [[psysml:f6369ddf-93b2-4791-a9ee-7d090a7e6258 ]] {\r\n",
       "- - sendActions - -\r\n",
       "doAction\r\n",
       "}\r\n",
       "E6 *- - E11 [[psysml:247e0169-6466-401b-83f0-032a7b21c539 ]] \r\n",
       "}\r\n",
       "@enduml\r\n",
       "\n",
       "PlantUML version 1.2020.13(Sat Jun 13 12:26:38 UTC 2020)\n",
       "(EPL source distribution)\n",
       "Java Runtime: OpenJDK Runtime Environment\n",
       "JVM: OpenJDK 64-Bit Server VM\n",
       "Default Encoding: UTF-8\n",
       "Language: en\n",
       "Country: null\n",
       "--></g></svg>"
      ]
     },
     "execution_count": 31,
     "metadata": {},
     "output_type": "execute_result"
    }
   ],
   "source": [
    "%viz --style=\"PLANTUML\" --view=\"Tree\" \"StateTest\""
   ]
  },
  {
   "cell_type": "code",
   "execution_count": 32,
   "id": "c0a502f4",
   "metadata": {
    "execution": {
     "iopub.execute_input": "2021-04-21T20:23:43.966426Z",
     "iopub.status.busy": "2021-04-21T20:23:43.965730Z",
     "iopub.status.idle": "2021-04-21T20:23:43.999051Z",
     "shell.execute_reply": "2021-04-21T20:23:43.997835Z"
    }
   },
   "outputs": [
    {
     "data": {
      "image/svg+xml": [
       "<?xml version=\"1.0\" encoding=\"UTF-8\" standalone=\"no\"?><svg xmlns=\"http://www.w3.org/2000/svg\" xmlns:xlink=\"http://www.w3.org/1999/xlink\" contentScriptType=\"application/ecmascript\" contentStyleType=\"text/css\" height=\"491px\" preserveAspectRatio=\"none\" style=\"width:353px;height:491px;\" version=\"1.1\" viewBox=\"0 0 353 491\" width=\"353px\" zoomAndPan=\"magnify\"><defs><filter height=\"300%\" id=\"fioqnjfcmmiom\" width=\"300%\" x=\"-1\" y=\"-1\"><feGaussianBlur result=\"blurOut\" stdDeviation=\"2.0\"/><feColorMatrix in=\"blurOut\" result=\"blurOut2\" type=\"matrix\" values=\"0 0 0 0 0 0 0 0 0 0 0 0 0 0 0 0 0 0 .4 0\"/><feOffset dx=\"4.0\" dy=\"4.0\" in=\"blurOut2\" result=\"blurOut3\"/><feBlend in=\"SourceGraphic\" in2=\"blurOut3\" mode=\"normal\"/></filter></defs><g><!--MD5=[fbc87193dbaf4d95561dea2c320d4a47]\n",
       "cluster E1--><a href=\"psysml:f2a66a23-1197-47ed-b1bd-74e1ad61d6fd\" target=\"_top\" title=\"psysml:f2a66a23-1197-47ed-b1bd-74e1ad61d6fd\" xlink:actuate=\"onRequest\" xlink:href=\"psysml:f2a66a23-1197-47ed-b1bd-74e1ad61d6fd\" xlink:show=\"new\" xlink:title=\"psysml:f2a66a23-1197-47ed-b1bd-74e1ad61d6fd\" xlink:type=\"simple\"><rect fill=\"#FFFFFF\" filter=\"url(#fioqnjfcmmiom)\" height=\"465\" id=\"E1\" style=\"stroke: #A80036; stroke-width: 1.5;\" width=\"327\" x=\"7\" y=\"7\"/><rect fill=\"#FEFECE\" height=\"37.9375\" style=\"stroke: #A80036; stroke-width: 1.5;\" width=\"327\" x=\"7\" y=\"7\"/><text fill=\"#000000\" font-family=\"sans-serif\" font-size=\"12\" font-style=\"italic\" lengthAdjust=\"spacingAndGlyphs\" textLength=\"71\" x=\"135\" y=\"23.1387\">«state def»</text><text fill=\"#000000\" font-family=\"sans-serif\" font-size=\"12\" lengthAdjust=\"spacingAndGlyphs\" textLength=\"8\" x=\"166.5\" y=\"37.1074\">S</text><line style=\"stroke: #A80036; stroke-width: 1.0;\" x1=\"7\" x2=\"334\" y1=\"90.8438\" y2=\"90.8438\"/><text fill=\"#000000\" font-family=\"sans-serif\" font-size=\"12\" font-weight=\"bold\" lengthAdjust=\"spacingAndGlyphs\" textLength=\"38\" x=\"12\" y=\"58.0762\">entry</text><text fill=\"#000000\" font-family=\"sans-serif\" font-size=\"12\" lengthAdjust=\"spacingAndGlyphs\" textLength=\"16\" x=\"50\" y=\"58.0762\">/ A</text><text fill=\"#000000\" font-family=\"sans-serif\" font-size=\"12\" font-weight=\"bold\" lengthAdjust=\"spacingAndGlyphs\" textLength=\"18\" x=\"12\" y=\"72.0449\">do</text><text fill=\"#000000\" font-family=\"sans-serif\" font-size=\"12\" lengthAdjust=\"spacingAndGlyphs\" textLength=\"16\" x=\"30\" y=\"72.0449\">/ B</text><text fill=\"#000000\" font-family=\"sans-serif\" font-size=\"12\" font-weight=\"bold\" lengthAdjust=\"spacingAndGlyphs\" textLength=\"26\" x=\"12\" y=\"86.0137\">exit</text><text fill=\"#000000\" font-family=\"sans-serif\" font-size=\"12\" lengthAdjust=\"spacingAndGlyphs\" textLength=\"28\" x=\"38\" y=\"86.0137\">/ act</text></a><ellipse cx=\"119\" cy=\"115\" fill=\"#000000\" filter=\"url(#fioqnjfcmmiom)\" rx=\"10\" ry=\"10\" style=\"stroke: none; stroke-width: 1.0;\"/><ellipse cx=\"144\" cy=\"446\" fill=\"none\" filter=\"url(#fioqnjfcmmiom)\" rx=\"10\" ry=\"10\" style=\"stroke: #000000; stroke-width: 1.0;\"/><ellipse cx=\"144.5\" cy=\"446.5\" fill=\"#000000\" rx=\"6\" ry=\"6\" style=\"stroke: none; stroke-width: 1.0;\"/><g id=\"E1.E2\"><a href=\"psysml:0ffea2c5-2698-4589-991c-94f7ac5b0395\" target=\"_top\" title=\"psysml:0ffea2c5-2698-4589-991c-94f7ac5b0395\" xlink:actuate=\"onRequest\" xlink:href=\"psysml:0ffea2c5-2698-4589-991c-94f7ac5b0395\" xlink:show=\"new\" xlink:title=\"psysml:0ffea2c5-2698-4589-991c-94f7ac5b0395\" xlink:type=\"simple\"><rect fill=\"#FEFECE\" filter=\"url(#fioqnjfcmmiom)\" height=\"40\" id=\"E2\" rx=\"10\" ry=\"10\" style=\"stroke: #A80036; stroke-width: 1.5;\" width=\"53\" x=\"92.5\" y=\"186\"/><ellipse cx=\"109.75\" cy=\"202\" fill=\"#B6DBBB\" rx=\"11\" ry=\"11\" style=\"stroke: #A80036; stroke-width: 1.0;\"/><path d=\"M105.625,203.9219 L105.625,196.1094 L108.0781,196.1094 L108.0781,204.5469 Q108.0781,205.4688 108.5469,206 Q109.0313,206.5313 109.8594,206.5313 Q110.7031,206.5313 111.1719,206 Q111.6406,205.4688 111.6406,204.5469 L111.6406,196.1094 L114.0938,196.1094 L114.0938,203.9219 Q114.0938,206.4531 113.0938,207.5938 Q112.0938,208.7344 109.8594,208.7344 Q107.6406,208.7344 106.625,207.5938 Q105.625,206.4531 105.625,203.9219 Z \"/><text fill=\"#000000\" font-family=\"sans-serif\" font-size=\"12\" lengthAdjust=\"spacingAndGlyphs\" textLength=\"16\" x=\"124.25\" y=\"206.1543\">S1</text></a></g><g id=\"E1.E3\"><a href=\"psysml:f6369ddf-93b2-4791-a9ee-7d090a7e6258\" target=\"_top\" title=\"psysml:f6369ddf-93b2-4791-a9ee-7d090a7e6258\" xlink:actuate=\"onRequest\" xlink:href=\"psysml:f6369ddf-93b2-4791-a9ee-7d090a7e6258\" xlink:show=\"new\" xlink:title=\"psysml:f6369ddf-93b2-4791-a9ee-7d090a7e6258\" xlink:type=\"simple\"><rect fill=\"#FEFECE\" filter=\"url(#fioqnjfcmmiom)\" height=\"55.9688\" id=\"E3\" rx=\"10\" ry=\"10\" style=\"stroke: #A80036; stroke-width: 1.5;\" width=\"169\" x=\"59.5\" y=\"303\"/><ellipse cx=\"131.75\" cy=\"319\" fill=\"#B6DBBB\" rx=\"11\" ry=\"11\" style=\"stroke: #A80036; stroke-width: 1.0;\"/><path d=\"M127.625,320.9219 L127.625,313.1094 L130.0781,313.1094 L130.0781,321.5469 Q130.0781,322.4688 130.5469,323 Q131.0313,323.5313 131.8594,323.5313 Q132.7031,323.5313 133.1719,323 Q133.6406,322.4688 133.6406,321.5469 L133.6406,313.1094 L136.0938,313.1094 L136.0938,320.9219 Q136.0938,323.4531 135.0938,324.5938 Q134.0938,325.7344 131.8594,325.7344 Q129.6406,325.7344 128.625,324.5938 Q127.625,323.4531 127.625,320.9219 Z \"/><text fill=\"#000000\" font-family=\"sans-serif\" font-size=\"12\" lengthAdjust=\"spacingAndGlyphs\" textLength=\"16\" x=\"152.25\" y=\"323.1543\">S2</text><line style=\"stroke: #A80036; stroke-width: 1.0;\" x1=\"59.5\" x2=\"228.5\" y1=\"335\" y2=\"335\"/><text fill=\"#000000\" font-family=\"sans-serif\" font-size=\"12\" font-weight=\"bold\" lengthAdjust=\"spacingAndGlyphs\" textLength=\"18\" x=\"64.5\" y=\"348.1387\">do</text><text fill=\"#000000\" font-family=\"sans-serif\" font-size=\"12\" lengthAdjust=\"spacingAndGlyphs\" textLength=\"141\" x=\"82.5\" y=\"348.1387\">/  send Sig(T::s::x) to p</text></a></g><!--MD5=[cff944eb183b832d446717a4e202d613]\n",
       "link *start*E1 to E2--><a href=\"psysml:3d6f6111-a5f0-4f07-bf0a-543b5052b3c3\" target=\"_top\" title=\"psysml:3d6f6111-a5f0-4f07-bf0a-543b5052b3c3\" xlink:actuate=\"onRequest\" xlink:href=\"psysml:3d6f6111-a5f0-4f07-bf0a-543b5052b3c3\" xlink:show=\"new\" xlink:title=\"psysml:3d6f6111-a5f0-4f07-bf0a-543b5052b3c3\" xlink:type=\"simple\"><path d=\"M119,125.19 C119,138.18 119,162.38 119,180.73 \" fill=\"none\" id=\"*start*E1-&gt;E2\" style=\"stroke: #A80036; stroke-width: 1.0;\"/><polygon fill=\"#A80036\" points=\"119,185.74,123,176.74,119,180.74,115,176.74,119,185.74\" style=\"stroke: #A80036; stroke-width: 1.0;\"/></a><!--MD5=[9ee7afa76ca8c509b3d216624c3a9893]\n",
       "link E3 to *end*E1--><a href=\"psysml:374875bf-0004-40f7-bedc-1374d527cde5\" target=\"_top\" title=\"psysml:374875bf-0004-40f7-bedc-1374d527cde5\" xlink:actuate=\"onRequest\" xlink:href=\"psysml:374875bf-0004-40f7-bedc-1374d527cde5\" xlink:show=\"new\" xlink:title=\"psysml:374875bf-0004-40f7-bedc-1374d527cde5\" xlink:type=\"simple\"><path d=\"M144,359.07 C144,381.55 144,412.67 144,430.63 \" fill=\"none\" id=\"E3-&gt;*end*E1\" style=\"stroke: #A80036; stroke-width: 1.0;\"/><polygon fill=\"#A80036\" points=\"144,435.76,148,426.76,144,430.76,140,426.76,144,435.76\" style=\"stroke: #A80036; stroke-width: 1.0;\"/><text fill=\"#000000\" font-family=\"sans-serif\" font-size=\"13\" lengthAdjust=\"spacingAndGlyphs\" textLength=\"23\" x=\"145\" y=\"402.0669\">Exit</text></a><!--MD5=[2720a5a1f2c3fca2055b230370638851]\n",
       "link E2 to E3--><a href=\"psysml:69f1494c-077d-4519-8343-87cce73be713\" target=\"_top\" title=\"psysml:69f1494c-077d-4519-8343-87cce73be713\" xlink:actuate=\"onRequest\" xlink:href=\"psysml:69f1494c-077d-4519-8343-87cce73be713\" xlink:show=\"new\" xlink:title=\"psysml:69f1494c-077d-4519-8343-87cce73be713\" xlink:type=\"simple\"><path d=\"M92.29,219.11 C69.77,231.17 42.97,251.02 55,273 C60.78,283.56 69.44,292.46 79.13,299.84 \" fill=\"none\" id=\"E2-&gt;E3\" style=\"stroke: #A80036; stroke-width: 1.0;\"/><polygon fill=\"#A80036\" points=\"83.35,302.92,78.4276,294.3894,79.3076,299.9774,73.7196,300.8574,83.35,302.92\" style=\"stroke: #A80036; stroke-width: 1.0;\"/><text fill=\"#000000\" font-family=\"sans-serif\" font-size=\"13\" lengthAdjust=\"spacingAndGlyphs\" textLength=\"81\" x=\"56\" y=\"269.0669\">Sig /action D</text></a><!--MD5=[05d275557350bfb9b23a4ef7222b4c39]\n",
       "link E3 to E2--><a href=\"psysml:f8d53726-bfe5-4353-91f3-ae2ef06d9a38\" target=\"_top\" title=\"psysml:f8d53726-bfe5-4353-91f3-ae2ef06d9a38\" xlink:actuate=\"onRequest\" xlink:href=\"psysml:f8d53726-bfe5-4353-91f3-ae2ef06d9a38\" xlink:show=\"new\" xlink:title=\"psysml:f8d53726-bfe5-4353-91f3-ae2ef06d9a38\" xlink:type=\"simple\"><path d=\"M145.9,302.94 C146.24,288.78 145.62,271.26 142,256 C139.99,247.52 136.41,238.75 132.68,231.02 \" fill=\"none\" id=\"E3-&gt;E2\" style=\"stroke: #A80036; stroke-width: 1.0;\"/><polygon fill=\"#A80036\" points=\"130.34,226.35,130.7746,236.1893,132.5703,230.825,137.9346,232.6207,130.34,226.35\" style=\"stroke: #A80036; stroke-width: 1.0;\"/><text fill=\"#000000\" font-family=\"sans-serif\" font-size=\"13\" lengthAdjust=\"spacingAndGlyphs\" textLength=\"135\" x=\"145\" y=\"269.0669\">Sig [true]/send s to p</text></a><!--MD5=[dda94759a3f82dd65b3acd053060e552]\n",
       "@startuml\r\n",
       " \r\n",
       "rec def \"S\" as E1  <<(D,brown)state def>> [[psysml:f2a66a23-1197-47ed-b1bd-74e1ad61d6fd ]] {\r\n",
       "rec usage \"S1\" as E2 [[psysml:0ffea2c5-2698-4589-991c-94f7ac5b0395 ]] {\r\n",
       "}\r\n",
       "\r\n",
       "rec usage \"S2\" as E3 [[psysml:f6369ddf-93b2-4791-a9ee-7d090a7e6258 ]] {\r\n",
       "desc \"S2\" as E3  : **do**/  send Sig(T::s::x) to p\r\n",
       "}\r\n",
       "\r\n",
       "desc \"S\" as E1  : **entry**/ A\r\n",
       "desc \"S\" as E1  : **do**/ B\r\n",
       "desc \"S\" as E1  : **exit**/ act \r\n",
       "[*] - -> E2 [[psysml:3d6f6111-a5f0-4f07-bf0a-543b5052b3c3 ]] \r\n",
       "E3  - -> [*] [[psysml:374875bf-0004-40f7-bedc-1374d527cde5 ]] : Exit \r\n",
       "}\r\n",
       "\r\n",
       "E2  - -> E3 [[psysml:69f1494c-077d-4519-8343-87cce73be713 ]] : Sig /action D\r\n",
       "E3  - -> E2 [[psysml:f8d53726-bfe5-4353-91f3-ae2ef06d9a38 ]] : Sig [true]/send s to p\r\n",
       "@enduml\r\n",
       "\n",
       "PlantUML version 1.2020.13(Sat Jun 13 12:26:38 UTC 2020)\n",
       "(EPL source distribution)\n",
       "Java Runtime: OpenJDK Runtime Environment\n",
       "JVM: OpenJDK 64-Bit Server VM\n",
       "Default Encoding: UTF-8\n",
       "Language: en\n",
       "Country: null\n",
       "--></g></svg>"
      ]
     },
     "execution_count": 32,
     "metadata": {},
     "output_type": "execute_result"
    }
   ],
   "source": [
    "%viz --style=\"PLANTUML\" --view=\"State\" \"StateTest\""
   ]
  },
  {
   "cell_type": "code",
   "execution_count": 33,
   "id": "882a5b6d",
   "metadata": {
    "execution": {
     "iopub.execute_input": "2021-04-21T20:23:44.049193Z",
     "iopub.status.busy": "2021-04-21T20:23:44.048807Z",
     "iopub.status.idle": "2021-04-21T20:23:44.116156Z",
     "shell.execute_reply": "2021-04-21T20:23:44.114733Z"
    }
   },
   "outputs": [
    {
     "data": {
      "image/svg+xml": [
       "<?xml version=\"1.0\" encoding=\"UTF-8\" standalone=\"no\"?><svg xmlns=\"http://www.w3.org/2000/svg\" xmlns:xlink=\"http://www.w3.org/1999/xlink\" contentScriptType=\"application/ecmascript\" contentStyleType=\"text/css\" height=\"429px\" preserveAspectRatio=\"none\" style=\"width:914px;height:429px;\" version=\"1.1\" viewBox=\"0 0 914 429\" width=\"914px\" zoomAndPan=\"magnify\"><defs><filter height=\"300%\" id=\"fdanf6x2yuziv\" width=\"300%\" x=\"-1\" y=\"-1\"><feGaussianBlur result=\"blurOut\" stdDeviation=\"2.0\"/><feColorMatrix in=\"blurOut\" result=\"blurOut2\" type=\"matrix\" values=\"0 0 0 0 0 0 0 0 0 0 0 0 0 0 0 0 0 0 .4 0\"/><feOffset dx=\"4.0\" dy=\"4.0\" in=\"blurOut2\" result=\"blurOut3\"/><feBlend in=\"SourceGraphic\" in2=\"blurOut3\" mode=\"normal\"/></filter></defs><g><!--MD5=[fbc87193dbaf4d95561dea2c320d4a47]\n",
       "cluster E1--><a href=\"psysml:800f45c9-cf5c-46ce-b3c3-487778cd6319\" target=\"_top\" title=\"psysml:800f45c9-cf5c-46ce-b3c3-487778cd6319\" xlink:actuate=\"onRequest\" xlink:href=\"psysml:800f45c9-cf5c-46ce-b3c3-487778cd6319\" xlink:show=\"new\" xlink:title=\"psysml:800f45c9-cf5c-46ce-b3c3-487778cd6319\" xlink:type=\"simple\"><polygon fill=\"#FFFFFF\" filter=\"url(#fdanf6x2yuziv)\" points=\"16,6,98,6,105,28.2969,892,28.2969,892,417.5,16,417.5,16,6\" style=\"stroke: #000000; stroke-width: 1.5;\"/><line style=\"stroke: #000000; stroke-width: 1.5;\" x1=\"16\" x2=\"105\" y1=\"28.2969\" y2=\"28.2969\"/><text fill=\"#000000\" font-family=\"sans-serif\" font-size=\"14\" font-weight=\"bold\" lengthAdjust=\"spacingAndGlyphs\" textLength=\"76\" x=\"20\" y=\"20.9951\">StateTest</text></a><!--MD5=[14e3b0961a2654348d326746436168a1]\n",
       "cluster E6--><a href=\"psysml:f2a66a23-1197-47ed-b1bd-74e1ad61d6fd\" target=\"_top\" title=\"psysml:f2a66a23-1197-47ed-b1bd-74e1ad61d6fd\" xlink:actuate=\"onRequest\" xlink:href=\"psysml:f2a66a23-1197-47ed-b1bd-74e1ad61d6fd\" xlink:show=\"new\" xlink:title=\"psysml:f2a66a23-1197-47ed-b1bd-74e1ad61d6fd\" xlink:type=\"simple\"><rect fill=\"#FFFFFF\" filter=\"url(#fdanf6x2yuziv)\" height=\"344.5\" id=\"E6\" style=\"stroke: #A80036; stroke-width: 1.5;\" width=\"327\" x=\"541\" y=\"49\"/><rect fill=\"#FEFECE\" height=\"37.9375\" style=\"stroke: #A80036; stroke-width: 1.5;\" width=\"327\" x=\"541\" y=\"49\"/><text fill=\"#000000\" font-family=\"sans-serif\" font-size=\"12\" font-style=\"italic\" lengthAdjust=\"spacingAndGlyphs\" textLength=\"71\" x=\"669\" y=\"65.1387\">«state def»</text><text fill=\"#000000\" font-family=\"sans-serif\" font-size=\"12\" lengthAdjust=\"spacingAndGlyphs\" textLength=\"8\" x=\"700.5\" y=\"79.1074\">S</text><line style=\"stroke: #A80036; stroke-width: 1.0;\" x1=\"541\" x2=\"868\" y1=\"132.8438\" y2=\"132.8438\"/><text fill=\"#000000\" font-family=\"sans-serif\" font-size=\"12\" font-weight=\"bold\" lengthAdjust=\"spacingAndGlyphs\" textLength=\"38\" x=\"546\" y=\"100.0762\">entry</text><text fill=\"#000000\" font-family=\"sans-serif\" font-size=\"12\" lengthAdjust=\"spacingAndGlyphs\" textLength=\"16\" x=\"584\" y=\"100.0762\">/ A</text><text fill=\"#000000\" font-family=\"sans-serif\" font-size=\"12\" font-weight=\"bold\" lengthAdjust=\"spacingAndGlyphs\" textLength=\"18\" x=\"546\" y=\"114.0449\">do</text><text fill=\"#000000\" font-family=\"sans-serif\" font-size=\"12\" lengthAdjust=\"spacingAndGlyphs\" textLength=\"16\" x=\"564\" y=\"114.0449\">/ B</text><text fill=\"#000000\" font-family=\"sans-serif\" font-size=\"12\" font-weight=\"bold\" lengthAdjust=\"spacingAndGlyphs\" textLength=\"26\" x=\"546\" y=\"128.0137\">exit</text><text fill=\"#000000\" font-family=\"sans-serif\" font-size=\"12\" lengthAdjust=\"spacingAndGlyphs\" textLength=\"28\" x=\"572\" y=\"128.0137\">/ act</text></a><g id=\"E1.E2\"><a href=\"psysml:f1048496-f45f-4de3-be42-17169da36fba\" target=\"_top\" title=\"psysml:f1048496-f45f-4de3-be42-17169da36fba\" xlink:actuate=\"onRequest\" xlink:href=\"psysml:f1048496-f45f-4de3-be42-17169da36fba\" xlink:show=\"new\" xlink:title=\"psysml:f1048496-f45f-4de3-be42-17169da36fba\" xlink:type=\"simple\"><rect fill=\"#FEFECE\" filter=\"url(#fdanf6x2yuziv)\" height=\"42.9375\" id=\"E2\" style=\"stroke: #A80036; stroke-width: 1.5;\" width=\"126\" x=\"399\" y=\"135.5\"/><ellipse cx=\"416.25\" cy=\"154.4688\" fill=\"#A52A2A\" rx=\"11\" ry=\"11\" style=\"stroke: #A80036; stroke-width: 1.0;\"/><path d=\"M415.8438,150.2813 L415.8438,158.2656 L416.5,158.2656 Q417.9375,158.2656 418.5469,157.3594 Q419.1719,156.4375 419.1719,154.2656 Q419.1719,152.0938 418.5469,151.1875 Q417.9375,150.2813 416.5,150.2813 L415.8438,150.2813 Z M413.3906,148.0781 L416.0156,148.0781 Q419.0469,148.0781 420.375,149.5313 Q421.7188,150.9688 421.7188,154.2656 Q421.7188,157.5625 420.375,159.0156 Q419.0469,160.4688 416.0156,160.4688 L413.3906,160.4688 L413.3906,148.0781 Z \"/><text fill=\"#000000\" font-family=\"sans-serif\" font-size=\"12\" font-style=\"italic\" lengthAdjust=\"spacingAndGlyphs\" textLength=\"93\" x=\"428.75\" y=\"151.6387\">«attribute def»</text><text fill=\"#000000\" font-family=\"sans-serif\" font-size=\"12\" lengthAdjust=\"spacingAndGlyphs\" textLength=\"19\" x=\"465.75\" y=\"165.6074\">Sig</text></a></g><g id=\"E1.E3\"><a href=\"psysml:546c6a0a-79ca-4224-b50a-77e407cae485\" target=\"_top\" title=\"psysml:546c6a0a-79ca-4224-b50a-77e407cae485\" xlink:actuate=\"onRequest\" xlink:href=\"psysml:546c6a0a-79ca-4224-b50a-77e407cae485\" xlink:show=\"new\" xlink:title=\"psysml:546c6a0a-79ca-4224-b50a-77e407cae485\" xlink:type=\"simple\"><rect fill=\"#FEFECE\" filter=\"url(#fdanf6x2yuziv)\" height=\"42.9375\" id=\"E3\" style=\"stroke: #A80036; stroke-width: 1.5;\" width=\"126\" x=\"238\" y=\"135.5\"/><ellipse cx=\"255.25\" cy=\"154.4688\" fill=\"#A52A2A\" rx=\"11\" ry=\"11\" style=\"stroke: #A80036; stroke-width: 1.0;\"/><path d=\"M254.8438,150.2813 L254.8438,158.2656 L255.5,158.2656 Q256.9375,158.2656 257.5469,157.3594 Q258.1719,156.4375 258.1719,154.2656 Q258.1719,152.0938 257.5469,151.1875 Q256.9375,150.2813 255.5,150.2813 L254.8438,150.2813 Z M252.3906,148.0781 L255.0156,148.0781 Q258.0469,148.0781 259.375,149.5313 Q260.7188,150.9688 260.7188,154.2656 Q260.7188,157.5625 259.375,159.0156 Q258.0469,160.4688 255.0156,160.4688 L252.3906,160.4688 L252.3906,148.0781 Z \"/><text fill=\"#000000\" font-family=\"sans-serif\" font-size=\"12\" font-style=\"italic\" lengthAdjust=\"spacingAndGlyphs\" textLength=\"93\" x=\"267.75\" y=\"151.6387\">«attribute def»</text><text fill=\"#000000\" font-family=\"sans-serif\" font-size=\"12\" lengthAdjust=\"spacingAndGlyphs\" textLength=\"22\" x=\"303.25\" y=\"165.6074\">Exit</text></a></g><g id=\"E1.E4\"><a href=\"psysml:4710131f-7c31-45d9-a6fe-10a60fc8490a\" target=\"_top\" title=\"psysml:4710131f-7c31-45d9-a6fe-10a60fc8490a\" xlink:actuate=\"onRequest\" xlink:href=\"psysml:4710131f-7c31-45d9-a6fe-10a60fc8490a\" xlink:show=\"new\" xlink:title=\"psysml:4710131f-7c31-45d9-a6fe-10a60fc8490a\" xlink:type=\"simple\"><rect fill=\"#FEFECE\" filter=\"url(#fdanf6x2yuziv)\" height=\"40\" id=\"E4\" rx=\"10\" ry=\"10\" style=\"stroke: #A80036; stroke-width: 1.5;\" width=\"50\" x=\"153\" y=\"137\"/><ellipse cx=\"172.5\" cy=\"153\" fill=\"#B6DBBB\" rx=\"11\" ry=\"11\" style=\"stroke: #A80036; stroke-width: 1.0;\"/><path d=\"M168.375,154.9219 L168.375,147.1094 L170.8281,147.1094 L170.8281,155.5469 Q170.8281,156.4688 171.2969,157 Q171.7813,157.5313 172.6094,157.5313 Q173.4531,157.5313 173.9219,157 Q174.3906,156.4688 174.3906,155.5469 L174.3906,147.1094 L176.8438,147.1094 L176.8438,154.9219 Q176.8438,157.4531 175.8438,158.5938 Q174.8438,159.7344 172.6094,159.7344 Q170.3906,159.7344 169.375,158.5938 Q168.375,157.4531 168.375,154.9219 Z \"/><text fill=\"#000000\" font-family=\"sans-serif\" font-size=\"12\" lengthAdjust=\"spacingAndGlyphs\" textLength=\"8\" x=\"187.5\" y=\"157.1543\">p</text></a></g><g id=\"E1.E5\"><a href=\"psysml:0b92cdb5-3694-4434-adff-e0b2149bd4e6\" target=\"_top\" title=\"psysml:0b92cdb5-3694-4434-adff-e0b2149bd4e6\" xlink:actuate=\"onRequest\" xlink:href=\"psysml:0b92cdb5-3694-4434-adff-e0b2149bd4e6\" xlink:show=\"new\" xlink:title=\"psysml:0b92cdb5-3694-4434-adff-e0b2149bd4e6\" xlink:type=\"simple\"><rect fill=\"#FEFECE\" filter=\"url(#fdanf6x2yuziv)\" height=\"42.9375\" id=\"E5\" rx=\"10\" ry=\"10\" style=\"stroke: #A80036; stroke-width: 1.5;\" width=\"86\" x=\"32\" y=\"135.5\"/><ellipse cx=\"49.25\" cy=\"154.4688\" fill=\"#FFA500\" rx=\"11\" ry=\"11\" style=\"stroke: #A80036; stroke-width: 1.0;\"/><path d=\"M45.125,156.3906 L45.125,148.5781 L47.5781,148.5781 L47.5781,157.0156 Q47.5781,157.9375 48.0469,158.4688 Q48.5313,159 49.3594,159 Q50.2031,159 50.6719,158.4688 Q51.1406,157.9375 51.1406,157.0156 L51.1406,148.5781 L53.5938,148.5781 L53.5938,156.3906 Q53.5938,158.9219 52.5938,160.0625 Q51.5938,161.2031 49.3594,161.2031 Q47.1406,161.2031 46.125,160.0625 Q45.125,158.9219 45.125,156.3906 Z \"/><text fill=\"#000000\" font-family=\"sans-serif\" font-size=\"12\" font-style=\"italic\" lengthAdjust=\"spacingAndGlyphs\" textLength=\"53\" x=\"61.75\" y=\"151.6387\">«action»</text><text fill=\"#000000\" font-family=\"sans-serif\" font-size=\"12\" lengthAdjust=\"spacingAndGlyphs\" textLength=\"20\" x=\"78.25\" y=\"165.6074\">act</text></a></g><ellipse cx=\"653\" cy=\"157\" fill=\"#000000\" filter=\"url(#fdanf6x2yuziv)\" rx=\"10\" ry=\"10\" style=\"stroke: none; stroke-width: 1.0;\"/><ellipse cx=\"678\" cy=\"367.5\" fill=\"none\" filter=\"url(#fdanf6x2yuziv)\" rx=\"10\" ry=\"10\" style=\"stroke: #000000; stroke-width: 1.0;\"/><ellipse cx=\"678.5\" cy=\"368\" fill=\"#000000\" rx=\"6\" ry=\"6\" style=\"stroke: none; stroke-width: 1.0;\"/><g id=\"E1.E6.E7\"><a href=\"psysml:0ffea2c5-2698-4589-991c-94f7ac5b0395\" target=\"_top\" title=\"psysml:0ffea2c5-2698-4589-991c-94f7ac5b0395\" xlink:actuate=\"onRequest\" xlink:href=\"psysml:0ffea2c5-2698-4589-991c-94f7ac5b0395\" xlink:show=\"new\" xlink:title=\"psysml:0ffea2c5-2698-4589-991c-94f7ac5b0395\" xlink:type=\"simple\"><rect fill=\"#FEFECE\" filter=\"url(#fdanf6x2yuziv)\" height=\"40\" id=\"E7\" rx=\"10\" ry=\"10\" style=\"stroke: #A80036; stroke-width: 1.5;\" width=\"53\" x=\"626.5\" y=\"195.5\"/><ellipse cx=\"643.75\" cy=\"211.5\" fill=\"#B6DBBB\" rx=\"11\" ry=\"11\" style=\"stroke: #A80036; stroke-width: 1.0;\"/><path d=\"M639.625,213.4219 L639.625,205.6094 L642.0781,205.6094 L642.0781,214.0469 Q642.0781,214.9688 642.5469,215.5 Q643.0313,216.0313 643.8594,216.0313 Q644.7031,216.0313 645.1719,215.5 Q645.6406,214.9688 645.6406,214.0469 L645.6406,205.6094 L648.0938,205.6094 L648.0938,213.4219 Q648.0938,215.9531 647.0938,217.0938 Q646.0938,218.2344 643.8594,218.2344 Q641.6406,218.2344 640.625,217.0938 Q639.625,215.9531 639.625,213.4219 Z \"/><text fill=\"#000000\" font-family=\"sans-serif\" font-size=\"12\" lengthAdjust=\"spacingAndGlyphs\" textLength=\"16\" x=\"658.25\" y=\"215.6543\">S1</text></a></g><g id=\"E1.E6.E8\"><a href=\"psysml:f6369ddf-93b2-4791-a9ee-7d090a7e6258\" target=\"_top\" title=\"psysml:f6369ddf-93b2-4791-a9ee-7d090a7e6258\" xlink:actuate=\"onRequest\" xlink:href=\"psysml:f6369ddf-93b2-4791-a9ee-7d090a7e6258\" xlink:show=\"new\" xlink:title=\"psysml:f6369ddf-93b2-4791-a9ee-7d090a7e6258\" xlink:type=\"simple\"><rect fill=\"#FEFECE\" filter=\"url(#fdanf6x2yuziv)\" height=\"55.9688\" id=\"E8\" rx=\"10\" ry=\"10\" style=\"stroke: #A80036; stroke-width: 1.5;\" width=\"169\" x=\"593.5\" y=\"268.5\"/><ellipse cx=\"665.75\" cy=\"284.5\" fill=\"#B6DBBB\" rx=\"11\" ry=\"11\" style=\"stroke: #A80036; stroke-width: 1.0;\"/><path d=\"M661.625,286.4219 L661.625,278.6094 L664.0781,278.6094 L664.0781,287.0469 Q664.0781,287.9688 664.5469,288.5 Q665.0313,289.0313 665.8594,289.0313 Q666.7031,289.0313 667.1719,288.5 Q667.6406,287.9688 667.6406,287.0469 L667.6406,278.6094 L670.0938,278.6094 L670.0938,286.4219 Q670.0938,288.9531 669.0938,290.0938 Q668.0938,291.2344 665.8594,291.2344 Q663.6406,291.2344 662.625,290.0938 Q661.625,288.9531 661.625,286.4219 Z \"/><text fill=\"#000000\" font-family=\"sans-serif\" font-size=\"12\" lengthAdjust=\"spacingAndGlyphs\" textLength=\"16\" x=\"686.25\" y=\"288.6543\">S2</text><line style=\"stroke: #A80036; stroke-width: 1.0;\" x1=\"593.5\" x2=\"762.5\" y1=\"300.5\" y2=\"300.5\"/><text fill=\"#000000\" font-family=\"sans-serif\" font-size=\"12\" font-weight=\"bold\" lengthAdjust=\"spacingAndGlyphs\" textLength=\"18\" x=\"598.5\" y=\"313.6387\">do</text><text fill=\"#000000\" font-family=\"sans-serif\" font-size=\"12\" lengthAdjust=\"spacingAndGlyphs\" textLength=\"141\" x=\"616.5\" y=\"313.6387\">/  send Sig(T::s::x) to p</text></a></g><!--MD5=[5a531d3a85f3339e6e197084acb48195]\n",
       "link *start*E6 to E7--><a href=\"psysml:3d6f6111-a5f0-4f07-bf0a-543b5052b3c3\" target=\"_top\" title=\"psysml:3d6f6111-a5f0-4f07-bf0a-543b5052b3c3\" xlink:actuate=\"onRequest\" xlink:href=\"psysml:3d6f6111-a5f0-4f07-bf0a-543b5052b3c3\" xlink:show=\"new\" xlink:title=\"psysml:3d6f6111-a5f0-4f07-bf0a-543b5052b3c3\" xlink:type=\"simple\"><path d=\"M653,167.08 C653,173.38 653,182.09 653,190.34 \" fill=\"none\" id=\"*start*E6-&gt;E7\" style=\"stroke: #A80036; stroke-width: 1.0;\"/><polygon fill=\"#A80036\" points=\"653,195.38,657,186.38,653,190.38,649,186.38,653,195.38\" style=\"stroke: #A80036; stroke-width: 1.0;\"/></a><!--MD5=[7ec9a8babba89ddcae1318ca9fb3c814]\n",
       "link E8 to *end*E6--><a href=\"psysml:374875bf-0004-40f7-bedc-1374d527cde5\" target=\"_top\" title=\"psysml:374875bf-0004-40f7-bedc-1374d527cde5\" xlink:actuate=\"onRequest\" xlink:href=\"psysml:374875bf-0004-40f7-bedc-1374d527cde5\" xlink:show=\"new\" xlink:title=\"psysml:374875bf-0004-40f7-bedc-1374d527cde5\" xlink:type=\"simple\"><path d=\"M678,324.77 C678,334.2 678,344.38 678,352.32 \" fill=\"none\" id=\"E8-&gt;*end*E6\" style=\"stroke: #A80036; stroke-width: 1.0;\"/><polygon fill=\"#A80036\" points=\"678,357.43,682,348.43,678,352.43,674,348.43,678,357.43\" style=\"stroke: #A80036; stroke-width: 1.0;\"/><text fill=\"#000000\" font-family=\"sans-serif\" font-size=\"13\" lengthAdjust=\"spacingAndGlyphs\" textLength=\"23\" x=\"679\" y=\"345.5669\">Exit</text></a><!--MD5=[79bc8f324ef4d02c541433f2e6e513c3]\n",
       "link E7 to E8--><a href=\"psysml:69f1494c-077d-4519-8343-87cce73be713\" target=\"_top\" title=\"psysml:69f1494c-077d-4519-8343-87cce73be713\" xlink:actuate=\"onRequest\" xlink:href=\"psysml:69f1494c-077d-4519-8343-87cce73be713\" xlink:show=\"new\" xlink:title=\"psysml:69f1494c-077d-4519-8343-87cce73be713\" xlink:type=\"simple\"><path d=\"M626.42,220.61 C612.79,224.21 597.33,230.94 589,243.5 C584.82,249.8 584.75,254.26 589,260.5 C589.98,261.94 591.03,263.32 592.14,264.65 \" fill=\"none\" id=\"E7-&gt;E8\" style=\"stroke: #A80036; stroke-width: 1.0;\"/><polygon fill=\"#A80036\" points=\"595.66,268.45,592.4796,259.1288,592.2627,264.7815,586.61,264.5645,595.66,268.45\" style=\"stroke: #A80036; stroke-width: 1.0;\"/><text fill=\"#000000\" font-family=\"sans-serif\" font-size=\"13\" lengthAdjust=\"spacingAndGlyphs\" textLength=\"81\" x=\"590\" y=\"256.5669\">Sig /action D</text></a><!--MD5=[bfa3c8b0d15052fdf50ae9310b491027]\n",
       "link E8 to E7--><a href=\"psysml:f8d53726-bfe5-4353-91f3-ae2ef06d9a38\" target=\"_top\" title=\"psysml:f8d53726-bfe5-4353-91f3-ae2ef06d9a38\" xlink:actuate=\"onRequest\" xlink:href=\"psysml:f8d53726-bfe5-4353-91f3-ae2ef06d9a38\" xlink:show=\"new\" xlink:title=\"psysml:f8d53726-bfe5-4353-91f3-ae2ef06d9a38\" xlink:type=\"simple\"><path d=\"M680.31,268.35 C680.13,260.14 679.02,251.24 676,243.5 C675.53,242.3 674.98,241.11 674.37,239.94 \" fill=\"none\" id=\"E8-&gt;E7\" style=\"stroke: #A80036; stroke-width: 1.0;\"/><polygon fill=\"#A80036\" points=\"671.75,235.56,672.9265,245.3383,674.3119,239.8538,679.7965,241.2392,671.75,235.56\" style=\"stroke: #A80036; stroke-width: 1.0;\"/><text fill=\"#000000\" font-family=\"sans-serif\" font-size=\"13\" lengthAdjust=\"spacingAndGlyphs\" textLength=\"135\" x=\"680\" y=\"256.5669\">Sig [true]/send s to p</text></a><!--MD5=[13a42bd7f2d4cb6f626e1cc044a77aee]\n",
       "@startuml\r\n",
       "skinparam ranksep 10\r\n",
       "skinparam rectangle {\r\n",
       " backgroundColor<<block>> LightGreen\r\n",
       "}\r\n",
       " \r\n",
       "package \"StateTest\" as E1  [[psysml:800f45c9-cf5c-46ce-b3c3-487778cd6319 ]]  {\r\n",
       "def \"Sig\" as E2  <<(D,brown)attribute def>> [[psysml:f1048496-f45f-4de3-be42-17169da36fba ]] \r\n",
       "def \"Exit\" as E3  <<(D,brown)attribute def>> [[psysml:546c6a0a-79ca-4224-b50a-77e407cae485 ]] \r\n",
       "rec usage \"p\" as E4  [[psysml:4710131f-7c31-45d9-a6fe-10a60fc8490a ]] {\r\n",
       "}\r\n",
       "rec usage \"act\" as E5  <<(U,orange)action>> [[psysml:0b92cdb5-3694-4434-adff-e0b2149bd4e6 ]] {\r\n",
       "}\r\n",
       "\r\n",
       "rec def \"S\" as E6  <<(D,brown)state def>> [[psysml:f2a66a23-1197-47ed-b1bd-74e1ad61d6fd ]] {\r\n",
       "rec usage \"S1\" as E7 [[psysml:0ffea2c5-2698-4589-991c-94f7ac5b0395 ]] {\r\n",
       "}\r\n",
       "\r\n",
       "rec usage \"S2\" as E8 [[psysml:f6369ddf-93b2-4791-a9ee-7d090a7e6258 ]] {\r\n",
       "desc \"S2\" as E8  : **do**/  send Sig(T::s::x) to p\r\n",
       "}\r\n",
       "\r\n",
       "desc \"S\" as E6  : **entry**/ A\r\n",
       "desc \"S\" as E6  : **do**/ B\r\n",
       "desc \"S\" as E6  : **exit**/ act \r\n",
       "[*] - -> E7 [[psysml:3d6f6111-a5f0-4f07-bf0a-543b5052b3c3 ]] \r\n",
       "E8  - -> [*] [[psysml:374875bf-0004-40f7-bedc-1374d527cde5 ]] : Exit \r\n",
       "}\r\n",
       "\r\n",
       "E7  - -> E8 [[psysml:69f1494c-077d-4519-8343-87cce73be713 ]] : Sig /action D\r\n",
       "E8  - -> E7 [[psysml:f8d53726-bfe5-4353-91f3-ae2ef06d9a38 ]] : Sig [true]/send s to p\r\n",
       "}\r\n",
       "@enduml\r\n",
       "\n",
       "PlantUML version 1.2020.13(Sat Jun 13 12:26:38 UTC 2020)\n",
       "(EPL source distribution)\n",
       "Java Runtime: OpenJDK Runtime Environment\n",
       "JVM: OpenJDK 64-Bit Server VM\n",
       "Default Encoding: UTF-8\n",
       "Language: en\n",
       "Country: null\n",
       "--></g></svg>"
      ]
     },
     "execution_count": 33,
     "metadata": {},
     "output_type": "execute_result"
    }
   ],
   "source": [
    "%viz --style=\"PLANTUML\" --view=\"Interconnection\" \"StateTest\""
   ]
  },
  {
   "cell_type": "code",
   "execution_count": 34,
   "id": "4009b955",
   "metadata": {
    "execution": {
     "iopub.execute_input": "2021-04-21T20:23:44.166854Z",
     "iopub.status.busy": "2021-04-21T20:23:44.166426Z",
     "iopub.status.idle": "2021-04-21T20:23:44.213794Z",
     "shell.execute_reply": "2021-04-21T20:23:44.211925Z"
    }
   },
   "outputs": [
    {
     "data": {
      "image/svg+xml": [
       "<?xml version=\"1.0\" encoding=\"UTF-8\" standalone=\"no\"?><svg xmlns=\"http://www.w3.org/2000/svg\" xmlns:xlink=\"http://www.w3.org/1999/xlink\" contentScriptType=\"application/ecmascript\" contentStyleType=\"text/css\" height=\"452px\" preserveAspectRatio=\"none\" style=\"width:706px;height:452px;\" version=\"1.1\" viewBox=\"0 0 706 452\" width=\"706px\" zoomAndPan=\"magnify\"><defs><filter height=\"300%\" id=\"f10tzxukhpqcyk\" width=\"300%\" x=\"-1\" y=\"-1\"><feGaussianBlur result=\"blurOut\" stdDeviation=\"2.0\"/><feColorMatrix in=\"blurOut\" result=\"blurOut2\" type=\"matrix\" values=\"0 0 0 0 0 0 0 0 0 0 0 0 0 0 0 0 0 0 .4 0\"/><feOffset dx=\"4.0\" dy=\"4.0\" in=\"blurOut2\" result=\"blurOut3\"/><feBlend in=\"SourceGraphic\" in2=\"blurOut3\" mode=\"normal\"/></filter></defs><g><!--MD5=[e4f7fae6ed58524ba242bb0b0d3be6b7]\n",
       "cluster E2--><a href=\"psysml:f2a66a23-1197-47ed-b1bd-74e1ad61d6fd\" target=\"_top\" title=\"psysml:f2a66a23-1197-47ed-b1bd-74e1ad61d6fd\" xlink:actuate=\"onRequest\" xlink:href=\"psysml:f2a66a23-1197-47ed-b1bd-74e1ad61d6fd\" xlink:show=\"new\" xlink:title=\"psysml:f2a66a23-1197-47ed-b1bd-74e1ad61d6fd\" xlink:type=\"simple\"><rect fill=\"#FFFFFF\" filter=\"url(#f10tzxukhpqcyk)\" height=\"426\" id=\"E2\" style=\"stroke: #A80036; stroke-width: 1.5;\" width=\"575\" x=\"112\" y=\"7\"/><rect fill=\"#FEFECE\" height=\"37.9375\" style=\"stroke: #A80036; stroke-width: 1.5;\" width=\"575\" x=\"112\" y=\"7\"/><text fill=\"#000000\" font-family=\"sans-serif\" font-size=\"12\" font-style=\"italic\" lengthAdjust=\"spacingAndGlyphs\" textLength=\"71\" x=\"364\" y=\"23.1387\">«state def»</text><text fill=\"#000000\" font-family=\"sans-serif\" font-size=\"12\" lengthAdjust=\"spacingAndGlyphs\" textLength=\"8\" x=\"395.5\" y=\"37.1074\">S</text></a><!--MD5=[168fadf3d0c3fd93dd5d6da1b1d7ab76]\n",
       "cluster E7--><a href=\"psysml:f6369ddf-93b2-4791-a9ee-7d090a7e6258\" target=\"_top\" title=\"psysml:f6369ddf-93b2-4791-a9ee-7d090a7e6258\" xlink:actuate=\"onRequest\" xlink:href=\"psysml:f6369ddf-93b2-4791-a9ee-7d090a7e6258\" xlink:show=\"new\" xlink:title=\"psysml:f6369ddf-93b2-4791-a9ee-7d090a7e6258\" xlink:type=\"simple\"><rect fill=\"#FFFFFF\" filter=\"url(#f10tzxukhpqcyk)\" height=\"138\" id=\"E7\" rx=\"10\" ry=\"10\" style=\"stroke: #A80036; stroke-width: 1.5;\" width=\"195\" x=\"431\" y=\"210\"/><rect fill=\"#FEFECE\" height=\"37.9375\" rx=\"10\" ry=\"10\" style=\"stroke: #FEFECE; stroke-width: 1.5;\" width=\"195\" x=\"431\" y=\"210\"/><rect fill=\"#FEFECE\" height=\"10\" style=\"stroke: #FEFECE; stroke-width: 1.5;\" width=\"195\" x=\"431\" y=\"237.9375\"/><rect fill=\"none\" height=\"138\" id=\"E7\" rx=\"10\" ry=\"10\" style=\"stroke: #A80036; stroke-width: 1.5;\" width=\"195\" x=\"431\" y=\"210\"/><text fill=\"#000000\" font-family=\"sans-serif\" font-size=\"12\" font-style=\"italic\" lengthAdjust=\"spacingAndGlyphs\" textLength=\"47\" x=\"505\" y=\"226.1387\">«state»</text><text fill=\"#000000\" font-family=\"sans-serif\" font-size=\"12\" lengthAdjust=\"spacingAndGlyphs\" textLength=\"16\" x=\"520.5\" y=\"240.1074\">S2</text><line style=\"stroke: #A80036; stroke-width: 1.0;\" x1=\"431\" x2=\"626\" y1=\"247.9375\" y2=\"247.9375\"/></a><g id=\"E1\"><a href=\"psysml:0b92cdb5-3694-4434-adff-e0b2149bd4e6\" target=\"_top\" title=\"psysml:0b92cdb5-3694-4434-adff-e0b2149bd4e6\" xlink:actuate=\"onRequest\" xlink:href=\"psysml:0b92cdb5-3694-4434-adff-e0b2149bd4e6\" xlink:show=\"new\" xlink:title=\"psysml:0b92cdb5-3694-4434-adff-e0b2149bd4e6\" xlink:type=\"simple\"><rect fill=\"#FEFECE\" filter=\"url(#f10tzxukhpqcyk)\" height=\"42.9375\" id=\"E1\" rx=\"10\" ry=\"10\" style=\"stroke: #A80036; stroke-width: 1.5;\" width=\"86\" x=\"7\" y=\"58\"/><ellipse cx=\"24.25\" cy=\"76.9688\" fill=\"#FFA500\" rx=\"11\" ry=\"11\" style=\"stroke: #A80036; stroke-width: 1.0;\"/><path d=\"M20.125,78.8906 L20.125,71.0781 L22.5781,71.0781 L22.5781,79.5156 Q22.5781,80.4375 23.0469,80.9688 Q23.5313,81.5 24.3594,81.5 Q25.2031,81.5 25.6719,80.9688 Q26.1406,80.4375 26.1406,79.5156 L26.1406,71.0781 L28.5938,71.0781 L28.5938,78.8906 Q28.5938,81.4219 27.5938,82.5625 Q26.5938,83.7031 24.3594,83.7031 Q22.1406,83.7031 21.125,82.5625 Q20.125,81.4219 20.125,78.8906 Z \"/><text fill=\"#000000\" font-family=\"sans-serif\" font-size=\"12\" font-style=\"italic\" lengthAdjust=\"spacingAndGlyphs\" textLength=\"53\" x=\"36.75\" y=\"74.1387\">«action»</text><text fill=\"#000000\" font-family=\"sans-serif\" font-size=\"12\" lengthAdjust=\"spacingAndGlyphs\" textLength=\"20\" x=\"53.25\" y=\"88.1074\">act</text></a></g><ellipse cx=\"661\" cy=\"79.5\" fill=\"#000000\" filter=\"url(#f10tzxukhpqcyk)\" rx=\"10\" ry=\"10\" style=\"stroke: none; stroke-width: 1.0;\"/><ellipse cx=\"439\" cy=\"407\" fill=\"none\" filter=\"url(#f10tzxukhpqcyk)\" rx=\"10\" ry=\"10\" style=\"stroke: #000000; stroke-width: 1.0;\"/><ellipse cx=\"439.5\" cy=\"407.5\" fill=\"#000000\" rx=\"6\" ry=\"6\" style=\"stroke: none; stroke-width: 1.0;\"/><g id=\"E2.E3\"><a href=\"psysml:b2584b97-8c36-4971-ba08-266a53e2e05d\" target=\"_top\" title=\"psysml:b2584b97-8c36-4971-ba08-266a53e2e05d\" xlink:actuate=\"onRequest\" xlink:href=\"psysml:b2584b97-8c36-4971-ba08-266a53e2e05d\" xlink:show=\"new\" xlink:title=\"psysml:b2584b97-8c36-4971-ba08-266a53e2e05d\" xlink:type=\"simple\"><rect fill=\"#FEFECE\" filter=\"url(#f10tzxukhpqcyk)\" height=\"42.9375\" id=\"E3\" rx=\"10\" ry=\"10\" style=\"stroke: #A80036; stroke-width: 1.5;\" width=\"139\" x=\"476.5\" y=\"58\"/><ellipse cx=\"493.75\" cy=\"76.9688\" fill=\"#B6DBBB\" rx=\"11\" ry=\"11\" style=\"stroke: #A80036; stroke-width: 1.0;\"/><path d=\"M489.625,78.8906 L489.625,71.0781 L492.0781,71.0781 L492.0781,79.5156 Q492.0781,80.4375 492.5469,80.9688 Q493.0313,81.5 493.8594,81.5 Q494.7031,81.5 495.1719,80.9688 Q495.6406,80.4375 495.6406,79.5156 L495.6406,71.0781 L498.0938,71.0781 L498.0938,78.8906 Q498.0938,81.4219 497.0938,82.5625 Q496.0938,83.7031 493.8594,83.7031 Q491.6406,83.7031 490.625,82.5625 Q489.625,81.4219 489.625,78.8906 Z \"/><text fill=\"#000000\" font-family=\"sans-serif\" font-size=\"12\" font-style=\"italic\" lengthAdjust=\"spacingAndGlyphs\" textLength=\"106\" x=\"506.25\" y=\"74.1387\">«perform action»</text><text fill=\"#000000\" font-family=\"sans-serif\" font-size=\"12\" lengthAdjust=\"spacingAndGlyphs\" textLength=\"8\" x=\"555.25\" y=\"88.1074\">A</text></a></g><g id=\"E2.E4\"><a href=\"psysml:4ff81092-47a1-4e96-8d92-0120048334f8\" target=\"_top\" title=\"psysml:4ff81092-47a1-4e96-8d92-0120048334f8\" xlink:actuate=\"onRequest\" xlink:href=\"psysml:4ff81092-47a1-4e96-8d92-0120048334f8\" xlink:show=\"new\" xlink:title=\"psysml:4ff81092-47a1-4e96-8d92-0120048334f8\" xlink:type=\"simple\"><rect fill=\"#FEFECE\" filter=\"url(#f10tzxukhpqcyk)\" height=\"42.9375\" id=\"E4\" rx=\"10\" ry=\"10\" style=\"stroke: #A80036; stroke-width: 1.5;\" width=\"139\" x=\"302.5\" y=\"58\"/><ellipse cx=\"319.75\" cy=\"76.9688\" fill=\"#B6DBBB\" rx=\"11\" ry=\"11\" style=\"stroke: #A80036; stroke-width: 1.0;\"/><path d=\"M315.625,78.8906 L315.625,71.0781 L318.0781,71.0781 L318.0781,79.5156 Q318.0781,80.4375 318.5469,80.9688 Q319.0313,81.5 319.8594,81.5 Q320.7031,81.5 321.1719,80.9688 Q321.6406,80.4375 321.6406,79.5156 L321.6406,71.0781 L324.0938,71.0781 L324.0938,78.8906 Q324.0938,81.4219 323.0938,82.5625 Q322.0938,83.7031 319.8594,83.7031 Q317.6406,83.7031 316.625,82.5625 Q315.625,81.4219 315.625,78.8906 Z \"/><text fill=\"#000000\" font-family=\"sans-serif\" font-size=\"12\" font-style=\"italic\" lengthAdjust=\"spacingAndGlyphs\" textLength=\"106\" x=\"332.25\" y=\"74.1387\">«perform action»</text><text fill=\"#000000\" font-family=\"sans-serif\" font-size=\"12\" lengthAdjust=\"spacingAndGlyphs\" textLength=\"8\" x=\"381.25\" y=\"88.1074\">B</text></a></g><g id=\"E2.E5\"><a href=\"psysml:304a78cc-8684-4bf6-a939-94ca910a3e9f\" target=\"_top\" title=\"psysml:304a78cc-8684-4bf6-a939-94ca910a3e9f\" xlink:actuate=\"onRequest\" xlink:href=\"psysml:304a78cc-8684-4bf6-a939-94ca910a3e9f\" xlink:show=\"new\" xlink:title=\"psysml:304a78cc-8684-4bf6-a939-94ca910a3e9f\" xlink:type=\"simple\"><rect fill=\"#FEFECE\" filter=\"url(#f10tzxukhpqcyk)\" height=\"42.9375\" id=\"E5\" rx=\"10\" ry=\"10\" style=\"stroke: #A80036; stroke-width: 1.5;\" width=\"139\" x=\"128.5\" y=\"58\"/><ellipse cx=\"145.75\" cy=\"76.9688\" fill=\"#B6DBBB\" rx=\"11\" ry=\"11\" style=\"stroke: #A80036; stroke-width: 1.0;\"/><path d=\"M141.625,78.8906 L141.625,71.0781 L144.0781,71.0781 L144.0781,79.5156 Q144.0781,80.4375 144.5469,80.9688 Q145.0313,81.5 145.8594,81.5 Q146.7031,81.5 147.1719,80.9688 Q147.6406,80.4375 147.6406,79.5156 L147.6406,71.0781 L150.0938,71.0781 L150.0938,78.8906 Q150.0938,81.4219 149.0938,82.5625 Q148.0938,83.7031 145.8594,83.7031 Q143.6406,83.7031 142.625,82.5625 Q141.625,81.4219 141.625,78.8906 Z \"/><text fill=\"#000000\" font-family=\"sans-serif\" font-size=\"12\" font-style=\"italic\" lengthAdjust=\"spacingAndGlyphs\" textLength=\"106\" x=\"158.25\" y=\"74.1387\">«perform action»</text><text fill=\"#000000\" font-family=\"sans-serif\" font-size=\"12\" lengthAdjust=\"spacingAndGlyphs\" textLength=\"20\" x=\"201.25\" y=\"88.1074\">act</text></a></g><g id=\"E2.E6\"><a href=\"psysml:0ffea2c5-2698-4589-991c-94f7ac5b0395\" target=\"_top\" title=\"psysml:0ffea2c5-2698-4589-991c-94f7ac5b0395\" xlink:actuate=\"onRequest\" xlink:href=\"psysml:0ffea2c5-2698-4589-991c-94f7ac5b0395\" xlink:show=\"new\" xlink:title=\"psysml:0ffea2c5-2698-4589-991c-94f7ac5b0395\" xlink:type=\"simple\"><rect fill=\"#FEFECE\" filter=\"url(#f10tzxukhpqcyk)\" height=\"42.9375\" id=\"E6\" rx=\"10\" ry=\"10\" style=\"stroke: #A80036; stroke-width: 1.5;\" width=\"80\" x=\"494\" y=\"118\"/><ellipse cx=\"511.25\" cy=\"136.9688\" fill=\"#FFA500\" rx=\"11\" ry=\"11\" style=\"stroke: #A80036; stroke-width: 1.0;\"/><path d=\"M507.125,138.8906 L507.125,131.0781 L509.5781,131.0781 L509.5781,139.5156 Q509.5781,140.4375 510.0469,140.9688 Q510.5313,141.5 511.3594,141.5 Q512.2031,141.5 512.6719,140.9688 Q513.1406,140.4375 513.1406,139.5156 L513.1406,131.0781 L515.5938,131.0781 L515.5938,138.8906 Q515.5938,141.4219 514.5938,142.5625 Q513.5938,143.7031 511.3594,143.7031 Q509.1406,143.7031 508.125,142.5625 Q507.125,141.4219 507.125,138.8906 Z \"/><text fill=\"#000000\" font-family=\"sans-serif\" font-size=\"12\" font-style=\"italic\" lengthAdjust=\"spacingAndGlyphs\" textLength=\"47\" x=\"523.75\" y=\"134.1387\">«state»</text><text fill=\"#000000\" font-family=\"sans-serif\" font-size=\"12\" lengthAdjust=\"spacingAndGlyphs\" textLength=\"16\" x=\"539.25\" y=\"148.1074\">S1</text></a></g><!--MD5=[2803005a5f354d3255b1b7bbd839bbf7]\n",
       "entity E8--><a href=\"psysml:4e70c0dc-8141-4b3a-9526-a99ab1429170\" target=\"_top\" title=\"psysml:4e70c0dc-8141-4b3a-9526-a99ab1429170\" xlink:actuate=\"onRequest\" xlink:href=\"psysml:4e70c0dc-8141-4b3a-9526-a99ab1429170\" xlink:show=\"new\" xlink:title=\"psysml:4e70c0dc-8141-4b3a-9526-a99ab1429170\" xlink:type=\"simple\"><polygon fill=\"#FEFECE\" filter=\"url(#f10tzxukhpqcyk)\" points=\"474,269,474,323.5938,582,323.5938,602,296.2969,582,269\" style=\"stroke: #000000; stroke-width: 1.5;\"/><text fill=\"#000000\" font-family=\"sans-serif\" font-size=\"14\" font-style=\"italic\" lengthAdjust=\"spacingAndGlyphs\" textLength=\"99\" x=\"481\" y=\"291.9951\">«send action»</text><text fill=\"#000000\" font-family=\"sans-serif\" font-size=\"14\" lengthAdjust=\"spacingAndGlyphs\" textLength=\"75\" x=\"493\" y=\"309.292\">Sig(T::s::x)</text></a><!--MD5=[2e26681bccdb10b30299c36e1180c624]\n",
       "link *start*E2 to E6--><a href=\"psysml:3d6f6111-a5f0-4f07-bf0a-543b5052b3c3\" target=\"_top\" title=\"psysml:3d6f6111-a5f0-4f07-bf0a-543b5052b3c3\" xlink:actuate=\"onRequest\" xlink:href=\"psysml:3d6f6111-a5f0-4f07-bf0a-543b5052b3c3\" xlink:show=\"new\" xlink:title=\"psysml:3d6f6111-a5f0-4f07-bf0a-543b5052b3c3\" xlink:type=\"simple\"><path d=\"M653.53,86.84 C648.09,91.22 640.41,96.98 633,101 C616.02,110.21 596.29,118.18 578.93,124.38 \" fill=\"none\" id=\"*start*E2-&gt;E6\" style=\"stroke: #A80036; stroke-width: 1.0; stroke-dasharray: 7.0,7.0;\"/><polygon fill=\"#A80036\" points=\"574.11,126.08,583.9264,126.8783,578.8286,124.4263,581.2806,119.3285,574.11,126.08\" style=\"stroke: #A80036; stroke-width: 1.0;\"/></a><!--MD5=[ff9e4afefa821aea7eda324d3041742a]\n",
       "link E7 to *end*E2--><a href=\"psysml:374875bf-0004-40f7-bedc-1374d527cde5\" target=\"_top\" title=\"psysml:374875bf-0004-40f7-bedc-1374d527cde5\" xlink:actuate=\"onRequest\" xlink:href=\"psysml:374875bf-0004-40f7-bedc-1374d527cde5\" xlink:show=\"new\" xlink:title=\"psysml:374875bf-0004-40f7-bedc-1374d527cde5\" xlink:type=\"simple\"><path d=\"M439,348.1183 C439,348.2776 439,348.437 439,348.5964 C439,348.9153 439,349.2342 439,349.5533 C439,354.6588 439,359.7902 439,364.7664 C439,374.7188 439,384.05 439,391.31 \" fill=\"none\" id=\"E7-&gt;*end*E2\" style=\"stroke: #A80036; stroke-width: 1.0; stroke-dasharray: 7.0,7.0;\"/><polygon fill=\"#A80036\" points=\"439,396.65,443,387.65,439,391.65,435,387.65,439,396.65\" style=\"stroke: #A80036; stroke-width: 1.0;\"/><text fill=\"#000000\" font-family=\"sans-serif\" font-size=\"13\" lengthAdjust=\"spacingAndGlyphs\" textLength=\"23\" x=\"440\" y=\"385.0669\">Exit</text></a><!--MD5=[02c70b7c851c11e3980e4e90450dc5dd]\n",
       "link E6 to E7--><a href=\"psysml:69f1494c-077d-4519-8343-87cce73be713\" target=\"_top\" title=\"psysml:69f1494c-077d-4519-8343-87cce73be713\" xlink:actuate=\"onRequest\" xlink:href=\"psysml:69f1494c-077d-4519-8343-87cce73be713\" xlink:show=\"new\" xlink:title=\"psysml:69f1494c-077d-4519-8343-87cce73be713\" xlink:type=\"simple\"><path d=\"M493.78,144.2 C461.07,148.13 418.64,155.68 408,169 C390.215,191.26 397.4475,222.2525 409.3787,247.9887 C415.3444,260.8569 422.4847,272.4109 428.2598,280.9023 C428.9817,281.9638 429.6823,282.9773 430.3566,283.9396 C430.5251,284.1802 430.6921,284.4176 430.8573,284.6517 \" fill=\"none\" id=\"E6-&gt;E7\" style=\"stroke: #A80036; stroke-width: 1.0; stroke-dasharray: 7.0,7.0;\"/><polygon fill=\"#A80036\" points=\"430.8573,284.6517,428.9364,274.992,427.9745,280.5664,422.4,279.6045,430.8573,284.6517\" style=\"stroke: #A80036; stroke-width: 1.0;\"/><text fill=\"#000000\" font-family=\"sans-serif\" font-size=\"13\" lengthAdjust=\"spacingAndGlyphs\" textLength=\"81\" x=\"409\" y=\"182.0669\">Sig /action D</text></a><!--MD5=[fbb449814971db3a0b8220cf225b9e01]\n",
       "link E7 to E6--><a href=\"psysml:f8d53726-bfe5-4353-91f3-ae2ef06d9a38\" target=\"_top\" title=\"psysml:f8d53726-bfe5-4353-91f3-ae2ef06d9a38\" xlink:actuate=\"onRequest\" xlink:href=\"psysml:f8d53726-bfe5-4353-91f3-ae2ef06d9a38\" xlink:show=\"new\" xlink:title=\"psysml:f8d53726-bfe5-4353-91f3-ae2ef06d9a38\" xlink:type=\"simple\"><path d=\"M446.9071,209.9114 C446.9855,209.7539 447.0643,209.5968 447.1437,209.44 C447.4614,208.8126 447.7878,208.1903 448.1232,207.5733 C450.8063,202.638 454.0625,198.0487 458,194 C469.73,181.94 480.55,194.61 495,186 C503.6,180.88 511.24,173.18 517.43,165.57 \" fill=\"none\" id=\"E7-&gt;E6\" style=\"stroke: #A80036; stroke-width: 1.0; stroke-dasharray: 7.0,7.0;\"/><polygon fill=\"#A80036\" points=\"520.72,161.36,512.0232,165.9823,517.6385,165.2975,518.3232,170.9128,520.72,161.36\" style=\"stroke: #A80036; stroke-width: 1.0;\"/><text fill=\"#000000\" font-family=\"sans-serif\" font-size=\"13\" lengthAdjust=\"spacingAndGlyphs\" textLength=\"135\" x=\"514\" y=\"182.0669\">Sig [true]/send s to p</text></a><!--MD5=[c7b8694cf3f904a413809b2b1b48aec0]\n",
       "@startuml\r\n",
       "skinparam ranksep 8\r\n",
       " \r\n",
       "rec usage \"act\" as E1  <<(U,orange)action>> [[psysml:0b92cdb5-3694-4434-adff-e0b2149bd4e6 ]] {\r\n",
       "}\r\n",
       "\r\n",
       "rec def \"S\" as E2  <<(D,brown)state def>> [[psysml:f2a66a23-1197-47ed-b1bd-74e1ad61d6fd ]] {\r\n",
       "rec usage \"A\" as E3 <<perform action>> [[psysml:b2584b97-8c36-4971-ba08-266a53e2e05d ]] {\r\n",
       "}\r\n",
       "\r\n",
       "rec usage \"B\" as E4 <<perform action>> [[psysml:4ff81092-47a1-4e96-8d92-0120048334f8 ]] {\r\n",
       "}\r\n",
       "\r\n",
       "rec usage \"act\" as E5 <<perform action>> [[psysml:304a78cc-8684-4bf6-a939-94ca910a3e9f ]] {\r\n",
       "}\r\n",
       "\r\n",
       "rec usage \"S1\" as E6  <<(U,orange)state>> [[psysml:0ffea2c5-2698-4589-991c-94f7ac5b0395 ]] {\r\n",
       "}\r\n",
       "\r\n",
       "rec usage \"S2\" as E7  <<(U,orange)state>> [[psysml:f6369ddf-93b2-4791-a9ee-7d090a7e6258 ]] {\r\n",
       "send \" Sig(T::s::x)\" as E8 <<send action>> [[psysml:4e70c0dc-8141-4b3a-9526-a99ab1429170 ]] \r\n",
       "}\r\n",
       "\r\n",
       "[*] ..> E6 [[psysml:3d6f6111-a5f0-4f07-bf0a-543b5052b3c3 ]] \r\n",
       "E7 ..> [*] [[psysml:374875bf-0004-40f7-bedc-1374d527cde5 ]] : Exit \r\n",
       "}\r\n",
       "\r\n",
       "E6 ..> E7 [[psysml:69f1494c-077d-4519-8343-87cce73be713 ]] : Sig /action D\r\n",
       "E7 ..> E6 [[psysml:f8d53726-bfe5-4353-91f3-ae2ef06d9a38 ]] : Sig [true]/send s to p\r\n",
       "@enduml\r\n",
       "\n",
       "PlantUML version 1.2020.13(Sat Jun 13 12:26:38 UTC 2020)\n",
       "(EPL source distribution)\n",
       "Java Runtime: OpenJDK Runtime Environment\n",
       "JVM: OpenJDK 64-Bit Server VM\n",
       "Default Encoding: UTF-8\n",
       "Language: en\n",
       "Country: null\n",
       "--></g></svg>"
      ]
     },
     "execution_count": 34,
     "metadata": {},
     "output_type": "execute_result"
    }
   ],
   "source": [
    "%viz --style=\"PLANTUML\" --view=\"Action\" \"StateTest\""
   ]
  },
  {
   "cell_type": "code",
   "execution_count": 35,
   "id": "f4bb7743",
   "metadata": {
    "execution": {
     "iopub.execute_input": "2021-04-21T20:23:44.263270Z",
     "iopub.status.busy": "2021-04-21T20:23:44.262811Z",
     "iopub.status.idle": "2021-04-21T20:23:44.389173Z",
     "shell.execute_reply": "2021-04-21T20:23:44.388670Z"
    }
   },
   "outputs": [
    {
     "data": {
      "image/svg+xml": [
       "<?xml version=\"1.0\" encoding=\"UTF-8\" standalone=\"no\"?><svg xmlns=\"http://www.w3.org/2000/svg\" xmlns:xlink=\"http://www.w3.org/1999/xlink\" contentScriptType=\"application/ecmascript\" contentStyleType=\"text/css\" height=\"365px\" preserveAspectRatio=\"none\" style=\"width:702px;height:365px;\" version=\"1.1\" viewBox=\"0 0 702 365\" width=\"702px\" zoomAndPan=\"magnify\"><defs><filter height=\"300%\" id=\"f1etan0ukkywfg\" width=\"300%\" x=\"-1\" y=\"-1\"><feGaussianBlur result=\"blurOut\" stdDeviation=\"2.0\"/><feColorMatrix in=\"blurOut\" result=\"blurOut2\" type=\"matrix\" values=\"0 0 0 0 0 0 0 0 0 0 0 0 0 0 0 0 0 0 .4 0\"/><feOffset dx=\"4.0\" dy=\"4.0\" in=\"blurOut2\" result=\"blurOut3\"/><feBlend in=\"SourceGraphic\" in2=\"blurOut3\" mode=\"normal\"/></filter></defs><g><!--MD5=[fbc87193dbaf4d95561dea2c320d4a47]\n",
       "cluster E1--><a href=\"psysml:800f45c9-cf5c-46ce-b3c3-487778cd6319\" target=\"_top\" title=\"psysml:800f45c9-cf5c-46ce-b3c3-487778cd6319\" xlink:actuate=\"onRequest\" xlink:href=\"psysml:800f45c9-cf5c-46ce-b3c3-487778cd6319\" xlink:show=\"new\" xlink:title=\"psysml:800f45c9-cf5c-46ce-b3c3-487778cd6319\" xlink:type=\"simple\"><polygon fill=\"#FFFFFF\" filter=\"url(#f1etan0ukkywfg)\" points=\"16,6,98,6,105,28.2969,680,28.2969,680,353,16,353,16,6\" style=\"stroke: #000000; stroke-width: 1.5;\"/><line style=\"stroke: #000000; stroke-width: 1.5;\" x1=\"16\" x2=\"105\" y1=\"28.2969\" y2=\"28.2969\"/><text fill=\"#000000\" font-family=\"sans-serif\" font-size=\"14\" font-weight=\"bold\" lengthAdjust=\"spacingAndGlyphs\" textLength=\"76\" x=\"20\" y=\"20.9951\">StateTest</text></a><!--MD5=[b4997ac47864f28c2f74865a473b2911]\n",
       "class E2--><a href=\"psysml:f1048496-f45f-4de3-be42-17169da36fba\" target=\"_top\" title=\"psysml:f1048496-f45f-4de3-be42-17169da36fba\" xlink:actuate=\"onRequest\" xlink:href=\"psysml:f1048496-f45f-4de3-be42-17169da36fba\" xlink:show=\"new\" xlink:title=\"psysml:f1048496-f45f-4de3-be42-17169da36fba\" xlink:type=\"simple\"><rect fill=\"#FEFECE\" filter=\"url(#f1etan0ukkywfg)\" height=\"58.7422\" id=\"E2\" style=\"stroke: #A80036; stroke-width: 1.5;\" width=\"121\" x=\"542.5\" y=\"91.5\"/><ellipse cx=\"557.5\" cy=\"110.4688\" fill=\"#A52A2A\" rx=\"11\" ry=\"11\" style=\"stroke: #A80036; stroke-width: 1.0;\"/><path d=\"M557.0938,106.2813 L557.0938,114.2656 L557.75,114.2656 Q559.1875,114.2656 559.7969,113.3594 Q560.4219,112.4375 560.4219,110.2656 Q560.4219,108.0938 559.7969,107.1875 Q559.1875,106.2813 557.75,106.2813 L557.0938,106.2813 Z M554.6406,104.0781 L557.2656,104.0781 Q560.2969,104.0781 561.625,105.5313 Q562.9688,106.9688 562.9688,110.2656 Q562.9688,113.5625 561.625,115.0156 Q560.2969,116.4688 557.2656,116.4688 L554.6406,116.4688 L554.6406,104.0781 Z \"/><text fill=\"#000000\" font-family=\"sans-serif\" font-size=\"12\" font-style=\"italic\" lengthAdjust=\"spacingAndGlyphs\" textLength=\"93\" x=\"569.5\" y=\"107.6387\">«attribute def»</text><text fill=\"#000000\" font-family=\"sans-serif\" font-size=\"12\" lengthAdjust=\"spacingAndGlyphs\" textLength=\"19\" x=\"606.5\" y=\"121.6074\">Sig</text><line style=\"stroke: #A80036; stroke-width: 1.5;\" x1=\"543.5\" x2=\"662.5\" y1=\"129.4375\" y2=\"129.4375\"/><text fill=\"#000000\" font-family=\"sans-serif\" font-size=\"11\" lengthAdjust=\"spacingAndGlyphs\" textLength=\"6\" x=\"548.5\" y=\"143.6479\">x</text></a><!--MD5=[09b614a08d8cba4a07c9adeb5e0fee81]\n",
       "class E3--><a href=\"psysml:546c6a0a-79ca-4224-b50a-77e407cae485\" target=\"_top\" title=\"psysml:546c6a0a-79ca-4224-b50a-77e407cae485\" xlink:actuate=\"onRequest\" xlink:href=\"psysml:546c6a0a-79ca-4224-b50a-77e407cae485\" xlink:show=\"new\" xlink:title=\"psysml:546c6a0a-79ca-4224-b50a-77e407cae485\" xlink:type=\"simple\"><rect fill=\"#FEFECE\" filter=\"url(#f1etan0ukkywfg)\" height=\"45.9375\" id=\"E3\" style=\"stroke: #A80036; stroke-width: 1.5;\" width=\"121\" x=\"386.5\" y=\"98\"/><ellipse cx=\"401.5\" cy=\"116.9688\" fill=\"#A52A2A\" rx=\"11\" ry=\"11\" style=\"stroke: #A80036; stroke-width: 1.0;\"/><path d=\"M401.0938,112.7813 L401.0938,120.7656 L401.75,120.7656 Q403.1875,120.7656 403.7969,119.8594 Q404.4219,118.9375 404.4219,116.7656 Q404.4219,114.5938 403.7969,113.6875 Q403.1875,112.7813 401.75,112.7813 L401.0938,112.7813 Z M398.6406,110.5781 L401.2656,110.5781 Q404.2969,110.5781 405.625,112.0313 Q406.9688,113.4688 406.9688,116.7656 Q406.9688,120.0625 405.625,121.5156 Q404.2969,122.9688 401.2656,122.9688 L398.6406,122.9688 L398.6406,110.5781 Z \"/><text fill=\"#000000\" font-family=\"sans-serif\" font-size=\"12\" font-style=\"italic\" lengthAdjust=\"spacingAndGlyphs\" textLength=\"93\" x=\"413.5\" y=\"114.1387\">«attribute def»</text><text fill=\"#000000\" font-family=\"sans-serif\" font-size=\"12\" lengthAdjust=\"spacingAndGlyphs\" textLength=\"22\" x=\"449\" y=\"128.1074\">Exit</text><line style=\"stroke: #A80036; stroke-width: 1.5;\" x1=\"387.5\" x2=\"506.5\" y1=\"135.9375\" y2=\"135.9375\"/></a><!--MD5=[ebbe1d658d1005bcc118a6aa81145e00]\n",
       "class E4--><a href=\"psysml:4710131f-7c31-45d9-a6fe-10a60fc8490a\" target=\"_top\" title=\"psysml:4710131f-7c31-45d9-a6fe-10a60fc8490a\" xlink:actuate=\"onRequest\" xlink:href=\"psysml:4710131f-7c31-45d9-a6fe-10a60fc8490a\" xlink:show=\"new\" xlink:title=\"psysml:4710131f-7c31-45d9-a6fe-10a60fc8490a\" xlink:type=\"simple\"><rect fill=\"#FEFECE\" filter=\"url(#f1etan0ukkywfg)\" height=\"45.9375\" id=\"E4\" rx=\"10\" ry=\"10\" style=\"stroke: #A80036; stroke-width: 1.5;\" width=\"68\" x=\"283\" y=\"98\"/><ellipse cx=\"298\" cy=\"116.9688\" fill=\"#32CD32\" rx=\"11\" ry=\"11\" style=\"stroke: #A80036; stroke-width: 1.0;\"/><path d=\"M297.7969,112.6406 L297.7969,116.2656 L298.7969,116.2656 Q300,116.2656 300.4844,115.8594 Q300.9688,115.4531 300.9688,114.4531 Q300.9688,113.4531 300.4844,113.0469 Q300,112.6406 298.7969,112.6406 L297.7969,112.6406 Z M295.3438,110.5781 L298.7031,110.5781 Q301.2656,110.5781 302.3906,111.5 Q303.5156,112.4063 303.5156,114.4531 Q303.5156,116.5 302.3906,117.4219 Q301.2656,118.3281 298.7031,118.3281 L297.7969,118.3281 L297.7969,122.9688 L295.3438,122.9688 L295.3438,110.5781 Z \"/><text fill=\"#000000\" font-family=\"sans-serif\" font-size=\"12\" font-style=\"italic\" lengthAdjust=\"spacingAndGlyphs\" textLength=\"40\" x=\"310\" y=\"114.1387\">«part»</text><text fill=\"#000000\" font-family=\"sans-serif\" font-size=\"12\" lengthAdjust=\"spacingAndGlyphs\" textLength=\"8\" x=\"326\" y=\"128.1074\">p</text><line style=\"stroke: #A80036; stroke-width: 1.5;\" x1=\"284\" x2=\"350\" y1=\"135.9375\" y2=\"135.9375\"/></a><!--MD5=[270fce915f116d4de14055a7c1d9a0f3]\n",
       "class E5--><a href=\"psysml:0b92cdb5-3694-4434-adff-e0b2149bd4e6\" target=\"_top\" title=\"psysml:0b92cdb5-3694-4434-adff-e0b2149bd4e6\" xlink:actuate=\"onRequest\" xlink:href=\"psysml:0b92cdb5-3694-4434-adff-e0b2149bd4e6\" xlink:show=\"new\" xlink:title=\"psysml:0b92cdb5-3694-4434-adff-e0b2149bd4e6\" xlink:type=\"simple\"><rect fill=\"#FEFECE\" filter=\"url(#f1etan0ukkywfg)\" height=\"45.9375\" id=\"E5\" rx=\"10\" ry=\"10\" style=\"stroke: #A80036; stroke-width: 1.5;\" width=\"81\" x=\"166.5\" y=\"98\"/><ellipse cx=\"181.5\" cy=\"116.9688\" fill=\"#FFA500\" rx=\"11\" ry=\"11\" style=\"stroke: #A80036; stroke-width: 1.0;\"/><path d=\"M177.375,118.8906 L177.375,111.0781 L179.8281,111.0781 L179.8281,119.5156 Q179.8281,120.4375 180.2969,120.9688 Q180.7813,121.5 181.6094,121.5 Q182.4531,121.5 182.9219,120.9688 Q183.3906,120.4375 183.3906,119.5156 L183.3906,111.0781 L185.8438,111.0781 L185.8438,118.8906 Q185.8438,121.4219 184.8438,122.5625 Q183.8438,123.7031 181.6094,123.7031 Q179.3906,123.7031 178.375,122.5625 Q177.375,121.4219 177.375,118.8906 Z \"/><text fill=\"#000000\" font-family=\"sans-serif\" font-size=\"12\" font-style=\"italic\" lengthAdjust=\"spacingAndGlyphs\" textLength=\"53\" x=\"193.5\" y=\"114.1387\">«action»</text><text fill=\"#000000\" font-family=\"sans-serif\" font-size=\"12\" lengthAdjust=\"spacingAndGlyphs\" textLength=\"20\" x=\"210\" y=\"128.1074\">act</text><line style=\"stroke: #A80036; stroke-width: 1.5;\" x1=\"167.5\" x2=\"246.5\" y1=\"135.9375\" y2=\"135.9375\"/></a><!--MD5=[60a26617385b1d2d0262a64233df1f8d]\n",
       "class E6--><a href=\"psysml:f2a66a23-1197-47ed-b1bd-74e1ad61d6fd\" target=\"_top\" title=\"psysml:f2a66a23-1197-47ed-b1bd-74e1ad61d6fd\" xlink:actuate=\"onRequest\" xlink:href=\"psysml:f2a66a23-1197-47ed-b1bd-74e1ad61d6fd\" xlink:show=\"new\" xlink:title=\"psysml:f2a66a23-1197-47ed-b1bd-74e1ad61d6fd\" xlink:type=\"simple\"><rect fill=\"#FEFECE\" filter=\"url(#f1etan0ukkywfg)\" height=\"160.375\" id=\"E6\" style=\"stroke: #A80036; stroke-width: 1.5;\" width=\"99\" x=\"32.5\" y=\"41\"/><ellipse cx=\"47.5\" cy=\"59.9688\" fill=\"#A52A2A\" rx=\"11\" ry=\"11\" style=\"stroke: #A80036; stroke-width: 1.0;\"/><path d=\"M47.0938,55.7813 L47.0938,63.7656 L47.75,63.7656 Q49.1875,63.7656 49.7969,62.8594 Q50.4219,61.9375 50.4219,59.7656 Q50.4219,57.5938 49.7969,56.6875 Q49.1875,55.7813 47.75,55.7813 L47.0938,55.7813 Z M44.6406,53.5781 L47.2656,53.5781 Q50.2969,53.5781 51.625,55.0313 Q52.9688,56.4688 52.9688,59.7656 Q52.9688,63.0625 51.625,64.5156 Q50.2969,65.9688 47.2656,65.9688 L44.6406,65.9688 L44.6406,53.5781 Z \"/><text fill=\"#000000\" font-family=\"sans-serif\" font-size=\"12\" font-style=\"italic\" lengthAdjust=\"spacingAndGlyphs\" textLength=\"71\" x=\"59.5\" y=\"57.1387\">«state def»</text><text fill=\"#000000\" font-family=\"sans-serif\" font-size=\"12\" lengthAdjust=\"spacingAndGlyphs\" textLength=\"8\" x=\"91\" y=\"71.1074\">S</text><line style=\"stroke: #A80036; stroke-width: 1.5;\" x1=\"33.5\" x2=\"130.5\" y1=\"78.9375\" y2=\"78.9375\"/><text fill=\"#000000\" font-family=\"sans-serif\" font-size=\"11\" lengthAdjust=\"spacingAndGlyphs\" textLength=\"17\" x=\"38.5\" y=\"109.9526\">act</text><text fill=\"#000000\" font-family=\"sans-serif\" font-size=\"11\" lengthAdjust=\"spacingAndGlyphs\" textLength=\"7\" x=\"38.5\" y=\"122.7573\">A</text><text fill=\"#000000\" font-family=\"sans-serif\" font-size=\"11\" lengthAdjust=\"spacingAndGlyphs\" textLength=\"8\" x=\"38.5\" y=\"135.562\">B</text><line style=\"stroke: #A80036; stroke-width: 1.0;\" x1=\"33.5\" x2=\"38.5\" y1=\"93.3398\" y2=\"93.3398\"/><text fill=\"#000000\" font-family=\"sans-serif\" font-size=\"11\" lengthAdjust=\"spacingAndGlyphs\" textLength=\"87\" x=\"38.5\" y=\"96.6479\">performActions</text><line style=\"stroke: #A80036; stroke-width: 1.0;\" x1=\"125.5\" x2=\"130.5\" y1=\"93.3398\" y2=\"93.3398\"/><text fill=\"#000000\" font-family=\"sans-serif\" font-size=\"11\" lengthAdjust=\"spacingAndGlyphs\" textLength=\"15\" x=\"38.5\" y=\"165.1714\">S1</text><line style=\"stroke: #A80036; stroke-width: 1.0;\" x1=\"33.5\" x2=\"64\" y1=\"148.5586\" y2=\"148.5586\"/><text fill=\"#000000\" font-family=\"sans-serif\" font-size=\"11\" lengthAdjust=\"spacingAndGlyphs\" textLength=\"36\" x=\"64\" y=\"151.8667\">states</text><line style=\"stroke: #A80036; stroke-width: 1.0;\" x1=\"100\" x2=\"130.5\" y1=\"148.5586\" y2=\"148.5586\"/><text fill=\"#000000\" font-family=\"sans-serif\" font-size=\"11\" lengthAdjust=\"spacingAndGlyphs\" textLength=\"7\" x=\"38.5\" y=\"194.7808\">T</text><line style=\"stroke: #A80036; stroke-width: 1.0;\" x1=\"33.5\" x2=\"51.5\" y1=\"178.168\" y2=\"178.168\"/><text fill=\"#000000\" font-family=\"sans-serif\" font-size=\"11\" lengthAdjust=\"spacingAndGlyphs\" textLength=\"61\" x=\"51.5\" y=\"181.4761\">transitions</text><line style=\"stroke: #A80036; stroke-width: 1.0;\" x1=\"112.5\" x2=\"130.5\" y1=\"178.168\" y2=\"178.168\"/></a><!--MD5=[1dd1bfd58a279cf63c5f349dbc8fc6a1]\n",
       "class E11--><a href=\"psysml:f6369ddf-93b2-4791-a9ee-7d090a7e6258\" target=\"_top\" title=\"psysml:f6369ddf-93b2-4791-a9ee-7d090a7e6258\" xlink:actuate=\"onRequest\" xlink:href=\"psysml:f6369ddf-93b2-4791-a9ee-7d090a7e6258\" xlink:show=\"new\" xlink:title=\"psysml:f6369ddf-93b2-4791-a9ee-7d090a7e6258\" xlink:type=\"simple\"><rect fill=\"#FEFECE\" filter=\"url(#f1etan0ukkywfg)\" height=\"75.5469\" id=\"E11\" rx=\"10\" ry=\"10\" style=\"stroke: #A80036; stroke-width: 1.5;\" width=\"77\" x=\"43.5\" y=\"261\"/><ellipse cx=\"59.4\" cy=\"279.9688\" fill=\"#FFA500\" rx=\"11\" ry=\"11\" style=\"stroke: #A80036; stroke-width: 1.0;\"/><path d=\"M55.275,281.8906 L55.275,274.0781 L57.7281,274.0781 L57.7281,282.5156 Q57.7281,283.4375 58.1969,283.9688 Q58.6813,284.5 59.5094,284.5 Q60.3531,284.5 60.8219,283.9688 Q61.2906,283.4375 61.2906,282.5156 L61.2906,274.0781 L63.7438,274.0781 L63.7438,281.8906 Q63.7438,284.4219 62.7438,285.5625 Q61.7438,286.7031 59.5094,286.7031 Q57.2906,286.7031 56.275,285.5625 Q55.275,284.4219 55.275,281.8906 Z \"/><text fill=\"#000000\" font-family=\"sans-serif\" font-size=\"12\" font-style=\"italic\" lengthAdjust=\"spacingAndGlyphs\" textLength=\"47\" x=\"71.6\" y=\"277.1387\">«state»</text><text fill=\"#000000\" font-family=\"sans-serif\" font-size=\"12\" lengthAdjust=\"spacingAndGlyphs\" textLength=\"16\" x=\"87.1\" y=\"291.1074\">S2</text><line style=\"stroke: #A80036; stroke-width: 1.5;\" x1=\"44.5\" x2=\"119.5\" y1=\"298.9375\" y2=\"298.9375\"/><text fill=\"#000000\" font-family=\"sans-serif\" font-size=\"11\" lengthAdjust=\"spacingAndGlyphs\" textLength=\"48\" x=\"49.5\" y=\"329.9526\">doAction</text><line style=\"stroke: #A80036; stroke-width: 1.0;\" x1=\"44.5\" x2=\"47.5\" y1=\"313.3398\" y2=\"313.3398\"/><text fill=\"#000000\" font-family=\"sans-serif\" font-size=\"11\" lengthAdjust=\"spacingAndGlyphs\" textLength=\"69\" x=\"47.5\" y=\"316.6479\">sendActions</text><line style=\"stroke: #A80036; stroke-width: 1.0;\" x1=\"116.5\" x2=\"119.5\" y1=\"313.3398\" y2=\"313.3398\"/></a><!--MD5=[1f5f03483f7de0d5b3680a7f6650997f]\n",
       "reverse link E6 to E11--><a href=\"psysml:247e0169-6466-401b-83f0-032a7b21c539\" target=\"_top\" title=\"psysml:247e0169-6466-401b-83f0-032a7b21c539\" xlink:actuate=\"onRequest\" xlink:href=\"psysml:247e0169-6466-401b-83f0-032a7b21c539\" xlink:show=\"new\" xlink:title=\"psysml:247e0169-6466-401b-83f0-032a7b21c539\" xlink:type=\"simple\"><path d=\"M82,214.46 C82,230.92 82,247.18 82,260.92 \" fill=\"none\" id=\"E6&lt;-E11\" style=\"stroke: #A80036; stroke-width: 1.0;\"/><polygon fill=\"#A80036\" points=\"82,201.25,78,207.25,82,213.25,86,207.25,82,201.25\" style=\"stroke: #A80036; stroke-width: 1.0;\"/></a><!--MD5=[5c55736f13f1e7c7f837640619d9173d]\n",
       "@startuml\r\n",
       " \r\n",
       "package \"StateTest\" as E1  [[psysml:800f45c9-cf5c-46ce-b3c3-487778cd6319 ]]  {\r\n",
       "comp def \"Sig\" as E2  <<(D,brown)attribute def>> [[psysml:f1048496-f45f-4de3-be42-17169da36fba ]] {\r\n",
       "x\r\n",
       "}\r\n",
       "comp def \"Exit\" as E3  <<(D,brown)attribute def>> [[psysml:546c6a0a-79ca-4224-b50a-77e407cae485 ]] {\r\n",
       "}\r\n",
       "comp usage \"p\" as E4  << (P,limegreen) part>> [[psysml:4710131f-7c31-45d9-a6fe-10a60fc8490a ]] {\r\n",
       "}\r\n",
       "comp usage \"act\" as E5  <<(U,orange)action>> [[psysml:0b92cdb5-3694-4434-adff-e0b2149bd4e6 ]] {\r\n",
       "}\r\n",
       "comp def \"S\" as E6  <<(D,brown)state def>> [[psysml:f2a66a23-1197-47ed-b1bd-74e1ad61d6fd ]] {\r\n",
       "- - performActions - -\r\n",
       "act\r\n",
       "A\r\n",
       "B\r\n",
       "- - states - -\r\n",
       "S1\r\n",
       "- - transitions - -\r\n",
       "T\r\n",
       "}\r\n",
       "comp usage \"S2\" as E11  <<(U,orange)state>> [[psysml:f6369ddf-93b2-4791-a9ee-7d090a7e6258 ]] {\r\n",
       "- - sendActions - -\r\n",
       "doAction\r\n",
       "}\r\n",
       "E6 *- - E11 [[psysml:247e0169-6466-401b-83f0-032a7b21c539 ]] \r\n",
       "}\r\n",
       "@enduml\r\n",
       "\n",
       "PlantUML version 1.2020.13(Sat Jun 13 12:26:38 UTC 2020)\n",
       "(EPL source distribution)\n",
       "Java Runtime: OpenJDK Runtime Environment\n",
       "JVM: OpenJDK 64-Bit Server VM\n",
       "Default Encoding: UTF-8\n",
       "Language: en\n",
       "Country: null\n",
       "--></g></svg>"
      ]
     },
     "execution_count": 35,
     "metadata": {},
     "output_type": "execute_result"
    }
   ],
   "source": [
    "%viz --style=\"PLANTUML\" --view=\"Sequence\" \"StateTest\""
   ]
  },
  {
   "cell_type": "code",
   "execution_count": 36,
   "id": "0d94a837",
   "metadata": {
    "execution": {
     "iopub.execute_input": "2021-04-21T20:23:44.440140Z",
     "iopub.status.busy": "2021-04-21T20:23:44.439742Z",
     "iopub.status.idle": "2021-04-21T20:23:44.498611Z",
     "shell.execute_reply": "2021-04-21T20:23:44.496456Z"
    }
   },
   "outputs": [
    {
     "data": {
      "image/svg+xml": [
       "<?xml version=\"1.0\" encoding=\"UTF-8\" standalone=\"no\"?><svg xmlns=\"http://www.w3.org/2000/svg\" xmlns:xlink=\"http://www.w3.org/1999/xlink\" contentScriptType=\"application/ecmascript\" contentStyleType=\"text/css\" height=\"569px\" preserveAspectRatio=\"none\" style=\"width:923px;height:569px;\" version=\"1.1\" viewBox=\"0 0 923 569\" width=\"923px\" zoomAndPan=\"magnify\"><defs><filter height=\"300%\" id=\"f1hnn71v8c84t4\" width=\"300%\" x=\"-1\" y=\"-1\"><feGaussianBlur result=\"blurOut\" stdDeviation=\"2.0\"/><feColorMatrix in=\"blurOut\" result=\"blurOut2\" type=\"matrix\" values=\"0 0 0 0 0 0 0 0 0 0 0 0 0 0 0 0 0 0 .4 0\"/><feOffset dx=\"4.0\" dy=\"4.0\" in=\"blurOut2\" result=\"blurOut3\"/><feBlend in=\"SourceGraphic\" in2=\"blurOut3\" mode=\"normal\"/></filter></defs><g><!--MD5=[fbc87193dbaf4d95561dea2c320d4a47]\n",
       "cluster E1--><a href=\"psysml:800f45c9-cf5c-46ce-b3c3-487778cd6319\" target=\"_top\" title=\"psysml:800f45c9-cf5c-46ce-b3c3-487778cd6319\" xlink:actuate=\"onRequest\" xlink:href=\"psysml:800f45c9-cf5c-46ce-b3c3-487778cd6319\" xlink:show=\"new\" xlink:title=\"psysml:800f45c9-cf5c-46ce-b3c3-487778cd6319\" xlink:type=\"simple\"><polygon fill=\"#FFFFFF\" filter=\"url(#f1hnn71v8c84t4)\" points=\"16,6,98,6,105,28.2969,901,28.2969,901,557.5,16,557.5,16,6\" style=\"stroke: #000000; stroke-width: 1.5;\"/><line style=\"stroke: #000000; stroke-width: 1.5;\" x1=\"16\" x2=\"105\" y1=\"28.2969\" y2=\"28.2969\"/><text fill=\"#000000\" font-family=\"sans-serif\" font-size=\"14\" font-weight=\"bold\" lengthAdjust=\"spacingAndGlyphs\" textLength=\"76\" x=\"20\" y=\"20.9951\">StateTest</text></a><!--MD5=[14e3b0961a2654348d326746436168a1]\n",
       "cluster E6--><a href=\"psysml:f2a66a23-1197-47ed-b1bd-74e1ad61d6fd\" target=\"_top\" title=\"psysml:f2a66a23-1197-47ed-b1bd-74e1ad61d6fd\" xlink:actuate=\"onRequest\" xlink:href=\"psysml:f2a66a23-1197-47ed-b1bd-74e1ad61d6fd\" xlink:show=\"new\" xlink:title=\"psysml:f2a66a23-1197-47ed-b1bd-74e1ad61d6fd\" xlink:type=\"simple\"><rect fill=\"#FFFFFF\" filter=\"url(#f1hnn71v8c84t4)\" height=\"484.5\" id=\"E6\" style=\"stroke: #A80036; stroke-width: 1.5;\" width=\"327\" x=\"550\" y=\"49\"/><rect fill=\"#FEFECE\" height=\"37.9375\" style=\"stroke: #A80036; stroke-width: 1.5;\" width=\"327\" x=\"550\" y=\"49\"/><text fill=\"#000000\" font-family=\"sans-serif\" font-size=\"12\" font-style=\"italic\" lengthAdjust=\"spacingAndGlyphs\" textLength=\"71\" x=\"678\" y=\"65.1387\">«state def»</text><text fill=\"#000000\" font-family=\"sans-serif\" font-size=\"12\" lengthAdjust=\"spacingAndGlyphs\" textLength=\"8\" x=\"709.5\" y=\"79.1074\">S</text><line style=\"stroke: #A80036; stroke-width: 1.0;\" x1=\"550\" x2=\"877\" y1=\"132.8438\" y2=\"132.8438\"/><text fill=\"#000000\" font-family=\"sans-serif\" font-size=\"12\" font-weight=\"bold\" lengthAdjust=\"spacingAndGlyphs\" textLength=\"38\" x=\"555\" y=\"100.0762\">entry</text><text fill=\"#000000\" font-family=\"sans-serif\" font-size=\"12\" lengthAdjust=\"spacingAndGlyphs\" textLength=\"16\" x=\"593\" y=\"100.0762\">/ A</text><text fill=\"#000000\" font-family=\"sans-serif\" font-size=\"12\" font-weight=\"bold\" lengthAdjust=\"spacingAndGlyphs\" textLength=\"18\" x=\"555\" y=\"114.0449\">do</text><text fill=\"#000000\" font-family=\"sans-serif\" font-size=\"12\" lengthAdjust=\"spacingAndGlyphs\" textLength=\"16\" x=\"573\" y=\"114.0449\">/ B</text><text fill=\"#000000\" font-family=\"sans-serif\" font-size=\"12\" font-weight=\"bold\" lengthAdjust=\"spacingAndGlyphs\" textLength=\"26\" x=\"555\" y=\"128.0137\">exit</text><text fill=\"#000000\" font-family=\"sans-serif\" font-size=\"12\" lengthAdjust=\"spacingAndGlyphs\" textLength=\"28\" x=\"581\" y=\"128.0137\">/ act</text></a><!--MD5=[b4997ac47864f28c2f74865a473b2911]\n",
       "class E2--><a href=\"psysml:f1048496-f45f-4de3-be42-17169da36fba\" target=\"_top\" title=\"psysml:f1048496-f45f-4de3-be42-17169da36fba\" xlink:actuate=\"onRequest\" xlink:href=\"psysml:f1048496-f45f-4de3-be42-17169da36fba\" xlink:show=\"new\" xlink:title=\"psysml:f1048496-f45f-4de3-be42-17169da36fba\" xlink:type=\"simple\"><rect fill=\"#FEFECE\" filter=\"url(#f1hnn71v8c84t4)\" height=\"58.7422\" id=\"E2\" style=\"stroke: #A80036; stroke-width: 1.5;\" width=\"121\" x=\"412.5\" y=\"127.5\"/><ellipse cx=\"427.5\" cy=\"146.4688\" fill=\"#A52A2A\" rx=\"11\" ry=\"11\" style=\"stroke: #A80036; stroke-width: 1.0;\"/><path d=\"M427.0938,142.2813 L427.0938,150.2656 L427.75,150.2656 Q429.1875,150.2656 429.7969,149.3594 Q430.4219,148.4375 430.4219,146.2656 Q430.4219,144.0938 429.7969,143.1875 Q429.1875,142.2813 427.75,142.2813 L427.0938,142.2813 Z M424.6406,140.0781 L427.2656,140.0781 Q430.2969,140.0781 431.625,141.5313 Q432.9688,142.9688 432.9688,146.2656 Q432.9688,149.5625 431.625,151.0156 Q430.2969,152.4688 427.2656,152.4688 L424.6406,152.4688 L424.6406,140.0781 Z \"/><text fill=\"#000000\" font-family=\"sans-serif\" font-size=\"12\" font-style=\"italic\" lengthAdjust=\"spacingAndGlyphs\" textLength=\"93\" x=\"439.5\" y=\"143.6387\">«attribute def»</text><text fill=\"#000000\" font-family=\"sans-serif\" font-size=\"12\" lengthAdjust=\"spacingAndGlyphs\" textLength=\"19\" x=\"476.5\" y=\"157.6074\">Sig</text><line style=\"stroke: #A80036; stroke-width: 1.5;\" x1=\"413.5\" x2=\"532.5\" y1=\"165.4375\" y2=\"165.4375\"/><text fill=\"#000000\" font-family=\"sans-serif\" font-size=\"11\" lengthAdjust=\"spacingAndGlyphs\" textLength=\"6\" x=\"418.5\" y=\"179.6479\">x</text></a><!--MD5=[09b614a08d8cba4a07c9adeb5e0fee81]\n",
       "class E3--><a href=\"psysml:546c6a0a-79ca-4224-b50a-77e407cae485\" target=\"_top\" title=\"psysml:546c6a0a-79ca-4224-b50a-77e407cae485\" xlink:actuate=\"onRequest\" xlink:href=\"psysml:546c6a0a-79ca-4224-b50a-77e407cae485\" xlink:show=\"new\" xlink:title=\"psysml:546c6a0a-79ca-4224-b50a-77e407cae485\" xlink:type=\"simple\"><rect fill=\"#FEFECE\" filter=\"url(#f1hnn71v8c84t4)\" height=\"45.9375\" id=\"E3\" style=\"stroke: #A80036; stroke-width: 1.5;\" width=\"121\" x=\"256.5\" y=\"134\"/><ellipse cx=\"271.5\" cy=\"152.9688\" fill=\"#A52A2A\" rx=\"11\" ry=\"11\" style=\"stroke: #A80036; stroke-width: 1.0;\"/><path d=\"M271.0938,148.7813 L271.0938,156.7656 L271.75,156.7656 Q273.1875,156.7656 273.7969,155.8594 Q274.4219,154.9375 274.4219,152.7656 Q274.4219,150.5938 273.7969,149.6875 Q273.1875,148.7813 271.75,148.7813 L271.0938,148.7813 Z M268.6406,146.5781 L271.2656,146.5781 Q274.2969,146.5781 275.625,148.0313 Q276.9688,149.4688 276.9688,152.7656 Q276.9688,156.0625 275.625,157.5156 Q274.2969,158.9688 271.2656,158.9688 L268.6406,158.9688 L268.6406,146.5781 Z \"/><text fill=\"#000000\" font-family=\"sans-serif\" font-size=\"12\" font-style=\"italic\" lengthAdjust=\"spacingAndGlyphs\" textLength=\"93\" x=\"283.5\" y=\"150.1387\">«attribute def»</text><text fill=\"#000000\" font-family=\"sans-serif\" font-size=\"12\" lengthAdjust=\"spacingAndGlyphs\" textLength=\"22\" x=\"319\" y=\"164.1074\">Exit</text><line style=\"stroke: #A80036; stroke-width: 1.5;\" x1=\"257.5\" x2=\"376.5\" y1=\"171.9375\" y2=\"171.9375\"/></a><!--MD5=[ebbe1d658d1005bcc118a6aa81145e00]\n",
       "class E4--><a href=\"psysml:4710131f-7c31-45d9-a6fe-10a60fc8490a\" target=\"_top\" title=\"psysml:4710131f-7c31-45d9-a6fe-10a60fc8490a\" xlink:actuate=\"onRequest\" xlink:href=\"psysml:4710131f-7c31-45d9-a6fe-10a60fc8490a\" xlink:show=\"new\" xlink:title=\"psysml:4710131f-7c31-45d9-a6fe-10a60fc8490a\" xlink:type=\"simple\"><rect fill=\"#FEFECE\" filter=\"url(#f1hnn71v8c84t4)\" height=\"45.9375\" id=\"E4\" rx=\"10\" ry=\"10\" style=\"stroke: #A80036; stroke-width: 1.5;\" width=\"68\" x=\"153\" y=\"134\"/><ellipse cx=\"168\" cy=\"152.9688\" fill=\"#32CD32\" rx=\"11\" ry=\"11\" style=\"stroke: #A80036; stroke-width: 1.0;\"/><path d=\"M167.7969,148.6406 L167.7969,152.2656 L168.7969,152.2656 Q170,152.2656 170.4844,151.8594 Q170.9688,151.4531 170.9688,150.4531 Q170.9688,149.4531 170.4844,149.0469 Q170,148.6406 168.7969,148.6406 L167.7969,148.6406 Z M165.3438,146.5781 L168.7031,146.5781 Q171.2656,146.5781 172.3906,147.5 Q173.5156,148.4063 173.5156,150.4531 Q173.5156,152.5 172.3906,153.4219 Q171.2656,154.3281 168.7031,154.3281 L167.7969,154.3281 L167.7969,158.9688 L165.3438,158.9688 L165.3438,146.5781 Z \"/><text fill=\"#000000\" font-family=\"sans-serif\" font-size=\"12\" font-style=\"italic\" lengthAdjust=\"spacingAndGlyphs\" textLength=\"40\" x=\"180\" y=\"150.1387\">«part»</text><text fill=\"#000000\" font-family=\"sans-serif\" font-size=\"12\" lengthAdjust=\"spacingAndGlyphs\" textLength=\"8\" x=\"196\" y=\"164.1074\">p</text><line style=\"stroke: #A80036; stroke-width: 1.5;\" x1=\"154\" x2=\"220\" y1=\"171.9375\" y2=\"171.9375\"/></a><g id=\"E1.E5\"><a href=\"psysml:0b92cdb5-3694-4434-adff-e0b2149bd4e6\" target=\"_top\" title=\"psysml:0b92cdb5-3694-4434-adff-e0b2149bd4e6\" xlink:actuate=\"onRequest\" xlink:href=\"psysml:0b92cdb5-3694-4434-adff-e0b2149bd4e6\" xlink:show=\"new\" xlink:title=\"psysml:0b92cdb5-3694-4434-adff-e0b2149bd4e6\" xlink:type=\"simple\"><rect fill=\"#FEFECE\" filter=\"url(#f1hnn71v8c84t4)\" height=\"42.9375\" id=\"E5\" rx=\"10\" ry=\"10\" style=\"stroke: #A80036; stroke-width: 1.5;\" width=\"86\" x=\"32\" y=\"135.5\"/><ellipse cx=\"49.25\" cy=\"154.4688\" fill=\"#FFA500\" rx=\"11\" ry=\"11\" style=\"stroke: #A80036; stroke-width: 1.0;\"/><path d=\"M45.125,156.3906 L45.125,148.5781 L47.5781,148.5781 L47.5781,157.0156 Q47.5781,157.9375 48.0469,158.4688 Q48.5313,159 49.3594,159 Q50.2031,159 50.6719,158.4688 Q51.1406,157.9375 51.1406,157.0156 L51.1406,148.5781 L53.5938,148.5781 L53.5938,156.3906 Q53.5938,158.9219 52.5938,160.0625 Q51.5938,161.2031 49.3594,161.2031 Q47.1406,161.2031 46.125,160.0625 Q45.125,158.9219 45.125,156.3906 Z \"/><text fill=\"#000000\" font-family=\"sans-serif\" font-size=\"12\" font-style=\"italic\" lengthAdjust=\"spacingAndGlyphs\" textLength=\"53\" x=\"61.75\" y=\"151.6387\">«action»</text><text fill=\"#000000\" font-family=\"sans-serif\" font-size=\"12\" lengthAdjust=\"spacingAndGlyphs\" textLength=\"20\" x=\"78.25\" y=\"165.6074\">act</text></a></g><ellipse cx=\"662\" cy=\"157\" fill=\"#000000\" filter=\"url(#f1hnn71v8c84t4)\" rx=\"10\" ry=\"10\" style=\"stroke: none; stroke-width: 1.0;\"/><ellipse cx=\"687\" cy=\"507.5\" fill=\"none\" filter=\"url(#f1hnn71v8c84t4)\" rx=\"10\" ry=\"10\" style=\"stroke: #000000; stroke-width: 1.0;\"/><ellipse cx=\"687.5\" cy=\"508\" fill=\"#000000\" rx=\"6\" ry=\"6\" style=\"stroke: none; stroke-width: 1.0;\"/><g id=\"E1.E6.E7\"><a href=\"psysml:0ffea2c5-2698-4589-991c-94f7ac5b0395\" target=\"_top\" title=\"psysml:0ffea2c5-2698-4589-991c-94f7ac5b0395\" xlink:actuate=\"onRequest\" xlink:href=\"psysml:0ffea2c5-2698-4589-991c-94f7ac5b0395\" xlink:show=\"new\" xlink:title=\"psysml:0ffea2c5-2698-4589-991c-94f7ac5b0395\" xlink:type=\"simple\"><rect fill=\"#FEFECE\" filter=\"url(#f1hnn71v8c84t4)\" height=\"40\" id=\"E7\" rx=\"10\" ry=\"10\" style=\"stroke: #A80036; stroke-width: 1.5;\" width=\"53\" x=\"635.5\" y=\"247.5\"/><ellipse cx=\"652.75\" cy=\"263.5\" fill=\"#B6DBBB\" rx=\"11\" ry=\"11\" style=\"stroke: #A80036; stroke-width: 1.0;\"/><path d=\"M648.625,265.4219 L648.625,257.6094 L651.0781,257.6094 L651.0781,266.0469 Q651.0781,266.9688 651.5469,267.5 Q652.0313,268.0313 652.8594,268.0313 Q653.7031,268.0313 654.1719,267.5 Q654.6406,266.9688 654.6406,266.0469 L654.6406,257.6094 L657.0938,257.6094 L657.0938,265.4219 Q657.0938,267.9531 656.0938,269.0938 Q655.0938,270.2344 652.8594,270.2344 Q650.6406,270.2344 649.625,269.0938 Q648.625,267.9531 648.625,265.4219 Z \"/><text fill=\"#000000\" font-family=\"sans-serif\" font-size=\"12\" lengthAdjust=\"spacingAndGlyphs\" textLength=\"16\" x=\"667.25\" y=\"267.6543\">S1</text></a></g><g id=\"E1.E6.E8\"><a href=\"psysml:f6369ddf-93b2-4791-a9ee-7d090a7e6258\" target=\"_top\" title=\"psysml:f6369ddf-93b2-4791-a9ee-7d090a7e6258\" xlink:actuate=\"onRequest\" xlink:href=\"psysml:f6369ddf-93b2-4791-a9ee-7d090a7e6258\" xlink:show=\"new\" xlink:title=\"psysml:f6369ddf-93b2-4791-a9ee-7d090a7e6258\" xlink:type=\"simple\"><rect fill=\"#FEFECE\" filter=\"url(#f1hnn71v8c84t4)\" height=\"55.9688\" id=\"E8\" rx=\"10\" ry=\"10\" style=\"stroke: #A80036; stroke-width: 1.5;\" width=\"169\" x=\"602.5\" y=\"364.5\"/><ellipse cx=\"674.75\" cy=\"380.5\" fill=\"#B6DBBB\" rx=\"11\" ry=\"11\" style=\"stroke: #A80036; stroke-width: 1.0;\"/><path d=\"M670.625,382.4219 L670.625,374.6094 L673.0781,374.6094 L673.0781,383.0469 Q673.0781,383.9688 673.5469,384.5 Q674.0313,385.0313 674.8594,385.0313 Q675.7031,385.0313 676.1719,384.5 Q676.6406,383.9688 676.6406,383.0469 L676.6406,374.6094 L679.0938,374.6094 L679.0938,382.4219 Q679.0938,384.9531 678.0938,386.0938 Q677.0938,387.2344 674.8594,387.2344 Q672.6406,387.2344 671.625,386.0938 Q670.625,384.9531 670.625,382.4219 Z \"/><text fill=\"#000000\" font-family=\"sans-serif\" font-size=\"12\" lengthAdjust=\"spacingAndGlyphs\" textLength=\"16\" x=\"695.25\" y=\"384.6543\">S2</text><line style=\"stroke: #A80036; stroke-width: 1.0;\" x1=\"602.5\" x2=\"771.5\" y1=\"396.5\" y2=\"396.5\"/><text fill=\"#000000\" font-family=\"sans-serif\" font-size=\"12\" font-weight=\"bold\" lengthAdjust=\"spacingAndGlyphs\" textLength=\"18\" x=\"607.5\" y=\"409.6387\">do</text><text fill=\"#000000\" font-family=\"sans-serif\" font-size=\"12\" lengthAdjust=\"spacingAndGlyphs\" textLength=\"141\" x=\"625.5\" y=\"409.6387\">/  send Sig(T::s::x) to p</text></a></g><!--MD5=[5a531d3a85f3339e6e197084acb48195]\n",
       "link *start*E6 to E7--><a href=\"psysml:3d6f6111-a5f0-4f07-bf0a-543b5052b3c3\" target=\"_top\" title=\"psysml:3d6f6111-a5f0-4f07-bf0a-543b5052b3c3\" xlink:actuate=\"onRequest\" xlink:href=\"psysml:3d6f6111-a5f0-4f07-bf0a-543b5052b3c3\" xlink:show=\"new\" xlink:title=\"psysml:3d6f6111-a5f0-4f07-bf0a-543b5052b3c3\" xlink:type=\"simple\"><path d=\"M662,167.25 C662,183.64 662,218.28 662,241.97 \" fill=\"none\" id=\"*start*E6-&gt;E7\" style=\"stroke: #A80036; stroke-width: 1.0;\"/><polygon fill=\"#A80036\" points=\"662,247.15,666,238.15,662,242.15,658,238.15,662,247.15\" style=\"stroke: #A80036; stroke-width: 1.0;\"/></a><!--MD5=[7ec9a8babba89ddcae1318ca9fb3c814]\n",
       "link E8 to *end*E6--><a href=\"psysml:374875bf-0004-40f7-bedc-1374d527cde5\" target=\"_top\" title=\"psysml:374875bf-0004-40f7-bedc-1374d527cde5\" xlink:actuate=\"onRequest\" xlink:href=\"psysml:374875bf-0004-40f7-bedc-1374d527cde5\" xlink:show=\"new\" xlink:title=\"psysml:374875bf-0004-40f7-bedc-1374d527cde5\" xlink:type=\"simple\"><path d=\"M687,420.57 C687,443.05 687,474.17 687,492.13 \" fill=\"none\" id=\"E8-&gt;*end*E6\" style=\"stroke: #A80036; stroke-width: 1.0;\"/><polygon fill=\"#A80036\" points=\"687,497.26,691,488.26,687,492.26,683,488.26,687,497.26\" style=\"stroke: #A80036; stroke-width: 1.0;\"/><text fill=\"#000000\" font-family=\"sans-serif\" font-size=\"13\" lengthAdjust=\"spacingAndGlyphs\" textLength=\"23\" x=\"688\" y=\"463.5669\">Exit</text></a><!--MD5=[79bc8f324ef4d02c541433f2e6e513c3]\n",
       "link E7 to E8--><a href=\"psysml:69f1494c-077d-4519-8343-87cce73be713\" target=\"_top\" title=\"psysml:69f1494c-077d-4519-8343-87cce73be713\" xlink:actuate=\"onRequest\" xlink:href=\"psysml:69f1494c-077d-4519-8343-87cce73be713\" xlink:show=\"new\" xlink:title=\"psysml:69f1494c-077d-4519-8343-87cce73be713\" xlink:type=\"simple\"><path d=\"M635.29,280.61 C612.77,292.67 585.97,312.52 598,334.5 C603.78,345.06 612.44,353.96 622.13,361.34 \" fill=\"none\" id=\"E7-&gt;E8\" style=\"stroke: #A80036; stroke-width: 1.0;\"/><polygon fill=\"#A80036\" points=\"626.35,364.42,621.4276,355.8894,622.3076,361.4774,616.7196,362.3574,626.35,364.42\" style=\"stroke: #A80036; stroke-width: 1.0;\"/><text fill=\"#000000\" font-family=\"sans-serif\" font-size=\"13\" lengthAdjust=\"spacingAndGlyphs\" textLength=\"81\" x=\"599\" y=\"330.5669\">Sig /action D</text></a><!--MD5=[bfa3c8b0d15052fdf50ae9310b491027]\n",
       "link E8 to E7--><a href=\"psysml:f8d53726-bfe5-4353-91f3-ae2ef06d9a38\" target=\"_top\" title=\"psysml:f8d53726-bfe5-4353-91f3-ae2ef06d9a38\" xlink:actuate=\"onRequest\" xlink:href=\"psysml:f8d53726-bfe5-4353-91f3-ae2ef06d9a38\" xlink:show=\"new\" xlink:title=\"psysml:f8d53726-bfe5-4353-91f3-ae2ef06d9a38\" xlink:type=\"simple\"><path d=\"M688.9,364.44 C689.24,350.28 688.62,332.76 685,317.5 C682.99,309.02 679.41,300.25 675.68,292.52 \" fill=\"none\" id=\"E8-&gt;E7\" style=\"stroke: #A80036; stroke-width: 1.0;\"/><polygon fill=\"#A80036\" points=\"673.34,287.85,673.7746,297.6893,675.5703,292.325,680.9346,294.1207,673.34,287.85\" style=\"stroke: #A80036; stroke-width: 1.0;\"/><text fill=\"#000000\" font-family=\"sans-serif\" font-size=\"13\" lengthAdjust=\"spacingAndGlyphs\" textLength=\"135\" x=\"688\" y=\"330.5669\">Sig [true]/send s to p</text></a><!--MD5=[789b268a33ccf86d3f7b99088d5b0cae]\n",
       "@startuml\r\n",
       " \r\n",
       "package \"StateTest\" as E1  [[psysml:800f45c9-cf5c-46ce-b3c3-487778cd6319 ]]  {\r\n",
       "comp def \"Sig\" as E2  <<(D,brown)attribute def>> [[psysml:f1048496-f45f-4de3-be42-17169da36fba ]] {\r\n",
       "x\r\n",
       "}\r\n",
       "comp def \"Exit\" as E3  <<(D,brown)attribute def>> [[psysml:546c6a0a-79ca-4224-b50a-77e407cae485 ]] {\r\n",
       "}\r\n",
       "comp usage \"p\" as E4  << (P,limegreen) part>> [[psysml:4710131f-7c31-45d9-a6fe-10a60fc8490a ]] {\r\n",
       "}\r\n",
       "rec usage \"act\" as E5  <<(U,orange)action>> [[psysml:0b92cdb5-3694-4434-adff-e0b2149bd4e6 ]] {\r\n",
       "}\r\n",
       "\r\n",
       "rec def \"S\" as E6  <<(D,brown)state def>> [[psysml:f2a66a23-1197-47ed-b1bd-74e1ad61d6fd ]] {\r\n",
       "rec usage \"S1\" as E7 [[psysml:0ffea2c5-2698-4589-991c-94f7ac5b0395 ]] {\r\n",
       "}\r\n",
       "\r\n",
       "rec usage \"S2\" as E8 [[psysml:f6369ddf-93b2-4791-a9ee-7d090a7e6258 ]] {\r\n",
       "desc \"S2\" as E8  : **do**/  send Sig(T::s::x) to p\r\n",
       "}\r\n",
       "\r\n",
       "desc \"S\" as E6  : **entry**/ A\r\n",
       "desc \"S\" as E6  : **do**/ B\r\n",
       "desc \"S\" as E6  : **exit**/ act \r\n",
       "[*] - -> E7 [[psysml:3d6f6111-a5f0-4f07-bf0a-543b5052b3c3 ]] \r\n",
       "E8  - -> [*] [[psysml:374875bf-0004-40f7-bedc-1374d527cde5 ]] : Exit \r\n",
       "}\r\n",
       "\r\n",
       "E7  - -> E8 [[psysml:69f1494c-077d-4519-8343-87cce73be713 ]] : Sig /action D\r\n",
       "E8  - -> E7 [[psysml:f8d53726-bfe5-4353-91f3-ae2ef06d9a38 ]] : Sig [true]/send s to p\r\n",
       "}\r\n",
       "@enduml\r\n",
       "\n",
       "PlantUML version 1.2020.13(Sat Jun 13 12:26:38 UTC 2020)\n",
       "(EPL source distribution)\n",
       "Java Runtime: OpenJDK Runtime Environment\n",
       "JVM: OpenJDK 64-Bit Server VM\n",
       "Default Encoding: UTF-8\n",
       "Language: en\n",
       "Country: null\n",
       "--></g></svg>"
      ]
     },
     "execution_count": 36,
     "metadata": {},
     "output_type": "execute_result"
    }
   ],
   "source": [
    "%viz --style=\"PLANTUML\" --view=\"MIXED\" \"StateTest\""
   ]
  },
  {
   "cell_type": "code",
   "execution_count": 37,
   "id": "da30e1af",
   "metadata": {
    "execution": {
     "iopub.execute_input": "2021-04-21T20:23:44.549562Z",
     "iopub.status.busy": "2021-04-21T20:23:44.548802Z",
     "iopub.status.idle": "2021-04-21T20:23:44.594352Z",
     "shell.execute_reply": "2021-04-21T20:23:44.593935Z"
    }
   },
   "outputs": [
    {
     "data": {
      "image/svg+xml": [
       "<?xml version=\"1.0\" encoding=\"UTF-8\" standalone=\"no\"?><svg xmlns=\"http://www.w3.org/2000/svg\" xmlns:xlink=\"http://www.w3.org/1999/xlink\" contentScriptType=\"application/ecmascript\" contentStyleType=\"text/css\" height=\"570px\" preserveAspectRatio=\"none\" style=\"width:819px;height:570px;\" version=\"1.1\" viewBox=\"0 0 819 570\" width=\"819px\" zoomAndPan=\"magnify\"><defs/><g><!--MD5=[fbc87193dbaf4d95561dea2c320d4a47]\n",
       "cluster E1--><a href=\"psysml:800f45c9-cf5c-46ce-b3c3-487778cd6319\" target=\"_top\" title=\"psysml:800f45c9-cf5c-46ce-b3c3-487778cd6319\" xlink:actuate=\"onRequest\" xlink:href=\"psysml:800f45c9-cf5c-46ce-b3c3-487778cd6319\" xlink:show=\"new\" xlink:title=\"psysml:800f45c9-cf5c-46ce-b3c3-487778cd6319\" xlink:type=\"simple\"><polygon fill=\"#FFFFFF\" points=\"16,6,98,6,105,28.2969,797,28.2969,797,558,16,558,16,6\" style=\"stroke: #000000; stroke-width: 1.5;\"/><line style=\"stroke: #000000; stroke-width: 1.5;\" x1=\"16\" x2=\"105\" y1=\"28.2969\" y2=\"28.2969\"/><text fill=\"#000000\" font-family=\"sans-serif\" font-size=\"14\" font-weight=\"bold\" lengthAdjust=\"spacingAndGlyphs\" textLength=\"76\" x=\"20\" y=\"20.9951\">StateTest</text></a><!--MD5=[14e3b0961a2654348d326746436168a1]\n",
       "cluster E6--><a href=\"psysml:f2a66a23-1197-47ed-b1bd-74e1ad61d6fd\" target=\"_top\" title=\"psysml:f2a66a23-1197-47ed-b1bd-74e1ad61d6fd\" xlink:actuate=\"onRequest\" xlink:href=\"psysml:f2a66a23-1197-47ed-b1bd-74e1ad61d6fd\" xlink:show=\"new\" xlink:title=\"psysml:f2a66a23-1197-47ed-b1bd-74e1ad61d6fd\" xlink:type=\"simple\"><rect fill=\"#FFFFFF\" height=\"485\" id=\"E6\" style=\"stroke: #383838; stroke-width: 1.5;\" width=\"327\" x=\"446\" y=\"49\"/><rect fill=\"#F8F8F8\" height=\"37.9375\" style=\"stroke: #383838; stroke-width: 1.5;\" width=\"327\" x=\"446\" y=\"49\"/><text fill=\"#000000\" font-family=\"sans-serif\" font-size=\"12\" font-style=\"italic\" lengthAdjust=\"spacingAndGlyphs\" textLength=\"71\" x=\"574\" y=\"65.1387\">«state def»</text><text fill=\"#000000\" font-family=\"sans-serif\" font-size=\"12\" lengthAdjust=\"spacingAndGlyphs\" textLength=\"8\" x=\"605.5\" y=\"79.1074\">S</text><line style=\"stroke: #383838; stroke-width: 1.0;\" x1=\"446\" x2=\"773\" y1=\"132.8438\" y2=\"132.8438\"/><text fill=\"#000000\" font-family=\"sans-serif\" font-size=\"12\" font-weight=\"bold\" lengthAdjust=\"spacingAndGlyphs\" textLength=\"38\" x=\"451\" y=\"100.0762\">entry</text><text fill=\"#000000\" font-family=\"sans-serif\" font-size=\"12\" lengthAdjust=\"spacingAndGlyphs\" textLength=\"16\" x=\"489\" y=\"100.0762\">/ A</text><text fill=\"#000000\" font-family=\"sans-serif\" font-size=\"12\" font-weight=\"bold\" lengthAdjust=\"spacingAndGlyphs\" textLength=\"18\" x=\"451\" y=\"114.0449\">do</text><text fill=\"#000000\" font-family=\"sans-serif\" font-size=\"12\" lengthAdjust=\"spacingAndGlyphs\" textLength=\"16\" x=\"469\" y=\"114.0449\">/ B</text><text fill=\"#000000\" font-family=\"sans-serif\" font-size=\"12\" font-weight=\"bold\" lengthAdjust=\"spacingAndGlyphs\" textLength=\"26\" x=\"451\" y=\"128.0137\">exit</text><text fill=\"#000000\" font-family=\"sans-serif\" font-size=\"12\" lengthAdjust=\"spacingAndGlyphs\" textLength=\"28\" x=\"477\" y=\"128.0137\">/ act</text></a><!--MD5=[b4997ac47864f28c2f74865a473b2911]\n",
       "class E2--><a href=\"psysml:f1048496-f45f-4de3-be42-17169da36fba\" target=\"_top\" title=\"psysml:f1048496-f45f-4de3-be42-17169da36fba\" xlink:actuate=\"onRequest\" xlink:href=\"psysml:f1048496-f45f-4de3-be42-17169da36fba\" xlink:show=\"new\" xlink:title=\"psysml:f1048496-f45f-4de3-be42-17169da36fba\" xlink:type=\"simple\"><rect fill=\"#FFFFFF\" height=\"75.5469\" id=\"E2\" style=\"stroke: #383838; stroke-width: 1.5;\" width=\"95\" x=\"334.5\" y=\"119\"/><text fill=\"#000000\" font-family=\"sans-serif\" font-size=\"12\" font-style=\"italic\" lengthAdjust=\"spacingAndGlyphs\" textLength=\"93\" x=\"335.5\" y=\"135.1387\">«attribute def»</text><text fill=\"#000000\" font-family=\"sans-serif\" font-size=\"12\" lengthAdjust=\"spacingAndGlyphs\" textLength=\"19\" x=\"372.5\" y=\"149.1074\">Sig</text><line style=\"stroke: #383838; stroke-width: 1.5;\" x1=\"335.5\" x2=\"428.5\" y1=\"156.9375\" y2=\"156.9375\"/><text fill=\"#000000\" font-family=\"sans-serif\" font-size=\"11\" lengthAdjust=\"spacingAndGlyphs\" textLength=\"6\" x=\"340.5\" y=\"187.9526\">x</text><line style=\"stroke: #383838; stroke-width: 1.0;\" x1=\"335.5\" x2=\"354.5\" y1=\"171.3398\" y2=\"171.3398\"/><text fill=\"#000000\" font-family=\"sans-serif\" font-size=\"11\" lengthAdjust=\"spacingAndGlyphs\" textLength=\"55\" x=\"354.5\" y=\"174.6479\">attributes</text><line style=\"stroke: #383838; stroke-width: 1.0;\" x1=\"409.5\" x2=\"428.5\" y1=\"171.3398\" y2=\"171.3398\"/></a><!--MD5=[09b614a08d8cba4a07c9adeb5e0fee81]\n",
       "class E3--><a href=\"psysml:546c6a0a-79ca-4224-b50a-77e407cae485\" target=\"_top\" title=\"psysml:546c6a0a-79ca-4224-b50a-77e407cae485\" xlink:actuate=\"onRequest\" xlink:href=\"psysml:546c6a0a-79ca-4224-b50a-77e407cae485\" xlink:show=\"new\" xlink:title=\"psysml:546c6a0a-79ca-4224-b50a-77e407cae485\" xlink:type=\"simple\"><rect fill=\"#FFFFFF\" height=\"45.9375\" id=\"E3\" style=\"stroke: #383838; stroke-width: 1.5;\" width=\"95\" x=\"204.5\" y=\"134\"/><text fill=\"#000000\" font-family=\"sans-serif\" font-size=\"12\" font-style=\"italic\" lengthAdjust=\"spacingAndGlyphs\" textLength=\"93\" x=\"205.5\" y=\"150.1387\">«attribute def»</text><text fill=\"#000000\" font-family=\"sans-serif\" font-size=\"12\" lengthAdjust=\"spacingAndGlyphs\" textLength=\"22\" x=\"241\" y=\"164.1074\">Exit</text><line style=\"stroke: #383838; stroke-width: 1.5;\" x1=\"205.5\" x2=\"298.5\" y1=\"171.9375\" y2=\"171.9375\"/></a><!--MD5=[ebbe1d658d1005bcc118a6aa81145e00]\n",
       "class E4--><a href=\"psysml:4710131f-7c31-45d9-a6fe-10a60fc8490a\" target=\"_top\" title=\"psysml:4710131f-7c31-45d9-a6fe-10a60fc8490a\" xlink:actuate=\"onRequest\" xlink:href=\"psysml:4710131f-7c31-45d9-a6fe-10a60fc8490a\" xlink:show=\"new\" xlink:title=\"psysml:4710131f-7c31-45d9-a6fe-10a60fc8490a\" xlink:type=\"simple\"><rect fill=\"#FFFFFF\" height=\"45.9375\" id=\"E4\" rx=\"10\" ry=\"10\" style=\"stroke: #383838; stroke-width: 1.5;\" width=\"42\" x=\"127\" y=\"134\"/><text fill=\"#000000\" font-family=\"sans-serif\" font-size=\"12\" font-style=\"italic\" lengthAdjust=\"spacingAndGlyphs\" textLength=\"40\" x=\"128\" y=\"150.1387\">«part»</text><text fill=\"#000000\" font-family=\"sans-serif\" font-size=\"12\" lengthAdjust=\"spacingAndGlyphs\" textLength=\"8\" x=\"144\" y=\"164.1074\">p</text><line style=\"stroke: #383838; stroke-width: 1.5;\" x1=\"128\" x2=\"168\" y1=\"171.9375\" y2=\"171.9375\"/></a><g id=\"E1.E5\"><a href=\"psysml:0b92cdb5-3694-4434-adff-e0b2149bd4e6\" target=\"_top\" title=\"psysml:0b92cdb5-3694-4434-adff-e0b2149bd4e6\" xlink:actuate=\"onRequest\" xlink:href=\"psysml:0b92cdb5-3694-4434-adff-e0b2149bd4e6\" xlink:show=\"new\" xlink:title=\"psysml:0b92cdb5-3694-4434-adff-e0b2149bd4e6\" xlink:type=\"simple\"><rect fill=\"#FFFFFF\" height=\"42.9375\" id=\"E5\" rx=\"10\" ry=\"10\" style=\"stroke: #383838; stroke-width: 1.5;\" width=\"60\" x=\"32\" y=\"135.5\"/><rect fill=\"#F8F8F8\" height=\"37.9375\" rx=\"10\" ry=\"10\" style=\"stroke: #F8F8F8; stroke-width: 1.5;\" width=\"60\" x=\"32\" y=\"135.5\"/><rect fill=\"#F8F8F8\" height=\"10\" style=\"stroke: #F8F8F8; stroke-width: 1.5;\" width=\"60\" x=\"32\" y=\"163.4375\"/><rect fill=\"none\" height=\"42.9375\" id=\"E5\" rx=\"10\" ry=\"10\" style=\"stroke: #383838; stroke-width: 1.5;\" width=\"60\" x=\"32\" y=\"135.5\"/><text fill=\"#000000\" font-family=\"sans-serif\" font-size=\"12\" font-style=\"italic\" lengthAdjust=\"spacingAndGlyphs\" textLength=\"53\" x=\"35.5\" y=\"151.6387\">«action»</text><text fill=\"#000000\" font-family=\"sans-serif\" font-size=\"12\" lengthAdjust=\"spacingAndGlyphs\" textLength=\"20\" x=\"52\" y=\"165.6074\">act</text></a></g><ellipse cx=\"558\" cy=\"157\" fill=\"#000000\" rx=\"10\" ry=\"10\" style=\"stroke: none; stroke-width: 1.0;\"/><ellipse cx=\"583\" cy=\"508\" fill=\"none\" rx=\"10\" ry=\"10\" style=\"stroke: #000000; stroke-width: 1.0;\"/><ellipse cx=\"583.5\" cy=\"508.5\" fill=\"#000000\" rx=\"6\" ry=\"6\" style=\"stroke: none; stroke-width: 1.0;\"/><g id=\"E1.E6.E7\"><a href=\"psysml:0ffea2c5-2698-4589-991c-94f7ac5b0395\" target=\"_top\" title=\"psysml:0ffea2c5-2698-4589-991c-94f7ac5b0395\" xlink:actuate=\"onRequest\" xlink:href=\"psysml:0ffea2c5-2698-4589-991c-94f7ac5b0395\" xlink:show=\"new\" xlink:title=\"psysml:0ffea2c5-2698-4589-991c-94f7ac5b0395\" xlink:type=\"simple\"><rect fill=\"#FFFFFF\" height=\"40\" id=\"E7\" rx=\"10\" ry=\"10\" style=\"stroke: #383838; stroke-width: 1.5;\" width=\"50\" x=\"533\" y=\"256\"/><rect fill=\"#F8F8F8\" height=\"23.9688\" rx=\"10\" ry=\"10\" style=\"stroke: #F8F8F8; stroke-width: 1.5;\" width=\"50\" x=\"533\" y=\"256\"/><rect fill=\"#F8F8F8\" height=\"10\" style=\"stroke: #F8F8F8; stroke-width: 1.5;\" width=\"50\" x=\"533\" y=\"269.9688\"/><rect fill=\"none\" height=\"40\" id=\"E7\" rx=\"10\" ry=\"10\" style=\"stroke: #383838; stroke-width: 1.5;\" width=\"50\" x=\"533\" y=\"256\"/><text fill=\"#000000\" font-family=\"sans-serif\" font-size=\"12\" lengthAdjust=\"spacingAndGlyphs\" textLength=\"16\" x=\"550\" y=\"272.1387\">S1</text></a></g><g id=\"E1.E6.E8\"><a href=\"psysml:f6369ddf-93b2-4791-a9ee-7d090a7e6258\" target=\"_top\" title=\"psysml:f6369ddf-93b2-4791-a9ee-7d090a7e6258\" xlink:actuate=\"onRequest\" xlink:href=\"psysml:f6369ddf-93b2-4791-a9ee-7d090a7e6258\" xlink:show=\"new\" xlink:title=\"psysml:f6369ddf-93b2-4791-a9ee-7d090a7e6258\" xlink:type=\"simple\"><rect fill=\"#FFFFFF\" height=\"47.9375\" id=\"E8\" rx=\"10\" ry=\"10\" style=\"stroke: #383838; stroke-width: 1.5;\" width=\"169\" x=\"498.5\" y=\"373\"/><rect fill=\"#F8F8F8\" height=\"23.9688\" rx=\"10\" ry=\"10\" style=\"stroke: #F8F8F8; stroke-width: 1.5;\" width=\"169\" x=\"498.5\" y=\"373\"/><rect fill=\"#F8F8F8\" height=\"10\" style=\"stroke: #F8F8F8; stroke-width: 1.5;\" width=\"169\" x=\"498.5\" y=\"386.9688\"/><rect fill=\"none\" height=\"47.9375\" id=\"E8\" rx=\"10\" ry=\"10\" style=\"stroke: #383838; stroke-width: 1.5;\" width=\"169\" x=\"498.5\" y=\"373\"/><text fill=\"#000000\" font-family=\"sans-serif\" font-size=\"12\" lengthAdjust=\"spacingAndGlyphs\" textLength=\"16\" x=\"575\" y=\"389.1387\">S2</text><line style=\"stroke: #383838; stroke-width: 1.0;\" x1=\"498.5\" x2=\"667.5\" y1=\"396.9688\" y2=\"396.9688\"/><text fill=\"#000000\" font-family=\"sans-serif\" font-size=\"12\" font-weight=\"bold\" lengthAdjust=\"spacingAndGlyphs\" textLength=\"18\" x=\"503.5\" y=\"410.1074\">do</text><text fill=\"#000000\" font-family=\"sans-serif\" font-size=\"12\" lengthAdjust=\"spacingAndGlyphs\" textLength=\"141\" x=\"521.5\" y=\"410.1074\">/  send Sig(T::s::x) to p</text></a></g><!--MD5=[5a531d3a85f3339e6e197084acb48195]\n",
       "link *start*E6 to E7--><a href=\"psysml:3d6f6111-a5f0-4f07-bf0a-543b5052b3c3\" target=\"_top\" title=\"psysml:3d6f6111-a5f0-4f07-bf0a-543b5052b3c3\" xlink:actuate=\"onRequest\" xlink:href=\"psysml:3d6f6111-a5f0-4f07-bf0a-543b5052b3c3\" xlink:show=\"new\" xlink:title=\"psysml:3d6f6111-a5f0-4f07-bf0a-543b5052b3c3\" xlink:type=\"simple\"><path d=\"M558,167.18 C558,184.98 558,224.73 558,250.67 \" fill=\"none\" id=\"*start*E6-&gt;E7\" style=\"stroke: #383838; stroke-width: 1.0;\"/><polygon fill=\"#383838\" points=\"558,255.98,562,246.98,558,250.98,554,246.98,558,255.98\" style=\"stroke: #383838; stroke-width: 1.0;\"/></a><!--MD5=[7ec9a8babba89ddcae1318ca9fb3c814]\n",
       "link E8 to *end*E6--><a href=\"psysml:374875bf-0004-40f7-bedc-1374d527cde5\" target=\"_top\" title=\"psysml:374875bf-0004-40f7-bedc-1374d527cde5\" xlink:actuate=\"onRequest\" xlink:href=\"psysml:374875bf-0004-40f7-bedc-1374d527cde5\" xlink:show=\"new\" xlink:title=\"psysml:374875bf-0004-40f7-bedc-1374d527cde5\" xlink:type=\"simple\"><path d=\"M583,421.12 C583,442.75 583,474.39 583,492.62 \" fill=\"none\" id=\"E8-&gt;*end*E6\" style=\"stroke: #383838; stroke-width: 1.0;\"/><polygon fill=\"#383838\" points=\"583,497.82,587,488.82,583,492.82,579,488.82,583,497.82\" style=\"stroke: #383838; stroke-width: 1.0;\"/><text fill=\"#000000\" font-family=\"sans-serif\" font-size=\"13\" lengthAdjust=\"spacingAndGlyphs\" textLength=\"23\" x=\"584\" y=\"464.0669\">Exit</text></a><!--MD5=[79bc8f324ef4d02c541433f2e6e513c3]\n",
       "link E7 to E8--><a href=\"psysml:69f1494c-077d-4519-8343-87cce73be713\" target=\"_top\" title=\"psysml:69f1494c-077d-4519-8343-87cce73be713\" xlink:actuate=\"onRequest\" xlink:href=\"psysml:69f1494c-077d-4519-8343-87cce73be713\" xlink:show=\"new\" xlink:title=\"psysml:69f1494c-077d-4519-8343-87cce73be713\" xlink:type=\"simple\"><path d=\"M532.85,288.29 C509.89,300.31 481.3,320.66 494,343 C500.2,353.9 509.62,362.8 520.06,369.97 \" fill=\"none\" id=\"E7-&gt;E8\" style=\"stroke: #383838; stroke-width: 1.0;\"/><polygon fill=\"#383838\" points=\"524.26,372.74,518.9574,364.4404,520.0888,369.983,514.5462,371.1144,524.26,372.74\" style=\"stroke: #383838; stroke-width: 1.0;\"/><text fill=\"#000000\" font-family=\"sans-serif\" font-size=\"13\" lengthAdjust=\"spacingAndGlyphs\" textLength=\"81\" x=\"495\" y=\"339.0669\">Sig /action D</text></a><!--MD5=[bfa3c8b0d15052fdf50ae9310b491027]\n",
       "link E8 to E7--><a href=\"psysml:f8d53726-bfe5-4353-91f3-ae2ef06d9a38\" target=\"_top\" title=\"psysml:f8d53726-bfe5-4353-91f3-ae2ef06d9a38\" xlink:actuate=\"onRequest\" xlink:href=\"psysml:f8d53726-bfe5-4353-91f3-ae2ef06d9a38\" xlink:show=\"new\" xlink:title=\"psysml:f8d53726-bfe5-4353-91f3-ae2ef06d9a38\" xlink:type=\"simple\"><path d=\"M584.68,372.99 C585.12,359.19 584.66,341.38 581,326 C578.98,317.52 575.41,308.75 571.67,301.02 \" fill=\"none\" id=\"E8-&gt;E7\" style=\"stroke: #383838; stroke-width: 1.0;\"/><polygon fill=\"#383838\" points=\"569.33,296.35,569.7898,306.1881,571.5718,300.8193,576.9406,302.6013,569.33,296.35\" style=\"stroke: #383838; stroke-width: 1.0;\"/><text fill=\"#000000\" font-family=\"sans-serif\" font-size=\"13\" lengthAdjust=\"spacingAndGlyphs\" textLength=\"135\" x=\"584\" y=\"339.0669\">Sig [true]/send s to p</text></a><!--MD5=[6e16a2927c60818664161d4937baecaa]\n",
       "@startuml\r\n",
       "skinparam monochrome true\r\n",
       "skinparam classbackgroundcolor white\r\n",
       "skinparam shadowing false\r\n",
       "skinparam wrapWidth 300\r\n",
       "hide circle\r\n",
       "\r\n",
       "package \"StateTest\" as E1  [[psysml:800f45c9-cf5c-46ce-b3c3-487778cd6319 ]]  {\r\n",
       "comp def \"Sig\" as E2  <<(T,blue)attribute def>> [[psysml:f1048496-f45f-4de3-be42-17169da36fba ]] {\r\n",
       "- - attributes - -\r\n",
       "x\r\n",
       "}\r\n",
       "comp def \"Exit\" as E3  <<(T,blue)attribute def>> [[psysml:546c6a0a-79ca-4224-b50a-77e407cae485 ]] {\r\n",
       "}\r\n",
       "comp usage \"p\" as E4  <<(T,blue)part>> [[psysml:4710131f-7c31-45d9-a6fe-10a60fc8490a ]] {\r\n",
       "}\r\n",
       "rec usage \"act\" as E5  <<(T,blue)action>> [[psysml:0b92cdb5-3694-4434-adff-e0b2149bd4e6 ]] {\r\n",
       "}\r\n",
       "\r\n",
       "rec def \"S\" as E6  <<(T,blue)state def>> [[psysml:f2a66a23-1197-47ed-b1bd-74e1ad61d6fd ]] {\r\n",
       "rec usage \"S1\" as E7 [[psysml:0ffea2c5-2698-4589-991c-94f7ac5b0395 ]] {\r\n",
       "}\r\n",
       "\r\n",
       "rec usage \"S2\" as E8 [[psysml:f6369ddf-93b2-4791-a9ee-7d090a7e6258 ]] {\r\n",
       "desc \"S2\" as E8  : **do**/  send Sig(T::s::x) to p\r\n",
       "}\r\n",
       "\r\n",
       "desc \"S\" as E6  : **entry**/ A\r\n",
       "desc \"S\" as E6  : **do**/ B\r\n",
       "desc \"S\" as E6  : **exit**/ act \r\n",
       "[*] - -> E7 [[psysml:3d6f6111-a5f0-4f07-bf0a-543b5052b3c3 ]] \r\n",
       "E8  - -> [*] [[psysml:374875bf-0004-40f7-bedc-1374d527cde5 ]] : Exit \r\n",
       "}\r\n",
       "\r\n",
       "E7  - -> E8 [[psysml:69f1494c-077d-4519-8343-87cce73be713 ]] : Sig /action D\r\n",
       "E8  - -> E7 [[psysml:f8d53726-bfe5-4353-91f3-ae2ef06d9a38 ]] : Sig [true]/send s to p\r\n",
       "}\r\n",
       "@enduml\r\n",
       "\n",
       "PlantUML version 1.2020.13(Sat Jun 13 12:26:38 UTC 2020)\n",
       "(EPL source distribution)\n",
       "Java Runtime: OpenJDK Runtime Environment\n",
       "JVM: OpenJDK 64-Bit Server VM\n",
       "Default Encoding: UTF-8\n",
       "Language: en\n",
       "Country: null\n",
       "--></g></svg>"
      ]
     },
     "execution_count": 37,
     "metadata": {},
     "output_type": "execute_result"
    }
   ],
   "source": [
    "%viz --style=\"DEFAULT\" --view=\"Default\" \"StateTest\""
   ]
  },
  {
   "cell_type": "code",
   "execution_count": 38,
   "id": "9724e0f4",
   "metadata": {
    "execution": {
     "iopub.execute_input": "2021-04-21T20:23:44.644925Z",
     "iopub.status.busy": "2021-04-21T20:23:44.644165Z",
     "iopub.status.idle": "2021-04-21T20:23:44.743721Z",
     "shell.execute_reply": "2021-04-21T20:23:44.742182Z"
    }
   },
   "outputs": [
    {
     "data": {
      "image/svg+xml": [
       "<?xml version=\"1.0\" encoding=\"UTF-8\" standalone=\"no\"?><svg xmlns=\"http://www.w3.org/2000/svg\" xmlns:xlink=\"http://www.w3.org/1999/xlink\" contentScriptType=\"application/ecmascript\" contentStyleType=\"text/css\" height=\"365px\" preserveAspectRatio=\"none\" style=\"width:594px;height:365px;\" version=\"1.1\" viewBox=\"0 0 594 365\" width=\"594px\" zoomAndPan=\"magnify\"><defs/><g><!--MD5=[fbc87193dbaf4d95561dea2c320d4a47]\n",
       "cluster E1--><a href=\"psysml:800f45c9-cf5c-46ce-b3c3-487778cd6319\" target=\"_top\" title=\"psysml:800f45c9-cf5c-46ce-b3c3-487778cd6319\" xlink:actuate=\"onRequest\" xlink:href=\"psysml:800f45c9-cf5c-46ce-b3c3-487778cd6319\" xlink:show=\"new\" xlink:title=\"psysml:800f45c9-cf5c-46ce-b3c3-487778cd6319\" xlink:type=\"simple\"><polygon fill=\"#FFFFFF\" points=\"16,6,98,6,105,28.2969,572,28.2969,572,353,16,353,16,6\" style=\"stroke: #000000; stroke-width: 1.5;\"/><line style=\"stroke: #000000; stroke-width: 1.5;\" x1=\"16\" x2=\"105\" y1=\"28.2969\" y2=\"28.2969\"/><text fill=\"#000000\" font-family=\"sans-serif\" font-size=\"14\" font-weight=\"bold\" lengthAdjust=\"spacingAndGlyphs\" textLength=\"76\" x=\"20\" y=\"20.9951\">StateTest</text></a><!--MD5=[b4997ac47864f28c2f74865a473b2911]\n",
       "class E2--><a href=\"psysml:f1048496-f45f-4de3-be42-17169da36fba\" target=\"_top\" title=\"psysml:f1048496-f45f-4de3-be42-17169da36fba\" xlink:actuate=\"onRequest\" xlink:href=\"psysml:f1048496-f45f-4de3-be42-17169da36fba\" xlink:show=\"new\" xlink:title=\"psysml:f1048496-f45f-4de3-be42-17169da36fba\" xlink:type=\"simple\"><rect fill=\"#FFFFFF\" height=\"75.5469\" id=\"E2\" style=\"stroke: #383838; stroke-width: 1.5;\" width=\"95\" x=\"460.5\" y=\"83\"/><text fill=\"#000000\" font-family=\"sans-serif\" font-size=\"12\" font-style=\"italic\" lengthAdjust=\"spacingAndGlyphs\" textLength=\"93\" x=\"461.5\" y=\"99.1387\">«attribute def»</text><text fill=\"#000000\" font-family=\"sans-serif\" font-size=\"12\" lengthAdjust=\"spacingAndGlyphs\" textLength=\"19\" x=\"498.5\" y=\"113.1074\">Sig</text><line style=\"stroke: #383838; stroke-width: 1.5;\" x1=\"461.5\" x2=\"554.5\" y1=\"120.9375\" y2=\"120.9375\"/><text fill=\"#000000\" font-family=\"sans-serif\" font-size=\"11\" lengthAdjust=\"spacingAndGlyphs\" textLength=\"6\" x=\"466.5\" y=\"151.9526\">x</text><line style=\"stroke: #383838; stroke-width: 1.0;\" x1=\"461.5\" x2=\"480.5\" y1=\"135.3398\" y2=\"135.3398\"/><text fill=\"#000000\" font-family=\"sans-serif\" font-size=\"11\" lengthAdjust=\"spacingAndGlyphs\" textLength=\"55\" x=\"480.5\" y=\"138.6479\">attributes</text><line style=\"stroke: #383838; stroke-width: 1.0;\" x1=\"535.5\" x2=\"554.5\" y1=\"135.3398\" y2=\"135.3398\"/></a><!--MD5=[09b614a08d8cba4a07c9adeb5e0fee81]\n",
       "class E3--><a href=\"psysml:546c6a0a-79ca-4224-b50a-77e407cae485\" target=\"_top\" title=\"psysml:546c6a0a-79ca-4224-b50a-77e407cae485\" xlink:actuate=\"onRequest\" xlink:href=\"psysml:546c6a0a-79ca-4224-b50a-77e407cae485\" xlink:show=\"new\" xlink:title=\"psysml:546c6a0a-79ca-4224-b50a-77e407cae485\" xlink:type=\"simple\"><rect fill=\"#FFFFFF\" height=\"45.9375\" id=\"E3\" style=\"stroke: #383838; stroke-width: 1.5;\" width=\"95\" x=\"330.5\" y=\"98\"/><text fill=\"#000000\" font-family=\"sans-serif\" font-size=\"12\" font-style=\"italic\" lengthAdjust=\"spacingAndGlyphs\" textLength=\"93\" x=\"331.5\" y=\"114.1387\">«attribute def»</text><text fill=\"#000000\" font-family=\"sans-serif\" font-size=\"12\" lengthAdjust=\"spacingAndGlyphs\" textLength=\"22\" x=\"367\" y=\"128.1074\">Exit</text><line style=\"stroke: #383838; stroke-width: 1.5;\" x1=\"331.5\" x2=\"424.5\" y1=\"135.9375\" y2=\"135.9375\"/></a><!--MD5=[ebbe1d658d1005bcc118a6aa81145e00]\n",
       "class E4--><a href=\"psysml:4710131f-7c31-45d9-a6fe-10a60fc8490a\" target=\"_top\" title=\"psysml:4710131f-7c31-45d9-a6fe-10a60fc8490a\" xlink:actuate=\"onRequest\" xlink:href=\"psysml:4710131f-7c31-45d9-a6fe-10a60fc8490a\" xlink:show=\"new\" xlink:title=\"psysml:4710131f-7c31-45d9-a6fe-10a60fc8490a\" xlink:type=\"simple\"><rect fill=\"#FFFFFF\" height=\"45.9375\" id=\"E4\" rx=\"10\" ry=\"10\" style=\"stroke: #383838; stroke-width: 1.5;\" width=\"42\" x=\"253\" y=\"98\"/><text fill=\"#000000\" font-family=\"sans-serif\" font-size=\"12\" font-style=\"italic\" lengthAdjust=\"spacingAndGlyphs\" textLength=\"40\" x=\"254\" y=\"114.1387\">«part»</text><text fill=\"#000000\" font-family=\"sans-serif\" font-size=\"12\" lengthAdjust=\"spacingAndGlyphs\" textLength=\"8\" x=\"270\" y=\"128.1074\">p</text><line style=\"stroke: #383838; stroke-width: 1.5;\" x1=\"254\" x2=\"294\" y1=\"135.9375\" y2=\"135.9375\"/></a><!--MD5=[270fce915f116d4de14055a7c1d9a0f3]\n",
       "class E5--><a href=\"psysml:0b92cdb5-3694-4434-adff-e0b2149bd4e6\" target=\"_top\" title=\"psysml:0b92cdb5-3694-4434-adff-e0b2149bd4e6\" xlink:actuate=\"onRequest\" xlink:href=\"psysml:0b92cdb5-3694-4434-adff-e0b2149bd4e6\" xlink:show=\"new\" xlink:title=\"psysml:0b92cdb5-3694-4434-adff-e0b2149bd4e6\" xlink:type=\"simple\"><rect fill=\"#FFFFFF\" height=\"45.9375\" id=\"E5\" rx=\"10\" ry=\"10\" style=\"stroke: #383838; stroke-width: 1.5;\" width=\"55\" x=\"162.5\" y=\"98\"/><text fill=\"#000000\" font-family=\"sans-serif\" font-size=\"12\" font-style=\"italic\" lengthAdjust=\"spacingAndGlyphs\" textLength=\"53\" x=\"163.5\" y=\"114.1387\">«action»</text><text fill=\"#000000\" font-family=\"sans-serif\" font-size=\"12\" lengthAdjust=\"spacingAndGlyphs\" textLength=\"20\" x=\"180\" y=\"128.1074\">act</text><line style=\"stroke: #383838; stroke-width: 1.5;\" x1=\"163.5\" x2=\"216.5\" y1=\"135.9375\" y2=\"135.9375\"/></a><!--MD5=[60a26617385b1d2d0262a64233df1f8d]\n",
       "class E6--><a href=\"psysml:f2a66a23-1197-47ed-b1bd-74e1ad61d6fd\" target=\"_top\" title=\"psysml:f2a66a23-1197-47ed-b1bd-74e1ad61d6fd\" xlink:actuate=\"onRequest\" xlink:href=\"psysml:f2a66a23-1197-47ed-b1bd-74e1ad61d6fd\" xlink:show=\"new\" xlink:title=\"psysml:f2a66a23-1197-47ed-b1bd-74e1ad61d6fd\" xlink:type=\"simple\"><rect fill=\"#FFFFFF\" height=\"160.375\" id=\"E6\" style=\"stroke: #383838; stroke-width: 1.5;\" width=\"95\" x=\"32.5\" y=\"41\"/><text fill=\"#000000\" font-family=\"sans-serif\" font-size=\"12\" font-style=\"italic\" lengthAdjust=\"spacingAndGlyphs\" textLength=\"71\" x=\"44.5\" y=\"57.1387\">«state def»</text><text fill=\"#000000\" font-family=\"sans-serif\" font-size=\"12\" lengthAdjust=\"spacingAndGlyphs\" textLength=\"8\" x=\"76\" y=\"71.1074\">S</text><line style=\"stroke: #383838; stroke-width: 1.5;\" x1=\"33.5\" x2=\"126.5\" y1=\"78.9375\" y2=\"78.9375\"/><text fill=\"#000000\" font-family=\"sans-serif\" font-size=\"11\" lengthAdjust=\"spacingAndGlyphs\" textLength=\"17\" x=\"38.5\" y=\"109.9526\">act</text><text fill=\"#000000\" font-family=\"sans-serif\" font-size=\"11\" lengthAdjust=\"spacingAndGlyphs\" textLength=\"7\" x=\"38.5\" y=\"122.7573\">A</text><text fill=\"#000000\" font-family=\"sans-serif\" font-size=\"11\" lengthAdjust=\"spacingAndGlyphs\" textLength=\"8\" x=\"38.5\" y=\"135.562\">B</text><line style=\"stroke: #383838; stroke-width: 1.0;\" x1=\"33.5\" x2=\"36.5\" y1=\"93.3398\" y2=\"93.3398\"/><text fill=\"#000000\" font-family=\"sans-serif\" font-size=\"11\" lengthAdjust=\"spacingAndGlyphs\" textLength=\"87\" x=\"36.5\" y=\"96.6479\">performActions</text><line style=\"stroke: #383838; stroke-width: 1.0;\" x1=\"123.5\" x2=\"126.5\" y1=\"93.3398\" y2=\"93.3398\"/><text fill=\"#000000\" font-family=\"sans-serif\" font-size=\"11\" lengthAdjust=\"spacingAndGlyphs\" textLength=\"15\" x=\"38.5\" y=\"165.1714\">S1</text><line style=\"stroke: #383838; stroke-width: 1.0;\" x1=\"33.5\" x2=\"62\" y1=\"148.5586\" y2=\"148.5586\"/><text fill=\"#000000\" font-family=\"sans-serif\" font-size=\"11\" lengthAdjust=\"spacingAndGlyphs\" textLength=\"36\" x=\"62\" y=\"151.8667\">states</text><line style=\"stroke: #383838; stroke-width: 1.0;\" x1=\"98\" x2=\"126.5\" y1=\"148.5586\" y2=\"148.5586\"/><text fill=\"#000000\" font-family=\"sans-serif\" font-size=\"11\" lengthAdjust=\"spacingAndGlyphs\" textLength=\"7\" x=\"38.5\" y=\"194.7808\">T</text><line style=\"stroke: #383838; stroke-width: 1.0;\" x1=\"33.5\" x2=\"49.5\" y1=\"178.168\" y2=\"178.168\"/><text fill=\"#000000\" font-family=\"sans-serif\" font-size=\"11\" lengthAdjust=\"spacingAndGlyphs\" textLength=\"61\" x=\"49.5\" y=\"181.4761\">transitions</text><line style=\"stroke: #383838; stroke-width: 1.0;\" x1=\"110.5\" x2=\"126.5\" y1=\"178.168\" y2=\"178.168\"/></a><!--MD5=[1dd1bfd58a279cf63c5f349dbc8fc6a1]\n",
       "class E11--><a href=\"psysml:f6369ddf-93b2-4791-a9ee-7d090a7e6258\" target=\"_top\" title=\"psysml:f6369ddf-93b2-4791-a9ee-7d090a7e6258\" xlink:actuate=\"onRequest\" xlink:href=\"psysml:f6369ddf-93b2-4791-a9ee-7d090a7e6258\" xlink:show=\"new\" xlink:title=\"psysml:f6369ddf-93b2-4791-a9ee-7d090a7e6258\" xlink:type=\"simple\"><rect fill=\"#FFFFFF\" height=\"75.5469\" id=\"E11\" rx=\"10\" ry=\"10\" style=\"stroke: #383838; stroke-width: 1.5;\" width=\"77\" x=\"41.5\" y=\"261\"/><text fill=\"#000000\" font-family=\"sans-serif\" font-size=\"12\" font-style=\"italic\" lengthAdjust=\"spacingAndGlyphs\" textLength=\"47\" x=\"56.5\" y=\"277.1387\">«state»</text><text fill=\"#000000\" font-family=\"sans-serif\" font-size=\"12\" lengthAdjust=\"spacingAndGlyphs\" textLength=\"16\" x=\"72\" y=\"291.1074\">S2</text><line style=\"stroke: #383838; stroke-width: 1.5;\" x1=\"42.5\" x2=\"117.5\" y1=\"298.9375\" y2=\"298.9375\"/><text fill=\"#000000\" font-family=\"sans-serif\" font-size=\"11\" lengthAdjust=\"spacingAndGlyphs\" textLength=\"48\" x=\"47.5\" y=\"329.9526\">doAction</text><line style=\"stroke: #383838; stroke-width: 1.0;\" x1=\"42.5\" x2=\"45.5\" y1=\"313.3398\" y2=\"313.3398\"/><text fill=\"#000000\" font-family=\"sans-serif\" font-size=\"11\" lengthAdjust=\"spacingAndGlyphs\" textLength=\"69\" x=\"45.5\" y=\"316.6479\">sendActions</text><line style=\"stroke: #383838; stroke-width: 1.0;\" x1=\"114.5\" x2=\"117.5\" y1=\"313.3398\" y2=\"313.3398\"/></a><!--MD5=[1f5f03483f7de0d5b3680a7f6650997f]\n",
       "reverse link E6 to E11--><a href=\"psysml:247e0169-6466-401b-83f0-032a7b21c539\" target=\"_top\" title=\"psysml:247e0169-6466-401b-83f0-032a7b21c539\" xlink:actuate=\"onRequest\" xlink:href=\"psysml:247e0169-6466-401b-83f0-032a7b21c539\" xlink:show=\"new\" xlink:title=\"psysml:247e0169-6466-401b-83f0-032a7b21c539\" xlink:type=\"simple\"><path d=\"M80,214.46 C80,230.92 80,247.18 80,260.92 \" fill=\"none\" id=\"E6&lt;-E11\" style=\"stroke: #383838; stroke-width: 1.0;\"/><polygon fill=\"#383838\" points=\"80,201.25,76,207.25,80,213.25,84,207.25,80,201.25\" style=\"stroke: #383838; stroke-width: 1.0;\"/></a><!--MD5=[80c8da5a126908f63214cb9e7f3f2123]\n",
       "@startuml\r\n",
       "skinparam monochrome true\r\n",
       "skinparam classbackgroundcolor white\r\n",
       "skinparam shadowing false\r\n",
       "skinparam wrapWidth 300\r\n",
       "hide circle\r\n",
       "\r\n",
       "package \"StateTest\" as E1  [[psysml:800f45c9-cf5c-46ce-b3c3-487778cd6319 ]]  {\r\n",
       "comp def \"Sig\" as E2  <<(T,blue)attribute def>> [[psysml:f1048496-f45f-4de3-be42-17169da36fba ]] {\r\n",
       "- - attributes - -\r\n",
       "x\r\n",
       "}\r\n",
       "comp def \"Exit\" as E3  <<(T,blue)attribute def>> [[psysml:546c6a0a-79ca-4224-b50a-77e407cae485 ]] {\r\n",
       "}\r\n",
       "comp usage \"p\" as E4  <<(T,blue)part>> [[psysml:4710131f-7c31-45d9-a6fe-10a60fc8490a ]] {\r\n",
       "}\r\n",
       "comp usage \"act\" as E5  <<(T,blue)action>> [[psysml:0b92cdb5-3694-4434-adff-e0b2149bd4e6 ]] {\r\n",
       "}\r\n",
       "comp def \"S\" as E6  <<(T,blue)state def>> [[psysml:f2a66a23-1197-47ed-b1bd-74e1ad61d6fd ]] {\r\n",
       "- - performActions - -\r\n",
       "act\r\n",
       "A\r\n",
       "B\r\n",
       "- - states - -\r\n",
       "S1\r\n",
       "- - transitions - -\r\n",
       "T\r\n",
       "}\r\n",
       "comp usage \"S2\" as E11  <<(T,blue)state>> [[psysml:f6369ddf-93b2-4791-a9ee-7d090a7e6258 ]] {\r\n",
       "- - sendActions - -\r\n",
       "doAction\r\n",
       "}\r\n",
       "E6 *- - E11 [[psysml:247e0169-6466-401b-83f0-032a7b21c539 ]] \r\n",
       "}\r\n",
       "@enduml\r\n",
       "\n",
       "PlantUML version 1.2020.13(Sat Jun 13 12:26:38 UTC 2020)\n",
       "(EPL source distribution)\n",
       "Java Runtime: OpenJDK Runtime Environment\n",
       "JVM: OpenJDK 64-Bit Server VM\n",
       "Default Encoding: UTF-8\n",
       "Language: en\n",
       "Country: null\n",
       "--></g></svg>"
      ]
     },
     "execution_count": 38,
     "metadata": {},
     "output_type": "execute_result"
    }
   ],
   "source": [
    "%viz --style=\"DEFAULT\" --view=\"Tree\" \"StateTest\""
   ]
  },
  {
   "cell_type": "code",
   "execution_count": 39,
   "id": "c61a0a73",
   "metadata": {
    "execution": {
     "iopub.execute_input": "2021-04-21T20:23:44.794559Z",
     "iopub.status.busy": "2021-04-21T20:23:44.793849Z",
     "iopub.status.idle": "2021-04-21T20:23:44.829988Z",
     "shell.execute_reply": "2021-04-21T20:23:44.829674Z"
    }
   },
   "outputs": [
    {
     "data": {
      "image/svg+xml": [
       "<?xml version=\"1.0\" encoding=\"UTF-8\" standalone=\"no\"?><svg xmlns=\"http://www.w3.org/2000/svg\" xmlns:xlink=\"http://www.w3.org/1999/xlink\" contentScriptType=\"application/ecmascript\" contentStyleType=\"text/css\" height=\"475px\" preserveAspectRatio=\"none\" style=\"width:346px;height:475px;\" version=\"1.1\" viewBox=\"0 0 346 475\" width=\"346px\" zoomAndPan=\"magnify\"><defs/><g><!--MD5=[fbc87193dbaf4d95561dea2c320d4a47]\n",
       "cluster E1--><a href=\"psysml:f2a66a23-1197-47ed-b1bd-74e1ad61d6fd\" target=\"_top\" title=\"psysml:f2a66a23-1197-47ed-b1bd-74e1ad61d6fd\" xlink:actuate=\"onRequest\" xlink:href=\"psysml:f2a66a23-1197-47ed-b1bd-74e1ad61d6fd\" xlink:show=\"new\" xlink:title=\"psysml:f2a66a23-1197-47ed-b1bd-74e1ad61d6fd\" xlink:type=\"simple\"><rect fill=\"#FFFFFF\" height=\"457\" id=\"E1\" style=\"stroke: #383838; stroke-width: 1.5;\" width=\"327\" x=\"7\" y=\"7\"/><rect fill=\"#F8F8F8\" height=\"37.9375\" style=\"stroke: #383838; stroke-width: 1.5;\" width=\"327\" x=\"7\" y=\"7\"/><text fill=\"#000000\" font-family=\"sans-serif\" font-size=\"12\" font-style=\"italic\" lengthAdjust=\"spacingAndGlyphs\" textLength=\"71\" x=\"135\" y=\"23.1387\">«state def»</text><text fill=\"#000000\" font-family=\"sans-serif\" font-size=\"12\" lengthAdjust=\"spacingAndGlyphs\" textLength=\"8\" x=\"166.5\" y=\"37.1074\">S</text><line style=\"stroke: #383838; stroke-width: 1.0;\" x1=\"7\" x2=\"334\" y1=\"90.8438\" y2=\"90.8438\"/><text fill=\"#000000\" font-family=\"sans-serif\" font-size=\"12\" font-weight=\"bold\" lengthAdjust=\"spacingAndGlyphs\" textLength=\"38\" x=\"12\" y=\"58.0762\">entry</text><text fill=\"#000000\" font-family=\"sans-serif\" font-size=\"12\" lengthAdjust=\"spacingAndGlyphs\" textLength=\"16\" x=\"50\" y=\"58.0762\">/ A</text><text fill=\"#000000\" font-family=\"sans-serif\" font-size=\"12\" font-weight=\"bold\" lengthAdjust=\"spacingAndGlyphs\" textLength=\"18\" x=\"12\" y=\"72.0449\">do</text><text fill=\"#000000\" font-family=\"sans-serif\" font-size=\"12\" lengthAdjust=\"spacingAndGlyphs\" textLength=\"16\" x=\"30\" y=\"72.0449\">/ B</text><text fill=\"#000000\" font-family=\"sans-serif\" font-size=\"12\" font-weight=\"bold\" lengthAdjust=\"spacingAndGlyphs\" textLength=\"26\" x=\"12\" y=\"86.0137\">exit</text><text fill=\"#000000\" font-family=\"sans-serif\" font-size=\"12\" lengthAdjust=\"spacingAndGlyphs\" textLength=\"28\" x=\"38\" y=\"86.0137\">/ act</text></a><ellipse cx=\"119\" cy=\"115\" fill=\"#000000\" rx=\"10\" ry=\"10\" style=\"stroke: none; stroke-width: 1.0;\"/><ellipse cx=\"144\" cy=\"438\" fill=\"none\" rx=\"10\" ry=\"10\" style=\"stroke: #000000; stroke-width: 1.0;\"/><ellipse cx=\"144.5\" cy=\"438.5\" fill=\"#000000\" rx=\"6\" ry=\"6\" style=\"stroke: none; stroke-width: 1.0;\"/><g id=\"E1.E2\"><a href=\"psysml:0ffea2c5-2698-4589-991c-94f7ac5b0395\" target=\"_top\" title=\"psysml:0ffea2c5-2698-4589-991c-94f7ac5b0395\" xlink:actuate=\"onRequest\" xlink:href=\"psysml:0ffea2c5-2698-4589-991c-94f7ac5b0395\" xlink:show=\"new\" xlink:title=\"psysml:0ffea2c5-2698-4589-991c-94f7ac5b0395\" xlink:type=\"simple\"><rect fill=\"#FFFFFF\" height=\"40\" id=\"E2\" rx=\"10\" ry=\"10\" style=\"stroke: #383838; stroke-width: 1.5;\" width=\"50\" x=\"94\" y=\"186\"/><rect fill=\"#F8F8F8\" height=\"23.9688\" rx=\"10\" ry=\"10\" style=\"stroke: #F8F8F8; stroke-width: 1.5;\" width=\"50\" x=\"94\" y=\"186\"/><rect fill=\"#F8F8F8\" height=\"10\" style=\"stroke: #F8F8F8; stroke-width: 1.5;\" width=\"50\" x=\"94\" y=\"199.9688\"/><rect fill=\"none\" height=\"40\" id=\"E2\" rx=\"10\" ry=\"10\" style=\"stroke: #383838; stroke-width: 1.5;\" width=\"50\" x=\"94\" y=\"186\"/><text fill=\"#000000\" font-family=\"sans-serif\" font-size=\"12\" lengthAdjust=\"spacingAndGlyphs\" textLength=\"16\" x=\"111\" y=\"202.1387\">S1</text></a></g><g id=\"E1.E3\"><a href=\"psysml:f6369ddf-93b2-4791-a9ee-7d090a7e6258\" target=\"_top\" title=\"psysml:f6369ddf-93b2-4791-a9ee-7d090a7e6258\" xlink:actuate=\"onRequest\" xlink:href=\"psysml:f6369ddf-93b2-4791-a9ee-7d090a7e6258\" xlink:show=\"new\" xlink:title=\"psysml:f6369ddf-93b2-4791-a9ee-7d090a7e6258\" xlink:type=\"simple\"><rect fill=\"#FFFFFF\" height=\"47.9375\" id=\"E3\" rx=\"10\" ry=\"10\" style=\"stroke: #383838; stroke-width: 1.5;\" width=\"169\" x=\"59.5\" y=\"303\"/><rect fill=\"#F8F8F8\" height=\"23.9688\" rx=\"10\" ry=\"10\" style=\"stroke: #F8F8F8; stroke-width: 1.5;\" width=\"169\" x=\"59.5\" y=\"303\"/><rect fill=\"#F8F8F8\" height=\"10\" style=\"stroke: #F8F8F8; stroke-width: 1.5;\" width=\"169\" x=\"59.5\" y=\"316.9688\"/><rect fill=\"none\" height=\"47.9375\" id=\"E3\" rx=\"10\" ry=\"10\" style=\"stroke: #383838; stroke-width: 1.5;\" width=\"169\" x=\"59.5\" y=\"303\"/><text fill=\"#000000\" font-family=\"sans-serif\" font-size=\"12\" lengthAdjust=\"spacingAndGlyphs\" textLength=\"16\" x=\"136\" y=\"319.1387\">S2</text><line style=\"stroke: #383838; stroke-width: 1.0;\" x1=\"59.5\" x2=\"228.5\" y1=\"326.9688\" y2=\"326.9688\"/><text fill=\"#000000\" font-family=\"sans-serif\" font-size=\"12\" font-weight=\"bold\" lengthAdjust=\"spacingAndGlyphs\" textLength=\"18\" x=\"64.5\" y=\"340.1074\">do</text><text fill=\"#000000\" font-family=\"sans-serif\" font-size=\"12\" lengthAdjust=\"spacingAndGlyphs\" textLength=\"141\" x=\"82.5\" y=\"340.1074\">/  send Sig(T::s::x) to p</text></a></g><!--MD5=[cff944eb183b832d446717a4e202d613]\n",
       "link *start*E1 to E2--><a href=\"psysml:3d6f6111-a5f0-4f07-bf0a-543b5052b3c3\" target=\"_top\" title=\"psysml:3d6f6111-a5f0-4f07-bf0a-543b5052b3c3\" xlink:actuate=\"onRequest\" xlink:href=\"psysml:3d6f6111-a5f0-4f07-bf0a-543b5052b3c3\" xlink:show=\"new\" xlink:title=\"psysml:3d6f6111-a5f0-4f07-bf0a-543b5052b3c3\" xlink:type=\"simple\"><path d=\"M119,125.19 C119,138.18 119,162.38 119,180.73 \" fill=\"none\" id=\"*start*E1-&gt;E2\" style=\"stroke: #383838; stroke-width: 1.0;\"/><polygon fill=\"#383838\" points=\"119,185.74,123,176.74,119,180.74,115,176.74,119,185.74\" style=\"stroke: #383838; stroke-width: 1.0;\"/></a><!--MD5=[9ee7afa76ca8c509b3d216624c3a9893]\n",
       "link E3 to *end*E1--><a href=\"psysml:374875bf-0004-40f7-bedc-1374d527cde5\" target=\"_top\" title=\"psysml:374875bf-0004-40f7-bedc-1374d527cde5\" xlink:actuate=\"onRequest\" xlink:href=\"psysml:374875bf-0004-40f7-bedc-1374d527cde5\" xlink:show=\"new\" xlink:title=\"psysml:374875bf-0004-40f7-bedc-1374d527cde5\" xlink:type=\"simple\"><path d=\"M144,351.12 C144,372.75 144,404.39 144,422.62 \" fill=\"none\" id=\"E3-&gt;*end*E1\" style=\"stroke: #383838; stroke-width: 1.0;\"/><polygon fill=\"#383838\" points=\"144,427.82,148,418.82,144,422.82,140,418.82,144,427.82\" style=\"stroke: #383838; stroke-width: 1.0;\"/><text fill=\"#000000\" font-family=\"sans-serif\" font-size=\"13\" lengthAdjust=\"spacingAndGlyphs\" textLength=\"23\" x=\"145\" y=\"394.0669\">Exit</text></a><!--MD5=[2720a5a1f2c3fca2055b230370638851]\n",
       "link E2 to E3--><a href=\"psysml:69f1494c-077d-4519-8343-87cce73be713\" target=\"_top\" title=\"psysml:69f1494c-077d-4519-8343-87cce73be713\" xlink:actuate=\"onRequest\" xlink:href=\"psysml:69f1494c-077d-4519-8343-87cce73be713\" xlink:show=\"new\" xlink:title=\"psysml:69f1494c-077d-4519-8343-87cce73be713\" xlink:type=\"simple\"><path d=\"M93.85,218.29 C70.89,230.31 42.3,250.66 55,273 C61.2,283.9 70.62,292.8 81.06,299.97 \" fill=\"none\" id=\"E2-&gt;E3\" style=\"stroke: #383838; stroke-width: 1.0;\"/><polygon fill=\"#383838\" points=\"85.26,302.74,79.9574,294.4404,81.0888,299.983,75.5462,301.1144,85.26,302.74\" style=\"stroke: #383838; stroke-width: 1.0;\"/><text fill=\"#000000\" font-family=\"sans-serif\" font-size=\"13\" lengthAdjust=\"spacingAndGlyphs\" textLength=\"81\" x=\"56\" y=\"269.0669\">Sig /action D</text></a><!--MD5=[05d275557350bfb9b23a4ef7222b4c39]\n",
       "link E3 to E2--><a href=\"psysml:f8d53726-bfe5-4353-91f3-ae2ef06d9a38\" target=\"_top\" title=\"psysml:f8d53726-bfe5-4353-91f3-ae2ef06d9a38\" xlink:actuate=\"onRequest\" xlink:href=\"psysml:f8d53726-bfe5-4353-91f3-ae2ef06d9a38\" xlink:show=\"new\" xlink:title=\"psysml:f8d53726-bfe5-4353-91f3-ae2ef06d9a38\" xlink:type=\"simple\"><path d=\"M145.68,302.99 C146.12,289.19 145.66,271.38 142,256 C139.98,247.52 136.41,238.75 132.67,231.02 \" fill=\"none\" id=\"E3-&gt;E2\" style=\"stroke: #383838; stroke-width: 1.0;\"/><polygon fill=\"#383838\" points=\"130.33,226.35,130.7898,236.1881,132.5718,230.8193,137.9406,232.6013,130.33,226.35\" style=\"stroke: #383838; stroke-width: 1.0;\"/><text fill=\"#000000\" font-family=\"sans-serif\" font-size=\"13\" lengthAdjust=\"spacingAndGlyphs\" textLength=\"135\" x=\"145\" y=\"269.0669\">Sig [true]/send s to p</text></a><!--MD5=[9d75aebf73e743e1ebe8d708118db827]\n",
       "@startuml\r\n",
       "skinparam monochrome true\r\n",
       "skinparam classbackgroundcolor white\r\n",
       "skinparam shadowing false\r\n",
       "skinparam wrapWidth 300\r\n",
       "hide circle\r\n",
       "\r\n",
       "rec def \"S\" as E1  <<(T,blue)state def>> [[psysml:f2a66a23-1197-47ed-b1bd-74e1ad61d6fd ]] {\r\n",
       "rec usage \"S1\" as E2 [[psysml:0ffea2c5-2698-4589-991c-94f7ac5b0395 ]] {\r\n",
       "}\r\n",
       "\r\n",
       "rec usage \"S2\" as E3 [[psysml:f6369ddf-93b2-4791-a9ee-7d090a7e6258 ]] {\r\n",
       "desc \"S2\" as E3  : **do**/  send Sig(T::s::x) to p\r\n",
       "}\r\n",
       "\r\n",
       "desc \"S\" as E1  : **entry**/ A\r\n",
       "desc \"S\" as E1  : **do**/ B\r\n",
       "desc \"S\" as E1  : **exit**/ act \r\n",
       "[*] - -> E2 [[psysml:3d6f6111-a5f0-4f07-bf0a-543b5052b3c3 ]] \r\n",
       "E3  - -> [*] [[psysml:374875bf-0004-40f7-bedc-1374d527cde5 ]] : Exit \r\n",
       "}\r\n",
       "\r\n",
       "E2  - -> E3 [[psysml:69f1494c-077d-4519-8343-87cce73be713 ]] : Sig /action D\r\n",
       "E3  - -> E2 [[psysml:f8d53726-bfe5-4353-91f3-ae2ef06d9a38 ]] : Sig [true]/send s to p\r\n",
       "@enduml\r\n",
       "\n",
       "PlantUML version 1.2020.13(Sat Jun 13 12:26:38 UTC 2020)\n",
       "(EPL source distribution)\n",
       "Java Runtime: OpenJDK Runtime Environment\n",
       "JVM: OpenJDK 64-Bit Server VM\n",
       "Default Encoding: UTF-8\n",
       "Language: en\n",
       "Country: null\n",
       "--></g></svg>"
      ]
     },
     "execution_count": 39,
     "metadata": {},
     "output_type": "execute_result"
    }
   ],
   "source": [
    "%viz --style=\"DEFAULT\" --view=\"State\" \"StateTest\""
   ]
  },
  {
   "cell_type": "code",
   "execution_count": 40,
   "id": "55425c76",
   "metadata": {
    "execution": {
     "iopub.execute_input": "2021-04-21T20:23:44.880432Z",
     "iopub.status.busy": "2021-04-21T20:23:44.879884Z",
     "iopub.status.idle": "2021-04-21T20:23:44.916024Z",
     "shell.execute_reply": "2021-04-21T20:23:44.914685Z"
    }
   },
   "outputs": [
    {
     "data": {
      "image/svg+xml": [
       "<?xml version=\"1.0\" encoding=\"UTF-8\" standalone=\"no\"?><svg xmlns=\"http://www.w3.org/2000/svg\" xmlns:xlink=\"http://www.w3.org/1999/xlink\" contentScriptType=\"application/ecmascript\" contentStyleType=\"text/css\" height=\"421px\" preserveAspectRatio=\"none\" style=\"width:836px;height:421px;\" version=\"1.1\" viewBox=\"0 0 836 421\" width=\"836px\" zoomAndPan=\"magnify\"><defs/><g><!--MD5=[fbc87193dbaf4d95561dea2c320d4a47]\n",
       "cluster E1--><a href=\"psysml:800f45c9-cf5c-46ce-b3c3-487778cd6319\" target=\"_top\" title=\"psysml:800f45c9-cf5c-46ce-b3c3-487778cd6319\" xlink:actuate=\"onRequest\" xlink:href=\"psysml:800f45c9-cf5c-46ce-b3c3-487778cd6319\" xlink:show=\"new\" xlink:title=\"psysml:800f45c9-cf5c-46ce-b3c3-487778cd6319\" xlink:type=\"simple\"><polygon fill=\"#FFFFFF\" points=\"16,6,98,6,105,28.2969,814,28.2969,814,409.5,16,409.5,16,6\" style=\"stroke: #000000; stroke-width: 1.5;\"/><line style=\"stroke: #000000; stroke-width: 1.5;\" x1=\"16\" x2=\"105\" y1=\"28.2969\" y2=\"28.2969\"/><text fill=\"#000000\" font-family=\"sans-serif\" font-size=\"14\" font-weight=\"bold\" lengthAdjust=\"spacingAndGlyphs\" textLength=\"76\" x=\"20\" y=\"20.9951\">StateTest</text></a><!--MD5=[14e3b0961a2654348d326746436168a1]\n",
       "cluster E6--><a href=\"psysml:f2a66a23-1197-47ed-b1bd-74e1ad61d6fd\" target=\"_top\" title=\"psysml:f2a66a23-1197-47ed-b1bd-74e1ad61d6fd\" xlink:actuate=\"onRequest\" xlink:href=\"psysml:f2a66a23-1197-47ed-b1bd-74e1ad61d6fd\" xlink:show=\"new\" xlink:title=\"psysml:f2a66a23-1197-47ed-b1bd-74e1ad61d6fd\" xlink:type=\"simple\"><rect fill=\"#FFFFFF\" height=\"336.5\" id=\"E6\" style=\"stroke: #383838; stroke-width: 1.5;\" width=\"327\" x=\"463\" y=\"49\"/><rect fill=\"#F8F8F8\" height=\"37.9375\" style=\"stroke: #383838; stroke-width: 1.5;\" width=\"327\" x=\"463\" y=\"49\"/><text fill=\"#000000\" font-family=\"sans-serif\" font-size=\"12\" font-style=\"italic\" lengthAdjust=\"spacingAndGlyphs\" textLength=\"71\" x=\"591\" y=\"65.1387\">«state def»</text><text fill=\"#000000\" font-family=\"sans-serif\" font-size=\"12\" lengthAdjust=\"spacingAndGlyphs\" textLength=\"8\" x=\"622.5\" y=\"79.1074\">S</text><line style=\"stroke: #383838; stroke-width: 1.0;\" x1=\"463\" x2=\"790\" y1=\"132.8438\" y2=\"132.8438\"/><text fill=\"#000000\" font-family=\"sans-serif\" font-size=\"12\" font-weight=\"bold\" lengthAdjust=\"spacingAndGlyphs\" textLength=\"38\" x=\"468\" y=\"100.0762\">entry</text><text fill=\"#000000\" font-family=\"sans-serif\" font-size=\"12\" lengthAdjust=\"spacingAndGlyphs\" textLength=\"16\" x=\"506\" y=\"100.0762\">/ A</text><text fill=\"#000000\" font-family=\"sans-serif\" font-size=\"12\" font-weight=\"bold\" lengthAdjust=\"spacingAndGlyphs\" textLength=\"18\" x=\"468\" y=\"114.0449\">do</text><text fill=\"#000000\" font-family=\"sans-serif\" font-size=\"12\" lengthAdjust=\"spacingAndGlyphs\" textLength=\"16\" x=\"486\" y=\"114.0449\">/ B</text><text fill=\"#000000\" font-family=\"sans-serif\" font-size=\"12\" font-weight=\"bold\" lengthAdjust=\"spacingAndGlyphs\" textLength=\"26\" x=\"468\" y=\"128.0137\">exit</text><text fill=\"#000000\" font-family=\"sans-serif\" font-size=\"12\" lengthAdjust=\"spacingAndGlyphs\" textLength=\"28\" x=\"494\" y=\"128.0137\">/ act</text></a><g id=\"E1.E2\"><a href=\"psysml:f1048496-f45f-4de3-be42-17169da36fba\" target=\"_top\" title=\"psysml:f1048496-f45f-4de3-be42-17169da36fba\" xlink:actuate=\"onRequest\" xlink:href=\"psysml:f1048496-f45f-4de3-be42-17169da36fba\" xlink:show=\"new\" xlink:title=\"psysml:f1048496-f45f-4de3-be42-17169da36fba\" xlink:type=\"simple\"><rect fill=\"#FFFFFF\" height=\"42.9375\" id=\"E2\" style=\"stroke: #383838; stroke-width: 1.5;\" width=\"100\" x=\"347\" y=\"135.5\"/><rect fill=\"#F8F8F8\" height=\"37.9375\" style=\"stroke: #383838; stroke-width: 1.5;\" width=\"100\" x=\"347\" y=\"135.5\"/><text fill=\"#000000\" font-family=\"sans-serif\" font-size=\"12\" font-style=\"italic\" lengthAdjust=\"spacingAndGlyphs\" textLength=\"93\" x=\"350.5\" y=\"151.6387\">«attribute def»</text><text fill=\"#000000\" font-family=\"sans-serif\" font-size=\"12\" lengthAdjust=\"spacingAndGlyphs\" textLength=\"19\" x=\"387.5\" y=\"165.6074\">Sig</text></a></g><g id=\"E1.E3\"><a href=\"psysml:546c6a0a-79ca-4224-b50a-77e407cae485\" target=\"_top\" title=\"psysml:546c6a0a-79ca-4224-b50a-77e407cae485\" xlink:actuate=\"onRequest\" xlink:href=\"psysml:546c6a0a-79ca-4224-b50a-77e407cae485\" xlink:show=\"new\" xlink:title=\"psysml:546c6a0a-79ca-4224-b50a-77e407cae485\" xlink:type=\"simple\"><rect fill=\"#FFFFFF\" height=\"42.9375\" id=\"E3\" style=\"stroke: #383838; stroke-width: 1.5;\" width=\"100\" x=\"212\" y=\"135.5\"/><rect fill=\"#F8F8F8\" height=\"37.9375\" style=\"stroke: #383838; stroke-width: 1.5;\" width=\"100\" x=\"212\" y=\"135.5\"/><text fill=\"#000000\" font-family=\"sans-serif\" font-size=\"12\" font-style=\"italic\" lengthAdjust=\"spacingAndGlyphs\" textLength=\"93\" x=\"215.5\" y=\"151.6387\">«attribute def»</text><text fill=\"#000000\" font-family=\"sans-serif\" font-size=\"12\" lengthAdjust=\"spacingAndGlyphs\" textLength=\"22\" x=\"251\" y=\"165.6074\">Exit</text></a></g><g id=\"E1.E4\"><a href=\"psysml:4710131f-7c31-45d9-a6fe-10a60fc8490a\" target=\"_top\" title=\"psysml:4710131f-7c31-45d9-a6fe-10a60fc8490a\" xlink:actuate=\"onRequest\" xlink:href=\"psysml:4710131f-7c31-45d9-a6fe-10a60fc8490a\" xlink:show=\"new\" xlink:title=\"psysml:4710131f-7c31-45d9-a6fe-10a60fc8490a\" xlink:type=\"simple\"><rect fill=\"#FFFFFF\" height=\"40\" id=\"E4\" rx=\"10\" ry=\"10\" style=\"stroke: #383838; stroke-width: 1.5;\" width=\"50\" x=\"127\" y=\"137\"/><rect fill=\"#F8F8F8\" height=\"23.9688\" rx=\"10\" ry=\"10\" style=\"stroke: #F8F8F8; stroke-width: 1.5;\" width=\"50\" x=\"127\" y=\"137\"/><rect fill=\"#F8F8F8\" height=\"10\" style=\"stroke: #F8F8F8; stroke-width: 1.5;\" width=\"50\" x=\"127\" y=\"150.9688\"/><rect fill=\"none\" height=\"40\" id=\"E4\" rx=\"10\" ry=\"10\" style=\"stroke: #383838; stroke-width: 1.5;\" width=\"50\" x=\"127\" y=\"137\"/><text fill=\"#000000\" font-family=\"sans-serif\" font-size=\"12\" lengthAdjust=\"spacingAndGlyphs\" textLength=\"8\" x=\"148\" y=\"153.1387\">p</text></a></g><g id=\"E1.E5\"><a href=\"psysml:0b92cdb5-3694-4434-adff-e0b2149bd4e6\" target=\"_top\" title=\"psysml:0b92cdb5-3694-4434-adff-e0b2149bd4e6\" xlink:actuate=\"onRequest\" xlink:href=\"psysml:0b92cdb5-3694-4434-adff-e0b2149bd4e6\" xlink:show=\"new\" xlink:title=\"psysml:0b92cdb5-3694-4434-adff-e0b2149bd4e6\" xlink:type=\"simple\"><rect fill=\"#FFFFFF\" height=\"42.9375\" id=\"E5\" rx=\"10\" ry=\"10\" style=\"stroke: #383838; stroke-width: 1.5;\" width=\"60\" x=\"32\" y=\"135.5\"/><rect fill=\"#F8F8F8\" height=\"37.9375\" rx=\"10\" ry=\"10\" style=\"stroke: #F8F8F8; stroke-width: 1.5;\" width=\"60\" x=\"32\" y=\"135.5\"/><rect fill=\"#F8F8F8\" height=\"10\" style=\"stroke: #F8F8F8; stroke-width: 1.5;\" width=\"60\" x=\"32\" y=\"163.4375\"/><rect fill=\"none\" height=\"42.9375\" id=\"E5\" rx=\"10\" ry=\"10\" style=\"stroke: #383838; stroke-width: 1.5;\" width=\"60\" x=\"32\" y=\"135.5\"/><text fill=\"#000000\" font-family=\"sans-serif\" font-size=\"12\" font-style=\"italic\" lengthAdjust=\"spacingAndGlyphs\" textLength=\"53\" x=\"35.5\" y=\"151.6387\">«action»</text><text fill=\"#000000\" font-family=\"sans-serif\" font-size=\"12\" lengthAdjust=\"spacingAndGlyphs\" textLength=\"20\" x=\"52\" y=\"165.6074\">act</text></a></g><ellipse cx=\"575\" cy=\"157\" fill=\"#000000\" rx=\"10\" ry=\"10\" style=\"stroke: none; stroke-width: 1.0;\"/><ellipse cx=\"600\" cy=\"359.5\" fill=\"none\" rx=\"10\" ry=\"10\" style=\"stroke: #000000; stroke-width: 1.0;\"/><ellipse cx=\"600.5\" cy=\"360\" fill=\"#000000\" rx=\"6\" ry=\"6\" style=\"stroke: none; stroke-width: 1.0;\"/><g id=\"E1.E6.E7\"><a href=\"psysml:0ffea2c5-2698-4589-991c-94f7ac5b0395\" target=\"_top\" title=\"psysml:0ffea2c5-2698-4589-991c-94f7ac5b0395\" xlink:actuate=\"onRequest\" xlink:href=\"psysml:0ffea2c5-2698-4589-991c-94f7ac5b0395\" xlink:show=\"new\" xlink:title=\"psysml:0ffea2c5-2698-4589-991c-94f7ac5b0395\" xlink:type=\"simple\"><rect fill=\"#FFFFFF\" height=\"40\" id=\"E7\" rx=\"10\" ry=\"10\" style=\"stroke: #383838; stroke-width: 1.5;\" width=\"50\" x=\"550\" y=\"195.5\"/><rect fill=\"#F8F8F8\" height=\"23.9688\" rx=\"10\" ry=\"10\" style=\"stroke: #F8F8F8; stroke-width: 1.5;\" width=\"50\" x=\"550\" y=\"195.5\"/><rect fill=\"#F8F8F8\" height=\"10\" style=\"stroke: #F8F8F8; stroke-width: 1.5;\" width=\"50\" x=\"550\" y=\"209.4688\"/><rect fill=\"none\" height=\"40\" id=\"E7\" rx=\"10\" ry=\"10\" style=\"stroke: #383838; stroke-width: 1.5;\" width=\"50\" x=\"550\" y=\"195.5\"/><text fill=\"#000000\" font-family=\"sans-serif\" font-size=\"12\" lengthAdjust=\"spacingAndGlyphs\" textLength=\"16\" x=\"567\" y=\"211.6387\">S1</text></a></g><g id=\"E1.E6.E8\"><a href=\"psysml:f6369ddf-93b2-4791-a9ee-7d090a7e6258\" target=\"_top\" title=\"psysml:f6369ddf-93b2-4791-a9ee-7d090a7e6258\" xlink:actuate=\"onRequest\" xlink:href=\"psysml:f6369ddf-93b2-4791-a9ee-7d090a7e6258\" xlink:show=\"new\" xlink:title=\"psysml:f6369ddf-93b2-4791-a9ee-7d090a7e6258\" xlink:type=\"simple\"><rect fill=\"#FFFFFF\" height=\"47.9375\" id=\"E8\" rx=\"10\" ry=\"10\" style=\"stroke: #383838; stroke-width: 1.5;\" width=\"169\" x=\"515.5\" y=\"268.5\"/><rect fill=\"#F8F8F8\" height=\"23.9688\" rx=\"10\" ry=\"10\" style=\"stroke: #F8F8F8; stroke-width: 1.5;\" width=\"169\" x=\"515.5\" y=\"268.5\"/><rect fill=\"#F8F8F8\" height=\"10\" style=\"stroke: #F8F8F8; stroke-width: 1.5;\" width=\"169\" x=\"515.5\" y=\"282.4688\"/><rect fill=\"none\" height=\"47.9375\" id=\"E8\" rx=\"10\" ry=\"10\" style=\"stroke: #383838; stroke-width: 1.5;\" width=\"169\" x=\"515.5\" y=\"268.5\"/><text fill=\"#000000\" font-family=\"sans-serif\" font-size=\"12\" lengthAdjust=\"spacingAndGlyphs\" textLength=\"16\" x=\"592\" y=\"284.6387\">S2</text><line style=\"stroke: #383838; stroke-width: 1.0;\" x1=\"515.5\" x2=\"684.5\" y1=\"292.4688\" y2=\"292.4688\"/><text fill=\"#000000\" font-family=\"sans-serif\" font-size=\"12\" font-weight=\"bold\" lengthAdjust=\"spacingAndGlyphs\" textLength=\"18\" x=\"520.5\" y=\"305.6074\">do</text><text fill=\"#000000\" font-family=\"sans-serif\" font-size=\"12\" lengthAdjust=\"spacingAndGlyphs\" textLength=\"141\" x=\"538.5\" y=\"305.6074\">/  send Sig(T::s::x) to p</text></a></g><!--MD5=[5a531d3a85f3339e6e197084acb48195]\n",
       "link *start*E6 to E7--><a href=\"psysml:3d6f6111-a5f0-4f07-bf0a-543b5052b3c3\" target=\"_top\" title=\"psysml:3d6f6111-a5f0-4f07-bf0a-543b5052b3c3\" xlink:actuate=\"onRequest\" xlink:href=\"psysml:3d6f6111-a5f0-4f07-bf0a-543b5052b3c3\" xlink:show=\"new\" xlink:title=\"psysml:3d6f6111-a5f0-4f07-bf0a-543b5052b3c3\" xlink:type=\"simple\"><path d=\"M575,167.08 C575,173.38 575,182.09 575,190.34 \" fill=\"none\" id=\"*start*E6-&gt;E7\" style=\"stroke: #383838; stroke-width: 1.0;\"/><polygon fill=\"#383838\" points=\"575,195.38,579,186.38,575,190.38,571,186.38,575,195.38\" style=\"stroke: #383838; stroke-width: 1.0;\"/></a><!--MD5=[7ec9a8babba89ddcae1318ca9fb3c814]\n",
       "link E8 to *end*E6--><a href=\"psysml:374875bf-0004-40f7-bedc-1374d527cde5\" target=\"_top\" title=\"psysml:374875bf-0004-40f7-bedc-1374d527cde5\" xlink:actuate=\"onRequest\" xlink:href=\"psysml:374875bf-0004-40f7-bedc-1374d527cde5\" xlink:show=\"new\" xlink:title=\"psysml:374875bf-0004-40f7-bedc-1374d527cde5\" xlink:type=\"simple\"><path d=\"M600,316.6 C600,325.73 600,335.95 600,344 \" fill=\"none\" id=\"E8-&gt;*end*E6\" style=\"stroke: #383838; stroke-width: 1.0;\"/><polygon fill=\"#383838\" points=\"600,349.2,604,340.2,600,344.2,596,340.2,600,349.2\" style=\"stroke: #383838; stroke-width: 1.0;\"/><text fill=\"#000000\" font-family=\"sans-serif\" font-size=\"13\" lengthAdjust=\"spacingAndGlyphs\" textLength=\"23\" x=\"601\" y=\"337.5669\">Exit</text></a><!--MD5=[79bc8f324ef4d02c541433f2e6e513c3]\n",
       "link E7 to E8--><a href=\"psysml:69f1494c-077d-4519-8343-87cce73be713\" target=\"_top\" title=\"psysml:69f1494c-077d-4519-8343-87cce73be713\" xlink:actuate=\"onRequest\" xlink:href=\"psysml:69f1494c-077d-4519-8343-87cce73be713\" xlink:show=\"new\" xlink:title=\"psysml:69f1494c-077d-4519-8343-87cce73be713\" xlink:type=\"simple\"><path d=\"M549.73,220.27 C535.78,223.78 519.6,230.54 511,243.5 C506.82,249.8 506.62,254.34 511,260.5 C512,261.9 513.06,263.24 514.18,264.52 \" fill=\"none\" id=\"E7-&gt;E8\" style=\"stroke: #383838; stroke-width: 1.0;\"/><polygon fill=\"#383838\" points=\"517.73,268.17,514.3248,258.9285,514.2448,264.5848,508.5885,264.5048,517.73,268.17\" style=\"stroke: #383838; stroke-width: 1.0;\"/><text fill=\"#000000\" font-family=\"sans-serif\" font-size=\"13\" lengthAdjust=\"spacingAndGlyphs\" textLength=\"81\" x=\"512\" y=\"256.5669\">Sig /action D</text></a><!--MD5=[bfa3c8b0d15052fdf50ae9310b491027]\n",
       "link E8 to E7--><a href=\"psysml:f8d53726-bfe5-4353-91f3-ae2ef06d9a38\" target=\"_top\" title=\"psysml:f8d53726-bfe5-4353-91f3-ae2ef06d9a38\" xlink:actuate=\"onRequest\" xlink:href=\"psysml:f8d53726-bfe5-4353-91f3-ae2ef06d9a38\" xlink:show=\"new\" xlink:title=\"psysml:f8d53726-bfe5-4353-91f3-ae2ef06d9a38\" xlink:type=\"simple\"><path d=\"M602.07,268.4 C602.02,260.29 601.04,251.27 598,243.5 C597.53,242.3 596.98,241.11 596.37,239.94 \" fill=\"none\" id=\"E8-&gt;E7\" style=\"stroke: #383838; stroke-width: 1.0;\"/><polygon fill=\"#383838\" points=\"593.74,235.56,594.9405,245.3354,596.3125,239.8475,601.8004,241.2195,593.74,235.56\" style=\"stroke: #383838; stroke-width: 1.0;\"/><text fill=\"#000000\" font-family=\"sans-serif\" font-size=\"13\" lengthAdjust=\"spacingAndGlyphs\" textLength=\"135\" x=\"602\" y=\"256.5669\">Sig [true]/send s to p</text></a><!--MD5=[67e146b4c5577a75b7cca989f065327a]\n",
       "@startuml\r\n",
       "skinparam ranksep 10\r\n",
       "skinparam rectangle {\r\n",
       " backgroundColor<<block>> LightGreen\r\n",
       "}\r\n",
       "skinparam monochrome true\r\n",
       "skinparam classbackgroundcolor white\r\n",
       "skinparam shadowing false\r\n",
       "skinparam wrapWidth 300\r\n",
       "hide circle\r\n",
       "\r\n",
       "package \"StateTest\" as E1  [[psysml:800f45c9-cf5c-46ce-b3c3-487778cd6319 ]]  {\r\n",
       "def \"Sig\" as E2  <<(T,blue)attribute def>> [[psysml:f1048496-f45f-4de3-be42-17169da36fba ]] \r\n",
       "def \"Exit\" as E3  <<(T,blue)attribute def>> [[psysml:546c6a0a-79ca-4224-b50a-77e407cae485 ]] \r\n",
       "rec usage \"p\" as E4  [[psysml:4710131f-7c31-45d9-a6fe-10a60fc8490a ]] {\r\n",
       "}\r\n",
       "rec usage \"act\" as E5  <<(T,blue)action>> [[psysml:0b92cdb5-3694-4434-adff-e0b2149bd4e6 ]] {\r\n",
       "}\r\n",
       "\r\n",
       "rec def \"S\" as E6  <<(T,blue)state def>> [[psysml:f2a66a23-1197-47ed-b1bd-74e1ad61d6fd ]] {\r\n",
       "rec usage \"S1\" as E7 [[psysml:0ffea2c5-2698-4589-991c-94f7ac5b0395 ]] {\r\n",
       "}\r\n",
       "\r\n",
       "rec usage \"S2\" as E8 [[psysml:f6369ddf-93b2-4791-a9ee-7d090a7e6258 ]] {\r\n",
       "desc \"S2\" as E8  : **do**/  send Sig(T::s::x) to p\r\n",
       "}\r\n",
       "\r\n",
       "desc \"S\" as E6  : **entry**/ A\r\n",
       "desc \"S\" as E6  : **do**/ B\r\n",
       "desc \"S\" as E6  : **exit**/ act \r\n",
       "[*] - -> E7 [[psysml:3d6f6111-a5f0-4f07-bf0a-543b5052b3c3 ]] \r\n",
       "E8  - -> [*] [[psysml:374875bf-0004-40f7-bedc-1374d527cde5 ]] : Exit \r\n",
       "}\r\n",
       "\r\n",
       "E7  - -> E8 [[psysml:69f1494c-077d-4519-8343-87cce73be713 ]] : Sig /action D\r\n",
       "E8  - -> E7 [[psysml:f8d53726-bfe5-4353-91f3-ae2ef06d9a38 ]] : Sig [true]/send s to p\r\n",
       "}\r\n",
       "@enduml\r\n",
       "\n",
       "PlantUML version 1.2020.13(Sat Jun 13 12:26:38 UTC 2020)\n",
       "(EPL source distribution)\n",
       "Java Runtime: OpenJDK Runtime Environment\n",
       "JVM: OpenJDK 64-Bit Server VM\n",
       "Default Encoding: UTF-8\n",
       "Language: en\n",
       "Country: null\n",
       "--></g></svg>"
      ]
     },
     "execution_count": 40,
     "metadata": {},
     "output_type": "execute_result"
    }
   ],
   "source": [
    "%viz --style=\"DEFAULT\" --view=\"Interconnection\" \"StateTest\""
   ]
  },
  {
   "cell_type": "code",
   "execution_count": 41,
   "id": "941949a7",
   "metadata": {
    "execution": {
     "iopub.execute_input": "2021-04-21T20:23:44.967556Z",
     "iopub.status.busy": "2021-04-21T20:23:44.966809Z",
     "iopub.status.idle": "2021-04-21T20:23:45.007004Z",
     "shell.execute_reply": "2021-04-21T20:23:45.005587Z"
    }
   },
   "outputs": [
    {
     "data": {
      "image/svg+xml": [
       "<?xml version=\"1.0\" encoding=\"UTF-8\" standalone=\"no\"?><svg xmlns=\"http://www.w3.org/2000/svg\" xmlns:xlink=\"http://www.w3.org/1999/xlink\" contentScriptType=\"application/ecmascript\" contentStyleType=\"text/css\" height=\"444px\" preserveAspectRatio=\"none\" style=\"width:594px;height:444px;\" version=\"1.1\" viewBox=\"0 0 594 444\" width=\"594px\" zoomAndPan=\"magnify\"><defs/><g><!--MD5=[e4f7fae6ed58524ba242bb0b0d3be6b7]\n",
       "cluster E2--><a href=\"psysml:f2a66a23-1197-47ed-b1bd-74e1ad61d6fd\" target=\"_top\" title=\"psysml:f2a66a23-1197-47ed-b1bd-74e1ad61d6fd\" xlink:actuate=\"onRequest\" xlink:href=\"psysml:f2a66a23-1197-47ed-b1bd-74e1ad61d6fd\" xlink:show=\"new\" xlink:title=\"psysml:f2a66a23-1197-47ed-b1bd-74e1ad61d6fd\" xlink:type=\"simple\"><rect fill=\"#FFFFFF\" height=\"426\" id=\"E2\" style=\"stroke: #383838; stroke-width: 1.5;\" width=\"497\" x=\"86\" y=\"7\"/><rect fill=\"#F8F8F8\" height=\"37.9375\" style=\"stroke: #383838; stroke-width: 1.5;\" width=\"497\" x=\"86\" y=\"7\"/><text fill=\"#000000\" font-family=\"sans-serif\" font-size=\"12\" font-style=\"italic\" lengthAdjust=\"spacingAndGlyphs\" textLength=\"71\" x=\"299\" y=\"23.1387\">«state def»</text><text fill=\"#000000\" font-family=\"sans-serif\" font-size=\"12\" lengthAdjust=\"spacingAndGlyphs\" textLength=\"8\" x=\"330.5\" y=\"37.1074\">S</text></a><!--MD5=[168fadf3d0c3fd93dd5d6da1b1d7ab76]\n",
       "cluster E7--><a href=\"psysml:f6369ddf-93b2-4791-a9ee-7d090a7e6258\" target=\"_top\" title=\"psysml:f6369ddf-93b2-4791-a9ee-7d090a7e6258\" xlink:actuate=\"onRequest\" xlink:href=\"psysml:f6369ddf-93b2-4791-a9ee-7d090a7e6258\" xlink:show=\"new\" xlink:title=\"psysml:f6369ddf-93b2-4791-a9ee-7d090a7e6258\" xlink:type=\"simple\"><rect fill=\"#FFFFFF\" height=\"138\" id=\"E7\" rx=\"10\" ry=\"10\" style=\"stroke: #383838; stroke-width: 1.5;\" width=\"195\" x=\"327\" y=\"210\"/><rect fill=\"#F8F8F8\" height=\"37.9375\" rx=\"10\" ry=\"10\" style=\"stroke: #F8F8F8; stroke-width: 1.5;\" width=\"195\" x=\"327\" y=\"210\"/><rect fill=\"#F8F8F8\" height=\"10\" style=\"stroke: #F8F8F8; stroke-width: 1.5;\" width=\"195\" x=\"327\" y=\"237.9375\"/><rect fill=\"none\" height=\"138\" id=\"E7\" rx=\"10\" ry=\"10\" style=\"stroke: #383838; stroke-width: 1.5;\" width=\"195\" x=\"327\" y=\"210\"/><text fill=\"#000000\" font-family=\"sans-serif\" font-size=\"12\" font-style=\"italic\" lengthAdjust=\"spacingAndGlyphs\" textLength=\"47\" x=\"401\" y=\"226.1387\">«state»</text><text fill=\"#000000\" font-family=\"sans-serif\" font-size=\"12\" lengthAdjust=\"spacingAndGlyphs\" textLength=\"16\" x=\"416.5\" y=\"240.1074\">S2</text><line style=\"stroke: #383838; stroke-width: 1.0;\" x1=\"327\" x2=\"522\" y1=\"247.9375\" y2=\"247.9375\"/></a><g id=\"E1\"><a href=\"psysml:0b92cdb5-3694-4434-adff-e0b2149bd4e6\" target=\"_top\" title=\"psysml:0b92cdb5-3694-4434-adff-e0b2149bd4e6\" xlink:actuate=\"onRequest\" xlink:href=\"psysml:0b92cdb5-3694-4434-adff-e0b2149bd4e6\" xlink:show=\"new\" xlink:title=\"psysml:0b92cdb5-3694-4434-adff-e0b2149bd4e6\" xlink:type=\"simple\"><rect fill=\"#FFFFFF\" height=\"42.9375\" id=\"E1\" rx=\"10\" ry=\"10\" style=\"stroke: #383838; stroke-width: 1.5;\" width=\"60\" x=\"7\" y=\"58\"/><rect fill=\"#F8F8F8\" height=\"37.9375\" rx=\"10\" ry=\"10\" style=\"stroke: #F8F8F8; stroke-width: 1.5;\" width=\"60\" x=\"7\" y=\"58\"/><rect fill=\"#F8F8F8\" height=\"10\" style=\"stroke: #F8F8F8; stroke-width: 1.5;\" width=\"60\" x=\"7\" y=\"85.9375\"/><rect fill=\"none\" height=\"42.9375\" id=\"E1\" rx=\"10\" ry=\"10\" style=\"stroke: #383838; stroke-width: 1.5;\" width=\"60\" x=\"7\" y=\"58\"/><text fill=\"#000000\" font-family=\"sans-serif\" font-size=\"12\" font-style=\"italic\" lengthAdjust=\"spacingAndGlyphs\" textLength=\"53\" x=\"10.5\" y=\"74.1387\">«action»</text><text fill=\"#000000\" font-family=\"sans-serif\" font-size=\"12\" lengthAdjust=\"spacingAndGlyphs\" textLength=\"20\" x=\"27\" y=\"88.1074\">act</text></a></g><ellipse cx=\"557\" cy=\"79.5\" fill=\"#000000\" rx=\"10\" ry=\"10\" style=\"stroke: none; stroke-width: 1.0;\"/><ellipse cx=\"335\" cy=\"407\" fill=\"none\" rx=\"10\" ry=\"10\" style=\"stroke: #000000; stroke-width: 1.0;\"/><ellipse cx=\"335.5\" cy=\"407.5\" fill=\"#000000\" rx=\"6\" ry=\"6\" style=\"stroke: none; stroke-width: 1.0;\"/><g id=\"E2.E3\"><a href=\"psysml:b2584b97-8c36-4971-ba08-266a53e2e05d\" target=\"_top\" title=\"psysml:b2584b97-8c36-4971-ba08-266a53e2e05d\" xlink:actuate=\"onRequest\" xlink:href=\"psysml:b2584b97-8c36-4971-ba08-266a53e2e05d\" xlink:show=\"new\" xlink:title=\"psysml:b2584b97-8c36-4971-ba08-266a53e2e05d\" xlink:type=\"simple\"><rect fill=\"#FFFFFF\" height=\"42.9375\" id=\"E3\" rx=\"10\" ry=\"10\" style=\"stroke: #383838; stroke-width: 1.5;\" width=\"113\" x=\"398.5\" y=\"58\"/><rect fill=\"#F8F8F8\" height=\"37.9375\" rx=\"10\" ry=\"10\" style=\"stroke: #F8F8F8; stroke-width: 1.5;\" width=\"113\" x=\"398.5\" y=\"58\"/><rect fill=\"#F8F8F8\" height=\"10\" style=\"stroke: #F8F8F8; stroke-width: 1.5;\" width=\"113\" x=\"398.5\" y=\"85.9375\"/><rect fill=\"none\" height=\"42.9375\" id=\"E3\" rx=\"10\" ry=\"10\" style=\"stroke: #383838; stroke-width: 1.5;\" width=\"113\" x=\"398.5\" y=\"58\"/><text fill=\"#000000\" font-family=\"sans-serif\" font-size=\"12\" font-style=\"italic\" lengthAdjust=\"spacingAndGlyphs\" textLength=\"106\" x=\"402\" y=\"74.1387\">«perform action»</text><text fill=\"#000000\" font-family=\"sans-serif\" font-size=\"12\" lengthAdjust=\"spacingAndGlyphs\" textLength=\"8\" x=\"451\" y=\"88.1074\">A</text></a></g><g id=\"E2.E4\"><a href=\"psysml:4ff81092-47a1-4e96-8d92-0120048334f8\" target=\"_top\" title=\"psysml:4ff81092-47a1-4e96-8d92-0120048334f8\" xlink:actuate=\"onRequest\" xlink:href=\"psysml:4ff81092-47a1-4e96-8d92-0120048334f8\" xlink:show=\"new\" xlink:title=\"psysml:4ff81092-47a1-4e96-8d92-0120048334f8\" xlink:type=\"simple\"><rect fill=\"#FFFFFF\" height=\"42.9375\" id=\"E4\" rx=\"10\" ry=\"10\" style=\"stroke: #383838; stroke-width: 1.5;\" width=\"113\" x=\"250.5\" y=\"58\"/><rect fill=\"#F8F8F8\" height=\"37.9375\" rx=\"10\" ry=\"10\" style=\"stroke: #F8F8F8; stroke-width: 1.5;\" width=\"113\" x=\"250.5\" y=\"58\"/><rect fill=\"#F8F8F8\" height=\"10\" style=\"stroke: #F8F8F8; stroke-width: 1.5;\" width=\"113\" x=\"250.5\" y=\"85.9375\"/><rect fill=\"none\" height=\"42.9375\" id=\"E4\" rx=\"10\" ry=\"10\" style=\"stroke: #383838; stroke-width: 1.5;\" width=\"113\" x=\"250.5\" y=\"58\"/><text fill=\"#000000\" font-family=\"sans-serif\" font-size=\"12\" font-style=\"italic\" lengthAdjust=\"spacingAndGlyphs\" textLength=\"106\" x=\"254\" y=\"74.1387\">«perform action»</text><text fill=\"#000000\" font-family=\"sans-serif\" font-size=\"12\" lengthAdjust=\"spacingAndGlyphs\" textLength=\"8\" x=\"303\" y=\"88.1074\">B</text></a></g><g id=\"E2.E5\"><a href=\"psysml:304a78cc-8684-4bf6-a939-94ca910a3e9f\" target=\"_top\" title=\"psysml:304a78cc-8684-4bf6-a939-94ca910a3e9f\" xlink:actuate=\"onRequest\" xlink:href=\"psysml:304a78cc-8684-4bf6-a939-94ca910a3e9f\" xlink:show=\"new\" xlink:title=\"psysml:304a78cc-8684-4bf6-a939-94ca910a3e9f\" xlink:type=\"simple\"><rect fill=\"#FFFFFF\" height=\"42.9375\" id=\"E5\" rx=\"10\" ry=\"10\" style=\"stroke: #383838; stroke-width: 1.5;\" width=\"113\" x=\"102.5\" y=\"58\"/><rect fill=\"#F8F8F8\" height=\"37.9375\" rx=\"10\" ry=\"10\" style=\"stroke: #F8F8F8; stroke-width: 1.5;\" width=\"113\" x=\"102.5\" y=\"58\"/><rect fill=\"#F8F8F8\" height=\"10\" style=\"stroke: #F8F8F8; stroke-width: 1.5;\" width=\"113\" x=\"102.5\" y=\"85.9375\"/><rect fill=\"none\" height=\"42.9375\" id=\"E5\" rx=\"10\" ry=\"10\" style=\"stroke: #383838; stroke-width: 1.5;\" width=\"113\" x=\"102.5\" y=\"58\"/><text fill=\"#000000\" font-family=\"sans-serif\" font-size=\"12\" font-style=\"italic\" lengthAdjust=\"spacingAndGlyphs\" textLength=\"106\" x=\"106\" y=\"74.1387\">«perform action»</text><text fill=\"#000000\" font-family=\"sans-serif\" font-size=\"12\" lengthAdjust=\"spacingAndGlyphs\" textLength=\"20\" x=\"149\" y=\"88.1074\">act</text></a></g><g id=\"E2.E6\"><a href=\"psysml:0ffea2c5-2698-4589-991c-94f7ac5b0395\" target=\"_top\" title=\"psysml:0ffea2c5-2698-4589-991c-94f7ac5b0395\" xlink:actuate=\"onRequest\" xlink:href=\"psysml:0ffea2c5-2698-4589-991c-94f7ac5b0395\" xlink:show=\"new\" xlink:title=\"psysml:0ffea2c5-2698-4589-991c-94f7ac5b0395\" xlink:type=\"simple\"><rect fill=\"#FFFFFF\" height=\"42.9375\" id=\"E6\" rx=\"10\" ry=\"10\" style=\"stroke: #383838; stroke-width: 1.5;\" width=\"54\" x=\"403\" y=\"118\"/><rect fill=\"#F8F8F8\" height=\"37.9375\" rx=\"10\" ry=\"10\" style=\"stroke: #F8F8F8; stroke-width: 1.5;\" width=\"54\" x=\"403\" y=\"118\"/><rect fill=\"#F8F8F8\" height=\"10\" style=\"stroke: #F8F8F8; stroke-width: 1.5;\" width=\"54\" x=\"403\" y=\"145.9375\"/><rect fill=\"none\" height=\"42.9375\" id=\"E6\" rx=\"10\" ry=\"10\" style=\"stroke: #383838; stroke-width: 1.5;\" width=\"54\" x=\"403\" y=\"118\"/><text fill=\"#000000\" font-family=\"sans-serif\" font-size=\"12\" font-style=\"italic\" lengthAdjust=\"spacingAndGlyphs\" textLength=\"47\" x=\"406.5\" y=\"134.1387\">«state»</text><text fill=\"#000000\" font-family=\"sans-serif\" font-size=\"12\" lengthAdjust=\"spacingAndGlyphs\" textLength=\"16\" x=\"422\" y=\"148.1074\">S1</text></a></g><!--MD5=[2803005a5f354d3255b1b7bbd839bbf7]\n",
       "entity E8--><a href=\"psysml:4e70c0dc-8141-4b3a-9526-a99ab1429170\" target=\"_top\" title=\"psysml:4e70c0dc-8141-4b3a-9526-a99ab1429170\" xlink:actuate=\"onRequest\" xlink:href=\"psysml:4e70c0dc-8141-4b3a-9526-a99ab1429170\" xlink:show=\"new\" xlink:title=\"psysml:4e70c0dc-8141-4b3a-9526-a99ab1429170\" xlink:type=\"simple\"><polygon fill=\"#F8F8F8\" points=\"370,269,370,323.5938,478,323.5938,498,296.2969,478,269\" style=\"stroke: #000000; stroke-width: 1.5;\"/><text fill=\"#000000\" font-family=\"sans-serif\" font-size=\"14\" font-style=\"italic\" lengthAdjust=\"spacingAndGlyphs\" textLength=\"99\" x=\"377\" y=\"291.9951\">«send action»</text><text fill=\"#000000\" font-family=\"sans-serif\" font-size=\"14\" lengthAdjust=\"spacingAndGlyphs\" textLength=\"75\" x=\"389\" y=\"309.292\">Sig(T::s::x)</text></a><!--MD5=[2e26681bccdb10b30299c36e1180c624]\n",
       "link *start*E2 to E6--><a href=\"psysml:3d6f6111-a5f0-4f07-bf0a-543b5052b3c3\" target=\"_top\" title=\"psysml:3d6f6111-a5f0-4f07-bf0a-543b5052b3c3\" xlink:actuate=\"onRequest\" xlink:href=\"psysml:3d6f6111-a5f0-4f07-bf0a-543b5052b3c3\" xlink:show=\"new\" xlink:title=\"psysml:3d6f6111-a5f0-4f07-bf0a-543b5052b3c3\" xlink:type=\"simple\"><path d=\"M549.53,86.84 C544.09,91.22 536.41,96.98 529,101 C507.7,112.55 482.09,122.15 462.25,128.74 \" fill=\"none\" id=\"*start*E2-&gt;E6\" style=\"stroke: #383838; stroke-width: 1.0; stroke-dasharray: 7.0,7.0;\"/><polygon fill=\"#383838\" points=\"457.34,130.36,467.1387,131.353,462.0905,128.8003,464.6432,123.7522,457.34,130.36\" style=\"stroke: #383838; stroke-width: 1.0;\"/></a><!--MD5=[ff9e4afefa821aea7eda324d3041742a]\n",
       "link E7 to *end*E2--><a href=\"psysml:374875bf-0004-40f7-bedc-1374d527cde5\" target=\"_top\" title=\"psysml:374875bf-0004-40f7-bedc-1374d527cde5\" xlink:actuate=\"onRequest\" xlink:href=\"psysml:374875bf-0004-40f7-bedc-1374d527cde5\" xlink:show=\"new\" xlink:title=\"psysml:374875bf-0004-40f7-bedc-1374d527cde5\" xlink:type=\"simple\"><path d=\"M335,348.1183 C335,348.2776 335,348.437 335,348.5964 C335,348.9153 335,349.2342 335,349.5533 C335,354.6588 335,359.7902 335,364.7664 C335,374.7188 335,384.05 335,391.31 \" fill=\"none\" id=\"E7-&gt;*end*E2\" style=\"stroke: #383838; stroke-width: 1.0; stroke-dasharray: 7.0,7.0;\"/><polygon fill=\"#383838\" points=\"335,396.65,339,387.65,335,391.65,331,387.65,335,396.65\" style=\"stroke: #383838; stroke-width: 1.0;\"/><text fill=\"#000000\" font-family=\"sans-serif\" font-size=\"13\" lengthAdjust=\"spacingAndGlyphs\" textLength=\"23\" x=\"336\" y=\"385.0669\">Exit</text></a><!--MD5=[02c70b7c851c11e3980e4e90450dc5dd]\n",
       "link E6 to E7--><a href=\"psysml:69f1494c-077d-4519-8343-87cce73be713\" target=\"_top\" title=\"psysml:69f1494c-077d-4519-8343-87cce73be713\" xlink:actuate=\"onRequest\" xlink:href=\"psysml:69f1494c-077d-4519-8343-87cce73be713\" xlink:show=\"new\" xlink:title=\"psysml:69f1494c-077d-4519-8343-87cce73be713\" xlink:type=\"simple\"><path d=\"M402.96,142.74 C369.7,146.11 316.15,153.8 304,169 C286.215,191.26 293.4475,222.2525 305.3787,247.9887 C311.3444,260.8569 318.4847,272.4109 324.2598,280.9023 C324.9817,281.9638 325.6823,282.9773 326.3566,283.9396 C326.5251,284.1802 326.6921,284.4176 326.8573,284.6517 \" fill=\"none\" id=\"E6-&gt;E7\" style=\"stroke: #383838; stroke-width: 1.0; stroke-dasharray: 7.0,7.0;\"/><polygon fill=\"#383838\" points=\"326.8573,284.6517,324.9364,274.992,323.9745,280.5664,318.4,279.6045,326.8573,284.6517\" style=\"stroke: #383838; stroke-width: 1.0;\"/><text fill=\"#000000\" font-family=\"sans-serif\" font-size=\"13\" lengthAdjust=\"spacingAndGlyphs\" textLength=\"81\" x=\"305\" y=\"182.0669\">Sig /action D</text></a><!--MD5=[fbb449814971db3a0b8220cf225b9e01]\n",
       "link E7 to E6--><a href=\"psysml:f8d53726-bfe5-4353-91f3-ae2ef06d9a38\" target=\"_top\" title=\"psysml:f8d53726-bfe5-4353-91f3-ae2ef06d9a38\" xlink:actuate=\"onRequest\" xlink:href=\"psysml:f8d53726-bfe5-4353-91f3-ae2ef06d9a38\" xlink:show=\"new\" xlink:title=\"psysml:f8d53726-bfe5-4353-91f3-ae2ef06d9a38\" xlink:type=\"simple\"><path d=\"M342.9071,209.9114 C342.9855,209.7539 343.0643,209.5968 343.1437,209.44 C343.4614,208.8126 343.7878,208.1903 344.1232,207.5733 C346.8063,202.638 350.0625,198.0487 354,194 C365.73,181.94 376.55,194.61 391,186 C399.6,180.88 407.24,173.18 413.43,165.57 \" fill=\"none\" id=\"E7-&gt;E6\" style=\"stroke: #383838; stroke-width: 1.0; stroke-dasharray: 7.0,7.0;\"/><polygon fill=\"#383838\" points=\"416.72,161.36,408.0232,165.9823,413.6385,165.2975,414.3232,170.9128,416.72,161.36\" style=\"stroke: #383838; stroke-width: 1.0;\"/><text fill=\"#000000\" font-family=\"sans-serif\" font-size=\"13\" lengthAdjust=\"spacingAndGlyphs\" textLength=\"135\" x=\"410\" y=\"182.0669\">Sig [true]/send s to p</text></a><!--MD5=[b861d1a9c16a0c419da6f0bd477e0d47]\n",
       "@startuml\r\n",
       "skinparam ranksep 8\r\n",
       "skinparam monochrome true\r\n",
       "skinparam classbackgroundcolor white\r\n",
       "skinparam shadowing false\r\n",
       "skinparam wrapWidth 300\r\n",
       "hide circle\r\n",
       "\r\n",
       "rec usage \"act\" as E1  <<(T,blue)action>> [[psysml:0b92cdb5-3694-4434-adff-e0b2149bd4e6 ]] {\r\n",
       "}\r\n",
       "\r\n",
       "rec def \"S\" as E2  <<(T,blue)state def>> [[psysml:f2a66a23-1197-47ed-b1bd-74e1ad61d6fd ]] {\r\n",
       "rec usage \"A\" as E3 <<perform action>> [[psysml:b2584b97-8c36-4971-ba08-266a53e2e05d ]] {\r\n",
       "}\r\n",
       "\r\n",
       "rec usage \"B\" as E4 <<perform action>> [[psysml:4ff81092-47a1-4e96-8d92-0120048334f8 ]] {\r\n",
       "}\r\n",
       "\r\n",
       "rec usage \"act\" as E5 <<perform action>> [[psysml:304a78cc-8684-4bf6-a939-94ca910a3e9f ]] {\r\n",
       "}\r\n",
       "\r\n",
       "rec usage \"S1\" as E6  <<(T,blue)state>> [[psysml:0ffea2c5-2698-4589-991c-94f7ac5b0395 ]] {\r\n",
       "}\r\n",
       "\r\n",
       "rec usage \"S2\" as E7  <<(T,blue)state>> [[psysml:f6369ddf-93b2-4791-a9ee-7d090a7e6258 ]] {\r\n",
       "send \" Sig(T::s::x)\" as E8 <<send action>> [[psysml:4e70c0dc-8141-4b3a-9526-a99ab1429170 ]] \r\n",
       "}\r\n",
       "\r\n",
       "[*] ..> E6 [[psysml:3d6f6111-a5f0-4f07-bf0a-543b5052b3c3 ]] \r\n",
       "E7 ..> [*] [[psysml:374875bf-0004-40f7-bedc-1374d527cde5 ]] : Exit \r\n",
       "}\r\n",
       "\r\n",
       "E6 ..> E7 [[psysml:69f1494c-077d-4519-8343-87cce73be713 ]] : Sig /action D\r\n",
       "E7 ..> E6 [[psysml:f8d53726-bfe5-4353-91f3-ae2ef06d9a38 ]] : Sig [true]/send s to p\r\n",
       "@enduml\r\n",
       "\n",
       "PlantUML version 1.2020.13(Sat Jun 13 12:26:38 UTC 2020)\n",
       "(EPL source distribution)\n",
       "Java Runtime: OpenJDK Runtime Environment\n",
       "JVM: OpenJDK 64-Bit Server VM\n",
       "Default Encoding: UTF-8\n",
       "Language: en\n",
       "Country: null\n",
       "--></g></svg>"
      ]
     },
     "execution_count": 41,
     "metadata": {},
     "output_type": "execute_result"
    }
   ],
   "source": [
    "%viz --style=\"DEFAULT\" --view=\"Action\" \"StateTest\""
   ]
  },
  {
   "cell_type": "code",
   "execution_count": 42,
   "id": "16d54b50",
   "metadata": {
    "execution": {
     "iopub.execute_input": "2021-04-21T20:23:45.061296Z",
     "iopub.status.busy": "2021-04-21T20:23:45.060630Z",
     "iopub.status.idle": "2021-04-21T20:23:45.164472Z",
     "shell.execute_reply": "2021-04-21T20:23:45.162537Z"
    }
   },
   "outputs": [
    {
     "data": {
      "image/svg+xml": [
       "<?xml version=\"1.0\" encoding=\"UTF-8\" standalone=\"no\"?><svg xmlns=\"http://www.w3.org/2000/svg\" xmlns:xlink=\"http://www.w3.org/1999/xlink\" contentScriptType=\"application/ecmascript\" contentStyleType=\"text/css\" height=\"365px\" preserveAspectRatio=\"none\" style=\"width:594px;height:365px;\" version=\"1.1\" viewBox=\"0 0 594 365\" width=\"594px\" zoomAndPan=\"magnify\"><defs/><g><!--MD5=[fbc87193dbaf4d95561dea2c320d4a47]\n",
       "cluster E1--><a href=\"psysml:800f45c9-cf5c-46ce-b3c3-487778cd6319\" target=\"_top\" title=\"psysml:800f45c9-cf5c-46ce-b3c3-487778cd6319\" xlink:actuate=\"onRequest\" xlink:href=\"psysml:800f45c9-cf5c-46ce-b3c3-487778cd6319\" xlink:show=\"new\" xlink:title=\"psysml:800f45c9-cf5c-46ce-b3c3-487778cd6319\" xlink:type=\"simple\"><polygon fill=\"#FFFFFF\" points=\"16,6,98,6,105,28.2969,572,28.2969,572,353,16,353,16,6\" style=\"stroke: #000000; stroke-width: 1.5;\"/><line style=\"stroke: #000000; stroke-width: 1.5;\" x1=\"16\" x2=\"105\" y1=\"28.2969\" y2=\"28.2969\"/><text fill=\"#000000\" font-family=\"sans-serif\" font-size=\"14\" font-weight=\"bold\" lengthAdjust=\"spacingAndGlyphs\" textLength=\"76\" x=\"20\" y=\"20.9951\">StateTest</text></a><!--MD5=[b4997ac47864f28c2f74865a473b2911]\n",
       "class E2--><a href=\"psysml:f1048496-f45f-4de3-be42-17169da36fba\" target=\"_top\" title=\"psysml:f1048496-f45f-4de3-be42-17169da36fba\" xlink:actuate=\"onRequest\" xlink:href=\"psysml:f1048496-f45f-4de3-be42-17169da36fba\" xlink:show=\"new\" xlink:title=\"psysml:f1048496-f45f-4de3-be42-17169da36fba\" xlink:type=\"simple\"><rect fill=\"#FFFFFF\" height=\"75.5469\" id=\"E2\" style=\"stroke: #383838; stroke-width: 1.5;\" width=\"95\" x=\"460.5\" y=\"83\"/><text fill=\"#000000\" font-family=\"sans-serif\" font-size=\"12\" font-style=\"italic\" lengthAdjust=\"spacingAndGlyphs\" textLength=\"93\" x=\"461.5\" y=\"99.1387\">«attribute def»</text><text fill=\"#000000\" font-family=\"sans-serif\" font-size=\"12\" lengthAdjust=\"spacingAndGlyphs\" textLength=\"19\" x=\"498.5\" y=\"113.1074\">Sig</text><line style=\"stroke: #383838; stroke-width: 1.5;\" x1=\"461.5\" x2=\"554.5\" y1=\"120.9375\" y2=\"120.9375\"/><text fill=\"#000000\" font-family=\"sans-serif\" font-size=\"11\" lengthAdjust=\"spacingAndGlyphs\" textLength=\"6\" x=\"466.5\" y=\"151.9526\">x</text><line style=\"stroke: #383838; stroke-width: 1.0;\" x1=\"461.5\" x2=\"480.5\" y1=\"135.3398\" y2=\"135.3398\"/><text fill=\"#000000\" font-family=\"sans-serif\" font-size=\"11\" lengthAdjust=\"spacingAndGlyphs\" textLength=\"55\" x=\"480.5\" y=\"138.6479\">attributes</text><line style=\"stroke: #383838; stroke-width: 1.0;\" x1=\"535.5\" x2=\"554.5\" y1=\"135.3398\" y2=\"135.3398\"/></a><!--MD5=[09b614a08d8cba4a07c9adeb5e0fee81]\n",
       "class E3--><a href=\"psysml:546c6a0a-79ca-4224-b50a-77e407cae485\" target=\"_top\" title=\"psysml:546c6a0a-79ca-4224-b50a-77e407cae485\" xlink:actuate=\"onRequest\" xlink:href=\"psysml:546c6a0a-79ca-4224-b50a-77e407cae485\" xlink:show=\"new\" xlink:title=\"psysml:546c6a0a-79ca-4224-b50a-77e407cae485\" xlink:type=\"simple\"><rect fill=\"#FFFFFF\" height=\"45.9375\" id=\"E3\" style=\"stroke: #383838; stroke-width: 1.5;\" width=\"95\" x=\"330.5\" y=\"98\"/><text fill=\"#000000\" font-family=\"sans-serif\" font-size=\"12\" font-style=\"italic\" lengthAdjust=\"spacingAndGlyphs\" textLength=\"93\" x=\"331.5\" y=\"114.1387\">«attribute def»</text><text fill=\"#000000\" font-family=\"sans-serif\" font-size=\"12\" lengthAdjust=\"spacingAndGlyphs\" textLength=\"22\" x=\"367\" y=\"128.1074\">Exit</text><line style=\"stroke: #383838; stroke-width: 1.5;\" x1=\"331.5\" x2=\"424.5\" y1=\"135.9375\" y2=\"135.9375\"/></a><!--MD5=[ebbe1d658d1005bcc118a6aa81145e00]\n",
       "class E4--><a href=\"psysml:4710131f-7c31-45d9-a6fe-10a60fc8490a\" target=\"_top\" title=\"psysml:4710131f-7c31-45d9-a6fe-10a60fc8490a\" xlink:actuate=\"onRequest\" xlink:href=\"psysml:4710131f-7c31-45d9-a6fe-10a60fc8490a\" xlink:show=\"new\" xlink:title=\"psysml:4710131f-7c31-45d9-a6fe-10a60fc8490a\" xlink:type=\"simple\"><rect fill=\"#FFFFFF\" height=\"45.9375\" id=\"E4\" rx=\"10\" ry=\"10\" style=\"stroke: #383838; stroke-width: 1.5;\" width=\"42\" x=\"253\" y=\"98\"/><text fill=\"#000000\" font-family=\"sans-serif\" font-size=\"12\" font-style=\"italic\" lengthAdjust=\"spacingAndGlyphs\" textLength=\"40\" x=\"254\" y=\"114.1387\">«part»</text><text fill=\"#000000\" font-family=\"sans-serif\" font-size=\"12\" lengthAdjust=\"spacingAndGlyphs\" textLength=\"8\" x=\"270\" y=\"128.1074\">p</text><line style=\"stroke: #383838; stroke-width: 1.5;\" x1=\"254\" x2=\"294\" y1=\"135.9375\" y2=\"135.9375\"/></a><!--MD5=[270fce915f116d4de14055a7c1d9a0f3]\n",
       "class E5--><a href=\"psysml:0b92cdb5-3694-4434-adff-e0b2149bd4e6\" target=\"_top\" title=\"psysml:0b92cdb5-3694-4434-adff-e0b2149bd4e6\" xlink:actuate=\"onRequest\" xlink:href=\"psysml:0b92cdb5-3694-4434-adff-e0b2149bd4e6\" xlink:show=\"new\" xlink:title=\"psysml:0b92cdb5-3694-4434-adff-e0b2149bd4e6\" xlink:type=\"simple\"><rect fill=\"#FFFFFF\" height=\"45.9375\" id=\"E5\" rx=\"10\" ry=\"10\" style=\"stroke: #383838; stroke-width: 1.5;\" width=\"55\" x=\"162.5\" y=\"98\"/><text fill=\"#000000\" font-family=\"sans-serif\" font-size=\"12\" font-style=\"italic\" lengthAdjust=\"spacingAndGlyphs\" textLength=\"53\" x=\"163.5\" y=\"114.1387\">«action»</text><text fill=\"#000000\" font-family=\"sans-serif\" font-size=\"12\" lengthAdjust=\"spacingAndGlyphs\" textLength=\"20\" x=\"180\" y=\"128.1074\">act</text><line style=\"stroke: #383838; stroke-width: 1.5;\" x1=\"163.5\" x2=\"216.5\" y1=\"135.9375\" y2=\"135.9375\"/></a><!--MD5=[60a26617385b1d2d0262a64233df1f8d]\n",
       "class E6--><a href=\"psysml:f2a66a23-1197-47ed-b1bd-74e1ad61d6fd\" target=\"_top\" title=\"psysml:f2a66a23-1197-47ed-b1bd-74e1ad61d6fd\" xlink:actuate=\"onRequest\" xlink:href=\"psysml:f2a66a23-1197-47ed-b1bd-74e1ad61d6fd\" xlink:show=\"new\" xlink:title=\"psysml:f2a66a23-1197-47ed-b1bd-74e1ad61d6fd\" xlink:type=\"simple\"><rect fill=\"#FFFFFF\" height=\"160.375\" id=\"E6\" style=\"stroke: #383838; stroke-width: 1.5;\" width=\"95\" x=\"32.5\" y=\"41\"/><text fill=\"#000000\" font-family=\"sans-serif\" font-size=\"12\" font-style=\"italic\" lengthAdjust=\"spacingAndGlyphs\" textLength=\"71\" x=\"44.5\" y=\"57.1387\">«state def»</text><text fill=\"#000000\" font-family=\"sans-serif\" font-size=\"12\" lengthAdjust=\"spacingAndGlyphs\" textLength=\"8\" x=\"76\" y=\"71.1074\">S</text><line style=\"stroke: #383838; stroke-width: 1.5;\" x1=\"33.5\" x2=\"126.5\" y1=\"78.9375\" y2=\"78.9375\"/><text fill=\"#000000\" font-family=\"sans-serif\" font-size=\"11\" lengthAdjust=\"spacingAndGlyphs\" textLength=\"17\" x=\"38.5\" y=\"109.9526\">act</text><text fill=\"#000000\" font-family=\"sans-serif\" font-size=\"11\" lengthAdjust=\"spacingAndGlyphs\" textLength=\"7\" x=\"38.5\" y=\"122.7573\">A</text><text fill=\"#000000\" font-family=\"sans-serif\" font-size=\"11\" lengthAdjust=\"spacingAndGlyphs\" textLength=\"8\" x=\"38.5\" y=\"135.562\">B</text><line style=\"stroke: #383838; stroke-width: 1.0;\" x1=\"33.5\" x2=\"36.5\" y1=\"93.3398\" y2=\"93.3398\"/><text fill=\"#000000\" font-family=\"sans-serif\" font-size=\"11\" lengthAdjust=\"spacingAndGlyphs\" textLength=\"87\" x=\"36.5\" y=\"96.6479\">performActions</text><line style=\"stroke: #383838; stroke-width: 1.0;\" x1=\"123.5\" x2=\"126.5\" y1=\"93.3398\" y2=\"93.3398\"/><text fill=\"#000000\" font-family=\"sans-serif\" font-size=\"11\" lengthAdjust=\"spacingAndGlyphs\" textLength=\"15\" x=\"38.5\" y=\"165.1714\">S1</text><line style=\"stroke: #383838; stroke-width: 1.0;\" x1=\"33.5\" x2=\"62\" y1=\"148.5586\" y2=\"148.5586\"/><text fill=\"#000000\" font-family=\"sans-serif\" font-size=\"11\" lengthAdjust=\"spacingAndGlyphs\" textLength=\"36\" x=\"62\" y=\"151.8667\">states</text><line style=\"stroke: #383838; stroke-width: 1.0;\" x1=\"98\" x2=\"126.5\" y1=\"148.5586\" y2=\"148.5586\"/><text fill=\"#000000\" font-family=\"sans-serif\" font-size=\"11\" lengthAdjust=\"spacingAndGlyphs\" textLength=\"7\" x=\"38.5\" y=\"194.7808\">T</text><line style=\"stroke: #383838; stroke-width: 1.0;\" x1=\"33.5\" x2=\"49.5\" y1=\"178.168\" y2=\"178.168\"/><text fill=\"#000000\" font-family=\"sans-serif\" font-size=\"11\" lengthAdjust=\"spacingAndGlyphs\" textLength=\"61\" x=\"49.5\" y=\"181.4761\">transitions</text><line style=\"stroke: #383838; stroke-width: 1.0;\" x1=\"110.5\" x2=\"126.5\" y1=\"178.168\" y2=\"178.168\"/></a><!--MD5=[1dd1bfd58a279cf63c5f349dbc8fc6a1]\n",
       "class E11--><a href=\"psysml:f6369ddf-93b2-4791-a9ee-7d090a7e6258\" target=\"_top\" title=\"psysml:f6369ddf-93b2-4791-a9ee-7d090a7e6258\" xlink:actuate=\"onRequest\" xlink:href=\"psysml:f6369ddf-93b2-4791-a9ee-7d090a7e6258\" xlink:show=\"new\" xlink:title=\"psysml:f6369ddf-93b2-4791-a9ee-7d090a7e6258\" xlink:type=\"simple\"><rect fill=\"#FFFFFF\" height=\"75.5469\" id=\"E11\" rx=\"10\" ry=\"10\" style=\"stroke: #383838; stroke-width: 1.5;\" width=\"77\" x=\"41.5\" y=\"261\"/><text fill=\"#000000\" font-family=\"sans-serif\" font-size=\"12\" font-style=\"italic\" lengthAdjust=\"spacingAndGlyphs\" textLength=\"47\" x=\"56.5\" y=\"277.1387\">«state»</text><text fill=\"#000000\" font-family=\"sans-serif\" font-size=\"12\" lengthAdjust=\"spacingAndGlyphs\" textLength=\"16\" x=\"72\" y=\"291.1074\">S2</text><line style=\"stroke: #383838; stroke-width: 1.5;\" x1=\"42.5\" x2=\"117.5\" y1=\"298.9375\" y2=\"298.9375\"/><text fill=\"#000000\" font-family=\"sans-serif\" font-size=\"11\" lengthAdjust=\"spacingAndGlyphs\" textLength=\"48\" x=\"47.5\" y=\"329.9526\">doAction</text><line style=\"stroke: #383838; stroke-width: 1.0;\" x1=\"42.5\" x2=\"45.5\" y1=\"313.3398\" y2=\"313.3398\"/><text fill=\"#000000\" font-family=\"sans-serif\" font-size=\"11\" lengthAdjust=\"spacingAndGlyphs\" textLength=\"69\" x=\"45.5\" y=\"316.6479\">sendActions</text><line style=\"stroke: #383838; stroke-width: 1.0;\" x1=\"114.5\" x2=\"117.5\" y1=\"313.3398\" y2=\"313.3398\"/></a><!--MD5=[1f5f03483f7de0d5b3680a7f6650997f]\n",
       "reverse link E6 to E11--><a href=\"psysml:247e0169-6466-401b-83f0-032a7b21c539\" target=\"_top\" title=\"psysml:247e0169-6466-401b-83f0-032a7b21c539\" xlink:actuate=\"onRequest\" xlink:href=\"psysml:247e0169-6466-401b-83f0-032a7b21c539\" xlink:show=\"new\" xlink:title=\"psysml:247e0169-6466-401b-83f0-032a7b21c539\" xlink:type=\"simple\"><path d=\"M80,214.46 C80,230.92 80,247.18 80,260.92 \" fill=\"none\" id=\"E6&lt;-E11\" style=\"stroke: #383838; stroke-width: 1.0;\"/><polygon fill=\"#383838\" points=\"80,201.25,76,207.25,80,213.25,84,207.25,80,201.25\" style=\"stroke: #383838; stroke-width: 1.0;\"/></a><!--MD5=[80c8da5a126908f63214cb9e7f3f2123]\n",
       "@startuml\r\n",
       "skinparam monochrome true\r\n",
       "skinparam classbackgroundcolor white\r\n",
       "skinparam shadowing false\r\n",
       "skinparam wrapWidth 300\r\n",
       "hide circle\r\n",
       "\r\n",
       "package \"StateTest\" as E1  [[psysml:800f45c9-cf5c-46ce-b3c3-487778cd6319 ]]  {\r\n",
       "comp def \"Sig\" as E2  <<(T,blue)attribute def>> [[psysml:f1048496-f45f-4de3-be42-17169da36fba ]] {\r\n",
       "- - attributes - -\r\n",
       "x\r\n",
       "}\r\n",
       "comp def \"Exit\" as E3  <<(T,blue)attribute def>> [[psysml:546c6a0a-79ca-4224-b50a-77e407cae485 ]] {\r\n",
       "}\r\n",
       "comp usage \"p\" as E4  <<(T,blue)part>> [[psysml:4710131f-7c31-45d9-a6fe-10a60fc8490a ]] {\r\n",
       "}\r\n",
       "comp usage \"act\" as E5  <<(T,blue)action>> [[psysml:0b92cdb5-3694-4434-adff-e0b2149bd4e6 ]] {\r\n",
       "}\r\n",
       "comp def \"S\" as E6  <<(T,blue)state def>> [[psysml:f2a66a23-1197-47ed-b1bd-74e1ad61d6fd ]] {\r\n",
       "- - performActions - -\r\n",
       "act\r\n",
       "A\r\n",
       "B\r\n",
       "- - states - -\r\n",
       "S1\r\n",
       "- - transitions - -\r\n",
       "T\r\n",
       "}\r\n",
       "comp usage \"S2\" as E11  <<(T,blue)state>> [[psysml:f6369ddf-93b2-4791-a9ee-7d090a7e6258 ]] {\r\n",
       "- - sendActions - -\r\n",
       "doAction\r\n",
       "}\r\n",
       "E6 *- - E11 [[psysml:247e0169-6466-401b-83f0-032a7b21c539 ]] \r\n",
       "}\r\n",
       "@enduml\r\n",
       "\n",
       "PlantUML version 1.2020.13(Sat Jun 13 12:26:38 UTC 2020)\n",
       "(EPL source distribution)\n",
       "Java Runtime: OpenJDK Runtime Environment\n",
       "JVM: OpenJDK 64-Bit Server VM\n",
       "Default Encoding: UTF-8\n",
       "Language: en\n",
       "Country: null\n",
       "--></g></svg>"
      ]
     },
     "execution_count": 42,
     "metadata": {},
     "output_type": "execute_result"
    }
   ],
   "source": [
    "%viz --style=\"DEFAULT\" --view=\"Sequence\" \"StateTest\""
   ]
  },
  {
   "cell_type": "code",
   "execution_count": 43,
   "id": "57f75b77",
   "metadata": {
    "execution": {
     "iopub.execute_input": "2021-04-21T20:23:45.215264Z",
     "iopub.status.busy": "2021-04-21T20:23:45.214592Z",
     "iopub.status.idle": "2021-04-21T20:23:45.267107Z",
     "shell.execute_reply": "2021-04-21T20:23:45.267577Z"
    }
   },
   "outputs": [
    {
     "data": {
      "image/svg+xml": [
       "<?xml version=\"1.0\" encoding=\"UTF-8\" standalone=\"no\"?><svg xmlns=\"http://www.w3.org/2000/svg\" xmlns:xlink=\"http://www.w3.org/1999/xlink\" contentScriptType=\"application/ecmascript\" contentStyleType=\"text/css\" height=\"570px\" preserveAspectRatio=\"none\" style=\"width:819px;height:570px;\" version=\"1.1\" viewBox=\"0 0 819 570\" width=\"819px\" zoomAndPan=\"magnify\"><defs/><g><!--MD5=[fbc87193dbaf4d95561dea2c320d4a47]\n",
       "cluster E1--><a href=\"psysml:800f45c9-cf5c-46ce-b3c3-487778cd6319\" target=\"_top\" title=\"psysml:800f45c9-cf5c-46ce-b3c3-487778cd6319\" xlink:actuate=\"onRequest\" xlink:href=\"psysml:800f45c9-cf5c-46ce-b3c3-487778cd6319\" xlink:show=\"new\" xlink:title=\"psysml:800f45c9-cf5c-46ce-b3c3-487778cd6319\" xlink:type=\"simple\"><polygon fill=\"#FFFFFF\" points=\"16,6,98,6,105,28.2969,797,28.2969,797,558,16,558,16,6\" style=\"stroke: #000000; stroke-width: 1.5;\"/><line style=\"stroke: #000000; stroke-width: 1.5;\" x1=\"16\" x2=\"105\" y1=\"28.2969\" y2=\"28.2969\"/><text fill=\"#000000\" font-family=\"sans-serif\" font-size=\"14\" font-weight=\"bold\" lengthAdjust=\"spacingAndGlyphs\" textLength=\"76\" x=\"20\" y=\"20.9951\">StateTest</text></a><!--MD5=[14e3b0961a2654348d326746436168a1]\n",
       "cluster E6--><a href=\"psysml:f2a66a23-1197-47ed-b1bd-74e1ad61d6fd\" target=\"_top\" title=\"psysml:f2a66a23-1197-47ed-b1bd-74e1ad61d6fd\" xlink:actuate=\"onRequest\" xlink:href=\"psysml:f2a66a23-1197-47ed-b1bd-74e1ad61d6fd\" xlink:show=\"new\" xlink:title=\"psysml:f2a66a23-1197-47ed-b1bd-74e1ad61d6fd\" xlink:type=\"simple\"><rect fill=\"#FFFFFF\" height=\"485\" id=\"E6\" style=\"stroke: #383838; stroke-width: 1.5;\" width=\"327\" x=\"446\" y=\"49\"/><rect fill=\"#F8F8F8\" height=\"37.9375\" style=\"stroke: #383838; stroke-width: 1.5;\" width=\"327\" x=\"446\" y=\"49\"/><text fill=\"#000000\" font-family=\"sans-serif\" font-size=\"12\" font-style=\"italic\" lengthAdjust=\"spacingAndGlyphs\" textLength=\"71\" x=\"574\" y=\"65.1387\">«state def»</text><text fill=\"#000000\" font-family=\"sans-serif\" font-size=\"12\" lengthAdjust=\"spacingAndGlyphs\" textLength=\"8\" x=\"605.5\" y=\"79.1074\">S</text><line style=\"stroke: #383838; stroke-width: 1.0;\" x1=\"446\" x2=\"773\" y1=\"132.8438\" y2=\"132.8438\"/><text fill=\"#000000\" font-family=\"sans-serif\" font-size=\"12\" font-weight=\"bold\" lengthAdjust=\"spacingAndGlyphs\" textLength=\"38\" x=\"451\" y=\"100.0762\">entry</text><text fill=\"#000000\" font-family=\"sans-serif\" font-size=\"12\" lengthAdjust=\"spacingAndGlyphs\" textLength=\"16\" x=\"489\" y=\"100.0762\">/ A</text><text fill=\"#000000\" font-family=\"sans-serif\" font-size=\"12\" font-weight=\"bold\" lengthAdjust=\"spacingAndGlyphs\" textLength=\"18\" x=\"451\" y=\"114.0449\">do</text><text fill=\"#000000\" font-family=\"sans-serif\" font-size=\"12\" lengthAdjust=\"spacingAndGlyphs\" textLength=\"16\" x=\"469\" y=\"114.0449\">/ B</text><text fill=\"#000000\" font-family=\"sans-serif\" font-size=\"12\" font-weight=\"bold\" lengthAdjust=\"spacingAndGlyphs\" textLength=\"26\" x=\"451\" y=\"128.0137\">exit</text><text fill=\"#000000\" font-family=\"sans-serif\" font-size=\"12\" lengthAdjust=\"spacingAndGlyphs\" textLength=\"28\" x=\"477\" y=\"128.0137\">/ act</text></a><!--MD5=[b4997ac47864f28c2f74865a473b2911]\n",
       "class E2--><a href=\"psysml:f1048496-f45f-4de3-be42-17169da36fba\" target=\"_top\" title=\"psysml:f1048496-f45f-4de3-be42-17169da36fba\" xlink:actuate=\"onRequest\" xlink:href=\"psysml:f1048496-f45f-4de3-be42-17169da36fba\" xlink:show=\"new\" xlink:title=\"psysml:f1048496-f45f-4de3-be42-17169da36fba\" xlink:type=\"simple\"><rect fill=\"#FFFFFF\" height=\"75.5469\" id=\"E2\" style=\"stroke: #383838; stroke-width: 1.5;\" width=\"95\" x=\"334.5\" y=\"119\"/><text fill=\"#000000\" font-family=\"sans-serif\" font-size=\"12\" font-style=\"italic\" lengthAdjust=\"spacingAndGlyphs\" textLength=\"93\" x=\"335.5\" y=\"135.1387\">«attribute def»</text><text fill=\"#000000\" font-family=\"sans-serif\" font-size=\"12\" lengthAdjust=\"spacingAndGlyphs\" textLength=\"19\" x=\"372.5\" y=\"149.1074\">Sig</text><line style=\"stroke: #383838; stroke-width: 1.5;\" x1=\"335.5\" x2=\"428.5\" y1=\"156.9375\" y2=\"156.9375\"/><text fill=\"#000000\" font-family=\"sans-serif\" font-size=\"11\" lengthAdjust=\"spacingAndGlyphs\" textLength=\"6\" x=\"340.5\" y=\"187.9526\">x</text><line style=\"stroke: #383838; stroke-width: 1.0;\" x1=\"335.5\" x2=\"354.5\" y1=\"171.3398\" y2=\"171.3398\"/><text fill=\"#000000\" font-family=\"sans-serif\" font-size=\"11\" lengthAdjust=\"spacingAndGlyphs\" textLength=\"55\" x=\"354.5\" y=\"174.6479\">attributes</text><line style=\"stroke: #383838; stroke-width: 1.0;\" x1=\"409.5\" x2=\"428.5\" y1=\"171.3398\" y2=\"171.3398\"/></a><!--MD5=[09b614a08d8cba4a07c9adeb5e0fee81]\n",
       "class E3--><a href=\"psysml:546c6a0a-79ca-4224-b50a-77e407cae485\" target=\"_top\" title=\"psysml:546c6a0a-79ca-4224-b50a-77e407cae485\" xlink:actuate=\"onRequest\" xlink:href=\"psysml:546c6a0a-79ca-4224-b50a-77e407cae485\" xlink:show=\"new\" xlink:title=\"psysml:546c6a0a-79ca-4224-b50a-77e407cae485\" xlink:type=\"simple\"><rect fill=\"#FFFFFF\" height=\"45.9375\" id=\"E3\" style=\"stroke: #383838; stroke-width: 1.5;\" width=\"95\" x=\"204.5\" y=\"134\"/><text fill=\"#000000\" font-family=\"sans-serif\" font-size=\"12\" font-style=\"italic\" lengthAdjust=\"spacingAndGlyphs\" textLength=\"93\" x=\"205.5\" y=\"150.1387\">«attribute def»</text><text fill=\"#000000\" font-family=\"sans-serif\" font-size=\"12\" lengthAdjust=\"spacingAndGlyphs\" textLength=\"22\" x=\"241\" y=\"164.1074\">Exit</text><line style=\"stroke: #383838; stroke-width: 1.5;\" x1=\"205.5\" x2=\"298.5\" y1=\"171.9375\" y2=\"171.9375\"/></a><!--MD5=[ebbe1d658d1005bcc118a6aa81145e00]\n",
       "class E4--><a href=\"psysml:4710131f-7c31-45d9-a6fe-10a60fc8490a\" target=\"_top\" title=\"psysml:4710131f-7c31-45d9-a6fe-10a60fc8490a\" xlink:actuate=\"onRequest\" xlink:href=\"psysml:4710131f-7c31-45d9-a6fe-10a60fc8490a\" xlink:show=\"new\" xlink:title=\"psysml:4710131f-7c31-45d9-a6fe-10a60fc8490a\" xlink:type=\"simple\"><rect fill=\"#FFFFFF\" height=\"45.9375\" id=\"E4\" rx=\"10\" ry=\"10\" style=\"stroke: #383838; stroke-width: 1.5;\" width=\"42\" x=\"127\" y=\"134\"/><text fill=\"#000000\" font-family=\"sans-serif\" font-size=\"12\" font-style=\"italic\" lengthAdjust=\"spacingAndGlyphs\" textLength=\"40\" x=\"128\" y=\"150.1387\">«part»</text><text fill=\"#000000\" font-family=\"sans-serif\" font-size=\"12\" lengthAdjust=\"spacingAndGlyphs\" textLength=\"8\" x=\"144\" y=\"164.1074\">p</text><line style=\"stroke: #383838; stroke-width: 1.5;\" x1=\"128\" x2=\"168\" y1=\"171.9375\" y2=\"171.9375\"/></a><g id=\"E1.E5\"><a href=\"psysml:0b92cdb5-3694-4434-adff-e0b2149bd4e6\" target=\"_top\" title=\"psysml:0b92cdb5-3694-4434-adff-e0b2149bd4e6\" xlink:actuate=\"onRequest\" xlink:href=\"psysml:0b92cdb5-3694-4434-adff-e0b2149bd4e6\" xlink:show=\"new\" xlink:title=\"psysml:0b92cdb5-3694-4434-adff-e0b2149bd4e6\" xlink:type=\"simple\"><rect fill=\"#FFFFFF\" height=\"42.9375\" id=\"E5\" rx=\"10\" ry=\"10\" style=\"stroke: #383838; stroke-width: 1.5;\" width=\"60\" x=\"32\" y=\"135.5\"/><rect fill=\"#F8F8F8\" height=\"37.9375\" rx=\"10\" ry=\"10\" style=\"stroke: #F8F8F8; stroke-width: 1.5;\" width=\"60\" x=\"32\" y=\"135.5\"/><rect fill=\"#F8F8F8\" height=\"10\" style=\"stroke: #F8F8F8; stroke-width: 1.5;\" width=\"60\" x=\"32\" y=\"163.4375\"/><rect fill=\"none\" height=\"42.9375\" id=\"E5\" rx=\"10\" ry=\"10\" style=\"stroke: #383838; stroke-width: 1.5;\" width=\"60\" x=\"32\" y=\"135.5\"/><text fill=\"#000000\" font-family=\"sans-serif\" font-size=\"12\" font-style=\"italic\" lengthAdjust=\"spacingAndGlyphs\" textLength=\"53\" x=\"35.5\" y=\"151.6387\">«action»</text><text fill=\"#000000\" font-family=\"sans-serif\" font-size=\"12\" lengthAdjust=\"spacingAndGlyphs\" textLength=\"20\" x=\"52\" y=\"165.6074\">act</text></a></g><ellipse cx=\"558\" cy=\"157\" fill=\"#000000\" rx=\"10\" ry=\"10\" style=\"stroke: none; stroke-width: 1.0;\"/><ellipse cx=\"583\" cy=\"508\" fill=\"none\" rx=\"10\" ry=\"10\" style=\"stroke: #000000; stroke-width: 1.0;\"/><ellipse cx=\"583.5\" cy=\"508.5\" fill=\"#000000\" rx=\"6\" ry=\"6\" style=\"stroke: none; stroke-width: 1.0;\"/><g id=\"E1.E6.E7\"><a href=\"psysml:0ffea2c5-2698-4589-991c-94f7ac5b0395\" target=\"_top\" title=\"psysml:0ffea2c5-2698-4589-991c-94f7ac5b0395\" xlink:actuate=\"onRequest\" xlink:href=\"psysml:0ffea2c5-2698-4589-991c-94f7ac5b0395\" xlink:show=\"new\" xlink:title=\"psysml:0ffea2c5-2698-4589-991c-94f7ac5b0395\" xlink:type=\"simple\"><rect fill=\"#FFFFFF\" height=\"40\" id=\"E7\" rx=\"10\" ry=\"10\" style=\"stroke: #383838; stroke-width: 1.5;\" width=\"50\" x=\"533\" y=\"256\"/><rect fill=\"#F8F8F8\" height=\"23.9688\" rx=\"10\" ry=\"10\" style=\"stroke: #F8F8F8; stroke-width: 1.5;\" width=\"50\" x=\"533\" y=\"256\"/><rect fill=\"#F8F8F8\" height=\"10\" style=\"stroke: #F8F8F8; stroke-width: 1.5;\" width=\"50\" x=\"533\" y=\"269.9688\"/><rect fill=\"none\" height=\"40\" id=\"E7\" rx=\"10\" ry=\"10\" style=\"stroke: #383838; stroke-width: 1.5;\" width=\"50\" x=\"533\" y=\"256\"/><text fill=\"#000000\" font-family=\"sans-serif\" font-size=\"12\" lengthAdjust=\"spacingAndGlyphs\" textLength=\"16\" x=\"550\" y=\"272.1387\">S1</text></a></g><g id=\"E1.E6.E8\"><a href=\"psysml:f6369ddf-93b2-4791-a9ee-7d090a7e6258\" target=\"_top\" title=\"psysml:f6369ddf-93b2-4791-a9ee-7d090a7e6258\" xlink:actuate=\"onRequest\" xlink:href=\"psysml:f6369ddf-93b2-4791-a9ee-7d090a7e6258\" xlink:show=\"new\" xlink:title=\"psysml:f6369ddf-93b2-4791-a9ee-7d090a7e6258\" xlink:type=\"simple\"><rect fill=\"#FFFFFF\" height=\"47.9375\" id=\"E8\" rx=\"10\" ry=\"10\" style=\"stroke: #383838; stroke-width: 1.5;\" width=\"169\" x=\"498.5\" y=\"373\"/><rect fill=\"#F8F8F8\" height=\"23.9688\" rx=\"10\" ry=\"10\" style=\"stroke: #F8F8F8; stroke-width: 1.5;\" width=\"169\" x=\"498.5\" y=\"373\"/><rect fill=\"#F8F8F8\" height=\"10\" style=\"stroke: #F8F8F8; stroke-width: 1.5;\" width=\"169\" x=\"498.5\" y=\"386.9688\"/><rect fill=\"none\" height=\"47.9375\" id=\"E8\" rx=\"10\" ry=\"10\" style=\"stroke: #383838; stroke-width: 1.5;\" width=\"169\" x=\"498.5\" y=\"373\"/><text fill=\"#000000\" font-family=\"sans-serif\" font-size=\"12\" lengthAdjust=\"spacingAndGlyphs\" textLength=\"16\" x=\"575\" y=\"389.1387\">S2</text><line style=\"stroke: #383838; stroke-width: 1.0;\" x1=\"498.5\" x2=\"667.5\" y1=\"396.9688\" y2=\"396.9688\"/><text fill=\"#000000\" font-family=\"sans-serif\" font-size=\"12\" font-weight=\"bold\" lengthAdjust=\"spacingAndGlyphs\" textLength=\"18\" x=\"503.5\" y=\"410.1074\">do</text><text fill=\"#000000\" font-family=\"sans-serif\" font-size=\"12\" lengthAdjust=\"spacingAndGlyphs\" textLength=\"141\" x=\"521.5\" y=\"410.1074\">/  send Sig(T::s::x) to p</text></a></g><!--MD5=[5a531d3a85f3339e6e197084acb48195]\n",
       "link *start*E6 to E7--><a href=\"psysml:3d6f6111-a5f0-4f07-bf0a-543b5052b3c3\" target=\"_top\" title=\"psysml:3d6f6111-a5f0-4f07-bf0a-543b5052b3c3\" xlink:actuate=\"onRequest\" xlink:href=\"psysml:3d6f6111-a5f0-4f07-bf0a-543b5052b3c3\" xlink:show=\"new\" xlink:title=\"psysml:3d6f6111-a5f0-4f07-bf0a-543b5052b3c3\" xlink:type=\"simple\"><path d=\"M558,167.18 C558,184.98 558,224.73 558,250.67 \" fill=\"none\" id=\"*start*E6-&gt;E7\" style=\"stroke: #383838; stroke-width: 1.0;\"/><polygon fill=\"#383838\" points=\"558,255.98,562,246.98,558,250.98,554,246.98,558,255.98\" style=\"stroke: #383838; stroke-width: 1.0;\"/></a><!--MD5=[7ec9a8babba89ddcae1318ca9fb3c814]\n",
       "link E8 to *end*E6--><a href=\"psysml:374875bf-0004-40f7-bedc-1374d527cde5\" target=\"_top\" title=\"psysml:374875bf-0004-40f7-bedc-1374d527cde5\" xlink:actuate=\"onRequest\" xlink:href=\"psysml:374875bf-0004-40f7-bedc-1374d527cde5\" xlink:show=\"new\" xlink:title=\"psysml:374875bf-0004-40f7-bedc-1374d527cde5\" xlink:type=\"simple\"><path d=\"M583,421.12 C583,442.75 583,474.39 583,492.62 \" fill=\"none\" id=\"E8-&gt;*end*E6\" style=\"stroke: #383838; stroke-width: 1.0;\"/><polygon fill=\"#383838\" points=\"583,497.82,587,488.82,583,492.82,579,488.82,583,497.82\" style=\"stroke: #383838; stroke-width: 1.0;\"/><text fill=\"#000000\" font-family=\"sans-serif\" font-size=\"13\" lengthAdjust=\"spacingAndGlyphs\" textLength=\"23\" x=\"584\" y=\"464.0669\">Exit</text></a><!--MD5=[79bc8f324ef4d02c541433f2e6e513c3]\n",
       "link E7 to E8--><a href=\"psysml:69f1494c-077d-4519-8343-87cce73be713\" target=\"_top\" title=\"psysml:69f1494c-077d-4519-8343-87cce73be713\" xlink:actuate=\"onRequest\" xlink:href=\"psysml:69f1494c-077d-4519-8343-87cce73be713\" xlink:show=\"new\" xlink:title=\"psysml:69f1494c-077d-4519-8343-87cce73be713\" xlink:type=\"simple\"><path d=\"M532.85,288.29 C509.89,300.31 481.3,320.66 494,343 C500.2,353.9 509.62,362.8 520.06,369.97 \" fill=\"none\" id=\"E7-&gt;E8\" style=\"stroke: #383838; stroke-width: 1.0;\"/><polygon fill=\"#383838\" points=\"524.26,372.74,518.9574,364.4404,520.0888,369.983,514.5462,371.1144,524.26,372.74\" style=\"stroke: #383838; stroke-width: 1.0;\"/><text fill=\"#000000\" font-family=\"sans-serif\" font-size=\"13\" lengthAdjust=\"spacingAndGlyphs\" textLength=\"81\" x=\"495\" y=\"339.0669\">Sig /action D</text></a><!--MD5=[bfa3c8b0d15052fdf50ae9310b491027]\n",
       "link E8 to E7--><a href=\"psysml:f8d53726-bfe5-4353-91f3-ae2ef06d9a38\" target=\"_top\" title=\"psysml:f8d53726-bfe5-4353-91f3-ae2ef06d9a38\" xlink:actuate=\"onRequest\" xlink:href=\"psysml:f8d53726-bfe5-4353-91f3-ae2ef06d9a38\" xlink:show=\"new\" xlink:title=\"psysml:f8d53726-bfe5-4353-91f3-ae2ef06d9a38\" xlink:type=\"simple\"><path d=\"M584.68,372.99 C585.12,359.19 584.66,341.38 581,326 C578.98,317.52 575.41,308.75 571.67,301.02 \" fill=\"none\" id=\"E8-&gt;E7\" style=\"stroke: #383838; stroke-width: 1.0;\"/><polygon fill=\"#383838\" points=\"569.33,296.35,569.7898,306.1881,571.5718,300.8193,576.9406,302.6013,569.33,296.35\" style=\"stroke: #383838; stroke-width: 1.0;\"/><text fill=\"#000000\" font-family=\"sans-serif\" font-size=\"13\" lengthAdjust=\"spacingAndGlyphs\" textLength=\"135\" x=\"584\" y=\"339.0669\">Sig [true]/send s to p</text></a><!--MD5=[6e16a2927c60818664161d4937baecaa]\n",
       "@startuml\r\n",
       "skinparam monochrome true\r\n",
       "skinparam classbackgroundcolor white\r\n",
       "skinparam shadowing false\r\n",
       "skinparam wrapWidth 300\r\n",
       "hide circle\r\n",
       "\r\n",
       "package \"StateTest\" as E1  [[psysml:800f45c9-cf5c-46ce-b3c3-487778cd6319 ]]  {\r\n",
       "comp def \"Sig\" as E2  <<(T,blue)attribute def>> [[psysml:f1048496-f45f-4de3-be42-17169da36fba ]] {\r\n",
       "- - attributes - -\r\n",
       "x\r\n",
       "}\r\n",
       "comp def \"Exit\" as E3  <<(T,blue)attribute def>> [[psysml:546c6a0a-79ca-4224-b50a-77e407cae485 ]] {\r\n",
       "}\r\n",
       "comp usage \"p\" as E4  <<(T,blue)part>> [[psysml:4710131f-7c31-45d9-a6fe-10a60fc8490a ]] {\r\n",
       "}\r\n",
       "rec usage \"act\" as E5  <<(T,blue)action>> [[psysml:0b92cdb5-3694-4434-adff-e0b2149bd4e6 ]] {\r\n",
       "}\r\n",
       "\r\n",
       "rec def \"S\" as E6  <<(T,blue)state def>> [[psysml:f2a66a23-1197-47ed-b1bd-74e1ad61d6fd ]] {\r\n",
       "rec usage \"S1\" as E7 [[psysml:0ffea2c5-2698-4589-991c-94f7ac5b0395 ]] {\r\n",
       "}\r\n",
       "\r\n",
       "rec usage \"S2\" as E8 [[psysml:f6369ddf-93b2-4791-a9ee-7d090a7e6258 ]] {\r\n",
       "desc \"S2\" as E8  : **do**/  send Sig(T::s::x) to p\r\n",
       "}\r\n",
       "\r\n",
       "desc \"S\" as E6  : **entry**/ A\r\n",
       "desc \"S\" as E6  : **do**/ B\r\n",
       "desc \"S\" as E6  : **exit**/ act \r\n",
       "[*] - -> E7 [[psysml:3d6f6111-a5f0-4f07-bf0a-543b5052b3c3 ]] \r\n",
       "E8  - -> [*] [[psysml:374875bf-0004-40f7-bedc-1374d527cde5 ]] : Exit \r\n",
       "}\r\n",
       "\r\n",
       "E7  - -> E8 [[psysml:69f1494c-077d-4519-8343-87cce73be713 ]] : Sig /action D\r\n",
       "E8  - -> E7 [[psysml:f8d53726-bfe5-4353-91f3-ae2ef06d9a38 ]] : Sig [true]/send s to p\r\n",
       "}\r\n",
       "@enduml\r\n",
       "\n",
       "PlantUML version 1.2020.13(Sat Jun 13 12:26:38 UTC 2020)\n",
       "(EPL source distribution)\n",
       "Java Runtime: OpenJDK Runtime Environment\n",
       "JVM: OpenJDK 64-Bit Server VM\n",
       "Default Encoding: UTF-8\n",
       "Language: en\n",
       "Country: null\n",
       "--></g></svg>"
      ]
     },
     "execution_count": 43,
     "metadata": {},
     "output_type": "execute_result"
    }
   ],
   "source": [
    "%viz --style=\"DEFAULT\" --view=\"MIXED\" \"StateTest\""
   ]
  },
  {
   "cell_type": "code",
   "execution_count": 44,
   "id": "08b55197",
   "metadata": {
    "execution": {
     "iopub.execute_input": "2021-04-21T20:23:45.317935Z",
     "iopub.status.busy": "2021-04-21T20:23:45.317258Z",
     "iopub.status.idle": "2021-04-21T20:23:45.372721Z",
     "shell.execute_reply": "2021-04-21T20:23:45.370868Z"
    }
   },
   "outputs": [
    {
     "data": {
      "image/svg+xml": [
       "<?xml version=\"1.0\" encoding=\"UTF-8\" standalone=\"no\"?><svg xmlns=\"http://www.w3.org/2000/svg\" xmlns:xlink=\"http://www.w3.org/1999/xlink\" contentScriptType=\"application/ecmascript\" contentStyleType=\"text/css\" height=\"570px\" preserveAspectRatio=\"none\" style=\"width:819px;height:570px;\" version=\"1.1\" viewBox=\"0 0 819 570\" width=\"819px\" zoomAndPan=\"magnify\"><defs/><g><!--MD5=[fbc87193dbaf4d95561dea2c320d4a47]\n",
       "cluster E1--><a href=\"psysml:800f45c9-cf5c-46ce-b3c3-487778cd6319\" target=\"_top\" title=\"psysml:800f45c9-cf5c-46ce-b3c3-487778cd6319\" xlink:actuate=\"onRequest\" xlink:href=\"psysml:800f45c9-cf5c-46ce-b3c3-487778cd6319\" xlink:show=\"new\" xlink:title=\"psysml:800f45c9-cf5c-46ce-b3c3-487778cd6319\" xlink:type=\"simple\"><polygon fill=\"#FFFFFF\" points=\"16,6,98,6,105,28.2969,797,28.2969,797,558,16,558,16,6\" style=\"stroke: #000000; stroke-width: 1.5;\"/><line style=\"stroke: #000000; stroke-width: 1.5;\" x1=\"16\" x2=\"105\" y1=\"28.2969\" y2=\"28.2969\"/><text fill=\"#000000\" font-family=\"sans-serif\" font-size=\"14\" font-weight=\"bold\" lengthAdjust=\"spacingAndGlyphs\" textLength=\"76\" x=\"20\" y=\"20.9951\">StateTest</text></a><!--MD5=[14e3b0961a2654348d326746436168a1]\n",
       "cluster E6--><a href=\"psysml:f2a66a23-1197-47ed-b1bd-74e1ad61d6fd\" target=\"_top\" title=\"psysml:f2a66a23-1197-47ed-b1bd-74e1ad61d6fd\" xlink:actuate=\"onRequest\" xlink:href=\"psysml:f2a66a23-1197-47ed-b1bd-74e1ad61d6fd\" xlink:show=\"new\" xlink:title=\"psysml:f2a66a23-1197-47ed-b1bd-74e1ad61d6fd\" xlink:type=\"simple\"><rect fill=\"#FFFFFF\" height=\"485\" id=\"E6\" style=\"stroke: #383838; stroke-width: 1.5;\" width=\"327\" x=\"446\" y=\"49\"/><rect fill=\"#F8F8F8\" height=\"37.9375\" style=\"stroke: #383838; stroke-width: 1.5;\" width=\"327\" x=\"446\" y=\"49\"/><text fill=\"#000000\" font-family=\"sans-serif\" font-size=\"12\" font-style=\"italic\" lengthAdjust=\"spacingAndGlyphs\" textLength=\"71\" x=\"574\" y=\"65.1387\">«state def»</text><text fill=\"#000000\" font-family=\"sans-serif\" font-size=\"12\" lengthAdjust=\"spacingAndGlyphs\" textLength=\"8\" x=\"605.5\" y=\"79.1074\">S</text><line style=\"stroke: #383838; stroke-width: 1.0;\" x1=\"446\" x2=\"773\" y1=\"132.8438\" y2=\"132.8438\"/><text fill=\"#000000\" font-family=\"sans-serif\" font-size=\"12\" font-weight=\"bold\" lengthAdjust=\"spacingAndGlyphs\" textLength=\"38\" x=\"451\" y=\"100.0762\">entry</text><text fill=\"#000000\" font-family=\"sans-serif\" font-size=\"12\" lengthAdjust=\"spacingAndGlyphs\" textLength=\"16\" x=\"489\" y=\"100.0762\">/ A</text><text fill=\"#000000\" font-family=\"sans-serif\" font-size=\"12\" font-weight=\"bold\" lengthAdjust=\"spacingAndGlyphs\" textLength=\"18\" x=\"451\" y=\"114.0449\">do</text><text fill=\"#000000\" font-family=\"sans-serif\" font-size=\"12\" lengthAdjust=\"spacingAndGlyphs\" textLength=\"16\" x=\"469\" y=\"114.0449\">/ B</text><text fill=\"#000000\" font-family=\"sans-serif\" font-size=\"12\" font-weight=\"bold\" lengthAdjust=\"spacingAndGlyphs\" textLength=\"26\" x=\"451\" y=\"128.0137\">exit</text><text fill=\"#000000\" font-family=\"sans-serif\" font-size=\"12\" lengthAdjust=\"spacingAndGlyphs\" textLength=\"28\" x=\"477\" y=\"128.0137\">/ act</text></a><!--MD5=[b4997ac47864f28c2f74865a473b2911]\n",
       "class E2--><a href=\"psysml:f1048496-f45f-4de3-be42-17169da36fba\" target=\"_top\" title=\"psysml:f1048496-f45f-4de3-be42-17169da36fba\" xlink:actuate=\"onRequest\" xlink:href=\"psysml:f1048496-f45f-4de3-be42-17169da36fba\" xlink:show=\"new\" xlink:title=\"psysml:f1048496-f45f-4de3-be42-17169da36fba\" xlink:type=\"simple\"><rect fill=\"#FFFFFF\" height=\"75.5469\" id=\"E2\" style=\"stroke: #383838; stroke-width: 1.5;\" width=\"95\" x=\"334.5\" y=\"119\"/><text fill=\"#000000\" font-family=\"sans-serif\" font-size=\"12\" font-style=\"italic\" lengthAdjust=\"spacingAndGlyphs\" textLength=\"93\" x=\"335.5\" y=\"135.1387\">«attribute def»</text><text fill=\"#000000\" font-family=\"sans-serif\" font-size=\"12\" lengthAdjust=\"spacingAndGlyphs\" textLength=\"19\" x=\"372.5\" y=\"149.1074\">Sig</text><line style=\"stroke: #383838; stroke-width: 1.5;\" x1=\"335.5\" x2=\"428.5\" y1=\"156.9375\" y2=\"156.9375\"/><text fill=\"#000000\" font-family=\"sans-serif\" font-size=\"11\" lengthAdjust=\"spacingAndGlyphs\" textLength=\"6\" x=\"340.5\" y=\"187.9526\">x</text><line style=\"stroke: #383838; stroke-width: 1.0;\" x1=\"335.5\" x2=\"354.5\" y1=\"171.3398\" y2=\"171.3398\"/><text fill=\"#000000\" font-family=\"sans-serif\" font-size=\"11\" lengthAdjust=\"spacingAndGlyphs\" textLength=\"55\" x=\"354.5\" y=\"174.6479\">attributes</text><line style=\"stroke: #383838; stroke-width: 1.0;\" x1=\"409.5\" x2=\"428.5\" y1=\"171.3398\" y2=\"171.3398\"/></a><!--MD5=[09b614a08d8cba4a07c9adeb5e0fee81]\n",
       "class E3--><a href=\"psysml:546c6a0a-79ca-4224-b50a-77e407cae485\" target=\"_top\" title=\"psysml:546c6a0a-79ca-4224-b50a-77e407cae485\" xlink:actuate=\"onRequest\" xlink:href=\"psysml:546c6a0a-79ca-4224-b50a-77e407cae485\" xlink:show=\"new\" xlink:title=\"psysml:546c6a0a-79ca-4224-b50a-77e407cae485\" xlink:type=\"simple\"><rect fill=\"#FFFFFF\" height=\"45.9375\" id=\"E3\" style=\"stroke: #383838; stroke-width: 1.5;\" width=\"95\" x=\"204.5\" y=\"134\"/><text fill=\"#000000\" font-family=\"sans-serif\" font-size=\"12\" font-style=\"italic\" lengthAdjust=\"spacingAndGlyphs\" textLength=\"93\" x=\"205.5\" y=\"150.1387\">«attribute def»</text><text fill=\"#000000\" font-family=\"sans-serif\" font-size=\"12\" lengthAdjust=\"spacingAndGlyphs\" textLength=\"22\" x=\"241\" y=\"164.1074\">Exit</text><line style=\"stroke: #383838; stroke-width: 1.5;\" x1=\"205.5\" x2=\"298.5\" y1=\"171.9375\" y2=\"171.9375\"/></a><!--MD5=[ebbe1d658d1005bcc118a6aa81145e00]\n",
       "class E4--><a href=\"psysml:4710131f-7c31-45d9-a6fe-10a60fc8490a\" target=\"_top\" title=\"psysml:4710131f-7c31-45d9-a6fe-10a60fc8490a\" xlink:actuate=\"onRequest\" xlink:href=\"psysml:4710131f-7c31-45d9-a6fe-10a60fc8490a\" xlink:show=\"new\" xlink:title=\"psysml:4710131f-7c31-45d9-a6fe-10a60fc8490a\" xlink:type=\"simple\"><rect fill=\"#FFFFFF\" height=\"45.9375\" id=\"E4\" rx=\"10\" ry=\"10\" style=\"stroke: #383838; stroke-width: 1.5;\" width=\"42\" x=\"127\" y=\"134\"/><text fill=\"#000000\" font-family=\"sans-serif\" font-size=\"12\" font-style=\"italic\" lengthAdjust=\"spacingAndGlyphs\" textLength=\"40\" x=\"128\" y=\"150.1387\">«part»</text><text fill=\"#000000\" font-family=\"sans-serif\" font-size=\"12\" lengthAdjust=\"spacingAndGlyphs\" textLength=\"8\" x=\"144\" y=\"164.1074\">p</text><line style=\"stroke: #383838; stroke-width: 1.5;\" x1=\"128\" x2=\"168\" y1=\"171.9375\" y2=\"171.9375\"/></a><g id=\"E1.E5\"><a href=\"psysml:0b92cdb5-3694-4434-adff-e0b2149bd4e6\" target=\"_top\" title=\"psysml:0b92cdb5-3694-4434-adff-e0b2149bd4e6\" xlink:actuate=\"onRequest\" xlink:href=\"psysml:0b92cdb5-3694-4434-adff-e0b2149bd4e6\" xlink:show=\"new\" xlink:title=\"psysml:0b92cdb5-3694-4434-adff-e0b2149bd4e6\" xlink:type=\"simple\"><rect fill=\"#FFFFFF\" height=\"42.9375\" id=\"E5\" rx=\"10\" ry=\"10\" style=\"stroke: #383838; stroke-width: 1.5;\" width=\"60\" x=\"32\" y=\"135.5\"/><rect fill=\"#F8F8F8\" height=\"37.9375\" rx=\"10\" ry=\"10\" style=\"stroke: #F8F8F8; stroke-width: 1.5;\" width=\"60\" x=\"32\" y=\"135.5\"/><rect fill=\"#F8F8F8\" height=\"10\" style=\"stroke: #F8F8F8; stroke-width: 1.5;\" width=\"60\" x=\"32\" y=\"163.4375\"/><rect fill=\"none\" height=\"42.9375\" id=\"E5\" rx=\"10\" ry=\"10\" style=\"stroke: #383838; stroke-width: 1.5;\" width=\"60\" x=\"32\" y=\"135.5\"/><text fill=\"#000000\" font-family=\"sans-serif\" font-size=\"12\" font-style=\"italic\" lengthAdjust=\"spacingAndGlyphs\" textLength=\"53\" x=\"35.5\" y=\"151.6387\">«action»</text><text fill=\"#000000\" font-family=\"sans-serif\" font-size=\"12\" lengthAdjust=\"spacingAndGlyphs\" textLength=\"20\" x=\"52\" y=\"165.6074\">act</text></a></g><ellipse cx=\"558\" cy=\"157\" fill=\"#000000\" rx=\"10\" ry=\"10\" style=\"stroke: none; stroke-width: 1.0;\"/><ellipse cx=\"583\" cy=\"508\" fill=\"none\" rx=\"10\" ry=\"10\" style=\"stroke: #000000; stroke-width: 1.0;\"/><ellipse cx=\"583.5\" cy=\"508.5\" fill=\"#000000\" rx=\"6\" ry=\"6\" style=\"stroke: none; stroke-width: 1.0;\"/><g id=\"E1.E6.E7\"><a href=\"psysml:0ffea2c5-2698-4589-991c-94f7ac5b0395\" target=\"_top\" title=\"psysml:0ffea2c5-2698-4589-991c-94f7ac5b0395\" xlink:actuate=\"onRequest\" xlink:href=\"psysml:0ffea2c5-2698-4589-991c-94f7ac5b0395\" xlink:show=\"new\" xlink:title=\"psysml:0ffea2c5-2698-4589-991c-94f7ac5b0395\" xlink:type=\"simple\"><rect fill=\"#FFFFFF\" height=\"40\" id=\"E7\" rx=\"10\" ry=\"10\" style=\"stroke: #383838; stroke-width: 1.5;\" width=\"50\" x=\"533\" y=\"256\"/><rect fill=\"#F8F8F8\" height=\"23.9688\" rx=\"10\" ry=\"10\" style=\"stroke: #F8F8F8; stroke-width: 1.5;\" width=\"50\" x=\"533\" y=\"256\"/><rect fill=\"#F8F8F8\" height=\"10\" style=\"stroke: #F8F8F8; stroke-width: 1.5;\" width=\"50\" x=\"533\" y=\"269.9688\"/><rect fill=\"none\" height=\"40\" id=\"E7\" rx=\"10\" ry=\"10\" style=\"stroke: #383838; stroke-width: 1.5;\" width=\"50\" x=\"533\" y=\"256\"/><text fill=\"#000000\" font-family=\"sans-serif\" font-size=\"12\" lengthAdjust=\"spacingAndGlyphs\" textLength=\"16\" x=\"550\" y=\"272.1387\">S1</text></a></g><g id=\"E1.E6.E8\"><a href=\"psysml:f6369ddf-93b2-4791-a9ee-7d090a7e6258\" target=\"_top\" title=\"psysml:f6369ddf-93b2-4791-a9ee-7d090a7e6258\" xlink:actuate=\"onRequest\" xlink:href=\"psysml:f6369ddf-93b2-4791-a9ee-7d090a7e6258\" xlink:show=\"new\" xlink:title=\"psysml:f6369ddf-93b2-4791-a9ee-7d090a7e6258\" xlink:type=\"simple\"><rect fill=\"#FFFFFF\" height=\"47.9375\" id=\"E8\" rx=\"10\" ry=\"10\" style=\"stroke: #383838; stroke-width: 1.5;\" width=\"169\" x=\"498.5\" y=\"373\"/><rect fill=\"#F8F8F8\" height=\"23.9688\" rx=\"10\" ry=\"10\" style=\"stroke: #F8F8F8; stroke-width: 1.5;\" width=\"169\" x=\"498.5\" y=\"373\"/><rect fill=\"#F8F8F8\" height=\"10\" style=\"stroke: #F8F8F8; stroke-width: 1.5;\" width=\"169\" x=\"498.5\" y=\"386.9688\"/><rect fill=\"none\" height=\"47.9375\" id=\"E8\" rx=\"10\" ry=\"10\" style=\"stroke: #383838; stroke-width: 1.5;\" width=\"169\" x=\"498.5\" y=\"373\"/><text fill=\"#000000\" font-family=\"sans-serif\" font-size=\"12\" lengthAdjust=\"spacingAndGlyphs\" textLength=\"16\" x=\"575\" y=\"389.1387\">S2</text><line style=\"stroke: #383838; stroke-width: 1.0;\" x1=\"498.5\" x2=\"667.5\" y1=\"396.9688\" y2=\"396.9688\"/><text fill=\"#000000\" font-family=\"sans-serif\" font-size=\"12\" font-weight=\"bold\" lengthAdjust=\"spacingAndGlyphs\" textLength=\"18\" x=\"503.5\" y=\"410.1074\">do</text><text fill=\"#000000\" font-family=\"sans-serif\" font-size=\"12\" lengthAdjust=\"spacingAndGlyphs\" textLength=\"141\" x=\"521.5\" y=\"410.1074\">/  send Sig(T::s::x) to p</text></a></g><!--MD5=[5a531d3a85f3339e6e197084acb48195]\n",
       "link *start*E6 to E7--><a href=\"psysml:3d6f6111-a5f0-4f07-bf0a-543b5052b3c3\" target=\"_top\" title=\"psysml:3d6f6111-a5f0-4f07-bf0a-543b5052b3c3\" xlink:actuate=\"onRequest\" xlink:href=\"psysml:3d6f6111-a5f0-4f07-bf0a-543b5052b3c3\" xlink:show=\"new\" xlink:title=\"psysml:3d6f6111-a5f0-4f07-bf0a-543b5052b3c3\" xlink:type=\"simple\"><path d=\"M558,167.18 C558,184.98 558,224.73 558,250.67 \" fill=\"none\" id=\"*start*E6-&gt;E7\" style=\"stroke: #383838; stroke-width: 1.0;\"/><polygon fill=\"#383838\" points=\"558,255.98,562,246.98,558,250.98,554,246.98,558,255.98\" style=\"stroke: #383838; stroke-width: 1.0;\"/></a><!--MD5=[7ec9a8babba89ddcae1318ca9fb3c814]\n",
       "link E8 to *end*E6--><a href=\"psysml:374875bf-0004-40f7-bedc-1374d527cde5\" target=\"_top\" title=\"psysml:374875bf-0004-40f7-bedc-1374d527cde5\" xlink:actuate=\"onRequest\" xlink:href=\"psysml:374875bf-0004-40f7-bedc-1374d527cde5\" xlink:show=\"new\" xlink:title=\"psysml:374875bf-0004-40f7-bedc-1374d527cde5\" xlink:type=\"simple\"><path d=\"M583,421.12 C583,442.75 583,474.39 583,492.62 \" fill=\"none\" id=\"E8-&gt;*end*E6\" style=\"stroke: #383838; stroke-width: 1.0;\"/><polygon fill=\"#383838\" points=\"583,497.82,587,488.82,583,492.82,579,488.82,583,497.82\" style=\"stroke: #383838; stroke-width: 1.0;\"/><text fill=\"#000000\" font-family=\"sans-serif\" font-size=\"13\" lengthAdjust=\"spacingAndGlyphs\" textLength=\"23\" x=\"584\" y=\"464.0669\">Exit</text></a><!--MD5=[79bc8f324ef4d02c541433f2e6e513c3]\n",
       "link E7 to E8--><a href=\"psysml:69f1494c-077d-4519-8343-87cce73be713\" target=\"_top\" title=\"psysml:69f1494c-077d-4519-8343-87cce73be713\" xlink:actuate=\"onRequest\" xlink:href=\"psysml:69f1494c-077d-4519-8343-87cce73be713\" xlink:show=\"new\" xlink:title=\"psysml:69f1494c-077d-4519-8343-87cce73be713\" xlink:type=\"simple\"><path d=\"M532.85,288.29 C509.89,300.31 481.3,320.66 494,343 C500.2,353.9 509.62,362.8 520.06,369.97 \" fill=\"none\" id=\"E7-&gt;E8\" style=\"stroke: #383838; stroke-width: 1.0;\"/><polygon fill=\"#383838\" points=\"524.26,372.74,518.9574,364.4404,520.0888,369.983,514.5462,371.1144,524.26,372.74\" style=\"stroke: #383838; stroke-width: 1.0;\"/><text fill=\"#000000\" font-family=\"sans-serif\" font-size=\"13\" lengthAdjust=\"spacingAndGlyphs\" textLength=\"81\" x=\"495\" y=\"339.0669\">Sig /action D</text></a><!--MD5=[bfa3c8b0d15052fdf50ae9310b491027]\n",
       "link E8 to E7--><a href=\"psysml:f8d53726-bfe5-4353-91f3-ae2ef06d9a38\" target=\"_top\" title=\"psysml:f8d53726-bfe5-4353-91f3-ae2ef06d9a38\" xlink:actuate=\"onRequest\" xlink:href=\"psysml:f8d53726-bfe5-4353-91f3-ae2ef06d9a38\" xlink:show=\"new\" xlink:title=\"psysml:f8d53726-bfe5-4353-91f3-ae2ef06d9a38\" xlink:type=\"simple\"><path d=\"M584.68,372.99 C585.12,359.19 584.66,341.38 581,326 C578.98,317.52 575.41,308.75 571.67,301.02 \" fill=\"none\" id=\"E8-&gt;E7\" style=\"stroke: #383838; stroke-width: 1.0;\"/><polygon fill=\"#383838\" points=\"569.33,296.35,569.7898,306.1881,571.5718,300.8193,576.9406,302.6013,569.33,296.35\" style=\"stroke: #383838; stroke-width: 1.0;\"/><text fill=\"#000000\" font-family=\"sans-serif\" font-size=\"13\" lengthAdjust=\"spacingAndGlyphs\" textLength=\"135\" x=\"584\" y=\"339.0669\">Sig [true]/send s to p</text></a><!--MD5=[15c583dd52ec18de293c4d129cde3509]\n",
       "@startuml\r\n",
       "top to bottom direction\r\n",
       "skinparam monochrome true\r\n",
       "skinparam classbackgroundcolor white\r\n",
       "skinparam shadowing false\r\n",
       "skinparam wrapWidth 300\r\n",
       "hide circle\r\n",
       "\r\n",
       "package \"StateTest\" as E1  [[psysml:800f45c9-cf5c-46ce-b3c3-487778cd6319 ]]  {\r\n",
       "comp def \"Sig\" as E2  <<(T,blue)attribute def>> [[psysml:f1048496-f45f-4de3-be42-17169da36fba ]] {\r\n",
       "- - attributes - -\r\n",
       "x\r\n",
       "}\r\n",
       "comp def \"Exit\" as E3  <<(T,blue)attribute def>> [[psysml:546c6a0a-79ca-4224-b50a-77e407cae485 ]] {\r\n",
       "}\r\n",
       "comp usage \"p\" as E4  <<(T,blue)part>> [[psysml:4710131f-7c31-45d9-a6fe-10a60fc8490a ]] {\r\n",
       "}\r\n",
       "rec usage \"act\" as E5  <<(T,blue)action>> [[psysml:0b92cdb5-3694-4434-adff-e0b2149bd4e6 ]] {\r\n",
       "}\r\n",
       "\r\n",
       "rec def \"S\" as E6  <<(T,blue)state def>> [[psysml:f2a66a23-1197-47ed-b1bd-74e1ad61d6fd ]] {\r\n",
       "rec usage \"S1\" as E7 [[psysml:0ffea2c5-2698-4589-991c-94f7ac5b0395 ]] {\r\n",
       "}\r\n",
       "\r\n",
       "rec usage \"S2\" as E8 [[psysml:f6369ddf-93b2-4791-a9ee-7d090a7e6258 ]] {\r\n",
       "desc \"S2\" as E8  : **do**/  send Sig(T::s::x) to p\r\n",
       "}\r\n",
       "\r\n",
       "desc \"S\" as E6  : **entry**/ A\r\n",
       "desc \"S\" as E6  : **do**/ B\r\n",
       "desc \"S\" as E6  : **exit**/ act \r\n",
       "[*] - -> E7 [[psysml:3d6f6111-a5f0-4f07-bf0a-543b5052b3c3 ]] \r\n",
       "E8  - -> [*] [[psysml:374875bf-0004-40f7-bedc-1374d527cde5 ]] : Exit \r\n",
       "}\r\n",
       "\r\n",
       "E7  - -> E8 [[psysml:69f1494c-077d-4519-8343-87cce73be713 ]] : Sig /action D\r\n",
       "E8  - -> E7 [[psysml:f8d53726-bfe5-4353-91f3-ae2ef06d9a38 ]] : Sig [true]/send s to p\r\n",
       "}\r\n",
       "@enduml\r\n",
       "\n",
       "PlantUML version 1.2020.13(Sat Jun 13 12:26:38 UTC 2020)\n",
       "(EPL source distribution)\n",
       "Java Runtime: OpenJDK Runtime Environment\n",
       "JVM: OpenJDK 64-Bit Server VM\n",
       "Default Encoding: UTF-8\n",
       "Language: en\n",
       "Country: null\n",
       "--></g></svg>"
      ]
     },
     "execution_count": 44,
     "metadata": {},
     "output_type": "execute_result"
    }
   ],
   "source": [
    "%viz --style=\"TB\" --view=\"Default\" \"StateTest\""
   ]
  },
  {
   "cell_type": "code",
   "execution_count": 45,
   "id": "24454933",
   "metadata": {
    "execution": {
     "iopub.execute_input": "2021-04-21T20:23:45.422857Z",
     "iopub.status.busy": "2021-04-21T20:23:45.422382Z",
     "iopub.status.idle": "2021-04-21T20:23:45.535779Z",
     "shell.execute_reply": "2021-04-21T20:23:45.535450Z"
    }
   },
   "outputs": [
    {
     "data": {
      "image/svg+xml": [
       "<?xml version=\"1.0\" encoding=\"UTF-8\" standalone=\"no\"?><svg xmlns=\"http://www.w3.org/2000/svg\" xmlns:xlink=\"http://www.w3.org/1999/xlink\" contentScriptType=\"application/ecmascript\" contentStyleType=\"text/css\" height=\"365px\" preserveAspectRatio=\"none\" style=\"width:594px;height:365px;\" version=\"1.1\" viewBox=\"0 0 594 365\" width=\"594px\" zoomAndPan=\"magnify\"><defs/><g><!--MD5=[fbc87193dbaf4d95561dea2c320d4a47]\n",
       "cluster E1--><a href=\"psysml:800f45c9-cf5c-46ce-b3c3-487778cd6319\" target=\"_top\" title=\"psysml:800f45c9-cf5c-46ce-b3c3-487778cd6319\" xlink:actuate=\"onRequest\" xlink:href=\"psysml:800f45c9-cf5c-46ce-b3c3-487778cd6319\" xlink:show=\"new\" xlink:title=\"psysml:800f45c9-cf5c-46ce-b3c3-487778cd6319\" xlink:type=\"simple\"><polygon fill=\"#FFFFFF\" points=\"16,6,98,6,105,28.2969,572,28.2969,572,353,16,353,16,6\" style=\"stroke: #000000; stroke-width: 1.5;\"/><line style=\"stroke: #000000; stroke-width: 1.5;\" x1=\"16\" x2=\"105\" y1=\"28.2969\" y2=\"28.2969\"/><text fill=\"#000000\" font-family=\"sans-serif\" font-size=\"14\" font-weight=\"bold\" lengthAdjust=\"spacingAndGlyphs\" textLength=\"76\" x=\"20\" y=\"20.9951\">StateTest</text></a><!--MD5=[b4997ac47864f28c2f74865a473b2911]\n",
       "class E2--><a href=\"psysml:f1048496-f45f-4de3-be42-17169da36fba\" target=\"_top\" title=\"psysml:f1048496-f45f-4de3-be42-17169da36fba\" xlink:actuate=\"onRequest\" xlink:href=\"psysml:f1048496-f45f-4de3-be42-17169da36fba\" xlink:show=\"new\" xlink:title=\"psysml:f1048496-f45f-4de3-be42-17169da36fba\" xlink:type=\"simple\"><rect fill=\"#FFFFFF\" height=\"75.5469\" id=\"E2\" style=\"stroke: #383838; stroke-width: 1.5;\" width=\"95\" x=\"460.5\" y=\"83\"/><text fill=\"#000000\" font-family=\"sans-serif\" font-size=\"12\" font-style=\"italic\" lengthAdjust=\"spacingAndGlyphs\" textLength=\"93\" x=\"461.5\" y=\"99.1387\">«attribute def»</text><text fill=\"#000000\" font-family=\"sans-serif\" font-size=\"12\" lengthAdjust=\"spacingAndGlyphs\" textLength=\"19\" x=\"498.5\" y=\"113.1074\">Sig</text><line style=\"stroke: #383838; stroke-width: 1.5;\" x1=\"461.5\" x2=\"554.5\" y1=\"120.9375\" y2=\"120.9375\"/><text fill=\"#000000\" font-family=\"sans-serif\" font-size=\"11\" lengthAdjust=\"spacingAndGlyphs\" textLength=\"6\" x=\"466.5\" y=\"151.9526\">x</text><line style=\"stroke: #383838; stroke-width: 1.0;\" x1=\"461.5\" x2=\"480.5\" y1=\"135.3398\" y2=\"135.3398\"/><text fill=\"#000000\" font-family=\"sans-serif\" font-size=\"11\" lengthAdjust=\"spacingAndGlyphs\" textLength=\"55\" x=\"480.5\" y=\"138.6479\">attributes</text><line style=\"stroke: #383838; stroke-width: 1.0;\" x1=\"535.5\" x2=\"554.5\" y1=\"135.3398\" y2=\"135.3398\"/></a><!--MD5=[09b614a08d8cba4a07c9adeb5e0fee81]\n",
       "class E3--><a href=\"psysml:546c6a0a-79ca-4224-b50a-77e407cae485\" target=\"_top\" title=\"psysml:546c6a0a-79ca-4224-b50a-77e407cae485\" xlink:actuate=\"onRequest\" xlink:href=\"psysml:546c6a0a-79ca-4224-b50a-77e407cae485\" xlink:show=\"new\" xlink:title=\"psysml:546c6a0a-79ca-4224-b50a-77e407cae485\" xlink:type=\"simple\"><rect fill=\"#FFFFFF\" height=\"45.9375\" id=\"E3\" style=\"stroke: #383838; stroke-width: 1.5;\" width=\"95\" x=\"330.5\" y=\"98\"/><text fill=\"#000000\" font-family=\"sans-serif\" font-size=\"12\" font-style=\"italic\" lengthAdjust=\"spacingAndGlyphs\" textLength=\"93\" x=\"331.5\" y=\"114.1387\">«attribute def»</text><text fill=\"#000000\" font-family=\"sans-serif\" font-size=\"12\" lengthAdjust=\"spacingAndGlyphs\" textLength=\"22\" x=\"367\" y=\"128.1074\">Exit</text><line style=\"stroke: #383838; stroke-width: 1.5;\" x1=\"331.5\" x2=\"424.5\" y1=\"135.9375\" y2=\"135.9375\"/></a><!--MD5=[ebbe1d658d1005bcc118a6aa81145e00]\n",
       "class E4--><a href=\"psysml:4710131f-7c31-45d9-a6fe-10a60fc8490a\" target=\"_top\" title=\"psysml:4710131f-7c31-45d9-a6fe-10a60fc8490a\" xlink:actuate=\"onRequest\" xlink:href=\"psysml:4710131f-7c31-45d9-a6fe-10a60fc8490a\" xlink:show=\"new\" xlink:title=\"psysml:4710131f-7c31-45d9-a6fe-10a60fc8490a\" xlink:type=\"simple\"><rect fill=\"#FFFFFF\" height=\"45.9375\" id=\"E4\" rx=\"10\" ry=\"10\" style=\"stroke: #383838; stroke-width: 1.5;\" width=\"42\" x=\"253\" y=\"98\"/><text fill=\"#000000\" font-family=\"sans-serif\" font-size=\"12\" font-style=\"italic\" lengthAdjust=\"spacingAndGlyphs\" textLength=\"40\" x=\"254\" y=\"114.1387\">«part»</text><text fill=\"#000000\" font-family=\"sans-serif\" font-size=\"12\" lengthAdjust=\"spacingAndGlyphs\" textLength=\"8\" x=\"270\" y=\"128.1074\">p</text><line style=\"stroke: #383838; stroke-width: 1.5;\" x1=\"254\" x2=\"294\" y1=\"135.9375\" y2=\"135.9375\"/></a><!--MD5=[270fce915f116d4de14055a7c1d9a0f3]\n",
       "class E5--><a href=\"psysml:0b92cdb5-3694-4434-adff-e0b2149bd4e6\" target=\"_top\" title=\"psysml:0b92cdb5-3694-4434-adff-e0b2149bd4e6\" xlink:actuate=\"onRequest\" xlink:href=\"psysml:0b92cdb5-3694-4434-adff-e0b2149bd4e6\" xlink:show=\"new\" xlink:title=\"psysml:0b92cdb5-3694-4434-adff-e0b2149bd4e6\" xlink:type=\"simple\"><rect fill=\"#FFFFFF\" height=\"45.9375\" id=\"E5\" rx=\"10\" ry=\"10\" style=\"stroke: #383838; stroke-width: 1.5;\" width=\"55\" x=\"162.5\" y=\"98\"/><text fill=\"#000000\" font-family=\"sans-serif\" font-size=\"12\" font-style=\"italic\" lengthAdjust=\"spacingAndGlyphs\" textLength=\"53\" x=\"163.5\" y=\"114.1387\">«action»</text><text fill=\"#000000\" font-family=\"sans-serif\" font-size=\"12\" lengthAdjust=\"spacingAndGlyphs\" textLength=\"20\" x=\"180\" y=\"128.1074\">act</text><line style=\"stroke: #383838; stroke-width: 1.5;\" x1=\"163.5\" x2=\"216.5\" y1=\"135.9375\" y2=\"135.9375\"/></a><!--MD5=[60a26617385b1d2d0262a64233df1f8d]\n",
       "class E6--><a href=\"psysml:f2a66a23-1197-47ed-b1bd-74e1ad61d6fd\" target=\"_top\" title=\"psysml:f2a66a23-1197-47ed-b1bd-74e1ad61d6fd\" xlink:actuate=\"onRequest\" xlink:href=\"psysml:f2a66a23-1197-47ed-b1bd-74e1ad61d6fd\" xlink:show=\"new\" xlink:title=\"psysml:f2a66a23-1197-47ed-b1bd-74e1ad61d6fd\" xlink:type=\"simple\"><rect fill=\"#FFFFFF\" height=\"160.375\" id=\"E6\" style=\"stroke: #383838; stroke-width: 1.5;\" width=\"95\" x=\"32.5\" y=\"41\"/><text fill=\"#000000\" font-family=\"sans-serif\" font-size=\"12\" font-style=\"italic\" lengthAdjust=\"spacingAndGlyphs\" textLength=\"71\" x=\"44.5\" y=\"57.1387\">«state def»</text><text fill=\"#000000\" font-family=\"sans-serif\" font-size=\"12\" lengthAdjust=\"spacingAndGlyphs\" textLength=\"8\" x=\"76\" y=\"71.1074\">S</text><line style=\"stroke: #383838; stroke-width: 1.5;\" x1=\"33.5\" x2=\"126.5\" y1=\"78.9375\" y2=\"78.9375\"/><text fill=\"#000000\" font-family=\"sans-serif\" font-size=\"11\" lengthAdjust=\"spacingAndGlyphs\" textLength=\"17\" x=\"38.5\" y=\"109.9526\">act</text><text fill=\"#000000\" font-family=\"sans-serif\" font-size=\"11\" lengthAdjust=\"spacingAndGlyphs\" textLength=\"7\" x=\"38.5\" y=\"122.7573\">A</text><text fill=\"#000000\" font-family=\"sans-serif\" font-size=\"11\" lengthAdjust=\"spacingAndGlyphs\" textLength=\"8\" x=\"38.5\" y=\"135.562\">B</text><line style=\"stroke: #383838; stroke-width: 1.0;\" x1=\"33.5\" x2=\"36.5\" y1=\"93.3398\" y2=\"93.3398\"/><text fill=\"#000000\" font-family=\"sans-serif\" font-size=\"11\" lengthAdjust=\"spacingAndGlyphs\" textLength=\"87\" x=\"36.5\" y=\"96.6479\">performActions</text><line style=\"stroke: #383838; stroke-width: 1.0;\" x1=\"123.5\" x2=\"126.5\" y1=\"93.3398\" y2=\"93.3398\"/><text fill=\"#000000\" font-family=\"sans-serif\" font-size=\"11\" lengthAdjust=\"spacingAndGlyphs\" textLength=\"15\" x=\"38.5\" y=\"165.1714\">S1</text><line style=\"stroke: #383838; stroke-width: 1.0;\" x1=\"33.5\" x2=\"62\" y1=\"148.5586\" y2=\"148.5586\"/><text fill=\"#000000\" font-family=\"sans-serif\" font-size=\"11\" lengthAdjust=\"spacingAndGlyphs\" textLength=\"36\" x=\"62\" y=\"151.8667\">states</text><line style=\"stroke: #383838; stroke-width: 1.0;\" x1=\"98\" x2=\"126.5\" y1=\"148.5586\" y2=\"148.5586\"/><text fill=\"#000000\" font-family=\"sans-serif\" font-size=\"11\" lengthAdjust=\"spacingAndGlyphs\" textLength=\"7\" x=\"38.5\" y=\"194.7808\">T</text><line style=\"stroke: #383838; stroke-width: 1.0;\" x1=\"33.5\" x2=\"49.5\" y1=\"178.168\" y2=\"178.168\"/><text fill=\"#000000\" font-family=\"sans-serif\" font-size=\"11\" lengthAdjust=\"spacingAndGlyphs\" textLength=\"61\" x=\"49.5\" y=\"181.4761\">transitions</text><line style=\"stroke: #383838; stroke-width: 1.0;\" x1=\"110.5\" x2=\"126.5\" y1=\"178.168\" y2=\"178.168\"/></a><!--MD5=[1dd1bfd58a279cf63c5f349dbc8fc6a1]\n",
       "class E11--><a href=\"psysml:f6369ddf-93b2-4791-a9ee-7d090a7e6258\" target=\"_top\" title=\"psysml:f6369ddf-93b2-4791-a9ee-7d090a7e6258\" xlink:actuate=\"onRequest\" xlink:href=\"psysml:f6369ddf-93b2-4791-a9ee-7d090a7e6258\" xlink:show=\"new\" xlink:title=\"psysml:f6369ddf-93b2-4791-a9ee-7d090a7e6258\" xlink:type=\"simple\"><rect fill=\"#FFFFFF\" height=\"75.5469\" id=\"E11\" rx=\"10\" ry=\"10\" style=\"stroke: #383838; stroke-width: 1.5;\" width=\"77\" x=\"41.5\" y=\"261\"/><text fill=\"#000000\" font-family=\"sans-serif\" font-size=\"12\" font-style=\"italic\" lengthAdjust=\"spacingAndGlyphs\" textLength=\"47\" x=\"56.5\" y=\"277.1387\">«state»</text><text fill=\"#000000\" font-family=\"sans-serif\" font-size=\"12\" lengthAdjust=\"spacingAndGlyphs\" textLength=\"16\" x=\"72\" y=\"291.1074\">S2</text><line style=\"stroke: #383838; stroke-width: 1.5;\" x1=\"42.5\" x2=\"117.5\" y1=\"298.9375\" y2=\"298.9375\"/><text fill=\"#000000\" font-family=\"sans-serif\" font-size=\"11\" lengthAdjust=\"spacingAndGlyphs\" textLength=\"48\" x=\"47.5\" y=\"329.9526\">doAction</text><line style=\"stroke: #383838; stroke-width: 1.0;\" x1=\"42.5\" x2=\"45.5\" y1=\"313.3398\" y2=\"313.3398\"/><text fill=\"#000000\" font-family=\"sans-serif\" font-size=\"11\" lengthAdjust=\"spacingAndGlyphs\" textLength=\"69\" x=\"45.5\" y=\"316.6479\">sendActions</text><line style=\"stroke: #383838; stroke-width: 1.0;\" x1=\"114.5\" x2=\"117.5\" y1=\"313.3398\" y2=\"313.3398\"/></a><!--MD5=[1f5f03483f7de0d5b3680a7f6650997f]\n",
       "reverse link E6 to E11--><a href=\"psysml:247e0169-6466-401b-83f0-032a7b21c539\" target=\"_top\" title=\"psysml:247e0169-6466-401b-83f0-032a7b21c539\" xlink:actuate=\"onRequest\" xlink:href=\"psysml:247e0169-6466-401b-83f0-032a7b21c539\" xlink:show=\"new\" xlink:title=\"psysml:247e0169-6466-401b-83f0-032a7b21c539\" xlink:type=\"simple\"><path d=\"M80,214.46 C80,230.92 80,247.18 80,260.92 \" fill=\"none\" id=\"E6&lt;-E11\" style=\"stroke: #383838; stroke-width: 1.0;\"/><polygon fill=\"#383838\" points=\"80,201.25,76,207.25,80,213.25,84,207.25,80,201.25\" style=\"stroke: #383838; stroke-width: 1.0;\"/></a><!--MD5=[6d61c322119e0584d9066d31b3a508b7]\n",
       "@startuml\r\n",
       "top to bottom direction\r\n",
       "skinparam monochrome true\r\n",
       "skinparam classbackgroundcolor white\r\n",
       "skinparam shadowing false\r\n",
       "skinparam wrapWidth 300\r\n",
       "hide circle\r\n",
       "\r\n",
       "package \"StateTest\" as E1  [[psysml:800f45c9-cf5c-46ce-b3c3-487778cd6319 ]]  {\r\n",
       "comp def \"Sig\" as E2  <<(T,blue)attribute def>> [[psysml:f1048496-f45f-4de3-be42-17169da36fba ]] {\r\n",
       "- - attributes - -\r\n",
       "x\r\n",
       "}\r\n",
       "comp def \"Exit\" as E3  <<(T,blue)attribute def>> [[psysml:546c6a0a-79ca-4224-b50a-77e407cae485 ]] {\r\n",
       "}\r\n",
       "comp usage \"p\" as E4  <<(T,blue)part>> [[psysml:4710131f-7c31-45d9-a6fe-10a60fc8490a ]] {\r\n",
       "}\r\n",
       "comp usage \"act\" as E5  <<(T,blue)action>> [[psysml:0b92cdb5-3694-4434-adff-e0b2149bd4e6 ]] {\r\n",
       "}\r\n",
       "comp def \"S\" as E6  <<(T,blue)state def>> [[psysml:f2a66a23-1197-47ed-b1bd-74e1ad61d6fd ]] {\r\n",
       "- - performActions - -\r\n",
       "act\r\n",
       "A\r\n",
       "B\r\n",
       "- - states - -\r\n",
       "S1\r\n",
       "- - transitions - -\r\n",
       "T\r\n",
       "}\r\n",
       "comp usage \"S2\" as E11  <<(T,blue)state>> [[psysml:f6369ddf-93b2-4791-a9ee-7d090a7e6258 ]] {\r\n",
       "- - sendActions - -\r\n",
       "doAction\r\n",
       "}\r\n",
       "E6 *- - E11 [[psysml:247e0169-6466-401b-83f0-032a7b21c539 ]] \r\n",
       "}\r\n",
       "@enduml\r\n",
       "\n",
       "PlantUML version 1.2020.13(Sat Jun 13 12:26:38 UTC 2020)\n",
       "(EPL source distribution)\n",
       "Java Runtime: OpenJDK Runtime Environment\n",
       "JVM: OpenJDK 64-Bit Server VM\n",
       "Default Encoding: UTF-8\n",
       "Language: en\n",
       "Country: null\n",
       "--></g></svg>"
      ]
     },
     "execution_count": 45,
     "metadata": {},
     "output_type": "execute_result"
    }
   ],
   "source": [
    "%viz --style=\"TB\" --view=\"Tree\" \"StateTest\""
   ]
  },
  {
   "cell_type": "code",
   "execution_count": 46,
   "id": "a7169c76",
   "metadata": {
    "execution": {
     "iopub.execute_input": "2021-04-21T20:23:45.585783Z",
     "iopub.status.busy": "2021-04-21T20:23:45.585305Z",
     "iopub.status.idle": "2021-04-21T20:23:45.623500Z",
     "shell.execute_reply": "2021-04-21T20:23:45.622004Z"
    }
   },
   "outputs": [
    {
     "data": {
      "image/svg+xml": [
       "<?xml version=\"1.0\" encoding=\"UTF-8\" standalone=\"no\"?><svg xmlns=\"http://www.w3.org/2000/svg\" xmlns:xlink=\"http://www.w3.org/1999/xlink\" contentScriptType=\"application/ecmascript\" contentStyleType=\"text/css\" height=\"475px\" preserveAspectRatio=\"none\" style=\"width:346px;height:475px;\" version=\"1.1\" viewBox=\"0 0 346 475\" width=\"346px\" zoomAndPan=\"magnify\"><defs/><g><!--MD5=[fbc87193dbaf4d95561dea2c320d4a47]\n",
       "cluster E1--><a href=\"psysml:f2a66a23-1197-47ed-b1bd-74e1ad61d6fd\" target=\"_top\" title=\"psysml:f2a66a23-1197-47ed-b1bd-74e1ad61d6fd\" xlink:actuate=\"onRequest\" xlink:href=\"psysml:f2a66a23-1197-47ed-b1bd-74e1ad61d6fd\" xlink:show=\"new\" xlink:title=\"psysml:f2a66a23-1197-47ed-b1bd-74e1ad61d6fd\" xlink:type=\"simple\"><rect fill=\"#FFFFFF\" height=\"457\" id=\"E1\" style=\"stroke: #383838; stroke-width: 1.5;\" width=\"327\" x=\"7\" y=\"7\"/><rect fill=\"#F8F8F8\" height=\"37.9375\" style=\"stroke: #383838; stroke-width: 1.5;\" width=\"327\" x=\"7\" y=\"7\"/><text fill=\"#000000\" font-family=\"sans-serif\" font-size=\"12\" font-style=\"italic\" lengthAdjust=\"spacingAndGlyphs\" textLength=\"71\" x=\"135\" y=\"23.1387\">«state def»</text><text fill=\"#000000\" font-family=\"sans-serif\" font-size=\"12\" lengthAdjust=\"spacingAndGlyphs\" textLength=\"8\" x=\"166.5\" y=\"37.1074\">S</text><line style=\"stroke: #383838; stroke-width: 1.0;\" x1=\"7\" x2=\"334\" y1=\"90.8438\" y2=\"90.8438\"/><text fill=\"#000000\" font-family=\"sans-serif\" font-size=\"12\" font-weight=\"bold\" lengthAdjust=\"spacingAndGlyphs\" textLength=\"38\" x=\"12\" y=\"58.0762\">entry</text><text fill=\"#000000\" font-family=\"sans-serif\" font-size=\"12\" lengthAdjust=\"spacingAndGlyphs\" textLength=\"16\" x=\"50\" y=\"58.0762\">/ A</text><text fill=\"#000000\" font-family=\"sans-serif\" font-size=\"12\" font-weight=\"bold\" lengthAdjust=\"spacingAndGlyphs\" textLength=\"18\" x=\"12\" y=\"72.0449\">do</text><text fill=\"#000000\" font-family=\"sans-serif\" font-size=\"12\" lengthAdjust=\"spacingAndGlyphs\" textLength=\"16\" x=\"30\" y=\"72.0449\">/ B</text><text fill=\"#000000\" font-family=\"sans-serif\" font-size=\"12\" font-weight=\"bold\" lengthAdjust=\"spacingAndGlyphs\" textLength=\"26\" x=\"12\" y=\"86.0137\">exit</text><text fill=\"#000000\" font-family=\"sans-serif\" font-size=\"12\" lengthAdjust=\"spacingAndGlyphs\" textLength=\"28\" x=\"38\" y=\"86.0137\">/ act</text></a><ellipse cx=\"119\" cy=\"115\" fill=\"#000000\" rx=\"10\" ry=\"10\" style=\"stroke: none; stroke-width: 1.0;\"/><ellipse cx=\"144\" cy=\"438\" fill=\"none\" rx=\"10\" ry=\"10\" style=\"stroke: #000000; stroke-width: 1.0;\"/><ellipse cx=\"144.5\" cy=\"438.5\" fill=\"#000000\" rx=\"6\" ry=\"6\" style=\"stroke: none; stroke-width: 1.0;\"/><g id=\"E1.E2\"><a href=\"psysml:0ffea2c5-2698-4589-991c-94f7ac5b0395\" target=\"_top\" title=\"psysml:0ffea2c5-2698-4589-991c-94f7ac5b0395\" xlink:actuate=\"onRequest\" xlink:href=\"psysml:0ffea2c5-2698-4589-991c-94f7ac5b0395\" xlink:show=\"new\" xlink:title=\"psysml:0ffea2c5-2698-4589-991c-94f7ac5b0395\" xlink:type=\"simple\"><rect fill=\"#FFFFFF\" height=\"40\" id=\"E2\" rx=\"10\" ry=\"10\" style=\"stroke: #383838; stroke-width: 1.5;\" width=\"50\" x=\"94\" y=\"186\"/><rect fill=\"#F8F8F8\" height=\"23.9688\" rx=\"10\" ry=\"10\" style=\"stroke: #F8F8F8; stroke-width: 1.5;\" width=\"50\" x=\"94\" y=\"186\"/><rect fill=\"#F8F8F8\" height=\"10\" style=\"stroke: #F8F8F8; stroke-width: 1.5;\" width=\"50\" x=\"94\" y=\"199.9688\"/><rect fill=\"none\" height=\"40\" id=\"E2\" rx=\"10\" ry=\"10\" style=\"stroke: #383838; stroke-width: 1.5;\" width=\"50\" x=\"94\" y=\"186\"/><text fill=\"#000000\" font-family=\"sans-serif\" font-size=\"12\" lengthAdjust=\"spacingAndGlyphs\" textLength=\"16\" x=\"111\" y=\"202.1387\">S1</text></a></g><g id=\"E1.E3\"><a href=\"psysml:f6369ddf-93b2-4791-a9ee-7d090a7e6258\" target=\"_top\" title=\"psysml:f6369ddf-93b2-4791-a9ee-7d090a7e6258\" xlink:actuate=\"onRequest\" xlink:href=\"psysml:f6369ddf-93b2-4791-a9ee-7d090a7e6258\" xlink:show=\"new\" xlink:title=\"psysml:f6369ddf-93b2-4791-a9ee-7d090a7e6258\" xlink:type=\"simple\"><rect fill=\"#FFFFFF\" height=\"47.9375\" id=\"E3\" rx=\"10\" ry=\"10\" style=\"stroke: #383838; stroke-width: 1.5;\" width=\"169\" x=\"59.5\" y=\"303\"/><rect fill=\"#F8F8F8\" height=\"23.9688\" rx=\"10\" ry=\"10\" style=\"stroke: #F8F8F8; stroke-width: 1.5;\" width=\"169\" x=\"59.5\" y=\"303\"/><rect fill=\"#F8F8F8\" height=\"10\" style=\"stroke: #F8F8F8; stroke-width: 1.5;\" width=\"169\" x=\"59.5\" y=\"316.9688\"/><rect fill=\"none\" height=\"47.9375\" id=\"E3\" rx=\"10\" ry=\"10\" style=\"stroke: #383838; stroke-width: 1.5;\" width=\"169\" x=\"59.5\" y=\"303\"/><text fill=\"#000000\" font-family=\"sans-serif\" font-size=\"12\" lengthAdjust=\"spacingAndGlyphs\" textLength=\"16\" x=\"136\" y=\"319.1387\">S2</text><line style=\"stroke: #383838; stroke-width: 1.0;\" x1=\"59.5\" x2=\"228.5\" y1=\"326.9688\" y2=\"326.9688\"/><text fill=\"#000000\" font-family=\"sans-serif\" font-size=\"12\" font-weight=\"bold\" lengthAdjust=\"spacingAndGlyphs\" textLength=\"18\" x=\"64.5\" y=\"340.1074\">do</text><text fill=\"#000000\" font-family=\"sans-serif\" font-size=\"12\" lengthAdjust=\"spacingAndGlyphs\" textLength=\"141\" x=\"82.5\" y=\"340.1074\">/  send Sig(T::s::x) to p</text></a></g><!--MD5=[cff944eb183b832d446717a4e202d613]\n",
       "link *start*E1 to E2--><a href=\"psysml:3d6f6111-a5f0-4f07-bf0a-543b5052b3c3\" target=\"_top\" title=\"psysml:3d6f6111-a5f0-4f07-bf0a-543b5052b3c3\" xlink:actuate=\"onRequest\" xlink:href=\"psysml:3d6f6111-a5f0-4f07-bf0a-543b5052b3c3\" xlink:show=\"new\" xlink:title=\"psysml:3d6f6111-a5f0-4f07-bf0a-543b5052b3c3\" xlink:type=\"simple\"><path d=\"M119,125.19 C119,138.18 119,162.38 119,180.73 \" fill=\"none\" id=\"*start*E1-&gt;E2\" style=\"stroke: #383838; stroke-width: 1.0;\"/><polygon fill=\"#383838\" points=\"119,185.74,123,176.74,119,180.74,115,176.74,119,185.74\" style=\"stroke: #383838; stroke-width: 1.0;\"/></a><!--MD5=[9ee7afa76ca8c509b3d216624c3a9893]\n",
       "link E3 to *end*E1--><a href=\"psysml:374875bf-0004-40f7-bedc-1374d527cde5\" target=\"_top\" title=\"psysml:374875bf-0004-40f7-bedc-1374d527cde5\" xlink:actuate=\"onRequest\" xlink:href=\"psysml:374875bf-0004-40f7-bedc-1374d527cde5\" xlink:show=\"new\" xlink:title=\"psysml:374875bf-0004-40f7-bedc-1374d527cde5\" xlink:type=\"simple\"><path d=\"M144,351.12 C144,372.75 144,404.39 144,422.62 \" fill=\"none\" id=\"E3-&gt;*end*E1\" style=\"stroke: #383838; stroke-width: 1.0;\"/><polygon fill=\"#383838\" points=\"144,427.82,148,418.82,144,422.82,140,418.82,144,427.82\" style=\"stroke: #383838; stroke-width: 1.0;\"/><text fill=\"#000000\" font-family=\"sans-serif\" font-size=\"13\" lengthAdjust=\"spacingAndGlyphs\" textLength=\"23\" x=\"145\" y=\"394.0669\">Exit</text></a><!--MD5=[2720a5a1f2c3fca2055b230370638851]\n",
       "link E2 to E3--><a href=\"psysml:69f1494c-077d-4519-8343-87cce73be713\" target=\"_top\" title=\"psysml:69f1494c-077d-4519-8343-87cce73be713\" xlink:actuate=\"onRequest\" xlink:href=\"psysml:69f1494c-077d-4519-8343-87cce73be713\" xlink:show=\"new\" xlink:title=\"psysml:69f1494c-077d-4519-8343-87cce73be713\" xlink:type=\"simple\"><path d=\"M93.85,218.29 C70.89,230.31 42.3,250.66 55,273 C61.2,283.9 70.62,292.8 81.06,299.97 \" fill=\"none\" id=\"E2-&gt;E3\" style=\"stroke: #383838; stroke-width: 1.0;\"/><polygon fill=\"#383838\" points=\"85.26,302.74,79.9574,294.4404,81.0888,299.983,75.5462,301.1144,85.26,302.74\" style=\"stroke: #383838; stroke-width: 1.0;\"/><text fill=\"#000000\" font-family=\"sans-serif\" font-size=\"13\" lengthAdjust=\"spacingAndGlyphs\" textLength=\"81\" x=\"56\" y=\"269.0669\">Sig /action D</text></a><!--MD5=[05d275557350bfb9b23a4ef7222b4c39]\n",
       "link E3 to E2--><a href=\"psysml:f8d53726-bfe5-4353-91f3-ae2ef06d9a38\" target=\"_top\" title=\"psysml:f8d53726-bfe5-4353-91f3-ae2ef06d9a38\" xlink:actuate=\"onRequest\" xlink:href=\"psysml:f8d53726-bfe5-4353-91f3-ae2ef06d9a38\" xlink:show=\"new\" xlink:title=\"psysml:f8d53726-bfe5-4353-91f3-ae2ef06d9a38\" xlink:type=\"simple\"><path d=\"M145.68,302.99 C146.12,289.19 145.66,271.38 142,256 C139.98,247.52 136.41,238.75 132.67,231.02 \" fill=\"none\" id=\"E3-&gt;E2\" style=\"stroke: #383838; stroke-width: 1.0;\"/><polygon fill=\"#383838\" points=\"130.33,226.35,130.7898,236.1881,132.5718,230.8193,137.9406,232.6013,130.33,226.35\" style=\"stroke: #383838; stroke-width: 1.0;\"/><text fill=\"#000000\" font-family=\"sans-serif\" font-size=\"13\" lengthAdjust=\"spacingAndGlyphs\" textLength=\"135\" x=\"145\" y=\"269.0669\">Sig [true]/send s to p</text></a><!--MD5=[eca82c84f676ccbc0ceaea3f59d9bba2]\n",
       "@startuml\r\n",
       "top to bottom direction\r\n",
       "skinparam monochrome true\r\n",
       "skinparam classbackgroundcolor white\r\n",
       "skinparam shadowing false\r\n",
       "skinparam wrapWidth 300\r\n",
       "hide circle\r\n",
       "\r\n",
       "rec def \"S\" as E1  <<(T,blue)state def>> [[psysml:f2a66a23-1197-47ed-b1bd-74e1ad61d6fd ]] {\r\n",
       "rec usage \"S1\" as E2 [[psysml:0ffea2c5-2698-4589-991c-94f7ac5b0395 ]] {\r\n",
       "}\r\n",
       "\r\n",
       "rec usage \"S2\" as E3 [[psysml:f6369ddf-93b2-4791-a9ee-7d090a7e6258 ]] {\r\n",
       "desc \"S2\" as E3  : **do**/  send Sig(T::s::x) to p\r\n",
       "}\r\n",
       "\r\n",
       "desc \"S\" as E1  : **entry**/ A\r\n",
       "desc \"S\" as E1  : **do**/ B\r\n",
       "desc \"S\" as E1  : **exit**/ act \r\n",
       "[*] - -> E2 [[psysml:3d6f6111-a5f0-4f07-bf0a-543b5052b3c3 ]] \r\n",
       "E3  - -> [*] [[psysml:374875bf-0004-40f7-bedc-1374d527cde5 ]] : Exit \r\n",
       "}\r\n",
       "\r\n",
       "E2  - -> E3 [[psysml:69f1494c-077d-4519-8343-87cce73be713 ]] : Sig /action D\r\n",
       "E3  - -> E2 [[psysml:f8d53726-bfe5-4353-91f3-ae2ef06d9a38 ]] : Sig [true]/send s to p\r\n",
       "@enduml\r\n",
       "\n",
       "PlantUML version 1.2020.13(Sat Jun 13 12:26:38 UTC 2020)\n",
       "(EPL source distribution)\n",
       "Java Runtime: OpenJDK Runtime Environment\n",
       "JVM: OpenJDK 64-Bit Server VM\n",
       "Default Encoding: UTF-8\n",
       "Language: en\n",
       "Country: null\n",
       "--></g></svg>"
      ]
     },
     "execution_count": 46,
     "metadata": {},
     "output_type": "execute_result"
    }
   ],
   "source": [
    "%viz --style=\"TB\" --view=\"State\" \"StateTest\""
   ]
  },
  {
   "cell_type": "code",
   "execution_count": 47,
   "id": "76506379",
   "metadata": {
    "execution": {
     "iopub.execute_input": "2021-04-21T20:23:45.678240Z",
     "iopub.status.busy": "2021-04-21T20:23:45.677746Z",
     "iopub.status.idle": "2021-04-21T20:23:45.710033Z",
     "shell.execute_reply": "2021-04-21T20:23:45.709714Z"
    }
   },
   "outputs": [
    {
     "data": {
      "image/svg+xml": [
       "<?xml version=\"1.0\" encoding=\"UTF-8\" standalone=\"no\"?><svg xmlns=\"http://www.w3.org/2000/svg\" xmlns:xlink=\"http://www.w3.org/1999/xlink\" contentScriptType=\"application/ecmascript\" contentStyleType=\"text/css\" height=\"421px\" preserveAspectRatio=\"none\" style=\"width:836px;height:421px;\" version=\"1.1\" viewBox=\"0 0 836 421\" width=\"836px\" zoomAndPan=\"magnify\"><defs/><g><!--MD5=[fbc87193dbaf4d95561dea2c320d4a47]\n",
       "cluster E1--><a href=\"psysml:800f45c9-cf5c-46ce-b3c3-487778cd6319\" target=\"_top\" title=\"psysml:800f45c9-cf5c-46ce-b3c3-487778cd6319\" xlink:actuate=\"onRequest\" xlink:href=\"psysml:800f45c9-cf5c-46ce-b3c3-487778cd6319\" xlink:show=\"new\" xlink:title=\"psysml:800f45c9-cf5c-46ce-b3c3-487778cd6319\" xlink:type=\"simple\"><polygon fill=\"#FFFFFF\" points=\"16,6,98,6,105,28.2969,814,28.2969,814,409.5,16,409.5,16,6\" style=\"stroke: #000000; stroke-width: 1.5;\"/><line style=\"stroke: #000000; stroke-width: 1.5;\" x1=\"16\" x2=\"105\" y1=\"28.2969\" y2=\"28.2969\"/><text fill=\"#000000\" font-family=\"sans-serif\" font-size=\"14\" font-weight=\"bold\" lengthAdjust=\"spacingAndGlyphs\" textLength=\"76\" x=\"20\" y=\"20.9951\">StateTest</text></a><!--MD5=[14e3b0961a2654348d326746436168a1]\n",
       "cluster E6--><a href=\"psysml:f2a66a23-1197-47ed-b1bd-74e1ad61d6fd\" target=\"_top\" title=\"psysml:f2a66a23-1197-47ed-b1bd-74e1ad61d6fd\" xlink:actuate=\"onRequest\" xlink:href=\"psysml:f2a66a23-1197-47ed-b1bd-74e1ad61d6fd\" xlink:show=\"new\" xlink:title=\"psysml:f2a66a23-1197-47ed-b1bd-74e1ad61d6fd\" xlink:type=\"simple\"><rect fill=\"#FFFFFF\" height=\"336.5\" id=\"E6\" style=\"stroke: #383838; stroke-width: 1.5;\" width=\"327\" x=\"463\" y=\"49\"/><rect fill=\"#F8F8F8\" height=\"37.9375\" style=\"stroke: #383838; stroke-width: 1.5;\" width=\"327\" x=\"463\" y=\"49\"/><text fill=\"#000000\" font-family=\"sans-serif\" font-size=\"12\" font-style=\"italic\" lengthAdjust=\"spacingAndGlyphs\" textLength=\"71\" x=\"591\" y=\"65.1387\">«state def»</text><text fill=\"#000000\" font-family=\"sans-serif\" font-size=\"12\" lengthAdjust=\"spacingAndGlyphs\" textLength=\"8\" x=\"622.5\" y=\"79.1074\">S</text><line style=\"stroke: #383838; stroke-width: 1.0;\" x1=\"463\" x2=\"790\" y1=\"132.8438\" y2=\"132.8438\"/><text fill=\"#000000\" font-family=\"sans-serif\" font-size=\"12\" font-weight=\"bold\" lengthAdjust=\"spacingAndGlyphs\" textLength=\"38\" x=\"468\" y=\"100.0762\">entry</text><text fill=\"#000000\" font-family=\"sans-serif\" font-size=\"12\" lengthAdjust=\"spacingAndGlyphs\" textLength=\"16\" x=\"506\" y=\"100.0762\">/ A</text><text fill=\"#000000\" font-family=\"sans-serif\" font-size=\"12\" font-weight=\"bold\" lengthAdjust=\"spacingAndGlyphs\" textLength=\"18\" x=\"468\" y=\"114.0449\">do</text><text fill=\"#000000\" font-family=\"sans-serif\" font-size=\"12\" lengthAdjust=\"spacingAndGlyphs\" textLength=\"16\" x=\"486\" y=\"114.0449\">/ B</text><text fill=\"#000000\" font-family=\"sans-serif\" font-size=\"12\" font-weight=\"bold\" lengthAdjust=\"spacingAndGlyphs\" textLength=\"26\" x=\"468\" y=\"128.0137\">exit</text><text fill=\"#000000\" font-family=\"sans-serif\" font-size=\"12\" lengthAdjust=\"spacingAndGlyphs\" textLength=\"28\" x=\"494\" y=\"128.0137\">/ act</text></a><g id=\"E1.E2\"><a href=\"psysml:f1048496-f45f-4de3-be42-17169da36fba\" target=\"_top\" title=\"psysml:f1048496-f45f-4de3-be42-17169da36fba\" xlink:actuate=\"onRequest\" xlink:href=\"psysml:f1048496-f45f-4de3-be42-17169da36fba\" xlink:show=\"new\" xlink:title=\"psysml:f1048496-f45f-4de3-be42-17169da36fba\" xlink:type=\"simple\"><rect fill=\"#FFFFFF\" height=\"42.9375\" id=\"E2\" style=\"stroke: #383838; stroke-width: 1.5;\" width=\"100\" x=\"347\" y=\"135.5\"/><rect fill=\"#F8F8F8\" height=\"37.9375\" style=\"stroke: #383838; stroke-width: 1.5;\" width=\"100\" x=\"347\" y=\"135.5\"/><text fill=\"#000000\" font-family=\"sans-serif\" font-size=\"12\" font-style=\"italic\" lengthAdjust=\"spacingAndGlyphs\" textLength=\"93\" x=\"350.5\" y=\"151.6387\">«attribute def»</text><text fill=\"#000000\" font-family=\"sans-serif\" font-size=\"12\" lengthAdjust=\"spacingAndGlyphs\" textLength=\"19\" x=\"387.5\" y=\"165.6074\">Sig</text></a></g><g id=\"E1.E3\"><a href=\"psysml:546c6a0a-79ca-4224-b50a-77e407cae485\" target=\"_top\" title=\"psysml:546c6a0a-79ca-4224-b50a-77e407cae485\" xlink:actuate=\"onRequest\" xlink:href=\"psysml:546c6a0a-79ca-4224-b50a-77e407cae485\" xlink:show=\"new\" xlink:title=\"psysml:546c6a0a-79ca-4224-b50a-77e407cae485\" xlink:type=\"simple\"><rect fill=\"#FFFFFF\" height=\"42.9375\" id=\"E3\" style=\"stroke: #383838; stroke-width: 1.5;\" width=\"100\" x=\"212\" y=\"135.5\"/><rect fill=\"#F8F8F8\" height=\"37.9375\" style=\"stroke: #383838; stroke-width: 1.5;\" width=\"100\" x=\"212\" y=\"135.5\"/><text fill=\"#000000\" font-family=\"sans-serif\" font-size=\"12\" font-style=\"italic\" lengthAdjust=\"spacingAndGlyphs\" textLength=\"93\" x=\"215.5\" y=\"151.6387\">«attribute def»</text><text fill=\"#000000\" font-family=\"sans-serif\" font-size=\"12\" lengthAdjust=\"spacingAndGlyphs\" textLength=\"22\" x=\"251\" y=\"165.6074\">Exit</text></a></g><g id=\"E1.E4\"><a href=\"psysml:4710131f-7c31-45d9-a6fe-10a60fc8490a\" target=\"_top\" title=\"psysml:4710131f-7c31-45d9-a6fe-10a60fc8490a\" xlink:actuate=\"onRequest\" xlink:href=\"psysml:4710131f-7c31-45d9-a6fe-10a60fc8490a\" xlink:show=\"new\" xlink:title=\"psysml:4710131f-7c31-45d9-a6fe-10a60fc8490a\" xlink:type=\"simple\"><rect fill=\"#FFFFFF\" height=\"40\" id=\"E4\" rx=\"10\" ry=\"10\" style=\"stroke: #383838; stroke-width: 1.5;\" width=\"50\" x=\"127\" y=\"137\"/><rect fill=\"#F8F8F8\" height=\"23.9688\" rx=\"10\" ry=\"10\" style=\"stroke: #F8F8F8; stroke-width: 1.5;\" width=\"50\" x=\"127\" y=\"137\"/><rect fill=\"#F8F8F8\" height=\"10\" style=\"stroke: #F8F8F8; stroke-width: 1.5;\" width=\"50\" x=\"127\" y=\"150.9688\"/><rect fill=\"none\" height=\"40\" id=\"E4\" rx=\"10\" ry=\"10\" style=\"stroke: #383838; stroke-width: 1.5;\" width=\"50\" x=\"127\" y=\"137\"/><text fill=\"#000000\" font-family=\"sans-serif\" font-size=\"12\" lengthAdjust=\"spacingAndGlyphs\" textLength=\"8\" x=\"148\" y=\"153.1387\">p</text></a></g><g id=\"E1.E5\"><a href=\"psysml:0b92cdb5-3694-4434-adff-e0b2149bd4e6\" target=\"_top\" title=\"psysml:0b92cdb5-3694-4434-adff-e0b2149bd4e6\" xlink:actuate=\"onRequest\" xlink:href=\"psysml:0b92cdb5-3694-4434-adff-e0b2149bd4e6\" xlink:show=\"new\" xlink:title=\"psysml:0b92cdb5-3694-4434-adff-e0b2149bd4e6\" xlink:type=\"simple\"><rect fill=\"#FFFFFF\" height=\"42.9375\" id=\"E5\" rx=\"10\" ry=\"10\" style=\"stroke: #383838; stroke-width: 1.5;\" width=\"60\" x=\"32\" y=\"135.5\"/><rect fill=\"#F8F8F8\" height=\"37.9375\" rx=\"10\" ry=\"10\" style=\"stroke: #F8F8F8; stroke-width: 1.5;\" width=\"60\" x=\"32\" y=\"135.5\"/><rect fill=\"#F8F8F8\" height=\"10\" style=\"stroke: #F8F8F8; stroke-width: 1.5;\" width=\"60\" x=\"32\" y=\"163.4375\"/><rect fill=\"none\" height=\"42.9375\" id=\"E5\" rx=\"10\" ry=\"10\" style=\"stroke: #383838; stroke-width: 1.5;\" width=\"60\" x=\"32\" y=\"135.5\"/><text fill=\"#000000\" font-family=\"sans-serif\" font-size=\"12\" font-style=\"italic\" lengthAdjust=\"spacingAndGlyphs\" textLength=\"53\" x=\"35.5\" y=\"151.6387\">«action»</text><text fill=\"#000000\" font-family=\"sans-serif\" font-size=\"12\" lengthAdjust=\"spacingAndGlyphs\" textLength=\"20\" x=\"52\" y=\"165.6074\">act</text></a></g><ellipse cx=\"575\" cy=\"157\" fill=\"#000000\" rx=\"10\" ry=\"10\" style=\"stroke: none; stroke-width: 1.0;\"/><ellipse cx=\"600\" cy=\"359.5\" fill=\"none\" rx=\"10\" ry=\"10\" style=\"stroke: #000000; stroke-width: 1.0;\"/><ellipse cx=\"600.5\" cy=\"360\" fill=\"#000000\" rx=\"6\" ry=\"6\" style=\"stroke: none; stroke-width: 1.0;\"/><g id=\"E1.E6.E7\"><a href=\"psysml:0ffea2c5-2698-4589-991c-94f7ac5b0395\" target=\"_top\" title=\"psysml:0ffea2c5-2698-4589-991c-94f7ac5b0395\" xlink:actuate=\"onRequest\" xlink:href=\"psysml:0ffea2c5-2698-4589-991c-94f7ac5b0395\" xlink:show=\"new\" xlink:title=\"psysml:0ffea2c5-2698-4589-991c-94f7ac5b0395\" xlink:type=\"simple\"><rect fill=\"#FFFFFF\" height=\"40\" id=\"E7\" rx=\"10\" ry=\"10\" style=\"stroke: #383838; stroke-width: 1.5;\" width=\"50\" x=\"550\" y=\"195.5\"/><rect fill=\"#F8F8F8\" height=\"23.9688\" rx=\"10\" ry=\"10\" style=\"stroke: #F8F8F8; stroke-width: 1.5;\" width=\"50\" x=\"550\" y=\"195.5\"/><rect fill=\"#F8F8F8\" height=\"10\" style=\"stroke: #F8F8F8; stroke-width: 1.5;\" width=\"50\" x=\"550\" y=\"209.4688\"/><rect fill=\"none\" height=\"40\" id=\"E7\" rx=\"10\" ry=\"10\" style=\"stroke: #383838; stroke-width: 1.5;\" width=\"50\" x=\"550\" y=\"195.5\"/><text fill=\"#000000\" font-family=\"sans-serif\" font-size=\"12\" lengthAdjust=\"spacingAndGlyphs\" textLength=\"16\" x=\"567\" y=\"211.6387\">S1</text></a></g><g id=\"E1.E6.E8\"><a href=\"psysml:f6369ddf-93b2-4791-a9ee-7d090a7e6258\" target=\"_top\" title=\"psysml:f6369ddf-93b2-4791-a9ee-7d090a7e6258\" xlink:actuate=\"onRequest\" xlink:href=\"psysml:f6369ddf-93b2-4791-a9ee-7d090a7e6258\" xlink:show=\"new\" xlink:title=\"psysml:f6369ddf-93b2-4791-a9ee-7d090a7e6258\" xlink:type=\"simple\"><rect fill=\"#FFFFFF\" height=\"47.9375\" id=\"E8\" rx=\"10\" ry=\"10\" style=\"stroke: #383838; stroke-width: 1.5;\" width=\"169\" x=\"515.5\" y=\"268.5\"/><rect fill=\"#F8F8F8\" height=\"23.9688\" rx=\"10\" ry=\"10\" style=\"stroke: #F8F8F8; stroke-width: 1.5;\" width=\"169\" x=\"515.5\" y=\"268.5\"/><rect fill=\"#F8F8F8\" height=\"10\" style=\"stroke: #F8F8F8; stroke-width: 1.5;\" width=\"169\" x=\"515.5\" y=\"282.4688\"/><rect fill=\"none\" height=\"47.9375\" id=\"E8\" rx=\"10\" ry=\"10\" style=\"stroke: #383838; stroke-width: 1.5;\" width=\"169\" x=\"515.5\" y=\"268.5\"/><text fill=\"#000000\" font-family=\"sans-serif\" font-size=\"12\" lengthAdjust=\"spacingAndGlyphs\" textLength=\"16\" x=\"592\" y=\"284.6387\">S2</text><line style=\"stroke: #383838; stroke-width: 1.0;\" x1=\"515.5\" x2=\"684.5\" y1=\"292.4688\" y2=\"292.4688\"/><text fill=\"#000000\" font-family=\"sans-serif\" font-size=\"12\" font-weight=\"bold\" lengthAdjust=\"spacingAndGlyphs\" textLength=\"18\" x=\"520.5\" y=\"305.6074\">do</text><text fill=\"#000000\" font-family=\"sans-serif\" font-size=\"12\" lengthAdjust=\"spacingAndGlyphs\" textLength=\"141\" x=\"538.5\" y=\"305.6074\">/  send Sig(T::s::x) to p</text></a></g><!--MD5=[5a531d3a85f3339e6e197084acb48195]\n",
       "link *start*E6 to E7--><a href=\"psysml:3d6f6111-a5f0-4f07-bf0a-543b5052b3c3\" target=\"_top\" title=\"psysml:3d6f6111-a5f0-4f07-bf0a-543b5052b3c3\" xlink:actuate=\"onRequest\" xlink:href=\"psysml:3d6f6111-a5f0-4f07-bf0a-543b5052b3c3\" xlink:show=\"new\" xlink:title=\"psysml:3d6f6111-a5f0-4f07-bf0a-543b5052b3c3\" xlink:type=\"simple\"><path d=\"M575,167.08 C575,173.38 575,182.09 575,190.34 \" fill=\"none\" id=\"*start*E6-&gt;E7\" style=\"stroke: #383838; stroke-width: 1.0;\"/><polygon fill=\"#383838\" points=\"575,195.38,579,186.38,575,190.38,571,186.38,575,195.38\" style=\"stroke: #383838; stroke-width: 1.0;\"/></a><!--MD5=[7ec9a8babba89ddcae1318ca9fb3c814]\n",
       "link E8 to *end*E6--><a href=\"psysml:374875bf-0004-40f7-bedc-1374d527cde5\" target=\"_top\" title=\"psysml:374875bf-0004-40f7-bedc-1374d527cde5\" xlink:actuate=\"onRequest\" xlink:href=\"psysml:374875bf-0004-40f7-bedc-1374d527cde5\" xlink:show=\"new\" xlink:title=\"psysml:374875bf-0004-40f7-bedc-1374d527cde5\" xlink:type=\"simple\"><path d=\"M600,316.6 C600,325.73 600,335.95 600,344 \" fill=\"none\" id=\"E8-&gt;*end*E6\" style=\"stroke: #383838; stroke-width: 1.0;\"/><polygon fill=\"#383838\" points=\"600,349.2,604,340.2,600,344.2,596,340.2,600,349.2\" style=\"stroke: #383838; stroke-width: 1.0;\"/><text fill=\"#000000\" font-family=\"sans-serif\" font-size=\"13\" lengthAdjust=\"spacingAndGlyphs\" textLength=\"23\" x=\"601\" y=\"337.5669\">Exit</text></a><!--MD5=[79bc8f324ef4d02c541433f2e6e513c3]\n",
       "link E7 to E8--><a href=\"psysml:69f1494c-077d-4519-8343-87cce73be713\" target=\"_top\" title=\"psysml:69f1494c-077d-4519-8343-87cce73be713\" xlink:actuate=\"onRequest\" xlink:href=\"psysml:69f1494c-077d-4519-8343-87cce73be713\" xlink:show=\"new\" xlink:title=\"psysml:69f1494c-077d-4519-8343-87cce73be713\" xlink:type=\"simple\"><path d=\"M549.73,220.27 C535.78,223.78 519.6,230.54 511,243.5 C506.82,249.8 506.62,254.34 511,260.5 C512,261.9 513.06,263.24 514.18,264.52 \" fill=\"none\" id=\"E7-&gt;E8\" style=\"stroke: #383838; stroke-width: 1.0;\"/><polygon fill=\"#383838\" points=\"517.73,268.17,514.3248,258.9285,514.2448,264.5848,508.5885,264.5048,517.73,268.17\" style=\"stroke: #383838; stroke-width: 1.0;\"/><text fill=\"#000000\" font-family=\"sans-serif\" font-size=\"13\" lengthAdjust=\"spacingAndGlyphs\" textLength=\"81\" x=\"512\" y=\"256.5669\">Sig /action D</text></a><!--MD5=[bfa3c8b0d15052fdf50ae9310b491027]\n",
       "link E8 to E7--><a href=\"psysml:f8d53726-bfe5-4353-91f3-ae2ef06d9a38\" target=\"_top\" title=\"psysml:f8d53726-bfe5-4353-91f3-ae2ef06d9a38\" xlink:actuate=\"onRequest\" xlink:href=\"psysml:f8d53726-bfe5-4353-91f3-ae2ef06d9a38\" xlink:show=\"new\" xlink:title=\"psysml:f8d53726-bfe5-4353-91f3-ae2ef06d9a38\" xlink:type=\"simple\"><path d=\"M602.07,268.4 C602.02,260.29 601.04,251.27 598,243.5 C597.53,242.3 596.98,241.11 596.37,239.94 \" fill=\"none\" id=\"E8-&gt;E7\" style=\"stroke: #383838; stroke-width: 1.0;\"/><polygon fill=\"#383838\" points=\"593.74,235.56,594.9405,245.3354,596.3125,239.8475,601.8004,241.2195,593.74,235.56\" style=\"stroke: #383838; stroke-width: 1.0;\"/><text fill=\"#000000\" font-family=\"sans-serif\" font-size=\"13\" lengthAdjust=\"spacingAndGlyphs\" textLength=\"135\" x=\"602\" y=\"256.5669\">Sig [true]/send s to p</text></a><!--MD5=[0b4b5c23a3794e05ecd3a75aa3e1615a]\n",
       "@startuml\r\n",
       "skinparam ranksep 10\r\n",
       "skinparam rectangle {\r\n",
       " backgroundColor<<block>> LightGreen\r\n",
       "}\r\n",
       "top to bottom direction\r\n",
       "skinparam monochrome true\r\n",
       "skinparam classbackgroundcolor white\r\n",
       "skinparam shadowing false\r\n",
       "skinparam wrapWidth 300\r\n",
       "hide circle\r\n",
       "\r\n",
       "package \"StateTest\" as E1  [[psysml:800f45c9-cf5c-46ce-b3c3-487778cd6319 ]]  {\r\n",
       "def \"Sig\" as E2  <<(T,blue)attribute def>> [[psysml:f1048496-f45f-4de3-be42-17169da36fba ]] \r\n",
       "def \"Exit\" as E3  <<(T,blue)attribute def>> [[psysml:546c6a0a-79ca-4224-b50a-77e407cae485 ]] \r\n",
       "rec usage \"p\" as E4  [[psysml:4710131f-7c31-45d9-a6fe-10a60fc8490a ]] {\r\n",
       "}\r\n",
       "rec usage \"act\" as E5  <<(T,blue)action>> [[psysml:0b92cdb5-3694-4434-adff-e0b2149bd4e6 ]] {\r\n",
       "}\r\n",
       "\r\n",
       "rec def \"S\" as E6  <<(T,blue)state def>> [[psysml:f2a66a23-1197-47ed-b1bd-74e1ad61d6fd ]] {\r\n",
       "rec usage \"S1\" as E7 [[psysml:0ffea2c5-2698-4589-991c-94f7ac5b0395 ]] {\r\n",
       "}\r\n",
       "\r\n",
       "rec usage \"S2\" as E8 [[psysml:f6369ddf-93b2-4791-a9ee-7d090a7e6258 ]] {\r\n",
       "desc \"S2\" as E8  : **do**/  send Sig(T::s::x) to p\r\n",
       "}\r\n",
       "\r\n",
       "desc \"S\" as E6  : **entry**/ A\r\n",
       "desc \"S\" as E6  : **do**/ B\r\n",
       "desc \"S\" as E6  : **exit**/ act \r\n",
       "[*] - -> E7 [[psysml:3d6f6111-a5f0-4f07-bf0a-543b5052b3c3 ]] \r\n",
       "E8  - -> [*] [[psysml:374875bf-0004-40f7-bedc-1374d527cde5 ]] : Exit \r\n",
       "}\r\n",
       "\r\n",
       "E7  - -> E8 [[psysml:69f1494c-077d-4519-8343-87cce73be713 ]] : Sig /action D\r\n",
       "E8  - -> E7 [[psysml:f8d53726-bfe5-4353-91f3-ae2ef06d9a38 ]] : Sig [true]/send s to p\r\n",
       "}\r\n",
       "@enduml\r\n",
       "\n",
       "PlantUML version 1.2020.13(Sat Jun 13 12:26:38 UTC 2020)\n",
       "(EPL source distribution)\n",
       "Java Runtime: OpenJDK Runtime Environment\n",
       "JVM: OpenJDK 64-Bit Server VM\n",
       "Default Encoding: UTF-8\n",
       "Language: en\n",
       "Country: null\n",
       "--></g></svg>"
      ]
     },
     "execution_count": 47,
     "metadata": {},
     "output_type": "execute_result"
    }
   ],
   "source": [
    "%viz --style=\"TB\" --view=\"Interconnection\" \"StateTest\""
   ]
  },
  {
   "cell_type": "code",
   "execution_count": 48,
   "id": "7fe795da",
   "metadata": {
    "execution": {
     "iopub.execute_input": "2021-04-21T20:23:45.760475Z",
     "iopub.status.busy": "2021-04-21T20:23:45.760026Z",
     "iopub.status.idle": "2021-04-21T20:23:45.800020Z",
     "shell.execute_reply": "2021-04-21T20:23:45.799729Z"
    }
   },
   "outputs": [
    {
     "data": {
      "image/svg+xml": [
       "<?xml version=\"1.0\" encoding=\"UTF-8\" standalone=\"no\"?><svg xmlns=\"http://www.w3.org/2000/svg\" xmlns:xlink=\"http://www.w3.org/1999/xlink\" contentScriptType=\"application/ecmascript\" contentStyleType=\"text/css\" height=\"444px\" preserveAspectRatio=\"none\" style=\"width:594px;height:444px;\" version=\"1.1\" viewBox=\"0 0 594 444\" width=\"594px\" zoomAndPan=\"magnify\"><defs/><g><!--MD5=[e4f7fae6ed58524ba242bb0b0d3be6b7]\n",
       "cluster E2--><a href=\"psysml:f2a66a23-1197-47ed-b1bd-74e1ad61d6fd\" target=\"_top\" title=\"psysml:f2a66a23-1197-47ed-b1bd-74e1ad61d6fd\" xlink:actuate=\"onRequest\" xlink:href=\"psysml:f2a66a23-1197-47ed-b1bd-74e1ad61d6fd\" xlink:show=\"new\" xlink:title=\"psysml:f2a66a23-1197-47ed-b1bd-74e1ad61d6fd\" xlink:type=\"simple\"><rect fill=\"#FFFFFF\" height=\"426\" id=\"E2\" style=\"stroke: #383838; stroke-width: 1.5;\" width=\"497\" x=\"86\" y=\"7\"/><rect fill=\"#F8F8F8\" height=\"37.9375\" style=\"stroke: #383838; stroke-width: 1.5;\" width=\"497\" x=\"86\" y=\"7\"/><text fill=\"#000000\" font-family=\"sans-serif\" font-size=\"12\" font-style=\"italic\" lengthAdjust=\"spacingAndGlyphs\" textLength=\"71\" x=\"299\" y=\"23.1387\">«state def»</text><text fill=\"#000000\" font-family=\"sans-serif\" font-size=\"12\" lengthAdjust=\"spacingAndGlyphs\" textLength=\"8\" x=\"330.5\" y=\"37.1074\">S</text></a><!--MD5=[168fadf3d0c3fd93dd5d6da1b1d7ab76]\n",
       "cluster E7--><a href=\"psysml:f6369ddf-93b2-4791-a9ee-7d090a7e6258\" target=\"_top\" title=\"psysml:f6369ddf-93b2-4791-a9ee-7d090a7e6258\" xlink:actuate=\"onRequest\" xlink:href=\"psysml:f6369ddf-93b2-4791-a9ee-7d090a7e6258\" xlink:show=\"new\" xlink:title=\"psysml:f6369ddf-93b2-4791-a9ee-7d090a7e6258\" xlink:type=\"simple\"><rect fill=\"#FFFFFF\" height=\"138\" id=\"E7\" rx=\"10\" ry=\"10\" style=\"stroke: #383838; stroke-width: 1.5;\" width=\"195\" x=\"327\" y=\"210\"/><rect fill=\"#F8F8F8\" height=\"37.9375\" rx=\"10\" ry=\"10\" style=\"stroke: #F8F8F8; stroke-width: 1.5;\" width=\"195\" x=\"327\" y=\"210\"/><rect fill=\"#F8F8F8\" height=\"10\" style=\"stroke: #F8F8F8; stroke-width: 1.5;\" width=\"195\" x=\"327\" y=\"237.9375\"/><rect fill=\"none\" height=\"138\" id=\"E7\" rx=\"10\" ry=\"10\" style=\"stroke: #383838; stroke-width: 1.5;\" width=\"195\" x=\"327\" y=\"210\"/><text fill=\"#000000\" font-family=\"sans-serif\" font-size=\"12\" font-style=\"italic\" lengthAdjust=\"spacingAndGlyphs\" textLength=\"47\" x=\"401\" y=\"226.1387\">«state»</text><text fill=\"#000000\" font-family=\"sans-serif\" font-size=\"12\" lengthAdjust=\"spacingAndGlyphs\" textLength=\"16\" x=\"416.5\" y=\"240.1074\">S2</text><line style=\"stroke: #383838; stroke-width: 1.0;\" x1=\"327\" x2=\"522\" y1=\"247.9375\" y2=\"247.9375\"/></a><g id=\"E1\"><a href=\"psysml:0b92cdb5-3694-4434-adff-e0b2149bd4e6\" target=\"_top\" title=\"psysml:0b92cdb5-3694-4434-adff-e0b2149bd4e6\" xlink:actuate=\"onRequest\" xlink:href=\"psysml:0b92cdb5-3694-4434-adff-e0b2149bd4e6\" xlink:show=\"new\" xlink:title=\"psysml:0b92cdb5-3694-4434-adff-e0b2149bd4e6\" xlink:type=\"simple\"><rect fill=\"#FFFFFF\" height=\"42.9375\" id=\"E1\" rx=\"10\" ry=\"10\" style=\"stroke: #383838; stroke-width: 1.5;\" width=\"60\" x=\"7\" y=\"58\"/><rect fill=\"#F8F8F8\" height=\"37.9375\" rx=\"10\" ry=\"10\" style=\"stroke: #F8F8F8; stroke-width: 1.5;\" width=\"60\" x=\"7\" y=\"58\"/><rect fill=\"#F8F8F8\" height=\"10\" style=\"stroke: #F8F8F8; stroke-width: 1.5;\" width=\"60\" x=\"7\" y=\"85.9375\"/><rect fill=\"none\" height=\"42.9375\" id=\"E1\" rx=\"10\" ry=\"10\" style=\"stroke: #383838; stroke-width: 1.5;\" width=\"60\" x=\"7\" y=\"58\"/><text fill=\"#000000\" font-family=\"sans-serif\" font-size=\"12\" font-style=\"italic\" lengthAdjust=\"spacingAndGlyphs\" textLength=\"53\" x=\"10.5\" y=\"74.1387\">«action»</text><text fill=\"#000000\" font-family=\"sans-serif\" font-size=\"12\" lengthAdjust=\"spacingAndGlyphs\" textLength=\"20\" x=\"27\" y=\"88.1074\">act</text></a></g><ellipse cx=\"557\" cy=\"79.5\" fill=\"#000000\" rx=\"10\" ry=\"10\" style=\"stroke: none; stroke-width: 1.0;\"/><ellipse cx=\"335\" cy=\"407\" fill=\"none\" rx=\"10\" ry=\"10\" style=\"stroke: #000000; stroke-width: 1.0;\"/><ellipse cx=\"335.5\" cy=\"407.5\" fill=\"#000000\" rx=\"6\" ry=\"6\" style=\"stroke: none; stroke-width: 1.0;\"/><g id=\"E2.E3\"><a href=\"psysml:b2584b97-8c36-4971-ba08-266a53e2e05d\" target=\"_top\" title=\"psysml:b2584b97-8c36-4971-ba08-266a53e2e05d\" xlink:actuate=\"onRequest\" xlink:href=\"psysml:b2584b97-8c36-4971-ba08-266a53e2e05d\" xlink:show=\"new\" xlink:title=\"psysml:b2584b97-8c36-4971-ba08-266a53e2e05d\" xlink:type=\"simple\"><rect fill=\"#FFFFFF\" height=\"42.9375\" id=\"E3\" rx=\"10\" ry=\"10\" style=\"stroke: #383838; stroke-width: 1.5;\" width=\"113\" x=\"398.5\" y=\"58\"/><rect fill=\"#F8F8F8\" height=\"37.9375\" rx=\"10\" ry=\"10\" style=\"stroke: #F8F8F8; stroke-width: 1.5;\" width=\"113\" x=\"398.5\" y=\"58\"/><rect fill=\"#F8F8F8\" height=\"10\" style=\"stroke: #F8F8F8; stroke-width: 1.5;\" width=\"113\" x=\"398.5\" y=\"85.9375\"/><rect fill=\"none\" height=\"42.9375\" id=\"E3\" rx=\"10\" ry=\"10\" style=\"stroke: #383838; stroke-width: 1.5;\" width=\"113\" x=\"398.5\" y=\"58\"/><text fill=\"#000000\" font-family=\"sans-serif\" font-size=\"12\" font-style=\"italic\" lengthAdjust=\"spacingAndGlyphs\" textLength=\"106\" x=\"402\" y=\"74.1387\">«perform action»</text><text fill=\"#000000\" font-family=\"sans-serif\" font-size=\"12\" lengthAdjust=\"spacingAndGlyphs\" textLength=\"8\" x=\"451\" y=\"88.1074\">A</text></a></g><g id=\"E2.E4\"><a href=\"psysml:4ff81092-47a1-4e96-8d92-0120048334f8\" target=\"_top\" title=\"psysml:4ff81092-47a1-4e96-8d92-0120048334f8\" xlink:actuate=\"onRequest\" xlink:href=\"psysml:4ff81092-47a1-4e96-8d92-0120048334f8\" xlink:show=\"new\" xlink:title=\"psysml:4ff81092-47a1-4e96-8d92-0120048334f8\" xlink:type=\"simple\"><rect fill=\"#FFFFFF\" height=\"42.9375\" id=\"E4\" rx=\"10\" ry=\"10\" style=\"stroke: #383838; stroke-width: 1.5;\" width=\"113\" x=\"250.5\" y=\"58\"/><rect fill=\"#F8F8F8\" height=\"37.9375\" rx=\"10\" ry=\"10\" style=\"stroke: #F8F8F8; stroke-width: 1.5;\" width=\"113\" x=\"250.5\" y=\"58\"/><rect fill=\"#F8F8F8\" height=\"10\" style=\"stroke: #F8F8F8; stroke-width: 1.5;\" width=\"113\" x=\"250.5\" y=\"85.9375\"/><rect fill=\"none\" height=\"42.9375\" id=\"E4\" rx=\"10\" ry=\"10\" style=\"stroke: #383838; stroke-width: 1.5;\" width=\"113\" x=\"250.5\" y=\"58\"/><text fill=\"#000000\" font-family=\"sans-serif\" font-size=\"12\" font-style=\"italic\" lengthAdjust=\"spacingAndGlyphs\" textLength=\"106\" x=\"254\" y=\"74.1387\">«perform action»</text><text fill=\"#000000\" font-family=\"sans-serif\" font-size=\"12\" lengthAdjust=\"spacingAndGlyphs\" textLength=\"8\" x=\"303\" y=\"88.1074\">B</text></a></g><g id=\"E2.E5\"><a href=\"psysml:304a78cc-8684-4bf6-a939-94ca910a3e9f\" target=\"_top\" title=\"psysml:304a78cc-8684-4bf6-a939-94ca910a3e9f\" xlink:actuate=\"onRequest\" xlink:href=\"psysml:304a78cc-8684-4bf6-a939-94ca910a3e9f\" xlink:show=\"new\" xlink:title=\"psysml:304a78cc-8684-4bf6-a939-94ca910a3e9f\" xlink:type=\"simple\"><rect fill=\"#FFFFFF\" height=\"42.9375\" id=\"E5\" rx=\"10\" ry=\"10\" style=\"stroke: #383838; stroke-width: 1.5;\" width=\"113\" x=\"102.5\" y=\"58\"/><rect fill=\"#F8F8F8\" height=\"37.9375\" rx=\"10\" ry=\"10\" style=\"stroke: #F8F8F8; stroke-width: 1.5;\" width=\"113\" x=\"102.5\" y=\"58\"/><rect fill=\"#F8F8F8\" height=\"10\" style=\"stroke: #F8F8F8; stroke-width: 1.5;\" width=\"113\" x=\"102.5\" y=\"85.9375\"/><rect fill=\"none\" height=\"42.9375\" id=\"E5\" rx=\"10\" ry=\"10\" style=\"stroke: #383838; stroke-width: 1.5;\" width=\"113\" x=\"102.5\" y=\"58\"/><text fill=\"#000000\" font-family=\"sans-serif\" font-size=\"12\" font-style=\"italic\" lengthAdjust=\"spacingAndGlyphs\" textLength=\"106\" x=\"106\" y=\"74.1387\">«perform action»</text><text fill=\"#000000\" font-family=\"sans-serif\" font-size=\"12\" lengthAdjust=\"spacingAndGlyphs\" textLength=\"20\" x=\"149\" y=\"88.1074\">act</text></a></g><g id=\"E2.E6\"><a href=\"psysml:0ffea2c5-2698-4589-991c-94f7ac5b0395\" target=\"_top\" title=\"psysml:0ffea2c5-2698-4589-991c-94f7ac5b0395\" xlink:actuate=\"onRequest\" xlink:href=\"psysml:0ffea2c5-2698-4589-991c-94f7ac5b0395\" xlink:show=\"new\" xlink:title=\"psysml:0ffea2c5-2698-4589-991c-94f7ac5b0395\" xlink:type=\"simple\"><rect fill=\"#FFFFFF\" height=\"42.9375\" id=\"E6\" rx=\"10\" ry=\"10\" style=\"stroke: #383838; stroke-width: 1.5;\" width=\"54\" x=\"403\" y=\"118\"/><rect fill=\"#F8F8F8\" height=\"37.9375\" rx=\"10\" ry=\"10\" style=\"stroke: #F8F8F8; stroke-width: 1.5;\" width=\"54\" x=\"403\" y=\"118\"/><rect fill=\"#F8F8F8\" height=\"10\" style=\"stroke: #F8F8F8; stroke-width: 1.5;\" width=\"54\" x=\"403\" y=\"145.9375\"/><rect fill=\"none\" height=\"42.9375\" id=\"E6\" rx=\"10\" ry=\"10\" style=\"stroke: #383838; stroke-width: 1.5;\" width=\"54\" x=\"403\" y=\"118\"/><text fill=\"#000000\" font-family=\"sans-serif\" font-size=\"12\" font-style=\"italic\" lengthAdjust=\"spacingAndGlyphs\" textLength=\"47\" x=\"406.5\" y=\"134.1387\">«state»</text><text fill=\"#000000\" font-family=\"sans-serif\" font-size=\"12\" lengthAdjust=\"spacingAndGlyphs\" textLength=\"16\" x=\"422\" y=\"148.1074\">S1</text></a></g><!--MD5=[2803005a5f354d3255b1b7bbd839bbf7]\n",
       "entity E8--><a href=\"psysml:4e70c0dc-8141-4b3a-9526-a99ab1429170\" target=\"_top\" title=\"psysml:4e70c0dc-8141-4b3a-9526-a99ab1429170\" xlink:actuate=\"onRequest\" xlink:href=\"psysml:4e70c0dc-8141-4b3a-9526-a99ab1429170\" xlink:show=\"new\" xlink:title=\"psysml:4e70c0dc-8141-4b3a-9526-a99ab1429170\" xlink:type=\"simple\"><polygon fill=\"#F8F8F8\" points=\"370,269,370,323.5938,478,323.5938,498,296.2969,478,269\" style=\"stroke: #000000; stroke-width: 1.5;\"/><text fill=\"#000000\" font-family=\"sans-serif\" font-size=\"14\" font-style=\"italic\" lengthAdjust=\"spacingAndGlyphs\" textLength=\"99\" x=\"377\" y=\"291.9951\">«send action»</text><text fill=\"#000000\" font-family=\"sans-serif\" font-size=\"14\" lengthAdjust=\"spacingAndGlyphs\" textLength=\"75\" x=\"389\" y=\"309.292\">Sig(T::s::x)</text></a><!--MD5=[2e26681bccdb10b30299c36e1180c624]\n",
       "link *start*E2 to E6--><a href=\"psysml:3d6f6111-a5f0-4f07-bf0a-543b5052b3c3\" target=\"_top\" title=\"psysml:3d6f6111-a5f0-4f07-bf0a-543b5052b3c3\" xlink:actuate=\"onRequest\" xlink:href=\"psysml:3d6f6111-a5f0-4f07-bf0a-543b5052b3c3\" xlink:show=\"new\" xlink:title=\"psysml:3d6f6111-a5f0-4f07-bf0a-543b5052b3c3\" xlink:type=\"simple\"><path d=\"M549.53,86.84 C544.09,91.22 536.41,96.98 529,101 C507.7,112.55 482.09,122.15 462.25,128.74 \" fill=\"none\" id=\"*start*E2-&gt;E6\" style=\"stroke: #383838; stroke-width: 1.0; stroke-dasharray: 7.0,7.0;\"/><polygon fill=\"#383838\" points=\"457.34,130.36,467.1387,131.353,462.0905,128.8003,464.6432,123.7522,457.34,130.36\" style=\"stroke: #383838; stroke-width: 1.0;\"/></a><!--MD5=[ff9e4afefa821aea7eda324d3041742a]\n",
       "link E7 to *end*E2--><a href=\"psysml:374875bf-0004-40f7-bedc-1374d527cde5\" target=\"_top\" title=\"psysml:374875bf-0004-40f7-bedc-1374d527cde5\" xlink:actuate=\"onRequest\" xlink:href=\"psysml:374875bf-0004-40f7-bedc-1374d527cde5\" xlink:show=\"new\" xlink:title=\"psysml:374875bf-0004-40f7-bedc-1374d527cde5\" xlink:type=\"simple\"><path d=\"M335,348.1183 C335,348.2776 335,348.437 335,348.5964 C335,348.9153 335,349.2342 335,349.5533 C335,354.6588 335,359.7902 335,364.7664 C335,374.7188 335,384.05 335,391.31 \" fill=\"none\" id=\"E7-&gt;*end*E2\" style=\"stroke: #383838; stroke-width: 1.0; stroke-dasharray: 7.0,7.0;\"/><polygon fill=\"#383838\" points=\"335,396.65,339,387.65,335,391.65,331,387.65,335,396.65\" style=\"stroke: #383838; stroke-width: 1.0;\"/><text fill=\"#000000\" font-family=\"sans-serif\" font-size=\"13\" lengthAdjust=\"spacingAndGlyphs\" textLength=\"23\" x=\"336\" y=\"385.0669\">Exit</text></a><!--MD5=[02c70b7c851c11e3980e4e90450dc5dd]\n",
       "link E6 to E7--><a href=\"psysml:69f1494c-077d-4519-8343-87cce73be713\" target=\"_top\" title=\"psysml:69f1494c-077d-4519-8343-87cce73be713\" xlink:actuate=\"onRequest\" xlink:href=\"psysml:69f1494c-077d-4519-8343-87cce73be713\" xlink:show=\"new\" xlink:title=\"psysml:69f1494c-077d-4519-8343-87cce73be713\" xlink:type=\"simple\"><path d=\"M402.96,142.74 C369.7,146.11 316.15,153.8 304,169 C286.215,191.26 293.4475,222.2525 305.3787,247.9887 C311.3444,260.8569 318.4847,272.4109 324.2598,280.9023 C324.9817,281.9638 325.6823,282.9773 326.3566,283.9396 C326.5251,284.1802 326.6921,284.4176 326.8573,284.6517 \" fill=\"none\" id=\"E6-&gt;E7\" style=\"stroke: #383838; stroke-width: 1.0; stroke-dasharray: 7.0,7.0;\"/><polygon fill=\"#383838\" points=\"326.8573,284.6517,324.9364,274.992,323.9745,280.5664,318.4,279.6045,326.8573,284.6517\" style=\"stroke: #383838; stroke-width: 1.0;\"/><text fill=\"#000000\" font-family=\"sans-serif\" font-size=\"13\" lengthAdjust=\"spacingAndGlyphs\" textLength=\"81\" x=\"305\" y=\"182.0669\">Sig /action D</text></a><!--MD5=[fbb449814971db3a0b8220cf225b9e01]\n",
       "link E7 to E6--><a href=\"psysml:f8d53726-bfe5-4353-91f3-ae2ef06d9a38\" target=\"_top\" title=\"psysml:f8d53726-bfe5-4353-91f3-ae2ef06d9a38\" xlink:actuate=\"onRequest\" xlink:href=\"psysml:f8d53726-bfe5-4353-91f3-ae2ef06d9a38\" xlink:show=\"new\" xlink:title=\"psysml:f8d53726-bfe5-4353-91f3-ae2ef06d9a38\" xlink:type=\"simple\"><path d=\"M342.9071,209.9114 C342.9855,209.7539 343.0643,209.5968 343.1437,209.44 C343.4614,208.8126 343.7878,208.1903 344.1232,207.5733 C346.8063,202.638 350.0625,198.0487 354,194 C365.73,181.94 376.55,194.61 391,186 C399.6,180.88 407.24,173.18 413.43,165.57 \" fill=\"none\" id=\"E7-&gt;E6\" style=\"stroke: #383838; stroke-width: 1.0; stroke-dasharray: 7.0,7.0;\"/><polygon fill=\"#383838\" points=\"416.72,161.36,408.0232,165.9823,413.6385,165.2975,414.3232,170.9128,416.72,161.36\" style=\"stroke: #383838; stroke-width: 1.0;\"/><text fill=\"#000000\" font-family=\"sans-serif\" font-size=\"13\" lengthAdjust=\"spacingAndGlyphs\" textLength=\"135\" x=\"410\" y=\"182.0669\">Sig [true]/send s to p</text></a><!--MD5=[523bba3ff382ae094e1884304cb7e320]\n",
       "@startuml\r\n",
       "skinparam ranksep 8\r\n",
       "top to bottom direction\r\n",
       "skinparam monochrome true\r\n",
       "skinparam classbackgroundcolor white\r\n",
       "skinparam shadowing false\r\n",
       "skinparam wrapWidth 300\r\n",
       "hide circle\r\n",
       "\r\n",
       "rec usage \"act\" as E1  <<(T,blue)action>> [[psysml:0b92cdb5-3694-4434-adff-e0b2149bd4e6 ]] {\r\n",
       "}\r\n",
       "\r\n",
       "rec def \"S\" as E2  <<(T,blue)state def>> [[psysml:f2a66a23-1197-47ed-b1bd-74e1ad61d6fd ]] {\r\n",
       "rec usage \"A\" as E3 <<perform action>> [[psysml:b2584b97-8c36-4971-ba08-266a53e2e05d ]] {\r\n",
       "}\r\n",
       "\r\n",
       "rec usage \"B\" as E4 <<perform action>> [[psysml:4ff81092-47a1-4e96-8d92-0120048334f8 ]] {\r\n",
       "}\r\n",
       "\r\n",
       "rec usage \"act\" as E5 <<perform action>> [[psysml:304a78cc-8684-4bf6-a939-94ca910a3e9f ]] {\r\n",
       "}\r\n",
       "\r\n",
       "rec usage \"S1\" as E6  <<(T,blue)state>> [[psysml:0ffea2c5-2698-4589-991c-94f7ac5b0395 ]] {\r\n",
       "}\r\n",
       "\r\n",
       "rec usage \"S2\" as E7  <<(T,blue)state>> [[psysml:f6369ddf-93b2-4791-a9ee-7d090a7e6258 ]] {\r\n",
       "send \" Sig(T::s::x)\" as E8 <<send action>> [[psysml:4e70c0dc-8141-4b3a-9526-a99ab1429170 ]] \r\n",
       "}\r\n",
       "\r\n",
       "[*] ..> E6 [[psysml:3d6f6111-a5f0-4f07-bf0a-543b5052b3c3 ]] \r\n",
       "E7 ..> [*] [[psysml:374875bf-0004-40f7-bedc-1374d527cde5 ]] : Exit \r\n",
       "}\r\n",
       "\r\n",
       "E6 ..> E7 [[psysml:69f1494c-077d-4519-8343-87cce73be713 ]] : Sig /action D\r\n",
       "E7 ..> E6 [[psysml:f8d53726-bfe5-4353-91f3-ae2ef06d9a38 ]] : Sig [true]/send s to p\r\n",
       "@enduml\r\n",
       "\n",
       "PlantUML version 1.2020.13(Sat Jun 13 12:26:38 UTC 2020)\n",
       "(EPL source distribution)\n",
       "Java Runtime: OpenJDK Runtime Environment\n",
       "JVM: OpenJDK 64-Bit Server VM\n",
       "Default Encoding: UTF-8\n",
       "Language: en\n",
       "Country: null\n",
       "--></g></svg>"
      ]
     },
     "execution_count": 48,
     "metadata": {},
     "output_type": "execute_result"
    }
   ],
   "source": [
    "%viz --style=\"TB\" --view=\"Action\" \"StateTest\""
   ]
  },
  {
   "cell_type": "code",
   "execution_count": 49,
   "id": "3a81ad7e",
   "metadata": {
    "execution": {
     "iopub.execute_input": "2021-04-21T20:23:45.850816Z",
     "iopub.status.busy": "2021-04-21T20:23:45.850041Z",
     "iopub.status.idle": "2021-04-21T20:23:45.954286Z",
     "shell.execute_reply": "2021-04-21T20:23:45.952725Z"
    }
   },
   "outputs": [
    {
     "data": {
      "image/svg+xml": [
       "<?xml version=\"1.0\" encoding=\"UTF-8\" standalone=\"no\"?><svg xmlns=\"http://www.w3.org/2000/svg\" xmlns:xlink=\"http://www.w3.org/1999/xlink\" contentScriptType=\"application/ecmascript\" contentStyleType=\"text/css\" height=\"365px\" preserveAspectRatio=\"none\" style=\"width:594px;height:365px;\" version=\"1.1\" viewBox=\"0 0 594 365\" width=\"594px\" zoomAndPan=\"magnify\"><defs/><g><!--MD5=[fbc87193dbaf4d95561dea2c320d4a47]\n",
       "cluster E1--><a href=\"psysml:800f45c9-cf5c-46ce-b3c3-487778cd6319\" target=\"_top\" title=\"psysml:800f45c9-cf5c-46ce-b3c3-487778cd6319\" xlink:actuate=\"onRequest\" xlink:href=\"psysml:800f45c9-cf5c-46ce-b3c3-487778cd6319\" xlink:show=\"new\" xlink:title=\"psysml:800f45c9-cf5c-46ce-b3c3-487778cd6319\" xlink:type=\"simple\"><polygon fill=\"#FFFFFF\" points=\"16,6,98,6,105,28.2969,572,28.2969,572,353,16,353,16,6\" style=\"stroke: #000000; stroke-width: 1.5;\"/><line style=\"stroke: #000000; stroke-width: 1.5;\" x1=\"16\" x2=\"105\" y1=\"28.2969\" y2=\"28.2969\"/><text fill=\"#000000\" font-family=\"sans-serif\" font-size=\"14\" font-weight=\"bold\" lengthAdjust=\"spacingAndGlyphs\" textLength=\"76\" x=\"20\" y=\"20.9951\">StateTest</text></a><!--MD5=[b4997ac47864f28c2f74865a473b2911]\n",
       "class E2--><a href=\"psysml:f1048496-f45f-4de3-be42-17169da36fba\" target=\"_top\" title=\"psysml:f1048496-f45f-4de3-be42-17169da36fba\" xlink:actuate=\"onRequest\" xlink:href=\"psysml:f1048496-f45f-4de3-be42-17169da36fba\" xlink:show=\"new\" xlink:title=\"psysml:f1048496-f45f-4de3-be42-17169da36fba\" xlink:type=\"simple\"><rect fill=\"#FFFFFF\" height=\"75.5469\" id=\"E2\" style=\"stroke: #383838; stroke-width: 1.5;\" width=\"95\" x=\"460.5\" y=\"83\"/><text fill=\"#000000\" font-family=\"sans-serif\" font-size=\"12\" font-style=\"italic\" lengthAdjust=\"spacingAndGlyphs\" textLength=\"93\" x=\"461.5\" y=\"99.1387\">«attribute def»</text><text fill=\"#000000\" font-family=\"sans-serif\" font-size=\"12\" lengthAdjust=\"spacingAndGlyphs\" textLength=\"19\" x=\"498.5\" y=\"113.1074\">Sig</text><line style=\"stroke: #383838; stroke-width: 1.5;\" x1=\"461.5\" x2=\"554.5\" y1=\"120.9375\" y2=\"120.9375\"/><text fill=\"#000000\" font-family=\"sans-serif\" font-size=\"11\" lengthAdjust=\"spacingAndGlyphs\" textLength=\"6\" x=\"466.5\" y=\"151.9526\">x</text><line style=\"stroke: #383838; stroke-width: 1.0;\" x1=\"461.5\" x2=\"480.5\" y1=\"135.3398\" y2=\"135.3398\"/><text fill=\"#000000\" font-family=\"sans-serif\" font-size=\"11\" lengthAdjust=\"spacingAndGlyphs\" textLength=\"55\" x=\"480.5\" y=\"138.6479\">attributes</text><line style=\"stroke: #383838; stroke-width: 1.0;\" x1=\"535.5\" x2=\"554.5\" y1=\"135.3398\" y2=\"135.3398\"/></a><!--MD5=[09b614a08d8cba4a07c9adeb5e0fee81]\n",
       "class E3--><a href=\"psysml:546c6a0a-79ca-4224-b50a-77e407cae485\" target=\"_top\" title=\"psysml:546c6a0a-79ca-4224-b50a-77e407cae485\" xlink:actuate=\"onRequest\" xlink:href=\"psysml:546c6a0a-79ca-4224-b50a-77e407cae485\" xlink:show=\"new\" xlink:title=\"psysml:546c6a0a-79ca-4224-b50a-77e407cae485\" xlink:type=\"simple\"><rect fill=\"#FFFFFF\" height=\"45.9375\" id=\"E3\" style=\"stroke: #383838; stroke-width: 1.5;\" width=\"95\" x=\"330.5\" y=\"98\"/><text fill=\"#000000\" font-family=\"sans-serif\" font-size=\"12\" font-style=\"italic\" lengthAdjust=\"spacingAndGlyphs\" textLength=\"93\" x=\"331.5\" y=\"114.1387\">«attribute def»</text><text fill=\"#000000\" font-family=\"sans-serif\" font-size=\"12\" lengthAdjust=\"spacingAndGlyphs\" textLength=\"22\" x=\"367\" y=\"128.1074\">Exit</text><line style=\"stroke: #383838; stroke-width: 1.5;\" x1=\"331.5\" x2=\"424.5\" y1=\"135.9375\" y2=\"135.9375\"/></a><!--MD5=[ebbe1d658d1005bcc118a6aa81145e00]\n",
       "class E4--><a href=\"psysml:4710131f-7c31-45d9-a6fe-10a60fc8490a\" target=\"_top\" title=\"psysml:4710131f-7c31-45d9-a6fe-10a60fc8490a\" xlink:actuate=\"onRequest\" xlink:href=\"psysml:4710131f-7c31-45d9-a6fe-10a60fc8490a\" xlink:show=\"new\" xlink:title=\"psysml:4710131f-7c31-45d9-a6fe-10a60fc8490a\" xlink:type=\"simple\"><rect fill=\"#FFFFFF\" height=\"45.9375\" id=\"E4\" rx=\"10\" ry=\"10\" style=\"stroke: #383838; stroke-width: 1.5;\" width=\"42\" x=\"253\" y=\"98\"/><text fill=\"#000000\" font-family=\"sans-serif\" font-size=\"12\" font-style=\"italic\" lengthAdjust=\"spacingAndGlyphs\" textLength=\"40\" x=\"254\" y=\"114.1387\">«part»</text><text fill=\"#000000\" font-family=\"sans-serif\" font-size=\"12\" lengthAdjust=\"spacingAndGlyphs\" textLength=\"8\" x=\"270\" y=\"128.1074\">p</text><line style=\"stroke: #383838; stroke-width: 1.5;\" x1=\"254\" x2=\"294\" y1=\"135.9375\" y2=\"135.9375\"/></a><!--MD5=[270fce915f116d4de14055a7c1d9a0f3]\n",
       "class E5--><a href=\"psysml:0b92cdb5-3694-4434-adff-e0b2149bd4e6\" target=\"_top\" title=\"psysml:0b92cdb5-3694-4434-adff-e0b2149bd4e6\" xlink:actuate=\"onRequest\" xlink:href=\"psysml:0b92cdb5-3694-4434-adff-e0b2149bd4e6\" xlink:show=\"new\" xlink:title=\"psysml:0b92cdb5-3694-4434-adff-e0b2149bd4e6\" xlink:type=\"simple\"><rect fill=\"#FFFFFF\" height=\"45.9375\" id=\"E5\" rx=\"10\" ry=\"10\" style=\"stroke: #383838; stroke-width: 1.5;\" width=\"55\" x=\"162.5\" y=\"98\"/><text fill=\"#000000\" font-family=\"sans-serif\" font-size=\"12\" font-style=\"italic\" lengthAdjust=\"spacingAndGlyphs\" textLength=\"53\" x=\"163.5\" y=\"114.1387\">«action»</text><text fill=\"#000000\" font-family=\"sans-serif\" font-size=\"12\" lengthAdjust=\"spacingAndGlyphs\" textLength=\"20\" x=\"180\" y=\"128.1074\">act</text><line style=\"stroke: #383838; stroke-width: 1.5;\" x1=\"163.5\" x2=\"216.5\" y1=\"135.9375\" y2=\"135.9375\"/></a><!--MD5=[60a26617385b1d2d0262a64233df1f8d]\n",
       "class E6--><a href=\"psysml:f2a66a23-1197-47ed-b1bd-74e1ad61d6fd\" target=\"_top\" title=\"psysml:f2a66a23-1197-47ed-b1bd-74e1ad61d6fd\" xlink:actuate=\"onRequest\" xlink:href=\"psysml:f2a66a23-1197-47ed-b1bd-74e1ad61d6fd\" xlink:show=\"new\" xlink:title=\"psysml:f2a66a23-1197-47ed-b1bd-74e1ad61d6fd\" xlink:type=\"simple\"><rect fill=\"#FFFFFF\" height=\"160.375\" id=\"E6\" style=\"stroke: #383838; stroke-width: 1.5;\" width=\"95\" x=\"32.5\" y=\"41\"/><text fill=\"#000000\" font-family=\"sans-serif\" font-size=\"12\" font-style=\"italic\" lengthAdjust=\"spacingAndGlyphs\" textLength=\"71\" x=\"44.5\" y=\"57.1387\">«state def»</text><text fill=\"#000000\" font-family=\"sans-serif\" font-size=\"12\" lengthAdjust=\"spacingAndGlyphs\" textLength=\"8\" x=\"76\" y=\"71.1074\">S</text><line style=\"stroke: #383838; stroke-width: 1.5;\" x1=\"33.5\" x2=\"126.5\" y1=\"78.9375\" y2=\"78.9375\"/><text fill=\"#000000\" font-family=\"sans-serif\" font-size=\"11\" lengthAdjust=\"spacingAndGlyphs\" textLength=\"17\" x=\"38.5\" y=\"109.9526\">act</text><text fill=\"#000000\" font-family=\"sans-serif\" font-size=\"11\" lengthAdjust=\"spacingAndGlyphs\" textLength=\"7\" x=\"38.5\" y=\"122.7573\">A</text><text fill=\"#000000\" font-family=\"sans-serif\" font-size=\"11\" lengthAdjust=\"spacingAndGlyphs\" textLength=\"8\" x=\"38.5\" y=\"135.562\">B</text><line style=\"stroke: #383838; stroke-width: 1.0;\" x1=\"33.5\" x2=\"36.5\" y1=\"93.3398\" y2=\"93.3398\"/><text fill=\"#000000\" font-family=\"sans-serif\" font-size=\"11\" lengthAdjust=\"spacingAndGlyphs\" textLength=\"87\" x=\"36.5\" y=\"96.6479\">performActions</text><line style=\"stroke: #383838; stroke-width: 1.0;\" x1=\"123.5\" x2=\"126.5\" y1=\"93.3398\" y2=\"93.3398\"/><text fill=\"#000000\" font-family=\"sans-serif\" font-size=\"11\" lengthAdjust=\"spacingAndGlyphs\" textLength=\"15\" x=\"38.5\" y=\"165.1714\">S1</text><line style=\"stroke: #383838; stroke-width: 1.0;\" x1=\"33.5\" x2=\"62\" y1=\"148.5586\" y2=\"148.5586\"/><text fill=\"#000000\" font-family=\"sans-serif\" font-size=\"11\" lengthAdjust=\"spacingAndGlyphs\" textLength=\"36\" x=\"62\" y=\"151.8667\">states</text><line style=\"stroke: #383838; stroke-width: 1.0;\" x1=\"98\" x2=\"126.5\" y1=\"148.5586\" y2=\"148.5586\"/><text fill=\"#000000\" font-family=\"sans-serif\" font-size=\"11\" lengthAdjust=\"spacingAndGlyphs\" textLength=\"7\" x=\"38.5\" y=\"194.7808\">T</text><line style=\"stroke: #383838; stroke-width: 1.0;\" x1=\"33.5\" x2=\"49.5\" y1=\"178.168\" y2=\"178.168\"/><text fill=\"#000000\" font-family=\"sans-serif\" font-size=\"11\" lengthAdjust=\"spacingAndGlyphs\" textLength=\"61\" x=\"49.5\" y=\"181.4761\">transitions</text><line style=\"stroke: #383838; stroke-width: 1.0;\" x1=\"110.5\" x2=\"126.5\" y1=\"178.168\" y2=\"178.168\"/></a><!--MD5=[1dd1bfd58a279cf63c5f349dbc8fc6a1]\n",
       "class E11--><a href=\"psysml:f6369ddf-93b2-4791-a9ee-7d090a7e6258\" target=\"_top\" title=\"psysml:f6369ddf-93b2-4791-a9ee-7d090a7e6258\" xlink:actuate=\"onRequest\" xlink:href=\"psysml:f6369ddf-93b2-4791-a9ee-7d090a7e6258\" xlink:show=\"new\" xlink:title=\"psysml:f6369ddf-93b2-4791-a9ee-7d090a7e6258\" xlink:type=\"simple\"><rect fill=\"#FFFFFF\" height=\"75.5469\" id=\"E11\" rx=\"10\" ry=\"10\" style=\"stroke: #383838; stroke-width: 1.5;\" width=\"77\" x=\"41.5\" y=\"261\"/><text fill=\"#000000\" font-family=\"sans-serif\" font-size=\"12\" font-style=\"italic\" lengthAdjust=\"spacingAndGlyphs\" textLength=\"47\" x=\"56.5\" y=\"277.1387\">«state»</text><text fill=\"#000000\" font-family=\"sans-serif\" font-size=\"12\" lengthAdjust=\"spacingAndGlyphs\" textLength=\"16\" x=\"72\" y=\"291.1074\">S2</text><line style=\"stroke: #383838; stroke-width: 1.5;\" x1=\"42.5\" x2=\"117.5\" y1=\"298.9375\" y2=\"298.9375\"/><text fill=\"#000000\" font-family=\"sans-serif\" font-size=\"11\" lengthAdjust=\"spacingAndGlyphs\" textLength=\"48\" x=\"47.5\" y=\"329.9526\">doAction</text><line style=\"stroke: #383838; stroke-width: 1.0;\" x1=\"42.5\" x2=\"45.5\" y1=\"313.3398\" y2=\"313.3398\"/><text fill=\"#000000\" font-family=\"sans-serif\" font-size=\"11\" lengthAdjust=\"spacingAndGlyphs\" textLength=\"69\" x=\"45.5\" y=\"316.6479\">sendActions</text><line style=\"stroke: #383838; stroke-width: 1.0;\" x1=\"114.5\" x2=\"117.5\" y1=\"313.3398\" y2=\"313.3398\"/></a><!--MD5=[1f5f03483f7de0d5b3680a7f6650997f]\n",
       "reverse link E6 to E11--><a href=\"psysml:247e0169-6466-401b-83f0-032a7b21c539\" target=\"_top\" title=\"psysml:247e0169-6466-401b-83f0-032a7b21c539\" xlink:actuate=\"onRequest\" xlink:href=\"psysml:247e0169-6466-401b-83f0-032a7b21c539\" xlink:show=\"new\" xlink:title=\"psysml:247e0169-6466-401b-83f0-032a7b21c539\" xlink:type=\"simple\"><path d=\"M80,214.46 C80,230.92 80,247.18 80,260.92 \" fill=\"none\" id=\"E6&lt;-E11\" style=\"stroke: #383838; stroke-width: 1.0;\"/><polygon fill=\"#383838\" points=\"80,201.25,76,207.25,80,213.25,84,207.25,80,201.25\" style=\"stroke: #383838; stroke-width: 1.0;\"/></a><!--MD5=[6d61c322119e0584d9066d31b3a508b7]\n",
       "@startuml\r\n",
       "top to bottom direction\r\n",
       "skinparam monochrome true\r\n",
       "skinparam classbackgroundcolor white\r\n",
       "skinparam shadowing false\r\n",
       "skinparam wrapWidth 300\r\n",
       "hide circle\r\n",
       "\r\n",
       "package \"StateTest\" as E1  [[psysml:800f45c9-cf5c-46ce-b3c3-487778cd6319 ]]  {\r\n",
       "comp def \"Sig\" as E2  <<(T,blue)attribute def>> [[psysml:f1048496-f45f-4de3-be42-17169da36fba ]] {\r\n",
       "- - attributes - -\r\n",
       "x\r\n",
       "}\r\n",
       "comp def \"Exit\" as E3  <<(T,blue)attribute def>> [[psysml:546c6a0a-79ca-4224-b50a-77e407cae485 ]] {\r\n",
       "}\r\n",
       "comp usage \"p\" as E4  <<(T,blue)part>> [[psysml:4710131f-7c31-45d9-a6fe-10a60fc8490a ]] {\r\n",
       "}\r\n",
       "comp usage \"act\" as E5  <<(T,blue)action>> [[psysml:0b92cdb5-3694-4434-adff-e0b2149bd4e6 ]] {\r\n",
       "}\r\n",
       "comp def \"S\" as E6  <<(T,blue)state def>> [[psysml:f2a66a23-1197-47ed-b1bd-74e1ad61d6fd ]] {\r\n",
       "- - performActions - -\r\n",
       "act\r\n",
       "A\r\n",
       "B\r\n",
       "- - states - -\r\n",
       "S1\r\n",
       "- - transitions - -\r\n",
       "T\r\n",
       "}\r\n",
       "comp usage \"S2\" as E11  <<(T,blue)state>> [[psysml:f6369ddf-93b2-4791-a9ee-7d090a7e6258 ]] {\r\n",
       "- - sendActions - -\r\n",
       "doAction\r\n",
       "}\r\n",
       "E6 *- - E11 [[psysml:247e0169-6466-401b-83f0-032a7b21c539 ]] \r\n",
       "}\r\n",
       "@enduml\r\n",
       "\n",
       "PlantUML version 1.2020.13(Sat Jun 13 12:26:38 UTC 2020)\n",
       "(EPL source distribution)\n",
       "Java Runtime: OpenJDK Runtime Environment\n",
       "JVM: OpenJDK 64-Bit Server VM\n",
       "Default Encoding: UTF-8\n",
       "Language: en\n",
       "Country: null\n",
       "--></g></svg>"
      ]
     },
     "execution_count": 49,
     "metadata": {},
     "output_type": "execute_result"
    }
   ],
   "source": [
    "%viz --style=\"TB\" --view=\"Sequence\" \"StateTest\""
   ]
  },
  {
   "cell_type": "code",
   "execution_count": 50,
   "id": "4280cc5a",
   "metadata": {
    "execution": {
     "iopub.execute_input": "2021-04-21T20:23:46.005672Z",
     "iopub.status.busy": "2021-04-21T20:23:46.005169Z",
     "iopub.status.idle": "2021-04-21T20:23:46.049461Z",
     "shell.execute_reply": "2021-04-21T20:23:46.047828Z"
    }
   },
   "outputs": [
    {
     "data": {
      "image/svg+xml": [
       "<?xml version=\"1.0\" encoding=\"UTF-8\" standalone=\"no\"?><svg xmlns=\"http://www.w3.org/2000/svg\" xmlns:xlink=\"http://www.w3.org/1999/xlink\" contentScriptType=\"application/ecmascript\" contentStyleType=\"text/css\" height=\"570px\" preserveAspectRatio=\"none\" style=\"width:819px;height:570px;\" version=\"1.1\" viewBox=\"0 0 819 570\" width=\"819px\" zoomAndPan=\"magnify\"><defs/><g><!--MD5=[fbc87193dbaf4d95561dea2c320d4a47]\n",
       "cluster E1--><a href=\"psysml:800f45c9-cf5c-46ce-b3c3-487778cd6319\" target=\"_top\" title=\"psysml:800f45c9-cf5c-46ce-b3c3-487778cd6319\" xlink:actuate=\"onRequest\" xlink:href=\"psysml:800f45c9-cf5c-46ce-b3c3-487778cd6319\" xlink:show=\"new\" xlink:title=\"psysml:800f45c9-cf5c-46ce-b3c3-487778cd6319\" xlink:type=\"simple\"><polygon fill=\"#FFFFFF\" points=\"16,6,98,6,105,28.2969,797,28.2969,797,558,16,558,16,6\" style=\"stroke: #000000; stroke-width: 1.5;\"/><line style=\"stroke: #000000; stroke-width: 1.5;\" x1=\"16\" x2=\"105\" y1=\"28.2969\" y2=\"28.2969\"/><text fill=\"#000000\" font-family=\"sans-serif\" font-size=\"14\" font-weight=\"bold\" lengthAdjust=\"spacingAndGlyphs\" textLength=\"76\" x=\"20\" y=\"20.9951\">StateTest</text></a><!--MD5=[14e3b0961a2654348d326746436168a1]\n",
       "cluster E6--><a href=\"psysml:f2a66a23-1197-47ed-b1bd-74e1ad61d6fd\" target=\"_top\" title=\"psysml:f2a66a23-1197-47ed-b1bd-74e1ad61d6fd\" xlink:actuate=\"onRequest\" xlink:href=\"psysml:f2a66a23-1197-47ed-b1bd-74e1ad61d6fd\" xlink:show=\"new\" xlink:title=\"psysml:f2a66a23-1197-47ed-b1bd-74e1ad61d6fd\" xlink:type=\"simple\"><rect fill=\"#FFFFFF\" height=\"485\" id=\"E6\" style=\"stroke: #383838; stroke-width: 1.5;\" width=\"327\" x=\"446\" y=\"49\"/><rect fill=\"#F8F8F8\" height=\"37.9375\" style=\"stroke: #383838; stroke-width: 1.5;\" width=\"327\" x=\"446\" y=\"49\"/><text fill=\"#000000\" font-family=\"sans-serif\" font-size=\"12\" font-style=\"italic\" lengthAdjust=\"spacingAndGlyphs\" textLength=\"71\" x=\"574\" y=\"65.1387\">«state def»</text><text fill=\"#000000\" font-family=\"sans-serif\" font-size=\"12\" lengthAdjust=\"spacingAndGlyphs\" textLength=\"8\" x=\"605.5\" y=\"79.1074\">S</text><line style=\"stroke: #383838; stroke-width: 1.0;\" x1=\"446\" x2=\"773\" y1=\"132.8438\" y2=\"132.8438\"/><text fill=\"#000000\" font-family=\"sans-serif\" font-size=\"12\" font-weight=\"bold\" lengthAdjust=\"spacingAndGlyphs\" textLength=\"38\" x=\"451\" y=\"100.0762\">entry</text><text fill=\"#000000\" font-family=\"sans-serif\" font-size=\"12\" lengthAdjust=\"spacingAndGlyphs\" textLength=\"16\" x=\"489\" y=\"100.0762\">/ A</text><text fill=\"#000000\" font-family=\"sans-serif\" font-size=\"12\" font-weight=\"bold\" lengthAdjust=\"spacingAndGlyphs\" textLength=\"18\" x=\"451\" y=\"114.0449\">do</text><text fill=\"#000000\" font-family=\"sans-serif\" font-size=\"12\" lengthAdjust=\"spacingAndGlyphs\" textLength=\"16\" x=\"469\" y=\"114.0449\">/ B</text><text fill=\"#000000\" font-family=\"sans-serif\" font-size=\"12\" font-weight=\"bold\" lengthAdjust=\"spacingAndGlyphs\" textLength=\"26\" x=\"451\" y=\"128.0137\">exit</text><text fill=\"#000000\" font-family=\"sans-serif\" font-size=\"12\" lengthAdjust=\"spacingAndGlyphs\" textLength=\"28\" x=\"477\" y=\"128.0137\">/ act</text></a><!--MD5=[b4997ac47864f28c2f74865a473b2911]\n",
       "class E2--><a href=\"psysml:f1048496-f45f-4de3-be42-17169da36fba\" target=\"_top\" title=\"psysml:f1048496-f45f-4de3-be42-17169da36fba\" xlink:actuate=\"onRequest\" xlink:href=\"psysml:f1048496-f45f-4de3-be42-17169da36fba\" xlink:show=\"new\" xlink:title=\"psysml:f1048496-f45f-4de3-be42-17169da36fba\" xlink:type=\"simple\"><rect fill=\"#FFFFFF\" height=\"75.5469\" id=\"E2\" style=\"stroke: #383838; stroke-width: 1.5;\" width=\"95\" x=\"334.5\" y=\"119\"/><text fill=\"#000000\" font-family=\"sans-serif\" font-size=\"12\" font-style=\"italic\" lengthAdjust=\"spacingAndGlyphs\" textLength=\"93\" x=\"335.5\" y=\"135.1387\">«attribute def»</text><text fill=\"#000000\" font-family=\"sans-serif\" font-size=\"12\" lengthAdjust=\"spacingAndGlyphs\" textLength=\"19\" x=\"372.5\" y=\"149.1074\">Sig</text><line style=\"stroke: #383838; stroke-width: 1.5;\" x1=\"335.5\" x2=\"428.5\" y1=\"156.9375\" y2=\"156.9375\"/><text fill=\"#000000\" font-family=\"sans-serif\" font-size=\"11\" lengthAdjust=\"spacingAndGlyphs\" textLength=\"6\" x=\"340.5\" y=\"187.9526\">x</text><line style=\"stroke: #383838; stroke-width: 1.0;\" x1=\"335.5\" x2=\"354.5\" y1=\"171.3398\" y2=\"171.3398\"/><text fill=\"#000000\" font-family=\"sans-serif\" font-size=\"11\" lengthAdjust=\"spacingAndGlyphs\" textLength=\"55\" x=\"354.5\" y=\"174.6479\">attributes</text><line style=\"stroke: #383838; stroke-width: 1.0;\" x1=\"409.5\" x2=\"428.5\" y1=\"171.3398\" y2=\"171.3398\"/></a><!--MD5=[09b614a08d8cba4a07c9adeb5e0fee81]\n",
       "class E3--><a href=\"psysml:546c6a0a-79ca-4224-b50a-77e407cae485\" target=\"_top\" title=\"psysml:546c6a0a-79ca-4224-b50a-77e407cae485\" xlink:actuate=\"onRequest\" xlink:href=\"psysml:546c6a0a-79ca-4224-b50a-77e407cae485\" xlink:show=\"new\" xlink:title=\"psysml:546c6a0a-79ca-4224-b50a-77e407cae485\" xlink:type=\"simple\"><rect fill=\"#FFFFFF\" height=\"45.9375\" id=\"E3\" style=\"stroke: #383838; stroke-width: 1.5;\" width=\"95\" x=\"204.5\" y=\"134\"/><text fill=\"#000000\" font-family=\"sans-serif\" font-size=\"12\" font-style=\"italic\" lengthAdjust=\"spacingAndGlyphs\" textLength=\"93\" x=\"205.5\" y=\"150.1387\">«attribute def»</text><text fill=\"#000000\" font-family=\"sans-serif\" font-size=\"12\" lengthAdjust=\"spacingAndGlyphs\" textLength=\"22\" x=\"241\" y=\"164.1074\">Exit</text><line style=\"stroke: #383838; stroke-width: 1.5;\" x1=\"205.5\" x2=\"298.5\" y1=\"171.9375\" y2=\"171.9375\"/></a><!--MD5=[ebbe1d658d1005bcc118a6aa81145e00]\n",
       "class E4--><a href=\"psysml:4710131f-7c31-45d9-a6fe-10a60fc8490a\" target=\"_top\" title=\"psysml:4710131f-7c31-45d9-a6fe-10a60fc8490a\" xlink:actuate=\"onRequest\" xlink:href=\"psysml:4710131f-7c31-45d9-a6fe-10a60fc8490a\" xlink:show=\"new\" xlink:title=\"psysml:4710131f-7c31-45d9-a6fe-10a60fc8490a\" xlink:type=\"simple\"><rect fill=\"#FFFFFF\" height=\"45.9375\" id=\"E4\" rx=\"10\" ry=\"10\" style=\"stroke: #383838; stroke-width: 1.5;\" width=\"42\" x=\"127\" y=\"134\"/><text fill=\"#000000\" font-family=\"sans-serif\" font-size=\"12\" font-style=\"italic\" lengthAdjust=\"spacingAndGlyphs\" textLength=\"40\" x=\"128\" y=\"150.1387\">«part»</text><text fill=\"#000000\" font-family=\"sans-serif\" font-size=\"12\" lengthAdjust=\"spacingAndGlyphs\" textLength=\"8\" x=\"144\" y=\"164.1074\">p</text><line style=\"stroke: #383838; stroke-width: 1.5;\" x1=\"128\" x2=\"168\" y1=\"171.9375\" y2=\"171.9375\"/></a><g id=\"E1.E5\"><a href=\"psysml:0b92cdb5-3694-4434-adff-e0b2149bd4e6\" target=\"_top\" title=\"psysml:0b92cdb5-3694-4434-adff-e0b2149bd4e6\" xlink:actuate=\"onRequest\" xlink:href=\"psysml:0b92cdb5-3694-4434-adff-e0b2149bd4e6\" xlink:show=\"new\" xlink:title=\"psysml:0b92cdb5-3694-4434-adff-e0b2149bd4e6\" xlink:type=\"simple\"><rect fill=\"#FFFFFF\" height=\"42.9375\" id=\"E5\" rx=\"10\" ry=\"10\" style=\"stroke: #383838; stroke-width: 1.5;\" width=\"60\" x=\"32\" y=\"135.5\"/><rect fill=\"#F8F8F8\" height=\"37.9375\" rx=\"10\" ry=\"10\" style=\"stroke: #F8F8F8; stroke-width: 1.5;\" width=\"60\" x=\"32\" y=\"135.5\"/><rect fill=\"#F8F8F8\" height=\"10\" style=\"stroke: #F8F8F8; stroke-width: 1.5;\" width=\"60\" x=\"32\" y=\"163.4375\"/><rect fill=\"none\" height=\"42.9375\" id=\"E5\" rx=\"10\" ry=\"10\" style=\"stroke: #383838; stroke-width: 1.5;\" width=\"60\" x=\"32\" y=\"135.5\"/><text fill=\"#000000\" font-family=\"sans-serif\" font-size=\"12\" font-style=\"italic\" lengthAdjust=\"spacingAndGlyphs\" textLength=\"53\" x=\"35.5\" y=\"151.6387\">«action»</text><text fill=\"#000000\" font-family=\"sans-serif\" font-size=\"12\" lengthAdjust=\"spacingAndGlyphs\" textLength=\"20\" x=\"52\" y=\"165.6074\">act</text></a></g><ellipse cx=\"558\" cy=\"157\" fill=\"#000000\" rx=\"10\" ry=\"10\" style=\"stroke: none; stroke-width: 1.0;\"/><ellipse cx=\"583\" cy=\"508\" fill=\"none\" rx=\"10\" ry=\"10\" style=\"stroke: #000000; stroke-width: 1.0;\"/><ellipse cx=\"583.5\" cy=\"508.5\" fill=\"#000000\" rx=\"6\" ry=\"6\" style=\"stroke: none; stroke-width: 1.0;\"/><g id=\"E1.E6.E7\"><a href=\"psysml:0ffea2c5-2698-4589-991c-94f7ac5b0395\" target=\"_top\" title=\"psysml:0ffea2c5-2698-4589-991c-94f7ac5b0395\" xlink:actuate=\"onRequest\" xlink:href=\"psysml:0ffea2c5-2698-4589-991c-94f7ac5b0395\" xlink:show=\"new\" xlink:title=\"psysml:0ffea2c5-2698-4589-991c-94f7ac5b0395\" xlink:type=\"simple\"><rect fill=\"#FFFFFF\" height=\"40\" id=\"E7\" rx=\"10\" ry=\"10\" style=\"stroke: #383838; stroke-width: 1.5;\" width=\"50\" x=\"533\" y=\"256\"/><rect fill=\"#F8F8F8\" height=\"23.9688\" rx=\"10\" ry=\"10\" style=\"stroke: #F8F8F8; stroke-width: 1.5;\" width=\"50\" x=\"533\" y=\"256\"/><rect fill=\"#F8F8F8\" height=\"10\" style=\"stroke: #F8F8F8; stroke-width: 1.5;\" width=\"50\" x=\"533\" y=\"269.9688\"/><rect fill=\"none\" height=\"40\" id=\"E7\" rx=\"10\" ry=\"10\" style=\"stroke: #383838; stroke-width: 1.5;\" width=\"50\" x=\"533\" y=\"256\"/><text fill=\"#000000\" font-family=\"sans-serif\" font-size=\"12\" lengthAdjust=\"spacingAndGlyphs\" textLength=\"16\" x=\"550\" y=\"272.1387\">S1</text></a></g><g id=\"E1.E6.E8\"><a href=\"psysml:f6369ddf-93b2-4791-a9ee-7d090a7e6258\" target=\"_top\" title=\"psysml:f6369ddf-93b2-4791-a9ee-7d090a7e6258\" xlink:actuate=\"onRequest\" xlink:href=\"psysml:f6369ddf-93b2-4791-a9ee-7d090a7e6258\" xlink:show=\"new\" xlink:title=\"psysml:f6369ddf-93b2-4791-a9ee-7d090a7e6258\" xlink:type=\"simple\"><rect fill=\"#FFFFFF\" height=\"47.9375\" id=\"E8\" rx=\"10\" ry=\"10\" style=\"stroke: #383838; stroke-width: 1.5;\" width=\"169\" x=\"498.5\" y=\"373\"/><rect fill=\"#F8F8F8\" height=\"23.9688\" rx=\"10\" ry=\"10\" style=\"stroke: #F8F8F8; stroke-width: 1.5;\" width=\"169\" x=\"498.5\" y=\"373\"/><rect fill=\"#F8F8F8\" height=\"10\" style=\"stroke: #F8F8F8; stroke-width: 1.5;\" width=\"169\" x=\"498.5\" y=\"386.9688\"/><rect fill=\"none\" height=\"47.9375\" id=\"E8\" rx=\"10\" ry=\"10\" style=\"stroke: #383838; stroke-width: 1.5;\" width=\"169\" x=\"498.5\" y=\"373\"/><text fill=\"#000000\" font-family=\"sans-serif\" font-size=\"12\" lengthAdjust=\"spacingAndGlyphs\" textLength=\"16\" x=\"575\" y=\"389.1387\">S2</text><line style=\"stroke: #383838; stroke-width: 1.0;\" x1=\"498.5\" x2=\"667.5\" y1=\"396.9688\" y2=\"396.9688\"/><text fill=\"#000000\" font-family=\"sans-serif\" font-size=\"12\" font-weight=\"bold\" lengthAdjust=\"spacingAndGlyphs\" textLength=\"18\" x=\"503.5\" y=\"410.1074\">do</text><text fill=\"#000000\" font-family=\"sans-serif\" font-size=\"12\" lengthAdjust=\"spacingAndGlyphs\" textLength=\"141\" x=\"521.5\" y=\"410.1074\">/  send Sig(T::s::x) to p</text></a></g><!--MD5=[5a531d3a85f3339e6e197084acb48195]\n",
       "link *start*E6 to E7--><a href=\"psysml:3d6f6111-a5f0-4f07-bf0a-543b5052b3c3\" target=\"_top\" title=\"psysml:3d6f6111-a5f0-4f07-bf0a-543b5052b3c3\" xlink:actuate=\"onRequest\" xlink:href=\"psysml:3d6f6111-a5f0-4f07-bf0a-543b5052b3c3\" xlink:show=\"new\" xlink:title=\"psysml:3d6f6111-a5f0-4f07-bf0a-543b5052b3c3\" xlink:type=\"simple\"><path d=\"M558,167.18 C558,184.98 558,224.73 558,250.67 \" fill=\"none\" id=\"*start*E6-&gt;E7\" style=\"stroke: #383838; stroke-width: 1.0;\"/><polygon fill=\"#383838\" points=\"558,255.98,562,246.98,558,250.98,554,246.98,558,255.98\" style=\"stroke: #383838; stroke-width: 1.0;\"/></a><!--MD5=[7ec9a8babba89ddcae1318ca9fb3c814]\n",
       "link E8 to *end*E6--><a href=\"psysml:374875bf-0004-40f7-bedc-1374d527cde5\" target=\"_top\" title=\"psysml:374875bf-0004-40f7-bedc-1374d527cde5\" xlink:actuate=\"onRequest\" xlink:href=\"psysml:374875bf-0004-40f7-bedc-1374d527cde5\" xlink:show=\"new\" xlink:title=\"psysml:374875bf-0004-40f7-bedc-1374d527cde5\" xlink:type=\"simple\"><path d=\"M583,421.12 C583,442.75 583,474.39 583,492.62 \" fill=\"none\" id=\"E8-&gt;*end*E6\" style=\"stroke: #383838; stroke-width: 1.0;\"/><polygon fill=\"#383838\" points=\"583,497.82,587,488.82,583,492.82,579,488.82,583,497.82\" style=\"stroke: #383838; stroke-width: 1.0;\"/><text fill=\"#000000\" font-family=\"sans-serif\" font-size=\"13\" lengthAdjust=\"spacingAndGlyphs\" textLength=\"23\" x=\"584\" y=\"464.0669\">Exit</text></a><!--MD5=[79bc8f324ef4d02c541433f2e6e513c3]\n",
       "link E7 to E8--><a href=\"psysml:69f1494c-077d-4519-8343-87cce73be713\" target=\"_top\" title=\"psysml:69f1494c-077d-4519-8343-87cce73be713\" xlink:actuate=\"onRequest\" xlink:href=\"psysml:69f1494c-077d-4519-8343-87cce73be713\" xlink:show=\"new\" xlink:title=\"psysml:69f1494c-077d-4519-8343-87cce73be713\" xlink:type=\"simple\"><path d=\"M532.85,288.29 C509.89,300.31 481.3,320.66 494,343 C500.2,353.9 509.62,362.8 520.06,369.97 \" fill=\"none\" id=\"E7-&gt;E8\" style=\"stroke: #383838; stroke-width: 1.0;\"/><polygon fill=\"#383838\" points=\"524.26,372.74,518.9574,364.4404,520.0888,369.983,514.5462,371.1144,524.26,372.74\" style=\"stroke: #383838; stroke-width: 1.0;\"/><text fill=\"#000000\" font-family=\"sans-serif\" font-size=\"13\" lengthAdjust=\"spacingAndGlyphs\" textLength=\"81\" x=\"495\" y=\"339.0669\">Sig /action D</text></a><!--MD5=[bfa3c8b0d15052fdf50ae9310b491027]\n",
       "link E8 to E7--><a href=\"psysml:f8d53726-bfe5-4353-91f3-ae2ef06d9a38\" target=\"_top\" title=\"psysml:f8d53726-bfe5-4353-91f3-ae2ef06d9a38\" xlink:actuate=\"onRequest\" xlink:href=\"psysml:f8d53726-bfe5-4353-91f3-ae2ef06d9a38\" xlink:show=\"new\" xlink:title=\"psysml:f8d53726-bfe5-4353-91f3-ae2ef06d9a38\" xlink:type=\"simple\"><path d=\"M584.68,372.99 C585.12,359.19 584.66,341.38 581,326 C578.98,317.52 575.41,308.75 571.67,301.02 \" fill=\"none\" id=\"E8-&gt;E7\" style=\"stroke: #383838; stroke-width: 1.0;\"/><polygon fill=\"#383838\" points=\"569.33,296.35,569.7898,306.1881,571.5718,300.8193,576.9406,302.6013,569.33,296.35\" style=\"stroke: #383838; stroke-width: 1.0;\"/><text fill=\"#000000\" font-family=\"sans-serif\" font-size=\"13\" lengthAdjust=\"spacingAndGlyphs\" textLength=\"135\" x=\"584\" y=\"339.0669\">Sig [true]/send s to p</text></a><!--MD5=[15c583dd52ec18de293c4d129cde3509]\n",
       "@startuml\r\n",
       "top to bottom direction\r\n",
       "skinparam monochrome true\r\n",
       "skinparam classbackgroundcolor white\r\n",
       "skinparam shadowing false\r\n",
       "skinparam wrapWidth 300\r\n",
       "hide circle\r\n",
       "\r\n",
       "package \"StateTest\" as E1  [[psysml:800f45c9-cf5c-46ce-b3c3-487778cd6319 ]]  {\r\n",
       "comp def \"Sig\" as E2  <<(T,blue)attribute def>> [[psysml:f1048496-f45f-4de3-be42-17169da36fba ]] {\r\n",
       "- - attributes - -\r\n",
       "x\r\n",
       "}\r\n",
       "comp def \"Exit\" as E3  <<(T,blue)attribute def>> [[psysml:546c6a0a-79ca-4224-b50a-77e407cae485 ]] {\r\n",
       "}\r\n",
       "comp usage \"p\" as E4  <<(T,blue)part>> [[psysml:4710131f-7c31-45d9-a6fe-10a60fc8490a ]] {\r\n",
       "}\r\n",
       "rec usage \"act\" as E5  <<(T,blue)action>> [[psysml:0b92cdb5-3694-4434-adff-e0b2149bd4e6 ]] {\r\n",
       "}\r\n",
       "\r\n",
       "rec def \"S\" as E6  <<(T,blue)state def>> [[psysml:f2a66a23-1197-47ed-b1bd-74e1ad61d6fd ]] {\r\n",
       "rec usage \"S1\" as E7 [[psysml:0ffea2c5-2698-4589-991c-94f7ac5b0395 ]] {\r\n",
       "}\r\n",
       "\r\n",
       "rec usage \"S2\" as E8 [[psysml:f6369ddf-93b2-4791-a9ee-7d090a7e6258 ]] {\r\n",
       "desc \"S2\" as E8  : **do**/  send Sig(T::s::x) to p\r\n",
       "}\r\n",
       "\r\n",
       "desc \"S\" as E6  : **entry**/ A\r\n",
       "desc \"S\" as E6  : **do**/ B\r\n",
       "desc \"S\" as E6  : **exit**/ act \r\n",
       "[*] - -> E7 [[psysml:3d6f6111-a5f0-4f07-bf0a-543b5052b3c3 ]] \r\n",
       "E8  - -> [*] [[psysml:374875bf-0004-40f7-bedc-1374d527cde5 ]] : Exit \r\n",
       "}\r\n",
       "\r\n",
       "E7  - -> E8 [[psysml:69f1494c-077d-4519-8343-87cce73be713 ]] : Sig /action D\r\n",
       "E8  - -> E7 [[psysml:f8d53726-bfe5-4353-91f3-ae2ef06d9a38 ]] : Sig [true]/send s to p\r\n",
       "}\r\n",
       "@enduml\r\n",
       "\n",
       "PlantUML version 1.2020.13(Sat Jun 13 12:26:38 UTC 2020)\n",
       "(EPL source distribution)\n",
       "Java Runtime: OpenJDK Runtime Environment\n",
       "JVM: OpenJDK 64-Bit Server VM\n",
       "Default Encoding: UTF-8\n",
       "Language: en\n",
       "Country: null\n",
       "--></g></svg>"
      ]
     },
     "execution_count": 50,
     "metadata": {},
     "output_type": "execute_result"
    }
   ],
   "source": [
    "%viz --style=\"TB\" --view=\"MIXED\" \"StateTest\""
   ]
  },
  {
   "cell_type": "code",
   "execution_count": 51,
   "id": "d16db026",
   "metadata": {
    "execution": {
     "iopub.execute_input": "2021-04-21T20:23:46.099340Z",
     "iopub.status.busy": "2021-04-21T20:23:46.098940Z",
     "iopub.status.idle": "2021-04-21T20:23:46.142900Z",
     "shell.execute_reply": "2021-04-21T20:23:46.141406Z"
    }
   },
   "outputs": [
    {
     "data": {
      "image/svg+xml": [
       "<?xml version=\"1.0\" encoding=\"UTF-8\" standalone=\"no\"?><svg xmlns=\"http://www.w3.org/2000/svg\" xmlns:xlink=\"http://www.w3.org/1999/xlink\" contentScriptType=\"application/ecmascript\" contentStyleType=\"text/css\" height=\"570px\" preserveAspectRatio=\"none\" style=\"width:819px;height:570px;\" version=\"1.1\" viewBox=\"0 0 819 570\" width=\"819px\" zoomAndPan=\"magnify\"><defs/><g><!--MD5=[fbc87193dbaf4d95561dea2c320d4a47]\n",
       "cluster E1--><a href=\"psysml:800f45c9-cf5c-46ce-b3c3-487778cd6319\" target=\"_top\" title=\"psysml:800f45c9-cf5c-46ce-b3c3-487778cd6319\" xlink:actuate=\"onRequest\" xlink:href=\"psysml:800f45c9-cf5c-46ce-b3c3-487778cd6319\" xlink:show=\"new\" xlink:title=\"psysml:800f45c9-cf5c-46ce-b3c3-487778cd6319\" xlink:type=\"simple\"><polygon fill=\"#FFFFFF\" points=\"16,6,98,6,105,28.2969,797,28.2969,797,558,16,558,16,6\" style=\"stroke: #000000; stroke-width: 1.5;\"/><line style=\"stroke: #000000; stroke-width: 1.5;\" x1=\"16\" x2=\"105\" y1=\"28.2969\" y2=\"28.2969\"/><text fill=\"#000000\" font-family=\"sans-serif\" font-size=\"14\" font-weight=\"bold\" lengthAdjust=\"spacingAndGlyphs\" textLength=\"76\" x=\"20\" y=\"20.9951\">StateTest</text></a><!--MD5=[14e3b0961a2654348d326746436168a1]\n",
       "cluster E6--><a href=\"psysml:f2a66a23-1197-47ed-b1bd-74e1ad61d6fd\" target=\"_top\" title=\"psysml:f2a66a23-1197-47ed-b1bd-74e1ad61d6fd\" xlink:actuate=\"onRequest\" xlink:href=\"psysml:f2a66a23-1197-47ed-b1bd-74e1ad61d6fd\" xlink:show=\"new\" xlink:title=\"psysml:f2a66a23-1197-47ed-b1bd-74e1ad61d6fd\" xlink:type=\"simple\"><rect fill=\"#FFFFFF\" height=\"485\" id=\"E6\" style=\"stroke: #383838; stroke-width: 1.5;\" width=\"327\" x=\"446\" y=\"49\"/><rect fill=\"#F8F8F8\" height=\"37.9375\" style=\"stroke: #383838; stroke-width: 1.5;\" width=\"327\" x=\"446\" y=\"49\"/><text fill=\"#000000\" font-family=\"sans-serif\" font-size=\"12\" font-style=\"italic\" lengthAdjust=\"spacingAndGlyphs\" textLength=\"71\" x=\"574\" y=\"65.1387\">«state def»</text><text fill=\"#000000\" font-family=\"sans-serif\" font-size=\"12\" lengthAdjust=\"spacingAndGlyphs\" textLength=\"8\" x=\"605.5\" y=\"79.1074\">S</text><line style=\"stroke: #383838; stroke-width: 1.0;\" x1=\"446\" x2=\"773\" y1=\"132.8438\" y2=\"132.8438\"/><text fill=\"#000000\" font-family=\"sans-serif\" font-size=\"12\" font-weight=\"bold\" lengthAdjust=\"spacingAndGlyphs\" textLength=\"38\" x=\"451\" y=\"100.0762\">entry</text><text fill=\"#000000\" font-family=\"sans-serif\" font-size=\"12\" lengthAdjust=\"spacingAndGlyphs\" textLength=\"16\" x=\"489\" y=\"100.0762\">/ A</text><text fill=\"#000000\" font-family=\"sans-serif\" font-size=\"12\" font-weight=\"bold\" lengthAdjust=\"spacingAndGlyphs\" textLength=\"18\" x=\"451\" y=\"114.0449\">do</text><text fill=\"#000000\" font-family=\"sans-serif\" font-size=\"12\" lengthAdjust=\"spacingAndGlyphs\" textLength=\"16\" x=\"469\" y=\"114.0449\">/ B</text><text fill=\"#000000\" font-family=\"sans-serif\" font-size=\"12\" font-weight=\"bold\" lengthAdjust=\"spacingAndGlyphs\" textLength=\"26\" x=\"451\" y=\"128.0137\">exit</text><text fill=\"#000000\" font-family=\"sans-serif\" font-size=\"12\" lengthAdjust=\"spacingAndGlyphs\" textLength=\"28\" x=\"477\" y=\"128.0137\">/ act</text></a><!--MD5=[b4997ac47864f28c2f74865a473b2911]\n",
       "class E2--><a href=\"psysml:f1048496-f45f-4de3-be42-17169da36fba\" target=\"_top\" title=\"psysml:f1048496-f45f-4de3-be42-17169da36fba\" xlink:actuate=\"onRequest\" xlink:href=\"psysml:f1048496-f45f-4de3-be42-17169da36fba\" xlink:show=\"new\" xlink:title=\"psysml:f1048496-f45f-4de3-be42-17169da36fba\" xlink:type=\"simple\"><rect fill=\"#FFFFFF\" height=\"75.5469\" id=\"E2\" style=\"stroke: #383838; stroke-width: 1.5;\" width=\"95\" x=\"334.5\" y=\"119\"/><text fill=\"#000000\" font-family=\"sans-serif\" font-size=\"12\" font-style=\"italic\" lengthAdjust=\"spacingAndGlyphs\" textLength=\"93\" x=\"335.5\" y=\"135.1387\">«attribute def»</text><text fill=\"#000000\" font-family=\"sans-serif\" font-size=\"12\" lengthAdjust=\"spacingAndGlyphs\" textLength=\"19\" x=\"372.5\" y=\"149.1074\">Sig</text><line style=\"stroke: #383838; stroke-width: 1.5;\" x1=\"335.5\" x2=\"428.5\" y1=\"156.9375\" y2=\"156.9375\"/><text fill=\"#000000\" font-family=\"sans-serif\" font-size=\"11\" lengthAdjust=\"spacingAndGlyphs\" textLength=\"6\" x=\"340.5\" y=\"187.9526\">x</text><line style=\"stroke: #383838; stroke-width: 1.0;\" x1=\"335.5\" x2=\"354.5\" y1=\"171.3398\" y2=\"171.3398\"/><text fill=\"#000000\" font-family=\"sans-serif\" font-size=\"11\" lengthAdjust=\"spacingAndGlyphs\" textLength=\"55\" x=\"354.5\" y=\"174.6479\">attributes</text><line style=\"stroke: #383838; stroke-width: 1.0;\" x1=\"409.5\" x2=\"428.5\" y1=\"171.3398\" y2=\"171.3398\"/></a><!--MD5=[09b614a08d8cba4a07c9adeb5e0fee81]\n",
       "class E3--><a href=\"psysml:546c6a0a-79ca-4224-b50a-77e407cae485\" target=\"_top\" title=\"psysml:546c6a0a-79ca-4224-b50a-77e407cae485\" xlink:actuate=\"onRequest\" xlink:href=\"psysml:546c6a0a-79ca-4224-b50a-77e407cae485\" xlink:show=\"new\" xlink:title=\"psysml:546c6a0a-79ca-4224-b50a-77e407cae485\" xlink:type=\"simple\"><rect fill=\"#FFFFFF\" height=\"45.9375\" id=\"E3\" style=\"stroke: #383838; stroke-width: 1.5;\" width=\"95\" x=\"204.5\" y=\"134\"/><text fill=\"#000000\" font-family=\"sans-serif\" font-size=\"12\" font-style=\"italic\" lengthAdjust=\"spacingAndGlyphs\" textLength=\"93\" x=\"205.5\" y=\"150.1387\">«attribute def»</text><text fill=\"#000000\" font-family=\"sans-serif\" font-size=\"12\" lengthAdjust=\"spacingAndGlyphs\" textLength=\"22\" x=\"241\" y=\"164.1074\">Exit</text><line style=\"stroke: #383838; stroke-width: 1.5;\" x1=\"205.5\" x2=\"298.5\" y1=\"171.9375\" y2=\"171.9375\"/></a><!--MD5=[ebbe1d658d1005bcc118a6aa81145e00]\n",
       "class E4--><a href=\"psysml:4710131f-7c31-45d9-a6fe-10a60fc8490a\" target=\"_top\" title=\"psysml:4710131f-7c31-45d9-a6fe-10a60fc8490a\" xlink:actuate=\"onRequest\" xlink:href=\"psysml:4710131f-7c31-45d9-a6fe-10a60fc8490a\" xlink:show=\"new\" xlink:title=\"psysml:4710131f-7c31-45d9-a6fe-10a60fc8490a\" xlink:type=\"simple\"><rect fill=\"#FFFFFF\" height=\"45.9375\" id=\"E4\" rx=\"10\" ry=\"10\" style=\"stroke: #383838; stroke-width: 1.5;\" width=\"42\" x=\"127\" y=\"134\"/><text fill=\"#000000\" font-family=\"sans-serif\" font-size=\"12\" font-style=\"italic\" lengthAdjust=\"spacingAndGlyphs\" textLength=\"40\" x=\"128\" y=\"150.1387\">«part»</text><text fill=\"#000000\" font-family=\"sans-serif\" font-size=\"12\" lengthAdjust=\"spacingAndGlyphs\" textLength=\"8\" x=\"144\" y=\"164.1074\">p</text><line style=\"stroke: #383838; stroke-width: 1.5;\" x1=\"128\" x2=\"168\" y1=\"171.9375\" y2=\"171.9375\"/></a><g id=\"E1.E5\"><a href=\"psysml:0b92cdb5-3694-4434-adff-e0b2149bd4e6\" target=\"_top\" title=\"psysml:0b92cdb5-3694-4434-adff-e0b2149bd4e6\" xlink:actuate=\"onRequest\" xlink:href=\"psysml:0b92cdb5-3694-4434-adff-e0b2149bd4e6\" xlink:show=\"new\" xlink:title=\"psysml:0b92cdb5-3694-4434-adff-e0b2149bd4e6\" xlink:type=\"simple\"><rect fill=\"#FFFFFF\" height=\"42.9375\" id=\"E5\" rx=\"10\" ry=\"10\" style=\"stroke: #383838; stroke-width: 1.5;\" width=\"60\" x=\"32\" y=\"135.5\"/><rect fill=\"#F8F8F8\" height=\"37.9375\" rx=\"10\" ry=\"10\" style=\"stroke: #F8F8F8; stroke-width: 1.5;\" width=\"60\" x=\"32\" y=\"135.5\"/><rect fill=\"#F8F8F8\" height=\"10\" style=\"stroke: #F8F8F8; stroke-width: 1.5;\" width=\"60\" x=\"32\" y=\"163.4375\"/><rect fill=\"none\" height=\"42.9375\" id=\"E5\" rx=\"10\" ry=\"10\" style=\"stroke: #383838; stroke-width: 1.5;\" width=\"60\" x=\"32\" y=\"135.5\"/><text fill=\"#000000\" font-family=\"sans-serif\" font-size=\"12\" font-style=\"italic\" lengthAdjust=\"spacingAndGlyphs\" textLength=\"53\" x=\"35.5\" y=\"151.6387\">«action»</text><text fill=\"#000000\" font-family=\"sans-serif\" font-size=\"12\" lengthAdjust=\"spacingAndGlyphs\" textLength=\"20\" x=\"52\" y=\"165.6074\">act</text></a></g><ellipse cx=\"558\" cy=\"157\" fill=\"#000000\" rx=\"10\" ry=\"10\" style=\"stroke: none; stroke-width: 1.0;\"/><ellipse cx=\"583\" cy=\"508\" fill=\"none\" rx=\"10\" ry=\"10\" style=\"stroke: #000000; stroke-width: 1.0;\"/><ellipse cx=\"583.5\" cy=\"508.5\" fill=\"#000000\" rx=\"6\" ry=\"6\" style=\"stroke: none; stroke-width: 1.0;\"/><g id=\"E1.E6.E7\"><a href=\"psysml:0ffea2c5-2698-4589-991c-94f7ac5b0395\" target=\"_top\" title=\"psysml:0ffea2c5-2698-4589-991c-94f7ac5b0395\" xlink:actuate=\"onRequest\" xlink:href=\"psysml:0ffea2c5-2698-4589-991c-94f7ac5b0395\" xlink:show=\"new\" xlink:title=\"psysml:0ffea2c5-2698-4589-991c-94f7ac5b0395\" xlink:type=\"simple\"><rect fill=\"#FFFFFF\" height=\"40\" id=\"E7\" rx=\"10\" ry=\"10\" style=\"stroke: #383838; stroke-width: 1.5;\" width=\"50\" x=\"533\" y=\"256\"/><rect fill=\"#F8F8F8\" height=\"23.9688\" rx=\"10\" ry=\"10\" style=\"stroke: #F8F8F8; stroke-width: 1.5;\" width=\"50\" x=\"533\" y=\"256\"/><rect fill=\"#F8F8F8\" height=\"10\" style=\"stroke: #F8F8F8; stroke-width: 1.5;\" width=\"50\" x=\"533\" y=\"269.9688\"/><rect fill=\"none\" height=\"40\" id=\"E7\" rx=\"10\" ry=\"10\" style=\"stroke: #383838; stroke-width: 1.5;\" width=\"50\" x=\"533\" y=\"256\"/><text fill=\"#000000\" font-family=\"sans-serif\" font-size=\"12\" lengthAdjust=\"spacingAndGlyphs\" textLength=\"16\" x=\"550\" y=\"272.1387\">S1</text></a></g><g id=\"E1.E6.E8\"><a href=\"psysml:f6369ddf-93b2-4791-a9ee-7d090a7e6258\" target=\"_top\" title=\"psysml:f6369ddf-93b2-4791-a9ee-7d090a7e6258\" xlink:actuate=\"onRequest\" xlink:href=\"psysml:f6369ddf-93b2-4791-a9ee-7d090a7e6258\" xlink:show=\"new\" xlink:title=\"psysml:f6369ddf-93b2-4791-a9ee-7d090a7e6258\" xlink:type=\"simple\"><rect fill=\"#FFFFFF\" height=\"47.9375\" id=\"E8\" rx=\"10\" ry=\"10\" style=\"stroke: #383838; stroke-width: 1.5;\" width=\"169\" x=\"498.5\" y=\"373\"/><rect fill=\"#F8F8F8\" height=\"23.9688\" rx=\"10\" ry=\"10\" style=\"stroke: #F8F8F8; stroke-width: 1.5;\" width=\"169\" x=\"498.5\" y=\"373\"/><rect fill=\"#F8F8F8\" height=\"10\" style=\"stroke: #F8F8F8; stroke-width: 1.5;\" width=\"169\" x=\"498.5\" y=\"386.9688\"/><rect fill=\"none\" height=\"47.9375\" id=\"E8\" rx=\"10\" ry=\"10\" style=\"stroke: #383838; stroke-width: 1.5;\" width=\"169\" x=\"498.5\" y=\"373\"/><text fill=\"#000000\" font-family=\"sans-serif\" font-size=\"12\" lengthAdjust=\"spacingAndGlyphs\" textLength=\"16\" x=\"575\" y=\"389.1387\">S2</text><line style=\"stroke: #383838; stroke-width: 1.0;\" x1=\"498.5\" x2=\"667.5\" y1=\"396.9688\" y2=\"396.9688\"/><text fill=\"#000000\" font-family=\"sans-serif\" font-size=\"12\" font-weight=\"bold\" lengthAdjust=\"spacingAndGlyphs\" textLength=\"18\" x=\"503.5\" y=\"410.1074\">do</text><text fill=\"#000000\" font-family=\"sans-serif\" font-size=\"12\" lengthAdjust=\"spacingAndGlyphs\" textLength=\"141\" x=\"521.5\" y=\"410.1074\">/  send Sig(T::s::x) to p</text></a></g><!--MD5=[5a531d3a85f3339e6e197084acb48195]\n",
       "link *start*E6 to E7--><a href=\"psysml:3d6f6111-a5f0-4f07-bf0a-543b5052b3c3\" target=\"_top\" title=\"psysml:3d6f6111-a5f0-4f07-bf0a-543b5052b3c3\" xlink:actuate=\"onRequest\" xlink:href=\"psysml:3d6f6111-a5f0-4f07-bf0a-543b5052b3c3\" xlink:show=\"new\" xlink:title=\"psysml:3d6f6111-a5f0-4f07-bf0a-543b5052b3c3\" xlink:type=\"simple\"><path d=\"M558,167.15 C558,167.15 558,250.67 558,250.67 \" fill=\"none\" id=\"*start*E6-&gt;E7\" style=\"stroke: #383838; stroke-width: 1.0;\"/><polygon fill=\"#383838\" points=\"558,255.67,562,246.67,558,250.67,554,246.67,558,255.67\" style=\"stroke: #383838; stroke-width: 1.0;\"/></a><!--MD5=[7ec9a8babba89ddcae1318ca9fb3c814]\n",
       "link E8 to *end*E6--><a href=\"psysml:374875bf-0004-40f7-bedc-1374d527cde5\" target=\"_top\" title=\"psysml:374875bf-0004-40f7-bedc-1374d527cde5\" xlink:actuate=\"onRequest\" xlink:href=\"psysml:374875bf-0004-40f7-bedc-1374d527cde5\" xlink:show=\"new\" xlink:title=\"psysml:374875bf-0004-40f7-bedc-1374d527cde5\" xlink:type=\"simple\"><path d=\"M583,421.09 C583,421.09 583,492.94 583,492.94 \" fill=\"none\" id=\"E8-&gt;*end*E6\" style=\"stroke: #383838; stroke-width: 1.0;\"/><polygon fill=\"#383838\" points=\"583,497.94,587,488.94,583,492.94,579,488.94,583,497.94\" style=\"stroke: #383838; stroke-width: 1.0;\"/><text fill=\"#000000\" font-family=\"sans-serif\" font-size=\"13\" lengthAdjust=\"spacingAndGlyphs\" textLength=\"23\" x=\"584\" y=\"464.0669\">Exit</text></a><!--MD5=[79bc8f324ef4d02c541433f2e6e513c3]\n",
       "link E7 to E8--><a href=\"psysml:69f1494c-077d-4519-8343-87cce73be713\" target=\"_top\" title=\"psysml:69f1494c-077d-4519-8343-87cce73be713\" xlink:actuate=\"onRequest\" xlink:href=\"psysml:69f1494c-077d-4519-8343-87cce73be713\" xlink:show=\"new\" xlink:title=\"psysml:69f1494c-077d-4519-8343-87cce73be713\" xlink:type=\"simple\"><path d=\"M549.67,296.25 C549.67,296.25 549.67,367.93 549.67,367.93 \" fill=\"none\" id=\"E7-&gt;E8\" style=\"stroke: #383838; stroke-width: 1.0;\"/><polygon fill=\"#383838\" points=\"549.67,372.93,553.67,363.93,549.67,367.93,545.67,363.93,549.67,372.93\" style=\"stroke: #383838; stroke-width: 1.0;\"/><text fill=\"#000000\" font-family=\"sans-serif\" font-size=\"13\" lengthAdjust=\"spacingAndGlyphs\" textLength=\"81\" x=\"498\" y=\"339.0669\">Sig /action D</text></a><!--MD5=[bfa3c8b0d15052fdf50ae9310b491027]\n",
       "link E8 to E7--><a href=\"psysml:f8d53726-bfe5-4353-91f3-ae2ef06d9a38\" target=\"_top\" title=\"psysml:f8d53726-bfe5-4353-91f3-ae2ef06d9a38\" xlink:actuate=\"onRequest\" xlink:href=\"psysml:f8d53726-bfe5-4353-91f3-ae2ef06d9a38\" xlink:show=\"new\" xlink:title=\"psysml:f8d53726-bfe5-4353-91f3-ae2ef06d9a38\" xlink:type=\"simple\"><path d=\"M566.33,372.8 C566.33,372.8 566.33,301.14 566.33,301.14 \" fill=\"none\" id=\"E8-&gt;E7\" style=\"stroke: #383838; stroke-width: 1.0;\"/><polygon fill=\"#383838\" points=\"566.33,296.14,562.33,305.14,566.33,301.14,570.33,305.14,566.33,296.14\" style=\"stroke: #383838; stroke-width: 1.0;\"/><text fill=\"#000000\" font-family=\"sans-serif\" font-size=\"13\" lengthAdjust=\"spacingAndGlyphs\" textLength=\"135\" x=\"621\" y=\"339.0669\">Sig [true]/send s to p</text></a><!--MD5=[67e9b2c13db6cd3ce9bd8e70b3a4c901]\n",
       "@startuml\r\n",
       "skinparam linetype ortho\r\n",
       "skinparam monochrome true\r\n",
       "skinparam classbackgroundcolor white\r\n",
       "skinparam shadowing false\r\n",
       "skinparam wrapWidth 300\r\n",
       "hide circle\r\n",
       "\r\n",
       "package \"StateTest\" as E1  [[psysml:800f45c9-cf5c-46ce-b3c3-487778cd6319 ]]  {\r\n",
       "comp def \"Sig\" as E2  <<(T,blue)attribute def>> [[psysml:f1048496-f45f-4de3-be42-17169da36fba ]] {\r\n",
       "- - attributes - -\r\n",
       "x\r\n",
       "}\r\n",
       "comp def \"Exit\" as E3  <<(T,blue)attribute def>> [[psysml:546c6a0a-79ca-4224-b50a-77e407cae485 ]] {\r\n",
       "}\r\n",
       "comp usage \"p\" as E4  <<(T,blue)part>> [[psysml:4710131f-7c31-45d9-a6fe-10a60fc8490a ]] {\r\n",
       "}\r\n",
       "rec usage \"act\" as E5  <<(T,blue)action>> [[psysml:0b92cdb5-3694-4434-adff-e0b2149bd4e6 ]] {\r\n",
       "}\r\n",
       "\r\n",
       "rec def \"S\" as E6  <<(T,blue)state def>> [[psysml:f2a66a23-1197-47ed-b1bd-74e1ad61d6fd ]] {\r\n",
       "rec usage \"S1\" as E7 [[psysml:0ffea2c5-2698-4589-991c-94f7ac5b0395 ]] {\r\n",
       "}\r\n",
       "\r\n",
       "rec usage \"S2\" as E8 [[psysml:f6369ddf-93b2-4791-a9ee-7d090a7e6258 ]] {\r\n",
       "desc \"S2\" as E8  : **do**/  send Sig(T::s::x) to p\r\n",
       "}\r\n",
       "\r\n",
       "desc \"S\" as E6  : **entry**/ A\r\n",
       "desc \"S\" as E6  : **do**/ B\r\n",
       "desc \"S\" as E6  : **exit**/ act \r\n",
       "[*] - -> E7 [[psysml:3d6f6111-a5f0-4f07-bf0a-543b5052b3c3 ]] \r\n",
       "E8  - -> [*] [[psysml:374875bf-0004-40f7-bedc-1374d527cde5 ]] : Exit \r\n",
       "}\r\n",
       "\r\n",
       "E7  - -> E8 [[psysml:69f1494c-077d-4519-8343-87cce73be713 ]] : Sig /action D\r\n",
       "E8  - -> E7 [[psysml:f8d53726-bfe5-4353-91f3-ae2ef06d9a38 ]] : Sig [true]/send s to p\r\n",
       "}\r\n",
       "@enduml\r\n",
       "\n",
       "PlantUML version 1.2020.13(Sat Jun 13 12:26:38 UTC 2020)\n",
       "(EPL source distribution)\n",
       "Java Runtime: OpenJDK Runtime Environment\n",
       "JVM: OpenJDK 64-Bit Server VM\n",
       "Default Encoding: UTF-8\n",
       "Language: en\n",
       "Country: null\n",
       "--></g></svg>"
      ]
     },
     "execution_count": 51,
     "metadata": {},
     "output_type": "execute_result"
    }
   ],
   "source": [
    "%viz --style=\"ORTHOLINE\" --view=\"Default\" \"StateTest\""
   ]
  },
  {
   "cell_type": "code",
   "execution_count": 52,
   "id": "a25173c0",
   "metadata": {
    "execution": {
     "iopub.execute_input": "2021-04-21T20:23:46.193383Z",
     "iopub.status.busy": "2021-04-21T20:23:46.192850Z",
     "iopub.status.idle": "2021-04-21T20:23:46.295128Z",
     "shell.execute_reply": "2021-04-21T20:23:46.294789Z"
    }
   },
   "outputs": [
    {
     "data": {
      "image/svg+xml": [
       "<?xml version=\"1.0\" encoding=\"UTF-8\" standalone=\"no\"?><svg xmlns=\"http://www.w3.org/2000/svg\" xmlns:xlink=\"http://www.w3.org/1999/xlink\" contentScriptType=\"application/ecmascript\" contentStyleType=\"text/css\" height=\"365px\" preserveAspectRatio=\"none\" style=\"width:594px;height:365px;\" version=\"1.1\" viewBox=\"0 0 594 365\" width=\"594px\" zoomAndPan=\"magnify\"><defs/><g><!--MD5=[fbc87193dbaf4d95561dea2c320d4a47]\n",
       "cluster E1--><a href=\"psysml:800f45c9-cf5c-46ce-b3c3-487778cd6319\" target=\"_top\" title=\"psysml:800f45c9-cf5c-46ce-b3c3-487778cd6319\" xlink:actuate=\"onRequest\" xlink:href=\"psysml:800f45c9-cf5c-46ce-b3c3-487778cd6319\" xlink:show=\"new\" xlink:title=\"psysml:800f45c9-cf5c-46ce-b3c3-487778cd6319\" xlink:type=\"simple\"><polygon fill=\"#FFFFFF\" points=\"16,6,98,6,105,28.2969,572,28.2969,572,353,16,353,16,6\" style=\"stroke: #000000; stroke-width: 1.5;\"/><line style=\"stroke: #000000; stroke-width: 1.5;\" x1=\"16\" x2=\"105\" y1=\"28.2969\" y2=\"28.2969\"/><text fill=\"#000000\" font-family=\"sans-serif\" font-size=\"14\" font-weight=\"bold\" lengthAdjust=\"spacingAndGlyphs\" textLength=\"76\" x=\"20\" y=\"20.9951\">StateTest</text></a><!--MD5=[b4997ac47864f28c2f74865a473b2911]\n",
       "class E2--><a href=\"psysml:f1048496-f45f-4de3-be42-17169da36fba\" target=\"_top\" title=\"psysml:f1048496-f45f-4de3-be42-17169da36fba\" xlink:actuate=\"onRequest\" xlink:href=\"psysml:f1048496-f45f-4de3-be42-17169da36fba\" xlink:show=\"new\" xlink:title=\"psysml:f1048496-f45f-4de3-be42-17169da36fba\" xlink:type=\"simple\"><rect fill=\"#FFFFFF\" height=\"75.5469\" id=\"E2\" style=\"stroke: #383838; stroke-width: 1.5;\" width=\"95\" x=\"460.5\" y=\"83\"/><text fill=\"#000000\" font-family=\"sans-serif\" font-size=\"12\" font-style=\"italic\" lengthAdjust=\"spacingAndGlyphs\" textLength=\"93\" x=\"461.5\" y=\"99.1387\">«attribute def»</text><text fill=\"#000000\" font-family=\"sans-serif\" font-size=\"12\" lengthAdjust=\"spacingAndGlyphs\" textLength=\"19\" x=\"498.5\" y=\"113.1074\">Sig</text><line style=\"stroke: #383838; stroke-width: 1.5;\" x1=\"461.5\" x2=\"554.5\" y1=\"120.9375\" y2=\"120.9375\"/><text fill=\"#000000\" font-family=\"sans-serif\" font-size=\"11\" lengthAdjust=\"spacingAndGlyphs\" textLength=\"6\" x=\"466.5\" y=\"151.9526\">x</text><line style=\"stroke: #383838; stroke-width: 1.0;\" x1=\"461.5\" x2=\"480.5\" y1=\"135.3398\" y2=\"135.3398\"/><text fill=\"#000000\" font-family=\"sans-serif\" font-size=\"11\" lengthAdjust=\"spacingAndGlyphs\" textLength=\"55\" x=\"480.5\" y=\"138.6479\">attributes</text><line style=\"stroke: #383838; stroke-width: 1.0;\" x1=\"535.5\" x2=\"554.5\" y1=\"135.3398\" y2=\"135.3398\"/></a><!--MD5=[09b614a08d8cba4a07c9adeb5e0fee81]\n",
       "class E3--><a href=\"psysml:546c6a0a-79ca-4224-b50a-77e407cae485\" target=\"_top\" title=\"psysml:546c6a0a-79ca-4224-b50a-77e407cae485\" xlink:actuate=\"onRequest\" xlink:href=\"psysml:546c6a0a-79ca-4224-b50a-77e407cae485\" xlink:show=\"new\" xlink:title=\"psysml:546c6a0a-79ca-4224-b50a-77e407cae485\" xlink:type=\"simple\"><rect fill=\"#FFFFFF\" height=\"45.9375\" id=\"E3\" style=\"stroke: #383838; stroke-width: 1.5;\" width=\"95\" x=\"330.5\" y=\"98\"/><text fill=\"#000000\" font-family=\"sans-serif\" font-size=\"12\" font-style=\"italic\" lengthAdjust=\"spacingAndGlyphs\" textLength=\"93\" x=\"331.5\" y=\"114.1387\">«attribute def»</text><text fill=\"#000000\" font-family=\"sans-serif\" font-size=\"12\" lengthAdjust=\"spacingAndGlyphs\" textLength=\"22\" x=\"367\" y=\"128.1074\">Exit</text><line style=\"stroke: #383838; stroke-width: 1.5;\" x1=\"331.5\" x2=\"424.5\" y1=\"135.9375\" y2=\"135.9375\"/></a><!--MD5=[ebbe1d658d1005bcc118a6aa81145e00]\n",
       "class E4--><a href=\"psysml:4710131f-7c31-45d9-a6fe-10a60fc8490a\" target=\"_top\" title=\"psysml:4710131f-7c31-45d9-a6fe-10a60fc8490a\" xlink:actuate=\"onRequest\" xlink:href=\"psysml:4710131f-7c31-45d9-a6fe-10a60fc8490a\" xlink:show=\"new\" xlink:title=\"psysml:4710131f-7c31-45d9-a6fe-10a60fc8490a\" xlink:type=\"simple\"><rect fill=\"#FFFFFF\" height=\"45.9375\" id=\"E4\" rx=\"10\" ry=\"10\" style=\"stroke: #383838; stroke-width: 1.5;\" width=\"42\" x=\"253\" y=\"98\"/><text fill=\"#000000\" font-family=\"sans-serif\" font-size=\"12\" font-style=\"italic\" lengthAdjust=\"spacingAndGlyphs\" textLength=\"40\" x=\"254\" y=\"114.1387\">«part»</text><text fill=\"#000000\" font-family=\"sans-serif\" font-size=\"12\" lengthAdjust=\"spacingAndGlyphs\" textLength=\"8\" x=\"270\" y=\"128.1074\">p</text><line style=\"stroke: #383838; stroke-width: 1.5;\" x1=\"254\" x2=\"294\" y1=\"135.9375\" y2=\"135.9375\"/></a><!--MD5=[270fce915f116d4de14055a7c1d9a0f3]\n",
       "class E5--><a href=\"psysml:0b92cdb5-3694-4434-adff-e0b2149bd4e6\" target=\"_top\" title=\"psysml:0b92cdb5-3694-4434-adff-e0b2149bd4e6\" xlink:actuate=\"onRequest\" xlink:href=\"psysml:0b92cdb5-3694-4434-adff-e0b2149bd4e6\" xlink:show=\"new\" xlink:title=\"psysml:0b92cdb5-3694-4434-adff-e0b2149bd4e6\" xlink:type=\"simple\"><rect fill=\"#FFFFFF\" height=\"45.9375\" id=\"E5\" rx=\"10\" ry=\"10\" style=\"stroke: #383838; stroke-width: 1.5;\" width=\"55\" x=\"162.5\" y=\"98\"/><text fill=\"#000000\" font-family=\"sans-serif\" font-size=\"12\" font-style=\"italic\" lengthAdjust=\"spacingAndGlyphs\" textLength=\"53\" x=\"163.5\" y=\"114.1387\">«action»</text><text fill=\"#000000\" font-family=\"sans-serif\" font-size=\"12\" lengthAdjust=\"spacingAndGlyphs\" textLength=\"20\" x=\"180\" y=\"128.1074\">act</text><line style=\"stroke: #383838; stroke-width: 1.5;\" x1=\"163.5\" x2=\"216.5\" y1=\"135.9375\" y2=\"135.9375\"/></a><!--MD5=[60a26617385b1d2d0262a64233df1f8d]\n",
       "class E6--><a href=\"psysml:f2a66a23-1197-47ed-b1bd-74e1ad61d6fd\" target=\"_top\" title=\"psysml:f2a66a23-1197-47ed-b1bd-74e1ad61d6fd\" xlink:actuate=\"onRequest\" xlink:href=\"psysml:f2a66a23-1197-47ed-b1bd-74e1ad61d6fd\" xlink:show=\"new\" xlink:title=\"psysml:f2a66a23-1197-47ed-b1bd-74e1ad61d6fd\" xlink:type=\"simple\"><rect fill=\"#FFFFFF\" height=\"160.375\" id=\"E6\" style=\"stroke: #383838; stroke-width: 1.5;\" width=\"95\" x=\"32.5\" y=\"41\"/><text fill=\"#000000\" font-family=\"sans-serif\" font-size=\"12\" font-style=\"italic\" lengthAdjust=\"spacingAndGlyphs\" textLength=\"71\" x=\"44.5\" y=\"57.1387\">«state def»</text><text fill=\"#000000\" font-family=\"sans-serif\" font-size=\"12\" lengthAdjust=\"spacingAndGlyphs\" textLength=\"8\" x=\"76\" y=\"71.1074\">S</text><line style=\"stroke: #383838; stroke-width: 1.5;\" x1=\"33.5\" x2=\"126.5\" y1=\"78.9375\" y2=\"78.9375\"/><text fill=\"#000000\" font-family=\"sans-serif\" font-size=\"11\" lengthAdjust=\"spacingAndGlyphs\" textLength=\"17\" x=\"38.5\" y=\"109.9526\">act</text><text fill=\"#000000\" font-family=\"sans-serif\" font-size=\"11\" lengthAdjust=\"spacingAndGlyphs\" textLength=\"7\" x=\"38.5\" y=\"122.7573\">A</text><text fill=\"#000000\" font-family=\"sans-serif\" font-size=\"11\" lengthAdjust=\"spacingAndGlyphs\" textLength=\"8\" x=\"38.5\" y=\"135.562\">B</text><line style=\"stroke: #383838; stroke-width: 1.0;\" x1=\"33.5\" x2=\"36.5\" y1=\"93.3398\" y2=\"93.3398\"/><text fill=\"#000000\" font-family=\"sans-serif\" font-size=\"11\" lengthAdjust=\"spacingAndGlyphs\" textLength=\"87\" x=\"36.5\" y=\"96.6479\">performActions</text><line style=\"stroke: #383838; stroke-width: 1.0;\" x1=\"123.5\" x2=\"126.5\" y1=\"93.3398\" y2=\"93.3398\"/><text fill=\"#000000\" font-family=\"sans-serif\" font-size=\"11\" lengthAdjust=\"spacingAndGlyphs\" textLength=\"15\" x=\"38.5\" y=\"165.1714\">S1</text><line style=\"stroke: #383838; stroke-width: 1.0;\" x1=\"33.5\" x2=\"62\" y1=\"148.5586\" y2=\"148.5586\"/><text fill=\"#000000\" font-family=\"sans-serif\" font-size=\"11\" lengthAdjust=\"spacingAndGlyphs\" textLength=\"36\" x=\"62\" y=\"151.8667\">states</text><line style=\"stroke: #383838; stroke-width: 1.0;\" x1=\"98\" x2=\"126.5\" y1=\"148.5586\" y2=\"148.5586\"/><text fill=\"#000000\" font-family=\"sans-serif\" font-size=\"11\" lengthAdjust=\"spacingAndGlyphs\" textLength=\"7\" x=\"38.5\" y=\"194.7808\">T</text><line style=\"stroke: #383838; stroke-width: 1.0;\" x1=\"33.5\" x2=\"49.5\" y1=\"178.168\" y2=\"178.168\"/><text fill=\"#000000\" font-family=\"sans-serif\" font-size=\"11\" lengthAdjust=\"spacingAndGlyphs\" textLength=\"61\" x=\"49.5\" y=\"181.4761\">transitions</text><line style=\"stroke: #383838; stroke-width: 1.0;\" x1=\"110.5\" x2=\"126.5\" y1=\"178.168\" y2=\"178.168\"/></a><!--MD5=[1dd1bfd58a279cf63c5f349dbc8fc6a1]\n",
       "class E11--><a href=\"psysml:f6369ddf-93b2-4791-a9ee-7d090a7e6258\" target=\"_top\" title=\"psysml:f6369ddf-93b2-4791-a9ee-7d090a7e6258\" xlink:actuate=\"onRequest\" xlink:href=\"psysml:f6369ddf-93b2-4791-a9ee-7d090a7e6258\" xlink:show=\"new\" xlink:title=\"psysml:f6369ddf-93b2-4791-a9ee-7d090a7e6258\" xlink:type=\"simple\"><rect fill=\"#FFFFFF\" height=\"75.5469\" id=\"E11\" rx=\"10\" ry=\"10\" style=\"stroke: #383838; stroke-width: 1.5;\" width=\"77\" x=\"41.5\" y=\"261\"/><text fill=\"#000000\" font-family=\"sans-serif\" font-size=\"12\" font-style=\"italic\" lengthAdjust=\"spacingAndGlyphs\" textLength=\"47\" x=\"56.5\" y=\"277.1387\">«state»</text><text fill=\"#000000\" font-family=\"sans-serif\" font-size=\"12\" lengthAdjust=\"spacingAndGlyphs\" textLength=\"16\" x=\"72\" y=\"291.1074\">S2</text><line style=\"stroke: #383838; stroke-width: 1.5;\" x1=\"42.5\" x2=\"117.5\" y1=\"298.9375\" y2=\"298.9375\"/><text fill=\"#000000\" font-family=\"sans-serif\" font-size=\"11\" lengthAdjust=\"spacingAndGlyphs\" textLength=\"48\" x=\"47.5\" y=\"329.9526\">doAction</text><line style=\"stroke: #383838; stroke-width: 1.0;\" x1=\"42.5\" x2=\"45.5\" y1=\"313.3398\" y2=\"313.3398\"/><text fill=\"#000000\" font-family=\"sans-serif\" font-size=\"11\" lengthAdjust=\"spacingAndGlyphs\" textLength=\"69\" x=\"45.5\" y=\"316.6479\">sendActions</text><line style=\"stroke: #383838; stroke-width: 1.0;\" x1=\"114.5\" x2=\"117.5\" y1=\"313.3398\" y2=\"313.3398\"/></a><!--MD5=[1f5f03483f7de0d5b3680a7f6650997f]\n",
       "reverse link E6 to E11--><a href=\"psysml:247e0169-6466-401b-83f0-032a7b21c539\" target=\"_top\" title=\"psysml:247e0169-6466-401b-83f0-032a7b21c539\" xlink:actuate=\"onRequest\" xlink:href=\"psysml:247e0169-6466-401b-83f0-032a7b21c539\" xlink:show=\"new\" xlink:title=\"psysml:247e0169-6466-401b-83f0-032a7b21c539\" xlink:type=\"simple\"><path d=\"M80,214.15 C80,214.15 80,260.57 80,260.57 \" fill=\"none\" id=\"E6&lt;-E11\" style=\"stroke: #383838; stroke-width: 1.0;\"/><polygon fill=\"#383838\" points=\"80,201.15,76,207.15,80,213.15,84,207.15,80,201.15\" style=\"stroke: #383838; stroke-width: 1.0;\"/></a><!--MD5=[6a3ac8eae67cab6ed8a16ec1f6902b2c]\n",
       "@startuml\r\n",
       "skinparam linetype ortho\r\n",
       "skinparam monochrome true\r\n",
       "skinparam classbackgroundcolor white\r\n",
       "skinparam shadowing false\r\n",
       "skinparam wrapWidth 300\r\n",
       "hide circle\r\n",
       "\r\n",
       "package \"StateTest\" as E1  [[psysml:800f45c9-cf5c-46ce-b3c3-487778cd6319 ]]  {\r\n",
       "comp def \"Sig\" as E2  <<(T,blue)attribute def>> [[psysml:f1048496-f45f-4de3-be42-17169da36fba ]] {\r\n",
       "- - attributes - -\r\n",
       "x\r\n",
       "}\r\n",
       "comp def \"Exit\" as E3  <<(T,blue)attribute def>> [[psysml:546c6a0a-79ca-4224-b50a-77e407cae485 ]] {\r\n",
       "}\r\n",
       "comp usage \"p\" as E4  <<(T,blue)part>> [[psysml:4710131f-7c31-45d9-a6fe-10a60fc8490a ]] {\r\n",
       "}\r\n",
       "comp usage \"act\" as E5  <<(T,blue)action>> [[psysml:0b92cdb5-3694-4434-adff-e0b2149bd4e6 ]] {\r\n",
       "}\r\n",
       "comp def \"S\" as E6  <<(T,blue)state def>> [[psysml:f2a66a23-1197-47ed-b1bd-74e1ad61d6fd ]] {\r\n",
       "- - performActions - -\r\n",
       "act\r\n",
       "A\r\n",
       "B\r\n",
       "- - states - -\r\n",
       "S1\r\n",
       "- - transitions - -\r\n",
       "T\r\n",
       "}\r\n",
       "comp usage \"S2\" as E11  <<(T,blue)state>> [[psysml:f6369ddf-93b2-4791-a9ee-7d090a7e6258 ]] {\r\n",
       "- - sendActions - -\r\n",
       "doAction\r\n",
       "}\r\n",
       "E6 *- - E11 [[psysml:247e0169-6466-401b-83f0-032a7b21c539 ]] \r\n",
       "}\r\n",
       "@enduml\r\n",
       "\n",
       "PlantUML version 1.2020.13(Sat Jun 13 12:26:38 UTC 2020)\n",
       "(EPL source distribution)\n",
       "Java Runtime: OpenJDK Runtime Environment\n",
       "JVM: OpenJDK 64-Bit Server VM\n",
       "Default Encoding: UTF-8\n",
       "Language: en\n",
       "Country: null\n",
       "--></g></svg>"
      ]
     },
     "execution_count": 52,
     "metadata": {},
     "output_type": "execute_result"
    }
   ],
   "source": [
    "%viz --style=\"ORTHOLINE\" --view=\"Tree\" \"StateTest\""
   ]
  },
  {
   "cell_type": "code",
   "execution_count": 53,
   "id": "cc76a018",
   "metadata": {
    "execution": {
     "iopub.execute_input": "2021-04-21T20:23:46.346247Z",
     "iopub.status.busy": "2021-04-21T20:23:46.345055Z",
     "iopub.status.idle": "2021-04-21T20:23:46.375070Z",
     "shell.execute_reply": "2021-04-21T20:23:46.373891Z"
    }
   },
   "outputs": [
    {
     "data": {
      "image/svg+xml": [
       "<?xml version=\"1.0\" encoding=\"UTF-8\" standalone=\"no\"?><svg xmlns=\"http://www.w3.org/2000/svg\" xmlns:xlink=\"http://www.w3.org/1999/xlink\" contentScriptType=\"application/ecmascript\" contentStyleType=\"text/css\" height=\"475px\" preserveAspectRatio=\"none\" style=\"width:346px;height:475px;\" version=\"1.1\" viewBox=\"0 0 346 475\" width=\"346px\" zoomAndPan=\"magnify\"><defs/><g><!--MD5=[fbc87193dbaf4d95561dea2c320d4a47]\n",
       "cluster E1--><a href=\"psysml:f2a66a23-1197-47ed-b1bd-74e1ad61d6fd\" target=\"_top\" title=\"psysml:f2a66a23-1197-47ed-b1bd-74e1ad61d6fd\" xlink:actuate=\"onRequest\" xlink:href=\"psysml:f2a66a23-1197-47ed-b1bd-74e1ad61d6fd\" xlink:show=\"new\" xlink:title=\"psysml:f2a66a23-1197-47ed-b1bd-74e1ad61d6fd\" xlink:type=\"simple\"><rect fill=\"#FFFFFF\" height=\"457\" id=\"E1\" style=\"stroke: #383838; stroke-width: 1.5;\" width=\"327\" x=\"7\" y=\"7\"/><rect fill=\"#F8F8F8\" height=\"37.9375\" style=\"stroke: #383838; stroke-width: 1.5;\" width=\"327\" x=\"7\" y=\"7\"/><text fill=\"#000000\" font-family=\"sans-serif\" font-size=\"12\" font-style=\"italic\" lengthAdjust=\"spacingAndGlyphs\" textLength=\"71\" x=\"135\" y=\"23.1387\">«state def»</text><text fill=\"#000000\" font-family=\"sans-serif\" font-size=\"12\" lengthAdjust=\"spacingAndGlyphs\" textLength=\"8\" x=\"166.5\" y=\"37.1074\">S</text><line style=\"stroke: #383838; stroke-width: 1.0;\" x1=\"7\" x2=\"334\" y1=\"90.8438\" y2=\"90.8438\"/><text fill=\"#000000\" font-family=\"sans-serif\" font-size=\"12\" font-weight=\"bold\" lengthAdjust=\"spacingAndGlyphs\" textLength=\"38\" x=\"12\" y=\"58.0762\">entry</text><text fill=\"#000000\" font-family=\"sans-serif\" font-size=\"12\" lengthAdjust=\"spacingAndGlyphs\" textLength=\"16\" x=\"50\" y=\"58.0762\">/ A</text><text fill=\"#000000\" font-family=\"sans-serif\" font-size=\"12\" font-weight=\"bold\" lengthAdjust=\"spacingAndGlyphs\" textLength=\"18\" x=\"12\" y=\"72.0449\">do</text><text fill=\"#000000\" font-family=\"sans-serif\" font-size=\"12\" lengthAdjust=\"spacingAndGlyphs\" textLength=\"16\" x=\"30\" y=\"72.0449\">/ B</text><text fill=\"#000000\" font-family=\"sans-serif\" font-size=\"12\" font-weight=\"bold\" lengthAdjust=\"spacingAndGlyphs\" textLength=\"26\" x=\"12\" y=\"86.0137\">exit</text><text fill=\"#000000\" font-family=\"sans-serif\" font-size=\"12\" lengthAdjust=\"spacingAndGlyphs\" textLength=\"28\" x=\"38\" y=\"86.0137\">/ act</text></a><ellipse cx=\"119\" cy=\"115\" fill=\"#000000\" rx=\"10\" ry=\"10\" style=\"stroke: none; stroke-width: 1.0;\"/><ellipse cx=\"144\" cy=\"438\" fill=\"none\" rx=\"10\" ry=\"10\" style=\"stroke: #000000; stroke-width: 1.0;\"/><ellipse cx=\"144.5\" cy=\"438.5\" fill=\"#000000\" rx=\"6\" ry=\"6\" style=\"stroke: none; stroke-width: 1.0;\"/><g id=\"E1.E2\"><a href=\"psysml:0ffea2c5-2698-4589-991c-94f7ac5b0395\" target=\"_top\" title=\"psysml:0ffea2c5-2698-4589-991c-94f7ac5b0395\" xlink:actuate=\"onRequest\" xlink:href=\"psysml:0ffea2c5-2698-4589-991c-94f7ac5b0395\" xlink:show=\"new\" xlink:title=\"psysml:0ffea2c5-2698-4589-991c-94f7ac5b0395\" xlink:type=\"simple\"><rect fill=\"#FFFFFF\" height=\"40\" id=\"E2\" rx=\"10\" ry=\"10\" style=\"stroke: #383838; stroke-width: 1.5;\" width=\"50\" x=\"94\" y=\"186\"/><rect fill=\"#F8F8F8\" height=\"23.9688\" rx=\"10\" ry=\"10\" style=\"stroke: #F8F8F8; stroke-width: 1.5;\" width=\"50\" x=\"94\" y=\"186\"/><rect fill=\"#F8F8F8\" height=\"10\" style=\"stroke: #F8F8F8; stroke-width: 1.5;\" width=\"50\" x=\"94\" y=\"199.9688\"/><rect fill=\"none\" height=\"40\" id=\"E2\" rx=\"10\" ry=\"10\" style=\"stroke: #383838; stroke-width: 1.5;\" width=\"50\" x=\"94\" y=\"186\"/><text fill=\"#000000\" font-family=\"sans-serif\" font-size=\"12\" lengthAdjust=\"spacingAndGlyphs\" textLength=\"16\" x=\"111\" y=\"202.1387\">S1</text></a></g><g id=\"E1.E3\"><a href=\"psysml:f6369ddf-93b2-4791-a9ee-7d090a7e6258\" target=\"_top\" title=\"psysml:f6369ddf-93b2-4791-a9ee-7d090a7e6258\" xlink:actuate=\"onRequest\" xlink:href=\"psysml:f6369ddf-93b2-4791-a9ee-7d090a7e6258\" xlink:show=\"new\" xlink:title=\"psysml:f6369ddf-93b2-4791-a9ee-7d090a7e6258\" xlink:type=\"simple\"><rect fill=\"#FFFFFF\" height=\"47.9375\" id=\"E3\" rx=\"10\" ry=\"10\" style=\"stroke: #383838; stroke-width: 1.5;\" width=\"169\" x=\"59.5\" y=\"303\"/><rect fill=\"#F8F8F8\" height=\"23.9688\" rx=\"10\" ry=\"10\" style=\"stroke: #F8F8F8; stroke-width: 1.5;\" width=\"169\" x=\"59.5\" y=\"303\"/><rect fill=\"#F8F8F8\" height=\"10\" style=\"stroke: #F8F8F8; stroke-width: 1.5;\" width=\"169\" x=\"59.5\" y=\"316.9688\"/><rect fill=\"none\" height=\"47.9375\" id=\"E3\" rx=\"10\" ry=\"10\" style=\"stroke: #383838; stroke-width: 1.5;\" width=\"169\" x=\"59.5\" y=\"303\"/><text fill=\"#000000\" font-family=\"sans-serif\" font-size=\"12\" lengthAdjust=\"spacingAndGlyphs\" textLength=\"16\" x=\"136\" y=\"319.1387\">S2</text><line style=\"stroke: #383838; stroke-width: 1.0;\" x1=\"59.5\" x2=\"228.5\" y1=\"326.9688\" y2=\"326.9688\"/><text fill=\"#000000\" font-family=\"sans-serif\" font-size=\"12\" font-weight=\"bold\" lengthAdjust=\"spacingAndGlyphs\" textLength=\"18\" x=\"64.5\" y=\"340.1074\">do</text><text fill=\"#000000\" font-family=\"sans-serif\" font-size=\"12\" lengthAdjust=\"spacingAndGlyphs\" textLength=\"141\" x=\"82.5\" y=\"340.1074\">/  send Sig(T::s::x) to p</text></a></g><!--MD5=[cff944eb183b832d446717a4e202d613]\n",
       "link *start*E1 to E2--><a href=\"psysml:3d6f6111-a5f0-4f07-bf0a-543b5052b3c3\" target=\"_top\" title=\"psysml:3d6f6111-a5f0-4f07-bf0a-543b5052b3c3\" xlink:actuate=\"onRequest\" xlink:href=\"psysml:3d6f6111-a5f0-4f07-bf0a-543b5052b3c3\" xlink:show=\"new\" xlink:title=\"psysml:3d6f6111-a5f0-4f07-bf0a-543b5052b3c3\" xlink:type=\"simple\"><path d=\"M119,125.09 C119,125.09 119,180.93 119,180.93 \" fill=\"none\" id=\"*start*E1-&gt;E2\" style=\"stroke: #383838; stroke-width: 1.0;\"/><polygon fill=\"#383838\" points=\"119,185.93,123,176.93,119,180.93,115,176.93,119,185.93\" style=\"stroke: #383838; stroke-width: 1.0;\"/></a><!--MD5=[9ee7afa76ca8c509b3d216624c3a9893]\n",
       "link E3 to *end*E1--><a href=\"psysml:374875bf-0004-40f7-bedc-1374d527cde5\" target=\"_top\" title=\"psysml:374875bf-0004-40f7-bedc-1374d527cde5\" xlink:actuate=\"onRequest\" xlink:href=\"psysml:374875bf-0004-40f7-bedc-1374d527cde5\" xlink:show=\"new\" xlink:title=\"psysml:374875bf-0004-40f7-bedc-1374d527cde5\" xlink:type=\"simple\"><path d=\"M144,351.09 C144,351.09 144,422.94 144,422.94 \" fill=\"none\" id=\"E3-&gt;*end*E1\" style=\"stroke: #383838; stroke-width: 1.0;\"/><polygon fill=\"#383838\" points=\"144,427.94,148,418.94,144,422.94,140,418.94,144,427.94\" style=\"stroke: #383838; stroke-width: 1.0;\"/><text fill=\"#000000\" font-family=\"sans-serif\" font-size=\"13\" lengthAdjust=\"spacingAndGlyphs\" textLength=\"23\" x=\"145\" y=\"394.0669\">Exit</text></a><!--MD5=[2720a5a1f2c3fca2055b230370638851]\n",
       "link E2 to E3--><a href=\"psysml:69f1494c-077d-4519-8343-87cce73be713\" target=\"_top\" title=\"psysml:69f1494c-077d-4519-8343-87cce73be713\" xlink:actuate=\"onRequest\" xlink:href=\"psysml:69f1494c-077d-4519-8343-87cce73be713\" xlink:show=\"new\" xlink:title=\"psysml:69f1494c-077d-4519-8343-87cce73be713\" xlink:type=\"simple\"><path d=\"M110.67,226.25 C110.67,226.25 110.67,297.93 110.67,297.93 \" fill=\"none\" id=\"E2-&gt;E3\" style=\"stroke: #383838; stroke-width: 1.0;\"/><polygon fill=\"#383838\" points=\"110.67,302.93,114.67,293.93,110.67,297.93,106.67,293.93,110.67,302.93\" style=\"stroke: #383838; stroke-width: 1.0;\"/><text fill=\"#000000\" font-family=\"sans-serif\" font-size=\"13\" lengthAdjust=\"spacingAndGlyphs\" textLength=\"81\" x=\"59\" y=\"269.0669\">Sig /action D</text></a><!--MD5=[05d275557350bfb9b23a4ef7222b4c39]\n",
       "link E3 to E2--><a href=\"psysml:f8d53726-bfe5-4353-91f3-ae2ef06d9a38\" target=\"_top\" title=\"psysml:f8d53726-bfe5-4353-91f3-ae2ef06d9a38\" xlink:actuate=\"onRequest\" xlink:href=\"psysml:f8d53726-bfe5-4353-91f3-ae2ef06d9a38\" xlink:show=\"new\" xlink:title=\"psysml:f8d53726-bfe5-4353-91f3-ae2ef06d9a38\" xlink:type=\"simple\"><path d=\"M127.33,302.8 C127.33,302.8 127.33,231.14 127.33,231.14 \" fill=\"none\" id=\"E3-&gt;E2\" style=\"stroke: #383838; stroke-width: 1.0;\"/><polygon fill=\"#383838\" points=\"127.33,226.14,123.33,235.14,127.33,231.14,131.33,235.14,127.33,226.14\" style=\"stroke: #383838; stroke-width: 1.0;\"/><text fill=\"#000000\" font-family=\"sans-serif\" font-size=\"13\" lengthAdjust=\"spacingAndGlyphs\" textLength=\"135\" x=\"182\" y=\"269.0669\">Sig [true]/send s to p</text></a><!--MD5=[b282fac9ec1f746750b491982b805947]\n",
       "@startuml\r\n",
       "skinparam linetype ortho\r\n",
       "skinparam monochrome true\r\n",
       "skinparam classbackgroundcolor white\r\n",
       "skinparam shadowing false\r\n",
       "skinparam wrapWidth 300\r\n",
       "hide circle\r\n",
       "\r\n",
       "rec def \"S\" as E1  <<(T,blue)state def>> [[psysml:f2a66a23-1197-47ed-b1bd-74e1ad61d6fd ]] {\r\n",
       "rec usage \"S1\" as E2 [[psysml:0ffea2c5-2698-4589-991c-94f7ac5b0395 ]] {\r\n",
       "}\r\n",
       "\r\n",
       "rec usage \"S2\" as E3 [[psysml:f6369ddf-93b2-4791-a9ee-7d090a7e6258 ]] {\r\n",
       "desc \"S2\" as E3  : **do**/  send Sig(T::s::x) to p\r\n",
       "}\r\n",
       "\r\n",
       "desc \"S\" as E1  : **entry**/ A\r\n",
       "desc \"S\" as E1  : **do**/ B\r\n",
       "desc \"S\" as E1  : **exit**/ act \r\n",
       "[*] - -> E2 [[psysml:3d6f6111-a5f0-4f07-bf0a-543b5052b3c3 ]] \r\n",
       "E3  - -> [*] [[psysml:374875bf-0004-40f7-bedc-1374d527cde5 ]] : Exit \r\n",
       "}\r\n",
       "\r\n",
       "E2  - -> E3 [[psysml:69f1494c-077d-4519-8343-87cce73be713 ]] : Sig /action D\r\n",
       "E3  - -> E2 [[psysml:f8d53726-bfe5-4353-91f3-ae2ef06d9a38 ]] : Sig [true]/send s to p\r\n",
       "@enduml\r\n",
       "\n",
       "PlantUML version 1.2020.13(Sat Jun 13 12:26:38 UTC 2020)\n",
       "(EPL source distribution)\n",
       "Java Runtime: OpenJDK Runtime Environment\n",
       "JVM: OpenJDK 64-Bit Server VM\n",
       "Default Encoding: UTF-8\n",
       "Language: en\n",
       "Country: null\n",
       "--></g></svg>"
      ]
     },
     "execution_count": 53,
     "metadata": {},
     "output_type": "execute_result"
    }
   ],
   "source": [
    "%viz --style=\"ORTHOLINE\" --view=\"State\" \"StateTest\""
   ]
  },
  {
   "cell_type": "code",
   "execution_count": 54,
   "id": "f658bc83",
   "metadata": {
    "execution": {
     "iopub.execute_input": "2021-04-21T20:23:46.425751Z",
     "iopub.status.busy": "2021-04-21T20:23:46.425228Z",
     "iopub.status.idle": "2021-04-21T20:23:46.445729Z",
     "shell.execute_reply": "2021-04-21T20:23:46.443741Z"
    }
   },
   "outputs": [
    {
     "data": {
      "image/svg+xml": [
       "<?xml version=\"1.0\" encoding=\"UTF-8\" standalone=\"no\"?><svg xmlns=\"http://www.w3.org/2000/svg\" xmlns:xlink=\"http://www.w3.org/1999/xlink\" contentScriptType=\"application/ecmascript\" contentStyleType=\"text/css\" height=\"421px\" preserveAspectRatio=\"none\" style=\"width:836px;height:421px;\" version=\"1.1\" viewBox=\"0 0 836 421\" width=\"836px\" zoomAndPan=\"magnify\"><defs/><g><!--MD5=[fbc87193dbaf4d95561dea2c320d4a47]\n",
       "cluster E1--><a href=\"psysml:800f45c9-cf5c-46ce-b3c3-487778cd6319\" target=\"_top\" title=\"psysml:800f45c9-cf5c-46ce-b3c3-487778cd6319\" xlink:actuate=\"onRequest\" xlink:href=\"psysml:800f45c9-cf5c-46ce-b3c3-487778cd6319\" xlink:show=\"new\" xlink:title=\"psysml:800f45c9-cf5c-46ce-b3c3-487778cd6319\" xlink:type=\"simple\"><polygon fill=\"#FFFFFF\" points=\"16,6,98,6,105,28.2969,814,28.2969,814,409.5,16,409.5,16,6\" style=\"stroke: #000000; stroke-width: 1.5;\"/><line style=\"stroke: #000000; stroke-width: 1.5;\" x1=\"16\" x2=\"105\" y1=\"28.2969\" y2=\"28.2969\"/><text fill=\"#000000\" font-family=\"sans-serif\" font-size=\"14\" font-weight=\"bold\" lengthAdjust=\"spacingAndGlyphs\" textLength=\"76\" x=\"20\" y=\"20.9951\">StateTest</text></a><!--MD5=[14e3b0961a2654348d326746436168a1]\n",
       "cluster E6--><a href=\"psysml:f2a66a23-1197-47ed-b1bd-74e1ad61d6fd\" target=\"_top\" title=\"psysml:f2a66a23-1197-47ed-b1bd-74e1ad61d6fd\" xlink:actuate=\"onRequest\" xlink:href=\"psysml:f2a66a23-1197-47ed-b1bd-74e1ad61d6fd\" xlink:show=\"new\" xlink:title=\"psysml:f2a66a23-1197-47ed-b1bd-74e1ad61d6fd\" xlink:type=\"simple\"><rect fill=\"#FFFFFF\" height=\"336.5\" id=\"E6\" style=\"stroke: #383838; stroke-width: 1.5;\" width=\"327\" x=\"463\" y=\"49\"/><rect fill=\"#F8F8F8\" height=\"37.9375\" style=\"stroke: #383838; stroke-width: 1.5;\" width=\"327\" x=\"463\" y=\"49\"/><text fill=\"#000000\" font-family=\"sans-serif\" font-size=\"12\" font-style=\"italic\" lengthAdjust=\"spacingAndGlyphs\" textLength=\"71\" x=\"591\" y=\"65.1387\">«state def»</text><text fill=\"#000000\" font-family=\"sans-serif\" font-size=\"12\" lengthAdjust=\"spacingAndGlyphs\" textLength=\"8\" x=\"622.5\" y=\"79.1074\">S</text><line style=\"stroke: #383838; stroke-width: 1.0;\" x1=\"463\" x2=\"790\" y1=\"132.8438\" y2=\"132.8438\"/><text fill=\"#000000\" font-family=\"sans-serif\" font-size=\"12\" font-weight=\"bold\" lengthAdjust=\"spacingAndGlyphs\" textLength=\"38\" x=\"468\" y=\"100.0762\">entry</text><text fill=\"#000000\" font-family=\"sans-serif\" font-size=\"12\" lengthAdjust=\"spacingAndGlyphs\" textLength=\"16\" x=\"506\" y=\"100.0762\">/ A</text><text fill=\"#000000\" font-family=\"sans-serif\" font-size=\"12\" font-weight=\"bold\" lengthAdjust=\"spacingAndGlyphs\" textLength=\"18\" x=\"468\" y=\"114.0449\">do</text><text fill=\"#000000\" font-family=\"sans-serif\" font-size=\"12\" lengthAdjust=\"spacingAndGlyphs\" textLength=\"16\" x=\"486\" y=\"114.0449\">/ B</text><text fill=\"#000000\" font-family=\"sans-serif\" font-size=\"12\" font-weight=\"bold\" lengthAdjust=\"spacingAndGlyphs\" textLength=\"26\" x=\"468\" y=\"128.0137\">exit</text><text fill=\"#000000\" font-family=\"sans-serif\" font-size=\"12\" lengthAdjust=\"spacingAndGlyphs\" textLength=\"28\" x=\"494\" y=\"128.0137\">/ act</text></a><g id=\"E1.E2\"><a href=\"psysml:f1048496-f45f-4de3-be42-17169da36fba\" target=\"_top\" title=\"psysml:f1048496-f45f-4de3-be42-17169da36fba\" xlink:actuate=\"onRequest\" xlink:href=\"psysml:f1048496-f45f-4de3-be42-17169da36fba\" xlink:show=\"new\" xlink:title=\"psysml:f1048496-f45f-4de3-be42-17169da36fba\" xlink:type=\"simple\"><rect fill=\"#FFFFFF\" height=\"42.9375\" id=\"E2\" style=\"stroke: #383838; stroke-width: 1.5;\" width=\"100\" x=\"347\" y=\"135.5\"/><rect fill=\"#F8F8F8\" height=\"37.9375\" style=\"stroke: #383838; stroke-width: 1.5;\" width=\"100\" x=\"347\" y=\"135.5\"/><text fill=\"#000000\" font-family=\"sans-serif\" font-size=\"12\" font-style=\"italic\" lengthAdjust=\"spacingAndGlyphs\" textLength=\"93\" x=\"350.5\" y=\"151.6387\">«attribute def»</text><text fill=\"#000000\" font-family=\"sans-serif\" font-size=\"12\" lengthAdjust=\"spacingAndGlyphs\" textLength=\"19\" x=\"387.5\" y=\"165.6074\">Sig</text></a></g><g id=\"E1.E3\"><a href=\"psysml:546c6a0a-79ca-4224-b50a-77e407cae485\" target=\"_top\" title=\"psysml:546c6a0a-79ca-4224-b50a-77e407cae485\" xlink:actuate=\"onRequest\" xlink:href=\"psysml:546c6a0a-79ca-4224-b50a-77e407cae485\" xlink:show=\"new\" xlink:title=\"psysml:546c6a0a-79ca-4224-b50a-77e407cae485\" xlink:type=\"simple\"><rect fill=\"#FFFFFF\" height=\"42.9375\" id=\"E3\" style=\"stroke: #383838; stroke-width: 1.5;\" width=\"100\" x=\"212\" y=\"135.5\"/><rect fill=\"#F8F8F8\" height=\"37.9375\" style=\"stroke: #383838; stroke-width: 1.5;\" width=\"100\" x=\"212\" y=\"135.5\"/><text fill=\"#000000\" font-family=\"sans-serif\" font-size=\"12\" font-style=\"italic\" lengthAdjust=\"spacingAndGlyphs\" textLength=\"93\" x=\"215.5\" y=\"151.6387\">«attribute def»</text><text fill=\"#000000\" font-family=\"sans-serif\" font-size=\"12\" lengthAdjust=\"spacingAndGlyphs\" textLength=\"22\" x=\"251\" y=\"165.6074\">Exit</text></a></g><g id=\"E1.E4\"><a href=\"psysml:4710131f-7c31-45d9-a6fe-10a60fc8490a\" target=\"_top\" title=\"psysml:4710131f-7c31-45d9-a6fe-10a60fc8490a\" xlink:actuate=\"onRequest\" xlink:href=\"psysml:4710131f-7c31-45d9-a6fe-10a60fc8490a\" xlink:show=\"new\" xlink:title=\"psysml:4710131f-7c31-45d9-a6fe-10a60fc8490a\" xlink:type=\"simple\"><rect fill=\"#FFFFFF\" height=\"40\" id=\"E4\" rx=\"10\" ry=\"10\" style=\"stroke: #383838; stroke-width: 1.5;\" width=\"50\" x=\"127\" y=\"137\"/><rect fill=\"#F8F8F8\" height=\"23.9688\" rx=\"10\" ry=\"10\" style=\"stroke: #F8F8F8; stroke-width: 1.5;\" width=\"50\" x=\"127\" y=\"137\"/><rect fill=\"#F8F8F8\" height=\"10\" style=\"stroke: #F8F8F8; stroke-width: 1.5;\" width=\"50\" x=\"127\" y=\"150.9688\"/><rect fill=\"none\" height=\"40\" id=\"E4\" rx=\"10\" ry=\"10\" style=\"stroke: #383838; stroke-width: 1.5;\" width=\"50\" x=\"127\" y=\"137\"/><text fill=\"#000000\" font-family=\"sans-serif\" font-size=\"12\" lengthAdjust=\"spacingAndGlyphs\" textLength=\"8\" x=\"148\" y=\"153.1387\">p</text></a></g><g id=\"E1.E5\"><a href=\"psysml:0b92cdb5-3694-4434-adff-e0b2149bd4e6\" target=\"_top\" title=\"psysml:0b92cdb5-3694-4434-adff-e0b2149bd4e6\" xlink:actuate=\"onRequest\" xlink:href=\"psysml:0b92cdb5-3694-4434-adff-e0b2149bd4e6\" xlink:show=\"new\" xlink:title=\"psysml:0b92cdb5-3694-4434-adff-e0b2149bd4e6\" xlink:type=\"simple\"><rect fill=\"#FFFFFF\" height=\"42.9375\" id=\"E5\" rx=\"10\" ry=\"10\" style=\"stroke: #383838; stroke-width: 1.5;\" width=\"60\" x=\"32\" y=\"135.5\"/><rect fill=\"#F8F8F8\" height=\"37.9375\" rx=\"10\" ry=\"10\" style=\"stroke: #F8F8F8; stroke-width: 1.5;\" width=\"60\" x=\"32\" y=\"135.5\"/><rect fill=\"#F8F8F8\" height=\"10\" style=\"stroke: #F8F8F8; stroke-width: 1.5;\" width=\"60\" x=\"32\" y=\"163.4375\"/><rect fill=\"none\" height=\"42.9375\" id=\"E5\" rx=\"10\" ry=\"10\" style=\"stroke: #383838; stroke-width: 1.5;\" width=\"60\" x=\"32\" y=\"135.5\"/><text fill=\"#000000\" font-family=\"sans-serif\" font-size=\"12\" font-style=\"italic\" lengthAdjust=\"spacingAndGlyphs\" textLength=\"53\" x=\"35.5\" y=\"151.6387\">«action»</text><text fill=\"#000000\" font-family=\"sans-serif\" font-size=\"12\" lengthAdjust=\"spacingAndGlyphs\" textLength=\"20\" x=\"52\" y=\"165.6074\">act</text></a></g><ellipse cx=\"575\" cy=\"157\" fill=\"#000000\" rx=\"10\" ry=\"10\" style=\"stroke: none; stroke-width: 1.0;\"/><ellipse cx=\"600\" cy=\"359.5\" fill=\"none\" rx=\"10\" ry=\"10\" style=\"stroke: #000000; stroke-width: 1.0;\"/><ellipse cx=\"600.5\" cy=\"360\" fill=\"#000000\" rx=\"6\" ry=\"6\" style=\"stroke: none; stroke-width: 1.0;\"/><g id=\"E1.E6.E7\"><a href=\"psysml:0ffea2c5-2698-4589-991c-94f7ac5b0395\" target=\"_top\" title=\"psysml:0ffea2c5-2698-4589-991c-94f7ac5b0395\" xlink:actuate=\"onRequest\" xlink:href=\"psysml:0ffea2c5-2698-4589-991c-94f7ac5b0395\" xlink:show=\"new\" xlink:title=\"psysml:0ffea2c5-2698-4589-991c-94f7ac5b0395\" xlink:type=\"simple\"><rect fill=\"#FFFFFF\" height=\"40\" id=\"E7\" rx=\"10\" ry=\"10\" style=\"stroke: #383838; stroke-width: 1.5;\" width=\"50\" x=\"550\" y=\"195.5\"/><rect fill=\"#F8F8F8\" height=\"23.9688\" rx=\"10\" ry=\"10\" style=\"stroke: #F8F8F8; stroke-width: 1.5;\" width=\"50\" x=\"550\" y=\"195.5\"/><rect fill=\"#F8F8F8\" height=\"10\" style=\"stroke: #F8F8F8; stroke-width: 1.5;\" width=\"50\" x=\"550\" y=\"209.4688\"/><rect fill=\"none\" height=\"40\" id=\"E7\" rx=\"10\" ry=\"10\" style=\"stroke: #383838; stroke-width: 1.5;\" width=\"50\" x=\"550\" y=\"195.5\"/><text fill=\"#000000\" font-family=\"sans-serif\" font-size=\"12\" lengthAdjust=\"spacingAndGlyphs\" textLength=\"16\" x=\"567\" y=\"211.6387\">S1</text></a></g><g id=\"E1.E6.E8\"><a href=\"psysml:f6369ddf-93b2-4791-a9ee-7d090a7e6258\" target=\"_top\" title=\"psysml:f6369ddf-93b2-4791-a9ee-7d090a7e6258\" xlink:actuate=\"onRequest\" xlink:href=\"psysml:f6369ddf-93b2-4791-a9ee-7d090a7e6258\" xlink:show=\"new\" xlink:title=\"psysml:f6369ddf-93b2-4791-a9ee-7d090a7e6258\" xlink:type=\"simple\"><rect fill=\"#FFFFFF\" height=\"47.9375\" id=\"E8\" rx=\"10\" ry=\"10\" style=\"stroke: #383838; stroke-width: 1.5;\" width=\"169\" x=\"515.5\" y=\"268.5\"/><rect fill=\"#F8F8F8\" height=\"23.9688\" rx=\"10\" ry=\"10\" style=\"stroke: #F8F8F8; stroke-width: 1.5;\" width=\"169\" x=\"515.5\" y=\"268.5\"/><rect fill=\"#F8F8F8\" height=\"10\" style=\"stroke: #F8F8F8; stroke-width: 1.5;\" width=\"169\" x=\"515.5\" y=\"282.4688\"/><rect fill=\"none\" height=\"47.9375\" id=\"E8\" rx=\"10\" ry=\"10\" style=\"stroke: #383838; stroke-width: 1.5;\" width=\"169\" x=\"515.5\" y=\"268.5\"/><text fill=\"#000000\" font-family=\"sans-serif\" font-size=\"12\" lengthAdjust=\"spacingAndGlyphs\" textLength=\"16\" x=\"592\" y=\"284.6387\">S2</text><line style=\"stroke: #383838; stroke-width: 1.0;\" x1=\"515.5\" x2=\"684.5\" y1=\"292.4688\" y2=\"292.4688\"/><text fill=\"#000000\" font-family=\"sans-serif\" font-size=\"12\" font-weight=\"bold\" lengthAdjust=\"spacingAndGlyphs\" textLength=\"18\" x=\"520.5\" y=\"305.6074\">do</text><text fill=\"#000000\" font-family=\"sans-serif\" font-size=\"12\" lengthAdjust=\"spacingAndGlyphs\" textLength=\"141\" x=\"538.5\" y=\"305.6074\">/  send Sig(T::s::x) to p</text></a></g><!--MD5=[5a531d3a85f3339e6e197084acb48195]\n",
       "link *start*E6 to E7--><a href=\"psysml:3d6f6111-a5f0-4f07-bf0a-543b5052b3c3\" target=\"_top\" title=\"psysml:3d6f6111-a5f0-4f07-bf0a-543b5052b3c3\" xlink:actuate=\"onRequest\" xlink:href=\"psysml:3d6f6111-a5f0-4f07-bf0a-543b5052b3c3\" xlink:show=\"new\" xlink:title=\"psysml:3d6f6111-a5f0-4f07-bf0a-543b5052b3c3\" xlink:type=\"simple\"><path d=\"M575,167.19 C575,167.19 575,190.25 575,190.25 \" fill=\"none\" id=\"*start*E6-&gt;E7\" style=\"stroke: #383838; stroke-width: 1.0;\"/><polygon fill=\"#383838\" points=\"575,195.25,579.0257,186.2615,575.0143,190.25,571.0257,186.2386,575,195.25\" style=\"stroke: #383838; stroke-width: 1.0;\"/></a><!--MD5=[7ec9a8babba89ddcae1318ca9fb3c814]\n",
       "link E8 to *end*E6--><a href=\"psysml:374875bf-0004-40f7-bedc-1374d527cde5\" target=\"_top\" title=\"psysml:374875bf-0004-40f7-bedc-1374d527cde5\" xlink:actuate=\"onRequest\" xlink:href=\"psysml:374875bf-0004-40f7-bedc-1374d527cde5\" xlink:show=\"new\" xlink:title=\"psysml:374875bf-0004-40f7-bedc-1374d527cde5\" xlink:type=\"simple\"><path d=\"M600,316.69 C600,316.69 600,344.34 600,344.34 \" fill=\"none\" id=\"E8-&gt;*end*E6\" style=\"stroke: #383838; stroke-width: 1.0;\"/><polygon fill=\"#383838\" points=\"600,349.34,604,340.34,600,344.34,596,340.34,600,349.34\" style=\"stroke: #383838; stroke-width: 1.0;\"/><text fill=\"#000000\" font-family=\"sans-serif\" font-size=\"13\" lengthAdjust=\"spacingAndGlyphs\" textLength=\"23\" x=\"601\" y=\"337.5669\">Exit</text></a><!--MD5=[79bc8f324ef4d02c541433f2e6e513c3]\n",
       "link E7 to E8--><a href=\"psysml:69f1494c-077d-4519-8343-87cce73be713\" target=\"_top\" title=\"psysml:69f1494c-077d-4519-8343-87cce73be713\" xlink:actuate=\"onRequest\" xlink:href=\"psysml:69f1494c-077d-4519-8343-87cce73be713\" xlink:show=\"new\" xlink:title=\"psysml:69f1494c-077d-4519-8343-87cce73be713\" xlink:type=\"simple\"><path d=\"M566.67,235.73 C566.67,235.73 566.67,263.3 566.67,263.3 \" fill=\"none\" id=\"E7-&gt;E8\" style=\"stroke: #383838; stroke-width: 1.0;\"/><polygon fill=\"#383838\" points=\"566.67,268.3,570.67,259.3,566.67,263.3,562.67,259.3,566.67,268.3\" style=\"stroke: #383838; stroke-width: 1.0;\"/><text fill=\"#000000\" font-family=\"sans-serif\" font-size=\"13\" lengthAdjust=\"spacingAndGlyphs\" textLength=\"81\" x=\"515\" y=\"256.5669\">Sig /action D</text></a><!--MD5=[bfa3c8b0d15052fdf50ae9310b491027]\n",
       "link E8 to E7--><a href=\"psysml:f8d53726-bfe5-4353-91f3-ae2ef06d9a38\" target=\"_top\" title=\"psysml:f8d53726-bfe5-4353-91f3-ae2ef06d9a38\" xlink:actuate=\"onRequest\" xlink:href=\"psysml:f8d53726-bfe5-4353-91f3-ae2ef06d9a38\" xlink:show=\"new\" xlink:title=\"psysml:f8d53726-bfe5-4353-91f3-ae2ef06d9a38\" xlink:type=\"simple\"><path d=\"M583.33,268.14 C583.33,268.14 583.33,240.58 583.33,240.58 \" fill=\"none\" id=\"E8-&gt;E7\" style=\"stroke: #383838; stroke-width: 1.0;\"/><polygon fill=\"#383838\" points=\"583.33,235.58,579.33,244.58,583.33,240.58,587.33,244.58,583.33,235.58\" style=\"stroke: #383838; stroke-width: 1.0;\"/><text fill=\"#000000\" font-family=\"sans-serif\" font-size=\"13\" lengthAdjust=\"spacingAndGlyphs\" textLength=\"135\" x=\"638\" y=\"256.5669\">Sig [true]/send s to p</text></a><!--MD5=[bb4adf3a2721aabc25e0d80aa00d9e61]\n",
       "@startuml\r\n",
       "skinparam ranksep 10\r\n",
       "skinparam rectangle {\r\n",
       " backgroundColor<<block>> LightGreen\r\n",
       "}\r\n",
       "skinparam linetype ortho\r\n",
       "skinparam monochrome true\r\n",
       "skinparam classbackgroundcolor white\r\n",
       "skinparam shadowing false\r\n",
       "skinparam wrapWidth 300\r\n",
       "hide circle\r\n",
       "\r\n",
       "package \"StateTest\" as E1  [[psysml:800f45c9-cf5c-46ce-b3c3-487778cd6319 ]]  {\r\n",
       "def \"Sig\" as E2  <<(T,blue)attribute def>> [[psysml:f1048496-f45f-4de3-be42-17169da36fba ]] \r\n",
       "def \"Exit\" as E3  <<(T,blue)attribute def>> [[psysml:546c6a0a-79ca-4224-b50a-77e407cae485 ]] \r\n",
       "rec usage \"p\" as E4  [[psysml:4710131f-7c31-45d9-a6fe-10a60fc8490a ]] {\r\n",
       "}\r\n",
       "rec usage \"act\" as E5  <<(T,blue)action>> [[psysml:0b92cdb5-3694-4434-adff-e0b2149bd4e6 ]] {\r\n",
       "}\r\n",
       "\r\n",
       "rec def \"S\" as E6  <<(T,blue)state def>> [[psysml:f2a66a23-1197-47ed-b1bd-74e1ad61d6fd ]] {\r\n",
       "rec usage \"S1\" as E7 [[psysml:0ffea2c5-2698-4589-991c-94f7ac5b0395 ]] {\r\n",
       "}\r\n",
       "\r\n",
       "rec usage \"S2\" as E8 [[psysml:f6369ddf-93b2-4791-a9ee-7d090a7e6258 ]] {\r\n",
       "desc \"S2\" as E8  : **do**/  send Sig(T::s::x) to p\r\n",
       "}\r\n",
       "\r\n",
       "desc \"S\" as E6  : **entry**/ A\r\n",
       "desc \"S\" as E6  : **do**/ B\r\n",
       "desc \"S\" as E6  : **exit**/ act \r\n",
       "[*] - -> E7 [[psysml:3d6f6111-a5f0-4f07-bf0a-543b5052b3c3 ]] \r\n",
       "E8  - -> [*] [[psysml:374875bf-0004-40f7-bedc-1374d527cde5 ]] : Exit \r\n",
       "}\r\n",
       "\r\n",
       "E7  - -> E8 [[psysml:69f1494c-077d-4519-8343-87cce73be713 ]] : Sig /action D\r\n",
       "E8  - -> E7 [[psysml:f8d53726-bfe5-4353-91f3-ae2ef06d9a38 ]] : Sig [true]/send s to p\r\n",
       "}\r\n",
       "@enduml\r\n",
       "\n",
       "PlantUML version 1.2020.13(Sat Jun 13 12:26:38 UTC 2020)\n",
       "(EPL source distribution)\n",
       "Java Runtime: OpenJDK Runtime Environment\n",
       "JVM: OpenJDK 64-Bit Server VM\n",
       "Default Encoding: UTF-8\n",
       "Language: en\n",
       "Country: null\n",
       "--></g></svg>"
      ]
     },
     "execution_count": 54,
     "metadata": {},
     "output_type": "execute_result"
    }
   ],
   "source": [
    "%viz --style=\"ORTHOLINE\" --view=\"Interconnection\" \"StateTest\""
   ]
  },
  {
   "cell_type": "code",
   "execution_count": 55,
   "id": "96a7e87c",
   "metadata": {
    "execution": {
     "iopub.execute_input": "2021-04-21T20:23:46.497642Z",
     "iopub.status.busy": "2021-04-21T20:23:46.497208Z",
     "iopub.status.idle": "2021-04-21T20:23:46.536667Z",
     "shell.execute_reply": "2021-04-21T20:23:46.535374Z"
    }
   },
   "outputs": [
    {
     "data": {
      "image/svg+xml": [
       "<?xml version=\"1.0\" encoding=\"UTF-8\" standalone=\"no\"?><svg xmlns=\"http://www.w3.org/2000/svg\" xmlns:xlink=\"http://www.w3.org/1999/xlink\" contentScriptType=\"application/ecmascript\" contentStyleType=\"text/css\" height=\"444px\" preserveAspectRatio=\"none\" style=\"width:594px;height:444px;\" version=\"1.1\" viewBox=\"0 0 594 444\" width=\"594px\" zoomAndPan=\"magnify\"><defs/><g><!--MD5=[e4f7fae6ed58524ba242bb0b0d3be6b7]\n",
       "cluster E2--><a href=\"psysml:f2a66a23-1197-47ed-b1bd-74e1ad61d6fd\" target=\"_top\" title=\"psysml:f2a66a23-1197-47ed-b1bd-74e1ad61d6fd\" xlink:actuate=\"onRequest\" xlink:href=\"psysml:f2a66a23-1197-47ed-b1bd-74e1ad61d6fd\" xlink:show=\"new\" xlink:title=\"psysml:f2a66a23-1197-47ed-b1bd-74e1ad61d6fd\" xlink:type=\"simple\"><rect fill=\"#FFFFFF\" height=\"426\" id=\"E2\" style=\"stroke: #383838; stroke-width: 1.5;\" width=\"497\" x=\"86\" y=\"7\"/><rect fill=\"#F8F8F8\" height=\"37.9375\" style=\"stroke: #383838; stroke-width: 1.5;\" width=\"497\" x=\"86\" y=\"7\"/><text fill=\"#000000\" font-family=\"sans-serif\" font-size=\"12\" font-style=\"italic\" lengthAdjust=\"spacingAndGlyphs\" textLength=\"71\" x=\"299\" y=\"23.1387\">«state def»</text><text fill=\"#000000\" font-family=\"sans-serif\" font-size=\"12\" lengthAdjust=\"spacingAndGlyphs\" textLength=\"8\" x=\"330.5\" y=\"37.1074\">S</text></a><!--MD5=[168fadf3d0c3fd93dd5d6da1b1d7ab76]\n",
       "cluster E7--><a href=\"psysml:f6369ddf-93b2-4791-a9ee-7d090a7e6258\" target=\"_top\" title=\"psysml:f6369ddf-93b2-4791-a9ee-7d090a7e6258\" xlink:actuate=\"onRequest\" xlink:href=\"psysml:f6369ddf-93b2-4791-a9ee-7d090a7e6258\" xlink:show=\"new\" xlink:title=\"psysml:f6369ddf-93b2-4791-a9ee-7d090a7e6258\" xlink:type=\"simple\"><rect fill=\"#FFFFFF\" height=\"138\" id=\"E7\" rx=\"10\" ry=\"10\" style=\"stroke: #383838; stroke-width: 1.5;\" width=\"195\" x=\"327\" y=\"210\"/><rect fill=\"#F8F8F8\" height=\"37.9375\" rx=\"10\" ry=\"10\" style=\"stroke: #F8F8F8; stroke-width: 1.5;\" width=\"195\" x=\"327\" y=\"210\"/><rect fill=\"#F8F8F8\" height=\"10\" style=\"stroke: #F8F8F8; stroke-width: 1.5;\" width=\"195\" x=\"327\" y=\"237.9375\"/><rect fill=\"none\" height=\"138\" id=\"E7\" rx=\"10\" ry=\"10\" style=\"stroke: #383838; stroke-width: 1.5;\" width=\"195\" x=\"327\" y=\"210\"/><text fill=\"#000000\" font-family=\"sans-serif\" font-size=\"12\" font-style=\"italic\" lengthAdjust=\"spacingAndGlyphs\" textLength=\"47\" x=\"401\" y=\"226.1387\">«state»</text><text fill=\"#000000\" font-family=\"sans-serif\" font-size=\"12\" lengthAdjust=\"spacingAndGlyphs\" textLength=\"16\" x=\"416.5\" y=\"240.1074\">S2</text><line style=\"stroke: #383838; stroke-width: 1.0;\" x1=\"327\" x2=\"522\" y1=\"247.9375\" y2=\"247.9375\"/></a><g id=\"E1\"><a href=\"psysml:0b92cdb5-3694-4434-adff-e0b2149bd4e6\" target=\"_top\" title=\"psysml:0b92cdb5-3694-4434-adff-e0b2149bd4e6\" xlink:actuate=\"onRequest\" xlink:href=\"psysml:0b92cdb5-3694-4434-adff-e0b2149bd4e6\" xlink:show=\"new\" xlink:title=\"psysml:0b92cdb5-3694-4434-adff-e0b2149bd4e6\" xlink:type=\"simple\"><rect fill=\"#FFFFFF\" height=\"42.9375\" id=\"E1\" rx=\"10\" ry=\"10\" style=\"stroke: #383838; stroke-width: 1.5;\" width=\"60\" x=\"7\" y=\"58\"/><rect fill=\"#F8F8F8\" height=\"37.9375\" rx=\"10\" ry=\"10\" style=\"stroke: #F8F8F8; stroke-width: 1.5;\" width=\"60\" x=\"7\" y=\"58\"/><rect fill=\"#F8F8F8\" height=\"10\" style=\"stroke: #F8F8F8; stroke-width: 1.5;\" width=\"60\" x=\"7\" y=\"85.9375\"/><rect fill=\"none\" height=\"42.9375\" id=\"E1\" rx=\"10\" ry=\"10\" style=\"stroke: #383838; stroke-width: 1.5;\" width=\"60\" x=\"7\" y=\"58\"/><text fill=\"#000000\" font-family=\"sans-serif\" font-size=\"12\" font-style=\"italic\" lengthAdjust=\"spacingAndGlyphs\" textLength=\"53\" x=\"10.5\" y=\"74.1387\">«action»</text><text fill=\"#000000\" font-family=\"sans-serif\" font-size=\"12\" lengthAdjust=\"spacingAndGlyphs\" textLength=\"20\" x=\"27\" y=\"88.1074\">act</text></a></g><ellipse cx=\"557\" cy=\"79.5\" fill=\"#000000\" rx=\"10\" ry=\"10\" style=\"stroke: none; stroke-width: 1.0;\"/><ellipse cx=\"335\" cy=\"407\" fill=\"none\" rx=\"10\" ry=\"10\" style=\"stroke: #000000; stroke-width: 1.0;\"/><ellipse cx=\"335.5\" cy=\"407.5\" fill=\"#000000\" rx=\"6\" ry=\"6\" style=\"stroke: none; stroke-width: 1.0;\"/><g id=\"E2.E3\"><a href=\"psysml:b2584b97-8c36-4971-ba08-266a53e2e05d\" target=\"_top\" title=\"psysml:b2584b97-8c36-4971-ba08-266a53e2e05d\" xlink:actuate=\"onRequest\" xlink:href=\"psysml:b2584b97-8c36-4971-ba08-266a53e2e05d\" xlink:show=\"new\" xlink:title=\"psysml:b2584b97-8c36-4971-ba08-266a53e2e05d\" xlink:type=\"simple\"><rect fill=\"#FFFFFF\" height=\"42.9375\" id=\"E3\" rx=\"10\" ry=\"10\" style=\"stroke: #383838; stroke-width: 1.5;\" width=\"113\" x=\"398.5\" y=\"58\"/><rect fill=\"#F8F8F8\" height=\"37.9375\" rx=\"10\" ry=\"10\" style=\"stroke: #F8F8F8; stroke-width: 1.5;\" width=\"113\" x=\"398.5\" y=\"58\"/><rect fill=\"#F8F8F8\" height=\"10\" style=\"stroke: #F8F8F8; stroke-width: 1.5;\" width=\"113\" x=\"398.5\" y=\"85.9375\"/><rect fill=\"none\" height=\"42.9375\" id=\"E3\" rx=\"10\" ry=\"10\" style=\"stroke: #383838; stroke-width: 1.5;\" width=\"113\" x=\"398.5\" y=\"58\"/><text fill=\"#000000\" font-family=\"sans-serif\" font-size=\"12\" font-style=\"italic\" lengthAdjust=\"spacingAndGlyphs\" textLength=\"106\" x=\"402\" y=\"74.1387\">«perform action»</text><text fill=\"#000000\" font-family=\"sans-serif\" font-size=\"12\" lengthAdjust=\"spacingAndGlyphs\" textLength=\"8\" x=\"451\" y=\"88.1074\">A</text></a></g><g id=\"E2.E4\"><a href=\"psysml:4ff81092-47a1-4e96-8d92-0120048334f8\" target=\"_top\" title=\"psysml:4ff81092-47a1-4e96-8d92-0120048334f8\" xlink:actuate=\"onRequest\" xlink:href=\"psysml:4ff81092-47a1-4e96-8d92-0120048334f8\" xlink:show=\"new\" xlink:title=\"psysml:4ff81092-47a1-4e96-8d92-0120048334f8\" xlink:type=\"simple\"><rect fill=\"#FFFFFF\" height=\"42.9375\" id=\"E4\" rx=\"10\" ry=\"10\" style=\"stroke: #383838; stroke-width: 1.5;\" width=\"113\" x=\"250.5\" y=\"58\"/><rect fill=\"#F8F8F8\" height=\"37.9375\" rx=\"10\" ry=\"10\" style=\"stroke: #F8F8F8; stroke-width: 1.5;\" width=\"113\" x=\"250.5\" y=\"58\"/><rect fill=\"#F8F8F8\" height=\"10\" style=\"stroke: #F8F8F8; stroke-width: 1.5;\" width=\"113\" x=\"250.5\" y=\"85.9375\"/><rect fill=\"none\" height=\"42.9375\" id=\"E4\" rx=\"10\" ry=\"10\" style=\"stroke: #383838; stroke-width: 1.5;\" width=\"113\" x=\"250.5\" y=\"58\"/><text fill=\"#000000\" font-family=\"sans-serif\" font-size=\"12\" font-style=\"italic\" lengthAdjust=\"spacingAndGlyphs\" textLength=\"106\" x=\"254\" y=\"74.1387\">«perform action»</text><text fill=\"#000000\" font-family=\"sans-serif\" font-size=\"12\" lengthAdjust=\"spacingAndGlyphs\" textLength=\"8\" x=\"303\" y=\"88.1074\">B</text></a></g><g id=\"E2.E5\"><a href=\"psysml:304a78cc-8684-4bf6-a939-94ca910a3e9f\" target=\"_top\" title=\"psysml:304a78cc-8684-4bf6-a939-94ca910a3e9f\" xlink:actuate=\"onRequest\" xlink:href=\"psysml:304a78cc-8684-4bf6-a939-94ca910a3e9f\" xlink:show=\"new\" xlink:title=\"psysml:304a78cc-8684-4bf6-a939-94ca910a3e9f\" xlink:type=\"simple\"><rect fill=\"#FFFFFF\" height=\"42.9375\" id=\"E5\" rx=\"10\" ry=\"10\" style=\"stroke: #383838; stroke-width: 1.5;\" width=\"113\" x=\"102.5\" y=\"58\"/><rect fill=\"#F8F8F8\" height=\"37.9375\" rx=\"10\" ry=\"10\" style=\"stroke: #F8F8F8; stroke-width: 1.5;\" width=\"113\" x=\"102.5\" y=\"58\"/><rect fill=\"#F8F8F8\" height=\"10\" style=\"stroke: #F8F8F8; stroke-width: 1.5;\" width=\"113\" x=\"102.5\" y=\"85.9375\"/><rect fill=\"none\" height=\"42.9375\" id=\"E5\" rx=\"10\" ry=\"10\" style=\"stroke: #383838; stroke-width: 1.5;\" width=\"113\" x=\"102.5\" y=\"58\"/><text fill=\"#000000\" font-family=\"sans-serif\" font-size=\"12\" font-style=\"italic\" lengthAdjust=\"spacingAndGlyphs\" textLength=\"106\" x=\"106\" y=\"74.1387\">«perform action»</text><text fill=\"#000000\" font-family=\"sans-serif\" font-size=\"12\" lengthAdjust=\"spacingAndGlyphs\" textLength=\"20\" x=\"149\" y=\"88.1074\">act</text></a></g><g id=\"E2.E6\"><a href=\"psysml:0ffea2c5-2698-4589-991c-94f7ac5b0395\" target=\"_top\" title=\"psysml:0ffea2c5-2698-4589-991c-94f7ac5b0395\" xlink:actuate=\"onRequest\" xlink:href=\"psysml:0ffea2c5-2698-4589-991c-94f7ac5b0395\" xlink:show=\"new\" xlink:title=\"psysml:0ffea2c5-2698-4589-991c-94f7ac5b0395\" xlink:type=\"simple\"><rect fill=\"#FFFFFF\" height=\"42.9375\" id=\"E6\" rx=\"10\" ry=\"10\" style=\"stroke: #383838; stroke-width: 1.5;\" width=\"54\" x=\"403\" y=\"118\"/><rect fill=\"#F8F8F8\" height=\"37.9375\" rx=\"10\" ry=\"10\" style=\"stroke: #F8F8F8; stroke-width: 1.5;\" width=\"54\" x=\"403\" y=\"118\"/><rect fill=\"#F8F8F8\" height=\"10\" style=\"stroke: #F8F8F8; stroke-width: 1.5;\" width=\"54\" x=\"403\" y=\"145.9375\"/><rect fill=\"none\" height=\"42.9375\" id=\"E6\" rx=\"10\" ry=\"10\" style=\"stroke: #383838; stroke-width: 1.5;\" width=\"54\" x=\"403\" y=\"118\"/><text fill=\"#000000\" font-family=\"sans-serif\" font-size=\"12\" font-style=\"italic\" lengthAdjust=\"spacingAndGlyphs\" textLength=\"47\" x=\"406.5\" y=\"134.1387\">«state»</text><text fill=\"#000000\" font-family=\"sans-serif\" font-size=\"12\" lengthAdjust=\"spacingAndGlyphs\" textLength=\"16\" x=\"422\" y=\"148.1074\">S1</text></a></g><!--MD5=[2803005a5f354d3255b1b7bbd839bbf7]\n",
       "entity E8--><a href=\"psysml:4e70c0dc-8141-4b3a-9526-a99ab1429170\" target=\"_top\" title=\"psysml:4e70c0dc-8141-4b3a-9526-a99ab1429170\" xlink:actuate=\"onRequest\" xlink:href=\"psysml:4e70c0dc-8141-4b3a-9526-a99ab1429170\" xlink:show=\"new\" xlink:title=\"psysml:4e70c0dc-8141-4b3a-9526-a99ab1429170\" xlink:type=\"simple\"><polygon fill=\"#F8F8F8\" points=\"370,269,370,323.5938,478,323.5938,498,296.2969,478,269\" style=\"stroke: #000000; stroke-width: 1.5;\"/><text fill=\"#000000\" font-family=\"sans-serif\" font-size=\"14\" font-style=\"italic\" lengthAdjust=\"spacingAndGlyphs\" textLength=\"99\" x=\"377\" y=\"291.9951\">«send action»</text><text fill=\"#000000\" font-family=\"sans-serif\" font-size=\"14\" lengthAdjust=\"spacingAndGlyphs\" textLength=\"75\" x=\"389\" y=\"309.292\">Sig(T::s::x)</text></a><!--MD5=[2e26681bccdb10b30299c36e1180c624]\n",
       "link *start*E2 to E6--><a href=\"psysml:3d6f6111-a5f0-4f07-bf0a-543b5052b3c3\" target=\"_top\" title=\"psysml:3d6f6111-a5f0-4f07-bf0a-543b5052b3c3\" xlink:actuate=\"onRequest\" xlink:href=\"psysml:3d6f6111-a5f0-4f07-bf0a-543b5052b3c3\" xlink:show=\"new\" xlink:title=\"psysml:3d6f6111-a5f0-4f07-bf0a-543b5052b3c3\" xlink:type=\"simple\"><path d=\"M557,89.76 C557,107.02 557,140 557,140 C557,140 462.24,140 462.24,140 \" fill=\"none\" id=\"*start*E2-&gt;E6\" style=\"stroke: #383838; stroke-width: 1.0; stroke-dasharray: 7.0,7.0;\"/><polygon fill=\"#383838\" points=\"457.24,140,466.24,144,462.24,140,466.24,136,457.24,140\" style=\"stroke: #383838; stroke-width: 1.0;\"/></a><!--MD5=[ff9e4afefa821aea7eda324d3041742a]\n",
       "link E7 to *end*E2--><a href=\"psysml:374875bf-0004-40f7-bedc-1374d527cde5\" target=\"_top\" title=\"psysml:374875bf-0004-40f7-bedc-1374d527cde5\" xlink:actuate=\"onRequest\" xlink:href=\"psysml:374875bf-0004-40f7-bedc-1374d527cde5\" xlink:show=\"new\" xlink:title=\"psysml:374875bf-0004-40f7-bedc-1374d527cde5\" xlink:type=\"simple\"><path d=\"M335,348.4565 C335,348.641 335,348.8254 335,349.0097 C335,350.4841 335,351.9527 335,353.4097 C335,356.3237 335,359.1915 335,361.9668 C335,367.5174 335,372.698 335,377.1384 C335,386.0194 335,391.94 335,391.94 \" fill=\"none\" id=\"E7-&gt;*end*E2\" style=\"stroke: #383838; stroke-width: 1.0; stroke-dasharray: 7.0,7.0;\"/><polygon fill=\"#383838\" points=\"335,396.94,339,387.94,335,391.94,331,387.94,335,396.94\" style=\"stroke: #383838; stroke-width: 1.0;\"/><text fill=\"#000000\" font-family=\"sans-serif\" font-size=\"13\" lengthAdjust=\"spacingAndGlyphs\" textLength=\"23\" x=\"336\" y=\"385.0669\">Exit</text></a><!--MD5=[02c70b7c851c11e3980e4e90450dc5dd]\n",
       "link E6 to E7--><a href=\"psysml:69f1494c-077d-4519-8343-87cce73be713\" target=\"_top\" title=\"psysml:69f1494c-077d-4519-8343-87cce73be713\" xlink:actuate=\"onRequest\" xlink:href=\"psysml:69f1494c-077d-4519-8343-87cce73be713\" xlink:show=\"new\" xlink:title=\"psysml:69f1494c-077d-4519-8343-87cce73be713\" xlink:type=\"simple\"><path d=\"M402.78,133 C374.7,133 335,133 335,133 C335,133 335,142.59 335,157.1248 C335,164.3923 335,172.8959 335,182.0551 C335,186.6347 335,191.3782 335,196.213 C335,198.6304 335,201.0706 335,203.5246 C335,204.7516 335,205.982 335,207.2148 C335,207.8311 335,208.4481 335,209.0655 C335,209.3741 335,209.6829 335,209.9918 \" fill=\"none\" id=\"E6-&gt;E7\" style=\"stroke: #383838; stroke-width: 1.0; stroke-dasharray: 7.0,7.0;\"/><polygon fill=\"#383838\" points=\"335,209.9918,339,200.9918,335,204.9918,331,200.9918,335,209.9918\" style=\"stroke: #383838; stroke-width: 1.0;\"/><text fill=\"#000000\" font-family=\"sans-serif\" font-size=\"13\" lengthAdjust=\"spacingAndGlyphs\" textLength=\"81\" x=\"308\" y=\"182.0669\">Sig /action D</text></a><!--MD5=[fbb449814971db3a0b8220cf225b9e01]\n",
       "link E7 to E6--><a href=\"psysml:f8d53726-bfe5-4353-91f3-ae2ef06d9a38\" target=\"_top\" title=\"psysml:f8d53726-bfe5-4353-91f3-ae2ef06d9a38\" xlink:actuate=\"onRequest\" xlink:href=\"psysml:f8d53726-bfe5-4353-91f3-ae2ef06d9a38\" xlink:show=\"new\" xlink:title=\"psysml:f8d53726-bfe5-4353-91f3-ae2ef06d9a38\" xlink:type=\"simple\"><path d=\"M340.5,209.7444 C340.5,209.1655 340.5,208.5875 340.5,208.0107 C340.5,203.3965 340.5,198.8555 340.5,194.4609 C340.5,185.6719 340.5,177.4688 340.5,170.4375 C340.5,156.375 340.5,147 340.5,147 C340.5,147 397.66,147 397.66,147 \" fill=\"none\" id=\"E7-&gt;E6\" style=\"stroke: #383838; stroke-width: 1.0; stroke-dasharray: 7.0,7.0;\"/><polygon fill=\"#383838\" points=\"402.66,147,393.66,143,397.66,147,393.66,151,402.66,147\" style=\"stroke: #383838; stroke-width: 1.0;\"/><text fill=\"#000000\" font-family=\"sans-serif\" font-size=\"13\" lengthAdjust=\"spacingAndGlyphs\" textLength=\"135\" x=\"431\" y=\"182.0669\">Sig [true]/send s to p</text></a><!--MD5=[7ced758aadcc8d54b79d62deb008964f]\n",
       "@startuml\r\n",
       "skinparam ranksep 8\r\n",
       "skinparam linetype ortho\r\n",
       "skinparam monochrome true\r\n",
       "skinparam classbackgroundcolor white\r\n",
       "skinparam shadowing false\r\n",
       "skinparam wrapWidth 300\r\n",
       "hide circle\r\n",
       "\r\n",
       "rec usage \"act\" as E1  <<(T,blue)action>> [[psysml:0b92cdb5-3694-4434-adff-e0b2149bd4e6 ]] {\r\n",
       "}\r\n",
       "\r\n",
       "rec def \"S\" as E2  <<(T,blue)state def>> [[psysml:f2a66a23-1197-47ed-b1bd-74e1ad61d6fd ]] {\r\n",
       "rec usage \"A\" as E3 <<perform action>> [[psysml:b2584b97-8c36-4971-ba08-266a53e2e05d ]] {\r\n",
       "}\r\n",
       "\r\n",
       "rec usage \"B\" as E4 <<perform action>> [[psysml:4ff81092-47a1-4e96-8d92-0120048334f8 ]] {\r\n",
       "}\r\n",
       "\r\n",
       "rec usage \"act\" as E5 <<perform action>> [[psysml:304a78cc-8684-4bf6-a939-94ca910a3e9f ]] {\r\n",
       "}\r\n",
       "\r\n",
       "rec usage \"S1\" as E6  <<(T,blue)state>> [[psysml:0ffea2c5-2698-4589-991c-94f7ac5b0395 ]] {\r\n",
       "}\r\n",
       "\r\n",
       "rec usage \"S2\" as E7  <<(T,blue)state>> [[psysml:f6369ddf-93b2-4791-a9ee-7d090a7e6258 ]] {\r\n",
       "send \" Sig(T::s::x)\" as E8 <<send action>> [[psysml:4e70c0dc-8141-4b3a-9526-a99ab1429170 ]] \r\n",
       "}\r\n",
       "\r\n",
       "[*] ..> E6 [[psysml:3d6f6111-a5f0-4f07-bf0a-543b5052b3c3 ]] \r\n",
       "E7 ..> [*] [[psysml:374875bf-0004-40f7-bedc-1374d527cde5 ]] : Exit \r\n",
       "}\r\n",
       "\r\n",
       "E6 ..> E7 [[psysml:69f1494c-077d-4519-8343-87cce73be713 ]] : Sig /action D\r\n",
       "E7 ..> E6 [[psysml:f8d53726-bfe5-4353-91f3-ae2ef06d9a38 ]] : Sig [true]/send s to p\r\n",
       "@enduml\r\n",
       "\n",
       "PlantUML version 1.2020.13(Sat Jun 13 12:26:38 UTC 2020)\n",
       "(EPL source distribution)\n",
       "Java Runtime: OpenJDK Runtime Environment\n",
       "JVM: OpenJDK 64-Bit Server VM\n",
       "Default Encoding: UTF-8\n",
       "Language: en\n",
       "Country: null\n",
       "--></g></svg>"
      ]
     },
     "execution_count": 55,
     "metadata": {},
     "output_type": "execute_result"
    }
   ],
   "source": [
    "%viz --style=\"ORTHOLINE\" --view=\"Action\" \"StateTest\""
   ]
  },
  {
   "cell_type": "code",
   "execution_count": 56,
   "id": "bb20558c",
   "metadata": {
    "execution": {
     "iopub.execute_input": "2021-04-21T20:23:46.588213Z",
     "iopub.status.busy": "2021-04-21T20:23:46.587569Z",
     "iopub.status.idle": "2021-04-21T20:23:46.681742Z",
     "shell.execute_reply": "2021-04-21T20:23:46.680470Z"
    }
   },
   "outputs": [
    {
     "data": {
      "image/svg+xml": [
       "<?xml version=\"1.0\" encoding=\"UTF-8\" standalone=\"no\"?><svg xmlns=\"http://www.w3.org/2000/svg\" xmlns:xlink=\"http://www.w3.org/1999/xlink\" contentScriptType=\"application/ecmascript\" contentStyleType=\"text/css\" height=\"365px\" preserveAspectRatio=\"none\" style=\"width:594px;height:365px;\" version=\"1.1\" viewBox=\"0 0 594 365\" width=\"594px\" zoomAndPan=\"magnify\"><defs/><g><!--MD5=[fbc87193dbaf4d95561dea2c320d4a47]\n",
       "cluster E1--><a href=\"psysml:800f45c9-cf5c-46ce-b3c3-487778cd6319\" target=\"_top\" title=\"psysml:800f45c9-cf5c-46ce-b3c3-487778cd6319\" xlink:actuate=\"onRequest\" xlink:href=\"psysml:800f45c9-cf5c-46ce-b3c3-487778cd6319\" xlink:show=\"new\" xlink:title=\"psysml:800f45c9-cf5c-46ce-b3c3-487778cd6319\" xlink:type=\"simple\"><polygon fill=\"#FFFFFF\" points=\"16,6,98,6,105,28.2969,572,28.2969,572,353,16,353,16,6\" style=\"stroke: #000000; stroke-width: 1.5;\"/><line style=\"stroke: #000000; stroke-width: 1.5;\" x1=\"16\" x2=\"105\" y1=\"28.2969\" y2=\"28.2969\"/><text fill=\"#000000\" font-family=\"sans-serif\" font-size=\"14\" font-weight=\"bold\" lengthAdjust=\"spacingAndGlyphs\" textLength=\"76\" x=\"20\" y=\"20.9951\">StateTest</text></a><!--MD5=[b4997ac47864f28c2f74865a473b2911]\n",
       "class E2--><a href=\"psysml:f1048496-f45f-4de3-be42-17169da36fba\" target=\"_top\" title=\"psysml:f1048496-f45f-4de3-be42-17169da36fba\" xlink:actuate=\"onRequest\" xlink:href=\"psysml:f1048496-f45f-4de3-be42-17169da36fba\" xlink:show=\"new\" xlink:title=\"psysml:f1048496-f45f-4de3-be42-17169da36fba\" xlink:type=\"simple\"><rect fill=\"#FFFFFF\" height=\"75.5469\" id=\"E2\" style=\"stroke: #383838; stroke-width: 1.5;\" width=\"95\" x=\"460.5\" y=\"83\"/><text fill=\"#000000\" font-family=\"sans-serif\" font-size=\"12\" font-style=\"italic\" lengthAdjust=\"spacingAndGlyphs\" textLength=\"93\" x=\"461.5\" y=\"99.1387\">«attribute def»</text><text fill=\"#000000\" font-family=\"sans-serif\" font-size=\"12\" lengthAdjust=\"spacingAndGlyphs\" textLength=\"19\" x=\"498.5\" y=\"113.1074\">Sig</text><line style=\"stroke: #383838; stroke-width: 1.5;\" x1=\"461.5\" x2=\"554.5\" y1=\"120.9375\" y2=\"120.9375\"/><text fill=\"#000000\" font-family=\"sans-serif\" font-size=\"11\" lengthAdjust=\"spacingAndGlyphs\" textLength=\"6\" x=\"466.5\" y=\"151.9526\">x</text><line style=\"stroke: #383838; stroke-width: 1.0;\" x1=\"461.5\" x2=\"480.5\" y1=\"135.3398\" y2=\"135.3398\"/><text fill=\"#000000\" font-family=\"sans-serif\" font-size=\"11\" lengthAdjust=\"spacingAndGlyphs\" textLength=\"55\" x=\"480.5\" y=\"138.6479\">attributes</text><line style=\"stroke: #383838; stroke-width: 1.0;\" x1=\"535.5\" x2=\"554.5\" y1=\"135.3398\" y2=\"135.3398\"/></a><!--MD5=[09b614a08d8cba4a07c9adeb5e0fee81]\n",
       "class E3--><a href=\"psysml:546c6a0a-79ca-4224-b50a-77e407cae485\" target=\"_top\" title=\"psysml:546c6a0a-79ca-4224-b50a-77e407cae485\" xlink:actuate=\"onRequest\" xlink:href=\"psysml:546c6a0a-79ca-4224-b50a-77e407cae485\" xlink:show=\"new\" xlink:title=\"psysml:546c6a0a-79ca-4224-b50a-77e407cae485\" xlink:type=\"simple\"><rect fill=\"#FFFFFF\" height=\"45.9375\" id=\"E3\" style=\"stroke: #383838; stroke-width: 1.5;\" width=\"95\" x=\"330.5\" y=\"98\"/><text fill=\"#000000\" font-family=\"sans-serif\" font-size=\"12\" font-style=\"italic\" lengthAdjust=\"spacingAndGlyphs\" textLength=\"93\" x=\"331.5\" y=\"114.1387\">«attribute def»</text><text fill=\"#000000\" font-family=\"sans-serif\" font-size=\"12\" lengthAdjust=\"spacingAndGlyphs\" textLength=\"22\" x=\"367\" y=\"128.1074\">Exit</text><line style=\"stroke: #383838; stroke-width: 1.5;\" x1=\"331.5\" x2=\"424.5\" y1=\"135.9375\" y2=\"135.9375\"/></a><!--MD5=[ebbe1d658d1005bcc118a6aa81145e00]\n",
       "class E4--><a href=\"psysml:4710131f-7c31-45d9-a6fe-10a60fc8490a\" target=\"_top\" title=\"psysml:4710131f-7c31-45d9-a6fe-10a60fc8490a\" xlink:actuate=\"onRequest\" xlink:href=\"psysml:4710131f-7c31-45d9-a6fe-10a60fc8490a\" xlink:show=\"new\" xlink:title=\"psysml:4710131f-7c31-45d9-a6fe-10a60fc8490a\" xlink:type=\"simple\"><rect fill=\"#FFFFFF\" height=\"45.9375\" id=\"E4\" rx=\"10\" ry=\"10\" style=\"stroke: #383838; stroke-width: 1.5;\" width=\"42\" x=\"253\" y=\"98\"/><text fill=\"#000000\" font-family=\"sans-serif\" font-size=\"12\" font-style=\"italic\" lengthAdjust=\"spacingAndGlyphs\" textLength=\"40\" x=\"254\" y=\"114.1387\">«part»</text><text fill=\"#000000\" font-family=\"sans-serif\" font-size=\"12\" lengthAdjust=\"spacingAndGlyphs\" textLength=\"8\" x=\"270\" y=\"128.1074\">p</text><line style=\"stroke: #383838; stroke-width: 1.5;\" x1=\"254\" x2=\"294\" y1=\"135.9375\" y2=\"135.9375\"/></a><!--MD5=[270fce915f116d4de14055a7c1d9a0f3]\n",
       "class E5--><a href=\"psysml:0b92cdb5-3694-4434-adff-e0b2149bd4e6\" target=\"_top\" title=\"psysml:0b92cdb5-3694-4434-adff-e0b2149bd4e6\" xlink:actuate=\"onRequest\" xlink:href=\"psysml:0b92cdb5-3694-4434-adff-e0b2149bd4e6\" xlink:show=\"new\" xlink:title=\"psysml:0b92cdb5-3694-4434-adff-e0b2149bd4e6\" xlink:type=\"simple\"><rect fill=\"#FFFFFF\" height=\"45.9375\" id=\"E5\" rx=\"10\" ry=\"10\" style=\"stroke: #383838; stroke-width: 1.5;\" width=\"55\" x=\"162.5\" y=\"98\"/><text fill=\"#000000\" font-family=\"sans-serif\" font-size=\"12\" font-style=\"italic\" lengthAdjust=\"spacingAndGlyphs\" textLength=\"53\" x=\"163.5\" y=\"114.1387\">«action»</text><text fill=\"#000000\" font-family=\"sans-serif\" font-size=\"12\" lengthAdjust=\"spacingAndGlyphs\" textLength=\"20\" x=\"180\" y=\"128.1074\">act</text><line style=\"stroke: #383838; stroke-width: 1.5;\" x1=\"163.5\" x2=\"216.5\" y1=\"135.9375\" y2=\"135.9375\"/></a><!--MD5=[60a26617385b1d2d0262a64233df1f8d]\n",
       "class E6--><a href=\"psysml:f2a66a23-1197-47ed-b1bd-74e1ad61d6fd\" target=\"_top\" title=\"psysml:f2a66a23-1197-47ed-b1bd-74e1ad61d6fd\" xlink:actuate=\"onRequest\" xlink:href=\"psysml:f2a66a23-1197-47ed-b1bd-74e1ad61d6fd\" xlink:show=\"new\" xlink:title=\"psysml:f2a66a23-1197-47ed-b1bd-74e1ad61d6fd\" xlink:type=\"simple\"><rect fill=\"#FFFFFF\" height=\"160.375\" id=\"E6\" style=\"stroke: #383838; stroke-width: 1.5;\" width=\"95\" x=\"32.5\" y=\"41\"/><text fill=\"#000000\" font-family=\"sans-serif\" font-size=\"12\" font-style=\"italic\" lengthAdjust=\"spacingAndGlyphs\" textLength=\"71\" x=\"44.5\" y=\"57.1387\">«state def»</text><text fill=\"#000000\" font-family=\"sans-serif\" font-size=\"12\" lengthAdjust=\"spacingAndGlyphs\" textLength=\"8\" x=\"76\" y=\"71.1074\">S</text><line style=\"stroke: #383838; stroke-width: 1.5;\" x1=\"33.5\" x2=\"126.5\" y1=\"78.9375\" y2=\"78.9375\"/><text fill=\"#000000\" font-family=\"sans-serif\" font-size=\"11\" lengthAdjust=\"spacingAndGlyphs\" textLength=\"17\" x=\"38.5\" y=\"109.9526\">act</text><text fill=\"#000000\" font-family=\"sans-serif\" font-size=\"11\" lengthAdjust=\"spacingAndGlyphs\" textLength=\"7\" x=\"38.5\" y=\"122.7573\">A</text><text fill=\"#000000\" font-family=\"sans-serif\" font-size=\"11\" lengthAdjust=\"spacingAndGlyphs\" textLength=\"8\" x=\"38.5\" y=\"135.562\">B</text><line style=\"stroke: #383838; stroke-width: 1.0;\" x1=\"33.5\" x2=\"36.5\" y1=\"93.3398\" y2=\"93.3398\"/><text fill=\"#000000\" font-family=\"sans-serif\" font-size=\"11\" lengthAdjust=\"spacingAndGlyphs\" textLength=\"87\" x=\"36.5\" y=\"96.6479\">performActions</text><line style=\"stroke: #383838; stroke-width: 1.0;\" x1=\"123.5\" x2=\"126.5\" y1=\"93.3398\" y2=\"93.3398\"/><text fill=\"#000000\" font-family=\"sans-serif\" font-size=\"11\" lengthAdjust=\"spacingAndGlyphs\" textLength=\"15\" x=\"38.5\" y=\"165.1714\">S1</text><line style=\"stroke: #383838; stroke-width: 1.0;\" x1=\"33.5\" x2=\"62\" y1=\"148.5586\" y2=\"148.5586\"/><text fill=\"#000000\" font-family=\"sans-serif\" font-size=\"11\" lengthAdjust=\"spacingAndGlyphs\" textLength=\"36\" x=\"62\" y=\"151.8667\">states</text><line style=\"stroke: #383838; stroke-width: 1.0;\" x1=\"98\" x2=\"126.5\" y1=\"148.5586\" y2=\"148.5586\"/><text fill=\"#000000\" font-family=\"sans-serif\" font-size=\"11\" lengthAdjust=\"spacingAndGlyphs\" textLength=\"7\" x=\"38.5\" y=\"194.7808\">T</text><line style=\"stroke: #383838; stroke-width: 1.0;\" x1=\"33.5\" x2=\"49.5\" y1=\"178.168\" y2=\"178.168\"/><text fill=\"#000000\" font-family=\"sans-serif\" font-size=\"11\" lengthAdjust=\"spacingAndGlyphs\" textLength=\"61\" x=\"49.5\" y=\"181.4761\">transitions</text><line style=\"stroke: #383838; stroke-width: 1.0;\" x1=\"110.5\" x2=\"126.5\" y1=\"178.168\" y2=\"178.168\"/></a><!--MD5=[1dd1bfd58a279cf63c5f349dbc8fc6a1]\n",
       "class E11--><a href=\"psysml:f6369ddf-93b2-4791-a9ee-7d090a7e6258\" target=\"_top\" title=\"psysml:f6369ddf-93b2-4791-a9ee-7d090a7e6258\" xlink:actuate=\"onRequest\" xlink:href=\"psysml:f6369ddf-93b2-4791-a9ee-7d090a7e6258\" xlink:show=\"new\" xlink:title=\"psysml:f6369ddf-93b2-4791-a9ee-7d090a7e6258\" xlink:type=\"simple\"><rect fill=\"#FFFFFF\" height=\"75.5469\" id=\"E11\" rx=\"10\" ry=\"10\" style=\"stroke: #383838; stroke-width: 1.5;\" width=\"77\" x=\"41.5\" y=\"261\"/><text fill=\"#000000\" font-family=\"sans-serif\" font-size=\"12\" font-style=\"italic\" lengthAdjust=\"spacingAndGlyphs\" textLength=\"47\" x=\"56.5\" y=\"277.1387\">«state»</text><text fill=\"#000000\" font-family=\"sans-serif\" font-size=\"12\" lengthAdjust=\"spacingAndGlyphs\" textLength=\"16\" x=\"72\" y=\"291.1074\">S2</text><line style=\"stroke: #383838; stroke-width: 1.5;\" x1=\"42.5\" x2=\"117.5\" y1=\"298.9375\" y2=\"298.9375\"/><text fill=\"#000000\" font-family=\"sans-serif\" font-size=\"11\" lengthAdjust=\"spacingAndGlyphs\" textLength=\"48\" x=\"47.5\" y=\"329.9526\">doAction</text><line style=\"stroke: #383838; stroke-width: 1.0;\" x1=\"42.5\" x2=\"45.5\" y1=\"313.3398\" y2=\"313.3398\"/><text fill=\"#000000\" font-family=\"sans-serif\" font-size=\"11\" lengthAdjust=\"spacingAndGlyphs\" textLength=\"69\" x=\"45.5\" y=\"316.6479\">sendActions</text><line style=\"stroke: #383838; stroke-width: 1.0;\" x1=\"114.5\" x2=\"117.5\" y1=\"313.3398\" y2=\"313.3398\"/></a><!--MD5=[1f5f03483f7de0d5b3680a7f6650997f]\n",
       "reverse link E6 to E11--><a href=\"psysml:247e0169-6466-401b-83f0-032a7b21c539\" target=\"_top\" title=\"psysml:247e0169-6466-401b-83f0-032a7b21c539\" xlink:actuate=\"onRequest\" xlink:href=\"psysml:247e0169-6466-401b-83f0-032a7b21c539\" xlink:show=\"new\" xlink:title=\"psysml:247e0169-6466-401b-83f0-032a7b21c539\" xlink:type=\"simple\"><path d=\"M80,214.15 C80,214.15 80,260.57 80,260.57 \" fill=\"none\" id=\"E6&lt;-E11\" style=\"stroke: #383838; stroke-width: 1.0;\"/><polygon fill=\"#383838\" points=\"80,201.15,76,207.15,80,213.15,84,207.15,80,201.15\" style=\"stroke: #383838; stroke-width: 1.0;\"/></a><!--MD5=[6a3ac8eae67cab6ed8a16ec1f6902b2c]\n",
       "@startuml\r\n",
       "skinparam linetype ortho\r\n",
       "skinparam monochrome true\r\n",
       "skinparam classbackgroundcolor white\r\n",
       "skinparam shadowing false\r\n",
       "skinparam wrapWidth 300\r\n",
       "hide circle\r\n",
       "\r\n",
       "package \"StateTest\" as E1  [[psysml:800f45c9-cf5c-46ce-b3c3-487778cd6319 ]]  {\r\n",
       "comp def \"Sig\" as E2  <<(T,blue)attribute def>> [[psysml:f1048496-f45f-4de3-be42-17169da36fba ]] {\r\n",
       "- - attributes - -\r\n",
       "x\r\n",
       "}\r\n",
       "comp def \"Exit\" as E3  <<(T,blue)attribute def>> [[psysml:546c6a0a-79ca-4224-b50a-77e407cae485 ]] {\r\n",
       "}\r\n",
       "comp usage \"p\" as E4  <<(T,blue)part>> [[psysml:4710131f-7c31-45d9-a6fe-10a60fc8490a ]] {\r\n",
       "}\r\n",
       "comp usage \"act\" as E5  <<(T,blue)action>> [[psysml:0b92cdb5-3694-4434-adff-e0b2149bd4e6 ]] {\r\n",
       "}\r\n",
       "comp def \"S\" as E6  <<(T,blue)state def>> [[psysml:f2a66a23-1197-47ed-b1bd-74e1ad61d6fd ]] {\r\n",
       "- - performActions - -\r\n",
       "act\r\n",
       "A\r\n",
       "B\r\n",
       "- - states - -\r\n",
       "S1\r\n",
       "- - transitions - -\r\n",
       "T\r\n",
       "}\r\n",
       "comp usage \"S2\" as E11  <<(T,blue)state>> [[psysml:f6369ddf-93b2-4791-a9ee-7d090a7e6258 ]] {\r\n",
       "- - sendActions - -\r\n",
       "doAction\r\n",
       "}\r\n",
       "E6 *- - E11 [[psysml:247e0169-6466-401b-83f0-032a7b21c539 ]] \r\n",
       "}\r\n",
       "@enduml\r\n",
       "\n",
       "PlantUML version 1.2020.13(Sat Jun 13 12:26:38 UTC 2020)\n",
       "(EPL source distribution)\n",
       "Java Runtime: OpenJDK Runtime Environment\n",
       "JVM: OpenJDK 64-Bit Server VM\n",
       "Default Encoding: UTF-8\n",
       "Language: en\n",
       "Country: null\n",
       "--></g></svg>"
      ]
     },
     "execution_count": 56,
     "metadata": {},
     "output_type": "execute_result"
    }
   ],
   "source": [
    "%viz --style=\"ORTHOLINE\" --view=\"Sequence\" \"StateTest\""
   ]
  },
  {
   "cell_type": "code",
   "execution_count": 57,
   "id": "317998a2",
   "metadata": {
    "execution": {
     "iopub.execute_input": "2021-04-21T20:23:46.733243Z",
     "iopub.status.busy": "2021-04-21T20:23:46.732142Z",
     "iopub.status.idle": "2021-04-21T20:23:46.779724Z",
     "shell.execute_reply": "2021-04-21T20:23:46.778141Z"
    }
   },
   "outputs": [
    {
     "data": {
      "image/svg+xml": [
       "<?xml version=\"1.0\" encoding=\"UTF-8\" standalone=\"no\"?><svg xmlns=\"http://www.w3.org/2000/svg\" xmlns:xlink=\"http://www.w3.org/1999/xlink\" contentScriptType=\"application/ecmascript\" contentStyleType=\"text/css\" height=\"570px\" preserveAspectRatio=\"none\" style=\"width:819px;height:570px;\" version=\"1.1\" viewBox=\"0 0 819 570\" width=\"819px\" zoomAndPan=\"magnify\"><defs/><g><!--MD5=[fbc87193dbaf4d95561dea2c320d4a47]\n",
       "cluster E1--><a href=\"psysml:800f45c9-cf5c-46ce-b3c3-487778cd6319\" target=\"_top\" title=\"psysml:800f45c9-cf5c-46ce-b3c3-487778cd6319\" xlink:actuate=\"onRequest\" xlink:href=\"psysml:800f45c9-cf5c-46ce-b3c3-487778cd6319\" xlink:show=\"new\" xlink:title=\"psysml:800f45c9-cf5c-46ce-b3c3-487778cd6319\" xlink:type=\"simple\"><polygon fill=\"#FFFFFF\" points=\"16,6,98,6,105,28.2969,797,28.2969,797,558,16,558,16,6\" style=\"stroke: #000000; stroke-width: 1.5;\"/><line style=\"stroke: #000000; stroke-width: 1.5;\" x1=\"16\" x2=\"105\" y1=\"28.2969\" y2=\"28.2969\"/><text fill=\"#000000\" font-family=\"sans-serif\" font-size=\"14\" font-weight=\"bold\" lengthAdjust=\"spacingAndGlyphs\" textLength=\"76\" x=\"20\" y=\"20.9951\">StateTest</text></a><!--MD5=[14e3b0961a2654348d326746436168a1]\n",
       "cluster E6--><a href=\"psysml:f2a66a23-1197-47ed-b1bd-74e1ad61d6fd\" target=\"_top\" title=\"psysml:f2a66a23-1197-47ed-b1bd-74e1ad61d6fd\" xlink:actuate=\"onRequest\" xlink:href=\"psysml:f2a66a23-1197-47ed-b1bd-74e1ad61d6fd\" xlink:show=\"new\" xlink:title=\"psysml:f2a66a23-1197-47ed-b1bd-74e1ad61d6fd\" xlink:type=\"simple\"><rect fill=\"#FFFFFF\" height=\"485\" id=\"E6\" style=\"stroke: #383838; stroke-width: 1.5;\" width=\"327\" x=\"446\" y=\"49\"/><rect fill=\"#F8F8F8\" height=\"37.9375\" style=\"stroke: #383838; stroke-width: 1.5;\" width=\"327\" x=\"446\" y=\"49\"/><text fill=\"#000000\" font-family=\"sans-serif\" font-size=\"12\" font-style=\"italic\" lengthAdjust=\"spacingAndGlyphs\" textLength=\"71\" x=\"574\" y=\"65.1387\">«state def»</text><text fill=\"#000000\" font-family=\"sans-serif\" font-size=\"12\" lengthAdjust=\"spacingAndGlyphs\" textLength=\"8\" x=\"605.5\" y=\"79.1074\">S</text><line style=\"stroke: #383838; stroke-width: 1.0;\" x1=\"446\" x2=\"773\" y1=\"132.8438\" y2=\"132.8438\"/><text fill=\"#000000\" font-family=\"sans-serif\" font-size=\"12\" font-weight=\"bold\" lengthAdjust=\"spacingAndGlyphs\" textLength=\"38\" x=\"451\" y=\"100.0762\">entry</text><text fill=\"#000000\" font-family=\"sans-serif\" font-size=\"12\" lengthAdjust=\"spacingAndGlyphs\" textLength=\"16\" x=\"489\" y=\"100.0762\">/ A</text><text fill=\"#000000\" font-family=\"sans-serif\" font-size=\"12\" font-weight=\"bold\" lengthAdjust=\"spacingAndGlyphs\" textLength=\"18\" x=\"451\" y=\"114.0449\">do</text><text fill=\"#000000\" font-family=\"sans-serif\" font-size=\"12\" lengthAdjust=\"spacingAndGlyphs\" textLength=\"16\" x=\"469\" y=\"114.0449\">/ B</text><text fill=\"#000000\" font-family=\"sans-serif\" font-size=\"12\" font-weight=\"bold\" lengthAdjust=\"spacingAndGlyphs\" textLength=\"26\" x=\"451\" y=\"128.0137\">exit</text><text fill=\"#000000\" font-family=\"sans-serif\" font-size=\"12\" lengthAdjust=\"spacingAndGlyphs\" textLength=\"28\" x=\"477\" y=\"128.0137\">/ act</text></a><!--MD5=[b4997ac47864f28c2f74865a473b2911]\n",
       "class E2--><a href=\"psysml:f1048496-f45f-4de3-be42-17169da36fba\" target=\"_top\" title=\"psysml:f1048496-f45f-4de3-be42-17169da36fba\" xlink:actuate=\"onRequest\" xlink:href=\"psysml:f1048496-f45f-4de3-be42-17169da36fba\" xlink:show=\"new\" xlink:title=\"psysml:f1048496-f45f-4de3-be42-17169da36fba\" xlink:type=\"simple\"><rect fill=\"#FFFFFF\" height=\"75.5469\" id=\"E2\" style=\"stroke: #383838; stroke-width: 1.5;\" width=\"95\" x=\"334.5\" y=\"119\"/><text fill=\"#000000\" font-family=\"sans-serif\" font-size=\"12\" font-style=\"italic\" lengthAdjust=\"spacingAndGlyphs\" textLength=\"93\" x=\"335.5\" y=\"135.1387\">«attribute def»</text><text fill=\"#000000\" font-family=\"sans-serif\" font-size=\"12\" lengthAdjust=\"spacingAndGlyphs\" textLength=\"19\" x=\"372.5\" y=\"149.1074\">Sig</text><line style=\"stroke: #383838; stroke-width: 1.5;\" x1=\"335.5\" x2=\"428.5\" y1=\"156.9375\" y2=\"156.9375\"/><text fill=\"#000000\" font-family=\"sans-serif\" font-size=\"11\" lengthAdjust=\"spacingAndGlyphs\" textLength=\"6\" x=\"340.5\" y=\"187.9526\">x</text><line style=\"stroke: #383838; stroke-width: 1.0;\" x1=\"335.5\" x2=\"354.5\" y1=\"171.3398\" y2=\"171.3398\"/><text fill=\"#000000\" font-family=\"sans-serif\" font-size=\"11\" lengthAdjust=\"spacingAndGlyphs\" textLength=\"55\" x=\"354.5\" y=\"174.6479\">attributes</text><line style=\"stroke: #383838; stroke-width: 1.0;\" x1=\"409.5\" x2=\"428.5\" y1=\"171.3398\" y2=\"171.3398\"/></a><!--MD5=[09b614a08d8cba4a07c9adeb5e0fee81]\n",
       "class E3--><a href=\"psysml:546c6a0a-79ca-4224-b50a-77e407cae485\" target=\"_top\" title=\"psysml:546c6a0a-79ca-4224-b50a-77e407cae485\" xlink:actuate=\"onRequest\" xlink:href=\"psysml:546c6a0a-79ca-4224-b50a-77e407cae485\" xlink:show=\"new\" xlink:title=\"psysml:546c6a0a-79ca-4224-b50a-77e407cae485\" xlink:type=\"simple\"><rect fill=\"#FFFFFF\" height=\"45.9375\" id=\"E3\" style=\"stroke: #383838; stroke-width: 1.5;\" width=\"95\" x=\"204.5\" y=\"134\"/><text fill=\"#000000\" font-family=\"sans-serif\" font-size=\"12\" font-style=\"italic\" lengthAdjust=\"spacingAndGlyphs\" textLength=\"93\" x=\"205.5\" y=\"150.1387\">«attribute def»</text><text fill=\"#000000\" font-family=\"sans-serif\" font-size=\"12\" lengthAdjust=\"spacingAndGlyphs\" textLength=\"22\" x=\"241\" y=\"164.1074\">Exit</text><line style=\"stroke: #383838; stroke-width: 1.5;\" x1=\"205.5\" x2=\"298.5\" y1=\"171.9375\" y2=\"171.9375\"/></a><!--MD5=[ebbe1d658d1005bcc118a6aa81145e00]\n",
       "class E4--><a href=\"psysml:4710131f-7c31-45d9-a6fe-10a60fc8490a\" target=\"_top\" title=\"psysml:4710131f-7c31-45d9-a6fe-10a60fc8490a\" xlink:actuate=\"onRequest\" xlink:href=\"psysml:4710131f-7c31-45d9-a6fe-10a60fc8490a\" xlink:show=\"new\" xlink:title=\"psysml:4710131f-7c31-45d9-a6fe-10a60fc8490a\" xlink:type=\"simple\"><rect fill=\"#FFFFFF\" height=\"45.9375\" id=\"E4\" rx=\"10\" ry=\"10\" style=\"stroke: #383838; stroke-width: 1.5;\" width=\"42\" x=\"127\" y=\"134\"/><text fill=\"#000000\" font-family=\"sans-serif\" font-size=\"12\" font-style=\"italic\" lengthAdjust=\"spacingAndGlyphs\" textLength=\"40\" x=\"128\" y=\"150.1387\">«part»</text><text fill=\"#000000\" font-family=\"sans-serif\" font-size=\"12\" lengthAdjust=\"spacingAndGlyphs\" textLength=\"8\" x=\"144\" y=\"164.1074\">p</text><line style=\"stroke: #383838; stroke-width: 1.5;\" x1=\"128\" x2=\"168\" y1=\"171.9375\" y2=\"171.9375\"/></a><g id=\"E1.E5\"><a href=\"psysml:0b92cdb5-3694-4434-adff-e0b2149bd4e6\" target=\"_top\" title=\"psysml:0b92cdb5-3694-4434-adff-e0b2149bd4e6\" xlink:actuate=\"onRequest\" xlink:href=\"psysml:0b92cdb5-3694-4434-adff-e0b2149bd4e6\" xlink:show=\"new\" xlink:title=\"psysml:0b92cdb5-3694-4434-adff-e0b2149bd4e6\" xlink:type=\"simple\"><rect fill=\"#FFFFFF\" height=\"42.9375\" id=\"E5\" rx=\"10\" ry=\"10\" style=\"stroke: #383838; stroke-width: 1.5;\" width=\"60\" x=\"32\" y=\"135.5\"/><rect fill=\"#F8F8F8\" height=\"37.9375\" rx=\"10\" ry=\"10\" style=\"stroke: #F8F8F8; stroke-width: 1.5;\" width=\"60\" x=\"32\" y=\"135.5\"/><rect fill=\"#F8F8F8\" height=\"10\" style=\"stroke: #F8F8F8; stroke-width: 1.5;\" width=\"60\" x=\"32\" y=\"163.4375\"/><rect fill=\"none\" height=\"42.9375\" id=\"E5\" rx=\"10\" ry=\"10\" style=\"stroke: #383838; stroke-width: 1.5;\" width=\"60\" x=\"32\" y=\"135.5\"/><text fill=\"#000000\" font-family=\"sans-serif\" font-size=\"12\" font-style=\"italic\" lengthAdjust=\"spacingAndGlyphs\" textLength=\"53\" x=\"35.5\" y=\"151.6387\">«action»</text><text fill=\"#000000\" font-family=\"sans-serif\" font-size=\"12\" lengthAdjust=\"spacingAndGlyphs\" textLength=\"20\" x=\"52\" y=\"165.6074\">act</text></a></g><ellipse cx=\"558\" cy=\"157\" fill=\"#000000\" rx=\"10\" ry=\"10\" style=\"stroke: none; stroke-width: 1.0;\"/><ellipse cx=\"583\" cy=\"508\" fill=\"none\" rx=\"10\" ry=\"10\" style=\"stroke: #000000; stroke-width: 1.0;\"/><ellipse cx=\"583.5\" cy=\"508.5\" fill=\"#000000\" rx=\"6\" ry=\"6\" style=\"stroke: none; stroke-width: 1.0;\"/><g id=\"E1.E6.E7\"><a href=\"psysml:0ffea2c5-2698-4589-991c-94f7ac5b0395\" target=\"_top\" title=\"psysml:0ffea2c5-2698-4589-991c-94f7ac5b0395\" xlink:actuate=\"onRequest\" xlink:href=\"psysml:0ffea2c5-2698-4589-991c-94f7ac5b0395\" xlink:show=\"new\" xlink:title=\"psysml:0ffea2c5-2698-4589-991c-94f7ac5b0395\" xlink:type=\"simple\"><rect fill=\"#FFFFFF\" height=\"40\" id=\"E7\" rx=\"10\" ry=\"10\" style=\"stroke: #383838; stroke-width: 1.5;\" width=\"50\" x=\"533\" y=\"256\"/><rect fill=\"#F8F8F8\" height=\"23.9688\" rx=\"10\" ry=\"10\" style=\"stroke: #F8F8F8; stroke-width: 1.5;\" width=\"50\" x=\"533\" y=\"256\"/><rect fill=\"#F8F8F8\" height=\"10\" style=\"stroke: #F8F8F8; stroke-width: 1.5;\" width=\"50\" x=\"533\" y=\"269.9688\"/><rect fill=\"none\" height=\"40\" id=\"E7\" rx=\"10\" ry=\"10\" style=\"stroke: #383838; stroke-width: 1.5;\" width=\"50\" x=\"533\" y=\"256\"/><text fill=\"#000000\" font-family=\"sans-serif\" font-size=\"12\" lengthAdjust=\"spacingAndGlyphs\" textLength=\"16\" x=\"550\" y=\"272.1387\">S1</text></a></g><g id=\"E1.E6.E8\"><a href=\"psysml:f6369ddf-93b2-4791-a9ee-7d090a7e6258\" target=\"_top\" title=\"psysml:f6369ddf-93b2-4791-a9ee-7d090a7e6258\" xlink:actuate=\"onRequest\" xlink:href=\"psysml:f6369ddf-93b2-4791-a9ee-7d090a7e6258\" xlink:show=\"new\" xlink:title=\"psysml:f6369ddf-93b2-4791-a9ee-7d090a7e6258\" xlink:type=\"simple\"><rect fill=\"#FFFFFF\" height=\"47.9375\" id=\"E8\" rx=\"10\" ry=\"10\" style=\"stroke: #383838; stroke-width: 1.5;\" width=\"169\" x=\"498.5\" y=\"373\"/><rect fill=\"#F8F8F8\" height=\"23.9688\" rx=\"10\" ry=\"10\" style=\"stroke: #F8F8F8; stroke-width: 1.5;\" width=\"169\" x=\"498.5\" y=\"373\"/><rect fill=\"#F8F8F8\" height=\"10\" style=\"stroke: #F8F8F8; stroke-width: 1.5;\" width=\"169\" x=\"498.5\" y=\"386.9688\"/><rect fill=\"none\" height=\"47.9375\" id=\"E8\" rx=\"10\" ry=\"10\" style=\"stroke: #383838; stroke-width: 1.5;\" width=\"169\" x=\"498.5\" y=\"373\"/><text fill=\"#000000\" font-family=\"sans-serif\" font-size=\"12\" lengthAdjust=\"spacingAndGlyphs\" textLength=\"16\" x=\"575\" y=\"389.1387\">S2</text><line style=\"stroke: #383838; stroke-width: 1.0;\" x1=\"498.5\" x2=\"667.5\" y1=\"396.9688\" y2=\"396.9688\"/><text fill=\"#000000\" font-family=\"sans-serif\" font-size=\"12\" font-weight=\"bold\" lengthAdjust=\"spacingAndGlyphs\" textLength=\"18\" x=\"503.5\" y=\"410.1074\">do</text><text fill=\"#000000\" font-family=\"sans-serif\" font-size=\"12\" lengthAdjust=\"spacingAndGlyphs\" textLength=\"141\" x=\"521.5\" y=\"410.1074\">/  send Sig(T::s::x) to p</text></a></g><!--MD5=[5a531d3a85f3339e6e197084acb48195]\n",
       "link *start*E6 to E7--><a href=\"psysml:3d6f6111-a5f0-4f07-bf0a-543b5052b3c3\" target=\"_top\" title=\"psysml:3d6f6111-a5f0-4f07-bf0a-543b5052b3c3\" xlink:actuate=\"onRequest\" xlink:href=\"psysml:3d6f6111-a5f0-4f07-bf0a-543b5052b3c3\" xlink:show=\"new\" xlink:title=\"psysml:3d6f6111-a5f0-4f07-bf0a-543b5052b3c3\" xlink:type=\"simple\"><path d=\"M558,167.15 C558,167.15 558,250.67 558,250.67 \" fill=\"none\" id=\"*start*E6-&gt;E7\" style=\"stroke: #383838; stroke-width: 1.0;\"/><polygon fill=\"#383838\" points=\"558,255.67,562,246.67,558,250.67,554,246.67,558,255.67\" style=\"stroke: #383838; stroke-width: 1.0;\"/></a><!--MD5=[7ec9a8babba89ddcae1318ca9fb3c814]\n",
       "link E8 to *end*E6--><a href=\"psysml:374875bf-0004-40f7-bedc-1374d527cde5\" target=\"_top\" title=\"psysml:374875bf-0004-40f7-bedc-1374d527cde5\" xlink:actuate=\"onRequest\" xlink:href=\"psysml:374875bf-0004-40f7-bedc-1374d527cde5\" xlink:show=\"new\" xlink:title=\"psysml:374875bf-0004-40f7-bedc-1374d527cde5\" xlink:type=\"simple\"><path d=\"M583,421.09 C583,421.09 583,492.94 583,492.94 \" fill=\"none\" id=\"E8-&gt;*end*E6\" style=\"stroke: #383838; stroke-width: 1.0;\"/><polygon fill=\"#383838\" points=\"583,497.94,587,488.94,583,492.94,579,488.94,583,497.94\" style=\"stroke: #383838; stroke-width: 1.0;\"/><text fill=\"#000000\" font-family=\"sans-serif\" font-size=\"13\" lengthAdjust=\"spacingAndGlyphs\" textLength=\"23\" x=\"584\" y=\"464.0669\">Exit</text></a><!--MD5=[79bc8f324ef4d02c541433f2e6e513c3]\n",
       "link E7 to E8--><a href=\"psysml:69f1494c-077d-4519-8343-87cce73be713\" target=\"_top\" title=\"psysml:69f1494c-077d-4519-8343-87cce73be713\" xlink:actuate=\"onRequest\" xlink:href=\"psysml:69f1494c-077d-4519-8343-87cce73be713\" xlink:show=\"new\" xlink:title=\"psysml:69f1494c-077d-4519-8343-87cce73be713\" xlink:type=\"simple\"><path d=\"M549.67,296.25 C549.67,296.25 549.67,367.93 549.67,367.93 \" fill=\"none\" id=\"E7-&gt;E8\" style=\"stroke: #383838; stroke-width: 1.0;\"/><polygon fill=\"#383838\" points=\"549.67,372.93,553.67,363.93,549.67,367.93,545.67,363.93,549.67,372.93\" style=\"stroke: #383838; stroke-width: 1.0;\"/><text fill=\"#000000\" font-family=\"sans-serif\" font-size=\"13\" lengthAdjust=\"spacingAndGlyphs\" textLength=\"81\" x=\"498\" y=\"339.0669\">Sig /action D</text></a><!--MD5=[bfa3c8b0d15052fdf50ae9310b491027]\n",
       "link E8 to E7--><a href=\"psysml:f8d53726-bfe5-4353-91f3-ae2ef06d9a38\" target=\"_top\" title=\"psysml:f8d53726-bfe5-4353-91f3-ae2ef06d9a38\" xlink:actuate=\"onRequest\" xlink:href=\"psysml:f8d53726-bfe5-4353-91f3-ae2ef06d9a38\" xlink:show=\"new\" xlink:title=\"psysml:f8d53726-bfe5-4353-91f3-ae2ef06d9a38\" xlink:type=\"simple\"><path d=\"M566.33,372.8 C566.33,372.8 566.33,301.14 566.33,301.14 \" fill=\"none\" id=\"E8-&gt;E7\" style=\"stroke: #383838; stroke-width: 1.0;\"/><polygon fill=\"#383838\" points=\"566.33,296.14,562.33,305.14,566.33,301.14,570.33,305.14,566.33,296.14\" style=\"stroke: #383838; stroke-width: 1.0;\"/><text fill=\"#000000\" font-family=\"sans-serif\" font-size=\"13\" lengthAdjust=\"spacingAndGlyphs\" textLength=\"135\" x=\"621\" y=\"339.0669\">Sig [true]/send s to p</text></a><!--MD5=[67e9b2c13db6cd3ce9bd8e70b3a4c901]\n",
       "@startuml\r\n",
       "skinparam linetype ortho\r\n",
       "skinparam monochrome true\r\n",
       "skinparam classbackgroundcolor white\r\n",
       "skinparam shadowing false\r\n",
       "skinparam wrapWidth 300\r\n",
       "hide circle\r\n",
       "\r\n",
       "package \"StateTest\" as E1  [[psysml:800f45c9-cf5c-46ce-b3c3-487778cd6319 ]]  {\r\n",
       "comp def \"Sig\" as E2  <<(T,blue)attribute def>> [[psysml:f1048496-f45f-4de3-be42-17169da36fba ]] {\r\n",
       "- - attributes - -\r\n",
       "x\r\n",
       "}\r\n",
       "comp def \"Exit\" as E3  <<(T,blue)attribute def>> [[psysml:546c6a0a-79ca-4224-b50a-77e407cae485 ]] {\r\n",
       "}\r\n",
       "comp usage \"p\" as E4  <<(T,blue)part>> [[psysml:4710131f-7c31-45d9-a6fe-10a60fc8490a ]] {\r\n",
       "}\r\n",
       "rec usage \"act\" as E5  <<(T,blue)action>> [[psysml:0b92cdb5-3694-4434-adff-e0b2149bd4e6 ]] {\r\n",
       "}\r\n",
       "\r\n",
       "rec def \"S\" as E6  <<(T,blue)state def>> [[psysml:f2a66a23-1197-47ed-b1bd-74e1ad61d6fd ]] {\r\n",
       "rec usage \"S1\" as E7 [[psysml:0ffea2c5-2698-4589-991c-94f7ac5b0395 ]] {\r\n",
       "}\r\n",
       "\r\n",
       "rec usage \"S2\" as E8 [[psysml:f6369ddf-93b2-4791-a9ee-7d090a7e6258 ]] {\r\n",
       "desc \"S2\" as E8  : **do**/  send Sig(T::s::x) to p\r\n",
       "}\r\n",
       "\r\n",
       "desc \"S\" as E6  : **entry**/ A\r\n",
       "desc \"S\" as E6  : **do**/ B\r\n",
       "desc \"S\" as E6  : **exit**/ act \r\n",
       "[*] - -> E7 [[psysml:3d6f6111-a5f0-4f07-bf0a-543b5052b3c3 ]] \r\n",
       "E8  - -> [*] [[psysml:374875bf-0004-40f7-bedc-1374d527cde5 ]] : Exit \r\n",
       "}\r\n",
       "\r\n",
       "E7  - -> E8 [[psysml:69f1494c-077d-4519-8343-87cce73be713 ]] : Sig /action D\r\n",
       "E8  - -> E7 [[psysml:f8d53726-bfe5-4353-91f3-ae2ef06d9a38 ]] : Sig [true]/send s to p\r\n",
       "}\r\n",
       "@enduml\r\n",
       "\n",
       "PlantUML version 1.2020.13(Sat Jun 13 12:26:38 UTC 2020)\n",
       "(EPL source distribution)\n",
       "Java Runtime: OpenJDK Runtime Environment\n",
       "JVM: OpenJDK 64-Bit Server VM\n",
       "Default Encoding: UTF-8\n",
       "Language: en\n",
       "Country: null\n",
       "--></g></svg>"
      ]
     },
     "execution_count": 57,
     "metadata": {},
     "output_type": "execute_result"
    }
   ],
   "source": [
    "%viz --style=\"ORTHOLINE\" --view=\"MIXED\" \"StateTest\""
   ]
  }
 ],
 "metadata": {
  "kernelspec": {
   "display_name": "SysML",
   "language": "sysml",
   "name": "sysml"
  },
  "language_info": {
   "codemirror_mode": "sysml",
   "file_extension": ".sysml",
   "mimetype": "text/x-sysml",
   "name": "SysML",
   "pygments_lexer": "java",
   "version": "1.0.0"
  }
 },
 "nbformat": 4,
 "nbformat_minor": 5
}
