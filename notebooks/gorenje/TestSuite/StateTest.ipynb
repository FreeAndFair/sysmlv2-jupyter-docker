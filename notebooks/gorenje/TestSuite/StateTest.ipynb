{
 "cells": [
  {
   "cell_type": "markdown",
   "id": "directed-meditation",
   "metadata": {},
   "source": [
    "# SysML v2 Test Suite\n",
    "\n",
    "This can notebook can be cleared using menu `Edit --> Clear All Outputs` and then all cells can be\n",
    "run using menu `Run --> Run All Cells`.\n",
    "\n",
    "**WARNING**: This file is generated, all modifications here will be ignored.\n"
   ]
  },
  {
   "cell_type": "markdown",
   "id": "entitled-support",
   "metadata": {},
   "source": [
    "## File: ../../sysml/src/examples/Simple Tests/StateTest.sysml"
   ]
  },
  {
   "cell_type": "code",
   "execution_count": 1,
   "id": "changed-beijing",
   "metadata": {
    "execution": {
     "iopub.execute_input": "2021-03-26T09:42:42.088157Z",
     "iopub.status.busy": "2021-03-26T09:42:42.087590Z",
     "iopub.status.idle": "2021-03-26T09:42:43.212002Z",
     "shell.execute_reply": "2021-03-26T09:42:43.211568Z"
    }
   },
   "outputs": [
    {
     "data": {
      "text/plain": [
       "Package StateTest (bf6d1c47-aaec-4d15-898f-13355aa42b30)\n"
      ]
     },
     "execution_count": 1,
     "metadata": {},
     "output_type": "execute_result"
    }
   ],
   "source": [
    "package StateTest {\n",
    "\tattribute def Sig {\n",
    "\t\tx;\n",
    "\t}\n",
    "\tattribute def Exit;\n",
    "\t\n",
    "\tpart p;\n",
    "\t\n",
    "\taction act;\n",
    "\t\n",
    "\tstate def S {\n",
    "\t\tentry action A; then S1;\n",
    "\t\tdo action B;\n",
    "\t\texit act;\n",
    "\t\t\n",
    "\t\tstate S1;\n",
    "\t\t\taccept s : Sig\n",
    "\t\t\tdo action D\n",
    "\t\t\tthen S2;\n",
    "\t\t\n",
    "\t\tstate S2 {\n",
    "\t\t\tdo send Sig(T::s::x) to p;\n",
    "\t\t}\n",
    "\t\taccept Exit then done;\n",
    "\t\t\n",
    "\t\ttransition T\n",
    "\t\t\tfirst S2\n",
    "\t\t\taccept s : Sig\n",
    "\t\t\tif true\n",
    "\t\t\tdo send s to p\n",
    "\t\t\tthen S1;\t\t\n",
    "\t}\n",
    "}"
   ]
  },
  {
   "cell_type": "code",
   "execution_count": 2,
   "id": "angry-symbol",
   "metadata": {
    "execution": {
     "iopub.execute_input": "2021-03-26T09:42:43.263864Z",
     "iopub.status.busy": "2021-03-26T09:42:43.263126Z",
     "iopub.status.idle": "2021-03-26T09:42:43.272201Z",
     "shell.execute_reply": "2021-03-26T09:42:43.272556Z"
    }
   },
   "outputs": [
    {
     "data": {
      "text/plain": [
       "java.lang.IllegalArgumentException: Invalid Style: COMPTREE Possible styles: POLYLINE, LR, STDCOLOR, PLANTUML, DEFAULT, TB, ORTHOLINE\n",
       "\tat org.omg.sysml.plantuml.SysML2PlantUMLStyle.get(SysML2PlantUMLStyle.java:258)\n",
       "\tat org.omg.sysml.plantuml.SysML2PlantUMLSvc.applyStyle(SysML2PlantUMLSvc.java:73)\n",
       "\tat org.omg.sysml.plantuml.SysML2PlantUMLSvc.getPlantUMLCode(SysML2PlantUMLSvc.java:88)\n",
       "\tat org.omg.sysml.plantuml.SysML2PlantUMLSvc.getSVG(SysML2PlantUMLSvc.java:99)\n",
       "\tat org.omg.sysml.interactive.SysMLInteractive.viz(SysMLInteractive.java:294)\n",
       "\tat org.omg.sysml.jupyter.kernel.magic.Viz.viz(Viz.java:47)\n",
       "\tat java.base/jdk.internal.reflect.NativeMethodAccessorImpl.invoke0(Native Method)\n",
       "\tat java.base/jdk.internal.reflect.NativeMethodAccessorImpl.invoke(NativeMethodAccessorImpl.java:78)\n",
       "\tat java.base/jdk.internal.reflect.DelegatingMethodAccessorImpl.invoke(DelegatingMethodAccessorImpl.java:43)\n",
       "\tat java.base/java.lang.reflect.Method.invoke(Method.java:568)\n",
       "\tat io.github.spencerpark.jupyter.kernel.magic.registry.Magics.invoke(Magics.java:89)\n",
       "\tat io.github.spencerpark.jupyter.kernel.magic.registry.Magics.access$000(Magics.java:8)\n",
       "\tat io.github.spencerpark.jupyter.kernel.magic.registry.Magics$LineReflectionMagicFunction.execute(Magics.java:149)\n",
       "\tat io.github.spencerpark.jupyter.kernel.magic.registry.Magics.applyLineMagic(Magics.java:26)\n",
       "\tat org.omg.sysml.jupyter.kernel.SysMLKernel.eval(SysMLKernel.java:76)\n",
       "\tat io.github.spencerpark.jupyter.kernel.BaseKernel.handleExecuteRequest(BaseKernel.java:334)\n",
       "\tat io.github.spencerpark.jupyter.channels.ShellChannel.lambda$bind$0(ShellChannel.java:64)\n",
       "\tat io.github.spencerpark.jupyter.channels.Loop.lambda$new$0(Loop.java:21)\n",
       "\tat io.github.spencerpark.jupyter.channels.Loop.run(Loop.java:78)\n"
      ]
     },
     "execution_count": 2,
     "metadata": {},
     "output_type": "execute_result"
    }
   ],
   "source": [
    "%viz --style=\"COMPTREE\" --view=\"Default\" \"StateTest\""
   ]
  },
  {
   "cell_type": "code",
   "execution_count": 3,
   "id": "signed-statement",
   "metadata": {
    "execution": {
     "iopub.execute_input": "2021-03-26T09:42:43.327065Z",
     "iopub.status.busy": "2021-03-26T09:42:43.325567Z",
     "iopub.status.idle": "2021-03-26T09:42:43.330983Z",
     "shell.execute_reply": "2021-03-26T09:42:43.331362Z"
    }
   },
   "outputs": [
    {
     "data": {
      "text/plain": [
       "java.lang.IllegalArgumentException: Invalid Style: COMPTREE Possible styles: POLYLINE, LR, STDCOLOR, PLANTUML, DEFAULT, TB, ORTHOLINE\n",
       "\tat org.omg.sysml.plantuml.SysML2PlantUMLStyle.get(SysML2PlantUMLStyle.java:258)\n",
       "\tat org.omg.sysml.plantuml.SysML2PlantUMLSvc.applyStyle(SysML2PlantUMLSvc.java:73)\n",
       "\tat org.omg.sysml.plantuml.SysML2PlantUMLSvc.getPlantUMLCode(SysML2PlantUMLSvc.java:88)\n",
       "\tat org.omg.sysml.plantuml.SysML2PlantUMLSvc.getSVG(SysML2PlantUMLSvc.java:99)\n",
       "\tat org.omg.sysml.interactive.SysMLInteractive.viz(SysMLInteractive.java:294)\n",
       "\tat org.omg.sysml.jupyter.kernel.magic.Viz.viz(Viz.java:47)\n",
       "\tat java.base/jdk.internal.reflect.NativeMethodAccessorImpl.invoke0(Native Method)\n",
       "\tat java.base/jdk.internal.reflect.NativeMethodAccessorImpl.invoke(NativeMethodAccessorImpl.java:78)\n",
       "\tat java.base/jdk.internal.reflect.DelegatingMethodAccessorImpl.invoke(DelegatingMethodAccessorImpl.java:43)\n",
       "\tat java.base/java.lang.reflect.Method.invoke(Method.java:568)\n",
       "\tat io.github.spencerpark.jupyter.kernel.magic.registry.Magics.invoke(Magics.java:89)\n",
       "\tat io.github.spencerpark.jupyter.kernel.magic.registry.Magics.access$000(Magics.java:8)\n",
       "\tat io.github.spencerpark.jupyter.kernel.magic.registry.Magics$LineReflectionMagicFunction.execute(Magics.java:149)\n",
       "\tat io.github.spencerpark.jupyter.kernel.magic.registry.Magics.applyLineMagic(Magics.java:26)\n",
       "\tat org.omg.sysml.jupyter.kernel.SysMLKernel.eval(SysMLKernel.java:76)\n",
       "\tat io.github.spencerpark.jupyter.kernel.BaseKernel.handleExecuteRequest(BaseKernel.java:334)\n",
       "\tat io.github.spencerpark.jupyter.channels.ShellChannel.lambda$bind$0(ShellChannel.java:64)\n",
       "\tat io.github.spencerpark.jupyter.channels.Loop.lambda$new$0(Loop.java:21)\n",
       "\tat io.github.spencerpark.jupyter.channels.Loop.run(Loop.java:78)\n"
      ]
     },
     "execution_count": 3,
     "metadata": {},
     "output_type": "execute_result"
    }
   ],
   "source": [
    "%viz --style=\"COMPTREE\" --view=\"Tree\" \"StateTest\""
   ]
  },
  {
   "cell_type": "code",
   "execution_count": 4,
   "id": "assured-conviction",
   "metadata": {
    "execution": {
     "iopub.execute_input": "2021-03-26T09:42:43.384070Z",
     "iopub.status.busy": "2021-03-26T09:42:43.383512Z",
     "iopub.status.idle": "2021-03-26T09:42:43.387386Z",
     "shell.execute_reply": "2021-03-26T09:42:43.387777Z"
    }
   },
   "outputs": [
    {
     "data": {
      "text/plain": [
       "java.lang.IllegalArgumentException: Invalid View: State View candidates are: Default Tree StateMachine Interconnection Activity Sequence MIXED \n",
       "\tat org.omg.sysml.plantuml.SysML2PlantUMLSvc.setView(SysML2PlantUMLSvc.java:63)\n",
       "\tat org.omg.sysml.interactive.SysMLInteractive.viz(SysMLInteractive.java:286)\n",
       "\tat org.omg.sysml.jupyter.kernel.magic.Viz.viz(Viz.java:47)\n",
       "\tat java.base/jdk.internal.reflect.NativeMethodAccessorImpl.invoke0(Native Method)\n",
       "\tat java.base/jdk.internal.reflect.NativeMethodAccessorImpl.invoke(NativeMethodAccessorImpl.java:78)\n",
       "\tat java.base/jdk.internal.reflect.DelegatingMethodAccessorImpl.invoke(DelegatingMethodAccessorImpl.java:43)\n",
       "\tat java.base/java.lang.reflect.Method.invoke(Method.java:568)\n",
       "\tat io.github.spencerpark.jupyter.kernel.magic.registry.Magics.invoke(Magics.java:89)\n",
       "\tat io.github.spencerpark.jupyter.kernel.magic.registry.Magics.access$000(Magics.java:8)\n",
       "\tat io.github.spencerpark.jupyter.kernel.magic.registry.Magics$LineReflectionMagicFunction.execute(Magics.java:149)\n",
       "\tat io.github.spencerpark.jupyter.kernel.magic.registry.Magics.applyLineMagic(Magics.java:26)\n",
       "\tat org.omg.sysml.jupyter.kernel.SysMLKernel.eval(SysMLKernel.java:76)\n",
       "\tat io.github.spencerpark.jupyter.kernel.BaseKernel.handleExecuteRequest(BaseKernel.java:334)\n",
       "\tat io.github.spencerpark.jupyter.channels.ShellChannel.lambda$bind$0(ShellChannel.java:64)\n",
       "\tat io.github.spencerpark.jupyter.channels.Loop.lambda$new$0(Loop.java:21)\n",
       "\tat io.github.spencerpark.jupyter.channels.Loop.run(Loop.java:78)\n"
      ]
     },
     "execution_count": 4,
     "metadata": {},
     "output_type": "execute_result"
    }
   ],
   "source": [
    "%viz --style=\"COMPTREE\" --view=\"State\" \"StateTest\""
   ]
  },
  {
   "cell_type": "code",
   "execution_count": 5,
   "id": "turned-difference",
   "metadata": {
    "execution": {
     "iopub.execute_input": "2021-03-26T09:42:43.442669Z",
     "iopub.status.busy": "2021-03-26T09:42:43.441395Z",
     "iopub.status.idle": "2021-03-26T09:42:43.445032Z",
     "shell.execute_reply": "2021-03-26T09:42:43.444350Z"
    }
   },
   "outputs": [
    {
     "data": {
      "text/plain": [
       "java.lang.IllegalArgumentException: Invalid Style: COMPTREE Possible styles: POLYLINE, LR, STDCOLOR, PLANTUML, DEFAULT, TB, ORTHOLINE\n",
       "\tat org.omg.sysml.plantuml.SysML2PlantUMLStyle.get(SysML2PlantUMLStyle.java:258)\n",
       "\tat org.omg.sysml.plantuml.SysML2PlantUMLSvc.applyStyle(SysML2PlantUMLSvc.java:73)\n",
       "\tat org.omg.sysml.plantuml.SysML2PlantUMLSvc.getPlantUMLCode(SysML2PlantUMLSvc.java:88)\n",
       "\tat org.omg.sysml.plantuml.SysML2PlantUMLSvc.getSVG(SysML2PlantUMLSvc.java:99)\n",
       "\tat org.omg.sysml.interactive.SysMLInteractive.viz(SysMLInteractive.java:294)\n",
       "\tat org.omg.sysml.jupyter.kernel.magic.Viz.viz(Viz.java:47)\n",
       "\tat java.base/jdk.internal.reflect.NativeMethodAccessorImpl.invoke0(Native Method)\n",
       "\tat java.base/jdk.internal.reflect.NativeMethodAccessorImpl.invoke(NativeMethodAccessorImpl.java:78)\n",
       "\tat java.base/jdk.internal.reflect.DelegatingMethodAccessorImpl.invoke(DelegatingMethodAccessorImpl.java:43)\n",
       "\tat java.base/java.lang.reflect.Method.invoke(Method.java:568)\n",
       "\tat io.github.spencerpark.jupyter.kernel.magic.registry.Magics.invoke(Magics.java:89)\n",
       "\tat io.github.spencerpark.jupyter.kernel.magic.registry.Magics.access$000(Magics.java:8)\n",
       "\tat io.github.spencerpark.jupyter.kernel.magic.registry.Magics$LineReflectionMagicFunction.execute(Magics.java:149)\n",
       "\tat io.github.spencerpark.jupyter.kernel.magic.registry.Magics.applyLineMagic(Magics.java:26)\n",
       "\tat org.omg.sysml.jupyter.kernel.SysMLKernel.eval(SysMLKernel.java:76)\n",
       "\tat io.github.spencerpark.jupyter.kernel.BaseKernel.handleExecuteRequest(BaseKernel.java:334)\n",
       "\tat io.github.spencerpark.jupyter.channels.ShellChannel.lambda$bind$0(ShellChannel.java:64)\n",
       "\tat io.github.spencerpark.jupyter.channels.Loop.lambda$new$0(Loop.java:21)\n",
       "\tat io.github.spencerpark.jupyter.channels.Loop.run(Loop.java:78)\n"
      ]
     },
     "execution_count": 5,
     "metadata": {},
     "output_type": "execute_result"
    }
   ],
   "source": [
    "%viz --style=\"COMPTREE\" --view=\"Interconnection\" \"StateTest\""
   ]
  },
  {
   "cell_type": "code",
   "execution_count": 6,
   "id": "apart-cancellation",
   "metadata": {
    "execution": {
     "iopub.execute_input": "2021-03-26T09:42:43.500771Z",
     "iopub.status.busy": "2021-03-26T09:42:43.500089Z",
     "iopub.status.idle": "2021-03-26T09:42:43.502001Z",
     "shell.execute_reply": "2021-03-26T09:42:43.502381Z"
    }
   },
   "outputs": [
    {
     "data": {
      "text/plain": [
       "java.lang.IllegalArgumentException: Invalid View: Action View candidates are: Default Tree StateMachine Interconnection Activity Sequence MIXED \n",
       "\tat org.omg.sysml.plantuml.SysML2PlantUMLSvc.setView(SysML2PlantUMLSvc.java:63)\n",
       "\tat org.omg.sysml.interactive.SysMLInteractive.viz(SysMLInteractive.java:286)\n",
       "\tat org.omg.sysml.jupyter.kernel.magic.Viz.viz(Viz.java:47)\n",
       "\tat java.base/jdk.internal.reflect.NativeMethodAccessorImpl.invoke0(Native Method)\n",
       "\tat java.base/jdk.internal.reflect.NativeMethodAccessorImpl.invoke(NativeMethodAccessorImpl.java:78)\n",
       "\tat java.base/jdk.internal.reflect.DelegatingMethodAccessorImpl.invoke(DelegatingMethodAccessorImpl.java:43)\n",
       "\tat java.base/java.lang.reflect.Method.invoke(Method.java:568)\n",
       "\tat io.github.spencerpark.jupyter.kernel.magic.registry.Magics.invoke(Magics.java:89)\n",
       "\tat io.github.spencerpark.jupyter.kernel.magic.registry.Magics.access$000(Magics.java:8)\n",
       "\tat io.github.spencerpark.jupyter.kernel.magic.registry.Magics$LineReflectionMagicFunction.execute(Magics.java:149)\n",
       "\tat io.github.spencerpark.jupyter.kernel.magic.registry.Magics.applyLineMagic(Magics.java:26)\n",
       "\tat org.omg.sysml.jupyter.kernel.SysMLKernel.eval(SysMLKernel.java:76)\n",
       "\tat io.github.spencerpark.jupyter.kernel.BaseKernel.handleExecuteRequest(BaseKernel.java:334)\n",
       "\tat io.github.spencerpark.jupyter.channels.ShellChannel.lambda$bind$0(ShellChannel.java:64)\n",
       "\tat io.github.spencerpark.jupyter.channels.Loop.lambda$new$0(Loop.java:21)\n",
       "\tat io.github.spencerpark.jupyter.channels.Loop.run(Loop.java:78)\n"
      ]
     },
     "execution_count": 6,
     "metadata": {},
     "output_type": "execute_result"
    }
   ],
   "source": [
    "%viz --style=\"COMPTREE\" --view=\"Action\" \"StateTest\""
   ]
  },
  {
   "cell_type": "code",
   "execution_count": 7,
   "id": "thrown-possession",
   "metadata": {
    "execution": {
     "iopub.execute_input": "2021-03-26T09:42:43.553894Z",
     "iopub.status.busy": "2021-03-26T09:42:43.553161Z",
     "iopub.status.idle": "2021-03-26T09:42:43.555571Z",
     "shell.execute_reply": "2021-03-26T09:42:43.556043Z"
    }
   },
   "outputs": [
    {
     "data": {
      "text/plain": [
       "java.lang.IllegalArgumentException: Invalid Style: COMPTREE Possible styles: POLYLINE, LR, STDCOLOR, PLANTUML, DEFAULT, TB, ORTHOLINE\n",
       "\tat org.omg.sysml.plantuml.SysML2PlantUMLStyle.get(SysML2PlantUMLStyle.java:258)\n",
       "\tat org.omg.sysml.plantuml.SysML2PlantUMLSvc.applyStyle(SysML2PlantUMLSvc.java:73)\n",
       "\tat org.omg.sysml.plantuml.SysML2PlantUMLSvc.getPlantUMLCode(SysML2PlantUMLSvc.java:88)\n",
       "\tat org.omg.sysml.plantuml.SysML2PlantUMLSvc.getSVG(SysML2PlantUMLSvc.java:99)\n",
       "\tat org.omg.sysml.interactive.SysMLInteractive.viz(SysMLInteractive.java:294)\n",
       "\tat org.omg.sysml.jupyter.kernel.magic.Viz.viz(Viz.java:47)\n",
       "\tat java.base/jdk.internal.reflect.NativeMethodAccessorImpl.invoke0(Native Method)\n",
       "\tat java.base/jdk.internal.reflect.NativeMethodAccessorImpl.invoke(NativeMethodAccessorImpl.java:78)\n",
       "\tat java.base/jdk.internal.reflect.DelegatingMethodAccessorImpl.invoke(DelegatingMethodAccessorImpl.java:43)\n",
       "\tat java.base/java.lang.reflect.Method.invoke(Method.java:568)\n",
       "\tat io.github.spencerpark.jupyter.kernel.magic.registry.Magics.invoke(Magics.java:89)\n",
       "\tat io.github.spencerpark.jupyter.kernel.magic.registry.Magics.access$000(Magics.java:8)\n",
       "\tat io.github.spencerpark.jupyter.kernel.magic.registry.Magics$LineReflectionMagicFunction.execute(Magics.java:149)\n",
       "\tat io.github.spencerpark.jupyter.kernel.magic.registry.Magics.applyLineMagic(Magics.java:26)\n",
       "\tat org.omg.sysml.jupyter.kernel.SysMLKernel.eval(SysMLKernel.java:76)\n",
       "\tat io.github.spencerpark.jupyter.kernel.BaseKernel.handleExecuteRequest(BaseKernel.java:334)\n",
       "\tat io.github.spencerpark.jupyter.channels.ShellChannel.lambda$bind$0(ShellChannel.java:64)\n",
       "\tat io.github.spencerpark.jupyter.channels.Loop.lambda$new$0(Loop.java:21)\n",
       "\tat io.github.spencerpark.jupyter.channels.Loop.run(Loop.java:78)\n"
      ]
     },
     "execution_count": 7,
     "metadata": {},
     "output_type": "execute_result"
    }
   ],
   "source": [
    "%viz --style=\"COMPTREE\" --view=\"Sequence\" \"StateTest\""
   ]
  },
  {
   "cell_type": "code",
   "execution_count": 8,
   "id": "julian-juvenile",
   "metadata": {
    "execution": {
     "iopub.execute_input": "2021-03-26T09:42:43.608482Z",
     "iopub.status.busy": "2021-03-26T09:42:43.607866Z",
     "iopub.status.idle": "2021-03-26T09:42:43.613735Z",
     "shell.execute_reply": "2021-03-26T09:42:43.614139Z"
    }
   },
   "outputs": [
    {
     "data": {
      "text/plain": [
       "java.lang.IllegalArgumentException: Invalid Style: COMPTREE Possible styles: POLYLINE, LR, STDCOLOR, PLANTUML, DEFAULT, TB, ORTHOLINE\n",
       "\tat org.omg.sysml.plantuml.SysML2PlantUMLStyle.get(SysML2PlantUMLStyle.java:258)\n",
       "\tat org.omg.sysml.plantuml.SysML2PlantUMLSvc.applyStyle(SysML2PlantUMLSvc.java:73)\n",
       "\tat org.omg.sysml.plantuml.SysML2PlantUMLSvc.getPlantUMLCode(SysML2PlantUMLSvc.java:88)\n",
       "\tat org.omg.sysml.plantuml.SysML2PlantUMLSvc.getSVG(SysML2PlantUMLSvc.java:99)\n",
       "\tat org.omg.sysml.interactive.SysMLInteractive.viz(SysMLInteractive.java:294)\n",
       "\tat org.omg.sysml.jupyter.kernel.magic.Viz.viz(Viz.java:47)\n",
       "\tat java.base/jdk.internal.reflect.NativeMethodAccessorImpl.invoke0(Native Method)\n",
       "\tat java.base/jdk.internal.reflect.NativeMethodAccessorImpl.invoke(NativeMethodAccessorImpl.java:78)\n",
       "\tat java.base/jdk.internal.reflect.DelegatingMethodAccessorImpl.invoke(DelegatingMethodAccessorImpl.java:43)\n",
       "\tat java.base/java.lang.reflect.Method.invoke(Method.java:568)\n",
       "\tat io.github.spencerpark.jupyter.kernel.magic.registry.Magics.invoke(Magics.java:89)\n",
       "\tat io.github.spencerpark.jupyter.kernel.magic.registry.Magics.access$000(Magics.java:8)\n",
       "\tat io.github.spencerpark.jupyter.kernel.magic.registry.Magics$LineReflectionMagicFunction.execute(Magics.java:149)\n",
       "\tat io.github.spencerpark.jupyter.kernel.magic.registry.Magics.applyLineMagic(Magics.java:26)\n",
       "\tat org.omg.sysml.jupyter.kernel.SysMLKernel.eval(SysMLKernel.java:76)\n",
       "\tat io.github.spencerpark.jupyter.kernel.BaseKernel.handleExecuteRequest(BaseKernel.java:334)\n",
       "\tat io.github.spencerpark.jupyter.channels.ShellChannel.lambda$bind$0(ShellChannel.java:64)\n",
       "\tat io.github.spencerpark.jupyter.channels.Loop.lambda$new$0(Loop.java:21)\n",
       "\tat io.github.spencerpark.jupyter.channels.Loop.run(Loop.java:78)\n"
      ]
     },
     "execution_count": 8,
     "metadata": {},
     "output_type": "execute_result"
    }
   ],
   "source": [
    "%viz --style=\"COMPTREE\" --view=\"MIXED\" \"StateTest\""
   ]
  },
  {
   "cell_type": "code",
   "execution_count": 9,
   "id": "surprising-halifax",
   "metadata": {
    "execution": {
     "iopub.execute_input": "2021-03-26T09:42:43.665357Z",
     "iopub.status.busy": "2021-03-26T09:42:43.664030Z",
     "iopub.status.idle": "2021-03-26T09:42:44.238282Z",
     "shell.execute_reply": "2021-03-26T09:42:44.237918Z"
    }
   },
   "outputs": [
    {
     "data": {
      "image/svg+xml": [
       "<?xml version=\"1.0\" encoding=\"UTF-8\" standalone=\"no\"?><svg xmlns=\"http://www.w3.org/2000/svg\" xmlns:xlink=\"http://www.w3.org/1999/xlink\" contentScriptType=\"application/ecmascript\" contentStyleType=\"text/css\" height=\"557px\" preserveAspectRatio=\"none\" style=\"width:815px;height:557px;\" version=\"1.1\" viewBox=\"0 0 815 557\" width=\"815px\" zoomAndPan=\"magnify\"><defs/><g><!--MD5=[fbc87193dbaf4d95561dea2c320d4a47]\n",
       "cluster E1--><polygon fill=\"#FFFFFF\" points=\"16,6,98,6,105,28.2969,793,28.2969,793,545.5,16,545.5,16,6\" style=\"stroke: #000000; stroke-width: 1.5;\"/><line style=\"stroke: #000000; stroke-width: 1.5;\" x1=\"16\" x2=\"105\" y1=\"28.2969\" y2=\"28.2969\"/><text fill=\"#000000\" font-family=\"sans-serif\" font-size=\"14\" font-weight=\"bold\" lengthAdjust=\"spacingAndGlyphs\" textLength=\"76\" x=\"20\" y=\"20.9951\">StateTest</text><!--MD5=[14e3b0961a2654348d326746436168a1]\n",
       "cluster E6--><rect fill=\"#FFFFFF\" height=\"472.5\" style=\"stroke: #000000; stroke-width: 1.5;\" width=\"327\" x=\"442\" y=\"49\"/><text fill=\"#000000\" font-family=\"sans-serif\" font-size=\"14\" font-weight=\"bold\" lengthAdjust=\"spacingAndGlyphs\" textLength=\"10\" x=\"600.5\" y=\"63.9951\">S</text><!--MD5=[b4997ac47864f28c2f74865a473b2911]\n",
       "class E2--><rect fill=\"#FFFFFF\" height=\"58.7422\" id=\"E2\" style=\"stroke: #383838; stroke-width: 1.5;\" width=\"95\" x=\"330.5\" y=\"111.5\"/><text fill=\"#000000\" font-family=\"sans-serif\" font-size=\"12\" font-style=\"italic\" lengthAdjust=\"spacingAndGlyphs\" textLength=\"93\" x=\"331.5\" y=\"127.6387\">«attribute def»</text><text fill=\"#000000\" font-family=\"sans-serif\" font-size=\"12\" lengthAdjust=\"spacingAndGlyphs\" textLength=\"19\" x=\"368.5\" y=\"141.6074\">Sig</text><line style=\"stroke: #383838; stroke-width: 1.5;\" x1=\"331.5\" x2=\"424.5\" y1=\"149.4375\" y2=\"149.4375\"/><text fill=\"#000000\" font-family=\"sans-serif\" font-size=\"11\" lengthAdjust=\"spacingAndGlyphs\" textLength=\"71\" x=\"336.5\" y=\"163.6479\">x: DataValue</text><!--MD5=[09b614a08d8cba4a07c9adeb5e0fee81]\n",
       "class E3--><rect fill=\"#FFFFFF\" height=\"45.9375\" id=\"E3\" style=\"stroke: #383838; stroke-width: 1.5;\" width=\"95\" x=\"200.5\" y=\"118\"/><text fill=\"#000000\" font-family=\"sans-serif\" font-size=\"12\" font-style=\"italic\" lengthAdjust=\"spacingAndGlyphs\" textLength=\"93\" x=\"201.5\" y=\"134.1387\">«attribute def»</text><text fill=\"#000000\" font-family=\"sans-serif\" font-size=\"12\" lengthAdjust=\"spacingAndGlyphs\" textLength=\"22\" x=\"237\" y=\"148.1074\">Exit</text><line style=\"stroke: #383838; stroke-width: 1.5;\" x1=\"201.5\" x2=\"294.5\" y1=\"155.9375\" y2=\"155.9375\"/><!--MD5=[ebbe1d658d1005bcc118a6aa81145e00]\n",
       "class E4--><rect fill=\"#FFFFFF\" height=\"45.9375\" id=\"E4\" rx=\"10\" ry=\"10\" style=\"stroke: #383838; stroke-width: 1.5;\" width=\"48\" x=\"117\" y=\"118\"/><text fill=\"#000000\" font-family=\"sans-serif\" font-size=\"12\" font-style=\"italic\" lengthAdjust=\"spacingAndGlyphs\" textLength=\"40\" x=\"121\" y=\"134.1387\">«part»</text><text fill=\"#000000\" font-family=\"sans-serif\" font-size=\"12\" lengthAdjust=\"spacingAndGlyphs\" textLength=\"42\" x=\"120\" y=\"148.1074\">p: Part</text><line style=\"stroke: #383838; stroke-width: 1.5;\" x1=\"118\" x2=\"164\" y1=\"155.9375\" y2=\"155.9375\"/><g id=\"E1.E5\"><rect fill=\"#FFFFFF\" height=\"50\" rx=\"12.5\" ry=\"12.5\" style=\"stroke: #383838; stroke-width: 1.5;\" width=\"50\" x=\"32\" y=\"116\"/><line style=\"stroke: #383838; stroke-width: 1.5;\" x1=\"32\" x2=\"82\" y1=\"142.2969\" y2=\"142.2969\"/><text fill=\"#000000\" font-family=\"sans-serif\" font-size=\"14\" lengthAdjust=\"spacingAndGlyphs\" textLength=\"21\" x=\"46.5\" y=\"133.9951\">act</text></g><ellipse cx=\"554\" cy=\"141\" fill=\"#000000\" rx=\"10\" ry=\"10\" style=\"stroke: none; stroke-width: 1.0;\"/><ellipse cx=\"572\" cy=\"495.5\" fill=\"none\" rx=\"10\" ry=\"10\" style=\"stroke: #000000; stroke-width: 1.0;\"/><ellipse cx=\"572.5\" cy=\"496\" fill=\"#000000\" rx=\"6\" ry=\"6\" style=\"stroke: none; stroke-width: 1.0;\"/><g id=\"E1.E6.E7\"><rect fill=\"#FFFFFF\" height=\"50\" rx=\"12.5\" ry=\"12.5\" style=\"stroke: #383838; stroke-width: 1.5;\" width=\"50\" x=\"529\" y=\"231.5\"/><line style=\"stroke: #383838; stroke-width: 1.5;\" x1=\"529\" x2=\"579\" y1=\"257.7969\" y2=\"257.7969\"/><text fill=\"#000000\" font-family=\"sans-serif\" font-size=\"14\" lengthAdjust=\"spacingAndGlyphs\" textLength=\"18\" x=\"545\" y=\"249.4951\">S1</text></g><g id=\"E1.E6.E8\"><rect fill=\"#FFFFFF\" height=\"50.2656\" rx=\"12.5\" ry=\"12.5\" style=\"stroke: #383838; stroke-width: 1.5;\" width=\"142\" x=\"501\" y=\"358.5\"/><line style=\"stroke: #383838; stroke-width: 1.5;\" x1=\"501\" x2=\"643\" y1=\"384.7969\" y2=\"384.7969\"/><text fill=\"#000000\" font-family=\"sans-serif\" font-size=\"14\" lengthAdjust=\"spacingAndGlyphs\" textLength=\"18\" x=\"563\" y=\"376.4951\">S2</text><text fill=\"#000000\" font-family=\"sans-serif\" font-size=\"12\" font-weight=\"bold\" lengthAdjust=\"spacingAndGlyphs\" textLength=\"18\" x=\"506\" y=\"400.9355\">do</text><text fill=\"#000000\" font-family=\"sans-serif\" font-size=\"12\" lengthAdjust=\"spacingAndGlyphs\" textLength=\"104\" x=\"524\" y=\"400.9355\">/ transferActions</text></g><!--MD5=[5a531d3a85f3339e6e197084acb48195]\n",
       "link *start*E6 to E7--><path d=\"M554,151.29 C554,167.4 554,201.18 554,225.93 \" fill=\"none\" id=\"*start*E6-&gt;E7\" style=\"stroke: #383838; stroke-width: 1.0;\"/><polygon fill=\"#383838\" points=\"554,231.07,558,222.07,554,226.07,550,222.07,554,231.07\" style=\"stroke: #383838; stroke-width: 1.0;\"/><!--MD5=[7ec9a8babba89ddcae1318ca9fb3c814]\n",
       "link E8 to *end*E6--><path d=\"M572,408.64 C572,430.53 572,462.07 572,480.21 \" fill=\"none\" id=\"E8-&gt;*end*E6\" style=\"stroke: #383838; stroke-width: 1.0;\"/><polygon fill=\"#383838\" points=\"572,485.38,576,476.38,572,480.38,568,476.38,572,485.38\" style=\"stroke: #383838; stroke-width: 1.0;\"/><text fill=\"#000000\" font-family=\"sans-serif\" font-size=\"13\" lengthAdjust=\"spacingAndGlyphs\" textLength=\"23\" x=\"573\" y=\"451.5669\">Exit</text><!--MD5=[79bc8f324ef4d02c541433f2e6e513c3]\n",
       "link E7 to E8--><path d=\"M528.71,278.84 C510.82,293.94 490,311.5 490,311.5 C490,311.5 490,328.5 490,328.5 C490,328.5 510.47,341.98 530.95,355.47 \" fill=\"none\" id=\"E7-&gt;E8\" style=\"stroke: #383838; stroke-width: 1.0;\"/><polygon fill=\"#383838\" points=\"535.32,358.34,529.9976,350.0531,531.1422,355.593,525.6024,356.7376,535.32,358.34\" style=\"stroke: #383838; stroke-width: 1.0;\"/><text fill=\"#000000\" font-family=\"sans-serif\" font-size=\"13\" lengthAdjust=\"spacingAndGlyphs\" textLength=\"81\" x=\"491\" y=\"324.5669\">Sig /action D</text><!--MD5=[bfa3c8b0d15052fdf50ae9310b491027]\n",
       "link E8 to E7--><path d=\"M574.24,358.34 C575.57,343.97 577,328.5 577,328.5 C577,328.5 577,311.5 577,311.5 C577,311.5 571.78,299.23 566.31,286.39 \" fill=\"none\" id=\"E8-&gt;E7\" style=\"stroke: #383838; stroke-width: 1.0;\"/><polygon fill=\"#383838\" points=\"564.29,281.66,564.1328,291.5076,566.2475,286.2609,571.4942,288.3756,564.29,281.66\" style=\"stroke: #383838; stroke-width: 1.0;\"/><text fill=\"#000000\" font-family=\"sans-serif\" font-size=\"13\" lengthAdjust=\"spacingAndGlyphs\" textLength=\"135\" x=\"578\" y=\"324.5669\">Sig [true]/send s to p</text><!--MD5=[0733e9c2ae039173457d6c726ac97222]\n",
       "@startuml\r\n",
       "skinparam linetype polyline\r\n",
       "skinparam monochrome true\r\n",
       "skinparam classbackgroundcolor white\r\n",
       "skinparam shadowing false\r\n",
       "skinparam wrapWidth 300\r\n",
       "hide circle\r\n",
       "\r\n",
       "package \"StateTest\" as E1   {\r\n",
       "comp def \"Sig\" as E2  <<(T,blue)attribute def>> {\r\n",
       "x: DataValue\r\n",
       "}\r\n",
       "comp def \"Exit\" as E3  <<(T,blue)attribute def>> {\r\n",
       "}\r\n",
       "comp usage \"p: Part\" as E4  <<(T,blue)part>> {\r\n",
       "}\r\n",
       "rec usage \"act\" as E5 {\r\n",
       "}\r\n",
       "\r\n",
       "rec def \"S\" as E6 {\r\n",
       "rec usage \"S1\" as E7 {\r\n",
       "}\r\n",
       "\r\n",
       "rec usage \"S2\" as E8 {\r\n",
       "desc \"S2\" as E8  : **do**/ transferActions \r\n",
       "}\r\n",
       "\r\n",
       "[*] - -> E7\r\n",
       "E8  - -> [*] : Exit \r\n",
       "desc \"S\" as E6  : **entry**/ A\r\n",
       "desc \"S\" as E6  : **do**/ B\r\n",
       "desc \"S\" as E6  : **exit**/ act \r\n",
       "}\r\n",
       "\r\n",
       "E7  - -> E8 : Sig /action D\r\n",
       "E8  - -> E7 : Sig [true]/send s to p\r\n",
       "}\r\n",
       "@enduml\r\n",
       "\n",
       "PlantUML version 1.2020.13(Sat Jun 13 12:26:38 UTC 2020)\n",
       "(EPL source distribution)\n",
       "Java Runtime: OpenJDK Runtime Environment\n",
       "JVM: OpenJDK 64-Bit Server VM\n",
       "Default Encoding: UTF-8\n",
       "Language: en\n",
       "Country: null\n",
       "--></g></svg>"
      ]
     },
     "execution_count": 9,
     "metadata": {},
     "output_type": "execute_result"
    }
   ],
   "source": [
    "%viz --style=\"POLYLINE\" --view=\"Default\" \"StateTest\""
   ]
  },
  {
   "cell_type": "code",
   "execution_count": 10,
   "id": "illegal-airfare",
   "metadata": {
    "execution": {
     "iopub.execute_input": "2021-03-26T09:42:44.290448Z",
     "iopub.status.busy": "2021-03-26T09:42:44.290029Z",
     "iopub.status.idle": "2021-03-26T09:42:44.594707Z",
     "shell.execute_reply": "2021-03-26T09:42:44.592745Z"
    }
   },
   "outputs": [
    {
     "data": {
      "image/svg+xml": [
       "<?xml version=\"1.0\" encoding=\"UTF-8\" standalone=\"no\"?><svg xmlns=\"http://www.w3.org/2000/svg\" xmlns:xlink=\"http://www.w3.org/1999/xlink\" contentScriptType=\"application/ecmascript\" contentStyleType=\"text/css\" height=\"522px\" preserveAspectRatio=\"none\" style=\"width:658px;height:522px;\" version=\"1.1\" viewBox=\"0 0 658 522\" width=\"658px\" zoomAndPan=\"magnify\"><defs/><g><!--MD5=[fbc87193dbaf4d95561dea2c320d4a47]\n",
       "cluster E1--><polygon fill=\"#FFFFFF\" points=\"16,6,98,6,105,28.2969,636,28.2969,636,510,16,510,16,6\" style=\"stroke: #000000; stroke-width: 1.5;\"/><line style=\"stroke: #000000; stroke-width: 1.5;\" x1=\"16\" x2=\"105\" y1=\"28.2969\" y2=\"28.2969\"/><text fill=\"#000000\" font-family=\"sans-serif\" font-size=\"14\" font-weight=\"bold\" lengthAdjust=\"spacingAndGlyphs\" textLength=\"76\" x=\"20\" y=\"20.9951\">StateTest</text><!--MD5=[b4997ac47864f28c2f74865a473b2911]\n",
       "class E2--><rect fill=\"#FFFFFF\" height=\"58.7422\" id=\"E2\" style=\"stroke: #383838; stroke-width: 1.5;\" width=\"95\" x=\"524.5\" y=\"111\"/><text fill=\"#000000\" font-family=\"sans-serif\" font-size=\"12\" font-style=\"italic\" lengthAdjust=\"spacingAndGlyphs\" textLength=\"93\" x=\"525.5\" y=\"127.1387\">«attribute def»</text><text fill=\"#000000\" font-family=\"sans-serif\" font-size=\"12\" lengthAdjust=\"spacingAndGlyphs\" textLength=\"19\" x=\"562.5\" y=\"141.1074\">Sig</text><line style=\"stroke: #383838; stroke-width: 1.5;\" x1=\"525.5\" x2=\"618.5\" y1=\"148.9375\" y2=\"148.9375\"/><text fill=\"#000000\" font-family=\"sans-serif\" font-size=\"11\" lengthAdjust=\"spacingAndGlyphs\" textLength=\"71\" x=\"530.5\" y=\"163.1479\">x: DataValue</text><!--MD5=[09b614a08d8cba4a07c9adeb5e0fee81]\n",
       "class E3--><rect fill=\"#FFFFFF\" height=\"45.9375\" id=\"E3\" style=\"stroke: #383838; stroke-width: 1.5;\" width=\"95\" x=\"394.5\" y=\"117.5\"/><text fill=\"#000000\" font-family=\"sans-serif\" font-size=\"12\" font-style=\"italic\" lengthAdjust=\"spacingAndGlyphs\" textLength=\"93\" x=\"395.5\" y=\"133.6387\">«attribute def»</text><text fill=\"#000000\" font-family=\"sans-serif\" font-size=\"12\" lengthAdjust=\"spacingAndGlyphs\" textLength=\"22\" x=\"431\" y=\"147.6074\">Exit</text><line style=\"stroke: #383838; stroke-width: 1.5;\" x1=\"395.5\" x2=\"488.5\" y1=\"155.4375\" y2=\"155.4375\"/><!--MD5=[ebbe1d658d1005bcc118a6aa81145e00]\n",
       "class E4--><rect fill=\"#FFFFFF\" height=\"45.9375\" id=\"E4\" rx=\"10\" ry=\"10\" style=\"stroke: #383838; stroke-width: 1.5;\" width=\"48\" x=\"311\" y=\"117.5\"/><text fill=\"#000000\" font-family=\"sans-serif\" font-size=\"12\" font-style=\"italic\" lengthAdjust=\"spacingAndGlyphs\" textLength=\"40\" x=\"315\" y=\"133.6387\">«part»</text><text fill=\"#000000\" font-family=\"sans-serif\" font-size=\"12\" lengthAdjust=\"spacingAndGlyphs\" textLength=\"42\" x=\"314\" y=\"147.6074\">p: Part</text><line style=\"stroke: #383838; stroke-width: 1.5;\" x1=\"312\" x2=\"358\" y1=\"155.4375\" y2=\"155.4375\"/><!--MD5=[270fce915f116d4de14055a7c1d9a0f3]\n",
       "class E5--><rect fill=\"#FFFFFF\" height=\"45.9375\" id=\"E5\" rx=\"10\" ry=\"10\" style=\"stroke: #383838; stroke-width: 1.5;\" width=\"73\" x=\"202.5\" y=\"117.5\"/><text fill=\"#000000\" font-family=\"sans-serif\" font-size=\"12\" font-style=\"italic\" lengthAdjust=\"spacingAndGlyphs\" textLength=\"53\" x=\"212.5\" y=\"133.6387\">«action»</text><text fill=\"#000000\" font-family=\"sans-serif\" font-size=\"12\" lengthAdjust=\"spacingAndGlyphs\" textLength=\"67\" x=\"205.5\" y=\"147.6074\">act: Action</text><line style=\"stroke: #383838; stroke-width: 1.5;\" x1=\"203.5\" x2=\"274.5\" y1=\"155.4375\" y2=\"155.4375\"/><!--MD5=[60a26617385b1d2d0262a64233df1f8d]\n",
       "class E6--><rect fill=\"#FFFFFF\" height=\"198.7891\" id=\"E6\" style=\"stroke: #383838; stroke-width: 1.5;\" width=\"135\" x=\"32.5\" y=\"41\"/><text fill=\"#000000\" font-family=\"sans-serif\" font-size=\"12\" font-style=\"italic\" lengthAdjust=\"spacingAndGlyphs\" textLength=\"71\" x=\"64.5\" y=\"57.1387\">«state def»</text><text fill=\"#000000\" font-family=\"sans-serif\" font-size=\"12\" lengthAdjust=\"spacingAndGlyphs\" textLength=\"8\" x=\"96\" y=\"71.1074\">S</text><line style=\"stroke: #383838; stroke-width: 1.5;\" x1=\"33.5\" x2=\"166.5\" y1=\"78.9375\" y2=\"78.9375\"/><text fill=\"#000000\" font-family=\"sans-serif\" font-size=\"11\" lengthAdjust=\"spacingAndGlyphs\" textLength=\"59\" x=\"38.5\" y=\"109.9526\">act: Action</text><text fill=\"#000000\" font-family=\"sans-serif\" font-size=\"11\" font-style=\"italic\" lengthAdjust=\"spacingAndGlyphs\" textLength=\"114\" x=\"38.5\" y=\"122.7573\">:&gt;&gt;State::exitAction</text><text fill=\"#000000\" font-family=\"sans-serif\" font-size=\"11\" lengthAdjust=\"spacingAndGlyphs\" textLength=\"88\" x=\"38.5\" y=\"135.562\">A: Performance</text><text fill=\"#000000\" font-family=\"sans-serif\" font-size=\"11\" font-style=\"italic\" lengthAdjust=\"spacingAndGlyphs\" textLength=\"123\" x=\"38.5\" y=\"148.3667\">:&gt;&gt;State::entryAction</text><text fill=\"#000000\" font-family=\"sans-serif\" font-size=\"11\" lengthAdjust=\"spacingAndGlyphs\" textLength=\"50\" x=\"38.5\" y=\"161.1714\">B: Action</text><text fill=\"#000000\" font-family=\"sans-serif\" font-size=\"11\" font-style=\"italic\" lengthAdjust=\"spacingAndGlyphs\" textLength=\"108\" x=\"38.5\" y=\"173.9761\">:&gt;&gt;State::doAction</text><line style=\"stroke: #383838; stroke-width: 1.0;\" x1=\"33.5\" x2=\"56.5\" y1=\"93.3398\" y2=\"93.3398\"/><text fill=\"#000000\" font-family=\"sans-serif\" font-size=\"11\" lengthAdjust=\"spacingAndGlyphs\" textLength=\"87\" x=\"56.5\" y=\"96.6479\">performActions</text><line style=\"stroke: #383838; stroke-width: 1.0;\" x1=\"143.5\" x2=\"166.5\" y1=\"93.3398\" y2=\"93.3398\"/><text fill=\"#000000\" font-family=\"sans-serif\" font-size=\"11\" lengthAdjust=\"spacingAndGlyphs\" textLength=\"53\" x=\"38.5\" y=\"203.5854\">S1: State</text><line style=\"stroke: #383838; stroke-width: 1.0;\" x1=\"33.5\" x2=\"82\" y1=\"186.9727\" y2=\"186.9727\"/><text fill=\"#000000\" font-family=\"sans-serif\" font-size=\"11\" lengthAdjust=\"spacingAndGlyphs\" textLength=\"36\" x=\"82\" y=\"190.2808\">states</text><line style=\"stroke: #383838; stroke-width: 1.0;\" x1=\"118\" x2=\"166.5\" y1=\"186.9727\" y2=\"186.9727\"/><text fill=\"#000000\" font-family=\"sans-serif\" font-size=\"11\" lengthAdjust=\"spacingAndGlyphs\" textLength=\"72\" x=\"38.5\" y=\"233.1948\">T: Transition</text><line style=\"stroke: #383838; stroke-width: 1.0;\" x1=\"33.5\" x2=\"69.5\" y1=\"216.582\" y2=\"216.582\"/><text fill=\"#000000\" font-family=\"sans-serif\" font-size=\"11\" lengthAdjust=\"spacingAndGlyphs\" textLength=\"61\" x=\"69.5\" y=\"219.8901\">transitions</text><line style=\"stroke: #383838; stroke-width: 1.0;\" x1=\"130.5\" x2=\"166.5\" y1=\"216.582\" y2=\"216.582\"/><!--MD5=[1dd1bfd58a279cf63c5f349dbc8fc6a1]\n",
       "class E11--><rect fill=\"#FFFFFF\" height=\"45.9375\" id=\"E11\" rx=\"10\" ry=\"10\" style=\"stroke: #383838; stroke-width: 1.5;\" width=\"64\" x=\"74\" y=\"300\"/><text fill=\"#000000\" font-family=\"sans-serif\" font-size=\"12\" font-style=\"italic\" lengthAdjust=\"spacingAndGlyphs\" textLength=\"47\" x=\"82.5\" y=\"316.1387\">«state»</text><text fill=\"#000000\" font-family=\"sans-serif\" font-size=\"12\" lengthAdjust=\"spacingAndGlyphs\" textLength=\"58\" x=\"77\" y=\"330.1074\">S2: State</text><line style=\"stroke: #383838; stroke-width: 1.5;\" x1=\"75\" x2=\"137\" y1=\"337.9375\" y2=\"337.9375\"/><!--MD5=[49a0ec8f00dab7302a31f22d0f0fe584]\n",
       "class E12--><rect fill=\"#FFFFFF\" height=\"88.3516\" id=\"E12\" rx=\"10\" ry=\"10\" style=\"stroke: #383838; stroke-width: 1.5;\" width=\"160\" x=\"32\" y=\"406\"/><text fill=\"#000000\" font-family=\"sans-serif\" font-size=\"12\" font-style=\"italic\" lengthAdjust=\"spacingAndGlyphs\" textLength=\"84\" x=\"70\" y=\"422.1387\">«sendAction»</text><text fill=\"#000000\" font-family=\"sans-serif\" font-size=\"12\" lengthAdjust=\"spacingAndGlyphs\" textLength=\"154\" x=\"35\" y=\"436.1074\">doAction: TransferAction</text><line style=\"stroke: #383838; stroke-width: 1.5;\" x1=\"33\" x2=\"191\" y1=\"443.9375\" y2=\"443.9375\"/><text fill=\"#000000\" font-family=\"sans-serif\" font-size=\"11\" lengthAdjust=\"spacingAndGlyphs\" textLength=\"81\" x=\"38\" y=\"474.9526\">item: Anything</text><text fill=\"#000000\" font-family=\"sans-serif\" font-size=\"11\" font-style=\"italic\" lengthAdjust=\"spacingAndGlyphs\" textLength=\"104\" x=\"38\" y=\"487.7573\">:&gt;&gt;Transfer::item</text><line style=\"stroke: #383838; stroke-width: 1.0;\" x1=\"33\" x2=\"74.5\" y1=\"458.3398\" y2=\"458.3398\"/><text fill=\"#000000\" font-family=\"sans-serif\" font-size=\"11\" lengthAdjust=\"spacingAndGlyphs\" textLength=\"75\" x=\"74.5\" y=\"461.6479\">itemFeatures</text><line style=\"stroke: #383838; stroke-width: 1.0;\" x1=\"149.5\" x2=\"191\" y1=\"458.3398\" y2=\"458.3398\"/><!--MD5=[1f5f03483f7de0d5b3680a7f6650997f]\n",
       "reverse link E6 to E11--><path d=\"M103.71,253.2 C104.3,270.82 104.85,287.28 105.26,299.69 \" fill=\"none\" id=\"E6&lt;-E11\" style=\"stroke: #383838; stroke-width: 1.0;\"/><polygon fill=\"#383838\" points=\"103.28,240.2,99.4801,246.3287,103.6758,252.1935,107.4757,246.0648,103.28,240.2\" style=\"stroke: #383838; stroke-width: 1.0;\"/><!--MD5=[94adabc162ce7e41b39f13be14fbaeb3]\n",
       "reverse link E11 to E12--><path d=\"M107.69,359.11 C108.38,373.64 109.2,390.65 109.93,405.93 \" fill=\"none\" id=\"E11&lt;-E12\" style=\"stroke: #383838; stroke-width: 1.0;\"/><polygon fill=\"#FFFFFF\" points=\"107.06,346.06,103.348,352.2423,107.627,358.0466,111.339,351.8643,107.06,346.06\" style=\"stroke: #383838; stroke-width: 1.0;\"/><!--MD5=[3882993d2265a60290f3199d517f0bb8]\n",
       "@startuml\r\n",
       "skinparam linetype polyline\r\n",
       "skinparam monochrome true\r\n",
       "skinparam classbackgroundcolor white\r\n",
       "skinparam shadowing false\r\n",
       "skinparam wrapWidth 300\r\n",
       "hide circle\r\n",
       "\r\n",
       "package \"StateTest\" as E1   {\r\n",
       "comp def \"Sig\" as E2  <<(T,blue)attribute def>> {\r\n",
       "x: DataValue\r\n",
       "}\r\n",
       "comp def \"Exit\" as E3  <<(T,blue)attribute def>> {\r\n",
       "}\r\n",
       "comp usage \"p: Part\" as E4  <<(T,blue)part>> {\r\n",
       "}\r\n",
       "comp usage \"act: Action\" as E5  <<(T,blue)action>> {\r\n",
       "}\r\n",
       "comp def \"S\" as E6  <<(T,blue)state def>> {\r\n",
       "- -performActions- -\r\n",
       "act: Action\\n//:>>State::exitAction// \r\n",
       "A: Performance\\n//:>>State::entryAction// \r\n",
       "B: Action\\n//:>>State::doAction// \r\n",
       "- -states- -\r\n",
       "S1: State\r\n",
       "- -transitions- -\r\n",
       "T: Transition\r\n",
       "}\r\n",
       "comp usage \"S2: State\" as E11  <<(T,blue)state>> {\r\n",
       "}\r\n",
       "comp usage \"doAction: TransferAction\" as E12  <<(T,blue)sendAction>> {\r\n",
       "- -itemFeatures- -\r\n",
       "item: Anything\\n//:>>Transfer::item// \r\n",
       "}\r\n",
       "E6 *- - E11\r\n",
       "E11 o- - E12\r\n",
       "}\r\n",
       "@enduml\r\n",
       "\n",
       "PlantUML version 1.2020.13(Sat Jun 13 12:26:38 UTC 2020)\n",
       "(EPL source distribution)\n",
       "Java Runtime: OpenJDK Runtime Environment\n",
       "JVM: OpenJDK 64-Bit Server VM\n",
       "Default Encoding: UTF-8\n",
       "Language: en\n",
       "Country: null\n",
       "--></g></svg>"
      ]
     },
     "execution_count": 10,
     "metadata": {},
     "output_type": "execute_result"
    }
   ],
   "source": [
    "%viz --style=\"POLYLINE\" --view=\"Tree\" \"StateTest\""
   ]
  },
  {
   "cell_type": "code",
   "execution_count": 11,
   "id": "binding-commonwealth",
   "metadata": {
    "execution": {
     "iopub.execute_input": "2021-03-26T09:42:44.646670Z",
     "iopub.status.busy": "2021-03-26T09:42:44.645944Z",
     "iopub.status.idle": "2021-03-26T09:42:44.651309Z",
     "shell.execute_reply": "2021-03-26T09:42:44.650279Z"
    }
   },
   "outputs": [
    {
     "data": {
      "text/plain": [
       "java.lang.IllegalArgumentException: Invalid View: State View candidates are: Default Tree StateMachine Interconnection Activity Sequence MIXED \n",
       "\tat org.omg.sysml.plantuml.SysML2PlantUMLSvc.setView(SysML2PlantUMLSvc.java:63)\n",
       "\tat org.omg.sysml.interactive.SysMLInteractive.viz(SysMLInteractive.java:286)\n",
       "\tat org.omg.sysml.jupyter.kernel.magic.Viz.viz(Viz.java:47)\n",
       "\tat java.base/jdk.internal.reflect.NativeMethodAccessorImpl.invoke0(Native Method)\n",
       "\tat java.base/jdk.internal.reflect.NativeMethodAccessorImpl.invoke(NativeMethodAccessorImpl.java:78)\n",
       "\tat java.base/jdk.internal.reflect.DelegatingMethodAccessorImpl.invoke(DelegatingMethodAccessorImpl.java:43)\n",
       "\tat java.base/java.lang.reflect.Method.invoke(Method.java:568)\n",
       "\tat io.github.spencerpark.jupyter.kernel.magic.registry.Magics.invoke(Magics.java:89)\n",
       "\tat io.github.spencerpark.jupyter.kernel.magic.registry.Magics.access$000(Magics.java:8)\n",
       "\tat io.github.spencerpark.jupyter.kernel.magic.registry.Magics$LineReflectionMagicFunction.execute(Magics.java:149)\n",
       "\tat io.github.spencerpark.jupyter.kernel.magic.registry.Magics.applyLineMagic(Magics.java:26)\n",
       "\tat org.omg.sysml.jupyter.kernel.SysMLKernel.eval(SysMLKernel.java:76)\n",
       "\tat io.github.spencerpark.jupyter.kernel.BaseKernel.handleExecuteRequest(BaseKernel.java:334)\n",
       "\tat io.github.spencerpark.jupyter.channels.ShellChannel.lambda$bind$0(ShellChannel.java:64)\n",
       "\tat io.github.spencerpark.jupyter.channels.Loop.lambda$new$0(Loop.java:21)\n",
       "\tat io.github.spencerpark.jupyter.channels.Loop.run(Loop.java:78)\n"
      ]
     },
     "execution_count": 11,
     "metadata": {},
     "output_type": "execute_result"
    }
   ],
   "source": [
    "%viz --style=\"POLYLINE\" --view=\"State\" \"StateTest\""
   ]
  },
  {
   "cell_type": "code",
   "execution_count": 12,
   "id": "filled-transformation",
   "metadata": {
    "execution": {
     "iopub.execute_input": "2021-03-26T09:42:44.704488Z",
     "iopub.status.busy": "2021-03-26T09:42:44.703981Z",
     "iopub.status.idle": "2021-03-26T09:42:44.744979Z",
     "shell.execute_reply": "2021-03-26T09:42:44.745297Z"
    }
   },
   "outputs": [
    {
     "data": {
      "image/svg+xml": [
       "<?xml version=\"1.0\" encoding=\"UTF-8\" standalone=\"no\"?><svg xmlns=\"http://www.w3.org/2000/svg\" xmlns:xlink=\"http://www.w3.org/1999/xlink\" contentScriptType=\"application/ecmascript\" contentStyleType=\"text/css\" height=\"123px\" preserveAspectRatio=\"none\" style=\"width:631px;height:123px;\" version=\"1.1\" viewBox=\"0 0 631 123\" width=\"631px\" zoomAndPan=\"magnify\"><defs/><g><!--MD5=[fbc87193dbaf4d95561dea2c320d4a47]\n",
       "cluster E1--><polygon fill=\"#FFFFFF\" points=\"16,6,98,6,105,28.2969,609,28.2969,609,111,16,111,16,6\" style=\"stroke: #000000; stroke-width: 1.5;\"/><line style=\"stroke: #000000; stroke-width: 1.5;\" x1=\"16\" x2=\"105\" y1=\"28.2969\" y2=\"28.2969\"/><text fill=\"#000000\" font-family=\"sans-serif\" font-size=\"14\" font-weight=\"bold\" lengthAdjust=\"spacingAndGlyphs\" textLength=\"76\" x=\"20\" y=\"20.9951\">StateTest</text><!--MD5=[b4997ac47864f28c2f74865a473b2911]\n",
       "class E2--><rect fill=\"#FFFFFF\" height=\"53.9375\" id=\"E2\" style=\"stroke: #383838; stroke-width: 1.5;\" width=\"95\" x=\"497.5\" y=\"41\"/><text fill=\"#000000\" font-family=\"sans-serif\" font-size=\"12\" font-style=\"italic\" lengthAdjust=\"spacingAndGlyphs\" textLength=\"93\" x=\"498.5\" y=\"57.1387\">«attribute def»</text><text fill=\"#000000\" font-family=\"sans-serif\" font-size=\"12\" lengthAdjust=\"spacingAndGlyphs\" textLength=\"19\" x=\"535.5\" y=\"71.1074\">Sig</text><line style=\"stroke: #383838; stroke-width: 1.5;\" x1=\"498.5\" x2=\"591.5\" y1=\"78.9375\" y2=\"78.9375\"/><line style=\"stroke: #383838; stroke-width: 1.5;\" x1=\"498.5\" x2=\"591.5\" y1=\"86.9375\" y2=\"86.9375\"/><!--MD5=[09b614a08d8cba4a07c9adeb5e0fee81]\n",
       "class E3--><rect fill=\"#FFFFFF\" height=\"53.9375\" id=\"E3\" style=\"stroke: #383838; stroke-width: 1.5;\" width=\"95\" x=\"367.5\" y=\"41\"/><text fill=\"#000000\" font-family=\"sans-serif\" font-size=\"12\" font-style=\"italic\" lengthAdjust=\"spacingAndGlyphs\" textLength=\"93\" x=\"368.5\" y=\"57.1387\">«attribute def»</text><text fill=\"#000000\" font-family=\"sans-serif\" font-size=\"12\" lengthAdjust=\"spacingAndGlyphs\" textLength=\"22\" x=\"404\" y=\"71.1074\">Exit</text><line style=\"stroke: #383838; stroke-width: 1.5;\" x1=\"368.5\" x2=\"461.5\" y1=\"78.9375\" y2=\"78.9375\"/><line style=\"stroke: #383838; stroke-width: 1.5;\" x1=\"368.5\" x2=\"461.5\" y1=\"86.9375\" y2=\"86.9375\"/><!--MD5=[60a26617385b1d2d0262a64233df1f8d]\n",
       "class E6--><rect fill=\"#FFFFFF\" height=\"53.9375\" id=\"E6\" style=\"stroke: #383838; stroke-width: 1.5;\" width=\"73\" x=\"259.5\" y=\"41\"/><text fill=\"#000000\" font-family=\"sans-serif\" font-size=\"12\" font-style=\"italic\" lengthAdjust=\"spacingAndGlyphs\" textLength=\"71\" x=\"260.5\" y=\"57.1387\">«state def»</text><text fill=\"#000000\" font-family=\"sans-serif\" font-size=\"12\" lengthAdjust=\"spacingAndGlyphs\" textLength=\"8\" x=\"292\" y=\"71.1074\">S</text><line style=\"stroke: #383838; stroke-width: 1.5;\" x1=\"260.5\" x2=\"331.5\" y1=\"78.9375\" y2=\"78.9375\"/><line style=\"stroke: #383838; stroke-width: 1.5;\" x1=\"260.5\" x2=\"331.5\" y1=\"86.9375\" y2=\"86.9375\"/><g id=\"E1.E4\"><rect fill=\"#FFFFFF\" height=\"50\" rx=\"12.5\" ry=\"12.5\" style=\"stroke: #383838; stroke-width: 1.5;\" width=\"65\" x=\"159.5\" y=\"43\"/><line style=\"stroke: #383838; stroke-width: 1.5;\" x1=\"159.5\" x2=\"224.5\" y1=\"69.2969\" y2=\"69.2969\"/><text fill=\"#000000\" font-family=\"sans-serif\" font-size=\"14\" lengthAdjust=\"spacingAndGlyphs\" textLength=\"45\" x=\"169.5\" y=\"60.9951\">p: Part</text></g><g id=\"E1.E5\"><rect fill=\"#FFFFFF\" height=\"50\" rx=\"12.5\" ry=\"12.5\" style=\"stroke: #383838; stroke-width: 1.5;\" width=\"93\" x=\"31.5\" y=\"43\"/><line style=\"stroke: #383838; stroke-width: 1.5;\" x1=\"31.5\" x2=\"124.5\" y1=\"69.2969\" y2=\"69.2969\"/><text fill=\"#000000\" font-family=\"sans-serif\" font-size=\"14\" lengthAdjust=\"spacingAndGlyphs\" textLength=\"73\" x=\"41.5\" y=\"60.9951\">act: Action</text></g><!--MD5=[a3b59cfdf48fb3211a45d23f3c354b5a]\n",
       "@startuml\r\n",
       "skinparam ranksep 8\r\n",
       "skinparam rectangle {\r\n",
       " backgroundColor<<block>> LightGreen\r\n",
       "}\r\n",
       "skinparam linetype polyline\r\n",
       "skinparam monochrome true\r\n",
       "skinparam classbackgroundcolor white\r\n",
       "skinparam shadowing false\r\n",
       "skinparam wrapWidth 300\r\n",
       "hide circle\r\n",
       "\r\n",
       "package \"StateTest\" as E1   {\r\n",
       "def \"Sig\" as E2  <<attribute def>> \r\n",
       "def \"Exit\" as E3  <<attribute def>> \r\n",
       "rec usage \"p: Part\" as E4  {\r\n",
       "}\r\n",
       "rec usage \"act: Action\" as E5  <<action>> {\r\n",
       "}\r\n",
       "def \"S\" as E6  <<state def>> \r\n",
       "}\r\n",
       "@enduml\r\n",
       "\n",
       "PlantUML version 1.2020.13(Sat Jun 13 12:26:38 UTC 2020)\n",
       "(EPL source distribution)\n",
       "Java Runtime: OpenJDK Runtime Environment\n",
       "JVM: OpenJDK 64-Bit Server VM\n",
       "Default Encoding: UTF-8\n",
       "Language: en\n",
       "Country: null\n",
       "--></g></svg>"
      ]
     },
     "execution_count": 12,
     "metadata": {},
     "output_type": "execute_result"
    }
   ],
   "source": [
    "%viz --style=\"POLYLINE\" --view=\"Interconnection\" \"StateTest\""
   ]
  },
  {
   "cell_type": "code",
   "execution_count": 13,
   "id": "recorded-valve",
   "metadata": {
    "execution": {
     "iopub.execute_input": "2021-03-26T09:42:44.797746Z",
     "iopub.status.busy": "2021-03-26T09:42:44.796857Z",
     "iopub.status.idle": "2021-03-26T09:42:44.800995Z",
     "shell.execute_reply": "2021-03-26T09:42:44.801460Z"
    }
   },
   "outputs": [
    {
     "data": {
      "text/plain": [
       "java.lang.IllegalArgumentException: Invalid View: Action View candidates are: Default Tree StateMachine Interconnection Activity Sequence MIXED \n",
       "\tat org.omg.sysml.plantuml.SysML2PlantUMLSvc.setView(SysML2PlantUMLSvc.java:63)\n",
       "\tat org.omg.sysml.interactive.SysMLInteractive.viz(SysMLInteractive.java:286)\n",
       "\tat org.omg.sysml.jupyter.kernel.magic.Viz.viz(Viz.java:47)\n",
       "\tat java.base/jdk.internal.reflect.NativeMethodAccessorImpl.invoke0(Native Method)\n",
       "\tat java.base/jdk.internal.reflect.NativeMethodAccessorImpl.invoke(NativeMethodAccessorImpl.java:78)\n",
       "\tat java.base/jdk.internal.reflect.DelegatingMethodAccessorImpl.invoke(DelegatingMethodAccessorImpl.java:43)\n",
       "\tat java.base/java.lang.reflect.Method.invoke(Method.java:568)\n",
       "\tat io.github.spencerpark.jupyter.kernel.magic.registry.Magics.invoke(Magics.java:89)\n",
       "\tat io.github.spencerpark.jupyter.kernel.magic.registry.Magics.access$000(Magics.java:8)\n",
       "\tat io.github.spencerpark.jupyter.kernel.magic.registry.Magics$LineReflectionMagicFunction.execute(Magics.java:149)\n",
       "\tat io.github.spencerpark.jupyter.kernel.magic.registry.Magics.applyLineMagic(Magics.java:26)\n",
       "\tat org.omg.sysml.jupyter.kernel.SysMLKernel.eval(SysMLKernel.java:76)\n",
       "\tat io.github.spencerpark.jupyter.kernel.BaseKernel.handleExecuteRequest(BaseKernel.java:334)\n",
       "\tat io.github.spencerpark.jupyter.channels.ShellChannel.lambda$bind$0(ShellChannel.java:64)\n",
       "\tat io.github.spencerpark.jupyter.channels.Loop.lambda$new$0(Loop.java:21)\n",
       "\tat io.github.spencerpark.jupyter.channels.Loop.run(Loop.java:78)\n"
      ]
     },
     "execution_count": 13,
     "metadata": {},
     "output_type": "execute_result"
    }
   ],
   "source": [
    "%viz --style=\"POLYLINE\" --view=\"Action\" \"StateTest\""
   ]
  },
  {
   "cell_type": "code",
   "execution_count": 14,
   "id": "expanded-roads",
   "metadata": {
    "execution": {
     "iopub.execute_input": "2021-03-26T09:42:44.852380Z",
     "iopub.status.busy": "2021-03-26T09:42:44.851962Z",
     "iopub.status.idle": "2021-03-26T09:42:45.063110Z",
     "shell.execute_reply": "2021-03-26T09:42:45.063503Z"
    }
   },
   "outputs": [
    {
     "data": {
      "image/svg+xml": [
       "<?xml version=\"1.0\" encoding=\"UTF-8\" standalone=\"no\"?><svg xmlns=\"http://www.w3.org/2000/svg\" xmlns:xlink=\"http://www.w3.org/1999/xlink\" contentScriptType=\"application/ecmascript\" contentStyleType=\"text/css\" height=\"522px\" preserveAspectRatio=\"none\" style=\"width:658px;height:522px;\" version=\"1.1\" viewBox=\"0 0 658 522\" width=\"658px\" zoomAndPan=\"magnify\"><defs/><g><!--MD5=[fbc87193dbaf4d95561dea2c320d4a47]\n",
       "cluster E1--><polygon fill=\"#FFFFFF\" points=\"16,6,98,6,105,28.2969,636,28.2969,636,510,16,510,16,6\" style=\"stroke: #000000; stroke-width: 1.5;\"/><line style=\"stroke: #000000; stroke-width: 1.5;\" x1=\"16\" x2=\"105\" y1=\"28.2969\" y2=\"28.2969\"/><text fill=\"#000000\" font-family=\"sans-serif\" font-size=\"14\" font-weight=\"bold\" lengthAdjust=\"spacingAndGlyphs\" textLength=\"76\" x=\"20\" y=\"20.9951\">StateTest</text><!--MD5=[b4997ac47864f28c2f74865a473b2911]\n",
       "class E2--><rect fill=\"#FFFFFF\" height=\"58.7422\" id=\"E2\" style=\"stroke: #383838; stroke-width: 1.5;\" width=\"95\" x=\"524.5\" y=\"111\"/><text fill=\"#000000\" font-family=\"sans-serif\" font-size=\"12\" font-style=\"italic\" lengthAdjust=\"spacingAndGlyphs\" textLength=\"93\" x=\"525.5\" y=\"127.1387\">«attribute def»</text><text fill=\"#000000\" font-family=\"sans-serif\" font-size=\"12\" lengthAdjust=\"spacingAndGlyphs\" textLength=\"19\" x=\"562.5\" y=\"141.1074\">Sig</text><line style=\"stroke: #383838; stroke-width: 1.5;\" x1=\"525.5\" x2=\"618.5\" y1=\"148.9375\" y2=\"148.9375\"/><text fill=\"#000000\" font-family=\"sans-serif\" font-size=\"11\" lengthAdjust=\"spacingAndGlyphs\" textLength=\"71\" x=\"530.5\" y=\"163.1479\">x: DataValue</text><!--MD5=[09b614a08d8cba4a07c9adeb5e0fee81]\n",
       "class E3--><rect fill=\"#FFFFFF\" height=\"45.9375\" id=\"E3\" style=\"stroke: #383838; stroke-width: 1.5;\" width=\"95\" x=\"394.5\" y=\"117.5\"/><text fill=\"#000000\" font-family=\"sans-serif\" font-size=\"12\" font-style=\"italic\" lengthAdjust=\"spacingAndGlyphs\" textLength=\"93\" x=\"395.5\" y=\"133.6387\">«attribute def»</text><text fill=\"#000000\" font-family=\"sans-serif\" font-size=\"12\" lengthAdjust=\"spacingAndGlyphs\" textLength=\"22\" x=\"431\" y=\"147.6074\">Exit</text><line style=\"stroke: #383838; stroke-width: 1.5;\" x1=\"395.5\" x2=\"488.5\" y1=\"155.4375\" y2=\"155.4375\"/><!--MD5=[ebbe1d658d1005bcc118a6aa81145e00]\n",
       "class E4--><rect fill=\"#FFFFFF\" height=\"45.9375\" id=\"E4\" rx=\"10\" ry=\"10\" style=\"stroke: #383838; stroke-width: 1.5;\" width=\"48\" x=\"311\" y=\"117.5\"/><text fill=\"#000000\" font-family=\"sans-serif\" font-size=\"12\" font-style=\"italic\" lengthAdjust=\"spacingAndGlyphs\" textLength=\"40\" x=\"315\" y=\"133.6387\">«part»</text><text fill=\"#000000\" font-family=\"sans-serif\" font-size=\"12\" lengthAdjust=\"spacingAndGlyphs\" textLength=\"42\" x=\"314\" y=\"147.6074\">p: Part</text><line style=\"stroke: #383838; stroke-width: 1.5;\" x1=\"312\" x2=\"358\" y1=\"155.4375\" y2=\"155.4375\"/><!--MD5=[270fce915f116d4de14055a7c1d9a0f3]\n",
       "class E5--><rect fill=\"#FFFFFF\" height=\"45.9375\" id=\"E5\" rx=\"10\" ry=\"10\" style=\"stroke: #383838; stroke-width: 1.5;\" width=\"73\" x=\"202.5\" y=\"117.5\"/><text fill=\"#000000\" font-family=\"sans-serif\" font-size=\"12\" font-style=\"italic\" lengthAdjust=\"spacingAndGlyphs\" textLength=\"53\" x=\"212.5\" y=\"133.6387\">«action»</text><text fill=\"#000000\" font-family=\"sans-serif\" font-size=\"12\" lengthAdjust=\"spacingAndGlyphs\" textLength=\"67\" x=\"205.5\" y=\"147.6074\">act: Action</text><line style=\"stroke: #383838; stroke-width: 1.5;\" x1=\"203.5\" x2=\"274.5\" y1=\"155.4375\" y2=\"155.4375\"/><!--MD5=[60a26617385b1d2d0262a64233df1f8d]\n",
       "class E6--><rect fill=\"#FFFFFF\" height=\"198.7891\" id=\"E6\" style=\"stroke: #383838; stroke-width: 1.5;\" width=\"135\" x=\"32.5\" y=\"41\"/><text fill=\"#000000\" font-family=\"sans-serif\" font-size=\"12\" font-style=\"italic\" lengthAdjust=\"spacingAndGlyphs\" textLength=\"71\" x=\"64.5\" y=\"57.1387\">«state def»</text><text fill=\"#000000\" font-family=\"sans-serif\" font-size=\"12\" lengthAdjust=\"spacingAndGlyphs\" textLength=\"8\" x=\"96\" y=\"71.1074\">S</text><line style=\"stroke: #383838; stroke-width: 1.5;\" x1=\"33.5\" x2=\"166.5\" y1=\"78.9375\" y2=\"78.9375\"/><text fill=\"#000000\" font-family=\"sans-serif\" font-size=\"11\" lengthAdjust=\"spacingAndGlyphs\" textLength=\"59\" x=\"38.5\" y=\"109.9526\">act: Action</text><text fill=\"#000000\" font-family=\"sans-serif\" font-size=\"11\" font-style=\"italic\" lengthAdjust=\"spacingAndGlyphs\" textLength=\"114\" x=\"38.5\" y=\"122.7573\">:&gt;&gt;State::exitAction</text><text fill=\"#000000\" font-family=\"sans-serif\" font-size=\"11\" lengthAdjust=\"spacingAndGlyphs\" textLength=\"88\" x=\"38.5\" y=\"135.562\">A: Performance</text><text fill=\"#000000\" font-family=\"sans-serif\" font-size=\"11\" font-style=\"italic\" lengthAdjust=\"spacingAndGlyphs\" textLength=\"123\" x=\"38.5\" y=\"148.3667\">:&gt;&gt;State::entryAction</text><text fill=\"#000000\" font-family=\"sans-serif\" font-size=\"11\" lengthAdjust=\"spacingAndGlyphs\" textLength=\"50\" x=\"38.5\" y=\"161.1714\">B: Action</text><text fill=\"#000000\" font-family=\"sans-serif\" font-size=\"11\" font-style=\"italic\" lengthAdjust=\"spacingAndGlyphs\" textLength=\"108\" x=\"38.5\" y=\"173.9761\">:&gt;&gt;State::doAction</text><line style=\"stroke: #383838; stroke-width: 1.0;\" x1=\"33.5\" x2=\"56.5\" y1=\"93.3398\" y2=\"93.3398\"/><text fill=\"#000000\" font-family=\"sans-serif\" font-size=\"11\" lengthAdjust=\"spacingAndGlyphs\" textLength=\"87\" x=\"56.5\" y=\"96.6479\">performActions</text><line style=\"stroke: #383838; stroke-width: 1.0;\" x1=\"143.5\" x2=\"166.5\" y1=\"93.3398\" y2=\"93.3398\"/><text fill=\"#000000\" font-family=\"sans-serif\" font-size=\"11\" lengthAdjust=\"spacingAndGlyphs\" textLength=\"53\" x=\"38.5\" y=\"203.5854\">S1: State</text><line style=\"stroke: #383838; stroke-width: 1.0;\" x1=\"33.5\" x2=\"82\" y1=\"186.9727\" y2=\"186.9727\"/><text fill=\"#000000\" font-family=\"sans-serif\" font-size=\"11\" lengthAdjust=\"spacingAndGlyphs\" textLength=\"36\" x=\"82\" y=\"190.2808\">states</text><line style=\"stroke: #383838; stroke-width: 1.0;\" x1=\"118\" x2=\"166.5\" y1=\"186.9727\" y2=\"186.9727\"/><text fill=\"#000000\" font-family=\"sans-serif\" font-size=\"11\" lengthAdjust=\"spacingAndGlyphs\" textLength=\"72\" x=\"38.5\" y=\"233.1948\">T: Transition</text><line style=\"stroke: #383838; stroke-width: 1.0;\" x1=\"33.5\" x2=\"69.5\" y1=\"216.582\" y2=\"216.582\"/><text fill=\"#000000\" font-family=\"sans-serif\" font-size=\"11\" lengthAdjust=\"spacingAndGlyphs\" textLength=\"61\" x=\"69.5\" y=\"219.8901\">transitions</text><line style=\"stroke: #383838; stroke-width: 1.0;\" x1=\"130.5\" x2=\"166.5\" y1=\"216.582\" y2=\"216.582\"/><!--MD5=[1dd1bfd58a279cf63c5f349dbc8fc6a1]\n",
       "class E11--><rect fill=\"#FFFFFF\" height=\"45.9375\" id=\"E11\" rx=\"10\" ry=\"10\" style=\"stroke: #383838; stroke-width: 1.5;\" width=\"64\" x=\"74\" y=\"300\"/><text fill=\"#000000\" font-family=\"sans-serif\" font-size=\"12\" font-style=\"italic\" lengthAdjust=\"spacingAndGlyphs\" textLength=\"47\" x=\"82.5\" y=\"316.1387\">«state»</text><text fill=\"#000000\" font-family=\"sans-serif\" font-size=\"12\" lengthAdjust=\"spacingAndGlyphs\" textLength=\"58\" x=\"77\" y=\"330.1074\">S2: State</text><line style=\"stroke: #383838; stroke-width: 1.5;\" x1=\"75\" x2=\"137\" y1=\"337.9375\" y2=\"337.9375\"/><!--MD5=[49a0ec8f00dab7302a31f22d0f0fe584]\n",
       "class E12--><rect fill=\"#FFFFFF\" height=\"88.3516\" id=\"E12\" rx=\"10\" ry=\"10\" style=\"stroke: #383838; stroke-width: 1.5;\" width=\"160\" x=\"32\" y=\"406\"/><text fill=\"#000000\" font-family=\"sans-serif\" font-size=\"12\" font-style=\"italic\" lengthAdjust=\"spacingAndGlyphs\" textLength=\"84\" x=\"70\" y=\"422.1387\">«sendAction»</text><text fill=\"#000000\" font-family=\"sans-serif\" font-size=\"12\" lengthAdjust=\"spacingAndGlyphs\" textLength=\"154\" x=\"35\" y=\"436.1074\">doAction: TransferAction</text><line style=\"stroke: #383838; stroke-width: 1.5;\" x1=\"33\" x2=\"191\" y1=\"443.9375\" y2=\"443.9375\"/><text fill=\"#000000\" font-family=\"sans-serif\" font-size=\"11\" lengthAdjust=\"spacingAndGlyphs\" textLength=\"81\" x=\"38\" y=\"474.9526\">item: Anything</text><text fill=\"#000000\" font-family=\"sans-serif\" font-size=\"11\" font-style=\"italic\" lengthAdjust=\"spacingAndGlyphs\" textLength=\"104\" x=\"38\" y=\"487.7573\">:&gt;&gt;Transfer::item</text><line style=\"stroke: #383838; stroke-width: 1.0;\" x1=\"33\" x2=\"74.5\" y1=\"458.3398\" y2=\"458.3398\"/><text fill=\"#000000\" font-family=\"sans-serif\" font-size=\"11\" lengthAdjust=\"spacingAndGlyphs\" textLength=\"75\" x=\"74.5\" y=\"461.6479\">itemFeatures</text><line style=\"stroke: #383838; stroke-width: 1.0;\" x1=\"149.5\" x2=\"191\" y1=\"458.3398\" y2=\"458.3398\"/><!--MD5=[1f5f03483f7de0d5b3680a7f6650997f]\n",
       "reverse link E6 to E11--><path d=\"M103.71,253.2 C104.3,270.82 104.85,287.28 105.26,299.69 \" fill=\"none\" id=\"E6&lt;-E11\" style=\"stroke: #383838; stroke-width: 1.0;\"/><polygon fill=\"#383838\" points=\"103.28,240.2,99.4801,246.3287,103.6758,252.1935,107.4757,246.0648,103.28,240.2\" style=\"stroke: #383838; stroke-width: 1.0;\"/><!--MD5=[94adabc162ce7e41b39f13be14fbaeb3]\n",
       "reverse link E11 to E12--><path d=\"M107.69,359.11 C108.38,373.64 109.2,390.65 109.93,405.93 \" fill=\"none\" id=\"E11&lt;-E12\" style=\"stroke: #383838; stroke-width: 1.0;\"/><polygon fill=\"#FFFFFF\" points=\"107.06,346.06,103.348,352.2423,107.627,358.0466,111.339,351.8643,107.06,346.06\" style=\"stroke: #383838; stroke-width: 1.0;\"/><!--MD5=[3882993d2265a60290f3199d517f0bb8]\n",
       "@startuml\r\n",
       "skinparam linetype polyline\r\n",
       "skinparam monochrome true\r\n",
       "skinparam classbackgroundcolor white\r\n",
       "skinparam shadowing false\r\n",
       "skinparam wrapWidth 300\r\n",
       "hide circle\r\n",
       "\r\n",
       "package \"StateTest\" as E1   {\r\n",
       "comp def \"Sig\" as E2  <<(T,blue)attribute def>> {\r\n",
       "x: DataValue\r\n",
       "}\r\n",
       "comp def \"Exit\" as E3  <<(T,blue)attribute def>> {\r\n",
       "}\r\n",
       "comp usage \"p: Part\" as E4  <<(T,blue)part>> {\r\n",
       "}\r\n",
       "comp usage \"act: Action\" as E5  <<(T,blue)action>> {\r\n",
       "}\r\n",
       "comp def \"S\" as E6  <<(T,blue)state def>> {\r\n",
       "- -performActions- -\r\n",
       "act: Action\\n//:>>State::exitAction// \r\n",
       "A: Performance\\n//:>>State::entryAction// \r\n",
       "B: Action\\n//:>>State::doAction// \r\n",
       "- -states- -\r\n",
       "S1: State\r\n",
       "- -transitions- -\r\n",
       "T: Transition\r\n",
       "}\r\n",
       "comp usage \"S2: State\" as E11  <<(T,blue)state>> {\r\n",
       "}\r\n",
       "comp usage \"doAction: TransferAction\" as E12  <<(T,blue)sendAction>> {\r\n",
       "- -itemFeatures- -\r\n",
       "item: Anything\\n//:>>Transfer::item// \r\n",
       "}\r\n",
       "E6 *- - E11\r\n",
       "E11 o- - E12\r\n",
       "}\r\n",
       "@enduml\r\n",
       "\n",
       "PlantUML version 1.2020.13(Sat Jun 13 12:26:38 UTC 2020)\n",
       "(EPL source distribution)\n",
       "Java Runtime: OpenJDK Runtime Environment\n",
       "JVM: OpenJDK 64-Bit Server VM\n",
       "Default Encoding: UTF-8\n",
       "Language: en\n",
       "Country: null\n",
       "--></g></svg>"
      ]
     },
     "execution_count": 14,
     "metadata": {},
     "output_type": "execute_result"
    }
   ],
   "source": [
    "%viz --style=\"POLYLINE\" --view=\"Sequence\" \"StateTest\""
   ]
  },
  {
   "cell_type": "code",
   "execution_count": 15,
   "id": "protecting-queensland",
   "metadata": {
    "execution": {
     "iopub.execute_input": "2021-03-26T09:42:45.115794Z",
     "iopub.status.busy": "2021-03-26T09:42:45.114869Z",
     "iopub.status.idle": "2021-03-26T09:42:45.167547Z",
     "shell.execute_reply": "2021-03-26T09:42:45.167869Z"
    }
   },
   "outputs": [
    {
     "data": {
      "image/svg+xml": [
       "<?xml version=\"1.0\" encoding=\"UTF-8\" standalone=\"no\"?><svg xmlns=\"http://www.w3.org/2000/svg\" xmlns:xlink=\"http://www.w3.org/1999/xlink\" contentScriptType=\"application/ecmascript\" contentStyleType=\"text/css\" height=\"557px\" preserveAspectRatio=\"none\" style=\"width:815px;height:557px;\" version=\"1.1\" viewBox=\"0 0 815 557\" width=\"815px\" zoomAndPan=\"magnify\"><defs/><g><!--MD5=[fbc87193dbaf4d95561dea2c320d4a47]\n",
       "cluster E1--><polygon fill=\"#FFFFFF\" points=\"16,6,98,6,105,28.2969,793,28.2969,793,545.5,16,545.5,16,6\" style=\"stroke: #000000; stroke-width: 1.5;\"/><line style=\"stroke: #000000; stroke-width: 1.5;\" x1=\"16\" x2=\"105\" y1=\"28.2969\" y2=\"28.2969\"/><text fill=\"#000000\" font-family=\"sans-serif\" font-size=\"14\" font-weight=\"bold\" lengthAdjust=\"spacingAndGlyphs\" textLength=\"76\" x=\"20\" y=\"20.9951\">StateTest</text><!--MD5=[14e3b0961a2654348d326746436168a1]\n",
       "cluster E6--><rect fill=\"#FFFFFF\" height=\"472.5\" style=\"stroke: #000000; stroke-width: 1.5;\" width=\"327\" x=\"442\" y=\"49\"/><text fill=\"#000000\" font-family=\"sans-serif\" font-size=\"14\" font-weight=\"bold\" lengthAdjust=\"spacingAndGlyphs\" textLength=\"10\" x=\"600.5\" y=\"63.9951\">S</text><!--MD5=[b4997ac47864f28c2f74865a473b2911]\n",
       "class E2--><rect fill=\"#FFFFFF\" height=\"58.7422\" id=\"E2\" style=\"stroke: #383838; stroke-width: 1.5;\" width=\"95\" x=\"330.5\" y=\"111.5\"/><text fill=\"#000000\" font-family=\"sans-serif\" font-size=\"12\" font-style=\"italic\" lengthAdjust=\"spacingAndGlyphs\" textLength=\"93\" x=\"331.5\" y=\"127.6387\">«attribute def»</text><text fill=\"#000000\" font-family=\"sans-serif\" font-size=\"12\" lengthAdjust=\"spacingAndGlyphs\" textLength=\"19\" x=\"368.5\" y=\"141.6074\">Sig</text><line style=\"stroke: #383838; stroke-width: 1.5;\" x1=\"331.5\" x2=\"424.5\" y1=\"149.4375\" y2=\"149.4375\"/><text fill=\"#000000\" font-family=\"sans-serif\" font-size=\"11\" lengthAdjust=\"spacingAndGlyphs\" textLength=\"71\" x=\"336.5\" y=\"163.6479\">x: DataValue</text><!--MD5=[09b614a08d8cba4a07c9adeb5e0fee81]\n",
       "class E3--><rect fill=\"#FFFFFF\" height=\"45.9375\" id=\"E3\" style=\"stroke: #383838; stroke-width: 1.5;\" width=\"95\" x=\"200.5\" y=\"118\"/><text fill=\"#000000\" font-family=\"sans-serif\" font-size=\"12\" font-style=\"italic\" lengthAdjust=\"spacingAndGlyphs\" textLength=\"93\" x=\"201.5\" y=\"134.1387\">«attribute def»</text><text fill=\"#000000\" font-family=\"sans-serif\" font-size=\"12\" lengthAdjust=\"spacingAndGlyphs\" textLength=\"22\" x=\"237\" y=\"148.1074\">Exit</text><line style=\"stroke: #383838; stroke-width: 1.5;\" x1=\"201.5\" x2=\"294.5\" y1=\"155.9375\" y2=\"155.9375\"/><!--MD5=[ebbe1d658d1005bcc118a6aa81145e00]\n",
       "class E4--><rect fill=\"#FFFFFF\" height=\"45.9375\" id=\"E4\" rx=\"10\" ry=\"10\" style=\"stroke: #383838; stroke-width: 1.5;\" width=\"48\" x=\"117\" y=\"118\"/><text fill=\"#000000\" font-family=\"sans-serif\" font-size=\"12\" font-style=\"italic\" lengthAdjust=\"spacingAndGlyphs\" textLength=\"40\" x=\"121\" y=\"134.1387\">«part»</text><text fill=\"#000000\" font-family=\"sans-serif\" font-size=\"12\" lengthAdjust=\"spacingAndGlyphs\" textLength=\"42\" x=\"120\" y=\"148.1074\">p: Part</text><line style=\"stroke: #383838; stroke-width: 1.5;\" x1=\"118\" x2=\"164\" y1=\"155.9375\" y2=\"155.9375\"/><g id=\"E1.E5\"><rect fill=\"#FFFFFF\" height=\"50\" rx=\"12.5\" ry=\"12.5\" style=\"stroke: #383838; stroke-width: 1.5;\" width=\"50\" x=\"32\" y=\"116\"/><line style=\"stroke: #383838; stroke-width: 1.5;\" x1=\"32\" x2=\"82\" y1=\"142.2969\" y2=\"142.2969\"/><text fill=\"#000000\" font-family=\"sans-serif\" font-size=\"14\" lengthAdjust=\"spacingAndGlyphs\" textLength=\"21\" x=\"46.5\" y=\"133.9951\">act</text></g><ellipse cx=\"554\" cy=\"141\" fill=\"#000000\" rx=\"10\" ry=\"10\" style=\"stroke: none; stroke-width: 1.0;\"/><ellipse cx=\"572\" cy=\"495.5\" fill=\"none\" rx=\"10\" ry=\"10\" style=\"stroke: #000000; stroke-width: 1.0;\"/><ellipse cx=\"572.5\" cy=\"496\" fill=\"#000000\" rx=\"6\" ry=\"6\" style=\"stroke: none; stroke-width: 1.0;\"/><g id=\"E1.E6.E7\"><rect fill=\"#FFFFFF\" height=\"50\" rx=\"12.5\" ry=\"12.5\" style=\"stroke: #383838; stroke-width: 1.5;\" width=\"50\" x=\"529\" y=\"231.5\"/><line style=\"stroke: #383838; stroke-width: 1.5;\" x1=\"529\" x2=\"579\" y1=\"257.7969\" y2=\"257.7969\"/><text fill=\"#000000\" font-family=\"sans-serif\" font-size=\"14\" lengthAdjust=\"spacingAndGlyphs\" textLength=\"18\" x=\"545\" y=\"249.4951\">S1</text></g><g id=\"E1.E6.E8\"><rect fill=\"#FFFFFF\" height=\"50.2656\" rx=\"12.5\" ry=\"12.5\" style=\"stroke: #383838; stroke-width: 1.5;\" width=\"142\" x=\"501\" y=\"358.5\"/><line style=\"stroke: #383838; stroke-width: 1.5;\" x1=\"501\" x2=\"643\" y1=\"384.7969\" y2=\"384.7969\"/><text fill=\"#000000\" font-family=\"sans-serif\" font-size=\"14\" lengthAdjust=\"spacingAndGlyphs\" textLength=\"18\" x=\"563\" y=\"376.4951\">S2</text><text fill=\"#000000\" font-family=\"sans-serif\" font-size=\"12\" font-weight=\"bold\" lengthAdjust=\"spacingAndGlyphs\" textLength=\"18\" x=\"506\" y=\"400.9355\">do</text><text fill=\"#000000\" font-family=\"sans-serif\" font-size=\"12\" lengthAdjust=\"spacingAndGlyphs\" textLength=\"104\" x=\"524\" y=\"400.9355\">/ transferActions</text></g><!--MD5=[5a531d3a85f3339e6e197084acb48195]\n",
       "link *start*E6 to E7--><path d=\"M554,151.29 C554,167.4 554,201.18 554,225.93 \" fill=\"none\" id=\"*start*E6-&gt;E7\" style=\"stroke: #383838; stroke-width: 1.0;\"/><polygon fill=\"#383838\" points=\"554,231.07,558,222.07,554,226.07,550,222.07,554,231.07\" style=\"stroke: #383838; stroke-width: 1.0;\"/><!--MD5=[7ec9a8babba89ddcae1318ca9fb3c814]\n",
       "link E8 to *end*E6--><path d=\"M572,408.64 C572,430.53 572,462.07 572,480.21 \" fill=\"none\" id=\"E8-&gt;*end*E6\" style=\"stroke: #383838; stroke-width: 1.0;\"/><polygon fill=\"#383838\" points=\"572,485.38,576,476.38,572,480.38,568,476.38,572,485.38\" style=\"stroke: #383838; stroke-width: 1.0;\"/><text fill=\"#000000\" font-family=\"sans-serif\" font-size=\"13\" lengthAdjust=\"spacingAndGlyphs\" textLength=\"23\" x=\"573\" y=\"451.5669\">Exit</text><!--MD5=[79bc8f324ef4d02c541433f2e6e513c3]\n",
       "link E7 to E8--><path d=\"M528.71,278.84 C510.82,293.94 490,311.5 490,311.5 C490,311.5 490,328.5 490,328.5 C490,328.5 510.47,341.98 530.95,355.47 \" fill=\"none\" id=\"E7-&gt;E8\" style=\"stroke: #383838; stroke-width: 1.0;\"/><polygon fill=\"#383838\" points=\"535.32,358.34,529.9976,350.0531,531.1422,355.593,525.6024,356.7376,535.32,358.34\" style=\"stroke: #383838; stroke-width: 1.0;\"/><text fill=\"#000000\" font-family=\"sans-serif\" font-size=\"13\" lengthAdjust=\"spacingAndGlyphs\" textLength=\"81\" x=\"491\" y=\"324.5669\">Sig /action D</text><!--MD5=[bfa3c8b0d15052fdf50ae9310b491027]\n",
       "link E8 to E7--><path d=\"M574.24,358.34 C575.57,343.97 577,328.5 577,328.5 C577,328.5 577,311.5 577,311.5 C577,311.5 571.78,299.23 566.31,286.39 \" fill=\"none\" id=\"E8-&gt;E7\" style=\"stroke: #383838; stroke-width: 1.0;\"/><polygon fill=\"#383838\" points=\"564.29,281.66,564.1328,291.5076,566.2475,286.2609,571.4942,288.3756,564.29,281.66\" style=\"stroke: #383838; stroke-width: 1.0;\"/><text fill=\"#000000\" font-family=\"sans-serif\" font-size=\"13\" lengthAdjust=\"spacingAndGlyphs\" textLength=\"135\" x=\"578\" y=\"324.5669\">Sig [true]/send s to p</text><!--MD5=[0733e9c2ae039173457d6c726ac97222]\n",
       "@startuml\r\n",
       "skinparam linetype polyline\r\n",
       "skinparam monochrome true\r\n",
       "skinparam classbackgroundcolor white\r\n",
       "skinparam shadowing false\r\n",
       "skinparam wrapWidth 300\r\n",
       "hide circle\r\n",
       "\r\n",
       "package \"StateTest\" as E1   {\r\n",
       "comp def \"Sig\" as E2  <<(T,blue)attribute def>> {\r\n",
       "x: DataValue\r\n",
       "}\r\n",
       "comp def \"Exit\" as E3  <<(T,blue)attribute def>> {\r\n",
       "}\r\n",
       "comp usage \"p: Part\" as E4  <<(T,blue)part>> {\r\n",
       "}\r\n",
       "rec usage \"act\" as E5 {\r\n",
       "}\r\n",
       "\r\n",
       "rec def \"S\" as E6 {\r\n",
       "rec usage \"S1\" as E7 {\r\n",
       "}\r\n",
       "\r\n",
       "rec usage \"S2\" as E8 {\r\n",
       "desc \"S2\" as E8  : **do**/ transferActions \r\n",
       "}\r\n",
       "\r\n",
       "[*] - -> E7\r\n",
       "E8  - -> [*] : Exit \r\n",
       "desc \"S\" as E6  : **entry**/ A\r\n",
       "desc \"S\" as E6  : **do**/ B\r\n",
       "desc \"S\" as E6  : **exit**/ act \r\n",
       "}\r\n",
       "\r\n",
       "E7  - -> E8 : Sig /action D\r\n",
       "E8  - -> E7 : Sig [true]/send s to p\r\n",
       "}\r\n",
       "@enduml\r\n",
       "\n",
       "PlantUML version 1.2020.13(Sat Jun 13 12:26:38 UTC 2020)\n",
       "(EPL source distribution)\n",
       "Java Runtime: OpenJDK Runtime Environment\n",
       "JVM: OpenJDK 64-Bit Server VM\n",
       "Default Encoding: UTF-8\n",
       "Language: en\n",
       "Country: null\n",
       "--></g></svg>"
      ]
     },
     "execution_count": 15,
     "metadata": {},
     "output_type": "execute_result"
    }
   ],
   "source": [
    "%viz --style=\"POLYLINE\" --view=\"MIXED\" \"StateTest\""
   ]
  },
  {
   "cell_type": "code",
   "execution_count": 16,
   "id": "liberal-radius",
   "metadata": {
    "execution": {
     "iopub.execute_input": "2021-03-26T09:42:45.220642Z",
     "iopub.status.busy": "2021-03-26T09:42:45.219933Z",
     "iopub.status.idle": "2021-03-26T09:42:45.268270Z",
     "shell.execute_reply": "2021-03-26T09:42:45.268642Z"
    }
   },
   "outputs": [
    {
     "data": {
      "image/svg+xml": [
       "<?xml version=\"1.0\" encoding=\"UTF-8\" standalone=\"no\"?><svg xmlns=\"http://www.w3.org/2000/svg\" xmlns:xlink=\"http://www.w3.org/1999/xlink\" contentScriptType=\"application/ecmascript\" contentStyleType=\"text/css\" height=\"607px\" preserveAspectRatio=\"none\" style=\"width:744px;height:607px;\" version=\"1.1\" viewBox=\"0 0 744 607\" width=\"744px\" zoomAndPan=\"magnify\"><defs/><g><!--MD5=[fbc87193dbaf4d95561dea2c320d4a47]\n",
       "cluster E1--><polygon fill=\"#FFFFFF\" points=\"16,6,98,6,105,28.2969,722,28.2969,722,595,16,595,16,6\" style=\"stroke: #000000; stroke-width: 1.5;\"/><line style=\"stroke: #000000; stroke-width: 1.5;\" x1=\"16\" x2=\"105\" y1=\"28.2969\" y2=\"28.2969\"/><text fill=\"#000000\" font-family=\"sans-serif\" font-size=\"14\" font-weight=\"bold\" lengthAdjust=\"spacingAndGlyphs\" textLength=\"76\" x=\"20\" y=\"20.9951\">StateTest</text><!--MD5=[14e3b0961a2654348d326746436168a1]\n",
       "cluster E6--><rect fill=\"#FFFFFF\" height=\"207\" style=\"stroke: #000000; stroke-width: 1.5;\" width=\"644.5\" x=\"53.5\" y=\"49\"/><text fill=\"#000000\" font-family=\"sans-serif\" font-size=\"14\" font-weight=\"bold\" lengthAdjust=\"spacingAndGlyphs\" textLength=\"10\" x=\"370.75\" y=\"63.9951\">S</text><!--MD5=[b4997ac47864f28c2f74865a473b2911]\n",
       "class E2--><rect fill=\"#FFFFFF\" height=\"58.7422\" id=\"E2\" style=\"stroke: #383838; stroke-width: 1.5;\" width=\"95\" x=\"32\" y=\"272.5\"/><text fill=\"#000000\" font-family=\"sans-serif\" font-size=\"12\" font-style=\"italic\" lengthAdjust=\"spacingAndGlyphs\" textLength=\"93\" x=\"33\" y=\"288.6387\">«attribute def»</text><text fill=\"#000000\" font-family=\"sans-serif\" font-size=\"12\" lengthAdjust=\"spacingAndGlyphs\" textLength=\"19\" x=\"70\" y=\"302.6074\">Sig</text><line style=\"stroke: #383838; stroke-width: 1.5;\" x1=\"33\" x2=\"126\" y1=\"310.4375\" y2=\"310.4375\"/><text fill=\"#000000\" font-family=\"sans-serif\" font-size=\"11\" lengthAdjust=\"spacingAndGlyphs\" textLength=\"71\" x=\"38\" y=\"324.6479\">x: DataValue</text><!--MD5=[09b614a08d8cba4a07c9adeb5e0fee81]\n",
       "class E3--><rect fill=\"#FFFFFF\" height=\"45.9375\" id=\"E3\" style=\"stroke: #383838; stroke-width: 1.5;\" width=\"95\" x=\"32\" y=\"367\"/><text fill=\"#000000\" font-family=\"sans-serif\" font-size=\"12\" font-style=\"italic\" lengthAdjust=\"spacingAndGlyphs\" textLength=\"93\" x=\"33\" y=\"383.1387\">«attribute def»</text><text fill=\"#000000\" font-family=\"sans-serif\" font-size=\"12\" lengthAdjust=\"spacingAndGlyphs\" textLength=\"22\" x=\"68.5\" y=\"397.1074\">Exit</text><line style=\"stroke: #383838; stroke-width: 1.5;\" x1=\"33\" x2=\"126\" y1=\"404.9375\" y2=\"404.9375\"/><!--MD5=[ebbe1d658d1005bcc118a6aa81145e00]\n",
       "class E4--><rect fill=\"#FFFFFF\" height=\"45.9375\" id=\"E4\" rx=\"10\" ry=\"10\" style=\"stroke: #383838; stroke-width: 1.5;\" width=\"48\" x=\"55.5\" y=\"448\"/><text fill=\"#000000\" font-family=\"sans-serif\" font-size=\"12\" font-style=\"italic\" lengthAdjust=\"spacingAndGlyphs\" textLength=\"40\" x=\"59.5\" y=\"464.1387\">«part»</text><text fill=\"#000000\" font-family=\"sans-serif\" font-size=\"12\" lengthAdjust=\"spacingAndGlyphs\" textLength=\"42\" x=\"58.5\" y=\"478.1074\">p: Part</text><line style=\"stroke: #383838; stroke-width: 1.5;\" x1=\"56.5\" x2=\"102.5\" y1=\"485.9375\" y2=\"485.9375\"/><g id=\"E1.E5\"><rect fill=\"#FFFFFF\" height=\"50\" rx=\"12.5\" ry=\"12.5\" style=\"stroke: #383838; stroke-width: 1.5;\" width=\"50\" x=\"54.5\" y=\"529\"/><line style=\"stroke: #383838; stroke-width: 1.5;\" x1=\"54.5\" x2=\"104.5\" y1=\"555.2969\" y2=\"555.2969\"/><text fill=\"#000000\" font-family=\"sans-serif\" font-size=\"14\" lengthAdjust=\"spacingAndGlyphs\" textLength=\"21\" x=\"69\" y=\"546.9951\">act</text></g><ellipse cx=\"79.5\" cy=\"181\" fill=\"#000000\" rx=\"10\" ry=\"10\" style=\"stroke: none; stroke-width: 1.0;\"/><ellipse cx=\"672\" cy=\"181\" fill=\"none\" rx=\"10\" ry=\"10\" style=\"stroke: #000000; stroke-width: 1.0;\"/><ellipse cx=\"672.5\" cy=\"181.5\" fill=\"#000000\" rx=\"6\" ry=\"6\" style=\"stroke: none; stroke-width: 1.0;\"/><g id=\"E1.E6.E7\"><rect fill=\"#FFFFFF\" height=\"50\" rx=\"12.5\" ry=\"12.5\" style=\"stroke: #383838; stroke-width: 1.5;\" width=\"50\" x=\"188\" y=\"156\"/><line style=\"stroke: #383838; stroke-width: 1.5;\" x1=\"188\" x2=\"238\" y1=\"182.2969\" y2=\"182.2969\"/><text fill=\"#000000\" font-family=\"sans-serif\" font-size=\"14\" lengthAdjust=\"spacingAndGlyphs\" textLength=\"18\" x=\"204\" y=\"173.9951\">S1</text></g><g id=\"E1.E6.E8\"><rect fill=\"#FFFFFF\" height=\"50.2656\" rx=\"12.5\" ry=\"12.5\" style=\"stroke: #383838; stroke-width: 1.5;\" width=\"142\" x=\"435\" y=\"156\"/><line style=\"stroke: #383838; stroke-width: 1.5;\" x1=\"435\" x2=\"577\" y1=\"182.2969\" y2=\"182.2969\"/><text fill=\"#000000\" font-family=\"sans-serif\" font-size=\"14\" lengthAdjust=\"spacingAndGlyphs\" textLength=\"18\" x=\"497\" y=\"173.9951\">S2</text><text fill=\"#000000\" font-family=\"sans-serif\" font-size=\"12\" font-weight=\"bold\" lengthAdjust=\"spacingAndGlyphs\" textLength=\"18\" x=\"440\" y=\"198.4355\">do</text><text fill=\"#000000\" font-family=\"sans-serif\" font-size=\"12\" lengthAdjust=\"spacingAndGlyphs\" textLength=\"104\" x=\"458\" y=\"198.4355\">/ transferActions</text></g><!--MD5=[5a531d3a85f3339e6e197084acb48195]\n",
       "link *start*E6 to E7--><path d=\"M89.54,181 C108.46,181 152.97,181 182.78,181 \" fill=\"none\" id=\"*start*E6-&gt;E7\" style=\"stroke: #383838; stroke-width: 1.0;\"/><polygon fill=\"#383838\" points=\"187.8,181,178.8,177,182.8,181,178.8,185,187.8,181\" style=\"stroke: #383838; stroke-width: 1.0;\"/><!--MD5=[7ec9a8babba89ddcae1318ca9fb3c814]\n",
       "link E8 to *end*E6--><path d=\"M577.03,181 C606.85,181 638.83,181 656.74,181 \" fill=\"none\" id=\"E8-&gt;*end*E6\" style=\"stroke: #383838; stroke-width: 1.0;\"/><polygon fill=\"#383838\" points=\"661.82,181,652.82,177,656.82,181,652.82,185,661.82,181\" style=\"stroke: #383838; stroke-width: 1.0;\"/><text fill=\"#000000\" font-family=\"sans-serif\" font-size=\"13\" lengthAdjust=\"spacingAndGlyphs\" textLength=\"23\" x=\"608\" y=\"177.0669\">Exit</text><!--MD5=[79bc8f324ef4d02c541433f2e6e513c3]\n",
       "link E7 to E8--><path d=\"M238.09,196.03 C247.12,200.85 257.7,205.57 268,208 C327.26,221.99 344.64,216.01 405,208 C413.12,206.92 421.52,205.37 429.83,203.56 \" fill=\"none\" id=\"E7-&gt;E8\" style=\"stroke: #383838; stroke-width: 1.0;\"/><polygon fill=\"#383838\" points=\"435,202.39,425.3412,200.4645,430.1221,203.4882,427.0984,208.2691,435,202.39\" style=\"stroke: #383838; stroke-width: 1.0;\"/><text fill=\"#000000\" font-family=\"sans-serif\" font-size=\"13\" lengthAdjust=\"spacingAndGlyphs\" textLength=\"81\" x=\"296\" y=\"204.0669\">Sig /action D</text><!--MD5=[bfa3c8b0d15052fdf50ae9310b491027]\n",
       "link E8 to E7--><path d=\"M434.83,181 C373.7,181 288.07,181 243.53,181 \" fill=\"none\" id=\"E8-&gt;E7\" style=\"stroke: #383838; stroke-width: 1.0;\"/><polygon fill=\"#383838\" points=\"238.31,181,247.31,185,243.31,181,247.31,177,238.31,181\" style=\"stroke: #383838; stroke-width: 1.0;\"/><text fill=\"#000000\" font-family=\"sans-serif\" font-size=\"13\" lengthAdjust=\"spacingAndGlyphs\" textLength=\"135\" x=\"269\" y=\"177.0669\">Sig [true]/send s to p</text><!--MD5=[1809aab7a142b9da4265e0856357b704]\n",
       "@startuml\r\n",
       "left to right direction\r\n",
       "skinparam monochrome true\r\n",
       "skinparam classbackgroundcolor white\r\n",
       "skinparam shadowing false\r\n",
       "skinparam wrapWidth 300\r\n",
       "hide circle\r\n",
       "\r\n",
       "package \"StateTest\" as E1   {\r\n",
       "comp def \"Sig\" as E2  <<(T,blue)attribute def>> {\r\n",
       "x: DataValue\r\n",
       "}\r\n",
       "comp def \"Exit\" as E3  <<(T,blue)attribute def>> {\r\n",
       "}\r\n",
       "comp usage \"p: Part\" as E4  <<(T,blue)part>> {\r\n",
       "}\r\n",
       "rec usage \"act\" as E5 {\r\n",
       "}\r\n",
       "\r\n",
       "rec def \"S\" as E6 {\r\n",
       "rec usage \"S1\" as E7 {\r\n",
       "}\r\n",
       "\r\n",
       "rec usage \"S2\" as E8 {\r\n",
       "desc \"S2\" as E8  : **do**/ transferActions \r\n",
       "}\r\n",
       "\r\n",
       "[*] - -> E7\r\n",
       "E8  - -> [*] : Exit \r\n",
       "desc \"S\" as E6  : **entry**/ A\r\n",
       "desc \"S\" as E6  : **do**/ B\r\n",
       "desc \"S\" as E6  : **exit**/ act \r\n",
       "}\r\n",
       "\r\n",
       "E7  - -> E8 : Sig /action D\r\n",
       "E8  - -> E7 : Sig [true]/send s to p\r\n",
       "}\r\n",
       "@enduml\r\n",
       "\n",
       "PlantUML version 1.2020.13(Sat Jun 13 12:26:38 UTC 2020)\n",
       "(EPL source distribution)\n",
       "Java Runtime: OpenJDK Runtime Environment\n",
       "JVM: OpenJDK 64-Bit Server VM\n",
       "Default Encoding: UTF-8\n",
       "Language: en\n",
       "Country: null\n",
       "--></g></svg>"
      ]
     },
     "execution_count": 16,
     "metadata": {},
     "output_type": "execute_result"
    }
   ],
   "source": [
    "%viz --style=\"LR\" --view=\"Default\" \"StateTest\""
   ]
  },
  {
   "cell_type": "code",
   "execution_count": 17,
   "id": "medium-midwest",
   "metadata": {
    "execution": {
     "iopub.execute_input": "2021-03-26T09:42:45.322918Z",
     "iopub.status.busy": "2021-03-26T09:42:45.322219Z",
     "iopub.status.idle": "2021-03-26T09:42:45.521543Z",
     "shell.execute_reply": "2021-03-26T09:42:45.521872Z"
    }
   },
   "outputs": [
    {
     "data": {
      "image/svg+xml": [
       "<?xml version=\"1.0\" encoding=\"UTF-8\" standalone=\"no\"?><svg xmlns=\"http://www.w3.org/2000/svg\" xmlns:xlink=\"http://www.w3.org/1999/xlink\" contentScriptType=\"application/ecmascript\" contentStyleType=\"text/css\" height=\"607px\" preserveAspectRatio=\"none\" style=\"width:549px;height:607px;\" version=\"1.1\" viewBox=\"0 0 549 607\" width=\"549px\" zoomAndPan=\"magnify\"><defs/><g><!--MD5=[fbc87193dbaf4d95561dea2c320d4a47]\n",
       "cluster E1--><polygon fill=\"#FFFFFF\" points=\"16,6,98,6,105,28.2969,527,28.2969,527,595,16,595,16,6\" style=\"stroke: #000000; stroke-width: 1.5;\"/><line style=\"stroke: #000000; stroke-width: 1.5;\" x1=\"16\" x2=\"105\" y1=\"28.2969\" y2=\"28.2969\"/><text fill=\"#000000\" font-family=\"sans-serif\" font-size=\"14\" font-weight=\"bold\" lengthAdjust=\"spacingAndGlyphs\" textLength=\"76\" x=\"20\" y=\"20.9951\">StateTest</text><!--MD5=[b4997ac47864f28c2f74865a473b2911]\n",
       "class E2--><rect fill=\"#FFFFFF\" height=\"58.7422\" id=\"E2\" style=\"stroke: #383838; stroke-width: 1.5;\" width=\"95\" x=\"52\" y=\"41.5\"/><text fill=\"#000000\" font-family=\"sans-serif\" font-size=\"12\" font-style=\"italic\" lengthAdjust=\"spacingAndGlyphs\" textLength=\"93\" x=\"53\" y=\"57.6387\">«attribute def»</text><text fill=\"#000000\" font-family=\"sans-serif\" font-size=\"12\" lengthAdjust=\"spacingAndGlyphs\" textLength=\"19\" x=\"90\" y=\"71.6074\">Sig</text><line style=\"stroke: #383838; stroke-width: 1.5;\" x1=\"53\" x2=\"146\" y1=\"79.4375\" y2=\"79.4375\"/><text fill=\"#000000\" font-family=\"sans-serif\" font-size=\"11\" lengthAdjust=\"spacingAndGlyphs\" textLength=\"71\" x=\"58\" y=\"93.6479\">x: DataValue</text><!--MD5=[09b614a08d8cba4a07c9adeb5e0fee81]\n",
       "class E3--><rect fill=\"#FFFFFF\" height=\"45.9375\" id=\"E3\" style=\"stroke: #383838; stroke-width: 1.5;\" width=\"95\" x=\"52\" y=\"136\"/><text fill=\"#000000\" font-family=\"sans-serif\" font-size=\"12\" font-style=\"italic\" lengthAdjust=\"spacingAndGlyphs\" textLength=\"93\" x=\"53\" y=\"152.1387\">«attribute def»</text><text fill=\"#000000\" font-family=\"sans-serif\" font-size=\"12\" lengthAdjust=\"spacingAndGlyphs\" textLength=\"22\" x=\"88.5\" y=\"166.1074\">Exit</text><line style=\"stroke: #383838; stroke-width: 1.5;\" x1=\"53\" x2=\"146\" y1=\"173.9375\" y2=\"173.9375\"/><!--MD5=[ebbe1d658d1005bcc118a6aa81145e00]\n",
       "class E4--><rect fill=\"#FFFFFF\" height=\"45.9375\" id=\"E4\" rx=\"10\" ry=\"10\" style=\"stroke: #383838; stroke-width: 1.5;\" width=\"48\" x=\"75.5\" y=\"217\"/><text fill=\"#000000\" font-family=\"sans-serif\" font-size=\"12\" font-style=\"italic\" lengthAdjust=\"spacingAndGlyphs\" textLength=\"40\" x=\"79.5\" y=\"233.1387\">«part»</text><text fill=\"#000000\" font-family=\"sans-serif\" font-size=\"12\" lengthAdjust=\"spacingAndGlyphs\" textLength=\"42\" x=\"78.5\" y=\"247.1074\">p: Part</text><line style=\"stroke: #383838; stroke-width: 1.5;\" x1=\"76.5\" x2=\"122.5\" y1=\"254.9375\" y2=\"254.9375\"/><!--MD5=[270fce915f116d4de14055a7c1d9a0f3]\n",
       "class E5--><rect fill=\"#FFFFFF\" height=\"45.9375\" id=\"E5\" rx=\"10\" ry=\"10\" style=\"stroke: #383838; stroke-width: 1.5;\" width=\"73\" x=\"63\" y=\"298\"/><text fill=\"#000000\" font-family=\"sans-serif\" font-size=\"12\" font-style=\"italic\" lengthAdjust=\"spacingAndGlyphs\" textLength=\"53\" x=\"73\" y=\"314.1387\">«action»</text><text fill=\"#000000\" font-family=\"sans-serif\" font-size=\"12\" lengthAdjust=\"spacingAndGlyphs\" textLength=\"67\" x=\"66\" y=\"328.1074\">act: Action</text><line style=\"stroke: #383838; stroke-width: 1.5;\" x1=\"64\" x2=\"135\" y1=\"335.9375\" y2=\"335.9375\"/><!--MD5=[60a26617385b1d2d0262a64233df1f8d]\n",
       "class E6--><rect fill=\"#FFFFFF\" height=\"198.7891\" id=\"E6\" style=\"stroke: #383838; stroke-width: 1.5;\" width=\"135\" x=\"32\" y=\"379.5\"/><text fill=\"#000000\" font-family=\"sans-serif\" font-size=\"12\" font-style=\"italic\" lengthAdjust=\"spacingAndGlyphs\" textLength=\"71\" x=\"64\" y=\"395.6387\">«state def»</text><text fill=\"#000000\" font-family=\"sans-serif\" font-size=\"12\" lengthAdjust=\"spacingAndGlyphs\" textLength=\"8\" x=\"95.5\" y=\"409.6074\">S</text><line style=\"stroke: #383838; stroke-width: 1.5;\" x1=\"33\" x2=\"166\" y1=\"417.4375\" y2=\"417.4375\"/><text fill=\"#000000\" font-family=\"sans-serif\" font-size=\"11\" lengthAdjust=\"spacingAndGlyphs\" textLength=\"59\" x=\"38\" y=\"448.4526\">act: Action</text><text fill=\"#000000\" font-family=\"sans-serif\" font-size=\"11\" font-style=\"italic\" lengthAdjust=\"spacingAndGlyphs\" textLength=\"114\" x=\"38\" y=\"461.2573\">:&gt;&gt;State::exitAction</text><text fill=\"#000000\" font-family=\"sans-serif\" font-size=\"11\" lengthAdjust=\"spacingAndGlyphs\" textLength=\"88\" x=\"38\" y=\"474.062\">A: Performance</text><text fill=\"#000000\" font-family=\"sans-serif\" font-size=\"11\" font-style=\"italic\" lengthAdjust=\"spacingAndGlyphs\" textLength=\"123\" x=\"38\" y=\"486.8667\">:&gt;&gt;State::entryAction</text><text fill=\"#000000\" font-family=\"sans-serif\" font-size=\"11\" lengthAdjust=\"spacingAndGlyphs\" textLength=\"50\" x=\"38\" y=\"499.6714\">B: Action</text><text fill=\"#000000\" font-family=\"sans-serif\" font-size=\"11\" font-style=\"italic\" lengthAdjust=\"spacingAndGlyphs\" textLength=\"108\" x=\"38\" y=\"512.4761\">:&gt;&gt;State::doAction</text><line style=\"stroke: #383838; stroke-width: 1.0;\" x1=\"33\" x2=\"56\" y1=\"431.8398\" y2=\"431.8398\"/><text fill=\"#000000\" font-family=\"sans-serif\" font-size=\"11\" lengthAdjust=\"spacingAndGlyphs\" textLength=\"87\" x=\"56\" y=\"435.1479\">performActions</text><line style=\"stroke: #383838; stroke-width: 1.0;\" x1=\"143\" x2=\"166\" y1=\"431.8398\" y2=\"431.8398\"/><text fill=\"#000000\" font-family=\"sans-serif\" font-size=\"11\" lengthAdjust=\"spacingAndGlyphs\" textLength=\"53\" x=\"38\" y=\"542.0854\">S1: State</text><line style=\"stroke: #383838; stroke-width: 1.0;\" x1=\"33\" x2=\"81.5\" y1=\"525.4727\" y2=\"525.4727\"/><text fill=\"#000000\" font-family=\"sans-serif\" font-size=\"11\" lengthAdjust=\"spacingAndGlyphs\" textLength=\"36\" x=\"81.5\" y=\"528.7808\">states</text><line style=\"stroke: #383838; stroke-width: 1.0;\" x1=\"117.5\" x2=\"166\" y1=\"525.4727\" y2=\"525.4727\"/><text fill=\"#000000\" font-family=\"sans-serif\" font-size=\"11\" lengthAdjust=\"spacingAndGlyphs\" textLength=\"72\" x=\"38\" y=\"571.6948\">T: Transition</text><line style=\"stroke: #383838; stroke-width: 1.0;\" x1=\"33\" x2=\"69\" y1=\"555.082\" y2=\"555.082\"/><text fill=\"#000000\" font-family=\"sans-serif\" font-size=\"11\" lengthAdjust=\"spacingAndGlyphs\" textLength=\"61\" x=\"69\" y=\"558.3901\">transitions</text><line style=\"stroke: #383838; stroke-width: 1.0;\" x1=\"130\" x2=\"166\" y1=\"555.082\" y2=\"555.082\"/><!--MD5=[1dd1bfd58a279cf63c5f349dbc8fc6a1]\n",
       "class E11--><rect fill=\"#FFFFFF\" height=\"45.9375\" id=\"E11\" rx=\"10\" ry=\"10\" style=\"stroke: #383838; stroke-width: 1.5;\" width=\"64\" x=\"227\" y=\"456\"/><text fill=\"#000000\" font-family=\"sans-serif\" font-size=\"12\" font-style=\"italic\" lengthAdjust=\"spacingAndGlyphs\" textLength=\"47\" x=\"235.5\" y=\"472.1387\">«state»</text><text fill=\"#000000\" font-family=\"sans-serif\" font-size=\"12\" lengthAdjust=\"spacingAndGlyphs\" textLength=\"58\" x=\"230\" y=\"486.1074\">S2: State</text><line style=\"stroke: #383838; stroke-width: 1.5;\" x1=\"228\" x2=\"290\" y1=\"493.9375\" y2=\"493.9375\"/><!--MD5=[49a0ec8f00dab7302a31f22d0f0fe584]\n",
       "class E12--><rect fill=\"#FFFFFF\" height=\"88.3516\" id=\"E12\" rx=\"10\" ry=\"10\" style=\"stroke: #383838; stroke-width: 1.5;\" width=\"160\" x=\"351\" y=\"435\"/><text fill=\"#000000\" font-family=\"sans-serif\" font-size=\"12\" font-style=\"italic\" lengthAdjust=\"spacingAndGlyphs\" textLength=\"84\" x=\"389\" y=\"451.1387\">«sendAction»</text><text fill=\"#000000\" font-family=\"sans-serif\" font-size=\"12\" lengthAdjust=\"spacingAndGlyphs\" textLength=\"154\" x=\"354\" y=\"465.1074\">doAction: TransferAction</text><line style=\"stroke: #383838; stroke-width: 1.5;\" x1=\"352\" x2=\"510\" y1=\"472.9375\" y2=\"472.9375\"/><text fill=\"#000000\" font-family=\"sans-serif\" font-size=\"11\" lengthAdjust=\"spacingAndGlyphs\" textLength=\"81\" x=\"357\" y=\"503.9526\">item: Anything</text><text fill=\"#000000\" font-family=\"sans-serif\" font-size=\"11\" font-style=\"italic\" lengthAdjust=\"spacingAndGlyphs\" textLength=\"104\" x=\"357\" y=\"516.7573\">:&gt;&gt;Transfer::item</text><line style=\"stroke: #383838; stroke-width: 1.0;\" x1=\"352\" x2=\"393.5\" y1=\"487.3398\" y2=\"487.3398\"/><text fill=\"#000000\" font-family=\"sans-serif\" font-size=\"11\" lengthAdjust=\"spacingAndGlyphs\" textLength=\"75\" x=\"393.5\" y=\"490.6479\">itemFeatures</text><line style=\"stroke: #383838; stroke-width: 1.0;\" x1=\"468.5\" x2=\"510\" y1=\"487.3398\" y2=\"487.3398\"/><!--MD5=[1f5f03483f7de0d5b3680a7f6650997f]\n",
       "reverse link E6 to E11--><path d=\"M180.44,479 C196.88,479 213.26,479 226.69,479 \" fill=\"none\" id=\"E6&lt;-E11\" style=\"stroke: #383838; stroke-width: 1.0;\"/><polygon fill=\"#383838\" points=\"167.29,479,173.29,483,179.29,479,173.29,475,167.29,479\" style=\"stroke: #383838; stroke-width: 1.0;\"/><!--MD5=[94adabc162ce7e41b39f13be14fbaeb3]\n",
       "reverse link E11 to E12--><path d=\"M304.21,479 C318.52,479 334.86,479 350.91,479 \" fill=\"none\" id=\"E11&lt;-E12\" style=\"stroke: #383838; stroke-width: 1.0;\"/><polygon fill=\"#FFFFFF\" points=\"291.18,479,297.18,483,303.18,479,297.18,475,291.18,479\" style=\"stroke: #383838; stroke-width: 1.0;\"/><!--MD5=[7dc87b3d2c58f2a04fb10f58619c0e7d]\n",
       "@startuml\r\n",
       "left to right direction\r\n",
       "skinparam monochrome true\r\n",
       "skinparam classbackgroundcolor white\r\n",
       "skinparam shadowing false\r\n",
       "skinparam wrapWidth 300\r\n",
       "hide circle\r\n",
       "\r\n",
       "package \"StateTest\" as E1   {\r\n",
       "comp def \"Sig\" as E2  <<(T,blue)attribute def>> {\r\n",
       "x: DataValue\r\n",
       "}\r\n",
       "comp def \"Exit\" as E3  <<(T,blue)attribute def>> {\r\n",
       "}\r\n",
       "comp usage \"p: Part\" as E4  <<(T,blue)part>> {\r\n",
       "}\r\n",
       "comp usage \"act: Action\" as E5  <<(T,blue)action>> {\r\n",
       "}\r\n",
       "comp def \"S\" as E6  <<(T,blue)state def>> {\r\n",
       "- -performActions- -\r\n",
       "act: Action\\n//:>>State::exitAction// \r\n",
       "A: Performance\\n//:>>State::entryAction// \r\n",
       "B: Action\\n//:>>State::doAction// \r\n",
       "- -states- -\r\n",
       "S1: State\r\n",
       "- -transitions- -\r\n",
       "T: Transition\r\n",
       "}\r\n",
       "comp usage \"S2: State\" as E11  <<(T,blue)state>> {\r\n",
       "}\r\n",
       "comp usage \"doAction: TransferAction\" as E12  <<(T,blue)sendAction>> {\r\n",
       "- -itemFeatures- -\r\n",
       "item: Anything\\n//:>>Transfer::item// \r\n",
       "}\r\n",
       "E6 *- - E11\r\n",
       "E11 o- - E12\r\n",
       "}\r\n",
       "@enduml\r\n",
       "\n",
       "PlantUML version 1.2020.13(Sat Jun 13 12:26:38 UTC 2020)\n",
       "(EPL source distribution)\n",
       "Java Runtime: OpenJDK Runtime Environment\n",
       "JVM: OpenJDK 64-Bit Server VM\n",
       "Default Encoding: UTF-8\n",
       "Language: en\n",
       "Country: null\n",
       "--></g></svg>"
      ]
     },
     "execution_count": 17,
     "metadata": {},
     "output_type": "execute_result"
    }
   ],
   "source": [
    "%viz --style=\"LR\" --view=\"Tree\" \"StateTest\""
   ]
  },
  {
   "cell_type": "code",
   "execution_count": 18,
   "id": "persistent-secondary",
   "metadata": {
    "execution": {
     "iopub.execute_input": "2021-03-26T09:42:45.572784Z",
     "iopub.status.busy": "2021-03-26T09:42:45.572263Z",
     "iopub.status.idle": "2021-03-26T09:42:45.574991Z",
     "shell.execute_reply": "2021-03-26T09:42:45.575381Z"
    }
   },
   "outputs": [
    {
     "data": {
      "text/plain": [
       "java.lang.IllegalArgumentException: Invalid View: State View candidates are: Default Tree StateMachine Interconnection Activity Sequence MIXED \n",
       "\tat org.omg.sysml.plantuml.SysML2PlantUMLSvc.setView(SysML2PlantUMLSvc.java:63)\n",
       "\tat org.omg.sysml.interactive.SysMLInteractive.viz(SysMLInteractive.java:286)\n",
       "\tat org.omg.sysml.jupyter.kernel.magic.Viz.viz(Viz.java:47)\n",
       "\tat jdk.internal.reflect.GeneratedMethodAccessor13.invoke(Unknown Source)\n",
       "\tat java.base/jdk.internal.reflect.DelegatingMethodAccessorImpl.invoke(DelegatingMethodAccessorImpl.java:43)\n",
       "\tat java.base/java.lang.reflect.Method.invoke(Method.java:568)\n",
       "\tat io.github.spencerpark.jupyter.kernel.magic.registry.Magics.invoke(Magics.java:89)\n",
       "\tat io.github.spencerpark.jupyter.kernel.magic.registry.Magics.access$000(Magics.java:8)\n",
       "\tat io.github.spencerpark.jupyter.kernel.magic.registry.Magics$LineReflectionMagicFunction.execute(Magics.java:149)\n",
       "\tat io.github.spencerpark.jupyter.kernel.magic.registry.Magics.applyLineMagic(Magics.java:26)\n",
       "\tat org.omg.sysml.jupyter.kernel.SysMLKernel.eval(SysMLKernel.java:76)\n",
       "\tat io.github.spencerpark.jupyter.kernel.BaseKernel.handleExecuteRequest(BaseKernel.java:334)\n",
       "\tat io.github.spencerpark.jupyter.channels.ShellChannel.lambda$bind$0(ShellChannel.java:64)\n",
       "\tat io.github.spencerpark.jupyter.channels.Loop.lambda$new$0(Loop.java:21)\n",
       "\tat io.github.spencerpark.jupyter.channels.Loop.run(Loop.java:78)\n"
      ]
     },
     "execution_count": 18,
     "metadata": {},
     "output_type": "execute_result"
    }
   ],
   "source": [
    "%viz --style=\"LR\" --view=\"State\" \"StateTest\""
   ]
  },
  {
   "cell_type": "code",
   "execution_count": 19,
   "id": "loving-hybrid",
   "metadata": {
    "execution": {
     "iopub.execute_input": "2021-03-26T09:42:45.628228Z",
     "iopub.status.busy": "2021-03-26T09:42:45.627618Z",
     "iopub.status.idle": "2021-03-26T09:42:45.662667Z",
     "shell.execute_reply": "2021-03-26T09:42:45.662992Z"
    }
   },
   "outputs": [
    {
     "data": {
      "image/svg+xml": [
       "<?xml version=\"1.0\" encoding=\"UTF-8\" standalone=\"no\"?><svg xmlns=\"http://www.w3.org/2000/svg\" xmlns:xlink=\"http://www.w3.org/1999/xlink\" contentScriptType=\"application/ecmascript\" contentStyleType=\"text/css\" height=\"471px\" preserveAspectRatio=\"none\" style=\"width:165px;height:471px;\" version=\"1.1\" viewBox=\"0 0 165 471\" width=\"165px\" zoomAndPan=\"magnify\"><defs/><g><!--MD5=[fbc87193dbaf4d95561dea2c320d4a47]\n",
       "cluster E1--><polygon fill=\"#FFFFFF\" points=\"16,6,98,6,105,28.2969,143,28.2969,143,459,16,459,16,6\" style=\"stroke: #000000; stroke-width: 1.5;\"/><line style=\"stroke: #000000; stroke-width: 1.5;\" x1=\"16\" x2=\"105\" y1=\"28.2969\" y2=\"28.2969\"/><text fill=\"#000000\" font-family=\"sans-serif\" font-size=\"14\" font-weight=\"bold\" lengthAdjust=\"spacingAndGlyphs\" textLength=\"76\" x=\"20\" y=\"20.9951\">StateTest</text><!--MD5=[b4997ac47864f28c2f74865a473b2911]\n",
       "class E2--><rect fill=\"#FFFFFF\" height=\"53.9375\" id=\"E2\" style=\"stroke: #383838; stroke-width: 1.5;\" width=\"95\" x=\"32\" y=\"41\"/><text fill=\"#000000\" font-family=\"sans-serif\" font-size=\"12\" font-style=\"italic\" lengthAdjust=\"spacingAndGlyphs\" textLength=\"93\" x=\"33\" y=\"57.1387\">«attribute def»</text><text fill=\"#000000\" font-family=\"sans-serif\" font-size=\"12\" lengthAdjust=\"spacingAndGlyphs\" textLength=\"19\" x=\"70\" y=\"71.1074\">Sig</text><line style=\"stroke: #383838; stroke-width: 1.5;\" x1=\"33\" x2=\"126\" y1=\"78.9375\" y2=\"78.9375\"/><line style=\"stroke: #383838; stroke-width: 1.5;\" x1=\"33\" x2=\"126\" y1=\"86.9375\" y2=\"86.9375\"/><!--MD5=[09b614a08d8cba4a07c9adeb5e0fee81]\n",
       "class E3--><rect fill=\"#FFFFFF\" height=\"53.9375\" id=\"E3\" style=\"stroke: #383838; stroke-width: 1.5;\" width=\"95\" x=\"32\" y=\"130\"/><text fill=\"#000000\" font-family=\"sans-serif\" font-size=\"12\" font-style=\"italic\" lengthAdjust=\"spacingAndGlyphs\" textLength=\"93\" x=\"33\" y=\"146.1387\">«attribute def»</text><text fill=\"#000000\" font-family=\"sans-serif\" font-size=\"12\" lengthAdjust=\"spacingAndGlyphs\" textLength=\"22\" x=\"68.5\" y=\"160.1074\">Exit</text><line style=\"stroke: #383838; stroke-width: 1.5;\" x1=\"33\" x2=\"126\" y1=\"167.9375\" y2=\"167.9375\"/><line style=\"stroke: #383838; stroke-width: 1.5;\" x1=\"33\" x2=\"126\" y1=\"175.9375\" y2=\"175.9375\"/><!--MD5=[60a26617385b1d2d0262a64233df1f8d]\n",
       "class E6--><rect fill=\"#FFFFFF\" height=\"53.9375\" id=\"E6\" style=\"stroke: #383838; stroke-width: 1.5;\" width=\"73\" x=\"43\" y=\"219\"/><text fill=\"#000000\" font-family=\"sans-serif\" font-size=\"12\" font-style=\"italic\" lengthAdjust=\"spacingAndGlyphs\" textLength=\"71\" x=\"44\" y=\"235.1387\">«state def»</text><text fill=\"#000000\" font-family=\"sans-serif\" font-size=\"12\" lengthAdjust=\"spacingAndGlyphs\" textLength=\"8\" x=\"75.5\" y=\"249.1074\">S</text><line style=\"stroke: #383838; stroke-width: 1.5;\" x1=\"44\" x2=\"115\" y1=\"256.9375\" y2=\"256.9375\"/><line style=\"stroke: #383838; stroke-width: 1.5;\" x1=\"44\" x2=\"115\" y1=\"264.9375\" y2=\"264.9375\"/><g id=\"E1.E4\"><rect fill=\"#FFFFFF\" height=\"50\" rx=\"12.5\" ry=\"12.5\" style=\"stroke: #383838; stroke-width: 1.5;\" width=\"65\" x=\"47\" y=\"308\"/><line style=\"stroke: #383838; stroke-width: 1.5;\" x1=\"47\" x2=\"112\" y1=\"334.2969\" y2=\"334.2969\"/><text fill=\"#000000\" font-family=\"sans-serif\" font-size=\"14\" lengthAdjust=\"spacingAndGlyphs\" textLength=\"45\" x=\"57\" y=\"325.9951\">p: Part</text></g><g id=\"E1.E5\"><rect fill=\"#FFFFFF\" height=\"50\" rx=\"12.5\" ry=\"12.5\" style=\"stroke: #383838; stroke-width: 1.5;\" width=\"93\" x=\"33\" y=\"393\"/><line style=\"stroke: #383838; stroke-width: 1.5;\" x1=\"33\" x2=\"126\" y1=\"419.2969\" y2=\"419.2969\"/><text fill=\"#000000\" font-family=\"sans-serif\" font-size=\"14\" lengthAdjust=\"spacingAndGlyphs\" textLength=\"73\" x=\"43\" y=\"410.9951\">act: Action</text></g><!--MD5=[8d9aff2ad69d0e07094f445d99804e2c]\n",
       "@startuml\r\n",
       "skinparam ranksep 8\r\n",
       "skinparam rectangle {\r\n",
       " backgroundColor<<block>> LightGreen\r\n",
       "}\r\n",
       "left to right direction\r\n",
       "skinparam monochrome true\r\n",
       "skinparam classbackgroundcolor white\r\n",
       "skinparam shadowing false\r\n",
       "skinparam wrapWidth 300\r\n",
       "hide circle\r\n",
       "\r\n",
       "package \"StateTest\" as E1   {\r\n",
       "def \"Sig\" as E2  <<attribute def>> \r\n",
       "def \"Exit\" as E3  <<attribute def>> \r\n",
       "rec usage \"p: Part\" as E4  {\r\n",
       "}\r\n",
       "rec usage \"act: Action\" as E5  <<action>> {\r\n",
       "}\r\n",
       "def \"S\" as E6  <<state def>> \r\n",
       "}\r\n",
       "@enduml\r\n",
       "\n",
       "PlantUML version 1.2020.13(Sat Jun 13 12:26:38 UTC 2020)\n",
       "(EPL source distribution)\n",
       "Java Runtime: OpenJDK Runtime Environment\n",
       "JVM: OpenJDK 64-Bit Server VM\n",
       "Default Encoding: UTF-8\n",
       "Language: en\n",
       "Country: null\n",
       "--></g></svg>"
      ]
     },
     "execution_count": 19,
     "metadata": {},
     "output_type": "execute_result"
    }
   ],
   "source": [
    "%viz --style=\"LR\" --view=\"Interconnection\" \"StateTest\""
   ]
  },
  {
   "cell_type": "code",
   "execution_count": 20,
   "id": "coupled-layer",
   "metadata": {
    "execution": {
     "iopub.execute_input": "2021-03-26T09:42:45.715304Z",
     "iopub.status.busy": "2021-03-26T09:42:45.714623Z",
     "iopub.status.idle": "2021-03-26T09:42:45.719792Z",
     "shell.execute_reply": "2021-03-26T09:42:45.719429Z"
    }
   },
   "outputs": [
    {
     "data": {
      "text/plain": [
       "java.lang.IllegalArgumentException: Invalid View: Action View candidates are: Default Tree StateMachine Interconnection Activity Sequence MIXED \n",
       "\tat org.omg.sysml.plantuml.SysML2PlantUMLSvc.setView(SysML2PlantUMLSvc.java:63)\n",
       "\tat org.omg.sysml.interactive.SysMLInteractive.viz(SysMLInteractive.java:286)\n",
       "\tat org.omg.sysml.jupyter.kernel.magic.Viz.viz(Viz.java:47)\n",
       "\tat jdk.internal.reflect.GeneratedMethodAccessor13.invoke(Unknown Source)\n",
       "\tat java.base/jdk.internal.reflect.DelegatingMethodAccessorImpl.invoke(DelegatingMethodAccessorImpl.java:43)\n",
       "\tat java.base/java.lang.reflect.Method.invoke(Method.java:568)\n",
       "\tat io.github.spencerpark.jupyter.kernel.magic.registry.Magics.invoke(Magics.java:89)\n",
       "\tat io.github.spencerpark.jupyter.kernel.magic.registry.Magics.access$000(Magics.java:8)\n",
       "\tat io.github.spencerpark.jupyter.kernel.magic.registry.Magics$LineReflectionMagicFunction.execute(Magics.java:149)\n",
       "\tat io.github.spencerpark.jupyter.kernel.magic.registry.Magics.applyLineMagic(Magics.java:26)\n",
       "\tat org.omg.sysml.jupyter.kernel.SysMLKernel.eval(SysMLKernel.java:76)\n",
       "\tat io.github.spencerpark.jupyter.kernel.BaseKernel.handleExecuteRequest(BaseKernel.java:334)\n",
       "\tat io.github.spencerpark.jupyter.channels.ShellChannel.lambda$bind$0(ShellChannel.java:64)\n",
       "\tat io.github.spencerpark.jupyter.channels.Loop.lambda$new$0(Loop.java:21)\n",
       "\tat io.github.spencerpark.jupyter.channels.Loop.run(Loop.java:78)\n"
      ]
     },
     "execution_count": 20,
     "metadata": {},
     "output_type": "execute_result"
    }
   ],
   "source": [
    "%viz --style=\"LR\" --view=\"Action\" \"StateTest\""
   ]
  },
  {
   "cell_type": "code",
   "execution_count": 21,
   "id": "hispanic-denver",
   "metadata": {
    "execution": {
     "iopub.execute_input": "2021-03-26T09:42:45.771590Z",
     "iopub.status.busy": "2021-03-26T09:42:45.771035Z",
     "iopub.status.idle": "2021-03-26T09:42:45.963823Z",
     "shell.execute_reply": "2021-03-26T09:42:45.962386Z"
    }
   },
   "outputs": [
    {
     "data": {
      "image/svg+xml": [
       "<?xml version=\"1.0\" encoding=\"UTF-8\" standalone=\"no\"?><svg xmlns=\"http://www.w3.org/2000/svg\" xmlns:xlink=\"http://www.w3.org/1999/xlink\" contentScriptType=\"application/ecmascript\" contentStyleType=\"text/css\" height=\"607px\" preserveAspectRatio=\"none\" style=\"width:549px;height:607px;\" version=\"1.1\" viewBox=\"0 0 549 607\" width=\"549px\" zoomAndPan=\"magnify\"><defs/><g><!--MD5=[fbc87193dbaf4d95561dea2c320d4a47]\n",
       "cluster E1--><polygon fill=\"#FFFFFF\" points=\"16,6,98,6,105,28.2969,527,28.2969,527,595,16,595,16,6\" style=\"stroke: #000000; stroke-width: 1.5;\"/><line style=\"stroke: #000000; stroke-width: 1.5;\" x1=\"16\" x2=\"105\" y1=\"28.2969\" y2=\"28.2969\"/><text fill=\"#000000\" font-family=\"sans-serif\" font-size=\"14\" font-weight=\"bold\" lengthAdjust=\"spacingAndGlyphs\" textLength=\"76\" x=\"20\" y=\"20.9951\">StateTest</text><!--MD5=[b4997ac47864f28c2f74865a473b2911]\n",
       "class E2--><rect fill=\"#FFFFFF\" height=\"58.7422\" id=\"E2\" style=\"stroke: #383838; stroke-width: 1.5;\" width=\"95\" x=\"52\" y=\"41.5\"/><text fill=\"#000000\" font-family=\"sans-serif\" font-size=\"12\" font-style=\"italic\" lengthAdjust=\"spacingAndGlyphs\" textLength=\"93\" x=\"53\" y=\"57.6387\">«attribute def»</text><text fill=\"#000000\" font-family=\"sans-serif\" font-size=\"12\" lengthAdjust=\"spacingAndGlyphs\" textLength=\"19\" x=\"90\" y=\"71.6074\">Sig</text><line style=\"stroke: #383838; stroke-width: 1.5;\" x1=\"53\" x2=\"146\" y1=\"79.4375\" y2=\"79.4375\"/><text fill=\"#000000\" font-family=\"sans-serif\" font-size=\"11\" lengthAdjust=\"spacingAndGlyphs\" textLength=\"71\" x=\"58\" y=\"93.6479\">x: DataValue</text><!--MD5=[09b614a08d8cba4a07c9adeb5e0fee81]\n",
       "class E3--><rect fill=\"#FFFFFF\" height=\"45.9375\" id=\"E3\" style=\"stroke: #383838; stroke-width: 1.5;\" width=\"95\" x=\"52\" y=\"136\"/><text fill=\"#000000\" font-family=\"sans-serif\" font-size=\"12\" font-style=\"italic\" lengthAdjust=\"spacingAndGlyphs\" textLength=\"93\" x=\"53\" y=\"152.1387\">«attribute def»</text><text fill=\"#000000\" font-family=\"sans-serif\" font-size=\"12\" lengthAdjust=\"spacingAndGlyphs\" textLength=\"22\" x=\"88.5\" y=\"166.1074\">Exit</text><line style=\"stroke: #383838; stroke-width: 1.5;\" x1=\"53\" x2=\"146\" y1=\"173.9375\" y2=\"173.9375\"/><!--MD5=[ebbe1d658d1005bcc118a6aa81145e00]\n",
       "class E4--><rect fill=\"#FFFFFF\" height=\"45.9375\" id=\"E4\" rx=\"10\" ry=\"10\" style=\"stroke: #383838; stroke-width: 1.5;\" width=\"48\" x=\"75.5\" y=\"217\"/><text fill=\"#000000\" font-family=\"sans-serif\" font-size=\"12\" font-style=\"italic\" lengthAdjust=\"spacingAndGlyphs\" textLength=\"40\" x=\"79.5\" y=\"233.1387\">«part»</text><text fill=\"#000000\" font-family=\"sans-serif\" font-size=\"12\" lengthAdjust=\"spacingAndGlyphs\" textLength=\"42\" x=\"78.5\" y=\"247.1074\">p: Part</text><line style=\"stroke: #383838; stroke-width: 1.5;\" x1=\"76.5\" x2=\"122.5\" y1=\"254.9375\" y2=\"254.9375\"/><!--MD5=[270fce915f116d4de14055a7c1d9a0f3]\n",
       "class E5--><rect fill=\"#FFFFFF\" height=\"45.9375\" id=\"E5\" rx=\"10\" ry=\"10\" style=\"stroke: #383838; stroke-width: 1.5;\" width=\"73\" x=\"63\" y=\"298\"/><text fill=\"#000000\" font-family=\"sans-serif\" font-size=\"12\" font-style=\"italic\" lengthAdjust=\"spacingAndGlyphs\" textLength=\"53\" x=\"73\" y=\"314.1387\">«action»</text><text fill=\"#000000\" font-family=\"sans-serif\" font-size=\"12\" lengthAdjust=\"spacingAndGlyphs\" textLength=\"67\" x=\"66\" y=\"328.1074\">act: Action</text><line style=\"stroke: #383838; stroke-width: 1.5;\" x1=\"64\" x2=\"135\" y1=\"335.9375\" y2=\"335.9375\"/><!--MD5=[60a26617385b1d2d0262a64233df1f8d]\n",
       "class E6--><rect fill=\"#FFFFFF\" height=\"198.7891\" id=\"E6\" style=\"stroke: #383838; stroke-width: 1.5;\" width=\"135\" x=\"32\" y=\"379.5\"/><text fill=\"#000000\" font-family=\"sans-serif\" font-size=\"12\" font-style=\"italic\" lengthAdjust=\"spacingAndGlyphs\" textLength=\"71\" x=\"64\" y=\"395.6387\">«state def»</text><text fill=\"#000000\" font-family=\"sans-serif\" font-size=\"12\" lengthAdjust=\"spacingAndGlyphs\" textLength=\"8\" x=\"95.5\" y=\"409.6074\">S</text><line style=\"stroke: #383838; stroke-width: 1.5;\" x1=\"33\" x2=\"166\" y1=\"417.4375\" y2=\"417.4375\"/><text fill=\"#000000\" font-family=\"sans-serif\" font-size=\"11\" lengthAdjust=\"spacingAndGlyphs\" textLength=\"59\" x=\"38\" y=\"448.4526\">act: Action</text><text fill=\"#000000\" font-family=\"sans-serif\" font-size=\"11\" font-style=\"italic\" lengthAdjust=\"spacingAndGlyphs\" textLength=\"114\" x=\"38\" y=\"461.2573\">:&gt;&gt;State::exitAction</text><text fill=\"#000000\" font-family=\"sans-serif\" font-size=\"11\" lengthAdjust=\"spacingAndGlyphs\" textLength=\"88\" x=\"38\" y=\"474.062\">A: Performance</text><text fill=\"#000000\" font-family=\"sans-serif\" font-size=\"11\" font-style=\"italic\" lengthAdjust=\"spacingAndGlyphs\" textLength=\"123\" x=\"38\" y=\"486.8667\">:&gt;&gt;State::entryAction</text><text fill=\"#000000\" font-family=\"sans-serif\" font-size=\"11\" lengthAdjust=\"spacingAndGlyphs\" textLength=\"50\" x=\"38\" y=\"499.6714\">B: Action</text><text fill=\"#000000\" font-family=\"sans-serif\" font-size=\"11\" font-style=\"italic\" lengthAdjust=\"spacingAndGlyphs\" textLength=\"108\" x=\"38\" y=\"512.4761\">:&gt;&gt;State::doAction</text><line style=\"stroke: #383838; stroke-width: 1.0;\" x1=\"33\" x2=\"56\" y1=\"431.8398\" y2=\"431.8398\"/><text fill=\"#000000\" font-family=\"sans-serif\" font-size=\"11\" lengthAdjust=\"spacingAndGlyphs\" textLength=\"87\" x=\"56\" y=\"435.1479\">performActions</text><line style=\"stroke: #383838; stroke-width: 1.0;\" x1=\"143\" x2=\"166\" y1=\"431.8398\" y2=\"431.8398\"/><text fill=\"#000000\" font-family=\"sans-serif\" font-size=\"11\" lengthAdjust=\"spacingAndGlyphs\" textLength=\"53\" x=\"38\" y=\"542.0854\">S1: State</text><line style=\"stroke: #383838; stroke-width: 1.0;\" x1=\"33\" x2=\"81.5\" y1=\"525.4727\" y2=\"525.4727\"/><text fill=\"#000000\" font-family=\"sans-serif\" font-size=\"11\" lengthAdjust=\"spacingAndGlyphs\" textLength=\"36\" x=\"81.5\" y=\"528.7808\">states</text><line style=\"stroke: #383838; stroke-width: 1.0;\" x1=\"117.5\" x2=\"166\" y1=\"525.4727\" y2=\"525.4727\"/><text fill=\"#000000\" font-family=\"sans-serif\" font-size=\"11\" lengthAdjust=\"spacingAndGlyphs\" textLength=\"72\" x=\"38\" y=\"571.6948\">T: Transition</text><line style=\"stroke: #383838; stroke-width: 1.0;\" x1=\"33\" x2=\"69\" y1=\"555.082\" y2=\"555.082\"/><text fill=\"#000000\" font-family=\"sans-serif\" font-size=\"11\" lengthAdjust=\"spacingAndGlyphs\" textLength=\"61\" x=\"69\" y=\"558.3901\">transitions</text><line style=\"stroke: #383838; stroke-width: 1.0;\" x1=\"130\" x2=\"166\" y1=\"555.082\" y2=\"555.082\"/><!--MD5=[1dd1bfd58a279cf63c5f349dbc8fc6a1]\n",
       "class E11--><rect fill=\"#FFFFFF\" height=\"45.9375\" id=\"E11\" rx=\"10\" ry=\"10\" style=\"stroke: #383838; stroke-width: 1.5;\" width=\"64\" x=\"227\" y=\"456\"/><text fill=\"#000000\" font-family=\"sans-serif\" font-size=\"12\" font-style=\"italic\" lengthAdjust=\"spacingAndGlyphs\" textLength=\"47\" x=\"235.5\" y=\"472.1387\">«state»</text><text fill=\"#000000\" font-family=\"sans-serif\" font-size=\"12\" lengthAdjust=\"spacingAndGlyphs\" textLength=\"58\" x=\"230\" y=\"486.1074\">S2: State</text><line style=\"stroke: #383838; stroke-width: 1.5;\" x1=\"228\" x2=\"290\" y1=\"493.9375\" y2=\"493.9375\"/><!--MD5=[49a0ec8f00dab7302a31f22d0f0fe584]\n",
       "class E12--><rect fill=\"#FFFFFF\" height=\"88.3516\" id=\"E12\" rx=\"10\" ry=\"10\" style=\"stroke: #383838; stroke-width: 1.5;\" width=\"160\" x=\"351\" y=\"435\"/><text fill=\"#000000\" font-family=\"sans-serif\" font-size=\"12\" font-style=\"italic\" lengthAdjust=\"spacingAndGlyphs\" textLength=\"84\" x=\"389\" y=\"451.1387\">«sendAction»</text><text fill=\"#000000\" font-family=\"sans-serif\" font-size=\"12\" lengthAdjust=\"spacingAndGlyphs\" textLength=\"154\" x=\"354\" y=\"465.1074\">doAction: TransferAction</text><line style=\"stroke: #383838; stroke-width: 1.5;\" x1=\"352\" x2=\"510\" y1=\"472.9375\" y2=\"472.9375\"/><text fill=\"#000000\" font-family=\"sans-serif\" font-size=\"11\" lengthAdjust=\"spacingAndGlyphs\" textLength=\"81\" x=\"357\" y=\"503.9526\">item: Anything</text><text fill=\"#000000\" font-family=\"sans-serif\" font-size=\"11\" font-style=\"italic\" lengthAdjust=\"spacingAndGlyphs\" textLength=\"104\" x=\"357\" y=\"516.7573\">:&gt;&gt;Transfer::item</text><line style=\"stroke: #383838; stroke-width: 1.0;\" x1=\"352\" x2=\"393.5\" y1=\"487.3398\" y2=\"487.3398\"/><text fill=\"#000000\" font-family=\"sans-serif\" font-size=\"11\" lengthAdjust=\"spacingAndGlyphs\" textLength=\"75\" x=\"393.5\" y=\"490.6479\">itemFeatures</text><line style=\"stroke: #383838; stroke-width: 1.0;\" x1=\"468.5\" x2=\"510\" y1=\"487.3398\" y2=\"487.3398\"/><!--MD5=[1f5f03483f7de0d5b3680a7f6650997f]\n",
       "reverse link E6 to E11--><path d=\"M180.44,479 C196.88,479 213.26,479 226.69,479 \" fill=\"none\" id=\"E6&lt;-E11\" style=\"stroke: #383838; stroke-width: 1.0;\"/><polygon fill=\"#383838\" points=\"167.29,479,173.29,483,179.29,479,173.29,475,167.29,479\" style=\"stroke: #383838; stroke-width: 1.0;\"/><!--MD5=[94adabc162ce7e41b39f13be14fbaeb3]\n",
       "reverse link E11 to E12--><path d=\"M304.21,479 C318.52,479 334.86,479 350.91,479 \" fill=\"none\" id=\"E11&lt;-E12\" style=\"stroke: #383838; stroke-width: 1.0;\"/><polygon fill=\"#FFFFFF\" points=\"291.18,479,297.18,483,303.18,479,297.18,475,291.18,479\" style=\"stroke: #383838; stroke-width: 1.0;\"/><!--MD5=[7dc87b3d2c58f2a04fb10f58619c0e7d]\n",
       "@startuml\r\n",
       "left to right direction\r\n",
       "skinparam monochrome true\r\n",
       "skinparam classbackgroundcolor white\r\n",
       "skinparam shadowing false\r\n",
       "skinparam wrapWidth 300\r\n",
       "hide circle\r\n",
       "\r\n",
       "package \"StateTest\" as E1   {\r\n",
       "comp def \"Sig\" as E2  <<(T,blue)attribute def>> {\r\n",
       "x: DataValue\r\n",
       "}\r\n",
       "comp def \"Exit\" as E3  <<(T,blue)attribute def>> {\r\n",
       "}\r\n",
       "comp usage \"p: Part\" as E4  <<(T,blue)part>> {\r\n",
       "}\r\n",
       "comp usage \"act: Action\" as E5  <<(T,blue)action>> {\r\n",
       "}\r\n",
       "comp def \"S\" as E6  <<(T,blue)state def>> {\r\n",
       "- -performActions- -\r\n",
       "act: Action\\n//:>>State::exitAction// \r\n",
       "A: Performance\\n//:>>State::entryAction// \r\n",
       "B: Action\\n//:>>State::doAction// \r\n",
       "- -states- -\r\n",
       "S1: State\r\n",
       "- -transitions- -\r\n",
       "T: Transition\r\n",
       "}\r\n",
       "comp usage \"S2: State\" as E11  <<(T,blue)state>> {\r\n",
       "}\r\n",
       "comp usage \"doAction: TransferAction\" as E12  <<(T,blue)sendAction>> {\r\n",
       "- -itemFeatures- -\r\n",
       "item: Anything\\n//:>>Transfer::item// \r\n",
       "}\r\n",
       "E6 *- - E11\r\n",
       "E11 o- - E12\r\n",
       "}\r\n",
       "@enduml\r\n",
       "\n",
       "PlantUML version 1.2020.13(Sat Jun 13 12:26:38 UTC 2020)\n",
       "(EPL source distribution)\n",
       "Java Runtime: OpenJDK Runtime Environment\n",
       "JVM: OpenJDK 64-Bit Server VM\n",
       "Default Encoding: UTF-8\n",
       "Language: en\n",
       "Country: null\n",
       "--></g></svg>"
      ]
     },
     "execution_count": 21,
     "metadata": {},
     "output_type": "execute_result"
    }
   ],
   "source": [
    "%viz --style=\"LR\" --view=\"Sequence\" \"StateTest\""
   ]
  },
  {
   "cell_type": "code",
   "execution_count": 22,
   "id": "positive-titanium",
   "metadata": {
    "execution": {
     "iopub.execute_input": "2021-03-26T09:42:46.016178Z",
     "iopub.status.busy": "2021-03-26T09:42:46.015363Z",
     "iopub.status.idle": "2021-03-26T09:42:46.056962Z",
     "shell.execute_reply": "2021-03-26T09:42:46.055754Z"
    }
   },
   "outputs": [
    {
     "data": {
      "image/svg+xml": [
       "<?xml version=\"1.0\" encoding=\"UTF-8\" standalone=\"no\"?><svg xmlns=\"http://www.w3.org/2000/svg\" xmlns:xlink=\"http://www.w3.org/1999/xlink\" contentScriptType=\"application/ecmascript\" contentStyleType=\"text/css\" height=\"607px\" preserveAspectRatio=\"none\" style=\"width:744px;height:607px;\" version=\"1.1\" viewBox=\"0 0 744 607\" width=\"744px\" zoomAndPan=\"magnify\"><defs/><g><!--MD5=[fbc87193dbaf4d95561dea2c320d4a47]\n",
       "cluster E1--><polygon fill=\"#FFFFFF\" points=\"16,6,98,6,105,28.2969,722,28.2969,722,595,16,595,16,6\" style=\"stroke: #000000; stroke-width: 1.5;\"/><line style=\"stroke: #000000; stroke-width: 1.5;\" x1=\"16\" x2=\"105\" y1=\"28.2969\" y2=\"28.2969\"/><text fill=\"#000000\" font-family=\"sans-serif\" font-size=\"14\" font-weight=\"bold\" lengthAdjust=\"spacingAndGlyphs\" textLength=\"76\" x=\"20\" y=\"20.9951\">StateTest</text><!--MD5=[14e3b0961a2654348d326746436168a1]\n",
       "cluster E6--><rect fill=\"#FFFFFF\" height=\"207\" style=\"stroke: #000000; stroke-width: 1.5;\" width=\"644.5\" x=\"53.5\" y=\"49\"/><text fill=\"#000000\" font-family=\"sans-serif\" font-size=\"14\" font-weight=\"bold\" lengthAdjust=\"spacingAndGlyphs\" textLength=\"10\" x=\"370.75\" y=\"63.9951\">S</text><!--MD5=[b4997ac47864f28c2f74865a473b2911]\n",
       "class E2--><rect fill=\"#FFFFFF\" height=\"58.7422\" id=\"E2\" style=\"stroke: #383838; stroke-width: 1.5;\" width=\"95\" x=\"32\" y=\"272.5\"/><text fill=\"#000000\" font-family=\"sans-serif\" font-size=\"12\" font-style=\"italic\" lengthAdjust=\"spacingAndGlyphs\" textLength=\"93\" x=\"33\" y=\"288.6387\">«attribute def»</text><text fill=\"#000000\" font-family=\"sans-serif\" font-size=\"12\" lengthAdjust=\"spacingAndGlyphs\" textLength=\"19\" x=\"70\" y=\"302.6074\">Sig</text><line style=\"stroke: #383838; stroke-width: 1.5;\" x1=\"33\" x2=\"126\" y1=\"310.4375\" y2=\"310.4375\"/><text fill=\"#000000\" font-family=\"sans-serif\" font-size=\"11\" lengthAdjust=\"spacingAndGlyphs\" textLength=\"71\" x=\"38\" y=\"324.6479\">x: DataValue</text><!--MD5=[09b614a08d8cba4a07c9adeb5e0fee81]\n",
       "class E3--><rect fill=\"#FFFFFF\" height=\"45.9375\" id=\"E3\" style=\"stroke: #383838; stroke-width: 1.5;\" width=\"95\" x=\"32\" y=\"367\"/><text fill=\"#000000\" font-family=\"sans-serif\" font-size=\"12\" font-style=\"italic\" lengthAdjust=\"spacingAndGlyphs\" textLength=\"93\" x=\"33\" y=\"383.1387\">«attribute def»</text><text fill=\"#000000\" font-family=\"sans-serif\" font-size=\"12\" lengthAdjust=\"spacingAndGlyphs\" textLength=\"22\" x=\"68.5\" y=\"397.1074\">Exit</text><line style=\"stroke: #383838; stroke-width: 1.5;\" x1=\"33\" x2=\"126\" y1=\"404.9375\" y2=\"404.9375\"/><!--MD5=[ebbe1d658d1005bcc118a6aa81145e00]\n",
       "class E4--><rect fill=\"#FFFFFF\" height=\"45.9375\" id=\"E4\" rx=\"10\" ry=\"10\" style=\"stroke: #383838; stroke-width: 1.5;\" width=\"48\" x=\"55.5\" y=\"448\"/><text fill=\"#000000\" font-family=\"sans-serif\" font-size=\"12\" font-style=\"italic\" lengthAdjust=\"spacingAndGlyphs\" textLength=\"40\" x=\"59.5\" y=\"464.1387\">«part»</text><text fill=\"#000000\" font-family=\"sans-serif\" font-size=\"12\" lengthAdjust=\"spacingAndGlyphs\" textLength=\"42\" x=\"58.5\" y=\"478.1074\">p: Part</text><line style=\"stroke: #383838; stroke-width: 1.5;\" x1=\"56.5\" x2=\"102.5\" y1=\"485.9375\" y2=\"485.9375\"/><g id=\"E1.E5\"><rect fill=\"#FFFFFF\" height=\"50\" rx=\"12.5\" ry=\"12.5\" style=\"stroke: #383838; stroke-width: 1.5;\" width=\"50\" x=\"54.5\" y=\"529\"/><line style=\"stroke: #383838; stroke-width: 1.5;\" x1=\"54.5\" x2=\"104.5\" y1=\"555.2969\" y2=\"555.2969\"/><text fill=\"#000000\" font-family=\"sans-serif\" font-size=\"14\" lengthAdjust=\"spacingAndGlyphs\" textLength=\"21\" x=\"69\" y=\"546.9951\">act</text></g><ellipse cx=\"79.5\" cy=\"181\" fill=\"#000000\" rx=\"10\" ry=\"10\" style=\"stroke: none; stroke-width: 1.0;\"/><ellipse cx=\"672\" cy=\"181\" fill=\"none\" rx=\"10\" ry=\"10\" style=\"stroke: #000000; stroke-width: 1.0;\"/><ellipse cx=\"672.5\" cy=\"181.5\" fill=\"#000000\" rx=\"6\" ry=\"6\" style=\"stroke: none; stroke-width: 1.0;\"/><g id=\"E1.E6.E7\"><rect fill=\"#FFFFFF\" height=\"50\" rx=\"12.5\" ry=\"12.5\" style=\"stroke: #383838; stroke-width: 1.5;\" width=\"50\" x=\"188\" y=\"156\"/><line style=\"stroke: #383838; stroke-width: 1.5;\" x1=\"188\" x2=\"238\" y1=\"182.2969\" y2=\"182.2969\"/><text fill=\"#000000\" font-family=\"sans-serif\" font-size=\"14\" lengthAdjust=\"spacingAndGlyphs\" textLength=\"18\" x=\"204\" y=\"173.9951\">S1</text></g><g id=\"E1.E6.E8\"><rect fill=\"#FFFFFF\" height=\"50.2656\" rx=\"12.5\" ry=\"12.5\" style=\"stroke: #383838; stroke-width: 1.5;\" width=\"142\" x=\"435\" y=\"156\"/><line style=\"stroke: #383838; stroke-width: 1.5;\" x1=\"435\" x2=\"577\" y1=\"182.2969\" y2=\"182.2969\"/><text fill=\"#000000\" font-family=\"sans-serif\" font-size=\"14\" lengthAdjust=\"spacingAndGlyphs\" textLength=\"18\" x=\"497\" y=\"173.9951\">S2</text><text fill=\"#000000\" font-family=\"sans-serif\" font-size=\"12\" font-weight=\"bold\" lengthAdjust=\"spacingAndGlyphs\" textLength=\"18\" x=\"440\" y=\"198.4355\">do</text><text fill=\"#000000\" font-family=\"sans-serif\" font-size=\"12\" lengthAdjust=\"spacingAndGlyphs\" textLength=\"104\" x=\"458\" y=\"198.4355\">/ transferActions</text></g><!--MD5=[5a531d3a85f3339e6e197084acb48195]\n",
       "link *start*E6 to E7--><path d=\"M89.54,181 C108.46,181 152.97,181 182.78,181 \" fill=\"none\" id=\"*start*E6-&gt;E7\" style=\"stroke: #383838; stroke-width: 1.0;\"/><polygon fill=\"#383838\" points=\"187.8,181,178.8,177,182.8,181,178.8,185,187.8,181\" style=\"stroke: #383838; stroke-width: 1.0;\"/><!--MD5=[7ec9a8babba89ddcae1318ca9fb3c814]\n",
       "link E8 to *end*E6--><path d=\"M577.03,181 C606.85,181 638.83,181 656.74,181 \" fill=\"none\" id=\"E8-&gt;*end*E6\" style=\"stroke: #383838; stroke-width: 1.0;\"/><polygon fill=\"#383838\" points=\"661.82,181,652.82,177,656.82,181,652.82,185,661.82,181\" style=\"stroke: #383838; stroke-width: 1.0;\"/><text fill=\"#000000\" font-family=\"sans-serif\" font-size=\"13\" lengthAdjust=\"spacingAndGlyphs\" textLength=\"23\" x=\"608\" y=\"177.0669\">Exit</text><!--MD5=[79bc8f324ef4d02c541433f2e6e513c3]\n",
       "link E7 to E8--><path d=\"M238.09,196.03 C247.12,200.85 257.7,205.57 268,208 C327.26,221.99 344.64,216.01 405,208 C413.12,206.92 421.52,205.37 429.83,203.56 \" fill=\"none\" id=\"E7-&gt;E8\" style=\"stroke: #383838; stroke-width: 1.0;\"/><polygon fill=\"#383838\" points=\"435,202.39,425.3412,200.4645,430.1221,203.4882,427.0984,208.2691,435,202.39\" style=\"stroke: #383838; stroke-width: 1.0;\"/><text fill=\"#000000\" font-family=\"sans-serif\" font-size=\"13\" lengthAdjust=\"spacingAndGlyphs\" textLength=\"81\" x=\"296\" y=\"204.0669\">Sig /action D</text><!--MD5=[bfa3c8b0d15052fdf50ae9310b491027]\n",
       "link E8 to E7--><path d=\"M434.83,181 C373.7,181 288.07,181 243.53,181 \" fill=\"none\" id=\"E8-&gt;E7\" style=\"stroke: #383838; stroke-width: 1.0;\"/><polygon fill=\"#383838\" points=\"238.31,181,247.31,185,243.31,181,247.31,177,238.31,181\" style=\"stroke: #383838; stroke-width: 1.0;\"/><text fill=\"#000000\" font-family=\"sans-serif\" font-size=\"13\" lengthAdjust=\"spacingAndGlyphs\" textLength=\"135\" x=\"269\" y=\"177.0669\">Sig [true]/send s to p</text><!--MD5=[1809aab7a142b9da4265e0856357b704]\n",
       "@startuml\r\n",
       "left to right direction\r\n",
       "skinparam monochrome true\r\n",
       "skinparam classbackgroundcolor white\r\n",
       "skinparam shadowing false\r\n",
       "skinparam wrapWidth 300\r\n",
       "hide circle\r\n",
       "\r\n",
       "package \"StateTest\" as E1   {\r\n",
       "comp def \"Sig\" as E2  <<(T,blue)attribute def>> {\r\n",
       "x: DataValue\r\n",
       "}\r\n",
       "comp def \"Exit\" as E3  <<(T,blue)attribute def>> {\r\n",
       "}\r\n",
       "comp usage \"p: Part\" as E4  <<(T,blue)part>> {\r\n",
       "}\r\n",
       "rec usage \"act\" as E5 {\r\n",
       "}\r\n",
       "\r\n",
       "rec def \"S\" as E6 {\r\n",
       "rec usage \"S1\" as E7 {\r\n",
       "}\r\n",
       "\r\n",
       "rec usage \"S2\" as E8 {\r\n",
       "desc \"S2\" as E8  : **do**/ transferActions \r\n",
       "}\r\n",
       "\r\n",
       "[*] - -> E7\r\n",
       "E8  - -> [*] : Exit \r\n",
       "desc \"S\" as E6  : **entry**/ A\r\n",
       "desc \"S\" as E6  : **do**/ B\r\n",
       "desc \"S\" as E6  : **exit**/ act \r\n",
       "}\r\n",
       "\r\n",
       "E7  - -> E8 : Sig /action D\r\n",
       "E8  - -> E7 : Sig [true]/send s to p\r\n",
       "}\r\n",
       "@enduml\r\n",
       "\n",
       "PlantUML version 1.2020.13(Sat Jun 13 12:26:38 UTC 2020)\n",
       "(EPL source distribution)\n",
       "Java Runtime: OpenJDK Runtime Environment\n",
       "JVM: OpenJDK 64-Bit Server VM\n",
       "Default Encoding: UTF-8\n",
       "Language: en\n",
       "Country: null\n",
       "--></g></svg>"
      ]
     },
     "execution_count": 22,
     "metadata": {},
     "output_type": "execute_result"
    }
   ],
   "source": [
    "%viz --style=\"LR\" --view=\"MIXED\" \"StateTest\""
   ]
  },
  {
   "cell_type": "code",
   "execution_count": 23,
   "id": "opening-mustang",
   "metadata": {
    "execution": {
     "iopub.execute_input": "2021-03-26T09:42:46.107159Z",
     "iopub.status.busy": "2021-03-26T09:42:46.106758Z",
     "iopub.status.idle": "2021-03-26T09:42:46.148000Z",
     "shell.execute_reply": "2021-03-26T09:42:46.148343Z"
    }
   },
   "outputs": [
    {
     "data": {
      "image/svg+xml": [
       "<?xml version=\"1.0\" encoding=\"UTF-8\" standalone=\"no\"?><svg xmlns=\"http://www.w3.org/2000/svg\" xmlns:xlink=\"http://www.w3.org/1999/xlink\" contentScriptType=\"application/ecmascript\" contentStyleType=\"text/css\" height=\"557px\" preserveAspectRatio=\"none\" style=\"width:815px;height:557px;\" version=\"1.1\" viewBox=\"0 0 815 557\" width=\"815px\" zoomAndPan=\"magnify\"><defs><filter height=\"300%\" id=\"f1ishnq1qcdwlz\" width=\"300%\" x=\"-1\" y=\"-1\"><feGaussianBlur result=\"blurOut\" stdDeviation=\"2.0\"/><feColorMatrix in=\"blurOut\" result=\"blurOut2\" type=\"matrix\" values=\"0 0 0 0 0 0 0 0 0 0 0 0 0 0 0 0 0 0 .4 0\"/><feOffset dx=\"4.0\" dy=\"4.0\" in=\"blurOut2\" result=\"blurOut3\"/><feBlend in=\"SourceGraphic\" in2=\"blurOut3\" mode=\"normal\"/></filter></defs><g><!--MD5=[fbc87193dbaf4d95561dea2c320d4a47]\n",
       "cluster E1--><polygon fill=\"#FFFFFF\" filter=\"url(#f1ishnq1qcdwlz)\" points=\"16,6,98,6,105,28.2969,793,28.2969,793,545.5,16,545.5,16,6\" style=\"stroke: #000000; stroke-width: 1.5;\"/><line style=\"stroke: #000000; stroke-width: 1.5;\" x1=\"16\" x2=\"105\" y1=\"28.2969\" y2=\"28.2969\"/><text fill=\"#000000\" font-family=\"sans-serif\" font-size=\"14\" font-weight=\"bold\" lengthAdjust=\"spacingAndGlyphs\" textLength=\"76\" x=\"20\" y=\"20.9951\">StateTest</text><!--MD5=[14e3b0961a2654348d326746436168a1]\n",
       "cluster E6--><rect fill=\"#FFFFFF\" filter=\"url(#f1ishnq1qcdwlz)\" height=\"472.5\" style=\"stroke: #000000; stroke-width: 1.5;\" width=\"327\" x=\"442\" y=\"49\"/><text fill=\"#000000\" font-family=\"sans-serif\" font-size=\"14\" font-weight=\"bold\" lengthAdjust=\"spacingAndGlyphs\" textLength=\"10\" x=\"600.5\" y=\"63.9951\">S</text><!--MD5=[b4997ac47864f28c2f74865a473b2911]\n",
       "class E2--><rect fill=\"#FEFECE\" filter=\"url(#f1ishnq1qcdwlz)\" height=\"58.7422\" id=\"E2\" style=\"stroke: #A80036; stroke-width: 1.5;\" width=\"95\" x=\"330.5\" y=\"111.5\"/><text fill=\"#000000\" font-family=\"sans-serif\" font-size=\"12\" font-style=\"italic\" lengthAdjust=\"spacingAndGlyphs\" textLength=\"93\" x=\"331.5\" y=\"127.6387\">«attribute def»</text><text fill=\"#000000\" font-family=\"sans-serif\" font-size=\"12\" lengthAdjust=\"spacingAndGlyphs\" textLength=\"19\" x=\"368.5\" y=\"141.6074\">Sig</text><line style=\"stroke: #A80036; stroke-width: 1.5;\" x1=\"331.5\" x2=\"424.5\" y1=\"149.4375\" y2=\"149.4375\"/><text fill=\"#000000\" font-family=\"sans-serif\" font-size=\"11\" lengthAdjust=\"spacingAndGlyphs\" textLength=\"71\" x=\"336.5\" y=\"163.6479\">x: DataValue</text><!--MD5=[09b614a08d8cba4a07c9adeb5e0fee81]\n",
       "class E3--><rect fill=\"#FEFECE\" filter=\"url(#f1ishnq1qcdwlz)\" height=\"45.9375\" id=\"E3\" style=\"stroke: #A80036; stroke-width: 1.5;\" width=\"95\" x=\"200.5\" y=\"118\"/><text fill=\"#000000\" font-family=\"sans-serif\" font-size=\"12\" font-style=\"italic\" lengthAdjust=\"spacingAndGlyphs\" textLength=\"93\" x=\"201.5\" y=\"134.1387\">«attribute def»</text><text fill=\"#000000\" font-family=\"sans-serif\" font-size=\"12\" lengthAdjust=\"spacingAndGlyphs\" textLength=\"22\" x=\"237\" y=\"148.1074\">Exit</text><line style=\"stroke: #A80036; stroke-width: 1.5;\" x1=\"201.5\" x2=\"294.5\" y1=\"155.9375\" y2=\"155.9375\"/><!--MD5=[ebbe1d658d1005bcc118a6aa81145e00]\n",
       "class E4--><rect fill=\"#FEFECE\" filter=\"url(#f1ishnq1qcdwlz)\" height=\"45.9375\" id=\"E4\" rx=\"10\" ry=\"10\" style=\"stroke: #A80036; stroke-width: 1.5;\" width=\"48\" x=\"117\" y=\"118\"/><text fill=\"#000000\" font-family=\"sans-serif\" font-size=\"12\" font-style=\"italic\" lengthAdjust=\"spacingAndGlyphs\" textLength=\"40\" x=\"121\" y=\"134.1387\">«part»</text><text fill=\"#000000\" font-family=\"sans-serif\" font-size=\"12\" lengthAdjust=\"spacingAndGlyphs\" textLength=\"42\" x=\"120\" y=\"148.1074\">p: Part</text><line style=\"stroke: #A80036; stroke-width: 1.5;\" x1=\"118\" x2=\"164\" y1=\"155.9375\" y2=\"155.9375\"/><g id=\"E1.E5\"><rect fill=\"#FFFFFF\" filter=\"url(#f1ishnq1qcdwlz)\" height=\"50\" rx=\"12.5\" ry=\"12.5\" style=\"stroke: #A80036; stroke-width: 1.5;\" width=\"50\" x=\"32\" y=\"116\"/><line style=\"stroke: #A80036; stroke-width: 1.5;\" x1=\"32\" x2=\"82\" y1=\"142.2969\" y2=\"142.2969\"/><text fill=\"#000000\" font-family=\"sans-serif\" font-size=\"14\" lengthAdjust=\"spacingAndGlyphs\" textLength=\"21\" x=\"46.5\" y=\"133.9951\">act</text></g><ellipse cx=\"554\" cy=\"141\" fill=\"#000000\" filter=\"url(#f1ishnq1qcdwlz)\" rx=\"10\" ry=\"10\" style=\"stroke: none; stroke-width: 1.0;\"/><ellipse cx=\"572\" cy=\"495.5\" fill=\"none\" filter=\"url(#f1ishnq1qcdwlz)\" rx=\"10\" ry=\"10\" style=\"stroke: #000000; stroke-width: 1.0;\"/><ellipse cx=\"572.5\" cy=\"496\" fill=\"#000000\" rx=\"6\" ry=\"6\" style=\"stroke: none; stroke-width: 1.0;\"/><g id=\"E1.E6.E7\"><rect fill=\"#FFFFFF\" filter=\"url(#f1ishnq1qcdwlz)\" height=\"50\" rx=\"12.5\" ry=\"12.5\" style=\"stroke: #A80036; stroke-width: 1.5;\" width=\"50\" x=\"529\" y=\"231.5\"/><line style=\"stroke: #A80036; stroke-width: 1.5;\" x1=\"529\" x2=\"579\" y1=\"257.7969\" y2=\"257.7969\"/><text fill=\"#000000\" font-family=\"sans-serif\" font-size=\"14\" lengthAdjust=\"spacingAndGlyphs\" textLength=\"18\" x=\"545\" y=\"249.4951\">S1</text></g><g id=\"E1.E6.E8\"><rect fill=\"#FFFFFF\" filter=\"url(#f1ishnq1qcdwlz)\" height=\"50.2656\" rx=\"12.5\" ry=\"12.5\" style=\"stroke: #A80036; stroke-width: 1.5;\" width=\"142\" x=\"501\" y=\"358.5\"/><line style=\"stroke: #A80036; stroke-width: 1.5;\" x1=\"501\" x2=\"643\" y1=\"384.7969\" y2=\"384.7969\"/><text fill=\"#000000\" font-family=\"sans-serif\" font-size=\"14\" lengthAdjust=\"spacingAndGlyphs\" textLength=\"18\" x=\"563\" y=\"376.4951\">S2</text><text fill=\"#000000\" font-family=\"sans-serif\" font-size=\"12\" font-weight=\"bold\" lengthAdjust=\"spacingAndGlyphs\" textLength=\"18\" x=\"506\" y=\"400.9355\">do</text><text fill=\"#000000\" font-family=\"sans-serif\" font-size=\"12\" lengthAdjust=\"spacingAndGlyphs\" textLength=\"104\" x=\"524\" y=\"400.9355\">/ transferActions</text></g><!--MD5=[5a531d3a85f3339e6e197084acb48195]\n",
       "link *start*E6 to E7--><path d=\"M554,151.29 C554,167.4 554,201.18 554,225.93 \" fill=\"none\" id=\"*start*E6-&gt;E7\" style=\"stroke: #A80036; stroke-width: 1.0;\"/><polygon fill=\"#A80036\" points=\"554,231.07,558,222.07,554,226.07,550,222.07,554,231.07\" style=\"stroke: #A80036; stroke-width: 1.0;\"/><!--MD5=[7ec9a8babba89ddcae1318ca9fb3c814]\n",
       "link E8 to *end*E6--><path d=\"M572,408.64 C572,430.53 572,462.07 572,480.21 \" fill=\"none\" id=\"E8-&gt;*end*E6\" style=\"stroke: #A80036; stroke-width: 1.0;\"/><polygon fill=\"#A80036\" points=\"572,485.38,576,476.38,572,480.38,568,476.38,572,485.38\" style=\"stroke: #A80036; stroke-width: 1.0;\"/><text fill=\"#000000\" font-family=\"sans-serif\" font-size=\"13\" lengthAdjust=\"spacingAndGlyphs\" textLength=\"23\" x=\"573\" y=\"451.5669\">Exit</text><!--MD5=[79bc8f324ef4d02c541433f2e6e513c3]\n",
       "link E7 to E8--><path d=\"M528.86,269.86 C505.91,282.96 477.33,304.98 490,328.5 C495.73,339.14 504.57,348.02 514.37,355.31 \" fill=\"none\" id=\"E7-&gt;E8\" style=\"stroke: #A80036; stroke-width: 1.0;\"/><polygon fill=\"#A80036\" points=\"518.61,358.34,513.6001,349.8606,514.5375,355.4392,508.9588,356.3766,518.61,358.34\" style=\"stroke: #A80036; stroke-width: 1.0;\"/><text fill=\"#000000\" font-family=\"sans-serif\" font-size=\"13\" lengthAdjust=\"spacingAndGlyphs\" textLength=\"81\" x=\"491\" y=\"324.5669\">Sig /action D</text><!--MD5=[bfa3c8b0d15052fdf50ae9310b491027]\n",
       "link E8 to E7--><path d=\"M576.92,358.3 C578.93,344.47 580.14,326.88 577,311.5 C575.28,303.07 572.19,294.32 568.82,286.38 \" fill=\"none\" id=\"E8-&gt;E7\" style=\"stroke: #A80036; stroke-width: 1.0;\"/><polygon fill=\"#A80036\" points=\"566.7,281.56,566.6685,291.4088,568.7161,286.1355,573.9894,288.1831,566.7,281.56\" style=\"stroke: #A80036; stroke-width: 1.0;\"/><text fill=\"#000000\" font-family=\"sans-serif\" font-size=\"13\" lengthAdjust=\"spacingAndGlyphs\" textLength=\"135\" x=\"579\" y=\"324.5669\">Sig [true]/send s to p</text><!--MD5=[0f586b07bad4ec8e98fa20efedfd599a]\n",
       "@startuml\r\n",
       "skinparam wrapWidth 300\r\n",
       "hide circle\r\n",
       "\r\n",
       "package \"StateTest\" as E1   {\r\n",
       "comp def \"Sig\" as E2  <<(T,blue)attribute def>> {\r\n",
       "x: DataValue\r\n",
       "}\r\n",
       "comp def \"Exit\" as E3  <<(T,blue)attribute def>> {\r\n",
       "}\r\n",
       "comp usage \"p: Part\" as E4  <<(T,blue)part>> {\r\n",
       "}\r\n",
       "rec usage \"act\" as E5 {\r\n",
       "}\r\n",
       "\r\n",
       "rec def \"S\" as E6 {\r\n",
       "rec usage \"S1\" as E7 {\r\n",
       "}\r\n",
       "\r\n",
       "rec usage \"S2\" as E8 {\r\n",
       "desc \"S2\" as E8  : **do**/ transferActions \r\n",
       "}\r\n",
       "\r\n",
       "[*] - -> E7\r\n",
       "E8  - -> [*] : Exit \r\n",
       "desc \"S\" as E6  : **entry**/ A\r\n",
       "desc \"S\" as E6  : **do**/ B\r\n",
       "desc \"S\" as E6  : **exit**/ act \r\n",
       "}\r\n",
       "\r\n",
       "E7  - -> E8 : Sig /action D\r\n",
       "E8  - -> E7 : Sig [true]/send s to p\r\n",
       "}\r\n",
       "@enduml\r\n",
       "\n",
       "PlantUML version 1.2020.13(Sat Jun 13 12:26:38 UTC 2020)\n",
       "(EPL source distribution)\n",
       "Java Runtime: OpenJDK Runtime Environment\n",
       "JVM: OpenJDK 64-Bit Server VM\n",
       "Default Encoding: UTF-8\n",
       "Language: en\n",
       "Country: null\n",
       "--></g></svg>"
      ]
     },
     "execution_count": 23,
     "metadata": {},
     "output_type": "execute_result"
    }
   ],
   "source": [
    "%viz --style=\"STDCOLOR\" --view=\"Default\" \"StateTest\""
   ]
  },
  {
   "cell_type": "code",
   "execution_count": 24,
   "id": "alone-seller",
   "metadata": {
    "execution": {
     "iopub.execute_input": "2021-03-26T09:42:46.199381Z",
     "iopub.status.busy": "2021-03-26T09:42:46.198830Z",
     "iopub.status.idle": "2021-03-26T09:42:46.356304Z",
     "shell.execute_reply": "2021-03-26T09:42:46.354987Z"
    }
   },
   "outputs": [
    {
     "data": {
      "image/svg+xml": [
       "<?xml version=\"1.0\" encoding=\"UTF-8\" standalone=\"no\"?><svg xmlns=\"http://www.w3.org/2000/svg\" xmlns:xlink=\"http://www.w3.org/1999/xlink\" contentScriptType=\"application/ecmascript\" contentStyleType=\"text/css\" height=\"471px\" preserveAspectRatio=\"none\" style=\"width:742px;height:471px;\" version=\"1.1\" viewBox=\"0 0 742 471\" width=\"742px\" zoomAndPan=\"magnify\"><defs><filter height=\"300%\" id=\"f15su13xpsx1nt\" width=\"300%\" x=\"-1\" y=\"-1\"><feGaussianBlur result=\"blurOut\" stdDeviation=\"2.0\"/><feColorMatrix in=\"blurOut\" result=\"blurOut2\" type=\"matrix\" values=\"0 0 0 0 0 0 0 0 0 0 0 0 0 0 0 0 0 0 .4 0\"/><feOffset dx=\"4.0\" dy=\"4.0\" in=\"blurOut2\" result=\"blurOut3\"/><feBlend in=\"SourceGraphic\" in2=\"blurOut3\" mode=\"normal\"/></filter></defs><g><!--MD5=[fbc87193dbaf4d95561dea2c320d4a47]\n",
       "cluster E1--><polygon fill=\"#FFFFFF\" filter=\"url(#f15su13xpsx1nt)\" points=\"16,6,98,6,105,28.2969,720,28.2969,720,459,16,459,16,6\" style=\"stroke: #000000; stroke-width: 1.5;\"/><line style=\"stroke: #000000; stroke-width: 1.5;\" x1=\"16\" x2=\"105\" y1=\"28.2969\" y2=\"28.2969\"/><text fill=\"#000000\" font-family=\"sans-serif\" font-size=\"14\" font-weight=\"bold\" lengthAdjust=\"spacingAndGlyphs\" textLength=\"76\" x=\"20\" y=\"20.9951\">StateTest</text><!--MD5=[b4997ac47864f28c2f74865a473b2911]\n",
       "class E2--><rect fill=\"#FEFECE\" filter=\"url(#f15su13xpsx1nt)\" height=\"58.7422\" id=\"E2\" style=\"stroke: #A80036; stroke-width: 1.5;\" width=\"95\" x=\"608.5\" y=\"91.5\"/><text fill=\"#000000\" font-family=\"sans-serif\" font-size=\"12\" font-style=\"italic\" lengthAdjust=\"spacingAndGlyphs\" textLength=\"93\" x=\"609.5\" y=\"107.6387\">«attribute def»</text><text fill=\"#000000\" font-family=\"sans-serif\" font-size=\"12\" lengthAdjust=\"spacingAndGlyphs\" textLength=\"19\" x=\"646.5\" y=\"121.6074\">Sig</text><line style=\"stroke: #A80036; stroke-width: 1.5;\" x1=\"609.5\" x2=\"702.5\" y1=\"129.4375\" y2=\"129.4375\"/><text fill=\"#000000\" font-family=\"sans-serif\" font-size=\"11\" lengthAdjust=\"spacingAndGlyphs\" textLength=\"71\" x=\"614.5\" y=\"143.6479\">x: DataValue</text><!--MD5=[09b614a08d8cba4a07c9adeb5e0fee81]\n",
       "class E3--><rect fill=\"#FEFECE\" filter=\"url(#f15su13xpsx1nt)\" height=\"45.9375\" id=\"E3\" style=\"stroke: #A80036; stroke-width: 1.5;\" width=\"95\" x=\"478.5\" y=\"98\"/><text fill=\"#000000\" font-family=\"sans-serif\" font-size=\"12\" font-style=\"italic\" lengthAdjust=\"spacingAndGlyphs\" textLength=\"93\" x=\"479.5\" y=\"114.1387\">«attribute def»</text><text fill=\"#000000\" font-family=\"sans-serif\" font-size=\"12\" lengthAdjust=\"spacingAndGlyphs\" textLength=\"22\" x=\"515\" y=\"128.1074\">Exit</text><line style=\"stroke: #A80036; stroke-width: 1.5;\" x1=\"479.5\" x2=\"572.5\" y1=\"135.9375\" y2=\"135.9375\"/><!--MD5=[ebbe1d658d1005bcc118a6aa81145e00]\n",
       "class E4--><rect fill=\"#FEFECE\" filter=\"url(#f15su13xpsx1nt)\" height=\"45.9375\" id=\"E4\" rx=\"10\" ry=\"10\" style=\"stroke: #A80036; stroke-width: 1.5;\" width=\"48\" x=\"395\" y=\"98\"/><text fill=\"#000000\" font-family=\"sans-serif\" font-size=\"12\" font-style=\"italic\" lengthAdjust=\"spacingAndGlyphs\" textLength=\"40\" x=\"399\" y=\"114.1387\">«part»</text><text fill=\"#000000\" font-family=\"sans-serif\" font-size=\"12\" lengthAdjust=\"spacingAndGlyphs\" textLength=\"42\" x=\"398\" y=\"128.1074\">p: Part</text><line style=\"stroke: #A80036; stroke-width: 1.5;\" x1=\"396\" x2=\"442\" y1=\"135.9375\" y2=\"135.9375\"/><!--MD5=[270fce915f116d4de14055a7c1d9a0f3]\n",
       "class E5--><rect fill=\"#FEFECE\" filter=\"url(#f15su13xpsx1nt)\" height=\"45.9375\" id=\"E5\" rx=\"10\" ry=\"10\" style=\"stroke: #A80036; stroke-width: 1.5;\" width=\"73\" x=\"286.5\" y=\"98\"/><text fill=\"#000000\" font-family=\"sans-serif\" font-size=\"12\" font-style=\"italic\" lengthAdjust=\"spacingAndGlyphs\" textLength=\"53\" x=\"296.5\" y=\"114.1387\">«action»</text><text fill=\"#000000\" font-family=\"sans-serif\" font-size=\"12\" lengthAdjust=\"spacingAndGlyphs\" textLength=\"67\" x=\"289.5\" y=\"128.1074\">act: Action</text><line style=\"stroke: #A80036; stroke-width: 1.5;\" x1=\"287.5\" x2=\"358.5\" y1=\"135.9375\" y2=\"135.9375\"/><!--MD5=[60a26617385b1d2d0262a64233df1f8d]\n",
       "class E6--><rect fill=\"#FEFECE\" filter=\"url(#f15su13xpsx1nt)\" height=\"160.375\" id=\"E6\" style=\"stroke: #A80036; stroke-width: 1.5;\" width=\"219\" x=\"32.5\" y=\"41\"/><text fill=\"#000000\" font-family=\"sans-serif\" font-size=\"12\" font-style=\"italic\" lengthAdjust=\"spacingAndGlyphs\" textLength=\"71\" x=\"106.5\" y=\"57.1387\">«state def»</text><text fill=\"#000000\" font-family=\"sans-serif\" font-size=\"12\" lengthAdjust=\"spacingAndGlyphs\" textLength=\"8\" x=\"138\" y=\"71.1074\">S</text><line style=\"stroke: #A80036; stroke-width: 1.5;\" x1=\"33.5\" x2=\"250.5\" y1=\"78.9375\" y2=\"78.9375\"/><line style=\"stroke: #000000; stroke-width: 1.0;\" x1=\"38.5\" x2=\"38.5\" y1=\"101.7422\" y2=\"110.7422\"/><polygon fill=\"#FFFF44\" points=\"41.5,102.7422,48.5,106.7422,41.5,110.7422\" style=\"stroke: #000000; stroke-width: 1.0;\"/><text fill=\"#000000\" font-family=\"sans-serif\" font-size=\"11\" lengthAdjust=\"spacingAndGlyphs\" textLength=\"59\" x=\"52.5\" y=\"109.9526\">act: Action</text><text fill=\"#000000\" font-family=\"sans-serif\" font-size=\"11\" lengthAdjust=\"spacingAndGlyphs\" text-decoration=\"line-through\" textLength=\"92\" x=\"115.5\" y=\"109.9526\">State::exitAction</text><line style=\"stroke: #000000; stroke-width: 1.0;\" x1=\"38.5\" x2=\"38.5\" y1=\"114.5469\" y2=\"123.5469\"/><polygon fill=\"#FFFF44\" points=\"41.5,115.5469,48.5,119.5469,41.5,123.5469\" style=\"stroke: #000000; stroke-width: 1.0;\"/><text fill=\"#000000\" font-family=\"sans-serif\" font-size=\"11\" lengthAdjust=\"spacingAndGlyphs\" textLength=\"88\" x=\"52.5\" y=\"122.7573\">A: Performance</text><text fill=\"#000000\" font-family=\"sans-serif\" font-size=\"11\" lengthAdjust=\"spacingAndGlyphs\" text-decoration=\"line-through\" textLength=\"101\" x=\"144.5\" y=\"122.7573\">State::entryAction</text><line style=\"stroke: #000000; stroke-width: 1.0;\" x1=\"38.5\" x2=\"38.5\" y1=\"127.3516\" y2=\"136.3516\"/><polygon fill=\"#FFFF44\" points=\"41.5,128.3516,48.5,132.3516,41.5,136.3516\" style=\"stroke: #000000; stroke-width: 1.0;\"/><text fill=\"#000000\" font-family=\"sans-serif\" font-size=\"11\" lengthAdjust=\"spacingAndGlyphs\" textLength=\"50\" x=\"52.5\" y=\"135.562\">B: Action</text><text fill=\"#000000\" font-family=\"sans-serif\" font-size=\"11\" lengthAdjust=\"spacingAndGlyphs\" text-decoration=\"line-through\" textLength=\"86\" x=\"106.5\" y=\"135.562\">State::doAction</text><line style=\"stroke: #A80036; stroke-width: 1.0;\" x1=\"33.5\" x2=\"98.5\" y1=\"93.3398\" y2=\"93.3398\"/><text fill=\"#000000\" font-family=\"sans-serif\" font-size=\"11\" lengthAdjust=\"spacingAndGlyphs\" textLength=\"87\" x=\"98.5\" y=\"96.6479\">performActions</text><line style=\"stroke: #A80036; stroke-width: 1.0;\" x1=\"185.5\" x2=\"250.5\" y1=\"93.3398\" y2=\"93.3398\"/><text fill=\"#000000\" font-family=\"sans-serif\" font-size=\"11\" lengthAdjust=\"spacingAndGlyphs\" textLength=\"53\" x=\"38.5\" y=\"165.1714\">S1: State</text><line style=\"stroke: #A80036; stroke-width: 1.0;\" x1=\"33.5\" x2=\"124\" y1=\"148.5586\" y2=\"148.5586\"/><text fill=\"#000000\" font-family=\"sans-serif\" font-size=\"11\" lengthAdjust=\"spacingAndGlyphs\" textLength=\"36\" x=\"124\" y=\"151.8667\">states</text><line style=\"stroke: #A80036; stroke-width: 1.0;\" x1=\"160\" x2=\"250.5\" y1=\"148.5586\" y2=\"148.5586\"/><text fill=\"#000000\" font-family=\"sans-serif\" font-size=\"11\" lengthAdjust=\"spacingAndGlyphs\" textLength=\"72\" x=\"38.5\" y=\"194.7808\">T: Transition</text><line style=\"stroke: #A80036; stroke-width: 1.0;\" x1=\"33.5\" x2=\"111.5\" y1=\"178.168\" y2=\"178.168\"/><text fill=\"#000000\" font-family=\"sans-serif\" font-size=\"11\" lengthAdjust=\"spacingAndGlyphs\" textLength=\"61\" x=\"111.5\" y=\"181.4761\">transitions</text><line style=\"stroke: #A80036; stroke-width: 1.0;\" x1=\"172.5\" x2=\"250.5\" y1=\"178.168\" y2=\"178.168\"/><!--MD5=[1dd1bfd58a279cf63c5f349dbc8fc6a1]\n",
       "class E11--><rect fill=\"#FEFECE\" filter=\"url(#f15su13xpsx1nt)\" height=\"45.9375\" id=\"E11\" rx=\"10\" ry=\"10\" style=\"stroke: #A80036; stroke-width: 1.5;\" width=\"64\" x=\"110\" y=\"261\"/><text fill=\"#000000\" font-family=\"sans-serif\" font-size=\"12\" font-style=\"italic\" lengthAdjust=\"spacingAndGlyphs\" textLength=\"47\" x=\"118.5\" y=\"277.1387\">«state»</text><text fill=\"#000000\" font-family=\"sans-serif\" font-size=\"12\" lengthAdjust=\"spacingAndGlyphs\" textLength=\"58\" x=\"113\" y=\"291.1074\">S2: State</text><line style=\"stroke: #A80036; stroke-width: 1.5;\" x1=\"111\" x2=\"173\" y1=\"298.9375\" y2=\"298.9375\"/><!--MD5=[49a0ec8f00dab7302a31f22d0f0fe584]\n",
       "class E12--><rect fill=\"#FEFECE\" filter=\"url(#f15su13xpsx1nt)\" height=\"75.5469\" id=\"E12\" rx=\"10\" ry=\"10\" style=\"stroke: #A80036; stroke-width: 1.5;\" width=\"193\" x=\"45.5\" y=\"367\"/><text fill=\"#000000\" font-family=\"sans-serif\" font-size=\"12\" font-style=\"italic\" lengthAdjust=\"spacingAndGlyphs\" textLength=\"84\" x=\"100\" y=\"383.1387\">«sendAction»</text><text fill=\"#000000\" font-family=\"sans-serif\" font-size=\"12\" lengthAdjust=\"spacingAndGlyphs\" textLength=\"154\" x=\"65\" y=\"397.1074\">doAction: TransferAction</text><line style=\"stroke: #A80036; stroke-width: 1.5;\" x1=\"46.5\" x2=\"237.5\" y1=\"404.9375\" y2=\"404.9375\"/><line style=\"stroke: #000000; stroke-width: 1.0;\" x1=\"51.5\" x2=\"51.5\" y1=\"427.7422\" y2=\"436.7422\"/><polygon fill=\"#FFFF44\" points=\"54.5,428.7422,61.5,432.7422,54.5,436.7422\" style=\"stroke: #000000; stroke-width: 1.0;\"/><text fill=\"#000000\" font-family=\"sans-serif\" font-size=\"11\" lengthAdjust=\"spacingAndGlyphs\" textLength=\"81\" x=\"65.5\" y=\"435.9526\">item: Anything</text><text fill=\"#000000\" font-family=\"sans-serif\" font-size=\"11\" lengthAdjust=\"spacingAndGlyphs\" text-decoration=\"line-through\" textLength=\"82\" x=\"150.5\" y=\"435.9526\">Transfer::item</text><line style=\"stroke: #A80036; stroke-width: 1.0;\" x1=\"46.5\" x2=\"104.5\" y1=\"419.3398\" y2=\"419.3398\"/><text fill=\"#000000\" font-family=\"sans-serif\" font-size=\"11\" lengthAdjust=\"spacingAndGlyphs\" textLength=\"75\" x=\"104.5\" y=\"422.6479\">itemFeatures</text><line style=\"stroke: #A80036; stroke-width: 1.0;\" x1=\"179.5\" x2=\"237.5\" y1=\"419.3398\" y2=\"419.3398\"/><!--MD5=[1f5f03483f7de0d5b3680a7f6650997f]\n",
       "reverse link E6 to E11--><path d=\"M142,214.17 C142,231.58 142,248.25 142,260.82 \" fill=\"none\" id=\"E6&lt;-E11\" style=\"stroke: #A80036; stroke-width: 1.0;\"/><polygon fill=\"#A80036\" points=\"142,201.09,138.0066,207.0944,142.0132,213.09,146.0066,207.0856,142,201.09\" style=\"stroke: #A80036; stroke-width: 1.0;\"/><!--MD5=[94adabc162ce7e41b39f13be14fbaeb3]\n",
       "reverse link E11 to E12--><path d=\"M142,320.23 C142,334.82 142,351.76 142,366.58 \" fill=\"none\" id=\"E11&lt;-E12\" style=\"stroke: #A80036; stroke-width: 1.0;\"/><polygon fill=\"#FFFFFF\" points=\"142,307.1,138,313.1,142,319.1,146,313.1,142,307.1\" style=\"stroke: #A80036; stroke-width: 1.0;\"/><!--MD5=[8c287c8e01accc9149b0011e209f23dc]\n",
       "@startuml\r\n",
       "skinparam wrapWidth 300\r\n",
       "hide circle\r\n",
       "\r\n",
       "package \"StateTest\" as E1   {\r\n",
       "comp def \"Sig\" as E2  <<(T,blue)attribute def>> {\r\n",
       "x: DataValue\r\n",
       "}\r\n",
       "comp def \"Exit\" as E3  <<(T,blue)attribute def>> {\r\n",
       "}\r\n",
       "comp usage \"p: Part\" as E4  <<(T,blue)part>> {\r\n",
       "}\r\n",
       "comp usage \"act: Action\" as E5  <<(T,blue)action>> {\r\n",
       "}\r\n",
       "comp def \"S\" as E6  <<(T,blue)state def>> {\r\n",
       "- -performActions- -\r\n",
       ">act: Action <s>State::exitAction</s>\r\n",
       ">A: Performance <s>State::entryAction</s>\r\n",
       ">B: Action <s>State::doAction</s>\r\n",
       "- -states- -\r\n",
       "S1: State\r\n",
       "- -transitions- -\r\n",
       "T: Transition\r\n",
       "}\r\n",
       "comp usage \"S2: State\" as E11  <<(T,blue)state>> {\r\n",
       "}\r\n",
       "comp usage \"doAction: TransferAction\" as E12  <<(T,blue)sendAction>> {\r\n",
       "- -itemFeatures- -\r\n",
       ">item: Anything <s>Transfer::item</s>\r\n",
       "}\r\n",
       "E6 *- - E11\r\n",
       "E11 o- - E12\r\n",
       "}\r\n",
       "@enduml\r\n",
       "\n",
       "PlantUML version 1.2020.13(Sat Jun 13 12:26:38 UTC 2020)\n",
       "(EPL source distribution)\n",
       "Java Runtime: OpenJDK Runtime Environment\n",
       "JVM: OpenJDK 64-Bit Server VM\n",
       "Default Encoding: UTF-8\n",
       "Language: en\n",
       "Country: null\n",
       "--></g></svg>"
      ]
     },
     "execution_count": 24,
     "metadata": {},
     "output_type": "execute_result"
    }
   ],
   "source": [
    "%viz --style=\"STDCOLOR\" --view=\"Tree\" \"StateTest\""
   ]
  },
  {
   "cell_type": "code",
   "execution_count": 25,
   "id": "adapted-spyware",
   "metadata": {
    "execution": {
     "iopub.execute_input": "2021-03-26T09:42:46.406258Z",
     "iopub.status.busy": "2021-03-26T09:42:46.405916Z",
     "iopub.status.idle": "2021-03-26T09:42:46.408578Z",
     "shell.execute_reply": "2021-03-26T09:42:46.408218Z"
    }
   },
   "outputs": [
    {
     "data": {
      "text/plain": [
       "java.lang.IllegalArgumentException: Invalid View: State View candidates are: Default Tree StateMachine Interconnection Activity Sequence MIXED \n",
       "\tat org.omg.sysml.plantuml.SysML2PlantUMLSvc.setView(SysML2PlantUMLSvc.java:63)\n",
       "\tat org.omg.sysml.interactive.SysMLInteractive.viz(SysMLInteractive.java:286)\n",
       "\tat org.omg.sysml.jupyter.kernel.magic.Viz.viz(Viz.java:47)\n",
       "\tat jdk.internal.reflect.GeneratedMethodAccessor13.invoke(Unknown Source)\n",
       "\tat java.base/jdk.internal.reflect.DelegatingMethodAccessorImpl.invoke(DelegatingMethodAccessorImpl.java:43)\n",
       "\tat java.base/java.lang.reflect.Method.invoke(Method.java:568)\n",
       "\tat io.github.spencerpark.jupyter.kernel.magic.registry.Magics.invoke(Magics.java:89)\n",
       "\tat io.github.spencerpark.jupyter.kernel.magic.registry.Magics.access$000(Magics.java:8)\n",
       "\tat io.github.spencerpark.jupyter.kernel.magic.registry.Magics$LineReflectionMagicFunction.execute(Magics.java:149)\n",
       "\tat io.github.spencerpark.jupyter.kernel.magic.registry.Magics.applyLineMagic(Magics.java:26)\n",
       "\tat org.omg.sysml.jupyter.kernel.SysMLKernel.eval(SysMLKernel.java:76)\n",
       "\tat io.github.spencerpark.jupyter.kernel.BaseKernel.handleExecuteRequest(BaseKernel.java:334)\n",
       "\tat io.github.spencerpark.jupyter.channels.ShellChannel.lambda$bind$0(ShellChannel.java:64)\n",
       "\tat io.github.spencerpark.jupyter.channels.Loop.lambda$new$0(Loop.java:21)\n",
       "\tat io.github.spencerpark.jupyter.channels.Loop.run(Loop.java:78)\n"
      ]
     },
     "execution_count": 25,
     "metadata": {},
     "output_type": "execute_result"
    }
   ],
   "source": [
    "%viz --style=\"STDCOLOR\" --view=\"State\" \"StateTest\""
   ]
  },
  {
   "cell_type": "code",
   "execution_count": 26,
   "id": "local-rough",
   "metadata": {
    "execution": {
     "iopub.execute_input": "2021-03-26T09:42:46.459061Z",
     "iopub.status.busy": "2021-03-26T09:42:46.458655Z",
     "iopub.status.idle": "2021-03-26T09:42:46.488076Z",
     "shell.execute_reply": "2021-03-26T09:42:46.487778Z"
    }
   },
   "outputs": [
    {
     "data": {
      "image/svg+xml": [
       "<?xml version=\"1.0\" encoding=\"UTF-8\" standalone=\"no\"?><svg xmlns=\"http://www.w3.org/2000/svg\" xmlns:xlink=\"http://www.w3.org/1999/xlink\" contentScriptType=\"application/ecmascript\" contentStyleType=\"text/css\" height=\"123px\" preserveAspectRatio=\"none\" style=\"width:631px;height:123px;\" version=\"1.1\" viewBox=\"0 0 631 123\" width=\"631px\" zoomAndPan=\"magnify\"><defs><filter height=\"300%\" id=\"fja4zwnh57zff\" width=\"300%\" x=\"-1\" y=\"-1\"><feGaussianBlur result=\"blurOut\" stdDeviation=\"2.0\"/><feColorMatrix in=\"blurOut\" result=\"blurOut2\" type=\"matrix\" values=\"0 0 0 0 0 0 0 0 0 0 0 0 0 0 0 0 0 0 .4 0\"/><feOffset dx=\"4.0\" dy=\"4.0\" in=\"blurOut2\" result=\"blurOut3\"/><feBlend in=\"SourceGraphic\" in2=\"blurOut3\" mode=\"normal\"/></filter></defs><g><!--MD5=[fbc87193dbaf4d95561dea2c320d4a47]\n",
       "cluster E1--><polygon fill=\"#FFFFFF\" filter=\"url(#fja4zwnh57zff)\" points=\"16,6,98,6,105,28.2969,609,28.2969,609,111,16,111,16,6\" style=\"stroke: #000000; stroke-width: 1.5;\"/><line style=\"stroke: #000000; stroke-width: 1.5;\" x1=\"16\" x2=\"105\" y1=\"28.2969\" y2=\"28.2969\"/><text fill=\"#000000\" font-family=\"sans-serif\" font-size=\"14\" font-weight=\"bold\" lengthAdjust=\"spacingAndGlyphs\" textLength=\"76\" x=\"20\" y=\"20.9951\">StateTest</text><!--MD5=[b4997ac47864f28c2f74865a473b2911]\n",
       "class E2--><rect fill=\"#FEFECE\" filter=\"url(#fja4zwnh57zff)\" height=\"53.9375\" id=\"E2\" style=\"stroke: #A80036; stroke-width: 1.5;\" width=\"95\" x=\"497.5\" y=\"41\"/><text fill=\"#000000\" font-family=\"sans-serif\" font-size=\"12\" font-style=\"italic\" lengthAdjust=\"spacingAndGlyphs\" textLength=\"93\" x=\"498.5\" y=\"57.1387\">«attribute def»</text><text fill=\"#000000\" font-family=\"sans-serif\" font-size=\"12\" lengthAdjust=\"spacingAndGlyphs\" textLength=\"19\" x=\"535.5\" y=\"71.1074\">Sig</text><line style=\"stroke: #A80036; stroke-width: 1.5;\" x1=\"498.5\" x2=\"591.5\" y1=\"78.9375\" y2=\"78.9375\"/><line style=\"stroke: #A80036; stroke-width: 1.5;\" x1=\"498.5\" x2=\"591.5\" y1=\"86.9375\" y2=\"86.9375\"/><!--MD5=[09b614a08d8cba4a07c9adeb5e0fee81]\n",
       "class E3--><rect fill=\"#FEFECE\" filter=\"url(#fja4zwnh57zff)\" height=\"53.9375\" id=\"E3\" style=\"stroke: #A80036; stroke-width: 1.5;\" width=\"95\" x=\"367.5\" y=\"41\"/><text fill=\"#000000\" font-family=\"sans-serif\" font-size=\"12\" font-style=\"italic\" lengthAdjust=\"spacingAndGlyphs\" textLength=\"93\" x=\"368.5\" y=\"57.1387\">«attribute def»</text><text fill=\"#000000\" font-family=\"sans-serif\" font-size=\"12\" lengthAdjust=\"spacingAndGlyphs\" textLength=\"22\" x=\"404\" y=\"71.1074\">Exit</text><line style=\"stroke: #A80036; stroke-width: 1.5;\" x1=\"368.5\" x2=\"461.5\" y1=\"78.9375\" y2=\"78.9375\"/><line style=\"stroke: #A80036; stroke-width: 1.5;\" x1=\"368.5\" x2=\"461.5\" y1=\"86.9375\" y2=\"86.9375\"/><!--MD5=[60a26617385b1d2d0262a64233df1f8d]\n",
       "class E6--><rect fill=\"#FEFECE\" filter=\"url(#fja4zwnh57zff)\" height=\"53.9375\" id=\"E6\" style=\"stroke: #A80036; stroke-width: 1.5;\" width=\"73\" x=\"259.5\" y=\"41\"/><text fill=\"#000000\" font-family=\"sans-serif\" font-size=\"12\" font-style=\"italic\" lengthAdjust=\"spacingAndGlyphs\" textLength=\"71\" x=\"260.5\" y=\"57.1387\">«state def»</text><text fill=\"#000000\" font-family=\"sans-serif\" font-size=\"12\" lengthAdjust=\"spacingAndGlyphs\" textLength=\"8\" x=\"292\" y=\"71.1074\">S</text><line style=\"stroke: #A80036; stroke-width: 1.5;\" x1=\"260.5\" x2=\"331.5\" y1=\"78.9375\" y2=\"78.9375\"/><line style=\"stroke: #A80036; stroke-width: 1.5;\" x1=\"260.5\" x2=\"331.5\" y1=\"86.9375\" y2=\"86.9375\"/><g id=\"E1.E4\"><rect fill=\"#FFFFFF\" filter=\"url(#fja4zwnh57zff)\" height=\"50\" rx=\"12.5\" ry=\"12.5\" style=\"stroke: #A80036; stroke-width: 1.5;\" width=\"65\" x=\"159.5\" y=\"43\"/><line style=\"stroke: #A80036; stroke-width: 1.5;\" x1=\"159.5\" x2=\"224.5\" y1=\"69.2969\" y2=\"69.2969\"/><text fill=\"#000000\" font-family=\"sans-serif\" font-size=\"14\" lengthAdjust=\"spacingAndGlyphs\" textLength=\"45\" x=\"169.5\" y=\"60.9951\">p: Part</text></g><g id=\"E1.E5\"><rect fill=\"#FFFFFF\" filter=\"url(#fja4zwnh57zff)\" height=\"50\" rx=\"12.5\" ry=\"12.5\" style=\"stroke: #A80036; stroke-width: 1.5;\" width=\"93\" x=\"31.5\" y=\"43\"/><line style=\"stroke: #A80036; stroke-width: 1.5;\" x1=\"31.5\" x2=\"124.5\" y1=\"69.2969\" y2=\"69.2969\"/><text fill=\"#000000\" font-family=\"sans-serif\" font-size=\"14\" lengthAdjust=\"spacingAndGlyphs\" textLength=\"73\" x=\"41.5\" y=\"60.9951\">act: Action</text></g><!--MD5=[fb4ad1f7f92eaab92caf068276578b52]\n",
       "@startuml\r\n",
       "skinparam ranksep 8\r\n",
       "skinparam rectangle {\r\n",
       " backgroundColor<<block>> LightGreen\r\n",
       "}\r\n",
       "skinparam wrapWidth 300\r\n",
       "hide circle\r\n",
       "\r\n",
       "package \"StateTest\" as E1   {\r\n",
       "def \"Sig\" as E2  <<attribute def>> \r\n",
       "def \"Exit\" as E3  <<attribute def>> \r\n",
       "rec usage \"p: Part\" as E4  {\r\n",
       "}\r\n",
       "rec usage \"act: Action\" as E5  <<action>> {\r\n",
       "}\r\n",
       "def \"S\" as E6  <<state def>> \r\n",
       "}\r\n",
       "@enduml\r\n",
       "\n",
       "PlantUML version 1.2020.13(Sat Jun 13 12:26:38 UTC 2020)\n",
       "(EPL source distribution)\n",
       "Java Runtime: OpenJDK Runtime Environment\n",
       "JVM: OpenJDK 64-Bit Server VM\n",
       "Default Encoding: UTF-8\n",
       "Language: en\n",
       "Country: null\n",
       "--></g></svg>"
      ]
     },
     "execution_count": 26,
     "metadata": {},
     "output_type": "execute_result"
    }
   ],
   "source": [
    "%viz --style=\"STDCOLOR\" --view=\"Interconnection\" \"StateTest\""
   ]
  },
  {
   "cell_type": "code",
   "execution_count": 27,
   "id": "fatty-continent",
   "metadata": {
    "execution": {
     "iopub.execute_input": "2021-03-26T09:42:46.538941Z",
     "iopub.status.busy": "2021-03-26T09:42:46.538561Z",
     "iopub.status.idle": "2021-03-26T09:42:46.539962Z",
     "shell.execute_reply": "2021-03-26T09:42:46.540282Z"
    }
   },
   "outputs": [
    {
     "data": {
      "text/plain": [
       "java.lang.IllegalArgumentException: Invalid View: Action View candidates are: Default Tree StateMachine Interconnection Activity Sequence MIXED \n",
       "\tat org.omg.sysml.plantuml.SysML2PlantUMLSvc.setView(SysML2PlantUMLSvc.java:63)\n",
       "\tat org.omg.sysml.interactive.SysMLInteractive.viz(SysMLInteractive.java:286)\n",
       "\tat org.omg.sysml.jupyter.kernel.magic.Viz.viz(Viz.java:47)\n",
       "\tat jdk.internal.reflect.GeneratedMethodAccessor13.invoke(Unknown Source)\n",
       "\tat java.base/jdk.internal.reflect.DelegatingMethodAccessorImpl.invoke(DelegatingMethodAccessorImpl.java:43)\n",
       "\tat java.base/java.lang.reflect.Method.invoke(Method.java:568)\n",
       "\tat io.github.spencerpark.jupyter.kernel.magic.registry.Magics.invoke(Magics.java:89)\n",
       "\tat io.github.spencerpark.jupyter.kernel.magic.registry.Magics.access$000(Magics.java:8)\n",
       "\tat io.github.spencerpark.jupyter.kernel.magic.registry.Magics$LineReflectionMagicFunction.execute(Magics.java:149)\n",
       "\tat io.github.spencerpark.jupyter.kernel.magic.registry.Magics.applyLineMagic(Magics.java:26)\n",
       "\tat org.omg.sysml.jupyter.kernel.SysMLKernel.eval(SysMLKernel.java:76)\n",
       "\tat io.github.spencerpark.jupyter.kernel.BaseKernel.handleExecuteRequest(BaseKernel.java:334)\n",
       "\tat io.github.spencerpark.jupyter.channels.ShellChannel.lambda$bind$0(ShellChannel.java:64)\n",
       "\tat io.github.spencerpark.jupyter.channels.Loop.lambda$new$0(Loop.java:21)\n",
       "\tat io.github.spencerpark.jupyter.channels.Loop.run(Loop.java:78)\n"
      ]
     },
     "execution_count": 27,
     "metadata": {},
     "output_type": "execute_result"
    }
   ],
   "source": [
    "%viz --style=\"STDCOLOR\" --view=\"Action\" \"StateTest\""
   ]
  },
  {
   "cell_type": "code",
   "execution_count": 28,
   "id": "floppy-program",
   "metadata": {
    "execution": {
     "iopub.execute_input": "2021-03-26T09:42:46.590916Z",
     "iopub.status.busy": "2021-03-26T09:42:46.590566Z",
     "iopub.status.idle": "2021-03-26T09:42:46.740063Z",
     "shell.execute_reply": "2021-03-26T09:42:46.738638Z"
    }
   },
   "outputs": [
    {
     "data": {
      "image/svg+xml": [
       "<?xml version=\"1.0\" encoding=\"UTF-8\" standalone=\"no\"?><svg xmlns=\"http://www.w3.org/2000/svg\" xmlns:xlink=\"http://www.w3.org/1999/xlink\" contentScriptType=\"application/ecmascript\" contentStyleType=\"text/css\" height=\"471px\" preserveAspectRatio=\"none\" style=\"width:742px;height:471px;\" version=\"1.1\" viewBox=\"0 0 742 471\" width=\"742px\" zoomAndPan=\"magnify\"><defs><filter height=\"300%\" id=\"f15su13xpsx1nt\" width=\"300%\" x=\"-1\" y=\"-1\"><feGaussianBlur result=\"blurOut\" stdDeviation=\"2.0\"/><feColorMatrix in=\"blurOut\" result=\"blurOut2\" type=\"matrix\" values=\"0 0 0 0 0 0 0 0 0 0 0 0 0 0 0 0 0 0 .4 0\"/><feOffset dx=\"4.0\" dy=\"4.0\" in=\"blurOut2\" result=\"blurOut3\"/><feBlend in=\"SourceGraphic\" in2=\"blurOut3\" mode=\"normal\"/></filter></defs><g><!--MD5=[fbc87193dbaf4d95561dea2c320d4a47]\n",
       "cluster E1--><polygon fill=\"#FFFFFF\" filter=\"url(#f15su13xpsx1nt)\" points=\"16,6,98,6,105,28.2969,720,28.2969,720,459,16,459,16,6\" style=\"stroke: #000000; stroke-width: 1.5;\"/><line style=\"stroke: #000000; stroke-width: 1.5;\" x1=\"16\" x2=\"105\" y1=\"28.2969\" y2=\"28.2969\"/><text fill=\"#000000\" font-family=\"sans-serif\" font-size=\"14\" font-weight=\"bold\" lengthAdjust=\"spacingAndGlyphs\" textLength=\"76\" x=\"20\" y=\"20.9951\">StateTest</text><!--MD5=[b4997ac47864f28c2f74865a473b2911]\n",
       "class E2--><rect fill=\"#FEFECE\" filter=\"url(#f15su13xpsx1nt)\" height=\"58.7422\" id=\"E2\" style=\"stroke: #A80036; stroke-width: 1.5;\" width=\"95\" x=\"608.5\" y=\"91.5\"/><text fill=\"#000000\" font-family=\"sans-serif\" font-size=\"12\" font-style=\"italic\" lengthAdjust=\"spacingAndGlyphs\" textLength=\"93\" x=\"609.5\" y=\"107.6387\">«attribute def»</text><text fill=\"#000000\" font-family=\"sans-serif\" font-size=\"12\" lengthAdjust=\"spacingAndGlyphs\" textLength=\"19\" x=\"646.5\" y=\"121.6074\">Sig</text><line style=\"stroke: #A80036; stroke-width: 1.5;\" x1=\"609.5\" x2=\"702.5\" y1=\"129.4375\" y2=\"129.4375\"/><text fill=\"#000000\" font-family=\"sans-serif\" font-size=\"11\" lengthAdjust=\"spacingAndGlyphs\" textLength=\"71\" x=\"614.5\" y=\"143.6479\">x: DataValue</text><!--MD5=[09b614a08d8cba4a07c9adeb5e0fee81]\n",
       "class E3--><rect fill=\"#FEFECE\" filter=\"url(#f15su13xpsx1nt)\" height=\"45.9375\" id=\"E3\" style=\"stroke: #A80036; stroke-width: 1.5;\" width=\"95\" x=\"478.5\" y=\"98\"/><text fill=\"#000000\" font-family=\"sans-serif\" font-size=\"12\" font-style=\"italic\" lengthAdjust=\"spacingAndGlyphs\" textLength=\"93\" x=\"479.5\" y=\"114.1387\">«attribute def»</text><text fill=\"#000000\" font-family=\"sans-serif\" font-size=\"12\" lengthAdjust=\"spacingAndGlyphs\" textLength=\"22\" x=\"515\" y=\"128.1074\">Exit</text><line style=\"stroke: #A80036; stroke-width: 1.5;\" x1=\"479.5\" x2=\"572.5\" y1=\"135.9375\" y2=\"135.9375\"/><!--MD5=[ebbe1d658d1005bcc118a6aa81145e00]\n",
       "class E4--><rect fill=\"#FEFECE\" filter=\"url(#f15su13xpsx1nt)\" height=\"45.9375\" id=\"E4\" rx=\"10\" ry=\"10\" style=\"stroke: #A80036; stroke-width: 1.5;\" width=\"48\" x=\"395\" y=\"98\"/><text fill=\"#000000\" font-family=\"sans-serif\" font-size=\"12\" font-style=\"italic\" lengthAdjust=\"spacingAndGlyphs\" textLength=\"40\" x=\"399\" y=\"114.1387\">«part»</text><text fill=\"#000000\" font-family=\"sans-serif\" font-size=\"12\" lengthAdjust=\"spacingAndGlyphs\" textLength=\"42\" x=\"398\" y=\"128.1074\">p: Part</text><line style=\"stroke: #A80036; stroke-width: 1.5;\" x1=\"396\" x2=\"442\" y1=\"135.9375\" y2=\"135.9375\"/><!--MD5=[270fce915f116d4de14055a7c1d9a0f3]\n",
       "class E5--><rect fill=\"#FEFECE\" filter=\"url(#f15su13xpsx1nt)\" height=\"45.9375\" id=\"E5\" rx=\"10\" ry=\"10\" style=\"stroke: #A80036; stroke-width: 1.5;\" width=\"73\" x=\"286.5\" y=\"98\"/><text fill=\"#000000\" font-family=\"sans-serif\" font-size=\"12\" font-style=\"italic\" lengthAdjust=\"spacingAndGlyphs\" textLength=\"53\" x=\"296.5\" y=\"114.1387\">«action»</text><text fill=\"#000000\" font-family=\"sans-serif\" font-size=\"12\" lengthAdjust=\"spacingAndGlyphs\" textLength=\"67\" x=\"289.5\" y=\"128.1074\">act: Action</text><line style=\"stroke: #A80036; stroke-width: 1.5;\" x1=\"287.5\" x2=\"358.5\" y1=\"135.9375\" y2=\"135.9375\"/><!--MD5=[60a26617385b1d2d0262a64233df1f8d]\n",
       "class E6--><rect fill=\"#FEFECE\" filter=\"url(#f15su13xpsx1nt)\" height=\"160.375\" id=\"E6\" style=\"stroke: #A80036; stroke-width: 1.5;\" width=\"219\" x=\"32.5\" y=\"41\"/><text fill=\"#000000\" font-family=\"sans-serif\" font-size=\"12\" font-style=\"italic\" lengthAdjust=\"spacingAndGlyphs\" textLength=\"71\" x=\"106.5\" y=\"57.1387\">«state def»</text><text fill=\"#000000\" font-family=\"sans-serif\" font-size=\"12\" lengthAdjust=\"spacingAndGlyphs\" textLength=\"8\" x=\"138\" y=\"71.1074\">S</text><line style=\"stroke: #A80036; stroke-width: 1.5;\" x1=\"33.5\" x2=\"250.5\" y1=\"78.9375\" y2=\"78.9375\"/><line style=\"stroke: #000000; stroke-width: 1.0;\" x1=\"38.5\" x2=\"38.5\" y1=\"101.7422\" y2=\"110.7422\"/><polygon fill=\"#FFFF44\" points=\"41.5,102.7422,48.5,106.7422,41.5,110.7422\" style=\"stroke: #000000; stroke-width: 1.0;\"/><text fill=\"#000000\" font-family=\"sans-serif\" font-size=\"11\" lengthAdjust=\"spacingAndGlyphs\" textLength=\"59\" x=\"52.5\" y=\"109.9526\">act: Action</text><text fill=\"#000000\" font-family=\"sans-serif\" font-size=\"11\" lengthAdjust=\"spacingAndGlyphs\" text-decoration=\"line-through\" textLength=\"92\" x=\"115.5\" y=\"109.9526\">State::exitAction</text><line style=\"stroke: #000000; stroke-width: 1.0;\" x1=\"38.5\" x2=\"38.5\" y1=\"114.5469\" y2=\"123.5469\"/><polygon fill=\"#FFFF44\" points=\"41.5,115.5469,48.5,119.5469,41.5,123.5469\" style=\"stroke: #000000; stroke-width: 1.0;\"/><text fill=\"#000000\" font-family=\"sans-serif\" font-size=\"11\" lengthAdjust=\"spacingAndGlyphs\" textLength=\"88\" x=\"52.5\" y=\"122.7573\">A: Performance</text><text fill=\"#000000\" font-family=\"sans-serif\" font-size=\"11\" lengthAdjust=\"spacingAndGlyphs\" text-decoration=\"line-through\" textLength=\"101\" x=\"144.5\" y=\"122.7573\">State::entryAction</text><line style=\"stroke: #000000; stroke-width: 1.0;\" x1=\"38.5\" x2=\"38.5\" y1=\"127.3516\" y2=\"136.3516\"/><polygon fill=\"#FFFF44\" points=\"41.5,128.3516,48.5,132.3516,41.5,136.3516\" style=\"stroke: #000000; stroke-width: 1.0;\"/><text fill=\"#000000\" font-family=\"sans-serif\" font-size=\"11\" lengthAdjust=\"spacingAndGlyphs\" textLength=\"50\" x=\"52.5\" y=\"135.562\">B: Action</text><text fill=\"#000000\" font-family=\"sans-serif\" font-size=\"11\" lengthAdjust=\"spacingAndGlyphs\" text-decoration=\"line-through\" textLength=\"86\" x=\"106.5\" y=\"135.562\">State::doAction</text><line style=\"stroke: #A80036; stroke-width: 1.0;\" x1=\"33.5\" x2=\"98.5\" y1=\"93.3398\" y2=\"93.3398\"/><text fill=\"#000000\" font-family=\"sans-serif\" font-size=\"11\" lengthAdjust=\"spacingAndGlyphs\" textLength=\"87\" x=\"98.5\" y=\"96.6479\">performActions</text><line style=\"stroke: #A80036; stroke-width: 1.0;\" x1=\"185.5\" x2=\"250.5\" y1=\"93.3398\" y2=\"93.3398\"/><text fill=\"#000000\" font-family=\"sans-serif\" font-size=\"11\" lengthAdjust=\"spacingAndGlyphs\" textLength=\"53\" x=\"38.5\" y=\"165.1714\">S1: State</text><line style=\"stroke: #A80036; stroke-width: 1.0;\" x1=\"33.5\" x2=\"124\" y1=\"148.5586\" y2=\"148.5586\"/><text fill=\"#000000\" font-family=\"sans-serif\" font-size=\"11\" lengthAdjust=\"spacingAndGlyphs\" textLength=\"36\" x=\"124\" y=\"151.8667\">states</text><line style=\"stroke: #A80036; stroke-width: 1.0;\" x1=\"160\" x2=\"250.5\" y1=\"148.5586\" y2=\"148.5586\"/><text fill=\"#000000\" font-family=\"sans-serif\" font-size=\"11\" lengthAdjust=\"spacingAndGlyphs\" textLength=\"72\" x=\"38.5\" y=\"194.7808\">T: Transition</text><line style=\"stroke: #A80036; stroke-width: 1.0;\" x1=\"33.5\" x2=\"111.5\" y1=\"178.168\" y2=\"178.168\"/><text fill=\"#000000\" font-family=\"sans-serif\" font-size=\"11\" lengthAdjust=\"spacingAndGlyphs\" textLength=\"61\" x=\"111.5\" y=\"181.4761\">transitions</text><line style=\"stroke: #A80036; stroke-width: 1.0;\" x1=\"172.5\" x2=\"250.5\" y1=\"178.168\" y2=\"178.168\"/><!--MD5=[1dd1bfd58a279cf63c5f349dbc8fc6a1]\n",
       "class E11--><rect fill=\"#FEFECE\" filter=\"url(#f15su13xpsx1nt)\" height=\"45.9375\" id=\"E11\" rx=\"10\" ry=\"10\" style=\"stroke: #A80036; stroke-width: 1.5;\" width=\"64\" x=\"110\" y=\"261\"/><text fill=\"#000000\" font-family=\"sans-serif\" font-size=\"12\" font-style=\"italic\" lengthAdjust=\"spacingAndGlyphs\" textLength=\"47\" x=\"118.5\" y=\"277.1387\">«state»</text><text fill=\"#000000\" font-family=\"sans-serif\" font-size=\"12\" lengthAdjust=\"spacingAndGlyphs\" textLength=\"58\" x=\"113\" y=\"291.1074\">S2: State</text><line style=\"stroke: #A80036; stroke-width: 1.5;\" x1=\"111\" x2=\"173\" y1=\"298.9375\" y2=\"298.9375\"/><!--MD5=[49a0ec8f00dab7302a31f22d0f0fe584]\n",
       "class E12--><rect fill=\"#FEFECE\" filter=\"url(#f15su13xpsx1nt)\" height=\"75.5469\" id=\"E12\" rx=\"10\" ry=\"10\" style=\"stroke: #A80036; stroke-width: 1.5;\" width=\"193\" x=\"45.5\" y=\"367\"/><text fill=\"#000000\" font-family=\"sans-serif\" font-size=\"12\" font-style=\"italic\" lengthAdjust=\"spacingAndGlyphs\" textLength=\"84\" x=\"100\" y=\"383.1387\">«sendAction»</text><text fill=\"#000000\" font-family=\"sans-serif\" font-size=\"12\" lengthAdjust=\"spacingAndGlyphs\" textLength=\"154\" x=\"65\" y=\"397.1074\">doAction: TransferAction</text><line style=\"stroke: #A80036; stroke-width: 1.5;\" x1=\"46.5\" x2=\"237.5\" y1=\"404.9375\" y2=\"404.9375\"/><line style=\"stroke: #000000; stroke-width: 1.0;\" x1=\"51.5\" x2=\"51.5\" y1=\"427.7422\" y2=\"436.7422\"/><polygon fill=\"#FFFF44\" points=\"54.5,428.7422,61.5,432.7422,54.5,436.7422\" style=\"stroke: #000000; stroke-width: 1.0;\"/><text fill=\"#000000\" font-family=\"sans-serif\" font-size=\"11\" lengthAdjust=\"spacingAndGlyphs\" textLength=\"81\" x=\"65.5\" y=\"435.9526\">item: Anything</text><text fill=\"#000000\" font-family=\"sans-serif\" font-size=\"11\" lengthAdjust=\"spacingAndGlyphs\" text-decoration=\"line-through\" textLength=\"82\" x=\"150.5\" y=\"435.9526\">Transfer::item</text><line style=\"stroke: #A80036; stroke-width: 1.0;\" x1=\"46.5\" x2=\"104.5\" y1=\"419.3398\" y2=\"419.3398\"/><text fill=\"#000000\" font-family=\"sans-serif\" font-size=\"11\" lengthAdjust=\"spacingAndGlyphs\" textLength=\"75\" x=\"104.5\" y=\"422.6479\">itemFeatures</text><line style=\"stroke: #A80036; stroke-width: 1.0;\" x1=\"179.5\" x2=\"237.5\" y1=\"419.3398\" y2=\"419.3398\"/><!--MD5=[1f5f03483f7de0d5b3680a7f6650997f]\n",
       "reverse link E6 to E11--><path d=\"M142,214.17 C142,231.58 142,248.25 142,260.82 \" fill=\"none\" id=\"E6&lt;-E11\" style=\"stroke: #A80036; stroke-width: 1.0;\"/><polygon fill=\"#A80036\" points=\"142,201.09,138.0066,207.0944,142.0132,213.09,146.0066,207.0856,142,201.09\" style=\"stroke: #A80036; stroke-width: 1.0;\"/><!--MD5=[94adabc162ce7e41b39f13be14fbaeb3]\n",
       "reverse link E11 to E12--><path d=\"M142,320.23 C142,334.82 142,351.76 142,366.58 \" fill=\"none\" id=\"E11&lt;-E12\" style=\"stroke: #A80036; stroke-width: 1.0;\"/><polygon fill=\"#FFFFFF\" points=\"142,307.1,138,313.1,142,319.1,146,313.1,142,307.1\" style=\"stroke: #A80036; stroke-width: 1.0;\"/><!--MD5=[8c287c8e01accc9149b0011e209f23dc]\n",
       "@startuml\r\n",
       "skinparam wrapWidth 300\r\n",
       "hide circle\r\n",
       "\r\n",
       "package \"StateTest\" as E1   {\r\n",
       "comp def \"Sig\" as E2  <<(T,blue)attribute def>> {\r\n",
       "x: DataValue\r\n",
       "}\r\n",
       "comp def \"Exit\" as E3  <<(T,blue)attribute def>> {\r\n",
       "}\r\n",
       "comp usage \"p: Part\" as E4  <<(T,blue)part>> {\r\n",
       "}\r\n",
       "comp usage \"act: Action\" as E5  <<(T,blue)action>> {\r\n",
       "}\r\n",
       "comp def \"S\" as E6  <<(T,blue)state def>> {\r\n",
       "- -performActions- -\r\n",
       ">act: Action <s>State::exitAction</s>\r\n",
       ">A: Performance <s>State::entryAction</s>\r\n",
       ">B: Action <s>State::doAction</s>\r\n",
       "- -states- -\r\n",
       "S1: State\r\n",
       "- -transitions- -\r\n",
       "T: Transition\r\n",
       "}\r\n",
       "comp usage \"S2: State\" as E11  <<(T,blue)state>> {\r\n",
       "}\r\n",
       "comp usage \"doAction: TransferAction\" as E12  <<(T,blue)sendAction>> {\r\n",
       "- -itemFeatures- -\r\n",
       ">item: Anything <s>Transfer::item</s>\r\n",
       "}\r\n",
       "E6 *- - E11\r\n",
       "E11 o- - E12\r\n",
       "}\r\n",
       "@enduml\r\n",
       "\n",
       "PlantUML version 1.2020.13(Sat Jun 13 12:26:38 UTC 2020)\n",
       "(EPL source distribution)\n",
       "Java Runtime: OpenJDK Runtime Environment\n",
       "JVM: OpenJDK 64-Bit Server VM\n",
       "Default Encoding: UTF-8\n",
       "Language: en\n",
       "Country: null\n",
       "--></g></svg>"
      ]
     },
     "execution_count": 28,
     "metadata": {},
     "output_type": "execute_result"
    }
   ],
   "source": [
    "%viz --style=\"STDCOLOR\" --view=\"Sequence\" \"StateTest\""
   ]
  },
  {
   "cell_type": "code",
   "execution_count": 29,
   "id": "ready-atlanta",
   "metadata": {
    "execution": {
     "iopub.execute_input": "2021-03-26T09:42:46.790090Z",
     "iopub.status.busy": "2021-03-26T09:42:46.789763Z",
     "iopub.status.idle": "2021-03-26T09:42:46.834704Z",
     "shell.execute_reply": "2021-03-26T09:42:46.833544Z"
    }
   },
   "outputs": [
    {
     "data": {
      "image/svg+xml": [
       "<?xml version=\"1.0\" encoding=\"UTF-8\" standalone=\"no\"?><svg xmlns=\"http://www.w3.org/2000/svg\" xmlns:xlink=\"http://www.w3.org/1999/xlink\" contentScriptType=\"application/ecmascript\" contentStyleType=\"text/css\" height=\"557px\" preserveAspectRatio=\"none\" style=\"width:815px;height:557px;\" version=\"1.1\" viewBox=\"0 0 815 557\" width=\"815px\" zoomAndPan=\"magnify\"><defs><filter height=\"300%\" id=\"f1ishnq1qcdwlz\" width=\"300%\" x=\"-1\" y=\"-1\"><feGaussianBlur result=\"blurOut\" stdDeviation=\"2.0\"/><feColorMatrix in=\"blurOut\" result=\"blurOut2\" type=\"matrix\" values=\"0 0 0 0 0 0 0 0 0 0 0 0 0 0 0 0 0 0 .4 0\"/><feOffset dx=\"4.0\" dy=\"4.0\" in=\"blurOut2\" result=\"blurOut3\"/><feBlend in=\"SourceGraphic\" in2=\"blurOut3\" mode=\"normal\"/></filter></defs><g><!--MD5=[fbc87193dbaf4d95561dea2c320d4a47]\n",
       "cluster E1--><polygon fill=\"#FFFFFF\" filter=\"url(#f1ishnq1qcdwlz)\" points=\"16,6,98,6,105,28.2969,793,28.2969,793,545.5,16,545.5,16,6\" style=\"stroke: #000000; stroke-width: 1.5;\"/><line style=\"stroke: #000000; stroke-width: 1.5;\" x1=\"16\" x2=\"105\" y1=\"28.2969\" y2=\"28.2969\"/><text fill=\"#000000\" font-family=\"sans-serif\" font-size=\"14\" font-weight=\"bold\" lengthAdjust=\"spacingAndGlyphs\" textLength=\"76\" x=\"20\" y=\"20.9951\">StateTest</text><!--MD5=[14e3b0961a2654348d326746436168a1]\n",
       "cluster E6--><rect fill=\"#FFFFFF\" filter=\"url(#f1ishnq1qcdwlz)\" height=\"472.5\" style=\"stroke: #000000; stroke-width: 1.5;\" width=\"327\" x=\"442\" y=\"49\"/><text fill=\"#000000\" font-family=\"sans-serif\" font-size=\"14\" font-weight=\"bold\" lengthAdjust=\"spacingAndGlyphs\" textLength=\"10\" x=\"600.5\" y=\"63.9951\">S</text><!--MD5=[b4997ac47864f28c2f74865a473b2911]\n",
       "class E2--><rect fill=\"#FEFECE\" filter=\"url(#f1ishnq1qcdwlz)\" height=\"58.7422\" id=\"E2\" style=\"stroke: #A80036; stroke-width: 1.5;\" width=\"95\" x=\"330.5\" y=\"111.5\"/><text fill=\"#000000\" font-family=\"sans-serif\" font-size=\"12\" font-style=\"italic\" lengthAdjust=\"spacingAndGlyphs\" textLength=\"93\" x=\"331.5\" y=\"127.6387\">«attribute def»</text><text fill=\"#000000\" font-family=\"sans-serif\" font-size=\"12\" lengthAdjust=\"spacingAndGlyphs\" textLength=\"19\" x=\"368.5\" y=\"141.6074\">Sig</text><line style=\"stroke: #A80036; stroke-width: 1.5;\" x1=\"331.5\" x2=\"424.5\" y1=\"149.4375\" y2=\"149.4375\"/><text fill=\"#000000\" font-family=\"sans-serif\" font-size=\"11\" lengthAdjust=\"spacingAndGlyphs\" textLength=\"71\" x=\"336.5\" y=\"163.6479\">x: DataValue</text><!--MD5=[09b614a08d8cba4a07c9adeb5e0fee81]\n",
       "class E3--><rect fill=\"#FEFECE\" filter=\"url(#f1ishnq1qcdwlz)\" height=\"45.9375\" id=\"E3\" style=\"stroke: #A80036; stroke-width: 1.5;\" width=\"95\" x=\"200.5\" y=\"118\"/><text fill=\"#000000\" font-family=\"sans-serif\" font-size=\"12\" font-style=\"italic\" lengthAdjust=\"spacingAndGlyphs\" textLength=\"93\" x=\"201.5\" y=\"134.1387\">«attribute def»</text><text fill=\"#000000\" font-family=\"sans-serif\" font-size=\"12\" lengthAdjust=\"spacingAndGlyphs\" textLength=\"22\" x=\"237\" y=\"148.1074\">Exit</text><line style=\"stroke: #A80036; stroke-width: 1.5;\" x1=\"201.5\" x2=\"294.5\" y1=\"155.9375\" y2=\"155.9375\"/><!--MD5=[ebbe1d658d1005bcc118a6aa81145e00]\n",
       "class E4--><rect fill=\"#FEFECE\" filter=\"url(#f1ishnq1qcdwlz)\" height=\"45.9375\" id=\"E4\" rx=\"10\" ry=\"10\" style=\"stroke: #A80036; stroke-width: 1.5;\" width=\"48\" x=\"117\" y=\"118\"/><text fill=\"#000000\" font-family=\"sans-serif\" font-size=\"12\" font-style=\"italic\" lengthAdjust=\"spacingAndGlyphs\" textLength=\"40\" x=\"121\" y=\"134.1387\">«part»</text><text fill=\"#000000\" font-family=\"sans-serif\" font-size=\"12\" lengthAdjust=\"spacingAndGlyphs\" textLength=\"42\" x=\"120\" y=\"148.1074\">p: Part</text><line style=\"stroke: #A80036; stroke-width: 1.5;\" x1=\"118\" x2=\"164\" y1=\"155.9375\" y2=\"155.9375\"/><g id=\"E1.E5\"><rect fill=\"#FFFFFF\" filter=\"url(#f1ishnq1qcdwlz)\" height=\"50\" rx=\"12.5\" ry=\"12.5\" style=\"stroke: #A80036; stroke-width: 1.5;\" width=\"50\" x=\"32\" y=\"116\"/><line style=\"stroke: #A80036; stroke-width: 1.5;\" x1=\"32\" x2=\"82\" y1=\"142.2969\" y2=\"142.2969\"/><text fill=\"#000000\" font-family=\"sans-serif\" font-size=\"14\" lengthAdjust=\"spacingAndGlyphs\" textLength=\"21\" x=\"46.5\" y=\"133.9951\">act</text></g><ellipse cx=\"554\" cy=\"141\" fill=\"#000000\" filter=\"url(#f1ishnq1qcdwlz)\" rx=\"10\" ry=\"10\" style=\"stroke: none; stroke-width: 1.0;\"/><ellipse cx=\"572\" cy=\"495.5\" fill=\"none\" filter=\"url(#f1ishnq1qcdwlz)\" rx=\"10\" ry=\"10\" style=\"stroke: #000000; stroke-width: 1.0;\"/><ellipse cx=\"572.5\" cy=\"496\" fill=\"#000000\" rx=\"6\" ry=\"6\" style=\"stroke: none; stroke-width: 1.0;\"/><g id=\"E1.E6.E7\"><rect fill=\"#FFFFFF\" filter=\"url(#f1ishnq1qcdwlz)\" height=\"50\" rx=\"12.5\" ry=\"12.5\" style=\"stroke: #A80036; stroke-width: 1.5;\" width=\"50\" x=\"529\" y=\"231.5\"/><line style=\"stroke: #A80036; stroke-width: 1.5;\" x1=\"529\" x2=\"579\" y1=\"257.7969\" y2=\"257.7969\"/><text fill=\"#000000\" font-family=\"sans-serif\" font-size=\"14\" lengthAdjust=\"spacingAndGlyphs\" textLength=\"18\" x=\"545\" y=\"249.4951\">S1</text></g><g id=\"E1.E6.E8\"><rect fill=\"#FFFFFF\" filter=\"url(#f1ishnq1qcdwlz)\" height=\"50.2656\" rx=\"12.5\" ry=\"12.5\" style=\"stroke: #A80036; stroke-width: 1.5;\" width=\"142\" x=\"501\" y=\"358.5\"/><line style=\"stroke: #A80036; stroke-width: 1.5;\" x1=\"501\" x2=\"643\" y1=\"384.7969\" y2=\"384.7969\"/><text fill=\"#000000\" font-family=\"sans-serif\" font-size=\"14\" lengthAdjust=\"spacingAndGlyphs\" textLength=\"18\" x=\"563\" y=\"376.4951\">S2</text><text fill=\"#000000\" font-family=\"sans-serif\" font-size=\"12\" font-weight=\"bold\" lengthAdjust=\"spacingAndGlyphs\" textLength=\"18\" x=\"506\" y=\"400.9355\">do</text><text fill=\"#000000\" font-family=\"sans-serif\" font-size=\"12\" lengthAdjust=\"spacingAndGlyphs\" textLength=\"104\" x=\"524\" y=\"400.9355\">/ transferActions</text></g><!--MD5=[5a531d3a85f3339e6e197084acb48195]\n",
       "link *start*E6 to E7--><path d=\"M554,151.29 C554,167.4 554,201.18 554,225.93 \" fill=\"none\" id=\"*start*E6-&gt;E7\" style=\"stroke: #A80036; stroke-width: 1.0;\"/><polygon fill=\"#A80036\" points=\"554,231.07,558,222.07,554,226.07,550,222.07,554,231.07\" style=\"stroke: #A80036; stroke-width: 1.0;\"/><!--MD5=[7ec9a8babba89ddcae1318ca9fb3c814]\n",
       "link E8 to *end*E6--><path d=\"M572,408.64 C572,430.53 572,462.07 572,480.21 \" fill=\"none\" id=\"E8-&gt;*end*E6\" style=\"stroke: #A80036; stroke-width: 1.0;\"/><polygon fill=\"#A80036\" points=\"572,485.38,576,476.38,572,480.38,568,476.38,572,485.38\" style=\"stroke: #A80036; stroke-width: 1.0;\"/><text fill=\"#000000\" font-family=\"sans-serif\" font-size=\"13\" lengthAdjust=\"spacingAndGlyphs\" textLength=\"23\" x=\"573\" y=\"451.5669\">Exit</text><!--MD5=[79bc8f324ef4d02c541433f2e6e513c3]\n",
       "link E7 to E8--><path d=\"M528.86,269.86 C505.91,282.96 477.33,304.98 490,328.5 C495.73,339.14 504.57,348.02 514.37,355.31 \" fill=\"none\" id=\"E7-&gt;E8\" style=\"stroke: #A80036; stroke-width: 1.0;\"/><polygon fill=\"#A80036\" points=\"518.61,358.34,513.6001,349.8606,514.5375,355.4392,508.9588,356.3766,518.61,358.34\" style=\"stroke: #A80036; stroke-width: 1.0;\"/><text fill=\"#000000\" font-family=\"sans-serif\" font-size=\"13\" lengthAdjust=\"spacingAndGlyphs\" textLength=\"81\" x=\"491\" y=\"324.5669\">Sig /action D</text><!--MD5=[bfa3c8b0d15052fdf50ae9310b491027]\n",
       "link E8 to E7--><path d=\"M576.92,358.3 C578.93,344.47 580.14,326.88 577,311.5 C575.28,303.07 572.19,294.32 568.82,286.38 \" fill=\"none\" id=\"E8-&gt;E7\" style=\"stroke: #A80036; stroke-width: 1.0;\"/><polygon fill=\"#A80036\" points=\"566.7,281.56,566.6685,291.4088,568.7161,286.1355,573.9894,288.1831,566.7,281.56\" style=\"stroke: #A80036; stroke-width: 1.0;\"/><text fill=\"#000000\" font-family=\"sans-serif\" font-size=\"13\" lengthAdjust=\"spacingAndGlyphs\" textLength=\"135\" x=\"579\" y=\"324.5669\">Sig [true]/send s to p</text><!--MD5=[0f586b07bad4ec8e98fa20efedfd599a]\n",
       "@startuml\r\n",
       "skinparam wrapWidth 300\r\n",
       "hide circle\r\n",
       "\r\n",
       "package \"StateTest\" as E1   {\r\n",
       "comp def \"Sig\" as E2  <<(T,blue)attribute def>> {\r\n",
       "x: DataValue\r\n",
       "}\r\n",
       "comp def \"Exit\" as E3  <<(T,blue)attribute def>> {\r\n",
       "}\r\n",
       "comp usage \"p: Part\" as E4  <<(T,blue)part>> {\r\n",
       "}\r\n",
       "rec usage \"act\" as E5 {\r\n",
       "}\r\n",
       "\r\n",
       "rec def \"S\" as E6 {\r\n",
       "rec usage \"S1\" as E7 {\r\n",
       "}\r\n",
       "\r\n",
       "rec usage \"S2\" as E8 {\r\n",
       "desc \"S2\" as E8  : **do**/ transferActions \r\n",
       "}\r\n",
       "\r\n",
       "[*] - -> E7\r\n",
       "E8  - -> [*] : Exit \r\n",
       "desc \"S\" as E6  : **entry**/ A\r\n",
       "desc \"S\" as E6  : **do**/ B\r\n",
       "desc \"S\" as E6  : **exit**/ act \r\n",
       "}\r\n",
       "\r\n",
       "E7  - -> E8 : Sig /action D\r\n",
       "E8  - -> E7 : Sig [true]/send s to p\r\n",
       "}\r\n",
       "@enduml\r\n",
       "\n",
       "PlantUML version 1.2020.13(Sat Jun 13 12:26:38 UTC 2020)\n",
       "(EPL source distribution)\n",
       "Java Runtime: OpenJDK Runtime Environment\n",
       "JVM: OpenJDK 64-Bit Server VM\n",
       "Default Encoding: UTF-8\n",
       "Language: en\n",
       "Country: null\n",
       "--></g></svg>"
      ]
     },
     "execution_count": 29,
     "metadata": {},
     "output_type": "execute_result"
    }
   ],
   "source": [
    "%viz --style=\"STDCOLOR\" --view=\"MIXED\" \"StateTest\""
   ]
  },
  {
   "cell_type": "code",
   "execution_count": 30,
   "id": "frozen-desperate",
   "metadata": {
    "execution": {
     "iopub.execute_input": "2021-03-26T09:42:46.886487Z",
     "iopub.status.busy": "2021-03-26T09:42:46.885954Z",
     "iopub.status.idle": "2021-03-26T09:42:46.942027Z",
     "shell.execute_reply": "2021-03-26T09:42:46.940759Z"
    }
   },
   "outputs": [
    {
     "data": {
      "image/svg+xml": [
       "<?xml version=\"1.0\" encoding=\"UTF-8\" standalone=\"no\"?><svg xmlns=\"http://www.w3.org/2000/svg\" xmlns:xlink=\"http://www.w3.org/1999/xlink\" contentScriptType=\"application/ecmascript\" contentStyleType=\"text/css\" height=\"557px\" preserveAspectRatio=\"none\" style=\"width:893px;height:557px;\" version=\"1.1\" viewBox=\"0 0 893 557\" width=\"893px\" zoomAndPan=\"magnify\"><defs><filter height=\"300%\" id=\"fh94l8v8td7yo\" width=\"300%\" x=\"-1\" y=\"-1\"><feGaussianBlur result=\"blurOut\" stdDeviation=\"2.0\"/><feColorMatrix in=\"blurOut\" result=\"blurOut2\" type=\"matrix\" values=\"0 0 0 0 0 0 0 0 0 0 0 0 0 0 0 0 0 0 .4 0\"/><feOffset dx=\"4.0\" dy=\"4.0\" in=\"blurOut2\" result=\"blurOut3\"/><feBlend in=\"SourceGraphic\" in2=\"blurOut3\" mode=\"normal\"/></filter></defs><g><!--MD5=[fbc87193dbaf4d95561dea2c320d4a47]\n",
       "cluster E1--><polygon fill=\"#FFFFFF\" filter=\"url(#fh94l8v8td7yo)\" points=\"16,6,98,6,105,28.2969,871,28.2969,871,545.5,16,545.5,16,6\" style=\"stroke: #000000; stroke-width: 1.5;\"/><line style=\"stroke: #000000; stroke-width: 1.5;\" x1=\"16\" x2=\"105\" y1=\"28.2969\" y2=\"28.2969\"/><text fill=\"#000000\" font-family=\"sans-serif\" font-size=\"14\" font-weight=\"bold\" lengthAdjust=\"spacingAndGlyphs\" textLength=\"76\" x=\"20\" y=\"20.9951\">StateTest</text><!--MD5=[14e3b0961a2654348d326746436168a1]\n",
       "cluster E6--><rect fill=\"#FFFFFF\" filter=\"url(#fh94l8v8td7yo)\" height=\"472.5\" style=\"stroke: #000000; stroke-width: 1.5;\" width=\"327\" x=\"520\" y=\"49\"/><text fill=\"#000000\" font-family=\"sans-serif\" font-size=\"14\" font-weight=\"bold\" lengthAdjust=\"spacingAndGlyphs\" textLength=\"10\" x=\"678.5\" y=\"63.9951\">S</text><!--MD5=[b4997ac47864f28c2f74865a473b2911]\n",
       "class E2--><rect fill=\"#FEFECE\" filter=\"url(#fh94l8v8td7yo)\" height=\"58.7422\" id=\"E2\" style=\"stroke: #A80036; stroke-width: 1.5;\" width=\"121\" x=\"382.5\" y=\"111.5\"/><ellipse cx=\"397.5\" cy=\"130.4688\" fill=\"#A52A2A\" rx=\"11\" ry=\"11\" style=\"stroke: #A80036; stroke-width: 1.0;\"/><path d=\"M397.0938,126.2813 L397.0938,134.2656 L397.75,134.2656 Q399.1875,134.2656 399.7969,133.3594 Q400.4219,132.4375 400.4219,130.2656 Q400.4219,128.0938 399.7969,127.1875 Q399.1875,126.2813 397.75,126.2813 L397.0938,126.2813 Z M394.6406,124.0781 L397.2656,124.0781 Q400.2969,124.0781 401.625,125.5313 Q402.9688,126.9688 402.9688,130.2656 Q402.9688,133.5625 401.625,135.0156 Q400.2969,136.4688 397.2656,136.4688 L394.6406,136.4688 L394.6406,124.0781 Z \"/><text fill=\"#000000\" font-family=\"sans-serif\" font-size=\"12\" font-style=\"italic\" lengthAdjust=\"spacingAndGlyphs\" textLength=\"93\" x=\"409.5\" y=\"127.6387\">«attribute def»</text><text fill=\"#000000\" font-family=\"sans-serif\" font-size=\"12\" lengthAdjust=\"spacingAndGlyphs\" textLength=\"19\" x=\"446.5\" y=\"141.6074\">Sig</text><line style=\"stroke: #A80036; stroke-width: 1.5;\" x1=\"383.5\" x2=\"502.5\" y1=\"149.4375\" y2=\"149.4375\"/><text fill=\"#000000\" font-family=\"sans-serif\" font-size=\"11\" lengthAdjust=\"spacingAndGlyphs\" textLength=\"71\" x=\"388.5\" y=\"163.6479\">x: DataValue</text><!--MD5=[09b614a08d8cba4a07c9adeb5e0fee81]\n",
       "class E3--><rect fill=\"#FEFECE\" filter=\"url(#fh94l8v8td7yo)\" height=\"45.9375\" id=\"E3\" style=\"stroke: #A80036; stroke-width: 1.5;\" width=\"121\" x=\"226.5\" y=\"118\"/><ellipse cx=\"241.5\" cy=\"136.9688\" fill=\"#A52A2A\" rx=\"11\" ry=\"11\" style=\"stroke: #A80036; stroke-width: 1.0;\"/><path d=\"M241.0938,132.7813 L241.0938,140.7656 L241.75,140.7656 Q243.1875,140.7656 243.7969,139.8594 Q244.4219,138.9375 244.4219,136.7656 Q244.4219,134.5938 243.7969,133.6875 Q243.1875,132.7813 241.75,132.7813 L241.0938,132.7813 Z M238.6406,130.5781 L241.2656,130.5781 Q244.2969,130.5781 245.625,132.0313 Q246.9688,133.4688 246.9688,136.7656 Q246.9688,140.0625 245.625,141.5156 Q244.2969,142.9688 241.2656,142.9688 L238.6406,142.9688 L238.6406,130.5781 Z \"/><text fill=\"#000000\" font-family=\"sans-serif\" font-size=\"12\" font-style=\"italic\" lengthAdjust=\"spacingAndGlyphs\" textLength=\"93\" x=\"253.5\" y=\"134.1387\">«attribute def»</text><text fill=\"#000000\" font-family=\"sans-serif\" font-size=\"12\" lengthAdjust=\"spacingAndGlyphs\" textLength=\"22\" x=\"289\" y=\"148.1074\">Exit</text><line style=\"stroke: #A80036; stroke-width: 1.5;\" x1=\"227.5\" x2=\"346.5\" y1=\"155.9375\" y2=\"155.9375\"/><!--MD5=[ebbe1d658d1005bcc118a6aa81145e00]\n",
       "class E4--><rect fill=\"#FEFECE\" filter=\"url(#fh94l8v8td7yo)\" height=\"45.9375\" id=\"E4\" rx=\"10\" ry=\"10\" style=\"stroke: #A80036; stroke-width: 1.5;\" width=\"74\" x=\"117\" y=\"118\"/><ellipse cx=\"132\" cy=\"136.9688\" fill=\"#32CD32\" rx=\"11\" ry=\"11\" style=\"stroke: #A80036; stroke-width: 1.0;\"/><path d=\"M131.7969,132.6406 L131.7969,136.2656 L132.7969,136.2656 Q134,136.2656 134.4844,135.8594 Q134.9688,135.4531 134.9688,134.4531 Q134.9688,133.4531 134.4844,133.0469 Q134,132.6406 132.7969,132.6406 L131.7969,132.6406 Z M129.3438,130.5781 L132.7031,130.5781 Q135.2656,130.5781 136.3906,131.5 Q137.5156,132.4063 137.5156,134.4531 Q137.5156,136.5 136.3906,137.4219 Q135.2656,138.3281 132.7031,138.3281 L131.7969,138.3281 L131.7969,142.9688 L129.3438,142.9688 L129.3438,130.5781 Z \"/><text fill=\"#000000\" font-family=\"sans-serif\" font-size=\"12\" font-style=\"italic\" lengthAdjust=\"spacingAndGlyphs\" textLength=\"40\" x=\"147\" y=\"134.1387\">«part»</text><text fill=\"#000000\" font-family=\"sans-serif\" font-size=\"12\" lengthAdjust=\"spacingAndGlyphs\" textLength=\"42\" x=\"146\" y=\"148.1074\">p: Part</text><line style=\"stroke: #A80036; stroke-width: 1.5;\" x1=\"118\" x2=\"190\" y1=\"155.9375\" y2=\"155.9375\"/><g id=\"E1.E5\"><rect fill=\"#FFFFFF\" filter=\"url(#fh94l8v8td7yo)\" height=\"50\" rx=\"12.5\" ry=\"12.5\" style=\"stroke: #A80036; stroke-width: 1.5;\" width=\"50\" x=\"32\" y=\"116\"/><line style=\"stroke: #A80036; stroke-width: 1.5;\" x1=\"32\" x2=\"82\" y1=\"142.2969\" y2=\"142.2969\"/><text fill=\"#000000\" font-family=\"sans-serif\" font-size=\"14\" lengthAdjust=\"spacingAndGlyphs\" textLength=\"21\" x=\"46.5\" y=\"133.9951\">act</text></g><ellipse cx=\"632\" cy=\"141\" fill=\"#000000\" filter=\"url(#fh94l8v8td7yo)\" rx=\"10\" ry=\"10\" style=\"stroke: none; stroke-width: 1.0;\"/><ellipse cx=\"650\" cy=\"495.5\" fill=\"none\" filter=\"url(#fh94l8v8td7yo)\" rx=\"10\" ry=\"10\" style=\"stroke: #000000; stroke-width: 1.0;\"/><ellipse cx=\"650.5\" cy=\"496\" fill=\"#000000\" rx=\"6\" ry=\"6\" style=\"stroke: none; stroke-width: 1.0;\"/><g id=\"E1.E6.E7\"><rect fill=\"#FFFFFF\" filter=\"url(#fh94l8v8td7yo)\" height=\"50\" rx=\"12.5\" ry=\"12.5\" style=\"stroke: #A80036; stroke-width: 1.5;\" width=\"50\" x=\"607\" y=\"231.5\"/><line style=\"stroke: #A80036; stroke-width: 1.5;\" x1=\"607\" x2=\"657\" y1=\"257.7969\" y2=\"257.7969\"/><text fill=\"#000000\" font-family=\"sans-serif\" font-size=\"14\" lengthAdjust=\"spacingAndGlyphs\" textLength=\"18\" x=\"623\" y=\"249.4951\">S1</text></g><g id=\"E1.E6.E8\"><rect fill=\"#FFFFFF\" filter=\"url(#fh94l8v8td7yo)\" height=\"50.2656\" rx=\"12.5\" ry=\"12.5\" style=\"stroke: #A80036; stroke-width: 1.5;\" width=\"142\" x=\"579\" y=\"358.5\"/><line style=\"stroke: #A80036; stroke-width: 1.5;\" x1=\"579\" x2=\"721\" y1=\"384.7969\" y2=\"384.7969\"/><text fill=\"#000000\" font-family=\"sans-serif\" font-size=\"14\" lengthAdjust=\"spacingAndGlyphs\" textLength=\"18\" x=\"641\" y=\"376.4951\">S2</text><text fill=\"#000000\" font-family=\"sans-serif\" font-size=\"12\" font-weight=\"bold\" lengthAdjust=\"spacingAndGlyphs\" textLength=\"18\" x=\"584\" y=\"400.9355\">do</text><text fill=\"#000000\" font-family=\"sans-serif\" font-size=\"12\" lengthAdjust=\"spacingAndGlyphs\" textLength=\"104\" x=\"602\" y=\"400.9355\">/ transferActions</text></g><!--MD5=[5a531d3a85f3339e6e197084acb48195]\n",
       "link *start*E6 to E7--><path d=\"M632,151.29 C632,167.4 632,201.18 632,225.93 \" fill=\"none\" id=\"*start*E6-&gt;E7\" style=\"stroke: #A80036; stroke-width: 1.0;\"/><polygon fill=\"#A80036\" points=\"632,231.07,636,222.07,632,226.07,628,222.07,632,231.07\" style=\"stroke: #A80036; stroke-width: 1.0;\"/><!--MD5=[7ec9a8babba89ddcae1318ca9fb3c814]\n",
       "link E8 to *end*E6--><path d=\"M650,408.64 C650,430.53 650,462.07 650,480.21 \" fill=\"none\" id=\"E8-&gt;*end*E6\" style=\"stroke: #A80036; stroke-width: 1.0;\"/><polygon fill=\"#A80036\" points=\"650,485.38,654,476.38,650,480.38,646,476.38,650,485.38\" style=\"stroke: #A80036; stroke-width: 1.0;\"/><text fill=\"#000000\" font-family=\"sans-serif\" font-size=\"13\" lengthAdjust=\"spacingAndGlyphs\" textLength=\"23\" x=\"651\" y=\"451.5669\">Exit</text><!--MD5=[79bc8f324ef4d02c541433f2e6e513c3]\n",
       "link E7 to E8--><path d=\"M606.86,269.86 C583.91,282.96 555.33,304.98 568,328.5 C573.73,339.14 582.57,348.02 592.37,355.31 \" fill=\"none\" id=\"E7-&gt;E8\" style=\"stroke: #A80036; stroke-width: 1.0;\"/><polygon fill=\"#A80036\" points=\"596.61,358.34,591.6001,349.8606,592.5375,355.4392,586.9588,356.3766,596.61,358.34\" style=\"stroke: #A80036; stroke-width: 1.0;\"/><text fill=\"#000000\" font-family=\"sans-serif\" font-size=\"13\" lengthAdjust=\"spacingAndGlyphs\" textLength=\"81\" x=\"569\" y=\"324.5669\">Sig /action D</text><!--MD5=[bfa3c8b0d15052fdf50ae9310b491027]\n",
       "link E8 to E7--><path d=\"M654.92,358.3 C656.93,344.47 658.14,326.88 655,311.5 C653.28,303.07 650.19,294.32 646.82,286.38 \" fill=\"none\" id=\"E8-&gt;E7\" style=\"stroke: #A80036; stroke-width: 1.0;\"/><polygon fill=\"#A80036\" points=\"644.7,281.56,644.6685,291.4088,646.7161,286.1355,651.9894,288.1831,644.7,281.56\" style=\"stroke: #A80036; stroke-width: 1.0;\"/><text fill=\"#000000\" font-family=\"sans-serif\" font-size=\"13\" lengthAdjust=\"spacingAndGlyphs\" textLength=\"135\" x=\"657\" y=\"324.5669\">Sig [true]/send s to p</text><!--MD5=[305c67bef3df6aec6d2d186d62df3e4a]\n",
       "@startuml\r\n",
       " \r\n",
       "package \"StateTest\" as E1   {\r\n",
       "comp def \"Sig\" as E2  <<(D,brown)attribute def>> {\r\n",
       "x: DataValue\r\n",
       "}\r\n",
       "comp def \"Exit\" as E3  <<(D,brown)attribute def>> {\r\n",
       "}\r\n",
       "comp usage \"p: Part\" as E4  << (P,limegreen) part>> {\r\n",
       "}\r\n",
       "rec usage \"act\" as E5 {\r\n",
       "}\r\n",
       "\r\n",
       "rec def \"S\" as E6 {\r\n",
       "rec usage \"S1\" as E7 {\r\n",
       "}\r\n",
       "\r\n",
       "rec usage \"S2\" as E8 {\r\n",
       "desc \"S2\" as E8  : **do**/ transferActions \r\n",
       "}\r\n",
       "\r\n",
       "[*] - -> E7\r\n",
       "E8  - -> [*] : Exit \r\n",
       "desc \"S\" as E6  : **entry**/ A\r\n",
       "desc \"S\" as E6  : **do**/ B\r\n",
       "desc \"S\" as E6  : **exit**/ act \r\n",
       "}\r\n",
       "\r\n",
       "E7  - -> E8 : Sig /action D\r\n",
       "E8  - -> E7 : Sig [true]/send s to p\r\n",
       "}\r\n",
       "@enduml\r\n",
       "\n",
       "PlantUML version 1.2020.13(Sat Jun 13 12:26:38 UTC 2020)\n",
       "(EPL source distribution)\n",
       "Java Runtime: OpenJDK Runtime Environment\n",
       "JVM: OpenJDK 64-Bit Server VM\n",
       "Default Encoding: UTF-8\n",
       "Language: en\n",
       "Country: null\n",
       "--></g></svg>"
      ]
     },
     "execution_count": 30,
     "metadata": {},
     "output_type": "execute_result"
    }
   ],
   "source": [
    "%viz --style=\"PLANTUML\" --view=\"Default\" \"StateTest\""
   ]
  },
  {
   "cell_type": "code",
   "execution_count": 31,
   "id": "addressed-extra",
   "metadata": {
    "execution": {
     "iopub.execute_input": "2021-03-26T09:42:46.993499Z",
     "iopub.status.busy": "2021-03-26T09:42:46.993011Z",
     "iopub.status.idle": "2021-03-26T09:42:47.196912Z",
     "shell.execute_reply": "2021-03-26T09:42:47.197315Z"
    }
   },
   "outputs": [
    {
     "data": {
      "image/svg+xml": [
       "<?xml version=\"1.0\" encoding=\"UTF-8\" standalone=\"no\"?><svg xmlns=\"http://www.w3.org/2000/svg\" xmlns:xlink=\"http://www.w3.org/1999/xlink\" contentScriptType=\"application/ecmascript\" contentStyleType=\"text/css\" height=\"522px\" preserveAspectRatio=\"none\" style=\"width:762px;height:522px;\" version=\"1.1\" viewBox=\"0 0 762 522\" width=\"762px\" zoomAndPan=\"magnify\"><defs><filter height=\"300%\" id=\"f1jcqc2368sphb\" width=\"300%\" x=\"-1\" y=\"-1\"><feGaussianBlur result=\"blurOut\" stdDeviation=\"2.0\"/><feColorMatrix in=\"blurOut\" result=\"blurOut2\" type=\"matrix\" values=\"0 0 0 0 0 0 0 0 0 0 0 0 0 0 0 0 0 0 .4 0\"/><feOffset dx=\"4.0\" dy=\"4.0\" in=\"blurOut2\" result=\"blurOut3\"/><feBlend in=\"SourceGraphic\" in2=\"blurOut3\" mode=\"normal\"/></filter></defs><g><!--MD5=[fbc87193dbaf4d95561dea2c320d4a47]\n",
       "cluster E1--><polygon fill=\"#FFFFFF\" filter=\"url(#f1jcqc2368sphb)\" points=\"16,6,98,6,105,28.2969,740,28.2969,740,510,16,510,16,6\" style=\"stroke: #000000; stroke-width: 1.5;\"/><line style=\"stroke: #000000; stroke-width: 1.5;\" x1=\"16\" x2=\"105\" y1=\"28.2969\" y2=\"28.2969\"/><text fill=\"#000000\" font-family=\"sans-serif\" font-size=\"14\" font-weight=\"bold\" lengthAdjust=\"spacingAndGlyphs\" textLength=\"76\" x=\"20\" y=\"20.9951\">StateTest</text><!--MD5=[b4997ac47864f28c2f74865a473b2911]\n",
       "class E2--><rect fill=\"#FEFECE\" filter=\"url(#f1jcqc2368sphb)\" height=\"58.7422\" id=\"E2\" style=\"stroke: #A80036; stroke-width: 1.5;\" width=\"121\" x=\"602.5\" y=\"111\"/><ellipse cx=\"617.5\" cy=\"129.9688\" fill=\"#A52A2A\" rx=\"11\" ry=\"11\" style=\"stroke: #A80036; stroke-width: 1.0;\"/><path d=\"M617.0938,125.7813 L617.0938,133.7656 L617.75,133.7656 Q619.1875,133.7656 619.7969,132.8594 Q620.4219,131.9375 620.4219,129.7656 Q620.4219,127.5938 619.7969,126.6875 Q619.1875,125.7813 617.75,125.7813 L617.0938,125.7813 Z M614.6406,123.5781 L617.2656,123.5781 Q620.2969,123.5781 621.625,125.0313 Q622.9688,126.4688 622.9688,129.7656 Q622.9688,133.0625 621.625,134.5156 Q620.2969,135.9688 617.2656,135.9688 L614.6406,135.9688 L614.6406,123.5781 Z \"/><text fill=\"#000000\" font-family=\"sans-serif\" font-size=\"12\" font-style=\"italic\" lengthAdjust=\"spacingAndGlyphs\" textLength=\"93\" x=\"629.5\" y=\"127.1387\">«attribute def»</text><text fill=\"#000000\" font-family=\"sans-serif\" font-size=\"12\" lengthAdjust=\"spacingAndGlyphs\" textLength=\"19\" x=\"666.5\" y=\"141.1074\">Sig</text><line style=\"stroke: #A80036; stroke-width: 1.5;\" x1=\"603.5\" x2=\"722.5\" y1=\"148.9375\" y2=\"148.9375\"/><text fill=\"#000000\" font-family=\"sans-serif\" font-size=\"11\" lengthAdjust=\"spacingAndGlyphs\" textLength=\"71\" x=\"608.5\" y=\"163.1479\">x: DataValue</text><!--MD5=[09b614a08d8cba4a07c9adeb5e0fee81]\n",
       "class E3--><rect fill=\"#FEFECE\" filter=\"url(#f1jcqc2368sphb)\" height=\"45.9375\" id=\"E3\" style=\"stroke: #A80036; stroke-width: 1.5;\" width=\"121\" x=\"446.5\" y=\"117.5\"/><ellipse cx=\"461.5\" cy=\"136.4688\" fill=\"#A52A2A\" rx=\"11\" ry=\"11\" style=\"stroke: #A80036; stroke-width: 1.0;\"/><path d=\"M461.0938,132.2813 L461.0938,140.2656 L461.75,140.2656 Q463.1875,140.2656 463.7969,139.3594 Q464.4219,138.4375 464.4219,136.2656 Q464.4219,134.0938 463.7969,133.1875 Q463.1875,132.2813 461.75,132.2813 L461.0938,132.2813 Z M458.6406,130.0781 L461.2656,130.0781 Q464.2969,130.0781 465.625,131.5313 Q466.9688,132.9688 466.9688,136.2656 Q466.9688,139.5625 465.625,141.0156 Q464.2969,142.4688 461.2656,142.4688 L458.6406,142.4688 L458.6406,130.0781 Z \"/><text fill=\"#000000\" font-family=\"sans-serif\" font-size=\"12\" font-style=\"italic\" lengthAdjust=\"spacingAndGlyphs\" textLength=\"93\" x=\"473.5\" y=\"133.6387\">«attribute def»</text><text fill=\"#000000\" font-family=\"sans-serif\" font-size=\"12\" lengthAdjust=\"spacingAndGlyphs\" textLength=\"22\" x=\"509\" y=\"147.6074\">Exit</text><line style=\"stroke: #A80036; stroke-width: 1.5;\" x1=\"447.5\" x2=\"566.5\" y1=\"155.4375\" y2=\"155.4375\"/><!--MD5=[ebbe1d658d1005bcc118a6aa81145e00]\n",
       "class E4--><rect fill=\"#FEFECE\" filter=\"url(#f1jcqc2368sphb)\" height=\"45.9375\" id=\"E4\" rx=\"10\" ry=\"10\" style=\"stroke: #A80036; stroke-width: 1.5;\" width=\"74\" x=\"337\" y=\"117.5\"/><ellipse cx=\"352\" cy=\"136.4688\" fill=\"#32CD32\" rx=\"11\" ry=\"11\" style=\"stroke: #A80036; stroke-width: 1.0;\"/><path d=\"M351.7969,132.1406 L351.7969,135.7656 L352.7969,135.7656 Q354,135.7656 354.4844,135.3594 Q354.9688,134.9531 354.9688,133.9531 Q354.9688,132.9531 354.4844,132.5469 Q354,132.1406 352.7969,132.1406 L351.7969,132.1406 Z M349.3438,130.0781 L352.7031,130.0781 Q355.2656,130.0781 356.3906,131 Q357.5156,131.9063 357.5156,133.9531 Q357.5156,136 356.3906,136.9219 Q355.2656,137.8281 352.7031,137.8281 L351.7969,137.8281 L351.7969,142.4688 L349.3438,142.4688 L349.3438,130.0781 Z \"/><text fill=\"#000000\" font-family=\"sans-serif\" font-size=\"12\" font-style=\"italic\" lengthAdjust=\"spacingAndGlyphs\" textLength=\"40\" x=\"367\" y=\"133.6387\">«part»</text><text fill=\"#000000\" font-family=\"sans-serif\" font-size=\"12\" lengthAdjust=\"spacingAndGlyphs\" textLength=\"42\" x=\"366\" y=\"147.6074\">p: Part</text><line style=\"stroke: #A80036; stroke-width: 1.5;\" x1=\"338\" x2=\"410\" y1=\"155.4375\" y2=\"155.4375\"/><!--MD5=[270fce915f116d4de14055a7c1d9a0f3]\n",
       "class E5--><rect fill=\"#FEFECE\" filter=\"url(#f1jcqc2368sphb)\" height=\"45.9375\" id=\"E5\" rx=\"10\" ry=\"10\" style=\"stroke: #A80036; stroke-width: 1.5;\" width=\"99\" x=\"202.5\" y=\"117.5\"/><ellipse cx=\"217.5\" cy=\"136.4688\" fill=\"#FFA500\" rx=\"11\" ry=\"11\" style=\"stroke: #A80036; stroke-width: 1.0;\"/><path d=\"M213.375,138.3906 L213.375,130.5781 L215.8281,130.5781 L215.8281,139.0156 Q215.8281,139.9375 216.2969,140.4688 Q216.7813,141 217.6094,141 Q218.4531,141 218.9219,140.4688 Q219.3906,139.9375 219.3906,139.0156 L219.3906,130.5781 L221.8438,130.5781 L221.8438,138.3906 Q221.8438,140.9219 220.8438,142.0625 Q219.8438,143.2031 217.6094,143.2031 Q215.3906,143.2031 214.375,142.0625 Q213.375,140.9219 213.375,138.3906 Z \"/><text fill=\"#000000\" font-family=\"sans-serif\" font-size=\"12\" font-style=\"italic\" lengthAdjust=\"spacingAndGlyphs\" textLength=\"53\" x=\"238.5\" y=\"133.6387\">«action»</text><text fill=\"#000000\" font-family=\"sans-serif\" font-size=\"12\" lengthAdjust=\"spacingAndGlyphs\" textLength=\"67\" x=\"231.5\" y=\"147.6074\">act: Action</text><line style=\"stroke: #A80036; stroke-width: 1.5;\" x1=\"203.5\" x2=\"300.5\" y1=\"155.4375\" y2=\"155.4375\"/><!--MD5=[60a26617385b1d2d0262a64233df1f8d]\n",
       "class E6--><rect fill=\"#FEFECE\" filter=\"url(#f1jcqc2368sphb)\" height=\"198.7891\" id=\"E6\" style=\"stroke: #A80036; stroke-width: 1.5;\" width=\"135\" x=\"32.5\" y=\"41\"/><ellipse cx=\"63.7\" cy=\"59.9688\" fill=\"#A52A2A\" rx=\"11\" ry=\"11\" style=\"stroke: #A80036; stroke-width: 1.0;\"/><path d=\"M63.2938,55.7813 L63.2938,63.7656 L63.95,63.7656 Q65.3875,63.7656 65.9969,62.8594 Q66.6219,61.9375 66.6219,59.7656 Q66.6219,57.5938 65.9969,56.6875 Q65.3875,55.7813 63.95,55.7813 L63.2938,55.7813 Z M60.8406,53.5781 L63.4656,53.5781 Q66.4969,53.5781 67.825,55.0313 Q69.1688,56.4688 69.1688,59.7656 Q69.1688,63.0625 67.825,64.5156 Q66.4969,65.9688 63.4656,65.9688 L60.8406,65.9688 L60.8406,53.5781 Z \"/><text fill=\"#000000\" font-family=\"sans-serif\" font-size=\"12\" font-style=\"italic\" lengthAdjust=\"spacingAndGlyphs\" textLength=\"71\" x=\"79.3\" y=\"57.1387\">«state def»</text><text fill=\"#000000\" font-family=\"sans-serif\" font-size=\"12\" lengthAdjust=\"spacingAndGlyphs\" textLength=\"8\" x=\"110.8\" y=\"71.1074\">S</text><line style=\"stroke: #A80036; stroke-width: 1.5;\" x1=\"33.5\" x2=\"166.5\" y1=\"78.9375\" y2=\"78.9375\"/><text fill=\"#000000\" font-family=\"sans-serif\" font-size=\"11\" lengthAdjust=\"spacingAndGlyphs\" textLength=\"59\" x=\"38.5\" y=\"109.9526\">act: Action</text><text fill=\"#000000\" font-family=\"sans-serif\" font-size=\"11\" font-style=\"italic\" lengthAdjust=\"spacingAndGlyphs\" textLength=\"114\" x=\"38.5\" y=\"122.7573\">:&gt;&gt;State::exitAction</text><text fill=\"#000000\" font-family=\"sans-serif\" font-size=\"11\" lengthAdjust=\"spacingAndGlyphs\" textLength=\"88\" x=\"38.5\" y=\"135.562\">A: Performance</text><text fill=\"#000000\" font-family=\"sans-serif\" font-size=\"11\" font-style=\"italic\" lengthAdjust=\"spacingAndGlyphs\" textLength=\"123\" x=\"38.5\" y=\"148.3667\">:&gt;&gt;State::entryAction</text><text fill=\"#000000\" font-family=\"sans-serif\" font-size=\"11\" lengthAdjust=\"spacingAndGlyphs\" textLength=\"50\" x=\"38.5\" y=\"161.1714\">B: Action</text><text fill=\"#000000\" font-family=\"sans-serif\" font-size=\"11\" font-style=\"italic\" lengthAdjust=\"spacingAndGlyphs\" textLength=\"108\" x=\"38.5\" y=\"173.9761\">:&gt;&gt;State::doAction</text><line style=\"stroke: #A80036; stroke-width: 1.0;\" x1=\"33.5\" x2=\"56.5\" y1=\"93.3398\" y2=\"93.3398\"/><text fill=\"#000000\" font-family=\"sans-serif\" font-size=\"11\" lengthAdjust=\"spacingAndGlyphs\" textLength=\"87\" x=\"56.5\" y=\"96.6479\">performActions</text><line style=\"stroke: #A80036; stroke-width: 1.0;\" x1=\"143.5\" x2=\"166.5\" y1=\"93.3398\" y2=\"93.3398\"/><text fill=\"#000000\" font-family=\"sans-serif\" font-size=\"11\" lengthAdjust=\"spacingAndGlyphs\" textLength=\"53\" x=\"38.5\" y=\"203.5854\">S1: State</text><line style=\"stroke: #A80036; stroke-width: 1.0;\" x1=\"33.5\" x2=\"82\" y1=\"186.9727\" y2=\"186.9727\"/><text fill=\"#000000\" font-family=\"sans-serif\" font-size=\"11\" lengthAdjust=\"spacingAndGlyphs\" textLength=\"36\" x=\"82\" y=\"190.2808\">states</text><line style=\"stroke: #A80036; stroke-width: 1.0;\" x1=\"118\" x2=\"166.5\" y1=\"186.9727\" y2=\"186.9727\"/><text fill=\"#000000\" font-family=\"sans-serif\" font-size=\"11\" lengthAdjust=\"spacingAndGlyphs\" textLength=\"72\" x=\"38.5\" y=\"233.1948\">T: Transition</text><line style=\"stroke: #A80036; stroke-width: 1.0;\" x1=\"33.5\" x2=\"69.5\" y1=\"216.582\" y2=\"216.582\"/><text fill=\"#000000\" font-family=\"sans-serif\" font-size=\"11\" lengthAdjust=\"spacingAndGlyphs\" textLength=\"61\" x=\"69.5\" y=\"219.8901\">transitions</text><line style=\"stroke: #A80036; stroke-width: 1.0;\" x1=\"130.5\" x2=\"166.5\" y1=\"216.582\" y2=\"216.582\"/><!--MD5=[1dd1bfd58a279cf63c5f349dbc8fc6a1]\n",
       "class E11--><rect fill=\"#FEFECE\" filter=\"url(#f1jcqc2368sphb)\" height=\"45.9375\" id=\"E11\" rx=\"10\" ry=\"10\" style=\"stroke: #A80036; stroke-width: 1.5;\" width=\"90\" x=\"67\" y=\"300\"/><ellipse cx=\"82\" cy=\"318.9688\" fill=\"#FFA500\" rx=\"11\" ry=\"11\" style=\"stroke: #A80036; stroke-width: 1.0;\"/><path d=\"M77.875,320.8906 L77.875,313.0781 L80.3281,313.0781 L80.3281,321.5156 Q80.3281,322.4375 80.7969,322.9688 Q81.2813,323.5 82.1094,323.5 Q82.9531,323.5 83.4219,322.9688 Q83.8906,322.4375 83.8906,321.5156 L83.8906,313.0781 L86.3438,313.0781 L86.3438,320.8906 Q86.3438,323.4219 85.3438,324.5625 Q84.3438,325.7031 82.1094,325.7031 Q79.8906,325.7031 78.875,324.5625 Q77.875,323.4219 77.875,320.8906 Z \"/><text fill=\"#000000\" font-family=\"sans-serif\" font-size=\"12\" font-style=\"italic\" lengthAdjust=\"spacingAndGlyphs\" textLength=\"47\" x=\"101.5\" y=\"316.1387\">«state»</text><text fill=\"#000000\" font-family=\"sans-serif\" font-size=\"12\" lengthAdjust=\"spacingAndGlyphs\" textLength=\"58\" x=\"96\" y=\"330.1074\">S2: State</text><line style=\"stroke: #A80036; stroke-width: 1.5;\" x1=\"68\" x2=\"156\" y1=\"337.9375\" y2=\"337.9375\"/><!--MD5=[49a0ec8f00dab7302a31f22d0f0fe584]\n",
       "class E12--><rect fill=\"#FEFECE\" filter=\"url(#f1jcqc2368sphb)\" height=\"88.3516\" id=\"E12\" rx=\"10\" ry=\"10\" style=\"stroke: #A80036; stroke-width: 1.5;\" width=\"186\" x=\"32\" y=\"406\"/><ellipse cx=\"47\" cy=\"424.9688\" fill=\"#FFA500\" rx=\"11\" ry=\"11\" style=\"stroke: #A80036; stroke-width: 1.0;\"/><path d=\"M42.875,426.8906 L42.875,419.0781 L45.3281,419.0781 L45.3281,427.5156 Q45.3281,428.4375 45.7969,428.9688 Q46.2813,429.5 47.1094,429.5 Q47.9531,429.5 48.4219,428.9688 Q48.8906,428.4375 48.8906,427.5156 L48.8906,419.0781 L51.3438,419.0781 L51.3438,426.8906 Q51.3438,429.4219 50.3438,430.5625 Q49.3438,431.7031 47.1094,431.7031 Q44.8906,431.7031 43.875,430.5625 Q42.875,429.4219 42.875,426.8906 Z \"/><text fill=\"#000000\" font-family=\"sans-serif\" font-size=\"12\" font-style=\"italic\" lengthAdjust=\"spacingAndGlyphs\" textLength=\"84\" x=\"96\" y=\"422.1387\">«sendAction»</text><text fill=\"#000000\" font-family=\"sans-serif\" font-size=\"12\" lengthAdjust=\"spacingAndGlyphs\" textLength=\"154\" x=\"61\" y=\"436.1074\">doAction: TransferAction</text><line style=\"stroke: #A80036; stroke-width: 1.5;\" x1=\"33\" x2=\"217\" y1=\"443.9375\" y2=\"443.9375\"/><text fill=\"#000000\" font-family=\"sans-serif\" font-size=\"11\" lengthAdjust=\"spacingAndGlyphs\" textLength=\"81\" x=\"38\" y=\"474.9526\">item: Anything</text><text fill=\"#000000\" font-family=\"sans-serif\" font-size=\"11\" font-style=\"italic\" lengthAdjust=\"spacingAndGlyphs\" textLength=\"104\" x=\"38\" y=\"487.7573\">:&gt;&gt;Transfer::item</text><line style=\"stroke: #A80036; stroke-width: 1.0;\" x1=\"33\" x2=\"87.5\" y1=\"458.3398\" y2=\"458.3398\"/><text fill=\"#000000\" font-family=\"sans-serif\" font-size=\"11\" lengthAdjust=\"spacingAndGlyphs\" textLength=\"75\" x=\"87.5\" y=\"461.6479\">itemFeatures</text><line style=\"stroke: #A80036; stroke-width: 1.0;\" x1=\"162.5\" x2=\"217\" y1=\"458.3398\" y2=\"458.3398\"/><!--MD5=[1f5f03483f7de0d5b3680a7f6650997f]\n",
       "reverse link E6 to E11--><path d=\"M107.43,253.2 C108.6,270.82 109.69,287.28 110.52,299.69 \" fill=\"none\" id=\"E6&lt;-E11\" style=\"stroke: #A80036; stroke-width: 1.0;\"/><polygon fill=\"#A80036\" points=\"106.56,240.2,102.9643,246.4507,107.3512,252.1739,110.9469,245.9232,106.56,240.2\" style=\"stroke: #A80036; stroke-width: 1.0;\"/><!--MD5=[94adabc162ce7e41b39f13be14fbaeb3]\n",
       "reverse link E11 to E12--><path d=\"M115.65,359.11 C117.16,373.64 118.93,390.65 120.52,405.93 \" fill=\"none\" id=\"E11&lt;-E12\" style=\"stroke: #A80036; stroke-width: 1.0;\"/><polygon fill=\"#FFFFFF\" points=\"114.29,346.06,110.9313,352.4411,115.5297,357.9958,118.8885,351.6146,114.29,346.06\" style=\"stroke: #A80036; stroke-width: 1.0;\"/><!--MD5=[88ed83c68d332f6e8b61b4862d4a0f75]\n",
       "@startuml\r\n",
       " \r\n",
       "package \"StateTest\" as E1   {\r\n",
       "comp def \"Sig\" as E2  <<(D,brown)attribute def>> {\r\n",
       "x: DataValue\r\n",
       "}\r\n",
       "comp def \"Exit\" as E3  <<(D,brown)attribute def>> {\r\n",
       "}\r\n",
       "comp usage \"p: Part\" as E4  << (P,limegreen) part>> {\r\n",
       "}\r\n",
       "comp usage \"act: Action\" as E5  <<(U,orange)action>> {\r\n",
       "}\r\n",
       "comp def \"S\" as E6  <<(D,brown)state def>> {\r\n",
       "- -performActions- -\r\n",
       "act: Action\\n//:>>State::exitAction// \r\n",
       "A: Performance\\n//:>>State::entryAction// \r\n",
       "B: Action\\n//:>>State::doAction// \r\n",
       "- -states- -\r\n",
       "S1: State\r\n",
       "- -transitions- -\r\n",
       "T: Transition\r\n",
       "}\r\n",
       "comp usage \"S2: State\" as E11  <<(U,orange)state>> {\r\n",
       "}\r\n",
       "comp usage \"doAction: TransferAction\" as E12  <<(U,orange)sendAction>> {\r\n",
       "- -itemFeatures- -\r\n",
       "item: Anything\\n//:>>Transfer::item// \r\n",
       "}\r\n",
       "E6 *- - E11\r\n",
       "E11 o- - E12\r\n",
       "}\r\n",
       "@enduml\r\n",
       "\n",
       "PlantUML version 1.2020.13(Sat Jun 13 12:26:38 UTC 2020)\n",
       "(EPL source distribution)\n",
       "Java Runtime: OpenJDK Runtime Environment\n",
       "JVM: OpenJDK 64-Bit Server VM\n",
       "Default Encoding: UTF-8\n",
       "Language: en\n",
       "Country: null\n",
       "--></g></svg>"
      ]
     },
     "execution_count": 31,
     "metadata": {},
     "output_type": "execute_result"
    }
   ],
   "source": [
    "%viz --style=\"PLANTUML\" --view=\"Tree\" \"StateTest\""
   ]
  },
  {
   "cell_type": "code",
   "execution_count": 32,
   "id": "owned-desktop",
   "metadata": {
    "execution": {
     "iopub.execute_input": "2021-03-26T09:42:47.250720Z",
     "iopub.status.busy": "2021-03-26T09:42:47.250032Z",
     "iopub.status.idle": "2021-03-26T09:42:47.252971Z",
     "shell.execute_reply": "2021-03-26T09:42:47.253373Z"
    }
   },
   "outputs": [
    {
     "data": {
      "text/plain": [
       "java.lang.IllegalArgumentException: Invalid View: State View candidates are: Default Tree StateMachine Interconnection Activity Sequence MIXED \n",
       "\tat org.omg.sysml.plantuml.SysML2PlantUMLSvc.setView(SysML2PlantUMLSvc.java:63)\n",
       "\tat org.omg.sysml.interactive.SysMLInteractive.viz(SysMLInteractive.java:286)\n",
       "\tat org.omg.sysml.jupyter.kernel.magic.Viz.viz(Viz.java:47)\n",
       "\tat jdk.internal.reflect.GeneratedMethodAccessor13.invoke(Unknown Source)\n",
       "\tat java.base/jdk.internal.reflect.DelegatingMethodAccessorImpl.invoke(DelegatingMethodAccessorImpl.java:43)\n",
       "\tat java.base/java.lang.reflect.Method.invoke(Method.java:568)\n",
       "\tat io.github.spencerpark.jupyter.kernel.magic.registry.Magics.invoke(Magics.java:89)\n",
       "\tat io.github.spencerpark.jupyter.kernel.magic.registry.Magics.access$000(Magics.java:8)\n",
       "\tat io.github.spencerpark.jupyter.kernel.magic.registry.Magics$LineReflectionMagicFunction.execute(Magics.java:149)\n",
       "\tat io.github.spencerpark.jupyter.kernel.magic.registry.Magics.applyLineMagic(Magics.java:26)\n",
       "\tat org.omg.sysml.jupyter.kernel.SysMLKernel.eval(SysMLKernel.java:76)\n",
       "\tat io.github.spencerpark.jupyter.kernel.BaseKernel.handleExecuteRequest(BaseKernel.java:334)\n",
       "\tat io.github.spencerpark.jupyter.channels.ShellChannel.lambda$bind$0(ShellChannel.java:64)\n",
       "\tat io.github.spencerpark.jupyter.channels.Loop.lambda$new$0(Loop.java:21)\n",
       "\tat io.github.spencerpark.jupyter.channels.Loop.run(Loop.java:78)\n"
      ]
     },
     "execution_count": 32,
     "metadata": {},
     "output_type": "execute_result"
    }
   ],
   "source": [
    "%viz --style=\"PLANTUML\" --view=\"State\" \"StateTest\""
   ]
  },
  {
   "cell_type": "code",
   "execution_count": 33,
   "id": "suitable-insertion",
   "metadata": {
    "execution": {
     "iopub.execute_input": "2021-03-26T09:42:47.306554Z",
     "iopub.status.busy": "2021-03-26T09:42:47.305015Z",
     "iopub.status.idle": "2021-03-26T09:42:47.333083Z",
     "shell.execute_reply": "2021-03-26T09:42:47.332750Z"
    }
   },
   "outputs": [
    {
     "data": {
      "image/svg+xml": [
       "<?xml version=\"1.0\" encoding=\"UTF-8\" standalone=\"no\"?><svg xmlns=\"http://www.w3.org/2000/svg\" xmlns:xlink=\"http://www.w3.org/1999/xlink\" contentScriptType=\"application/ecmascript\" contentStyleType=\"text/css\" height=\"123px\" preserveAspectRatio=\"none\" style=\"width:709px;height:123px;\" version=\"1.1\" viewBox=\"0 0 709 123\" width=\"709px\" zoomAndPan=\"magnify\"><defs><filter height=\"300%\" id=\"f2uviim2s37ww\" width=\"300%\" x=\"-1\" y=\"-1\"><feGaussianBlur result=\"blurOut\" stdDeviation=\"2.0\"/><feColorMatrix in=\"blurOut\" result=\"blurOut2\" type=\"matrix\" values=\"0 0 0 0 0 0 0 0 0 0 0 0 0 0 0 0 0 0 .4 0\"/><feOffset dx=\"4.0\" dy=\"4.0\" in=\"blurOut2\" result=\"blurOut3\"/><feBlend in=\"SourceGraphic\" in2=\"blurOut3\" mode=\"normal\"/></filter></defs><g><!--MD5=[fbc87193dbaf4d95561dea2c320d4a47]\n",
       "cluster E1--><polygon fill=\"#FFFFFF\" filter=\"url(#f2uviim2s37ww)\" points=\"16,6,98,6,105,28.2969,687,28.2969,687,111,16,111,16,6\" style=\"stroke: #000000; stroke-width: 1.5;\"/><line style=\"stroke: #000000; stroke-width: 1.5;\" x1=\"16\" x2=\"105\" y1=\"28.2969\" y2=\"28.2969\"/><text fill=\"#000000\" font-family=\"sans-serif\" font-size=\"14\" font-weight=\"bold\" lengthAdjust=\"spacingAndGlyphs\" textLength=\"76\" x=\"20\" y=\"20.9951\">StateTest</text><!--MD5=[b4997ac47864f28c2f74865a473b2911]\n",
       "class E2--><rect fill=\"#FEFECE\" filter=\"url(#f2uviim2s37ww)\" height=\"53.9375\" id=\"E2\" style=\"stroke: #A80036; stroke-width: 1.5;\" width=\"121\" x=\"549.5\" y=\"41\"/><ellipse cx=\"564.5\" cy=\"59.9688\" fill=\"#ADD1B2\" rx=\"11\" ry=\"11\" style=\"stroke: #A80036; stroke-width: 1.0;\"/><path d=\"M567.4688,65.6094 Q566.8906,65.9063 566.25,66.0469 Q565.6094,66.2031 564.9063,66.2031 Q562.4063,66.2031 561.0781,64.5625 Q559.7656,62.9063 559.7656,59.7813 Q559.7656,56.6563 561.0781,55 Q562.4063,53.3438 564.9063,53.3438 Q565.6094,53.3438 566.25,53.5 Q566.9063,53.6563 567.4688,53.9531 L567.4688,56.6719 Q566.8438,56.0938 566.25,55.8281 Q565.6563,55.5469 565.0313,55.5469 Q563.6875,55.5469 563,56.625 Q562.3125,57.6875 562.3125,59.7813 Q562.3125,61.875 563,62.9531 Q563.6875,64.0156 565.0313,64.0156 Q565.6563,64.0156 566.25,63.75 Q566.8438,63.4688 567.4688,62.8906 L567.4688,65.6094 Z \"/><text fill=\"#000000\" font-family=\"sans-serif\" font-size=\"12\" font-style=\"italic\" lengthAdjust=\"spacingAndGlyphs\" textLength=\"93\" x=\"576.5\" y=\"57.1387\">«attribute def»</text><text fill=\"#000000\" font-family=\"sans-serif\" font-size=\"12\" lengthAdjust=\"spacingAndGlyphs\" textLength=\"19\" x=\"613.5\" y=\"71.1074\">Sig</text><line style=\"stroke: #A80036; stroke-width: 1.5;\" x1=\"550.5\" x2=\"669.5\" y1=\"78.9375\" y2=\"78.9375\"/><line style=\"stroke: #A80036; stroke-width: 1.5;\" x1=\"550.5\" x2=\"669.5\" y1=\"86.9375\" y2=\"86.9375\"/><!--MD5=[09b614a08d8cba4a07c9adeb5e0fee81]\n",
       "class E3--><rect fill=\"#FEFECE\" filter=\"url(#f2uviim2s37ww)\" height=\"53.9375\" id=\"E3\" style=\"stroke: #A80036; stroke-width: 1.5;\" width=\"121\" x=\"393.5\" y=\"41\"/><ellipse cx=\"408.5\" cy=\"59.9688\" fill=\"#ADD1B2\" rx=\"11\" ry=\"11\" style=\"stroke: #A80036; stroke-width: 1.0;\"/><path d=\"M411.4688,65.6094 Q410.8906,65.9063 410.25,66.0469 Q409.6094,66.2031 408.9063,66.2031 Q406.4063,66.2031 405.0781,64.5625 Q403.7656,62.9063 403.7656,59.7813 Q403.7656,56.6563 405.0781,55 Q406.4063,53.3438 408.9063,53.3438 Q409.6094,53.3438 410.25,53.5 Q410.9063,53.6563 411.4688,53.9531 L411.4688,56.6719 Q410.8438,56.0938 410.25,55.8281 Q409.6563,55.5469 409.0313,55.5469 Q407.6875,55.5469 407,56.625 Q406.3125,57.6875 406.3125,59.7813 Q406.3125,61.875 407,62.9531 Q407.6875,64.0156 409.0313,64.0156 Q409.6563,64.0156 410.25,63.75 Q410.8438,63.4688 411.4688,62.8906 L411.4688,65.6094 Z \"/><text fill=\"#000000\" font-family=\"sans-serif\" font-size=\"12\" font-style=\"italic\" lengthAdjust=\"spacingAndGlyphs\" textLength=\"93\" x=\"420.5\" y=\"57.1387\">«attribute def»</text><text fill=\"#000000\" font-family=\"sans-serif\" font-size=\"12\" lengthAdjust=\"spacingAndGlyphs\" textLength=\"22\" x=\"456\" y=\"71.1074\">Exit</text><line style=\"stroke: #A80036; stroke-width: 1.5;\" x1=\"394.5\" x2=\"513.5\" y1=\"78.9375\" y2=\"78.9375\"/><line style=\"stroke: #A80036; stroke-width: 1.5;\" x1=\"394.5\" x2=\"513.5\" y1=\"86.9375\" y2=\"86.9375\"/><!--MD5=[60a26617385b1d2d0262a64233df1f8d]\n",
       "class E6--><rect fill=\"#FEFECE\" filter=\"url(#f2uviim2s37ww)\" height=\"53.9375\" id=\"E6\" style=\"stroke: #A80036; stroke-width: 1.5;\" width=\"99\" x=\"259.5\" y=\"41\"/><ellipse cx=\"274.5\" cy=\"59.9688\" fill=\"#ADD1B2\" rx=\"11\" ry=\"11\" style=\"stroke: #A80036; stroke-width: 1.0;\"/><path d=\"M277.4688,65.6094 Q276.8906,65.9063 276.25,66.0469 Q275.6094,66.2031 274.9063,66.2031 Q272.4063,66.2031 271.0781,64.5625 Q269.7656,62.9063 269.7656,59.7813 Q269.7656,56.6563 271.0781,55 Q272.4063,53.3438 274.9063,53.3438 Q275.6094,53.3438 276.25,53.5 Q276.9063,53.6563 277.4688,53.9531 L277.4688,56.6719 Q276.8438,56.0938 276.25,55.8281 Q275.6563,55.5469 275.0313,55.5469 Q273.6875,55.5469 273,56.625 Q272.3125,57.6875 272.3125,59.7813 Q272.3125,61.875 273,62.9531 Q273.6875,64.0156 275.0313,64.0156 Q275.6563,64.0156 276.25,63.75 Q276.8438,63.4688 277.4688,62.8906 L277.4688,65.6094 Z \"/><text fill=\"#000000\" font-family=\"sans-serif\" font-size=\"12\" font-style=\"italic\" lengthAdjust=\"spacingAndGlyphs\" textLength=\"71\" x=\"286.5\" y=\"57.1387\">«state def»</text><text fill=\"#000000\" font-family=\"sans-serif\" font-size=\"12\" lengthAdjust=\"spacingAndGlyphs\" textLength=\"8\" x=\"318\" y=\"71.1074\">S</text><line style=\"stroke: #A80036; stroke-width: 1.5;\" x1=\"260.5\" x2=\"357.5\" y1=\"78.9375\" y2=\"78.9375\"/><line style=\"stroke: #A80036; stroke-width: 1.5;\" x1=\"260.5\" x2=\"357.5\" y1=\"86.9375\" y2=\"86.9375\"/><g id=\"E1.E4\"><rect fill=\"#FFFFFF\" filter=\"url(#f2uviim2s37ww)\" height=\"50\" rx=\"12.5\" ry=\"12.5\" style=\"stroke: #A80036; stroke-width: 1.5;\" width=\"65\" x=\"159.5\" y=\"43\"/><line style=\"stroke: #A80036; stroke-width: 1.5;\" x1=\"159.5\" x2=\"224.5\" y1=\"69.2969\" y2=\"69.2969\"/><text fill=\"#000000\" font-family=\"sans-serif\" font-size=\"14\" lengthAdjust=\"spacingAndGlyphs\" textLength=\"45\" x=\"169.5\" y=\"60.9951\">p: Part</text></g><g id=\"E1.E5\"><rect fill=\"#FFFFFF\" filter=\"url(#f2uviim2s37ww)\" height=\"50\" rx=\"12.5\" ry=\"12.5\" style=\"stroke: #A80036; stroke-width: 1.5;\" width=\"93\" x=\"31.5\" y=\"43\"/><line style=\"stroke: #A80036; stroke-width: 1.5;\" x1=\"31.5\" x2=\"124.5\" y1=\"69.2969\" y2=\"69.2969\"/><text fill=\"#000000\" font-family=\"sans-serif\" font-size=\"14\" lengthAdjust=\"spacingAndGlyphs\" textLength=\"73\" x=\"41.5\" y=\"60.9951\">act: Action</text></g><!--MD5=[d0c73e202c8269615fa3d268155631b8]\n",
       "@startuml\r\n",
       "skinparam ranksep 8\r\n",
       "skinparam rectangle {\r\n",
       " backgroundColor<<block>> LightGreen\r\n",
       "}\r\n",
       " \r\n",
       "package \"StateTest\" as E1   {\r\n",
       "def \"Sig\" as E2  <<attribute def>> \r\n",
       "def \"Exit\" as E3  <<attribute def>> \r\n",
       "rec usage \"p: Part\" as E4  {\r\n",
       "}\r\n",
       "rec usage \"act: Action\" as E5  <<action>> {\r\n",
       "}\r\n",
       "def \"S\" as E6  <<state def>> \r\n",
       "}\r\n",
       "@enduml\r\n",
       "\n",
       "PlantUML version 1.2020.13(Sat Jun 13 12:26:38 UTC 2020)\n",
       "(EPL source distribution)\n",
       "Java Runtime: OpenJDK Runtime Environment\n",
       "JVM: OpenJDK 64-Bit Server VM\n",
       "Default Encoding: UTF-8\n",
       "Language: en\n",
       "Country: null\n",
       "--></g></svg>"
      ]
     },
     "execution_count": 33,
     "metadata": {},
     "output_type": "execute_result"
    }
   ],
   "source": [
    "%viz --style=\"PLANTUML\" --view=\"Interconnection\" \"StateTest\""
   ]
  },
  {
   "cell_type": "code",
   "execution_count": 34,
   "id": "focused-affect",
   "metadata": {
    "execution": {
     "iopub.execute_input": "2021-03-26T09:42:47.383496Z",
     "iopub.status.busy": "2021-03-26T09:42:47.382773Z",
     "iopub.status.idle": "2021-03-26T09:42:47.385896Z",
     "shell.execute_reply": "2021-03-26T09:42:47.385290Z"
    }
   },
   "outputs": [
    {
     "data": {
      "text/plain": [
       "java.lang.IllegalArgumentException: Invalid View: Action View candidates are: Default Tree StateMachine Interconnection Activity Sequence MIXED \n",
       "\tat org.omg.sysml.plantuml.SysML2PlantUMLSvc.setView(SysML2PlantUMLSvc.java:63)\n",
       "\tat org.omg.sysml.interactive.SysMLInteractive.viz(SysMLInteractive.java:286)\n",
       "\tat org.omg.sysml.jupyter.kernel.magic.Viz.viz(Viz.java:47)\n",
       "\tat jdk.internal.reflect.GeneratedMethodAccessor13.invoke(Unknown Source)\n",
       "\tat java.base/jdk.internal.reflect.DelegatingMethodAccessorImpl.invoke(DelegatingMethodAccessorImpl.java:43)\n",
       "\tat java.base/java.lang.reflect.Method.invoke(Method.java:568)\n",
       "\tat io.github.spencerpark.jupyter.kernel.magic.registry.Magics.invoke(Magics.java:89)\n",
       "\tat io.github.spencerpark.jupyter.kernel.magic.registry.Magics.access$000(Magics.java:8)\n",
       "\tat io.github.spencerpark.jupyter.kernel.magic.registry.Magics$LineReflectionMagicFunction.execute(Magics.java:149)\n",
       "\tat io.github.spencerpark.jupyter.kernel.magic.registry.Magics.applyLineMagic(Magics.java:26)\n",
       "\tat org.omg.sysml.jupyter.kernel.SysMLKernel.eval(SysMLKernel.java:76)\n",
       "\tat io.github.spencerpark.jupyter.kernel.BaseKernel.handleExecuteRequest(BaseKernel.java:334)\n",
       "\tat io.github.spencerpark.jupyter.channels.ShellChannel.lambda$bind$0(ShellChannel.java:64)\n",
       "\tat io.github.spencerpark.jupyter.channels.Loop.lambda$new$0(Loop.java:21)\n",
       "\tat io.github.spencerpark.jupyter.channels.Loop.run(Loop.java:78)\n"
      ]
     },
     "execution_count": 34,
     "metadata": {},
     "output_type": "execute_result"
    }
   ],
   "source": [
    "%viz --style=\"PLANTUML\" --view=\"Action\" \"StateTest\""
   ]
  },
  {
   "cell_type": "code",
   "execution_count": 35,
   "id": "geographic-herald",
   "metadata": {
    "execution": {
     "iopub.execute_input": "2021-03-26T09:42:47.437573Z",
     "iopub.status.busy": "2021-03-26T09:42:47.437017Z",
     "iopub.status.idle": "2021-03-26T09:42:47.606680Z",
     "shell.execute_reply": "2021-03-26T09:42:47.605291Z"
    }
   },
   "outputs": [
    {
     "data": {
      "image/svg+xml": [
       "<?xml version=\"1.0\" encoding=\"UTF-8\" standalone=\"no\"?><svg xmlns=\"http://www.w3.org/2000/svg\" xmlns:xlink=\"http://www.w3.org/1999/xlink\" contentScriptType=\"application/ecmascript\" contentStyleType=\"text/css\" height=\"522px\" preserveAspectRatio=\"none\" style=\"width:762px;height:522px;\" version=\"1.1\" viewBox=\"0 0 762 522\" width=\"762px\" zoomAndPan=\"magnify\"><defs><filter height=\"300%\" id=\"f1jcqc2368sphb\" width=\"300%\" x=\"-1\" y=\"-1\"><feGaussianBlur result=\"blurOut\" stdDeviation=\"2.0\"/><feColorMatrix in=\"blurOut\" result=\"blurOut2\" type=\"matrix\" values=\"0 0 0 0 0 0 0 0 0 0 0 0 0 0 0 0 0 0 .4 0\"/><feOffset dx=\"4.0\" dy=\"4.0\" in=\"blurOut2\" result=\"blurOut3\"/><feBlend in=\"SourceGraphic\" in2=\"blurOut3\" mode=\"normal\"/></filter></defs><g><!--MD5=[fbc87193dbaf4d95561dea2c320d4a47]\n",
       "cluster E1--><polygon fill=\"#FFFFFF\" filter=\"url(#f1jcqc2368sphb)\" points=\"16,6,98,6,105,28.2969,740,28.2969,740,510,16,510,16,6\" style=\"stroke: #000000; stroke-width: 1.5;\"/><line style=\"stroke: #000000; stroke-width: 1.5;\" x1=\"16\" x2=\"105\" y1=\"28.2969\" y2=\"28.2969\"/><text fill=\"#000000\" font-family=\"sans-serif\" font-size=\"14\" font-weight=\"bold\" lengthAdjust=\"spacingAndGlyphs\" textLength=\"76\" x=\"20\" y=\"20.9951\">StateTest</text><!--MD5=[b4997ac47864f28c2f74865a473b2911]\n",
       "class E2--><rect fill=\"#FEFECE\" filter=\"url(#f1jcqc2368sphb)\" height=\"58.7422\" id=\"E2\" style=\"stroke: #A80036; stroke-width: 1.5;\" width=\"121\" x=\"602.5\" y=\"111\"/><ellipse cx=\"617.5\" cy=\"129.9688\" fill=\"#A52A2A\" rx=\"11\" ry=\"11\" style=\"stroke: #A80036; stroke-width: 1.0;\"/><path d=\"M617.0938,125.7813 L617.0938,133.7656 L617.75,133.7656 Q619.1875,133.7656 619.7969,132.8594 Q620.4219,131.9375 620.4219,129.7656 Q620.4219,127.5938 619.7969,126.6875 Q619.1875,125.7813 617.75,125.7813 L617.0938,125.7813 Z M614.6406,123.5781 L617.2656,123.5781 Q620.2969,123.5781 621.625,125.0313 Q622.9688,126.4688 622.9688,129.7656 Q622.9688,133.0625 621.625,134.5156 Q620.2969,135.9688 617.2656,135.9688 L614.6406,135.9688 L614.6406,123.5781 Z \"/><text fill=\"#000000\" font-family=\"sans-serif\" font-size=\"12\" font-style=\"italic\" lengthAdjust=\"spacingAndGlyphs\" textLength=\"93\" x=\"629.5\" y=\"127.1387\">«attribute def»</text><text fill=\"#000000\" font-family=\"sans-serif\" font-size=\"12\" lengthAdjust=\"spacingAndGlyphs\" textLength=\"19\" x=\"666.5\" y=\"141.1074\">Sig</text><line style=\"stroke: #A80036; stroke-width: 1.5;\" x1=\"603.5\" x2=\"722.5\" y1=\"148.9375\" y2=\"148.9375\"/><text fill=\"#000000\" font-family=\"sans-serif\" font-size=\"11\" lengthAdjust=\"spacingAndGlyphs\" textLength=\"71\" x=\"608.5\" y=\"163.1479\">x: DataValue</text><!--MD5=[09b614a08d8cba4a07c9adeb5e0fee81]\n",
       "class E3--><rect fill=\"#FEFECE\" filter=\"url(#f1jcqc2368sphb)\" height=\"45.9375\" id=\"E3\" style=\"stroke: #A80036; stroke-width: 1.5;\" width=\"121\" x=\"446.5\" y=\"117.5\"/><ellipse cx=\"461.5\" cy=\"136.4688\" fill=\"#A52A2A\" rx=\"11\" ry=\"11\" style=\"stroke: #A80036; stroke-width: 1.0;\"/><path d=\"M461.0938,132.2813 L461.0938,140.2656 L461.75,140.2656 Q463.1875,140.2656 463.7969,139.3594 Q464.4219,138.4375 464.4219,136.2656 Q464.4219,134.0938 463.7969,133.1875 Q463.1875,132.2813 461.75,132.2813 L461.0938,132.2813 Z M458.6406,130.0781 L461.2656,130.0781 Q464.2969,130.0781 465.625,131.5313 Q466.9688,132.9688 466.9688,136.2656 Q466.9688,139.5625 465.625,141.0156 Q464.2969,142.4688 461.2656,142.4688 L458.6406,142.4688 L458.6406,130.0781 Z \"/><text fill=\"#000000\" font-family=\"sans-serif\" font-size=\"12\" font-style=\"italic\" lengthAdjust=\"spacingAndGlyphs\" textLength=\"93\" x=\"473.5\" y=\"133.6387\">«attribute def»</text><text fill=\"#000000\" font-family=\"sans-serif\" font-size=\"12\" lengthAdjust=\"spacingAndGlyphs\" textLength=\"22\" x=\"509\" y=\"147.6074\">Exit</text><line style=\"stroke: #A80036; stroke-width: 1.5;\" x1=\"447.5\" x2=\"566.5\" y1=\"155.4375\" y2=\"155.4375\"/><!--MD5=[ebbe1d658d1005bcc118a6aa81145e00]\n",
       "class E4--><rect fill=\"#FEFECE\" filter=\"url(#f1jcqc2368sphb)\" height=\"45.9375\" id=\"E4\" rx=\"10\" ry=\"10\" style=\"stroke: #A80036; stroke-width: 1.5;\" width=\"74\" x=\"337\" y=\"117.5\"/><ellipse cx=\"352\" cy=\"136.4688\" fill=\"#32CD32\" rx=\"11\" ry=\"11\" style=\"stroke: #A80036; stroke-width: 1.0;\"/><path d=\"M351.7969,132.1406 L351.7969,135.7656 L352.7969,135.7656 Q354,135.7656 354.4844,135.3594 Q354.9688,134.9531 354.9688,133.9531 Q354.9688,132.9531 354.4844,132.5469 Q354,132.1406 352.7969,132.1406 L351.7969,132.1406 Z M349.3438,130.0781 L352.7031,130.0781 Q355.2656,130.0781 356.3906,131 Q357.5156,131.9063 357.5156,133.9531 Q357.5156,136 356.3906,136.9219 Q355.2656,137.8281 352.7031,137.8281 L351.7969,137.8281 L351.7969,142.4688 L349.3438,142.4688 L349.3438,130.0781 Z \"/><text fill=\"#000000\" font-family=\"sans-serif\" font-size=\"12\" font-style=\"italic\" lengthAdjust=\"spacingAndGlyphs\" textLength=\"40\" x=\"367\" y=\"133.6387\">«part»</text><text fill=\"#000000\" font-family=\"sans-serif\" font-size=\"12\" lengthAdjust=\"spacingAndGlyphs\" textLength=\"42\" x=\"366\" y=\"147.6074\">p: Part</text><line style=\"stroke: #A80036; stroke-width: 1.5;\" x1=\"338\" x2=\"410\" y1=\"155.4375\" y2=\"155.4375\"/><!--MD5=[270fce915f116d4de14055a7c1d9a0f3]\n",
       "class E5--><rect fill=\"#FEFECE\" filter=\"url(#f1jcqc2368sphb)\" height=\"45.9375\" id=\"E5\" rx=\"10\" ry=\"10\" style=\"stroke: #A80036; stroke-width: 1.5;\" width=\"99\" x=\"202.5\" y=\"117.5\"/><ellipse cx=\"217.5\" cy=\"136.4688\" fill=\"#FFA500\" rx=\"11\" ry=\"11\" style=\"stroke: #A80036; stroke-width: 1.0;\"/><path d=\"M213.375,138.3906 L213.375,130.5781 L215.8281,130.5781 L215.8281,139.0156 Q215.8281,139.9375 216.2969,140.4688 Q216.7813,141 217.6094,141 Q218.4531,141 218.9219,140.4688 Q219.3906,139.9375 219.3906,139.0156 L219.3906,130.5781 L221.8438,130.5781 L221.8438,138.3906 Q221.8438,140.9219 220.8438,142.0625 Q219.8438,143.2031 217.6094,143.2031 Q215.3906,143.2031 214.375,142.0625 Q213.375,140.9219 213.375,138.3906 Z \"/><text fill=\"#000000\" font-family=\"sans-serif\" font-size=\"12\" font-style=\"italic\" lengthAdjust=\"spacingAndGlyphs\" textLength=\"53\" x=\"238.5\" y=\"133.6387\">«action»</text><text fill=\"#000000\" font-family=\"sans-serif\" font-size=\"12\" lengthAdjust=\"spacingAndGlyphs\" textLength=\"67\" x=\"231.5\" y=\"147.6074\">act: Action</text><line style=\"stroke: #A80036; stroke-width: 1.5;\" x1=\"203.5\" x2=\"300.5\" y1=\"155.4375\" y2=\"155.4375\"/><!--MD5=[60a26617385b1d2d0262a64233df1f8d]\n",
       "class E6--><rect fill=\"#FEFECE\" filter=\"url(#f1jcqc2368sphb)\" height=\"198.7891\" id=\"E6\" style=\"stroke: #A80036; stroke-width: 1.5;\" width=\"135\" x=\"32.5\" y=\"41\"/><ellipse cx=\"63.7\" cy=\"59.9688\" fill=\"#A52A2A\" rx=\"11\" ry=\"11\" style=\"stroke: #A80036; stroke-width: 1.0;\"/><path d=\"M63.2938,55.7813 L63.2938,63.7656 L63.95,63.7656 Q65.3875,63.7656 65.9969,62.8594 Q66.6219,61.9375 66.6219,59.7656 Q66.6219,57.5938 65.9969,56.6875 Q65.3875,55.7813 63.95,55.7813 L63.2938,55.7813 Z M60.8406,53.5781 L63.4656,53.5781 Q66.4969,53.5781 67.825,55.0313 Q69.1688,56.4688 69.1688,59.7656 Q69.1688,63.0625 67.825,64.5156 Q66.4969,65.9688 63.4656,65.9688 L60.8406,65.9688 L60.8406,53.5781 Z \"/><text fill=\"#000000\" font-family=\"sans-serif\" font-size=\"12\" font-style=\"italic\" lengthAdjust=\"spacingAndGlyphs\" textLength=\"71\" x=\"79.3\" y=\"57.1387\">«state def»</text><text fill=\"#000000\" font-family=\"sans-serif\" font-size=\"12\" lengthAdjust=\"spacingAndGlyphs\" textLength=\"8\" x=\"110.8\" y=\"71.1074\">S</text><line style=\"stroke: #A80036; stroke-width: 1.5;\" x1=\"33.5\" x2=\"166.5\" y1=\"78.9375\" y2=\"78.9375\"/><text fill=\"#000000\" font-family=\"sans-serif\" font-size=\"11\" lengthAdjust=\"spacingAndGlyphs\" textLength=\"59\" x=\"38.5\" y=\"109.9526\">act: Action</text><text fill=\"#000000\" font-family=\"sans-serif\" font-size=\"11\" font-style=\"italic\" lengthAdjust=\"spacingAndGlyphs\" textLength=\"114\" x=\"38.5\" y=\"122.7573\">:&gt;&gt;State::exitAction</text><text fill=\"#000000\" font-family=\"sans-serif\" font-size=\"11\" lengthAdjust=\"spacingAndGlyphs\" textLength=\"88\" x=\"38.5\" y=\"135.562\">A: Performance</text><text fill=\"#000000\" font-family=\"sans-serif\" font-size=\"11\" font-style=\"italic\" lengthAdjust=\"spacingAndGlyphs\" textLength=\"123\" x=\"38.5\" y=\"148.3667\">:&gt;&gt;State::entryAction</text><text fill=\"#000000\" font-family=\"sans-serif\" font-size=\"11\" lengthAdjust=\"spacingAndGlyphs\" textLength=\"50\" x=\"38.5\" y=\"161.1714\">B: Action</text><text fill=\"#000000\" font-family=\"sans-serif\" font-size=\"11\" font-style=\"italic\" lengthAdjust=\"spacingAndGlyphs\" textLength=\"108\" x=\"38.5\" y=\"173.9761\">:&gt;&gt;State::doAction</text><line style=\"stroke: #A80036; stroke-width: 1.0;\" x1=\"33.5\" x2=\"56.5\" y1=\"93.3398\" y2=\"93.3398\"/><text fill=\"#000000\" font-family=\"sans-serif\" font-size=\"11\" lengthAdjust=\"spacingAndGlyphs\" textLength=\"87\" x=\"56.5\" y=\"96.6479\">performActions</text><line style=\"stroke: #A80036; stroke-width: 1.0;\" x1=\"143.5\" x2=\"166.5\" y1=\"93.3398\" y2=\"93.3398\"/><text fill=\"#000000\" font-family=\"sans-serif\" font-size=\"11\" lengthAdjust=\"spacingAndGlyphs\" textLength=\"53\" x=\"38.5\" y=\"203.5854\">S1: State</text><line style=\"stroke: #A80036; stroke-width: 1.0;\" x1=\"33.5\" x2=\"82\" y1=\"186.9727\" y2=\"186.9727\"/><text fill=\"#000000\" font-family=\"sans-serif\" font-size=\"11\" lengthAdjust=\"spacingAndGlyphs\" textLength=\"36\" x=\"82\" y=\"190.2808\">states</text><line style=\"stroke: #A80036; stroke-width: 1.0;\" x1=\"118\" x2=\"166.5\" y1=\"186.9727\" y2=\"186.9727\"/><text fill=\"#000000\" font-family=\"sans-serif\" font-size=\"11\" lengthAdjust=\"spacingAndGlyphs\" textLength=\"72\" x=\"38.5\" y=\"233.1948\">T: Transition</text><line style=\"stroke: #A80036; stroke-width: 1.0;\" x1=\"33.5\" x2=\"69.5\" y1=\"216.582\" y2=\"216.582\"/><text fill=\"#000000\" font-family=\"sans-serif\" font-size=\"11\" lengthAdjust=\"spacingAndGlyphs\" textLength=\"61\" x=\"69.5\" y=\"219.8901\">transitions</text><line style=\"stroke: #A80036; stroke-width: 1.0;\" x1=\"130.5\" x2=\"166.5\" y1=\"216.582\" y2=\"216.582\"/><!--MD5=[1dd1bfd58a279cf63c5f349dbc8fc6a1]\n",
       "class E11--><rect fill=\"#FEFECE\" filter=\"url(#f1jcqc2368sphb)\" height=\"45.9375\" id=\"E11\" rx=\"10\" ry=\"10\" style=\"stroke: #A80036; stroke-width: 1.5;\" width=\"90\" x=\"67\" y=\"300\"/><ellipse cx=\"82\" cy=\"318.9688\" fill=\"#FFA500\" rx=\"11\" ry=\"11\" style=\"stroke: #A80036; stroke-width: 1.0;\"/><path d=\"M77.875,320.8906 L77.875,313.0781 L80.3281,313.0781 L80.3281,321.5156 Q80.3281,322.4375 80.7969,322.9688 Q81.2813,323.5 82.1094,323.5 Q82.9531,323.5 83.4219,322.9688 Q83.8906,322.4375 83.8906,321.5156 L83.8906,313.0781 L86.3438,313.0781 L86.3438,320.8906 Q86.3438,323.4219 85.3438,324.5625 Q84.3438,325.7031 82.1094,325.7031 Q79.8906,325.7031 78.875,324.5625 Q77.875,323.4219 77.875,320.8906 Z \"/><text fill=\"#000000\" font-family=\"sans-serif\" font-size=\"12\" font-style=\"italic\" lengthAdjust=\"spacingAndGlyphs\" textLength=\"47\" x=\"101.5\" y=\"316.1387\">«state»</text><text fill=\"#000000\" font-family=\"sans-serif\" font-size=\"12\" lengthAdjust=\"spacingAndGlyphs\" textLength=\"58\" x=\"96\" y=\"330.1074\">S2: State</text><line style=\"stroke: #A80036; stroke-width: 1.5;\" x1=\"68\" x2=\"156\" y1=\"337.9375\" y2=\"337.9375\"/><!--MD5=[49a0ec8f00dab7302a31f22d0f0fe584]\n",
       "class E12--><rect fill=\"#FEFECE\" filter=\"url(#f1jcqc2368sphb)\" height=\"88.3516\" id=\"E12\" rx=\"10\" ry=\"10\" style=\"stroke: #A80036; stroke-width: 1.5;\" width=\"186\" x=\"32\" y=\"406\"/><ellipse cx=\"47\" cy=\"424.9688\" fill=\"#FFA500\" rx=\"11\" ry=\"11\" style=\"stroke: #A80036; stroke-width: 1.0;\"/><path d=\"M42.875,426.8906 L42.875,419.0781 L45.3281,419.0781 L45.3281,427.5156 Q45.3281,428.4375 45.7969,428.9688 Q46.2813,429.5 47.1094,429.5 Q47.9531,429.5 48.4219,428.9688 Q48.8906,428.4375 48.8906,427.5156 L48.8906,419.0781 L51.3438,419.0781 L51.3438,426.8906 Q51.3438,429.4219 50.3438,430.5625 Q49.3438,431.7031 47.1094,431.7031 Q44.8906,431.7031 43.875,430.5625 Q42.875,429.4219 42.875,426.8906 Z \"/><text fill=\"#000000\" font-family=\"sans-serif\" font-size=\"12\" font-style=\"italic\" lengthAdjust=\"spacingAndGlyphs\" textLength=\"84\" x=\"96\" y=\"422.1387\">«sendAction»</text><text fill=\"#000000\" font-family=\"sans-serif\" font-size=\"12\" lengthAdjust=\"spacingAndGlyphs\" textLength=\"154\" x=\"61\" y=\"436.1074\">doAction: TransferAction</text><line style=\"stroke: #A80036; stroke-width: 1.5;\" x1=\"33\" x2=\"217\" y1=\"443.9375\" y2=\"443.9375\"/><text fill=\"#000000\" font-family=\"sans-serif\" font-size=\"11\" lengthAdjust=\"spacingAndGlyphs\" textLength=\"81\" x=\"38\" y=\"474.9526\">item: Anything</text><text fill=\"#000000\" font-family=\"sans-serif\" font-size=\"11\" font-style=\"italic\" lengthAdjust=\"spacingAndGlyphs\" textLength=\"104\" x=\"38\" y=\"487.7573\">:&gt;&gt;Transfer::item</text><line style=\"stroke: #A80036; stroke-width: 1.0;\" x1=\"33\" x2=\"87.5\" y1=\"458.3398\" y2=\"458.3398\"/><text fill=\"#000000\" font-family=\"sans-serif\" font-size=\"11\" lengthAdjust=\"spacingAndGlyphs\" textLength=\"75\" x=\"87.5\" y=\"461.6479\">itemFeatures</text><line style=\"stroke: #A80036; stroke-width: 1.0;\" x1=\"162.5\" x2=\"217\" y1=\"458.3398\" y2=\"458.3398\"/><!--MD5=[1f5f03483f7de0d5b3680a7f6650997f]\n",
       "reverse link E6 to E11--><path d=\"M107.43,253.2 C108.6,270.82 109.69,287.28 110.52,299.69 \" fill=\"none\" id=\"E6&lt;-E11\" style=\"stroke: #A80036; stroke-width: 1.0;\"/><polygon fill=\"#A80036\" points=\"106.56,240.2,102.9643,246.4507,107.3512,252.1739,110.9469,245.9232,106.56,240.2\" style=\"stroke: #A80036; stroke-width: 1.0;\"/><!--MD5=[94adabc162ce7e41b39f13be14fbaeb3]\n",
       "reverse link E11 to E12--><path d=\"M115.65,359.11 C117.16,373.64 118.93,390.65 120.52,405.93 \" fill=\"none\" id=\"E11&lt;-E12\" style=\"stroke: #A80036; stroke-width: 1.0;\"/><polygon fill=\"#FFFFFF\" points=\"114.29,346.06,110.9313,352.4411,115.5297,357.9958,118.8885,351.6146,114.29,346.06\" style=\"stroke: #A80036; stroke-width: 1.0;\"/><!--MD5=[88ed83c68d332f6e8b61b4862d4a0f75]\n",
       "@startuml\r\n",
       " \r\n",
       "package \"StateTest\" as E1   {\r\n",
       "comp def \"Sig\" as E2  <<(D,brown)attribute def>> {\r\n",
       "x: DataValue\r\n",
       "}\r\n",
       "comp def \"Exit\" as E3  <<(D,brown)attribute def>> {\r\n",
       "}\r\n",
       "comp usage \"p: Part\" as E4  << (P,limegreen) part>> {\r\n",
       "}\r\n",
       "comp usage \"act: Action\" as E5  <<(U,orange)action>> {\r\n",
       "}\r\n",
       "comp def \"S\" as E6  <<(D,brown)state def>> {\r\n",
       "- -performActions- -\r\n",
       "act: Action\\n//:>>State::exitAction// \r\n",
       "A: Performance\\n//:>>State::entryAction// \r\n",
       "B: Action\\n//:>>State::doAction// \r\n",
       "- -states- -\r\n",
       "S1: State\r\n",
       "- -transitions- -\r\n",
       "T: Transition\r\n",
       "}\r\n",
       "comp usage \"S2: State\" as E11  <<(U,orange)state>> {\r\n",
       "}\r\n",
       "comp usage \"doAction: TransferAction\" as E12  <<(U,orange)sendAction>> {\r\n",
       "- -itemFeatures- -\r\n",
       "item: Anything\\n//:>>Transfer::item// \r\n",
       "}\r\n",
       "E6 *- - E11\r\n",
       "E11 o- - E12\r\n",
       "}\r\n",
       "@enduml\r\n",
       "\n",
       "PlantUML version 1.2020.13(Sat Jun 13 12:26:38 UTC 2020)\n",
       "(EPL source distribution)\n",
       "Java Runtime: OpenJDK Runtime Environment\n",
       "JVM: OpenJDK 64-Bit Server VM\n",
       "Default Encoding: UTF-8\n",
       "Language: en\n",
       "Country: null\n",
       "--></g></svg>"
      ]
     },
     "execution_count": 35,
     "metadata": {},
     "output_type": "execute_result"
    }
   ],
   "source": [
    "%viz --style=\"PLANTUML\" --view=\"Sequence\" \"StateTest\""
   ]
  },
  {
   "cell_type": "code",
   "execution_count": 36,
   "id": "supreme-request",
   "metadata": {
    "execution": {
     "iopub.execute_input": "2021-03-26T09:42:47.660050Z",
     "iopub.status.busy": "2021-03-26T09:42:47.659226Z",
     "iopub.status.idle": "2021-03-26T09:42:47.696727Z",
     "shell.execute_reply": "2021-03-26T09:42:47.695489Z"
    }
   },
   "outputs": [
    {
     "data": {
      "image/svg+xml": [
       "<?xml version=\"1.0\" encoding=\"UTF-8\" standalone=\"no\"?><svg xmlns=\"http://www.w3.org/2000/svg\" xmlns:xlink=\"http://www.w3.org/1999/xlink\" contentScriptType=\"application/ecmascript\" contentStyleType=\"text/css\" height=\"557px\" preserveAspectRatio=\"none\" style=\"width:893px;height:557px;\" version=\"1.1\" viewBox=\"0 0 893 557\" width=\"893px\" zoomAndPan=\"magnify\"><defs><filter height=\"300%\" id=\"fh94l8v8td7yo\" width=\"300%\" x=\"-1\" y=\"-1\"><feGaussianBlur result=\"blurOut\" stdDeviation=\"2.0\"/><feColorMatrix in=\"blurOut\" result=\"blurOut2\" type=\"matrix\" values=\"0 0 0 0 0 0 0 0 0 0 0 0 0 0 0 0 0 0 .4 0\"/><feOffset dx=\"4.0\" dy=\"4.0\" in=\"blurOut2\" result=\"blurOut3\"/><feBlend in=\"SourceGraphic\" in2=\"blurOut3\" mode=\"normal\"/></filter></defs><g><!--MD5=[fbc87193dbaf4d95561dea2c320d4a47]\n",
       "cluster E1--><polygon fill=\"#FFFFFF\" filter=\"url(#fh94l8v8td7yo)\" points=\"16,6,98,6,105,28.2969,871,28.2969,871,545.5,16,545.5,16,6\" style=\"stroke: #000000; stroke-width: 1.5;\"/><line style=\"stroke: #000000; stroke-width: 1.5;\" x1=\"16\" x2=\"105\" y1=\"28.2969\" y2=\"28.2969\"/><text fill=\"#000000\" font-family=\"sans-serif\" font-size=\"14\" font-weight=\"bold\" lengthAdjust=\"spacingAndGlyphs\" textLength=\"76\" x=\"20\" y=\"20.9951\">StateTest</text><!--MD5=[14e3b0961a2654348d326746436168a1]\n",
       "cluster E6--><rect fill=\"#FFFFFF\" filter=\"url(#fh94l8v8td7yo)\" height=\"472.5\" style=\"stroke: #000000; stroke-width: 1.5;\" width=\"327\" x=\"520\" y=\"49\"/><text fill=\"#000000\" font-family=\"sans-serif\" font-size=\"14\" font-weight=\"bold\" lengthAdjust=\"spacingAndGlyphs\" textLength=\"10\" x=\"678.5\" y=\"63.9951\">S</text><!--MD5=[b4997ac47864f28c2f74865a473b2911]\n",
       "class E2--><rect fill=\"#FEFECE\" filter=\"url(#fh94l8v8td7yo)\" height=\"58.7422\" id=\"E2\" style=\"stroke: #A80036; stroke-width: 1.5;\" width=\"121\" x=\"382.5\" y=\"111.5\"/><ellipse cx=\"397.5\" cy=\"130.4688\" fill=\"#A52A2A\" rx=\"11\" ry=\"11\" style=\"stroke: #A80036; stroke-width: 1.0;\"/><path d=\"M397.0938,126.2813 L397.0938,134.2656 L397.75,134.2656 Q399.1875,134.2656 399.7969,133.3594 Q400.4219,132.4375 400.4219,130.2656 Q400.4219,128.0938 399.7969,127.1875 Q399.1875,126.2813 397.75,126.2813 L397.0938,126.2813 Z M394.6406,124.0781 L397.2656,124.0781 Q400.2969,124.0781 401.625,125.5313 Q402.9688,126.9688 402.9688,130.2656 Q402.9688,133.5625 401.625,135.0156 Q400.2969,136.4688 397.2656,136.4688 L394.6406,136.4688 L394.6406,124.0781 Z \"/><text fill=\"#000000\" font-family=\"sans-serif\" font-size=\"12\" font-style=\"italic\" lengthAdjust=\"spacingAndGlyphs\" textLength=\"93\" x=\"409.5\" y=\"127.6387\">«attribute def»</text><text fill=\"#000000\" font-family=\"sans-serif\" font-size=\"12\" lengthAdjust=\"spacingAndGlyphs\" textLength=\"19\" x=\"446.5\" y=\"141.6074\">Sig</text><line style=\"stroke: #A80036; stroke-width: 1.5;\" x1=\"383.5\" x2=\"502.5\" y1=\"149.4375\" y2=\"149.4375\"/><text fill=\"#000000\" font-family=\"sans-serif\" font-size=\"11\" lengthAdjust=\"spacingAndGlyphs\" textLength=\"71\" x=\"388.5\" y=\"163.6479\">x: DataValue</text><!--MD5=[09b614a08d8cba4a07c9adeb5e0fee81]\n",
       "class E3--><rect fill=\"#FEFECE\" filter=\"url(#fh94l8v8td7yo)\" height=\"45.9375\" id=\"E3\" style=\"stroke: #A80036; stroke-width: 1.5;\" width=\"121\" x=\"226.5\" y=\"118\"/><ellipse cx=\"241.5\" cy=\"136.9688\" fill=\"#A52A2A\" rx=\"11\" ry=\"11\" style=\"stroke: #A80036; stroke-width: 1.0;\"/><path d=\"M241.0938,132.7813 L241.0938,140.7656 L241.75,140.7656 Q243.1875,140.7656 243.7969,139.8594 Q244.4219,138.9375 244.4219,136.7656 Q244.4219,134.5938 243.7969,133.6875 Q243.1875,132.7813 241.75,132.7813 L241.0938,132.7813 Z M238.6406,130.5781 L241.2656,130.5781 Q244.2969,130.5781 245.625,132.0313 Q246.9688,133.4688 246.9688,136.7656 Q246.9688,140.0625 245.625,141.5156 Q244.2969,142.9688 241.2656,142.9688 L238.6406,142.9688 L238.6406,130.5781 Z \"/><text fill=\"#000000\" font-family=\"sans-serif\" font-size=\"12\" font-style=\"italic\" lengthAdjust=\"spacingAndGlyphs\" textLength=\"93\" x=\"253.5\" y=\"134.1387\">«attribute def»</text><text fill=\"#000000\" font-family=\"sans-serif\" font-size=\"12\" lengthAdjust=\"spacingAndGlyphs\" textLength=\"22\" x=\"289\" y=\"148.1074\">Exit</text><line style=\"stroke: #A80036; stroke-width: 1.5;\" x1=\"227.5\" x2=\"346.5\" y1=\"155.9375\" y2=\"155.9375\"/><!--MD5=[ebbe1d658d1005bcc118a6aa81145e00]\n",
       "class E4--><rect fill=\"#FEFECE\" filter=\"url(#fh94l8v8td7yo)\" height=\"45.9375\" id=\"E4\" rx=\"10\" ry=\"10\" style=\"stroke: #A80036; stroke-width: 1.5;\" width=\"74\" x=\"117\" y=\"118\"/><ellipse cx=\"132\" cy=\"136.9688\" fill=\"#32CD32\" rx=\"11\" ry=\"11\" style=\"stroke: #A80036; stroke-width: 1.0;\"/><path d=\"M131.7969,132.6406 L131.7969,136.2656 L132.7969,136.2656 Q134,136.2656 134.4844,135.8594 Q134.9688,135.4531 134.9688,134.4531 Q134.9688,133.4531 134.4844,133.0469 Q134,132.6406 132.7969,132.6406 L131.7969,132.6406 Z M129.3438,130.5781 L132.7031,130.5781 Q135.2656,130.5781 136.3906,131.5 Q137.5156,132.4063 137.5156,134.4531 Q137.5156,136.5 136.3906,137.4219 Q135.2656,138.3281 132.7031,138.3281 L131.7969,138.3281 L131.7969,142.9688 L129.3438,142.9688 L129.3438,130.5781 Z \"/><text fill=\"#000000\" font-family=\"sans-serif\" font-size=\"12\" font-style=\"italic\" lengthAdjust=\"spacingAndGlyphs\" textLength=\"40\" x=\"147\" y=\"134.1387\">«part»</text><text fill=\"#000000\" font-family=\"sans-serif\" font-size=\"12\" lengthAdjust=\"spacingAndGlyphs\" textLength=\"42\" x=\"146\" y=\"148.1074\">p: Part</text><line style=\"stroke: #A80036; stroke-width: 1.5;\" x1=\"118\" x2=\"190\" y1=\"155.9375\" y2=\"155.9375\"/><g id=\"E1.E5\"><rect fill=\"#FFFFFF\" filter=\"url(#fh94l8v8td7yo)\" height=\"50\" rx=\"12.5\" ry=\"12.5\" style=\"stroke: #A80036; stroke-width: 1.5;\" width=\"50\" x=\"32\" y=\"116\"/><line style=\"stroke: #A80036; stroke-width: 1.5;\" x1=\"32\" x2=\"82\" y1=\"142.2969\" y2=\"142.2969\"/><text fill=\"#000000\" font-family=\"sans-serif\" font-size=\"14\" lengthAdjust=\"spacingAndGlyphs\" textLength=\"21\" x=\"46.5\" y=\"133.9951\">act</text></g><ellipse cx=\"632\" cy=\"141\" fill=\"#000000\" filter=\"url(#fh94l8v8td7yo)\" rx=\"10\" ry=\"10\" style=\"stroke: none; stroke-width: 1.0;\"/><ellipse cx=\"650\" cy=\"495.5\" fill=\"none\" filter=\"url(#fh94l8v8td7yo)\" rx=\"10\" ry=\"10\" style=\"stroke: #000000; stroke-width: 1.0;\"/><ellipse cx=\"650.5\" cy=\"496\" fill=\"#000000\" rx=\"6\" ry=\"6\" style=\"stroke: none; stroke-width: 1.0;\"/><g id=\"E1.E6.E7\"><rect fill=\"#FFFFFF\" filter=\"url(#fh94l8v8td7yo)\" height=\"50\" rx=\"12.5\" ry=\"12.5\" style=\"stroke: #A80036; stroke-width: 1.5;\" width=\"50\" x=\"607\" y=\"231.5\"/><line style=\"stroke: #A80036; stroke-width: 1.5;\" x1=\"607\" x2=\"657\" y1=\"257.7969\" y2=\"257.7969\"/><text fill=\"#000000\" font-family=\"sans-serif\" font-size=\"14\" lengthAdjust=\"spacingAndGlyphs\" textLength=\"18\" x=\"623\" y=\"249.4951\">S1</text></g><g id=\"E1.E6.E8\"><rect fill=\"#FFFFFF\" filter=\"url(#fh94l8v8td7yo)\" height=\"50.2656\" rx=\"12.5\" ry=\"12.5\" style=\"stroke: #A80036; stroke-width: 1.5;\" width=\"142\" x=\"579\" y=\"358.5\"/><line style=\"stroke: #A80036; stroke-width: 1.5;\" x1=\"579\" x2=\"721\" y1=\"384.7969\" y2=\"384.7969\"/><text fill=\"#000000\" font-family=\"sans-serif\" font-size=\"14\" lengthAdjust=\"spacingAndGlyphs\" textLength=\"18\" x=\"641\" y=\"376.4951\">S2</text><text fill=\"#000000\" font-family=\"sans-serif\" font-size=\"12\" font-weight=\"bold\" lengthAdjust=\"spacingAndGlyphs\" textLength=\"18\" x=\"584\" y=\"400.9355\">do</text><text fill=\"#000000\" font-family=\"sans-serif\" font-size=\"12\" lengthAdjust=\"spacingAndGlyphs\" textLength=\"104\" x=\"602\" y=\"400.9355\">/ transferActions</text></g><!--MD5=[5a531d3a85f3339e6e197084acb48195]\n",
       "link *start*E6 to E7--><path d=\"M632,151.29 C632,167.4 632,201.18 632,225.93 \" fill=\"none\" id=\"*start*E6-&gt;E7\" style=\"stroke: #A80036; stroke-width: 1.0;\"/><polygon fill=\"#A80036\" points=\"632,231.07,636,222.07,632,226.07,628,222.07,632,231.07\" style=\"stroke: #A80036; stroke-width: 1.0;\"/><!--MD5=[7ec9a8babba89ddcae1318ca9fb3c814]\n",
       "link E8 to *end*E6--><path d=\"M650,408.64 C650,430.53 650,462.07 650,480.21 \" fill=\"none\" id=\"E8-&gt;*end*E6\" style=\"stroke: #A80036; stroke-width: 1.0;\"/><polygon fill=\"#A80036\" points=\"650,485.38,654,476.38,650,480.38,646,476.38,650,485.38\" style=\"stroke: #A80036; stroke-width: 1.0;\"/><text fill=\"#000000\" font-family=\"sans-serif\" font-size=\"13\" lengthAdjust=\"spacingAndGlyphs\" textLength=\"23\" x=\"651\" y=\"451.5669\">Exit</text><!--MD5=[79bc8f324ef4d02c541433f2e6e513c3]\n",
       "link E7 to E8--><path d=\"M606.86,269.86 C583.91,282.96 555.33,304.98 568,328.5 C573.73,339.14 582.57,348.02 592.37,355.31 \" fill=\"none\" id=\"E7-&gt;E8\" style=\"stroke: #A80036; stroke-width: 1.0;\"/><polygon fill=\"#A80036\" points=\"596.61,358.34,591.6001,349.8606,592.5375,355.4392,586.9588,356.3766,596.61,358.34\" style=\"stroke: #A80036; stroke-width: 1.0;\"/><text fill=\"#000000\" font-family=\"sans-serif\" font-size=\"13\" lengthAdjust=\"spacingAndGlyphs\" textLength=\"81\" x=\"569\" y=\"324.5669\">Sig /action D</text><!--MD5=[bfa3c8b0d15052fdf50ae9310b491027]\n",
       "link E8 to E7--><path d=\"M654.92,358.3 C656.93,344.47 658.14,326.88 655,311.5 C653.28,303.07 650.19,294.32 646.82,286.38 \" fill=\"none\" id=\"E8-&gt;E7\" style=\"stroke: #A80036; stroke-width: 1.0;\"/><polygon fill=\"#A80036\" points=\"644.7,281.56,644.6685,291.4088,646.7161,286.1355,651.9894,288.1831,644.7,281.56\" style=\"stroke: #A80036; stroke-width: 1.0;\"/><text fill=\"#000000\" font-family=\"sans-serif\" font-size=\"13\" lengthAdjust=\"spacingAndGlyphs\" textLength=\"135\" x=\"657\" y=\"324.5669\">Sig [true]/send s to p</text><!--MD5=[305c67bef3df6aec6d2d186d62df3e4a]\n",
       "@startuml\r\n",
       " \r\n",
       "package \"StateTest\" as E1   {\r\n",
       "comp def \"Sig\" as E2  <<(D,brown)attribute def>> {\r\n",
       "x: DataValue\r\n",
       "}\r\n",
       "comp def \"Exit\" as E3  <<(D,brown)attribute def>> {\r\n",
       "}\r\n",
       "comp usage \"p: Part\" as E4  << (P,limegreen) part>> {\r\n",
       "}\r\n",
       "rec usage \"act\" as E5 {\r\n",
       "}\r\n",
       "\r\n",
       "rec def \"S\" as E6 {\r\n",
       "rec usage \"S1\" as E7 {\r\n",
       "}\r\n",
       "\r\n",
       "rec usage \"S2\" as E8 {\r\n",
       "desc \"S2\" as E8  : **do**/ transferActions \r\n",
       "}\r\n",
       "\r\n",
       "[*] - -> E7\r\n",
       "E8  - -> [*] : Exit \r\n",
       "desc \"S\" as E6  : **entry**/ A\r\n",
       "desc \"S\" as E6  : **do**/ B\r\n",
       "desc \"S\" as E6  : **exit**/ act \r\n",
       "}\r\n",
       "\r\n",
       "E7  - -> E8 : Sig /action D\r\n",
       "E8  - -> E7 : Sig [true]/send s to p\r\n",
       "}\r\n",
       "@enduml\r\n",
       "\n",
       "PlantUML version 1.2020.13(Sat Jun 13 12:26:38 UTC 2020)\n",
       "(EPL source distribution)\n",
       "Java Runtime: OpenJDK Runtime Environment\n",
       "JVM: OpenJDK 64-Bit Server VM\n",
       "Default Encoding: UTF-8\n",
       "Language: en\n",
       "Country: null\n",
       "--></g></svg>"
      ]
     },
     "execution_count": 36,
     "metadata": {},
     "output_type": "execute_result"
    }
   ],
   "source": [
    "%viz --style=\"PLANTUML\" --view=\"MIXED\" \"StateTest\""
   ]
  },
  {
   "cell_type": "code",
   "execution_count": 37,
   "id": "contemporary-ensemble",
   "metadata": {
    "execution": {
     "iopub.execute_input": "2021-03-26T09:42:47.749374Z",
     "iopub.status.busy": "2021-03-26T09:42:47.747999Z",
     "iopub.status.idle": "2021-03-26T09:42:47.785241Z",
     "shell.execute_reply": "2021-03-26T09:42:47.784944Z"
    }
   },
   "outputs": [
    {
     "data": {
      "image/svg+xml": [
       "<?xml version=\"1.0\" encoding=\"UTF-8\" standalone=\"no\"?><svg xmlns=\"http://www.w3.org/2000/svg\" xmlns:xlink=\"http://www.w3.org/1999/xlink\" contentScriptType=\"application/ecmascript\" contentStyleType=\"text/css\" height=\"557px\" preserveAspectRatio=\"none\" style=\"width:815px;height:557px;\" version=\"1.1\" viewBox=\"0 0 815 557\" width=\"815px\" zoomAndPan=\"magnify\"><defs/><g><!--MD5=[fbc87193dbaf4d95561dea2c320d4a47]\n",
       "cluster E1--><polygon fill=\"#FFFFFF\" points=\"16,6,98,6,105,28.2969,793,28.2969,793,545.5,16,545.5,16,6\" style=\"stroke: #000000; stroke-width: 1.5;\"/><line style=\"stroke: #000000; stroke-width: 1.5;\" x1=\"16\" x2=\"105\" y1=\"28.2969\" y2=\"28.2969\"/><text fill=\"#000000\" font-family=\"sans-serif\" font-size=\"14\" font-weight=\"bold\" lengthAdjust=\"spacingAndGlyphs\" textLength=\"76\" x=\"20\" y=\"20.9951\">StateTest</text><!--MD5=[14e3b0961a2654348d326746436168a1]\n",
       "cluster E6--><rect fill=\"#FFFFFF\" height=\"472.5\" style=\"stroke: #000000; stroke-width: 1.5;\" width=\"327\" x=\"442\" y=\"49\"/><text fill=\"#000000\" font-family=\"sans-serif\" font-size=\"14\" font-weight=\"bold\" lengthAdjust=\"spacingAndGlyphs\" textLength=\"10\" x=\"600.5\" y=\"63.9951\">S</text><!--MD5=[b4997ac47864f28c2f74865a473b2911]\n",
       "class E2--><rect fill=\"#FFFFFF\" height=\"58.7422\" id=\"E2\" style=\"stroke: #383838; stroke-width: 1.5;\" width=\"95\" x=\"330.5\" y=\"111.5\"/><text fill=\"#000000\" font-family=\"sans-serif\" font-size=\"12\" font-style=\"italic\" lengthAdjust=\"spacingAndGlyphs\" textLength=\"93\" x=\"331.5\" y=\"127.6387\">«attribute def»</text><text fill=\"#000000\" font-family=\"sans-serif\" font-size=\"12\" lengthAdjust=\"spacingAndGlyphs\" textLength=\"19\" x=\"368.5\" y=\"141.6074\">Sig</text><line style=\"stroke: #383838; stroke-width: 1.5;\" x1=\"331.5\" x2=\"424.5\" y1=\"149.4375\" y2=\"149.4375\"/><text fill=\"#000000\" font-family=\"sans-serif\" font-size=\"11\" lengthAdjust=\"spacingAndGlyphs\" textLength=\"71\" x=\"336.5\" y=\"163.6479\">x: DataValue</text><!--MD5=[09b614a08d8cba4a07c9adeb5e0fee81]\n",
       "class E3--><rect fill=\"#FFFFFF\" height=\"45.9375\" id=\"E3\" style=\"stroke: #383838; stroke-width: 1.5;\" width=\"95\" x=\"200.5\" y=\"118\"/><text fill=\"#000000\" font-family=\"sans-serif\" font-size=\"12\" font-style=\"italic\" lengthAdjust=\"spacingAndGlyphs\" textLength=\"93\" x=\"201.5\" y=\"134.1387\">«attribute def»</text><text fill=\"#000000\" font-family=\"sans-serif\" font-size=\"12\" lengthAdjust=\"spacingAndGlyphs\" textLength=\"22\" x=\"237\" y=\"148.1074\">Exit</text><line style=\"stroke: #383838; stroke-width: 1.5;\" x1=\"201.5\" x2=\"294.5\" y1=\"155.9375\" y2=\"155.9375\"/><!--MD5=[ebbe1d658d1005bcc118a6aa81145e00]\n",
       "class E4--><rect fill=\"#FFFFFF\" height=\"45.9375\" id=\"E4\" rx=\"10\" ry=\"10\" style=\"stroke: #383838; stroke-width: 1.5;\" width=\"48\" x=\"117\" y=\"118\"/><text fill=\"#000000\" font-family=\"sans-serif\" font-size=\"12\" font-style=\"italic\" lengthAdjust=\"spacingAndGlyphs\" textLength=\"40\" x=\"121\" y=\"134.1387\">«part»</text><text fill=\"#000000\" font-family=\"sans-serif\" font-size=\"12\" lengthAdjust=\"spacingAndGlyphs\" textLength=\"42\" x=\"120\" y=\"148.1074\">p: Part</text><line style=\"stroke: #383838; stroke-width: 1.5;\" x1=\"118\" x2=\"164\" y1=\"155.9375\" y2=\"155.9375\"/><g id=\"E1.E5\"><rect fill=\"#FFFFFF\" height=\"50\" rx=\"12.5\" ry=\"12.5\" style=\"stroke: #383838; stroke-width: 1.5;\" width=\"50\" x=\"32\" y=\"116\"/><line style=\"stroke: #383838; stroke-width: 1.5;\" x1=\"32\" x2=\"82\" y1=\"142.2969\" y2=\"142.2969\"/><text fill=\"#000000\" font-family=\"sans-serif\" font-size=\"14\" lengthAdjust=\"spacingAndGlyphs\" textLength=\"21\" x=\"46.5\" y=\"133.9951\">act</text></g><ellipse cx=\"554\" cy=\"141\" fill=\"#000000\" rx=\"10\" ry=\"10\" style=\"stroke: none; stroke-width: 1.0;\"/><ellipse cx=\"572\" cy=\"495.5\" fill=\"none\" rx=\"10\" ry=\"10\" style=\"stroke: #000000; stroke-width: 1.0;\"/><ellipse cx=\"572.5\" cy=\"496\" fill=\"#000000\" rx=\"6\" ry=\"6\" style=\"stroke: none; stroke-width: 1.0;\"/><g id=\"E1.E6.E7\"><rect fill=\"#FFFFFF\" height=\"50\" rx=\"12.5\" ry=\"12.5\" style=\"stroke: #383838; stroke-width: 1.5;\" width=\"50\" x=\"529\" y=\"231.5\"/><line style=\"stroke: #383838; stroke-width: 1.5;\" x1=\"529\" x2=\"579\" y1=\"257.7969\" y2=\"257.7969\"/><text fill=\"#000000\" font-family=\"sans-serif\" font-size=\"14\" lengthAdjust=\"spacingAndGlyphs\" textLength=\"18\" x=\"545\" y=\"249.4951\">S1</text></g><g id=\"E1.E6.E8\"><rect fill=\"#FFFFFF\" height=\"50.2656\" rx=\"12.5\" ry=\"12.5\" style=\"stroke: #383838; stroke-width: 1.5;\" width=\"142\" x=\"501\" y=\"358.5\"/><line style=\"stroke: #383838; stroke-width: 1.5;\" x1=\"501\" x2=\"643\" y1=\"384.7969\" y2=\"384.7969\"/><text fill=\"#000000\" font-family=\"sans-serif\" font-size=\"14\" lengthAdjust=\"spacingAndGlyphs\" textLength=\"18\" x=\"563\" y=\"376.4951\">S2</text><text fill=\"#000000\" font-family=\"sans-serif\" font-size=\"12\" font-weight=\"bold\" lengthAdjust=\"spacingAndGlyphs\" textLength=\"18\" x=\"506\" y=\"400.9355\">do</text><text fill=\"#000000\" font-family=\"sans-serif\" font-size=\"12\" lengthAdjust=\"spacingAndGlyphs\" textLength=\"104\" x=\"524\" y=\"400.9355\">/ transferActions</text></g><!--MD5=[5a531d3a85f3339e6e197084acb48195]\n",
       "link *start*E6 to E7--><path d=\"M554,151.29 C554,167.4 554,201.18 554,225.93 \" fill=\"none\" id=\"*start*E6-&gt;E7\" style=\"stroke: #383838; stroke-width: 1.0;\"/><polygon fill=\"#383838\" points=\"554,231.07,558,222.07,554,226.07,550,222.07,554,231.07\" style=\"stroke: #383838; stroke-width: 1.0;\"/><!--MD5=[7ec9a8babba89ddcae1318ca9fb3c814]\n",
       "link E8 to *end*E6--><path d=\"M572,408.64 C572,430.53 572,462.07 572,480.21 \" fill=\"none\" id=\"E8-&gt;*end*E6\" style=\"stroke: #383838; stroke-width: 1.0;\"/><polygon fill=\"#383838\" points=\"572,485.38,576,476.38,572,480.38,568,476.38,572,485.38\" style=\"stroke: #383838; stroke-width: 1.0;\"/><text fill=\"#000000\" font-family=\"sans-serif\" font-size=\"13\" lengthAdjust=\"spacingAndGlyphs\" textLength=\"23\" x=\"573\" y=\"451.5669\">Exit</text><!--MD5=[79bc8f324ef4d02c541433f2e6e513c3]\n",
       "link E7 to E8--><path d=\"M528.86,269.86 C505.91,282.96 477.33,304.98 490,328.5 C495.73,339.14 504.57,348.02 514.37,355.31 \" fill=\"none\" id=\"E7-&gt;E8\" style=\"stroke: #383838; stroke-width: 1.0;\"/><polygon fill=\"#383838\" points=\"518.61,358.34,513.6001,349.8606,514.5375,355.4392,508.9588,356.3766,518.61,358.34\" style=\"stroke: #383838; stroke-width: 1.0;\"/><text fill=\"#000000\" font-family=\"sans-serif\" font-size=\"13\" lengthAdjust=\"spacingAndGlyphs\" textLength=\"81\" x=\"491\" y=\"324.5669\">Sig /action D</text><!--MD5=[bfa3c8b0d15052fdf50ae9310b491027]\n",
       "link E8 to E7--><path d=\"M576.92,358.3 C578.93,344.47 580.14,326.88 577,311.5 C575.28,303.07 572.19,294.32 568.82,286.38 \" fill=\"none\" id=\"E8-&gt;E7\" style=\"stroke: #383838; stroke-width: 1.0;\"/><polygon fill=\"#383838\" points=\"566.7,281.56,566.6685,291.4088,568.7161,286.1355,573.9894,288.1831,566.7,281.56\" style=\"stroke: #383838; stroke-width: 1.0;\"/><text fill=\"#000000\" font-family=\"sans-serif\" font-size=\"13\" lengthAdjust=\"spacingAndGlyphs\" textLength=\"135\" x=\"579\" y=\"324.5669\">Sig [true]/send s to p</text><!--MD5=[bac80fbee62034f1cf331a593a4ad92f]\n",
       "@startuml\r\n",
       "skinparam monochrome true\r\n",
       "skinparam classbackgroundcolor white\r\n",
       "skinparam shadowing false\r\n",
       "skinparam wrapWidth 300\r\n",
       "hide circle\r\n",
       "\r\n",
       "package \"StateTest\" as E1   {\r\n",
       "comp def \"Sig\" as E2  <<(T,blue)attribute def>> {\r\n",
       "x: DataValue\r\n",
       "}\r\n",
       "comp def \"Exit\" as E3  <<(T,blue)attribute def>> {\r\n",
       "}\r\n",
       "comp usage \"p: Part\" as E4  <<(T,blue)part>> {\r\n",
       "}\r\n",
       "rec usage \"act\" as E5 {\r\n",
       "}\r\n",
       "\r\n",
       "rec def \"S\" as E6 {\r\n",
       "rec usage \"S1\" as E7 {\r\n",
       "}\r\n",
       "\r\n",
       "rec usage \"S2\" as E8 {\r\n",
       "desc \"S2\" as E8  : **do**/ transferActions \r\n",
       "}\r\n",
       "\r\n",
       "[*] - -> E7\r\n",
       "E8  - -> [*] : Exit \r\n",
       "desc \"S\" as E6  : **entry**/ A\r\n",
       "desc \"S\" as E6  : **do**/ B\r\n",
       "desc \"S\" as E6  : **exit**/ act \r\n",
       "}\r\n",
       "\r\n",
       "E7  - -> E8 : Sig /action D\r\n",
       "E8  - -> E7 : Sig [true]/send s to p\r\n",
       "}\r\n",
       "@enduml\r\n",
       "\n",
       "PlantUML version 1.2020.13(Sat Jun 13 12:26:38 UTC 2020)\n",
       "(EPL source distribution)\n",
       "Java Runtime: OpenJDK Runtime Environment\n",
       "JVM: OpenJDK 64-Bit Server VM\n",
       "Default Encoding: UTF-8\n",
       "Language: en\n",
       "Country: null\n",
       "--></g></svg>"
      ]
     },
     "execution_count": 37,
     "metadata": {},
     "output_type": "execute_result"
    }
   ],
   "source": [
    "%viz --style=\"DEFAULT\" --view=\"Default\" \"StateTest\""
   ]
  },
  {
   "cell_type": "code",
   "execution_count": 38,
   "id": "powered-subcommittee",
   "metadata": {
    "execution": {
     "iopub.execute_input": "2021-03-26T09:42:47.840667Z",
     "iopub.status.busy": "2021-03-26T09:42:47.840053Z",
     "iopub.status.idle": "2021-03-26T09:42:48.010205Z",
     "shell.execute_reply": "2021-03-26T09:42:48.008675Z"
    }
   },
   "outputs": [
    {
     "data": {
      "image/svg+xml": [
       "<?xml version=\"1.0\" encoding=\"UTF-8\" standalone=\"no\"?><svg xmlns=\"http://www.w3.org/2000/svg\" xmlns:xlink=\"http://www.w3.org/1999/xlink\" contentScriptType=\"application/ecmascript\" contentStyleType=\"text/css\" height=\"522px\" preserveAspectRatio=\"none\" style=\"width:658px;height:522px;\" version=\"1.1\" viewBox=\"0 0 658 522\" width=\"658px\" zoomAndPan=\"magnify\"><defs/><g><!--MD5=[fbc87193dbaf4d95561dea2c320d4a47]\n",
       "cluster E1--><polygon fill=\"#FFFFFF\" points=\"16,6,98,6,105,28.2969,636,28.2969,636,510,16,510,16,6\" style=\"stroke: #000000; stroke-width: 1.5;\"/><line style=\"stroke: #000000; stroke-width: 1.5;\" x1=\"16\" x2=\"105\" y1=\"28.2969\" y2=\"28.2969\"/><text fill=\"#000000\" font-family=\"sans-serif\" font-size=\"14\" font-weight=\"bold\" lengthAdjust=\"spacingAndGlyphs\" textLength=\"76\" x=\"20\" y=\"20.9951\">StateTest</text><!--MD5=[b4997ac47864f28c2f74865a473b2911]\n",
       "class E2--><rect fill=\"#FFFFFF\" height=\"58.7422\" id=\"E2\" style=\"stroke: #383838; stroke-width: 1.5;\" width=\"95\" x=\"524.5\" y=\"111\"/><text fill=\"#000000\" font-family=\"sans-serif\" font-size=\"12\" font-style=\"italic\" lengthAdjust=\"spacingAndGlyphs\" textLength=\"93\" x=\"525.5\" y=\"127.1387\">«attribute def»</text><text fill=\"#000000\" font-family=\"sans-serif\" font-size=\"12\" lengthAdjust=\"spacingAndGlyphs\" textLength=\"19\" x=\"562.5\" y=\"141.1074\">Sig</text><line style=\"stroke: #383838; stroke-width: 1.5;\" x1=\"525.5\" x2=\"618.5\" y1=\"148.9375\" y2=\"148.9375\"/><text fill=\"#000000\" font-family=\"sans-serif\" font-size=\"11\" lengthAdjust=\"spacingAndGlyphs\" textLength=\"71\" x=\"530.5\" y=\"163.1479\">x: DataValue</text><!--MD5=[09b614a08d8cba4a07c9adeb5e0fee81]\n",
       "class E3--><rect fill=\"#FFFFFF\" height=\"45.9375\" id=\"E3\" style=\"stroke: #383838; stroke-width: 1.5;\" width=\"95\" x=\"394.5\" y=\"117.5\"/><text fill=\"#000000\" font-family=\"sans-serif\" font-size=\"12\" font-style=\"italic\" lengthAdjust=\"spacingAndGlyphs\" textLength=\"93\" x=\"395.5\" y=\"133.6387\">«attribute def»</text><text fill=\"#000000\" font-family=\"sans-serif\" font-size=\"12\" lengthAdjust=\"spacingAndGlyphs\" textLength=\"22\" x=\"431\" y=\"147.6074\">Exit</text><line style=\"stroke: #383838; stroke-width: 1.5;\" x1=\"395.5\" x2=\"488.5\" y1=\"155.4375\" y2=\"155.4375\"/><!--MD5=[ebbe1d658d1005bcc118a6aa81145e00]\n",
       "class E4--><rect fill=\"#FFFFFF\" height=\"45.9375\" id=\"E4\" rx=\"10\" ry=\"10\" style=\"stroke: #383838; stroke-width: 1.5;\" width=\"48\" x=\"311\" y=\"117.5\"/><text fill=\"#000000\" font-family=\"sans-serif\" font-size=\"12\" font-style=\"italic\" lengthAdjust=\"spacingAndGlyphs\" textLength=\"40\" x=\"315\" y=\"133.6387\">«part»</text><text fill=\"#000000\" font-family=\"sans-serif\" font-size=\"12\" lengthAdjust=\"spacingAndGlyphs\" textLength=\"42\" x=\"314\" y=\"147.6074\">p: Part</text><line style=\"stroke: #383838; stroke-width: 1.5;\" x1=\"312\" x2=\"358\" y1=\"155.4375\" y2=\"155.4375\"/><!--MD5=[270fce915f116d4de14055a7c1d9a0f3]\n",
       "class E5--><rect fill=\"#FFFFFF\" height=\"45.9375\" id=\"E5\" rx=\"10\" ry=\"10\" style=\"stroke: #383838; stroke-width: 1.5;\" width=\"73\" x=\"202.5\" y=\"117.5\"/><text fill=\"#000000\" font-family=\"sans-serif\" font-size=\"12\" font-style=\"italic\" lengthAdjust=\"spacingAndGlyphs\" textLength=\"53\" x=\"212.5\" y=\"133.6387\">«action»</text><text fill=\"#000000\" font-family=\"sans-serif\" font-size=\"12\" lengthAdjust=\"spacingAndGlyphs\" textLength=\"67\" x=\"205.5\" y=\"147.6074\">act: Action</text><line style=\"stroke: #383838; stroke-width: 1.5;\" x1=\"203.5\" x2=\"274.5\" y1=\"155.4375\" y2=\"155.4375\"/><!--MD5=[60a26617385b1d2d0262a64233df1f8d]\n",
       "class E6--><rect fill=\"#FFFFFF\" height=\"198.7891\" id=\"E6\" style=\"stroke: #383838; stroke-width: 1.5;\" width=\"135\" x=\"32.5\" y=\"41\"/><text fill=\"#000000\" font-family=\"sans-serif\" font-size=\"12\" font-style=\"italic\" lengthAdjust=\"spacingAndGlyphs\" textLength=\"71\" x=\"64.5\" y=\"57.1387\">«state def»</text><text fill=\"#000000\" font-family=\"sans-serif\" font-size=\"12\" lengthAdjust=\"spacingAndGlyphs\" textLength=\"8\" x=\"96\" y=\"71.1074\">S</text><line style=\"stroke: #383838; stroke-width: 1.5;\" x1=\"33.5\" x2=\"166.5\" y1=\"78.9375\" y2=\"78.9375\"/><text fill=\"#000000\" font-family=\"sans-serif\" font-size=\"11\" lengthAdjust=\"spacingAndGlyphs\" textLength=\"59\" x=\"38.5\" y=\"109.9526\">act: Action</text><text fill=\"#000000\" font-family=\"sans-serif\" font-size=\"11\" font-style=\"italic\" lengthAdjust=\"spacingAndGlyphs\" textLength=\"114\" x=\"38.5\" y=\"122.7573\">:&gt;&gt;State::exitAction</text><text fill=\"#000000\" font-family=\"sans-serif\" font-size=\"11\" lengthAdjust=\"spacingAndGlyphs\" textLength=\"88\" x=\"38.5\" y=\"135.562\">A: Performance</text><text fill=\"#000000\" font-family=\"sans-serif\" font-size=\"11\" font-style=\"italic\" lengthAdjust=\"spacingAndGlyphs\" textLength=\"123\" x=\"38.5\" y=\"148.3667\">:&gt;&gt;State::entryAction</text><text fill=\"#000000\" font-family=\"sans-serif\" font-size=\"11\" lengthAdjust=\"spacingAndGlyphs\" textLength=\"50\" x=\"38.5\" y=\"161.1714\">B: Action</text><text fill=\"#000000\" font-family=\"sans-serif\" font-size=\"11\" font-style=\"italic\" lengthAdjust=\"spacingAndGlyphs\" textLength=\"108\" x=\"38.5\" y=\"173.9761\">:&gt;&gt;State::doAction</text><line style=\"stroke: #383838; stroke-width: 1.0;\" x1=\"33.5\" x2=\"56.5\" y1=\"93.3398\" y2=\"93.3398\"/><text fill=\"#000000\" font-family=\"sans-serif\" font-size=\"11\" lengthAdjust=\"spacingAndGlyphs\" textLength=\"87\" x=\"56.5\" y=\"96.6479\">performActions</text><line style=\"stroke: #383838; stroke-width: 1.0;\" x1=\"143.5\" x2=\"166.5\" y1=\"93.3398\" y2=\"93.3398\"/><text fill=\"#000000\" font-family=\"sans-serif\" font-size=\"11\" lengthAdjust=\"spacingAndGlyphs\" textLength=\"53\" x=\"38.5\" y=\"203.5854\">S1: State</text><line style=\"stroke: #383838; stroke-width: 1.0;\" x1=\"33.5\" x2=\"82\" y1=\"186.9727\" y2=\"186.9727\"/><text fill=\"#000000\" font-family=\"sans-serif\" font-size=\"11\" lengthAdjust=\"spacingAndGlyphs\" textLength=\"36\" x=\"82\" y=\"190.2808\">states</text><line style=\"stroke: #383838; stroke-width: 1.0;\" x1=\"118\" x2=\"166.5\" y1=\"186.9727\" y2=\"186.9727\"/><text fill=\"#000000\" font-family=\"sans-serif\" font-size=\"11\" lengthAdjust=\"spacingAndGlyphs\" textLength=\"72\" x=\"38.5\" y=\"233.1948\">T: Transition</text><line style=\"stroke: #383838; stroke-width: 1.0;\" x1=\"33.5\" x2=\"69.5\" y1=\"216.582\" y2=\"216.582\"/><text fill=\"#000000\" font-family=\"sans-serif\" font-size=\"11\" lengthAdjust=\"spacingAndGlyphs\" textLength=\"61\" x=\"69.5\" y=\"219.8901\">transitions</text><line style=\"stroke: #383838; stroke-width: 1.0;\" x1=\"130.5\" x2=\"166.5\" y1=\"216.582\" y2=\"216.582\"/><!--MD5=[1dd1bfd58a279cf63c5f349dbc8fc6a1]\n",
       "class E11--><rect fill=\"#FFFFFF\" height=\"45.9375\" id=\"E11\" rx=\"10\" ry=\"10\" style=\"stroke: #383838; stroke-width: 1.5;\" width=\"64\" x=\"74\" y=\"300\"/><text fill=\"#000000\" font-family=\"sans-serif\" font-size=\"12\" font-style=\"italic\" lengthAdjust=\"spacingAndGlyphs\" textLength=\"47\" x=\"82.5\" y=\"316.1387\">«state»</text><text fill=\"#000000\" font-family=\"sans-serif\" font-size=\"12\" lengthAdjust=\"spacingAndGlyphs\" textLength=\"58\" x=\"77\" y=\"330.1074\">S2: State</text><line style=\"stroke: #383838; stroke-width: 1.5;\" x1=\"75\" x2=\"137\" y1=\"337.9375\" y2=\"337.9375\"/><!--MD5=[49a0ec8f00dab7302a31f22d0f0fe584]\n",
       "class E12--><rect fill=\"#FFFFFF\" height=\"88.3516\" id=\"E12\" rx=\"10\" ry=\"10\" style=\"stroke: #383838; stroke-width: 1.5;\" width=\"160\" x=\"32\" y=\"406\"/><text fill=\"#000000\" font-family=\"sans-serif\" font-size=\"12\" font-style=\"italic\" lengthAdjust=\"spacingAndGlyphs\" textLength=\"84\" x=\"70\" y=\"422.1387\">«sendAction»</text><text fill=\"#000000\" font-family=\"sans-serif\" font-size=\"12\" lengthAdjust=\"spacingAndGlyphs\" textLength=\"154\" x=\"35\" y=\"436.1074\">doAction: TransferAction</text><line style=\"stroke: #383838; stroke-width: 1.5;\" x1=\"33\" x2=\"191\" y1=\"443.9375\" y2=\"443.9375\"/><text fill=\"#000000\" font-family=\"sans-serif\" font-size=\"11\" lengthAdjust=\"spacingAndGlyphs\" textLength=\"81\" x=\"38\" y=\"474.9526\">item: Anything</text><text fill=\"#000000\" font-family=\"sans-serif\" font-size=\"11\" font-style=\"italic\" lengthAdjust=\"spacingAndGlyphs\" textLength=\"104\" x=\"38\" y=\"487.7573\">:&gt;&gt;Transfer::item</text><line style=\"stroke: #383838; stroke-width: 1.0;\" x1=\"33\" x2=\"74.5\" y1=\"458.3398\" y2=\"458.3398\"/><text fill=\"#000000\" font-family=\"sans-serif\" font-size=\"11\" lengthAdjust=\"spacingAndGlyphs\" textLength=\"75\" x=\"74.5\" y=\"461.6479\">itemFeatures</text><line style=\"stroke: #383838; stroke-width: 1.0;\" x1=\"149.5\" x2=\"191\" y1=\"458.3398\" y2=\"458.3398\"/><!--MD5=[1f5f03483f7de0d5b3680a7f6650997f]\n",
       "reverse link E6 to E11--><path d=\"M103.71,253.2 C104.3,270.82 104.85,287.28 105.26,299.69 \" fill=\"none\" id=\"E6&lt;-E11\" style=\"stroke: #383838; stroke-width: 1.0;\"/><polygon fill=\"#383838\" points=\"103.28,240.2,99.4801,246.3287,103.6758,252.1935,107.4757,246.0648,103.28,240.2\" style=\"stroke: #383838; stroke-width: 1.0;\"/><!--MD5=[94adabc162ce7e41b39f13be14fbaeb3]\n",
       "reverse link E11 to E12--><path d=\"M107.69,359.11 C108.38,373.64 109.2,390.65 109.93,405.93 \" fill=\"none\" id=\"E11&lt;-E12\" style=\"stroke: #383838; stroke-width: 1.0;\"/><polygon fill=\"#FFFFFF\" points=\"107.06,346.06,103.348,352.2423,107.627,358.0466,111.339,351.8643,107.06,346.06\" style=\"stroke: #383838; stroke-width: 1.0;\"/><!--MD5=[4b0521091752da51089b448d6416b96a]\n",
       "@startuml\r\n",
       "skinparam monochrome true\r\n",
       "skinparam classbackgroundcolor white\r\n",
       "skinparam shadowing false\r\n",
       "skinparam wrapWidth 300\r\n",
       "hide circle\r\n",
       "\r\n",
       "package \"StateTest\" as E1   {\r\n",
       "comp def \"Sig\" as E2  <<(T,blue)attribute def>> {\r\n",
       "x: DataValue\r\n",
       "}\r\n",
       "comp def \"Exit\" as E3  <<(T,blue)attribute def>> {\r\n",
       "}\r\n",
       "comp usage \"p: Part\" as E4  <<(T,blue)part>> {\r\n",
       "}\r\n",
       "comp usage \"act: Action\" as E5  <<(T,blue)action>> {\r\n",
       "}\r\n",
       "comp def \"S\" as E6  <<(T,blue)state def>> {\r\n",
       "- -performActions- -\r\n",
       "act: Action\\n//:>>State::exitAction// \r\n",
       "A: Performance\\n//:>>State::entryAction// \r\n",
       "B: Action\\n//:>>State::doAction// \r\n",
       "- -states- -\r\n",
       "S1: State\r\n",
       "- -transitions- -\r\n",
       "T: Transition\r\n",
       "}\r\n",
       "comp usage \"S2: State\" as E11  <<(T,blue)state>> {\r\n",
       "}\r\n",
       "comp usage \"doAction: TransferAction\" as E12  <<(T,blue)sendAction>> {\r\n",
       "- -itemFeatures- -\r\n",
       "item: Anything\\n//:>>Transfer::item// \r\n",
       "}\r\n",
       "E6 *- - E11\r\n",
       "E11 o- - E12\r\n",
       "}\r\n",
       "@enduml\r\n",
       "\n",
       "PlantUML version 1.2020.13(Sat Jun 13 12:26:38 UTC 2020)\n",
       "(EPL source distribution)\n",
       "Java Runtime: OpenJDK Runtime Environment\n",
       "JVM: OpenJDK 64-Bit Server VM\n",
       "Default Encoding: UTF-8\n",
       "Language: en\n",
       "Country: null\n",
       "--></g></svg>"
      ]
     },
     "execution_count": 38,
     "metadata": {},
     "output_type": "execute_result"
    }
   ],
   "source": [
    "%viz --style=\"DEFAULT\" --view=\"Tree\" \"StateTest\""
   ]
  },
  {
   "cell_type": "code",
   "execution_count": 39,
   "id": "favorite-theta",
   "metadata": {
    "execution": {
     "iopub.execute_input": "2021-03-26T09:42:48.060431Z",
     "iopub.status.busy": "2021-03-26T09:42:48.059931Z",
     "iopub.status.idle": "2021-03-26T09:42:48.063048Z",
     "shell.execute_reply": "2021-03-26T09:42:48.062571Z"
    }
   },
   "outputs": [
    {
     "data": {
      "text/plain": [
       "java.lang.IllegalArgumentException: Invalid View: State View candidates are: Default Tree StateMachine Interconnection Activity Sequence MIXED \n",
       "\tat org.omg.sysml.plantuml.SysML2PlantUMLSvc.setView(SysML2PlantUMLSvc.java:63)\n",
       "\tat org.omg.sysml.interactive.SysMLInteractive.viz(SysMLInteractive.java:286)\n",
       "\tat org.omg.sysml.jupyter.kernel.magic.Viz.viz(Viz.java:47)\n",
       "\tat jdk.internal.reflect.GeneratedMethodAccessor13.invoke(Unknown Source)\n",
       "\tat java.base/jdk.internal.reflect.DelegatingMethodAccessorImpl.invoke(DelegatingMethodAccessorImpl.java:43)\n",
       "\tat java.base/java.lang.reflect.Method.invoke(Method.java:568)\n",
       "\tat io.github.spencerpark.jupyter.kernel.magic.registry.Magics.invoke(Magics.java:89)\n",
       "\tat io.github.spencerpark.jupyter.kernel.magic.registry.Magics.access$000(Magics.java:8)\n",
       "\tat io.github.spencerpark.jupyter.kernel.magic.registry.Magics$LineReflectionMagicFunction.execute(Magics.java:149)\n",
       "\tat io.github.spencerpark.jupyter.kernel.magic.registry.Magics.applyLineMagic(Magics.java:26)\n",
       "\tat org.omg.sysml.jupyter.kernel.SysMLKernel.eval(SysMLKernel.java:76)\n",
       "\tat io.github.spencerpark.jupyter.kernel.BaseKernel.handleExecuteRequest(BaseKernel.java:334)\n",
       "\tat io.github.spencerpark.jupyter.channels.ShellChannel.lambda$bind$0(ShellChannel.java:64)\n",
       "\tat io.github.spencerpark.jupyter.channels.Loop.lambda$new$0(Loop.java:21)\n",
       "\tat io.github.spencerpark.jupyter.channels.Loop.run(Loop.java:78)\n"
      ]
     },
     "execution_count": 39,
     "metadata": {},
     "output_type": "execute_result"
    }
   ],
   "source": [
    "%viz --style=\"DEFAULT\" --view=\"State\" \"StateTest\""
   ]
  },
  {
   "cell_type": "code",
   "execution_count": 40,
   "id": "immune-perfume",
   "metadata": {
    "execution": {
     "iopub.execute_input": "2021-03-26T09:42:48.113718Z",
     "iopub.status.busy": "2021-03-26T09:42:48.113075Z",
     "iopub.status.idle": "2021-03-26T09:42:48.137145Z",
     "shell.execute_reply": "2021-03-26T09:42:48.136573Z"
    }
   },
   "outputs": [
    {
     "data": {
      "image/svg+xml": [
       "<?xml version=\"1.0\" encoding=\"UTF-8\" standalone=\"no\"?><svg xmlns=\"http://www.w3.org/2000/svg\" xmlns:xlink=\"http://www.w3.org/1999/xlink\" contentScriptType=\"application/ecmascript\" contentStyleType=\"text/css\" height=\"123px\" preserveAspectRatio=\"none\" style=\"width:631px;height:123px;\" version=\"1.1\" viewBox=\"0 0 631 123\" width=\"631px\" zoomAndPan=\"magnify\"><defs/><g><!--MD5=[fbc87193dbaf4d95561dea2c320d4a47]\n",
       "cluster E1--><polygon fill=\"#FFFFFF\" points=\"16,6,98,6,105,28.2969,609,28.2969,609,111,16,111,16,6\" style=\"stroke: #000000; stroke-width: 1.5;\"/><line style=\"stroke: #000000; stroke-width: 1.5;\" x1=\"16\" x2=\"105\" y1=\"28.2969\" y2=\"28.2969\"/><text fill=\"#000000\" font-family=\"sans-serif\" font-size=\"14\" font-weight=\"bold\" lengthAdjust=\"spacingAndGlyphs\" textLength=\"76\" x=\"20\" y=\"20.9951\">StateTest</text><!--MD5=[b4997ac47864f28c2f74865a473b2911]\n",
       "class E2--><rect fill=\"#FFFFFF\" height=\"53.9375\" id=\"E2\" style=\"stroke: #383838; stroke-width: 1.5;\" width=\"95\" x=\"497.5\" y=\"41\"/><text fill=\"#000000\" font-family=\"sans-serif\" font-size=\"12\" font-style=\"italic\" lengthAdjust=\"spacingAndGlyphs\" textLength=\"93\" x=\"498.5\" y=\"57.1387\">«attribute def»</text><text fill=\"#000000\" font-family=\"sans-serif\" font-size=\"12\" lengthAdjust=\"spacingAndGlyphs\" textLength=\"19\" x=\"535.5\" y=\"71.1074\">Sig</text><line style=\"stroke: #383838; stroke-width: 1.5;\" x1=\"498.5\" x2=\"591.5\" y1=\"78.9375\" y2=\"78.9375\"/><line style=\"stroke: #383838; stroke-width: 1.5;\" x1=\"498.5\" x2=\"591.5\" y1=\"86.9375\" y2=\"86.9375\"/><!--MD5=[09b614a08d8cba4a07c9adeb5e0fee81]\n",
       "class E3--><rect fill=\"#FFFFFF\" height=\"53.9375\" id=\"E3\" style=\"stroke: #383838; stroke-width: 1.5;\" width=\"95\" x=\"367.5\" y=\"41\"/><text fill=\"#000000\" font-family=\"sans-serif\" font-size=\"12\" font-style=\"italic\" lengthAdjust=\"spacingAndGlyphs\" textLength=\"93\" x=\"368.5\" y=\"57.1387\">«attribute def»</text><text fill=\"#000000\" font-family=\"sans-serif\" font-size=\"12\" lengthAdjust=\"spacingAndGlyphs\" textLength=\"22\" x=\"404\" y=\"71.1074\">Exit</text><line style=\"stroke: #383838; stroke-width: 1.5;\" x1=\"368.5\" x2=\"461.5\" y1=\"78.9375\" y2=\"78.9375\"/><line style=\"stroke: #383838; stroke-width: 1.5;\" x1=\"368.5\" x2=\"461.5\" y1=\"86.9375\" y2=\"86.9375\"/><!--MD5=[60a26617385b1d2d0262a64233df1f8d]\n",
       "class E6--><rect fill=\"#FFFFFF\" height=\"53.9375\" id=\"E6\" style=\"stroke: #383838; stroke-width: 1.5;\" width=\"73\" x=\"259.5\" y=\"41\"/><text fill=\"#000000\" font-family=\"sans-serif\" font-size=\"12\" font-style=\"italic\" lengthAdjust=\"spacingAndGlyphs\" textLength=\"71\" x=\"260.5\" y=\"57.1387\">«state def»</text><text fill=\"#000000\" font-family=\"sans-serif\" font-size=\"12\" lengthAdjust=\"spacingAndGlyphs\" textLength=\"8\" x=\"292\" y=\"71.1074\">S</text><line style=\"stroke: #383838; stroke-width: 1.5;\" x1=\"260.5\" x2=\"331.5\" y1=\"78.9375\" y2=\"78.9375\"/><line style=\"stroke: #383838; stroke-width: 1.5;\" x1=\"260.5\" x2=\"331.5\" y1=\"86.9375\" y2=\"86.9375\"/><g id=\"E1.E4\"><rect fill=\"#FFFFFF\" height=\"50\" rx=\"12.5\" ry=\"12.5\" style=\"stroke: #383838; stroke-width: 1.5;\" width=\"65\" x=\"159.5\" y=\"43\"/><line style=\"stroke: #383838; stroke-width: 1.5;\" x1=\"159.5\" x2=\"224.5\" y1=\"69.2969\" y2=\"69.2969\"/><text fill=\"#000000\" font-family=\"sans-serif\" font-size=\"14\" lengthAdjust=\"spacingAndGlyphs\" textLength=\"45\" x=\"169.5\" y=\"60.9951\">p: Part</text></g><g id=\"E1.E5\"><rect fill=\"#FFFFFF\" height=\"50\" rx=\"12.5\" ry=\"12.5\" style=\"stroke: #383838; stroke-width: 1.5;\" width=\"93\" x=\"31.5\" y=\"43\"/><line style=\"stroke: #383838; stroke-width: 1.5;\" x1=\"31.5\" x2=\"124.5\" y1=\"69.2969\" y2=\"69.2969\"/><text fill=\"#000000\" font-family=\"sans-serif\" font-size=\"14\" lengthAdjust=\"spacingAndGlyphs\" textLength=\"73\" x=\"41.5\" y=\"60.9951\">act: Action</text></g><!--MD5=[d2fe44aa5b9a348a157f1090655bf533]\n",
       "@startuml\r\n",
       "skinparam ranksep 8\r\n",
       "skinparam rectangle {\r\n",
       " backgroundColor<<block>> LightGreen\r\n",
       "}\r\n",
       "skinparam monochrome true\r\n",
       "skinparam classbackgroundcolor white\r\n",
       "skinparam shadowing false\r\n",
       "skinparam wrapWidth 300\r\n",
       "hide circle\r\n",
       "\r\n",
       "package \"StateTest\" as E1   {\r\n",
       "def \"Sig\" as E2  <<attribute def>> \r\n",
       "def \"Exit\" as E3  <<attribute def>> \r\n",
       "rec usage \"p: Part\" as E4  {\r\n",
       "}\r\n",
       "rec usage \"act: Action\" as E5  <<action>> {\r\n",
       "}\r\n",
       "def \"S\" as E6  <<state def>> \r\n",
       "}\r\n",
       "@enduml\r\n",
       "\n",
       "PlantUML version 1.2020.13(Sat Jun 13 12:26:38 UTC 2020)\n",
       "(EPL source distribution)\n",
       "Java Runtime: OpenJDK Runtime Environment\n",
       "JVM: OpenJDK 64-Bit Server VM\n",
       "Default Encoding: UTF-8\n",
       "Language: en\n",
       "Country: null\n",
       "--></g></svg>"
      ]
     },
     "execution_count": 40,
     "metadata": {},
     "output_type": "execute_result"
    }
   ],
   "source": [
    "%viz --style=\"DEFAULT\" --view=\"Interconnection\" \"StateTest\""
   ]
  },
  {
   "cell_type": "code",
   "execution_count": 41,
   "id": "infrared-berkeley",
   "metadata": {
    "execution": {
     "iopub.execute_input": "2021-03-26T09:42:48.187895Z",
     "iopub.status.busy": "2021-03-26T09:42:48.187214Z",
     "iopub.status.idle": "2021-03-26T09:42:48.191874Z",
     "shell.execute_reply": "2021-03-26T09:42:48.191068Z"
    }
   },
   "outputs": [
    {
     "data": {
      "text/plain": [
       "java.lang.IllegalArgumentException: Invalid View: Action View candidates are: Default Tree StateMachine Interconnection Activity Sequence MIXED \n",
       "\tat org.omg.sysml.plantuml.SysML2PlantUMLSvc.setView(SysML2PlantUMLSvc.java:63)\n",
       "\tat org.omg.sysml.interactive.SysMLInteractive.viz(SysMLInteractive.java:286)\n",
       "\tat org.omg.sysml.jupyter.kernel.magic.Viz.viz(Viz.java:47)\n",
       "\tat jdk.internal.reflect.GeneratedMethodAccessor13.invoke(Unknown Source)\n",
       "\tat java.base/jdk.internal.reflect.DelegatingMethodAccessorImpl.invoke(DelegatingMethodAccessorImpl.java:43)\n",
       "\tat java.base/java.lang.reflect.Method.invoke(Method.java:568)\n",
       "\tat io.github.spencerpark.jupyter.kernel.magic.registry.Magics.invoke(Magics.java:89)\n",
       "\tat io.github.spencerpark.jupyter.kernel.magic.registry.Magics.access$000(Magics.java:8)\n",
       "\tat io.github.spencerpark.jupyter.kernel.magic.registry.Magics$LineReflectionMagicFunction.execute(Magics.java:149)\n",
       "\tat io.github.spencerpark.jupyter.kernel.magic.registry.Magics.applyLineMagic(Magics.java:26)\n",
       "\tat org.omg.sysml.jupyter.kernel.SysMLKernel.eval(SysMLKernel.java:76)\n",
       "\tat io.github.spencerpark.jupyter.kernel.BaseKernel.handleExecuteRequest(BaseKernel.java:334)\n",
       "\tat io.github.spencerpark.jupyter.channels.ShellChannel.lambda$bind$0(ShellChannel.java:64)\n",
       "\tat io.github.spencerpark.jupyter.channels.Loop.lambda$new$0(Loop.java:21)\n",
       "\tat io.github.spencerpark.jupyter.channels.Loop.run(Loop.java:78)\n"
      ]
     },
     "execution_count": 41,
     "metadata": {},
     "output_type": "execute_result"
    }
   ],
   "source": [
    "%viz --style=\"DEFAULT\" --view=\"Action\" \"StateTest\""
   ]
  },
  {
   "cell_type": "code",
   "execution_count": 42,
   "id": "statistical-arena",
   "metadata": {
    "execution": {
     "iopub.execute_input": "2021-03-26T09:42:48.245205Z",
     "iopub.status.busy": "2021-03-26T09:42:48.244733Z",
     "iopub.status.idle": "2021-03-26T09:42:48.418412Z",
     "shell.execute_reply": "2021-03-26T09:42:48.416856Z"
    }
   },
   "outputs": [
    {
     "data": {
      "image/svg+xml": [
       "<?xml version=\"1.0\" encoding=\"UTF-8\" standalone=\"no\"?><svg xmlns=\"http://www.w3.org/2000/svg\" xmlns:xlink=\"http://www.w3.org/1999/xlink\" contentScriptType=\"application/ecmascript\" contentStyleType=\"text/css\" height=\"522px\" preserveAspectRatio=\"none\" style=\"width:658px;height:522px;\" version=\"1.1\" viewBox=\"0 0 658 522\" width=\"658px\" zoomAndPan=\"magnify\"><defs/><g><!--MD5=[fbc87193dbaf4d95561dea2c320d4a47]\n",
       "cluster E1--><polygon fill=\"#FFFFFF\" points=\"16,6,98,6,105,28.2969,636,28.2969,636,510,16,510,16,6\" style=\"stroke: #000000; stroke-width: 1.5;\"/><line style=\"stroke: #000000; stroke-width: 1.5;\" x1=\"16\" x2=\"105\" y1=\"28.2969\" y2=\"28.2969\"/><text fill=\"#000000\" font-family=\"sans-serif\" font-size=\"14\" font-weight=\"bold\" lengthAdjust=\"spacingAndGlyphs\" textLength=\"76\" x=\"20\" y=\"20.9951\">StateTest</text><!--MD5=[b4997ac47864f28c2f74865a473b2911]\n",
       "class E2--><rect fill=\"#FFFFFF\" height=\"58.7422\" id=\"E2\" style=\"stroke: #383838; stroke-width: 1.5;\" width=\"95\" x=\"524.5\" y=\"111\"/><text fill=\"#000000\" font-family=\"sans-serif\" font-size=\"12\" font-style=\"italic\" lengthAdjust=\"spacingAndGlyphs\" textLength=\"93\" x=\"525.5\" y=\"127.1387\">«attribute def»</text><text fill=\"#000000\" font-family=\"sans-serif\" font-size=\"12\" lengthAdjust=\"spacingAndGlyphs\" textLength=\"19\" x=\"562.5\" y=\"141.1074\">Sig</text><line style=\"stroke: #383838; stroke-width: 1.5;\" x1=\"525.5\" x2=\"618.5\" y1=\"148.9375\" y2=\"148.9375\"/><text fill=\"#000000\" font-family=\"sans-serif\" font-size=\"11\" lengthAdjust=\"spacingAndGlyphs\" textLength=\"71\" x=\"530.5\" y=\"163.1479\">x: DataValue</text><!--MD5=[09b614a08d8cba4a07c9adeb5e0fee81]\n",
       "class E3--><rect fill=\"#FFFFFF\" height=\"45.9375\" id=\"E3\" style=\"stroke: #383838; stroke-width: 1.5;\" width=\"95\" x=\"394.5\" y=\"117.5\"/><text fill=\"#000000\" font-family=\"sans-serif\" font-size=\"12\" font-style=\"italic\" lengthAdjust=\"spacingAndGlyphs\" textLength=\"93\" x=\"395.5\" y=\"133.6387\">«attribute def»</text><text fill=\"#000000\" font-family=\"sans-serif\" font-size=\"12\" lengthAdjust=\"spacingAndGlyphs\" textLength=\"22\" x=\"431\" y=\"147.6074\">Exit</text><line style=\"stroke: #383838; stroke-width: 1.5;\" x1=\"395.5\" x2=\"488.5\" y1=\"155.4375\" y2=\"155.4375\"/><!--MD5=[ebbe1d658d1005bcc118a6aa81145e00]\n",
       "class E4--><rect fill=\"#FFFFFF\" height=\"45.9375\" id=\"E4\" rx=\"10\" ry=\"10\" style=\"stroke: #383838; stroke-width: 1.5;\" width=\"48\" x=\"311\" y=\"117.5\"/><text fill=\"#000000\" font-family=\"sans-serif\" font-size=\"12\" font-style=\"italic\" lengthAdjust=\"spacingAndGlyphs\" textLength=\"40\" x=\"315\" y=\"133.6387\">«part»</text><text fill=\"#000000\" font-family=\"sans-serif\" font-size=\"12\" lengthAdjust=\"spacingAndGlyphs\" textLength=\"42\" x=\"314\" y=\"147.6074\">p: Part</text><line style=\"stroke: #383838; stroke-width: 1.5;\" x1=\"312\" x2=\"358\" y1=\"155.4375\" y2=\"155.4375\"/><!--MD5=[270fce915f116d4de14055a7c1d9a0f3]\n",
       "class E5--><rect fill=\"#FFFFFF\" height=\"45.9375\" id=\"E5\" rx=\"10\" ry=\"10\" style=\"stroke: #383838; stroke-width: 1.5;\" width=\"73\" x=\"202.5\" y=\"117.5\"/><text fill=\"#000000\" font-family=\"sans-serif\" font-size=\"12\" font-style=\"italic\" lengthAdjust=\"spacingAndGlyphs\" textLength=\"53\" x=\"212.5\" y=\"133.6387\">«action»</text><text fill=\"#000000\" font-family=\"sans-serif\" font-size=\"12\" lengthAdjust=\"spacingAndGlyphs\" textLength=\"67\" x=\"205.5\" y=\"147.6074\">act: Action</text><line style=\"stroke: #383838; stroke-width: 1.5;\" x1=\"203.5\" x2=\"274.5\" y1=\"155.4375\" y2=\"155.4375\"/><!--MD5=[60a26617385b1d2d0262a64233df1f8d]\n",
       "class E6--><rect fill=\"#FFFFFF\" height=\"198.7891\" id=\"E6\" style=\"stroke: #383838; stroke-width: 1.5;\" width=\"135\" x=\"32.5\" y=\"41\"/><text fill=\"#000000\" font-family=\"sans-serif\" font-size=\"12\" font-style=\"italic\" lengthAdjust=\"spacingAndGlyphs\" textLength=\"71\" x=\"64.5\" y=\"57.1387\">«state def»</text><text fill=\"#000000\" font-family=\"sans-serif\" font-size=\"12\" lengthAdjust=\"spacingAndGlyphs\" textLength=\"8\" x=\"96\" y=\"71.1074\">S</text><line style=\"stroke: #383838; stroke-width: 1.5;\" x1=\"33.5\" x2=\"166.5\" y1=\"78.9375\" y2=\"78.9375\"/><text fill=\"#000000\" font-family=\"sans-serif\" font-size=\"11\" lengthAdjust=\"spacingAndGlyphs\" textLength=\"59\" x=\"38.5\" y=\"109.9526\">act: Action</text><text fill=\"#000000\" font-family=\"sans-serif\" font-size=\"11\" font-style=\"italic\" lengthAdjust=\"spacingAndGlyphs\" textLength=\"114\" x=\"38.5\" y=\"122.7573\">:&gt;&gt;State::exitAction</text><text fill=\"#000000\" font-family=\"sans-serif\" font-size=\"11\" lengthAdjust=\"spacingAndGlyphs\" textLength=\"88\" x=\"38.5\" y=\"135.562\">A: Performance</text><text fill=\"#000000\" font-family=\"sans-serif\" font-size=\"11\" font-style=\"italic\" lengthAdjust=\"spacingAndGlyphs\" textLength=\"123\" x=\"38.5\" y=\"148.3667\">:&gt;&gt;State::entryAction</text><text fill=\"#000000\" font-family=\"sans-serif\" font-size=\"11\" lengthAdjust=\"spacingAndGlyphs\" textLength=\"50\" x=\"38.5\" y=\"161.1714\">B: Action</text><text fill=\"#000000\" font-family=\"sans-serif\" font-size=\"11\" font-style=\"italic\" lengthAdjust=\"spacingAndGlyphs\" textLength=\"108\" x=\"38.5\" y=\"173.9761\">:&gt;&gt;State::doAction</text><line style=\"stroke: #383838; stroke-width: 1.0;\" x1=\"33.5\" x2=\"56.5\" y1=\"93.3398\" y2=\"93.3398\"/><text fill=\"#000000\" font-family=\"sans-serif\" font-size=\"11\" lengthAdjust=\"spacingAndGlyphs\" textLength=\"87\" x=\"56.5\" y=\"96.6479\">performActions</text><line style=\"stroke: #383838; stroke-width: 1.0;\" x1=\"143.5\" x2=\"166.5\" y1=\"93.3398\" y2=\"93.3398\"/><text fill=\"#000000\" font-family=\"sans-serif\" font-size=\"11\" lengthAdjust=\"spacingAndGlyphs\" textLength=\"53\" x=\"38.5\" y=\"203.5854\">S1: State</text><line style=\"stroke: #383838; stroke-width: 1.0;\" x1=\"33.5\" x2=\"82\" y1=\"186.9727\" y2=\"186.9727\"/><text fill=\"#000000\" font-family=\"sans-serif\" font-size=\"11\" lengthAdjust=\"spacingAndGlyphs\" textLength=\"36\" x=\"82\" y=\"190.2808\">states</text><line style=\"stroke: #383838; stroke-width: 1.0;\" x1=\"118\" x2=\"166.5\" y1=\"186.9727\" y2=\"186.9727\"/><text fill=\"#000000\" font-family=\"sans-serif\" font-size=\"11\" lengthAdjust=\"spacingAndGlyphs\" textLength=\"72\" x=\"38.5\" y=\"233.1948\">T: Transition</text><line style=\"stroke: #383838; stroke-width: 1.0;\" x1=\"33.5\" x2=\"69.5\" y1=\"216.582\" y2=\"216.582\"/><text fill=\"#000000\" font-family=\"sans-serif\" font-size=\"11\" lengthAdjust=\"spacingAndGlyphs\" textLength=\"61\" x=\"69.5\" y=\"219.8901\">transitions</text><line style=\"stroke: #383838; stroke-width: 1.0;\" x1=\"130.5\" x2=\"166.5\" y1=\"216.582\" y2=\"216.582\"/><!--MD5=[1dd1bfd58a279cf63c5f349dbc8fc6a1]\n",
       "class E11--><rect fill=\"#FFFFFF\" height=\"45.9375\" id=\"E11\" rx=\"10\" ry=\"10\" style=\"stroke: #383838; stroke-width: 1.5;\" width=\"64\" x=\"74\" y=\"300\"/><text fill=\"#000000\" font-family=\"sans-serif\" font-size=\"12\" font-style=\"italic\" lengthAdjust=\"spacingAndGlyphs\" textLength=\"47\" x=\"82.5\" y=\"316.1387\">«state»</text><text fill=\"#000000\" font-family=\"sans-serif\" font-size=\"12\" lengthAdjust=\"spacingAndGlyphs\" textLength=\"58\" x=\"77\" y=\"330.1074\">S2: State</text><line style=\"stroke: #383838; stroke-width: 1.5;\" x1=\"75\" x2=\"137\" y1=\"337.9375\" y2=\"337.9375\"/><!--MD5=[49a0ec8f00dab7302a31f22d0f0fe584]\n",
       "class E12--><rect fill=\"#FFFFFF\" height=\"88.3516\" id=\"E12\" rx=\"10\" ry=\"10\" style=\"stroke: #383838; stroke-width: 1.5;\" width=\"160\" x=\"32\" y=\"406\"/><text fill=\"#000000\" font-family=\"sans-serif\" font-size=\"12\" font-style=\"italic\" lengthAdjust=\"spacingAndGlyphs\" textLength=\"84\" x=\"70\" y=\"422.1387\">«sendAction»</text><text fill=\"#000000\" font-family=\"sans-serif\" font-size=\"12\" lengthAdjust=\"spacingAndGlyphs\" textLength=\"154\" x=\"35\" y=\"436.1074\">doAction: TransferAction</text><line style=\"stroke: #383838; stroke-width: 1.5;\" x1=\"33\" x2=\"191\" y1=\"443.9375\" y2=\"443.9375\"/><text fill=\"#000000\" font-family=\"sans-serif\" font-size=\"11\" lengthAdjust=\"spacingAndGlyphs\" textLength=\"81\" x=\"38\" y=\"474.9526\">item: Anything</text><text fill=\"#000000\" font-family=\"sans-serif\" font-size=\"11\" font-style=\"italic\" lengthAdjust=\"spacingAndGlyphs\" textLength=\"104\" x=\"38\" y=\"487.7573\">:&gt;&gt;Transfer::item</text><line style=\"stroke: #383838; stroke-width: 1.0;\" x1=\"33\" x2=\"74.5\" y1=\"458.3398\" y2=\"458.3398\"/><text fill=\"#000000\" font-family=\"sans-serif\" font-size=\"11\" lengthAdjust=\"spacingAndGlyphs\" textLength=\"75\" x=\"74.5\" y=\"461.6479\">itemFeatures</text><line style=\"stroke: #383838; stroke-width: 1.0;\" x1=\"149.5\" x2=\"191\" y1=\"458.3398\" y2=\"458.3398\"/><!--MD5=[1f5f03483f7de0d5b3680a7f6650997f]\n",
       "reverse link E6 to E11--><path d=\"M103.71,253.2 C104.3,270.82 104.85,287.28 105.26,299.69 \" fill=\"none\" id=\"E6&lt;-E11\" style=\"stroke: #383838; stroke-width: 1.0;\"/><polygon fill=\"#383838\" points=\"103.28,240.2,99.4801,246.3287,103.6758,252.1935,107.4757,246.0648,103.28,240.2\" style=\"stroke: #383838; stroke-width: 1.0;\"/><!--MD5=[94adabc162ce7e41b39f13be14fbaeb3]\n",
       "reverse link E11 to E12--><path d=\"M107.69,359.11 C108.38,373.64 109.2,390.65 109.93,405.93 \" fill=\"none\" id=\"E11&lt;-E12\" style=\"stroke: #383838; stroke-width: 1.0;\"/><polygon fill=\"#FFFFFF\" points=\"107.06,346.06,103.348,352.2423,107.627,358.0466,111.339,351.8643,107.06,346.06\" style=\"stroke: #383838; stroke-width: 1.0;\"/><!--MD5=[4b0521091752da51089b448d6416b96a]\n",
       "@startuml\r\n",
       "skinparam monochrome true\r\n",
       "skinparam classbackgroundcolor white\r\n",
       "skinparam shadowing false\r\n",
       "skinparam wrapWidth 300\r\n",
       "hide circle\r\n",
       "\r\n",
       "package \"StateTest\" as E1   {\r\n",
       "comp def \"Sig\" as E2  <<(T,blue)attribute def>> {\r\n",
       "x: DataValue\r\n",
       "}\r\n",
       "comp def \"Exit\" as E3  <<(T,blue)attribute def>> {\r\n",
       "}\r\n",
       "comp usage \"p: Part\" as E4  <<(T,blue)part>> {\r\n",
       "}\r\n",
       "comp usage \"act: Action\" as E5  <<(T,blue)action>> {\r\n",
       "}\r\n",
       "comp def \"S\" as E6  <<(T,blue)state def>> {\r\n",
       "- -performActions- -\r\n",
       "act: Action\\n//:>>State::exitAction// \r\n",
       "A: Performance\\n//:>>State::entryAction// \r\n",
       "B: Action\\n//:>>State::doAction// \r\n",
       "- -states- -\r\n",
       "S1: State\r\n",
       "- -transitions- -\r\n",
       "T: Transition\r\n",
       "}\r\n",
       "comp usage \"S2: State\" as E11  <<(T,blue)state>> {\r\n",
       "}\r\n",
       "comp usage \"doAction: TransferAction\" as E12  <<(T,blue)sendAction>> {\r\n",
       "- -itemFeatures- -\r\n",
       "item: Anything\\n//:>>Transfer::item// \r\n",
       "}\r\n",
       "E6 *- - E11\r\n",
       "E11 o- - E12\r\n",
       "}\r\n",
       "@enduml\r\n",
       "\n",
       "PlantUML version 1.2020.13(Sat Jun 13 12:26:38 UTC 2020)\n",
       "(EPL source distribution)\n",
       "Java Runtime: OpenJDK Runtime Environment\n",
       "JVM: OpenJDK 64-Bit Server VM\n",
       "Default Encoding: UTF-8\n",
       "Language: en\n",
       "Country: null\n",
       "--></g></svg>"
      ]
     },
     "execution_count": 42,
     "metadata": {},
     "output_type": "execute_result"
    }
   ],
   "source": [
    "%viz --style=\"DEFAULT\" --view=\"Sequence\" \"StateTest\""
   ]
  },
  {
   "cell_type": "code",
   "execution_count": 43,
   "id": "pleasant-moldova",
   "metadata": {
    "execution": {
     "iopub.execute_input": "2021-03-26T09:42:48.469260Z",
     "iopub.status.busy": "2021-03-26T09:42:48.468642Z",
     "iopub.status.idle": "2021-03-26T09:42:48.513861Z",
     "shell.execute_reply": "2021-03-26T09:42:48.511496Z"
    }
   },
   "outputs": [
    {
     "data": {
      "image/svg+xml": [
       "<?xml version=\"1.0\" encoding=\"UTF-8\" standalone=\"no\"?><svg xmlns=\"http://www.w3.org/2000/svg\" xmlns:xlink=\"http://www.w3.org/1999/xlink\" contentScriptType=\"application/ecmascript\" contentStyleType=\"text/css\" height=\"557px\" preserveAspectRatio=\"none\" style=\"width:815px;height:557px;\" version=\"1.1\" viewBox=\"0 0 815 557\" width=\"815px\" zoomAndPan=\"magnify\"><defs/><g><!--MD5=[fbc87193dbaf4d95561dea2c320d4a47]\n",
       "cluster E1--><polygon fill=\"#FFFFFF\" points=\"16,6,98,6,105,28.2969,793,28.2969,793,545.5,16,545.5,16,6\" style=\"stroke: #000000; stroke-width: 1.5;\"/><line style=\"stroke: #000000; stroke-width: 1.5;\" x1=\"16\" x2=\"105\" y1=\"28.2969\" y2=\"28.2969\"/><text fill=\"#000000\" font-family=\"sans-serif\" font-size=\"14\" font-weight=\"bold\" lengthAdjust=\"spacingAndGlyphs\" textLength=\"76\" x=\"20\" y=\"20.9951\">StateTest</text><!--MD5=[14e3b0961a2654348d326746436168a1]\n",
       "cluster E6--><rect fill=\"#FFFFFF\" height=\"472.5\" style=\"stroke: #000000; stroke-width: 1.5;\" width=\"327\" x=\"442\" y=\"49\"/><text fill=\"#000000\" font-family=\"sans-serif\" font-size=\"14\" font-weight=\"bold\" lengthAdjust=\"spacingAndGlyphs\" textLength=\"10\" x=\"600.5\" y=\"63.9951\">S</text><!--MD5=[b4997ac47864f28c2f74865a473b2911]\n",
       "class E2--><rect fill=\"#FFFFFF\" height=\"58.7422\" id=\"E2\" style=\"stroke: #383838; stroke-width: 1.5;\" width=\"95\" x=\"330.5\" y=\"111.5\"/><text fill=\"#000000\" font-family=\"sans-serif\" font-size=\"12\" font-style=\"italic\" lengthAdjust=\"spacingAndGlyphs\" textLength=\"93\" x=\"331.5\" y=\"127.6387\">«attribute def»</text><text fill=\"#000000\" font-family=\"sans-serif\" font-size=\"12\" lengthAdjust=\"spacingAndGlyphs\" textLength=\"19\" x=\"368.5\" y=\"141.6074\">Sig</text><line style=\"stroke: #383838; stroke-width: 1.5;\" x1=\"331.5\" x2=\"424.5\" y1=\"149.4375\" y2=\"149.4375\"/><text fill=\"#000000\" font-family=\"sans-serif\" font-size=\"11\" lengthAdjust=\"spacingAndGlyphs\" textLength=\"71\" x=\"336.5\" y=\"163.6479\">x: DataValue</text><!--MD5=[09b614a08d8cba4a07c9adeb5e0fee81]\n",
       "class E3--><rect fill=\"#FFFFFF\" height=\"45.9375\" id=\"E3\" style=\"stroke: #383838; stroke-width: 1.5;\" width=\"95\" x=\"200.5\" y=\"118\"/><text fill=\"#000000\" font-family=\"sans-serif\" font-size=\"12\" font-style=\"italic\" lengthAdjust=\"spacingAndGlyphs\" textLength=\"93\" x=\"201.5\" y=\"134.1387\">«attribute def»</text><text fill=\"#000000\" font-family=\"sans-serif\" font-size=\"12\" lengthAdjust=\"spacingAndGlyphs\" textLength=\"22\" x=\"237\" y=\"148.1074\">Exit</text><line style=\"stroke: #383838; stroke-width: 1.5;\" x1=\"201.5\" x2=\"294.5\" y1=\"155.9375\" y2=\"155.9375\"/><!--MD5=[ebbe1d658d1005bcc118a6aa81145e00]\n",
       "class E4--><rect fill=\"#FFFFFF\" height=\"45.9375\" id=\"E4\" rx=\"10\" ry=\"10\" style=\"stroke: #383838; stroke-width: 1.5;\" width=\"48\" x=\"117\" y=\"118\"/><text fill=\"#000000\" font-family=\"sans-serif\" font-size=\"12\" font-style=\"italic\" lengthAdjust=\"spacingAndGlyphs\" textLength=\"40\" x=\"121\" y=\"134.1387\">«part»</text><text fill=\"#000000\" font-family=\"sans-serif\" font-size=\"12\" lengthAdjust=\"spacingAndGlyphs\" textLength=\"42\" x=\"120\" y=\"148.1074\">p: Part</text><line style=\"stroke: #383838; stroke-width: 1.5;\" x1=\"118\" x2=\"164\" y1=\"155.9375\" y2=\"155.9375\"/><g id=\"E1.E5\"><rect fill=\"#FFFFFF\" height=\"50\" rx=\"12.5\" ry=\"12.5\" style=\"stroke: #383838; stroke-width: 1.5;\" width=\"50\" x=\"32\" y=\"116\"/><line style=\"stroke: #383838; stroke-width: 1.5;\" x1=\"32\" x2=\"82\" y1=\"142.2969\" y2=\"142.2969\"/><text fill=\"#000000\" font-family=\"sans-serif\" font-size=\"14\" lengthAdjust=\"spacingAndGlyphs\" textLength=\"21\" x=\"46.5\" y=\"133.9951\">act</text></g><ellipse cx=\"554\" cy=\"141\" fill=\"#000000\" rx=\"10\" ry=\"10\" style=\"stroke: none; stroke-width: 1.0;\"/><ellipse cx=\"572\" cy=\"495.5\" fill=\"none\" rx=\"10\" ry=\"10\" style=\"stroke: #000000; stroke-width: 1.0;\"/><ellipse cx=\"572.5\" cy=\"496\" fill=\"#000000\" rx=\"6\" ry=\"6\" style=\"stroke: none; stroke-width: 1.0;\"/><g id=\"E1.E6.E7\"><rect fill=\"#FFFFFF\" height=\"50\" rx=\"12.5\" ry=\"12.5\" style=\"stroke: #383838; stroke-width: 1.5;\" width=\"50\" x=\"529\" y=\"231.5\"/><line style=\"stroke: #383838; stroke-width: 1.5;\" x1=\"529\" x2=\"579\" y1=\"257.7969\" y2=\"257.7969\"/><text fill=\"#000000\" font-family=\"sans-serif\" font-size=\"14\" lengthAdjust=\"spacingAndGlyphs\" textLength=\"18\" x=\"545\" y=\"249.4951\">S1</text></g><g id=\"E1.E6.E8\"><rect fill=\"#FFFFFF\" height=\"50.2656\" rx=\"12.5\" ry=\"12.5\" style=\"stroke: #383838; stroke-width: 1.5;\" width=\"142\" x=\"501\" y=\"358.5\"/><line style=\"stroke: #383838; stroke-width: 1.5;\" x1=\"501\" x2=\"643\" y1=\"384.7969\" y2=\"384.7969\"/><text fill=\"#000000\" font-family=\"sans-serif\" font-size=\"14\" lengthAdjust=\"spacingAndGlyphs\" textLength=\"18\" x=\"563\" y=\"376.4951\">S2</text><text fill=\"#000000\" font-family=\"sans-serif\" font-size=\"12\" font-weight=\"bold\" lengthAdjust=\"spacingAndGlyphs\" textLength=\"18\" x=\"506\" y=\"400.9355\">do</text><text fill=\"#000000\" font-family=\"sans-serif\" font-size=\"12\" lengthAdjust=\"spacingAndGlyphs\" textLength=\"104\" x=\"524\" y=\"400.9355\">/ transferActions</text></g><!--MD5=[5a531d3a85f3339e6e197084acb48195]\n",
       "link *start*E6 to E7--><path d=\"M554,151.29 C554,167.4 554,201.18 554,225.93 \" fill=\"none\" id=\"*start*E6-&gt;E7\" style=\"stroke: #383838; stroke-width: 1.0;\"/><polygon fill=\"#383838\" points=\"554,231.07,558,222.07,554,226.07,550,222.07,554,231.07\" style=\"stroke: #383838; stroke-width: 1.0;\"/><!--MD5=[7ec9a8babba89ddcae1318ca9fb3c814]\n",
       "link E8 to *end*E6--><path d=\"M572,408.64 C572,430.53 572,462.07 572,480.21 \" fill=\"none\" id=\"E8-&gt;*end*E6\" style=\"stroke: #383838; stroke-width: 1.0;\"/><polygon fill=\"#383838\" points=\"572,485.38,576,476.38,572,480.38,568,476.38,572,485.38\" style=\"stroke: #383838; stroke-width: 1.0;\"/><text fill=\"#000000\" font-family=\"sans-serif\" font-size=\"13\" lengthAdjust=\"spacingAndGlyphs\" textLength=\"23\" x=\"573\" y=\"451.5669\">Exit</text><!--MD5=[79bc8f324ef4d02c541433f2e6e513c3]\n",
       "link E7 to E8--><path d=\"M528.86,269.86 C505.91,282.96 477.33,304.98 490,328.5 C495.73,339.14 504.57,348.02 514.37,355.31 \" fill=\"none\" id=\"E7-&gt;E8\" style=\"stroke: #383838; stroke-width: 1.0;\"/><polygon fill=\"#383838\" points=\"518.61,358.34,513.6001,349.8606,514.5375,355.4392,508.9588,356.3766,518.61,358.34\" style=\"stroke: #383838; stroke-width: 1.0;\"/><text fill=\"#000000\" font-family=\"sans-serif\" font-size=\"13\" lengthAdjust=\"spacingAndGlyphs\" textLength=\"81\" x=\"491\" y=\"324.5669\">Sig /action D</text><!--MD5=[bfa3c8b0d15052fdf50ae9310b491027]\n",
       "link E8 to E7--><path d=\"M576.92,358.3 C578.93,344.47 580.14,326.88 577,311.5 C575.28,303.07 572.19,294.32 568.82,286.38 \" fill=\"none\" id=\"E8-&gt;E7\" style=\"stroke: #383838; stroke-width: 1.0;\"/><polygon fill=\"#383838\" points=\"566.7,281.56,566.6685,291.4088,568.7161,286.1355,573.9894,288.1831,566.7,281.56\" style=\"stroke: #383838; stroke-width: 1.0;\"/><text fill=\"#000000\" font-family=\"sans-serif\" font-size=\"13\" lengthAdjust=\"spacingAndGlyphs\" textLength=\"135\" x=\"579\" y=\"324.5669\">Sig [true]/send s to p</text><!--MD5=[bac80fbee62034f1cf331a593a4ad92f]\n",
       "@startuml\r\n",
       "skinparam monochrome true\r\n",
       "skinparam classbackgroundcolor white\r\n",
       "skinparam shadowing false\r\n",
       "skinparam wrapWidth 300\r\n",
       "hide circle\r\n",
       "\r\n",
       "package \"StateTest\" as E1   {\r\n",
       "comp def \"Sig\" as E2  <<(T,blue)attribute def>> {\r\n",
       "x: DataValue\r\n",
       "}\r\n",
       "comp def \"Exit\" as E3  <<(T,blue)attribute def>> {\r\n",
       "}\r\n",
       "comp usage \"p: Part\" as E4  <<(T,blue)part>> {\r\n",
       "}\r\n",
       "rec usage \"act\" as E5 {\r\n",
       "}\r\n",
       "\r\n",
       "rec def \"S\" as E6 {\r\n",
       "rec usage \"S1\" as E7 {\r\n",
       "}\r\n",
       "\r\n",
       "rec usage \"S2\" as E8 {\r\n",
       "desc \"S2\" as E8  : **do**/ transferActions \r\n",
       "}\r\n",
       "\r\n",
       "[*] - -> E7\r\n",
       "E8  - -> [*] : Exit \r\n",
       "desc \"S\" as E6  : **entry**/ A\r\n",
       "desc \"S\" as E6  : **do**/ B\r\n",
       "desc \"S\" as E6  : **exit**/ act \r\n",
       "}\r\n",
       "\r\n",
       "E7  - -> E8 : Sig /action D\r\n",
       "E8  - -> E7 : Sig [true]/send s to p\r\n",
       "}\r\n",
       "@enduml\r\n",
       "\n",
       "PlantUML version 1.2020.13(Sat Jun 13 12:26:38 UTC 2020)\n",
       "(EPL source distribution)\n",
       "Java Runtime: OpenJDK Runtime Environment\n",
       "JVM: OpenJDK 64-Bit Server VM\n",
       "Default Encoding: UTF-8\n",
       "Language: en\n",
       "Country: null\n",
       "--></g></svg>"
      ]
     },
     "execution_count": 43,
     "metadata": {},
     "output_type": "execute_result"
    }
   ],
   "source": [
    "%viz --style=\"DEFAULT\" --view=\"MIXED\" \"StateTest\""
   ]
  },
  {
   "cell_type": "code",
   "execution_count": 44,
   "id": "wound-economics",
   "metadata": {
    "execution": {
     "iopub.execute_input": "2021-03-26T09:42:48.566021Z",
     "iopub.status.busy": "2021-03-26T09:42:48.564696Z",
     "iopub.status.idle": "2021-03-26T09:42:48.610129Z",
     "shell.execute_reply": "2021-03-26T09:42:48.608570Z"
    }
   },
   "outputs": [
    {
     "data": {
      "image/svg+xml": [
       "<?xml version=\"1.0\" encoding=\"UTF-8\" standalone=\"no\"?><svg xmlns=\"http://www.w3.org/2000/svg\" xmlns:xlink=\"http://www.w3.org/1999/xlink\" contentScriptType=\"application/ecmascript\" contentStyleType=\"text/css\" height=\"557px\" preserveAspectRatio=\"none\" style=\"width:815px;height:557px;\" version=\"1.1\" viewBox=\"0 0 815 557\" width=\"815px\" zoomAndPan=\"magnify\"><defs/><g><!--MD5=[fbc87193dbaf4d95561dea2c320d4a47]\n",
       "cluster E1--><polygon fill=\"#FFFFFF\" points=\"16,6,98,6,105,28.2969,793,28.2969,793,545.5,16,545.5,16,6\" style=\"stroke: #000000; stroke-width: 1.5;\"/><line style=\"stroke: #000000; stroke-width: 1.5;\" x1=\"16\" x2=\"105\" y1=\"28.2969\" y2=\"28.2969\"/><text fill=\"#000000\" font-family=\"sans-serif\" font-size=\"14\" font-weight=\"bold\" lengthAdjust=\"spacingAndGlyphs\" textLength=\"76\" x=\"20\" y=\"20.9951\">StateTest</text><!--MD5=[14e3b0961a2654348d326746436168a1]\n",
       "cluster E6--><rect fill=\"#FFFFFF\" height=\"472.5\" style=\"stroke: #000000; stroke-width: 1.5;\" width=\"327\" x=\"442\" y=\"49\"/><text fill=\"#000000\" font-family=\"sans-serif\" font-size=\"14\" font-weight=\"bold\" lengthAdjust=\"spacingAndGlyphs\" textLength=\"10\" x=\"600.5\" y=\"63.9951\">S</text><!--MD5=[b4997ac47864f28c2f74865a473b2911]\n",
       "class E2--><rect fill=\"#FFFFFF\" height=\"58.7422\" id=\"E2\" style=\"stroke: #383838; stroke-width: 1.5;\" width=\"95\" x=\"330.5\" y=\"111.5\"/><text fill=\"#000000\" font-family=\"sans-serif\" font-size=\"12\" font-style=\"italic\" lengthAdjust=\"spacingAndGlyphs\" textLength=\"93\" x=\"331.5\" y=\"127.6387\">«attribute def»</text><text fill=\"#000000\" font-family=\"sans-serif\" font-size=\"12\" lengthAdjust=\"spacingAndGlyphs\" textLength=\"19\" x=\"368.5\" y=\"141.6074\">Sig</text><line style=\"stroke: #383838; stroke-width: 1.5;\" x1=\"331.5\" x2=\"424.5\" y1=\"149.4375\" y2=\"149.4375\"/><text fill=\"#000000\" font-family=\"sans-serif\" font-size=\"11\" lengthAdjust=\"spacingAndGlyphs\" textLength=\"71\" x=\"336.5\" y=\"163.6479\">x: DataValue</text><!--MD5=[09b614a08d8cba4a07c9adeb5e0fee81]\n",
       "class E3--><rect fill=\"#FFFFFF\" height=\"45.9375\" id=\"E3\" style=\"stroke: #383838; stroke-width: 1.5;\" width=\"95\" x=\"200.5\" y=\"118\"/><text fill=\"#000000\" font-family=\"sans-serif\" font-size=\"12\" font-style=\"italic\" lengthAdjust=\"spacingAndGlyphs\" textLength=\"93\" x=\"201.5\" y=\"134.1387\">«attribute def»</text><text fill=\"#000000\" font-family=\"sans-serif\" font-size=\"12\" lengthAdjust=\"spacingAndGlyphs\" textLength=\"22\" x=\"237\" y=\"148.1074\">Exit</text><line style=\"stroke: #383838; stroke-width: 1.5;\" x1=\"201.5\" x2=\"294.5\" y1=\"155.9375\" y2=\"155.9375\"/><!--MD5=[ebbe1d658d1005bcc118a6aa81145e00]\n",
       "class E4--><rect fill=\"#FFFFFF\" height=\"45.9375\" id=\"E4\" rx=\"10\" ry=\"10\" style=\"stroke: #383838; stroke-width: 1.5;\" width=\"48\" x=\"117\" y=\"118\"/><text fill=\"#000000\" font-family=\"sans-serif\" font-size=\"12\" font-style=\"italic\" lengthAdjust=\"spacingAndGlyphs\" textLength=\"40\" x=\"121\" y=\"134.1387\">«part»</text><text fill=\"#000000\" font-family=\"sans-serif\" font-size=\"12\" lengthAdjust=\"spacingAndGlyphs\" textLength=\"42\" x=\"120\" y=\"148.1074\">p: Part</text><line style=\"stroke: #383838; stroke-width: 1.5;\" x1=\"118\" x2=\"164\" y1=\"155.9375\" y2=\"155.9375\"/><g id=\"E1.E5\"><rect fill=\"#FFFFFF\" height=\"50\" rx=\"12.5\" ry=\"12.5\" style=\"stroke: #383838; stroke-width: 1.5;\" width=\"50\" x=\"32\" y=\"116\"/><line style=\"stroke: #383838; stroke-width: 1.5;\" x1=\"32\" x2=\"82\" y1=\"142.2969\" y2=\"142.2969\"/><text fill=\"#000000\" font-family=\"sans-serif\" font-size=\"14\" lengthAdjust=\"spacingAndGlyphs\" textLength=\"21\" x=\"46.5\" y=\"133.9951\">act</text></g><ellipse cx=\"554\" cy=\"141\" fill=\"#000000\" rx=\"10\" ry=\"10\" style=\"stroke: none; stroke-width: 1.0;\"/><ellipse cx=\"572\" cy=\"495.5\" fill=\"none\" rx=\"10\" ry=\"10\" style=\"stroke: #000000; stroke-width: 1.0;\"/><ellipse cx=\"572.5\" cy=\"496\" fill=\"#000000\" rx=\"6\" ry=\"6\" style=\"stroke: none; stroke-width: 1.0;\"/><g id=\"E1.E6.E7\"><rect fill=\"#FFFFFF\" height=\"50\" rx=\"12.5\" ry=\"12.5\" style=\"stroke: #383838; stroke-width: 1.5;\" width=\"50\" x=\"529\" y=\"231.5\"/><line style=\"stroke: #383838; stroke-width: 1.5;\" x1=\"529\" x2=\"579\" y1=\"257.7969\" y2=\"257.7969\"/><text fill=\"#000000\" font-family=\"sans-serif\" font-size=\"14\" lengthAdjust=\"spacingAndGlyphs\" textLength=\"18\" x=\"545\" y=\"249.4951\">S1</text></g><g id=\"E1.E6.E8\"><rect fill=\"#FFFFFF\" height=\"50.2656\" rx=\"12.5\" ry=\"12.5\" style=\"stroke: #383838; stroke-width: 1.5;\" width=\"142\" x=\"501\" y=\"358.5\"/><line style=\"stroke: #383838; stroke-width: 1.5;\" x1=\"501\" x2=\"643\" y1=\"384.7969\" y2=\"384.7969\"/><text fill=\"#000000\" font-family=\"sans-serif\" font-size=\"14\" lengthAdjust=\"spacingAndGlyphs\" textLength=\"18\" x=\"563\" y=\"376.4951\">S2</text><text fill=\"#000000\" font-family=\"sans-serif\" font-size=\"12\" font-weight=\"bold\" lengthAdjust=\"spacingAndGlyphs\" textLength=\"18\" x=\"506\" y=\"400.9355\">do</text><text fill=\"#000000\" font-family=\"sans-serif\" font-size=\"12\" lengthAdjust=\"spacingAndGlyphs\" textLength=\"104\" x=\"524\" y=\"400.9355\">/ transferActions</text></g><!--MD5=[5a531d3a85f3339e6e197084acb48195]\n",
       "link *start*E6 to E7--><path d=\"M554,151.29 C554,167.4 554,201.18 554,225.93 \" fill=\"none\" id=\"*start*E6-&gt;E7\" style=\"stroke: #383838; stroke-width: 1.0;\"/><polygon fill=\"#383838\" points=\"554,231.07,558,222.07,554,226.07,550,222.07,554,231.07\" style=\"stroke: #383838; stroke-width: 1.0;\"/><!--MD5=[7ec9a8babba89ddcae1318ca9fb3c814]\n",
       "link E8 to *end*E6--><path d=\"M572,408.64 C572,430.53 572,462.07 572,480.21 \" fill=\"none\" id=\"E8-&gt;*end*E6\" style=\"stroke: #383838; stroke-width: 1.0;\"/><polygon fill=\"#383838\" points=\"572,485.38,576,476.38,572,480.38,568,476.38,572,485.38\" style=\"stroke: #383838; stroke-width: 1.0;\"/><text fill=\"#000000\" font-family=\"sans-serif\" font-size=\"13\" lengthAdjust=\"spacingAndGlyphs\" textLength=\"23\" x=\"573\" y=\"451.5669\">Exit</text><!--MD5=[79bc8f324ef4d02c541433f2e6e513c3]\n",
       "link E7 to E8--><path d=\"M528.86,269.86 C505.91,282.96 477.33,304.98 490,328.5 C495.73,339.14 504.57,348.02 514.37,355.31 \" fill=\"none\" id=\"E7-&gt;E8\" style=\"stroke: #383838; stroke-width: 1.0;\"/><polygon fill=\"#383838\" points=\"518.61,358.34,513.6001,349.8606,514.5375,355.4392,508.9588,356.3766,518.61,358.34\" style=\"stroke: #383838; stroke-width: 1.0;\"/><text fill=\"#000000\" font-family=\"sans-serif\" font-size=\"13\" lengthAdjust=\"spacingAndGlyphs\" textLength=\"81\" x=\"491\" y=\"324.5669\">Sig /action D</text><!--MD5=[bfa3c8b0d15052fdf50ae9310b491027]\n",
       "link E8 to E7--><path d=\"M576.92,358.3 C578.93,344.47 580.14,326.88 577,311.5 C575.28,303.07 572.19,294.32 568.82,286.38 \" fill=\"none\" id=\"E8-&gt;E7\" style=\"stroke: #383838; stroke-width: 1.0;\"/><polygon fill=\"#383838\" points=\"566.7,281.56,566.6685,291.4088,568.7161,286.1355,573.9894,288.1831,566.7,281.56\" style=\"stroke: #383838; stroke-width: 1.0;\"/><text fill=\"#000000\" font-family=\"sans-serif\" font-size=\"13\" lengthAdjust=\"spacingAndGlyphs\" textLength=\"135\" x=\"579\" y=\"324.5669\">Sig [true]/send s to p</text><!--MD5=[688f44f87e19f5cc290808ff211a0aa0]\n",
       "@startuml\r\n",
       "top to bottom direction\r\n",
       "skinparam monochrome true\r\n",
       "skinparam classbackgroundcolor white\r\n",
       "skinparam shadowing false\r\n",
       "skinparam wrapWidth 300\r\n",
       "hide circle\r\n",
       "\r\n",
       "package \"StateTest\" as E1   {\r\n",
       "comp def \"Sig\" as E2  <<(T,blue)attribute def>> {\r\n",
       "x: DataValue\r\n",
       "}\r\n",
       "comp def \"Exit\" as E3  <<(T,blue)attribute def>> {\r\n",
       "}\r\n",
       "comp usage \"p: Part\" as E4  <<(T,blue)part>> {\r\n",
       "}\r\n",
       "rec usage \"act\" as E5 {\r\n",
       "}\r\n",
       "\r\n",
       "rec def \"S\" as E6 {\r\n",
       "rec usage \"S1\" as E7 {\r\n",
       "}\r\n",
       "\r\n",
       "rec usage \"S2\" as E8 {\r\n",
       "desc \"S2\" as E8  : **do**/ transferActions \r\n",
       "}\r\n",
       "\r\n",
       "[*] - -> E7\r\n",
       "E8  - -> [*] : Exit \r\n",
       "desc \"S\" as E6  : **entry**/ A\r\n",
       "desc \"S\" as E6  : **do**/ B\r\n",
       "desc \"S\" as E6  : **exit**/ act \r\n",
       "}\r\n",
       "\r\n",
       "E7  - -> E8 : Sig /action D\r\n",
       "E8  - -> E7 : Sig [true]/send s to p\r\n",
       "}\r\n",
       "@enduml\r\n",
       "\n",
       "PlantUML version 1.2020.13(Sat Jun 13 12:26:38 UTC 2020)\n",
       "(EPL source distribution)\n",
       "Java Runtime: OpenJDK Runtime Environment\n",
       "JVM: OpenJDK 64-Bit Server VM\n",
       "Default Encoding: UTF-8\n",
       "Language: en\n",
       "Country: null\n",
       "--></g></svg>"
      ]
     },
     "execution_count": 44,
     "metadata": {},
     "output_type": "execute_result"
    }
   ],
   "source": [
    "%viz --style=\"TB\" --view=\"Default\" \"StateTest\""
   ]
  },
  {
   "cell_type": "code",
   "execution_count": 45,
   "id": "distinguished-intranet",
   "metadata": {
    "execution": {
     "iopub.execute_input": "2021-03-26T09:42:48.662212Z",
     "iopub.status.busy": "2021-03-26T09:42:48.661376Z",
     "iopub.status.idle": "2021-03-26T09:42:48.801959Z",
     "shell.execute_reply": "2021-03-26T09:42:48.800602Z"
    }
   },
   "outputs": [
    {
     "data": {
      "image/svg+xml": [
       "<?xml version=\"1.0\" encoding=\"UTF-8\" standalone=\"no\"?><svg xmlns=\"http://www.w3.org/2000/svg\" xmlns:xlink=\"http://www.w3.org/1999/xlink\" contentScriptType=\"application/ecmascript\" contentStyleType=\"text/css\" height=\"522px\" preserveAspectRatio=\"none\" style=\"width:658px;height:522px;\" version=\"1.1\" viewBox=\"0 0 658 522\" width=\"658px\" zoomAndPan=\"magnify\"><defs/><g><!--MD5=[fbc87193dbaf4d95561dea2c320d4a47]\n",
       "cluster E1--><polygon fill=\"#FFFFFF\" points=\"16,6,98,6,105,28.2969,636,28.2969,636,510,16,510,16,6\" style=\"stroke: #000000; stroke-width: 1.5;\"/><line style=\"stroke: #000000; stroke-width: 1.5;\" x1=\"16\" x2=\"105\" y1=\"28.2969\" y2=\"28.2969\"/><text fill=\"#000000\" font-family=\"sans-serif\" font-size=\"14\" font-weight=\"bold\" lengthAdjust=\"spacingAndGlyphs\" textLength=\"76\" x=\"20\" y=\"20.9951\">StateTest</text><!--MD5=[b4997ac47864f28c2f74865a473b2911]\n",
       "class E2--><rect fill=\"#FFFFFF\" height=\"58.7422\" id=\"E2\" style=\"stroke: #383838; stroke-width: 1.5;\" width=\"95\" x=\"524.5\" y=\"111\"/><text fill=\"#000000\" font-family=\"sans-serif\" font-size=\"12\" font-style=\"italic\" lengthAdjust=\"spacingAndGlyphs\" textLength=\"93\" x=\"525.5\" y=\"127.1387\">«attribute def»</text><text fill=\"#000000\" font-family=\"sans-serif\" font-size=\"12\" lengthAdjust=\"spacingAndGlyphs\" textLength=\"19\" x=\"562.5\" y=\"141.1074\">Sig</text><line style=\"stroke: #383838; stroke-width: 1.5;\" x1=\"525.5\" x2=\"618.5\" y1=\"148.9375\" y2=\"148.9375\"/><text fill=\"#000000\" font-family=\"sans-serif\" font-size=\"11\" lengthAdjust=\"spacingAndGlyphs\" textLength=\"71\" x=\"530.5\" y=\"163.1479\">x: DataValue</text><!--MD5=[09b614a08d8cba4a07c9adeb5e0fee81]\n",
       "class E3--><rect fill=\"#FFFFFF\" height=\"45.9375\" id=\"E3\" style=\"stroke: #383838; stroke-width: 1.5;\" width=\"95\" x=\"394.5\" y=\"117.5\"/><text fill=\"#000000\" font-family=\"sans-serif\" font-size=\"12\" font-style=\"italic\" lengthAdjust=\"spacingAndGlyphs\" textLength=\"93\" x=\"395.5\" y=\"133.6387\">«attribute def»</text><text fill=\"#000000\" font-family=\"sans-serif\" font-size=\"12\" lengthAdjust=\"spacingAndGlyphs\" textLength=\"22\" x=\"431\" y=\"147.6074\">Exit</text><line style=\"stroke: #383838; stroke-width: 1.5;\" x1=\"395.5\" x2=\"488.5\" y1=\"155.4375\" y2=\"155.4375\"/><!--MD5=[ebbe1d658d1005bcc118a6aa81145e00]\n",
       "class E4--><rect fill=\"#FFFFFF\" height=\"45.9375\" id=\"E4\" rx=\"10\" ry=\"10\" style=\"stroke: #383838; stroke-width: 1.5;\" width=\"48\" x=\"311\" y=\"117.5\"/><text fill=\"#000000\" font-family=\"sans-serif\" font-size=\"12\" font-style=\"italic\" lengthAdjust=\"spacingAndGlyphs\" textLength=\"40\" x=\"315\" y=\"133.6387\">«part»</text><text fill=\"#000000\" font-family=\"sans-serif\" font-size=\"12\" lengthAdjust=\"spacingAndGlyphs\" textLength=\"42\" x=\"314\" y=\"147.6074\">p: Part</text><line style=\"stroke: #383838; stroke-width: 1.5;\" x1=\"312\" x2=\"358\" y1=\"155.4375\" y2=\"155.4375\"/><!--MD5=[270fce915f116d4de14055a7c1d9a0f3]\n",
       "class E5--><rect fill=\"#FFFFFF\" height=\"45.9375\" id=\"E5\" rx=\"10\" ry=\"10\" style=\"stroke: #383838; stroke-width: 1.5;\" width=\"73\" x=\"202.5\" y=\"117.5\"/><text fill=\"#000000\" font-family=\"sans-serif\" font-size=\"12\" font-style=\"italic\" lengthAdjust=\"spacingAndGlyphs\" textLength=\"53\" x=\"212.5\" y=\"133.6387\">«action»</text><text fill=\"#000000\" font-family=\"sans-serif\" font-size=\"12\" lengthAdjust=\"spacingAndGlyphs\" textLength=\"67\" x=\"205.5\" y=\"147.6074\">act: Action</text><line style=\"stroke: #383838; stroke-width: 1.5;\" x1=\"203.5\" x2=\"274.5\" y1=\"155.4375\" y2=\"155.4375\"/><!--MD5=[60a26617385b1d2d0262a64233df1f8d]\n",
       "class E6--><rect fill=\"#FFFFFF\" height=\"198.7891\" id=\"E6\" style=\"stroke: #383838; stroke-width: 1.5;\" width=\"135\" x=\"32.5\" y=\"41\"/><text fill=\"#000000\" font-family=\"sans-serif\" font-size=\"12\" font-style=\"italic\" lengthAdjust=\"spacingAndGlyphs\" textLength=\"71\" x=\"64.5\" y=\"57.1387\">«state def»</text><text fill=\"#000000\" font-family=\"sans-serif\" font-size=\"12\" lengthAdjust=\"spacingAndGlyphs\" textLength=\"8\" x=\"96\" y=\"71.1074\">S</text><line style=\"stroke: #383838; stroke-width: 1.5;\" x1=\"33.5\" x2=\"166.5\" y1=\"78.9375\" y2=\"78.9375\"/><text fill=\"#000000\" font-family=\"sans-serif\" font-size=\"11\" lengthAdjust=\"spacingAndGlyphs\" textLength=\"59\" x=\"38.5\" y=\"109.9526\">act: Action</text><text fill=\"#000000\" font-family=\"sans-serif\" font-size=\"11\" font-style=\"italic\" lengthAdjust=\"spacingAndGlyphs\" textLength=\"114\" x=\"38.5\" y=\"122.7573\">:&gt;&gt;State::exitAction</text><text fill=\"#000000\" font-family=\"sans-serif\" font-size=\"11\" lengthAdjust=\"spacingAndGlyphs\" textLength=\"88\" x=\"38.5\" y=\"135.562\">A: Performance</text><text fill=\"#000000\" font-family=\"sans-serif\" font-size=\"11\" font-style=\"italic\" lengthAdjust=\"spacingAndGlyphs\" textLength=\"123\" x=\"38.5\" y=\"148.3667\">:&gt;&gt;State::entryAction</text><text fill=\"#000000\" font-family=\"sans-serif\" font-size=\"11\" lengthAdjust=\"spacingAndGlyphs\" textLength=\"50\" x=\"38.5\" y=\"161.1714\">B: Action</text><text fill=\"#000000\" font-family=\"sans-serif\" font-size=\"11\" font-style=\"italic\" lengthAdjust=\"spacingAndGlyphs\" textLength=\"108\" x=\"38.5\" y=\"173.9761\">:&gt;&gt;State::doAction</text><line style=\"stroke: #383838; stroke-width: 1.0;\" x1=\"33.5\" x2=\"56.5\" y1=\"93.3398\" y2=\"93.3398\"/><text fill=\"#000000\" font-family=\"sans-serif\" font-size=\"11\" lengthAdjust=\"spacingAndGlyphs\" textLength=\"87\" x=\"56.5\" y=\"96.6479\">performActions</text><line style=\"stroke: #383838; stroke-width: 1.0;\" x1=\"143.5\" x2=\"166.5\" y1=\"93.3398\" y2=\"93.3398\"/><text fill=\"#000000\" font-family=\"sans-serif\" font-size=\"11\" lengthAdjust=\"spacingAndGlyphs\" textLength=\"53\" x=\"38.5\" y=\"203.5854\">S1: State</text><line style=\"stroke: #383838; stroke-width: 1.0;\" x1=\"33.5\" x2=\"82\" y1=\"186.9727\" y2=\"186.9727\"/><text fill=\"#000000\" font-family=\"sans-serif\" font-size=\"11\" lengthAdjust=\"spacingAndGlyphs\" textLength=\"36\" x=\"82\" y=\"190.2808\">states</text><line style=\"stroke: #383838; stroke-width: 1.0;\" x1=\"118\" x2=\"166.5\" y1=\"186.9727\" y2=\"186.9727\"/><text fill=\"#000000\" font-family=\"sans-serif\" font-size=\"11\" lengthAdjust=\"spacingAndGlyphs\" textLength=\"72\" x=\"38.5\" y=\"233.1948\">T: Transition</text><line style=\"stroke: #383838; stroke-width: 1.0;\" x1=\"33.5\" x2=\"69.5\" y1=\"216.582\" y2=\"216.582\"/><text fill=\"#000000\" font-family=\"sans-serif\" font-size=\"11\" lengthAdjust=\"spacingAndGlyphs\" textLength=\"61\" x=\"69.5\" y=\"219.8901\">transitions</text><line style=\"stroke: #383838; stroke-width: 1.0;\" x1=\"130.5\" x2=\"166.5\" y1=\"216.582\" y2=\"216.582\"/><!--MD5=[1dd1bfd58a279cf63c5f349dbc8fc6a1]\n",
       "class E11--><rect fill=\"#FFFFFF\" height=\"45.9375\" id=\"E11\" rx=\"10\" ry=\"10\" style=\"stroke: #383838; stroke-width: 1.5;\" width=\"64\" x=\"74\" y=\"300\"/><text fill=\"#000000\" font-family=\"sans-serif\" font-size=\"12\" font-style=\"italic\" lengthAdjust=\"spacingAndGlyphs\" textLength=\"47\" x=\"82.5\" y=\"316.1387\">«state»</text><text fill=\"#000000\" font-family=\"sans-serif\" font-size=\"12\" lengthAdjust=\"spacingAndGlyphs\" textLength=\"58\" x=\"77\" y=\"330.1074\">S2: State</text><line style=\"stroke: #383838; stroke-width: 1.5;\" x1=\"75\" x2=\"137\" y1=\"337.9375\" y2=\"337.9375\"/><!--MD5=[49a0ec8f00dab7302a31f22d0f0fe584]\n",
       "class E12--><rect fill=\"#FFFFFF\" height=\"88.3516\" id=\"E12\" rx=\"10\" ry=\"10\" style=\"stroke: #383838; stroke-width: 1.5;\" width=\"160\" x=\"32\" y=\"406\"/><text fill=\"#000000\" font-family=\"sans-serif\" font-size=\"12\" font-style=\"italic\" lengthAdjust=\"spacingAndGlyphs\" textLength=\"84\" x=\"70\" y=\"422.1387\">«sendAction»</text><text fill=\"#000000\" font-family=\"sans-serif\" font-size=\"12\" lengthAdjust=\"spacingAndGlyphs\" textLength=\"154\" x=\"35\" y=\"436.1074\">doAction: TransferAction</text><line style=\"stroke: #383838; stroke-width: 1.5;\" x1=\"33\" x2=\"191\" y1=\"443.9375\" y2=\"443.9375\"/><text fill=\"#000000\" font-family=\"sans-serif\" font-size=\"11\" lengthAdjust=\"spacingAndGlyphs\" textLength=\"81\" x=\"38\" y=\"474.9526\">item: Anything</text><text fill=\"#000000\" font-family=\"sans-serif\" font-size=\"11\" font-style=\"italic\" lengthAdjust=\"spacingAndGlyphs\" textLength=\"104\" x=\"38\" y=\"487.7573\">:&gt;&gt;Transfer::item</text><line style=\"stroke: #383838; stroke-width: 1.0;\" x1=\"33\" x2=\"74.5\" y1=\"458.3398\" y2=\"458.3398\"/><text fill=\"#000000\" font-family=\"sans-serif\" font-size=\"11\" lengthAdjust=\"spacingAndGlyphs\" textLength=\"75\" x=\"74.5\" y=\"461.6479\">itemFeatures</text><line style=\"stroke: #383838; stroke-width: 1.0;\" x1=\"149.5\" x2=\"191\" y1=\"458.3398\" y2=\"458.3398\"/><!--MD5=[1f5f03483f7de0d5b3680a7f6650997f]\n",
       "reverse link E6 to E11--><path d=\"M103.71,253.2 C104.3,270.82 104.85,287.28 105.26,299.69 \" fill=\"none\" id=\"E6&lt;-E11\" style=\"stroke: #383838; stroke-width: 1.0;\"/><polygon fill=\"#383838\" points=\"103.28,240.2,99.4801,246.3287,103.6758,252.1935,107.4757,246.0648,103.28,240.2\" style=\"stroke: #383838; stroke-width: 1.0;\"/><!--MD5=[94adabc162ce7e41b39f13be14fbaeb3]\n",
       "reverse link E11 to E12--><path d=\"M107.69,359.11 C108.38,373.64 109.2,390.65 109.93,405.93 \" fill=\"none\" id=\"E11&lt;-E12\" style=\"stroke: #383838; stroke-width: 1.0;\"/><polygon fill=\"#FFFFFF\" points=\"107.06,346.06,103.348,352.2423,107.627,358.0466,111.339,351.8643,107.06,346.06\" style=\"stroke: #383838; stroke-width: 1.0;\"/><!--MD5=[43ce00ca90d22f0cbb0999249b0e7c45]\n",
       "@startuml\r\n",
       "top to bottom direction\r\n",
       "skinparam monochrome true\r\n",
       "skinparam classbackgroundcolor white\r\n",
       "skinparam shadowing false\r\n",
       "skinparam wrapWidth 300\r\n",
       "hide circle\r\n",
       "\r\n",
       "package \"StateTest\" as E1   {\r\n",
       "comp def \"Sig\" as E2  <<(T,blue)attribute def>> {\r\n",
       "x: DataValue\r\n",
       "}\r\n",
       "comp def \"Exit\" as E3  <<(T,blue)attribute def>> {\r\n",
       "}\r\n",
       "comp usage \"p: Part\" as E4  <<(T,blue)part>> {\r\n",
       "}\r\n",
       "comp usage \"act: Action\" as E5  <<(T,blue)action>> {\r\n",
       "}\r\n",
       "comp def \"S\" as E6  <<(T,blue)state def>> {\r\n",
       "- -performActions- -\r\n",
       "act: Action\\n//:>>State::exitAction// \r\n",
       "A: Performance\\n//:>>State::entryAction// \r\n",
       "B: Action\\n//:>>State::doAction// \r\n",
       "- -states- -\r\n",
       "S1: State\r\n",
       "- -transitions- -\r\n",
       "T: Transition\r\n",
       "}\r\n",
       "comp usage \"S2: State\" as E11  <<(T,blue)state>> {\r\n",
       "}\r\n",
       "comp usage \"doAction: TransferAction\" as E12  <<(T,blue)sendAction>> {\r\n",
       "- -itemFeatures- -\r\n",
       "item: Anything\\n//:>>Transfer::item// \r\n",
       "}\r\n",
       "E6 *- - E11\r\n",
       "E11 o- - E12\r\n",
       "}\r\n",
       "@enduml\r\n",
       "\n",
       "PlantUML version 1.2020.13(Sat Jun 13 12:26:38 UTC 2020)\n",
       "(EPL source distribution)\n",
       "Java Runtime: OpenJDK Runtime Environment\n",
       "JVM: OpenJDK 64-Bit Server VM\n",
       "Default Encoding: UTF-8\n",
       "Language: en\n",
       "Country: null\n",
       "--></g></svg>"
      ]
     },
     "execution_count": 45,
     "metadata": {},
     "output_type": "execute_result"
    }
   ],
   "source": [
    "%viz --style=\"TB\" --view=\"Tree\" \"StateTest\""
   ]
  },
  {
   "cell_type": "code",
   "execution_count": 46,
   "id": "naval-criminal",
   "metadata": {
    "execution": {
     "iopub.execute_input": "2021-03-26T09:42:48.851288Z",
     "iopub.status.busy": "2021-03-26T09:42:48.850961Z",
     "iopub.status.idle": "2021-03-26T09:42:48.853322Z",
     "shell.execute_reply": "2021-03-26T09:42:48.852911Z"
    }
   },
   "outputs": [
    {
     "data": {
      "text/plain": [
       "java.lang.IllegalArgumentException: Invalid View: State View candidates are: Default Tree StateMachine Interconnection Activity Sequence MIXED \n",
       "\tat org.omg.sysml.plantuml.SysML2PlantUMLSvc.setView(SysML2PlantUMLSvc.java:63)\n",
       "\tat org.omg.sysml.interactive.SysMLInteractive.viz(SysMLInteractive.java:286)\n",
       "\tat org.omg.sysml.jupyter.kernel.magic.Viz.viz(Viz.java:47)\n",
       "\tat jdk.internal.reflect.GeneratedMethodAccessor13.invoke(Unknown Source)\n",
       "\tat java.base/jdk.internal.reflect.DelegatingMethodAccessorImpl.invoke(DelegatingMethodAccessorImpl.java:43)\n",
       "\tat java.base/java.lang.reflect.Method.invoke(Method.java:568)\n",
       "\tat io.github.spencerpark.jupyter.kernel.magic.registry.Magics.invoke(Magics.java:89)\n",
       "\tat io.github.spencerpark.jupyter.kernel.magic.registry.Magics.access$000(Magics.java:8)\n",
       "\tat io.github.spencerpark.jupyter.kernel.magic.registry.Magics$LineReflectionMagicFunction.execute(Magics.java:149)\n",
       "\tat io.github.spencerpark.jupyter.kernel.magic.registry.Magics.applyLineMagic(Magics.java:26)\n",
       "\tat org.omg.sysml.jupyter.kernel.SysMLKernel.eval(SysMLKernel.java:76)\n",
       "\tat io.github.spencerpark.jupyter.kernel.BaseKernel.handleExecuteRequest(BaseKernel.java:334)\n",
       "\tat io.github.spencerpark.jupyter.channels.ShellChannel.lambda$bind$0(ShellChannel.java:64)\n",
       "\tat io.github.spencerpark.jupyter.channels.Loop.lambda$new$0(Loop.java:21)\n",
       "\tat io.github.spencerpark.jupyter.channels.Loop.run(Loop.java:78)\n"
      ]
     },
     "execution_count": 46,
     "metadata": {},
     "output_type": "execute_result"
    }
   ],
   "source": [
    "%viz --style=\"TB\" --view=\"State\" \"StateTest\""
   ]
  },
  {
   "cell_type": "code",
   "execution_count": 47,
   "id": "deluxe-watson",
   "metadata": {
    "execution": {
     "iopub.execute_input": "2021-03-26T09:42:48.903589Z",
     "iopub.status.busy": "2021-03-26T09:42:48.903237Z",
     "iopub.status.idle": "2021-03-26T09:42:48.925618Z",
     "shell.execute_reply": "2021-03-26T09:42:48.925287Z"
    }
   },
   "outputs": [
    {
     "data": {
      "image/svg+xml": [
       "<?xml version=\"1.0\" encoding=\"UTF-8\" standalone=\"no\"?><svg xmlns=\"http://www.w3.org/2000/svg\" xmlns:xlink=\"http://www.w3.org/1999/xlink\" contentScriptType=\"application/ecmascript\" contentStyleType=\"text/css\" height=\"123px\" preserveAspectRatio=\"none\" style=\"width:631px;height:123px;\" version=\"1.1\" viewBox=\"0 0 631 123\" width=\"631px\" zoomAndPan=\"magnify\"><defs/><g><!--MD5=[fbc87193dbaf4d95561dea2c320d4a47]\n",
       "cluster E1--><polygon fill=\"#FFFFFF\" points=\"16,6,98,6,105,28.2969,609,28.2969,609,111,16,111,16,6\" style=\"stroke: #000000; stroke-width: 1.5;\"/><line style=\"stroke: #000000; stroke-width: 1.5;\" x1=\"16\" x2=\"105\" y1=\"28.2969\" y2=\"28.2969\"/><text fill=\"#000000\" font-family=\"sans-serif\" font-size=\"14\" font-weight=\"bold\" lengthAdjust=\"spacingAndGlyphs\" textLength=\"76\" x=\"20\" y=\"20.9951\">StateTest</text><!--MD5=[b4997ac47864f28c2f74865a473b2911]\n",
       "class E2--><rect fill=\"#FFFFFF\" height=\"53.9375\" id=\"E2\" style=\"stroke: #383838; stroke-width: 1.5;\" width=\"95\" x=\"497.5\" y=\"41\"/><text fill=\"#000000\" font-family=\"sans-serif\" font-size=\"12\" font-style=\"italic\" lengthAdjust=\"spacingAndGlyphs\" textLength=\"93\" x=\"498.5\" y=\"57.1387\">«attribute def»</text><text fill=\"#000000\" font-family=\"sans-serif\" font-size=\"12\" lengthAdjust=\"spacingAndGlyphs\" textLength=\"19\" x=\"535.5\" y=\"71.1074\">Sig</text><line style=\"stroke: #383838; stroke-width: 1.5;\" x1=\"498.5\" x2=\"591.5\" y1=\"78.9375\" y2=\"78.9375\"/><line style=\"stroke: #383838; stroke-width: 1.5;\" x1=\"498.5\" x2=\"591.5\" y1=\"86.9375\" y2=\"86.9375\"/><!--MD5=[09b614a08d8cba4a07c9adeb5e0fee81]\n",
       "class E3--><rect fill=\"#FFFFFF\" height=\"53.9375\" id=\"E3\" style=\"stroke: #383838; stroke-width: 1.5;\" width=\"95\" x=\"367.5\" y=\"41\"/><text fill=\"#000000\" font-family=\"sans-serif\" font-size=\"12\" font-style=\"italic\" lengthAdjust=\"spacingAndGlyphs\" textLength=\"93\" x=\"368.5\" y=\"57.1387\">«attribute def»</text><text fill=\"#000000\" font-family=\"sans-serif\" font-size=\"12\" lengthAdjust=\"spacingAndGlyphs\" textLength=\"22\" x=\"404\" y=\"71.1074\">Exit</text><line style=\"stroke: #383838; stroke-width: 1.5;\" x1=\"368.5\" x2=\"461.5\" y1=\"78.9375\" y2=\"78.9375\"/><line style=\"stroke: #383838; stroke-width: 1.5;\" x1=\"368.5\" x2=\"461.5\" y1=\"86.9375\" y2=\"86.9375\"/><!--MD5=[60a26617385b1d2d0262a64233df1f8d]\n",
       "class E6--><rect fill=\"#FFFFFF\" height=\"53.9375\" id=\"E6\" style=\"stroke: #383838; stroke-width: 1.5;\" width=\"73\" x=\"259.5\" y=\"41\"/><text fill=\"#000000\" font-family=\"sans-serif\" font-size=\"12\" font-style=\"italic\" lengthAdjust=\"spacingAndGlyphs\" textLength=\"71\" x=\"260.5\" y=\"57.1387\">«state def»</text><text fill=\"#000000\" font-family=\"sans-serif\" font-size=\"12\" lengthAdjust=\"spacingAndGlyphs\" textLength=\"8\" x=\"292\" y=\"71.1074\">S</text><line style=\"stroke: #383838; stroke-width: 1.5;\" x1=\"260.5\" x2=\"331.5\" y1=\"78.9375\" y2=\"78.9375\"/><line style=\"stroke: #383838; stroke-width: 1.5;\" x1=\"260.5\" x2=\"331.5\" y1=\"86.9375\" y2=\"86.9375\"/><g id=\"E1.E4\"><rect fill=\"#FFFFFF\" height=\"50\" rx=\"12.5\" ry=\"12.5\" style=\"stroke: #383838; stroke-width: 1.5;\" width=\"65\" x=\"159.5\" y=\"43\"/><line style=\"stroke: #383838; stroke-width: 1.5;\" x1=\"159.5\" x2=\"224.5\" y1=\"69.2969\" y2=\"69.2969\"/><text fill=\"#000000\" font-family=\"sans-serif\" font-size=\"14\" lengthAdjust=\"spacingAndGlyphs\" textLength=\"45\" x=\"169.5\" y=\"60.9951\">p: Part</text></g><g id=\"E1.E5\"><rect fill=\"#FFFFFF\" height=\"50\" rx=\"12.5\" ry=\"12.5\" style=\"stroke: #383838; stroke-width: 1.5;\" width=\"93\" x=\"31.5\" y=\"43\"/><line style=\"stroke: #383838; stroke-width: 1.5;\" x1=\"31.5\" x2=\"124.5\" y1=\"69.2969\" y2=\"69.2969\"/><text fill=\"#000000\" font-family=\"sans-serif\" font-size=\"14\" lengthAdjust=\"spacingAndGlyphs\" textLength=\"73\" x=\"41.5\" y=\"60.9951\">act: Action</text></g><!--MD5=[52f06137ec3f06680df9dc702c2dfe22]\n",
       "@startuml\r\n",
       "skinparam ranksep 8\r\n",
       "skinparam rectangle {\r\n",
       " backgroundColor<<block>> LightGreen\r\n",
       "}\r\n",
       "top to bottom direction\r\n",
       "skinparam monochrome true\r\n",
       "skinparam classbackgroundcolor white\r\n",
       "skinparam shadowing false\r\n",
       "skinparam wrapWidth 300\r\n",
       "hide circle\r\n",
       "\r\n",
       "package \"StateTest\" as E1   {\r\n",
       "def \"Sig\" as E2  <<attribute def>> \r\n",
       "def \"Exit\" as E3  <<attribute def>> \r\n",
       "rec usage \"p: Part\" as E4  {\r\n",
       "}\r\n",
       "rec usage \"act: Action\" as E5  <<action>> {\r\n",
       "}\r\n",
       "def \"S\" as E6  <<state def>> \r\n",
       "}\r\n",
       "@enduml\r\n",
       "\n",
       "PlantUML version 1.2020.13(Sat Jun 13 12:26:38 UTC 2020)\n",
       "(EPL source distribution)\n",
       "Java Runtime: OpenJDK Runtime Environment\n",
       "JVM: OpenJDK 64-Bit Server VM\n",
       "Default Encoding: UTF-8\n",
       "Language: en\n",
       "Country: null\n",
       "--></g></svg>"
      ]
     },
     "execution_count": 47,
     "metadata": {},
     "output_type": "execute_result"
    }
   ],
   "source": [
    "%viz --style=\"TB\" --view=\"Interconnection\" \"StateTest\""
   ]
  },
  {
   "cell_type": "code",
   "execution_count": 48,
   "id": "recreational-lender",
   "metadata": {
    "execution": {
     "iopub.execute_input": "2021-03-26T09:42:48.976419Z",
     "iopub.status.busy": "2021-03-26T09:42:48.976020Z",
     "iopub.status.idle": "2021-03-26T09:42:48.978041Z",
     "shell.execute_reply": "2021-03-26T09:42:48.977736Z"
    }
   },
   "outputs": [
    {
     "data": {
      "text/plain": [
       "java.lang.IllegalArgumentException: Invalid View: Action View candidates are: Default Tree StateMachine Interconnection Activity Sequence MIXED \n",
       "\tat org.omg.sysml.plantuml.SysML2PlantUMLSvc.setView(SysML2PlantUMLSvc.java:63)\n",
       "\tat org.omg.sysml.interactive.SysMLInteractive.viz(SysMLInteractive.java:286)\n",
       "\tat org.omg.sysml.jupyter.kernel.magic.Viz.viz(Viz.java:47)\n",
       "\tat jdk.internal.reflect.GeneratedMethodAccessor13.invoke(Unknown Source)\n",
       "\tat java.base/jdk.internal.reflect.DelegatingMethodAccessorImpl.invoke(DelegatingMethodAccessorImpl.java:43)\n",
       "\tat java.base/java.lang.reflect.Method.invoke(Method.java:568)\n",
       "\tat io.github.spencerpark.jupyter.kernel.magic.registry.Magics.invoke(Magics.java:89)\n",
       "\tat io.github.spencerpark.jupyter.kernel.magic.registry.Magics.access$000(Magics.java:8)\n",
       "\tat io.github.spencerpark.jupyter.kernel.magic.registry.Magics$LineReflectionMagicFunction.execute(Magics.java:149)\n",
       "\tat io.github.spencerpark.jupyter.kernel.magic.registry.Magics.applyLineMagic(Magics.java:26)\n",
       "\tat org.omg.sysml.jupyter.kernel.SysMLKernel.eval(SysMLKernel.java:76)\n",
       "\tat io.github.spencerpark.jupyter.kernel.BaseKernel.handleExecuteRequest(BaseKernel.java:334)\n",
       "\tat io.github.spencerpark.jupyter.channels.ShellChannel.lambda$bind$0(ShellChannel.java:64)\n",
       "\tat io.github.spencerpark.jupyter.channels.Loop.lambda$new$0(Loop.java:21)\n",
       "\tat io.github.spencerpark.jupyter.channels.Loop.run(Loop.java:78)\n"
      ]
     },
     "execution_count": 48,
     "metadata": {},
     "output_type": "execute_result"
    }
   ],
   "source": [
    "%viz --style=\"TB\" --view=\"Action\" \"StateTest\""
   ]
  },
  {
   "cell_type": "code",
   "execution_count": 49,
   "id": "refined-pattern",
   "metadata": {
    "execution": {
     "iopub.execute_input": "2021-03-26T09:42:49.031314Z",
     "iopub.status.busy": "2021-03-26T09:42:49.030767Z",
     "iopub.status.idle": "2021-03-26T09:42:49.204127Z",
     "shell.execute_reply": "2021-03-26T09:42:49.203664Z"
    }
   },
   "outputs": [
    {
     "data": {
      "image/svg+xml": [
       "<?xml version=\"1.0\" encoding=\"UTF-8\" standalone=\"no\"?><svg xmlns=\"http://www.w3.org/2000/svg\" xmlns:xlink=\"http://www.w3.org/1999/xlink\" contentScriptType=\"application/ecmascript\" contentStyleType=\"text/css\" height=\"522px\" preserveAspectRatio=\"none\" style=\"width:658px;height:522px;\" version=\"1.1\" viewBox=\"0 0 658 522\" width=\"658px\" zoomAndPan=\"magnify\"><defs/><g><!--MD5=[fbc87193dbaf4d95561dea2c320d4a47]\n",
       "cluster E1--><polygon fill=\"#FFFFFF\" points=\"16,6,98,6,105,28.2969,636,28.2969,636,510,16,510,16,6\" style=\"stroke: #000000; stroke-width: 1.5;\"/><line style=\"stroke: #000000; stroke-width: 1.5;\" x1=\"16\" x2=\"105\" y1=\"28.2969\" y2=\"28.2969\"/><text fill=\"#000000\" font-family=\"sans-serif\" font-size=\"14\" font-weight=\"bold\" lengthAdjust=\"spacingAndGlyphs\" textLength=\"76\" x=\"20\" y=\"20.9951\">StateTest</text><!--MD5=[b4997ac47864f28c2f74865a473b2911]\n",
       "class E2--><rect fill=\"#FFFFFF\" height=\"58.7422\" id=\"E2\" style=\"stroke: #383838; stroke-width: 1.5;\" width=\"95\" x=\"524.5\" y=\"111\"/><text fill=\"#000000\" font-family=\"sans-serif\" font-size=\"12\" font-style=\"italic\" lengthAdjust=\"spacingAndGlyphs\" textLength=\"93\" x=\"525.5\" y=\"127.1387\">«attribute def»</text><text fill=\"#000000\" font-family=\"sans-serif\" font-size=\"12\" lengthAdjust=\"spacingAndGlyphs\" textLength=\"19\" x=\"562.5\" y=\"141.1074\">Sig</text><line style=\"stroke: #383838; stroke-width: 1.5;\" x1=\"525.5\" x2=\"618.5\" y1=\"148.9375\" y2=\"148.9375\"/><text fill=\"#000000\" font-family=\"sans-serif\" font-size=\"11\" lengthAdjust=\"spacingAndGlyphs\" textLength=\"71\" x=\"530.5\" y=\"163.1479\">x: DataValue</text><!--MD5=[09b614a08d8cba4a07c9adeb5e0fee81]\n",
       "class E3--><rect fill=\"#FFFFFF\" height=\"45.9375\" id=\"E3\" style=\"stroke: #383838; stroke-width: 1.5;\" width=\"95\" x=\"394.5\" y=\"117.5\"/><text fill=\"#000000\" font-family=\"sans-serif\" font-size=\"12\" font-style=\"italic\" lengthAdjust=\"spacingAndGlyphs\" textLength=\"93\" x=\"395.5\" y=\"133.6387\">«attribute def»</text><text fill=\"#000000\" font-family=\"sans-serif\" font-size=\"12\" lengthAdjust=\"spacingAndGlyphs\" textLength=\"22\" x=\"431\" y=\"147.6074\">Exit</text><line style=\"stroke: #383838; stroke-width: 1.5;\" x1=\"395.5\" x2=\"488.5\" y1=\"155.4375\" y2=\"155.4375\"/><!--MD5=[ebbe1d658d1005bcc118a6aa81145e00]\n",
       "class E4--><rect fill=\"#FFFFFF\" height=\"45.9375\" id=\"E4\" rx=\"10\" ry=\"10\" style=\"stroke: #383838; stroke-width: 1.5;\" width=\"48\" x=\"311\" y=\"117.5\"/><text fill=\"#000000\" font-family=\"sans-serif\" font-size=\"12\" font-style=\"italic\" lengthAdjust=\"spacingAndGlyphs\" textLength=\"40\" x=\"315\" y=\"133.6387\">«part»</text><text fill=\"#000000\" font-family=\"sans-serif\" font-size=\"12\" lengthAdjust=\"spacingAndGlyphs\" textLength=\"42\" x=\"314\" y=\"147.6074\">p: Part</text><line style=\"stroke: #383838; stroke-width: 1.5;\" x1=\"312\" x2=\"358\" y1=\"155.4375\" y2=\"155.4375\"/><!--MD5=[270fce915f116d4de14055a7c1d9a0f3]\n",
       "class E5--><rect fill=\"#FFFFFF\" height=\"45.9375\" id=\"E5\" rx=\"10\" ry=\"10\" style=\"stroke: #383838; stroke-width: 1.5;\" width=\"73\" x=\"202.5\" y=\"117.5\"/><text fill=\"#000000\" font-family=\"sans-serif\" font-size=\"12\" font-style=\"italic\" lengthAdjust=\"spacingAndGlyphs\" textLength=\"53\" x=\"212.5\" y=\"133.6387\">«action»</text><text fill=\"#000000\" font-family=\"sans-serif\" font-size=\"12\" lengthAdjust=\"spacingAndGlyphs\" textLength=\"67\" x=\"205.5\" y=\"147.6074\">act: Action</text><line style=\"stroke: #383838; stroke-width: 1.5;\" x1=\"203.5\" x2=\"274.5\" y1=\"155.4375\" y2=\"155.4375\"/><!--MD5=[60a26617385b1d2d0262a64233df1f8d]\n",
       "class E6--><rect fill=\"#FFFFFF\" height=\"198.7891\" id=\"E6\" style=\"stroke: #383838; stroke-width: 1.5;\" width=\"135\" x=\"32.5\" y=\"41\"/><text fill=\"#000000\" font-family=\"sans-serif\" font-size=\"12\" font-style=\"italic\" lengthAdjust=\"spacingAndGlyphs\" textLength=\"71\" x=\"64.5\" y=\"57.1387\">«state def»</text><text fill=\"#000000\" font-family=\"sans-serif\" font-size=\"12\" lengthAdjust=\"spacingAndGlyphs\" textLength=\"8\" x=\"96\" y=\"71.1074\">S</text><line style=\"stroke: #383838; stroke-width: 1.5;\" x1=\"33.5\" x2=\"166.5\" y1=\"78.9375\" y2=\"78.9375\"/><text fill=\"#000000\" font-family=\"sans-serif\" font-size=\"11\" lengthAdjust=\"spacingAndGlyphs\" textLength=\"59\" x=\"38.5\" y=\"109.9526\">act: Action</text><text fill=\"#000000\" font-family=\"sans-serif\" font-size=\"11\" font-style=\"italic\" lengthAdjust=\"spacingAndGlyphs\" textLength=\"114\" x=\"38.5\" y=\"122.7573\">:&gt;&gt;State::exitAction</text><text fill=\"#000000\" font-family=\"sans-serif\" font-size=\"11\" lengthAdjust=\"spacingAndGlyphs\" textLength=\"88\" x=\"38.5\" y=\"135.562\">A: Performance</text><text fill=\"#000000\" font-family=\"sans-serif\" font-size=\"11\" font-style=\"italic\" lengthAdjust=\"spacingAndGlyphs\" textLength=\"123\" x=\"38.5\" y=\"148.3667\">:&gt;&gt;State::entryAction</text><text fill=\"#000000\" font-family=\"sans-serif\" font-size=\"11\" lengthAdjust=\"spacingAndGlyphs\" textLength=\"50\" x=\"38.5\" y=\"161.1714\">B: Action</text><text fill=\"#000000\" font-family=\"sans-serif\" font-size=\"11\" font-style=\"italic\" lengthAdjust=\"spacingAndGlyphs\" textLength=\"108\" x=\"38.5\" y=\"173.9761\">:&gt;&gt;State::doAction</text><line style=\"stroke: #383838; stroke-width: 1.0;\" x1=\"33.5\" x2=\"56.5\" y1=\"93.3398\" y2=\"93.3398\"/><text fill=\"#000000\" font-family=\"sans-serif\" font-size=\"11\" lengthAdjust=\"spacingAndGlyphs\" textLength=\"87\" x=\"56.5\" y=\"96.6479\">performActions</text><line style=\"stroke: #383838; stroke-width: 1.0;\" x1=\"143.5\" x2=\"166.5\" y1=\"93.3398\" y2=\"93.3398\"/><text fill=\"#000000\" font-family=\"sans-serif\" font-size=\"11\" lengthAdjust=\"spacingAndGlyphs\" textLength=\"53\" x=\"38.5\" y=\"203.5854\">S1: State</text><line style=\"stroke: #383838; stroke-width: 1.0;\" x1=\"33.5\" x2=\"82\" y1=\"186.9727\" y2=\"186.9727\"/><text fill=\"#000000\" font-family=\"sans-serif\" font-size=\"11\" lengthAdjust=\"spacingAndGlyphs\" textLength=\"36\" x=\"82\" y=\"190.2808\">states</text><line style=\"stroke: #383838; stroke-width: 1.0;\" x1=\"118\" x2=\"166.5\" y1=\"186.9727\" y2=\"186.9727\"/><text fill=\"#000000\" font-family=\"sans-serif\" font-size=\"11\" lengthAdjust=\"spacingAndGlyphs\" textLength=\"72\" x=\"38.5\" y=\"233.1948\">T: Transition</text><line style=\"stroke: #383838; stroke-width: 1.0;\" x1=\"33.5\" x2=\"69.5\" y1=\"216.582\" y2=\"216.582\"/><text fill=\"#000000\" font-family=\"sans-serif\" font-size=\"11\" lengthAdjust=\"spacingAndGlyphs\" textLength=\"61\" x=\"69.5\" y=\"219.8901\">transitions</text><line style=\"stroke: #383838; stroke-width: 1.0;\" x1=\"130.5\" x2=\"166.5\" y1=\"216.582\" y2=\"216.582\"/><!--MD5=[1dd1bfd58a279cf63c5f349dbc8fc6a1]\n",
       "class E11--><rect fill=\"#FFFFFF\" height=\"45.9375\" id=\"E11\" rx=\"10\" ry=\"10\" style=\"stroke: #383838; stroke-width: 1.5;\" width=\"64\" x=\"74\" y=\"300\"/><text fill=\"#000000\" font-family=\"sans-serif\" font-size=\"12\" font-style=\"italic\" lengthAdjust=\"spacingAndGlyphs\" textLength=\"47\" x=\"82.5\" y=\"316.1387\">«state»</text><text fill=\"#000000\" font-family=\"sans-serif\" font-size=\"12\" lengthAdjust=\"spacingAndGlyphs\" textLength=\"58\" x=\"77\" y=\"330.1074\">S2: State</text><line style=\"stroke: #383838; stroke-width: 1.5;\" x1=\"75\" x2=\"137\" y1=\"337.9375\" y2=\"337.9375\"/><!--MD5=[49a0ec8f00dab7302a31f22d0f0fe584]\n",
       "class E12--><rect fill=\"#FFFFFF\" height=\"88.3516\" id=\"E12\" rx=\"10\" ry=\"10\" style=\"stroke: #383838; stroke-width: 1.5;\" width=\"160\" x=\"32\" y=\"406\"/><text fill=\"#000000\" font-family=\"sans-serif\" font-size=\"12\" font-style=\"italic\" lengthAdjust=\"spacingAndGlyphs\" textLength=\"84\" x=\"70\" y=\"422.1387\">«sendAction»</text><text fill=\"#000000\" font-family=\"sans-serif\" font-size=\"12\" lengthAdjust=\"spacingAndGlyphs\" textLength=\"154\" x=\"35\" y=\"436.1074\">doAction: TransferAction</text><line style=\"stroke: #383838; stroke-width: 1.5;\" x1=\"33\" x2=\"191\" y1=\"443.9375\" y2=\"443.9375\"/><text fill=\"#000000\" font-family=\"sans-serif\" font-size=\"11\" lengthAdjust=\"spacingAndGlyphs\" textLength=\"81\" x=\"38\" y=\"474.9526\">item: Anything</text><text fill=\"#000000\" font-family=\"sans-serif\" font-size=\"11\" font-style=\"italic\" lengthAdjust=\"spacingAndGlyphs\" textLength=\"104\" x=\"38\" y=\"487.7573\">:&gt;&gt;Transfer::item</text><line style=\"stroke: #383838; stroke-width: 1.0;\" x1=\"33\" x2=\"74.5\" y1=\"458.3398\" y2=\"458.3398\"/><text fill=\"#000000\" font-family=\"sans-serif\" font-size=\"11\" lengthAdjust=\"spacingAndGlyphs\" textLength=\"75\" x=\"74.5\" y=\"461.6479\">itemFeatures</text><line style=\"stroke: #383838; stroke-width: 1.0;\" x1=\"149.5\" x2=\"191\" y1=\"458.3398\" y2=\"458.3398\"/><!--MD5=[1f5f03483f7de0d5b3680a7f6650997f]\n",
       "reverse link E6 to E11--><path d=\"M103.71,253.2 C104.3,270.82 104.85,287.28 105.26,299.69 \" fill=\"none\" id=\"E6&lt;-E11\" style=\"stroke: #383838; stroke-width: 1.0;\"/><polygon fill=\"#383838\" points=\"103.28,240.2,99.4801,246.3287,103.6758,252.1935,107.4757,246.0648,103.28,240.2\" style=\"stroke: #383838; stroke-width: 1.0;\"/><!--MD5=[94adabc162ce7e41b39f13be14fbaeb3]\n",
       "reverse link E11 to E12--><path d=\"M107.69,359.11 C108.38,373.64 109.2,390.65 109.93,405.93 \" fill=\"none\" id=\"E11&lt;-E12\" style=\"stroke: #383838; stroke-width: 1.0;\"/><polygon fill=\"#FFFFFF\" points=\"107.06,346.06,103.348,352.2423,107.627,358.0466,111.339,351.8643,107.06,346.06\" style=\"stroke: #383838; stroke-width: 1.0;\"/><!--MD5=[43ce00ca90d22f0cbb0999249b0e7c45]\n",
       "@startuml\r\n",
       "top to bottom direction\r\n",
       "skinparam monochrome true\r\n",
       "skinparam classbackgroundcolor white\r\n",
       "skinparam shadowing false\r\n",
       "skinparam wrapWidth 300\r\n",
       "hide circle\r\n",
       "\r\n",
       "package \"StateTest\" as E1   {\r\n",
       "comp def \"Sig\" as E2  <<(T,blue)attribute def>> {\r\n",
       "x: DataValue\r\n",
       "}\r\n",
       "comp def \"Exit\" as E3  <<(T,blue)attribute def>> {\r\n",
       "}\r\n",
       "comp usage \"p: Part\" as E4  <<(T,blue)part>> {\r\n",
       "}\r\n",
       "comp usage \"act: Action\" as E5  <<(T,blue)action>> {\r\n",
       "}\r\n",
       "comp def \"S\" as E6  <<(T,blue)state def>> {\r\n",
       "- -performActions- -\r\n",
       "act: Action\\n//:>>State::exitAction// \r\n",
       "A: Performance\\n//:>>State::entryAction// \r\n",
       "B: Action\\n//:>>State::doAction// \r\n",
       "- -states- -\r\n",
       "S1: State\r\n",
       "- -transitions- -\r\n",
       "T: Transition\r\n",
       "}\r\n",
       "comp usage \"S2: State\" as E11  <<(T,blue)state>> {\r\n",
       "}\r\n",
       "comp usage \"doAction: TransferAction\" as E12  <<(T,blue)sendAction>> {\r\n",
       "- -itemFeatures- -\r\n",
       "item: Anything\\n//:>>Transfer::item// \r\n",
       "}\r\n",
       "E6 *- - E11\r\n",
       "E11 o- - E12\r\n",
       "}\r\n",
       "@enduml\r\n",
       "\n",
       "PlantUML version 1.2020.13(Sat Jun 13 12:26:38 UTC 2020)\n",
       "(EPL source distribution)\n",
       "Java Runtime: OpenJDK Runtime Environment\n",
       "JVM: OpenJDK 64-Bit Server VM\n",
       "Default Encoding: UTF-8\n",
       "Language: en\n",
       "Country: null\n",
       "--></g></svg>"
      ]
     },
     "execution_count": 49,
     "metadata": {},
     "output_type": "execute_result"
    }
   ],
   "source": [
    "%viz --style=\"TB\" --view=\"Sequence\" \"StateTest\""
   ]
  },
  {
   "cell_type": "code",
   "execution_count": 50,
   "id": "aware-apollo",
   "metadata": {
    "execution": {
     "iopub.execute_input": "2021-03-26T09:42:49.254254Z",
     "iopub.status.busy": "2021-03-26T09:42:49.253866Z",
     "iopub.status.idle": "2021-03-26T09:42:49.287185Z",
     "shell.execute_reply": "2021-03-26T09:42:49.285745Z"
    }
   },
   "outputs": [
    {
     "data": {
      "image/svg+xml": [
       "<?xml version=\"1.0\" encoding=\"UTF-8\" standalone=\"no\"?><svg xmlns=\"http://www.w3.org/2000/svg\" xmlns:xlink=\"http://www.w3.org/1999/xlink\" contentScriptType=\"application/ecmascript\" contentStyleType=\"text/css\" height=\"557px\" preserveAspectRatio=\"none\" style=\"width:815px;height:557px;\" version=\"1.1\" viewBox=\"0 0 815 557\" width=\"815px\" zoomAndPan=\"magnify\"><defs/><g><!--MD5=[fbc87193dbaf4d95561dea2c320d4a47]\n",
       "cluster E1--><polygon fill=\"#FFFFFF\" points=\"16,6,98,6,105,28.2969,793,28.2969,793,545.5,16,545.5,16,6\" style=\"stroke: #000000; stroke-width: 1.5;\"/><line style=\"stroke: #000000; stroke-width: 1.5;\" x1=\"16\" x2=\"105\" y1=\"28.2969\" y2=\"28.2969\"/><text fill=\"#000000\" font-family=\"sans-serif\" font-size=\"14\" font-weight=\"bold\" lengthAdjust=\"spacingAndGlyphs\" textLength=\"76\" x=\"20\" y=\"20.9951\">StateTest</text><!--MD5=[14e3b0961a2654348d326746436168a1]\n",
       "cluster E6--><rect fill=\"#FFFFFF\" height=\"472.5\" style=\"stroke: #000000; stroke-width: 1.5;\" width=\"327\" x=\"442\" y=\"49\"/><text fill=\"#000000\" font-family=\"sans-serif\" font-size=\"14\" font-weight=\"bold\" lengthAdjust=\"spacingAndGlyphs\" textLength=\"10\" x=\"600.5\" y=\"63.9951\">S</text><!--MD5=[b4997ac47864f28c2f74865a473b2911]\n",
       "class E2--><rect fill=\"#FFFFFF\" height=\"58.7422\" id=\"E2\" style=\"stroke: #383838; stroke-width: 1.5;\" width=\"95\" x=\"330.5\" y=\"111.5\"/><text fill=\"#000000\" font-family=\"sans-serif\" font-size=\"12\" font-style=\"italic\" lengthAdjust=\"spacingAndGlyphs\" textLength=\"93\" x=\"331.5\" y=\"127.6387\">«attribute def»</text><text fill=\"#000000\" font-family=\"sans-serif\" font-size=\"12\" lengthAdjust=\"spacingAndGlyphs\" textLength=\"19\" x=\"368.5\" y=\"141.6074\">Sig</text><line style=\"stroke: #383838; stroke-width: 1.5;\" x1=\"331.5\" x2=\"424.5\" y1=\"149.4375\" y2=\"149.4375\"/><text fill=\"#000000\" font-family=\"sans-serif\" font-size=\"11\" lengthAdjust=\"spacingAndGlyphs\" textLength=\"71\" x=\"336.5\" y=\"163.6479\">x: DataValue</text><!--MD5=[09b614a08d8cba4a07c9adeb5e0fee81]\n",
       "class E3--><rect fill=\"#FFFFFF\" height=\"45.9375\" id=\"E3\" style=\"stroke: #383838; stroke-width: 1.5;\" width=\"95\" x=\"200.5\" y=\"118\"/><text fill=\"#000000\" font-family=\"sans-serif\" font-size=\"12\" font-style=\"italic\" lengthAdjust=\"spacingAndGlyphs\" textLength=\"93\" x=\"201.5\" y=\"134.1387\">«attribute def»</text><text fill=\"#000000\" font-family=\"sans-serif\" font-size=\"12\" lengthAdjust=\"spacingAndGlyphs\" textLength=\"22\" x=\"237\" y=\"148.1074\">Exit</text><line style=\"stroke: #383838; stroke-width: 1.5;\" x1=\"201.5\" x2=\"294.5\" y1=\"155.9375\" y2=\"155.9375\"/><!--MD5=[ebbe1d658d1005bcc118a6aa81145e00]\n",
       "class E4--><rect fill=\"#FFFFFF\" height=\"45.9375\" id=\"E4\" rx=\"10\" ry=\"10\" style=\"stroke: #383838; stroke-width: 1.5;\" width=\"48\" x=\"117\" y=\"118\"/><text fill=\"#000000\" font-family=\"sans-serif\" font-size=\"12\" font-style=\"italic\" lengthAdjust=\"spacingAndGlyphs\" textLength=\"40\" x=\"121\" y=\"134.1387\">«part»</text><text fill=\"#000000\" font-family=\"sans-serif\" font-size=\"12\" lengthAdjust=\"spacingAndGlyphs\" textLength=\"42\" x=\"120\" y=\"148.1074\">p: Part</text><line style=\"stroke: #383838; stroke-width: 1.5;\" x1=\"118\" x2=\"164\" y1=\"155.9375\" y2=\"155.9375\"/><g id=\"E1.E5\"><rect fill=\"#FFFFFF\" height=\"50\" rx=\"12.5\" ry=\"12.5\" style=\"stroke: #383838; stroke-width: 1.5;\" width=\"50\" x=\"32\" y=\"116\"/><line style=\"stroke: #383838; stroke-width: 1.5;\" x1=\"32\" x2=\"82\" y1=\"142.2969\" y2=\"142.2969\"/><text fill=\"#000000\" font-family=\"sans-serif\" font-size=\"14\" lengthAdjust=\"spacingAndGlyphs\" textLength=\"21\" x=\"46.5\" y=\"133.9951\">act</text></g><ellipse cx=\"554\" cy=\"141\" fill=\"#000000\" rx=\"10\" ry=\"10\" style=\"stroke: none; stroke-width: 1.0;\"/><ellipse cx=\"572\" cy=\"495.5\" fill=\"none\" rx=\"10\" ry=\"10\" style=\"stroke: #000000; stroke-width: 1.0;\"/><ellipse cx=\"572.5\" cy=\"496\" fill=\"#000000\" rx=\"6\" ry=\"6\" style=\"stroke: none; stroke-width: 1.0;\"/><g id=\"E1.E6.E7\"><rect fill=\"#FFFFFF\" height=\"50\" rx=\"12.5\" ry=\"12.5\" style=\"stroke: #383838; stroke-width: 1.5;\" width=\"50\" x=\"529\" y=\"231.5\"/><line style=\"stroke: #383838; stroke-width: 1.5;\" x1=\"529\" x2=\"579\" y1=\"257.7969\" y2=\"257.7969\"/><text fill=\"#000000\" font-family=\"sans-serif\" font-size=\"14\" lengthAdjust=\"spacingAndGlyphs\" textLength=\"18\" x=\"545\" y=\"249.4951\">S1</text></g><g id=\"E1.E6.E8\"><rect fill=\"#FFFFFF\" height=\"50.2656\" rx=\"12.5\" ry=\"12.5\" style=\"stroke: #383838; stroke-width: 1.5;\" width=\"142\" x=\"501\" y=\"358.5\"/><line style=\"stroke: #383838; stroke-width: 1.5;\" x1=\"501\" x2=\"643\" y1=\"384.7969\" y2=\"384.7969\"/><text fill=\"#000000\" font-family=\"sans-serif\" font-size=\"14\" lengthAdjust=\"spacingAndGlyphs\" textLength=\"18\" x=\"563\" y=\"376.4951\">S2</text><text fill=\"#000000\" font-family=\"sans-serif\" font-size=\"12\" font-weight=\"bold\" lengthAdjust=\"spacingAndGlyphs\" textLength=\"18\" x=\"506\" y=\"400.9355\">do</text><text fill=\"#000000\" font-family=\"sans-serif\" font-size=\"12\" lengthAdjust=\"spacingAndGlyphs\" textLength=\"104\" x=\"524\" y=\"400.9355\">/ transferActions</text></g><!--MD5=[5a531d3a85f3339e6e197084acb48195]\n",
       "link *start*E6 to E7--><path d=\"M554,151.29 C554,167.4 554,201.18 554,225.93 \" fill=\"none\" id=\"*start*E6-&gt;E7\" style=\"stroke: #383838; stroke-width: 1.0;\"/><polygon fill=\"#383838\" points=\"554,231.07,558,222.07,554,226.07,550,222.07,554,231.07\" style=\"stroke: #383838; stroke-width: 1.0;\"/><!--MD5=[7ec9a8babba89ddcae1318ca9fb3c814]\n",
       "link E8 to *end*E6--><path d=\"M572,408.64 C572,430.53 572,462.07 572,480.21 \" fill=\"none\" id=\"E8-&gt;*end*E6\" style=\"stroke: #383838; stroke-width: 1.0;\"/><polygon fill=\"#383838\" points=\"572,485.38,576,476.38,572,480.38,568,476.38,572,485.38\" style=\"stroke: #383838; stroke-width: 1.0;\"/><text fill=\"#000000\" font-family=\"sans-serif\" font-size=\"13\" lengthAdjust=\"spacingAndGlyphs\" textLength=\"23\" x=\"573\" y=\"451.5669\">Exit</text><!--MD5=[79bc8f324ef4d02c541433f2e6e513c3]\n",
       "link E7 to E8--><path d=\"M528.86,269.86 C505.91,282.96 477.33,304.98 490,328.5 C495.73,339.14 504.57,348.02 514.37,355.31 \" fill=\"none\" id=\"E7-&gt;E8\" style=\"stroke: #383838; stroke-width: 1.0;\"/><polygon fill=\"#383838\" points=\"518.61,358.34,513.6001,349.8606,514.5375,355.4392,508.9588,356.3766,518.61,358.34\" style=\"stroke: #383838; stroke-width: 1.0;\"/><text fill=\"#000000\" font-family=\"sans-serif\" font-size=\"13\" lengthAdjust=\"spacingAndGlyphs\" textLength=\"81\" x=\"491\" y=\"324.5669\">Sig /action D</text><!--MD5=[bfa3c8b0d15052fdf50ae9310b491027]\n",
       "link E8 to E7--><path d=\"M576.92,358.3 C578.93,344.47 580.14,326.88 577,311.5 C575.28,303.07 572.19,294.32 568.82,286.38 \" fill=\"none\" id=\"E8-&gt;E7\" style=\"stroke: #383838; stroke-width: 1.0;\"/><polygon fill=\"#383838\" points=\"566.7,281.56,566.6685,291.4088,568.7161,286.1355,573.9894,288.1831,566.7,281.56\" style=\"stroke: #383838; stroke-width: 1.0;\"/><text fill=\"#000000\" font-family=\"sans-serif\" font-size=\"13\" lengthAdjust=\"spacingAndGlyphs\" textLength=\"135\" x=\"579\" y=\"324.5669\">Sig [true]/send s to p</text><!--MD5=[688f44f87e19f5cc290808ff211a0aa0]\n",
       "@startuml\r\n",
       "top to bottom direction\r\n",
       "skinparam monochrome true\r\n",
       "skinparam classbackgroundcolor white\r\n",
       "skinparam shadowing false\r\n",
       "skinparam wrapWidth 300\r\n",
       "hide circle\r\n",
       "\r\n",
       "package \"StateTest\" as E1   {\r\n",
       "comp def \"Sig\" as E2  <<(T,blue)attribute def>> {\r\n",
       "x: DataValue\r\n",
       "}\r\n",
       "comp def \"Exit\" as E3  <<(T,blue)attribute def>> {\r\n",
       "}\r\n",
       "comp usage \"p: Part\" as E4  <<(T,blue)part>> {\r\n",
       "}\r\n",
       "rec usage \"act\" as E5 {\r\n",
       "}\r\n",
       "\r\n",
       "rec def \"S\" as E6 {\r\n",
       "rec usage \"S1\" as E7 {\r\n",
       "}\r\n",
       "\r\n",
       "rec usage \"S2\" as E8 {\r\n",
       "desc \"S2\" as E8  : **do**/ transferActions \r\n",
       "}\r\n",
       "\r\n",
       "[*] - -> E7\r\n",
       "E8  - -> [*] : Exit \r\n",
       "desc \"S\" as E6  : **entry**/ A\r\n",
       "desc \"S\" as E6  : **do**/ B\r\n",
       "desc \"S\" as E6  : **exit**/ act \r\n",
       "}\r\n",
       "\r\n",
       "E7  - -> E8 : Sig /action D\r\n",
       "E8  - -> E7 : Sig [true]/send s to p\r\n",
       "}\r\n",
       "@enduml\r\n",
       "\n",
       "PlantUML version 1.2020.13(Sat Jun 13 12:26:38 UTC 2020)\n",
       "(EPL source distribution)\n",
       "Java Runtime: OpenJDK Runtime Environment\n",
       "JVM: OpenJDK 64-Bit Server VM\n",
       "Default Encoding: UTF-8\n",
       "Language: en\n",
       "Country: null\n",
       "--></g></svg>"
      ]
     },
     "execution_count": 50,
     "metadata": {},
     "output_type": "execute_result"
    }
   ],
   "source": [
    "%viz --style=\"TB\" --view=\"MIXED\" \"StateTest\""
   ]
  },
  {
   "cell_type": "code",
   "execution_count": 51,
   "id": "above-distance",
   "metadata": {
    "execution": {
     "iopub.execute_input": "2021-03-26T09:42:49.337750Z",
     "iopub.status.busy": "2021-03-26T09:42:49.337164Z",
     "iopub.status.idle": "2021-03-26T09:42:49.369763Z",
     "shell.execute_reply": "2021-03-26T09:42:49.368498Z"
    }
   },
   "outputs": [
    {
     "data": {
      "image/svg+xml": [
       "<?xml version=\"1.0\" encoding=\"UTF-8\" standalone=\"no\"?><svg xmlns=\"http://www.w3.org/2000/svg\" xmlns:xlink=\"http://www.w3.org/1999/xlink\" contentScriptType=\"application/ecmascript\" contentStyleType=\"text/css\" height=\"557px\" preserveAspectRatio=\"none\" style=\"width:815px;height:557px;\" version=\"1.1\" viewBox=\"0 0 815 557\" width=\"815px\" zoomAndPan=\"magnify\"><defs/><g><!--MD5=[fbc87193dbaf4d95561dea2c320d4a47]\n",
       "cluster E1--><polygon fill=\"#FFFFFF\" points=\"16,6,98,6,105,28.2969,793,28.2969,793,545.5,16,545.5,16,6\" style=\"stroke: #000000; stroke-width: 1.5;\"/><line style=\"stroke: #000000; stroke-width: 1.5;\" x1=\"16\" x2=\"105\" y1=\"28.2969\" y2=\"28.2969\"/><text fill=\"#000000\" font-family=\"sans-serif\" font-size=\"14\" font-weight=\"bold\" lengthAdjust=\"spacingAndGlyphs\" textLength=\"76\" x=\"20\" y=\"20.9951\">StateTest</text><!--MD5=[14e3b0961a2654348d326746436168a1]\n",
       "cluster E6--><rect fill=\"#FFFFFF\" height=\"472.5\" style=\"stroke: #000000; stroke-width: 1.5;\" width=\"327\" x=\"442\" y=\"49\"/><text fill=\"#000000\" font-family=\"sans-serif\" font-size=\"14\" font-weight=\"bold\" lengthAdjust=\"spacingAndGlyphs\" textLength=\"10\" x=\"600.5\" y=\"63.9951\">S</text><!--MD5=[b4997ac47864f28c2f74865a473b2911]\n",
       "class E2--><rect fill=\"#FFFFFF\" height=\"58.7422\" id=\"E2\" style=\"stroke: #383838; stroke-width: 1.5;\" width=\"95\" x=\"330.5\" y=\"111.5\"/><text fill=\"#000000\" font-family=\"sans-serif\" font-size=\"12\" font-style=\"italic\" lengthAdjust=\"spacingAndGlyphs\" textLength=\"93\" x=\"331.5\" y=\"127.6387\">«attribute def»</text><text fill=\"#000000\" font-family=\"sans-serif\" font-size=\"12\" lengthAdjust=\"spacingAndGlyphs\" textLength=\"19\" x=\"368.5\" y=\"141.6074\">Sig</text><line style=\"stroke: #383838; stroke-width: 1.5;\" x1=\"331.5\" x2=\"424.5\" y1=\"149.4375\" y2=\"149.4375\"/><text fill=\"#000000\" font-family=\"sans-serif\" font-size=\"11\" lengthAdjust=\"spacingAndGlyphs\" textLength=\"71\" x=\"336.5\" y=\"163.6479\">x: DataValue</text><!--MD5=[09b614a08d8cba4a07c9adeb5e0fee81]\n",
       "class E3--><rect fill=\"#FFFFFF\" height=\"45.9375\" id=\"E3\" style=\"stroke: #383838; stroke-width: 1.5;\" width=\"95\" x=\"200.5\" y=\"118\"/><text fill=\"#000000\" font-family=\"sans-serif\" font-size=\"12\" font-style=\"italic\" lengthAdjust=\"spacingAndGlyphs\" textLength=\"93\" x=\"201.5\" y=\"134.1387\">«attribute def»</text><text fill=\"#000000\" font-family=\"sans-serif\" font-size=\"12\" lengthAdjust=\"spacingAndGlyphs\" textLength=\"22\" x=\"237\" y=\"148.1074\">Exit</text><line style=\"stroke: #383838; stroke-width: 1.5;\" x1=\"201.5\" x2=\"294.5\" y1=\"155.9375\" y2=\"155.9375\"/><!--MD5=[ebbe1d658d1005bcc118a6aa81145e00]\n",
       "class E4--><rect fill=\"#FFFFFF\" height=\"45.9375\" id=\"E4\" rx=\"10\" ry=\"10\" style=\"stroke: #383838; stroke-width: 1.5;\" width=\"48\" x=\"117\" y=\"118\"/><text fill=\"#000000\" font-family=\"sans-serif\" font-size=\"12\" font-style=\"italic\" lengthAdjust=\"spacingAndGlyphs\" textLength=\"40\" x=\"121\" y=\"134.1387\">«part»</text><text fill=\"#000000\" font-family=\"sans-serif\" font-size=\"12\" lengthAdjust=\"spacingAndGlyphs\" textLength=\"42\" x=\"120\" y=\"148.1074\">p: Part</text><line style=\"stroke: #383838; stroke-width: 1.5;\" x1=\"118\" x2=\"164\" y1=\"155.9375\" y2=\"155.9375\"/><g id=\"E1.E5\"><rect fill=\"#FFFFFF\" height=\"50\" rx=\"12.5\" ry=\"12.5\" style=\"stroke: #383838; stroke-width: 1.5;\" width=\"50\" x=\"32\" y=\"116\"/><line style=\"stroke: #383838; stroke-width: 1.5;\" x1=\"32\" x2=\"82\" y1=\"142.2969\" y2=\"142.2969\"/><text fill=\"#000000\" font-family=\"sans-serif\" font-size=\"14\" lengthAdjust=\"spacingAndGlyphs\" textLength=\"21\" x=\"46.5\" y=\"133.9951\">act</text></g><ellipse cx=\"554\" cy=\"141\" fill=\"#000000\" rx=\"10\" ry=\"10\" style=\"stroke: none; stroke-width: 1.0;\"/><ellipse cx=\"572\" cy=\"495.5\" fill=\"none\" rx=\"10\" ry=\"10\" style=\"stroke: #000000; stroke-width: 1.0;\"/><ellipse cx=\"572.5\" cy=\"496\" fill=\"#000000\" rx=\"6\" ry=\"6\" style=\"stroke: none; stroke-width: 1.0;\"/><g id=\"E1.E6.E7\"><rect fill=\"#FFFFFF\" height=\"50\" rx=\"12.5\" ry=\"12.5\" style=\"stroke: #383838; stroke-width: 1.5;\" width=\"50\" x=\"529\" y=\"231.5\"/><line style=\"stroke: #383838; stroke-width: 1.5;\" x1=\"529\" x2=\"579\" y1=\"257.7969\" y2=\"257.7969\"/><text fill=\"#000000\" font-family=\"sans-serif\" font-size=\"14\" lengthAdjust=\"spacingAndGlyphs\" textLength=\"18\" x=\"545\" y=\"249.4951\">S1</text></g><g id=\"E1.E6.E8\"><rect fill=\"#FFFFFF\" height=\"50.2656\" rx=\"12.5\" ry=\"12.5\" style=\"stroke: #383838; stroke-width: 1.5;\" width=\"142\" x=\"501\" y=\"358.5\"/><line style=\"stroke: #383838; stroke-width: 1.5;\" x1=\"501\" x2=\"643\" y1=\"384.7969\" y2=\"384.7969\"/><text fill=\"#000000\" font-family=\"sans-serif\" font-size=\"14\" lengthAdjust=\"spacingAndGlyphs\" textLength=\"18\" x=\"563\" y=\"376.4951\">S2</text><text fill=\"#000000\" font-family=\"sans-serif\" font-size=\"12\" font-weight=\"bold\" lengthAdjust=\"spacingAndGlyphs\" textLength=\"18\" x=\"506\" y=\"400.9355\">do</text><text fill=\"#000000\" font-family=\"sans-serif\" font-size=\"12\" lengthAdjust=\"spacingAndGlyphs\" textLength=\"104\" x=\"524\" y=\"400.9355\">/ transferActions</text></g><!--MD5=[5a531d3a85f3339e6e197084acb48195]\n",
       "link *start*E6 to E7--><path d=\"M554,151.25 C554,151.25 554,226.12 554,226.12 \" fill=\"none\" id=\"*start*E6-&gt;E7\" style=\"stroke: #383838; stroke-width: 1.0;\"/><polygon fill=\"#383838\" points=\"554,231.12,558,222.12,554,226.12,550,222.12,554,231.12\" style=\"stroke: #383838; stroke-width: 1.0;\"/><!--MD5=[7ec9a8babba89ddcae1318ca9fb3c814]\n",
       "link E8 to *end*E6--><path d=\"M572,408.63 C572,408.63 572,480.23 572,480.23 \" fill=\"none\" id=\"E8-&gt;*end*E6\" style=\"stroke: #383838; stroke-width: 1.0;\"/><polygon fill=\"#383838\" points=\"572,485.23,576,476.23,572,480.23,568,476.23,572,485.23\" style=\"stroke: #383838; stroke-width: 1.0;\"/><text fill=\"#000000\" font-family=\"sans-serif\" font-size=\"13\" lengthAdjust=\"spacingAndGlyphs\" textLength=\"23\" x=\"573\" y=\"451.5669\">Exit</text><!--MD5=[79bc8f324ef4d02c541433f2e6e513c3]\n",
       "link E7 to E8--><path d=\"M545.67,281.59 C545.67,281.59 545.67,353.46 545.67,353.46 \" fill=\"none\" id=\"E7-&gt;E8\" style=\"stroke: #383838; stroke-width: 1.0;\"/><polygon fill=\"#383838\" points=\"545.67,358.46,549.67,349.46,545.67,353.46,541.67,349.46,545.67,358.46\" style=\"stroke: #383838; stroke-width: 1.0;\"/><text fill=\"#000000\" font-family=\"sans-serif\" font-size=\"13\" lengthAdjust=\"spacingAndGlyphs\" textLength=\"81\" x=\"494\" y=\"324.5669\">Sig /action D</text><!--MD5=[bfa3c8b0d15052fdf50ae9310b491027]\n",
       "link E8 to E7--><path d=\"M562.33,358.41 C562.33,358.41 562.33,286.54 562.33,286.54 \" fill=\"none\" id=\"E8-&gt;E7\" style=\"stroke: #383838; stroke-width: 1.0;\"/><polygon fill=\"#383838\" points=\"562.33,281.54,558.33,290.54,562.33,286.54,566.33,290.54,562.33,281.54\" style=\"stroke: #383838; stroke-width: 1.0;\"/><text fill=\"#000000\" font-family=\"sans-serif\" font-size=\"13\" lengthAdjust=\"spacingAndGlyphs\" textLength=\"135\" x=\"617\" y=\"324.5669\">Sig [true]/send s to p</text><!--MD5=[c6130212042e6a0f3be27678d8ff1e69]\n",
       "@startuml\r\n",
       "skinparam linetype ortho\r\n",
       "skinparam monochrome true\r\n",
       "skinparam classbackgroundcolor white\r\n",
       "skinparam shadowing false\r\n",
       "skinparam wrapWidth 300\r\n",
       "hide circle\r\n",
       "\r\n",
       "package \"StateTest\" as E1   {\r\n",
       "comp def \"Sig\" as E2  <<(T,blue)attribute def>> {\r\n",
       "x: DataValue\r\n",
       "}\r\n",
       "comp def \"Exit\" as E3  <<(T,blue)attribute def>> {\r\n",
       "}\r\n",
       "comp usage \"p: Part\" as E4  <<(T,blue)part>> {\r\n",
       "}\r\n",
       "rec usage \"act\" as E5 {\r\n",
       "}\r\n",
       "\r\n",
       "rec def \"S\" as E6 {\r\n",
       "rec usage \"S1\" as E7 {\r\n",
       "}\r\n",
       "\r\n",
       "rec usage \"S2\" as E8 {\r\n",
       "desc \"S2\" as E8  : **do**/ transferActions \r\n",
       "}\r\n",
       "\r\n",
       "[*] - -> E7\r\n",
       "E8  - -> [*] : Exit \r\n",
       "desc \"S\" as E6  : **entry**/ A\r\n",
       "desc \"S\" as E6  : **do**/ B\r\n",
       "desc \"S\" as E6  : **exit**/ act \r\n",
       "}\r\n",
       "\r\n",
       "E7  - -> E8 : Sig /action D\r\n",
       "E8  - -> E7 : Sig [true]/send s to p\r\n",
       "}\r\n",
       "@enduml\r\n",
       "\n",
       "PlantUML version 1.2020.13(Sat Jun 13 12:26:38 UTC 2020)\n",
       "(EPL source distribution)\n",
       "Java Runtime: OpenJDK Runtime Environment\n",
       "JVM: OpenJDK 64-Bit Server VM\n",
       "Default Encoding: UTF-8\n",
       "Language: en\n",
       "Country: null\n",
       "--></g></svg>"
      ]
     },
     "execution_count": 51,
     "metadata": {},
     "output_type": "execute_result"
    }
   ],
   "source": [
    "%viz --style=\"ORTHOLINE\" --view=\"Default\" \"StateTest\""
   ]
  },
  {
   "cell_type": "code",
   "execution_count": 52,
   "id": "formal-accessory",
   "metadata": {
    "execution": {
     "iopub.execute_input": "2021-03-26T09:42:49.422159Z",
     "iopub.status.busy": "2021-03-26T09:42:49.421193Z",
     "iopub.status.idle": "2021-03-26T09:42:49.586269Z",
     "shell.execute_reply": "2021-03-26T09:42:49.584686Z"
    }
   },
   "outputs": [
    {
     "data": {
      "image/svg+xml": [
       "<?xml version=\"1.0\" encoding=\"UTF-8\" standalone=\"no\"?><svg xmlns=\"http://www.w3.org/2000/svg\" xmlns:xlink=\"http://www.w3.org/1999/xlink\" contentScriptType=\"application/ecmascript\" contentStyleType=\"text/css\" height=\"522px\" preserveAspectRatio=\"none\" style=\"width:658px;height:522px;\" version=\"1.1\" viewBox=\"0 0 658 522\" width=\"658px\" zoomAndPan=\"magnify\"><defs/><g><!--MD5=[fbc87193dbaf4d95561dea2c320d4a47]\n",
       "cluster E1--><polygon fill=\"#FFFFFF\" points=\"16,6,98,6,105,28.2969,636,28.2969,636,510,16,510,16,6\" style=\"stroke: #000000; stroke-width: 1.5;\"/><line style=\"stroke: #000000; stroke-width: 1.5;\" x1=\"16\" x2=\"105\" y1=\"28.2969\" y2=\"28.2969\"/><text fill=\"#000000\" font-family=\"sans-serif\" font-size=\"14\" font-weight=\"bold\" lengthAdjust=\"spacingAndGlyphs\" textLength=\"76\" x=\"20\" y=\"20.9951\">StateTest</text><!--MD5=[b4997ac47864f28c2f74865a473b2911]\n",
       "class E2--><rect fill=\"#FFFFFF\" height=\"58.7422\" id=\"E2\" style=\"stroke: #383838; stroke-width: 1.5;\" width=\"95\" x=\"524.5\" y=\"111\"/><text fill=\"#000000\" font-family=\"sans-serif\" font-size=\"12\" font-style=\"italic\" lengthAdjust=\"spacingAndGlyphs\" textLength=\"93\" x=\"525.5\" y=\"127.1387\">«attribute def»</text><text fill=\"#000000\" font-family=\"sans-serif\" font-size=\"12\" lengthAdjust=\"spacingAndGlyphs\" textLength=\"19\" x=\"562.5\" y=\"141.1074\">Sig</text><line style=\"stroke: #383838; stroke-width: 1.5;\" x1=\"525.5\" x2=\"618.5\" y1=\"148.9375\" y2=\"148.9375\"/><text fill=\"#000000\" font-family=\"sans-serif\" font-size=\"11\" lengthAdjust=\"spacingAndGlyphs\" textLength=\"71\" x=\"530.5\" y=\"163.1479\">x: DataValue</text><!--MD5=[09b614a08d8cba4a07c9adeb5e0fee81]\n",
       "class E3--><rect fill=\"#FFFFFF\" height=\"45.9375\" id=\"E3\" style=\"stroke: #383838; stroke-width: 1.5;\" width=\"95\" x=\"394.5\" y=\"117.5\"/><text fill=\"#000000\" font-family=\"sans-serif\" font-size=\"12\" font-style=\"italic\" lengthAdjust=\"spacingAndGlyphs\" textLength=\"93\" x=\"395.5\" y=\"133.6387\">«attribute def»</text><text fill=\"#000000\" font-family=\"sans-serif\" font-size=\"12\" lengthAdjust=\"spacingAndGlyphs\" textLength=\"22\" x=\"431\" y=\"147.6074\">Exit</text><line style=\"stroke: #383838; stroke-width: 1.5;\" x1=\"395.5\" x2=\"488.5\" y1=\"155.4375\" y2=\"155.4375\"/><!--MD5=[ebbe1d658d1005bcc118a6aa81145e00]\n",
       "class E4--><rect fill=\"#FFFFFF\" height=\"45.9375\" id=\"E4\" rx=\"10\" ry=\"10\" style=\"stroke: #383838; stroke-width: 1.5;\" width=\"48\" x=\"311\" y=\"117.5\"/><text fill=\"#000000\" font-family=\"sans-serif\" font-size=\"12\" font-style=\"italic\" lengthAdjust=\"spacingAndGlyphs\" textLength=\"40\" x=\"315\" y=\"133.6387\">«part»</text><text fill=\"#000000\" font-family=\"sans-serif\" font-size=\"12\" lengthAdjust=\"spacingAndGlyphs\" textLength=\"42\" x=\"314\" y=\"147.6074\">p: Part</text><line style=\"stroke: #383838; stroke-width: 1.5;\" x1=\"312\" x2=\"358\" y1=\"155.4375\" y2=\"155.4375\"/><!--MD5=[270fce915f116d4de14055a7c1d9a0f3]\n",
       "class E5--><rect fill=\"#FFFFFF\" height=\"45.9375\" id=\"E5\" rx=\"10\" ry=\"10\" style=\"stroke: #383838; stroke-width: 1.5;\" width=\"73\" x=\"202.5\" y=\"117.5\"/><text fill=\"#000000\" font-family=\"sans-serif\" font-size=\"12\" font-style=\"italic\" lengthAdjust=\"spacingAndGlyphs\" textLength=\"53\" x=\"212.5\" y=\"133.6387\">«action»</text><text fill=\"#000000\" font-family=\"sans-serif\" font-size=\"12\" lengthAdjust=\"spacingAndGlyphs\" textLength=\"67\" x=\"205.5\" y=\"147.6074\">act: Action</text><line style=\"stroke: #383838; stroke-width: 1.5;\" x1=\"203.5\" x2=\"274.5\" y1=\"155.4375\" y2=\"155.4375\"/><!--MD5=[60a26617385b1d2d0262a64233df1f8d]\n",
       "class E6--><rect fill=\"#FFFFFF\" height=\"198.7891\" id=\"E6\" style=\"stroke: #383838; stroke-width: 1.5;\" width=\"135\" x=\"32.5\" y=\"41\"/><text fill=\"#000000\" font-family=\"sans-serif\" font-size=\"12\" font-style=\"italic\" lengthAdjust=\"spacingAndGlyphs\" textLength=\"71\" x=\"64.5\" y=\"57.1387\">«state def»</text><text fill=\"#000000\" font-family=\"sans-serif\" font-size=\"12\" lengthAdjust=\"spacingAndGlyphs\" textLength=\"8\" x=\"96\" y=\"71.1074\">S</text><line style=\"stroke: #383838; stroke-width: 1.5;\" x1=\"33.5\" x2=\"166.5\" y1=\"78.9375\" y2=\"78.9375\"/><text fill=\"#000000\" font-family=\"sans-serif\" font-size=\"11\" lengthAdjust=\"spacingAndGlyphs\" textLength=\"59\" x=\"38.5\" y=\"109.9526\">act: Action</text><text fill=\"#000000\" font-family=\"sans-serif\" font-size=\"11\" font-style=\"italic\" lengthAdjust=\"spacingAndGlyphs\" textLength=\"114\" x=\"38.5\" y=\"122.7573\">:&gt;&gt;State::exitAction</text><text fill=\"#000000\" font-family=\"sans-serif\" font-size=\"11\" lengthAdjust=\"spacingAndGlyphs\" textLength=\"88\" x=\"38.5\" y=\"135.562\">A: Performance</text><text fill=\"#000000\" font-family=\"sans-serif\" font-size=\"11\" font-style=\"italic\" lengthAdjust=\"spacingAndGlyphs\" textLength=\"123\" x=\"38.5\" y=\"148.3667\">:&gt;&gt;State::entryAction</text><text fill=\"#000000\" font-family=\"sans-serif\" font-size=\"11\" lengthAdjust=\"spacingAndGlyphs\" textLength=\"50\" x=\"38.5\" y=\"161.1714\">B: Action</text><text fill=\"#000000\" font-family=\"sans-serif\" font-size=\"11\" font-style=\"italic\" lengthAdjust=\"spacingAndGlyphs\" textLength=\"108\" x=\"38.5\" y=\"173.9761\">:&gt;&gt;State::doAction</text><line style=\"stroke: #383838; stroke-width: 1.0;\" x1=\"33.5\" x2=\"56.5\" y1=\"93.3398\" y2=\"93.3398\"/><text fill=\"#000000\" font-family=\"sans-serif\" font-size=\"11\" lengthAdjust=\"spacingAndGlyphs\" textLength=\"87\" x=\"56.5\" y=\"96.6479\">performActions</text><line style=\"stroke: #383838; stroke-width: 1.0;\" x1=\"143.5\" x2=\"166.5\" y1=\"93.3398\" y2=\"93.3398\"/><text fill=\"#000000\" font-family=\"sans-serif\" font-size=\"11\" lengthAdjust=\"spacingAndGlyphs\" textLength=\"53\" x=\"38.5\" y=\"203.5854\">S1: State</text><line style=\"stroke: #383838; stroke-width: 1.0;\" x1=\"33.5\" x2=\"82\" y1=\"186.9727\" y2=\"186.9727\"/><text fill=\"#000000\" font-family=\"sans-serif\" font-size=\"11\" lengthAdjust=\"spacingAndGlyphs\" textLength=\"36\" x=\"82\" y=\"190.2808\">states</text><line style=\"stroke: #383838; stroke-width: 1.0;\" x1=\"118\" x2=\"166.5\" y1=\"186.9727\" y2=\"186.9727\"/><text fill=\"#000000\" font-family=\"sans-serif\" font-size=\"11\" lengthAdjust=\"spacingAndGlyphs\" textLength=\"72\" x=\"38.5\" y=\"233.1948\">T: Transition</text><line style=\"stroke: #383838; stroke-width: 1.0;\" x1=\"33.5\" x2=\"69.5\" y1=\"216.582\" y2=\"216.582\"/><text fill=\"#000000\" font-family=\"sans-serif\" font-size=\"11\" lengthAdjust=\"spacingAndGlyphs\" textLength=\"61\" x=\"69.5\" y=\"219.8901\">transitions</text><line style=\"stroke: #383838; stroke-width: 1.0;\" x1=\"130.5\" x2=\"166.5\" y1=\"216.582\" y2=\"216.582\"/><!--MD5=[1dd1bfd58a279cf63c5f349dbc8fc6a1]\n",
       "class E11--><rect fill=\"#FFFFFF\" height=\"45.9375\" id=\"E11\" rx=\"10\" ry=\"10\" style=\"stroke: #383838; stroke-width: 1.5;\" width=\"64\" x=\"74\" y=\"300\"/><text fill=\"#000000\" font-family=\"sans-serif\" font-size=\"12\" font-style=\"italic\" lengthAdjust=\"spacingAndGlyphs\" textLength=\"47\" x=\"82.5\" y=\"316.1387\">«state»</text><text fill=\"#000000\" font-family=\"sans-serif\" font-size=\"12\" lengthAdjust=\"spacingAndGlyphs\" textLength=\"58\" x=\"77\" y=\"330.1074\">S2: State</text><line style=\"stroke: #383838; stroke-width: 1.5;\" x1=\"75\" x2=\"137\" y1=\"337.9375\" y2=\"337.9375\"/><!--MD5=[49a0ec8f00dab7302a31f22d0f0fe584]\n",
       "class E12--><rect fill=\"#FFFFFF\" height=\"88.3516\" id=\"E12\" rx=\"10\" ry=\"10\" style=\"stroke: #383838; stroke-width: 1.5;\" width=\"160\" x=\"32\" y=\"406\"/><text fill=\"#000000\" font-family=\"sans-serif\" font-size=\"12\" font-style=\"italic\" lengthAdjust=\"spacingAndGlyphs\" textLength=\"84\" x=\"70\" y=\"422.1387\">«sendAction»</text><text fill=\"#000000\" font-family=\"sans-serif\" font-size=\"12\" lengthAdjust=\"spacingAndGlyphs\" textLength=\"154\" x=\"35\" y=\"436.1074\">doAction: TransferAction</text><line style=\"stroke: #383838; stroke-width: 1.5;\" x1=\"33\" x2=\"191\" y1=\"443.9375\" y2=\"443.9375\"/><text fill=\"#000000\" font-family=\"sans-serif\" font-size=\"11\" lengthAdjust=\"spacingAndGlyphs\" textLength=\"81\" x=\"38\" y=\"474.9526\">item: Anything</text><text fill=\"#000000\" font-family=\"sans-serif\" font-size=\"11\" font-style=\"italic\" lengthAdjust=\"spacingAndGlyphs\" textLength=\"104\" x=\"38\" y=\"487.7573\">:&gt;&gt;Transfer::item</text><line style=\"stroke: #383838; stroke-width: 1.0;\" x1=\"33\" x2=\"74.5\" y1=\"458.3398\" y2=\"458.3398\"/><text fill=\"#000000\" font-family=\"sans-serif\" font-size=\"11\" lengthAdjust=\"spacingAndGlyphs\" textLength=\"75\" x=\"74.5\" y=\"461.6479\">itemFeatures</text><line style=\"stroke: #383838; stroke-width: 1.0;\" x1=\"149.5\" x2=\"191\" y1=\"458.3398\" y2=\"458.3398\"/><!--MD5=[1f5f03483f7de0d5b3680a7f6650997f]\n",
       "reverse link E6 to E11--><path d=\"M106,253.03 C106,253.03 106,299.66 106,299.66 \" fill=\"none\" id=\"E6&lt;-E11\" style=\"stroke: #383838; stroke-width: 1.0;\"/><polygon fill=\"#383838\" points=\"106,240.03,102,246.03,106,252.03,110,246.03,106,240.03\" style=\"stroke: #383838; stroke-width: 1.0;\"/><!--MD5=[94adabc162ce7e41b39f13be14fbaeb3]\n",
       "reverse link E11 to E12--><path d=\"M106,359.29 C106,359.29 106,405.78 106,405.78 \" fill=\"none\" id=\"E11&lt;-E12\" style=\"stroke: #383838; stroke-width: 1.0;\"/><polygon fill=\"#FFFFFF\" points=\"106,346.29,102,352.29,106,358.29,110,352.29,106,346.29\" style=\"stroke: #383838; stroke-width: 1.0;\"/><!--MD5=[d0041b9a094138ca25b1cb5971b23830]\n",
       "@startuml\r\n",
       "skinparam linetype ortho\r\n",
       "skinparam monochrome true\r\n",
       "skinparam classbackgroundcolor white\r\n",
       "skinparam shadowing false\r\n",
       "skinparam wrapWidth 300\r\n",
       "hide circle\r\n",
       "\r\n",
       "package \"StateTest\" as E1   {\r\n",
       "comp def \"Sig\" as E2  <<(T,blue)attribute def>> {\r\n",
       "x: DataValue\r\n",
       "}\r\n",
       "comp def \"Exit\" as E3  <<(T,blue)attribute def>> {\r\n",
       "}\r\n",
       "comp usage \"p: Part\" as E4  <<(T,blue)part>> {\r\n",
       "}\r\n",
       "comp usage \"act: Action\" as E5  <<(T,blue)action>> {\r\n",
       "}\r\n",
       "comp def \"S\" as E6  <<(T,blue)state def>> {\r\n",
       "- -performActions- -\r\n",
       "act: Action\\n//:>>State::exitAction// \r\n",
       "A: Performance\\n//:>>State::entryAction// \r\n",
       "B: Action\\n//:>>State::doAction// \r\n",
       "- -states- -\r\n",
       "S1: State\r\n",
       "- -transitions- -\r\n",
       "T: Transition\r\n",
       "}\r\n",
       "comp usage \"S2: State\" as E11  <<(T,blue)state>> {\r\n",
       "}\r\n",
       "comp usage \"doAction: TransferAction\" as E12  <<(T,blue)sendAction>> {\r\n",
       "- -itemFeatures- -\r\n",
       "item: Anything\\n//:>>Transfer::item// \r\n",
       "}\r\n",
       "E6 *- - E11\r\n",
       "E11 o- - E12\r\n",
       "}\r\n",
       "@enduml\r\n",
       "\n",
       "PlantUML version 1.2020.13(Sat Jun 13 12:26:38 UTC 2020)\n",
       "(EPL source distribution)\n",
       "Java Runtime: OpenJDK Runtime Environment\n",
       "JVM: OpenJDK 64-Bit Server VM\n",
       "Default Encoding: UTF-8\n",
       "Language: en\n",
       "Country: null\n",
       "--></g></svg>"
      ]
     },
     "execution_count": 52,
     "metadata": {},
     "output_type": "execute_result"
    }
   ],
   "source": [
    "%viz --style=\"ORTHOLINE\" --view=\"Tree\" \"StateTest\""
   ]
  },
  {
   "cell_type": "code",
   "execution_count": 53,
   "id": "monthly-republican",
   "metadata": {
    "execution": {
     "iopub.execute_input": "2021-03-26T09:42:49.636812Z",
     "iopub.status.busy": "2021-03-26T09:42:49.635820Z",
     "iopub.status.idle": "2021-03-26T09:42:49.637918Z",
     "shell.execute_reply": "2021-03-26T09:42:49.638255Z"
    }
   },
   "outputs": [
    {
     "data": {
      "text/plain": [
       "java.lang.IllegalArgumentException: Invalid View: State View candidates are: Default Tree StateMachine Interconnection Activity Sequence MIXED \n",
       "\tat org.omg.sysml.plantuml.SysML2PlantUMLSvc.setView(SysML2PlantUMLSvc.java:63)\n",
       "\tat org.omg.sysml.interactive.SysMLInteractive.viz(SysMLInteractive.java:286)\n",
       "\tat org.omg.sysml.jupyter.kernel.magic.Viz.viz(Viz.java:47)\n",
       "\tat jdk.internal.reflect.GeneratedMethodAccessor13.invoke(Unknown Source)\n",
       "\tat java.base/jdk.internal.reflect.DelegatingMethodAccessorImpl.invoke(DelegatingMethodAccessorImpl.java:43)\n",
       "\tat java.base/java.lang.reflect.Method.invoke(Method.java:568)\n",
       "\tat io.github.spencerpark.jupyter.kernel.magic.registry.Magics.invoke(Magics.java:89)\n",
       "\tat io.github.spencerpark.jupyter.kernel.magic.registry.Magics.access$000(Magics.java:8)\n",
       "\tat io.github.spencerpark.jupyter.kernel.magic.registry.Magics$LineReflectionMagicFunction.execute(Magics.java:149)\n",
       "\tat io.github.spencerpark.jupyter.kernel.magic.registry.Magics.applyLineMagic(Magics.java:26)\n",
       "\tat org.omg.sysml.jupyter.kernel.SysMLKernel.eval(SysMLKernel.java:76)\n",
       "\tat io.github.spencerpark.jupyter.kernel.BaseKernel.handleExecuteRequest(BaseKernel.java:334)\n",
       "\tat io.github.spencerpark.jupyter.channels.ShellChannel.lambda$bind$0(ShellChannel.java:64)\n",
       "\tat io.github.spencerpark.jupyter.channels.Loop.lambda$new$0(Loop.java:21)\n",
       "\tat io.github.spencerpark.jupyter.channels.Loop.run(Loop.java:78)\n"
      ]
     },
     "execution_count": 53,
     "metadata": {},
     "output_type": "execute_result"
    }
   ],
   "source": [
    "%viz --style=\"ORTHOLINE\" --view=\"State\" \"StateTest\""
   ]
  },
  {
   "cell_type": "code",
   "execution_count": 54,
   "id": "addressed-factory",
   "metadata": {
    "execution": {
     "iopub.execute_input": "2021-03-26T09:42:49.688820Z",
     "iopub.status.busy": "2021-03-26T09:42:49.688471Z",
     "iopub.status.idle": "2021-03-26T09:42:49.709688Z",
     "shell.execute_reply": "2021-03-26T09:42:49.709035Z"
    }
   },
   "outputs": [
    {
     "data": {
      "image/svg+xml": [
       "<?xml version=\"1.0\" encoding=\"UTF-8\" standalone=\"no\"?><svg xmlns=\"http://www.w3.org/2000/svg\" xmlns:xlink=\"http://www.w3.org/1999/xlink\" contentScriptType=\"application/ecmascript\" contentStyleType=\"text/css\" height=\"123px\" preserveAspectRatio=\"none\" style=\"width:631px;height:123px;\" version=\"1.1\" viewBox=\"0 0 631 123\" width=\"631px\" zoomAndPan=\"magnify\"><defs/><g><!--MD5=[fbc87193dbaf4d95561dea2c320d4a47]\n",
       "cluster E1--><polygon fill=\"#FFFFFF\" points=\"16,6,98,6,105,28.2969,609,28.2969,609,111,16,111,16,6\" style=\"stroke: #000000; stroke-width: 1.5;\"/><line style=\"stroke: #000000; stroke-width: 1.5;\" x1=\"16\" x2=\"105\" y1=\"28.2969\" y2=\"28.2969\"/><text fill=\"#000000\" font-family=\"sans-serif\" font-size=\"14\" font-weight=\"bold\" lengthAdjust=\"spacingAndGlyphs\" textLength=\"76\" x=\"20\" y=\"20.9951\">StateTest</text><!--MD5=[b4997ac47864f28c2f74865a473b2911]\n",
       "class E2--><rect fill=\"#FFFFFF\" height=\"53.9375\" id=\"E2\" style=\"stroke: #383838; stroke-width: 1.5;\" width=\"95\" x=\"497.5\" y=\"41\"/><text fill=\"#000000\" font-family=\"sans-serif\" font-size=\"12\" font-style=\"italic\" lengthAdjust=\"spacingAndGlyphs\" textLength=\"93\" x=\"498.5\" y=\"57.1387\">«attribute def»</text><text fill=\"#000000\" font-family=\"sans-serif\" font-size=\"12\" lengthAdjust=\"spacingAndGlyphs\" textLength=\"19\" x=\"535.5\" y=\"71.1074\">Sig</text><line style=\"stroke: #383838; stroke-width: 1.5;\" x1=\"498.5\" x2=\"591.5\" y1=\"78.9375\" y2=\"78.9375\"/><line style=\"stroke: #383838; stroke-width: 1.5;\" x1=\"498.5\" x2=\"591.5\" y1=\"86.9375\" y2=\"86.9375\"/><!--MD5=[09b614a08d8cba4a07c9adeb5e0fee81]\n",
       "class E3--><rect fill=\"#FFFFFF\" height=\"53.9375\" id=\"E3\" style=\"stroke: #383838; stroke-width: 1.5;\" width=\"95\" x=\"367.5\" y=\"41\"/><text fill=\"#000000\" font-family=\"sans-serif\" font-size=\"12\" font-style=\"italic\" lengthAdjust=\"spacingAndGlyphs\" textLength=\"93\" x=\"368.5\" y=\"57.1387\">«attribute def»</text><text fill=\"#000000\" font-family=\"sans-serif\" font-size=\"12\" lengthAdjust=\"spacingAndGlyphs\" textLength=\"22\" x=\"404\" y=\"71.1074\">Exit</text><line style=\"stroke: #383838; stroke-width: 1.5;\" x1=\"368.5\" x2=\"461.5\" y1=\"78.9375\" y2=\"78.9375\"/><line style=\"stroke: #383838; stroke-width: 1.5;\" x1=\"368.5\" x2=\"461.5\" y1=\"86.9375\" y2=\"86.9375\"/><!--MD5=[60a26617385b1d2d0262a64233df1f8d]\n",
       "class E6--><rect fill=\"#FFFFFF\" height=\"53.9375\" id=\"E6\" style=\"stroke: #383838; stroke-width: 1.5;\" width=\"73\" x=\"259.5\" y=\"41\"/><text fill=\"#000000\" font-family=\"sans-serif\" font-size=\"12\" font-style=\"italic\" lengthAdjust=\"spacingAndGlyphs\" textLength=\"71\" x=\"260.5\" y=\"57.1387\">«state def»</text><text fill=\"#000000\" font-family=\"sans-serif\" font-size=\"12\" lengthAdjust=\"spacingAndGlyphs\" textLength=\"8\" x=\"292\" y=\"71.1074\">S</text><line style=\"stroke: #383838; stroke-width: 1.5;\" x1=\"260.5\" x2=\"331.5\" y1=\"78.9375\" y2=\"78.9375\"/><line style=\"stroke: #383838; stroke-width: 1.5;\" x1=\"260.5\" x2=\"331.5\" y1=\"86.9375\" y2=\"86.9375\"/><g id=\"E1.E4\"><rect fill=\"#FFFFFF\" height=\"50\" rx=\"12.5\" ry=\"12.5\" style=\"stroke: #383838; stroke-width: 1.5;\" width=\"65\" x=\"159.5\" y=\"43\"/><line style=\"stroke: #383838; stroke-width: 1.5;\" x1=\"159.5\" x2=\"224.5\" y1=\"69.2969\" y2=\"69.2969\"/><text fill=\"#000000\" font-family=\"sans-serif\" font-size=\"14\" lengthAdjust=\"spacingAndGlyphs\" textLength=\"45\" x=\"169.5\" y=\"60.9951\">p: Part</text></g><g id=\"E1.E5\"><rect fill=\"#FFFFFF\" height=\"50\" rx=\"12.5\" ry=\"12.5\" style=\"stroke: #383838; stroke-width: 1.5;\" width=\"93\" x=\"31.5\" y=\"43\"/><line style=\"stroke: #383838; stroke-width: 1.5;\" x1=\"31.5\" x2=\"124.5\" y1=\"69.2969\" y2=\"69.2969\"/><text fill=\"#000000\" font-family=\"sans-serif\" font-size=\"14\" lengthAdjust=\"spacingAndGlyphs\" textLength=\"73\" x=\"41.5\" y=\"60.9951\">act: Action</text></g><!--MD5=[0aff3ec8cb910baec0ce4a8d45a4c056]\n",
       "@startuml\r\n",
       "skinparam ranksep 8\r\n",
       "skinparam rectangle {\r\n",
       " backgroundColor<<block>> LightGreen\r\n",
       "}\r\n",
       "skinparam linetype ortho\r\n",
       "skinparam monochrome true\r\n",
       "skinparam classbackgroundcolor white\r\n",
       "skinparam shadowing false\r\n",
       "skinparam wrapWidth 300\r\n",
       "hide circle\r\n",
       "\r\n",
       "package \"StateTest\" as E1   {\r\n",
       "def \"Sig\" as E2  <<attribute def>> \r\n",
       "def \"Exit\" as E3  <<attribute def>> \r\n",
       "rec usage \"p: Part\" as E4  {\r\n",
       "}\r\n",
       "rec usage \"act: Action\" as E5  <<action>> {\r\n",
       "}\r\n",
       "def \"S\" as E6  <<state def>> \r\n",
       "}\r\n",
       "@enduml\r\n",
       "\n",
       "PlantUML version 1.2020.13(Sat Jun 13 12:26:38 UTC 2020)\n",
       "(EPL source distribution)\n",
       "Java Runtime: OpenJDK Runtime Environment\n",
       "JVM: OpenJDK 64-Bit Server VM\n",
       "Default Encoding: UTF-8\n",
       "Language: en\n",
       "Country: null\n",
       "--></g></svg>"
      ]
     },
     "execution_count": 54,
     "metadata": {},
     "output_type": "execute_result"
    }
   ],
   "source": [
    "%viz --style=\"ORTHOLINE\" --view=\"Interconnection\" \"StateTest\""
   ]
  },
  {
   "cell_type": "code",
   "execution_count": 55,
   "id": "cooked-parcel",
   "metadata": {
    "execution": {
     "iopub.execute_input": "2021-03-26T09:42:49.759943Z",
     "iopub.status.busy": "2021-03-26T09:42:49.759506Z",
     "iopub.status.idle": "2021-03-26T09:42:49.761553Z",
     "shell.execute_reply": "2021-03-26T09:42:49.761208Z"
    }
   },
   "outputs": [
    {
     "data": {
      "text/plain": [
       "java.lang.IllegalArgumentException: Invalid View: Action View candidates are: Default Tree StateMachine Interconnection Activity Sequence MIXED \n",
       "\tat org.omg.sysml.plantuml.SysML2PlantUMLSvc.setView(SysML2PlantUMLSvc.java:63)\n",
       "\tat org.omg.sysml.interactive.SysMLInteractive.viz(SysMLInteractive.java:286)\n",
       "\tat org.omg.sysml.jupyter.kernel.magic.Viz.viz(Viz.java:47)\n",
       "\tat jdk.internal.reflect.GeneratedMethodAccessor13.invoke(Unknown Source)\n",
       "\tat java.base/jdk.internal.reflect.DelegatingMethodAccessorImpl.invoke(DelegatingMethodAccessorImpl.java:43)\n",
       "\tat java.base/java.lang.reflect.Method.invoke(Method.java:568)\n",
       "\tat io.github.spencerpark.jupyter.kernel.magic.registry.Magics.invoke(Magics.java:89)\n",
       "\tat io.github.spencerpark.jupyter.kernel.magic.registry.Magics.access$000(Magics.java:8)\n",
       "\tat io.github.spencerpark.jupyter.kernel.magic.registry.Magics$LineReflectionMagicFunction.execute(Magics.java:149)\n",
       "\tat io.github.spencerpark.jupyter.kernel.magic.registry.Magics.applyLineMagic(Magics.java:26)\n",
       "\tat org.omg.sysml.jupyter.kernel.SysMLKernel.eval(SysMLKernel.java:76)\n",
       "\tat io.github.spencerpark.jupyter.kernel.BaseKernel.handleExecuteRequest(BaseKernel.java:334)\n",
       "\tat io.github.spencerpark.jupyter.channels.ShellChannel.lambda$bind$0(ShellChannel.java:64)\n",
       "\tat io.github.spencerpark.jupyter.channels.Loop.lambda$new$0(Loop.java:21)\n",
       "\tat io.github.spencerpark.jupyter.channels.Loop.run(Loop.java:78)\n"
      ]
     },
     "execution_count": 55,
     "metadata": {},
     "output_type": "execute_result"
    }
   ],
   "source": [
    "%viz --style=\"ORTHOLINE\" --view=\"Action\" \"StateTest\""
   ]
  },
  {
   "cell_type": "code",
   "execution_count": 56,
   "id": "complicated-apparel",
   "metadata": {
    "execution": {
     "iopub.execute_input": "2021-03-26T09:42:49.812216Z",
     "iopub.status.busy": "2021-03-26T09:42:49.811820Z",
     "iopub.status.idle": "2021-03-26T09:42:49.973712Z",
     "shell.execute_reply": "2021-03-26T09:42:49.973424Z"
    }
   },
   "outputs": [
    {
     "data": {
      "image/svg+xml": [
       "<?xml version=\"1.0\" encoding=\"UTF-8\" standalone=\"no\"?><svg xmlns=\"http://www.w3.org/2000/svg\" xmlns:xlink=\"http://www.w3.org/1999/xlink\" contentScriptType=\"application/ecmascript\" contentStyleType=\"text/css\" height=\"522px\" preserveAspectRatio=\"none\" style=\"width:658px;height:522px;\" version=\"1.1\" viewBox=\"0 0 658 522\" width=\"658px\" zoomAndPan=\"magnify\"><defs/><g><!--MD5=[fbc87193dbaf4d95561dea2c320d4a47]\n",
       "cluster E1--><polygon fill=\"#FFFFFF\" points=\"16,6,98,6,105,28.2969,636,28.2969,636,510,16,510,16,6\" style=\"stroke: #000000; stroke-width: 1.5;\"/><line style=\"stroke: #000000; stroke-width: 1.5;\" x1=\"16\" x2=\"105\" y1=\"28.2969\" y2=\"28.2969\"/><text fill=\"#000000\" font-family=\"sans-serif\" font-size=\"14\" font-weight=\"bold\" lengthAdjust=\"spacingAndGlyphs\" textLength=\"76\" x=\"20\" y=\"20.9951\">StateTest</text><!--MD5=[b4997ac47864f28c2f74865a473b2911]\n",
       "class E2--><rect fill=\"#FFFFFF\" height=\"58.7422\" id=\"E2\" style=\"stroke: #383838; stroke-width: 1.5;\" width=\"95\" x=\"524.5\" y=\"111\"/><text fill=\"#000000\" font-family=\"sans-serif\" font-size=\"12\" font-style=\"italic\" lengthAdjust=\"spacingAndGlyphs\" textLength=\"93\" x=\"525.5\" y=\"127.1387\">«attribute def»</text><text fill=\"#000000\" font-family=\"sans-serif\" font-size=\"12\" lengthAdjust=\"spacingAndGlyphs\" textLength=\"19\" x=\"562.5\" y=\"141.1074\">Sig</text><line style=\"stroke: #383838; stroke-width: 1.5;\" x1=\"525.5\" x2=\"618.5\" y1=\"148.9375\" y2=\"148.9375\"/><text fill=\"#000000\" font-family=\"sans-serif\" font-size=\"11\" lengthAdjust=\"spacingAndGlyphs\" textLength=\"71\" x=\"530.5\" y=\"163.1479\">x: DataValue</text><!--MD5=[09b614a08d8cba4a07c9adeb5e0fee81]\n",
       "class E3--><rect fill=\"#FFFFFF\" height=\"45.9375\" id=\"E3\" style=\"stroke: #383838; stroke-width: 1.5;\" width=\"95\" x=\"394.5\" y=\"117.5\"/><text fill=\"#000000\" font-family=\"sans-serif\" font-size=\"12\" font-style=\"italic\" lengthAdjust=\"spacingAndGlyphs\" textLength=\"93\" x=\"395.5\" y=\"133.6387\">«attribute def»</text><text fill=\"#000000\" font-family=\"sans-serif\" font-size=\"12\" lengthAdjust=\"spacingAndGlyphs\" textLength=\"22\" x=\"431\" y=\"147.6074\">Exit</text><line style=\"stroke: #383838; stroke-width: 1.5;\" x1=\"395.5\" x2=\"488.5\" y1=\"155.4375\" y2=\"155.4375\"/><!--MD5=[ebbe1d658d1005bcc118a6aa81145e00]\n",
       "class E4--><rect fill=\"#FFFFFF\" height=\"45.9375\" id=\"E4\" rx=\"10\" ry=\"10\" style=\"stroke: #383838; stroke-width: 1.5;\" width=\"48\" x=\"311\" y=\"117.5\"/><text fill=\"#000000\" font-family=\"sans-serif\" font-size=\"12\" font-style=\"italic\" lengthAdjust=\"spacingAndGlyphs\" textLength=\"40\" x=\"315\" y=\"133.6387\">«part»</text><text fill=\"#000000\" font-family=\"sans-serif\" font-size=\"12\" lengthAdjust=\"spacingAndGlyphs\" textLength=\"42\" x=\"314\" y=\"147.6074\">p: Part</text><line style=\"stroke: #383838; stroke-width: 1.5;\" x1=\"312\" x2=\"358\" y1=\"155.4375\" y2=\"155.4375\"/><!--MD5=[270fce915f116d4de14055a7c1d9a0f3]\n",
       "class E5--><rect fill=\"#FFFFFF\" height=\"45.9375\" id=\"E5\" rx=\"10\" ry=\"10\" style=\"stroke: #383838; stroke-width: 1.5;\" width=\"73\" x=\"202.5\" y=\"117.5\"/><text fill=\"#000000\" font-family=\"sans-serif\" font-size=\"12\" font-style=\"italic\" lengthAdjust=\"spacingAndGlyphs\" textLength=\"53\" x=\"212.5\" y=\"133.6387\">«action»</text><text fill=\"#000000\" font-family=\"sans-serif\" font-size=\"12\" lengthAdjust=\"spacingAndGlyphs\" textLength=\"67\" x=\"205.5\" y=\"147.6074\">act: Action</text><line style=\"stroke: #383838; stroke-width: 1.5;\" x1=\"203.5\" x2=\"274.5\" y1=\"155.4375\" y2=\"155.4375\"/><!--MD5=[60a26617385b1d2d0262a64233df1f8d]\n",
       "class E6--><rect fill=\"#FFFFFF\" height=\"198.7891\" id=\"E6\" style=\"stroke: #383838; stroke-width: 1.5;\" width=\"135\" x=\"32.5\" y=\"41\"/><text fill=\"#000000\" font-family=\"sans-serif\" font-size=\"12\" font-style=\"italic\" lengthAdjust=\"spacingAndGlyphs\" textLength=\"71\" x=\"64.5\" y=\"57.1387\">«state def»</text><text fill=\"#000000\" font-family=\"sans-serif\" font-size=\"12\" lengthAdjust=\"spacingAndGlyphs\" textLength=\"8\" x=\"96\" y=\"71.1074\">S</text><line style=\"stroke: #383838; stroke-width: 1.5;\" x1=\"33.5\" x2=\"166.5\" y1=\"78.9375\" y2=\"78.9375\"/><text fill=\"#000000\" font-family=\"sans-serif\" font-size=\"11\" lengthAdjust=\"spacingAndGlyphs\" textLength=\"59\" x=\"38.5\" y=\"109.9526\">act: Action</text><text fill=\"#000000\" font-family=\"sans-serif\" font-size=\"11\" font-style=\"italic\" lengthAdjust=\"spacingAndGlyphs\" textLength=\"114\" x=\"38.5\" y=\"122.7573\">:&gt;&gt;State::exitAction</text><text fill=\"#000000\" font-family=\"sans-serif\" font-size=\"11\" lengthAdjust=\"spacingAndGlyphs\" textLength=\"88\" x=\"38.5\" y=\"135.562\">A: Performance</text><text fill=\"#000000\" font-family=\"sans-serif\" font-size=\"11\" font-style=\"italic\" lengthAdjust=\"spacingAndGlyphs\" textLength=\"123\" x=\"38.5\" y=\"148.3667\">:&gt;&gt;State::entryAction</text><text fill=\"#000000\" font-family=\"sans-serif\" font-size=\"11\" lengthAdjust=\"spacingAndGlyphs\" textLength=\"50\" x=\"38.5\" y=\"161.1714\">B: Action</text><text fill=\"#000000\" font-family=\"sans-serif\" font-size=\"11\" font-style=\"italic\" lengthAdjust=\"spacingAndGlyphs\" textLength=\"108\" x=\"38.5\" y=\"173.9761\">:&gt;&gt;State::doAction</text><line style=\"stroke: #383838; stroke-width: 1.0;\" x1=\"33.5\" x2=\"56.5\" y1=\"93.3398\" y2=\"93.3398\"/><text fill=\"#000000\" font-family=\"sans-serif\" font-size=\"11\" lengthAdjust=\"spacingAndGlyphs\" textLength=\"87\" x=\"56.5\" y=\"96.6479\">performActions</text><line style=\"stroke: #383838; stroke-width: 1.0;\" x1=\"143.5\" x2=\"166.5\" y1=\"93.3398\" y2=\"93.3398\"/><text fill=\"#000000\" font-family=\"sans-serif\" font-size=\"11\" lengthAdjust=\"spacingAndGlyphs\" textLength=\"53\" x=\"38.5\" y=\"203.5854\">S1: State</text><line style=\"stroke: #383838; stroke-width: 1.0;\" x1=\"33.5\" x2=\"82\" y1=\"186.9727\" y2=\"186.9727\"/><text fill=\"#000000\" font-family=\"sans-serif\" font-size=\"11\" lengthAdjust=\"spacingAndGlyphs\" textLength=\"36\" x=\"82\" y=\"190.2808\">states</text><line style=\"stroke: #383838; stroke-width: 1.0;\" x1=\"118\" x2=\"166.5\" y1=\"186.9727\" y2=\"186.9727\"/><text fill=\"#000000\" font-family=\"sans-serif\" font-size=\"11\" lengthAdjust=\"spacingAndGlyphs\" textLength=\"72\" x=\"38.5\" y=\"233.1948\">T: Transition</text><line style=\"stroke: #383838; stroke-width: 1.0;\" x1=\"33.5\" x2=\"69.5\" y1=\"216.582\" y2=\"216.582\"/><text fill=\"#000000\" font-family=\"sans-serif\" font-size=\"11\" lengthAdjust=\"spacingAndGlyphs\" textLength=\"61\" x=\"69.5\" y=\"219.8901\">transitions</text><line style=\"stroke: #383838; stroke-width: 1.0;\" x1=\"130.5\" x2=\"166.5\" y1=\"216.582\" y2=\"216.582\"/><!--MD5=[1dd1bfd58a279cf63c5f349dbc8fc6a1]\n",
       "class E11--><rect fill=\"#FFFFFF\" height=\"45.9375\" id=\"E11\" rx=\"10\" ry=\"10\" style=\"stroke: #383838; stroke-width: 1.5;\" width=\"64\" x=\"74\" y=\"300\"/><text fill=\"#000000\" font-family=\"sans-serif\" font-size=\"12\" font-style=\"italic\" lengthAdjust=\"spacingAndGlyphs\" textLength=\"47\" x=\"82.5\" y=\"316.1387\">«state»</text><text fill=\"#000000\" font-family=\"sans-serif\" font-size=\"12\" lengthAdjust=\"spacingAndGlyphs\" textLength=\"58\" x=\"77\" y=\"330.1074\">S2: State</text><line style=\"stroke: #383838; stroke-width: 1.5;\" x1=\"75\" x2=\"137\" y1=\"337.9375\" y2=\"337.9375\"/><!--MD5=[49a0ec8f00dab7302a31f22d0f0fe584]\n",
       "class E12--><rect fill=\"#FFFFFF\" height=\"88.3516\" id=\"E12\" rx=\"10\" ry=\"10\" style=\"stroke: #383838; stroke-width: 1.5;\" width=\"160\" x=\"32\" y=\"406\"/><text fill=\"#000000\" font-family=\"sans-serif\" font-size=\"12\" font-style=\"italic\" lengthAdjust=\"spacingAndGlyphs\" textLength=\"84\" x=\"70\" y=\"422.1387\">«sendAction»</text><text fill=\"#000000\" font-family=\"sans-serif\" font-size=\"12\" lengthAdjust=\"spacingAndGlyphs\" textLength=\"154\" x=\"35\" y=\"436.1074\">doAction: TransferAction</text><line style=\"stroke: #383838; stroke-width: 1.5;\" x1=\"33\" x2=\"191\" y1=\"443.9375\" y2=\"443.9375\"/><text fill=\"#000000\" font-family=\"sans-serif\" font-size=\"11\" lengthAdjust=\"spacingAndGlyphs\" textLength=\"81\" x=\"38\" y=\"474.9526\">item: Anything</text><text fill=\"#000000\" font-family=\"sans-serif\" font-size=\"11\" font-style=\"italic\" lengthAdjust=\"spacingAndGlyphs\" textLength=\"104\" x=\"38\" y=\"487.7573\">:&gt;&gt;Transfer::item</text><line style=\"stroke: #383838; stroke-width: 1.0;\" x1=\"33\" x2=\"74.5\" y1=\"458.3398\" y2=\"458.3398\"/><text fill=\"#000000\" font-family=\"sans-serif\" font-size=\"11\" lengthAdjust=\"spacingAndGlyphs\" textLength=\"75\" x=\"74.5\" y=\"461.6479\">itemFeatures</text><line style=\"stroke: #383838; stroke-width: 1.0;\" x1=\"149.5\" x2=\"191\" y1=\"458.3398\" y2=\"458.3398\"/><!--MD5=[1f5f03483f7de0d5b3680a7f6650997f]\n",
       "reverse link E6 to E11--><path d=\"M106,253.03 C106,253.03 106,299.66 106,299.66 \" fill=\"none\" id=\"E6&lt;-E11\" style=\"stroke: #383838; stroke-width: 1.0;\"/><polygon fill=\"#383838\" points=\"106,240.03,102,246.03,106,252.03,110,246.03,106,240.03\" style=\"stroke: #383838; stroke-width: 1.0;\"/><!--MD5=[94adabc162ce7e41b39f13be14fbaeb3]\n",
       "reverse link E11 to E12--><path d=\"M106,359.29 C106,359.29 106,405.78 106,405.78 \" fill=\"none\" id=\"E11&lt;-E12\" style=\"stroke: #383838; stroke-width: 1.0;\"/><polygon fill=\"#FFFFFF\" points=\"106,346.29,102,352.29,106,358.29,110,352.29,106,346.29\" style=\"stroke: #383838; stroke-width: 1.0;\"/><!--MD5=[d0041b9a094138ca25b1cb5971b23830]\n",
       "@startuml\r\n",
       "skinparam linetype ortho\r\n",
       "skinparam monochrome true\r\n",
       "skinparam classbackgroundcolor white\r\n",
       "skinparam shadowing false\r\n",
       "skinparam wrapWidth 300\r\n",
       "hide circle\r\n",
       "\r\n",
       "package \"StateTest\" as E1   {\r\n",
       "comp def \"Sig\" as E2  <<(T,blue)attribute def>> {\r\n",
       "x: DataValue\r\n",
       "}\r\n",
       "comp def \"Exit\" as E3  <<(T,blue)attribute def>> {\r\n",
       "}\r\n",
       "comp usage \"p: Part\" as E4  <<(T,blue)part>> {\r\n",
       "}\r\n",
       "comp usage \"act: Action\" as E5  <<(T,blue)action>> {\r\n",
       "}\r\n",
       "comp def \"S\" as E6  <<(T,blue)state def>> {\r\n",
       "- -performActions- -\r\n",
       "act: Action\\n//:>>State::exitAction// \r\n",
       "A: Performance\\n//:>>State::entryAction// \r\n",
       "B: Action\\n//:>>State::doAction// \r\n",
       "- -states- -\r\n",
       "S1: State\r\n",
       "- -transitions- -\r\n",
       "T: Transition\r\n",
       "}\r\n",
       "comp usage \"S2: State\" as E11  <<(T,blue)state>> {\r\n",
       "}\r\n",
       "comp usage \"doAction: TransferAction\" as E12  <<(T,blue)sendAction>> {\r\n",
       "- -itemFeatures- -\r\n",
       "item: Anything\\n//:>>Transfer::item// \r\n",
       "}\r\n",
       "E6 *- - E11\r\n",
       "E11 o- - E12\r\n",
       "}\r\n",
       "@enduml\r\n",
       "\n",
       "PlantUML version 1.2020.13(Sat Jun 13 12:26:38 UTC 2020)\n",
       "(EPL source distribution)\n",
       "Java Runtime: OpenJDK Runtime Environment\n",
       "JVM: OpenJDK 64-Bit Server VM\n",
       "Default Encoding: UTF-8\n",
       "Language: en\n",
       "Country: null\n",
       "--></g></svg>"
      ]
     },
     "execution_count": 56,
     "metadata": {},
     "output_type": "execute_result"
    }
   ],
   "source": [
    "%viz --style=\"ORTHOLINE\" --view=\"Sequence\" \"StateTest\""
   ]
  },
  {
   "cell_type": "code",
   "execution_count": 57,
   "id": "indirect-timber",
   "metadata": {
    "execution": {
     "iopub.execute_input": "2021-03-26T09:42:50.023577Z",
     "iopub.status.busy": "2021-03-26T09:42:50.023169Z",
     "iopub.status.idle": "2021-03-26T09:42:50.068666Z",
     "shell.execute_reply": "2021-03-26T09:42:50.067298Z"
    }
   },
   "outputs": [
    {
     "data": {
      "image/svg+xml": [
       "<?xml version=\"1.0\" encoding=\"UTF-8\" standalone=\"no\"?><svg xmlns=\"http://www.w3.org/2000/svg\" xmlns:xlink=\"http://www.w3.org/1999/xlink\" contentScriptType=\"application/ecmascript\" contentStyleType=\"text/css\" height=\"557px\" preserveAspectRatio=\"none\" style=\"width:815px;height:557px;\" version=\"1.1\" viewBox=\"0 0 815 557\" width=\"815px\" zoomAndPan=\"magnify\"><defs/><g><!--MD5=[fbc87193dbaf4d95561dea2c320d4a47]\n",
       "cluster E1--><polygon fill=\"#FFFFFF\" points=\"16,6,98,6,105,28.2969,793,28.2969,793,545.5,16,545.5,16,6\" style=\"stroke: #000000; stroke-width: 1.5;\"/><line style=\"stroke: #000000; stroke-width: 1.5;\" x1=\"16\" x2=\"105\" y1=\"28.2969\" y2=\"28.2969\"/><text fill=\"#000000\" font-family=\"sans-serif\" font-size=\"14\" font-weight=\"bold\" lengthAdjust=\"spacingAndGlyphs\" textLength=\"76\" x=\"20\" y=\"20.9951\">StateTest</text><!--MD5=[14e3b0961a2654348d326746436168a1]\n",
       "cluster E6--><rect fill=\"#FFFFFF\" height=\"472.5\" style=\"stroke: #000000; stroke-width: 1.5;\" width=\"327\" x=\"442\" y=\"49\"/><text fill=\"#000000\" font-family=\"sans-serif\" font-size=\"14\" font-weight=\"bold\" lengthAdjust=\"spacingAndGlyphs\" textLength=\"10\" x=\"600.5\" y=\"63.9951\">S</text><!--MD5=[b4997ac47864f28c2f74865a473b2911]\n",
       "class E2--><rect fill=\"#FFFFFF\" height=\"58.7422\" id=\"E2\" style=\"stroke: #383838; stroke-width: 1.5;\" width=\"95\" x=\"330.5\" y=\"111.5\"/><text fill=\"#000000\" font-family=\"sans-serif\" font-size=\"12\" font-style=\"italic\" lengthAdjust=\"spacingAndGlyphs\" textLength=\"93\" x=\"331.5\" y=\"127.6387\">«attribute def»</text><text fill=\"#000000\" font-family=\"sans-serif\" font-size=\"12\" lengthAdjust=\"spacingAndGlyphs\" textLength=\"19\" x=\"368.5\" y=\"141.6074\">Sig</text><line style=\"stroke: #383838; stroke-width: 1.5;\" x1=\"331.5\" x2=\"424.5\" y1=\"149.4375\" y2=\"149.4375\"/><text fill=\"#000000\" font-family=\"sans-serif\" font-size=\"11\" lengthAdjust=\"spacingAndGlyphs\" textLength=\"71\" x=\"336.5\" y=\"163.6479\">x: DataValue</text><!--MD5=[09b614a08d8cba4a07c9adeb5e0fee81]\n",
       "class E3--><rect fill=\"#FFFFFF\" height=\"45.9375\" id=\"E3\" style=\"stroke: #383838; stroke-width: 1.5;\" width=\"95\" x=\"200.5\" y=\"118\"/><text fill=\"#000000\" font-family=\"sans-serif\" font-size=\"12\" font-style=\"italic\" lengthAdjust=\"spacingAndGlyphs\" textLength=\"93\" x=\"201.5\" y=\"134.1387\">«attribute def»</text><text fill=\"#000000\" font-family=\"sans-serif\" font-size=\"12\" lengthAdjust=\"spacingAndGlyphs\" textLength=\"22\" x=\"237\" y=\"148.1074\">Exit</text><line style=\"stroke: #383838; stroke-width: 1.5;\" x1=\"201.5\" x2=\"294.5\" y1=\"155.9375\" y2=\"155.9375\"/><!--MD5=[ebbe1d658d1005bcc118a6aa81145e00]\n",
       "class E4--><rect fill=\"#FFFFFF\" height=\"45.9375\" id=\"E4\" rx=\"10\" ry=\"10\" style=\"stroke: #383838; stroke-width: 1.5;\" width=\"48\" x=\"117\" y=\"118\"/><text fill=\"#000000\" font-family=\"sans-serif\" font-size=\"12\" font-style=\"italic\" lengthAdjust=\"spacingAndGlyphs\" textLength=\"40\" x=\"121\" y=\"134.1387\">«part»</text><text fill=\"#000000\" font-family=\"sans-serif\" font-size=\"12\" lengthAdjust=\"spacingAndGlyphs\" textLength=\"42\" x=\"120\" y=\"148.1074\">p: Part</text><line style=\"stroke: #383838; stroke-width: 1.5;\" x1=\"118\" x2=\"164\" y1=\"155.9375\" y2=\"155.9375\"/><g id=\"E1.E5\"><rect fill=\"#FFFFFF\" height=\"50\" rx=\"12.5\" ry=\"12.5\" style=\"stroke: #383838; stroke-width: 1.5;\" width=\"50\" x=\"32\" y=\"116\"/><line style=\"stroke: #383838; stroke-width: 1.5;\" x1=\"32\" x2=\"82\" y1=\"142.2969\" y2=\"142.2969\"/><text fill=\"#000000\" font-family=\"sans-serif\" font-size=\"14\" lengthAdjust=\"spacingAndGlyphs\" textLength=\"21\" x=\"46.5\" y=\"133.9951\">act</text></g><ellipse cx=\"554\" cy=\"141\" fill=\"#000000\" rx=\"10\" ry=\"10\" style=\"stroke: none; stroke-width: 1.0;\"/><ellipse cx=\"572\" cy=\"495.5\" fill=\"none\" rx=\"10\" ry=\"10\" style=\"stroke: #000000; stroke-width: 1.0;\"/><ellipse cx=\"572.5\" cy=\"496\" fill=\"#000000\" rx=\"6\" ry=\"6\" style=\"stroke: none; stroke-width: 1.0;\"/><g id=\"E1.E6.E7\"><rect fill=\"#FFFFFF\" height=\"50\" rx=\"12.5\" ry=\"12.5\" style=\"stroke: #383838; stroke-width: 1.5;\" width=\"50\" x=\"529\" y=\"231.5\"/><line style=\"stroke: #383838; stroke-width: 1.5;\" x1=\"529\" x2=\"579\" y1=\"257.7969\" y2=\"257.7969\"/><text fill=\"#000000\" font-family=\"sans-serif\" font-size=\"14\" lengthAdjust=\"spacingAndGlyphs\" textLength=\"18\" x=\"545\" y=\"249.4951\">S1</text></g><g id=\"E1.E6.E8\"><rect fill=\"#FFFFFF\" height=\"50.2656\" rx=\"12.5\" ry=\"12.5\" style=\"stroke: #383838; stroke-width: 1.5;\" width=\"142\" x=\"501\" y=\"358.5\"/><line style=\"stroke: #383838; stroke-width: 1.5;\" x1=\"501\" x2=\"643\" y1=\"384.7969\" y2=\"384.7969\"/><text fill=\"#000000\" font-family=\"sans-serif\" font-size=\"14\" lengthAdjust=\"spacingAndGlyphs\" textLength=\"18\" x=\"563\" y=\"376.4951\">S2</text><text fill=\"#000000\" font-family=\"sans-serif\" font-size=\"12\" font-weight=\"bold\" lengthAdjust=\"spacingAndGlyphs\" textLength=\"18\" x=\"506\" y=\"400.9355\">do</text><text fill=\"#000000\" font-family=\"sans-serif\" font-size=\"12\" lengthAdjust=\"spacingAndGlyphs\" textLength=\"104\" x=\"524\" y=\"400.9355\">/ transferActions</text></g><!--MD5=[5a531d3a85f3339e6e197084acb48195]\n",
       "link *start*E6 to E7--><path d=\"M554,151.25 C554,151.25 554,226.12 554,226.12 \" fill=\"none\" id=\"*start*E6-&gt;E7\" style=\"stroke: #383838; stroke-width: 1.0;\"/><polygon fill=\"#383838\" points=\"554,231.12,558,222.12,554,226.12,550,222.12,554,231.12\" style=\"stroke: #383838; stroke-width: 1.0;\"/><!--MD5=[7ec9a8babba89ddcae1318ca9fb3c814]\n",
       "link E8 to *end*E6--><path d=\"M572,408.63 C572,408.63 572,480.23 572,480.23 \" fill=\"none\" id=\"E8-&gt;*end*E6\" style=\"stroke: #383838; stroke-width: 1.0;\"/><polygon fill=\"#383838\" points=\"572,485.23,576,476.23,572,480.23,568,476.23,572,485.23\" style=\"stroke: #383838; stroke-width: 1.0;\"/><text fill=\"#000000\" font-family=\"sans-serif\" font-size=\"13\" lengthAdjust=\"spacingAndGlyphs\" textLength=\"23\" x=\"573\" y=\"451.5669\">Exit</text><!--MD5=[79bc8f324ef4d02c541433f2e6e513c3]\n",
       "link E7 to E8--><path d=\"M545.67,281.59 C545.67,281.59 545.67,353.46 545.67,353.46 \" fill=\"none\" id=\"E7-&gt;E8\" style=\"stroke: #383838; stroke-width: 1.0;\"/><polygon fill=\"#383838\" points=\"545.67,358.46,549.67,349.46,545.67,353.46,541.67,349.46,545.67,358.46\" style=\"stroke: #383838; stroke-width: 1.0;\"/><text fill=\"#000000\" font-family=\"sans-serif\" font-size=\"13\" lengthAdjust=\"spacingAndGlyphs\" textLength=\"81\" x=\"494\" y=\"324.5669\">Sig /action D</text><!--MD5=[bfa3c8b0d15052fdf50ae9310b491027]\n",
       "link E8 to E7--><path d=\"M562.33,358.41 C562.33,358.41 562.33,286.54 562.33,286.54 \" fill=\"none\" id=\"E8-&gt;E7\" style=\"stroke: #383838; stroke-width: 1.0;\"/><polygon fill=\"#383838\" points=\"562.33,281.54,558.33,290.54,562.33,286.54,566.33,290.54,562.33,281.54\" style=\"stroke: #383838; stroke-width: 1.0;\"/><text fill=\"#000000\" font-family=\"sans-serif\" font-size=\"13\" lengthAdjust=\"spacingAndGlyphs\" textLength=\"135\" x=\"617\" y=\"324.5669\">Sig [true]/send s to p</text><!--MD5=[c6130212042e6a0f3be27678d8ff1e69]\n",
       "@startuml\r\n",
       "skinparam linetype ortho\r\n",
       "skinparam monochrome true\r\n",
       "skinparam classbackgroundcolor white\r\n",
       "skinparam shadowing false\r\n",
       "skinparam wrapWidth 300\r\n",
       "hide circle\r\n",
       "\r\n",
       "package \"StateTest\" as E1   {\r\n",
       "comp def \"Sig\" as E2  <<(T,blue)attribute def>> {\r\n",
       "x: DataValue\r\n",
       "}\r\n",
       "comp def \"Exit\" as E3  <<(T,blue)attribute def>> {\r\n",
       "}\r\n",
       "comp usage \"p: Part\" as E4  <<(T,blue)part>> {\r\n",
       "}\r\n",
       "rec usage \"act\" as E5 {\r\n",
       "}\r\n",
       "\r\n",
       "rec def \"S\" as E6 {\r\n",
       "rec usage \"S1\" as E7 {\r\n",
       "}\r\n",
       "\r\n",
       "rec usage \"S2\" as E8 {\r\n",
       "desc \"S2\" as E8  : **do**/ transferActions \r\n",
       "}\r\n",
       "\r\n",
       "[*] - -> E7\r\n",
       "E8  - -> [*] : Exit \r\n",
       "desc \"S\" as E6  : **entry**/ A\r\n",
       "desc \"S\" as E6  : **do**/ B\r\n",
       "desc \"S\" as E6  : **exit**/ act \r\n",
       "}\r\n",
       "\r\n",
       "E7  - -> E8 : Sig /action D\r\n",
       "E8  - -> E7 : Sig [true]/send s to p\r\n",
       "}\r\n",
       "@enduml\r\n",
       "\n",
       "PlantUML version 1.2020.13(Sat Jun 13 12:26:38 UTC 2020)\n",
       "(EPL source distribution)\n",
       "Java Runtime: OpenJDK Runtime Environment\n",
       "JVM: OpenJDK 64-Bit Server VM\n",
       "Default Encoding: UTF-8\n",
       "Language: en\n",
       "Country: null\n",
       "--></g></svg>"
      ]
     },
     "execution_count": 57,
     "metadata": {},
     "output_type": "execute_result"
    }
   ],
   "source": [
    "%viz --style=\"ORTHOLINE\" --view=\"MIXED\" \"StateTest\""
   ]
  }
 ],
 "metadata": {
  "kernelspec": {
   "display_name": "SysML",
   "language": "sysml",
   "name": "sysml"
  },
  "language_info": {
   "codemirror_mode": "sysml",
   "file_extension": ".sysml",
   "mimetype": "text/x-sysml",
   "name": "SysML",
   "pygments_lexer": "java",
   "version": "1.0.0"
  }
 },
 "nbformat": 4,
 "nbformat_minor": 5
}
