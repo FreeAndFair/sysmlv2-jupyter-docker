{
 "cells": [
  {
   "cell_type": "markdown",
   "id": "intimate-roman",
   "metadata": {},
   "source": [
    "# SysML v2 Test Suite\n",
    "\n",
    "This can notebook can be cleared using menu `Edit --> Clear All Outputs` and then all cells can be\n",
    "run using menu `Run --> Run All Cells`.\n",
    "\n",
    "**WARNING**: This file is generated, all modifications here will be ignored.\n"
   ]
  },
  {
   "cell_type": "markdown",
   "id": "minus-pressure",
   "metadata": {},
   "source": [
    "## File: ../../sysml/src/examples/Simple Tests/StateTest.sysml"
   ]
  },
  {
   "cell_type": "code",
   "execution_count": 1,
   "id": "honey-think",
   "metadata": {
    "execution": {
     "iopub.execute_input": "2021-03-26T09:13:49.853288Z",
     "iopub.status.busy": "2021-03-26T09:13:49.851645Z",
     "iopub.status.idle": "2021-03-26T09:13:50.527742Z",
     "shell.execute_reply": "2021-03-26T09:13:50.527271Z"
    }
   },
   "outputs": [
    {
     "data": {
      "text/plain": [
       "Package StateTest (4605079a-67e6-4b4e-924f-e9405869b79a)\n"
      ]
     },
     "execution_count": 1,
     "metadata": {},
     "output_type": "execute_result"
    }
   ],
   "source": [
    "package StateTest {\n",
    "\tattribute def Sig {\n",
    "\t\tx;\n",
    "\t}\n",
    "\tattribute def Exit;\n",
    "\t\n",
    "\tpart p;\n",
    "\t\n",
    "\taction act;\n",
    "\t\n",
    "\tstate def S {\n",
    "\t\tentry action A; then S1;\n",
    "\t\tdo action B;\n",
    "\t\texit act;\n",
    "\t\t\n",
    "\t\tstate S1;\n",
    "\t\t\taccept s : Sig\n",
    "\t\t\tdo action D\n",
    "\t\t\tthen S2;\n",
    "\t\t\n",
    "\t\tstate S2 {\n",
    "\t\t\tdo send Sig(T::s::x) to p;\n",
    "\t\t}\n",
    "\t\taccept Exit then done;\n",
    "\t\t\n",
    "\t\ttransition T\n",
    "\t\t\tfirst S2\n",
    "\t\t\taccept s : Sig\n",
    "\t\t\tif true\n",
    "\t\t\tdo send s to p\n",
    "\t\t\tthen S1;\t\t\n",
    "\t}\n",
    "}"
   ]
  },
  {
   "cell_type": "code",
   "execution_count": 2,
   "id": "incredible-artist",
   "metadata": {
    "execution": {
     "iopub.execute_input": "2021-03-26T09:13:50.578971Z",
     "iopub.status.busy": "2021-03-26T09:13:50.578592Z",
     "iopub.status.idle": "2021-03-26T09:13:51.130289Z",
     "shell.execute_reply": "2021-03-26T09:13:51.130660Z"
    }
   },
   "outputs": [
    {
     "data": {
      "image/svg+xml": [
       "<?xml version=\"1.0\" encoding=\"UTF-8\" standalone=\"no\"?><svg xmlns=\"http://www.w3.org/2000/svg\" xmlns:xlink=\"http://www.w3.org/1999/xlink\" contentScriptType=\"application/ecmascript\" contentStyleType=\"text/css\" height=\"569px\" preserveAspectRatio=\"none\" style=\"width:923px;height:569px;\" version=\"1.1\" viewBox=\"0 0 923 569\" width=\"923px\" zoomAndPan=\"magnify\"><defs><filter height=\"300%\" id=\"f1n76n13eb5uay\" width=\"300%\" x=\"-1\" y=\"-1\"><feGaussianBlur result=\"blurOut\" stdDeviation=\"2.0\"/><feColorMatrix in=\"blurOut\" result=\"blurOut2\" type=\"matrix\" values=\"0 0 0 0 0 0 0 0 0 0 0 0 0 0 0 0 0 0 .4 0\"/><feOffset dx=\"4.0\" dy=\"4.0\" in=\"blurOut2\" result=\"blurOut3\"/><feBlend in=\"SourceGraphic\" in2=\"blurOut3\" mode=\"normal\"/></filter></defs><g><!--MD5=[fbc87193dbaf4d95561dea2c320d4a47]\n",
       "cluster E1--><a href=\"psysml:9c548ee6-d869-4820-b951-32f5a4e72165\" target=\"_top\" title=\"psysml:9c548ee6-d869-4820-b951-32f5a4e72165\" xlink:actuate=\"onRequest\" xlink:href=\"psysml:9c548ee6-d869-4820-b951-32f5a4e72165\" xlink:show=\"new\" xlink:title=\"psysml:9c548ee6-d869-4820-b951-32f5a4e72165\" xlink:type=\"simple\"><polygon fill=\"#FFFFFF\" filter=\"url(#f1n76n13eb5uay)\" points=\"16,6,98,6,105,28.2969,901,28.2969,901,557.5,16,557.5,16,6\" style=\"stroke: #000000; stroke-width: 1.5;\"/><line style=\"stroke: #000000; stroke-width: 1.5;\" x1=\"16\" x2=\"105\" y1=\"28.2969\" y2=\"28.2969\"/><text fill=\"#000000\" font-family=\"sans-serif\" font-size=\"14\" font-weight=\"bold\" lengthAdjust=\"spacingAndGlyphs\" textLength=\"76\" x=\"20\" y=\"20.9951\">StateTest</text></a><!--MD5=[14e3b0961a2654348d326746436168a1]\n",
       "cluster E6--><a href=\"psysml:409d967c-2b55-4985-b068-ed253d96c58c\" target=\"_top\" title=\"psysml:409d967c-2b55-4985-b068-ed253d96c58c\" xlink:actuate=\"onRequest\" xlink:href=\"psysml:409d967c-2b55-4985-b068-ed253d96c58c\" xlink:show=\"new\" xlink:title=\"psysml:409d967c-2b55-4985-b068-ed253d96c58c\" xlink:type=\"simple\"><rect fill=\"#FFFFFF\" filter=\"url(#f1n76n13eb5uay)\" height=\"484.5\" id=\"E6\" style=\"stroke: #A80036; stroke-width: 1.5;\" width=\"327\" x=\"550\" y=\"49\"/><rect fill=\"#FEFECE\" height=\"37.9375\" style=\"stroke: #A80036; stroke-width: 1.5;\" width=\"327\" x=\"550\" y=\"49\"/><text fill=\"#000000\" font-family=\"sans-serif\" font-size=\"12\" font-style=\"italic\" lengthAdjust=\"spacingAndGlyphs\" textLength=\"71\" x=\"678\" y=\"65.1387\">«state def»</text><text fill=\"#000000\" font-family=\"sans-serif\" font-size=\"12\" lengthAdjust=\"spacingAndGlyphs\" textLength=\"8\" x=\"709.5\" y=\"79.1074\">S</text><line style=\"stroke: #A80036; stroke-width: 1.0;\" x1=\"550\" x2=\"877\" y1=\"132.8438\" y2=\"132.8438\"/><text fill=\"#000000\" font-family=\"sans-serif\" font-size=\"12\" font-weight=\"bold\" lengthAdjust=\"spacingAndGlyphs\" textLength=\"38\" x=\"555\" y=\"100.0762\">entry</text><text fill=\"#000000\" font-family=\"sans-serif\" font-size=\"12\" lengthAdjust=\"spacingAndGlyphs\" textLength=\"16\" x=\"593\" y=\"100.0762\">/ A</text><text fill=\"#000000\" font-family=\"sans-serif\" font-size=\"12\" font-weight=\"bold\" lengthAdjust=\"spacingAndGlyphs\" textLength=\"18\" x=\"555\" y=\"114.0449\">do</text><text fill=\"#000000\" font-family=\"sans-serif\" font-size=\"12\" lengthAdjust=\"spacingAndGlyphs\" textLength=\"16\" x=\"573\" y=\"114.0449\">/ B</text><text fill=\"#000000\" font-family=\"sans-serif\" font-size=\"12\" font-weight=\"bold\" lengthAdjust=\"spacingAndGlyphs\" textLength=\"26\" x=\"555\" y=\"128.0137\">exit</text><text fill=\"#000000\" font-family=\"sans-serif\" font-size=\"12\" lengthAdjust=\"spacingAndGlyphs\" textLength=\"28\" x=\"581\" y=\"128.0137\">/ act</text></a><!--MD5=[b4997ac47864f28c2f74865a473b2911]\n",
       "class E2--><a href=\"psysml:7a2ca9b4-3a97-4e8a-92f8-a9f50dc832cb\" target=\"_top\" title=\"psysml:7a2ca9b4-3a97-4e8a-92f8-a9f50dc832cb\" xlink:actuate=\"onRequest\" xlink:href=\"psysml:7a2ca9b4-3a97-4e8a-92f8-a9f50dc832cb\" xlink:show=\"new\" xlink:title=\"psysml:7a2ca9b4-3a97-4e8a-92f8-a9f50dc832cb\" xlink:type=\"simple\"><rect fill=\"#FEFECE\" filter=\"url(#f1n76n13eb5uay)\" height=\"58.7422\" id=\"E2\" style=\"stroke: #A80036; stroke-width: 1.5;\" width=\"121\" x=\"412.5\" y=\"127.5\"/><ellipse cx=\"427.5\" cy=\"146.4688\" fill=\"#0000FF\" rx=\"11\" ry=\"11\" style=\"stroke: #A80036; stroke-width: 1.0;\"/><path d=\"M428.3438,153.2188 L425.8906,153.2188 L425.8906,142.9688 L422.75,142.9688 L422.75,140.8281 L431.4844,140.8281 L431.4844,142.9688 L428.3438,142.9688 L428.3438,153.2188 Z \"/><text fill=\"#000000\" font-family=\"sans-serif\" font-size=\"12\" font-style=\"italic\" lengthAdjust=\"spacingAndGlyphs\" textLength=\"93\" x=\"439.5\" y=\"143.6387\">«attribute def»</text><text fill=\"#000000\" font-family=\"sans-serif\" font-size=\"12\" lengthAdjust=\"spacingAndGlyphs\" textLength=\"19\" x=\"476.5\" y=\"157.6074\">Sig</text><line style=\"stroke: #A80036; stroke-width: 1.5;\" x1=\"413.5\" x2=\"532.5\" y1=\"165.4375\" y2=\"165.4375\"/><text fill=\"#000000\" font-family=\"sans-serif\" font-size=\"11\" lengthAdjust=\"spacingAndGlyphs\" textLength=\"6\" x=\"418.5\" y=\"179.6479\">x</text></a><!--MD5=[09b614a08d8cba4a07c9adeb5e0fee81]\n",
       "class E3--><a href=\"psysml:30361623-caf7-482c-9813-174242dd8f3c\" target=\"_top\" title=\"psysml:30361623-caf7-482c-9813-174242dd8f3c\" xlink:actuate=\"onRequest\" xlink:href=\"psysml:30361623-caf7-482c-9813-174242dd8f3c\" xlink:show=\"new\" xlink:title=\"psysml:30361623-caf7-482c-9813-174242dd8f3c\" xlink:type=\"simple\"><rect fill=\"#FEFECE\" filter=\"url(#f1n76n13eb5uay)\" height=\"45.9375\" id=\"E3\" style=\"stroke: #A80036; stroke-width: 1.5;\" width=\"121\" x=\"256.5\" y=\"134\"/><ellipse cx=\"271.5\" cy=\"152.9688\" fill=\"#0000FF\" rx=\"11\" ry=\"11\" style=\"stroke: #A80036; stroke-width: 1.0;\"/><path d=\"M272.3438,159.7188 L269.8906,159.7188 L269.8906,149.4688 L266.75,149.4688 L266.75,147.3281 L275.4844,147.3281 L275.4844,149.4688 L272.3438,149.4688 L272.3438,159.7188 Z \"/><text fill=\"#000000\" font-family=\"sans-serif\" font-size=\"12\" font-style=\"italic\" lengthAdjust=\"spacingAndGlyphs\" textLength=\"93\" x=\"283.5\" y=\"150.1387\">«attribute def»</text><text fill=\"#000000\" font-family=\"sans-serif\" font-size=\"12\" lengthAdjust=\"spacingAndGlyphs\" textLength=\"22\" x=\"319\" y=\"164.1074\">Exit</text><line style=\"stroke: #A80036; stroke-width: 1.5;\" x1=\"257.5\" x2=\"376.5\" y1=\"171.9375\" y2=\"171.9375\"/></a><!--MD5=[ebbe1d658d1005bcc118a6aa81145e00]\n",
       "class E4--><a href=\"psysml:86d86843-d597-4d6e-917a-885d695bc43d\" target=\"_top\" title=\"psysml:86d86843-d597-4d6e-917a-885d695bc43d\" xlink:actuate=\"onRequest\" xlink:href=\"psysml:86d86843-d597-4d6e-917a-885d695bc43d\" xlink:show=\"new\" xlink:title=\"psysml:86d86843-d597-4d6e-917a-885d695bc43d\" xlink:type=\"simple\"><rect fill=\"#FEFECE\" filter=\"url(#f1n76n13eb5uay)\" height=\"45.9375\" id=\"E4\" rx=\"10\" ry=\"10\" style=\"stroke: #A80036; stroke-width: 1.5;\" width=\"68\" x=\"153\" y=\"134\"/><ellipse cx=\"168\" cy=\"152.9688\" fill=\"#0000FF\" rx=\"11\" ry=\"11\" style=\"stroke: #A80036; stroke-width: 1.0;\"/><path d=\"M168.8438,159.7188 L166.3906,159.7188 L166.3906,149.4688 L163.25,149.4688 L163.25,147.3281 L171.9844,147.3281 L171.9844,149.4688 L168.8438,149.4688 L168.8438,159.7188 Z \"/><text fill=\"#000000\" font-family=\"sans-serif\" font-size=\"12\" font-style=\"italic\" lengthAdjust=\"spacingAndGlyphs\" textLength=\"40\" x=\"180\" y=\"150.1387\">«part»</text><text fill=\"#000000\" font-family=\"sans-serif\" font-size=\"12\" lengthAdjust=\"spacingAndGlyphs\" textLength=\"8\" x=\"196\" y=\"164.1074\">p</text><line style=\"stroke: #A80036; stroke-width: 1.5;\" x1=\"154\" x2=\"220\" y1=\"171.9375\" y2=\"171.9375\"/></a><g id=\"E1.E5\"><a href=\"psysml:6cb3785d-90e3-4021-b607-f0ab9874924c\" target=\"_top\" title=\"psysml:6cb3785d-90e3-4021-b607-f0ab9874924c\" xlink:actuate=\"onRequest\" xlink:href=\"psysml:6cb3785d-90e3-4021-b607-f0ab9874924c\" xlink:show=\"new\" xlink:title=\"psysml:6cb3785d-90e3-4021-b607-f0ab9874924c\" xlink:type=\"simple\"><rect fill=\"#FEFECE\" filter=\"url(#f1n76n13eb5uay)\" height=\"42.9375\" id=\"E5\" rx=\"10\" ry=\"10\" style=\"stroke: #A80036; stroke-width: 1.5;\" width=\"86\" x=\"32\" y=\"135.5\"/><ellipse cx=\"49.25\" cy=\"154.4688\" fill=\"#0000FF\" rx=\"11\" ry=\"11\" style=\"stroke: #A80036; stroke-width: 1.0;\"/><path d=\"M50.0938,161.2188 L47.6406,161.2188 L47.6406,150.9688 L44.5,150.9688 L44.5,148.8281 L53.2344,148.8281 L53.2344,150.9688 L50.0938,150.9688 L50.0938,161.2188 Z \"/><text fill=\"#000000\" font-family=\"sans-serif\" font-size=\"12\" font-style=\"italic\" lengthAdjust=\"spacingAndGlyphs\" textLength=\"53\" x=\"61.75\" y=\"151.6387\">«action»</text><text fill=\"#000000\" font-family=\"sans-serif\" font-size=\"12\" lengthAdjust=\"spacingAndGlyphs\" textLength=\"20\" x=\"78.25\" y=\"165.6074\">act</text></a></g><ellipse cx=\"662\" cy=\"157\" fill=\"#000000\" filter=\"url(#f1n76n13eb5uay)\" rx=\"10\" ry=\"10\" style=\"stroke: none; stroke-width: 1.0;\"/><ellipse cx=\"662\" cy=\"507.5\" fill=\"none\" filter=\"url(#f1n76n13eb5uay)\" rx=\"10\" ry=\"10\" style=\"stroke: #000000; stroke-width: 1.0;\"/><ellipse cx=\"662.5\" cy=\"508\" fill=\"#000000\" rx=\"6\" ry=\"6\" style=\"stroke: none; stroke-width: 1.0;\"/><g id=\"E1.E6.E7\"><a href=\"psysml:5ea02985-bc8b-4cb1-bb08-c3caa7c881e0\" target=\"_top\" title=\"psysml:5ea02985-bc8b-4cb1-bb08-c3caa7c881e0\" xlink:actuate=\"onRequest\" xlink:href=\"psysml:5ea02985-bc8b-4cb1-bb08-c3caa7c881e0\" xlink:show=\"new\" xlink:title=\"psysml:5ea02985-bc8b-4cb1-bb08-c3caa7c881e0\" xlink:type=\"simple\"><rect fill=\"#FEFECE\" filter=\"url(#f1n76n13eb5uay)\" height=\"40\" id=\"E7\" rx=\"10\" ry=\"10\" style=\"stroke: #A80036; stroke-width: 1.5;\" width=\"53\" x=\"635.5\" y=\"247.5\"/><ellipse cx=\"652.75\" cy=\"263.5\" fill=\"#B6DBBB\" rx=\"11\" ry=\"11\" style=\"stroke: #A80036; stroke-width: 1.0;\"/><path d=\"M648.625,265.4219 L648.625,257.6094 L651.0781,257.6094 L651.0781,266.0469 Q651.0781,266.9688 651.5469,267.5 Q652.0313,268.0313 652.8594,268.0313 Q653.7031,268.0313 654.1719,267.5 Q654.6406,266.9688 654.6406,266.0469 L654.6406,257.6094 L657.0938,257.6094 L657.0938,265.4219 Q657.0938,267.9531 656.0938,269.0938 Q655.0938,270.2344 652.8594,270.2344 Q650.6406,270.2344 649.625,269.0938 Q648.625,267.9531 648.625,265.4219 Z \"/><text fill=\"#000000\" font-family=\"sans-serif\" font-size=\"12\" lengthAdjust=\"spacingAndGlyphs\" textLength=\"16\" x=\"667.25\" y=\"267.6543\">S1</text></a></g><g id=\"E1.E6.E8\"><a href=\"psysml:15193c6f-79c7-4ee2-a2ac-bfb559b7d876\" target=\"_top\" title=\"psysml:15193c6f-79c7-4ee2-a2ac-bfb559b7d876\" xlink:actuate=\"onRequest\" xlink:href=\"psysml:15193c6f-79c7-4ee2-a2ac-bfb559b7d876\" xlink:show=\"new\" xlink:title=\"psysml:15193c6f-79c7-4ee2-a2ac-bfb559b7d876\" xlink:type=\"simple\"><rect fill=\"#FEFECE\" filter=\"url(#f1n76n13eb5uay)\" height=\"55.9688\" id=\"E8\" rx=\"10\" ry=\"10\" style=\"stroke: #A80036; stroke-width: 1.5;\" width=\"58\" x=\"633\" y=\"364.5\"/><ellipse cx=\"652.5\" cy=\"380.5\" fill=\"#B6DBBB\" rx=\"11\" ry=\"11\" style=\"stroke: #A80036; stroke-width: 1.0;\"/><path d=\"M648.375,382.4219 L648.375,374.6094 L650.8281,374.6094 L650.8281,383.0469 Q650.8281,383.9688 651.2969,384.5 Q651.7813,385.0313 652.6094,385.0313 Q653.4531,385.0313 653.9219,384.5 Q654.3906,383.9688 654.3906,383.0469 L654.3906,374.6094 L656.8438,374.6094 L656.8438,382.4219 Q656.8438,384.9531 655.8438,386.0938 Q654.8438,387.2344 652.6094,387.2344 Q650.3906,387.2344 649.375,386.0938 Q648.375,384.9531 648.375,382.4219 Z \"/><text fill=\"#000000\" font-family=\"sans-serif\" font-size=\"12\" lengthAdjust=\"spacingAndGlyphs\" textLength=\"16\" x=\"667.5\" y=\"384.6543\">S2</text><line style=\"stroke: #A80036; stroke-width: 1.0;\" x1=\"633\" x2=\"691\" y1=\"396.5\" y2=\"396.5\"/><text fill=\"#000000\" font-family=\"sans-serif\" font-size=\"12\" font-weight=\"bold\" lengthAdjust=\"spacingAndGlyphs\" textLength=\"18\" x=\"638\" y=\"409.6387\">do</text><text fill=\"#000000\" font-family=\"sans-serif\" font-size=\"12\" lengthAdjust=\"spacingAndGlyphs\" textLength=\"4\" x=\"656\" y=\"409.6387\">/</text></a></g><!--MD5=[5a531d3a85f3339e6e197084acb48195]\n",
       "link *start*E6 to E7--><a href=\"psysml:50e6b136-bb64-4da5-b9f3-893462631a2b\" target=\"_top\" title=\"psysml:50e6b136-bb64-4da5-b9f3-893462631a2b\" xlink:actuate=\"onRequest\" xlink:href=\"psysml:50e6b136-bb64-4da5-b9f3-893462631a2b\" xlink:show=\"new\" xlink:title=\"psysml:50e6b136-bb64-4da5-b9f3-893462631a2b\" xlink:type=\"simple\"><path d=\"M662,167.25 C662,183.64 662,218.28 662,241.97 \" fill=\"none\" id=\"*start*E6-&gt;E7\" style=\"stroke: #A80036; stroke-width: 1.0;\"/><polygon fill=\"#A80036\" points=\"662,247.15,666,238.15,662,242.15,658,238.15,662,247.15\" style=\"stroke: #A80036; stroke-width: 1.0;\"/></a><!--MD5=[7ec9a8babba89ddcae1318ca9fb3c814]\n",
       "link E8 to *end*E6--><a href=\"psysml:400438d1-4a79-4175-ae6b-80e92b548ca9\" target=\"_top\" title=\"psysml:400438d1-4a79-4175-ae6b-80e92b548ca9\" xlink:actuate=\"onRequest\" xlink:href=\"psysml:400438d1-4a79-4175-ae6b-80e92b548ca9\" xlink:show=\"new\" xlink:title=\"psysml:400438d1-4a79-4175-ae6b-80e92b548ca9\" xlink:type=\"simple\"><path d=\"M662,420.57 C662,443.05 662,474.17 662,492.13 \" fill=\"none\" id=\"E8-&gt;*end*E6\" style=\"stroke: #A80036; stroke-width: 1.0;\"/><polygon fill=\"#A80036\" points=\"662,497.26,666,488.26,662,492.26,658,488.26,662,497.26\" style=\"stroke: #A80036; stroke-width: 1.0;\"/><text fill=\"#000000\" font-family=\"sans-serif\" font-size=\"13\" lengthAdjust=\"spacingAndGlyphs\" textLength=\"23\" x=\"663\" y=\"463.5669\">Exit</text></a><!--MD5=[79bc8f324ef4d02c541433f2e6e513c3]\n",
       "link E7 to E8--><a href=\"psysml:516b9b87-0f3c-4a45-97aa-978805331ddd\" target=\"_top\" title=\"psysml:516b9b87-0f3c-4a45-97aa-978805331ddd\" xlink:actuate=\"onRequest\" xlink:href=\"psysml:516b9b87-0f3c-4a45-97aa-978805331ddd\" xlink:show=\"new\" xlink:title=\"psysml:516b9b87-0f3c-4a45-97aa-978805331ddd\" xlink:type=\"simple\"><path d=\"M635.25,280.67 C613.47,292.49 587.88,311.93 598,334.5 C604.51,349.01 616.74,361.35 628.79,370.79 \" fill=\"none\" id=\"E7-&gt;E8\" style=\"stroke: #A80036; stroke-width: 1.0;\"/><polygon fill=\"#A80036\" points=\"632.86,373.88,628.0945,365.2609,628.872,370.864,623.2689,371.6416,632.86,373.88\" style=\"stroke: #A80036; stroke-width: 1.0;\"/><text fill=\"#000000\" font-family=\"sans-serif\" font-size=\"13\" lengthAdjust=\"spacingAndGlyphs\" textLength=\"81\" x=\"599\" y=\"330.5669\">Sig /action D</text></a><!--MD5=[bfa3c8b0d15052fdf50ae9310b491027]\n",
       "link E8 to E7--><a href=\"psysml:0976314e-a9f7-4444-bafa-f8883db64fa0\" target=\"_top\" title=\"psysml:0976314e-a9f7-4444-bafa-f8883db64fa0\" xlink:actuate=\"onRequest\" xlink:href=\"psysml:0976314e-a9f7-4444-bafa-f8883db64fa0\" xlink:show=\"new\" xlink:title=\"psysml:0976314e-a9f7-4444-bafa-f8883db64fa0\" xlink:type=\"simple\"><path d=\"M677.55,364.38 C683.68,350.5 688.51,333.26 685,317.5 C683.1,308.99 679.56,300.22 675.82,292.49 \" fill=\"none\" id=\"E8-&gt;E7\" style=\"stroke: #A80036; stroke-width: 1.0;\"/><polygon fill=\"#A80036\" points=\"673.47,287.82,673.9298,297.6581,675.7118,292.2893,681.0806,294.0713,673.47,287.82\" style=\"stroke: #A80036; stroke-width: 1.0;\"/><text fill=\"#000000\" font-family=\"sans-serif\" font-size=\"13\" lengthAdjust=\"spacingAndGlyphs\" textLength=\"135\" x=\"687\" y=\"330.5669\">Sig [true]/send s to p</text></a><!--MD5=[1d780507fd8d50bd04122ebfd4b1e779]\n",
       "@startuml\r\n",
       " \r\n",
       "package \"StateTest\" as E1  [[psysml:9c548ee6-d869-4820-b951-32f5a4e72165 ]]  {\r\n",
       "comp def \"Sig\" as E2  <<(T,blue)attribute def>> [[psysml:7a2ca9b4-3a97-4e8a-92f8-a9f50dc832cb ]] {\r\n",
       "x\r\n",
       "}\r\n",
       "comp def \"Exit\" as E3  <<(T,blue)attribute def>> [[psysml:30361623-caf7-482c-9813-174242dd8f3c ]] {\r\n",
       "}\r\n",
       "comp usage \"p\" as E4  <<(T,blue)part>> [[psysml:86d86843-d597-4d6e-917a-885d695bc43d ]] {\r\n",
       "}\r\n",
       "rec usage \"act\" as E5  <<(T,blue)action>> [[psysml:6cb3785d-90e3-4021-b607-f0ab9874924c ]] {\r\n",
       "}\r\n",
       "\r\n",
       "rec def \"S\" as E6  <<(T,blue)state def>> [[psysml:409d967c-2b55-4985-b068-ed253d96c58c ]] {\r\n",
       "rec usage \"S1\" as E7 [[psysml:5ea02985-bc8b-4cb1-bb08-c3caa7c881e0 ]] {\r\n",
       "}\r\n",
       "\r\n",
       "rec usage \"S2\" as E8 [[psysml:15193c6f-79c7-4ee2-a2ac-bfb559b7d876 ]] {\r\n",
       "desc \"S2\" as E8  : **do**/ \r\n",
       "}\r\n",
       "\r\n",
       "[*] - -> E7 [[psysml:50e6b136-bb64-4da5-b9f3-893462631a2b ]] \r\n",
       "E8  - -> [*] [[psysml:400438d1-4a79-4175-ae6b-80e92b548ca9 ]] : Exit \r\n",
       "desc \"S\" as E6  : **entry**/ A\r\n",
       "desc \"S\" as E6  : **do**/ B\r\n",
       "desc \"S\" as E6  : **exit**/ act \r\n",
       "}\r\n",
       "\r\n",
       "E7  - -> E8 [[psysml:516b9b87-0f3c-4a45-97aa-978805331ddd ]] : Sig /action D\r\n",
       "E8  - -> E7 [[psysml:0976314e-a9f7-4444-bafa-f8883db64fa0 ]] : Sig [true]/send s to p\r\n",
       "}\r\n",
       "@enduml\r\n",
       "\n",
       "PlantUML version 1.2020.13(Sat Jun 13 12:26:38 UTC 2020)\n",
       "(EPL source distribution)\n",
       "Java Runtime: OpenJDK Runtime Environment\n",
       "JVM: OpenJDK 64-Bit Server VM\n",
       "Default Encoding: UTF-8\n",
       "Language: en\n",
       "Country: null\n",
       "--></g></svg>"
      ]
     },
     "execution_count": 2,
     "metadata": {},
     "output_type": "execute_result"
    }
   ],
   "source": [
    "%viz --style=\"COMPTREE\" --view=\"Default\" \"StateTest\""
   ]
  },
  {
   "cell_type": "code",
   "execution_count": 3,
   "id": "ready-dancing",
   "metadata": {
    "execution": {
     "iopub.execute_input": "2021-03-26T09:13:51.181136Z",
     "iopub.status.busy": "2021-03-26T09:13:51.180749Z",
     "iopub.status.idle": "2021-03-26T09:13:51.386806Z",
     "shell.execute_reply": "2021-03-26T09:13:51.385402Z"
    }
   },
   "outputs": [
    {
     "data": {
      "image/svg+xml": [
       "<?xml version=\"1.0\" encoding=\"UTF-8\" standalone=\"no\"?><svg xmlns=\"http://www.w3.org/2000/svg\" xmlns:xlink=\"http://www.w3.org/1999/xlink\" contentScriptType=\"application/ecmascript\" contentStyleType=\"text/css\" height=\"471px\" preserveAspectRatio=\"none\" style=\"width:702px;height:471px;\" version=\"1.1\" viewBox=\"0 0 702 471\" width=\"702px\" zoomAndPan=\"magnify\"><defs><filter height=\"300%\" id=\"f1kf20cmii95x5\" width=\"300%\" x=\"-1\" y=\"-1\"><feGaussianBlur result=\"blurOut\" stdDeviation=\"2.0\"/><feColorMatrix in=\"blurOut\" result=\"blurOut2\" type=\"matrix\" values=\"0 0 0 0 0 0 0 0 0 0 0 0 0 0 0 0 0 0 .4 0\"/><feOffset dx=\"4.0\" dy=\"4.0\" in=\"blurOut2\" result=\"blurOut3\"/><feBlend in=\"SourceGraphic\" in2=\"blurOut3\" mode=\"normal\"/></filter></defs><g><!--MD5=[fbc87193dbaf4d95561dea2c320d4a47]\n",
       "cluster E1--><a href=\"psysml:9c548ee6-d869-4820-b951-32f5a4e72165\" target=\"_top\" title=\"psysml:9c548ee6-d869-4820-b951-32f5a4e72165\" xlink:actuate=\"onRequest\" xlink:href=\"psysml:9c548ee6-d869-4820-b951-32f5a4e72165\" xlink:show=\"new\" xlink:title=\"psysml:9c548ee6-d869-4820-b951-32f5a4e72165\" xlink:type=\"simple\"><polygon fill=\"#FFFFFF\" filter=\"url(#f1kf20cmii95x5)\" points=\"16,6,98,6,105,28.2969,680,28.2969,680,459,16,459,16,6\" style=\"stroke: #000000; stroke-width: 1.5;\"/><line style=\"stroke: #000000; stroke-width: 1.5;\" x1=\"16\" x2=\"105\" y1=\"28.2969\" y2=\"28.2969\"/><text fill=\"#000000\" font-family=\"sans-serif\" font-size=\"14\" font-weight=\"bold\" lengthAdjust=\"spacingAndGlyphs\" textLength=\"76\" x=\"20\" y=\"20.9951\">StateTest</text></a><!--MD5=[b4997ac47864f28c2f74865a473b2911]\n",
       "class E2--><a href=\"psysml:7a2ca9b4-3a97-4e8a-92f8-a9f50dc832cb\" target=\"_top\" title=\"psysml:7a2ca9b4-3a97-4e8a-92f8-a9f50dc832cb\" xlink:actuate=\"onRequest\" xlink:href=\"psysml:7a2ca9b4-3a97-4e8a-92f8-a9f50dc832cb\" xlink:show=\"new\" xlink:title=\"psysml:7a2ca9b4-3a97-4e8a-92f8-a9f50dc832cb\" xlink:type=\"simple\"><rect fill=\"#FEFECE\" filter=\"url(#f1kf20cmii95x5)\" height=\"58.7422\" id=\"E2\" style=\"stroke: #A80036; stroke-width: 1.5;\" width=\"121\" x=\"542.5\" y=\"91.5\"/><ellipse cx=\"557.5\" cy=\"110.4688\" fill=\"#0000FF\" rx=\"11\" ry=\"11\" style=\"stroke: #A80036; stroke-width: 1.0;\"/><path d=\"M558.3438,117.2188 L555.8906,117.2188 L555.8906,106.9688 L552.75,106.9688 L552.75,104.8281 L561.4844,104.8281 L561.4844,106.9688 L558.3438,106.9688 L558.3438,117.2188 Z \"/><text fill=\"#000000\" font-family=\"sans-serif\" font-size=\"12\" font-style=\"italic\" lengthAdjust=\"spacingAndGlyphs\" textLength=\"93\" x=\"569.5\" y=\"107.6387\">«attribute def»</text><text fill=\"#000000\" font-family=\"sans-serif\" font-size=\"12\" lengthAdjust=\"spacingAndGlyphs\" textLength=\"19\" x=\"606.5\" y=\"121.6074\">Sig</text><line style=\"stroke: #A80036; stroke-width: 1.5;\" x1=\"543.5\" x2=\"662.5\" y1=\"129.4375\" y2=\"129.4375\"/><text fill=\"#000000\" font-family=\"sans-serif\" font-size=\"11\" lengthAdjust=\"spacingAndGlyphs\" textLength=\"6\" x=\"548.5\" y=\"143.6479\">x</text></a><!--MD5=[09b614a08d8cba4a07c9adeb5e0fee81]\n",
       "class E3--><a href=\"psysml:30361623-caf7-482c-9813-174242dd8f3c\" target=\"_top\" title=\"psysml:30361623-caf7-482c-9813-174242dd8f3c\" xlink:actuate=\"onRequest\" xlink:href=\"psysml:30361623-caf7-482c-9813-174242dd8f3c\" xlink:show=\"new\" xlink:title=\"psysml:30361623-caf7-482c-9813-174242dd8f3c\" xlink:type=\"simple\"><rect fill=\"#FEFECE\" filter=\"url(#f1kf20cmii95x5)\" height=\"45.9375\" id=\"E3\" style=\"stroke: #A80036; stroke-width: 1.5;\" width=\"121\" x=\"386.5\" y=\"98\"/><ellipse cx=\"401.5\" cy=\"116.9688\" fill=\"#0000FF\" rx=\"11\" ry=\"11\" style=\"stroke: #A80036; stroke-width: 1.0;\"/><path d=\"M402.3438,123.7188 L399.8906,123.7188 L399.8906,113.4688 L396.75,113.4688 L396.75,111.3281 L405.4844,111.3281 L405.4844,113.4688 L402.3438,113.4688 L402.3438,123.7188 Z \"/><text fill=\"#000000\" font-family=\"sans-serif\" font-size=\"12\" font-style=\"italic\" lengthAdjust=\"spacingAndGlyphs\" textLength=\"93\" x=\"413.5\" y=\"114.1387\">«attribute def»</text><text fill=\"#000000\" font-family=\"sans-serif\" font-size=\"12\" lengthAdjust=\"spacingAndGlyphs\" textLength=\"22\" x=\"449\" y=\"128.1074\">Exit</text><line style=\"stroke: #A80036; stroke-width: 1.5;\" x1=\"387.5\" x2=\"506.5\" y1=\"135.9375\" y2=\"135.9375\"/></a><!--MD5=[ebbe1d658d1005bcc118a6aa81145e00]\n",
       "class E4--><a href=\"psysml:86d86843-d597-4d6e-917a-885d695bc43d\" target=\"_top\" title=\"psysml:86d86843-d597-4d6e-917a-885d695bc43d\" xlink:actuate=\"onRequest\" xlink:href=\"psysml:86d86843-d597-4d6e-917a-885d695bc43d\" xlink:show=\"new\" xlink:title=\"psysml:86d86843-d597-4d6e-917a-885d695bc43d\" xlink:type=\"simple\"><rect fill=\"#FEFECE\" filter=\"url(#f1kf20cmii95x5)\" height=\"45.9375\" id=\"E4\" rx=\"10\" ry=\"10\" style=\"stroke: #A80036; stroke-width: 1.5;\" width=\"68\" x=\"283\" y=\"98\"/><ellipse cx=\"298\" cy=\"116.9688\" fill=\"#0000FF\" rx=\"11\" ry=\"11\" style=\"stroke: #A80036; stroke-width: 1.0;\"/><path d=\"M298.8438,123.7188 L296.3906,123.7188 L296.3906,113.4688 L293.25,113.4688 L293.25,111.3281 L301.9844,111.3281 L301.9844,113.4688 L298.8438,113.4688 L298.8438,123.7188 Z \"/><text fill=\"#000000\" font-family=\"sans-serif\" font-size=\"12\" font-style=\"italic\" lengthAdjust=\"spacingAndGlyphs\" textLength=\"40\" x=\"310\" y=\"114.1387\">«part»</text><text fill=\"#000000\" font-family=\"sans-serif\" font-size=\"12\" lengthAdjust=\"spacingAndGlyphs\" textLength=\"8\" x=\"326\" y=\"128.1074\">p</text><line style=\"stroke: #A80036; stroke-width: 1.5;\" x1=\"284\" x2=\"350\" y1=\"135.9375\" y2=\"135.9375\"/></a><!--MD5=[270fce915f116d4de14055a7c1d9a0f3]\n",
       "class E5--><a href=\"psysml:6cb3785d-90e3-4021-b607-f0ab9874924c\" target=\"_top\" title=\"psysml:6cb3785d-90e3-4021-b607-f0ab9874924c\" xlink:actuate=\"onRequest\" xlink:href=\"psysml:6cb3785d-90e3-4021-b607-f0ab9874924c\" xlink:show=\"new\" xlink:title=\"psysml:6cb3785d-90e3-4021-b607-f0ab9874924c\" xlink:type=\"simple\"><rect fill=\"#FEFECE\" filter=\"url(#f1kf20cmii95x5)\" height=\"45.9375\" id=\"E5\" rx=\"10\" ry=\"10\" style=\"stroke: #A80036; stroke-width: 1.5;\" width=\"81\" x=\"166.5\" y=\"98\"/><ellipse cx=\"181.5\" cy=\"116.9688\" fill=\"#0000FF\" rx=\"11\" ry=\"11\" style=\"stroke: #A80036; stroke-width: 1.0;\"/><path d=\"M182.3438,123.7188 L179.8906,123.7188 L179.8906,113.4688 L176.75,113.4688 L176.75,111.3281 L185.4844,111.3281 L185.4844,113.4688 L182.3438,113.4688 L182.3438,123.7188 Z \"/><text fill=\"#000000\" font-family=\"sans-serif\" font-size=\"12\" font-style=\"italic\" lengthAdjust=\"spacingAndGlyphs\" textLength=\"53\" x=\"193.5\" y=\"114.1387\">«action»</text><text fill=\"#000000\" font-family=\"sans-serif\" font-size=\"12\" lengthAdjust=\"spacingAndGlyphs\" textLength=\"20\" x=\"210\" y=\"128.1074\">act</text><line style=\"stroke: #A80036; stroke-width: 1.5;\" x1=\"167.5\" x2=\"246.5\" y1=\"135.9375\" y2=\"135.9375\"/></a><!--MD5=[60a26617385b1d2d0262a64233df1f8d]\n",
       "class E6--><a href=\"psysml:409d967c-2b55-4985-b068-ed253d96c58c\" target=\"_top\" title=\"psysml:409d967c-2b55-4985-b068-ed253d96c58c\" xlink:actuate=\"onRequest\" xlink:href=\"psysml:409d967c-2b55-4985-b068-ed253d96c58c\" xlink:show=\"new\" xlink:title=\"psysml:409d967c-2b55-4985-b068-ed253d96c58c\" xlink:type=\"simple\"><rect fill=\"#FEFECE\" filter=\"url(#f1kf20cmii95x5)\" height=\"160.375\" id=\"E6\" style=\"stroke: #A80036; stroke-width: 1.5;\" width=\"99\" x=\"32.5\" y=\"41\"/><ellipse cx=\"47.5\" cy=\"59.9688\" fill=\"#0000FF\" rx=\"11\" ry=\"11\" style=\"stroke: #A80036; stroke-width: 1.0;\"/><path d=\"M48.3438,66.7188 L45.8906,66.7188 L45.8906,56.4688 L42.75,56.4688 L42.75,54.3281 L51.4844,54.3281 L51.4844,56.4688 L48.3438,56.4688 L48.3438,66.7188 Z \"/><text fill=\"#000000\" font-family=\"sans-serif\" font-size=\"12\" font-style=\"italic\" lengthAdjust=\"spacingAndGlyphs\" textLength=\"71\" x=\"59.5\" y=\"57.1387\">«state def»</text><text fill=\"#000000\" font-family=\"sans-serif\" font-size=\"12\" lengthAdjust=\"spacingAndGlyphs\" textLength=\"8\" x=\"91\" y=\"71.1074\">S</text><line style=\"stroke: #A80036; stroke-width: 1.5;\" x1=\"33.5\" x2=\"130.5\" y1=\"78.9375\" y2=\"78.9375\"/><text fill=\"#000000\" font-family=\"sans-serif\" font-size=\"11\" lengthAdjust=\"spacingAndGlyphs\" textLength=\"17\" x=\"38.5\" y=\"109.9526\">act</text><text fill=\"#000000\" font-family=\"sans-serif\" font-size=\"11\" lengthAdjust=\"spacingAndGlyphs\" textLength=\"7\" x=\"38.5\" y=\"122.7573\">A</text><text fill=\"#000000\" font-family=\"sans-serif\" font-size=\"11\" lengthAdjust=\"spacingAndGlyphs\" textLength=\"8\" x=\"38.5\" y=\"135.562\">B</text><line style=\"stroke: #A80036; stroke-width: 1.0;\" x1=\"33.5\" x2=\"38.5\" y1=\"93.3398\" y2=\"93.3398\"/><text fill=\"#000000\" font-family=\"sans-serif\" font-size=\"11\" lengthAdjust=\"spacingAndGlyphs\" textLength=\"87\" x=\"38.5\" y=\"96.6479\">performActions</text><line style=\"stroke: #A80036; stroke-width: 1.0;\" x1=\"125.5\" x2=\"130.5\" y1=\"93.3398\" y2=\"93.3398\"/><text fill=\"#000000\" font-family=\"sans-serif\" font-size=\"11\" lengthAdjust=\"spacingAndGlyphs\" textLength=\"15\" x=\"38.5\" y=\"165.1714\">S1</text><line style=\"stroke: #A80036; stroke-width: 1.0;\" x1=\"33.5\" x2=\"64\" y1=\"148.5586\" y2=\"148.5586\"/><text fill=\"#000000\" font-family=\"sans-serif\" font-size=\"11\" lengthAdjust=\"spacingAndGlyphs\" textLength=\"36\" x=\"64\" y=\"151.8667\">states</text><line style=\"stroke: #A80036; stroke-width: 1.0;\" x1=\"100\" x2=\"130.5\" y1=\"148.5586\" y2=\"148.5586\"/><text fill=\"#000000\" font-family=\"sans-serif\" font-size=\"11\" lengthAdjust=\"spacingAndGlyphs\" textLength=\"7\" x=\"38.5\" y=\"194.7808\">T</text><line style=\"stroke: #A80036; stroke-width: 1.0;\" x1=\"33.5\" x2=\"51.5\" y1=\"178.168\" y2=\"178.168\"/><text fill=\"#000000\" font-family=\"sans-serif\" font-size=\"11\" lengthAdjust=\"spacingAndGlyphs\" textLength=\"61\" x=\"51.5\" y=\"181.4761\">transitions</text><line style=\"stroke: #A80036; stroke-width: 1.0;\" x1=\"112.5\" x2=\"130.5\" y1=\"178.168\" y2=\"178.168\"/></a><!--MD5=[1dd1bfd58a279cf63c5f349dbc8fc6a1]\n",
       "class E11--><a href=\"psysml:15193c6f-79c7-4ee2-a2ac-bfb559b7d876\" target=\"_top\" title=\"psysml:15193c6f-79c7-4ee2-a2ac-bfb559b7d876\" xlink:actuate=\"onRequest\" xlink:href=\"psysml:15193c6f-79c7-4ee2-a2ac-bfb559b7d876\" xlink:show=\"new\" xlink:title=\"psysml:15193c6f-79c7-4ee2-a2ac-bfb559b7d876\" xlink:type=\"simple\"><rect fill=\"#FEFECE\" filter=\"url(#f1kf20cmii95x5)\" height=\"45.9375\" id=\"E11\" rx=\"10\" ry=\"10\" style=\"stroke: #A80036; stroke-width: 1.5;\" width=\"75\" x=\"48.5\" y=\"261\"/><ellipse cx=\"63.5\" cy=\"279.9688\" fill=\"#0000FF\" rx=\"11\" ry=\"11\" style=\"stroke: #A80036; stroke-width: 1.0;\"/><path d=\"M64.3438,286.7188 L61.8906,286.7188 L61.8906,276.4688 L58.75,276.4688 L58.75,274.3281 L67.4844,274.3281 L67.4844,276.4688 L64.3438,276.4688 L64.3438,286.7188 Z \"/><text fill=\"#000000\" font-family=\"sans-serif\" font-size=\"12\" font-style=\"italic\" lengthAdjust=\"spacingAndGlyphs\" textLength=\"47\" x=\"75.5\" y=\"277.1387\">«state»</text><text fill=\"#000000\" font-family=\"sans-serif\" font-size=\"12\" lengthAdjust=\"spacingAndGlyphs\" textLength=\"16\" x=\"91\" y=\"291.1074\">S2</text><line style=\"stroke: #A80036; stroke-width: 1.5;\" x1=\"49.5\" x2=\"122.5\" y1=\"298.9375\" y2=\"298.9375\"/></a><!--MD5=[49a0ec8f00dab7302a31f22d0f0fe584]\n",
       "class E12--><a href=\"psysml:02a264b3-17c4-490c-b5b1-f49bb5aa02c2\" target=\"_top\" title=\"psysml:02a264b3-17c4-490c-b5b1-f49bb5aa02c2\" xlink:actuate=\"onRequest\" xlink:href=\"psysml:02a264b3-17c4-490c-b5b1-f49bb5aa02c2\" xlink:show=\"new\" xlink:title=\"psysml:02a264b3-17c4-490c-b5b1-f49bb5aa02c2\" xlink:type=\"simple\"><rect fill=\"#FEFECE\" filter=\"url(#f1kf20cmii95x5)\" height=\"75.5469\" id=\"E12\" rx=\"10\" ry=\"10\" style=\"stroke: #A80036; stroke-width: 1.5;\" width=\"116\" x=\"32\" y=\"367\"/><ellipse cx=\"47\" cy=\"385.9688\" fill=\"#B6DBBB\" rx=\"11\" ry=\"11\" style=\"stroke: #A80036; stroke-width: 1.0;\"/><path d=\"M42.875,387.8906 L42.875,380.0781 L45.3281,380.0781 L45.3281,388.5156 Q45.3281,389.4375 45.7969,389.9688 Q46.2813,390.5 47.1094,390.5 Q47.9531,390.5 48.4219,389.9688 Q48.8906,389.4375 48.8906,388.5156 L48.8906,380.0781 L51.3438,380.0781 L51.3438,387.8906 Q51.3438,390.4219 50.3438,391.5625 Q49.3438,392.7031 47.1094,392.7031 Q44.8906,392.7031 43.875,391.5625 Q42.875,390.4219 42.875,387.8906 Z \"/><text fill=\"#000000\" font-family=\"sans-serif\" font-size=\"12\" font-style=\"italic\" lengthAdjust=\"spacingAndGlyphs\" textLength=\"88\" x=\"59\" y=\"383.1387\">«send action»</text><text fill=\"#000000\" font-family=\"sans-serif\" font-size=\"12\" lengthAdjust=\"spacingAndGlyphs\" textLength=\"55\" x=\"75.5\" y=\"397.1074\">doAction</text><line style=\"stroke: #A80036; stroke-width: 1.5;\" x1=\"33\" x2=\"147\" y1=\"404.9375\" y2=\"404.9375\"/><text fill=\"#000000\" font-family=\"sans-serif\" font-size=\"11\" lengthAdjust=\"spacingAndGlyphs\" textLength=\"25\" x=\"38\" y=\"435.9526\">item</text><line style=\"stroke: #A80036; stroke-width: 1.0;\" x1=\"33\" x2=\"52.5\" y1=\"419.3398\" y2=\"419.3398\"/><text fill=\"#000000\" font-family=\"sans-serif\" font-size=\"11\" lengthAdjust=\"spacingAndGlyphs\" textLength=\"75\" x=\"52.5\" y=\"422.6479\">itemFeatures</text><line style=\"stroke: #A80036; stroke-width: 1.0;\" x1=\"127.5\" x2=\"147\" y1=\"419.3398\" y2=\"419.3398\"/></a><!--MD5=[1f5f03483f7de0d5b3680a7f6650997f]\n",
       "reverse link E6 to E11--><a href=\"psysml:15193c6f-79c7-4ee2-a2ac-bfb559b7d876\" target=\"_top\" title=\"psysml:15193c6f-79c7-4ee2-a2ac-bfb559b7d876\" xlink:actuate=\"onRequest\" xlink:href=\"psysml:15193c6f-79c7-4ee2-a2ac-bfb559b7d876\" xlink:show=\"new\" xlink:title=\"psysml:15193c6f-79c7-4ee2-a2ac-bfb559b7d876\" xlink:type=\"simple\"><path d=\"M84.29,214.17 C84.72,231.58 85.14,248.25 85.45,260.82 \" fill=\"none\" id=\"E6&lt;-E11\" style=\"stroke: #A80036; stroke-width: 1.0;\"/><polygon fill=\"#A80036\" points=\"83.96,201.09,80.1062,207.1849,84.25,213.0865,88.1038,206.9916,83.96,201.09\" style=\"stroke: #A80036; stroke-width: 1.0;\"/></a><!--MD5=[94adabc162ce7e41b39f13be14fbaeb3]\n",
       "reverse link E11 to E12--><a href=\"psysml:02a264b3-17c4-490c-b5b1-f49bb5aa02c2\" target=\"_top\" title=\"psysml:02a264b3-17c4-490c-b5b1-f49bb5aa02c2\" xlink:actuate=\"onRequest\" xlink:href=\"psysml:02a264b3-17c4-490c-b5b1-f49bb5aa02c2\" xlink:show=\"new\" xlink:title=\"psysml:02a264b3-17c4-490c-b5b1-f49bb5aa02c2\" xlink:type=\"simple\"><path d=\"M87.18,320.23 C87.67,334.82 88.24,351.76 88.74,366.58 \" fill=\"none\" id=\"E11&lt;-E12\" style=\"stroke: #A80036; stroke-width: 1.0;\"/><polygon fill=\"#FFFFFF\" points=\"86.74,307.1,82.9466,313.2327,87.1486,319.093,90.942,312.9603,86.74,307.1\" style=\"stroke: #A80036; stroke-width: 1.0;\"/></a><!--MD5=[a8fb24f5e1240821930a9e3d7156bc6b]\n",
       "@startuml\r\n",
       " \r\n",
       "package \"StateTest\" as E1  [[psysml:9c548ee6-d869-4820-b951-32f5a4e72165 ]]  {\r\n",
       "comp def \"Sig\" as E2  <<(T,blue)attribute def>> [[psysml:7a2ca9b4-3a97-4e8a-92f8-a9f50dc832cb ]] {\r\n",
       "x\r\n",
       "}\r\n",
       "comp def \"Exit\" as E3  <<(T,blue)attribute def>> [[psysml:30361623-caf7-482c-9813-174242dd8f3c ]] {\r\n",
       "}\r\n",
       "comp usage \"p\" as E4  <<(T,blue)part>> [[psysml:86d86843-d597-4d6e-917a-885d695bc43d ]] {\r\n",
       "}\r\n",
       "comp usage \"act\" as E5  <<(T,blue)action>> [[psysml:6cb3785d-90e3-4021-b607-f0ab9874924c ]] {\r\n",
       "}\r\n",
       "comp def \"S\" as E6  <<(T,blue)state def>> [[psysml:409d967c-2b55-4985-b068-ed253d96c58c ]] {\r\n",
       "- - performActions - -\r\n",
       "act\r\n",
       "A\r\n",
       "B\r\n",
       "- - states - -\r\n",
       "S1\r\n",
       "- - transitions - -\r\n",
       "T\r\n",
       "}\r\n",
       "comp usage \"S2\" as E11  <<(T,blue)state>> [[psysml:15193c6f-79c7-4ee2-a2ac-bfb559b7d876 ]] {\r\n",
       "}\r\n",
       "comp usage \"doAction\" as E12 <<send action>> [[psysml:02a264b3-17c4-490c-b5b1-f49bb5aa02c2 ]] {\r\n",
       "- - itemFeatures - -\r\n",
       "item\r\n",
       "}\r\n",
       "E6 *- - E11 [[psysml:15193c6f-79c7-4ee2-a2ac-bfb559b7d876 ]] \r\n",
       "E11 o- - E12 [[psysml:02a264b3-17c4-490c-b5b1-f49bb5aa02c2 ]] \r\n",
       "}\r\n",
       "@enduml\r\n",
       "\n",
       "PlantUML version 1.2020.13(Sat Jun 13 12:26:38 UTC 2020)\n",
       "(EPL source distribution)\n",
       "Java Runtime: OpenJDK Runtime Environment\n",
       "JVM: OpenJDK 64-Bit Server VM\n",
       "Default Encoding: UTF-8\n",
       "Language: en\n",
       "Country: null\n",
       "--></g></svg>"
      ]
     },
     "execution_count": 3,
     "metadata": {},
     "output_type": "execute_result"
    }
   ],
   "source": [
    "%viz --style=\"COMPTREE\" --view=\"Tree\" \"StateTest\""
   ]
  },
  {
   "cell_type": "code",
   "execution_count": 4,
   "id": "joint-terrorist",
   "metadata": {
    "execution": {
     "iopub.execute_input": "2021-03-26T09:13:51.437320Z",
     "iopub.status.busy": "2021-03-26T09:13:51.436796Z",
     "iopub.status.idle": "2021-03-26T09:13:51.497260Z",
     "shell.execute_reply": "2021-03-26T09:13:51.495766Z"
    }
   },
   "outputs": [
    {
     "data": {
      "image/svg+xml": [
       "<?xml version=\"1.0\" encoding=\"UTF-8\" standalone=\"no\"?><svg xmlns=\"http://www.w3.org/2000/svg\" xmlns:xlink=\"http://www.w3.org/1999/xlink\" contentScriptType=\"application/ecmascript\" contentStyleType=\"text/css\" height=\"491px\" preserveAspectRatio=\"none\" style=\"width:353px;height:491px;\" version=\"1.1\" viewBox=\"0 0 353 491\" width=\"353px\" zoomAndPan=\"magnify\"><defs><filter height=\"300%\" id=\"ft3yridohhjr6\" width=\"300%\" x=\"-1\" y=\"-1\"><feGaussianBlur result=\"blurOut\" stdDeviation=\"2.0\"/><feColorMatrix in=\"blurOut\" result=\"blurOut2\" type=\"matrix\" values=\"0 0 0 0 0 0 0 0 0 0 0 0 0 0 0 0 0 0 .4 0\"/><feOffset dx=\"4.0\" dy=\"4.0\" in=\"blurOut2\" result=\"blurOut3\"/><feBlend in=\"SourceGraphic\" in2=\"blurOut3\" mode=\"normal\"/></filter></defs><g><!--MD5=[fbc87193dbaf4d95561dea2c320d4a47]\n",
       "cluster E1--><a href=\"psysml:409d967c-2b55-4985-b068-ed253d96c58c\" target=\"_top\" title=\"psysml:409d967c-2b55-4985-b068-ed253d96c58c\" xlink:actuate=\"onRequest\" xlink:href=\"psysml:409d967c-2b55-4985-b068-ed253d96c58c\" xlink:show=\"new\" xlink:title=\"psysml:409d967c-2b55-4985-b068-ed253d96c58c\" xlink:type=\"simple\"><rect fill=\"#FFFFFF\" filter=\"url(#ft3yridohhjr6)\" height=\"465\" id=\"E1\" style=\"stroke: #A80036; stroke-width: 1.5;\" width=\"327\" x=\"7\" y=\"7\"/><rect fill=\"#FEFECE\" height=\"37.9375\" style=\"stroke: #A80036; stroke-width: 1.5;\" width=\"327\" x=\"7\" y=\"7\"/><text fill=\"#000000\" font-family=\"sans-serif\" font-size=\"12\" font-style=\"italic\" lengthAdjust=\"spacingAndGlyphs\" textLength=\"71\" x=\"135\" y=\"23.1387\">«state def»</text><text fill=\"#000000\" font-family=\"sans-serif\" font-size=\"12\" lengthAdjust=\"spacingAndGlyphs\" textLength=\"8\" x=\"166.5\" y=\"37.1074\">S</text><line style=\"stroke: #A80036; stroke-width: 1.0;\" x1=\"7\" x2=\"334\" y1=\"90.8438\" y2=\"90.8438\"/><text fill=\"#000000\" font-family=\"sans-serif\" font-size=\"12\" font-weight=\"bold\" lengthAdjust=\"spacingAndGlyphs\" textLength=\"38\" x=\"12\" y=\"58.0762\">entry</text><text fill=\"#000000\" font-family=\"sans-serif\" font-size=\"12\" lengthAdjust=\"spacingAndGlyphs\" textLength=\"16\" x=\"50\" y=\"58.0762\">/ A</text><text fill=\"#000000\" font-family=\"sans-serif\" font-size=\"12\" font-weight=\"bold\" lengthAdjust=\"spacingAndGlyphs\" textLength=\"18\" x=\"12\" y=\"72.0449\">do</text><text fill=\"#000000\" font-family=\"sans-serif\" font-size=\"12\" lengthAdjust=\"spacingAndGlyphs\" textLength=\"16\" x=\"30\" y=\"72.0449\">/ B</text><text fill=\"#000000\" font-family=\"sans-serif\" font-size=\"12\" font-weight=\"bold\" lengthAdjust=\"spacingAndGlyphs\" textLength=\"26\" x=\"12\" y=\"86.0137\">exit</text><text fill=\"#000000\" font-family=\"sans-serif\" font-size=\"12\" lengthAdjust=\"spacingAndGlyphs\" textLength=\"28\" x=\"38\" y=\"86.0137\">/ act</text></a><ellipse cx=\"119\" cy=\"115\" fill=\"#000000\" filter=\"url(#ft3yridohhjr6)\" rx=\"10\" ry=\"10\" style=\"stroke: none; stroke-width: 1.0;\"/><ellipse cx=\"119\" cy=\"446\" fill=\"none\" filter=\"url(#ft3yridohhjr6)\" rx=\"10\" ry=\"10\" style=\"stroke: #000000; stroke-width: 1.0;\"/><ellipse cx=\"119.5\" cy=\"446.5\" fill=\"#000000\" rx=\"6\" ry=\"6\" style=\"stroke: none; stroke-width: 1.0;\"/><g id=\"E1.E2\"><a href=\"psysml:5ea02985-bc8b-4cb1-bb08-c3caa7c881e0\" target=\"_top\" title=\"psysml:5ea02985-bc8b-4cb1-bb08-c3caa7c881e0\" xlink:actuate=\"onRequest\" xlink:href=\"psysml:5ea02985-bc8b-4cb1-bb08-c3caa7c881e0\" xlink:show=\"new\" xlink:title=\"psysml:5ea02985-bc8b-4cb1-bb08-c3caa7c881e0\" xlink:type=\"simple\"><rect fill=\"#FEFECE\" filter=\"url(#ft3yridohhjr6)\" height=\"40\" id=\"E2\" rx=\"10\" ry=\"10\" style=\"stroke: #A80036; stroke-width: 1.5;\" width=\"53\" x=\"92.5\" y=\"186\"/><ellipse cx=\"109.75\" cy=\"202\" fill=\"#B6DBBB\" rx=\"11\" ry=\"11\" style=\"stroke: #A80036; stroke-width: 1.0;\"/><path d=\"M105.625,203.9219 L105.625,196.1094 L108.0781,196.1094 L108.0781,204.5469 Q108.0781,205.4688 108.5469,206 Q109.0313,206.5313 109.8594,206.5313 Q110.7031,206.5313 111.1719,206 Q111.6406,205.4688 111.6406,204.5469 L111.6406,196.1094 L114.0938,196.1094 L114.0938,203.9219 Q114.0938,206.4531 113.0938,207.5938 Q112.0938,208.7344 109.8594,208.7344 Q107.6406,208.7344 106.625,207.5938 Q105.625,206.4531 105.625,203.9219 Z \"/><text fill=\"#000000\" font-family=\"sans-serif\" font-size=\"12\" lengthAdjust=\"spacingAndGlyphs\" textLength=\"16\" x=\"124.25\" y=\"206.1543\">S1</text></a></g><g id=\"E1.E3\"><a href=\"psysml:15193c6f-79c7-4ee2-a2ac-bfb559b7d876\" target=\"_top\" title=\"psysml:15193c6f-79c7-4ee2-a2ac-bfb559b7d876\" xlink:actuate=\"onRequest\" xlink:href=\"psysml:15193c6f-79c7-4ee2-a2ac-bfb559b7d876\" xlink:show=\"new\" xlink:title=\"psysml:15193c6f-79c7-4ee2-a2ac-bfb559b7d876\" xlink:type=\"simple\"><rect fill=\"#FEFECE\" filter=\"url(#ft3yridohhjr6)\" height=\"55.9688\" id=\"E3\" rx=\"10\" ry=\"10\" style=\"stroke: #A80036; stroke-width: 1.5;\" width=\"58\" x=\"90\" y=\"303\"/><ellipse cx=\"109.5\" cy=\"319\" fill=\"#B6DBBB\" rx=\"11\" ry=\"11\" style=\"stroke: #A80036; stroke-width: 1.0;\"/><path d=\"M105.375,320.9219 L105.375,313.1094 L107.8281,313.1094 L107.8281,321.5469 Q107.8281,322.4688 108.2969,323 Q108.7813,323.5313 109.6094,323.5313 Q110.4531,323.5313 110.9219,323 Q111.3906,322.4688 111.3906,321.5469 L111.3906,313.1094 L113.8438,313.1094 L113.8438,320.9219 Q113.8438,323.4531 112.8438,324.5938 Q111.8438,325.7344 109.6094,325.7344 Q107.3906,325.7344 106.375,324.5938 Q105.375,323.4531 105.375,320.9219 Z \"/><text fill=\"#000000\" font-family=\"sans-serif\" font-size=\"12\" lengthAdjust=\"spacingAndGlyphs\" textLength=\"16\" x=\"124.5\" y=\"323.1543\">S2</text><line style=\"stroke: #A80036; stroke-width: 1.0;\" x1=\"90\" x2=\"148\" y1=\"335\" y2=\"335\"/><text fill=\"#000000\" font-family=\"sans-serif\" font-size=\"12\" font-weight=\"bold\" lengthAdjust=\"spacingAndGlyphs\" textLength=\"18\" x=\"95\" y=\"348.1387\">do</text><text fill=\"#000000\" font-family=\"sans-serif\" font-size=\"12\" lengthAdjust=\"spacingAndGlyphs\" textLength=\"4\" x=\"113\" y=\"348.1387\">/</text></a></g><!--MD5=[cff944eb183b832d446717a4e202d613]\n",
       "link *start*E1 to E2--><a href=\"psysml:50e6b136-bb64-4da5-b9f3-893462631a2b\" target=\"_top\" title=\"psysml:50e6b136-bb64-4da5-b9f3-893462631a2b\" xlink:actuate=\"onRequest\" xlink:href=\"psysml:50e6b136-bb64-4da5-b9f3-893462631a2b\" xlink:show=\"new\" xlink:title=\"psysml:50e6b136-bb64-4da5-b9f3-893462631a2b\" xlink:type=\"simple\"><path d=\"M119,125.19 C119,138.18 119,162.38 119,180.73 \" fill=\"none\" id=\"*start*E1-&gt;E2\" style=\"stroke: #A80036; stroke-width: 1.0;\"/><polygon fill=\"#A80036\" points=\"119,185.74,123,176.74,119,180.74,115,176.74,119,185.74\" style=\"stroke: #A80036; stroke-width: 1.0;\"/></a><!--MD5=[9ee7afa76ca8c509b3d216624c3a9893]\n",
       "link E3 to *end*E1--><a href=\"psysml:400438d1-4a79-4175-ae6b-80e92b548ca9\" target=\"_top\" title=\"psysml:400438d1-4a79-4175-ae6b-80e92b548ca9\" xlink:actuate=\"onRequest\" xlink:href=\"psysml:400438d1-4a79-4175-ae6b-80e92b548ca9\" xlink:show=\"new\" xlink:title=\"psysml:400438d1-4a79-4175-ae6b-80e92b548ca9\" xlink:type=\"simple\"><path d=\"M119,359.07 C119,381.55 119,412.67 119,430.63 \" fill=\"none\" id=\"E3-&gt;*end*E1\" style=\"stroke: #A80036; stroke-width: 1.0;\"/><polygon fill=\"#A80036\" points=\"119,435.76,123,426.76,119,430.76,115,426.76,119,435.76\" style=\"stroke: #A80036; stroke-width: 1.0;\"/><text fill=\"#000000\" font-family=\"sans-serif\" font-size=\"13\" lengthAdjust=\"spacingAndGlyphs\" textLength=\"23\" x=\"120\" y=\"402.0669\">Exit</text></a><!--MD5=[2720a5a1f2c3fca2055b230370638851]\n",
       "link E2 to E3--><a href=\"psysml:516b9b87-0f3c-4a45-97aa-978805331ddd\" target=\"_top\" title=\"psysml:516b9b87-0f3c-4a45-97aa-978805331ddd\" xlink:actuate=\"onRequest\" xlink:href=\"psysml:516b9b87-0f3c-4a45-97aa-978805331ddd\" xlink:show=\"new\" xlink:title=\"psysml:516b9b87-0f3c-4a45-97aa-978805331ddd\" xlink:type=\"simple\"><path d=\"M92.25,219.17 C70.47,230.99 44.88,250.43 55,273 C61.51,287.51 73.74,299.85 85.79,309.29 \" fill=\"none\" id=\"E2-&gt;E3\" style=\"stroke: #A80036; stroke-width: 1.0;\"/><polygon fill=\"#A80036\" points=\"89.86,312.38,85.0945,303.7609,85.872,309.364,80.2689,310.1416,89.86,312.38\" style=\"stroke: #A80036; stroke-width: 1.0;\"/><text fill=\"#000000\" font-family=\"sans-serif\" font-size=\"13\" lengthAdjust=\"spacingAndGlyphs\" textLength=\"81\" x=\"56\" y=\"269.0669\">Sig /action D</text></a><!--MD5=[05d275557350bfb9b23a4ef7222b4c39]\n",
       "link E3 to E2--><a href=\"psysml:0976314e-a9f7-4444-bafa-f8883db64fa0\" target=\"_top\" title=\"psysml:0976314e-a9f7-4444-bafa-f8883db64fa0\" xlink:actuate=\"onRequest\" xlink:href=\"psysml:0976314e-a9f7-4444-bafa-f8883db64fa0\" xlink:show=\"new\" xlink:title=\"psysml:0976314e-a9f7-4444-bafa-f8883db64fa0\" xlink:type=\"simple\"><path d=\"M134.55,302.88 C140.68,289 145.51,271.76 142,256 C140.1,247.49 136.56,238.72 132.82,230.99 \" fill=\"none\" id=\"E3-&gt;E2\" style=\"stroke: #A80036; stroke-width: 1.0;\"/><polygon fill=\"#A80036\" points=\"130.47,226.32,130.9298,236.1581,132.7118,230.7893,138.0806,232.5713,130.47,226.32\" style=\"stroke: #A80036; stroke-width: 1.0;\"/><text fill=\"#000000\" font-family=\"sans-serif\" font-size=\"13\" lengthAdjust=\"spacingAndGlyphs\" textLength=\"135\" x=\"144\" y=\"269.0669\">Sig [true]/send s to p</text></a><!--MD5=[e9676f8e02250e658eae7307110243a5]\n",
       "@startuml\r\n",
       " \r\n",
       "rec def \"S\" as E1  <<(T,blue)state def>> [[psysml:409d967c-2b55-4985-b068-ed253d96c58c ]] {\r\n",
       "rec usage \"S1\" as E2 [[psysml:5ea02985-bc8b-4cb1-bb08-c3caa7c881e0 ]] {\r\n",
       "}\r\n",
       "\r\n",
       "rec usage \"S2\" as E3 [[psysml:15193c6f-79c7-4ee2-a2ac-bfb559b7d876 ]] {\r\n",
       "desc \"S2\" as E3  : **do**/ \r\n",
       "}\r\n",
       "\r\n",
       "[*] - -> E2 [[psysml:50e6b136-bb64-4da5-b9f3-893462631a2b ]] \r\n",
       "E3  - -> [*] [[psysml:400438d1-4a79-4175-ae6b-80e92b548ca9 ]] : Exit \r\n",
       "desc \"S\" as E1  : **entry**/ A\r\n",
       "desc \"S\" as E1  : **do**/ B\r\n",
       "desc \"S\" as E1  : **exit**/ act \r\n",
       "}\r\n",
       "\r\n",
       "E2  - -> E3 [[psysml:516b9b87-0f3c-4a45-97aa-978805331ddd ]] : Sig /action D\r\n",
       "E3  - -> E2 [[psysml:0976314e-a9f7-4444-bafa-f8883db64fa0 ]] : Sig [true]/send s to p\r\n",
       "@enduml\r\n",
       "\n",
       "PlantUML version 1.2020.13(Sat Jun 13 12:26:38 UTC 2020)\n",
       "(EPL source distribution)\n",
       "Java Runtime: OpenJDK Runtime Environment\n",
       "JVM: OpenJDK 64-Bit Server VM\n",
       "Default Encoding: UTF-8\n",
       "Language: en\n",
       "Country: null\n",
       "--></g></svg>"
      ]
     },
     "execution_count": 4,
     "metadata": {},
     "output_type": "execute_result"
    }
   ],
   "source": [
    "%viz --style=\"COMPTREE\" --view=\"State\" \"StateTest\""
   ]
  },
  {
   "cell_type": "code",
   "execution_count": 5,
   "id": "rising-memorial",
   "metadata": {
    "execution": {
     "iopub.execute_input": "2021-03-26T09:13:51.547764Z",
     "iopub.status.busy": "2021-03-26T09:13:51.547244Z",
     "iopub.status.idle": "2021-03-26T09:13:51.585318Z",
     "shell.execute_reply": "2021-03-26T09:13:51.583985Z"
    }
   },
   "outputs": [
    {
     "data": {
      "image/svg+xml": [
       "<?xml version=\"1.0\" encoding=\"UTF-8\" standalone=\"no\"?><svg xmlns=\"http://www.w3.org/2000/svg\" xmlns:xlink=\"http://www.w3.org/1999/xlink\" contentScriptType=\"application/ecmascript\" contentStyleType=\"text/css\" height=\"123px\" preserveAspectRatio=\"none\" style=\"width:831px;height:123px;\" version=\"1.1\" viewBox=\"0 0 831 123\" width=\"831px\" zoomAndPan=\"magnify\"><defs><filter height=\"300%\" id=\"fg6oph80pf9x7\" width=\"300%\" x=\"-1\" y=\"-1\"><feGaussianBlur result=\"blurOut\" stdDeviation=\"2.0\"/><feColorMatrix in=\"blurOut\" result=\"blurOut2\" type=\"matrix\" values=\"0 0 0 0 0 0 0 0 0 0 0 0 0 0 0 0 0 0 .4 0\"/><feOffset dx=\"4.0\" dy=\"4.0\" in=\"blurOut2\" result=\"blurOut3\"/><feBlend in=\"SourceGraphic\" in2=\"blurOut3\" mode=\"normal\"/></filter></defs><g><!--MD5=[fbc87193dbaf4d95561dea2c320d4a47]\n",
       "cluster E1--><a href=\"psysml:9c548ee6-d869-4820-b951-32f5a4e72165\" target=\"_top\" title=\"psysml:9c548ee6-d869-4820-b951-32f5a4e72165\" xlink:actuate=\"onRequest\" xlink:href=\"psysml:9c548ee6-d869-4820-b951-32f5a4e72165\" xlink:show=\"new\" xlink:title=\"psysml:9c548ee6-d869-4820-b951-32f5a4e72165\" xlink:type=\"simple\"><polygon fill=\"#FFFFFF\" filter=\"url(#fg6oph80pf9x7)\" points=\"16,6,98,6,105,28.2969,809,28.2969,809,111,16,111,16,6\" style=\"stroke: #000000; stroke-width: 1.5;\"/><line style=\"stroke: #000000; stroke-width: 1.5;\" x1=\"16\" x2=\"105\" y1=\"28.2969\" y2=\"28.2969\"/><text fill=\"#000000\" font-family=\"sans-serif\" font-size=\"14\" font-weight=\"bold\" lengthAdjust=\"spacingAndGlyphs\" textLength=\"76\" x=\"20\" y=\"20.9951\">StateTest</text></a><!--MD5=[b4997ac47864f28c2f74865a473b2911]\n",
       "class E2--><a href=\"psysml:7a2ca9b4-3a97-4e8a-92f8-a9f50dc832cb\" target=\"_top\" title=\"psysml:7a2ca9b4-3a97-4e8a-92f8-a9f50dc832cb\" xlink:actuate=\"onRequest\" xlink:href=\"psysml:7a2ca9b4-3a97-4e8a-92f8-a9f50dc832cb\" xlink:show=\"new\" xlink:title=\"psysml:7a2ca9b4-3a97-4e8a-92f8-a9f50dc832cb\" xlink:type=\"simple\"><rect fill=\"#FEFECE\" filter=\"url(#fg6oph80pf9x7)\" height=\"53.9375\" id=\"E2\" style=\"stroke: #A80036; stroke-width: 1.5;\" width=\"169\" x=\"624.5\" y=\"41\"/><ellipse cx=\"639.5\" cy=\"59.9688\" fill=\"#ADD1B2\" rx=\"11\" ry=\"11\" style=\"stroke: #A80036; stroke-width: 1.0;\"/><path d=\"M642.4688,65.6094 Q641.8906,65.9063 641.25,66.0469 Q640.6094,66.2031 639.9063,66.2031 Q637.4063,66.2031 636.0781,64.5625 Q634.7656,62.9063 634.7656,59.7813 Q634.7656,56.6563 636.0781,55 Q637.4063,53.3438 639.9063,53.3438 Q640.6094,53.3438 641.25,53.5 Q641.9063,53.6563 642.4688,53.9531 L642.4688,56.6719 Q641.8438,56.0938 641.25,55.8281 Q640.6563,55.5469 640.0313,55.5469 Q638.6875,55.5469 638,56.625 Q637.3125,57.6875 637.3125,59.7813 Q637.3125,61.875 638,62.9531 Q638.6875,64.0156 640.0313,64.0156 Q640.6563,64.0156 641.25,63.75 Q641.8438,63.4688 642.4688,62.8906 L642.4688,65.6094 Z \"/><text fill=\"#000000\" font-family=\"sans-serif\" font-size=\"12\" font-style=\"italic\" lengthAdjust=\"spacingAndGlyphs\" textLength=\"141\" x=\"651.5\" y=\"57.1387\">«(T,blue)attribute def»</text><text fill=\"#000000\" font-family=\"sans-serif\" font-size=\"12\" lengthAdjust=\"spacingAndGlyphs\" textLength=\"19\" x=\"712.5\" y=\"71.1074\">Sig</text><line style=\"stroke: #A80036; stroke-width: 1.5;\" x1=\"625.5\" x2=\"792.5\" y1=\"78.9375\" y2=\"78.9375\"/><line style=\"stroke: #A80036; stroke-width: 1.5;\" x1=\"625.5\" x2=\"792.5\" y1=\"86.9375\" y2=\"86.9375\"/></a><!--MD5=[09b614a08d8cba4a07c9adeb5e0fee81]\n",
       "class E3--><a href=\"psysml:30361623-caf7-482c-9813-174242dd8f3c\" target=\"_top\" title=\"psysml:30361623-caf7-482c-9813-174242dd8f3c\" xlink:actuate=\"onRequest\" xlink:href=\"psysml:30361623-caf7-482c-9813-174242dd8f3c\" xlink:show=\"new\" xlink:title=\"psysml:30361623-caf7-482c-9813-174242dd8f3c\" xlink:type=\"simple\"><rect fill=\"#FEFECE\" filter=\"url(#fg6oph80pf9x7)\" height=\"53.9375\" id=\"E3\" style=\"stroke: #A80036; stroke-width: 1.5;\" width=\"169\" x=\"420.5\" y=\"41\"/><ellipse cx=\"435.5\" cy=\"59.9688\" fill=\"#ADD1B2\" rx=\"11\" ry=\"11\" style=\"stroke: #A80036; stroke-width: 1.0;\"/><path d=\"M438.4688,65.6094 Q437.8906,65.9063 437.25,66.0469 Q436.6094,66.2031 435.9063,66.2031 Q433.4063,66.2031 432.0781,64.5625 Q430.7656,62.9063 430.7656,59.7813 Q430.7656,56.6563 432.0781,55 Q433.4063,53.3438 435.9063,53.3438 Q436.6094,53.3438 437.25,53.5 Q437.9063,53.6563 438.4688,53.9531 L438.4688,56.6719 Q437.8438,56.0938 437.25,55.8281 Q436.6563,55.5469 436.0313,55.5469 Q434.6875,55.5469 434,56.625 Q433.3125,57.6875 433.3125,59.7813 Q433.3125,61.875 434,62.9531 Q434.6875,64.0156 436.0313,64.0156 Q436.6563,64.0156 437.25,63.75 Q437.8438,63.4688 438.4688,62.8906 L438.4688,65.6094 Z \"/><text fill=\"#000000\" font-family=\"sans-serif\" font-size=\"12\" font-style=\"italic\" lengthAdjust=\"spacingAndGlyphs\" textLength=\"141\" x=\"447.5\" y=\"57.1387\">«(T,blue)attribute def»</text><text fill=\"#000000\" font-family=\"sans-serif\" font-size=\"12\" lengthAdjust=\"spacingAndGlyphs\" textLength=\"22\" x=\"507\" y=\"71.1074\">Exit</text><line style=\"stroke: #A80036; stroke-width: 1.5;\" x1=\"421.5\" x2=\"588.5\" y1=\"78.9375\" y2=\"78.9375\"/><line style=\"stroke: #A80036; stroke-width: 1.5;\" x1=\"421.5\" x2=\"588.5\" y1=\"86.9375\" y2=\"86.9375\"/></a><!--MD5=[60a26617385b1d2d0262a64233df1f8d]\n",
       "class E6--><a href=\"psysml:409d967c-2b55-4985-b068-ed253d96c58c\" target=\"_top\" title=\"psysml:409d967c-2b55-4985-b068-ed253d96c58c\" xlink:actuate=\"onRequest\" xlink:href=\"psysml:409d967c-2b55-4985-b068-ed253d96c58c\" xlink:show=\"new\" xlink:title=\"psysml:409d967c-2b55-4985-b068-ed253d96c58c\" xlink:type=\"simple\"><rect fill=\"#FEFECE\" filter=\"url(#fg6oph80pf9x7)\" height=\"53.9375\" id=\"E6\" style=\"stroke: #A80036; stroke-width: 1.5;\" width=\"147\" x=\"238.5\" y=\"41\"/><ellipse cx=\"253.5\" cy=\"59.9688\" fill=\"#ADD1B2\" rx=\"11\" ry=\"11\" style=\"stroke: #A80036; stroke-width: 1.0;\"/><path d=\"M256.4688,65.6094 Q255.8906,65.9063 255.25,66.0469 Q254.6094,66.2031 253.9063,66.2031 Q251.4063,66.2031 250.0781,64.5625 Q248.7656,62.9063 248.7656,59.7813 Q248.7656,56.6563 250.0781,55 Q251.4063,53.3438 253.9063,53.3438 Q254.6094,53.3438 255.25,53.5 Q255.9063,53.6563 256.4688,53.9531 L256.4688,56.6719 Q255.8438,56.0938 255.25,55.8281 Q254.6563,55.5469 254.0313,55.5469 Q252.6875,55.5469 252,56.625 Q251.3125,57.6875 251.3125,59.7813 Q251.3125,61.875 252,62.9531 Q252.6875,64.0156 254.0313,64.0156 Q254.6563,64.0156 255.25,63.75 Q255.8438,63.4688 256.4688,62.8906 L256.4688,65.6094 Z \"/><text fill=\"#000000\" font-family=\"sans-serif\" font-size=\"12\" font-style=\"italic\" lengthAdjust=\"spacingAndGlyphs\" textLength=\"119\" x=\"265.5\" y=\"57.1387\">«(T,blue)state def»</text><text fill=\"#000000\" font-family=\"sans-serif\" font-size=\"12\" lengthAdjust=\"spacingAndGlyphs\" textLength=\"8\" x=\"321\" y=\"71.1074\">S</text><line style=\"stroke: #A80036; stroke-width: 1.5;\" x1=\"239.5\" x2=\"384.5\" y1=\"78.9375\" y2=\"78.9375\"/><line style=\"stroke: #A80036; stroke-width: 1.5;\" x1=\"239.5\" x2=\"384.5\" y1=\"86.9375\" y2=\"86.9375\"/></a><g id=\"E1.E4\"><a href=\"psysml:86d86843-d597-4d6e-917a-885d695bc43d\" target=\"_top\" title=\"psysml:86d86843-d597-4d6e-917a-885d695bc43d\" xlink:actuate=\"onRequest\" xlink:href=\"psysml:86d86843-d597-4d6e-917a-885d695bc43d\" xlink:show=\"new\" xlink:title=\"psysml:86d86843-d597-4d6e-917a-885d695bc43d\" xlink:type=\"simple\"><rect fill=\"#FEFECE\" filter=\"url(#fg6oph80pf9x7)\" height=\"40\" id=\"E4\" rx=\"10\" ry=\"10\" style=\"stroke: #A80036; stroke-width: 1.5;\" width=\"50\" x=\"153\" y=\"48\"/><ellipse cx=\"172.5\" cy=\"64\" fill=\"#B6DBBB\" rx=\"11\" ry=\"11\" style=\"stroke: #A80036; stroke-width: 1.0;\"/><path d=\"M168.375,65.9219 L168.375,58.1094 L170.8281,58.1094 L170.8281,66.5469 Q170.8281,67.4688 171.2969,68 Q171.7813,68.5313 172.6094,68.5313 Q173.4531,68.5313 173.9219,68 Q174.3906,67.4688 174.3906,66.5469 L174.3906,58.1094 L176.8438,58.1094 L176.8438,65.9219 Q176.8438,68.4531 175.8438,69.5938 Q174.8438,70.7344 172.6094,70.7344 Q170.3906,70.7344 169.375,69.5938 Q168.375,68.4531 168.375,65.9219 Z \"/><text fill=\"#000000\" font-family=\"sans-serif\" font-size=\"12\" lengthAdjust=\"spacingAndGlyphs\" textLength=\"8\" x=\"187.5\" y=\"68.1543\">p</text></a></g><g id=\"E1.E5\"><a href=\"psysml:6cb3785d-90e3-4021-b607-f0ab9874924c\" target=\"_top\" title=\"psysml:6cb3785d-90e3-4021-b607-f0ab9874924c\" xlink:actuate=\"onRequest\" xlink:href=\"psysml:6cb3785d-90e3-4021-b607-f0ab9874924c\" xlink:show=\"new\" xlink:title=\"psysml:6cb3785d-90e3-4021-b607-f0ab9874924c\" xlink:type=\"simple\"><rect fill=\"#FEFECE\" filter=\"url(#fg6oph80pf9x7)\" height=\"42.9375\" id=\"E5\" rx=\"10\" ry=\"10\" style=\"stroke: #A80036; stroke-width: 1.5;\" width=\"86\" x=\"32\" y=\"46.5\"/><ellipse cx=\"49.25\" cy=\"65.4688\" fill=\"#0000FF\" rx=\"11\" ry=\"11\" style=\"stroke: #A80036; stroke-width: 1.0;\"/><path d=\"M50.0938,72.2188 L47.6406,72.2188 L47.6406,61.9688 L44.5,61.9688 L44.5,59.8281 L53.2344,59.8281 L53.2344,61.9688 L50.0938,61.9688 L50.0938,72.2188 Z \"/><text fill=\"#000000\" font-family=\"sans-serif\" font-size=\"12\" font-style=\"italic\" lengthAdjust=\"spacingAndGlyphs\" textLength=\"53\" x=\"61.75\" y=\"62.6387\">«action»</text><text fill=\"#000000\" font-family=\"sans-serif\" font-size=\"12\" lengthAdjust=\"spacingAndGlyphs\" textLength=\"20\" x=\"78.25\" y=\"76.6074\">act</text></a></g><!--MD5=[5f236afaa6a0d4486b6fb3f332e13b5e]\n",
       "@startuml\r\n",
       "skinparam ranksep 8\r\n",
       "skinparam rectangle {\r\n",
       " backgroundColor<<block>> LightGreen\r\n",
       "}\r\n",
       " \r\n",
       "package \"StateTest\" as E1  [[psysml:9c548ee6-d869-4820-b951-32f5a4e72165 ]]  {\r\n",
       "def \"Sig\" as E2  <<(T,blue)attribute def>> [[psysml:7a2ca9b4-3a97-4e8a-92f8-a9f50dc832cb ]] \r\n",
       "def \"Exit\" as E3  <<(T,blue)attribute def>> [[psysml:30361623-caf7-482c-9813-174242dd8f3c ]] \r\n",
       "rec usage \"p\" as E4  [[psysml:86d86843-d597-4d6e-917a-885d695bc43d ]] {\r\n",
       "}\r\n",
       "rec usage \"act\" as E5  <<(T,blue)action>> [[psysml:6cb3785d-90e3-4021-b607-f0ab9874924c ]] {\r\n",
       "}\r\n",
       "def \"S\" as E6  <<(T,blue)state def>> [[psysml:409d967c-2b55-4985-b068-ed253d96c58c ]] \r\n",
       "}\r\n",
       "@enduml\r\n",
       "\n",
       "PlantUML version 1.2020.13(Sat Jun 13 12:26:38 UTC 2020)\n",
       "(EPL source distribution)\n",
       "Java Runtime: OpenJDK Runtime Environment\n",
       "JVM: OpenJDK 64-Bit Server VM\n",
       "Default Encoding: UTF-8\n",
       "Language: en\n",
       "Country: null\n",
       "--></g></svg>"
      ]
     },
     "execution_count": 5,
     "metadata": {},
     "output_type": "execute_result"
    }
   ],
   "source": [
    "%viz --style=\"COMPTREE\" --view=\"Interconnection\" \"StateTest\""
   ]
  },
  {
   "cell_type": "code",
   "execution_count": 6,
   "id": "african-washer",
   "metadata": {
    "execution": {
     "iopub.execute_input": "2021-03-26T09:13:51.636185Z",
     "iopub.status.busy": "2021-03-26T09:13:51.635605Z",
     "iopub.status.idle": "2021-03-26T09:13:51.767765Z",
     "shell.execute_reply": "2021-03-26T09:13:51.766491Z"
    }
   },
   "outputs": [
    {
     "data": {
      "image/svg+xml": [
       "<?xml version=\"1.0\" encoding=\"UTF-8\" standalone=\"no\"?><svg xmlns=\"http://www.w3.org/2000/svg\" xmlns:xlink=\"http://www.w3.org/1999/xlink\" contentScriptType=\"application/ecmascript\" contentStyleType=\"text/css\" height=\"497px\" preserveAspectRatio=\"none\" style=\"width:794px;height:497px;background:#000000;\" version=\"1.1\" viewBox=\"0 0 794 497\" width=\"794px\" zoomAndPan=\"magnify\"><defs/><g><rect fill=\"#010A18\" height=\"1\" style=\"stroke: #010A18; stroke-width: 1.0;\" width=\"1\" x=\"0\" y=\"0\"/><rect fill=\"#FFFFFF\" height=\"53\" style=\"stroke: #FFFFFF; stroke-width: 1.0;\" width=\"793\" x=\"0\" y=\"0\"/><image height=\"53\" width=\"450\" x=\"1\" xlink:href=\"data:image/png;base64,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\" y=\"1\"/><rect fill=\"#000000\" height=\"389.8281\" style=\"stroke: #000000; stroke-width: 1.0;\" width=\"793\" x=\"0\" y=\"53\"/><rect fill=\"#33FF02\" height=\"21.2969\" style=\"stroke: #33FF02; stroke-width: 1.0;\" width=\"783\" x=\"5\" y=\"58\"/><text fill=\"#000000\" font-family=\"sans-serif\" font-size=\"14\" font-weight=\"bold\" lengthAdjust=\"spacingAndGlyphs\" textLength=\"178\" x=\"6\" y=\"73\">[From string (line 20) ]</text><text fill=\"#33FF02\" font-family=\"sans-serif\" font-size=\"14\" font-weight=\"bold\" lengthAdjust=\"spacingAndGlyphs\" textLength=\"0\" x=\"10\" y=\"93.2969\"/><text fill=\"#33FF02\" font-family=\"sans-serif\" font-size=\"14\" font-weight=\"bold\" lengthAdjust=\"spacingAndGlyphs\" textLength=\"79\" x=\"5\" y=\"109.5938\">@startuml</text><text fill=\"#33FF02\" font-family=\"sans-serif\" font-size=\"14\" font-weight=\"bold\" lengthAdjust=\"spacingAndGlyphs\" textLength=\"165\" x=\"5\" y=\"125.8906\">skinparam ranksep 8</text><text fill=\"#33FF02\" font-family=\"sans-serif\" font-size=\"14\" font-weight=\"bold\" lengthAdjust=\"spacingAndGlyphs\" textLength=\"0\" x=\"10\" y=\"142.1875\"/><text fill=\"#33FF02\" font-family=\"sans-serif\" font-size=\"14\" font-weight=\"bold\" lengthAdjust=\"spacingAndGlyphs\" textLength=\"783\" x=\"5\" y=\"158.4844\">rec usage \"act\" as E1  &lt;&lt;(T,blue)action&gt;&gt; [[psysml:6cb3785d-90e3-4021-b607-f0ab9874924c ]] {</text><text fill=\"#33FF02\" font-family=\"sans-serif\" font-size=\"14\" font-weight=\"bold\" lengthAdjust=\"spacingAndGlyphs\" textLength=\"10\" x=\"5\" y=\"174.7813\">}</text><text fill=\"#33FF02\" font-family=\"sans-serif\" font-size=\"14\" font-weight=\"bold\" lengthAdjust=\"spacingAndGlyphs\" textLength=\"0\" x=\"10\" y=\"191.0781\"/><text fill=\"#33FF02\" font-family=\"sans-serif\" font-size=\"14\" font-weight=\"bold\" lengthAdjust=\"spacingAndGlyphs\" textLength=\"774\" x=\"5\" y=\"207.375\">rec def \"S\" as E2  &lt;&lt;(T,blue)state def&gt;&gt; [[psysml:409d967c-2b55-4985-b068-ed253d96c58c ]] {</text><text fill=\"#33FF02\" font-family=\"sans-serif\" font-size=\"14\" font-weight=\"bold\" lengthAdjust=\"spacingAndGlyphs\" textLength=\"779\" x=\"5\" y=\"223.6719\">rec usage \"A\" as E3 &lt;&lt;perform action&gt;&gt; [[psysml:07283d54-b2b4-4955-9e37-5e3a59051776 ]] {</text><text fill=\"#33FF02\" font-family=\"sans-serif\" font-size=\"14\" font-weight=\"bold\" lengthAdjust=\"spacingAndGlyphs\" textLength=\"10\" x=\"5\" y=\"239.9688\">}</text><text fill=\"#33FF02\" font-family=\"sans-serif\" font-size=\"14\" font-weight=\"bold\" lengthAdjust=\"spacingAndGlyphs\" textLength=\"0\" x=\"10\" y=\"256.2656\"/><text fill=\"#33FF02\" font-family=\"sans-serif\" font-size=\"14\" font-weight=\"bold\" lengthAdjust=\"spacingAndGlyphs\" textLength=\"769\" x=\"5\" y=\"272.5625\">rec usage \"B\" as E4 &lt;&lt;perform action&gt;&gt; [[psysml:2d4c422d-af2d-4b90-a848-9846cea61c20 ]] {</text><text fill=\"#33FF02\" font-family=\"sans-serif\" font-size=\"14\" font-weight=\"bold\" lengthAdjust=\"spacingAndGlyphs\" textLength=\"10\" x=\"5\" y=\"288.8594\">}</text><text fill=\"#33FF02\" font-family=\"sans-serif\" font-size=\"14\" font-weight=\"bold\" lengthAdjust=\"spacingAndGlyphs\" textLength=\"0\" x=\"10\" y=\"305.1563\"/><text fill=\"#33FF02\" font-family=\"sans-serif\" font-size=\"14\" font-weight=\"bold\" lengthAdjust=\"spacingAndGlyphs\" textLength=\"769\" x=\"5\" y=\"321.4531\">rec usage \"act\" as E5 &lt;&lt;perform action&gt;&gt; [[psysml:eca97873-f4f2-4a4b-84f1-fbd6bb9f01a4 ]] {</text><text fill=\"#33FF02\" font-family=\"sans-serif\" font-size=\"14\" font-weight=\"bold\" lengthAdjust=\"spacingAndGlyphs\" textLength=\"10\" x=\"5\" y=\"337.75\">}</text><text fill=\"#33FF02\" font-family=\"sans-serif\" font-size=\"14\" font-weight=\"bold\" lengthAdjust=\"spacingAndGlyphs\" textLength=\"0\" x=\"10\" y=\"354.0469\"/><text fill=\"#33FF02\" font-family=\"sans-serif\" font-size=\"14\" font-weight=\"bold\" lengthAdjust=\"spacingAndGlyphs\" textLength=\"770\" x=\"5\" y=\"370.3438\">rec usage \"S1\" as E6  &lt;&lt;(T,blue)state&gt;&gt; [[psysml:5ea02985-bc8b-4cb1-bb08-c3caa7c881e0 ]] {</text><text fill=\"#33FF02\" font-family=\"sans-serif\" font-size=\"14\" font-weight=\"bold\" lengthAdjust=\"spacingAndGlyphs\" textLength=\"10\" x=\"5\" y=\"386.6406\">}</text><text fill=\"#33FF02\" font-family=\"sans-serif\" font-size=\"14\" font-weight=\"bold\" lengthAdjust=\"spacingAndGlyphs\" textLength=\"0\" x=\"10\" y=\"402.9375\"/><text fill=\"#33FF02\" font-family=\"sans-serif\" font-size=\"14\" font-weight=\"bold\" lengthAdjust=\"spacingAndGlyphs\" textLength=\"10\" x=\"5\" y=\"419.2344\">{</text><text fill=\"#FF0000\" font-family=\"sans-serif\" font-size=\"14\" font-weight=\"bold\" lengthAdjust=\"spacingAndGlyphs\" textLength=\"106\" x=\"10\" y=\"435.5313\">Syntax Error?</text><rect fill=\"#FFFFFF\" height=\"53\" style=\"stroke: #FFFFFF; stroke-width: 1.0;\" width=\"793\" x=\"0\" y=\"442.8281\"/><image height=\"53\" width=\"450\" x=\"1\" xlink:href=\"data:image/png;base64,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\" y=\"443.8281\"/><!--MD5=[ffa04e573c6ff45cae2c530569bfcdc7]\n",
       "@startuml\r\n",
       "skinparam ranksep 8\r\n",
       " \r\n",
       "rec usage \"act\" as E1  <<(T,blue)action>> [[psysml:6cb3785d-90e3-4021-b607-f0ab9874924c ]] {\r\n",
       "}\r\n",
       "\r\n",
       "rec def \"S\" as E2  <<(T,blue)state def>> [[psysml:409d967c-2b55-4985-b068-ed253d96c58c ]] {\r\n",
       "rec usage \"A\" as E3 <<perform action>> [[psysml:07283d54-b2b4-4955-9e37-5e3a59051776 ]] {\r\n",
       "}\r\n",
       "\r\n",
       "rec usage \"B\" as E4 <<perform action>> [[psysml:2d4c422d-af2d-4b90-a848-9846cea61c20 ]] {\r\n",
       "}\r\n",
       "\r\n",
       "rec usage \"act\" as E5 <<perform action>> [[psysml:eca97873-f4f2-4a4b-84f1-fbd6bb9f01a4 ]] {\r\n",
       "}\r\n",
       "\r\n",
       "rec usage \"S1\" as E6  <<(T,blue)state>> [[psysml:5ea02985-bc8b-4cb1-bb08-c3caa7c881e0 ]] {\r\n",
       "}\r\n",
       "\r\n",
       "{\r\n",
       "{\r\n",
       "}\r\n",
       "\r\n",
       "rec usage \"D\" as E7 <<perform action>> [[psysml:eaf0a112-33b0-4093-95e1-7dab572fe2f4 ]] {\r\n",
       "}\r\n",
       "\r\n",
       "}\r\n",
       "\r\n",
       "rec usage \"S2\" as E8  <<(T,blue)state>> [[psysml:15193c6f-79c7-4ee2-a2ac-bfb559b7d876 ]] {\r\n",
       "rec usage \"doAction\" as E9 <<send action>> [[psysml:02a264b3-17c4-490c-b5b1-f49bb5aa02c2 ]] {\r\n",
       "portin \"$x\" as E10  [[psysml:96622066-d3a2-4541-bee3-ae5bc19ea7c3 ]] \r\n",
       "portout \"$result\" as E11  [[psysml:b808addd-9ba8-4500-978c-50cd1b025f8a ]] \r\n",
       "}\r\n",
       "\r\n",
       "}\r\n",
       "\r\n",
       "{\r\n",
       "{\r\n",
       "}\r\n",
       "\r\n",
       "}\r\n",
       "\r\n",
       "rec usage \"T\" as E12  <<(T,blue)transition>> [[psysml:0976314e-a9f7-4444-bafa-f8883db64fa0 ]] {\r\n",
       "rec usage \"S2\" as E13  <<(T,blue)state>> [[psysml:15193c6f-79c7-4ee2-a2ac-bfb559b7d876 ]] {\r\n",
       "rec usage \"doAction\" as E14 <<send action>> [[psysml:02a264b3-17c4-490c-b5b1-f49bb5aa02c2 ]] {\r\n",
       "portin \"$x\" as E15  [[psysml:96622066-d3a2-4541-bee3-ae5bc19ea7c3 ]] \r\n",
       "portout \"$result\" as E16  [[psysml:b808addd-9ba8-4500-978c-50cd1b025f8a ]] \r\n",
       "}\r\n",
       "\r\n",
       "}\r\n",
       "\r\n",
       "{\r\n",
       "}\r\n",
       "\r\n",
       "portout \"$result\" as E17  [[psysml:8f7ffd4e-8810-46d2-96d4-50dc0ef167c4 ]] \r\n",
       "{\r\n",
       "}\r\n",
       "\r\n",
       "}\r\n",
       "\r\n",
       "}\r\n",
       "\r\n",
       "@enduml\r\n",
       "\n",
       "PlantUML version 1.2020.13(Sat Jun 13 12:26:38 UTC 2020)\n",
       "(EPL source distribution)\n",
       "Java Runtime: OpenJDK Runtime Environment\n",
       "JVM: OpenJDK 64-Bit Server VM\n",
       "Default Encoding: UTF-8\n",
       "Language: en\n",
       "Country: null\n",
       "--></g></svg>"
      ]
     },
     "execution_count": 6,
     "metadata": {},
     "output_type": "execute_result"
    }
   ],
   "source": [
    "%viz --style=\"COMPTREE\" --view=\"Action\" \"StateTest\""
   ]
  },
  {
   "cell_type": "code",
   "execution_count": 7,
   "id": "ethical-spread",
   "metadata": {
    "execution": {
     "iopub.execute_input": "2021-03-26T09:13:51.820595Z",
     "iopub.status.busy": "2021-03-26T09:13:51.820118Z",
     "iopub.status.idle": "2021-03-26T09:13:51.949412Z",
     "shell.execute_reply": "2021-03-26T09:13:51.949125Z"
    }
   },
   "outputs": [
    {
     "data": {
      "image/svg+xml": [
       "<?xml version=\"1.0\" encoding=\"UTF-8\" standalone=\"no\"?><svg xmlns=\"http://www.w3.org/2000/svg\" xmlns:xlink=\"http://www.w3.org/1999/xlink\" contentScriptType=\"application/ecmascript\" contentStyleType=\"text/css\" height=\"471px\" preserveAspectRatio=\"none\" style=\"width:702px;height:471px;\" version=\"1.1\" viewBox=\"0 0 702 471\" width=\"702px\" zoomAndPan=\"magnify\"><defs><filter height=\"300%\" id=\"f1kf20cmii95x5\" width=\"300%\" x=\"-1\" y=\"-1\"><feGaussianBlur result=\"blurOut\" stdDeviation=\"2.0\"/><feColorMatrix in=\"blurOut\" result=\"blurOut2\" type=\"matrix\" values=\"0 0 0 0 0 0 0 0 0 0 0 0 0 0 0 0 0 0 .4 0\"/><feOffset dx=\"4.0\" dy=\"4.0\" in=\"blurOut2\" result=\"blurOut3\"/><feBlend in=\"SourceGraphic\" in2=\"blurOut3\" mode=\"normal\"/></filter></defs><g><!--MD5=[fbc87193dbaf4d95561dea2c320d4a47]\n",
       "cluster E1--><a href=\"psysml:9c548ee6-d869-4820-b951-32f5a4e72165\" target=\"_top\" title=\"psysml:9c548ee6-d869-4820-b951-32f5a4e72165\" xlink:actuate=\"onRequest\" xlink:href=\"psysml:9c548ee6-d869-4820-b951-32f5a4e72165\" xlink:show=\"new\" xlink:title=\"psysml:9c548ee6-d869-4820-b951-32f5a4e72165\" xlink:type=\"simple\"><polygon fill=\"#FFFFFF\" filter=\"url(#f1kf20cmii95x5)\" points=\"16,6,98,6,105,28.2969,680,28.2969,680,459,16,459,16,6\" style=\"stroke: #000000; stroke-width: 1.5;\"/><line style=\"stroke: #000000; stroke-width: 1.5;\" x1=\"16\" x2=\"105\" y1=\"28.2969\" y2=\"28.2969\"/><text fill=\"#000000\" font-family=\"sans-serif\" font-size=\"14\" font-weight=\"bold\" lengthAdjust=\"spacingAndGlyphs\" textLength=\"76\" x=\"20\" y=\"20.9951\">StateTest</text></a><!--MD5=[b4997ac47864f28c2f74865a473b2911]\n",
       "class E2--><a href=\"psysml:7a2ca9b4-3a97-4e8a-92f8-a9f50dc832cb\" target=\"_top\" title=\"psysml:7a2ca9b4-3a97-4e8a-92f8-a9f50dc832cb\" xlink:actuate=\"onRequest\" xlink:href=\"psysml:7a2ca9b4-3a97-4e8a-92f8-a9f50dc832cb\" xlink:show=\"new\" xlink:title=\"psysml:7a2ca9b4-3a97-4e8a-92f8-a9f50dc832cb\" xlink:type=\"simple\"><rect fill=\"#FEFECE\" filter=\"url(#f1kf20cmii95x5)\" height=\"58.7422\" id=\"E2\" style=\"stroke: #A80036; stroke-width: 1.5;\" width=\"121\" x=\"542.5\" y=\"91.5\"/><ellipse cx=\"557.5\" cy=\"110.4688\" fill=\"#0000FF\" rx=\"11\" ry=\"11\" style=\"stroke: #A80036; stroke-width: 1.0;\"/><path d=\"M558.3438,117.2188 L555.8906,117.2188 L555.8906,106.9688 L552.75,106.9688 L552.75,104.8281 L561.4844,104.8281 L561.4844,106.9688 L558.3438,106.9688 L558.3438,117.2188 Z \"/><text fill=\"#000000\" font-family=\"sans-serif\" font-size=\"12\" font-style=\"italic\" lengthAdjust=\"spacingAndGlyphs\" textLength=\"93\" x=\"569.5\" y=\"107.6387\">«attribute def»</text><text fill=\"#000000\" font-family=\"sans-serif\" font-size=\"12\" lengthAdjust=\"spacingAndGlyphs\" textLength=\"19\" x=\"606.5\" y=\"121.6074\">Sig</text><line style=\"stroke: #A80036; stroke-width: 1.5;\" x1=\"543.5\" x2=\"662.5\" y1=\"129.4375\" y2=\"129.4375\"/><text fill=\"#000000\" font-family=\"sans-serif\" font-size=\"11\" lengthAdjust=\"spacingAndGlyphs\" textLength=\"6\" x=\"548.5\" y=\"143.6479\">x</text></a><!--MD5=[09b614a08d8cba4a07c9adeb5e0fee81]\n",
       "class E3--><a href=\"psysml:30361623-caf7-482c-9813-174242dd8f3c\" target=\"_top\" title=\"psysml:30361623-caf7-482c-9813-174242dd8f3c\" xlink:actuate=\"onRequest\" xlink:href=\"psysml:30361623-caf7-482c-9813-174242dd8f3c\" xlink:show=\"new\" xlink:title=\"psysml:30361623-caf7-482c-9813-174242dd8f3c\" xlink:type=\"simple\"><rect fill=\"#FEFECE\" filter=\"url(#f1kf20cmii95x5)\" height=\"45.9375\" id=\"E3\" style=\"stroke: #A80036; stroke-width: 1.5;\" width=\"121\" x=\"386.5\" y=\"98\"/><ellipse cx=\"401.5\" cy=\"116.9688\" fill=\"#0000FF\" rx=\"11\" ry=\"11\" style=\"stroke: #A80036; stroke-width: 1.0;\"/><path d=\"M402.3438,123.7188 L399.8906,123.7188 L399.8906,113.4688 L396.75,113.4688 L396.75,111.3281 L405.4844,111.3281 L405.4844,113.4688 L402.3438,113.4688 L402.3438,123.7188 Z \"/><text fill=\"#000000\" font-family=\"sans-serif\" font-size=\"12\" font-style=\"italic\" lengthAdjust=\"spacingAndGlyphs\" textLength=\"93\" x=\"413.5\" y=\"114.1387\">«attribute def»</text><text fill=\"#000000\" font-family=\"sans-serif\" font-size=\"12\" lengthAdjust=\"spacingAndGlyphs\" textLength=\"22\" x=\"449\" y=\"128.1074\">Exit</text><line style=\"stroke: #A80036; stroke-width: 1.5;\" x1=\"387.5\" x2=\"506.5\" y1=\"135.9375\" y2=\"135.9375\"/></a><!--MD5=[ebbe1d658d1005bcc118a6aa81145e00]\n",
       "class E4--><a href=\"psysml:86d86843-d597-4d6e-917a-885d695bc43d\" target=\"_top\" title=\"psysml:86d86843-d597-4d6e-917a-885d695bc43d\" xlink:actuate=\"onRequest\" xlink:href=\"psysml:86d86843-d597-4d6e-917a-885d695bc43d\" xlink:show=\"new\" xlink:title=\"psysml:86d86843-d597-4d6e-917a-885d695bc43d\" xlink:type=\"simple\"><rect fill=\"#FEFECE\" filter=\"url(#f1kf20cmii95x5)\" height=\"45.9375\" id=\"E4\" rx=\"10\" ry=\"10\" style=\"stroke: #A80036; stroke-width: 1.5;\" width=\"68\" x=\"283\" y=\"98\"/><ellipse cx=\"298\" cy=\"116.9688\" fill=\"#0000FF\" rx=\"11\" ry=\"11\" style=\"stroke: #A80036; stroke-width: 1.0;\"/><path d=\"M298.8438,123.7188 L296.3906,123.7188 L296.3906,113.4688 L293.25,113.4688 L293.25,111.3281 L301.9844,111.3281 L301.9844,113.4688 L298.8438,113.4688 L298.8438,123.7188 Z \"/><text fill=\"#000000\" font-family=\"sans-serif\" font-size=\"12\" font-style=\"italic\" lengthAdjust=\"spacingAndGlyphs\" textLength=\"40\" x=\"310\" y=\"114.1387\">«part»</text><text fill=\"#000000\" font-family=\"sans-serif\" font-size=\"12\" lengthAdjust=\"spacingAndGlyphs\" textLength=\"8\" x=\"326\" y=\"128.1074\">p</text><line style=\"stroke: #A80036; stroke-width: 1.5;\" x1=\"284\" x2=\"350\" y1=\"135.9375\" y2=\"135.9375\"/></a><!--MD5=[270fce915f116d4de14055a7c1d9a0f3]\n",
       "class E5--><a href=\"psysml:6cb3785d-90e3-4021-b607-f0ab9874924c\" target=\"_top\" title=\"psysml:6cb3785d-90e3-4021-b607-f0ab9874924c\" xlink:actuate=\"onRequest\" xlink:href=\"psysml:6cb3785d-90e3-4021-b607-f0ab9874924c\" xlink:show=\"new\" xlink:title=\"psysml:6cb3785d-90e3-4021-b607-f0ab9874924c\" xlink:type=\"simple\"><rect fill=\"#FEFECE\" filter=\"url(#f1kf20cmii95x5)\" height=\"45.9375\" id=\"E5\" rx=\"10\" ry=\"10\" style=\"stroke: #A80036; stroke-width: 1.5;\" width=\"81\" x=\"166.5\" y=\"98\"/><ellipse cx=\"181.5\" cy=\"116.9688\" fill=\"#0000FF\" rx=\"11\" ry=\"11\" style=\"stroke: #A80036; stroke-width: 1.0;\"/><path d=\"M182.3438,123.7188 L179.8906,123.7188 L179.8906,113.4688 L176.75,113.4688 L176.75,111.3281 L185.4844,111.3281 L185.4844,113.4688 L182.3438,113.4688 L182.3438,123.7188 Z \"/><text fill=\"#000000\" font-family=\"sans-serif\" font-size=\"12\" font-style=\"italic\" lengthAdjust=\"spacingAndGlyphs\" textLength=\"53\" x=\"193.5\" y=\"114.1387\">«action»</text><text fill=\"#000000\" font-family=\"sans-serif\" font-size=\"12\" lengthAdjust=\"spacingAndGlyphs\" textLength=\"20\" x=\"210\" y=\"128.1074\">act</text><line style=\"stroke: #A80036; stroke-width: 1.5;\" x1=\"167.5\" x2=\"246.5\" y1=\"135.9375\" y2=\"135.9375\"/></a><!--MD5=[60a26617385b1d2d0262a64233df1f8d]\n",
       "class E6--><a href=\"psysml:409d967c-2b55-4985-b068-ed253d96c58c\" target=\"_top\" title=\"psysml:409d967c-2b55-4985-b068-ed253d96c58c\" xlink:actuate=\"onRequest\" xlink:href=\"psysml:409d967c-2b55-4985-b068-ed253d96c58c\" xlink:show=\"new\" xlink:title=\"psysml:409d967c-2b55-4985-b068-ed253d96c58c\" xlink:type=\"simple\"><rect fill=\"#FEFECE\" filter=\"url(#f1kf20cmii95x5)\" height=\"160.375\" id=\"E6\" style=\"stroke: #A80036; stroke-width: 1.5;\" width=\"99\" x=\"32.5\" y=\"41\"/><ellipse cx=\"47.5\" cy=\"59.9688\" fill=\"#0000FF\" rx=\"11\" ry=\"11\" style=\"stroke: #A80036; stroke-width: 1.0;\"/><path d=\"M48.3438,66.7188 L45.8906,66.7188 L45.8906,56.4688 L42.75,56.4688 L42.75,54.3281 L51.4844,54.3281 L51.4844,56.4688 L48.3438,56.4688 L48.3438,66.7188 Z \"/><text fill=\"#000000\" font-family=\"sans-serif\" font-size=\"12\" font-style=\"italic\" lengthAdjust=\"spacingAndGlyphs\" textLength=\"71\" x=\"59.5\" y=\"57.1387\">«state def»</text><text fill=\"#000000\" font-family=\"sans-serif\" font-size=\"12\" lengthAdjust=\"spacingAndGlyphs\" textLength=\"8\" x=\"91\" y=\"71.1074\">S</text><line style=\"stroke: #A80036; stroke-width: 1.5;\" x1=\"33.5\" x2=\"130.5\" y1=\"78.9375\" y2=\"78.9375\"/><text fill=\"#000000\" font-family=\"sans-serif\" font-size=\"11\" lengthAdjust=\"spacingAndGlyphs\" textLength=\"17\" x=\"38.5\" y=\"109.9526\">act</text><text fill=\"#000000\" font-family=\"sans-serif\" font-size=\"11\" lengthAdjust=\"spacingAndGlyphs\" textLength=\"7\" x=\"38.5\" y=\"122.7573\">A</text><text fill=\"#000000\" font-family=\"sans-serif\" font-size=\"11\" lengthAdjust=\"spacingAndGlyphs\" textLength=\"8\" x=\"38.5\" y=\"135.562\">B</text><line style=\"stroke: #A80036; stroke-width: 1.0;\" x1=\"33.5\" x2=\"38.5\" y1=\"93.3398\" y2=\"93.3398\"/><text fill=\"#000000\" font-family=\"sans-serif\" font-size=\"11\" lengthAdjust=\"spacingAndGlyphs\" textLength=\"87\" x=\"38.5\" y=\"96.6479\">performActions</text><line style=\"stroke: #A80036; stroke-width: 1.0;\" x1=\"125.5\" x2=\"130.5\" y1=\"93.3398\" y2=\"93.3398\"/><text fill=\"#000000\" font-family=\"sans-serif\" font-size=\"11\" lengthAdjust=\"spacingAndGlyphs\" textLength=\"15\" x=\"38.5\" y=\"165.1714\">S1</text><line style=\"stroke: #A80036; stroke-width: 1.0;\" x1=\"33.5\" x2=\"64\" y1=\"148.5586\" y2=\"148.5586\"/><text fill=\"#000000\" font-family=\"sans-serif\" font-size=\"11\" lengthAdjust=\"spacingAndGlyphs\" textLength=\"36\" x=\"64\" y=\"151.8667\">states</text><line style=\"stroke: #A80036; stroke-width: 1.0;\" x1=\"100\" x2=\"130.5\" y1=\"148.5586\" y2=\"148.5586\"/><text fill=\"#000000\" font-family=\"sans-serif\" font-size=\"11\" lengthAdjust=\"spacingAndGlyphs\" textLength=\"7\" x=\"38.5\" y=\"194.7808\">T</text><line style=\"stroke: #A80036; stroke-width: 1.0;\" x1=\"33.5\" x2=\"51.5\" y1=\"178.168\" y2=\"178.168\"/><text fill=\"#000000\" font-family=\"sans-serif\" font-size=\"11\" lengthAdjust=\"spacingAndGlyphs\" textLength=\"61\" x=\"51.5\" y=\"181.4761\">transitions</text><line style=\"stroke: #A80036; stroke-width: 1.0;\" x1=\"112.5\" x2=\"130.5\" y1=\"178.168\" y2=\"178.168\"/></a><!--MD5=[1dd1bfd58a279cf63c5f349dbc8fc6a1]\n",
       "class E11--><a href=\"psysml:15193c6f-79c7-4ee2-a2ac-bfb559b7d876\" target=\"_top\" title=\"psysml:15193c6f-79c7-4ee2-a2ac-bfb559b7d876\" xlink:actuate=\"onRequest\" xlink:href=\"psysml:15193c6f-79c7-4ee2-a2ac-bfb559b7d876\" xlink:show=\"new\" xlink:title=\"psysml:15193c6f-79c7-4ee2-a2ac-bfb559b7d876\" xlink:type=\"simple\"><rect fill=\"#FEFECE\" filter=\"url(#f1kf20cmii95x5)\" height=\"45.9375\" id=\"E11\" rx=\"10\" ry=\"10\" style=\"stroke: #A80036; stroke-width: 1.5;\" width=\"75\" x=\"48.5\" y=\"261\"/><ellipse cx=\"63.5\" cy=\"279.9688\" fill=\"#0000FF\" rx=\"11\" ry=\"11\" style=\"stroke: #A80036; stroke-width: 1.0;\"/><path d=\"M64.3438,286.7188 L61.8906,286.7188 L61.8906,276.4688 L58.75,276.4688 L58.75,274.3281 L67.4844,274.3281 L67.4844,276.4688 L64.3438,276.4688 L64.3438,286.7188 Z \"/><text fill=\"#000000\" font-family=\"sans-serif\" font-size=\"12\" font-style=\"italic\" lengthAdjust=\"spacingAndGlyphs\" textLength=\"47\" x=\"75.5\" y=\"277.1387\">«state»</text><text fill=\"#000000\" font-family=\"sans-serif\" font-size=\"12\" lengthAdjust=\"spacingAndGlyphs\" textLength=\"16\" x=\"91\" y=\"291.1074\">S2</text><line style=\"stroke: #A80036; stroke-width: 1.5;\" x1=\"49.5\" x2=\"122.5\" y1=\"298.9375\" y2=\"298.9375\"/></a><!--MD5=[49a0ec8f00dab7302a31f22d0f0fe584]\n",
       "class E12--><a href=\"psysml:02a264b3-17c4-490c-b5b1-f49bb5aa02c2\" target=\"_top\" title=\"psysml:02a264b3-17c4-490c-b5b1-f49bb5aa02c2\" xlink:actuate=\"onRequest\" xlink:href=\"psysml:02a264b3-17c4-490c-b5b1-f49bb5aa02c2\" xlink:show=\"new\" xlink:title=\"psysml:02a264b3-17c4-490c-b5b1-f49bb5aa02c2\" xlink:type=\"simple\"><rect fill=\"#FEFECE\" filter=\"url(#f1kf20cmii95x5)\" height=\"75.5469\" id=\"E12\" rx=\"10\" ry=\"10\" style=\"stroke: #A80036; stroke-width: 1.5;\" width=\"116\" x=\"32\" y=\"367\"/><ellipse cx=\"47\" cy=\"385.9688\" fill=\"#B6DBBB\" rx=\"11\" ry=\"11\" style=\"stroke: #A80036; stroke-width: 1.0;\"/><path d=\"M42.875,387.8906 L42.875,380.0781 L45.3281,380.0781 L45.3281,388.5156 Q45.3281,389.4375 45.7969,389.9688 Q46.2813,390.5 47.1094,390.5 Q47.9531,390.5 48.4219,389.9688 Q48.8906,389.4375 48.8906,388.5156 L48.8906,380.0781 L51.3438,380.0781 L51.3438,387.8906 Q51.3438,390.4219 50.3438,391.5625 Q49.3438,392.7031 47.1094,392.7031 Q44.8906,392.7031 43.875,391.5625 Q42.875,390.4219 42.875,387.8906 Z \"/><text fill=\"#000000\" font-family=\"sans-serif\" font-size=\"12\" font-style=\"italic\" lengthAdjust=\"spacingAndGlyphs\" textLength=\"88\" x=\"59\" y=\"383.1387\">«send action»</text><text fill=\"#000000\" font-family=\"sans-serif\" font-size=\"12\" lengthAdjust=\"spacingAndGlyphs\" textLength=\"55\" x=\"75.5\" y=\"397.1074\">doAction</text><line style=\"stroke: #A80036; stroke-width: 1.5;\" x1=\"33\" x2=\"147\" y1=\"404.9375\" y2=\"404.9375\"/><text fill=\"#000000\" font-family=\"sans-serif\" font-size=\"11\" lengthAdjust=\"spacingAndGlyphs\" textLength=\"25\" x=\"38\" y=\"435.9526\">item</text><line style=\"stroke: #A80036; stroke-width: 1.0;\" x1=\"33\" x2=\"52.5\" y1=\"419.3398\" y2=\"419.3398\"/><text fill=\"#000000\" font-family=\"sans-serif\" font-size=\"11\" lengthAdjust=\"spacingAndGlyphs\" textLength=\"75\" x=\"52.5\" y=\"422.6479\">itemFeatures</text><line style=\"stroke: #A80036; stroke-width: 1.0;\" x1=\"127.5\" x2=\"147\" y1=\"419.3398\" y2=\"419.3398\"/></a><!--MD5=[1f5f03483f7de0d5b3680a7f6650997f]\n",
       "reverse link E6 to E11--><a href=\"psysml:15193c6f-79c7-4ee2-a2ac-bfb559b7d876\" target=\"_top\" title=\"psysml:15193c6f-79c7-4ee2-a2ac-bfb559b7d876\" xlink:actuate=\"onRequest\" xlink:href=\"psysml:15193c6f-79c7-4ee2-a2ac-bfb559b7d876\" xlink:show=\"new\" xlink:title=\"psysml:15193c6f-79c7-4ee2-a2ac-bfb559b7d876\" xlink:type=\"simple\"><path d=\"M84.29,214.17 C84.72,231.58 85.14,248.25 85.45,260.82 \" fill=\"none\" id=\"E6&lt;-E11\" style=\"stroke: #A80036; stroke-width: 1.0;\"/><polygon fill=\"#A80036\" points=\"83.96,201.09,80.1062,207.1849,84.25,213.0865,88.1038,206.9916,83.96,201.09\" style=\"stroke: #A80036; stroke-width: 1.0;\"/></a><!--MD5=[94adabc162ce7e41b39f13be14fbaeb3]\n",
       "reverse link E11 to E12--><a href=\"psysml:02a264b3-17c4-490c-b5b1-f49bb5aa02c2\" target=\"_top\" title=\"psysml:02a264b3-17c4-490c-b5b1-f49bb5aa02c2\" xlink:actuate=\"onRequest\" xlink:href=\"psysml:02a264b3-17c4-490c-b5b1-f49bb5aa02c2\" xlink:show=\"new\" xlink:title=\"psysml:02a264b3-17c4-490c-b5b1-f49bb5aa02c2\" xlink:type=\"simple\"><path d=\"M87.18,320.23 C87.67,334.82 88.24,351.76 88.74,366.58 \" fill=\"none\" id=\"E11&lt;-E12\" style=\"stroke: #A80036; stroke-width: 1.0;\"/><polygon fill=\"#FFFFFF\" points=\"86.74,307.1,82.9466,313.2327,87.1486,319.093,90.942,312.9603,86.74,307.1\" style=\"stroke: #A80036; stroke-width: 1.0;\"/></a><!--MD5=[a8fb24f5e1240821930a9e3d7156bc6b]\n",
       "@startuml\r\n",
       " \r\n",
       "package \"StateTest\" as E1  [[psysml:9c548ee6-d869-4820-b951-32f5a4e72165 ]]  {\r\n",
       "comp def \"Sig\" as E2  <<(T,blue)attribute def>> [[psysml:7a2ca9b4-3a97-4e8a-92f8-a9f50dc832cb ]] {\r\n",
       "x\r\n",
       "}\r\n",
       "comp def \"Exit\" as E3  <<(T,blue)attribute def>> [[psysml:30361623-caf7-482c-9813-174242dd8f3c ]] {\r\n",
       "}\r\n",
       "comp usage \"p\" as E4  <<(T,blue)part>> [[psysml:86d86843-d597-4d6e-917a-885d695bc43d ]] {\r\n",
       "}\r\n",
       "comp usage \"act\" as E5  <<(T,blue)action>> [[psysml:6cb3785d-90e3-4021-b607-f0ab9874924c ]] {\r\n",
       "}\r\n",
       "comp def \"S\" as E6  <<(T,blue)state def>> [[psysml:409d967c-2b55-4985-b068-ed253d96c58c ]] {\r\n",
       "- - performActions - -\r\n",
       "act\r\n",
       "A\r\n",
       "B\r\n",
       "- - states - -\r\n",
       "S1\r\n",
       "- - transitions - -\r\n",
       "T\r\n",
       "}\r\n",
       "comp usage \"S2\" as E11  <<(T,blue)state>> [[psysml:15193c6f-79c7-4ee2-a2ac-bfb559b7d876 ]] {\r\n",
       "}\r\n",
       "comp usage \"doAction\" as E12 <<send action>> [[psysml:02a264b3-17c4-490c-b5b1-f49bb5aa02c2 ]] {\r\n",
       "- - itemFeatures - -\r\n",
       "item\r\n",
       "}\r\n",
       "E6 *- - E11 [[psysml:15193c6f-79c7-4ee2-a2ac-bfb559b7d876 ]] \r\n",
       "E11 o- - E12 [[psysml:02a264b3-17c4-490c-b5b1-f49bb5aa02c2 ]] \r\n",
       "}\r\n",
       "@enduml\r\n",
       "\n",
       "PlantUML version 1.2020.13(Sat Jun 13 12:26:38 UTC 2020)\n",
       "(EPL source distribution)\n",
       "Java Runtime: OpenJDK Runtime Environment\n",
       "JVM: OpenJDK 64-Bit Server VM\n",
       "Default Encoding: UTF-8\n",
       "Language: en\n",
       "Country: null\n",
       "--></g></svg>"
      ]
     },
     "execution_count": 7,
     "metadata": {},
     "output_type": "execute_result"
    }
   ],
   "source": [
    "%viz --style=\"COMPTREE\" --view=\"Sequence\" \"StateTest\""
   ]
  },
  {
   "cell_type": "code",
   "execution_count": 8,
   "id": "affected-absorption",
   "metadata": {
    "execution": {
     "iopub.execute_input": "2021-03-26T09:13:51.999493Z",
     "iopub.status.busy": "2021-03-26T09:13:51.999139Z",
     "iopub.status.idle": "2021-03-26T09:13:52.048589Z",
     "shell.execute_reply": "2021-03-26T09:13:52.048286Z"
    }
   },
   "outputs": [
    {
     "data": {
      "image/svg+xml": [
       "<?xml version=\"1.0\" encoding=\"UTF-8\" standalone=\"no\"?><svg xmlns=\"http://www.w3.org/2000/svg\" xmlns:xlink=\"http://www.w3.org/1999/xlink\" contentScriptType=\"application/ecmascript\" contentStyleType=\"text/css\" height=\"569px\" preserveAspectRatio=\"none\" style=\"width:923px;height:569px;\" version=\"1.1\" viewBox=\"0 0 923 569\" width=\"923px\" zoomAndPan=\"magnify\"><defs><filter height=\"300%\" id=\"f1n76n13eb5uay\" width=\"300%\" x=\"-1\" y=\"-1\"><feGaussianBlur result=\"blurOut\" stdDeviation=\"2.0\"/><feColorMatrix in=\"blurOut\" result=\"blurOut2\" type=\"matrix\" values=\"0 0 0 0 0 0 0 0 0 0 0 0 0 0 0 0 0 0 .4 0\"/><feOffset dx=\"4.0\" dy=\"4.0\" in=\"blurOut2\" result=\"blurOut3\"/><feBlend in=\"SourceGraphic\" in2=\"blurOut3\" mode=\"normal\"/></filter></defs><g><!--MD5=[fbc87193dbaf4d95561dea2c320d4a47]\n",
       "cluster E1--><a href=\"psysml:9c548ee6-d869-4820-b951-32f5a4e72165\" target=\"_top\" title=\"psysml:9c548ee6-d869-4820-b951-32f5a4e72165\" xlink:actuate=\"onRequest\" xlink:href=\"psysml:9c548ee6-d869-4820-b951-32f5a4e72165\" xlink:show=\"new\" xlink:title=\"psysml:9c548ee6-d869-4820-b951-32f5a4e72165\" xlink:type=\"simple\"><polygon fill=\"#FFFFFF\" filter=\"url(#f1n76n13eb5uay)\" points=\"16,6,98,6,105,28.2969,901,28.2969,901,557.5,16,557.5,16,6\" style=\"stroke: #000000; stroke-width: 1.5;\"/><line style=\"stroke: #000000; stroke-width: 1.5;\" x1=\"16\" x2=\"105\" y1=\"28.2969\" y2=\"28.2969\"/><text fill=\"#000000\" font-family=\"sans-serif\" font-size=\"14\" font-weight=\"bold\" lengthAdjust=\"spacingAndGlyphs\" textLength=\"76\" x=\"20\" y=\"20.9951\">StateTest</text></a><!--MD5=[14e3b0961a2654348d326746436168a1]\n",
       "cluster E6--><a href=\"psysml:409d967c-2b55-4985-b068-ed253d96c58c\" target=\"_top\" title=\"psysml:409d967c-2b55-4985-b068-ed253d96c58c\" xlink:actuate=\"onRequest\" xlink:href=\"psysml:409d967c-2b55-4985-b068-ed253d96c58c\" xlink:show=\"new\" xlink:title=\"psysml:409d967c-2b55-4985-b068-ed253d96c58c\" xlink:type=\"simple\"><rect fill=\"#FFFFFF\" filter=\"url(#f1n76n13eb5uay)\" height=\"484.5\" id=\"E6\" style=\"stroke: #A80036; stroke-width: 1.5;\" width=\"327\" x=\"550\" y=\"49\"/><rect fill=\"#FEFECE\" height=\"37.9375\" style=\"stroke: #A80036; stroke-width: 1.5;\" width=\"327\" x=\"550\" y=\"49\"/><text fill=\"#000000\" font-family=\"sans-serif\" font-size=\"12\" font-style=\"italic\" lengthAdjust=\"spacingAndGlyphs\" textLength=\"71\" x=\"678\" y=\"65.1387\">«state def»</text><text fill=\"#000000\" font-family=\"sans-serif\" font-size=\"12\" lengthAdjust=\"spacingAndGlyphs\" textLength=\"8\" x=\"709.5\" y=\"79.1074\">S</text><line style=\"stroke: #A80036; stroke-width: 1.0;\" x1=\"550\" x2=\"877\" y1=\"132.8438\" y2=\"132.8438\"/><text fill=\"#000000\" font-family=\"sans-serif\" font-size=\"12\" font-weight=\"bold\" lengthAdjust=\"spacingAndGlyphs\" textLength=\"38\" x=\"555\" y=\"100.0762\">entry</text><text fill=\"#000000\" font-family=\"sans-serif\" font-size=\"12\" lengthAdjust=\"spacingAndGlyphs\" textLength=\"16\" x=\"593\" y=\"100.0762\">/ A</text><text fill=\"#000000\" font-family=\"sans-serif\" font-size=\"12\" font-weight=\"bold\" lengthAdjust=\"spacingAndGlyphs\" textLength=\"18\" x=\"555\" y=\"114.0449\">do</text><text fill=\"#000000\" font-family=\"sans-serif\" font-size=\"12\" lengthAdjust=\"spacingAndGlyphs\" textLength=\"16\" x=\"573\" y=\"114.0449\">/ B</text><text fill=\"#000000\" font-family=\"sans-serif\" font-size=\"12\" font-weight=\"bold\" lengthAdjust=\"spacingAndGlyphs\" textLength=\"26\" x=\"555\" y=\"128.0137\">exit</text><text fill=\"#000000\" font-family=\"sans-serif\" font-size=\"12\" lengthAdjust=\"spacingAndGlyphs\" textLength=\"28\" x=\"581\" y=\"128.0137\">/ act</text></a><!--MD5=[b4997ac47864f28c2f74865a473b2911]\n",
       "class E2--><a href=\"psysml:7a2ca9b4-3a97-4e8a-92f8-a9f50dc832cb\" target=\"_top\" title=\"psysml:7a2ca9b4-3a97-4e8a-92f8-a9f50dc832cb\" xlink:actuate=\"onRequest\" xlink:href=\"psysml:7a2ca9b4-3a97-4e8a-92f8-a9f50dc832cb\" xlink:show=\"new\" xlink:title=\"psysml:7a2ca9b4-3a97-4e8a-92f8-a9f50dc832cb\" xlink:type=\"simple\"><rect fill=\"#FEFECE\" filter=\"url(#f1n76n13eb5uay)\" height=\"58.7422\" id=\"E2\" style=\"stroke: #A80036; stroke-width: 1.5;\" width=\"121\" x=\"412.5\" y=\"127.5\"/><ellipse cx=\"427.5\" cy=\"146.4688\" fill=\"#0000FF\" rx=\"11\" ry=\"11\" style=\"stroke: #A80036; stroke-width: 1.0;\"/><path d=\"M428.3438,153.2188 L425.8906,153.2188 L425.8906,142.9688 L422.75,142.9688 L422.75,140.8281 L431.4844,140.8281 L431.4844,142.9688 L428.3438,142.9688 L428.3438,153.2188 Z \"/><text fill=\"#000000\" font-family=\"sans-serif\" font-size=\"12\" font-style=\"italic\" lengthAdjust=\"spacingAndGlyphs\" textLength=\"93\" x=\"439.5\" y=\"143.6387\">«attribute def»</text><text fill=\"#000000\" font-family=\"sans-serif\" font-size=\"12\" lengthAdjust=\"spacingAndGlyphs\" textLength=\"19\" x=\"476.5\" y=\"157.6074\">Sig</text><line style=\"stroke: #A80036; stroke-width: 1.5;\" x1=\"413.5\" x2=\"532.5\" y1=\"165.4375\" y2=\"165.4375\"/><text fill=\"#000000\" font-family=\"sans-serif\" font-size=\"11\" lengthAdjust=\"spacingAndGlyphs\" textLength=\"6\" x=\"418.5\" y=\"179.6479\">x</text></a><!--MD5=[09b614a08d8cba4a07c9adeb5e0fee81]\n",
       "class E3--><a href=\"psysml:30361623-caf7-482c-9813-174242dd8f3c\" target=\"_top\" title=\"psysml:30361623-caf7-482c-9813-174242dd8f3c\" xlink:actuate=\"onRequest\" xlink:href=\"psysml:30361623-caf7-482c-9813-174242dd8f3c\" xlink:show=\"new\" xlink:title=\"psysml:30361623-caf7-482c-9813-174242dd8f3c\" xlink:type=\"simple\"><rect fill=\"#FEFECE\" filter=\"url(#f1n76n13eb5uay)\" height=\"45.9375\" id=\"E3\" style=\"stroke: #A80036; stroke-width: 1.5;\" width=\"121\" x=\"256.5\" y=\"134\"/><ellipse cx=\"271.5\" cy=\"152.9688\" fill=\"#0000FF\" rx=\"11\" ry=\"11\" style=\"stroke: #A80036; stroke-width: 1.0;\"/><path d=\"M272.3438,159.7188 L269.8906,159.7188 L269.8906,149.4688 L266.75,149.4688 L266.75,147.3281 L275.4844,147.3281 L275.4844,149.4688 L272.3438,149.4688 L272.3438,159.7188 Z \"/><text fill=\"#000000\" font-family=\"sans-serif\" font-size=\"12\" font-style=\"italic\" lengthAdjust=\"spacingAndGlyphs\" textLength=\"93\" x=\"283.5\" y=\"150.1387\">«attribute def»</text><text fill=\"#000000\" font-family=\"sans-serif\" font-size=\"12\" lengthAdjust=\"spacingAndGlyphs\" textLength=\"22\" x=\"319\" y=\"164.1074\">Exit</text><line style=\"stroke: #A80036; stroke-width: 1.5;\" x1=\"257.5\" x2=\"376.5\" y1=\"171.9375\" y2=\"171.9375\"/></a><!--MD5=[ebbe1d658d1005bcc118a6aa81145e00]\n",
       "class E4--><a href=\"psysml:86d86843-d597-4d6e-917a-885d695bc43d\" target=\"_top\" title=\"psysml:86d86843-d597-4d6e-917a-885d695bc43d\" xlink:actuate=\"onRequest\" xlink:href=\"psysml:86d86843-d597-4d6e-917a-885d695bc43d\" xlink:show=\"new\" xlink:title=\"psysml:86d86843-d597-4d6e-917a-885d695bc43d\" xlink:type=\"simple\"><rect fill=\"#FEFECE\" filter=\"url(#f1n76n13eb5uay)\" height=\"45.9375\" id=\"E4\" rx=\"10\" ry=\"10\" style=\"stroke: #A80036; stroke-width: 1.5;\" width=\"68\" x=\"153\" y=\"134\"/><ellipse cx=\"168\" cy=\"152.9688\" fill=\"#0000FF\" rx=\"11\" ry=\"11\" style=\"stroke: #A80036; stroke-width: 1.0;\"/><path d=\"M168.8438,159.7188 L166.3906,159.7188 L166.3906,149.4688 L163.25,149.4688 L163.25,147.3281 L171.9844,147.3281 L171.9844,149.4688 L168.8438,149.4688 L168.8438,159.7188 Z \"/><text fill=\"#000000\" font-family=\"sans-serif\" font-size=\"12\" font-style=\"italic\" lengthAdjust=\"spacingAndGlyphs\" textLength=\"40\" x=\"180\" y=\"150.1387\">«part»</text><text fill=\"#000000\" font-family=\"sans-serif\" font-size=\"12\" lengthAdjust=\"spacingAndGlyphs\" textLength=\"8\" x=\"196\" y=\"164.1074\">p</text><line style=\"stroke: #A80036; stroke-width: 1.5;\" x1=\"154\" x2=\"220\" y1=\"171.9375\" y2=\"171.9375\"/></a><g id=\"E1.E5\"><a href=\"psysml:6cb3785d-90e3-4021-b607-f0ab9874924c\" target=\"_top\" title=\"psysml:6cb3785d-90e3-4021-b607-f0ab9874924c\" xlink:actuate=\"onRequest\" xlink:href=\"psysml:6cb3785d-90e3-4021-b607-f0ab9874924c\" xlink:show=\"new\" xlink:title=\"psysml:6cb3785d-90e3-4021-b607-f0ab9874924c\" xlink:type=\"simple\"><rect fill=\"#FEFECE\" filter=\"url(#f1n76n13eb5uay)\" height=\"42.9375\" id=\"E5\" rx=\"10\" ry=\"10\" style=\"stroke: #A80036; stroke-width: 1.5;\" width=\"86\" x=\"32\" y=\"135.5\"/><ellipse cx=\"49.25\" cy=\"154.4688\" fill=\"#0000FF\" rx=\"11\" ry=\"11\" style=\"stroke: #A80036; stroke-width: 1.0;\"/><path d=\"M50.0938,161.2188 L47.6406,161.2188 L47.6406,150.9688 L44.5,150.9688 L44.5,148.8281 L53.2344,148.8281 L53.2344,150.9688 L50.0938,150.9688 L50.0938,161.2188 Z \"/><text fill=\"#000000\" font-family=\"sans-serif\" font-size=\"12\" font-style=\"italic\" lengthAdjust=\"spacingAndGlyphs\" textLength=\"53\" x=\"61.75\" y=\"151.6387\">«action»</text><text fill=\"#000000\" font-family=\"sans-serif\" font-size=\"12\" lengthAdjust=\"spacingAndGlyphs\" textLength=\"20\" x=\"78.25\" y=\"165.6074\">act</text></a></g><ellipse cx=\"662\" cy=\"157\" fill=\"#000000\" filter=\"url(#f1n76n13eb5uay)\" rx=\"10\" ry=\"10\" style=\"stroke: none; stroke-width: 1.0;\"/><ellipse cx=\"662\" cy=\"507.5\" fill=\"none\" filter=\"url(#f1n76n13eb5uay)\" rx=\"10\" ry=\"10\" style=\"stroke: #000000; stroke-width: 1.0;\"/><ellipse cx=\"662.5\" cy=\"508\" fill=\"#000000\" rx=\"6\" ry=\"6\" style=\"stroke: none; stroke-width: 1.0;\"/><g id=\"E1.E6.E7\"><a href=\"psysml:5ea02985-bc8b-4cb1-bb08-c3caa7c881e0\" target=\"_top\" title=\"psysml:5ea02985-bc8b-4cb1-bb08-c3caa7c881e0\" xlink:actuate=\"onRequest\" xlink:href=\"psysml:5ea02985-bc8b-4cb1-bb08-c3caa7c881e0\" xlink:show=\"new\" xlink:title=\"psysml:5ea02985-bc8b-4cb1-bb08-c3caa7c881e0\" xlink:type=\"simple\"><rect fill=\"#FEFECE\" filter=\"url(#f1n76n13eb5uay)\" height=\"40\" id=\"E7\" rx=\"10\" ry=\"10\" style=\"stroke: #A80036; stroke-width: 1.5;\" width=\"53\" x=\"635.5\" y=\"247.5\"/><ellipse cx=\"652.75\" cy=\"263.5\" fill=\"#B6DBBB\" rx=\"11\" ry=\"11\" style=\"stroke: #A80036; stroke-width: 1.0;\"/><path d=\"M648.625,265.4219 L648.625,257.6094 L651.0781,257.6094 L651.0781,266.0469 Q651.0781,266.9688 651.5469,267.5 Q652.0313,268.0313 652.8594,268.0313 Q653.7031,268.0313 654.1719,267.5 Q654.6406,266.9688 654.6406,266.0469 L654.6406,257.6094 L657.0938,257.6094 L657.0938,265.4219 Q657.0938,267.9531 656.0938,269.0938 Q655.0938,270.2344 652.8594,270.2344 Q650.6406,270.2344 649.625,269.0938 Q648.625,267.9531 648.625,265.4219 Z \"/><text fill=\"#000000\" font-family=\"sans-serif\" font-size=\"12\" lengthAdjust=\"spacingAndGlyphs\" textLength=\"16\" x=\"667.25\" y=\"267.6543\">S1</text></a></g><g id=\"E1.E6.E8\"><a href=\"psysml:15193c6f-79c7-4ee2-a2ac-bfb559b7d876\" target=\"_top\" title=\"psysml:15193c6f-79c7-4ee2-a2ac-bfb559b7d876\" xlink:actuate=\"onRequest\" xlink:href=\"psysml:15193c6f-79c7-4ee2-a2ac-bfb559b7d876\" xlink:show=\"new\" xlink:title=\"psysml:15193c6f-79c7-4ee2-a2ac-bfb559b7d876\" xlink:type=\"simple\"><rect fill=\"#FEFECE\" filter=\"url(#f1n76n13eb5uay)\" height=\"55.9688\" id=\"E8\" rx=\"10\" ry=\"10\" style=\"stroke: #A80036; stroke-width: 1.5;\" width=\"58\" x=\"633\" y=\"364.5\"/><ellipse cx=\"652.5\" cy=\"380.5\" fill=\"#B6DBBB\" rx=\"11\" ry=\"11\" style=\"stroke: #A80036; stroke-width: 1.0;\"/><path d=\"M648.375,382.4219 L648.375,374.6094 L650.8281,374.6094 L650.8281,383.0469 Q650.8281,383.9688 651.2969,384.5 Q651.7813,385.0313 652.6094,385.0313 Q653.4531,385.0313 653.9219,384.5 Q654.3906,383.9688 654.3906,383.0469 L654.3906,374.6094 L656.8438,374.6094 L656.8438,382.4219 Q656.8438,384.9531 655.8438,386.0938 Q654.8438,387.2344 652.6094,387.2344 Q650.3906,387.2344 649.375,386.0938 Q648.375,384.9531 648.375,382.4219 Z \"/><text fill=\"#000000\" font-family=\"sans-serif\" font-size=\"12\" lengthAdjust=\"spacingAndGlyphs\" textLength=\"16\" x=\"667.5\" y=\"384.6543\">S2</text><line style=\"stroke: #A80036; stroke-width: 1.0;\" x1=\"633\" x2=\"691\" y1=\"396.5\" y2=\"396.5\"/><text fill=\"#000000\" font-family=\"sans-serif\" font-size=\"12\" font-weight=\"bold\" lengthAdjust=\"spacingAndGlyphs\" textLength=\"18\" x=\"638\" y=\"409.6387\">do</text><text fill=\"#000000\" font-family=\"sans-serif\" font-size=\"12\" lengthAdjust=\"spacingAndGlyphs\" textLength=\"4\" x=\"656\" y=\"409.6387\">/</text></a></g><!--MD5=[5a531d3a85f3339e6e197084acb48195]\n",
       "link *start*E6 to E7--><a href=\"psysml:50e6b136-bb64-4da5-b9f3-893462631a2b\" target=\"_top\" title=\"psysml:50e6b136-bb64-4da5-b9f3-893462631a2b\" xlink:actuate=\"onRequest\" xlink:href=\"psysml:50e6b136-bb64-4da5-b9f3-893462631a2b\" xlink:show=\"new\" xlink:title=\"psysml:50e6b136-bb64-4da5-b9f3-893462631a2b\" xlink:type=\"simple\"><path d=\"M662,167.25 C662,183.64 662,218.28 662,241.97 \" fill=\"none\" id=\"*start*E6-&gt;E7\" style=\"stroke: #A80036; stroke-width: 1.0;\"/><polygon fill=\"#A80036\" points=\"662,247.15,666,238.15,662,242.15,658,238.15,662,247.15\" style=\"stroke: #A80036; stroke-width: 1.0;\"/></a><!--MD5=[7ec9a8babba89ddcae1318ca9fb3c814]\n",
       "link E8 to *end*E6--><a href=\"psysml:400438d1-4a79-4175-ae6b-80e92b548ca9\" target=\"_top\" title=\"psysml:400438d1-4a79-4175-ae6b-80e92b548ca9\" xlink:actuate=\"onRequest\" xlink:href=\"psysml:400438d1-4a79-4175-ae6b-80e92b548ca9\" xlink:show=\"new\" xlink:title=\"psysml:400438d1-4a79-4175-ae6b-80e92b548ca9\" xlink:type=\"simple\"><path d=\"M662,420.57 C662,443.05 662,474.17 662,492.13 \" fill=\"none\" id=\"E8-&gt;*end*E6\" style=\"stroke: #A80036; stroke-width: 1.0;\"/><polygon fill=\"#A80036\" points=\"662,497.26,666,488.26,662,492.26,658,488.26,662,497.26\" style=\"stroke: #A80036; stroke-width: 1.0;\"/><text fill=\"#000000\" font-family=\"sans-serif\" font-size=\"13\" lengthAdjust=\"spacingAndGlyphs\" textLength=\"23\" x=\"663\" y=\"463.5669\">Exit</text></a><!--MD5=[79bc8f324ef4d02c541433f2e6e513c3]\n",
       "link E7 to E8--><a href=\"psysml:516b9b87-0f3c-4a45-97aa-978805331ddd\" target=\"_top\" title=\"psysml:516b9b87-0f3c-4a45-97aa-978805331ddd\" xlink:actuate=\"onRequest\" xlink:href=\"psysml:516b9b87-0f3c-4a45-97aa-978805331ddd\" xlink:show=\"new\" xlink:title=\"psysml:516b9b87-0f3c-4a45-97aa-978805331ddd\" xlink:type=\"simple\"><path d=\"M635.25,280.67 C613.47,292.49 587.88,311.93 598,334.5 C604.51,349.01 616.74,361.35 628.79,370.79 \" fill=\"none\" id=\"E7-&gt;E8\" style=\"stroke: #A80036; stroke-width: 1.0;\"/><polygon fill=\"#A80036\" points=\"632.86,373.88,628.0945,365.2609,628.872,370.864,623.2689,371.6416,632.86,373.88\" style=\"stroke: #A80036; stroke-width: 1.0;\"/><text fill=\"#000000\" font-family=\"sans-serif\" font-size=\"13\" lengthAdjust=\"spacingAndGlyphs\" textLength=\"81\" x=\"599\" y=\"330.5669\">Sig /action D</text></a><!--MD5=[bfa3c8b0d15052fdf50ae9310b491027]\n",
       "link E8 to E7--><a href=\"psysml:0976314e-a9f7-4444-bafa-f8883db64fa0\" target=\"_top\" title=\"psysml:0976314e-a9f7-4444-bafa-f8883db64fa0\" xlink:actuate=\"onRequest\" xlink:href=\"psysml:0976314e-a9f7-4444-bafa-f8883db64fa0\" xlink:show=\"new\" xlink:title=\"psysml:0976314e-a9f7-4444-bafa-f8883db64fa0\" xlink:type=\"simple\"><path d=\"M677.55,364.38 C683.68,350.5 688.51,333.26 685,317.5 C683.1,308.99 679.56,300.22 675.82,292.49 \" fill=\"none\" id=\"E8-&gt;E7\" style=\"stroke: #A80036; stroke-width: 1.0;\"/><polygon fill=\"#A80036\" points=\"673.47,287.82,673.9298,297.6581,675.7118,292.2893,681.0806,294.0713,673.47,287.82\" style=\"stroke: #A80036; stroke-width: 1.0;\"/><text fill=\"#000000\" font-family=\"sans-serif\" font-size=\"13\" lengthAdjust=\"spacingAndGlyphs\" textLength=\"135\" x=\"687\" y=\"330.5669\">Sig [true]/send s to p</text></a><!--MD5=[1d780507fd8d50bd04122ebfd4b1e779]\n",
       "@startuml\r\n",
       " \r\n",
       "package \"StateTest\" as E1  [[psysml:9c548ee6-d869-4820-b951-32f5a4e72165 ]]  {\r\n",
       "comp def \"Sig\" as E2  <<(T,blue)attribute def>> [[psysml:7a2ca9b4-3a97-4e8a-92f8-a9f50dc832cb ]] {\r\n",
       "x\r\n",
       "}\r\n",
       "comp def \"Exit\" as E3  <<(T,blue)attribute def>> [[psysml:30361623-caf7-482c-9813-174242dd8f3c ]] {\r\n",
       "}\r\n",
       "comp usage \"p\" as E4  <<(T,blue)part>> [[psysml:86d86843-d597-4d6e-917a-885d695bc43d ]] {\r\n",
       "}\r\n",
       "rec usage \"act\" as E5  <<(T,blue)action>> [[psysml:6cb3785d-90e3-4021-b607-f0ab9874924c ]] {\r\n",
       "}\r\n",
       "\r\n",
       "rec def \"S\" as E6  <<(T,blue)state def>> [[psysml:409d967c-2b55-4985-b068-ed253d96c58c ]] {\r\n",
       "rec usage \"S1\" as E7 [[psysml:5ea02985-bc8b-4cb1-bb08-c3caa7c881e0 ]] {\r\n",
       "}\r\n",
       "\r\n",
       "rec usage \"S2\" as E8 [[psysml:15193c6f-79c7-4ee2-a2ac-bfb559b7d876 ]] {\r\n",
       "desc \"S2\" as E8  : **do**/ \r\n",
       "}\r\n",
       "\r\n",
       "[*] - -> E7 [[psysml:50e6b136-bb64-4da5-b9f3-893462631a2b ]] \r\n",
       "E8  - -> [*] [[psysml:400438d1-4a79-4175-ae6b-80e92b548ca9 ]] : Exit \r\n",
       "desc \"S\" as E6  : **entry**/ A\r\n",
       "desc \"S\" as E6  : **do**/ B\r\n",
       "desc \"S\" as E6  : **exit**/ act \r\n",
       "}\r\n",
       "\r\n",
       "E7  - -> E8 [[psysml:516b9b87-0f3c-4a45-97aa-978805331ddd ]] : Sig /action D\r\n",
       "E8  - -> E7 [[psysml:0976314e-a9f7-4444-bafa-f8883db64fa0 ]] : Sig [true]/send s to p\r\n",
       "}\r\n",
       "@enduml\r\n",
       "\n",
       "PlantUML version 1.2020.13(Sat Jun 13 12:26:38 UTC 2020)\n",
       "(EPL source distribution)\n",
       "Java Runtime: OpenJDK Runtime Environment\n",
       "JVM: OpenJDK 64-Bit Server VM\n",
       "Default Encoding: UTF-8\n",
       "Language: en\n",
       "Country: null\n",
       "--></g></svg>"
      ]
     },
     "execution_count": 8,
     "metadata": {},
     "output_type": "execute_result"
    }
   ],
   "source": [
    "%viz --style=\"COMPTREE\" --view=\"MIXED\" \"StateTest\""
   ]
  },
  {
   "cell_type": "code",
   "execution_count": 9,
   "id": "medium-current",
   "metadata": {
    "execution": {
     "iopub.execute_input": "2021-03-26T09:13:52.099444Z",
     "iopub.status.busy": "2021-03-26T09:13:52.098453Z",
     "iopub.status.idle": "2021-03-26T09:13:52.150652Z",
     "shell.execute_reply": "2021-03-26T09:13:52.150210Z"
    }
   },
   "outputs": [
    {
     "data": {
      "image/svg+xml": [
       "<?xml version=\"1.0\" encoding=\"UTF-8\" standalone=\"no\"?><svg xmlns=\"http://www.w3.org/2000/svg\" xmlns:xlink=\"http://www.w3.org/1999/xlink\" contentScriptType=\"application/ecmascript\" contentStyleType=\"text/css\" height=\"570px\" preserveAspectRatio=\"none\" style=\"width:819px;height:570px;\" version=\"1.1\" viewBox=\"0 0 819 570\" width=\"819px\" zoomAndPan=\"magnify\"><defs/><g><!--MD5=[fbc87193dbaf4d95561dea2c320d4a47]\n",
       "cluster E1--><a href=\"psysml:9c548ee6-d869-4820-b951-32f5a4e72165\" target=\"_top\" title=\"psysml:9c548ee6-d869-4820-b951-32f5a4e72165\" xlink:actuate=\"onRequest\" xlink:href=\"psysml:9c548ee6-d869-4820-b951-32f5a4e72165\" xlink:show=\"new\" xlink:title=\"psysml:9c548ee6-d869-4820-b951-32f5a4e72165\" xlink:type=\"simple\"><polygon fill=\"#FFFFFF\" points=\"16,6,98,6,105,28.2969,797,28.2969,797,558,16,558,16,6\" style=\"stroke: #000000; stroke-width: 1.5;\"/><line style=\"stroke: #000000; stroke-width: 1.5;\" x1=\"16\" x2=\"105\" y1=\"28.2969\" y2=\"28.2969\"/><text fill=\"#000000\" font-family=\"sans-serif\" font-size=\"14\" font-weight=\"bold\" lengthAdjust=\"spacingAndGlyphs\" textLength=\"76\" x=\"20\" y=\"20.9951\">StateTest</text></a><!--MD5=[14e3b0961a2654348d326746436168a1]\n",
       "cluster E6--><a href=\"psysml:409d967c-2b55-4985-b068-ed253d96c58c\" target=\"_top\" title=\"psysml:409d967c-2b55-4985-b068-ed253d96c58c\" xlink:actuate=\"onRequest\" xlink:href=\"psysml:409d967c-2b55-4985-b068-ed253d96c58c\" xlink:show=\"new\" xlink:title=\"psysml:409d967c-2b55-4985-b068-ed253d96c58c\" xlink:type=\"simple\"><rect fill=\"#FFFFFF\" height=\"485\" id=\"E6\" style=\"stroke: #383838; stroke-width: 1.5;\" width=\"327\" x=\"446\" y=\"49\"/><rect fill=\"#F8F8F8\" height=\"37.9375\" style=\"stroke: #383838; stroke-width: 1.5;\" width=\"327\" x=\"446\" y=\"49\"/><text fill=\"#000000\" font-family=\"sans-serif\" font-size=\"12\" font-style=\"italic\" lengthAdjust=\"spacingAndGlyphs\" textLength=\"71\" x=\"574\" y=\"65.1387\">«state def»</text><text fill=\"#000000\" font-family=\"sans-serif\" font-size=\"12\" lengthAdjust=\"spacingAndGlyphs\" textLength=\"8\" x=\"605.5\" y=\"79.1074\">S</text><line style=\"stroke: #383838; stroke-width: 1.0;\" x1=\"446\" x2=\"773\" y1=\"132.8438\" y2=\"132.8438\"/><text fill=\"#000000\" font-family=\"sans-serif\" font-size=\"12\" font-weight=\"bold\" lengthAdjust=\"spacingAndGlyphs\" textLength=\"38\" x=\"451\" y=\"100.0762\">entry</text><text fill=\"#000000\" font-family=\"sans-serif\" font-size=\"12\" lengthAdjust=\"spacingAndGlyphs\" textLength=\"16\" x=\"489\" y=\"100.0762\">/ A</text><text fill=\"#000000\" font-family=\"sans-serif\" font-size=\"12\" font-weight=\"bold\" lengthAdjust=\"spacingAndGlyphs\" textLength=\"18\" x=\"451\" y=\"114.0449\">do</text><text fill=\"#000000\" font-family=\"sans-serif\" font-size=\"12\" lengthAdjust=\"spacingAndGlyphs\" textLength=\"16\" x=\"469\" y=\"114.0449\">/ B</text><text fill=\"#000000\" font-family=\"sans-serif\" font-size=\"12\" font-weight=\"bold\" lengthAdjust=\"spacingAndGlyphs\" textLength=\"26\" x=\"451\" y=\"128.0137\">exit</text><text fill=\"#000000\" font-family=\"sans-serif\" font-size=\"12\" lengthAdjust=\"spacingAndGlyphs\" textLength=\"28\" x=\"477\" y=\"128.0137\">/ act</text></a><!--MD5=[b4997ac47864f28c2f74865a473b2911]\n",
       "class E2--><a href=\"psysml:7a2ca9b4-3a97-4e8a-92f8-a9f50dc832cb\" target=\"_top\" title=\"psysml:7a2ca9b4-3a97-4e8a-92f8-a9f50dc832cb\" xlink:actuate=\"onRequest\" xlink:href=\"psysml:7a2ca9b4-3a97-4e8a-92f8-a9f50dc832cb\" xlink:show=\"new\" xlink:title=\"psysml:7a2ca9b4-3a97-4e8a-92f8-a9f50dc832cb\" xlink:type=\"simple\"><rect fill=\"#FFFFFF\" height=\"75.5469\" id=\"E2\" style=\"stroke: #383838; stroke-width: 1.5;\" width=\"95\" x=\"334.5\" y=\"119\"/><text fill=\"#000000\" font-family=\"sans-serif\" font-size=\"12\" font-style=\"italic\" lengthAdjust=\"spacingAndGlyphs\" textLength=\"93\" x=\"335.5\" y=\"135.1387\">«attribute def»</text><text fill=\"#000000\" font-family=\"sans-serif\" font-size=\"12\" lengthAdjust=\"spacingAndGlyphs\" textLength=\"19\" x=\"372.5\" y=\"149.1074\">Sig</text><line style=\"stroke: #383838; stroke-width: 1.5;\" x1=\"335.5\" x2=\"428.5\" y1=\"156.9375\" y2=\"156.9375\"/><text fill=\"#000000\" font-family=\"sans-serif\" font-size=\"11\" lengthAdjust=\"spacingAndGlyphs\" textLength=\"6\" x=\"340.5\" y=\"187.9526\">x</text><line style=\"stroke: #383838; stroke-width: 1.0;\" x1=\"335.5\" x2=\"354.5\" y1=\"171.3398\" y2=\"171.3398\"/><text fill=\"#000000\" font-family=\"sans-serif\" font-size=\"11\" lengthAdjust=\"spacingAndGlyphs\" textLength=\"55\" x=\"354.5\" y=\"174.6479\">attributes</text><line style=\"stroke: #383838; stroke-width: 1.0;\" x1=\"409.5\" x2=\"428.5\" y1=\"171.3398\" y2=\"171.3398\"/></a><!--MD5=[09b614a08d8cba4a07c9adeb5e0fee81]\n",
       "class E3--><a href=\"psysml:30361623-caf7-482c-9813-174242dd8f3c\" target=\"_top\" title=\"psysml:30361623-caf7-482c-9813-174242dd8f3c\" xlink:actuate=\"onRequest\" xlink:href=\"psysml:30361623-caf7-482c-9813-174242dd8f3c\" xlink:show=\"new\" xlink:title=\"psysml:30361623-caf7-482c-9813-174242dd8f3c\" xlink:type=\"simple\"><rect fill=\"#FFFFFF\" height=\"45.9375\" id=\"E3\" style=\"stroke: #383838; stroke-width: 1.5;\" width=\"95\" x=\"204.5\" y=\"134\"/><text fill=\"#000000\" font-family=\"sans-serif\" font-size=\"12\" font-style=\"italic\" lengthAdjust=\"spacingAndGlyphs\" textLength=\"93\" x=\"205.5\" y=\"150.1387\">«attribute def»</text><text fill=\"#000000\" font-family=\"sans-serif\" font-size=\"12\" lengthAdjust=\"spacingAndGlyphs\" textLength=\"22\" x=\"241\" y=\"164.1074\">Exit</text><line style=\"stroke: #383838; stroke-width: 1.5;\" x1=\"205.5\" x2=\"298.5\" y1=\"171.9375\" y2=\"171.9375\"/></a><!--MD5=[ebbe1d658d1005bcc118a6aa81145e00]\n",
       "class E4--><a href=\"psysml:86d86843-d597-4d6e-917a-885d695bc43d\" target=\"_top\" title=\"psysml:86d86843-d597-4d6e-917a-885d695bc43d\" xlink:actuate=\"onRequest\" xlink:href=\"psysml:86d86843-d597-4d6e-917a-885d695bc43d\" xlink:show=\"new\" xlink:title=\"psysml:86d86843-d597-4d6e-917a-885d695bc43d\" xlink:type=\"simple\"><rect fill=\"#FFFFFF\" height=\"45.9375\" id=\"E4\" rx=\"10\" ry=\"10\" style=\"stroke: #383838; stroke-width: 1.5;\" width=\"42\" x=\"127\" y=\"134\"/><text fill=\"#000000\" font-family=\"sans-serif\" font-size=\"12\" font-style=\"italic\" lengthAdjust=\"spacingAndGlyphs\" textLength=\"40\" x=\"128\" y=\"150.1387\">«part»</text><text fill=\"#000000\" font-family=\"sans-serif\" font-size=\"12\" lengthAdjust=\"spacingAndGlyphs\" textLength=\"8\" x=\"144\" y=\"164.1074\">p</text><line style=\"stroke: #383838; stroke-width: 1.5;\" x1=\"128\" x2=\"168\" y1=\"171.9375\" y2=\"171.9375\"/></a><g id=\"E1.E5\"><a href=\"psysml:6cb3785d-90e3-4021-b607-f0ab9874924c\" target=\"_top\" title=\"psysml:6cb3785d-90e3-4021-b607-f0ab9874924c\" xlink:actuate=\"onRequest\" xlink:href=\"psysml:6cb3785d-90e3-4021-b607-f0ab9874924c\" xlink:show=\"new\" xlink:title=\"psysml:6cb3785d-90e3-4021-b607-f0ab9874924c\" xlink:type=\"simple\"><rect fill=\"#FFFFFF\" height=\"42.9375\" id=\"E5\" rx=\"10\" ry=\"10\" style=\"stroke: #383838; stroke-width: 1.5;\" width=\"60\" x=\"32\" y=\"135.5\"/><rect fill=\"#F8F8F8\" height=\"37.9375\" rx=\"10\" ry=\"10\" style=\"stroke: #F8F8F8; stroke-width: 1.5;\" width=\"60\" x=\"32\" y=\"135.5\"/><rect fill=\"#F8F8F8\" height=\"10\" style=\"stroke: #F8F8F8; stroke-width: 1.5;\" width=\"60\" x=\"32\" y=\"163.4375\"/><rect fill=\"none\" height=\"42.9375\" id=\"E5\" rx=\"10\" ry=\"10\" style=\"stroke: #383838; stroke-width: 1.5;\" width=\"60\" x=\"32\" y=\"135.5\"/><text fill=\"#000000\" font-family=\"sans-serif\" font-size=\"12\" font-style=\"italic\" lengthAdjust=\"spacingAndGlyphs\" textLength=\"53\" x=\"35.5\" y=\"151.6387\">«action»</text><text fill=\"#000000\" font-family=\"sans-serif\" font-size=\"12\" lengthAdjust=\"spacingAndGlyphs\" textLength=\"20\" x=\"52\" y=\"165.6074\">act</text></a></g><ellipse cx=\"558\" cy=\"157\" fill=\"#000000\" rx=\"10\" ry=\"10\" style=\"stroke: none; stroke-width: 1.0;\"/><ellipse cx=\"558\" cy=\"508\" fill=\"none\" rx=\"10\" ry=\"10\" style=\"stroke: #000000; stroke-width: 1.0;\"/><ellipse cx=\"558.5\" cy=\"508.5\" fill=\"#000000\" rx=\"6\" ry=\"6\" style=\"stroke: none; stroke-width: 1.0;\"/><g id=\"E1.E6.E7\"><a href=\"psysml:5ea02985-bc8b-4cb1-bb08-c3caa7c881e0\" target=\"_top\" title=\"psysml:5ea02985-bc8b-4cb1-bb08-c3caa7c881e0\" xlink:actuate=\"onRequest\" xlink:href=\"psysml:5ea02985-bc8b-4cb1-bb08-c3caa7c881e0\" xlink:show=\"new\" xlink:title=\"psysml:5ea02985-bc8b-4cb1-bb08-c3caa7c881e0\" xlink:type=\"simple\"><rect fill=\"#FFFFFF\" height=\"40\" id=\"E7\" rx=\"10\" ry=\"10\" style=\"stroke: #383838; stroke-width: 1.5;\" width=\"50\" x=\"533\" y=\"256\"/><rect fill=\"#F8F8F8\" height=\"23.9688\" rx=\"10\" ry=\"10\" style=\"stroke: #F8F8F8; stroke-width: 1.5;\" width=\"50\" x=\"533\" y=\"256\"/><rect fill=\"#F8F8F8\" height=\"10\" style=\"stroke: #F8F8F8; stroke-width: 1.5;\" width=\"50\" x=\"533\" y=\"269.9688\"/><rect fill=\"none\" height=\"40\" id=\"E7\" rx=\"10\" ry=\"10\" style=\"stroke: #383838; stroke-width: 1.5;\" width=\"50\" x=\"533\" y=\"256\"/><text fill=\"#000000\" font-family=\"sans-serif\" font-size=\"12\" lengthAdjust=\"spacingAndGlyphs\" textLength=\"16\" x=\"550\" y=\"272.1387\">S1</text></a></g><g id=\"E1.E6.E8\"><a href=\"psysml:15193c6f-79c7-4ee2-a2ac-bfb559b7d876\" target=\"_top\" title=\"psysml:15193c6f-79c7-4ee2-a2ac-bfb559b7d876\" xlink:actuate=\"onRequest\" xlink:href=\"psysml:15193c6f-79c7-4ee2-a2ac-bfb559b7d876\" xlink:show=\"new\" xlink:title=\"psysml:15193c6f-79c7-4ee2-a2ac-bfb559b7d876\" xlink:type=\"simple\"><rect fill=\"#FFFFFF\" height=\"47.9375\" id=\"E8\" rx=\"10\" ry=\"10\" style=\"stroke: #383838; stroke-width: 1.5;\" width=\"50\" x=\"533\" y=\"373\"/><rect fill=\"#F8F8F8\" height=\"23.9688\" rx=\"10\" ry=\"10\" style=\"stroke: #F8F8F8; stroke-width: 1.5;\" width=\"50\" x=\"533\" y=\"373\"/><rect fill=\"#F8F8F8\" height=\"10\" style=\"stroke: #F8F8F8; stroke-width: 1.5;\" width=\"50\" x=\"533\" y=\"386.9688\"/><rect fill=\"none\" height=\"47.9375\" id=\"E8\" rx=\"10\" ry=\"10\" style=\"stroke: #383838; stroke-width: 1.5;\" width=\"50\" x=\"533\" y=\"373\"/><text fill=\"#000000\" font-family=\"sans-serif\" font-size=\"12\" lengthAdjust=\"spacingAndGlyphs\" textLength=\"16\" x=\"550\" y=\"389.1387\">S2</text><line style=\"stroke: #383838; stroke-width: 1.0;\" x1=\"533\" x2=\"583\" y1=\"396.9688\" y2=\"396.9688\"/><text fill=\"#000000\" font-family=\"sans-serif\" font-size=\"12\" font-weight=\"bold\" lengthAdjust=\"spacingAndGlyphs\" textLength=\"18\" x=\"538\" y=\"410.1074\">do</text><text fill=\"#000000\" font-family=\"sans-serif\" font-size=\"12\" lengthAdjust=\"spacingAndGlyphs\" textLength=\"4\" x=\"556\" y=\"410.1074\">/</text></a></g><!--MD5=[5a531d3a85f3339e6e197084acb48195]\n",
       "link *start*E6 to E7--><a href=\"psysml:50e6b136-bb64-4da5-b9f3-893462631a2b\" target=\"_top\" title=\"psysml:50e6b136-bb64-4da5-b9f3-893462631a2b\" xlink:actuate=\"onRequest\" xlink:href=\"psysml:50e6b136-bb64-4da5-b9f3-893462631a2b\" xlink:show=\"new\" xlink:title=\"psysml:50e6b136-bb64-4da5-b9f3-893462631a2b\" xlink:type=\"simple\"><path d=\"M558,167.18 C558,184.98 558,224.73 558,250.67 \" fill=\"none\" id=\"*start*E6-&gt;E7\" style=\"stroke: #383838; stroke-width: 1.0;\"/><polygon fill=\"#383838\" points=\"558,255.98,562,246.98,558,250.98,554,246.98,558,255.98\" style=\"stroke: #383838; stroke-width: 1.0;\"/></a><!--MD5=[7ec9a8babba89ddcae1318ca9fb3c814]\n",
       "link E8 to *end*E6--><a href=\"psysml:400438d1-4a79-4175-ae6b-80e92b548ca9\" target=\"_top\" title=\"psysml:400438d1-4a79-4175-ae6b-80e92b548ca9\" xlink:actuate=\"onRequest\" xlink:href=\"psysml:400438d1-4a79-4175-ae6b-80e92b548ca9\" xlink:show=\"new\" xlink:title=\"psysml:400438d1-4a79-4175-ae6b-80e92b548ca9\" xlink:type=\"simple\"><path d=\"M558,421.12 C558,442.75 558,474.39 558,492.62 \" fill=\"none\" id=\"E8-&gt;*end*E6\" style=\"stroke: #383838; stroke-width: 1.0;\"/><polygon fill=\"#383838\" points=\"558,497.82,562,488.82,558,492.82,554,488.82,558,497.82\" style=\"stroke: #383838; stroke-width: 1.0;\"/><text fill=\"#000000\" font-family=\"sans-serif\" font-size=\"13\" lengthAdjust=\"spacingAndGlyphs\" textLength=\"23\" x=\"559\" y=\"464.0669\">Exit</text></a><!--MD5=[79bc8f324ef4d02c541433f2e6e513c3]\n",
       "link E7 to E8--><a href=\"psysml:516b9b87-0f3c-4a45-97aa-978805331ddd\" target=\"_top\" title=\"psysml:516b9b87-0f3c-4a45-97aa-978805331ddd\" xlink:actuate=\"onRequest\" xlink:href=\"psysml:516b9b87-0f3c-4a45-97aa-978805331ddd\" xlink:show=\"new\" xlink:title=\"psysml:516b9b87-0f3c-4a45-97aa-978805331ddd\" xlink:type=\"simple\"><path d=\"M533.07,296.08 C515.1,309.84 494,326 494,326 C494,326 494,343 494,343 C494,343 511.69,357.65 528.47,371.55 \" fill=\"none\" id=\"E7-&gt;E8\" style=\"stroke: #383838; stroke-width: 1.0;\"/><polygon fill=\"#383838\" points=\"532.71,375.05,528.3341,366.2267,528.8607,371.8589,523.2284,372.3855,532.71,375.05\" style=\"stroke: #383838; stroke-width: 1.0;\"/><text fill=\"#000000\" font-family=\"sans-serif\" font-size=\"13\" lengthAdjust=\"spacingAndGlyphs\" textLength=\"81\" x=\"495\" y=\"339.0669\">Sig /action D</text></a><!--MD5=[bfa3c8b0d15052fdf50ae9310b491027]\n",
       "link E8 to E7--><a href=\"psysml:0976314e-a9f7-4444-bafa-f8883db64fa0\" target=\"_top\" title=\"psysml:0976314e-a9f7-4444-bafa-f8883db64fa0\" xlink:actuate=\"onRequest\" xlink:href=\"psysml:0976314e-a9f7-4444-bafa-f8883db64fa0\" xlink:show=\"new\" xlink:title=\"psysml:0976314e-a9f7-4444-bafa-f8883db64fa0\" xlink:type=\"simple\"><path d=\"M568.02,372.91 C574.22,358.63 581,343 581,343 C581,343 581,326 581,326 C581,326 574.98,313.18 569.11,300.66 \" fill=\"none\" id=\"E8-&gt;E7\" style=\"stroke: #383838; stroke-width: 1.0;\"/><polygon fill=\"#383838\" points=\"566.96,296.08,567.1429,305.9272,569.0752,300.6106,574.3918,302.5428,566.96,296.08\" style=\"stroke: #383838; stroke-width: 1.0;\"/><text fill=\"#000000\" font-family=\"sans-serif\" font-size=\"13\" lengthAdjust=\"spacingAndGlyphs\" textLength=\"135\" x=\"582\" y=\"339.0669\">Sig [true]/send s to p</text></a><!--MD5=[4761b5d77d34c3b13cb54ff5d33e552d]\n",
       "@startuml\r\n",
       "skinparam linetype polyline\r\n",
       "skinparam monochrome true\r\n",
       "skinparam classbackgroundcolor white\r\n",
       "skinparam shadowing false\r\n",
       "skinparam wrapWidth 300\r\n",
       "hide circle\r\n",
       "\r\n",
       "package \"StateTest\" as E1  [[psysml:9c548ee6-d869-4820-b951-32f5a4e72165 ]]  {\r\n",
       "comp def \"Sig\" as E2  <<(T,blue)attribute def>> [[psysml:7a2ca9b4-3a97-4e8a-92f8-a9f50dc832cb ]] {\r\n",
       "- - attributes - -\r\n",
       "x\r\n",
       "}\r\n",
       "comp def \"Exit\" as E3  <<(T,blue)attribute def>> [[psysml:30361623-caf7-482c-9813-174242dd8f3c ]] {\r\n",
       "}\r\n",
       "comp usage \"p\" as E4  <<(T,blue)part>> [[psysml:86d86843-d597-4d6e-917a-885d695bc43d ]] {\r\n",
       "}\r\n",
       "rec usage \"act\" as E5  <<(T,blue)action>> [[psysml:6cb3785d-90e3-4021-b607-f0ab9874924c ]] {\r\n",
       "}\r\n",
       "\r\n",
       "rec def \"S\" as E6  <<(T,blue)state def>> [[psysml:409d967c-2b55-4985-b068-ed253d96c58c ]] {\r\n",
       "rec usage \"S1\" as E7 [[psysml:5ea02985-bc8b-4cb1-bb08-c3caa7c881e0 ]] {\r\n",
       "}\r\n",
       "\r\n",
       "rec usage \"S2\" as E8 [[psysml:15193c6f-79c7-4ee2-a2ac-bfb559b7d876 ]] {\r\n",
       "desc \"S2\" as E8  : **do**/ \r\n",
       "}\r\n",
       "\r\n",
       "[*] - -> E7 [[psysml:50e6b136-bb64-4da5-b9f3-893462631a2b ]] \r\n",
       "E8  - -> [*] [[psysml:400438d1-4a79-4175-ae6b-80e92b548ca9 ]] : Exit \r\n",
       "desc \"S\" as E6  : **entry**/ A\r\n",
       "desc \"S\" as E6  : **do**/ B\r\n",
       "desc \"S\" as E6  : **exit**/ act \r\n",
       "}\r\n",
       "\r\n",
       "E7  - -> E8 [[psysml:516b9b87-0f3c-4a45-97aa-978805331ddd ]] : Sig /action D\r\n",
       "E8  - -> E7 [[psysml:0976314e-a9f7-4444-bafa-f8883db64fa0 ]] : Sig [true]/send s to p\r\n",
       "}\r\n",
       "@enduml\r\n",
       "\n",
       "PlantUML version 1.2020.13(Sat Jun 13 12:26:38 UTC 2020)\n",
       "(EPL source distribution)\n",
       "Java Runtime: OpenJDK Runtime Environment\n",
       "JVM: OpenJDK 64-Bit Server VM\n",
       "Default Encoding: UTF-8\n",
       "Language: en\n",
       "Country: null\n",
       "--></g></svg>"
      ]
     },
     "execution_count": 9,
     "metadata": {},
     "output_type": "execute_result"
    }
   ],
   "source": [
    "%viz --style=\"POLYLINE\" --view=\"Default\" \"StateTest\""
   ]
  },
  {
   "cell_type": "code",
   "execution_count": 10,
   "id": "boxed-border",
   "metadata": {
    "execution": {
     "iopub.execute_input": "2021-03-26T09:13:52.200676Z",
     "iopub.status.busy": "2021-03-26T09:13:52.200339Z",
     "iopub.status.idle": "2021-03-26T09:13:52.331784Z",
     "shell.execute_reply": "2021-03-26T09:13:52.330401Z"
    }
   },
   "outputs": [
    {
     "data": {
      "image/svg+xml": [
       "<?xml version=\"1.0\" encoding=\"UTF-8\" standalone=\"no\"?><svg xmlns=\"http://www.w3.org/2000/svg\" xmlns:xlink=\"http://www.w3.org/1999/xlink\" contentScriptType=\"application/ecmascript\" contentStyleType=\"text/css\" height=\"471px\" preserveAspectRatio=\"none\" style=\"width:594px;height:471px;\" version=\"1.1\" viewBox=\"0 0 594 471\" width=\"594px\" zoomAndPan=\"magnify\"><defs/><g><!--MD5=[fbc87193dbaf4d95561dea2c320d4a47]\n",
       "cluster E1--><a href=\"psysml:9c548ee6-d869-4820-b951-32f5a4e72165\" target=\"_top\" title=\"psysml:9c548ee6-d869-4820-b951-32f5a4e72165\" xlink:actuate=\"onRequest\" xlink:href=\"psysml:9c548ee6-d869-4820-b951-32f5a4e72165\" xlink:show=\"new\" xlink:title=\"psysml:9c548ee6-d869-4820-b951-32f5a4e72165\" xlink:type=\"simple\"><polygon fill=\"#FFFFFF\" points=\"16,6,98,6,105,28.2969,572,28.2969,572,459,16,459,16,6\" style=\"stroke: #000000; stroke-width: 1.5;\"/><line style=\"stroke: #000000; stroke-width: 1.5;\" x1=\"16\" x2=\"105\" y1=\"28.2969\" y2=\"28.2969\"/><text fill=\"#000000\" font-family=\"sans-serif\" font-size=\"14\" font-weight=\"bold\" lengthAdjust=\"spacingAndGlyphs\" textLength=\"76\" x=\"20\" y=\"20.9951\">StateTest</text></a><!--MD5=[b4997ac47864f28c2f74865a473b2911]\n",
       "class E2--><a href=\"psysml:7a2ca9b4-3a97-4e8a-92f8-a9f50dc832cb\" target=\"_top\" title=\"psysml:7a2ca9b4-3a97-4e8a-92f8-a9f50dc832cb\" xlink:actuate=\"onRequest\" xlink:href=\"psysml:7a2ca9b4-3a97-4e8a-92f8-a9f50dc832cb\" xlink:show=\"new\" xlink:title=\"psysml:7a2ca9b4-3a97-4e8a-92f8-a9f50dc832cb\" xlink:type=\"simple\"><rect fill=\"#FFFFFF\" height=\"75.5469\" id=\"E2\" style=\"stroke: #383838; stroke-width: 1.5;\" width=\"95\" x=\"460.5\" y=\"83\"/><text fill=\"#000000\" font-family=\"sans-serif\" font-size=\"12\" font-style=\"italic\" lengthAdjust=\"spacingAndGlyphs\" textLength=\"93\" x=\"461.5\" y=\"99.1387\">«attribute def»</text><text fill=\"#000000\" font-family=\"sans-serif\" font-size=\"12\" lengthAdjust=\"spacingAndGlyphs\" textLength=\"19\" x=\"498.5\" y=\"113.1074\">Sig</text><line style=\"stroke: #383838; stroke-width: 1.5;\" x1=\"461.5\" x2=\"554.5\" y1=\"120.9375\" y2=\"120.9375\"/><text fill=\"#000000\" font-family=\"sans-serif\" font-size=\"11\" lengthAdjust=\"spacingAndGlyphs\" textLength=\"6\" x=\"466.5\" y=\"151.9526\">x</text><line style=\"stroke: #383838; stroke-width: 1.0;\" x1=\"461.5\" x2=\"480.5\" y1=\"135.3398\" y2=\"135.3398\"/><text fill=\"#000000\" font-family=\"sans-serif\" font-size=\"11\" lengthAdjust=\"spacingAndGlyphs\" textLength=\"55\" x=\"480.5\" y=\"138.6479\">attributes</text><line style=\"stroke: #383838; stroke-width: 1.0;\" x1=\"535.5\" x2=\"554.5\" y1=\"135.3398\" y2=\"135.3398\"/></a><!--MD5=[09b614a08d8cba4a07c9adeb5e0fee81]\n",
       "class E3--><a href=\"psysml:30361623-caf7-482c-9813-174242dd8f3c\" target=\"_top\" title=\"psysml:30361623-caf7-482c-9813-174242dd8f3c\" xlink:actuate=\"onRequest\" xlink:href=\"psysml:30361623-caf7-482c-9813-174242dd8f3c\" xlink:show=\"new\" xlink:title=\"psysml:30361623-caf7-482c-9813-174242dd8f3c\" xlink:type=\"simple\"><rect fill=\"#FFFFFF\" height=\"45.9375\" id=\"E3\" style=\"stroke: #383838; stroke-width: 1.5;\" width=\"95\" x=\"330.5\" y=\"98\"/><text fill=\"#000000\" font-family=\"sans-serif\" font-size=\"12\" font-style=\"italic\" lengthAdjust=\"spacingAndGlyphs\" textLength=\"93\" x=\"331.5\" y=\"114.1387\">«attribute def»</text><text fill=\"#000000\" font-family=\"sans-serif\" font-size=\"12\" lengthAdjust=\"spacingAndGlyphs\" textLength=\"22\" x=\"367\" y=\"128.1074\">Exit</text><line style=\"stroke: #383838; stroke-width: 1.5;\" x1=\"331.5\" x2=\"424.5\" y1=\"135.9375\" y2=\"135.9375\"/></a><!--MD5=[ebbe1d658d1005bcc118a6aa81145e00]\n",
       "class E4--><a href=\"psysml:86d86843-d597-4d6e-917a-885d695bc43d\" target=\"_top\" title=\"psysml:86d86843-d597-4d6e-917a-885d695bc43d\" xlink:actuate=\"onRequest\" xlink:href=\"psysml:86d86843-d597-4d6e-917a-885d695bc43d\" xlink:show=\"new\" xlink:title=\"psysml:86d86843-d597-4d6e-917a-885d695bc43d\" xlink:type=\"simple\"><rect fill=\"#FFFFFF\" height=\"45.9375\" id=\"E4\" rx=\"10\" ry=\"10\" style=\"stroke: #383838; stroke-width: 1.5;\" width=\"42\" x=\"253\" y=\"98\"/><text fill=\"#000000\" font-family=\"sans-serif\" font-size=\"12\" font-style=\"italic\" lengthAdjust=\"spacingAndGlyphs\" textLength=\"40\" x=\"254\" y=\"114.1387\">«part»</text><text fill=\"#000000\" font-family=\"sans-serif\" font-size=\"12\" lengthAdjust=\"spacingAndGlyphs\" textLength=\"8\" x=\"270\" y=\"128.1074\">p</text><line style=\"stroke: #383838; stroke-width: 1.5;\" x1=\"254\" x2=\"294\" y1=\"135.9375\" y2=\"135.9375\"/></a><!--MD5=[270fce915f116d4de14055a7c1d9a0f3]\n",
       "class E5--><a href=\"psysml:6cb3785d-90e3-4021-b607-f0ab9874924c\" target=\"_top\" title=\"psysml:6cb3785d-90e3-4021-b607-f0ab9874924c\" xlink:actuate=\"onRequest\" xlink:href=\"psysml:6cb3785d-90e3-4021-b607-f0ab9874924c\" xlink:show=\"new\" xlink:title=\"psysml:6cb3785d-90e3-4021-b607-f0ab9874924c\" xlink:type=\"simple\"><rect fill=\"#FFFFFF\" height=\"45.9375\" id=\"E5\" rx=\"10\" ry=\"10\" style=\"stroke: #383838; stroke-width: 1.5;\" width=\"55\" x=\"162.5\" y=\"98\"/><text fill=\"#000000\" font-family=\"sans-serif\" font-size=\"12\" font-style=\"italic\" lengthAdjust=\"spacingAndGlyphs\" textLength=\"53\" x=\"163.5\" y=\"114.1387\">«action»</text><text fill=\"#000000\" font-family=\"sans-serif\" font-size=\"12\" lengthAdjust=\"spacingAndGlyphs\" textLength=\"20\" x=\"180\" y=\"128.1074\">act</text><line style=\"stroke: #383838; stroke-width: 1.5;\" x1=\"163.5\" x2=\"216.5\" y1=\"135.9375\" y2=\"135.9375\"/></a><!--MD5=[60a26617385b1d2d0262a64233df1f8d]\n",
       "class E6--><a href=\"psysml:409d967c-2b55-4985-b068-ed253d96c58c\" target=\"_top\" title=\"psysml:409d967c-2b55-4985-b068-ed253d96c58c\" xlink:actuate=\"onRequest\" xlink:href=\"psysml:409d967c-2b55-4985-b068-ed253d96c58c\" xlink:show=\"new\" xlink:title=\"psysml:409d967c-2b55-4985-b068-ed253d96c58c\" xlink:type=\"simple\"><rect fill=\"#FFFFFF\" height=\"160.375\" id=\"E6\" style=\"stroke: #383838; stroke-width: 1.5;\" width=\"95\" x=\"32.5\" y=\"41\"/><text fill=\"#000000\" font-family=\"sans-serif\" font-size=\"12\" font-style=\"italic\" lengthAdjust=\"spacingAndGlyphs\" textLength=\"71\" x=\"44.5\" y=\"57.1387\">«state def»</text><text fill=\"#000000\" font-family=\"sans-serif\" font-size=\"12\" lengthAdjust=\"spacingAndGlyphs\" textLength=\"8\" x=\"76\" y=\"71.1074\">S</text><line style=\"stroke: #383838; stroke-width: 1.5;\" x1=\"33.5\" x2=\"126.5\" y1=\"78.9375\" y2=\"78.9375\"/><text fill=\"#000000\" font-family=\"sans-serif\" font-size=\"11\" lengthAdjust=\"spacingAndGlyphs\" textLength=\"17\" x=\"38.5\" y=\"109.9526\">act</text><text fill=\"#000000\" font-family=\"sans-serif\" font-size=\"11\" lengthAdjust=\"spacingAndGlyphs\" textLength=\"7\" x=\"38.5\" y=\"122.7573\">A</text><text fill=\"#000000\" font-family=\"sans-serif\" font-size=\"11\" lengthAdjust=\"spacingAndGlyphs\" textLength=\"8\" x=\"38.5\" y=\"135.562\">B</text><line style=\"stroke: #383838; stroke-width: 1.0;\" x1=\"33.5\" x2=\"36.5\" y1=\"93.3398\" y2=\"93.3398\"/><text fill=\"#000000\" font-family=\"sans-serif\" font-size=\"11\" lengthAdjust=\"spacingAndGlyphs\" textLength=\"87\" x=\"36.5\" y=\"96.6479\">performActions</text><line style=\"stroke: #383838; stroke-width: 1.0;\" x1=\"123.5\" x2=\"126.5\" y1=\"93.3398\" y2=\"93.3398\"/><text fill=\"#000000\" font-family=\"sans-serif\" font-size=\"11\" lengthAdjust=\"spacingAndGlyphs\" textLength=\"15\" x=\"38.5\" y=\"165.1714\">S1</text><line style=\"stroke: #383838; stroke-width: 1.0;\" x1=\"33.5\" x2=\"62\" y1=\"148.5586\" y2=\"148.5586\"/><text fill=\"#000000\" font-family=\"sans-serif\" font-size=\"11\" lengthAdjust=\"spacingAndGlyphs\" textLength=\"36\" x=\"62\" y=\"151.8667\">states</text><line style=\"stroke: #383838; stroke-width: 1.0;\" x1=\"98\" x2=\"126.5\" y1=\"148.5586\" y2=\"148.5586\"/><text fill=\"#000000\" font-family=\"sans-serif\" font-size=\"11\" lengthAdjust=\"spacingAndGlyphs\" textLength=\"7\" x=\"38.5\" y=\"194.7808\">T</text><line style=\"stroke: #383838; stroke-width: 1.0;\" x1=\"33.5\" x2=\"49.5\" y1=\"178.168\" y2=\"178.168\"/><text fill=\"#000000\" font-family=\"sans-serif\" font-size=\"11\" lengthAdjust=\"spacingAndGlyphs\" textLength=\"61\" x=\"49.5\" y=\"181.4761\">transitions</text><line style=\"stroke: #383838; stroke-width: 1.0;\" x1=\"110.5\" x2=\"126.5\" y1=\"178.168\" y2=\"178.168\"/></a><!--MD5=[1dd1bfd58a279cf63c5f349dbc8fc6a1]\n",
       "class E11--><a href=\"psysml:15193c6f-79c7-4ee2-a2ac-bfb559b7d876\" target=\"_top\" title=\"psysml:15193c6f-79c7-4ee2-a2ac-bfb559b7d876\" xlink:actuate=\"onRequest\" xlink:href=\"psysml:15193c6f-79c7-4ee2-a2ac-bfb559b7d876\" xlink:show=\"new\" xlink:title=\"psysml:15193c6f-79c7-4ee2-a2ac-bfb559b7d876\" xlink:type=\"simple\"><rect fill=\"#FFFFFF\" height=\"45.9375\" id=\"E11\" rx=\"10\" ry=\"10\" style=\"stroke: #383838; stroke-width: 1.5;\" width=\"49\" x=\"55.5\" y=\"261\"/><text fill=\"#000000\" font-family=\"sans-serif\" font-size=\"12\" font-style=\"italic\" lengthAdjust=\"spacingAndGlyphs\" textLength=\"47\" x=\"56.5\" y=\"277.1387\">«state»</text><text fill=\"#000000\" font-family=\"sans-serif\" font-size=\"12\" lengthAdjust=\"spacingAndGlyphs\" textLength=\"16\" x=\"72\" y=\"291.1074\">S2</text><line style=\"stroke: #383838; stroke-width: 1.5;\" x1=\"56.5\" x2=\"103.5\" y1=\"298.9375\" y2=\"298.9375\"/></a><!--MD5=[49a0ec8f00dab7302a31f22d0f0fe584]\n",
       "class E12--><a href=\"psysml:02a264b3-17c4-490c-b5b1-f49bb5aa02c2\" target=\"_top\" title=\"psysml:02a264b3-17c4-490c-b5b1-f49bb5aa02c2\" xlink:actuate=\"onRequest\" xlink:href=\"psysml:02a264b3-17c4-490c-b5b1-f49bb5aa02c2\" xlink:show=\"new\" xlink:title=\"psysml:02a264b3-17c4-490c-b5b1-f49bb5aa02c2\" xlink:type=\"simple\"><rect fill=\"#FFFFFF\" height=\"75.5469\" id=\"E12\" rx=\"10\" ry=\"10\" style=\"stroke: #383838; stroke-width: 1.5;\" width=\"90\" x=\"35\" y=\"367\"/><text fill=\"#000000\" font-family=\"sans-serif\" font-size=\"12\" font-style=\"italic\" lengthAdjust=\"spacingAndGlyphs\" textLength=\"88\" x=\"36\" y=\"383.1387\">«send action»</text><text fill=\"#000000\" font-family=\"sans-serif\" font-size=\"12\" lengthAdjust=\"spacingAndGlyphs\" textLength=\"55\" x=\"52.5\" y=\"397.1074\">doAction</text><line style=\"stroke: #383838; stroke-width: 1.5;\" x1=\"36\" x2=\"124\" y1=\"404.9375\" y2=\"404.9375\"/><text fill=\"#000000\" font-family=\"sans-serif\" font-size=\"11\" lengthAdjust=\"spacingAndGlyphs\" textLength=\"25\" x=\"41\" y=\"435.9526\">item</text><line style=\"stroke: #383838; stroke-width: 1.0;\" x1=\"36\" x2=\"42.5\" y1=\"419.3398\" y2=\"419.3398\"/><text fill=\"#000000\" font-family=\"sans-serif\" font-size=\"11\" lengthAdjust=\"spacingAndGlyphs\" textLength=\"75\" x=\"42.5\" y=\"422.6479\">itemFeatures</text><line style=\"stroke: #383838; stroke-width: 1.0;\" x1=\"117.5\" x2=\"124\" y1=\"419.3398\" y2=\"419.3398\"/></a><!--MD5=[1f5f03483f7de0d5b3680a7f6650997f]\n",
       "reverse link E6 to E11--><a href=\"psysml:15193c6f-79c7-4ee2-a2ac-bfb559b7d876\" target=\"_top\" title=\"psysml:15193c6f-79c7-4ee2-a2ac-bfb559b7d876\" xlink:actuate=\"onRequest\" xlink:href=\"psysml:15193c6f-79c7-4ee2-a2ac-bfb559b7d876\" xlink:show=\"new\" xlink:title=\"psysml:15193c6f-79c7-4ee2-a2ac-bfb559b7d876\" xlink:type=\"simple\"><path d=\"M80,214.17 C80,231.58 80,248.25 80,260.82 \" fill=\"none\" id=\"E6&lt;-E11\" style=\"stroke: #383838; stroke-width: 1.0;\"/><polygon fill=\"#383838\" points=\"80,201.09,76.0066,207.0944,80.0132,213.09,84.0066,207.0856,80,201.09\" style=\"stroke: #383838; stroke-width: 1.0;\"/></a><!--MD5=[94adabc162ce7e41b39f13be14fbaeb3]\n",
       "reverse link E11 to E12--><a href=\"psysml:02a264b3-17c4-490c-b5b1-f49bb5aa02c2\" target=\"_top\" title=\"psysml:02a264b3-17c4-490c-b5b1-f49bb5aa02c2\" xlink:actuate=\"onRequest\" xlink:href=\"psysml:02a264b3-17c4-490c-b5b1-f49bb5aa02c2\" xlink:show=\"new\" xlink:title=\"psysml:02a264b3-17c4-490c-b5b1-f49bb5aa02c2\" xlink:type=\"simple\"><path d=\"M80,320.23 C80,334.82 80,351.76 80,366.58 \" fill=\"none\" id=\"E11&lt;-E12\" style=\"stroke: #383838; stroke-width: 1.0;\"/><polygon fill=\"#FFFFFF\" points=\"80,307.1,76,313.1,80,319.1,84,313.1,80,307.1\" style=\"stroke: #383838; stroke-width: 1.0;\"/></a><!--MD5=[7cd0e01ad97bf5879702b50c2e5009c7]\n",
       "@startuml\r\n",
       "skinparam linetype polyline\r\n",
       "skinparam monochrome true\r\n",
       "skinparam classbackgroundcolor white\r\n",
       "skinparam shadowing false\r\n",
       "skinparam wrapWidth 300\r\n",
       "hide circle\r\n",
       "\r\n",
       "package \"StateTest\" as E1  [[psysml:9c548ee6-d869-4820-b951-32f5a4e72165 ]]  {\r\n",
       "comp def \"Sig\" as E2  <<(T,blue)attribute def>> [[psysml:7a2ca9b4-3a97-4e8a-92f8-a9f50dc832cb ]] {\r\n",
       "- - attributes - -\r\n",
       "x\r\n",
       "}\r\n",
       "comp def \"Exit\" as E3  <<(T,blue)attribute def>> [[psysml:30361623-caf7-482c-9813-174242dd8f3c ]] {\r\n",
       "}\r\n",
       "comp usage \"p\" as E4  <<(T,blue)part>> [[psysml:86d86843-d597-4d6e-917a-885d695bc43d ]] {\r\n",
       "}\r\n",
       "comp usage \"act\" as E5  <<(T,blue)action>> [[psysml:6cb3785d-90e3-4021-b607-f0ab9874924c ]] {\r\n",
       "}\r\n",
       "comp def \"S\" as E6  <<(T,blue)state def>> [[psysml:409d967c-2b55-4985-b068-ed253d96c58c ]] {\r\n",
       "- - performActions - -\r\n",
       "act\r\n",
       "A\r\n",
       "B\r\n",
       "- - states - -\r\n",
       "S1\r\n",
       "- - transitions - -\r\n",
       "T\r\n",
       "}\r\n",
       "comp usage \"S2\" as E11  <<(T,blue)state>> [[psysml:15193c6f-79c7-4ee2-a2ac-bfb559b7d876 ]] {\r\n",
       "}\r\n",
       "comp usage \"doAction\" as E12 <<send action>> [[psysml:02a264b3-17c4-490c-b5b1-f49bb5aa02c2 ]] {\r\n",
       "- - itemFeatures - -\r\n",
       "item\r\n",
       "}\r\n",
       "E6 *- - E11 [[psysml:15193c6f-79c7-4ee2-a2ac-bfb559b7d876 ]] \r\n",
       "E11 o- - E12 [[psysml:02a264b3-17c4-490c-b5b1-f49bb5aa02c2 ]] \r\n",
       "}\r\n",
       "@enduml\r\n",
       "\n",
       "PlantUML version 1.2020.13(Sat Jun 13 12:26:38 UTC 2020)\n",
       "(EPL source distribution)\n",
       "Java Runtime: OpenJDK Runtime Environment\n",
       "JVM: OpenJDK 64-Bit Server VM\n",
       "Default Encoding: UTF-8\n",
       "Language: en\n",
       "Country: null\n",
       "--></g></svg>"
      ]
     },
     "execution_count": 10,
     "metadata": {},
     "output_type": "execute_result"
    }
   ],
   "source": [
    "%viz --style=\"POLYLINE\" --view=\"Tree\" \"StateTest\""
   ]
  },
  {
   "cell_type": "code",
   "execution_count": 11,
   "id": "identified-sugar",
   "metadata": {
    "execution": {
     "iopub.execute_input": "2021-03-26T09:13:52.382298Z",
     "iopub.status.busy": "2021-03-26T09:13:52.381717Z",
     "iopub.status.idle": "2021-03-26T09:13:52.413584Z",
     "shell.execute_reply": "2021-03-26T09:13:52.413318Z"
    }
   },
   "outputs": [
    {
     "data": {
      "image/svg+xml": [
       "<?xml version=\"1.0\" encoding=\"UTF-8\" standalone=\"no\"?><svg xmlns=\"http://www.w3.org/2000/svg\" xmlns:xlink=\"http://www.w3.org/1999/xlink\" contentScriptType=\"application/ecmascript\" contentStyleType=\"text/css\" height=\"475px\" preserveAspectRatio=\"none\" style=\"width:346px;height:475px;\" version=\"1.1\" viewBox=\"0 0 346 475\" width=\"346px\" zoomAndPan=\"magnify\"><defs/><g><!--MD5=[fbc87193dbaf4d95561dea2c320d4a47]\n",
       "cluster E1--><a href=\"psysml:409d967c-2b55-4985-b068-ed253d96c58c\" target=\"_top\" title=\"psysml:409d967c-2b55-4985-b068-ed253d96c58c\" xlink:actuate=\"onRequest\" xlink:href=\"psysml:409d967c-2b55-4985-b068-ed253d96c58c\" xlink:show=\"new\" xlink:title=\"psysml:409d967c-2b55-4985-b068-ed253d96c58c\" xlink:type=\"simple\"><rect fill=\"#FFFFFF\" height=\"457\" id=\"E1\" style=\"stroke: #383838; stroke-width: 1.5;\" width=\"327\" x=\"7\" y=\"7\"/><rect fill=\"#F8F8F8\" height=\"37.9375\" style=\"stroke: #383838; stroke-width: 1.5;\" width=\"327\" x=\"7\" y=\"7\"/><text fill=\"#000000\" font-family=\"sans-serif\" font-size=\"12\" font-style=\"italic\" lengthAdjust=\"spacingAndGlyphs\" textLength=\"71\" x=\"135\" y=\"23.1387\">«state def»</text><text fill=\"#000000\" font-family=\"sans-serif\" font-size=\"12\" lengthAdjust=\"spacingAndGlyphs\" textLength=\"8\" x=\"166.5\" y=\"37.1074\">S</text><line style=\"stroke: #383838; stroke-width: 1.0;\" x1=\"7\" x2=\"334\" y1=\"90.8438\" y2=\"90.8438\"/><text fill=\"#000000\" font-family=\"sans-serif\" font-size=\"12\" font-weight=\"bold\" lengthAdjust=\"spacingAndGlyphs\" textLength=\"38\" x=\"12\" y=\"58.0762\">entry</text><text fill=\"#000000\" font-family=\"sans-serif\" font-size=\"12\" lengthAdjust=\"spacingAndGlyphs\" textLength=\"16\" x=\"50\" y=\"58.0762\">/ A</text><text fill=\"#000000\" font-family=\"sans-serif\" font-size=\"12\" font-weight=\"bold\" lengthAdjust=\"spacingAndGlyphs\" textLength=\"18\" x=\"12\" y=\"72.0449\">do</text><text fill=\"#000000\" font-family=\"sans-serif\" font-size=\"12\" lengthAdjust=\"spacingAndGlyphs\" textLength=\"16\" x=\"30\" y=\"72.0449\">/ B</text><text fill=\"#000000\" font-family=\"sans-serif\" font-size=\"12\" font-weight=\"bold\" lengthAdjust=\"spacingAndGlyphs\" textLength=\"26\" x=\"12\" y=\"86.0137\">exit</text><text fill=\"#000000\" font-family=\"sans-serif\" font-size=\"12\" lengthAdjust=\"spacingAndGlyphs\" textLength=\"28\" x=\"38\" y=\"86.0137\">/ act</text></a><ellipse cx=\"119\" cy=\"115\" fill=\"#000000\" rx=\"10\" ry=\"10\" style=\"stroke: none; stroke-width: 1.0;\"/><ellipse cx=\"119\" cy=\"438\" fill=\"none\" rx=\"10\" ry=\"10\" style=\"stroke: #000000; stroke-width: 1.0;\"/><ellipse cx=\"119.5\" cy=\"438.5\" fill=\"#000000\" rx=\"6\" ry=\"6\" style=\"stroke: none; stroke-width: 1.0;\"/><g id=\"E1.E2\"><a href=\"psysml:5ea02985-bc8b-4cb1-bb08-c3caa7c881e0\" target=\"_top\" title=\"psysml:5ea02985-bc8b-4cb1-bb08-c3caa7c881e0\" xlink:actuate=\"onRequest\" xlink:href=\"psysml:5ea02985-bc8b-4cb1-bb08-c3caa7c881e0\" xlink:show=\"new\" xlink:title=\"psysml:5ea02985-bc8b-4cb1-bb08-c3caa7c881e0\" xlink:type=\"simple\"><rect fill=\"#FFFFFF\" height=\"40\" id=\"E2\" rx=\"10\" ry=\"10\" style=\"stroke: #383838; stroke-width: 1.5;\" width=\"50\" x=\"94\" y=\"186\"/><rect fill=\"#F8F8F8\" height=\"23.9688\" rx=\"10\" ry=\"10\" style=\"stroke: #F8F8F8; stroke-width: 1.5;\" width=\"50\" x=\"94\" y=\"186\"/><rect fill=\"#F8F8F8\" height=\"10\" style=\"stroke: #F8F8F8; stroke-width: 1.5;\" width=\"50\" x=\"94\" y=\"199.9688\"/><rect fill=\"none\" height=\"40\" id=\"E2\" rx=\"10\" ry=\"10\" style=\"stroke: #383838; stroke-width: 1.5;\" width=\"50\" x=\"94\" y=\"186\"/><text fill=\"#000000\" font-family=\"sans-serif\" font-size=\"12\" lengthAdjust=\"spacingAndGlyphs\" textLength=\"16\" x=\"111\" y=\"202.1387\">S1</text></a></g><g id=\"E1.E3\"><a href=\"psysml:15193c6f-79c7-4ee2-a2ac-bfb559b7d876\" target=\"_top\" title=\"psysml:15193c6f-79c7-4ee2-a2ac-bfb559b7d876\" xlink:actuate=\"onRequest\" xlink:href=\"psysml:15193c6f-79c7-4ee2-a2ac-bfb559b7d876\" xlink:show=\"new\" xlink:title=\"psysml:15193c6f-79c7-4ee2-a2ac-bfb559b7d876\" xlink:type=\"simple\"><rect fill=\"#FFFFFF\" height=\"47.9375\" id=\"E3\" rx=\"10\" ry=\"10\" style=\"stroke: #383838; stroke-width: 1.5;\" width=\"50\" x=\"94\" y=\"303\"/><rect fill=\"#F8F8F8\" height=\"23.9688\" rx=\"10\" ry=\"10\" style=\"stroke: #F8F8F8; stroke-width: 1.5;\" width=\"50\" x=\"94\" y=\"303\"/><rect fill=\"#F8F8F8\" height=\"10\" style=\"stroke: #F8F8F8; stroke-width: 1.5;\" width=\"50\" x=\"94\" y=\"316.9688\"/><rect fill=\"none\" height=\"47.9375\" id=\"E3\" rx=\"10\" ry=\"10\" style=\"stroke: #383838; stroke-width: 1.5;\" width=\"50\" x=\"94\" y=\"303\"/><text fill=\"#000000\" font-family=\"sans-serif\" font-size=\"12\" lengthAdjust=\"spacingAndGlyphs\" textLength=\"16\" x=\"111\" y=\"319.1387\">S2</text><line style=\"stroke: #383838; stroke-width: 1.0;\" x1=\"94\" x2=\"144\" y1=\"326.9688\" y2=\"326.9688\"/><text fill=\"#000000\" font-family=\"sans-serif\" font-size=\"12\" font-weight=\"bold\" lengthAdjust=\"spacingAndGlyphs\" textLength=\"18\" x=\"99\" y=\"340.1074\">do</text><text fill=\"#000000\" font-family=\"sans-serif\" font-size=\"12\" lengthAdjust=\"spacingAndGlyphs\" textLength=\"4\" x=\"117\" y=\"340.1074\">/</text></a></g><!--MD5=[cff944eb183b832d446717a4e202d613]\n",
       "link *start*E1 to E2--><a href=\"psysml:50e6b136-bb64-4da5-b9f3-893462631a2b\" target=\"_top\" title=\"psysml:50e6b136-bb64-4da5-b9f3-893462631a2b\" xlink:actuate=\"onRequest\" xlink:href=\"psysml:50e6b136-bb64-4da5-b9f3-893462631a2b\" xlink:show=\"new\" xlink:title=\"psysml:50e6b136-bb64-4da5-b9f3-893462631a2b\" xlink:type=\"simple\"><path d=\"M119,125.19 C119,138.18 119,162.38 119,180.73 \" fill=\"none\" id=\"*start*E1-&gt;E2\" style=\"stroke: #383838; stroke-width: 1.0;\"/><polygon fill=\"#383838\" points=\"119,185.74,123,176.74,119,180.74,115,176.74,119,185.74\" style=\"stroke: #383838; stroke-width: 1.0;\"/></a><!--MD5=[9ee7afa76ca8c509b3d216624c3a9893]\n",
       "link E3 to *end*E1--><a href=\"psysml:400438d1-4a79-4175-ae6b-80e92b548ca9\" target=\"_top\" title=\"psysml:400438d1-4a79-4175-ae6b-80e92b548ca9\" xlink:actuate=\"onRequest\" xlink:href=\"psysml:400438d1-4a79-4175-ae6b-80e92b548ca9\" xlink:show=\"new\" xlink:title=\"psysml:400438d1-4a79-4175-ae6b-80e92b548ca9\" xlink:type=\"simple\"><path d=\"M119,351.12 C119,372.75 119,404.39 119,422.62 \" fill=\"none\" id=\"E3-&gt;*end*E1\" style=\"stroke: #383838; stroke-width: 1.0;\"/><polygon fill=\"#383838\" points=\"119,427.82,123,418.82,119,422.82,115,418.82,119,427.82\" style=\"stroke: #383838; stroke-width: 1.0;\"/><text fill=\"#000000\" font-family=\"sans-serif\" font-size=\"13\" lengthAdjust=\"spacingAndGlyphs\" textLength=\"23\" x=\"120\" y=\"394.0669\">Exit</text></a><!--MD5=[2720a5a1f2c3fca2055b230370638851]\n",
       "link E2 to E3--><a href=\"psysml:516b9b87-0f3c-4a45-97aa-978805331ddd\" target=\"_top\" title=\"psysml:516b9b87-0f3c-4a45-97aa-978805331ddd\" xlink:actuate=\"onRequest\" xlink:href=\"psysml:516b9b87-0f3c-4a45-97aa-978805331ddd\" xlink:show=\"new\" xlink:title=\"psysml:516b9b87-0f3c-4a45-97aa-978805331ddd\" xlink:type=\"simple\"><path d=\"M94.07,226.08 C76.1,239.84 55,256 55,256 C55,256 55,273 55,273 C55,273 72.69,287.65 89.47,301.55 \" fill=\"none\" id=\"E2-&gt;E3\" style=\"stroke: #383838; stroke-width: 1.0;\"/><polygon fill=\"#383838\" points=\"93.71,305.05,89.3341,296.2267,89.8607,301.8589,84.2284,302.3855,93.71,305.05\" style=\"stroke: #383838; stroke-width: 1.0;\"/><text fill=\"#000000\" font-family=\"sans-serif\" font-size=\"13\" lengthAdjust=\"spacingAndGlyphs\" textLength=\"81\" x=\"56\" y=\"269.0669\">Sig /action D</text></a><!--MD5=[05d275557350bfb9b23a4ef7222b4c39]\n",
       "link E3 to E2--><a href=\"psysml:0976314e-a9f7-4444-bafa-f8883db64fa0\" target=\"_top\" title=\"psysml:0976314e-a9f7-4444-bafa-f8883db64fa0\" xlink:actuate=\"onRequest\" xlink:href=\"psysml:0976314e-a9f7-4444-bafa-f8883db64fa0\" xlink:show=\"new\" xlink:title=\"psysml:0976314e-a9f7-4444-bafa-f8883db64fa0\" xlink:type=\"simple\"><path d=\"M129.02,302.91 C135.22,288.63 142,273 142,273 C142,273 142,256 142,256 C142,256 135.98,243.18 130.11,230.66 \" fill=\"none\" id=\"E3-&gt;E2\" style=\"stroke: #383838; stroke-width: 1.0;\"/><polygon fill=\"#383838\" points=\"127.96,226.08,128.1429,235.9272,130.0752,230.6106,135.3918,232.5428,127.96,226.08\" style=\"stroke: #383838; stroke-width: 1.0;\"/><text fill=\"#000000\" font-family=\"sans-serif\" font-size=\"13\" lengthAdjust=\"spacingAndGlyphs\" textLength=\"135\" x=\"143\" y=\"269.0669\">Sig [true]/send s to p</text></a><!--MD5=[10acef19a7751a5d2ed43ea74e1b9d98]\n",
       "@startuml\r\n",
       "skinparam linetype polyline\r\n",
       "skinparam monochrome true\r\n",
       "skinparam classbackgroundcolor white\r\n",
       "skinparam shadowing false\r\n",
       "skinparam wrapWidth 300\r\n",
       "hide circle\r\n",
       "\r\n",
       "rec def \"S\" as E1  <<(T,blue)state def>> [[psysml:409d967c-2b55-4985-b068-ed253d96c58c ]] {\r\n",
       "rec usage \"S1\" as E2 [[psysml:5ea02985-bc8b-4cb1-bb08-c3caa7c881e0 ]] {\r\n",
       "}\r\n",
       "\r\n",
       "rec usage \"S2\" as E3 [[psysml:15193c6f-79c7-4ee2-a2ac-bfb559b7d876 ]] {\r\n",
       "desc \"S2\" as E3  : **do**/ \r\n",
       "}\r\n",
       "\r\n",
       "[*] - -> E2 [[psysml:50e6b136-bb64-4da5-b9f3-893462631a2b ]] \r\n",
       "E3  - -> [*] [[psysml:400438d1-4a79-4175-ae6b-80e92b548ca9 ]] : Exit \r\n",
       "desc \"S\" as E1  : **entry**/ A\r\n",
       "desc \"S\" as E1  : **do**/ B\r\n",
       "desc \"S\" as E1  : **exit**/ act \r\n",
       "}\r\n",
       "\r\n",
       "E2  - -> E3 [[psysml:516b9b87-0f3c-4a45-97aa-978805331ddd ]] : Sig /action D\r\n",
       "E3  - -> E2 [[psysml:0976314e-a9f7-4444-bafa-f8883db64fa0 ]] : Sig [true]/send s to p\r\n",
       "@enduml\r\n",
       "\n",
       "PlantUML version 1.2020.13(Sat Jun 13 12:26:38 UTC 2020)\n",
       "(EPL source distribution)\n",
       "Java Runtime: OpenJDK Runtime Environment\n",
       "JVM: OpenJDK 64-Bit Server VM\n",
       "Default Encoding: UTF-8\n",
       "Language: en\n",
       "Country: null\n",
       "--></g></svg>"
      ]
     },
     "execution_count": 11,
     "metadata": {},
     "output_type": "execute_result"
    }
   ],
   "source": [
    "%viz --style=\"POLYLINE\" --view=\"State\" \"StateTest\""
   ]
  },
  {
   "cell_type": "code",
   "execution_count": 12,
   "id": "interracial-humor",
   "metadata": {
    "execution": {
     "iopub.execute_input": "2021-03-26T09:13:52.464260Z",
     "iopub.status.busy": "2021-03-26T09:13:52.463811Z",
     "iopub.status.idle": "2021-03-26T09:13:52.490004Z",
     "shell.execute_reply": "2021-03-26T09:13:52.488441Z"
    }
   },
   "outputs": [
    {
     "data": {
      "image/svg+xml": [
       "<?xml version=\"1.0\" encoding=\"UTF-8\" standalone=\"no\"?><svg xmlns=\"http://www.w3.org/2000/svg\" xmlns:xlink=\"http://www.w3.org/1999/xlink\" contentScriptType=\"application/ecmascript\" contentStyleType=\"text/css\" height=\"123px\" preserveAspectRatio=\"none\" style=\"width:728px;height:123px;\" version=\"1.1\" viewBox=\"0 0 728 123\" width=\"728px\" zoomAndPan=\"magnify\"><defs/><g><!--MD5=[fbc87193dbaf4d95561dea2c320d4a47]\n",
       "cluster E1--><a href=\"psysml:9c548ee6-d869-4820-b951-32f5a4e72165\" target=\"_top\" title=\"psysml:9c548ee6-d869-4820-b951-32f5a4e72165\" xlink:actuate=\"onRequest\" xlink:href=\"psysml:9c548ee6-d869-4820-b951-32f5a4e72165\" xlink:show=\"new\" xlink:title=\"psysml:9c548ee6-d869-4820-b951-32f5a4e72165\" xlink:type=\"simple\"><polygon fill=\"#FFFFFF\" points=\"16,6,98,6,105,28.2969,706,28.2969,706,111,16,111,16,6\" style=\"stroke: #000000; stroke-width: 1.5;\"/><line style=\"stroke: #000000; stroke-width: 1.5;\" x1=\"16\" x2=\"105\" y1=\"28.2969\" y2=\"28.2969\"/><text fill=\"#000000\" font-family=\"sans-serif\" font-size=\"14\" font-weight=\"bold\" lengthAdjust=\"spacingAndGlyphs\" textLength=\"76\" x=\"20\" y=\"20.9951\">StateTest</text></a><!--MD5=[b4997ac47864f28c2f74865a473b2911]\n",
       "class E2--><a href=\"psysml:7a2ca9b4-3a97-4e8a-92f8-a9f50dc832cb\" target=\"_top\" title=\"psysml:7a2ca9b4-3a97-4e8a-92f8-a9f50dc832cb\" xlink:actuate=\"onRequest\" xlink:href=\"psysml:7a2ca9b4-3a97-4e8a-92f8-a9f50dc832cb\" xlink:show=\"new\" xlink:title=\"psysml:7a2ca9b4-3a97-4e8a-92f8-a9f50dc832cb\" xlink:type=\"simple\"><rect fill=\"#FFFFFF\" height=\"53.9375\" id=\"E2\" style=\"stroke: #383838; stroke-width: 1.5;\" width=\"143\" x=\"546.5\" y=\"41\"/><text fill=\"#000000\" font-family=\"sans-serif\" font-size=\"12\" font-style=\"italic\" lengthAdjust=\"spacingAndGlyphs\" textLength=\"141\" x=\"547.5\" y=\"57.1387\">«(T,blue)attribute def»</text><text fill=\"#000000\" font-family=\"sans-serif\" font-size=\"12\" lengthAdjust=\"spacingAndGlyphs\" textLength=\"19\" x=\"608.5\" y=\"71.1074\">Sig</text><line style=\"stroke: #383838; stroke-width: 1.5;\" x1=\"547.5\" x2=\"688.5\" y1=\"78.9375\" y2=\"78.9375\"/><line style=\"stroke: #383838; stroke-width: 1.5;\" x1=\"547.5\" x2=\"688.5\" y1=\"86.9375\" y2=\"86.9375\"/></a><!--MD5=[09b614a08d8cba4a07c9adeb5e0fee81]\n",
       "class E3--><a href=\"psysml:30361623-caf7-482c-9813-174242dd8f3c\" target=\"_top\" title=\"psysml:30361623-caf7-482c-9813-174242dd8f3c\" xlink:actuate=\"onRequest\" xlink:href=\"psysml:30361623-caf7-482c-9813-174242dd8f3c\" xlink:show=\"new\" xlink:title=\"psysml:30361623-caf7-482c-9813-174242dd8f3c\" xlink:type=\"simple\"><rect fill=\"#FFFFFF\" height=\"53.9375\" id=\"E3\" style=\"stroke: #383838; stroke-width: 1.5;\" width=\"143\" x=\"368.5\" y=\"41\"/><text fill=\"#000000\" font-family=\"sans-serif\" font-size=\"12\" font-style=\"italic\" lengthAdjust=\"spacingAndGlyphs\" textLength=\"141\" x=\"369.5\" y=\"57.1387\">«(T,blue)attribute def»</text><text fill=\"#000000\" font-family=\"sans-serif\" font-size=\"12\" lengthAdjust=\"spacingAndGlyphs\" textLength=\"22\" x=\"429\" y=\"71.1074\">Exit</text><line style=\"stroke: #383838; stroke-width: 1.5;\" x1=\"369.5\" x2=\"510.5\" y1=\"78.9375\" y2=\"78.9375\"/><line style=\"stroke: #383838; stroke-width: 1.5;\" x1=\"369.5\" x2=\"510.5\" y1=\"86.9375\" y2=\"86.9375\"/></a><!--MD5=[60a26617385b1d2d0262a64233df1f8d]\n",
       "class E6--><a href=\"psysml:409d967c-2b55-4985-b068-ed253d96c58c\" target=\"_top\" title=\"psysml:409d967c-2b55-4985-b068-ed253d96c58c\" xlink:actuate=\"onRequest\" xlink:href=\"psysml:409d967c-2b55-4985-b068-ed253d96c58c\" xlink:show=\"new\" xlink:title=\"psysml:409d967c-2b55-4985-b068-ed253d96c58c\" xlink:type=\"simple\"><rect fill=\"#FFFFFF\" height=\"53.9375\" id=\"E6\" style=\"stroke: #383838; stroke-width: 1.5;\" width=\"121\" x=\"212.5\" y=\"41\"/><text fill=\"#000000\" font-family=\"sans-serif\" font-size=\"12\" font-style=\"italic\" lengthAdjust=\"spacingAndGlyphs\" textLength=\"119\" x=\"213.5\" y=\"57.1387\">«(T,blue)state def»</text><text fill=\"#000000\" font-family=\"sans-serif\" font-size=\"12\" lengthAdjust=\"spacingAndGlyphs\" textLength=\"8\" x=\"269\" y=\"71.1074\">S</text><line style=\"stroke: #383838; stroke-width: 1.5;\" x1=\"213.5\" x2=\"332.5\" y1=\"78.9375\" y2=\"78.9375\"/><line style=\"stroke: #383838; stroke-width: 1.5;\" x1=\"213.5\" x2=\"332.5\" y1=\"86.9375\" y2=\"86.9375\"/></a><g id=\"E1.E4\"><a href=\"psysml:86d86843-d597-4d6e-917a-885d695bc43d\" target=\"_top\" title=\"psysml:86d86843-d597-4d6e-917a-885d695bc43d\" xlink:actuate=\"onRequest\" xlink:href=\"psysml:86d86843-d597-4d6e-917a-885d695bc43d\" xlink:show=\"new\" xlink:title=\"psysml:86d86843-d597-4d6e-917a-885d695bc43d\" xlink:type=\"simple\"><rect fill=\"#FFFFFF\" height=\"40\" id=\"E4\" rx=\"10\" ry=\"10\" style=\"stroke: #383838; stroke-width: 1.5;\" width=\"50\" x=\"127\" y=\"48\"/><rect fill=\"#F8F8F8\" height=\"23.9688\" rx=\"10\" ry=\"10\" style=\"stroke: #F8F8F8; stroke-width: 1.5;\" width=\"50\" x=\"127\" y=\"48\"/><rect fill=\"#F8F8F8\" height=\"10\" style=\"stroke: #F8F8F8; stroke-width: 1.5;\" width=\"50\" x=\"127\" y=\"61.9688\"/><rect fill=\"none\" height=\"40\" id=\"E4\" rx=\"10\" ry=\"10\" style=\"stroke: #383838; stroke-width: 1.5;\" width=\"50\" x=\"127\" y=\"48\"/><text fill=\"#000000\" font-family=\"sans-serif\" font-size=\"12\" lengthAdjust=\"spacingAndGlyphs\" textLength=\"8\" x=\"148\" y=\"64.1387\">p</text></a></g><g id=\"E1.E5\"><a href=\"psysml:6cb3785d-90e3-4021-b607-f0ab9874924c\" target=\"_top\" title=\"psysml:6cb3785d-90e3-4021-b607-f0ab9874924c\" xlink:actuate=\"onRequest\" xlink:href=\"psysml:6cb3785d-90e3-4021-b607-f0ab9874924c\" xlink:show=\"new\" xlink:title=\"psysml:6cb3785d-90e3-4021-b607-f0ab9874924c\" xlink:type=\"simple\"><rect fill=\"#FFFFFF\" height=\"42.9375\" id=\"E5\" rx=\"10\" ry=\"10\" style=\"stroke: #383838; stroke-width: 1.5;\" width=\"60\" x=\"32\" y=\"46.5\"/><rect fill=\"#F8F8F8\" height=\"37.9375\" rx=\"10\" ry=\"10\" style=\"stroke: #F8F8F8; stroke-width: 1.5;\" width=\"60\" x=\"32\" y=\"46.5\"/><rect fill=\"#F8F8F8\" height=\"10\" style=\"stroke: #F8F8F8; stroke-width: 1.5;\" width=\"60\" x=\"32\" y=\"74.4375\"/><rect fill=\"none\" height=\"42.9375\" id=\"E5\" rx=\"10\" ry=\"10\" style=\"stroke: #383838; stroke-width: 1.5;\" width=\"60\" x=\"32\" y=\"46.5\"/><text fill=\"#000000\" font-family=\"sans-serif\" font-size=\"12\" font-style=\"italic\" lengthAdjust=\"spacingAndGlyphs\" textLength=\"53\" x=\"35.5\" y=\"62.6387\">«action»</text><text fill=\"#000000\" font-family=\"sans-serif\" font-size=\"12\" lengthAdjust=\"spacingAndGlyphs\" textLength=\"20\" x=\"52\" y=\"76.6074\">act</text></a></g><!--MD5=[31eaf1b3a910cab26b163bccabf974b6]\n",
       "@startuml\r\n",
       "skinparam ranksep 8\r\n",
       "skinparam rectangle {\r\n",
       " backgroundColor<<block>> LightGreen\r\n",
       "}\r\n",
       "skinparam linetype polyline\r\n",
       "skinparam monochrome true\r\n",
       "skinparam classbackgroundcolor white\r\n",
       "skinparam shadowing false\r\n",
       "skinparam wrapWidth 300\r\n",
       "hide circle\r\n",
       "\r\n",
       "package \"StateTest\" as E1  [[psysml:9c548ee6-d869-4820-b951-32f5a4e72165 ]]  {\r\n",
       "def \"Sig\" as E2  <<(T,blue)attribute def>> [[psysml:7a2ca9b4-3a97-4e8a-92f8-a9f50dc832cb ]] \r\n",
       "def \"Exit\" as E3  <<(T,blue)attribute def>> [[psysml:30361623-caf7-482c-9813-174242dd8f3c ]] \r\n",
       "rec usage \"p\" as E4  [[psysml:86d86843-d597-4d6e-917a-885d695bc43d ]] {\r\n",
       "}\r\n",
       "rec usage \"act\" as E5  <<(T,blue)action>> [[psysml:6cb3785d-90e3-4021-b607-f0ab9874924c ]] {\r\n",
       "}\r\n",
       "def \"S\" as E6  <<(T,blue)state def>> [[psysml:409d967c-2b55-4985-b068-ed253d96c58c ]] \r\n",
       "}\r\n",
       "@enduml\r\n",
       "\n",
       "PlantUML version 1.2020.13(Sat Jun 13 12:26:38 UTC 2020)\n",
       "(EPL source distribution)\n",
       "Java Runtime: OpenJDK Runtime Environment\n",
       "JVM: OpenJDK 64-Bit Server VM\n",
       "Default Encoding: UTF-8\n",
       "Language: en\n",
       "Country: null\n",
       "--></g></svg>"
      ]
     },
     "execution_count": 12,
     "metadata": {},
     "output_type": "execute_result"
    }
   ],
   "source": [
    "%viz --style=\"POLYLINE\" --view=\"Interconnection\" \"StateTest\""
   ]
  },
  {
   "cell_type": "code",
   "execution_count": 13,
   "id": "special-subsection",
   "metadata": {
    "execution": {
     "iopub.execute_input": "2021-03-26T09:13:52.543126Z",
     "iopub.status.busy": "2021-03-26T09:13:52.542320Z",
     "iopub.status.idle": "2021-03-26T09:13:52.570988Z",
     "shell.execute_reply": "2021-03-26T09:13:52.569596Z"
    }
   },
   "outputs": [
    {
     "data": {
      "image/svg+xml": [
       "<?xml version=\"1.0\" encoding=\"UTF-8\" standalone=\"no\"?><svg xmlns=\"http://www.w3.org/2000/svg\" xmlns:xlink=\"http://www.w3.org/1999/xlink\" contentScriptType=\"application/ecmascript\" contentStyleType=\"text/css\" height=\"595px\" preserveAspectRatio=\"none\" style=\"width:794px;height:595px;background:#000000;\" version=\"1.1\" viewBox=\"0 0 794 595\" width=\"794px\" zoomAndPan=\"magnify\"><defs/><g><rect fill=\"#102714\" height=\"1\" style=\"stroke: #102714; stroke-width: 1.0;\" width=\"1\" x=\"0\" y=\"0\"/><rect fill=\"#FFFFFF\" height=\"53\" style=\"stroke: #FFFFFF; stroke-width: 1.0;\" width=\"793\" x=\"0\" y=\"0\"/><image height=\"53\" width=\"450\" x=\"1\" xlink:href=\"data:image/png;base64,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\" y=\"1\"/><rect fill=\"#000000\" height=\"487.6094\" style=\"stroke: #000000; stroke-width: 1.0;\" width=\"793\" x=\"0\" y=\"53\"/><rect fill=\"#33FF02\" height=\"21.2969\" style=\"stroke: #33FF02; stroke-width: 1.0;\" width=\"783\" x=\"5\" y=\"58\"/><text fill=\"#000000\" font-family=\"sans-serif\" font-size=\"14\" font-weight=\"bold\" lengthAdjust=\"spacingAndGlyphs\" textLength=\"178\" x=\"6\" y=\"73\">[From string (line 26) ]</text><text fill=\"#33FF02\" font-family=\"sans-serif\" font-size=\"14\" font-weight=\"bold\" lengthAdjust=\"spacingAndGlyphs\" textLength=\"0\" x=\"10\" y=\"93.2969\"/><text fill=\"#33FF02\" font-family=\"sans-serif\" font-size=\"14\" font-weight=\"bold\" lengthAdjust=\"spacingAndGlyphs\" textLength=\"79\" x=\"5\" y=\"109.5938\">@startuml</text><text fill=\"#33FF02\" font-family=\"sans-serif\" font-size=\"14\" font-weight=\"bold\" lengthAdjust=\"spacingAndGlyphs\" textLength=\"165\" x=\"5\" y=\"125.8906\">skinparam ranksep 8</text><text fill=\"#33FF02\" font-family=\"sans-serif\" font-size=\"14\" font-weight=\"bold\" lengthAdjust=\"spacingAndGlyphs\" textLength=\"215\" x=\"5\" y=\"142.1875\">skinparam linetype polyline</text><text fill=\"#33FF02\" font-family=\"sans-serif\" font-size=\"14\" font-weight=\"bold\" lengthAdjust=\"spacingAndGlyphs\" textLength=\"228\" x=\"5\" y=\"158.4844\">skinparam monochrome true</text><text fill=\"#33FF02\" font-family=\"sans-serif\" font-size=\"14\" font-weight=\"bold\" lengthAdjust=\"spacingAndGlyphs\" textLength=\"309\" x=\"5\" y=\"174.7813\">skinparam classbackgroundcolor white</text><text fill=\"#33FF02\" font-family=\"sans-serif\" font-size=\"14\" font-weight=\"bold\" lengthAdjust=\"spacingAndGlyphs\" textLength=\"215\" x=\"5\" y=\"191.0781\">skinparam shadowing false</text><text fill=\"#33FF02\" font-family=\"sans-serif\" font-size=\"14\" font-weight=\"bold\" lengthAdjust=\"spacingAndGlyphs\" textLength=\"206\" x=\"5\" y=\"207.375\">skinparam wrapWidth 300</text><text fill=\"#33FF02\" font-family=\"sans-serif\" font-size=\"14\" font-weight=\"bold\" lengthAdjust=\"spacingAndGlyphs\" textLength=\"82\" x=\"5\" y=\"223.6719\">hide circle</text><text fill=\"#33FF02\" font-family=\"sans-serif\" font-size=\"14\" font-weight=\"bold\" lengthAdjust=\"spacingAndGlyphs\" textLength=\"0\" x=\"10\" y=\"239.9688\"/><text fill=\"#33FF02\" font-family=\"sans-serif\" font-size=\"14\" font-weight=\"bold\" lengthAdjust=\"spacingAndGlyphs\" textLength=\"783\" x=\"5\" y=\"256.2656\">rec usage \"act\" as E1  &lt;&lt;(T,blue)action&gt;&gt; [[psysml:6cb3785d-90e3-4021-b607-f0ab9874924c ]] {</text><text fill=\"#33FF02\" font-family=\"sans-serif\" font-size=\"14\" font-weight=\"bold\" lengthAdjust=\"spacingAndGlyphs\" textLength=\"10\" x=\"5\" y=\"272.5625\">}</text><text fill=\"#33FF02\" font-family=\"sans-serif\" font-size=\"14\" font-weight=\"bold\" lengthAdjust=\"spacingAndGlyphs\" textLength=\"0\" x=\"10\" y=\"288.8594\"/><text fill=\"#33FF02\" font-family=\"sans-serif\" font-size=\"14\" font-weight=\"bold\" lengthAdjust=\"spacingAndGlyphs\" textLength=\"774\" x=\"5\" y=\"305.1563\">rec def \"S\" as E2  &lt;&lt;(T,blue)state def&gt;&gt; [[psysml:409d967c-2b55-4985-b068-ed253d96c58c ]] {</text><text fill=\"#33FF02\" font-family=\"sans-serif\" font-size=\"14\" font-weight=\"bold\" lengthAdjust=\"spacingAndGlyphs\" textLength=\"779\" x=\"5\" y=\"321.4531\">rec usage \"A\" as E3 &lt;&lt;perform action&gt;&gt; [[psysml:07283d54-b2b4-4955-9e37-5e3a59051776 ]] {</text><text fill=\"#33FF02\" font-family=\"sans-serif\" font-size=\"14\" font-weight=\"bold\" lengthAdjust=\"spacingAndGlyphs\" textLength=\"10\" x=\"5\" y=\"337.75\">}</text><text fill=\"#33FF02\" font-family=\"sans-serif\" font-size=\"14\" font-weight=\"bold\" lengthAdjust=\"spacingAndGlyphs\" textLength=\"0\" x=\"10\" y=\"354.0469\"/><text fill=\"#33FF02\" font-family=\"sans-serif\" font-size=\"14\" font-weight=\"bold\" lengthAdjust=\"spacingAndGlyphs\" textLength=\"769\" x=\"5\" y=\"370.3438\">rec usage \"B\" as E4 &lt;&lt;perform action&gt;&gt; [[psysml:2d4c422d-af2d-4b90-a848-9846cea61c20 ]] {</text><text fill=\"#33FF02\" font-family=\"sans-serif\" font-size=\"14\" font-weight=\"bold\" lengthAdjust=\"spacingAndGlyphs\" textLength=\"10\" x=\"5\" y=\"386.6406\">}</text><text fill=\"#33FF02\" font-family=\"sans-serif\" font-size=\"14\" font-weight=\"bold\" lengthAdjust=\"spacingAndGlyphs\" textLength=\"0\" x=\"10\" y=\"402.9375\"/><text fill=\"#33FF02\" font-family=\"sans-serif\" font-size=\"14\" font-weight=\"bold\" lengthAdjust=\"spacingAndGlyphs\" textLength=\"769\" x=\"5\" y=\"419.2344\">rec usage \"act\" as E5 &lt;&lt;perform action&gt;&gt; [[psysml:eca97873-f4f2-4a4b-84f1-fbd6bb9f01a4 ]] {</text><text fill=\"#33FF02\" font-family=\"sans-serif\" font-size=\"14\" font-weight=\"bold\" lengthAdjust=\"spacingAndGlyphs\" textLength=\"10\" x=\"5\" y=\"435.5313\">}</text><text fill=\"#33FF02\" font-family=\"sans-serif\" font-size=\"14\" font-weight=\"bold\" lengthAdjust=\"spacingAndGlyphs\" textLength=\"0\" x=\"10\" y=\"451.8281\"/><text fill=\"#33FF02\" font-family=\"sans-serif\" font-size=\"14\" font-weight=\"bold\" lengthAdjust=\"spacingAndGlyphs\" textLength=\"770\" x=\"5\" y=\"468.125\">rec usage \"S1\" as E6  &lt;&lt;(T,blue)state&gt;&gt; [[psysml:5ea02985-bc8b-4cb1-bb08-c3caa7c881e0 ]] {</text><text fill=\"#33FF02\" font-family=\"sans-serif\" font-size=\"14\" font-weight=\"bold\" lengthAdjust=\"spacingAndGlyphs\" textLength=\"10\" x=\"5\" y=\"484.4219\">}</text><text fill=\"#33FF02\" font-family=\"sans-serif\" font-size=\"14\" font-weight=\"bold\" lengthAdjust=\"spacingAndGlyphs\" textLength=\"0\" x=\"10\" y=\"500.7188\"/><text fill=\"#33FF02\" font-family=\"sans-serif\" font-size=\"14\" font-weight=\"bold\" lengthAdjust=\"spacingAndGlyphs\" textLength=\"10\" x=\"5\" y=\"517.0156\">{</text><text fill=\"#FF0000\" font-family=\"sans-serif\" font-size=\"14\" font-weight=\"bold\" lengthAdjust=\"spacingAndGlyphs\" textLength=\"106\" x=\"10\" y=\"533.3125\">Syntax Error?</text><rect fill=\"#FFFFFF\" height=\"53\" style=\"stroke: #FFFFFF; stroke-width: 1.0;\" width=\"793\" x=\"0\" y=\"540.6094\"/><image height=\"53\" width=\"450\" x=\"1\" xlink:href=\"data:image/png;base64,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\" y=\"541.6094\"/><!--MD5=[2263068723641e8e497cf00bb75de1ed]\n",
       "@startuml\r\n",
       "skinparam ranksep 8\r\n",
       "skinparam linetype polyline\r\n",
       "skinparam monochrome true\r\n",
       "skinparam classbackgroundcolor white\r\n",
       "skinparam shadowing false\r\n",
       "skinparam wrapWidth 300\r\n",
       "hide circle\r\n",
       "\r\n",
       "rec usage \"act\" as E1  <<(T,blue)action>> [[psysml:6cb3785d-90e3-4021-b607-f0ab9874924c ]] {\r\n",
       "}\r\n",
       "\r\n",
       "rec def \"S\" as E2  <<(T,blue)state def>> [[psysml:409d967c-2b55-4985-b068-ed253d96c58c ]] {\r\n",
       "rec usage \"A\" as E3 <<perform action>> [[psysml:07283d54-b2b4-4955-9e37-5e3a59051776 ]] {\r\n",
       "}\r\n",
       "\r\n",
       "rec usage \"B\" as E4 <<perform action>> [[psysml:2d4c422d-af2d-4b90-a848-9846cea61c20 ]] {\r\n",
       "}\r\n",
       "\r\n",
       "rec usage \"act\" as E5 <<perform action>> [[psysml:eca97873-f4f2-4a4b-84f1-fbd6bb9f01a4 ]] {\r\n",
       "}\r\n",
       "\r\n",
       "rec usage \"S1\" as E6  <<(T,blue)state>> [[psysml:5ea02985-bc8b-4cb1-bb08-c3caa7c881e0 ]] {\r\n",
       "}\r\n",
       "\r\n",
       "{\r\n",
       "{\r\n",
       "}\r\n",
       "\r\n",
       "rec usage \"D\" as E7 <<perform action>> [[psysml:eaf0a112-33b0-4093-95e1-7dab572fe2f4 ]] {\r\n",
       "}\r\n",
       "\r\n",
       "}\r\n",
       "\r\n",
       "rec usage \"S2\" as E8  <<(T,blue)state>> [[psysml:15193c6f-79c7-4ee2-a2ac-bfb559b7d876 ]] {\r\n",
       "rec usage \"doAction\" as E9 <<send action>> [[psysml:02a264b3-17c4-490c-b5b1-f49bb5aa02c2 ]] {\r\n",
       "portin \"$x\" as E10  [[psysml:96622066-d3a2-4541-bee3-ae5bc19ea7c3 ]] \r\n",
       "portout \"$result\" as E11  [[psysml:b808addd-9ba8-4500-978c-50cd1b025f8a ]] \r\n",
       "}\r\n",
       "\r\n",
       "}\r\n",
       "\r\n",
       "{\r\n",
       "{\r\n",
       "}\r\n",
       "\r\n",
       "}\r\n",
       "\r\n",
       "rec usage \"T\" as E12  <<(T,blue)transition>> [[psysml:0976314e-a9f7-4444-bafa-f8883db64fa0 ]] {\r\n",
       "rec usage \"S2\" as E13  <<(T,blue)state>> [[psysml:15193c6f-79c7-4ee2-a2ac-bfb559b7d876 ]] {\r\n",
       "rec usage \"doAction\" as E14 <<send action>> [[psysml:02a264b3-17c4-490c-b5b1-f49bb5aa02c2 ]] {\r\n",
       "portin \"$x\" as E15  [[psysml:96622066-d3a2-4541-bee3-ae5bc19ea7c3 ]] \r\n",
       "portout \"$result\" as E16  [[psysml:b808addd-9ba8-4500-978c-50cd1b025f8a ]] \r\n",
       "}\r\n",
       "\r\n",
       "}\r\n",
       "\r\n",
       "{\r\n",
       "}\r\n",
       "\r\n",
       "portout \"$result\" as E17  [[psysml:8f7ffd4e-8810-46d2-96d4-50dc0ef167c4 ]] \r\n",
       "{\r\n",
       "}\r\n",
       "\r\n",
       "}\r\n",
       "\r\n",
       "}\r\n",
       "\r\n",
       "@enduml\r\n",
       "\n",
       "PlantUML version 1.2020.13(Sat Jun 13 12:26:38 UTC 2020)\n",
       "(EPL source distribution)\n",
       "Java Runtime: OpenJDK Runtime Environment\n",
       "JVM: OpenJDK 64-Bit Server VM\n",
       "Default Encoding: UTF-8\n",
       "Language: en\n",
       "Country: null\n",
       "--></g></svg>"
      ]
     },
     "execution_count": 13,
     "metadata": {},
     "output_type": "execute_result"
    }
   ],
   "source": [
    "%viz --style=\"POLYLINE\" --view=\"Action\" \"StateTest\""
   ]
  },
  {
   "cell_type": "code",
   "execution_count": 14,
   "id": "foreign-pendant",
   "metadata": {
    "execution": {
     "iopub.execute_input": "2021-03-26T09:13:52.621059Z",
     "iopub.status.busy": "2021-03-26T09:13:52.620687Z",
     "iopub.status.idle": "2021-03-26T09:13:52.726396Z",
     "shell.execute_reply": "2021-03-26T09:13:52.725158Z"
    }
   },
   "outputs": [
    {
     "data": {
      "image/svg+xml": [
       "<?xml version=\"1.0\" encoding=\"UTF-8\" standalone=\"no\"?><svg xmlns=\"http://www.w3.org/2000/svg\" xmlns:xlink=\"http://www.w3.org/1999/xlink\" contentScriptType=\"application/ecmascript\" contentStyleType=\"text/css\" height=\"471px\" preserveAspectRatio=\"none\" style=\"width:594px;height:471px;\" version=\"1.1\" viewBox=\"0 0 594 471\" width=\"594px\" zoomAndPan=\"magnify\"><defs/><g><!--MD5=[fbc87193dbaf4d95561dea2c320d4a47]\n",
       "cluster E1--><a href=\"psysml:9c548ee6-d869-4820-b951-32f5a4e72165\" target=\"_top\" title=\"psysml:9c548ee6-d869-4820-b951-32f5a4e72165\" xlink:actuate=\"onRequest\" xlink:href=\"psysml:9c548ee6-d869-4820-b951-32f5a4e72165\" xlink:show=\"new\" xlink:title=\"psysml:9c548ee6-d869-4820-b951-32f5a4e72165\" xlink:type=\"simple\"><polygon fill=\"#FFFFFF\" points=\"16,6,98,6,105,28.2969,572,28.2969,572,459,16,459,16,6\" style=\"stroke: #000000; stroke-width: 1.5;\"/><line style=\"stroke: #000000; stroke-width: 1.5;\" x1=\"16\" x2=\"105\" y1=\"28.2969\" y2=\"28.2969\"/><text fill=\"#000000\" font-family=\"sans-serif\" font-size=\"14\" font-weight=\"bold\" lengthAdjust=\"spacingAndGlyphs\" textLength=\"76\" x=\"20\" y=\"20.9951\">StateTest</text></a><!--MD5=[b4997ac47864f28c2f74865a473b2911]\n",
       "class E2--><a href=\"psysml:7a2ca9b4-3a97-4e8a-92f8-a9f50dc832cb\" target=\"_top\" title=\"psysml:7a2ca9b4-3a97-4e8a-92f8-a9f50dc832cb\" xlink:actuate=\"onRequest\" xlink:href=\"psysml:7a2ca9b4-3a97-4e8a-92f8-a9f50dc832cb\" xlink:show=\"new\" xlink:title=\"psysml:7a2ca9b4-3a97-4e8a-92f8-a9f50dc832cb\" xlink:type=\"simple\"><rect fill=\"#FFFFFF\" height=\"75.5469\" id=\"E2\" style=\"stroke: #383838; stroke-width: 1.5;\" width=\"95\" x=\"460.5\" y=\"83\"/><text fill=\"#000000\" font-family=\"sans-serif\" font-size=\"12\" font-style=\"italic\" lengthAdjust=\"spacingAndGlyphs\" textLength=\"93\" x=\"461.5\" y=\"99.1387\">«attribute def»</text><text fill=\"#000000\" font-family=\"sans-serif\" font-size=\"12\" lengthAdjust=\"spacingAndGlyphs\" textLength=\"19\" x=\"498.5\" y=\"113.1074\">Sig</text><line style=\"stroke: #383838; stroke-width: 1.5;\" x1=\"461.5\" x2=\"554.5\" y1=\"120.9375\" y2=\"120.9375\"/><text fill=\"#000000\" font-family=\"sans-serif\" font-size=\"11\" lengthAdjust=\"spacingAndGlyphs\" textLength=\"6\" x=\"466.5\" y=\"151.9526\">x</text><line style=\"stroke: #383838; stroke-width: 1.0;\" x1=\"461.5\" x2=\"480.5\" y1=\"135.3398\" y2=\"135.3398\"/><text fill=\"#000000\" font-family=\"sans-serif\" font-size=\"11\" lengthAdjust=\"spacingAndGlyphs\" textLength=\"55\" x=\"480.5\" y=\"138.6479\">attributes</text><line style=\"stroke: #383838; stroke-width: 1.0;\" x1=\"535.5\" x2=\"554.5\" y1=\"135.3398\" y2=\"135.3398\"/></a><!--MD5=[09b614a08d8cba4a07c9adeb5e0fee81]\n",
       "class E3--><a href=\"psysml:30361623-caf7-482c-9813-174242dd8f3c\" target=\"_top\" title=\"psysml:30361623-caf7-482c-9813-174242dd8f3c\" xlink:actuate=\"onRequest\" xlink:href=\"psysml:30361623-caf7-482c-9813-174242dd8f3c\" xlink:show=\"new\" xlink:title=\"psysml:30361623-caf7-482c-9813-174242dd8f3c\" xlink:type=\"simple\"><rect fill=\"#FFFFFF\" height=\"45.9375\" id=\"E3\" style=\"stroke: #383838; stroke-width: 1.5;\" width=\"95\" x=\"330.5\" y=\"98\"/><text fill=\"#000000\" font-family=\"sans-serif\" font-size=\"12\" font-style=\"italic\" lengthAdjust=\"spacingAndGlyphs\" textLength=\"93\" x=\"331.5\" y=\"114.1387\">«attribute def»</text><text fill=\"#000000\" font-family=\"sans-serif\" font-size=\"12\" lengthAdjust=\"spacingAndGlyphs\" textLength=\"22\" x=\"367\" y=\"128.1074\">Exit</text><line style=\"stroke: #383838; stroke-width: 1.5;\" x1=\"331.5\" x2=\"424.5\" y1=\"135.9375\" y2=\"135.9375\"/></a><!--MD5=[ebbe1d658d1005bcc118a6aa81145e00]\n",
       "class E4--><a href=\"psysml:86d86843-d597-4d6e-917a-885d695bc43d\" target=\"_top\" title=\"psysml:86d86843-d597-4d6e-917a-885d695bc43d\" xlink:actuate=\"onRequest\" xlink:href=\"psysml:86d86843-d597-4d6e-917a-885d695bc43d\" xlink:show=\"new\" xlink:title=\"psysml:86d86843-d597-4d6e-917a-885d695bc43d\" xlink:type=\"simple\"><rect fill=\"#FFFFFF\" height=\"45.9375\" id=\"E4\" rx=\"10\" ry=\"10\" style=\"stroke: #383838; stroke-width: 1.5;\" width=\"42\" x=\"253\" y=\"98\"/><text fill=\"#000000\" font-family=\"sans-serif\" font-size=\"12\" font-style=\"italic\" lengthAdjust=\"spacingAndGlyphs\" textLength=\"40\" x=\"254\" y=\"114.1387\">«part»</text><text fill=\"#000000\" font-family=\"sans-serif\" font-size=\"12\" lengthAdjust=\"spacingAndGlyphs\" textLength=\"8\" x=\"270\" y=\"128.1074\">p</text><line style=\"stroke: #383838; stroke-width: 1.5;\" x1=\"254\" x2=\"294\" y1=\"135.9375\" y2=\"135.9375\"/></a><!--MD5=[270fce915f116d4de14055a7c1d9a0f3]\n",
       "class E5--><a href=\"psysml:6cb3785d-90e3-4021-b607-f0ab9874924c\" target=\"_top\" title=\"psysml:6cb3785d-90e3-4021-b607-f0ab9874924c\" xlink:actuate=\"onRequest\" xlink:href=\"psysml:6cb3785d-90e3-4021-b607-f0ab9874924c\" xlink:show=\"new\" xlink:title=\"psysml:6cb3785d-90e3-4021-b607-f0ab9874924c\" xlink:type=\"simple\"><rect fill=\"#FFFFFF\" height=\"45.9375\" id=\"E5\" rx=\"10\" ry=\"10\" style=\"stroke: #383838; stroke-width: 1.5;\" width=\"55\" x=\"162.5\" y=\"98\"/><text fill=\"#000000\" font-family=\"sans-serif\" font-size=\"12\" font-style=\"italic\" lengthAdjust=\"spacingAndGlyphs\" textLength=\"53\" x=\"163.5\" y=\"114.1387\">«action»</text><text fill=\"#000000\" font-family=\"sans-serif\" font-size=\"12\" lengthAdjust=\"spacingAndGlyphs\" textLength=\"20\" x=\"180\" y=\"128.1074\">act</text><line style=\"stroke: #383838; stroke-width: 1.5;\" x1=\"163.5\" x2=\"216.5\" y1=\"135.9375\" y2=\"135.9375\"/></a><!--MD5=[60a26617385b1d2d0262a64233df1f8d]\n",
       "class E6--><a href=\"psysml:409d967c-2b55-4985-b068-ed253d96c58c\" target=\"_top\" title=\"psysml:409d967c-2b55-4985-b068-ed253d96c58c\" xlink:actuate=\"onRequest\" xlink:href=\"psysml:409d967c-2b55-4985-b068-ed253d96c58c\" xlink:show=\"new\" xlink:title=\"psysml:409d967c-2b55-4985-b068-ed253d96c58c\" xlink:type=\"simple\"><rect fill=\"#FFFFFF\" height=\"160.375\" id=\"E6\" style=\"stroke: #383838; stroke-width: 1.5;\" width=\"95\" x=\"32.5\" y=\"41\"/><text fill=\"#000000\" font-family=\"sans-serif\" font-size=\"12\" font-style=\"italic\" lengthAdjust=\"spacingAndGlyphs\" textLength=\"71\" x=\"44.5\" y=\"57.1387\">«state def»</text><text fill=\"#000000\" font-family=\"sans-serif\" font-size=\"12\" lengthAdjust=\"spacingAndGlyphs\" textLength=\"8\" x=\"76\" y=\"71.1074\">S</text><line style=\"stroke: #383838; stroke-width: 1.5;\" x1=\"33.5\" x2=\"126.5\" y1=\"78.9375\" y2=\"78.9375\"/><text fill=\"#000000\" font-family=\"sans-serif\" font-size=\"11\" lengthAdjust=\"spacingAndGlyphs\" textLength=\"17\" x=\"38.5\" y=\"109.9526\">act</text><text fill=\"#000000\" font-family=\"sans-serif\" font-size=\"11\" lengthAdjust=\"spacingAndGlyphs\" textLength=\"7\" x=\"38.5\" y=\"122.7573\">A</text><text fill=\"#000000\" font-family=\"sans-serif\" font-size=\"11\" lengthAdjust=\"spacingAndGlyphs\" textLength=\"8\" x=\"38.5\" y=\"135.562\">B</text><line style=\"stroke: #383838; stroke-width: 1.0;\" x1=\"33.5\" x2=\"36.5\" y1=\"93.3398\" y2=\"93.3398\"/><text fill=\"#000000\" font-family=\"sans-serif\" font-size=\"11\" lengthAdjust=\"spacingAndGlyphs\" textLength=\"87\" x=\"36.5\" y=\"96.6479\">performActions</text><line style=\"stroke: #383838; stroke-width: 1.0;\" x1=\"123.5\" x2=\"126.5\" y1=\"93.3398\" y2=\"93.3398\"/><text fill=\"#000000\" font-family=\"sans-serif\" font-size=\"11\" lengthAdjust=\"spacingAndGlyphs\" textLength=\"15\" x=\"38.5\" y=\"165.1714\">S1</text><line style=\"stroke: #383838; stroke-width: 1.0;\" x1=\"33.5\" x2=\"62\" y1=\"148.5586\" y2=\"148.5586\"/><text fill=\"#000000\" font-family=\"sans-serif\" font-size=\"11\" lengthAdjust=\"spacingAndGlyphs\" textLength=\"36\" x=\"62\" y=\"151.8667\">states</text><line style=\"stroke: #383838; stroke-width: 1.0;\" x1=\"98\" x2=\"126.5\" y1=\"148.5586\" y2=\"148.5586\"/><text fill=\"#000000\" font-family=\"sans-serif\" font-size=\"11\" lengthAdjust=\"spacingAndGlyphs\" textLength=\"7\" x=\"38.5\" y=\"194.7808\">T</text><line style=\"stroke: #383838; stroke-width: 1.0;\" x1=\"33.5\" x2=\"49.5\" y1=\"178.168\" y2=\"178.168\"/><text fill=\"#000000\" font-family=\"sans-serif\" font-size=\"11\" lengthAdjust=\"spacingAndGlyphs\" textLength=\"61\" x=\"49.5\" y=\"181.4761\">transitions</text><line style=\"stroke: #383838; stroke-width: 1.0;\" x1=\"110.5\" x2=\"126.5\" y1=\"178.168\" y2=\"178.168\"/></a><!--MD5=[1dd1bfd58a279cf63c5f349dbc8fc6a1]\n",
       "class E11--><a href=\"psysml:15193c6f-79c7-4ee2-a2ac-bfb559b7d876\" target=\"_top\" title=\"psysml:15193c6f-79c7-4ee2-a2ac-bfb559b7d876\" xlink:actuate=\"onRequest\" xlink:href=\"psysml:15193c6f-79c7-4ee2-a2ac-bfb559b7d876\" xlink:show=\"new\" xlink:title=\"psysml:15193c6f-79c7-4ee2-a2ac-bfb559b7d876\" xlink:type=\"simple\"><rect fill=\"#FFFFFF\" height=\"45.9375\" id=\"E11\" rx=\"10\" ry=\"10\" style=\"stroke: #383838; stroke-width: 1.5;\" width=\"49\" x=\"55.5\" y=\"261\"/><text fill=\"#000000\" font-family=\"sans-serif\" font-size=\"12\" font-style=\"italic\" lengthAdjust=\"spacingAndGlyphs\" textLength=\"47\" x=\"56.5\" y=\"277.1387\">«state»</text><text fill=\"#000000\" font-family=\"sans-serif\" font-size=\"12\" lengthAdjust=\"spacingAndGlyphs\" textLength=\"16\" x=\"72\" y=\"291.1074\">S2</text><line style=\"stroke: #383838; stroke-width: 1.5;\" x1=\"56.5\" x2=\"103.5\" y1=\"298.9375\" y2=\"298.9375\"/></a><!--MD5=[49a0ec8f00dab7302a31f22d0f0fe584]\n",
       "class E12--><a href=\"psysml:02a264b3-17c4-490c-b5b1-f49bb5aa02c2\" target=\"_top\" title=\"psysml:02a264b3-17c4-490c-b5b1-f49bb5aa02c2\" xlink:actuate=\"onRequest\" xlink:href=\"psysml:02a264b3-17c4-490c-b5b1-f49bb5aa02c2\" xlink:show=\"new\" xlink:title=\"psysml:02a264b3-17c4-490c-b5b1-f49bb5aa02c2\" xlink:type=\"simple\"><rect fill=\"#FFFFFF\" height=\"75.5469\" id=\"E12\" rx=\"10\" ry=\"10\" style=\"stroke: #383838; stroke-width: 1.5;\" width=\"90\" x=\"35\" y=\"367\"/><text fill=\"#000000\" font-family=\"sans-serif\" font-size=\"12\" font-style=\"italic\" lengthAdjust=\"spacingAndGlyphs\" textLength=\"88\" x=\"36\" y=\"383.1387\">«send action»</text><text fill=\"#000000\" font-family=\"sans-serif\" font-size=\"12\" lengthAdjust=\"spacingAndGlyphs\" textLength=\"55\" x=\"52.5\" y=\"397.1074\">doAction</text><line style=\"stroke: #383838; stroke-width: 1.5;\" x1=\"36\" x2=\"124\" y1=\"404.9375\" y2=\"404.9375\"/><text fill=\"#000000\" font-family=\"sans-serif\" font-size=\"11\" lengthAdjust=\"spacingAndGlyphs\" textLength=\"25\" x=\"41\" y=\"435.9526\">item</text><line style=\"stroke: #383838; stroke-width: 1.0;\" x1=\"36\" x2=\"42.5\" y1=\"419.3398\" y2=\"419.3398\"/><text fill=\"#000000\" font-family=\"sans-serif\" font-size=\"11\" lengthAdjust=\"spacingAndGlyphs\" textLength=\"75\" x=\"42.5\" y=\"422.6479\">itemFeatures</text><line style=\"stroke: #383838; stroke-width: 1.0;\" x1=\"117.5\" x2=\"124\" y1=\"419.3398\" y2=\"419.3398\"/></a><!--MD5=[1f5f03483f7de0d5b3680a7f6650997f]\n",
       "reverse link E6 to E11--><a href=\"psysml:15193c6f-79c7-4ee2-a2ac-bfb559b7d876\" target=\"_top\" title=\"psysml:15193c6f-79c7-4ee2-a2ac-bfb559b7d876\" xlink:actuate=\"onRequest\" xlink:href=\"psysml:15193c6f-79c7-4ee2-a2ac-bfb559b7d876\" xlink:show=\"new\" xlink:title=\"psysml:15193c6f-79c7-4ee2-a2ac-bfb559b7d876\" xlink:type=\"simple\"><path d=\"M80,214.17 C80,231.58 80,248.25 80,260.82 \" fill=\"none\" id=\"E6&lt;-E11\" style=\"stroke: #383838; stroke-width: 1.0;\"/><polygon fill=\"#383838\" points=\"80,201.09,76.0066,207.0944,80.0132,213.09,84.0066,207.0856,80,201.09\" style=\"stroke: #383838; stroke-width: 1.0;\"/></a><!--MD5=[94adabc162ce7e41b39f13be14fbaeb3]\n",
       "reverse link E11 to E12--><a href=\"psysml:02a264b3-17c4-490c-b5b1-f49bb5aa02c2\" target=\"_top\" title=\"psysml:02a264b3-17c4-490c-b5b1-f49bb5aa02c2\" xlink:actuate=\"onRequest\" xlink:href=\"psysml:02a264b3-17c4-490c-b5b1-f49bb5aa02c2\" xlink:show=\"new\" xlink:title=\"psysml:02a264b3-17c4-490c-b5b1-f49bb5aa02c2\" xlink:type=\"simple\"><path d=\"M80,320.23 C80,334.82 80,351.76 80,366.58 \" fill=\"none\" id=\"E11&lt;-E12\" style=\"stroke: #383838; stroke-width: 1.0;\"/><polygon fill=\"#FFFFFF\" points=\"80,307.1,76,313.1,80,319.1,84,313.1,80,307.1\" style=\"stroke: #383838; stroke-width: 1.0;\"/></a><!--MD5=[7cd0e01ad97bf5879702b50c2e5009c7]\n",
       "@startuml\r\n",
       "skinparam linetype polyline\r\n",
       "skinparam monochrome true\r\n",
       "skinparam classbackgroundcolor white\r\n",
       "skinparam shadowing false\r\n",
       "skinparam wrapWidth 300\r\n",
       "hide circle\r\n",
       "\r\n",
       "package \"StateTest\" as E1  [[psysml:9c548ee6-d869-4820-b951-32f5a4e72165 ]]  {\r\n",
       "comp def \"Sig\" as E2  <<(T,blue)attribute def>> [[psysml:7a2ca9b4-3a97-4e8a-92f8-a9f50dc832cb ]] {\r\n",
       "- - attributes - -\r\n",
       "x\r\n",
       "}\r\n",
       "comp def \"Exit\" as E3  <<(T,blue)attribute def>> [[psysml:30361623-caf7-482c-9813-174242dd8f3c ]] {\r\n",
       "}\r\n",
       "comp usage \"p\" as E4  <<(T,blue)part>> [[psysml:86d86843-d597-4d6e-917a-885d695bc43d ]] {\r\n",
       "}\r\n",
       "comp usage \"act\" as E5  <<(T,blue)action>> [[psysml:6cb3785d-90e3-4021-b607-f0ab9874924c ]] {\r\n",
       "}\r\n",
       "comp def \"S\" as E6  <<(T,blue)state def>> [[psysml:409d967c-2b55-4985-b068-ed253d96c58c ]] {\r\n",
       "- - performActions - -\r\n",
       "act\r\n",
       "A\r\n",
       "B\r\n",
       "- - states - -\r\n",
       "S1\r\n",
       "- - transitions - -\r\n",
       "T\r\n",
       "}\r\n",
       "comp usage \"S2\" as E11  <<(T,blue)state>> [[psysml:15193c6f-79c7-4ee2-a2ac-bfb559b7d876 ]] {\r\n",
       "}\r\n",
       "comp usage \"doAction\" as E12 <<send action>> [[psysml:02a264b3-17c4-490c-b5b1-f49bb5aa02c2 ]] {\r\n",
       "- - itemFeatures - -\r\n",
       "item\r\n",
       "}\r\n",
       "E6 *- - E11 [[psysml:15193c6f-79c7-4ee2-a2ac-bfb559b7d876 ]] \r\n",
       "E11 o- - E12 [[psysml:02a264b3-17c4-490c-b5b1-f49bb5aa02c2 ]] \r\n",
       "}\r\n",
       "@enduml\r\n",
       "\n",
       "PlantUML version 1.2020.13(Sat Jun 13 12:26:38 UTC 2020)\n",
       "(EPL source distribution)\n",
       "Java Runtime: OpenJDK Runtime Environment\n",
       "JVM: OpenJDK 64-Bit Server VM\n",
       "Default Encoding: UTF-8\n",
       "Language: en\n",
       "Country: null\n",
       "--></g></svg>"
      ]
     },
     "execution_count": 14,
     "metadata": {},
     "output_type": "execute_result"
    }
   ],
   "source": [
    "%viz --style=\"POLYLINE\" --view=\"Sequence\" \"StateTest\""
   ]
  },
  {
   "cell_type": "code",
   "execution_count": 15,
   "id": "rolled-string",
   "metadata": {
    "execution": {
     "iopub.execute_input": "2021-03-26T09:13:52.779366Z",
     "iopub.status.busy": "2021-03-26T09:13:52.778258Z",
     "iopub.status.idle": "2021-03-26T09:13:52.826595Z",
     "shell.execute_reply": "2021-03-26T09:13:52.825129Z"
    }
   },
   "outputs": [
    {
     "data": {
      "image/svg+xml": [
       "<?xml version=\"1.0\" encoding=\"UTF-8\" standalone=\"no\"?><svg xmlns=\"http://www.w3.org/2000/svg\" xmlns:xlink=\"http://www.w3.org/1999/xlink\" contentScriptType=\"application/ecmascript\" contentStyleType=\"text/css\" height=\"570px\" preserveAspectRatio=\"none\" style=\"width:819px;height:570px;\" version=\"1.1\" viewBox=\"0 0 819 570\" width=\"819px\" zoomAndPan=\"magnify\"><defs/><g><!--MD5=[fbc87193dbaf4d95561dea2c320d4a47]\n",
       "cluster E1--><a href=\"psysml:9c548ee6-d869-4820-b951-32f5a4e72165\" target=\"_top\" title=\"psysml:9c548ee6-d869-4820-b951-32f5a4e72165\" xlink:actuate=\"onRequest\" xlink:href=\"psysml:9c548ee6-d869-4820-b951-32f5a4e72165\" xlink:show=\"new\" xlink:title=\"psysml:9c548ee6-d869-4820-b951-32f5a4e72165\" xlink:type=\"simple\"><polygon fill=\"#FFFFFF\" points=\"16,6,98,6,105,28.2969,797,28.2969,797,558,16,558,16,6\" style=\"stroke: #000000; stroke-width: 1.5;\"/><line style=\"stroke: #000000; stroke-width: 1.5;\" x1=\"16\" x2=\"105\" y1=\"28.2969\" y2=\"28.2969\"/><text fill=\"#000000\" font-family=\"sans-serif\" font-size=\"14\" font-weight=\"bold\" lengthAdjust=\"spacingAndGlyphs\" textLength=\"76\" x=\"20\" y=\"20.9951\">StateTest</text></a><!--MD5=[14e3b0961a2654348d326746436168a1]\n",
       "cluster E6--><a href=\"psysml:409d967c-2b55-4985-b068-ed253d96c58c\" target=\"_top\" title=\"psysml:409d967c-2b55-4985-b068-ed253d96c58c\" xlink:actuate=\"onRequest\" xlink:href=\"psysml:409d967c-2b55-4985-b068-ed253d96c58c\" xlink:show=\"new\" xlink:title=\"psysml:409d967c-2b55-4985-b068-ed253d96c58c\" xlink:type=\"simple\"><rect fill=\"#FFFFFF\" height=\"485\" id=\"E6\" style=\"stroke: #383838; stroke-width: 1.5;\" width=\"327\" x=\"446\" y=\"49\"/><rect fill=\"#F8F8F8\" height=\"37.9375\" style=\"stroke: #383838; stroke-width: 1.5;\" width=\"327\" x=\"446\" y=\"49\"/><text fill=\"#000000\" font-family=\"sans-serif\" font-size=\"12\" font-style=\"italic\" lengthAdjust=\"spacingAndGlyphs\" textLength=\"71\" x=\"574\" y=\"65.1387\">«state def»</text><text fill=\"#000000\" font-family=\"sans-serif\" font-size=\"12\" lengthAdjust=\"spacingAndGlyphs\" textLength=\"8\" x=\"605.5\" y=\"79.1074\">S</text><line style=\"stroke: #383838; stroke-width: 1.0;\" x1=\"446\" x2=\"773\" y1=\"132.8438\" y2=\"132.8438\"/><text fill=\"#000000\" font-family=\"sans-serif\" font-size=\"12\" font-weight=\"bold\" lengthAdjust=\"spacingAndGlyphs\" textLength=\"38\" x=\"451\" y=\"100.0762\">entry</text><text fill=\"#000000\" font-family=\"sans-serif\" font-size=\"12\" lengthAdjust=\"spacingAndGlyphs\" textLength=\"16\" x=\"489\" y=\"100.0762\">/ A</text><text fill=\"#000000\" font-family=\"sans-serif\" font-size=\"12\" font-weight=\"bold\" lengthAdjust=\"spacingAndGlyphs\" textLength=\"18\" x=\"451\" y=\"114.0449\">do</text><text fill=\"#000000\" font-family=\"sans-serif\" font-size=\"12\" lengthAdjust=\"spacingAndGlyphs\" textLength=\"16\" x=\"469\" y=\"114.0449\">/ B</text><text fill=\"#000000\" font-family=\"sans-serif\" font-size=\"12\" font-weight=\"bold\" lengthAdjust=\"spacingAndGlyphs\" textLength=\"26\" x=\"451\" y=\"128.0137\">exit</text><text fill=\"#000000\" font-family=\"sans-serif\" font-size=\"12\" lengthAdjust=\"spacingAndGlyphs\" textLength=\"28\" x=\"477\" y=\"128.0137\">/ act</text></a><!--MD5=[b4997ac47864f28c2f74865a473b2911]\n",
       "class E2--><a href=\"psysml:7a2ca9b4-3a97-4e8a-92f8-a9f50dc832cb\" target=\"_top\" title=\"psysml:7a2ca9b4-3a97-4e8a-92f8-a9f50dc832cb\" xlink:actuate=\"onRequest\" xlink:href=\"psysml:7a2ca9b4-3a97-4e8a-92f8-a9f50dc832cb\" xlink:show=\"new\" xlink:title=\"psysml:7a2ca9b4-3a97-4e8a-92f8-a9f50dc832cb\" xlink:type=\"simple\"><rect fill=\"#FFFFFF\" height=\"75.5469\" id=\"E2\" style=\"stroke: #383838; stroke-width: 1.5;\" width=\"95\" x=\"334.5\" y=\"119\"/><text fill=\"#000000\" font-family=\"sans-serif\" font-size=\"12\" font-style=\"italic\" lengthAdjust=\"spacingAndGlyphs\" textLength=\"93\" x=\"335.5\" y=\"135.1387\">«attribute def»</text><text fill=\"#000000\" font-family=\"sans-serif\" font-size=\"12\" lengthAdjust=\"spacingAndGlyphs\" textLength=\"19\" x=\"372.5\" y=\"149.1074\">Sig</text><line style=\"stroke: #383838; stroke-width: 1.5;\" x1=\"335.5\" x2=\"428.5\" y1=\"156.9375\" y2=\"156.9375\"/><text fill=\"#000000\" font-family=\"sans-serif\" font-size=\"11\" lengthAdjust=\"spacingAndGlyphs\" textLength=\"6\" x=\"340.5\" y=\"187.9526\">x</text><line style=\"stroke: #383838; stroke-width: 1.0;\" x1=\"335.5\" x2=\"354.5\" y1=\"171.3398\" y2=\"171.3398\"/><text fill=\"#000000\" font-family=\"sans-serif\" font-size=\"11\" lengthAdjust=\"spacingAndGlyphs\" textLength=\"55\" x=\"354.5\" y=\"174.6479\">attributes</text><line style=\"stroke: #383838; stroke-width: 1.0;\" x1=\"409.5\" x2=\"428.5\" y1=\"171.3398\" y2=\"171.3398\"/></a><!--MD5=[09b614a08d8cba4a07c9adeb5e0fee81]\n",
       "class E3--><a href=\"psysml:30361623-caf7-482c-9813-174242dd8f3c\" target=\"_top\" title=\"psysml:30361623-caf7-482c-9813-174242dd8f3c\" xlink:actuate=\"onRequest\" xlink:href=\"psysml:30361623-caf7-482c-9813-174242dd8f3c\" xlink:show=\"new\" xlink:title=\"psysml:30361623-caf7-482c-9813-174242dd8f3c\" xlink:type=\"simple\"><rect fill=\"#FFFFFF\" height=\"45.9375\" id=\"E3\" style=\"stroke: #383838; stroke-width: 1.5;\" width=\"95\" x=\"204.5\" y=\"134\"/><text fill=\"#000000\" font-family=\"sans-serif\" font-size=\"12\" font-style=\"italic\" lengthAdjust=\"spacingAndGlyphs\" textLength=\"93\" x=\"205.5\" y=\"150.1387\">«attribute def»</text><text fill=\"#000000\" font-family=\"sans-serif\" font-size=\"12\" lengthAdjust=\"spacingAndGlyphs\" textLength=\"22\" x=\"241\" y=\"164.1074\">Exit</text><line style=\"stroke: #383838; stroke-width: 1.5;\" x1=\"205.5\" x2=\"298.5\" y1=\"171.9375\" y2=\"171.9375\"/></a><!--MD5=[ebbe1d658d1005bcc118a6aa81145e00]\n",
       "class E4--><a href=\"psysml:86d86843-d597-4d6e-917a-885d695bc43d\" target=\"_top\" title=\"psysml:86d86843-d597-4d6e-917a-885d695bc43d\" xlink:actuate=\"onRequest\" xlink:href=\"psysml:86d86843-d597-4d6e-917a-885d695bc43d\" xlink:show=\"new\" xlink:title=\"psysml:86d86843-d597-4d6e-917a-885d695bc43d\" xlink:type=\"simple\"><rect fill=\"#FFFFFF\" height=\"45.9375\" id=\"E4\" rx=\"10\" ry=\"10\" style=\"stroke: #383838; stroke-width: 1.5;\" width=\"42\" x=\"127\" y=\"134\"/><text fill=\"#000000\" font-family=\"sans-serif\" font-size=\"12\" font-style=\"italic\" lengthAdjust=\"spacingAndGlyphs\" textLength=\"40\" x=\"128\" y=\"150.1387\">«part»</text><text fill=\"#000000\" font-family=\"sans-serif\" font-size=\"12\" lengthAdjust=\"spacingAndGlyphs\" textLength=\"8\" x=\"144\" y=\"164.1074\">p</text><line style=\"stroke: #383838; stroke-width: 1.5;\" x1=\"128\" x2=\"168\" y1=\"171.9375\" y2=\"171.9375\"/></a><g id=\"E1.E5\"><a href=\"psysml:6cb3785d-90e3-4021-b607-f0ab9874924c\" target=\"_top\" title=\"psysml:6cb3785d-90e3-4021-b607-f0ab9874924c\" xlink:actuate=\"onRequest\" xlink:href=\"psysml:6cb3785d-90e3-4021-b607-f0ab9874924c\" xlink:show=\"new\" xlink:title=\"psysml:6cb3785d-90e3-4021-b607-f0ab9874924c\" xlink:type=\"simple\"><rect fill=\"#FFFFFF\" height=\"42.9375\" id=\"E5\" rx=\"10\" ry=\"10\" style=\"stroke: #383838; stroke-width: 1.5;\" width=\"60\" x=\"32\" y=\"135.5\"/><rect fill=\"#F8F8F8\" height=\"37.9375\" rx=\"10\" ry=\"10\" style=\"stroke: #F8F8F8; stroke-width: 1.5;\" width=\"60\" x=\"32\" y=\"135.5\"/><rect fill=\"#F8F8F8\" height=\"10\" style=\"stroke: #F8F8F8; stroke-width: 1.5;\" width=\"60\" x=\"32\" y=\"163.4375\"/><rect fill=\"none\" height=\"42.9375\" id=\"E5\" rx=\"10\" ry=\"10\" style=\"stroke: #383838; stroke-width: 1.5;\" width=\"60\" x=\"32\" y=\"135.5\"/><text fill=\"#000000\" font-family=\"sans-serif\" font-size=\"12\" font-style=\"italic\" lengthAdjust=\"spacingAndGlyphs\" textLength=\"53\" x=\"35.5\" y=\"151.6387\">«action»</text><text fill=\"#000000\" font-family=\"sans-serif\" font-size=\"12\" lengthAdjust=\"spacingAndGlyphs\" textLength=\"20\" x=\"52\" y=\"165.6074\">act</text></a></g><ellipse cx=\"558\" cy=\"157\" fill=\"#000000\" rx=\"10\" ry=\"10\" style=\"stroke: none; stroke-width: 1.0;\"/><ellipse cx=\"558\" cy=\"508\" fill=\"none\" rx=\"10\" ry=\"10\" style=\"stroke: #000000; stroke-width: 1.0;\"/><ellipse cx=\"558.5\" cy=\"508.5\" fill=\"#000000\" rx=\"6\" ry=\"6\" style=\"stroke: none; stroke-width: 1.0;\"/><g id=\"E1.E6.E7\"><a href=\"psysml:5ea02985-bc8b-4cb1-bb08-c3caa7c881e0\" target=\"_top\" title=\"psysml:5ea02985-bc8b-4cb1-bb08-c3caa7c881e0\" xlink:actuate=\"onRequest\" xlink:href=\"psysml:5ea02985-bc8b-4cb1-bb08-c3caa7c881e0\" xlink:show=\"new\" xlink:title=\"psysml:5ea02985-bc8b-4cb1-bb08-c3caa7c881e0\" xlink:type=\"simple\"><rect fill=\"#FFFFFF\" height=\"40\" id=\"E7\" rx=\"10\" ry=\"10\" style=\"stroke: #383838; stroke-width: 1.5;\" width=\"50\" x=\"533\" y=\"256\"/><rect fill=\"#F8F8F8\" height=\"23.9688\" rx=\"10\" ry=\"10\" style=\"stroke: #F8F8F8; stroke-width: 1.5;\" width=\"50\" x=\"533\" y=\"256\"/><rect fill=\"#F8F8F8\" height=\"10\" style=\"stroke: #F8F8F8; stroke-width: 1.5;\" width=\"50\" x=\"533\" y=\"269.9688\"/><rect fill=\"none\" height=\"40\" id=\"E7\" rx=\"10\" ry=\"10\" style=\"stroke: #383838; stroke-width: 1.5;\" width=\"50\" x=\"533\" y=\"256\"/><text fill=\"#000000\" font-family=\"sans-serif\" font-size=\"12\" lengthAdjust=\"spacingAndGlyphs\" textLength=\"16\" x=\"550\" y=\"272.1387\">S1</text></a></g><g id=\"E1.E6.E8\"><a href=\"psysml:15193c6f-79c7-4ee2-a2ac-bfb559b7d876\" target=\"_top\" title=\"psysml:15193c6f-79c7-4ee2-a2ac-bfb559b7d876\" xlink:actuate=\"onRequest\" xlink:href=\"psysml:15193c6f-79c7-4ee2-a2ac-bfb559b7d876\" xlink:show=\"new\" xlink:title=\"psysml:15193c6f-79c7-4ee2-a2ac-bfb559b7d876\" xlink:type=\"simple\"><rect fill=\"#FFFFFF\" height=\"47.9375\" id=\"E8\" rx=\"10\" ry=\"10\" style=\"stroke: #383838; stroke-width: 1.5;\" width=\"50\" x=\"533\" y=\"373\"/><rect fill=\"#F8F8F8\" height=\"23.9688\" rx=\"10\" ry=\"10\" style=\"stroke: #F8F8F8; stroke-width: 1.5;\" width=\"50\" x=\"533\" y=\"373\"/><rect fill=\"#F8F8F8\" height=\"10\" style=\"stroke: #F8F8F8; stroke-width: 1.5;\" width=\"50\" x=\"533\" y=\"386.9688\"/><rect fill=\"none\" height=\"47.9375\" id=\"E8\" rx=\"10\" ry=\"10\" style=\"stroke: #383838; stroke-width: 1.5;\" width=\"50\" x=\"533\" y=\"373\"/><text fill=\"#000000\" font-family=\"sans-serif\" font-size=\"12\" lengthAdjust=\"spacingAndGlyphs\" textLength=\"16\" x=\"550\" y=\"389.1387\">S2</text><line style=\"stroke: #383838; stroke-width: 1.0;\" x1=\"533\" x2=\"583\" y1=\"396.9688\" y2=\"396.9688\"/><text fill=\"#000000\" font-family=\"sans-serif\" font-size=\"12\" font-weight=\"bold\" lengthAdjust=\"spacingAndGlyphs\" textLength=\"18\" x=\"538\" y=\"410.1074\">do</text><text fill=\"#000000\" font-family=\"sans-serif\" font-size=\"12\" lengthAdjust=\"spacingAndGlyphs\" textLength=\"4\" x=\"556\" y=\"410.1074\">/</text></a></g><!--MD5=[5a531d3a85f3339e6e197084acb48195]\n",
       "link *start*E6 to E7--><a href=\"psysml:50e6b136-bb64-4da5-b9f3-893462631a2b\" target=\"_top\" title=\"psysml:50e6b136-bb64-4da5-b9f3-893462631a2b\" xlink:actuate=\"onRequest\" xlink:href=\"psysml:50e6b136-bb64-4da5-b9f3-893462631a2b\" xlink:show=\"new\" xlink:title=\"psysml:50e6b136-bb64-4da5-b9f3-893462631a2b\" xlink:type=\"simple\"><path d=\"M558,167.18 C558,184.98 558,224.73 558,250.67 \" fill=\"none\" id=\"*start*E6-&gt;E7\" style=\"stroke: #383838; stroke-width: 1.0;\"/><polygon fill=\"#383838\" points=\"558,255.98,562,246.98,558,250.98,554,246.98,558,255.98\" style=\"stroke: #383838; stroke-width: 1.0;\"/></a><!--MD5=[7ec9a8babba89ddcae1318ca9fb3c814]\n",
       "link E8 to *end*E6--><a href=\"psysml:400438d1-4a79-4175-ae6b-80e92b548ca9\" target=\"_top\" title=\"psysml:400438d1-4a79-4175-ae6b-80e92b548ca9\" xlink:actuate=\"onRequest\" xlink:href=\"psysml:400438d1-4a79-4175-ae6b-80e92b548ca9\" xlink:show=\"new\" xlink:title=\"psysml:400438d1-4a79-4175-ae6b-80e92b548ca9\" xlink:type=\"simple\"><path d=\"M558,421.12 C558,442.75 558,474.39 558,492.62 \" fill=\"none\" id=\"E8-&gt;*end*E6\" style=\"stroke: #383838; stroke-width: 1.0;\"/><polygon fill=\"#383838\" points=\"558,497.82,562,488.82,558,492.82,554,488.82,558,497.82\" style=\"stroke: #383838; stroke-width: 1.0;\"/><text fill=\"#000000\" font-family=\"sans-serif\" font-size=\"13\" lengthAdjust=\"spacingAndGlyphs\" textLength=\"23\" x=\"559\" y=\"464.0669\">Exit</text></a><!--MD5=[79bc8f324ef4d02c541433f2e6e513c3]\n",
       "link E7 to E8--><a href=\"psysml:516b9b87-0f3c-4a45-97aa-978805331ddd\" target=\"_top\" title=\"psysml:516b9b87-0f3c-4a45-97aa-978805331ddd\" xlink:actuate=\"onRequest\" xlink:href=\"psysml:516b9b87-0f3c-4a45-97aa-978805331ddd\" xlink:show=\"new\" xlink:title=\"psysml:516b9b87-0f3c-4a45-97aa-978805331ddd\" xlink:type=\"simple\"><path d=\"M533.07,296.08 C515.1,309.84 494,326 494,326 C494,326 494,343 494,343 C494,343 511.69,357.65 528.47,371.55 \" fill=\"none\" id=\"E7-&gt;E8\" style=\"stroke: #383838; stroke-width: 1.0;\"/><polygon fill=\"#383838\" points=\"532.71,375.05,528.3341,366.2267,528.8607,371.8589,523.2284,372.3855,532.71,375.05\" style=\"stroke: #383838; stroke-width: 1.0;\"/><text fill=\"#000000\" font-family=\"sans-serif\" font-size=\"13\" lengthAdjust=\"spacingAndGlyphs\" textLength=\"81\" x=\"495\" y=\"339.0669\">Sig /action D</text></a><!--MD5=[bfa3c8b0d15052fdf50ae9310b491027]\n",
       "link E8 to E7--><a href=\"psysml:0976314e-a9f7-4444-bafa-f8883db64fa0\" target=\"_top\" title=\"psysml:0976314e-a9f7-4444-bafa-f8883db64fa0\" xlink:actuate=\"onRequest\" xlink:href=\"psysml:0976314e-a9f7-4444-bafa-f8883db64fa0\" xlink:show=\"new\" xlink:title=\"psysml:0976314e-a9f7-4444-bafa-f8883db64fa0\" xlink:type=\"simple\"><path d=\"M568.02,372.91 C574.22,358.63 581,343 581,343 C581,343 581,326 581,326 C581,326 574.98,313.18 569.11,300.66 \" fill=\"none\" id=\"E8-&gt;E7\" style=\"stroke: #383838; stroke-width: 1.0;\"/><polygon fill=\"#383838\" points=\"566.96,296.08,567.1429,305.9272,569.0752,300.6106,574.3918,302.5428,566.96,296.08\" style=\"stroke: #383838; stroke-width: 1.0;\"/><text fill=\"#000000\" font-family=\"sans-serif\" font-size=\"13\" lengthAdjust=\"spacingAndGlyphs\" textLength=\"135\" x=\"582\" y=\"339.0669\">Sig [true]/send s to p</text></a><!--MD5=[4761b5d77d34c3b13cb54ff5d33e552d]\n",
       "@startuml\r\n",
       "skinparam linetype polyline\r\n",
       "skinparam monochrome true\r\n",
       "skinparam classbackgroundcolor white\r\n",
       "skinparam shadowing false\r\n",
       "skinparam wrapWidth 300\r\n",
       "hide circle\r\n",
       "\r\n",
       "package \"StateTest\" as E1  [[psysml:9c548ee6-d869-4820-b951-32f5a4e72165 ]]  {\r\n",
       "comp def \"Sig\" as E2  <<(T,blue)attribute def>> [[psysml:7a2ca9b4-3a97-4e8a-92f8-a9f50dc832cb ]] {\r\n",
       "- - attributes - -\r\n",
       "x\r\n",
       "}\r\n",
       "comp def \"Exit\" as E3  <<(T,blue)attribute def>> [[psysml:30361623-caf7-482c-9813-174242dd8f3c ]] {\r\n",
       "}\r\n",
       "comp usage \"p\" as E4  <<(T,blue)part>> [[psysml:86d86843-d597-4d6e-917a-885d695bc43d ]] {\r\n",
       "}\r\n",
       "rec usage \"act\" as E5  <<(T,blue)action>> [[psysml:6cb3785d-90e3-4021-b607-f0ab9874924c ]] {\r\n",
       "}\r\n",
       "\r\n",
       "rec def \"S\" as E6  <<(T,blue)state def>> [[psysml:409d967c-2b55-4985-b068-ed253d96c58c ]] {\r\n",
       "rec usage \"S1\" as E7 [[psysml:5ea02985-bc8b-4cb1-bb08-c3caa7c881e0 ]] {\r\n",
       "}\r\n",
       "\r\n",
       "rec usage \"S2\" as E8 [[psysml:15193c6f-79c7-4ee2-a2ac-bfb559b7d876 ]] {\r\n",
       "desc \"S2\" as E8  : **do**/ \r\n",
       "}\r\n",
       "\r\n",
       "[*] - -> E7 [[psysml:50e6b136-bb64-4da5-b9f3-893462631a2b ]] \r\n",
       "E8  - -> [*] [[psysml:400438d1-4a79-4175-ae6b-80e92b548ca9 ]] : Exit \r\n",
       "desc \"S\" as E6  : **entry**/ A\r\n",
       "desc \"S\" as E6  : **do**/ B\r\n",
       "desc \"S\" as E6  : **exit**/ act \r\n",
       "}\r\n",
       "\r\n",
       "E7  - -> E8 [[psysml:516b9b87-0f3c-4a45-97aa-978805331ddd ]] : Sig /action D\r\n",
       "E8  - -> E7 [[psysml:0976314e-a9f7-4444-bafa-f8883db64fa0 ]] : Sig [true]/send s to p\r\n",
       "}\r\n",
       "@enduml\r\n",
       "\n",
       "PlantUML version 1.2020.13(Sat Jun 13 12:26:38 UTC 2020)\n",
       "(EPL source distribution)\n",
       "Java Runtime: OpenJDK Runtime Environment\n",
       "JVM: OpenJDK 64-Bit Server VM\n",
       "Default Encoding: UTF-8\n",
       "Language: en\n",
       "Country: null\n",
       "--></g></svg>"
      ]
     },
     "execution_count": 15,
     "metadata": {},
     "output_type": "execute_result"
    }
   ],
   "source": [
    "%viz --style=\"POLYLINE\" --view=\"MIXED\" \"StateTest\""
   ]
  },
  {
   "cell_type": "code",
   "execution_count": 16,
   "id": "exceptional-executive",
   "metadata": {
    "execution": {
     "iopub.execute_input": "2021-03-26T09:13:52.878656Z",
     "iopub.status.busy": "2021-03-26T09:13:52.877832Z",
     "iopub.status.idle": "2021-03-26T09:13:52.929864Z",
     "shell.execute_reply": "2021-03-26T09:13:52.928199Z"
    }
   },
   "outputs": [
    {
     "data": {
      "image/svg+xml": [
       "<?xml version=\"1.0\" encoding=\"UTF-8\" standalone=\"no\"?><svg xmlns=\"http://www.w3.org/2000/svg\" xmlns:xlink=\"http://www.w3.org/1999/xlink\" contentScriptType=\"application/ecmascript\" contentStyleType=\"text/css\" height=\"633px\" preserveAspectRatio=\"none\" style=\"width:652px;height:633px;\" version=\"1.1\" viewBox=\"0 0 652 633\" width=\"652px\" zoomAndPan=\"magnify\"><defs/><g><!--MD5=[fbc87193dbaf4d95561dea2c320d4a47]\n",
       "cluster E1--><a href=\"psysml:9c548ee6-d869-4820-b951-32f5a4e72165\" target=\"_top\" title=\"psysml:9c548ee6-d869-4820-b951-32f5a4e72165\" xlink:actuate=\"onRequest\" xlink:href=\"psysml:9c548ee6-d869-4820-b951-32f5a4e72165\" xlink:show=\"new\" xlink:title=\"psysml:9c548ee6-d869-4820-b951-32f5a4e72165\" xlink:type=\"simple\"><polygon fill=\"#FFFFFF\" points=\"16,6,98,6,105,28.2969,630,28.2969,630,621,16,621,16,6\" style=\"stroke: #000000; stroke-width: 1.5;\"/><line style=\"stroke: #000000; stroke-width: 1.5;\" x1=\"16\" x2=\"105\" y1=\"28.2969\" y2=\"28.2969\"/><text fill=\"#000000\" font-family=\"sans-serif\" font-size=\"14\" font-weight=\"bold\" lengthAdjust=\"spacingAndGlyphs\" textLength=\"76\" x=\"20\" y=\"20.9951\">StateTest</text></a><!--MD5=[14e3b0961a2654348d326746436168a1]\n",
       "cluster E6--><a href=\"psysml:409d967c-2b55-4985-b068-ed253d96c58c\" target=\"_top\" title=\"psysml:409d967c-2b55-4985-b068-ed253d96c58c\" xlink:actuate=\"onRequest\" xlink:href=\"psysml:409d967c-2b55-4985-b068-ed253d96c58c\" xlink:show=\"new\" xlink:title=\"psysml:409d967c-2b55-4985-b068-ed253d96c58c\" xlink:type=\"simple\"><rect fill=\"#FFFFFF\" height=\"223\" id=\"E6\" style=\"stroke: #383838; stroke-width: 1.5;\" width=\"552.5\" x=\"53.5\" y=\"49\"/><rect fill=\"#F8F8F8\" height=\"37.9375\" style=\"stroke: #383838; stroke-width: 1.5;\" width=\"552.5\" x=\"53.5\" y=\"49\"/><text fill=\"#000000\" font-family=\"sans-serif\" font-size=\"12\" font-style=\"italic\" lengthAdjust=\"spacingAndGlyphs\" textLength=\"71\" x=\"294.25\" y=\"65.1387\">«state def»</text><text fill=\"#000000\" font-family=\"sans-serif\" font-size=\"12\" lengthAdjust=\"spacingAndGlyphs\" textLength=\"8\" x=\"325.75\" y=\"79.1074\">S</text><line style=\"stroke: #383838; stroke-width: 1.0;\" x1=\"53.5\" x2=\"606\" y1=\"132.8438\" y2=\"132.8438\"/><text fill=\"#000000\" font-family=\"sans-serif\" font-size=\"12\" font-weight=\"bold\" lengthAdjust=\"spacingAndGlyphs\" textLength=\"38\" x=\"58.5\" y=\"100.0762\">entry</text><text fill=\"#000000\" font-family=\"sans-serif\" font-size=\"12\" lengthAdjust=\"spacingAndGlyphs\" textLength=\"16\" x=\"96.5\" y=\"100.0762\">/ A</text><text fill=\"#000000\" font-family=\"sans-serif\" font-size=\"12\" font-weight=\"bold\" lengthAdjust=\"spacingAndGlyphs\" textLength=\"18\" x=\"58.5\" y=\"114.0449\">do</text><text fill=\"#000000\" font-family=\"sans-serif\" font-size=\"12\" lengthAdjust=\"spacingAndGlyphs\" textLength=\"16\" x=\"76.5\" y=\"114.0449\">/ B</text><text fill=\"#000000\" font-family=\"sans-serif\" font-size=\"12\" font-weight=\"bold\" lengthAdjust=\"spacingAndGlyphs\" textLength=\"26\" x=\"58.5\" y=\"128.0137\">exit</text><text fill=\"#000000\" font-family=\"sans-serif\" font-size=\"12\" lengthAdjust=\"spacingAndGlyphs\" textLength=\"28\" x=\"84.5\" y=\"128.0137\">/ act</text></a><!--MD5=[b4997ac47864f28c2f74865a473b2911]\n",
       "class E2--><a href=\"psysml:7a2ca9b4-3a97-4e8a-92f8-a9f50dc832cb\" target=\"_top\" title=\"psysml:7a2ca9b4-3a97-4e8a-92f8-a9f50dc832cb\" xlink:actuate=\"onRequest\" xlink:href=\"psysml:7a2ca9b4-3a97-4e8a-92f8-a9f50dc832cb\" xlink:show=\"new\" xlink:title=\"psysml:7a2ca9b4-3a97-4e8a-92f8-a9f50dc832cb\" xlink:type=\"simple\"><rect fill=\"#FFFFFF\" height=\"75.5469\" id=\"E2\" style=\"stroke: #383838; stroke-width: 1.5;\" width=\"95\" x=\"32\" y=\"288\"/><text fill=\"#000000\" font-family=\"sans-serif\" font-size=\"12\" font-style=\"italic\" lengthAdjust=\"spacingAndGlyphs\" textLength=\"93\" x=\"33\" y=\"304.1387\">«attribute def»</text><text fill=\"#000000\" font-family=\"sans-serif\" font-size=\"12\" lengthAdjust=\"spacingAndGlyphs\" textLength=\"19\" x=\"70\" y=\"318.1074\">Sig</text><line style=\"stroke: #383838; stroke-width: 1.5;\" x1=\"33\" x2=\"126\" y1=\"325.9375\" y2=\"325.9375\"/><text fill=\"#000000\" font-family=\"sans-serif\" font-size=\"11\" lengthAdjust=\"spacingAndGlyphs\" textLength=\"6\" x=\"38\" y=\"356.9526\">x</text><line style=\"stroke: #383838; stroke-width: 1.0;\" x1=\"33\" x2=\"52\" y1=\"340.3398\" y2=\"340.3398\"/><text fill=\"#000000\" font-family=\"sans-serif\" font-size=\"11\" lengthAdjust=\"spacingAndGlyphs\" textLength=\"55\" x=\"52\" y=\"343.6479\">attributes</text><line style=\"stroke: #383838; stroke-width: 1.0;\" x1=\"107\" x2=\"126\" y1=\"340.3398\" y2=\"340.3398\"/></a><!--MD5=[09b614a08d8cba4a07c9adeb5e0fee81]\n",
       "class E3--><a href=\"psysml:30361623-caf7-482c-9813-174242dd8f3c\" target=\"_top\" title=\"psysml:30361623-caf7-482c-9813-174242dd8f3c\" xlink:actuate=\"onRequest\" xlink:href=\"psysml:30361623-caf7-482c-9813-174242dd8f3c\" xlink:show=\"new\" xlink:title=\"psysml:30361623-caf7-482c-9813-174242dd8f3c\" xlink:type=\"simple\"><rect fill=\"#FFFFFF\" height=\"45.9375\" id=\"E3\" style=\"stroke: #383838; stroke-width: 1.5;\" width=\"95\" x=\"32\" y=\"399\"/><text fill=\"#000000\" font-family=\"sans-serif\" font-size=\"12\" font-style=\"italic\" lengthAdjust=\"spacingAndGlyphs\" textLength=\"93\" x=\"33\" y=\"415.1387\">«attribute def»</text><text fill=\"#000000\" font-family=\"sans-serif\" font-size=\"12\" lengthAdjust=\"spacingAndGlyphs\" textLength=\"22\" x=\"68.5\" y=\"429.1074\">Exit</text><line style=\"stroke: #383838; stroke-width: 1.5;\" x1=\"33\" x2=\"126\" y1=\"436.9375\" y2=\"436.9375\"/></a><!--MD5=[ebbe1d658d1005bcc118a6aa81145e00]\n",
       "class E4--><a href=\"psysml:86d86843-d597-4d6e-917a-885d695bc43d\" target=\"_top\" title=\"psysml:86d86843-d597-4d6e-917a-885d695bc43d\" xlink:actuate=\"onRequest\" xlink:href=\"psysml:86d86843-d597-4d6e-917a-885d695bc43d\" xlink:show=\"new\" xlink:title=\"psysml:86d86843-d597-4d6e-917a-885d695bc43d\" xlink:type=\"simple\"><rect fill=\"#FFFFFF\" height=\"45.9375\" id=\"E4\" rx=\"10\" ry=\"10\" style=\"stroke: #383838; stroke-width: 1.5;\" width=\"42\" x=\"58.5\" y=\"480\"/><text fill=\"#000000\" font-family=\"sans-serif\" font-size=\"12\" font-style=\"italic\" lengthAdjust=\"spacingAndGlyphs\" textLength=\"40\" x=\"59.5\" y=\"496.1387\">«part»</text><text fill=\"#000000\" font-family=\"sans-serif\" font-size=\"12\" lengthAdjust=\"spacingAndGlyphs\" textLength=\"8\" x=\"75.5\" y=\"510.1074\">p</text><line style=\"stroke: #383838; stroke-width: 1.5;\" x1=\"59.5\" x2=\"99.5\" y1=\"517.9375\" y2=\"517.9375\"/></a><g id=\"E1.E5\"><a href=\"psysml:6cb3785d-90e3-4021-b607-f0ab9874924c\" target=\"_top\" title=\"psysml:6cb3785d-90e3-4021-b607-f0ab9874924c\" xlink:actuate=\"onRequest\" xlink:href=\"psysml:6cb3785d-90e3-4021-b607-f0ab9874924c\" xlink:show=\"new\" xlink:title=\"psysml:6cb3785d-90e3-4021-b607-f0ab9874924c\" xlink:type=\"simple\"><rect fill=\"#FFFFFF\" height=\"42.9375\" id=\"E5\" rx=\"10\" ry=\"10\" style=\"stroke: #383838; stroke-width: 1.5;\" width=\"60\" x=\"49.5\" y=\"561.5\"/><rect fill=\"#F8F8F8\" height=\"37.9375\" rx=\"10\" ry=\"10\" style=\"stroke: #F8F8F8; stroke-width: 1.5;\" width=\"60\" x=\"49.5\" y=\"561.5\"/><rect fill=\"#F8F8F8\" height=\"10\" style=\"stroke: #F8F8F8; stroke-width: 1.5;\" width=\"60\" x=\"49.5\" y=\"589.4375\"/><rect fill=\"none\" height=\"42.9375\" id=\"E5\" rx=\"10\" ry=\"10\" style=\"stroke: #383838; stroke-width: 1.5;\" width=\"60\" x=\"49.5\" y=\"561.5\"/><text fill=\"#000000\" font-family=\"sans-serif\" font-size=\"12\" font-style=\"italic\" lengthAdjust=\"spacingAndGlyphs\" textLength=\"53\" x=\"53\" y=\"577.6387\">«action»</text><text fill=\"#000000\" font-family=\"sans-serif\" font-size=\"12\" lengthAdjust=\"spacingAndGlyphs\" textLength=\"20\" x=\"69.5\" y=\"591.6074\">act</text></a></g><ellipse cx=\"79.5\" cy=\"194\" fill=\"#000000\" rx=\"10\" ry=\"10\" style=\"stroke: none; stroke-width: 1.0;\"/><ellipse cx=\"580\" cy=\"196\" fill=\"none\" rx=\"10\" ry=\"10\" style=\"stroke: #000000; stroke-width: 1.0;\"/><ellipse cx=\"580.5\" cy=\"196.5\" fill=\"#000000\" rx=\"6\" ry=\"6\" style=\"stroke: none; stroke-width: 1.0;\"/><g id=\"E1.E6.E7\"><a href=\"psysml:5ea02985-bc8b-4cb1-bb08-c3caa7c881e0\" target=\"_top\" title=\"psysml:5ea02985-bc8b-4cb1-bb08-c3caa7c881e0\" xlink:actuate=\"onRequest\" xlink:href=\"psysml:5ea02985-bc8b-4cb1-bb08-c3caa7c881e0\" xlink:show=\"new\" xlink:title=\"psysml:5ea02985-bc8b-4cb1-bb08-c3caa7c881e0\" xlink:type=\"simple\"><rect fill=\"#FFFFFF\" height=\"40\" id=\"E7\" rx=\"10\" ry=\"10\" style=\"stroke: #383838; stroke-width: 1.5;\" width=\"50\" x=\"188\" y=\"174\"/><rect fill=\"#F8F8F8\" height=\"23.9688\" rx=\"10\" ry=\"10\" style=\"stroke: #F8F8F8; stroke-width: 1.5;\" width=\"50\" x=\"188\" y=\"174\"/><rect fill=\"#F8F8F8\" height=\"10\" style=\"stroke: #F8F8F8; stroke-width: 1.5;\" width=\"50\" x=\"188\" y=\"187.9688\"/><rect fill=\"none\" height=\"40\" id=\"E7\" rx=\"10\" ry=\"10\" style=\"stroke: #383838; stroke-width: 1.5;\" width=\"50\" x=\"188\" y=\"174\"/><text fill=\"#000000\" font-family=\"sans-serif\" font-size=\"12\" lengthAdjust=\"spacingAndGlyphs\" textLength=\"16\" x=\"205\" y=\"190.1387\">S1</text></a></g><g id=\"E1.E6.E8\"><a href=\"psysml:15193c6f-79c7-4ee2-a2ac-bfb559b7d876\" target=\"_top\" title=\"psysml:15193c6f-79c7-4ee2-a2ac-bfb559b7d876\" xlink:actuate=\"onRequest\" xlink:href=\"psysml:15193c6f-79c7-4ee2-a2ac-bfb559b7d876\" xlink:show=\"new\" xlink:title=\"psysml:15193c6f-79c7-4ee2-a2ac-bfb559b7d876\" xlink:type=\"simple\"><rect fill=\"#FFFFFF\" height=\"47.9375\" id=\"E8\" rx=\"10\" ry=\"10\" style=\"stroke: #383838; stroke-width: 1.5;\" width=\"50\" x=\"435\" y=\"172\"/><rect fill=\"#F8F8F8\" height=\"23.9688\" rx=\"10\" ry=\"10\" style=\"stroke: #F8F8F8; stroke-width: 1.5;\" width=\"50\" x=\"435\" y=\"172\"/><rect fill=\"#F8F8F8\" height=\"10\" style=\"stroke: #F8F8F8; stroke-width: 1.5;\" width=\"50\" x=\"435\" y=\"185.9688\"/><rect fill=\"none\" height=\"47.9375\" id=\"E8\" rx=\"10\" ry=\"10\" style=\"stroke: #383838; stroke-width: 1.5;\" width=\"50\" x=\"435\" y=\"172\"/><text fill=\"#000000\" font-family=\"sans-serif\" font-size=\"12\" lengthAdjust=\"spacingAndGlyphs\" textLength=\"16\" x=\"452\" y=\"188.1387\">S2</text><line style=\"stroke: #383838; stroke-width: 1.0;\" x1=\"435\" x2=\"485\" y1=\"195.9688\" y2=\"195.9688\"/><text fill=\"#000000\" font-family=\"sans-serif\" font-size=\"12\" font-weight=\"bold\" lengthAdjust=\"spacingAndGlyphs\" textLength=\"18\" x=\"440\" y=\"209.1074\">do</text><text fill=\"#000000\" font-family=\"sans-serif\" font-size=\"12\" lengthAdjust=\"spacingAndGlyphs\" textLength=\"4\" x=\"458\" y=\"209.1074\">/</text></a></g><!--MD5=[5a531d3a85f3339e6e197084acb48195]\n",
       "link *start*E6 to E7--><a href=\"psysml:50e6b136-bb64-4da5-b9f3-893462631a2b\" target=\"_top\" title=\"psysml:50e6b136-bb64-4da5-b9f3-893462631a2b\" xlink:actuate=\"onRequest\" xlink:href=\"psysml:50e6b136-bb64-4da5-b9f3-893462631a2b\" xlink:show=\"new\" xlink:title=\"psysml:50e6b136-bb64-4da5-b9f3-893462631a2b\" xlink:type=\"simple\"><path d=\"M89.54,194 C108.46,194 152.97,194 182.78,194 \" fill=\"none\" id=\"*start*E6-&gt;E7\" style=\"stroke: #383838; stroke-width: 1.0;\"/><polygon fill=\"#383838\" points=\"187.8,194,178.8,190,182.8,194,178.8,198,187.8,194\" style=\"stroke: #383838; stroke-width: 1.0;\"/></a><!--MD5=[7ec9a8babba89ddcae1318ca9fb3c814]\n",
       "link E8 to *end*E6--><a href=\"psysml:400438d1-4a79-4175-ae6b-80e92b548ca9\" target=\"_top\" title=\"psysml:400438d1-4a79-4175-ae6b-80e92b548ca9\" xlink:actuate=\"onRequest\" xlink:href=\"psysml:400438d1-4a79-4175-ae6b-80e92b548ca9\" xlink:show=\"new\" xlink:title=\"psysml:400438d1-4a79-4175-ae6b-80e92b548ca9\" xlink:type=\"simple\"><path d=\"M485.16,196 C509.08,196 544.89,196 564.64,196 \" fill=\"none\" id=\"E8-&gt;*end*E6\" style=\"stroke: #383838; stroke-width: 1.0;\"/><polygon fill=\"#383838\" points=\"569.76,196,560.76,192,564.76,196,560.76,200,569.76,196\" style=\"stroke: #383838; stroke-width: 1.0;\"/><text fill=\"#000000\" font-family=\"sans-serif\" font-size=\"13\" lengthAdjust=\"spacingAndGlyphs\" textLength=\"23\" x=\"516\" y=\"192.0669\">Exit</text></a><!--MD5=[79bc8f324ef4d02c541433f2e6e513c3]\n",
       "link E7 to E8--><a href=\"psysml:516b9b87-0f3c-4a45-97aa-978805331ddd\" target=\"_top\" title=\"psysml:516b9b87-0f3c-4a45-97aa-978805331ddd\" xlink:actuate=\"onRequest\" xlink:href=\"psysml:516b9b87-0f3c-4a45-97aa-978805331ddd\" xlink:show=\"new\" xlink:title=\"psysml:516b9b87-0f3c-4a45-97aa-978805331ddd\" xlink:type=\"simple\"><path d=\"M238.15,210.85 C247.11,216.14 257.62,221.31 268,224 C326.94,239.27 345.84,238.42 405,224 C413.58,221.91 422.32,218.19 430.2,214.14 \" fill=\"none\" id=\"E7-&gt;E8\" style=\"stroke: #383838; stroke-width: 1.0;\"/><polygon fill=\"#383838\" points=\"434.98,211.59,425.156,212.2893,430.5666,213.94,428.9159,219.3506,434.98,211.59\" style=\"stroke: #383838; stroke-width: 1.0;\"/><text fill=\"#000000\" font-family=\"sans-serif\" font-size=\"13\" lengthAdjust=\"spacingAndGlyphs\" textLength=\"81\" x=\"296\" y=\"220.0669\">Sig /action D</text></a><!--MD5=[bfa3c8b0d15052fdf50ae9310b491027]\n",
       "link E8 to E7--><a href=\"psysml:0976314e-a9f7-4444-bafa-f8883db64fa0\" target=\"_top\" title=\"psysml:0976314e-a9f7-4444-bafa-f8883db64fa0\" xlink:actuate=\"onRequest\" xlink:href=\"psysml:0976314e-a9f7-4444-bafa-f8883db64fa0\" xlink:show=\"new\" xlink:title=\"psysml:0976314e-a9f7-4444-bafa-f8883db64fa0\" xlink:type=\"simple\"><path d=\"M434.71,195.8 C389.48,195.43 292.49,194.64 243.54,194.24 \" fill=\"none\" id=\"E8-&gt;E7\" style=\"stroke: #383838; stroke-width: 1.0;\"/><polygon fill=\"#383838\" points=\"238.39,194.2,247.3554,198.277,243.3898,194.2429,247.424,190.2773,238.39,194.2\" style=\"stroke: #383838; stroke-width: 1.0;\"/><text fill=\"#000000\" font-family=\"sans-serif\" font-size=\"13\" lengthAdjust=\"spacingAndGlyphs\" textLength=\"135\" x=\"269\" y=\"191.0669\">Sig [true]/send s to p</text></a><!--MD5=[0485369e6d972f7a7aa483f3e5467055]\n",
       "@startuml\r\n",
       "left to right direction\r\n",
       "skinparam monochrome true\r\n",
       "skinparam classbackgroundcolor white\r\n",
       "skinparam shadowing false\r\n",
       "skinparam wrapWidth 300\r\n",
       "hide circle\r\n",
       "\r\n",
       "package \"StateTest\" as E1  [[psysml:9c548ee6-d869-4820-b951-32f5a4e72165 ]]  {\r\n",
       "comp def \"Sig\" as E2  <<(T,blue)attribute def>> [[psysml:7a2ca9b4-3a97-4e8a-92f8-a9f50dc832cb ]] {\r\n",
       "- - attributes - -\r\n",
       "x\r\n",
       "}\r\n",
       "comp def \"Exit\" as E3  <<(T,blue)attribute def>> [[psysml:30361623-caf7-482c-9813-174242dd8f3c ]] {\r\n",
       "}\r\n",
       "comp usage \"p\" as E4  <<(T,blue)part>> [[psysml:86d86843-d597-4d6e-917a-885d695bc43d ]] {\r\n",
       "}\r\n",
       "rec usage \"act\" as E5  <<(T,blue)action>> [[psysml:6cb3785d-90e3-4021-b607-f0ab9874924c ]] {\r\n",
       "}\r\n",
       "\r\n",
       "rec def \"S\" as E6  <<(T,blue)state def>> [[psysml:409d967c-2b55-4985-b068-ed253d96c58c ]] {\r\n",
       "rec usage \"S1\" as E7 [[psysml:5ea02985-bc8b-4cb1-bb08-c3caa7c881e0 ]] {\r\n",
       "}\r\n",
       "\r\n",
       "rec usage \"S2\" as E8 [[psysml:15193c6f-79c7-4ee2-a2ac-bfb559b7d876 ]] {\r\n",
       "desc \"S2\" as E8  : **do**/ \r\n",
       "}\r\n",
       "\r\n",
       "[*] - -> E7 [[psysml:50e6b136-bb64-4da5-b9f3-893462631a2b ]] \r\n",
       "E8  - -> [*] [[psysml:400438d1-4a79-4175-ae6b-80e92b548ca9 ]] : Exit \r\n",
       "desc \"S\" as E6  : **entry**/ A\r\n",
       "desc \"S\" as E6  : **do**/ B\r\n",
       "desc \"S\" as E6  : **exit**/ act \r\n",
       "}\r\n",
       "\r\n",
       "E7  - -> E8 [[psysml:516b9b87-0f3c-4a45-97aa-978805331ddd ]] : Sig /action D\r\n",
       "E8  - -> E7 [[psysml:0976314e-a9f7-4444-bafa-f8883db64fa0 ]] : Sig [true]/send s to p\r\n",
       "}\r\n",
       "@enduml\r\n",
       "\n",
       "PlantUML version 1.2020.13(Sat Jun 13 12:26:38 UTC 2020)\n",
       "(EPL source distribution)\n",
       "Java Runtime: OpenJDK Runtime Environment\n",
       "JVM: OpenJDK 64-Bit Server VM\n",
       "Default Encoding: UTF-8\n",
       "Language: en\n",
       "Country: null\n",
       "--></g></svg>"
      ]
     },
     "execution_count": 16,
     "metadata": {},
     "output_type": "execute_result"
    }
   ],
   "source": [
    "%viz --style=\"LR\" --view=\"Default\" \"StateTest\""
   ]
  },
  {
   "cell_type": "code",
   "execution_count": 17,
   "id": "varying-desktop",
   "metadata": {
    "execution": {
     "iopub.execute_input": "2021-03-26T09:13:52.982824Z",
     "iopub.status.busy": "2021-03-26T09:13:52.982152Z",
     "iopub.status.idle": "2021-03-26T09:13:53.086690Z",
     "shell.execute_reply": "2021-03-26T09:13:53.085352Z"
    }
   },
   "outputs": [
    {
     "data": {
      "image/svg+xml": [
       "<?xml version=\"1.0\" encoding=\"UTF-8\" standalone=\"no\"?><svg xmlns=\"http://www.w3.org/2000/svg\" xmlns:xlink=\"http://www.w3.org/1999/xlink\" contentScriptType=\"application/ecmascript\" contentStyleType=\"text/css\" height=\"583px\" preserveAspectRatio=\"none\" style=\"width:424px;height:583px;\" version=\"1.1\" viewBox=\"0 0 424 583\" width=\"424px\" zoomAndPan=\"magnify\"><defs/><g><!--MD5=[fbc87193dbaf4d95561dea2c320d4a47]\n",
       "cluster E1--><a href=\"psysml:9c548ee6-d869-4820-b951-32f5a4e72165\" target=\"_top\" title=\"psysml:9c548ee6-d869-4820-b951-32f5a4e72165\" xlink:actuate=\"onRequest\" xlink:href=\"psysml:9c548ee6-d869-4820-b951-32f5a4e72165\" xlink:show=\"new\" xlink:title=\"psysml:9c548ee6-d869-4820-b951-32f5a4e72165\" xlink:type=\"simple\"><polygon fill=\"#FFFFFF\" points=\"16,6,98,6,105,28.2969,402,28.2969,402,571,16,571,16,6\" style=\"stroke: #000000; stroke-width: 1.5;\"/><line style=\"stroke: #000000; stroke-width: 1.5;\" x1=\"16\" x2=\"105\" y1=\"28.2969\" y2=\"28.2969\"/><text fill=\"#000000\" font-family=\"sans-serif\" font-size=\"14\" font-weight=\"bold\" lengthAdjust=\"spacingAndGlyphs\" textLength=\"76\" x=\"20\" y=\"20.9951\">StateTest</text></a><!--MD5=[b4997ac47864f28c2f74865a473b2911]\n",
       "class E2--><a href=\"psysml:7a2ca9b4-3a97-4e8a-92f8-a9f50dc832cb\" target=\"_top\" title=\"psysml:7a2ca9b4-3a97-4e8a-92f8-a9f50dc832cb\" xlink:actuate=\"onRequest\" xlink:href=\"psysml:7a2ca9b4-3a97-4e8a-92f8-a9f50dc832cb\" xlink:show=\"new\" xlink:title=\"psysml:7a2ca9b4-3a97-4e8a-92f8-a9f50dc832cb\" xlink:type=\"simple\"><rect fill=\"#FFFFFF\" height=\"75.5469\" id=\"E2\" style=\"stroke: #383838; stroke-width: 1.5;\" width=\"95\" x=\"32\" y=\"41\"/><text fill=\"#000000\" font-family=\"sans-serif\" font-size=\"12\" font-style=\"italic\" lengthAdjust=\"spacingAndGlyphs\" textLength=\"93\" x=\"33\" y=\"57.1387\">«attribute def»</text><text fill=\"#000000\" font-family=\"sans-serif\" font-size=\"12\" lengthAdjust=\"spacingAndGlyphs\" textLength=\"19\" x=\"70\" y=\"71.1074\">Sig</text><line style=\"stroke: #383838; stroke-width: 1.5;\" x1=\"33\" x2=\"126\" y1=\"78.9375\" y2=\"78.9375\"/><text fill=\"#000000\" font-family=\"sans-serif\" font-size=\"11\" lengthAdjust=\"spacingAndGlyphs\" textLength=\"6\" x=\"38\" y=\"109.9526\">x</text><line style=\"stroke: #383838; stroke-width: 1.0;\" x1=\"33\" x2=\"52\" y1=\"93.3398\" y2=\"93.3398\"/><text fill=\"#000000\" font-family=\"sans-serif\" font-size=\"11\" lengthAdjust=\"spacingAndGlyphs\" textLength=\"55\" x=\"52\" y=\"96.6479\">attributes</text><line style=\"stroke: #383838; stroke-width: 1.0;\" x1=\"107\" x2=\"126\" y1=\"93.3398\" y2=\"93.3398\"/></a><!--MD5=[09b614a08d8cba4a07c9adeb5e0fee81]\n",
       "class E3--><a href=\"psysml:30361623-caf7-482c-9813-174242dd8f3c\" target=\"_top\" title=\"psysml:30361623-caf7-482c-9813-174242dd8f3c\" xlink:actuate=\"onRequest\" xlink:href=\"psysml:30361623-caf7-482c-9813-174242dd8f3c\" xlink:show=\"new\" xlink:title=\"psysml:30361623-caf7-482c-9813-174242dd8f3c\" xlink:type=\"simple\"><rect fill=\"#FFFFFF\" height=\"45.9375\" id=\"E3\" style=\"stroke: #383838; stroke-width: 1.5;\" width=\"95\" x=\"32\" y=\"152\"/><text fill=\"#000000\" font-family=\"sans-serif\" font-size=\"12\" font-style=\"italic\" lengthAdjust=\"spacingAndGlyphs\" textLength=\"93\" x=\"33\" y=\"168.1387\">«attribute def»</text><text fill=\"#000000\" font-family=\"sans-serif\" font-size=\"12\" lengthAdjust=\"spacingAndGlyphs\" textLength=\"22\" x=\"68.5\" y=\"182.1074\">Exit</text><line style=\"stroke: #383838; stroke-width: 1.5;\" x1=\"33\" x2=\"126\" y1=\"189.9375\" y2=\"189.9375\"/></a><!--MD5=[ebbe1d658d1005bcc118a6aa81145e00]\n",
       "class E4--><a href=\"psysml:86d86843-d597-4d6e-917a-885d695bc43d\" target=\"_top\" title=\"psysml:86d86843-d597-4d6e-917a-885d695bc43d\" xlink:actuate=\"onRequest\" xlink:href=\"psysml:86d86843-d597-4d6e-917a-885d695bc43d\" xlink:show=\"new\" xlink:title=\"psysml:86d86843-d597-4d6e-917a-885d695bc43d\" xlink:type=\"simple\"><rect fill=\"#FFFFFF\" height=\"45.9375\" id=\"E4\" rx=\"10\" ry=\"10\" style=\"stroke: #383838; stroke-width: 1.5;\" width=\"42\" x=\"58.5\" y=\"233\"/><text fill=\"#000000\" font-family=\"sans-serif\" font-size=\"12\" font-style=\"italic\" lengthAdjust=\"spacingAndGlyphs\" textLength=\"40\" x=\"59.5\" y=\"249.1387\">«part»</text><text fill=\"#000000\" font-family=\"sans-serif\" font-size=\"12\" lengthAdjust=\"spacingAndGlyphs\" textLength=\"8\" x=\"75.5\" y=\"263.1074\">p</text><line style=\"stroke: #383838; stroke-width: 1.5;\" x1=\"59.5\" x2=\"99.5\" y1=\"270.9375\" y2=\"270.9375\"/></a><!--MD5=[270fce915f116d4de14055a7c1d9a0f3]\n",
       "class E5--><a href=\"psysml:6cb3785d-90e3-4021-b607-f0ab9874924c\" target=\"_top\" title=\"psysml:6cb3785d-90e3-4021-b607-f0ab9874924c\" xlink:actuate=\"onRequest\" xlink:href=\"psysml:6cb3785d-90e3-4021-b607-f0ab9874924c\" xlink:show=\"new\" xlink:title=\"psysml:6cb3785d-90e3-4021-b607-f0ab9874924c\" xlink:type=\"simple\"><rect fill=\"#FFFFFF\" height=\"45.9375\" id=\"E5\" rx=\"10\" ry=\"10\" style=\"stroke: #383838; stroke-width: 1.5;\" width=\"55\" x=\"52\" y=\"314\"/><text fill=\"#000000\" font-family=\"sans-serif\" font-size=\"12\" font-style=\"italic\" lengthAdjust=\"spacingAndGlyphs\" textLength=\"53\" x=\"53\" y=\"330.1387\">«action»</text><text fill=\"#000000\" font-family=\"sans-serif\" font-size=\"12\" lengthAdjust=\"spacingAndGlyphs\" textLength=\"20\" x=\"69.5\" y=\"344.1074\">act</text><line style=\"stroke: #383838; stroke-width: 1.5;\" x1=\"53\" x2=\"106\" y1=\"351.9375\" y2=\"351.9375\"/></a><!--MD5=[60a26617385b1d2d0262a64233df1f8d]\n",
       "class E6--><a href=\"psysml:409d967c-2b55-4985-b068-ed253d96c58c\" target=\"_top\" title=\"psysml:409d967c-2b55-4985-b068-ed253d96c58c\" xlink:actuate=\"onRequest\" xlink:href=\"psysml:409d967c-2b55-4985-b068-ed253d96c58c\" xlink:show=\"new\" xlink:title=\"psysml:409d967c-2b55-4985-b068-ed253d96c58c\" xlink:type=\"simple\"><rect fill=\"#FFFFFF\" height=\"160.375\" id=\"E6\" style=\"stroke: #383838; stroke-width: 1.5;\" width=\"95\" x=\"32\" y=\"395\"/><text fill=\"#000000\" font-family=\"sans-serif\" font-size=\"12\" font-style=\"italic\" lengthAdjust=\"spacingAndGlyphs\" textLength=\"71\" x=\"44\" y=\"411.1387\">«state def»</text><text fill=\"#000000\" font-family=\"sans-serif\" font-size=\"12\" lengthAdjust=\"spacingAndGlyphs\" textLength=\"8\" x=\"75.5\" y=\"425.1074\">S</text><line style=\"stroke: #383838; stroke-width: 1.5;\" x1=\"33\" x2=\"126\" y1=\"432.9375\" y2=\"432.9375\"/><text fill=\"#000000\" font-family=\"sans-serif\" font-size=\"11\" lengthAdjust=\"spacingAndGlyphs\" textLength=\"17\" x=\"38\" y=\"463.9526\">act</text><text fill=\"#000000\" font-family=\"sans-serif\" font-size=\"11\" lengthAdjust=\"spacingAndGlyphs\" textLength=\"7\" x=\"38\" y=\"476.7573\">A</text><text fill=\"#000000\" font-family=\"sans-serif\" font-size=\"11\" lengthAdjust=\"spacingAndGlyphs\" textLength=\"8\" x=\"38\" y=\"489.562\">B</text><line style=\"stroke: #383838; stroke-width: 1.0;\" x1=\"33\" x2=\"36\" y1=\"447.3398\" y2=\"447.3398\"/><text fill=\"#000000\" font-family=\"sans-serif\" font-size=\"11\" lengthAdjust=\"spacingAndGlyphs\" textLength=\"87\" x=\"36\" y=\"450.6479\">performActions</text><line style=\"stroke: #383838; stroke-width: 1.0;\" x1=\"123\" x2=\"126\" y1=\"447.3398\" y2=\"447.3398\"/><text fill=\"#000000\" font-family=\"sans-serif\" font-size=\"11\" lengthAdjust=\"spacingAndGlyphs\" textLength=\"15\" x=\"38\" y=\"519.1714\">S1</text><line style=\"stroke: #383838; stroke-width: 1.0;\" x1=\"33\" x2=\"61.5\" y1=\"502.5586\" y2=\"502.5586\"/><text fill=\"#000000\" font-family=\"sans-serif\" font-size=\"11\" lengthAdjust=\"spacingAndGlyphs\" textLength=\"36\" x=\"61.5\" y=\"505.8667\">states</text><line style=\"stroke: #383838; stroke-width: 1.0;\" x1=\"97.5\" x2=\"126\" y1=\"502.5586\" y2=\"502.5586\"/><text fill=\"#000000\" font-family=\"sans-serif\" font-size=\"11\" lengthAdjust=\"spacingAndGlyphs\" textLength=\"7\" x=\"38\" y=\"548.7808\">T</text><line style=\"stroke: #383838; stroke-width: 1.0;\" x1=\"33\" x2=\"49\" y1=\"532.168\" y2=\"532.168\"/><text fill=\"#000000\" font-family=\"sans-serif\" font-size=\"11\" lengthAdjust=\"spacingAndGlyphs\" textLength=\"61\" x=\"49\" y=\"535.4761\">transitions</text><line style=\"stroke: #383838; stroke-width: 1.0;\" x1=\"110\" x2=\"126\" y1=\"532.168\" y2=\"532.168\"/></a><!--MD5=[1dd1bfd58a279cf63c5f349dbc8fc6a1]\n",
       "class E11--><a href=\"psysml:15193c6f-79c7-4ee2-a2ac-bfb559b7d876\" target=\"_top\" title=\"psysml:15193c6f-79c7-4ee2-a2ac-bfb559b7d876\" xlink:actuate=\"onRequest\" xlink:href=\"psysml:15193c6f-79c7-4ee2-a2ac-bfb559b7d876\" xlink:show=\"new\" xlink:title=\"psysml:15193c6f-79c7-4ee2-a2ac-bfb559b7d876\" xlink:type=\"simple\"><rect fill=\"#FFFFFF\" height=\"45.9375\" id=\"E11\" rx=\"10\" ry=\"10\" style=\"stroke: #383838; stroke-width: 1.5;\" width=\"49\" x=\"187\" y=\"452\"/><text fill=\"#000000\" font-family=\"sans-serif\" font-size=\"12\" font-style=\"italic\" lengthAdjust=\"spacingAndGlyphs\" textLength=\"47\" x=\"188\" y=\"468.1387\">«state»</text><text fill=\"#000000\" font-family=\"sans-serif\" font-size=\"12\" lengthAdjust=\"spacingAndGlyphs\" textLength=\"16\" x=\"203.5\" y=\"482.1074\">S2</text><line style=\"stroke: #383838; stroke-width: 1.5;\" x1=\"188\" x2=\"235\" y1=\"489.9375\" y2=\"489.9375\"/></a><!--MD5=[49a0ec8f00dab7302a31f22d0f0fe584]\n",
       "class E12--><a href=\"psysml:02a264b3-17c4-490c-b5b1-f49bb5aa02c2\" target=\"_top\" title=\"psysml:02a264b3-17c4-490c-b5b1-f49bb5aa02c2\" xlink:actuate=\"onRequest\" xlink:href=\"psysml:02a264b3-17c4-490c-b5b1-f49bb5aa02c2\" xlink:show=\"new\" xlink:title=\"psysml:02a264b3-17c4-490c-b5b1-f49bb5aa02c2\" xlink:type=\"simple\"><rect fill=\"#FFFFFF\" height=\"75.5469\" id=\"E12\" rx=\"10\" ry=\"10\" style=\"stroke: #383838; stroke-width: 1.5;\" width=\"90\" x=\"296\" y=\"437\"/><text fill=\"#000000\" font-family=\"sans-serif\" font-size=\"12\" font-style=\"italic\" lengthAdjust=\"spacingAndGlyphs\" textLength=\"88\" x=\"297\" y=\"453.1387\">«send action»</text><text fill=\"#000000\" font-family=\"sans-serif\" font-size=\"12\" lengthAdjust=\"spacingAndGlyphs\" textLength=\"55\" x=\"313.5\" y=\"467.1074\">doAction</text><line style=\"stroke: #383838; stroke-width: 1.5;\" x1=\"297\" x2=\"385\" y1=\"474.9375\" y2=\"474.9375\"/><text fill=\"#000000\" font-family=\"sans-serif\" font-size=\"11\" lengthAdjust=\"spacingAndGlyphs\" textLength=\"25\" x=\"302\" y=\"505.9526\">item</text><line style=\"stroke: #383838; stroke-width: 1.0;\" x1=\"297\" x2=\"303.5\" y1=\"489.3398\" y2=\"489.3398\"/><text fill=\"#000000\" font-family=\"sans-serif\" font-size=\"11\" lengthAdjust=\"spacingAndGlyphs\" textLength=\"75\" x=\"303.5\" y=\"492.6479\">itemFeatures</text><line style=\"stroke: #383838; stroke-width: 1.0;\" x1=\"378.5\" x2=\"385\" y1=\"489.3398\" y2=\"489.3398\"/></a><!--MD5=[1f5f03483f7de0d5b3680a7f6650997f]\n",
       "reverse link E6 to E11--><a href=\"psysml:15193c6f-79c7-4ee2-a2ac-bfb559b7d876\" target=\"_top\" title=\"psysml:15193c6f-79c7-4ee2-a2ac-bfb559b7d876\" xlink:actuate=\"onRequest\" xlink:href=\"psysml:15193c6f-79c7-4ee2-a2ac-bfb559b7d876\" xlink:show=\"new\" xlink:title=\"psysml:15193c6f-79c7-4ee2-a2ac-bfb559b7d876\" xlink:type=\"simple\"><path d=\"M140.15,475 C156.69,475 173.69,475 186.84,475 \" fill=\"none\" id=\"E6&lt;-E11\" style=\"stroke: #383838; stroke-width: 1.0;\"/><polygon fill=\"#383838\" points=\"127.07,475,133.07,479,139.07,475,133.07,471,127.07,475\" style=\"stroke: #383838; stroke-width: 1.0;\"/></a><!--MD5=[94adabc162ce7e41b39f13be14fbaeb3]\n",
       "reverse link E11 to E12--><a href=\"psysml:02a264b3-17c4-490c-b5b1-f49bb5aa02c2\" target=\"_top\" title=\"psysml:02a264b3-17c4-490c-b5b1-f49bb5aa02c2\" xlink:actuate=\"onRequest\" xlink:href=\"psysml:02a264b3-17c4-490c-b5b1-f49bb5aa02c2\" xlink:show=\"new\" xlink:title=\"psysml:02a264b3-17c4-490c-b5b1-f49bb5aa02c2\" xlink:type=\"simple\"><path d=\"M249.28,475 C263.81,475 280.62,475 295.8,475 \" fill=\"none\" id=\"E11&lt;-E12\" style=\"stroke: #383838; stroke-width: 1.0;\"/><polygon fill=\"#FFFFFF\" points=\"236.18,475,242.18,479,248.18,475,242.18,471,236.18,475\" style=\"stroke: #383838; stroke-width: 1.0;\"/></a><!--MD5=[ea07fd82269c30f8c90c4010ac3eff51]\n",
       "@startuml\r\n",
       "left to right direction\r\n",
       "skinparam monochrome true\r\n",
       "skinparam classbackgroundcolor white\r\n",
       "skinparam shadowing false\r\n",
       "skinparam wrapWidth 300\r\n",
       "hide circle\r\n",
       "\r\n",
       "package \"StateTest\" as E1  [[psysml:9c548ee6-d869-4820-b951-32f5a4e72165 ]]  {\r\n",
       "comp def \"Sig\" as E2  <<(T,blue)attribute def>> [[psysml:7a2ca9b4-3a97-4e8a-92f8-a9f50dc832cb ]] {\r\n",
       "- - attributes - -\r\n",
       "x\r\n",
       "}\r\n",
       "comp def \"Exit\" as E3  <<(T,blue)attribute def>> [[psysml:30361623-caf7-482c-9813-174242dd8f3c ]] {\r\n",
       "}\r\n",
       "comp usage \"p\" as E4  <<(T,blue)part>> [[psysml:86d86843-d597-4d6e-917a-885d695bc43d ]] {\r\n",
       "}\r\n",
       "comp usage \"act\" as E5  <<(T,blue)action>> [[psysml:6cb3785d-90e3-4021-b607-f0ab9874924c ]] {\r\n",
       "}\r\n",
       "comp def \"S\" as E6  <<(T,blue)state def>> [[psysml:409d967c-2b55-4985-b068-ed253d96c58c ]] {\r\n",
       "- - performActions - -\r\n",
       "act\r\n",
       "A\r\n",
       "B\r\n",
       "- - states - -\r\n",
       "S1\r\n",
       "- - transitions - -\r\n",
       "T\r\n",
       "}\r\n",
       "comp usage \"S2\" as E11  <<(T,blue)state>> [[psysml:15193c6f-79c7-4ee2-a2ac-bfb559b7d876 ]] {\r\n",
       "}\r\n",
       "comp usage \"doAction\" as E12 <<send action>> [[psysml:02a264b3-17c4-490c-b5b1-f49bb5aa02c2 ]] {\r\n",
       "- - itemFeatures - -\r\n",
       "item\r\n",
       "}\r\n",
       "E6 *- - E11 [[psysml:15193c6f-79c7-4ee2-a2ac-bfb559b7d876 ]] \r\n",
       "E11 o- - E12 [[psysml:02a264b3-17c4-490c-b5b1-f49bb5aa02c2 ]] \r\n",
       "}\r\n",
       "@enduml\r\n",
       "\n",
       "PlantUML version 1.2020.13(Sat Jun 13 12:26:38 UTC 2020)\n",
       "(EPL source distribution)\n",
       "Java Runtime: OpenJDK Runtime Environment\n",
       "JVM: OpenJDK 64-Bit Server VM\n",
       "Default Encoding: UTF-8\n",
       "Language: en\n",
       "Country: null\n",
       "--></g></svg>"
      ]
     },
     "execution_count": 17,
     "metadata": {},
     "output_type": "execute_result"
    }
   ],
   "source": [
    "%viz --style=\"LR\" --view=\"Tree\" \"StateTest\""
   ]
  },
  {
   "cell_type": "code",
   "execution_count": 18,
   "id": "olympic-williams",
   "metadata": {
    "execution": {
     "iopub.execute_input": "2021-03-26T09:13:53.137084Z",
     "iopub.status.busy": "2021-03-26T09:13:53.136594Z",
     "iopub.status.idle": "2021-03-26T09:13:53.165888Z",
     "shell.execute_reply": "2021-03-26T09:13:53.164316Z"
    }
   },
   "outputs": [
    {
     "data": {
      "image/svg+xml": [
       "<?xml version=\"1.0\" encoding=\"UTF-8\" standalone=\"no\"?><svg xmlns=\"http://www.w3.org/2000/svg\" xmlns:xlink=\"http://www.w3.org/1999/xlink\" contentScriptType=\"application/ecmascript\" contentStyleType=\"text/css\" height=\"241px\" preserveAspectRatio=\"none\" style=\"width:534px;height:241px;\" version=\"1.1\" viewBox=\"0 0 534 241\" width=\"534px\" zoomAndPan=\"magnify\"><defs/><g><!--MD5=[fbc87193dbaf4d95561dea2c320d4a47]\n",
       "cluster E1--><a href=\"psysml:409d967c-2b55-4985-b068-ed253d96c58c\" target=\"_top\" title=\"psysml:409d967c-2b55-4985-b068-ed253d96c58c\" xlink:actuate=\"onRequest\" xlink:href=\"psysml:409d967c-2b55-4985-b068-ed253d96c58c\" xlink:show=\"new\" xlink:title=\"psysml:409d967c-2b55-4985-b068-ed253d96c58c\" xlink:type=\"simple\"><rect fill=\"#FFFFFF\" height=\"223\" id=\"E1\" style=\"stroke: #383838; stroke-width: 1.5;\" width=\"515\" x=\"7\" y=\"7\"/><rect fill=\"#F8F8F8\" height=\"37.9375\" style=\"stroke: #383838; stroke-width: 1.5;\" width=\"515\" x=\"7\" y=\"7\"/><text fill=\"#000000\" font-family=\"sans-serif\" font-size=\"12\" font-style=\"italic\" lengthAdjust=\"spacingAndGlyphs\" textLength=\"71\" x=\"229\" y=\"23.1387\">«state def»</text><text fill=\"#000000\" font-family=\"sans-serif\" font-size=\"12\" lengthAdjust=\"spacingAndGlyphs\" textLength=\"8\" x=\"260.5\" y=\"37.1074\">S</text><line style=\"stroke: #383838; stroke-width: 1.0;\" x1=\"7\" x2=\"522\" y1=\"90.8438\" y2=\"90.8438\"/><text fill=\"#000000\" font-family=\"sans-serif\" font-size=\"12\" font-weight=\"bold\" lengthAdjust=\"spacingAndGlyphs\" textLength=\"38\" x=\"12\" y=\"58.0762\">entry</text><text fill=\"#000000\" font-family=\"sans-serif\" font-size=\"12\" lengthAdjust=\"spacingAndGlyphs\" textLength=\"16\" x=\"50\" y=\"58.0762\">/ A</text><text fill=\"#000000\" font-family=\"sans-serif\" font-size=\"12\" font-weight=\"bold\" lengthAdjust=\"spacingAndGlyphs\" textLength=\"18\" x=\"12\" y=\"72.0449\">do</text><text fill=\"#000000\" font-family=\"sans-serif\" font-size=\"12\" lengthAdjust=\"spacingAndGlyphs\" textLength=\"16\" x=\"30\" y=\"72.0449\">/ B</text><text fill=\"#000000\" font-family=\"sans-serif\" font-size=\"12\" font-weight=\"bold\" lengthAdjust=\"spacingAndGlyphs\" textLength=\"26\" x=\"12\" y=\"86.0137\">exit</text><text fill=\"#000000\" font-family=\"sans-serif\" font-size=\"12\" lengthAdjust=\"spacingAndGlyphs\" textLength=\"28\" x=\"38\" y=\"86.0137\">/ act</text></a><ellipse cx=\"33\" cy=\"152\" fill=\"#000000\" rx=\"10\" ry=\"10\" style=\"stroke: none; stroke-width: 1.0;\"/><ellipse cx=\"496\" cy=\"154\" fill=\"none\" rx=\"10\" ry=\"10\" style=\"stroke: #000000; stroke-width: 1.0;\"/><ellipse cx=\"496.5\" cy=\"154.5\" fill=\"#000000\" rx=\"6\" ry=\"6\" style=\"stroke: none; stroke-width: 1.0;\"/><g id=\"E1.E2\"><a href=\"psysml:5ea02985-bc8b-4cb1-bb08-c3caa7c881e0\" target=\"_top\" title=\"psysml:5ea02985-bc8b-4cb1-bb08-c3caa7c881e0\" xlink:actuate=\"onRequest\" xlink:href=\"psysml:5ea02985-bc8b-4cb1-bb08-c3caa7c881e0\" xlink:show=\"new\" xlink:title=\"psysml:5ea02985-bc8b-4cb1-bb08-c3caa7c881e0\" xlink:type=\"simple\"><rect fill=\"#FFFFFF\" height=\"40\" id=\"E2\" rx=\"10\" ry=\"10\" style=\"stroke: #383838; stroke-width: 1.5;\" width=\"50\" x=\"104\" y=\"132\"/><rect fill=\"#F8F8F8\" height=\"23.9688\" rx=\"10\" ry=\"10\" style=\"stroke: #F8F8F8; stroke-width: 1.5;\" width=\"50\" x=\"104\" y=\"132\"/><rect fill=\"#F8F8F8\" height=\"10\" style=\"stroke: #F8F8F8; stroke-width: 1.5;\" width=\"50\" x=\"104\" y=\"145.9688\"/><rect fill=\"none\" height=\"40\" id=\"E2\" rx=\"10\" ry=\"10\" style=\"stroke: #383838; stroke-width: 1.5;\" width=\"50\" x=\"104\" y=\"132\"/><text fill=\"#000000\" font-family=\"sans-serif\" font-size=\"12\" lengthAdjust=\"spacingAndGlyphs\" textLength=\"16\" x=\"121\" y=\"148.1387\">S1</text></a></g><g id=\"E1.E3\"><a href=\"psysml:15193c6f-79c7-4ee2-a2ac-bfb559b7d876\" target=\"_top\" title=\"psysml:15193c6f-79c7-4ee2-a2ac-bfb559b7d876\" xlink:actuate=\"onRequest\" xlink:href=\"psysml:15193c6f-79c7-4ee2-a2ac-bfb559b7d876\" xlink:show=\"new\" xlink:title=\"psysml:15193c6f-79c7-4ee2-a2ac-bfb559b7d876\" xlink:type=\"simple\"><rect fill=\"#FFFFFF\" height=\"47.9375\" id=\"E3\" rx=\"10\" ry=\"10\" style=\"stroke: #383838; stroke-width: 1.5;\" width=\"50\" x=\"351\" y=\"130\"/><rect fill=\"#F8F8F8\" height=\"23.9688\" rx=\"10\" ry=\"10\" style=\"stroke: #F8F8F8; stroke-width: 1.5;\" width=\"50\" x=\"351\" y=\"130\"/><rect fill=\"#F8F8F8\" height=\"10\" style=\"stroke: #F8F8F8; stroke-width: 1.5;\" width=\"50\" x=\"351\" y=\"143.9688\"/><rect fill=\"none\" height=\"47.9375\" id=\"E3\" rx=\"10\" ry=\"10\" style=\"stroke: #383838; stroke-width: 1.5;\" width=\"50\" x=\"351\" y=\"130\"/><text fill=\"#000000\" font-family=\"sans-serif\" font-size=\"12\" lengthAdjust=\"spacingAndGlyphs\" textLength=\"16\" x=\"368\" y=\"146.1387\">S2</text><line style=\"stroke: #383838; stroke-width: 1.0;\" x1=\"351\" x2=\"401\" y1=\"153.9688\" y2=\"153.9688\"/><text fill=\"#000000\" font-family=\"sans-serif\" font-size=\"12\" font-weight=\"bold\" lengthAdjust=\"spacingAndGlyphs\" textLength=\"18\" x=\"356\" y=\"167.1074\">do</text><text fill=\"#000000\" font-family=\"sans-serif\" font-size=\"12\" lengthAdjust=\"spacingAndGlyphs\" textLength=\"4\" x=\"374\" y=\"167.1074\">/</text></a></g><!--MD5=[cff944eb183b832d446717a4e202d613]\n",
       "link *start*E1 to E2--><a href=\"psysml:50e6b136-bb64-4da5-b9f3-893462631a2b\" target=\"_top\" title=\"psysml:50e6b136-bb64-4da5-b9f3-893462631a2b\" xlink:actuate=\"onRequest\" xlink:href=\"psysml:50e6b136-bb64-4da5-b9f3-893462631a2b\" xlink:show=\"new\" xlink:title=\"psysml:50e6b136-bb64-4da5-b9f3-893462631a2b\" xlink:type=\"simple\"><path d=\"M43.01,152 C55.7,152 79.41,152 98.57,152 \" fill=\"none\" id=\"*start*E1-&gt;E2\" style=\"stroke: #383838; stroke-width: 1.0;\"/><polygon fill=\"#383838\" points=\"103.84,152,94.84,148,98.84,152,94.84,156,103.84,152\" style=\"stroke: #383838; stroke-width: 1.0;\"/></a><!--MD5=[9ee7afa76ca8c509b3d216624c3a9893]\n",
       "link E3 to *end*E1--><a href=\"psysml:400438d1-4a79-4175-ae6b-80e92b548ca9\" target=\"_top\" title=\"psysml:400438d1-4a79-4175-ae6b-80e92b548ca9\" xlink:actuate=\"onRequest\" xlink:href=\"psysml:400438d1-4a79-4175-ae6b-80e92b548ca9\" xlink:show=\"new\" xlink:title=\"psysml:400438d1-4a79-4175-ae6b-80e92b548ca9\" xlink:type=\"simple\"><path d=\"M401.16,154 C425.08,154 460.89,154 480.64,154 \" fill=\"none\" id=\"E3-&gt;*end*E1\" style=\"stroke: #383838; stroke-width: 1.0;\"/><polygon fill=\"#383838\" points=\"485.76,154,476.76,150,480.76,154,476.76,158,485.76,154\" style=\"stroke: #383838; stroke-width: 1.0;\"/><text fill=\"#000000\" font-family=\"sans-serif\" font-size=\"13\" lengthAdjust=\"spacingAndGlyphs\" textLength=\"23\" x=\"432\" y=\"150.0669\">Exit</text></a><!--MD5=[2720a5a1f2c3fca2055b230370638851]\n",
       "link E2 to E3--><a href=\"psysml:516b9b87-0f3c-4a45-97aa-978805331ddd\" target=\"_top\" title=\"psysml:516b9b87-0f3c-4a45-97aa-978805331ddd\" xlink:actuate=\"onRequest\" xlink:href=\"psysml:516b9b87-0f3c-4a45-97aa-978805331ddd\" xlink:show=\"new\" xlink:title=\"psysml:516b9b87-0f3c-4a45-97aa-978805331ddd\" xlink:type=\"simple\"><path d=\"M154.15,168.85 C163.11,174.14 173.62,179.31 184,182 C242.94,197.27 261.84,196.42 321,182 C329.58,179.91 338.32,176.19 346.2,172.14 \" fill=\"none\" id=\"E2-&gt;E3\" style=\"stroke: #383838; stroke-width: 1.0;\"/><polygon fill=\"#383838\" points=\"350.98,169.59,341.156,170.2893,346.5666,171.94,344.9159,177.3506,350.98,169.59\" style=\"stroke: #383838; stroke-width: 1.0;\"/><text fill=\"#000000\" font-family=\"sans-serif\" font-size=\"13\" lengthAdjust=\"spacingAndGlyphs\" textLength=\"81\" x=\"212\" y=\"178.0669\">Sig /action D</text></a><!--MD5=[05d275557350bfb9b23a4ef7222b4c39]\n",
       "link E3 to E2--><a href=\"psysml:0976314e-a9f7-4444-bafa-f8883db64fa0\" target=\"_top\" title=\"psysml:0976314e-a9f7-4444-bafa-f8883db64fa0\" xlink:actuate=\"onRequest\" xlink:href=\"psysml:0976314e-a9f7-4444-bafa-f8883db64fa0\" xlink:show=\"new\" xlink:title=\"psysml:0976314e-a9f7-4444-bafa-f8883db64fa0\" xlink:type=\"simple\"><path d=\"M350.71,153.8 C305.48,153.43 208.49,152.64 159.54,152.24 \" fill=\"none\" id=\"E3-&gt;E2\" style=\"stroke: #383838; stroke-width: 1.0;\"/><polygon fill=\"#383838\" points=\"154.39,152.2,163.3554,156.277,159.3898,152.2429,163.424,148.2773,154.39,152.2\" style=\"stroke: #383838; stroke-width: 1.0;\"/><text fill=\"#000000\" font-family=\"sans-serif\" font-size=\"13\" lengthAdjust=\"spacingAndGlyphs\" textLength=\"135\" x=\"185\" y=\"149.0669\">Sig [true]/send s to p</text></a><!--MD5=[389fc9475b879bb14172e71c5fb89197]\n",
       "@startuml\r\n",
       "left to right direction\r\n",
       "skinparam monochrome true\r\n",
       "skinparam classbackgroundcolor white\r\n",
       "skinparam shadowing false\r\n",
       "skinparam wrapWidth 300\r\n",
       "hide circle\r\n",
       "\r\n",
       "rec def \"S\" as E1  <<(T,blue)state def>> [[psysml:409d967c-2b55-4985-b068-ed253d96c58c ]] {\r\n",
       "rec usage \"S1\" as E2 [[psysml:5ea02985-bc8b-4cb1-bb08-c3caa7c881e0 ]] {\r\n",
       "}\r\n",
       "\r\n",
       "rec usage \"S2\" as E3 [[psysml:15193c6f-79c7-4ee2-a2ac-bfb559b7d876 ]] {\r\n",
       "desc \"S2\" as E3  : **do**/ \r\n",
       "}\r\n",
       "\r\n",
       "[*] - -> E2 [[psysml:50e6b136-bb64-4da5-b9f3-893462631a2b ]] \r\n",
       "E3  - -> [*] [[psysml:400438d1-4a79-4175-ae6b-80e92b548ca9 ]] : Exit \r\n",
       "desc \"S\" as E1  : **entry**/ A\r\n",
       "desc \"S\" as E1  : **do**/ B\r\n",
       "desc \"S\" as E1  : **exit**/ act \r\n",
       "}\r\n",
       "\r\n",
       "E2  - -> E3 [[psysml:516b9b87-0f3c-4a45-97aa-978805331ddd ]] : Sig /action D\r\n",
       "E3  - -> E2 [[psysml:0976314e-a9f7-4444-bafa-f8883db64fa0 ]] : Sig [true]/send s to p\r\n",
       "@enduml\r\n",
       "\n",
       "PlantUML version 1.2020.13(Sat Jun 13 12:26:38 UTC 2020)\n",
       "(EPL source distribution)\n",
       "Java Runtime: OpenJDK Runtime Environment\n",
       "JVM: OpenJDK 64-Bit Server VM\n",
       "Default Encoding: UTF-8\n",
       "Language: en\n",
       "Country: null\n",
       "--></g></svg>"
      ]
     },
     "execution_count": 18,
     "metadata": {},
     "output_type": "execute_result"
    }
   ],
   "source": [
    "%viz --style=\"LR\" --view=\"State\" \"StateTest\""
   ]
  },
  {
   "cell_type": "code",
   "execution_count": 19,
   "id": "healthy-stadium",
   "metadata": {
    "execution": {
     "iopub.execute_input": "2021-03-26T09:13:53.216728Z",
     "iopub.status.busy": "2021-03-26T09:13:53.216224Z",
     "iopub.status.idle": "2021-03-26T09:13:53.240756Z",
     "shell.execute_reply": "2021-03-26T09:13:53.239447Z"
    }
   },
   "outputs": [
    {
     "data": {
      "image/svg+xml": [
       "<?xml version=\"1.0\" encoding=\"UTF-8\" standalone=\"no\"?><svg xmlns=\"http://www.w3.org/2000/svg\" xmlns:xlink=\"http://www.w3.org/1999/xlink\" contentScriptType=\"application/ecmascript\" contentStyleType=\"text/css\" height=\"455px\" preserveAspectRatio=\"none\" style=\"width:213px;height:455px;\" version=\"1.1\" viewBox=\"0 0 213 455\" width=\"213px\" zoomAndPan=\"magnify\"><defs/><g><!--MD5=[fbc87193dbaf4d95561dea2c320d4a47]\n",
       "cluster E1--><a href=\"psysml:9c548ee6-d869-4820-b951-32f5a4e72165\" target=\"_top\" title=\"psysml:9c548ee6-d869-4820-b951-32f5a4e72165\" xlink:actuate=\"onRequest\" xlink:href=\"psysml:9c548ee6-d869-4820-b951-32f5a4e72165\" xlink:show=\"new\" xlink:title=\"psysml:9c548ee6-d869-4820-b951-32f5a4e72165\" xlink:type=\"simple\"><polygon fill=\"#FFFFFF\" points=\"16,6,98,6,105,28.2969,191,28.2969,191,443,16,443,16,6\" style=\"stroke: #000000; stroke-width: 1.5;\"/><line style=\"stroke: #000000; stroke-width: 1.5;\" x1=\"16\" x2=\"105\" y1=\"28.2969\" y2=\"28.2969\"/><text fill=\"#000000\" font-family=\"sans-serif\" font-size=\"14\" font-weight=\"bold\" lengthAdjust=\"spacingAndGlyphs\" textLength=\"76\" x=\"20\" y=\"20.9951\">StateTest</text></a><!--MD5=[b4997ac47864f28c2f74865a473b2911]\n",
       "class E2--><a href=\"psysml:7a2ca9b4-3a97-4e8a-92f8-a9f50dc832cb\" target=\"_top\" title=\"psysml:7a2ca9b4-3a97-4e8a-92f8-a9f50dc832cb\" xlink:actuate=\"onRequest\" xlink:href=\"psysml:7a2ca9b4-3a97-4e8a-92f8-a9f50dc832cb\" xlink:show=\"new\" xlink:title=\"psysml:7a2ca9b4-3a97-4e8a-92f8-a9f50dc832cb\" xlink:type=\"simple\"><rect fill=\"#FFFFFF\" height=\"53.9375\" id=\"E2\" style=\"stroke: #383838; stroke-width: 1.5;\" width=\"143\" x=\"32\" y=\"41\"/><text fill=\"#000000\" font-family=\"sans-serif\" font-size=\"12\" font-style=\"italic\" lengthAdjust=\"spacingAndGlyphs\" textLength=\"141\" x=\"33\" y=\"57.1387\">«(T,blue)attribute def»</text><text fill=\"#000000\" font-family=\"sans-serif\" font-size=\"12\" lengthAdjust=\"spacingAndGlyphs\" textLength=\"19\" x=\"94\" y=\"71.1074\">Sig</text><line style=\"stroke: #383838; stroke-width: 1.5;\" x1=\"33\" x2=\"174\" y1=\"78.9375\" y2=\"78.9375\"/><line style=\"stroke: #383838; stroke-width: 1.5;\" x1=\"33\" x2=\"174\" y1=\"86.9375\" y2=\"86.9375\"/></a><!--MD5=[09b614a08d8cba4a07c9adeb5e0fee81]\n",
       "class E3--><a href=\"psysml:30361623-caf7-482c-9813-174242dd8f3c\" target=\"_top\" title=\"psysml:30361623-caf7-482c-9813-174242dd8f3c\" xlink:actuate=\"onRequest\" xlink:href=\"psysml:30361623-caf7-482c-9813-174242dd8f3c\" xlink:show=\"new\" xlink:title=\"psysml:30361623-caf7-482c-9813-174242dd8f3c\" xlink:type=\"simple\"><rect fill=\"#FFFFFF\" height=\"53.9375\" id=\"E3\" style=\"stroke: #383838; stroke-width: 1.5;\" width=\"143\" x=\"32\" y=\"130\"/><text fill=\"#000000\" font-family=\"sans-serif\" font-size=\"12\" font-style=\"italic\" lengthAdjust=\"spacingAndGlyphs\" textLength=\"141\" x=\"33\" y=\"146.1387\">«(T,blue)attribute def»</text><text fill=\"#000000\" font-family=\"sans-serif\" font-size=\"12\" lengthAdjust=\"spacingAndGlyphs\" textLength=\"22\" x=\"92.5\" y=\"160.1074\">Exit</text><line style=\"stroke: #383838; stroke-width: 1.5;\" x1=\"33\" x2=\"174\" y1=\"167.9375\" y2=\"167.9375\"/><line style=\"stroke: #383838; stroke-width: 1.5;\" x1=\"33\" x2=\"174\" y1=\"175.9375\" y2=\"175.9375\"/></a><!--MD5=[60a26617385b1d2d0262a64233df1f8d]\n",
       "class E6--><a href=\"psysml:409d967c-2b55-4985-b068-ed253d96c58c\" target=\"_top\" title=\"psysml:409d967c-2b55-4985-b068-ed253d96c58c\" xlink:actuate=\"onRequest\" xlink:href=\"psysml:409d967c-2b55-4985-b068-ed253d96c58c\" xlink:show=\"new\" xlink:title=\"psysml:409d967c-2b55-4985-b068-ed253d96c58c\" xlink:type=\"simple\"><rect fill=\"#FFFFFF\" height=\"53.9375\" id=\"E6\" style=\"stroke: #383838; stroke-width: 1.5;\" width=\"121\" x=\"43\" y=\"219\"/><text fill=\"#000000\" font-family=\"sans-serif\" font-size=\"12\" font-style=\"italic\" lengthAdjust=\"spacingAndGlyphs\" textLength=\"119\" x=\"44\" y=\"235.1387\">«(T,blue)state def»</text><text fill=\"#000000\" font-family=\"sans-serif\" font-size=\"12\" lengthAdjust=\"spacingAndGlyphs\" textLength=\"8\" x=\"99.5\" y=\"249.1074\">S</text><line style=\"stroke: #383838; stroke-width: 1.5;\" x1=\"44\" x2=\"163\" y1=\"256.9375\" y2=\"256.9375\"/><line style=\"stroke: #383838; stroke-width: 1.5;\" x1=\"44\" x2=\"163\" y1=\"264.9375\" y2=\"264.9375\"/></a><g id=\"E1.E4\"><a href=\"psysml:86d86843-d597-4d6e-917a-885d695bc43d\" target=\"_top\" title=\"psysml:86d86843-d597-4d6e-917a-885d695bc43d\" xlink:actuate=\"onRequest\" xlink:href=\"psysml:86d86843-d597-4d6e-917a-885d695bc43d\" xlink:show=\"new\" xlink:title=\"psysml:86d86843-d597-4d6e-917a-885d695bc43d\" xlink:type=\"simple\"><rect fill=\"#FFFFFF\" height=\"40\" id=\"E4\" rx=\"10\" ry=\"10\" style=\"stroke: #383838; stroke-width: 1.5;\" width=\"50\" x=\"78.5\" y=\"308\"/><rect fill=\"#F8F8F8\" height=\"23.9688\" rx=\"10\" ry=\"10\" style=\"stroke: #F8F8F8; stroke-width: 1.5;\" width=\"50\" x=\"78.5\" y=\"308\"/><rect fill=\"#F8F8F8\" height=\"10\" style=\"stroke: #F8F8F8; stroke-width: 1.5;\" width=\"50\" x=\"78.5\" y=\"321.9688\"/><rect fill=\"none\" height=\"40\" id=\"E4\" rx=\"10\" ry=\"10\" style=\"stroke: #383838; stroke-width: 1.5;\" width=\"50\" x=\"78.5\" y=\"308\"/><text fill=\"#000000\" font-family=\"sans-serif\" font-size=\"12\" lengthAdjust=\"spacingAndGlyphs\" textLength=\"8\" x=\"99.5\" y=\"324.1387\">p</text></a></g><g id=\"E1.E5\"><a href=\"psysml:6cb3785d-90e3-4021-b607-f0ab9874924c\" target=\"_top\" title=\"psysml:6cb3785d-90e3-4021-b607-f0ab9874924c\" xlink:actuate=\"onRequest\" xlink:href=\"psysml:6cb3785d-90e3-4021-b607-f0ab9874924c\" xlink:show=\"new\" xlink:title=\"psysml:6cb3785d-90e3-4021-b607-f0ab9874924c\" xlink:type=\"simple\"><rect fill=\"#FFFFFF\" height=\"42.9375\" id=\"E5\" rx=\"10\" ry=\"10\" style=\"stroke: #383838; stroke-width: 1.5;\" width=\"60\" x=\"73.5\" y=\"383.5\"/><rect fill=\"#F8F8F8\" height=\"37.9375\" rx=\"10\" ry=\"10\" style=\"stroke: #F8F8F8; stroke-width: 1.5;\" width=\"60\" x=\"73.5\" y=\"383.5\"/><rect fill=\"#F8F8F8\" height=\"10\" style=\"stroke: #F8F8F8; stroke-width: 1.5;\" width=\"60\" x=\"73.5\" y=\"411.4375\"/><rect fill=\"none\" height=\"42.9375\" id=\"E5\" rx=\"10\" ry=\"10\" style=\"stroke: #383838; stroke-width: 1.5;\" width=\"60\" x=\"73.5\" y=\"383.5\"/><text fill=\"#000000\" font-family=\"sans-serif\" font-size=\"12\" font-style=\"italic\" lengthAdjust=\"spacingAndGlyphs\" textLength=\"53\" x=\"77\" y=\"399.6387\">«action»</text><text fill=\"#000000\" font-family=\"sans-serif\" font-size=\"12\" lengthAdjust=\"spacingAndGlyphs\" textLength=\"20\" x=\"93.5\" y=\"413.6074\">act</text></a></g><!--MD5=[5eb48a3fc5dfb3f428bf50d597a80a52]\n",
       "@startuml\r\n",
       "skinparam ranksep 8\r\n",
       "skinparam rectangle {\r\n",
       " backgroundColor<<block>> LightGreen\r\n",
       "}\r\n",
       "left to right direction\r\n",
       "skinparam monochrome true\r\n",
       "skinparam classbackgroundcolor white\r\n",
       "skinparam shadowing false\r\n",
       "skinparam wrapWidth 300\r\n",
       "hide circle\r\n",
       "\r\n",
       "package \"StateTest\" as E1  [[psysml:9c548ee6-d869-4820-b951-32f5a4e72165 ]]  {\r\n",
       "def \"Sig\" as E2  <<(T,blue)attribute def>> [[psysml:7a2ca9b4-3a97-4e8a-92f8-a9f50dc832cb ]] \r\n",
       "def \"Exit\" as E3  <<(T,blue)attribute def>> [[psysml:30361623-caf7-482c-9813-174242dd8f3c ]] \r\n",
       "rec usage \"p\" as E4  [[psysml:86d86843-d597-4d6e-917a-885d695bc43d ]] {\r\n",
       "}\r\n",
       "rec usage \"act\" as E5  <<(T,blue)action>> [[psysml:6cb3785d-90e3-4021-b607-f0ab9874924c ]] {\r\n",
       "}\r\n",
       "def \"S\" as E6  <<(T,blue)state def>> [[psysml:409d967c-2b55-4985-b068-ed253d96c58c ]] \r\n",
       "}\r\n",
       "@enduml\r\n",
       "\n",
       "PlantUML version 1.2020.13(Sat Jun 13 12:26:38 UTC 2020)\n",
       "(EPL source distribution)\n",
       "Java Runtime: OpenJDK Runtime Environment\n",
       "JVM: OpenJDK 64-Bit Server VM\n",
       "Default Encoding: UTF-8\n",
       "Language: en\n",
       "Country: null\n",
       "--></g></svg>"
      ]
     },
     "execution_count": 19,
     "metadata": {},
     "output_type": "execute_result"
    }
   ],
   "source": [
    "%viz --style=\"LR\" --view=\"Interconnection\" \"StateTest\""
   ]
  },
  {
   "cell_type": "code",
   "execution_count": 20,
   "id": "varied-cambridge",
   "metadata": {
    "execution": {
     "iopub.execute_input": "2021-03-26T09:13:53.292815Z",
     "iopub.status.busy": "2021-03-26T09:13:53.292122Z",
     "iopub.status.idle": "2021-03-26T09:13:53.317282Z",
     "shell.execute_reply": "2021-03-26T09:13:53.315609Z"
    }
   },
   "outputs": [
    {
     "data": {
      "image/svg+xml": [
       "<?xml version=\"1.0\" encoding=\"UTF-8\" standalone=\"no\"?><svg xmlns=\"http://www.w3.org/2000/svg\" xmlns:xlink=\"http://www.w3.org/1999/xlink\" contentScriptType=\"application/ecmascript\" contentStyleType=\"text/css\" height=\"595px\" preserveAspectRatio=\"none\" style=\"width:794px;height:595px;background:#000000;\" version=\"1.1\" viewBox=\"0 0 794 595\" width=\"794px\" zoomAndPan=\"magnify\"><defs/><g><rect fill=\"#201E20\" height=\"1\" style=\"stroke: #201E20; stroke-width: 1.0;\" width=\"1\" x=\"0\" y=\"0\"/><rect fill=\"#FFFFFF\" height=\"53\" style=\"stroke: #FFFFFF; stroke-width: 1.0;\" width=\"793\" x=\"0\" y=\"0\"/><image height=\"53\" width=\"450\" x=\"1\" xlink:href=\"data:image/png;base64,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\" y=\"1\"/><rect fill=\"#000000\" height=\"487.6094\" style=\"stroke: #000000; stroke-width: 1.0;\" width=\"793\" x=\"0\" y=\"53\"/><rect fill=\"#33FF02\" height=\"21.2969\" style=\"stroke: #33FF02; stroke-width: 1.0;\" width=\"783\" x=\"5\" y=\"58\"/><text fill=\"#000000\" font-family=\"sans-serif\" font-size=\"14\" font-weight=\"bold\" lengthAdjust=\"spacingAndGlyphs\" textLength=\"178\" x=\"6\" y=\"73\">[From string (line 26) ]</text><text fill=\"#33FF02\" font-family=\"sans-serif\" font-size=\"14\" font-weight=\"bold\" lengthAdjust=\"spacingAndGlyphs\" textLength=\"0\" x=\"10\" y=\"93.2969\"/><text fill=\"#33FF02\" font-family=\"sans-serif\" font-size=\"14\" font-weight=\"bold\" lengthAdjust=\"spacingAndGlyphs\" textLength=\"79\" x=\"5\" y=\"109.5938\">@startuml</text><text fill=\"#33FF02\" font-family=\"sans-serif\" font-size=\"14\" font-weight=\"bold\" lengthAdjust=\"spacingAndGlyphs\" textLength=\"165\" x=\"5\" y=\"125.8906\">skinparam ranksep 8</text><text fill=\"#33FF02\" font-family=\"sans-serif\" font-size=\"14\" font-weight=\"bold\" lengthAdjust=\"spacingAndGlyphs\" textLength=\"164\" x=\"5\" y=\"142.1875\">left to right direction</text><text fill=\"#33FF02\" font-family=\"sans-serif\" font-size=\"14\" font-weight=\"bold\" lengthAdjust=\"spacingAndGlyphs\" textLength=\"228\" x=\"5\" y=\"158.4844\">skinparam monochrome true</text><text fill=\"#33FF02\" font-family=\"sans-serif\" font-size=\"14\" font-weight=\"bold\" lengthAdjust=\"spacingAndGlyphs\" textLength=\"309\" x=\"5\" y=\"174.7813\">skinparam classbackgroundcolor white</text><text fill=\"#33FF02\" font-family=\"sans-serif\" font-size=\"14\" font-weight=\"bold\" lengthAdjust=\"spacingAndGlyphs\" textLength=\"215\" x=\"5\" y=\"191.0781\">skinparam shadowing false</text><text fill=\"#33FF02\" font-family=\"sans-serif\" font-size=\"14\" font-weight=\"bold\" lengthAdjust=\"spacingAndGlyphs\" textLength=\"206\" x=\"5\" y=\"207.375\">skinparam wrapWidth 300</text><text fill=\"#33FF02\" font-family=\"sans-serif\" font-size=\"14\" font-weight=\"bold\" lengthAdjust=\"spacingAndGlyphs\" textLength=\"82\" x=\"5\" y=\"223.6719\">hide circle</text><text fill=\"#33FF02\" font-family=\"sans-serif\" font-size=\"14\" font-weight=\"bold\" lengthAdjust=\"spacingAndGlyphs\" textLength=\"0\" x=\"10\" y=\"239.9688\"/><text fill=\"#33FF02\" font-family=\"sans-serif\" font-size=\"14\" font-weight=\"bold\" lengthAdjust=\"spacingAndGlyphs\" textLength=\"783\" x=\"5\" y=\"256.2656\">rec usage \"act\" as E1  &lt;&lt;(T,blue)action&gt;&gt; [[psysml:6cb3785d-90e3-4021-b607-f0ab9874924c ]] {</text><text fill=\"#33FF02\" font-family=\"sans-serif\" font-size=\"14\" font-weight=\"bold\" lengthAdjust=\"spacingAndGlyphs\" textLength=\"10\" x=\"5\" y=\"272.5625\">}</text><text fill=\"#33FF02\" font-family=\"sans-serif\" font-size=\"14\" font-weight=\"bold\" lengthAdjust=\"spacingAndGlyphs\" textLength=\"0\" x=\"10\" y=\"288.8594\"/><text fill=\"#33FF02\" font-family=\"sans-serif\" font-size=\"14\" font-weight=\"bold\" lengthAdjust=\"spacingAndGlyphs\" textLength=\"774\" x=\"5\" y=\"305.1563\">rec def \"S\" as E2  &lt;&lt;(T,blue)state def&gt;&gt; [[psysml:409d967c-2b55-4985-b068-ed253d96c58c ]] {</text><text fill=\"#33FF02\" font-family=\"sans-serif\" font-size=\"14\" font-weight=\"bold\" lengthAdjust=\"spacingAndGlyphs\" textLength=\"779\" x=\"5\" y=\"321.4531\">rec usage \"A\" as E3 &lt;&lt;perform action&gt;&gt; [[psysml:07283d54-b2b4-4955-9e37-5e3a59051776 ]] {</text><text fill=\"#33FF02\" font-family=\"sans-serif\" font-size=\"14\" font-weight=\"bold\" lengthAdjust=\"spacingAndGlyphs\" textLength=\"10\" x=\"5\" y=\"337.75\">}</text><text fill=\"#33FF02\" font-family=\"sans-serif\" font-size=\"14\" font-weight=\"bold\" lengthAdjust=\"spacingAndGlyphs\" textLength=\"0\" x=\"10\" y=\"354.0469\"/><text fill=\"#33FF02\" font-family=\"sans-serif\" font-size=\"14\" font-weight=\"bold\" lengthAdjust=\"spacingAndGlyphs\" textLength=\"769\" x=\"5\" y=\"370.3438\">rec usage \"B\" as E4 &lt;&lt;perform action&gt;&gt; [[psysml:2d4c422d-af2d-4b90-a848-9846cea61c20 ]] {</text><text fill=\"#33FF02\" font-family=\"sans-serif\" font-size=\"14\" font-weight=\"bold\" lengthAdjust=\"spacingAndGlyphs\" textLength=\"10\" x=\"5\" y=\"386.6406\">}</text><text fill=\"#33FF02\" font-family=\"sans-serif\" font-size=\"14\" font-weight=\"bold\" lengthAdjust=\"spacingAndGlyphs\" textLength=\"0\" x=\"10\" y=\"402.9375\"/><text fill=\"#33FF02\" font-family=\"sans-serif\" font-size=\"14\" font-weight=\"bold\" lengthAdjust=\"spacingAndGlyphs\" textLength=\"769\" x=\"5\" y=\"419.2344\">rec usage \"act\" as E5 &lt;&lt;perform action&gt;&gt; [[psysml:eca97873-f4f2-4a4b-84f1-fbd6bb9f01a4 ]] {</text><text fill=\"#33FF02\" font-family=\"sans-serif\" font-size=\"14\" font-weight=\"bold\" lengthAdjust=\"spacingAndGlyphs\" textLength=\"10\" x=\"5\" y=\"435.5313\">}</text><text fill=\"#33FF02\" font-family=\"sans-serif\" font-size=\"14\" font-weight=\"bold\" lengthAdjust=\"spacingAndGlyphs\" textLength=\"0\" x=\"10\" y=\"451.8281\"/><text fill=\"#33FF02\" font-family=\"sans-serif\" font-size=\"14\" font-weight=\"bold\" lengthAdjust=\"spacingAndGlyphs\" textLength=\"770\" x=\"5\" y=\"468.125\">rec usage \"S1\" as E6  &lt;&lt;(T,blue)state&gt;&gt; [[psysml:5ea02985-bc8b-4cb1-bb08-c3caa7c881e0 ]] {</text><text fill=\"#33FF02\" font-family=\"sans-serif\" font-size=\"14\" font-weight=\"bold\" lengthAdjust=\"spacingAndGlyphs\" textLength=\"10\" x=\"5\" y=\"484.4219\">}</text><text fill=\"#33FF02\" font-family=\"sans-serif\" font-size=\"14\" font-weight=\"bold\" lengthAdjust=\"spacingAndGlyphs\" textLength=\"0\" x=\"10\" y=\"500.7188\"/><text fill=\"#33FF02\" font-family=\"sans-serif\" font-size=\"14\" font-weight=\"bold\" lengthAdjust=\"spacingAndGlyphs\" textLength=\"10\" x=\"5\" y=\"517.0156\">{</text><text fill=\"#FF0000\" font-family=\"sans-serif\" font-size=\"14\" font-weight=\"bold\" lengthAdjust=\"spacingAndGlyphs\" textLength=\"106\" x=\"10\" y=\"533.3125\">Syntax Error?</text><rect fill=\"#FFFFFF\" height=\"53\" style=\"stroke: #FFFFFF; stroke-width: 1.0;\" width=\"793\" x=\"0\" y=\"540.6094\"/><image height=\"53\" width=\"450\" x=\"1\" xlink:href=\"data:image/png;base64,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\" y=\"541.6094\"/><!--MD5=[cdf5e54c3ff34f332f788d62b84ee4b1]\n",
       "@startuml\r\n",
       "skinparam ranksep 8\r\n",
       "left to right direction\r\n",
       "skinparam monochrome true\r\n",
       "skinparam classbackgroundcolor white\r\n",
       "skinparam shadowing false\r\n",
       "skinparam wrapWidth 300\r\n",
       "hide circle\r\n",
       "\r\n",
       "rec usage \"act\" as E1  <<(T,blue)action>> [[psysml:6cb3785d-90e3-4021-b607-f0ab9874924c ]] {\r\n",
       "}\r\n",
       "\r\n",
       "rec def \"S\" as E2  <<(T,blue)state def>> [[psysml:409d967c-2b55-4985-b068-ed253d96c58c ]] {\r\n",
       "rec usage \"A\" as E3 <<perform action>> [[psysml:07283d54-b2b4-4955-9e37-5e3a59051776 ]] {\r\n",
       "}\r\n",
       "\r\n",
       "rec usage \"B\" as E4 <<perform action>> [[psysml:2d4c422d-af2d-4b90-a848-9846cea61c20 ]] {\r\n",
       "}\r\n",
       "\r\n",
       "rec usage \"act\" as E5 <<perform action>> [[psysml:eca97873-f4f2-4a4b-84f1-fbd6bb9f01a4 ]] {\r\n",
       "}\r\n",
       "\r\n",
       "rec usage \"S1\" as E6  <<(T,blue)state>> [[psysml:5ea02985-bc8b-4cb1-bb08-c3caa7c881e0 ]] {\r\n",
       "}\r\n",
       "\r\n",
       "{\r\n",
       "{\r\n",
       "}\r\n",
       "\r\n",
       "rec usage \"D\" as E7 <<perform action>> [[psysml:eaf0a112-33b0-4093-95e1-7dab572fe2f4 ]] {\r\n",
       "}\r\n",
       "\r\n",
       "}\r\n",
       "\r\n",
       "rec usage \"S2\" as E8  <<(T,blue)state>> [[psysml:15193c6f-79c7-4ee2-a2ac-bfb559b7d876 ]] {\r\n",
       "rec usage \"doAction\" as E9 <<send action>> [[psysml:02a264b3-17c4-490c-b5b1-f49bb5aa02c2 ]] {\r\n",
       "portin \"$x\" as E10  [[psysml:96622066-d3a2-4541-bee3-ae5bc19ea7c3 ]] \r\n",
       "portout \"$result\" as E11  [[psysml:b808addd-9ba8-4500-978c-50cd1b025f8a ]] \r\n",
       "}\r\n",
       "\r\n",
       "}\r\n",
       "\r\n",
       "{\r\n",
       "{\r\n",
       "}\r\n",
       "\r\n",
       "}\r\n",
       "\r\n",
       "rec usage \"T\" as E12  <<(T,blue)transition>> [[psysml:0976314e-a9f7-4444-bafa-f8883db64fa0 ]] {\r\n",
       "rec usage \"S2\" as E13  <<(T,blue)state>> [[psysml:15193c6f-79c7-4ee2-a2ac-bfb559b7d876 ]] {\r\n",
       "rec usage \"doAction\" as E14 <<send action>> [[psysml:02a264b3-17c4-490c-b5b1-f49bb5aa02c2 ]] {\r\n",
       "portin \"$x\" as E15  [[psysml:96622066-d3a2-4541-bee3-ae5bc19ea7c3 ]] \r\n",
       "portout \"$result\" as E16  [[psysml:b808addd-9ba8-4500-978c-50cd1b025f8a ]] \r\n",
       "}\r\n",
       "\r\n",
       "}\r\n",
       "\r\n",
       "{\r\n",
       "}\r\n",
       "\r\n",
       "portout \"$result\" as E17  [[psysml:8f7ffd4e-8810-46d2-96d4-50dc0ef167c4 ]] \r\n",
       "{\r\n",
       "}\r\n",
       "\r\n",
       "}\r\n",
       "\r\n",
       "}\r\n",
       "\r\n",
       "@enduml\r\n",
       "\n",
       "PlantUML version 1.2020.13(Sat Jun 13 12:26:38 UTC 2020)\n",
       "(EPL source distribution)\n",
       "Java Runtime: OpenJDK Runtime Environment\n",
       "JVM: OpenJDK 64-Bit Server VM\n",
       "Default Encoding: UTF-8\n",
       "Language: en\n",
       "Country: null\n",
       "--></g></svg>"
      ]
     },
     "execution_count": 20,
     "metadata": {},
     "output_type": "execute_result"
    }
   ],
   "source": [
    "%viz --style=\"LR\" --view=\"Action\" \"StateTest\""
   ]
  },
  {
   "cell_type": "code",
   "execution_count": 21,
   "id": "expired-professional",
   "metadata": {
    "execution": {
     "iopub.execute_input": "2021-03-26T09:13:53.367254Z",
     "iopub.status.busy": "2021-03-26T09:13:53.366702Z",
     "iopub.status.idle": "2021-03-26T09:13:53.469642Z",
     "shell.execute_reply": "2021-03-26T09:13:53.468149Z"
    }
   },
   "outputs": [
    {
     "data": {
      "image/svg+xml": [
       "<?xml version=\"1.0\" encoding=\"UTF-8\" standalone=\"no\"?><svg xmlns=\"http://www.w3.org/2000/svg\" xmlns:xlink=\"http://www.w3.org/1999/xlink\" contentScriptType=\"application/ecmascript\" contentStyleType=\"text/css\" height=\"583px\" preserveAspectRatio=\"none\" style=\"width:424px;height:583px;\" version=\"1.1\" viewBox=\"0 0 424 583\" width=\"424px\" zoomAndPan=\"magnify\"><defs/><g><!--MD5=[fbc87193dbaf4d95561dea2c320d4a47]\n",
       "cluster E1--><a href=\"psysml:9c548ee6-d869-4820-b951-32f5a4e72165\" target=\"_top\" title=\"psysml:9c548ee6-d869-4820-b951-32f5a4e72165\" xlink:actuate=\"onRequest\" xlink:href=\"psysml:9c548ee6-d869-4820-b951-32f5a4e72165\" xlink:show=\"new\" xlink:title=\"psysml:9c548ee6-d869-4820-b951-32f5a4e72165\" xlink:type=\"simple\"><polygon fill=\"#FFFFFF\" points=\"16,6,98,6,105,28.2969,402,28.2969,402,571,16,571,16,6\" style=\"stroke: #000000; stroke-width: 1.5;\"/><line style=\"stroke: #000000; stroke-width: 1.5;\" x1=\"16\" x2=\"105\" y1=\"28.2969\" y2=\"28.2969\"/><text fill=\"#000000\" font-family=\"sans-serif\" font-size=\"14\" font-weight=\"bold\" lengthAdjust=\"spacingAndGlyphs\" textLength=\"76\" x=\"20\" y=\"20.9951\">StateTest</text></a><!--MD5=[b4997ac47864f28c2f74865a473b2911]\n",
       "class E2--><a href=\"psysml:7a2ca9b4-3a97-4e8a-92f8-a9f50dc832cb\" target=\"_top\" title=\"psysml:7a2ca9b4-3a97-4e8a-92f8-a9f50dc832cb\" xlink:actuate=\"onRequest\" xlink:href=\"psysml:7a2ca9b4-3a97-4e8a-92f8-a9f50dc832cb\" xlink:show=\"new\" xlink:title=\"psysml:7a2ca9b4-3a97-4e8a-92f8-a9f50dc832cb\" xlink:type=\"simple\"><rect fill=\"#FFFFFF\" height=\"75.5469\" id=\"E2\" style=\"stroke: #383838; stroke-width: 1.5;\" width=\"95\" x=\"32\" y=\"41\"/><text fill=\"#000000\" font-family=\"sans-serif\" font-size=\"12\" font-style=\"italic\" lengthAdjust=\"spacingAndGlyphs\" textLength=\"93\" x=\"33\" y=\"57.1387\">«attribute def»</text><text fill=\"#000000\" font-family=\"sans-serif\" font-size=\"12\" lengthAdjust=\"spacingAndGlyphs\" textLength=\"19\" x=\"70\" y=\"71.1074\">Sig</text><line style=\"stroke: #383838; stroke-width: 1.5;\" x1=\"33\" x2=\"126\" y1=\"78.9375\" y2=\"78.9375\"/><text fill=\"#000000\" font-family=\"sans-serif\" font-size=\"11\" lengthAdjust=\"spacingAndGlyphs\" textLength=\"6\" x=\"38\" y=\"109.9526\">x</text><line style=\"stroke: #383838; stroke-width: 1.0;\" x1=\"33\" x2=\"52\" y1=\"93.3398\" y2=\"93.3398\"/><text fill=\"#000000\" font-family=\"sans-serif\" font-size=\"11\" lengthAdjust=\"spacingAndGlyphs\" textLength=\"55\" x=\"52\" y=\"96.6479\">attributes</text><line style=\"stroke: #383838; stroke-width: 1.0;\" x1=\"107\" x2=\"126\" y1=\"93.3398\" y2=\"93.3398\"/></a><!--MD5=[09b614a08d8cba4a07c9adeb5e0fee81]\n",
       "class E3--><a href=\"psysml:30361623-caf7-482c-9813-174242dd8f3c\" target=\"_top\" title=\"psysml:30361623-caf7-482c-9813-174242dd8f3c\" xlink:actuate=\"onRequest\" xlink:href=\"psysml:30361623-caf7-482c-9813-174242dd8f3c\" xlink:show=\"new\" xlink:title=\"psysml:30361623-caf7-482c-9813-174242dd8f3c\" xlink:type=\"simple\"><rect fill=\"#FFFFFF\" height=\"45.9375\" id=\"E3\" style=\"stroke: #383838; stroke-width: 1.5;\" width=\"95\" x=\"32\" y=\"152\"/><text fill=\"#000000\" font-family=\"sans-serif\" font-size=\"12\" font-style=\"italic\" lengthAdjust=\"spacingAndGlyphs\" textLength=\"93\" x=\"33\" y=\"168.1387\">«attribute def»</text><text fill=\"#000000\" font-family=\"sans-serif\" font-size=\"12\" lengthAdjust=\"spacingAndGlyphs\" textLength=\"22\" x=\"68.5\" y=\"182.1074\">Exit</text><line style=\"stroke: #383838; stroke-width: 1.5;\" x1=\"33\" x2=\"126\" y1=\"189.9375\" y2=\"189.9375\"/></a><!--MD5=[ebbe1d658d1005bcc118a6aa81145e00]\n",
       "class E4--><a href=\"psysml:86d86843-d597-4d6e-917a-885d695bc43d\" target=\"_top\" title=\"psysml:86d86843-d597-4d6e-917a-885d695bc43d\" xlink:actuate=\"onRequest\" xlink:href=\"psysml:86d86843-d597-4d6e-917a-885d695bc43d\" xlink:show=\"new\" xlink:title=\"psysml:86d86843-d597-4d6e-917a-885d695bc43d\" xlink:type=\"simple\"><rect fill=\"#FFFFFF\" height=\"45.9375\" id=\"E4\" rx=\"10\" ry=\"10\" style=\"stroke: #383838; stroke-width: 1.5;\" width=\"42\" x=\"58.5\" y=\"233\"/><text fill=\"#000000\" font-family=\"sans-serif\" font-size=\"12\" font-style=\"italic\" lengthAdjust=\"spacingAndGlyphs\" textLength=\"40\" x=\"59.5\" y=\"249.1387\">«part»</text><text fill=\"#000000\" font-family=\"sans-serif\" font-size=\"12\" lengthAdjust=\"spacingAndGlyphs\" textLength=\"8\" x=\"75.5\" y=\"263.1074\">p</text><line style=\"stroke: #383838; stroke-width: 1.5;\" x1=\"59.5\" x2=\"99.5\" y1=\"270.9375\" y2=\"270.9375\"/></a><!--MD5=[270fce915f116d4de14055a7c1d9a0f3]\n",
       "class E5--><a href=\"psysml:6cb3785d-90e3-4021-b607-f0ab9874924c\" target=\"_top\" title=\"psysml:6cb3785d-90e3-4021-b607-f0ab9874924c\" xlink:actuate=\"onRequest\" xlink:href=\"psysml:6cb3785d-90e3-4021-b607-f0ab9874924c\" xlink:show=\"new\" xlink:title=\"psysml:6cb3785d-90e3-4021-b607-f0ab9874924c\" xlink:type=\"simple\"><rect fill=\"#FFFFFF\" height=\"45.9375\" id=\"E5\" rx=\"10\" ry=\"10\" style=\"stroke: #383838; stroke-width: 1.5;\" width=\"55\" x=\"52\" y=\"314\"/><text fill=\"#000000\" font-family=\"sans-serif\" font-size=\"12\" font-style=\"italic\" lengthAdjust=\"spacingAndGlyphs\" textLength=\"53\" x=\"53\" y=\"330.1387\">«action»</text><text fill=\"#000000\" font-family=\"sans-serif\" font-size=\"12\" lengthAdjust=\"spacingAndGlyphs\" textLength=\"20\" x=\"69.5\" y=\"344.1074\">act</text><line style=\"stroke: #383838; stroke-width: 1.5;\" x1=\"53\" x2=\"106\" y1=\"351.9375\" y2=\"351.9375\"/></a><!--MD5=[60a26617385b1d2d0262a64233df1f8d]\n",
       "class E6--><a href=\"psysml:409d967c-2b55-4985-b068-ed253d96c58c\" target=\"_top\" title=\"psysml:409d967c-2b55-4985-b068-ed253d96c58c\" xlink:actuate=\"onRequest\" xlink:href=\"psysml:409d967c-2b55-4985-b068-ed253d96c58c\" xlink:show=\"new\" xlink:title=\"psysml:409d967c-2b55-4985-b068-ed253d96c58c\" xlink:type=\"simple\"><rect fill=\"#FFFFFF\" height=\"160.375\" id=\"E6\" style=\"stroke: #383838; stroke-width: 1.5;\" width=\"95\" x=\"32\" y=\"395\"/><text fill=\"#000000\" font-family=\"sans-serif\" font-size=\"12\" font-style=\"italic\" lengthAdjust=\"spacingAndGlyphs\" textLength=\"71\" x=\"44\" y=\"411.1387\">«state def»</text><text fill=\"#000000\" font-family=\"sans-serif\" font-size=\"12\" lengthAdjust=\"spacingAndGlyphs\" textLength=\"8\" x=\"75.5\" y=\"425.1074\">S</text><line style=\"stroke: #383838; stroke-width: 1.5;\" x1=\"33\" x2=\"126\" y1=\"432.9375\" y2=\"432.9375\"/><text fill=\"#000000\" font-family=\"sans-serif\" font-size=\"11\" lengthAdjust=\"spacingAndGlyphs\" textLength=\"17\" x=\"38\" y=\"463.9526\">act</text><text fill=\"#000000\" font-family=\"sans-serif\" font-size=\"11\" lengthAdjust=\"spacingAndGlyphs\" textLength=\"7\" x=\"38\" y=\"476.7573\">A</text><text fill=\"#000000\" font-family=\"sans-serif\" font-size=\"11\" lengthAdjust=\"spacingAndGlyphs\" textLength=\"8\" x=\"38\" y=\"489.562\">B</text><line style=\"stroke: #383838; stroke-width: 1.0;\" x1=\"33\" x2=\"36\" y1=\"447.3398\" y2=\"447.3398\"/><text fill=\"#000000\" font-family=\"sans-serif\" font-size=\"11\" lengthAdjust=\"spacingAndGlyphs\" textLength=\"87\" x=\"36\" y=\"450.6479\">performActions</text><line style=\"stroke: #383838; stroke-width: 1.0;\" x1=\"123\" x2=\"126\" y1=\"447.3398\" y2=\"447.3398\"/><text fill=\"#000000\" font-family=\"sans-serif\" font-size=\"11\" lengthAdjust=\"spacingAndGlyphs\" textLength=\"15\" x=\"38\" y=\"519.1714\">S1</text><line style=\"stroke: #383838; stroke-width: 1.0;\" x1=\"33\" x2=\"61.5\" y1=\"502.5586\" y2=\"502.5586\"/><text fill=\"#000000\" font-family=\"sans-serif\" font-size=\"11\" lengthAdjust=\"spacingAndGlyphs\" textLength=\"36\" x=\"61.5\" y=\"505.8667\">states</text><line style=\"stroke: #383838; stroke-width: 1.0;\" x1=\"97.5\" x2=\"126\" y1=\"502.5586\" y2=\"502.5586\"/><text fill=\"#000000\" font-family=\"sans-serif\" font-size=\"11\" lengthAdjust=\"spacingAndGlyphs\" textLength=\"7\" x=\"38\" y=\"548.7808\">T</text><line style=\"stroke: #383838; stroke-width: 1.0;\" x1=\"33\" x2=\"49\" y1=\"532.168\" y2=\"532.168\"/><text fill=\"#000000\" font-family=\"sans-serif\" font-size=\"11\" lengthAdjust=\"spacingAndGlyphs\" textLength=\"61\" x=\"49\" y=\"535.4761\">transitions</text><line style=\"stroke: #383838; stroke-width: 1.0;\" x1=\"110\" x2=\"126\" y1=\"532.168\" y2=\"532.168\"/></a><!--MD5=[1dd1bfd58a279cf63c5f349dbc8fc6a1]\n",
       "class E11--><a href=\"psysml:15193c6f-79c7-4ee2-a2ac-bfb559b7d876\" target=\"_top\" title=\"psysml:15193c6f-79c7-4ee2-a2ac-bfb559b7d876\" xlink:actuate=\"onRequest\" xlink:href=\"psysml:15193c6f-79c7-4ee2-a2ac-bfb559b7d876\" xlink:show=\"new\" xlink:title=\"psysml:15193c6f-79c7-4ee2-a2ac-bfb559b7d876\" xlink:type=\"simple\"><rect fill=\"#FFFFFF\" height=\"45.9375\" id=\"E11\" rx=\"10\" ry=\"10\" style=\"stroke: #383838; stroke-width: 1.5;\" width=\"49\" x=\"187\" y=\"452\"/><text fill=\"#000000\" font-family=\"sans-serif\" font-size=\"12\" font-style=\"italic\" lengthAdjust=\"spacingAndGlyphs\" textLength=\"47\" x=\"188\" y=\"468.1387\">«state»</text><text fill=\"#000000\" font-family=\"sans-serif\" font-size=\"12\" lengthAdjust=\"spacingAndGlyphs\" textLength=\"16\" x=\"203.5\" y=\"482.1074\">S2</text><line style=\"stroke: #383838; stroke-width: 1.5;\" x1=\"188\" x2=\"235\" y1=\"489.9375\" y2=\"489.9375\"/></a><!--MD5=[49a0ec8f00dab7302a31f22d0f0fe584]\n",
       "class E12--><a href=\"psysml:02a264b3-17c4-490c-b5b1-f49bb5aa02c2\" target=\"_top\" title=\"psysml:02a264b3-17c4-490c-b5b1-f49bb5aa02c2\" xlink:actuate=\"onRequest\" xlink:href=\"psysml:02a264b3-17c4-490c-b5b1-f49bb5aa02c2\" xlink:show=\"new\" xlink:title=\"psysml:02a264b3-17c4-490c-b5b1-f49bb5aa02c2\" xlink:type=\"simple\"><rect fill=\"#FFFFFF\" height=\"75.5469\" id=\"E12\" rx=\"10\" ry=\"10\" style=\"stroke: #383838; stroke-width: 1.5;\" width=\"90\" x=\"296\" y=\"437\"/><text fill=\"#000000\" font-family=\"sans-serif\" font-size=\"12\" font-style=\"italic\" lengthAdjust=\"spacingAndGlyphs\" textLength=\"88\" x=\"297\" y=\"453.1387\">«send action»</text><text fill=\"#000000\" font-family=\"sans-serif\" font-size=\"12\" lengthAdjust=\"spacingAndGlyphs\" textLength=\"55\" x=\"313.5\" y=\"467.1074\">doAction</text><line style=\"stroke: #383838; stroke-width: 1.5;\" x1=\"297\" x2=\"385\" y1=\"474.9375\" y2=\"474.9375\"/><text fill=\"#000000\" font-family=\"sans-serif\" font-size=\"11\" lengthAdjust=\"spacingAndGlyphs\" textLength=\"25\" x=\"302\" y=\"505.9526\">item</text><line style=\"stroke: #383838; stroke-width: 1.0;\" x1=\"297\" x2=\"303.5\" y1=\"489.3398\" y2=\"489.3398\"/><text fill=\"#000000\" font-family=\"sans-serif\" font-size=\"11\" lengthAdjust=\"spacingAndGlyphs\" textLength=\"75\" x=\"303.5\" y=\"492.6479\">itemFeatures</text><line style=\"stroke: #383838; stroke-width: 1.0;\" x1=\"378.5\" x2=\"385\" y1=\"489.3398\" y2=\"489.3398\"/></a><!--MD5=[1f5f03483f7de0d5b3680a7f6650997f]\n",
       "reverse link E6 to E11--><a href=\"psysml:15193c6f-79c7-4ee2-a2ac-bfb559b7d876\" target=\"_top\" title=\"psysml:15193c6f-79c7-4ee2-a2ac-bfb559b7d876\" xlink:actuate=\"onRequest\" xlink:href=\"psysml:15193c6f-79c7-4ee2-a2ac-bfb559b7d876\" xlink:show=\"new\" xlink:title=\"psysml:15193c6f-79c7-4ee2-a2ac-bfb559b7d876\" xlink:type=\"simple\"><path d=\"M140.15,475 C156.69,475 173.69,475 186.84,475 \" fill=\"none\" id=\"E6&lt;-E11\" style=\"stroke: #383838; stroke-width: 1.0;\"/><polygon fill=\"#383838\" points=\"127.07,475,133.07,479,139.07,475,133.07,471,127.07,475\" style=\"stroke: #383838; stroke-width: 1.0;\"/></a><!--MD5=[94adabc162ce7e41b39f13be14fbaeb3]\n",
       "reverse link E11 to E12--><a href=\"psysml:02a264b3-17c4-490c-b5b1-f49bb5aa02c2\" target=\"_top\" title=\"psysml:02a264b3-17c4-490c-b5b1-f49bb5aa02c2\" xlink:actuate=\"onRequest\" xlink:href=\"psysml:02a264b3-17c4-490c-b5b1-f49bb5aa02c2\" xlink:show=\"new\" xlink:title=\"psysml:02a264b3-17c4-490c-b5b1-f49bb5aa02c2\" xlink:type=\"simple\"><path d=\"M249.28,475 C263.81,475 280.62,475 295.8,475 \" fill=\"none\" id=\"E11&lt;-E12\" style=\"stroke: #383838; stroke-width: 1.0;\"/><polygon fill=\"#FFFFFF\" points=\"236.18,475,242.18,479,248.18,475,242.18,471,236.18,475\" style=\"stroke: #383838; stroke-width: 1.0;\"/></a><!--MD5=[ea07fd82269c30f8c90c4010ac3eff51]\n",
       "@startuml\r\n",
       "left to right direction\r\n",
       "skinparam monochrome true\r\n",
       "skinparam classbackgroundcolor white\r\n",
       "skinparam shadowing false\r\n",
       "skinparam wrapWidth 300\r\n",
       "hide circle\r\n",
       "\r\n",
       "package \"StateTest\" as E1  [[psysml:9c548ee6-d869-4820-b951-32f5a4e72165 ]]  {\r\n",
       "comp def \"Sig\" as E2  <<(T,blue)attribute def>> [[psysml:7a2ca9b4-3a97-4e8a-92f8-a9f50dc832cb ]] {\r\n",
       "- - attributes - -\r\n",
       "x\r\n",
       "}\r\n",
       "comp def \"Exit\" as E3  <<(T,blue)attribute def>> [[psysml:30361623-caf7-482c-9813-174242dd8f3c ]] {\r\n",
       "}\r\n",
       "comp usage \"p\" as E4  <<(T,blue)part>> [[psysml:86d86843-d597-4d6e-917a-885d695bc43d ]] {\r\n",
       "}\r\n",
       "comp usage \"act\" as E5  <<(T,blue)action>> [[psysml:6cb3785d-90e3-4021-b607-f0ab9874924c ]] {\r\n",
       "}\r\n",
       "comp def \"S\" as E6  <<(T,blue)state def>> [[psysml:409d967c-2b55-4985-b068-ed253d96c58c ]] {\r\n",
       "- - performActions - -\r\n",
       "act\r\n",
       "A\r\n",
       "B\r\n",
       "- - states - -\r\n",
       "S1\r\n",
       "- - transitions - -\r\n",
       "T\r\n",
       "}\r\n",
       "comp usage \"S2\" as E11  <<(T,blue)state>> [[psysml:15193c6f-79c7-4ee2-a2ac-bfb559b7d876 ]] {\r\n",
       "}\r\n",
       "comp usage \"doAction\" as E12 <<send action>> [[psysml:02a264b3-17c4-490c-b5b1-f49bb5aa02c2 ]] {\r\n",
       "- - itemFeatures - -\r\n",
       "item\r\n",
       "}\r\n",
       "E6 *- - E11 [[psysml:15193c6f-79c7-4ee2-a2ac-bfb559b7d876 ]] \r\n",
       "E11 o- - E12 [[psysml:02a264b3-17c4-490c-b5b1-f49bb5aa02c2 ]] \r\n",
       "}\r\n",
       "@enduml\r\n",
       "\n",
       "PlantUML version 1.2020.13(Sat Jun 13 12:26:38 UTC 2020)\n",
       "(EPL source distribution)\n",
       "Java Runtime: OpenJDK Runtime Environment\n",
       "JVM: OpenJDK 64-Bit Server VM\n",
       "Default Encoding: UTF-8\n",
       "Language: en\n",
       "Country: null\n",
       "--></g></svg>"
      ]
     },
     "execution_count": 21,
     "metadata": {},
     "output_type": "execute_result"
    }
   ],
   "source": [
    "%viz --style=\"LR\" --view=\"Sequence\" \"StateTest\""
   ]
  },
  {
   "cell_type": "code",
   "execution_count": 22,
   "id": "criminal-formation",
   "metadata": {
    "execution": {
     "iopub.execute_input": "2021-03-26T09:13:53.520845Z",
     "iopub.status.busy": "2021-03-26T09:13:53.520137Z",
     "iopub.status.idle": "2021-03-26T09:13:53.565269Z",
     "shell.execute_reply": "2021-03-26T09:13:53.563617Z"
    }
   },
   "outputs": [
    {
     "data": {
      "image/svg+xml": [
       "<?xml version=\"1.0\" encoding=\"UTF-8\" standalone=\"no\"?><svg xmlns=\"http://www.w3.org/2000/svg\" xmlns:xlink=\"http://www.w3.org/1999/xlink\" contentScriptType=\"application/ecmascript\" contentStyleType=\"text/css\" height=\"633px\" preserveAspectRatio=\"none\" style=\"width:652px;height:633px;\" version=\"1.1\" viewBox=\"0 0 652 633\" width=\"652px\" zoomAndPan=\"magnify\"><defs/><g><!--MD5=[fbc87193dbaf4d95561dea2c320d4a47]\n",
       "cluster E1--><a href=\"psysml:9c548ee6-d869-4820-b951-32f5a4e72165\" target=\"_top\" title=\"psysml:9c548ee6-d869-4820-b951-32f5a4e72165\" xlink:actuate=\"onRequest\" xlink:href=\"psysml:9c548ee6-d869-4820-b951-32f5a4e72165\" xlink:show=\"new\" xlink:title=\"psysml:9c548ee6-d869-4820-b951-32f5a4e72165\" xlink:type=\"simple\"><polygon fill=\"#FFFFFF\" points=\"16,6,98,6,105,28.2969,630,28.2969,630,621,16,621,16,6\" style=\"stroke: #000000; stroke-width: 1.5;\"/><line style=\"stroke: #000000; stroke-width: 1.5;\" x1=\"16\" x2=\"105\" y1=\"28.2969\" y2=\"28.2969\"/><text fill=\"#000000\" font-family=\"sans-serif\" font-size=\"14\" font-weight=\"bold\" lengthAdjust=\"spacingAndGlyphs\" textLength=\"76\" x=\"20\" y=\"20.9951\">StateTest</text></a><!--MD5=[14e3b0961a2654348d326746436168a1]\n",
       "cluster E6--><a href=\"psysml:409d967c-2b55-4985-b068-ed253d96c58c\" target=\"_top\" title=\"psysml:409d967c-2b55-4985-b068-ed253d96c58c\" xlink:actuate=\"onRequest\" xlink:href=\"psysml:409d967c-2b55-4985-b068-ed253d96c58c\" xlink:show=\"new\" xlink:title=\"psysml:409d967c-2b55-4985-b068-ed253d96c58c\" xlink:type=\"simple\"><rect fill=\"#FFFFFF\" height=\"223\" id=\"E6\" style=\"stroke: #383838; stroke-width: 1.5;\" width=\"552.5\" x=\"53.5\" y=\"49\"/><rect fill=\"#F8F8F8\" height=\"37.9375\" style=\"stroke: #383838; stroke-width: 1.5;\" width=\"552.5\" x=\"53.5\" y=\"49\"/><text fill=\"#000000\" font-family=\"sans-serif\" font-size=\"12\" font-style=\"italic\" lengthAdjust=\"spacingAndGlyphs\" textLength=\"71\" x=\"294.25\" y=\"65.1387\">«state def»</text><text fill=\"#000000\" font-family=\"sans-serif\" font-size=\"12\" lengthAdjust=\"spacingAndGlyphs\" textLength=\"8\" x=\"325.75\" y=\"79.1074\">S</text><line style=\"stroke: #383838; stroke-width: 1.0;\" x1=\"53.5\" x2=\"606\" y1=\"132.8438\" y2=\"132.8438\"/><text fill=\"#000000\" font-family=\"sans-serif\" font-size=\"12\" font-weight=\"bold\" lengthAdjust=\"spacingAndGlyphs\" textLength=\"38\" x=\"58.5\" y=\"100.0762\">entry</text><text fill=\"#000000\" font-family=\"sans-serif\" font-size=\"12\" lengthAdjust=\"spacingAndGlyphs\" textLength=\"16\" x=\"96.5\" y=\"100.0762\">/ A</text><text fill=\"#000000\" font-family=\"sans-serif\" font-size=\"12\" font-weight=\"bold\" lengthAdjust=\"spacingAndGlyphs\" textLength=\"18\" x=\"58.5\" y=\"114.0449\">do</text><text fill=\"#000000\" font-family=\"sans-serif\" font-size=\"12\" lengthAdjust=\"spacingAndGlyphs\" textLength=\"16\" x=\"76.5\" y=\"114.0449\">/ B</text><text fill=\"#000000\" font-family=\"sans-serif\" font-size=\"12\" font-weight=\"bold\" lengthAdjust=\"spacingAndGlyphs\" textLength=\"26\" x=\"58.5\" y=\"128.0137\">exit</text><text fill=\"#000000\" font-family=\"sans-serif\" font-size=\"12\" lengthAdjust=\"spacingAndGlyphs\" textLength=\"28\" x=\"84.5\" y=\"128.0137\">/ act</text></a><!--MD5=[b4997ac47864f28c2f74865a473b2911]\n",
       "class E2--><a href=\"psysml:7a2ca9b4-3a97-4e8a-92f8-a9f50dc832cb\" target=\"_top\" title=\"psysml:7a2ca9b4-3a97-4e8a-92f8-a9f50dc832cb\" xlink:actuate=\"onRequest\" xlink:href=\"psysml:7a2ca9b4-3a97-4e8a-92f8-a9f50dc832cb\" xlink:show=\"new\" xlink:title=\"psysml:7a2ca9b4-3a97-4e8a-92f8-a9f50dc832cb\" xlink:type=\"simple\"><rect fill=\"#FFFFFF\" height=\"75.5469\" id=\"E2\" style=\"stroke: #383838; stroke-width: 1.5;\" width=\"95\" x=\"32\" y=\"288\"/><text fill=\"#000000\" font-family=\"sans-serif\" font-size=\"12\" font-style=\"italic\" lengthAdjust=\"spacingAndGlyphs\" textLength=\"93\" x=\"33\" y=\"304.1387\">«attribute def»</text><text fill=\"#000000\" font-family=\"sans-serif\" font-size=\"12\" lengthAdjust=\"spacingAndGlyphs\" textLength=\"19\" x=\"70\" y=\"318.1074\">Sig</text><line style=\"stroke: #383838; stroke-width: 1.5;\" x1=\"33\" x2=\"126\" y1=\"325.9375\" y2=\"325.9375\"/><text fill=\"#000000\" font-family=\"sans-serif\" font-size=\"11\" lengthAdjust=\"spacingAndGlyphs\" textLength=\"6\" x=\"38\" y=\"356.9526\">x</text><line style=\"stroke: #383838; stroke-width: 1.0;\" x1=\"33\" x2=\"52\" y1=\"340.3398\" y2=\"340.3398\"/><text fill=\"#000000\" font-family=\"sans-serif\" font-size=\"11\" lengthAdjust=\"spacingAndGlyphs\" textLength=\"55\" x=\"52\" y=\"343.6479\">attributes</text><line style=\"stroke: #383838; stroke-width: 1.0;\" x1=\"107\" x2=\"126\" y1=\"340.3398\" y2=\"340.3398\"/></a><!--MD5=[09b614a08d8cba4a07c9adeb5e0fee81]\n",
       "class E3--><a href=\"psysml:30361623-caf7-482c-9813-174242dd8f3c\" target=\"_top\" title=\"psysml:30361623-caf7-482c-9813-174242dd8f3c\" xlink:actuate=\"onRequest\" xlink:href=\"psysml:30361623-caf7-482c-9813-174242dd8f3c\" xlink:show=\"new\" xlink:title=\"psysml:30361623-caf7-482c-9813-174242dd8f3c\" xlink:type=\"simple\"><rect fill=\"#FFFFFF\" height=\"45.9375\" id=\"E3\" style=\"stroke: #383838; stroke-width: 1.5;\" width=\"95\" x=\"32\" y=\"399\"/><text fill=\"#000000\" font-family=\"sans-serif\" font-size=\"12\" font-style=\"italic\" lengthAdjust=\"spacingAndGlyphs\" textLength=\"93\" x=\"33\" y=\"415.1387\">«attribute def»</text><text fill=\"#000000\" font-family=\"sans-serif\" font-size=\"12\" lengthAdjust=\"spacingAndGlyphs\" textLength=\"22\" x=\"68.5\" y=\"429.1074\">Exit</text><line style=\"stroke: #383838; stroke-width: 1.5;\" x1=\"33\" x2=\"126\" y1=\"436.9375\" y2=\"436.9375\"/></a><!--MD5=[ebbe1d658d1005bcc118a6aa81145e00]\n",
       "class E4--><a href=\"psysml:86d86843-d597-4d6e-917a-885d695bc43d\" target=\"_top\" title=\"psysml:86d86843-d597-4d6e-917a-885d695bc43d\" xlink:actuate=\"onRequest\" xlink:href=\"psysml:86d86843-d597-4d6e-917a-885d695bc43d\" xlink:show=\"new\" xlink:title=\"psysml:86d86843-d597-4d6e-917a-885d695bc43d\" xlink:type=\"simple\"><rect fill=\"#FFFFFF\" height=\"45.9375\" id=\"E4\" rx=\"10\" ry=\"10\" style=\"stroke: #383838; stroke-width: 1.5;\" width=\"42\" x=\"58.5\" y=\"480\"/><text fill=\"#000000\" font-family=\"sans-serif\" font-size=\"12\" font-style=\"italic\" lengthAdjust=\"spacingAndGlyphs\" textLength=\"40\" x=\"59.5\" y=\"496.1387\">«part»</text><text fill=\"#000000\" font-family=\"sans-serif\" font-size=\"12\" lengthAdjust=\"spacingAndGlyphs\" textLength=\"8\" x=\"75.5\" y=\"510.1074\">p</text><line style=\"stroke: #383838; stroke-width: 1.5;\" x1=\"59.5\" x2=\"99.5\" y1=\"517.9375\" y2=\"517.9375\"/></a><g id=\"E1.E5\"><a href=\"psysml:6cb3785d-90e3-4021-b607-f0ab9874924c\" target=\"_top\" title=\"psysml:6cb3785d-90e3-4021-b607-f0ab9874924c\" xlink:actuate=\"onRequest\" xlink:href=\"psysml:6cb3785d-90e3-4021-b607-f0ab9874924c\" xlink:show=\"new\" xlink:title=\"psysml:6cb3785d-90e3-4021-b607-f0ab9874924c\" xlink:type=\"simple\"><rect fill=\"#FFFFFF\" height=\"42.9375\" id=\"E5\" rx=\"10\" ry=\"10\" style=\"stroke: #383838; stroke-width: 1.5;\" width=\"60\" x=\"49.5\" y=\"561.5\"/><rect fill=\"#F8F8F8\" height=\"37.9375\" rx=\"10\" ry=\"10\" style=\"stroke: #F8F8F8; stroke-width: 1.5;\" width=\"60\" x=\"49.5\" y=\"561.5\"/><rect fill=\"#F8F8F8\" height=\"10\" style=\"stroke: #F8F8F8; stroke-width: 1.5;\" width=\"60\" x=\"49.5\" y=\"589.4375\"/><rect fill=\"none\" height=\"42.9375\" id=\"E5\" rx=\"10\" ry=\"10\" style=\"stroke: #383838; stroke-width: 1.5;\" width=\"60\" x=\"49.5\" y=\"561.5\"/><text fill=\"#000000\" font-family=\"sans-serif\" font-size=\"12\" font-style=\"italic\" lengthAdjust=\"spacingAndGlyphs\" textLength=\"53\" x=\"53\" y=\"577.6387\">«action»</text><text fill=\"#000000\" font-family=\"sans-serif\" font-size=\"12\" lengthAdjust=\"spacingAndGlyphs\" textLength=\"20\" x=\"69.5\" y=\"591.6074\">act</text></a></g><ellipse cx=\"79.5\" cy=\"194\" fill=\"#000000\" rx=\"10\" ry=\"10\" style=\"stroke: none; stroke-width: 1.0;\"/><ellipse cx=\"580\" cy=\"196\" fill=\"none\" rx=\"10\" ry=\"10\" style=\"stroke: #000000; stroke-width: 1.0;\"/><ellipse cx=\"580.5\" cy=\"196.5\" fill=\"#000000\" rx=\"6\" ry=\"6\" style=\"stroke: none; stroke-width: 1.0;\"/><g id=\"E1.E6.E7\"><a href=\"psysml:5ea02985-bc8b-4cb1-bb08-c3caa7c881e0\" target=\"_top\" title=\"psysml:5ea02985-bc8b-4cb1-bb08-c3caa7c881e0\" xlink:actuate=\"onRequest\" xlink:href=\"psysml:5ea02985-bc8b-4cb1-bb08-c3caa7c881e0\" xlink:show=\"new\" xlink:title=\"psysml:5ea02985-bc8b-4cb1-bb08-c3caa7c881e0\" xlink:type=\"simple\"><rect fill=\"#FFFFFF\" height=\"40\" id=\"E7\" rx=\"10\" ry=\"10\" style=\"stroke: #383838; stroke-width: 1.5;\" width=\"50\" x=\"188\" y=\"174\"/><rect fill=\"#F8F8F8\" height=\"23.9688\" rx=\"10\" ry=\"10\" style=\"stroke: #F8F8F8; stroke-width: 1.5;\" width=\"50\" x=\"188\" y=\"174\"/><rect fill=\"#F8F8F8\" height=\"10\" style=\"stroke: #F8F8F8; stroke-width: 1.5;\" width=\"50\" x=\"188\" y=\"187.9688\"/><rect fill=\"none\" height=\"40\" id=\"E7\" rx=\"10\" ry=\"10\" style=\"stroke: #383838; stroke-width: 1.5;\" width=\"50\" x=\"188\" y=\"174\"/><text fill=\"#000000\" font-family=\"sans-serif\" font-size=\"12\" lengthAdjust=\"spacingAndGlyphs\" textLength=\"16\" x=\"205\" y=\"190.1387\">S1</text></a></g><g id=\"E1.E6.E8\"><a href=\"psysml:15193c6f-79c7-4ee2-a2ac-bfb559b7d876\" target=\"_top\" title=\"psysml:15193c6f-79c7-4ee2-a2ac-bfb559b7d876\" xlink:actuate=\"onRequest\" xlink:href=\"psysml:15193c6f-79c7-4ee2-a2ac-bfb559b7d876\" xlink:show=\"new\" xlink:title=\"psysml:15193c6f-79c7-4ee2-a2ac-bfb559b7d876\" xlink:type=\"simple\"><rect fill=\"#FFFFFF\" height=\"47.9375\" id=\"E8\" rx=\"10\" ry=\"10\" style=\"stroke: #383838; stroke-width: 1.5;\" width=\"50\" x=\"435\" y=\"172\"/><rect fill=\"#F8F8F8\" height=\"23.9688\" rx=\"10\" ry=\"10\" style=\"stroke: #F8F8F8; stroke-width: 1.5;\" width=\"50\" x=\"435\" y=\"172\"/><rect fill=\"#F8F8F8\" height=\"10\" style=\"stroke: #F8F8F8; stroke-width: 1.5;\" width=\"50\" x=\"435\" y=\"185.9688\"/><rect fill=\"none\" height=\"47.9375\" id=\"E8\" rx=\"10\" ry=\"10\" style=\"stroke: #383838; stroke-width: 1.5;\" width=\"50\" x=\"435\" y=\"172\"/><text fill=\"#000000\" font-family=\"sans-serif\" font-size=\"12\" lengthAdjust=\"spacingAndGlyphs\" textLength=\"16\" x=\"452\" y=\"188.1387\">S2</text><line style=\"stroke: #383838; stroke-width: 1.0;\" x1=\"435\" x2=\"485\" y1=\"195.9688\" y2=\"195.9688\"/><text fill=\"#000000\" font-family=\"sans-serif\" font-size=\"12\" font-weight=\"bold\" lengthAdjust=\"spacingAndGlyphs\" textLength=\"18\" x=\"440\" y=\"209.1074\">do</text><text fill=\"#000000\" font-family=\"sans-serif\" font-size=\"12\" lengthAdjust=\"spacingAndGlyphs\" textLength=\"4\" x=\"458\" y=\"209.1074\">/</text></a></g><!--MD5=[5a531d3a85f3339e6e197084acb48195]\n",
       "link *start*E6 to E7--><a href=\"psysml:50e6b136-bb64-4da5-b9f3-893462631a2b\" target=\"_top\" title=\"psysml:50e6b136-bb64-4da5-b9f3-893462631a2b\" xlink:actuate=\"onRequest\" xlink:href=\"psysml:50e6b136-bb64-4da5-b9f3-893462631a2b\" xlink:show=\"new\" xlink:title=\"psysml:50e6b136-bb64-4da5-b9f3-893462631a2b\" xlink:type=\"simple\"><path d=\"M89.54,194 C108.46,194 152.97,194 182.78,194 \" fill=\"none\" id=\"*start*E6-&gt;E7\" style=\"stroke: #383838; stroke-width: 1.0;\"/><polygon fill=\"#383838\" points=\"187.8,194,178.8,190,182.8,194,178.8,198,187.8,194\" style=\"stroke: #383838; stroke-width: 1.0;\"/></a><!--MD5=[7ec9a8babba89ddcae1318ca9fb3c814]\n",
       "link E8 to *end*E6--><a href=\"psysml:400438d1-4a79-4175-ae6b-80e92b548ca9\" target=\"_top\" title=\"psysml:400438d1-4a79-4175-ae6b-80e92b548ca9\" xlink:actuate=\"onRequest\" xlink:href=\"psysml:400438d1-4a79-4175-ae6b-80e92b548ca9\" xlink:show=\"new\" xlink:title=\"psysml:400438d1-4a79-4175-ae6b-80e92b548ca9\" xlink:type=\"simple\"><path d=\"M485.16,196 C509.08,196 544.89,196 564.64,196 \" fill=\"none\" id=\"E8-&gt;*end*E6\" style=\"stroke: #383838; stroke-width: 1.0;\"/><polygon fill=\"#383838\" points=\"569.76,196,560.76,192,564.76,196,560.76,200,569.76,196\" style=\"stroke: #383838; stroke-width: 1.0;\"/><text fill=\"#000000\" font-family=\"sans-serif\" font-size=\"13\" lengthAdjust=\"spacingAndGlyphs\" textLength=\"23\" x=\"516\" y=\"192.0669\">Exit</text></a><!--MD5=[79bc8f324ef4d02c541433f2e6e513c3]\n",
       "link E7 to E8--><a href=\"psysml:516b9b87-0f3c-4a45-97aa-978805331ddd\" target=\"_top\" title=\"psysml:516b9b87-0f3c-4a45-97aa-978805331ddd\" xlink:actuate=\"onRequest\" xlink:href=\"psysml:516b9b87-0f3c-4a45-97aa-978805331ddd\" xlink:show=\"new\" xlink:title=\"psysml:516b9b87-0f3c-4a45-97aa-978805331ddd\" xlink:type=\"simple\"><path d=\"M238.15,210.85 C247.11,216.14 257.62,221.31 268,224 C326.94,239.27 345.84,238.42 405,224 C413.58,221.91 422.32,218.19 430.2,214.14 \" fill=\"none\" id=\"E7-&gt;E8\" style=\"stroke: #383838; stroke-width: 1.0;\"/><polygon fill=\"#383838\" points=\"434.98,211.59,425.156,212.2893,430.5666,213.94,428.9159,219.3506,434.98,211.59\" style=\"stroke: #383838; stroke-width: 1.0;\"/><text fill=\"#000000\" font-family=\"sans-serif\" font-size=\"13\" lengthAdjust=\"spacingAndGlyphs\" textLength=\"81\" x=\"296\" y=\"220.0669\">Sig /action D</text></a><!--MD5=[bfa3c8b0d15052fdf50ae9310b491027]\n",
       "link E8 to E7--><a href=\"psysml:0976314e-a9f7-4444-bafa-f8883db64fa0\" target=\"_top\" title=\"psysml:0976314e-a9f7-4444-bafa-f8883db64fa0\" xlink:actuate=\"onRequest\" xlink:href=\"psysml:0976314e-a9f7-4444-bafa-f8883db64fa0\" xlink:show=\"new\" xlink:title=\"psysml:0976314e-a9f7-4444-bafa-f8883db64fa0\" xlink:type=\"simple\"><path d=\"M434.71,195.8 C389.48,195.43 292.49,194.64 243.54,194.24 \" fill=\"none\" id=\"E8-&gt;E7\" style=\"stroke: #383838; stroke-width: 1.0;\"/><polygon fill=\"#383838\" points=\"238.39,194.2,247.3554,198.277,243.3898,194.2429,247.424,190.2773,238.39,194.2\" style=\"stroke: #383838; stroke-width: 1.0;\"/><text fill=\"#000000\" font-family=\"sans-serif\" font-size=\"13\" lengthAdjust=\"spacingAndGlyphs\" textLength=\"135\" x=\"269\" y=\"191.0669\">Sig [true]/send s to p</text></a><!--MD5=[0485369e6d972f7a7aa483f3e5467055]\n",
       "@startuml\r\n",
       "left to right direction\r\n",
       "skinparam monochrome true\r\n",
       "skinparam classbackgroundcolor white\r\n",
       "skinparam shadowing false\r\n",
       "skinparam wrapWidth 300\r\n",
       "hide circle\r\n",
       "\r\n",
       "package \"StateTest\" as E1  [[psysml:9c548ee6-d869-4820-b951-32f5a4e72165 ]]  {\r\n",
       "comp def \"Sig\" as E2  <<(T,blue)attribute def>> [[psysml:7a2ca9b4-3a97-4e8a-92f8-a9f50dc832cb ]] {\r\n",
       "- - attributes - -\r\n",
       "x\r\n",
       "}\r\n",
       "comp def \"Exit\" as E3  <<(T,blue)attribute def>> [[psysml:30361623-caf7-482c-9813-174242dd8f3c ]] {\r\n",
       "}\r\n",
       "comp usage \"p\" as E4  <<(T,blue)part>> [[psysml:86d86843-d597-4d6e-917a-885d695bc43d ]] {\r\n",
       "}\r\n",
       "rec usage \"act\" as E5  <<(T,blue)action>> [[psysml:6cb3785d-90e3-4021-b607-f0ab9874924c ]] {\r\n",
       "}\r\n",
       "\r\n",
       "rec def \"S\" as E6  <<(T,blue)state def>> [[psysml:409d967c-2b55-4985-b068-ed253d96c58c ]] {\r\n",
       "rec usage \"S1\" as E7 [[psysml:5ea02985-bc8b-4cb1-bb08-c3caa7c881e0 ]] {\r\n",
       "}\r\n",
       "\r\n",
       "rec usage \"S2\" as E8 [[psysml:15193c6f-79c7-4ee2-a2ac-bfb559b7d876 ]] {\r\n",
       "desc \"S2\" as E8  : **do**/ \r\n",
       "}\r\n",
       "\r\n",
       "[*] - -> E7 [[psysml:50e6b136-bb64-4da5-b9f3-893462631a2b ]] \r\n",
       "E8  - -> [*] [[psysml:400438d1-4a79-4175-ae6b-80e92b548ca9 ]] : Exit \r\n",
       "desc \"S\" as E6  : **entry**/ A\r\n",
       "desc \"S\" as E6  : **do**/ B\r\n",
       "desc \"S\" as E6  : **exit**/ act \r\n",
       "}\r\n",
       "\r\n",
       "E7  - -> E8 [[psysml:516b9b87-0f3c-4a45-97aa-978805331ddd ]] : Sig /action D\r\n",
       "E8  - -> E7 [[psysml:0976314e-a9f7-4444-bafa-f8883db64fa0 ]] : Sig [true]/send s to p\r\n",
       "}\r\n",
       "@enduml\r\n",
       "\n",
       "PlantUML version 1.2020.13(Sat Jun 13 12:26:38 UTC 2020)\n",
       "(EPL source distribution)\n",
       "Java Runtime: OpenJDK Runtime Environment\n",
       "JVM: OpenJDK 64-Bit Server VM\n",
       "Default Encoding: UTF-8\n",
       "Language: en\n",
       "Country: null\n",
       "--></g></svg>"
      ]
     },
     "execution_count": 22,
     "metadata": {},
     "output_type": "execute_result"
    }
   ],
   "source": [
    "%viz --style=\"LR\" --view=\"MIXED\" \"StateTest\""
   ]
  },
  {
   "cell_type": "code",
   "execution_count": 23,
   "id": "reflected-first",
   "metadata": {
    "execution": {
     "iopub.execute_input": "2021-03-26T09:13:53.616597Z",
     "iopub.status.busy": "2021-03-26T09:13:53.615811Z",
     "iopub.status.idle": "2021-03-26T09:13:53.660984Z",
     "shell.execute_reply": "2021-03-26T09:13:53.659705Z"
    }
   },
   "outputs": [
    {
     "data": {
      "image/svg+xml": [
       "<?xml version=\"1.0\" encoding=\"UTF-8\" standalone=\"no\"?><svg xmlns=\"http://www.w3.org/2000/svg\" xmlns:xlink=\"http://www.w3.org/1999/xlink\" contentScriptType=\"application/ecmascript\" contentStyleType=\"text/css\" height=\"561px\" preserveAspectRatio=\"none\" style=\"width:819px;height:561px;\" version=\"1.1\" viewBox=\"0 0 819 561\" width=\"819px\" zoomAndPan=\"magnify\"><defs><filter height=\"300%\" id=\"faf6ayuz9fpbt\" width=\"300%\" x=\"-1\" y=\"-1\"><feGaussianBlur result=\"blurOut\" stdDeviation=\"2.0\"/><feColorMatrix in=\"blurOut\" result=\"blurOut2\" type=\"matrix\" values=\"0 0 0 0 0 0 0 0 0 0 0 0 0 0 0 0 0 0 .4 0\"/><feOffset dx=\"4.0\" dy=\"4.0\" in=\"blurOut2\" result=\"blurOut3\"/><feBlend in=\"SourceGraphic\" in2=\"blurOut3\" mode=\"normal\"/></filter></defs><g><!--MD5=[fbc87193dbaf4d95561dea2c320d4a47]\n",
       "cluster E1--><a href=\"psysml:9c548ee6-d869-4820-b951-32f5a4e72165\" target=\"_top\" title=\"psysml:9c548ee6-d869-4820-b951-32f5a4e72165\" xlink:actuate=\"onRequest\" xlink:href=\"psysml:9c548ee6-d869-4820-b951-32f5a4e72165\" xlink:show=\"new\" xlink:title=\"psysml:9c548ee6-d869-4820-b951-32f5a4e72165\" xlink:type=\"simple\"><polygon fill=\"#FFFFFF\" filter=\"url(#faf6ayuz9fpbt)\" points=\"16,6,98,6,105,28.2969,797,28.2969,797,549.5,16,549.5,16,6\" style=\"stroke: #000000; stroke-width: 1.5;\"/><line style=\"stroke: #000000; stroke-width: 1.5;\" x1=\"16\" x2=\"105\" y1=\"28.2969\" y2=\"28.2969\"/><text fill=\"#000000\" font-family=\"sans-serif\" font-size=\"14\" font-weight=\"bold\" lengthAdjust=\"spacingAndGlyphs\" textLength=\"76\" x=\"20\" y=\"20.9951\">StateTest</text></a><!--MD5=[14e3b0961a2654348d326746436168a1]\n",
       "cluster E6--><a href=\"psysml:409d967c-2b55-4985-b068-ed253d96c58c\" target=\"_top\" title=\"psysml:409d967c-2b55-4985-b068-ed253d96c58c\" xlink:actuate=\"onRequest\" xlink:href=\"psysml:409d967c-2b55-4985-b068-ed253d96c58c\" xlink:show=\"new\" xlink:title=\"psysml:409d967c-2b55-4985-b068-ed253d96c58c\" xlink:type=\"simple\"><rect fill=\"#FFFFFF\" filter=\"url(#faf6ayuz9fpbt)\" height=\"476.5\" id=\"E6\" style=\"stroke: #A80036; stroke-width: 1.5;\" width=\"327\" x=\"446\" y=\"49\"/><rect fill=\"#FEFECE\" height=\"37.9375\" style=\"stroke: #A80036; stroke-width: 1.5;\" width=\"327\" x=\"446\" y=\"49\"/><text fill=\"#000000\" font-family=\"sans-serif\" font-size=\"12\" font-style=\"italic\" lengthAdjust=\"spacingAndGlyphs\" textLength=\"71\" x=\"574\" y=\"65.1387\">«state def»</text><text fill=\"#000000\" font-family=\"sans-serif\" font-size=\"12\" lengthAdjust=\"spacingAndGlyphs\" textLength=\"8\" x=\"605.5\" y=\"79.1074\">S</text><line style=\"stroke: #A80036; stroke-width: 1.0;\" x1=\"446\" x2=\"773\" y1=\"132.8438\" y2=\"132.8438\"/><text fill=\"#000000\" font-family=\"sans-serif\" font-size=\"12\" font-weight=\"bold\" lengthAdjust=\"spacingAndGlyphs\" textLength=\"38\" x=\"451\" y=\"100.0762\">entry</text><text fill=\"#000000\" font-family=\"sans-serif\" font-size=\"12\" lengthAdjust=\"spacingAndGlyphs\" textLength=\"16\" x=\"489\" y=\"100.0762\">/ A</text><text fill=\"#000000\" font-family=\"sans-serif\" font-size=\"12\" font-weight=\"bold\" lengthAdjust=\"spacingAndGlyphs\" textLength=\"18\" x=\"451\" y=\"114.0449\">do</text><text fill=\"#000000\" font-family=\"sans-serif\" font-size=\"12\" lengthAdjust=\"spacingAndGlyphs\" textLength=\"16\" x=\"469\" y=\"114.0449\">/ B</text><text fill=\"#000000\" font-family=\"sans-serif\" font-size=\"12\" font-weight=\"bold\" lengthAdjust=\"spacingAndGlyphs\" textLength=\"26\" x=\"451\" y=\"128.0137\">exit</text><text fill=\"#000000\" font-family=\"sans-serif\" font-size=\"12\" lengthAdjust=\"spacingAndGlyphs\" textLength=\"28\" x=\"477\" y=\"128.0137\">/ act</text></a><!--MD5=[b4997ac47864f28c2f74865a473b2911]\n",
       "class E2--><a href=\"psysml:7a2ca9b4-3a97-4e8a-92f8-a9f50dc832cb\" target=\"_top\" title=\"psysml:7a2ca9b4-3a97-4e8a-92f8-a9f50dc832cb\" xlink:actuate=\"onRequest\" xlink:href=\"psysml:7a2ca9b4-3a97-4e8a-92f8-a9f50dc832cb\" xlink:show=\"new\" xlink:title=\"psysml:7a2ca9b4-3a97-4e8a-92f8-a9f50dc832cb\" xlink:type=\"simple\"><rect fill=\"#FEFECE\" filter=\"url(#faf6ayuz9fpbt)\" height=\"58.7422\" id=\"E2\" style=\"stroke: #A80036; stroke-width: 1.5;\" width=\"95\" x=\"334.5\" y=\"127.5\"/><text fill=\"#000000\" font-family=\"sans-serif\" font-size=\"12\" font-style=\"italic\" lengthAdjust=\"spacingAndGlyphs\" textLength=\"93\" x=\"335.5\" y=\"143.6387\">«attribute def»</text><text fill=\"#000000\" font-family=\"sans-serif\" font-size=\"12\" lengthAdjust=\"spacingAndGlyphs\" textLength=\"19\" x=\"372.5\" y=\"157.6074\">Sig</text><line style=\"stroke: #A80036; stroke-width: 1.5;\" x1=\"335.5\" x2=\"428.5\" y1=\"165.4375\" y2=\"165.4375\"/><text fill=\"#000000\" font-family=\"sans-serif\" font-size=\"11\" lengthAdjust=\"spacingAndGlyphs\" textLength=\"6\" x=\"340.5\" y=\"179.6479\">x</text></a><!--MD5=[09b614a08d8cba4a07c9adeb5e0fee81]\n",
       "class E3--><a href=\"psysml:30361623-caf7-482c-9813-174242dd8f3c\" target=\"_top\" title=\"psysml:30361623-caf7-482c-9813-174242dd8f3c\" xlink:actuate=\"onRequest\" xlink:href=\"psysml:30361623-caf7-482c-9813-174242dd8f3c\" xlink:show=\"new\" xlink:title=\"psysml:30361623-caf7-482c-9813-174242dd8f3c\" xlink:type=\"simple\"><rect fill=\"#FEFECE\" filter=\"url(#faf6ayuz9fpbt)\" height=\"45.9375\" id=\"E3\" style=\"stroke: #A80036; stroke-width: 1.5;\" width=\"95\" x=\"204.5\" y=\"134\"/><text fill=\"#000000\" font-family=\"sans-serif\" font-size=\"12\" font-style=\"italic\" lengthAdjust=\"spacingAndGlyphs\" textLength=\"93\" x=\"205.5\" y=\"150.1387\">«attribute def»</text><text fill=\"#000000\" font-family=\"sans-serif\" font-size=\"12\" lengthAdjust=\"spacingAndGlyphs\" textLength=\"22\" x=\"241\" y=\"164.1074\">Exit</text><line style=\"stroke: #A80036; stroke-width: 1.5;\" x1=\"205.5\" x2=\"298.5\" y1=\"171.9375\" y2=\"171.9375\"/></a><!--MD5=[ebbe1d658d1005bcc118a6aa81145e00]\n",
       "class E4--><a href=\"psysml:86d86843-d597-4d6e-917a-885d695bc43d\" target=\"_top\" title=\"psysml:86d86843-d597-4d6e-917a-885d695bc43d\" xlink:actuate=\"onRequest\" xlink:href=\"psysml:86d86843-d597-4d6e-917a-885d695bc43d\" xlink:show=\"new\" xlink:title=\"psysml:86d86843-d597-4d6e-917a-885d695bc43d\" xlink:type=\"simple\"><rect fill=\"#FEFECE\" filter=\"url(#faf6ayuz9fpbt)\" height=\"45.9375\" id=\"E4\" rx=\"10\" ry=\"10\" style=\"stroke: #A80036; stroke-width: 1.5;\" width=\"42\" x=\"127\" y=\"134\"/><text fill=\"#000000\" font-family=\"sans-serif\" font-size=\"12\" font-style=\"italic\" lengthAdjust=\"spacingAndGlyphs\" textLength=\"40\" x=\"128\" y=\"150.1387\">«part»</text><text fill=\"#000000\" font-family=\"sans-serif\" font-size=\"12\" lengthAdjust=\"spacingAndGlyphs\" textLength=\"8\" x=\"144\" y=\"164.1074\">p</text><line style=\"stroke: #A80036; stroke-width: 1.5;\" x1=\"128\" x2=\"168\" y1=\"171.9375\" y2=\"171.9375\"/></a><g id=\"E1.E5\"><a href=\"psysml:6cb3785d-90e3-4021-b607-f0ab9874924c\" target=\"_top\" title=\"psysml:6cb3785d-90e3-4021-b607-f0ab9874924c\" xlink:actuate=\"onRequest\" xlink:href=\"psysml:6cb3785d-90e3-4021-b607-f0ab9874924c\" xlink:show=\"new\" xlink:title=\"psysml:6cb3785d-90e3-4021-b607-f0ab9874924c\" xlink:type=\"simple\"><rect fill=\"#FEFECE\" filter=\"url(#faf6ayuz9fpbt)\" height=\"42.9375\" id=\"E5\" rx=\"10\" ry=\"10\" style=\"stroke: #A80036; stroke-width: 1.5;\" width=\"60\" x=\"32\" y=\"135.5\"/><text fill=\"#000000\" font-family=\"sans-serif\" font-size=\"12\" font-style=\"italic\" lengthAdjust=\"spacingAndGlyphs\" textLength=\"53\" x=\"35.5\" y=\"151.6387\">«action»</text><text fill=\"#000000\" font-family=\"sans-serif\" font-size=\"12\" lengthAdjust=\"spacingAndGlyphs\" textLength=\"20\" x=\"52\" y=\"165.6074\">act</text></a></g><ellipse cx=\"558\" cy=\"157\" fill=\"#000000\" filter=\"url(#faf6ayuz9fpbt)\" rx=\"10\" ry=\"10\" style=\"stroke: none; stroke-width: 1.0;\"/><ellipse cx=\"558\" cy=\"499.5\" fill=\"none\" filter=\"url(#faf6ayuz9fpbt)\" rx=\"10\" ry=\"10\" style=\"stroke: #000000; stroke-width: 1.0;\"/><ellipse cx=\"558.5\" cy=\"500\" fill=\"#000000\" rx=\"6\" ry=\"6\" style=\"stroke: none; stroke-width: 1.0;\"/><g id=\"E1.E6.E7\"><a href=\"psysml:5ea02985-bc8b-4cb1-bb08-c3caa7c881e0\" target=\"_top\" title=\"psysml:5ea02985-bc8b-4cb1-bb08-c3caa7c881e0\" xlink:actuate=\"onRequest\" xlink:href=\"psysml:5ea02985-bc8b-4cb1-bb08-c3caa7c881e0\" xlink:show=\"new\" xlink:title=\"psysml:5ea02985-bc8b-4cb1-bb08-c3caa7c881e0\" xlink:type=\"simple\"><rect fill=\"#FEFECE\" filter=\"url(#faf6ayuz9fpbt)\" height=\"40\" id=\"E7\" rx=\"10\" ry=\"10\" style=\"stroke: #A80036; stroke-width: 1.5;\" width=\"50\" x=\"533\" y=\"247.5\"/><text fill=\"#000000\" font-family=\"sans-serif\" font-size=\"12\" lengthAdjust=\"spacingAndGlyphs\" textLength=\"16\" x=\"550\" y=\"263.6387\">S1</text></a></g><g id=\"E1.E6.E8\"><a href=\"psysml:15193c6f-79c7-4ee2-a2ac-bfb559b7d876\" target=\"_top\" title=\"psysml:15193c6f-79c7-4ee2-a2ac-bfb559b7d876\" xlink:actuate=\"onRequest\" xlink:href=\"psysml:15193c6f-79c7-4ee2-a2ac-bfb559b7d876\" xlink:show=\"new\" xlink:title=\"psysml:15193c6f-79c7-4ee2-a2ac-bfb559b7d876\" xlink:type=\"simple\"><rect fill=\"#FEFECE\" filter=\"url(#faf6ayuz9fpbt)\" height=\"47.9375\" id=\"E8\" rx=\"10\" ry=\"10\" style=\"stroke: #A80036; stroke-width: 1.5;\" width=\"50\" x=\"533\" y=\"364.5\"/><text fill=\"#000000\" font-family=\"sans-serif\" font-size=\"12\" lengthAdjust=\"spacingAndGlyphs\" textLength=\"16\" x=\"550\" y=\"380.6387\">S2</text><line style=\"stroke: #A80036; stroke-width: 1.0;\" x1=\"533\" x2=\"583\" y1=\"388.4688\" y2=\"388.4688\"/><text fill=\"#000000\" font-family=\"sans-serif\" font-size=\"12\" font-weight=\"bold\" lengthAdjust=\"spacingAndGlyphs\" textLength=\"18\" x=\"538\" y=\"401.6074\">do</text><text fill=\"#000000\" font-family=\"sans-serif\" font-size=\"12\" lengthAdjust=\"spacingAndGlyphs\" textLength=\"4\" x=\"556\" y=\"401.6074\">/</text></a></g><!--MD5=[5a531d3a85f3339e6e197084acb48195]\n",
       "link *start*E6 to E7--><a href=\"psysml:50e6b136-bb64-4da5-b9f3-893462631a2b\" target=\"_top\" title=\"psysml:50e6b136-bb64-4da5-b9f3-893462631a2b\" xlink:actuate=\"onRequest\" xlink:href=\"psysml:50e6b136-bb64-4da5-b9f3-893462631a2b\" xlink:show=\"new\" xlink:title=\"psysml:50e6b136-bb64-4da5-b9f3-893462631a2b\" xlink:type=\"simple\"><path d=\"M558,167.25 C558,183.64 558,218.28 558,241.97 \" fill=\"none\" id=\"*start*E6-&gt;E7\" style=\"stroke: #A80036; stroke-width: 1.0;\"/><polygon fill=\"#A80036\" points=\"558,247.15,562,238.15,558,242.15,554,238.15,558,247.15\" style=\"stroke: #A80036; stroke-width: 1.0;\"/></a><!--MD5=[7ec9a8babba89ddcae1318ca9fb3c814]\n",
       "link E8 to *end*E6--><a href=\"psysml:400438d1-4a79-4175-ae6b-80e92b548ca9\" target=\"_top\" title=\"psysml:400438d1-4a79-4175-ae6b-80e92b548ca9\" xlink:actuate=\"onRequest\" xlink:href=\"psysml:400438d1-4a79-4175-ae6b-80e92b548ca9\" xlink:show=\"new\" xlink:title=\"psysml:400438d1-4a79-4175-ae6b-80e92b548ca9\" xlink:type=\"simple\"><path d=\"M558,412.62 C558,434.25 558,465.89 558,484.12 \" fill=\"none\" id=\"E8-&gt;*end*E6\" style=\"stroke: #A80036; stroke-width: 1.0;\"/><polygon fill=\"#A80036\" points=\"558,489.32,562,480.32,558,484.32,554,480.32,558,489.32\" style=\"stroke: #A80036; stroke-width: 1.0;\"/><text fill=\"#000000\" font-family=\"sans-serif\" font-size=\"13\" lengthAdjust=\"spacingAndGlyphs\" textLength=\"23\" x=\"559\" y=\"455.5669\">Exit</text></a><!--MD5=[79bc8f324ef4d02c541433f2e6e513c3]\n",
       "link E7 to E8--><a href=\"psysml:516b9b87-0f3c-4a45-97aa-978805331ddd\" target=\"_top\" title=\"psysml:516b9b87-0f3c-4a45-97aa-978805331ddd\" xlink:actuate=\"onRequest\" xlink:href=\"psysml:516b9b87-0f3c-4a45-97aa-978805331ddd\" xlink:show=\"new\" xlink:title=\"psysml:516b9b87-0f3c-4a45-97aa-978805331ddd\" xlink:type=\"simple\"><path d=\"M532.93,280.38 C518.69,288.62 502.12,301.06 494,317.5 C483.11,339.55 506.72,359.7 528.27,372.66 \" fill=\"none\" id=\"E7-&gt;E8\" style=\"stroke: #A80036; stroke-width: 1.0;\"/><polygon fill=\"#A80036\" points=\"532.83,375.32,527.0682,367.3324,528.5101,372.8024,523.0401,374.2443,532.83,375.32\" style=\"stroke: #A80036; stroke-width: 1.0;\"/><text fill=\"#000000\" font-family=\"sans-serif\" font-size=\"13\" lengthAdjust=\"spacingAndGlyphs\" textLength=\"81\" x=\"495\" y=\"330.5669\">Sig /action D</text></a><!--MD5=[bfa3c8b0d15052fdf50ae9310b491027]\n",
       "link E8 to E7--><a href=\"psysml:0976314e-a9f7-4444-bafa-f8883db64fa0\" target=\"_top\" title=\"psysml:0976314e-a9f7-4444-bafa-f8883db64fa0\" xlink:actuate=\"onRequest\" xlink:href=\"psysml:0976314e-a9f7-4444-bafa-f8883db64fa0\" xlink:show=\"new\" xlink:title=\"psysml:0976314e-a9f7-4444-bafa-f8883db64fa0\" xlink:type=\"simple\"><path d=\"M572.17,364.49 C578.81,350.98 584.56,333.48 581,317.5 C579.1,308.99 575.56,300.22 571.82,292.49 \" fill=\"none\" id=\"E8-&gt;E7\" style=\"stroke: #A80036; stroke-width: 1.0;\"/><polygon fill=\"#A80036\" points=\"569.47,287.82,569.9298,297.6581,571.7118,292.2893,577.0806,294.0713,569.47,287.82\" style=\"stroke: #A80036; stroke-width: 1.0;\"/><text fill=\"#000000\" font-family=\"sans-serif\" font-size=\"13\" lengthAdjust=\"spacingAndGlyphs\" textLength=\"135\" x=\"583\" y=\"330.5669\">Sig [true]/send s to p</text></a><!--MD5=[ce1ea0c7ea8a5a896b15f2521639fc22]\n",
       "@startuml\r\n",
       "skinparam wrapWidth 300\r\n",
       "hide circle\r\n",
       "\r\n",
       "package \"StateTest\" as E1  [[psysml:9c548ee6-d869-4820-b951-32f5a4e72165 ]]  {\r\n",
       "comp def \"Sig\" as E2  <<(T,blue)attribute def>> [[psysml:7a2ca9b4-3a97-4e8a-92f8-a9f50dc832cb ]] {\r\n",
       "x\r\n",
       "}\r\n",
       "comp def \"Exit\" as E3  <<(T,blue)attribute def>> [[psysml:30361623-caf7-482c-9813-174242dd8f3c ]] {\r\n",
       "}\r\n",
       "comp usage \"p\" as E4  <<(T,blue)part>> [[psysml:86d86843-d597-4d6e-917a-885d695bc43d ]] {\r\n",
       "}\r\n",
       "rec usage \"act\" as E5  <<(T,blue)action>> [[psysml:6cb3785d-90e3-4021-b607-f0ab9874924c ]] {\r\n",
       "}\r\n",
       "\r\n",
       "rec def \"S\" as E6  <<(T,blue)state def>> [[psysml:409d967c-2b55-4985-b068-ed253d96c58c ]] {\r\n",
       "rec usage \"S1\" as E7 [[psysml:5ea02985-bc8b-4cb1-bb08-c3caa7c881e0 ]] {\r\n",
       "}\r\n",
       "\r\n",
       "rec usage \"S2\" as E8 [[psysml:15193c6f-79c7-4ee2-a2ac-bfb559b7d876 ]] {\r\n",
       "desc \"S2\" as E8  : **do**/ \r\n",
       "}\r\n",
       "\r\n",
       "[*] - -> E7 [[psysml:50e6b136-bb64-4da5-b9f3-893462631a2b ]] \r\n",
       "E8  - -> [*] [[psysml:400438d1-4a79-4175-ae6b-80e92b548ca9 ]] : Exit \r\n",
       "desc \"S\" as E6  : **entry**/ A\r\n",
       "desc \"S\" as E6  : **do**/ B\r\n",
       "desc \"S\" as E6  : **exit**/ act \r\n",
       "}\r\n",
       "\r\n",
       "E7  - -> E8 [[psysml:516b9b87-0f3c-4a45-97aa-978805331ddd ]] : Sig /action D\r\n",
       "E8  - -> E7 [[psysml:0976314e-a9f7-4444-bafa-f8883db64fa0 ]] : Sig [true]/send s to p\r\n",
       "}\r\n",
       "@enduml\r\n",
       "\n",
       "PlantUML version 1.2020.13(Sat Jun 13 12:26:38 UTC 2020)\n",
       "(EPL source distribution)\n",
       "Java Runtime: OpenJDK Runtime Environment\n",
       "JVM: OpenJDK 64-Bit Server VM\n",
       "Default Encoding: UTF-8\n",
       "Language: en\n",
       "Country: null\n",
       "--></g></svg>"
      ]
     },
     "execution_count": 23,
     "metadata": {},
     "output_type": "execute_result"
    }
   ],
   "source": [
    "%viz --style=\"STDCOLOR\" --view=\"Default\" \"StateTest\""
   ]
  },
  {
   "cell_type": "code",
   "execution_count": 24,
   "id": "incredible-support",
   "metadata": {
    "execution": {
     "iopub.execute_input": "2021-03-26T09:13:53.712411Z",
     "iopub.status.busy": "2021-03-26T09:13:53.711633Z",
     "iopub.status.idle": "2021-03-26T09:13:53.802279Z",
     "shell.execute_reply": "2021-03-26T09:13:53.800834Z"
    }
   },
   "outputs": [
    {
     "data": {
      "image/svg+xml": [
       "<?xml version=\"1.0\" encoding=\"UTF-8\" standalone=\"no\"?><svg xmlns=\"http://www.w3.org/2000/svg\" xmlns:xlink=\"http://www.w3.org/1999/xlink\" contentScriptType=\"application/ecmascript\" contentStyleType=\"text/css\" height=\"471px\" preserveAspectRatio=\"none\" style=\"width:594px;height:471px;\" version=\"1.1\" viewBox=\"0 0 594 471\" width=\"594px\" zoomAndPan=\"magnify\"><defs><filter height=\"300%\" id=\"fbmua6w0tfdes\" width=\"300%\" x=\"-1\" y=\"-1\"><feGaussianBlur result=\"blurOut\" stdDeviation=\"2.0\"/><feColorMatrix in=\"blurOut\" result=\"blurOut2\" type=\"matrix\" values=\"0 0 0 0 0 0 0 0 0 0 0 0 0 0 0 0 0 0 .4 0\"/><feOffset dx=\"4.0\" dy=\"4.0\" in=\"blurOut2\" result=\"blurOut3\"/><feBlend in=\"SourceGraphic\" in2=\"blurOut3\" mode=\"normal\"/></filter></defs><g><!--MD5=[fbc87193dbaf4d95561dea2c320d4a47]\n",
       "cluster E1--><a href=\"psysml:9c548ee6-d869-4820-b951-32f5a4e72165\" target=\"_top\" title=\"psysml:9c548ee6-d869-4820-b951-32f5a4e72165\" xlink:actuate=\"onRequest\" xlink:href=\"psysml:9c548ee6-d869-4820-b951-32f5a4e72165\" xlink:show=\"new\" xlink:title=\"psysml:9c548ee6-d869-4820-b951-32f5a4e72165\" xlink:type=\"simple\"><polygon fill=\"#FFFFFF\" filter=\"url(#fbmua6w0tfdes)\" points=\"16,6,98,6,105,28.2969,572,28.2969,572,459,16,459,16,6\" style=\"stroke: #000000; stroke-width: 1.5;\"/><line style=\"stroke: #000000; stroke-width: 1.5;\" x1=\"16\" x2=\"105\" y1=\"28.2969\" y2=\"28.2969\"/><text fill=\"#000000\" font-family=\"sans-serif\" font-size=\"14\" font-weight=\"bold\" lengthAdjust=\"spacingAndGlyphs\" textLength=\"76\" x=\"20\" y=\"20.9951\">StateTest</text></a><!--MD5=[b4997ac47864f28c2f74865a473b2911]\n",
       "class E2--><a href=\"psysml:7a2ca9b4-3a97-4e8a-92f8-a9f50dc832cb\" target=\"_top\" title=\"psysml:7a2ca9b4-3a97-4e8a-92f8-a9f50dc832cb\" xlink:actuate=\"onRequest\" xlink:href=\"psysml:7a2ca9b4-3a97-4e8a-92f8-a9f50dc832cb\" xlink:show=\"new\" xlink:title=\"psysml:7a2ca9b4-3a97-4e8a-92f8-a9f50dc832cb\" xlink:type=\"simple\"><rect fill=\"#FEFECE\" filter=\"url(#fbmua6w0tfdes)\" height=\"58.7422\" id=\"E2\" style=\"stroke: #A80036; stroke-width: 1.5;\" width=\"95\" x=\"460.5\" y=\"91.5\"/><text fill=\"#000000\" font-family=\"sans-serif\" font-size=\"12\" font-style=\"italic\" lengthAdjust=\"spacingAndGlyphs\" textLength=\"93\" x=\"461.5\" y=\"107.6387\">«attribute def»</text><text fill=\"#000000\" font-family=\"sans-serif\" font-size=\"12\" lengthAdjust=\"spacingAndGlyphs\" textLength=\"19\" x=\"498.5\" y=\"121.6074\">Sig</text><line style=\"stroke: #A80036; stroke-width: 1.5;\" x1=\"461.5\" x2=\"554.5\" y1=\"129.4375\" y2=\"129.4375\"/><text fill=\"#000000\" font-family=\"sans-serif\" font-size=\"11\" lengthAdjust=\"spacingAndGlyphs\" textLength=\"6\" x=\"466.5\" y=\"143.6479\">x</text></a><!--MD5=[09b614a08d8cba4a07c9adeb5e0fee81]\n",
       "class E3--><a href=\"psysml:30361623-caf7-482c-9813-174242dd8f3c\" target=\"_top\" title=\"psysml:30361623-caf7-482c-9813-174242dd8f3c\" xlink:actuate=\"onRequest\" xlink:href=\"psysml:30361623-caf7-482c-9813-174242dd8f3c\" xlink:show=\"new\" xlink:title=\"psysml:30361623-caf7-482c-9813-174242dd8f3c\" xlink:type=\"simple\"><rect fill=\"#FEFECE\" filter=\"url(#fbmua6w0tfdes)\" height=\"45.9375\" id=\"E3\" style=\"stroke: #A80036; stroke-width: 1.5;\" width=\"95\" x=\"330.5\" y=\"98\"/><text fill=\"#000000\" font-family=\"sans-serif\" font-size=\"12\" font-style=\"italic\" lengthAdjust=\"spacingAndGlyphs\" textLength=\"93\" x=\"331.5\" y=\"114.1387\">«attribute def»</text><text fill=\"#000000\" font-family=\"sans-serif\" font-size=\"12\" lengthAdjust=\"spacingAndGlyphs\" textLength=\"22\" x=\"367\" y=\"128.1074\">Exit</text><line style=\"stroke: #A80036; stroke-width: 1.5;\" x1=\"331.5\" x2=\"424.5\" y1=\"135.9375\" y2=\"135.9375\"/></a><!--MD5=[ebbe1d658d1005bcc118a6aa81145e00]\n",
       "class E4--><a href=\"psysml:86d86843-d597-4d6e-917a-885d695bc43d\" target=\"_top\" title=\"psysml:86d86843-d597-4d6e-917a-885d695bc43d\" xlink:actuate=\"onRequest\" xlink:href=\"psysml:86d86843-d597-4d6e-917a-885d695bc43d\" xlink:show=\"new\" xlink:title=\"psysml:86d86843-d597-4d6e-917a-885d695bc43d\" xlink:type=\"simple\"><rect fill=\"#FEFECE\" filter=\"url(#fbmua6w0tfdes)\" height=\"45.9375\" id=\"E4\" rx=\"10\" ry=\"10\" style=\"stroke: #A80036; stroke-width: 1.5;\" width=\"42\" x=\"253\" y=\"98\"/><text fill=\"#000000\" font-family=\"sans-serif\" font-size=\"12\" font-style=\"italic\" lengthAdjust=\"spacingAndGlyphs\" textLength=\"40\" x=\"254\" y=\"114.1387\">«part»</text><text fill=\"#000000\" font-family=\"sans-serif\" font-size=\"12\" lengthAdjust=\"spacingAndGlyphs\" textLength=\"8\" x=\"270\" y=\"128.1074\">p</text><line style=\"stroke: #A80036; stroke-width: 1.5;\" x1=\"254\" x2=\"294\" y1=\"135.9375\" y2=\"135.9375\"/></a><!--MD5=[270fce915f116d4de14055a7c1d9a0f3]\n",
       "class E5--><a href=\"psysml:6cb3785d-90e3-4021-b607-f0ab9874924c\" target=\"_top\" title=\"psysml:6cb3785d-90e3-4021-b607-f0ab9874924c\" xlink:actuate=\"onRequest\" xlink:href=\"psysml:6cb3785d-90e3-4021-b607-f0ab9874924c\" xlink:show=\"new\" xlink:title=\"psysml:6cb3785d-90e3-4021-b607-f0ab9874924c\" xlink:type=\"simple\"><rect fill=\"#FEFECE\" filter=\"url(#fbmua6w0tfdes)\" height=\"45.9375\" id=\"E5\" rx=\"10\" ry=\"10\" style=\"stroke: #A80036; stroke-width: 1.5;\" width=\"55\" x=\"162.5\" y=\"98\"/><text fill=\"#000000\" font-family=\"sans-serif\" font-size=\"12\" font-style=\"italic\" lengthAdjust=\"spacingAndGlyphs\" textLength=\"53\" x=\"163.5\" y=\"114.1387\">«action»</text><text fill=\"#000000\" font-family=\"sans-serif\" font-size=\"12\" lengthAdjust=\"spacingAndGlyphs\" textLength=\"20\" x=\"180\" y=\"128.1074\">act</text><line style=\"stroke: #A80036; stroke-width: 1.5;\" x1=\"163.5\" x2=\"216.5\" y1=\"135.9375\" y2=\"135.9375\"/></a><!--MD5=[60a26617385b1d2d0262a64233df1f8d]\n",
       "class E6--><a href=\"psysml:409d967c-2b55-4985-b068-ed253d96c58c\" target=\"_top\" title=\"psysml:409d967c-2b55-4985-b068-ed253d96c58c\" xlink:actuate=\"onRequest\" xlink:href=\"psysml:409d967c-2b55-4985-b068-ed253d96c58c\" xlink:show=\"new\" xlink:title=\"psysml:409d967c-2b55-4985-b068-ed253d96c58c\" xlink:type=\"simple\"><rect fill=\"#FEFECE\" filter=\"url(#fbmua6w0tfdes)\" height=\"160.375\" id=\"E6\" style=\"stroke: #A80036; stroke-width: 1.5;\" width=\"95\" x=\"32.5\" y=\"41\"/><text fill=\"#000000\" font-family=\"sans-serif\" font-size=\"12\" font-style=\"italic\" lengthAdjust=\"spacingAndGlyphs\" textLength=\"71\" x=\"44.5\" y=\"57.1387\">«state def»</text><text fill=\"#000000\" font-family=\"sans-serif\" font-size=\"12\" lengthAdjust=\"spacingAndGlyphs\" textLength=\"8\" x=\"76\" y=\"71.1074\">S</text><line style=\"stroke: #A80036; stroke-width: 1.5;\" x1=\"33.5\" x2=\"126.5\" y1=\"78.9375\" y2=\"78.9375\"/><text fill=\"#000000\" font-family=\"sans-serif\" font-size=\"11\" lengthAdjust=\"spacingAndGlyphs\" textLength=\"17\" x=\"38.5\" y=\"109.9526\">act</text><text fill=\"#000000\" font-family=\"sans-serif\" font-size=\"11\" lengthAdjust=\"spacingAndGlyphs\" textLength=\"7\" x=\"38.5\" y=\"122.7573\">A</text><text fill=\"#000000\" font-family=\"sans-serif\" font-size=\"11\" lengthAdjust=\"spacingAndGlyphs\" textLength=\"8\" x=\"38.5\" y=\"135.562\">B</text><line style=\"stroke: #A80036; stroke-width: 1.0;\" x1=\"33.5\" x2=\"36.5\" y1=\"93.3398\" y2=\"93.3398\"/><text fill=\"#000000\" font-family=\"sans-serif\" font-size=\"11\" lengthAdjust=\"spacingAndGlyphs\" textLength=\"87\" x=\"36.5\" y=\"96.6479\">performActions</text><line style=\"stroke: #A80036; stroke-width: 1.0;\" x1=\"123.5\" x2=\"126.5\" y1=\"93.3398\" y2=\"93.3398\"/><text fill=\"#000000\" font-family=\"sans-serif\" font-size=\"11\" lengthAdjust=\"spacingAndGlyphs\" textLength=\"15\" x=\"38.5\" y=\"165.1714\">S1</text><line style=\"stroke: #A80036; stroke-width: 1.0;\" x1=\"33.5\" x2=\"62\" y1=\"148.5586\" y2=\"148.5586\"/><text fill=\"#000000\" font-family=\"sans-serif\" font-size=\"11\" lengthAdjust=\"spacingAndGlyphs\" textLength=\"36\" x=\"62\" y=\"151.8667\">states</text><line style=\"stroke: #A80036; stroke-width: 1.0;\" x1=\"98\" x2=\"126.5\" y1=\"148.5586\" y2=\"148.5586\"/><text fill=\"#000000\" font-family=\"sans-serif\" font-size=\"11\" lengthAdjust=\"spacingAndGlyphs\" textLength=\"7\" x=\"38.5\" y=\"194.7808\">T</text><line style=\"stroke: #A80036; stroke-width: 1.0;\" x1=\"33.5\" x2=\"49.5\" y1=\"178.168\" y2=\"178.168\"/><text fill=\"#000000\" font-family=\"sans-serif\" font-size=\"11\" lengthAdjust=\"spacingAndGlyphs\" textLength=\"61\" x=\"49.5\" y=\"181.4761\">transitions</text><line style=\"stroke: #A80036; stroke-width: 1.0;\" x1=\"110.5\" x2=\"126.5\" y1=\"178.168\" y2=\"178.168\"/></a><!--MD5=[1dd1bfd58a279cf63c5f349dbc8fc6a1]\n",
       "class E11--><a href=\"psysml:15193c6f-79c7-4ee2-a2ac-bfb559b7d876\" target=\"_top\" title=\"psysml:15193c6f-79c7-4ee2-a2ac-bfb559b7d876\" xlink:actuate=\"onRequest\" xlink:href=\"psysml:15193c6f-79c7-4ee2-a2ac-bfb559b7d876\" xlink:show=\"new\" xlink:title=\"psysml:15193c6f-79c7-4ee2-a2ac-bfb559b7d876\" xlink:type=\"simple\"><rect fill=\"#FEFECE\" filter=\"url(#fbmua6w0tfdes)\" height=\"45.9375\" id=\"E11\" rx=\"10\" ry=\"10\" style=\"stroke: #A80036; stroke-width: 1.5;\" width=\"49\" x=\"55.5\" y=\"261\"/><text fill=\"#000000\" font-family=\"sans-serif\" font-size=\"12\" font-style=\"italic\" lengthAdjust=\"spacingAndGlyphs\" textLength=\"47\" x=\"56.5\" y=\"277.1387\">«state»</text><text fill=\"#000000\" font-family=\"sans-serif\" font-size=\"12\" lengthAdjust=\"spacingAndGlyphs\" textLength=\"16\" x=\"72\" y=\"291.1074\">S2</text><line style=\"stroke: #A80036; stroke-width: 1.5;\" x1=\"56.5\" x2=\"103.5\" y1=\"298.9375\" y2=\"298.9375\"/></a><!--MD5=[49a0ec8f00dab7302a31f22d0f0fe584]\n",
       "class E12--><a href=\"psysml:02a264b3-17c4-490c-b5b1-f49bb5aa02c2\" target=\"_top\" title=\"psysml:02a264b3-17c4-490c-b5b1-f49bb5aa02c2\" xlink:actuate=\"onRequest\" xlink:href=\"psysml:02a264b3-17c4-490c-b5b1-f49bb5aa02c2\" xlink:show=\"new\" xlink:title=\"psysml:02a264b3-17c4-490c-b5b1-f49bb5aa02c2\" xlink:type=\"simple\"><rect fill=\"#FEFECE\" filter=\"url(#fbmua6w0tfdes)\" height=\"75.5469\" id=\"E12\" rx=\"10\" ry=\"10\" style=\"stroke: #A80036; stroke-width: 1.5;\" width=\"90\" x=\"35\" y=\"367\"/><text fill=\"#000000\" font-family=\"sans-serif\" font-size=\"12\" font-style=\"italic\" lengthAdjust=\"spacingAndGlyphs\" textLength=\"88\" x=\"36\" y=\"383.1387\">«send action»</text><text fill=\"#000000\" font-family=\"sans-serif\" font-size=\"12\" lengthAdjust=\"spacingAndGlyphs\" textLength=\"55\" x=\"52.5\" y=\"397.1074\">doAction</text><line style=\"stroke: #A80036; stroke-width: 1.5;\" x1=\"36\" x2=\"124\" y1=\"404.9375\" y2=\"404.9375\"/><text fill=\"#000000\" font-family=\"sans-serif\" font-size=\"11\" lengthAdjust=\"spacingAndGlyphs\" textLength=\"25\" x=\"41\" y=\"435.9526\">item</text><line style=\"stroke: #A80036; stroke-width: 1.0;\" x1=\"36\" x2=\"42.5\" y1=\"419.3398\" y2=\"419.3398\"/><text fill=\"#000000\" font-family=\"sans-serif\" font-size=\"11\" lengthAdjust=\"spacingAndGlyphs\" textLength=\"75\" x=\"42.5\" y=\"422.6479\">itemFeatures</text><line style=\"stroke: #A80036; stroke-width: 1.0;\" x1=\"117.5\" x2=\"124\" y1=\"419.3398\" y2=\"419.3398\"/></a><!--MD5=[1f5f03483f7de0d5b3680a7f6650997f]\n",
       "reverse link E6 to E11--><a href=\"psysml:15193c6f-79c7-4ee2-a2ac-bfb559b7d876\" target=\"_top\" title=\"psysml:15193c6f-79c7-4ee2-a2ac-bfb559b7d876\" xlink:actuate=\"onRequest\" xlink:href=\"psysml:15193c6f-79c7-4ee2-a2ac-bfb559b7d876\" xlink:show=\"new\" xlink:title=\"psysml:15193c6f-79c7-4ee2-a2ac-bfb559b7d876\" xlink:type=\"simple\"><path d=\"M80,214.17 C80,231.58 80,248.25 80,260.82 \" fill=\"none\" id=\"E6&lt;-E11\" style=\"stroke: #A80036; stroke-width: 1.0;\"/><polygon fill=\"#A80036\" points=\"80,201.09,76.0066,207.0944,80.0132,213.09,84.0066,207.0856,80,201.09\" style=\"stroke: #A80036; stroke-width: 1.0;\"/></a><!--MD5=[94adabc162ce7e41b39f13be14fbaeb3]\n",
       "reverse link E11 to E12--><a href=\"psysml:02a264b3-17c4-490c-b5b1-f49bb5aa02c2\" target=\"_top\" title=\"psysml:02a264b3-17c4-490c-b5b1-f49bb5aa02c2\" xlink:actuate=\"onRequest\" xlink:href=\"psysml:02a264b3-17c4-490c-b5b1-f49bb5aa02c2\" xlink:show=\"new\" xlink:title=\"psysml:02a264b3-17c4-490c-b5b1-f49bb5aa02c2\" xlink:type=\"simple\"><path d=\"M80,320.23 C80,334.82 80,351.76 80,366.58 \" fill=\"none\" id=\"E11&lt;-E12\" style=\"stroke: #A80036; stroke-width: 1.0;\"/><polygon fill=\"#FFFFFF\" points=\"80,307.1,76,313.1,80,319.1,84,313.1,80,307.1\" style=\"stroke: #A80036; stroke-width: 1.0;\"/></a><!--MD5=[e6a733e2710db8080c1b712efb60b5c4]\n",
       "@startuml\r\n",
       "skinparam wrapWidth 300\r\n",
       "hide circle\r\n",
       "\r\n",
       "package \"StateTest\" as E1  [[psysml:9c548ee6-d869-4820-b951-32f5a4e72165 ]]  {\r\n",
       "comp def \"Sig\" as E2  <<(T,blue)attribute def>> [[psysml:7a2ca9b4-3a97-4e8a-92f8-a9f50dc832cb ]] {\r\n",
       "x\r\n",
       "}\r\n",
       "comp def \"Exit\" as E3  <<(T,blue)attribute def>> [[psysml:30361623-caf7-482c-9813-174242dd8f3c ]] {\r\n",
       "}\r\n",
       "comp usage \"p\" as E4  <<(T,blue)part>> [[psysml:86d86843-d597-4d6e-917a-885d695bc43d ]] {\r\n",
       "}\r\n",
       "comp usage \"act\" as E5  <<(T,blue)action>> [[psysml:6cb3785d-90e3-4021-b607-f0ab9874924c ]] {\r\n",
       "}\r\n",
       "comp def \"S\" as E6  <<(T,blue)state def>> [[psysml:409d967c-2b55-4985-b068-ed253d96c58c ]] {\r\n",
       "- - performActions - -\r\n",
       "act\r\n",
       "A\r\n",
       "B\r\n",
       "- - states - -\r\n",
       "S1\r\n",
       "- - transitions - -\r\n",
       "T\r\n",
       "}\r\n",
       "comp usage \"S2\" as E11  <<(T,blue)state>> [[psysml:15193c6f-79c7-4ee2-a2ac-bfb559b7d876 ]] {\r\n",
       "}\r\n",
       "comp usage \"doAction\" as E12 <<send action>> [[psysml:02a264b3-17c4-490c-b5b1-f49bb5aa02c2 ]] {\r\n",
       "- - itemFeatures - -\r\n",
       "item\r\n",
       "}\r\n",
       "E6 *- - E11 [[psysml:15193c6f-79c7-4ee2-a2ac-bfb559b7d876 ]] \r\n",
       "E11 o- - E12 [[psysml:02a264b3-17c4-490c-b5b1-f49bb5aa02c2 ]] \r\n",
       "}\r\n",
       "@enduml\r\n",
       "\n",
       "PlantUML version 1.2020.13(Sat Jun 13 12:26:38 UTC 2020)\n",
       "(EPL source distribution)\n",
       "Java Runtime: OpenJDK Runtime Environment\n",
       "JVM: OpenJDK 64-Bit Server VM\n",
       "Default Encoding: UTF-8\n",
       "Language: en\n",
       "Country: null\n",
       "--></g></svg>"
      ]
     },
     "execution_count": 24,
     "metadata": {},
     "output_type": "execute_result"
    }
   ],
   "source": [
    "%viz --style=\"STDCOLOR\" --view=\"Tree\" \"StateTest\""
   ]
  },
  {
   "cell_type": "code",
   "execution_count": 25,
   "id": "tutorial-independence",
   "metadata": {
    "execution": {
     "iopub.execute_input": "2021-03-26T09:13:53.852546Z",
     "iopub.status.busy": "2021-03-26T09:13:53.852158Z",
     "iopub.status.idle": "2021-03-26T09:13:53.880103Z",
     "shell.execute_reply": "2021-03-26T09:13:53.878608Z"
    }
   },
   "outputs": [
    {
     "data": {
      "image/svg+xml": [
       "<?xml version=\"1.0\" encoding=\"UTF-8\" standalone=\"no\"?><svg xmlns=\"http://www.w3.org/2000/svg\" xmlns:xlink=\"http://www.w3.org/1999/xlink\" contentScriptType=\"application/ecmascript\" contentStyleType=\"text/css\" height=\"483px\" preserveAspectRatio=\"none\" style=\"width:353px;height:483px;\" version=\"1.1\" viewBox=\"0 0 353 483\" width=\"353px\" zoomAndPan=\"magnify\"><defs><filter height=\"300%\" id=\"fp1rkf0yxt87v\" width=\"300%\" x=\"-1\" y=\"-1\"><feGaussianBlur result=\"blurOut\" stdDeviation=\"2.0\"/><feColorMatrix in=\"blurOut\" result=\"blurOut2\" type=\"matrix\" values=\"0 0 0 0 0 0 0 0 0 0 0 0 0 0 0 0 0 0 .4 0\"/><feOffset dx=\"4.0\" dy=\"4.0\" in=\"blurOut2\" result=\"blurOut3\"/><feBlend in=\"SourceGraphic\" in2=\"blurOut3\" mode=\"normal\"/></filter></defs><g><!--MD5=[fbc87193dbaf4d95561dea2c320d4a47]\n",
       "cluster E1--><a href=\"psysml:409d967c-2b55-4985-b068-ed253d96c58c\" target=\"_top\" title=\"psysml:409d967c-2b55-4985-b068-ed253d96c58c\" xlink:actuate=\"onRequest\" xlink:href=\"psysml:409d967c-2b55-4985-b068-ed253d96c58c\" xlink:show=\"new\" xlink:title=\"psysml:409d967c-2b55-4985-b068-ed253d96c58c\" xlink:type=\"simple\"><rect fill=\"#FFFFFF\" filter=\"url(#fp1rkf0yxt87v)\" height=\"457\" id=\"E1\" style=\"stroke: #A80036; stroke-width: 1.5;\" width=\"327\" x=\"7\" y=\"7\"/><rect fill=\"#FEFECE\" height=\"37.9375\" style=\"stroke: #A80036; stroke-width: 1.5;\" width=\"327\" x=\"7\" y=\"7\"/><text fill=\"#000000\" font-family=\"sans-serif\" font-size=\"12\" font-style=\"italic\" lengthAdjust=\"spacingAndGlyphs\" textLength=\"71\" x=\"135\" y=\"23.1387\">«state def»</text><text fill=\"#000000\" font-family=\"sans-serif\" font-size=\"12\" lengthAdjust=\"spacingAndGlyphs\" textLength=\"8\" x=\"166.5\" y=\"37.1074\">S</text><line style=\"stroke: #A80036; stroke-width: 1.0;\" x1=\"7\" x2=\"334\" y1=\"90.8438\" y2=\"90.8438\"/><text fill=\"#000000\" font-family=\"sans-serif\" font-size=\"12\" font-weight=\"bold\" lengthAdjust=\"spacingAndGlyphs\" textLength=\"38\" x=\"12\" y=\"58.0762\">entry</text><text fill=\"#000000\" font-family=\"sans-serif\" font-size=\"12\" lengthAdjust=\"spacingAndGlyphs\" textLength=\"16\" x=\"50\" y=\"58.0762\">/ A</text><text fill=\"#000000\" font-family=\"sans-serif\" font-size=\"12\" font-weight=\"bold\" lengthAdjust=\"spacingAndGlyphs\" textLength=\"18\" x=\"12\" y=\"72.0449\">do</text><text fill=\"#000000\" font-family=\"sans-serif\" font-size=\"12\" lengthAdjust=\"spacingAndGlyphs\" textLength=\"16\" x=\"30\" y=\"72.0449\">/ B</text><text fill=\"#000000\" font-family=\"sans-serif\" font-size=\"12\" font-weight=\"bold\" lengthAdjust=\"spacingAndGlyphs\" textLength=\"26\" x=\"12\" y=\"86.0137\">exit</text><text fill=\"#000000\" font-family=\"sans-serif\" font-size=\"12\" lengthAdjust=\"spacingAndGlyphs\" textLength=\"28\" x=\"38\" y=\"86.0137\">/ act</text></a><ellipse cx=\"119\" cy=\"115\" fill=\"#000000\" filter=\"url(#fp1rkf0yxt87v)\" rx=\"10\" ry=\"10\" style=\"stroke: none; stroke-width: 1.0;\"/><ellipse cx=\"119\" cy=\"438\" fill=\"none\" filter=\"url(#fp1rkf0yxt87v)\" rx=\"10\" ry=\"10\" style=\"stroke: #000000; stroke-width: 1.0;\"/><ellipse cx=\"119.5\" cy=\"438.5\" fill=\"#000000\" rx=\"6\" ry=\"6\" style=\"stroke: none; stroke-width: 1.0;\"/><g id=\"E1.E2\"><a href=\"psysml:5ea02985-bc8b-4cb1-bb08-c3caa7c881e0\" target=\"_top\" title=\"psysml:5ea02985-bc8b-4cb1-bb08-c3caa7c881e0\" xlink:actuate=\"onRequest\" xlink:href=\"psysml:5ea02985-bc8b-4cb1-bb08-c3caa7c881e0\" xlink:show=\"new\" xlink:title=\"psysml:5ea02985-bc8b-4cb1-bb08-c3caa7c881e0\" xlink:type=\"simple\"><rect fill=\"#FEFECE\" filter=\"url(#fp1rkf0yxt87v)\" height=\"40\" id=\"E2\" rx=\"10\" ry=\"10\" style=\"stroke: #A80036; stroke-width: 1.5;\" width=\"50\" x=\"94\" y=\"186\"/><text fill=\"#000000\" font-family=\"sans-serif\" font-size=\"12\" lengthAdjust=\"spacingAndGlyphs\" textLength=\"16\" x=\"111\" y=\"202.1387\">S1</text></a></g><g id=\"E1.E3\"><a href=\"psysml:15193c6f-79c7-4ee2-a2ac-bfb559b7d876\" target=\"_top\" title=\"psysml:15193c6f-79c7-4ee2-a2ac-bfb559b7d876\" xlink:actuate=\"onRequest\" xlink:href=\"psysml:15193c6f-79c7-4ee2-a2ac-bfb559b7d876\" xlink:show=\"new\" xlink:title=\"psysml:15193c6f-79c7-4ee2-a2ac-bfb559b7d876\" xlink:type=\"simple\"><rect fill=\"#FEFECE\" filter=\"url(#fp1rkf0yxt87v)\" height=\"47.9375\" id=\"E3\" rx=\"10\" ry=\"10\" style=\"stroke: #A80036; stroke-width: 1.5;\" width=\"50\" x=\"94\" y=\"303\"/><text fill=\"#000000\" font-family=\"sans-serif\" font-size=\"12\" lengthAdjust=\"spacingAndGlyphs\" textLength=\"16\" x=\"111\" y=\"319.1387\">S2</text><line style=\"stroke: #A80036; stroke-width: 1.0;\" x1=\"94\" x2=\"144\" y1=\"326.9688\" y2=\"326.9688\"/><text fill=\"#000000\" font-family=\"sans-serif\" font-size=\"12\" font-weight=\"bold\" lengthAdjust=\"spacingAndGlyphs\" textLength=\"18\" x=\"99\" y=\"340.1074\">do</text><text fill=\"#000000\" font-family=\"sans-serif\" font-size=\"12\" lengthAdjust=\"spacingAndGlyphs\" textLength=\"4\" x=\"117\" y=\"340.1074\">/</text></a></g><!--MD5=[cff944eb183b832d446717a4e202d613]\n",
       "link *start*E1 to E2--><a href=\"psysml:50e6b136-bb64-4da5-b9f3-893462631a2b\" target=\"_top\" title=\"psysml:50e6b136-bb64-4da5-b9f3-893462631a2b\" xlink:actuate=\"onRequest\" xlink:href=\"psysml:50e6b136-bb64-4da5-b9f3-893462631a2b\" xlink:show=\"new\" xlink:title=\"psysml:50e6b136-bb64-4da5-b9f3-893462631a2b\" xlink:type=\"simple\"><path d=\"M119,125.19 C119,138.18 119,162.38 119,180.73 \" fill=\"none\" id=\"*start*E1-&gt;E2\" style=\"stroke: #A80036; stroke-width: 1.0;\"/><polygon fill=\"#A80036\" points=\"119,185.74,123,176.74,119,180.74,115,176.74,119,185.74\" style=\"stroke: #A80036; stroke-width: 1.0;\"/></a><!--MD5=[9ee7afa76ca8c509b3d216624c3a9893]\n",
       "link E3 to *end*E1--><a href=\"psysml:400438d1-4a79-4175-ae6b-80e92b548ca9\" target=\"_top\" title=\"psysml:400438d1-4a79-4175-ae6b-80e92b548ca9\" xlink:actuate=\"onRequest\" xlink:href=\"psysml:400438d1-4a79-4175-ae6b-80e92b548ca9\" xlink:show=\"new\" xlink:title=\"psysml:400438d1-4a79-4175-ae6b-80e92b548ca9\" xlink:type=\"simple\"><path d=\"M119,351.12 C119,372.75 119,404.39 119,422.62 \" fill=\"none\" id=\"E3-&gt;*end*E1\" style=\"stroke: #A80036; stroke-width: 1.0;\"/><polygon fill=\"#A80036\" points=\"119,427.82,123,418.82,119,422.82,115,418.82,119,427.82\" style=\"stroke: #A80036; stroke-width: 1.0;\"/><text fill=\"#000000\" font-family=\"sans-serif\" font-size=\"13\" lengthAdjust=\"spacingAndGlyphs\" textLength=\"23\" x=\"120\" y=\"394.0669\">Exit</text></a><!--MD5=[2720a5a1f2c3fca2055b230370638851]\n",
       "link E2 to E3--><a href=\"psysml:516b9b87-0f3c-4a45-97aa-978805331ddd\" target=\"_top\" title=\"psysml:516b9b87-0f3c-4a45-97aa-978805331ddd\" xlink:actuate=\"onRequest\" xlink:href=\"psysml:516b9b87-0f3c-4a45-97aa-978805331ddd\" xlink:show=\"new\" xlink:title=\"psysml:516b9b87-0f3c-4a45-97aa-978805331ddd\" xlink:type=\"simple\"><path d=\"M93.93,218.88 C79.69,227.12 63.12,239.56 55,256 C44.11,278.05 67.72,298.2 89.27,311.16 \" fill=\"none\" id=\"E2-&gt;E3\" style=\"stroke: #A80036; stroke-width: 1.0;\"/><polygon fill=\"#A80036\" points=\"93.83,313.82,88.0682,305.8324,89.5101,311.3024,84.0401,312.7443,93.83,313.82\" style=\"stroke: #A80036; stroke-width: 1.0;\"/><text fill=\"#000000\" font-family=\"sans-serif\" font-size=\"13\" lengthAdjust=\"spacingAndGlyphs\" textLength=\"81\" x=\"56\" y=\"269.0669\">Sig /action D</text></a><!--MD5=[05d275557350bfb9b23a4ef7222b4c39]\n",
       "link E3 to E2--><a href=\"psysml:0976314e-a9f7-4444-bafa-f8883db64fa0\" target=\"_top\" title=\"psysml:0976314e-a9f7-4444-bafa-f8883db64fa0\" xlink:actuate=\"onRequest\" xlink:href=\"psysml:0976314e-a9f7-4444-bafa-f8883db64fa0\" xlink:show=\"new\" xlink:title=\"psysml:0976314e-a9f7-4444-bafa-f8883db64fa0\" xlink:type=\"simple\"><path d=\"M133.17,302.99 C139.81,289.48 145.56,271.98 142,256 C140.1,247.49 136.56,238.72 132.82,230.99 \" fill=\"none\" id=\"E3-&gt;E2\" style=\"stroke: #A80036; stroke-width: 1.0;\"/><polygon fill=\"#A80036\" points=\"130.47,226.32,130.9298,236.1581,132.7118,230.7893,138.0806,232.5713,130.47,226.32\" style=\"stroke: #A80036; stroke-width: 1.0;\"/><text fill=\"#000000\" font-family=\"sans-serif\" font-size=\"13\" lengthAdjust=\"spacingAndGlyphs\" textLength=\"135\" x=\"144\" y=\"269.0669\">Sig [true]/send s to p</text></a><!--MD5=[c66bb031a2c1e368aa19280cceb1038b]\n",
       "@startuml\r\n",
       "skinparam wrapWidth 300\r\n",
       "hide circle\r\n",
       "\r\n",
       "rec def \"S\" as E1  <<(T,blue)state def>> [[psysml:409d967c-2b55-4985-b068-ed253d96c58c ]] {\r\n",
       "rec usage \"S1\" as E2 [[psysml:5ea02985-bc8b-4cb1-bb08-c3caa7c881e0 ]] {\r\n",
       "}\r\n",
       "\r\n",
       "rec usage \"S2\" as E3 [[psysml:15193c6f-79c7-4ee2-a2ac-bfb559b7d876 ]] {\r\n",
       "desc \"S2\" as E3  : **do**/ \r\n",
       "}\r\n",
       "\r\n",
       "[*] - -> E2 [[psysml:50e6b136-bb64-4da5-b9f3-893462631a2b ]] \r\n",
       "E3  - -> [*] [[psysml:400438d1-4a79-4175-ae6b-80e92b548ca9 ]] : Exit \r\n",
       "desc \"S\" as E1  : **entry**/ A\r\n",
       "desc \"S\" as E1  : **do**/ B\r\n",
       "desc \"S\" as E1  : **exit**/ act \r\n",
       "}\r\n",
       "\r\n",
       "E2  - -> E3 [[psysml:516b9b87-0f3c-4a45-97aa-978805331ddd ]] : Sig /action D\r\n",
       "E3  - -> E2 [[psysml:0976314e-a9f7-4444-bafa-f8883db64fa0 ]] : Sig [true]/send s to p\r\n",
       "@enduml\r\n",
       "\n",
       "PlantUML version 1.2020.13(Sat Jun 13 12:26:38 UTC 2020)\n",
       "(EPL source distribution)\n",
       "Java Runtime: OpenJDK Runtime Environment\n",
       "JVM: OpenJDK 64-Bit Server VM\n",
       "Default Encoding: UTF-8\n",
       "Language: en\n",
       "Country: null\n",
       "--></g></svg>"
      ]
     },
     "execution_count": 25,
     "metadata": {},
     "output_type": "execute_result"
    }
   ],
   "source": [
    "%viz --style=\"STDCOLOR\" --view=\"State\" \"StateTest\""
   ]
  },
  {
   "cell_type": "code",
   "execution_count": 26,
   "id": "designing-leader",
   "metadata": {
    "execution": {
     "iopub.execute_input": "2021-03-26T09:13:53.930368Z",
     "iopub.status.busy": "2021-03-26T09:13:53.929766Z",
     "iopub.status.idle": "2021-03-26T09:13:53.952289Z",
     "shell.execute_reply": "2021-03-26T09:13:53.950758Z"
    }
   },
   "outputs": [
    {
     "data": {
      "image/svg+xml": [
       "<?xml version=\"1.0\" encoding=\"UTF-8\" standalone=\"no\"?><svg xmlns=\"http://www.w3.org/2000/svg\" xmlns:xlink=\"http://www.w3.org/1999/xlink\" contentScriptType=\"application/ecmascript\" contentStyleType=\"text/css\" height=\"123px\" preserveAspectRatio=\"none\" style=\"width:728px;height:123px;\" version=\"1.1\" viewBox=\"0 0 728 123\" width=\"728px\" zoomAndPan=\"magnify\"><defs><filter height=\"300%\" id=\"f1gdlkoh18dfay\" width=\"300%\" x=\"-1\" y=\"-1\"><feGaussianBlur result=\"blurOut\" stdDeviation=\"2.0\"/><feColorMatrix in=\"blurOut\" result=\"blurOut2\" type=\"matrix\" values=\"0 0 0 0 0 0 0 0 0 0 0 0 0 0 0 0 0 0 .4 0\"/><feOffset dx=\"4.0\" dy=\"4.0\" in=\"blurOut2\" result=\"blurOut3\"/><feBlend in=\"SourceGraphic\" in2=\"blurOut3\" mode=\"normal\"/></filter></defs><g><!--MD5=[fbc87193dbaf4d95561dea2c320d4a47]\n",
       "cluster E1--><a href=\"psysml:9c548ee6-d869-4820-b951-32f5a4e72165\" target=\"_top\" title=\"psysml:9c548ee6-d869-4820-b951-32f5a4e72165\" xlink:actuate=\"onRequest\" xlink:href=\"psysml:9c548ee6-d869-4820-b951-32f5a4e72165\" xlink:show=\"new\" xlink:title=\"psysml:9c548ee6-d869-4820-b951-32f5a4e72165\" xlink:type=\"simple\"><polygon fill=\"#FFFFFF\" filter=\"url(#f1gdlkoh18dfay)\" points=\"16,6,98,6,105,28.2969,706,28.2969,706,111,16,111,16,6\" style=\"stroke: #000000; stroke-width: 1.5;\"/><line style=\"stroke: #000000; stroke-width: 1.5;\" x1=\"16\" x2=\"105\" y1=\"28.2969\" y2=\"28.2969\"/><text fill=\"#000000\" font-family=\"sans-serif\" font-size=\"14\" font-weight=\"bold\" lengthAdjust=\"spacingAndGlyphs\" textLength=\"76\" x=\"20\" y=\"20.9951\">StateTest</text></a><!--MD5=[b4997ac47864f28c2f74865a473b2911]\n",
       "class E2--><a href=\"psysml:7a2ca9b4-3a97-4e8a-92f8-a9f50dc832cb\" target=\"_top\" title=\"psysml:7a2ca9b4-3a97-4e8a-92f8-a9f50dc832cb\" xlink:actuate=\"onRequest\" xlink:href=\"psysml:7a2ca9b4-3a97-4e8a-92f8-a9f50dc832cb\" xlink:show=\"new\" xlink:title=\"psysml:7a2ca9b4-3a97-4e8a-92f8-a9f50dc832cb\" xlink:type=\"simple\"><rect fill=\"#FEFECE\" filter=\"url(#f1gdlkoh18dfay)\" height=\"53.9375\" id=\"E2\" style=\"stroke: #A80036; stroke-width: 1.5;\" width=\"143\" x=\"546.5\" y=\"41\"/><text fill=\"#000000\" font-family=\"sans-serif\" font-size=\"12\" font-style=\"italic\" lengthAdjust=\"spacingAndGlyphs\" textLength=\"141\" x=\"547.5\" y=\"57.1387\">«(T,blue)attribute def»</text><text fill=\"#000000\" font-family=\"sans-serif\" font-size=\"12\" lengthAdjust=\"spacingAndGlyphs\" textLength=\"19\" x=\"608.5\" y=\"71.1074\">Sig</text><line style=\"stroke: #A80036; stroke-width: 1.5;\" x1=\"547.5\" x2=\"688.5\" y1=\"78.9375\" y2=\"78.9375\"/><line style=\"stroke: #A80036; stroke-width: 1.5;\" x1=\"547.5\" x2=\"688.5\" y1=\"86.9375\" y2=\"86.9375\"/></a><!--MD5=[09b614a08d8cba4a07c9adeb5e0fee81]\n",
       "class E3--><a href=\"psysml:30361623-caf7-482c-9813-174242dd8f3c\" target=\"_top\" title=\"psysml:30361623-caf7-482c-9813-174242dd8f3c\" xlink:actuate=\"onRequest\" xlink:href=\"psysml:30361623-caf7-482c-9813-174242dd8f3c\" xlink:show=\"new\" xlink:title=\"psysml:30361623-caf7-482c-9813-174242dd8f3c\" xlink:type=\"simple\"><rect fill=\"#FEFECE\" filter=\"url(#f1gdlkoh18dfay)\" height=\"53.9375\" id=\"E3\" style=\"stroke: #A80036; stroke-width: 1.5;\" width=\"143\" x=\"368.5\" y=\"41\"/><text fill=\"#000000\" font-family=\"sans-serif\" font-size=\"12\" font-style=\"italic\" lengthAdjust=\"spacingAndGlyphs\" textLength=\"141\" x=\"369.5\" y=\"57.1387\">«(T,blue)attribute def»</text><text fill=\"#000000\" font-family=\"sans-serif\" font-size=\"12\" lengthAdjust=\"spacingAndGlyphs\" textLength=\"22\" x=\"429\" y=\"71.1074\">Exit</text><line style=\"stroke: #A80036; stroke-width: 1.5;\" x1=\"369.5\" x2=\"510.5\" y1=\"78.9375\" y2=\"78.9375\"/><line style=\"stroke: #A80036; stroke-width: 1.5;\" x1=\"369.5\" x2=\"510.5\" y1=\"86.9375\" y2=\"86.9375\"/></a><!--MD5=[60a26617385b1d2d0262a64233df1f8d]\n",
       "class E6--><a href=\"psysml:409d967c-2b55-4985-b068-ed253d96c58c\" target=\"_top\" title=\"psysml:409d967c-2b55-4985-b068-ed253d96c58c\" xlink:actuate=\"onRequest\" xlink:href=\"psysml:409d967c-2b55-4985-b068-ed253d96c58c\" xlink:show=\"new\" xlink:title=\"psysml:409d967c-2b55-4985-b068-ed253d96c58c\" xlink:type=\"simple\"><rect fill=\"#FEFECE\" filter=\"url(#f1gdlkoh18dfay)\" height=\"53.9375\" id=\"E6\" style=\"stroke: #A80036; stroke-width: 1.5;\" width=\"121\" x=\"212.5\" y=\"41\"/><text fill=\"#000000\" font-family=\"sans-serif\" font-size=\"12\" font-style=\"italic\" lengthAdjust=\"spacingAndGlyphs\" textLength=\"119\" x=\"213.5\" y=\"57.1387\">«(T,blue)state def»</text><text fill=\"#000000\" font-family=\"sans-serif\" font-size=\"12\" lengthAdjust=\"spacingAndGlyphs\" textLength=\"8\" x=\"269\" y=\"71.1074\">S</text><line style=\"stroke: #A80036; stroke-width: 1.5;\" x1=\"213.5\" x2=\"332.5\" y1=\"78.9375\" y2=\"78.9375\"/><line style=\"stroke: #A80036; stroke-width: 1.5;\" x1=\"213.5\" x2=\"332.5\" y1=\"86.9375\" y2=\"86.9375\"/></a><g id=\"E1.E4\"><a href=\"psysml:86d86843-d597-4d6e-917a-885d695bc43d\" target=\"_top\" title=\"psysml:86d86843-d597-4d6e-917a-885d695bc43d\" xlink:actuate=\"onRequest\" xlink:href=\"psysml:86d86843-d597-4d6e-917a-885d695bc43d\" xlink:show=\"new\" xlink:title=\"psysml:86d86843-d597-4d6e-917a-885d695bc43d\" xlink:type=\"simple\"><rect fill=\"#FEFECE\" filter=\"url(#f1gdlkoh18dfay)\" height=\"40\" id=\"E4\" rx=\"10\" ry=\"10\" style=\"stroke: #A80036; stroke-width: 1.5;\" width=\"50\" x=\"127\" y=\"48\"/><text fill=\"#000000\" font-family=\"sans-serif\" font-size=\"12\" lengthAdjust=\"spacingAndGlyphs\" textLength=\"8\" x=\"148\" y=\"64.1387\">p</text></a></g><g id=\"E1.E5\"><a href=\"psysml:6cb3785d-90e3-4021-b607-f0ab9874924c\" target=\"_top\" title=\"psysml:6cb3785d-90e3-4021-b607-f0ab9874924c\" xlink:actuate=\"onRequest\" xlink:href=\"psysml:6cb3785d-90e3-4021-b607-f0ab9874924c\" xlink:show=\"new\" xlink:title=\"psysml:6cb3785d-90e3-4021-b607-f0ab9874924c\" xlink:type=\"simple\"><rect fill=\"#FEFECE\" filter=\"url(#f1gdlkoh18dfay)\" height=\"42.9375\" id=\"E5\" rx=\"10\" ry=\"10\" style=\"stroke: #A80036; stroke-width: 1.5;\" width=\"60\" x=\"32\" y=\"46.5\"/><text fill=\"#000000\" font-family=\"sans-serif\" font-size=\"12\" font-style=\"italic\" lengthAdjust=\"spacingAndGlyphs\" textLength=\"53\" x=\"35.5\" y=\"62.6387\">«action»</text><text fill=\"#000000\" font-family=\"sans-serif\" font-size=\"12\" lengthAdjust=\"spacingAndGlyphs\" textLength=\"20\" x=\"52\" y=\"76.6074\">act</text></a></g><!--MD5=[b77a2d4a4a75eb69eccf19c95f13f439]\n",
       "@startuml\r\n",
       "skinparam ranksep 8\r\n",
       "skinparam rectangle {\r\n",
       " backgroundColor<<block>> LightGreen\r\n",
       "}\r\n",
       "skinparam wrapWidth 300\r\n",
       "hide circle\r\n",
       "\r\n",
       "package \"StateTest\" as E1  [[psysml:9c548ee6-d869-4820-b951-32f5a4e72165 ]]  {\r\n",
       "def \"Sig\" as E2  <<(T,blue)attribute def>> [[psysml:7a2ca9b4-3a97-4e8a-92f8-a9f50dc832cb ]] \r\n",
       "def \"Exit\" as E3  <<(T,blue)attribute def>> [[psysml:30361623-caf7-482c-9813-174242dd8f3c ]] \r\n",
       "rec usage \"p\" as E4  [[psysml:86d86843-d597-4d6e-917a-885d695bc43d ]] {\r\n",
       "}\r\n",
       "rec usage \"act\" as E5  <<(T,blue)action>> [[psysml:6cb3785d-90e3-4021-b607-f0ab9874924c ]] {\r\n",
       "}\r\n",
       "def \"S\" as E6  <<(T,blue)state def>> [[psysml:409d967c-2b55-4985-b068-ed253d96c58c ]] \r\n",
       "}\r\n",
       "@enduml\r\n",
       "\n",
       "PlantUML version 1.2020.13(Sat Jun 13 12:26:38 UTC 2020)\n",
       "(EPL source distribution)\n",
       "Java Runtime: OpenJDK Runtime Environment\n",
       "JVM: OpenJDK 64-Bit Server VM\n",
       "Default Encoding: UTF-8\n",
       "Language: en\n",
       "Country: null\n",
       "--></g></svg>"
      ]
     },
     "execution_count": 26,
     "metadata": {},
     "output_type": "execute_result"
    }
   ],
   "source": [
    "%viz --style=\"STDCOLOR\" --view=\"Interconnection\" \"StateTest\""
   ]
  },
  {
   "cell_type": "code",
   "execution_count": 27,
   "id": "removed-legend",
   "metadata": {
    "execution": {
     "iopub.execute_input": "2021-03-26T09:13:54.002708Z",
     "iopub.status.busy": "2021-03-26T09:13:54.002334Z",
     "iopub.status.idle": "2021-03-26T09:13:54.020986Z",
     "shell.execute_reply": "2021-03-26T09:13:54.019485Z"
    }
   },
   "outputs": [
    {
     "data": {
      "image/svg+xml": [
       "<?xml version=\"1.0\" encoding=\"UTF-8\" standalone=\"no\"?><svg xmlns=\"http://www.w3.org/2000/svg\" xmlns:xlink=\"http://www.w3.org/1999/xlink\" contentScriptType=\"application/ecmascript\" contentStyleType=\"text/css\" height=\"530px\" preserveAspectRatio=\"none\" style=\"width:794px;height:530px;background:#000000;\" version=\"1.1\" viewBox=\"0 0 794 530\" width=\"794px\" zoomAndPan=\"magnify\"><defs/><g><rect fill=\"#270906\" height=\"1\" style=\"stroke: #270906; stroke-width: 1.0;\" width=\"1\" x=\"0\" y=\"0\"/><rect fill=\"#FFFFFF\" height=\"53\" style=\"stroke: #FFFFFF; stroke-width: 1.0;\" width=\"793\" x=\"0\" y=\"0\"/><image height=\"53\" width=\"450\" x=\"1\" xlink:href=\"data:image/png;base64,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\" y=\"1\"/><rect fill=\"#000000\" height=\"422.4219\" style=\"stroke: #000000; stroke-width: 1.0;\" width=\"793\" x=\"0\" y=\"53\"/><rect fill=\"#33FF02\" height=\"21.2969\" style=\"stroke: #33FF02; stroke-width: 1.0;\" width=\"783\" x=\"5\" y=\"58\"/><text fill=\"#000000\" font-family=\"sans-serif\" font-size=\"14\" font-weight=\"bold\" lengthAdjust=\"spacingAndGlyphs\" textLength=\"178\" x=\"6\" y=\"73\">[From string (line 22) ]</text><text fill=\"#33FF02\" font-family=\"sans-serif\" font-size=\"14\" font-weight=\"bold\" lengthAdjust=\"spacingAndGlyphs\" textLength=\"0\" x=\"10\" y=\"93.2969\"/><text fill=\"#33FF02\" font-family=\"sans-serif\" font-size=\"14\" font-weight=\"bold\" lengthAdjust=\"spacingAndGlyphs\" textLength=\"79\" x=\"5\" y=\"109.5938\">@startuml</text><text fill=\"#33FF02\" font-family=\"sans-serif\" font-size=\"14\" font-weight=\"bold\" lengthAdjust=\"spacingAndGlyphs\" textLength=\"165\" x=\"5\" y=\"125.8906\">skinparam ranksep 8</text><text fill=\"#33FF02\" font-family=\"sans-serif\" font-size=\"14\" font-weight=\"bold\" lengthAdjust=\"spacingAndGlyphs\" textLength=\"206\" x=\"5\" y=\"142.1875\">skinparam wrapWidth 300</text><text fill=\"#33FF02\" font-family=\"sans-serif\" font-size=\"14\" font-weight=\"bold\" lengthAdjust=\"spacingAndGlyphs\" textLength=\"82\" x=\"5\" y=\"158.4844\">hide circle</text><text fill=\"#33FF02\" font-family=\"sans-serif\" font-size=\"14\" font-weight=\"bold\" lengthAdjust=\"spacingAndGlyphs\" textLength=\"0\" x=\"10\" y=\"174.7813\"/><text fill=\"#33FF02\" font-family=\"sans-serif\" font-size=\"14\" font-weight=\"bold\" lengthAdjust=\"spacingAndGlyphs\" textLength=\"783\" x=\"5\" y=\"191.0781\">rec usage \"act\" as E1  &lt;&lt;(T,blue)action&gt;&gt; [[psysml:6cb3785d-90e3-4021-b607-f0ab9874924c ]] {</text><text fill=\"#33FF02\" font-family=\"sans-serif\" font-size=\"14\" font-weight=\"bold\" lengthAdjust=\"spacingAndGlyphs\" textLength=\"10\" x=\"5\" y=\"207.375\">}</text><text fill=\"#33FF02\" font-family=\"sans-serif\" font-size=\"14\" font-weight=\"bold\" lengthAdjust=\"spacingAndGlyphs\" textLength=\"0\" x=\"10\" y=\"223.6719\"/><text fill=\"#33FF02\" font-family=\"sans-serif\" font-size=\"14\" font-weight=\"bold\" lengthAdjust=\"spacingAndGlyphs\" textLength=\"774\" x=\"5\" y=\"239.9688\">rec def \"S\" as E2  &lt;&lt;(T,blue)state def&gt;&gt; [[psysml:409d967c-2b55-4985-b068-ed253d96c58c ]] {</text><text fill=\"#33FF02\" font-family=\"sans-serif\" font-size=\"14\" font-weight=\"bold\" lengthAdjust=\"spacingAndGlyphs\" textLength=\"779\" x=\"5\" y=\"256.2656\">rec usage \"A\" as E3 &lt;&lt;perform action&gt;&gt; [[psysml:07283d54-b2b4-4955-9e37-5e3a59051776 ]] {</text><text fill=\"#33FF02\" font-family=\"sans-serif\" font-size=\"14\" font-weight=\"bold\" lengthAdjust=\"spacingAndGlyphs\" textLength=\"10\" x=\"5\" y=\"272.5625\">}</text><text fill=\"#33FF02\" font-family=\"sans-serif\" font-size=\"14\" font-weight=\"bold\" lengthAdjust=\"spacingAndGlyphs\" textLength=\"0\" x=\"10\" y=\"288.8594\"/><text fill=\"#33FF02\" font-family=\"sans-serif\" font-size=\"14\" font-weight=\"bold\" lengthAdjust=\"spacingAndGlyphs\" textLength=\"769\" x=\"5\" y=\"305.1563\">rec usage \"B\" as E4 &lt;&lt;perform action&gt;&gt; [[psysml:2d4c422d-af2d-4b90-a848-9846cea61c20 ]] {</text><text fill=\"#33FF02\" font-family=\"sans-serif\" font-size=\"14\" font-weight=\"bold\" lengthAdjust=\"spacingAndGlyphs\" textLength=\"10\" x=\"5\" y=\"321.4531\">}</text><text fill=\"#33FF02\" font-family=\"sans-serif\" font-size=\"14\" font-weight=\"bold\" lengthAdjust=\"spacingAndGlyphs\" textLength=\"0\" x=\"10\" y=\"337.75\"/><text fill=\"#33FF02\" font-family=\"sans-serif\" font-size=\"14\" font-weight=\"bold\" lengthAdjust=\"spacingAndGlyphs\" textLength=\"769\" x=\"5\" y=\"354.0469\">rec usage \"act\" as E5 &lt;&lt;perform action&gt;&gt; [[psysml:eca97873-f4f2-4a4b-84f1-fbd6bb9f01a4 ]] {</text><text fill=\"#33FF02\" font-family=\"sans-serif\" font-size=\"14\" font-weight=\"bold\" lengthAdjust=\"spacingAndGlyphs\" textLength=\"10\" x=\"5\" y=\"370.3438\">}</text><text fill=\"#33FF02\" font-family=\"sans-serif\" font-size=\"14\" font-weight=\"bold\" lengthAdjust=\"spacingAndGlyphs\" textLength=\"0\" x=\"10\" y=\"386.6406\"/><text fill=\"#33FF02\" font-family=\"sans-serif\" font-size=\"14\" font-weight=\"bold\" lengthAdjust=\"spacingAndGlyphs\" textLength=\"770\" x=\"5\" y=\"402.9375\">rec usage \"S1\" as E6  &lt;&lt;(T,blue)state&gt;&gt; [[psysml:5ea02985-bc8b-4cb1-bb08-c3caa7c881e0 ]] {</text><text fill=\"#33FF02\" font-family=\"sans-serif\" font-size=\"14\" font-weight=\"bold\" lengthAdjust=\"spacingAndGlyphs\" textLength=\"10\" x=\"5\" y=\"419.2344\">}</text><text fill=\"#33FF02\" font-family=\"sans-serif\" font-size=\"14\" font-weight=\"bold\" lengthAdjust=\"spacingAndGlyphs\" textLength=\"0\" x=\"10\" y=\"435.5313\"/><text fill=\"#33FF02\" font-family=\"sans-serif\" font-size=\"14\" font-weight=\"bold\" lengthAdjust=\"spacingAndGlyphs\" textLength=\"10\" x=\"5\" y=\"451.8281\">{</text><text fill=\"#FF0000\" font-family=\"sans-serif\" font-size=\"14\" font-weight=\"bold\" lengthAdjust=\"spacingAndGlyphs\" textLength=\"106\" x=\"10\" y=\"468.125\">Syntax Error?</text><rect fill=\"#FFFFFF\" height=\"53\" style=\"stroke: #FFFFFF; stroke-width: 1.0;\" width=\"793\" x=\"0\" y=\"475.4219\"/><image height=\"53\" width=\"450\" x=\"1\" xlink:href=\"data:image/png;base64,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\" y=\"476.4219\"/><!--MD5=[19df31be6903745af8555bfc07f9cd8a]\n",
       "@startuml\r\n",
       "skinparam ranksep 8\r\n",
       "skinparam wrapWidth 300\r\n",
       "hide circle\r\n",
       "\r\n",
       "rec usage \"act\" as E1  <<(T,blue)action>> [[psysml:6cb3785d-90e3-4021-b607-f0ab9874924c ]] {\r\n",
       "}\r\n",
       "\r\n",
       "rec def \"S\" as E2  <<(T,blue)state def>> [[psysml:409d967c-2b55-4985-b068-ed253d96c58c ]] {\r\n",
       "rec usage \"A\" as E3 <<perform action>> [[psysml:07283d54-b2b4-4955-9e37-5e3a59051776 ]] {\r\n",
       "}\r\n",
       "\r\n",
       "rec usage \"B\" as E4 <<perform action>> [[psysml:2d4c422d-af2d-4b90-a848-9846cea61c20 ]] {\r\n",
       "}\r\n",
       "\r\n",
       "rec usage \"act\" as E5 <<perform action>> [[psysml:eca97873-f4f2-4a4b-84f1-fbd6bb9f01a4 ]] {\r\n",
       "}\r\n",
       "\r\n",
       "rec usage \"S1\" as E6  <<(T,blue)state>> [[psysml:5ea02985-bc8b-4cb1-bb08-c3caa7c881e0 ]] {\r\n",
       "}\r\n",
       "\r\n",
       "{\r\n",
       "{\r\n",
       "}\r\n",
       "\r\n",
       "rec usage \"D\" as E7 <<perform action>> [[psysml:eaf0a112-33b0-4093-95e1-7dab572fe2f4 ]] {\r\n",
       "}\r\n",
       "\r\n",
       "}\r\n",
       "\r\n",
       "rec usage \"S2\" as E8  <<(T,blue)state>> [[psysml:15193c6f-79c7-4ee2-a2ac-bfb559b7d876 ]] {\r\n",
       "rec usage \"doAction\" as E9 <<send action>> [[psysml:02a264b3-17c4-490c-b5b1-f49bb5aa02c2 ]] {\r\n",
       "portin \"$x\" as E10  [[psysml:96622066-d3a2-4541-bee3-ae5bc19ea7c3 ]] \r\n",
       "portout \"$result\" as E11  [[psysml:b808addd-9ba8-4500-978c-50cd1b025f8a ]] \r\n",
       "}\r\n",
       "\r\n",
       "}\r\n",
       "\r\n",
       "{\r\n",
       "{\r\n",
       "}\r\n",
       "\r\n",
       "}\r\n",
       "\r\n",
       "rec usage \"T\" as E12  <<(T,blue)transition>> [[psysml:0976314e-a9f7-4444-bafa-f8883db64fa0 ]] {\r\n",
       "rec usage \"S2\" as E13  <<(T,blue)state>> [[psysml:15193c6f-79c7-4ee2-a2ac-bfb559b7d876 ]] {\r\n",
       "rec usage \"doAction\" as E14 <<send action>> [[psysml:02a264b3-17c4-490c-b5b1-f49bb5aa02c2 ]] {\r\n",
       "portin \"$x\" as E15  [[psysml:96622066-d3a2-4541-bee3-ae5bc19ea7c3 ]] \r\n",
       "portout \"$result\" as E16  [[psysml:b808addd-9ba8-4500-978c-50cd1b025f8a ]] \r\n",
       "}\r\n",
       "\r\n",
       "}\r\n",
       "\r\n",
       "{\r\n",
       "}\r\n",
       "\r\n",
       "portout \"$result\" as E17  [[psysml:8f7ffd4e-8810-46d2-96d4-50dc0ef167c4 ]] \r\n",
       "{\r\n",
       "}\r\n",
       "\r\n",
       "}\r\n",
       "\r\n",
       "}\r\n",
       "\r\n",
       "@enduml\r\n",
       "\n",
       "PlantUML version 1.2020.13(Sat Jun 13 12:26:38 UTC 2020)\n",
       "(EPL source distribution)\n",
       "Java Runtime: OpenJDK Runtime Environment\n",
       "JVM: OpenJDK 64-Bit Server VM\n",
       "Default Encoding: UTF-8\n",
       "Language: en\n",
       "Country: null\n",
       "--></g></svg>"
      ]
     },
     "execution_count": 27,
     "metadata": {},
     "output_type": "execute_result"
    }
   ],
   "source": [
    "%viz --style=\"STDCOLOR\" --view=\"Action\" \"StateTest\""
   ]
  },
  {
   "cell_type": "code",
   "execution_count": 28,
   "id": "comfortable-sunday",
   "metadata": {
    "execution": {
     "iopub.execute_input": "2021-03-26T09:13:54.070989Z",
     "iopub.status.busy": "2021-03-26T09:13:54.070584Z",
     "iopub.status.idle": "2021-03-26T09:13:54.162765Z",
     "shell.execute_reply": "2021-03-26T09:13:54.161196Z"
    }
   },
   "outputs": [
    {
     "data": {
      "image/svg+xml": [
       "<?xml version=\"1.0\" encoding=\"UTF-8\" standalone=\"no\"?><svg xmlns=\"http://www.w3.org/2000/svg\" xmlns:xlink=\"http://www.w3.org/1999/xlink\" contentScriptType=\"application/ecmascript\" contentStyleType=\"text/css\" height=\"471px\" preserveAspectRatio=\"none\" style=\"width:594px;height:471px;\" version=\"1.1\" viewBox=\"0 0 594 471\" width=\"594px\" zoomAndPan=\"magnify\"><defs><filter height=\"300%\" id=\"fbmua6w0tfdes\" width=\"300%\" x=\"-1\" y=\"-1\"><feGaussianBlur result=\"blurOut\" stdDeviation=\"2.0\"/><feColorMatrix in=\"blurOut\" result=\"blurOut2\" type=\"matrix\" values=\"0 0 0 0 0 0 0 0 0 0 0 0 0 0 0 0 0 0 .4 0\"/><feOffset dx=\"4.0\" dy=\"4.0\" in=\"blurOut2\" result=\"blurOut3\"/><feBlend in=\"SourceGraphic\" in2=\"blurOut3\" mode=\"normal\"/></filter></defs><g><!--MD5=[fbc87193dbaf4d95561dea2c320d4a47]\n",
       "cluster E1--><a href=\"psysml:9c548ee6-d869-4820-b951-32f5a4e72165\" target=\"_top\" title=\"psysml:9c548ee6-d869-4820-b951-32f5a4e72165\" xlink:actuate=\"onRequest\" xlink:href=\"psysml:9c548ee6-d869-4820-b951-32f5a4e72165\" xlink:show=\"new\" xlink:title=\"psysml:9c548ee6-d869-4820-b951-32f5a4e72165\" xlink:type=\"simple\"><polygon fill=\"#FFFFFF\" filter=\"url(#fbmua6w0tfdes)\" points=\"16,6,98,6,105,28.2969,572,28.2969,572,459,16,459,16,6\" style=\"stroke: #000000; stroke-width: 1.5;\"/><line style=\"stroke: #000000; stroke-width: 1.5;\" x1=\"16\" x2=\"105\" y1=\"28.2969\" y2=\"28.2969\"/><text fill=\"#000000\" font-family=\"sans-serif\" font-size=\"14\" font-weight=\"bold\" lengthAdjust=\"spacingAndGlyphs\" textLength=\"76\" x=\"20\" y=\"20.9951\">StateTest</text></a><!--MD5=[b4997ac47864f28c2f74865a473b2911]\n",
       "class E2--><a href=\"psysml:7a2ca9b4-3a97-4e8a-92f8-a9f50dc832cb\" target=\"_top\" title=\"psysml:7a2ca9b4-3a97-4e8a-92f8-a9f50dc832cb\" xlink:actuate=\"onRequest\" xlink:href=\"psysml:7a2ca9b4-3a97-4e8a-92f8-a9f50dc832cb\" xlink:show=\"new\" xlink:title=\"psysml:7a2ca9b4-3a97-4e8a-92f8-a9f50dc832cb\" xlink:type=\"simple\"><rect fill=\"#FEFECE\" filter=\"url(#fbmua6w0tfdes)\" height=\"58.7422\" id=\"E2\" style=\"stroke: #A80036; stroke-width: 1.5;\" width=\"95\" x=\"460.5\" y=\"91.5\"/><text fill=\"#000000\" font-family=\"sans-serif\" font-size=\"12\" font-style=\"italic\" lengthAdjust=\"spacingAndGlyphs\" textLength=\"93\" x=\"461.5\" y=\"107.6387\">«attribute def»</text><text fill=\"#000000\" font-family=\"sans-serif\" font-size=\"12\" lengthAdjust=\"spacingAndGlyphs\" textLength=\"19\" x=\"498.5\" y=\"121.6074\">Sig</text><line style=\"stroke: #A80036; stroke-width: 1.5;\" x1=\"461.5\" x2=\"554.5\" y1=\"129.4375\" y2=\"129.4375\"/><text fill=\"#000000\" font-family=\"sans-serif\" font-size=\"11\" lengthAdjust=\"spacingAndGlyphs\" textLength=\"6\" x=\"466.5\" y=\"143.6479\">x</text></a><!--MD5=[09b614a08d8cba4a07c9adeb5e0fee81]\n",
       "class E3--><a href=\"psysml:30361623-caf7-482c-9813-174242dd8f3c\" target=\"_top\" title=\"psysml:30361623-caf7-482c-9813-174242dd8f3c\" xlink:actuate=\"onRequest\" xlink:href=\"psysml:30361623-caf7-482c-9813-174242dd8f3c\" xlink:show=\"new\" xlink:title=\"psysml:30361623-caf7-482c-9813-174242dd8f3c\" xlink:type=\"simple\"><rect fill=\"#FEFECE\" filter=\"url(#fbmua6w0tfdes)\" height=\"45.9375\" id=\"E3\" style=\"stroke: #A80036; stroke-width: 1.5;\" width=\"95\" x=\"330.5\" y=\"98\"/><text fill=\"#000000\" font-family=\"sans-serif\" font-size=\"12\" font-style=\"italic\" lengthAdjust=\"spacingAndGlyphs\" textLength=\"93\" x=\"331.5\" y=\"114.1387\">«attribute def»</text><text fill=\"#000000\" font-family=\"sans-serif\" font-size=\"12\" lengthAdjust=\"spacingAndGlyphs\" textLength=\"22\" x=\"367\" y=\"128.1074\">Exit</text><line style=\"stroke: #A80036; stroke-width: 1.5;\" x1=\"331.5\" x2=\"424.5\" y1=\"135.9375\" y2=\"135.9375\"/></a><!--MD5=[ebbe1d658d1005bcc118a6aa81145e00]\n",
       "class E4--><a href=\"psysml:86d86843-d597-4d6e-917a-885d695bc43d\" target=\"_top\" title=\"psysml:86d86843-d597-4d6e-917a-885d695bc43d\" xlink:actuate=\"onRequest\" xlink:href=\"psysml:86d86843-d597-4d6e-917a-885d695bc43d\" xlink:show=\"new\" xlink:title=\"psysml:86d86843-d597-4d6e-917a-885d695bc43d\" xlink:type=\"simple\"><rect fill=\"#FEFECE\" filter=\"url(#fbmua6w0tfdes)\" height=\"45.9375\" id=\"E4\" rx=\"10\" ry=\"10\" style=\"stroke: #A80036; stroke-width: 1.5;\" width=\"42\" x=\"253\" y=\"98\"/><text fill=\"#000000\" font-family=\"sans-serif\" font-size=\"12\" font-style=\"italic\" lengthAdjust=\"spacingAndGlyphs\" textLength=\"40\" x=\"254\" y=\"114.1387\">«part»</text><text fill=\"#000000\" font-family=\"sans-serif\" font-size=\"12\" lengthAdjust=\"spacingAndGlyphs\" textLength=\"8\" x=\"270\" y=\"128.1074\">p</text><line style=\"stroke: #A80036; stroke-width: 1.5;\" x1=\"254\" x2=\"294\" y1=\"135.9375\" y2=\"135.9375\"/></a><!--MD5=[270fce915f116d4de14055a7c1d9a0f3]\n",
       "class E5--><a href=\"psysml:6cb3785d-90e3-4021-b607-f0ab9874924c\" target=\"_top\" title=\"psysml:6cb3785d-90e3-4021-b607-f0ab9874924c\" xlink:actuate=\"onRequest\" xlink:href=\"psysml:6cb3785d-90e3-4021-b607-f0ab9874924c\" xlink:show=\"new\" xlink:title=\"psysml:6cb3785d-90e3-4021-b607-f0ab9874924c\" xlink:type=\"simple\"><rect fill=\"#FEFECE\" filter=\"url(#fbmua6w0tfdes)\" height=\"45.9375\" id=\"E5\" rx=\"10\" ry=\"10\" style=\"stroke: #A80036; stroke-width: 1.5;\" width=\"55\" x=\"162.5\" y=\"98\"/><text fill=\"#000000\" font-family=\"sans-serif\" font-size=\"12\" font-style=\"italic\" lengthAdjust=\"spacingAndGlyphs\" textLength=\"53\" x=\"163.5\" y=\"114.1387\">«action»</text><text fill=\"#000000\" font-family=\"sans-serif\" font-size=\"12\" lengthAdjust=\"spacingAndGlyphs\" textLength=\"20\" x=\"180\" y=\"128.1074\">act</text><line style=\"stroke: #A80036; stroke-width: 1.5;\" x1=\"163.5\" x2=\"216.5\" y1=\"135.9375\" y2=\"135.9375\"/></a><!--MD5=[60a26617385b1d2d0262a64233df1f8d]\n",
       "class E6--><a href=\"psysml:409d967c-2b55-4985-b068-ed253d96c58c\" target=\"_top\" title=\"psysml:409d967c-2b55-4985-b068-ed253d96c58c\" xlink:actuate=\"onRequest\" xlink:href=\"psysml:409d967c-2b55-4985-b068-ed253d96c58c\" xlink:show=\"new\" xlink:title=\"psysml:409d967c-2b55-4985-b068-ed253d96c58c\" xlink:type=\"simple\"><rect fill=\"#FEFECE\" filter=\"url(#fbmua6w0tfdes)\" height=\"160.375\" id=\"E6\" style=\"stroke: #A80036; stroke-width: 1.5;\" width=\"95\" x=\"32.5\" y=\"41\"/><text fill=\"#000000\" font-family=\"sans-serif\" font-size=\"12\" font-style=\"italic\" lengthAdjust=\"spacingAndGlyphs\" textLength=\"71\" x=\"44.5\" y=\"57.1387\">«state def»</text><text fill=\"#000000\" font-family=\"sans-serif\" font-size=\"12\" lengthAdjust=\"spacingAndGlyphs\" textLength=\"8\" x=\"76\" y=\"71.1074\">S</text><line style=\"stroke: #A80036; stroke-width: 1.5;\" x1=\"33.5\" x2=\"126.5\" y1=\"78.9375\" y2=\"78.9375\"/><text fill=\"#000000\" font-family=\"sans-serif\" font-size=\"11\" lengthAdjust=\"spacingAndGlyphs\" textLength=\"17\" x=\"38.5\" y=\"109.9526\">act</text><text fill=\"#000000\" font-family=\"sans-serif\" font-size=\"11\" lengthAdjust=\"spacingAndGlyphs\" textLength=\"7\" x=\"38.5\" y=\"122.7573\">A</text><text fill=\"#000000\" font-family=\"sans-serif\" font-size=\"11\" lengthAdjust=\"spacingAndGlyphs\" textLength=\"8\" x=\"38.5\" y=\"135.562\">B</text><line style=\"stroke: #A80036; stroke-width: 1.0;\" x1=\"33.5\" x2=\"36.5\" y1=\"93.3398\" y2=\"93.3398\"/><text fill=\"#000000\" font-family=\"sans-serif\" font-size=\"11\" lengthAdjust=\"spacingAndGlyphs\" textLength=\"87\" x=\"36.5\" y=\"96.6479\">performActions</text><line style=\"stroke: #A80036; stroke-width: 1.0;\" x1=\"123.5\" x2=\"126.5\" y1=\"93.3398\" y2=\"93.3398\"/><text fill=\"#000000\" font-family=\"sans-serif\" font-size=\"11\" lengthAdjust=\"spacingAndGlyphs\" textLength=\"15\" x=\"38.5\" y=\"165.1714\">S1</text><line style=\"stroke: #A80036; stroke-width: 1.0;\" x1=\"33.5\" x2=\"62\" y1=\"148.5586\" y2=\"148.5586\"/><text fill=\"#000000\" font-family=\"sans-serif\" font-size=\"11\" lengthAdjust=\"spacingAndGlyphs\" textLength=\"36\" x=\"62\" y=\"151.8667\">states</text><line style=\"stroke: #A80036; stroke-width: 1.0;\" x1=\"98\" x2=\"126.5\" y1=\"148.5586\" y2=\"148.5586\"/><text fill=\"#000000\" font-family=\"sans-serif\" font-size=\"11\" lengthAdjust=\"spacingAndGlyphs\" textLength=\"7\" x=\"38.5\" y=\"194.7808\">T</text><line style=\"stroke: #A80036; stroke-width: 1.0;\" x1=\"33.5\" x2=\"49.5\" y1=\"178.168\" y2=\"178.168\"/><text fill=\"#000000\" font-family=\"sans-serif\" font-size=\"11\" lengthAdjust=\"spacingAndGlyphs\" textLength=\"61\" x=\"49.5\" y=\"181.4761\">transitions</text><line style=\"stroke: #A80036; stroke-width: 1.0;\" x1=\"110.5\" x2=\"126.5\" y1=\"178.168\" y2=\"178.168\"/></a><!--MD5=[1dd1bfd58a279cf63c5f349dbc8fc6a1]\n",
       "class E11--><a href=\"psysml:15193c6f-79c7-4ee2-a2ac-bfb559b7d876\" target=\"_top\" title=\"psysml:15193c6f-79c7-4ee2-a2ac-bfb559b7d876\" xlink:actuate=\"onRequest\" xlink:href=\"psysml:15193c6f-79c7-4ee2-a2ac-bfb559b7d876\" xlink:show=\"new\" xlink:title=\"psysml:15193c6f-79c7-4ee2-a2ac-bfb559b7d876\" xlink:type=\"simple\"><rect fill=\"#FEFECE\" filter=\"url(#fbmua6w0tfdes)\" height=\"45.9375\" id=\"E11\" rx=\"10\" ry=\"10\" style=\"stroke: #A80036; stroke-width: 1.5;\" width=\"49\" x=\"55.5\" y=\"261\"/><text fill=\"#000000\" font-family=\"sans-serif\" font-size=\"12\" font-style=\"italic\" lengthAdjust=\"spacingAndGlyphs\" textLength=\"47\" x=\"56.5\" y=\"277.1387\">«state»</text><text fill=\"#000000\" font-family=\"sans-serif\" font-size=\"12\" lengthAdjust=\"spacingAndGlyphs\" textLength=\"16\" x=\"72\" y=\"291.1074\">S2</text><line style=\"stroke: #A80036; stroke-width: 1.5;\" x1=\"56.5\" x2=\"103.5\" y1=\"298.9375\" y2=\"298.9375\"/></a><!--MD5=[49a0ec8f00dab7302a31f22d0f0fe584]\n",
       "class E12--><a href=\"psysml:02a264b3-17c4-490c-b5b1-f49bb5aa02c2\" target=\"_top\" title=\"psysml:02a264b3-17c4-490c-b5b1-f49bb5aa02c2\" xlink:actuate=\"onRequest\" xlink:href=\"psysml:02a264b3-17c4-490c-b5b1-f49bb5aa02c2\" xlink:show=\"new\" xlink:title=\"psysml:02a264b3-17c4-490c-b5b1-f49bb5aa02c2\" xlink:type=\"simple\"><rect fill=\"#FEFECE\" filter=\"url(#fbmua6w0tfdes)\" height=\"75.5469\" id=\"E12\" rx=\"10\" ry=\"10\" style=\"stroke: #A80036; stroke-width: 1.5;\" width=\"90\" x=\"35\" y=\"367\"/><text fill=\"#000000\" font-family=\"sans-serif\" font-size=\"12\" font-style=\"italic\" lengthAdjust=\"spacingAndGlyphs\" textLength=\"88\" x=\"36\" y=\"383.1387\">«send action»</text><text fill=\"#000000\" font-family=\"sans-serif\" font-size=\"12\" lengthAdjust=\"spacingAndGlyphs\" textLength=\"55\" x=\"52.5\" y=\"397.1074\">doAction</text><line style=\"stroke: #A80036; stroke-width: 1.5;\" x1=\"36\" x2=\"124\" y1=\"404.9375\" y2=\"404.9375\"/><text fill=\"#000000\" font-family=\"sans-serif\" font-size=\"11\" lengthAdjust=\"spacingAndGlyphs\" textLength=\"25\" x=\"41\" y=\"435.9526\">item</text><line style=\"stroke: #A80036; stroke-width: 1.0;\" x1=\"36\" x2=\"42.5\" y1=\"419.3398\" y2=\"419.3398\"/><text fill=\"#000000\" font-family=\"sans-serif\" font-size=\"11\" lengthAdjust=\"spacingAndGlyphs\" textLength=\"75\" x=\"42.5\" y=\"422.6479\">itemFeatures</text><line style=\"stroke: #A80036; stroke-width: 1.0;\" x1=\"117.5\" x2=\"124\" y1=\"419.3398\" y2=\"419.3398\"/></a><!--MD5=[1f5f03483f7de0d5b3680a7f6650997f]\n",
       "reverse link E6 to E11--><a href=\"psysml:15193c6f-79c7-4ee2-a2ac-bfb559b7d876\" target=\"_top\" title=\"psysml:15193c6f-79c7-4ee2-a2ac-bfb559b7d876\" xlink:actuate=\"onRequest\" xlink:href=\"psysml:15193c6f-79c7-4ee2-a2ac-bfb559b7d876\" xlink:show=\"new\" xlink:title=\"psysml:15193c6f-79c7-4ee2-a2ac-bfb559b7d876\" xlink:type=\"simple\"><path d=\"M80,214.17 C80,231.58 80,248.25 80,260.82 \" fill=\"none\" id=\"E6&lt;-E11\" style=\"stroke: #A80036; stroke-width: 1.0;\"/><polygon fill=\"#A80036\" points=\"80,201.09,76.0066,207.0944,80.0132,213.09,84.0066,207.0856,80,201.09\" style=\"stroke: #A80036; stroke-width: 1.0;\"/></a><!--MD5=[94adabc162ce7e41b39f13be14fbaeb3]\n",
       "reverse link E11 to E12--><a href=\"psysml:02a264b3-17c4-490c-b5b1-f49bb5aa02c2\" target=\"_top\" title=\"psysml:02a264b3-17c4-490c-b5b1-f49bb5aa02c2\" xlink:actuate=\"onRequest\" xlink:href=\"psysml:02a264b3-17c4-490c-b5b1-f49bb5aa02c2\" xlink:show=\"new\" xlink:title=\"psysml:02a264b3-17c4-490c-b5b1-f49bb5aa02c2\" xlink:type=\"simple\"><path d=\"M80,320.23 C80,334.82 80,351.76 80,366.58 \" fill=\"none\" id=\"E11&lt;-E12\" style=\"stroke: #A80036; stroke-width: 1.0;\"/><polygon fill=\"#FFFFFF\" points=\"80,307.1,76,313.1,80,319.1,84,313.1,80,307.1\" style=\"stroke: #A80036; stroke-width: 1.0;\"/></a><!--MD5=[e6a733e2710db8080c1b712efb60b5c4]\n",
       "@startuml\r\n",
       "skinparam wrapWidth 300\r\n",
       "hide circle\r\n",
       "\r\n",
       "package \"StateTest\" as E1  [[psysml:9c548ee6-d869-4820-b951-32f5a4e72165 ]]  {\r\n",
       "comp def \"Sig\" as E2  <<(T,blue)attribute def>> [[psysml:7a2ca9b4-3a97-4e8a-92f8-a9f50dc832cb ]] {\r\n",
       "x\r\n",
       "}\r\n",
       "comp def \"Exit\" as E3  <<(T,blue)attribute def>> [[psysml:30361623-caf7-482c-9813-174242dd8f3c ]] {\r\n",
       "}\r\n",
       "comp usage \"p\" as E4  <<(T,blue)part>> [[psysml:86d86843-d597-4d6e-917a-885d695bc43d ]] {\r\n",
       "}\r\n",
       "comp usage \"act\" as E5  <<(T,blue)action>> [[psysml:6cb3785d-90e3-4021-b607-f0ab9874924c ]] {\r\n",
       "}\r\n",
       "comp def \"S\" as E6  <<(T,blue)state def>> [[psysml:409d967c-2b55-4985-b068-ed253d96c58c ]] {\r\n",
       "- - performActions - -\r\n",
       "act\r\n",
       "A\r\n",
       "B\r\n",
       "- - states - -\r\n",
       "S1\r\n",
       "- - transitions - -\r\n",
       "T\r\n",
       "}\r\n",
       "comp usage \"S2\" as E11  <<(T,blue)state>> [[psysml:15193c6f-79c7-4ee2-a2ac-bfb559b7d876 ]] {\r\n",
       "}\r\n",
       "comp usage \"doAction\" as E12 <<send action>> [[psysml:02a264b3-17c4-490c-b5b1-f49bb5aa02c2 ]] {\r\n",
       "- - itemFeatures - -\r\n",
       "item\r\n",
       "}\r\n",
       "E6 *- - E11 [[psysml:15193c6f-79c7-4ee2-a2ac-bfb559b7d876 ]] \r\n",
       "E11 o- - E12 [[psysml:02a264b3-17c4-490c-b5b1-f49bb5aa02c2 ]] \r\n",
       "}\r\n",
       "@enduml\r\n",
       "\n",
       "PlantUML version 1.2020.13(Sat Jun 13 12:26:38 UTC 2020)\n",
       "(EPL source distribution)\n",
       "Java Runtime: OpenJDK Runtime Environment\n",
       "JVM: OpenJDK 64-Bit Server VM\n",
       "Default Encoding: UTF-8\n",
       "Language: en\n",
       "Country: null\n",
       "--></g></svg>"
      ]
     },
     "execution_count": 28,
     "metadata": {},
     "output_type": "execute_result"
    }
   ],
   "source": [
    "%viz --style=\"STDCOLOR\" --view=\"Sequence\" \"StateTest\""
   ]
  },
  {
   "cell_type": "code",
   "execution_count": 29,
   "id": "resistant-reasoning",
   "metadata": {
    "execution": {
     "iopub.execute_input": "2021-03-26T09:13:54.212825Z",
     "iopub.status.busy": "2021-03-26T09:13:54.212457Z",
     "iopub.status.idle": "2021-03-26T09:13:54.250868Z",
     "shell.execute_reply": "2021-03-26T09:13:54.249413Z"
    }
   },
   "outputs": [
    {
     "data": {
      "image/svg+xml": [
       "<?xml version=\"1.0\" encoding=\"UTF-8\" standalone=\"no\"?><svg xmlns=\"http://www.w3.org/2000/svg\" xmlns:xlink=\"http://www.w3.org/1999/xlink\" contentScriptType=\"application/ecmascript\" contentStyleType=\"text/css\" height=\"561px\" preserveAspectRatio=\"none\" style=\"width:819px;height:561px;\" version=\"1.1\" viewBox=\"0 0 819 561\" width=\"819px\" zoomAndPan=\"magnify\"><defs><filter height=\"300%\" id=\"faf6ayuz9fpbt\" width=\"300%\" x=\"-1\" y=\"-1\"><feGaussianBlur result=\"blurOut\" stdDeviation=\"2.0\"/><feColorMatrix in=\"blurOut\" result=\"blurOut2\" type=\"matrix\" values=\"0 0 0 0 0 0 0 0 0 0 0 0 0 0 0 0 0 0 .4 0\"/><feOffset dx=\"4.0\" dy=\"4.0\" in=\"blurOut2\" result=\"blurOut3\"/><feBlend in=\"SourceGraphic\" in2=\"blurOut3\" mode=\"normal\"/></filter></defs><g><!--MD5=[fbc87193dbaf4d95561dea2c320d4a47]\n",
       "cluster E1--><a href=\"psysml:9c548ee6-d869-4820-b951-32f5a4e72165\" target=\"_top\" title=\"psysml:9c548ee6-d869-4820-b951-32f5a4e72165\" xlink:actuate=\"onRequest\" xlink:href=\"psysml:9c548ee6-d869-4820-b951-32f5a4e72165\" xlink:show=\"new\" xlink:title=\"psysml:9c548ee6-d869-4820-b951-32f5a4e72165\" xlink:type=\"simple\"><polygon fill=\"#FFFFFF\" filter=\"url(#faf6ayuz9fpbt)\" points=\"16,6,98,6,105,28.2969,797,28.2969,797,549.5,16,549.5,16,6\" style=\"stroke: #000000; stroke-width: 1.5;\"/><line style=\"stroke: #000000; stroke-width: 1.5;\" x1=\"16\" x2=\"105\" y1=\"28.2969\" y2=\"28.2969\"/><text fill=\"#000000\" font-family=\"sans-serif\" font-size=\"14\" font-weight=\"bold\" lengthAdjust=\"spacingAndGlyphs\" textLength=\"76\" x=\"20\" y=\"20.9951\">StateTest</text></a><!--MD5=[14e3b0961a2654348d326746436168a1]\n",
       "cluster E6--><a href=\"psysml:409d967c-2b55-4985-b068-ed253d96c58c\" target=\"_top\" title=\"psysml:409d967c-2b55-4985-b068-ed253d96c58c\" xlink:actuate=\"onRequest\" xlink:href=\"psysml:409d967c-2b55-4985-b068-ed253d96c58c\" xlink:show=\"new\" xlink:title=\"psysml:409d967c-2b55-4985-b068-ed253d96c58c\" xlink:type=\"simple\"><rect fill=\"#FFFFFF\" filter=\"url(#faf6ayuz9fpbt)\" height=\"476.5\" id=\"E6\" style=\"stroke: #A80036; stroke-width: 1.5;\" width=\"327\" x=\"446\" y=\"49\"/><rect fill=\"#FEFECE\" height=\"37.9375\" style=\"stroke: #A80036; stroke-width: 1.5;\" width=\"327\" x=\"446\" y=\"49\"/><text fill=\"#000000\" font-family=\"sans-serif\" font-size=\"12\" font-style=\"italic\" lengthAdjust=\"spacingAndGlyphs\" textLength=\"71\" x=\"574\" y=\"65.1387\">«state def»</text><text fill=\"#000000\" font-family=\"sans-serif\" font-size=\"12\" lengthAdjust=\"spacingAndGlyphs\" textLength=\"8\" x=\"605.5\" y=\"79.1074\">S</text><line style=\"stroke: #A80036; stroke-width: 1.0;\" x1=\"446\" x2=\"773\" y1=\"132.8438\" y2=\"132.8438\"/><text fill=\"#000000\" font-family=\"sans-serif\" font-size=\"12\" font-weight=\"bold\" lengthAdjust=\"spacingAndGlyphs\" textLength=\"38\" x=\"451\" y=\"100.0762\">entry</text><text fill=\"#000000\" font-family=\"sans-serif\" font-size=\"12\" lengthAdjust=\"spacingAndGlyphs\" textLength=\"16\" x=\"489\" y=\"100.0762\">/ A</text><text fill=\"#000000\" font-family=\"sans-serif\" font-size=\"12\" font-weight=\"bold\" lengthAdjust=\"spacingAndGlyphs\" textLength=\"18\" x=\"451\" y=\"114.0449\">do</text><text fill=\"#000000\" font-family=\"sans-serif\" font-size=\"12\" lengthAdjust=\"spacingAndGlyphs\" textLength=\"16\" x=\"469\" y=\"114.0449\">/ B</text><text fill=\"#000000\" font-family=\"sans-serif\" font-size=\"12\" font-weight=\"bold\" lengthAdjust=\"spacingAndGlyphs\" textLength=\"26\" x=\"451\" y=\"128.0137\">exit</text><text fill=\"#000000\" font-family=\"sans-serif\" font-size=\"12\" lengthAdjust=\"spacingAndGlyphs\" textLength=\"28\" x=\"477\" y=\"128.0137\">/ act</text></a><!--MD5=[b4997ac47864f28c2f74865a473b2911]\n",
       "class E2--><a href=\"psysml:7a2ca9b4-3a97-4e8a-92f8-a9f50dc832cb\" target=\"_top\" title=\"psysml:7a2ca9b4-3a97-4e8a-92f8-a9f50dc832cb\" xlink:actuate=\"onRequest\" xlink:href=\"psysml:7a2ca9b4-3a97-4e8a-92f8-a9f50dc832cb\" xlink:show=\"new\" xlink:title=\"psysml:7a2ca9b4-3a97-4e8a-92f8-a9f50dc832cb\" xlink:type=\"simple\"><rect fill=\"#FEFECE\" filter=\"url(#faf6ayuz9fpbt)\" height=\"58.7422\" id=\"E2\" style=\"stroke: #A80036; stroke-width: 1.5;\" width=\"95\" x=\"334.5\" y=\"127.5\"/><text fill=\"#000000\" font-family=\"sans-serif\" font-size=\"12\" font-style=\"italic\" lengthAdjust=\"spacingAndGlyphs\" textLength=\"93\" x=\"335.5\" y=\"143.6387\">«attribute def»</text><text fill=\"#000000\" font-family=\"sans-serif\" font-size=\"12\" lengthAdjust=\"spacingAndGlyphs\" textLength=\"19\" x=\"372.5\" y=\"157.6074\">Sig</text><line style=\"stroke: #A80036; stroke-width: 1.5;\" x1=\"335.5\" x2=\"428.5\" y1=\"165.4375\" y2=\"165.4375\"/><text fill=\"#000000\" font-family=\"sans-serif\" font-size=\"11\" lengthAdjust=\"spacingAndGlyphs\" textLength=\"6\" x=\"340.5\" y=\"179.6479\">x</text></a><!--MD5=[09b614a08d8cba4a07c9adeb5e0fee81]\n",
       "class E3--><a href=\"psysml:30361623-caf7-482c-9813-174242dd8f3c\" target=\"_top\" title=\"psysml:30361623-caf7-482c-9813-174242dd8f3c\" xlink:actuate=\"onRequest\" xlink:href=\"psysml:30361623-caf7-482c-9813-174242dd8f3c\" xlink:show=\"new\" xlink:title=\"psysml:30361623-caf7-482c-9813-174242dd8f3c\" xlink:type=\"simple\"><rect fill=\"#FEFECE\" filter=\"url(#faf6ayuz9fpbt)\" height=\"45.9375\" id=\"E3\" style=\"stroke: #A80036; stroke-width: 1.5;\" width=\"95\" x=\"204.5\" y=\"134\"/><text fill=\"#000000\" font-family=\"sans-serif\" font-size=\"12\" font-style=\"italic\" lengthAdjust=\"spacingAndGlyphs\" textLength=\"93\" x=\"205.5\" y=\"150.1387\">«attribute def»</text><text fill=\"#000000\" font-family=\"sans-serif\" font-size=\"12\" lengthAdjust=\"spacingAndGlyphs\" textLength=\"22\" x=\"241\" y=\"164.1074\">Exit</text><line style=\"stroke: #A80036; stroke-width: 1.5;\" x1=\"205.5\" x2=\"298.5\" y1=\"171.9375\" y2=\"171.9375\"/></a><!--MD5=[ebbe1d658d1005bcc118a6aa81145e00]\n",
       "class E4--><a href=\"psysml:86d86843-d597-4d6e-917a-885d695bc43d\" target=\"_top\" title=\"psysml:86d86843-d597-4d6e-917a-885d695bc43d\" xlink:actuate=\"onRequest\" xlink:href=\"psysml:86d86843-d597-4d6e-917a-885d695bc43d\" xlink:show=\"new\" xlink:title=\"psysml:86d86843-d597-4d6e-917a-885d695bc43d\" xlink:type=\"simple\"><rect fill=\"#FEFECE\" filter=\"url(#faf6ayuz9fpbt)\" height=\"45.9375\" id=\"E4\" rx=\"10\" ry=\"10\" style=\"stroke: #A80036; stroke-width: 1.5;\" width=\"42\" x=\"127\" y=\"134\"/><text fill=\"#000000\" font-family=\"sans-serif\" font-size=\"12\" font-style=\"italic\" lengthAdjust=\"spacingAndGlyphs\" textLength=\"40\" x=\"128\" y=\"150.1387\">«part»</text><text fill=\"#000000\" font-family=\"sans-serif\" font-size=\"12\" lengthAdjust=\"spacingAndGlyphs\" textLength=\"8\" x=\"144\" y=\"164.1074\">p</text><line style=\"stroke: #A80036; stroke-width: 1.5;\" x1=\"128\" x2=\"168\" y1=\"171.9375\" y2=\"171.9375\"/></a><g id=\"E1.E5\"><a href=\"psysml:6cb3785d-90e3-4021-b607-f0ab9874924c\" target=\"_top\" title=\"psysml:6cb3785d-90e3-4021-b607-f0ab9874924c\" xlink:actuate=\"onRequest\" xlink:href=\"psysml:6cb3785d-90e3-4021-b607-f0ab9874924c\" xlink:show=\"new\" xlink:title=\"psysml:6cb3785d-90e3-4021-b607-f0ab9874924c\" xlink:type=\"simple\"><rect fill=\"#FEFECE\" filter=\"url(#faf6ayuz9fpbt)\" height=\"42.9375\" id=\"E5\" rx=\"10\" ry=\"10\" style=\"stroke: #A80036; stroke-width: 1.5;\" width=\"60\" x=\"32\" y=\"135.5\"/><text fill=\"#000000\" font-family=\"sans-serif\" font-size=\"12\" font-style=\"italic\" lengthAdjust=\"spacingAndGlyphs\" textLength=\"53\" x=\"35.5\" y=\"151.6387\">«action»</text><text fill=\"#000000\" font-family=\"sans-serif\" font-size=\"12\" lengthAdjust=\"spacingAndGlyphs\" textLength=\"20\" x=\"52\" y=\"165.6074\">act</text></a></g><ellipse cx=\"558\" cy=\"157\" fill=\"#000000\" filter=\"url(#faf6ayuz9fpbt)\" rx=\"10\" ry=\"10\" style=\"stroke: none; stroke-width: 1.0;\"/><ellipse cx=\"558\" cy=\"499.5\" fill=\"none\" filter=\"url(#faf6ayuz9fpbt)\" rx=\"10\" ry=\"10\" style=\"stroke: #000000; stroke-width: 1.0;\"/><ellipse cx=\"558.5\" cy=\"500\" fill=\"#000000\" rx=\"6\" ry=\"6\" style=\"stroke: none; stroke-width: 1.0;\"/><g id=\"E1.E6.E7\"><a href=\"psysml:5ea02985-bc8b-4cb1-bb08-c3caa7c881e0\" target=\"_top\" title=\"psysml:5ea02985-bc8b-4cb1-bb08-c3caa7c881e0\" xlink:actuate=\"onRequest\" xlink:href=\"psysml:5ea02985-bc8b-4cb1-bb08-c3caa7c881e0\" xlink:show=\"new\" xlink:title=\"psysml:5ea02985-bc8b-4cb1-bb08-c3caa7c881e0\" xlink:type=\"simple\"><rect fill=\"#FEFECE\" filter=\"url(#faf6ayuz9fpbt)\" height=\"40\" id=\"E7\" rx=\"10\" ry=\"10\" style=\"stroke: #A80036; stroke-width: 1.5;\" width=\"50\" x=\"533\" y=\"247.5\"/><text fill=\"#000000\" font-family=\"sans-serif\" font-size=\"12\" lengthAdjust=\"spacingAndGlyphs\" textLength=\"16\" x=\"550\" y=\"263.6387\">S1</text></a></g><g id=\"E1.E6.E8\"><a href=\"psysml:15193c6f-79c7-4ee2-a2ac-bfb559b7d876\" target=\"_top\" title=\"psysml:15193c6f-79c7-4ee2-a2ac-bfb559b7d876\" xlink:actuate=\"onRequest\" xlink:href=\"psysml:15193c6f-79c7-4ee2-a2ac-bfb559b7d876\" xlink:show=\"new\" xlink:title=\"psysml:15193c6f-79c7-4ee2-a2ac-bfb559b7d876\" xlink:type=\"simple\"><rect fill=\"#FEFECE\" filter=\"url(#faf6ayuz9fpbt)\" height=\"47.9375\" id=\"E8\" rx=\"10\" ry=\"10\" style=\"stroke: #A80036; stroke-width: 1.5;\" width=\"50\" x=\"533\" y=\"364.5\"/><text fill=\"#000000\" font-family=\"sans-serif\" font-size=\"12\" lengthAdjust=\"spacingAndGlyphs\" textLength=\"16\" x=\"550\" y=\"380.6387\">S2</text><line style=\"stroke: #A80036; stroke-width: 1.0;\" x1=\"533\" x2=\"583\" y1=\"388.4688\" y2=\"388.4688\"/><text fill=\"#000000\" font-family=\"sans-serif\" font-size=\"12\" font-weight=\"bold\" lengthAdjust=\"spacingAndGlyphs\" textLength=\"18\" x=\"538\" y=\"401.6074\">do</text><text fill=\"#000000\" font-family=\"sans-serif\" font-size=\"12\" lengthAdjust=\"spacingAndGlyphs\" textLength=\"4\" x=\"556\" y=\"401.6074\">/</text></a></g><!--MD5=[5a531d3a85f3339e6e197084acb48195]\n",
       "link *start*E6 to E7--><a href=\"psysml:50e6b136-bb64-4da5-b9f3-893462631a2b\" target=\"_top\" title=\"psysml:50e6b136-bb64-4da5-b9f3-893462631a2b\" xlink:actuate=\"onRequest\" xlink:href=\"psysml:50e6b136-bb64-4da5-b9f3-893462631a2b\" xlink:show=\"new\" xlink:title=\"psysml:50e6b136-bb64-4da5-b9f3-893462631a2b\" xlink:type=\"simple\"><path d=\"M558,167.25 C558,183.64 558,218.28 558,241.97 \" fill=\"none\" id=\"*start*E6-&gt;E7\" style=\"stroke: #A80036; stroke-width: 1.0;\"/><polygon fill=\"#A80036\" points=\"558,247.15,562,238.15,558,242.15,554,238.15,558,247.15\" style=\"stroke: #A80036; stroke-width: 1.0;\"/></a><!--MD5=[7ec9a8babba89ddcae1318ca9fb3c814]\n",
       "link E8 to *end*E6--><a href=\"psysml:400438d1-4a79-4175-ae6b-80e92b548ca9\" target=\"_top\" title=\"psysml:400438d1-4a79-4175-ae6b-80e92b548ca9\" xlink:actuate=\"onRequest\" xlink:href=\"psysml:400438d1-4a79-4175-ae6b-80e92b548ca9\" xlink:show=\"new\" xlink:title=\"psysml:400438d1-4a79-4175-ae6b-80e92b548ca9\" xlink:type=\"simple\"><path d=\"M558,412.62 C558,434.25 558,465.89 558,484.12 \" fill=\"none\" id=\"E8-&gt;*end*E6\" style=\"stroke: #A80036; stroke-width: 1.0;\"/><polygon fill=\"#A80036\" points=\"558,489.32,562,480.32,558,484.32,554,480.32,558,489.32\" style=\"stroke: #A80036; stroke-width: 1.0;\"/><text fill=\"#000000\" font-family=\"sans-serif\" font-size=\"13\" lengthAdjust=\"spacingAndGlyphs\" textLength=\"23\" x=\"559\" y=\"455.5669\">Exit</text></a><!--MD5=[79bc8f324ef4d02c541433f2e6e513c3]\n",
       "link E7 to E8--><a href=\"psysml:516b9b87-0f3c-4a45-97aa-978805331ddd\" target=\"_top\" title=\"psysml:516b9b87-0f3c-4a45-97aa-978805331ddd\" xlink:actuate=\"onRequest\" xlink:href=\"psysml:516b9b87-0f3c-4a45-97aa-978805331ddd\" xlink:show=\"new\" xlink:title=\"psysml:516b9b87-0f3c-4a45-97aa-978805331ddd\" xlink:type=\"simple\"><path d=\"M532.93,280.38 C518.69,288.62 502.12,301.06 494,317.5 C483.11,339.55 506.72,359.7 528.27,372.66 \" fill=\"none\" id=\"E7-&gt;E8\" style=\"stroke: #A80036; stroke-width: 1.0;\"/><polygon fill=\"#A80036\" points=\"532.83,375.32,527.0682,367.3324,528.5101,372.8024,523.0401,374.2443,532.83,375.32\" style=\"stroke: #A80036; stroke-width: 1.0;\"/><text fill=\"#000000\" font-family=\"sans-serif\" font-size=\"13\" lengthAdjust=\"spacingAndGlyphs\" textLength=\"81\" x=\"495\" y=\"330.5669\">Sig /action D</text></a><!--MD5=[bfa3c8b0d15052fdf50ae9310b491027]\n",
       "link E8 to E7--><a href=\"psysml:0976314e-a9f7-4444-bafa-f8883db64fa0\" target=\"_top\" title=\"psysml:0976314e-a9f7-4444-bafa-f8883db64fa0\" xlink:actuate=\"onRequest\" xlink:href=\"psysml:0976314e-a9f7-4444-bafa-f8883db64fa0\" xlink:show=\"new\" xlink:title=\"psysml:0976314e-a9f7-4444-bafa-f8883db64fa0\" xlink:type=\"simple\"><path d=\"M572.17,364.49 C578.81,350.98 584.56,333.48 581,317.5 C579.1,308.99 575.56,300.22 571.82,292.49 \" fill=\"none\" id=\"E8-&gt;E7\" style=\"stroke: #A80036; stroke-width: 1.0;\"/><polygon fill=\"#A80036\" points=\"569.47,287.82,569.9298,297.6581,571.7118,292.2893,577.0806,294.0713,569.47,287.82\" style=\"stroke: #A80036; stroke-width: 1.0;\"/><text fill=\"#000000\" font-family=\"sans-serif\" font-size=\"13\" lengthAdjust=\"spacingAndGlyphs\" textLength=\"135\" x=\"583\" y=\"330.5669\">Sig [true]/send s to p</text></a><!--MD5=[ce1ea0c7ea8a5a896b15f2521639fc22]\n",
       "@startuml\r\n",
       "skinparam wrapWidth 300\r\n",
       "hide circle\r\n",
       "\r\n",
       "package \"StateTest\" as E1  [[psysml:9c548ee6-d869-4820-b951-32f5a4e72165 ]]  {\r\n",
       "comp def \"Sig\" as E2  <<(T,blue)attribute def>> [[psysml:7a2ca9b4-3a97-4e8a-92f8-a9f50dc832cb ]] {\r\n",
       "x\r\n",
       "}\r\n",
       "comp def \"Exit\" as E3  <<(T,blue)attribute def>> [[psysml:30361623-caf7-482c-9813-174242dd8f3c ]] {\r\n",
       "}\r\n",
       "comp usage \"p\" as E4  <<(T,blue)part>> [[psysml:86d86843-d597-4d6e-917a-885d695bc43d ]] {\r\n",
       "}\r\n",
       "rec usage \"act\" as E5  <<(T,blue)action>> [[psysml:6cb3785d-90e3-4021-b607-f0ab9874924c ]] {\r\n",
       "}\r\n",
       "\r\n",
       "rec def \"S\" as E6  <<(T,blue)state def>> [[psysml:409d967c-2b55-4985-b068-ed253d96c58c ]] {\r\n",
       "rec usage \"S1\" as E7 [[psysml:5ea02985-bc8b-4cb1-bb08-c3caa7c881e0 ]] {\r\n",
       "}\r\n",
       "\r\n",
       "rec usage \"S2\" as E8 [[psysml:15193c6f-79c7-4ee2-a2ac-bfb559b7d876 ]] {\r\n",
       "desc \"S2\" as E8  : **do**/ \r\n",
       "}\r\n",
       "\r\n",
       "[*] - -> E7 [[psysml:50e6b136-bb64-4da5-b9f3-893462631a2b ]] \r\n",
       "E8  - -> [*] [[psysml:400438d1-4a79-4175-ae6b-80e92b548ca9 ]] : Exit \r\n",
       "desc \"S\" as E6  : **entry**/ A\r\n",
       "desc \"S\" as E6  : **do**/ B\r\n",
       "desc \"S\" as E6  : **exit**/ act \r\n",
       "}\r\n",
       "\r\n",
       "E7  - -> E8 [[psysml:516b9b87-0f3c-4a45-97aa-978805331ddd ]] : Sig /action D\r\n",
       "E8  - -> E7 [[psysml:0976314e-a9f7-4444-bafa-f8883db64fa0 ]] : Sig [true]/send s to p\r\n",
       "}\r\n",
       "@enduml\r\n",
       "\n",
       "PlantUML version 1.2020.13(Sat Jun 13 12:26:38 UTC 2020)\n",
       "(EPL source distribution)\n",
       "Java Runtime: OpenJDK Runtime Environment\n",
       "JVM: OpenJDK 64-Bit Server VM\n",
       "Default Encoding: UTF-8\n",
       "Language: en\n",
       "Country: null\n",
       "--></g></svg>"
      ]
     },
     "execution_count": 29,
     "metadata": {},
     "output_type": "execute_result"
    }
   ],
   "source": [
    "%viz --style=\"STDCOLOR\" --view=\"MIXED\" \"StateTest\""
   ]
  },
  {
   "cell_type": "code",
   "execution_count": 30,
   "id": "changed-stroke",
   "metadata": {
    "execution": {
     "iopub.execute_input": "2021-03-26T09:13:54.302884Z",
     "iopub.status.busy": "2021-03-26T09:13:54.302059Z",
     "iopub.status.idle": "2021-03-26T09:13:54.347489Z",
     "shell.execute_reply": "2021-03-26T09:13:54.346049Z"
    }
   },
   "outputs": [
    {
     "data": {
      "image/svg+xml": [
       "<?xml version=\"1.0\" encoding=\"UTF-8\" standalone=\"no\"?><svg xmlns=\"http://www.w3.org/2000/svg\" xmlns:xlink=\"http://www.w3.org/1999/xlink\" contentScriptType=\"application/ecmascript\" contentStyleType=\"text/css\" height=\"569px\" preserveAspectRatio=\"none\" style=\"width:923px;height:569px;\" version=\"1.1\" viewBox=\"0 0 923 569\" width=\"923px\" zoomAndPan=\"magnify\"><defs><filter height=\"300%\" id=\"f18up8cruy3ik9\" width=\"300%\" x=\"-1\" y=\"-1\"><feGaussianBlur result=\"blurOut\" stdDeviation=\"2.0\"/><feColorMatrix in=\"blurOut\" result=\"blurOut2\" type=\"matrix\" values=\"0 0 0 0 0 0 0 0 0 0 0 0 0 0 0 0 0 0 .4 0\"/><feOffset dx=\"4.0\" dy=\"4.0\" in=\"blurOut2\" result=\"blurOut3\"/><feBlend in=\"SourceGraphic\" in2=\"blurOut3\" mode=\"normal\"/></filter></defs><g><!--MD5=[fbc87193dbaf4d95561dea2c320d4a47]\n",
       "cluster E1--><a href=\"psysml:9c548ee6-d869-4820-b951-32f5a4e72165\" target=\"_top\" title=\"psysml:9c548ee6-d869-4820-b951-32f5a4e72165\" xlink:actuate=\"onRequest\" xlink:href=\"psysml:9c548ee6-d869-4820-b951-32f5a4e72165\" xlink:show=\"new\" xlink:title=\"psysml:9c548ee6-d869-4820-b951-32f5a4e72165\" xlink:type=\"simple\"><polygon fill=\"#FFFFFF\" filter=\"url(#f18up8cruy3ik9)\" points=\"16,6,98,6,105,28.2969,901,28.2969,901,557.5,16,557.5,16,6\" style=\"stroke: #000000; stroke-width: 1.5;\"/><line style=\"stroke: #000000; stroke-width: 1.5;\" x1=\"16\" x2=\"105\" y1=\"28.2969\" y2=\"28.2969\"/><text fill=\"#000000\" font-family=\"sans-serif\" font-size=\"14\" font-weight=\"bold\" lengthAdjust=\"spacingAndGlyphs\" textLength=\"76\" x=\"20\" y=\"20.9951\">StateTest</text></a><!--MD5=[14e3b0961a2654348d326746436168a1]\n",
       "cluster E6--><a href=\"psysml:409d967c-2b55-4985-b068-ed253d96c58c\" target=\"_top\" title=\"psysml:409d967c-2b55-4985-b068-ed253d96c58c\" xlink:actuate=\"onRequest\" xlink:href=\"psysml:409d967c-2b55-4985-b068-ed253d96c58c\" xlink:show=\"new\" xlink:title=\"psysml:409d967c-2b55-4985-b068-ed253d96c58c\" xlink:type=\"simple\"><rect fill=\"#FFFFFF\" filter=\"url(#f18up8cruy3ik9)\" height=\"484.5\" id=\"E6\" style=\"stroke: #A80036; stroke-width: 1.5;\" width=\"327\" x=\"550\" y=\"49\"/><rect fill=\"#FEFECE\" height=\"37.9375\" style=\"stroke: #A80036; stroke-width: 1.5;\" width=\"327\" x=\"550\" y=\"49\"/><text fill=\"#000000\" font-family=\"sans-serif\" font-size=\"12\" font-style=\"italic\" lengthAdjust=\"spacingAndGlyphs\" textLength=\"71\" x=\"678\" y=\"65.1387\">«state def»</text><text fill=\"#000000\" font-family=\"sans-serif\" font-size=\"12\" lengthAdjust=\"spacingAndGlyphs\" textLength=\"8\" x=\"709.5\" y=\"79.1074\">S</text><line style=\"stroke: #A80036; stroke-width: 1.0;\" x1=\"550\" x2=\"877\" y1=\"132.8438\" y2=\"132.8438\"/><text fill=\"#000000\" font-family=\"sans-serif\" font-size=\"12\" font-weight=\"bold\" lengthAdjust=\"spacingAndGlyphs\" textLength=\"38\" x=\"555\" y=\"100.0762\">entry</text><text fill=\"#000000\" font-family=\"sans-serif\" font-size=\"12\" lengthAdjust=\"spacingAndGlyphs\" textLength=\"16\" x=\"593\" y=\"100.0762\">/ A</text><text fill=\"#000000\" font-family=\"sans-serif\" font-size=\"12\" font-weight=\"bold\" lengthAdjust=\"spacingAndGlyphs\" textLength=\"18\" x=\"555\" y=\"114.0449\">do</text><text fill=\"#000000\" font-family=\"sans-serif\" font-size=\"12\" lengthAdjust=\"spacingAndGlyphs\" textLength=\"16\" x=\"573\" y=\"114.0449\">/ B</text><text fill=\"#000000\" font-family=\"sans-serif\" font-size=\"12\" font-weight=\"bold\" lengthAdjust=\"spacingAndGlyphs\" textLength=\"26\" x=\"555\" y=\"128.0137\">exit</text><text fill=\"#000000\" font-family=\"sans-serif\" font-size=\"12\" lengthAdjust=\"spacingAndGlyphs\" textLength=\"28\" x=\"581\" y=\"128.0137\">/ act</text></a><!--MD5=[b4997ac47864f28c2f74865a473b2911]\n",
       "class E2--><a href=\"psysml:7a2ca9b4-3a97-4e8a-92f8-a9f50dc832cb\" target=\"_top\" title=\"psysml:7a2ca9b4-3a97-4e8a-92f8-a9f50dc832cb\" xlink:actuate=\"onRequest\" xlink:href=\"psysml:7a2ca9b4-3a97-4e8a-92f8-a9f50dc832cb\" xlink:show=\"new\" xlink:title=\"psysml:7a2ca9b4-3a97-4e8a-92f8-a9f50dc832cb\" xlink:type=\"simple\"><rect fill=\"#FEFECE\" filter=\"url(#f18up8cruy3ik9)\" height=\"58.7422\" id=\"E2\" style=\"stroke: #A80036; stroke-width: 1.5;\" width=\"121\" x=\"412.5\" y=\"127.5\"/><ellipse cx=\"427.5\" cy=\"146.4688\" fill=\"#A52A2A\" rx=\"11\" ry=\"11\" style=\"stroke: #A80036; stroke-width: 1.0;\"/><path d=\"M427.0938,142.2813 L427.0938,150.2656 L427.75,150.2656 Q429.1875,150.2656 429.7969,149.3594 Q430.4219,148.4375 430.4219,146.2656 Q430.4219,144.0938 429.7969,143.1875 Q429.1875,142.2813 427.75,142.2813 L427.0938,142.2813 Z M424.6406,140.0781 L427.2656,140.0781 Q430.2969,140.0781 431.625,141.5313 Q432.9688,142.9688 432.9688,146.2656 Q432.9688,149.5625 431.625,151.0156 Q430.2969,152.4688 427.2656,152.4688 L424.6406,152.4688 L424.6406,140.0781 Z \"/><text fill=\"#000000\" font-family=\"sans-serif\" font-size=\"12\" font-style=\"italic\" lengthAdjust=\"spacingAndGlyphs\" textLength=\"93\" x=\"439.5\" y=\"143.6387\">«attribute def»</text><text fill=\"#000000\" font-family=\"sans-serif\" font-size=\"12\" lengthAdjust=\"spacingAndGlyphs\" textLength=\"19\" x=\"476.5\" y=\"157.6074\">Sig</text><line style=\"stroke: #A80036; stroke-width: 1.5;\" x1=\"413.5\" x2=\"532.5\" y1=\"165.4375\" y2=\"165.4375\"/><text fill=\"#000000\" font-family=\"sans-serif\" font-size=\"11\" lengthAdjust=\"spacingAndGlyphs\" textLength=\"6\" x=\"418.5\" y=\"179.6479\">x</text></a><!--MD5=[09b614a08d8cba4a07c9adeb5e0fee81]\n",
       "class E3--><a href=\"psysml:30361623-caf7-482c-9813-174242dd8f3c\" target=\"_top\" title=\"psysml:30361623-caf7-482c-9813-174242dd8f3c\" xlink:actuate=\"onRequest\" xlink:href=\"psysml:30361623-caf7-482c-9813-174242dd8f3c\" xlink:show=\"new\" xlink:title=\"psysml:30361623-caf7-482c-9813-174242dd8f3c\" xlink:type=\"simple\"><rect fill=\"#FEFECE\" filter=\"url(#f18up8cruy3ik9)\" height=\"45.9375\" id=\"E3\" style=\"stroke: #A80036; stroke-width: 1.5;\" width=\"121\" x=\"256.5\" y=\"134\"/><ellipse cx=\"271.5\" cy=\"152.9688\" fill=\"#A52A2A\" rx=\"11\" ry=\"11\" style=\"stroke: #A80036; stroke-width: 1.0;\"/><path d=\"M271.0938,148.7813 L271.0938,156.7656 L271.75,156.7656 Q273.1875,156.7656 273.7969,155.8594 Q274.4219,154.9375 274.4219,152.7656 Q274.4219,150.5938 273.7969,149.6875 Q273.1875,148.7813 271.75,148.7813 L271.0938,148.7813 Z M268.6406,146.5781 L271.2656,146.5781 Q274.2969,146.5781 275.625,148.0313 Q276.9688,149.4688 276.9688,152.7656 Q276.9688,156.0625 275.625,157.5156 Q274.2969,158.9688 271.2656,158.9688 L268.6406,158.9688 L268.6406,146.5781 Z \"/><text fill=\"#000000\" font-family=\"sans-serif\" font-size=\"12\" font-style=\"italic\" lengthAdjust=\"spacingAndGlyphs\" textLength=\"93\" x=\"283.5\" y=\"150.1387\">«attribute def»</text><text fill=\"#000000\" font-family=\"sans-serif\" font-size=\"12\" lengthAdjust=\"spacingAndGlyphs\" textLength=\"22\" x=\"319\" y=\"164.1074\">Exit</text><line style=\"stroke: #A80036; stroke-width: 1.5;\" x1=\"257.5\" x2=\"376.5\" y1=\"171.9375\" y2=\"171.9375\"/></a><!--MD5=[ebbe1d658d1005bcc118a6aa81145e00]\n",
       "class E4--><a href=\"psysml:86d86843-d597-4d6e-917a-885d695bc43d\" target=\"_top\" title=\"psysml:86d86843-d597-4d6e-917a-885d695bc43d\" xlink:actuate=\"onRequest\" xlink:href=\"psysml:86d86843-d597-4d6e-917a-885d695bc43d\" xlink:show=\"new\" xlink:title=\"psysml:86d86843-d597-4d6e-917a-885d695bc43d\" xlink:type=\"simple\"><rect fill=\"#FEFECE\" filter=\"url(#f18up8cruy3ik9)\" height=\"45.9375\" id=\"E4\" rx=\"10\" ry=\"10\" style=\"stroke: #A80036; stroke-width: 1.5;\" width=\"68\" x=\"153\" y=\"134\"/><ellipse cx=\"168\" cy=\"152.9688\" fill=\"#32CD32\" rx=\"11\" ry=\"11\" style=\"stroke: #A80036; stroke-width: 1.0;\"/><path d=\"M167.7969,148.6406 L167.7969,152.2656 L168.7969,152.2656 Q170,152.2656 170.4844,151.8594 Q170.9688,151.4531 170.9688,150.4531 Q170.9688,149.4531 170.4844,149.0469 Q170,148.6406 168.7969,148.6406 L167.7969,148.6406 Z M165.3438,146.5781 L168.7031,146.5781 Q171.2656,146.5781 172.3906,147.5 Q173.5156,148.4063 173.5156,150.4531 Q173.5156,152.5 172.3906,153.4219 Q171.2656,154.3281 168.7031,154.3281 L167.7969,154.3281 L167.7969,158.9688 L165.3438,158.9688 L165.3438,146.5781 Z \"/><text fill=\"#000000\" font-family=\"sans-serif\" font-size=\"12\" font-style=\"italic\" lengthAdjust=\"spacingAndGlyphs\" textLength=\"40\" x=\"180\" y=\"150.1387\">«part»</text><text fill=\"#000000\" font-family=\"sans-serif\" font-size=\"12\" lengthAdjust=\"spacingAndGlyphs\" textLength=\"8\" x=\"196\" y=\"164.1074\">p</text><line style=\"stroke: #A80036; stroke-width: 1.5;\" x1=\"154\" x2=\"220\" y1=\"171.9375\" y2=\"171.9375\"/></a><g id=\"E1.E5\"><a href=\"psysml:6cb3785d-90e3-4021-b607-f0ab9874924c\" target=\"_top\" title=\"psysml:6cb3785d-90e3-4021-b607-f0ab9874924c\" xlink:actuate=\"onRequest\" xlink:href=\"psysml:6cb3785d-90e3-4021-b607-f0ab9874924c\" xlink:show=\"new\" xlink:title=\"psysml:6cb3785d-90e3-4021-b607-f0ab9874924c\" xlink:type=\"simple\"><rect fill=\"#FEFECE\" filter=\"url(#f18up8cruy3ik9)\" height=\"42.9375\" id=\"E5\" rx=\"10\" ry=\"10\" style=\"stroke: #A80036; stroke-width: 1.5;\" width=\"86\" x=\"32\" y=\"135.5\"/><ellipse cx=\"49.25\" cy=\"154.4688\" fill=\"#FFA500\" rx=\"11\" ry=\"11\" style=\"stroke: #A80036; stroke-width: 1.0;\"/><path d=\"M45.125,156.3906 L45.125,148.5781 L47.5781,148.5781 L47.5781,157.0156 Q47.5781,157.9375 48.0469,158.4688 Q48.5313,159 49.3594,159 Q50.2031,159 50.6719,158.4688 Q51.1406,157.9375 51.1406,157.0156 L51.1406,148.5781 L53.5938,148.5781 L53.5938,156.3906 Q53.5938,158.9219 52.5938,160.0625 Q51.5938,161.2031 49.3594,161.2031 Q47.1406,161.2031 46.125,160.0625 Q45.125,158.9219 45.125,156.3906 Z \"/><text fill=\"#000000\" font-family=\"sans-serif\" font-size=\"12\" font-style=\"italic\" lengthAdjust=\"spacingAndGlyphs\" textLength=\"53\" x=\"61.75\" y=\"151.6387\">«action»</text><text fill=\"#000000\" font-family=\"sans-serif\" font-size=\"12\" lengthAdjust=\"spacingAndGlyphs\" textLength=\"20\" x=\"78.25\" y=\"165.6074\">act</text></a></g><ellipse cx=\"662\" cy=\"157\" fill=\"#000000\" filter=\"url(#f18up8cruy3ik9)\" rx=\"10\" ry=\"10\" style=\"stroke: none; stroke-width: 1.0;\"/><ellipse cx=\"662\" cy=\"507.5\" fill=\"none\" filter=\"url(#f18up8cruy3ik9)\" rx=\"10\" ry=\"10\" style=\"stroke: #000000; stroke-width: 1.0;\"/><ellipse cx=\"662.5\" cy=\"508\" fill=\"#000000\" rx=\"6\" ry=\"6\" style=\"stroke: none; stroke-width: 1.0;\"/><g id=\"E1.E6.E7\"><a href=\"psysml:5ea02985-bc8b-4cb1-bb08-c3caa7c881e0\" target=\"_top\" title=\"psysml:5ea02985-bc8b-4cb1-bb08-c3caa7c881e0\" xlink:actuate=\"onRequest\" xlink:href=\"psysml:5ea02985-bc8b-4cb1-bb08-c3caa7c881e0\" xlink:show=\"new\" xlink:title=\"psysml:5ea02985-bc8b-4cb1-bb08-c3caa7c881e0\" xlink:type=\"simple\"><rect fill=\"#FEFECE\" filter=\"url(#f18up8cruy3ik9)\" height=\"40\" id=\"E7\" rx=\"10\" ry=\"10\" style=\"stroke: #A80036; stroke-width: 1.5;\" width=\"53\" x=\"635.5\" y=\"247.5\"/><ellipse cx=\"652.75\" cy=\"263.5\" fill=\"#B6DBBB\" rx=\"11\" ry=\"11\" style=\"stroke: #A80036; stroke-width: 1.0;\"/><path d=\"M648.625,265.4219 L648.625,257.6094 L651.0781,257.6094 L651.0781,266.0469 Q651.0781,266.9688 651.5469,267.5 Q652.0313,268.0313 652.8594,268.0313 Q653.7031,268.0313 654.1719,267.5 Q654.6406,266.9688 654.6406,266.0469 L654.6406,257.6094 L657.0938,257.6094 L657.0938,265.4219 Q657.0938,267.9531 656.0938,269.0938 Q655.0938,270.2344 652.8594,270.2344 Q650.6406,270.2344 649.625,269.0938 Q648.625,267.9531 648.625,265.4219 Z \"/><text fill=\"#000000\" font-family=\"sans-serif\" font-size=\"12\" lengthAdjust=\"spacingAndGlyphs\" textLength=\"16\" x=\"667.25\" y=\"267.6543\">S1</text></a></g><g id=\"E1.E6.E8\"><a href=\"psysml:15193c6f-79c7-4ee2-a2ac-bfb559b7d876\" target=\"_top\" title=\"psysml:15193c6f-79c7-4ee2-a2ac-bfb559b7d876\" xlink:actuate=\"onRequest\" xlink:href=\"psysml:15193c6f-79c7-4ee2-a2ac-bfb559b7d876\" xlink:show=\"new\" xlink:title=\"psysml:15193c6f-79c7-4ee2-a2ac-bfb559b7d876\" xlink:type=\"simple\"><rect fill=\"#FEFECE\" filter=\"url(#f18up8cruy3ik9)\" height=\"55.9688\" id=\"E8\" rx=\"10\" ry=\"10\" style=\"stroke: #A80036; stroke-width: 1.5;\" width=\"58\" x=\"633\" y=\"364.5\"/><ellipse cx=\"652.5\" cy=\"380.5\" fill=\"#B6DBBB\" rx=\"11\" ry=\"11\" style=\"stroke: #A80036; stroke-width: 1.0;\"/><path d=\"M648.375,382.4219 L648.375,374.6094 L650.8281,374.6094 L650.8281,383.0469 Q650.8281,383.9688 651.2969,384.5 Q651.7813,385.0313 652.6094,385.0313 Q653.4531,385.0313 653.9219,384.5 Q654.3906,383.9688 654.3906,383.0469 L654.3906,374.6094 L656.8438,374.6094 L656.8438,382.4219 Q656.8438,384.9531 655.8438,386.0938 Q654.8438,387.2344 652.6094,387.2344 Q650.3906,387.2344 649.375,386.0938 Q648.375,384.9531 648.375,382.4219 Z \"/><text fill=\"#000000\" font-family=\"sans-serif\" font-size=\"12\" lengthAdjust=\"spacingAndGlyphs\" textLength=\"16\" x=\"667.5\" y=\"384.6543\">S2</text><line style=\"stroke: #A80036; stroke-width: 1.0;\" x1=\"633\" x2=\"691\" y1=\"396.5\" y2=\"396.5\"/><text fill=\"#000000\" font-family=\"sans-serif\" font-size=\"12\" font-weight=\"bold\" lengthAdjust=\"spacingAndGlyphs\" textLength=\"18\" x=\"638\" y=\"409.6387\">do</text><text fill=\"#000000\" font-family=\"sans-serif\" font-size=\"12\" lengthAdjust=\"spacingAndGlyphs\" textLength=\"4\" x=\"656\" y=\"409.6387\">/</text></a></g><!--MD5=[5a531d3a85f3339e6e197084acb48195]\n",
       "link *start*E6 to E7--><a href=\"psysml:50e6b136-bb64-4da5-b9f3-893462631a2b\" target=\"_top\" title=\"psysml:50e6b136-bb64-4da5-b9f3-893462631a2b\" xlink:actuate=\"onRequest\" xlink:href=\"psysml:50e6b136-bb64-4da5-b9f3-893462631a2b\" xlink:show=\"new\" xlink:title=\"psysml:50e6b136-bb64-4da5-b9f3-893462631a2b\" xlink:type=\"simple\"><path d=\"M662,167.25 C662,183.64 662,218.28 662,241.97 \" fill=\"none\" id=\"*start*E6-&gt;E7\" style=\"stroke: #A80036; stroke-width: 1.0;\"/><polygon fill=\"#A80036\" points=\"662,247.15,666,238.15,662,242.15,658,238.15,662,247.15\" style=\"stroke: #A80036; stroke-width: 1.0;\"/></a><!--MD5=[7ec9a8babba89ddcae1318ca9fb3c814]\n",
       "link E8 to *end*E6--><a href=\"psysml:400438d1-4a79-4175-ae6b-80e92b548ca9\" target=\"_top\" title=\"psysml:400438d1-4a79-4175-ae6b-80e92b548ca9\" xlink:actuate=\"onRequest\" xlink:href=\"psysml:400438d1-4a79-4175-ae6b-80e92b548ca9\" xlink:show=\"new\" xlink:title=\"psysml:400438d1-4a79-4175-ae6b-80e92b548ca9\" xlink:type=\"simple\"><path d=\"M662,420.57 C662,443.05 662,474.17 662,492.13 \" fill=\"none\" id=\"E8-&gt;*end*E6\" style=\"stroke: #A80036; stroke-width: 1.0;\"/><polygon fill=\"#A80036\" points=\"662,497.26,666,488.26,662,492.26,658,488.26,662,497.26\" style=\"stroke: #A80036; stroke-width: 1.0;\"/><text fill=\"#000000\" font-family=\"sans-serif\" font-size=\"13\" lengthAdjust=\"spacingAndGlyphs\" textLength=\"23\" x=\"663\" y=\"463.5669\">Exit</text></a><!--MD5=[79bc8f324ef4d02c541433f2e6e513c3]\n",
       "link E7 to E8--><a href=\"psysml:516b9b87-0f3c-4a45-97aa-978805331ddd\" target=\"_top\" title=\"psysml:516b9b87-0f3c-4a45-97aa-978805331ddd\" xlink:actuate=\"onRequest\" xlink:href=\"psysml:516b9b87-0f3c-4a45-97aa-978805331ddd\" xlink:show=\"new\" xlink:title=\"psysml:516b9b87-0f3c-4a45-97aa-978805331ddd\" xlink:type=\"simple\"><path d=\"M635.25,280.67 C613.47,292.49 587.88,311.93 598,334.5 C604.51,349.01 616.74,361.35 628.79,370.79 \" fill=\"none\" id=\"E7-&gt;E8\" style=\"stroke: #A80036; stroke-width: 1.0;\"/><polygon fill=\"#A80036\" points=\"632.86,373.88,628.0945,365.2609,628.872,370.864,623.2689,371.6416,632.86,373.88\" style=\"stroke: #A80036; stroke-width: 1.0;\"/><text fill=\"#000000\" font-family=\"sans-serif\" font-size=\"13\" lengthAdjust=\"spacingAndGlyphs\" textLength=\"81\" x=\"599\" y=\"330.5669\">Sig /action D</text></a><!--MD5=[bfa3c8b0d15052fdf50ae9310b491027]\n",
       "link E8 to E7--><a href=\"psysml:0976314e-a9f7-4444-bafa-f8883db64fa0\" target=\"_top\" title=\"psysml:0976314e-a9f7-4444-bafa-f8883db64fa0\" xlink:actuate=\"onRequest\" xlink:href=\"psysml:0976314e-a9f7-4444-bafa-f8883db64fa0\" xlink:show=\"new\" xlink:title=\"psysml:0976314e-a9f7-4444-bafa-f8883db64fa0\" xlink:type=\"simple\"><path d=\"M677.55,364.38 C683.68,350.5 688.51,333.26 685,317.5 C683.1,308.99 679.56,300.22 675.82,292.49 \" fill=\"none\" id=\"E8-&gt;E7\" style=\"stroke: #A80036; stroke-width: 1.0;\"/><polygon fill=\"#A80036\" points=\"673.47,287.82,673.9298,297.6581,675.7118,292.2893,681.0806,294.0713,673.47,287.82\" style=\"stroke: #A80036; stroke-width: 1.0;\"/><text fill=\"#000000\" font-family=\"sans-serif\" font-size=\"13\" lengthAdjust=\"spacingAndGlyphs\" textLength=\"135\" x=\"687\" y=\"330.5669\">Sig [true]/send s to p</text></a><!--MD5=[6dfc5fd540c112ec2bcdf6dea6204a5e]\n",
       "@startuml\r\n",
       " \r\n",
       "package \"StateTest\" as E1  [[psysml:9c548ee6-d869-4820-b951-32f5a4e72165 ]]  {\r\n",
       "comp def \"Sig\" as E2  <<(D,brown)attribute def>> [[psysml:7a2ca9b4-3a97-4e8a-92f8-a9f50dc832cb ]] {\r\n",
       "x\r\n",
       "}\r\n",
       "comp def \"Exit\" as E3  <<(D,brown)attribute def>> [[psysml:30361623-caf7-482c-9813-174242dd8f3c ]] {\r\n",
       "}\r\n",
       "comp usage \"p\" as E4  << (P,limegreen) part>> [[psysml:86d86843-d597-4d6e-917a-885d695bc43d ]] {\r\n",
       "}\r\n",
       "rec usage \"act\" as E5  <<(U,orange)action>> [[psysml:6cb3785d-90e3-4021-b607-f0ab9874924c ]] {\r\n",
       "}\r\n",
       "\r\n",
       "rec def \"S\" as E6  <<(D,brown)state def>> [[psysml:409d967c-2b55-4985-b068-ed253d96c58c ]] {\r\n",
       "rec usage \"S1\" as E7 [[psysml:5ea02985-bc8b-4cb1-bb08-c3caa7c881e0 ]] {\r\n",
       "}\r\n",
       "\r\n",
       "rec usage \"S2\" as E8 [[psysml:15193c6f-79c7-4ee2-a2ac-bfb559b7d876 ]] {\r\n",
       "desc \"S2\" as E8  : **do**/ \r\n",
       "}\r\n",
       "\r\n",
       "[*] - -> E7 [[psysml:50e6b136-bb64-4da5-b9f3-893462631a2b ]] \r\n",
       "E8  - -> [*] [[psysml:400438d1-4a79-4175-ae6b-80e92b548ca9 ]] : Exit \r\n",
       "desc \"S\" as E6  : **entry**/ A\r\n",
       "desc \"S\" as E6  : **do**/ B\r\n",
       "desc \"S\" as E6  : **exit**/ act \r\n",
       "}\r\n",
       "\r\n",
       "E7  - -> E8 [[psysml:516b9b87-0f3c-4a45-97aa-978805331ddd ]] : Sig /action D\r\n",
       "E8  - -> E7 [[psysml:0976314e-a9f7-4444-bafa-f8883db64fa0 ]] : Sig [true]/send s to p\r\n",
       "}\r\n",
       "@enduml\r\n",
       "\n",
       "PlantUML version 1.2020.13(Sat Jun 13 12:26:38 UTC 2020)\n",
       "(EPL source distribution)\n",
       "Java Runtime: OpenJDK Runtime Environment\n",
       "JVM: OpenJDK 64-Bit Server VM\n",
       "Default Encoding: UTF-8\n",
       "Language: en\n",
       "Country: null\n",
       "--></g></svg>"
      ]
     },
     "execution_count": 30,
     "metadata": {},
     "output_type": "execute_result"
    }
   ],
   "source": [
    "%viz --style=\"PLANTUML\" --view=\"Default\" \"StateTest\""
   ]
  },
  {
   "cell_type": "code",
   "execution_count": 31,
   "id": "rolled-mechanism",
   "metadata": {
    "execution": {
     "iopub.execute_input": "2021-03-26T09:13:54.398201Z",
     "iopub.status.busy": "2021-03-26T09:13:54.397537Z",
     "iopub.status.idle": "2021-03-26T09:13:54.493456Z",
     "shell.execute_reply": "2021-03-26T09:13:54.492983Z"
    }
   },
   "outputs": [
    {
     "data": {
      "image/svg+xml": [
       "<?xml version=\"1.0\" encoding=\"UTF-8\" standalone=\"no\"?><svg xmlns=\"http://www.w3.org/2000/svg\" xmlns:xlink=\"http://www.w3.org/1999/xlink\" contentScriptType=\"application/ecmascript\" contentStyleType=\"text/css\" height=\"471px\" preserveAspectRatio=\"none\" style=\"width:702px;height:471px;\" version=\"1.1\" viewBox=\"0 0 702 471\" width=\"702px\" zoomAndPan=\"magnify\"><defs><filter height=\"300%\" id=\"f1mu6b9u84lzkf\" width=\"300%\" x=\"-1\" y=\"-1\"><feGaussianBlur result=\"blurOut\" stdDeviation=\"2.0\"/><feColorMatrix in=\"blurOut\" result=\"blurOut2\" type=\"matrix\" values=\"0 0 0 0 0 0 0 0 0 0 0 0 0 0 0 0 0 0 .4 0\"/><feOffset dx=\"4.0\" dy=\"4.0\" in=\"blurOut2\" result=\"blurOut3\"/><feBlend in=\"SourceGraphic\" in2=\"blurOut3\" mode=\"normal\"/></filter></defs><g><!--MD5=[fbc87193dbaf4d95561dea2c320d4a47]\n",
       "cluster E1--><a href=\"psysml:9c548ee6-d869-4820-b951-32f5a4e72165\" target=\"_top\" title=\"psysml:9c548ee6-d869-4820-b951-32f5a4e72165\" xlink:actuate=\"onRequest\" xlink:href=\"psysml:9c548ee6-d869-4820-b951-32f5a4e72165\" xlink:show=\"new\" xlink:title=\"psysml:9c548ee6-d869-4820-b951-32f5a4e72165\" xlink:type=\"simple\"><polygon fill=\"#FFFFFF\" filter=\"url(#f1mu6b9u84lzkf)\" points=\"16,6,98,6,105,28.2969,680,28.2969,680,459,16,459,16,6\" style=\"stroke: #000000; stroke-width: 1.5;\"/><line style=\"stroke: #000000; stroke-width: 1.5;\" x1=\"16\" x2=\"105\" y1=\"28.2969\" y2=\"28.2969\"/><text fill=\"#000000\" font-family=\"sans-serif\" font-size=\"14\" font-weight=\"bold\" lengthAdjust=\"spacingAndGlyphs\" textLength=\"76\" x=\"20\" y=\"20.9951\">StateTest</text></a><!--MD5=[b4997ac47864f28c2f74865a473b2911]\n",
       "class E2--><a href=\"psysml:7a2ca9b4-3a97-4e8a-92f8-a9f50dc832cb\" target=\"_top\" title=\"psysml:7a2ca9b4-3a97-4e8a-92f8-a9f50dc832cb\" xlink:actuate=\"onRequest\" xlink:href=\"psysml:7a2ca9b4-3a97-4e8a-92f8-a9f50dc832cb\" xlink:show=\"new\" xlink:title=\"psysml:7a2ca9b4-3a97-4e8a-92f8-a9f50dc832cb\" xlink:type=\"simple\"><rect fill=\"#FEFECE\" filter=\"url(#f1mu6b9u84lzkf)\" height=\"58.7422\" id=\"E2\" style=\"stroke: #A80036; stroke-width: 1.5;\" width=\"121\" x=\"542.5\" y=\"91.5\"/><ellipse cx=\"557.5\" cy=\"110.4688\" fill=\"#A52A2A\" rx=\"11\" ry=\"11\" style=\"stroke: #A80036; stroke-width: 1.0;\"/><path d=\"M557.0938,106.2813 L557.0938,114.2656 L557.75,114.2656 Q559.1875,114.2656 559.7969,113.3594 Q560.4219,112.4375 560.4219,110.2656 Q560.4219,108.0938 559.7969,107.1875 Q559.1875,106.2813 557.75,106.2813 L557.0938,106.2813 Z M554.6406,104.0781 L557.2656,104.0781 Q560.2969,104.0781 561.625,105.5313 Q562.9688,106.9688 562.9688,110.2656 Q562.9688,113.5625 561.625,115.0156 Q560.2969,116.4688 557.2656,116.4688 L554.6406,116.4688 L554.6406,104.0781 Z \"/><text fill=\"#000000\" font-family=\"sans-serif\" font-size=\"12\" font-style=\"italic\" lengthAdjust=\"spacingAndGlyphs\" textLength=\"93\" x=\"569.5\" y=\"107.6387\">«attribute def»</text><text fill=\"#000000\" font-family=\"sans-serif\" font-size=\"12\" lengthAdjust=\"spacingAndGlyphs\" textLength=\"19\" x=\"606.5\" y=\"121.6074\">Sig</text><line style=\"stroke: #A80036; stroke-width: 1.5;\" x1=\"543.5\" x2=\"662.5\" y1=\"129.4375\" y2=\"129.4375\"/><text fill=\"#000000\" font-family=\"sans-serif\" font-size=\"11\" lengthAdjust=\"spacingAndGlyphs\" textLength=\"6\" x=\"548.5\" y=\"143.6479\">x</text></a><!--MD5=[09b614a08d8cba4a07c9adeb5e0fee81]\n",
       "class E3--><a href=\"psysml:30361623-caf7-482c-9813-174242dd8f3c\" target=\"_top\" title=\"psysml:30361623-caf7-482c-9813-174242dd8f3c\" xlink:actuate=\"onRequest\" xlink:href=\"psysml:30361623-caf7-482c-9813-174242dd8f3c\" xlink:show=\"new\" xlink:title=\"psysml:30361623-caf7-482c-9813-174242dd8f3c\" xlink:type=\"simple\"><rect fill=\"#FEFECE\" filter=\"url(#f1mu6b9u84lzkf)\" height=\"45.9375\" id=\"E3\" style=\"stroke: #A80036; stroke-width: 1.5;\" width=\"121\" x=\"386.5\" y=\"98\"/><ellipse cx=\"401.5\" cy=\"116.9688\" fill=\"#A52A2A\" rx=\"11\" ry=\"11\" style=\"stroke: #A80036; stroke-width: 1.0;\"/><path d=\"M401.0938,112.7813 L401.0938,120.7656 L401.75,120.7656 Q403.1875,120.7656 403.7969,119.8594 Q404.4219,118.9375 404.4219,116.7656 Q404.4219,114.5938 403.7969,113.6875 Q403.1875,112.7813 401.75,112.7813 L401.0938,112.7813 Z M398.6406,110.5781 L401.2656,110.5781 Q404.2969,110.5781 405.625,112.0313 Q406.9688,113.4688 406.9688,116.7656 Q406.9688,120.0625 405.625,121.5156 Q404.2969,122.9688 401.2656,122.9688 L398.6406,122.9688 L398.6406,110.5781 Z \"/><text fill=\"#000000\" font-family=\"sans-serif\" font-size=\"12\" font-style=\"italic\" lengthAdjust=\"spacingAndGlyphs\" textLength=\"93\" x=\"413.5\" y=\"114.1387\">«attribute def»</text><text fill=\"#000000\" font-family=\"sans-serif\" font-size=\"12\" lengthAdjust=\"spacingAndGlyphs\" textLength=\"22\" x=\"449\" y=\"128.1074\">Exit</text><line style=\"stroke: #A80036; stroke-width: 1.5;\" x1=\"387.5\" x2=\"506.5\" y1=\"135.9375\" y2=\"135.9375\"/></a><!--MD5=[ebbe1d658d1005bcc118a6aa81145e00]\n",
       "class E4--><a href=\"psysml:86d86843-d597-4d6e-917a-885d695bc43d\" target=\"_top\" title=\"psysml:86d86843-d597-4d6e-917a-885d695bc43d\" xlink:actuate=\"onRequest\" xlink:href=\"psysml:86d86843-d597-4d6e-917a-885d695bc43d\" xlink:show=\"new\" xlink:title=\"psysml:86d86843-d597-4d6e-917a-885d695bc43d\" xlink:type=\"simple\"><rect fill=\"#FEFECE\" filter=\"url(#f1mu6b9u84lzkf)\" height=\"45.9375\" id=\"E4\" rx=\"10\" ry=\"10\" style=\"stroke: #A80036; stroke-width: 1.5;\" width=\"68\" x=\"283\" y=\"98\"/><ellipse cx=\"298\" cy=\"116.9688\" fill=\"#32CD32\" rx=\"11\" ry=\"11\" style=\"stroke: #A80036; stroke-width: 1.0;\"/><path d=\"M297.7969,112.6406 L297.7969,116.2656 L298.7969,116.2656 Q300,116.2656 300.4844,115.8594 Q300.9688,115.4531 300.9688,114.4531 Q300.9688,113.4531 300.4844,113.0469 Q300,112.6406 298.7969,112.6406 L297.7969,112.6406 Z M295.3438,110.5781 L298.7031,110.5781 Q301.2656,110.5781 302.3906,111.5 Q303.5156,112.4063 303.5156,114.4531 Q303.5156,116.5 302.3906,117.4219 Q301.2656,118.3281 298.7031,118.3281 L297.7969,118.3281 L297.7969,122.9688 L295.3438,122.9688 L295.3438,110.5781 Z \"/><text fill=\"#000000\" font-family=\"sans-serif\" font-size=\"12\" font-style=\"italic\" lengthAdjust=\"spacingAndGlyphs\" textLength=\"40\" x=\"310\" y=\"114.1387\">«part»</text><text fill=\"#000000\" font-family=\"sans-serif\" font-size=\"12\" lengthAdjust=\"spacingAndGlyphs\" textLength=\"8\" x=\"326\" y=\"128.1074\">p</text><line style=\"stroke: #A80036; stroke-width: 1.5;\" x1=\"284\" x2=\"350\" y1=\"135.9375\" y2=\"135.9375\"/></a><!--MD5=[270fce915f116d4de14055a7c1d9a0f3]\n",
       "class E5--><a href=\"psysml:6cb3785d-90e3-4021-b607-f0ab9874924c\" target=\"_top\" title=\"psysml:6cb3785d-90e3-4021-b607-f0ab9874924c\" xlink:actuate=\"onRequest\" xlink:href=\"psysml:6cb3785d-90e3-4021-b607-f0ab9874924c\" xlink:show=\"new\" xlink:title=\"psysml:6cb3785d-90e3-4021-b607-f0ab9874924c\" xlink:type=\"simple\"><rect fill=\"#FEFECE\" filter=\"url(#f1mu6b9u84lzkf)\" height=\"45.9375\" id=\"E5\" rx=\"10\" ry=\"10\" style=\"stroke: #A80036; stroke-width: 1.5;\" width=\"81\" x=\"166.5\" y=\"98\"/><ellipse cx=\"181.5\" cy=\"116.9688\" fill=\"#FFA500\" rx=\"11\" ry=\"11\" style=\"stroke: #A80036; stroke-width: 1.0;\"/><path d=\"M177.375,118.8906 L177.375,111.0781 L179.8281,111.0781 L179.8281,119.5156 Q179.8281,120.4375 180.2969,120.9688 Q180.7813,121.5 181.6094,121.5 Q182.4531,121.5 182.9219,120.9688 Q183.3906,120.4375 183.3906,119.5156 L183.3906,111.0781 L185.8438,111.0781 L185.8438,118.8906 Q185.8438,121.4219 184.8438,122.5625 Q183.8438,123.7031 181.6094,123.7031 Q179.3906,123.7031 178.375,122.5625 Q177.375,121.4219 177.375,118.8906 Z \"/><text fill=\"#000000\" font-family=\"sans-serif\" font-size=\"12\" font-style=\"italic\" lengthAdjust=\"spacingAndGlyphs\" textLength=\"53\" x=\"193.5\" y=\"114.1387\">«action»</text><text fill=\"#000000\" font-family=\"sans-serif\" font-size=\"12\" lengthAdjust=\"spacingAndGlyphs\" textLength=\"20\" x=\"210\" y=\"128.1074\">act</text><line style=\"stroke: #A80036; stroke-width: 1.5;\" x1=\"167.5\" x2=\"246.5\" y1=\"135.9375\" y2=\"135.9375\"/></a><!--MD5=[60a26617385b1d2d0262a64233df1f8d]\n",
       "class E6--><a href=\"psysml:409d967c-2b55-4985-b068-ed253d96c58c\" target=\"_top\" title=\"psysml:409d967c-2b55-4985-b068-ed253d96c58c\" xlink:actuate=\"onRequest\" xlink:href=\"psysml:409d967c-2b55-4985-b068-ed253d96c58c\" xlink:show=\"new\" xlink:title=\"psysml:409d967c-2b55-4985-b068-ed253d96c58c\" xlink:type=\"simple\"><rect fill=\"#FEFECE\" filter=\"url(#f1mu6b9u84lzkf)\" height=\"160.375\" id=\"E6\" style=\"stroke: #A80036; stroke-width: 1.5;\" width=\"99\" x=\"32.5\" y=\"41\"/><ellipse cx=\"47.5\" cy=\"59.9688\" fill=\"#A52A2A\" rx=\"11\" ry=\"11\" style=\"stroke: #A80036; stroke-width: 1.0;\"/><path d=\"M47.0938,55.7813 L47.0938,63.7656 L47.75,63.7656 Q49.1875,63.7656 49.7969,62.8594 Q50.4219,61.9375 50.4219,59.7656 Q50.4219,57.5938 49.7969,56.6875 Q49.1875,55.7813 47.75,55.7813 L47.0938,55.7813 Z M44.6406,53.5781 L47.2656,53.5781 Q50.2969,53.5781 51.625,55.0313 Q52.9688,56.4688 52.9688,59.7656 Q52.9688,63.0625 51.625,64.5156 Q50.2969,65.9688 47.2656,65.9688 L44.6406,65.9688 L44.6406,53.5781 Z \"/><text fill=\"#000000\" font-family=\"sans-serif\" font-size=\"12\" font-style=\"italic\" lengthAdjust=\"spacingAndGlyphs\" textLength=\"71\" x=\"59.5\" y=\"57.1387\">«state def»</text><text fill=\"#000000\" font-family=\"sans-serif\" font-size=\"12\" lengthAdjust=\"spacingAndGlyphs\" textLength=\"8\" x=\"91\" y=\"71.1074\">S</text><line style=\"stroke: #A80036; stroke-width: 1.5;\" x1=\"33.5\" x2=\"130.5\" y1=\"78.9375\" y2=\"78.9375\"/><text fill=\"#000000\" font-family=\"sans-serif\" font-size=\"11\" lengthAdjust=\"spacingAndGlyphs\" textLength=\"17\" x=\"38.5\" y=\"109.9526\">act</text><text fill=\"#000000\" font-family=\"sans-serif\" font-size=\"11\" lengthAdjust=\"spacingAndGlyphs\" textLength=\"7\" x=\"38.5\" y=\"122.7573\">A</text><text fill=\"#000000\" font-family=\"sans-serif\" font-size=\"11\" lengthAdjust=\"spacingAndGlyphs\" textLength=\"8\" x=\"38.5\" y=\"135.562\">B</text><line style=\"stroke: #A80036; stroke-width: 1.0;\" x1=\"33.5\" x2=\"38.5\" y1=\"93.3398\" y2=\"93.3398\"/><text fill=\"#000000\" font-family=\"sans-serif\" font-size=\"11\" lengthAdjust=\"spacingAndGlyphs\" textLength=\"87\" x=\"38.5\" y=\"96.6479\">performActions</text><line style=\"stroke: #A80036; stroke-width: 1.0;\" x1=\"125.5\" x2=\"130.5\" y1=\"93.3398\" y2=\"93.3398\"/><text fill=\"#000000\" font-family=\"sans-serif\" font-size=\"11\" lengthAdjust=\"spacingAndGlyphs\" textLength=\"15\" x=\"38.5\" y=\"165.1714\">S1</text><line style=\"stroke: #A80036; stroke-width: 1.0;\" x1=\"33.5\" x2=\"64\" y1=\"148.5586\" y2=\"148.5586\"/><text fill=\"#000000\" font-family=\"sans-serif\" font-size=\"11\" lengthAdjust=\"spacingAndGlyphs\" textLength=\"36\" x=\"64\" y=\"151.8667\">states</text><line style=\"stroke: #A80036; stroke-width: 1.0;\" x1=\"100\" x2=\"130.5\" y1=\"148.5586\" y2=\"148.5586\"/><text fill=\"#000000\" font-family=\"sans-serif\" font-size=\"11\" lengthAdjust=\"spacingAndGlyphs\" textLength=\"7\" x=\"38.5\" y=\"194.7808\">T</text><line style=\"stroke: #A80036; stroke-width: 1.0;\" x1=\"33.5\" x2=\"51.5\" y1=\"178.168\" y2=\"178.168\"/><text fill=\"#000000\" font-family=\"sans-serif\" font-size=\"11\" lengthAdjust=\"spacingAndGlyphs\" textLength=\"61\" x=\"51.5\" y=\"181.4761\">transitions</text><line style=\"stroke: #A80036; stroke-width: 1.0;\" x1=\"112.5\" x2=\"130.5\" y1=\"178.168\" y2=\"178.168\"/></a><!--MD5=[1dd1bfd58a279cf63c5f349dbc8fc6a1]\n",
       "class E11--><a href=\"psysml:15193c6f-79c7-4ee2-a2ac-bfb559b7d876\" target=\"_top\" title=\"psysml:15193c6f-79c7-4ee2-a2ac-bfb559b7d876\" xlink:actuate=\"onRequest\" xlink:href=\"psysml:15193c6f-79c7-4ee2-a2ac-bfb559b7d876\" xlink:show=\"new\" xlink:title=\"psysml:15193c6f-79c7-4ee2-a2ac-bfb559b7d876\" xlink:type=\"simple\"><rect fill=\"#FEFECE\" filter=\"url(#f1mu6b9u84lzkf)\" height=\"45.9375\" id=\"E11\" rx=\"10\" ry=\"10\" style=\"stroke: #A80036; stroke-width: 1.5;\" width=\"75\" x=\"48.5\" y=\"261\"/><ellipse cx=\"63.5\" cy=\"279.9688\" fill=\"#FFA500\" rx=\"11\" ry=\"11\" style=\"stroke: #A80036; stroke-width: 1.0;\"/><path d=\"M59.375,281.8906 L59.375,274.0781 L61.8281,274.0781 L61.8281,282.5156 Q61.8281,283.4375 62.2969,283.9688 Q62.7813,284.5 63.6094,284.5 Q64.4531,284.5 64.9219,283.9688 Q65.3906,283.4375 65.3906,282.5156 L65.3906,274.0781 L67.8438,274.0781 L67.8438,281.8906 Q67.8438,284.4219 66.8438,285.5625 Q65.8438,286.7031 63.6094,286.7031 Q61.3906,286.7031 60.375,285.5625 Q59.375,284.4219 59.375,281.8906 Z \"/><text fill=\"#000000\" font-family=\"sans-serif\" font-size=\"12\" font-style=\"italic\" lengthAdjust=\"spacingAndGlyphs\" textLength=\"47\" x=\"75.5\" y=\"277.1387\">«state»</text><text fill=\"#000000\" font-family=\"sans-serif\" font-size=\"12\" lengthAdjust=\"spacingAndGlyphs\" textLength=\"16\" x=\"91\" y=\"291.1074\">S2</text><line style=\"stroke: #A80036; stroke-width: 1.5;\" x1=\"49.5\" x2=\"122.5\" y1=\"298.9375\" y2=\"298.9375\"/></a><!--MD5=[49a0ec8f00dab7302a31f22d0f0fe584]\n",
       "class E12--><a href=\"psysml:02a264b3-17c4-490c-b5b1-f49bb5aa02c2\" target=\"_top\" title=\"psysml:02a264b3-17c4-490c-b5b1-f49bb5aa02c2\" xlink:actuate=\"onRequest\" xlink:href=\"psysml:02a264b3-17c4-490c-b5b1-f49bb5aa02c2\" xlink:show=\"new\" xlink:title=\"psysml:02a264b3-17c4-490c-b5b1-f49bb5aa02c2\" xlink:type=\"simple\"><rect fill=\"#FEFECE\" filter=\"url(#f1mu6b9u84lzkf)\" height=\"75.5469\" id=\"E12\" rx=\"10\" ry=\"10\" style=\"stroke: #A80036; stroke-width: 1.5;\" width=\"116\" x=\"32\" y=\"367\"/><ellipse cx=\"47\" cy=\"385.9688\" fill=\"#B6DBBB\" rx=\"11\" ry=\"11\" style=\"stroke: #A80036; stroke-width: 1.0;\"/><path d=\"M42.875,387.8906 L42.875,380.0781 L45.3281,380.0781 L45.3281,388.5156 Q45.3281,389.4375 45.7969,389.9688 Q46.2813,390.5 47.1094,390.5 Q47.9531,390.5 48.4219,389.9688 Q48.8906,389.4375 48.8906,388.5156 L48.8906,380.0781 L51.3438,380.0781 L51.3438,387.8906 Q51.3438,390.4219 50.3438,391.5625 Q49.3438,392.7031 47.1094,392.7031 Q44.8906,392.7031 43.875,391.5625 Q42.875,390.4219 42.875,387.8906 Z \"/><text fill=\"#000000\" font-family=\"sans-serif\" font-size=\"12\" font-style=\"italic\" lengthAdjust=\"spacingAndGlyphs\" textLength=\"88\" x=\"59\" y=\"383.1387\">«send action»</text><text fill=\"#000000\" font-family=\"sans-serif\" font-size=\"12\" lengthAdjust=\"spacingAndGlyphs\" textLength=\"55\" x=\"75.5\" y=\"397.1074\">doAction</text><line style=\"stroke: #A80036; stroke-width: 1.5;\" x1=\"33\" x2=\"147\" y1=\"404.9375\" y2=\"404.9375\"/><text fill=\"#000000\" font-family=\"sans-serif\" font-size=\"11\" lengthAdjust=\"spacingAndGlyphs\" textLength=\"25\" x=\"38\" y=\"435.9526\">item</text><line style=\"stroke: #A80036; stroke-width: 1.0;\" x1=\"33\" x2=\"52.5\" y1=\"419.3398\" y2=\"419.3398\"/><text fill=\"#000000\" font-family=\"sans-serif\" font-size=\"11\" lengthAdjust=\"spacingAndGlyphs\" textLength=\"75\" x=\"52.5\" y=\"422.6479\">itemFeatures</text><line style=\"stroke: #A80036; stroke-width: 1.0;\" x1=\"127.5\" x2=\"147\" y1=\"419.3398\" y2=\"419.3398\"/></a><!--MD5=[1f5f03483f7de0d5b3680a7f6650997f]\n",
       "reverse link E6 to E11--><a href=\"psysml:15193c6f-79c7-4ee2-a2ac-bfb559b7d876\" target=\"_top\" title=\"psysml:15193c6f-79c7-4ee2-a2ac-bfb559b7d876\" xlink:actuate=\"onRequest\" xlink:href=\"psysml:15193c6f-79c7-4ee2-a2ac-bfb559b7d876\" xlink:show=\"new\" xlink:title=\"psysml:15193c6f-79c7-4ee2-a2ac-bfb559b7d876\" xlink:type=\"simple\"><path d=\"M84.29,214.17 C84.72,231.58 85.14,248.25 85.45,260.82 \" fill=\"none\" id=\"E6&lt;-E11\" style=\"stroke: #A80036; stroke-width: 1.0;\"/><polygon fill=\"#A80036\" points=\"83.96,201.09,80.1062,207.1849,84.25,213.0865,88.1038,206.9916,83.96,201.09\" style=\"stroke: #A80036; stroke-width: 1.0;\"/></a><!--MD5=[94adabc162ce7e41b39f13be14fbaeb3]\n",
       "reverse link E11 to E12--><a href=\"psysml:02a264b3-17c4-490c-b5b1-f49bb5aa02c2\" target=\"_top\" title=\"psysml:02a264b3-17c4-490c-b5b1-f49bb5aa02c2\" xlink:actuate=\"onRequest\" xlink:href=\"psysml:02a264b3-17c4-490c-b5b1-f49bb5aa02c2\" xlink:show=\"new\" xlink:title=\"psysml:02a264b3-17c4-490c-b5b1-f49bb5aa02c2\" xlink:type=\"simple\"><path d=\"M87.18,320.23 C87.67,334.82 88.24,351.76 88.74,366.58 \" fill=\"none\" id=\"E11&lt;-E12\" style=\"stroke: #A80036; stroke-width: 1.0;\"/><polygon fill=\"#FFFFFF\" points=\"86.74,307.1,82.9466,313.2327,87.1486,319.093,90.942,312.9603,86.74,307.1\" style=\"stroke: #A80036; stroke-width: 1.0;\"/></a><!--MD5=[9d312befb2c5b35a587240cc874c9983]\n",
       "@startuml\r\n",
       " \r\n",
       "package \"StateTest\" as E1  [[psysml:9c548ee6-d869-4820-b951-32f5a4e72165 ]]  {\r\n",
       "comp def \"Sig\" as E2  <<(D,brown)attribute def>> [[psysml:7a2ca9b4-3a97-4e8a-92f8-a9f50dc832cb ]] {\r\n",
       "x\r\n",
       "}\r\n",
       "comp def \"Exit\" as E3  <<(D,brown)attribute def>> [[psysml:30361623-caf7-482c-9813-174242dd8f3c ]] {\r\n",
       "}\r\n",
       "comp usage \"p\" as E4  << (P,limegreen) part>> [[psysml:86d86843-d597-4d6e-917a-885d695bc43d ]] {\r\n",
       "}\r\n",
       "comp usage \"act\" as E5  <<(U,orange)action>> [[psysml:6cb3785d-90e3-4021-b607-f0ab9874924c ]] {\r\n",
       "}\r\n",
       "comp def \"S\" as E6  <<(D,brown)state def>> [[psysml:409d967c-2b55-4985-b068-ed253d96c58c ]] {\r\n",
       "- - performActions - -\r\n",
       "act\r\n",
       "A\r\n",
       "B\r\n",
       "- - states - -\r\n",
       "S1\r\n",
       "- - transitions - -\r\n",
       "T\r\n",
       "}\r\n",
       "comp usage \"S2\" as E11  <<(U,orange)state>> [[psysml:15193c6f-79c7-4ee2-a2ac-bfb559b7d876 ]] {\r\n",
       "}\r\n",
       "comp usage \"doAction\" as E12 <<send action>> [[psysml:02a264b3-17c4-490c-b5b1-f49bb5aa02c2 ]] {\r\n",
       "- - itemFeatures - -\r\n",
       "item\r\n",
       "}\r\n",
       "E6 *- - E11 [[psysml:15193c6f-79c7-4ee2-a2ac-bfb559b7d876 ]] \r\n",
       "E11 o- - E12 [[psysml:02a264b3-17c4-490c-b5b1-f49bb5aa02c2 ]] \r\n",
       "}\r\n",
       "@enduml\r\n",
       "\n",
       "PlantUML version 1.2020.13(Sat Jun 13 12:26:38 UTC 2020)\n",
       "(EPL source distribution)\n",
       "Java Runtime: OpenJDK Runtime Environment\n",
       "JVM: OpenJDK 64-Bit Server VM\n",
       "Default Encoding: UTF-8\n",
       "Language: en\n",
       "Country: null\n",
       "--></g></svg>"
      ]
     },
     "execution_count": 31,
     "metadata": {},
     "output_type": "execute_result"
    }
   ],
   "source": [
    "%viz --style=\"PLANTUML\" --view=\"Tree\" \"StateTest\""
   ]
  },
  {
   "cell_type": "code",
   "execution_count": 32,
   "id": "floppy-boating",
   "metadata": {
    "execution": {
     "iopub.execute_input": "2021-03-26T09:13:54.544207Z",
     "iopub.status.busy": "2021-03-26T09:13:54.543705Z",
     "iopub.status.idle": "2021-03-26T09:13:54.571138Z",
     "shell.execute_reply": "2021-03-26T09:13:54.569930Z"
    }
   },
   "outputs": [
    {
     "data": {
      "image/svg+xml": [
       "<?xml version=\"1.0\" encoding=\"UTF-8\" standalone=\"no\"?><svg xmlns=\"http://www.w3.org/2000/svg\" xmlns:xlink=\"http://www.w3.org/1999/xlink\" contentScriptType=\"application/ecmascript\" contentStyleType=\"text/css\" height=\"491px\" preserveAspectRatio=\"none\" style=\"width:353px;height:491px;\" version=\"1.1\" viewBox=\"0 0 353 491\" width=\"353px\" zoomAndPan=\"magnify\"><defs><filter height=\"300%\" id=\"f3omlvhct0bk8\" width=\"300%\" x=\"-1\" y=\"-1\"><feGaussianBlur result=\"blurOut\" stdDeviation=\"2.0\"/><feColorMatrix in=\"blurOut\" result=\"blurOut2\" type=\"matrix\" values=\"0 0 0 0 0 0 0 0 0 0 0 0 0 0 0 0 0 0 .4 0\"/><feOffset dx=\"4.0\" dy=\"4.0\" in=\"blurOut2\" result=\"blurOut3\"/><feBlend in=\"SourceGraphic\" in2=\"blurOut3\" mode=\"normal\"/></filter></defs><g><!--MD5=[fbc87193dbaf4d95561dea2c320d4a47]\n",
       "cluster E1--><a href=\"psysml:409d967c-2b55-4985-b068-ed253d96c58c\" target=\"_top\" title=\"psysml:409d967c-2b55-4985-b068-ed253d96c58c\" xlink:actuate=\"onRequest\" xlink:href=\"psysml:409d967c-2b55-4985-b068-ed253d96c58c\" xlink:show=\"new\" xlink:title=\"psysml:409d967c-2b55-4985-b068-ed253d96c58c\" xlink:type=\"simple\"><rect fill=\"#FFFFFF\" filter=\"url(#f3omlvhct0bk8)\" height=\"465\" id=\"E1\" style=\"stroke: #A80036; stroke-width: 1.5;\" width=\"327\" x=\"7\" y=\"7\"/><rect fill=\"#FEFECE\" height=\"37.9375\" style=\"stroke: #A80036; stroke-width: 1.5;\" width=\"327\" x=\"7\" y=\"7\"/><text fill=\"#000000\" font-family=\"sans-serif\" font-size=\"12\" font-style=\"italic\" lengthAdjust=\"spacingAndGlyphs\" textLength=\"71\" x=\"135\" y=\"23.1387\">«state def»</text><text fill=\"#000000\" font-family=\"sans-serif\" font-size=\"12\" lengthAdjust=\"spacingAndGlyphs\" textLength=\"8\" x=\"166.5\" y=\"37.1074\">S</text><line style=\"stroke: #A80036; stroke-width: 1.0;\" x1=\"7\" x2=\"334\" y1=\"90.8438\" y2=\"90.8438\"/><text fill=\"#000000\" font-family=\"sans-serif\" font-size=\"12\" font-weight=\"bold\" lengthAdjust=\"spacingAndGlyphs\" textLength=\"38\" x=\"12\" y=\"58.0762\">entry</text><text fill=\"#000000\" font-family=\"sans-serif\" font-size=\"12\" lengthAdjust=\"spacingAndGlyphs\" textLength=\"16\" x=\"50\" y=\"58.0762\">/ A</text><text fill=\"#000000\" font-family=\"sans-serif\" font-size=\"12\" font-weight=\"bold\" lengthAdjust=\"spacingAndGlyphs\" textLength=\"18\" x=\"12\" y=\"72.0449\">do</text><text fill=\"#000000\" font-family=\"sans-serif\" font-size=\"12\" lengthAdjust=\"spacingAndGlyphs\" textLength=\"16\" x=\"30\" y=\"72.0449\">/ B</text><text fill=\"#000000\" font-family=\"sans-serif\" font-size=\"12\" font-weight=\"bold\" lengthAdjust=\"spacingAndGlyphs\" textLength=\"26\" x=\"12\" y=\"86.0137\">exit</text><text fill=\"#000000\" font-family=\"sans-serif\" font-size=\"12\" lengthAdjust=\"spacingAndGlyphs\" textLength=\"28\" x=\"38\" y=\"86.0137\">/ act</text></a><ellipse cx=\"119\" cy=\"115\" fill=\"#000000\" filter=\"url(#f3omlvhct0bk8)\" rx=\"10\" ry=\"10\" style=\"stroke: none; stroke-width: 1.0;\"/><ellipse cx=\"119\" cy=\"446\" fill=\"none\" filter=\"url(#f3omlvhct0bk8)\" rx=\"10\" ry=\"10\" style=\"stroke: #000000; stroke-width: 1.0;\"/><ellipse cx=\"119.5\" cy=\"446.5\" fill=\"#000000\" rx=\"6\" ry=\"6\" style=\"stroke: none; stroke-width: 1.0;\"/><g id=\"E1.E2\"><a href=\"psysml:5ea02985-bc8b-4cb1-bb08-c3caa7c881e0\" target=\"_top\" title=\"psysml:5ea02985-bc8b-4cb1-bb08-c3caa7c881e0\" xlink:actuate=\"onRequest\" xlink:href=\"psysml:5ea02985-bc8b-4cb1-bb08-c3caa7c881e0\" xlink:show=\"new\" xlink:title=\"psysml:5ea02985-bc8b-4cb1-bb08-c3caa7c881e0\" xlink:type=\"simple\"><rect fill=\"#FEFECE\" filter=\"url(#f3omlvhct0bk8)\" height=\"40\" id=\"E2\" rx=\"10\" ry=\"10\" style=\"stroke: #A80036; stroke-width: 1.5;\" width=\"53\" x=\"92.5\" y=\"186\"/><ellipse cx=\"109.75\" cy=\"202\" fill=\"#B6DBBB\" rx=\"11\" ry=\"11\" style=\"stroke: #A80036; stroke-width: 1.0;\"/><path d=\"M105.625,203.9219 L105.625,196.1094 L108.0781,196.1094 L108.0781,204.5469 Q108.0781,205.4688 108.5469,206 Q109.0313,206.5313 109.8594,206.5313 Q110.7031,206.5313 111.1719,206 Q111.6406,205.4688 111.6406,204.5469 L111.6406,196.1094 L114.0938,196.1094 L114.0938,203.9219 Q114.0938,206.4531 113.0938,207.5938 Q112.0938,208.7344 109.8594,208.7344 Q107.6406,208.7344 106.625,207.5938 Q105.625,206.4531 105.625,203.9219 Z \"/><text fill=\"#000000\" font-family=\"sans-serif\" font-size=\"12\" lengthAdjust=\"spacingAndGlyphs\" textLength=\"16\" x=\"124.25\" y=\"206.1543\">S1</text></a></g><g id=\"E1.E3\"><a href=\"psysml:15193c6f-79c7-4ee2-a2ac-bfb559b7d876\" target=\"_top\" title=\"psysml:15193c6f-79c7-4ee2-a2ac-bfb559b7d876\" xlink:actuate=\"onRequest\" xlink:href=\"psysml:15193c6f-79c7-4ee2-a2ac-bfb559b7d876\" xlink:show=\"new\" xlink:title=\"psysml:15193c6f-79c7-4ee2-a2ac-bfb559b7d876\" xlink:type=\"simple\"><rect fill=\"#FEFECE\" filter=\"url(#f3omlvhct0bk8)\" height=\"55.9688\" id=\"E3\" rx=\"10\" ry=\"10\" style=\"stroke: #A80036; stroke-width: 1.5;\" width=\"58\" x=\"90\" y=\"303\"/><ellipse cx=\"109.5\" cy=\"319\" fill=\"#B6DBBB\" rx=\"11\" ry=\"11\" style=\"stroke: #A80036; stroke-width: 1.0;\"/><path d=\"M105.375,320.9219 L105.375,313.1094 L107.8281,313.1094 L107.8281,321.5469 Q107.8281,322.4688 108.2969,323 Q108.7813,323.5313 109.6094,323.5313 Q110.4531,323.5313 110.9219,323 Q111.3906,322.4688 111.3906,321.5469 L111.3906,313.1094 L113.8438,313.1094 L113.8438,320.9219 Q113.8438,323.4531 112.8438,324.5938 Q111.8438,325.7344 109.6094,325.7344 Q107.3906,325.7344 106.375,324.5938 Q105.375,323.4531 105.375,320.9219 Z \"/><text fill=\"#000000\" font-family=\"sans-serif\" font-size=\"12\" lengthAdjust=\"spacingAndGlyphs\" textLength=\"16\" x=\"124.5\" y=\"323.1543\">S2</text><line style=\"stroke: #A80036; stroke-width: 1.0;\" x1=\"90\" x2=\"148\" y1=\"335\" y2=\"335\"/><text fill=\"#000000\" font-family=\"sans-serif\" font-size=\"12\" font-weight=\"bold\" lengthAdjust=\"spacingAndGlyphs\" textLength=\"18\" x=\"95\" y=\"348.1387\">do</text><text fill=\"#000000\" font-family=\"sans-serif\" font-size=\"12\" lengthAdjust=\"spacingAndGlyphs\" textLength=\"4\" x=\"113\" y=\"348.1387\">/</text></a></g><!--MD5=[cff944eb183b832d446717a4e202d613]\n",
       "link *start*E1 to E2--><a href=\"psysml:50e6b136-bb64-4da5-b9f3-893462631a2b\" target=\"_top\" title=\"psysml:50e6b136-bb64-4da5-b9f3-893462631a2b\" xlink:actuate=\"onRequest\" xlink:href=\"psysml:50e6b136-bb64-4da5-b9f3-893462631a2b\" xlink:show=\"new\" xlink:title=\"psysml:50e6b136-bb64-4da5-b9f3-893462631a2b\" xlink:type=\"simple\"><path d=\"M119,125.19 C119,138.18 119,162.38 119,180.73 \" fill=\"none\" id=\"*start*E1-&gt;E2\" style=\"stroke: #A80036; stroke-width: 1.0;\"/><polygon fill=\"#A80036\" points=\"119,185.74,123,176.74,119,180.74,115,176.74,119,185.74\" style=\"stroke: #A80036; stroke-width: 1.0;\"/></a><!--MD5=[9ee7afa76ca8c509b3d216624c3a9893]\n",
       "link E3 to *end*E1--><a href=\"psysml:400438d1-4a79-4175-ae6b-80e92b548ca9\" target=\"_top\" title=\"psysml:400438d1-4a79-4175-ae6b-80e92b548ca9\" xlink:actuate=\"onRequest\" xlink:href=\"psysml:400438d1-4a79-4175-ae6b-80e92b548ca9\" xlink:show=\"new\" xlink:title=\"psysml:400438d1-4a79-4175-ae6b-80e92b548ca9\" xlink:type=\"simple\"><path d=\"M119,359.07 C119,381.55 119,412.67 119,430.63 \" fill=\"none\" id=\"E3-&gt;*end*E1\" style=\"stroke: #A80036; stroke-width: 1.0;\"/><polygon fill=\"#A80036\" points=\"119,435.76,123,426.76,119,430.76,115,426.76,119,435.76\" style=\"stroke: #A80036; stroke-width: 1.0;\"/><text fill=\"#000000\" font-family=\"sans-serif\" font-size=\"13\" lengthAdjust=\"spacingAndGlyphs\" textLength=\"23\" x=\"120\" y=\"402.0669\">Exit</text></a><!--MD5=[2720a5a1f2c3fca2055b230370638851]\n",
       "link E2 to E3--><a href=\"psysml:516b9b87-0f3c-4a45-97aa-978805331ddd\" target=\"_top\" title=\"psysml:516b9b87-0f3c-4a45-97aa-978805331ddd\" xlink:actuate=\"onRequest\" xlink:href=\"psysml:516b9b87-0f3c-4a45-97aa-978805331ddd\" xlink:show=\"new\" xlink:title=\"psysml:516b9b87-0f3c-4a45-97aa-978805331ddd\" xlink:type=\"simple\"><path d=\"M92.25,219.17 C70.47,230.99 44.88,250.43 55,273 C61.51,287.51 73.74,299.85 85.79,309.29 \" fill=\"none\" id=\"E2-&gt;E3\" style=\"stroke: #A80036; stroke-width: 1.0;\"/><polygon fill=\"#A80036\" points=\"89.86,312.38,85.0945,303.7609,85.872,309.364,80.2689,310.1416,89.86,312.38\" style=\"stroke: #A80036; stroke-width: 1.0;\"/><text fill=\"#000000\" font-family=\"sans-serif\" font-size=\"13\" lengthAdjust=\"spacingAndGlyphs\" textLength=\"81\" x=\"56\" y=\"269.0669\">Sig /action D</text></a><!--MD5=[05d275557350bfb9b23a4ef7222b4c39]\n",
       "link E3 to E2--><a href=\"psysml:0976314e-a9f7-4444-bafa-f8883db64fa0\" target=\"_top\" title=\"psysml:0976314e-a9f7-4444-bafa-f8883db64fa0\" xlink:actuate=\"onRequest\" xlink:href=\"psysml:0976314e-a9f7-4444-bafa-f8883db64fa0\" xlink:show=\"new\" xlink:title=\"psysml:0976314e-a9f7-4444-bafa-f8883db64fa0\" xlink:type=\"simple\"><path d=\"M134.55,302.88 C140.68,289 145.51,271.76 142,256 C140.1,247.49 136.56,238.72 132.82,230.99 \" fill=\"none\" id=\"E3-&gt;E2\" style=\"stroke: #A80036; stroke-width: 1.0;\"/><polygon fill=\"#A80036\" points=\"130.47,226.32,130.9298,236.1581,132.7118,230.7893,138.0806,232.5713,130.47,226.32\" style=\"stroke: #A80036; stroke-width: 1.0;\"/><text fill=\"#000000\" font-family=\"sans-serif\" font-size=\"13\" lengthAdjust=\"spacingAndGlyphs\" textLength=\"135\" x=\"144\" y=\"269.0669\">Sig [true]/send s to p</text></a><!--MD5=[2c6406e280e43ce081a287463b8023b5]\n",
       "@startuml\r\n",
       " \r\n",
       "rec def \"S\" as E1  <<(D,brown)state def>> [[psysml:409d967c-2b55-4985-b068-ed253d96c58c ]] {\r\n",
       "rec usage \"S1\" as E2 [[psysml:5ea02985-bc8b-4cb1-bb08-c3caa7c881e0 ]] {\r\n",
       "}\r\n",
       "\r\n",
       "rec usage \"S2\" as E3 [[psysml:15193c6f-79c7-4ee2-a2ac-bfb559b7d876 ]] {\r\n",
       "desc \"S2\" as E3  : **do**/ \r\n",
       "}\r\n",
       "\r\n",
       "[*] - -> E2 [[psysml:50e6b136-bb64-4da5-b9f3-893462631a2b ]] \r\n",
       "E3  - -> [*] [[psysml:400438d1-4a79-4175-ae6b-80e92b548ca9 ]] : Exit \r\n",
       "desc \"S\" as E1  : **entry**/ A\r\n",
       "desc \"S\" as E1  : **do**/ B\r\n",
       "desc \"S\" as E1  : **exit**/ act \r\n",
       "}\r\n",
       "\r\n",
       "E2  - -> E3 [[psysml:516b9b87-0f3c-4a45-97aa-978805331ddd ]] : Sig /action D\r\n",
       "E3  - -> E2 [[psysml:0976314e-a9f7-4444-bafa-f8883db64fa0 ]] : Sig [true]/send s to p\r\n",
       "@enduml\r\n",
       "\n",
       "PlantUML version 1.2020.13(Sat Jun 13 12:26:38 UTC 2020)\n",
       "(EPL source distribution)\n",
       "Java Runtime: OpenJDK Runtime Environment\n",
       "JVM: OpenJDK 64-Bit Server VM\n",
       "Default Encoding: UTF-8\n",
       "Language: en\n",
       "Country: null\n",
       "--></g></svg>"
      ]
     },
     "execution_count": 32,
     "metadata": {},
     "output_type": "execute_result"
    }
   ],
   "source": [
    "%viz --style=\"PLANTUML\" --view=\"State\" \"StateTest\""
   ]
  },
  {
   "cell_type": "code",
   "execution_count": 33,
   "id": "prompt-yeast",
   "metadata": {
    "execution": {
     "iopub.execute_input": "2021-03-26T09:13:54.622769Z",
     "iopub.status.busy": "2021-03-26T09:13:54.622309Z",
     "iopub.status.idle": "2021-03-26T09:13:54.647703Z",
     "shell.execute_reply": "2021-03-26T09:13:54.646507Z"
    }
   },
   "outputs": [
    {
     "data": {
      "image/svg+xml": [
       "<?xml version=\"1.0\" encoding=\"UTF-8\" standalone=\"no\"?><svg xmlns=\"http://www.w3.org/2000/svg\" xmlns:xlink=\"http://www.w3.org/1999/xlink\" contentScriptType=\"application/ecmascript\" contentStyleType=\"text/css\" height=\"123px\" preserveAspectRatio=\"none\" style=\"width:870px;height:123px;\" version=\"1.1\" viewBox=\"0 0 870 123\" width=\"870px\" zoomAndPan=\"magnify\"><defs><filter height=\"300%\" id=\"fv4dhnjenwyz2\" width=\"300%\" x=\"-1\" y=\"-1\"><feGaussianBlur result=\"blurOut\" stdDeviation=\"2.0\"/><feColorMatrix in=\"blurOut\" result=\"blurOut2\" type=\"matrix\" values=\"0 0 0 0 0 0 0 0 0 0 0 0 0 0 0 0 0 0 .4 0\"/><feOffset dx=\"4.0\" dy=\"4.0\" in=\"blurOut2\" result=\"blurOut3\"/><feBlend in=\"SourceGraphic\" in2=\"blurOut3\" mode=\"normal\"/></filter></defs><g><!--MD5=[fbc87193dbaf4d95561dea2c320d4a47]\n",
       "cluster E1--><a href=\"psysml:9c548ee6-d869-4820-b951-32f5a4e72165\" target=\"_top\" title=\"psysml:9c548ee6-d869-4820-b951-32f5a4e72165\" xlink:actuate=\"onRequest\" xlink:href=\"psysml:9c548ee6-d869-4820-b951-32f5a4e72165\" xlink:show=\"new\" xlink:title=\"psysml:9c548ee6-d869-4820-b951-32f5a4e72165\" xlink:type=\"simple\"><polygon fill=\"#FFFFFF\" filter=\"url(#fv4dhnjenwyz2)\" points=\"16,6,98,6,105,28.2969,848,28.2969,848,111,16,111,16,6\" style=\"stroke: #000000; stroke-width: 1.5;\"/><line style=\"stroke: #000000; stroke-width: 1.5;\" x1=\"16\" x2=\"105\" y1=\"28.2969\" y2=\"28.2969\"/><text fill=\"#000000\" font-family=\"sans-serif\" font-size=\"14\" font-weight=\"bold\" lengthAdjust=\"spacingAndGlyphs\" textLength=\"76\" x=\"20\" y=\"20.9951\">StateTest</text></a><!--MD5=[b4997ac47864f28c2f74865a473b2911]\n",
       "class E2--><a href=\"psysml:7a2ca9b4-3a97-4e8a-92f8-a9f50dc832cb\" target=\"_top\" title=\"psysml:7a2ca9b4-3a97-4e8a-92f8-a9f50dc832cb\" xlink:actuate=\"onRequest\" xlink:href=\"psysml:7a2ca9b4-3a97-4e8a-92f8-a9f50dc832cb\" xlink:show=\"new\" xlink:title=\"psysml:7a2ca9b4-3a97-4e8a-92f8-a9f50dc832cb\" xlink:type=\"simple\"><rect fill=\"#FEFECE\" filter=\"url(#fv4dhnjenwyz2)\" height=\"53.9375\" id=\"E2\" style=\"stroke: #A80036; stroke-width: 1.5;\" width=\"182\" x=\"650\" y=\"41\"/><ellipse cx=\"665\" cy=\"59.9688\" fill=\"#ADD1B2\" rx=\"11\" ry=\"11\" style=\"stroke: #A80036; stroke-width: 1.0;\"/><path d=\"M667.9688,65.6094 Q667.3906,65.9063 666.75,66.0469 Q666.1094,66.2031 665.4063,66.2031 Q662.9063,66.2031 661.5781,64.5625 Q660.2656,62.9063 660.2656,59.7813 Q660.2656,56.6563 661.5781,55 Q662.9063,53.3438 665.4063,53.3438 Q666.1094,53.3438 666.75,53.5 Q667.4063,53.6563 667.9688,53.9531 L667.9688,56.6719 Q667.3438,56.0938 666.75,55.8281 Q666.1563,55.5469 665.5313,55.5469 Q664.1875,55.5469 663.5,56.625 Q662.8125,57.6875 662.8125,59.7813 Q662.8125,61.875 663.5,62.9531 Q664.1875,64.0156 665.5313,64.0156 Q666.1563,64.0156 666.75,63.75 Q667.3438,63.4688 667.9688,62.8906 L667.9688,65.6094 Z \"/><text fill=\"#000000\" font-family=\"sans-serif\" font-size=\"12\" font-style=\"italic\" lengthAdjust=\"spacingAndGlyphs\" textLength=\"154\" x=\"677\" y=\"57.1387\">«(D,brown)attribute def»</text><text fill=\"#000000\" font-family=\"sans-serif\" font-size=\"12\" lengthAdjust=\"spacingAndGlyphs\" textLength=\"19\" x=\"744.5\" y=\"71.1074\">Sig</text><line style=\"stroke: #A80036; stroke-width: 1.5;\" x1=\"651\" x2=\"831\" y1=\"78.9375\" y2=\"78.9375\"/><line style=\"stroke: #A80036; stroke-width: 1.5;\" x1=\"651\" x2=\"831\" y1=\"86.9375\" y2=\"86.9375\"/></a><!--MD5=[09b614a08d8cba4a07c9adeb5e0fee81]\n",
       "class E3--><a href=\"psysml:30361623-caf7-482c-9813-174242dd8f3c\" target=\"_top\" title=\"psysml:30361623-caf7-482c-9813-174242dd8f3c\" xlink:actuate=\"onRequest\" xlink:href=\"psysml:30361623-caf7-482c-9813-174242dd8f3c\" xlink:show=\"new\" xlink:title=\"psysml:30361623-caf7-482c-9813-174242dd8f3c\" xlink:type=\"simple\"><rect fill=\"#FEFECE\" filter=\"url(#fv4dhnjenwyz2)\" height=\"53.9375\" id=\"E3\" style=\"stroke: #A80036; stroke-width: 1.5;\" width=\"182\" x=\"433\" y=\"41\"/><ellipse cx=\"448\" cy=\"59.9688\" fill=\"#ADD1B2\" rx=\"11\" ry=\"11\" style=\"stroke: #A80036; stroke-width: 1.0;\"/><path d=\"M450.9688,65.6094 Q450.3906,65.9063 449.75,66.0469 Q449.1094,66.2031 448.4063,66.2031 Q445.9063,66.2031 444.5781,64.5625 Q443.2656,62.9063 443.2656,59.7813 Q443.2656,56.6563 444.5781,55 Q445.9063,53.3438 448.4063,53.3438 Q449.1094,53.3438 449.75,53.5 Q450.4063,53.6563 450.9688,53.9531 L450.9688,56.6719 Q450.3438,56.0938 449.75,55.8281 Q449.1563,55.5469 448.5313,55.5469 Q447.1875,55.5469 446.5,56.625 Q445.8125,57.6875 445.8125,59.7813 Q445.8125,61.875 446.5,62.9531 Q447.1875,64.0156 448.5313,64.0156 Q449.1563,64.0156 449.75,63.75 Q450.3438,63.4688 450.9688,62.8906 L450.9688,65.6094 Z \"/><text fill=\"#000000\" font-family=\"sans-serif\" font-size=\"12\" font-style=\"italic\" lengthAdjust=\"spacingAndGlyphs\" textLength=\"154\" x=\"460\" y=\"57.1387\">«(D,brown)attribute def»</text><text fill=\"#000000\" font-family=\"sans-serif\" font-size=\"12\" lengthAdjust=\"spacingAndGlyphs\" textLength=\"22\" x=\"526\" y=\"71.1074\">Exit</text><line style=\"stroke: #A80036; stroke-width: 1.5;\" x1=\"434\" x2=\"614\" y1=\"78.9375\" y2=\"78.9375\"/><line style=\"stroke: #A80036; stroke-width: 1.5;\" x1=\"434\" x2=\"614\" y1=\"86.9375\" y2=\"86.9375\"/></a><!--MD5=[60a26617385b1d2d0262a64233df1f8d]\n",
       "class E6--><a href=\"psysml:409d967c-2b55-4985-b068-ed253d96c58c\" target=\"_top\" title=\"psysml:409d967c-2b55-4985-b068-ed253d96c58c\" xlink:actuate=\"onRequest\" xlink:href=\"psysml:409d967c-2b55-4985-b068-ed253d96c58c\" xlink:show=\"new\" xlink:title=\"psysml:409d967c-2b55-4985-b068-ed253d96c58c\" xlink:type=\"simple\"><rect fill=\"#FEFECE\" filter=\"url(#fv4dhnjenwyz2)\" height=\"53.9375\" id=\"E6\" style=\"stroke: #A80036; stroke-width: 1.5;\" width=\"160\" x=\"238\" y=\"41\"/><ellipse cx=\"253\" cy=\"59.9688\" fill=\"#ADD1B2\" rx=\"11\" ry=\"11\" style=\"stroke: #A80036; stroke-width: 1.0;\"/><path d=\"M255.9688,65.6094 Q255.3906,65.9063 254.75,66.0469 Q254.1094,66.2031 253.4063,66.2031 Q250.9063,66.2031 249.5781,64.5625 Q248.2656,62.9063 248.2656,59.7813 Q248.2656,56.6563 249.5781,55 Q250.9063,53.3438 253.4063,53.3438 Q254.1094,53.3438 254.75,53.5 Q255.4063,53.6563 255.9688,53.9531 L255.9688,56.6719 Q255.3438,56.0938 254.75,55.8281 Q254.1563,55.5469 253.5313,55.5469 Q252.1875,55.5469 251.5,56.625 Q250.8125,57.6875 250.8125,59.7813 Q250.8125,61.875 251.5,62.9531 Q252.1875,64.0156 253.5313,64.0156 Q254.1563,64.0156 254.75,63.75 Q255.3438,63.4688 255.9688,62.8906 L255.9688,65.6094 Z \"/><text fill=\"#000000\" font-family=\"sans-serif\" font-size=\"12\" font-style=\"italic\" lengthAdjust=\"spacingAndGlyphs\" textLength=\"132\" x=\"265\" y=\"57.1387\">«(D,brown)state def»</text><text fill=\"#000000\" font-family=\"sans-serif\" font-size=\"12\" lengthAdjust=\"spacingAndGlyphs\" textLength=\"8\" x=\"327\" y=\"71.1074\">S</text><line style=\"stroke: #A80036; stroke-width: 1.5;\" x1=\"239\" x2=\"397\" y1=\"78.9375\" y2=\"78.9375\"/><line style=\"stroke: #A80036; stroke-width: 1.5;\" x1=\"239\" x2=\"397\" y1=\"86.9375\" y2=\"86.9375\"/></a><g id=\"E1.E4\"><a href=\"psysml:86d86843-d597-4d6e-917a-885d695bc43d\" target=\"_top\" title=\"psysml:86d86843-d597-4d6e-917a-885d695bc43d\" xlink:actuate=\"onRequest\" xlink:href=\"psysml:86d86843-d597-4d6e-917a-885d695bc43d\" xlink:show=\"new\" xlink:title=\"psysml:86d86843-d597-4d6e-917a-885d695bc43d\" xlink:type=\"simple\"><rect fill=\"#FEFECE\" filter=\"url(#fv4dhnjenwyz2)\" height=\"40\" id=\"E4\" rx=\"10\" ry=\"10\" style=\"stroke: #A80036; stroke-width: 1.5;\" width=\"50\" x=\"153\" y=\"48\"/><ellipse cx=\"172.5\" cy=\"64\" fill=\"#B6DBBB\" rx=\"11\" ry=\"11\" style=\"stroke: #A80036; stroke-width: 1.0;\"/><path d=\"M168.375,65.9219 L168.375,58.1094 L170.8281,58.1094 L170.8281,66.5469 Q170.8281,67.4688 171.2969,68 Q171.7813,68.5313 172.6094,68.5313 Q173.4531,68.5313 173.9219,68 Q174.3906,67.4688 174.3906,66.5469 L174.3906,58.1094 L176.8438,58.1094 L176.8438,65.9219 Q176.8438,68.4531 175.8438,69.5938 Q174.8438,70.7344 172.6094,70.7344 Q170.3906,70.7344 169.375,69.5938 Q168.375,68.4531 168.375,65.9219 Z \"/><text fill=\"#000000\" font-family=\"sans-serif\" font-size=\"12\" lengthAdjust=\"spacingAndGlyphs\" textLength=\"8\" x=\"187.5\" y=\"68.1543\">p</text></a></g><g id=\"E1.E5\"><a href=\"psysml:6cb3785d-90e3-4021-b607-f0ab9874924c\" target=\"_top\" title=\"psysml:6cb3785d-90e3-4021-b607-f0ab9874924c\" xlink:actuate=\"onRequest\" xlink:href=\"psysml:6cb3785d-90e3-4021-b607-f0ab9874924c\" xlink:show=\"new\" xlink:title=\"psysml:6cb3785d-90e3-4021-b607-f0ab9874924c\" xlink:type=\"simple\"><rect fill=\"#FEFECE\" filter=\"url(#fv4dhnjenwyz2)\" height=\"42.9375\" id=\"E5\" rx=\"10\" ry=\"10\" style=\"stroke: #A80036; stroke-width: 1.5;\" width=\"86\" x=\"32\" y=\"46.5\"/><ellipse cx=\"49.25\" cy=\"65.4688\" fill=\"#FFA500\" rx=\"11\" ry=\"11\" style=\"stroke: #A80036; stroke-width: 1.0;\"/><path d=\"M45.125,67.3906 L45.125,59.5781 L47.5781,59.5781 L47.5781,68.0156 Q47.5781,68.9375 48.0469,69.4688 Q48.5313,70 49.3594,70 Q50.2031,70 50.6719,69.4688 Q51.1406,68.9375 51.1406,68.0156 L51.1406,59.5781 L53.5938,59.5781 L53.5938,67.3906 Q53.5938,69.9219 52.5938,71.0625 Q51.5938,72.2031 49.3594,72.2031 Q47.1406,72.2031 46.125,71.0625 Q45.125,69.9219 45.125,67.3906 Z \"/><text fill=\"#000000\" font-family=\"sans-serif\" font-size=\"12\" font-style=\"italic\" lengthAdjust=\"spacingAndGlyphs\" textLength=\"53\" x=\"61.75\" y=\"62.6387\">«action»</text><text fill=\"#000000\" font-family=\"sans-serif\" font-size=\"12\" lengthAdjust=\"spacingAndGlyphs\" textLength=\"20\" x=\"78.25\" y=\"76.6074\">act</text></a></g><!--MD5=[6c3a1541a1f0c738a946e192f7ee21da]\n",
       "@startuml\r\n",
       "skinparam ranksep 8\r\n",
       "skinparam rectangle {\r\n",
       " backgroundColor<<block>> LightGreen\r\n",
       "}\r\n",
       " \r\n",
       "package \"StateTest\" as E1  [[psysml:9c548ee6-d869-4820-b951-32f5a4e72165 ]]  {\r\n",
       "def \"Sig\" as E2  <<(D,brown)attribute def>> [[psysml:7a2ca9b4-3a97-4e8a-92f8-a9f50dc832cb ]] \r\n",
       "def \"Exit\" as E3  <<(D,brown)attribute def>> [[psysml:30361623-caf7-482c-9813-174242dd8f3c ]] \r\n",
       "rec usage \"p\" as E4  [[psysml:86d86843-d597-4d6e-917a-885d695bc43d ]] {\r\n",
       "}\r\n",
       "rec usage \"act\" as E5  <<(U,orange)action>> [[psysml:6cb3785d-90e3-4021-b607-f0ab9874924c ]] {\r\n",
       "}\r\n",
       "def \"S\" as E6  <<(D,brown)state def>> [[psysml:409d967c-2b55-4985-b068-ed253d96c58c ]] \r\n",
       "}\r\n",
       "@enduml\r\n",
       "\n",
       "PlantUML version 1.2020.13(Sat Jun 13 12:26:38 UTC 2020)\n",
       "(EPL source distribution)\n",
       "Java Runtime: OpenJDK Runtime Environment\n",
       "JVM: OpenJDK 64-Bit Server VM\n",
       "Default Encoding: UTF-8\n",
       "Language: en\n",
       "Country: null\n",
       "--></g></svg>"
      ]
     },
     "execution_count": 33,
     "metadata": {},
     "output_type": "execute_result"
    }
   ],
   "source": [
    "%viz --style=\"PLANTUML\" --view=\"Interconnection\" \"StateTest\""
   ]
  },
  {
   "cell_type": "code",
   "execution_count": 34,
   "id": "about-penalty",
   "metadata": {
    "execution": {
     "iopub.execute_input": "2021-03-26T09:13:54.699564Z",
     "iopub.status.busy": "2021-03-26T09:13:54.699106Z",
     "iopub.status.idle": "2021-03-26T09:13:54.717455Z",
     "shell.execute_reply": "2021-03-26T09:13:54.716256Z"
    }
   },
   "outputs": [
    {
     "data": {
      "image/svg+xml": [
       "<?xml version=\"1.0\" encoding=\"UTF-8\" standalone=\"no\"?><svg xmlns=\"http://www.w3.org/2000/svg\" xmlns:xlink=\"http://www.w3.org/1999/xlink\" contentScriptType=\"application/ecmascript\" contentStyleType=\"text/css\" height=\"497px\" preserveAspectRatio=\"none\" style=\"width:817px;height:497px;background:#000000;\" version=\"1.1\" viewBox=\"0 0 817 497\" width=\"817px\" zoomAndPan=\"magnify\"><defs/><g><rect fill=\"#071405\" height=\"1\" style=\"stroke: #071405; stroke-width: 1.0;\" width=\"1\" x=\"0\" y=\"0\"/><rect fill=\"#FFFFFF\" height=\"53\" style=\"stroke: #FFFFFF; stroke-width: 1.0;\" width=\"816\" x=\"0\" y=\"0\"/><image height=\"53\" width=\"450\" x=\"1\" xlink:href=\"data:image/png;base64,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\" y=\"1\"/><rect fill=\"#000000\" height=\"389.8281\" style=\"stroke: #000000; stroke-width: 1.0;\" width=\"816\" x=\"0\" y=\"53\"/><rect fill=\"#33FF02\" height=\"21.2969\" style=\"stroke: #33FF02; stroke-width: 1.0;\" width=\"806\" x=\"5\" y=\"58\"/><text fill=\"#000000\" font-family=\"sans-serif\" font-size=\"14\" font-weight=\"bold\" lengthAdjust=\"spacingAndGlyphs\" textLength=\"178\" x=\"6\" y=\"73\">[From string (line 20) ]</text><text fill=\"#33FF02\" font-family=\"sans-serif\" font-size=\"14\" font-weight=\"bold\" lengthAdjust=\"spacingAndGlyphs\" textLength=\"0\" x=\"10\" y=\"93.2969\"/><text fill=\"#33FF02\" font-family=\"sans-serif\" font-size=\"14\" font-weight=\"bold\" lengthAdjust=\"spacingAndGlyphs\" textLength=\"79\" x=\"5\" y=\"109.5938\">@startuml</text><text fill=\"#33FF02\" font-family=\"sans-serif\" font-size=\"14\" font-weight=\"bold\" lengthAdjust=\"spacingAndGlyphs\" textLength=\"165\" x=\"5\" y=\"125.8906\">skinparam ranksep 8</text><text fill=\"#33FF02\" font-family=\"sans-serif\" font-size=\"14\" font-weight=\"bold\" lengthAdjust=\"spacingAndGlyphs\" textLength=\"0\" x=\"10\" y=\"142.1875\"/><text fill=\"#33FF02\" font-family=\"sans-serif\" font-size=\"14\" font-weight=\"bold\" lengthAdjust=\"spacingAndGlyphs\" textLength=\"806\" x=\"5\" y=\"158.4844\">rec usage \"act\" as E1  &lt;&lt;(U,orange)action&gt;&gt; [[psysml:6cb3785d-90e3-4021-b607-f0ab9874924c ]] {</text><text fill=\"#33FF02\" font-family=\"sans-serif\" font-size=\"14\" font-weight=\"bold\" lengthAdjust=\"spacingAndGlyphs\" textLength=\"10\" x=\"5\" y=\"174.7813\">}</text><text fill=\"#33FF02\" font-family=\"sans-serif\" font-size=\"14\" font-weight=\"bold\" lengthAdjust=\"spacingAndGlyphs\" textLength=\"0\" x=\"10\" y=\"191.0781\"/><text fill=\"#33FF02\" font-family=\"sans-serif\" font-size=\"14\" font-weight=\"bold\" lengthAdjust=\"spacingAndGlyphs\" textLength=\"792\" x=\"5\" y=\"207.375\">rec def \"S\" as E2  &lt;&lt;(D,brown)state def&gt;&gt; [[psysml:409d967c-2b55-4985-b068-ed253d96c58c ]] {</text><text fill=\"#33FF02\" font-family=\"sans-serif\" font-size=\"14\" font-weight=\"bold\" lengthAdjust=\"spacingAndGlyphs\" textLength=\"779\" x=\"5\" y=\"223.6719\">rec usage \"A\" as E3 &lt;&lt;perform action&gt;&gt; [[psysml:07283d54-b2b4-4955-9e37-5e3a59051776 ]] {</text><text fill=\"#33FF02\" font-family=\"sans-serif\" font-size=\"14\" font-weight=\"bold\" lengthAdjust=\"spacingAndGlyphs\" textLength=\"10\" x=\"5\" y=\"239.9688\">}</text><text fill=\"#33FF02\" font-family=\"sans-serif\" font-size=\"14\" font-weight=\"bold\" lengthAdjust=\"spacingAndGlyphs\" textLength=\"0\" x=\"10\" y=\"256.2656\"/><text fill=\"#33FF02\" font-family=\"sans-serif\" font-size=\"14\" font-weight=\"bold\" lengthAdjust=\"spacingAndGlyphs\" textLength=\"769\" x=\"5\" y=\"272.5625\">rec usage \"B\" as E4 &lt;&lt;perform action&gt;&gt; [[psysml:2d4c422d-af2d-4b90-a848-9846cea61c20 ]] {</text><text fill=\"#33FF02\" font-family=\"sans-serif\" font-size=\"14\" font-weight=\"bold\" lengthAdjust=\"spacingAndGlyphs\" textLength=\"10\" x=\"5\" y=\"288.8594\">}</text><text fill=\"#33FF02\" font-family=\"sans-serif\" font-size=\"14\" font-weight=\"bold\" lengthAdjust=\"spacingAndGlyphs\" textLength=\"0\" x=\"10\" y=\"305.1563\"/><text fill=\"#33FF02\" font-family=\"sans-serif\" font-size=\"14\" font-weight=\"bold\" lengthAdjust=\"spacingAndGlyphs\" textLength=\"769\" x=\"5\" y=\"321.4531\">rec usage \"act\" as E5 &lt;&lt;perform action&gt;&gt; [[psysml:eca97873-f4f2-4a4b-84f1-fbd6bb9f01a4 ]] {</text><text fill=\"#33FF02\" font-family=\"sans-serif\" font-size=\"14\" font-weight=\"bold\" lengthAdjust=\"spacingAndGlyphs\" textLength=\"10\" x=\"5\" y=\"337.75\">}</text><text fill=\"#33FF02\" font-family=\"sans-serif\" font-size=\"14\" font-weight=\"bold\" lengthAdjust=\"spacingAndGlyphs\" textLength=\"0\" x=\"10\" y=\"354.0469\"/><text fill=\"#33FF02\" font-family=\"sans-serif\" font-size=\"14\" font-weight=\"bold\" lengthAdjust=\"spacingAndGlyphs\" textLength=\"793\" x=\"5\" y=\"370.3438\">rec usage \"S1\" as E6  &lt;&lt;(U,orange)state&gt;&gt; [[psysml:5ea02985-bc8b-4cb1-bb08-c3caa7c881e0 ]] {</text><text fill=\"#33FF02\" font-family=\"sans-serif\" font-size=\"14\" font-weight=\"bold\" lengthAdjust=\"spacingAndGlyphs\" textLength=\"10\" x=\"5\" y=\"386.6406\">}</text><text fill=\"#33FF02\" font-family=\"sans-serif\" font-size=\"14\" font-weight=\"bold\" lengthAdjust=\"spacingAndGlyphs\" textLength=\"0\" x=\"10\" y=\"402.9375\"/><text fill=\"#33FF02\" font-family=\"sans-serif\" font-size=\"14\" font-weight=\"bold\" lengthAdjust=\"spacingAndGlyphs\" textLength=\"10\" x=\"5\" y=\"419.2344\">{</text><text fill=\"#FF0000\" font-family=\"sans-serif\" font-size=\"14\" font-weight=\"bold\" lengthAdjust=\"spacingAndGlyphs\" textLength=\"106\" x=\"10\" y=\"435.5313\">Syntax Error?</text><rect fill=\"#FFFFFF\" height=\"53\" style=\"stroke: #FFFFFF; stroke-width: 1.0;\" width=\"816\" x=\"0\" y=\"442.8281\"/><image height=\"53\" width=\"450\" x=\"1\" xlink:href=\"data:image/png;base64,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\" y=\"443.8281\"/><!--MD5=[bdc231ef2ad431e553bb66ae96b38463]\n",
       "@startuml\r\n",
       "skinparam ranksep 8\r\n",
       " \r\n",
       "rec usage \"act\" as E1  <<(U,orange)action>> [[psysml:6cb3785d-90e3-4021-b607-f0ab9874924c ]] {\r\n",
       "}\r\n",
       "\r\n",
       "rec def \"S\" as E2  <<(D,brown)state def>> [[psysml:409d967c-2b55-4985-b068-ed253d96c58c ]] {\r\n",
       "rec usage \"A\" as E3 <<perform action>> [[psysml:07283d54-b2b4-4955-9e37-5e3a59051776 ]] {\r\n",
       "}\r\n",
       "\r\n",
       "rec usage \"B\" as E4 <<perform action>> [[psysml:2d4c422d-af2d-4b90-a848-9846cea61c20 ]] {\r\n",
       "}\r\n",
       "\r\n",
       "rec usage \"act\" as E5 <<perform action>> [[psysml:eca97873-f4f2-4a4b-84f1-fbd6bb9f01a4 ]] {\r\n",
       "}\r\n",
       "\r\n",
       "rec usage \"S1\" as E6  <<(U,orange)state>> [[psysml:5ea02985-bc8b-4cb1-bb08-c3caa7c881e0 ]] {\r\n",
       "}\r\n",
       "\r\n",
       "{\r\n",
       "{\r\n",
       "}\r\n",
       "\r\n",
       "rec usage \"D\" as E7 <<perform action>> [[psysml:eaf0a112-33b0-4093-95e1-7dab572fe2f4 ]] {\r\n",
       "}\r\n",
       "\r\n",
       "}\r\n",
       "\r\n",
       "rec usage \"S2\" as E8  <<(U,orange)state>> [[psysml:15193c6f-79c7-4ee2-a2ac-bfb559b7d876 ]] {\r\n",
       "rec usage \"doAction\" as E9 <<send action>> [[psysml:02a264b3-17c4-490c-b5b1-f49bb5aa02c2 ]] {\r\n",
       "portin \"$x\" as E10  [[psysml:96622066-d3a2-4541-bee3-ae5bc19ea7c3 ]] \r\n",
       "portout \"$result\" as E11  [[psysml:b808addd-9ba8-4500-978c-50cd1b025f8a ]] \r\n",
       "}\r\n",
       "\r\n",
       "}\r\n",
       "\r\n",
       "{\r\n",
       "{\r\n",
       "}\r\n",
       "\r\n",
       "}\r\n",
       "\r\n",
       "rec usage \"T\" as E12  <<(U,orange)transition>> [[psysml:0976314e-a9f7-4444-bafa-f8883db64fa0 ]] {\r\n",
       "rec usage \"S2\" as E13  <<(U,orange)state>> [[psysml:15193c6f-79c7-4ee2-a2ac-bfb559b7d876 ]] {\r\n",
       "rec usage \"doAction\" as E14 <<send action>> [[psysml:02a264b3-17c4-490c-b5b1-f49bb5aa02c2 ]] {\r\n",
       "portin \"$x\" as E15  [[psysml:96622066-d3a2-4541-bee3-ae5bc19ea7c3 ]] \r\n",
       "portout \"$result\" as E16  [[psysml:b808addd-9ba8-4500-978c-50cd1b025f8a ]] \r\n",
       "}\r\n",
       "\r\n",
       "}\r\n",
       "\r\n",
       "{\r\n",
       "}\r\n",
       "\r\n",
       "portout \"$result\" as E17  [[psysml:8f7ffd4e-8810-46d2-96d4-50dc0ef167c4 ]] \r\n",
       "{\r\n",
       "}\r\n",
       "\r\n",
       "}\r\n",
       "\r\n",
       "}\r\n",
       "\r\n",
       "@enduml\r\n",
       "\n",
       "PlantUML version 1.2020.13(Sat Jun 13 12:26:38 UTC 2020)\n",
       "(EPL source distribution)\n",
       "Java Runtime: OpenJDK Runtime Environment\n",
       "JVM: OpenJDK 64-Bit Server VM\n",
       "Default Encoding: UTF-8\n",
       "Language: en\n",
       "Country: null\n",
       "--></g></svg>"
      ]
     },
     "execution_count": 34,
     "metadata": {},
     "output_type": "execute_result"
    }
   ],
   "source": [
    "%viz --style=\"PLANTUML\" --view=\"Action\" \"StateTest\""
   ]
  },
  {
   "cell_type": "code",
   "execution_count": 35,
   "id": "worse-poker",
   "metadata": {
    "execution": {
     "iopub.execute_input": "2021-03-26T09:13:54.767738Z",
     "iopub.status.busy": "2021-03-26T09:13:54.767364Z",
     "iopub.status.idle": "2021-03-26T09:13:54.860085Z",
     "shell.execute_reply": "2021-03-26T09:13:54.858386Z"
    }
   },
   "outputs": [
    {
     "data": {
      "image/svg+xml": [
       "<?xml version=\"1.0\" encoding=\"UTF-8\" standalone=\"no\"?><svg xmlns=\"http://www.w3.org/2000/svg\" xmlns:xlink=\"http://www.w3.org/1999/xlink\" contentScriptType=\"application/ecmascript\" contentStyleType=\"text/css\" height=\"471px\" preserveAspectRatio=\"none\" style=\"width:702px;height:471px;\" version=\"1.1\" viewBox=\"0 0 702 471\" width=\"702px\" zoomAndPan=\"magnify\"><defs><filter height=\"300%\" id=\"f1mu6b9u84lzkf\" width=\"300%\" x=\"-1\" y=\"-1\"><feGaussianBlur result=\"blurOut\" stdDeviation=\"2.0\"/><feColorMatrix in=\"blurOut\" result=\"blurOut2\" type=\"matrix\" values=\"0 0 0 0 0 0 0 0 0 0 0 0 0 0 0 0 0 0 .4 0\"/><feOffset dx=\"4.0\" dy=\"4.0\" in=\"blurOut2\" result=\"blurOut3\"/><feBlend in=\"SourceGraphic\" in2=\"blurOut3\" mode=\"normal\"/></filter></defs><g><!--MD5=[fbc87193dbaf4d95561dea2c320d4a47]\n",
       "cluster E1--><a href=\"psysml:9c548ee6-d869-4820-b951-32f5a4e72165\" target=\"_top\" title=\"psysml:9c548ee6-d869-4820-b951-32f5a4e72165\" xlink:actuate=\"onRequest\" xlink:href=\"psysml:9c548ee6-d869-4820-b951-32f5a4e72165\" xlink:show=\"new\" xlink:title=\"psysml:9c548ee6-d869-4820-b951-32f5a4e72165\" xlink:type=\"simple\"><polygon fill=\"#FFFFFF\" filter=\"url(#f1mu6b9u84lzkf)\" points=\"16,6,98,6,105,28.2969,680,28.2969,680,459,16,459,16,6\" style=\"stroke: #000000; stroke-width: 1.5;\"/><line style=\"stroke: #000000; stroke-width: 1.5;\" x1=\"16\" x2=\"105\" y1=\"28.2969\" y2=\"28.2969\"/><text fill=\"#000000\" font-family=\"sans-serif\" font-size=\"14\" font-weight=\"bold\" lengthAdjust=\"spacingAndGlyphs\" textLength=\"76\" x=\"20\" y=\"20.9951\">StateTest</text></a><!--MD5=[b4997ac47864f28c2f74865a473b2911]\n",
       "class E2--><a href=\"psysml:7a2ca9b4-3a97-4e8a-92f8-a9f50dc832cb\" target=\"_top\" title=\"psysml:7a2ca9b4-3a97-4e8a-92f8-a9f50dc832cb\" xlink:actuate=\"onRequest\" xlink:href=\"psysml:7a2ca9b4-3a97-4e8a-92f8-a9f50dc832cb\" xlink:show=\"new\" xlink:title=\"psysml:7a2ca9b4-3a97-4e8a-92f8-a9f50dc832cb\" xlink:type=\"simple\"><rect fill=\"#FEFECE\" filter=\"url(#f1mu6b9u84lzkf)\" height=\"58.7422\" id=\"E2\" style=\"stroke: #A80036; stroke-width: 1.5;\" width=\"121\" x=\"542.5\" y=\"91.5\"/><ellipse cx=\"557.5\" cy=\"110.4688\" fill=\"#A52A2A\" rx=\"11\" ry=\"11\" style=\"stroke: #A80036; stroke-width: 1.0;\"/><path d=\"M557.0938,106.2813 L557.0938,114.2656 L557.75,114.2656 Q559.1875,114.2656 559.7969,113.3594 Q560.4219,112.4375 560.4219,110.2656 Q560.4219,108.0938 559.7969,107.1875 Q559.1875,106.2813 557.75,106.2813 L557.0938,106.2813 Z M554.6406,104.0781 L557.2656,104.0781 Q560.2969,104.0781 561.625,105.5313 Q562.9688,106.9688 562.9688,110.2656 Q562.9688,113.5625 561.625,115.0156 Q560.2969,116.4688 557.2656,116.4688 L554.6406,116.4688 L554.6406,104.0781 Z \"/><text fill=\"#000000\" font-family=\"sans-serif\" font-size=\"12\" font-style=\"italic\" lengthAdjust=\"spacingAndGlyphs\" textLength=\"93\" x=\"569.5\" y=\"107.6387\">«attribute def»</text><text fill=\"#000000\" font-family=\"sans-serif\" font-size=\"12\" lengthAdjust=\"spacingAndGlyphs\" textLength=\"19\" x=\"606.5\" y=\"121.6074\">Sig</text><line style=\"stroke: #A80036; stroke-width: 1.5;\" x1=\"543.5\" x2=\"662.5\" y1=\"129.4375\" y2=\"129.4375\"/><text fill=\"#000000\" font-family=\"sans-serif\" font-size=\"11\" lengthAdjust=\"spacingAndGlyphs\" textLength=\"6\" x=\"548.5\" y=\"143.6479\">x</text></a><!--MD5=[09b614a08d8cba4a07c9adeb5e0fee81]\n",
       "class E3--><a href=\"psysml:30361623-caf7-482c-9813-174242dd8f3c\" target=\"_top\" title=\"psysml:30361623-caf7-482c-9813-174242dd8f3c\" xlink:actuate=\"onRequest\" xlink:href=\"psysml:30361623-caf7-482c-9813-174242dd8f3c\" xlink:show=\"new\" xlink:title=\"psysml:30361623-caf7-482c-9813-174242dd8f3c\" xlink:type=\"simple\"><rect fill=\"#FEFECE\" filter=\"url(#f1mu6b9u84lzkf)\" height=\"45.9375\" id=\"E3\" style=\"stroke: #A80036; stroke-width: 1.5;\" width=\"121\" x=\"386.5\" y=\"98\"/><ellipse cx=\"401.5\" cy=\"116.9688\" fill=\"#A52A2A\" rx=\"11\" ry=\"11\" style=\"stroke: #A80036; stroke-width: 1.0;\"/><path d=\"M401.0938,112.7813 L401.0938,120.7656 L401.75,120.7656 Q403.1875,120.7656 403.7969,119.8594 Q404.4219,118.9375 404.4219,116.7656 Q404.4219,114.5938 403.7969,113.6875 Q403.1875,112.7813 401.75,112.7813 L401.0938,112.7813 Z M398.6406,110.5781 L401.2656,110.5781 Q404.2969,110.5781 405.625,112.0313 Q406.9688,113.4688 406.9688,116.7656 Q406.9688,120.0625 405.625,121.5156 Q404.2969,122.9688 401.2656,122.9688 L398.6406,122.9688 L398.6406,110.5781 Z \"/><text fill=\"#000000\" font-family=\"sans-serif\" font-size=\"12\" font-style=\"italic\" lengthAdjust=\"spacingAndGlyphs\" textLength=\"93\" x=\"413.5\" y=\"114.1387\">«attribute def»</text><text fill=\"#000000\" font-family=\"sans-serif\" font-size=\"12\" lengthAdjust=\"spacingAndGlyphs\" textLength=\"22\" x=\"449\" y=\"128.1074\">Exit</text><line style=\"stroke: #A80036; stroke-width: 1.5;\" x1=\"387.5\" x2=\"506.5\" y1=\"135.9375\" y2=\"135.9375\"/></a><!--MD5=[ebbe1d658d1005bcc118a6aa81145e00]\n",
       "class E4--><a href=\"psysml:86d86843-d597-4d6e-917a-885d695bc43d\" target=\"_top\" title=\"psysml:86d86843-d597-4d6e-917a-885d695bc43d\" xlink:actuate=\"onRequest\" xlink:href=\"psysml:86d86843-d597-4d6e-917a-885d695bc43d\" xlink:show=\"new\" xlink:title=\"psysml:86d86843-d597-4d6e-917a-885d695bc43d\" xlink:type=\"simple\"><rect fill=\"#FEFECE\" filter=\"url(#f1mu6b9u84lzkf)\" height=\"45.9375\" id=\"E4\" rx=\"10\" ry=\"10\" style=\"stroke: #A80036; stroke-width: 1.5;\" width=\"68\" x=\"283\" y=\"98\"/><ellipse cx=\"298\" cy=\"116.9688\" fill=\"#32CD32\" rx=\"11\" ry=\"11\" style=\"stroke: #A80036; stroke-width: 1.0;\"/><path d=\"M297.7969,112.6406 L297.7969,116.2656 L298.7969,116.2656 Q300,116.2656 300.4844,115.8594 Q300.9688,115.4531 300.9688,114.4531 Q300.9688,113.4531 300.4844,113.0469 Q300,112.6406 298.7969,112.6406 L297.7969,112.6406 Z M295.3438,110.5781 L298.7031,110.5781 Q301.2656,110.5781 302.3906,111.5 Q303.5156,112.4063 303.5156,114.4531 Q303.5156,116.5 302.3906,117.4219 Q301.2656,118.3281 298.7031,118.3281 L297.7969,118.3281 L297.7969,122.9688 L295.3438,122.9688 L295.3438,110.5781 Z \"/><text fill=\"#000000\" font-family=\"sans-serif\" font-size=\"12\" font-style=\"italic\" lengthAdjust=\"spacingAndGlyphs\" textLength=\"40\" x=\"310\" y=\"114.1387\">«part»</text><text fill=\"#000000\" font-family=\"sans-serif\" font-size=\"12\" lengthAdjust=\"spacingAndGlyphs\" textLength=\"8\" x=\"326\" y=\"128.1074\">p</text><line style=\"stroke: #A80036; stroke-width: 1.5;\" x1=\"284\" x2=\"350\" y1=\"135.9375\" y2=\"135.9375\"/></a><!--MD5=[270fce915f116d4de14055a7c1d9a0f3]\n",
       "class E5--><a href=\"psysml:6cb3785d-90e3-4021-b607-f0ab9874924c\" target=\"_top\" title=\"psysml:6cb3785d-90e3-4021-b607-f0ab9874924c\" xlink:actuate=\"onRequest\" xlink:href=\"psysml:6cb3785d-90e3-4021-b607-f0ab9874924c\" xlink:show=\"new\" xlink:title=\"psysml:6cb3785d-90e3-4021-b607-f0ab9874924c\" xlink:type=\"simple\"><rect fill=\"#FEFECE\" filter=\"url(#f1mu6b9u84lzkf)\" height=\"45.9375\" id=\"E5\" rx=\"10\" ry=\"10\" style=\"stroke: #A80036; stroke-width: 1.5;\" width=\"81\" x=\"166.5\" y=\"98\"/><ellipse cx=\"181.5\" cy=\"116.9688\" fill=\"#FFA500\" rx=\"11\" ry=\"11\" style=\"stroke: #A80036; stroke-width: 1.0;\"/><path d=\"M177.375,118.8906 L177.375,111.0781 L179.8281,111.0781 L179.8281,119.5156 Q179.8281,120.4375 180.2969,120.9688 Q180.7813,121.5 181.6094,121.5 Q182.4531,121.5 182.9219,120.9688 Q183.3906,120.4375 183.3906,119.5156 L183.3906,111.0781 L185.8438,111.0781 L185.8438,118.8906 Q185.8438,121.4219 184.8438,122.5625 Q183.8438,123.7031 181.6094,123.7031 Q179.3906,123.7031 178.375,122.5625 Q177.375,121.4219 177.375,118.8906 Z \"/><text fill=\"#000000\" font-family=\"sans-serif\" font-size=\"12\" font-style=\"italic\" lengthAdjust=\"spacingAndGlyphs\" textLength=\"53\" x=\"193.5\" y=\"114.1387\">«action»</text><text fill=\"#000000\" font-family=\"sans-serif\" font-size=\"12\" lengthAdjust=\"spacingAndGlyphs\" textLength=\"20\" x=\"210\" y=\"128.1074\">act</text><line style=\"stroke: #A80036; stroke-width: 1.5;\" x1=\"167.5\" x2=\"246.5\" y1=\"135.9375\" y2=\"135.9375\"/></a><!--MD5=[60a26617385b1d2d0262a64233df1f8d]\n",
       "class E6--><a href=\"psysml:409d967c-2b55-4985-b068-ed253d96c58c\" target=\"_top\" title=\"psysml:409d967c-2b55-4985-b068-ed253d96c58c\" xlink:actuate=\"onRequest\" xlink:href=\"psysml:409d967c-2b55-4985-b068-ed253d96c58c\" xlink:show=\"new\" xlink:title=\"psysml:409d967c-2b55-4985-b068-ed253d96c58c\" xlink:type=\"simple\"><rect fill=\"#FEFECE\" filter=\"url(#f1mu6b9u84lzkf)\" height=\"160.375\" id=\"E6\" style=\"stroke: #A80036; stroke-width: 1.5;\" width=\"99\" x=\"32.5\" y=\"41\"/><ellipse cx=\"47.5\" cy=\"59.9688\" fill=\"#A52A2A\" rx=\"11\" ry=\"11\" style=\"stroke: #A80036; stroke-width: 1.0;\"/><path d=\"M47.0938,55.7813 L47.0938,63.7656 L47.75,63.7656 Q49.1875,63.7656 49.7969,62.8594 Q50.4219,61.9375 50.4219,59.7656 Q50.4219,57.5938 49.7969,56.6875 Q49.1875,55.7813 47.75,55.7813 L47.0938,55.7813 Z M44.6406,53.5781 L47.2656,53.5781 Q50.2969,53.5781 51.625,55.0313 Q52.9688,56.4688 52.9688,59.7656 Q52.9688,63.0625 51.625,64.5156 Q50.2969,65.9688 47.2656,65.9688 L44.6406,65.9688 L44.6406,53.5781 Z \"/><text fill=\"#000000\" font-family=\"sans-serif\" font-size=\"12\" font-style=\"italic\" lengthAdjust=\"spacingAndGlyphs\" textLength=\"71\" x=\"59.5\" y=\"57.1387\">«state def»</text><text fill=\"#000000\" font-family=\"sans-serif\" font-size=\"12\" lengthAdjust=\"spacingAndGlyphs\" textLength=\"8\" x=\"91\" y=\"71.1074\">S</text><line style=\"stroke: #A80036; stroke-width: 1.5;\" x1=\"33.5\" x2=\"130.5\" y1=\"78.9375\" y2=\"78.9375\"/><text fill=\"#000000\" font-family=\"sans-serif\" font-size=\"11\" lengthAdjust=\"spacingAndGlyphs\" textLength=\"17\" x=\"38.5\" y=\"109.9526\">act</text><text fill=\"#000000\" font-family=\"sans-serif\" font-size=\"11\" lengthAdjust=\"spacingAndGlyphs\" textLength=\"7\" x=\"38.5\" y=\"122.7573\">A</text><text fill=\"#000000\" font-family=\"sans-serif\" font-size=\"11\" lengthAdjust=\"spacingAndGlyphs\" textLength=\"8\" x=\"38.5\" y=\"135.562\">B</text><line style=\"stroke: #A80036; stroke-width: 1.0;\" x1=\"33.5\" x2=\"38.5\" y1=\"93.3398\" y2=\"93.3398\"/><text fill=\"#000000\" font-family=\"sans-serif\" font-size=\"11\" lengthAdjust=\"spacingAndGlyphs\" textLength=\"87\" x=\"38.5\" y=\"96.6479\">performActions</text><line style=\"stroke: #A80036; stroke-width: 1.0;\" x1=\"125.5\" x2=\"130.5\" y1=\"93.3398\" y2=\"93.3398\"/><text fill=\"#000000\" font-family=\"sans-serif\" font-size=\"11\" lengthAdjust=\"spacingAndGlyphs\" textLength=\"15\" x=\"38.5\" y=\"165.1714\">S1</text><line style=\"stroke: #A80036; stroke-width: 1.0;\" x1=\"33.5\" x2=\"64\" y1=\"148.5586\" y2=\"148.5586\"/><text fill=\"#000000\" font-family=\"sans-serif\" font-size=\"11\" lengthAdjust=\"spacingAndGlyphs\" textLength=\"36\" x=\"64\" y=\"151.8667\">states</text><line style=\"stroke: #A80036; stroke-width: 1.0;\" x1=\"100\" x2=\"130.5\" y1=\"148.5586\" y2=\"148.5586\"/><text fill=\"#000000\" font-family=\"sans-serif\" font-size=\"11\" lengthAdjust=\"spacingAndGlyphs\" textLength=\"7\" x=\"38.5\" y=\"194.7808\">T</text><line style=\"stroke: #A80036; stroke-width: 1.0;\" x1=\"33.5\" x2=\"51.5\" y1=\"178.168\" y2=\"178.168\"/><text fill=\"#000000\" font-family=\"sans-serif\" font-size=\"11\" lengthAdjust=\"spacingAndGlyphs\" textLength=\"61\" x=\"51.5\" y=\"181.4761\">transitions</text><line style=\"stroke: #A80036; stroke-width: 1.0;\" x1=\"112.5\" x2=\"130.5\" y1=\"178.168\" y2=\"178.168\"/></a><!--MD5=[1dd1bfd58a279cf63c5f349dbc8fc6a1]\n",
       "class E11--><a href=\"psysml:15193c6f-79c7-4ee2-a2ac-bfb559b7d876\" target=\"_top\" title=\"psysml:15193c6f-79c7-4ee2-a2ac-bfb559b7d876\" xlink:actuate=\"onRequest\" xlink:href=\"psysml:15193c6f-79c7-4ee2-a2ac-bfb559b7d876\" xlink:show=\"new\" xlink:title=\"psysml:15193c6f-79c7-4ee2-a2ac-bfb559b7d876\" xlink:type=\"simple\"><rect fill=\"#FEFECE\" filter=\"url(#f1mu6b9u84lzkf)\" height=\"45.9375\" id=\"E11\" rx=\"10\" ry=\"10\" style=\"stroke: #A80036; stroke-width: 1.5;\" width=\"75\" x=\"48.5\" y=\"261\"/><ellipse cx=\"63.5\" cy=\"279.9688\" fill=\"#FFA500\" rx=\"11\" ry=\"11\" style=\"stroke: #A80036; stroke-width: 1.0;\"/><path d=\"M59.375,281.8906 L59.375,274.0781 L61.8281,274.0781 L61.8281,282.5156 Q61.8281,283.4375 62.2969,283.9688 Q62.7813,284.5 63.6094,284.5 Q64.4531,284.5 64.9219,283.9688 Q65.3906,283.4375 65.3906,282.5156 L65.3906,274.0781 L67.8438,274.0781 L67.8438,281.8906 Q67.8438,284.4219 66.8438,285.5625 Q65.8438,286.7031 63.6094,286.7031 Q61.3906,286.7031 60.375,285.5625 Q59.375,284.4219 59.375,281.8906 Z \"/><text fill=\"#000000\" font-family=\"sans-serif\" font-size=\"12\" font-style=\"italic\" lengthAdjust=\"spacingAndGlyphs\" textLength=\"47\" x=\"75.5\" y=\"277.1387\">«state»</text><text fill=\"#000000\" font-family=\"sans-serif\" font-size=\"12\" lengthAdjust=\"spacingAndGlyphs\" textLength=\"16\" x=\"91\" y=\"291.1074\">S2</text><line style=\"stroke: #A80036; stroke-width: 1.5;\" x1=\"49.5\" x2=\"122.5\" y1=\"298.9375\" y2=\"298.9375\"/></a><!--MD5=[49a0ec8f00dab7302a31f22d0f0fe584]\n",
       "class E12--><a href=\"psysml:02a264b3-17c4-490c-b5b1-f49bb5aa02c2\" target=\"_top\" title=\"psysml:02a264b3-17c4-490c-b5b1-f49bb5aa02c2\" xlink:actuate=\"onRequest\" xlink:href=\"psysml:02a264b3-17c4-490c-b5b1-f49bb5aa02c2\" xlink:show=\"new\" xlink:title=\"psysml:02a264b3-17c4-490c-b5b1-f49bb5aa02c2\" xlink:type=\"simple\"><rect fill=\"#FEFECE\" filter=\"url(#f1mu6b9u84lzkf)\" height=\"75.5469\" id=\"E12\" rx=\"10\" ry=\"10\" style=\"stroke: #A80036; stroke-width: 1.5;\" width=\"116\" x=\"32\" y=\"367\"/><ellipse cx=\"47\" cy=\"385.9688\" fill=\"#B6DBBB\" rx=\"11\" ry=\"11\" style=\"stroke: #A80036; stroke-width: 1.0;\"/><path d=\"M42.875,387.8906 L42.875,380.0781 L45.3281,380.0781 L45.3281,388.5156 Q45.3281,389.4375 45.7969,389.9688 Q46.2813,390.5 47.1094,390.5 Q47.9531,390.5 48.4219,389.9688 Q48.8906,389.4375 48.8906,388.5156 L48.8906,380.0781 L51.3438,380.0781 L51.3438,387.8906 Q51.3438,390.4219 50.3438,391.5625 Q49.3438,392.7031 47.1094,392.7031 Q44.8906,392.7031 43.875,391.5625 Q42.875,390.4219 42.875,387.8906 Z \"/><text fill=\"#000000\" font-family=\"sans-serif\" font-size=\"12\" font-style=\"italic\" lengthAdjust=\"spacingAndGlyphs\" textLength=\"88\" x=\"59\" y=\"383.1387\">«send action»</text><text fill=\"#000000\" font-family=\"sans-serif\" font-size=\"12\" lengthAdjust=\"spacingAndGlyphs\" textLength=\"55\" x=\"75.5\" y=\"397.1074\">doAction</text><line style=\"stroke: #A80036; stroke-width: 1.5;\" x1=\"33\" x2=\"147\" y1=\"404.9375\" y2=\"404.9375\"/><text fill=\"#000000\" font-family=\"sans-serif\" font-size=\"11\" lengthAdjust=\"spacingAndGlyphs\" textLength=\"25\" x=\"38\" y=\"435.9526\">item</text><line style=\"stroke: #A80036; stroke-width: 1.0;\" x1=\"33\" x2=\"52.5\" y1=\"419.3398\" y2=\"419.3398\"/><text fill=\"#000000\" font-family=\"sans-serif\" font-size=\"11\" lengthAdjust=\"spacingAndGlyphs\" textLength=\"75\" x=\"52.5\" y=\"422.6479\">itemFeatures</text><line style=\"stroke: #A80036; stroke-width: 1.0;\" x1=\"127.5\" x2=\"147\" y1=\"419.3398\" y2=\"419.3398\"/></a><!--MD5=[1f5f03483f7de0d5b3680a7f6650997f]\n",
       "reverse link E6 to E11--><a href=\"psysml:15193c6f-79c7-4ee2-a2ac-bfb559b7d876\" target=\"_top\" title=\"psysml:15193c6f-79c7-4ee2-a2ac-bfb559b7d876\" xlink:actuate=\"onRequest\" xlink:href=\"psysml:15193c6f-79c7-4ee2-a2ac-bfb559b7d876\" xlink:show=\"new\" xlink:title=\"psysml:15193c6f-79c7-4ee2-a2ac-bfb559b7d876\" xlink:type=\"simple\"><path d=\"M84.29,214.17 C84.72,231.58 85.14,248.25 85.45,260.82 \" fill=\"none\" id=\"E6&lt;-E11\" style=\"stroke: #A80036; stroke-width: 1.0;\"/><polygon fill=\"#A80036\" points=\"83.96,201.09,80.1062,207.1849,84.25,213.0865,88.1038,206.9916,83.96,201.09\" style=\"stroke: #A80036; stroke-width: 1.0;\"/></a><!--MD5=[94adabc162ce7e41b39f13be14fbaeb3]\n",
       "reverse link E11 to E12--><a href=\"psysml:02a264b3-17c4-490c-b5b1-f49bb5aa02c2\" target=\"_top\" title=\"psysml:02a264b3-17c4-490c-b5b1-f49bb5aa02c2\" xlink:actuate=\"onRequest\" xlink:href=\"psysml:02a264b3-17c4-490c-b5b1-f49bb5aa02c2\" xlink:show=\"new\" xlink:title=\"psysml:02a264b3-17c4-490c-b5b1-f49bb5aa02c2\" xlink:type=\"simple\"><path d=\"M87.18,320.23 C87.67,334.82 88.24,351.76 88.74,366.58 \" fill=\"none\" id=\"E11&lt;-E12\" style=\"stroke: #A80036; stroke-width: 1.0;\"/><polygon fill=\"#FFFFFF\" points=\"86.74,307.1,82.9466,313.2327,87.1486,319.093,90.942,312.9603,86.74,307.1\" style=\"stroke: #A80036; stroke-width: 1.0;\"/></a><!--MD5=[9d312befb2c5b35a587240cc874c9983]\n",
       "@startuml\r\n",
       " \r\n",
       "package \"StateTest\" as E1  [[psysml:9c548ee6-d869-4820-b951-32f5a4e72165 ]]  {\r\n",
       "comp def \"Sig\" as E2  <<(D,brown)attribute def>> [[psysml:7a2ca9b4-3a97-4e8a-92f8-a9f50dc832cb ]] {\r\n",
       "x\r\n",
       "}\r\n",
       "comp def \"Exit\" as E3  <<(D,brown)attribute def>> [[psysml:30361623-caf7-482c-9813-174242dd8f3c ]] {\r\n",
       "}\r\n",
       "comp usage \"p\" as E4  << (P,limegreen) part>> [[psysml:86d86843-d597-4d6e-917a-885d695bc43d ]] {\r\n",
       "}\r\n",
       "comp usage \"act\" as E5  <<(U,orange)action>> [[psysml:6cb3785d-90e3-4021-b607-f0ab9874924c ]] {\r\n",
       "}\r\n",
       "comp def \"S\" as E6  <<(D,brown)state def>> [[psysml:409d967c-2b55-4985-b068-ed253d96c58c ]] {\r\n",
       "- - performActions - -\r\n",
       "act\r\n",
       "A\r\n",
       "B\r\n",
       "- - states - -\r\n",
       "S1\r\n",
       "- - transitions - -\r\n",
       "T\r\n",
       "}\r\n",
       "comp usage \"S2\" as E11  <<(U,orange)state>> [[psysml:15193c6f-79c7-4ee2-a2ac-bfb559b7d876 ]] {\r\n",
       "}\r\n",
       "comp usage \"doAction\" as E12 <<send action>> [[psysml:02a264b3-17c4-490c-b5b1-f49bb5aa02c2 ]] {\r\n",
       "- - itemFeatures - -\r\n",
       "item\r\n",
       "}\r\n",
       "E6 *- - E11 [[psysml:15193c6f-79c7-4ee2-a2ac-bfb559b7d876 ]] \r\n",
       "E11 o- - E12 [[psysml:02a264b3-17c4-490c-b5b1-f49bb5aa02c2 ]] \r\n",
       "}\r\n",
       "@enduml\r\n",
       "\n",
       "PlantUML version 1.2020.13(Sat Jun 13 12:26:38 UTC 2020)\n",
       "(EPL source distribution)\n",
       "Java Runtime: OpenJDK Runtime Environment\n",
       "JVM: OpenJDK 64-Bit Server VM\n",
       "Default Encoding: UTF-8\n",
       "Language: en\n",
       "Country: null\n",
       "--></g></svg>"
      ]
     },
     "execution_count": 35,
     "metadata": {},
     "output_type": "execute_result"
    }
   ],
   "source": [
    "%viz --style=\"PLANTUML\" --view=\"Sequence\" \"StateTest\""
   ]
  },
  {
   "cell_type": "code",
   "execution_count": 36,
   "id": "spanish-kelly",
   "metadata": {
    "execution": {
     "iopub.execute_input": "2021-03-26T09:13:54.912523Z",
     "iopub.status.busy": "2021-03-26T09:13:54.911665Z",
     "iopub.status.idle": "2021-03-26T09:13:54.952428Z",
     "shell.execute_reply": "2021-03-26T09:13:54.951097Z"
    }
   },
   "outputs": [
    {
     "data": {
      "image/svg+xml": [
       "<?xml version=\"1.0\" encoding=\"UTF-8\" standalone=\"no\"?><svg xmlns=\"http://www.w3.org/2000/svg\" xmlns:xlink=\"http://www.w3.org/1999/xlink\" contentScriptType=\"application/ecmascript\" contentStyleType=\"text/css\" height=\"569px\" preserveAspectRatio=\"none\" style=\"width:923px;height:569px;\" version=\"1.1\" viewBox=\"0 0 923 569\" width=\"923px\" zoomAndPan=\"magnify\"><defs><filter height=\"300%\" id=\"f18up8cruy3ik9\" width=\"300%\" x=\"-1\" y=\"-1\"><feGaussianBlur result=\"blurOut\" stdDeviation=\"2.0\"/><feColorMatrix in=\"blurOut\" result=\"blurOut2\" type=\"matrix\" values=\"0 0 0 0 0 0 0 0 0 0 0 0 0 0 0 0 0 0 .4 0\"/><feOffset dx=\"4.0\" dy=\"4.0\" in=\"blurOut2\" result=\"blurOut3\"/><feBlend in=\"SourceGraphic\" in2=\"blurOut3\" mode=\"normal\"/></filter></defs><g><!--MD5=[fbc87193dbaf4d95561dea2c320d4a47]\n",
       "cluster E1--><a href=\"psysml:9c548ee6-d869-4820-b951-32f5a4e72165\" target=\"_top\" title=\"psysml:9c548ee6-d869-4820-b951-32f5a4e72165\" xlink:actuate=\"onRequest\" xlink:href=\"psysml:9c548ee6-d869-4820-b951-32f5a4e72165\" xlink:show=\"new\" xlink:title=\"psysml:9c548ee6-d869-4820-b951-32f5a4e72165\" xlink:type=\"simple\"><polygon fill=\"#FFFFFF\" filter=\"url(#f18up8cruy3ik9)\" points=\"16,6,98,6,105,28.2969,901,28.2969,901,557.5,16,557.5,16,6\" style=\"stroke: #000000; stroke-width: 1.5;\"/><line style=\"stroke: #000000; stroke-width: 1.5;\" x1=\"16\" x2=\"105\" y1=\"28.2969\" y2=\"28.2969\"/><text fill=\"#000000\" font-family=\"sans-serif\" font-size=\"14\" font-weight=\"bold\" lengthAdjust=\"spacingAndGlyphs\" textLength=\"76\" x=\"20\" y=\"20.9951\">StateTest</text></a><!--MD5=[14e3b0961a2654348d326746436168a1]\n",
       "cluster E6--><a href=\"psysml:409d967c-2b55-4985-b068-ed253d96c58c\" target=\"_top\" title=\"psysml:409d967c-2b55-4985-b068-ed253d96c58c\" xlink:actuate=\"onRequest\" xlink:href=\"psysml:409d967c-2b55-4985-b068-ed253d96c58c\" xlink:show=\"new\" xlink:title=\"psysml:409d967c-2b55-4985-b068-ed253d96c58c\" xlink:type=\"simple\"><rect fill=\"#FFFFFF\" filter=\"url(#f18up8cruy3ik9)\" height=\"484.5\" id=\"E6\" style=\"stroke: #A80036; stroke-width: 1.5;\" width=\"327\" x=\"550\" y=\"49\"/><rect fill=\"#FEFECE\" height=\"37.9375\" style=\"stroke: #A80036; stroke-width: 1.5;\" width=\"327\" x=\"550\" y=\"49\"/><text fill=\"#000000\" font-family=\"sans-serif\" font-size=\"12\" font-style=\"italic\" lengthAdjust=\"spacingAndGlyphs\" textLength=\"71\" x=\"678\" y=\"65.1387\">«state def»</text><text fill=\"#000000\" font-family=\"sans-serif\" font-size=\"12\" lengthAdjust=\"spacingAndGlyphs\" textLength=\"8\" x=\"709.5\" y=\"79.1074\">S</text><line style=\"stroke: #A80036; stroke-width: 1.0;\" x1=\"550\" x2=\"877\" y1=\"132.8438\" y2=\"132.8438\"/><text fill=\"#000000\" font-family=\"sans-serif\" font-size=\"12\" font-weight=\"bold\" lengthAdjust=\"spacingAndGlyphs\" textLength=\"38\" x=\"555\" y=\"100.0762\">entry</text><text fill=\"#000000\" font-family=\"sans-serif\" font-size=\"12\" lengthAdjust=\"spacingAndGlyphs\" textLength=\"16\" x=\"593\" y=\"100.0762\">/ A</text><text fill=\"#000000\" font-family=\"sans-serif\" font-size=\"12\" font-weight=\"bold\" lengthAdjust=\"spacingAndGlyphs\" textLength=\"18\" x=\"555\" y=\"114.0449\">do</text><text fill=\"#000000\" font-family=\"sans-serif\" font-size=\"12\" lengthAdjust=\"spacingAndGlyphs\" textLength=\"16\" x=\"573\" y=\"114.0449\">/ B</text><text fill=\"#000000\" font-family=\"sans-serif\" font-size=\"12\" font-weight=\"bold\" lengthAdjust=\"spacingAndGlyphs\" textLength=\"26\" x=\"555\" y=\"128.0137\">exit</text><text fill=\"#000000\" font-family=\"sans-serif\" font-size=\"12\" lengthAdjust=\"spacingAndGlyphs\" textLength=\"28\" x=\"581\" y=\"128.0137\">/ act</text></a><!--MD5=[b4997ac47864f28c2f74865a473b2911]\n",
       "class E2--><a href=\"psysml:7a2ca9b4-3a97-4e8a-92f8-a9f50dc832cb\" target=\"_top\" title=\"psysml:7a2ca9b4-3a97-4e8a-92f8-a9f50dc832cb\" xlink:actuate=\"onRequest\" xlink:href=\"psysml:7a2ca9b4-3a97-4e8a-92f8-a9f50dc832cb\" xlink:show=\"new\" xlink:title=\"psysml:7a2ca9b4-3a97-4e8a-92f8-a9f50dc832cb\" xlink:type=\"simple\"><rect fill=\"#FEFECE\" filter=\"url(#f18up8cruy3ik9)\" height=\"58.7422\" id=\"E2\" style=\"stroke: #A80036; stroke-width: 1.5;\" width=\"121\" x=\"412.5\" y=\"127.5\"/><ellipse cx=\"427.5\" cy=\"146.4688\" fill=\"#A52A2A\" rx=\"11\" ry=\"11\" style=\"stroke: #A80036; stroke-width: 1.0;\"/><path d=\"M427.0938,142.2813 L427.0938,150.2656 L427.75,150.2656 Q429.1875,150.2656 429.7969,149.3594 Q430.4219,148.4375 430.4219,146.2656 Q430.4219,144.0938 429.7969,143.1875 Q429.1875,142.2813 427.75,142.2813 L427.0938,142.2813 Z M424.6406,140.0781 L427.2656,140.0781 Q430.2969,140.0781 431.625,141.5313 Q432.9688,142.9688 432.9688,146.2656 Q432.9688,149.5625 431.625,151.0156 Q430.2969,152.4688 427.2656,152.4688 L424.6406,152.4688 L424.6406,140.0781 Z \"/><text fill=\"#000000\" font-family=\"sans-serif\" font-size=\"12\" font-style=\"italic\" lengthAdjust=\"spacingAndGlyphs\" textLength=\"93\" x=\"439.5\" y=\"143.6387\">«attribute def»</text><text fill=\"#000000\" font-family=\"sans-serif\" font-size=\"12\" lengthAdjust=\"spacingAndGlyphs\" textLength=\"19\" x=\"476.5\" y=\"157.6074\">Sig</text><line style=\"stroke: #A80036; stroke-width: 1.5;\" x1=\"413.5\" x2=\"532.5\" y1=\"165.4375\" y2=\"165.4375\"/><text fill=\"#000000\" font-family=\"sans-serif\" font-size=\"11\" lengthAdjust=\"spacingAndGlyphs\" textLength=\"6\" x=\"418.5\" y=\"179.6479\">x</text></a><!--MD5=[09b614a08d8cba4a07c9adeb5e0fee81]\n",
       "class E3--><a href=\"psysml:30361623-caf7-482c-9813-174242dd8f3c\" target=\"_top\" title=\"psysml:30361623-caf7-482c-9813-174242dd8f3c\" xlink:actuate=\"onRequest\" xlink:href=\"psysml:30361623-caf7-482c-9813-174242dd8f3c\" xlink:show=\"new\" xlink:title=\"psysml:30361623-caf7-482c-9813-174242dd8f3c\" xlink:type=\"simple\"><rect fill=\"#FEFECE\" filter=\"url(#f18up8cruy3ik9)\" height=\"45.9375\" id=\"E3\" style=\"stroke: #A80036; stroke-width: 1.5;\" width=\"121\" x=\"256.5\" y=\"134\"/><ellipse cx=\"271.5\" cy=\"152.9688\" fill=\"#A52A2A\" rx=\"11\" ry=\"11\" style=\"stroke: #A80036; stroke-width: 1.0;\"/><path d=\"M271.0938,148.7813 L271.0938,156.7656 L271.75,156.7656 Q273.1875,156.7656 273.7969,155.8594 Q274.4219,154.9375 274.4219,152.7656 Q274.4219,150.5938 273.7969,149.6875 Q273.1875,148.7813 271.75,148.7813 L271.0938,148.7813 Z M268.6406,146.5781 L271.2656,146.5781 Q274.2969,146.5781 275.625,148.0313 Q276.9688,149.4688 276.9688,152.7656 Q276.9688,156.0625 275.625,157.5156 Q274.2969,158.9688 271.2656,158.9688 L268.6406,158.9688 L268.6406,146.5781 Z \"/><text fill=\"#000000\" font-family=\"sans-serif\" font-size=\"12\" font-style=\"italic\" lengthAdjust=\"spacingAndGlyphs\" textLength=\"93\" x=\"283.5\" y=\"150.1387\">«attribute def»</text><text fill=\"#000000\" font-family=\"sans-serif\" font-size=\"12\" lengthAdjust=\"spacingAndGlyphs\" textLength=\"22\" x=\"319\" y=\"164.1074\">Exit</text><line style=\"stroke: #A80036; stroke-width: 1.5;\" x1=\"257.5\" x2=\"376.5\" y1=\"171.9375\" y2=\"171.9375\"/></a><!--MD5=[ebbe1d658d1005bcc118a6aa81145e00]\n",
       "class E4--><a href=\"psysml:86d86843-d597-4d6e-917a-885d695bc43d\" target=\"_top\" title=\"psysml:86d86843-d597-4d6e-917a-885d695bc43d\" xlink:actuate=\"onRequest\" xlink:href=\"psysml:86d86843-d597-4d6e-917a-885d695bc43d\" xlink:show=\"new\" xlink:title=\"psysml:86d86843-d597-4d6e-917a-885d695bc43d\" xlink:type=\"simple\"><rect fill=\"#FEFECE\" filter=\"url(#f18up8cruy3ik9)\" height=\"45.9375\" id=\"E4\" rx=\"10\" ry=\"10\" style=\"stroke: #A80036; stroke-width: 1.5;\" width=\"68\" x=\"153\" y=\"134\"/><ellipse cx=\"168\" cy=\"152.9688\" fill=\"#32CD32\" rx=\"11\" ry=\"11\" style=\"stroke: #A80036; stroke-width: 1.0;\"/><path d=\"M167.7969,148.6406 L167.7969,152.2656 L168.7969,152.2656 Q170,152.2656 170.4844,151.8594 Q170.9688,151.4531 170.9688,150.4531 Q170.9688,149.4531 170.4844,149.0469 Q170,148.6406 168.7969,148.6406 L167.7969,148.6406 Z M165.3438,146.5781 L168.7031,146.5781 Q171.2656,146.5781 172.3906,147.5 Q173.5156,148.4063 173.5156,150.4531 Q173.5156,152.5 172.3906,153.4219 Q171.2656,154.3281 168.7031,154.3281 L167.7969,154.3281 L167.7969,158.9688 L165.3438,158.9688 L165.3438,146.5781 Z \"/><text fill=\"#000000\" font-family=\"sans-serif\" font-size=\"12\" font-style=\"italic\" lengthAdjust=\"spacingAndGlyphs\" textLength=\"40\" x=\"180\" y=\"150.1387\">«part»</text><text fill=\"#000000\" font-family=\"sans-serif\" font-size=\"12\" lengthAdjust=\"spacingAndGlyphs\" textLength=\"8\" x=\"196\" y=\"164.1074\">p</text><line style=\"stroke: #A80036; stroke-width: 1.5;\" x1=\"154\" x2=\"220\" y1=\"171.9375\" y2=\"171.9375\"/></a><g id=\"E1.E5\"><a href=\"psysml:6cb3785d-90e3-4021-b607-f0ab9874924c\" target=\"_top\" title=\"psysml:6cb3785d-90e3-4021-b607-f0ab9874924c\" xlink:actuate=\"onRequest\" xlink:href=\"psysml:6cb3785d-90e3-4021-b607-f0ab9874924c\" xlink:show=\"new\" xlink:title=\"psysml:6cb3785d-90e3-4021-b607-f0ab9874924c\" xlink:type=\"simple\"><rect fill=\"#FEFECE\" filter=\"url(#f18up8cruy3ik9)\" height=\"42.9375\" id=\"E5\" rx=\"10\" ry=\"10\" style=\"stroke: #A80036; stroke-width: 1.5;\" width=\"86\" x=\"32\" y=\"135.5\"/><ellipse cx=\"49.25\" cy=\"154.4688\" fill=\"#FFA500\" rx=\"11\" ry=\"11\" style=\"stroke: #A80036; stroke-width: 1.0;\"/><path d=\"M45.125,156.3906 L45.125,148.5781 L47.5781,148.5781 L47.5781,157.0156 Q47.5781,157.9375 48.0469,158.4688 Q48.5313,159 49.3594,159 Q50.2031,159 50.6719,158.4688 Q51.1406,157.9375 51.1406,157.0156 L51.1406,148.5781 L53.5938,148.5781 L53.5938,156.3906 Q53.5938,158.9219 52.5938,160.0625 Q51.5938,161.2031 49.3594,161.2031 Q47.1406,161.2031 46.125,160.0625 Q45.125,158.9219 45.125,156.3906 Z \"/><text fill=\"#000000\" font-family=\"sans-serif\" font-size=\"12\" font-style=\"italic\" lengthAdjust=\"spacingAndGlyphs\" textLength=\"53\" x=\"61.75\" y=\"151.6387\">«action»</text><text fill=\"#000000\" font-family=\"sans-serif\" font-size=\"12\" lengthAdjust=\"spacingAndGlyphs\" textLength=\"20\" x=\"78.25\" y=\"165.6074\">act</text></a></g><ellipse cx=\"662\" cy=\"157\" fill=\"#000000\" filter=\"url(#f18up8cruy3ik9)\" rx=\"10\" ry=\"10\" style=\"stroke: none; stroke-width: 1.0;\"/><ellipse cx=\"662\" cy=\"507.5\" fill=\"none\" filter=\"url(#f18up8cruy3ik9)\" rx=\"10\" ry=\"10\" style=\"stroke: #000000; stroke-width: 1.0;\"/><ellipse cx=\"662.5\" cy=\"508\" fill=\"#000000\" rx=\"6\" ry=\"6\" style=\"stroke: none; stroke-width: 1.0;\"/><g id=\"E1.E6.E7\"><a href=\"psysml:5ea02985-bc8b-4cb1-bb08-c3caa7c881e0\" target=\"_top\" title=\"psysml:5ea02985-bc8b-4cb1-bb08-c3caa7c881e0\" xlink:actuate=\"onRequest\" xlink:href=\"psysml:5ea02985-bc8b-4cb1-bb08-c3caa7c881e0\" xlink:show=\"new\" xlink:title=\"psysml:5ea02985-bc8b-4cb1-bb08-c3caa7c881e0\" xlink:type=\"simple\"><rect fill=\"#FEFECE\" filter=\"url(#f18up8cruy3ik9)\" height=\"40\" id=\"E7\" rx=\"10\" ry=\"10\" style=\"stroke: #A80036; stroke-width: 1.5;\" width=\"53\" x=\"635.5\" y=\"247.5\"/><ellipse cx=\"652.75\" cy=\"263.5\" fill=\"#B6DBBB\" rx=\"11\" ry=\"11\" style=\"stroke: #A80036; stroke-width: 1.0;\"/><path d=\"M648.625,265.4219 L648.625,257.6094 L651.0781,257.6094 L651.0781,266.0469 Q651.0781,266.9688 651.5469,267.5 Q652.0313,268.0313 652.8594,268.0313 Q653.7031,268.0313 654.1719,267.5 Q654.6406,266.9688 654.6406,266.0469 L654.6406,257.6094 L657.0938,257.6094 L657.0938,265.4219 Q657.0938,267.9531 656.0938,269.0938 Q655.0938,270.2344 652.8594,270.2344 Q650.6406,270.2344 649.625,269.0938 Q648.625,267.9531 648.625,265.4219 Z \"/><text fill=\"#000000\" font-family=\"sans-serif\" font-size=\"12\" lengthAdjust=\"spacingAndGlyphs\" textLength=\"16\" x=\"667.25\" y=\"267.6543\">S1</text></a></g><g id=\"E1.E6.E8\"><a href=\"psysml:15193c6f-79c7-4ee2-a2ac-bfb559b7d876\" target=\"_top\" title=\"psysml:15193c6f-79c7-4ee2-a2ac-bfb559b7d876\" xlink:actuate=\"onRequest\" xlink:href=\"psysml:15193c6f-79c7-4ee2-a2ac-bfb559b7d876\" xlink:show=\"new\" xlink:title=\"psysml:15193c6f-79c7-4ee2-a2ac-bfb559b7d876\" xlink:type=\"simple\"><rect fill=\"#FEFECE\" filter=\"url(#f18up8cruy3ik9)\" height=\"55.9688\" id=\"E8\" rx=\"10\" ry=\"10\" style=\"stroke: #A80036; stroke-width: 1.5;\" width=\"58\" x=\"633\" y=\"364.5\"/><ellipse cx=\"652.5\" cy=\"380.5\" fill=\"#B6DBBB\" rx=\"11\" ry=\"11\" style=\"stroke: #A80036; stroke-width: 1.0;\"/><path d=\"M648.375,382.4219 L648.375,374.6094 L650.8281,374.6094 L650.8281,383.0469 Q650.8281,383.9688 651.2969,384.5 Q651.7813,385.0313 652.6094,385.0313 Q653.4531,385.0313 653.9219,384.5 Q654.3906,383.9688 654.3906,383.0469 L654.3906,374.6094 L656.8438,374.6094 L656.8438,382.4219 Q656.8438,384.9531 655.8438,386.0938 Q654.8438,387.2344 652.6094,387.2344 Q650.3906,387.2344 649.375,386.0938 Q648.375,384.9531 648.375,382.4219 Z \"/><text fill=\"#000000\" font-family=\"sans-serif\" font-size=\"12\" lengthAdjust=\"spacingAndGlyphs\" textLength=\"16\" x=\"667.5\" y=\"384.6543\">S2</text><line style=\"stroke: #A80036; stroke-width: 1.0;\" x1=\"633\" x2=\"691\" y1=\"396.5\" y2=\"396.5\"/><text fill=\"#000000\" font-family=\"sans-serif\" font-size=\"12\" font-weight=\"bold\" lengthAdjust=\"spacingAndGlyphs\" textLength=\"18\" x=\"638\" y=\"409.6387\">do</text><text fill=\"#000000\" font-family=\"sans-serif\" font-size=\"12\" lengthAdjust=\"spacingAndGlyphs\" textLength=\"4\" x=\"656\" y=\"409.6387\">/</text></a></g><!--MD5=[5a531d3a85f3339e6e197084acb48195]\n",
       "link *start*E6 to E7--><a href=\"psysml:50e6b136-bb64-4da5-b9f3-893462631a2b\" target=\"_top\" title=\"psysml:50e6b136-bb64-4da5-b9f3-893462631a2b\" xlink:actuate=\"onRequest\" xlink:href=\"psysml:50e6b136-bb64-4da5-b9f3-893462631a2b\" xlink:show=\"new\" xlink:title=\"psysml:50e6b136-bb64-4da5-b9f3-893462631a2b\" xlink:type=\"simple\"><path d=\"M662,167.25 C662,183.64 662,218.28 662,241.97 \" fill=\"none\" id=\"*start*E6-&gt;E7\" style=\"stroke: #A80036; stroke-width: 1.0;\"/><polygon fill=\"#A80036\" points=\"662,247.15,666,238.15,662,242.15,658,238.15,662,247.15\" style=\"stroke: #A80036; stroke-width: 1.0;\"/></a><!--MD5=[7ec9a8babba89ddcae1318ca9fb3c814]\n",
       "link E8 to *end*E6--><a href=\"psysml:400438d1-4a79-4175-ae6b-80e92b548ca9\" target=\"_top\" title=\"psysml:400438d1-4a79-4175-ae6b-80e92b548ca9\" xlink:actuate=\"onRequest\" xlink:href=\"psysml:400438d1-4a79-4175-ae6b-80e92b548ca9\" xlink:show=\"new\" xlink:title=\"psysml:400438d1-4a79-4175-ae6b-80e92b548ca9\" xlink:type=\"simple\"><path d=\"M662,420.57 C662,443.05 662,474.17 662,492.13 \" fill=\"none\" id=\"E8-&gt;*end*E6\" style=\"stroke: #A80036; stroke-width: 1.0;\"/><polygon fill=\"#A80036\" points=\"662,497.26,666,488.26,662,492.26,658,488.26,662,497.26\" style=\"stroke: #A80036; stroke-width: 1.0;\"/><text fill=\"#000000\" font-family=\"sans-serif\" font-size=\"13\" lengthAdjust=\"spacingAndGlyphs\" textLength=\"23\" x=\"663\" y=\"463.5669\">Exit</text></a><!--MD5=[79bc8f324ef4d02c541433f2e6e513c3]\n",
       "link E7 to E8--><a href=\"psysml:516b9b87-0f3c-4a45-97aa-978805331ddd\" target=\"_top\" title=\"psysml:516b9b87-0f3c-4a45-97aa-978805331ddd\" xlink:actuate=\"onRequest\" xlink:href=\"psysml:516b9b87-0f3c-4a45-97aa-978805331ddd\" xlink:show=\"new\" xlink:title=\"psysml:516b9b87-0f3c-4a45-97aa-978805331ddd\" xlink:type=\"simple\"><path d=\"M635.25,280.67 C613.47,292.49 587.88,311.93 598,334.5 C604.51,349.01 616.74,361.35 628.79,370.79 \" fill=\"none\" id=\"E7-&gt;E8\" style=\"stroke: #A80036; stroke-width: 1.0;\"/><polygon fill=\"#A80036\" points=\"632.86,373.88,628.0945,365.2609,628.872,370.864,623.2689,371.6416,632.86,373.88\" style=\"stroke: #A80036; stroke-width: 1.0;\"/><text fill=\"#000000\" font-family=\"sans-serif\" font-size=\"13\" lengthAdjust=\"spacingAndGlyphs\" textLength=\"81\" x=\"599\" y=\"330.5669\">Sig /action D</text></a><!--MD5=[bfa3c8b0d15052fdf50ae9310b491027]\n",
       "link E8 to E7--><a href=\"psysml:0976314e-a9f7-4444-bafa-f8883db64fa0\" target=\"_top\" title=\"psysml:0976314e-a9f7-4444-bafa-f8883db64fa0\" xlink:actuate=\"onRequest\" xlink:href=\"psysml:0976314e-a9f7-4444-bafa-f8883db64fa0\" xlink:show=\"new\" xlink:title=\"psysml:0976314e-a9f7-4444-bafa-f8883db64fa0\" xlink:type=\"simple\"><path d=\"M677.55,364.38 C683.68,350.5 688.51,333.26 685,317.5 C683.1,308.99 679.56,300.22 675.82,292.49 \" fill=\"none\" id=\"E8-&gt;E7\" style=\"stroke: #A80036; stroke-width: 1.0;\"/><polygon fill=\"#A80036\" points=\"673.47,287.82,673.9298,297.6581,675.7118,292.2893,681.0806,294.0713,673.47,287.82\" style=\"stroke: #A80036; stroke-width: 1.0;\"/><text fill=\"#000000\" font-family=\"sans-serif\" font-size=\"13\" lengthAdjust=\"spacingAndGlyphs\" textLength=\"135\" x=\"687\" y=\"330.5669\">Sig [true]/send s to p</text></a><!--MD5=[6dfc5fd540c112ec2bcdf6dea6204a5e]\n",
       "@startuml\r\n",
       " \r\n",
       "package \"StateTest\" as E1  [[psysml:9c548ee6-d869-4820-b951-32f5a4e72165 ]]  {\r\n",
       "comp def \"Sig\" as E2  <<(D,brown)attribute def>> [[psysml:7a2ca9b4-3a97-4e8a-92f8-a9f50dc832cb ]] {\r\n",
       "x\r\n",
       "}\r\n",
       "comp def \"Exit\" as E3  <<(D,brown)attribute def>> [[psysml:30361623-caf7-482c-9813-174242dd8f3c ]] {\r\n",
       "}\r\n",
       "comp usage \"p\" as E4  << (P,limegreen) part>> [[psysml:86d86843-d597-4d6e-917a-885d695bc43d ]] {\r\n",
       "}\r\n",
       "rec usage \"act\" as E5  <<(U,orange)action>> [[psysml:6cb3785d-90e3-4021-b607-f0ab9874924c ]] {\r\n",
       "}\r\n",
       "\r\n",
       "rec def \"S\" as E6  <<(D,brown)state def>> [[psysml:409d967c-2b55-4985-b068-ed253d96c58c ]] {\r\n",
       "rec usage \"S1\" as E7 [[psysml:5ea02985-bc8b-4cb1-bb08-c3caa7c881e0 ]] {\r\n",
       "}\r\n",
       "\r\n",
       "rec usage \"S2\" as E8 [[psysml:15193c6f-79c7-4ee2-a2ac-bfb559b7d876 ]] {\r\n",
       "desc \"S2\" as E8  : **do**/ \r\n",
       "}\r\n",
       "\r\n",
       "[*] - -> E7 [[psysml:50e6b136-bb64-4da5-b9f3-893462631a2b ]] \r\n",
       "E8  - -> [*] [[psysml:400438d1-4a79-4175-ae6b-80e92b548ca9 ]] : Exit \r\n",
       "desc \"S\" as E6  : **entry**/ A\r\n",
       "desc \"S\" as E6  : **do**/ B\r\n",
       "desc \"S\" as E6  : **exit**/ act \r\n",
       "}\r\n",
       "\r\n",
       "E7  - -> E8 [[psysml:516b9b87-0f3c-4a45-97aa-978805331ddd ]] : Sig /action D\r\n",
       "E8  - -> E7 [[psysml:0976314e-a9f7-4444-bafa-f8883db64fa0 ]] : Sig [true]/send s to p\r\n",
       "}\r\n",
       "@enduml\r\n",
       "\n",
       "PlantUML version 1.2020.13(Sat Jun 13 12:26:38 UTC 2020)\n",
       "(EPL source distribution)\n",
       "Java Runtime: OpenJDK Runtime Environment\n",
       "JVM: OpenJDK 64-Bit Server VM\n",
       "Default Encoding: UTF-8\n",
       "Language: en\n",
       "Country: null\n",
       "--></g></svg>"
      ]
     },
     "execution_count": 36,
     "metadata": {},
     "output_type": "execute_result"
    }
   ],
   "source": [
    "%viz --style=\"PLANTUML\" --view=\"MIXED\" \"StateTest\""
   ]
  },
  {
   "cell_type": "code",
   "execution_count": 37,
   "id": "incorrect-jaguar",
   "metadata": {
    "execution": {
     "iopub.execute_input": "2021-03-26T09:13:55.004260Z",
     "iopub.status.busy": "2021-03-26T09:13:55.003623Z",
     "iopub.status.idle": "2021-03-26T09:13:55.046493Z",
     "shell.execute_reply": "2021-03-26T09:13:55.045210Z"
    }
   },
   "outputs": [
    {
     "data": {
      "image/svg+xml": [
       "<?xml version=\"1.0\" encoding=\"UTF-8\" standalone=\"no\"?><svg xmlns=\"http://www.w3.org/2000/svg\" xmlns:xlink=\"http://www.w3.org/1999/xlink\" contentScriptType=\"application/ecmascript\" contentStyleType=\"text/css\" height=\"570px\" preserveAspectRatio=\"none\" style=\"width:819px;height:570px;\" version=\"1.1\" viewBox=\"0 0 819 570\" width=\"819px\" zoomAndPan=\"magnify\"><defs/><g><!--MD5=[fbc87193dbaf4d95561dea2c320d4a47]\n",
       "cluster E1--><a href=\"psysml:9c548ee6-d869-4820-b951-32f5a4e72165\" target=\"_top\" title=\"psysml:9c548ee6-d869-4820-b951-32f5a4e72165\" xlink:actuate=\"onRequest\" xlink:href=\"psysml:9c548ee6-d869-4820-b951-32f5a4e72165\" xlink:show=\"new\" xlink:title=\"psysml:9c548ee6-d869-4820-b951-32f5a4e72165\" xlink:type=\"simple\"><polygon fill=\"#FFFFFF\" points=\"16,6,98,6,105,28.2969,797,28.2969,797,558,16,558,16,6\" style=\"stroke: #000000; stroke-width: 1.5;\"/><line style=\"stroke: #000000; stroke-width: 1.5;\" x1=\"16\" x2=\"105\" y1=\"28.2969\" y2=\"28.2969\"/><text fill=\"#000000\" font-family=\"sans-serif\" font-size=\"14\" font-weight=\"bold\" lengthAdjust=\"spacingAndGlyphs\" textLength=\"76\" x=\"20\" y=\"20.9951\">StateTest</text></a><!--MD5=[14e3b0961a2654348d326746436168a1]\n",
       "cluster E6--><a href=\"psysml:409d967c-2b55-4985-b068-ed253d96c58c\" target=\"_top\" title=\"psysml:409d967c-2b55-4985-b068-ed253d96c58c\" xlink:actuate=\"onRequest\" xlink:href=\"psysml:409d967c-2b55-4985-b068-ed253d96c58c\" xlink:show=\"new\" xlink:title=\"psysml:409d967c-2b55-4985-b068-ed253d96c58c\" xlink:type=\"simple\"><rect fill=\"#FFFFFF\" height=\"485\" id=\"E6\" style=\"stroke: #383838; stroke-width: 1.5;\" width=\"327\" x=\"446\" y=\"49\"/><rect fill=\"#F8F8F8\" height=\"37.9375\" style=\"stroke: #383838; stroke-width: 1.5;\" width=\"327\" x=\"446\" y=\"49\"/><text fill=\"#000000\" font-family=\"sans-serif\" font-size=\"12\" font-style=\"italic\" lengthAdjust=\"spacingAndGlyphs\" textLength=\"71\" x=\"574\" y=\"65.1387\">«state def»</text><text fill=\"#000000\" font-family=\"sans-serif\" font-size=\"12\" lengthAdjust=\"spacingAndGlyphs\" textLength=\"8\" x=\"605.5\" y=\"79.1074\">S</text><line style=\"stroke: #383838; stroke-width: 1.0;\" x1=\"446\" x2=\"773\" y1=\"132.8438\" y2=\"132.8438\"/><text fill=\"#000000\" font-family=\"sans-serif\" font-size=\"12\" font-weight=\"bold\" lengthAdjust=\"spacingAndGlyphs\" textLength=\"38\" x=\"451\" y=\"100.0762\">entry</text><text fill=\"#000000\" font-family=\"sans-serif\" font-size=\"12\" lengthAdjust=\"spacingAndGlyphs\" textLength=\"16\" x=\"489\" y=\"100.0762\">/ A</text><text fill=\"#000000\" font-family=\"sans-serif\" font-size=\"12\" font-weight=\"bold\" lengthAdjust=\"spacingAndGlyphs\" textLength=\"18\" x=\"451\" y=\"114.0449\">do</text><text fill=\"#000000\" font-family=\"sans-serif\" font-size=\"12\" lengthAdjust=\"spacingAndGlyphs\" textLength=\"16\" x=\"469\" y=\"114.0449\">/ B</text><text fill=\"#000000\" font-family=\"sans-serif\" font-size=\"12\" font-weight=\"bold\" lengthAdjust=\"spacingAndGlyphs\" textLength=\"26\" x=\"451\" y=\"128.0137\">exit</text><text fill=\"#000000\" font-family=\"sans-serif\" font-size=\"12\" lengthAdjust=\"spacingAndGlyphs\" textLength=\"28\" x=\"477\" y=\"128.0137\">/ act</text></a><!--MD5=[b4997ac47864f28c2f74865a473b2911]\n",
       "class E2--><a href=\"psysml:7a2ca9b4-3a97-4e8a-92f8-a9f50dc832cb\" target=\"_top\" title=\"psysml:7a2ca9b4-3a97-4e8a-92f8-a9f50dc832cb\" xlink:actuate=\"onRequest\" xlink:href=\"psysml:7a2ca9b4-3a97-4e8a-92f8-a9f50dc832cb\" xlink:show=\"new\" xlink:title=\"psysml:7a2ca9b4-3a97-4e8a-92f8-a9f50dc832cb\" xlink:type=\"simple\"><rect fill=\"#FFFFFF\" height=\"75.5469\" id=\"E2\" style=\"stroke: #383838; stroke-width: 1.5;\" width=\"95\" x=\"334.5\" y=\"119\"/><text fill=\"#000000\" font-family=\"sans-serif\" font-size=\"12\" font-style=\"italic\" lengthAdjust=\"spacingAndGlyphs\" textLength=\"93\" x=\"335.5\" y=\"135.1387\">«attribute def»</text><text fill=\"#000000\" font-family=\"sans-serif\" font-size=\"12\" lengthAdjust=\"spacingAndGlyphs\" textLength=\"19\" x=\"372.5\" y=\"149.1074\">Sig</text><line style=\"stroke: #383838; stroke-width: 1.5;\" x1=\"335.5\" x2=\"428.5\" y1=\"156.9375\" y2=\"156.9375\"/><text fill=\"#000000\" font-family=\"sans-serif\" font-size=\"11\" lengthAdjust=\"spacingAndGlyphs\" textLength=\"6\" x=\"340.5\" y=\"187.9526\">x</text><line style=\"stroke: #383838; stroke-width: 1.0;\" x1=\"335.5\" x2=\"354.5\" y1=\"171.3398\" y2=\"171.3398\"/><text fill=\"#000000\" font-family=\"sans-serif\" font-size=\"11\" lengthAdjust=\"spacingAndGlyphs\" textLength=\"55\" x=\"354.5\" y=\"174.6479\">attributes</text><line style=\"stroke: #383838; stroke-width: 1.0;\" x1=\"409.5\" x2=\"428.5\" y1=\"171.3398\" y2=\"171.3398\"/></a><!--MD5=[09b614a08d8cba4a07c9adeb5e0fee81]\n",
       "class E3--><a href=\"psysml:30361623-caf7-482c-9813-174242dd8f3c\" target=\"_top\" title=\"psysml:30361623-caf7-482c-9813-174242dd8f3c\" xlink:actuate=\"onRequest\" xlink:href=\"psysml:30361623-caf7-482c-9813-174242dd8f3c\" xlink:show=\"new\" xlink:title=\"psysml:30361623-caf7-482c-9813-174242dd8f3c\" xlink:type=\"simple\"><rect fill=\"#FFFFFF\" height=\"45.9375\" id=\"E3\" style=\"stroke: #383838; stroke-width: 1.5;\" width=\"95\" x=\"204.5\" y=\"134\"/><text fill=\"#000000\" font-family=\"sans-serif\" font-size=\"12\" font-style=\"italic\" lengthAdjust=\"spacingAndGlyphs\" textLength=\"93\" x=\"205.5\" y=\"150.1387\">«attribute def»</text><text fill=\"#000000\" font-family=\"sans-serif\" font-size=\"12\" lengthAdjust=\"spacingAndGlyphs\" textLength=\"22\" x=\"241\" y=\"164.1074\">Exit</text><line style=\"stroke: #383838; stroke-width: 1.5;\" x1=\"205.5\" x2=\"298.5\" y1=\"171.9375\" y2=\"171.9375\"/></a><!--MD5=[ebbe1d658d1005bcc118a6aa81145e00]\n",
       "class E4--><a href=\"psysml:86d86843-d597-4d6e-917a-885d695bc43d\" target=\"_top\" title=\"psysml:86d86843-d597-4d6e-917a-885d695bc43d\" xlink:actuate=\"onRequest\" xlink:href=\"psysml:86d86843-d597-4d6e-917a-885d695bc43d\" xlink:show=\"new\" xlink:title=\"psysml:86d86843-d597-4d6e-917a-885d695bc43d\" xlink:type=\"simple\"><rect fill=\"#FFFFFF\" height=\"45.9375\" id=\"E4\" rx=\"10\" ry=\"10\" style=\"stroke: #383838; stroke-width: 1.5;\" width=\"42\" x=\"127\" y=\"134\"/><text fill=\"#000000\" font-family=\"sans-serif\" font-size=\"12\" font-style=\"italic\" lengthAdjust=\"spacingAndGlyphs\" textLength=\"40\" x=\"128\" y=\"150.1387\">«part»</text><text fill=\"#000000\" font-family=\"sans-serif\" font-size=\"12\" lengthAdjust=\"spacingAndGlyphs\" textLength=\"8\" x=\"144\" y=\"164.1074\">p</text><line style=\"stroke: #383838; stroke-width: 1.5;\" x1=\"128\" x2=\"168\" y1=\"171.9375\" y2=\"171.9375\"/></a><g id=\"E1.E5\"><a href=\"psysml:6cb3785d-90e3-4021-b607-f0ab9874924c\" target=\"_top\" title=\"psysml:6cb3785d-90e3-4021-b607-f0ab9874924c\" xlink:actuate=\"onRequest\" xlink:href=\"psysml:6cb3785d-90e3-4021-b607-f0ab9874924c\" xlink:show=\"new\" xlink:title=\"psysml:6cb3785d-90e3-4021-b607-f0ab9874924c\" xlink:type=\"simple\"><rect fill=\"#FFFFFF\" height=\"42.9375\" id=\"E5\" rx=\"10\" ry=\"10\" style=\"stroke: #383838; stroke-width: 1.5;\" width=\"60\" x=\"32\" y=\"135.5\"/><rect fill=\"#F8F8F8\" height=\"37.9375\" rx=\"10\" ry=\"10\" style=\"stroke: #F8F8F8; stroke-width: 1.5;\" width=\"60\" x=\"32\" y=\"135.5\"/><rect fill=\"#F8F8F8\" height=\"10\" style=\"stroke: #F8F8F8; stroke-width: 1.5;\" width=\"60\" x=\"32\" y=\"163.4375\"/><rect fill=\"none\" height=\"42.9375\" id=\"E5\" rx=\"10\" ry=\"10\" style=\"stroke: #383838; stroke-width: 1.5;\" width=\"60\" x=\"32\" y=\"135.5\"/><text fill=\"#000000\" font-family=\"sans-serif\" font-size=\"12\" font-style=\"italic\" lengthAdjust=\"spacingAndGlyphs\" textLength=\"53\" x=\"35.5\" y=\"151.6387\">«action»</text><text fill=\"#000000\" font-family=\"sans-serif\" font-size=\"12\" lengthAdjust=\"spacingAndGlyphs\" textLength=\"20\" x=\"52\" y=\"165.6074\">act</text></a></g><ellipse cx=\"558\" cy=\"157\" fill=\"#000000\" rx=\"10\" ry=\"10\" style=\"stroke: none; stroke-width: 1.0;\"/><ellipse cx=\"558\" cy=\"508\" fill=\"none\" rx=\"10\" ry=\"10\" style=\"stroke: #000000; stroke-width: 1.0;\"/><ellipse cx=\"558.5\" cy=\"508.5\" fill=\"#000000\" rx=\"6\" ry=\"6\" style=\"stroke: none; stroke-width: 1.0;\"/><g id=\"E1.E6.E7\"><a href=\"psysml:5ea02985-bc8b-4cb1-bb08-c3caa7c881e0\" target=\"_top\" title=\"psysml:5ea02985-bc8b-4cb1-bb08-c3caa7c881e0\" xlink:actuate=\"onRequest\" xlink:href=\"psysml:5ea02985-bc8b-4cb1-bb08-c3caa7c881e0\" xlink:show=\"new\" xlink:title=\"psysml:5ea02985-bc8b-4cb1-bb08-c3caa7c881e0\" xlink:type=\"simple\"><rect fill=\"#FFFFFF\" height=\"40\" id=\"E7\" rx=\"10\" ry=\"10\" style=\"stroke: #383838; stroke-width: 1.5;\" width=\"50\" x=\"533\" y=\"256\"/><rect fill=\"#F8F8F8\" height=\"23.9688\" rx=\"10\" ry=\"10\" style=\"stroke: #F8F8F8; stroke-width: 1.5;\" width=\"50\" x=\"533\" y=\"256\"/><rect fill=\"#F8F8F8\" height=\"10\" style=\"stroke: #F8F8F8; stroke-width: 1.5;\" width=\"50\" x=\"533\" y=\"269.9688\"/><rect fill=\"none\" height=\"40\" id=\"E7\" rx=\"10\" ry=\"10\" style=\"stroke: #383838; stroke-width: 1.5;\" width=\"50\" x=\"533\" y=\"256\"/><text fill=\"#000000\" font-family=\"sans-serif\" font-size=\"12\" lengthAdjust=\"spacingAndGlyphs\" textLength=\"16\" x=\"550\" y=\"272.1387\">S1</text></a></g><g id=\"E1.E6.E8\"><a href=\"psysml:15193c6f-79c7-4ee2-a2ac-bfb559b7d876\" target=\"_top\" title=\"psysml:15193c6f-79c7-4ee2-a2ac-bfb559b7d876\" xlink:actuate=\"onRequest\" xlink:href=\"psysml:15193c6f-79c7-4ee2-a2ac-bfb559b7d876\" xlink:show=\"new\" xlink:title=\"psysml:15193c6f-79c7-4ee2-a2ac-bfb559b7d876\" xlink:type=\"simple\"><rect fill=\"#FFFFFF\" height=\"47.9375\" id=\"E8\" rx=\"10\" ry=\"10\" style=\"stroke: #383838; stroke-width: 1.5;\" width=\"50\" x=\"533\" y=\"373\"/><rect fill=\"#F8F8F8\" height=\"23.9688\" rx=\"10\" ry=\"10\" style=\"stroke: #F8F8F8; stroke-width: 1.5;\" width=\"50\" x=\"533\" y=\"373\"/><rect fill=\"#F8F8F8\" height=\"10\" style=\"stroke: #F8F8F8; stroke-width: 1.5;\" width=\"50\" x=\"533\" y=\"386.9688\"/><rect fill=\"none\" height=\"47.9375\" id=\"E8\" rx=\"10\" ry=\"10\" style=\"stroke: #383838; stroke-width: 1.5;\" width=\"50\" x=\"533\" y=\"373\"/><text fill=\"#000000\" font-family=\"sans-serif\" font-size=\"12\" lengthAdjust=\"spacingAndGlyphs\" textLength=\"16\" x=\"550\" y=\"389.1387\">S2</text><line style=\"stroke: #383838; stroke-width: 1.0;\" x1=\"533\" x2=\"583\" y1=\"396.9688\" y2=\"396.9688\"/><text fill=\"#000000\" font-family=\"sans-serif\" font-size=\"12\" font-weight=\"bold\" lengthAdjust=\"spacingAndGlyphs\" textLength=\"18\" x=\"538\" y=\"410.1074\">do</text><text fill=\"#000000\" font-family=\"sans-serif\" font-size=\"12\" lengthAdjust=\"spacingAndGlyphs\" textLength=\"4\" x=\"556\" y=\"410.1074\">/</text></a></g><!--MD5=[5a531d3a85f3339e6e197084acb48195]\n",
       "link *start*E6 to E7--><a href=\"psysml:50e6b136-bb64-4da5-b9f3-893462631a2b\" target=\"_top\" title=\"psysml:50e6b136-bb64-4da5-b9f3-893462631a2b\" xlink:actuate=\"onRequest\" xlink:href=\"psysml:50e6b136-bb64-4da5-b9f3-893462631a2b\" xlink:show=\"new\" xlink:title=\"psysml:50e6b136-bb64-4da5-b9f3-893462631a2b\" xlink:type=\"simple\"><path d=\"M558,167.18 C558,184.98 558,224.73 558,250.67 \" fill=\"none\" id=\"*start*E6-&gt;E7\" style=\"stroke: #383838; stroke-width: 1.0;\"/><polygon fill=\"#383838\" points=\"558,255.98,562,246.98,558,250.98,554,246.98,558,255.98\" style=\"stroke: #383838; stroke-width: 1.0;\"/></a><!--MD5=[7ec9a8babba89ddcae1318ca9fb3c814]\n",
       "link E8 to *end*E6--><a href=\"psysml:400438d1-4a79-4175-ae6b-80e92b548ca9\" target=\"_top\" title=\"psysml:400438d1-4a79-4175-ae6b-80e92b548ca9\" xlink:actuate=\"onRequest\" xlink:href=\"psysml:400438d1-4a79-4175-ae6b-80e92b548ca9\" xlink:show=\"new\" xlink:title=\"psysml:400438d1-4a79-4175-ae6b-80e92b548ca9\" xlink:type=\"simple\"><path d=\"M558,421.12 C558,442.75 558,474.39 558,492.62 \" fill=\"none\" id=\"E8-&gt;*end*E6\" style=\"stroke: #383838; stroke-width: 1.0;\"/><polygon fill=\"#383838\" points=\"558,497.82,562,488.82,558,492.82,554,488.82,558,497.82\" style=\"stroke: #383838; stroke-width: 1.0;\"/><text fill=\"#000000\" font-family=\"sans-serif\" font-size=\"13\" lengthAdjust=\"spacingAndGlyphs\" textLength=\"23\" x=\"559\" y=\"464.0669\">Exit</text></a><!--MD5=[79bc8f324ef4d02c541433f2e6e513c3]\n",
       "link E7 to E8--><a href=\"psysml:516b9b87-0f3c-4a45-97aa-978805331ddd\" target=\"_top\" title=\"psysml:516b9b87-0f3c-4a45-97aa-978805331ddd\" xlink:actuate=\"onRequest\" xlink:href=\"psysml:516b9b87-0f3c-4a45-97aa-978805331ddd\" xlink:show=\"new\" xlink:title=\"psysml:516b9b87-0f3c-4a45-97aa-978805331ddd\" xlink:type=\"simple\"><path d=\"M532.93,288.88 C518.69,297.12 502.12,309.56 494,326 C483.11,348.05 506.72,368.2 528.27,381.16 \" fill=\"none\" id=\"E7-&gt;E8\" style=\"stroke: #383838; stroke-width: 1.0;\"/><polygon fill=\"#383838\" points=\"532.83,383.82,527.0682,375.8324,528.5101,381.3024,523.0401,382.7443,532.83,383.82\" style=\"stroke: #383838; stroke-width: 1.0;\"/><text fill=\"#000000\" font-family=\"sans-serif\" font-size=\"13\" lengthAdjust=\"spacingAndGlyphs\" textLength=\"81\" x=\"495\" y=\"339.0669\">Sig /action D</text></a><!--MD5=[bfa3c8b0d15052fdf50ae9310b491027]\n",
       "link E8 to E7--><a href=\"psysml:0976314e-a9f7-4444-bafa-f8883db64fa0\" target=\"_top\" title=\"psysml:0976314e-a9f7-4444-bafa-f8883db64fa0\" xlink:actuate=\"onRequest\" xlink:href=\"psysml:0976314e-a9f7-4444-bafa-f8883db64fa0\" xlink:show=\"new\" xlink:title=\"psysml:0976314e-a9f7-4444-bafa-f8883db64fa0\" xlink:type=\"simple\"><path d=\"M572.17,372.99 C578.81,359.48 584.56,341.98 581,326 C579.1,317.49 575.56,308.72 571.82,300.99 \" fill=\"none\" id=\"E8-&gt;E7\" style=\"stroke: #383838; stroke-width: 1.0;\"/><polygon fill=\"#383838\" points=\"569.47,296.32,569.9298,306.1581,571.7118,300.7893,577.0806,302.5713,569.47,296.32\" style=\"stroke: #383838; stroke-width: 1.0;\"/><text fill=\"#000000\" font-family=\"sans-serif\" font-size=\"13\" lengthAdjust=\"spacingAndGlyphs\" textLength=\"135\" x=\"583\" y=\"339.0669\">Sig [true]/send s to p</text></a><!--MD5=[1c7f9fbbe8d7d3d60c7d02ac7598aee5]\n",
       "@startuml\r\n",
       "skinparam monochrome true\r\n",
       "skinparam classbackgroundcolor white\r\n",
       "skinparam shadowing false\r\n",
       "skinparam wrapWidth 300\r\n",
       "hide circle\r\n",
       "\r\n",
       "package \"StateTest\" as E1  [[psysml:9c548ee6-d869-4820-b951-32f5a4e72165 ]]  {\r\n",
       "comp def \"Sig\" as E2  <<(T,blue)attribute def>> [[psysml:7a2ca9b4-3a97-4e8a-92f8-a9f50dc832cb ]] {\r\n",
       "- - attributes - -\r\n",
       "x\r\n",
       "}\r\n",
       "comp def \"Exit\" as E3  <<(T,blue)attribute def>> [[psysml:30361623-caf7-482c-9813-174242dd8f3c ]] {\r\n",
       "}\r\n",
       "comp usage \"p\" as E4  <<(T,blue)part>> [[psysml:86d86843-d597-4d6e-917a-885d695bc43d ]] {\r\n",
       "}\r\n",
       "rec usage \"act\" as E5  <<(T,blue)action>> [[psysml:6cb3785d-90e3-4021-b607-f0ab9874924c ]] {\r\n",
       "}\r\n",
       "\r\n",
       "rec def \"S\" as E6  <<(T,blue)state def>> [[psysml:409d967c-2b55-4985-b068-ed253d96c58c ]] {\r\n",
       "rec usage \"S1\" as E7 [[psysml:5ea02985-bc8b-4cb1-bb08-c3caa7c881e0 ]] {\r\n",
       "}\r\n",
       "\r\n",
       "rec usage \"S2\" as E8 [[psysml:15193c6f-79c7-4ee2-a2ac-bfb559b7d876 ]] {\r\n",
       "desc \"S2\" as E8  : **do**/ \r\n",
       "}\r\n",
       "\r\n",
       "[*] - -> E7 [[psysml:50e6b136-bb64-4da5-b9f3-893462631a2b ]] \r\n",
       "E8  - -> [*] [[psysml:400438d1-4a79-4175-ae6b-80e92b548ca9 ]] : Exit \r\n",
       "desc \"S\" as E6  : **entry**/ A\r\n",
       "desc \"S\" as E6  : **do**/ B\r\n",
       "desc \"S\" as E6  : **exit**/ act \r\n",
       "}\r\n",
       "\r\n",
       "E7  - -> E8 [[psysml:516b9b87-0f3c-4a45-97aa-978805331ddd ]] : Sig /action D\r\n",
       "E8  - -> E7 [[psysml:0976314e-a9f7-4444-bafa-f8883db64fa0 ]] : Sig [true]/send s to p\r\n",
       "}\r\n",
       "@enduml\r\n",
       "\n",
       "PlantUML version 1.2020.13(Sat Jun 13 12:26:38 UTC 2020)\n",
       "(EPL source distribution)\n",
       "Java Runtime: OpenJDK Runtime Environment\n",
       "JVM: OpenJDK 64-Bit Server VM\n",
       "Default Encoding: UTF-8\n",
       "Language: en\n",
       "Country: null\n",
       "--></g></svg>"
      ]
     },
     "execution_count": 37,
     "metadata": {},
     "output_type": "execute_result"
    }
   ],
   "source": [
    "%viz --style=\"DEFAULT\" --view=\"Default\" \"StateTest\""
   ]
  },
  {
   "cell_type": "code",
   "execution_count": 38,
   "id": "critical-stuart",
   "metadata": {
    "execution": {
     "iopub.execute_input": "2021-03-26T09:13:55.098632Z",
     "iopub.status.busy": "2021-03-26T09:13:55.097849Z",
     "iopub.status.idle": "2021-03-26T09:13:55.199218Z",
     "shell.execute_reply": "2021-03-26T09:13:55.197822Z"
    }
   },
   "outputs": [
    {
     "data": {
      "image/svg+xml": [
       "<?xml version=\"1.0\" encoding=\"UTF-8\" standalone=\"no\"?><svg xmlns=\"http://www.w3.org/2000/svg\" xmlns:xlink=\"http://www.w3.org/1999/xlink\" contentScriptType=\"application/ecmascript\" contentStyleType=\"text/css\" height=\"471px\" preserveAspectRatio=\"none\" style=\"width:594px;height:471px;\" version=\"1.1\" viewBox=\"0 0 594 471\" width=\"594px\" zoomAndPan=\"magnify\"><defs/><g><!--MD5=[fbc87193dbaf4d95561dea2c320d4a47]\n",
       "cluster E1--><a href=\"psysml:9c548ee6-d869-4820-b951-32f5a4e72165\" target=\"_top\" title=\"psysml:9c548ee6-d869-4820-b951-32f5a4e72165\" xlink:actuate=\"onRequest\" xlink:href=\"psysml:9c548ee6-d869-4820-b951-32f5a4e72165\" xlink:show=\"new\" xlink:title=\"psysml:9c548ee6-d869-4820-b951-32f5a4e72165\" xlink:type=\"simple\"><polygon fill=\"#FFFFFF\" points=\"16,6,98,6,105,28.2969,572,28.2969,572,459,16,459,16,6\" style=\"stroke: #000000; stroke-width: 1.5;\"/><line style=\"stroke: #000000; stroke-width: 1.5;\" x1=\"16\" x2=\"105\" y1=\"28.2969\" y2=\"28.2969\"/><text fill=\"#000000\" font-family=\"sans-serif\" font-size=\"14\" font-weight=\"bold\" lengthAdjust=\"spacingAndGlyphs\" textLength=\"76\" x=\"20\" y=\"20.9951\">StateTest</text></a><!--MD5=[b4997ac47864f28c2f74865a473b2911]\n",
       "class E2--><a href=\"psysml:7a2ca9b4-3a97-4e8a-92f8-a9f50dc832cb\" target=\"_top\" title=\"psysml:7a2ca9b4-3a97-4e8a-92f8-a9f50dc832cb\" xlink:actuate=\"onRequest\" xlink:href=\"psysml:7a2ca9b4-3a97-4e8a-92f8-a9f50dc832cb\" xlink:show=\"new\" xlink:title=\"psysml:7a2ca9b4-3a97-4e8a-92f8-a9f50dc832cb\" xlink:type=\"simple\"><rect fill=\"#FFFFFF\" height=\"75.5469\" id=\"E2\" style=\"stroke: #383838; stroke-width: 1.5;\" width=\"95\" x=\"460.5\" y=\"83\"/><text fill=\"#000000\" font-family=\"sans-serif\" font-size=\"12\" font-style=\"italic\" lengthAdjust=\"spacingAndGlyphs\" textLength=\"93\" x=\"461.5\" y=\"99.1387\">«attribute def»</text><text fill=\"#000000\" font-family=\"sans-serif\" font-size=\"12\" lengthAdjust=\"spacingAndGlyphs\" textLength=\"19\" x=\"498.5\" y=\"113.1074\">Sig</text><line style=\"stroke: #383838; stroke-width: 1.5;\" x1=\"461.5\" x2=\"554.5\" y1=\"120.9375\" y2=\"120.9375\"/><text fill=\"#000000\" font-family=\"sans-serif\" font-size=\"11\" lengthAdjust=\"spacingAndGlyphs\" textLength=\"6\" x=\"466.5\" y=\"151.9526\">x</text><line style=\"stroke: #383838; stroke-width: 1.0;\" x1=\"461.5\" x2=\"480.5\" y1=\"135.3398\" y2=\"135.3398\"/><text fill=\"#000000\" font-family=\"sans-serif\" font-size=\"11\" lengthAdjust=\"spacingAndGlyphs\" textLength=\"55\" x=\"480.5\" y=\"138.6479\">attributes</text><line style=\"stroke: #383838; stroke-width: 1.0;\" x1=\"535.5\" x2=\"554.5\" y1=\"135.3398\" y2=\"135.3398\"/></a><!--MD5=[09b614a08d8cba4a07c9adeb5e0fee81]\n",
       "class E3--><a href=\"psysml:30361623-caf7-482c-9813-174242dd8f3c\" target=\"_top\" title=\"psysml:30361623-caf7-482c-9813-174242dd8f3c\" xlink:actuate=\"onRequest\" xlink:href=\"psysml:30361623-caf7-482c-9813-174242dd8f3c\" xlink:show=\"new\" xlink:title=\"psysml:30361623-caf7-482c-9813-174242dd8f3c\" xlink:type=\"simple\"><rect fill=\"#FFFFFF\" height=\"45.9375\" id=\"E3\" style=\"stroke: #383838; stroke-width: 1.5;\" width=\"95\" x=\"330.5\" y=\"98\"/><text fill=\"#000000\" font-family=\"sans-serif\" font-size=\"12\" font-style=\"italic\" lengthAdjust=\"spacingAndGlyphs\" textLength=\"93\" x=\"331.5\" y=\"114.1387\">«attribute def»</text><text fill=\"#000000\" font-family=\"sans-serif\" font-size=\"12\" lengthAdjust=\"spacingAndGlyphs\" textLength=\"22\" x=\"367\" y=\"128.1074\">Exit</text><line style=\"stroke: #383838; stroke-width: 1.5;\" x1=\"331.5\" x2=\"424.5\" y1=\"135.9375\" y2=\"135.9375\"/></a><!--MD5=[ebbe1d658d1005bcc118a6aa81145e00]\n",
       "class E4--><a href=\"psysml:86d86843-d597-4d6e-917a-885d695bc43d\" target=\"_top\" title=\"psysml:86d86843-d597-4d6e-917a-885d695bc43d\" xlink:actuate=\"onRequest\" xlink:href=\"psysml:86d86843-d597-4d6e-917a-885d695bc43d\" xlink:show=\"new\" xlink:title=\"psysml:86d86843-d597-4d6e-917a-885d695bc43d\" xlink:type=\"simple\"><rect fill=\"#FFFFFF\" height=\"45.9375\" id=\"E4\" rx=\"10\" ry=\"10\" style=\"stroke: #383838; stroke-width: 1.5;\" width=\"42\" x=\"253\" y=\"98\"/><text fill=\"#000000\" font-family=\"sans-serif\" font-size=\"12\" font-style=\"italic\" lengthAdjust=\"spacingAndGlyphs\" textLength=\"40\" x=\"254\" y=\"114.1387\">«part»</text><text fill=\"#000000\" font-family=\"sans-serif\" font-size=\"12\" lengthAdjust=\"spacingAndGlyphs\" textLength=\"8\" x=\"270\" y=\"128.1074\">p</text><line style=\"stroke: #383838; stroke-width: 1.5;\" x1=\"254\" x2=\"294\" y1=\"135.9375\" y2=\"135.9375\"/></a><!--MD5=[270fce915f116d4de14055a7c1d9a0f3]\n",
       "class E5--><a href=\"psysml:6cb3785d-90e3-4021-b607-f0ab9874924c\" target=\"_top\" title=\"psysml:6cb3785d-90e3-4021-b607-f0ab9874924c\" xlink:actuate=\"onRequest\" xlink:href=\"psysml:6cb3785d-90e3-4021-b607-f0ab9874924c\" xlink:show=\"new\" xlink:title=\"psysml:6cb3785d-90e3-4021-b607-f0ab9874924c\" xlink:type=\"simple\"><rect fill=\"#FFFFFF\" height=\"45.9375\" id=\"E5\" rx=\"10\" ry=\"10\" style=\"stroke: #383838; stroke-width: 1.5;\" width=\"55\" x=\"162.5\" y=\"98\"/><text fill=\"#000000\" font-family=\"sans-serif\" font-size=\"12\" font-style=\"italic\" lengthAdjust=\"spacingAndGlyphs\" textLength=\"53\" x=\"163.5\" y=\"114.1387\">«action»</text><text fill=\"#000000\" font-family=\"sans-serif\" font-size=\"12\" lengthAdjust=\"spacingAndGlyphs\" textLength=\"20\" x=\"180\" y=\"128.1074\">act</text><line style=\"stroke: #383838; stroke-width: 1.5;\" x1=\"163.5\" x2=\"216.5\" y1=\"135.9375\" y2=\"135.9375\"/></a><!--MD5=[60a26617385b1d2d0262a64233df1f8d]\n",
       "class E6--><a href=\"psysml:409d967c-2b55-4985-b068-ed253d96c58c\" target=\"_top\" title=\"psysml:409d967c-2b55-4985-b068-ed253d96c58c\" xlink:actuate=\"onRequest\" xlink:href=\"psysml:409d967c-2b55-4985-b068-ed253d96c58c\" xlink:show=\"new\" xlink:title=\"psysml:409d967c-2b55-4985-b068-ed253d96c58c\" xlink:type=\"simple\"><rect fill=\"#FFFFFF\" height=\"160.375\" id=\"E6\" style=\"stroke: #383838; stroke-width: 1.5;\" width=\"95\" x=\"32.5\" y=\"41\"/><text fill=\"#000000\" font-family=\"sans-serif\" font-size=\"12\" font-style=\"italic\" lengthAdjust=\"spacingAndGlyphs\" textLength=\"71\" x=\"44.5\" y=\"57.1387\">«state def»</text><text fill=\"#000000\" font-family=\"sans-serif\" font-size=\"12\" lengthAdjust=\"spacingAndGlyphs\" textLength=\"8\" x=\"76\" y=\"71.1074\">S</text><line style=\"stroke: #383838; stroke-width: 1.5;\" x1=\"33.5\" x2=\"126.5\" y1=\"78.9375\" y2=\"78.9375\"/><text fill=\"#000000\" font-family=\"sans-serif\" font-size=\"11\" lengthAdjust=\"spacingAndGlyphs\" textLength=\"17\" x=\"38.5\" y=\"109.9526\">act</text><text fill=\"#000000\" font-family=\"sans-serif\" font-size=\"11\" lengthAdjust=\"spacingAndGlyphs\" textLength=\"7\" x=\"38.5\" y=\"122.7573\">A</text><text fill=\"#000000\" font-family=\"sans-serif\" font-size=\"11\" lengthAdjust=\"spacingAndGlyphs\" textLength=\"8\" x=\"38.5\" y=\"135.562\">B</text><line style=\"stroke: #383838; stroke-width: 1.0;\" x1=\"33.5\" x2=\"36.5\" y1=\"93.3398\" y2=\"93.3398\"/><text fill=\"#000000\" font-family=\"sans-serif\" font-size=\"11\" lengthAdjust=\"spacingAndGlyphs\" textLength=\"87\" x=\"36.5\" y=\"96.6479\">performActions</text><line style=\"stroke: #383838; stroke-width: 1.0;\" x1=\"123.5\" x2=\"126.5\" y1=\"93.3398\" y2=\"93.3398\"/><text fill=\"#000000\" font-family=\"sans-serif\" font-size=\"11\" lengthAdjust=\"spacingAndGlyphs\" textLength=\"15\" x=\"38.5\" y=\"165.1714\">S1</text><line style=\"stroke: #383838; stroke-width: 1.0;\" x1=\"33.5\" x2=\"62\" y1=\"148.5586\" y2=\"148.5586\"/><text fill=\"#000000\" font-family=\"sans-serif\" font-size=\"11\" lengthAdjust=\"spacingAndGlyphs\" textLength=\"36\" x=\"62\" y=\"151.8667\">states</text><line style=\"stroke: #383838; stroke-width: 1.0;\" x1=\"98\" x2=\"126.5\" y1=\"148.5586\" y2=\"148.5586\"/><text fill=\"#000000\" font-family=\"sans-serif\" font-size=\"11\" lengthAdjust=\"spacingAndGlyphs\" textLength=\"7\" x=\"38.5\" y=\"194.7808\">T</text><line style=\"stroke: #383838; stroke-width: 1.0;\" x1=\"33.5\" x2=\"49.5\" y1=\"178.168\" y2=\"178.168\"/><text fill=\"#000000\" font-family=\"sans-serif\" font-size=\"11\" lengthAdjust=\"spacingAndGlyphs\" textLength=\"61\" x=\"49.5\" y=\"181.4761\">transitions</text><line style=\"stroke: #383838; stroke-width: 1.0;\" x1=\"110.5\" x2=\"126.5\" y1=\"178.168\" y2=\"178.168\"/></a><!--MD5=[1dd1bfd58a279cf63c5f349dbc8fc6a1]\n",
       "class E11--><a href=\"psysml:15193c6f-79c7-4ee2-a2ac-bfb559b7d876\" target=\"_top\" title=\"psysml:15193c6f-79c7-4ee2-a2ac-bfb559b7d876\" xlink:actuate=\"onRequest\" xlink:href=\"psysml:15193c6f-79c7-4ee2-a2ac-bfb559b7d876\" xlink:show=\"new\" xlink:title=\"psysml:15193c6f-79c7-4ee2-a2ac-bfb559b7d876\" xlink:type=\"simple\"><rect fill=\"#FFFFFF\" height=\"45.9375\" id=\"E11\" rx=\"10\" ry=\"10\" style=\"stroke: #383838; stroke-width: 1.5;\" width=\"49\" x=\"55.5\" y=\"261\"/><text fill=\"#000000\" font-family=\"sans-serif\" font-size=\"12\" font-style=\"italic\" lengthAdjust=\"spacingAndGlyphs\" textLength=\"47\" x=\"56.5\" y=\"277.1387\">«state»</text><text fill=\"#000000\" font-family=\"sans-serif\" font-size=\"12\" lengthAdjust=\"spacingAndGlyphs\" textLength=\"16\" x=\"72\" y=\"291.1074\">S2</text><line style=\"stroke: #383838; stroke-width: 1.5;\" x1=\"56.5\" x2=\"103.5\" y1=\"298.9375\" y2=\"298.9375\"/></a><!--MD5=[49a0ec8f00dab7302a31f22d0f0fe584]\n",
       "class E12--><a href=\"psysml:02a264b3-17c4-490c-b5b1-f49bb5aa02c2\" target=\"_top\" title=\"psysml:02a264b3-17c4-490c-b5b1-f49bb5aa02c2\" xlink:actuate=\"onRequest\" xlink:href=\"psysml:02a264b3-17c4-490c-b5b1-f49bb5aa02c2\" xlink:show=\"new\" xlink:title=\"psysml:02a264b3-17c4-490c-b5b1-f49bb5aa02c2\" xlink:type=\"simple\"><rect fill=\"#FFFFFF\" height=\"75.5469\" id=\"E12\" rx=\"10\" ry=\"10\" style=\"stroke: #383838; stroke-width: 1.5;\" width=\"90\" x=\"35\" y=\"367\"/><text fill=\"#000000\" font-family=\"sans-serif\" font-size=\"12\" font-style=\"italic\" lengthAdjust=\"spacingAndGlyphs\" textLength=\"88\" x=\"36\" y=\"383.1387\">«send action»</text><text fill=\"#000000\" font-family=\"sans-serif\" font-size=\"12\" lengthAdjust=\"spacingAndGlyphs\" textLength=\"55\" x=\"52.5\" y=\"397.1074\">doAction</text><line style=\"stroke: #383838; stroke-width: 1.5;\" x1=\"36\" x2=\"124\" y1=\"404.9375\" y2=\"404.9375\"/><text fill=\"#000000\" font-family=\"sans-serif\" font-size=\"11\" lengthAdjust=\"spacingAndGlyphs\" textLength=\"25\" x=\"41\" y=\"435.9526\">item</text><line style=\"stroke: #383838; stroke-width: 1.0;\" x1=\"36\" x2=\"42.5\" y1=\"419.3398\" y2=\"419.3398\"/><text fill=\"#000000\" font-family=\"sans-serif\" font-size=\"11\" lengthAdjust=\"spacingAndGlyphs\" textLength=\"75\" x=\"42.5\" y=\"422.6479\">itemFeatures</text><line style=\"stroke: #383838; stroke-width: 1.0;\" x1=\"117.5\" x2=\"124\" y1=\"419.3398\" y2=\"419.3398\"/></a><!--MD5=[1f5f03483f7de0d5b3680a7f6650997f]\n",
       "reverse link E6 to E11--><a href=\"psysml:15193c6f-79c7-4ee2-a2ac-bfb559b7d876\" target=\"_top\" title=\"psysml:15193c6f-79c7-4ee2-a2ac-bfb559b7d876\" xlink:actuate=\"onRequest\" xlink:href=\"psysml:15193c6f-79c7-4ee2-a2ac-bfb559b7d876\" xlink:show=\"new\" xlink:title=\"psysml:15193c6f-79c7-4ee2-a2ac-bfb559b7d876\" xlink:type=\"simple\"><path d=\"M80,214.17 C80,231.58 80,248.25 80,260.82 \" fill=\"none\" id=\"E6&lt;-E11\" style=\"stroke: #383838; stroke-width: 1.0;\"/><polygon fill=\"#383838\" points=\"80,201.09,76.0066,207.0944,80.0132,213.09,84.0066,207.0856,80,201.09\" style=\"stroke: #383838; stroke-width: 1.0;\"/></a><!--MD5=[94adabc162ce7e41b39f13be14fbaeb3]\n",
       "reverse link E11 to E12--><a href=\"psysml:02a264b3-17c4-490c-b5b1-f49bb5aa02c2\" target=\"_top\" title=\"psysml:02a264b3-17c4-490c-b5b1-f49bb5aa02c2\" xlink:actuate=\"onRequest\" xlink:href=\"psysml:02a264b3-17c4-490c-b5b1-f49bb5aa02c2\" xlink:show=\"new\" xlink:title=\"psysml:02a264b3-17c4-490c-b5b1-f49bb5aa02c2\" xlink:type=\"simple\"><path d=\"M80,320.23 C80,334.82 80,351.76 80,366.58 \" fill=\"none\" id=\"E11&lt;-E12\" style=\"stroke: #383838; stroke-width: 1.0;\"/><polygon fill=\"#FFFFFF\" points=\"80,307.1,76,313.1,80,319.1,84,313.1,80,307.1\" style=\"stroke: #383838; stroke-width: 1.0;\"/></a><!--MD5=[63f8d940321298318214d8cb771a0723]\n",
       "@startuml\r\n",
       "skinparam monochrome true\r\n",
       "skinparam classbackgroundcolor white\r\n",
       "skinparam shadowing false\r\n",
       "skinparam wrapWidth 300\r\n",
       "hide circle\r\n",
       "\r\n",
       "package \"StateTest\" as E1  [[psysml:9c548ee6-d869-4820-b951-32f5a4e72165 ]]  {\r\n",
       "comp def \"Sig\" as E2  <<(T,blue)attribute def>> [[psysml:7a2ca9b4-3a97-4e8a-92f8-a9f50dc832cb ]] {\r\n",
       "- - attributes - -\r\n",
       "x\r\n",
       "}\r\n",
       "comp def \"Exit\" as E3  <<(T,blue)attribute def>> [[psysml:30361623-caf7-482c-9813-174242dd8f3c ]] {\r\n",
       "}\r\n",
       "comp usage \"p\" as E4  <<(T,blue)part>> [[psysml:86d86843-d597-4d6e-917a-885d695bc43d ]] {\r\n",
       "}\r\n",
       "comp usage \"act\" as E5  <<(T,blue)action>> [[psysml:6cb3785d-90e3-4021-b607-f0ab9874924c ]] {\r\n",
       "}\r\n",
       "comp def \"S\" as E6  <<(T,blue)state def>> [[psysml:409d967c-2b55-4985-b068-ed253d96c58c ]] {\r\n",
       "- - performActions - -\r\n",
       "act\r\n",
       "A\r\n",
       "B\r\n",
       "- - states - -\r\n",
       "S1\r\n",
       "- - transitions - -\r\n",
       "T\r\n",
       "}\r\n",
       "comp usage \"S2\" as E11  <<(T,blue)state>> [[psysml:15193c6f-79c7-4ee2-a2ac-bfb559b7d876 ]] {\r\n",
       "}\r\n",
       "comp usage \"doAction\" as E12 <<send action>> [[psysml:02a264b3-17c4-490c-b5b1-f49bb5aa02c2 ]] {\r\n",
       "- - itemFeatures - -\r\n",
       "item\r\n",
       "}\r\n",
       "E6 *- - E11 [[psysml:15193c6f-79c7-4ee2-a2ac-bfb559b7d876 ]] \r\n",
       "E11 o- - E12 [[psysml:02a264b3-17c4-490c-b5b1-f49bb5aa02c2 ]] \r\n",
       "}\r\n",
       "@enduml\r\n",
       "\n",
       "PlantUML version 1.2020.13(Sat Jun 13 12:26:38 UTC 2020)\n",
       "(EPL source distribution)\n",
       "Java Runtime: OpenJDK Runtime Environment\n",
       "JVM: OpenJDK 64-Bit Server VM\n",
       "Default Encoding: UTF-8\n",
       "Language: en\n",
       "Country: null\n",
       "--></g></svg>"
      ]
     },
     "execution_count": 38,
     "metadata": {},
     "output_type": "execute_result"
    }
   ],
   "source": [
    "%viz --style=\"DEFAULT\" --view=\"Tree\" \"StateTest\""
   ]
  },
  {
   "cell_type": "code",
   "execution_count": 39,
   "id": "sitting-publicity",
   "metadata": {
    "execution": {
     "iopub.execute_input": "2021-03-26T09:13:55.249211Z",
     "iopub.status.busy": "2021-03-26T09:13:55.248727Z",
     "iopub.status.idle": "2021-03-26T09:13:55.277104Z",
     "shell.execute_reply": "2021-03-26T09:13:55.275422Z"
    }
   },
   "outputs": [
    {
     "data": {
      "image/svg+xml": [
       "<?xml version=\"1.0\" encoding=\"UTF-8\" standalone=\"no\"?><svg xmlns=\"http://www.w3.org/2000/svg\" xmlns:xlink=\"http://www.w3.org/1999/xlink\" contentScriptType=\"application/ecmascript\" contentStyleType=\"text/css\" height=\"475px\" preserveAspectRatio=\"none\" style=\"width:346px;height:475px;\" version=\"1.1\" viewBox=\"0 0 346 475\" width=\"346px\" zoomAndPan=\"magnify\"><defs/><g><!--MD5=[fbc87193dbaf4d95561dea2c320d4a47]\n",
       "cluster E1--><a href=\"psysml:409d967c-2b55-4985-b068-ed253d96c58c\" target=\"_top\" title=\"psysml:409d967c-2b55-4985-b068-ed253d96c58c\" xlink:actuate=\"onRequest\" xlink:href=\"psysml:409d967c-2b55-4985-b068-ed253d96c58c\" xlink:show=\"new\" xlink:title=\"psysml:409d967c-2b55-4985-b068-ed253d96c58c\" xlink:type=\"simple\"><rect fill=\"#FFFFFF\" height=\"457\" id=\"E1\" style=\"stroke: #383838; stroke-width: 1.5;\" width=\"327\" x=\"7\" y=\"7\"/><rect fill=\"#F8F8F8\" height=\"37.9375\" style=\"stroke: #383838; stroke-width: 1.5;\" width=\"327\" x=\"7\" y=\"7\"/><text fill=\"#000000\" font-family=\"sans-serif\" font-size=\"12\" font-style=\"italic\" lengthAdjust=\"spacingAndGlyphs\" textLength=\"71\" x=\"135\" y=\"23.1387\">«state def»</text><text fill=\"#000000\" font-family=\"sans-serif\" font-size=\"12\" lengthAdjust=\"spacingAndGlyphs\" textLength=\"8\" x=\"166.5\" y=\"37.1074\">S</text><line style=\"stroke: #383838; stroke-width: 1.0;\" x1=\"7\" x2=\"334\" y1=\"90.8438\" y2=\"90.8438\"/><text fill=\"#000000\" font-family=\"sans-serif\" font-size=\"12\" font-weight=\"bold\" lengthAdjust=\"spacingAndGlyphs\" textLength=\"38\" x=\"12\" y=\"58.0762\">entry</text><text fill=\"#000000\" font-family=\"sans-serif\" font-size=\"12\" lengthAdjust=\"spacingAndGlyphs\" textLength=\"16\" x=\"50\" y=\"58.0762\">/ A</text><text fill=\"#000000\" font-family=\"sans-serif\" font-size=\"12\" font-weight=\"bold\" lengthAdjust=\"spacingAndGlyphs\" textLength=\"18\" x=\"12\" y=\"72.0449\">do</text><text fill=\"#000000\" font-family=\"sans-serif\" font-size=\"12\" lengthAdjust=\"spacingAndGlyphs\" textLength=\"16\" x=\"30\" y=\"72.0449\">/ B</text><text fill=\"#000000\" font-family=\"sans-serif\" font-size=\"12\" font-weight=\"bold\" lengthAdjust=\"spacingAndGlyphs\" textLength=\"26\" x=\"12\" y=\"86.0137\">exit</text><text fill=\"#000000\" font-family=\"sans-serif\" font-size=\"12\" lengthAdjust=\"spacingAndGlyphs\" textLength=\"28\" x=\"38\" y=\"86.0137\">/ act</text></a><ellipse cx=\"119\" cy=\"115\" fill=\"#000000\" rx=\"10\" ry=\"10\" style=\"stroke: none; stroke-width: 1.0;\"/><ellipse cx=\"119\" cy=\"438\" fill=\"none\" rx=\"10\" ry=\"10\" style=\"stroke: #000000; stroke-width: 1.0;\"/><ellipse cx=\"119.5\" cy=\"438.5\" fill=\"#000000\" rx=\"6\" ry=\"6\" style=\"stroke: none; stroke-width: 1.0;\"/><g id=\"E1.E2\"><a href=\"psysml:5ea02985-bc8b-4cb1-bb08-c3caa7c881e0\" target=\"_top\" title=\"psysml:5ea02985-bc8b-4cb1-bb08-c3caa7c881e0\" xlink:actuate=\"onRequest\" xlink:href=\"psysml:5ea02985-bc8b-4cb1-bb08-c3caa7c881e0\" xlink:show=\"new\" xlink:title=\"psysml:5ea02985-bc8b-4cb1-bb08-c3caa7c881e0\" xlink:type=\"simple\"><rect fill=\"#FFFFFF\" height=\"40\" id=\"E2\" rx=\"10\" ry=\"10\" style=\"stroke: #383838; stroke-width: 1.5;\" width=\"50\" x=\"94\" y=\"186\"/><rect fill=\"#F8F8F8\" height=\"23.9688\" rx=\"10\" ry=\"10\" style=\"stroke: #F8F8F8; stroke-width: 1.5;\" width=\"50\" x=\"94\" y=\"186\"/><rect fill=\"#F8F8F8\" height=\"10\" style=\"stroke: #F8F8F8; stroke-width: 1.5;\" width=\"50\" x=\"94\" y=\"199.9688\"/><rect fill=\"none\" height=\"40\" id=\"E2\" rx=\"10\" ry=\"10\" style=\"stroke: #383838; stroke-width: 1.5;\" width=\"50\" x=\"94\" y=\"186\"/><text fill=\"#000000\" font-family=\"sans-serif\" font-size=\"12\" lengthAdjust=\"spacingAndGlyphs\" textLength=\"16\" x=\"111\" y=\"202.1387\">S1</text></a></g><g id=\"E1.E3\"><a href=\"psysml:15193c6f-79c7-4ee2-a2ac-bfb559b7d876\" target=\"_top\" title=\"psysml:15193c6f-79c7-4ee2-a2ac-bfb559b7d876\" xlink:actuate=\"onRequest\" xlink:href=\"psysml:15193c6f-79c7-4ee2-a2ac-bfb559b7d876\" xlink:show=\"new\" xlink:title=\"psysml:15193c6f-79c7-4ee2-a2ac-bfb559b7d876\" xlink:type=\"simple\"><rect fill=\"#FFFFFF\" height=\"47.9375\" id=\"E3\" rx=\"10\" ry=\"10\" style=\"stroke: #383838; stroke-width: 1.5;\" width=\"50\" x=\"94\" y=\"303\"/><rect fill=\"#F8F8F8\" height=\"23.9688\" rx=\"10\" ry=\"10\" style=\"stroke: #F8F8F8; stroke-width: 1.5;\" width=\"50\" x=\"94\" y=\"303\"/><rect fill=\"#F8F8F8\" height=\"10\" style=\"stroke: #F8F8F8; stroke-width: 1.5;\" width=\"50\" x=\"94\" y=\"316.9688\"/><rect fill=\"none\" height=\"47.9375\" id=\"E3\" rx=\"10\" ry=\"10\" style=\"stroke: #383838; stroke-width: 1.5;\" width=\"50\" x=\"94\" y=\"303\"/><text fill=\"#000000\" font-family=\"sans-serif\" font-size=\"12\" lengthAdjust=\"spacingAndGlyphs\" textLength=\"16\" x=\"111\" y=\"319.1387\">S2</text><line style=\"stroke: #383838; stroke-width: 1.0;\" x1=\"94\" x2=\"144\" y1=\"326.9688\" y2=\"326.9688\"/><text fill=\"#000000\" font-family=\"sans-serif\" font-size=\"12\" font-weight=\"bold\" lengthAdjust=\"spacingAndGlyphs\" textLength=\"18\" x=\"99\" y=\"340.1074\">do</text><text fill=\"#000000\" font-family=\"sans-serif\" font-size=\"12\" lengthAdjust=\"spacingAndGlyphs\" textLength=\"4\" x=\"117\" y=\"340.1074\">/</text></a></g><!--MD5=[cff944eb183b832d446717a4e202d613]\n",
       "link *start*E1 to E2--><a href=\"psysml:50e6b136-bb64-4da5-b9f3-893462631a2b\" target=\"_top\" title=\"psysml:50e6b136-bb64-4da5-b9f3-893462631a2b\" xlink:actuate=\"onRequest\" xlink:href=\"psysml:50e6b136-bb64-4da5-b9f3-893462631a2b\" xlink:show=\"new\" xlink:title=\"psysml:50e6b136-bb64-4da5-b9f3-893462631a2b\" xlink:type=\"simple\"><path d=\"M119,125.19 C119,138.18 119,162.38 119,180.73 \" fill=\"none\" id=\"*start*E1-&gt;E2\" style=\"stroke: #383838; stroke-width: 1.0;\"/><polygon fill=\"#383838\" points=\"119,185.74,123,176.74,119,180.74,115,176.74,119,185.74\" style=\"stroke: #383838; stroke-width: 1.0;\"/></a><!--MD5=[9ee7afa76ca8c509b3d216624c3a9893]\n",
       "link E3 to *end*E1--><a href=\"psysml:400438d1-4a79-4175-ae6b-80e92b548ca9\" target=\"_top\" title=\"psysml:400438d1-4a79-4175-ae6b-80e92b548ca9\" xlink:actuate=\"onRequest\" xlink:href=\"psysml:400438d1-4a79-4175-ae6b-80e92b548ca9\" xlink:show=\"new\" xlink:title=\"psysml:400438d1-4a79-4175-ae6b-80e92b548ca9\" xlink:type=\"simple\"><path d=\"M119,351.12 C119,372.75 119,404.39 119,422.62 \" fill=\"none\" id=\"E3-&gt;*end*E1\" style=\"stroke: #383838; stroke-width: 1.0;\"/><polygon fill=\"#383838\" points=\"119,427.82,123,418.82,119,422.82,115,418.82,119,427.82\" style=\"stroke: #383838; stroke-width: 1.0;\"/><text fill=\"#000000\" font-family=\"sans-serif\" font-size=\"13\" lengthAdjust=\"spacingAndGlyphs\" textLength=\"23\" x=\"120\" y=\"394.0669\">Exit</text></a><!--MD5=[2720a5a1f2c3fca2055b230370638851]\n",
       "link E2 to E3--><a href=\"psysml:516b9b87-0f3c-4a45-97aa-978805331ddd\" target=\"_top\" title=\"psysml:516b9b87-0f3c-4a45-97aa-978805331ddd\" xlink:actuate=\"onRequest\" xlink:href=\"psysml:516b9b87-0f3c-4a45-97aa-978805331ddd\" xlink:show=\"new\" xlink:title=\"psysml:516b9b87-0f3c-4a45-97aa-978805331ddd\" xlink:type=\"simple\"><path d=\"M93.93,218.88 C79.69,227.12 63.12,239.56 55,256 C44.11,278.05 67.72,298.2 89.27,311.16 \" fill=\"none\" id=\"E2-&gt;E3\" style=\"stroke: #383838; stroke-width: 1.0;\"/><polygon fill=\"#383838\" points=\"93.83,313.82,88.0682,305.8324,89.5101,311.3024,84.0401,312.7443,93.83,313.82\" style=\"stroke: #383838; stroke-width: 1.0;\"/><text fill=\"#000000\" font-family=\"sans-serif\" font-size=\"13\" lengthAdjust=\"spacingAndGlyphs\" textLength=\"81\" x=\"56\" y=\"269.0669\">Sig /action D</text></a><!--MD5=[05d275557350bfb9b23a4ef7222b4c39]\n",
       "link E3 to E2--><a href=\"psysml:0976314e-a9f7-4444-bafa-f8883db64fa0\" target=\"_top\" title=\"psysml:0976314e-a9f7-4444-bafa-f8883db64fa0\" xlink:actuate=\"onRequest\" xlink:href=\"psysml:0976314e-a9f7-4444-bafa-f8883db64fa0\" xlink:show=\"new\" xlink:title=\"psysml:0976314e-a9f7-4444-bafa-f8883db64fa0\" xlink:type=\"simple\"><path d=\"M133.17,302.99 C139.81,289.48 145.56,271.98 142,256 C140.1,247.49 136.56,238.72 132.82,230.99 \" fill=\"none\" id=\"E3-&gt;E2\" style=\"stroke: #383838; stroke-width: 1.0;\"/><polygon fill=\"#383838\" points=\"130.47,226.32,130.9298,236.1581,132.7118,230.7893,138.0806,232.5713,130.47,226.32\" style=\"stroke: #383838; stroke-width: 1.0;\"/><text fill=\"#000000\" font-family=\"sans-serif\" font-size=\"13\" lengthAdjust=\"spacingAndGlyphs\" textLength=\"135\" x=\"144\" y=\"269.0669\">Sig [true]/send s to p</text></a><!--MD5=[983a83ff1da64a4c0deb820a677c61e2]\n",
       "@startuml\r\n",
       "skinparam monochrome true\r\n",
       "skinparam classbackgroundcolor white\r\n",
       "skinparam shadowing false\r\n",
       "skinparam wrapWidth 300\r\n",
       "hide circle\r\n",
       "\r\n",
       "rec def \"S\" as E1  <<(T,blue)state def>> [[psysml:409d967c-2b55-4985-b068-ed253d96c58c ]] {\r\n",
       "rec usage \"S1\" as E2 [[psysml:5ea02985-bc8b-4cb1-bb08-c3caa7c881e0 ]] {\r\n",
       "}\r\n",
       "\r\n",
       "rec usage \"S2\" as E3 [[psysml:15193c6f-79c7-4ee2-a2ac-bfb559b7d876 ]] {\r\n",
       "desc \"S2\" as E3  : **do**/ \r\n",
       "}\r\n",
       "\r\n",
       "[*] - -> E2 [[psysml:50e6b136-bb64-4da5-b9f3-893462631a2b ]] \r\n",
       "E3  - -> [*] [[psysml:400438d1-4a79-4175-ae6b-80e92b548ca9 ]] : Exit \r\n",
       "desc \"S\" as E1  : **entry**/ A\r\n",
       "desc \"S\" as E1  : **do**/ B\r\n",
       "desc \"S\" as E1  : **exit**/ act \r\n",
       "}\r\n",
       "\r\n",
       "E2  - -> E3 [[psysml:516b9b87-0f3c-4a45-97aa-978805331ddd ]] : Sig /action D\r\n",
       "E3  - -> E2 [[psysml:0976314e-a9f7-4444-bafa-f8883db64fa0 ]] : Sig [true]/send s to p\r\n",
       "@enduml\r\n",
       "\n",
       "PlantUML version 1.2020.13(Sat Jun 13 12:26:38 UTC 2020)\n",
       "(EPL source distribution)\n",
       "Java Runtime: OpenJDK Runtime Environment\n",
       "JVM: OpenJDK 64-Bit Server VM\n",
       "Default Encoding: UTF-8\n",
       "Language: en\n",
       "Country: null\n",
       "--></g></svg>"
      ]
     },
     "execution_count": 39,
     "metadata": {},
     "output_type": "execute_result"
    }
   ],
   "source": [
    "%viz --style=\"DEFAULT\" --view=\"State\" \"StateTest\""
   ]
  },
  {
   "cell_type": "code",
   "execution_count": 40,
   "id": "minor-celebration",
   "metadata": {
    "execution": {
     "iopub.execute_input": "2021-03-26T09:13:55.327056Z",
     "iopub.status.busy": "2021-03-26T09:13:55.326713Z",
     "iopub.status.idle": "2021-03-26T09:13:55.349366Z",
     "shell.execute_reply": "2021-03-26T09:13:55.348098Z"
    }
   },
   "outputs": [
    {
     "data": {
      "image/svg+xml": [
       "<?xml version=\"1.0\" encoding=\"UTF-8\" standalone=\"no\"?><svg xmlns=\"http://www.w3.org/2000/svg\" xmlns:xlink=\"http://www.w3.org/1999/xlink\" contentScriptType=\"application/ecmascript\" contentStyleType=\"text/css\" height=\"123px\" preserveAspectRatio=\"none\" style=\"width:728px;height:123px;\" version=\"1.1\" viewBox=\"0 0 728 123\" width=\"728px\" zoomAndPan=\"magnify\"><defs/><g><!--MD5=[fbc87193dbaf4d95561dea2c320d4a47]\n",
       "cluster E1--><a href=\"psysml:9c548ee6-d869-4820-b951-32f5a4e72165\" target=\"_top\" title=\"psysml:9c548ee6-d869-4820-b951-32f5a4e72165\" xlink:actuate=\"onRequest\" xlink:href=\"psysml:9c548ee6-d869-4820-b951-32f5a4e72165\" xlink:show=\"new\" xlink:title=\"psysml:9c548ee6-d869-4820-b951-32f5a4e72165\" xlink:type=\"simple\"><polygon fill=\"#FFFFFF\" points=\"16,6,98,6,105,28.2969,706,28.2969,706,111,16,111,16,6\" style=\"stroke: #000000; stroke-width: 1.5;\"/><line style=\"stroke: #000000; stroke-width: 1.5;\" x1=\"16\" x2=\"105\" y1=\"28.2969\" y2=\"28.2969\"/><text fill=\"#000000\" font-family=\"sans-serif\" font-size=\"14\" font-weight=\"bold\" lengthAdjust=\"spacingAndGlyphs\" textLength=\"76\" x=\"20\" y=\"20.9951\">StateTest</text></a><!--MD5=[b4997ac47864f28c2f74865a473b2911]\n",
       "class E2--><a href=\"psysml:7a2ca9b4-3a97-4e8a-92f8-a9f50dc832cb\" target=\"_top\" title=\"psysml:7a2ca9b4-3a97-4e8a-92f8-a9f50dc832cb\" xlink:actuate=\"onRequest\" xlink:href=\"psysml:7a2ca9b4-3a97-4e8a-92f8-a9f50dc832cb\" xlink:show=\"new\" xlink:title=\"psysml:7a2ca9b4-3a97-4e8a-92f8-a9f50dc832cb\" xlink:type=\"simple\"><rect fill=\"#FFFFFF\" height=\"53.9375\" id=\"E2\" style=\"stroke: #383838; stroke-width: 1.5;\" width=\"143\" x=\"546.5\" y=\"41\"/><text fill=\"#000000\" font-family=\"sans-serif\" font-size=\"12\" font-style=\"italic\" lengthAdjust=\"spacingAndGlyphs\" textLength=\"141\" x=\"547.5\" y=\"57.1387\">«(T,blue)attribute def»</text><text fill=\"#000000\" font-family=\"sans-serif\" font-size=\"12\" lengthAdjust=\"spacingAndGlyphs\" textLength=\"19\" x=\"608.5\" y=\"71.1074\">Sig</text><line style=\"stroke: #383838; stroke-width: 1.5;\" x1=\"547.5\" x2=\"688.5\" y1=\"78.9375\" y2=\"78.9375\"/><line style=\"stroke: #383838; stroke-width: 1.5;\" x1=\"547.5\" x2=\"688.5\" y1=\"86.9375\" y2=\"86.9375\"/></a><!--MD5=[09b614a08d8cba4a07c9adeb5e0fee81]\n",
       "class E3--><a href=\"psysml:30361623-caf7-482c-9813-174242dd8f3c\" target=\"_top\" title=\"psysml:30361623-caf7-482c-9813-174242dd8f3c\" xlink:actuate=\"onRequest\" xlink:href=\"psysml:30361623-caf7-482c-9813-174242dd8f3c\" xlink:show=\"new\" xlink:title=\"psysml:30361623-caf7-482c-9813-174242dd8f3c\" xlink:type=\"simple\"><rect fill=\"#FFFFFF\" height=\"53.9375\" id=\"E3\" style=\"stroke: #383838; stroke-width: 1.5;\" width=\"143\" x=\"368.5\" y=\"41\"/><text fill=\"#000000\" font-family=\"sans-serif\" font-size=\"12\" font-style=\"italic\" lengthAdjust=\"spacingAndGlyphs\" textLength=\"141\" x=\"369.5\" y=\"57.1387\">«(T,blue)attribute def»</text><text fill=\"#000000\" font-family=\"sans-serif\" font-size=\"12\" lengthAdjust=\"spacingAndGlyphs\" textLength=\"22\" x=\"429\" y=\"71.1074\">Exit</text><line style=\"stroke: #383838; stroke-width: 1.5;\" x1=\"369.5\" x2=\"510.5\" y1=\"78.9375\" y2=\"78.9375\"/><line style=\"stroke: #383838; stroke-width: 1.5;\" x1=\"369.5\" x2=\"510.5\" y1=\"86.9375\" y2=\"86.9375\"/></a><!--MD5=[60a26617385b1d2d0262a64233df1f8d]\n",
       "class E6--><a href=\"psysml:409d967c-2b55-4985-b068-ed253d96c58c\" target=\"_top\" title=\"psysml:409d967c-2b55-4985-b068-ed253d96c58c\" xlink:actuate=\"onRequest\" xlink:href=\"psysml:409d967c-2b55-4985-b068-ed253d96c58c\" xlink:show=\"new\" xlink:title=\"psysml:409d967c-2b55-4985-b068-ed253d96c58c\" xlink:type=\"simple\"><rect fill=\"#FFFFFF\" height=\"53.9375\" id=\"E6\" style=\"stroke: #383838; stroke-width: 1.5;\" width=\"121\" x=\"212.5\" y=\"41\"/><text fill=\"#000000\" font-family=\"sans-serif\" font-size=\"12\" font-style=\"italic\" lengthAdjust=\"spacingAndGlyphs\" textLength=\"119\" x=\"213.5\" y=\"57.1387\">«(T,blue)state def»</text><text fill=\"#000000\" font-family=\"sans-serif\" font-size=\"12\" lengthAdjust=\"spacingAndGlyphs\" textLength=\"8\" x=\"269\" y=\"71.1074\">S</text><line style=\"stroke: #383838; stroke-width: 1.5;\" x1=\"213.5\" x2=\"332.5\" y1=\"78.9375\" y2=\"78.9375\"/><line style=\"stroke: #383838; stroke-width: 1.5;\" x1=\"213.5\" x2=\"332.5\" y1=\"86.9375\" y2=\"86.9375\"/></a><g id=\"E1.E4\"><a href=\"psysml:86d86843-d597-4d6e-917a-885d695bc43d\" target=\"_top\" title=\"psysml:86d86843-d597-4d6e-917a-885d695bc43d\" xlink:actuate=\"onRequest\" xlink:href=\"psysml:86d86843-d597-4d6e-917a-885d695bc43d\" xlink:show=\"new\" xlink:title=\"psysml:86d86843-d597-4d6e-917a-885d695bc43d\" xlink:type=\"simple\"><rect fill=\"#FFFFFF\" height=\"40\" id=\"E4\" rx=\"10\" ry=\"10\" style=\"stroke: #383838; stroke-width: 1.5;\" width=\"50\" x=\"127\" y=\"48\"/><rect fill=\"#F8F8F8\" height=\"23.9688\" rx=\"10\" ry=\"10\" style=\"stroke: #F8F8F8; stroke-width: 1.5;\" width=\"50\" x=\"127\" y=\"48\"/><rect fill=\"#F8F8F8\" height=\"10\" style=\"stroke: #F8F8F8; stroke-width: 1.5;\" width=\"50\" x=\"127\" y=\"61.9688\"/><rect fill=\"none\" height=\"40\" id=\"E4\" rx=\"10\" ry=\"10\" style=\"stroke: #383838; stroke-width: 1.5;\" width=\"50\" x=\"127\" y=\"48\"/><text fill=\"#000000\" font-family=\"sans-serif\" font-size=\"12\" lengthAdjust=\"spacingAndGlyphs\" textLength=\"8\" x=\"148\" y=\"64.1387\">p</text></a></g><g id=\"E1.E5\"><a href=\"psysml:6cb3785d-90e3-4021-b607-f0ab9874924c\" target=\"_top\" title=\"psysml:6cb3785d-90e3-4021-b607-f0ab9874924c\" xlink:actuate=\"onRequest\" xlink:href=\"psysml:6cb3785d-90e3-4021-b607-f0ab9874924c\" xlink:show=\"new\" xlink:title=\"psysml:6cb3785d-90e3-4021-b607-f0ab9874924c\" xlink:type=\"simple\"><rect fill=\"#FFFFFF\" height=\"42.9375\" id=\"E5\" rx=\"10\" ry=\"10\" style=\"stroke: #383838; stroke-width: 1.5;\" width=\"60\" x=\"32\" y=\"46.5\"/><rect fill=\"#F8F8F8\" height=\"37.9375\" rx=\"10\" ry=\"10\" style=\"stroke: #F8F8F8; stroke-width: 1.5;\" width=\"60\" x=\"32\" y=\"46.5\"/><rect fill=\"#F8F8F8\" height=\"10\" style=\"stroke: #F8F8F8; stroke-width: 1.5;\" width=\"60\" x=\"32\" y=\"74.4375\"/><rect fill=\"none\" height=\"42.9375\" id=\"E5\" rx=\"10\" ry=\"10\" style=\"stroke: #383838; stroke-width: 1.5;\" width=\"60\" x=\"32\" y=\"46.5\"/><text fill=\"#000000\" font-family=\"sans-serif\" font-size=\"12\" font-style=\"italic\" lengthAdjust=\"spacingAndGlyphs\" textLength=\"53\" x=\"35.5\" y=\"62.6387\">«action»</text><text fill=\"#000000\" font-family=\"sans-serif\" font-size=\"12\" lengthAdjust=\"spacingAndGlyphs\" textLength=\"20\" x=\"52\" y=\"76.6074\">act</text></a></g><!--MD5=[7e0d9e33e2c72d31c9105d5e7a433fde]\n",
       "@startuml\r\n",
       "skinparam ranksep 8\r\n",
       "skinparam rectangle {\r\n",
       " backgroundColor<<block>> LightGreen\r\n",
       "}\r\n",
       "skinparam monochrome true\r\n",
       "skinparam classbackgroundcolor white\r\n",
       "skinparam shadowing false\r\n",
       "skinparam wrapWidth 300\r\n",
       "hide circle\r\n",
       "\r\n",
       "package \"StateTest\" as E1  [[psysml:9c548ee6-d869-4820-b951-32f5a4e72165 ]]  {\r\n",
       "def \"Sig\" as E2  <<(T,blue)attribute def>> [[psysml:7a2ca9b4-3a97-4e8a-92f8-a9f50dc832cb ]] \r\n",
       "def \"Exit\" as E3  <<(T,blue)attribute def>> [[psysml:30361623-caf7-482c-9813-174242dd8f3c ]] \r\n",
       "rec usage \"p\" as E4  [[psysml:86d86843-d597-4d6e-917a-885d695bc43d ]] {\r\n",
       "}\r\n",
       "rec usage \"act\" as E5  <<(T,blue)action>> [[psysml:6cb3785d-90e3-4021-b607-f0ab9874924c ]] {\r\n",
       "}\r\n",
       "def \"S\" as E6  <<(T,blue)state def>> [[psysml:409d967c-2b55-4985-b068-ed253d96c58c ]] \r\n",
       "}\r\n",
       "@enduml\r\n",
       "\n",
       "PlantUML version 1.2020.13(Sat Jun 13 12:26:38 UTC 2020)\n",
       "(EPL source distribution)\n",
       "Java Runtime: OpenJDK Runtime Environment\n",
       "JVM: OpenJDK 64-Bit Server VM\n",
       "Default Encoding: UTF-8\n",
       "Language: en\n",
       "Country: null\n",
       "--></g></svg>"
      ]
     },
     "execution_count": 40,
     "metadata": {},
     "output_type": "execute_result"
    }
   ],
   "source": [
    "%viz --style=\"DEFAULT\" --view=\"Interconnection\" \"StateTest\""
   ]
  },
  {
   "cell_type": "code",
   "execution_count": 41,
   "id": "forty-naples",
   "metadata": {
    "execution": {
     "iopub.execute_input": "2021-03-26T09:13:55.401914Z",
     "iopub.status.busy": "2021-03-26T09:13:55.401198Z",
     "iopub.status.idle": "2021-03-26T09:13:55.419667Z",
     "shell.execute_reply": "2021-03-26T09:13:55.418373Z"
    }
   },
   "outputs": [
    {
     "data": {
      "image/svg+xml": [
       "<?xml version=\"1.0\" encoding=\"UTF-8\" standalone=\"no\"?><svg xmlns=\"http://www.w3.org/2000/svg\" xmlns:xlink=\"http://www.w3.org/1999/xlink\" contentScriptType=\"application/ecmascript\" contentStyleType=\"text/css\" height=\"579px\" preserveAspectRatio=\"none\" style=\"width:794px;height:579px;background:#000000;\" version=\"1.1\" viewBox=\"0 0 794 579\" width=\"794px\" zoomAndPan=\"magnify\"><defs/><g><rect fill=\"#1E1025\" height=\"1\" style=\"stroke: #1E1025; stroke-width: 1.0;\" width=\"1\" x=\"0\" y=\"0\"/><rect fill=\"#FFFFFF\" height=\"53\" style=\"stroke: #FFFFFF; stroke-width: 1.0;\" width=\"793\" x=\"0\" y=\"0\"/><image height=\"53\" width=\"450\" x=\"1\" xlink:href=\"data:image/png;base64,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\" y=\"1\"/><rect fill=\"#000000\" height=\"471.3125\" style=\"stroke: #000000; stroke-width: 1.0;\" width=\"793\" x=\"0\" y=\"53\"/><rect fill=\"#33FF02\" height=\"21.2969\" style=\"stroke: #33FF02; stroke-width: 1.0;\" width=\"783\" x=\"5\" y=\"58\"/><text fill=\"#000000\" font-family=\"sans-serif\" font-size=\"14\" font-weight=\"bold\" lengthAdjust=\"spacingAndGlyphs\" textLength=\"178\" x=\"6\" y=\"73\">[From string (line 25) ]</text><text fill=\"#33FF02\" font-family=\"sans-serif\" font-size=\"14\" font-weight=\"bold\" lengthAdjust=\"spacingAndGlyphs\" textLength=\"0\" x=\"10\" y=\"93.2969\"/><text fill=\"#33FF02\" font-family=\"sans-serif\" font-size=\"14\" font-weight=\"bold\" lengthAdjust=\"spacingAndGlyphs\" textLength=\"79\" x=\"5\" y=\"109.5938\">@startuml</text><text fill=\"#33FF02\" font-family=\"sans-serif\" font-size=\"14\" font-weight=\"bold\" lengthAdjust=\"spacingAndGlyphs\" textLength=\"165\" x=\"5\" y=\"125.8906\">skinparam ranksep 8</text><text fill=\"#33FF02\" font-family=\"sans-serif\" font-size=\"14\" font-weight=\"bold\" lengthAdjust=\"spacingAndGlyphs\" textLength=\"228\" x=\"5\" y=\"142.1875\">skinparam monochrome true</text><text fill=\"#33FF02\" font-family=\"sans-serif\" font-size=\"14\" font-weight=\"bold\" lengthAdjust=\"spacingAndGlyphs\" textLength=\"309\" x=\"5\" y=\"158.4844\">skinparam classbackgroundcolor white</text><text fill=\"#33FF02\" font-family=\"sans-serif\" font-size=\"14\" font-weight=\"bold\" lengthAdjust=\"spacingAndGlyphs\" textLength=\"215\" x=\"5\" y=\"174.7813\">skinparam shadowing false</text><text fill=\"#33FF02\" font-family=\"sans-serif\" font-size=\"14\" font-weight=\"bold\" lengthAdjust=\"spacingAndGlyphs\" textLength=\"206\" x=\"5\" y=\"191.0781\">skinparam wrapWidth 300</text><text fill=\"#33FF02\" font-family=\"sans-serif\" font-size=\"14\" font-weight=\"bold\" lengthAdjust=\"spacingAndGlyphs\" textLength=\"82\" x=\"5\" y=\"207.375\">hide circle</text><text fill=\"#33FF02\" font-family=\"sans-serif\" font-size=\"14\" font-weight=\"bold\" lengthAdjust=\"spacingAndGlyphs\" textLength=\"0\" x=\"10\" y=\"223.6719\"/><text fill=\"#33FF02\" font-family=\"sans-serif\" font-size=\"14\" font-weight=\"bold\" lengthAdjust=\"spacingAndGlyphs\" textLength=\"783\" x=\"5\" y=\"239.9688\">rec usage \"act\" as E1  &lt;&lt;(T,blue)action&gt;&gt; [[psysml:6cb3785d-90e3-4021-b607-f0ab9874924c ]] {</text><text fill=\"#33FF02\" font-family=\"sans-serif\" font-size=\"14\" font-weight=\"bold\" lengthAdjust=\"spacingAndGlyphs\" textLength=\"10\" x=\"5\" y=\"256.2656\">}</text><text fill=\"#33FF02\" font-family=\"sans-serif\" font-size=\"14\" font-weight=\"bold\" lengthAdjust=\"spacingAndGlyphs\" textLength=\"0\" x=\"10\" y=\"272.5625\"/><text fill=\"#33FF02\" font-family=\"sans-serif\" font-size=\"14\" font-weight=\"bold\" lengthAdjust=\"spacingAndGlyphs\" textLength=\"774\" x=\"5\" y=\"288.8594\">rec def \"S\" as E2  &lt;&lt;(T,blue)state def&gt;&gt; [[psysml:409d967c-2b55-4985-b068-ed253d96c58c ]] {</text><text fill=\"#33FF02\" font-family=\"sans-serif\" font-size=\"14\" font-weight=\"bold\" lengthAdjust=\"spacingAndGlyphs\" textLength=\"779\" x=\"5\" y=\"305.1563\">rec usage \"A\" as E3 &lt;&lt;perform action&gt;&gt; [[psysml:07283d54-b2b4-4955-9e37-5e3a59051776 ]] {</text><text fill=\"#33FF02\" font-family=\"sans-serif\" font-size=\"14\" font-weight=\"bold\" lengthAdjust=\"spacingAndGlyphs\" textLength=\"10\" x=\"5\" y=\"321.4531\">}</text><text fill=\"#33FF02\" font-family=\"sans-serif\" font-size=\"14\" font-weight=\"bold\" lengthAdjust=\"spacingAndGlyphs\" textLength=\"0\" x=\"10\" y=\"337.75\"/><text fill=\"#33FF02\" font-family=\"sans-serif\" font-size=\"14\" font-weight=\"bold\" lengthAdjust=\"spacingAndGlyphs\" textLength=\"769\" x=\"5\" y=\"354.0469\">rec usage \"B\" as E4 &lt;&lt;perform action&gt;&gt; [[psysml:2d4c422d-af2d-4b90-a848-9846cea61c20 ]] {</text><text fill=\"#33FF02\" font-family=\"sans-serif\" font-size=\"14\" font-weight=\"bold\" lengthAdjust=\"spacingAndGlyphs\" textLength=\"10\" x=\"5\" y=\"370.3438\">}</text><text fill=\"#33FF02\" font-family=\"sans-serif\" font-size=\"14\" font-weight=\"bold\" lengthAdjust=\"spacingAndGlyphs\" textLength=\"0\" x=\"10\" y=\"386.6406\"/><text fill=\"#33FF02\" font-family=\"sans-serif\" font-size=\"14\" font-weight=\"bold\" lengthAdjust=\"spacingAndGlyphs\" textLength=\"769\" x=\"5\" y=\"402.9375\">rec usage \"act\" as E5 &lt;&lt;perform action&gt;&gt; [[psysml:eca97873-f4f2-4a4b-84f1-fbd6bb9f01a4 ]] {</text><text fill=\"#33FF02\" font-family=\"sans-serif\" font-size=\"14\" font-weight=\"bold\" lengthAdjust=\"spacingAndGlyphs\" textLength=\"10\" x=\"5\" y=\"419.2344\">}</text><text fill=\"#33FF02\" font-family=\"sans-serif\" font-size=\"14\" font-weight=\"bold\" lengthAdjust=\"spacingAndGlyphs\" textLength=\"0\" x=\"10\" y=\"435.5313\"/><text fill=\"#33FF02\" font-family=\"sans-serif\" font-size=\"14\" font-weight=\"bold\" lengthAdjust=\"spacingAndGlyphs\" textLength=\"770\" x=\"5\" y=\"451.8281\">rec usage \"S1\" as E6  &lt;&lt;(T,blue)state&gt;&gt; [[psysml:5ea02985-bc8b-4cb1-bb08-c3caa7c881e0 ]] {</text><text fill=\"#33FF02\" font-family=\"sans-serif\" font-size=\"14\" font-weight=\"bold\" lengthAdjust=\"spacingAndGlyphs\" textLength=\"10\" x=\"5\" y=\"468.125\">}</text><text fill=\"#33FF02\" font-family=\"sans-serif\" font-size=\"14\" font-weight=\"bold\" lengthAdjust=\"spacingAndGlyphs\" textLength=\"0\" x=\"10\" y=\"484.4219\"/><text fill=\"#33FF02\" font-family=\"sans-serif\" font-size=\"14\" font-weight=\"bold\" lengthAdjust=\"spacingAndGlyphs\" textLength=\"10\" x=\"5\" y=\"500.7188\">{</text><text fill=\"#FF0000\" font-family=\"sans-serif\" font-size=\"14\" font-weight=\"bold\" lengthAdjust=\"spacingAndGlyphs\" textLength=\"106\" x=\"10\" y=\"517.0156\">Syntax Error?</text><rect fill=\"#FFFFFF\" height=\"53\" style=\"stroke: #FFFFFF; stroke-width: 1.0;\" width=\"793\" x=\"0\" y=\"524.3125\"/><image height=\"53\" width=\"450\" x=\"1\" xlink:href=\"data:image/png;base64,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\" y=\"525.3125\"/><!--MD5=[15cace3d88aa1e2bc789d0c2e5c1f406]\n",
       "@startuml\r\n",
       "skinparam ranksep 8\r\n",
       "skinparam monochrome true\r\n",
       "skinparam classbackgroundcolor white\r\n",
       "skinparam shadowing false\r\n",
       "skinparam wrapWidth 300\r\n",
       "hide circle\r\n",
       "\r\n",
       "rec usage \"act\" as E1  <<(T,blue)action>> [[psysml:6cb3785d-90e3-4021-b607-f0ab9874924c ]] {\r\n",
       "}\r\n",
       "\r\n",
       "rec def \"S\" as E2  <<(T,blue)state def>> [[psysml:409d967c-2b55-4985-b068-ed253d96c58c ]] {\r\n",
       "rec usage \"A\" as E3 <<perform action>> [[psysml:07283d54-b2b4-4955-9e37-5e3a59051776 ]] {\r\n",
       "}\r\n",
       "\r\n",
       "rec usage \"B\" as E4 <<perform action>> [[psysml:2d4c422d-af2d-4b90-a848-9846cea61c20 ]] {\r\n",
       "}\r\n",
       "\r\n",
       "rec usage \"act\" as E5 <<perform action>> [[psysml:eca97873-f4f2-4a4b-84f1-fbd6bb9f01a4 ]] {\r\n",
       "}\r\n",
       "\r\n",
       "rec usage \"S1\" as E6  <<(T,blue)state>> [[psysml:5ea02985-bc8b-4cb1-bb08-c3caa7c881e0 ]] {\r\n",
       "}\r\n",
       "\r\n",
       "{\r\n",
       "{\r\n",
       "}\r\n",
       "\r\n",
       "rec usage \"D\" as E7 <<perform action>> [[psysml:eaf0a112-33b0-4093-95e1-7dab572fe2f4 ]] {\r\n",
       "}\r\n",
       "\r\n",
       "}\r\n",
       "\r\n",
       "rec usage \"S2\" as E8  <<(T,blue)state>> [[psysml:15193c6f-79c7-4ee2-a2ac-bfb559b7d876 ]] {\r\n",
       "rec usage \"doAction\" as E9 <<send action>> [[psysml:02a264b3-17c4-490c-b5b1-f49bb5aa02c2 ]] {\r\n",
       "portin \"$x\" as E10  [[psysml:96622066-d3a2-4541-bee3-ae5bc19ea7c3 ]] \r\n",
       "portout \"$result\" as E11  [[psysml:b808addd-9ba8-4500-978c-50cd1b025f8a ]] \r\n",
       "}\r\n",
       "\r\n",
       "}\r\n",
       "\r\n",
       "{\r\n",
       "{\r\n",
       "}\r\n",
       "\r\n",
       "}\r\n",
       "\r\n",
       "rec usage \"T\" as E12  <<(T,blue)transition>> [[psysml:0976314e-a9f7-4444-bafa-f8883db64fa0 ]] {\r\n",
       "rec usage \"S2\" as E13  <<(T,blue)state>> [[psysml:15193c6f-79c7-4ee2-a2ac-bfb559b7d876 ]] {\r\n",
       "rec usage \"doAction\" as E14 <<send action>> [[psysml:02a264b3-17c4-490c-b5b1-f49bb5aa02c2 ]] {\r\n",
       "portin \"$x\" as E15  [[psysml:96622066-d3a2-4541-bee3-ae5bc19ea7c3 ]] \r\n",
       "portout \"$result\" as E16  [[psysml:b808addd-9ba8-4500-978c-50cd1b025f8a ]] \r\n",
       "}\r\n",
       "\r\n",
       "}\r\n",
       "\r\n",
       "{\r\n",
       "}\r\n",
       "\r\n",
       "portout \"$result\" as E17  [[psysml:8f7ffd4e-8810-46d2-96d4-50dc0ef167c4 ]] \r\n",
       "{\r\n",
       "}\r\n",
       "\r\n",
       "}\r\n",
       "\r\n",
       "}\r\n",
       "\r\n",
       "@enduml\r\n",
       "\n",
       "PlantUML version 1.2020.13(Sat Jun 13 12:26:38 UTC 2020)\n",
       "(EPL source distribution)\n",
       "Java Runtime: OpenJDK Runtime Environment\n",
       "JVM: OpenJDK 64-Bit Server VM\n",
       "Default Encoding: UTF-8\n",
       "Language: en\n",
       "Country: null\n",
       "--></g></svg>"
      ]
     },
     "execution_count": 41,
     "metadata": {},
     "output_type": "execute_result"
    }
   ],
   "source": [
    "%viz --style=\"DEFAULT\" --view=\"Action\" \"StateTest\""
   ]
  },
  {
   "cell_type": "code",
   "execution_count": 42,
   "id": "relevant-criminal",
   "metadata": {
    "execution": {
     "iopub.execute_input": "2021-03-26T09:13:55.472210Z",
     "iopub.status.busy": "2021-03-26T09:13:55.471666Z",
     "iopub.status.idle": "2021-03-26T09:13:55.568104Z",
     "shell.execute_reply": "2021-03-26T09:13:55.566636Z"
    }
   },
   "outputs": [
    {
     "data": {
      "image/svg+xml": [
       "<?xml version=\"1.0\" encoding=\"UTF-8\" standalone=\"no\"?><svg xmlns=\"http://www.w3.org/2000/svg\" xmlns:xlink=\"http://www.w3.org/1999/xlink\" contentScriptType=\"application/ecmascript\" contentStyleType=\"text/css\" height=\"471px\" preserveAspectRatio=\"none\" style=\"width:594px;height:471px;\" version=\"1.1\" viewBox=\"0 0 594 471\" width=\"594px\" zoomAndPan=\"magnify\"><defs/><g><!--MD5=[fbc87193dbaf4d95561dea2c320d4a47]\n",
       "cluster E1--><a href=\"psysml:9c548ee6-d869-4820-b951-32f5a4e72165\" target=\"_top\" title=\"psysml:9c548ee6-d869-4820-b951-32f5a4e72165\" xlink:actuate=\"onRequest\" xlink:href=\"psysml:9c548ee6-d869-4820-b951-32f5a4e72165\" xlink:show=\"new\" xlink:title=\"psysml:9c548ee6-d869-4820-b951-32f5a4e72165\" xlink:type=\"simple\"><polygon fill=\"#FFFFFF\" points=\"16,6,98,6,105,28.2969,572,28.2969,572,459,16,459,16,6\" style=\"stroke: #000000; stroke-width: 1.5;\"/><line style=\"stroke: #000000; stroke-width: 1.5;\" x1=\"16\" x2=\"105\" y1=\"28.2969\" y2=\"28.2969\"/><text fill=\"#000000\" font-family=\"sans-serif\" font-size=\"14\" font-weight=\"bold\" lengthAdjust=\"spacingAndGlyphs\" textLength=\"76\" x=\"20\" y=\"20.9951\">StateTest</text></a><!--MD5=[b4997ac47864f28c2f74865a473b2911]\n",
       "class E2--><a href=\"psysml:7a2ca9b4-3a97-4e8a-92f8-a9f50dc832cb\" target=\"_top\" title=\"psysml:7a2ca9b4-3a97-4e8a-92f8-a9f50dc832cb\" xlink:actuate=\"onRequest\" xlink:href=\"psysml:7a2ca9b4-3a97-4e8a-92f8-a9f50dc832cb\" xlink:show=\"new\" xlink:title=\"psysml:7a2ca9b4-3a97-4e8a-92f8-a9f50dc832cb\" xlink:type=\"simple\"><rect fill=\"#FFFFFF\" height=\"75.5469\" id=\"E2\" style=\"stroke: #383838; stroke-width: 1.5;\" width=\"95\" x=\"460.5\" y=\"83\"/><text fill=\"#000000\" font-family=\"sans-serif\" font-size=\"12\" font-style=\"italic\" lengthAdjust=\"spacingAndGlyphs\" textLength=\"93\" x=\"461.5\" y=\"99.1387\">«attribute def»</text><text fill=\"#000000\" font-family=\"sans-serif\" font-size=\"12\" lengthAdjust=\"spacingAndGlyphs\" textLength=\"19\" x=\"498.5\" y=\"113.1074\">Sig</text><line style=\"stroke: #383838; stroke-width: 1.5;\" x1=\"461.5\" x2=\"554.5\" y1=\"120.9375\" y2=\"120.9375\"/><text fill=\"#000000\" font-family=\"sans-serif\" font-size=\"11\" lengthAdjust=\"spacingAndGlyphs\" textLength=\"6\" x=\"466.5\" y=\"151.9526\">x</text><line style=\"stroke: #383838; stroke-width: 1.0;\" x1=\"461.5\" x2=\"480.5\" y1=\"135.3398\" y2=\"135.3398\"/><text fill=\"#000000\" font-family=\"sans-serif\" font-size=\"11\" lengthAdjust=\"spacingAndGlyphs\" textLength=\"55\" x=\"480.5\" y=\"138.6479\">attributes</text><line style=\"stroke: #383838; stroke-width: 1.0;\" x1=\"535.5\" x2=\"554.5\" y1=\"135.3398\" y2=\"135.3398\"/></a><!--MD5=[09b614a08d8cba4a07c9adeb5e0fee81]\n",
       "class E3--><a href=\"psysml:30361623-caf7-482c-9813-174242dd8f3c\" target=\"_top\" title=\"psysml:30361623-caf7-482c-9813-174242dd8f3c\" xlink:actuate=\"onRequest\" xlink:href=\"psysml:30361623-caf7-482c-9813-174242dd8f3c\" xlink:show=\"new\" xlink:title=\"psysml:30361623-caf7-482c-9813-174242dd8f3c\" xlink:type=\"simple\"><rect fill=\"#FFFFFF\" height=\"45.9375\" id=\"E3\" style=\"stroke: #383838; stroke-width: 1.5;\" width=\"95\" x=\"330.5\" y=\"98\"/><text fill=\"#000000\" font-family=\"sans-serif\" font-size=\"12\" font-style=\"italic\" lengthAdjust=\"spacingAndGlyphs\" textLength=\"93\" x=\"331.5\" y=\"114.1387\">«attribute def»</text><text fill=\"#000000\" font-family=\"sans-serif\" font-size=\"12\" lengthAdjust=\"spacingAndGlyphs\" textLength=\"22\" x=\"367\" y=\"128.1074\">Exit</text><line style=\"stroke: #383838; stroke-width: 1.5;\" x1=\"331.5\" x2=\"424.5\" y1=\"135.9375\" y2=\"135.9375\"/></a><!--MD5=[ebbe1d658d1005bcc118a6aa81145e00]\n",
       "class E4--><a href=\"psysml:86d86843-d597-4d6e-917a-885d695bc43d\" target=\"_top\" title=\"psysml:86d86843-d597-4d6e-917a-885d695bc43d\" xlink:actuate=\"onRequest\" xlink:href=\"psysml:86d86843-d597-4d6e-917a-885d695bc43d\" xlink:show=\"new\" xlink:title=\"psysml:86d86843-d597-4d6e-917a-885d695bc43d\" xlink:type=\"simple\"><rect fill=\"#FFFFFF\" height=\"45.9375\" id=\"E4\" rx=\"10\" ry=\"10\" style=\"stroke: #383838; stroke-width: 1.5;\" width=\"42\" x=\"253\" y=\"98\"/><text fill=\"#000000\" font-family=\"sans-serif\" font-size=\"12\" font-style=\"italic\" lengthAdjust=\"spacingAndGlyphs\" textLength=\"40\" x=\"254\" y=\"114.1387\">«part»</text><text fill=\"#000000\" font-family=\"sans-serif\" font-size=\"12\" lengthAdjust=\"spacingAndGlyphs\" textLength=\"8\" x=\"270\" y=\"128.1074\">p</text><line style=\"stroke: #383838; stroke-width: 1.5;\" x1=\"254\" x2=\"294\" y1=\"135.9375\" y2=\"135.9375\"/></a><!--MD5=[270fce915f116d4de14055a7c1d9a0f3]\n",
       "class E5--><a href=\"psysml:6cb3785d-90e3-4021-b607-f0ab9874924c\" target=\"_top\" title=\"psysml:6cb3785d-90e3-4021-b607-f0ab9874924c\" xlink:actuate=\"onRequest\" xlink:href=\"psysml:6cb3785d-90e3-4021-b607-f0ab9874924c\" xlink:show=\"new\" xlink:title=\"psysml:6cb3785d-90e3-4021-b607-f0ab9874924c\" xlink:type=\"simple\"><rect fill=\"#FFFFFF\" height=\"45.9375\" id=\"E5\" rx=\"10\" ry=\"10\" style=\"stroke: #383838; stroke-width: 1.5;\" width=\"55\" x=\"162.5\" y=\"98\"/><text fill=\"#000000\" font-family=\"sans-serif\" font-size=\"12\" font-style=\"italic\" lengthAdjust=\"spacingAndGlyphs\" textLength=\"53\" x=\"163.5\" y=\"114.1387\">«action»</text><text fill=\"#000000\" font-family=\"sans-serif\" font-size=\"12\" lengthAdjust=\"spacingAndGlyphs\" textLength=\"20\" x=\"180\" y=\"128.1074\">act</text><line style=\"stroke: #383838; stroke-width: 1.5;\" x1=\"163.5\" x2=\"216.5\" y1=\"135.9375\" y2=\"135.9375\"/></a><!--MD5=[60a26617385b1d2d0262a64233df1f8d]\n",
       "class E6--><a href=\"psysml:409d967c-2b55-4985-b068-ed253d96c58c\" target=\"_top\" title=\"psysml:409d967c-2b55-4985-b068-ed253d96c58c\" xlink:actuate=\"onRequest\" xlink:href=\"psysml:409d967c-2b55-4985-b068-ed253d96c58c\" xlink:show=\"new\" xlink:title=\"psysml:409d967c-2b55-4985-b068-ed253d96c58c\" xlink:type=\"simple\"><rect fill=\"#FFFFFF\" height=\"160.375\" id=\"E6\" style=\"stroke: #383838; stroke-width: 1.5;\" width=\"95\" x=\"32.5\" y=\"41\"/><text fill=\"#000000\" font-family=\"sans-serif\" font-size=\"12\" font-style=\"italic\" lengthAdjust=\"spacingAndGlyphs\" textLength=\"71\" x=\"44.5\" y=\"57.1387\">«state def»</text><text fill=\"#000000\" font-family=\"sans-serif\" font-size=\"12\" lengthAdjust=\"spacingAndGlyphs\" textLength=\"8\" x=\"76\" y=\"71.1074\">S</text><line style=\"stroke: #383838; stroke-width: 1.5;\" x1=\"33.5\" x2=\"126.5\" y1=\"78.9375\" y2=\"78.9375\"/><text fill=\"#000000\" font-family=\"sans-serif\" font-size=\"11\" lengthAdjust=\"spacingAndGlyphs\" textLength=\"17\" x=\"38.5\" y=\"109.9526\">act</text><text fill=\"#000000\" font-family=\"sans-serif\" font-size=\"11\" lengthAdjust=\"spacingAndGlyphs\" textLength=\"7\" x=\"38.5\" y=\"122.7573\">A</text><text fill=\"#000000\" font-family=\"sans-serif\" font-size=\"11\" lengthAdjust=\"spacingAndGlyphs\" textLength=\"8\" x=\"38.5\" y=\"135.562\">B</text><line style=\"stroke: #383838; stroke-width: 1.0;\" x1=\"33.5\" x2=\"36.5\" y1=\"93.3398\" y2=\"93.3398\"/><text fill=\"#000000\" font-family=\"sans-serif\" font-size=\"11\" lengthAdjust=\"spacingAndGlyphs\" textLength=\"87\" x=\"36.5\" y=\"96.6479\">performActions</text><line style=\"stroke: #383838; stroke-width: 1.0;\" x1=\"123.5\" x2=\"126.5\" y1=\"93.3398\" y2=\"93.3398\"/><text fill=\"#000000\" font-family=\"sans-serif\" font-size=\"11\" lengthAdjust=\"spacingAndGlyphs\" textLength=\"15\" x=\"38.5\" y=\"165.1714\">S1</text><line style=\"stroke: #383838; stroke-width: 1.0;\" x1=\"33.5\" x2=\"62\" y1=\"148.5586\" y2=\"148.5586\"/><text fill=\"#000000\" font-family=\"sans-serif\" font-size=\"11\" lengthAdjust=\"spacingAndGlyphs\" textLength=\"36\" x=\"62\" y=\"151.8667\">states</text><line style=\"stroke: #383838; stroke-width: 1.0;\" x1=\"98\" x2=\"126.5\" y1=\"148.5586\" y2=\"148.5586\"/><text fill=\"#000000\" font-family=\"sans-serif\" font-size=\"11\" lengthAdjust=\"spacingAndGlyphs\" textLength=\"7\" x=\"38.5\" y=\"194.7808\">T</text><line style=\"stroke: #383838; stroke-width: 1.0;\" x1=\"33.5\" x2=\"49.5\" y1=\"178.168\" y2=\"178.168\"/><text fill=\"#000000\" font-family=\"sans-serif\" font-size=\"11\" lengthAdjust=\"spacingAndGlyphs\" textLength=\"61\" x=\"49.5\" y=\"181.4761\">transitions</text><line style=\"stroke: #383838; stroke-width: 1.0;\" x1=\"110.5\" x2=\"126.5\" y1=\"178.168\" y2=\"178.168\"/></a><!--MD5=[1dd1bfd58a279cf63c5f349dbc8fc6a1]\n",
       "class E11--><a href=\"psysml:15193c6f-79c7-4ee2-a2ac-bfb559b7d876\" target=\"_top\" title=\"psysml:15193c6f-79c7-4ee2-a2ac-bfb559b7d876\" xlink:actuate=\"onRequest\" xlink:href=\"psysml:15193c6f-79c7-4ee2-a2ac-bfb559b7d876\" xlink:show=\"new\" xlink:title=\"psysml:15193c6f-79c7-4ee2-a2ac-bfb559b7d876\" xlink:type=\"simple\"><rect fill=\"#FFFFFF\" height=\"45.9375\" id=\"E11\" rx=\"10\" ry=\"10\" style=\"stroke: #383838; stroke-width: 1.5;\" width=\"49\" x=\"55.5\" y=\"261\"/><text fill=\"#000000\" font-family=\"sans-serif\" font-size=\"12\" font-style=\"italic\" lengthAdjust=\"spacingAndGlyphs\" textLength=\"47\" x=\"56.5\" y=\"277.1387\">«state»</text><text fill=\"#000000\" font-family=\"sans-serif\" font-size=\"12\" lengthAdjust=\"spacingAndGlyphs\" textLength=\"16\" x=\"72\" y=\"291.1074\">S2</text><line style=\"stroke: #383838; stroke-width: 1.5;\" x1=\"56.5\" x2=\"103.5\" y1=\"298.9375\" y2=\"298.9375\"/></a><!--MD5=[49a0ec8f00dab7302a31f22d0f0fe584]\n",
       "class E12--><a href=\"psysml:02a264b3-17c4-490c-b5b1-f49bb5aa02c2\" target=\"_top\" title=\"psysml:02a264b3-17c4-490c-b5b1-f49bb5aa02c2\" xlink:actuate=\"onRequest\" xlink:href=\"psysml:02a264b3-17c4-490c-b5b1-f49bb5aa02c2\" xlink:show=\"new\" xlink:title=\"psysml:02a264b3-17c4-490c-b5b1-f49bb5aa02c2\" xlink:type=\"simple\"><rect fill=\"#FFFFFF\" height=\"75.5469\" id=\"E12\" rx=\"10\" ry=\"10\" style=\"stroke: #383838; stroke-width: 1.5;\" width=\"90\" x=\"35\" y=\"367\"/><text fill=\"#000000\" font-family=\"sans-serif\" font-size=\"12\" font-style=\"italic\" lengthAdjust=\"spacingAndGlyphs\" textLength=\"88\" x=\"36\" y=\"383.1387\">«send action»</text><text fill=\"#000000\" font-family=\"sans-serif\" font-size=\"12\" lengthAdjust=\"spacingAndGlyphs\" textLength=\"55\" x=\"52.5\" y=\"397.1074\">doAction</text><line style=\"stroke: #383838; stroke-width: 1.5;\" x1=\"36\" x2=\"124\" y1=\"404.9375\" y2=\"404.9375\"/><text fill=\"#000000\" font-family=\"sans-serif\" font-size=\"11\" lengthAdjust=\"spacingAndGlyphs\" textLength=\"25\" x=\"41\" y=\"435.9526\">item</text><line style=\"stroke: #383838; stroke-width: 1.0;\" x1=\"36\" x2=\"42.5\" y1=\"419.3398\" y2=\"419.3398\"/><text fill=\"#000000\" font-family=\"sans-serif\" font-size=\"11\" lengthAdjust=\"spacingAndGlyphs\" textLength=\"75\" x=\"42.5\" y=\"422.6479\">itemFeatures</text><line style=\"stroke: #383838; stroke-width: 1.0;\" x1=\"117.5\" x2=\"124\" y1=\"419.3398\" y2=\"419.3398\"/></a><!--MD5=[1f5f03483f7de0d5b3680a7f6650997f]\n",
       "reverse link E6 to E11--><a href=\"psysml:15193c6f-79c7-4ee2-a2ac-bfb559b7d876\" target=\"_top\" title=\"psysml:15193c6f-79c7-4ee2-a2ac-bfb559b7d876\" xlink:actuate=\"onRequest\" xlink:href=\"psysml:15193c6f-79c7-4ee2-a2ac-bfb559b7d876\" xlink:show=\"new\" xlink:title=\"psysml:15193c6f-79c7-4ee2-a2ac-bfb559b7d876\" xlink:type=\"simple\"><path d=\"M80,214.17 C80,231.58 80,248.25 80,260.82 \" fill=\"none\" id=\"E6&lt;-E11\" style=\"stroke: #383838; stroke-width: 1.0;\"/><polygon fill=\"#383838\" points=\"80,201.09,76.0066,207.0944,80.0132,213.09,84.0066,207.0856,80,201.09\" style=\"stroke: #383838; stroke-width: 1.0;\"/></a><!--MD5=[94adabc162ce7e41b39f13be14fbaeb3]\n",
       "reverse link E11 to E12--><a href=\"psysml:02a264b3-17c4-490c-b5b1-f49bb5aa02c2\" target=\"_top\" title=\"psysml:02a264b3-17c4-490c-b5b1-f49bb5aa02c2\" xlink:actuate=\"onRequest\" xlink:href=\"psysml:02a264b3-17c4-490c-b5b1-f49bb5aa02c2\" xlink:show=\"new\" xlink:title=\"psysml:02a264b3-17c4-490c-b5b1-f49bb5aa02c2\" xlink:type=\"simple\"><path d=\"M80,320.23 C80,334.82 80,351.76 80,366.58 \" fill=\"none\" id=\"E11&lt;-E12\" style=\"stroke: #383838; stroke-width: 1.0;\"/><polygon fill=\"#FFFFFF\" points=\"80,307.1,76,313.1,80,319.1,84,313.1,80,307.1\" style=\"stroke: #383838; stroke-width: 1.0;\"/></a><!--MD5=[63f8d940321298318214d8cb771a0723]\n",
       "@startuml\r\n",
       "skinparam monochrome true\r\n",
       "skinparam classbackgroundcolor white\r\n",
       "skinparam shadowing false\r\n",
       "skinparam wrapWidth 300\r\n",
       "hide circle\r\n",
       "\r\n",
       "package \"StateTest\" as E1  [[psysml:9c548ee6-d869-4820-b951-32f5a4e72165 ]]  {\r\n",
       "comp def \"Sig\" as E2  <<(T,blue)attribute def>> [[psysml:7a2ca9b4-3a97-4e8a-92f8-a9f50dc832cb ]] {\r\n",
       "- - attributes - -\r\n",
       "x\r\n",
       "}\r\n",
       "comp def \"Exit\" as E3  <<(T,blue)attribute def>> [[psysml:30361623-caf7-482c-9813-174242dd8f3c ]] {\r\n",
       "}\r\n",
       "comp usage \"p\" as E4  <<(T,blue)part>> [[psysml:86d86843-d597-4d6e-917a-885d695bc43d ]] {\r\n",
       "}\r\n",
       "comp usage \"act\" as E5  <<(T,blue)action>> [[psysml:6cb3785d-90e3-4021-b607-f0ab9874924c ]] {\r\n",
       "}\r\n",
       "comp def \"S\" as E6  <<(T,blue)state def>> [[psysml:409d967c-2b55-4985-b068-ed253d96c58c ]] {\r\n",
       "- - performActions - -\r\n",
       "act\r\n",
       "A\r\n",
       "B\r\n",
       "- - states - -\r\n",
       "S1\r\n",
       "- - transitions - -\r\n",
       "T\r\n",
       "}\r\n",
       "comp usage \"S2\" as E11  <<(T,blue)state>> [[psysml:15193c6f-79c7-4ee2-a2ac-bfb559b7d876 ]] {\r\n",
       "}\r\n",
       "comp usage \"doAction\" as E12 <<send action>> [[psysml:02a264b3-17c4-490c-b5b1-f49bb5aa02c2 ]] {\r\n",
       "- - itemFeatures - -\r\n",
       "item\r\n",
       "}\r\n",
       "E6 *- - E11 [[psysml:15193c6f-79c7-4ee2-a2ac-bfb559b7d876 ]] \r\n",
       "E11 o- - E12 [[psysml:02a264b3-17c4-490c-b5b1-f49bb5aa02c2 ]] \r\n",
       "}\r\n",
       "@enduml\r\n",
       "\n",
       "PlantUML version 1.2020.13(Sat Jun 13 12:26:38 UTC 2020)\n",
       "(EPL source distribution)\n",
       "Java Runtime: OpenJDK Runtime Environment\n",
       "JVM: OpenJDK 64-Bit Server VM\n",
       "Default Encoding: UTF-8\n",
       "Language: en\n",
       "Country: null\n",
       "--></g></svg>"
      ]
     },
     "execution_count": 42,
     "metadata": {},
     "output_type": "execute_result"
    }
   ],
   "source": [
    "%viz --style=\"DEFAULT\" --view=\"Sequence\" \"StateTest\""
   ]
  },
  {
   "cell_type": "code",
   "execution_count": 43,
   "id": "finished-twist",
   "metadata": {
    "execution": {
     "iopub.execute_input": "2021-03-26T09:13:55.618345Z",
     "iopub.status.busy": "2021-03-26T09:13:55.617893Z",
     "iopub.status.idle": "2021-03-26T09:13:55.660780Z",
     "shell.execute_reply": "2021-03-26T09:13:55.659008Z"
    }
   },
   "outputs": [
    {
     "data": {
      "image/svg+xml": [
       "<?xml version=\"1.0\" encoding=\"UTF-8\" standalone=\"no\"?><svg xmlns=\"http://www.w3.org/2000/svg\" xmlns:xlink=\"http://www.w3.org/1999/xlink\" contentScriptType=\"application/ecmascript\" contentStyleType=\"text/css\" height=\"570px\" preserveAspectRatio=\"none\" style=\"width:819px;height:570px;\" version=\"1.1\" viewBox=\"0 0 819 570\" width=\"819px\" zoomAndPan=\"magnify\"><defs/><g><!--MD5=[fbc87193dbaf4d95561dea2c320d4a47]\n",
       "cluster E1--><a href=\"psysml:9c548ee6-d869-4820-b951-32f5a4e72165\" target=\"_top\" title=\"psysml:9c548ee6-d869-4820-b951-32f5a4e72165\" xlink:actuate=\"onRequest\" xlink:href=\"psysml:9c548ee6-d869-4820-b951-32f5a4e72165\" xlink:show=\"new\" xlink:title=\"psysml:9c548ee6-d869-4820-b951-32f5a4e72165\" xlink:type=\"simple\"><polygon fill=\"#FFFFFF\" points=\"16,6,98,6,105,28.2969,797,28.2969,797,558,16,558,16,6\" style=\"stroke: #000000; stroke-width: 1.5;\"/><line style=\"stroke: #000000; stroke-width: 1.5;\" x1=\"16\" x2=\"105\" y1=\"28.2969\" y2=\"28.2969\"/><text fill=\"#000000\" font-family=\"sans-serif\" font-size=\"14\" font-weight=\"bold\" lengthAdjust=\"spacingAndGlyphs\" textLength=\"76\" x=\"20\" y=\"20.9951\">StateTest</text></a><!--MD5=[14e3b0961a2654348d326746436168a1]\n",
       "cluster E6--><a href=\"psysml:409d967c-2b55-4985-b068-ed253d96c58c\" target=\"_top\" title=\"psysml:409d967c-2b55-4985-b068-ed253d96c58c\" xlink:actuate=\"onRequest\" xlink:href=\"psysml:409d967c-2b55-4985-b068-ed253d96c58c\" xlink:show=\"new\" xlink:title=\"psysml:409d967c-2b55-4985-b068-ed253d96c58c\" xlink:type=\"simple\"><rect fill=\"#FFFFFF\" height=\"485\" id=\"E6\" style=\"stroke: #383838; stroke-width: 1.5;\" width=\"327\" x=\"446\" y=\"49\"/><rect fill=\"#F8F8F8\" height=\"37.9375\" style=\"stroke: #383838; stroke-width: 1.5;\" width=\"327\" x=\"446\" y=\"49\"/><text fill=\"#000000\" font-family=\"sans-serif\" font-size=\"12\" font-style=\"italic\" lengthAdjust=\"spacingAndGlyphs\" textLength=\"71\" x=\"574\" y=\"65.1387\">«state def»</text><text fill=\"#000000\" font-family=\"sans-serif\" font-size=\"12\" lengthAdjust=\"spacingAndGlyphs\" textLength=\"8\" x=\"605.5\" y=\"79.1074\">S</text><line style=\"stroke: #383838; stroke-width: 1.0;\" x1=\"446\" x2=\"773\" y1=\"132.8438\" y2=\"132.8438\"/><text fill=\"#000000\" font-family=\"sans-serif\" font-size=\"12\" font-weight=\"bold\" lengthAdjust=\"spacingAndGlyphs\" textLength=\"38\" x=\"451\" y=\"100.0762\">entry</text><text fill=\"#000000\" font-family=\"sans-serif\" font-size=\"12\" lengthAdjust=\"spacingAndGlyphs\" textLength=\"16\" x=\"489\" y=\"100.0762\">/ A</text><text fill=\"#000000\" font-family=\"sans-serif\" font-size=\"12\" font-weight=\"bold\" lengthAdjust=\"spacingAndGlyphs\" textLength=\"18\" x=\"451\" y=\"114.0449\">do</text><text fill=\"#000000\" font-family=\"sans-serif\" font-size=\"12\" lengthAdjust=\"spacingAndGlyphs\" textLength=\"16\" x=\"469\" y=\"114.0449\">/ B</text><text fill=\"#000000\" font-family=\"sans-serif\" font-size=\"12\" font-weight=\"bold\" lengthAdjust=\"spacingAndGlyphs\" textLength=\"26\" x=\"451\" y=\"128.0137\">exit</text><text fill=\"#000000\" font-family=\"sans-serif\" font-size=\"12\" lengthAdjust=\"spacingAndGlyphs\" textLength=\"28\" x=\"477\" y=\"128.0137\">/ act</text></a><!--MD5=[b4997ac47864f28c2f74865a473b2911]\n",
       "class E2--><a href=\"psysml:7a2ca9b4-3a97-4e8a-92f8-a9f50dc832cb\" target=\"_top\" title=\"psysml:7a2ca9b4-3a97-4e8a-92f8-a9f50dc832cb\" xlink:actuate=\"onRequest\" xlink:href=\"psysml:7a2ca9b4-3a97-4e8a-92f8-a9f50dc832cb\" xlink:show=\"new\" xlink:title=\"psysml:7a2ca9b4-3a97-4e8a-92f8-a9f50dc832cb\" xlink:type=\"simple\"><rect fill=\"#FFFFFF\" height=\"75.5469\" id=\"E2\" style=\"stroke: #383838; stroke-width: 1.5;\" width=\"95\" x=\"334.5\" y=\"119\"/><text fill=\"#000000\" font-family=\"sans-serif\" font-size=\"12\" font-style=\"italic\" lengthAdjust=\"spacingAndGlyphs\" textLength=\"93\" x=\"335.5\" y=\"135.1387\">«attribute def»</text><text fill=\"#000000\" font-family=\"sans-serif\" font-size=\"12\" lengthAdjust=\"spacingAndGlyphs\" textLength=\"19\" x=\"372.5\" y=\"149.1074\">Sig</text><line style=\"stroke: #383838; stroke-width: 1.5;\" x1=\"335.5\" x2=\"428.5\" y1=\"156.9375\" y2=\"156.9375\"/><text fill=\"#000000\" font-family=\"sans-serif\" font-size=\"11\" lengthAdjust=\"spacingAndGlyphs\" textLength=\"6\" x=\"340.5\" y=\"187.9526\">x</text><line style=\"stroke: #383838; stroke-width: 1.0;\" x1=\"335.5\" x2=\"354.5\" y1=\"171.3398\" y2=\"171.3398\"/><text fill=\"#000000\" font-family=\"sans-serif\" font-size=\"11\" lengthAdjust=\"spacingAndGlyphs\" textLength=\"55\" x=\"354.5\" y=\"174.6479\">attributes</text><line style=\"stroke: #383838; stroke-width: 1.0;\" x1=\"409.5\" x2=\"428.5\" y1=\"171.3398\" y2=\"171.3398\"/></a><!--MD5=[09b614a08d8cba4a07c9adeb5e0fee81]\n",
       "class E3--><a href=\"psysml:30361623-caf7-482c-9813-174242dd8f3c\" target=\"_top\" title=\"psysml:30361623-caf7-482c-9813-174242dd8f3c\" xlink:actuate=\"onRequest\" xlink:href=\"psysml:30361623-caf7-482c-9813-174242dd8f3c\" xlink:show=\"new\" xlink:title=\"psysml:30361623-caf7-482c-9813-174242dd8f3c\" xlink:type=\"simple\"><rect fill=\"#FFFFFF\" height=\"45.9375\" id=\"E3\" style=\"stroke: #383838; stroke-width: 1.5;\" width=\"95\" x=\"204.5\" y=\"134\"/><text fill=\"#000000\" font-family=\"sans-serif\" font-size=\"12\" font-style=\"italic\" lengthAdjust=\"spacingAndGlyphs\" textLength=\"93\" x=\"205.5\" y=\"150.1387\">«attribute def»</text><text fill=\"#000000\" font-family=\"sans-serif\" font-size=\"12\" lengthAdjust=\"spacingAndGlyphs\" textLength=\"22\" x=\"241\" y=\"164.1074\">Exit</text><line style=\"stroke: #383838; stroke-width: 1.5;\" x1=\"205.5\" x2=\"298.5\" y1=\"171.9375\" y2=\"171.9375\"/></a><!--MD5=[ebbe1d658d1005bcc118a6aa81145e00]\n",
       "class E4--><a href=\"psysml:86d86843-d597-4d6e-917a-885d695bc43d\" target=\"_top\" title=\"psysml:86d86843-d597-4d6e-917a-885d695bc43d\" xlink:actuate=\"onRequest\" xlink:href=\"psysml:86d86843-d597-4d6e-917a-885d695bc43d\" xlink:show=\"new\" xlink:title=\"psysml:86d86843-d597-4d6e-917a-885d695bc43d\" xlink:type=\"simple\"><rect fill=\"#FFFFFF\" height=\"45.9375\" id=\"E4\" rx=\"10\" ry=\"10\" style=\"stroke: #383838; stroke-width: 1.5;\" width=\"42\" x=\"127\" y=\"134\"/><text fill=\"#000000\" font-family=\"sans-serif\" font-size=\"12\" font-style=\"italic\" lengthAdjust=\"spacingAndGlyphs\" textLength=\"40\" x=\"128\" y=\"150.1387\">«part»</text><text fill=\"#000000\" font-family=\"sans-serif\" font-size=\"12\" lengthAdjust=\"spacingAndGlyphs\" textLength=\"8\" x=\"144\" y=\"164.1074\">p</text><line style=\"stroke: #383838; stroke-width: 1.5;\" x1=\"128\" x2=\"168\" y1=\"171.9375\" y2=\"171.9375\"/></a><g id=\"E1.E5\"><a href=\"psysml:6cb3785d-90e3-4021-b607-f0ab9874924c\" target=\"_top\" title=\"psysml:6cb3785d-90e3-4021-b607-f0ab9874924c\" xlink:actuate=\"onRequest\" xlink:href=\"psysml:6cb3785d-90e3-4021-b607-f0ab9874924c\" xlink:show=\"new\" xlink:title=\"psysml:6cb3785d-90e3-4021-b607-f0ab9874924c\" xlink:type=\"simple\"><rect fill=\"#FFFFFF\" height=\"42.9375\" id=\"E5\" rx=\"10\" ry=\"10\" style=\"stroke: #383838; stroke-width: 1.5;\" width=\"60\" x=\"32\" y=\"135.5\"/><rect fill=\"#F8F8F8\" height=\"37.9375\" rx=\"10\" ry=\"10\" style=\"stroke: #F8F8F8; stroke-width: 1.5;\" width=\"60\" x=\"32\" y=\"135.5\"/><rect fill=\"#F8F8F8\" height=\"10\" style=\"stroke: #F8F8F8; stroke-width: 1.5;\" width=\"60\" x=\"32\" y=\"163.4375\"/><rect fill=\"none\" height=\"42.9375\" id=\"E5\" rx=\"10\" ry=\"10\" style=\"stroke: #383838; stroke-width: 1.5;\" width=\"60\" x=\"32\" y=\"135.5\"/><text fill=\"#000000\" font-family=\"sans-serif\" font-size=\"12\" font-style=\"italic\" lengthAdjust=\"spacingAndGlyphs\" textLength=\"53\" x=\"35.5\" y=\"151.6387\">«action»</text><text fill=\"#000000\" font-family=\"sans-serif\" font-size=\"12\" lengthAdjust=\"spacingAndGlyphs\" textLength=\"20\" x=\"52\" y=\"165.6074\">act</text></a></g><ellipse cx=\"558\" cy=\"157\" fill=\"#000000\" rx=\"10\" ry=\"10\" style=\"stroke: none; stroke-width: 1.0;\"/><ellipse cx=\"558\" cy=\"508\" fill=\"none\" rx=\"10\" ry=\"10\" style=\"stroke: #000000; stroke-width: 1.0;\"/><ellipse cx=\"558.5\" cy=\"508.5\" fill=\"#000000\" rx=\"6\" ry=\"6\" style=\"stroke: none; stroke-width: 1.0;\"/><g id=\"E1.E6.E7\"><a href=\"psysml:5ea02985-bc8b-4cb1-bb08-c3caa7c881e0\" target=\"_top\" title=\"psysml:5ea02985-bc8b-4cb1-bb08-c3caa7c881e0\" xlink:actuate=\"onRequest\" xlink:href=\"psysml:5ea02985-bc8b-4cb1-bb08-c3caa7c881e0\" xlink:show=\"new\" xlink:title=\"psysml:5ea02985-bc8b-4cb1-bb08-c3caa7c881e0\" xlink:type=\"simple\"><rect fill=\"#FFFFFF\" height=\"40\" id=\"E7\" rx=\"10\" ry=\"10\" style=\"stroke: #383838; stroke-width: 1.5;\" width=\"50\" x=\"533\" y=\"256\"/><rect fill=\"#F8F8F8\" height=\"23.9688\" rx=\"10\" ry=\"10\" style=\"stroke: #F8F8F8; stroke-width: 1.5;\" width=\"50\" x=\"533\" y=\"256\"/><rect fill=\"#F8F8F8\" height=\"10\" style=\"stroke: #F8F8F8; stroke-width: 1.5;\" width=\"50\" x=\"533\" y=\"269.9688\"/><rect fill=\"none\" height=\"40\" id=\"E7\" rx=\"10\" ry=\"10\" style=\"stroke: #383838; stroke-width: 1.5;\" width=\"50\" x=\"533\" y=\"256\"/><text fill=\"#000000\" font-family=\"sans-serif\" font-size=\"12\" lengthAdjust=\"spacingAndGlyphs\" textLength=\"16\" x=\"550\" y=\"272.1387\">S1</text></a></g><g id=\"E1.E6.E8\"><a href=\"psysml:15193c6f-79c7-4ee2-a2ac-bfb559b7d876\" target=\"_top\" title=\"psysml:15193c6f-79c7-4ee2-a2ac-bfb559b7d876\" xlink:actuate=\"onRequest\" xlink:href=\"psysml:15193c6f-79c7-4ee2-a2ac-bfb559b7d876\" xlink:show=\"new\" xlink:title=\"psysml:15193c6f-79c7-4ee2-a2ac-bfb559b7d876\" xlink:type=\"simple\"><rect fill=\"#FFFFFF\" height=\"47.9375\" id=\"E8\" rx=\"10\" ry=\"10\" style=\"stroke: #383838; stroke-width: 1.5;\" width=\"50\" x=\"533\" y=\"373\"/><rect fill=\"#F8F8F8\" height=\"23.9688\" rx=\"10\" ry=\"10\" style=\"stroke: #F8F8F8; stroke-width: 1.5;\" width=\"50\" x=\"533\" y=\"373\"/><rect fill=\"#F8F8F8\" height=\"10\" style=\"stroke: #F8F8F8; stroke-width: 1.5;\" width=\"50\" x=\"533\" y=\"386.9688\"/><rect fill=\"none\" height=\"47.9375\" id=\"E8\" rx=\"10\" ry=\"10\" style=\"stroke: #383838; stroke-width: 1.5;\" width=\"50\" x=\"533\" y=\"373\"/><text fill=\"#000000\" font-family=\"sans-serif\" font-size=\"12\" lengthAdjust=\"spacingAndGlyphs\" textLength=\"16\" x=\"550\" y=\"389.1387\">S2</text><line style=\"stroke: #383838; stroke-width: 1.0;\" x1=\"533\" x2=\"583\" y1=\"396.9688\" y2=\"396.9688\"/><text fill=\"#000000\" font-family=\"sans-serif\" font-size=\"12\" font-weight=\"bold\" lengthAdjust=\"spacingAndGlyphs\" textLength=\"18\" x=\"538\" y=\"410.1074\">do</text><text fill=\"#000000\" font-family=\"sans-serif\" font-size=\"12\" lengthAdjust=\"spacingAndGlyphs\" textLength=\"4\" x=\"556\" y=\"410.1074\">/</text></a></g><!--MD5=[5a531d3a85f3339e6e197084acb48195]\n",
       "link *start*E6 to E7--><a href=\"psysml:50e6b136-bb64-4da5-b9f3-893462631a2b\" target=\"_top\" title=\"psysml:50e6b136-bb64-4da5-b9f3-893462631a2b\" xlink:actuate=\"onRequest\" xlink:href=\"psysml:50e6b136-bb64-4da5-b9f3-893462631a2b\" xlink:show=\"new\" xlink:title=\"psysml:50e6b136-bb64-4da5-b9f3-893462631a2b\" xlink:type=\"simple\"><path d=\"M558,167.18 C558,184.98 558,224.73 558,250.67 \" fill=\"none\" id=\"*start*E6-&gt;E7\" style=\"stroke: #383838; stroke-width: 1.0;\"/><polygon fill=\"#383838\" points=\"558,255.98,562,246.98,558,250.98,554,246.98,558,255.98\" style=\"stroke: #383838; stroke-width: 1.0;\"/></a><!--MD5=[7ec9a8babba89ddcae1318ca9fb3c814]\n",
       "link E8 to *end*E6--><a href=\"psysml:400438d1-4a79-4175-ae6b-80e92b548ca9\" target=\"_top\" title=\"psysml:400438d1-4a79-4175-ae6b-80e92b548ca9\" xlink:actuate=\"onRequest\" xlink:href=\"psysml:400438d1-4a79-4175-ae6b-80e92b548ca9\" xlink:show=\"new\" xlink:title=\"psysml:400438d1-4a79-4175-ae6b-80e92b548ca9\" xlink:type=\"simple\"><path d=\"M558,421.12 C558,442.75 558,474.39 558,492.62 \" fill=\"none\" id=\"E8-&gt;*end*E6\" style=\"stroke: #383838; stroke-width: 1.0;\"/><polygon fill=\"#383838\" points=\"558,497.82,562,488.82,558,492.82,554,488.82,558,497.82\" style=\"stroke: #383838; stroke-width: 1.0;\"/><text fill=\"#000000\" font-family=\"sans-serif\" font-size=\"13\" lengthAdjust=\"spacingAndGlyphs\" textLength=\"23\" x=\"559\" y=\"464.0669\">Exit</text></a><!--MD5=[79bc8f324ef4d02c541433f2e6e513c3]\n",
       "link E7 to E8--><a href=\"psysml:516b9b87-0f3c-4a45-97aa-978805331ddd\" target=\"_top\" title=\"psysml:516b9b87-0f3c-4a45-97aa-978805331ddd\" xlink:actuate=\"onRequest\" xlink:href=\"psysml:516b9b87-0f3c-4a45-97aa-978805331ddd\" xlink:show=\"new\" xlink:title=\"psysml:516b9b87-0f3c-4a45-97aa-978805331ddd\" xlink:type=\"simple\"><path d=\"M532.93,288.88 C518.69,297.12 502.12,309.56 494,326 C483.11,348.05 506.72,368.2 528.27,381.16 \" fill=\"none\" id=\"E7-&gt;E8\" style=\"stroke: #383838; stroke-width: 1.0;\"/><polygon fill=\"#383838\" points=\"532.83,383.82,527.0682,375.8324,528.5101,381.3024,523.0401,382.7443,532.83,383.82\" style=\"stroke: #383838; stroke-width: 1.0;\"/><text fill=\"#000000\" font-family=\"sans-serif\" font-size=\"13\" lengthAdjust=\"spacingAndGlyphs\" textLength=\"81\" x=\"495\" y=\"339.0669\">Sig /action D</text></a><!--MD5=[bfa3c8b0d15052fdf50ae9310b491027]\n",
       "link E8 to E7--><a href=\"psysml:0976314e-a9f7-4444-bafa-f8883db64fa0\" target=\"_top\" title=\"psysml:0976314e-a9f7-4444-bafa-f8883db64fa0\" xlink:actuate=\"onRequest\" xlink:href=\"psysml:0976314e-a9f7-4444-bafa-f8883db64fa0\" xlink:show=\"new\" xlink:title=\"psysml:0976314e-a9f7-4444-bafa-f8883db64fa0\" xlink:type=\"simple\"><path d=\"M572.17,372.99 C578.81,359.48 584.56,341.98 581,326 C579.1,317.49 575.56,308.72 571.82,300.99 \" fill=\"none\" id=\"E8-&gt;E7\" style=\"stroke: #383838; stroke-width: 1.0;\"/><polygon fill=\"#383838\" points=\"569.47,296.32,569.9298,306.1581,571.7118,300.7893,577.0806,302.5713,569.47,296.32\" style=\"stroke: #383838; stroke-width: 1.0;\"/><text fill=\"#000000\" font-family=\"sans-serif\" font-size=\"13\" lengthAdjust=\"spacingAndGlyphs\" textLength=\"135\" x=\"583\" y=\"339.0669\">Sig [true]/send s to p</text></a><!--MD5=[1c7f9fbbe8d7d3d60c7d02ac7598aee5]\n",
       "@startuml\r\n",
       "skinparam monochrome true\r\n",
       "skinparam classbackgroundcolor white\r\n",
       "skinparam shadowing false\r\n",
       "skinparam wrapWidth 300\r\n",
       "hide circle\r\n",
       "\r\n",
       "package \"StateTest\" as E1  [[psysml:9c548ee6-d869-4820-b951-32f5a4e72165 ]]  {\r\n",
       "comp def \"Sig\" as E2  <<(T,blue)attribute def>> [[psysml:7a2ca9b4-3a97-4e8a-92f8-a9f50dc832cb ]] {\r\n",
       "- - attributes - -\r\n",
       "x\r\n",
       "}\r\n",
       "comp def \"Exit\" as E3  <<(T,blue)attribute def>> [[psysml:30361623-caf7-482c-9813-174242dd8f3c ]] {\r\n",
       "}\r\n",
       "comp usage \"p\" as E4  <<(T,blue)part>> [[psysml:86d86843-d597-4d6e-917a-885d695bc43d ]] {\r\n",
       "}\r\n",
       "rec usage \"act\" as E5  <<(T,blue)action>> [[psysml:6cb3785d-90e3-4021-b607-f0ab9874924c ]] {\r\n",
       "}\r\n",
       "\r\n",
       "rec def \"S\" as E6  <<(T,blue)state def>> [[psysml:409d967c-2b55-4985-b068-ed253d96c58c ]] {\r\n",
       "rec usage \"S1\" as E7 [[psysml:5ea02985-bc8b-4cb1-bb08-c3caa7c881e0 ]] {\r\n",
       "}\r\n",
       "\r\n",
       "rec usage \"S2\" as E8 [[psysml:15193c6f-79c7-4ee2-a2ac-bfb559b7d876 ]] {\r\n",
       "desc \"S2\" as E8  : **do**/ \r\n",
       "}\r\n",
       "\r\n",
       "[*] - -> E7 [[psysml:50e6b136-bb64-4da5-b9f3-893462631a2b ]] \r\n",
       "E8  - -> [*] [[psysml:400438d1-4a79-4175-ae6b-80e92b548ca9 ]] : Exit \r\n",
       "desc \"S\" as E6  : **entry**/ A\r\n",
       "desc \"S\" as E6  : **do**/ B\r\n",
       "desc \"S\" as E6  : **exit**/ act \r\n",
       "}\r\n",
       "\r\n",
       "E7  - -> E8 [[psysml:516b9b87-0f3c-4a45-97aa-978805331ddd ]] : Sig /action D\r\n",
       "E8  - -> E7 [[psysml:0976314e-a9f7-4444-bafa-f8883db64fa0 ]] : Sig [true]/send s to p\r\n",
       "}\r\n",
       "@enduml\r\n",
       "\n",
       "PlantUML version 1.2020.13(Sat Jun 13 12:26:38 UTC 2020)\n",
       "(EPL source distribution)\n",
       "Java Runtime: OpenJDK Runtime Environment\n",
       "JVM: OpenJDK 64-Bit Server VM\n",
       "Default Encoding: UTF-8\n",
       "Language: en\n",
       "Country: null\n",
       "--></g></svg>"
      ]
     },
     "execution_count": 43,
     "metadata": {},
     "output_type": "execute_result"
    }
   ],
   "source": [
    "%viz --style=\"DEFAULT\" --view=\"MIXED\" \"StateTest\""
   ]
  },
  {
   "cell_type": "code",
   "execution_count": 44,
   "id": "plain-equity",
   "metadata": {
    "execution": {
     "iopub.execute_input": "2021-03-26T09:13:55.708676Z",
     "iopub.status.busy": "2021-03-26T09:13:55.707852Z",
     "iopub.status.idle": "2021-03-26T09:13:55.755561Z",
     "shell.execute_reply": "2021-03-26T09:13:55.754082Z"
    }
   },
   "outputs": [
    {
     "data": {
      "image/svg+xml": [
       "<?xml version=\"1.0\" encoding=\"UTF-8\" standalone=\"no\"?><svg xmlns=\"http://www.w3.org/2000/svg\" xmlns:xlink=\"http://www.w3.org/1999/xlink\" contentScriptType=\"application/ecmascript\" contentStyleType=\"text/css\" height=\"570px\" preserveAspectRatio=\"none\" style=\"width:819px;height:570px;\" version=\"1.1\" viewBox=\"0 0 819 570\" width=\"819px\" zoomAndPan=\"magnify\"><defs/><g><!--MD5=[fbc87193dbaf4d95561dea2c320d4a47]\n",
       "cluster E1--><a href=\"psysml:9c548ee6-d869-4820-b951-32f5a4e72165\" target=\"_top\" title=\"psysml:9c548ee6-d869-4820-b951-32f5a4e72165\" xlink:actuate=\"onRequest\" xlink:href=\"psysml:9c548ee6-d869-4820-b951-32f5a4e72165\" xlink:show=\"new\" xlink:title=\"psysml:9c548ee6-d869-4820-b951-32f5a4e72165\" xlink:type=\"simple\"><polygon fill=\"#FFFFFF\" points=\"16,6,98,6,105,28.2969,797,28.2969,797,558,16,558,16,6\" style=\"stroke: #000000; stroke-width: 1.5;\"/><line style=\"stroke: #000000; stroke-width: 1.5;\" x1=\"16\" x2=\"105\" y1=\"28.2969\" y2=\"28.2969\"/><text fill=\"#000000\" font-family=\"sans-serif\" font-size=\"14\" font-weight=\"bold\" lengthAdjust=\"spacingAndGlyphs\" textLength=\"76\" x=\"20\" y=\"20.9951\">StateTest</text></a><!--MD5=[14e3b0961a2654348d326746436168a1]\n",
       "cluster E6--><a href=\"psysml:409d967c-2b55-4985-b068-ed253d96c58c\" target=\"_top\" title=\"psysml:409d967c-2b55-4985-b068-ed253d96c58c\" xlink:actuate=\"onRequest\" xlink:href=\"psysml:409d967c-2b55-4985-b068-ed253d96c58c\" xlink:show=\"new\" xlink:title=\"psysml:409d967c-2b55-4985-b068-ed253d96c58c\" xlink:type=\"simple\"><rect fill=\"#FFFFFF\" height=\"485\" id=\"E6\" style=\"stroke: #383838; stroke-width: 1.5;\" width=\"327\" x=\"446\" y=\"49\"/><rect fill=\"#F8F8F8\" height=\"37.9375\" style=\"stroke: #383838; stroke-width: 1.5;\" width=\"327\" x=\"446\" y=\"49\"/><text fill=\"#000000\" font-family=\"sans-serif\" font-size=\"12\" font-style=\"italic\" lengthAdjust=\"spacingAndGlyphs\" textLength=\"71\" x=\"574\" y=\"65.1387\">«state def»</text><text fill=\"#000000\" font-family=\"sans-serif\" font-size=\"12\" lengthAdjust=\"spacingAndGlyphs\" textLength=\"8\" x=\"605.5\" y=\"79.1074\">S</text><line style=\"stroke: #383838; stroke-width: 1.0;\" x1=\"446\" x2=\"773\" y1=\"132.8438\" y2=\"132.8438\"/><text fill=\"#000000\" font-family=\"sans-serif\" font-size=\"12\" font-weight=\"bold\" lengthAdjust=\"spacingAndGlyphs\" textLength=\"38\" x=\"451\" y=\"100.0762\">entry</text><text fill=\"#000000\" font-family=\"sans-serif\" font-size=\"12\" lengthAdjust=\"spacingAndGlyphs\" textLength=\"16\" x=\"489\" y=\"100.0762\">/ A</text><text fill=\"#000000\" font-family=\"sans-serif\" font-size=\"12\" font-weight=\"bold\" lengthAdjust=\"spacingAndGlyphs\" textLength=\"18\" x=\"451\" y=\"114.0449\">do</text><text fill=\"#000000\" font-family=\"sans-serif\" font-size=\"12\" lengthAdjust=\"spacingAndGlyphs\" textLength=\"16\" x=\"469\" y=\"114.0449\">/ B</text><text fill=\"#000000\" font-family=\"sans-serif\" font-size=\"12\" font-weight=\"bold\" lengthAdjust=\"spacingAndGlyphs\" textLength=\"26\" x=\"451\" y=\"128.0137\">exit</text><text fill=\"#000000\" font-family=\"sans-serif\" font-size=\"12\" lengthAdjust=\"spacingAndGlyphs\" textLength=\"28\" x=\"477\" y=\"128.0137\">/ act</text></a><!--MD5=[b4997ac47864f28c2f74865a473b2911]\n",
       "class E2--><a href=\"psysml:7a2ca9b4-3a97-4e8a-92f8-a9f50dc832cb\" target=\"_top\" title=\"psysml:7a2ca9b4-3a97-4e8a-92f8-a9f50dc832cb\" xlink:actuate=\"onRequest\" xlink:href=\"psysml:7a2ca9b4-3a97-4e8a-92f8-a9f50dc832cb\" xlink:show=\"new\" xlink:title=\"psysml:7a2ca9b4-3a97-4e8a-92f8-a9f50dc832cb\" xlink:type=\"simple\"><rect fill=\"#FFFFFF\" height=\"75.5469\" id=\"E2\" style=\"stroke: #383838; stroke-width: 1.5;\" width=\"95\" x=\"334.5\" y=\"119\"/><text fill=\"#000000\" font-family=\"sans-serif\" font-size=\"12\" font-style=\"italic\" lengthAdjust=\"spacingAndGlyphs\" textLength=\"93\" x=\"335.5\" y=\"135.1387\">«attribute def»</text><text fill=\"#000000\" font-family=\"sans-serif\" font-size=\"12\" lengthAdjust=\"spacingAndGlyphs\" textLength=\"19\" x=\"372.5\" y=\"149.1074\">Sig</text><line style=\"stroke: #383838; stroke-width: 1.5;\" x1=\"335.5\" x2=\"428.5\" y1=\"156.9375\" y2=\"156.9375\"/><text fill=\"#000000\" font-family=\"sans-serif\" font-size=\"11\" lengthAdjust=\"spacingAndGlyphs\" textLength=\"6\" x=\"340.5\" y=\"187.9526\">x</text><line style=\"stroke: #383838; stroke-width: 1.0;\" x1=\"335.5\" x2=\"354.5\" y1=\"171.3398\" y2=\"171.3398\"/><text fill=\"#000000\" font-family=\"sans-serif\" font-size=\"11\" lengthAdjust=\"spacingAndGlyphs\" textLength=\"55\" x=\"354.5\" y=\"174.6479\">attributes</text><line style=\"stroke: #383838; stroke-width: 1.0;\" x1=\"409.5\" x2=\"428.5\" y1=\"171.3398\" y2=\"171.3398\"/></a><!--MD5=[09b614a08d8cba4a07c9adeb5e0fee81]\n",
       "class E3--><a href=\"psysml:30361623-caf7-482c-9813-174242dd8f3c\" target=\"_top\" title=\"psysml:30361623-caf7-482c-9813-174242dd8f3c\" xlink:actuate=\"onRequest\" xlink:href=\"psysml:30361623-caf7-482c-9813-174242dd8f3c\" xlink:show=\"new\" xlink:title=\"psysml:30361623-caf7-482c-9813-174242dd8f3c\" xlink:type=\"simple\"><rect fill=\"#FFFFFF\" height=\"45.9375\" id=\"E3\" style=\"stroke: #383838; stroke-width: 1.5;\" width=\"95\" x=\"204.5\" y=\"134\"/><text fill=\"#000000\" font-family=\"sans-serif\" font-size=\"12\" font-style=\"italic\" lengthAdjust=\"spacingAndGlyphs\" textLength=\"93\" x=\"205.5\" y=\"150.1387\">«attribute def»</text><text fill=\"#000000\" font-family=\"sans-serif\" font-size=\"12\" lengthAdjust=\"spacingAndGlyphs\" textLength=\"22\" x=\"241\" y=\"164.1074\">Exit</text><line style=\"stroke: #383838; stroke-width: 1.5;\" x1=\"205.5\" x2=\"298.5\" y1=\"171.9375\" y2=\"171.9375\"/></a><!--MD5=[ebbe1d658d1005bcc118a6aa81145e00]\n",
       "class E4--><a href=\"psysml:86d86843-d597-4d6e-917a-885d695bc43d\" target=\"_top\" title=\"psysml:86d86843-d597-4d6e-917a-885d695bc43d\" xlink:actuate=\"onRequest\" xlink:href=\"psysml:86d86843-d597-4d6e-917a-885d695bc43d\" xlink:show=\"new\" xlink:title=\"psysml:86d86843-d597-4d6e-917a-885d695bc43d\" xlink:type=\"simple\"><rect fill=\"#FFFFFF\" height=\"45.9375\" id=\"E4\" rx=\"10\" ry=\"10\" style=\"stroke: #383838; stroke-width: 1.5;\" width=\"42\" x=\"127\" y=\"134\"/><text fill=\"#000000\" font-family=\"sans-serif\" font-size=\"12\" font-style=\"italic\" lengthAdjust=\"spacingAndGlyphs\" textLength=\"40\" x=\"128\" y=\"150.1387\">«part»</text><text fill=\"#000000\" font-family=\"sans-serif\" font-size=\"12\" lengthAdjust=\"spacingAndGlyphs\" textLength=\"8\" x=\"144\" y=\"164.1074\">p</text><line style=\"stroke: #383838; stroke-width: 1.5;\" x1=\"128\" x2=\"168\" y1=\"171.9375\" y2=\"171.9375\"/></a><g id=\"E1.E5\"><a href=\"psysml:6cb3785d-90e3-4021-b607-f0ab9874924c\" target=\"_top\" title=\"psysml:6cb3785d-90e3-4021-b607-f0ab9874924c\" xlink:actuate=\"onRequest\" xlink:href=\"psysml:6cb3785d-90e3-4021-b607-f0ab9874924c\" xlink:show=\"new\" xlink:title=\"psysml:6cb3785d-90e3-4021-b607-f0ab9874924c\" xlink:type=\"simple\"><rect fill=\"#FFFFFF\" height=\"42.9375\" id=\"E5\" rx=\"10\" ry=\"10\" style=\"stroke: #383838; stroke-width: 1.5;\" width=\"60\" x=\"32\" y=\"135.5\"/><rect fill=\"#F8F8F8\" height=\"37.9375\" rx=\"10\" ry=\"10\" style=\"stroke: #F8F8F8; stroke-width: 1.5;\" width=\"60\" x=\"32\" y=\"135.5\"/><rect fill=\"#F8F8F8\" height=\"10\" style=\"stroke: #F8F8F8; stroke-width: 1.5;\" width=\"60\" x=\"32\" y=\"163.4375\"/><rect fill=\"none\" height=\"42.9375\" id=\"E5\" rx=\"10\" ry=\"10\" style=\"stroke: #383838; stroke-width: 1.5;\" width=\"60\" x=\"32\" y=\"135.5\"/><text fill=\"#000000\" font-family=\"sans-serif\" font-size=\"12\" font-style=\"italic\" lengthAdjust=\"spacingAndGlyphs\" textLength=\"53\" x=\"35.5\" y=\"151.6387\">«action»</text><text fill=\"#000000\" font-family=\"sans-serif\" font-size=\"12\" lengthAdjust=\"spacingAndGlyphs\" textLength=\"20\" x=\"52\" y=\"165.6074\">act</text></a></g><ellipse cx=\"558\" cy=\"157\" fill=\"#000000\" rx=\"10\" ry=\"10\" style=\"stroke: none; stroke-width: 1.0;\"/><ellipse cx=\"558\" cy=\"508\" fill=\"none\" rx=\"10\" ry=\"10\" style=\"stroke: #000000; stroke-width: 1.0;\"/><ellipse cx=\"558.5\" cy=\"508.5\" fill=\"#000000\" rx=\"6\" ry=\"6\" style=\"stroke: none; stroke-width: 1.0;\"/><g id=\"E1.E6.E7\"><a href=\"psysml:5ea02985-bc8b-4cb1-bb08-c3caa7c881e0\" target=\"_top\" title=\"psysml:5ea02985-bc8b-4cb1-bb08-c3caa7c881e0\" xlink:actuate=\"onRequest\" xlink:href=\"psysml:5ea02985-bc8b-4cb1-bb08-c3caa7c881e0\" xlink:show=\"new\" xlink:title=\"psysml:5ea02985-bc8b-4cb1-bb08-c3caa7c881e0\" xlink:type=\"simple\"><rect fill=\"#FFFFFF\" height=\"40\" id=\"E7\" rx=\"10\" ry=\"10\" style=\"stroke: #383838; stroke-width: 1.5;\" width=\"50\" x=\"533\" y=\"256\"/><rect fill=\"#F8F8F8\" height=\"23.9688\" rx=\"10\" ry=\"10\" style=\"stroke: #F8F8F8; stroke-width: 1.5;\" width=\"50\" x=\"533\" y=\"256\"/><rect fill=\"#F8F8F8\" height=\"10\" style=\"stroke: #F8F8F8; stroke-width: 1.5;\" width=\"50\" x=\"533\" y=\"269.9688\"/><rect fill=\"none\" height=\"40\" id=\"E7\" rx=\"10\" ry=\"10\" style=\"stroke: #383838; stroke-width: 1.5;\" width=\"50\" x=\"533\" y=\"256\"/><text fill=\"#000000\" font-family=\"sans-serif\" font-size=\"12\" lengthAdjust=\"spacingAndGlyphs\" textLength=\"16\" x=\"550\" y=\"272.1387\">S1</text></a></g><g id=\"E1.E6.E8\"><a href=\"psysml:15193c6f-79c7-4ee2-a2ac-bfb559b7d876\" target=\"_top\" title=\"psysml:15193c6f-79c7-4ee2-a2ac-bfb559b7d876\" xlink:actuate=\"onRequest\" xlink:href=\"psysml:15193c6f-79c7-4ee2-a2ac-bfb559b7d876\" xlink:show=\"new\" xlink:title=\"psysml:15193c6f-79c7-4ee2-a2ac-bfb559b7d876\" xlink:type=\"simple\"><rect fill=\"#FFFFFF\" height=\"47.9375\" id=\"E8\" rx=\"10\" ry=\"10\" style=\"stroke: #383838; stroke-width: 1.5;\" width=\"50\" x=\"533\" y=\"373\"/><rect fill=\"#F8F8F8\" height=\"23.9688\" rx=\"10\" ry=\"10\" style=\"stroke: #F8F8F8; stroke-width: 1.5;\" width=\"50\" x=\"533\" y=\"373\"/><rect fill=\"#F8F8F8\" height=\"10\" style=\"stroke: #F8F8F8; stroke-width: 1.5;\" width=\"50\" x=\"533\" y=\"386.9688\"/><rect fill=\"none\" height=\"47.9375\" id=\"E8\" rx=\"10\" ry=\"10\" style=\"stroke: #383838; stroke-width: 1.5;\" width=\"50\" x=\"533\" y=\"373\"/><text fill=\"#000000\" font-family=\"sans-serif\" font-size=\"12\" lengthAdjust=\"spacingAndGlyphs\" textLength=\"16\" x=\"550\" y=\"389.1387\">S2</text><line style=\"stroke: #383838; stroke-width: 1.0;\" x1=\"533\" x2=\"583\" y1=\"396.9688\" y2=\"396.9688\"/><text fill=\"#000000\" font-family=\"sans-serif\" font-size=\"12\" font-weight=\"bold\" lengthAdjust=\"spacingAndGlyphs\" textLength=\"18\" x=\"538\" y=\"410.1074\">do</text><text fill=\"#000000\" font-family=\"sans-serif\" font-size=\"12\" lengthAdjust=\"spacingAndGlyphs\" textLength=\"4\" x=\"556\" y=\"410.1074\">/</text></a></g><!--MD5=[5a531d3a85f3339e6e197084acb48195]\n",
       "link *start*E6 to E7--><a href=\"psysml:50e6b136-bb64-4da5-b9f3-893462631a2b\" target=\"_top\" title=\"psysml:50e6b136-bb64-4da5-b9f3-893462631a2b\" xlink:actuate=\"onRequest\" xlink:href=\"psysml:50e6b136-bb64-4da5-b9f3-893462631a2b\" xlink:show=\"new\" xlink:title=\"psysml:50e6b136-bb64-4da5-b9f3-893462631a2b\" xlink:type=\"simple\"><path d=\"M558,167.18 C558,184.98 558,224.73 558,250.67 \" fill=\"none\" id=\"*start*E6-&gt;E7\" style=\"stroke: #383838; stroke-width: 1.0;\"/><polygon fill=\"#383838\" points=\"558,255.98,562,246.98,558,250.98,554,246.98,558,255.98\" style=\"stroke: #383838; stroke-width: 1.0;\"/></a><!--MD5=[7ec9a8babba89ddcae1318ca9fb3c814]\n",
       "link E8 to *end*E6--><a href=\"psysml:400438d1-4a79-4175-ae6b-80e92b548ca9\" target=\"_top\" title=\"psysml:400438d1-4a79-4175-ae6b-80e92b548ca9\" xlink:actuate=\"onRequest\" xlink:href=\"psysml:400438d1-4a79-4175-ae6b-80e92b548ca9\" xlink:show=\"new\" xlink:title=\"psysml:400438d1-4a79-4175-ae6b-80e92b548ca9\" xlink:type=\"simple\"><path d=\"M558,421.12 C558,442.75 558,474.39 558,492.62 \" fill=\"none\" id=\"E8-&gt;*end*E6\" style=\"stroke: #383838; stroke-width: 1.0;\"/><polygon fill=\"#383838\" points=\"558,497.82,562,488.82,558,492.82,554,488.82,558,497.82\" style=\"stroke: #383838; stroke-width: 1.0;\"/><text fill=\"#000000\" font-family=\"sans-serif\" font-size=\"13\" lengthAdjust=\"spacingAndGlyphs\" textLength=\"23\" x=\"559\" y=\"464.0669\">Exit</text></a><!--MD5=[79bc8f324ef4d02c541433f2e6e513c3]\n",
       "link E7 to E8--><a href=\"psysml:516b9b87-0f3c-4a45-97aa-978805331ddd\" target=\"_top\" title=\"psysml:516b9b87-0f3c-4a45-97aa-978805331ddd\" xlink:actuate=\"onRequest\" xlink:href=\"psysml:516b9b87-0f3c-4a45-97aa-978805331ddd\" xlink:show=\"new\" xlink:title=\"psysml:516b9b87-0f3c-4a45-97aa-978805331ddd\" xlink:type=\"simple\"><path d=\"M532.93,288.88 C518.69,297.12 502.12,309.56 494,326 C483.11,348.05 506.72,368.2 528.27,381.16 \" fill=\"none\" id=\"E7-&gt;E8\" style=\"stroke: #383838; stroke-width: 1.0;\"/><polygon fill=\"#383838\" points=\"532.83,383.82,527.0682,375.8324,528.5101,381.3024,523.0401,382.7443,532.83,383.82\" style=\"stroke: #383838; stroke-width: 1.0;\"/><text fill=\"#000000\" font-family=\"sans-serif\" font-size=\"13\" lengthAdjust=\"spacingAndGlyphs\" textLength=\"81\" x=\"495\" y=\"339.0669\">Sig /action D</text></a><!--MD5=[bfa3c8b0d15052fdf50ae9310b491027]\n",
       "link E8 to E7--><a href=\"psysml:0976314e-a9f7-4444-bafa-f8883db64fa0\" target=\"_top\" title=\"psysml:0976314e-a9f7-4444-bafa-f8883db64fa0\" xlink:actuate=\"onRequest\" xlink:href=\"psysml:0976314e-a9f7-4444-bafa-f8883db64fa0\" xlink:show=\"new\" xlink:title=\"psysml:0976314e-a9f7-4444-bafa-f8883db64fa0\" xlink:type=\"simple\"><path d=\"M572.17,372.99 C578.81,359.48 584.56,341.98 581,326 C579.1,317.49 575.56,308.72 571.82,300.99 \" fill=\"none\" id=\"E8-&gt;E7\" style=\"stroke: #383838; stroke-width: 1.0;\"/><polygon fill=\"#383838\" points=\"569.47,296.32,569.9298,306.1581,571.7118,300.7893,577.0806,302.5713,569.47,296.32\" style=\"stroke: #383838; stroke-width: 1.0;\"/><text fill=\"#000000\" font-family=\"sans-serif\" font-size=\"13\" lengthAdjust=\"spacingAndGlyphs\" textLength=\"135\" x=\"583\" y=\"339.0669\">Sig [true]/send s to p</text></a><!--MD5=[e954360beacc059d7b57c32c63a2ab6a]\n",
       "@startuml\r\n",
       "top to bottom direction\r\n",
       "skinparam monochrome true\r\n",
       "skinparam classbackgroundcolor white\r\n",
       "skinparam shadowing false\r\n",
       "skinparam wrapWidth 300\r\n",
       "hide circle\r\n",
       "\r\n",
       "package \"StateTest\" as E1  [[psysml:9c548ee6-d869-4820-b951-32f5a4e72165 ]]  {\r\n",
       "comp def \"Sig\" as E2  <<(T,blue)attribute def>> [[psysml:7a2ca9b4-3a97-4e8a-92f8-a9f50dc832cb ]] {\r\n",
       "- - attributes - -\r\n",
       "x\r\n",
       "}\r\n",
       "comp def \"Exit\" as E3  <<(T,blue)attribute def>> [[psysml:30361623-caf7-482c-9813-174242dd8f3c ]] {\r\n",
       "}\r\n",
       "comp usage \"p\" as E4  <<(T,blue)part>> [[psysml:86d86843-d597-4d6e-917a-885d695bc43d ]] {\r\n",
       "}\r\n",
       "rec usage \"act\" as E5  <<(T,blue)action>> [[psysml:6cb3785d-90e3-4021-b607-f0ab9874924c ]] {\r\n",
       "}\r\n",
       "\r\n",
       "rec def \"S\" as E6  <<(T,blue)state def>> [[psysml:409d967c-2b55-4985-b068-ed253d96c58c ]] {\r\n",
       "rec usage \"S1\" as E7 [[psysml:5ea02985-bc8b-4cb1-bb08-c3caa7c881e0 ]] {\r\n",
       "}\r\n",
       "\r\n",
       "rec usage \"S2\" as E8 [[psysml:15193c6f-79c7-4ee2-a2ac-bfb559b7d876 ]] {\r\n",
       "desc \"S2\" as E8  : **do**/ \r\n",
       "}\r\n",
       "\r\n",
       "[*] - -> E7 [[psysml:50e6b136-bb64-4da5-b9f3-893462631a2b ]] \r\n",
       "E8  - -> [*] [[psysml:400438d1-4a79-4175-ae6b-80e92b548ca9 ]] : Exit \r\n",
       "desc \"S\" as E6  : **entry**/ A\r\n",
       "desc \"S\" as E6  : **do**/ B\r\n",
       "desc \"S\" as E6  : **exit**/ act \r\n",
       "}\r\n",
       "\r\n",
       "E7  - -> E8 [[psysml:516b9b87-0f3c-4a45-97aa-978805331ddd ]] : Sig /action D\r\n",
       "E8  - -> E7 [[psysml:0976314e-a9f7-4444-bafa-f8883db64fa0 ]] : Sig [true]/send s to p\r\n",
       "}\r\n",
       "@enduml\r\n",
       "\n",
       "PlantUML version 1.2020.13(Sat Jun 13 12:26:38 UTC 2020)\n",
       "(EPL source distribution)\n",
       "Java Runtime: OpenJDK Runtime Environment\n",
       "JVM: OpenJDK 64-Bit Server VM\n",
       "Default Encoding: UTF-8\n",
       "Language: en\n",
       "Country: null\n",
       "--></g></svg>"
      ]
     },
     "execution_count": 44,
     "metadata": {},
     "output_type": "execute_result"
    }
   ],
   "source": [
    "%viz --style=\"TB\" --view=\"Default\" \"StateTest\""
   ]
  },
  {
   "cell_type": "code",
   "execution_count": 45,
   "id": "equal-atmosphere",
   "metadata": {
    "execution": {
     "iopub.execute_input": "2021-03-26T09:13:55.807231Z",
     "iopub.status.busy": "2021-03-26T09:13:55.806473Z",
     "iopub.status.idle": "2021-03-26T09:13:55.898007Z",
     "shell.execute_reply": "2021-03-26T09:13:55.897692Z"
    }
   },
   "outputs": [
    {
     "data": {
      "image/svg+xml": [
       "<?xml version=\"1.0\" encoding=\"UTF-8\" standalone=\"no\"?><svg xmlns=\"http://www.w3.org/2000/svg\" xmlns:xlink=\"http://www.w3.org/1999/xlink\" contentScriptType=\"application/ecmascript\" contentStyleType=\"text/css\" height=\"471px\" preserveAspectRatio=\"none\" style=\"width:594px;height:471px;\" version=\"1.1\" viewBox=\"0 0 594 471\" width=\"594px\" zoomAndPan=\"magnify\"><defs/><g><!--MD5=[fbc87193dbaf4d95561dea2c320d4a47]\n",
       "cluster E1--><a href=\"psysml:9c548ee6-d869-4820-b951-32f5a4e72165\" target=\"_top\" title=\"psysml:9c548ee6-d869-4820-b951-32f5a4e72165\" xlink:actuate=\"onRequest\" xlink:href=\"psysml:9c548ee6-d869-4820-b951-32f5a4e72165\" xlink:show=\"new\" xlink:title=\"psysml:9c548ee6-d869-4820-b951-32f5a4e72165\" xlink:type=\"simple\"><polygon fill=\"#FFFFFF\" points=\"16,6,98,6,105,28.2969,572,28.2969,572,459,16,459,16,6\" style=\"stroke: #000000; stroke-width: 1.5;\"/><line style=\"stroke: #000000; stroke-width: 1.5;\" x1=\"16\" x2=\"105\" y1=\"28.2969\" y2=\"28.2969\"/><text fill=\"#000000\" font-family=\"sans-serif\" font-size=\"14\" font-weight=\"bold\" lengthAdjust=\"spacingAndGlyphs\" textLength=\"76\" x=\"20\" y=\"20.9951\">StateTest</text></a><!--MD5=[b4997ac47864f28c2f74865a473b2911]\n",
       "class E2--><a href=\"psysml:7a2ca9b4-3a97-4e8a-92f8-a9f50dc832cb\" target=\"_top\" title=\"psysml:7a2ca9b4-3a97-4e8a-92f8-a9f50dc832cb\" xlink:actuate=\"onRequest\" xlink:href=\"psysml:7a2ca9b4-3a97-4e8a-92f8-a9f50dc832cb\" xlink:show=\"new\" xlink:title=\"psysml:7a2ca9b4-3a97-4e8a-92f8-a9f50dc832cb\" xlink:type=\"simple\"><rect fill=\"#FFFFFF\" height=\"75.5469\" id=\"E2\" style=\"stroke: #383838; stroke-width: 1.5;\" width=\"95\" x=\"460.5\" y=\"83\"/><text fill=\"#000000\" font-family=\"sans-serif\" font-size=\"12\" font-style=\"italic\" lengthAdjust=\"spacingAndGlyphs\" textLength=\"93\" x=\"461.5\" y=\"99.1387\">«attribute def»</text><text fill=\"#000000\" font-family=\"sans-serif\" font-size=\"12\" lengthAdjust=\"spacingAndGlyphs\" textLength=\"19\" x=\"498.5\" y=\"113.1074\">Sig</text><line style=\"stroke: #383838; stroke-width: 1.5;\" x1=\"461.5\" x2=\"554.5\" y1=\"120.9375\" y2=\"120.9375\"/><text fill=\"#000000\" font-family=\"sans-serif\" font-size=\"11\" lengthAdjust=\"spacingAndGlyphs\" textLength=\"6\" x=\"466.5\" y=\"151.9526\">x</text><line style=\"stroke: #383838; stroke-width: 1.0;\" x1=\"461.5\" x2=\"480.5\" y1=\"135.3398\" y2=\"135.3398\"/><text fill=\"#000000\" font-family=\"sans-serif\" font-size=\"11\" lengthAdjust=\"spacingAndGlyphs\" textLength=\"55\" x=\"480.5\" y=\"138.6479\">attributes</text><line style=\"stroke: #383838; stroke-width: 1.0;\" x1=\"535.5\" x2=\"554.5\" y1=\"135.3398\" y2=\"135.3398\"/></a><!--MD5=[09b614a08d8cba4a07c9adeb5e0fee81]\n",
       "class E3--><a href=\"psysml:30361623-caf7-482c-9813-174242dd8f3c\" target=\"_top\" title=\"psysml:30361623-caf7-482c-9813-174242dd8f3c\" xlink:actuate=\"onRequest\" xlink:href=\"psysml:30361623-caf7-482c-9813-174242dd8f3c\" xlink:show=\"new\" xlink:title=\"psysml:30361623-caf7-482c-9813-174242dd8f3c\" xlink:type=\"simple\"><rect fill=\"#FFFFFF\" height=\"45.9375\" id=\"E3\" style=\"stroke: #383838; stroke-width: 1.5;\" width=\"95\" x=\"330.5\" y=\"98\"/><text fill=\"#000000\" font-family=\"sans-serif\" font-size=\"12\" font-style=\"italic\" lengthAdjust=\"spacingAndGlyphs\" textLength=\"93\" x=\"331.5\" y=\"114.1387\">«attribute def»</text><text fill=\"#000000\" font-family=\"sans-serif\" font-size=\"12\" lengthAdjust=\"spacingAndGlyphs\" textLength=\"22\" x=\"367\" y=\"128.1074\">Exit</text><line style=\"stroke: #383838; stroke-width: 1.5;\" x1=\"331.5\" x2=\"424.5\" y1=\"135.9375\" y2=\"135.9375\"/></a><!--MD5=[ebbe1d658d1005bcc118a6aa81145e00]\n",
       "class E4--><a href=\"psysml:86d86843-d597-4d6e-917a-885d695bc43d\" target=\"_top\" title=\"psysml:86d86843-d597-4d6e-917a-885d695bc43d\" xlink:actuate=\"onRequest\" xlink:href=\"psysml:86d86843-d597-4d6e-917a-885d695bc43d\" xlink:show=\"new\" xlink:title=\"psysml:86d86843-d597-4d6e-917a-885d695bc43d\" xlink:type=\"simple\"><rect fill=\"#FFFFFF\" height=\"45.9375\" id=\"E4\" rx=\"10\" ry=\"10\" style=\"stroke: #383838; stroke-width: 1.5;\" width=\"42\" x=\"253\" y=\"98\"/><text fill=\"#000000\" font-family=\"sans-serif\" font-size=\"12\" font-style=\"italic\" lengthAdjust=\"spacingAndGlyphs\" textLength=\"40\" x=\"254\" y=\"114.1387\">«part»</text><text fill=\"#000000\" font-family=\"sans-serif\" font-size=\"12\" lengthAdjust=\"spacingAndGlyphs\" textLength=\"8\" x=\"270\" y=\"128.1074\">p</text><line style=\"stroke: #383838; stroke-width: 1.5;\" x1=\"254\" x2=\"294\" y1=\"135.9375\" y2=\"135.9375\"/></a><!--MD5=[270fce915f116d4de14055a7c1d9a0f3]\n",
       "class E5--><a href=\"psysml:6cb3785d-90e3-4021-b607-f0ab9874924c\" target=\"_top\" title=\"psysml:6cb3785d-90e3-4021-b607-f0ab9874924c\" xlink:actuate=\"onRequest\" xlink:href=\"psysml:6cb3785d-90e3-4021-b607-f0ab9874924c\" xlink:show=\"new\" xlink:title=\"psysml:6cb3785d-90e3-4021-b607-f0ab9874924c\" xlink:type=\"simple\"><rect fill=\"#FFFFFF\" height=\"45.9375\" id=\"E5\" rx=\"10\" ry=\"10\" style=\"stroke: #383838; stroke-width: 1.5;\" width=\"55\" x=\"162.5\" y=\"98\"/><text fill=\"#000000\" font-family=\"sans-serif\" font-size=\"12\" font-style=\"italic\" lengthAdjust=\"spacingAndGlyphs\" textLength=\"53\" x=\"163.5\" y=\"114.1387\">«action»</text><text fill=\"#000000\" font-family=\"sans-serif\" font-size=\"12\" lengthAdjust=\"spacingAndGlyphs\" textLength=\"20\" x=\"180\" y=\"128.1074\">act</text><line style=\"stroke: #383838; stroke-width: 1.5;\" x1=\"163.5\" x2=\"216.5\" y1=\"135.9375\" y2=\"135.9375\"/></a><!--MD5=[60a26617385b1d2d0262a64233df1f8d]\n",
       "class E6--><a href=\"psysml:409d967c-2b55-4985-b068-ed253d96c58c\" target=\"_top\" title=\"psysml:409d967c-2b55-4985-b068-ed253d96c58c\" xlink:actuate=\"onRequest\" xlink:href=\"psysml:409d967c-2b55-4985-b068-ed253d96c58c\" xlink:show=\"new\" xlink:title=\"psysml:409d967c-2b55-4985-b068-ed253d96c58c\" xlink:type=\"simple\"><rect fill=\"#FFFFFF\" height=\"160.375\" id=\"E6\" style=\"stroke: #383838; stroke-width: 1.5;\" width=\"95\" x=\"32.5\" y=\"41\"/><text fill=\"#000000\" font-family=\"sans-serif\" font-size=\"12\" font-style=\"italic\" lengthAdjust=\"spacingAndGlyphs\" textLength=\"71\" x=\"44.5\" y=\"57.1387\">«state def»</text><text fill=\"#000000\" font-family=\"sans-serif\" font-size=\"12\" lengthAdjust=\"spacingAndGlyphs\" textLength=\"8\" x=\"76\" y=\"71.1074\">S</text><line style=\"stroke: #383838; stroke-width: 1.5;\" x1=\"33.5\" x2=\"126.5\" y1=\"78.9375\" y2=\"78.9375\"/><text fill=\"#000000\" font-family=\"sans-serif\" font-size=\"11\" lengthAdjust=\"spacingAndGlyphs\" textLength=\"17\" x=\"38.5\" y=\"109.9526\">act</text><text fill=\"#000000\" font-family=\"sans-serif\" font-size=\"11\" lengthAdjust=\"spacingAndGlyphs\" textLength=\"7\" x=\"38.5\" y=\"122.7573\">A</text><text fill=\"#000000\" font-family=\"sans-serif\" font-size=\"11\" lengthAdjust=\"spacingAndGlyphs\" textLength=\"8\" x=\"38.5\" y=\"135.562\">B</text><line style=\"stroke: #383838; stroke-width: 1.0;\" x1=\"33.5\" x2=\"36.5\" y1=\"93.3398\" y2=\"93.3398\"/><text fill=\"#000000\" font-family=\"sans-serif\" font-size=\"11\" lengthAdjust=\"spacingAndGlyphs\" textLength=\"87\" x=\"36.5\" y=\"96.6479\">performActions</text><line style=\"stroke: #383838; stroke-width: 1.0;\" x1=\"123.5\" x2=\"126.5\" y1=\"93.3398\" y2=\"93.3398\"/><text fill=\"#000000\" font-family=\"sans-serif\" font-size=\"11\" lengthAdjust=\"spacingAndGlyphs\" textLength=\"15\" x=\"38.5\" y=\"165.1714\">S1</text><line style=\"stroke: #383838; stroke-width: 1.0;\" x1=\"33.5\" x2=\"62\" y1=\"148.5586\" y2=\"148.5586\"/><text fill=\"#000000\" font-family=\"sans-serif\" font-size=\"11\" lengthAdjust=\"spacingAndGlyphs\" textLength=\"36\" x=\"62\" y=\"151.8667\">states</text><line style=\"stroke: #383838; stroke-width: 1.0;\" x1=\"98\" x2=\"126.5\" y1=\"148.5586\" y2=\"148.5586\"/><text fill=\"#000000\" font-family=\"sans-serif\" font-size=\"11\" lengthAdjust=\"spacingAndGlyphs\" textLength=\"7\" x=\"38.5\" y=\"194.7808\">T</text><line style=\"stroke: #383838; stroke-width: 1.0;\" x1=\"33.5\" x2=\"49.5\" y1=\"178.168\" y2=\"178.168\"/><text fill=\"#000000\" font-family=\"sans-serif\" font-size=\"11\" lengthAdjust=\"spacingAndGlyphs\" textLength=\"61\" x=\"49.5\" y=\"181.4761\">transitions</text><line style=\"stroke: #383838; stroke-width: 1.0;\" x1=\"110.5\" x2=\"126.5\" y1=\"178.168\" y2=\"178.168\"/></a><!--MD5=[1dd1bfd58a279cf63c5f349dbc8fc6a1]\n",
       "class E11--><a href=\"psysml:15193c6f-79c7-4ee2-a2ac-bfb559b7d876\" target=\"_top\" title=\"psysml:15193c6f-79c7-4ee2-a2ac-bfb559b7d876\" xlink:actuate=\"onRequest\" xlink:href=\"psysml:15193c6f-79c7-4ee2-a2ac-bfb559b7d876\" xlink:show=\"new\" xlink:title=\"psysml:15193c6f-79c7-4ee2-a2ac-bfb559b7d876\" xlink:type=\"simple\"><rect fill=\"#FFFFFF\" height=\"45.9375\" id=\"E11\" rx=\"10\" ry=\"10\" style=\"stroke: #383838; stroke-width: 1.5;\" width=\"49\" x=\"55.5\" y=\"261\"/><text fill=\"#000000\" font-family=\"sans-serif\" font-size=\"12\" font-style=\"italic\" lengthAdjust=\"spacingAndGlyphs\" textLength=\"47\" x=\"56.5\" y=\"277.1387\">«state»</text><text fill=\"#000000\" font-family=\"sans-serif\" font-size=\"12\" lengthAdjust=\"spacingAndGlyphs\" textLength=\"16\" x=\"72\" y=\"291.1074\">S2</text><line style=\"stroke: #383838; stroke-width: 1.5;\" x1=\"56.5\" x2=\"103.5\" y1=\"298.9375\" y2=\"298.9375\"/></a><!--MD5=[49a0ec8f00dab7302a31f22d0f0fe584]\n",
       "class E12--><a href=\"psysml:02a264b3-17c4-490c-b5b1-f49bb5aa02c2\" target=\"_top\" title=\"psysml:02a264b3-17c4-490c-b5b1-f49bb5aa02c2\" xlink:actuate=\"onRequest\" xlink:href=\"psysml:02a264b3-17c4-490c-b5b1-f49bb5aa02c2\" xlink:show=\"new\" xlink:title=\"psysml:02a264b3-17c4-490c-b5b1-f49bb5aa02c2\" xlink:type=\"simple\"><rect fill=\"#FFFFFF\" height=\"75.5469\" id=\"E12\" rx=\"10\" ry=\"10\" style=\"stroke: #383838; stroke-width: 1.5;\" width=\"90\" x=\"35\" y=\"367\"/><text fill=\"#000000\" font-family=\"sans-serif\" font-size=\"12\" font-style=\"italic\" lengthAdjust=\"spacingAndGlyphs\" textLength=\"88\" x=\"36\" y=\"383.1387\">«send action»</text><text fill=\"#000000\" font-family=\"sans-serif\" font-size=\"12\" lengthAdjust=\"spacingAndGlyphs\" textLength=\"55\" x=\"52.5\" y=\"397.1074\">doAction</text><line style=\"stroke: #383838; stroke-width: 1.5;\" x1=\"36\" x2=\"124\" y1=\"404.9375\" y2=\"404.9375\"/><text fill=\"#000000\" font-family=\"sans-serif\" font-size=\"11\" lengthAdjust=\"spacingAndGlyphs\" textLength=\"25\" x=\"41\" y=\"435.9526\">item</text><line style=\"stroke: #383838; stroke-width: 1.0;\" x1=\"36\" x2=\"42.5\" y1=\"419.3398\" y2=\"419.3398\"/><text fill=\"#000000\" font-family=\"sans-serif\" font-size=\"11\" lengthAdjust=\"spacingAndGlyphs\" textLength=\"75\" x=\"42.5\" y=\"422.6479\">itemFeatures</text><line style=\"stroke: #383838; stroke-width: 1.0;\" x1=\"117.5\" x2=\"124\" y1=\"419.3398\" y2=\"419.3398\"/></a><!--MD5=[1f5f03483f7de0d5b3680a7f6650997f]\n",
       "reverse link E6 to E11--><a href=\"psysml:15193c6f-79c7-4ee2-a2ac-bfb559b7d876\" target=\"_top\" title=\"psysml:15193c6f-79c7-4ee2-a2ac-bfb559b7d876\" xlink:actuate=\"onRequest\" xlink:href=\"psysml:15193c6f-79c7-4ee2-a2ac-bfb559b7d876\" xlink:show=\"new\" xlink:title=\"psysml:15193c6f-79c7-4ee2-a2ac-bfb559b7d876\" xlink:type=\"simple\"><path d=\"M80,214.17 C80,231.58 80,248.25 80,260.82 \" fill=\"none\" id=\"E6&lt;-E11\" style=\"stroke: #383838; stroke-width: 1.0;\"/><polygon fill=\"#383838\" points=\"80,201.09,76.0066,207.0944,80.0132,213.09,84.0066,207.0856,80,201.09\" style=\"stroke: #383838; stroke-width: 1.0;\"/></a><!--MD5=[94adabc162ce7e41b39f13be14fbaeb3]\n",
       "reverse link E11 to E12--><a href=\"psysml:02a264b3-17c4-490c-b5b1-f49bb5aa02c2\" target=\"_top\" title=\"psysml:02a264b3-17c4-490c-b5b1-f49bb5aa02c2\" xlink:actuate=\"onRequest\" xlink:href=\"psysml:02a264b3-17c4-490c-b5b1-f49bb5aa02c2\" xlink:show=\"new\" xlink:title=\"psysml:02a264b3-17c4-490c-b5b1-f49bb5aa02c2\" xlink:type=\"simple\"><path d=\"M80,320.23 C80,334.82 80,351.76 80,366.58 \" fill=\"none\" id=\"E11&lt;-E12\" style=\"stroke: #383838; stroke-width: 1.0;\"/><polygon fill=\"#FFFFFF\" points=\"80,307.1,76,313.1,80,319.1,84,313.1,80,307.1\" style=\"stroke: #383838; stroke-width: 1.0;\"/></a><!--MD5=[95394e3004e76b60dac6029901c76bcf]\n",
       "@startuml\r\n",
       "top to bottom direction\r\n",
       "skinparam monochrome true\r\n",
       "skinparam classbackgroundcolor white\r\n",
       "skinparam shadowing false\r\n",
       "skinparam wrapWidth 300\r\n",
       "hide circle\r\n",
       "\r\n",
       "package \"StateTest\" as E1  [[psysml:9c548ee6-d869-4820-b951-32f5a4e72165 ]]  {\r\n",
       "comp def \"Sig\" as E2  <<(T,blue)attribute def>> [[psysml:7a2ca9b4-3a97-4e8a-92f8-a9f50dc832cb ]] {\r\n",
       "- - attributes - -\r\n",
       "x\r\n",
       "}\r\n",
       "comp def \"Exit\" as E3  <<(T,blue)attribute def>> [[psysml:30361623-caf7-482c-9813-174242dd8f3c ]] {\r\n",
       "}\r\n",
       "comp usage \"p\" as E4  <<(T,blue)part>> [[psysml:86d86843-d597-4d6e-917a-885d695bc43d ]] {\r\n",
       "}\r\n",
       "comp usage \"act\" as E5  <<(T,blue)action>> [[psysml:6cb3785d-90e3-4021-b607-f0ab9874924c ]] {\r\n",
       "}\r\n",
       "comp def \"S\" as E6  <<(T,blue)state def>> [[psysml:409d967c-2b55-4985-b068-ed253d96c58c ]] {\r\n",
       "- - performActions - -\r\n",
       "act\r\n",
       "A\r\n",
       "B\r\n",
       "- - states - -\r\n",
       "S1\r\n",
       "- - transitions - -\r\n",
       "T\r\n",
       "}\r\n",
       "comp usage \"S2\" as E11  <<(T,blue)state>> [[psysml:15193c6f-79c7-4ee2-a2ac-bfb559b7d876 ]] {\r\n",
       "}\r\n",
       "comp usage \"doAction\" as E12 <<send action>> [[psysml:02a264b3-17c4-490c-b5b1-f49bb5aa02c2 ]] {\r\n",
       "- - itemFeatures - -\r\n",
       "item\r\n",
       "}\r\n",
       "E6 *- - E11 [[psysml:15193c6f-79c7-4ee2-a2ac-bfb559b7d876 ]] \r\n",
       "E11 o- - E12 [[psysml:02a264b3-17c4-490c-b5b1-f49bb5aa02c2 ]] \r\n",
       "}\r\n",
       "@enduml\r\n",
       "\n",
       "PlantUML version 1.2020.13(Sat Jun 13 12:26:38 UTC 2020)\n",
       "(EPL source distribution)\n",
       "Java Runtime: OpenJDK Runtime Environment\n",
       "JVM: OpenJDK 64-Bit Server VM\n",
       "Default Encoding: UTF-8\n",
       "Language: en\n",
       "Country: null\n",
       "--></g></svg>"
      ]
     },
     "execution_count": 45,
     "metadata": {},
     "output_type": "execute_result"
    }
   ],
   "source": [
    "%viz --style=\"TB\" --view=\"Tree\" \"StateTest\""
   ]
  },
  {
   "cell_type": "code",
   "execution_count": 46,
   "id": "ruled-shadow",
   "metadata": {
    "execution": {
     "iopub.execute_input": "2021-03-26T09:13:55.948645Z",
     "iopub.status.busy": "2021-03-26T09:13:55.948215Z",
     "iopub.status.idle": "2021-03-26T09:13:55.974278Z",
     "shell.execute_reply": "2021-03-26T09:13:55.973149Z"
    }
   },
   "outputs": [
    {
     "data": {
      "image/svg+xml": [
       "<?xml version=\"1.0\" encoding=\"UTF-8\" standalone=\"no\"?><svg xmlns=\"http://www.w3.org/2000/svg\" xmlns:xlink=\"http://www.w3.org/1999/xlink\" contentScriptType=\"application/ecmascript\" contentStyleType=\"text/css\" height=\"475px\" preserveAspectRatio=\"none\" style=\"width:346px;height:475px;\" version=\"1.1\" viewBox=\"0 0 346 475\" width=\"346px\" zoomAndPan=\"magnify\"><defs/><g><!--MD5=[fbc87193dbaf4d95561dea2c320d4a47]\n",
       "cluster E1--><a href=\"psysml:409d967c-2b55-4985-b068-ed253d96c58c\" target=\"_top\" title=\"psysml:409d967c-2b55-4985-b068-ed253d96c58c\" xlink:actuate=\"onRequest\" xlink:href=\"psysml:409d967c-2b55-4985-b068-ed253d96c58c\" xlink:show=\"new\" xlink:title=\"psysml:409d967c-2b55-4985-b068-ed253d96c58c\" xlink:type=\"simple\"><rect fill=\"#FFFFFF\" height=\"457\" id=\"E1\" style=\"stroke: #383838; stroke-width: 1.5;\" width=\"327\" x=\"7\" y=\"7\"/><rect fill=\"#F8F8F8\" height=\"37.9375\" style=\"stroke: #383838; stroke-width: 1.5;\" width=\"327\" x=\"7\" y=\"7\"/><text fill=\"#000000\" font-family=\"sans-serif\" font-size=\"12\" font-style=\"italic\" lengthAdjust=\"spacingAndGlyphs\" textLength=\"71\" x=\"135\" y=\"23.1387\">«state def»</text><text fill=\"#000000\" font-family=\"sans-serif\" font-size=\"12\" lengthAdjust=\"spacingAndGlyphs\" textLength=\"8\" x=\"166.5\" y=\"37.1074\">S</text><line style=\"stroke: #383838; stroke-width: 1.0;\" x1=\"7\" x2=\"334\" y1=\"90.8438\" y2=\"90.8438\"/><text fill=\"#000000\" font-family=\"sans-serif\" font-size=\"12\" font-weight=\"bold\" lengthAdjust=\"spacingAndGlyphs\" textLength=\"38\" x=\"12\" y=\"58.0762\">entry</text><text fill=\"#000000\" font-family=\"sans-serif\" font-size=\"12\" lengthAdjust=\"spacingAndGlyphs\" textLength=\"16\" x=\"50\" y=\"58.0762\">/ A</text><text fill=\"#000000\" font-family=\"sans-serif\" font-size=\"12\" font-weight=\"bold\" lengthAdjust=\"spacingAndGlyphs\" textLength=\"18\" x=\"12\" y=\"72.0449\">do</text><text fill=\"#000000\" font-family=\"sans-serif\" font-size=\"12\" lengthAdjust=\"spacingAndGlyphs\" textLength=\"16\" x=\"30\" y=\"72.0449\">/ B</text><text fill=\"#000000\" font-family=\"sans-serif\" font-size=\"12\" font-weight=\"bold\" lengthAdjust=\"spacingAndGlyphs\" textLength=\"26\" x=\"12\" y=\"86.0137\">exit</text><text fill=\"#000000\" font-family=\"sans-serif\" font-size=\"12\" lengthAdjust=\"spacingAndGlyphs\" textLength=\"28\" x=\"38\" y=\"86.0137\">/ act</text></a><ellipse cx=\"119\" cy=\"115\" fill=\"#000000\" rx=\"10\" ry=\"10\" style=\"stroke: none; stroke-width: 1.0;\"/><ellipse cx=\"119\" cy=\"438\" fill=\"none\" rx=\"10\" ry=\"10\" style=\"stroke: #000000; stroke-width: 1.0;\"/><ellipse cx=\"119.5\" cy=\"438.5\" fill=\"#000000\" rx=\"6\" ry=\"6\" style=\"stroke: none; stroke-width: 1.0;\"/><g id=\"E1.E2\"><a href=\"psysml:5ea02985-bc8b-4cb1-bb08-c3caa7c881e0\" target=\"_top\" title=\"psysml:5ea02985-bc8b-4cb1-bb08-c3caa7c881e0\" xlink:actuate=\"onRequest\" xlink:href=\"psysml:5ea02985-bc8b-4cb1-bb08-c3caa7c881e0\" xlink:show=\"new\" xlink:title=\"psysml:5ea02985-bc8b-4cb1-bb08-c3caa7c881e0\" xlink:type=\"simple\"><rect fill=\"#FFFFFF\" height=\"40\" id=\"E2\" rx=\"10\" ry=\"10\" style=\"stroke: #383838; stroke-width: 1.5;\" width=\"50\" x=\"94\" y=\"186\"/><rect fill=\"#F8F8F8\" height=\"23.9688\" rx=\"10\" ry=\"10\" style=\"stroke: #F8F8F8; stroke-width: 1.5;\" width=\"50\" x=\"94\" y=\"186\"/><rect fill=\"#F8F8F8\" height=\"10\" style=\"stroke: #F8F8F8; stroke-width: 1.5;\" width=\"50\" x=\"94\" y=\"199.9688\"/><rect fill=\"none\" height=\"40\" id=\"E2\" rx=\"10\" ry=\"10\" style=\"stroke: #383838; stroke-width: 1.5;\" width=\"50\" x=\"94\" y=\"186\"/><text fill=\"#000000\" font-family=\"sans-serif\" font-size=\"12\" lengthAdjust=\"spacingAndGlyphs\" textLength=\"16\" x=\"111\" y=\"202.1387\">S1</text></a></g><g id=\"E1.E3\"><a href=\"psysml:15193c6f-79c7-4ee2-a2ac-bfb559b7d876\" target=\"_top\" title=\"psysml:15193c6f-79c7-4ee2-a2ac-bfb559b7d876\" xlink:actuate=\"onRequest\" xlink:href=\"psysml:15193c6f-79c7-4ee2-a2ac-bfb559b7d876\" xlink:show=\"new\" xlink:title=\"psysml:15193c6f-79c7-4ee2-a2ac-bfb559b7d876\" xlink:type=\"simple\"><rect fill=\"#FFFFFF\" height=\"47.9375\" id=\"E3\" rx=\"10\" ry=\"10\" style=\"stroke: #383838; stroke-width: 1.5;\" width=\"50\" x=\"94\" y=\"303\"/><rect fill=\"#F8F8F8\" height=\"23.9688\" rx=\"10\" ry=\"10\" style=\"stroke: #F8F8F8; stroke-width: 1.5;\" width=\"50\" x=\"94\" y=\"303\"/><rect fill=\"#F8F8F8\" height=\"10\" style=\"stroke: #F8F8F8; stroke-width: 1.5;\" width=\"50\" x=\"94\" y=\"316.9688\"/><rect fill=\"none\" height=\"47.9375\" id=\"E3\" rx=\"10\" ry=\"10\" style=\"stroke: #383838; stroke-width: 1.5;\" width=\"50\" x=\"94\" y=\"303\"/><text fill=\"#000000\" font-family=\"sans-serif\" font-size=\"12\" lengthAdjust=\"spacingAndGlyphs\" textLength=\"16\" x=\"111\" y=\"319.1387\">S2</text><line style=\"stroke: #383838; stroke-width: 1.0;\" x1=\"94\" x2=\"144\" y1=\"326.9688\" y2=\"326.9688\"/><text fill=\"#000000\" font-family=\"sans-serif\" font-size=\"12\" font-weight=\"bold\" lengthAdjust=\"spacingAndGlyphs\" textLength=\"18\" x=\"99\" y=\"340.1074\">do</text><text fill=\"#000000\" font-family=\"sans-serif\" font-size=\"12\" lengthAdjust=\"spacingAndGlyphs\" textLength=\"4\" x=\"117\" y=\"340.1074\">/</text></a></g><!--MD5=[cff944eb183b832d446717a4e202d613]\n",
       "link *start*E1 to E2--><a href=\"psysml:50e6b136-bb64-4da5-b9f3-893462631a2b\" target=\"_top\" title=\"psysml:50e6b136-bb64-4da5-b9f3-893462631a2b\" xlink:actuate=\"onRequest\" xlink:href=\"psysml:50e6b136-bb64-4da5-b9f3-893462631a2b\" xlink:show=\"new\" xlink:title=\"psysml:50e6b136-bb64-4da5-b9f3-893462631a2b\" xlink:type=\"simple\"><path d=\"M119,125.19 C119,138.18 119,162.38 119,180.73 \" fill=\"none\" id=\"*start*E1-&gt;E2\" style=\"stroke: #383838; stroke-width: 1.0;\"/><polygon fill=\"#383838\" points=\"119,185.74,123,176.74,119,180.74,115,176.74,119,185.74\" style=\"stroke: #383838; stroke-width: 1.0;\"/></a><!--MD5=[9ee7afa76ca8c509b3d216624c3a9893]\n",
       "link E3 to *end*E1--><a href=\"psysml:400438d1-4a79-4175-ae6b-80e92b548ca9\" target=\"_top\" title=\"psysml:400438d1-4a79-4175-ae6b-80e92b548ca9\" xlink:actuate=\"onRequest\" xlink:href=\"psysml:400438d1-4a79-4175-ae6b-80e92b548ca9\" xlink:show=\"new\" xlink:title=\"psysml:400438d1-4a79-4175-ae6b-80e92b548ca9\" xlink:type=\"simple\"><path d=\"M119,351.12 C119,372.75 119,404.39 119,422.62 \" fill=\"none\" id=\"E3-&gt;*end*E1\" style=\"stroke: #383838; stroke-width: 1.0;\"/><polygon fill=\"#383838\" points=\"119,427.82,123,418.82,119,422.82,115,418.82,119,427.82\" style=\"stroke: #383838; stroke-width: 1.0;\"/><text fill=\"#000000\" font-family=\"sans-serif\" font-size=\"13\" lengthAdjust=\"spacingAndGlyphs\" textLength=\"23\" x=\"120\" y=\"394.0669\">Exit</text></a><!--MD5=[2720a5a1f2c3fca2055b230370638851]\n",
       "link E2 to E3--><a href=\"psysml:516b9b87-0f3c-4a45-97aa-978805331ddd\" target=\"_top\" title=\"psysml:516b9b87-0f3c-4a45-97aa-978805331ddd\" xlink:actuate=\"onRequest\" xlink:href=\"psysml:516b9b87-0f3c-4a45-97aa-978805331ddd\" xlink:show=\"new\" xlink:title=\"psysml:516b9b87-0f3c-4a45-97aa-978805331ddd\" xlink:type=\"simple\"><path d=\"M93.93,218.88 C79.69,227.12 63.12,239.56 55,256 C44.11,278.05 67.72,298.2 89.27,311.16 \" fill=\"none\" id=\"E2-&gt;E3\" style=\"stroke: #383838; stroke-width: 1.0;\"/><polygon fill=\"#383838\" points=\"93.83,313.82,88.0682,305.8324,89.5101,311.3024,84.0401,312.7443,93.83,313.82\" style=\"stroke: #383838; stroke-width: 1.0;\"/><text fill=\"#000000\" font-family=\"sans-serif\" font-size=\"13\" lengthAdjust=\"spacingAndGlyphs\" textLength=\"81\" x=\"56\" y=\"269.0669\">Sig /action D</text></a><!--MD5=[05d275557350bfb9b23a4ef7222b4c39]\n",
       "link E3 to E2--><a href=\"psysml:0976314e-a9f7-4444-bafa-f8883db64fa0\" target=\"_top\" title=\"psysml:0976314e-a9f7-4444-bafa-f8883db64fa0\" xlink:actuate=\"onRequest\" xlink:href=\"psysml:0976314e-a9f7-4444-bafa-f8883db64fa0\" xlink:show=\"new\" xlink:title=\"psysml:0976314e-a9f7-4444-bafa-f8883db64fa0\" xlink:type=\"simple\"><path d=\"M133.17,302.99 C139.81,289.48 145.56,271.98 142,256 C140.1,247.49 136.56,238.72 132.82,230.99 \" fill=\"none\" id=\"E3-&gt;E2\" style=\"stroke: #383838; stroke-width: 1.0;\"/><polygon fill=\"#383838\" points=\"130.47,226.32,130.9298,236.1581,132.7118,230.7893,138.0806,232.5713,130.47,226.32\" style=\"stroke: #383838; stroke-width: 1.0;\"/><text fill=\"#000000\" font-family=\"sans-serif\" font-size=\"13\" lengthAdjust=\"spacingAndGlyphs\" textLength=\"135\" x=\"144\" y=\"269.0669\">Sig [true]/send s to p</text></a><!--MD5=[ba3a63096a70d0a50761ac88b4d6ec62]\n",
       "@startuml\r\n",
       "top to bottom direction\r\n",
       "skinparam monochrome true\r\n",
       "skinparam classbackgroundcolor white\r\n",
       "skinparam shadowing false\r\n",
       "skinparam wrapWidth 300\r\n",
       "hide circle\r\n",
       "\r\n",
       "rec def \"S\" as E1  <<(T,blue)state def>> [[psysml:409d967c-2b55-4985-b068-ed253d96c58c ]] {\r\n",
       "rec usage \"S1\" as E2 [[psysml:5ea02985-bc8b-4cb1-bb08-c3caa7c881e0 ]] {\r\n",
       "}\r\n",
       "\r\n",
       "rec usage \"S2\" as E3 [[psysml:15193c6f-79c7-4ee2-a2ac-bfb559b7d876 ]] {\r\n",
       "desc \"S2\" as E3  : **do**/ \r\n",
       "}\r\n",
       "\r\n",
       "[*] - -> E2 [[psysml:50e6b136-bb64-4da5-b9f3-893462631a2b ]] \r\n",
       "E3  - -> [*] [[psysml:400438d1-4a79-4175-ae6b-80e92b548ca9 ]] : Exit \r\n",
       "desc \"S\" as E1  : **entry**/ A\r\n",
       "desc \"S\" as E1  : **do**/ B\r\n",
       "desc \"S\" as E1  : **exit**/ act \r\n",
       "}\r\n",
       "\r\n",
       "E2  - -> E3 [[psysml:516b9b87-0f3c-4a45-97aa-978805331ddd ]] : Sig /action D\r\n",
       "E3  - -> E2 [[psysml:0976314e-a9f7-4444-bafa-f8883db64fa0 ]] : Sig [true]/send s to p\r\n",
       "@enduml\r\n",
       "\n",
       "PlantUML version 1.2020.13(Sat Jun 13 12:26:38 UTC 2020)\n",
       "(EPL source distribution)\n",
       "Java Runtime: OpenJDK Runtime Environment\n",
       "JVM: OpenJDK 64-Bit Server VM\n",
       "Default Encoding: UTF-8\n",
       "Language: en\n",
       "Country: null\n",
       "--></g></svg>"
      ]
     },
     "execution_count": 46,
     "metadata": {},
     "output_type": "execute_result"
    }
   ],
   "source": [
    "%viz --style=\"TB\" --view=\"State\" \"StateTest\""
   ]
  },
  {
   "cell_type": "code",
   "execution_count": 47,
   "id": "broke-czech",
   "metadata": {
    "execution": {
     "iopub.execute_input": "2021-03-26T09:13:56.025281Z",
     "iopub.status.busy": "2021-03-26T09:13:56.024822Z",
     "iopub.status.idle": "2021-03-26T09:13:56.048212Z",
     "shell.execute_reply": "2021-03-26T09:13:56.046995Z"
    }
   },
   "outputs": [
    {
     "data": {
      "image/svg+xml": [
       "<?xml version=\"1.0\" encoding=\"UTF-8\" standalone=\"no\"?><svg xmlns=\"http://www.w3.org/2000/svg\" xmlns:xlink=\"http://www.w3.org/1999/xlink\" contentScriptType=\"application/ecmascript\" contentStyleType=\"text/css\" height=\"123px\" preserveAspectRatio=\"none\" style=\"width:728px;height:123px;\" version=\"1.1\" viewBox=\"0 0 728 123\" width=\"728px\" zoomAndPan=\"magnify\"><defs/><g><!--MD5=[fbc87193dbaf4d95561dea2c320d4a47]\n",
       "cluster E1--><a href=\"psysml:9c548ee6-d869-4820-b951-32f5a4e72165\" target=\"_top\" title=\"psysml:9c548ee6-d869-4820-b951-32f5a4e72165\" xlink:actuate=\"onRequest\" xlink:href=\"psysml:9c548ee6-d869-4820-b951-32f5a4e72165\" xlink:show=\"new\" xlink:title=\"psysml:9c548ee6-d869-4820-b951-32f5a4e72165\" xlink:type=\"simple\"><polygon fill=\"#FFFFFF\" points=\"16,6,98,6,105,28.2969,706,28.2969,706,111,16,111,16,6\" style=\"stroke: #000000; stroke-width: 1.5;\"/><line style=\"stroke: #000000; stroke-width: 1.5;\" x1=\"16\" x2=\"105\" y1=\"28.2969\" y2=\"28.2969\"/><text fill=\"#000000\" font-family=\"sans-serif\" font-size=\"14\" font-weight=\"bold\" lengthAdjust=\"spacingAndGlyphs\" textLength=\"76\" x=\"20\" y=\"20.9951\">StateTest</text></a><!--MD5=[b4997ac47864f28c2f74865a473b2911]\n",
       "class E2--><a href=\"psysml:7a2ca9b4-3a97-4e8a-92f8-a9f50dc832cb\" target=\"_top\" title=\"psysml:7a2ca9b4-3a97-4e8a-92f8-a9f50dc832cb\" xlink:actuate=\"onRequest\" xlink:href=\"psysml:7a2ca9b4-3a97-4e8a-92f8-a9f50dc832cb\" xlink:show=\"new\" xlink:title=\"psysml:7a2ca9b4-3a97-4e8a-92f8-a9f50dc832cb\" xlink:type=\"simple\"><rect fill=\"#FFFFFF\" height=\"53.9375\" id=\"E2\" style=\"stroke: #383838; stroke-width: 1.5;\" width=\"143\" x=\"546.5\" y=\"41\"/><text fill=\"#000000\" font-family=\"sans-serif\" font-size=\"12\" font-style=\"italic\" lengthAdjust=\"spacingAndGlyphs\" textLength=\"141\" x=\"547.5\" y=\"57.1387\">«(T,blue)attribute def»</text><text fill=\"#000000\" font-family=\"sans-serif\" font-size=\"12\" lengthAdjust=\"spacingAndGlyphs\" textLength=\"19\" x=\"608.5\" y=\"71.1074\">Sig</text><line style=\"stroke: #383838; stroke-width: 1.5;\" x1=\"547.5\" x2=\"688.5\" y1=\"78.9375\" y2=\"78.9375\"/><line style=\"stroke: #383838; stroke-width: 1.5;\" x1=\"547.5\" x2=\"688.5\" y1=\"86.9375\" y2=\"86.9375\"/></a><!--MD5=[09b614a08d8cba4a07c9adeb5e0fee81]\n",
       "class E3--><a href=\"psysml:30361623-caf7-482c-9813-174242dd8f3c\" target=\"_top\" title=\"psysml:30361623-caf7-482c-9813-174242dd8f3c\" xlink:actuate=\"onRequest\" xlink:href=\"psysml:30361623-caf7-482c-9813-174242dd8f3c\" xlink:show=\"new\" xlink:title=\"psysml:30361623-caf7-482c-9813-174242dd8f3c\" xlink:type=\"simple\"><rect fill=\"#FFFFFF\" height=\"53.9375\" id=\"E3\" style=\"stroke: #383838; stroke-width: 1.5;\" width=\"143\" x=\"368.5\" y=\"41\"/><text fill=\"#000000\" font-family=\"sans-serif\" font-size=\"12\" font-style=\"italic\" lengthAdjust=\"spacingAndGlyphs\" textLength=\"141\" x=\"369.5\" y=\"57.1387\">«(T,blue)attribute def»</text><text fill=\"#000000\" font-family=\"sans-serif\" font-size=\"12\" lengthAdjust=\"spacingAndGlyphs\" textLength=\"22\" x=\"429\" y=\"71.1074\">Exit</text><line style=\"stroke: #383838; stroke-width: 1.5;\" x1=\"369.5\" x2=\"510.5\" y1=\"78.9375\" y2=\"78.9375\"/><line style=\"stroke: #383838; stroke-width: 1.5;\" x1=\"369.5\" x2=\"510.5\" y1=\"86.9375\" y2=\"86.9375\"/></a><!--MD5=[60a26617385b1d2d0262a64233df1f8d]\n",
       "class E6--><a href=\"psysml:409d967c-2b55-4985-b068-ed253d96c58c\" target=\"_top\" title=\"psysml:409d967c-2b55-4985-b068-ed253d96c58c\" xlink:actuate=\"onRequest\" xlink:href=\"psysml:409d967c-2b55-4985-b068-ed253d96c58c\" xlink:show=\"new\" xlink:title=\"psysml:409d967c-2b55-4985-b068-ed253d96c58c\" xlink:type=\"simple\"><rect fill=\"#FFFFFF\" height=\"53.9375\" id=\"E6\" style=\"stroke: #383838; stroke-width: 1.5;\" width=\"121\" x=\"212.5\" y=\"41\"/><text fill=\"#000000\" font-family=\"sans-serif\" font-size=\"12\" font-style=\"italic\" lengthAdjust=\"spacingAndGlyphs\" textLength=\"119\" x=\"213.5\" y=\"57.1387\">«(T,blue)state def»</text><text fill=\"#000000\" font-family=\"sans-serif\" font-size=\"12\" lengthAdjust=\"spacingAndGlyphs\" textLength=\"8\" x=\"269\" y=\"71.1074\">S</text><line style=\"stroke: #383838; stroke-width: 1.5;\" x1=\"213.5\" x2=\"332.5\" y1=\"78.9375\" y2=\"78.9375\"/><line style=\"stroke: #383838; stroke-width: 1.5;\" x1=\"213.5\" x2=\"332.5\" y1=\"86.9375\" y2=\"86.9375\"/></a><g id=\"E1.E4\"><a href=\"psysml:86d86843-d597-4d6e-917a-885d695bc43d\" target=\"_top\" title=\"psysml:86d86843-d597-4d6e-917a-885d695bc43d\" xlink:actuate=\"onRequest\" xlink:href=\"psysml:86d86843-d597-4d6e-917a-885d695bc43d\" xlink:show=\"new\" xlink:title=\"psysml:86d86843-d597-4d6e-917a-885d695bc43d\" xlink:type=\"simple\"><rect fill=\"#FFFFFF\" height=\"40\" id=\"E4\" rx=\"10\" ry=\"10\" style=\"stroke: #383838; stroke-width: 1.5;\" width=\"50\" x=\"127\" y=\"48\"/><rect fill=\"#F8F8F8\" height=\"23.9688\" rx=\"10\" ry=\"10\" style=\"stroke: #F8F8F8; stroke-width: 1.5;\" width=\"50\" x=\"127\" y=\"48\"/><rect fill=\"#F8F8F8\" height=\"10\" style=\"stroke: #F8F8F8; stroke-width: 1.5;\" width=\"50\" x=\"127\" y=\"61.9688\"/><rect fill=\"none\" height=\"40\" id=\"E4\" rx=\"10\" ry=\"10\" style=\"stroke: #383838; stroke-width: 1.5;\" width=\"50\" x=\"127\" y=\"48\"/><text fill=\"#000000\" font-family=\"sans-serif\" font-size=\"12\" lengthAdjust=\"spacingAndGlyphs\" textLength=\"8\" x=\"148\" y=\"64.1387\">p</text></a></g><g id=\"E1.E5\"><a href=\"psysml:6cb3785d-90e3-4021-b607-f0ab9874924c\" target=\"_top\" title=\"psysml:6cb3785d-90e3-4021-b607-f0ab9874924c\" xlink:actuate=\"onRequest\" xlink:href=\"psysml:6cb3785d-90e3-4021-b607-f0ab9874924c\" xlink:show=\"new\" xlink:title=\"psysml:6cb3785d-90e3-4021-b607-f0ab9874924c\" xlink:type=\"simple\"><rect fill=\"#FFFFFF\" height=\"42.9375\" id=\"E5\" rx=\"10\" ry=\"10\" style=\"stroke: #383838; stroke-width: 1.5;\" width=\"60\" x=\"32\" y=\"46.5\"/><rect fill=\"#F8F8F8\" height=\"37.9375\" rx=\"10\" ry=\"10\" style=\"stroke: #F8F8F8; stroke-width: 1.5;\" width=\"60\" x=\"32\" y=\"46.5\"/><rect fill=\"#F8F8F8\" height=\"10\" style=\"stroke: #F8F8F8; stroke-width: 1.5;\" width=\"60\" x=\"32\" y=\"74.4375\"/><rect fill=\"none\" height=\"42.9375\" id=\"E5\" rx=\"10\" ry=\"10\" style=\"stroke: #383838; stroke-width: 1.5;\" width=\"60\" x=\"32\" y=\"46.5\"/><text fill=\"#000000\" font-family=\"sans-serif\" font-size=\"12\" font-style=\"italic\" lengthAdjust=\"spacingAndGlyphs\" textLength=\"53\" x=\"35.5\" y=\"62.6387\">«action»</text><text fill=\"#000000\" font-family=\"sans-serif\" font-size=\"12\" lengthAdjust=\"spacingAndGlyphs\" textLength=\"20\" x=\"52\" y=\"76.6074\">act</text></a></g><!--MD5=[3319effb97ea89045ec28f8997930722]\n",
       "@startuml\r\n",
       "skinparam ranksep 8\r\n",
       "skinparam rectangle {\r\n",
       " backgroundColor<<block>> LightGreen\r\n",
       "}\r\n",
       "top to bottom direction\r\n",
       "skinparam monochrome true\r\n",
       "skinparam classbackgroundcolor white\r\n",
       "skinparam shadowing false\r\n",
       "skinparam wrapWidth 300\r\n",
       "hide circle\r\n",
       "\r\n",
       "package \"StateTest\" as E1  [[psysml:9c548ee6-d869-4820-b951-32f5a4e72165 ]]  {\r\n",
       "def \"Sig\" as E2  <<(T,blue)attribute def>> [[psysml:7a2ca9b4-3a97-4e8a-92f8-a9f50dc832cb ]] \r\n",
       "def \"Exit\" as E3  <<(T,blue)attribute def>> [[psysml:30361623-caf7-482c-9813-174242dd8f3c ]] \r\n",
       "rec usage \"p\" as E4  [[psysml:86d86843-d597-4d6e-917a-885d695bc43d ]] {\r\n",
       "}\r\n",
       "rec usage \"act\" as E5  <<(T,blue)action>> [[psysml:6cb3785d-90e3-4021-b607-f0ab9874924c ]] {\r\n",
       "}\r\n",
       "def \"S\" as E6  <<(T,blue)state def>> [[psysml:409d967c-2b55-4985-b068-ed253d96c58c ]] \r\n",
       "}\r\n",
       "@enduml\r\n",
       "\n",
       "PlantUML version 1.2020.13(Sat Jun 13 12:26:38 UTC 2020)\n",
       "(EPL source distribution)\n",
       "Java Runtime: OpenJDK Runtime Environment\n",
       "JVM: OpenJDK 64-Bit Server VM\n",
       "Default Encoding: UTF-8\n",
       "Language: en\n",
       "Country: null\n",
       "--></g></svg>"
      ]
     },
     "execution_count": 47,
     "metadata": {},
     "output_type": "execute_result"
    }
   ],
   "source": [
    "%viz --style=\"TB\" --view=\"Interconnection\" \"StateTest\""
   ]
  },
  {
   "cell_type": "code",
   "execution_count": 48,
   "id": "interested-sending",
   "metadata": {
    "execution": {
     "iopub.execute_input": "2021-03-26T09:13:56.098634Z",
     "iopub.status.busy": "2021-03-26T09:13:56.098261Z",
     "iopub.status.idle": "2021-03-26T09:13:56.115161Z",
     "shell.execute_reply": "2021-03-26T09:13:56.113715Z"
    }
   },
   "outputs": [
    {
     "data": {
      "image/svg+xml": [
       "<?xml version=\"1.0\" encoding=\"UTF-8\" standalone=\"no\"?><svg xmlns=\"http://www.w3.org/2000/svg\" xmlns:xlink=\"http://www.w3.org/1999/xlink\" contentScriptType=\"application/ecmascript\" contentStyleType=\"text/css\" height=\"595px\" preserveAspectRatio=\"none\" style=\"width:794px;height:595px;background:#000000;\" version=\"1.1\" viewBox=\"0 0 794 595\" width=\"794px\" zoomAndPan=\"magnify\"><defs/><g><rect fill=\"#0A0C1C\" height=\"1\" style=\"stroke: #0A0C1C; stroke-width: 1.0;\" width=\"1\" x=\"0\" y=\"0\"/><rect fill=\"#FFFFFF\" height=\"53\" style=\"stroke: #FFFFFF; stroke-width: 1.0;\" width=\"793\" x=\"0\" y=\"0\"/><image height=\"53\" width=\"450\" x=\"1\" xlink:href=\"data:image/png;base64,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\" y=\"1\"/><rect fill=\"#000000\" height=\"487.6094\" style=\"stroke: #000000; stroke-width: 1.0;\" width=\"793\" x=\"0\" y=\"53\"/><rect fill=\"#33FF02\" height=\"21.2969\" style=\"stroke: #33FF02; stroke-width: 1.0;\" width=\"783\" x=\"5\" y=\"58\"/><text fill=\"#000000\" font-family=\"sans-serif\" font-size=\"14\" font-weight=\"bold\" lengthAdjust=\"spacingAndGlyphs\" textLength=\"178\" x=\"6\" y=\"73\">[From string (line 26) ]</text><text fill=\"#33FF02\" font-family=\"sans-serif\" font-size=\"14\" font-weight=\"bold\" lengthAdjust=\"spacingAndGlyphs\" textLength=\"0\" x=\"10\" y=\"93.2969\"/><text fill=\"#33FF02\" font-family=\"sans-serif\" font-size=\"14\" font-weight=\"bold\" lengthAdjust=\"spacingAndGlyphs\" textLength=\"79\" x=\"5\" y=\"109.5938\">@startuml</text><text fill=\"#33FF02\" font-family=\"sans-serif\" font-size=\"14\" font-weight=\"bold\" lengthAdjust=\"spacingAndGlyphs\" textLength=\"165\" x=\"5\" y=\"125.8906\">skinparam ranksep 8</text><text fill=\"#33FF02\" font-family=\"sans-serif\" font-size=\"14\" font-weight=\"bold\" lengthAdjust=\"spacingAndGlyphs\" textLength=\"183\" x=\"5\" y=\"142.1875\">top to bottom direction</text><text fill=\"#33FF02\" font-family=\"sans-serif\" font-size=\"14\" font-weight=\"bold\" lengthAdjust=\"spacingAndGlyphs\" textLength=\"228\" x=\"5\" y=\"158.4844\">skinparam monochrome true</text><text fill=\"#33FF02\" font-family=\"sans-serif\" font-size=\"14\" font-weight=\"bold\" lengthAdjust=\"spacingAndGlyphs\" textLength=\"309\" x=\"5\" y=\"174.7813\">skinparam classbackgroundcolor white</text><text fill=\"#33FF02\" font-family=\"sans-serif\" font-size=\"14\" font-weight=\"bold\" lengthAdjust=\"spacingAndGlyphs\" textLength=\"215\" x=\"5\" y=\"191.0781\">skinparam shadowing false</text><text fill=\"#33FF02\" font-family=\"sans-serif\" font-size=\"14\" font-weight=\"bold\" lengthAdjust=\"spacingAndGlyphs\" textLength=\"206\" x=\"5\" y=\"207.375\">skinparam wrapWidth 300</text><text fill=\"#33FF02\" font-family=\"sans-serif\" font-size=\"14\" font-weight=\"bold\" lengthAdjust=\"spacingAndGlyphs\" textLength=\"82\" x=\"5\" y=\"223.6719\">hide circle</text><text fill=\"#33FF02\" font-family=\"sans-serif\" font-size=\"14\" font-weight=\"bold\" lengthAdjust=\"spacingAndGlyphs\" textLength=\"0\" x=\"10\" y=\"239.9688\"/><text fill=\"#33FF02\" font-family=\"sans-serif\" font-size=\"14\" font-weight=\"bold\" lengthAdjust=\"spacingAndGlyphs\" textLength=\"783\" x=\"5\" y=\"256.2656\">rec usage \"act\" as E1  &lt;&lt;(T,blue)action&gt;&gt; [[psysml:6cb3785d-90e3-4021-b607-f0ab9874924c ]] {</text><text fill=\"#33FF02\" font-family=\"sans-serif\" font-size=\"14\" font-weight=\"bold\" lengthAdjust=\"spacingAndGlyphs\" textLength=\"10\" x=\"5\" y=\"272.5625\">}</text><text fill=\"#33FF02\" font-family=\"sans-serif\" font-size=\"14\" font-weight=\"bold\" lengthAdjust=\"spacingAndGlyphs\" textLength=\"0\" x=\"10\" y=\"288.8594\"/><text fill=\"#33FF02\" font-family=\"sans-serif\" font-size=\"14\" font-weight=\"bold\" lengthAdjust=\"spacingAndGlyphs\" textLength=\"774\" x=\"5\" y=\"305.1563\">rec def \"S\" as E2  &lt;&lt;(T,blue)state def&gt;&gt; [[psysml:409d967c-2b55-4985-b068-ed253d96c58c ]] {</text><text fill=\"#33FF02\" font-family=\"sans-serif\" font-size=\"14\" font-weight=\"bold\" lengthAdjust=\"spacingAndGlyphs\" textLength=\"779\" x=\"5\" y=\"321.4531\">rec usage \"A\" as E3 &lt;&lt;perform action&gt;&gt; [[psysml:07283d54-b2b4-4955-9e37-5e3a59051776 ]] {</text><text fill=\"#33FF02\" font-family=\"sans-serif\" font-size=\"14\" font-weight=\"bold\" lengthAdjust=\"spacingAndGlyphs\" textLength=\"10\" x=\"5\" y=\"337.75\">}</text><text fill=\"#33FF02\" font-family=\"sans-serif\" font-size=\"14\" font-weight=\"bold\" lengthAdjust=\"spacingAndGlyphs\" textLength=\"0\" x=\"10\" y=\"354.0469\"/><text fill=\"#33FF02\" font-family=\"sans-serif\" font-size=\"14\" font-weight=\"bold\" lengthAdjust=\"spacingAndGlyphs\" textLength=\"769\" x=\"5\" y=\"370.3438\">rec usage \"B\" as E4 &lt;&lt;perform action&gt;&gt; [[psysml:2d4c422d-af2d-4b90-a848-9846cea61c20 ]] {</text><text fill=\"#33FF02\" font-family=\"sans-serif\" font-size=\"14\" font-weight=\"bold\" lengthAdjust=\"spacingAndGlyphs\" textLength=\"10\" x=\"5\" y=\"386.6406\">}</text><text fill=\"#33FF02\" font-family=\"sans-serif\" font-size=\"14\" font-weight=\"bold\" lengthAdjust=\"spacingAndGlyphs\" textLength=\"0\" x=\"10\" y=\"402.9375\"/><text fill=\"#33FF02\" font-family=\"sans-serif\" font-size=\"14\" font-weight=\"bold\" lengthAdjust=\"spacingAndGlyphs\" textLength=\"769\" x=\"5\" y=\"419.2344\">rec usage \"act\" as E5 &lt;&lt;perform action&gt;&gt; [[psysml:eca97873-f4f2-4a4b-84f1-fbd6bb9f01a4 ]] {</text><text fill=\"#33FF02\" font-family=\"sans-serif\" font-size=\"14\" font-weight=\"bold\" lengthAdjust=\"spacingAndGlyphs\" textLength=\"10\" x=\"5\" y=\"435.5313\">}</text><text fill=\"#33FF02\" font-family=\"sans-serif\" font-size=\"14\" font-weight=\"bold\" lengthAdjust=\"spacingAndGlyphs\" textLength=\"0\" x=\"10\" y=\"451.8281\"/><text fill=\"#33FF02\" font-family=\"sans-serif\" font-size=\"14\" font-weight=\"bold\" lengthAdjust=\"spacingAndGlyphs\" textLength=\"770\" x=\"5\" y=\"468.125\">rec usage \"S1\" as E6  &lt;&lt;(T,blue)state&gt;&gt; [[psysml:5ea02985-bc8b-4cb1-bb08-c3caa7c881e0 ]] {</text><text fill=\"#33FF02\" font-family=\"sans-serif\" font-size=\"14\" font-weight=\"bold\" lengthAdjust=\"spacingAndGlyphs\" textLength=\"10\" x=\"5\" y=\"484.4219\">}</text><text fill=\"#33FF02\" font-family=\"sans-serif\" font-size=\"14\" font-weight=\"bold\" lengthAdjust=\"spacingAndGlyphs\" textLength=\"0\" x=\"10\" y=\"500.7188\"/><text fill=\"#33FF02\" font-family=\"sans-serif\" font-size=\"14\" font-weight=\"bold\" lengthAdjust=\"spacingAndGlyphs\" textLength=\"10\" x=\"5\" y=\"517.0156\">{</text><text fill=\"#FF0000\" font-family=\"sans-serif\" font-size=\"14\" font-weight=\"bold\" lengthAdjust=\"spacingAndGlyphs\" textLength=\"106\" x=\"10\" y=\"533.3125\">Syntax Error?</text><rect fill=\"#FFFFFF\" height=\"53\" style=\"stroke: #FFFFFF; stroke-width: 1.0;\" width=\"793\" x=\"0\" y=\"540.6094\"/><image height=\"53\" width=\"450\" x=\"1\" xlink:href=\"data:image/png;base64,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\" y=\"541.6094\"/><!--MD5=[8b62670579e2c86e95e6e46d788167be]\n",
       "@startuml\r\n",
       "skinparam ranksep 8\r\n",
       "top to bottom direction\r\n",
       "skinparam monochrome true\r\n",
       "skinparam classbackgroundcolor white\r\n",
       "skinparam shadowing false\r\n",
       "skinparam wrapWidth 300\r\n",
       "hide circle\r\n",
       "\r\n",
       "rec usage \"act\" as E1  <<(T,blue)action>> [[psysml:6cb3785d-90e3-4021-b607-f0ab9874924c ]] {\r\n",
       "}\r\n",
       "\r\n",
       "rec def \"S\" as E2  <<(T,blue)state def>> [[psysml:409d967c-2b55-4985-b068-ed253d96c58c ]] {\r\n",
       "rec usage \"A\" as E3 <<perform action>> [[psysml:07283d54-b2b4-4955-9e37-5e3a59051776 ]] {\r\n",
       "}\r\n",
       "\r\n",
       "rec usage \"B\" as E4 <<perform action>> [[psysml:2d4c422d-af2d-4b90-a848-9846cea61c20 ]] {\r\n",
       "}\r\n",
       "\r\n",
       "rec usage \"act\" as E5 <<perform action>> [[psysml:eca97873-f4f2-4a4b-84f1-fbd6bb9f01a4 ]] {\r\n",
       "}\r\n",
       "\r\n",
       "rec usage \"S1\" as E6  <<(T,blue)state>> [[psysml:5ea02985-bc8b-4cb1-bb08-c3caa7c881e0 ]] {\r\n",
       "}\r\n",
       "\r\n",
       "{\r\n",
       "{\r\n",
       "}\r\n",
       "\r\n",
       "rec usage \"D\" as E7 <<perform action>> [[psysml:eaf0a112-33b0-4093-95e1-7dab572fe2f4 ]] {\r\n",
       "}\r\n",
       "\r\n",
       "}\r\n",
       "\r\n",
       "rec usage \"S2\" as E8  <<(T,blue)state>> [[psysml:15193c6f-79c7-4ee2-a2ac-bfb559b7d876 ]] {\r\n",
       "rec usage \"doAction\" as E9 <<send action>> [[psysml:02a264b3-17c4-490c-b5b1-f49bb5aa02c2 ]] {\r\n",
       "portin \"$x\" as E10  [[psysml:96622066-d3a2-4541-bee3-ae5bc19ea7c3 ]] \r\n",
       "portout \"$result\" as E11  [[psysml:b808addd-9ba8-4500-978c-50cd1b025f8a ]] \r\n",
       "}\r\n",
       "\r\n",
       "}\r\n",
       "\r\n",
       "{\r\n",
       "{\r\n",
       "}\r\n",
       "\r\n",
       "}\r\n",
       "\r\n",
       "rec usage \"T\" as E12  <<(T,blue)transition>> [[psysml:0976314e-a9f7-4444-bafa-f8883db64fa0 ]] {\r\n",
       "rec usage \"S2\" as E13  <<(T,blue)state>> [[psysml:15193c6f-79c7-4ee2-a2ac-bfb559b7d876 ]] {\r\n",
       "rec usage \"doAction\" as E14 <<send action>> [[psysml:02a264b3-17c4-490c-b5b1-f49bb5aa02c2 ]] {\r\n",
       "portin \"$x\" as E15  [[psysml:96622066-d3a2-4541-bee3-ae5bc19ea7c3 ]] \r\n",
       "portout \"$result\" as E16  [[psysml:b808addd-9ba8-4500-978c-50cd1b025f8a ]] \r\n",
       "}\r\n",
       "\r\n",
       "}\r\n",
       "\r\n",
       "{\r\n",
       "}\r\n",
       "\r\n",
       "portout \"$result\" as E17  [[psysml:8f7ffd4e-8810-46d2-96d4-50dc0ef167c4 ]] \r\n",
       "{\r\n",
       "}\r\n",
       "\r\n",
       "}\r\n",
       "\r\n",
       "}\r\n",
       "\r\n",
       "@enduml\r\n",
       "\n",
       "PlantUML version 1.2020.13(Sat Jun 13 12:26:38 UTC 2020)\n",
       "(EPL source distribution)\n",
       "Java Runtime: OpenJDK Runtime Environment\n",
       "JVM: OpenJDK 64-Bit Server VM\n",
       "Default Encoding: UTF-8\n",
       "Language: en\n",
       "Country: null\n",
       "--></g></svg>"
      ]
     },
     "execution_count": 48,
     "metadata": {},
     "output_type": "execute_result"
    }
   ],
   "source": [
    "%viz --style=\"TB\" --view=\"Action\" \"StateTest\""
   ]
  },
  {
   "cell_type": "code",
   "execution_count": 49,
   "id": "arranged-annual",
   "metadata": {
    "execution": {
     "iopub.execute_input": "2021-03-26T09:13:56.166767Z",
     "iopub.status.busy": "2021-03-26T09:13:56.165926Z",
     "iopub.status.idle": "2021-03-26T09:13:56.285374Z",
     "shell.execute_reply": "2021-03-26T09:13:56.283797Z"
    }
   },
   "outputs": [
    {
     "data": {
      "image/svg+xml": [
       "<?xml version=\"1.0\" encoding=\"UTF-8\" standalone=\"no\"?><svg xmlns=\"http://www.w3.org/2000/svg\" xmlns:xlink=\"http://www.w3.org/1999/xlink\" contentScriptType=\"application/ecmascript\" contentStyleType=\"text/css\" height=\"471px\" preserveAspectRatio=\"none\" style=\"width:594px;height:471px;\" version=\"1.1\" viewBox=\"0 0 594 471\" width=\"594px\" zoomAndPan=\"magnify\"><defs/><g><!--MD5=[fbc87193dbaf4d95561dea2c320d4a47]\n",
       "cluster E1--><a href=\"psysml:9c548ee6-d869-4820-b951-32f5a4e72165\" target=\"_top\" title=\"psysml:9c548ee6-d869-4820-b951-32f5a4e72165\" xlink:actuate=\"onRequest\" xlink:href=\"psysml:9c548ee6-d869-4820-b951-32f5a4e72165\" xlink:show=\"new\" xlink:title=\"psysml:9c548ee6-d869-4820-b951-32f5a4e72165\" xlink:type=\"simple\"><polygon fill=\"#FFFFFF\" points=\"16,6,98,6,105,28.2969,572,28.2969,572,459,16,459,16,6\" style=\"stroke: #000000; stroke-width: 1.5;\"/><line style=\"stroke: #000000; stroke-width: 1.5;\" x1=\"16\" x2=\"105\" y1=\"28.2969\" y2=\"28.2969\"/><text fill=\"#000000\" font-family=\"sans-serif\" font-size=\"14\" font-weight=\"bold\" lengthAdjust=\"spacingAndGlyphs\" textLength=\"76\" x=\"20\" y=\"20.9951\">StateTest</text></a><!--MD5=[b4997ac47864f28c2f74865a473b2911]\n",
       "class E2--><a href=\"psysml:7a2ca9b4-3a97-4e8a-92f8-a9f50dc832cb\" target=\"_top\" title=\"psysml:7a2ca9b4-3a97-4e8a-92f8-a9f50dc832cb\" xlink:actuate=\"onRequest\" xlink:href=\"psysml:7a2ca9b4-3a97-4e8a-92f8-a9f50dc832cb\" xlink:show=\"new\" xlink:title=\"psysml:7a2ca9b4-3a97-4e8a-92f8-a9f50dc832cb\" xlink:type=\"simple\"><rect fill=\"#FFFFFF\" height=\"75.5469\" id=\"E2\" style=\"stroke: #383838; stroke-width: 1.5;\" width=\"95\" x=\"460.5\" y=\"83\"/><text fill=\"#000000\" font-family=\"sans-serif\" font-size=\"12\" font-style=\"italic\" lengthAdjust=\"spacingAndGlyphs\" textLength=\"93\" x=\"461.5\" y=\"99.1387\">«attribute def»</text><text fill=\"#000000\" font-family=\"sans-serif\" font-size=\"12\" lengthAdjust=\"spacingAndGlyphs\" textLength=\"19\" x=\"498.5\" y=\"113.1074\">Sig</text><line style=\"stroke: #383838; stroke-width: 1.5;\" x1=\"461.5\" x2=\"554.5\" y1=\"120.9375\" y2=\"120.9375\"/><text fill=\"#000000\" font-family=\"sans-serif\" font-size=\"11\" lengthAdjust=\"spacingAndGlyphs\" textLength=\"6\" x=\"466.5\" y=\"151.9526\">x</text><line style=\"stroke: #383838; stroke-width: 1.0;\" x1=\"461.5\" x2=\"480.5\" y1=\"135.3398\" y2=\"135.3398\"/><text fill=\"#000000\" font-family=\"sans-serif\" font-size=\"11\" lengthAdjust=\"spacingAndGlyphs\" textLength=\"55\" x=\"480.5\" y=\"138.6479\">attributes</text><line style=\"stroke: #383838; stroke-width: 1.0;\" x1=\"535.5\" x2=\"554.5\" y1=\"135.3398\" y2=\"135.3398\"/></a><!--MD5=[09b614a08d8cba4a07c9adeb5e0fee81]\n",
       "class E3--><a href=\"psysml:30361623-caf7-482c-9813-174242dd8f3c\" target=\"_top\" title=\"psysml:30361623-caf7-482c-9813-174242dd8f3c\" xlink:actuate=\"onRequest\" xlink:href=\"psysml:30361623-caf7-482c-9813-174242dd8f3c\" xlink:show=\"new\" xlink:title=\"psysml:30361623-caf7-482c-9813-174242dd8f3c\" xlink:type=\"simple\"><rect fill=\"#FFFFFF\" height=\"45.9375\" id=\"E3\" style=\"stroke: #383838; stroke-width: 1.5;\" width=\"95\" x=\"330.5\" y=\"98\"/><text fill=\"#000000\" font-family=\"sans-serif\" font-size=\"12\" font-style=\"italic\" lengthAdjust=\"spacingAndGlyphs\" textLength=\"93\" x=\"331.5\" y=\"114.1387\">«attribute def»</text><text fill=\"#000000\" font-family=\"sans-serif\" font-size=\"12\" lengthAdjust=\"spacingAndGlyphs\" textLength=\"22\" x=\"367\" y=\"128.1074\">Exit</text><line style=\"stroke: #383838; stroke-width: 1.5;\" x1=\"331.5\" x2=\"424.5\" y1=\"135.9375\" y2=\"135.9375\"/></a><!--MD5=[ebbe1d658d1005bcc118a6aa81145e00]\n",
       "class E4--><a href=\"psysml:86d86843-d597-4d6e-917a-885d695bc43d\" target=\"_top\" title=\"psysml:86d86843-d597-4d6e-917a-885d695bc43d\" xlink:actuate=\"onRequest\" xlink:href=\"psysml:86d86843-d597-4d6e-917a-885d695bc43d\" xlink:show=\"new\" xlink:title=\"psysml:86d86843-d597-4d6e-917a-885d695bc43d\" xlink:type=\"simple\"><rect fill=\"#FFFFFF\" height=\"45.9375\" id=\"E4\" rx=\"10\" ry=\"10\" style=\"stroke: #383838; stroke-width: 1.5;\" width=\"42\" x=\"253\" y=\"98\"/><text fill=\"#000000\" font-family=\"sans-serif\" font-size=\"12\" font-style=\"italic\" lengthAdjust=\"spacingAndGlyphs\" textLength=\"40\" x=\"254\" y=\"114.1387\">«part»</text><text fill=\"#000000\" font-family=\"sans-serif\" font-size=\"12\" lengthAdjust=\"spacingAndGlyphs\" textLength=\"8\" x=\"270\" y=\"128.1074\">p</text><line style=\"stroke: #383838; stroke-width: 1.5;\" x1=\"254\" x2=\"294\" y1=\"135.9375\" y2=\"135.9375\"/></a><!--MD5=[270fce915f116d4de14055a7c1d9a0f3]\n",
       "class E5--><a href=\"psysml:6cb3785d-90e3-4021-b607-f0ab9874924c\" target=\"_top\" title=\"psysml:6cb3785d-90e3-4021-b607-f0ab9874924c\" xlink:actuate=\"onRequest\" xlink:href=\"psysml:6cb3785d-90e3-4021-b607-f0ab9874924c\" xlink:show=\"new\" xlink:title=\"psysml:6cb3785d-90e3-4021-b607-f0ab9874924c\" xlink:type=\"simple\"><rect fill=\"#FFFFFF\" height=\"45.9375\" id=\"E5\" rx=\"10\" ry=\"10\" style=\"stroke: #383838; stroke-width: 1.5;\" width=\"55\" x=\"162.5\" y=\"98\"/><text fill=\"#000000\" font-family=\"sans-serif\" font-size=\"12\" font-style=\"italic\" lengthAdjust=\"spacingAndGlyphs\" textLength=\"53\" x=\"163.5\" y=\"114.1387\">«action»</text><text fill=\"#000000\" font-family=\"sans-serif\" font-size=\"12\" lengthAdjust=\"spacingAndGlyphs\" textLength=\"20\" x=\"180\" y=\"128.1074\">act</text><line style=\"stroke: #383838; stroke-width: 1.5;\" x1=\"163.5\" x2=\"216.5\" y1=\"135.9375\" y2=\"135.9375\"/></a><!--MD5=[60a26617385b1d2d0262a64233df1f8d]\n",
       "class E6--><a href=\"psysml:409d967c-2b55-4985-b068-ed253d96c58c\" target=\"_top\" title=\"psysml:409d967c-2b55-4985-b068-ed253d96c58c\" xlink:actuate=\"onRequest\" xlink:href=\"psysml:409d967c-2b55-4985-b068-ed253d96c58c\" xlink:show=\"new\" xlink:title=\"psysml:409d967c-2b55-4985-b068-ed253d96c58c\" xlink:type=\"simple\"><rect fill=\"#FFFFFF\" height=\"160.375\" id=\"E6\" style=\"stroke: #383838; stroke-width: 1.5;\" width=\"95\" x=\"32.5\" y=\"41\"/><text fill=\"#000000\" font-family=\"sans-serif\" font-size=\"12\" font-style=\"italic\" lengthAdjust=\"spacingAndGlyphs\" textLength=\"71\" x=\"44.5\" y=\"57.1387\">«state def»</text><text fill=\"#000000\" font-family=\"sans-serif\" font-size=\"12\" lengthAdjust=\"spacingAndGlyphs\" textLength=\"8\" x=\"76\" y=\"71.1074\">S</text><line style=\"stroke: #383838; stroke-width: 1.5;\" x1=\"33.5\" x2=\"126.5\" y1=\"78.9375\" y2=\"78.9375\"/><text fill=\"#000000\" font-family=\"sans-serif\" font-size=\"11\" lengthAdjust=\"spacingAndGlyphs\" textLength=\"17\" x=\"38.5\" y=\"109.9526\">act</text><text fill=\"#000000\" font-family=\"sans-serif\" font-size=\"11\" lengthAdjust=\"spacingAndGlyphs\" textLength=\"7\" x=\"38.5\" y=\"122.7573\">A</text><text fill=\"#000000\" font-family=\"sans-serif\" font-size=\"11\" lengthAdjust=\"spacingAndGlyphs\" textLength=\"8\" x=\"38.5\" y=\"135.562\">B</text><line style=\"stroke: #383838; stroke-width: 1.0;\" x1=\"33.5\" x2=\"36.5\" y1=\"93.3398\" y2=\"93.3398\"/><text fill=\"#000000\" font-family=\"sans-serif\" font-size=\"11\" lengthAdjust=\"spacingAndGlyphs\" textLength=\"87\" x=\"36.5\" y=\"96.6479\">performActions</text><line style=\"stroke: #383838; stroke-width: 1.0;\" x1=\"123.5\" x2=\"126.5\" y1=\"93.3398\" y2=\"93.3398\"/><text fill=\"#000000\" font-family=\"sans-serif\" font-size=\"11\" lengthAdjust=\"spacingAndGlyphs\" textLength=\"15\" x=\"38.5\" y=\"165.1714\">S1</text><line style=\"stroke: #383838; stroke-width: 1.0;\" x1=\"33.5\" x2=\"62\" y1=\"148.5586\" y2=\"148.5586\"/><text fill=\"#000000\" font-family=\"sans-serif\" font-size=\"11\" lengthAdjust=\"spacingAndGlyphs\" textLength=\"36\" x=\"62\" y=\"151.8667\">states</text><line style=\"stroke: #383838; stroke-width: 1.0;\" x1=\"98\" x2=\"126.5\" y1=\"148.5586\" y2=\"148.5586\"/><text fill=\"#000000\" font-family=\"sans-serif\" font-size=\"11\" lengthAdjust=\"spacingAndGlyphs\" textLength=\"7\" x=\"38.5\" y=\"194.7808\">T</text><line style=\"stroke: #383838; stroke-width: 1.0;\" x1=\"33.5\" x2=\"49.5\" y1=\"178.168\" y2=\"178.168\"/><text fill=\"#000000\" font-family=\"sans-serif\" font-size=\"11\" lengthAdjust=\"spacingAndGlyphs\" textLength=\"61\" x=\"49.5\" y=\"181.4761\">transitions</text><line style=\"stroke: #383838; stroke-width: 1.0;\" x1=\"110.5\" x2=\"126.5\" y1=\"178.168\" y2=\"178.168\"/></a><!--MD5=[1dd1bfd58a279cf63c5f349dbc8fc6a1]\n",
       "class E11--><a href=\"psysml:15193c6f-79c7-4ee2-a2ac-bfb559b7d876\" target=\"_top\" title=\"psysml:15193c6f-79c7-4ee2-a2ac-bfb559b7d876\" xlink:actuate=\"onRequest\" xlink:href=\"psysml:15193c6f-79c7-4ee2-a2ac-bfb559b7d876\" xlink:show=\"new\" xlink:title=\"psysml:15193c6f-79c7-4ee2-a2ac-bfb559b7d876\" xlink:type=\"simple\"><rect fill=\"#FFFFFF\" height=\"45.9375\" id=\"E11\" rx=\"10\" ry=\"10\" style=\"stroke: #383838; stroke-width: 1.5;\" width=\"49\" x=\"55.5\" y=\"261\"/><text fill=\"#000000\" font-family=\"sans-serif\" font-size=\"12\" font-style=\"italic\" lengthAdjust=\"spacingAndGlyphs\" textLength=\"47\" x=\"56.5\" y=\"277.1387\">«state»</text><text fill=\"#000000\" font-family=\"sans-serif\" font-size=\"12\" lengthAdjust=\"spacingAndGlyphs\" textLength=\"16\" x=\"72\" y=\"291.1074\">S2</text><line style=\"stroke: #383838; stroke-width: 1.5;\" x1=\"56.5\" x2=\"103.5\" y1=\"298.9375\" y2=\"298.9375\"/></a><!--MD5=[49a0ec8f00dab7302a31f22d0f0fe584]\n",
       "class E12--><a href=\"psysml:02a264b3-17c4-490c-b5b1-f49bb5aa02c2\" target=\"_top\" title=\"psysml:02a264b3-17c4-490c-b5b1-f49bb5aa02c2\" xlink:actuate=\"onRequest\" xlink:href=\"psysml:02a264b3-17c4-490c-b5b1-f49bb5aa02c2\" xlink:show=\"new\" xlink:title=\"psysml:02a264b3-17c4-490c-b5b1-f49bb5aa02c2\" xlink:type=\"simple\"><rect fill=\"#FFFFFF\" height=\"75.5469\" id=\"E12\" rx=\"10\" ry=\"10\" style=\"stroke: #383838; stroke-width: 1.5;\" width=\"90\" x=\"35\" y=\"367\"/><text fill=\"#000000\" font-family=\"sans-serif\" font-size=\"12\" font-style=\"italic\" lengthAdjust=\"spacingAndGlyphs\" textLength=\"88\" x=\"36\" y=\"383.1387\">«send action»</text><text fill=\"#000000\" font-family=\"sans-serif\" font-size=\"12\" lengthAdjust=\"spacingAndGlyphs\" textLength=\"55\" x=\"52.5\" y=\"397.1074\">doAction</text><line style=\"stroke: #383838; stroke-width: 1.5;\" x1=\"36\" x2=\"124\" y1=\"404.9375\" y2=\"404.9375\"/><text fill=\"#000000\" font-family=\"sans-serif\" font-size=\"11\" lengthAdjust=\"spacingAndGlyphs\" textLength=\"25\" x=\"41\" y=\"435.9526\">item</text><line style=\"stroke: #383838; stroke-width: 1.0;\" x1=\"36\" x2=\"42.5\" y1=\"419.3398\" y2=\"419.3398\"/><text fill=\"#000000\" font-family=\"sans-serif\" font-size=\"11\" lengthAdjust=\"spacingAndGlyphs\" textLength=\"75\" x=\"42.5\" y=\"422.6479\">itemFeatures</text><line style=\"stroke: #383838; stroke-width: 1.0;\" x1=\"117.5\" x2=\"124\" y1=\"419.3398\" y2=\"419.3398\"/></a><!--MD5=[1f5f03483f7de0d5b3680a7f6650997f]\n",
       "reverse link E6 to E11--><a href=\"psysml:15193c6f-79c7-4ee2-a2ac-bfb559b7d876\" target=\"_top\" title=\"psysml:15193c6f-79c7-4ee2-a2ac-bfb559b7d876\" xlink:actuate=\"onRequest\" xlink:href=\"psysml:15193c6f-79c7-4ee2-a2ac-bfb559b7d876\" xlink:show=\"new\" xlink:title=\"psysml:15193c6f-79c7-4ee2-a2ac-bfb559b7d876\" xlink:type=\"simple\"><path d=\"M80,214.17 C80,231.58 80,248.25 80,260.82 \" fill=\"none\" id=\"E6&lt;-E11\" style=\"stroke: #383838; stroke-width: 1.0;\"/><polygon fill=\"#383838\" points=\"80,201.09,76.0066,207.0944,80.0132,213.09,84.0066,207.0856,80,201.09\" style=\"stroke: #383838; stroke-width: 1.0;\"/></a><!--MD5=[94adabc162ce7e41b39f13be14fbaeb3]\n",
       "reverse link E11 to E12--><a href=\"psysml:02a264b3-17c4-490c-b5b1-f49bb5aa02c2\" target=\"_top\" title=\"psysml:02a264b3-17c4-490c-b5b1-f49bb5aa02c2\" xlink:actuate=\"onRequest\" xlink:href=\"psysml:02a264b3-17c4-490c-b5b1-f49bb5aa02c2\" xlink:show=\"new\" xlink:title=\"psysml:02a264b3-17c4-490c-b5b1-f49bb5aa02c2\" xlink:type=\"simple\"><path d=\"M80,320.23 C80,334.82 80,351.76 80,366.58 \" fill=\"none\" id=\"E11&lt;-E12\" style=\"stroke: #383838; stroke-width: 1.0;\"/><polygon fill=\"#FFFFFF\" points=\"80,307.1,76,313.1,80,319.1,84,313.1,80,307.1\" style=\"stroke: #383838; stroke-width: 1.0;\"/></a><!--MD5=[95394e3004e76b60dac6029901c76bcf]\n",
       "@startuml\r\n",
       "top to bottom direction\r\n",
       "skinparam monochrome true\r\n",
       "skinparam classbackgroundcolor white\r\n",
       "skinparam shadowing false\r\n",
       "skinparam wrapWidth 300\r\n",
       "hide circle\r\n",
       "\r\n",
       "package \"StateTest\" as E1  [[psysml:9c548ee6-d869-4820-b951-32f5a4e72165 ]]  {\r\n",
       "comp def \"Sig\" as E2  <<(T,blue)attribute def>> [[psysml:7a2ca9b4-3a97-4e8a-92f8-a9f50dc832cb ]] {\r\n",
       "- - attributes - -\r\n",
       "x\r\n",
       "}\r\n",
       "comp def \"Exit\" as E3  <<(T,blue)attribute def>> [[psysml:30361623-caf7-482c-9813-174242dd8f3c ]] {\r\n",
       "}\r\n",
       "comp usage \"p\" as E4  <<(T,blue)part>> [[psysml:86d86843-d597-4d6e-917a-885d695bc43d ]] {\r\n",
       "}\r\n",
       "comp usage \"act\" as E5  <<(T,blue)action>> [[psysml:6cb3785d-90e3-4021-b607-f0ab9874924c ]] {\r\n",
       "}\r\n",
       "comp def \"S\" as E6  <<(T,blue)state def>> [[psysml:409d967c-2b55-4985-b068-ed253d96c58c ]] {\r\n",
       "- - performActions - -\r\n",
       "act\r\n",
       "A\r\n",
       "B\r\n",
       "- - states - -\r\n",
       "S1\r\n",
       "- - transitions - -\r\n",
       "T\r\n",
       "}\r\n",
       "comp usage \"S2\" as E11  <<(T,blue)state>> [[psysml:15193c6f-79c7-4ee2-a2ac-bfb559b7d876 ]] {\r\n",
       "}\r\n",
       "comp usage \"doAction\" as E12 <<send action>> [[psysml:02a264b3-17c4-490c-b5b1-f49bb5aa02c2 ]] {\r\n",
       "- - itemFeatures - -\r\n",
       "item\r\n",
       "}\r\n",
       "E6 *- - E11 [[psysml:15193c6f-79c7-4ee2-a2ac-bfb559b7d876 ]] \r\n",
       "E11 o- - E12 [[psysml:02a264b3-17c4-490c-b5b1-f49bb5aa02c2 ]] \r\n",
       "}\r\n",
       "@enduml\r\n",
       "\n",
       "PlantUML version 1.2020.13(Sat Jun 13 12:26:38 UTC 2020)\n",
       "(EPL source distribution)\n",
       "Java Runtime: OpenJDK Runtime Environment\n",
       "JVM: OpenJDK 64-Bit Server VM\n",
       "Default Encoding: UTF-8\n",
       "Language: en\n",
       "Country: null\n",
       "--></g></svg>"
      ]
     },
     "execution_count": 49,
     "metadata": {},
     "output_type": "execute_result"
    }
   ],
   "source": [
    "%viz --style=\"TB\" --view=\"Sequence\" \"StateTest\""
   ]
  },
  {
   "cell_type": "code",
   "execution_count": 50,
   "id": "structured-removal",
   "metadata": {
    "execution": {
     "iopub.execute_input": "2021-03-26T09:13:56.336303Z",
     "iopub.status.busy": "2021-03-26T09:13:56.335530Z",
     "iopub.status.idle": "2021-03-26T09:13:56.377084Z",
     "shell.execute_reply": "2021-03-26T09:13:56.375348Z"
    }
   },
   "outputs": [
    {
     "data": {
      "image/svg+xml": [
       "<?xml version=\"1.0\" encoding=\"UTF-8\" standalone=\"no\"?><svg xmlns=\"http://www.w3.org/2000/svg\" xmlns:xlink=\"http://www.w3.org/1999/xlink\" contentScriptType=\"application/ecmascript\" contentStyleType=\"text/css\" height=\"570px\" preserveAspectRatio=\"none\" style=\"width:819px;height:570px;\" version=\"1.1\" viewBox=\"0 0 819 570\" width=\"819px\" zoomAndPan=\"magnify\"><defs/><g><!--MD5=[fbc87193dbaf4d95561dea2c320d4a47]\n",
       "cluster E1--><a href=\"psysml:9c548ee6-d869-4820-b951-32f5a4e72165\" target=\"_top\" title=\"psysml:9c548ee6-d869-4820-b951-32f5a4e72165\" xlink:actuate=\"onRequest\" xlink:href=\"psysml:9c548ee6-d869-4820-b951-32f5a4e72165\" xlink:show=\"new\" xlink:title=\"psysml:9c548ee6-d869-4820-b951-32f5a4e72165\" xlink:type=\"simple\"><polygon fill=\"#FFFFFF\" points=\"16,6,98,6,105,28.2969,797,28.2969,797,558,16,558,16,6\" style=\"stroke: #000000; stroke-width: 1.5;\"/><line style=\"stroke: #000000; stroke-width: 1.5;\" x1=\"16\" x2=\"105\" y1=\"28.2969\" y2=\"28.2969\"/><text fill=\"#000000\" font-family=\"sans-serif\" font-size=\"14\" font-weight=\"bold\" lengthAdjust=\"spacingAndGlyphs\" textLength=\"76\" x=\"20\" y=\"20.9951\">StateTest</text></a><!--MD5=[14e3b0961a2654348d326746436168a1]\n",
       "cluster E6--><a href=\"psysml:409d967c-2b55-4985-b068-ed253d96c58c\" target=\"_top\" title=\"psysml:409d967c-2b55-4985-b068-ed253d96c58c\" xlink:actuate=\"onRequest\" xlink:href=\"psysml:409d967c-2b55-4985-b068-ed253d96c58c\" xlink:show=\"new\" xlink:title=\"psysml:409d967c-2b55-4985-b068-ed253d96c58c\" xlink:type=\"simple\"><rect fill=\"#FFFFFF\" height=\"485\" id=\"E6\" style=\"stroke: #383838; stroke-width: 1.5;\" width=\"327\" x=\"446\" y=\"49\"/><rect fill=\"#F8F8F8\" height=\"37.9375\" style=\"stroke: #383838; stroke-width: 1.5;\" width=\"327\" x=\"446\" y=\"49\"/><text fill=\"#000000\" font-family=\"sans-serif\" font-size=\"12\" font-style=\"italic\" lengthAdjust=\"spacingAndGlyphs\" textLength=\"71\" x=\"574\" y=\"65.1387\">«state def»</text><text fill=\"#000000\" font-family=\"sans-serif\" font-size=\"12\" lengthAdjust=\"spacingAndGlyphs\" textLength=\"8\" x=\"605.5\" y=\"79.1074\">S</text><line style=\"stroke: #383838; stroke-width: 1.0;\" x1=\"446\" x2=\"773\" y1=\"132.8438\" y2=\"132.8438\"/><text fill=\"#000000\" font-family=\"sans-serif\" font-size=\"12\" font-weight=\"bold\" lengthAdjust=\"spacingAndGlyphs\" textLength=\"38\" x=\"451\" y=\"100.0762\">entry</text><text fill=\"#000000\" font-family=\"sans-serif\" font-size=\"12\" lengthAdjust=\"spacingAndGlyphs\" textLength=\"16\" x=\"489\" y=\"100.0762\">/ A</text><text fill=\"#000000\" font-family=\"sans-serif\" font-size=\"12\" font-weight=\"bold\" lengthAdjust=\"spacingAndGlyphs\" textLength=\"18\" x=\"451\" y=\"114.0449\">do</text><text fill=\"#000000\" font-family=\"sans-serif\" font-size=\"12\" lengthAdjust=\"spacingAndGlyphs\" textLength=\"16\" x=\"469\" y=\"114.0449\">/ B</text><text fill=\"#000000\" font-family=\"sans-serif\" font-size=\"12\" font-weight=\"bold\" lengthAdjust=\"spacingAndGlyphs\" textLength=\"26\" x=\"451\" y=\"128.0137\">exit</text><text fill=\"#000000\" font-family=\"sans-serif\" font-size=\"12\" lengthAdjust=\"spacingAndGlyphs\" textLength=\"28\" x=\"477\" y=\"128.0137\">/ act</text></a><!--MD5=[b4997ac47864f28c2f74865a473b2911]\n",
       "class E2--><a href=\"psysml:7a2ca9b4-3a97-4e8a-92f8-a9f50dc832cb\" target=\"_top\" title=\"psysml:7a2ca9b4-3a97-4e8a-92f8-a9f50dc832cb\" xlink:actuate=\"onRequest\" xlink:href=\"psysml:7a2ca9b4-3a97-4e8a-92f8-a9f50dc832cb\" xlink:show=\"new\" xlink:title=\"psysml:7a2ca9b4-3a97-4e8a-92f8-a9f50dc832cb\" xlink:type=\"simple\"><rect fill=\"#FFFFFF\" height=\"75.5469\" id=\"E2\" style=\"stroke: #383838; stroke-width: 1.5;\" width=\"95\" x=\"334.5\" y=\"119\"/><text fill=\"#000000\" font-family=\"sans-serif\" font-size=\"12\" font-style=\"italic\" lengthAdjust=\"spacingAndGlyphs\" textLength=\"93\" x=\"335.5\" y=\"135.1387\">«attribute def»</text><text fill=\"#000000\" font-family=\"sans-serif\" font-size=\"12\" lengthAdjust=\"spacingAndGlyphs\" textLength=\"19\" x=\"372.5\" y=\"149.1074\">Sig</text><line style=\"stroke: #383838; stroke-width: 1.5;\" x1=\"335.5\" x2=\"428.5\" y1=\"156.9375\" y2=\"156.9375\"/><text fill=\"#000000\" font-family=\"sans-serif\" font-size=\"11\" lengthAdjust=\"spacingAndGlyphs\" textLength=\"6\" x=\"340.5\" y=\"187.9526\">x</text><line style=\"stroke: #383838; stroke-width: 1.0;\" x1=\"335.5\" x2=\"354.5\" y1=\"171.3398\" y2=\"171.3398\"/><text fill=\"#000000\" font-family=\"sans-serif\" font-size=\"11\" lengthAdjust=\"spacingAndGlyphs\" textLength=\"55\" x=\"354.5\" y=\"174.6479\">attributes</text><line style=\"stroke: #383838; stroke-width: 1.0;\" x1=\"409.5\" x2=\"428.5\" y1=\"171.3398\" y2=\"171.3398\"/></a><!--MD5=[09b614a08d8cba4a07c9adeb5e0fee81]\n",
       "class E3--><a href=\"psysml:30361623-caf7-482c-9813-174242dd8f3c\" target=\"_top\" title=\"psysml:30361623-caf7-482c-9813-174242dd8f3c\" xlink:actuate=\"onRequest\" xlink:href=\"psysml:30361623-caf7-482c-9813-174242dd8f3c\" xlink:show=\"new\" xlink:title=\"psysml:30361623-caf7-482c-9813-174242dd8f3c\" xlink:type=\"simple\"><rect fill=\"#FFFFFF\" height=\"45.9375\" id=\"E3\" style=\"stroke: #383838; stroke-width: 1.5;\" width=\"95\" x=\"204.5\" y=\"134\"/><text fill=\"#000000\" font-family=\"sans-serif\" font-size=\"12\" font-style=\"italic\" lengthAdjust=\"spacingAndGlyphs\" textLength=\"93\" x=\"205.5\" y=\"150.1387\">«attribute def»</text><text fill=\"#000000\" font-family=\"sans-serif\" font-size=\"12\" lengthAdjust=\"spacingAndGlyphs\" textLength=\"22\" x=\"241\" y=\"164.1074\">Exit</text><line style=\"stroke: #383838; stroke-width: 1.5;\" x1=\"205.5\" x2=\"298.5\" y1=\"171.9375\" y2=\"171.9375\"/></a><!--MD5=[ebbe1d658d1005bcc118a6aa81145e00]\n",
       "class E4--><a href=\"psysml:86d86843-d597-4d6e-917a-885d695bc43d\" target=\"_top\" title=\"psysml:86d86843-d597-4d6e-917a-885d695bc43d\" xlink:actuate=\"onRequest\" xlink:href=\"psysml:86d86843-d597-4d6e-917a-885d695bc43d\" xlink:show=\"new\" xlink:title=\"psysml:86d86843-d597-4d6e-917a-885d695bc43d\" xlink:type=\"simple\"><rect fill=\"#FFFFFF\" height=\"45.9375\" id=\"E4\" rx=\"10\" ry=\"10\" style=\"stroke: #383838; stroke-width: 1.5;\" width=\"42\" x=\"127\" y=\"134\"/><text fill=\"#000000\" font-family=\"sans-serif\" font-size=\"12\" font-style=\"italic\" lengthAdjust=\"spacingAndGlyphs\" textLength=\"40\" x=\"128\" y=\"150.1387\">«part»</text><text fill=\"#000000\" font-family=\"sans-serif\" font-size=\"12\" lengthAdjust=\"spacingAndGlyphs\" textLength=\"8\" x=\"144\" y=\"164.1074\">p</text><line style=\"stroke: #383838; stroke-width: 1.5;\" x1=\"128\" x2=\"168\" y1=\"171.9375\" y2=\"171.9375\"/></a><g id=\"E1.E5\"><a href=\"psysml:6cb3785d-90e3-4021-b607-f0ab9874924c\" target=\"_top\" title=\"psysml:6cb3785d-90e3-4021-b607-f0ab9874924c\" xlink:actuate=\"onRequest\" xlink:href=\"psysml:6cb3785d-90e3-4021-b607-f0ab9874924c\" xlink:show=\"new\" xlink:title=\"psysml:6cb3785d-90e3-4021-b607-f0ab9874924c\" xlink:type=\"simple\"><rect fill=\"#FFFFFF\" height=\"42.9375\" id=\"E5\" rx=\"10\" ry=\"10\" style=\"stroke: #383838; stroke-width: 1.5;\" width=\"60\" x=\"32\" y=\"135.5\"/><rect fill=\"#F8F8F8\" height=\"37.9375\" rx=\"10\" ry=\"10\" style=\"stroke: #F8F8F8; stroke-width: 1.5;\" width=\"60\" x=\"32\" y=\"135.5\"/><rect fill=\"#F8F8F8\" height=\"10\" style=\"stroke: #F8F8F8; stroke-width: 1.5;\" width=\"60\" x=\"32\" y=\"163.4375\"/><rect fill=\"none\" height=\"42.9375\" id=\"E5\" rx=\"10\" ry=\"10\" style=\"stroke: #383838; stroke-width: 1.5;\" width=\"60\" x=\"32\" y=\"135.5\"/><text fill=\"#000000\" font-family=\"sans-serif\" font-size=\"12\" font-style=\"italic\" lengthAdjust=\"spacingAndGlyphs\" textLength=\"53\" x=\"35.5\" y=\"151.6387\">«action»</text><text fill=\"#000000\" font-family=\"sans-serif\" font-size=\"12\" lengthAdjust=\"spacingAndGlyphs\" textLength=\"20\" x=\"52\" y=\"165.6074\">act</text></a></g><ellipse cx=\"558\" cy=\"157\" fill=\"#000000\" rx=\"10\" ry=\"10\" style=\"stroke: none; stroke-width: 1.0;\"/><ellipse cx=\"558\" cy=\"508\" fill=\"none\" rx=\"10\" ry=\"10\" style=\"stroke: #000000; stroke-width: 1.0;\"/><ellipse cx=\"558.5\" cy=\"508.5\" fill=\"#000000\" rx=\"6\" ry=\"6\" style=\"stroke: none; stroke-width: 1.0;\"/><g id=\"E1.E6.E7\"><a href=\"psysml:5ea02985-bc8b-4cb1-bb08-c3caa7c881e0\" target=\"_top\" title=\"psysml:5ea02985-bc8b-4cb1-bb08-c3caa7c881e0\" xlink:actuate=\"onRequest\" xlink:href=\"psysml:5ea02985-bc8b-4cb1-bb08-c3caa7c881e0\" xlink:show=\"new\" xlink:title=\"psysml:5ea02985-bc8b-4cb1-bb08-c3caa7c881e0\" xlink:type=\"simple\"><rect fill=\"#FFFFFF\" height=\"40\" id=\"E7\" rx=\"10\" ry=\"10\" style=\"stroke: #383838; stroke-width: 1.5;\" width=\"50\" x=\"533\" y=\"256\"/><rect fill=\"#F8F8F8\" height=\"23.9688\" rx=\"10\" ry=\"10\" style=\"stroke: #F8F8F8; stroke-width: 1.5;\" width=\"50\" x=\"533\" y=\"256\"/><rect fill=\"#F8F8F8\" height=\"10\" style=\"stroke: #F8F8F8; stroke-width: 1.5;\" width=\"50\" x=\"533\" y=\"269.9688\"/><rect fill=\"none\" height=\"40\" id=\"E7\" rx=\"10\" ry=\"10\" style=\"stroke: #383838; stroke-width: 1.5;\" width=\"50\" x=\"533\" y=\"256\"/><text fill=\"#000000\" font-family=\"sans-serif\" font-size=\"12\" lengthAdjust=\"spacingAndGlyphs\" textLength=\"16\" x=\"550\" y=\"272.1387\">S1</text></a></g><g id=\"E1.E6.E8\"><a href=\"psysml:15193c6f-79c7-4ee2-a2ac-bfb559b7d876\" target=\"_top\" title=\"psysml:15193c6f-79c7-4ee2-a2ac-bfb559b7d876\" xlink:actuate=\"onRequest\" xlink:href=\"psysml:15193c6f-79c7-4ee2-a2ac-bfb559b7d876\" xlink:show=\"new\" xlink:title=\"psysml:15193c6f-79c7-4ee2-a2ac-bfb559b7d876\" xlink:type=\"simple\"><rect fill=\"#FFFFFF\" height=\"47.9375\" id=\"E8\" rx=\"10\" ry=\"10\" style=\"stroke: #383838; stroke-width: 1.5;\" width=\"50\" x=\"533\" y=\"373\"/><rect fill=\"#F8F8F8\" height=\"23.9688\" rx=\"10\" ry=\"10\" style=\"stroke: #F8F8F8; stroke-width: 1.5;\" width=\"50\" x=\"533\" y=\"373\"/><rect fill=\"#F8F8F8\" height=\"10\" style=\"stroke: #F8F8F8; stroke-width: 1.5;\" width=\"50\" x=\"533\" y=\"386.9688\"/><rect fill=\"none\" height=\"47.9375\" id=\"E8\" rx=\"10\" ry=\"10\" style=\"stroke: #383838; stroke-width: 1.5;\" width=\"50\" x=\"533\" y=\"373\"/><text fill=\"#000000\" font-family=\"sans-serif\" font-size=\"12\" lengthAdjust=\"spacingAndGlyphs\" textLength=\"16\" x=\"550\" y=\"389.1387\">S2</text><line style=\"stroke: #383838; stroke-width: 1.0;\" x1=\"533\" x2=\"583\" y1=\"396.9688\" y2=\"396.9688\"/><text fill=\"#000000\" font-family=\"sans-serif\" font-size=\"12\" font-weight=\"bold\" lengthAdjust=\"spacingAndGlyphs\" textLength=\"18\" x=\"538\" y=\"410.1074\">do</text><text fill=\"#000000\" font-family=\"sans-serif\" font-size=\"12\" lengthAdjust=\"spacingAndGlyphs\" textLength=\"4\" x=\"556\" y=\"410.1074\">/</text></a></g><!--MD5=[5a531d3a85f3339e6e197084acb48195]\n",
       "link *start*E6 to E7--><a href=\"psysml:50e6b136-bb64-4da5-b9f3-893462631a2b\" target=\"_top\" title=\"psysml:50e6b136-bb64-4da5-b9f3-893462631a2b\" xlink:actuate=\"onRequest\" xlink:href=\"psysml:50e6b136-bb64-4da5-b9f3-893462631a2b\" xlink:show=\"new\" xlink:title=\"psysml:50e6b136-bb64-4da5-b9f3-893462631a2b\" xlink:type=\"simple\"><path d=\"M558,167.18 C558,184.98 558,224.73 558,250.67 \" fill=\"none\" id=\"*start*E6-&gt;E7\" style=\"stroke: #383838; stroke-width: 1.0;\"/><polygon fill=\"#383838\" points=\"558,255.98,562,246.98,558,250.98,554,246.98,558,255.98\" style=\"stroke: #383838; stroke-width: 1.0;\"/></a><!--MD5=[7ec9a8babba89ddcae1318ca9fb3c814]\n",
       "link E8 to *end*E6--><a href=\"psysml:400438d1-4a79-4175-ae6b-80e92b548ca9\" target=\"_top\" title=\"psysml:400438d1-4a79-4175-ae6b-80e92b548ca9\" xlink:actuate=\"onRequest\" xlink:href=\"psysml:400438d1-4a79-4175-ae6b-80e92b548ca9\" xlink:show=\"new\" xlink:title=\"psysml:400438d1-4a79-4175-ae6b-80e92b548ca9\" xlink:type=\"simple\"><path d=\"M558,421.12 C558,442.75 558,474.39 558,492.62 \" fill=\"none\" id=\"E8-&gt;*end*E6\" style=\"stroke: #383838; stroke-width: 1.0;\"/><polygon fill=\"#383838\" points=\"558,497.82,562,488.82,558,492.82,554,488.82,558,497.82\" style=\"stroke: #383838; stroke-width: 1.0;\"/><text fill=\"#000000\" font-family=\"sans-serif\" font-size=\"13\" lengthAdjust=\"spacingAndGlyphs\" textLength=\"23\" x=\"559\" y=\"464.0669\">Exit</text></a><!--MD5=[79bc8f324ef4d02c541433f2e6e513c3]\n",
       "link E7 to E8--><a href=\"psysml:516b9b87-0f3c-4a45-97aa-978805331ddd\" target=\"_top\" title=\"psysml:516b9b87-0f3c-4a45-97aa-978805331ddd\" xlink:actuate=\"onRequest\" xlink:href=\"psysml:516b9b87-0f3c-4a45-97aa-978805331ddd\" xlink:show=\"new\" xlink:title=\"psysml:516b9b87-0f3c-4a45-97aa-978805331ddd\" xlink:type=\"simple\"><path d=\"M532.93,288.88 C518.69,297.12 502.12,309.56 494,326 C483.11,348.05 506.72,368.2 528.27,381.16 \" fill=\"none\" id=\"E7-&gt;E8\" style=\"stroke: #383838; stroke-width: 1.0;\"/><polygon fill=\"#383838\" points=\"532.83,383.82,527.0682,375.8324,528.5101,381.3024,523.0401,382.7443,532.83,383.82\" style=\"stroke: #383838; stroke-width: 1.0;\"/><text fill=\"#000000\" font-family=\"sans-serif\" font-size=\"13\" lengthAdjust=\"spacingAndGlyphs\" textLength=\"81\" x=\"495\" y=\"339.0669\">Sig /action D</text></a><!--MD5=[bfa3c8b0d15052fdf50ae9310b491027]\n",
       "link E8 to E7--><a href=\"psysml:0976314e-a9f7-4444-bafa-f8883db64fa0\" target=\"_top\" title=\"psysml:0976314e-a9f7-4444-bafa-f8883db64fa0\" xlink:actuate=\"onRequest\" xlink:href=\"psysml:0976314e-a9f7-4444-bafa-f8883db64fa0\" xlink:show=\"new\" xlink:title=\"psysml:0976314e-a9f7-4444-bafa-f8883db64fa0\" xlink:type=\"simple\"><path d=\"M572.17,372.99 C578.81,359.48 584.56,341.98 581,326 C579.1,317.49 575.56,308.72 571.82,300.99 \" fill=\"none\" id=\"E8-&gt;E7\" style=\"stroke: #383838; stroke-width: 1.0;\"/><polygon fill=\"#383838\" points=\"569.47,296.32,569.9298,306.1581,571.7118,300.7893,577.0806,302.5713,569.47,296.32\" style=\"stroke: #383838; stroke-width: 1.0;\"/><text fill=\"#000000\" font-family=\"sans-serif\" font-size=\"13\" lengthAdjust=\"spacingAndGlyphs\" textLength=\"135\" x=\"583\" y=\"339.0669\">Sig [true]/send s to p</text></a><!--MD5=[e954360beacc059d7b57c32c63a2ab6a]\n",
       "@startuml\r\n",
       "top to bottom direction\r\n",
       "skinparam monochrome true\r\n",
       "skinparam classbackgroundcolor white\r\n",
       "skinparam shadowing false\r\n",
       "skinparam wrapWidth 300\r\n",
       "hide circle\r\n",
       "\r\n",
       "package \"StateTest\" as E1  [[psysml:9c548ee6-d869-4820-b951-32f5a4e72165 ]]  {\r\n",
       "comp def \"Sig\" as E2  <<(T,blue)attribute def>> [[psysml:7a2ca9b4-3a97-4e8a-92f8-a9f50dc832cb ]] {\r\n",
       "- - attributes - -\r\n",
       "x\r\n",
       "}\r\n",
       "comp def \"Exit\" as E3  <<(T,blue)attribute def>> [[psysml:30361623-caf7-482c-9813-174242dd8f3c ]] {\r\n",
       "}\r\n",
       "comp usage \"p\" as E4  <<(T,blue)part>> [[psysml:86d86843-d597-4d6e-917a-885d695bc43d ]] {\r\n",
       "}\r\n",
       "rec usage \"act\" as E5  <<(T,blue)action>> [[psysml:6cb3785d-90e3-4021-b607-f0ab9874924c ]] {\r\n",
       "}\r\n",
       "\r\n",
       "rec def \"S\" as E6  <<(T,blue)state def>> [[psysml:409d967c-2b55-4985-b068-ed253d96c58c ]] {\r\n",
       "rec usage \"S1\" as E7 [[psysml:5ea02985-bc8b-4cb1-bb08-c3caa7c881e0 ]] {\r\n",
       "}\r\n",
       "\r\n",
       "rec usage \"S2\" as E8 [[psysml:15193c6f-79c7-4ee2-a2ac-bfb559b7d876 ]] {\r\n",
       "desc \"S2\" as E8  : **do**/ \r\n",
       "}\r\n",
       "\r\n",
       "[*] - -> E7 [[psysml:50e6b136-bb64-4da5-b9f3-893462631a2b ]] \r\n",
       "E8  - -> [*] [[psysml:400438d1-4a79-4175-ae6b-80e92b548ca9 ]] : Exit \r\n",
       "desc \"S\" as E6  : **entry**/ A\r\n",
       "desc \"S\" as E6  : **do**/ B\r\n",
       "desc \"S\" as E6  : **exit**/ act \r\n",
       "}\r\n",
       "\r\n",
       "E7  - -> E8 [[psysml:516b9b87-0f3c-4a45-97aa-978805331ddd ]] : Sig /action D\r\n",
       "E8  - -> E7 [[psysml:0976314e-a9f7-4444-bafa-f8883db64fa0 ]] : Sig [true]/send s to p\r\n",
       "}\r\n",
       "@enduml\r\n",
       "\n",
       "PlantUML version 1.2020.13(Sat Jun 13 12:26:38 UTC 2020)\n",
       "(EPL source distribution)\n",
       "Java Runtime: OpenJDK Runtime Environment\n",
       "JVM: OpenJDK 64-Bit Server VM\n",
       "Default Encoding: UTF-8\n",
       "Language: en\n",
       "Country: null\n",
       "--></g></svg>"
      ]
     },
     "execution_count": 50,
     "metadata": {},
     "output_type": "execute_result"
    }
   ],
   "source": [
    "%viz --style=\"TB\" --view=\"MIXED\" \"StateTest\""
   ]
  },
  {
   "cell_type": "code",
   "execution_count": 51,
   "id": "offensive-communication",
   "metadata": {
    "execution": {
     "iopub.execute_input": "2021-03-26T09:13:56.429355Z",
     "iopub.status.busy": "2021-03-26T09:13:56.428456Z",
     "iopub.status.idle": "2021-03-26T09:13:56.470468Z",
     "shell.execute_reply": "2021-03-26T09:13:56.469033Z"
    }
   },
   "outputs": [
    {
     "data": {
      "image/svg+xml": [
       "<?xml version=\"1.0\" encoding=\"UTF-8\" standalone=\"no\"?><svg xmlns=\"http://www.w3.org/2000/svg\" xmlns:xlink=\"http://www.w3.org/1999/xlink\" contentScriptType=\"application/ecmascript\" contentStyleType=\"text/css\" height=\"570px\" preserveAspectRatio=\"none\" style=\"width:819px;height:570px;\" version=\"1.1\" viewBox=\"0 0 819 570\" width=\"819px\" zoomAndPan=\"magnify\"><defs/><g><!--MD5=[fbc87193dbaf4d95561dea2c320d4a47]\n",
       "cluster E1--><a href=\"psysml:9c548ee6-d869-4820-b951-32f5a4e72165\" target=\"_top\" title=\"psysml:9c548ee6-d869-4820-b951-32f5a4e72165\" xlink:actuate=\"onRequest\" xlink:href=\"psysml:9c548ee6-d869-4820-b951-32f5a4e72165\" xlink:show=\"new\" xlink:title=\"psysml:9c548ee6-d869-4820-b951-32f5a4e72165\" xlink:type=\"simple\"><polygon fill=\"#FFFFFF\" points=\"16,6,98,6,105,28.2969,797,28.2969,797,558,16,558,16,6\" style=\"stroke: #000000; stroke-width: 1.5;\"/><line style=\"stroke: #000000; stroke-width: 1.5;\" x1=\"16\" x2=\"105\" y1=\"28.2969\" y2=\"28.2969\"/><text fill=\"#000000\" font-family=\"sans-serif\" font-size=\"14\" font-weight=\"bold\" lengthAdjust=\"spacingAndGlyphs\" textLength=\"76\" x=\"20\" y=\"20.9951\">StateTest</text></a><!--MD5=[14e3b0961a2654348d326746436168a1]\n",
       "cluster E6--><a href=\"psysml:409d967c-2b55-4985-b068-ed253d96c58c\" target=\"_top\" title=\"psysml:409d967c-2b55-4985-b068-ed253d96c58c\" xlink:actuate=\"onRequest\" xlink:href=\"psysml:409d967c-2b55-4985-b068-ed253d96c58c\" xlink:show=\"new\" xlink:title=\"psysml:409d967c-2b55-4985-b068-ed253d96c58c\" xlink:type=\"simple\"><rect fill=\"#FFFFFF\" height=\"485\" id=\"E6\" style=\"stroke: #383838; stroke-width: 1.5;\" width=\"327\" x=\"446\" y=\"49\"/><rect fill=\"#F8F8F8\" height=\"37.9375\" style=\"stroke: #383838; stroke-width: 1.5;\" width=\"327\" x=\"446\" y=\"49\"/><text fill=\"#000000\" font-family=\"sans-serif\" font-size=\"12\" font-style=\"italic\" lengthAdjust=\"spacingAndGlyphs\" textLength=\"71\" x=\"574\" y=\"65.1387\">«state def»</text><text fill=\"#000000\" font-family=\"sans-serif\" font-size=\"12\" lengthAdjust=\"spacingAndGlyphs\" textLength=\"8\" x=\"605.5\" y=\"79.1074\">S</text><line style=\"stroke: #383838; stroke-width: 1.0;\" x1=\"446\" x2=\"773\" y1=\"132.8438\" y2=\"132.8438\"/><text fill=\"#000000\" font-family=\"sans-serif\" font-size=\"12\" font-weight=\"bold\" lengthAdjust=\"spacingAndGlyphs\" textLength=\"38\" x=\"451\" y=\"100.0762\">entry</text><text fill=\"#000000\" font-family=\"sans-serif\" font-size=\"12\" lengthAdjust=\"spacingAndGlyphs\" textLength=\"16\" x=\"489\" y=\"100.0762\">/ A</text><text fill=\"#000000\" font-family=\"sans-serif\" font-size=\"12\" font-weight=\"bold\" lengthAdjust=\"spacingAndGlyphs\" textLength=\"18\" x=\"451\" y=\"114.0449\">do</text><text fill=\"#000000\" font-family=\"sans-serif\" font-size=\"12\" lengthAdjust=\"spacingAndGlyphs\" textLength=\"16\" x=\"469\" y=\"114.0449\">/ B</text><text fill=\"#000000\" font-family=\"sans-serif\" font-size=\"12\" font-weight=\"bold\" lengthAdjust=\"spacingAndGlyphs\" textLength=\"26\" x=\"451\" y=\"128.0137\">exit</text><text fill=\"#000000\" font-family=\"sans-serif\" font-size=\"12\" lengthAdjust=\"spacingAndGlyphs\" textLength=\"28\" x=\"477\" y=\"128.0137\">/ act</text></a><!--MD5=[b4997ac47864f28c2f74865a473b2911]\n",
       "class E2--><a href=\"psysml:7a2ca9b4-3a97-4e8a-92f8-a9f50dc832cb\" target=\"_top\" title=\"psysml:7a2ca9b4-3a97-4e8a-92f8-a9f50dc832cb\" xlink:actuate=\"onRequest\" xlink:href=\"psysml:7a2ca9b4-3a97-4e8a-92f8-a9f50dc832cb\" xlink:show=\"new\" xlink:title=\"psysml:7a2ca9b4-3a97-4e8a-92f8-a9f50dc832cb\" xlink:type=\"simple\"><rect fill=\"#FFFFFF\" height=\"75.5469\" id=\"E2\" style=\"stroke: #383838; stroke-width: 1.5;\" width=\"95\" x=\"334.5\" y=\"119\"/><text fill=\"#000000\" font-family=\"sans-serif\" font-size=\"12\" font-style=\"italic\" lengthAdjust=\"spacingAndGlyphs\" textLength=\"93\" x=\"335.5\" y=\"135.1387\">«attribute def»</text><text fill=\"#000000\" font-family=\"sans-serif\" font-size=\"12\" lengthAdjust=\"spacingAndGlyphs\" textLength=\"19\" x=\"372.5\" y=\"149.1074\">Sig</text><line style=\"stroke: #383838; stroke-width: 1.5;\" x1=\"335.5\" x2=\"428.5\" y1=\"156.9375\" y2=\"156.9375\"/><text fill=\"#000000\" font-family=\"sans-serif\" font-size=\"11\" lengthAdjust=\"spacingAndGlyphs\" textLength=\"6\" x=\"340.5\" y=\"187.9526\">x</text><line style=\"stroke: #383838; stroke-width: 1.0;\" x1=\"335.5\" x2=\"354.5\" y1=\"171.3398\" y2=\"171.3398\"/><text fill=\"#000000\" font-family=\"sans-serif\" font-size=\"11\" lengthAdjust=\"spacingAndGlyphs\" textLength=\"55\" x=\"354.5\" y=\"174.6479\">attributes</text><line style=\"stroke: #383838; stroke-width: 1.0;\" x1=\"409.5\" x2=\"428.5\" y1=\"171.3398\" y2=\"171.3398\"/></a><!--MD5=[09b614a08d8cba4a07c9adeb5e0fee81]\n",
       "class E3--><a href=\"psysml:30361623-caf7-482c-9813-174242dd8f3c\" target=\"_top\" title=\"psysml:30361623-caf7-482c-9813-174242dd8f3c\" xlink:actuate=\"onRequest\" xlink:href=\"psysml:30361623-caf7-482c-9813-174242dd8f3c\" xlink:show=\"new\" xlink:title=\"psysml:30361623-caf7-482c-9813-174242dd8f3c\" xlink:type=\"simple\"><rect fill=\"#FFFFFF\" height=\"45.9375\" id=\"E3\" style=\"stroke: #383838; stroke-width: 1.5;\" width=\"95\" x=\"204.5\" y=\"134\"/><text fill=\"#000000\" font-family=\"sans-serif\" font-size=\"12\" font-style=\"italic\" lengthAdjust=\"spacingAndGlyphs\" textLength=\"93\" x=\"205.5\" y=\"150.1387\">«attribute def»</text><text fill=\"#000000\" font-family=\"sans-serif\" font-size=\"12\" lengthAdjust=\"spacingAndGlyphs\" textLength=\"22\" x=\"241\" y=\"164.1074\">Exit</text><line style=\"stroke: #383838; stroke-width: 1.5;\" x1=\"205.5\" x2=\"298.5\" y1=\"171.9375\" y2=\"171.9375\"/></a><!--MD5=[ebbe1d658d1005bcc118a6aa81145e00]\n",
       "class E4--><a href=\"psysml:86d86843-d597-4d6e-917a-885d695bc43d\" target=\"_top\" title=\"psysml:86d86843-d597-4d6e-917a-885d695bc43d\" xlink:actuate=\"onRequest\" xlink:href=\"psysml:86d86843-d597-4d6e-917a-885d695bc43d\" xlink:show=\"new\" xlink:title=\"psysml:86d86843-d597-4d6e-917a-885d695bc43d\" xlink:type=\"simple\"><rect fill=\"#FFFFFF\" height=\"45.9375\" id=\"E4\" rx=\"10\" ry=\"10\" style=\"stroke: #383838; stroke-width: 1.5;\" width=\"42\" x=\"127\" y=\"134\"/><text fill=\"#000000\" font-family=\"sans-serif\" font-size=\"12\" font-style=\"italic\" lengthAdjust=\"spacingAndGlyphs\" textLength=\"40\" x=\"128\" y=\"150.1387\">«part»</text><text fill=\"#000000\" font-family=\"sans-serif\" font-size=\"12\" lengthAdjust=\"spacingAndGlyphs\" textLength=\"8\" x=\"144\" y=\"164.1074\">p</text><line style=\"stroke: #383838; stroke-width: 1.5;\" x1=\"128\" x2=\"168\" y1=\"171.9375\" y2=\"171.9375\"/></a><g id=\"E1.E5\"><a href=\"psysml:6cb3785d-90e3-4021-b607-f0ab9874924c\" target=\"_top\" title=\"psysml:6cb3785d-90e3-4021-b607-f0ab9874924c\" xlink:actuate=\"onRequest\" xlink:href=\"psysml:6cb3785d-90e3-4021-b607-f0ab9874924c\" xlink:show=\"new\" xlink:title=\"psysml:6cb3785d-90e3-4021-b607-f0ab9874924c\" xlink:type=\"simple\"><rect fill=\"#FFFFFF\" height=\"42.9375\" id=\"E5\" rx=\"10\" ry=\"10\" style=\"stroke: #383838; stroke-width: 1.5;\" width=\"60\" x=\"32\" y=\"135.5\"/><rect fill=\"#F8F8F8\" height=\"37.9375\" rx=\"10\" ry=\"10\" style=\"stroke: #F8F8F8; stroke-width: 1.5;\" width=\"60\" x=\"32\" y=\"135.5\"/><rect fill=\"#F8F8F8\" height=\"10\" style=\"stroke: #F8F8F8; stroke-width: 1.5;\" width=\"60\" x=\"32\" y=\"163.4375\"/><rect fill=\"none\" height=\"42.9375\" id=\"E5\" rx=\"10\" ry=\"10\" style=\"stroke: #383838; stroke-width: 1.5;\" width=\"60\" x=\"32\" y=\"135.5\"/><text fill=\"#000000\" font-family=\"sans-serif\" font-size=\"12\" font-style=\"italic\" lengthAdjust=\"spacingAndGlyphs\" textLength=\"53\" x=\"35.5\" y=\"151.6387\">«action»</text><text fill=\"#000000\" font-family=\"sans-serif\" font-size=\"12\" lengthAdjust=\"spacingAndGlyphs\" textLength=\"20\" x=\"52\" y=\"165.6074\">act</text></a></g><ellipse cx=\"558\" cy=\"157\" fill=\"#000000\" rx=\"10\" ry=\"10\" style=\"stroke: none; stroke-width: 1.0;\"/><ellipse cx=\"558\" cy=\"508\" fill=\"none\" rx=\"10\" ry=\"10\" style=\"stroke: #000000; stroke-width: 1.0;\"/><ellipse cx=\"558.5\" cy=\"508.5\" fill=\"#000000\" rx=\"6\" ry=\"6\" style=\"stroke: none; stroke-width: 1.0;\"/><g id=\"E1.E6.E7\"><a href=\"psysml:5ea02985-bc8b-4cb1-bb08-c3caa7c881e0\" target=\"_top\" title=\"psysml:5ea02985-bc8b-4cb1-bb08-c3caa7c881e0\" xlink:actuate=\"onRequest\" xlink:href=\"psysml:5ea02985-bc8b-4cb1-bb08-c3caa7c881e0\" xlink:show=\"new\" xlink:title=\"psysml:5ea02985-bc8b-4cb1-bb08-c3caa7c881e0\" xlink:type=\"simple\"><rect fill=\"#FFFFFF\" height=\"40\" id=\"E7\" rx=\"10\" ry=\"10\" style=\"stroke: #383838; stroke-width: 1.5;\" width=\"50\" x=\"533\" y=\"256\"/><rect fill=\"#F8F8F8\" height=\"23.9688\" rx=\"10\" ry=\"10\" style=\"stroke: #F8F8F8; stroke-width: 1.5;\" width=\"50\" x=\"533\" y=\"256\"/><rect fill=\"#F8F8F8\" height=\"10\" style=\"stroke: #F8F8F8; stroke-width: 1.5;\" width=\"50\" x=\"533\" y=\"269.9688\"/><rect fill=\"none\" height=\"40\" id=\"E7\" rx=\"10\" ry=\"10\" style=\"stroke: #383838; stroke-width: 1.5;\" width=\"50\" x=\"533\" y=\"256\"/><text fill=\"#000000\" font-family=\"sans-serif\" font-size=\"12\" lengthAdjust=\"spacingAndGlyphs\" textLength=\"16\" x=\"550\" y=\"272.1387\">S1</text></a></g><g id=\"E1.E6.E8\"><a href=\"psysml:15193c6f-79c7-4ee2-a2ac-bfb559b7d876\" target=\"_top\" title=\"psysml:15193c6f-79c7-4ee2-a2ac-bfb559b7d876\" xlink:actuate=\"onRequest\" xlink:href=\"psysml:15193c6f-79c7-4ee2-a2ac-bfb559b7d876\" xlink:show=\"new\" xlink:title=\"psysml:15193c6f-79c7-4ee2-a2ac-bfb559b7d876\" xlink:type=\"simple\"><rect fill=\"#FFFFFF\" height=\"47.9375\" id=\"E8\" rx=\"10\" ry=\"10\" style=\"stroke: #383838; stroke-width: 1.5;\" width=\"50\" x=\"533\" y=\"373\"/><rect fill=\"#F8F8F8\" height=\"23.9688\" rx=\"10\" ry=\"10\" style=\"stroke: #F8F8F8; stroke-width: 1.5;\" width=\"50\" x=\"533\" y=\"373\"/><rect fill=\"#F8F8F8\" height=\"10\" style=\"stroke: #F8F8F8; stroke-width: 1.5;\" width=\"50\" x=\"533\" y=\"386.9688\"/><rect fill=\"none\" height=\"47.9375\" id=\"E8\" rx=\"10\" ry=\"10\" style=\"stroke: #383838; stroke-width: 1.5;\" width=\"50\" x=\"533\" y=\"373\"/><text fill=\"#000000\" font-family=\"sans-serif\" font-size=\"12\" lengthAdjust=\"spacingAndGlyphs\" textLength=\"16\" x=\"550\" y=\"389.1387\">S2</text><line style=\"stroke: #383838; stroke-width: 1.0;\" x1=\"533\" x2=\"583\" y1=\"396.9688\" y2=\"396.9688\"/><text fill=\"#000000\" font-family=\"sans-serif\" font-size=\"12\" font-weight=\"bold\" lengthAdjust=\"spacingAndGlyphs\" textLength=\"18\" x=\"538\" y=\"410.1074\">do</text><text fill=\"#000000\" font-family=\"sans-serif\" font-size=\"12\" lengthAdjust=\"spacingAndGlyphs\" textLength=\"4\" x=\"556\" y=\"410.1074\">/</text></a></g><!--MD5=[5a531d3a85f3339e6e197084acb48195]\n",
       "link *start*E6 to E7--><a href=\"psysml:50e6b136-bb64-4da5-b9f3-893462631a2b\" target=\"_top\" title=\"psysml:50e6b136-bb64-4da5-b9f3-893462631a2b\" xlink:actuate=\"onRequest\" xlink:href=\"psysml:50e6b136-bb64-4da5-b9f3-893462631a2b\" xlink:show=\"new\" xlink:title=\"psysml:50e6b136-bb64-4da5-b9f3-893462631a2b\" xlink:type=\"simple\"><path d=\"M558,167.15 C558,167.15 558,250.67 558,250.67 \" fill=\"none\" id=\"*start*E6-&gt;E7\" style=\"stroke: #383838; stroke-width: 1.0;\"/><polygon fill=\"#383838\" points=\"558,255.67,562,246.67,558,250.67,554,246.67,558,255.67\" style=\"stroke: #383838; stroke-width: 1.0;\"/></a><!--MD5=[7ec9a8babba89ddcae1318ca9fb3c814]\n",
       "link E8 to *end*E6--><a href=\"psysml:400438d1-4a79-4175-ae6b-80e92b548ca9\" target=\"_top\" title=\"psysml:400438d1-4a79-4175-ae6b-80e92b548ca9\" xlink:actuate=\"onRequest\" xlink:href=\"psysml:400438d1-4a79-4175-ae6b-80e92b548ca9\" xlink:show=\"new\" xlink:title=\"psysml:400438d1-4a79-4175-ae6b-80e92b548ca9\" xlink:type=\"simple\"><path d=\"M558,421.09 C558,421.09 558,492.94 558,492.94 \" fill=\"none\" id=\"E8-&gt;*end*E6\" style=\"stroke: #383838; stroke-width: 1.0;\"/><polygon fill=\"#383838\" points=\"558,497.94,562,488.94,558,492.94,554,488.94,558,497.94\" style=\"stroke: #383838; stroke-width: 1.0;\"/><text fill=\"#000000\" font-family=\"sans-serif\" font-size=\"13\" lengthAdjust=\"spacingAndGlyphs\" textLength=\"23\" x=\"559\" y=\"464.0669\">Exit</text></a><!--MD5=[79bc8f324ef4d02c541433f2e6e513c3]\n",
       "link E7 to E8--><a href=\"psysml:516b9b87-0f3c-4a45-97aa-978805331ddd\" target=\"_top\" title=\"psysml:516b9b87-0f3c-4a45-97aa-978805331ddd\" xlink:actuate=\"onRequest\" xlink:href=\"psysml:516b9b87-0f3c-4a45-97aa-978805331ddd\" xlink:show=\"new\" xlink:title=\"psysml:516b9b87-0f3c-4a45-97aa-978805331ddd\" xlink:type=\"simple\"><path d=\"M549.67,296.25 C549.67,296.25 549.67,367.93 549.67,367.93 \" fill=\"none\" id=\"E7-&gt;E8\" style=\"stroke: #383838; stroke-width: 1.0;\"/><polygon fill=\"#383838\" points=\"549.67,372.93,553.67,363.93,549.67,367.93,545.67,363.93,549.67,372.93\" style=\"stroke: #383838; stroke-width: 1.0;\"/><text fill=\"#000000\" font-family=\"sans-serif\" font-size=\"13\" lengthAdjust=\"spacingAndGlyphs\" textLength=\"81\" x=\"498\" y=\"339.0669\">Sig /action D</text></a><!--MD5=[bfa3c8b0d15052fdf50ae9310b491027]\n",
       "link E8 to E7--><a href=\"psysml:0976314e-a9f7-4444-bafa-f8883db64fa0\" target=\"_top\" title=\"psysml:0976314e-a9f7-4444-bafa-f8883db64fa0\" xlink:actuate=\"onRequest\" xlink:href=\"psysml:0976314e-a9f7-4444-bafa-f8883db64fa0\" xlink:show=\"new\" xlink:title=\"psysml:0976314e-a9f7-4444-bafa-f8883db64fa0\" xlink:type=\"simple\"><path d=\"M566.33,372.8 C566.33,372.8 566.33,301.14 566.33,301.14 \" fill=\"none\" id=\"E8-&gt;E7\" style=\"stroke: #383838; stroke-width: 1.0;\"/><polygon fill=\"#383838\" points=\"566.33,296.14,562.33,305.14,566.33,301.14,570.33,305.14,566.33,296.14\" style=\"stroke: #383838; stroke-width: 1.0;\"/><text fill=\"#000000\" font-family=\"sans-serif\" font-size=\"13\" lengthAdjust=\"spacingAndGlyphs\" textLength=\"135\" x=\"621\" y=\"339.0669\">Sig [true]/send s to p</text></a><!--MD5=[dd6506f8e7b5645ae423106d81b8aba7]\n",
       "@startuml\r\n",
       "skinparam linetype ortho\r\n",
       "skinparam monochrome true\r\n",
       "skinparam classbackgroundcolor white\r\n",
       "skinparam shadowing false\r\n",
       "skinparam wrapWidth 300\r\n",
       "hide circle\r\n",
       "\r\n",
       "package \"StateTest\" as E1  [[psysml:9c548ee6-d869-4820-b951-32f5a4e72165 ]]  {\r\n",
       "comp def \"Sig\" as E2  <<(T,blue)attribute def>> [[psysml:7a2ca9b4-3a97-4e8a-92f8-a9f50dc832cb ]] {\r\n",
       "- - attributes - -\r\n",
       "x\r\n",
       "}\r\n",
       "comp def \"Exit\" as E3  <<(T,blue)attribute def>> [[psysml:30361623-caf7-482c-9813-174242dd8f3c ]] {\r\n",
       "}\r\n",
       "comp usage \"p\" as E4  <<(T,blue)part>> [[psysml:86d86843-d597-4d6e-917a-885d695bc43d ]] {\r\n",
       "}\r\n",
       "rec usage \"act\" as E5  <<(T,blue)action>> [[psysml:6cb3785d-90e3-4021-b607-f0ab9874924c ]] {\r\n",
       "}\r\n",
       "\r\n",
       "rec def \"S\" as E6  <<(T,blue)state def>> [[psysml:409d967c-2b55-4985-b068-ed253d96c58c ]] {\r\n",
       "rec usage \"S1\" as E7 [[psysml:5ea02985-bc8b-4cb1-bb08-c3caa7c881e0 ]] {\r\n",
       "}\r\n",
       "\r\n",
       "rec usage \"S2\" as E8 [[psysml:15193c6f-79c7-4ee2-a2ac-bfb559b7d876 ]] {\r\n",
       "desc \"S2\" as E8  : **do**/ \r\n",
       "}\r\n",
       "\r\n",
       "[*] - -> E7 [[psysml:50e6b136-bb64-4da5-b9f3-893462631a2b ]] \r\n",
       "E8  - -> [*] [[psysml:400438d1-4a79-4175-ae6b-80e92b548ca9 ]] : Exit \r\n",
       "desc \"S\" as E6  : **entry**/ A\r\n",
       "desc \"S\" as E6  : **do**/ B\r\n",
       "desc \"S\" as E6  : **exit**/ act \r\n",
       "}\r\n",
       "\r\n",
       "E7  - -> E8 [[psysml:516b9b87-0f3c-4a45-97aa-978805331ddd ]] : Sig /action D\r\n",
       "E8  - -> E7 [[psysml:0976314e-a9f7-4444-bafa-f8883db64fa0 ]] : Sig [true]/send s to p\r\n",
       "}\r\n",
       "@enduml\r\n",
       "\n",
       "PlantUML version 1.2020.13(Sat Jun 13 12:26:38 UTC 2020)\n",
       "(EPL source distribution)\n",
       "Java Runtime: OpenJDK Runtime Environment\n",
       "JVM: OpenJDK 64-Bit Server VM\n",
       "Default Encoding: UTF-8\n",
       "Language: en\n",
       "Country: null\n",
       "--></g></svg>"
      ]
     },
     "execution_count": 51,
     "metadata": {},
     "output_type": "execute_result"
    }
   ],
   "source": [
    "%viz --style=\"ORTHOLINE\" --view=\"Default\" \"StateTest\""
   ]
  },
  {
   "cell_type": "code",
   "execution_count": 52,
   "id": "reflected-holiday",
   "metadata": {
    "execution": {
     "iopub.execute_input": "2021-03-26T09:13:56.522739Z",
     "iopub.status.busy": "2021-03-26T09:13:56.522236Z",
     "iopub.status.idle": "2021-03-26T09:13:56.617977Z",
     "shell.execute_reply": "2021-03-26T09:13:56.616661Z"
    }
   },
   "outputs": [
    {
     "data": {
      "image/svg+xml": [
       "<?xml version=\"1.0\" encoding=\"UTF-8\" standalone=\"no\"?><svg xmlns=\"http://www.w3.org/2000/svg\" xmlns:xlink=\"http://www.w3.org/1999/xlink\" contentScriptType=\"application/ecmascript\" contentStyleType=\"text/css\" height=\"471px\" preserveAspectRatio=\"none\" style=\"width:594px;height:471px;\" version=\"1.1\" viewBox=\"0 0 594 471\" width=\"594px\" zoomAndPan=\"magnify\"><defs/><g><!--MD5=[fbc87193dbaf4d95561dea2c320d4a47]\n",
       "cluster E1--><a href=\"psysml:9c548ee6-d869-4820-b951-32f5a4e72165\" target=\"_top\" title=\"psysml:9c548ee6-d869-4820-b951-32f5a4e72165\" xlink:actuate=\"onRequest\" xlink:href=\"psysml:9c548ee6-d869-4820-b951-32f5a4e72165\" xlink:show=\"new\" xlink:title=\"psysml:9c548ee6-d869-4820-b951-32f5a4e72165\" xlink:type=\"simple\"><polygon fill=\"#FFFFFF\" points=\"16,6,98,6,105,28.2969,572,28.2969,572,459,16,459,16,6\" style=\"stroke: #000000; stroke-width: 1.5;\"/><line style=\"stroke: #000000; stroke-width: 1.5;\" x1=\"16\" x2=\"105\" y1=\"28.2969\" y2=\"28.2969\"/><text fill=\"#000000\" font-family=\"sans-serif\" font-size=\"14\" font-weight=\"bold\" lengthAdjust=\"spacingAndGlyphs\" textLength=\"76\" x=\"20\" y=\"20.9951\">StateTest</text></a><!--MD5=[b4997ac47864f28c2f74865a473b2911]\n",
       "class E2--><a href=\"psysml:7a2ca9b4-3a97-4e8a-92f8-a9f50dc832cb\" target=\"_top\" title=\"psysml:7a2ca9b4-3a97-4e8a-92f8-a9f50dc832cb\" xlink:actuate=\"onRequest\" xlink:href=\"psysml:7a2ca9b4-3a97-4e8a-92f8-a9f50dc832cb\" xlink:show=\"new\" xlink:title=\"psysml:7a2ca9b4-3a97-4e8a-92f8-a9f50dc832cb\" xlink:type=\"simple\"><rect fill=\"#FFFFFF\" height=\"75.5469\" id=\"E2\" style=\"stroke: #383838; stroke-width: 1.5;\" width=\"95\" x=\"460.5\" y=\"83\"/><text fill=\"#000000\" font-family=\"sans-serif\" font-size=\"12\" font-style=\"italic\" lengthAdjust=\"spacingAndGlyphs\" textLength=\"93\" x=\"461.5\" y=\"99.1387\">«attribute def»</text><text fill=\"#000000\" font-family=\"sans-serif\" font-size=\"12\" lengthAdjust=\"spacingAndGlyphs\" textLength=\"19\" x=\"498.5\" y=\"113.1074\">Sig</text><line style=\"stroke: #383838; stroke-width: 1.5;\" x1=\"461.5\" x2=\"554.5\" y1=\"120.9375\" y2=\"120.9375\"/><text fill=\"#000000\" font-family=\"sans-serif\" font-size=\"11\" lengthAdjust=\"spacingAndGlyphs\" textLength=\"6\" x=\"466.5\" y=\"151.9526\">x</text><line style=\"stroke: #383838; stroke-width: 1.0;\" x1=\"461.5\" x2=\"480.5\" y1=\"135.3398\" y2=\"135.3398\"/><text fill=\"#000000\" font-family=\"sans-serif\" font-size=\"11\" lengthAdjust=\"spacingAndGlyphs\" textLength=\"55\" x=\"480.5\" y=\"138.6479\">attributes</text><line style=\"stroke: #383838; stroke-width: 1.0;\" x1=\"535.5\" x2=\"554.5\" y1=\"135.3398\" y2=\"135.3398\"/></a><!--MD5=[09b614a08d8cba4a07c9adeb5e0fee81]\n",
       "class E3--><a href=\"psysml:30361623-caf7-482c-9813-174242dd8f3c\" target=\"_top\" title=\"psysml:30361623-caf7-482c-9813-174242dd8f3c\" xlink:actuate=\"onRequest\" xlink:href=\"psysml:30361623-caf7-482c-9813-174242dd8f3c\" xlink:show=\"new\" xlink:title=\"psysml:30361623-caf7-482c-9813-174242dd8f3c\" xlink:type=\"simple\"><rect fill=\"#FFFFFF\" height=\"45.9375\" id=\"E3\" style=\"stroke: #383838; stroke-width: 1.5;\" width=\"95\" x=\"330.5\" y=\"98\"/><text fill=\"#000000\" font-family=\"sans-serif\" font-size=\"12\" font-style=\"italic\" lengthAdjust=\"spacingAndGlyphs\" textLength=\"93\" x=\"331.5\" y=\"114.1387\">«attribute def»</text><text fill=\"#000000\" font-family=\"sans-serif\" font-size=\"12\" lengthAdjust=\"spacingAndGlyphs\" textLength=\"22\" x=\"367\" y=\"128.1074\">Exit</text><line style=\"stroke: #383838; stroke-width: 1.5;\" x1=\"331.5\" x2=\"424.5\" y1=\"135.9375\" y2=\"135.9375\"/></a><!--MD5=[ebbe1d658d1005bcc118a6aa81145e00]\n",
       "class E4--><a href=\"psysml:86d86843-d597-4d6e-917a-885d695bc43d\" target=\"_top\" title=\"psysml:86d86843-d597-4d6e-917a-885d695bc43d\" xlink:actuate=\"onRequest\" xlink:href=\"psysml:86d86843-d597-4d6e-917a-885d695bc43d\" xlink:show=\"new\" xlink:title=\"psysml:86d86843-d597-4d6e-917a-885d695bc43d\" xlink:type=\"simple\"><rect fill=\"#FFFFFF\" height=\"45.9375\" id=\"E4\" rx=\"10\" ry=\"10\" style=\"stroke: #383838; stroke-width: 1.5;\" width=\"42\" x=\"253\" y=\"98\"/><text fill=\"#000000\" font-family=\"sans-serif\" font-size=\"12\" font-style=\"italic\" lengthAdjust=\"spacingAndGlyphs\" textLength=\"40\" x=\"254\" y=\"114.1387\">«part»</text><text fill=\"#000000\" font-family=\"sans-serif\" font-size=\"12\" lengthAdjust=\"spacingAndGlyphs\" textLength=\"8\" x=\"270\" y=\"128.1074\">p</text><line style=\"stroke: #383838; stroke-width: 1.5;\" x1=\"254\" x2=\"294\" y1=\"135.9375\" y2=\"135.9375\"/></a><!--MD5=[270fce915f116d4de14055a7c1d9a0f3]\n",
       "class E5--><a href=\"psysml:6cb3785d-90e3-4021-b607-f0ab9874924c\" target=\"_top\" title=\"psysml:6cb3785d-90e3-4021-b607-f0ab9874924c\" xlink:actuate=\"onRequest\" xlink:href=\"psysml:6cb3785d-90e3-4021-b607-f0ab9874924c\" xlink:show=\"new\" xlink:title=\"psysml:6cb3785d-90e3-4021-b607-f0ab9874924c\" xlink:type=\"simple\"><rect fill=\"#FFFFFF\" height=\"45.9375\" id=\"E5\" rx=\"10\" ry=\"10\" style=\"stroke: #383838; stroke-width: 1.5;\" width=\"55\" x=\"162.5\" y=\"98\"/><text fill=\"#000000\" font-family=\"sans-serif\" font-size=\"12\" font-style=\"italic\" lengthAdjust=\"spacingAndGlyphs\" textLength=\"53\" x=\"163.5\" y=\"114.1387\">«action»</text><text fill=\"#000000\" font-family=\"sans-serif\" font-size=\"12\" lengthAdjust=\"spacingAndGlyphs\" textLength=\"20\" x=\"180\" y=\"128.1074\">act</text><line style=\"stroke: #383838; stroke-width: 1.5;\" x1=\"163.5\" x2=\"216.5\" y1=\"135.9375\" y2=\"135.9375\"/></a><!--MD5=[60a26617385b1d2d0262a64233df1f8d]\n",
       "class E6--><a href=\"psysml:409d967c-2b55-4985-b068-ed253d96c58c\" target=\"_top\" title=\"psysml:409d967c-2b55-4985-b068-ed253d96c58c\" xlink:actuate=\"onRequest\" xlink:href=\"psysml:409d967c-2b55-4985-b068-ed253d96c58c\" xlink:show=\"new\" xlink:title=\"psysml:409d967c-2b55-4985-b068-ed253d96c58c\" xlink:type=\"simple\"><rect fill=\"#FFFFFF\" height=\"160.375\" id=\"E6\" style=\"stroke: #383838; stroke-width: 1.5;\" width=\"95\" x=\"32.5\" y=\"41\"/><text fill=\"#000000\" font-family=\"sans-serif\" font-size=\"12\" font-style=\"italic\" lengthAdjust=\"spacingAndGlyphs\" textLength=\"71\" x=\"44.5\" y=\"57.1387\">«state def»</text><text fill=\"#000000\" font-family=\"sans-serif\" font-size=\"12\" lengthAdjust=\"spacingAndGlyphs\" textLength=\"8\" x=\"76\" y=\"71.1074\">S</text><line style=\"stroke: #383838; stroke-width: 1.5;\" x1=\"33.5\" x2=\"126.5\" y1=\"78.9375\" y2=\"78.9375\"/><text fill=\"#000000\" font-family=\"sans-serif\" font-size=\"11\" lengthAdjust=\"spacingAndGlyphs\" textLength=\"17\" x=\"38.5\" y=\"109.9526\">act</text><text fill=\"#000000\" font-family=\"sans-serif\" font-size=\"11\" lengthAdjust=\"spacingAndGlyphs\" textLength=\"7\" x=\"38.5\" y=\"122.7573\">A</text><text fill=\"#000000\" font-family=\"sans-serif\" font-size=\"11\" lengthAdjust=\"spacingAndGlyphs\" textLength=\"8\" x=\"38.5\" y=\"135.562\">B</text><line style=\"stroke: #383838; stroke-width: 1.0;\" x1=\"33.5\" x2=\"36.5\" y1=\"93.3398\" y2=\"93.3398\"/><text fill=\"#000000\" font-family=\"sans-serif\" font-size=\"11\" lengthAdjust=\"spacingAndGlyphs\" textLength=\"87\" x=\"36.5\" y=\"96.6479\">performActions</text><line style=\"stroke: #383838; stroke-width: 1.0;\" x1=\"123.5\" x2=\"126.5\" y1=\"93.3398\" y2=\"93.3398\"/><text fill=\"#000000\" font-family=\"sans-serif\" font-size=\"11\" lengthAdjust=\"spacingAndGlyphs\" textLength=\"15\" x=\"38.5\" y=\"165.1714\">S1</text><line style=\"stroke: #383838; stroke-width: 1.0;\" x1=\"33.5\" x2=\"62\" y1=\"148.5586\" y2=\"148.5586\"/><text fill=\"#000000\" font-family=\"sans-serif\" font-size=\"11\" lengthAdjust=\"spacingAndGlyphs\" textLength=\"36\" x=\"62\" y=\"151.8667\">states</text><line style=\"stroke: #383838; stroke-width: 1.0;\" x1=\"98\" x2=\"126.5\" y1=\"148.5586\" y2=\"148.5586\"/><text fill=\"#000000\" font-family=\"sans-serif\" font-size=\"11\" lengthAdjust=\"spacingAndGlyphs\" textLength=\"7\" x=\"38.5\" y=\"194.7808\">T</text><line style=\"stroke: #383838; stroke-width: 1.0;\" x1=\"33.5\" x2=\"49.5\" y1=\"178.168\" y2=\"178.168\"/><text fill=\"#000000\" font-family=\"sans-serif\" font-size=\"11\" lengthAdjust=\"spacingAndGlyphs\" textLength=\"61\" x=\"49.5\" y=\"181.4761\">transitions</text><line style=\"stroke: #383838; stroke-width: 1.0;\" x1=\"110.5\" x2=\"126.5\" y1=\"178.168\" y2=\"178.168\"/></a><!--MD5=[1dd1bfd58a279cf63c5f349dbc8fc6a1]\n",
       "class E11--><a href=\"psysml:15193c6f-79c7-4ee2-a2ac-bfb559b7d876\" target=\"_top\" title=\"psysml:15193c6f-79c7-4ee2-a2ac-bfb559b7d876\" xlink:actuate=\"onRequest\" xlink:href=\"psysml:15193c6f-79c7-4ee2-a2ac-bfb559b7d876\" xlink:show=\"new\" xlink:title=\"psysml:15193c6f-79c7-4ee2-a2ac-bfb559b7d876\" xlink:type=\"simple\"><rect fill=\"#FFFFFF\" height=\"45.9375\" id=\"E11\" rx=\"10\" ry=\"10\" style=\"stroke: #383838; stroke-width: 1.5;\" width=\"49\" x=\"55.5\" y=\"261\"/><text fill=\"#000000\" font-family=\"sans-serif\" font-size=\"12\" font-style=\"italic\" lengthAdjust=\"spacingAndGlyphs\" textLength=\"47\" x=\"56.5\" y=\"277.1387\">«state»</text><text fill=\"#000000\" font-family=\"sans-serif\" font-size=\"12\" lengthAdjust=\"spacingAndGlyphs\" textLength=\"16\" x=\"72\" y=\"291.1074\">S2</text><line style=\"stroke: #383838; stroke-width: 1.5;\" x1=\"56.5\" x2=\"103.5\" y1=\"298.9375\" y2=\"298.9375\"/></a><!--MD5=[49a0ec8f00dab7302a31f22d0f0fe584]\n",
       "class E12--><a href=\"psysml:02a264b3-17c4-490c-b5b1-f49bb5aa02c2\" target=\"_top\" title=\"psysml:02a264b3-17c4-490c-b5b1-f49bb5aa02c2\" xlink:actuate=\"onRequest\" xlink:href=\"psysml:02a264b3-17c4-490c-b5b1-f49bb5aa02c2\" xlink:show=\"new\" xlink:title=\"psysml:02a264b3-17c4-490c-b5b1-f49bb5aa02c2\" xlink:type=\"simple\"><rect fill=\"#FFFFFF\" height=\"75.5469\" id=\"E12\" rx=\"10\" ry=\"10\" style=\"stroke: #383838; stroke-width: 1.5;\" width=\"90\" x=\"35\" y=\"367\"/><text fill=\"#000000\" font-family=\"sans-serif\" font-size=\"12\" font-style=\"italic\" lengthAdjust=\"spacingAndGlyphs\" textLength=\"88\" x=\"36\" y=\"383.1387\">«send action»</text><text fill=\"#000000\" font-family=\"sans-serif\" font-size=\"12\" lengthAdjust=\"spacingAndGlyphs\" textLength=\"55\" x=\"52.5\" y=\"397.1074\">doAction</text><line style=\"stroke: #383838; stroke-width: 1.5;\" x1=\"36\" x2=\"124\" y1=\"404.9375\" y2=\"404.9375\"/><text fill=\"#000000\" font-family=\"sans-serif\" font-size=\"11\" lengthAdjust=\"spacingAndGlyphs\" textLength=\"25\" x=\"41\" y=\"435.9526\">item</text><line style=\"stroke: #383838; stroke-width: 1.0;\" x1=\"36\" x2=\"42.5\" y1=\"419.3398\" y2=\"419.3398\"/><text fill=\"#000000\" font-family=\"sans-serif\" font-size=\"11\" lengthAdjust=\"spacingAndGlyphs\" textLength=\"75\" x=\"42.5\" y=\"422.6479\">itemFeatures</text><line style=\"stroke: #383838; stroke-width: 1.0;\" x1=\"117.5\" x2=\"124\" y1=\"419.3398\" y2=\"419.3398\"/></a><!--MD5=[1f5f03483f7de0d5b3680a7f6650997f]\n",
       "reverse link E6 to E11--><a href=\"psysml:15193c6f-79c7-4ee2-a2ac-bfb559b7d876\" target=\"_top\" title=\"psysml:15193c6f-79c7-4ee2-a2ac-bfb559b7d876\" xlink:actuate=\"onRequest\" xlink:href=\"psysml:15193c6f-79c7-4ee2-a2ac-bfb559b7d876\" xlink:show=\"new\" xlink:title=\"psysml:15193c6f-79c7-4ee2-a2ac-bfb559b7d876\" xlink:type=\"simple\"><path d=\"M80,214.07 C80,214.07 80,260.85 80,260.85 \" fill=\"none\" id=\"E6&lt;-E11\" style=\"stroke: #383838; stroke-width: 1.0;\"/><polygon fill=\"#383838\" points=\"80,201.07,76,207.07,80,213.07,84,207.07,80,201.07\" style=\"stroke: #383838; stroke-width: 1.0;\"/></a><!--MD5=[94adabc162ce7e41b39f13be14fbaeb3]\n",
       "reverse link E11 to E12--><a href=\"psysml:02a264b3-17c4-490c-b5b1-f49bb5aa02c2\" target=\"_top\" title=\"psysml:02a264b3-17c4-490c-b5b1-f49bb5aa02c2\" xlink:actuate=\"onRequest\" xlink:href=\"psysml:02a264b3-17c4-490c-b5b1-f49bb5aa02c2\" xlink:show=\"new\" xlink:title=\"psysml:02a264b3-17c4-490c-b5b1-f49bb5aa02c2\" xlink:type=\"simple\"><path d=\"M80,320.04 C80,320.04 80,366.81 80,366.81 \" fill=\"none\" id=\"E11&lt;-E12\" style=\"stroke: #383838; stroke-width: 1.0;\"/><polygon fill=\"#FFFFFF\" points=\"80,307.04,76,313.04,80,319.04,84,313.04,80,307.04\" style=\"stroke: #383838; stroke-width: 1.0;\"/></a><!--MD5=[dfd19882119aa10e949976ac10dc1604]\n",
       "@startuml\r\n",
       "skinparam linetype ortho\r\n",
       "skinparam monochrome true\r\n",
       "skinparam classbackgroundcolor white\r\n",
       "skinparam shadowing false\r\n",
       "skinparam wrapWidth 300\r\n",
       "hide circle\r\n",
       "\r\n",
       "package \"StateTest\" as E1  [[psysml:9c548ee6-d869-4820-b951-32f5a4e72165 ]]  {\r\n",
       "comp def \"Sig\" as E2  <<(T,blue)attribute def>> [[psysml:7a2ca9b4-3a97-4e8a-92f8-a9f50dc832cb ]] {\r\n",
       "- - attributes - -\r\n",
       "x\r\n",
       "}\r\n",
       "comp def \"Exit\" as E3  <<(T,blue)attribute def>> [[psysml:30361623-caf7-482c-9813-174242dd8f3c ]] {\r\n",
       "}\r\n",
       "comp usage \"p\" as E4  <<(T,blue)part>> [[psysml:86d86843-d597-4d6e-917a-885d695bc43d ]] {\r\n",
       "}\r\n",
       "comp usage \"act\" as E5  <<(T,blue)action>> [[psysml:6cb3785d-90e3-4021-b607-f0ab9874924c ]] {\r\n",
       "}\r\n",
       "comp def \"S\" as E6  <<(T,blue)state def>> [[psysml:409d967c-2b55-4985-b068-ed253d96c58c ]] {\r\n",
       "- - performActions - -\r\n",
       "act\r\n",
       "A\r\n",
       "B\r\n",
       "- - states - -\r\n",
       "S1\r\n",
       "- - transitions - -\r\n",
       "T\r\n",
       "}\r\n",
       "comp usage \"S2\" as E11  <<(T,blue)state>> [[psysml:15193c6f-79c7-4ee2-a2ac-bfb559b7d876 ]] {\r\n",
       "}\r\n",
       "comp usage \"doAction\" as E12 <<send action>> [[psysml:02a264b3-17c4-490c-b5b1-f49bb5aa02c2 ]] {\r\n",
       "- - itemFeatures - -\r\n",
       "item\r\n",
       "}\r\n",
       "E6 *- - E11 [[psysml:15193c6f-79c7-4ee2-a2ac-bfb559b7d876 ]] \r\n",
       "E11 o- - E12 [[psysml:02a264b3-17c4-490c-b5b1-f49bb5aa02c2 ]] \r\n",
       "}\r\n",
       "@enduml\r\n",
       "\n",
       "PlantUML version 1.2020.13(Sat Jun 13 12:26:38 UTC 2020)\n",
       "(EPL source distribution)\n",
       "Java Runtime: OpenJDK Runtime Environment\n",
       "JVM: OpenJDK 64-Bit Server VM\n",
       "Default Encoding: UTF-8\n",
       "Language: en\n",
       "Country: null\n",
       "--></g></svg>"
      ]
     },
     "execution_count": 52,
     "metadata": {},
     "output_type": "execute_result"
    }
   ],
   "source": [
    "%viz --style=\"ORTHOLINE\" --view=\"Tree\" \"StateTest\""
   ]
  },
  {
   "cell_type": "code",
   "execution_count": 53,
   "id": "adopted-johnston",
   "metadata": {
    "execution": {
     "iopub.execute_input": "2021-03-26T09:13:56.668228Z",
     "iopub.status.busy": "2021-03-26T09:13:56.667771Z",
     "iopub.status.idle": "2021-03-26T09:13:56.694802Z",
     "shell.execute_reply": "2021-03-26T09:13:56.693538Z"
    }
   },
   "outputs": [
    {
     "data": {
      "image/svg+xml": [
       "<?xml version=\"1.0\" encoding=\"UTF-8\" standalone=\"no\"?><svg xmlns=\"http://www.w3.org/2000/svg\" xmlns:xlink=\"http://www.w3.org/1999/xlink\" contentScriptType=\"application/ecmascript\" contentStyleType=\"text/css\" height=\"475px\" preserveAspectRatio=\"none\" style=\"width:346px;height:475px;\" version=\"1.1\" viewBox=\"0 0 346 475\" width=\"346px\" zoomAndPan=\"magnify\"><defs/><g><!--MD5=[fbc87193dbaf4d95561dea2c320d4a47]\n",
       "cluster E1--><a href=\"psysml:409d967c-2b55-4985-b068-ed253d96c58c\" target=\"_top\" title=\"psysml:409d967c-2b55-4985-b068-ed253d96c58c\" xlink:actuate=\"onRequest\" xlink:href=\"psysml:409d967c-2b55-4985-b068-ed253d96c58c\" xlink:show=\"new\" xlink:title=\"psysml:409d967c-2b55-4985-b068-ed253d96c58c\" xlink:type=\"simple\"><rect fill=\"#FFFFFF\" height=\"457\" id=\"E1\" style=\"stroke: #383838; stroke-width: 1.5;\" width=\"327\" x=\"7\" y=\"7\"/><rect fill=\"#F8F8F8\" height=\"37.9375\" style=\"stroke: #383838; stroke-width: 1.5;\" width=\"327\" x=\"7\" y=\"7\"/><text fill=\"#000000\" font-family=\"sans-serif\" font-size=\"12\" font-style=\"italic\" lengthAdjust=\"spacingAndGlyphs\" textLength=\"71\" x=\"135\" y=\"23.1387\">«state def»</text><text fill=\"#000000\" font-family=\"sans-serif\" font-size=\"12\" lengthAdjust=\"spacingAndGlyphs\" textLength=\"8\" x=\"166.5\" y=\"37.1074\">S</text><line style=\"stroke: #383838; stroke-width: 1.0;\" x1=\"7\" x2=\"334\" y1=\"90.8438\" y2=\"90.8438\"/><text fill=\"#000000\" font-family=\"sans-serif\" font-size=\"12\" font-weight=\"bold\" lengthAdjust=\"spacingAndGlyphs\" textLength=\"38\" x=\"12\" y=\"58.0762\">entry</text><text fill=\"#000000\" font-family=\"sans-serif\" font-size=\"12\" lengthAdjust=\"spacingAndGlyphs\" textLength=\"16\" x=\"50\" y=\"58.0762\">/ A</text><text fill=\"#000000\" font-family=\"sans-serif\" font-size=\"12\" font-weight=\"bold\" lengthAdjust=\"spacingAndGlyphs\" textLength=\"18\" x=\"12\" y=\"72.0449\">do</text><text fill=\"#000000\" font-family=\"sans-serif\" font-size=\"12\" lengthAdjust=\"spacingAndGlyphs\" textLength=\"16\" x=\"30\" y=\"72.0449\">/ B</text><text fill=\"#000000\" font-family=\"sans-serif\" font-size=\"12\" font-weight=\"bold\" lengthAdjust=\"spacingAndGlyphs\" textLength=\"26\" x=\"12\" y=\"86.0137\">exit</text><text fill=\"#000000\" font-family=\"sans-serif\" font-size=\"12\" lengthAdjust=\"spacingAndGlyphs\" textLength=\"28\" x=\"38\" y=\"86.0137\">/ act</text></a><ellipse cx=\"119\" cy=\"115\" fill=\"#000000\" rx=\"10\" ry=\"10\" style=\"stroke: none; stroke-width: 1.0;\"/><ellipse cx=\"119\" cy=\"438\" fill=\"none\" rx=\"10\" ry=\"10\" style=\"stroke: #000000; stroke-width: 1.0;\"/><ellipse cx=\"119.5\" cy=\"438.5\" fill=\"#000000\" rx=\"6\" ry=\"6\" style=\"stroke: none; stroke-width: 1.0;\"/><g id=\"E1.E2\"><a href=\"psysml:5ea02985-bc8b-4cb1-bb08-c3caa7c881e0\" target=\"_top\" title=\"psysml:5ea02985-bc8b-4cb1-bb08-c3caa7c881e0\" xlink:actuate=\"onRequest\" xlink:href=\"psysml:5ea02985-bc8b-4cb1-bb08-c3caa7c881e0\" xlink:show=\"new\" xlink:title=\"psysml:5ea02985-bc8b-4cb1-bb08-c3caa7c881e0\" xlink:type=\"simple\"><rect fill=\"#FFFFFF\" height=\"40\" id=\"E2\" rx=\"10\" ry=\"10\" style=\"stroke: #383838; stroke-width: 1.5;\" width=\"50\" x=\"94\" y=\"186\"/><rect fill=\"#F8F8F8\" height=\"23.9688\" rx=\"10\" ry=\"10\" style=\"stroke: #F8F8F8; stroke-width: 1.5;\" width=\"50\" x=\"94\" y=\"186\"/><rect fill=\"#F8F8F8\" height=\"10\" style=\"stroke: #F8F8F8; stroke-width: 1.5;\" width=\"50\" x=\"94\" y=\"199.9688\"/><rect fill=\"none\" height=\"40\" id=\"E2\" rx=\"10\" ry=\"10\" style=\"stroke: #383838; stroke-width: 1.5;\" width=\"50\" x=\"94\" y=\"186\"/><text fill=\"#000000\" font-family=\"sans-serif\" font-size=\"12\" lengthAdjust=\"spacingAndGlyphs\" textLength=\"16\" x=\"111\" y=\"202.1387\">S1</text></a></g><g id=\"E1.E3\"><a href=\"psysml:15193c6f-79c7-4ee2-a2ac-bfb559b7d876\" target=\"_top\" title=\"psysml:15193c6f-79c7-4ee2-a2ac-bfb559b7d876\" xlink:actuate=\"onRequest\" xlink:href=\"psysml:15193c6f-79c7-4ee2-a2ac-bfb559b7d876\" xlink:show=\"new\" xlink:title=\"psysml:15193c6f-79c7-4ee2-a2ac-bfb559b7d876\" xlink:type=\"simple\"><rect fill=\"#FFFFFF\" height=\"47.9375\" id=\"E3\" rx=\"10\" ry=\"10\" style=\"stroke: #383838; stroke-width: 1.5;\" width=\"50\" x=\"94\" y=\"303\"/><rect fill=\"#F8F8F8\" height=\"23.9688\" rx=\"10\" ry=\"10\" style=\"stroke: #F8F8F8; stroke-width: 1.5;\" width=\"50\" x=\"94\" y=\"303\"/><rect fill=\"#F8F8F8\" height=\"10\" style=\"stroke: #F8F8F8; stroke-width: 1.5;\" width=\"50\" x=\"94\" y=\"316.9688\"/><rect fill=\"none\" height=\"47.9375\" id=\"E3\" rx=\"10\" ry=\"10\" style=\"stroke: #383838; stroke-width: 1.5;\" width=\"50\" x=\"94\" y=\"303\"/><text fill=\"#000000\" font-family=\"sans-serif\" font-size=\"12\" lengthAdjust=\"spacingAndGlyphs\" textLength=\"16\" x=\"111\" y=\"319.1387\">S2</text><line style=\"stroke: #383838; stroke-width: 1.0;\" x1=\"94\" x2=\"144\" y1=\"326.9688\" y2=\"326.9688\"/><text fill=\"#000000\" font-family=\"sans-serif\" font-size=\"12\" font-weight=\"bold\" lengthAdjust=\"spacingAndGlyphs\" textLength=\"18\" x=\"99\" y=\"340.1074\">do</text><text fill=\"#000000\" font-family=\"sans-serif\" font-size=\"12\" lengthAdjust=\"spacingAndGlyphs\" textLength=\"4\" x=\"117\" y=\"340.1074\">/</text></a></g><!--MD5=[cff944eb183b832d446717a4e202d613]\n",
       "link *start*E1 to E2--><a href=\"psysml:50e6b136-bb64-4da5-b9f3-893462631a2b\" target=\"_top\" title=\"psysml:50e6b136-bb64-4da5-b9f3-893462631a2b\" xlink:actuate=\"onRequest\" xlink:href=\"psysml:50e6b136-bb64-4da5-b9f3-893462631a2b\" xlink:show=\"new\" xlink:title=\"psysml:50e6b136-bb64-4da5-b9f3-893462631a2b\" xlink:type=\"simple\"><path d=\"M119,125.09 C119,125.09 119,180.93 119,180.93 \" fill=\"none\" id=\"*start*E1-&gt;E2\" style=\"stroke: #383838; stroke-width: 1.0;\"/><polygon fill=\"#383838\" points=\"119,185.93,123,176.93,119,180.93,115,176.93,119,185.93\" style=\"stroke: #383838; stroke-width: 1.0;\"/></a><!--MD5=[9ee7afa76ca8c509b3d216624c3a9893]\n",
       "link E3 to *end*E1--><a href=\"psysml:400438d1-4a79-4175-ae6b-80e92b548ca9\" target=\"_top\" title=\"psysml:400438d1-4a79-4175-ae6b-80e92b548ca9\" xlink:actuate=\"onRequest\" xlink:href=\"psysml:400438d1-4a79-4175-ae6b-80e92b548ca9\" xlink:show=\"new\" xlink:title=\"psysml:400438d1-4a79-4175-ae6b-80e92b548ca9\" xlink:type=\"simple\"><path d=\"M119,351.09 C119,351.09 119,422.94 119,422.94 \" fill=\"none\" id=\"E3-&gt;*end*E1\" style=\"stroke: #383838; stroke-width: 1.0;\"/><polygon fill=\"#383838\" points=\"119,427.94,123,418.94,119,422.94,115,418.94,119,427.94\" style=\"stroke: #383838; stroke-width: 1.0;\"/><text fill=\"#000000\" font-family=\"sans-serif\" font-size=\"13\" lengthAdjust=\"spacingAndGlyphs\" textLength=\"23\" x=\"120\" y=\"394.0669\">Exit</text></a><!--MD5=[2720a5a1f2c3fca2055b230370638851]\n",
       "link E2 to E3--><a href=\"psysml:516b9b87-0f3c-4a45-97aa-978805331ddd\" target=\"_top\" title=\"psysml:516b9b87-0f3c-4a45-97aa-978805331ddd\" xlink:actuate=\"onRequest\" xlink:href=\"psysml:516b9b87-0f3c-4a45-97aa-978805331ddd\" xlink:show=\"new\" xlink:title=\"psysml:516b9b87-0f3c-4a45-97aa-978805331ddd\" xlink:type=\"simple\"><path d=\"M110.67,226.25 C110.67,226.25 110.67,297.93 110.67,297.93 \" fill=\"none\" id=\"E2-&gt;E3\" style=\"stroke: #383838; stroke-width: 1.0;\"/><polygon fill=\"#383838\" points=\"110.67,302.93,114.67,293.93,110.67,297.93,106.67,293.93,110.67,302.93\" style=\"stroke: #383838; stroke-width: 1.0;\"/><text fill=\"#000000\" font-family=\"sans-serif\" font-size=\"13\" lengthAdjust=\"spacingAndGlyphs\" textLength=\"81\" x=\"59\" y=\"269.0669\">Sig /action D</text></a><!--MD5=[05d275557350bfb9b23a4ef7222b4c39]\n",
       "link E3 to E2--><a href=\"psysml:0976314e-a9f7-4444-bafa-f8883db64fa0\" target=\"_top\" title=\"psysml:0976314e-a9f7-4444-bafa-f8883db64fa0\" xlink:actuate=\"onRequest\" xlink:href=\"psysml:0976314e-a9f7-4444-bafa-f8883db64fa0\" xlink:show=\"new\" xlink:title=\"psysml:0976314e-a9f7-4444-bafa-f8883db64fa0\" xlink:type=\"simple\"><path d=\"M127.33,302.8 C127.33,302.8 127.33,231.14 127.33,231.14 \" fill=\"none\" id=\"E3-&gt;E2\" style=\"stroke: #383838; stroke-width: 1.0;\"/><polygon fill=\"#383838\" points=\"127.33,226.14,123.33,235.14,127.33,231.14,131.33,235.14,127.33,226.14\" style=\"stroke: #383838; stroke-width: 1.0;\"/><text fill=\"#000000\" font-family=\"sans-serif\" font-size=\"13\" lengthAdjust=\"spacingAndGlyphs\" textLength=\"135\" x=\"182\" y=\"269.0669\">Sig [true]/send s to p</text></a><!--MD5=[c823a32b03c82e90acd8e8564935a1d9]\n",
       "@startuml\r\n",
       "skinparam linetype ortho\r\n",
       "skinparam monochrome true\r\n",
       "skinparam classbackgroundcolor white\r\n",
       "skinparam shadowing false\r\n",
       "skinparam wrapWidth 300\r\n",
       "hide circle\r\n",
       "\r\n",
       "rec def \"S\" as E1  <<(T,blue)state def>> [[psysml:409d967c-2b55-4985-b068-ed253d96c58c ]] {\r\n",
       "rec usage \"S1\" as E2 [[psysml:5ea02985-bc8b-4cb1-bb08-c3caa7c881e0 ]] {\r\n",
       "}\r\n",
       "\r\n",
       "rec usage \"S2\" as E3 [[psysml:15193c6f-79c7-4ee2-a2ac-bfb559b7d876 ]] {\r\n",
       "desc \"S2\" as E3  : **do**/ \r\n",
       "}\r\n",
       "\r\n",
       "[*] - -> E2 [[psysml:50e6b136-bb64-4da5-b9f3-893462631a2b ]] \r\n",
       "E3  - -> [*] [[psysml:400438d1-4a79-4175-ae6b-80e92b548ca9 ]] : Exit \r\n",
       "desc \"S\" as E1  : **entry**/ A\r\n",
       "desc \"S\" as E1  : **do**/ B\r\n",
       "desc \"S\" as E1  : **exit**/ act \r\n",
       "}\r\n",
       "\r\n",
       "E2  - -> E3 [[psysml:516b9b87-0f3c-4a45-97aa-978805331ddd ]] : Sig /action D\r\n",
       "E3  - -> E2 [[psysml:0976314e-a9f7-4444-bafa-f8883db64fa0 ]] : Sig [true]/send s to p\r\n",
       "@enduml\r\n",
       "\n",
       "PlantUML version 1.2020.13(Sat Jun 13 12:26:38 UTC 2020)\n",
       "(EPL source distribution)\n",
       "Java Runtime: OpenJDK Runtime Environment\n",
       "JVM: OpenJDK 64-Bit Server VM\n",
       "Default Encoding: UTF-8\n",
       "Language: en\n",
       "Country: null\n",
       "--></g></svg>"
      ]
     },
     "execution_count": 53,
     "metadata": {},
     "output_type": "execute_result"
    }
   ],
   "source": [
    "%viz --style=\"ORTHOLINE\" --view=\"State\" \"StateTest\""
   ]
  },
  {
   "cell_type": "code",
   "execution_count": 54,
   "id": "facial-vaccine",
   "metadata": {
    "execution": {
     "iopub.execute_input": "2021-03-26T09:13:56.745056Z",
     "iopub.status.busy": "2021-03-26T09:13:56.744648Z",
     "iopub.status.idle": "2021-03-26T09:13:56.766429Z",
     "shell.execute_reply": "2021-03-26T09:13:56.765259Z"
    }
   },
   "outputs": [
    {
     "data": {
      "image/svg+xml": [
       "<?xml version=\"1.0\" encoding=\"UTF-8\" standalone=\"no\"?><svg xmlns=\"http://www.w3.org/2000/svg\" xmlns:xlink=\"http://www.w3.org/1999/xlink\" contentScriptType=\"application/ecmascript\" contentStyleType=\"text/css\" height=\"123px\" preserveAspectRatio=\"none\" style=\"width:728px;height:123px;\" version=\"1.1\" viewBox=\"0 0 728 123\" width=\"728px\" zoomAndPan=\"magnify\"><defs/><g><!--MD5=[fbc87193dbaf4d95561dea2c320d4a47]\n",
       "cluster E1--><a href=\"psysml:9c548ee6-d869-4820-b951-32f5a4e72165\" target=\"_top\" title=\"psysml:9c548ee6-d869-4820-b951-32f5a4e72165\" xlink:actuate=\"onRequest\" xlink:href=\"psysml:9c548ee6-d869-4820-b951-32f5a4e72165\" xlink:show=\"new\" xlink:title=\"psysml:9c548ee6-d869-4820-b951-32f5a4e72165\" xlink:type=\"simple\"><polygon fill=\"#FFFFFF\" points=\"16,6,98,6,105,28.2969,706,28.2969,706,111,16,111,16,6\" style=\"stroke: #000000; stroke-width: 1.5;\"/><line style=\"stroke: #000000; stroke-width: 1.5;\" x1=\"16\" x2=\"105\" y1=\"28.2969\" y2=\"28.2969\"/><text fill=\"#000000\" font-family=\"sans-serif\" font-size=\"14\" font-weight=\"bold\" lengthAdjust=\"spacingAndGlyphs\" textLength=\"76\" x=\"20\" y=\"20.9951\">StateTest</text></a><!--MD5=[b4997ac47864f28c2f74865a473b2911]\n",
       "class E2--><a href=\"psysml:7a2ca9b4-3a97-4e8a-92f8-a9f50dc832cb\" target=\"_top\" title=\"psysml:7a2ca9b4-3a97-4e8a-92f8-a9f50dc832cb\" xlink:actuate=\"onRequest\" xlink:href=\"psysml:7a2ca9b4-3a97-4e8a-92f8-a9f50dc832cb\" xlink:show=\"new\" xlink:title=\"psysml:7a2ca9b4-3a97-4e8a-92f8-a9f50dc832cb\" xlink:type=\"simple\"><rect fill=\"#FFFFFF\" height=\"53.9375\" id=\"E2\" style=\"stroke: #383838; stroke-width: 1.5;\" width=\"143\" x=\"546.5\" y=\"41\"/><text fill=\"#000000\" font-family=\"sans-serif\" font-size=\"12\" font-style=\"italic\" lengthAdjust=\"spacingAndGlyphs\" textLength=\"141\" x=\"547.5\" y=\"57.1387\">«(T,blue)attribute def»</text><text fill=\"#000000\" font-family=\"sans-serif\" font-size=\"12\" lengthAdjust=\"spacingAndGlyphs\" textLength=\"19\" x=\"608.5\" y=\"71.1074\">Sig</text><line style=\"stroke: #383838; stroke-width: 1.5;\" x1=\"547.5\" x2=\"688.5\" y1=\"78.9375\" y2=\"78.9375\"/><line style=\"stroke: #383838; stroke-width: 1.5;\" x1=\"547.5\" x2=\"688.5\" y1=\"86.9375\" y2=\"86.9375\"/></a><!--MD5=[09b614a08d8cba4a07c9adeb5e0fee81]\n",
       "class E3--><a href=\"psysml:30361623-caf7-482c-9813-174242dd8f3c\" target=\"_top\" title=\"psysml:30361623-caf7-482c-9813-174242dd8f3c\" xlink:actuate=\"onRequest\" xlink:href=\"psysml:30361623-caf7-482c-9813-174242dd8f3c\" xlink:show=\"new\" xlink:title=\"psysml:30361623-caf7-482c-9813-174242dd8f3c\" xlink:type=\"simple\"><rect fill=\"#FFFFFF\" height=\"53.9375\" id=\"E3\" style=\"stroke: #383838; stroke-width: 1.5;\" width=\"143\" x=\"368.5\" y=\"41\"/><text fill=\"#000000\" font-family=\"sans-serif\" font-size=\"12\" font-style=\"italic\" lengthAdjust=\"spacingAndGlyphs\" textLength=\"141\" x=\"369.5\" y=\"57.1387\">«(T,blue)attribute def»</text><text fill=\"#000000\" font-family=\"sans-serif\" font-size=\"12\" lengthAdjust=\"spacingAndGlyphs\" textLength=\"22\" x=\"429\" y=\"71.1074\">Exit</text><line style=\"stroke: #383838; stroke-width: 1.5;\" x1=\"369.5\" x2=\"510.5\" y1=\"78.9375\" y2=\"78.9375\"/><line style=\"stroke: #383838; stroke-width: 1.5;\" x1=\"369.5\" x2=\"510.5\" y1=\"86.9375\" y2=\"86.9375\"/></a><!--MD5=[60a26617385b1d2d0262a64233df1f8d]\n",
       "class E6--><a href=\"psysml:409d967c-2b55-4985-b068-ed253d96c58c\" target=\"_top\" title=\"psysml:409d967c-2b55-4985-b068-ed253d96c58c\" xlink:actuate=\"onRequest\" xlink:href=\"psysml:409d967c-2b55-4985-b068-ed253d96c58c\" xlink:show=\"new\" xlink:title=\"psysml:409d967c-2b55-4985-b068-ed253d96c58c\" xlink:type=\"simple\"><rect fill=\"#FFFFFF\" height=\"53.9375\" id=\"E6\" style=\"stroke: #383838; stroke-width: 1.5;\" width=\"121\" x=\"212.5\" y=\"41\"/><text fill=\"#000000\" font-family=\"sans-serif\" font-size=\"12\" font-style=\"italic\" lengthAdjust=\"spacingAndGlyphs\" textLength=\"119\" x=\"213.5\" y=\"57.1387\">«(T,blue)state def»</text><text fill=\"#000000\" font-family=\"sans-serif\" font-size=\"12\" lengthAdjust=\"spacingAndGlyphs\" textLength=\"8\" x=\"269\" y=\"71.1074\">S</text><line style=\"stroke: #383838; stroke-width: 1.5;\" x1=\"213.5\" x2=\"332.5\" y1=\"78.9375\" y2=\"78.9375\"/><line style=\"stroke: #383838; stroke-width: 1.5;\" x1=\"213.5\" x2=\"332.5\" y1=\"86.9375\" y2=\"86.9375\"/></a><g id=\"E1.E4\"><a href=\"psysml:86d86843-d597-4d6e-917a-885d695bc43d\" target=\"_top\" title=\"psysml:86d86843-d597-4d6e-917a-885d695bc43d\" xlink:actuate=\"onRequest\" xlink:href=\"psysml:86d86843-d597-4d6e-917a-885d695bc43d\" xlink:show=\"new\" xlink:title=\"psysml:86d86843-d597-4d6e-917a-885d695bc43d\" xlink:type=\"simple\"><rect fill=\"#FFFFFF\" height=\"40\" id=\"E4\" rx=\"10\" ry=\"10\" style=\"stroke: #383838; stroke-width: 1.5;\" width=\"50\" x=\"127\" y=\"48\"/><rect fill=\"#F8F8F8\" height=\"23.9688\" rx=\"10\" ry=\"10\" style=\"stroke: #F8F8F8; stroke-width: 1.5;\" width=\"50\" x=\"127\" y=\"48\"/><rect fill=\"#F8F8F8\" height=\"10\" style=\"stroke: #F8F8F8; stroke-width: 1.5;\" width=\"50\" x=\"127\" y=\"61.9688\"/><rect fill=\"none\" height=\"40\" id=\"E4\" rx=\"10\" ry=\"10\" style=\"stroke: #383838; stroke-width: 1.5;\" width=\"50\" x=\"127\" y=\"48\"/><text fill=\"#000000\" font-family=\"sans-serif\" font-size=\"12\" lengthAdjust=\"spacingAndGlyphs\" textLength=\"8\" x=\"148\" y=\"64.1387\">p</text></a></g><g id=\"E1.E5\"><a href=\"psysml:6cb3785d-90e3-4021-b607-f0ab9874924c\" target=\"_top\" title=\"psysml:6cb3785d-90e3-4021-b607-f0ab9874924c\" xlink:actuate=\"onRequest\" xlink:href=\"psysml:6cb3785d-90e3-4021-b607-f0ab9874924c\" xlink:show=\"new\" xlink:title=\"psysml:6cb3785d-90e3-4021-b607-f0ab9874924c\" xlink:type=\"simple\"><rect fill=\"#FFFFFF\" height=\"42.9375\" id=\"E5\" rx=\"10\" ry=\"10\" style=\"stroke: #383838; stroke-width: 1.5;\" width=\"60\" x=\"32\" y=\"46.5\"/><rect fill=\"#F8F8F8\" height=\"37.9375\" rx=\"10\" ry=\"10\" style=\"stroke: #F8F8F8; stroke-width: 1.5;\" width=\"60\" x=\"32\" y=\"46.5\"/><rect fill=\"#F8F8F8\" height=\"10\" style=\"stroke: #F8F8F8; stroke-width: 1.5;\" width=\"60\" x=\"32\" y=\"74.4375\"/><rect fill=\"none\" height=\"42.9375\" id=\"E5\" rx=\"10\" ry=\"10\" style=\"stroke: #383838; stroke-width: 1.5;\" width=\"60\" x=\"32\" y=\"46.5\"/><text fill=\"#000000\" font-family=\"sans-serif\" font-size=\"12\" font-style=\"italic\" lengthAdjust=\"spacingAndGlyphs\" textLength=\"53\" x=\"35.5\" y=\"62.6387\">«action»</text><text fill=\"#000000\" font-family=\"sans-serif\" font-size=\"12\" lengthAdjust=\"spacingAndGlyphs\" textLength=\"20\" x=\"52\" y=\"76.6074\">act</text></a></g><!--MD5=[ab889aa744c24a1ee0c72c597abbc37e]\n",
       "@startuml\r\n",
       "skinparam ranksep 8\r\n",
       "skinparam rectangle {\r\n",
       " backgroundColor<<block>> LightGreen\r\n",
       "}\r\n",
       "skinparam linetype ortho\r\n",
       "skinparam monochrome true\r\n",
       "skinparam classbackgroundcolor white\r\n",
       "skinparam shadowing false\r\n",
       "skinparam wrapWidth 300\r\n",
       "hide circle\r\n",
       "\r\n",
       "package \"StateTest\" as E1  [[psysml:9c548ee6-d869-4820-b951-32f5a4e72165 ]]  {\r\n",
       "def \"Sig\" as E2  <<(T,blue)attribute def>> [[psysml:7a2ca9b4-3a97-4e8a-92f8-a9f50dc832cb ]] \r\n",
       "def \"Exit\" as E3  <<(T,blue)attribute def>> [[psysml:30361623-caf7-482c-9813-174242dd8f3c ]] \r\n",
       "rec usage \"p\" as E4  [[psysml:86d86843-d597-4d6e-917a-885d695bc43d ]] {\r\n",
       "}\r\n",
       "rec usage \"act\" as E5  <<(T,blue)action>> [[psysml:6cb3785d-90e3-4021-b607-f0ab9874924c ]] {\r\n",
       "}\r\n",
       "def \"S\" as E6  <<(T,blue)state def>> [[psysml:409d967c-2b55-4985-b068-ed253d96c58c ]] \r\n",
       "}\r\n",
       "@enduml\r\n",
       "\n",
       "PlantUML version 1.2020.13(Sat Jun 13 12:26:38 UTC 2020)\n",
       "(EPL source distribution)\n",
       "Java Runtime: OpenJDK Runtime Environment\n",
       "JVM: OpenJDK 64-Bit Server VM\n",
       "Default Encoding: UTF-8\n",
       "Language: en\n",
       "Country: null\n",
       "--></g></svg>"
      ]
     },
     "execution_count": 54,
     "metadata": {},
     "output_type": "execute_result"
    }
   ],
   "source": [
    "%viz --style=\"ORTHOLINE\" --view=\"Interconnection\" \"StateTest\""
   ]
  },
  {
   "cell_type": "code",
   "execution_count": 55,
   "id": "lined-queensland",
   "metadata": {
    "execution": {
     "iopub.execute_input": "2021-03-26T09:13:56.816657Z",
     "iopub.status.busy": "2021-03-26T09:13:56.816309Z",
     "iopub.status.idle": "2021-03-26T09:13:56.831545Z",
     "shell.execute_reply": "2021-03-26T09:13:56.830292Z"
    }
   },
   "outputs": [
    {
     "data": {
      "image/svg+xml": [
       "<?xml version=\"1.0\" encoding=\"UTF-8\" standalone=\"no\"?><svg xmlns=\"http://www.w3.org/2000/svg\" xmlns:xlink=\"http://www.w3.org/1999/xlink\" contentScriptType=\"application/ecmascript\" contentStyleType=\"text/css\" height=\"595px\" preserveAspectRatio=\"none\" style=\"width:794px;height:595px;background:#000000;\" version=\"1.1\" viewBox=\"0 0 794 595\" width=\"794px\" zoomAndPan=\"magnify\"><defs/><g><rect fill=\"#1E0027\" height=\"1\" style=\"stroke: #1E0027; stroke-width: 1.0;\" width=\"1\" x=\"0\" y=\"0\"/><rect fill=\"#FFFFFF\" height=\"53\" style=\"stroke: #FFFFFF; stroke-width: 1.0;\" width=\"793\" x=\"0\" y=\"0\"/><image height=\"53\" width=\"450\" x=\"1\" xlink:href=\"data:image/png;base64,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\" y=\"1\"/><rect fill=\"#000000\" height=\"487.6094\" style=\"stroke: #000000; stroke-width: 1.0;\" width=\"793\" x=\"0\" y=\"53\"/><rect fill=\"#33FF02\" height=\"21.2969\" style=\"stroke: #33FF02; stroke-width: 1.0;\" width=\"783\" x=\"5\" y=\"58\"/><text fill=\"#000000\" font-family=\"sans-serif\" font-size=\"14\" font-weight=\"bold\" lengthAdjust=\"spacingAndGlyphs\" textLength=\"178\" x=\"6\" y=\"73\">[From string (line 26) ]</text><text fill=\"#33FF02\" font-family=\"sans-serif\" font-size=\"14\" font-weight=\"bold\" lengthAdjust=\"spacingAndGlyphs\" textLength=\"0\" x=\"10\" y=\"93.2969\"/><text fill=\"#33FF02\" font-family=\"sans-serif\" font-size=\"14\" font-weight=\"bold\" lengthAdjust=\"spacingAndGlyphs\" textLength=\"79\" x=\"5\" y=\"109.5938\">@startuml</text><text fill=\"#33FF02\" font-family=\"sans-serif\" font-size=\"14\" font-weight=\"bold\" lengthAdjust=\"spacingAndGlyphs\" textLength=\"165\" x=\"5\" y=\"125.8906\">skinparam ranksep 8</text><text fill=\"#33FF02\" font-family=\"sans-serif\" font-size=\"14\" font-weight=\"bold\" lengthAdjust=\"spacingAndGlyphs\" textLength=\"197\" x=\"5\" y=\"142.1875\">skinparam linetype ortho</text><text fill=\"#33FF02\" font-family=\"sans-serif\" font-size=\"14\" font-weight=\"bold\" lengthAdjust=\"spacingAndGlyphs\" textLength=\"228\" x=\"5\" y=\"158.4844\">skinparam monochrome true</text><text fill=\"#33FF02\" font-family=\"sans-serif\" font-size=\"14\" font-weight=\"bold\" lengthAdjust=\"spacingAndGlyphs\" textLength=\"309\" x=\"5\" y=\"174.7813\">skinparam classbackgroundcolor white</text><text fill=\"#33FF02\" font-family=\"sans-serif\" font-size=\"14\" font-weight=\"bold\" lengthAdjust=\"spacingAndGlyphs\" textLength=\"215\" x=\"5\" y=\"191.0781\">skinparam shadowing false</text><text fill=\"#33FF02\" font-family=\"sans-serif\" font-size=\"14\" font-weight=\"bold\" lengthAdjust=\"spacingAndGlyphs\" textLength=\"206\" x=\"5\" y=\"207.375\">skinparam wrapWidth 300</text><text fill=\"#33FF02\" font-family=\"sans-serif\" font-size=\"14\" font-weight=\"bold\" lengthAdjust=\"spacingAndGlyphs\" textLength=\"82\" x=\"5\" y=\"223.6719\">hide circle</text><text fill=\"#33FF02\" font-family=\"sans-serif\" font-size=\"14\" font-weight=\"bold\" lengthAdjust=\"spacingAndGlyphs\" textLength=\"0\" x=\"10\" y=\"239.9688\"/><text fill=\"#33FF02\" font-family=\"sans-serif\" font-size=\"14\" font-weight=\"bold\" lengthAdjust=\"spacingAndGlyphs\" textLength=\"783\" x=\"5\" y=\"256.2656\">rec usage \"act\" as E1  &lt;&lt;(T,blue)action&gt;&gt; [[psysml:6cb3785d-90e3-4021-b607-f0ab9874924c ]] {</text><text fill=\"#33FF02\" font-family=\"sans-serif\" font-size=\"14\" font-weight=\"bold\" lengthAdjust=\"spacingAndGlyphs\" textLength=\"10\" x=\"5\" y=\"272.5625\">}</text><text fill=\"#33FF02\" font-family=\"sans-serif\" font-size=\"14\" font-weight=\"bold\" lengthAdjust=\"spacingAndGlyphs\" textLength=\"0\" x=\"10\" y=\"288.8594\"/><text fill=\"#33FF02\" font-family=\"sans-serif\" font-size=\"14\" font-weight=\"bold\" lengthAdjust=\"spacingAndGlyphs\" textLength=\"774\" x=\"5\" y=\"305.1563\">rec def \"S\" as E2  &lt;&lt;(T,blue)state def&gt;&gt; [[psysml:409d967c-2b55-4985-b068-ed253d96c58c ]] {</text><text fill=\"#33FF02\" font-family=\"sans-serif\" font-size=\"14\" font-weight=\"bold\" lengthAdjust=\"spacingAndGlyphs\" textLength=\"779\" x=\"5\" y=\"321.4531\">rec usage \"A\" as E3 &lt;&lt;perform action&gt;&gt; [[psysml:07283d54-b2b4-4955-9e37-5e3a59051776 ]] {</text><text fill=\"#33FF02\" font-family=\"sans-serif\" font-size=\"14\" font-weight=\"bold\" lengthAdjust=\"spacingAndGlyphs\" textLength=\"10\" x=\"5\" y=\"337.75\">}</text><text fill=\"#33FF02\" font-family=\"sans-serif\" font-size=\"14\" font-weight=\"bold\" lengthAdjust=\"spacingAndGlyphs\" textLength=\"0\" x=\"10\" y=\"354.0469\"/><text fill=\"#33FF02\" font-family=\"sans-serif\" font-size=\"14\" font-weight=\"bold\" lengthAdjust=\"spacingAndGlyphs\" textLength=\"769\" x=\"5\" y=\"370.3438\">rec usage \"B\" as E4 &lt;&lt;perform action&gt;&gt; [[psysml:2d4c422d-af2d-4b90-a848-9846cea61c20 ]] {</text><text fill=\"#33FF02\" font-family=\"sans-serif\" font-size=\"14\" font-weight=\"bold\" lengthAdjust=\"spacingAndGlyphs\" textLength=\"10\" x=\"5\" y=\"386.6406\">}</text><text fill=\"#33FF02\" font-family=\"sans-serif\" font-size=\"14\" font-weight=\"bold\" lengthAdjust=\"spacingAndGlyphs\" textLength=\"0\" x=\"10\" y=\"402.9375\"/><text fill=\"#33FF02\" font-family=\"sans-serif\" font-size=\"14\" font-weight=\"bold\" lengthAdjust=\"spacingAndGlyphs\" textLength=\"769\" x=\"5\" y=\"419.2344\">rec usage \"act\" as E5 &lt;&lt;perform action&gt;&gt; [[psysml:eca97873-f4f2-4a4b-84f1-fbd6bb9f01a4 ]] {</text><text fill=\"#33FF02\" font-family=\"sans-serif\" font-size=\"14\" font-weight=\"bold\" lengthAdjust=\"spacingAndGlyphs\" textLength=\"10\" x=\"5\" y=\"435.5313\">}</text><text fill=\"#33FF02\" font-family=\"sans-serif\" font-size=\"14\" font-weight=\"bold\" lengthAdjust=\"spacingAndGlyphs\" textLength=\"0\" x=\"10\" y=\"451.8281\"/><text fill=\"#33FF02\" font-family=\"sans-serif\" font-size=\"14\" font-weight=\"bold\" lengthAdjust=\"spacingAndGlyphs\" textLength=\"770\" x=\"5\" y=\"468.125\">rec usage \"S1\" as E6  &lt;&lt;(T,blue)state&gt;&gt; [[psysml:5ea02985-bc8b-4cb1-bb08-c3caa7c881e0 ]] {</text><text fill=\"#33FF02\" font-family=\"sans-serif\" font-size=\"14\" font-weight=\"bold\" lengthAdjust=\"spacingAndGlyphs\" textLength=\"10\" x=\"5\" y=\"484.4219\">}</text><text fill=\"#33FF02\" font-family=\"sans-serif\" font-size=\"14\" font-weight=\"bold\" lengthAdjust=\"spacingAndGlyphs\" textLength=\"0\" x=\"10\" y=\"500.7188\"/><text fill=\"#33FF02\" font-family=\"sans-serif\" font-size=\"14\" font-weight=\"bold\" lengthAdjust=\"spacingAndGlyphs\" textLength=\"10\" x=\"5\" y=\"517.0156\">{</text><text fill=\"#FF0000\" font-family=\"sans-serif\" font-size=\"14\" font-weight=\"bold\" lengthAdjust=\"spacingAndGlyphs\" textLength=\"106\" x=\"10\" y=\"533.3125\">Syntax Error?</text><rect fill=\"#FFFFFF\" height=\"53\" style=\"stroke: #FFFFFF; stroke-width: 1.0;\" width=\"793\" x=\"0\" y=\"540.6094\"/><image height=\"53\" width=\"450\" x=\"1\" xlink:href=\"data:image/png;base64,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\" y=\"541.6094\"/><!--MD5=[e1de90843bf9d42fb0e28b589f0169e7]\n",
       "@startuml\r\n",
       "skinparam ranksep 8\r\n",
       "skinparam linetype ortho\r\n",
       "skinparam monochrome true\r\n",
       "skinparam classbackgroundcolor white\r\n",
       "skinparam shadowing false\r\n",
       "skinparam wrapWidth 300\r\n",
       "hide circle\r\n",
       "\r\n",
       "rec usage \"act\" as E1  <<(T,blue)action>> [[psysml:6cb3785d-90e3-4021-b607-f0ab9874924c ]] {\r\n",
       "}\r\n",
       "\r\n",
       "rec def \"S\" as E2  <<(T,blue)state def>> [[psysml:409d967c-2b55-4985-b068-ed253d96c58c ]] {\r\n",
       "rec usage \"A\" as E3 <<perform action>> [[psysml:07283d54-b2b4-4955-9e37-5e3a59051776 ]] {\r\n",
       "}\r\n",
       "\r\n",
       "rec usage \"B\" as E4 <<perform action>> [[psysml:2d4c422d-af2d-4b90-a848-9846cea61c20 ]] {\r\n",
       "}\r\n",
       "\r\n",
       "rec usage \"act\" as E5 <<perform action>> [[psysml:eca97873-f4f2-4a4b-84f1-fbd6bb9f01a4 ]] {\r\n",
       "}\r\n",
       "\r\n",
       "rec usage \"S1\" as E6  <<(T,blue)state>> [[psysml:5ea02985-bc8b-4cb1-bb08-c3caa7c881e0 ]] {\r\n",
       "}\r\n",
       "\r\n",
       "{\r\n",
       "{\r\n",
       "}\r\n",
       "\r\n",
       "rec usage \"D\" as E7 <<perform action>> [[psysml:eaf0a112-33b0-4093-95e1-7dab572fe2f4 ]] {\r\n",
       "}\r\n",
       "\r\n",
       "}\r\n",
       "\r\n",
       "rec usage \"S2\" as E8  <<(T,blue)state>> [[psysml:15193c6f-79c7-4ee2-a2ac-bfb559b7d876 ]] {\r\n",
       "rec usage \"doAction\" as E9 <<send action>> [[psysml:02a264b3-17c4-490c-b5b1-f49bb5aa02c2 ]] {\r\n",
       "portin \"$x\" as E10  [[psysml:96622066-d3a2-4541-bee3-ae5bc19ea7c3 ]] \r\n",
       "portout \"$result\" as E11  [[psysml:b808addd-9ba8-4500-978c-50cd1b025f8a ]] \r\n",
       "}\r\n",
       "\r\n",
       "}\r\n",
       "\r\n",
       "{\r\n",
       "{\r\n",
       "}\r\n",
       "\r\n",
       "}\r\n",
       "\r\n",
       "rec usage \"T\" as E12  <<(T,blue)transition>> [[psysml:0976314e-a9f7-4444-bafa-f8883db64fa0 ]] {\r\n",
       "rec usage \"S2\" as E13  <<(T,blue)state>> [[psysml:15193c6f-79c7-4ee2-a2ac-bfb559b7d876 ]] {\r\n",
       "rec usage \"doAction\" as E14 <<send action>> [[psysml:02a264b3-17c4-490c-b5b1-f49bb5aa02c2 ]] {\r\n",
       "portin \"$x\" as E15  [[psysml:96622066-d3a2-4541-bee3-ae5bc19ea7c3 ]] \r\n",
       "portout \"$result\" as E16  [[psysml:b808addd-9ba8-4500-978c-50cd1b025f8a ]] \r\n",
       "}\r\n",
       "\r\n",
       "}\r\n",
       "\r\n",
       "{\r\n",
       "}\r\n",
       "\r\n",
       "portout \"$result\" as E17  [[psysml:8f7ffd4e-8810-46d2-96d4-50dc0ef167c4 ]] \r\n",
       "{\r\n",
       "}\r\n",
       "\r\n",
       "}\r\n",
       "\r\n",
       "}\r\n",
       "\r\n",
       "@enduml\r\n",
       "\n",
       "PlantUML version 1.2020.13(Sat Jun 13 12:26:38 UTC 2020)\n",
       "(EPL source distribution)\n",
       "Java Runtime: OpenJDK Runtime Environment\n",
       "JVM: OpenJDK 64-Bit Server VM\n",
       "Default Encoding: UTF-8\n",
       "Language: en\n",
       "Country: null\n",
       "--></g></svg>"
      ]
     },
     "execution_count": 55,
     "metadata": {},
     "output_type": "execute_result"
    }
   ],
   "source": [
    "%viz --style=\"ORTHOLINE\" --view=\"Action\" \"StateTest\""
   ]
  },
  {
   "cell_type": "code",
   "execution_count": 56,
   "id": "brutal-correspondence",
   "metadata": {
    "execution": {
     "iopub.execute_input": "2021-03-26T09:13:56.882345Z",
     "iopub.status.busy": "2021-03-26T09:13:56.881741Z",
     "iopub.status.idle": "2021-03-26T09:13:56.977440Z",
     "shell.execute_reply": "2021-03-26T09:13:56.976009Z"
    }
   },
   "outputs": [
    {
     "data": {
      "image/svg+xml": [
       "<?xml version=\"1.0\" encoding=\"UTF-8\" standalone=\"no\"?><svg xmlns=\"http://www.w3.org/2000/svg\" xmlns:xlink=\"http://www.w3.org/1999/xlink\" contentScriptType=\"application/ecmascript\" contentStyleType=\"text/css\" height=\"471px\" preserveAspectRatio=\"none\" style=\"width:594px;height:471px;\" version=\"1.1\" viewBox=\"0 0 594 471\" width=\"594px\" zoomAndPan=\"magnify\"><defs/><g><!--MD5=[fbc87193dbaf4d95561dea2c320d4a47]\n",
       "cluster E1--><a href=\"psysml:9c548ee6-d869-4820-b951-32f5a4e72165\" target=\"_top\" title=\"psysml:9c548ee6-d869-4820-b951-32f5a4e72165\" xlink:actuate=\"onRequest\" xlink:href=\"psysml:9c548ee6-d869-4820-b951-32f5a4e72165\" xlink:show=\"new\" xlink:title=\"psysml:9c548ee6-d869-4820-b951-32f5a4e72165\" xlink:type=\"simple\"><polygon fill=\"#FFFFFF\" points=\"16,6,98,6,105,28.2969,572,28.2969,572,459,16,459,16,6\" style=\"stroke: #000000; stroke-width: 1.5;\"/><line style=\"stroke: #000000; stroke-width: 1.5;\" x1=\"16\" x2=\"105\" y1=\"28.2969\" y2=\"28.2969\"/><text fill=\"#000000\" font-family=\"sans-serif\" font-size=\"14\" font-weight=\"bold\" lengthAdjust=\"spacingAndGlyphs\" textLength=\"76\" x=\"20\" y=\"20.9951\">StateTest</text></a><!--MD5=[b4997ac47864f28c2f74865a473b2911]\n",
       "class E2--><a href=\"psysml:7a2ca9b4-3a97-4e8a-92f8-a9f50dc832cb\" target=\"_top\" title=\"psysml:7a2ca9b4-3a97-4e8a-92f8-a9f50dc832cb\" xlink:actuate=\"onRequest\" xlink:href=\"psysml:7a2ca9b4-3a97-4e8a-92f8-a9f50dc832cb\" xlink:show=\"new\" xlink:title=\"psysml:7a2ca9b4-3a97-4e8a-92f8-a9f50dc832cb\" xlink:type=\"simple\"><rect fill=\"#FFFFFF\" height=\"75.5469\" id=\"E2\" style=\"stroke: #383838; stroke-width: 1.5;\" width=\"95\" x=\"460.5\" y=\"83\"/><text fill=\"#000000\" font-family=\"sans-serif\" font-size=\"12\" font-style=\"italic\" lengthAdjust=\"spacingAndGlyphs\" textLength=\"93\" x=\"461.5\" y=\"99.1387\">«attribute def»</text><text fill=\"#000000\" font-family=\"sans-serif\" font-size=\"12\" lengthAdjust=\"spacingAndGlyphs\" textLength=\"19\" x=\"498.5\" y=\"113.1074\">Sig</text><line style=\"stroke: #383838; stroke-width: 1.5;\" x1=\"461.5\" x2=\"554.5\" y1=\"120.9375\" y2=\"120.9375\"/><text fill=\"#000000\" font-family=\"sans-serif\" font-size=\"11\" lengthAdjust=\"spacingAndGlyphs\" textLength=\"6\" x=\"466.5\" y=\"151.9526\">x</text><line style=\"stroke: #383838; stroke-width: 1.0;\" x1=\"461.5\" x2=\"480.5\" y1=\"135.3398\" y2=\"135.3398\"/><text fill=\"#000000\" font-family=\"sans-serif\" font-size=\"11\" lengthAdjust=\"spacingAndGlyphs\" textLength=\"55\" x=\"480.5\" y=\"138.6479\">attributes</text><line style=\"stroke: #383838; stroke-width: 1.0;\" x1=\"535.5\" x2=\"554.5\" y1=\"135.3398\" y2=\"135.3398\"/></a><!--MD5=[09b614a08d8cba4a07c9adeb5e0fee81]\n",
       "class E3--><a href=\"psysml:30361623-caf7-482c-9813-174242dd8f3c\" target=\"_top\" title=\"psysml:30361623-caf7-482c-9813-174242dd8f3c\" xlink:actuate=\"onRequest\" xlink:href=\"psysml:30361623-caf7-482c-9813-174242dd8f3c\" xlink:show=\"new\" xlink:title=\"psysml:30361623-caf7-482c-9813-174242dd8f3c\" xlink:type=\"simple\"><rect fill=\"#FFFFFF\" height=\"45.9375\" id=\"E3\" style=\"stroke: #383838; stroke-width: 1.5;\" width=\"95\" x=\"330.5\" y=\"98\"/><text fill=\"#000000\" font-family=\"sans-serif\" font-size=\"12\" font-style=\"italic\" lengthAdjust=\"spacingAndGlyphs\" textLength=\"93\" x=\"331.5\" y=\"114.1387\">«attribute def»</text><text fill=\"#000000\" font-family=\"sans-serif\" font-size=\"12\" lengthAdjust=\"spacingAndGlyphs\" textLength=\"22\" x=\"367\" y=\"128.1074\">Exit</text><line style=\"stroke: #383838; stroke-width: 1.5;\" x1=\"331.5\" x2=\"424.5\" y1=\"135.9375\" y2=\"135.9375\"/></a><!--MD5=[ebbe1d658d1005bcc118a6aa81145e00]\n",
       "class E4--><a href=\"psysml:86d86843-d597-4d6e-917a-885d695bc43d\" target=\"_top\" title=\"psysml:86d86843-d597-4d6e-917a-885d695bc43d\" xlink:actuate=\"onRequest\" xlink:href=\"psysml:86d86843-d597-4d6e-917a-885d695bc43d\" xlink:show=\"new\" xlink:title=\"psysml:86d86843-d597-4d6e-917a-885d695bc43d\" xlink:type=\"simple\"><rect fill=\"#FFFFFF\" height=\"45.9375\" id=\"E4\" rx=\"10\" ry=\"10\" style=\"stroke: #383838; stroke-width: 1.5;\" width=\"42\" x=\"253\" y=\"98\"/><text fill=\"#000000\" font-family=\"sans-serif\" font-size=\"12\" font-style=\"italic\" lengthAdjust=\"spacingAndGlyphs\" textLength=\"40\" x=\"254\" y=\"114.1387\">«part»</text><text fill=\"#000000\" font-family=\"sans-serif\" font-size=\"12\" lengthAdjust=\"spacingAndGlyphs\" textLength=\"8\" x=\"270\" y=\"128.1074\">p</text><line style=\"stroke: #383838; stroke-width: 1.5;\" x1=\"254\" x2=\"294\" y1=\"135.9375\" y2=\"135.9375\"/></a><!--MD5=[270fce915f116d4de14055a7c1d9a0f3]\n",
       "class E5--><a href=\"psysml:6cb3785d-90e3-4021-b607-f0ab9874924c\" target=\"_top\" title=\"psysml:6cb3785d-90e3-4021-b607-f0ab9874924c\" xlink:actuate=\"onRequest\" xlink:href=\"psysml:6cb3785d-90e3-4021-b607-f0ab9874924c\" xlink:show=\"new\" xlink:title=\"psysml:6cb3785d-90e3-4021-b607-f0ab9874924c\" xlink:type=\"simple\"><rect fill=\"#FFFFFF\" height=\"45.9375\" id=\"E5\" rx=\"10\" ry=\"10\" style=\"stroke: #383838; stroke-width: 1.5;\" width=\"55\" x=\"162.5\" y=\"98\"/><text fill=\"#000000\" font-family=\"sans-serif\" font-size=\"12\" font-style=\"italic\" lengthAdjust=\"spacingAndGlyphs\" textLength=\"53\" x=\"163.5\" y=\"114.1387\">«action»</text><text fill=\"#000000\" font-family=\"sans-serif\" font-size=\"12\" lengthAdjust=\"spacingAndGlyphs\" textLength=\"20\" x=\"180\" y=\"128.1074\">act</text><line style=\"stroke: #383838; stroke-width: 1.5;\" x1=\"163.5\" x2=\"216.5\" y1=\"135.9375\" y2=\"135.9375\"/></a><!--MD5=[60a26617385b1d2d0262a64233df1f8d]\n",
       "class E6--><a href=\"psysml:409d967c-2b55-4985-b068-ed253d96c58c\" target=\"_top\" title=\"psysml:409d967c-2b55-4985-b068-ed253d96c58c\" xlink:actuate=\"onRequest\" xlink:href=\"psysml:409d967c-2b55-4985-b068-ed253d96c58c\" xlink:show=\"new\" xlink:title=\"psysml:409d967c-2b55-4985-b068-ed253d96c58c\" xlink:type=\"simple\"><rect fill=\"#FFFFFF\" height=\"160.375\" id=\"E6\" style=\"stroke: #383838; stroke-width: 1.5;\" width=\"95\" x=\"32.5\" y=\"41\"/><text fill=\"#000000\" font-family=\"sans-serif\" font-size=\"12\" font-style=\"italic\" lengthAdjust=\"spacingAndGlyphs\" textLength=\"71\" x=\"44.5\" y=\"57.1387\">«state def»</text><text fill=\"#000000\" font-family=\"sans-serif\" font-size=\"12\" lengthAdjust=\"spacingAndGlyphs\" textLength=\"8\" x=\"76\" y=\"71.1074\">S</text><line style=\"stroke: #383838; stroke-width: 1.5;\" x1=\"33.5\" x2=\"126.5\" y1=\"78.9375\" y2=\"78.9375\"/><text fill=\"#000000\" font-family=\"sans-serif\" font-size=\"11\" lengthAdjust=\"spacingAndGlyphs\" textLength=\"17\" x=\"38.5\" y=\"109.9526\">act</text><text fill=\"#000000\" font-family=\"sans-serif\" font-size=\"11\" lengthAdjust=\"spacingAndGlyphs\" textLength=\"7\" x=\"38.5\" y=\"122.7573\">A</text><text fill=\"#000000\" font-family=\"sans-serif\" font-size=\"11\" lengthAdjust=\"spacingAndGlyphs\" textLength=\"8\" x=\"38.5\" y=\"135.562\">B</text><line style=\"stroke: #383838; stroke-width: 1.0;\" x1=\"33.5\" x2=\"36.5\" y1=\"93.3398\" y2=\"93.3398\"/><text fill=\"#000000\" font-family=\"sans-serif\" font-size=\"11\" lengthAdjust=\"spacingAndGlyphs\" textLength=\"87\" x=\"36.5\" y=\"96.6479\">performActions</text><line style=\"stroke: #383838; stroke-width: 1.0;\" x1=\"123.5\" x2=\"126.5\" y1=\"93.3398\" y2=\"93.3398\"/><text fill=\"#000000\" font-family=\"sans-serif\" font-size=\"11\" lengthAdjust=\"spacingAndGlyphs\" textLength=\"15\" x=\"38.5\" y=\"165.1714\">S1</text><line style=\"stroke: #383838; stroke-width: 1.0;\" x1=\"33.5\" x2=\"62\" y1=\"148.5586\" y2=\"148.5586\"/><text fill=\"#000000\" font-family=\"sans-serif\" font-size=\"11\" lengthAdjust=\"spacingAndGlyphs\" textLength=\"36\" x=\"62\" y=\"151.8667\">states</text><line style=\"stroke: #383838; stroke-width: 1.0;\" x1=\"98\" x2=\"126.5\" y1=\"148.5586\" y2=\"148.5586\"/><text fill=\"#000000\" font-family=\"sans-serif\" font-size=\"11\" lengthAdjust=\"spacingAndGlyphs\" textLength=\"7\" x=\"38.5\" y=\"194.7808\">T</text><line style=\"stroke: #383838; stroke-width: 1.0;\" x1=\"33.5\" x2=\"49.5\" y1=\"178.168\" y2=\"178.168\"/><text fill=\"#000000\" font-family=\"sans-serif\" font-size=\"11\" lengthAdjust=\"spacingAndGlyphs\" textLength=\"61\" x=\"49.5\" y=\"181.4761\">transitions</text><line style=\"stroke: #383838; stroke-width: 1.0;\" x1=\"110.5\" x2=\"126.5\" y1=\"178.168\" y2=\"178.168\"/></a><!--MD5=[1dd1bfd58a279cf63c5f349dbc8fc6a1]\n",
       "class E11--><a href=\"psysml:15193c6f-79c7-4ee2-a2ac-bfb559b7d876\" target=\"_top\" title=\"psysml:15193c6f-79c7-4ee2-a2ac-bfb559b7d876\" xlink:actuate=\"onRequest\" xlink:href=\"psysml:15193c6f-79c7-4ee2-a2ac-bfb559b7d876\" xlink:show=\"new\" xlink:title=\"psysml:15193c6f-79c7-4ee2-a2ac-bfb559b7d876\" xlink:type=\"simple\"><rect fill=\"#FFFFFF\" height=\"45.9375\" id=\"E11\" rx=\"10\" ry=\"10\" style=\"stroke: #383838; stroke-width: 1.5;\" width=\"49\" x=\"55.5\" y=\"261\"/><text fill=\"#000000\" font-family=\"sans-serif\" font-size=\"12\" font-style=\"italic\" lengthAdjust=\"spacingAndGlyphs\" textLength=\"47\" x=\"56.5\" y=\"277.1387\">«state»</text><text fill=\"#000000\" font-family=\"sans-serif\" font-size=\"12\" lengthAdjust=\"spacingAndGlyphs\" textLength=\"16\" x=\"72\" y=\"291.1074\">S2</text><line style=\"stroke: #383838; stroke-width: 1.5;\" x1=\"56.5\" x2=\"103.5\" y1=\"298.9375\" y2=\"298.9375\"/></a><!--MD5=[49a0ec8f00dab7302a31f22d0f0fe584]\n",
       "class E12--><a href=\"psysml:02a264b3-17c4-490c-b5b1-f49bb5aa02c2\" target=\"_top\" title=\"psysml:02a264b3-17c4-490c-b5b1-f49bb5aa02c2\" xlink:actuate=\"onRequest\" xlink:href=\"psysml:02a264b3-17c4-490c-b5b1-f49bb5aa02c2\" xlink:show=\"new\" xlink:title=\"psysml:02a264b3-17c4-490c-b5b1-f49bb5aa02c2\" xlink:type=\"simple\"><rect fill=\"#FFFFFF\" height=\"75.5469\" id=\"E12\" rx=\"10\" ry=\"10\" style=\"stroke: #383838; stroke-width: 1.5;\" width=\"90\" x=\"35\" y=\"367\"/><text fill=\"#000000\" font-family=\"sans-serif\" font-size=\"12\" font-style=\"italic\" lengthAdjust=\"spacingAndGlyphs\" textLength=\"88\" x=\"36\" y=\"383.1387\">«send action»</text><text fill=\"#000000\" font-family=\"sans-serif\" font-size=\"12\" lengthAdjust=\"spacingAndGlyphs\" textLength=\"55\" x=\"52.5\" y=\"397.1074\">doAction</text><line style=\"stroke: #383838; stroke-width: 1.5;\" x1=\"36\" x2=\"124\" y1=\"404.9375\" y2=\"404.9375\"/><text fill=\"#000000\" font-family=\"sans-serif\" font-size=\"11\" lengthAdjust=\"spacingAndGlyphs\" textLength=\"25\" x=\"41\" y=\"435.9526\">item</text><line style=\"stroke: #383838; stroke-width: 1.0;\" x1=\"36\" x2=\"42.5\" y1=\"419.3398\" y2=\"419.3398\"/><text fill=\"#000000\" font-family=\"sans-serif\" font-size=\"11\" lengthAdjust=\"spacingAndGlyphs\" textLength=\"75\" x=\"42.5\" y=\"422.6479\">itemFeatures</text><line style=\"stroke: #383838; stroke-width: 1.0;\" x1=\"117.5\" x2=\"124\" y1=\"419.3398\" y2=\"419.3398\"/></a><!--MD5=[1f5f03483f7de0d5b3680a7f6650997f]\n",
       "reverse link E6 to E11--><a href=\"psysml:15193c6f-79c7-4ee2-a2ac-bfb559b7d876\" target=\"_top\" title=\"psysml:15193c6f-79c7-4ee2-a2ac-bfb559b7d876\" xlink:actuate=\"onRequest\" xlink:href=\"psysml:15193c6f-79c7-4ee2-a2ac-bfb559b7d876\" xlink:show=\"new\" xlink:title=\"psysml:15193c6f-79c7-4ee2-a2ac-bfb559b7d876\" xlink:type=\"simple\"><path d=\"M80,214.07 C80,214.07 80,260.85 80,260.85 \" fill=\"none\" id=\"E6&lt;-E11\" style=\"stroke: #383838; stroke-width: 1.0;\"/><polygon fill=\"#383838\" points=\"80,201.07,76,207.07,80,213.07,84,207.07,80,201.07\" style=\"stroke: #383838; stroke-width: 1.0;\"/></a><!--MD5=[94adabc162ce7e41b39f13be14fbaeb3]\n",
       "reverse link E11 to E12--><a href=\"psysml:02a264b3-17c4-490c-b5b1-f49bb5aa02c2\" target=\"_top\" title=\"psysml:02a264b3-17c4-490c-b5b1-f49bb5aa02c2\" xlink:actuate=\"onRequest\" xlink:href=\"psysml:02a264b3-17c4-490c-b5b1-f49bb5aa02c2\" xlink:show=\"new\" xlink:title=\"psysml:02a264b3-17c4-490c-b5b1-f49bb5aa02c2\" xlink:type=\"simple\"><path d=\"M80,320.04 C80,320.04 80,366.81 80,366.81 \" fill=\"none\" id=\"E11&lt;-E12\" style=\"stroke: #383838; stroke-width: 1.0;\"/><polygon fill=\"#FFFFFF\" points=\"80,307.04,76,313.04,80,319.04,84,313.04,80,307.04\" style=\"stroke: #383838; stroke-width: 1.0;\"/></a><!--MD5=[dfd19882119aa10e949976ac10dc1604]\n",
       "@startuml\r\n",
       "skinparam linetype ortho\r\n",
       "skinparam monochrome true\r\n",
       "skinparam classbackgroundcolor white\r\n",
       "skinparam shadowing false\r\n",
       "skinparam wrapWidth 300\r\n",
       "hide circle\r\n",
       "\r\n",
       "package \"StateTest\" as E1  [[psysml:9c548ee6-d869-4820-b951-32f5a4e72165 ]]  {\r\n",
       "comp def \"Sig\" as E2  <<(T,blue)attribute def>> [[psysml:7a2ca9b4-3a97-4e8a-92f8-a9f50dc832cb ]] {\r\n",
       "- - attributes - -\r\n",
       "x\r\n",
       "}\r\n",
       "comp def \"Exit\" as E3  <<(T,blue)attribute def>> [[psysml:30361623-caf7-482c-9813-174242dd8f3c ]] {\r\n",
       "}\r\n",
       "comp usage \"p\" as E4  <<(T,blue)part>> [[psysml:86d86843-d597-4d6e-917a-885d695bc43d ]] {\r\n",
       "}\r\n",
       "comp usage \"act\" as E5  <<(T,blue)action>> [[psysml:6cb3785d-90e3-4021-b607-f0ab9874924c ]] {\r\n",
       "}\r\n",
       "comp def \"S\" as E6  <<(T,blue)state def>> [[psysml:409d967c-2b55-4985-b068-ed253d96c58c ]] {\r\n",
       "- - performActions - -\r\n",
       "act\r\n",
       "A\r\n",
       "B\r\n",
       "- - states - -\r\n",
       "S1\r\n",
       "- - transitions - -\r\n",
       "T\r\n",
       "}\r\n",
       "comp usage \"S2\" as E11  <<(T,blue)state>> [[psysml:15193c6f-79c7-4ee2-a2ac-bfb559b7d876 ]] {\r\n",
       "}\r\n",
       "comp usage \"doAction\" as E12 <<send action>> [[psysml:02a264b3-17c4-490c-b5b1-f49bb5aa02c2 ]] {\r\n",
       "- - itemFeatures - -\r\n",
       "item\r\n",
       "}\r\n",
       "E6 *- - E11 [[psysml:15193c6f-79c7-4ee2-a2ac-bfb559b7d876 ]] \r\n",
       "E11 o- - E12 [[psysml:02a264b3-17c4-490c-b5b1-f49bb5aa02c2 ]] \r\n",
       "}\r\n",
       "@enduml\r\n",
       "\n",
       "PlantUML version 1.2020.13(Sat Jun 13 12:26:38 UTC 2020)\n",
       "(EPL source distribution)\n",
       "Java Runtime: OpenJDK Runtime Environment\n",
       "JVM: OpenJDK 64-Bit Server VM\n",
       "Default Encoding: UTF-8\n",
       "Language: en\n",
       "Country: null\n",
       "--></g></svg>"
      ]
     },
     "execution_count": 56,
     "metadata": {},
     "output_type": "execute_result"
    }
   ],
   "source": [
    "%viz --style=\"ORTHOLINE\" --view=\"Sequence\" \"StateTest\""
   ]
  },
  {
   "cell_type": "code",
   "execution_count": 57,
   "id": "usual-connecticut",
   "metadata": {
    "execution": {
     "iopub.execute_input": "2021-03-26T09:13:57.024132Z",
     "iopub.status.busy": "2021-03-26T09:13:57.023672Z",
     "iopub.status.idle": "2021-03-26T09:13:57.062922Z",
     "shell.execute_reply": "2021-03-26T09:13:57.063276Z"
    }
   },
   "outputs": [
    {
     "data": {
      "image/svg+xml": [
       "<?xml version=\"1.0\" encoding=\"UTF-8\" standalone=\"no\"?><svg xmlns=\"http://www.w3.org/2000/svg\" xmlns:xlink=\"http://www.w3.org/1999/xlink\" contentScriptType=\"application/ecmascript\" contentStyleType=\"text/css\" height=\"570px\" preserveAspectRatio=\"none\" style=\"width:819px;height:570px;\" version=\"1.1\" viewBox=\"0 0 819 570\" width=\"819px\" zoomAndPan=\"magnify\"><defs/><g><!--MD5=[fbc87193dbaf4d95561dea2c320d4a47]\n",
       "cluster E1--><a href=\"psysml:9c548ee6-d869-4820-b951-32f5a4e72165\" target=\"_top\" title=\"psysml:9c548ee6-d869-4820-b951-32f5a4e72165\" xlink:actuate=\"onRequest\" xlink:href=\"psysml:9c548ee6-d869-4820-b951-32f5a4e72165\" xlink:show=\"new\" xlink:title=\"psysml:9c548ee6-d869-4820-b951-32f5a4e72165\" xlink:type=\"simple\"><polygon fill=\"#FFFFFF\" points=\"16,6,98,6,105,28.2969,797,28.2969,797,558,16,558,16,6\" style=\"stroke: #000000; stroke-width: 1.5;\"/><line style=\"stroke: #000000; stroke-width: 1.5;\" x1=\"16\" x2=\"105\" y1=\"28.2969\" y2=\"28.2969\"/><text fill=\"#000000\" font-family=\"sans-serif\" font-size=\"14\" font-weight=\"bold\" lengthAdjust=\"spacingAndGlyphs\" textLength=\"76\" x=\"20\" y=\"20.9951\">StateTest</text></a><!--MD5=[14e3b0961a2654348d326746436168a1]\n",
       "cluster E6--><a href=\"psysml:409d967c-2b55-4985-b068-ed253d96c58c\" target=\"_top\" title=\"psysml:409d967c-2b55-4985-b068-ed253d96c58c\" xlink:actuate=\"onRequest\" xlink:href=\"psysml:409d967c-2b55-4985-b068-ed253d96c58c\" xlink:show=\"new\" xlink:title=\"psysml:409d967c-2b55-4985-b068-ed253d96c58c\" xlink:type=\"simple\"><rect fill=\"#FFFFFF\" height=\"485\" id=\"E6\" style=\"stroke: #383838; stroke-width: 1.5;\" width=\"327\" x=\"446\" y=\"49\"/><rect fill=\"#F8F8F8\" height=\"37.9375\" style=\"stroke: #383838; stroke-width: 1.5;\" width=\"327\" x=\"446\" y=\"49\"/><text fill=\"#000000\" font-family=\"sans-serif\" font-size=\"12\" font-style=\"italic\" lengthAdjust=\"spacingAndGlyphs\" textLength=\"71\" x=\"574\" y=\"65.1387\">«state def»</text><text fill=\"#000000\" font-family=\"sans-serif\" font-size=\"12\" lengthAdjust=\"spacingAndGlyphs\" textLength=\"8\" x=\"605.5\" y=\"79.1074\">S</text><line style=\"stroke: #383838; stroke-width: 1.0;\" x1=\"446\" x2=\"773\" y1=\"132.8438\" y2=\"132.8438\"/><text fill=\"#000000\" font-family=\"sans-serif\" font-size=\"12\" font-weight=\"bold\" lengthAdjust=\"spacingAndGlyphs\" textLength=\"38\" x=\"451\" y=\"100.0762\">entry</text><text fill=\"#000000\" font-family=\"sans-serif\" font-size=\"12\" lengthAdjust=\"spacingAndGlyphs\" textLength=\"16\" x=\"489\" y=\"100.0762\">/ A</text><text fill=\"#000000\" font-family=\"sans-serif\" font-size=\"12\" font-weight=\"bold\" lengthAdjust=\"spacingAndGlyphs\" textLength=\"18\" x=\"451\" y=\"114.0449\">do</text><text fill=\"#000000\" font-family=\"sans-serif\" font-size=\"12\" lengthAdjust=\"spacingAndGlyphs\" textLength=\"16\" x=\"469\" y=\"114.0449\">/ B</text><text fill=\"#000000\" font-family=\"sans-serif\" font-size=\"12\" font-weight=\"bold\" lengthAdjust=\"spacingAndGlyphs\" textLength=\"26\" x=\"451\" y=\"128.0137\">exit</text><text fill=\"#000000\" font-family=\"sans-serif\" font-size=\"12\" lengthAdjust=\"spacingAndGlyphs\" textLength=\"28\" x=\"477\" y=\"128.0137\">/ act</text></a><!--MD5=[b4997ac47864f28c2f74865a473b2911]\n",
       "class E2--><a href=\"psysml:7a2ca9b4-3a97-4e8a-92f8-a9f50dc832cb\" target=\"_top\" title=\"psysml:7a2ca9b4-3a97-4e8a-92f8-a9f50dc832cb\" xlink:actuate=\"onRequest\" xlink:href=\"psysml:7a2ca9b4-3a97-4e8a-92f8-a9f50dc832cb\" xlink:show=\"new\" xlink:title=\"psysml:7a2ca9b4-3a97-4e8a-92f8-a9f50dc832cb\" xlink:type=\"simple\"><rect fill=\"#FFFFFF\" height=\"75.5469\" id=\"E2\" style=\"stroke: #383838; stroke-width: 1.5;\" width=\"95\" x=\"334.5\" y=\"119\"/><text fill=\"#000000\" font-family=\"sans-serif\" font-size=\"12\" font-style=\"italic\" lengthAdjust=\"spacingAndGlyphs\" textLength=\"93\" x=\"335.5\" y=\"135.1387\">«attribute def»</text><text fill=\"#000000\" font-family=\"sans-serif\" font-size=\"12\" lengthAdjust=\"spacingAndGlyphs\" textLength=\"19\" x=\"372.5\" y=\"149.1074\">Sig</text><line style=\"stroke: #383838; stroke-width: 1.5;\" x1=\"335.5\" x2=\"428.5\" y1=\"156.9375\" y2=\"156.9375\"/><text fill=\"#000000\" font-family=\"sans-serif\" font-size=\"11\" lengthAdjust=\"spacingAndGlyphs\" textLength=\"6\" x=\"340.5\" y=\"187.9526\">x</text><line style=\"stroke: #383838; stroke-width: 1.0;\" x1=\"335.5\" x2=\"354.5\" y1=\"171.3398\" y2=\"171.3398\"/><text fill=\"#000000\" font-family=\"sans-serif\" font-size=\"11\" lengthAdjust=\"spacingAndGlyphs\" textLength=\"55\" x=\"354.5\" y=\"174.6479\">attributes</text><line style=\"stroke: #383838; stroke-width: 1.0;\" x1=\"409.5\" x2=\"428.5\" y1=\"171.3398\" y2=\"171.3398\"/></a><!--MD5=[09b614a08d8cba4a07c9adeb5e0fee81]\n",
       "class E3--><a href=\"psysml:30361623-caf7-482c-9813-174242dd8f3c\" target=\"_top\" title=\"psysml:30361623-caf7-482c-9813-174242dd8f3c\" xlink:actuate=\"onRequest\" xlink:href=\"psysml:30361623-caf7-482c-9813-174242dd8f3c\" xlink:show=\"new\" xlink:title=\"psysml:30361623-caf7-482c-9813-174242dd8f3c\" xlink:type=\"simple\"><rect fill=\"#FFFFFF\" height=\"45.9375\" id=\"E3\" style=\"stroke: #383838; stroke-width: 1.5;\" width=\"95\" x=\"204.5\" y=\"134\"/><text fill=\"#000000\" font-family=\"sans-serif\" font-size=\"12\" font-style=\"italic\" lengthAdjust=\"spacingAndGlyphs\" textLength=\"93\" x=\"205.5\" y=\"150.1387\">«attribute def»</text><text fill=\"#000000\" font-family=\"sans-serif\" font-size=\"12\" lengthAdjust=\"spacingAndGlyphs\" textLength=\"22\" x=\"241\" y=\"164.1074\">Exit</text><line style=\"stroke: #383838; stroke-width: 1.5;\" x1=\"205.5\" x2=\"298.5\" y1=\"171.9375\" y2=\"171.9375\"/></a><!--MD5=[ebbe1d658d1005bcc118a6aa81145e00]\n",
       "class E4--><a href=\"psysml:86d86843-d597-4d6e-917a-885d695bc43d\" target=\"_top\" title=\"psysml:86d86843-d597-4d6e-917a-885d695bc43d\" xlink:actuate=\"onRequest\" xlink:href=\"psysml:86d86843-d597-4d6e-917a-885d695bc43d\" xlink:show=\"new\" xlink:title=\"psysml:86d86843-d597-4d6e-917a-885d695bc43d\" xlink:type=\"simple\"><rect fill=\"#FFFFFF\" height=\"45.9375\" id=\"E4\" rx=\"10\" ry=\"10\" style=\"stroke: #383838; stroke-width: 1.5;\" width=\"42\" x=\"127\" y=\"134\"/><text fill=\"#000000\" font-family=\"sans-serif\" font-size=\"12\" font-style=\"italic\" lengthAdjust=\"spacingAndGlyphs\" textLength=\"40\" x=\"128\" y=\"150.1387\">«part»</text><text fill=\"#000000\" font-family=\"sans-serif\" font-size=\"12\" lengthAdjust=\"spacingAndGlyphs\" textLength=\"8\" x=\"144\" y=\"164.1074\">p</text><line style=\"stroke: #383838; stroke-width: 1.5;\" x1=\"128\" x2=\"168\" y1=\"171.9375\" y2=\"171.9375\"/></a><g id=\"E1.E5\"><a href=\"psysml:6cb3785d-90e3-4021-b607-f0ab9874924c\" target=\"_top\" title=\"psysml:6cb3785d-90e3-4021-b607-f0ab9874924c\" xlink:actuate=\"onRequest\" xlink:href=\"psysml:6cb3785d-90e3-4021-b607-f0ab9874924c\" xlink:show=\"new\" xlink:title=\"psysml:6cb3785d-90e3-4021-b607-f0ab9874924c\" xlink:type=\"simple\"><rect fill=\"#FFFFFF\" height=\"42.9375\" id=\"E5\" rx=\"10\" ry=\"10\" style=\"stroke: #383838; stroke-width: 1.5;\" width=\"60\" x=\"32\" y=\"135.5\"/><rect fill=\"#F8F8F8\" height=\"37.9375\" rx=\"10\" ry=\"10\" style=\"stroke: #F8F8F8; stroke-width: 1.5;\" width=\"60\" x=\"32\" y=\"135.5\"/><rect fill=\"#F8F8F8\" height=\"10\" style=\"stroke: #F8F8F8; stroke-width: 1.5;\" width=\"60\" x=\"32\" y=\"163.4375\"/><rect fill=\"none\" height=\"42.9375\" id=\"E5\" rx=\"10\" ry=\"10\" style=\"stroke: #383838; stroke-width: 1.5;\" width=\"60\" x=\"32\" y=\"135.5\"/><text fill=\"#000000\" font-family=\"sans-serif\" font-size=\"12\" font-style=\"italic\" lengthAdjust=\"spacingAndGlyphs\" textLength=\"53\" x=\"35.5\" y=\"151.6387\">«action»</text><text fill=\"#000000\" font-family=\"sans-serif\" font-size=\"12\" lengthAdjust=\"spacingAndGlyphs\" textLength=\"20\" x=\"52\" y=\"165.6074\">act</text></a></g><ellipse cx=\"558\" cy=\"157\" fill=\"#000000\" rx=\"10\" ry=\"10\" style=\"stroke: none; stroke-width: 1.0;\"/><ellipse cx=\"558\" cy=\"508\" fill=\"none\" rx=\"10\" ry=\"10\" style=\"stroke: #000000; stroke-width: 1.0;\"/><ellipse cx=\"558.5\" cy=\"508.5\" fill=\"#000000\" rx=\"6\" ry=\"6\" style=\"stroke: none; stroke-width: 1.0;\"/><g id=\"E1.E6.E7\"><a href=\"psysml:5ea02985-bc8b-4cb1-bb08-c3caa7c881e0\" target=\"_top\" title=\"psysml:5ea02985-bc8b-4cb1-bb08-c3caa7c881e0\" xlink:actuate=\"onRequest\" xlink:href=\"psysml:5ea02985-bc8b-4cb1-bb08-c3caa7c881e0\" xlink:show=\"new\" xlink:title=\"psysml:5ea02985-bc8b-4cb1-bb08-c3caa7c881e0\" xlink:type=\"simple\"><rect fill=\"#FFFFFF\" height=\"40\" id=\"E7\" rx=\"10\" ry=\"10\" style=\"stroke: #383838; stroke-width: 1.5;\" width=\"50\" x=\"533\" y=\"256\"/><rect fill=\"#F8F8F8\" height=\"23.9688\" rx=\"10\" ry=\"10\" style=\"stroke: #F8F8F8; stroke-width: 1.5;\" width=\"50\" x=\"533\" y=\"256\"/><rect fill=\"#F8F8F8\" height=\"10\" style=\"stroke: #F8F8F8; stroke-width: 1.5;\" width=\"50\" x=\"533\" y=\"269.9688\"/><rect fill=\"none\" height=\"40\" id=\"E7\" rx=\"10\" ry=\"10\" style=\"stroke: #383838; stroke-width: 1.5;\" width=\"50\" x=\"533\" y=\"256\"/><text fill=\"#000000\" font-family=\"sans-serif\" font-size=\"12\" lengthAdjust=\"spacingAndGlyphs\" textLength=\"16\" x=\"550\" y=\"272.1387\">S1</text></a></g><g id=\"E1.E6.E8\"><a href=\"psysml:15193c6f-79c7-4ee2-a2ac-bfb559b7d876\" target=\"_top\" title=\"psysml:15193c6f-79c7-4ee2-a2ac-bfb559b7d876\" xlink:actuate=\"onRequest\" xlink:href=\"psysml:15193c6f-79c7-4ee2-a2ac-bfb559b7d876\" xlink:show=\"new\" xlink:title=\"psysml:15193c6f-79c7-4ee2-a2ac-bfb559b7d876\" xlink:type=\"simple\"><rect fill=\"#FFFFFF\" height=\"47.9375\" id=\"E8\" rx=\"10\" ry=\"10\" style=\"stroke: #383838; stroke-width: 1.5;\" width=\"50\" x=\"533\" y=\"373\"/><rect fill=\"#F8F8F8\" height=\"23.9688\" rx=\"10\" ry=\"10\" style=\"stroke: #F8F8F8; stroke-width: 1.5;\" width=\"50\" x=\"533\" y=\"373\"/><rect fill=\"#F8F8F8\" height=\"10\" style=\"stroke: #F8F8F8; stroke-width: 1.5;\" width=\"50\" x=\"533\" y=\"386.9688\"/><rect fill=\"none\" height=\"47.9375\" id=\"E8\" rx=\"10\" ry=\"10\" style=\"stroke: #383838; stroke-width: 1.5;\" width=\"50\" x=\"533\" y=\"373\"/><text fill=\"#000000\" font-family=\"sans-serif\" font-size=\"12\" lengthAdjust=\"spacingAndGlyphs\" textLength=\"16\" x=\"550\" y=\"389.1387\">S2</text><line style=\"stroke: #383838; stroke-width: 1.0;\" x1=\"533\" x2=\"583\" y1=\"396.9688\" y2=\"396.9688\"/><text fill=\"#000000\" font-family=\"sans-serif\" font-size=\"12\" font-weight=\"bold\" lengthAdjust=\"spacingAndGlyphs\" textLength=\"18\" x=\"538\" y=\"410.1074\">do</text><text fill=\"#000000\" font-family=\"sans-serif\" font-size=\"12\" lengthAdjust=\"spacingAndGlyphs\" textLength=\"4\" x=\"556\" y=\"410.1074\">/</text></a></g><!--MD5=[5a531d3a85f3339e6e197084acb48195]\n",
       "link *start*E6 to E7--><a href=\"psysml:50e6b136-bb64-4da5-b9f3-893462631a2b\" target=\"_top\" title=\"psysml:50e6b136-bb64-4da5-b9f3-893462631a2b\" xlink:actuate=\"onRequest\" xlink:href=\"psysml:50e6b136-bb64-4da5-b9f3-893462631a2b\" xlink:show=\"new\" xlink:title=\"psysml:50e6b136-bb64-4da5-b9f3-893462631a2b\" xlink:type=\"simple\"><path d=\"M558,167.15 C558,167.15 558,250.67 558,250.67 \" fill=\"none\" id=\"*start*E6-&gt;E7\" style=\"stroke: #383838; stroke-width: 1.0;\"/><polygon fill=\"#383838\" points=\"558,255.67,562,246.67,558,250.67,554,246.67,558,255.67\" style=\"stroke: #383838; stroke-width: 1.0;\"/></a><!--MD5=[7ec9a8babba89ddcae1318ca9fb3c814]\n",
       "link E8 to *end*E6--><a href=\"psysml:400438d1-4a79-4175-ae6b-80e92b548ca9\" target=\"_top\" title=\"psysml:400438d1-4a79-4175-ae6b-80e92b548ca9\" xlink:actuate=\"onRequest\" xlink:href=\"psysml:400438d1-4a79-4175-ae6b-80e92b548ca9\" xlink:show=\"new\" xlink:title=\"psysml:400438d1-4a79-4175-ae6b-80e92b548ca9\" xlink:type=\"simple\"><path d=\"M558,421.09 C558,421.09 558,492.94 558,492.94 \" fill=\"none\" id=\"E8-&gt;*end*E6\" style=\"stroke: #383838; stroke-width: 1.0;\"/><polygon fill=\"#383838\" points=\"558,497.94,562,488.94,558,492.94,554,488.94,558,497.94\" style=\"stroke: #383838; stroke-width: 1.0;\"/><text fill=\"#000000\" font-family=\"sans-serif\" font-size=\"13\" lengthAdjust=\"spacingAndGlyphs\" textLength=\"23\" x=\"559\" y=\"464.0669\">Exit</text></a><!--MD5=[79bc8f324ef4d02c541433f2e6e513c3]\n",
       "link E7 to E8--><a href=\"psysml:516b9b87-0f3c-4a45-97aa-978805331ddd\" target=\"_top\" title=\"psysml:516b9b87-0f3c-4a45-97aa-978805331ddd\" xlink:actuate=\"onRequest\" xlink:href=\"psysml:516b9b87-0f3c-4a45-97aa-978805331ddd\" xlink:show=\"new\" xlink:title=\"psysml:516b9b87-0f3c-4a45-97aa-978805331ddd\" xlink:type=\"simple\"><path d=\"M549.67,296.25 C549.67,296.25 549.67,367.93 549.67,367.93 \" fill=\"none\" id=\"E7-&gt;E8\" style=\"stroke: #383838; stroke-width: 1.0;\"/><polygon fill=\"#383838\" points=\"549.67,372.93,553.67,363.93,549.67,367.93,545.67,363.93,549.67,372.93\" style=\"stroke: #383838; stroke-width: 1.0;\"/><text fill=\"#000000\" font-family=\"sans-serif\" font-size=\"13\" lengthAdjust=\"spacingAndGlyphs\" textLength=\"81\" x=\"498\" y=\"339.0669\">Sig /action D</text></a><!--MD5=[bfa3c8b0d15052fdf50ae9310b491027]\n",
       "link E8 to E7--><a href=\"psysml:0976314e-a9f7-4444-bafa-f8883db64fa0\" target=\"_top\" title=\"psysml:0976314e-a9f7-4444-bafa-f8883db64fa0\" xlink:actuate=\"onRequest\" xlink:href=\"psysml:0976314e-a9f7-4444-bafa-f8883db64fa0\" xlink:show=\"new\" xlink:title=\"psysml:0976314e-a9f7-4444-bafa-f8883db64fa0\" xlink:type=\"simple\"><path d=\"M566.33,372.8 C566.33,372.8 566.33,301.14 566.33,301.14 \" fill=\"none\" id=\"E8-&gt;E7\" style=\"stroke: #383838; stroke-width: 1.0;\"/><polygon fill=\"#383838\" points=\"566.33,296.14,562.33,305.14,566.33,301.14,570.33,305.14,566.33,296.14\" style=\"stroke: #383838; stroke-width: 1.0;\"/><text fill=\"#000000\" font-family=\"sans-serif\" font-size=\"13\" lengthAdjust=\"spacingAndGlyphs\" textLength=\"135\" x=\"621\" y=\"339.0669\">Sig [true]/send s to p</text></a><!--MD5=[dd6506f8e7b5645ae423106d81b8aba7]\n",
       "@startuml\r\n",
       "skinparam linetype ortho\r\n",
       "skinparam monochrome true\r\n",
       "skinparam classbackgroundcolor white\r\n",
       "skinparam shadowing false\r\n",
       "skinparam wrapWidth 300\r\n",
       "hide circle\r\n",
       "\r\n",
       "package \"StateTest\" as E1  [[psysml:9c548ee6-d869-4820-b951-32f5a4e72165 ]]  {\r\n",
       "comp def \"Sig\" as E2  <<(T,blue)attribute def>> [[psysml:7a2ca9b4-3a97-4e8a-92f8-a9f50dc832cb ]] {\r\n",
       "- - attributes - -\r\n",
       "x\r\n",
       "}\r\n",
       "comp def \"Exit\" as E3  <<(T,blue)attribute def>> [[psysml:30361623-caf7-482c-9813-174242dd8f3c ]] {\r\n",
       "}\r\n",
       "comp usage \"p\" as E4  <<(T,blue)part>> [[psysml:86d86843-d597-4d6e-917a-885d695bc43d ]] {\r\n",
       "}\r\n",
       "rec usage \"act\" as E5  <<(T,blue)action>> [[psysml:6cb3785d-90e3-4021-b607-f0ab9874924c ]] {\r\n",
       "}\r\n",
       "\r\n",
       "rec def \"S\" as E6  <<(T,blue)state def>> [[psysml:409d967c-2b55-4985-b068-ed253d96c58c ]] {\r\n",
       "rec usage \"S1\" as E7 [[psysml:5ea02985-bc8b-4cb1-bb08-c3caa7c881e0 ]] {\r\n",
       "}\r\n",
       "\r\n",
       "rec usage \"S2\" as E8 [[psysml:15193c6f-79c7-4ee2-a2ac-bfb559b7d876 ]] {\r\n",
       "desc \"S2\" as E8  : **do**/ \r\n",
       "}\r\n",
       "\r\n",
       "[*] - -> E7 [[psysml:50e6b136-bb64-4da5-b9f3-893462631a2b ]] \r\n",
       "E8  - -> [*] [[psysml:400438d1-4a79-4175-ae6b-80e92b548ca9 ]] : Exit \r\n",
       "desc \"S\" as E6  : **entry**/ A\r\n",
       "desc \"S\" as E6  : **do**/ B\r\n",
       "desc \"S\" as E6  : **exit**/ act \r\n",
       "}\r\n",
       "\r\n",
       "E7  - -> E8 [[psysml:516b9b87-0f3c-4a45-97aa-978805331ddd ]] : Sig /action D\r\n",
       "E8  - -> E7 [[psysml:0976314e-a9f7-4444-bafa-f8883db64fa0 ]] : Sig [true]/send s to p\r\n",
       "}\r\n",
       "@enduml\r\n",
       "\n",
       "PlantUML version 1.2020.13(Sat Jun 13 12:26:38 UTC 2020)\n",
       "(EPL source distribution)\n",
       "Java Runtime: OpenJDK Runtime Environment\n",
       "JVM: OpenJDK 64-Bit Server VM\n",
       "Default Encoding: UTF-8\n",
       "Language: en\n",
       "Country: null\n",
       "--></g></svg>"
      ]
     },
     "execution_count": 57,
     "metadata": {},
     "output_type": "execute_result"
    }
   ],
   "source": [
    "%viz --style=\"ORTHOLINE\" --view=\"MIXED\" \"StateTest\""
   ]
  }
 ],
 "metadata": {
  "kernelspec": {
   "display_name": "SysML",
   "language": "sysml",
   "name": "sysml"
  },
  "language_info": {
   "codemirror_mode": "sysml",
   "file_extension": ".sysml",
   "mimetype": "text/x-sysml",
   "name": "SysML",
   "pygments_lexer": "java",
   "version": "1.0.0"
  }
 },
 "nbformat": 4,
 "nbformat_minor": 5
}
