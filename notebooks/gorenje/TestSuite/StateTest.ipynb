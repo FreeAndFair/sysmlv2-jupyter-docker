{
 "cells": [
  {
   "cell_type": "markdown",
   "id": "future-spyware",
   "metadata": {},
   "source": [
    "# SysML v2 Test Suite\n",
    "\n",
    "This can notebook can be cleared using menu `Edit --> Clear All Outputs` and then all cells can be\n",
    "run using menu `Run --> Run All Cells`.\n",
    "\n",
    "**WARNING**: This file is generated, all modifications here will be ignored.\n"
   ]
  },
  {
   "cell_type": "markdown",
   "id": "dynamic-hydrogen",
   "metadata": {},
   "source": [
    "## File: ../../sysml/src/examples/Simple Tests/StateTest.sysml"
   ]
  },
  {
   "cell_type": "code",
   "execution_count": 1,
   "id": "extreme-aruba",
   "metadata": {
    "execution": {
     "iopub.execute_input": "2021-03-25T15:06:50.769973Z",
     "iopub.status.busy": "2021-03-25T15:06:50.769051Z",
     "iopub.status.idle": "2021-03-25T15:06:51.547305Z",
     "shell.execute_reply": "2021-03-25T15:06:51.546536Z"
    }
   },
   "outputs": [
    {
     "data": {
      "text/plain": [
       "Package StateTest (14011aa3-8bc9-4800-806e-f61b5098adfe)\n"
      ]
     },
     "execution_count": 1,
     "metadata": {},
     "output_type": "execute_result"
    }
   ],
   "source": [
    "package StateTest {\n",
    "\tattribute def Sig {\n",
    "\t\tx;\n",
    "\t}\n",
    "\tattribute def Exit;\n",
    "\t\n",
    "\tpart p;\n",
    "\t\n",
    "\taction act;\n",
    "\t\n",
    "\tstate def S {\n",
    "\t\tentry action A; then S1;\n",
    "\t\tdo action B;\n",
    "\t\texit act;\n",
    "\t\t\n",
    "\t\tstate S1;\n",
    "\t\t\taccept s : Sig\n",
    "\t\t\tdo action D\n",
    "\t\t\tthen S2;\n",
    "\t\t\n",
    "\t\tstate S2 {\n",
    "\t\t\tdo send Sig(T::s::x) to p;\n",
    "\t\t}\n",
    "\t\taccept Exit then done;\n",
    "\t\t\n",
    "\t\ttransition T\n",
    "\t\t\tfirst S2\n",
    "\t\t\taccept s : Sig\n",
    "\t\t\tif true\n",
    "\t\t\tdo send s to p\n",
    "\t\t\tthen S1;\t\t\n",
    "\t}\n",
    "}"
   ]
  },
  {
   "cell_type": "code",
   "execution_count": 2,
   "id": "pending-genealogy",
   "metadata": {
    "execution": {
     "iopub.execute_input": "2021-03-25T15:06:51.598715Z",
     "iopub.status.busy": "2021-03-25T15:06:51.598172Z",
     "iopub.status.idle": "2021-03-25T15:06:52.557226Z",
     "shell.execute_reply": "2021-03-25T15:06:52.555895Z"
    }
   },
   "outputs": [
    {
     "data": {
      "image/svg+xml": [
       "<?xml version=\"1.0\" encoding=\"UTF-8\" standalone=\"no\"?><svg xmlns=\"http://www.w3.org/2000/svg\" xmlns:xlink=\"http://www.w3.org/1999/xlink\" contentScriptType=\"application/ecmascript\" contentStyleType=\"text/css\" height=\"569px\" preserveAspectRatio=\"none\" style=\"width:923px;height:569px;\" version=\"1.1\" viewBox=\"0 0 923 569\" width=\"923px\" zoomAndPan=\"magnify\"><defs><filter height=\"300%\" id=\"fc5234nrmj0o6\" width=\"300%\" x=\"-1\" y=\"-1\"><feGaussianBlur result=\"blurOut\" stdDeviation=\"2.0\"/><feColorMatrix in=\"blurOut\" result=\"blurOut2\" type=\"matrix\" values=\"0 0 0 0 0 0 0 0 0 0 0 0 0 0 0 0 0 0 .4 0\"/><feOffset dx=\"4.0\" dy=\"4.0\" in=\"blurOut2\" result=\"blurOut3\"/><feBlend in=\"SourceGraphic\" in2=\"blurOut3\" mode=\"normal\"/></filter></defs><g><!--MD5=[fbc87193dbaf4d95561dea2c320d4a47]\n",
       "cluster E1--><a href=\"psysml:a2ca8720-bd4b-4556-9b27-091331149f1f\" target=\"_top\" title=\"psysml:a2ca8720-bd4b-4556-9b27-091331149f1f\" xlink:actuate=\"onRequest\" xlink:href=\"psysml:a2ca8720-bd4b-4556-9b27-091331149f1f\" xlink:show=\"new\" xlink:title=\"psysml:a2ca8720-bd4b-4556-9b27-091331149f1f\" xlink:type=\"simple\"><polygon fill=\"#FFFFFF\" filter=\"url(#fc5234nrmj0o6)\" points=\"16,6,98,6,105,28.2969,901,28.2969,901,557.5,16,557.5,16,6\" style=\"stroke: #000000; stroke-width: 1.5;\"/><line style=\"stroke: #000000; stroke-width: 1.5;\" x1=\"16\" x2=\"105\" y1=\"28.2969\" y2=\"28.2969\"/><text fill=\"#000000\" font-family=\"sans-serif\" font-size=\"14\" font-weight=\"bold\" lengthAdjust=\"spacingAndGlyphs\" textLength=\"76\" x=\"20\" y=\"20.9951\">StateTest</text></a><!--MD5=[14e3b0961a2654348d326746436168a1]\n",
       "cluster E6--><a href=\"psysml:b6aa9f25-72f8-4c2c-a7be-6589070e9bf6\" target=\"_top\" title=\"psysml:b6aa9f25-72f8-4c2c-a7be-6589070e9bf6\" xlink:actuate=\"onRequest\" xlink:href=\"psysml:b6aa9f25-72f8-4c2c-a7be-6589070e9bf6\" xlink:show=\"new\" xlink:title=\"psysml:b6aa9f25-72f8-4c2c-a7be-6589070e9bf6\" xlink:type=\"simple\"><rect fill=\"#FFFFFF\" filter=\"url(#fc5234nrmj0o6)\" height=\"484.5\" id=\"E6\" style=\"stroke: #A80036; stroke-width: 1.5;\" width=\"327\" x=\"550\" y=\"49\"/><rect fill=\"#FEFECE\" height=\"37.9375\" style=\"stroke: #A80036; stroke-width: 1.5;\" width=\"327\" x=\"550\" y=\"49\"/><text fill=\"#000000\" font-family=\"sans-serif\" font-size=\"12\" font-style=\"italic\" lengthAdjust=\"spacingAndGlyphs\" textLength=\"71\" x=\"678\" y=\"65.1387\">«state def»</text><text fill=\"#000000\" font-family=\"sans-serif\" font-size=\"12\" lengthAdjust=\"spacingAndGlyphs\" textLength=\"8\" x=\"709.5\" y=\"79.1074\">S</text><line style=\"stroke: #A80036; stroke-width: 1.0;\" x1=\"550\" x2=\"877\" y1=\"132.8438\" y2=\"132.8438\"/><text fill=\"#000000\" font-family=\"sans-serif\" font-size=\"12\" font-weight=\"bold\" lengthAdjust=\"spacingAndGlyphs\" textLength=\"38\" x=\"555\" y=\"100.0762\">entry</text><text fill=\"#000000\" font-family=\"sans-serif\" font-size=\"12\" lengthAdjust=\"spacingAndGlyphs\" textLength=\"16\" x=\"593\" y=\"100.0762\">/ A</text><text fill=\"#000000\" font-family=\"sans-serif\" font-size=\"12\" font-weight=\"bold\" lengthAdjust=\"spacingAndGlyphs\" textLength=\"18\" x=\"555\" y=\"114.0449\">do</text><text fill=\"#000000\" font-family=\"sans-serif\" font-size=\"12\" lengthAdjust=\"spacingAndGlyphs\" textLength=\"16\" x=\"573\" y=\"114.0449\">/ B</text><text fill=\"#000000\" font-family=\"sans-serif\" font-size=\"12\" font-weight=\"bold\" lengthAdjust=\"spacingAndGlyphs\" textLength=\"26\" x=\"555\" y=\"128.0137\">exit</text><text fill=\"#000000\" font-family=\"sans-serif\" font-size=\"12\" lengthAdjust=\"spacingAndGlyphs\" textLength=\"28\" x=\"581\" y=\"128.0137\">/ act</text></a><!--MD5=[b4997ac47864f28c2f74865a473b2911]\n",
       "class E2--><a href=\"psysml:9b0c6b07-76e0-48e6-88f4-e6a2c752e8e3\" target=\"_top\" title=\"psysml:9b0c6b07-76e0-48e6-88f4-e6a2c752e8e3\" xlink:actuate=\"onRequest\" xlink:href=\"psysml:9b0c6b07-76e0-48e6-88f4-e6a2c752e8e3\" xlink:show=\"new\" xlink:title=\"psysml:9b0c6b07-76e0-48e6-88f4-e6a2c752e8e3\" xlink:type=\"simple\"><rect fill=\"#FEFECE\" filter=\"url(#fc5234nrmj0o6)\" height=\"58.7422\" id=\"E2\" style=\"stroke: #A80036; stroke-width: 1.5;\" width=\"121\" x=\"412.5\" y=\"127.5\"/><ellipse cx=\"427.5\" cy=\"146.4688\" fill=\"#0000FF\" rx=\"11\" ry=\"11\" style=\"stroke: #A80036; stroke-width: 1.0;\"/><path d=\"M428.3438,153.2188 L425.8906,153.2188 L425.8906,142.9688 L422.75,142.9688 L422.75,140.8281 L431.4844,140.8281 L431.4844,142.9688 L428.3438,142.9688 L428.3438,153.2188 Z \"/><text fill=\"#000000\" font-family=\"sans-serif\" font-size=\"12\" font-style=\"italic\" lengthAdjust=\"spacingAndGlyphs\" textLength=\"93\" x=\"439.5\" y=\"143.6387\">«attribute def»</text><text fill=\"#000000\" font-family=\"sans-serif\" font-size=\"12\" lengthAdjust=\"spacingAndGlyphs\" textLength=\"19\" x=\"476.5\" y=\"157.6074\">Sig</text><line style=\"stroke: #A80036; stroke-width: 1.5;\" x1=\"413.5\" x2=\"532.5\" y1=\"165.4375\" y2=\"165.4375\"/><text fill=\"#000000\" font-family=\"sans-serif\" font-size=\"11\" lengthAdjust=\"spacingAndGlyphs\" textLength=\"6\" x=\"418.5\" y=\"179.6479\">x</text></a><!--MD5=[09b614a08d8cba4a07c9adeb5e0fee81]\n",
       "class E3--><a href=\"psysml:75ee6cec-68f4-495e-910b-3cf4854ee540\" target=\"_top\" title=\"psysml:75ee6cec-68f4-495e-910b-3cf4854ee540\" xlink:actuate=\"onRequest\" xlink:href=\"psysml:75ee6cec-68f4-495e-910b-3cf4854ee540\" xlink:show=\"new\" xlink:title=\"psysml:75ee6cec-68f4-495e-910b-3cf4854ee540\" xlink:type=\"simple\"><rect fill=\"#FEFECE\" filter=\"url(#fc5234nrmj0o6)\" height=\"45.9375\" id=\"E3\" style=\"stroke: #A80036; stroke-width: 1.5;\" width=\"121\" x=\"256.5\" y=\"134\"/><ellipse cx=\"271.5\" cy=\"152.9688\" fill=\"#0000FF\" rx=\"11\" ry=\"11\" style=\"stroke: #A80036; stroke-width: 1.0;\"/><path d=\"M272.3438,159.7188 L269.8906,159.7188 L269.8906,149.4688 L266.75,149.4688 L266.75,147.3281 L275.4844,147.3281 L275.4844,149.4688 L272.3438,149.4688 L272.3438,159.7188 Z \"/><text fill=\"#000000\" font-family=\"sans-serif\" font-size=\"12\" font-style=\"italic\" lengthAdjust=\"spacingAndGlyphs\" textLength=\"93\" x=\"283.5\" y=\"150.1387\">«attribute def»</text><text fill=\"#000000\" font-family=\"sans-serif\" font-size=\"12\" lengthAdjust=\"spacingAndGlyphs\" textLength=\"22\" x=\"319\" y=\"164.1074\">Exit</text><line style=\"stroke: #A80036; stroke-width: 1.5;\" x1=\"257.5\" x2=\"376.5\" y1=\"171.9375\" y2=\"171.9375\"/></a><!--MD5=[ebbe1d658d1005bcc118a6aa81145e00]\n",
       "class E4--><a href=\"psysml:d526add9-9153-4d94-82de-e3d10cc7d584\" target=\"_top\" title=\"psysml:d526add9-9153-4d94-82de-e3d10cc7d584\" xlink:actuate=\"onRequest\" xlink:href=\"psysml:d526add9-9153-4d94-82de-e3d10cc7d584\" xlink:show=\"new\" xlink:title=\"psysml:d526add9-9153-4d94-82de-e3d10cc7d584\" xlink:type=\"simple\"><rect fill=\"#FEFECE\" filter=\"url(#fc5234nrmj0o6)\" height=\"45.9375\" id=\"E4\" rx=\"10\" ry=\"10\" style=\"stroke: #A80036; stroke-width: 1.5;\" width=\"68\" x=\"153\" y=\"134\"/><ellipse cx=\"168\" cy=\"152.9688\" fill=\"#0000FF\" rx=\"11\" ry=\"11\" style=\"stroke: #A80036; stroke-width: 1.0;\"/><path d=\"M168.8438,159.7188 L166.3906,159.7188 L166.3906,149.4688 L163.25,149.4688 L163.25,147.3281 L171.9844,147.3281 L171.9844,149.4688 L168.8438,149.4688 L168.8438,159.7188 Z \"/><text fill=\"#000000\" font-family=\"sans-serif\" font-size=\"12\" font-style=\"italic\" lengthAdjust=\"spacingAndGlyphs\" textLength=\"40\" x=\"180\" y=\"150.1387\">«part»</text><text fill=\"#000000\" font-family=\"sans-serif\" font-size=\"12\" lengthAdjust=\"spacingAndGlyphs\" textLength=\"8\" x=\"196\" y=\"164.1074\">p</text><line style=\"stroke: #A80036; stroke-width: 1.5;\" x1=\"154\" x2=\"220\" y1=\"171.9375\" y2=\"171.9375\"/></a><g id=\"E1.E5\"><a href=\"psysml:12bd5d36-0dbf-4715-90c3-b0b875efee55\" target=\"_top\" title=\"psysml:12bd5d36-0dbf-4715-90c3-b0b875efee55\" xlink:actuate=\"onRequest\" xlink:href=\"psysml:12bd5d36-0dbf-4715-90c3-b0b875efee55\" xlink:show=\"new\" xlink:title=\"psysml:12bd5d36-0dbf-4715-90c3-b0b875efee55\" xlink:type=\"simple\"><rect fill=\"#FEFECE\" filter=\"url(#fc5234nrmj0o6)\" height=\"42.9375\" id=\"E5\" rx=\"10\" ry=\"10\" style=\"stroke: #A80036; stroke-width: 1.5;\" width=\"86\" x=\"32\" y=\"135.5\"/><ellipse cx=\"49.25\" cy=\"154.4688\" fill=\"#0000FF\" rx=\"11\" ry=\"11\" style=\"stroke: #A80036; stroke-width: 1.0;\"/><path d=\"M50.0938,161.2188 L47.6406,161.2188 L47.6406,150.9688 L44.5,150.9688 L44.5,148.8281 L53.2344,148.8281 L53.2344,150.9688 L50.0938,150.9688 L50.0938,161.2188 Z \"/><text fill=\"#000000\" font-family=\"sans-serif\" font-size=\"12\" font-style=\"italic\" lengthAdjust=\"spacingAndGlyphs\" textLength=\"53\" x=\"61.75\" y=\"151.6387\">«action»</text><text fill=\"#000000\" font-family=\"sans-serif\" font-size=\"12\" lengthAdjust=\"spacingAndGlyphs\" textLength=\"20\" x=\"78.25\" y=\"165.6074\">act</text></a></g><ellipse cx=\"662\" cy=\"157\" fill=\"#000000\" filter=\"url(#fc5234nrmj0o6)\" rx=\"10\" ry=\"10\" style=\"stroke: none; stroke-width: 1.0;\"/><ellipse cx=\"662\" cy=\"507.5\" fill=\"none\" filter=\"url(#fc5234nrmj0o6)\" rx=\"10\" ry=\"10\" style=\"stroke: #000000; stroke-width: 1.0;\"/><ellipse cx=\"662.5\" cy=\"508\" fill=\"#000000\" rx=\"6\" ry=\"6\" style=\"stroke: none; stroke-width: 1.0;\"/><g id=\"E1.E6.E7\"><a href=\"psysml:1cabaaec-9539-448a-9df0-432fc817479b\" target=\"_top\" title=\"psysml:1cabaaec-9539-448a-9df0-432fc817479b\" xlink:actuate=\"onRequest\" xlink:href=\"psysml:1cabaaec-9539-448a-9df0-432fc817479b\" xlink:show=\"new\" xlink:title=\"psysml:1cabaaec-9539-448a-9df0-432fc817479b\" xlink:type=\"simple\"><rect fill=\"#FEFECE\" filter=\"url(#fc5234nrmj0o6)\" height=\"40\" id=\"E7\" rx=\"10\" ry=\"10\" style=\"stroke: #A80036; stroke-width: 1.5;\" width=\"53\" x=\"635.5\" y=\"247.5\"/><ellipse cx=\"652.75\" cy=\"263.5\" fill=\"#B6DBBB\" rx=\"11\" ry=\"11\" style=\"stroke: #A80036; stroke-width: 1.0;\"/><path d=\"M648.625,265.4219 L648.625,257.6094 L651.0781,257.6094 L651.0781,266.0469 Q651.0781,266.9688 651.5469,267.5 Q652.0313,268.0313 652.8594,268.0313 Q653.7031,268.0313 654.1719,267.5 Q654.6406,266.9688 654.6406,266.0469 L654.6406,257.6094 L657.0938,257.6094 L657.0938,265.4219 Q657.0938,267.9531 656.0938,269.0938 Q655.0938,270.2344 652.8594,270.2344 Q650.6406,270.2344 649.625,269.0938 Q648.625,267.9531 648.625,265.4219 Z \"/><text fill=\"#000000\" font-family=\"sans-serif\" font-size=\"12\" lengthAdjust=\"spacingAndGlyphs\" textLength=\"16\" x=\"667.25\" y=\"267.6543\">S1</text></a></g><g id=\"E1.E6.E8\"><a href=\"psysml:7a7b17a9-f595-41dc-990f-a07a1c17ba3c\" target=\"_top\" title=\"psysml:7a7b17a9-f595-41dc-990f-a07a1c17ba3c\" xlink:actuate=\"onRequest\" xlink:href=\"psysml:7a7b17a9-f595-41dc-990f-a07a1c17ba3c\" xlink:show=\"new\" xlink:title=\"psysml:7a7b17a9-f595-41dc-990f-a07a1c17ba3c\" xlink:type=\"simple\"><rect fill=\"#FEFECE\" filter=\"url(#fc5234nrmj0o6)\" height=\"55.9688\" id=\"E8\" rx=\"10\" ry=\"10\" style=\"stroke: #A80036; stroke-width: 1.5;\" width=\"58\" x=\"633\" y=\"364.5\"/><ellipse cx=\"652.5\" cy=\"380.5\" fill=\"#B6DBBB\" rx=\"11\" ry=\"11\" style=\"stroke: #A80036; stroke-width: 1.0;\"/><path d=\"M648.375,382.4219 L648.375,374.6094 L650.8281,374.6094 L650.8281,383.0469 Q650.8281,383.9688 651.2969,384.5 Q651.7813,385.0313 652.6094,385.0313 Q653.4531,385.0313 653.9219,384.5 Q654.3906,383.9688 654.3906,383.0469 L654.3906,374.6094 L656.8438,374.6094 L656.8438,382.4219 Q656.8438,384.9531 655.8438,386.0938 Q654.8438,387.2344 652.6094,387.2344 Q650.3906,387.2344 649.375,386.0938 Q648.375,384.9531 648.375,382.4219 Z \"/><text fill=\"#000000\" font-family=\"sans-serif\" font-size=\"12\" lengthAdjust=\"spacingAndGlyphs\" textLength=\"16\" x=\"667.5\" y=\"384.6543\">S2</text><line style=\"stroke: #A80036; stroke-width: 1.0;\" x1=\"633\" x2=\"691\" y1=\"396.5\" y2=\"396.5\"/><text fill=\"#000000\" font-family=\"sans-serif\" font-size=\"12\" font-weight=\"bold\" lengthAdjust=\"spacingAndGlyphs\" textLength=\"18\" x=\"638\" y=\"409.6387\">do</text><text fill=\"#000000\" font-family=\"sans-serif\" font-size=\"12\" lengthAdjust=\"spacingAndGlyphs\" textLength=\"4\" x=\"656\" y=\"409.6387\">/</text></a></g><!--MD5=[5a531d3a85f3339e6e197084acb48195]\n",
       "link *start*E6 to E7--><a href=\"psysml:0b737fa2-1baa-4df5-913b-a090a33456a1\" target=\"_top\" title=\"psysml:0b737fa2-1baa-4df5-913b-a090a33456a1\" xlink:actuate=\"onRequest\" xlink:href=\"psysml:0b737fa2-1baa-4df5-913b-a090a33456a1\" xlink:show=\"new\" xlink:title=\"psysml:0b737fa2-1baa-4df5-913b-a090a33456a1\" xlink:type=\"simple\"><path d=\"M662,167.25 C662,183.64 662,218.28 662,241.97 \" fill=\"none\" id=\"*start*E6-&gt;E7\" style=\"stroke: #A80036; stroke-width: 1.0;\"/><polygon fill=\"#A80036\" points=\"662,247.15,666,238.15,662,242.15,658,238.15,662,247.15\" style=\"stroke: #A80036; stroke-width: 1.0;\"/></a><!--MD5=[7ec9a8babba89ddcae1318ca9fb3c814]\n",
       "link E8 to *end*E6--><a href=\"psysml:a8c9411f-d651-41a0-86c1-118f6cba8c1d\" target=\"_top\" title=\"psysml:a8c9411f-d651-41a0-86c1-118f6cba8c1d\" xlink:actuate=\"onRequest\" xlink:href=\"psysml:a8c9411f-d651-41a0-86c1-118f6cba8c1d\" xlink:show=\"new\" xlink:title=\"psysml:a8c9411f-d651-41a0-86c1-118f6cba8c1d\" xlink:type=\"simple\"><path d=\"M662,420.57 C662,443.05 662,474.17 662,492.13 \" fill=\"none\" id=\"E8-&gt;*end*E6\" style=\"stroke: #A80036; stroke-width: 1.0;\"/><polygon fill=\"#A80036\" points=\"662,497.26,666,488.26,662,492.26,658,488.26,662,497.26\" style=\"stroke: #A80036; stroke-width: 1.0;\"/><text fill=\"#000000\" font-family=\"sans-serif\" font-size=\"13\" lengthAdjust=\"spacingAndGlyphs\" textLength=\"23\" x=\"663\" y=\"463.5669\">Exit</text></a><!--MD5=[79bc8f324ef4d02c541433f2e6e513c3]\n",
       "link E7 to E8--><a href=\"psysml:eefcc534-c981-4425-9bf3-38251bd12a49\" target=\"_top\" title=\"psysml:eefcc534-c981-4425-9bf3-38251bd12a49\" xlink:actuate=\"onRequest\" xlink:href=\"psysml:eefcc534-c981-4425-9bf3-38251bd12a49\" xlink:show=\"new\" xlink:title=\"psysml:eefcc534-c981-4425-9bf3-38251bd12a49\" xlink:type=\"simple\"><path d=\"M635.25,280.67 C613.47,292.49 587.88,311.93 598,334.5 C604.51,349.01 616.74,361.35 628.79,370.79 \" fill=\"none\" id=\"E7-&gt;E8\" style=\"stroke: #A80036; stroke-width: 1.0;\"/><polygon fill=\"#A80036\" points=\"632.86,373.88,628.0945,365.2609,628.872,370.864,623.2689,371.6416,632.86,373.88\" style=\"stroke: #A80036; stroke-width: 1.0;\"/><text fill=\"#000000\" font-family=\"sans-serif\" font-size=\"13\" lengthAdjust=\"spacingAndGlyphs\" textLength=\"81\" x=\"599\" y=\"330.5669\">Sig /action D</text></a><!--MD5=[bfa3c8b0d15052fdf50ae9310b491027]\n",
       "link E8 to E7--><a href=\"psysml:bcd703ca-2055-4c24-98bc-6c579eb31483\" target=\"_top\" title=\"psysml:bcd703ca-2055-4c24-98bc-6c579eb31483\" xlink:actuate=\"onRequest\" xlink:href=\"psysml:bcd703ca-2055-4c24-98bc-6c579eb31483\" xlink:show=\"new\" xlink:title=\"psysml:bcd703ca-2055-4c24-98bc-6c579eb31483\" xlink:type=\"simple\"><path d=\"M677.55,364.38 C683.68,350.5 688.51,333.26 685,317.5 C683.1,308.99 679.56,300.22 675.82,292.49 \" fill=\"none\" id=\"E8-&gt;E7\" style=\"stroke: #A80036; stroke-width: 1.0;\"/><polygon fill=\"#A80036\" points=\"673.47,287.82,673.9298,297.6581,675.7118,292.2893,681.0806,294.0713,673.47,287.82\" style=\"stroke: #A80036; stroke-width: 1.0;\"/><text fill=\"#000000\" font-family=\"sans-serif\" font-size=\"13\" lengthAdjust=\"spacingAndGlyphs\" textLength=\"135\" x=\"687\" y=\"330.5669\">Sig [true]/send s to p</text></a><!--MD5=[c2f47b03b57319b0b1319f4c53fab9a1]\n",
       "@startuml\r\n",
       " \r\n",
       "package \"StateTest\" as E1  [[psysml:a2ca8720-bd4b-4556-9b27-091331149f1f ]]  {\r\n",
       "comp def \"Sig\" as E2  <<(T,blue)attribute def>> [[psysml:9b0c6b07-76e0-48e6-88f4-e6a2c752e8e3 ]] {\r\n",
       "x\r\n",
       "}\r\n",
       "comp def \"Exit\" as E3  <<(T,blue)attribute def>> [[psysml:75ee6cec-68f4-495e-910b-3cf4854ee540 ]] {\r\n",
       "}\r\n",
       "comp usage \"p\" as E4  <<(T,blue)part>> [[psysml:d526add9-9153-4d94-82de-e3d10cc7d584 ]] {\r\n",
       "}\r\n",
       "rec usage \"act\" as E5  <<(T,blue)action>> [[psysml:12bd5d36-0dbf-4715-90c3-b0b875efee55 ]] {\r\n",
       "}\r\n",
       "\r\n",
       "rec def \"S\" as E6  <<(T,blue)state def>> [[psysml:b6aa9f25-72f8-4c2c-a7be-6589070e9bf6 ]] {\r\n",
       "rec usage \"S1\" as E7 [[psysml:1cabaaec-9539-448a-9df0-432fc817479b ]] {\r\n",
       "}\r\n",
       "\r\n",
       "rec usage \"S2\" as E8 [[psysml:7a7b17a9-f595-41dc-990f-a07a1c17ba3c ]] {\r\n",
       "desc \"S2\" as E8  : **do**/ \r\n",
       "}\r\n",
       "\r\n",
       "[*] - -> E7 [[psysml:0b737fa2-1baa-4df5-913b-a090a33456a1 ]] \r\n",
       "E8  - -> [*] [[psysml:a8c9411f-d651-41a0-86c1-118f6cba8c1d ]] : Exit \r\n",
       "desc \"S\" as E6  : **entry**/ A\r\n",
       "desc \"S\" as E6  : **do**/ B\r\n",
       "desc \"S\" as E6  : **exit**/ act \r\n",
       "}\r\n",
       "\r\n",
       "E7  - -> E8 [[psysml:eefcc534-c981-4425-9bf3-38251bd12a49 ]] : Sig /action D\r\n",
       "E8  - -> E7 [[psysml:bcd703ca-2055-4c24-98bc-6c579eb31483 ]] : Sig [true]/send s to p\r\n",
       "}\r\n",
       "@enduml\r\n",
       "\n",
       "PlantUML version 1.2020.13(Sat Jun 13 12:26:38 UTC 2020)\n",
       "(EPL source distribution)\n",
       "Java Runtime: OpenJDK Runtime Environment\n",
       "JVM: OpenJDK 64-Bit Server VM\n",
       "Default Encoding: UTF-8\n",
       "Language: en\n",
       "Country: null\n",
       "--></g></svg>"
      ]
     },
     "execution_count": 2,
     "metadata": {},
     "output_type": "execute_result"
    }
   ],
   "source": [
    "%viz --style=\"COMPTREE\" --view=\"Default\" \"StateTest\""
   ]
  },
  {
   "cell_type": "code",
   "execution_count": 3,
   "id": "checked-paris",
   "metadata": {
    "execution": {
     "iopub.execute_input": "2021-03-25T15:06:52.609226Z",
     "iopub.status.busy": "2021-03-25T15:06:52.608656Z",
     "iopub.status.idle": "2021-03-25T15:06:53.207907Z",
     "shell.execute_reply": "2021-03-25T15:06:53.208292Z"
    }
   },
   "outputs": [
    {
     "data": {
      "image/svg+xml": [
       "<?xml version=\"1.0\" encoding=\"UTF-8\" standalone=\"no\"?><svg xmlns=\"http://www.w3.org/2000/svg\" xmlns:xlink=\"http://www.w3.org/1999/xlink\" contentScriptType=\"application/ecmascript\" contentStyleType=\"text/css\" height=\"471px\" preserveAspectRatio=\"none\" style=\"width:702px;height:471px;\" version=\"1.1\" viewBox=\"0 0 702 471\" width=\"702px\" zoomAndPan=\"magnify\"><defs><filter height=\"300%\" id=\"f3hdumbq4ypq6\" width=\"300%\" x=\"-1\" y=\"-1\"><feGaussianBlur result=\"blurOut\" stdDeviation=\"2.0\"/><feColorMatrix in=\"blurOut\" result=\"blurOut2\" type=\"matrix\" values=\"0 0 0 0 0 0 0 0 0 0 0 0 0 0 0 0 0 0 .4 0\"/><feOffset dx=\"4.0\" dy=\"4.0\" in=\"blurOut2\" result=\"blurOut3\"/><feBlend in=\"SourceGraphic\" in2=\"blurOut3\" mode=\"normal\"/></filter></defs><g><!--MD5=[fbc87193dbaf4d95561dea2c320d4a47]\n",
       "cluster E1--><a href=\"psysml:a2ca8720-bd4b-4556-9b27-091331149f1f\" target=\"_top\" title=\"psysml:a2ca8720-bd4b-4556-9b27-091331149f1f\" xlink:actuate=\"onRequest\" xlink:href=\"psysml:a2ca8720-bd4b-4556-9b27-091331149f1f\" xlink:show=\"new\" xlink:title=\"psysml:a2ca8720-bd4b-4556-9b27-091331149f1f\" xlink:type=\"simple\"><polygon fill=\"#FFFFFF\" filter=\"url(#f3hdumbq4ypq6)\" points=\"16,6,98,6,105,28.2969,680,28.2969,680,459,16,459,16,6\" style=\"stroke: #000000; stroke-width: 1.5;\"/><line style=\"stroke: #000000; stroke-width: 1.5;\" x1=\"16\" x2=\"105\" y1=\"28.2969\" y2=\"28.2969\"/><text fill=\"#000000\" font-family=\"sans-serif\" font-size=\"14\" font-weight=\"bold\" lengthAdjust=\"spacingAndGlyphs\" textLength=\"76\" x=\"20\" y=\"20.9951\">StateTest</text></a><!--MD5=[b4997ac47864f28c2f74865a473b2911]\n",
       "class E2--><a href=\"psysml:9b0c6b07-76e0-48e6-88f4-e6a2c752e8e3\" target=\"_top\" title=\"psysml:9b0c6b07-76e0-48e6-88f4-e6a2c752e8e3\" xlink:actuate=\"onRequest\" xlink:href=\"psysml:9b0c6b07-76e0-48e6-88f4-e6a2c752e8e3\" xlink:show=\"new\" xlink:title=\"psysml:9b0c6b07-76e0-48e6-88f4-e6a2c752e8e3\" xlink:type=\"simple\"><rect fill=\"#FEFECE\" filter=\"url(#f3hdumbq4ypq6)\" height=\"58.7422\" id=\"E2\" style=\"stroke: #A80036; stroke-width: 1.5;\" width=\"121\" x=\"542.5\" y=\"91.5\"/><ellipse cx=\"557.5\" cy=\"110.4688\" fill=\"#0000FF\" rx=\"11\" ry=\"11\" style=\"stroke: #A80036; stroke-width: 1.0;\"/><path d=\"M558.3438,117.2188 L555.8906,117.2188 L555.8906,106.9688 L552.75,106.9688 L552.75,104.8281 L561.4844,104.8281 L561.4844,106.9688 L558.3438,106.9688 L558.3438,117.2188 Z \"/><text fill=\"#000000\" font-family=\"sans-serif\" font-size=\"12\" font-style=\"italic\" lengthAdjust=\"spacingAndGlyphs\" textLength=\"93\" x=\"569.5\" y=\"107.6387\">«attribute def»</text><text fill=\"#000000\" font-family=\"sans-serif\" font-size=\"12\" lengthAdjust=\"spacingAndGlyphs\" textLength=\"19\" x=\"606.5\" y=\"121.6074\">Sig</text><line style=\"stroke: #A80036; stroke-width: 1.5;\" x1=\"543.5\" x2=\"662.5\" y1=\"129.4375\" y2=\"129.4375\"/><text fill=\"#000000\" font-family=\"sans-serif\" font-size=\"11\" lengthAdjust=\"spacingAndGlyphs\" textLength=\"6\" x=\"548.5\" y=\"143.6479\">x</text></a><!--MD5=[09b614a08d8cba4a07c9adeb5e0fee81]\n",
       "class E3--><a href=\"psysml:75ee6cec-68f4-495e-910b-3cf4854ee540\" target=\"_top\" title=\"psysml:75ee6cec-68f4-495e-910b-3cf4854ee540\" xlink:actuate=\"onRequest\" xlink:href=\"psysml:75ee6cec-68f4-495e-910b-3cf4854ee540\" xlink:show=\"new\" xlink:title=\"psysml:75ee6cec-68f4-495e-910b-3cf4854ee540\" xlink:type=\"simple\"><rect fill=\"#FEFECE\" filter=\"url(#f3hdumbq4ypq6)\" height=\"45.9375\" id=\"E3\" style=\"stroke: #A80036; stroke-width: 1.5;\" width=\"121\" x=\"386.5\" y=\"98\"/><ellipse cx=\"401.5\" cy=\"116.9688\" fill=\"#0000FF\" rx=\"11\" ry=\"11\" style=\"stroke: #A80036; stroke-width: 1.0;\"/><path d=\"M402.3438,123.7188 L399.8906,123.7188 L399.8906,113.4688 L396.75,113.4688 L396.75,111.3281 L405.4844,111.3281 L405.4844,113.4688 L402.3438,113.4688 L402.3438,123.7188 Z \"/><text fill=\"#000000\" font-family=\"sans-serif\" font-size=\"12\" font-style=\"italic\" lengthAdjust=\"spacingAndGlyphs\" textLength=\"93\" x=\"413.5\" y=\"114.1387\">«attribute def»</text><text fill=\"#000000\" font-family=\"sans-serif\" font-size=\"12\" lengthAdjust=\"spacingAndGlyphs\" textLength=\"22\" x=\"449\" y=\"128.1074\">Exit</text><line style=\"stroke: #A80036; stroke-width: 1.5;\" x1=\"387.5\" x2=\"506.5\" y1=\"135.9375\" y2=\"135.9375\"/></a><!--MD5=[ebbe1d658d1005bcc118a6aa81145e00]\n",
       "class E4--><a href=\"psysml:d526add9-9153-4d94-82de-e3d10cc7d584\" target=\"_top\" title=\"psysml:d526add9-9153-4d94-82de-e3d10cc7d584\" xlink:actuate=\"onRequest\" xlink:href=\"psysml:d526add9-9153-4d94-82de-e3d10cc7d584\" xlink:show=\"new\" xlink:title=\"psysml:d526add9-9153-4d94-82de-e3d10cc7d584\" xlink:type=\"simple\"><rect fill=\"#FEFECE\" filter=\"url(#f3hdumbq4ypq6)\" height=\"45.9375\" id=\"E4\" rx=\"10\" ry=\"10\" style=\"stroke: #A80036; stroke-width: 1.5;\" width=\"68\" x=\"283\" y=\"98\"/><ellipse cx=\"298\" cy=\"116.9688\" fill=\"#0000FF\" rx=\"11\" ry=\"11\" style=\"stroke: #A80036; stroke-width: 1.0;\"/><path d=\"M298.8438,123.7188 L296.3906,123.7188 L296.3906,113.4688 L293.25,113.4688 L293.25,111.3281 L301.9844,111.3281 L301.9844,113.4688 L298.8438,113.4688 L298.8438,123.7188 Z \"/><text fill=\"#000000\" font-family=\"sans-serif\" font-size=\"12\" font-style=\"italic\" lengthAdjust=\"spacingAndGlyphs\" textLength=\"40\" x=\"310\" y=\"114.1387\">«part»</text><text fill=\"#000000\" font-family=\"sans-serif\" font-size=\"12\" lengthAdjust=\"spacingAndGlyphs\" textLength=\"8\" x=\"326\" y=\"128.1074\">p</text><line style=\"stroke: #A80036; stroke-width: 1.5;\" x1=\"284\" x2=\"350\" y1=\"135.9375\" y2=\"135.9375\"/></a><!--MD5=[270fce915f116d4de14055a7c1d9a0f3]\n",
       "class E5--><a href=\"psysml:12bd5d36-0dbf-4715-90c3-b0b875efee55\" target=\"_top\" title=\"psysml:12bd5d36-0dbf-4715-90c3-b0b875efee55\" xlink:actuate=\"onRequest\" xlink:href=\"psysml:12bd5d36-0dbf-4715-90c3-b0b875efee55\" xlink:show=\"new\" xlink:title=\"psysml:12bd5d36-0dbf-4715-90c3-b0b875efee55\" xlink:type=\"simple\"><rect fill=\"#FEFECE\" filter=\"url(#f3hdumbq4ypq6)\" height=\"45.9375\" id=\"E5\" rx=\"10\" ry=\"10\" style=\"stroke: #A80036; stroke-width: 1.5;\" width=\"81\" x=\"166.5\" y=\"98\"/><ellipse cx=\"181.5\" cy=\"116.9688\" fill=\"#0000FF\" rx=\"11\" ry=\"11\" style=\"stroke: #A80036; stroke-width: 1.0;\"/><path d=\"M182.3438,123.7188 L179.8906,123.7188 L179.8906,113.4688 L176.75,113.4688 L176.75,111.3281 L185.4844,111.3281 L185.4844,113.4688 L182.3438,113.4688 L182.3438,123.7188 Z \"/><text fill=\"#000000\" font-family=\"sans-serif\" font-size=\"12\" font-style=\"italic\" lengthAdjust=\"spacingAndGlyphs\" textLength=\"53\" x=\"193.5\" y=\"114.1387\">«action»</text><text fill=\"#000000\" font-family=\"sans-serif\" font-size=\"12\" lengthAdjust=\"spacingAndGlyphs\" textLength=\"20\" x=\"210\" y=\"128.1074\">act</text><line style=\"stroke: #A80036; stroke-width: 1.5;\" x1=\"167.5\" x2=\"246.5\" y1=\"135.9375\" y2=\"135.9375\"/></a><!--MD5=[60a26617385b1d2d0262a64233df1f8d]\n",
       "class E6--><a href=\"psysml:b6aa9f25-72f8-4c2c-a7be-6589070e9bf6\" target=\"_top\" title=\"psysml:b6aa9f25-72f8-4c2c-a7be-6589070e9bf6\" xlink:actuate=\"onRequest\" xlink:href=\"psysml:b6aa9f25-72f8-4c2c-a7be-6589070e9bf6\" xlink:show=\"new\" xlink:title=\"psysml:b6aa9f25-72f8-4c2c-a7be-6589070e9bf6\" xlink:type=\"simple\"><rect fill=\"#FEFECE\" filter=\"url(#f3hdumbq4ypq6)\" height=\"160.375\" id=\"E6\" style=\"stroke: #A80036; stroke-width: 1.5;\" width=\"99\" x=\"32.5\" y=\"41\"/><ellipse cx=\"47.5\" cy=\"59.9688\" fill=\"#0000FF\" rx=\"11\" ry=\"11\" style=\"stroke: #A80036; stroke-width: 1.0;\"/><path d=\"M48.3438,66.7188 L45.8906,66.7188 L45.8906,56.4688 L42.75,56.4688 L42.75,54.3281 L51.4844,54.3281 L51.4844,56.4688 L48.3438,56.4688 L48.3438,66.7188 Z \"/><text fill=\"#000000\" font-family=\"sans-serif\" font-size=\"12\" font-style=\"italic\" lengthAdjust=\"spacingAndGlyphs\" textLength=\"71\" x=\"59.5\" y=\"57.1387\">«state def»</text><text fill=\"#000000\" font-family=\"sans-serif\" font-size=\"12\" lengthAdjust=\"spacingAndGlyphs\" textLength=\"8\" x=\"91\" y=\"71.1074\">S</text><line style=\"stroke: #A80036; stroke-width: 1.5;\" x1=\"33.5\" x2=\"130.5\" y1=\"78.9375\" y2=\"78.9375\"/><text fill=\"#000000\" font-family=\"sans-serif\" font-size=\"11\" lengthAdjust=\"spacingAndGlyphs\" textLength=\"17\" x=\"38.5\" y=\"109.9526\">act</text><text fill=\"#000000\" font-family=\"sans-serif\" font-size=\"11\" lengthAdjust=\"spacingAndGlyphs\" textLength=\"7\" x=\"38.5\" y=\"122.7573\">A</text><text fill=\"#000000\" font-family=\"sans-serif\" font-size=\"11\" lengthAdjust=\"spacingAndGlyphs\" textLength=\"8\" x=\"38.5\" y=\"135.562\">B</text><line style=\"stroke: #A80036; stroke-width: 1.0;\" x1=\"33.5\" x2=\"38.5\" y1=\"93.3398\" y2=\"93.3398\"/><text fill=\"#000000\" font-family=\"sans-serif\" font-size=\"11\" lengthAdjust=\"spacingAndGlyphs\" textLength=\"87\" x=\"38.5\" y=\"96.6479\">performActions</text><line style=\"stroke: #A80036; stroke-width: 1.0;\" x1=\"125.5\" x2=\"130.5\" y1=\"93.3398\" y2=\"93.3398\"/><text fill=\"#000000\" font-family=\"sans-serif\" font-size=\"11\" lengthAdjust=\"spacingAndGlyphs\" textLength=\"15\" x=\"38.5\" y=\"165.1714\">S1</text><line style=\"stroke: #A80036; stroke-width: 1.0;\" x1=\"33.5\" x2=\"64\" y1=\"148.5586\" y2=\"148.5586\"/><text fill=\"#000000\" font-family=\"sans-serif\" font-size=\"11\" lengthAdjust=\"spacingAndGlyphs\" textLength=\"36\" x=\"64\" y=\"151.8667\">states</text><line style=\"stroke: #A80036; stroke-width: 1.0;\" x1=\"100\" x2=\"130.5\" y1=\"148.5586\" y2=\"148.5586\"/><text fill=\"#000000\" font-family=\"sans-serif\" font-size=\"11\" lengthAdjust=\"spacingAndGlyphs\" textLength=\"7\" x=\"38.5\" y=\"194.7808\">T</text><line style=\"stroke: #A80036; stroke-width: 1.0;\" x1=\"33.5\" x2=\"51.5\" y1=\"178.168\" y2=\"178.168\"/><text fill=\"#000000\" font-family=\"sans-serif\" font-size=\"11\" lengthAdjust=\"spacingAndGlyphs\" textLength=\"61\" x=\"51.5\" y=\"181.4761\">transitions</text><line style=\"stroke: #A80036; stroke-width: 1.0;\" x1=\"112.5\" x2=\"130.5\" y1=\"178.168\" y2=\"178.168\"/></a><!--MD5=[1dd1bfd58a279cf63c5f349dbc8fc6a1]\n",
       "class E11--><a href=\"psysml:7a7b17a9-f595-41dc-990f-a07a1c17ba3c\" target=\"_top\" title=\"psysml:7a7b17a9-f595-41dc-990f-a07a1c17ba3c\" xlink:actuate=\"onRequest\" xlink:href=\"psysml:7a7b17a9-f595-41dc-990f-a07a1c17ba3c\" xlink:show=\"new\" xlink:title=\"psysml:7a7b17a9-f595-41dc-990f-a07a1c17ba3c\" xlink:type=\"simple\"><rect fill=\"#FEFECE\" filter=\"url(#f3hdumbq4ypq6)\" height=\"45.9375\" id=\"E11\" rx=\"10\" ry=\"10\" style=\"stroke: #A80036; stroke-width: 1.5;\" width=\"75\" x=\"48.5\" y=\"261\"/><ellipse cx=\"63.5\" cy=\"279.9688\" fill=\"#0000FF\" rx=\"11\" ry=\"11\" style=\"stroke: #A80036; stroke-width: 1.0;\"/><path d=\"M64.3438,286.7188 L61.8906,286.7188 L61.8906,276.4688 L58.75,276.4688 L58.75,274.3281 L67.4844,274.3281 L67.4844,276.4688 L64.3438,276.4688 L64.3438,286.7188 Z \"/><text fill=\"#000000\" font-family=\"sans-serif\" font-size=\"12\" font-style=\"italic\" lengthAdjust=\"spacingAndGlyphs\" textLength=\"47\" x=\"75.5\" y=\"277.1387\">«state»</text><text fill=\"#000000\" font-family=\"sans-serif\" font-size=\"12\" lengthAdjust=\"spacingAndGlyphs\" textLength=\"16\" x=\"91\" y=\"291.1074\">S2</text><line style=\"stroke: #A80036; stroke-width: 1.5;\" x1=\"49.5\" x2=\"122.5\" y1=\"298.9375\" y2=\"298.9375\"/></a><!--MD5=[49a0ec8f00dab7302a31f22d0f0fe584]\n",
       "class E12--><a href=\"psysml:fce0e4a1-8edc-4c38-93d6-a3b5e3670b25\" target=\"_top\" title=\"psysml:fce0e4a1-8edc-4c38-93d6-a3b5e3670b25\" xlink:actuate=\"onRequest\" xlink:href=\"psysml:fce0e4a1-8edc-4c38-93d6-a3b5e3670b25\" xlink:show=\"new\" xlink:title=\"psysml:fce0e4a1-8edc-4c38-93d6-a3b5e3670b25\" xlink:type=\"simple\"><rect fill=\"#FEFECE\" filter=\"url(#f3hdumbq4ypq6)\" height=\"75.5469\" id=\"E12\" rx=\"10\" ry=\"10\" style=\"stroke: #A80036; stroke-width: 1.5;\" width=\"116\" x=\"32\" y=\"367\"/><ellipse cx=\"47\" cy=\"385.9688\" fill=\"#B6DBBB\" rx=\"11\" ry=\"11\" style=\"stroke: #A80036; stroke-width: 1.0;\"/><path d=\"M42.875,387.8906 L42.875,380.0781 L45.3281,380.0781 L45.3281,388.5156 Q45.3281,389.4375 45.7969,389.9688 Q46.2813,390.5 47.1094,390.5 Q47.9531,390.5 48.4219,389.9688 Q48.8906,389.4375 48.8906,388.5156 L48.8906,380.0781 L51.3438,380.0781 L51.3438,387.8906 Q51.3438,390.4219 50.3438,391.5625 Q49.3438,392.7031 47.1094,392.7031 Q44.8906,392.7031 43.875,391.5625 Q42.875,390.4219 42.875,387.8906 Z \"/><text fill=\"#000000\" font-family=\"sans-serif\" font-size=\"12\" font-style=\"italic\" lengthAdjust=\"spacingAndGlyphs\" textLength=\"88\" x=\"59\" y=\"383.1387\">«send action»</text><text fill=\"#000000\" font-family=\"sans-serif\" font-size=\"12\" lengthAdjust=\"spacingAndGlyphs\" textLength=\"55\" x=\"75.5\" y=\"397.1074\">doAction</text><line style=\"stroke: #A80036; stroke-width: 1.5;\" x1=\"33\" x2=\"147\" y1=\"404.9375\" y2=\"404.9375\"/><text fill=\"#000000\" font-family=\"sans-serif\" font-size=\"11\" lengthAdjust=\"spacingAndGlyphs\" textLength=\"25\" x=\"38\" y=\"435.9526\">item</text><line style=\"stroke: #A80036; stroke-width: 1.0;\" x1=\"33\" x2=\"52.5\" y1=\"419.3398\" y2=\"419.3398\"/><text fill=\"#000000\" font-family=\"sans-serif\" font-size=\"11\" lengthAdjust=\"spacingAndGlyphs\" textLength=\"75\" x=\"52.5\" y=\"422.6479\">itemFeatures</text><line style=\"stroke: #A80036; stroke-width: 1.0;\" x1=\"127.5\" x2=\"147\" y1=\"419.3398\" y2=\"419.3398\"/></a><!--MD5=[1f5f03483f7de0d5b3680a7f6650997f]\n",
       "reverse link E6 to E11--><a href=\"psysml:7a7b17a9-f595-41dc-990f-a07a1c17ba3c\" target=\"_top\" title=\"psysml:7a7b17a9-f595-41dc-990f-a07a1c17ba3c\" xlink:actuate=\"onRequest\" xlink:href=\"psysml:7a7b17a9-f595-41dc-990f-a07a1c17ba3c\" xlink:show=\"new\" xlink:title=\"psysml:7a7b17a9-f595-41dc-990f-a07a1c17ba3c\" xlink:type=\"simple\"><path d=\"M84.29,214.17 C84.72,231.58 85.14,248.25 85.45,260.82 \" fill=\"none\" id=\"E6&lt;-E11\" style=\"stroke: #A80036; stroke-width: 1.0;\"/><polygon fill=\"#A80036\" points=\"83.96,201.09,80.1062,207.1849,84.25,213.0865,88.1038,206.9916,83.96,201.09\" style=\"stroke: #A80036; stroke-width: 1.0;\"/></a><!--MD5=[94adabc162ce7e41b39f13be14fbaeb3]\n",
       "reverse link E11 to E12--><a href=\"psysml:fce0e4a1-8edc-4c38-93d6-a3b5e3670b25\" target=\"_top\" title=\"psysml:fce0e4a1-8edc-4c38-93d6-a3b5e3670b25\" xlink:actuate=\"onRequest\" xlink:href=\"psysml:fce0e4a1-8edc-4c38-93d6-a3b5e3670b25\" xlink:show=\"new\" xlink:title=\"psysml:fce0e4a1-8edc-4c38-93d6-a3b5e3670b25\" xlink:type=\"simple\"><path d=\"M87.18,320.23 C87.67,334.82 88.24,351.76 88.74,366.58 \" fill=\"none\" id=\"E11&lt;-E12\" style=\"stroke: #A80036; stroke-width: 1.0;\"/><polygon fill=\"#FFFFFF\" points=\"86.74,307.1,82.9466,313.2327,87.1486,319.093,90.942,312.9603,86.74,307.1\" style=\"stroke: #A80036; stroke-width: 1.0;\"/></a><!--MD5=[7d6b1c3d51c27c06d323be043beda713]\n",
       "@startuml\r\n",
       " \r\n",
       "package \"StateTest\" as E1  [[psysml:a2ca8720-bd4b-4556-9b27-091331149f1f ]]  {\r\n",
       "comp def \"Sig\" as E2  <<(T,blue)attribute def>> [[psysml:9b0c6b07-76e0-48e6-88f4-e6a2c752e8e3 ]] {\r\n",
       "x\r\n",
       "}\r\n",
       "comp def \"Exit\" as E3  <<(T,blue)attribute def>> [[psysml:75ee6cec-68f4-495e-910b-3cf4854ee540 ]] {\r\n",
       "}\r\n",
       "comp usage \"p\" as E4  <<(T,blue)part>> [[psysml:d526add9-9153-4d94-82de-e3d10cc7d584 ]] {\r\n",
       "}\r\n",
       "comp usage \"act\" as E5  <<(T,blue)action>> [[psysml:12bd5d36-0dbf-4715-90c3-b0b875efee55 ]] {\r\n",
       "}\r\n",
       "comp def \"S\" as E6  <<(T,blue)state def>> [[psysml:b6aa9f25-72f8-4c2c-a7be-6589070e9bf6 ]] {\r\n",
       "- - performActions - -\r\n",
       "act\r\n",
       "A\r\n",
       "B\r\n",
       "- - states - -\r\n",
       "S1\r\n",
       "- - transitions - -\r\n",
       "T\r\n",
       "}\r\n",
       "comp usage \"S2\" as E11  <<(T,blue)state>> [[psysml:7a7b17a9-f595-41dc-990f-a07a1c17ba3c ]] {\r\n",
       "}\r\n",
       "comp usage \"doAction\" as E12 <<send action>> [[psysml:fce0e4a1-8edc-4c38-93d6-a3b5e3670b25 ]] {\r\n",
       "- - itemFeatures - -\r\n",
       "item\r\n",
       "}\r\n",
       "E6 *- - E11 [[psysml:7a7b17a9-f595-41dc-990f-a07a1c17ba3c ]] \r\n",
       "E11 o- - E12 [[psysml:fce0e4a1-8edc-4c38-93d6-a3b5e3670b25 ]] \r\n",
       "}\r\n",
       "@enduml\r\n",
       "\n",
       "PlantUML version 1.2020.13(Sat Jun 13 12:26:38 UTC 2020)\n",
       "(EPL source distribution)\n",
       "Java Runtime: OpenJDK Runtime Environment\n",
       "JVM: OpenJDK 64-Bit Server VM\n",
       "Default Encoding: UTF-8\n",
       "Language: en\n",
       "Country: null\n",
       "--></g></svg>"
      ]
     },
     "execution_count": 3,
     "metadata": {},
     "output_type": "execute_result"
    }
   ],
   "source": [
    "%viz --style=\"COMPTREE\" --view=\"Tree\" \"StateTest\""
   ]
  },
  {
   "cell_type": "code",
   "execution_count": 4,
   "id": "seventh-ballot",
   "metadata": {
    "execution": {
     "iopub.execute_input": "2021-03-25T15:06:53.263921Z",
     "iopub.status.busy": "2021-03-25T15:06:53.261911Z",
     "iopub.status.idle": "2021-03-25T15:06:53.410114Z",
     "shell.execute_reply": "2021-03-25T15:06:53.408791Z"
    }
   },
   "outputs": [
    {
     "data": {
      "image/svg+xml": [
       "<?xml version=\"1.0\" encoding=\"UTF-8\" standalone=\"no\"?><svg xmlns=\"http://www.w3.org/2000/svg\" xmlns:xlink=\"http://www.w3.org/1999/xlink\" contentScriptType=\"application/ecmascript\" contentStyleType=\"text/css\" height=\"491px\" preserveAspectRatio=\"none\" style=\"width:353px;height:491px;\" version=\"1.1\" viewBox=\"0 0 353 491\" width=\"353px\" zoomAndPan=\"magnify\"><defs><filter height=\"300%\" id=\"f1simne11ja3f1\" width=\"300%\" x=\"-1\" y=\"-1\"><feGaussianBlur result=\"blurOut\" stdDeviation=\"2.0\"/><feColorMatrix in=\"blurOut\" result=\"blurOut2\" type=\"matrix\" values=\"0 0 0 0 0 0 0 0 0 0 0 0 0 0 0 0 0 0 .4 0\"/><feOffset dx=\"4.0\" dy=\"4.0\" in=\"blurOut2\" result=\"blurOut3\"/><feBlend in=\"SourceGraphic\" in2=\"blurOut3\" mode=\"normal\"/></filter></defs><g><!--MD5=[fbc87193dbaf4d95561dea2c320d4a47]\n",
       "cluster E1--><a href=\"psysml:b6aa9f25-72f8-4c2c-a7be-6589070e9bf6\" target=\"_top\" title=\"psysml:b6aa9f25-72f8-4c2c-a7be-6589070e9bf6\" xlink:actuate=\"onRequest\" xlink:href=\"psysml:b6aa9f25-72f8-4c2c-a7be-6589070e9bf6\" xlink:show=\"new\" xlink:title=\"psysml:b6aa9f25-72f8-4c2c-a7be-6589070e9bf6\" xlink:type=\"simple\"><rect fill=\"#FFFFFF\" filter=\"url(#f1simne11ja3f1)\" height=\"465\" id=\"E1\" style=\"stroke: #A80036; stroke-width: 1.5;\" width=\"327\" x=\"7\" y=\"7\"/><rect fill=\"#FEFECE\" height=\"37.9375\" style=\"stroke: #A80036; stroke-width: 1.5;\" width=\"327\" x=\"7\" y=\"7\"/><text fill=\"#000000\" font-family=\"sans-serif\" font-size=\"12\" font-style=\"italic\" lengthAdjust=\"spacingAndGlyphs\" textLength=\"71\" x=\"135\" y=\"23.1387\">«state def»</text><text fill=\"#000000\" font-family=\"sans-serif\" font-size=\"12\" lengthAdjust=\"spacingAndGlyphs\" textLength=\"8\" x=\"166.5\" y=\"37.1074\">S</text><line style=\"stroke: #A80036; stroke-width: 1.0;\" x1=\"7\" x2=\"334\" y1=\"90.8438\" y2=\"90.8438\"/><text fill=\"#000000\" font-family=\"sans-serif\" font-size=\"12\" font-weight=\"bold\" lengthAdjust=\"spacingAndGlyphs\" textLength=\"38\" x=\"12\" y=\"58.0762\">entry</text><text fill=\"#000000\" font-family=\"sans-serif\" font-size=\"12\" lengthAdjust=\"spacingAndGlyphs\" textLength=\"16\" x=\"50\" y=\"58.0762\">/ A</text><text fill=\"#000000\" font-family=\"sans-serif\" font-size=\"12\" font-weight=\"bold\" lengthAdjust=\"spacingAndGlyphs\" textLength=\"18\" x=\"12\" y=\"72.0449\">do</text><text fill=\"#000000\" font-family=\"sans-serif\" font-size=\"12\" lengthAdjust=\"spacingAndGlyphs\" textLength=\"16\" x=\"30\" y=\"72.0449\">/ B</text><text fill=\"#000000\" font-family=\"sans-serif\" font-size=\"12\" font-weight=\"bold\" lengthAdjust=\"spacingAndGlyphs\" textLength=\"26\" x=\"12\" y=\"86.0137\">exit</text><text fill=\"#000000\" font-family=\"sans-serif\" font-size=\"12\" lengthAdjust=\"spacingAndGlyphs\" textLength=\"28\" x=\"38\" y=\"86.0137\">/ act</text></a><ellipse cx=\"119\" cy=\"115\" fill=\"#000000\" filter=\"url(#f1simne11ja3f1)\" rx=\"10\" ry=\"10\" style=\"stroke: none; stroke-width: 1.0;\"/><ellipse cx=\"119\" cy=\"446\" fill=\"none\" filter=\"url(#f1simne11ja3f1)\" rx=\"10\" ry=\"10\" style=\"stroke: #000000; stroke-width: 1.0;\"/><ellipse cx=\"119.5\" cy=\"446.5\" fill=\"#000000\" rx=\"6\" ry=\"6\" style=\"stroke: none; stroke-width: 1.0;\"/><g id=\"E1.E2\"><a href=\"psysml:1cabaaec-9539-448a-9df0-432fc817479b\" target=\"_top\" title=\"psysml:1cabaaec-9539-448a-9df0-432fc817479b\" xlink:actuate=\"onRequest\" xlink:href=\"psysml:1cabaaec-9539-448a-9df0-432fc817479b\" xlink:show=\"new\" xlink:title=\"psysml:1cabaaec-9539-448a-9df0-432fc817479b\" xlink:type=\"simple\"><rect fill=\"#FEFECE\" filter=\"url(#f1simne11ja3f1)\" height=\"40\" id=\"E2\" rx=\"10\" ry=\"10\" style=\"stroke: #A80036; stroke-width: 1.5;\" width=\"53\" x=\"92.5\" y=\"186\"/><ellipse cx=\"109.75\" cy=\"202\" fill=\"#B6DBBB\" rx=\"11\" ry=\"11\" style=\"stroke: #A80036; stroke-width: 1.0;\"/><path d=\"M105.625,203.9219 L105.625,196.1094 L108.0781,196.1094 L108.0781,204.5469 Q108.0781,205.4688 108.5469,206 Q109.0313,206.5313 109.8594,206.5313 Q110.7031,206.5313 111.1719,206 Q111.6406,205.4688 111.6406,204.5469 L111.6406,196.1094 L114.0938,196.1094 L114.0938,203.9219 Q114.0938,206.4531 113.0938,207.5938 Q112.0938,208.7344 109.8594,208.7344 Q107.6406,208.7344 106.625,207.5938 Q105.625,206.4531 105.625,203.9219 Z \"/><text fill=\"#000000\" font-family=\"sans-serif\" font-size=\"12\" lengthAdjust=\"spacingAndGlyphs\" textLength=\"16\" x=\"124.25\" y=\"206.1543\">S1</text></a></g><g id=\"E1.E3\"><a href=\"psysml:7a7b17a9-f595-41dc-990f-a07a1c17ba3c\" target=\"_top\" title=\"psysml:7a7b17a9-f595-41dc-990f-a07a1c17ba3c\" xlink:actuate=\"onRequest\" xlink:href=\"psysml:7a7b17a9-f595-41dc-990f-a07a1c17ba3c\" xlink:show=\"new\" xlink:title=\"psysml:7a7b17a9-f595-41dc-990f-a07a1c17ba3c\" xlink:type=\"simple\"><rect fill=\"#FEFECE\" filter=\"url(#f1simne11ja3f1)\" height=\"55.9688\" id=\"E3\" rx=\"10\" ry=\"10\" style=\"stroke: #A80036; stroke-width: 1.5;\" width=\"58\" x=\"90\" y=\"303\"/><ellipse cx=\"109.5\" cy=\"319\" fill=\"#B6DBBB\" rx=\"11\" ry=\"11\" style=\"stroke: #A80036; stroke-width: 1.0;\"/><path d=\"M105.375,320.9219 L105.375,313.1094 L107.8281,313.1094 L107.8281,321.5469 Q107.8281,322.4688 108.2969,323 Q108.7813,323.5313 109.6094,323.5313 Q110.4531,323.5313 110.9219,323 Q111.3906,322.4688 111.3906,321.5469 L111.3906,313.1094 L113.8438,313.1094 L113.8438,320.9219 Q113.8438,323.4531 112.8438,324.5938 Q111.8438,325.7344 109.6094,325.7344 Q107.3906,325.7344 106.375,324.5938 Q105.375,323.4531 105.375,320.9219 Z \"/><text fill=\"#000000\" font-family=\"sans-serif\" font-size=\"12\" lengthAdjust=\"spacingAndGlyphs\" textLength=\"16\" x=\"124.5\" y=\"323.1543\">S2</text><line style=\"stroke: #A80036; stroke-width: 1.0;\" x1=\"90\" x2=\"148\" y1=\"335\" y2=\"335\"/><text fill=\"#000000\" font-family=\"sans-serif\" font-size=\"12\" font-weight=\"bold\" lengthAdjust=\"spacingAndGlyphs\" textLength=\"18\" x=\"95\" y=\"348.1387\">do</text><text fill=\"#000000\" font-family=\"sans-serif\" font-size=\"12\" lengthAdjust=\"spacingAndGlyphs\" textLength=\"4\" x=\"113\" y=\"348.1387\">/</text></a></g><!--MD5=[cff944eb183b832d446717a4e202d613]\n",
       "link *start*E1 to E2--><a href=\"psysml:0b737fa2-1baa-4df5-913b-a090a33456a1\" target=\"_top\" title=\"psysml:0b737fa2-1baa-4df5-913b-a090a33456a1\" xlink:actuate=\"onRequest\" xlink:href=\"psysml:0b737fa2-1baa-4df5-913b-a090a33456a1\" xlink:show=\"new\" xlink:title=\"psysml:0b737fa2-1baa-4df5-913b-a090a33456a1\" xlink:type=\"simple\"><path d=\"M119,125.19 C119,138.18 119,162.38 119,180.73 \" fill=\"none\" id=\"*start*E1-&gt;E2\" style=\"stroke: #A80036; stroke-width: 1.0;\"/><polygon fill=\"#A80036\" points=\"119,185.74,123,176.74,119,180.74,115,176.74,119,185.74\" style=\"stroke: #A80036; stroke-width: 1.0;\"/></a><!--MD5=[9ee7afa76ca8c509b3d216624c3a9893]\n",
       "link E3 to *end*E1--><a href=\"psysml:a8c9411f-d651-41a0-86c1-118f6cba8c1d\" target=\"_top\" title=\"psysml:a8c9411f-d651-41a0-86c1-118f6cba8c1d\" xlink:actuate=\"onRequest\" xlink:href=\"psysml:a8c9411f-d651-41a0-86c1-118f6cba8c1d\" xlink:show=\"new\" xlink:title=\"psysml:a8c9411f-d651-41a0-86c1-118f6cba8c1d\" xlink:type=\"simple\"><path d=\"M119,359.07 C119,381.55 119,412.67 119,430.63 \" fill=\"none\" id=\"E3-&gt;*end*E1\" style=\"stroke: #A80036; stroke-width: 1.0;\"/><polygon fill=\"#A80036\" points=\"119,435.76,123,426.76,119,430.76,115,426.76,119,435.76\" style=\"stroke: #A80036; stroke-width: 1.0;\"/><text fill=\"#000000\" font-family=\"sans-serif\" font-size=\"13\" lengthAdjust=\"spacingAndGlyphs\" textLength=\"23\" x=\"120\" y=\"402.0669\">Exit</text></a><!--MD5=[2720a5a1f2c3fca2055b230370638851]\n",
       "link E2 to E3--><a href=\"psysml:eefcc534-c981-4425-9bf3-38251bd12a49\" target=\"_top\" title=\"psysml:eefcc534-c981-4425-9bf3-38251bd12a49\" xlink:actuate=\"onRequest\" xlink:href=\"psysml:eefcc534-c981-4425-9bf3-38251bd12a49\" xlink:show=\"new\" xlink:title=\"psysml:eefcc534-c981-4425-9bf3-38251bd12a49\" xlink:type=\"simple\"><path d=\"M92.25,219.17 C70.47,230.99 44.88,250.43 55,273 C61.51,287.51 73.74,299.85 85.79,309.29 \" fill=\"none\" id=\"E2-&gt;E3\" style=\"stroke: #A80036; stroke-width: 1.0;\"/><polygon fill=\"#A80036\" points=\"89.86,312.38,85.0945,303.7609,85.872,309.364,80.2689,310.1416,89.86,312.38\" style=\"stroke: #A80036; stroke-width: 1.0;\"/><text fill=\"#000000\" font-family=\"sans-serif\" font-size=\"13\" lengthAdjust=\"spacingAndGlyphs\" textLength=\"81\" x=\"56\" y=\"269.0669\">Sig /action D</text></a><!--MD5=[05d275557350bfb9b23a4ef7222b4c39]\n",
       "link E3 to E2--><a href=\"psysml:bcd703ca-2055-4c24-98bc-6c579eb31483\" target=\"_top\" title=\"psysml:bcd703ca-2055-4c24-98bc-6c579eb31483\" xlink:actuate=\"onRequest\" xlink:href=\"psysml:bcd703ca-2055-4c24-98bc-6c579eb31483\" xlink:show=\"new\" xlink:title=\"psysml:bcd703ca-2055-4c24-98bc-6c579eb31483\" xlink:type=\"simple\"><path d=\"M134.55,302.88 C140.68,289 145.51,271.76 142,256 C140.1,247.49 136.56,238.72 132.82,230.99 \" fill=\"none\" id=\"E3-&gt;E2\" style=\"stroke: #A80036; stroke-width: 1.0;\"/><polygon fill=\"#A80036\" points=\"130.47,226.32,130.9298,236.1581,132.7118,230.7893,138.0806,232.5713,130.47,226.32\" style=\"stroke: #A80036; stroke-width: 1.0;\"/><text fill=\"#000000\" font-family=\"sans-serif\" font-size=\"13\" lengthAdjust=\"spacingAndGlyphs\" textLength=\"135\" x=\"144\" y=\"269.0669\">Sig [true]/send s to p</text></a><!--MD5=[f7f6a1faeba2c26133c748ae38298618]\n",
       "@startuml\r\n",
       " \r\n",
       "rec def \"S\" as E1  <<(T,blue)state def>> [[psysml:b6aa9f25-72f8-4c2c-a7be-6589070e9bf6 ]] {\r\n",
       "rec usage \"S1\" as E2 [[psysml:1cabaaec-9539-448a-9df0-432fc817479b ]] {\r\n",
       "}\r\n",
       "\r\n",
       "rec usage \"S2\" as E3 [[psysml:7a7b17a9-f595-41dc-990f-a07a1c17ba3c ]] {\r\n",
       "desc \"S2\" as E3  : **do**/ \r\n",
       "}\r\n",
       "\r\n",
       "[*] - -> E2 [[psysml:0b737fa2-1baa-4df5-913b-a090a33456a1 ]] \r\n",
       "E3  - -> [*] [[psysml:a8c9411f-d651-41a0-86c1-118f6cba8c1d ]] : Exit \r\n",
       "desc \"S\" as E1  : **entry**/ A\r\n",
       "desc \"S\" as E1  : **do**/ B\r\n",
       "desc \"S\" as E1  : **exit**/ act \r\n",
       "}\r\n",
       "\r\n",
       "E2  - -> E3 [[psysml:eefcc534-c981-4425-9bf3-38251bd12a49 ]] : Sig /action D\r\n",
       "E3  - -> E2 [[psysml:bcd703ca-2055-4c24-98bc-6c579eb31483 ]] : Sig [true]/send s to p\r\n",
       "@enduml\r\n",
       "\n",
       "PlantUML version 1.2020.13(Sat Jun 13 12:26:38 UTC 2020)\n",
       "(EPL source distribution)\n",
       "Java Runtime: OpenJDK Runtime Environment\n",
       "JVM: OpenJDK 64-Bit Server VM\n",
       "Default Encoding: UTF-8\n",
       "Language: en\n",
       "Country: null\n",
       "--></g></svg>"
      ]
     },
     "execution_count": 4,
     "metadata": {},
     "output_type": "execute_result"
    }
   ],
   "source": [
    "%viz --style=\"COMPTREE\" --view=\"State\" \"StateTest\""
   ]
  },
  {
   "cell_type": "code",
   "execution_count": 5,
   "id": "internal-pizza",
   "metadata": {
    "execution": {
     "iopub.execute_input": "2021-03-25T15:06:53.463308Z",
     "iopub.status.busy": "2021-03-25T15:06:53.462310Z",
     "iopub.status.idle": "2021-03-25T15:06:53.549761Z",
     "shell.execute_reply": "2021-03-25T15:06:53.550125Z"
    }
   },
   "outputs": [
    {
     "data": {
      "image/svg+xml": [
       "<?xml version=\"1.0\" encoding=\"UTF-8\" standalone=\"no\"?><svg xmlns=\"http://www.w3.org/2000/svg\" xmlns:xlink=\"http://www.w3.org/1999/xlink\" contentScriptType=\"application/ecmascript\" contentStyleType=\"text/css\" height=\"123px\" preserveAspectRatio=\"none\" style=\"width:831px;height:123px;\" version=\"1.1\" viewBox=\"0 0 831 123\" width=\"831px\" zoomAndPan=\"magnify\"><defs><filter height=\"300%\" id=\"f2ac1eamlwgx6\" width=\"300%\" x=\"-1\" y=\"-1\"><feGaussianBlur result=\"blurOut\" stdDeviation=\"2.0\"/><feColorMatrix in=\"blurOut\" result=\"blurOut2\" type=\"matrix\" values=\"0 0 0 0 0 0 0 0 0 0 0 0 0 0 0 0 0 0 .4 0\"/><feOffset dx=\"4.0\" dy=\"4.0\" in=\"blurOut2\" result=\"blurOut3\"/><feBlend in=\"SourceGraphic\" in2=\"blurOut3\" mode=\"normal\"/></filter></defs><g><!--MD5=[fbc87193dbaf4d95561dea2c320d4a47]\n",
       "cluster E1--><a href=\"psysml:a2ca8720-bd4b-4556-9b27-091331149f1f\" target=\"_top\" title=\"psysml:a2ca8720-bd4b-4556-9b27-091331149f1f\" xlink:actuate=\"onRequest\" xlink:href=\"psysml:a2ca8720-bd4b-4556-9b27-091331149f1f\" xlink:show=\"new\" xlink:title=\"psysml:a2ca8720-bd4b-4556-9b27-091331149f1f\" xlink:type=\"simple\"><polygon fill=\"#FFFFFF\" filter=\"url(#f2ac1eamlwgx6)\" points=\"16,6,98,6,105,28.2969,809,28.2969,809,111,16,111,16,6\" style=\"stroke: #000000; stroke-width: 1.5;\"/><line style=\"stroke: #000000; stroke-width: 1.5;\" x1=\"16\" x2=\"105\" y1=\"28.2969\" y2=\"28.2969\"/><text fill=\"#000000\" font-family=\"sans-serif\" font-size=\"14\" font-weight=\"bold\" lengthAdjust=\"spacingAndGlyphs\" textLength=\"76\" x=\"20\" y=\"20.9951\">StateTest</text></a><!--MD5=[b4997ac47864f28c2f74865a473b2911]\n",
       "class E2--><a href=\"psysml:9b0c6b07-76e0-48e6-88f4-e6a2c752e8e3\" target=\"_top\" title=\"psysml:9b0c6b07-76e0-48e6-88f4-e6a2c752e8e3\" xlink:actuate=\"onRequest\" xlink:href=\"psysml:9b0c6b07-76e0-48e6-88f4-e6a2c752e8e3\" xlink:show=\"new\" xlink:title=\"psysml:9b0c6b07-76e0-48e6-88f4-e6a2c752e8e3\" xlink:type=\"simple\"><rect fill=\"#FEFECE\" filter=\"url(#f2ac1eamlwgx6)\" height=\"53.9375\" id=\"E2\" style=\"stroke: #A80036; stroke-width: 1.5;\" width=\"169\" x=\"624.5\" y=\"41\"/><ellipse cx=\"639.5\" cy=\"59.9688\" fill=\"#ADD1B2\" rx=\"11\" ry=\"11\" style=\"stroke: #A80036; stroke-width: 1.0;\"/><path d=\"M642.4688,65.6094 Q641.8906,65.9063 641.25,66.0469 Q640.6094,66.2031 639.9063,66.2031 Q637.4063,66.2031 636.0781,64.5625 Q634.7656,62.9063 634.7656,59.7813 Q634.7656,56.6563 636.0781,55 Q637.4063,53.3438 639.9063,53.3438 Q640.6094,53.3438 641.25,53.5 Q641.9063,53.6563 642.4688,53.9531 L642.4688,56.6719 Q641.8438,56.0938 641.25,55.8281 Q640.6563,55.5469 640.0313,55.5469 Q638.6875,55.5469 638,56.625 Q637.3125,57.6875 637.3125,59.7813 Q637.3125,61.875 638,62.9531 Q638.6875,64.0156 640.0313,64.0156 Q640.6563,64.0156 641.25,63.75 Q641.8438,63.4688 642.4688,62.8906 L642.4688,65.6094 Z \"/><text fill=\"#000000\" font-family=\"sans-serif\" font-size=\"12\" font-style=\"italic\" lengthAdjust=\"spacingAndGlyphs\" textLength=\"141\" x=\"651.5\" y=\"57.1387\">«(T,blue)attribute def»</text><text fill=\"#000000\" font-family=\"sans-serif\" font-size=\"12\" lengthAdjust=\"spacingAndGlyphs\" textLength=\"19\" x=\"712.5\" y=\"71.1074\">Sig</text><line style=\"stroke: #A80036; stroke-width: 1.5;\" x1=\"625.5\" x2=\"792.5\" y1=\"78.9375\" y2=\"78.9375\"/><line style=\"stroke: #A80036; stroke-width: 1.5;\" x1=\"625.5\" x2=\"792.5\" y1=\"86.9375\" y2=\"86.9375\"/></a><!--MD5=[09b614a08d8cba4a07c9adeb5e0fee81]\n",
       "class E3--><a href=\"psysml:75ee6cec-68f4-495e-910b-3cf4854ee540\" target=\"_top\" title=\"psysml:75ee6cec-68f4-495e-910b-3cf4854ee540\" xlink:actuate=\"onRequest\" xlink:href=\"psysml:75ee6cec-68f4-495e-910b-3cf4854ee540\" xlink:show=\"new\" xlink:title=\"psysml:75ee6cec-68f4-495e-910b-3cf4854ee540\" xlink:type=\"simple\"><rect fill=\"#FEFECE\" filter=\"url(#f2ac1eamlwgx6)\" height=\"53.9375\" id=\"E3\" style=\"stroke: #A80036; stroke-width: 1.5;\" width=\"169\" x=\"420.5\" y=\"41\"/><ellipse cx=\"435.5\" cy=\"59.9688\" fill=\"#ADD1B2\" rx=\"11\" ry=\"11\" style=\"stroke: #A80036; stroke-width: 1.0;\"/><path d=\"M438.4688,65.6094 Q437.8906,65.9063 437.25,66.0469 Q436.6094,66.2031 435.9063,66.2031 Q433.4063,66.2031 432.0781,64.5625 Q430.7656,62.9063 430.7656,59.7813 Q430.7656,56.6563 432.0781,55 Q433.4063,53.3438 435.9063,53.3438 Q436.6094,53.3438 437.25,53.5 Q437.9063,53.6563 438.4688,53.9531 L438.4688,56.6719 Q437.8438,56.0938 437.25,55.8281 Q436.6563,55.5469 436.0313,55.5469 Q434.6875,55.5469 434,56.625 Q433.3125,57.6875 433.3125,59.7813 Q433.3125,61.875 434,62.9531 Q434.6875,64.0156 436.0313,64.0156 Q436.6563,64.0156 437.25,63.75 Q437.8438,63.4688 438.4688,62.8906 L438.4688,65.6094 Z \"/><text fill=\"#000000\" font-family=\"sans-serif\" font-size=\"12\" font-style=\"italic\" lengthAdjust=\"spacingAndGlyphs\" textLength=\"141\" x=\"447.5\" y=\"57.1387\">«(T,blue)attribute def»</text><text fill=\"#000000\" font-family=\"sans-serif\" font-size=\"12\" lengthAdjust=\"spacingAndGlyphs\" textLength=\"22\" x=\"507\" y=\"71.1074\">Exit</text><line style=\"stroke: #A80036; stroke-width: 1.5;\" x1=\"421.5\" x2=\"588.5\" y1=\"78.9375\" y2=\"78.9375\"/><line style=\"stroke: #A80036; stroke-width: 1.5;\" x1=\"421.5\" x2=\"588.5\" y1=\"86.9375\" y2=\"86.9375\"/></a><!--MD5=[60a26617385b1d2d0262a64233df1f8d]\n",
       "class E6--><a href=\"psysml:b6aa9f25-72f8-4c2c-a7be-6589070e9bf6\" target=\"_top\" title=\"psysml:b6aa9f25-72f8-4c2c-a7be-6589070e9bf6\" xlink:actuate=\"onRequest\" xlink:href=\"psysml:b6aa9f25-72f8-4c2c-a7be-6589070e9bf6\" xlink:show=\"new\" xlink:title=\"psysml:b6aa9f25-72f8-4c2c-a7be-6589070e9bf6\" xlink:type=\"simple\"><rect fill=\"#FEFECE\" filter=\"url(#f2ac1eamlwgx6)\" height=\"53.9375\" id=\"E6\" style=\"stroke: #A80036; stroke-width: 1.5;\" width=\"147\" x=\"238.5\" y=\"41\"/><ellipse cx=\"253.5\" cy=\"59.9688\" fill=\"#ADD1B2\" rx=\"11\" ry=\"11\" style=\"stroke: #A80036; stroke-width: 1.0;\"/><path d=\"M256.4688,65.6094 Q255.8906,65.9063 255.25,66.0469 Q254.6094,66.2031 253.9063,66.2031 Q251.4063,66.2031 250.0781,64.5625 Q248.7656,62.9063 248.7656,59.7813 Q248.7656,56.6563 250.0781,55 Q251.4063,53.3438 253.9063,53.3438 Q254.6094,53.3438 255.25,53.5 Q255.9063,53.6563 256.4688,53.9531 L256.4688,56.6719 Q255.8438,56.0938 255.25,55.8281 Q254.6563,55.5469 254.0313,55.5469 Q252.6875,55.5469 252,56.625 Q251.3125,57.6875 251.3125,59.7813 Q251.3125,61.875 252,62.9531 Q252.6875,64.0156 254.0313,64.0156 Q254.6563,64.0156 255.25,63.75 Q255.8438,63.4688 256.4688,62.8906 L256.4688,65.6094 Z \"/><text fill=\"#000000\" font-family=\"sans-serif\" font-size=\"12\" font-style=\"italic\" lengthAdjust=\"spacingAndGlyphs\" textLength=\"119\" x=\"265.5\" y=\"57.1387\">«(T,blue)state def»</text><text fill=\"#000000\" font-family=\"sans-serif\" font-size=\"12\" lengthAdjust=\"spacingAndGlyphs\" textLength=\"8\" x=\"321\" y=\"71.1074\">S</text><line style=\"stroke: #A80036; stroke-width: 1.5;\" x1=\"239.5\" x2=\"384.5\" y1=\"78.9375\" y2=\"78.9375\"/><line style=\"stroke: #A80036; stroke-width: 1.5;\" x1=\"239.5\" x2=\"384.5\" y1=\"86.9375\" y2=\"86.9375\"/></a><g id=\"E1.E4\"><a href=\"psysml:d526add9-9153-4d94-82de-e3d10cc7d584\" target=\"_top\" title=\"psysml:d526add9-9153-4d94-82de-e3d10cc7d584\" xlink:actuate=\"onRequest\" xlink:href=\"psysml:d526add9-9153-4d94-82de-e3d10cc7d584\" xlink:show=\"new\" xlink:title=\"psysml:d526add9-9153-4d94-82de-e3d10cc7d584\" xlink:type=\"simple\"><rect fill=\"#FEFECE\" filter=\"url(#f2ac1eamlwgx6)\" height=\"40\" id=\"E4\" rx=\"10\" ry=\"10\" style=\"stroke: #A80036; stroke-width: 1.5;\" width=\"50\" x=\"153\" y=\"48\"/><ellipse cx=\"172.5\" cy=\"64\" fill=\"#B6DBBB\" rx=\"11\" ry=\"11\" style=\"stroke: #A80036; stroke-width: 1.0;\"/><path d=\"M168.375,65.9219 L168.375,58.1094 L170.8281,58.1094 L170.8281,66.5469 Q170.8281,67.4688 171.2969,68 Q171.7813,68.5313 172.6094,68.5313 Q173.4531,68.5313 173.9219,68 Q174.3906,67.4688 174.3906,66.5469 L174.3906,58.1094 L176.8438,58.1094 L176.8438,65.9219 Q176.8438,68.4531 175.8438,69.5938 Q174.8438,70.7344 172.6094,70.7344 Q170.3906,70.7344 169.375,69.5938 Q168.375,68.4531 168.375,65.9219 Z \"/><text fill=\"#000000\" font-family=\"sans-serif\" font-size=\"12\" lengthAdjust=\"spacingAndGlyphs\" textLength=\"8\" x=\"187.5\" y=\"68.1543\">p</text></a></g><g id=\"E1.E5\"><a href=\"psysml:12bd5d36-0dbf-4715-90c3-b0b875efee55\" target=\"_top\" title=\"psysml:12bd5d36-0dbf-4715-90c3-b0b875efee55\" xlink:actuate=\"onRequest\" xlink:href=\"psysml:12bd5d36-0dbf-4715-90c3-b0b875efee55\" xlink:show=\"new\" xlink:title=\"psysml:12bd5d36-0dbf-4715-90c3-b0b875efee55\" xlink:type=\"simple\"><rect fill=\"#FEFECE\" filter=\"url(#f2ac1eamlwgx6)\" height=\"42.9375\" id=\"E5\" rx=\"10\" ry=\"10\" style=\"stroke: #A80036; stroke-width: 1.5;\" width=\"86\" x=\"32\" y=\"46.5\"/><ellipse cx=\"49.25\" cy=\"65.4688\" fill=\"#0000FF\" rx=\"11\" ry=\"11\" style=\"stroke: #A80036; stroke-width: 1.0;\"/><path d=\"M50.0938,72.2188 L47.6406,72.2188 L47.6406,61.9688 L44.5,61.9688 L44.5,59.8281 L53.2344,59.8281 L53.2344,61.9688 L50.0938,61.9688 L50.0938,72.2188 Z \"/><text fill=\"#000000\" font-family=\"sans-serif\" font-size=\"12\" font-style=\"italic\" lengthAdjust=\"spacingAndGlyphs\" textLength=\"53\" x=\"61.75\" y=\"62.6387\">«action»</text><text fill=\"#000000\" font-family=\"sans-serif\" font-size=\"12\" lengthAdjust=\"spacingAndGlyphs\" textLength=\"20\" x=\"78.25\" y=\"76.6074\">act</text></a></g><!--MD5=[926906b3be19cf0dc4a7f90d44a33a15]\n",
       "@startuml\r\n",
       "skinparam ranksep 8\r\n",
       "skinparam rectangle {\r\n",
       " backgroundColor<<block>> LightGreen\r\n",
       "}\r\n",
       " \r\n",
       "package \"StateTest\" as E1  [[psysml:a2ca8720-bd4b-4556-9b27-091331149f1f ]]  {\r\n",
       "def \"Sig\" as E2  <<(T,blue)attribute def>> [[psysml:9b0c6b07-76e0-48e6-88f4-e6a2c752e8e3 ]] \r\n",
       "def \"Exit\" as E3  <<(T,blue)attribute def>> [[psysml:75ee6cec-68f4-495e-910b-3cf4854ee540 ]] \r\n",
       "rec usage \"p\" as E4  [[psysml:d526add9-9153-4d94-82de-e3d10cc7d584 ]] {\r\n",
       "}\r\n",
       "rec usage \"act\" as E5  <<(T,blue)action>> [[psysml:12bd5d36-0dbf-4715-90c3-b0b875efee55 ]] {\r\n",
       "}\r\n",
       "def \"S\" as E6  <<(T,blue)state def>> [[psysml:b6aa9f25-72f8-4c2c-a7be-6589070e9bf6 ]] \r\n",
       "}\r\n",
       "@enduml\r\n",
       "\n",
       "PlantUML version 1.2020.13(Sat Jun 13 12:26:38 UTC 2020)\n",
       "(EPL source distribution)\n",
       "Java Runtime: OpenJDK Runtime Environment\n",
       "JVM: OpenJDK 64-Bit Server VM\n",
       "Default Encoding: UTF-8\n",
       "Language: en\n",
       "Country: null\n",
       "--></g></svg>"
      ]
     },
     "execution_count": 5,
     "metadata": {},
     "output_type": "execute_result"
    }
   ],
   "source": [
    "%viz --style=\"COMPTREE\" --view=\"Interconnection\" \"StateTest\""
   ]
  },
  {
   "cell_type": "code",
   "execution_count": 6,
   "id": "improving-configuration",
   "metadata": {
    "execution": {
     "iopub.execute_input": "2021-03-25T15:06:53.601641Z",
     "iopub.status.busy": "2021-03-25T15:06:53.601162Z",
     "iopub.status.idle": "2021-03-25T15:06:53.723963Z",
     "shell.execute_reply": "2021-03-25T15:06:53.723619Z"
    }
   },
   "outputs": [
    {
     "data": {
      "image/svg+xml": [
       "<?xml version=\"1.0\" encoding=\"UTF-8\" standalone=\"no\"?><svg xmlns=\"http://www.w3.org/2000/svg\" xmlns:xlink=\"http://www.w3.org/1999/xlink\" contentScriptType=\"application/ecmascript\" contentStyleType=\"text/css\" height=\"386px\" preserveAspectRatio=\"none\" style=\"width:788px;height:386px;background:#000000;\" version=\"1.1\" viewBox=\"0 0 788 386\" width=\"788px\" zoomAndPan=\"magnify\"><defs/><g><rect fill=\"#0F1C05\" height=\"1\" style=\"stroke: #0F1C05; stroke-width: 1.0;\" width=\"1\" x=\"0\" y=\"0\"/><rect fill=\"#33FF02\" height=\"21.2969\" style=\"stroke: #33FF02; stroke-width: 1.0;\" width=\"781\" x=\"5\" y=\"5\"/><text fill=\"#000000\" font-family=\"sans-serif\" font-size=\"14\" font-weight=\"bold\" lengthAdjust=\"spacingAndGlyphs\" textLength=\"178\" x=\"6\" y=\"20\">[From string (line 20) ]</text><text fill=\"#33FF02\" font-family=\"sans-serif\" font-size=\"14\" font-weight=\"bold\" lengthAdjust=\"spacingAndGlyphs\" textLength=\"0\" x=\"10\" y=\"40.2969\"/><text fill=\"#33FF02\" font-family=\"sans-serif\" font-size=\"14\" font-weight=\"bold\" lengthAdjust=\"spacingAndGlyphs\" textLength=\"79\" x=\"5\" y=\"56.5938\">@startuml</text><text fill=\"#33FF02\" font-family=\"sans-serif\" font-size=\"14\" font-weight=\"bold\" lengthAdjust=\"spacingAndGlyphs\" textLength=\"165\" x=\"5\" y=\"72.8906\">skinparam ranksep 8</text><text fill=\"#33FF02\" font-family=\"sans-serif\" font-size=\"14\" font-weight=\"bold\" lengthAdjust=\"spacingAndGlyphs\" textLength=\"0\" x=\"10\" y=\"89.1875\"/><text fill=\"#33FF02\" font-family=\"sans-serif\" font-size=\"14\" font-weight=\"bold\" lengthAdjust=\"spacingAndGlyphs\" textLength=\"781\" x=\"5\" y=\"105.4844\">rec usage \"act\" as E1  &lt;&lt;(T,blue)action&gt;&gt; [[psysml:12bd5d36-0dbf-4715-90c3-b0b875efee55 ]] {</text><text fill=\"#33FF02\" font-family=\"sans-serif\" font-size=\"14\" font-weight=\"bold\" lengthAdjust=\"spacingAndGlyphs\" textLength=\"10\" x=\"5\" y=\"121.7813\">}</text><text fill=\"#33FF02\" font-family=\"sans-serif\" font-size=\"14\" font-weight=\"bold\" lengthAdjust=\"spacingAndGlyphs\" textLength=\"0\" x=\"10\" y=\"138.0781\"/><text fill=\"#33FF02\" font-family=\"sans-serif\" font-size=\"14\" font-weight=\"bold\" lengthAdjust=\"spacingAndGlyphs\" textLength=\"760\" x=\"5\" y=\"154.375\">rec def \"S\" as E2  &lt;&lt;(T,blue)state def&gt;&gt; [[psysml:b6aa9f25-72f8-4c2c-a7be-6589070e9bf6 ]] {</text><text fill=\"#33FF02\" font-family=\"sans-serif\" font-size=\"14\" font-weight=\"bold\" lengthAdjust=\"spacingAndGlyphs\" textLength=\"761\" x=\"5\" y=\"170.6719\">rec usage \"A\" as E3 &lt;&lt;perform action&gt;&gt; [[psysml:7c853ef3-d7ff-4ebf-8ae8-b09e7153a971 ]] {</text><text fill=\"#33FF02\" font-family=\"sans-serif\" font-size=\"14\" font-weight=\"bold\" lengthAdjust=\"spacingAndGlyphs\" textLength=\"10\" x=\"5\" y=\"186.9688\">}</text><text fill=\"#33FF02\" font-family=\"sans-serif\" font-size=\"14\" font-weight=\"bold\" lengthAdjust=\"spacingAndGlyphs\" textLength=\"0\" x=\"10\" y=\"203.2656\"/><text fill=\"#33FF02\" font-family=\"sans-serif\" font-size=\"14\" font-weight=\"bold\" lengthAdjust=\"spacingAndGlyphs\" textLength=\"765\" x=\"5\" y=\"219.5625\">rec usage \"B\" as E4 &lt;&lt;perform action&gt;&gt; [[psysml:dca473ca-f240-48c8-8410-315f8ab65930 ]] {</text><text fill=\"#33FF02\" font-family=\"sans-serif\" font-size=\"14\" font-weight=\"bold\" lengthAdjust=\"spacingAndGlyphs\" textLength=\"10\" x=\"5\" y=\"235.8594\">}</text><text fill=\"#33FF02\" font-family=\"sans-serif\" font-size=\"14\" font-weight=\"bold\" lengthAdjust=\"spacingAndGlyphs\" textLength=\"0\" x=\"10\" y=\"252.1563\"/><text fill=\"#33FF02\" font-family=\"sans-serif\" font-size=\"14\" font-weight=\"bold\" lengthAdjust=\"spacingAndGlyphs\" textLength=\"779\" x=\"5\" y=\"268.4531\">rec usage \"act\" as E5 &lt;&lt;perform action&gt;&gt; [[psysml:4cc25ae1-ca80-482c-9b62-70f98bd0e4f3 ]] {</text><text fill=\"#33FF02\" font-family=\"sans-serif\" font-size=\"14\" font-weight=\"bold\" lengthAdjust=\"spacingAndGlyphs\" textLength=\"10\" x=\"5\" y=\"284.75\">}</text><text fill=\"#33FF02\" font-family=\"sans-serif\" font-size=\"14\" font-weight=\"bold\" lengthAdjust=\"spacingAndGlyphs\" textLength=\"0\" x=\"10\" y=\"301.0469\"/><text fill=\"#33FF02\" font-family=\"sans-serif\" font-size=\"14\" font-weight=\"bold\" lengthAdjust=\"spacingAndGlyphs\" textLength=\"763\" x=\"5\" y=\"317.3438\">rec usage \"S1\" as E6  &lt;&lt;(T,blue)state&gt;&gt; [[psysml:1cabaaec-9539-448a-9df0-432fc817479b ]] {</text><text fill=\"#33FF02\" font-family=\"sans-serif\" font-size=\"14\" font-weight=\"bold\" lengthAdjust=\"spacingAndGlyphs\" textLength=\"10\" x=\"5\" y=\"333.6406\">}</text><text fill=\"#33FF02\" font-family=\"sans-serif\" font-size=\"14\" font-weight=\"bold\" lengthAdjust=\"spacingAndGlyphs\" textLength=\"0\" x=\"10\" y=\"349.9375\"/><text fill=\"#33FF02\" font-family=\"sans-serif\" font-size=\"14\" font-weight=\"bold\" lengthAdjust=\"spacingAndGlyphs\" textLength=\"10\" x=\"5\" y=\"366.2344\">{</text><text fill=\"#FF0000\" font-family=\"sans-serif\" font-size=\"14\" font-weight=\"bold\" lengthAdjust=\"spacingAndGlyphs\" textLength=\"106\" x=\"10\" y=\"382.5313\">Syntax Error?</text><!--MD5=[7e3da5c9f684f566f120205322ea7566]\n",
       "@startuml\r\n",
       "skinparam ranksep 8\r\n",
       " \r\n",
       "rec usage \"act\" as E1  <<(T,blue)action>> [[psysml:12bd5d36-0dbf-4715-90c3-b0b875efee55 ]] {\r\n",
       "}\r\n",
       "\r\n",
       "rec def \"S\" as E2  <<(T,blue)state def>> [[psysml:b6aa9f25-72f8-4c2c-a7be-6589070e9bf6 ]] {\r\n",
       "rec usage \"A\" as E3 <<perform action>> [[psysml:7c853ef3-d7ff-4ebf-8ae8-b09e7153a971 ]] {\r\n",
       "}\r\n",
       "\r\n",
       "rec usage \"B\" as E4 <<perform action>> [[psysml:dca473ca-f240-48c8-8410-315f8ab65930 ]] {\r\n",
       "}\r\n",
       "\r\n",
       "rec usage \"act\" as E5 <<perform action>> [[psysml:4cc25ae1-ca80-482c-9b62-70f98bd0e4f3 ]] {\r\n",
       "}\r\n",
       "\r\n",
       "rec usage \"S1\" as E6  <<(T,blue)state>> [[psysml:1cabaaec-9539-448a-9df0-432fc817479b ]] {\r\n",
       "}\r\n",
       "\r\n",
       "{\r\n",
       "{\r\n",
       "}\r\n",
       "\r\n",
       "rec usage \"D\" as E7 <<perform action>> [[psysml:3510f31d-b177-4ebf-8714-3f9d2522539a ]] {\r\n",
       "}\r\n",
       "\r\n",
       "}\r\n",
       "\r\n",
       "rec usage \"S2\" as E8  <<(T,blue)state>> [[psysml:7a7b17a9-f595-41dc-990f-a07a1c17ba3c ]] {\r\n",
       "rec usage \"doAction\" as E9 <<send action>> [[psysml:fce0e4a1-8edc-4c38-93d6-a3b5e3670b25 ]] {\r\n",
       "portin \"$x\" as E10  [[psysml:0f9ee1be-4b0c-49df-bf39-0b4be923bab5 ]] \r\n",
       "portout \"$result\" as E11  [[psysml:57c23ed7-9c69-47d3-a300-7e2619377bac ]] \r\n",
       "}\r\n",
       "\r\n",
       "}\r\n",
       "\r\n",
       "{\r\n",
       "{\r\n",
       "}\r\n",
       "\r\n",
       "}\r\n",
       "\r\n",
       "rec usage \"T\" as E12  <<(T,blue)transition>> [[psysml:bcd703ca-2055-4c24-98bc-6c579eb31483 ]] {\r\n",
       "rec usage \"S2\" as E13  <<(T,blue)state>> [[psysml:7a7b17a9-f595-41dc-990f-a07a1c17ba3c ]] {\r\n",
       "rec usage \"doAction\" as E14 <<send action>> [[psysml:fce0e4a1-8edc-4c38-93d6-a3b5e3670b25 ]] {\r\n",
       "portin \"$x\" as E15  [[psysml:0f9ee1be-4b0c-49df-bf39-0b4be923bab5 ]] \r\n",
       "portout \"$result\" as E16  [[psysml:57c23ed7-9c69-47d3-a300-7e2619377bac ]] \r\n",
       "}\r\n",
       "\r\n",
       "}\r\n",
       "\r\n",
       "{\r\n",
       "}\r\n",
       "\r\n",
       "portout \"$result\" as E17  [[psysml:911b7f24-6054-424b-94f8-0593eb8f2c88 ]] \r\n",
       "{\r\n",
       "}\r\n",
       "\r\n",
       "}\r\n",
       "\r\n",
       "}\r\n",
       "\r\n",
       "@enduml\r\n",
       "\n",
       "PlantUML version 1.2020.13(Sat Jun 13 12:26:38 UTC 2020)\n",
       "(EPL source distribution)\n",
       "Java Runtime: OpenJDK Runtime Environment\n",
       "JVM: OpenJDK 64-Bit Server VM\n",
       "Default Encoding: UTF-8\n",
       "Language: en\n",
       "Country: null\n",
       "--></g></svg>"
      ]
     },
     "execution_count": 6,
     "metadata": {},
     "output_type": "execute_result"
    }
   ],
   "source": [
    "%viz --style=\"COMPTREE\" --view=\"Action\" \"StateTest\""
   ]
  },
  {
   "cell_type": "code",
   "execution_count": 7,
   "id": "domestic-apparatus",
   "metadata": {
    "execution": {
     "iopub.execute_input": "2021-03-25T15:06:53.773552Z",
     "iopub.status.busy": "2021-03-25T15:06:53.773189Z",
     "iopub.status.idle": "2021-03-25T15:06:54.216785Z",
     "shell.execute_reply": "2021-03-25T15:06:54.217286Z"
    }
   },
   "outputs": [
    {
     "data": {
      "image/svg+xml": [
       "<?xml version=\"1.0\" encoding=\"UTF-8\" standalone=\"no\"?><svg xmlns=\"http://www.w3.org/2000/svg\" xmlns:xlink=\"http://www.w3.org/1999/xlink\" contentScriptType=\"application/ecmascript\" contentStyleType=\"text/css\" height=\"471px\" preserveAspectRatio=\"none\" style=\"width:702px;height:471px;\" version=\"1.1\" viewBox=\"0 0 702 471\" width=\"702px\" zoomAndPan=\"magnify\"><defs><filter height=\"300%\" id=\"f3hdumbq4ypq6\" width=\"300%\" x=\"-1\" y=\"-1\"><feGaussianBlur result=\"blurOut\" stdDeviation=\"2.0\"/><feColorMatrix in=\"blurOut\" result=\"blurOut2\" type=\"matrix\" values=\"0 0 0 0 0 0 0 0 0 0 0 0 0 0 0 0 0 0 .4 0\"/><feOffset dx=\"4.0\" dy=\"4.0\" in=\"blurOut2\" result=\"blurOut3\"/><feBlend in=\"SourceGraphic\" in2=\"blurOut3\" mode=\"normal\"/></filter></defs><g><!--MD5=[fbc87193dbaf4d95561dea2c320d4a47]\n",
       "cluster E1--><a href=\"psysml:a2ca8720-bd4b-4556-9b27-091331149f1f\" target=\"_top\" title=\"psysml:a2ca8720-bd4b-4556-9b27-091331149f1f\" xlink:actuate=\"onRequest\" xlink:href=\"psysml:a2ca8720-bd4b-4556-9b27-091331149f1f\" xlink:show=\"new\" xlink:title=\"psysml:a2ca8720-bd4b-4556-9b27-091331149f1f\" xlink:type=\"simple\"><polygon fill=\"#FFFFFF\" filter=\"url(#f3hdumbq4ypq6)\" points=\"16,6,98,6,105,28.2969,680,28.2969,680,459,16,459,16,6\" style=\"stroke: #000000; stroke-width: 1.5;\"/><line style=\"stroke: #000000; stroke-width: 1.5;\" x1=\"16\" x2=\"105\" y1=\"28.2969\" y2=\"28.2969\"/><text fill=\"#000000\" font-family=\"sans-serif\" font-size=\"14\" font-weight=\"bold\" lengthAdjust=\"spacingAndGlyphs\" textLength=\"76\" x=\"20\" y=\"20.9951\">StateTest</text></a><!--MD5=[b4997ac47864f28c2f74865a473b2911]\n",
       "class E2--><a href=\"psysml:9b0c6b07-76e0-48e6-88f4-e6a2c752e8e3\" target=\"_top\" title=\"psysml:9b0c6b07-76e0-48e6-88f4-e6a2c752e8e3\" xlink:actuate=\"onRequest\" xlink:href=\"psysml:9b0c6b07-76e0-48e6-88f4-e6a2c752e8e3\" xlink:show=\"new\" xlink:title=\"psysml:9b0c6b07-76e0-48e6-88f4-e6a2c752e8e3\" xlink:type=\"simple\"><rect fill=\"#FEFECE\" filter=\"url(#f3hdumbq4ypq6)\" height=\"58.7422\" id=\"E2\" style=\"stroke: #A80036; stroke-width: 1.5;\" width=\"121\" x=\"542.5\" y=\"91.5\"/><ellipse cx=\"557.5\" cy=\"110.4688\" fill=\"#0000FF\" rx=\"11\" ry=\"11\" style=\"stroke: #A80036; stroke-width: 1.0;\"/><path d=\"M558.3438,117.2188 L555.8906,117.2188 L555.8906,106.9688 L552.75,106.9688 L552.75,104.8281 L561.4844,104.8281 L561.4844,106.9688 L558.3438,106.9688 L558.3438,117.2188 Z \"/><text fill=\"#000000\" font-family=\"sans-serif\" font-size=\"12\" font-style=\"italic\" lengthAdjust=\"spacingAndGlyphs\" textLength=\"93\" x=\"569.5\" y=\"107.6387\">«attribute def»</text><text fill=\"#000000\" font-family=\"sans-serif\" font-size=\"12\" lengthAdjust=\"spacingAndGlyphs\" textLength=\"19\" x=\"606.5\" y=\"121.6074\">Sig</text><line style=\"stroke: #A80036; stroke-width: 1.5;\" x1=\"543.5\" x2=\"662.5\" y1=\"129.4375\" y2=\"129.4375\"/><text fill=\"#000000\" font-family=\"sans-serif\" font-size=\"11\" lengthAdjust=\"spacingAndGlyphs\" textLength=\"6\" x=\"548.5\" y=\"143.6479\">x</text></a><!--MD5=[09b614a08d8cba4a07c9adeb5e0fee81]\n",
       "class E3--><a href=\"psysml:75ee6cec-68f4-495e-910b-3cf4854ee540\" target=\"_top\" title=\"psysml:75ee6cec-68f4-495e-910b-3cf4854ee540\" xlink:actuate=\"onRequest\" xlink:href=\"psysml:75ee6cec-68f4-495e-910b-3cf4854ee540\" xlink:show=\"new\" xlink:title=\"psysml:75ee6cec-68f4-495e-910b-3cf4854ee540\" xlink:type=\"simple\"><rect fill=\"#FEFECE\" filter=\"url(#f3hdumbq4ypq6)\" height=\"45.9375\" id=\"E3\" style=\"stroke: #A80036; stroke-width: 1.5;\" width=\"121\" x=\"386.5\" y=\"98\"/><ellipse cx=\"401.5\" cy=\"116.9688\" fill=\"#0000FF\" rx=\"11\" ry=\"11\" style=\"stroke: #A80036; stroke-width: 1.0;\"/><path d=\"M402.3438,123.7188 L399.8906,123.7188 L399.8906,113.4688 L396.75,113.4688 L396.75,111.3281 L405.4844,111.3281 L405.4844,113.4688 L402.3438,113.4688 L402.3438,123.7188 Z \"/><text fill=\"#000000\" font-family=\"sans-serif\" font-size=\"12\" font-style=\"italic\" lengthAdjust=\"spacingAndGlyphs\" textLength=\"93\" x=\"413.5\" y=\"114.1387\">«attribute def»</text><text fill=\"#000000\" font-family=\"sans-serif\" font-size=\"12\" lengthAdjust=\"spacingAndGlyphs\" textLength=\"22\" x=\"449\" y=\"128.1074\">Exit</text><line style=\"stroke: #A80036; stroke-width: 1.5;\" x1=\"387.5\" x2=\"506.5\" y1=\"135.9375\" y2=\"135.9375\"/></a><!--MD5=[ebbe1d658d1005bcc118a6aa81145e00]\n",
       "class E4--><a href=\"psysml:d526add9-9153-4d94-82de-e3d10cc7d584\" target=\"_top\" title=\"psysml:d526add9-9153-4d94-82de-e3d10cc7d584\" xlink:actuate=\"onRequest\" xlink:href=\"psysml:d526add9-9153-4d94-82de-e3d10cc7d584\" xlink:show=\"new\" xlink:title=\"psysml:d526add9-9153-4d94-82de-e3d10cc7d584\" xlink:type=\"simple\"><rect fill=\"#FEFECE\" filter=\"url(#f3hdumbq4ypq6)\" height=\"45.9375\" id=\"E4\" rx=\"10\" ry=\"10\" style=\"stroke: #A80036; stroke-width: 1.5;\" width=\"68\" x=\"283\" y=\"98\"/><ellipse cx=\"298\" cy=\"116.9688\" fill=\"#0000FF\" rx=\"11\" ry=\"11\" style=\"stroke: #A80036; stroke-width: 1.0;\"/><path d=\"M298.8438,123.7188 L296.3906,123.7188 L296.3906,113.4688 L293.25,113.4688 L293.25,111.3281 L301.9844,111.3281 L301.9844,113.4688 L298.8438,113.4688 L298.8438,123.7188 Z \"/><text fill=\"#000000\" font-family=\"sans-serif\" font-size=\"12\" font-style=\"italic\" lengthAdjust=\"spacingAndGlyphs\" textLength=\"40\" x=\"310\" y=\"114.1387\">«part»</text><text fill=\"#000000\" font-family=\"sans-serif\" font-size=\"12\" lengthAdjust=\"spacingAndGlyphs\" textLength=\"8\" x=\"326\" y=\"128.1074\">p</text><line style=\"stroke: #A80036; stroke-width: 1.5;\" x1=\"284\" x2=\"350\" y1=\"135.9375\" y2=\"135.9375\"/></a><!--MD5=[270fce915f116d4de14055a7c1d9a0f3]\n",
       "class E5--><a href=\"psysml:12bd5d36-0dbf-4715-90c3-b0b875efee55\" target=\"_top\" title=\"psysml:12bd5d36-0dbf-4715-90c3-b0b875efee55\" xlink:actuate=\"onRequest\" xlink:href=\"psysml:12bd5d36-0dbf-4715-90c3-b0b875efee55\" xlink:show=\"new\" xlink:title=\"psysml:12bd5d36-0dbf-4715-90c3-b0b875efee55\" xlink:type=\"simple\"><rect fill=\"#FEFECE\" filter=\"url(#f3hdumbq4ypq6)\" height=\"45.9375\" id=\"E5\" rx=\"10\" ry=\"10\" style=\"stroke: #A80036; stroke-width: 1.5;\" width=\"81\" x=\"166.5\" y=\"98\"/><ellipse cx=\"181.5\" cy=\"116.9688\" fill=\"#0000FF\" rx=\"11\" ry=\"11\" style=\"stroke: #A80036; stroke-width: 1.0;\"/><path d=\"M182.3438,123.7188 L179.8906,123.7188 L179.8906,113.4688 L176.75,113.4688 L176.75,111.3281 L185.4844,111.3281 L185.4844,113.4688 L182.3438,113.4688 L182.3438,123.7188 Z \"/><text fill=\"#000000\" font-family=\"sans-serif\" font-size=\"12\" font-style=\"italic\" lengthAdjust=\"spacingAndGlyphs\" textLength=\"53\" x=\"193.5\" y=\"114.1387\">«action»</text><text fill=\"#000000\" font-family=\"sans-serif\" font-size=\"12\" lengthAdjust=\"spacingAndGlyphs\" textLength=\"20\" x=\"210\" y=\"128.1074\">act</text><line style=\"stroke: #A80036; stroke-width: 1.5;\" x1=\"167.5\" x2=\"246.5\" y1=\"135.9375\" y2=\"135.9375\"/></a><!--MD5=[60a26617385b1d2d0262a64233df1f8d]\n",
       "class E6--><a href=\"psysml:b6aa9f25-72f8-4c2c-a7be-6589070e9bf6\" target=\"_top\" title=\"psysml:b6aa9f25-72f8-4c2c-a7be-6589070e9bf6\" xlink:actuate=\"onRequest\" xlink:href=\"psysml:b6aa9f25-72f8-4c2c-a7be-6589070e9bf6\" xlink:show=\"new\" xlink:title=\"psysml:b6aa9f25-72f8-4c2c-a7be-6589070e9bf6\" xlink:type=\"simple\"><rect fill=\"#FEFECE\" filter=\"url(#f3hdumbq4ypq6)\" height=\"160.375\" id=\"E6\" style=\"stroke: #A80036; stroke-width: 1.5;\" width=\"99\" x=\"32.5\" y=\"41\"/><ellipse cx=\"47.5\" cy=\"59.9688\" fill=\"#0000FF\" rx=\"11\" ry=\"11\" style=\"stroke: #A80036; stroke-width: 1.0;\"/><path d=\"M48.3438,66.7188 L45.8906,66.7188 L45.8906,56.4688 L42.75,56.4688 L42.75,54.3281 L51.4844,54.3281 L51.4844,56.4688 L48.3438,56.4688 L48.3438,66.7188 Z \"/><text fill=\"#000000\" font-family=\"sans-serif\" font-size=\"12\" font-style=\"italic\" lengthAdjust=\"spacingAndGlyphs\" textLength=\"71\" x=\"59.5\" y=\"57.1387\">«state def»</text><text fill=\"#000000\" font-family=\"sans-serif\" font-size=\"12\" lengthAdjust=\"spacingAndGlyphs\" textLength=\"8\" x=\"91\" y=\"71.1074\">S</text><line style=\"stroke: #A80036; stroke-width: 1.5;\" x1=\"33.5\" x2=\"130.5\" y1=\"78.9375\" y2=\"78.9375\"/><text fill=\"#000000\" font-family=\"sans-serif\" font-size=\"11\" lengthAdjust=\"spacingAndGlyphs\" textLength=\"17\" x=\"38.5\" y=\"109.9526\">act</text><text fill=\"#000000\" font-family=\"sans-serif\" font-size=\"11\" lengthAdjust=\"spacingAndGlyphs\" textLength=\"7\" x=\"38.5\" y=\"122.7573\">A</text><text fill=\"#000000\" font-family=\"sans-serif\" font-size=\"11\" lengthAdjust=\"spacingAndGlyphs\" textLength=\"8\" x=\"38.5\" y=\"135.562\">B</text><line style=\"stroke: #A80036; stroke-width: 1.0;\" x1=\"33.5\" x2=\"38.5\" y1=\"93.3398\" y2=\"93.3398\"/><text fill=\"#000000\" font-family=\"sans-serif\" font-size=\"11\" lengthAdjust=\"spacingAndGlyphs\" textLength=\"87\" x=\"38.5\" y=\"96.6479\">performActions</text><line style=\"stroke: #A80036; stroke-width: 1.0;\" x1=\"125.5\" x2=\"130.5\" y1=\"93.3398\" y2=\"93.3398\"/><text fill=\"#000000\" font-family=\"sans-serif\" font-size=\"11\" lengthAdjust=\"spacingAndGlyphs\" textLength=\"15\" x=\"38.5\" y=\"165.1714\">S1</text><line style=\"stroke: #A80036; stroke-width: 1.0;\" x1=\"33.5\" x2=\"64\" y1=\"148.5586\" y2=\"148.5586\"/><text fill=\"#000000\" font-family=\"sans-serif\" font-size=\"11\" lengthAdjust=\"spacingAndGlyphs\" textLength=\"36\" x=\"64\" y=\"151.8667\">states</text><line style=\"stroke: #A80036; stroke-width: 1.0;\" x1=\"100\" x2=\"130.5\" y1=\"148.5586\" y2=\"148.5586\"/><text fill=\"#000000\" font-family=\"sans-serif\" font-size=\"11\" lengthAdjust=\"spacingAndGlyphs\" textLength=\"7\" x=\"38.5\" y=\"194.7808\">T</text><line style=\"stroke: #A80036; stroke-width: 1.0;\" x1=\"33.5\" x2=\"51.5\" y1=\"178.168\" y2=\"178.168\"/><text fill=\"#000000\" font-family=\"sans-serif\" font-size=\"11\" lengthAdjust=\"spacingAndGlyphs\" textLength=\"61\" x=\"51.5\" y=\"181.4761\">transitions</text><line style=\"stroke: #A80036; stroke-width: 1.0;\" x1=\"112.5\" x2=\"130.5\" y1=\"178.168\" y2=\"178.168\"/></a><!--MD5=[1dd1bfd58a279cf63c5f349dbc8fc6a1]\n",
       "class E11--><a href=\"psysml:7a7b17a9-f595-41dc-990f-a07a1c17ba3c\" target=\"_top\" title=\"psysml:7a7b17a9-f595-41dc-990f-a07a1c17ba3c\" xlink:actuate=\"onRequest\" xlink:href=\"psysml:7a7b17a9-f595-41dc-990f-a07a1c17ba3c\" xlink:show=\"new\" xlink:title=\"psysml:7a7b17a9-f595-41dc-990f-a07a1c17ba3c\" xlink:type=\"simple\"><rect fill=\"#FEFECE\" filter=\"url(#f3hdumbq4ypq6)\" height=\"45.9375\" id=\"E11\" rx=\"10\" ry=\"10\" style=\"stroke: #A80036; stroke-width: 1.5;\" width=\"75\" x=\"48.5\" y=\"261\"/><ellipse cx=\"63.5\" cy=\"279.9688\" fill=\"#0000FF\" rx=\"11\" ry=\"11\" style=\"stroke: #A80036; stroke-width: 1.0;\"/><path d=\"M64.3438,286.7188 L61.8906,286.7188 L61.8906,276.4688 L58.75,276.4688 L58.75,274.3281 L67.4844,274.3281 L67.4844,276.4688 L64.3438,276.4688 L64.3438,286.7188 Z \"/><text fill=\"#000000\" font-family=\"sans-serif\" font-size=\"12\" font-style=\"italic\" lengthAdjust=\"spacingAndGlyphs\" textLength=\"47\" x=\"75.5\" y=\"277.1387\">«state»</text><text fill=\"#000000\" font-family=\"sans-serif\" font-size=\"12\" lengthAdjust=\"spacingAndGlyphs\" textLength=\"16\" x=\"91\" y=\"291.1074\">S2</text><line style=\"stroke: #A80036; stroke-width: 1.5;\" x1=\"49.5\" x2=\"122.5\" y1=\"298.9375\" y2=\"298.9375\"/></a><!--MD5=[49a0ec8f00dab7302a31f22d0f0fe584]\n",
       "class E12--><a href=\"psysml:fce0e4a1-8edc-4c38-93d6-a3b5e3670b25\" target=\"_top\" title=\"psysml:fce0e4a1-8edc-4c38-93d6-a3b5e3670b25\" xlink:actuate=\"onRequest\" xlink:href=\"psysml:fce0e4a1-8edc-4c38-93d6-a3b5e3670b25\" xlink:show=\"new\" xlink:title=\"psysml:fce0e4a1-8edc-4c38-93d6-a3b5e3670b25\" xlink:type=\"simple\"><rect fill=\"#FEFECE\" filter=\"url(#f3hdumbq4ypq6)\" height=\"75.5469\" id=\"E12\" rx=\"10\" ry=\"10\" style=\"stroke: #A80036; stroke-width: 1.5;\" width=\"116\" x=\"32\" y=\"367\"/><ellipse cx=\"47\" cy=\"385.9688\" fill=\"#B6DBBB\" rx=\"11\" ry=\"11\" style=\"stroke: #A80036; stroke-width: 1.0;\"/><path d=\"M42.875,387.8906 L42.875,380.0781 L45.3281,380.0781 L45.3281,388.5156 Q45.3281,389.4375 45.7969,389.9688 Q46.2813,390.5 47.1094,390.5 Q47.9531,390.5 48.4219,389.9688 Q48.8906,389.4375 48.8906,388.5156 L48.8906,380.0781 L51.3438,380.0781 L51.3438,387.8906 Q51.3438,390.4219 50.3438,391.5625 Q49.3438,392.7031 47.1094,392.7031 Q44.8906,392.7031 43.875,391.5625 Q42.875,390.4219 42.875,387.8906 Z \"/><text fill=\"#000000\" font-family=\"sans-serif\" font-size=\"12\" font-style=\"italic\" lengthAdjust=\"spacingAndGlyphs\" textLength=\"88\" x=\"59\" y=\"383.1387\">«send action»</text><text fill=\"#000000\" font-family=\"sans-serif\" font-size=\"12\" lengthAdjust=\"spacingAndGlyphs\" textLength=\"55\" x=\"75.5\" y=\"397.1074\">doAction</text><line style=\"stroke: #A80036; stroke-width: 1.5;\" x1=\"33\" x2=\"147\" y1=\"404.9375\" y2=\"404.9375\"/><text fill=\"#000000\" font-family=\"sans-serif\" font-size=\"11\" lengthAdjust=\"spacingAndGlyphs\" textLength=\"25\" x=\"38\" y=\"435.9526\">item</text><line style=\"stroke: #A80036; stroke-width: 1.0;\" x1=\"33\" x2=\"52.5\" y1=\"419.3398\" y2=\"419.3398\"/><text fill=\"#000000\" font-family=\"sans-serif\" font-size=\"11\" lengthAdjust=\"spacingAndGlyphs\" textLength=\"75\" x=\"52.5\" y=\"422.6479\">itemFeatures</text><line style=\"stroke: #A80036; stroke-width: 1.0;\" x1=\"127.5\" x2=\"147\" y1=\"419.3398\" y2=\"419.3398\"/></a><!--MD5=[1f5f03483f7de0d5b3680a7f6650997f]\n",
       "reverse link E6 to E11--><a href=\"psysml:7a7b17a9-f595-41dc-990f-a07a1c17ba3c\" target=\"_top\" title=\"psysml:7a7b17a9-f595-41dc-990f-a07a1c17ba3c\" xlink:actuate=\"onRequest\" xlink:href=\"psysml:7a7b17a9-f595-41dc-990f-a07a1c17ba3c\" xlink:show=\"new\" xlink:title=\"psysml:7a7b17a9-f595-41dc-990f-a07a1c17ba3c\" xlink:type=\"simple\"><path d=\"M84.29,214.17 C84.72,231.58 85.14,248.25 85.45,260.82 \" fill=\"none\" id=\"E6&lt;-E11\" style=\"stroke: #A80036; stroke-width: 1.0;\"/><polygon fill=\"#A80036\" points=\"83.96,201.09,80.1062,207.1849,84.25,213.0865,88.1038,206.9916,83.96,201.09\" style=\"stroke: #A80036; stroke-width: 1.0;\"/></a><!--MD5=[94adabc162ce7e41b39f13be14fbaeb3]\n",
       "reverse link E11 to E12--><a href=\"psysml:fce0e4a1-8edc-4c38-93d6-a3b5e3670b25\" target=\"_top\" title=\"psysml:fce0e4a1-8edc-4c38-93d6-a3b5e3670b25\" xlink:actuate=\"onRequest\" xlink:href=\"psysml:fce0e4a1-8edc-4c38-93d6-a3b5e3670b25\" xlink:show=\"new\" xlink:title=\"psysml:fce0e4a1-8edc-4c38-93d6-a3b5e3670b25\" xlink:type=\"simple\"><path d=\"M87.18,320.23 C87.67,334.82 88.24,351.76 88.74,366.58 \" fill=\"none\" id=\"E11&lt;-E12\" style=\"stroke: #A80036; stroke-width: 1.0;\"/><polygon fill=\"#FFFFFF\" points=\"86.74,307.1,82.9466,313.2327,87.1486,319.093,90.942,312.9603,86.74,307.1\" style=\"stroke: #A80036; stroke-width: 1.0;\"/></a><!--MD5=[7d6b1c3d51c27c06d323be043beda713]\n",
       "@startuml\r\n",
       " \r\n",
       "package \"StateTest\" as E1  [[psysml:a2ca8720-bd4b-4556-9b27-091331149f1f ]]  {\r\n",
       "comp def \"Sig\" as E2  <<(T,blue)attribute def>> [[psysml:9b0c6b07-76e0-48e6-88f4-e6a2c752e8e3 ]] {\r\n",
       "x\r\n",
       "}\r\n",
       "comp def \"Exit\" as E3  <<(T,blue)attribute def>> [[psysml:75ee6cec-68f4-495e-910b-3cf4854ee540 ]] {\r\n",
       "}\r\n",
       "comp usage \"p\" as E4  <<(T,blue)part>> [[psysml:d526add9-9153-4d94-82de-e3d10cc7d584 ]] {\r\n",
       "}\r\n",
       "comp usage \"act\" as E5  <<(T,blue)action>> [[psysml:12bd5d36-0dbf-4715-90c3-b0b875efee55 ]] {\r\n",
       "}\r\n",
       "comp def \"S\" as E6  <<(T,blue)state def>> [[psysml:b6aa9f25-72f8-4c2c-a7be-6589070e9bf6 ]] {\r\n",
       "- - performActions - -\r\n",
       "act\r\n",
       "A\r\n",
       "B\r\n",
       "- - states - -\r\n",
       "S1\r\n",
       "- - transitions - -\r\n",
       "T\r\n",
       "}\r\n",
       "comp usage \"S2\" as E11  <<(T,blue)state>> [[psysml:7a7b17a9-f595-41dc-990f-a07a1c17ba3c ]] {\r\n",
       "}\r\n",
       "comp usage \"doAction\" as E12 <<send action>> [[psysml:fce0e4a1-8edc-4c38-93d6-a3b5e3670b25 ]] {\r\n",
       "- - itemFeatures - -\r\n",
       "item\r\n",
       "}\r\n",
       "E6 *- - E11 [[psysml:7a7b17a9-f595-41dc-990f-a07a1c17ba3c ]] \r\n",
       "E11 o- - E12 [[psysml:fce0e4a1-8edc-4c38-93d6-a3b5e3670b25 ]] \r\n",
       "}\r\n",
       "@enduml\r\n",
       "\n",
       "PlantUML version 1.2020.13(Sat Jun 13 12:26:38 UTC 2020)\n",
       "(EPL source distribution)\n",
       "Java Runtime: OpenJDK Runtime Environment\n",
       "JVM: OpenJDK 64-Bit Server VM\n",
       "Default Encoding: UTF-8\n",
       "Language: en\n",
       "Country: null\n",
       "--></g></svg>"
      ]
     },
     "execution_count": 7,
     "metadata": {},
     "output_type": "execute_result"
    }
   ],
   "source": [
    "%viz --style=\"COMPTREE\" --view=\"Sequence\" \"StateTest\""
   ]
  },
  {
   "cell_type": "code",
   "execution_count": 8,
   "id": "reduced-pressing",
   "metadata": {
    "execution": {
     "iopub.execute_input": "2021-03-25T15:06:54.265835Z",
     "iopub.status.busy": "2021-03-25T15:06:54.265000Z",
     "iopub.status.idle": "2021-03-25T15:06:54.432173Z",
     "shell.execute_reply": "2021-03-25T15:06:54.432532Z"
    }
   },
   "outputs": [
    {
     "data": {
      "image/svg+xml": [
       "<?xml version=\"1.0\" encoding=\"UTF-8\" standalone=\"no\"?><svg xmlns=\"http://www.w3.org/2000/svg\" xmlns:xlink=\"http://www.w3.org/1999/xlink\" contentScriptType=\"application/ecmascript\" contentStyleType=\"text/css\" height=\"569px\" preserveAspectRatio=\"none\" style=\"width:923px;height:569px;\" version=\"1.1\" viewBox=\"0 0 923 569\" width=\"923px\" zoomAndPan=\"magnify\"><defs><filter height=\"300%\" id=\"fc5234nrmj0o6\" width=\"300%\" x=\"-1\" y=\"-1\"><feGaussianBlur result=\"blurOut\" stdDeviation=\"2.0\"/><feColorMatrix in=\"blurOut\" result=\"blurOut2\" type=\"matrix\" values=\"0 0 0 0 0 0 0 0 0 0 0 0 0 0 0 0 0 0 .4 0\"/><feOffset dx=\"4.0\" dy=\"4.0\" in=\"blurOut2\" result=\"blurOut3\"/><feBlend in=\"SourceGraphic\" in2=\"blurOut3\" mode=\"normal\"/></filter></defs><g><!--MD5=[fbc87193dbaf4d95561dea2c320d4a47]\n",
       "cluster E1--><a href=\"psysml:a2ca8720-bd4b-4556-9b27-091331149f1f\" target=\"_top\" title=\"psysml:a2ca8720-bd4b-4556-9b27-091331149f1f\" xlink:actuate=\"onRequest\" xlink:href=\"psysml:a2ca8720-bd4b-4556-9b27-091331149f1f\" xlink:show=\"new\" xlink:title=\"psysml:a2ca8720-bd4b-4556-9b27-091331149f1f\" xlink:type=\"simple\"><polygon fill=\"#FFFFFF\" filter=\"url(#fc5234nrmj0o6)\" points=\"16,6,98,6,105,28.2969,901,28.2969,901,557.5,16,557.5,16,6\" style=\"stroke: #000000; stroke-width: 1.5;\"/><line style=\"stroke: #000000; stroke-width: 1.5;\" x1=\"16\" x2=\"105\" y1=\"28.2969\" y2=\"28.2969\"/><text fill=\"#000000\" font-family=\"sans-serif\" font-size=\"14\" font-weight=\"bold\" lengthAdjust=\"spacingAndGlyphs\" textLength=\"76\" x=\"20\" y=\"20.9951\">StateTest</text></a><!--MD5=[14e3b0961a2654348d326746436168a1]\n",
       "cluster E6--><a href=\"psysml:b6aa9f25-72f8-4c2c-a7be-6589070e9bf6\" target=\"_top\" title=\"psysml:b6aa9f25-72f8-4c2c-a7be-6589070e9bf6\" xlink:actuate=\"onRequest\" xlink:href=\"psysml:b6aa9f25-72f8-4c2c-a7be-6589070e9bf6\" xlink:show=\"new\" xlink:title=\"psysml:b6aa9f25-72f8-4c2c-a7be-6589070e9bf6\" xlink:type=\"simple\"><rect fill=\"#FFFFFF\" filter=\"url(#fc5234nrmj0o6)\" height=\"484.5\" id=\"E6\" style=\"stroke: #A80036; stroke-width: 1.5;\" width=\"327\" x=\"550\" y=\"49\"/><rect fill=\"#FEFECE\" height=\"37.9375\" style=\"stroke: #A80036; stroke-width: 1.5;\" width=\"327\" x=\"550\" y=\"49\"/><text fill=\"#000000\" font-family=\"sans-serif\" font-size=\"12\" font-style=\"italic\" lengthAdjust=\"spacingAndGlyphs\" textLength=\"71\" x=\"678\" y=\"65.1387\">«state def»</text><text fill=\"#000000\" font-family=\"sans-serif\" font-size=\"12\" lengthAdjust=\"spacingAndGlyphs\" textLength=\"8\" x=\"709.5\" y=\"79.1074\">S</text><line style=\"stroke: #A80036; stroke-width: 1.0;\" x1=\"550\" x2=\"877\" y1=\"132.8438\" y2=\"132.8438\"/><text fill=\"#000000\" font-family=\"sans-serif\" font-size=\"12\" font-weight=\"bold\" lengthAdjust=\"spacingAndGlyphs\" textLength=\"38\" x=\"555\" y=\"100.0762\">entry</text><text fill=\"#000000\" font-family=\"sans-serif\" font-size=\"12\" lengthAdjust=\"spacingAndGlyphs\" textLength=\"16\" x=\"593\" y=\"100.0762\">/ A</text><text fill=\"#000000\" font-family=\"sans-serif\" font-size=\"12\" font-weight=\"bold\" lengthAdjust=\"spacingAndGlyphs\" textLength=\"18\" x=\"555\" y=\"114.0449\">do</text><text fill=\"#000000\" font-family=\"sans-serif\" font-size=\"12\" lengthAdjust=\"spacingAndGlyphs\" textLength=\"16\" x=\"573\" y=\"114.0449\">/ B</text><text fill=\"#000000\" font-family=\"sans-serif\" font-size=\"12\" font-weight=\"bold\" lengthAdjust=\"spacingAndGlyphs\" textLength=\"26\" x=\"555\" y=\"128.0137\">exit</text><text fill=\"#000000\" font-family=\"sans-serif\" font-size=\"12\" lengthAdjust=\"spacingAndGlyphs\" textLength=\"28\" x=\"581\" y=\"128.0137\">/ act</text></a><!--MD5=[b4997ac47864f28c2f74865a473b2911]\n",
       "class E2--><a href=\"psysml:9b0c6b07-76e0-48e6-88f4-e6a2c752e8e3\" target=\"_top\" title=\"psysml:9b0c6b07-76e0-48e6-88f4-e6a2c752e8e3\" xlink:actuate=\"onRequest\" xlink:href=\"psysml:9b0c6b07-76e0-48e6-88f4-e6a2c752e8e3\" xlink:show=\"new\" xlink:title=\"psysml:9b0c6b07-76e0-48e6-88f4-e6a2c752e8e3\" xlink:type=\"simple\"><rect fill=\"#FEFECE\" filter=\"url(#fc5234nrmj0o6)\" height=\"58.7422\" id=\"E2\" style=\"stroke: #A80036; stroke-width: 1.5;\" width=\"121\" x=\"412.5\" y=\"127.5\"/><ellipse cx=\"427.5\" cy=\"146.4688\" fill=\"#0000FF\" rx=\"11\" ry=\"11\" style=\"stroke: #A80036; stroke-width: 1.0;\"/><path d=\"M428.3438,153.2188 L425.8906,153.2188 L425.8906,142.9688 L422.75,142.9688 L422.75,140.8281 L431.4844,140.8281 L431.4844,142.9688 L428.3438,142.9688 L428.3438,153.2188 Z \"/><text fill=\"#000000\" font-family=\"sans-serif\" font-size=\"12\" font-style=\"italic\" lengthAdjust=\"spacingAndGlyphs\" textLength=\"93\" x=\"439.5\" y=\"143.6387\">«attribute def»</text><text fill=\"#000000\" font-family=\"sans-serif\" font-size=\"12\" lengthAdjust=\"spacingAndGlyphs\" textLength=\"19\" x=\"476.5\" y=\"157.6074\">Sig</text><line style=\"stroke: #A80036; stroke-width: 1.5;\" x1=\"413.5\" x2=\"532.5\" y1=\"165.4375\" y2=\"165.4375\"/><text fill=\"#000000\" font-family=\"sans-serif\" font-size=\"11\" lengthAdjust=\"spacingAndGlyphs\" textLength=\"6\" x=\"418.5\" y=\"179.6479\">x</text></a><!--MD5=[09b614a08d8cba4a07c9adeb5e0fee81]\n",
       "class E3--><a href=\"psysml:75ee6cec-68f4-495e-910b-3cf4854ee540\" target=\"_top\" title=\"psysml:75ee6cec-68f4-495e-910b-3cf4854ee540\" xlink:actuate=\"onRequest\" xlink:href=\"psysml:75ee6cec-68f4-495e-910b-3cf4854ee540\" xlink:show=\"new\" xlink:title=\"psysml:75ee6cec-68f4-495e-910b-3cf4854ee540\" xlink:type=\"simple\"><rect fill=\"#FEFECE\" filter=\"url(#fc5234nrmj0o6)\" height=\"45.9375\" id=\"E3\" style=\"stroke: #A80036; stroke-width: 1.5;\" width=\"121\" x=\"256.5\" y=\"134\"/><ellipse cx=\"271.5\" cy=\"152.9688\" fill=\"#0000FF\" rx=\"11\" ry=\"11\" style=\"stroke: #A80036; stroke-width: 1.0;\"/><path d=\"M272.3438,159.7188 L269.8906,159.7188 L269.8906,149.4688 L266.75,149.4688 L266.75,147.3281 L275.4844,147.3281 L275.4844,149.4688 L272.3438,149.4688 L272.3438,159.7188 Z \"/><text fill=\"#000000\" font-family=\"sans-serif\" font-size=\"12\" font-style=\"italic\" lengthAdjust=\"spacingAndGlyphs\" textLength=\"93\" x=\"283.5\" y=\"150.1387\">«attribute def»</text><text fill=\"#000000\" font-family=\"sans-serif\" font-size=\"12\" lengthAdjust=\"spacingAndGlyphs\" textLength=\"22\" x=\"319\" y=\"164.1074\">Exit</text><line style=\"stroke: #A80036; stroke-width: 1.5;\" x1=\"257.5\" x2=\"376.5\" y1=\"171.9375\" y2=\"171.9375\"/></a><!--MD5=[ebbe1d658d1005bcc118a6aa81145e00]\n",
       "class E4--><a href=\"psysml:d526add9-9153-4d94-82de-e3d10cc7d584\" target=\"_top\" title=\"psysml:d526add9-9153-4d94-82de-e3d10cc7d584\" xlink:actuate=\"onRequest\" xlink:href=\"psysml:d526add9-9153-4d94-82de-e3d10cc7d584\" xlink:show=\"new\" xlink:title=\"psysml:d526add9-9153-4d94-82de-e3d10cc7d584\" xlink:type=\"simple\"><rect fill=\"#FEFECE\" filter=\"url(#fc5234nrmj0o6)\" height=\"45.9375\" id=\"E4\" rx=\"10\" ry=\"10\" style=\"stroke: #A80036; stroke-width: 1.5;\" width=\"68\" x=\"153\" y=\"134\"/><ellipse cx=\"168\" cy=\"152.9688\" fill=\"#0000FF\" rx=\"11\" ry=\"11\" style=\"stroke: #A80036; stroke-width: 1.0;\"/><path d=\"M168.8438,159.7188 L166.3906,159.7188 L166.3906,149.4688 L163.25,149.4688 L163.25,147.3281 L171.9844,147.3281 L171.9844,149.4688 L168.8438,149.4688 L168.8438,159.7188 Z \"/><text fill=\"#000000\" font-family=\"sans-serif\" font-size=\"12\" font-style=\"italic\" lengthAdjust=\"spacingAndGlyphs\" textLength=\"40\" x=\"180\" y=\"150.1387\">«part»</text><text fill=\"#000000\" font-family=\"sans-serif\" font-size=\"12\" lengthAdjust=\"spacingAndGlyphs\" textLength=\"8\" x=\"196\" y=\"164.1074\">p</text><line style=\"stroke: #A80036; stroke-width: 1.5;\" x1=\"154\" x2=\"220\" y1=\"171.9375\" y2=\"171.9375\"/></a><g id=\"E1.E5\"><a href=\"psysml:12bd5d36-0dbf-4715-90c3-b0b875efee55\" target=\"_top\" title=\"psysml:12bd5d36-0dbf-4715-90c3-b0b875efee55\" xlink:actuate=\"onRequest\" xlink:href=\"psysml:12bd5d36-0dbf-4715-90c3-b0b875efee55\" xlink:show=\"new\" xlink:title=\"psysml:12bd5d36-0dbf-4715-90c3-b0b875efee55\" xlink:type=\"simple\"><rect fill=\"#FEFECE\" filter=\"url(#fc5234nrmj0o6)\" height=\"42.9375\" id=\"E5\" rx=\"10\" ry=\"10\" style=\"stroke: #A80036; stroke-width: 1.5;\" width=\"86\" x=\"32\" y=\"135.5\"/><ellipse cx=\"49.25\" cy=\"154.4688\" fill=\"#0000FF\" rx=\"11\" ry=\"11\" style=\"stroke: #A80036; stroke-width: 1.0;\"/><path d=\"M50.0938,161.2188 L47.6406,161.2188 L47.6406,150.9688 L44.5,150.9688 L44.5,148.8281 L53.2344,148.8281 L53.2344,150.9688 L50.0938,150.9688 L50.0938,161.2188 Z \"/><text fill=\"#000000\" font-family=\"sans-serif\" font-size=\"12\" font-style=\"italic\" lengthAdjust=\"spacingAndGlyphs\" textLength=\"53\" x=\"61.75\" y=\"151.6387\">«action»</text><text fill=\"#000000\" font-family=\"sans-serif\" font-size=\"12\" lengthAdjust=\"spacingAndGlyphs\" textLength=\"20\" x=\"78.25\" y=\"165.6074\">act</text></a></g><ellipse cx=\"662\" cy=\"157\" fill=\"#000000\" filter=\"url(#fc5234nrmj0o6)\" rx=\"10\" ry=\"10\" style=\"stroke: none; stroke-width: 1.0;\"/><ellipse cx=\"662\" cy=\"507.5\" fill=\"none\" filter=\"url(#fc5234nrmj0o6)\" rx=\"10\" ry=\"10\" style=\"stroke: #000000; stroke-width: 1.0;\"/><ellipse cx=\"662.5\" cy=\"508\" fill=\"#000000\" rx=\"6\" ry=\"6\" style=\"stroke: none; stroke-width: 1.0;\"/><g id=\"E1.E6.E7\"><a href=\"psysml:1cabaaec-9539-448a-9df0-432fc817479b\" target=\"_top\" title=\"psysml:1cabaaec-9539-448a-9df0-432fc817479b\" xlink:actuate=\"onRequest\" xlink:href=\"psysml:1cabaaec-9539-448a-9df0-432fc817479b\" xlink:show=\"new\" xlink:title=\"psysml:1cabaaec-9539-448a-9df0-432fc817479b\" xlink:type=\"simple\"><rect fill=\"#FEFECE\" filter=\"url(#fc5234nrmj0o6)\" height=\"40\" id=\"E7\" rx=\"10\" ry=\"10\" style=\"stroke: #A80036; stroke-width: 1.5;\" width=\"53\" x=\"635.5\" y=\"247.5\"/><ellipse cx=\"652.75\" cy=\"263.5\" fill=\"#B6DBBB\" rx=\"11\" ry=\"11\" style=\"stroke: #A80036; stroke-width: 1.0;\"/><path d=\"M648.625,265.4219 L648.625,257.6094 L651.0781,257.6094 L651.0781,266.0469 Q651.0781,266.9688 651.5469,267.5 Q652.0313,268.0313 652.8594,268.0313 Q653.7031,268.0313 654.1719,267.5 Q654.6406,266.9688 654.6406,266.0469 L654.6406,257.6094 L657.0938,257.6094 L657.0938,265.4219 Q657.0938,267.9531 656.0938,269.0938 Q655.0938,270.2344 652.8594,270.2344 Q650.6406,270.2344 649.625,269.0938 Q648.625,267.9531 648.625,265.4219 Z \"/><text fill=\"#000000\" font-family=\"sans-serif\" font-size=\"12\" lengthAdjust=\"spacingAndGlyphs\" textLength=\"16\" x=\"667.25\" y=\"267.6543\">S1</text></a></g><g id=\"E1.E6.E8\"><a href=\"psysml:7a7b17a9-f595-41dc-990f-a07a1c17ba3c\" target=\"_top\" title=\"psysml:7a7b17a9-f595-41dc-990f-a07a1c17ba3c\" xlink:actuate=\"onRequest\" xlink:href=\"psysml:7a7b17a9-f595-41dc-990f-a07a1c17ba3c\" xlink:show=\"new\" xlink:title=\"psysml:7a7b17a9-f595-41dc-990f-a07a1c17ba3c\" xlink:type=\"simple\"><rect fill=\"#FEFECE\" filter=\"url(#fc5234nrmj0o6)\" height=\"55.9688\" id=\"E8\" rx=\"10\" ry=\"10\" style=\"stroke: #A80036; stroke-width: 1.5;\" width=\"58\" x=\"633\" y=\"364.5\"/><ellipse cx=\"652.5\" cy=\"380.5\" fill=\"#B6DBBB\" rx=\"11\" ry=\"11\" style=\"stroke: #A80036; stroke-width: 1.0;\"/><path d=\"M648.375,382.4219 L648.375,374.6094 L650.8281,374.6094 L650.8281,383.0469 Q650.8281,383.9688 651.2969,384.5 Q651.7813,385.0313 652.6094,385.0313 Q653.4531,385.0313 653.9219,384.5 Q654.3906,383.9688 654.3906,383.0469 L654.3906,374.6094 L656.8438,374.6094 L656.8438,382.4219 Q656.8438,384.9531 655.8438,386.0938 Q654.8438,387.2344 652.6094,387.2344 Q650.3906,387.2344 649.375,386.0938 Q648.375,384.9531 648.375,382.4219 Z \"/><text fill=\"#000000\" font-family=\"sans-serif\" font-size=\"12\" lengthAdjust=\"spacingAndGlyphs\" textLength=\"16\" x=\"667.5\" y=\"384.6543\">S2</text><line style=\"stroke: #A80036; stroke-width: 1.0;\" x1=\"633\" x2=\"691\" y1=\"396.5\" y2=\"396.5\"/><text fill=\"#000000\" font-family=\"sans-serif\" font-size=\"12\" font-weight=\"bold\" lengthAdjust=\"spacingAndGlyphs\" textLength=\"18\" x=\"638\" y=\"409.6387\">do</text><text fill=\"#000000\" font-family=\"sans-serif\" font-size=\"12\" lengthAdjust=\"spacingAndGlyphs\" textLength=\"4\" x=\"656\" y=\"409.6387\">/</text></a></g><!--MD5=[5a531d3a85f3339e6e197084acb48195]\n",
       "link *start*E6 to E7--><a href=\"psysml:0b737fa2-1baa-4df5-913b-a090a33456a1\" target=\"_top\" title=\"psysml:0b737fa2-1baa-4df5-913b-a090a33456a1\" xlink:actuate=\"onRequest\" xlink:href=\"psysml:0b737fa2-1baa-4df5-913b-a090a33456a1\" xlink:show=\"new\" xlink:title=\"psysml:0b737fa2-1baa-4df5-913b-a090a33456a1\" xlink:type=\"simple\"><path d=\"M662,167.25 C662,183.64 662,218.28 662,241.97 \" fill=\"none\" id=\"*start*E6-&gt;E7\" style=\"stroke: #A80036; stroke-width: 1.0;\"/><polygon fill=\"#A80036\" points=\"662,247.15,666,238.15,662,242.15,658,238.15,662,247.15\" style=\"stroke: #A80036; stroke-width: 1.0;\"/></a><!--MD5=[7ec9a8babba89ddcae1318ca9fb3c814]\n",
       "link E8 to *end*E6--><a href=\"psysml:a8c9411f-d651-41a0-86c1-118f6cba8c1d\" target=\"_top\" title=\"psysml:a8c9411f-d651-41a0-86c1-118f6cba8c1d\" xlink:actuate=\"onRequest\" xlink:href=\"psysml:a8c9411f-d651-41a0-86c1-118f6cba8c1d\" xlink:show=\"new\" xlink:title=\"psysml:a8c9411f-d651-41a0-86c1-118f6cba8c1d\" xlink:type=\"simple\"><path d=\"M662,420.57 C662,443.05 662,474.17 662,492.13 \" fill=\"none\" id=\"E8-&gt;*end*E6\" style=\"stroke: #A80036; stroke-width: 1.0;\"/><polygon fill=\"#A80036\" points=\"662,497.26,666,488.26,662,492.26,658,488.26,662,497.26\" style=\"stroke: #A80036; stroke-width: 1.0;\"/><text fill=\"#000000\" font-family=\"sans-serif\" font-size=\"13\" lengthAdjust=\"spacingAndGlyphs\" textLength=\"23\" x=\"663\" y=\"463.5669\">Exit</text></a><!--MD5=[79bc8f324ef4d02c541433f2e6e513c3]\n",
       "link E7 to E8--><a href=\"psysml:eefcc534-c981-4425-9bf3-38251bd12a49\" target=\"_top\" title=\"psysml:eefcc534-c981-4425-9bf3-38251bd12a49\" xlink:actuate=\"onRequest\" xlink:href=\"psysml:eefcc534-c981-4425-9bf3-38251bd12a49\" xlink:show=\"new\" xlink:title=\"psysml:eefcc534-c981-4425-9bf3-38251bd12a49\" xlink:type=\"simple\"><path d=\"M635.25,280.67 C613.47,292.49 587.88,311.93 598,334.5 C604.51,349.01 616.74,361.35 628.79,370.79 \" fill=\"none\" id=\"E7-&gt;E8\" style=\"stroke: #A80036; stroke-width: 1.0;\"/><polygon fill=\"#A80036\" points=\"632.86,373.88,628.0945,365.2609,628.872,370.864,623.2689,371.6416,632.86,373.88\" style=\"stroke: #A80036; stroke-width: 1.0;\"/><text fill=\"#000000\" font-family=\"sans-serif\" font-size=\"13\" lengthAdjust=\"spacingAndGlyphs\" textLength=\"81\" x=\"599\" y=\"330.5669\">Sig /action D</text></a><!--MD5=[bfa3c8b0d15052fdf50ae9310b491027]\n",
       "link E8 to E7--><a href=\"psysml:bcd703ca-2055-4c24-98bc-6c579eb31483\" target=\"_top\" title=\"psysml:bcd703ca-2055-4c24-98bc-6c579eb31483\" xlink:actuate=\"onRequest\" xlink:href=\"psysml:bcd703ca-2055-4c24-98bc-6c579eb31483\" xlink:show=\"new\" xlink:title=\"psysml:bcd703ca-2055-4c24-98bc-6c579eb31483\" xlink:type=\"simple\"><path d=\"M677.55,364.38 C683.68,350.5 688.51,333.26 685,317.5 C683.1,308.99 679.56,300.22 675.82,292.49 \" fill=\"none\" id=\"E8-&gt;E7\" style=\"stroke: #A80036; stroke-width: 1.0;\"/><polygon fill=\"#A80036\" points=\"673.47,287.82,673.9298,297.6581,675.7118,292.2893,681.0806,294.0713,673.47,287.82\" style=\"stroke: #A80036; stroke-width: 1.0;\"/><text fill=\"#000000\" font-family=\"sans-serif\" font-size=\"13\" lengthAdjust=\"spacingAndGlyphs\" textLength=\"135\" x=\"687\" y=\"330.5669\">Sig [true]/send s to p</text></a><!--MD5=[c2f47b03b57319b0b1319f4c53fab9a1]\n",
       "@startuml\r\n",
       " \r\n",
       "package \"StateTest\" as E1  [[psysml:a2ca8720-bd4b-4556-9b27-091331149f1f ]]  {\r\n",
       "comp def \"Sig\" as E2  <<(T,blue)attribute def>> [[psysml:9b0c6b07-76e0-48e6-88f4-e6a2c752e8e3 ]] {\r\n",
       "x\r\n",
       "}\r\n",
       "comp def \"Exit\" as E3  <<(T,blue)attribute def>> [[psysml:75ee6cec-68f4-495e-910b-3cf4854ee540 ]] {\r\n",
       "}\r\n",
       "comp usage \"p\" as E4  <<(T,blue)part>> [[psysml:d526add9-9153-4d94-82de-e3d10cc7d584 ]] {\r\n",
       "}\r\n",
       "rec usage \"act\" as E5  <<(T,blue)action>> [[psysml:12bd5d36-0dbf-4715-90c3-b0b875efee55 ]] {\r\n",
       "}\r\n",
       "\r\n",
       "rec def \"S\" as E6  <<(T,blue)state def>> [[psysml:b6aa9f25-72f8-4c2c-a7be-6589070e9bf6 ]] {\r\n",
       "rec usage \"S1\" as E7 [[psysml:1cabaaec-9539-448a-9df0-432fc817479b ]] {\r\n",
       "}\r\n",
       "\r\n",
       "rec usage \"S2\" as E8 [[psysml:7a7b17a9-f595-41dc-990f-a07a1c17ba3c ]] {\r\n",
       "desc \"S2\" as E8  : **do**/ \r\n",
       "}\r\n",
       "\r\n",
       "[*] - -> E7 [[psysml:0b737fa2-1baa-4df5-913b-a090a33456a1 ]] \r\n",
       "E8  - -> [*] [[psysml:a8c9411f-d651-41a0-86c1-118f6cba8c1d ]] : Exit \r\n",
       "desc \"S\" as E6  : **entry**/ A\r\n",
       "desc \"S\" as E6  : **do**/ B\r\n",
       "desc \"S\" as E6  : **exit**/ act \r\n",
       "}\r\n",
       "\r\n",
       "E7  - -> E8 [[psysml:eefcc534-c981-4425-9bf3-38251bd12a49 ]] : Sig /action D\r\n",
       "E8  - -> E7 [[psysml:bcd703ca-2055-4c24-98bc-6c579eb31483 ]] : Sig [true]/send s to p\r\n",
       "}\r\n",
       "@enduml\r\n",
       "\n",
       "PlantUML version 1.2020.13(Sat Jun 13 12:26:38 UTC 2020)\n",
       "(EPL source distribution)\n",
       "Java Runtime: OpenJDK Runtime Environment\n",
       "JVM: OpenJDK 64-Bit Server VM\n",
       "Default Encoding: UTF-8\n",
       "Language: en\n",
       "Country: null\n",
       "--></g></svg>"
      ]
     },
     "execution_count": 8,
     "metadata": {},
     "output_type": "execute_result"
    }
   ],
   "source": [
    "%viz --style=\"COMPTREE\" --view=\"MIXED\" \"StateTest\""
   ]
  },
  {
   "cell_type": "code",
   "execution_count": 9,
   "id": "outdoor-spectacular",
   "metadata": {
    "execution": {
     "iopub.execute_input": "2021-03-25T15:06:54.483801Z",
     "iopub.status.busy": "2021-03-25T15:06:54.483219Z",
     "iopub.status.idle": "2021-03-25T15:06:54.685359Z",
     "shell.execute_reply": "2021-03-25T15:06:54.685850Z"
    }
   },
   "outputs": [
    {
     "data": {
      "image/svg+xml": [
       "<?xml version=\"1.0\" encoding=\"UTF-8\" standalone=\"no\"?><svg xmlns=\"http://www.w3.org/2000/svg\" xmlns:xlink=\"http://www.w3.org/1999/xlink\" contentScriptType=\"application/ecmascript\" contentStyleType=\"text/css\" height=\"570px\" preserveAspectRatio=\"none\" style=\"width:819px;height:570px;\" version=\"1.1\" viewBox=\"0 0 819 570\" width=\"819px\" zoomAndPan=\"magnify\"><defs/><g><!--MD5=[fbc87193dbaf4d95561dea2c320d4a47]\n",
       "cluster E1--><a href=\"psysml:a2ca8720-bd4b-4556-9b27-091331149f1f\" target=\"_top\" title=\"psysml:a2ca8720-bd4b-4556-9b27-091331149f1f\" xlink:actuate=\"onRequest\" xlink:href=\"psysml:a2ca8720-bd4b-4556-9b27-091331149f1f\" xlink:show=\"new\" xlink:title=\"psysml:a2ca8720-bd4b-4556-9b27-091331149f1f\" xlink:type=\"simple\"><polygon fill=\"#FFFFFF\" points=\"16,6,98,6,105,28.2969,797,28.2969,797,558,16,558,16,6\" style=\"stroke: #000000; stroke-width: 1.5;\"/><line style=\"stroke: #000000; stroke-width: 1.5;\" x1=\"16\" x2=\"105\" y1=\"28.2969\" y2=\"28.2969\"/><text fill=\"#000000\" font-family=\"sans-serif\" font-size=\"14\" font-weight=\"bold\" lengthAdjust=\"spacingAndGlyphs\" textLength=\"76\" x=\"20\" y=\"20.9951\">StateTest</text></a><!--MD5=[14e3b0961a2654348d326746436168a1]\n",
       "cluster E6--><a href=\"psysml:b6aa9f25-72f8-4c2c-a7be-6589070e9bf6\" target=\"_top\" title=\"psysml:b6aa9f25-72f8-4c2c-a7be-6589070e9bf6\" xlink:actuate=\"onRequest\" xlink:href=\"psysml:b6aa9f25-72f8-4c2c-a7be-6589070e9bf6\" xlink:show=\"new\" xlink:title=\"psysml:b6aa9f25-72f8-4c2c-a7be-6589070e9bf6\" xlink:type=\"simple\"><rect fill=\"#FFFFFF\" height=\"485\" id=\"E6\" style=\"stroke: #383838; stroke-width: 1.5;\" width=\"327\" x=\"446\" y=\"49\"/><rect fill=\"#F8F8F8\" height=\"37.9375\" style=\"stroke: #383838; stroke-width: 1.5;\" width=\"327\" x=\"446\" y=\"49\"/><text fill=\"#000000\" font-family=\"sans-serif\" font-size=\"12\" font-style=\"italic\" lengthAdjust=\"spacingAndGlyphs\" textLength=\"71\" x=\"574\" y=\"65.1387\">«state def»</text><text fill=\"#000000\" font-family=\"sans-serif\" font-size=\"12\" lengthAdjust=\"spacingAndGlyphs\" textLength=\"8\" x=\"605.5\" y=\"79.1074\">S</text><line style=\"stroke: #383838; stroke-width: 1.0;\" x1=\"446\" x2=\"773\" y1=\"132.8438\" y2=\"132.8438\"/><text fill=\"#000000\" font-family=\"sans-serif\" font-size=\"12\" font-weight=\"bold\" lengthAdjust=\"spacingAndGlyphs\" textLength=\"38\" x=\"451\" y=\"100.0762\">entry</text><text fill=\"#000000\" font-family=\"sans-serif\" font-size=\"12\" lengthAdjust=\"spacingAndGlyphs\" textLength=\"16\" x=\"489\" y=\"100.0762\">/ A</text><text fill=\"#000000\" font-family=\"sans-serif\" font-size=\"12\" font-weight=\"bold\" lengthAdjust=\"spacingAndGlyphs\" textLength=\"18\" x=\"451\" y=\"114.0449\">do</text><text fill=\"#000000\" font-family=\"sans-serif\" font-size=\"12\" lengthAdjust=\"spacingAndGlyphs\" textLength=\"16\" x=\"469\" y=\"114.0449\">/ B</text><text fill=\"#000000\" font-family=\"sans-serif\" font-size=\"12\" font-weight=\"bold\" lengthAdjust=\"spacingAndGlyphs\" textLength=\"26\" x=\"451\" y=\"128.0137\">exit</text><text fill=\"#000000\" font-family=\"sans-serif\" font-size=\"12\" lengthAdjust=\"spacingAndGlyphs\" textLength=\"28\" x=\"477\" y=\"128.0137\">/ act</text></a><!--MD5=[b4997ac47864f28c2f74865a473b2911]\n",
       "class E2--><a href=\"psysml:9b0c6b07-76e0-48e6-88f4-e6a2c752e8e3\" target=\"_top\" title=\"psysml:9b0c6b07-76e0-48e6-88f4-e6a2c752e8e3\" xlink:actuate=\"onRequest\" xlink:href=\"psysml:9b0c6b07-76e0-48e6-88f4-e6a2c752e8e3\" xlink:show=\"new\" xlink:title=\"psysml:9b0c6b07-76e0-48e6-88f4-e6a2c752e8e3\" xlink:type=\"simple\"><rect fill=\"#FFFFFF\" height=\"75.5469\" id=\"E2\" style=\"stroke: #383838; stroke-width: 1.5;\" width=\"95\" x=\"334.5\" y=\"119\"/><text fill=\"#000000\" font-family=\"sans-serif\" font-size=\"12\" font-style=\"italic\" lengthAdjust=\"spacingAndGlyphs\" textLength=\"93\" x=\"335.5\" y=\"135.1387\">«attribute def»</text><text fill=\"#000000\" font-family=\"sans-serif\" font-size=\"12\" lengthAdjust=\"spacingAndGlyphs\" textLength=\"19\" x=\"372.5\" y=\"149.1074\">Sig</text><line style=\"stroke: #383838; stroke-width: 1.5;\" x1=\"335.5\" x2=\"428.5\" y1=\"156.9375\" y2=\"156.9375\"/><text fill=\"#000000\" font-family=\"sans-serif\" font-size=\"11\" lengthAdjust=\"spacingAndGlyphs\" textLength=\"6\" x=\"340.5\" y=\"187.9526\">x</text><line style=\"stroke: #383838; stroke-width: 1.0;\" x1=\"335.5\" x2=\"354.5\" y1=\"171.3398\" y2=\"171.3398\"/><text fill=\"#000000\" font-family=\"sans-serif\" font-size=\"11\" lengthAdjust=\"spacingAndGlyphs\" textLength=\"55\" x=\"354.5\" y=\"174.6479\">attributes</text><line style=\"stroke: #383838; stroke-width: 1.0;\" x1=\"409.5\" x2=\"428.5\" y1=\"171.3398\" y2=\"171.3398\"/></a><!--MD5=[09b614a08d8cba4a07c9adeb5e0fee81]\n",
       "class E3--><a href=\"psysml:75ee6cec-68f4-495e-910b-3cf4854ee540\" target=\"_top\" title=\"psysml:75ee6cec-68f4-495e-910b-3cf4854ee540\" xlink:actuate=\"onRequest\" xlink:href=\"psysml:75ee6cec-68f4-495e-910b-3cf4854ee540\" xlink:show=\"new\" xlink:title=\"psysml:75ee6cec-68f4-495e-910b-3cf4854ee540\" xlink:type=\"simple\"><rect fill=\"#FFFFFF\" height=\"45.9375\" id=\"E3\" style=\"stroke: #383838; stroke-width: 1.5;\" width=\"95\" x=\"204.5\" y=\"134\"/><text fill=\"#000000\" font-family=\"sans-serif\" font-size=\"12\" font-style=\"italic\" lengthAdjust=\"spacingAndGlyphs\" textLength=\"93\" x=\"205.5\" y=\"150.1387\">«attribute def»</text><text fill=\"#000000\" font-family=\"sans-serif\" font-size=\"12\" lengthAdjust=\"spacingAndGlyphs\" textLength=\"22\" x=\"241\" y=\"164.1074\">Exit</text><line style=\"stroke: #383838; stroke-width: 1.5;\" x1=\"205.5\" x2=\"298.5\" y1=\"171.9375\" y2=\"171.9375\"/></a><!--MD5=[ebbe1d658d1005bcc118a6aa81145e00]\n",
       "class E4--><a href=\"psysml:d526add9-9153-4d94-82de-e3d10cc7d584\" target=\"_top\" title=\"psysml:d526add9-9153-4d94-82de-e3d10cc7d584\" xlink:actuate=\"onRequest\" xlink:href=\"psysml:d526add9-9153-4d94-82de-e3d10cc7d584\" xlink:show=\"new\" xlink:title=\"psysml:d526add9-9153-4d94-82de-e3d10cc7d584\" xlink:type=\"simple\"><rect fill=\"#FFFFFF\" height=\"45.9375\" id=\"E4\" rx=\"10\" ry=\"10\" style=\"stroke: #383838; stroke-width: 1.5;\" width=\"42\" x=\"127\" y=\"134\"/><text fill=\"#000000\" font-family=\"sans-serif\" font-size=\"12\" font-style=\"italic\" lengthAdjust=\"spacingAndGlyphs\" textLength=\"40\" x=\"128\" y=\"150.1387\">«part»</text><text fill=\"#000000\" font-family=\"sans-serif\" font-size=\"12\" lengthAdjust=\"spacingAndGlyphs\" textLength=\"8\" x=\"144\" y=\"164.1074\">p</text><line style=\"stroke: #383838; stroke-width: 1.5;\" x1=\"128\" x2=\"168\" y1=\"171.9375\" y2=\"171.9375\"/></a><g id=\"E1.E5\"><a href=\"psysml:12bd5d36-0dbf-4715-90c3-b0b875efee55\" target=\"_top\" title=\"psysml:12bd5d36-0dbf-4715-90c3-b0b875efee55\" xlink:actuate=\"onRequest\" xlink:href=\"psysml:12bd5d36-0dbf-4715-90c3-b0b875efee55\" xlink:show=\"new\" xlink:title=\"psysml:12bd5d36-0dbf-4715-90c3-b0b875efee55\" xlink:type=\"simple\"><rect fill=\"#FFFFFF\" height=\"42.9375\" id=\"E5\" rx=\"10\" ry=\"10\" style=\"stroke: #383838; stroke-width: 1.5;\" width=\"60\" x=\"32\" y=\"135.5\"/><rect fill=\"#F8F8F8\" height=\"37.9375\" rx=\"10\" ry=\"10\" style=\"stroke: #F8F8F8; stroke-width: 1.5;\" width=\"60\" x=\"32\" y=\"135.5\"/><rect fill=\"#F8F8F8\" height=\"10\" style=\"stroke: #F8F8F8; stroke-width: 1.5;\" width=\"60\" x=\"32\" y=\"163.4375\"/><rect fill=\"none\" height=\"42.9375\" id=\"E5\" rx=\"10\" ry=\"10\" style=\"stroke: #383838; stroke-width: 1.5;\" width=\"60\" x=\"32\" y=\"135.5\"/><text fill=\"#000000\" font-family=\"sans-serif\" font-size=\"12\" font-style=\"italic\" lengthAdjust=\"spacingAndGlyphs\" textLength=\"53\" x=\"35.5\" y=\"151.6387\">«action»</text><text fill=\"#000000\" font-family=\"sans-serif\" font-size=\"12\" lengthAdjust=\"spacingAndGlyphs\" textLength=\"20\" x=\"52\" y=\"165.6074\">act</text></a></g><ellipse cx=\"558\" cy=\"157\" fill=\"#000000\" rx=\"10\" ry=\"10\" style=\"stroke: none; stroke-width: 1.0;\"/><ellipse cx=\"558\" cy=\"508\" fill=\"none\" rx=\"10\" ry=\"10\" style=\"stroke: #000000; stroke-width: 1.0;\"/><ellipse cx=\"558.5\" cy=\"508.5\" fill=\"#000000\" rx=\"6\" ry=\"6\" style=\"stroke: none; stroke-width: 1.0;\"/><g id=\"E1.E6.E7\"><a href=\"psysml:1cabaaec-9539-448a-9df0-432fc817479b\" target=\"_top\" title=\"psysml:1cabaaec-9539-448a-9df0-432fc817479b\" xlink:actuate=\"onRequest\" xlink:href=\"psysml:1cabaaec-9539-448a-9df0-432fc817479b\" xlink:show=\"new\" xlink:title=\"psysml:1cabaaec-9539-448a-9df0-432fc817479b\" xlink:type=\"simple\"><rect fill=\"#FFFFFF\" height=\"40\" id=\"E7\" rx=\"10\" ry=\"10\" style=\"stroke: #383838; stroke-width: 1.5;\" width=\"50\" x=\"533\" y=\"256\"/><rect fill=\"#F8F8F8\" height=\"23.9688\" rx=\"10\" ry=\"10\" style=\"stroke: #F8F8F8; stroke-width: 1.5;\" width=\"50\" x=\"533\" y=\"256\"/><rect fill=\"#F8F8F8\" height=\"10\" style=\"stroke: #F8F8F8; stroke-width: 1.5;\" width=\"50\" x=\"533\" y=\"269.9688\"/><rect fill=\"none\" height=\"40\" id=\"E7\" rx=\"10\" ry=\"10\" style=\"stroke: #383838; stroke-width: 1.5;\" width=\"50\" x=\"533\" y=\"256\"/><text fill=\"#000000\" font-family=\"sans-serif\" font-size=\"12\" lengthAdjust=\"spacingAndGlyphs\" textLength=\"16\" x=\"550\" y=\"272.1387\">S1</text></a></g><g id=\"E1.E6.E8\"><a href=\"psysml:7a7b17a9-f595-41dc-990f-a07a1c17ba3c\" target=\"_top\" title=\"psysml:7a7b17a9-f595-41dc-990f-a07a1c17ba3c\" xlink:actuate=\"onRequest\" xlink:href=\"psysml:7a7b17a9-f595-41dc-990f-a07a1c17ba3c\" xlink:show=\"new\" xlink:title=\"psysml:7a7b17a9-f595-41dc-990f-a07a1c17ba3c\" xlink:type=\"simple\"><rect fill=\"#FFFFFF\" height=\"47.9375\" id=\"E8\" rx=\"10\" ry=\"10\" style=\"stroke: #383838; stroke-width: 1.5;\" width=\"50\" x=\"533\" y=\"373\"/><rect fill=\"#F8F8F8\" height=\"23.9688\" rx=\"10\" ry=\"10\" style=\"stroke: #F8F8F8; stroke-width: 1.5;\" width=\"50\" x=\"533\" y=\"373\"/><rect fill=\"#F8F8F8\" height=\"10\" style=\"stroke: #F8F8F8; stroke-width: 1.5;\" width=\"50\" x=\"533\" y=\"386.9688\"/><rect fill=\"none\" height=\"47.9375\" id=\"E8\" rx=\"10\" ry=\"10\" style=\"stroke: #383838; stroke-width: 1.5;\" width=\"50\" x=\"533\" y=\"373\"/><text fill=\"#000000\" font-family=\"sans-serif\" font-size=\"12\" lengthAdjust=\"spacingAndGlyphs\" textLength=\"16\" x=\"550\" y=\"389.1387\">S2</text><line style=\"stroke: #383838; stroke-width: 1.0;\" x1=\"533\" x2=\"583\" y1=\"396.9688\" y2=\"396.9688\"/><text fill=\"#000000\" font-family=\"sans-serif\" font-size=\"12\" font-weight=\"bold\" lengthAdjust=\"spacingAndGlyphs\" textLength=\"18\" x=\"538\" y=\"410.1074\">do</text><text fill=\"#000000\" font-family=\"sans-serif\" font-size=\"12\" lengthAdjust=\"spacingAndGlyphs\" textLength=\"4\" x=\"556\" y=\"410.1074\">/</text></a></g><!--MD5=[5a531d3a85f3339e6e197084acb48195]\n",
       "link *start*E6 to E7--><a href=\"psysml:0b737fa2-1baa-4df5-913b-a090a33456a1\" target=\"_top\" title=\"psysml:0b737fa2-1baa-4df5-913b-a090a33456a1\" xlink:actuate=\"onRequest\" xlink:href=\"psysml:0b737fa2-1baa-4df5-913b-a090a33456a1\" xlink:show=\"new\" xlink:title=\"psysml:0b737fa2-1baa-4df5-913b-a090a33456a1\" xlink:type=\"simple\"><path d=\"M558,167.18 C558,184.98 558,224.73 558,250.67 \" fill=\"none\" id=\"*start*E6-&gt;E7\" style=\"stroke: #383838; stroke-width: 1.0;\"/><polygon fill=\"#383838\" points=\"558,255.98,562,246.98,558,250.98,554,246.98,558,255.98\" style=\"stroke: #383838; stroke-width: 1.0;\"/></a><!--MD5=[7ec9a8babba89ddcae1318ca9fb3c814]\n",
       "link E8 to *end*E6--><a href=\"psysml:a8c9411f-d651-41a0-86c1-118f6cba8c1d\" target=\"_top\" title=\"psysml:a8c9411f-d651-41a0-86c1-118f6cba8c1d\" xlink:actuate=\"onRequest\" xlink:href=\"psysml:a8c9411f-d651-41a0-86c1-118f6cba8c1d\" xlink:show=\"new\" xlink:title=\"psysml:a8c9411f-d651-41a0-86c1-118f6cba8c1d\" xlink:type=\"simple\"><path d=\"M558,421.12 C558,442.75 558,474.39 558,492.62 \" fill=\"none\" id=\"E8-&gt;*end*E6\" style=\"stroke: #383838; stroke-width: 1.0;\"/><polygon fill=\"#383838\" points=\"558,497.82,562,488.82,558,492.82,554,488.82,558,497.82\" style=\"stroke: #383838; stroke-width: 1.0;\"/><text fill=\"#000000\" font-family=\"sans-serif\" font-size=\"13\" lengthAdjust=\"spacingAndGlyphs\" textLength=\"23\" x=\"559\" y=\"464.0669\">Exit</text></a><!--MD5=[79bc8f324ef4d02c541433f2e6e513c3]\n",
       "link E7 to E8--><a href=\"psysml:eefcc534-c981-4425-9bf3-38251bd12a49\" target=\"_top\" title=\"psysml:eefcc534-c981-4425-9bf3-38251bd12a49\" xlink:actuate=\"onRequest\" xlink:href=\"psysml:eefcc534-c981-4425-9bf3-38251bd12a49\" xlink:show=\"new\" xlink:title=\"psysml:eefcc534-c981-4425-9bf3-38251bd12a49\" xlink:type=\"simple\"><path d=\"M533.07,296.08 C515.1,309.84 494,326 494,326 C494,326 494,343 494,343 C494,343 511.69,357.65 528.47,371.55 \" fill=\"none\" id=\"E7-&gt;E8\" style=\"stroke: #383838; stroke-width: 1.0;\"/><polygon fill=\"#383838\" points=\"532.71,375.05,528.3341,366.2267,528.8607,371.8589,523.2284,372.3855,532.71,375.05\" style=\"stroke: #383838; stroke-width: 1.0;\"/><text fill=\"#000000\" font-family=\"sans-serif\" font-size=\"13\" lengthAdjust=\"spacingAndGlyphs\" textLength=\"81\" x=\"495\" y=\"339.0669\">Sig /action D</text></a><!--MD5=[bfa3c8b0d15052fdf50ae9310b491027]\n",
       "link E8 to E7--><a href=\"psysml:bcd703ca-2055-4c24-98bc-6c579eb31483\" target=\"_top\" title=\"psysml:bcd703ca-2055-4c24-98bc-6c579eb31483\" xlink:actuate=\"onRequest\" xlink:href=\"psysml:bcd703ca-2055-4c24-98bc-6c579eb31483\" xlink:show=\"new\" xlink:title=\"psysml:bcd703ca-2055-4c24-98bc-6c579eb31483\" xlink:type=\"simple\"><path d=\"M568.02,372.91 C574.22,358.63 581,343 581,343 C581,343 581,326 581,326 C581,326 574.98,313.18 569.11,300.66 \" fill=\"none\" id=\"E8-&gt;E7\" style=\"stroke: #383838; stroke-width: 1.0;\"/><polygon fill=\"#383838\" points=\"566.96,296.08,567.1429,305.9272,569.0752,300.6106,574.3918,302.5428,566.96,296.08\" style=\"stroke: #383838; stroke-width: 1.0;\"/><text fill=\"#000000\" font-family=\"sans-serif\" font-size=\"13\" lengthAdjust=\"spacingAndGlyphs\" textLength=\"135\" x=\"582\" y=\"339.0669\">Sig [true]/send s to p</text></a><!--MD5=[b1129eafcb68d42da2f264e8451b9fa0]\n",
       "@startuml\r\n",
       "skinparam linetype polyline\r\n",
       "skinparam monochrome true\r\n",
       "skinparam classbackgroundcolor white\r\n",
       "skinparam shadowing false\r\n",
       "skinparam wrapWidth 300\r\n",
       "hide circle\r\n",
       "\r\n",
       "package \"StateTest\" as E1  [[psysml:a2ca8720-bd4b-4556-9b27-091331149f1f ]]  {\r\n",
       "comp def \"Sig\" as E2  <<(T,blue)attribute def>> [[psysml:9b0c6b07-76e0-48e6-88f4-e6a2c752e8e3 ]] {\r\n",
       "- - attributes - -\r\n",
       "x\r\n",
       "}\r\n",
       "comp def \"Exit\" as E3  <<(T,blue)attribute def>> [[psysml:75ee6cec-68f4-495e-910b-3cf4854ee540 ]] {\r\n",
       "}\r\n",
       "comp usage \"p\" as E4  <<(T,blue)part>> [[psysml:d526add9-9153-4d94-82de-e3d10cc7d584 ]] {\r\n",
       "}\r\n",
       "rec usage \"act\" as E5  <<(T,blue)action>> [[psysml:12bd5d36-0dbf-4715-90c3-b0b875efee55 ]] {\r\n",
       "}\r\n",
       "\r\n",
       "rec def \"S\" as E6  <<(T,blue)state def>> [[psysml:b6aa9f25-72f8-4c2c-a7be-6589070e9bf6 ]] {\r\n",
       "rec usage \"S1\" as E7 [[psysml:1cabaaec-9539-448a-9df0-432fc817479b ]] {\r\n",
       "}\r\n",
       "\r\n",
       "rec usage \"S2\" as E8 [[psysml:7a7b17a9-f595-41dc-990f-a07a1c17ba3c ]] {\r\n",
       "desc \"S2\" as E8  : **do**/ \r\n",
       "}\r\n",
       "\r\n",
       "[*] - -> E7 [[psysml:0b737fa2-1baa-4df5-913b-a090a33456a1 ]] \r\n",
       "E8  - -> [*] [[psysml:a8c9411f-d651-41a0-86c1-118f6cba8c1d ]] : Exit \r\n",
       "desc \"S\" as E6  : **entry**/ A\r\n",
       "desc \"S\" as E6  : **do**/ B\r\n",
       "desc \"S\" as E6  : **exit**/ act \r\n",
       "}\r\n",
       "\r\n",
       "E7  - -> E8 [[psysml:eefcc534-c981-4425-9bf3-38251bd12a49 ]] : Sig /action D\r\n",
       "E8  - -> E7 [[psysml:bcd703ca-2055-4c24-98bc-6c579eb31483 ]] : Sig [true]/send s to p\r\n",
       "}\r\n",
       "@enduml\r\n",
       "\n",
       "PlantUML version 1.2020.13(Sat Jun 13 12:26:38 UTC 2020)\n",
       "(EPL source distribution)\n",
       "Java Runtime: OpenJDK Runtime Environment\n",
       "JVM: OpenJDK 64-Bit Server VM\n",
       "Default Encoding: UTF-8\n",
       "Language: en\n",
       "Country: null\n",
       "--></g></svg>"
      ]
     },
     "execution_count": 9,
     "metadata": {},
     "output_type": "execute_result"
    }
   ],
   "source": [
    "%viz --style=\"POLYLINE\" --view=\"Default\" \"StateTest\""
   ]
  },
  {
   "cell_type": "code",
   "execution_count": 10,
   "id": "extra-bachelor",
   "metadata": {
    "execution": {
     "iopub.execute_input": "2021-03-25T15:06:54.736551Z",
     "iopub.status.busy": "2021-03-25T15:06:54.736026Z",
     "iopub.status.idle": "2021-03-25T15:06:55.199245Z",
     "shell.execute_reply": "2021-03-25T15:06:55.199616Z"
    }
   },
   "outputs": [
    {
     "data": {
      "image/svg+xml": [
       "<?xml version=\"1.0\" encoding=\"UTF-8\" standalone=\"no\"?><svg xmlns=\"http://www.w3.org/2000/svg\" xmlns:xlink=\"http://www.w3.org/1999/xlink\" contentScriptType=\"application/ecmascript\" contentStyleType=\"text/css\" height=\"471px\" preserveAspectRatio=\"none\" style=\"width:594px;height:471px;\" version=\"1.1\" viewBox=\"0 0 594 471\" width=\"594px\" zoomAndPan=\"magnify\"><defs/><g><!--MD5=[fbc87193dbaf4d95561dea2c320d4a47]\n",
       "cluster E1--><a href=\"psysml:a2ca8720-bd4b-4556-9b27-091331149f1f\" target=\"_top\" title=\"psysml:a2ca8720-bd4b-4556-9b27-091331149f1f\" xlink:actuate=\"onRequest\" xlink:href=\"psysml:a2ca8720-bd4b-4556-9b27-091331149f1f\" xlink:show=\"new\" xlink:title=\"psysml:a2ca8720-bd4b-4556-9b27-091331149f1f\" xlink:type=\"simple\"><polygon fill=\"#FFFFFF\" points=\"16,6,98,6,105,28.2969,572,28.2969,572,459,16,459,16,6\" style=\"stroke: #000000; stroke-width: 1.5;\"/><line style=\"stroke: #000000; stroke-width: 1.5;\" x1=\"16\" x2=\"105\" y1=\"28.2969\" y2=\"28.2969\"/><text fill=\"#000000\" font-family=\"sans-serif\" font-size=\"14\" font-weight=\"bold\" lengthAdjust=\"spacingAndGlyphs\" textLength=\"76\" x=\"20\" y=\"20.9951\">StateTest</text></a><!--MD5=[b4997ac47864f28c2f74865a473b2911]\n",
       "class E2--><a href=\"psysml:9b0c6b07-76e0-48e6-88f4-e6a2c752e8e3\" target=\"_top\" title=\"psysml:9b0c6b07-76e0-48e6-88f4-e6a2c752e8e3\" xlink:actuate=\"onRequest\" xlink:href=\"psysml:9b0c6b07-76e0-48e6-88f4-e6a2c752e8e3\" xlink:show=\"new\" xlink:title=\"psysml:9b0c6b07-76e0-48e6-88f4-e6a2c752e8e3\" xlink:type=\"simple\"><rect fill=\"#FFFFFF\" height=\"75.5469\" id=\"E2\" style=\"stroke: #383838; stroke-width: 1.5;\" width=\"95\" x=\"460.5\" y=\"83\"/><text fill=\"#000000\" font-family=\"sans-serif\" font-size=\"12\" font-style=\"italic\" lengthAdjust=\"spacingAndGlyphs\" textLength=\"93\" x=\"461.5\" y=\"99.1387\">«attribute def»</text><text fill=\"#000000\" font-family=\"sans-serif\" font-size=\"12\" lengthAdjust=\"spacingAndGlyphs\" textLength=\"19\" x=\"498.5\" y=\"113.1074\">Sig</text><line style=\"stroke: #383838; stroke-width: 1.5;\" x1=\"461.5\" x2=\"554.5\" y1=\"120.9375\" y2=\"120.9375\"/><text fill=\"#000000\" font-family=\"sans-serif\" font-size=\"11\" lengthAdjust=\"spacingAndGlyphs\" textLength=\"6\" x=\"466.5\" y=\"151.9526\">x</text><line style=\"stroke: #383838; stroke-width: 1.0;\" x1=\"461.5\" x2=\"480.5\" y1=\"135.3398\" y2=\"135.3398\"/><text fill=\"#000000\" font-family=\"sans-serif\" font-size=\"11\" lengthAdjust=\"spacingAndGlyphs\" textLength=\"55\" x=\"480.5\" y=\"138.6479\">attributes</text><line style=\"stroke: #383838; stroke-width: 1.0;\" x1=\"535.5\" x2=\"554.5\" y1=\"135.3398\" y2=\"135.3398\"/></a><!--MD5=[09b614a08d8cba4a07c9adeb5e0fee81]\n",
       "class E3--><a href=\"psysml:75ee6cec-68f4-495e-910b-3cf4854ee540\" target=\"_top\" title=\"psysml:75ee6cec-68f4-495e-910b-3cf4854ee540\" xlink:actuate=\"onRequest\" xlink:href=\"psysml:75ee6cec-68f4-495e-910b-3cf4854ee540\" xlink:show=\"new\" xlink:title=\"psysml:75ee6cec-68f4-495e-910b-3cf4854ee540\" xlink:type=\"simple\"><rect fill=\"#FFFFFF\" height=\"45.9375\" id=\"E3\" style=\"stroke: #383838; stroke-width: 1.5;\" width=\"95\" x=\"330.5\" y=\"98\"/><text fill=\"#000000\" font-family=\"sans-serif\" font-size=\"12\" font-style=\"italic\" lengthAdjust=\"spacingAndGlyphs\" textLength=\"93\" x=\"331.5\" y=\"114.1387\">«attribute def»</text><text fill=\"#000000\" font-family=\"sans-serif\" font-size=\"12\" lengthAdjust=\"spacingAndGlyphs\" textLength=\"22\" x=\"367\" y=\"128.1074\">Exit</text><line style=\"stroke: #383838; stroke-width: 1.5;\" x1=\"331.5\" x2=\"424.5\" y1=\"135.9375\" y2=\"135.9375\"/></a><!--MD5=[ebbe1d658d1005bcc118a6aa81145e00]\n",
       "class E4--><a href=\"psysml:d526add9-9153-4d94-82de-e3d10cc7d584\" target=\"_top\" title=\"psysml:d526add9-9153-4d94-82de-e3d10cc7d584\" xlink:actuate=\"onRequest\" xlink:href=\"psysml:d526add9-9153-4d94-82de-e3d10cc7d584\" xlink:show=\"new\" xlink:title=\"psysml:d526add9-9153-4d94-82de-e3d10cc7d584\" xlink:type=\"simple\"><rect fill=\"#FFFFFF\" height=\"45.9375\" id=\"E4\" rx=\"10\" ry=\"10\" style=\"stroke: #383838; stroke-width: 1.5;\" width=\"42\" x=\"253\" y=\"98\"/><text fill=\"#000000\" font-family=\"sans-serif\" font-size=\"12\" font-style=\"italic\" lengthAdjust=\"spacingAndGlyphs\" textLength=\"40\" x=\"254\" y=\"114.1387\">«part»</text><text fill=\"#000000\" font-family=\"sans-serif\" font-size=\"12\" lengthAdjust=\"spacingAndGlyphs\" textLength=\"8\" x=\"270\" y=\"128.1074\">p</text><line style=\"stroke: #383838; stroke-width: 1.5;\" x1=\"254\" x2=\"294\" y1=\"135.9375\" y2=\"135.9375\"/></a><!--MD5=[270fce915f116d4de14055a7c1d9a0f3]\n",
       "class E5--><a href=\"psysml:12bd5d36-0dbf-4715-90c3-b0b875efee55\" target=\"_top\" title=\"psysml:12bd5d36-0dbf-4715-90c3-b0b875efee55\" xlink:actuate=\"onRequest\" xlink:href=\"psysml:12bd5d36-0dbf-4715-90c3-b0b875efee55\" xlink:show=\"new\" xlink:title=\"psysml:12bd5d36-0dbf-4715-90c3-b0b875efee55\" xlink:type=\"simple\"><rect fill=\"#FFFFFF\" height=\"45.9375\" id=\"E5\" rx=\"10\" ry=\"10\" style=\"stroke: #383838; stroke-width: 1.5;\" width=\"55\" x=\"162.5\" y=\"98\"/><text fill=\"#000000\" font-family=\"sans-serif\" font-size=\"12\" font-style=\"italic\" lengthAdjust=\"spacingAndGlyphs\" textLength=\"53\" x=\"163.5\" y=\"114.1387\">«action»</text><text fill=\"#000000\" font-family=\"sans-serif\" font-size=\"12\" lengthAdjust=\"spacingAndGlyphs\" textLength=\"20\" x=\"180\" y=\"128.1074\">act</text><line style=\"stroke: #383838; stroke-width: 1.5;\" x1=\"163.5\" x2=\"216.5\" y1=\"135.9375\" y2=\"135.9375\"/></a><!--MD5=[60a26617385b1d2d0262a64233df1f8d]\n",
       "class E6--><a href=\"psysml:b6aa9f25-72f8-4c2c-a7be-6589070e9bf6\" target=\"_top\" title=\"psysml:b6aa9f25-72f8-4c2c-a7be-6589070e9bf6\" xlink:actuate=\"onRequest\" xlink:href=\"psysml:b6aa9f25-72f8-4c2c-a7be-6589070e9bf6\" xlink:show=\"new\" xlink:title=\"psysml:b6aa9f25-72f8-4c2c-a7be-6589070e9bf6\" xlink:type=\"simple\"><rect fill=\"#FFFFFF\" height=\"160.375\" id=\"E6\" style=\"stroke: #383838; stroke-width: 1.5;\" width=\"95\" x=\"32.5\" y=\"41\"/><text fill=\"#000000\" font-family=\"sans-serif\" font-size=\"12\" font-style=\"italic\" lengthAdjust=\"spacingAndGlyphs\" textLength=\"71\" x=\"44.5\" y=\"57.1387\">«state def»</text><text fill=\"#000000\" font-family=\"sans-serif\" font-size=\"12\" lengthAdjust=\"spacingAndGlyphs\" textLength=\"8\" x=\"76\" y=\"71.1074\">S</text><line style=\"stroke: #383838; stroke-width: 1.5;\" x1=\"33.5\" x2=\"126.5\" y1=\"78.9375\" y2=\"78.9375\"/><text fill=\"#000000\" font-family=\"sans-serif\" font-size=\"11\" lengthAdjust=\"spacingAndGlyphs\" textLength=\"17\" x=\"38.5\" y=\"109.9526\">act</text><text fill=\"#000000\" font-family=\"sans-serif\" font-size=\"11\" lengthAdjust=\"spacingAndGlyphs\" textLength=\"7\" x=\"38.5\" y=\"122.7573\">A</text><text fill=\"#000000\" font-family=\"sans-serif\" font-size=\"11\" lengthAdjust=\"spacingAndGlyphs\" textLength=\"8\" x=\"38.5\" y=\"135.562\">B</text><line style=\"stroke: #383838; stroke-width: 1.0;\" x1=\"33.5\" x2=\"36.5\" y1=\"93.3398\" y2=\"93.3398\"/><text fill=\"#000000\" font-family=\"sans-serif\" font-size=\"11\" lengthAdjust=\"spacingAndGlyphs\" textLength=\"87\" x=\"36.5\" y=\"96.6479\">performActions</text><line style=\"stroke: #383838; stroke-width: 1.0;\" x1=\"123.5\" x2=\"126.5\" y1=\"93.3398\" y2=\"93.3398\"/><text fill=\"#000000\" font-family=\"sans-serif\" font-size=\"11\" lengthAdjust=\"spacingAndGlyphs\" textLength=\"15\" x=\"38.5\" y=\"165.1714\">S1</text><line style=\"stroke: #383838; stroke-width: 1.0;\" x1=\"33.5\" x2=\"62\" y1=\"148.5586\" y2=\"148.5586\"/><text fill=\"#000000\" font-family=\"sans-serif\" font-size=\"11\" lengthAdjust=\"spacingAndGlyphs\" textLength=\"36\" x=\"62\" y=\"151.8667\">states</text><line style=\"stroke: #383838; stroke-width: 1.0;\" x1=\"98\" x2=\"126.5\" y1=\"148.5586\" y2=\"148.5586\"/><text fill=\"#000000\" font-family=\"sans-serif\" font-size=\"11\" lengthAdjust=\"spacingAndGlyphs\" textLength=\"7\" x=\"38.5\" y=\"194.7808\">T</text><line style=\"stroke: #383838; stroke-width: 1.0;\" x1=\"33.5\" x2=\"49.5\" y1=\"178.168\" y2=\"178.168\"/><text fill=\"#000000\" font-family=\"sans-serif\" font-size=\"11\" lengthAdjust=\"spacingAndGlyphs\" textLength=\"61\" x=\"49.5\" y=\"181.4761\">transitions</text><line style=\"stroke: #383838; stroke-width: 1.0;\" x1=\"110.5\" x2=\"126.5\" y1=\"178.168\" y2=\"178.168\"/></a><!--MD5=[1dd1bfd58a279cf63c5f349dbc8fc6a1]\n",
       "class E11--><a href=\"psysml:7a7b17a9-f595-41dc-990f-a07a1c17ba3c\" target=\"_top\" title=\"psysml:7a7b17a9-f595-41dc-990f-a07a1c17ba3c\" xlink:actuate=\"onRequest\" xlink:href=\"psysml:7a7b17a9-f595-41dc-990f-a07a1c17ba3c\" xlink:show=\"new\" xlink:title=\"psysml:7a7b17a9-f595-41dc-990f-a07a1c17ba3c\" xlink:type=\"simple\"><rect fill=\"#FFFFFF\" height=\"45.9375\" id=\"E11\" rx=\"10\" ry=\"10\" style=\"stroke: #383838; stroke-width: 1.5;\" width=\"49\" x=\"55.5\" y=\"261\"/><text fill=\"#000000\" font-family=\"sans-serif\" font-size=\"12\" font-style=\"italic\" lengthAdjust=\"spacingAndGlyphs\" textLength=\"47\" x=\"56.5\" y=\"277.1387\">«state»</text><text fill=\"#000000\" font-family=\"sans-serif\" font-size=\"12\" lengthAdjust=\"spacingAndGlyphs\" textLength=\"16\" x=\"72\" y=\"291.1074\">S2</text><line style=\"stroke: #383838; stroke-width: 1.5;\" x1=\"56.5\" x2=\"103.5\" y1=\"298.9375\" y2=\"298.9375\"/></a><!--MD5=[49a0ec8f00dab7302a31f22d0f0fe584]\n",
       "class E12--><a href=\"psysml:fce0e4a1-8edc-4c38-93d6-a3b5e3670b25\" target=\"_top\" title=\"psysml:fce0e4a1-8edc-4c38-93d6-a3b5e3670b25\" xlink:actuate=\"onRequest\" xlink:href=\"psysml:fce0e4a1-8edc-4c38-93d6-a3b5e3670b25\" xlink:show=\"new\" xlink:title=\"psysml:fce0e4a1-8edc-4c38-93d6-a3b5e3670b25\" xlink:type=\"simple\"><rect fill=\"#FFFFFF\" height=\"75.5469\" id=\"E12\" rx=\"10\" ry=\"10\" style=\"stroke: #383838; stroke-width: 1.5;\" width=\"90\" x=\"35\" y=\"367\"/><text fill=\"#000000\" font-family=\"sans-serif\" font-size=\"12\" font-style=\"italic\" lengthAdjust=\"spacingAndGlyphs\" textLength=\"88\" x=\"36\" y=\"383.1387\">«send action»</text><text fill=\"#000000\" font-family=\"sans-serif\" font-size=\"12\" lengthAdjust=\"spacingAndGlyphs\" textLength=\"55\" x=\"52.5\" y=\"397.1074\">doAction</text><line style=\"stroke: #383838; stroke-width: 1.5;\" x1=\"36\" x2=\"124\" y1=\"404.9375\" y2=\"404.9375\"/><text fill=\"#000000\" font-family=\"sans-serif\" font-size=\"11\" lengthAdjust=\"spacingAndGlyphs\" textLength=\"25\" x=\"41\" y=\"435.9526\">item</text><line style=\"stroke: #383838; stroke-width: 1.0;\" x1=\"36\" x2=\"42.5\" y1=\"419.3398\" y2=\"419.3398\"/><text fill=\"#000000\" font-family=\"sans-serif\" font-size=\"11\" lengthAdjust=\"spacingAndGlyphs\" textLength=\"75\" x=\"42.5\" y=\"422.6479\">itemFeatures</text><line style=\"stroke: #383838; stroke-width: 1.0;\" x1=\"117.5\" x2=\"124\" y1=\"419.3398\" y2=\"419.3398\"/></a><!--MD5=[1f5f03483f7de0d5b3680a7f6650997f]\n",
       "reverse link E6 to E11--><a href=\"psysml:7a7b17a9-f595-41dc-990f-a07a1c17ba3c\" target=\"_top\" title=\"psysml:7a7b17a9-f595-41dc-990f-a07a1c17ba3c\" xlink:actuate=\"onRequest\" xlink:href=\"psysml:7a7b17a9-f595-41dc-990f-a07a1c17ba3c\" xlink:show=\"new\" xlink:title=\"psysml:7a7b17a9-f595-41dc-990f-a07a1c17ba3c\" xlink:type=\"simple\"><path d=\"M80,214.17 C80,231.58 80,248.25 80,260.82 \" fill=\"none\" id=\"E6&lt;-E11\" style=\"stroke: #383838; stroke-width: 1.0;\"/><polygon fill=\"#383838\" points=\"80,201.09,76.0066,207.0944,80.0132,213.09,84.0066,207.0856,80,201.09\" style=\"stroke: #383838; stroke-width: 1.0;\"/></a><!--MD5=[94adabc162ce7e41b39f13be14fbaeb3]\n",
       "reverse link E11 to E12--><a href=\"psysml:fce0e4a1-8edc-4c38-93d6-a3b5e3670b25\" target=\"_top\" title=\"psysml:fce0e4a1-8edc-4c38-93d6-a3b5e3670b25\" xlink:actuate=\"onRequest\" xlink:href=\"psysml:fce0e4a1-8edc-4c38-93d6-a3b5e3670b25\" xlink:show=\"new\" xlink:title=\"psysml:fce0e4a1-8edc-4c38-93d6-a3b5e3670b25\" xlink:type=\"simple\"><path d=\"M80,320.23 C80,334.82 80,351.76 80,366.58 \" fill=\"none\" id=\"E11&lt;-E12\" style=\"stroke: #383838; stroke-width: 1.0;\"/><polygon fill=\"#FFFFFF\" points=\"80,307.1,76,313.1,80,319.1,84,313.1,80,307.1\" style=\"stroke: #383838; stroke-width: 1.0;\"/></a><!--MD5=[fb58d5991ccea84c83557a81515910d9]\n",
       "@startuml\r\n",
       "skinparam linetype polyline\r\n",
       "skinparam monochrome true\r\n",
       "skinparam classbackgroundcolor white\r\n",
       "skinparam shadowing false\r\n",
       "skinparam wrapWidth 300\r\n",
       "hide circle\r\n",
       "\r\n",
       "package \"StateTest\" as E1  [[psysml:a2ca8720-bd4b-4556-9b27-091331149f1f ]]  {\r\n",
       "comp def \"Sig\" as E2  <<(T,blue)attribute def>> [[psysml:9b0c6b07-76e0-48e6-88f4-e6a2c752e8e3 ]] {\r\n",
       "- - attributes - -\r\n",
       "x\r\n",
       "}\r\n",
       "comp def \"Exit\" as E3  <<(T,blue)attribute def>> [[psysml:75ee6cec-68f4-495e-910b-3cf4854ee540 ]] {\r\n",
       "}\r\n",
       "comp usage \"p\" as E4  <<(T,blue)part>> [[psysml:d526add9-9153-4d94-82de-e3d10cc7d584 ]] {\r\n",
       "}\r\n",
       "comp usage \"act\" as E5  <<(T,blue)action>> [[psysml:12bd5d36-0dbf-4715-90c3-b0b875efee55 ]] {\r\n",
       "}\r\n",
       "comp def \"S\" as E6  <<(T,blue)state def>> [[psysml:b6aa9f25-72f8-4c2c-a7be-6589070e9bf6 ]] {\r\n",
       "- - performActions - -\r\n",
       "act\r\n",
       "A\r\n",
       "B\r\n",
       "- - states - -\r\n",
       "S1\r\n",
       "- - transitions - -\r\n",
       "T\r\n",
       "}\r\n",
       "comp usage \"S2\" as E11  <<(T,blue)state>> [[psysml:7a7b17a9-f595-41dc-990f-a07a1c17ba3c ]] {\r\n",
       "}\r\n",
       "comp usage \"doAction\" as E12 <<send action>> [[psysml:fce0e4a1-8edc-4c38-93d6-a3b5e3670b25 ]] {\r\n",
       "- - itemFeatures - -\r\n",
       "item\r\n",
       "}\r\n",
       "E6 *- - E11 [[psysml:7a7b17a9-f595-41dc-990f-a07a1c17ba3c ]] \r\n",
       "E11 o- - E12 [[psysml:fce0e4a1-8edc-4c38-93d6-a3b5e3670b25 ]] \r\n",
       "}\r\n",
       "@enduml\r\n",
       "\n",
       "PlantUML version 1.2020.13(Sat Jun 13 12:26:38 UTC 2020)\n",
       "(EPL source distribution)\n",
       "Java Runtime: OpenJDK Runtime Environment\n",
       "JVM: OpenJDK 64-Bit Server VM\n",
       "Default Encoding: UTF-8\n",
       "Language: en\n",
       "Country: null\n",
       "--></g></svg>"
      ]
     },
     "execution_count": 10,
     "metadata": {},
     "output_type": "execute_result"
    }
   ],
   "source": [
    "%viz --style=\"POLYLINE\" --view=\"Tree\" \"StateTest\""
   ]
  },
  {
   "cell_type": "code",
   "execution_count": 11,
   "id": "standard-revelation",
   "metadata": {
    "execution": {
     "iopub.execute_input": "2021-03-25T15:06:55.250915Z",
     "iopub.status.busy": "2021-03-25T15:06:55.250248Z",
     "iopub.status.idle": "2021-03-25T15:06:55.370206Z",
     "shell.execute_reply": "2021-03-25T15:06:55.369865Z"
    }
   },
   "outputs": [
    {
     "data": {
      "image/svg+xml": [
       "<?xml version=\"1.0\" encoding=\"UTF-8\" standalone=\"no\"?><svg xmlns=\"http://www.w3.org/2000/svg\" xmlns:xlink=\"http://www.w3.org/1999/xlink\" contentScriptType=\"application/ecmascript\" contentStyleType=\"text/css\" height=\"475px\" preserveAspectRatio=\"none\" style=\"width:346px;height:475px;\" version=\"1.1\" viewBox=\"0 0 346 475\" width=\"346px\" zoomAndPan=\"magnify\"><defs/><g><!--MD5=[fbc87193dbaf4d95561dea2c320d4a47]\n",
       "cluster E1--><a href=\"psysml:b6aa9f25-72f8-4c2c-a7be-6589070e9bf6\" target=\"_top\" title=\"psysml:b6aa9f25-72f8-4c2c-a7be-6589070e9bf6\" xlink:actuate=\"onRequest\" xlink:href=\"psysml:b6aa9f25-72f8-4c2c-a7be-6589070e9bf6\" xlink:show=\"new\" xlink:title=\"psysml:b6aa9f25-72f8-4c2c-a7be-6589070e9bf6\" xlink:type=\"simple\"><rect fill=\"#FFFFFF\" height=\"457\" id=\"E1\" style=\"stroke: #383838; stroke-width: 1.5;\" width=\"327\" x=\"7\" y=\"7\"/><rect fill=\"#F8F8F8\" height=\"37.9375\" style=\"stroke: #383838; stroke-width: 1.5;\" width=\"327\" x=\"7\" y=\"7\"/><text fill=\"#000000\" font-family=\"sans-serif\" font-size=\"12\" font-style=\"italic\" lengthAdjust=\"spacingAndGlyphs\" textLength=\"71\" x=\"135\" y=\"23.1387\">«state def»</text><text fill=\"#000000\" font-family=\"sans-serif\" font-size=\"12\" lengthAdjust=\"spacingAndGlyphs\" textLength=\"8\" x=\"166.5\" y=\"37.1074\">S</text><line style=\"stroke: #383838; stroke-width: 1.0;\" x1=\"7\" x2=\"334\" y1=\"90.8438\" y2=\"90.8438\"/><text fill=\"#000000\" font-family=\"sans-serif\" font-size=\"12\" font-weight=\"bold\" lengthAdjust=\"spacingAndGlyphs\" textLength=\"38\" x=\"12\" y=\"58.0762\">entry</text><text fill=\"#000000\" font-family=\"sans-serif\" font-size=\"12\" lengthAdjust=\"spacingAndGlyphs\" textLength=\"16\" x=\"50\" y=\"58.0762\">/ A</text><text fill=\"#000000\" font-family=\"sans-serif\" font-size=\"12\" font-weight=\"bold\" lengthAdjust=\"spacingAndGlyphs\" textLength=\"18\" x=\"12\" y=\"72.0449\">do</text><text fill=\"#000000\" font-family=\"sans-serif\" font-size=\"12\" lengthAdjust=\"spacingAndGlyphs\" textLength=\"16\" x=\"30\" y=\"72.0449\">/ B</text><text fill=\"#000000\" font-family=\"sans-serif\" font-size=\"12\" font-weight=\"bold\" lengthAdjust=\"spacingAndGlyphs\" textLength=\"26\" x=\"12\" y=\"86.0137\">exit</text><text fill=\"#000000\" font-family=\"sans-serif\" font-size=\"12\" lengthAdjust=\"spacingAndGlyphs\" textLength=\"28\" x=\"38\" y=\"86.0137\">/ act</text></a><ellipse cx=\"119\" cy=\"115\" fill=\"#000000\" rx=\"10\" ry=\"10\" style=\"stroke: none; stroke-width: 1.0;\"/><ellipse cx=\"119\" cy=\"438\" fill=\"none\" rx=\"10\" ry=\"10\" style=\"stroke: #000000; stroke-width: 1.0;\"/><ellipse cx=\"119.5\" cy=\"438.5\" fill=\"#000000\" rx=\"6\" ry=\"6\" style=\"stroke: none; stroke-width: 1.0;\"/><g id=\"E1.E2\"><a href=\"psysml:1cabaaec-9539-448a-9df0-432fc817479b\" target=\"_top\" title=\"psysml:1cabaaec-9539-448a-9df0-432fc817479b\" xlink:actuate=\"onRequest\" xlink:href=\"psysml:1cabaaec-9539-448a-9df0-432fc817479b\" xlink:show=\"new\" xlink:title=\"psysml:1cabaaec-9539-448a-9df0-432fc817479b\" xlink:type=\"simple\"><rect fill=\"#FFFFFF\" height=\"40\" id=\"E2\" rx=\"10\" ry=\"10\" style=\"stroke: #383838; stroke-width: 1.5;\" width=\"50\" x=\"94\" y=\"186\"/><rect fill=\"#F8F8F8\" height=\"23.9688\" rx=\"10\" ry=\"10\" style=\"stroke: #F8F8F8; stroke-width: 1.5;\" width=\"50\" x=\"94\" y=\"186\"/><rect fill=\"#F8F8F8\" height=\"10\" style=\"stroke: #F8F8F8; stroke-width: 1.5;\" width=\"50\" x=\"94\" y=\"199.9688\"/><rect fill=\"none\" height=\"40\" id=\"E2\" rx=\"10\" ry=\"10\" style=\"stroke: #383838; stroke-width: 1.5;\" width=\"50\" x=\"94\" y=\"186\"/><text fill=\"#000000\" font-family=\"sans-serif\" font-size=\"12\" lengthAdjust=\"spacingAndGlyphs\" textLength=\"16\" x=\"111\" y=\"202.1387\">S1</text></a></g><g id=\"E1.E3\"><a href=\"psysml:7a7b17a9-f595-41dc-990f-a07a1c17ba3c\" target=\"_top\" title=\"psysml:7a7b17a9-f595-41dc-990f-a07a1c17ba3c\" xlink:actuate=\"onRequest\" xlink:href=\"psysml:7a7b17a9-f595-41dc-990f-a07a1c17ba3c\" xlink:show=\"new\" xlink:title=\"psysml:7a7b17a9-f595-41dc-990f-a07a1c17ba3c\" xlink:type=\"simple\"><rect fill=\"#FFFFFF\" height=\"47.9375\" id=\"E3\" rx=\"10\" ry=\"10\" style=\"stroke: #383838; stroke-width: 1.5;\" width=\"50\" x=\"94\" y=\"303\"/><rect fill=\"#F8F8F8\" height=\"23.9688\" rx=\"10\" ry=\"10\" style=\"stroke: #F8F8F8; stroke-width: 1.5;\" width=\"50\" x=\"94\" y=\"303\"/><rect fill=\"#F8F8F8\" height=\"10\" style=\"stroke: #F8F8F8; stroke-width: 1.5;\" width=\"50\" x=\"94\" y=\"316.9688\"/><rect fill=\"none\" height=\"47.9375\" id=\"E3\" rx=\"10\" ry=\"10\" style=\"stroke: #383838; stroke-width: 1.5;\" width=\"50\" x=\"94\" y=\"303\"/><text fill=\"#000000\" font-family=\"sans-serif\" font-size=\"12\" lengthAdjust=\"spacingAndGlyphs\" textLength=\"16\" x=\"111\" y=\"319.1387\">S2</text><line style=\"stroke: #383838; stroke-width: 1.0;\" x1=\"94\" x2=\"144\" y1=\"326.9688\" y2=\"326.9688\"/><text fill=\"#000000\" font-family=\"sans-serif\" font-size=\"12\" font-weight=\"bold\" lengthAdjust=\"spacingAndGlyphs\" textLength=\"18\" x=\"99\" y=\"340.1074\">do</text><text fill=\"#000000\" font-family=\"sans-serif\" font-size=\"12\" lengthAdjust=\"spacingAndGlyphs\" textLength=\"4\" x=\"117\" y=\"340.1074\">/</text></a></g><!--MD5=[cff944eb183b832d446717a4e202d613]\n",
       "link *start*E1 to E2--><a href=\"psysml:0b737fa2-1baa-4df5-913b-a090a33456a1\" target=\"_top\" title=\"psysml:0b737fa2-1baa-4df5-913b-a090a33456a1\" xlink:actuate=\"onRequest\" xlink:href=\"psysml:0b737fa2-1baa-4df5-913b-a090a33456a1\" xlink:show=\"new\" xlink:title=\"psysml:0b737fa2-1baa-4df5-913b-a090a33456a1\" xlink:type=\"simple\"><path d=\"M119,125.19 C119,138.18 119,162.38 119,180.73 \" fill=\"none\" id=\"*start*E1-&gt;E2\" style=\"stroke: #383838; stroke-width: 1.0;\"/><polygon fill=\"#383838\" points=\"119,185.74,123,176.74,119,180.74,115,176.74,119,185.74\" style=\"stroke: #383838; stroke-width: 1.0;\"/></a><!--MD5=[9ee7afa76ca8c509b3d216624c3a9893]\n",
       "link E3 to *end*E1--><a href=\"psysml:a8c9411f-d651-41a0-86c1-118f6cba8c1d\" target=\"_top\" title=\"psysml:a8c9411f-d651-41a0-86c1-118f6cba8c1d\" xlink:actuate=\"onRequest\" xlink:href=\"psysml:a8c9411f-d651-41a0-86c1-118f6cba8c1d\" xlink:show=\"new\" xlink:title=\"psysml:a8c9411f-d651-41a0-86c1-118f6cba8c1d\" xlink:type=\"simple\"><path d=\"M119,351.12 C119,372.75 119,404.39 119,422.62 \" fill=\"none\" id=\"E3-&gt;*end*E1\" style=\"stroke: #383838; stroke-width: 1.0;\"/><polygon fill=\"#383838\" points=\"119,427.82,123,418.82,119,422.82,115,418.82,119,427.82\" style=\"stroke: #383838; stroke-width: 1.0;\"/><text fill=\"#000000\" font-family=\"sans-serif\" font-size=\"13\" lengthAdjust=\"spacingAndGlyphs\" textLength=\"23\" x=\"120\" y=\"394.0669\">Exit</text></a><!--MD5=[2720a5a1f2c3fca2055b230370638851]\n",
       "link E2 to E3--><a href=\"psysml:eefcc534-c981-4425-9bf3-38251bd12a49\" target=\"_top\" title=\"psysml:eefcc534-c981-4425-9bf3-38251bd12a49\" xlink:actuate=\"onRequest\" xlink:href=\"psysml:eefcc534-c981-4425-9bf3-38251bd12a49\" xlink:show=\"new\" xlink:title=\"psysml:eefcc534-c981-4425-9bf3-38251bd12a49\" xlink:type=\"simple\"><path d=\"M94.07,226.08 C76.1,239.84 55,256 55,256 C55,256 55,273 55,273 C55,273 72.69,287.65 89.47,301.55 \" fill=\"none\" id=\"E2-&gt;E3\" style=\"stroke: #383838; stroke-width: 1.0;\"/><polygon fill=\"#383838\" points=\"93.71,305.05,89.3341,296.2267,89.8607,301.8589,84.2284,302.3855,93.71,305.05\" style=\"stroke: #383838; stroke-width: 1.0;\"/><text fill=\"#000000\" font-family=\"sans-serif\" font-size=\"13\" lengthAdjust=\"spacingAndGlyphs\" textLength=\"81\" x=\"56\" y=\"269.0669\">Sig /action D</text></a><!--MD5=[05d275557350bfb9b23a4ef7222b4c39]\n",
       "link E3 to E2--><a href=\"psysml:bcd703ca-2055-4c24-98bc-6c579eb31483\" target=\"_top\" title=\"psysml:bcd703ca-2055-4c24-98bc-6c579eb31483\" xlink:actuate=\"onRequest\" xlink:href=\"psysml:bcd703ca-2055-4c24-98bc-6c579eb31483\" xlink:show=\"new\" xlink:title=\"psysml:bcd703ca-2055-4c24-98bc-6c579eb31483\" xlink:type=\"simple\"><path d=\"M129.02,302.91 C135.22,288.63 142,273 142,273 C142,273 142,256 142,256 C142,256 135.98,243.18 130.11,230.66 \" fill=\"none\" id=\"E3-&gt;E2\" style=\"stroke: #383838; stroke-width: 1.0;\"/><polygon fill=\"#383838\" points=\"127.96,226.08,128.1429,235.9272,130.0752,230.6106,135.3918,232.5428,127.96,226.08\" style=\"stroke: #383838; stroke-width: 1.0;\"/><text fill=\"#000000\" font-family=\"sans-serif\" font-size=\"13\" lengthAdjust=\"spacingAndGlyphs\" textLength=\"135\" x=\"143\" y=\"269.0669\">Sig [true]/send s to p</text></a><!--MD5=[85ac803d30f69f3d8e0c6085d95110f3]\n",
       "@startuml\r\n",
       "skinparam linetype polyline\r\n",
       "skinparam monochrome true\r\n",
       "skinparam classbackgroundcolor white\r\n",
       "skinparam shadowing false\r\n",
       "skinparam wrapWidth 300\r\n",
       "hide circle\r\n",
       "\r\n",
       "rec def \"S\" as E1  <<(T,blue)state def>> [[psysml:b6aa9f25-72f8-4c2c-a7be-6589070e9bf6 ]] {\r\n",
       "rec usage \"S1\" as E2 [[psysml:1cabaaec-9539-448a-9df0-432fc817479b ]] {\r\n",
       "}\r\n",
       "\r\n",
       "rec usage \"S2\" as E3 [[psysml:7a7b17a9-f595-41dc-990f-a07a1c17ba3c ]] {\r\n",
       "desc \"S2\" as E3  : **do**/ \r\n",
       "}\r\n",
       "\r\n",
       "[*] - -> E2 [[psysml:0b737fa2-1baa-4df5-913b-a090a33456a1 ]] \r\n",
       "E3  - -> [*] [[psysml:a8c9411f-d651-41a0-86c1-118f6cba8c1d ]] : Exit \r\n",
       "desc \"S\" as E1  : **entry**/ A\r\n",
       "desc \"S\" as E1  : **do**/ B\r\n",
       "desc \"S\" as E1  : **exit**/ act \r\n",
       "}\r\n",
       "\r\n",
       "E2  - -> E3 [[psysml:eefcc534-c981-4425-9bf3-38251bd12a49 ]] : Sig /action D\r\n",
       "E3  - -> E2 [[psysml:bcd703ca-2055-4c24-98bc-6c579eb31483 ]] : Sig [true]/send s to p\r\n",
       "@enduml\r\n",
       "\n",
       "PlantUML version 1.2020.13(Sat Jun 13 12:26:38 UTC 2020)\n",
       "(EPL source distribution)\n",
       "Java Runtime: OpenJDK Runtime Environment\n",
       "JVM: OpenJDK 64-Bit Server VM\n",
       "Default Encoding: UTF-8\n",
       "Language: en\n",
       "Country: null\n",
       "--></g></svg>"
      ]
     },
     "execution_count": 11,
     "metadata": {},
     "output_type": "execute_result"
    }
   ],
   "source": [
    "%viz --style=\"POLYLINE\" --view=\"State\" \"StateTest\""
   ]
  },
  {
   "cell_type": "code",
   "execution_count": 12,
   "id": "received-metropolitan",
   "metadata": {
    "execution": {
     "iopub.execute_input": "2021-03-25T15:06:55.421352Z",
     "iopub.status.busy": "2021-03-25T15:06:55.420923Z",
     "iopub.status.idle": "2021-03-25T15:06:55.503444Z",
     "shell.execute_reply": "2021-03-25T15:06:55.503904Z"
    }
   },
   "outputs": [
    {
     "data": {
      "image/svg+xml": [
       "<?xml version=\"1.0\" encoding=\"UTF-8\" standalone=\"no\"?><svg xmlns=\"http://www.w3.org/2000/svg\" xmlns:xlink=\"http://www.w3.org/1999/xlink\" contentScriptType=\"application/ecmascript\" contentStyleType=\"text/css\" height=\"123px\" preserveAspectRatio=\"none\" style=\"width:728px;height:123px;\" version=\"1.1\" viewBox=\"0 0 728 123\" width=\"728px\" zoomAndPan=\"magnify\"><defs/><g><!--MD5=[fbc87193dbaf4d95561dea2c320d4a47]\n",
       "cluster E1--><a href=\"psysml:a2ca8720-bd4b-4556-9b27-091331149f1f\" target=\"_top\" title=\"psysml:a2ca8720-bd4b-4556-9b27-091331149f1f\" xlink:actuate=\"onRequest\" xlink:href=\"psysml:a2ca8720-bd4b-4556-9b27-091331149f1f\" xlink:show=\"new\" xlink:title=\"psysml:a2ca8720-bd4b-4556-9b27-091331149f1f\" xlink:type=\"simple\"><polygon fill=\"#FFFFFF\" points=\"16,6,98,6,105,28.2969,706,28.2969,706,111,16,111,16,6\" style=\"stroke: #000000; stroke-width: 1.5;\"/><line style=\"stroke: #000000; stroke-width: 1.5;\" x1=\"16\" x2=\"105\" y1=\"28.2969\" y2=\"28.2969\"/><text fill=\"#000000\" font-family=\"sans-serif\" font-size=\"14\" font-weight=\"bold\" lengthAdjust=\"spacingAndGlyphs\" textLength=\"76\" x=\"20\" y=\"20.9951\">StateTest</text></a><!--MD5=[b4997ac47864f28c2f74865a473b2911]\n",
       "class E2--><a href=\"psysml:9b0c6b07-76e0-48e6-88f4-e6a2c752e8e3\" target=\"_top\" title=\"psysml:9b0c6b07-76e0-48e6-88f4-e6a2c752e8e3\" xlink:actuate=\"onRequest\" xlink:href=\"psysml:9b0c6b07-76e0-48e6-88f4-e6a2c752e8e3\" xlink:show=\"new\" xlink:title=\"psysml:9b0c6b07-76e0-48e6-88f4-e6a2c752e8e3\" xlink:type=\"simple\"><rect fill=\"#FFFFFF\" height=\"53.9375\" id=\"E2\" style=\"stroke: #383838; stroke-width: 1.5;\" width=\"143\" x=\"546.5\" y=\"41\"/><text fill=\"#000000\" font-family=\"sans-serif\" font-size=\"12\" font-style=\"italic\" lengthAdjust=\"spacingAndGlyphs\" textLength=\"141\" x=\"547.5\" y=\"57.1387\">«(T,blue)attribute def»</text><text fill=\"#000000\" font-family=\"sans-serif\" font-size=\"12\" lengthAdjust=\"spacingAndGlyphs\" textLength=\"19\" x=\"608.5\" y=\"71.1074\">Sig</text><line style=\"stroke: #383838; stroke-width: 1.5;\" x1=\"547.5\" x2=\"688.5\" y1=\"78.9375\" y2=\"78.9375\"/><line style=\"stroke: #383838; stroke-width: 1.5;\" x1=\"547.5\" x2=\"688.5\" y1=\"86.9375\" y2=\"86.9375\"/></a><!--MD5=[09b614a08d8cba4a07c9adeb5e0fee81]\n",
       "class E3--><a href=\"psysml:75ee6cec-68f4-495e-910b-3cf4854ee540\" target=\"_top\" title=\"psysml:75ee6cec-68f4-495e-910b-3cf4854ee540\" xlink:actuate=\"onRequest\" xlink:href=\"psysml:75ee6cec-68f4-495e-910b-3cf4854ee540\" xlink:show=\"new\" xlink:title=\"psysml:75ee6cec-68f4-495e-910b-3cf4854ee540\" xlink:type=\"simple\"><rect fill=\"#FFFFFF\" height=\"53.9375\" id=\"E3\" style=\"stroke: #383838; stroke-width: 1.5;\" width=\"143\" x=\"368.5\" y=\"41\"/><text fill=\"#000000\" font-family=\"sans-serif\" font-size=\"12\" font-style=\"italic\" lengthAdjust=\"spacingAndGlyphs\" textLength=\"141\" x=\"369.5\" y=\"57.1387\">«(T,blue)attribute def»</text><text fill=\"#000000\" font-family=\"sans-serif\" font-size=\"12\" lengthAdjust=\"spacingAndGlyphs\" textLength=\"22\" x=\"429\" y=\"71.1074\">Exit</text><line style=\"stroke: #383838; stroke-width: 1.5;\" x1=\"369.5\" x2=\"510.5\" y1=\"78.9375\" y2=\"78.9375\"/><line style=\"stroke: #383838; stroke-width: 1.5;\" x1=\"369.5\" x2=\"510.5\" y1=\"86.9375\" y2=\"86.9375\"/></a><!--MD5=[60a26617385b1d2d0262a64233df1f8d]\n",
       "class E6--><a href=\"psysml:b6aa9f25-72f8-4c2c-a7be-6589070e9bf6\" target=\"_top\" title=\"psysml:b6aa9f25-72f8-4c2c-a7be-6589070e9bf6\" xlink:actuate=\"onRequest\" xlink:href=\"psysml:b6aa9f25-72f8-4c2c-a7be-6589070e9bf6\" xlink:show=\"new\" xlink:title=\"psysml:b6aa9f25-72f8-4c2c-a7be-6589070e9bf6\" xlink:type=\"simple\"><rect fill=\"#FFFFFF\" height=\"53.9375\" id=\"E6\" style=\"stroke: #383838; stroke-width: 1.5;\" width=\"121\" x=\"212.5\" y=\"41\"/><text fill=\"#000000\" font-family=\"sans-serif\" font-size=\"12\" font-style=\"italic\" lengthAdjust=\"spacingAndGlyphs\" textLength=\"119\" x=\"213.5\" y=\"57.1387\">«(T,blue)state def»</text><text fill=\"#000000\" font-family=\"sans-serif\" font-size=\"12\" lengthAdjust=\"spacingAndGlyphs\" textLength=\"8\" x=\"269\" y=\"71.1074\">S</text><line style=\"stroke: #383838; stroke-width: 1.5;\" x1=\"213.5\" x2=\"332.5\" y1=\"78.9375\" y2=\"78.9375\"/><line style=\"stroke: #383838; stroke-width: 1.5;\" x1=\"213.5\" x2=\"332.5\" y1=\"86.9375\" y2=\"86.9375\"/></a><g id=\"E1.E4\"><a href=\"psysml:d526add9-9153-4d94-82de-e3d10cc7d584\" target=\"_top\" title=\"psysml:d526add9-9153-4d94-82de-e3d10cc7d584\" xlink:actuate=\"onRequest\" xlink:href=\"psysml:d526add9-9153-4d94-82de-e3d10cc7d584\" xlink:show=\"new\" xlink:title=\"psysml:d526add9-9153-4d94-82de-e3d10cc7d584\" xlink:type=\"simple\"><rect fill=\"#FFFFFF\" height=\"40\" id=\"E4\" rx=\"10\" ry=\"10\" style=\"stroke: #383838; stroke-width: 1.5;\" width=\"50\" x=\"127\" y=\"48\"/><rect fill=\"#F8F8F8\" height=\"23.9688\" rx=\"10\" ry=\"10\" style=\"stroke: #F8F8F8; stroke-width: 1.5;\" width=\"50\" x=\"127\" y=\"48\"/><rect fill=\"#F8F8F8\" height=\"10\" style=\"stroke: #F8F8F8; stroke-width: 1.5;\" width=\"50\" x=\"127\" y=\"61.9688\"/><rect fill=\"none\" height=\"40\" id=\"E4\" rx=\"10\" ry=\"10\" style=\"stroke: #383838; stroke-width: 1.5;\" width=\"50\" x=\"127\" y=\"48\"/><text fill=\"#000000\" font-family=\"sans-serif\" font-size=\"12\" lengthAdjust=\"spacingAndGlyphs\" textLength=\"8\" x=\"148\" y=\"64.1387\">p</text></a></g><g id=\"E1.E5\"><a href=\"psysml:12bd5d36-0dbf-4715-90c3-b0b875efee55\" target=\"_top\" title=\"psysml:12bd5d36-0dbf-4715-90c3-b0b875efee55\" xlink:actuate=\"onRequest\" xlink:href=\"psysml:12bd5d36-0dbf-4715-90c3-b0b875efee55\" xlink:show=\"new\" xlink:title=\"psysml:12bd5d36-0dbf-4715-90c3-b0b875efee55\" xlink:type=\"simple\"><rect fill=\"#FFFFFF\" height=\"42.9375\" id=\"E5\" rx=\"10\" ry=\"10\" style=\"stroke: #383838; stroke-width: 1.5;\" width=\"60\" x=\"32\" y=\"46.5\"/><rect fill=\"#F8F8F8\" height=\"37.9375\" rx=\"10\" ry=\"10\" style=\"stroke: #F8F8F8; stroke-width: 1.5;\" width=\"60\" x=\"32\" y=\"46.5\"/><rect fill=\"#F8F8F8\" height=\"10\" style=\"stroke: #F8F8F8; stroke-width: 1.5;\" width=\"60\" x=\"32\" y=\"74.4375\"/><rect fill=\"none\" height=\"42.9375\" id=\"E5\" rx=\"10\" ry=\"10\" style=\"stroke: #383838; stroke-width: 1.5;\" width=\"60\" x=\"32\" y=\"46.5\"/><text fill=\"#000000\" font-family=\"sans-serif\" font-size=\"12\" font-style=\"italic\" lengthAdjust=\"spacingAndGlyphs\" textLength=\"53\" x=\"35.5\" y=\"62.6387\">«action»</text><text fill=\"#000000\" font-family=\"sans-serif\" font-size=\"12\" lengthAdjust=\"spacingAndGlyphs\" textLength=\"20\" x=\"52\" y=\"76.6074\">act</text></a></g><!--MD5=[84188be1b242b02ab42f81508d344d81]\n",
       "@startuml\r\n",
       "skinparam ranksep 8\r\n",
       "skinparam rectangle {\r\n",
       " backgroundColor<<block>> LightGreen\r\n",
       "}\r\n",
       "skinparam linetype polyline\r\n",
       "skinparam monochrome true\r\n",
       "skinparam classbackgroundcolor white\r\n",
       "skinparam shadowing false\r\n",
       "skinparam wrapWidth 300\r\n",
       "hide circle\r\n",
       "\r\n",
       "package \"StateTest\" as E1  [[psysml:a2ca8720-bd4b-4556-9b27-091331149f1f ]]  {\r\n",
       "def \"Sig\" as E2  <<(T,blue)attribute def>> [[psysml:9b0c6b07-76e0-48e6-88f4-e6a2c752e8e3 ]] \r\n",
       "def \"Exit\" as E3  <<(T,blue)attribute def>> [[psysml:75ee6cec-68f4-495e-910b-3cf4854ee540 ]] \r\n",
       "rec usage \"p\" as E4  [[psysml:d526add9-9153-4d94-82de-e3d10cc7d584 ]] {\r\n",
       "}\r\n",
       "rec usage \"act\" as E5  <<(T,blue)action>> [[psysml:12bd5d36-0dbf-4715-90c3-b0b875efee55 ]] {\r\n",
       "}\r\n",
       "def \"S\" as E6  <<(T,blue)state def>> [[psysml:b6aa9f25-72f8-4c2c-a7be-6589070e9bf6 ]] \r\n",
       "}\r\n",
       "@enduml\r\n",
       "\n",
       "PlantUML version 1.2020.13(Sat Jun 13 12:26:38 UTC 2020)\n",
       "(EPL source distribution)\n",
       "Java Runtime: OpenJDK Runtime Environment\n",
       "JVM: OpenJDK 64-Bit Server VM\n",
       "Default Encoding: UTF-8\n",
       "Language: en\n",
       "Country: null\n",
       "--></g></svg>"
      ]
     },
     "execution_count": 12,
     "metadata": {},
     "output_type": "execute_result"
    }
   ],
   "source": [
    "%viz --style=\"POLYLINE\" --view=\"Interconnection\" \"StateTest\""
   ]
  },
  {
   "cell_type": "code",
   "execution_count": 13,
   "id": "maritime-bachelor",
   "metadata": {
    "execution": {
     "iopub.execute_input": "2021-03-25T15:06:55.555267Z",
     "iopub.status.busy": "2021-03-25T15:06:55.554649Z",
     "iopub.status.idle": "2021-03-25T15:06:55.594007Z",
     "shell.execute_reply": "2021-03-25T15:06:55.593557Z"
    }
   },
   "outputs": [
    {
     "data": {
      "image/svg+xml": [
       "<?xml version=\"1.0\" encoding=\"UTF-8\" standalone=\"no\"?><svg xmlns=\"http://www.w3.org/2000/svg\" xmlns:xlink=\"http://www.w3.org/1999/xlink\" contentScriptType=\"application/ecmascript\" contentStyleType=\"text/css\" height=\"483px\" preserveAspectRatio=\"none\" style=\"width:788px;height:483px;background:#000000;\" version=\"1.1\" viewBox=\"0 0 788 483\" width=\"788px\" zoomAndPan=\"magnify\"><defs/><g><rect fill=\"#020714\" height=\"1\" style=\"stroke: #020714; stroke-width: 1.0;\" width=\"1\" x=\"0\" y=\"0\"/><rect fill=\"#33FF02\" height=\"21.2969\" style=\"stroke: #33FF02; stroke-width: 1.0;\" width=\"781\" x=\"5\" y=\"5\"/><text fill=\"#000000\" font-family=\"sans-serif\" font-size=\"14\" font-weight=\"bold\" lengthAdjust=\"spacingAndGlyphs\" textLength=\"178\" x=\"6\" y=\"20\">[From string (line 26) ]</text><text fill=\"#33FF02\" font-family=\"sans-serif\" font-size=\"14\" font-weight=\"bold\" lengthAdjust=\"spacingAndGlyphs\" textLength=\"0\" x=\"10\" y=\"40.2969\"/><text fill=\"#33FF02\" font-family=\"sans-serif\" font-size=\"14\" font-weight=\"bold\" lengthAdjust=\"spacingAndGlyphs\" textLength=\"79\" x=\"5\" y=\"56.5938\">@startuml</text><text fill=\"#33FF02\" font-family=\"sans-serif\" font-size=\"14\" font-weight=\"bold\" lengthAdjust=\"spacingAndGlyphs\" textLength=\"165\" x=\"5\" y=\"72.8906\">skinparam ranksep 8</text><text fill=\"#33FF02\" font-family=\"sans-serif\" font-size=\"14\" font-weight=\"bold\" lengthAdjust=\"spacingAndGlyphs\" textLength=\"215\" x=\"5\" y=\"89.1875\">skinparam linetype polyline</text><text fill=\"#33FF02\" font-family=\"sans-serif\" font-size=\"14\" font-weight=\"bold\" lengthAdjust=\"spacingAndGlyphs\" textLength=\"228\" x=\"5\" y=\"105.4844\">skinparam monochrome true</text><text fill=\"#33FF02\" font-family=\"sans-serif\" font-size=\"14\" font-weight=\"bold\" lengthAdjust=\"spacingAndGlyphs\" textLength=\"309\" x=\"5\" y=\"121.7813\">skinparam classbackgroundcolor white</text><text fill=\"#33FF02\" font-family=\"sans-serif\" font-size=\"14\" font-weight=\"bold\" lengthAdjust=\"spacingAndGlyphs\" textLength=\"215\" x=\"5\" y=\"138.0781\">skinparam shadowing false</text><text fill=\"#33FF02\" font-family=\"sans-serif\" font-size=\"14\" font-weight=\"bold\" lengthAdjust=\"spacingAndGlyphs\" textLength=\"206\" x=\"5\" y=\"154.375\">skinparam wrapWidth 300</text><text fill=\"#33FF02\" font-family=\"sans-serif\" font-size=\"14\" font-weight=\"bold\" lengthAdjust=\"spacingAndGlyphs\" textLength=\"82\" x=\"5\" y=\"170.6719\">hide circle</text><text fill=\"#33FF02\" font-family=\"sans-serif\" font-size=\"14\" font-weight=\"bold\" lengthAdjust=\"spacingAndGlyphs\" textLength=\"0\" x=\"10\" y=\"186.9688\"/><text fill=\"#33FF02\" font-family=\"sans-serif\" font-size=\"14\" font-weight=\"bold\" lengthAdjust=\"spacingAndGlyphs\" textLength=\"781\" x=\"5\" y=\"203.2656\">rec usage \"act\" as E1  &lt;&lt;(T,blue)action&gt;&gt; [[psysml:12bd5d36-0dbf-4715-90c3-b0b875efee55 ]] {</text><text fill=\"#33FF02\" font-family=\"sans-serif\" font-size=\"14\" font-weight=\"bold\" lengthAdjust=\"spacingAndGlyphs\" textLength=\"10\" x=\"5\" y=\"219.5625\">}</text><text fill=\"#33FF02\" font-family=\"sans-serif\" font-size=\"14\" font-weight=\"bold\" lengthAdjust=\"spacingAndGlyphs\" textLength=\"0\" x=\"10\" y=\"235.8594\"/><text fill=\"#33FF02\" font-family=\"sans-serif\" font-size=\"14\" font-weight=\"bold\" lengthAdjust=\"spacingAndGlyphs\" textLength=\"760\" x=\"5\" y=\"252.1563\">rec def \"S\" as E2  &lt;&lt;(T,blue)state def&gt;&gt; [[psysml:b6aa9f25-72f8-4c2c-a7be-6589070e9bf6 ]] {</text><text fill=\"#33FF02\" font-family=\"sans-serif\" font-size=\"14\" font-weight=\"bold\" lengthAdjust=\"spacingAndGlyphs\" textLength=\"761\" x=\"5\" y=\"268.4531\">rec usage \"A\" as E3 &lt;&lt;perform action&gt;&gt; [[psysml:7c853ef3-d7ff-4ebf-8ae8-b09e7153a971 ]] {</text><text fill=\"#33FF02\" font-family=\"sans-serif\" font-size=\"14\" font-weight=\"bold\" lengthAdjust=\"spacingAndGlyphs\" textLength=\"10\" x=\"5\" y=\"284.75\">}</text><text fill=\"#33FF02\" font-family=\"sans-serif\" font-size=\"14\" font-weight=\"bold\" lengthAdjust=\"spacingAndGlyphs\" textLength=\"0\" x=\"10\" y=\"301.0469\"/><text fill=\"#33FF02\" font-family=\"sans-serif\" font-size=\"14\" font-weight=\"bold\" lengthAdjust=\"spacingAndGlyphs\" textLength=\"765\" x=\"5\" y=\"317.3438\">rec usage \"B\" as E4 &lt;&lt;perform action&gt;&gt; [[psysml:dca473ca-f240-48c8-8410-315f8ab65930 ]] {</text><text fill=\"#33FF02\" font-family=\"sans-serif\" font-size=\"14\" font-weight=\"bold\" lengthAdjust=\"spacingAndGlyphs\" textLength=\"10\" x=\"5\" y=\"333.6406\">}</text><text fill=\"#33FF02\" font-family=\"sans-serif\" font-size=\"14\" font-weight=\"bold\" lengthAdjust=\"spacingAndGlyphs\" textLength=\"0\" x=\"10\" y=\"349.9375\"/><text fill=\"#33FF02\" font-family=\"sans-serif\" font-size=\"14\" font-weight=\"bold\" lengthAdjust=\"spacingAndGlyphs\" textLength=\"779\" x=\"5\" y=\"366.2344\">rec usage \"act\" as E5 &lt;&lt;perform action&gt;&gt; [[psysml:4cc25ae1-ca80-482c-9b62-70f98bd0e4f3 ]] {</text><text fill=\"#33FF02\" font-family=\"sans-serif\" font-size=\"14\" font-weight=\"bold\" lengthAdjust=\"spacingAndGlyphs\" textLength=\"10\" x=\"5\" y=\"382.5313\">}</text><text fill=\"#33FF02\" font-family=\"sans-serif\" font-size=\"14\" font-weight=\"bold\" lengthAdjust=\"spacingAndGlyphs\" textLength=\"0\" x=\"10\" y=\"398.8281\"/><text fill=\"#33FF02\" font-family=\"sans-serif\" font-size=\"14\" font-weight=\"bold\" lengthAdjust=\"spacingAndGlyphs\" textLength=\"763\" x=\"5\" y=\"415.125\">rec usage \"S1\" as E6  &lt;&lt;(T,blue)state&gt;&gt; [[psysml:1cabaaec-9539-448a-9df0-432fc817479b ]] {</text><text fill=\"#33FF02\" font-family=\"sans-serif\" font-size=\"14\" font-weight=\"bold\" lengthAdjust=\"spacingAndGlyphs\" textLength=\"10\" x=\"5\" y=\"431.4219\">}</text><text fill=\"#33FF02\" font-family=\"sans-serif\" font-size=\"14\" font-weight=\"bold\" lengthAdjust=\"spacingAndGlyphs\" textLength=\"0\" x=\"10\" y=\"447.7188\"/><text fill=\"#33FF02\" font-family=\"sans-serif\" font-size=\"14\" font-weight=\"bold\" lengthAdjust=\"spacingAndGlyphs\" textLength=\"10\" x=\"5\" y=\"464.0156\">{</text><text fill=\"#FF0000\" font-family=\"sans-serif\" font-size=\"14\" font-weight=\"bold\" lengthAdjust=\"spacingAndGlyphs\" textLength=\"106\" x=\"10\" y=\"480.3125\">Syntax Error?</text><!--MD5=[60ba26c9c87dd8416f6f142343e40851]\n",
       "@startuml\r\n",
       "skinparam ranksep 8\r\n",
       "skinparam linetype polyline\r\n",
       "skinparam monochrome true\r\n",
       "skinparam classbackgroundcolor white\r\n",
       "skinparam shadowing false\r\n",
       "skinparam wrapWidth 300\r\n",
       "hide circle\r\n",
       "\r\n",
       "rec usage \"act\" as E1  <<(T,blue)action>> [[psysml:12bd5d36-0dbf-4715-90c3-b0b875efee55 ]] {\r\n",
       "}\r\n",
       "\r\n",
       "rec def \"S\" as E2  <<(T,blue)state def>> [[psysml:b6aa9f25-72f8-4c2c-a7be-6589070e9bf6 ]] {\r\n",
       "rec usage \"A\" as E3 <<perform action>> [[psysml:7c853ef3-d7ff-4ebf-8ae8-b09e7153a971 ]] {\r\n",
       "}\r\n",
       "\r\n",
       "rec usage \"B\" as E4 <<perform action>> [[psysml:dca473ca-f240-48c8-8410-315f8ab65930 ]] {\r\n",
       "}\r\n",
       "\r\n",
       "rec usage \"act\" as E5 <<perform action>> [[psysml:4cc25ae1-ca80-482c-9b62-70f98bd0e4f3 ]] {\r\n",
       "}\r\n",
       "\r\n",
       "rec usage \"S1\" as E6  <<(T,blue)state>> [[psysml:1cabaaec-9539-448a-9df0-432fc817479b ]] {\r\n",
       "}\r\n",
       "\r\n",
       "{\r\n",
       "{\r\n",
       "}\r\n",
       "\r\n",
       "rec usage \"D\" as E7 <<perform action>> [[psysml:3510f31d-b177-4ebf-8714-3f9d2522539a ]] {\r\n",
       "}\r\n",
       "\r\n",
       "}\r\n",
       "\r\n",
       "rec usage \"S2\" as E8  <<(T,blue)state>> [[psysml:7a7b17a9-f595-41dc-990f-a07a1c17ba3c ]] {\r\n",
       "rec usage \"doAction\" as E9 <<send action>> [[psysml:fce0e4a1-8edc-4c38-93d6-a3b5e3670b25 ]] {\r\n",
       "portin \"$x\" as E10  [[psysml:0f9ee1be-4b0c-49df-bf39-0b4be923bab5 ]] \r\n",
       "portout \"$result\" as E11  [[psysml:57c23ed7-9c69-47d3-a300-7e2619377bac ]] \r\n",
       "}\r\n",
       "\r\n",
       "}\r\n",
       "\r\n",
       "{\r\n",
       "{\r\n",
       "}\r\n",
       "\r\n",
       "}\r\n",
       "\r\n",
       "rec usage \"T\" as E12  <<(T,blue)transition>> [[psysml:bcd703ca-2055-4c24-98bc-6c579eb31483 ]] {\r\n",
       "rec usage \"S2\" as E13  <<(T,blue)state>> [[psysml:7a7b17a9-f595-41dc-990f-a07a1c17ba3c ]] {\r\n",
       "rec usage \"doAction\" as E14 <<send action>> [[psysml:fce0e4a1-8edc-4c38-93d6-a3b5e3670b25 ]] {\r\n",
       "portin \"$x\" as E15  [[psysml:0f9ee1be-4b0c-49df-bf39-0b4be923bab5 ]] \r\n",
       "portout \"$result\" as E16  [[psysml:57c23ed7-9c69-47d3-a300-7e2619377bac ]] \r\n",
       "}\r\n",
       "\r\n",
       "}\r\n",
       "\r\n",
       "{\r\n",
       "}\r\n",
       "\r\n",
       "portout \"$result\" as E17  [[psysml:911b7f24-6054-424b-94f8-0593eb8f2c88 ]] \r\n",
       "{\r\n",
       "}\r\n",
       "\r\n",
       "}\r\n",
       "\r\n",
       "}\r\n",
       "\r\n",
       "@enduml\r\n",
       "\n",
       "PlantUML version 1.2020.13(Sat Jun 13 12:26:38 UTC 2020)\n",
       "(EPL source distribution)\n",
       "Java Runtime: OpenJDK Runtime Environment\n",
       "JVM: OpenJDK 64-Bit Server VM\n",
       "Default Encoding: UTF-8\n",
       "Language: en\n",
       "Country: null\n",
       "--></g></svg>"
      ]
     },
     "execution_count": 13,
     "metadata": {},
     "output_type": "execute_result"
    }
   ],
   "source": [
    "%viz --style=\"POLYLINE\" --view=\"Action\" \"StateTest\""
   ]
  },
  {
   "cell_type": "code",
   "execution_count": 14,
   "id": "excess-helena",
   "metadata": {
    "execution": {
     "iopub.execute_input": "2021-03-25T15:06:55.648178Z",
     "iopub.status.busy": "2021-03-25T15:06:55.646718Z",
     "iopub.status.idle": "2021-03-25T15:06:56.097496Z",
     "shell.execute_reply": "2021-03-25T15:06:56.095748Z"
    }
   },
   "outputs": [
    {
     "data": {
      "image/svg+xml": [
       "<?xml version=\"1.0\" encoding=\"UTF-8\" standalone=\"no\"?><svg xmlns=\"http://www.w3.org/2000/svg\" xmlns:xlink=\"http://www.w3.org/1999/xlink\" contentScriptType=\"application/ecmascript\" contentStyleType=\"text/css\" height=\"471px\" preserveAspectRatio=\"none\" style=\"width:594px;height:471px;\" version=\"1.1\" viewBox=\"0 0 594 471\" width=\"594px\" zoomAndPan=\"magnify\"><defs/><g><!--MD5=[fbc87193dbaf4d95561dea2c320d4a47]\n",
       "cluster E1--><a href=\"psysml:a2ca8720-bd4b-4556-9b27-091331149f1f\" target=\"_top\" title=\"psysml:a2ca8720-bd4b-4556-9b27-091331149f1f\" xlink:actuate=\"onRequest\" xlink:href=\"psysml:a2ca8720-bd4b-4556-9b27-091331149f1f\" xlink:show=\"new\" xlink:title=\"psysml:a2ca8720-bd4b-4556-9b27-091331149f1f\" xlink:type=\"simple\"><polygon fill=\"#FFFFFF\" points=\"16,6,98,6,105,28.2969,572,28.2969,572,459,16,459,16,6\" style=\"stroke: #000000; stroke-width: 1.5;\"/><line style=\"stroke: #000000; stroke-width: 1.5;\" x1=\"16\" x2=\"105\" y1=\"28.2969\" y2=\"28.2969\"/><text fill=\"#000000\" font-family=\"sans-serif\" font-size=\"14\" font-weight=\"bold\" lengthAdjust=\"spacingAndGlyphs\" textLength=\"76\" x=\"20\" y=\"20.9951\">StateTest</text></a><!--MD5=[b4997ac47864f28c2f74865a473b2911]\n",
       "class E2--><a href=\"psysml:9b0c6b07-76e0-48e6-88f4-e6a2c752e8e3\" target=\"_top\" title=\"psysml:9b0c6b07-76e0-48e6-88f4-e6a2c752e8e3\" xlink:actuate=\"onRequest\" xlink:href=\"psysml:9b0c6b07-76e0-48e6-88f4-e6a2c752e8e3\" xlink:show=\"new\" xlink:title=\"psysml:9b0c6b07-76e0-48e6-88f4-e6a2c752e8e3\" xlink:type=\"simple\"><rect fill=\"#FFFFFF\" height=\"75.5469\" id=\"E2\" style=\"stroke: #383838; stroke-width: 1.5;\" width=\"95\" x=\"460.5\" y=\"83\"/><text fill=\"#000000\" font-family=\"sans-serif\" font-size=\"12\" font-style=\"italic\" lengthAdjust=\"spacingAndGlyphs\" textLength=\"93\" x=\"461.5\" y=\"99.1387\">«attribute def»</text><text fill=\"#000000\" font-family=\"sans-serif\" font-size=\"12\" lengthAdjust=\"spacingAndGlyphs\" textLength=\"19\" x=\"498.5\" y=\"113.1074\">Sig</text><line style=\"stroke: #383838; stroke-width: 1.5;\" x1=\"461.5\" x2=\"554.5\" y1=\"120.9375\" y2=\"120.9375\"/><text fill=\"#000000\" font-family=\"sans-serif\" font-size=\"11\" lengthAdjust=\"spacingAndGlyphs\" textLength=\"6\" x=\"466.5\" y=\"151.9526\">x</text><line style=\"stroke: #383838; stroke-width: 1.0;\" x1=\"461.5\" x2=\"480.5\" y1=\"135.3398\" y2=\"135.3398\"/><text fill=\"#000000\" font-family=\"sans-serif\" font-size=\"11\" lengthAdjust=\"spacingAndGlyphs\" textLength=\"55\" x=\"480.5\" y=\"138.6479\">attributes</text><line style=\"stroke: #383838; stroke-width: 1.0;\" x1=\"535.5\" x2=\"554.5\" y1=\"135.3398\" y2=\"135.3398\"/></a><!--MD5=[09b614a08d8cba4a07c9adeb5e0fee81]\n",
       "class E3--><a href=\"psysml:75ee6cec-68f4-495e-910b-3cf4854ee540\" target=\"_top\" title=\"psysml:75ee6cec-68f4-495e-910b-3cf4854ee540\" xlink:actuate=\"onRequest\" xlink:href=\"psysml:75ee6cec-68f4-495e-910b-3cf4854ee540\" xlink:show=\"new\" xlink:title=\"psysml:75ee6cec-68f4-495e-910b-3cf4854ee540\" xlink:type=\"simple\"><rect fill=\"#FFFFFF\" height=\"45.9375\" id=\"E3\" style=\"stroke: #383838; stroke-width: 1.5;\" width=\"95\" x=\"330.5\" y=\"98\"/><text fill=\"#000000\" font-family=\"sans-serif\" font-size=\"12\" font-style=\"italic\" lengthAdjust=\"spacingAndGlyphs\" textLength=\"93\" x=\"331.5\" y=\"114.1387\">«attribute def»</text><text fill=\"#000000\" font-family=\"sans-serif\" font-size=\"12\" lengthAdjust=\"spacingAndGlyphs\" textLength=\"22\" x=\"367\" y=\"128.1074\">Exit</text><line style=\"stroke: #383838; stroke-width: 1.5;\" x1=\"331.5\" x2=\"424.5\" y1=\"135.9375\" y2=\"135.9375\"/></a><!--MD5=[ebbe1d658d1005bcc118a6aa81145e00]\n",
       "class E4--><a href=\"psysml:d526add9-9153-4d94-82de-e3d10cc7d584\" target=\"_top\" title=\"psysml:d526add9-9153-4d94-82de-e3d10cc7d584\" xlink:actuate=\"onRequest\" xlink:href=\"psysml:d526add9-9153-4d94-82de-e3d10cc7d584\" xlink:show=\"new\" xlink:title=\"psysml:d526add9-9153-4d94-82de-e3d10cc7d584\" xlink:type=\"simple\"><rect fill=\"#FFFFFF\" height=\"45.9375\" id=\"E4\" rx=\"10\" ry=\"10\" style=\"stroke: #383838; stroke-width: 1.5;\" width=\"42\" x=\"253\" y=\"98\"/><text fill=\"#000000\" font-family=\"sans-serif\" font-size=\"12\" font-style=\"italic\" lengthAdjust=\"spacingAndGlyphs\" textLength=\"40\" x=\"254\" y=\"114.1387\">«part»</text><text fill=\"#000000\" font-family=\"sans-serif\" font-size=\"12\" lengthAdjust=\"spacingAndGlyphs\" textLength=\"8\" x=\"270\" y=\"128.1074\">p</text><line style=\"stroke: #383838; stroke-width: 1.5;\" x1=\"254\" x2=\"294\" y1=\"135.9375\" y2=\"135.9375\"/></a><!--MD5=[270fce915f116d4de14055a7c1d9a0f3]\n",
       "class E5--><a href=\"psysml:12bd5d36-0dbf-4715-90c3-b0b875efee55\" target=\"_top\" title=\"psysml:12bd5d36-0dbf-4715-90c3-b0b875efee55\" xlink:actuate=\"onRequest\" xlink:href=\"psysml:12bd5d36-0dbf-4715-90c3-b0b875efee55\" xlink:show=\"new\" xlink:title=\"psysml:12bd5d36-0dbf-4715-90c3-b0b875efee55\" xlink:type=\"simple\"><rect fill=\"#FFFFFF\" height=\"45.9375\" id=\"E5\" rx=\"10\" ry=\"10\" style=\"stroke: #383838; stroke-width: 1.5;\" width=\"55\" x=\"162.5\" y=\"98\"/><text fill=\"#000000\" font-family=\"sans-serif\" font-size=\"12\" font-style=\"italic\" lengthAdjust=\"spacingAndGlyphs\" textLength=\"53\" x=\"163.5\" y=\"114.1387\">«action»</text><text fill=\"#000000\" font-family=\"sans-serif\" font-size=\"12\" lengthAdjust=\"spacingAndGlyphs\" textLength=\"20\" x=\"180\" y=\"128.1074\">act</text><line style=\"stroke: #383838; stroke-width: 1.5;\" x1=\"163.5\" x2=\"216.5\" y1=\"135.9375\" y2=\"135.9375\"/></a><!--MD5=[60a26617385b1d2d0262a64233df1f8d]\n",
       "class E6--><a href=\"psysml:b6aa9f25-72f8-4c2c-a7be-6589070e9bf6\" target=\"_top\" title=\"psysml:b6aa9f25-72f8-4c2c-a7be-6589070e9bf6\" xlink:actuate=\"onRequest\" xlink:href=\"psysml:b6aa9f25-72f8-4c2c-a7be-6589070e9bf6\" xlink:show=\"new\" xlink:title=\"psysml:b6aa9f25-72f8-4c2c-a7be-6589070e9bf6\" xlink:type=\"simple\"><rect fill=\"#FFFFFF\" height=\"160.375\" id=\"E6\" style=\"stroke: #383838; stroke-width: 1.5;\" width=\"95\" x=\"32.5\" y=\"41\"/><text fill=\"#000000\" font-family=\"sans-serif\" font-size=\"12\" font-style=\"italic\" lengthAdjust=\"spacingAndGlyphs\" textLength=\"71\" x=\"44.5\" y=\"57.1387\">«state def»</text><text fill=\"#000000\" font-family=\"sans-serif\" font-size=\"12\" lengthAdjust=\"spacingAndGlyphs\" textLength=\"8\" x=\"76\" y=\"71.1074\">S</text><line style=\"stroke: #383838; stroke-width: 1.5;\" x1=\"33.5\" x2=\"126.5\" y1=\"78.9375\" y2=\"78.9375\"/><text fill=\"#000000\" font-family=\"sans-serif\" font-size=\"11\" lengthAdjust=\"spacingAndGlyphs\" textLength=\"17\" x=\"38.5\" y=\"109.9526\">act</text><text fill=\"#000000\" font-family=\"sans-serif\" font-size=\"11\" lengthAdjust=\"spacingAndGlyphs\" textLength=\"7\" x=\"38.5\" y=\"122.7573\">A</text><text fill=\"#000000\" font-family=\"sans-serif\" font-size=\"11\" lengthAdjust=\"spacingAndGlyphs\" textLength=\"8\" x=\"38.5\" y=\"135.562\">B</text><line style=\"stroke: #383838; stroke-width: 1.0;\" x1=\"33.5\" x2=\"36.5\" y1=\"93.3398\" y2=\"93.3398\"/><text fill=\"#000000\" font-family=\"sans-serif\" font-size=\"11\" lengthAdjust=\"spacingAndGlyphs\" textLength=\"87\" x=\"36.5\" y=\"96.6479\">performActions</text><line style=\"stroke: #383838; stroke-width: 1.0;\" x1=\"123.5\" x2=\"126.5\" y1=\"93.3398\" y2=\"93.3398\"/><text fill=\"#000000\" font-family=\"sans-serif\" font-size=\"11\" lengthAdjust=\"spacingAndGlyphs\" textLength=\"15\" x=\"38.5\" y=\"165.1714\">S1</text><line style=\"stroke: #383838; stroke-width: 1.0;\" x1=\"33.5\" x2=\"62\" y1=\"148.5586\" y2=\"148.5586\"/><text fill=\"#000000\" font-family=\"sans-serif\" font-size=\"11\" lengthAdjust=\"spacingAndGlyphs\" textLength=\"36\" x=\"62\" y=\"151.8667\">states</text><line style=\"stroke: #383838; stroke-width: 1.0;\" x1=\"98\" x2=\"126.5\" y1=\"148.5586\" y2=\"148.5586\"/><text fill=\"#000000\" font-family=\"sans-serif\" font-size=\"11\" lengthAdjust=\"spacingAndGlyphs\" textLength=\"7\" x=\"38.5\" y=\"194.7808\">T</text><line style=\"stroke: #383838; stroke-width: 1.0;\" x1=\"33.5\" x2=\"49.5\" y1=\"178.168\" y2=\"178.168\"/><text fill=\"#000000\" font-family=\"sans-serif\" font-size=\"11\" lengthAdjust=\"spacingAndGlyphs\" textLength=\"61\" x=\"49.5\" y=\"181.4761\">transitions</text><line style=\"stroke: #383838; stroke-width: 1.0;\" x1=\"110.5\" x2=\"126.5\" y1=\"178.168\" y2=\"178.168\"/></a><!--MD5=[1dd1bfd58a279cf63c5f349dbc8fc6a1]\n",
       "class E11--><a href=\"psysml:7a7b17a9-f595-41dc-990f-a07a1c17ba3c\" target=\"_top\" title=\"psysml:7a7b17a9-f595-41dc-990f-a07a1c17ba3c\" xlink:actuate=\"onRequest\" xlink:href=\"psysml:7a7b17a9-f595-41dc-990f-a07a1c17ba3c\" xlink:show=\"new\" xlink:title=\"psysml:7a7b17a9-f595-41dc-990f-a07a1c17ba3c\" xlink:type=\"simple\"><rect fill=\"#FFFFFF\" height=\"45.9375\" id=\"E11\" rx=\"10\" ry=\"10\" style=\"stroke: #383838; stroke-width: 1.5;\" width=\"49\" x=\"55.5\" y=\"261\"/><text fill=\"#000000\" font-family=\"sans-serif\" font-size=\"12\" font-style=\"italic\" lengthAdjust=\"spacingAndGlyphs\" textLength=\"47\" x=\"56.5\" y=\"277.1387\">«state»</text><text fill=\"#000000\" font-family=\"sans-serif\" font-size=\"12\" lengthAdjust=\"spacingAndGlyphs\" textLength=\"16\" x=\"72\" y=\"291.1074\">S2</text><line style=\"stroke: #383838; stroke-width: 1.5;\" x1=\"56.5\" x2=\"103.5\" y1=\"298.9375\" y2=\"298.9375\"/></a><!--MD5=[49a0ec8f00dab7302a31f22d0f0fe584]\n",
       "class E12--><a href=\"psysml:fce0e4a1-8edc-4c38-93d6-a3b5e3670b25\" target=\"_top\" title=\"psysml:fce0e4a1-8edc-4c38-93d6-a3b5e3670b25\" xlink:actuate=\"onRequest\" xlink:href=\"psysml:fce0e4a1-8edc-4c38-93d6-a3b5e3670b25\" xlink:show=\"new\" xlink:title=\"psysml:fce0e4a1-8edc-4c38-93d6-a3b5e3670b25\" xlink:type=\"simple\"><rect fill=\"#FFFFFF\" height=\"75.5469\" id=\"E12\" rx=\"10\" ry=\"10\" style=\"stroke: #383838; stroke-width: 1.5;\" width=\"90\" x=\"35\" y=\"367\"/><text fill=\"#000000\" font-family=\"sans-serif\" font-size=\"12\" font-style=\"italic\" lengthAdjust=\"spacingAndGlyphs\" textLength=\"88\" x=\"36\" y=\"383.1387\">«send action»</text><text fill=\"#000000\" font-family=\"sans-serif\" font-size=\"12\" lengthAdjust=\"spacingAndGlyphs\" textLength=\"55\" x=\"52.5\" y=\"397.1074\">doAction</text><line style=\"stroke: #383838; stroke-width: 1.5;\" x1=\"36\" x2=\"124\" y1=\"404.9375\" y2=\"404.9375\"/><text fill=\"#000000\" font-family=\"sans-serif\" font-size=\"11\" lengthAdjust=\"spacingAndGlyphs\" textLength=\"25\" x=\"41\" y=\"435.9526\">item</text><line style=\"stroke: #383838; stroke-width: 1.0;\" x1=\"36\" x2=\"42.5\" y1=\"419.3398\" y2=\"419.3398\"/><text fill=\"#000000\" font-family=\"sans-serif\" font-size=\"11\" lengthAdjust=\"spacingAndGlyphs\" textLength=\"75\" x=\"42.5\" y=\"422.6479\">itemFeatures</text><line style=\"stroke: #383838; stroke-width: 1.0;\" x1=\"117.5\" x2=\"124\" y1=\"419.3398\" y2=\"419.3398\"/></a><!--MD5=[1f5f03483f7de0d5b3680a7f6650997f]\n",
       "reverse link E6 to E11--><a href=\"psysml:7a7b17a9-f595-41dc-990f-a07a1c17ba3c\" target=\"_top\" title=\"psysml:7a7b17a9-f595-41dc-990f-a07a1c17ba3c\" xlink:actuate=\"onRequest\" xlink:href=\"psysml:7a7b17a9-f595-41dc-990f-a07a1c17ba3c\" xlink:show=\"new\" xlink:title=\"psysml:7a7b17a9-f595-41dc-990f-a07a1c17ba3c\" xlink:type=\"simple\"><path d=\"M80,214.17 C80,231.58 80,248.25 80,260.82 \" fill=\"none\" id=\"E6&lt;-E11\" style=\"stroke: #383838; stroke-width: 1.0;\"/><polygon fill=\"#383838\" points=\"80,201.09,76.0066,207.0944,80.0132,213.09,84.0066,207.0856,80,201.09\" style=\"stroke: #383838; stroke-width: 1.0;\"/></a><!--MD5=[94adabc162ce7e41b39f13be14fbaeb3]\n",
       "reverse link E11 to E12--><a href=\"psysml:fce0e4a1-8edc-4c38-93d6-a3b5e3670b25\" target=\"_top\" title=\"psysml:fce0e4a1-8edc-4c38-93d6-a3b5e3670b25\" xlink:actuate=\"onRequest\" xlink:href=\"psysml:fce0e4a1-8edc-4c38-93d6-a3b5e3670b25\" xlink:show=\"new\" xlink:title=\"psysml:fce0e4a1-8edc-4c38-93d6-a3b5e3670b25\" xlink:type=\"simple\"><path d=\"M80,320.23 C80,334.82 80,351.76 80,366.58 \" fill=\"none\" id=\"E11&lt;-E12\" style=\"stroke: #383838; stroke-width: 1.0;\"/><polygon fill=\"#FFFFFF\" points=\"80,307.1,76,313.1,80,319.1,84,313.1,80,307.1\" style=\"stroke: #383838; stroke-width: 1.0;\"/></a><!--MD5=[fb58d5991ccea84c83557a81515910d9]\n",
       "@startuml\r\n",
       "skinparam linetype polyline\r\n",
       "skinparam monochrome true\r\n",
       "skinparam classbackgroundcolor white\r\n",
       "skinparam shadowing false\r\n",
       "skinparam wrapWidth 300\r\n",
       "hide circle\r\n",
       "\r\n",
       "package \"StateTest\" as E1  [[psysml:a2ca8720-bd4b-4556-9b27-091331149f1f ]]  {\r\n",
       "comp def \"Sig\" as E2  <<(T,blue)attribute def>> [[psysml:9b0c6b07-76e0-48e6-88f4-e6a2c752e8e3 ]] {\r\n",
       "- - attributes - -\r\n",
       "x\r\n",
       "}\r\n",
       "comp def \"Exit\" as E3  <<(T,blue)attribute def>> [[psysml:75ee6cec-68f4-495e-910b-3cf4854ee540 ]] {\r\n",
       "}\r\n",
       "comp usage \"p\" as E4  <<(T,blue)part>> [[psysml:d526add9-9153-4d94-82de-e3d10cc7d584 ]] {\r\n",
       "}\r\n",
       "comp usage \"act\" as E5  <<(T,blue)action>> [[psysml:12bd5d36-0dbf-4715-90c3-b0b875efee55 ]] {\r\n",
       "}\r\n",
       "comp def \"S\" as E6  <<(T,blue)state def>> [[psysml:b6aa9f25-72f8-4c2c-a7be-6589070e9bf6 ]] {\r\n",
       "- - performActions - -\r\n",
       "act\r\n",
       "A\r\n",
       "B\r\n",
       "- - states - -\r\n",
       "S1\r\n",
       "- - transitions - -\r\n",
       "T\r\n",
       "}\r\n",
       "comp usage \"S2\" as E11  <<(T,blue)state>> [[psysml:7a7b17a9-f595-41dc-990f-a07a1c17ba3c ]] {\r\n",
       "}\r\n",
       "comp usage \"doAction\" as E12 <<send action>> [[psysml:fce0e4a1-8edc-4c38-93d6-a3b5e3670b25 ]] {\r\n",
       "- - itemFeatures - -\r\n",
       "item\r\n",
       "}\r\n",
       "E6 *- - E11 [[psysml:7a7b17a9-f595-41dc-990f-a07a1c17ba3c ]] \r\n",
       "E11 o- - E12 [[psysml:fce0e4a1-8edc-4c38-93d6-a3b5e3670b25 ]] \r\n",
       "}\r\n",
       "@enduml\r\n",
       "\n",
       "PlantUML version 1.2020.13(Sat Jun 13 12:26:38 UTC 2020)\n",
       "(EPL source distribution)\n",
       "Java Runtime: OpenJDK Runtime Environment\n",
       "JVM: OpenJDK 64-Bit Server VM\n",
       "Default Encoding: UTF-8\n",
       "Language: en\n",
       "Country: null\n",
       "--></g></svg>"
      ]
     },
     "execution_count": 14,
     "metadata": {},
     "output_type": "execute_result"
    }
   ],
   "source": [
    "%viz --style=\"POLYLINE\" --view=\"Sequence\" \"StateTest\""
   ]
  },
  {
   "cell_type": "code",
   "execution_count": 15,
   "id": "weighted-transformation",
   "metadata": {
    "execution": {
     "iopub.execute_input": "2021-03-25T15:06:56.148636Z",
     "iopub.status.busy": "2021-03-25T15:06:56.148091Z",
     "iopub.status.idle": "2021-03-25T15:06:56.337312Z",
     "shell.execute_reply": "2021-03-25T15:06:56.337772Z"
    }
   },
   "outputs": [
    {
     "data": {
      "image/svg+xml": [
       "<?xml version=\"1.0\" encoding=\"UTF-8\" standalone=\"no\"?><svg xmlns=\"http://www.w3.org/2000/svg\" xmlns:xlink=\"http://www.w3.org/1999/xlink\" contentScriptType=\"application/ecmascript\" contentStyleType=\"text/css\" height=\"570px\" preserveAspectRatio=\"none\" style=\"width:819px;height:570px;\" version=\"1.1\" viewBox=\"0 0 819 570\" width=\"819px\" zoomAndPan=\"magnify\"><defs/><g><!--MD5=[fbc87193dbaf4d95561dea2c320d4a47]\n",
       "cluster E1--><a href=\"psysml:a2ca8720-bd4b-4556-9b27-091331149f1f\" target=\"_top\" title=\"psysml:a2ca8720-bd4b-4556-9b27-091331149f1f\" xlink:actuate=\"onRequest\" xlink:href=\"psysml:a2ca8720-bd4b-4556-9b27-091331149f1f\" xlink:show=\"new\" xlink:title=\"psysml:a2ca8720-bd4b-4556-9b27-091331149f1f\" xlink:type=\"simple\"><polygon fill=\"#FFFFFF\" points=\"16,6,98,6,105,28.2969,797,28.2969,797,558,16,558,16,6\" style=\"stroke: #000000; stroke-width: 1.5;\"/><line style=\"stroke: #000000; stroke-width: 1.5;\" x1=\"16\" x2=\"105\" y1=\"28.2969\" y2=\"28.2969\"/><text fill=\"#000000\" font-family=\"sans-serif\" font-size=\"14\" font-weight=\"bold\" lengthAdjust=\"spacingAndGlyphs\" textLength=\"76\" x=\"20\" y=\"20.9951\">StateTest</text></a><!--MD5=[14e3b0961a2654348d326746436168a1]\n",
       "cluster E6--><a href=\"psysml:b6aa9f25-72f8-4c2c-a7be-6589070e9bf6\" target=\"_top\" title=\"psysml:b6aa9f25-72f8-4c2c-a7be-6589070e9bf6\" xlink:actuate=\"onRequest\" xlink:href=\"psysml:b6aa9f25-72f8-4c2c-a7be-6589070e9bf6\" xlink:show=\"new\" xlink:title=\"psysml:b6aa9f25-72f8-4c2c-a7be-6589070e9bf6\" xlink:type=\"simple\"><rect fill=\"#FFFFFF\" height=\"485\" id=\"E6\" style=\"stroke: #383838; stroke-width: 1.5;\" width=\"327\" x=\"446\" y=\"49\"/><rect fill=\"#F8F8F8\" height=\"37.9375\" style=\"stroke: #383838; stroke-width: 1.5;\" width=\"327\" x=\"446\" y=\"49\"/><text fill=\"#000000\" font-family=\"sans-serif\" font-size=\"12\" font-style=\"italic\" lengthAdjust=\"spacingAndGlyphs\" textLength=\"71\" x=\"574\" y=\"65.1387\">«state def»</text><text fill=\"#000000\" font-family=\"sans-serif\" font-size=\"12\" lengthAdjust=\"spacingAndGlyphs\" textLength=\"8\" x=\"605.5\" y=\"79.1074\">S</text><line style=\"stroke: #383838; stroke-width: 1.0;\" x1=\"446\" x2=\"773\" y1=\"132.8438\" y2=\"132.8438\"/><text fill=\"#000000\" font-family=\"sans-serif\" font-size=\"12\" font-weight=\"bold\" lengthAdjust=\"spacingAndGlyphs\" textLength=\"38\" x=\"451\" y=\"100.0762\">entry</text><text fill=\"#000000\" font-family=\"sans-serif\" font-size=\"12\" lengthAdjust=\"spacingAndGlyphs\" textLength=\"16\" x=\"489\" y=\"100.0762\">/ A</text><text fill=\"#000000\" font-family=\"sans-serif\" font-size=\"12\" font-weight=\"bold\" lengthAdjust=\"spacingAndGlyphs\" textLength=\"18\" x=\"451\" y=\"114.0449\">do</text><text fill=\"#000000\" font-family=\"sans-serif\" font-size=\"12\" lengthAdjust=\"spacingAndGlyphs\" textLength=\"16\" x=\"469\" y=\"114.0449\">/ B</text><text fill=\"#000000\" font-family=\"sans-serif\" font-size=\"12\" font-weight=\"bold\" lengthAdjust=\"spacingAndGlyphs\" textLength=\"26\" x=\"451\" y=\"128.0137\">exit</text><text fill=\"#000000\" font-family=\"sans-serif\" font-size=\"12\" lengthAdjust=\"spacingAndGlyphs\" textLength=\"28\" x=\"477\" y=\"128.0137\">/ act</text></a><!--MD5=[b4997ac47864f28c2f74865a473b2911]\n",
       "class E2--><a href=\"psysml:9b0c6b07-76e0-48e6-88f4-e6a2c752e8e3\" target=\"_top\" title=\"psysml:9b0c6b07-76e0-48e6-88f4-e6a2c752e8e3\" xlink:actuate=\"onRequest\" xlink:href=\"psysml:9b0c6b07-76e0-48e6-88f4-e6a2c752e8e3\" xlink:show=\"new\" xlink:title=\"psysml:9b0c6b07-76e0-48e6-88f4-e6a2c752e8e3\" xlink:type=\"simple\"><rect fill=\"#FFFFFF\" height=\"75.5469\" id=\"E2\" style=\"stroke: #383838; stroke-width: 1.5;\" width=\"95\" x=\"334.5\" y=\"119\"/><text fill=\"#000000\" font-family=\"sans-serif\" font-size=\"12\" font-style=\"italic\" lengthAdjust=\"spacingAndGlyphs\" textLength=\"93\" x=\"335.5\" y=\"135.1387\">«attribute def»</text><text fill=\"#000000\" font-family=\"sans-serif\" font-size=\"12\" lengthAdjust=\"spacingAndGlyphs\" textLength=\"19\" x=\"372.5\" y=\"149.1074\">Sig</text><line style=\"stroke: #383838; stroke-width: 1.5;\" x1=\"335.5\" x2=\"428.5\" y1=\"156.9375\" y2=\"156.9375\"/><text fill=\"#000000\" font-family=\"sans-serif\" font-size=\"11\" lengthAdjust=\"spacingAndGlyphs\" textLength=\"6\" x=\"340.5\" y=\"187.9526\">x</text><line style=\"stroke: #383838; stroke-width: 1.0;\" x1=\"335.5\" x2=\"354.5\" y1=\"171.3398\" y2=\"171.3398\"/><text fill=\"#000000\" font-family=\"sans-serif\" font-size=\"11\" lengthAdjust=\"spacingAndGlyphs\" textLength=\"55\" x=\"354.5\" y=\"174.6479\">attributes</text><line style=\"stroke: #383838; stroke-width: 1.0;\" x1=\"409.5\" x2=\"428.5\" y1=\"171.3398\" y2=\"171.3398\"/></a><!--MD5=[09b614a08d8cba4a07c9adeb5e0fee81]\n",
       "class E3--><a href=\"psysml:75ee6cec-68f4-495e-910b-3cf4854ee540\" target=\"_top\" title=\"psysml:75ee6cec-68f4-495e-910b-3cf4854ee540\" xlink:actuate=\"onRequest\" xlink:href=\"psysml:75ee6cec-68f4-495e-910b-3cf4854ee540\" xlink:show=\"new\" xlink:title=\"psysml:75ee6cec-68f4-495e-910b-3cf4854ee540\" xlink:type=\"simple\"><rect fill=\"#FFFFFF\" height=\"45.9375\" id=\"E3\" style=\"stroke: #383838; stroke-width: 1.5;\" width=\"95\" x=\"204.5\" y=\"134\"/><text fill=\"#000000\" font-family=\"sans-serif\" font-size=\"12\" font-style=\"italic\" lengthAdjust=\"spacingAndGlyphs\" textLength=\"93\" x=\"205.5\" y=\"150.1387\">«attribute def»</text><text fill=\"#000000\" font-family=\"sans-serif\" font-size=\"12\" lengthAdjust=\"spacingAndGlyphs\" textLength=\"22\" x=\"241\" y=\"164.1074\">Exit</text><line style=\"stroke: #383838; stroke-width: 1.5;\" x1=\"205.5\" x2=\"298.5\" y1=\"171.9375\" y2=\"171.9375\"/></a><!--MD5=[ebbe1d658d1005bcc118a6aa81145e00]\n",
       "class E4--><a href=\"psysml:d526add9-9153-4d94-82de-e3d10cc7d584\" target=\"_top\" title=\"psysml:d526add9-9153-4d94-82de-e3d10cc7d584\" xlink:actuate=\"onRequest\" xlink:href=\"psysml:d526add9-9153-4d94-82de-e3d10cc7d584\" xlink:show=\"new\" xlink:title=\"psysml:d526add9-9153-4d94-82de-e3d10cc7d584\" xlink:type=\"simple\"><rect fill=\"#FFFFFF\" height=\"45.9375\" id=\"E4\" rx=\"10\" ry=\"10\" style=\"stroke: #383838; stroke-width: 1.5;\" width=\"42\" x=\"127\" y=\"134\"/><text fill=\"#000000\" font-family=\"sans-serif\" font-size=\"12\" font-style=\"italic\" lengthAdjust=\"spacingAndGlyphs\" textLength=\"40\" x=\"128\" y=\"150.1387\">«part»</text><text fill=\"#000000\" font-family=\"sans-serif\" font-size=\"12\" lengthAdjust=\"spacingAndGlyphs\" textLength=\"8\" x=\"144\" y=\"164.1074\">p</text><line style=\"stroke: #383838; stroke-width: 1.5;\" x1=\"128\" x2=\"168\" y1=\"171.9375\" y2=\"171.9375\"/></a><g id=\"E1.E5\"><a href=\"psysml:12bd5d36-0dbf-4715-90c3-b0b875efee55\" target=\"_top\" title=\"psysml:12bd5d36-0dbf-4715-90c3-b0b875efee55\" xlink:actuate=\"onRequest\" xlink:href=\"psysml:12bd5d36-0dbf-4715-90c3-b0b875efee55\" xlink:show=\"new\" xlink:title=\"psysml:12bd5d36-0dbf-4715-90c3-b0b875efee55\" xlink:type=\"simple\"><rect fill=\"#FFFFFF\" height=\"42.9375\" id=\"E5\" rx=\"10\" ry=\"10\" style=\"stroke: #383838; stroke-width: 1.5;\" width=\"60\" x=\"32\" y=\"135.5\"/><rect fill=\"#F8F8F8\" height=\"37.9375\" rx=\"10\" ry=\"10\" style=\"stroke: #F8F8F8; stroke-width: 1.5;\" width=\"60\" x=\"32\" y=\"135.5\"/><rect fill=\"#F8F8F8\" height=\"10\" style=\"stroke: #F8F8F8; stroke-width: 1.5;\" width=\"60\" x=\"32\" y=\"163.4375\"/><rect fill=\"none\" height=\"42.9375\" id=\"E5\" rx=\"10\" ry=\"10\" style=\"stroke: #383838; stroke-width: 1.5;\" width=\"60\" x=\"32\" y=\"135.5\"/><text fill=\"#000000\" font-family=\"sans-serif\" font-size=\"12\" font-style=\"italic\" lengthAdjust=\"spacingAndGlyphs\" textLength=\"53\" x=\"35.5\" y=\"151.6387\">«action»</text><text fill=\"#000000\" font-family=\"sans-serif\" font-size=\"12\" lengthAdjust=\"spacingAndGlyphs\" textLength=\"20\" x=\"52\" y=\"165.6074\">act</text></a></g><ellipse cx=\"558\" cy=\"157\" fill=\"#000000\" rx=\"10\" ry=\"10\" style=\"stroke: none; stroke-width: 1.0;\"/><ellipse cx=\"558\" cy=\"508\" fill=\"none\" rx=\"10\" ry=\"10\" style=\"stroke: #000000; stroke-width: 1.0;\"/><ellipse cx=\"558.5\" cy=\"508.5\" fill=\"#000000\" rx=\"6\" ry=\"6\" style=\"stroke: none; stroke-width: 1.0;\"/><g id=\"E1.E6.E7\"><a href=\"psysml:1cabaaec-9539-448a-9df0-432fc817479b\" target=\"_top\" title=\"psysml:1cabaaec-9539-448a-9df0-432fc817479b\" xlink:actuate=\"onRequest\" xlink:href=\"psysml:1cabaaec-9539-448a-9df0-432fc817479b\" xlink:show=\"new\" xlink:title=\"psysml:1cabaaec-9539-448a-9df0-432fc817479b\" xlink:type=\"simple\"><rect fill=\"#FFFFFF\" height=\"40\" id=\"E7\" rx=\"10\" ry=\"10\" style=\"stroke: #383838; stroke-width: 1.5;\" width=\"50\" x=\"533\" y=\"256\"/><rect fill=\"#F8F8F8\" height=\"23.9688\" rx=\"10\" ry=\"10\" style=\"stroke: #F8F8F8; stroke-width: 1.5;\" width=\"50\" x=\"533\" y=\"256\"/><rect fill=\"#F8F8F8\" height=\"10\" style=\"stroke: #F8F8F8; stroke-width: 1.5;\" width=\"50\" x=\"533\" y=\"269.9688\"/><rect fill=\"none\" height=\"40\" id=\"E7\" rx=\"10\" ry=\"10\" style=\"stroke: #383838; stroke-width: 1.5;\" width=\"50\" x=\"533\" y=\"256\"/><text fill=\"#000000\" font-family=\"sans-serif\" font-size=\"12\" lengthAdjust=\"spacingAndGlyphs\" textLength=\"16\" x=\"550\" y=\"272.1387\">S1</text></a></g><g id=\"E1.E6.E8\"><a href=\"psysml:7a7b17a9-f595-41dc-990f-a07a1c17ba3c\" target=\"_top\" title=\"psysml:7a7b17a9-f595-41dc-990f-a07a1c17ba3c\" xlink:actuate=\"onRequest\" xlink:href=\"psysml:7a7b17a9-f595-41dc-990f-a07a1c17ba3c\" xlink:show=\"new\" xlink:title=\"psysml:7a7b17a9-f595-41dc-990f-a07a1c17ba3c\" xlink:type=\"simple\"><rect fill=\"#FFFFFF\" height=\"47.9375\" id=\"E8\" rx=\"10\" ry=\"10\" style=\"stroke: #383838; stroke-width: 1.5;\" width=\"50\" x=\"533\" y=\"373\"/><rect fill=\"#F8F8F8\" height=\"23.9688\" rx=\"10\" ry=\"10\" style=\"stroke: #F8F8F8; stroke-width: 1.5;\" width=\"50\" x=\"533\" y=\"373\"/><rect fill=\"#F8F8F8\" height=\"10\" style=\"stroke: #F8F8F8; stroke-width: 1.5;\" width=\"50\" x=\"533\" y=\"386.9688\"/><rect fill=\"none\" height=\"47.9375\" id=\"E8\" rx=\"10\" ry=\"10\" style=\"stroke: #383838; stroke-width: 1.5;\" width=\"50\" x=\"533\" y=\"373\"/><text fill=\"#000000\" font-family=\"sans-serif\" font-size=\"12\" lengthAdjust=\"spacingAndGlyphs\" textLength=\"16\" x=\"550\" y=\"389.1387\">S2</text><line style=\"stroke: #383838; stroke-width: 1.0;\" x1=\"533\" x2=\"583\" y1=\"396.9688\" y2=\"396.9688\"/><text fill=\"#000000\" font-family=\"sans-serif\" font-size=\"12\" font-weight=\"bold\" lengthAdjust=\"spacingAndGlyphs\" textLength=\"18\" x=\"538\" y=\"410.1074\">do</text><text fill=\"#000000\" font-family=\"sans-serif\" font-size=\"12\" lengthAdjust=\"spacingAndGlyphs\" textLength=\"4\" x=\"556\" y=\"410.1074\">/</text></a></g><!--MD5=[5a531d3a85f3339e6e197084acb48195]\n",
       "link *start*E6 to E7--><a href=\"psysml:0b737fa2-1baa-4df5-913b-a090a33456a1\" target=\"_top\" title=\"psysml:0b737fa2-1baa-4df5-913b-a090a33456a1\" xlink:actuate=\"onRequest\" xlink:href=\"psysml:0b737fa2-1baa-4df5-913b-a090a33456a1\" xlink:show=\"new\" xlink:title=\"psysml:0b737fa2-1baa-4df5-913b-a090a33456a1\" xlink:type=\"simple\"><path d=\"M558,167.18 C558,184.98 558,224.73 558,250.67 \" fill=\"none\" id=\"*start*E6-&gt;E7\" style=\"stroke: #383838; stroke-width: 1.0;\"/><polygon fill=\"#383838\" points=\"558,255.98,562,246.98,558,250.98,554,246.98,558,255.98\" style=\"stroke: #383838; stroke-width: 1.0;\"/></a><!--MD5=[7ec9a8babba89ddcae1318ca9fb3c814]\n",
       "link E8 to *end*E6--><a href=\"psysml:a8c9411f-d651-41a0-86c1-118f6cba8c1d\" target=\"_top\" title=\"psysml:a8c9411f-d651-41a0-86c1-118f6cba8c1d\" xlink:actuate=\"onRequest\" xlink:href=\"psysml:a8c9411f-d651-41a0-86c1-118f6cba8c1d\" xlink:show=\"new\" xlink:title=\"psysml:a8c9411f-d651-41a0-86c1-118f6cba8c1d\" xlink:type=\"simple\"><path d=\"M558,421.12 C558,442.75 558,474.39 558,492.62 \" fill=\"none\" id=\"E8-&gt;*end*E6\" style=\"stroke: #383838; stroke-width: 1.0;\"/><polygon fill=\"#383838\" points=\"558,497.82,562,488.82,558,492.82,554,488.82,558,497.82\" style=\"stroke: #383838; stroke-width: 1.0;\"/><text fill=\"#000000\" font-family=\"sans-serif\" font-size=\"13\" lengthAdjust=\"spacingAndGlyphs\" textLength=\"23\" x=\"559\" y=\"464.0669\">Exit</text></a><!--MD5=[79bc8f324ef4d02c541433f2e6e513c3]\n",
       "link E7 to E8--><a href=\"psysml:eefcc534-c981-4425-9bf3-38251bd12a49\" target=\"_top\" title=\"psysml:eefcc534-c981-4425-9bf3-38251bd12a49\" xlink:actuate=\"onRequest\" xlink:href=\"psysml:eefcc534-c981-4425-9bf3-38251bd12a49\" xlink:show=\"new\" xlink:title=\"psysml:eefcc534-c981-4425-9bf3-38251bd12a49\" xlink:type=\"simple\"><path d=\"M533.07,296.08 C515.1,309.84 494,326 494,326 C494,326 494,343 494,343 C494,343 511.69,357.65 528.47,371.55 \" fill=\"none\" id=\"E7-&gt;E8\" style=\"stroke: #383838; stroke-width: 1.0;\"/><polygon fill=\"#383838\" points=\"532.71,375.05,528.3341,366.2267,528.8607,371.8589,523.2284,372.3855,532.71,375.05\" style=\"stroke: #383838; stroke-width: 1.0;\"/><text fill=\"#000000\" font-family=\"sans-serif\" font-size=\"13\" lengthAdjust=\"spacingAndGlyphs\" textLength=\"81\" x=\"495\" y=\"339.0669\">Sig /action D</text></a><!--MD5=[bfa3c8b0d15052fdf50ae9310b491027]\n",
       "link E8 to E7--><a href=\"psysml:bcd703ca-2055-4c24-98bc-6c579eb31483\" target=\"_top\" title=\"psysml:bcd703ca-2055-4c24-98bc-6c579eb31483\" xlink:actuate=\"onRequest\" xlink:href=\"psysml:bcd703ca-2055-4c24-98bc-6c579eb31483\" xlink:show=\"new\" xlink:title=\"psysml:bcd703ca-2055-4c24-98bc-6c579eb31483\" xlink:type=\"simple\"><path d=\"M568.02,372.91 C574.22,358.63 581,343 581,343 C581,343 581,326 581,326 C581,326 574.98,313.18 569.11,300.66 \" fill=\"none\" id=\"E8-&gt;E7\" style=\"stroke: #383838; stroke-width: 1.0;\"/><polygon fill=\"#383838\" points=\"566.96,296.08,567.1429,305.9272,569.0752,300.6106,574.3918,302.5428,566.96,296.08\" style=\"stroke: #383838; stroke-width: 1.0;\"/><text fill=\"#000000\" font-family=\"sans-serif\" font-size=\"13\" lengthAdjust=\"spacingAndGlyphs\" textLength=\"135\" x=\"582\" y=\"339.0669\">Sig [true]/send s to p</text></a><!--MD5=[b1129eafcb68d42da2f264e8451b9fa0]\n",
       "@startuml\r\n",
       "skinparam linetype polyline\r\n",
       "skinparam monochrome true\r\n",
       "skinparam classbackgroundcolor white\r\n",
       "skinparam shadowing false\r\n",
       "skinparam wrapWidth 300\r\n",
       "hide circle\r\n",
       "\r\n",
       "package \"StateTest\" as E1  [[psysml:a2ca8720-bd4b-4556-9b27-091331149f1f ]]  {\r\n",
       "comp def \"Sig\" as E2  <<(T,blue)attribute def>> [[psysml:9b0c6b07-76e0-48e6-88f4-e6a2c752e8e3 ]] {\r\n",
       "- - attributes - -\r\n",
       "x\r\n",
       "}\r\n",
       "comp def \"Exit\" as E3  <<(T,blue)attribute def>> [[psysml:75ee6cec-68f4-495e-910b-3cf4854ee540 ]] {\r\n",
       "}\r\n",
       "comp usage \"p\" as E4  <<(T,blue)part>> [[psysml:d526add9-9153-4d94-82de-e3d10cc7d584 ]] {\r\n",
       "}\r\n",
       "rec usage \"act\" as E5  <<(T,blue)action>> [[psysml:12bd5d36-0dbf-4715-90c3-b0b875efee55 ]] {\r\n",
       "}\r\n",
       "\r\n",
       "rec def \"S\" as E6  <<(T,blue)state def>> [[psysml:b6aa9f25-72f8-4c2c-a7be-6589070e9bf6 ]] {\r\n",
       "rec usage \"S1\" as E7 [[psysml:1cabaaec-9539-448a-9df0-432fc817479b ]] {\r\n",
       "}\r\n",
       "\r\n",
       "rec usage \"S2\" as E8 [[psysml:7a7b17a9-f595-41dc-990f-a07a1c17ba3c ]] {\r\n",
       "desc \"S2\" as E8  : **do**/ \r\n",
       "}\r\n",
       "\r\n",
       "[*] - -> E7 [[psysml:0b737fa2-1baa-4df5-913b-a090a33456a1 ]] \r\n",
       "E8  - -> [*] [[psysml:a8c9411f-d651-41a0-86c1-118f6cba8c1d ]] : Exit \r\n",
       "desc \"S\" as E6  : **entry**/ A\r\n",
       "desc \"S\" as E6  : **do**/ B\r\n",
       "desc \"S\" as E6  : **exit**/ act \r\n",
       "}\r\n",
       "\r\n",
       "E7  - -> E8 [[psysml:eefcc534-c981-4425-9bf3-38251bd12a49 ]] : Sig /action D\r\n",
       "E8  - -> E7 [[psysml:bcd703ca-2055-4c24-98bc-6c579eb31483 ]] : Sig [true]/send s to p\r\n",
       "}\r\n",
       "@enduml\r\n",
       "\n",
       "PlantUML version 1.2020.13(Sat Jun 13 12:26:38 UTC 2020)\n",
       "(EPL source distribution)\n",
       "Java Runtime: OpenJDK Runtime Environment\n",
       "JVM: OpenJDK 64-Bit Server VM\n",
       "Default Encoding: UTF-8\n",
       "Language: en\n",
       "Country: null\n",
       "--></g></svg>"
      ]
     },
     "execution_count": 15,
     "metadata": {},
     "output_type": "execute_result"
    }
   ],
   "source": [
    "%viz --style=\"POLYLINE\" --view=\"MIXED\" \"StateTest\""
   ]
  },
  {
   "cell_type": "code",
   "execution_count": 16,
   "id": "sunset-christopher",
   "metadata": {
    "execution": {
     "iopub.execute_input": "2021-03-25T15:06:56.388473Z",
     "iopub.status.busy": "2021-03-25T15:06:56.388042Z",
     "iopub.status.idle": "2021-03-25T15:06:56.586191Z",
     "shell.execute_reply": "2021-03-25T15:06:56.585825Z"
    }
   },
   "outputs": [
    {
     "data": {
      "image/svg+xml": [
       "<?xml version=\"1.0\" encoding=\"UTF-8\" standalone=\"no\"?><svg xmlns=\"http://www.w3.org/2000/svg\" xmlns:xlink=\"http://www.w3.org/1999/xlink\" contentScriptType=\"application/ecmascript\" contentStyleType=\"text/css\" height=\"633px\" preserveAspectRatio=\"none\" style=\"width:652px;height:633px;\" version=\"1.1\" viewBox=\"0 0 652 633\" width=\"652px\" zoomAndPan=\"magnify\"><defs/><g><!--MD5=[fbc87193dbaf4d95561dea2c320d4a47]\n",
       "cluster E1--><a href=\"psysml:a2ca8720-bd4b-4556-9b27-091331149f1f\" target=\"_top\" title=\"psysml:a2ca8720-bd4b-4556-9b27-091331149f1f\" xlink:actuate=\"onRequest\" xlink:href=\"psysml:a2ca8720-bd4b-4556-9b27-091331149f1f\" xlink:show=\"new\" xlink:title=\"psysml:a2ca8720-bd4b-4556-9b27-091331149f1f\" xlink:type=\"simple\"><polygon fill=\"#FFFFFF\" points=\"16,6,98,6,105,28.2969,630,28.2969,630,621,16,621,16,6\" style=\"stroke: #000000; stroke-width: 1.5;\"/><line style=\"stroke: #000000; stroke-width: 1.5;\" x1=\"16\" x2=\"105\" y1=\"28.2969\" y2=\"28.2969\"/><text fill=\"#000000\" font-family=\"sans-serif\" font-size=\"14\" font-weight=\"bold\" lengthAdjust=\"spacingAndGlyphs\" textLength=\"76\" x=\"20\" y=\"20.9951\">StateTest</text></a><!--MD5=[14e3b0961a2654348d326746436168a1]\n",
       "cluster E6--><a href=\"psysml:b6aa9f25-72f8-4c2c-a7be-6589070e9bf6\" target=\"_top\" title=\"psysml:b6aa9f25-72f8-4c2c-a7be-6589070e9bf6\" xlink:actuate=\"onRequest\" xlink:href=\"psysml:b6aa9f25-72f8-4c2c-a7be-6589070e9bf6\" xlink:show=\"new\" xlink:title=\"psysml:b6aa9f25-72f8-4c2c-a7be-6589070e9bf6\" xlink:type=\"simple\"><rect fill=\"#FFFFFF\" height=\"223\" id=\"E6\" style=\"stroke: #383838; stroke-width: 1.5;\" width=\"552.5\" x=\"53.5\" y=\"49\"/><rect fill=\"#F8F8F8\" height=\"37.9375\" style=\"stroke: #383838; stroke-width: 1.5;\" width=\"552.5\" x=\"53.5\" y=\"49\"/><text fill=\"#000000\" font-family=\"sans-serif\" font-size=\"12\" font-style=\"italic\" lengthAdjust=\"spacingAndGlyphs\" textLength=\"71\" x=\"294.25\" y=\"65.1387\">«state def»</text><text fill=\"#000000\" font-family=\"sans-serif\" font-size=\"12\" lengthAdjust=\"spacingAndGlyphs\" textLength=\"8\" x=\"325.75\" y=\"79.1074\">S</text><line style=\"stroke: #383838; stroke-width: 1.0;\" x1=\"53.5\" x2=\"606\" y1=\"132.8438\" y2=\"132.8438\"/><text fill=\"#000000\" font-family=\"sans-serif\" font-size=\"12\" font-weight=\"bold\" lengthAdjust=\"spacingAndGlyphs\" textLength=\"38\" x=\"58.5\" y=\"100.0762\">entry</text><text fill=\"#000000\" font-family=\"sans-serif\" font-size=\"12\" lengthAdjust=\"spacingAndGlyphs\" textLength=\"16\" x=\"96.5\" y=\"100.0762\">/ A</text><text fill=\"#000000\" font-family=\"sans-serif\" font-size=\"12\" font-weight=\"bold\" lengthAdjust=\"spacingAndGlyphs\" textLength=\"18\" x=\"58.5\" y=\"114.0449\">do</text><text fill=\"#000000\" font-family=\"sans-serif\" font-size=\"12\" lengthAdjust=\"spacingAndGlyphs\" textLength=\"16\" x=\"76.5\" y=\"114.0449\">/ B</text><text fill=\"#000000\" font-family=\"sans-serif\" font-size=\"12\" font-weight=\"bold\" lengthAdjust=\"spacingAndGlyphs\" textLength=\"26\" x=\"58.5\" y=\"128.0137\">exit</text><text fill=\"#000000\" font-family=\"sans-serif\" font-size=\"12\" lengthAdjust=\"spacingAndGlyphs\" textLength=\"28\" x=\"84.5\" y=\"128.0137\">/ act</text></a><!--MD5=[b4997ac47864f28c2f74865a473b2911]\n",
       "class E2--><a href=\"psysml:9b0c6b07-76e0-48e6-88f4-e6a2c752e8e3\" target=\"_top\" title=\"psysml:9b0c6b07-76e0-48e6-88f4-e6a2c752e8e3\" xlink:actuate=\"onRequest\" xlink:href=\"psysml:9b0c6b07-76e0-48e6-88f4-e6a2c752e8e3\" xlink:show=\"new\" xlink:title=\"psysml:9b0c6b07-76e0-48e6-88f4-e6a2c752e8e3\" xlink:type=\"simple\"><rect fill=\"#FFFFFF\" height=\"75.5469\" id=\"E2\" style=\"stroke: #383838; stroke-width: 1.5;\" width=\"95\" x=\"32\" y=\"288\"/><text fill=\"#000000\" font-family=\"sans-serif\" font-size=\"12\" font-style=\"italic\" lengthAdjust=\"spacingAndGlyphs\" textLength=\"93\" x=\"33\" y=\"304.1387\">«attribute def»</text><text fill=\"#000000\" font-family=\"sans-serif\" font-size=\"12\" lengthAdjust=\"spacingAndGlyphs\" textLength=\"19\" x=\"70\" y=\"318.1074\">Sig</text><line style=\"stroke: #383838; stroke-width: 1.5;\" x1=\"33\" x2=\"126\" y1=\"325.9375\" y2=\"325.9375\"/><text fill=\"#000000\" font-family=\"sans-serif\" font-size=\"11\" lengthAdjust=\"spacingAndGlyphs\" textLength=\"6\" x=\"38\" y=\"356.9526\">x</text><line style=\"stroke: #383838; stroke-width: 1.0;\" x1=\"33\" x2=\"52\" y1=\"340.3398\" y2=\"340.3398\"/><text fill=\"#000000\" font-family=\"sans-serif\" font-size=\"11\" lengthAdjust=\"spacingAndGlyphs\" textLength=\"55\" x=\"52\" y=\"343.6479\">attributes</text><line style=\"stroke: #383838; stroke-width: 1.0;\" x1=\"107\" x2=\"126\" y1=\"340.3398\" y2=\"340.3398\"/></a><!--MD5=[09b614a08d8cba4a07c9adeb5e0fee81]\n",
       "class E3--><a href=\"psysml:75ee6cec-68f4-495e-910b-3cf4854ee540\" target=\"_top\" title=\"psysml:75ee6cec-68f4-495e-910b-3cf4854ee540\" xlink:actuate=\"onRequest\" xlink:href=\"psysml:75ee6cec-68f4-495e-910b-3cf4854ee540\" xlink:show=\"new\" xlink:title=\"psysml:75ee6cec-68f4-495e-910b-3cf4854ee540\" xlink:type=\"simple\"><rect fill=\"#FFFFFF\" height=\"45.9375\" id=\"E3\" style=\"stroke: #383838; stroke-width: 1.5;\" width=\"95\" x=\"32\" y=\"399\"/><text fill=\"#000000\" font-family=\"sans-serif\" font-size=\"12\" font-style=\"italic\" lengthAdjust=\"spacingAndGlyphs\" textLength=\"93\" x=\"33\" y=\"415.1387\">«attribute def»</text><text fill=\"#000000\" font-family=\"sans-serif\" font-size=\"12\" lengthAdjust=\"spacingAndGlyphs\" textLength=\"22\" x=\"68.5\" y=\"429.1074\">Exit</text><line style=\"stroke: #383838; stroke-width: 1.5;\" x1=\"33\" x2=\"126\" y1=\"436.9375\" y2=\"436.9375\"/></a><!--MD5=[ebbe1d658d1005bcc118a6aa81145e00]\n",
       "class E4--><a href=\"psysml:d526add9-9153-4d94-82de-e3d10cc7d584\" target=\"_top\" title=\"psysml:d526add9-9153-4d94-82de-e3d10cc7d584\" xlink:actuate=\"onRequest\" xlink:href=\"psysml:d526add9-9153-4d94-82de-e3d10cc7d584\" xlink:show=\"new\" xlink:title=\"psysml:d526add9-9153-4d94-82de-e3d10cc7d584\" xlink:type=\"simple\"><rect fill=\"#FFFFFF\" height=\"45.9375\" id=\"E4\" rx=\"10\" ry=\"10\" style=\"stroke: #383838; stroke-width: 1.5;\" width=\"42\" x=\"58.5\" y=\"480\"/><text fill=\"#000000\" font-family=\"sans-serif\" font-size=\"12\" font-style=\"italic\" lengthAdjust=\"spacingAndGlyphs\" textLength=\"40\" x=\"59.5\" y=\"496.1387\">«part»</text><text fill=\"#000000\" font-family=\"sans-serif\" font-size=\"12\" lengthAdjust=\"spacingAndGlyphs\" textLength=\"8\" x=\"75.5\" y=\"510.1074\">p</text><line style=\"stroke: #383838; stroke-width: 1.5;\" x1=\"59.5\" x2=\"99.5\" y1=\"517.9375\" y2=\"517.9375\"/></a><g id=\"E1.E5\"><a href=\"psysml:12bd5d36-0dbf-4715-90c3-b0b875efee55\" target=\"_top\" title=\"psysml:12bd5d36-0dbf-4715-90c3-b0b875efee55\" xlink:actuate=\"onRequest\" xlink:href=\"psysml:12bd5d36-0dbf-4715-90c3-b0b875efee55\" xlink:show=\"new\" xlink:title=\"psysml:12bd5d36-0dbf-4715-90c3-b0b875efee55\" xlink:type=\"simple\"><rect fill=\"#FFFFFF\" height=\"42.9375\" id=\"E5\" rx=\"10\" ry=\"10\" style=\"stroke: #383838; stroke-width: 1.5;\" width=\"60\" x=\"49.5\" y=\"561.5\"/><rect fill=\"#F8F8F8\" height=\"37.9375\" rx=\"10\" ry=\"10\" style=\"stroke: #F8F8F8; stroke-width: 1.5;\" width=\"60\" x=\"49.5\" y=\"561.5\"/><rect fill=\"#F8F8F8\" height=\"10\" style=\"stroke: #F8F8F8; stroke-width: 1.5;\" width=\"60\" x=\"49.5\" y=\"589.4375\"/><rect fill=\"none\" height=\"42.9375\" id=\"E5\" rx=\"10\" ry=\"10\" style=\"stroke: #383838; stroke-width: 1.5;\" width=\"60\" x=\"49.5\" y=\"561.5\"/><text fill=\"#000000\" font-family=\"sans-serif\" font-size=\"12\" font-style=\"italic\" lengthAdjust=\"spacingAndGlyphs\" textLength=\"53\" x=\"53\" y=\"577.6387\">«action»</text><text fill=\"#000000\" font-family=\"sans-serif\" font-size=\"12\" lengthAdjust=\"spacingAndGlyphs\" textLength=\"20\" x=\"69.5\" y=\"591.6074\">act</text></a></g><ellipse cx=\"79.5\" cy=\"194\" fill=\"#000000\" rx=\"10\" ry=\"10\" style=\"stroke: none; stroke-width: 1.0;\"/><ellipse cx=\"580\" cy=\"196\" fill=\"none\" rx=\"10\" ry=\"10\" style=\"stroke: #000000; stroke-width: 1.0;\"/><ellipse cx=\"580.5\" cy=\"196.5\" fill=\"#000000\" rx=\"6\" ry=\"6\" style=\"stroke: none; stroke-width: 1.0;\"/><g id=\"E1.E6.E7\"><a href=\"psysml:1cabaaec-9539-448a-9df0-432fc817479b\" target=\"_top\" title=\"psysml:1cabaaec-9539-448a-9df0-432fc817479b\" xlink:actuate=\"onRequest\" xlink:href=\"psysml:1cabaaec-9539-448a-9df0-432fc817479b\" xlink:show=\"new\" xlink:title=\"psysml:1cabaaec-9539-448a-9df0-432fc817479b\" xlink:type=\"simple\"><rect fill=\"#FFFFFF\" height=\"40\" id=\"E7\" rx=\"10\" ry=\"10\" style=\"stroke: #383838; stroke-width: 1.5;\" width=\"50\" x=\"188\" y=\"174\"/><rect fill=\"#F8F8F8\" height=\"23.9688\" rx=\"10\" ry=\"10\" style=\"stroke: #F8F8F8; stroke-width: 1.5;\" width=\"50\" x=\"188\" y=\"174\"/><rect fill=\"#F8F8F8\" height=\"10\" style=\"stroke: #F8F8F8; stroke-width: 1.5;\" width=\"50\" x=\"188\" y=\"187.9688\"/><rect fill=\"none\" height=\"40\" id=\"E7\" rx=\"10\" ry=\"10\" style=\"stroke: #383838; stroke-width: 1.5;\" width=\"50\" x=\"188\" y=\"174\"/><text fill=\"#000000\" font-family=\"sans-serif\" font-size=\"12\" lengthAdjust=\"spacingAndGlyphs\" textLength=\"16\" x=\"205\" y=\"190.1387\">S1</text></a></g><g id=\"E1.E6.E8\"><a href=\"psysml:7a7b17a9-f595-41dc-990f-a07a1c17ba3c\" target=\"_top\" title=\"psysml:7a7b17a9-f595-41dc-990f-a07a1c17ba3c\" xlink:actuate=\"onRequest\" xlink:href=\"psysml:7a7b17a9-f595-41dc-990f-a07a1c17ba3c\" xlink:show=\"new\" xlink:title=\"psysml:7a7b17a9-f595-41dc-990f-a07a1c17ba3c\" xlink:type=\"simple\"><rect fill=\"#FFFFFF\" height=\"47.9375\" id=\"E8\" rx=\"10\" ry=\"10\" style=\"stroke: #383838; stroke-width: 1.5;\" width=\"50\" x=\"435\" y=\"172\"/><rect fill=\"#F8F8F8\" height=\"23.9688\" rx=\"10\" ry=\"10\" style=\"stroke: #F8F8F8; stroke-width: 1.5;\" width=\"50\" x=\"435\" y=\"172\"/><rect fill=\"#F8F8F8\" height=\"10\" style=\"stroke: #F8F8F8; stroke-width: 1.5;\" width=\"50\" x=\"435\" y=\"185.9688\"/><rect fill=\"none\" height=\"47.9375\" id=\"E8\" rx=\"10\" ry=\"10\" style=\"stroke: #383838; stroke-width: 1.5;\" width=\"50\" x=\"435\" y=\"172\"/><text fill=\"#000000\" font-family=\"sans-serif\" font-size=\"12\" lengthAdjust=\"spacingAndGlyphs\" textLength=\"16\" x=\"452\" y=\"188.1387\">S2</text><line style=\"stroke: #383838; stroke-width: 1.0;\" x1=\"435\" x2=\"485\" y1=\"195.9688\" y2=\"195.9688\"/><text fill=\"#000000\" font-family=\"sans-serif\" font-size=\"12\" font-weight=\"bold\" lengthAdjust=\"spacingAndGlyphs\" textLength=\"18\" x=\"440\" y=\"209.1074\">do</text><text fill=\"#000000\" font-family=\"sans-serif\" font-size=\"12\" lengthAdjust=\"spacingAndGlyphs\" textLength=\"4\" x=\"458\" y=\"209.1074\">/</text></a></g><!--MD5=[5a531d3a85f3339e6e197084acb48195]\n",
       "link *start*E6 to E7--><a href=\"psysml:0b737fa2-1baa-4df5-913b-a090a33456a1\" target=\"_top\" title=\"psysml:0b737fa2-1baa-4df5-913b-a090a33456a1\" xlink:actuate=\"onRequest\" xlink:href=\"psysml:0b737fa2-1baa-4df5-913b-a090a33456a1\" xlink:show=\"new\" xlink:title=\"psysml:0b737fa2-1baa-4df5-913b-a090a33456a1\" xlink:type=\"simple\"><path d=\"M89.54,194 C108.46,194 152.97,194 182.78,194 \" fill=\"none\" id=\"*start*E6-&gt;E7\" style=\"stroke: #383838; stroke-width: 1.0;\"/><polygon fill=\"#383838\" points=\"187.8,194,178.8,190,182.8,194,178.8,198,187.8,194\" style=\"stroke: #383838; stroke-width: 1.0;\"/></a><!--MD5=[7ec9a8babba89ddcae1318ca9fb3c814]\n",
       "link E8 to *end*E6--><a href=\"psysml:a8c9411f-d651-41a0-86c1-118f6cba8c1d\" target=\"_top\" title=\"psysml:a8c9411f-d651-41a0-86c1-118f6cba8c1d\" xlink:actuate=\"onRequest\" xlink:href=\"psysml:a8c9411f-d651-41a0-86c1-118f6cba8c1d\" xlink:show=\"new\" xlink:title=\"psysml:a8c9411f-d651-41a0-86c1-118f6cba8c1d\" xlink:type=\"simple\"><path d=\"M485.16,196 C509.08,196 544.89,196 564.64,196 \" fill=\"none\" id=\"E8-&gt;*end*E6\" style=\"stroke: #383838; stroke-width: 1.0;\"/><polygon fill=\"#383838\" points=\"569.76,196,560.76,192,564.76,196,560.76,200,569.76,196\" style=\"stroke: #383838; stroke-width: 1.0;\"/><text fill=\"#000000\" font-family=\"sans-serif\" font-size=\"13\" lengthAdjust=\"spacingAndGlyphs\" textLength=\"23\" x=\"516\" y=\"192.0669\">Exit</text></a><!--MD5=[79bc8f324ef4d02c541433f2e6e513c3]\n",
       "link E7 to E8--><a href=\"psysml:eefcc534-c981-4425-9bf3-38251bd12a49\" target=\"_top\" title=\"psysml:eefcc534-c981-4425-9bf3-38251bd12a49\" xlink:actuate=\"onRequest\" xlink:href=\"psysml:eefcc534-c981-4425-9bf3-38251bd12a49\" xlink:show=\"new\" xlink:title=\"psysml:eefcc534-c981-4425-9bf3-38251bd12a49\" xlink:type=\"simple\"><path d=\"M238.15,210.85 C247.11,216.14 257.62,221.31 268,224 C326.94,239.27 345.84,238.42 405,224 C413.58,221.91 422.32,218.19 430.2,214.14 \" fill=\"none\" id=\"E7-&gt;E8\" style=\"stroke: #383838; stroke-width: 1.0;\"/><polygon fill=\"#383838\" points=\"434.98,211.59,425.156,212.2893,430.5666,213.94,428.9159,219.3506,434.98,211.59\" style=\"stroke: #383838; stroke-width: 1.0;\"/><text fill=\"#000000\" font-family=\"sans-serif\" font-size=\"13\" lengthAdjust=\"spacingAndGlyphs\" textLength=\"81\" x=\"296\" y=\"220.0669\">Sig /action D</text></a><!--MD5=[bfa3c8b0d15052fdf50ae9310b491027]\n",
       "link E8 to E7--><a href=\"psysml:bcd703ca-2055-4c24-98bc-6c579eb31483\" target=\"_top\" title=\"psysml:bcd703ca-2055-4c24-98bc-6c579eb31483\" xlink:actuate=\"onRequest\" xlink:href=\"psysml:bcd703ca-2055-4c24-98bc-6c579eb31483\" xlink:show=\"new\" xlink:title=\"psysml:bcd703ca-2055-4c24-98bc-6c579eb31483\" xlink:type=\"simple\"><path d=\"M434.71,195.8 C389.48,195.43 292.49,194.64 243.54,194.24 \" fill=\"none\" id=\"E8-&gt;E7\" style=\"stroke: #383838; stroke-width: 1.0;\"/><polygon fill=\"#383838\" points=\"238.39,194.2,247.3554,198.277,243.3898,194.2429,247.424,190.2773,238.39,194.2\" style=\"stroke: #383838; stroke-width: 1.0;\"/><text fill=\"#000000\" font-family=\"sans-serif\" font-size=\"13\" lengthAdjust=\"spacingAndGlyphs\" textLength=\"135\" x=\"269\" y=\"191.0669\">Sig [true]/send s to p</text></a><!--MD5=[0a45241bf7b701d074c2f82366d55bed]\n",
       "@startuml\r\n",
       "left to right direction\r\n",
       "skinparam monochrome true\r\n",
       "skinparam classbackgroundcolor white\r\n",
       "skinparam shadowing false\r\n",
       "skinparam wrapWidth 300\r\n",
       "hide circle\r\n",
       "\r\n",
       "package \"StateTest\" as E1  [[psysml:a2ca8720-bd4b-4556-9b27-091331149f1f ]]  {\r\n",
       "comp def \"Sig\" as E2  <<(T,blue)attribute def>> [[psysml:9b0c6b07-76e0-48e6-88f4-e6a2c752e8e3 ]] {\r\n",
       "- - attributes - -\r\n",
       "x\r\n",
       "}\r\n",
       "comp def \"Exit\" as E3  <<(T,blue)attribute def>> [[psysml:75ee6cec-68f4-495e-910b-3cf4854ee540 ]] {\r\n",
       "}\r\n",
       "comp usage \"p\" as E4  <<(T,blue)part>> [[psysml:d526add9-9153-4d94-82de-e3d10cc7d584 ]] {\r\n",
       "}\r\n",
       "rec usage \"act\" as E5  <<(T,blue)action>> [[psysml:12bd5d36-0dbf-4715-90c3-b0b875efee55 ]] {\r\n",
       "}\r\n",
       "\r\n",
       "rec def \"S\" as E6  <<(T,blue)state def>> [[psysml:b6aa9f25-72f8-4c2c-a7be-6589070e9bf6 ]] {\r\n",
       "rec usage \"S1\" as E7 [[psysml:1cabaaec-9539-448a-9df0-432fc817479b ]] {\r\n",
       "}\r\n",
       "\r\n",
       "rec usage \"S2\" as E8 [[psysml:7a7b17a9-f595-41dc-990f-a07a1c17ba3c ]] {\r\n",
       "desc \"S2\" as E8  : **do**/ \r\n",
       "}\r\n",
       "\r\n",
       "[*] - -> E7 [[psysml:0b737fa2-1baa-4df5-913b-a090a33456a1 ]] \r\n",
       "E8  - -> [*] [[psysml:a8c9411f-d651-41a0-86c1-118f6cba8c1d ]] : Exit \r\n",
       "desc \"S\" as E6  : **entry**/ A\r\n",
       "desc \"S\" as E6  : **do**/ B\r\n",
       "desc \"S\" as E6  : **exit**/ act \r\n",
       "}\r\n",
       "\r\n",
       "E7  - -> E8 [[psysml:eefcc534-c981-4425-9bf3-38251bd12a49 ]] : Sig /action D\r\n",
       "E8  - -> E7 [[psysml:bcd703ca-2055-4c24-98bc-6c579eb31483 ]] : Sig [true]/send s to p\r\n",
       "}\r\n",
       "@enduml\r\n",
       "\n",
       "PlantUML version 1.2020.13(Sat Jun 13 12:26:38 UTC 2020)\n",
       "(EPL source distribution)\n",
       "Java Runtime: OpenJDK Runtime Environment\n",
       "JVM: OpenJDK 64-Bit Server VM\n",
       "Default Encoding: UTF-8\n",
       "Language: en\n",
       "Country: null\n",
       "--></g></svg>"
      ]
     },
     "execution_count": 16,
     "metadata": {},
     "output_type": "execute_result"
    }
   ],
   "source": [
    "%viz --style=\"LR\" --view=\"Default\" \"StateTest\""
   ]
  },
  {
   "cell_type": "code",
   "execution_count": 17,
   "id": "filled-benjamin",
   "metadata": {
    "execution": {
     "iopub.execute_input": "2021-03-25T15:06:56.637908Z",
     "iopub.status.busy": "2021-03-25T15:06:56.637329Z",
     "iopub.status.idle": "2021-03-25T15:06:57.144105Z",
     "shell.execute_reply": "2021-03-25T15:06:57.143641Z"
    }
   },
   "outputs": [
    {
     "data": {
      "image/svg+xml": [
       "<?xml version=\"1.0\" encoding=\"UTF-8\" standalone=\"no\"?><svg xmlns=\"http://www.w3.org/2000/svg\" xmlns:xlink=\"http://www.w3.org/1999/xlink\" contentScriptType=\"application/ecmascript\" contentStyleType=\"text/css\" height=\"583px\" preserveAspectRatio=\"none\" style=\"width:424px;height:583px;\" version=\"1.1\" viewBox=\"0 0 424 583\" width=\"424px\" zoomAndPan=\"magnify\"><defs/><g><!--MD5=[fbc87193dbaf4d95561dea2c320d4a47]\n",
       "cluster E1--><a href=\"psysml:a2ca8720-bd4b-4556-9b27-091331149f1f\" target=\"_top\" title=\"psysml:a2ca8720-bd4b-4556-9b27-091331149f1f\" xlink:actuate=\"onRequest\" xlink:href=\"psysml:a2ca8720-bd4b-4556-9b27-091331149f1f\" xlink:show=\"new\" xlink:title=\"psysml:a2ca8720-bd4b-4556-9b27-091331149f1f\" xlink:type=\"simple\"><polygon fill=\"#FFFFFF\" points=\"16,6,98,6,105,28.2969,402,28.2969,402,571,16,571,16,6\" style=\"stroke: #000000; stroke-width: 1.5;\"/><line style=\"stroke: #000000; stroke-width: 1.5;\" x1=\"16\" x2=\"105\" y1=\"28.2969\" y2=\"28.2969\"/><text fill=\"#000000\" font-family=\"sans-serif\" font-size=\"14\" font-weight=\"bold\" lengthAdjust=\"spacingAndGlyphs\" textLength=\"76\" x=\"20\" y=\"20.9951\">StateTest</text></a><!--MD5=[b4997ac47864f28c2f74865a473b2911]\n",
       "class E2--><a href=\"psysml:9b0c6b07-76e0-48e6-88f4-e6a2c752e8e3\" target=\"_top\" title=\"psysml:9b0c6b07-76e0-48e6-88f4-e6a2c752e8e3\" xlink:actuate=\"onRequest\" xlink:href=\"psysml:9b0c6b07-76e0-48e6-88f4-e6a2c752e8e3\" xlink:show=\"new\" xlink:title=\"psysml:9b0c6b07-76e0-48e6-88f4-e6a2c752e8e3\" xlink:type=\"simple\"><rect fill=\"#FFFFFF\" height=\"75.5469\" id=\"E2\" style=\"stroke: #383838; stroke-width: 1.5;\" width=\"95\" x=\"32\" y=\"41\"/><text fill=\"#000000\" font-family=\"sans-serif\" font-size=\"12\" font-style=\"italic\" lengthAdjust=\"spacingAndGlyphs\" textLength=\"93\" x=\"33\" y=\"57.1387\">«attribute def»</text><text fill=\"#000000\" font-family=\"sans-serif\" font-size=\"12\" lengthAdjust=\"spacingAndGlyphs\" textLength=\"19\" x=\"70\" y=\"71.1074\">Sig</text><line style=\"stroke: #383838; stroke-width: 1.5;\" x1=\"33\" x2=\"126\" y1=\"78.9375\" y2=\"78.9375\"/><text fill=\"#000000\" font-family=\"sans-serif\" font-size=\"11\" lengthAdjust=\"spacingAndGlyphs\" textLength=\"6\" x=\"38\" y=\"109.9526\">x</text><line style=\"stroke: #383838; stroke-width: 1.0;\" x1=\"33\" x2=\"52\" y1=\"93.3398\" y2=\"93.3398\"/><text fill=\"#000000\" font-family=\"sans-serif\" font-size=\"11\" lengthAdjust=\"spacingAndGlyphs\" textLength=\"55\" x=\"52\" y=\"96.6479\">attributes</text><line style=\"stroke: #383838; stroke-width: 1.0;\" x1=\"107\" x2=\"126\" y1=\"93.3398\" y2=\"93.3398\"/></a><!--MD5=[09b614a08d8cba4a07c9adeb5e0fee81]\n",
       "class E3--><a href=\"psysml:75ee6cec-68f4-495e-910b-3cf4854ee540\" target=\"_top\" title=\"psysml:75ee6cec-68f4-495e-910b-3cf4854ee540\" xlink:actuate=\"onRequest\" xlink:href=\"psysml:75ee6cec-68f4-495e-910b-3cf4854ee540\" xlink:show=\"new\" xlink:title=\"psysml:75ee6cec-68f4-495e-910b-3cf4854ee540\" xlink:type=\"simple\"><rect fill=\"#FFFFFF\" height=\"45.9375\" id=\"E3\" style=\"stroke: #383838; stroke-width: 1.5;\" width=\"95\" x=\"32\" y=\"152\"/><text fill=\"#000000\" font-family=\"sans-serif\" font-size=\"12\" font-style=\"italic\" lengthAdjust=\"spacingAndGlyphs\" textLength=\"93\" x=\"33\" y=\"168.1387\">«attribute def»</text><text fill=\"#000000\" font-family=\"sans-serif\" font-size=\"12\" lengthAdjust=\"spacingAndGlyphs\" textLength=\"22\" x=\"68.5\" y=\"182.1074\">Exit</text><line style=\"stroke: #383838; stroke-width: 1.5;\" x1=\"33\" x2=\"126\" y1=\"189.9375\" y2=\"189.9375\"/></a><!--MD5=[ebbe1d658d1005bcc118a6aa81145e00]\n",
       "class E4--><a href=\"psysml:d526add9-9153-4d94-82de-e3d10cc7d584\" target=\"_top\" title=\"psysml:d526add9-9153-4d94-82de-e3d10cc7d584\" xlink:actuate=\"onRequest\" xlink:href=\"psysml:d526add9-9153-4d94-82de-e3d10cc7d584\" xlink:show=\"new\" xlink:title=\"psysml:d526add9-9153-4d94-82de-e3d10cc7d584\" xlink:type=\"simple\"><rect fill=\"#FFFFFF\" height=\"45.9375\" id=\"E4\" rx=\"10\" ry=\"10\" style=\"stroke: #383838; stroke-width: 1.5;\" width=\"42\" x=\"58.5\" y=\"233\"/><text fill=\"#000000\" font-family=\"sans-serif\" font-size=\"12\" font-style=\"italic\" lengthAdjust=\"spacingAndGlyphs\" textLength=\"40\" x=\"59.5\" y=\"249.1387\">«part»</text><text fill=\"#000000\" font-family=\"sans-serif\" font-size=\"12\" lengthAdjust=\"spacingAndGlyphs\" textLength=\"8\" x=\"75.5\" y=\"263.1074\">p</text><line style=\"stroke: #383838; stroke-width: 1.5;\" x1=\"59.5\" x2=\"99.5\" y1=\"270.9375\" y2=\"270.9375\"/></a><!--MD5=[270fce915f116d4de14055a7c1d9a0f3]\n",
       "class E5--><a href=\"psysml:12bd5d36-0dbf-4715-90c3-b0b875efee55\" target=\"_top\" title=\"psysml:12bd5d36-0dbf-4715-90c3-b0b875efee55\" xlink:actuate=\"onRequest\" xlink:href=\"psysml:12bd5d36-0dbf-4715-90c3-b0b875efee55\" xlink:show=\"new\" xlink:title=\"psysml:12bd5d36-0dbf-4715-90c3-b0b875efee55\" xlink:type=\"simple\"><rect fill=\"#FFFFFF\" height=\"45.9375\" id=\"E5\" rx=\"10\" ry=\"10\" style=\"stroke: #383838; stroke-width: 1.5;\" width=\"55\" x=\"52\" y=\"314\"/><text fill=\"#000000\" font-family=\"sans-serif\" font-size=\"12\" font-style=\"italic\" lengthAdjust=\"spacingAndGlyphs\" textLength=\"53\" x=\"53\" y=\"330.1387\">«action»</text><text fill=\"#000000\" font-family=\"sans-serif\" font-size=\"12\" lengthAdjust=\"spacingAndGlyphs\" textLength=\"20\" x=\"69.5\" y=\"344.1074\">act</text><line style=\"stroke: #383838; stroke-width: 1.5;\" x1=\"53\" x2=\"106\" y1=\"351.9375\" y2=\"351.9375\"/></a><!--MD5=[60a26617385b1d2d0262a64233df1f8d]\n",
       "class E6--><a href=\"psysml:b6aa9f25-72f8-4c2c-a7be-6589070e9bf6\" target=\"_top\" title=\"psysml:b6aa9f25-72f8-4c2c-a7be-6589070e9bf6\" xlink:actuate=\"onRequest\" xlink:href=\"psysml:b6aa9f25-72f8-4c2c-a7be-6589070e9bf6\" xlink:show=\"new\" xlink:title=\"psysml:b6aa9f25-72f8-4c2c-a7be-6589070e9bf6\" xlink:type=\"simple\"><rect fill=\"#FFFFFF\" height=\"160.375\" id=\"E6\" style=\"stroke: #383838; stroke-width: 1.5;\" width=\"95\" x=\"32\" y=\"395\"/><text fill=\"#000000\" font-family=\"sans-serif\" font-size=\"12\" font-style=\"italic\" lengthAdjust=\"spacingAndGlyphs\" textLength=\"71\" x=\"44\" y=\"411.1387\">«state def»</text><text fill=\"#000000\" font-family=\"sans-serif\" font-size=\"12\" lengthAdjust=\"spacingAndGlyphs\" textLength=\"8\" x=\"75.5\" y=\"425.1074\">S</text><line style=\"stroke: #383838; stroke-width: 1.5;\" x1=\"33\" x2=\"126\" y1=\"432.9375\" y2=\"432.9375\"/><text fill=\"#000000\" font-family=\"sans-serif\" font-size=\"11\" lengthAdjust=\"spacingAndGlyphs\" textLength=\"17\" x=\"38\" y=\"463.9526\">act</text><text fill=\"#000000\" font-family=\"sans-serif\" font-size=\"11\" lengthAdjust=\"spacingAndGlyphs\" textLength=\"7\" x=\"38\" y=\"476.7573\">A</text><text fill=\"#000000\" font-family=\"sans-serif\" font-size=\"11\" lengthAdjust=\"spacingAndGlyphs\" textLength=\"8\" x=\"38\" y=\"489.562\">B</text><line style=\"stroke: #383838; stroke-width: 1.0;\" x1=\"33\" x2=\"36\" y1=\"447.3398\" y2=\"447.3398\"/><text fill=\"#000000\" font-family=\"sans-serif\" font-size=\"11\" lengthAdjust=\"spacingAndGlyphs\" textLength=\"87\" x=\"36\" y=\"450.6479\">performActions</text><line style=\"stroke: #383838; stroke-width: 1.0;\" x1=\"123\" x2=\"126\" y1=\"447.3398\" y2=\"447.3398\"/><text fill=\"#000000\" font-family=\"sans-serif\" font-size=\"11\" lengthAdjust=\"spacingAndGlyphs\" textLength=\"15\" x=\"38\" y=\"519.1714\">S1</text><line style=\"stroke: #383838; stroke-width: 1.0;\" x1=\"33\" x2=\"61.5\" y1=\"502.5586\" y2=\"502.5586\"/><text fill=\"#000000\" font-family=\"sans-serif\" font-size=\"11\" lengthAdjust=\"spacingAndGlyphs\" textLength=\"36\" x=\"61.5\" y=\"505.8667\">states</text><line style=\"stroke: #383838; stroke-width: 1.0;\" x1=\"97.5\" x2=\"126\" y1=\"502.5586\" y2=\"502.5586\"/><text fill=\"#000000\" font-family=\"sans-serif\" font-size=\"11\" lengthAdjust=\"spacingAndGlyphs\" textLength=\"7\" x=\"38\" y=\"548.7808\">T</text><line style=\"stroke: #383838; stroke-width: 1.0;\" x1=\"33\" x2=\"49\" y1=\"532.168\" y2=\"532.168\"/><text fill=\"#000000\" font-family=\"sans-serif\" font-size=\"11\" lengthAdjust=\"spacingAndGlyphs\" textLength=\"61\" x=\"49\" y=\"535.4761\">transitions</text><line style=\"stroke: #383838; stroke-width: 1.0;\" x1=\"110\" x2=\"126\" y1=\"532.168\" y2=\"532.168\"/></a><!--MD5=[1dd1bfd58a279cf63c5f349dbc8fc6a1]\n",
       "class E11--><a href=\"psysml:7a7b17a9-f595-41dc-990f-a07a1c17ba3c\" target=\"_top\" title=\"psysml:7a7b17a9-f595-41dc-990f-a07a1c17ba3c\" xlink:actuate=\"onRequest\" xlink:href=\"psysml:7a7b17a9-f595-41dc-990f-a07a1c17ba3c\" xlink:show=\"new\" xlink:title=\"psysml:7a7b17a9-f595-41dc-990f-a07a1c17ba3c\" xlink:type=\"simple\"><rect fill=\"#FFFFFF\" height=\"45.9375\" id=\"E11\" rx=\"10\" ry=\"10\" style=\"stroke: #383838; stroke-width: 1.5;\" width=\"49\" x=\"187\" y=\"452\"/><text fill=\"#000000\" font-family=\"sans-serif\" font-size=\"12\" font-style=\"italic\" lengthAdjust=\"spacingAndGlyphs\" textLength=\"47\" x=\"188\" y=\"468.1387\">«state»</text><text fill=\"#000000\" font-family=\"sans-serif\" font-size=\"12\" lengthAdjust=\"spacingAndGlyphs\" textLength=\"16\" x=\"203.5\" y=\"482.1074\">S2</text><line style=\"stroke: #383838; stroke-width: 1.5;\" x1=\"188\" x2=\"235\" y1=\"489.9375\" y2=\"489.9375\"/></a><!--MD5=[49a0ec8f00dab7302a31f22d0f0fe584]\n",
       "class E12--><a href=\"psysml:fce0e4a1-8edc-4c38-93d6-a3b5e3670b25\" target=\"_top\" title=\"psysml:fce0e4a1-8edc-4c38-93d6-a3b5e3670b25\" xlink:actuate=\"onRequest\" xlink:href=\"psysml:fce0e4a1-8edc-4c38-93d6-a3b5e3670b25\" xlink:show=\"new\" xlink:title=\"psysml:fce0e4a1-8edc-4c38-93d6-a3b5e3670b25\" xlink:type=\"simple\"><rect fill=\"#FFFFFF\" height=\"75.5469\" id=\"E12\" rx=\"10\" ry=\"10\" style=\"stroke: #383838; stroke-width: 1.5;\" width=\"90\" x=\"296\" y=\"437\"/><text fill=\"#000000\" font-family=\"sans-serif\" font-size=\"12\" font-style=\"italic\" lengthAdjust=\"spacingAndGlyphs\" textLength=\"88\" x=\"297\" y=\"453.1387\">«send action»</text><text fill=\"#000000\" font-family=\"sans-serif\" font-size=\"12\" lengthAdjust=\"spacingAndGlyphs\" textLength=\"55\" x=\"313.5\" y=\"467.1074\">doAction</text><line style=\"stroke: #383838; stroke-width: 1.5;\" x1=\"297\" x2=\"385\" y1=\"474.9375\" y2=\"474.9375\"/><text fill=\"#000000\" font-family=\"sans-serif\" font-size=\"11\" lengthAdjust=\"spacingAndGlyphs\" textLength=\"25\" x=\"302\" y=\"505.9526\">item</text><line style=\"stroke: #383838; stroke-width: 1.0;\" x1=\"297\" x2=\"303.5\" y1=\"489.3398\" y2=\"489.3398\"/><text fill=\"#000000\" font-family=\"sans-serif\" font-size=\"11\" lengthAdjust=\"spacingAndGlyphs\" textLength=\"75\" x=\"303.5\" y=\"492.6479\">itemFeatures</text><line style=\"stroke: #383838; stroke-width: 1.0;\" x1=\"378.5\" x2=\"385\" y1=\"489.3398\" y2=\"489.3398\"/></a><!--MD5=[1f5f03483f7de0d5b3680a7f6650997f]\n",
       "reverse link E6 to E11--><a href=\"psysml:7a7b17a9-f595-41dc-990f-a07a1c17ba3c\" target=\"_top\" title=\"psysml:7a7b17a9-f595-41dc-990f-a07a1c17ba3c\" xlink:actuate=\"onRequest\" xlink:href=\"psysml:7a7b17a9-f595-41dc-990f-a07a1c17ba3c\" xlink:show=\"new\" xlink:title=\"psysml:7a7b17a9-f595-41dc-990f-a07a1c17ba3c\" xlink:type=\"simple\"><path d=\"M140.15,475 C156.69,475 173.69,475 186.84,475 \" fill=\"none\" id=\"E6&lt;-E11\" style=\"stroke: #383838; stroke-width: 1.0;\"/><polygon fill=\"#383838\" points=\"127.07,475,133.07,479,139.07,475,133.07,471,127.07,475\" style=\"stroke: #383838; stroke-width: 1.0;\"/></a><!--MD5=[94adabc162ce7e41b39f13be14fbaeb3]\n",
       "reverse link E11 to E12--><a href=\"psysml:fce0e4a1-8edc-4c38-93d6-a3b5e3670b25\" target=\"_top\" title=\"psysml:fce0e4a1-8edc-4c38-93d6-a3b5e3670b25\" xlink:actuate=\"onRequest\" xlink:href=\"psysml:fce0e4a1-8edc-4c38-93d6-a3b5e3670b25\" xlink:show=\"new\" xlink:title=\"psysml:fce0e4a1-8edc-4c38-93d6-a3b5e3670b25\" xlink:type=\"simple\"><path d=\"M249.28,475 C263.81,475 280.62,475 295.8,475 \" fill=\"none\" id=\"E11&lt;-E12\" style=\"stroke: #383838; stroke-width: 1.0;\"/><polygon fill=\"#FFFFFF\" points=\"236.18,475,242.18,479,248.18,475,242.18,471,236.18,475\" style=\"stroke: #383838; stroke-width: 1.0;\"/></a><!--MD5=[22b76b1d673c36ae72a105da2ca77759]\n",
       "@startuml\r\n",
       "left to right direction\r\n",
       "skinparam monochrome true\r\n",
       "skinparam classbackgroundcolor white\r\n",
       "skinparam shadowing false\r\n",
       "skinparam wrapWidth 300\r\n",
       "hide circle\r\n",
       "\r\n",
       "package \"StateTest\" as E1  [[psysml:a2ca8720-bd4b-4556-9b27-091331149f1f ]]  {\r\n",
       "comp def \"Sig\" as E2  <<(T,blue)attribute def>> [[psysml:9b0c6b07-76e0-48e6-88f4-e6a2c752e8e3 ]] {\r\n",
       "- - attributes - -\r\n",
       "x\r\n",
       "}\r\n",
       "comp def \"Exit\" as E3  <<(T,blue)attribute def>> [[psysml:75ee6cec-68f4-495e-910b-3cf4854ee540 ]] {\r\n",
       "}\r\n",
       "comp usage \"p\" as E4  <<(T,blue)part>> [[psysml:d526add9-9153-4d94-82de-e3d10cc7d584 ]] {\r\n",
       "}\r\n",
       "comp usage \"act\" as E5  <<(T,blue)action>> [[psysml:12bd5d36-0dbf-4715-90c3-b0b875efee55 ]] {\r\n",
       "}\r\n",
       "comp def \"S\" as E6  <<(T,blue)state def>> [[psysml:b6aa9f25-72f8-4c2c-a7be-6589070e9bf6 ]] {\r\n",
       "- - performActions - -\r\n",
       "act\r\n",
       "A\r\n",
       "B\r\n",
       "- - states - -\r\n",
       "S1\r\n",
       "- - transitions - -\r\n",
       "T\r\n",
       "}\r\n",
       "comp usage \"S2\" as E11  <<(T,blue)state>> [[psysml:7a7b17a9-f595-41dc-990f-a07a1c17ba3c ]] {\r\n",
       "}\r\n",
       "comp usage \"doAction\" as E12 <<send action>> [[psysml:fce0e4a1-8edc-4c38-93d6-a3b5e3670b25 ]] {\r\n",
       "- - itemFeatures - -\r\n",
       "item\r\n",
       "}\r\n",
       "E6 *- - E11 [[psysml:7a7b17a9-f595-41dc-990f-a07a1c17ba3c ]] \r\n",
       "E11 o- - E12 [[psysml:fce0e4a1-8edc-4c38-93d6-a3b5e3670b25 ]] \r\n",
       "}\r\n",
       "@enduml\r\n",
       "\n",
       "PlantUML version 1.2020.13(Sat Jun 13 12:26:38 UTC 2020)\n",
       "(EPL source distribution)\n",
       "Java Runtime: OpenJDK Runtime Environment\n",
       "JVM: OpenJDK 64-Bit Server VM\n",
       "Default Encoding: UTF-8\n",
       "Language: en\n",
       "Country: null\n",
       "--></g></svg>"
      ]
     },
     "execution_count": 17,
     "metadata": {},
     "output_type": "execute_result"
    }
   ],
   "source": [
    "%viz --style=\"LR\" --view=\"Tree\" \"StateTest\""
   ]
  },
  {
   "cell_type": "code",
   "execution_count": 18,
   "id": "major-albania",
   "metadata": {
    "execution": {
     "iopub.execute_input": "2021-03-25T15:06:57.194424Z",
     "iopub.status.busy": "2021-03-25T15:06:57.194004Z",
     "iopub.status.idle": "2021-03-25T15:06:57.309298Z",
     "shell.execute_reply": "2021-03-25T15:06:57.307715Z"
    }
   },
   "outputs": [
    {
     "data": {
      "image/svg+xml": [
       "<?xml version=\"1.0\" encoding=\"UTF-8\" standalone=\"no\"?><svg xmlns=\"http://www.w3.org/2000/svg\" xmlns:xlink=\"http://www.w3.org/1999/xlink\" contentScriptType=\"application/ecmascript\" contentStyleType=\"text/css\" height=\"241px\" preserveAspectRatio=\"none\" style=\"width:534px;height:241px;\" version=\"1.1\" viewBox=\"0 0 534 241\" width=\"534px\" zoomAndPan=\"magnify\"><defs/><g><!--MD5=[fbc87193dbaf4d95561dea2c320d4a47]\n",
       "cluster E1--><a href=\"psysml:b6aa9f25-72f8-4c2c-a7be-6589070e9bf6\" target=\"_top\" title=\"psysml:b6aa9f25-72f8-4c2c-a7be-6589070e9bf6\" xlink:actuate=\"onRequest\" xlink:href=\"psysml:b6aa9f25-72f8-4c2c-a7be-6589070e9bf6\" xlink:show=\"new\" xlink:title=\"psysml:b6aa9f25-72f8-4c2c-a7be-6589070e9bf6\" xlink:type=\"simple\"><rect fill=\"#FFFFFF\" height=\"223\" id=\"E1\" style=\"stroke: #383838; stroke-width: 1.5;\" width=\"515\" x=\"7\" y=\"7\"/><rect fill=\"#F8F8F8\" height=\"37.9375\" style=\"stroke: #383838; stroke-width: 1.5;\" width=\"515\" x=\"7\" y=\"7\"/><text fill=\"#000000\" font-family=\"sans-serif\" font-size=\"12\" font-style=\"italic\" lengthAdjust=\"spacingAndGlyphs\" textLength=\"71\" x=\"229\" y=\"23.1387\">«state def»</text><text fill=\"#000000\" font-family=\"sans-serif\" font-size=\"12\" lengthAdjust=\"spacingAndGlyphs\" textLength=\"8\" x=\"260.5\" y=\"37.1074\">S</text><line style=\"stroke: #383838; stroke-width: 1.0;\" x1=\"7\" x2=\"522\" y1=\"90.8438\" y2=\"90.8438\"/><text fill=\"#000000\" font-family=\"sans-serif\" font-size=\"12\" font-weight=\"bold\" lengthAdjust=\"spacingAndGlyphs\" textLength=\"38\" x=\"12\" y=\"58.0762\">entry</text><text fill=\"#000000\" font-family=\"sans-serif\" font-size=\"12\" lengthAdjust=\"spacingAndGlyphs\" textLength=\"16\" x=\"50\" y=\"58.0762\">/ A</text><text fill=\"#000000\" font-family=\"sans-serif\" font-size=\"12\" font-weight=\"bold\" lengthAdjust=\"spacingAndGlyphs\" textLength=\"18\" x=\"12\" y=\"72.0449\">do</text><text fill=\"#000000\" font-family=\"sans-serif\" font-size=\"12\" lengthAdjust=\"spacingAndGlyphs\" textLength=\"16\" x=\"30\" y=\"72.0449\">/ B</text><text fill=\"#000000\" font-family=\"sans-serif\" font-size=\"12\" font-weight=\"bold\" lengthAdjust=\"spacingAndGlyphs\" textLength=\"26\" x=\"12\" y=\"86.0137\">exit</text><text fill=\"#000000\" font-family=\"sans-serif\" font-size=\"12\" lengthAdjust=\"spacingAndGlyphs\" textLength=\"28\" x=\"38\" y=\"86.0137\">/ act</text></a><ellipse cx=\"33\" cy=\"152\" fill=\"#000000\" rx=\"10\" ry=\"10\" style=\"stroke: none; stroke-width: 1.0;\"/><ellipse cx=\"496\" cy=\"154\" fill=\"none\" rx=\"10\" ry=\"10\" style=\"stroke: #000000; stroke-width: 1.0;\"/><ellipse cx=\"496.5\" cy=\"154.5\" fill=\"#000000\" rx=\"6\" ry=\"6\" style=\"stroke: none; stroke-width: 1.0;\"/><g id=\"E1.E2\"><a href=\"psysml:1cabaaec-9539-448a-9df0-432fc817479b\" target=\"_top\" title=\"psysml:1cabaaec-9539-448a-9df0-432fc817479b\" xlink:actuate=\"onRequest\" xlink:href=\"psysml:1cabaaec-9539-448a-9df0-432fc817479b\" xlink:show=\"new\" xlink:title=\"psysml:1cabaaec-9539-448a-9df0-432fc817479b\" xlink:type=\"simple\"><rect fill=\"#FFFFFF\" height=\"40\" id=\"E2\" rx=\"10\" ry=\"10\" style=\"stroke: #383838; stroke-width: 1.5;\" width=\"50\" x=\"104\" y=\"132\"/><rect fill=\"#F8F8F8\" height=\"23.9688\" rx=\"10\" ry=\"10\" style=\"stroke: #F8F8F8; stroke-width: 1.5;\" width=\"50\" x=\"104\" y=\"132\"/><rect fill=\"#F8F8F8\" height=\"10\" style=\"stroke: #F8F8F8; stroke-width: 1.5;\" width=\"50\" x=\"104\" y=\"145.9688\"/><rect fill=\"none\" height=\"40\" id=\"E2\" rx=\"10\" ry=\"10\" style=\"stroke: #383838; stroke-width: 1.5;\" width=\"50\" x=\"104\" y=\"132\"/><text fill=\"#000000\" font-family=\"sans-serif\" font-size=\"12\" lengthAdjust=\"spacingAndGlyphs\" textLength=\"16\" x=\"121\" y=\"148.1387\">S1</text></a></g><g id=\"E1.E3\"><a href=\"psysml:7a7b17a9-f595-41dc-990f-a07a1c17ba3c\" target=\"_top\" title=\"psysml:7a7b17a9-f595-41dc-990f-a07a1c17ba3c\" xlink:actuate=\"onRequest\" xlink:href=\"psysml:7a7b17a9-f595-41dc-990f-a07a1c17ba3c\" xlink:show=\"new\" xlink:title=\"psysml:7a7b17a9-f595-41dc-990f-a07a1c17ba3c\" xlink:type=\"simple\"><rect fill=\"#FFFFFF\" height=\"47.9375\" id=\"E3\" rx=\"10\" ry=\"10\" style=\"stroke: #383838; stroke-width: 1.5;\" width=\"50\" x=\"351\" y=\"130\"/><rect fill=\"#F8F8F8\" height=\"23.9688\" rx=\"10\" ry=\"10\" style=\"stroke: #F8F8F8; stroke-width: 1.5;\" width=\"50\" x=\"351\" y=\"130\"/><rect fill=\"#F8F8F8\" height=\"10\" style=\"stroke: #F8F8F8; stroke-width: 1.5;\" width=\"50\" x=\"351\" y=\"143.9688\"/><rect fill=\"none\" height=\"47.9375\" id=\"E3\" rx=\"10\" ry=\"10\" style=\"stroke: #383838; stroke-width: 1.5;\" width=\"50\" x=\"351\" y=\"130\"/><text fill=\"#000000\" font-family=\"sans-serif\" font-size=\"12\" lengthAdjust=\"spacingAndGlyphs\" textLength=\"16\" x=\"368\" y=\"146.1387\">S2</text><line style=\"stroke: #383838; stroke-width: 1.0;\" x1=\"351\" x2=\"401\" y1=\"153.9688\" y2=\"153.9688\"/><text fill=\"#000000\" font-family=\"sans-serif\" font-size=\"12\" font-weight=\"bold\" lengthAdjust=\"spacingAndGlyphs\" textLength=\"18\" x=\"356\" y=\"167.1074\">do</text><text fill=\"#000000\" font-family=\"sans-serif\" font-size=\"12\" lengthAdjust=\"spacingAndGlyphs\" textLength=\"4\" x=\"374\" y=\"167.1074\">/</text></a></g><!--MD5=[cff944eb183b832d446717a4e202d613]\n",
       "link *start*E1 to E2--><a href=\"psysml:0b737fa2-1baa-4df5-913b-a090a33456a1\" target=\"_top\" title=\"psysml:0b737fa2-1baa-4df5-913b-a090a33456a1\" xlink:actuate=\"onRequest\" xlink:href=\"psysml:0b737fa2-1baa-4df5-913b-a090a33456a1\" xlink:show=\"new\" xlink:title=\"psysml:0b737fa2-1baa-4df5-913b-a090a33456a1\" xlink:type=\"simple\"><path d=\"M43.01,152 C55.7,152 79.41,152 98.57,152 \" fill=\"none\" id=\"*start*E1-&gt;E2\" style=\"stroke: #383838; stroke-width: 1.0;\"/><polygon fill=\"#383838\" points=\"103.84,152,94.84,148,98.84,152,94.84,156,103.84,152\" style=\"stroke: #383838; stroke-width: 1.0;\"/></a><!--MD5=[9ee7afa76ca8c509b3d216624c3a9893]\n",
       "link E3 to *end*E1--><a href=\"psysml:a8c9411f-d651-41a0-86c1-118f6cba8c1d\" target=\"_top\" title=\"psysml:a8c9411f-d651-41a0-86c1-118f6cba8c1d\" xlink:actuate=\"onRequest\" xlink:href=\"psysml:a8c9411f-d651-41a0-86c1-118f6cba8c1d\" xlink:show=\"new\" xlink:title=\"psysml:a8c9411f-d651-41a0-86c1-118f6cba8c1d\" xlink:type=\"simple\"><path d=\"M401.16,154 C425.08,154 460.89,154 480.64,154 \" fill=\"none\" id=\"E3-&gt;*end*E1\" style=\"stroke: #383838; stroke-width: 1.0;\"/><polygon fill=\"#383838\" points=\"485.76,154,476.76,150,480.76,154,476.76,158,485.76,154\" style=\"stroke: #383838; stroke-width: 1.0;\"/><text fill=\"#000000\" font-family=\"sans-serif\" font-size=\"13\" lengthAdjust=\"spacingAndGlyphs\" textLength=\"23\" x=\"432\" y=\"150.0669\">Exit</text></a><!--MD5=[2720a5a1f2c3fca2055b230370638851]\n",
       "link E2 to E3--><a href=\"psysml:eefcc534-c981-4425-9bf3-38251bd12a49\" target=\"_top\" title=\"psysml:eefcc534-c981-4425-9bf3-38251bd12a49\" xlink:actuate=\"onRequest\" xlink:href=\"psysml:eefcc534-c981-4425-9bf3-38251bd12a49\" xlink:show=\"new\" xlink:title=\"psysml:eefcc534-c981-4425-9bf3-38251bd12a49\" xlink:type=\"simple\"><path d=\"M154.15,168.85 C163.11,174.14 173.62,179.31 184,182 C242.94,197.27 261.84,196.42 321,182 C329.58,179.91 338.32,176.19 346.2,172.14 \" fill=\"none\" id=\"E2-&gt;E3\" style=\"stroke: #383838; stroke-width: 1.0;\"/><polygon fill=\"#383838\" points=\"350.98,169.59,341.156,170.2893,346.5666,171.94,344.9159,177.3506,350.98,169.59\" style=\"stroke: #383838; stroke-width: 1.0;\"/><text fill=\"#000000\" font-family=\"sans-serif\" font-size=\"13\" lengthAdjust=\"spacingAndGlyphs\" textLength=\"81\" x=\"212\" y=\"178.0669\">Sig /action D</text></a><!--MD5=[05d275557350bfb9b23a4ef7222b4c39]\n",
       "link E3 to E2--><a href=\"psysml:bcd703ca-2055-4c24-98bc-6c579eb31483\" target=\"_top\" title=\"psysml:bcd703ca-2055-4c24-98bc-6c579eb31483\" xlink:actuate=\"onRequest\" xlink:href=\"psysml:bcd703ca-2055-4c24-98bc-6c579eb31483\" xlink:show=\"new\" xlink:title=\"psysml:bcd703ca-2055-4c24-98bc-6c579eb31483\" xlink:type=\"simple\"><path d=\"M350.71,153.8 C305.48,153.43 208.49,152.64 159.54,152.24 \" fill=\"none\" id=\"E3-&gt;E2\" style=\"stroke: #383838; stroke-width: 1.0;\"/><polygon fill=\"#383838\" points=\"154.39,152.2,163.3554,156.277,159.3898,152.2429,163.424,148.2773,154.39,152.2\" style=\"stroke: #383838; stroke-width: 1.0;\"/><text fill=\"#000000\" font-family=\"sans-serif\" font-size=\"13\" lengthAdjust=\"spacingAndGlyphs\" textLength=\"135\" x=\"185\" y=\"149.0669\">Sig [true]/send s to p</text></a><!--MD5=[f349d90ce2981072f87d565fb801fe7b]\n",
       "@startuml\r\n",
       "left to right direction\r\n",
       "skinparam monochrome true\r\n",
       "skinparam classbackgroundcolor white\r\n",
       "skinparam shadowing false\r\n",
       "skinparam wrapWidth 300\r\n",
       "hide circle\r\n",
       "\r\n",
       "rec def \"S\" as E1  <<(T,blue)state def>> [[psysml:b6aa9f25-72f8-4c2c-a7be-6589070e9bf6 ]] {\r\n",
       "rec usage \"S1\" as E2 [[psysml:1cabaaec-9539-448a-9df0-432fc817479b ]] {\r\n",
       "}\r\n",
       "\r\n",
       "rec usage \"S2\" as E3 [[psysml:7a7b17a9-f595-41dc-990f-a07a1c17ba3c ]] {\r\n",
       "desc \"S2\" as E3  : **do**/ \r\n",
       "}\r\n",
       "\r\n",
       "[*] - -> E2 [[psysml:0b737fa2-1baa-4df5-913b-a090a33456a1 ]] \r\n",
       "E3  - -> [*] [[psysml:a8c9411f-d651-41a0-86c1-118f6cba8c1d ]] : Exit \r\n",
       "desc \"S\" as E1  : **entry**/ A\r\n",
       "desc \"S\" as E1  : **do**/ B\r\n",
       "desc \"S\" as E1  : **exit**/ act \r\n",
       "}\r\n",
       "\r\n",
       "E2  - -> E3 [[psysml:eefcc534-c981-4425-9bf3-38251bd12a49 ]] : Sig /action D\r\n",
       "E3  - -> E2 [[psysml:bcd703ca-2055-4c24-98bc-6c579eb31483 ]] : Sig [true]/send s to p\r\n",
       "@enduml\r\n",
       "\n",
       "PlantUML version 1.2020.13(Sat Jun 13 12:26:38 UTC 2020)\n",
       "(EPL source distribution)\n",
       "Java Runtime: OpenJDK Runtime Environment\n",
       "JVM: OpenJDK 64-Bit Server VM\n",
       "Default Encoding: UTF-8\n",
       "Language: en\n",
       "Country: null\n",
       "--></g></svg>"
      ]
     },
     "execution_count": 18,
     "metadata": {},
     "output_type": "execute_result"
    }
   ],
   "source": [
    "%viz --style=\"LR\" --view=\"State\" \"StateTest\""
   ]
  },
  {
   "cell_type": "code",
   "execution_count": 19,
   "id": "confirmed-berry",
   "metadata": {
    "execution": {
     "iopub.execute_input": "2021-03-25T15:06:57.359535Z",
     "iopub.status.busy": "2021-03-25T15:06:57.359075Z",
     "iopub.status.idle": "2021-03-25T15:06:57.432218Z",
     "shell.execute_reply": "2021-03-25T15:06:57.431870Z"
    }
   },
   "outputs": [
    {
     "data": {
      "image/svg+xml": [
       "<?xml version=\"1.0\" encoding=\"UTF-8\" standalone=\"no\"?><svg xmlns=\"http://www.w3.org/2000/svg\" xmlns:xlink=\"http://www.w3.org/1999/xlink\" contentScriptType=\"application/ecmascript\" contentStyleType=\"text/css\" height=\"455px\" preserveAspectRatio=\"none\" style=\"width:213px;height:455px;\" version=\"1.1\" viewBox=\"0 0 213 455\" width=\"213px\" zoomAndPan=\"magnify\"><defs/><g><!--MD5=[fbc87193dbaf4d95561dea2c320d4a47]\n",
       "cluster E1--><a href=\"psysml:a2ca8720-bd4b-4556-9b27-091331149f1f\" target=\"_top\" title=\"psysml:a2ca8720-bd4b-4556-9b27-091331149f1f\" xlink:actuate=\"onRequest\" xlink:href=\"psysml:a2ca8720-bd4b-4556-9b27-091331149f1f\" xlink:show=\"new\" xlink:title=\"psysml:a2ca8720-bd4b-4556-9b27-091331149f1f\" xlink:type=\"simple\"><polygon fill=\"#FFFFFF\" points=\"16,6,98,6,105,28.2969,191,28.2969,191,443,16,443,16,6\" style=\"stroke: #000000; stroke-width: 1.5;\"/><line style=\"stroke: #000000; stroke-width: 1.5;\" x1=\"16\" x2=\"105\" y1=\"28.2969\" y2=\"28.2969\"/><text fill=\"#000000\" font-family=\"sans-serif\" font-size=\"14\" font-weight=\"bold\" lengthAdjust=\"spacingAndGlyphs\" textLength=\"76\" x=\"20\" y=\"20.9951\">StateTest</text></a><!--MD5=[b4997ac47864f28c2f74865a473b2911]\n",
       "class E2--><a href=\"psysml:9b0c6b07-76e0-48e6-88f4-e6a2c752e8e3\" target=\"_top\" title=\"psysml:9b0c6b07-76e0-48e6-88f4-e6a2c752e8e3\" xlink:actuate=\"onRequest\" xlink:href=\"psysml:9b0c6b07-76e0-48e6-88f4-e6a2c752e8e3\" xlink:show=\"new\" xlink:title=\"psysml:9b0c6b07-76e0-48e6-88f4-e6a2c752e8e3\" xlink:type=\"simple\"><rect fill=\"#FFFFFF\" height=\"53.9375\" id=\"E2\" style=\"stroke: #383838; stroke-width: 1.5;\" width=\"143\" x=\"32\" y=\"41\"/><text fill=\"#000000\" font-family=\"sans-serif\" font-size=\"12\" font-style=\"italic\" lengthAdjust=\"spacingAndGlyphs\" textLength=\"141\" x=\"33\" y=\"57.1387\">«(T,blue)attribute def»</text><text fill=\"#000000\" font-family=\"sans-serif\" font-size=\"12\" lengthAdjust=\"spacingAndGlyphs\" textLength=\"19\" x=\"94\" y=\"71.1074\">Sig</text><line style=\"stroke: #383838; stroke-width: 1.5;\" x1=\"33\" x2=\"174\" y1=\"78.9375\" y2=\"78.9375\"/><line style=\"stroke: #383838; stroke-width: 1.5;\" x1=\"33\" x2=\"174\" y1=\"86.9375\" y2=\"86.9375\"/></a><!--MD5=[09b614a08d8cba4a07c9adeb5e0fee81]\n",
       "class E3--><a href=\"psysml:75ee6cec-68f4-495e-910b-3cf4854ee540\" target=\"_top\" title=\"psysml:75ee6cec-68f4-495e-910b-3cf4854ee540\" xlink:actuate=\"onRequest\" xlink:href=\"psysml:75ee6cec-68f4-495e-910b-3cf4854ee540\" xlink:show=\"new\" xlink:title=\"psysml:75ee6cec-68f4-495e-910b-3cf4854ee540\" xlink:type=\"simple\"><rect fill=\"#FFFFFF\" height=\"53.9375\" id=\"E3\" style=\"stroke: #383838; stroke-width: 1.5;\" width=\"143\" x=\"32\" y=\"130\"/><text fill=\"#000000\" font-family=\"sans-serif\" font-size=\"12\" font-style=\"italic\" lengthAdjust=\"spacingAndGlyphs\" textLength=\"141\" x=\"33\" y=\"146.1387\">«(T,blue)attribute def»</text><text fill=\"#000000\" font-family=\"sans-serif\" font-size=\"12\" lengthAdjust=\"spacingAndGlyphs\" textLength=\"22\" x=\"92.5\" y=\"160.1074\">Exit</text><line style=\"stroke: #383838; stroke-width: 1.5;\" x1=\"33\" x2=\"174\" y1=\"167.9375\" y2=\"167.9375\"/><line style=\"stroke: #383838; stroke-width: 1.5;\" x1=\"33\" x2=\"174\" y1=\"175.9375\" y2=\"175.9375\"/></a><!--MD5=[60a26617385b1d2d0262a64233df1f8d]\n",
       "class E6--><a href=\"psysml:b6aa9f25-72f8-4c2c-a7be-6589070e9bf6\" target=\"_top\" title=\"psysml:b6aa9f25-72f8-4c2c-a7be-6589070e9bf6\" xlink:actuate=\"onRequest\" xlink:href=\"psysml:b6aa9f25-72f8-4c2c-a7be-6589070e9bf6\" xlink:show=\"new\" xlink:title=\"psysml:b6aa9f25-72f8-4c2c-a7be-6589070e9bf6\" xlink:type=\"simple\"><rect fill=\"#FFFFFF\" height=\"53.9375\" id=\"E6\" style=\"stroke: #383838; stroke-width: 1.5;\" width=\"121\" x=\"43\" y=\"219\"/><text fill=\"#000000\" font-family=\"sans-serif\" font-size=\"12\" font-style=\"italic\" lengthAdjust=\"spacingAndGlyphs\" textLength=\"119\" x=\"44\" y=\"235.1387\">«(T,blue)state def»</text><text fill=\"#000000\" font-family=\"sans-serif\" font-size=\"12\" lengthAdjust=\"spacingAndGlyphs\" textLength=\"8\" x=\"99.5\" y=\"249.1074\">S</text><line style=\"stroke: #383838; stroke-width: 1.5;\" x1=\"44\" x2=\"163\" y1=\"256.9375\" y2=\"256.9375\"/><line style=\"stroke: #383838; stroke-width: 1.5;\" x1=\"44\" x2=\"163\" y1=\"264.9375\" y2=\"264.9375\"/></a><g id=\"E1.E4\"><a href=\"psysml:d526add9-9153-4d94-82de-e3d10cc7d584\" target=\"_top\" title=\"psysml:d526add9-9153-4d94-82de-e3d10cc7d584\" xlink:actuate=\"onRequest\" xlink:href=\"psysml:d526add9-9153-4d94-82de-e3d10cc7d584\" xlink:show=\"new\" xlink:title=\"psysml:d526add9-9153-4d94-82de-e3d10cc7d584\" xlink:type=\"simple\"><rect fill=\"#FFFFFF\" height=\"40\" id=\"E4\" rx=\"10\" ry=\"10\" style=\"stroke: #383838; stroke-width: 1.5;\" width=\"50\" x=\"78.5\" y=\"308\"/><rect fill=\"#F8F8F8\" height=\"23.9688\" rx=\"10\" ry=\"10\" style=\"stroke: #F8F8F8; stroke-width: 1.5;\" width=\"50\" x=\"78.5\" y=\"308\"/><rect fill=\"#F8F8F8\" height=\"10\" style=\"stroke: #F8F8F8; stroke-width: 1.5;\" width=\"50\" x=\"78.5\" y=\"321.9688\"/><rect fill=\"none\" height=\"40\" id=\"E4\" rx=\"10\" ry=\"10\" style=\"stroke: #383838; stroke-width: 1.5;\" width=\"50\" x=\"78.5\" y=\"308\"/><text fill=\"#000000\" font-family=\"sans-serif\" font-size=\"12\" lengthAdjust=\"spacingAndGlyphs\" textLength=\"8\" x=\"99.5\" y=\"324.1387\">p</text></a></g><g id=\"E1.E5\"><a href=\"psysml:12bd5d36-0dbf-4715-90c3-b0b875efee55\" target=\"_top\" title=\"psysml:12bd5d36-0dbf-4715-90c3-b0b875efee55\" xlink:actuate=\"onRequest\" xlink:href=\"psysml:12bd5d36-0dbf-4715-90c3-b0b875efee55\" xlink:show=\"new\" xlink:title=\"psysml:12bd5d36-0dbf-4715-90c3-b0b875efee55\" xlink:type=\"simple\"><rect fill=\"#FFFFFF\" height=\"42.9375\" id=\"E5\" rx=\"10\" ry=\"10\" style=\"stroke: #383838; stroke-width: 1.5;\" width=\"60\" x=\"73.5\" y=\"383.5\"/><rect fill=\"#F8F8F8\" height=\"37.9375\" rx=\"10\" ry=\"10\" style=\"stroke: #F8F8F8; stroke-width: 1.5;\" width=\"60\" x=\"73.5\" y=\"383.5\"/><rect fill=\"#F8F8F8\" height=\"10\" style=\"stroke: #F8F8F8; stroke-width: 1.5;\" width=\"60\" x=\"73.5\" y=\"411.4375\"/><rect fill=\"none\" height=\"42.9375\" id=\"E5\" rx=\"10\" ry=\"10\" style=\"stroke: #383838; stroke-width: 1.5;\" width=\"60\" x=\"73.5\" y=\"383.5\"/><text fill=\"#000000\" font-family=\"sans-serif\" font-size=\"12\" font-style=\"italic\" lengthAdjust=\"spacingAndGlyphs\" textLength=\"53\" x=\"77\" y=\"399.6387\">«action»</text><text fill=\"#000000\" font-family=\"sans-serif\" font-size=\"12\" lengthAdjust=\"spacingAndGlyphs\" textLength=\"20\" x=\"93.5\" y=\"413.6074\">act</text></a></g><!--MD5=[1aaa45ec894ddb36c91daaefa6b96334]\n",
       "@startuml\r\n",
       "skinparam ranksep 8\r\n",
       "skinparam rectangle {\r\n",
       " backgroundColor<<block>> LightGreen\r\n",
       "}\r\n",
       "left to right direction\r\n",
       "skinparam monochrome true\r\n",
       "skinparam classbackgroundcolor white\r\n",
       "skinparam shadowing false\r\n",
       "skinparam wrapWidth 300\r\n",
       "hide circle\r\n",
       "\r\n",
       "package \"StateTest\" as E1  [[psysml:a2ca8720-bd4b-4556-9b27-091331149f1f ]]  {\r\n",
       "def \"Sig\" as E2  <<(T,blue)attribute def>> [[psysml:9b0c6b07-76e0-48e6-88f4-e6a2c752e8e3 ]] \r\n",
       "def \"Exit\" as E3  <<(T,blue)attribute def>> [[psysml:75ee6cec-68f4-495e-910b-3cf4854ee540 ]] \r\n",
       "rec usage \"p\" as E4  [[psysml:d526add9-9153-4d94-82de-e3d10cc7d584 ]] {\r\n",
       "}\r\n",
       "rec usage \"act\" as E5  <<(T,blue)action>> [[psysml:12bd5d36-0dbf-4715-90c3-b0b875efee55 ]] {\r\n",
       "}\r\n",
       "def \"S\" as E6  <<(T,blue)state def>> [[psysml:b6aa9f25-72f8-4c2c-a7be-6589070e9bf6 ]] \r\n",
       "}\r\n",
       "@enduml\r\n",
       "\n",
       "PlantUML version 1.2020.13(Sat Jun 13 12:26:38 UTC 2020)\n",
       "(EPL source distribution)\n",
       "Java Runtime: OpenJDK Runtime Environment\n",
       "JVM: OpenJDK 64-Bit Server VM\n",
       "Default Encoding: UTF-8\n",
       "Language: en\n",
       "Country: null\n",
       "--></g></svg>"
      ]
     },
     "execution_count": 19,
     "metadata": {},
     "output_type": "execute_result"
    }
   ],
   "source": [
    "%viz --style=\"LR\" --view=\"Interconnection\" \"StateTest\""
   ]
  },
  {
   "cell_type": "code",
   "execution_count": 20,
   "id": "piano-strain",
   "metadata": {
    "execution": {
     "iopub.execute_input": "2021-03-25T15:06:57.485450Z",
     "iopub.status.busy": "2021-03-25T15:06:57.484478Z",
     "iopub.status.idle": "2021-03-25T15:06:57.524159Z",
     "shell.execute_reply": "2021-03-25T15:06:57.523308Z"
    }
   },
   "outputs": [
    {
     "data": {
      "image/svg+xml": [
       "<?xml version=\"1.0\" encoding=\"UTF-8\" standalone=\"no\"?><svg xmlns=\"http://www.w3.org/2000/svg\" xmlns:xlink=\"http://www.w3.org/1999/xlink\" contentScriptType=\"application/ecmascript\" contentStyleType=\"text/css\" height=\"483px\" preserveAspectRatio=\"none\" style=\"width:788px;height:483px;background:#000000;\" version=\"1.1\" viewBox=\"0 0 788 483\" width=\"788px\" zoomAndPan=\"magnify\"><defs/><g><rect fill=\"#200200\" height=\"1\" style=\"stroke: #200200; stroke-width: 1.0;\" width=\"1\" x=\"0\" y=\"0\"/><rect fill=\"#33FF02\" height=\"21.2969\" style=\"stroke: #33FF02; stroke-width: 1.0;\" width=\"781\" x=\"5\" y=\"5\"/><text fill=\"#000000\" font-family=\"sans-serif\" font-size=\"14\" font-weight=\"bold\" lengthAdjust=\"spacingAndGlyphs\" textLength=\"178\" x=\"6\" y=\"20\">[From string (line 26) ]</text><text fill=\"#33FF02\" font-family=\"sans-serif\" font-size=\"14\" font-weight=\"bold\" lengthAdjust=\"spacingAndGlyphs\" textLength=\"0\" x=\"10\" y=\"40.2969\"/><text fill=\"#33FF02\" font-family=\"sans-serif\" font-size=\"14\" font-weight=\"bold\" lengthAdjust=\"spacingAndGlyphs\" textLength=\"79\" x=\"5\" y=\"56.5938\">@startuml</text><text fill=\"#33FF02\" font-family=\"sans-serif\" font-size=\"14\" font-weight=\"bold\" lengthAdjust=\"spacingAndGlyphs\" textLength=\"165\" x=\"5\" y=\"72.8906\">skinparam ranksep 8</text><text fill=\"#33FF02\" font-family=\"sans-serif\" font-size=\"14\" font-weight=\"bold\" lengthAdjust=\"spacingAndGlyphs\" textLength=\"164\" x=\"5\" y=\"89.1875\">left to right direction</text><text fill=\"#33FF02\" font-family=\"sans-serif\" font-size=\"14\" font-weight=\"bold\" lengthAdjust=\"spacingAndGlyphs\" textLength=\"228\" x=\"5\" y=\"105.4844\">skinparam monochrome true</text><text fill=\"#33FF02\" font-family=\"sans-serif\" font-size=\"14\" font-weight=\"bold\" lengthAdjust=\"spacingAndGlyphs\" textLength=\"309\" x=\"5\" y=\"121.7813\">skinparam classbackgroundcolor white</text><text fill=\"#33FF02\" font-family=\"sans-serif\" font-size=\"14\" font-weight=\"bold\" lengthAdjust=\"spacingAndGlyphs\" textLength=\"215\" x=\"5\" y=\"138.0781\">skinparam shadowing false</text><text fill=\"#33FF02\" font-family=\"sans-serif\" font-size=\"14\" font-weight=\"bold\" lengthAdjust=\"spacingAndGlyphs\" textLength=\"206\" x=\"5\" y=\"154.375\">skinparam wrapWidth 300</text><text fill=\"#33FF02\" font-family=\"sans-serif\" font-size=\"14\" font-weight=\"bold\" lengthAdjust=\"spacingAndGlyphs\" textLength=\"82\" x=\"5\" y=\"170.6719\">hide circle</text><text fill=\"#33FF02\" font-family=\"sans-serif\" font-size=\"14\" font-weight=\"bold\" lengthAdjust=\"spacingAndGlyphs\" textLength=\"0\" x=\"10\" y=\"186.9688\"/><text fill=\"#33FF02\" font-family=\"sans-serif\" font-size=\"14\" font-weight=\"bold\" lengthAdjust=\"spacingAndGlyphs\" textLength=\"781\" x=\"5\" y=\"203.2656\">rec usage \"act\" as E1  &lt;&lt;(T,blue)action&gt;&gt; [[psysml:12bd5d36-0dbf-4715-90c3-b0b875efee55 ]] {</text><text fill=\"#33FF02\" font-family=\"sans-serif\" font-size=\"14\" font-weight=\"bold\" lengthAdjust=\"spacingAndGlyphs\" textLength=\"10\" x=\"5\" y=\"219.5625\">}</text><text fill=\"#33FF02\" font-family=\"sans-serif\" font-size=\"14\" font-weight=\"bold\" lengthAdjust=\"spacingAndGlyphs\" textLength=\"0\" x=\"10\" y=\"235.8594\"/><text fill=\"#33FF02\" font-family=\"sans-serif\" font-size=\"14\" font-weight=\"bold\" lengthAdjust=\"spacingAndGlyphs\" textLength=\"760\" x=\"5\" y=\"252.1563\">rec def \"S\" as E2  &lt;&lt;(T,blue)state def&gt;&gt; [[psysml:b6aa9f25-72f8-4c2c-a7be-6589070e9bf6 ]] {</text><text fill=\"#33FF02\" font-family=\"sans-serif\" font-size=\"14\" font-weight=\"bold\" lengthAdjust=\"spacingAndGlyphs\" textLength=\"761\" x=\"5\" y=\"268.4531\">rec usage \"A\" as E3 &lt;&lt;perform action&gt;&gt; [[psysml:7c853ef3-d7ff-4ebf-8ae8-b09e7153a971 ]] {</text><text fill=\"#33FF02\" font-family=\"sans-serif\" font-size=\"14\" font-weight=\"bold\" lengthAdjust=\"spacingAndGlyphs\" textLength=\"10\" x=\"5\" y=\"284.75\">}</text><text fill=\"#33FF02\" font-family=\"sans-serif\" font-size=\"14\" font-weight=\"bold\" lengthAdjust=\"spacingAndGlyphs\" textLength=\"0\" x=\"10\" y=\"301.0469\"/><text fill=\"#33FF02\" font-family=\"sans-serif\" font-size=\"14\" font-weight=\"bold\" lengthAdjust=\"spacingAndGlyphs\" textLength=\"765\" x=\"5\" y=\"317.3438\">rec usage \"B\" as E4 &lt;&lt;perform action&gt;&gt; [[psysml:dca473ca-f240-48c8-8410-315f8ab65930 ]] {</text><text fill=\"#33FF02\" font-family=\"sans-serif\" font-size=\"14\" font-weight=\"bold\" lengthAdjust=\"spacingAndGlyphs\" textLength=\"10\" x=\"5\" y=\"333.6406\">}</text><text fill=\"#33FF02\" font-family=\"sans-serif\" font-size=\"14\" font-weight=\"bold\" lengthAdjust=\"spacingAndGlyphs\" textLength=\"0\" x=\"10\" y=\"349.9375\"/><text fill=\"#33FF02\" font-family=\"sans-serif\" font-size=\"14\" font-weight=\"bold\" lengthAdjust=\"spacingAndGlyphs\" textLength=\"779\" x=\"5\" y=\"366.2344\">rec usage \"act\" as E5 &lt;&lt;perform action&gt;&gt; [[psysml:4cc25ae1-ca80-482c-9b62-70f98bd0e4f3 ]] {</text><text fill=\"#33FF02\" font-family=\"sans-serif\" font-size=\"14\" font-weight=\"bold\" lengthAdjust=\"spacingAndGlyphs\" textLength=\"10\" x=\"5\" y=\"382.5313\">}</text><text fill=\"#33FF02\" font-family=\"sans-serif\" font-size=\"14\" font-weight=\"bold\" lengthAdjust=\"spacingAndGlyphs\" textLength=\"0\" x=\"10\" y=\"398.8281\"/><text fill=\"#33FF02\" font-family=\"sans-serif\" font-size=\"14\" font-weight=\"bold\" lengthAdjust=\"spacingAndGlyphs\" textLength=\"763\" x=\"5\" y=\"415.125\">rec usage \"S1\" as E6  &lt;&lt;(T,blue)state&gt;&gt; [[psysml:1cabaaec-9539-448a-9df0-432fc817479b ]] {</text><text fill=\"#33FF02\" font-family=\"sans-serif\" font-size=\"14\" font-weight=\"bold\" lengthAdjust=\"spacingAndGlyphs\" textLength=\"10\" x=\"5\" y=\"431.4219\">}</text><text fill=\"#33FF02\" font-family=\"sans-serif\" font-size=\"14\" font-weight=\"bold\" lengthAdjust=\"spacingAndGlyphs\" textLength=\"0\" x=\"10\" y=\"447.7188\"/><text fill=\"#33FF02\" font-family=\"sans-serif\" font-size=\"14\" font-weight=\"bold\" lengthAdjust=\"spacingAndGlyphs\" textLength=\"10\" x=\"5\" y=\"464.0156\">{</text><text fill=\"#FF0000\" font-family=\"sans-serif\" font-size=\"14\" font-weight=\"bold\" lengthAdjust=\"spacingAndGlyphs\" textLength=\"106\" x=\"10\" y=\"480.3125\">Syntax Error?</text><!--MD5=[c3ab774490c709c053dfb014caa2e05f]\n",
       "@startuml\r\n",
       "skinparam ranksep 8\r\n",
       "left to right direction\r\n",
       "skinparam monochrome true\r\n",
       "skinparam classbackgroundcolor white\r\n",
       "skinparam shadowing false\r\n",
       "skinparam wrapWidth 300\r\n",
       "hide circle\r\n",
       "\r\n",
       "rec usage \"act\" as E1  <<(T,blue)action>> [[psysml:12bd5d36-0dbf-4715-90c3-b0b875efee55 ]] {\r\n",
       "}\r\n",
       "\r\n",
       "rec def \"S\" as E2  <<(T,blue)state def>> [[psysml:b6aa9f25-72f8-4c2c-a7be-6589070e9bf6 ]] {\r\n",
       "rec usage \"A\" as E3 <<perform action>> [[psysml:7c853ef3-d7ff-4ebf-8ae8-b09e7153a971 ]] {\r\n",
       "}\r\n",
       "\r\n",
       "rec usage \"B\" as E4 <<perform action>> [[psysml:dca473ca-f240-48c8-8410-315f8ab65930 ]] {\r\n",
       "}\r\n",
       "\r\n",
       "rec usage \"act\" as E5 <<perform action>> [[psysml:4cc25ae1-ca80-482c-9b62-70f98bd0e4f3 ]] {\r\n",
       "}\r\n",
       "\r\n",
       "rec usage \"S1\" as E6  <<(T,blue)state>> [[psysml:1cabaaec-9539-448a-9df0-432fc817479b ]] {\r\n",
       "}\r\n",
       "\r\n",
       "{\r\n",
       "{\r\n",
       "}\r\n",
       "\r\n",
       "rec usage \"D\" as E7 <<perform action>> [[psysml:3510f31d-b177-4ebf-8714-3f9d2522539a ]] {\r\n",
       "}\r\n",
       "\r\n",
       "}\r\n",
       "\r\n",
       "rec usage \"S2\" as E8  <<(T,blue)state>> [[psysml:7a7b17a9-f595-41dc-990f-a07a1c17ba3c ]] {\r\n",
       "rec usage \"doAction\" as E9 <<send action>> [[psysml:fce0e4a1-8edc-4c38-93d6-a3b5e3670b25 ]] {\r\n",
       "portin \"$x\" as E10  [[psysml:0f9ee1be-4b0c-49df-bf39-0b4be923bab5 ]] \r\n",
       "portout \"$result\" as E11  [[psysml:57c23ed7-9c69-47d3-a300-7e2619377bac ]] \r\n",
       "}\r\n",
       "\r\n",
       "}\r\n",
       "\r\n",
       "{\r\n",
       "{\r\n",
       "}\r\n",
       "\r\n",
       "}\r\n",
       "\r\n",
       "rec usage \"T\" as E12  <<(T,blue)transition>> [[psysml:bcd703ca-2055-4c24-98bc-6c579eb31483 ]] {\r\n",
       "rec usage \"S2\" as E13  <<(T,blue)state>> [[psysml:7a7b17a9-f595-41dc-990f-a07a1c17ba3c ]] {\r\n",
       "rec usage \"doAction\" as E14 <<send action>> [[psysml:fce0e4a1-8edc-4c38-93d6-a3b5e3670b25 ]] {\r\n",
       "portin \"$x\" as E15  [[psysml:0f9ee1be-4b0c-49df-bf39-0b4be923bab5 ]] \r\n",
       "portout \"$result\" as E16  [[psysml:57c23ed7-9c69-47d3-a300-7e2619377bac ]] \r\n",
       "}\r\n",
       "\r\n",
       "}\r\n",
       "\r\n",
       "{\r\n",
       "}\r\n",
       "\r\n",
       "portout \"$result\" as E17  [[psysml:911b7f24-6054-424b-94f8-0593eb8f2c88 ]] \r\n",
       "{\r\n",
       "}\r\n",
       "\r\n",
       "}\r\n",
       "\r\n",
       "}\r\n",
       "\r\n",
       "@enduml\r\n",
       "\n",
       "PlantUML version 1.2020.13(Sat Jun 13 12:26:38 UTC 2020)\n",
       "(EPL source distribution)\n",
       "Java Runtime: OpenJDK Runtime Environment\n",
       "JVM: OpenJDK 64-Bit Server VM\n",
       "Default Encoding: UTF-8\n",
       "Language: en\n",
       "Country: null\n",
       "--></g></svg>"
      ]
     },
     "execution_count": 20,
     "metadata": {},
     "output_type": "execute_result"
    }
   ],
   "source": [
    "%viz --style=\"LR\" --view=\"Action\" \"StateTest\""
   ]
  },
  {
   "cell_type": "code",
   "execution_count": 21,
   "id": "parallel-happening",
   "metadata": {
    "execution": {
     "iopub.execute_input": "2021-03-25T15:06:57.573346Z",
     "iopub.status.busy": "2021-03-25T15:06:57.572724Z",
     "iopub.status.idle": "2021-03-25T15:06:58.059168Z",
     "shell.execute_reply": "2021-03-25T15:06:58.058763Z"
    }
   },
   "outputs": [
    {
     "data": {
      "image/svg+xml": [
       "<?xml version=\"1.0\" encoding=\"UTF-8\" standalone=\"no\"?><svg xmlns=\"http://www.w3.org/2000/svg\" xmlns:xlink=\"http://www.w3.org/1999/xlink\" contentScriptType=\"application/ecmascript\" contentStyleType=\"text/css\" height=\"583px\" preserveAspectRatio=\"none\" style=\"width:424px;height:583px;\" version=\"1.1\" viewBox=\"0 0 424 583\" width=\"424px\" zoomAndPan=\"magnify\"><defs/><g><!--MD5=[fbc87193dbaf4d95561dea2c320d4a47]\n",
       "cluster E1--><a href=\"psysml:a2ca8720-bd4b-4556-9b27-091331149f1f\" target=\"_top\" title=\"psysml:a2ca8720-bd4b-4556-9b27-091331149f1f\" xlink:actuate=\"onRequest\" xlink:href=\"psysml:a2ca8720-bd4b-4556-9b27-091331149f1f\" xlink:show=\"new\" xlink:title=\"psysml:a2ca8720-bd4b-4556-9b27-091331149f1f\" xlink:type=\"simple\"><polygon fill=\"#FFFFFF\" points=\"16,6,98,6,105,28.2969,402,28.2969,402,571,16,571,16,6\" style=\"stroke: #000000; stroke-width: 1.5;\"/><line style=\"stroke: #000000; stroke-width: 1.5;\" x1=\"16\" x2=\"105\" y1=\"28.2969\" y2=\"28.2969\"/><text fill=\"#000000\" font-family=\"sans-serif\" font-size=\"14\" font-weight=\"bold\" lengthAdjust=\"spacingAndGlyphs\" textLength=\"76\" x=\"20\" y=\"20.9951\">StateTest</text></a><!--MD5=[b4997ac47864f28c2f74865a473b2911]\n",
       "class E2--><a href=\"psysml:9b0c6b07-76e0-48e6-88f4-e6a2c752e8e3\" target=\"_top\" title=\"psysml:9b0c6b07-76e0-48e6-88f4-e6a2c752e8e3\" xlink:actuate=\"onRequest\" xlink:href=\"psysml:9b0c6b07-76e0-48e6-88f4-e6a2c752e8e3\" xlink:show=\"new\" xlink:title=\"psysml:9b0c6b07-76e0-48e6-88f4-e6a2c752e8e3\" xlink:type=\"simple\"><rect fill=\"#FFFFFF\" height=\"75.5469\" id=\"E2\" style=\"stroke: #383838; stroke-width: 1.5;\" width=\"95\" x=\"32\" y=\"41\"/><text fill=\"#000000\" font-family=\"sans-serif\" font-size=\"12\" font-style=\"italic\" lengthAdjust=\"spacingAndGlyphs\" textLength=\"93\" x=\"33\" y=\"57.1387\">«attribute def»</text><text fill=\"#000000\" font-family=\"sans-serif\" font-size=\"12\" lengthAdjust=\"spacingAndGlyphs\" textLength=\"19\" x=\"70\" y=\"71.1074\">Sig</text><line style=\"stroke: #383838; stroke-width: 1.5;\" x1=\"33\" x2=\"126\" y1=\"78.9375\" y2=\"78.9375\"/><text fill=\"#000000\" font-family=\"sans-serif\" font-size=\"11\" lengthAdjust=\"spacingAndGlyphs\" textLength=\"6\" x=\"38\" y=\"109.9526\">x</text><line style=\"stroke: #383838; stroke-width: 1.0;\" x1=\"33\" x2=\"52\" y1=\"93.3398\" y2=\"93.3398\"/><text fill=\"#000000\" font-family=\"sans-serif\" font-size=\"11\" lengthAdjust=\"spacingAndGlyphs\" textLength=\"55\" x=\"52\" y=\"96.6479\">attributes</text><line style=\"stroke: #383838; stroke-width: 1.0;\" x1=\"107\" x2=\"126\" y1=\"93.3398\" y2=\"93.3398\"/></a><!--MD5=[09b614a08d8cba4a07c9adeb5e0fee81]\n",
       "class E3--><a href=\"psysml:75ee6cec-68f4-495e-910b-3cf4854ee540\" target=\"_top\" title=\"psysml:75ee6cec-68f4-495e-910b-3cf4854ee540\" xlink:actuate=\"onRequest\" xlink:href=\"psysml:75ee6cec-68f4-495e-910b-3cf4854ee540\" xlink:show=\"new\" xlink:title=\"psysml:75ee6cec-68f4-495e-910b-3cf4854ee540\" xlink:type=\"simple\"><rect fill=\"#FFFFFF\" height=\"45.9375\" id=\"E3\" style=\"stroke: #383838; stroke-width: 1.5;\" width=\"95\" x=\"32\" y=\"152\"/><text fill=\"#000000\" font-family=\"sans-serif\" font-size=\"12\" font-style=\"italic\" lengthAdjust=\"spacingAndGlyphs\" textLength=\"93\" x=\"33\" y=\"168.1387\">«attribute def»</text><text fill=\"#000000\" font-family=\"sans-serif\" font-size=\"12\" lengthAdjust=\"spacingAndGlyphs\" textLength=\"22\" x=\"68.5\" y=\"182.1074\">Exit</text><line style=\"stroke: #383838; stroke-width: 1.5;\" x1=\"33\" x2=\"126\" y1=\"189.9375\" y2=\"189.9375\"/></a><!--MD5=[ebbe1d658d1005bcc118a6aa81145e00]\n",
       "class E4--><a href=\"psysml:d526add9-9153-4d94-82de-e3d10cc7d584\" target=\"_top\" title=\"psysml:d526add9-9153-4d94-82de-e3d10cc7d584\" xlink:actuate=\"onRequest\" xlink:href=\"psysml:d526add9-9153-4d94-82de-e3d10cc7d584\" xlink:show=\"new\" xlink:title=\"psysml:d526add9-9153-4d94-82de-e3d10cc7d584\" xlink:type=\"simple\"><rect fill=\"#FFFFFF\" height=\"45.9375\" id=\"E4\" rx=\"10\" ry=\"10\" style=\"stroke: #383838; stroke-width: 1.5;\" width=\"42\" x=\"58.5\" y=\"233\"/><text fill=\"#000000\" font-family=\"sans-serif\" font-size=\"12\" font-style=\"italic\" lengthAdjust=\"spacingAndGlyphs\" textLength=\"40\" x=\"59.5\" y=\"249.1387\">«part»</text><text fill=\"#000000\" font-family=\"sans-serif\" font-size=\"12\" lengthAdjust=\"spacingAndGlyphs\" textLength=\"8\" x=\"75.5\" y=\"263.1074\">p</text><line style=\"stroke: #383838; stroke-width: 1.5;\" x1=\"59.5\" x2=\"99.5\" y1=\"270.9375\" y2=\"270.9375\"/></a><!--MD5=[270fce915f116d4de14055a7c1d9a0f3]\n",
       "class E5--><a href=\"psysml:12bd5d36-0dbf-4715-90c3-b0b875efee55\" target=\"_top\" title=\"psysml:12bd5d36-0dbf-4715-90c3-b0b875efee55\" xlink:actuate=\"onRequest\" xlink:href=\"psysml:12bd5d36-0dbf-4715-90c3-b0b875efee55\" xlink:show=\"new\" xlink:title=\"psysml:12bd5d36-0dbf-4715-90c3-b0b875efee55\" xlink:type=\"simple\"><rect fill=\"#FFFFFF\" height=\"45.9375\" id=\"E5\" rx=\"10\" ry=\"10\" style=\"stroke: #383838; stroke-width: 1.5;\" width=\"55\" x=\"52\" y=\"314\"/><text fill=\"#000000\" font-family=\"sans-serif\" font-size=\"12\" font-style=\"italic\" lengthAdjust=\"spacingAndGlyphs\" textLength=\"53\" x=\"53\" y=\"330.1387\">«action»</text><text fill=\"#000000\" font-family=\"sans-serif\" font-size=\"12\" lengthAdjust=\"spacingAndGlyphs\" textLength=\"20\" x=\"69.5\" y=\"344.1074\">act</text><line style=\"stroke: #383838; stroke-width: 1.5;\" x1=\"53\" x2=\"106\" y1=\"351.9375\" y2=\"351.9375\"/></a><!--MD5=[60a26617385b1d2d0262a64233df1f8d]\n",
       "class E6--><a href=\"psysml:b6aa9f25-72f8-4c2c-a7be-6589070e9bf6\" target=\"_top\" title=\"psysml:b6aa9f25-72f8-4c2c-a7be-6589070e9bf6\" xlink:actuate=\"onRequest\" xlink:href=\"psysml:b6aa9f25-72f8-4c2c-a7be-6589070e9bf6\" xlink:show=\"new\" xlink:title=\"psysml:b6aa9f25-72f8-4c2c-a7be-6589070e9bf6\" xlink:type=\"simple\"><rect fill=\"#FFFFFF\" height=\"160.375\" id=\"E6\" style=\"stroke: #383838; stroke-width: 1.5;\" width=\"95\" x=\"32\" y=\"395\"/><text fill=\"#000000\" font-family=\"sans-serif\" font-size=\"12\" font-style=\"italic\" lengthAdjust=\"spacingAndGlyphs\" textLength=\"71\" x=\"44\" y=\"411.1387\">«state def»</text><text fill=\"#000000\" font-family=\"sans-serif\" font-size=\"12\" lengthAdjust=\"spacingAndGlyphs\" textLength=\"8\" x=\"75.5\" y=\"425.1074\">S</text><line style=\"stroke: #383838; stroke-width: 1.5;\" x1=\"33\" x2=\"126\" y1=\"432.9375\" y2=\"432.9375\"/><text fill=\"#000000\" font-family=\"sans-serif\" font-size=\"11\" lengthAdjust=\"spacingAndGlyphs\" textLength=\"17\" x=\"38\" y=\"463.9526\">act</text><text fill=\"#000000\" font-family=\"sans-serif\" font-size=\"11\" lengthAdjust=\"spacingAndGlyphs\" textLength=\"7\" x=\"38\" y=\"476.7573\">A</text><text fill=\"#000000\" font-family=\"sans-serif\" font-size=\"11\" lengthAdjust=\"spacingAndGlyphs\" textLength=\"8\" x=\"38\" y=\"489.562\">B</text><line style=\"stroke: #383838; stroke-width: 1.0;\" x1=\"33\" x2=\"36\" y1=\"447.3398\" y2=\"447.3398\"/><text fill=\"#000000\" font-family=\"sans-serif\" font-size=\"11\" lengthAdjust=\"spacingAndGlyphs\" textLength=\"87\" x=\"36\" y=\"450.6479\">performActions</text><line style=\"stroke: #383838; stroke-width: 1.0;\" x1=\"123\" x2=\"126\" y1=\"447.3398\" y2=\"447.3398\"/><text fill=\"#000000\" font-family=\"sans-serif\" font-size=\"11\" lengthAdjust=\"spacingAndGlyphs\" textLength=\"15\" x=\"38\" y=\"519.1714\">S1</text><line style=\"stroke: #383838; stroke-width: 1.0;\" x1=\"33\" x2=\"61.5\" y1=\"502.5586\" y2=\"502.5586\"/><text fill=\"#000000\" font-family=\"sans-serif\" font-size=\"11\" lengthAdjust=\"spacingAndGlyphs\" textLength=\"36\" x=\"61.5\" y=\"505.8667\">states</text><line style=\"stroke: #383838; stroke-width: 1.0;\" x1=\"97.5\" x2=\"126\" y1=\"502.5586\" y2=\"502.5586\"/><text fill=\"#000000\" font-family=\"sans-serif\" font-size=\"11\" lengthAdjust=\"spacingAndGlyphs\" textLength=\"7\" x=\"38\" y=\"548.7808\">T</text><line style=\"stroke: #383838; stroke-width: 1.0;\" x1=\"33\" x2=\"49\" y1=\"532.168\" y2=\"532.168\"/><text fill=\"#000000\" font-family=\"sans-serif\" font-size=\"11\" lengthAdjust=\"spacingAndGlyphs\" textLength=\"61\" x=\"49\" y=\"535.4761\">transitions</text><line style=\"stroke: #383838; stroke-width: 1.0;\" x1=\"110\" x2=\"126\" y1=\"532.168\" y2=\"532.168\"/></a><!--MD5=[1dd1bfd58a279cf63c5f349dbc8fc6a1]\n",
       "class E11--><a href=\"psysml:7a7b17a9-f595-41dc-990f-a07a1c17ba3c\" target=\"_top\" title=\"psysml:7a7b17a9-f595-41dc-990f-a07a1c17ba3c\" xlink:actuate=\"onRequest\" xlink:href=\"psysml:7a7b17a9-f595-41dc-990f-a07a1c17ba3c\" xlink:show=\"new\" xlink:title=\"psysml:7a7b17a9-f595-41dc-990f-a07a1c17ba3c\" xlink:type=\"simple\"><rect fill=\"#FFFFFF\" height=\"45.9375\" id=\"E11\" rx=\"10\" ry=\"10\" style=\"stroke: #383838; stroke-width: 1.5;\" width=\"49\" x=\"187\" y=\"452\"/><text fill=\"#000000\" font-family=\"sans-serif\" font-size=\"12\" font-style=\"italic\" lengthAdjust=\"spacingAndGlyphs\" textLength=\"47\" x=\"188\" y=\"468.1387\">«state»</text><text fill=\"#000000\" font-family=\"sans-serif\" font-size=\"12\" lengthAdjust=\"spacingAndGlyphs\" textLength=\"16\" x=\"203.5\" y=\"482.1074\">S2</text><line style=\"stroke: #383838; stroke-width: 1.5;\" x1=\"188\" x2=\"235\" y1=\"489.9375\" y2=\"489.9375\"/></a><!--MD5=[49a0ec8f00dab7302a31f22d0f0fe584]\n",
       "class E12--><a href=\"psysml:fce0e4a1-8edc-4c38-93d6-a3b5e3670b25\" target=\"_top\" title=\"psysml:fce0e4a1-8edc-4c38-93d6-a3b5e3670b25\" xlink:actuate=\"onRequest\" xlink:href=\"psysml:fce0e4a1-8edc-4c38-93d6-a3b5e3670b25\" xlink:show=\"new\" xlink:title=\"psysml:fce0e4a1-8edc-4c38-93d6-a3b5e3670b25\" xlink:type=\"simple\"><rect fill=\"#FFFFFF\" height=\"75.5469\" id=\"E12\" rx=\"10\" ry=\"10\" style=\"stroke: #383838; stroke-width: 1.5;\" width=\"90\" x=\"296\" y=\"437\"/><text fill=\"#000000\" font-family=\"sans-serif\" font-size=\"12\" font-style=\"italic\" lengthAdjust=\"spacingAndGlyphs\" textLength=\"88\" x=\"297\" y=\"453.1387\">«send action»</text><text fill=\"#000000\" font-family=\"sans-serif\" font-size=\"12\" lengthAdjust=\"spacingAndGlyphs\" textLength=\"55\" x=\"313.5\" y=\"467.1074\">doAction</text><line style=\"stroke: #383838; stroke-width: 1.5;\" x1=\"297\" x2=\"385\" y1=\"474.9375\" y2=\"474.9375\"/><text fill=\"#000000\" font-family=\"sans-serif\" font-size=\"11\" lengthAdjust=\"spacingAndGlyphs\" textLength=\"25\" x=\"302\" y=\"505.9526\">item</text><line style=\"stroke: #383838; stroke-width: 1.0;\" x1=\"297\" x2=\"303.5\" y1=\"489.3398\" y2=\"489.3398\"/><text fill=\"#000000\" font-family=\"sans-serif\" font-size=\"11\" lengthAdjust=\"spacingAndGlyphs\" textLength=\"75\" x=\"303.5\" y=\"492.6479\">itemFeatures</text><line style=\"stroke: #383838; stroke-width: 1.0;\" x1=\"378.5\" x2=\"385\" y1=\"489.3398\" y2=\"489.3398\"/></a><!--MD5=[1f5f03483f7de0d5b3680a7f6650997f]\n",
       "reverse link E6 to E11--><a href=\"psysml:7a7b17a9-f595-41dc-990f-a07a1c17ba3c\" target=\"_top\" title=\"psysml:7a7b17a9-f595-41dc-990f-a07a1c17ba3c\" xlink:actuate=\"onRequest\" xlink:href=\"psysml:7a7b17a9-f595-41dc-990f-a07a1c17ba3c\" xlink:show=\"new\" xlink:title=\"psysml:7a7b17a9-f595-41dc-990f-a07a1c17ba3c\" xlink:type=\"simple\"><path d=\"M140.15,475 C156.69,475 173.69,475 186.84,475 \" fill=\"none\" id=\"E6&lt;-E11\" style=\"stroke: #383838; stroke-width: 1.0;\"/><polygon fill=\"#383838\" points=\"127.07,475,133.07,479,139.07,475,133.07,471,127.07,475\" style=\"stroke: #383838; stroke-width: 1.0;\"/></a><!--MD5=[94adabc162ce7e41b39f13be14fbaeb3]\n",
       "reverse link E11 to E12--><a href=\"psysml:fce0e4a1-8edc-4c38-93d6-a3b5e3670b25\" target=\"_top\" title=\"psysml:fce0e4a1-8edc-4c38-93d6-a3b5e3670b25\" xlink:actuate=\"onRequest\" xlink:href=\"psysml:fce0e4a1-8edc-4c38-93d6-a3b5e3670b25\" xlink:show=\"new\" xlink:title=\"psysml:fce0e4a1-8edc-4c38-93d6-a3b5e3670b25\" xlink:type=\"simple\"><path d=\"M249.28,475 C263.81,475 280.62,475 295.8,475 \" fill=\"none\" id=\"E11&lt;-E12\" style=\"stroke: #383838; stroke-width: 1.0;\"/><polygon fill=\"#FFFFFF\" points=\"236.18,475,242.18,479,248.18,475,242.18,471,236.18,475\" style=\"stroke: #383838; stroke-width: 1.0;\"/></a><!--MD5=[22b76b1d673c36ae72a105da2ca77759]\n",
       "@startuml\r\n",
       "left to right direction\r\n",
       "skinparam monochrome true\r\n",
       "skinparam classbackgroundcolor white\r\n",
       "skinparam shadowing false\r\n",
       "skinparam wrapWidth 300\r\n",
       "hide circle\r\n",
       "\r\n",
       "package \"StateTest\" as E1  [[psysml:a2ca8720-bd4b-4556-9b27-091331149f1f ]]  {\r\n",
       "comp def \"Sig\" as E2  <<(T,blue)attribute def>> [[psysml:9b0c6b07-76e0-48e6-88f4-e6a2c752e8e3 ]] {\r\n",
       "- - attributes - -\r\n",
       "x\r\n",
       "}\r\n",
       "comp def \"Exit\" as E3  <<(T,blue)attribute def>> [[psysml:75ee6cec-68f4-495e-910b-3cf4854ee540 ]] {\r\n",
       "}\r\n",
       "comp usage \"p\" as E4  <<(T,blue)part>> [[psysml:d526add9-9153-4d94-82de-e3d10cc7d584 ]] {\r\n",
       "}\r\n",
       "comp usage \"act\" as E5  <<(T,blue)action>> [[psysml:12bd5d36-0dbf-4715-90c3-b0b875efee55 ]] {\r\n",
       "}\r\n",
       "comp def \"S\" as E6  <<(T,blue)state def>> [[psysml:b6aa9f25-72f8-4c2c-a7be-6589070e9bf6 ]] {\r\n",
       "- - performActions - -\r\n",
       "act\r\n",
       "A\r\n",
       "B\r\n",
       "- - states - -\r\n",
       "S1\r\n",
       "- - transitions - -\r\n",
       "T\r\n",
       "}\r\n",
       "comp usage \"S2\" as E11  <<(T,blue)state>> [[psysml:7a7b17a9-f595-41dc-990f-a07a1c17ba3c ]] {\r\n",
       "}\r\n",
       "comp usage \"doAction\" as E12 <<send action>> [[psysml:fce0e4a1-8edc-4c38-93d6-a3b5e3670b25 ]] {\r\n",
       "- - itemFeatures - -\r\n",
       "item\r\n",
       "}\r\n",
       "E6 *- - E11 [[psysml:7a7b17a9-f595-41dc-990f-a07a1c17ba3c ]] \r\n",
       "E11 o- - E12 [[psysml:fce0e4a1-8edc-4c38-93d6-a3b5e3670b25 ]] \r\n",
       "}\r\n",
       "@enduml\r\n",
       "\n",
       "PlantUML version 1.2020.13(Sat Jun 13 12:26:38 UTC 2020)\n",
       "(EPL source distribution)\n",
       "Java Runtime: OpenJDK Runtime Environment\n",
       "JVM: OpenJDK 64-Bit Server VM\n",
       "Default Encoding: UTF-8\n",
       "Language: en\n",
       "Country: null\n",
       "--></g></svg>"
      ]
     },
     "execution_count": 21,
     "metadata": {},
     "output_type": "execute_result"
    }
   ],
   "source": [
    "%viz --style=\"LR\" --view=\"Sequence\" \"StateTest\""
   ]
  },
  {
   "cell_type": "code",
   "execution_count": 22,
   "id": "bottom-sandwich",
   "metadata": {
    "execution": {
     "iopub.execute_input": "2021-03-25T15:06:58.108165Z",
     "iopub.status.busy": "2021-03-25T15:06:58.107818Z",
     "iopub.status.idle": "2021-03-25T15:06:58.311294Z",
     "shell.execute_reply": "2021-03-25T15:06:58.311940Z"
    }
   },
   "outputs": [
    {
     "data": {
      "image/svg+xml": [
       "<?xml version=\"1.0\" encoding=\"UTF-8\" standalone=\"no\"?><svg xmlns=\"http://www.w3.org/2000/svg\" xmlns:xlink=\"http://www.w3.org/1999/xlink\" contentScriptType=\"application/ecmascript\" contentStyleType=\"text/css\" height=\"633px\" preserveAspectRatio=\"none\" style=\"width:652px;height:633px;\" version=\"1.1\" viewBox=\"0 0 652 633\" width=\"652px\" zoomAndPan=\"magnify\"><defs/><g><!--MD5=[fbc87193dbaf4d95561dea2c320d4a47]\n",
       "cluster E1--><a href=\"psysml:a2ca8720-bd4b-4556-9b27-091331149f1f\" target=\"_top\" title=\"psysml:a2ca8720-bd4b-4556-9b27-091331149f1f\" xlink:actuate=\"onRequest\" xlink:href=\"psysml:a2ca8720-bd4b-4556-9b27-091331149f1f\" xlink:show=\"new\" xlink:title=\"psysml:a2ca8720-bd4b-4556-9b27-091331149f1f\" xlink:type=\"simple\"><polygon fill=\"#FFFFFF\" points=\"16,6,98,6,105,28.2969,630,28.2969,630,621,16,621,16,6\" style=\"stroke: #000000; stroke-width: 1.5;\"/><line style=\"stroke: #000000; stroke-width: 1.5;\" x1=\"16\" x2=\"105\" y1=\"28.2969\" y2=\"28.2969\"/><text fill=\"#000000\" font-family=\"sans-serif\" font-size=\"14\" font-weight=\"bold\" lengthAdjust=\"spacingAndGlyphs\" textLength=\"76\" x=\"20\" y=\"20.9951\">StateTest</text></a><!--MD5=[14e3b0961a2654348d326746436168a1]\n",
       "cluster E6--><a href=\"psysml:b6aa9f25-72f8-4c2c-a7be-6589070e9bf6\" target=\"_top\" title=\"psysml:b6aa9f25-72f8-4c2c-a7be-6589070e9bf6\" xlink:actuate=\"onRequest\" xlink:href=\"psysml:b6aa9f25-72f8-4c2c-a7be-6589070e9bf6\" xlink:show=\"new\" xlink:title=\"psysml:b6aa9f25-72f8-4c2c-a7be-6589070e9bf6\" xlink:type=\"simple\"><rect fill=\"#FFFFFF\" height=\"223\" id=\"E6\" style=\"stroke: #383838; stroke-width: 1.5;\" width=\"552.5\" x=\"53.5\" y=\"49\"/><rect fill=\"#F8F8F8\" height=\"37.9375\" style=\"stroke: #383838; stroke-width: 1.5;\" width=\"552.5\" x=\"53.5\" y=\"49\"/><text fill=\"#000000\" font-family=\"sans-serif\" font-size=\"12\" font-style=\"italic\" lengthAdjust=\"spacingAndGlyphs\" textLength=\"71\" x=\"294.25\" y=\"65.1387\">«state def»</text><text fill=\"#000000\" font-family=\"sans-serif\" font-size=\"12\" lengthAdjust=\"spacingAndGlyphs\" textLength=\"8\" x=\"325.75\" y=\"79.1074\">S</text><line style=\"stroke: #383838; stroke-width: 1.0;\" x1=\"53.5\" x2=\"606\" y1=\"132.8438\" y2=\"132.8438\"/><text fill=\"#000000\" font-family=\"sans-serif\" font-size=\"12\" font-weight=\"bold\" lengthAdjust=\"spacingAndGlyphs\" textLength=\"38\" x=\"58.5\" y=\"100.0762\">entry</text><text fill=\"#000000\" font-family=\"sans-serif\" font-size=\"12\" lengthAdjust=\"spacingAndGlyphs\" textLength=\"16\" x=\"96.5\" y=\"100.0762\">/ A</text><text fill=\"#000000\" font-family=\"sans-serif\" font-size=\"12\" font-weight=\"bold\" lengthAdjust=\"spacingAndGlyphs\" textLength=\"18\" x=\"58.5\" y=\"114.0449\">do</text><text fill=\"#000000\" font-family=\"sans-serif\" font-size=\"12\" lengthAdjust=\"spacingAndGlyphs\" textLength=\"16\" x=\"76.5\" y=\"114.0449\">/ B</text><text fill=\"#000000\" font-family=\"sans-serif\" font-size=\"12\" font-weight=\"bold\" lengthAdjust=\"spacingAndGlyphs\" textLength=\"26\" x=\"58.5\" y=\"128.0137\">exit</text><text fill=\"#000000\" font-family=\"sans-serif\" font-size=\"12\" lengthAdjust=\"spacingAndGlyphs\" textLength=\"28\" x=\"84.5\" y=\"128.0137\">/ act</text></a><!--MD5=[b4997ac47864f28c2f74865a473b2911]\n",
       "class E2--><a href=\"psysml:9b0c6b07-76e0-48e6-88f4-e6a2c752e8e3\" target=\"_top\" title=\"psysml:9b0c6b07-76e0-48e6-88f4-e6a2c752e8e3\" xlink:actuate=\"onRequest\" xlink:href=\"psysml:9b0c6b07-76e0-48e6-88f4-e6a2c752e8e3\" xlink:show=\"new\" xlink:title=\"psysml:9b0c6b07-76e0-48e6-88f4-e6a2c752e8e3\" xlink:type=\"simple\"><rect fill=\"#FFFFFF\" height=\"75.5469\" id=\"E2\" style=\"stroke: #383838; stroke-width: 1.5;\" width=\"95\" x=\"32\" y=\"288\"/><text fill=\"#000000\" font-family=\"sans-serif\" font-size=\"12\" font-style=\"italic\" lengthAdjust=\"spacingAndGlyphs\" textLength=\"93\" x=\"33\" y=\"304.1387\">«attribute def»</text><text fill=\"#000000\" font-family=\"sans-serif\" font-size=\"12\" lengthAdjust=\"spacingAndGlyphs\" textLength=\"19\" x=\"70\" y=\"318.1074\">Sig</text><line style=\"stroke: #383838; stroke-width: 1.5;\" x1=\"33\" x2=\"126\" y1=\"325.9375\" y2=\"325.9375\"/><text fill=\"#000000\" font-family=\"sans-serif\" font-size=\"11\" lengthAdjust=\"spacingAndGlyphs\" textLength=\"6\" x=\"38\" y=\"356.9526\">x</text><line style=\"stroke: #383838; stroke-width: 1.0;\" x1=\"33\" x2=\"52\" y1=\"340.3398\" y2=\"340.3398\"/><text fill=\"#000000\" font-family=\"sans-serif\" font-size=\"11\" lengthAdjust=\"spacingAndGlyphs\" textLength=\"55\" x=\"52\" y=\"343.6479\">attributes</text><line style=\"stroke: #383838; stroke-width: 1.0;\" x1=\"107\" x2=\"126\" y1=\"340.3398\" y2=\"340.3398\"/></a><!--MD5=[09b614a08d8cba4a07c9adeb5e0fee81]\n",
       "class E3--><a href=\"psysml:75ee6cec-68f4-495e-910b-3cf4854ee540\" target=\"_top\" title=\"psysml:75ee6cec-68f4-495e-910b-3cf4854ee540\" xlink:actuate=\"onRequest\" xlink:href=\"psysml:75ee6cec-68f4-495e-910b-3cf4854ee540\" xlink:show=\"new\" xlink:title=\"psysml:75ee6cec-68f4-495e-910b-3cf4854ee540\" xlink:type=\"simple\"><rect fill=\"#FFFFFF\" height=\"45.9375\" id=\"E3\" style=\"stroke: #383838; stroke-width: 1.5;\" width=\"95\" x=\"32\" y=\"399\"/><text fill=\"#000000\" font-family=\"sans-serif\" font-size=\"12\" font-style=\"italic\" lengthAdjust=\"spacingAndGlyphs\" textLength=\"93\" x=\"33\" y=\"415.1387\">«attribute def»</text><text fill=\"#000000\" font-family=\"sans-serif\" font-size=\"12\" lengthAdjust=\"spacingAndGlyphs\" textLength=\"22\" x=\"68.5\" y=\"429.1074\">Exit</text><line style=\"stroke: #383838; stroke-width: 1.5;\" x1=\"33\" x2=\"126\" y1=\"436.9375\" y2=\"436.9375\"/></a><!--MD5=[ebbe1d658d1005bcc118a6aa81145e00]\n",
       "class E4--><a href=\"psysml:d526add9-9153-4d94-82de-e3d10cc7d584\" target=\"_top\" title=\"psysml:d526add9-9153-4d94-82de-e3d10cc7d584\" xlink:actuate=\"onRequest\" xlink:href=\"psysml:d526add9-9153-4d94-82de-e3d10cc7d584\" xlink:show=\"new\" xlink:title=\"psysml:d526add9-9153-4d94-82de-e3d10cc7d584\" xlink:type=\"simple\"><rect fill=\"#FFFFFF\" height=\"45.9375\" id=\"E4\" rx=\"10\" ry=\"10\" style=\"stroke: #383838; stroke-width: 1.5;\" width=\"42\" x=\"58.5\" y=\"480\"/><text fill=\"#000000\" font-family=\"sans-serif\" font-size=\"12\" font-style=\"italic\" lengthAdjust=\"spacingAndGlyphs\" textLength=\"40\" x=\"59.5\" y=\"496.1387\">«part»</text><text fill=\"#000000\" font-family=\"sans-serif\" font-size=\"12\" lengthAdjust=\"spacingAndGlyphs\" textLength=\"8\" x=\"75.5\" y=\"510.1074\">p</text><line style=\"stroke: #383838; stroke-width: 1.5;\" x1=\"59.5\" x2=\"99.5\" y1=\"517.9375\" y2=\"517.9375\"/></a><g id=\"E1.E5\"><a href=\"psysml:12bd5d36-0dbf-4715-90c3-b0b875efee55\" target=\"_top\" title=\"psysml:12bd5d36-0dbf-4715-90c3-b0b875efee55\" xlink:actuate=\"onRequest\" xlink:href=\"psysml:12bd5d36-0dbf-4715-90c3-b0b875efee55\" xlink:show=\"new\" xlink:title=\"psysml:12bd5d36-0dbf-4715-90c3-b0b875efee55\" xlink:type=\"simple\"><rect fill=\"#FFFFFF\" height=\"42.9375\" id=\"E5\" rx=\"10\" ry=\"10\" style=\"stroke: #383838; stroke-width: 1.5;\" width=\"60\" x=\"49.5\" y=\"561.5\"/><rect fill=\"#F8F8F8\" height=\"37.9375\" rx=\"10\" ry=\"10\" style=\"stroke: #F8F8F8; stroke-width: 1.5;\" width=\"60\" x=\"49.5\" y=\"561.5\"/><rect fill=\"#F8F8F8\" height=\"10\" style=\"stroke: #F8F8F8; stroke-width: 1.5;\" width=\"60\" x=\"49.5\" y=\"589.4375\"/><rect fill=\"none\" height=\"42.9375\" id=\"E5\" rx=\"10\" ry=\"10\" style=\"stroke: #383838; stroke-width: 1.5;\" width=\"60\" x=\"49.5\" y=\"561.5\"/><text fill=\"#000000\" font-family=\"sans-serif\" font-size=\"12\" font-style=\"italic\" lengthAdjust=\"spacingAndGlyphs\" textLength=\"53\" x=\"53\" y=\"577.6387\">«action»</text><text fill=\"#000000\" font-family=\"sans-serif\" font-size=\"12\" lengthAdjust=\"spacingAndGlyphs\" textLength=\"20\" x=\"69.5\" y=\"591.6074\">act</text></a></g><ellipse cx=\"79.5\" cy=\"194\" fill=\"#000000\" rx=\"10\" ry=\"10\" style=\"stroke: none; stroke-width: 1.0;\"/><ellipse cx=\"580\" cy=\"196\" fill=\"none\" rx=\"10\" ry=\"10\" style=\"stroke: #000000; stroke-width: 1.0;\"/><ellipse cx=\"580.5\" cy=\"196.5\" fill=\"#000000\" rx=\"6\" ry=\"6\" style=\"stroke: none; stroke-width: 1.0;\"/><g id=\"E1.E6.E7\"><a href=\"psysml:1cabaaec-9539-448a-9df0-432fc817479b\" target=\"_top\" title=\"psysml:1cabaaec-9539-448a-9df0-432fc817479b\" xlink:actuate=\"onRequest\" xlink:href=\"psysml:1cabaaec-9539-448a-9df0-432fc817479b\" xlink:show=\"new\" xlink:title=\"psysml:1cabaaec-9539-448a-9df0-432fc817479b\" xlink:type=\"simple\"><rect fill=\"#FFFFFF\" height=\"40\" id=\"E7\" rx=\"10\" ry=\"10\" style=\"stroke: #383838; stroke-width: 1.5;\" width=\"50\" x=\"188\" y=\"174\"/><rect fill=\"#F8F8F8\" height=\"23.9688\" rx=\"10\" ry=\"10\" style=\"stroke: #F8F8F8; stroke-width: 1.5;\" width=\"50\" x=\"188\" y=\"174\"/><rect fill=\"#F8F8F8\" height=\"10\" style=\"stroke: #F8F8F8; stroke-width: 1.5;\" width=\"50\" x=\"188\" y=\"187.9688\"/><rect fill=\"none\" height=\"40\" id=\"E7\" rx=\"10\" ry=\"10\" style=\"stroke: #383838; stroke-width: 1.5;\" width=\"50\" x=\"188\" y=\"174\"/><text fill=\"#000000\" font-family=\"sans-serif\" font-size=\"12\" lengthAdjust=\"spacingAndGlyphs\" textLength=\"16\" x=\"205\" y=\"190.1387\">S1</text></a></g><g id=\"E1.E6.E8\"><a href=\"psysml:7a7b17a9-f595-41dc-990f-a07a1c17ba3c\" target=\"_top\" title=\"psysml:7a7b17a9-f595-41dc-990f-a07a1c17ba3c\" xlink:actuate=\"onRequest\" xlink:href=\"psysml:7a7b17a9-f595-41dc-990f-a07a1c17ba3c\" xlink:show=\"new\" xlink:title=\"psysml:7a7b17a9-f595-41dc-990f-a07a1c17ba3c\" xlink:type=\"simple\"><rect fill=\"#FFFFFF\" height=\"47.9375\" id=\"E8\" rx=\"10\" ry=\"10\" style=\"stroke: #383838; stroke-width: 1.5;\" width=\"50\" x=\"435\" y=\"172\"/><rect fill=\"#F8F8F8\" height=\"23.9688\" rx=\"10\" ry=\"10\" style=\"stroke: #F8F8F8; stroke-width: 1.5;\" width=\"50\" x=\"435\" y=\"172\"/><rect fill=\"#F8F8F8\" height=\"10\" style=\"stroke: #F8F8F8; stroke-width: 1.5;\" width=\"50\" x=\"435\" y=\"185.9688\"/><rect fill=\"none\" height=\"47.9375\" id=\"E8\" rx=\"10\" ry=\"10\" style=\"stroke: #383838; stroke-width: 1.5;\" width=\"50\" x=\"435\" y=\"172\"/><text fill=\"#000000\" font-family=\"sans-serif\" font-size=\"12\" lengthAdjust=\"spacingAndGlyphs\" textLength=\"16\" x=\"452\" y=\"188.1387\">S2</text><line style=\"stroke: #383838; stroke-width: 1.0;\" x1=\"435\" x2=\"485\" y1=\"195.9688\" y2=\"195.9688\"/><text fill=\"#000000\" font-family=\"sans-serif\" font-size=\"12\" font-weight=\"bold\" lengthAdjust=\"spacingAndGlyphs\" textLength=\"18\" x=\"440\" y=\"209.1074\">do</text><text fill=\"#000000\" font-family=\"sans-serif\" font-size=\"12\" lengthAdjust=\"spacingAndGlyphs\" textLength=\"4\" x=\"458\" y=\"209.1074\">/</text></a></g><!--MD5=[5a531d3a85f3339e6e197084acb48195]\n",
       "link *start*E6 to E7--><a href=\"psysml:0b737fa2-1baa-4df5-913b-a090a33456a1\" target=\"_top\" title=\"psysml:0b737fa2-1baa-4df5-913b-a090a33456a1\" xlink:actuate=\"onRequest\" xlink:href=\"psysml:0b737fa2-1baa-4df5-913b-a090a33456a1\" xlink:show=\"new\" xlink:title=\"psysml:0b737fa2-1baa-4df5-913b-a090a33456a1\" xlink:type=\"simple\"><path d=\"M89.54,194 C108.46,194 152.97,194 182.78,194 \" fill=\"none\" id=\"*start*E6-&gt;E7\" style=\"stroke: #383838; stroke-width: 1.0;\"/><polygon fill=\"#383838\" points=\"187.8,194,178.8,190,182.8,194,178.8,198,187.8,194\" style=\"stroke: #383838; stroke-width: 1.0;\"/></a><!--MD5=[7ec9a8babba89ddcae1318ca9fb3c814]\n",
       "link E8 to *end*E6--><a href=\"psysml:a8c9411f-d651-41a0-86c1-118f6cba8c1d\" target=\"_top\" title=\"psysml:a8c9411f-d651-41a0-86c1-118f6cba8c1d\" xlink:actuate=\"onRequest\" xlink:href=\"psysml:a8c9411f-d651-41a0-86c1-118f6cba8c1d\" xlink:show=\"new\" xlink:title=\"psysml:a8c9411f-d651-41a0-86c1-118f6cba8c1d\" xlink:type=\"simple\"><path d=\"M485.16,196 C509.08,196 544.89,196 564.64,196 \" fill=\"none\" id=\"E8-&gt;*end*E6\" style=\"stroke: #383838; stroke-width: 1.0;\"/><polygon fill=\"#383838\" points=\"569.76,196,560.76,192,564.76,196,560.76,200,569.76,196\" style=\"stroke: #383838; stroke-width: 1.0;\"/><text fill=\"#000000\" font-family=\"sans-serif\" font-size=\"13\" lengthAdjust=\"spacingAndGlyphs\" textLength=\"23\" x=\"516\" y=\"192.0669\">Exit</text></a><!--MD5=[79bc8f324ef4d02c541433f2e6e513c3]\n",
       "link E7 to E8--><a href=\"psysml:eefcc534-c981-4425-9bf3-38251bd12a49\" target=\"_top\" title=\"psysml:eefcc534-c981-4425-9bf3-38251bd12a49\" xlink:actuate=\"onRequest\" xlink:href=\"psysml:eefcc534-c981-4425-9bf3-38251bd12a49\" xlink:show=\"new\" xlink:title=\"psysml:eefcc534-c981-4425-9bf3-38251bd12a49\" xlink:type=\"simple\"><path d=\"M238.15,210.85 C247.11,216.14 257.62,221.31 268,224 C326.94,239.27 345.84,238.42 405,224 C413.58,221.91 422.32,218.19 430.2,214.14 \" fill=\"none\" id=\"E7-&gt;E8\" style=\"stroke: #383838; stroke-width: 1.0;\"/><polygon fill=\"#383838\" points=\"434.98,211.59,425.156,212.2893,430.5666,213.94,428.9159,219.3506,434.98,211.59\" style=\"stroke: #383838; stroke-width: 1.0;\"/><text fill=\"#000000\" font-family=\"sans-serif\" font-size=\"13\" lengthAdjust=\"spacingAndGlyphs\" textLength=\"81\" x=\"296\" y=\"220.0669\">Sig /action D</text></a><!--MD5=[bfa3c8b0d15052fdf50ae9310b491027]\n",
       "link E8 to E7--><a href=\"psysml:bcd703ca-2055-4c24-98bc-6c579eb31483\" target=\"_top\" title=\"psysml:bcd703ca-2055-4c24-98bc-6c579eb31483\" xlink:actuate=\"onRequest\" xlink:href=\"psysml:bcd703ca-2055-4c24-98bc-6c579eb31483\" xlink:show=\"new\" xlink:title=\"psysml:bcd703ca-2055-4c24-98bc-6c579eb31483\" xlink:type=\"simple\"><path d=\"M434.71,195.8 C389.48,195.43 292.49,194.64 243.54,194.24 \" fill=\"none\" id=\"E8-&gt;E7\" style=\"stroke: #383838; stroke-width: 1.0;\"/><polygon fill=\"#383838\" points=\"238.39,194.2,247.3554,198.277,243.3898,194.2429,247.424,190.2773,238.39,194.2\" style=\"stroke: #383838; stroke-width: 1.0;\"/><text fill=\"#000000\" font-family=\"sans-serif\" font-size=\"13\" lengthAdjust=\"spacingAndGlyphs\" textLength=\"135\" x=\"269\" y=\"191.0669\">Sig [true]/send s to p</text></a><!--MD5=[0a45241bf7b701d074c2f82366d55bed]\n",
       "@startuml\r\n",
       "left to right direction\r\n",
       "skinparam monochrome true\r\n",
       "skinparam classbackgroundcolor white\r\n",
       "skinparam shadowing false\r\n",
       "skinparam wrapWidth 300\r\n",
       "hide circle\r\n",
       "\r\n",
       "package \"StateTest\" as E1  [[psysml:a2ca8720-bd4b-4556-9b27-091331149f1f ]]  {\r\n",
       "comp def \"Sig\" as E2  <<(T,blue)attribute def>> [[psysml:9b0c6b07-76e0-48e6-88f4-e6a2c752e8e3 ]] {\r\n",
       "- - attributes - -\r\n",
       "x\r\n",
       "}\r\n",
       "comp def \"Exit\" as E3  <<(T,blue)attribute def>> [[psysml:75ee6cec-68f4-495e-910b-3cf4854ee540 ]] {\r\n",
       "}\r\n",
       "comp usage \"p\" as E4  <<(T,blue)part>> [[psysml:d526add9-9153-4d94-82de-e3d10cc7d584 ]] {\r\n",
       "}\r\n",
       "rec usage \"act\" as E5  <<(T,blue)action>> [[psysml:12bd5d36-0dbf-4715-90c3-b0b875efee55 ]] {\r\n",
       "}\r\n",
       "\r\n",
       "rec def \"S\" as E6  <<(T,blue)state def>> [[psysml:b6aa9f25-72f8-4c2c-a7be-6589070e9bf6 ]] {\r\n",
       "rec usage \"S1\" as E7 [[psysml:1cabaaec-9539-448a-9df0-432fc817479b ]] {\r\n",
       "}\r\n",
       "\r\n",
       "rec usage \"S2\" as E8 [[psysml:7a7b17a9-f595-41dc-990f-a07a1c17ba3c ]] {\r\n",
       "desc \"S2\" as E8  : **do**/ \r\n",
       "}\r\n",
       "\r\n",
       "[*] - -> E7 [[psysml:0b737fa2-1baa-4df5-913b-a090a33456a1 ]] \r\n",
       "E8  - -> [*] [[psysml:a8c9411f-d651-41a0-86c1-118f6cba8c1d ]] : Exit \r\n",
       "desc \"S\" as E6  : **entry**/ A\r\n",
       "desc \"S\" as E6  : **do**/ B\r\n",
       "desc \"S\" as E6  : **exit**/ act \r\n",
       "}\r\n",
       "\r\n",
       "E7  - -> E8 [[psysml:eefcc534-c981-4425-9bf3-38251bd12a49 ]] : Sig /action D\r\n",
       "E8  - -> E7 [[psysml:bcd703ca-2055-4c24-98bc-6c579eb31483 ]] : Sig [true]/send s to p\r\n",
       "}\r\n",
       "@enduml\r\n",
       "\n",
       "PlantUML version 1.2020.13(Sat Jun 13 12:26:38 UTC 2020)\n",
       "(EPL source distribution)\n",
       "Java Runtime: OpenJDK Runtime Environment\n",
       "JVM: OpenJDK 64-Bit Server VM\n",
       "Default Encoding: UTF-8\n",
       "Language: en\n",
       "Country: null\n",
       "--></g></svg>"
      ]
     },
     "execution_count": 22,
     "metadata": {},
     "output_type": "execute_result"
    }
   ],
   "source": [
    "%viz --style=\"LR\" --view=\"MIXED\" \"StateTest\""
   ]
  },
  {
   "cell_type": "code",
   "execution_count": 23,
   "id": "ongoing-lincoln",
   "metadata": {
    "execution": {
     "iopub.execute_input": "2021-03-25T15:06:58.362352Z",
     "iopub.status.busy": "2021-03-25T15:06:58.361577Z",
     "iopub.status.idle": "2021-03-25T15:06:58.534088Z",
     "shell.execute_reply": "2021-03-25T15:06:58.532096Z"
    }
   },
   "outputs": [
    {
     "data": {
      "image/svg+xml": [
       "<?xml version=\"1.0\" encoding=\"UTF-8\" standalone=\"no\"?><svg xmlns=\"http://www.w3.org/2000/svg\" xmlns:xlink=\"http://www.w3.org/1999/xlink\" contentScriptType=\"application/ecmascript\" contentStyleType=\"text/css\" height=\"561px\" preserveAspectRatio=\"none\" style=\"width:819px;height:561px;\" version=\"1.1\" viewBox=\"0 0 819 561\" width=\"819px\" zoomAndPan=\"magnify\"><defs><filter height=\"300%\" id=\"f1mdyzwg0xnwhj\" width=\"300%\" x=\"-1\" y=\"-1\"><feGaussianBlur result=\"blurOut\" stdDeviation=\"2.0\"/><feColorMatrix in=\"blurOut\" result=\"blurOut2\" type=\"matrix\" values=\"0 0 0 0 0 0 0 0 0 0 0 0 0 0 0 0 0 0 .4 0\"/><feOffset dx=\"4.0\" dy=\"4.0\" in=\"blurOut2\" result=\"blurOut3\"/><feBlend in=\"SourceGraphic\" in2=\"blurOut3\" mode=\"normal\"/></filter></defs><g><!--MD5=[fbc87193dbaf4d95561dea2c320d4a47]\n",
       "cluster E1--><a href=\"psysml:a2ca8720-bd4b-4556-9b27-091331149f1f\" target=\"_top\" title=\"psysml:a2ca8720-bd4b-4556-9b27-091331149f1f\" xlink:actuate=\"onRequest\" xlink:href=\"psysml:a2ca8720-bd4b-4556-9b27-091331149f1f\" xlink:show=\"new\" xlink:title=\"psysml:a2ca8720-bd4b-4556-9b27-091331149f1f\" xlink:type=\"simple\"><polygon fill=\"#FFFFFF\" filter=\"url(#f1mdyzwg0xnwhj)\" points=\"16,6,98,6,105,28.2969,797,28.2969,797,549.5,16,549.5,16,6\" style=\"stroke: #000000; stroke-width: 1.5;\"/><line style=\"stroke: #000000; stroke-width: 1.5;\" x1=\"16\" x2=\"105\" y1=\"28.2969\" y2=\"28.2969\"/><text fill=\"#000000\" font-family=\"sans-serif\" font-size=\"14\" font-weight=\"bold\" lengthAdjust=\"spacingAndGlyphs\" textLength=\"76\" x=\"20\" y=\"20.9951\">StateTest</text></a><!--MD5=[14e3b0961a2654348d326746436168a1]\n",
       "cluster E6--><a href=\"psysml:b6aa9f25-72f8-4c2c-a7be-6589070e9bf6\" target=\"_top\" title=\"psysml:b6aa9f25-72f8-4c2c-a7be-6589070e9bf6\" xlink:actuate=\"onRequest\" xlink:href=\"psysml:b6aa9f25-72f8-4c2c-a7be-6589070e9bf6\" xlink:show=\"new\" xlink:title=\"psysml:b6aa9f25-72f8-4c2c-a7be-6589070e9bf6\" xlink:type=\"simple\"><rect fill=\"#FFFFFF\" filter=\"url(#f1mdyzwg0xnwhj)\" height=\"476.5\" id=\"E6\" style=\"stroke: #A80036; stroke-width: 1.5;\" width=\"327\" x=\"446\" y=\"49\"/><rect fill=\"#FEFECE\" height=\"37.9375\" style=\"stroke: #A80036; stroke-width: 1.5;\" width=\"327\" x=\"446\" y=\"49\"/><text fill=\"#000000\" font-family=\"sans-serif\" font-size=\"12\" font-style=\"italic\" lengthAdjust=\"spacingAndGlyphs\" textLength=\"71\" x=\"574\" y=\"65.1387\">«state def»</text><text fill=\"#000000\" font-family=\"sans-serif\" font-size=\"12\" lengthAdjust=\"spacingAndGlyphs\" textLength=\"8\" x=\"605.5\" y=\"79.1074\">S</text><line style=\"stroke: #A80036; stroke-width: 1.0;\" x1=\"446\" x2=\"773\" y1=\"132.8438\" y2=\"132.8438\"/><text fill=\"#000000\" font-family=\"sans-serif\" font-size=\"12\" font-weight=\"bold\" lengthAdjust=\"spacingAndGlyphs\" textLength=\"38\" x=\"451\" y=\"100.0762\">entry</text><text fill=\"#000000\" font-family=\"sans-serif\" font-size=\"12\" lengthAdjust=\"spacingAndGlyphs\" textLength=\"16\" x=\"489\" y=\"100.0762\">/ A</text><text fill=\"#000000\" font-family=\"sans-serif\" font-size=\"12\" font-weight=\"bold\" lengthAdjust=\"spacingAndGlyphs\" textLength=\"18\" x=\"451\" y=\"114.0449\">do</text><text fill=\"#000000\" font-family=\"sans-serif\" font-size=\"12\" lengthAdjust=\"spacingAndGlyphs\" textLength=\"16\" x=\"469\" y=\"114.0449\">/ B</text><text fill=\"#000000\" font-family=\"sans-serif\" font-size=\"12\" font-weight=\"bold\" lengthAdjust=\"spacingAndGlyphs\" textLength=\"26\" x=\"451\" y=\"128.0137\">exit</text><text fill=\"#000000\" font-family=\"sans-serif\" font-size=\"12\" lengthAdjust=\"spacingAndGlyphs\" textLength=\"28\" x=\"477\" y=\"128.0137\">/ act</text></a><!--MD5=[b4997ac47864f28c2f74865a473b2911]\n",
       "class E2--><a href=\"psysml:9b0c6b07-76e0-48e6-88f4-e6a2c752e8e3\" target=\"_top\" title=\"psysml:9b0c6b07-76e0-48e6-88f4-e6a2c752e8e3\" xlink:actuate=\"onRequest\" xlink:href=\"psysml:9b0c6b07-76e0-48e6-88f4-e6a2c752e8e3\" xlink:show=\"new\" xlink:title=\"psysml:9b0c6b07-76e0-48e6-88f4-e6a2c752e8e3\" xlink:type=\"simple\"><rect fill=\"#FEFECE\" filter=\"url(#f1mdyzwg0xnwhj)\" height=\"58.7422\" id=\"E2\" style=\"stroke: #A80036; stroke-width: 1.5;\" width=\"95\" x=\"334.5\" y=\"127.5\"/><text fill=\"#000000\" font-family=\"sans-serif\" font-size=\"12\" font-style=\"italic\" lengthAdjust=\"spacingAndGlyphs\" textLength=\"93\" x=\"335.5\" y=\"143.6387\">«attribute def»</text><text fill=\"#000000\" font-family=\"sans-serif\" font-size=\"12\" lengthAdjust=\"spacingAndGlyphs\" textLength=\"19\" x=\"372.5\" y=\"157.6074\">Sig</text><line style=\"stroke: #A80036; stroke-width: 1.5;\" x1=\"335.5\" x2=\"428.5\" y1=\"165.4375\" y2=\"165.4375\"/><text fill=\"#000000\" font-family=\"sans-serif\" font-size=\"11\" lengthAdjust=\"spacingAndGlyphs\" textLength=\"6\" x=\"340.5\" y=\"179.6479\">x</text></a><!--MD5=[09b614a08d8cba4a07c9adeb5e0fee81]\n",
       "class E3--><a href=\"psysml:75ee6cec-68f4-495e-910b-3cf4854ee540\" target=\"_top\" title=\"psysml:75ee6cec-68f4-495e-910b-3cf4854ee540\" xlink:actuate=\"onRequest\" xlink:href=\"psysml:75ee6cec-68f4-495e-910b-3cf4854ee540\" xlink:show=\"new\" xlink:title=\"psysml:75ee6cec-68f4-495e-910b-3cf4854ee540\" xlink:type=\"simple\"><rect fill=\"#FEFECE\" filter=\"url(#f1mdyzwg0xnwhj)\" height=\"45.9375\" id=\"E3\" style=\"stroke: #A80036; stroke-width: 1.5;\" width=\"95\" x=\"204.5\" y=\"134\"/><text fill=\"#000000\" font-family=\"sans-serif\" font-size=\"12\" font-style=\"italic\" lengthAdjust=\"spacingAndGlyphs\" textLength=\"93\" x=\"205.5\" y=\"150.1387\">«attribute def»</text><text fill=\"#000000\" font-family=\"sans-serif\" font-size=\"12\" lengthAdjust=\"spacingAndGlyphs\" textLength=\"22\" x=\"241\" y=\"164.1074\">Exit</text><line style=\"stroke: #A80036; stroke-width: 1.5;\" x1=\"205.5\" x2=\"298.5\" y1=\"171.9375\" y2=\"171.9375\"/></a><!--MD5=[ebbe1d658d1005bcc118a6aa81145e00]\n",
       "class E4--><a href=\"psysml:d526add9-9153-4d94-82de-e3d10cc7d584\" target=\"_top\" title=\"psysml:d526add9-9153-4d94-82de-e3d10cc7d584\" xlink:actuate=\"onRequest\" xlink:href=\"psysml:d526add9-9153-4d94-82de-e3d10cc7d584\" xlink:show=\"new\" xlink:title=\"psysml:d526add9-9153-4d94-82de-e3d10cc7d584\" xlink:type=\"simple\"><rect fill=\"#FEFECE\" filter=\"url(#f1mdyzwg0xnwhj)\" height=\"45.9375\" id=\"E4\" rx=\"10\" ry=\"10\" style=\"stroke: #A80036; stroke-width: 1.5;\" width=\"42\" x=\"127\" y=\"134\"/><text fill=\"#000000\" font-family=\"sans-serif\" font-size=\"12\" font-style=\"italic\" lengthAdjust=\"spacingAndGlyphs\" textLength=\"40\" x=\"128\" y=\"150.1387\">«part»</text><text fill=\"#000000\" font-family=\"sans-serif\" font-size=\"12\" lengthAdjust=\"spacingAndGlyphs\" textLength=\"8\" x=\"144\" y=\"164.1074\">p</text><line style=\"stroke: #A80036; stroke-width: 1.5;\" x1=\"128\" x2=\"168\" y1=\"171.9375\" y2=\"171.9375\"/></a><g id=\"E1.E5\"><a href=\"psysml:12bd5d36-0dbf-4715-90c3-b0b875efee55\" target=\"_top\" title=\"psysml:12bd5d36-0dbf-4715-90c3-b0b875efee55\" xlink:actuate=\"onRequest\" xlink:href=\"psysml:12bd5d36-0dbf-4715-90c3-b0b875efee55\" xlink:show=\"new\" xlink:title=\"psysml:12bd5d36-0dbf-4715-90c3-b0b875efee55\" xlink:type=\"simple\"><rect fill=\"#FEFECE\" filter=\"url(#f1mdyzwg0xnwhj)\" height=\"42.9375\" id=\"E5\" rx=\"10\" ry=\"10\" style=\"stroke: #A80036; stroke-width: 1.5;\" width=\"60\" x=\"32\" y=\"135.5\"/><text fill=\"#000000\" font-family=\"sans-serif\" font-size=\"12\" font-style=\"italic\" lengthAdjust=\"spacingAndGlyphs\" textLength=\"53\" x=\"35.5\" y=\"151.6387\">«action»</text><text fill=\"#000000\" font-family=\"sans-serif\" font-size=\"12\" lengthAdjust=\"spacingAndGlyphs\" textLength=\"20\" x=\"52\" y=\"165.6074\">act</text></a></g><ellipse cx=\"558\" cy=\"157\" fill=\"#000000\" filter=\"url(#f1mdyzwg0xnwhj)\" rx=\"10\" ry=\"10\" style=\"stroke: none; stroke-width: 1.0;\"/><ellipse cx=\"558\" cy=\"499.5\" fill=\"none\" filter=\"url(#f1mdyzwg0xnwhj)\" rx=\"10\" ry=\"10\" style=\"stroke: #000000; stroke-width: 1.0;\"/><ellipse cx=\"558.5\" cy=\"500\" fill=\"#000000\" rx=\"6\" ry=\"6\" style=\"stroke: none; stroke-width: 1.0;\"/><g id=\"E1.E6.E7\"><a href=\"psysml:1cabaaec-9539-448a-9df0-432fc817479b\" target=\"_top\" title=\"psysml:1cabaaec-9539-448a-9df0-432fc817479b\" xlink:actuate=\"onRequest\" xlink:href=\"psysml:1cabaaec-9539-448a-9df0-432fc817479b\" xlink:show=\"new\" xlink:title=\"psysml:1cabaaec-9539-448a-9df0-432fc817479b\" xlink:type=\"simple\"><rect fill=\"#FEFECE\" filter=\"url(#f1mdyzwg0xnwhj)\" height=\"40\" id=\"E7\" rx=\"10\" ry=\"10\" style=\"stroke: #A80036; stroke-width: 1.5;\" width=\"50\" x=\"533\" y=\"247.5\"/><text fill=\"#000000\" font-family=\"sans-serif\" font-size=\"12\" lengthAdjust=\"spacingAndGlyphs\" textLength=\"16\" x=\"550\" y=\"263.6387\">S1</text></a></g><g id=\"E1.E6.E8\"><a href=\"psysml:7a7b17a9-f595-41dc-990f-a07a1c17ba3c\" target=\"_top\" title=\"psysml:7a7b17a9-f595-41dc-990f-a07a1c17ba3c\" xlink:actuate=\"onRequest\" xlink:href=\"psysml:7a7b17a9-f595-41dc-990f-a07a1c17ba3c\" xlink:show=\"new\" xlink:title=\"psysml:7a7b17a9-f595-41dc-990f-a07a1c17ba3c\" xlink:type=\"simple\"><rect fill=\"#FEFECE\" filter=\"url(#f1mdyzwg0xnwhj)\" height=\"47.9375\" id=\"E8\" rx=\"10\" ry=\"10\" style=\"stroke: #A80036; stroke-width: 1.5;\" width=\"50\" x=\"533\" y=\"364.5\"/><text fill=\"#000000\" font-family=\"sans-serif\" font-size=\"12\" lengthAdjust=\"spacingAndGlyphs\" textLength=\"16\" x=\"550\" y=\"380.6387\">S2</text><line style=\"stroke: #A80036; stroke-width: 1.0;\" x1=\"533\" x2=\"583\" y1=\"388.4688\" y2=\"388.4688\"/><text fill=\"#000000\" font-family=\"sans-serif\" font-size=\"12\" font-weight=\"bold\" lengthAdjust=\"spacingAndGlyphs\" textLength=\"18\" x=\"538\" y=\"401.6074\">do</text><text fill=\"#000000\" font-family=\"sans-serif\" font-size=\"12\" lengthAdjust=\"spacingAndGlyphs\" textLength=\"4\" x=\"556\" y=\"401.6074\">/</text></a></g><!--MD5=[5a531d3a85f3339e6e197084acb48195]\n",
       "link *start*E6 to E7--><a href=\"psysml:0b737fa2-1baa-4df5-913b-a090a33456a1\" target=\"_top\" title=\"psysml:0b737fa2-1baa-4df5-913b-a090a33456a1\" xlink:actuate=\"onRequest\" xlink:href=\"psysml:0b737fa2-1baa-4df5-913b-a090a33456a1\" xlink:show=\"new\" xlink:title=\"psysml:0b737fa2-1baa-4df5-913b-a090a33456a1\" xlink:type=\"simple\"><path d=\"M558,167.25 C558,183.64 558,218.28 558,241.97 \" fill=\"none\" id=\"*start*E6-&gt;E7\" style=\"stroke: #A80036; stroke-width: 1.0;\"/><polygon fill=\"#A80036\" points=\"558,247.15,562,238.15,558,242.15,554,238.15,558,247.15\" style=\"stroke: #A80036; stroke-width: 1.0;\"/></a><!--MD5=[7ec9a8babba89ddcae1318ca9fb3c814]\n",
       "link E8 to *end*E6--><a href=\"psysml:a8c9411f-d651-41a0-86c1-118f6cba8c1d\" target=\"_top\" title=\"psysml:a8c9411f-d651-41a0-86c1-118f6cba8c1d\" xlink:actuate=\"onRequest\" xlink:href=\"psysml:a8c9411f-d651-41a0-86c1-118f6cba8c1d\" xlink:show=\"new\" xlink:title=\"psysml:a8c9411f-d651-41a0-86c1-118f6cba8c1d\" xlink:type=\"simple\"><path d=\"M558,412.62 C558,434.25 558,465.89 558,484.12 \" fill=\"none\" id=\"E8-&gt;*end*E6\" style=\"stroke: #A80036; stroke-width: 1.0;\"/><polygon fill=\"#A80036\" points=\"558,489.32,562,480.32,558,484.32,554,480.32,558,489.32\" style=\"stroke: #A80036; stroke-width: 1.0;\"/><text fill=\"#000000\" font-family=\"sans-serif\" font-size=\"13\" lengthAdjust=\"spacingAndGlyphs\" textLength=\"23\" x=\"559\" y=\"455.5669\">Exit</text></a><!--MD5=[79bc8f324ef4d02c541433f2e6e513c3]\n",
       "link E7 to E8--><a href=\"psysml:eefcc534-c981-4425-9bf3-38251bd12a49\" target=\"_top\" title=\"psysml:eefcc534-c981-4425-9bf3-38251bd12a49\" xlink:actuate=\"onRequest\" xlink:href=\"psysml:eefcc534-c981-4425-9bf3-38251bd12a49\" xlink:show=\"new\" xlink:title=\"psysml:eefcc534-c981-4425-9bf3-38251bd12a49\" xlink:type=\"simple\"><path d=\"M532.93,280.38 C518.69,288.62 502.12,301.06 494,317.5 C483.11,339.55 506.72,359.7 528.27,372.66 \" fill=\"none\" id=\"E7-&gt;E8\" style=\"stroke: #A80036; stroke-width: 1.0;\"/><polygon fill=\"#A80036\" points=\"532.83,375.32,527.0682,367.3324,528.5101,372.8024,523.0401,374.2443,532.83,375.32\" style=\"stroke: #A80036; stroke-width: 1.0;\"/><text fill=\"#000000\" font-family=\"sans-serif\" font-size=\"13\" lengthAdjust=\"spacingAndGlyphs\" textLength=\"81\" x=\"495\" y=\"330.5669\">Sig /action D</text></a><!--MD5=[bfa3c8b0d15052fdf50ae9310b491027]\n",
       "link E8 to E7--><a href=\"psysml:bcd703ca-2055-4c24-98bc-6c579eb31483\" target=\"_top\" title=\"psysml:bcd703ca-2055-4c24-98bc-6c579eb31483\" xlink:actuate=\"onRequest\" xlink:href=\"psysml:bcd703ca-2055-4c24-98bc-6c579eb31483\" xlink:show=\"new\" xlink:title=\"psysml:bcd703ca-2055-4c24-98bc-6c579eb31483\" xlink:type=\"simple\"><path d=\"M572.17,364.49 C578.81,350.98 584.56,333.48 581,317.5 C579.1,308.99 575.56,300.22 571.82,292.49 \" fill=\"none\" id=\"E8-&gt;E7\" style=\"stroke: #A80036; stroke-width: 1.0;\"/><polygon fill=\"#A80036\" points=\"569.47,287.82,569.9298,297.6581,571.7118,292.2893,577.0806,294.0713,569.47,287.82\" style=\"stroke: #A80036; stroke-width: 1.0;\"/><text fill=\"#000000\" font-family=\"sans-serif\" font-size=\"13\" lengthAdjust=\"spacingAndGlyphs\" textLength=\"135\" x=\"583\" y=\"330.5669\">Sig [true]/send s to p</text></a><!--MD5=[07d835e8aa4a85307551b36202b38cf0]\n",
       "@startuml\r\n",
       "skinparam wrapWidth 300\r\n",
       "hide circle\r\n",
       "\r\n",
       "package \"StateTest\" as E1  [[psysml:a2ca8720-bd4b-4556-9b27-091331149f1f ]]  {\r\n",
       "comp def \"Sig\" as E2  <<(T,blue)attribute def>> [[psysml:9b0c6b07-76e0-48e6-88f4-e6a2c752e8e3 ]] {\r\n",
       "x\r\n",
       "}\r\n",
       "comp def \"Exit\" as E3  <<(T,blue)attribute def>> [[psysml:75ee6cec-68f4-495e-910b-3cf4854ee540 ]] {\r\n",
       "}\r\n",
       "comp usage \"p\" as E4  <<(T,blue)part>> [[psysml:d526add9-9153-4d94-82de-e3d10cc7d584 ]] {\r\n",
       "}\r\n",
       "rec usage \"act\" as E5  <<(T,blue)action>> [[psysml:12bd5d36-0dbf-4715-90c3-b0b875efee55 ]] {\r\n",
       "}\r\n",
       "\r\n",
       "rec def \"S\" as E6  <<(T,blue)state def>> [[psysml:b6aa9f25-72f8-4c2c-a7be-6589070e9bf6 ]] {\r\n",
       "rec usage \"S1\" as E7 [[psysml:1cabaaec-9539-448a-9df0-432fc817479b ]] {\r\n",
       "}\r\n",
       "\r\n",
       "rec usage \"S2\" as E8 [[psysml:7a7b17a9-f595-41dc-990f-a07a1c17ba3c ]] {\r\n",
       "desc \"S2\" as E8  : **do**/ \r\n",
       "}\r\n",
       "\r\n",
       "[*] - -> E7 [[psysml:0b737fa2-1baa-4df5-913b-a090a33456a1 ]] \r\n",
       "E8  - -> [*] [[psysml:a8c9411f-d651-41a0-86c1-118f6cba8c1d ]] : Exit \r\n",
       "desc \"S\" as E6  : **entry**/ A\r\n",
       "desc \"S\" as E6  : **do**/ B\r\n",
       "desc \"S\" as E6  : **exit**/ act \r\n",
       "}\r\n",
       "\r\n",
       "E7  - -> E8 [[psysml:eefcc534-c981-4425-9bf3-38251bd12a49 ]] : Sig /action D\r\n",
       "E8  - -> E7 [[psysml:bcd703ca-2055-4c24-98bc-6c579eb31483 ]] : Sig [true]/send s to p\r\n",
       "}\r\n",
       "@enduml\r\n",
       "\n",
       "PlantUML version 1.2020.13(Sat Jun 13 12:26:38 UTC 2020)\n",
       "(EPL source distribution)\n",
       "Java Runtime: OpenJDK Runtime Environment\n",
       "JVM: OpenJDK 64-Bit Server VM\n",
       "Default Encoding: UTF-8\n",
       "Language: en\n",
       "Country: null\n",
       "--></g></svg>"
      ]
     },
     "execution_count": 23,
     "metadata": {},
     "output_type": "execute_result"
    }
   ],
   "source": [
    "%viz --style=\"STDCOLOR\" --view=\"Default\" \"StateTest\""
   ]
  },
  {
   "cell_type": "code",
   "execution_count": 24,
   "id": "recent-campus",
   "metadata": {
    "execution": {
     "iopub.execute_input": "2021-03-25T15:06:58.585768Z",
     "iopub.status.busy": "2021-03-25T15:06:58.584964Z",
     "iopub.status.idle": "2021-03-25T15:06:59.018276Z",
     "shell.execute_reply": "2021-03-25T15:06:59.017734Z"
    }
   },
   "outputs": [
    {
     "data": {
      "image/svg+xml": [
       "<?xml version=\"1.0\" encoding=\"UTF-8\" standalone=\"no\"?><svg xmlns=\"http://www.w3.org/2000/svg\" xmlns:xlink=\"http://www.w3.org/1999/xlink\" contentScriptType=\"application/ecmascript\" contentStyleType=\"text/css\" height=\"471px\" preserveAspectRatio=\"none\" style=\"width:594px;height:471px;\" version=\"1.1\" viewBox=\"0 0 594 471\" width=\"594px\" zoomAndPan=\"magnify\"><defs><filter height=\"300%\" id=\"f1wm3vv7wo57qd\" width=\"300%\" x=\"-1\" y=\"-1\"><feGaussianBlur result=\"blurOut\" stdDeviation=\"2.0\"/><feColorMatrix in=\"blurOut\" result=\"blurOut2\" type=\"matrix\" values=\"0 0 0 0 0 0 0 0 0 0 0 0 0 0 0 0 0 0 .4 0\"/><feOffset dx=\"4.0\" dy=\"4.0\" in=\"blurOut2\" result=\"blurOut3\"/><feBlend in=\"SourceGraphic\" in2=\"blurOut3\" mode=\"normal\"/></filter></defs><g><!--MD5=[fbc87193dbaf4d95561dea2c320d4a47]\n",
       "cluster E1--><a href=\"psysml:a2ca8720-bd4b-4556-9b27-091331149f1f\" target=\"_top\" title=\"psysml:a2ca8720-bd4b-4556-9b27-091331149f1f\" xlink:actuate=\"onRequest\" xlink:href=\"psysml:a2ca8720-bd4b-4556-9b27-091331149f1f\" xlink:show=\"new\" xlink:title=\"psysml:a2ca8720-bd4b-4556-9b27-091331149f1f\" xlink:type=\"simple\"><polygon fill=\"#FFFFFF\" filter=\"url(#f1wm3vv7wo57qd)\" points=\"16,6,98,6,105,28.2969,572,28.2969,572,459,16,459,16,6\" style=\"stroke: #000000; stroke-width: 1.5;\"/><line style=\"stroke: #000000; stroke-width: 1.5;\" x1=\"16\" x2=\"105\" y1=\"28.2969\" y2=\"28.2969\"/><text fill=\"#000000\" font-family=\"sans-serif\" font-size=\"14\" font-weight=\"bold\" lengthAdjust=\"spacingAndGlyphs\" textLength=\"76\" x=\"20\" y=\"20.9951\">StateTest</text></a><!--MD5=[b4997ac47864f28c2f74865a473b2911]\n",
       "class E2--><a href=\"psysml:9b0c6b07-76e0-48e6-88f4-e6a2c752e8e3\" target=\"_top\" title=\"psysml:9b0c6b07-76e0-48e6-88f4-e6a2c752e8e3\" xlink:actuate=\"onRequest\" xlink:href=\"psysml:9b0c6b07-76e0-48e6-88f4-e6a2c752e8e3\" xlink:show=\"new\" xlink:title=\"psysml:9b0c6b07-76e0-48e6-88f4-e6a2c752e8e3\" xlink:type=\"simple\"><rect fill=\"#FEFECE\" filter=\"url(#f1wm3vv7wo57qd)\" height=\"58.7422\" id=\"E2\" style=\"stroke: #A80036; stroke-width: 1.5;\" width=\"95\" x=\"460.5\" y=\"91.5\"/><text fill=\"#000000\" font-family=\"sans-serif\" font-size=\"12\" font-style=\"italic\" lengthAdjust=\"spacingAndGlyphs\" textLength=\"93\" x=\"461.5\" y=\"107.6387\">«attribute def»</text><text fill=\"#000000\" font-family=\"sans-serif\" font-size=\"12\" lengthAdjust=\"spacingAndGlyphs\" textLength=\"19\" x=\"498.5\" y=\"121.6074\">Sig</text><line style=\"stroke: #A80036; stroke-width: 1.5;\" x1=\"461.5\" x2=\"554.5\" y1=\"129.4375\" y2=\"129.4375\"/><text fill=\"#000000\" font-family=\"sans-serif\" font-size=\"11\" lengthAdjust=\"spacingAndGlyphs\" textLength=\"6\" x=\"466.5\" y=\"143.6479\">x</text></a><!--MD5=[09b614a08d8cba4a07c9adeb5e0fee81]\n",
       "class E3--><a href=\"psysml:75ee6cec-68f4-495e-910b-3cf4854ee540\" target=\"_top\" title=\"psysml:75ee6cec-68f4-495e-910b-3cf4854ee540\" xlink:actuate=\"onRequest\" xlink:href=\"psysml:75ee6cec-68f4-495e-910b-3cf4854ee540\" xlink:show=\"new\" xlink:title=\"psysml:75ee6cec-68f4-495e-910b-3cf4854ee540\" xlink:type=\"simple\"><rect fill=\"#FEFECE\" filter=\"url(#f1wm3vv7wo57qd)\" height=\"45.9375\" id=\"E3\" style=\"stroke: #A80036; stroke-width: 1.5;\" width=\"95\" x=\"330.5\" y=\"98\"/><text fill=\"#000000\" font-family=\"sans-serif\" font-size=\"12\" font-style=\"italic\" lengthAdjust=\"spacingAndGlyphs\" textLength=\"93\" x=\"331.5\" y=\"114.1387\">«attribute def»</text><text fill=\"#000000\" font-family=\"sans-serif\" font-size=\"12\" lengthAdjust=\"spacingAndGlyphs\" textLength=\"22\" x=\"367\" y=\"128.1074\">Exit</text><line style=\"stroke: #A80036; stroke-width: 1.5;\" x1=\"331.5\" x2=\"424.5\" y1=\"135.9375\" y2=\"135.9375\"/></a><!--MD5=[ebbe1d658d1005bcc118a6aa81145e00]\n",
       "class E4--><a href=\"psysml:d526add9-9153-4d94-82de-e3d10cc7d584\" target=\"_top\" title=\"psysml:d526add9-9153-4d94-82de-e3d10cc7d584\" xlink:actuate=\"onRequest\" xlink:href=\"psysml:d526add9-9153-4d94-82de-e3d10cc7d584\" xlink:show=\"new\" xlink:title=\"psysml:d526add9-9153-4d94-82de-e3d10cc7d584\" xlink:type=\"simple\"><rect fill=\"#FEFECE\" filter=\"url(#f1wm3vv7wo57qd)\" height=\"45.9375\" id=\"E4\" rx=\"10\" ry=\"10\" style=\"stroke: #A80036; stroke-width: 1.5;\" width=\"42\" x=\"253\" y=\"98\"/><text fill=\"#000000\" font-family=\"sans-serif\" font-size=\"12\" font-style=\"italic\" lengthAdjust=\"spacingAndGlyphs\" textLength=\"40\" x=\"254\" y=\"114.1387\">«part»</text><text fill=\"#000000\" font-family=\"sans-serif\" font-size=\"12\" lengthAdjust=\"spacingAndGlyphs\" textLength=\"8\" x=\"270\" y=\"128.1074\">p</text><line style=\"stroke: #A80036; stroke-width: 1.5;\" x1=\"254\" x2=\"294\" y1=\"135.9375\" y2=\"135.9375\"/></a><!--MD5=[270fce915f116d4de14055a7c1d9a0f3]\n",
       "class E5--><a href=\"psysml:12bd5d36-0dbf-4715-90c3-b0b875efee55\" target=\"_top\" title=\"psysml:12bd5d36-0dbf-4715-90c3-b0b875efee55\" xlink:actuate=\"onRequest\" xlink:href=\"psysml:12bd5d36-0dbf-4715-90c3-b0b875efee55\" xlink:show=\"new\" xlink:title=\"psysml:12bd5d36-0dbf-4715-90c3-b0b875efee55\" xlink:type=\"simple\"><rect fill=\"#FEFECE\" filter=\"url(#f1wm3vv7wo57qd)\" height=\"45.9375\" id=\"E5\" rx=\"10\" ry=\"10\" style=\"stroke: #A80036; stroke-width: 1.5;\" width=\"55\" x=\"162.5\" y=\"98\"/><text fill=\"#000000\" font-family=\"sans-serif\" font-size=\"12\" font-style=\"italic\" lengthAdjust=\"spacingAndGlyphs\" textLength=\"53\" x=\"163.5\" y=\"114.1387\">«action»</text><text fill=\"#000000\" font-family=\"sans-serif\" font-size=\"12\" lengthAdjust=\"spacingAndGlyphs\" textLength=\"20\" x=\"180\" y=\"128.1074\">act</text><line style=\"stroke: #A80036; stroke-width: 1.5;\" x1=\"163.5\" x2=\"216.5\" y1=\"135.9375\" y2=\"135.9375\"/></a><!--MD5=[60a26617385b1d2d0262a64233df1f8d]\n",
       "class E6--><a href=\"psysml:b6aa9f25-72f8-4c2c-a7be-6589070e9bf6\" target=\"_top\" title=\"psysml:b6aa9f25-72f8-4c2c-a7be-6589070e9bf6\" xlink:actuate=\"onRequest\" xlink:href=\"psysml:b6aa9f25-72f8-4c2c-a7be-6589070e9bf6\" xlink:show=\"new\" xlink:title=\"psysml:b6aa9f25-72f8-4c2c-a7be-6589070e9bf6\" xlink:type=\"simple\"><rect fill=\"#FEFECE\" filter=\"url(#f1wm3vv7wo57qd)\" height=\"160.375\" id=\"E6\" style=\"stroke: #A80036; stroke-width: 1.5;\" width=\"95\" x=\"32.5\" y=\"41\"/><text fill=\"#000000\" font-family=\"sans-serif\" font-size=\"12\" font-style=\"italic\" lengthAdjust=\"spacingAndGlyphs\" textLength=\"71\" x=\"44.5\" y=\"57.1387\">«state def»</text><text fill=\"#000000\" font-family=\"sans-serif\" font-size=\"12\" lengthAdjust=\"spacingAndGlyphs\" textLength=\"8\" x=\"76\" y=\"71.1074\">S</text><line style=\"stroke: #A80036; stroke-width: 1.5;\" x1=\"33.5\" x2=\"126.5\" y1=\"78.9375\" y2=\"78.9375\"/><text fill=\"#000000\" font-family=\"sans-serif\" font-size=\"11\" lengthAdjust=\"spacingAndGlyphs\" textLength=\"17\" x=\"38.5\" y=\"109.9526\">act</text><text fill=\"#000000\" font-family=\"sans-serif\" font-size=\"11\" lengthAdjust=\"spacingAndGlyphs\" textLength=\"7\" x=\"38.5\" y=\"122.7573\">A</text><text fill=\"#000000\" font-family=\"sans-serif\" font-size=\"11\" lengthAdjust=\"spacingAndGlyphs\" textLength=\"8\" x=\"38.5\" y=\"135.562\">B</text><line style=\"stroke: #A80036; stroke-width: 1.0;\" x1=\"33.5\" x2=\"36.5\" y1=\"93.3398\" y2=\"93.3398\"/><text fill=\"#000000\" font-family=\"sans-serif\" font-size=\"11\" lengthAdjust=\"spacingAndGlyphs\" textLength=\"87\" x=\"36.5\" y=\"96.6479\">performActions</text><line style=\"stroke: #A80036; stroke-width: 1.0;\" x1=\"123.5\" x2=\"126.5\" y1=\"93.3398\" y2=\"93.3398\"/><text fill=\"#000000\" font-family=\"sans-serif\" font-size=\"11\" lengthAdjust=\"spacingAndGlyphs\" textLength=\"15\" x=\"38.5\" y=\"165.1714\">S1</text><line style=\"stroke: #A80036; stroke-width: 1.0;\" x1=\"33.5\" x2=\"62\" y1=\"148.5586\" y2=\"148.5586\"/><text fill=\"#000000\" font-family=\"sans-serif\" font-size=\"11\" lengthAdjust=\"spacingAndGlyphs\" textLength=\"36\" x=\"62\" y=\"151.8667\">states</text><line style=\"stroke: #A80036; stroke-width: 1.0;\" x1=\"98\" x2=\"126.5\" y1=\"148.5586\" y2=\"148.5586\"/><text fill=\"#000000\" font-family=\"sans-serif\" font-size=\"11\" lengthAdjust=\"spacingAndGlyphs\" textLength=\"7\" x=\"38.5\" y=\"194.7808\">T</text><line style=\"stroke: #A80036; stroke-width: 1.0;\" x1=\"33.5\" x2=\"49.5\" y1=\"178.168\" y2=\"178.168\"/><text fill=\"#000000\" font-family=\"sans-serif\" font-size=\"11\" lengthAdjust=\"spacingAndGlyphs\" textLength=\"61\" x=\"49.5\" y=\"181.4761\">transitions</text><line style=\"stroke: #A80036; stroke-width: 1.0;\" x1=\"110.5\" x2=\"126.5\" y1=\"178.168\" y2=\"178.168\"/></a><!--MD5=[1dd1bfd58a279cf63c5f349dbc8fc6a1]\n",
       "class E11--><a href=\"psysml:7a7b17a9-f595-41dc-990f-a07a1c17ba3c\" target=\"_top\" title=\"psysml:7a7b17a9-f595-41dc-990f-a07a1c17ba3c\" xlink:actuate=\"onRequest\" xlink:href=\"psysml:7a7b17a9-f595-41dc-990f-a07a1c17ba3c\" xlink:show=\"new\" xlink:title=\"psysml:7a7b17a9-f595-41dc-990f-a07a1c17ba3c\" xlink:type=\"simple\"><rect fill=\"#FEFECE\" filter=\"url(#f1wm3vv7wo57qd)\" height=\"45.9375\" id=\"E11\" rx=\"10\" ry=\"10\" style=\"stroke: #A80036; stroke-width: 1.5;\" width=\"49\" x=\"55.5\" y=\"261\"/><text fill=\"#000000\" font-family=\"sans-serif\" font-size=\"12\" font-style=\"italic\" lengthAdjust=\"spacingAndGlyphs\" textLength=\"47\" x=\"56.5\" y=\"277.1387\">«state»</text><text fill=\"#000000\" font-family=\"sans-serif\" font-size=\"12\" lengthAdjust=\"spacingAndGlyphs\" textLength=\"16\" x=\"72\" y=\"291.1074\">S2</text><line style=\"stroke: #A80036; stroke-width: 1.5;\" x1=\"56.5\" x2=\"103.5\" y1=\"298.9375\" y2=\"298.9375\"/></a><!--MD5=[49a0ec8f00dab7302a31f22d0f0fe584]\n",
       "class E12--><a href=\"psysml:fce0e4a1-8edc-4c38-93d6-a3b5e3670b25\" target=\"_top\" title=\"psysml:fce0e4a1-8edc-4c38-93d6-a3b5e3670b25\" xlink:actuate=\"onRequest\" xlink:href=\"psysml:fce0e4a1-8edc-4c38-93d6-a3b5e3670b25\" xlink:show=\"new\" xlink:title=\"psysml:fce0e4a1-8edc-4c38-93d6-a3b5e3670b25\" xlink:type=\"simple\"><rect fill=\"#FEFECE\" filter=\"url(#f1wm3vv7wo57qd)\" height=\"75.5469\" id=\"E12\" rx=\"10\" ry=\"10\" style=\"stroke: #A80036; stroke-width: 1.5;\" width=\"90\" x=\"35\" y=\"367\"/><text fill=\"#000000\" font-family=\"sans-serif\" font-size=\"12\" font-style=\"italic\" lengthAdjust=\"spacingAndGlyphs\" textLength=\"88\" x=\"36\" y=\"383.1387\">«send action»</text><text fill=\"#000000\" font-family=\"sans-serif\" font-size=\"12\" lengthAdjust=\"spacingAndGlyphs\" textLength=\"55\" x=\"52.5\" y=\"397.1074\">doAction</text><line style=\"stroke: #A80036; stroke-width: 1.5;\" x1=\"36\" x2=\"124\" y1=\"404.9375\" y2=\"404.9375\"/><text fill=\"#000000\" font-family=\"sans-serif\" font-size=\"11\" lengthAdjust=\"spacingAndGlyphs\" textLength=\"25\" x=\"41\" y=\"435.9526\">item</text><line style=\"stroke: #A80036; stroke-width: 1.0;\" x1=\"36\" x2=\"42.5\" y1=\"419.3398\" y2=\"419.3398\"/><text fill=\"#000000\" font-family=\"sans-serif\" font-size=\"11\" lengthAdjust=\"spacingAndGlyphs\" textLength=\"75\" x=\"42.5\" y=\"422.6479\">itemFeatures</text><line style=\"stroke: #A80036; stroke-width: 1.0;\" x1=\"117.5\" x2=\"124\" y1=\"419.3398\" y2=\"419.3398\"/></a><!--MD5=[1f5f03483f7de0d5b3680a7f6650997f]\n",
       "reverse link E6 to E11--><a href=\"psysml:7a7b17a9-f595-41dc-990f-a07a1c17ba3c\" target=\"_top\" title=\"psysml:7a7b17a9-f595-41dc-990f-a07a1c17ba3c\" xlink:actuate=\"onRequest\" xlink:href=\"psysml:7a7b17a9-f595-41dc-990f-a07a1c17ba3c\" xlink:show=\"new\" xlink:title=\"psysml:7a7b17a9-f595-41dc-990f-a07a1c17ba3c\" xlink:type=\"simple\"><path d=\"M80,214.17 C80,231.58 80,248.25 80,260.82 \" fill=\"none\" id=\"E6&lt;-E11\" style=\"stroke: #A80036; stroke-width: 1.0;\"/><polygon fill=\"#A80036\" points=\"80,201.09,76.0066,207.0944,80.0132,213.09,84.0066,207.0856,80,201.09\" style=\"stroke: #A80036; stroke-width: 1.0;\"/></a><!--MD5=[94adabc162ce7e41b39f13be14fbaeb3]\n",
       "reverse link E11 to E12--><a href=\"psysml:fce0e4a1-8edc-4c38-93d6-a3b5e3670b25\" target=\"_top\" title=\"psysml:fce0e4a1-8edc-4c38-93d6-a3b5e3670b25\" xlink:actuate=\"onRequest\" xlink:href=\"psysml:fce0e4a1-8edc-4c38-93d6-a3b5e3670b25\" xlink:show=\"new\" xlink:title=\"psysml:fce0e4a1-8edc-4c38-93d6-a3b5e3670b25\" xlink:type=\"simple\"><path d=\"M80,320.23 C80,334.82 80,351.76 80,366.58 \" fill=\"none\" id=\"E11&lt;-E12\" style=\"stroke: #A80036; stroke-width: 1.0;\"/><polygon fill=\"#FFFFFF\" points=\"80,307.1,76,313.1,80,319.1,84,313.1,80,307.1\" style=\"stroke: #A80036; stroke-width: 1.0;\"/></a><!--MD5=[0a80bf9b1e147937432d4a0ee83d334a]\n",
       "@startuml\r\n",
       "skinparam wrapWidth 300\r\n",
       "hide circle\r\n",
       "\r\n",
       "package \"StateTest\" as E1  [[psysml:a2ca8720-bd4b-4556-9b27-091331149f1f ]]  {\r\n",
       "comp def \"Sig\" as E2  <<(T,blue)attribute def>> [[psysml:9b0c6b07-76e0-48e6-88f4-e6a2c752e8e3 ]] {\r\n",
       "x\r\n",
       "}\r\n",
       "comp def \"Exit\" as E3  <<(T,blue)attribute def>> [[psysml:75ee6cec-68f4-495e-910b-3cf4854ee540 ]] {\r\n",
       "}\r\n",
       "comp usage \"p\" as E4  <<(T,blue)part>> [[psysml:d526add9-9153-4d94-82de-e3d10cc7d584 ]] {\r\n",
       "}\r\n",
       "comp usage \"act\" as E5  <<(T,blue)action>> [[psysml:12bd5d36-0dbf-4715-90c3-b0b875efee55 ]] {\r\n",
       "}\r\n",
       "comp def \"S\" as E6  <<(T,blue)state def>> [[psysml:b6aa9f25-72f8-4c2c-a7be-6589070e9bf6 ]] {\r\n",
       "- - performActions - -\r\n",
       "act\r\n",
       "A\r\n",
       "B\r\n",
       "- - states - -\r\n",
       "S1\r\n",
       "- - transitions - -\r\n",
       "T\r\n",
       "}\r\n",
       "comp usage \"S2\" as E11  <<(T,blue)state>> [[psysml:7a7b17a9-f595-41dc-990f-a07a1c17ba3c ]] {\r\n",
       "}\r\n",
       "comp usage \"doAction\" as E12 <<send action>> [[psysml:fce0e4a1-8edc-4c38-93d6-a3b5e3670b25 ]] {\r\n",
       "- - itemFeatures - -\r\n",
       "item\r\n",
       "}\r\n",
       "E6 *- - E11 [[psysml:7a7b17a9-f595-41dc-990f-a07a1c17ba3c ]] \r\n",
       "E11 o- - E12 [[psysml:fce0e4a1-8edc-4c38-93d6-a3b5e3670b25 ]] \r\n",
       "}\r\n",
       "@enduml\r\n",
       "\n",
       "PlantUML version 1.2020.13(Sat Jun 13 12:26:38 UTC 2020)\n",
       "(EPL source distribution)\n",
       "Java Runtime: OpenJDK Runtime Environment\n",
       "JVM: OpenJDK 64-Bit Server VM\n",
       "Default Encoding: UTF-8\n",
       "Language: en\n",
       "Country: null\n",
       "--></g></svg>"
      ]
     },
     "execution_count": 24,
     "metadata": {},
     "output_type": "execute_result"
    }
   ],
   "source": [
    "%viz --style=\"STDCOLOR\" --view=\"Tree\" \"StateTest\""
   ]
  },
  {
   "cell_type": "code",
   "execution_count": 25,
   "id": "tracked-latest",
   "metadata": {
    "execution": {
     "iopub.execute_input": "2021-03-25T15:06:59.069358Z",
     "iopub.status.busy": "2021-03-25T15:06:59.068295Z",
     "iopub.status.idle": "2021-03-25T15:06:59.181230Z",
     "shell.execute_reply": "2021-03-25T15:06:59.179633Z"
    }
   },
   "outputs": [
    {
     "data": {
      "image/svg+xml": [
       "<?xml version=\"1.0\" encoding=\"UTF-8\" standalone=\"no\"?><svg xmlns=\"http://www.w3.org/2000/svg\" xmlns:xlink=\"http://www.w3.org/1999/xlink\" contentScriptType=\"application/ecmascript\" contentStyleType=\"text/css\" height=\"483px\" preserveAspectRatio=\"none\" style=\"width:353px;height:483px;\" version=\"1.1\" viewBox=\"0 0 353 483\" width=\"353px\" zoomAndPan=\"magnify\"><defs><filter height=\"300%\" id=\"flh11pmh67lee\" width=\"300%\" x=\"-1\" y=\"-1\"><feGaussianBlur result=\"blurOut\" stdDeviation=\"2.0\"/><feColorMatrix in=\"blurOut\" result=\"blurOut2\" type=\"matrix\" values=\"0 0 0 0 0 0 0 0 0 0 0 0 0 0 0 0 0 0 .4 0\"/><feOffset dx=\"4.0\" dy=\"4.0\" in=\"blurOut2\" result=\"blurOut3\"/><feBlend in=\"SourceGraphic\" in2=\"blurOut3\" mode=\"normal\"/></filter></defs><g><!--MD5=[fbc87193dbaf4d95561dea2c320d4a47]\n",
       "cluster E1--><a href=\"psysml:b6aa9f25-72f8-4c2c-a7be-6589070e9bf6\" target=\"_top\" title=\"psysml:b6aa9f25-72f8-4c2c-a7be-6589070e9bf6\" xlink:actuate=\"onRequest\" xlink:href=\"psysml:b6aa9f25-72f8-4c2c-a7be-6589070e9bf6\" xlink:show=\"new\" xlink:title=\"psysml:b6aa9f25-72f8-4c2c-a7be-6589070e9bf6\" xlink:type=\"simple\"><rect fill=\"#FFFFFF\" filter=\"url(#flh11pmh67lee)\" height=\"457\" id=\"E1\" style=\"stroke: #A80036; stroke-width: 1.5;\" width=\"327\" x=\"7\" y=\"7\"/><rect fill=\"#FEFECE\" height=\"37.9375\" style=\"stroke: #A80036; stroke-width: 1.5;\" width=\"327\" x=\"7\" y=\"7\"/><text fill=\"#000000\" font-family=\"sans-serif\" font-size=\"12\" font-style=\"italic\" lengthAdjust=\"spacingAndGlyphs\" textLength=\"71\" x=\"135\" y=\"23.1387\">«state def»</text><text fill=\"#000000\" font-family=\"sans-serif\" font-size=\"12\" lengthAdjust=\"spacingAndGlyphs\" textLength=\"8\" x=\"166.5\" y=\"37.1074\">S</text><line style=\"stroke: #A80036; stroke-width: 1.0;\" x1=\"7\" x2=\"334\" y1=\"90.8438\" y2=\"90.8438\"/><text fill=\"#000000\" font-family=\"sans-serif\" font-size=\"12\" font-weight=\"bold\" lengthAdjust=\"spacingAndGlyphs\" textLength=\"38\" x=\"12\" y=\"58.0762\">entry</text><text fill=\"#000000\" font-family=\"sans-serif\" font-size=\"12\" lengthAdjust=\"spacingAndGlyphs\" textLength=\"16\" x=\"50\" y=\"58.0762\">/ A</text><text fill=\"#000000\" font-family=\"sans-serif\" font-size=\"12\" font-weight=\"bold\" lengthAdjust=\"spacingAndGlyphs\" textLength=\"18\" x=\"12\" y=\"72.0449\">do</text><text fill=\"#000000\" font-family=\"sans-serif\" font-size=\"12\" lengthAdjust=\"spacingAndGlyphs\" textLength=\"16\" x=\"30\" y=\"72.0449\">/ B</text><text fill=\"#000000\" font-family=\"sans-serif\" font-size=\"12\" font-weight=\"bold\" lengthAdjust=\"spacingAndGlyphs\" textLength=\"26\" x=\"12\" y=\"86.0137\">exit</text><text fill=\"#000000\" font-family=\"sans-serif\" font-size=\"12\" lengthAdjust=\"spacingAndGlyphs\" textLength=\"28\" x=\"38\" y=\"86.0137\">/ act</text></a><ellipse cx=\"119\" cy=\"115\" fill=\"#000000\" filter=\"url(#flh11pmh67lee)\" rx=\"10\" ry=\"10\" style=\"stroke: none; stroke-width: 1.0;\"/><ellipse cx=\"119\" cy=\"438\" fill=\"none\" filter=\"url(#flh11pmh67lee)\" rx=\"10\" ry=\"10\" style=\"stroke: #000000; stroke-width: 1.0;\"/><ellipse cx=\"119.5\" cy=\"438.5\" fill=\"#000000\" rx=\"6\" ry=\"6\" style=\"stroke: none; stroke-width: 1.0;\"/><g id=\"E1.E2\"><a href=\"psysml:1cabaaec-9539-448a-9df0-432fc817479b\" target=\"_top\" title=\"psysml:1cabaaec-9539-448a-9df0-432fc817479b\" xlink:actuate=\"onRequest\" xlink:href=\"psysml:1cabaaec-9539-448a-9df0-432fc817479b\" xlink:show=\"new\" xlink:title=\"psysml:1cabaaec-9539-448a-9df0-432fc817479b\" xlink:type=\"simple\"><rect fill=\"#FEFECE\" filter=\"url(#flh11pmh67lee)\" height=\"40\" id=\"E2\" rx=\"10\" ry=\"10\" style=\"stroke: #A80036; stroke-width: 1.5;\" width=\"50\" x=\"94\" y=\"186\"/><text fill=\"#000000\" font-family=\"sans-serif\" font-size=\"12\" lengthAdjust=\"spacingAndGlyphs\" textLength=\"16\" x=\"111\" y=\"202.1387\">S1</text></a></g><g id=\"E1.E3\"><a href=\"psysml:7a7b17a9-f595-41dc-990f-a07a1c17ba3c\" target=\"_top\" title=\"psysml:7a7b17a9-f595-41dc-990f-a07a1c17ba3c\" xlink:actuate=\"onRequest\" xlink:href=\"psysml:7a7b17a9-f595-41dc-990f-a07a1c17ba3c\" xlink:show=\"new\" xlink:title=\"psysml:7a7b17a9-f595-41dc-990f-a07a1c17ba3c\" xlink:type=\"simple\"><rect fill=\"#FEFECE\" filter=\"url(#flh11pmh67lee)\" height=\"47.9375\" id=\"E3\" rx=\"10\" ry=\"10\" style=\"stroke: #A80036; stroke-width: 1.5;\" width=\"50\" x=\"94\" y=\"303\"/><text fill=\"#000000\" font-family=\"sans-serif\" font-size=\"12\" lengthAdjust=\"spacingAndGlyphs\" textLength=\"16\" x=\"111\" y=\"319.1387\">S2</text><line style=\"stroke: #A80036; stroke-width: 1.0;\" x1=\"94\" x2=\"144\" y1=\"326.9688\" y2=\"326.9688\"/><text fill=\"#000000\" font-family=\"sans-serif\" font-size=\"12\" font-weight=\"bold\" lengthAdjust=\"spacingAndGlyphs\" textLength=\"18\" x=\"99\" y=\"340.1074\">do</text><text fill=\"#000000\" font-family=\"sans-serif\" font-size=\"12\" lengthAdjust=\"spacingAndGlyphs\" textLength=\"4\" x=\"117\" y=\"340.1074\">/</text></a></g><!--MD5=[cff944eb183b832d446717a4e202d613]\n",
       "link *start*E1 to E2--><a href=\"psysml:0b737fa2-1baa-4df5-913b-a090a33456a1\" target=\"_top\" title=\"psysml:0b737fa2-1baa-4df5-913b-a090a33456a1\" xlink:actuate=\"onRequest\" xlink:href=\"psysml:0b737fa2-1baa-4df5-913b-a090a33456a1\" xlink:show=\"new\" xlink:title=\"psysml:0b737fa2-1baa-4df5-913b-a090a33456a1\" xlink:type=\"simple\"><path d=\"M119,125.19 C119,138.18 119,162.38 119,180.73 \" fill=\"none\" id=\"*start*E1-&gt;E2\" style=\"stroke: #A80036; stroke-width: 1.0;\"/><polygon fill=\"#A80036\" points=\"119,185.74,123,176.74,119,180.74,115,176.74,119,185.74\" style=\"stroke: #A80036; stroke-width: 1.0;\"/></a><!--MD5=[9ee7afa76ca8c509b3d216624c3a9893]\n",
       "link E3 to *end*E1--><a href=\"psysml:a8c9411f-d651-41a0-86c1-118f6cba8c1d\" target=\"_top\" title=\"psysml:a8c9411f-d651-41a0-86c1-118f6cba8c1d\" xlink:actuate=\"onRequest\" xlink:href=\"psysml:a8c9411f-d651-41a0-86c1-118f6cba8c1d\" xlink:show=\"new\" xlink:title=\"psysml:a8c9411f-d651-41a0-86c1-118f6cba8c1d\" xlink:type=\"simple\"><path d=\"M119,351.12 C119,372.75 119,404.39 119,422.62 \" fill=\"none\" id=\"E3-&gt;*end*E1\" style=\"stroke: #A80036; stroke-width: 1.0;\"/><polygon fill=\"#A80036\" points=\"119,427.82,123,418.82,119,422.82,115,418.82,119,427.82\" style=\"stroke: #A80036; stroke-width: 1.0;\"/><text fill=\"#000000\" font-family=\"sans-serif\" font-size=\"13\" lengthAdjust=\"spacingAndGlyphs\" textLength=\"23\" x=\"120\" y=\"394.0669\">Exit</text></a><!--MD5=[2720a5a1f2c3fca2055b230370638851]\n",
       "link E2 to E3--><a href=\"psysml:eefcc534-c981-4425-9bf3-38251bd12a49\" target=\"_top\" title=\"psysml:eefcc534-c981-4425-9bf3-38251bd12a49\" xlink:actuate=\"onRequest\" xlink:href=\"psysml:eefcc534-c981-4425-9bf3-38251bd12a49\" xlink:show=\"new\" xlink:title=\"psysml:eefcc534-c981-4425-9bf3-38251bd12a49\" xlink:type=\"simple\"><path d=\"M93.93,218.88 C79.69,227.12 63.12,239.56 55,256 C44.11,278.05 67.72,298.2 89.27,311.16 \" fill=\"none\" id=\"E2-&gt;E3\" style=\"stroke: #A80036; stroke-width: 1.0;\"/><polygon fill=\"#A80036\" points=\"93.83,313.82,88.0682,305.8324,89.5101,311.3024,84.0401,312.7443,93.83,313.82\" style=\"stroke: #A80036; stroke-width: 1.0;\"/><text fill=\"#000000\" font-family=\"sans-serif\" font-size=\"13\" lengthAdjust=\"spacingAndGlyphs\" textLength=\"81\" x=\"56\" y=\"269.0669\">Sig /action D</text></a><!--MD5=[05d275557350bfb9b23a4ef7222b4c39]\n",
       "link E3 to E2--><a href=\"psysml:bcd703ca-2055-4c24-98bc-6c579eb31483\" target=\"_top\" title=\"psysml:bcd703ca-2055-4c24-98bc-6c579eb31483\" xlink:actuate=\"onRequest\" xlink:href=\"psysml:bcd703ca-2055-4c24-98bc-6c579eb31483\" xlink:show=\"new\" xlink:title=\"psysml:bcd703ca-2055-4c24-98bc-6c579eb31483\" xlink:type=\"simple\"><path d=\"M133.17,302.99 C139.81,289.48 145.56,271.98 142,256 C140.1,247.49 136.56,238.72 132.82,230.99 \" fill=\"none\" id=\"E3-&gt;E2\" style=\"stroke: #A80036; stroke-width: 1.0;\"/><polygon fill=\"#A80036\" points=\"130.47,226.32,130.9298,236.1581,132.7118,230.7893,138.0806,232.5713,130.47,226.32\" style=\"stroke: #A80036; stroke-width: 1.0;\"/><text fill=\"#000000\" font-family=\"sans-serif\" font-size=\"13\" lengthAdjust=\"spacingAndGlyphs\" textLength=\"135\" x=\"144\" y=\"269.0669\">Sig [true]/send s to p</text></a><!--MD5=[14c803838af93611f1ebbb56f03d179f]\n",
       "@startuml\r\n",
       "skinparam wrapWidth 300\r\n",
       "hide circle\r\n",
       "\r\n",
       "rec def \"S\" as E1  <<(T,blue)state def>> [[psysml:b6aa9f25-72f8-4c2c-a7be-6589070e9bf6 ]] {\r\n",
       "rec usage \"S1\" as E2 [[psysml:1cabaaec-9539-448a-9df0-432fc817479b ]] {\r\n",
       "}\r\n",
       "\r\n",
       "rec usage \"S2\" as E3 [[psysml:7a7b17a9-f595-41dc-990f-a07a1c17ba3c ]] {\r\n",
       "desc \"S2\" as E3  : **do**/ \r\n",
       "}\r\n",
       "\r\n",
       "[*] - -> E2 [[psysml:0b737fa2-1baa-4df5-913b-a090a33456a1 ]] \r\n",
       "E3  - -> [*] [[psysml:a8c9411f-d651-41a0-86c1-118f6cba8c1d ]] : Exit \r\n",
       "desc \"S\" as E1  : **entry**/ A\r\n",
       "desc \"S\" as E1  : **do**/ B\r\n",
       "desc \"S\" as E1  : **exit**/ act \r\n",
       "}\r\n",
       "\r\n",
       "E2  - -> E3 [[psysml:eefcc534-c981-4425-9bf3-38251bd12a49 ]] : Sig /action D\r\n",
       "E3  - -> E2 [[psysml:bcd703ca-2055-4c24-98bc-6c579eb31483 ]] : Sig [true]/send s to p\r\n",
       "@enduml\r\n",
       "\n",
       "PlantUML version 1.2020.13(Sat Jun 13 12:26:38 UTC 2020)\n",
       "(EPL source distribution)\n",
       "Java Runtime: OpenJDK Runtime Environment\n",
       "JVM: OpenJDK 64-Bit Server VM\n",
       "Default Encoding: UTF-8\n",
       "Language: en\n",
       "Country: null\n",
       "--></g></svg>"
      ]
     },
     "execution_count": 25,
     "metadata": {},
     "output_type": "execute_result"
    }
   ],
   "source": [
    "%viz --style=\"STDCOLOR\" --view=\"State\" \"StateTest\""
   ]
  },
  {
   "cell_type": "code",
   "execution_count": 26,
   "id": "entire-ottawa",
   "metadata": {
    "execution": {
     "iopub.execute_input": "2021-03-25T15:06:59.232573Z",
     "iopub.status.busy": "2021-03-25T15:06:59.231988Z",
     "iopub.status.idle": "2021-03-25T15:06:59.311225Z",
     "shell.execute_reply": "2021-03-25T15:06:59.311604Z"
    }
   },
   "outputs": [
    {
     "data": {
      "image/svg+xml": [
       "<?xml version=\"1.0\" encoding=\"UTF-8\" standalone=\"no\"?><svg xmlns=\"http://www.w3.org/2000/svg\" xmlns:xlink=\"http://www.w3.org/1999/xlink\" contentScriptType=\"application/ecmascript\" contentStyleType=\"text/css\" height=\"123px\" preserveAspectRatio=\"none\" style=\"width:728px;height:123px;\" version=\"1.1\" viewBox=\"0 0 728 123\" width=\"728px\" zoomAndPan=\"magnify\"><defs><filter height=\"300%\" id=\"f1u9y8refbw8az\" width=\"300%\" x=\"-1\" y=\"-1\"><feGaussianBlur result=\"blurOut\" stdDeviation=\"2.0\"/><feColorMatrix in=\"blurOut\" result=\"blurOut2\" type=\"matrix\" values=\"0 0 0 0 0 0 0 0 0 0 0 0 0 0 0 0 0 0 .4 0\"/><feOffset dx=\"4.0\" dy=\"4.0\" in=\"blurOut2\" result=\"blurOut3\"/><feBlend in=\"SourceGraphic\" in2=\"blurOut3\" mode=\"normal\"/></filter></defs><g><!--MD5=[fbc87193dbaf4d95561dea2c320d4a47]\n",
       "cluster E1--><a href=\"psysml:a2ca8720-bd4b-4556-9b27-091331149f1f\" target=\"_top\" title=\"psysml:a2ca8720-bd4b-4556-9b27-091331149f1f\" xlink:actuate=\"onRequest\" xlink:href=\"psysml:a2ca8720-bd4b-4556-9b27-091331149f1f\" xlink:show=\"new\" xlink:title=\"psysml:a2ca8720-bd4b-4556-9b27-091331149f1f\" xlink:type=\"simple\"><polygon fill=\"#FFFFFF\" filter=\"url(#f1u9y8refbw8az)\" points=\"16,6,98,6,105,28.2969,706,28.2969,706,111,16,111,16,6\" style=\"stroke: #000000; stroke-width: 1.5;\"/><line style=\"stroke: #000000; stroke-width: 1.5;\" x1=\"16\" x2=\"105\" y1=\"28.2969\" y2=\"28.2969\"/><text fill=\"#000000\" font-family=\"sans-serif\" font-size=\"14\" font-weight=\"bold\" lengthAdjust=\"spacingAndGlyphs\" textLength=\"76\" x=\"20\" y=\"20.9951\">StateTest</text></a><!--MD5=[b4997ac47864f28c2f74865a473b2911]\n",
       "class E2--><a href=\"psysml:9b0c6b07-76e0-48e6-88f4-e6a2c752e8e3\" target=\"_top\" title=\"psysml:9b0c6b07-76e0-48e6-88f4-e6a2c752e8e3\" xlink:actuate=\"onRequest\" xlink:href=\"psysml:9b0c6b07-76e0-48e6-88f4-e6a2c752e8e3\" xlink:show=\"new\" xlink:title=\"psysml:9b0c6b07-76e0-48e6-88f4-e6a2c752e8e3\" xlink:type=\"simple\"><rect fill=\"#FEFECE\" filter=\"url(#f1u9y8refbw8az)\" height=\"53.9375\" id=\"E2\" style=\"stroke: #A80036; stroke-width: 1.5;\" width=\"143\" x=\"546.5\" y=\"41\"/><text fill=\"#000000\" font-family=\"sans-serif\" font-size=\"12\" font-style=\"italic\" lengthAdjust=\"spacingAndGlyphs\" textLength=\"141\" x=\"547.5\" y=\"57.1387\">«(T,blue)attribute def»</text><text fill=\"#000000\" font-family=\"sans-serif\" font-size=\"12\" lengthAdjust=\"spacingAndGlyphs\" textLength=\"19\" x=\"608.5\" y=\"71.1074\">Sig</text><line style=\"stroke: #A80036; stroke-width: 1.5;\" x1=\"547.5\" x2=\"688.5\" y1=\"78.9375\" y2=\"78.9375\"/><line style=\"stroke: #A80036; stroke-width: 1.5;\" x1=\"547.5\" x2=\"688.5\" y1=\"86.9375\" y2=\"86.9375\"/></a><!--MD5=[09b614a08d8cba4a07c9adeb5e0fee81]\n",
       "class E3--><a href=\"psysml:75ee6cec-68f4-495e-910b-3cf4854ee540\" target=\"_top\" title=\"psysml:75ee6cec-68f4-495e-910b-3cf4854ee540\" xlink:actuate=\"onRequest\" xlink:href=\"psysml:75ee6cec-68f4-495e-910b-3cf4854ee540\" xlink:show=\"new\" xlink:title=\"psysml:75ee6cec-68f4-495e-910b-3cf4854ee540\" xlink:type=\"simple\"><rect fill=\"#FEFECE\" filter=\"url(#f1u9y8refbw8az)\" height=\"53.9375\" id=\"E3\" style=\"stroke: #A80036; stroke-width: 1.5;\" width=\"143\" x=\"368.5\" y=\"41\"/><text fill=\"#000000\" font-family=\"sans-serif\" font-size=\"12\" font-style=\"italic\" lengthAdjust=\"spacingAndGlyphs\" textLength=\"141\" x=\"369.5\" y=\"57.1387\">«(T,blue)attribute def»</text><text fill=\"#000000\" font-family=\"sans-serif\" font-size=\"12\" lengthAdjust=\"spacingAndGlyphs\" textLength=\"22\" x=\"429\" y=\"71.1074\">Exit</text><line style=\"stroke: #A80036; stroke-width: 1.5;\" x1=\"369.5\" x2=\"510.5\" y1=\"78.9375\" y2=\"78.9375\"/><line style=\"stroke: #A80036; stroke-width: 1.5;\" x1=\"369.5\" x2=\"510.5\" y1=\"86.9375\" y2=\"86.9375\"/></a><!--MD5=[60a26617385b1d2d0262a64233df1f8d]\n",
       "class E6--><a href=\"psysml:b6aa9f25-72f8-4c2c-a7be-6589070e9bf6\" target=\"_top\" title=\"psysml:b6aa9f25-72f8-4c2c-a7be-6589070e9bf6\" xlink:actuate=\"onRequest\" xlink:href=\"psysml:b6aa9f25-72f8-4c2c-a7be-6589070e9bf6\" xlink:show=\"new\" xlink:title=\"psysml:b6aa9f25-72f8-4c2c-a7be-6589070e9bf6\" xlink:type=\"simple\"><rect fill=\"#FEFECE\" filter=\"url(#f1u9y8refbw8az)\" height=\"53.9375\" id=\"E6\" style=\"stroke: #A80036; stroke-width: 1.5;\" width=\"121\" x=\"212.5\" y=\"41\"/><text fill=\"#000000\" font-family=\"sans-serif\" font-size=\"12\" font-style=\"italic\" lengthAdjust=\"spacingAndGlyphs\" textLength=\"119\" x=\"213.5\" y=\"57.1387\">«(T,blue)state def»</text><text fill=\"#000000\" font-family=\"sans-serif\" font-size=\"12\" lengthAdjust=\"spacingAndGlyphs\" textLength=\"8\" x=\"269\" y=\"71.1074\">S</text><line style=\"stroke: #A80036; stroke-width: 1.5;\" x1=\"213.5\" x2=\"332.5\" y1=\"78.9375\" y2=\"78.9375\"/><line style=\"stroke: #A80036; stroke-width: 1.5;\" x1=\"213.5\" x2=\"332.5\" y1=\"86.9375\" y2=\"86.9375\"/></a><g id=\"E1.E4\"><a href=\"psysml:d526add9-9153-4d94-82de-e3d10cc7d584\" target=\"_top\" title=\"psysml:d526add9-9153-4d94-82de-e3d10cc7d584\" xlink:actuate=\"onRequest\" xlink:href=\"psysml:d526add9-9153-4d94-82de-e3d10cc7d584\" xlink:show=\"new\" xlink:title=\"psysml:d526add9-9153-4d94-82de-e3d10cc7d584\" xlink:type=\"simple\"><rect fill=\"#FEFECE\" filter=\"url(#f1u9y8refbw8az)\" height=\"40\" id=\"E4\" rx=\"10\" ry=\"10\" style=\"stroke: #A80036; stroke-width: 1.5;\" width=\"50\" x=\"127\" y=\"48\"/><text fill=\"#000000\" font-family=\"sans-serif\" font-size=\"12\" lengthAdjust=\"spacingAndGlyphs\" textLength=\"8\" x=\"148\" y=\"64.1387\">p</text></a></g><g id=\"E1.E5\"><a href=\"psysml:12bd5d36-0dbf-4715-90c3-b0b875efee55\" target=\"_top\" title=\"psysml:12bd5d36-0dbf-4715-90c3-b0b875efee55\" xlink:actuate=\"onRequest\" xlink:href=\"psysml:12bd5d36-0dbf-4715-90c3-b0b875efee55\" xlink:show=\"new\" xlink:title=\"psysml:12bd5d36-0dbf-4715-90c3-b0b875efee55\" xlink:type=\"simple\"><rect fill=\"#FEFECE\" filter=\"url(#f1u9y8refbw8az)\" height=\"42.9375\" id=\"E5\" rx=\"10\" ry=\"10\" style=\"stroke: #A80036; stroke-width: 1.5;\" width=\"60\" x=\"32\" y=\"46.5\"/><text fill=\"#000000\" font-family=\"sans-serif\" font-size=\"12\" font-style=\"italic\" lengthAdjust=\"spacingAndGlyphs\" textLength=\"53\" x=\"35.5\" y=\"62.6387\">«action»</text><text fill=\"#000000\" font-family=\"sans-serif\" font-size=\"12\" lengthAdjust=\"spacingAndGlyphs\" textLength=\"20\" x=\"52\" y=\"76.6074\">act</text></a></g><!--MD5=[03576a73499d22642c4561281299768b]\n",
       "@startuml\r\n",
       "skinparam ranksep 8\r\n",
       "skinparam rectangle {\r\n",
       " backgroundColor<<block>> LightGreen\r\n",
       "}\r\n",
       "skinparam wrapWidth 300\r\n",
       "hide circle\r\n",
       "\r\n",
       "package \"StateTest\" as E1  [[psysml:a2ca8720-bd4b-4556-9b27-091331149f1f ]]  {\r\n",
       "def \"Sig\" as E2  <<(T,blue)attribute def>> [[psysml:9b0c6b07-76e0-48e6-88f4-e6a2c752e8e3 ]] \r\n",
       "def \"Exit\" as E3  <<(T,blue)attribute def>> [[psysml:75ee6cec-68f4-495e-910b-3cf4854ee540 ]] \r\n",
       "rec usage \"p\" as E4  [[psysml:d526add9-9153-4d94-82de-e3d10cc7d584 ]] {\r\n",
       "}\r\n",
       "rec usage \"act\" as E5  <<(T,blue)action>> [[psysml:12bd5d36-0dbf-4715-90c3-b0b875efee55 ]] {\r\n",
       "}\r\n",
       "def \"S\" as E6  <<(T,blue)state def>> [[psysml:b6aa9f25-72f8-4c2c-a7be-6589070e9bf6 ]] \r\n",
       "}\r\n",
       "@enduml\r\n",
       "\n",
       "PlantUML version 1.2020.13(Sat Jun 13 12:26:38 UTC 2020)\n",
       "(EPL source distribution)\n",
       "Java Runtime: OpenJDK Runtime Environment\n",
       "JVM: OpenJDK 64-Bit Server VM\n",
       "Default Encoding: UTF-8\n",
       "Language: en\n",
       "Country: null\n",
       "--></g></svg>"
      ]
     },
     "execution_count": 26,
     "metadata": {},
     "output_type": "execute_result"
    }
   ],
   "source": [
    "%viz --style=\"STDCOLOR\" --view=\"Interconnection\" \"StateTest\""
   ]
  },
  {
   "cell_type": "code",
   "execution_count": 27,
   "id": "electoral-evolution",
   "metadata": {
    "execution": {
     "iopub.execute_input": "2021-03-25T15:06:59.362336Z",
     "iopub.status.busy": "2021-03-25T15:06:59.361844Z",
     "iopub.status.idle": "2021-03-25T15:06:59.388575Z",
     "shell.execute_reply": "2021-03-25T15:06:59.388202Z"
    }
   },
   "outputs": [
    {
     "data": {
      "image/svg+xml": [
       "<?xml version=\"1.0\" encoding=\"UTF-8\" standalone=\"no\"?><svg xmlns=\"http://www.w3.org/2000/svg\" xmlns:xlink=\"http://www.w3.org/1999/xlink\" contentScriptType=\"application/ecmascript\" contentStyleType=\"text/css\" height=\"418px\" preserveAspectRatio=\"none\" style=\"width:788px;height:418px;background:#000000;\" version=\"1.1\" viewBox=\"0 0 788 418\" width=\"788px\" zoomAndPan=\"magnify\"><defs/><g><rect fill=\"#1D2522\" height=\"1\" style=\"stroke: #1D2522; stroke-width: 1.0;\" width=\"1\" x=\"0\" y=\"0\"/><rect fill=\"#33FF02\" height=\"21.2969\" style=\"stroke: #33FF02; stroke-width: 1.0;\" width=\"781\" x=\"5\" y=\"5\"/><text fill=\"#000000\" font-family=\"sans-serif\" font-size=\"14\" font-weight=\"bold\" lengthAdjust=\"spacingAndGlyphs\" textLength=\"178\" x=\"6\" y=\"20\">[From string (line 22) ]</text><text fill=\"#33FF02\" font-family=\"sans-serif\" font-size=\"14\" font-weight=\"bold\" lengthAdjust=\"spacingAndGlyphs\" textLength=\"0\" x=\"10\" y=\"40.2969\"/><text fill=\"#33FF02\" font-family=\"sans-serif\" font-size=\"14\" font-weight=\"bold\" lengthAdjust=\"spacingAndGlyphs\" textLength=\"79\" x=\"5\" y=\"56.5938\">@startuml</text><text fill=\"#33FF02\" font-family=\"sans-serif\" font-size=\"14\" font-weight=\"bold\" lengthAdjust=\"spacingAndGlyphs\" textLength=\"165\" x=\"5\" y=\"72.8906\">skinparam ranksep 8</text><text fill=\"#33FF02\" font-family=\"sans-serif\" font-size=\"14\" font-weight=\"bold\" lengthAdjust=\"spacingAndGlyphs\" textLength=\"206\" x=\"5\" y=\"89.1875\">skinparam wrapWidth 300</text><text fill=\"#33FF02\" font-family=\"sans-serif\" font-size=\"14\" font-weight=\"bold\" lengthAdjust=\"spacingAndGlyphs\" textLength=\"82\" x=\"5\" y=\"105.4844\">hide circle</text><text fill=\"#33FF02\" font-family=\"sans-serif\" font-size=\"14\" font-weight=\"bold\" lengthAdjust=\"spacingAndGlyphs\" textLength=\"0\" x=\"10\" y=\"121.7813\"/><text fill=\"#33FF02\" font-family=\"sans-serif\" font-size=\"14\" font-weight=\"bold\" lengthAdjust=\"spacingAndGlyphs\" textLength=\"781\" x=\"5\" y=\"138.0781\">rec usage \"act\" as E1  &lt;&lt;(T,blue)action&gt;&gt; [[psysml:12bd5d36-0dbf-4715-90c3-b0b875efee55 ]] {</text><text fill=\"#33FF02\" font-family=\"sans-serif\" font-size=\"14\" font-weight=\"bold\" lengthAdjust=\"spacingAndGlyphs\" textLength=\"10\" x=\"5\" y=\"154.375\">}</text><text fill=\"#33FF02\" font-family=\"sans-serif\" font-size=\"14\" font-weight=\"bold\" lengthAdjust=\"spacingAndGlyphs\" textLength=\"0\" x=\"10\" y=\"170.6719\"/><text fill=\"#33FF02\" font-family=\"sans-serif\" font-size=\"14\" font-weight=\"bold\" lengthAdjust=\"spacingAndGlyphs\" textLength=\"760\" x=\"5\" y=\"186.9688\">rec def \"S\" as E2  &lt;&lt;(T,blue)state def&gt;&gt; [[psysml:b6aa9f25-72f8-4c2c-a7be-6589070e9bf6 ]] {</text><text fill=\"#33FF02\" font-family=\"sans-serif\" font-size=\"14\" font-weight=\"bold\" lengthAdjust=\"spacingAndGlyphs\" textLength=\"761\" x=\"5\" y=\"203.2656\">rec usage \"A\" as E3 &lt;&lt;perform action&gt;&gt; [[psysml:7c853ef3-d7ff-4ebf-8ae8-b09e7153a971 ]] {</text><text fill=\"#33FF02\" font-family=\"sans-serif\" font-size=\"14\" font-weight=\"bold\" lengthAdjust=\"spacingAndGlyphs\" textLength=\"10\" x=\"5\" y=\"219.5625\">}</text><text fill=\"#33FF02\" font-family=\"sans-serif\" font-size=\"14\" font-weight=\"bold\" lengthAdjust=\"spacingAndGlyphs\" textLength=\"0\" x=\"10\" y=\"235.8594\"/><text fill=\"#33FF02\" font-family=\"sans-serif\" font-size=\"14\" font-weight=\"bold\" lengthAdjust=\"spacingAndGlyphs\" textLength=\"765\" x=\"5\" y=\"252.1563\">rec usage \"B\" as E4 &lt;&lt;perform action&gt;&gt; [[psysml:dca473ca-f240-48c8-8410-315f8ab65930 ]] {</text><text fill=\"#33FF02\" font-family=\"sans-serif\" font-size=\"14\" font-weight=\"bold\" lengthAdjust=\"spacingAndGlyphs\" textLength=\"10\" x=\"5\" y=\"268.4531\">}</text><text fill=\"#33FF02\" font-family=\"sans-serif\" font-size=\"14\" font-weight=\"bold\" lengthAdjust=\"spacingAndGlyphs\" textLength=\"0\" x=\"10\" y=\"284.75\"/><text fill=\"#33FF02\" font-family=\"sans-serif\" font-size=\"14\" font-weight=\"bold\" lengthAdjust=\"spacingAndGlyphs\" textLength=\"779\" x=\"5\" y=\"301.0469\">rec usage \"act\" as E5 &lt;&lt;perform action&gt;&gt; [[psysml:4cc25ae1-ca80-482c-9b62-70f98bd0e4f3 ]] {</text><text fill=\"#33FF02\" font-family=\"sans-serif\" font-size=\"14\" font-weight=\"bold\" lengthAdjust=\"spacingAndGlyphs\" textLength=\"10\" x=\"5\" y=\"317.3438\">}</text><text fill=\"#33FF02\" font-family=\"sans-serif\" font-size=\"14\" font-weight=\"bold\" lengthAdjust=\"spacingAndGlyphs\" textLength=\"0\" x=\"10\" y=\"333.6406\"/><text fill=\"#33FF02\" font-family=\"sans-serif\" font-size=\"14\" font-weight=\"bold\" lengthAdjust=\"spacingAndGlyphs\" textLength=\"763\" x=\"5\" y=\"349.9375\">rec usage \"S1\" as E6  &lt;&lt;(T,blue)state&gt;&gt; [[psysml:1cabaaec-9539-448a-9df0-432fc817479b ]] {</text><text fill=\"#33FF02\" font-family=\"sans-serif\" font-size=\"14\" font-weight=\"bold\" lengthAdjust=\"spacingAndGlyphs\" textLength=\"10\" x=\"5\" y=\"366.2344\">}</text><text fill=\"#33FF02\" font-family=\"sans-serif\" font-size=\"14\" font-weight=\"bold\" lengthAdjust=\"spacingAndGlyphs\" textLength=\"0\" x=\"10\" y=\"382.5313\"/><text fill=\"#33FF02\" font-family=\"sans-serif\" font-size=\"14\" font-weight=\"bold\" lengthAdjust=\"spacingAndGlyphs\" textLength=\"10\" x=\"5\" y=\"398.8281\">{</text><text fill=\"#FF0000\" font-family=\"sans-serif\" font-size=\"14\" font-weight=\"bold\" lengthAdjust=\"spacingAndGlyphs\" textLength=\"106\" x=\"10\" y=\"415.125\">Syntax Error?</text><!--MD5=[36e3b17cda1e20394f70cb280c199f64]\n",
       "@startuml\r\n",
       "skinparam ranksep 8\r\n",
       "skinparam wrapWidth 300\r\n",
       "hide circle\r\n",
       "\r\n",
       "rec usage \"act\" as E1  <<(T,blue)action>> [[psysml:12bd5d36-0dbf-4715-90c3-b0b875efee55 ]] {\r\n",
       "}\r\n",
       "\r\n",
       "rec def \"S\" as E2  <<(T,blue)state def>> [[psysml:b6aa9f25-72f8-4c2c-a7be-6589070e9bf6 ]] {\r\n",
       "rec usage \"A\" as E3 <<perform action>> [[psysml:7c853ef3-d7ff-4ebf-8ae8-b09e7153a971 ]] {\r\n",
       "}\r\n",
       "\r\n",
       "rec usage \"B\" as E4 <<perform action>> [[psysml:dca473ca-f240-48c8-8410-315f8ab65930 ]] {\r\n",
       "}\r\n",
       "\r\n",
       "rec usage \"act\" as E5 <<perform action>> [[psysml:4cc25ae1-ca80-482c-9b62-70f98bd0e4f3 ]] {\r\n",
       "}\r\n",
       "\r\n",
       "rec usage \"S1\" as E6  <<(T,blue)state>> [[psysml:1cabaaec-9539-448a-9df0-432fc817479b ]] {\r\n",
       "}\r\n",
       "\r\n",
       "{\r\n",
       "{\r\n",
       "}\r\n",
       "\r\n",
       "rec usage \"D\" as E7 <<perform action>> [[psysml:3510f31d-b177-4ebf-8714-3f9d2522539a ]] {\r\n",
       "}\r\n",
       "\r\n",
       "}\r\n",
       "\r\n",
       "rec usage \"S2\" as E8  <<(T,blue)state>> [[psysml:7a7b17a9-f595-41dc-990f-a07a1c17ba3c ]] {\r\n",
       "rec usage \"doAction\" as E9 <<send action>> [[psysml:fce0e4a1-8edc-4c38-93d6-a3b5e3670b25 ]] {\r\n",
       "portin \"$x\" as E10  [[psysml:0f9ee1be-4b0c-49df-bf39-0b4be923bab5 ]] \r\n",
       "portout \"$result\" as E11  [[psysml:57c23ed7-9c69-47d3-a300-7e2619377bac ]] \r\n",
       "}\r\n",
       "\r\n",
       "}\r\n",
       "\r\n",
       "{\r\n",
       "{\r\n",
       "}\r\n",
       "\r\n",
       "}\r\n",
       "\r\n",
       "rec usage \"T\" as E12  <<(T,blue)transition>> [[psysml:bcd703ca-2055-4c24-98bc-6c579eb31483 ]] {\r\n",
       "rec usage \"S2\" as E13  <<(T,blue)state>> [[psysml:7a7b17a9-f595-41dc-990f-a07a1c17ba3c ]] {\r\n",
       "rec usage \"doAction\" as E14 <<send action>> [[psysml:fce0e4a1-8edc-4c38-93d6-a3b5e3670b25 ]] {\r\n",
       "portin \"$x\" as E15  [[psysml:0f9ee1be-4b0c-49df-bf39-0b4be923bab5 ]] \r\n",
       "portout \"$result\" as E16  [[psysml:57c23ed7-9c69-47d3-a300-7e2619377bac ]] \r\n",
       "}\r\n",
       "\r\n",
       "}\r\n",
       "\r\n",
       "{\r\n",
       "}\r\n",
       "\r\n",
       "portout \"$result\" as E17  [[psysml:911b7f24-6054-424b-94f8-0593eb8f2c88 ]] \r\n",
       "{\r\n",
       "}\r\n",
       "\r\n",
       "}\r\n",
       "\r\n",
       "}\r\n",
       "\r\n",
       "@enduml\r\n",
       "\n",
       "PlantUML version 1.2020.13(Sat Jun 13 12:26:38 UTC 2020)\n",
       "(EPL source distribution)\n",
       "Java Runtime: OpenJDK Runtime Environment\n",
       "JVM: OpenJDK 64-Bit Server VM\n",
       "Default Encoding: UTF-8\n",
       "Language: en\n",
       "Country: null\n",
       "--></g></svg>"
      ]
     },
     "execution_count": 27,
     "metadata": {},
     "output_type": "execute_result"
    }
   ],
   "source": [
    "%viz --style=\"STDCOLOR\" --view=\"Action\" \"StateTest\""
   ]
  },
  {
   "cell_type": "code",
   "execution_count": 28,
   "id": "received-charles",
   "metadata": {
    "execution": {
     "iopub.execute_input": "2021-03-25T15:06:59.438955Z",
     "iopub.status.busy": "2021-03-25T15:06:59.438427Z",
     "iopub.status.idle": "2021-03-25T15:06:59.872541Z",
     "shell.execute_reply": "2021-03-25T15:06:59.872075Z"
    }
   },
   "outputs": [
    {
     "data": {
      "image/svg+xml": [
       "<?xml version=\"1.0\" encoding=\"UTF-8\" standalone=\"no\"?><svg xmlns=\"http://www.w3.org/2000/svg\" xmlns:xlink=\"http://www.w3.org/1999/xlink\" contentScriptType=\"application/ecmascript\" contentStyleType=\"text/css\" height=\"471px\" preserveAspectRatio=\"none\" style=\"width:594px;height:471px;\" version=\"1.1\" viewBox=\"0 0 594 471\" width=\"594px\" zoomAndPan=\"magnify\"><defs><filter height=\"300%\" id=\"f1wm3vv7wo57qd\" width=\"300%\" x=\"-1\" y=\"-1\"><feGaussianBlur result=\"blurOut\" stdDeviation=\"2.0\"/><feColorMatrix in=\"blurOut\" result=\"blurOut2\" type=\"matrix\" values=\"0 0 0 0 0 0 0 0 0 0 0 0 0 0 0 0 0 0 .4 0\"/><feOffset dx=\"4.0\" dy=\"4.0\" in=\"blurOut2\" result=\"blurOut3\"/><feBlend in=\"SourceGraphic\" in2=\"blurOut3\" mode=\"normal\"/></filter></defs><g><!--MD5=[fbc87193dbaf4d95561dea2c320d4a47]\n",
       "cluster E1--><a href=\"psysml:a2ca8720-bd4b-4556-9b27-091331149f1f\" target=\"_top\" title=\"psysml:a2ca8720-bd4b-4556-9b27-091331149f1f\" xlink:actuate=\"onRequest\" xlink:href=\"psysml:a2ca8720-bd4b-4556-9b27-091331149f1f\" xlink:show=\"new\" xlink:title=\"psysml:a2ca8720-bd4b-4556-9b27-091331149f1f\" xlink:type=\"simple\"><polygon fill=\"#FFFFFF\" filter=\"url(#f1wm3vv7wo57qd)\" points=\"16,6,98,6,105,28.2969,572,28.2969,572,459,16,459,16,6\" style=\"stroke: #000000; stroke-width: 1.5;\"/><line style=\"stroke: #000000; stroke-width: 1.5;\" x1=\"16\" x2=\"105\" y1=\"28.2969\" y2=\"28.2969\"/><text fill=\"#000000\" font-family=\"sans-serif\" font-size=\"14\" font-weight=\"bold\" lengthAdjust=\"spacingAndGlyphs\" textLength=\"76\" x=\"20\" y=\"20.9951\">StateTest</text></a><!--MD5=[b4997ac47864f28c2f74865a473b2911]\n",
       "class E2--><a href=\"psysml:9b0c6b07-76e0-48e6-88f4-e6a2c752e8e3\" target=\"_top\" title=\"psysml:9b0c6b07-76e0-48e6-88f4-e6a2c752e8e3\" xlink:actuate=\"onRequest\" xlink:href=\"psysml:9b0c6b07-76e0-48e6-88f4-e6a2c752e8e3\" xlink:show=\"new\" xlink:title=\"psysml:9b0c6b07-76e0-48e6-88f4-e6a2c752e8e3\" xlink:type=\"simple\"><rect fill=\"#FEFECE\" filter=\"url(#f1wm3vv7wo57qd)\" height=\"58.7422\" id=\"E2\" style=\"stroke: #A80036; stroke-width: 1.5;\" width=\"95\" x=\"460.5\" y=\"91.5\"/><text fill=\"#000000\" font-family=\"sans-serif\" font-size=\"12\" font-style=\"italic\" lengthAdjust=\"spacingAndGlyphs\" textLength=\"93\" x=\"461.5\" y=\"107.6387\">«attribute def»</text><text fill=\"#000000\" font-family=\"sans-serif\" font-size=\"12\" lengthAdjust=\"spacingAndGlyphs\" textLength=\"19\" x=\"498.5\" y=\"121.6074\">Sig</text><line style=\"stroke: #A80036; stroke-width: 1.5;\" x1=\"461.5\" x2=\"554.5\" y1=\"129.4375\" y2=\"129.4375\"/><text fill=\"#000000\" font-family=\"sans-serif\" font-size=\"11\" lengthAdjust=\"spacingAndGlyphs\" textLength=\"6\" x=\"466.5\" y=\"143.6479\">x</text></a><!--MD5=[09b614a08d8cba4a07c9adeb5e0fee81]\n",
       "class E3--><a href=\"psysml:75ee6cec-68f4-495e-910b-3cf4854ee540\" target=\"_top\" title=\"psysml:75ee6cec-68f4-495e-910b-3cf4854ee540\" xlink:actuate=\"onRequest\" xlink:href=\"psysml:75ee6cec-68f4-495e-910b-3cf4854ee540\" xlink:show=\"new\" xlink:title=\"psysml:75ee6cec-68f4-495e-910b-3cf4854ee540\" xlink:type=\"simple\"><rect fill=\"#FEFECE\" filter=\"url(#f1wm3vv7wo57qd)\" height=\"45.9375\" id=\"E3\" style=\"stroke: #A80036; stroke-width: 1.5;\" width=\"95\" x=\"330.5\" y=\"98\"/><text fill=\"#000000\" font-family=\"sans-serif\" font-size=\"12\" font-style=\"italic\" lengthAdjust=\"spacingAndGlyphs\" textLength=\"93\" x=\"331.5\" y=\"114.1387\">«attribute def»</text><text fill=\"#000000\" font-family=\"sans-serif\" font-size=\"12\" lengthAdjust=\"spacingAndGlyphs\" textLength=\"22\" x=\"367\" y=\"128.1074\">Exit</text><line style=\"stroke: #A80036; stroke-width: 1.5;\" x1=\"331.5\" x2=\"424.5\" y1=\"135.9375\" y2=\"135.9375\"/></a><!--MD5=[ebbe1d658d1005bcc118a6aa81145e00]\n",
       "class E4--><a href=\"psysml:d526add9-9153-4d94-82de-e3d10cc7d584\" target=\"_top\" title=\"psysml:d526add9-9153-4d94-82de-e3d10cc7d584\" xlink:actuate=\"onRequest\" xlink:href=\"psysml:d526add9-9153-4d94-82de-e3d10cc7d584\" xlink:show=\"new\" xlink:title=\"psysml:d526add9-9153-4d94-82de-e3d10cc7d584\" xlink:type=\"simple\"><rect fill=\"#FEFECE\" filter=\"url(#f1wm3vv7wo57qd)\" height=\"45.9375\" id=\"E4\" rx=\"10\" ry=\"10\" style=\"stroke: #A80036; stroke-width: 1.5;\" width=\"42\" x=\"253\" y=\"98\"/><text fill=\"#000000\" font-family=\"sans-serif\" font-size=\"12\" font-style=\"italic\" lengthAdjust=\"spacingAndGlyphs\" textLength=\"40\" x=\"254\" y=\"114.1387\">«part»</text><text fill=\"#000000\" font-family=\"sans-serif\" font-size=\"12\" lengthAdjust=\"spacingAndGlyphs\" textLength=\"8\" x=\"270\" y=\"128.1074\">p</text><line style=\"stroke: #A80036; stroke-width: 1.5;\" x1=\"254\" x2=\"294\" y1=\"135.9375\" y2=\"135.9375\"/></a><!--MD5=[270fce915f116d4de14055a7c1d9a0f3]\n",
       "class E5--><a href=\"psysml:12bd5d36-0dbf-4715-90c3-b0b875efee55\" target=\"_top\" title=\"psysml:12bd5d36-0dbf-4715-90c3-b0b875efee55\" xlink:actuate=\"onRequest\" xlink:href=\"psysml:12bd5d36-0dbf-4715-90c3-b0b875efee55\" xlink:show=\"new\" xlink:title=\"psysml:12bd5d36-0dbf-4715-90c3-b0b875efee55\" xlink:type=\"simple\"><rect fill=\"#FEFECE\" filter=\"url(#f1wm3vv7wo57qd)\" height=\"45.9375\" id=\"E5\" rx=\"10\" ry=\"10\" style=\"stroke: #A80036; stroke-width: 1.5;\" width=\"55\" x=\"162.5\" y=\"98\"/><text fill=\"#000000\" font-family=\"sans-serif\" font-size=\"12\" font-style=\"italic\" lengthAdjust=\"spacingAndGlyphs\" textLength=\"53\" x=\"163.5\" y=\"114.1387\">«action»</text><text fill=\"#000000\" font-family=\"sans-serif\" font-size=\"12\" lengthAdjust=\"spacingAndGlyphs\" textLength=\"20\" x=\"180\" y=\"128.1074\">act</text><line style=\"stroke: #A80036; stroke-width: 1.5;\" x1=\"163.5\" x2=\"216.5\" y1=\"135.9375\" y2=\"135.9375\"/></a><!--MD5=[60a26617385b1d2d0262a64233df1f8d]\n",
       "class E6--><a href=\"psysml:b6aa9f25-72f8-4c2c-a7be-6589070e9bf6\" target=\"_top\" title=\"psysml:b6aa9f25-72f8-4c2c-a7be-6589070e9bf6\" xlink:actuate=\"onRequest\" xlink:href=\"psysml:b6aa9f25-72f8-4c2c-a7be-6589070e9bf6\" xlink:show=\"new\" xlink:title=\"psysml:b6aa9f25-72f8-4c2c-a7be-6589070e9bf6\" xlink:type=\"simple\"><rect fill=\"#FEFECE\" filter=\"url(#f1wm3vv7wo57qd)\" height=\"160.375\" id=\"E6\" style=\"stroke: #A80036; stroke-width: 1.5;\" width=\"95\" x=\"32.5\" y=\"41\"/><text fill=\"#000000\" font-family=\"sans-serif\" font-size=\"12\" font-style=\"italic\" lengthAdjust=\"spacingAndGlyphs\" textLength=\"71\" x=\"44.5\" y=\"57.1387\">«state def»</text><text fill=\"#000000\" font-family=\"sans-serif\" font-size=\"12\" lengthAdjust=\"spacingAndGlyphs\" textLength=\"8\" x=\"76\" y=\"71.1074\">S</text><line style=\"stroke: #A80036; stroke-width: 1.5;\" x1=\"33.5\" x2=\"126.5\" y1=\"78.9375\" y2=\"78.9375\"/><text fill=\"#000000\" font-family=\"sans-serif\" font-size=\"11\" lengthAdjust=\"spacingAndGlyphs\" textLength=\"17\" x=\"38.5\" y=\"109.9526\">act</text><text fill=\"#000000\" font-family=\"sans-serif\" font-size=\"11\" lengthAdjust=\"spacingAndGlyphs\" textLength=\"7\" x=\"38.5\" y=\"122.7573\">A</text><text fill=\"#000000\" font-family=\"sans-serif\" font-size=\"11\" lengthAdjust=\"spacingAndGlyphs\" textLength=\"8\" x=\"38.5\" y=\"135.562\">B</text><line style=\"stroke: #A80036; stroke-width: 1.0;\" x1=\"33.5\" x2=\"36.5\" y1=\"93.3398\" y2=\"93.3398\"/><text fill=\"#000000\" font-family=\"sans-serif\" font-size=\"11\" lengthAdjust=\"spacingAndGlyphs\" textLength=\"87\" x=\"36.5\" y=\"96.6479\">performActions</text><line style=\"stroke: #A80036; stroke-width: 1.0;\" x1=\"123.5\" x2=\"126.5\" y1=\"93.3398\" y2=\"93.3398\"/><text fill=\"#000000\" font-family=\"sans-serif\" font-size=\"11\" lengthAdjust=\"spacingAndGlyphs\" textLength=\"15\" x=\"38.5\" y=\"165.1714\">S1</text><line style=\"stroke: #A80036; stroke-width: 1.0;\" x1=\"33.5\" x2=\"62\" y1=\"148.5586\" y2=\"148.5586\"/><text fill=\"#000000\" font-family=\"sans-serif\" font-size=\"11\" lengthAdjust=\"spacingAndGlyphs\" textLength=\"36\" x=\"62\" y=\"151.8667\">states</text><line style=\"stroke: #A80036; stroke-width: 1.0;\" x1=\"98\" x2=\"126.5\" y1=\"148.5586\" y2=\"148.5586\"/><text fill=\"#000000\" font-family=\"sans-serif\" font-size=\"11\" lengthAdjust=\"spacingAndGlyphs\" textLength=\"7\" x=\"38.5\" y=\"194.7808\">T</text><line style=\"stroke: #A80036; stroke-width: 1.0;\" x1=\"33.5\" x2=\"49.5\" y1=\"178.168\" y2=\"178.168\"/><text fill=\"#000000\" font-family=\"sans-serif\" font-size=\"11\" lengthAdjust=\"spacingAndGlyphs\" textLength=\"61\" x=\"49.5\" y=\"181.4761\">transitions</text><line style=\"stroke: #A80036; stroke-width: 1.0;\" x1=\"110.5\" x2=\"126.5\" y1=\"178.168\" y2=\"178.168\"/></a><!--MD5=[1dd1bfd58a279cf63c5f349dbc8fc6a1]\n",
       "class E11--><a href=\"psysml:7a7b17a9-f595-41dc-990f-a07a1c17ba3c\" target=\"_top\" title=\"psysml:7a7b17a9-f595-41dc-990f-a07a1c17ba3c\" xlink:actuate=\"onRequest\" xlink:href=\"psysml:7a7b17a9-f595-41dc-990f-a07a1c17ba3c\" xlink:show=\"new\" xlink:title=\"psysml:7a7b17a9-f595-41dc-990f-a07a1c17ba3c\" xlink:type=\"simple\"><rect fill=\"#FEFECE\" filter=\"url(#f1wm3vv7wo57qd)\" height=\"45.9375\" id=\"E11\" rx=\"10\" ry=\"10\" style=\"stroke: #A80036; stroke-width: 1.5;\" width=\"49\" x=\"55.5\" y=\"261\"/><text fill=\"#000000\" font-family=\"sans-serif\" font-size=\"12\" font-style=\"italic\" lengthAdjust=\"spacingAndGlyphs\" textLength=\"47\" x=\"56.5\" y=\"277.1387\">«state»</text><text fill=\"#000000\" font-family=\"sans-serif\" font-size=\"12\" lengthAdjust=\"spacingAndGlyphs\" textLength=\"16\" x=\"72\" y=\"291.1074\">S2</text><line style=\"stroke: #A80036; stroke-width: 1.5;\" x1=\"56.5\" x2=\"103.5\" y1=\"298.9375\" y2=\"298.9375\"/></a><!--MD5=[49a0ec8f00dab7302a31f22d0f0fe584]\n",
       "class E12--><a href=\"psysml:fce0e4a1-8edc-4c38-93d6-a3b5e3670b25\" target=\"_top\" title=\"psysml:fce0e4a1-8edc-4c38-93d6-a3b5e3670b25\" xlink:actuate=\"onRequest\" xlink:href=\"psysml:fce0e4a1-8edc-4c38-93d6-a3b5e3670b25\" xlink:show=\"new\" xlink:title=\"psysml:fce0e4a1-8edc-4c38-93d6-a3b5e3670b25\" xlink:type=\"simple\"><rect fill=\"#FEFECE\" filter=\"url(#f1wm3vv7wo57qd)\" height=\"75.5469\" id=\"E12\" rx=\"10\" ry=\"10\" style=\"stroke: #A80036; stroke-width: 1.5;\" width=\"90\" x=\"35\" y=\"367\"/><text fill=\"#000000\" font-family=\"sans-serif\" font-size=\"12\" font-style=\"italic\" lengthAdjust=\"spacingAndGlyphs\" textLength=\"88\" x=\"36\" y=\"383.1387\">«send action»</text><text fill=\"#000000\" font-family=\"sans-serif\" font-size=\"12\" lengthAdjust=\"spacingAndGlyphs\" textLength=\"55\" x=\"52.5\" y=\"397.1074\">doAction</text><line style=\"stroke: #A80036; stroke-width: 1.5;\" x1=\"36\" x2=\"124\" y1=\"404.9375\" y2=\"404.9375\"/><text fill=\"#000000\" font-family=\"sans-serif\" font-size=\"11\" lengthAdjust=\"spacingAndGlyphs\" textLength=\"25\" x=\"41\" y=\"435.9526\">item</text><line style=\"stroke: #A80036; stroke-width: 1.0;\" x1=\"36\" x2=\"42.5\" y1=\"419.3398\" y2=\"419.3398\"/><text fill=\"#000000\" font-family=\"sans-serif\" font-size=\"11\" lengthAdjust=\"spacingAndGlyphs\" textLength=\"75\" x=\"42.5\" y=\"422.6479\">itemFeatures</text><line style=\"stroke: #A80036; stroke-width: 1.0;\" x1=\"117.5\" x2=\"124\" y1=\"419.3398\" y2=\"419.3398\"/></a><!--MD5=[1f5f03483f7de0d5b3680a7f6650997f]\n",
       "reverse link E6 to E11--><a href=\"psysml:7a7b17a9-f595-41dc-990f-a07a1c17ba3c\" target=\"_top\" title=\"psysml:7a7b17a9-f595-41dc-990f-a07a1c17ba3c\" xlink:actuate=\"onRequest\" xlink:href=\"psysml:7a7b17a9-f595-41dc-990f-a07a1c17ba3c\" xlink:show=\"new\" xlink:title=\"psysml:7a7b17a9-f595-41dc-990f-a07a1c17ba3c\" xlink:type=\"simple\"><path d=\"M80,214.17 C80,231.58 80,248.25 80,260.82 \" fill=\"none\" id=\"E6&lt;-E11\" style=\"stroke: #A80036; stroke-width: 1.0;\"/><polygon fill=\"#A80036\" points=\"80,201.09,76.0066,207.0944,80.0132,213.09,84.0066,207.0856,80,201.09\" style=\"stroke: #A80036; stroke-width: 1.0;\"/></a><!--MD5=[94adabc162ce7e41b39f13be14fbaeb3]\n",
       "reverse link E11 to E12--><a href=\"psysml:fce0e4a1-8edc-4c38-93d6-a3b5e3670b25\" target=\"_top\" title=\"psysml:fce0e4a1-8edc-4c38-93d6-a3b5e3670b25\" xlink:actuate=\"onRequest\" xlink:href=\"psysml:fce0e4a1-8edc-4c38-93d6-a3b5e3670b25\" xlink:show=\"new\" xlink:title=\"psysml:fce0e4a1-8edc-4c38-93d6-a3b5e3670b25\" xlink:type=\"simple\"><path d=\"M80,320.23 C80,334.82 80,351.76 80,366.58 \" fill=\"none\" id=\"E11&lt;-E12\" style=\"stroke: #A80036; stroke-width: 1.0;\"/><polygon fill=\"#FFFFFF\" points=\"80,307.1,76,313.1,80,319.1,84,313.1,80,307.1\" style=\"stroke: #A80036; stroke-width: 1.0;\"/></a><!--MD5=[0a80bf9b1e147937432d4a0ee83d334a]\n",
       "@startuml\r\n",
       "skinparam wrapWidth 300\r\n",
       "hide circle\r\n",
       "\r\n",
       "package \"StateTest\" as E1  [[psysml:a2ca8720-bd4b-4556-9b27-091331149f1f ]]  {\r\n",
       "comp def \"Sig\" as E2  <<(T,blue)attribute def>> [[psysml:9b0c6b07-76e0-48e6-88f4-e6a2c752e8e3 ]] {\r\n",
       "x\r\n",
       "}\r\n",
       "comp def \"Exit\" as E3  <<(T,blue)attribute def>> [[psysml:75ee6cec-68f4-495e-910b-3cf4854ee540 ]] {\r\n",
       "}\r\n",
       "comp usage \"p\" as E4  <<(T,blue)part>> [[psysml:d526add9-9153-4d94-82de-e3d10cc7d584 ]] {\r\n",
       "}\r\n",
       "comp usage \"act\" as E5  <<(T,blue)action>> [[psysml:12bd5d36-0dbf-4715-90c3-b0b875efee55 ]] {\r\n",
       "}\r\n",
       "comp def \"S\" as E6  <<(T,blue)state def>> [[psysml:b6aa9f25-72f8-4c2c-a7be-6589070e9bf6 ]] {\r\n",
       "- - performActions - -\r\n",
       "act\r\n",
       "A\r\n",
       "B\r\n",
       "- - states - -\r\n",
       "S1\r\n",
       "- - transitions - -\r\n",
       "T\r\n",
       "}\r\n",
       "comp usage \"S2\" as E11  <<(T,blue)state>> [[psysml:7a7b17a9-f595-41dc-990f-a07a1c17ba3c ]] {\r\n",
       "}\r\n",
       "comp usage \"doAction\" as E12 <<send action>> [[psysml:fce0e4a1-8edc-4c38-93d6-a3b5e3670b25 ]] {\r\n",
       "- - itemFeatures - -\r\n",
       "item\r\n",
       "}\r\n",
       "E6 *- - E11 [[psysml:7a7b17a9-f595-41dc-990f-a07a1c17ba3c ]] \r\n",
       "E11 o- - E12 [[psysml:fce0e4a1-8edc-4c38-93d6-a3b5e3670b25 ]] \r\n",
       "}\r\n",
       "@enduml\r\n",
       "\n",
       "PlantUML version 1.2020.13(Sat Jun 13 12:26:38 UTC 2020)\n",
       "(EPL source distribution)\n",
       "Java Runtime: OpenJDK Runtime Environment\n",
       "JVM: OpenJDK 64-Bit Server VM\n",
       "Default Encoding: UTF-8\n",
       "Language: en\n",
       "Country: null\n",
       "--></g></svg>"
      ]
     },
     "execution_count": 28,
     "metadata": {},
     "output_type": "execute_result"
    }
   ],
   "source": [
    "%viz --style=\"STDCOLOR\" --view=\"Sequence\" \"StateTest\""
   ]
  },
  {
   "cell_type": "code",
   "execution_count": 29,
   "id": "consecutive-upgrade",
   "metadata": {
    "execution": {
     "iopub.execute_input": "2021-03-25T15:06:59.928014Z",
     "iopub.status.busy": "2021-03-25T15:06:59.927391Z",
     "iopub.status.idle": "2021-03-25T15:07:00.092605Z",
     "shell.execute_reply": "2021-03-25T15:07:00.090940Z"
    }
   },
   "outputs": [
    {
     "data": {
      "image/svg+xml": [
       "<?xml version=\"1.0\" encoding=\"UTF-8\" standalone=\"no\"?><svg xmlns=\"http://www.w3.org/2000/svg\" xmlns:xlink=\"http://www.w3.org/1999/xlink\" contentScriptType=\"application/ecmascript\" contentStyleType=\"text/css\" height=\"561px\" preserveAspectRatio=\"none\" style=\"width:819px;height:561px;\" version=\"1.1\" viewBox=\"0 0 819 561\" width=\"819px\" zoomAndPan=\"magnify\"><defs><filter height=\"300%\" id=\"f1mdyzwg0xnwhj\" width=\"300%\" x=\"-1\" y=\"-1\"><feGaussianBlur result=\"blurOut\" stdDeviation=\"2.0\"/><feColorMatrix in=\"blurOut\" result=\"blurOut2\" type=\"matrix\" values=\"0 0 0 0 0 0 0 0 0 0 0 0 0 0 0 0 0 0 .4 0\"/><feOffset dx=\"4.0\" dy=\"4.0\" in=\"blurOut2\" result=\"blurOut3\"/><feBlend in=\"SourceGraphic\" in2=\"blurOut3\" mode=\"normal\"/></filter></defs><g><!--MD5=[fbc87193dbaf4d95561dea2c320d4a47]\n",
       "cluster E1--><a href=\"psysml:a2ca8720-bd4b-4556-9b27-091331149f1f\" target=\"_top\" title=\"psysml:a2ca8720-bd4b-4556-9b27-091331149f1f\" xlink:actuate=\"onRequest\" xlink:href=\"psysml:a2ca8720-bd4b-4556-9b27-091331149f1f\" xlink:show=\"new\" xlink:title=\"psysml:a2ca8720-bd4b-4556-9b27-091331149f1f\" xlink:type=\"simple\"><polygon fill=\"#FFFFFF\" filter=\"url(#f1mdyzwg0xnwhj)\" points=\"16,6,98,6,105,28.2969,797,28.2969,797,549.5,16,549.5,16,6\" style=\"stroke: #000000; stroke-width: 1.5;\"/><line style=\"stroke: #000000; stroke-width: 1.5;\" x1=\"16\" x2=\"105\" y1=\"28.2969\" y2=\"28.2969\"/><text fill=\"#000000\" font-family=\"sans-serif\" font-size=\"14\" font-weight=\"bold\" lengthAdjust=\"spacingAndGlyphs\" textLength=\"76\" x=\"20\" y=\"20.9951\">StateTest</text></a><!--MD5=[14e3b0961a2654348d326746436168a1]\n",
       "cluster E6--><a href=\"psysml:b6aa9f25-72f8-4c2c-a7be-6589070e9bf6\" target=\"_top\" title=\"psysml:b6aa9f25-72f8-4c2c-a7be-6589070e9bf6\" xlink:actuate=\"onRequest\" xlink:href=\"psysml:b6aa9f25-72f8-4c2c-a7be-6589070e9bf6\" xlink:show=\"new\" xlink:title=\"psysml:b6aa9f25-72f8-4c2c-a7be-6589070e9bf6\" xlink:type=\"simple\"><rect fill=\"#FFFFFF\" filter=\"url(#f1mdyzwg0xnwhj)\" height=\"476.5\" id=\"E6\" style=\"stroke: #A80036; stroke-width: 1.5;\" width=\"327\" x=\"446\" y=\"49\"/><rect fill=\"#FEFECE\" height=\"37.9375\" style=\"stroke: #A80036; stroke-width: 1.5;\" width=\"327\" x=\"446\" y=\"49\"/><text fill=\"#000000\" font-family=\"sans-serif\" font-size=\"12\" font-style=\"italic\" lengthAdjust=\"spacingAndGlyphs\" textLength=\"71\" x=\"574\" y=\"65.1387\">«state def»</text><text fill=\"#000000\" font-family=\"sans-serif\" font-size=\"12\" lengthAdjust=\"spacingAndGlyphs\" textLength=\"8\" x=\"605.5\" y=\"79.1074\">S</text><line style=\"stroke: #A80036; stroke-width: 1.0;\" x1=\"446\" x2=\"773\" y1=\"132.8438\" y2=\"132.8438\"/><text fill=\"#000000\" font-family=\"sans-serif\" font-size=\"12\" font-weight=\"bold\" lengthAdjust=\"spacingAndGlyphs\" textLength=\"38\" x=\"451\" y=\"100.0762\">entry</text><text fill=\"#000000\" font-family=\"sans-serif\" font-size=\"12\" lengthAdjust=\"spacingAndGlyphs\" textLength=\"16\" x=\"489\" y=\"100.0762\">/ A</text><text fill=\"#000000\" font-family=\"sans-serif\" font-size=\"12\" font-weight=\"bold\" lengthAdjust=\"spacingAndGlyphs\" textLength=\"18\" x=\"451\" y=\"114.0449\">do</text><text fill=\"#000000\" font-family=\"sans-serif\" font-size=\"12\" lengthAdjust=\"spacingAndGlyphs\" textLength=\"16\" x=\"469\" y=\"114.0449\">/ B</text><text fill=\"#000000\" font-family=\"sans-serif\" font-size=\"12\" font-weight=\"bold\" lengthAdjust=\"spacingAndGlyphs\" textLength=\"26\" x=\"451\" y=\"128.0137\">exit</text><text fill=\"#000000\" font-family=\"sans-serif\" font-size=\"12\" lengthAdjust=\"spacingAndGlyphs\" textLength=\"28\" x=\"477\" y=\"128.0137\">/ act</text></a><!--MD5=[b4997ac47864f28c2f74865a473b2911]\n",
       "class E2--><a href=\"psysml:9b0c6b07-76e0-48e6-88f4-e6a2c752e8e3\" target=\"_top\" title=\"psysml:9b0c6b07-76e0-48e6-88f4-e6a2c752e8e3\" xlink:actuate=\"onRequest\" xlink:href=\"psysml:9b0c6b07-76e0-48e6-88f4-e6a2c752e8e3\" xlink:show=\"new\" xlink:title=\"psysml:9b0c6b07-76e0-48e6-88f4-e6a2c752e8e3\" xlink:type=\"simple\"><rect fill=\"#FEFECE\" filter=\"url(#f1mdyzwg0xnwhj)\" height=\"58.7422\" id=\"E2\" style=\"stroke: #A80036; stroke-width: 1.5;\" width=\"95\" x=\"334.5\" y=\"127.5\"/><text fill=\"#000000\" font-family=\"sans-serif\" font-size=\"12\" font-style=\"italic\" lengthAdjust=\"spacingAndGlyphs\" textLength=\"93\" x=\"335.5\" y=\"143.6387\">«attribute def»</text><text fill=\"#000000\" font-family=\"sans-serif\" font-size=\"12\" lengthAdjust=\"spacingAndGlyphs\" textLength=\"19\" x=\"372.5\" y=\"157.6074\">Sig</text><line style=\"stroke: #A80036; stroke-width: 1.5;\" x1=\"335.5\" x2=\"428.5\" y1=\"165.4375\" y2=\"165.4375\"/><text fill=\"#000000\" font-family=\"sans-serif\" font-size=\"11\" lengthAdjust=\"spacingAndGlyphs\" textLength=\"6\" x=\"340.5\" y=\"179.6479\">x</text></a><!--MD5=[09b614a08d8cba4a07c9adeb5e0fee81]\n",
       "class E3--><a href=\"psysml:75ee6cec-68f4-495e-910b-3cf4854ee540\" target=\"_top\" title=\"psysml:75ee6cec-68f4-495e-910b-3cf4854ee540\" xlink:actuate=\"onRequest\" xlink:href=\"psysml:75ee6cec-68f4-495e-910b-3cf4854ee540\" xlink:show=\"new\" xlink:title=\"psysml:75ee6cec-68f4-495e-910b-3cf4854ee540\" xlink:type=\"simple\"><rect fill=\"#FEFECE\" filter=\"url(#f1mdyzwg0xnwhj)\" height=\"45.9375\" id=\"E3\" style=\"stroke: #A80036; stroke-width: 1.5;\" width=\"95\" x=\"204.5\" y=\"134\"/><text fill=\"#000000\" font-family=\"sans-serif\" font-size=\"12\" font-style=\"italic\" lengthAdjust=\"spacingAndGlyphs\" textLength=\"93\" x=\"205.5\" y=\"150.1387\">«attribute def»</text><text fill=\"#000000\" font-family=\"sans-serif\" font-size=\"12\" lengthAdjust=\"spacingAndGlyphs\" textLength=\"22\" x=\"241\" y=\"164.1074\">Exit</text><line style=\"stroke: #A80036; stroke-width: 1.5;\" x1=\"205.5\" x2=\"298.5\" y1=\"171.9375\" y2=\"171.9375\"/></a><!--MD5=[ebbe1d658d1005bcc118a6aa81145e00]\n",
       "class E4--><a href=\"psysml:d526add9-9153-4d94-82de-e3d10cc7d584\" target=\"_top\" title=\"psysml:d526add9-9153-4d94-82de-e3d10cc7d584\" xlink:actuate=\"onRequest\" xlink:href=\"psysml:d526add9-9153-4d94-82de-e3d10cc7d584\" xlink:show=\"new\" xlink:title=\"psysml:d526add9-9153-4d94-82de-e3d10cc7d584\" xlink:type=\"simple\"><rect fill=\"#FEFECE\" filter=\"url(#f1mdyzwg0xnwhj)\" height=\"45.9375\" id=\"E4\" rx=\"10\" ry=\"10\" style=\"stroke: #A80036; stroke-width: 1.5;\" width=\"42\" x=\"127\" y=\"134\"/><text fill=\"#000000\" font-family=\"sans-serif\" font-size=\"12\" font-style=\"italic\" lengthAdjust=\"spacingAndGlyphs\" textLength=\"40\" x=\"128\" y=\"150.1387\">«part»</text><text fill=\"#000000\" font-family=\"sans-serif\" font-size=\"12\" lengthAdjust=\"spacingAndGlyphs\" textLength=\"8\" x=\"144\" y=\"164.1074\">p</text><line style=\"stroke: #A80036; stroke-width: 1.5;\" x1=\"128\" x2=\"168\" y1=\"171.9375\" y2=\"171.9375\"/></a><g id=\"E1.E5\"><a href=\"psysml:12bd5d36-0dbf-4715-90c3-b0b875efee55\" target=\"_top\" title=\"psysml:12bd5d36-0dbf-4715-90c3-b0b875efee55\" xlink:actuate=\"onRequest\" xlink:href=\"psysml:12bd5d36-0dbf-4715-90c3-b0b875efee55\" xlink:show=\"new\" xlink:title=\"psysml:12bd5d36-0dbf-4715-90c3-b0b875efee55\" xlink:type=\"simple\"><rect fill=\"#FEFECE\" filter=\"url(#f1mdyzwg0xnwhj)\" height=\"42.9375\" id=\"E5\" rx=\"10\" ry=\"10\" style=\"stroke: #A80036; stroke-width: 1.5;\" width=\"60\" x=\"32\" y=\"135.5\"/><text fill=\"#000000\" font-family=\"sans-serif\" font-size=\"12\" font-style=\"italic\" lengthAdjust=\"spacingAndGlyphs\" textLength=\"53\" x=\"35.5\" y=\"151.6387\">«action»</text><text fill=\"#000000\" font-family=\"sans-serif\" font-size=\"12\" lengthAdjust=\"spacingAndGlyphs\" textLength=\"20\" x=\"52\" y=\"165.6074\">act</text></a></g><ellipse cx=\"558\" cy=\"157\" fill=\"#000000\" filter=\"url(#f1mdyzwg0xnwhj)\" rx=\"10\" ry=\"10\" style=\"stroke: none; stroke-width: 1.0;\"/><ellipse cx=\"558\" cy=\"499.5\" fill=\"none\" filter=\"url(#f1mdyzwg0xnwhj)\" rx=\"10\" ry=\"10\" style=\"stroke: #000000; stroke-width: 1.0;\"/><ellipse cx=\"558.5\" cy=\"500\" fill=\"#000000\" rx=\"6\" ry=\"6\" style=\"stroke: none; stroke-width: 1.0;\"/><g id=\"E1.E6.E7\"><a href=\"psysml:1cabaaec-9539-448a-9df0-432fc817479b\" target=\"_top\" title=\"psysml:1cabaaec-9539-448a-9df0-432fc817479b\" xlink:actuate=\"onRequest\" xlink:href=\"psysml:1cabaaec-9539-448a-9df0-432fc817479b\" xlink:show=\"new\" xlink:title=\"psysml:1cabaaec-9539-448a-9df0-432fc817479b\" xlink:type=\"simple\"><rect fill=\"#FEFECE\" filter=\"url(#f1mdyzwg0xnwhj)\" height=\"40\" id=\"E7\" rx=\"10\" ry=\"10\" style=\"stroke: #A80036; stroke-width: 1.5;\" width=\"50\" x=\"533\" y=\"247.5\"/><text fill=\"#000000\" font-family=\"sans-serif\" font-size=\"12\" lengthAdjust=\"spacingAndGlyphs\" textLength=\"16\" x=\"550\" y=\"263.6387\">S1</text></a></g><g id=\"E1.E6.E8\"><a href=\"psysml:7a7b17a9-f595-41dc-990f-a07a1c17ba3c\" target=\"_top\" title=\"psysml:7a7b17a9-f595-41dc-990f-a07a1c17ba3c\" xlink:actuate=\"onRequest\" xlink:href=\"psysml:7a7b17a9-f595-41dc-990f-a07a1c17ba3c\" xlink:show=\"new\" xlink:title=\"psysml:7a7b17a9-f595-41dc-990f-a07a1c17ba3c\" xlink:type=\"simple\"><rect fill=\"#FEFECE\" filter=\"url(#f1mdyzwg0xnwhj)\" height=\"47.9375\" id=\"E8\" rx=\"10\" ry=\"10\" style=\"stroke: #A80036; stroke-width: 1.5;\" width=\"50\" x=\"533\" y=\"364.5\"/><text fill=\"#000000\" font-family=\"sans-serif\" font-size=\"12\" lengthAdjust=\"spacingAndGlyphs\" textLength=\"16\" x=\"550\" y=\"380.6387\">S2</text><line style=\"stroke: #A80036; stroke-width: 1.0;\" x1=\"533\" x2=\"583\" y1=\"388.4688\" y2=\"388.4688\"/><text fill=\"#000000\" font-family=\"sans-serif\" font-size=\"12\" font-weight=\"bold\" lengthAdjust=\"spacingAndGlyphs\" textLength=\"18\" x=\"538\" y=\"401.6074\">do</text><text fill=\"#000000\" font-family=\"sans-serif\" font-size=\"12\" lengthAdjust=\"spacingAndGlyphs\" textLength=\"4\" x=\"556\" y=\"401.6074\">/</text></a></g><!--MD5=[5a531d3a85f3339e6e197084acb48195]\n",
       "link *start*E6 to E7--><a href=\"psysml:0b737fa2-1baa-4df5-913b-a090a33456a1\" target=\"_top\" title=\"psysml:0b737fa2-1baa-4df5-913b-a090a33456a1\" xlink:actuate=\"onRequest\" xlink:href=\"psysml:0b737fa2-1baa-4df5-913b-a090a33456a1\" xlink:show=\"new\" xlink:title=\"psysml:0b737fa2-1baa-4df5-913b-a090a33456a1\" xlink:type=\"simple\"><path d=\"M558,167.25 C558,183.64 558,218.28 558,241.97 \" fill=\"none\" id=\"*start*E6-&gt;E7\" style=\"stroke: #A80036; stroke-width: 1.0;\"/><polygon fill=\"#A80036\" points=\"558,247.15,562,238.15,558,242.15,554,238.15,558,247.15\" style=\"stroke: #A80036; stroke-width: 1.0;\"/></a><!--MD5=[7ec9a8babba89ddcae1318ca9fb3c814]\n",
       "link E8 to *end*E6--><a href=\"psysml:a8c9411f-d651-41a0-86c1-118f6cba8c1d\" target=\"_top\" title=\"psysml:a8c9411f-d651-41a0-86c1-118f6cba8c1d\" xlink:actuate=\"onRequest\" xlink:href=\"psysml:a8c9411f-d651-41a0-86c1-118f6cba8c1d\" xlink:show=\"new\" xlink:title=\"psysml:a8c9411f-d651-41a0-86c1-118f6cba8c1d\" xlink:type=\"simple\"><path d=\"M558,412.62 C558,434.25 558,465.89 558,484.12 \" fill=\"none\" id=\"E8-&gt;*end*E6\" style=\"stroke: #A80036; stroke-width: 1.0;\"/><polygon fill=\"#A80036\" points=\"558,489.32,562,480.32,558,484.32,554,480.32,558,489.32\" style=\"stroke: #A80036; stroke-width: 1.0;\"/><text fill=\"#000000\" font-family=\"sans-serif\" font-size=\"13\" lengthAdjust=\"spacingAndGlyphs\" textLength=\"23\" x=\"559\" y=\"455.5669\">Exit</text></a><!--MD5=[79bc8f324ef4d02c541433f2e6e513c3]\n",
       "link E7 to E8--><a href=\"psysml:eefcc534-c981-4425-9bf3-38251bd12a49\" target=\"_top\" title=\"psysml:eefcc534-c981-4425-9bf3-38251bd12a49\" xlink:actuate=\"onRequest\" xlink:href=\"psysml:eefcc534-c981-4425-9bf3-38251bd12a49\" xlink:show=\"new\" xlink:title=\"psysml:eefcc534-c981-4425-9bf3-38251bd12a49\" xlink:type=\"simple\"><path d=\"M532.93,280.38 C518.69,288.62 502.12,301.06 494,317.5 C483.11,339.55 506.72,359.7 528.27,372.66 \" fill=\"none\" id=\"E7-&gt;E8\" style=\"stroke: #A80036; stroke-width: 1.0;\"/><polygon fill=\"#A80036\" points=\"532.83,375.32,527.0682,367.3324,528.5101,372.8024,523.0401,374.2443,532.83,375.32\" style=\"stroke: #A80036; stroke-width: 1.0;\"/><text fill=\"#000000\" font-family=\"sans-serif\" font-size=\"13\" lengthAdjust=\"spacingAndGlyphs\" textLength=\"81\" x=\"495\" y=\"330.5669\">Sig /action D</text></a><!--MD5=[bfa3c8b0d15052fdf50ae9310b491027]\n",
       "link E8 to E7--><a href=\"psysml:bcd703ca-2055-4c24-98bc-6c579eb31483\" target=\"_top\" title=\"psysml:bcd703ca-2055-4c24-98bc-6c579eb31483\" xlink:actuate=\"onRequest\" xlink:href=\"psysml:bcd703ca-2055-4c24-98bc-6c579eb31483\" xlink:show=\"new\" xlink:title=\"psysml:bcd703ca-2055-4c24-98bc-6c579eb31483\" xlink:type=\"simple\"><path d=\"M572.17,364.49 C578.81,350.98 584.56,333.48 581,317.5 C579.1,308.99 575.56,300.22 571.82,292.49 \" fill=\"none\" id=\"E8-&gt;E7\" style=\"stroke: #A80036; stroke-width: 1.0;\"/><polygon fill=\"#A80036\" points=\"569.47,287.82,569.9298,297.6581,571.7118,292.2893,577.0806,294.0713,569.47,287.82\" style=\"stroke: #A80036; stroke-width: 1.0;\"/><text fill=\"#000000\" font-family=\"sans-serif\" font-size=\"13\" lengthAdjust=\"spacingAndGlyphs\" textLength=\"135\" x=\"583\" y=\"330.5669\">Sig [true]/send s to p</text></a><!--MD5=[07d835e8aa4a85307551b36202b38cf0]\n",
       "@startuml\r\n",
       "skinparam wrapWidth 300\r\n",
       "hide circle\r\n",
       "\r\n",
       "package \"StateTest\" as E1  [[psysml:a2ca8720-bd4b-4556-9b27-091331149f1f ]]  {\r\n",
       "comp def \"Sig\" as E2  <<(T,blue)attribute def>> [[psysml:9b0c6b07-76e0-48e6-88f4-e6a2c752e8e3 ]] {\r\n",
       "x\r\n",
       "}\r\n",
       "comp def \"Exit\" as E3  <<(T,blue)attribute def>> [[psysml:75ee6cec-68f4-495e-910b-3cf4854ee540 ]] {\r\n",
       "}\r\n",
       "comp usage \"p\" as E4  <<(T,blue)part>> [[psysml:d526add9-9153-4d94-82de-e3d10cc7d584 ]] {\r\n",
       "}\r\n",
       "rec usage \"act\" as E5  <<(T,blue)action>> [[psysml:12bd5d36-0dbf-4715-90c3-b0b875efee55 ]] {\r\n",
       "}\r\n",
       "\r\n",
       "rec def \"S\" as E6  <<(T,blue)state def>> [[psysml:b6aa9f25-72f8-4c2c-a7be-6589070e9bf6 ]] {\r\n",
       "rec usage \"S1\" as E7 [[psysml:1cabaaec-9539-448a-9df0-432fc817479b ]] {\r\n",
       "}\r\n",
       "\r\n",
       "rec usage \"S2\" as E8 [[psysml:7a7b17a9-f595-41dc-990f-a07a1c17ba3c ]] {\r\n",
       "desc \"S2\" as E8  : **do**/ \r\n",
       "}\r\n",
       "\r\n",
       "[*] - -> E7 [[psysml:0b737fa2-1baa-4df5-913b-a090a33456a1 ]] \r\n",
       "E8  - -> [*] [[psysml:a8c9411f-d651-41a0-86c1-118f6cba8c1d ]] : Exit \r\n",
       "desc \"S\" as E6  : **entry**/ A\r\n",
       "desc \"S\" as E6  : **do**/ B\r\n",
       "desc \"S\" as E6  : **exit**/ act \r\n",
       "}\r\n",
       "\r\n",
       "E7  - -> E8 [[psysml:eefcc534-c981-4425-9bf3-38251bd12a49 ]] : Sig /action D\r\n",
       "E8  - -> E7 [[psysml:bcd703ca-2055-4c24-98bc-6c579eb31483 ]] : Sig [true]/send s to p\r\n",
       "}\r\n",
       "@enduml\r\n",
       "\n",
       "PlantUML version 1.2020.13(Sat Jun 13 12:26:38 UTC 2020)\n",
       "(EPL source distribution)\n",
       "Java Runtime: OpenJDK Runtime Environment\n",
       "JVM: OpenJDK 64-Bit Server VM\n",
       "Default Encoding: UTF-8\n",
       "Language: en\n",
       "Country: null\n",
       "--></g></svg>"
      ]
     },
     "execution_count": 29,
     "metadata": {},
     "output_type": "execute_result"
    }
   ],
   "source": [
    "%viz --style=\"STDCOLOR\" --view=\"MIXED\" \"StateTest\""
   ]
  },
  {
   "cell_type": "code",
   "execution_count": 30,
   "id": "destroyed-villa",
   "metadata": {
    "execution": {
     "iopub.execute_input": "2021-03-25T15:07:00.143758Z",
     "iopub.status.busy": "2021-03-25T15:07:00.142416Z",
     "iopub.status.idle": "2021-03-25T15:07:00.316133Z",
     "shell.execute_reply": "2021-03-25T15:07:00.314459Z"
    }
   },
   "outputs": [
    {
     "data": {
      "image/svg+xml": [
       "<?xml version=\"1.0\" encoding=\"UTF-8\" standalone=\"no\"?><svg xmlns=\"http://www.w3.org/2000/svg\" xmlns:xlink=\"http://www.w3.org/1999/xlink\" contentScriptType=\"application/ecmascript\" contentStyleType=\"text/css\" height=\"569px\" preserveAspectRatio=\"none\" style=\"width:923px;height:569px;\" version=\"1.1\" viewBox=\"0 0 923 569\" width=\"923px\" zoomAndPan=\"magnify\"><defs><filter height=\"300%\" id=\"f1k97cae6i3gq5\" width=\"300%\" x=\"-1\" y=\"-1\"><feGaussianBlur result=\"blurOut\" stdDeviation=\"2.0\"/><feColorMatrix in=\"blurOut\" result=\"blurOut2\" type=\"matrix\" values=\"0 0 0 0 0 0 0 0 0 0 0 0 0 0 0 0 0 0 .4 0\"/><feOffset dx=\"4.0\" dy=\"4.0\" in=\"blurOut2\" result=\"blurOut3\"/><feBlend in=\"SourceGraphic\" in2=\"blurOut3\" mode=\"normal\"/></filter></defs><g><!--MD5=[fbc87193dbaf4d95561dea2c320d4a47]\n",
       "cluster E1--><a href=\"psysml:a2ca8720-bd4b-4556-9b27-091331149f1f\" target=\"_top\" title=\"psysml:a2ca8720-bd4b-4556-9b27-091331149f1f\" xlink:actuate=\"onRequest\" xlink:href=\"psysml:a2ca8720-bd4b-4556-9b27-091331149f1f\" xlink:show=\"new\" xlink:title=\"psysml:a2ca8720-bd4b-4556-9b27-091331149f1f\" xlink:type=\"simple\"><polygon fill=\"#FFFFFF\" filter=\"url(#f1k97cae6i3gq5)\" points=\"16,6,98,6,105,28.2969,901,28.2969,901,557.5,16,557.5,16,6\" style=\"stroke: #000000; stroke-width: 1.5;\"/><line style=\"stroke: #000000; stroke-width: 1.5;\" x1=\"16\" x2=\"105\" y1=\"28.2969\" y2=\"28.2969\"/><text fill=\"#000000\" font-family=\"sans-serif\" font-size=\"14\" font-weight=\"bold\" lengthAdjust=\"spacingAndGlyphs\" textLength=\"76\" x=\"20\" y=\"20.9951\">StateTest</text></a><!--MD5=[14e3b0961a2654348d326746436168a1]\n",
       "cluster E6--><a href=\"psysml:b6aa9f25-72f8-4c2c-a7be-6589070e9bf6\" target=\"_top\" title=\"psysml:b6aa9f25-72f8-4c2c-a7be-6589070e9bf6\" xlink:actuate=\"onRequest\" xlink:href=\"psysml:b6aa9f25-72f8-4c2c-a7be-6589070e9bf6\" xlink:show=\"new\" xlink:title=\"psysml:b6aa9f25-72f8-4c2c-a7be-6589070e9bf6\" xlink:type=\"simple\"><rect fill=\"#FFFFFF\" filter=\"url(#f1k97cae6i3gq5)\" height=\"484.5\" id=\"E6\" style=\"stroke: #A80036; stroke-width: 1.5;\" width=\"327\" x=\"550\" y=\"49\"/><rect fill=\"#FEFECE\" height=\"37.9375\" style=\"stroke: #A80036; stroke-width: 1.5;\" width=\"327\" x=\"550\" y=\"49\"/><text fill=\"#000000\" font-family=\"sans-serif\" font-size=\"12\" font-style=\"italic\" lengthAdjust=\"spacingAndGlyphs\" textLength=\"71\" x=\"678\" y=\"65.1387\">«state def»</text><text fill=\"#000000\" font-family=\"sans-serif\" font-size=\"12\" lengthAdjust=\"spacingAndGlyphs\" textLength=\"8\" x=\"709.5\" y=\"79.1074\">S</text><line style=\"stroke: #A80036; stroke-width: 1.0;\" x1=\"550\" x2=\"877\" y1=\"132.8438\" y2=\"132.8438\"/><text fill=\"#000000\" font-family=\"sans-serif\" font-size=\"12\" font-weight=\"bold\" lengthAdjust=\"spacingAndGlyphs\" textLength=\"38\" x=\"555\" y=\"100.0762\">entry</text><text fill=\"#000000\" font-family=\"sans-serif\" font-size=\"12\" lengthAdjust=\"spacingAndGlyphs\" textLength=\"16\" x=\"593\" y=\"100.0762\">/ A</text><text fill=\"#000000\" font-family=\"sans-serif\" font-size=\"12\" font-weight=\"bold\" lengthAdjust=\"spacingAndGlyphs\" textLength=\"18\" x=\"555\" y=\"114.0449\">do</text><text fill=\"#000000\" font-family=\"sans-serif\" font-size=\"12\" lengthAdjust=\"spacingAndGlyphs\" textLength=\"16\" x=\"573\" y=\"114.0449\">/ B</text><text fill=\"#000000\" font-family=\"sans-serif\" font-size=\"12\" font-weight=\"bold\" lengthAdjust=\"spacingAndGlyphs\" textLength=\"26\" x=\"555\" y=\"128.0137\">exit</text><text fill=\"#000000\" font-family=\"sans-serif\" font-size=\"12\" lengthAdjust=\"spacingAndGlyphs\" textLength=\"28\" x=\"581\" y=\"128.0137\">/ act</text></a><!--MD5=[b4997ac47864f28c2f74865a473b2911]\n",
       "class E2--><a href=\"psysml:9b0c6b07-76e0-48e6-88f4-e6a2c752e8e3\" target=\"_top\" title=\"psysml:9b0c6b07-76e0-48e6-88f4-e6a2c752e8e3\" xlink:actuate=\"onRequest\" xlink:href=\"psysml:9b0c6b07-76e0-48e6-88f4-e6a2c752e8e3\" xlink:show=\"new\" xlink:title=\"psysml:9b0c6b07-76e0-48e6-88f4-e6a2c752e8e3\" xlink:type=\"simple\"><rect fill=\"#FEFECE\" filter=\"url(#f1k97cae6i3gq5)\" height=\"58.7422\" id=\"E2\" style=\"stroke: #A80036; stroke-width: 1.5;\" width=\"121\" x=\"412.5\" y=\"127.5\"/><ellipse cx=\"427.5\" cy=\"146.4688\" fill=\"#A52A2A\" rx=\"11\" ry=\"11\" style=\"stroke: #A80036; stroke-width: 1.0;\"/><path d=\"M427.0938,142.2813 L427.0938,150.2656 L427.75,150.2656 Q429.1875,150.2656 429.7969,149.3594 Q430.4219,148.4375 430.4219,146.2656 Q430.4219,144.0938 429.7969,143.1875 Q429.1875,142.2813 427.75,142.2813 L427.0938,142.2813 Z M424.6406,140.0781 L427.2656,140.0781 Q430.2969,140.0781 431.625,141.5313 Q432.9688,142.9688 432.9688,146.2656 Q432.9688,149.5625 431.625,151.0156 Q430.2969,152.4688 427.2656,152.4688 L424.6406,152.4688 L424.6406,140.0781 Z \"/><text fill=\"#000000\" font-family=\"sans-serif\" font-size=\"12\" font-style=\"italic\" lengthAdjust=\"spacingAndGlyphs\" textLength=\"93\" x=\"439.5\" y=\"143.6387\">«attribute def»</text><text fill=\"#000000\" font-family=\"sans-serif\" font-size=\"12\" lengthAdjust=\"spacingAndGlyphs\" textLength=\"19\" x=\"476.5\" y=\"157.6074\">Sig</text><line style=\"stroke: #A80036; stroke-width: 1.5;\" x1=\"413.5\" x2=\"532.5\" y1=\"165.4375\" y2=\"165.4375\"/><text fill=\"#000000\" font-family=\"sans-serif\" font-size=\"11\" lengthAdjust=\"spacingAndGlyphs\" textLength=\"6\" x=\"418.5\" y=\"179.6479\">x</text></a><!--MD5=[09b614a08d8cba4a07c9adeb5e0fee81]\n",
       "class E3--><a href=\"psysml:75ee6cec-68f4-495e-910b-3cf4854ee540\" target=\"_top\" title=\"psysml:75ee6cec-68f4-495e-910b-3cf4854ee540\" xlink:actuate=\"onRequest\" xlink:href=\"psysml:75ee6cec-68f4-495e-910b-3cf4854ee540\" xlink:show=\"new\" xlink:title=\"psysml:75ee6cec-68f4-495e-910b-3cf4854ee540\" xlink:type=\"simple\"><rect fill=\"#FEFECE\" filter=\"url(#f1k97cae6i3gq5)\" height=\"45.9375\" id=\"E3\" style=\"stroke: #A80036; stroke-width: 1.5;\" width=\"121\" x=\"256.5\" y=\"134\"/><ellipse cx=\"271.5\" cy=\"152.9688\" fill=\"#A52A2A\" rx=\"11\" ry=\"11\" style=\"stroke: #A80036; stroke-width: 1.0;\"/><path d=\"M271.0938,148.7813 L271.0938,156.7656 L271.75,156.7656 Q273.1875,156.7656 273.7969,155.8594 Q274.4219,154.9375 274.4219,152.7656 Q274.4219,150.5938 273.7969,149.6875 Q273.1875,148.7813 271.75,148.7813 L271.0938,148.7813 Z M268.6406,146.5781 L271.2656,146.5781 Q274.2969,146.5781 275.625,148.0313 Q276.9688,149.4688 276.9688,152.7656 Q276.9688,156.0625 275.625,157.5156 Q274.2969,158.9688 271.2656,158.9688 L268.6406,158.9688 L268.6406,146.5781 Z \"/><text fill=\"#000000\" font-family=\"sans-serif\" font-size=\"12\" font-style=\"italic\" lengthAdjust=\"spacingAndGlyphs\" textLength=\"93\" x=\"283.5\" y=\"150.1387\">«attribute def»</text><text fill=\"#000000\" font-family=\"sans-serif\" font-size=\"12\" lengthAdjust=\"spacingAndGlyphs\" textLength=\"22\" x=\"319\" y=\"164.1074\">Exit</text><line style=\"stroke: #A80036; stroke-width: 1.5;\" x1=\"257.5\" x2=\"376.5\" y1=\"171.9375\" y2=\"171.9375\"/></a><!--MD5=[ebbe1d658d1005bcc118a6aa81145e00]\n",
       "class E4--><a href=\"psysml:d526add9-9153-4d94-82de-e3d10cc7d584\" target=\"_top\" title=\"psysml:d526add9-9153-4d94-82de-e3d10cc7d584\" xlink:actuate=\"onRequest\" xlink:href=\"psysml:d526add9-9153-4d94-82de-e3d10cc7d584\" xlink:show=\"new\" xlink:title=\"psysml:d526add9-9153-4d94-82de-e3d10cc7d584\" xlink:type=\"simple\"><rect fill=\"#FEFECE\" filter=\"url(#f1k97cae6i3gq5)\" height=\"45.9375\" id=\"E4\" rx=\"10\" ry=\"10\" style=\"stroke: #A80036; stroke-width: 1.5;\" width=\"68\" x=\"153\" y=\"134\"/><ellipse cx=\"168\" cy=\"152.9688\" fill=\"#32CD32\" rx=\"11\" ry=\"11\" style=\"stroke: #A80036; stroke-width: 1.0;\"/><path d=\"M167.7969,148.6406 L167.7969,152.2656 L168.7969,152.2656 Q170,152.2656 170.4844,151.8594 Q170.9688,151.4531 170.9688,150.4531 Q170.9688,149.4531 170.4844,149.0469 Q170,148.6406 168.7969,148.6406 L167.7969,148.6406 Z M165.3438,146.5781 L168.7031,146.5781 Q171.2656,146.5781 172.3906,147.5 Q173.5156,148.4063 173.5156,150.4531 Q173.5156,152.5 172.3906,153.4219 Q171.2656,154.3281 168.7031,154.3281 L167.7969,154.3281 L167.7969,158.9688 L165.3438,158.9688 L165.3438,146.5781 Z \"/><text fill=\"#000000\" font-family=\"sans-serif\" font-size=\"12\" font-style=\"italic\" lengthAdjust=\"spacingAndGlyphs\" textLength=\"40\" x=\"180\" y=\"150.1387\">«part»</text><text fill=\"#000000\" font-family=\"sans-serif\" font-size=\"12\" lengthAdjust=\"spacingAndGlyphs\" textLength=\"8\" x=\"196\" y=\"164.1074\">p</text><line style=\"stroke: #A80036; stroke-width: 1.5;\" x1=\"154\" x2=\"220\" y1=\"171.9375\" y2=\"171.9375\"/></a><g id=\"E1.E5\"><a href=\"psysml:12bd5d36-0dbf-4715-90c3-b0b875efee55\" target=\"_top\" title=\"psysml:12bd5d36-0dbf-4715-90c3-b0b875efee55\" xlink:actuate=\"onRequest\" xlink:href=\"psysml:12bd5d36-0dbf-4715-90c3-b0b875efee55\" xlink:show=\"new\" xlink:title=\"psysml:12bd5d36-0dbf-4715-90c3-b0b875efee55\" xlink:type=\"simple\"><rect fill=\"#FEFECE\" filter=\"url(#f1k97cae6i3gq5)\" height=\"42.9375\" id=\"E5\" rx=\"10\" ry=\"10\" style=\"stroke: #A80036; stroke-width: 1.5;\" width=\"86\" x=\"32\" y=\"135.5\"/><ellipse cx=\"49.25\" cy=\"154.4688\" fill=\"#FFA500\" rx=\"11\" ry=\"11\" style=\"stroke: #A80036; stroke-width: 1.0;\"/><path d=\"M45.125,156.3906 L45.125,148.5781 L47.5781,148.5781 L47.5781,157.0156 Q47.5781,157.9375 48.0469,158.4688 Q48.5313,159 49.3594,159 Q50.2031,159 50.6719,158.4688 Q51.1406,157.9375 51.1406,157.0156 L51.1406,148.5781 L53.5938,148.5781 L53.5938,156.3906 Q53.5938,158.9219 52.5938,160.0625 Q51.5938,161.2031 49.3594,161.2031 Q47.1406,161.2031 46.125,160.0625 Q45.125,158.9219 45.125,156.3906 Z \"/><text fill=\"#000000\" font-family=\"sans-serif\" font-size=\"12\" font-style=\"italic\" lengthAdjust=\"spacingAndGlyphs\" textLength=\"53\" x=\"61.75\" y=\"151.6387\">«action»</text><text fill=\"#000000\" font-family=\"sans-serif\" font-size=\"12\" lengthAdjust=\"spacingAndGlyphs\" textLength=\"20\" x=\"78.25\" y=\"165.6074\">act</text></a></g><ellipse cx=\"662\" cy=\"157\" fill=\"#000000\" filter=\"url(#f1k97cae6i3gq5)\" rx=\"10\" ry=\"10\" style=\"stroke: none; stroke-width: 1.0;\"/><ellipse cx=\"662\" cy=\"507.5\" fill=\"none\" filter=\"url(#f1k97cae6i3gq5)\" rx=\"10\" ry=\"10\" style=\"stroke: #000000; stroke-width: 1.0;\"/><ellipse cx=\"662.5\" cy=\"508\" fill=\"#000000\" rx=\"6\" ry=\"6\" style=\"stroke: none; stroke-width: 1.0;\"/><g id=\"E1.E6.E7\"><a href=\"psysml:1cabaaec-9539-448a-9df0-432fc817479b\" target=\"_top\" title=\"psysml:1cabaaec-9539-448a-9df0-432fc817479b\" xlink:actuate=\"onRequest\" xlink:href=\"psysml:1cabaaec-9539-448a-9df0-432fc817479b\" xlink:show=\"new\" xlink:title=\"psysml:1cabaaec-9539-448a-9df0-432fc817479b\" xlink:type=\"simple\"><rect fill=\"#FEFECE\" filter=\"url(#f1k97cae6i3gq5)\" height=\"40\" id=\"E7\" rx=\"10\" ry=\"10\" style=\"stroke: #A80036; stroke-width: 1.5;\" width=\"53\" x=\"635.5\" y=\"247.5\"/><ellipse cx=\"652.75\" cy=\"263.5\" fill=\"#B6DBBB\" rx=\"11\" ry=\"11\" style=\"stroke: #A80036; stroke-width: 1.0;\"/><path d=\"M648.625,265.4219 L648.625,257.6094 L651.0781,257.6094 L651.0781,266.0469 Q651.0781,266.9688 651.5469,267.5 Q652.0313,268.0313 652.8594,268.0313 Q653.7031,268.0313 654.1719,267.5 Q654.6406,266.9688 654.6406,266.0469 L654.6406,257.6094 L657.0938,257.6094 L657.0938,265.4219 Q657.0938,267.9531 656.0938,269.0938 Q655.0938,270.2344 652.8594,270.2344 Q650.6406,270.2344 649.625,269.0938 Q648.625,267.9531 648.625,265.4219 Z \"/><text fill=\"#000000\" font-family=\"sans-serif\" font-size=\"12\" lengthAdjust=\"spacingAndGlyphs\" textLength=\"16\" x=\"667.25\" y=\"267.6543\">S1</text></a></g><g id=\"E1.E6.E8\"><a href=\"psysml:7a7b17a9-f595-41dc-990f-a07a1c17ba3c\" target=\"_top\" title=\"psysml:7a7b17a9-f595-41dc-990f-a07a1c17ba3c\" xlink:actuate=\"onRequest\" xlink:href=\"psysml:7a7b17a9-f595-41dc-990f-a07a1c17ba3c\" xlink:show=\"new\" xlink:title=\"psysml:7a7b17a9-f595-41dc-990f-a07a1c17ba3c\" xlink:type=\"simple\"><rect fill=\"#FEFECE\" filter=\"url(#f1k97cae6i3gq5)\" height=\"55.9688\" id=\"E8\" rx=\"10\" ry=\"10\" style=\"stroke: #A80036; stroke-width: 1.5;\" width=\"58\" x=\"633\" y=\"364.5\"/><ellipse cx=\"652.5\" cy=\"380.5\" fill=\"#B6DBBB\" rx=\"11\" ry=\"11\" style=\"stroke: #A80036; stroke-width: 1.0;\"/><path d=\"M648.375,382.4219 L648.375,374.6094 L650.8281,374.6094 L650.8281,383.0469 Q650.8281,383.9688 651.2969,384.5 Q651.7813,385.0313 652.6094,385.0313 Q653.4531,385.0313 653.9219,384.5 Q654.3906,383.9688 654.3906,383.0469 L654.3906,374.6094 L656.8438,374.6094 L656.8438,382.4219 Q656.8438,384.9531 655.8438,386.0938 Q654.8438,387.2344 652.6094,387.2344 Q650.3906,387.2344 649.375,386.0938 Q648.375,384.9531 648.375,382.4219 Z \"/><text fill=\"#000000\" font-family=\"sans-serif\" font-size=\"12\" lengthAdjust=\"spacingAndGlyphs\" textLength=\"16\" x=\"667.5\" y=\"384.6543\">S2</text><line style=\"stroke: #A80036; stroke-width: 1.0;\" x1=\"633\" x2=\"691\" y1=\"396.5\" y2=\"396.5\"/><text fill=\"#000000\" font-family=\"sans-serif\" font-size=\"12\" font-weight=\"bold\" lengthAdjust=\"spacingAndGlyphs\" textLength=\"18\" x=\"638\" y=\"409.6387\">do</text><text fill=\"#000000\" font-family=\"sans-serif\" font-size=\"12\" lengthAdjust=\"spacingAndGlyphs\" textLength=\"4\" x=\"656\" y=\"409.6387\">/</text></a></g><!--MD5=[5a531d3a85f3339e6e197084acb48195]\n",
       "link *start*E6 to E7--><a href=\"psysml:0b737fa2-1baa-4df5-913b-a090a33456a1\" target=\"_top\" title=\"psysml:0b737fa2-1baa-4df5-913b-a090a33456a1\" xlink:actuate=\"onRequest\" xlink:href=\"psysml:0b737fa2-1baa-4df5-913b-a090a33456a1\" xlink:show=\"new\" xlink:title=\"psysml:0b737fa2-1baa-4df5-913b-a090a33456a1\" xlink:type=\"simple\"><path d=\"M662,167.25 C662,183.64 662,218.28 662,241.97 \" fill=\"none\" id=\"*start*E6-&gt;E7\" style=\"stroke: #A80036; stroke-width: 1.0;\"/><polygon fill=\"#A80036\" points=\"662,247.15,666,238.15,662,242.15,658,238.15,662,247.15\" style=\"stroke: #A80036; stroke-width: 1.0;\"/></a><!--MD5=[7ec9a8babba89ddcae1318ca9fb3c814]\n",
       "link E8 to *end*E6--><a href=\"psysml:a8c9411f-d651-41a0-86c1-118f6cba8c1d\" target=\"_top\" title=\"psysml:a8c9411f-d651-41a0-86c1-118f6cba8c1d\" xlink:actuate=\"onRequest\" xlink:href=\"psysml:a8c9411f-d651-41a0-86c1-118f6cba8c1d\" xlink:show=\"new\" xlink:title=\"psysml:a8c9411f-d651-41a0-86c1-118f6cba8c1d\" xlink:type=\"simple\"><path d=\"M662,420.57 C662,443.05 662,474.17 662,492.13 \" fill=\"none\" id=\"E8-&gt;*end*E6\" style=\"stroke: #A80036; stroke-width: 1.0;\"/><polygon fill=\"#A80036\" points=\"662,497.26,666,488.26,662,492.26,658,488.26,662,497.26\" style=\"stroke: #A80036; stroke-width: 1.0;\"/><text fill=\"#000000\" font-family=\"sans-serif\" font-size=\"13\" lengthAdjust=\"spacingAndGlyphs\" textLength=\"23\" x=\"663\" y=\"463.5669\">Exit</text></a><!--MD5=[79bc8f324ef4d02c541433f2e6e513c3]\n",
       "link E7 to E8--><a href=\"psysml:eefcc534-c981-4425-9bf3-38251bd12a49\" target=\"_top\" title=\"psysml:eefcc534-c981-4425-9bf3-38251bd12a49\" xlink:actuate=\"onRequest\" xlink:href=\"psysml:eefcc534-c981-4425-9bf3-38251bd12a49\" xlink:show=\"new\" xlink:title=\"psysml:eefcc534-c981-4425-9bf3-38251bd12a49\" xlink:type=\"simple\"><path d=\"M635.25,280.67 C613.47,292.49 587.88,311.93 598,334.5 C604.51,349.01 616.74,361.35 628.79,370.79 \" fill=\"none\" id=\"E7-&gt;E8\" style=\"stroke: #A80036; stroke-width: 1.0;\"/><polygon fill=\"#A80036\" points=\"632.86,373.88,628.0945,365.2609,628.872,370.864,623.2689,371.6416,632.86,373.88\" style=\"stroke: #A80036; stroke-width: 1.0;\"/><text fill=\"#000000\" font-family=\"sans-serif\" font-size=\"13\" lengthAdjust=\"spacingAndGlyphs\" textLength=\"81\" x=\"599\" y=\"330.5669\">Sig /action D</text></a><!--MD5=[bfa3c8b0d15052fdf50ae9310b491027]\n",
       "link E8 to E7--><a href=\"psysml:bcd703ca-2055-4c24-98bc-6c579eb31483\" target=\"_top\" title=\"psysml:bcd703ca-2055-4c24-98bc-6c579eb31483\" xlink:actuate=\"onRequest\" xlink:href=\"psysml:bcd703ca-2055-4c24-98bc-6c579eb31483\" xlink:show=\"new\" xlink:title=\"psysml:bcd703ca-2055-4c24-98bc-6c579eb31483\" xlink:type=\"simple\"><path d=\"M677.55,364.38 C683.68,350.5 688.51,333.26 685,317.5 C683.1,308.99 679.56,300.22 675.82,292.49 \" fill=\"none\" id=\"E8-&gt;E7\" style=\"stroke: #A80036; stroke-width: 1.0;\"/><polygon fill=\"#A80036\" points=\"673.47,287.82,673.9298,297.6581,675.7118,292.2893,681.0806,294.0713,673.47,287.82\" style=\"stroke: #A80036; stroke-width: 1.0;\"/><text fill=\"#000000\" font-family=\"sans-serif\" font-size=\"13\" lengthAdjust=\"spacingAndGlyphs\" textLength=\"135\" x=\"687\" y=\"330.5669\">Sig [true]/send s to p</text></a><!--MD5=[e8e600a810642c638b9d17034610d757]\n",
       "@startuml\r\n",
       " \r\n",
       "package \"StateTest\" as E1  [[psysml:a2ca8720-bd4b-4556-9b27-091331149f1f ]]  {\r\n",
       "comp def \"Sig\" as E2  <<(D,brown)attribute def>> [[psysml:9b0c6b07-76e0-48e6-88f4-e6a2c752e8e3 ]] {\r\n",
       "x\r\n",
       "}\r\n",
       "comp def \"Exit\" as E3  <<(D,brown)attribute def>> [[psysml:75ee6cec-68f4-495e-910b-3cf4854ee540 ]] {\r\n",
       "}\r\n",
       "comp usage \"p\" as E4  << (P,limegreen) part>> [[psysml:d526add9-9153-4d94-82de-e3d10cc7d584 ]] {\r\n",
       "}\r\n",
       "rec usage \"act\" as E5  <<(U,orange)action>> [[psysml:12bd5d36-0dbf-4715-90c3-b0b875efee55 ]] {\r\n",
       "}\r\n",
       "\r\n",
       "rec def \"S\" as E6  <<(D,brown)state def>> [[psysml:b6aa9f25-72f8-4c2c-a7be-6589070e9bf6 ]] {\r\n",
       "rec usage \"S1\" as E7 [[psysml:1cabaaec-9539-448a-9df0-432fc817479b ]] {\r\n",
       "}\r\n",
       "\r\n",
       "rec usage \"S2\" as E8 [[psysml:7a7b17a9-f595-41dc-990f-a07a1c17ba3c ]] {\r\n",
       "desc \"S2\" as E8  : **do**/ \r\n",
       "}\r\n",
       "\r\n",
       "[*] - -> E7 [[psysml:0b737fa2-1baa-4df5-913b-a090a33456a1 ]] \r\n",
       "E8  - -> [*] [[psysml:a8c9411f-d651-41a0-86c1-118f6cba8c1d ]] : Exit \r\n",
       "desc \"S\" as E6  : **entry**/ A\r\n",
       "desc \"S\" as E6  : **do**/ B\r\n",
       "desc \"S\" as E6  : **exit**/ act \r\n",
       "}\r\n",
       "\r\n",
       "E7  - -> E8 [[psysml:eefcc534-c981-4425-9bf3-38251bd12a49 ]] : Sig /action D\r\n",
       "E8  - -> E7 [[psysml:bcd703ca-2055-4c24-98bc-6c579eb31483 ]] : Sig [true]/send s to p\r\n",
       "}\r\n",
       "@enduml\r\n",
       "\n",
       "PlantUML version 1.2020.13(Sat Jun 13 12:26:38 UTC 2020)\n",
       "(EPL source distribution)\n",
       "Java Runtime: OpenJDK Runtime Environment\n",
       "JVM: OpenJDK 64-Bit Server VM\n",
       "Default Encoding: UTF-8\n",
       "Language: en\n",
       "Country: null\n",
       "--></g></svg>"
      ]
     },
     "execution_count": 30,
     "metadata": {},
     "output_type": "execute_result"
    }
   ],
   "source": [
    "%viz --style=\"PLANTUML\" --view=\"Default\" \"StateTest\""
   ]
  },
  {
   "cell_type": "code",
   "execution_count": 31,
   "id": "acute-question",
   "metadata": {
    "execution": {
     "iopub.execute_input": "2021-03-25T15:07:00.368276Z",
     "iopub.status.busy": "2021-03-25T15:07:00.367688Z",
     "iopub.status.idle": "2021-03-25T15:07:00.851248Z",
     "shell.execute_reply": "2021-03-25T15:07:00.849227Z"
    }
   },
   "outputs": [
    {
     "data": {
      "image/svg+xml": [
       "<?xml version=\"1.0\" encoding=\"UTF-8\" standalone=\"no\"?><svg xmlns=\"http://www.w3.org/2000/svg\" xmlns:xlink=\"http://www.w3.org/1999/xlink\" contentScriptType=\"application/ecmascript\" contentStyleType=\"text/css\" height=\"471px\" preserveAspectRatio=\"none\" style=\"width:702px;height:471px;\" version=\"1.1\" viewBox=\"0 0 702 471\" width=\"702px\" zoomAndPan=\"magnify\"><defs><filter height=\"300%\" id=\"flpyarfzkji4s\" width=\"300%\" x=\"-1\" y=\"-1\"><feGaussianBlur result=\"blurOut\" stdDeviation=\"2.0\"/><feColorMatrix in=\"blurOut\" result=\"blurOut2\" type=\"matrix\" values=\"0 0 0 0 0 0 0 0 0 0 0 0 0 0 0 0 0 0 .4 0\"/><feOffset dx=\"4.0\" dy=\"4.0\" in=\"blurOut2\" result=\"blurOut3\"/><feBlend in=\"SourceGraphic\" in2=\"blurOut3\" mode=\"normal\"/></filter></defs><g><!--MD5=[fbc87193dbaf4d95561dea2c320d4a47]\n",
       "cluster E1--><a href=\"psysml:a2ca8720-bd4b-4556-9b27-091331149f1f\" target=\"_top\" title=\"psysml:a2ca8720-bd4b-4556-9b27-091331149f1f\" xlink:actuate=\"onRequest\" xlink:href=\"psysml:a2ca8720-bd4b-4556-9b27-091331149f1f\" xlink:show=\"new\" xlink:title=\"psysml:a2ca8720-bd4b-4556-9b27-091331149f1f\" xlink:type=\"simple\"><polygon fill=\"#FFFFFF\" filter=\"url(#flpyarfzkji4s)\" points=\"16,6,98,6,105,28.2969,680,28.2969,680,459,16,459,16,6\" style=\"stroke: #000000; stroke-width: 1.5;\"/><line style=\"stroke: #000000; stroke-width: 1.5;\" x1=\"16\" x2=\"105\" y1=\"28.2969\" y2=\"28.2969\"/><text fill=\"#000000\" font-family=\"sans-serif\" font-size=\"14\" font-weight=\"bold\" lengthAdjust=\"spacingAndGlyphs\" textLength=\"76\" x=\"20\" y=\"20.9951\">StateTest</text></a><!--MD5=[b4997ac47864f28c2f74865a473b2911]\n",
       "class E2--><a href=\"psysml:9b0c6b07-76e0-48e6-88f4-e6a2c752e8e3\" target=\"_top\" title=\"psysml:9b0c6b07-76e0-48e6-88f4-e6a2c752e8e3\" xlink:actuate=\"onRequest\" xlink:href=\"psysml:9b0c6b07-76e0-48e6-88f4-e6a2c752e8e3\" xlink:show=\"new\" xlink:title=\"psysml:9b0c6b07-76e0-48e6-88f4-e6a2c752e8e3\" xlink:type=\"simple\"><rect fill=\"#FEFECE\" filter=\"url(#flpyarfzkji4s)\" height=\"58.7422\" id=\"E2\" style=\"stroke: #A80036; stroke-width: 1.5;\" width=\"121\" x=\"542.5\" y=\"91.5\"/><ellipse cx=\"557.5\" cy=\"110.4688\" fill=\"#A52A2A\" rx=\"11\" ry=\"11\" style=\"stroke: #A80036; stroke-width: 1.0;\"/><path d=\"M557.0938,106.2813 L557.0938,114.2656 L557.75,114.2656 Q559.1875,114.2656 559.7969,113.3594 Q560.4219,112.4375 560.4219,110.2656 Q560.4219,108.0938 559.7969,107.1875 Q559.1875,106.2813 557.75,106.2813 L557.0938,106.2813 Z M554.6406,104.0781 L557.2656,104.0781 Q560.2969,104.0781 561.625,105.5313 Q562.9688,106.9688 562.9688,110.2656 Q562.9688,113.5625 561.625,115.0156 Q560.2969,116.4688 557.2656,116.4688 L554.6406,116.4688 L554.6406,104.0781 Z \"/><text fill=\"#000000\" font-family=\"sans-serif\" font-size=\"12\" font-style=\"italic\" lengthAdjust=\"spacingAndGlyphs\" textLength=\"93\" x=\"569.5\" y=\"107.6387\">«attribute def»</text><text fill=\"#000000\" font-family=\"sans-serif\" font-size=\"12\" lengthAdjust=\"spacingAndGlyphs\" textLength=\"19\" x=\"606.5\" y=\"121.6074\">Sig</text><line style=\"stroke: #A80036; stroke-width: 1.5;\" x1=\"543.5\" x2=\"662.5\" y1=\"129.4375\" y2=\"129.4375\"/><text fill=\"#000000\" font-family=\"sans-serif\" font-size=\"11\" lengthAdjust=\"spacingAndGlyphs\" textLength=\"6\" x=\"548.5\" y=\"143.6479\">x</text></a><!--MD5=[09b614a08d8cba4a07c9adeb5e0fee81]\n",
       "class E3--><a href=\"psysml:75ee6cec-68f4-495e-910b-3cf4854ee540\" target=\"_top\" title=\"psysml:75ee6cec-68f4-495e-910b-3cf4854ee540\" xlink:actuate=\"onRequest\" xlink:href=\"psysml:75ee6cec-68f4-495e-910b-3cf4854ee540\" xlink:show=\"new\" xlink:title=\"psysml:75ee6cec-68f4-495e-910b-3cf4854ee540\" xlink:type=\"simple\"><rect fill=\"#FEFECE\" filter=\"url(#flpyarfzkji4s)\" height=\"45.9375\" id=\"E3\" style=\"stroke: #A80036; stroke-width: 1.5;\" width=\"121\" x=\"386.5\" y=\"98\"/><ellipse cx=\"401.5\" cy=\"116.9688\" fill=\"#A52A2A\" rx=\"11\" ry=\"11\" style=\"stroke: #A80036; stroke-width: 1.0;\"/><path d=\"M401.0938,112.7813 L401.0938,120.7656 L401.75,120.7656 Q403.1875,120.7656 403.7969,119.8594 Q404.4219,118.9375 404.4219,116.7656 Q404.4219,114.5938 403.7969,113.6875 Q403.1875,112.7813 401.75,112.7813 L401.0938,112.7813 Z M398.6406,110.5781 L401.2656,110.5781 Q404.2969,110.5781 405.625,112.0313 Q406.9688,113.4688 406.9688,116.7656 Q406.9688,120.0625 405.625,121.5156 Q404.2969,122.9688 401.2656,122.9688 L398.6406,122.9688 L398.6406,110.5781 Z \"/><text fill=\"#000000\" font-family=\"sans-serif\" font-size=\"12\" font-style=\"italic\" lengthAdjust=\"spacingAndGlyphs\" textLength=\"93\" x=\"413.5\" y=\"114.1387\">«attribute def»</text><text fill=\"#000000\" font-family=\"sans-serif\" font-size=\"12\" lengthAdjust=\"spacingAndGlyphs\" textLength=\"22\" x=\"449\" y=\"128.1074\">Exit</text><line style=\"stroke: #A80036; stroke-width: 1.5;\" x1=\"387.5\" x2=\"506.5\" y1=\"135.9375\" y2=\"135.9375\"/></a><!--MD5=[ebbe1d658d1005bcc118a6aa81145e00]\n",
       "class E4--><a href=\"psysml:d526add9-9153-4d94-82de-e3d10cc7d584\" target=\"_top\" title=\"psysml:d526add9-9153-4d94-82de-e3d10cc7d584\" xlink:actuate=\"onRequest\" xlink:href=\"psysml:d526add9-9153-4d94-82de-e3d10cc7d584\" xlink:show=\"new\" xlink:title=\"psysml:d526add9-9153-4d94-82de-e3d10cc7d584\" xlink:type=\"simple\"><rect fill=\"#FEFECE\" filter=\"url(#flpyarfzkji4s)\" height=\"45.9375\" id=\"E4\" rx=\"10\" ry=\"10\" style=\"stroke: #A80036; stroke-width: 1.5;\" width=\"68\" x=\"283\" y=\"98\"/><ellipse cx=\"298\" cy=\"116.9688\" fill=\"#32CD32\" rx=\"11\" ry=\"11\" style=\"stroke: #A80036; stroke-width: 1.0;\"/><path d=\"M297.7969,112.6406 L297.7969,116.2656 L298.7969,116.2656 Q300,116.2656 300.4844,115.8594 Q300.9688,115.4531 300.9688,114.4531 Q300.9688,113.4531 300.4844,113.0469 Q300,112.6406 298.7969,112.6406 L297.7969,112.6406 Z M295.3438,110.5781 L298.7031,110.5781 Q301.2656,110.5781 302.3906,111.5 Q303.5156,112.4063 303.5156,114.4531 Q303.5156,116.5 302.3906,117.4219 Q301.2656,118.3281 298.7031,118.3281 L297.7969,118.3281 L297.7969,122.9688 L295.3438,122.9688 L295.3438,110.5781 Z \"/><text fill=\"#000000\" font-family=\"sans-serif\" font-size=\"12\" font-style=\"italic\" lengthAdjust=\"spacingAndGlyphs\" textLength=\"40\" x=\"310\" y=\"114.1387\">«part»</text><text fill=\"#000000\" font-family=\"sans-serif\" font-size=\"12\" lengthAdjust=\"spacingAndGlyphs\" textLength=\"8\" x=\"326\" y=\"128.1074\">p</text><line style=\"stroke: #A80036; stroke-width: 1.5;\" x1=\"284\" x2=\"350\" y1=\"135.9375\" y2=\"135.9375\"/></a><!--MD5=[270fce915f116d4de14055a7c1d9a0f3]\n",
       "class E5--><a href=\"psysml:12bd5d36-0dbf-4715-90c3-b0b875efee55\" target=\"_top\" title=\"psysml:12bd5d36-0dbf-4715-90c3-b0b875efee55\" xlink:actuate=\"onRequest\" xlink:href=\"psysml:12bd5d36-0dbf-4715-90c3-b0b875efee55\" xlink:show=\"new\" xlink:title=\"psysml:12bd5d36-0dbf-4715-90c3-b0b875efee55\" xlink:type=\"simple\"><rect fill=\"#FEFECE\" filter=\"url(#flpyarfzkji4s)\" height=\"45.9375\" id=\"E5\" rx=\"10\" ry=\"10\" style=\"stroke: #A80036; stroke-width: 1.5;\" width=\"81\" x=\"166.5\" y=\"98\"/><ellipse cx=\"181.5\" cy=\"116.9688\" fill=\"#FFA500\" rx=\"11\" ry=\"11\" style=\"stroke: #A80036; stroke-width: 1.0;\"/><path d=\"M177.375,118.8906 L177.375,111.0781 L179.8281,111.0781 L179.8281,119.5156 Q179.8281,120.4375 180.2969,120.9688 Q180.7813,121.5 181.6094,121.5 Q182.4531,121.5 182.9219,120.9688 Q183.3906,120.4375 183.3906,119.5156 L183.3906,111.0781 L185.8438,111.0781 L185.8438,118.8906 Q185.8438,121.4219 184.8438,122.5625 Q183.8438,123.7031 181.6094,123.7031 Q179.3906,123.7031 178.375,122.5625 Q177.375,121.4219 177.375,118.8906 Z \"/><text fill=\"#000000\" font-family=\"sans-serif\" font-size=\"12\" font-style=\"italic\" lengthAdjust=\"spacingAndGlyphs\" textLength=\"53\" x=\"193.5\" y=\"114.1387\">«action»</text><text fill=\"#000000\" font-family=\"sans-serif\" font-size=\"12\" lengthAdjust=\"spacingAndGlyphs\" textLength=\"20\" x=\"210\" y=\"128.1074\">act</text><line style=\"stroke: #A80036; stroke-width: 1.5;\" x1=\"167.5\" x2=\"246.5\" y1=\"135.9375\" y2=\"135.9375\"/></a><!--MD5=[60a26617385b1d2d0262a64233df1f8d]\n",
       "class E6--><a href=\"psysml:b6aa9f25-72f8-4c2c-a7be-6589070e9bf6\" target=\"_top\" title=\"psysml:b6aa9f25-72f8-4c2c-a7be-6589070e9bf6\" xlink:actuate=\"onRequest\" xlink:href=\"psysml:b6aa9f25-72f8-4c2c-a7be-6589070e9bf6\" xlink:show=\"new\" xlink:title=\"psysml:b6aa9f25-72f8-4c2c-a7be-6589070e9bf6\" xlink:type=\"simple\"><rect fill=\"#FEFECE\" filter=\"url(#flpyarfzkji4s)\" height=\"160.375\" id=\"E6\" style=\"stroke: #A80036; stroke-width: 1.5;\" width=\"99\" x=\"32.5\" y=\"41\"/><ellipse cx=\"47.5\" cy=\"59.9688\" fill=\"#A52A2A\" rx=\"11\" ry=\"11\" style=\"stroke: #A80036; stroke-width: 1.0;\"/><path d=\"M47.0938,55.7813 L47.0938,63.7656 L47.75,63.7656 Q49.1875,63.7656 49.7969,62.8594 Q50.4219,61.9375 50.4219,59.7656 Q50.4219,57.5938 49.7969,56.6875 Q49.1875,55.7813 47.75,55.7813 L47.0938,55.7813 Z M44.6406,53.5781 L47.2656,53.5781 Q50.2969,53.5781 51.625,55.0313 Q52.9688,56.4688 52.9688,59.7656 Q52.9688,63.0625 51.625,64.5156 Q50.2969,65.9688 47.2656,65.9688 L44.6406,65.9688 L44.6406,53.5781 Z \"/><text fill=\"#000000\" font-family=\"sans-serif\" font-size=\"12\" font-style=\"italic\" lengthAdjust=\"spacingAndGlyphs\" textLength=\"71\" x=\"59.5\" y=\"57.1387\">«state def»</text><text fill=\"#000000\" font-family=\"sans-serif\" font-size=\"12\" lengthAdjust=\"spacingAndGlyphs\" textLength=\"8\" x=\"91\" y=\"71.1074\">S</text><line style=\"stroke: #A80036; stroke-width: 1.5;\" x1=\"33.5\" x2=\"130.5\" y1=\"78.9375\" y2=\"78.9375\"/><text fill=\"#000000\" font-family=\"sans-serif\" font-size=\"11\" lengthAdjust=\"spacingAndGlyphs\" textLength=\"17\" x=\"38.5\" y=\"109.9526\">act</text><text fill=\"#000000\" font-family=\"sans-serif\" font-size=\"11\" lengthAdjust=\"spacingAndGlyphs\" textLength=\"7\" x=\"38.5\" y=\"122.7573\">A</text><text fill=\"#000000\" font-family=\"sans-serif\" font-size=\"11\" lengthAdjust=\"spacingAndGlyphs\" textLength=\"8\" x=\"38.5\" y=\"135.562\">B</text><line style=\"stroke: #A80036; stroke-width: 1.0;\" x1=\"33.5\" x2=\"38.5\" y1=\"93.3398\" y2=\"93.3398\"/><text fill=\"#000000\" font-family=\"sans-serif\" font-size=\"11\" lengthAdjust=\"spacingAndGlyphs\" textLength=\"87\" x=\"38.5\" y=\"96.6479\">performActions</text><line style=\"stroke: #A80036; stroke-width: 1.0;\" x1=\"125.5\" x2=\"130.5\" y1=\"93.3398\" y2=\"93.3398\"/><text fill=\"#000000\" font-family=\"sans-serif\" font-size=\"11\" lengthAdjust=\"spacingAndGlyphs\" textLength=\"15\" x=\"38.5\" y=\"165.1714\">S1</text><line style=\"stroke: #A80036; stroke-width: 1.0;\" x1=\"33.5\" x2=\"64\" y1=\"148.5586\" y2=\"148.5586\"/><text fill=\"#000000\" font-family=\"sans-serif\" font-size=\"11\" lengthAdjust=\"spacingAndGlyphs\" textLength=\"36\" x=\"64\" y=\"151.8667\">states</text><line style=\"stroke: #A80036; stroke-width: 1.0;\" x1=\"100\" x2=\"130.5\" y1=\"148.5586\" y2=\"148.5586\"/><text fill=\"#000000\" font-family=\"sans-serif\" font-size=\"11\" lengthAdjust=\"spacingAndGlyphs\" textLength=\"7\" x=\"38.5\" y=\"194.7808\">T</text><line style=\"stroke: #A80036; stroke-width: 1.0;\" x1=\"33.5\" x2=\"51.5\" y1=\"178.168\" y2=\"178.168\"/><text fill=\"#000000\" font-family=\"sans-serif\" font-size=\"11\" lengthAdjust=\"spacingAndGlyphs\" textLength=\"61\" x=\"51.5\" y=\"181.4761\">transitions</text><line style=\"stroke: #A80036; stroke-width: 1.0;\" x1=\"112.5\" x2=\"130.5\" y1=\"178.168\" y2=\"178.168\"/></a><!--MD5=[1dd1bfd58a279cf63c5f349dbc8fc6a1]\n",
       "class E11--><a href=\"psysml:7a7b17a9-f595-41dc-990f-a07a1c17ba3c\" target=\"_top\" title=\"psysml:7a7b17a9-f595-41dc-990f-a07a1c17ba3c\" xlink:actuate=\"onRequest\" xlink:href=\"psysml:7a7b17a9-f595-41dc-990f-a07a1c17ba3c\" xlink:show=\"new\" xlink:title=\"psysml:7a7b17a9-f595-41dc-990f-a07a1c17ba3c\" xlink:type=\"simple\"><rect fill=\"#FEFECE\" filter=\"url(#flpyarfzkji4s)\" height=\"45.9375\" id=\"E11\" rx=\"10\" ry=\"10\" style=\"stroke: #A80036; stroke-width: 1.5;\" width=\"75\" x=\"48.5\" y=\"261\"/><ellipse cx=\"63.5\" cy=\"279.9688\" fill=\"#FFA500\" rx=\"11\" ry=\"11\" style=\"stroke: #A80036; stroke-width: 1.0;\"/><path d=\"M59.375,281.8906 L59.375,274.0781 L61.8281,274.0781 L61.8281,282.5156 Q61.8281,283.4375 62.2969,283.9688 Q62.7813,284.5 63.6094,284.5 Q64.4531,284.5 64.9219,283.9688 Q65.3906,283.4375 65.3906,282.5156 L65.3906,274.0781 L67.8438,274.0781 L67.8438,281.8906 Q67.8438,284.4219 66.8438,285.5625 Q65.8438,286.7031 63.6094,286.7031 Q61.3906,286.7031 60.375,285.5625 Q59.375,284.4219 59.375,281.8906 Z \"/><text fill=\"#000000\" font-family=\"sans-serif\" font-size=\"12\" font-style=\"italic\" lengthAdjust=\"spacingAndGlyphs\" textLength=\"47\" x=\"75.5\" y=\"277.1387\">«state»</text><text fill=\"#000000\" font-family=\"sans-serif\" font-size=\"12\" lengthAdjust=\"spacingAndGlyphs\" textLength=\"16\" x=\"91\" y=\"291.1074\">S2</text><line style=\"stroke: #A80036; stroke-width: 1.5;\" x1=\"49.5\" x2=\"122.5\" y1=\"298.9375\" y2=\"298.9375\"/></a><!--MD5=[49a0ec8f00dab7302a31f22d0f0fe584]\n",
       "class E12--><a href=\"psysml:fce0e4a1-8edc-4c38-93d6-a3b5e3670b25\" target=\"_top\" title=\"psysml:fce0e4a1-8edc-4c38-93d6-a3b5e3670b25\" xlink:actuate=\"onRequest\" xlink:href=\"psysml:fce0e4a1-8edc-4c38-93d6-a3b5e3670b25\" xlink:show=\"new\" xlink:title=\"psysml:fce0e4a1-8edc-4c38-93d6-a3b5e3670b25\" xlink:type=\"simple\"><rect fill=\"#FEFECE\" filter=\"url(#flpyarfzkji4s)\" height=\"75.5469\" id=\"E12\" rx=\"10\" ry=\"10\" style=\"stroke: #A80036; stroke-width: 1.5;\" width=\"116\" x=\"32\" y=\"367\"/><ellipse cx=\"47\" cy=\"385.9688\" fill=\"#B6DBBB\" rx=\"11\" ry=\"11\" style=\"stroke: #A80036; stroke-width: 1.0;\"/><path d=\"M42.875,387.8906 L42.875,380.0781 L45.3281,380.0781 L45.3281,388.5156 Q45.3281,389.4375 45.7969,389.9688 Q46.2813,390.5 47.1094,390.5 Q47.9531,390.5 48.4219,389.9688 Q48.8906,389.4375 48.8906,388.5156 L48.8906,380.0781 L51.3438,380.0781 L51.3438,387.8906 Q51.3438,390.4219 50.3438,391.5625 Q49.3438,392.7031 47.1094,392.7031 Q44.8906,392.7031 43.875,391.5625 Q42.875,390.4219 42.875,387.8906 Z \"/><text fill=\"#000000\" font-family=\"sans-serif\" font-size=\"12\" font-style=\"italic\" lengthAdjust=\"spacingAndGlyphs\" textLength=\"88\" x=\"59\" y=\"383.1387\">«send action»</text><text fill=\"#000000\" font-family=\"sans-serif\" font-size=\"12\" lengthAdjust=\"spacingAndGlyphs\" textLength=\"55\" x=\"75.5\" y=\"397.1074\">doAction</text><line style=\"stroke: #A80036; stroke-width: 1.5;\" x1=\"33\" x2=\"147\" y1=\"404.9375\" y2=\"404.9375\"/><text fill=\"#000000\" font-family=\"sans-serif\" font-size=\"11\" lengthAdjust=\"spacingAndGlyphs\" textLength=\"25\" x=\"38\" y=\"435.9526\">item</text><line style=\"stroke: #A80036; stroke-width: 1.0;\" x1=\"33\" x2=\"52.5\" y1=\"419.3398\" y2=\"419.3398\"/><text fill=\"#000000\" font-family=\"sans-serif\" font-size=\"11\" lengthAdjust=\"spacingAndGlyphs\" textLength=\"75\" x=\"52.5\" y=\"422.6479\">itemFeatures</text><line style=\"stroke: #A80036; stroke-width: 1.0;\" x1=\"127.5\" x2=\"147\" y1=\"419.3398\" y2=\"419.3398\"/></a><!--MD5=[1f5f03483f7de0d5b3680a7f6650997f]\n",
       "reverse link E6 to E11--><a href=\"psysml:7a7b17a9-f595-41dc-990f-a07a1c17ba3c\" target=\"_top\" title=\"psysml:7a7b17a9-f595-41dc-990f-a07a1c17ba3c\" xlink:actuate=\"onRequest\" xlink:href=\"psysml:7a7b17a9-f595-41dc-990f-a07a1c17ba3c\" xlink:show=\"new\" xlink:title=\"psysml:7a7b17a9-f595-41dc-990f-a07a1c17ba3c\" xlink:type=\"simple\"><path d=\"M84.29,214.17 C84.72,231.58 85.14,248.25 85.45,260.82 \" fill=\"none\" id=\"E6&lt;-E11\" style=\"stroke: #A80036; stroke-width: 1.0;\"/><polygon fill=\"#A80036\" points=\"83.96,201.09,80.1062,207.1849,84.25,213.0865,88.1038,206.9916,83.96,201.09\" style=\"stroke: #A80036; stroke-width: 1.0;\"/></a><!--MD5=[94adabc162ce7e41b39f13be14fbaeb3]\n",
       "reverse link E11 to E12--><a href=\"psysml:fce0e4a1-8edc-4c38-93d6-a3b5e3670b25\" target=\"_top\" title=\"psysml:fce0e4a1-8edc-4c38-93d6-a3b5e3670b25\" xlink:actuate=\"onRequest\" xlink:href=\"psysml:fce0e4a1-8edc-4c38-93d6-a3b5e3670b25\" xlink:show=\"new\" xlink:title=\"psysml:fce0e4a1-8edc-4c38-93d6-a3b5e3670b25\" xlink:type=\"simple\"><path d=\"M87.18,320.23 C87.67,334.82 88.24,351.76 88.74,366.58 \" fill=\"none\" id=\"E11&lt;-E12\" style=\"stroke: #A80036; stroke-width: 1.0;\"/><polygon fill=\"#FFFFFF\" points=\"86.74,307.1,82.9466,313.2327,87.1486,319.093,90.942,312.9603,86.74,307.1\" style=\"stroke: #A80036; stroke-width: 1.0;\"/></a><!--MD5=[f4f17c8bd71de4c5af6a3cc0599d59f5]\n",
       "@startuml\r\n",
       " \r\n",
       "package \"StateTest\" as E1  [[psysml:a2ca8720-bd4b-4556-9b27-091331149f1f ]]  {\r\n",
       "comp def \"Sig\" as E2  <<(D,brown)attribute def>> [[psysml:9b0c6b07-76e0-48e6-88f4-e6a2c752e8e3 ]] {\r\n",
       "x\r\n",
       "}\r\n",
       "comp def \"Exit\" as E3  <<(D,brown)attribute def>> [[psysml:75ee6cec-68f4-495e-910b-3cf4854ee540 ]] {\r\n",
       "}\r\n",
       "comp usage \"p\" as E4  << (P,limegreen) part>> [[psysml:d526add9-9153-4d94-82de-e3d10cc7d584 ]] {\r\n",
       "}\r\n",
       "comp usage \"act\" as E5  <<(U,orange)action>> [[psysml:12bd5d36-0dbf-4715-90c3-b0b875efee55 ]] {\r\n",
       "}\r\n",
       "comp def \"S\" as E6  <<(D,brown)state def>> [[psysml:b6aa9f25-72f8-4c2c-a7be-6589070e9bf6 ]] {\r\n",
       "- - performActions - -\r\n",
       "act\r\n",
       "A\r\n",
       "B\r\n",
       "- - states - -\r\n",
       "S1\r\n",
       "- - transitions - -\r\n",
       "T\r\n",
       "}\r\n",
       "comp usage \"S2\" as E11  <<(U,orange)state>> [[psysml:7a7b17a9-f595-41dc-990f-a07a1c17ba3c ]] {\r\n",
       "}\r\n",
       "comp usage \"doAction\" as E12 <<send action>> [[psysml:fce0e4a1-8edc-4c38-93d6-a3b5e3670b25 ]] {\r\n",
       "- - itemFeatures - -\r\n",
       "item\r\n",
       "}\r\n",
       "E6 *- - E11 [[psysml:7a7b17a9-f595-41dc-990f-a07a1c17ba3c ]] \r\n",
       "E11 o- - E12 [[psysml:fce0e4a1-8edc-4c38-93d6-a3b5e3670b25 ]] \r\n",
       "}\r\n",
       "@enduml\r\n",
       "\n",
       "PlantUML version 1.2020.13(Sat Jun 13 12:26:38 UTC 2020)\n",
       "(EPL source distribution)\n",
       "Java Runtime: OpenJDK Runtime Environment\n",
       "JVM: OpenJDK 64-Bit Server VM\n",
       "Default Encoding: UTF-8\n",
       "Language: en\n",
       "Country: null\n",
       "--></g></svg>"
      ]
     },
     "execution_count": 31,
     "metadata": {},
     "output_type": "execute_result"
    }
   ],
   "source": [
    "%viz --style=\"PLANTUML\" --view=\"Tree\" \"StateTest\""
   ]
  },
  {
   "cell_type": "code",
   "execution_count": 32,
   "id": "nominated-nurse",
   "metadata": {
    "execution": {
     "iopub.execute_input": "2021-03-25T15:07:00.901604Z",
     "iopub.status.busy": "2021-03-25T15:07:00.901094Z",
     "iopub.status.idle": "2021-03-25T15:07:00.987258Z",
     "shell.execute_reply": "2021-03-25T15:07:00.984225Z"
    }
   },
   "outputs": [
    {
     "data": {
      "image/svg+xml": [
       "<?xml version=\"1.0\" encoding=\"UTF-8\" standalone=\"no\"?><svg xmlns=\"http://www.w3.org/2000/svg\" xmlns:xlink=\"http://www.w3.org/1999/xlink\" contentScriptType=\"application/ecmascript\" contentStyleType=\"text/css\" height=\"491px\" preserveAspectRatio=\"none\" style=\"width:353px;height:491px;\" version=\"1.1\" viewBox=\"0 0 353 491\" width=\"353px\" zoomAndPan=\"magnify\"><defs><filter height=\"300%\" id=\"f1e7f804sx156h\" width=\"300%\" x=\"-1\" y=\"-1\"><feGaussianBlur result=\"blurOut\" stdDeviation=\"2.0\"/><feColorMatrix in=\"blurOut\" result=\"blurOut2\" type=\"matrix\" values=\"0 0 0 0 0 0 0 0 0 0 0 0 0 0 0 0 0 0 .4 0\"/><feOffset dx=\"4.0\" dy=\"4.0\" in=\"blurOut2\" result=\"blurOut3\"/><feBlend in=\"SourceGraphic\" in2=\"blurOut3\" mode=\"normal\"/></filter></defs><g><!--MD5=[fbc87193dbaf4d95561dea2c320d4a47]\n",
       "cluster E1--><a href=\"psysml:b6aa9f25-72f8-4c2c-a7be-6589070e9bf6\" target=\"_top\" title=\"psysml:b6aa9f25-72f8-4c2c-a7be-6589070e9bf6\" xlink:actuate=\"onRequest\" xlink:href=\"psysml:b6aa9f25-72f8-4c2c-a7be-6589070e9bf6\" xlink:show=\"new\" xlink:title=\"psysml:b6aa9f25-72f8-4c2c-a7be-6589070e9bf6\" xlink:type=\"simple\"><rect fill=\"#FFFFFF\" filter=\"url(#f1e7f804sx156h)\" height=\"465\" id=\"E1\" style=\"stroke: #A80036; stroke-width: 1.5;\" width=\"327\" x=\"7\" y=\"7\"/><rect fill=\"#FEFECE\" height=\"37.9375\" style=\"stroke: #A80036; stroke-width: 1.5;\" width=\"327\" x=\"7\" y=\"7\"/><text fill=\"#000000\" font-family=\"sans-serif\" font-size=\"12\" font-style=\"italic\" lengthAdjust=\"spacingAndGlyphs\" textLength=\"71\" x=\"135\" y=\"23.1387\">«state def»</text><text fill=\"#000000\" font-family=\"sans-serif\" font-size=\"12\" lengthAdjust=\"spacingAndGlyphs\" textLength=\"8\" x=\"166.5\" y=\"37.1074\">S</text><line style=\"stroke: #A80036; stroke-width: 1.0;\" x1=\"7\" x2=\"334\" y1=\"90.8438\" y2=\"90.8438\"/><text fill=\"#000000\" font-family=\"sans-serif\" font-size=\"12\" font-weight=\"bold\" lengthAdjust=\"spacingAndGlyphs\" textLength=\"38\" x=\"12\" y=\"58.0762\">entry</text><text fill=\"#000000\" font-family=\"sans-serif\" font-size=\"12\" lengthAdjust=\"spacingAndGlyphs\" textLength=\"16\" x=\"50\" y=\"58.0762\">/ A</text><text fill=\"#000000\" font-family=\"sans-serif\" font-size=\"12\" font-weight=\"bold\" lengthAdjust=\"spacingAndGlyphs\" textLength=\"18\" x=\"12\" y=\"72.0449\">do</text><text fill=\"#000000\" font-family=\"sans-serif\" font-size=\"12\" lengthAdjust=\"spacingAndGlyphs\" textLength=\"16\" x=\"30\" y=\"72.0449\">/ B</text><text fill=\"#000000\" font-family=\"sans-serif\" font-size=\"12\" font-weight=\"bold\" lengthAdjust=\"spacingAndGlyphs\" textLength=\"26\" x=\"12\" y=\"86.0137\">exit</text><text fill=\"#000000\" font-family=\"sans-serif\" font-size=\"12\" lengthAdjust=\"spacingAndGlyphs\" textLength=\"28\" x=\"38\" y=\"86.0137\">/ act</text></a><ellipse cx=\"119\" cy=\"115\" fill=\"#000000\" filter=\"url(#f1e7f804sx156h)\" rx=\"10\" ry=\"10\" style=\"stroke: none; stroke-width: 1.0;\"/><ellipse cx=\"119\" cy=\"446\" fill=\"none\" filter=\"url(#f1e7f804sx156h)\" rx=\"10\" ry=\"10\" style=\"stroke: #000000; stroke-width: 1.0;\"/><ellipse cx=\"119.5\" cy=\"446.5\" fill=\"#000000\" rx=\"6\" ry=\"6\" style=\"stroke: none; stroke-width: 1.0;\"/><g id=\"E1.E2\"><a href=\"psysml:1cabaaec-9539-448a-9df0-432fc817479b\" target=\"_top\" title=\"psysml:1cabaaec-9539-448a-9df0-432fc817479b\" xlink:actuate=\"onRequest\" xlink:href=\"psysml:1cabaaec-9539-448a-9df0-432fc817479b\" xlink:show=\"new\" xlink:title=\"psysml:1cabaaec-9539-448a-9df0-432fc817479b\" xlink:type=\"simple\"><rect fill=\"#FEFECE\" filter=\"url(#f1e7f804sx156h)\" height=\"40\" id=\"E2\" rx=\"10\" ry=\"10\" style=\"stroke: #A80036; stroke-width: 1.5;\" width=\"53\" x=\"92.5\" y=\"186\"/><ellipse cx=\"109.75\" cy=\"202\" fill=\"#B6DBBB\" rx=\"11\" ry=\"11\" style=\"stroke: #A80036; stroke-width: 1.0;\"/><path d=\"M105.625,203.9219 L105.625,196.1094 L108.0781,196.1094 L108.0781,204.5469 Q108.0781,205.4688 108.5469,206 Q109.0313,206.5313 109.8594,206.5313 Q110.7031,206.5313 111.1719,206 Q111.6406,205.4688 111.6406,204.5469 L111.6406,196.1094 L114.0938,196.1094 L114.0938,203.9219 Q114.0938,206.4531 113.0938,207.5938 Q112.0938,208.7344 109.8594,208.7344 Q107.6406,208.7344 106.625,207.5938 Q105.625,206.4531 105.625,203.9219 Z \"/><text fill=\"#000000\" font-family=\"sans-serif\" font-size=\"12\" lengthAdjust=\"spacingAndGlyphs\" textLength=\"16\" x=\"124.25\" y=\"206.1543\">S1</text></a></g><g id=\"E1.E3\"><a href=\"psysml:7a7b17a9-f595-41dc-990f-a07a1c17ba3c\" target=\"_top\" title=\"psysml:7a7b17a9-f595-41dc-990f-a07a1c17ba3c\" xlink:actuate=\"onRequest\" xlink:href=\"psysml:7a7b17a9-f595-41dc-990f-a07a1c17ba3c\" xlink:show=\"new\" xlink:title=\"psysml:7a7b17a9-f595-41dc-990f-a07a1c17ba3c\" xlink:type=\"simple\"><rect fill=\"#FEFECE\" filter=\"url(#f1e7f804sx156h)\" height=\"55.9688\" id=\"E3\" rx=\"10\" ry=\"10\" style=\"stroke: #A80036; stroke-width: 1.5;\" width=\"58\" x=\"90\" y=\"303\"/><ellipse cx=\"109.5\" cy=\"319\" fill=\"#B6DBBB\" rx=\"11\" ry=\"11\" style=\"stroke: #A80036; stroke-width: 1.0;\"/><path d=\"M105.375,320.9219 L105.375,313.1094 L107.8281,313.1094 L107.8281,321.5469 Q107.8281,322.4688 108.2969,323 Q108.7813,323.5313 109.6094,323.5313 Q110.4531,323.5313 110.9219,323 Q111.3906,322.4688 111.3906,321.5469 L111.3906,313.1094 L113.8438,313.1094 L113.8438,320.9219 Q113.8438,323.4531 112.8438,324.5938 Q111.8438,325.7344 109.6094,325.7344 Q107.3906,325.7344 106.375,324.5938 Q105.375,323.4531 105.375,320.9219 Z \"/><text fill=\"#000000\" font-family=\"sans-serif\" font-size=\"12\" lengthAdjust=\"spacingAndGlyphs\" textLength=\"16\" x=\"124.5\" y=\"323.1543\">S2</text><line style=\"stroke: #A80036; stroke-width: 1.0;\" x1=\"90\" x2=\"148\" y1=\"335\" y2=\"335\"/><text fill=\"#000000\" font-family=\"sans-serif\" font-size=\"12\" font-weight=\"bold\" lengthAdjust=\"spacingAndGlyphs\" textLength=\"18\" x=\"95\" y=\"348.1387\">do</text><text fill=\"#000000\" font-family=\"sans-serif\" font-size=\"12\" lengthAdjust=\"spacingAndGlyphs\" textLength=\"4\" x=\"113\" y=\"348.1387\">/</text></a></g><!--MD5=[cff944eb183b832d446717a4e202d613]\n",
       "link *start*E1 to E2--><a href=\"psysml:0b737fa2-1baa-4df5-913b-a090a33456a1\" target=\"_top\" title=\"psysml:0b737fa2-1baa-4df5-913b-a090a33456a1\" xlink:actuate=\"onRequest\" xlink:href=\"psysml:0b737fa2-1baa-4df5-913b-a090a33456a1\" xlink:show=\"new\" xlink:title=\"psysml:0b737fa2-1baa-4df5-913b-a090a33456a1\" xlink:type=\"simple\"><path d=\"M119,125.19 C119,138.18 119,162.38 119,180.73 \" fill=\"none\" id=\"*start*E1-&gt;E2\" style=\"stroke: #A80036; stroke-width: 1.0;\"/><polygon fill=\"#A80036\" points=\"119,185.74,123,176.74,119,180.74,115,176.74,119,185.74\" style=\"stroke: #A80036; stroke-width: 1.0;\"/></a><!--MD5=[9ee7afa76ca8c509b3d216624c3a9893]\n",
       "link E3 to *end*E1--><a href=\"psysml:a8c9411f-d651-41a0-86c1-118f6cba8c1d\" target=\"_top\" title=\"psysml:a8c9411f-d651-41a0-86c1-118f6cba8c1d\" xlink:actuate=\"onRequest\" xlink:href=\"psysml:a8c9411f-d651-41a0-86c1-118f6cba8c1d\" xlink:show=\"new\" xlink:title=\"psysml:a8c9411f-d651-41a0-86c1-118f6cba8c1d\" xlink:type=\"simple\"><path d=\"M119,359.07 C119,381.55 119,412.67 119,430.63 \" fill=\"none\" id=\"E3-&gt;*end*E1\" style=\"stroke: #A80036; stroke-width: 1.0;\"/><polygon fill=\"#A80036\" points=\"119,435.76,123,426.76,119,430.76,115,426.76,119,435.76\" style=\"stroke: #A80036; stroke-width: 1.0;\"/><text fill=\"#000000\" font-family=\"sans-serif\" font-size=\"13\" lengthAdjust=\"spacingAndGlyphs\" textLength=\"23\" x=\"120\" y=\"402.0669\">Exit</text></a><!--MD5=[2720a5a1f2c3fca2055b230370638851]\n",
       "link E2 to E3--><a href=\"psysml:eefcc534-c981-4425-9bf3-38251bd12a49\" target=\"_top\" title=\"psysml:eefcc534-c981-4425-9bf3-38251bd12a49\" xlink:actuate=\"onRequest\" xlink:href=\"psysml:eefcc534-c981-4425-9bf3-38251bd12a49\" xlink:show=\"new\" xlink:title=\"psysml:eefcc534-c981-4425-9bf3-38251bd12a49\" xlink:type=\"simple\"><path d=\"M92.25,219.17 C70.47,230.99 44.88,250.43 55,273 C61.51,287.51 73.74,299.85 85.79,309.29 \" fill=\"none\" id=\"E2-&gt;E3\" style=\"stroke: #A80036; stroke-width: 1.0;\"/><polygon fill=\"#A80036\" points=\"89.86,312.38,85.0945,303.7609,85.872,309.364,80.2689,310.1416,89.86,312.38\" style=\"stroke: #A80036; stroke-width: 1.0;\"/><text fill=\"#000000\" font-family=\"sans-serif\" font-size=\"13\" lengthAdjust=\"spacingAndGlyphs\" textLength=\"81\" x=\"56\" y=\"269.0669\">Sig /action D</text></a><!--MD5=[05d275557350bfb9b23a4ef7222b4c39]\n",
       "link E3 to E2--><a href=\"psysml:bcd703ca-2055-4c24-98bc-6c579eb31483\" target=\"_top\" title=\"psysml:bcd703ca-2055-4c24-98bc-6c579eb31483\" xlink:actuate=\"onRequest\" xlink:href=\"psysml:bcd703ca-2055-4c24-98bc-6c579eb31483\" xlink:show=\"new\" xlink:title=\"psysml:bcd703ca-2055-4c24-98bc-6c579eb31483\" xlink:type=\"simple\"><path d=\"M134.55,302.88 C140.68,289 145.51,271.76 142,256 C140.1,247.49 136.56,238.72 132.82,230.99 \" fill=\"none\" id=\"E3-&gt;E2\" style=\"stroke: #A80036; stroke-width: 1.0;\"/><polygon fill=\"#A80036\" points=\"130.47,226.32,130.9298,236.1581,132.7118,230.7893,138.0806,232.5713,130.47,226.32\" style=\"stroke: #A80036; stroke-width: 1.0;\"/><text fill=\"#000000\" font-family=\"sans-serif\" font-size=\"13\" lengthAdjust=\"spacingAndGlyphs\" textLength=\"135\" x=\"144\" y=\"269.0669\">Sig [true]/send s to p</text></a><!--MD5=[6d449d6f9b8c4f9780c9baa8d55b545e]\n",
       "@startuml\r\n",
       " \r\n",
       "rec def \"S\" as E1  <<(D,brown)state def>> [[psysml:b6aa9f25-72f8-4c2c-a7be-6589070e9bf6 ]] {\r\n",
       "rec usage \"S1\" as E2 [[psysml:1cabaaec-9539-448a-9df0-432fc817479b ]] {\r\n",
       "}\r\n",
       "\r\n",
       "rec usage \"S2\" as E3 [[psysml:7a7b17a9-f595-41dc-990f-a07a1c17ba3c ]] {\r\n",
       "desc \"S2\" as E3  : **do**/ \r\n",
       "}\r\n",
       "\r\n",
       "[*] - -> E2 [[psysml:0b737fa2-1baa-4df5-913b-a090a33456a1 ]] \r\n",
       "E3  - -> [*] [[psysml:a8c9411f-d651-41a0-86c1-118f6cba8c1d ]] : Exit \r\n",
       "desc \"S\" as E1  : **entry**/ A\r\n",
       "desc \"S\" as E1  : **do**/ B\r\n",
       "desc \"S\" as E1  : **exit**/ act \r\n",
       "}\r\n",
       "\r\n",
       "E2  - -> E3 [[psysml:eefcc534-c981-4425-9bf3-38251bd12a49 ]] : Sig /action D\r\n",
       "E3  - -> E2 [[psysml:bcd703ca-2055-4c24-98bc-6c579eb31483 ]] : Sig [true]/send s to p\r\n",
       "@enduml\r\n",
       "\n",
       "PlantUML version 1.2020.13(Sat Jun 13 12:26:38 UTC 2020)\n",
       "(EPL source distribution)\n",
       "Java Runtime: OpenJDK Runtime Environment\n",
       "JVM: OpenJDK 64-Bit Server VM\n",
       "Default Encoding: UTF-8\n",
       "Language: en\n",
       "Country: null\n",
       "--></g></svg>"
      ]
     },
     "execution_count": 32,
     "metadata": {},
     "output_type": "execute_result"
    }
   ],
   "source": [
    "%viz --style=\"PLANTUML\" --view=\"State\" \"StateTest\""
   ]
  },
  {
   "cell_type": "code",
   "execution_count": 33,
   "id": "incomplete-index",
   "metadata": {
    "execution": {
     "iopub.execute_input": "2021-03-25T15:07:01.036651Z",
     "iopub.status.busy": "2021-03-25T15:07:01.036133Z",
     "iopub.status.idle": "2021-03-25T15:07:01.111410Z",
     "shell.execute_reply": "2021-03-25T15:07:01.111877Z"
    }
   },
   "outputs": [
    {
     "data": {
      "image/svg+xml": [
       "<?xml version=\"1.0\" encoding=\"UTF-8\" standalone=\"no\"?><svg xmlns=\"http://www.w3.org/2000/svg\" xmlns:xlink=\"http://www.w3.org/1999/xlink\" contentScriptType=\"application/ecmascript\" contentStyleType=\"text/css\" height=\"123px\" preserveAspectRatio=\"none\" style=\"width:870px;height:123px;\" version=\"1.1\" viewBox=\"0 0 870 123\" width=\"870px\" zoomAndPan=\"magnify\"><defs><filter height=\"300%\" id=\"fotj9a6v0616j\" width=\"300%\" x=\"-1\" y=\"-1\"><feGaussianBlur result=\"blurOut\" stdDeviation=\"2.0\"/><feColorMatrix in=\"blurOut\" result=\"blurOut2\" type=\"matrix\" values=\"0 0 0 0 0 0 0 0 0 0 0 0 0 0 0 0 0 0 .4 0\"/><feOffset dx=\"4.0\" dy=\"4.0\" in=\"blurOut2\" result=\"blurOut3\"/><feBlend in=\"SourceGraphic\" in2=\"blurOut3\" mode=\"normal\"/></filter></defs><g><!--MD5=[fbc87193dbaf4d95561dea2c320d4a47]\n",
       "cluster E1--><a href=\"psysml:a2ca8720-bd4b-4556-9b27-091331149f1f\" target=\"_top\" title=\"psysml:a2ca8720-bd4b-4556-9b27-091331149f1f\" xlink:actuate=\"onRequest\" xlink:href=\"psysml:a2ca8720-bd4b-4556-9b27-091331149f1f\" xlink:show=\"new\" xlink:title=\"psysml:a2ca8720-bd4b-4556-9b27-091331149f1f\" xlink:type=\"simple\"><polygon fill=\"#FFFFFF\" filter=\"url(#fotj9a6v0616j)\" points=\"16,6,98,6,105,28.2969,848,28.2969,848,111,16,111,16,6\" style=\"stroke: #000000; stroke-width: 1.5;\"/><line style=\"stroke: #000000; stroke-width: 1.5;\" x1=\"16\" x2=\"105\" y1=\"28.2969\" y2=\"28.2969\"/><text fill=\"#000000\" font-family=\"sans-serif\" font-size=\"14\" font-weight=\"bold\" lengthAdjust=\"spacingAndGlyphs\" textLength=\"76\" x=\"20\" y=\"20.9951\">StateTest</text></a><!--MD5=[b4997ac47864f28c2f74865a473b2911]\n",
       "class E2--><a href=\"psysml:9b0c6b07-76e0-48e6-88f4-e6a2c752e8e3\" target=\"_top\" title=\"psysml:9b0c6b07-76e0-48e6-88f4-e6a2c752e8e3\" xlink:actuate=\"onRequest\" xlink:href=\"psysml:9b0c6b07-76e0-48e6-88f4-e6a2c752e8e3\" xlink:show=\"new\" xlink:title=\"psysml:9b0c6b07-76e0-48e6-88f4-e6a2c752e8e3\" xlink:type=\"simple\"><rect fill=\"#FEFECE\" filter=\"url(#fotj9a6v0616j)\" height=\"53.9375\" id=\"E2\" style=\"stroke: #A80036; stroke-width: 1.5;\" width=\"182\" x=\"650\" y=\"41\"/><ellipse cx=\"665\" cy=\"59.9688\" fill=\"#ADD1B2\" rx=\"11\" ry=\"11\" style=\"stroke: #A80036; stroke-width: 1.0;\"/><path d=\"M667.9688,65.6094 Q667.3906,65.9063 666.75,66.0469 Q666.1094,66.2031 665.4063,66.2031 Q662.9063,66.2031 661.5781,64.5625 Q660.2656,62.9063 660.2656,59.7813 Q660.2656,56.6563 661.5781,55 Q662.9063,53.3438 665.4063,53.3438 Q666.1094,53.3438 666.75,53.5 Q667.4063,53.6563 667.9688,53.9531 L667.9688,56.6719 Q667.3438,56.0938 666.75,55.8281 Q666.1563,55.5469 665.5313,55.5469 Q664.1875,55.5469 663.5,56.625 Q662.8125,57.6875 662.8125,59.7813 Q662.8125,61.875 663.5,62.9531 Q664.1875,64.0156 665.5313,64.0156 Q666.1563,64.0156 666.75,63.75 Q667.3438,63.4688 667.9688,62.8906 L667.9688,65.6094 Z \"/><text fill=\"#000000\" font-family=\"sans-serif\" font-size=\"12\" font-style=\"italic\" lengthAdjust=\"spacingAndGlyphs\" textLength=\"154\" x=\"677\" y=\"57.1387\">«(D,brown)attribute def»</text><text fill=\"#000000\" font-family=\"sans-serif\" font-size=\"12\" lengthAdjust=\"spacingAndGlyphs\" textLength=\"19\" x=\"744.5\" y=\"71.1074\">Sig</text><line style=\"stroke: #A80036; stroke-width: 1.5;\" x1=\"651\" x2=\"831\" y1=\"78.9375\" y2=\"78.9375\"/><line style=\"stroke: #A80036; stroke-width: 1.5;\" x1=\"651\" x2=\"831\" y1=\"86.9375\" y2=\"86.9375\"/></a><!--MD5=[09b614a08d8cba4a07c9adeb5e0fee81]\n",
       "class E3--><a href=\"psysml:75ee6cec-68f4-495e-910b-3cf4854ee540\" target=\"_top\" title=\"psysml:75ee6cec-68f4-495e-910b-3cf4854ee540\" xlink:actuate=\"onRequest\" xlink:href=\"psysml:75ee6cec-68f4-495e-910b-3cf4854ee540\" xlink:show=\"new\" xlink:title=\"psysml:75ee6cec-68f4-495e-910b-3cf4854ee540\" xlink:type=\"simple\"><rect fill=\"#FEFECE\" filter=\"url(#fotj9a6v0616j)\" height=\"53.9375\" id=\"E3\" style=\"stroke: #A80036; stroke-width: 1.5;\" width=\"182\" x=\"433\" y=\"41\"/><ellipse cx=\"448\" cy=\"59.9688\" fill=\"#ADD1B2\" rx=\"11\" ry=\"11\" style=\"stroke: #A80036; stroke-width: 1.0;\"/><path d=\"M450.9688,65.6094 Q450.3906,65.9063 449.75,66.0469 Q449.1094,66.2031 448.4063,66.2031 Q445.9063,66.2031 444.5781,64.5625 Q443.2656,62.9063 443.2656,59.7813 Q443.2656,56.6563 444.5781,55 Q445.9063,53.3438 448.4063,53.3438 Q449.1094,53.3438 449.75,53.5 Q450.4063,53.6563 450.9688,53.9531 L450.9688,56.6719 Q450.3438,56.0938 449.75,55.8281 Q449.1563,55.5469 448.5313,55.5469 Q447.1875,55.5469 446.5,56.625 Q445.8125,57.6875 445.8125,59.7813 Q445.8125,61.875 446.5,62.9531 Q447.1875,64.0156 448.5313,64.0156 Q449.1563,64.0156 449.75,63.75 Q450.3438,63.4688 450.9688,62.8906 L450.9688,65.6094 Z \"/><text fill=\"#000000\" font-family=\"sans-serif\" font-size=\"12\" font-style=\"italic\" lengthAdjust=\"spacingAndGlyphs\" textLength=\"154\" x=\"460\" y=\"57.1387\">«(D,brown)attribute def»</text><text fill=\"#000000\" font-family=\"sans-serif\" font-size=\"12\" lengthAdjust=\"spacingAndGlyphs\" textLength=\"22\" x=\"526\" y=\"71.1074\">Exit</text><line style=\"stroke: #A80036; stroke-width: 1.5;\" x1=\"434\" x2=\"614\" y1=\"78.9375\" y2=\"78.9375\"/><line style=\"stroke: #A80036; stroke-width: 1.5;\" x1=\"434\" x2=\"614\" y1=\"86.9375\" y2=\"86.9375\"/></a><!--MD5=[60a26617385b1d2d0262a64233df1f8d]\n",
       "class E6--><a href=\"psysml:b6aa9f25-72f8-4c2c-a7be-6589070e9bf6\" target=\"_top\" title=\"psysml:b6aa9f25-72f8-4c2c-a7be-6589070e9bf6\" xlink:actuate=\"onRequest\" xlink:href=\"psysml:b6aa9f25-72f8-4c2c-a7be-6589070e9bf6\" xlink:show=\"new\" xlink:title=\"psysml:b6aa9f25-72f8-4c2c-a7be-6589070e9bf6\" xlink:type=\"simple\"><rect fill=\"#FEFECE\" filter=\"url(#fotj9a6v0616j)\" height=\"53.9375\" id=\"E6\" style=\"stroke: #A80036; stroke-width: 1.5;\" width=\"160\" x=\"238\" y=\"41\"/><ellipse cx=\"253\" cy=\"59.9688\" fill=\"#ADD1B2\" rx=\"11\" ry=\"11\" style=\"stroke: #A80036; stroke-width: 1.0;\"/><path d=\"M255.9688,65.6094 Q255.3906,65.9063 254.75,66.0469 Q254.1094,66.2031 253.4063,66.2031 Q250.9063,66.2031 249.5781,64.5625 Q248.2656,62.9063 248.2656,59.7813 Q248.2656,56.6563 249.5781,55 Q250.9063,53.3438 253.4063,53.3438 Q254.1094,53.3438 254.75,53.5 Q255.4063,53.6563 255.9688,53.9531 L255.9688,56.6719 Q255.3438,56.0938 254.75,55.8281 Q254.1563,55.5469 253.5313,55.5469 Q252.1875,55.5469 251.5,56.625 Q250.8125,57.6875 250.8125,59.7813 Q250.8125,61.875 251.5,62.9531 Q252.1875,64.0156 253.5313,64.0156 Q254.1563,64.0156 254.75,63.75 Q255.3438,63.4688 255.9688,62.8906 L255.9688,65.6094 Z \"/><text fill=\"#000000\" font-family=\"sans-serif\" font-size=\"12\" font-style=\"italic\" lengthAdjust=\"spacingAndGlyphs\" textLength=\"132\" x=\"265\" y=\"57.1387\">«(D,brown)state def»</text><text fill=\"#000000\" font-family=\"sans-serif\" font-size=\"12\" lengthAdjust=\"spacingAndGlyphs\" textLength=\"8\" x=\"327\" y=\"71.1074\">S</text><line style=\"stroke: #A80036; stroke-width: 1.5;\" x1=\"239\" x2=\"397\" y1=\"78.9375\" y2=\"78.9375\"/><line style=\"stroke: #A80036; stroke-width: 1.5;\" x1=\"239\" x2=\"397\" y1=\"86.9375\" y2=\"86.9375\"/></a><g id=\"E1.E4\"><a href=\"psysml:d526add9-9153-4d94-82de-e3d10cc7d584\" target=\"_top\" title=\"psysml:d526add9-9153-4d94-82de-e3d10cc7d584\" xlink:actuate=\"onRequest\" xlink:href=\"psysml:d526add9-9153-4d94-82de-e3d10cc7d584\" xlink:show=\"new\" xlink:title=\"psysml:d526add9-9153-4d94-82de-e3d10cc7d584\" xlink:type=\"simple\"><rect fill=\"#FEFECE\" filter=\"url(#fotj9a6v0616j)\" height=\"40\" id=\"E4\" rx=\"10\" ry=\"10\" style=\"stroke: #A80036; stroke-width: 1.5;\" width=\"50\" x=\"153\" y=\"48\"/><ellipse cx=\"172.5\" cy=\"64\" fill=\"#B6DBBB\" rx=\"11\" ry=\"11\" style=\"stroke: #A80036; stroke-width: 1.0;\"/><path d=\"M168.375,65.9219 L168.375,58.1094 L170.8281,58.1094 L170.8281,66.5469 Q170.8281,67.4688 171.2969,68 Q171.7813,68.5313 172.6094,68.5313 Q173.4531,68.5313 173.9219,68 Q174.3906,67.4688 174.3906,66.5469 L174.3906,58.1094 L176.8438,58.1094 L176.8438,65.9219 Q176.8438,68.4531 175.8438,69.5938 Q174.8438,70.7344 172.6094,70.7344 Q170.3906,70.7344 169.375,69.5938 Q168.375,68.4531 168.375,65.9219 Z \"/><text fill=\"#000000\" font-family=\"sans-serif\" font-size=\"12\" lengthAdjust=\"spacingAndGlyphs\" textLength=\"8\" x=\"187.5\" y=\"68.1543\">p</text></a></g><g id=\"E1.E5\"><a href=\"psysml:12bd5d36-0dbf-4715-90c3-b0b875efee55\" target=\"_top\" title=\"psysml:12bd5d36-0dbf-4715-90c3-b0b875efee55\" xlink:actuate=\"onRequest\" xlink:href=\"psysml:12bd5d36-0dbf-4715-90c3-b0b875efee55\" xlink:show=\"new\" xlink:title=\"psysml:12bd5d36-0dbf-4715-90c3-b0b875efee55\" xlink:type=\"simple\"><rect fill=\"#FEFECE\" filter=\"url(#fotj9a6v0616j)\" height=\"42.9375\" id=\"E5\" rx=\"10\" ry=\"10\" style=\"stroke: #A80036; stroke-width: 1.5;\" width=\"86\" x=\"32\" y=\"46.5\"/><ellipse cx=\"49.25\" cy=\"65.4688\" fill=\"#FFA500\" rx=\"11\" ry=\"11\" style=\"stroke: #A80036; stroke-width: 1.0;\"/><path d=\"M45.125,67.3906 L45.125,59.5781 L47.5781,59.5781 L47.5781,68.0156 Q47.5781,68.9375 48.0469,69.4688 Q48.5313,70 49.3594,70 Q50.2031,70 50.6719,69.4688 Q51.1406,68.9375 51.1406,68.0156 L51.1406,59.5781 L53.5938,59.5781 L53.5938,67.3906 Q53.5938,69.9219 52.5938,71.0625 Q51.5938,72.2031 49.3594,72.2031 Q47.1406,72.2031 46.125,71.0625 Q45.125,69.9219 45.125,67.3906 Z \"/><text fill=\"#000000\" font-family=\"sans-serif\" font-size=\"12\" font-style=\"italic\" lengthAdjust=\"spacingAndGlyphs\" textLength=\"53\" x=\"61.75\" y=\"62.6387\">«action»</text><text fill=\"#000000\" font-family=\"sans-serif\" font-size=\"12\" lengthAdjust=\"spacingAndGlyphs\" textLength=\"20\" x=\"78.25\" y=\"76.6074\">act</text></a></g><!--MD5=[f9e762275acbcd418ea6233fd7e8cd98]\n",
       "@startuml\r\n",
       "skinparam ranksep 8\r\n",
       "skinparam rectangle {\r\n",
       " backgroundColor<<block>> LightGreen\r\n",
       "}\r\n",
       " \r\n",
       "package \"StateTest\" as E1  [[psysml:a2ca8720-bd4b-4556-9b27-091331149f1f ]]  {\r\n",
       "def \"Sig\" as E2  <<(D,brown)attribute def>> [[psysml:9b0c6b07-76e0-48e6-88f4-e6a2c752e8e3 ]] \r\n",
       "def \"Exit\" as E3  <<(D,brown)attribute def>> [[psysml:75ee6cec-68f4-495e-910b-3cf4854ee540 ]] \r\n",
       "rec usage \"p\" as E4  [[psysml:d526add9-9153-4d94-82de-e3d10cc7d584 ]] {\r\n",
       "}\r\n",
       "rec usage \"act\" as E5  <<(U,orange)action>> [[psysml:12bd5d36-0dbf-4715-90c3-b0b875efee55 ]] {\r\n",
       "}\r\n",
       "def \"S\" as E6  <<(D,brown)state def>> [[psysml:b6aa9f25-72f8-4c2c-a7be-6589070e9bf6 ]] \r\n",
       "}\r\n",
       "@enduml\r\n",
       "\n",
       "PlantUML version 1.2020.13(Sat Jun 13 12:26:38 UTC 2020)\n",
       "(EPL source distribution)\n",
       "Java Runtime: OpenJDK Runtime Environment\n",
       "JVM: OpenJDK 64-Bit Server VM\n",
       "Default Encoding: UTF-8\n",
       "Language: en\n",
       "Country: null\n",
       "--></g></svg>"
      ]
     },
     "execution_count": 33,
     "metadata": {},
     "output_type": "execute_result"
    }
   ],
   "source": [
    "%viz --style=\"PLANTUML\" --view=\"Interconnection\" \"StateTest\""
   ]
  },
  {
   "cell_type": "code",
   "execution_count": 34,
   "id": "special-travel",
   "metadata": {
    "execution": {
     "iopub.execute_input": "2021-03-25T15:07:01.163807Z",
     "iopub.status.busy": "2021-03-25T15:07:01.163050Z",
     "iopub.status.idle": "2021-03-25T15:07:01.184831Z",
     "shell.execute_reply": "2021-03-25T15:07:01.183306Z"
    }
   },
   "outputs": [
    {
     "data": {
      "image/svg+xml": [
       "<?xml version=\"1.0\" encoding=\"UTF-8\" standalone=\"no\"?><svg xmlns=\"http://www.w3.org/2000/svg\" xmlns:xlink=\"http://www.w3.org/1999/xlink\" contentScriptType=\"application/ecmascript\" contentStyleType=\"text/css\" height=\"386px\" preserveAspectRatio=\"none\" style=\"width:811px;height:386px;background:#000000;\" version=\"1.1\" viewBox=\"0 0 811 386\" width=\"811px\" zoomAndPan=\"magnify\"><defs/><g><rect fill=\"#09071E\" height=\"1\" style=\"stroke: #09071E; stroke-width: 1.0;\" width=\"1\" x=\"0\" y=\"0\"/><rect fill=\"#33FF02\" height=\"21.2969\" style=\"stroke: #33FF02; stroke-width: 1.0;\" width=\"804\" x=\"5\" y=\"5\"/><text fill=\"#000000\" font-family=\"sans-serif\" font-size=\"14\" font-weight=\"bold\" lengthAdjust=\"spacingAndGlyphs\" textLength=\"178\" x=\"6\" y=\"20\">[From string (line 20) ]</text><text fill=\"#33FF02\" font-family=\"sans-serif\" font-size=\"14\" font-weight=\"bold\" lengthAdjust=\"spacingAndGlyphs\" textLength=\"0\" x=\"10\" y=\"40.2969\"/><text fill=\"#33FF02\" font-family=\"sans-serif\" font-size=\"14\" font-weight=\"bold\" lengthAdjust=\"spacingAndGlyphs\" textLength=\"79\" x=\"5\" y=\"56.5938\">@startuml</text><text fill=\"#33FF02\" font-family=\"sans-serif\" font-size=\"14\" font-weight=\"bold\" lengthAdjust=\"spacingAndGlyphs\" textLength=\"165\" x=\"5\" y=\"72.8906\">skinparam ranksep 8</text><text fill=\"#33FF02\" font-family=\"sans-serif\" font-size=\"14\" font-weight=\"bold\" lengthAdjust=\"spacingAndGlyphs\" textLength=\"0\" x=\"10\" y=\"89.1875\"/><text fill=\"#33FF02\" font-family=\"sans-serif\" font-size=\"14\" font-weight=\"bold\" lengthAdjust=\"spacingAndGlyphs\" textLength=\"804\" x=\"5\" y=\"105.4844\">rec usage \"act\" as E1  &lt;&lt;(U,orange)action&gt;&gt; [[psysml:12bd5d36-0dbf-4715-90c3-b0b875efee55 ]] {</text><text fill=\"#33FF02\" font-family=\"sans-serif\" font-size=\"14\" font-weight=\"bold\" lengthAdjust=\"spacingAndGlyphs\" textLength=\"10\" x=\"5\" y=\"121.7813\">}</text><text fill=\"#33FF02\" font-family=\"sans-serif\" font-size=\"14\" font-weight=\"bold\" lengthAdjust=\"spacingAndGlyphs\" textLength=\"0\" x=\"10\" y=\"138.0781\"/><text fill=\"#33FF02\" font-family=\"sans-serif\" font-size=\"14\" font-weight=\"bold\" lengthAdjust=\"spacingAndGlyphs\" textLength=\"778\" x=\"5\" y=\"154.375\">rec def \"S\" as E2  &lt;&lt;(D,brown)state def&gt;&gt; [[psysml:b6aa9f25-72f8-4c2c-a7be-6589070e9bf6 ]] {</text><text fill=\"#33FF02\" font-family=\"sans-serif\" font-size=\"14\" font-weight=\"bold\" lengthAdjust=\"spacingAndGlyphs\" textLength=\"761\" x=\"5\" y=\"170.6719\">rec usage \"A\" as E3 &lt;&lt;perform action&gt;&gt; [[psysml:7c853ef3-d7ff-4ebf-8ae8-b09e7153a971 ]] {</text><text fill=\"#33FF02\" font-family=\"sans-serif\" font-size=\"14\" font-weight=\"bold\" lengthAdjust=\"spacingAndGlyphs\" textLength=\"10\" x=\"5\" y=\"186.9688\">}</text><text fill=\"#33FF02\" font-family=\"sans-serif\" font-size=\"14\" font-weight=\"bold\" lengthAdjust=\"spacingAndGlyphs\" textLength=\"0\" x=\"10\" y=\"203.2656\"/><text fill=\"#33FF02\" font-family=\"sans-serif\" font-size=\"14\" font-weight=\"bold\" lengthAdjust=\"spacingAndGlyphs\" textLength=\"765\" x=\"5\" y=\"219.5625\">rec usage \"B\" as E4 &lt;&lt;perform action&gt;&gt; [[psysml:dca473ca-f240-48c8-8410-315f8ab65930 ]] {</text><text fill=\"#33FF02\" font-family=\"sans-serif\" font-size=\"14\" font-weight=\"bold\" lengthAdjust=\"spacingAndGlyphs\" textLength=\"10\" x=\"5\" y=\"235.8594\">}</text><text fill=\"#33FF02\" font-family=\"sans-serif\" font-size=\"14\" font-weight=\"bold\" lengthAdjust=\"spacingAndGlyphs\" textLength=\"0\" x=\"10\" y=\"252.1563\"/><text fill=\"#33FF02\" font-family=\"sans-serif\" font-size=\"14\" font-weight=\"bold\" lengthAdjust=\"spacingAndGlyphs\" textLength=\"779\" x=\"5\" y=\"268.4531\">rec usage \"act\" as E5 &lt;&lt;perform action&gt;&gt; [[psysml:4cc25ae1-ca80-482c-9b62-70f98bd0e4f3 ]] {</text><text fill=\"#33FF02\" font-family=\"sans-serif\" font-size=\"14\" font-weight=\"bold\" lengthAdjust=\"spacingAndGlyphs\" textLength=\"10\" x=\"5\" y=\"284.75\">}</text><text fill=\"#33FF02\" font-family=\"sans-serif\" font-size=\"14\" font-weight=\"bold\" lengthAdjust=\"spacingAndGlyphs\" textLength=\"0\" x=\"10\" y=\"301.0469\"/><text fill=\"#33FF02\" font-family=\"sans-serif\" font-size=\"14\" font-weight=\"bold\" lengthAdjust=\"spacingAndGlyphs\" textLength=\"786\" x=\"5\" y=\"317.3438\">rec usage \"S1\" as E6  &lt;&lt;(U,orange)state&gt;&gt; [[psysml:1cabaaec-9539-448a-9df0-432fc817479b ]] {</text><text fill=\"#33FF02\" font-family=\"sans-serif\" font-size=\"14\" font-weight=\"bold\" lengthAdjust=\"spacingAndGlyphs\" textLength=\"10\" x=\"5\" y=\"333.6406\">}</text><text fill=\"#33FF02\" font-family=\"sans-serif\" font-size=\"14\" font-weight=\"bold\" lengthAdjust=\"spacingAndGlyphs\" textLength=\"0\" x=\"10\" y=\"349.9375\"/><text fill=\"#33FF02\" font-family=\"sans-serif\" font-size=\"14\" font-weight=\"bold\" lengthAdjust=\"spacingAndGlyphs\" textLength=\"10\" x=\"5\" y=\"366.2344\">{</text><text fill=\"#FF0000\" font-family=\"sans-serif\" font-size=\"14\" font-weight=\"bold\" lengthAdjust=\"spacingAndGlyphs\" textLength=\"106\" x=\"10\" y=\"382.5313\">Syntax Error?</text><!--MD5=[ae096245c18e3af3355d37296da416e9]\n",
       "@startuml\r\n",
       "skinparam ranksep 8\r\n",
       " \r\n",
       "rec usage \"act\" as E1  <<(U,orange)action>> [[psysml:12bd5d36-0dbf-4715-90c3-b0b875efee55 ]] {\r\n",
       "}\r\n",
       "\r\n",
       "rec def \"S\" as E2  <<(D,brown)state def>> [[psysml:b6aa9f25-72f8-4c2c-a7be-6589070e9bf6 ]] {\r\n",
       "rec usage \"A\" as E3 <<perform action>> [[psysml:7c853ef3-d7ff-4ebf-8ae8-b09e7153a971 ]] {\r\n",
       "}\r\n",
       "\r\n",
       "rec usage \"B\" as E4 <<perform action>> [[psysml:dca473ca-f240-48c8-8410-315f8ab65930 ]] {\r\n",
       "}\r\n",
       "\r\n",
       "rec usage \"act\" as E5 <<perform action>> [[psysml:4cc25ae1-ca80-482c-9b62-70f98bd0e4f3 ]] {\r\n",
       "}\r\n",
       "\r\n",
       "rec usage \"S1\" as E6  <<(U,orange)state>> [[psysml:1cabaaec-9539-448a-9df0-432fc817479b ]] {\r\n",
       "}\r\n",
       "\r\n",
       "{\r\n",
       "{\r\n",
       "}\r\n",
       "\r\n",
       "rec usage \"D\" as E7 <<perform action>> [[psysml:3510f31d-b177-4ebf-8714-3f9d2522539a ]] {\r\n",
       "}\r\n",
       "\r\n",
       "}\r\n",
       "\r\n",
       "rec usage \"S2\" as E8  <<(U,orange)state>> [[psysml:7a7b17a9-f595-41dc-990f-a07a1c17ba3c ]] {\r\n",
       "rec usage \"doAction\" as E9 <<send action>> [[psysml:fce0e4a1-8edc-4c38-93d6-a3b5e3670b25 ]] {\r\n",
       "portin \"$x\" as E10  [[psysml:0f9ee1be-4b0c-49df-bf39-0b4be923bab5 ]] \r\n",
       "portout \"$result\" as E11  [[psysml:57c23ed7-9c69-47d3-a300-7e2619377bac ]] \r\n",
       "}\r\n",
       "\r\n",
       "}\r\n",
       "\r\n",
       "{\r\n",
       "{\r\n",
       "}\r\n",
       "\r\n",
       "}\r\n",
       "\r\n",
       "rec usage \"T\" as E12  <<(U,orange)transition>> [[psysml:bcd703ca-2055-4c24-98bc-6c579eb31483 ]] {\r\n",
       "rec usage \"S2\" as E13  <<(U,orange)state>> [[psysml:7a7b17a9-f595-41dc-990f-a07a1c17ba3c ]] {\r\n",
       "rec usage \"doAction\" as E14 <<send action>> [[psysml:fce0e4a1-8edc-4c38-93d6-a3b5e3670b25 ]] {\r\n",
       "portin \"$x\" as E15  [[psysml:0f9ee1be-4b0c-49df-bf39-0b4be923bab5 ]] \r\n",
       "portout \"$result\" as E16  [[psysml:57c23ed7-9c69-47d3-a300-7e2619377bac ]] \r\n",
       "}\r\n",
       "\r\n",
       "}\r\n",
       "\r\n",
       "{\r\n",
       "}\r\n",
       "\r\n",
       "portout \"$result\" as E17  [[psysml:911b7f24-6054-424b-94f8-0593eb8f2c88 ]] \r\n",
       "{\r\n",
       "}\r\n",
       "\r\n",
       "}\r\n",
       "\r\n",
       "}\r\n",
       "\r\n",
       "@enduml\r\n",
       "\n",
       "PlantUML version 1.2020.13(Sat Jun 13 12:26:38 UTC 2020)\n",
       "(EPL source distribution)\n",
       "Java Runtime: OpenJDK Runtime Environment\n",
       "JVM: OpenJDK 64-Bit Server VM\n",
       "Default Encoding: UTF-8\n",
       "Language: en\n",
       "Country: null\n",
       "--></g></svg>"
      ]
     },
     "execution_count": 34,
     "metadata": {},
     "output_type": "execute_result"
    }
   ],
   "source": [
    "%viz --style=\"PLANTUML\" --view=\"Action\" \"StateTest\""
   ]
  },
  {
   "cell_type": "code",
   "execution_count": 35,
   "id": "minor-going",
   "metadata": {
    "execution": {
     "iopub.execute_input": "2021-03-25T15:07:01.235769Z",
     "iopub.status.busy": "2021-03-25T15:07:01.235094Z",
     "iopub.status.idle": "2021-03-25T15:07:01.657557Z",
     "shell.execute_reply": "2021-03-25T15:07:01.656186Z"
    }
   },
   "outputs": [
    {
     "data": {
      "image/svg+xml": [
       "<?xml version=\"1.0\" encoding=\"UTF-8\" standalone=\"no\"?><svg xmlns=\"http://www.w3.org/2000/svg\" xmlns:xlink=\"http://www.w3.org/1999/xlink\" contentScriptType=\"application/ecmascript\" contentStyleType=\"text/css\" height=\"471px\" preserveAspectRatio=\"none\" style=\"width:702px;height:471px;\" version=\"1.1\" viewBox=\"0 0 702 471\" width=\"702px\" zoomAndPan=\"magnify\"><defs><filter height=\"300%\" id=\"flpyarfzkji4s\" width=\"300%\" x=\"-1\" y=\"-1\"><feGaussianBlur result=\"blurOut\" stdDeviation=\"2.0\"/><feColorMatrix in=\"blurOut\" result=\"blurOut2\" type=\"matrix\" values=\"0 0 0 0 0 0 0 0 0 0 0 0 0 0 0 0 0 0 .4 0\"/><feOffset dx=\"4.0\" dy=\"4.0\" in=\"blurOut2\" result=\"blurOut3\"/><feBlend in=\"SourceGraphic\" in2=\"blurOut3\" mode=\"normal\"/></filter></defs><g><!--MD5=[fbc87193dbaf4d95561dea2c320d4a47]\n",
       "cluster E1--><a href=\"psysml:a2ca8720-bd4b-4556-9b27-091331149f1f\" target=\"_top\" title=\"psysml:a2ca8720-bd4b-4556-9b27-091331149f1f\" xlink:actuate=\"onRequest\" xlink:href=\"psysml:a2ca8720-bd4b-4556-9b27-091331149f1f\" xlink:show=\"new\" xlink:title=\"psysml:a2ca8720-bd4b-4556-9b27-091331149f1f\" xlink:type=\"simple\"><polygon fill=\"#FFFFFF\" filter=\"url(#flpyarfzkji4s)\" points=\"16,6,98,6,105,28.2969,680,28.2969,680,459,16,459,16,6\" style=\"stroke: #000000; stroke-width: 1.5;\"/><line style=\"stroke: #000000; stroke-width: 1.5;\" x1=\"16\" x2=\"105\" y1=\"28.2969\" y2=\"28.2969\"/><text fill=\"#000000\" font-family=\"sans-serif\" font-size=\"14\" font-weight=\"bold\" lengthAdjust=\"spacingAndGlyphs\" textLength=\"76\" x=\"20\" y=\"20.9951\">StateTest</text></a><!--MD5=[b4997ac47864f28c2f74865a473b2911]\n",
       "class E2--><a href=\"psysml:9b0c6b07-76e0-48e6-88f4-e6a2c752e8e3\" target=\"_top\" title=\"psysml:9b0c6b07-76e0-48e6-88f4-e6a2c752e8e3\" xlink:actuate=\"onRequest\" xlink:href=\"psysml:9b0c6b07-76e0-48e6-88f4-e6a2c752e8e3\" xlink:show=\"new\" xlink:title=\"psysml:9b0c6b07-76e0-48e6-88f4-e6a2c752e8e3\" xlink:type=\"simple\"><rect fill=\"#FEFECE\" filter=\"url(#flpyarfzkji4s)\" height=\"58.7422\" id=\"E2\" style=\"stroke: #A80036; stroke-width: 1.5;\" width=\"121\" x=\"542.5\" y=\"91.5\"/><ellipse cx=\"557.5\" cy=\"110.4688\" fill=\"#A52A2A\" rx=\"11\" ry=\"11\" style=\"stroke: #A80036; stroke-width: 1.0;\"/><path d=\"M557.0938,106.2813 L557.0938,114.2656 L557.75,114.2656 Q559.1875,114.2656 559.7969,113.3594 Q560.4219,112.4375 560.4219,110.2656 Q560.4219,108.0938 559.7969,107.1875 Q559.1875,106.2813 557.75,106.2813 L557.0938,106.2813 Z M554.6406,104.0781 L557.2656,104.0781 Q560.2969,104.0781 561.625,105.5313 Q562.9688,106.9688 562.9688,110.2656 Q562.9688,113.5625 561.625,115.0156 Q560.2969,116.4688 557.2656,116.4688 L554.6406,116.4688 L554.6406,104.0781 Z \"/><text fill=\"#000000\" font-family=\"sans-serif\" font-size=\"12\" font-style=\"italic\" lengthAdjust=\"spacingAndGlyphs\" textLength=\"93\" x=\"569.5\" y=\"107.6387\">«attribute def»</text><text fill=\"#000000\" font-family=\"sans-serif\" font-size=\"12\" lengthAdjust=\"spacingAndGlyphs\" textLength=\"19\" x=\"606.5\" y=\"121.6074\">Sig</text><line style=\"stroke: #A80036; stroke-width: 1.5;\" x1=\"543.5\" x2=\"662.5\" y1=\"129.4375\" y2=\"129.4375\"/><text fill=\"#000000\" font-family=\"sans-serif\" font-size=\"11\" lengthAdjust=\"spacingAndGlyphs\" textLength=\"6\" x=\"548.5\" y=\"143.6479\">x</text></a><!--MD5=[09b614a08d8cba4a07c9adeb5e0fee81]\n",
       "class E3--><a href=\"psysml:75ee6cec-68f4-495e-910b-3cf4854ee540\" target=\"_top\" title=\"psysml:75ee6cec-68f4-495e-910b-3cf4854ee540\" xlink:actuate=\"onRequest\" xlink:href=\"psysml:75ee6cec-68f4-495e-910b-3cf4854ee540\" xlink:show=\"new\" xlink:title=\"psysml:75ee6cec-68f4-495e-910b-3cf4854ee540\" xlink:type=\"simple\"><rect fill=\"#FEFECE\" filter=\"url(#flpyarfzkji4s)\" height=\"45.9375\" id=\"E3\" style=\"stroke: #A80036; stroke-width: 1.5;\" width=\"121\" x=\"386.5\" y=\"98\"/><ellipse cx=\"401.5\" cy=\"116.9688\" fill=\"#A52A2A\" rx=\"11\" ry=\"11\" style=\"stroke: #A80036; stroke-width: 1.0;\"/><path d=\"M401.0938,112.7813 L401.0938,120.7656 L401.75,120.7656 Q403.1875,120.7656 403.7969,119.8594 Q404.4219,118.9375 404.4219,116.7656 Q404.4219,114.5938 403.7969,113.6875 Q403.1875,112.7813 401.75,112.7813 L401.0938,112.7813 Z M398.6406,110.5781 L401.2656,110.5781 Q404.2969,110.5781 405.625,112.0313 Q406.9688,113.4688 406.9688,116.7656 Q406.9688,120.0625 405.625,121.5156 Q404.2969,122.9688 401.2656,122.9688 L398.6406,122.9688 L398.6406,110.5781 Z \"/><text fill=\"#000000\" font-family=\"sans-serif\" font-size=\"12\" font-style=\"italic\" lengthAdjust=\"spacingAndGlyphs\" textLength=\"93\" x=\"413.5\" y=\"114.1387\">«attribute def»</text><text fill=\"#000000\" font-family=\"sans-serif\" font-size=\"12\" lengthAdjust=\"spacingAndGlyphs\" textLength=\"22\" x=\"449\" y=\"128.1074\">Exit</text><line style=\"stroke: #A80036; stroke-width: 1.5;\" x1=\"387.5\" x2=\"506.5\" y1=\"135.9375\" y2=\"135.9375\"/></a><!--MD5=[ebbe1d658d1005bcc118a6aa81145e00]\n",
       "class E4--><a href=\"psysml:d526add9-9153-4d94-82de-e3d10cc7d584\" target=\"_top\" title=\"psysml:d526add9-9153-4d94-82de-e3d10cc7d584\" xlink:actuate=\"onRequest\" xlink:href=\"psysml:d526add9-9153-4d94-82de-e3d10cc7d584\" xlink:show=\"new\" xlink:title=\"psysml:d526add9-9153-4d94-82de-e3d10cc7d584\" xlink:type=\"simple\"><rect fill=\"#FEFECE\" filter=\"url(#flpyarfzkji4s)\" height=\"45.9375\" id=\"E4\" rx=\"10\" ry=\"10\" style=\"stroke: #A80036; stroke-width: 1.5;\" width=\"68\" x=\"283\" y=\"98\"/><ellipse cx=\"298\" cy=\"116.9688\" fill=\"#32CD32\" rx=\"11\" ry=\"11\" style=\"stroke: #A80036; stroke-width: 1.0;\"/><path d=\"M297.7969,112.6406 L297.7969,116.2656 L298.7969,116.2656 Q300,116.2656 300.4844,115.8594 Q300.9688,115.4531 300.9688,114.4531 Q300.9688,113.4531 300.4844,113.0469 Q300,112.6406 298.7969,112.6406 L297.7969,112.6406 Z M295.3438,110.5781 L298.7031,110.5781 Q301.2656,110.5781 302.3906,111.5 Q303.5156,112.4063 303.5156,114.4531 Q303.5156,116.5 302.3906,117.4219 Q301.2656,118.3281 298.7031,118.3281 L297.7969,118.3281 L297.7969,122.9688 L295.3438,122.9688 L295.3438,110.5781 Z \"/><text fill=\"#000000\" font-family=\"sans-serif\" font-size=\"12\" font-style=\"italic\" lengthAdjust=\"spacingAndGlyphs\" textLength=\"40\" x=\"310\" y=\"114.1387\">«part»</text><text fill=\"#000000\" font-family=\"sans-serif\" font-size=\"12\" lengthAdjust=\"spacingAndGlyphs\" textLength=\"8\" x=\"326\" y=\"128.1074\">p</text><line style=\"stroke: #A80036; stroke-width: 1.5;\" x1=\"284\" x2=\"350\" y1=\"135.9375\" y2=\"135.9375\"/></a><!--MD5=[270fce915f116d4de14055a7c1d9a0f3]\n",
       "class E5--><a href=\"psysml:12bd5d36-0dbf-4715-90c3-b0b875efee55\" target=\"_top\" title=\"psysml:12bd5d36-0dbf-4715-90c3-b0b875efee55\" xlink:actuate=\"onRequest\" xlink:href=\"psysml:12bd5d36-0dbf-4715-90c3-b0b875efee55\" xlink:show=\"new\" xlink:title=\"psysml:12bd5d36-0dbf-4715-90c3-b0b875efee55\" xlink:type=\"simple\"><rect fill=\"#FEFECE\" filter=\"url(#flpyarfzkji4s)\" height=\"45.9375\" id=\"E5\" rx=\"10\" ry=\"10\" style=\"stroke: #A80036; stroke-width: 1.5;\" width=\"81\" x=\"166.5\" y=\"98\"/><ellipse cx=\"181.5\" cy=\"116.9688\" fill=\"#FFA500\" rx=\"11\" ry=\"11\" style=\"stroke: #A80036; stroke-width: 1.0;\"/><path d=\"M177.375,118.8906 L177.375,111.0781 L179.8281,111.0781 L179.8281,119.5156 Q179.8281,120.4375 180.2969,120.9688 Q180.7813,121.5 181.6094,121.5 Q182.4531,121.5 182.9219,120.9688 Q183.3906,120.4375 183.3906,119.5156 L183.3906,111.0781 L185.8438,111.0781 L185.8438,118.8906 Q185.8438,121.4219 184.8438,122.5625 Q183.8438,123.7031 181.6094,123.7031 Q179.3906,123.7031 178.375,122.5625 Q177.375,121.4219 177.375,118.8906 Z \"/><text fill=\"#000000\" font-family=\"sans-serif\" font-size=\"12\" font-style=\"italic\" lengthAdjust=\"spacingAndGlyphs\" textLength=\"53\" x=\"193.5\" y=\"114.1387\">«action»</text><text fill=\"#000000\" font-family=\"sans-serif\" font-size=\"12\" lengthAdjust=\"spacingAndGlyphs\" textLength=\"20\" x=\"210\" y=\"128.1074\">act</text><line style=\"stroke: #A80036; stroke-width: 1.5;\" x1=\"167.5\" x2=\"246.5\" y1=\"135.9375\" y2=\"135.9375\"/></a><!--MD5=[60a26617385b1d2d0262a64233df1f8d]\n",
       "class E6--><a href=\"psysml:b6aa9f25-72f8-4c2c-a7be-6589070e9bf6\" target=\"_top\" title=\"psysml:b6aa9f25-72f8-4c2c-a7be-6589070e9bf6\" xlink:actuate=\"onRequest\" xlink:href=\"psysml:b6aa9f25-72f8-4c2c-a7be-6589070e9bf6\" xlink:show=\"new\" xlink:title=\"psysml:b6aa9f25-72f8-4c2c-a7be-6589070e9bf6\" xlink:type=\"simple\"><rect fill=\"#FEFECE\" filter=\"url(#flpyarfzkji4s)\" height=\"160.375\" id=\"E6\" style=\"stroke: #A80036; stroke-width: 1.5;\" width=\"99\" x=\"32.5\" y=\"41\"/><ellipse cx=\"47.5\" cy=\"59.9688\" fill=\"#A52A2A\" rx=\"11\" ry=\"11\" style=\"stroke: #A80036; stroke-width: 1.0;\"/><path d=\"M47.0938,55.7813 L47.0938,63.7656 L47.75,63.7656 Q49.1875,63.7656 49.7969,62.8594 Q50.4219,61.9375 50.4219,59.7656 Q50.4219,57.5938 49.7969,56.6875 Q49.1875,55.7813 47.75,55.7813 L47.0938,55.7813 Z M44.6406,53.5781 L47.2656,53.5781 Q50.2969,53.5781 51.625,55.0313 Q52.9688,56.4688 52.9688,59.7656 Q52.9688,63.0625 51.625,64.5156 Q50.2969,65.9688 47.2656,65.9688 L44.6406,65.9688 L44.6406,53.5781 Z \"/><text fill=\"#000000\" font-family=\"sans-serif\" font-size=\"12\" font-style=\"italic\" lengthAdjust=\"spacingAndGlyphs\" textLength=\"71\" x=\"59.5\" y=\"57.1387\">«state def»</text><text fill=\"#000000\" font-family=\"sans-serif\" font-size=\"12\" lengthAdjust=\"spacingAndGlyphs\" textLength=\"8\" x=\"91\" y=\"71.1074\">S</text><line style=\"stroke: #A80036; stroke-width: 1.5;\" x1=\"33.5\" x2=\"130.5\" y1=\"78.9375\" y2=\"78.9375\"/><text fill=\"#000000\" font-family=\"sans-serif\" font-size=\"11\" lengthAdjust=\"spacingAndGlyphs\" textLength=\"17\" x=\"38.5\" y=\"109.9526\">act</text><text fill=\"#000000\" font-family=\"sans-serif\" font-size=\"11\" lengthAdjust=\"spacingAndGlyphs\" textLength=\"7\" x=\"38.5\" y=\"122.7573\">A</text><text fill=\"#000000\" font-family=\"sans-serif\" font-size=\"11\" lengthAdjust=\"spacingAndGlyphs\" textLength=\"8\" x=\"38.5\" y=\"135.562\">B</text><line style=\"stroke: #A80036; stroke-width: 1.0;\" x1=\"33.5\" x2=\"38.5\" y1=\"93.3398\" y2=\"93.3398\"/><text fill=\"#000000\" font-family=\"sans-serif\" font-size=\"11\" lengthAdjust=\"spacingAndGlyphs\" textLength=\"87\" x=\"38.5\" y=\"96.6479\">performActions</text><line style=\"stroke: #A80036; stroke-width: 1.0;\" x1=\"125.5\" x2=\"130.5\" y1=\"93.3398\" y2=\"93.3398\"/><text fill=\"#000000\" font-family=\"sans-serif\" font-size=\"11\" lengthAdjust=\"spacingAndGlyphs\" textLength=\"15\" x=\"38.5\" y=\"165.1714\">S1</text><line style=\"stroke: #A80036; stroke-width: 1.0;\" x1=\"33.5\" x2=\"64\" y1=\"148.5586\" y2=\"148.5586\"/><text fill=\"#000000\" font-family=\"sans-serif\" font-size=\"11\" lengthAdjust=\"spacingAndGlyphs\" textLength=\"36\" x=\"64\" y=\"151.8667\">states</text><line style=\"stroke: #A80036; stroke-width: 1.0;\" x1=\"100\" x2=\"130.5\" y1=\"148.5586\" y2=\"148.5586\"/><text fill=\"#000000\" font-family=\"sans-serif\" font-size=\"11\" lengthAdjust=\"spacingAndGlyphs\" textLength=\"7\" x=\"38.5\" y=\"194.7808\">T</text><line style=\"stroke: #A80036; stroke-width: 1.0;\" x1=\"33.5\" x2=\"51.5\" y1=\"178.168\" y2=\"178.168\"/><text fill=\"#000000\" font-family=\"sans-serif\" font-size=\"11\" lengthAdjust=\"spacingAndGlyphs\" textLength=\"61\" x=\"51.5\" y=\"181.4761\">transitions</text><line style=\"stroke: #A80036; stroke-width: 1.0;\" x1=\"112.5\" x2=\"130.5\" y1=\"178.168\" y2=\"178.168\"/></a><!--MD5=[1dd1bfd58a279cf63c5f349dbc8fc6a1]\n",
       "class E11--><a href=\"psysml:7a7b17a9-f595-41dc-990f-a07a1c17ba3c\" target=\"_top\" title=\"psysml:7a7b17a9-f595-41dc-990f-a07a1c17ba3c\" xlink:actuate=\"onRequest\" xlink:href=\"psysml:7a7b17a9-f595-41dc-990f-a07a1c17ba3c\" xlink:show=\"new\" xlink:title=\"psysml:7a7b17a9-f595-41dc-990f-a07a1c17ba3c\" xlink:type=\"simple\"><rect fill=\"#FEFECE\" filter=\"url(#flpyarfzkji4s)\" height=\"45.9375\" id=\"E11\" rx=\"10\" ry=\"10\" style=\"stroke: #A80036; stroke-width: 1.5;\" width=\"75\" x=\"48.5\" y=\"261\"/><ellipse cx=\"63.5\" cy=\"279.9688\" fill=\"#FFA500\" rx=\"11\" ry=\"11\" style=\"stroke: #A80036; stroke-width: 1.0;\"/><path d=\"M59.375,281.8906 L59.375,274.0781 L61.8281,274.0781 L61.8281,282.5156 Q61.8281,283.4375 62.2969,283.9688 Q62.7813,284.5 63.6094,284.5 Q64.4531,284.5 64.9219,283.9688 Q65.3906,283.4375 65.3906,282.5156 L65.3906,274.0781 L67.8438,274.0781 L67.8438,281.8906 Q67.8438,284.4219 66.8438,285.5625 Q65.8438,286.7031 63.6094,286.7031 Q61.3906,286.7031 60.375,285.5625 Q59.375,284.4219 59.375,281.8906 Z \"/><text fill=\"#000000\" font-family=\"sans-serif\" font-size=\"12\" font-style=\"italic\" lengthAdjust=\"spacingAndGlyphs\" textLength=\"47\" x=\"75.5\" y=\"277.1387\">«state»</text><text fill=\"#000000\" font-family=\"sans-serif\" font-size=\"12\" lengthAdjust=\"spacingAndGlyphs\" textLength=\"16\" x=\"91\" y=\"291.1074\">S2</text><line style=\"stroke: #A80036; stroke-width: 1.5;\" x1=\"49.5\" x2=\"122.5\" y1=\"298.9375\" y2=\"298.9375\"/></a><!--MD5=[49a0ec8f00dab7302a31f22d0f0fe584]\n",
       "class E12--><a href=\"psysml:fce0e4a1-8edc-4c38-93d6-a3b5e3670b25\" target=\"_top\" title=\"psysml:fce0e4a1-8edc-4c38-93d6-a3b5e3670b25\" xlink:actuate=\"onRequest\" xlink:href=\"psysml:fce0e4a1-8edc-4c38-93d6-a3b5e3670b25\" xlink:show=\"new\" xlink:title=\"psysml:fce0e4a1-8edc-4c38-93d6-a3b5e3670b25\" xlink:type=\"simple\"><rect fill=\"#FEFECE\" filter=\"url(#flpyarfzkji4s)\" height=\"75.5469\" id=\"E12\" rx=\"10\" ry=\"10\" style=\"stroke: #A80036; stroke-width: 1.5;\" width=\"116\" x=\"32\" y=\"367\"/><ellipse cx=\"47\" cy=\"385.9688\" fill=\"#B6DBBB\" rx=\"11\" ry=\"11\" style=\"stroke: #A80036; stroke-width: 1.0;\"/><path d=\"M42.875,387.8906 L42.875,380.0781 L45.3281,380.0781 L45.3281,388.5156 Q45.3281,389.4375 45.7969,389.9688 Q46.2813,390.5 47.1094,390.5 Q47.9531,390.5 48.4219,389.9688 Q48.8906,389.4375 48.8906,388.5156 L48.8906,380.0781 L51.3438,380.0781 L51.3438,387.8906 Q51.3438,390.4219 50.3438,391.5625 Q49.3438,392.7031 47.1094,392.7031 Q44.8906,392.7031 43.875,391.5625 Q42.875,390.4219 42.875,387.8906 Z \"/><text fill=\"#000000\" font-family=\"sans-serif\" font-size=\"12\" font-style=\"italic\" lengthAdjust=\"spacingAndGlyphs\" textLength=\"88\" x=\"59\" y=\"383.1387\">«send action»</text><text fill=\"#000000\" font-family=\"sans-serif\" font-size=\"12\" lengthAdjust=\"spacingAndGlyphs\" textLength=\"55\" x=\"75.5\" y=\"397.1074\">doAction</text><line style=\"stroke: #A80036; stroke-width: 1.5;\" x1=\"33\" x2=\"147\" y1=\"404.9375\" y2=\"404.9375\"/><text fill=\"#000000\" font-family=\"sans-serif\" font-size=\"11\" lengthAdjust=\"spacingAndGlyphs\" textLength=\"25\" x=\"38\" y=\"435.9526\">item</text><line style=\"stroke: #A80036; stroke-width: 1.0;\" x1=\"33\" x2=\"52.5\" y1=\"419.3398\" y2=\"419.3398\"/><text fill=\"#000000\" font-family=\"sans-serif\" font-size=\"11\" lengthAdjust=\"spacingAndGlyphs\" textLength=\"75\" x=\"52.5\" y=\"422.6479\">itemFeatures</text><line style=\"stroke: #A80036; stroke-width: 1.0;\" x1=\"127.5\" x2=\"147\" y1=\"419.3398\" y2=\"419.3398\"/></a><!--MD5=[1f5f03483f7de0d5b3680a7f6650997f]\n",
       "reverse link E6 to E11--><a href=\"psysml:7a7b17a9-f595-41dc-990f-a07a1c17ba3c\" target=\"_top\" title=\"psysml:7a7b17a9-f595-41dc-990f-a07a1c17ba3c\" xlink:actuate=\"onRequest\" xlink:href=\"psysml:7a7b17a9-f595-41dc-990f-a07a1c17ba3c\" xlink:show=\"new\" xlink:title=\"psysml:7a7b17a9-f595-41dc-990f-a07a1c17ba3c\" xlink:type=\"simple\"><path d=\"M84.29,214.17 C84.72,231.58 85.14,248.25 85.45,260.82 \" fill=\"none\" id=\"E6&lt;-E11\" style=\"stroke: #A80036; stroke-width: 1.0;\"/><polygon fill=\"#A80036\" points=\"83.96,201.09,80.1062,207.1849,84.25,213.0865,88.1038,206.9916,83.96,201.09\" style=\"stroke: #A80036; stroke-width: 1.0;\"/></a><!--MD5=[94adabc162ce7e41b39f13be14fbaeb3]\n",
       "reverse link E11 to E12--><a href=\"psysml:fce0e4a1-8edc-4c38-93d6-a3b5e3670b25\" target=\"_top\" title=\"psysml:fce0e4a1-8edc-4c38-93d6-a3b5e3670b25\" xlink:actuate=\"onRequest\" xlink:href=\"psysml:fce0e4a1-8edc-4c38-93d6-a3b5e3670b25\" xlink:show=\"new\" xlink:title=\"psysml:fce0e4a1-8edc-4c38-93d6-a3b5e3670b25\" xlink:type=\"simple\"><path d=\"M87.18,320.23 C87.67,334.82 88.24,351.76 88.74,366.58 \" fill=\"none\" id=\"E11&lt;-E12\" style=\"stroke: #A80036; stroke-width: 1.0;\"/><polygon fill=\"#FFFFFF\" points=\"86.74,307.1,82.9466,313.2327,87.1486,319.093,90.942,312.9603,86.74,307.1\" style=\"stroke: #A80036; stroke-width: 1.0;\"/></a><!--MD5=[f4f17c8bd71de4c5af6a3cc0599d59f5]\n",
       "@startuml\r\n",
       " \r\n",
       "package \"StateTest\" as E1  [[psysml:a2ca8720-bd4b-4556-9b27-091331149f1f ]]  {\r\n",
       "comp def \"Sig\" as E2  <<(D,brown)attribute def>> [[psysml:9b0c6b07-76e0-48e6-88f4-e6a2c752e8e3 ]] {\r\n",
       "x\r\n",
       "}\r\n",
       "comp def \"Exit\" as E3  <<(D,brown)attribute def>> [[psysml:75ee6cec-68f4-495e-910b-3cf4854ee540 ]] {\r\n",
       "}\r\n",
       "comp usage \"p\" as E4  << (P,limegreen) part>> [[psysml:d526add9-9153-4d94-82de-e3d10cc7d584 ]] {\r\n",
       "}\r\n",
       "comp usage \"act\" as E5  <<(U,orange)action>> [[psysml:12bd5d36-0dbf-4715-90c3-b0b875efee55 ]] {\r\n",
       "}\r\n",
       "comp def \"S\" as E6  <<(D,brown)state def>> [[psysml:b6aa9f25-72f8-4c2c-a7be-6589070e9bf6 ]] {\r\n",
       "- - performActions - -\r\n",
       "act\r\n",
       "A\r\n",
       "B\r\n",
       "- - states - -\r\n",
       "S1\r\n",
       "- - transitions - -\r\n",
       "T\r\n",
       "}\r\n",
       "comp usage \"S2\" as E11  <<(U,orange)state>> [[psysml:7a7b17a9-f595-41dc-990f-a07a1c17ba3c ]] {\r\n",
       "}\r\n",
       "comp usage \"doAction\" as E12 <<send action>> [[psysml:fce0e4a1-8edc-4c38-93d6-a3b5e3670b25 ]] {\r\n",
       "- - itemFeatures - -\r\n",
       "item\r\n",
       "}\r\n",
       "E6 *- - E11 [[psysml:7a7b17a9-f595-41dc-990f-a07a1c17ba3c ]] \r\n",
       "E11 o- - E12 [[psysml:fce0e4a1-8edc-4c38-93d6-a3b5e3670b25 ]] \r\n",
       "}\r\n",
       "@enduml\r\n",
       "\n",
       "PlantUML version 1.2020.13(Sat Jun 13 12:26:38 UTC 2020)\n",
       "(EPL source distribution)\n",
       "Java Runtime: OpenJDK Runtime Environment\n",
       "JVM: OpenJDK 64-Bit Server VM\n",
       "Default Encoding: UTF-8\n",
       "Language: en\n",
       "Country: null\n",
       "--></g></svg>"
      ]
     },
     "execution_count": 35,
     "metadata": {},
     "output_type": "execute_result"
    }
   ],
   "source": [
    "%viz --style=\"PLANTUML\" --view=\"Sequence\" \"StateTest\""
   ]
  },
  {
   "cell_type": "code",
   "execution_count": 36,
   "id": "attached-manufacturer",
   "metadata": {
    "execution": {
     "iopub.execute_input": "2021-03-25T15:07:01.707009Z",
     "iopub.status.busy": "2021-03-25T15:07:01.706528Z",
     "iopub.status.idle": "2021-03-25T15:07:01.871491Z",
     "shell.execute_reply": "2021-03-25T15:07:01.869607Z"
    }
   },
   "outputs": [
    {
     "data": {
      "image/svg+xml": [
       "<?xml version=\"1.0\" encoding=\"UTF-8\" standalone=\"no\"?><svg xmlns=\"http://www.w3.org/2000/svg\" xmlns:xlink=\"http://www.w3.org/1999/xlink\" contentScriptType=\"application/ecmascript\" contentStyleType=\"text/css\" height=\"569px\" preserveAspectRatio=\"none\" style=\"width:923px;height:569px;\" version=\"1.1\" viewBox=\"0 0 923 569\" width=\"923px\" zoomAndPan=\"magnify\"><defs><filter height=\"300%\" id=\"f1k97cae6i3gq5\" width=\"300%\" x=\"-1\" y=\"-1\"><feGaussianBlur result=\"blurOut\" stdDeviation=\"2.0\"/><feColorMatrix in=\"blurOut\" result=\"blurOut2\" type=\"matrix\" values=\"0 0 0 0 0 0 0 0 0 0 0 0 0 0 0 0 0 0 .4 0\"/><feOffset dx=\"4.0\" dy=\"4.0\" in=\"blurOut2\" result=\"blurOut3\"/><feBlend in=\"SourceGraphic\" in2=\"blurOut3\" mode=\"normal\"/></filter></defs><g><!--MD5=[fbc87193dbaf4d95561dea2c320d4a47]\n",
       "cluster E1--><a href=\"psysml:a2ca8720-bd4b-4556-9b27-091331149f1f\" target=\"_top\" title=\"psysml:a2ca8720-bd4b-4556-9b27-091331149f1f\" xlink:actuate=\"onRequest\" xlink:href=\"psysml:a2ca8720-bd4b-4556-9b27-091331149f1f\" xlink:show=\"new\" xlink:title=\"psysml:a2ca8720-bd4b-4556-9b27-091331149f1f\" xlink:type=\"simple\"><polygon fill=\"#FFFFFF\" filter=\"url(#f1k97cae6i3gq5)\" points=\"16,6,98,6,105,28.2969,901,28.2969,901,557.5,16,557.5,16,6\" style=\"stroke: #000000; stroke-width: 1.5;\"/><line style=\"stroke: #000000; stroke-width: 1.5;\" x1=\"16\" x2=\"105\" y1=\"28.2969\" y2=\"28.2969\"/><text fill=\"#000000\" font-family=\"sans-serif\" font-size=\"14\" font-weight=\"bold\" lengthAdjust=\"spacingAndGlyphs\" textLength=\"76\" x=\"20\" y=\"20.9951\">StateTest</text></a><!--MD5=[14e3b0961a2654348d326746436168a1]\n",
       "cluster E6--><a href=\"psysml:b6aa9f25-72f8-4c2c-a7be-6589070e9bf6\" target=\"_top\" title=\"psysml:b6aa9f25-72f8-4c2c-a7be-6589070e9bf6\" xlink:actuate=\"onRequest\" xlink:href=\"psysml:b6aa9f25-72f8-4c2c-a7be-6589070e9bf6\" xlink:show=\"new\" xlink:title=\"psysml:b6aa9f25-72f8-4c2c-a7be-6589070e9bf6\" xlink:type=\"simple\"><rect fill=\"#FFFFFF\" filter=\"url(#f1k97cae6i3gq5)\" height=\"484.5\" id=\"E6\" style=\"stroke: #A80036; stroke-width: 1.5;\" width=\"327\" x=\"550\" y=\"49\"/><rect fill=\"#FEFECE\" height=\"37.9375\" style=\"stroke: #A80036; stroke-width: 1.5;\" width=\"327\" x=\"550\" y=\"49\"/><text fill=\"#000000\" font-family=\"sans-serif\" font-size=\"12\" font-style=\"italic\" lengthAdjust=\"spacingAndGlyphs\" textLength=\"71\" x=\"678\" y=\"65.1387\">«state def»</text><text fill=\"#000000\" font-family=\"sans-serif\" font-size=\"12\" lengthAdjust=\"spacingAndGlyphs\" textLength=\"8\" x=\"709.5\" y=\"79.1074\">S</text><line style=\"stroke: #A80036; stroke-width: 1.0;\" x1=\"550\" x2=\"877\" y1=\"132.8438\" y2=\"132.8438\"/><text fill=\"#000000\" font-family=\"sans-serif\" font-size=\"12\" font-weight=\"bold\" lengthAdjust=\"spacingAndGlyphs\" textLength=\"38\" x=\"555\" y=\"100.0762\">entry</text><text fill=\"#000000\" font-family=\"sans-serif\" font-size=\"12\" lengthAdjust=\"spacingAndGlyphs\" textLength=\"16\" x=\"593\" y=\"100.0762\">/ A</text><text fill=\"#000000\" font-family=\"sans-serif\" font-size=\"12\" font-weight=\"bold\" lengthAdjust=\"spacingAndGlyphs\" textLength=\"18\" x=\"555\" y=\"114.0449\">do</text><text fill=\"#000000\" font-family=\"sans-serif\" font-size=\"12\" lengthAdjust=\"spacingAndGlyphs\" textLength=\"16\" x=\"573\" y=\"114.0449\">/ B</text><text fill=\"#000000\" font-family=\"sans-serif\" font-size=\"12\" font-weight=\"bold\" lengthAdjust=\"spacingAndGlyphs\" textLength=\"26\" x=\"555\" y=\"128.0137\">exit</text><text fill=\"#000000\" font-family=\"sans-serif\" font-size=\"12\" lengthAdjust=\"spacingAndGlyphs\" textLength=\"28\" x=\"581\" y=\"128.0137\">/ act</text></a><!--MD5=[b4997ac47864f28c2f74865a473b2911]\n",
       "class E2--><a href=\"psysml:9b0c6b07-76e0-48e6-88f4-e6a2c752e8e3\" target=\"_top\" title=\"psysml:9b0c6b07-76e0-48e6-88f4-e6a2c752e8e3\" xlink:actuate=\"onRequest\" xlink:href=\"psysml:9b0c6b07-76e0-48e6-88f4-e6a2c752e8e3\" xlink:show=\"new\" xlink:title=\"psysml:9b0c6b07-76e0-48e6-88f4-e6a2c752e8e3\" xlink:type=\"simple\"><rect fill=\"#FEFECE\" filter=\"url(#f1k97cae6i3gq5)\" height=\"58.7422\" id=\"E2\" style=\"stroke: #A80036; stroke-width: 1.5;\" width=\"121\" x=\"412.5\" y=\"127.5\"/><ellipse cx=\"427.5\" cy=\"146.4688\" fill=\"#A52A2A\" rx=\"11\" ry=\"11\" style=\"stroke: #A80036; stroke-width: 1.0;\"/><path d=\"M427.0938,142.2813 L427.0938,150.2656 L427.75,150.2656 Q429.1875,150.2656 429.7969,149.3594 Q430.4219,148.4375 430.4219,146.2656 Q430.4219,144.0938 429.7969,143.1875 Q429.1875,142.2813 427.75,142.2813 L427.0938,142.2813 Z M424.6406,140.0781 L427.2656,140.0781 Q430.2969,140.0781 431.625,141.5313 Q432.9688,142.9688 432.9688,146.2656 Q432.9688,149.5625 431.625,151.0156 Q430.2969,152.4688 427.2656,152.4688 L424.6406,152.4688 L424.6406,140.0781 Z \"/><text fill=\"#000000\" font-family=\"sans-serif\" font-size=\"12\" font-style=\"italic\" lengthAdjust=\"spacingAndGlyphs\" textLength=\"93\" x=\"439.5\" y=\"143.6387\">«attribute def»</text><text fill=\"#000000\" font-family=\"sans-serif\" font-size=\"12\" lengthAdjust=\"spacingAndGlyphs\" textLength=\"19\" x=\"476.5\" y=\"157.6074\">Sig</text><line style=\"stroke: #A80036; stroke-width: 1.5;\" x1=\"413.5\" x2=\"532.5\" y1=\"165.4375\" y2=\"165.4375\"/><text fill=\"#000000\" font-family=\"sans-serif\" font-size=\"11\" lengthAdjust=\"spacingAndGlyphs\" textLength=\"6\" x=\"418.5\" y=\"179.6479\">x</text></a><!--MD5=[09b614a08d8cba4a07c9adeb5e0fee81]\n",
       "class E3--><a href=\"psysml:75ee6cec-68f4-495e-910b-3cf4854ee540\" target=\"_top\" title=\"psysml:75ee6cec-68f4-495e-910b-3cf4854ee540\" xlink:actuate=\"onRequest\" xlink:href=\"psysml:75ee6cec-68f4-495e-910b-3cf4854ee540\" xlink:show=\"new\" xlink:title=\"psysml:75ee6cec-68f4-495e-910b-3cf4854ee540\" xlink:type=\"simple\"><rect fill=\"#FEFECE\" filter=\"url(#f1k97cae6i3gq5)\" height=\"45.9375\" id=\"E3\" style=\"stroke: #A80036; stroke-width: 1.5;\" width=\"121\" x=\"256.5\" y=\"134\"/><ellipse cx=\"271.5\" cy=\"152.9688\" fill=\"#A52A2A\" rx=\"11\" ry=\"11\" style=\"stroke: #A80036; stroke-width: 1.0;\"/><path d=\"M271.0938,148.7813 L271.0938,156.7656 L271.75,156.7656 Q273.1875,156.7656 273.7969,155.8594 Q274.4219,154.9375 274.4219,152.7656 Q274.4219,150.5938 273.7969,149.6875 Q273.1875,148.7813 271.75,148.7813 L271.0938,148.7813 Z M268.6406,146.5781 L271.2656,146.5781 Q274.2969,146.5781 275.625,148.0313 Q276.9688,149.4688 276.9688,152.7656 Q276.9688,156.0625 275.625,157.5156 Q274.2969,158.9688 271.2656,158.9688 L268.6406,158.9688 L268.6406,146.5781 Z \"/><text fill=\"#000000\" font-family=\"sans-serif\" font-size=\"12\" font-style=\"italic\" lengthAdjust=\"spacingAndGlyphs\" textLength=\"93\" x=\"283.5\" y=\"150.1387\">«attribute def»</text><text fill=\"#000000\" font-family=\"sans-serif\" font-size=\"12\" lengthAdjust=\"spacingAndGlyphs\" textLength=\"22\" x=\"319\" y=\"164.1074\">Exit</text><line style=\"stroke: #A80036; stroke-width: 1.5;\" x1=\"257.5\" x2=\"376.5\" y1=\"171.9375\" y2=\"171.9375\"/></a><!--MD5=[ebbe1d658d1005bcc118a6aa81145e00]\n",
       "class E4--><a href=\"psysml:d526add9-9153-4d94-82de-e3d10cc7d584\" target=\"_top\" title=\"psysml:d526add9-9153-4d94-82de-e3d10cc7d584\" xlink:actuate=\"onRequest\" xlink:href=\"psysml:d526add9-9153-4d94-82de-e3d10cc7d584\" xlink:show=\"new\" xlink:title=\"psysml:d526add9-9153-4d94-82de-e3d10cc7d584\" xlink:type=\"simple\"><rect fill=\"#FEFECE\" filter=\"url(#f1k97cae6i3gq5)\" height=\"45.9375\" id=\"E4\" rx=\"10\" ry=\"10\" style=\"stroke: #A80036; stroke-width: 1.5;\" width=\"68\" x=\"153\" y=\"134\"/><ellipse cx=\"168\" cy=\"152.9688\" fill=\"#32CD32\" rx=\"11\" ry=\"11\" style=\"stroke: #A80036; stroke-width: 1.0;\"/><path d=\"M167.7969,148.6406 L167.7969,152.2656 L168.7969,152.2656 Q170,152.2656 170.4844,151.8594 Q170.9688,151.4531 170.9688,150.4531 Q170.9688,149.4531 170.4844,149.0469 Q170,148.6406 168.7969,148.6406 L167.7969,148.6406 Z M165.3438,146.5781 L168.7031,146.5781 Q171.2656,146.5781 172.3906,147.5 Q173.5156,148.4063 173.5156,150.4531 Q173.5156,152.5 172.3906,153.4219 Q171.2656,154.3281 168.7031,154.3281 L167.7969,154.3281 L167.7969,158.9688 L165.3438,158.9688 L165.3438,146.5781 Z \"/><text fill=\"#000000\" font-family=\"sans-serif\" font-size=\"12\" font-style=\"italic\" lengthAdjust=\"spacingAndGlyphs\" textLength=\"40\" x=\"180\" y=\"150.1387\">«part»</text><text fill=\"#000000\" font-family=\"sans-serif\" font-size=\"12\" lengthAdjust=\"spacingAndGlyphs\" textLength=\"8\" x=\"196\" y=\"164.1074\">p</text><line style=\"stroke: #A80036; stroke-width: 1.5;\" x1=\"154\" x2=\"220\" y1=\"171.9375\" y2=\"171.9375\"/></a><g id=\"E1.E5\"><a href=\"psysml:12bd5d36-0dbf-4715-90c3-b0b875efee55\" target=\"_top\" title=\"psysml:12bd5d36-0dbf-4715-90c3-b0b875efee55\" xlink:actuate=\"onRequest\" xlink:href=\"psysml:12bd5d36-0dbf-4715-90c3-b0b875efee55\" xlink:show=\"new\" xlink:title=\"psysml:12bd5d36-0dbf-4715-90c3-b0b875efee55\" xlink:type=\"simple\"><rect fill=\"#FEFECE\" filter=\"url(#f1k97cae6i3gq5)\" height=\"42.9375\" id=\"E5\" rx=\"10\" ry=\"10\" style=\"stroke: #A80036; stroke-width: 1.5;\" width=\"86\" x=\"32\" y=\"135.5\"/><ellipse cx=\"49.25\" cy=\"154.4688\" fill=\"#FFA500\" rx=\"11\" ry=\"11\" style=\"stroke: #A80036; stroke-width: 1.0;\"/><path d=\"M45.125,156.3906 L45.125,148.5781 L47.5781,148.5781 L47.5781,157.0156 Q47.5781,157.9375 48.0469,158.4688 Q48.5313,159 49.3594,159 Q50.2031,159 50.6719,158.4688 Q51.1406,157.9375 51.1406,157.0156 L51.1406,148.5781 L53.5938,148.5781 L53.5938,156.3906 Q53.5938,158.9219 52.5938,160.0625 Q51.5938,161.2031 49.3594,161.2031 Q47.1406,161.2031 46.125,160.0625 Q45.125,158.9219 45.125,156.3906 Z \"/><text fill=\"#000000\" font-family=\"sans-serif\" font-size=\"12\" font-style=\"italic\" lengthAdjust=\"spacingAndGlyphs\" textLength=\"53\" x=\"61.75\" y=\"151.6387\">«action»</text><text fill=\"#000000\" font-family=\"sans-serif\" font-size=\"12\" lengthAdjust=\"spacingAndGlyphs\" textLength=\"20\" x=\"78.25\" y=\"165.6074\">act</text></a></g><ellipse cx=\"662\" cy=\"157\" fill=\"#000000\" filter=\"url(#f1k97cae6i3gq5)\" rx=\"10\" ry=\"10\" style=\"stroke: none; stroke-width: 1.0;\"/><ellipse cx=\"662\" cy=\"507.5\" fill=\"none\" filter=\"url(#f1k97cae6i3gq5)\" rx=\"10\" ry=\"10\" style=\"stroke: #000000; stroke-width: 1.0;\"/><ellipse cx=\"662.5\" cy=\"508\" fill=\"#000000\" rx=\"6\" ry=\"6\" style=\"stroke: none; stroke-width: 1.0;\"/><g id=\"E1.E6.E7\"><a href=\"psysml:1cabaaec-9539-448a-9df0-432fc817479b\" target=\"_top\" title=\"psysml:1cabaaec-9539-448a-9df0-432fc817479b\" xlink:actuate=\"onRequest\" xlink:href=\"psysml:1cabaaec-9539-448a-9df0-432fc817479b\" xlink:show=\"new\" xlink:title=\"psysml:1cabaaec-9539-448a-9df0-432fc817479b\" xlink:type=\"simple\"><rect fill=\"#FEFECE\" filter=\"url(#f1k97cae6i3gq5)\" height=\"40\" id=\"E7\" rx=\"10\" ry=\"10\" style=\"stroke: #A80036; stroke-width: 1.5;\" width=\"53\" x=\"635.5\" y=\"247.5\"/><ellipse cx=\"652.75\" cy=\"263.5\" fill=\"#B6DBBB\" rx=\"11\" ry=\"11\" style=\"stroke: #A80036; stroke-width: 1.0;\"/><path d=\"M648.625,265.4219 L648.625,257.6094 L651.0781,257.6094 L651.0781,266.0469 Q651.0781,266.9688 651.5469,267.5 Q652.0313,268.0313 652.8594,268.0313 Q653.7031,268.0313 654.1719,267.5 Q654.6406,266.9688 654.6406,266.0469 L654.6406,257.6094 L657.0938,257.6094 L657.0938,265.4219 Q657.0938,267.9531 656.0938,269.0938 Q655.0938,270.2344 652.8594,270.2344 Q650.6406,270.2344 649.625,269.0938 Q648.625,267.9531 648.625,265.4219 Z \"/><text fill=\"#000000\" font-family=\"sans-serif\" font-size=\"12\" lengthAdjust=\"spacingAndGlyphs\" textLength=\"16\" x=\"667.25\" y=\"267.6543\">S1</text></a></g><g id=\"E1.E6.E8\"><a href=\"psysml:7a7b17a9-f595-41dc-990f-a07a1c17ba3c\" target=\"_top\" title=\"psysml:7a7b17a9-f595-41dc-990f-a07a1c17ba3c\" xlink:actuate=\"onRequest\" xlink:href=\"psysml:7a7b17a9-f595-41dc-990f-a07a1c17ba3c\" xlink:show=\"new\" xlink:title=\"psysml:7a7b17a9-f595-41dc-990f-a07a1c17ba3c\" xlink:type=\"simple\"><rect fill=\"#FEFECE\" filter=\"url(#f1k97cae6i3gq5)\" height=\"55.9688\" id=\"E8\" rx=\"10\" ry=\"10\" style=\"stroke: #A80036; stroke-width: 1.5;\" width=\"58\" x=\"633\" y=\"364.5\"/><ellipse cx=\"652.5\" cy=\"380.5\" fill=\"#B6DBBB\" rx=\"11\" ry=\"11\" style=\"stroke: #A80036; stroke-width: 1.0;\"/><path d=\"M648.375,382.4219 L648.375,374.6094 L650.8281,374.6094 L650.8281,383.0469 Q650.8281,383.9688 651.2969,384.5 Q651.7813,385.0313 652.6094,385.0313 Q653.4531,385.0313 653.9219,384.5 Q654.3906,383.9688 654.3906,383.0469 L654.3906,374.6094 L656.8438,374.6094 L656.8438,382.4219 Q656.8438,384.9531 655.8438,386.0938 Q654.8438,387.2344 652.6094,387.2344 Q650.3906,387.2344 649.375,386.0938 Q648.375,384.9531 648.375,382.4219 Z \"/><text fill=\"#000000\" font-family=\"sans-serif\" font-size=\"12\" lengthAdjust=\"spacingAndGlyphs\" textLength=\"16\" x=\"667.5\" y=\"384.6543\">S2</text><line style=\"stroke: #A80036; stroke-width: 1.0;\" x1=\"633\" x2=\"691\" y1=\"396.5\" y2=\"396.5\"/><text fill=\"#000000\" font-family=\"sans-serif\" font-size=\"12\" font-weight=\"bold\" lengthAdjust=\"spacingAndGlyphs\" textLength=\"18\" x=\"638\" y=\"409.6387\">do</text><text fill=\"#000000\" font-family=\"sans-serif\" font-size=\"12\" lengthAdjust=\"spacingAndGlyphs\" textLength=\"4\" x=\"656\" y=\"409.6387\">/</text></a></g><!--MD5=[5a531d3a85f3339e6e197084acb48195]\n",
       "link *start*E6 to E7--><a href=\"psysml:0b737fa2-1baa-4df5-913b-a090a33456a1\" target=\"_top\" title=\"psysml:0b737fa2-1baa-4df5-913b-a090a33456a1\" xlink:actuate=\"onRequest\" xlink:href=\"psysml:0b737fa2-1baa-4df5-913b-a090a33456a1\" xlink:show=\"new\" xlink:title=\"psysml:0b737fa2-1baa-4df5-913b-a090a33456a1\" xlink:type=\"simple\"><path d=\"M662,167.25 C662,183.64 662,218.28 662,241.97 \" fill=\"none\" id=\"*start*E6-&gt;E7\" style=\"stroke: #A80036; stroke-width: 1.0;\"/><polygon fill=\"#A80036\" points=\"662,247.15,666,238.15,662,242.15,658,238.15,662,247.15\" style=\"stroke: #A80036; stroke-width: 1.0;\"/></a><!--MD5=[7ec9a8babba89ddcae1318ca9fb3c814]\n",
       "link E8 to *end*E6--><a href=\"psysml:a8c9411f-d651-41a0-86c1-118f6cba8c1d\" target=\"_top\" title=\"psysml:a8c9411f-d651-41a0-86c1-118f6cba8c1d\" xlink:actuate=\"onRequest\" xlink:href=\"psysml:a8c9411f-d651-41a0-86c1-118f6cba8c1d\" xlink:show=\"new\" xlink:title=\"psysml:a8c9411f-d651-41a0-86c1-118f6cba8c1d\" xlink:type=\"simple\"><path d=\"M662,420.57 C662,443.05 662,474.17 662,492.13 \" fill=\"none\" id=\"E8-&gt;*end*E6\" style=\"stroke: #A80036; stroke-width: 1.0;\"/><polygon fill=\"#A80036\" points=\"662,497.26,666,488.26,662,492.26,658,488.26,662,497.26\" style=\"stroke: #A80036; stroke-width: 1.0;\"/><text fill=\"#000000\" font-family=\"sans-serif\" font-size=\"13\" lengthAdjust=\"spacingAndGlyphs\" textLength=\"23\" x=\"663\" y=\"463.5669\">Exit</text></a><!--MD5=[79bc8f324ef4d02c541433f2e6e513c3]\n",
       "link E7 to E8--><a href=\"psysml:eefcc534-c981-4425-9bf3-38251bd12a49\" target=\"_top\" title=\"psysml:eefcc534-c981-4425-9bf3-38251bd12a49\" xlink:actuate=\"onRequest\" xlink:href=\"psysml:eefcc534-c981-4425-9bf3-38251bd12a49\" xlink:show=\"new\" xlink:title=\"psysml:eefcc534-c981-4425-9bf3-38251bd12a49\" xlink:type=\"simple\"><path d=\"M635.25,280.67 C613.47,292.49 587.88,311.93 598,334.5 C604.51,349.01 616.74,361.35 628.79,370.79 \" fill=\"none\" id=\"E7-&gt;E8\" style=\"stroke: #A80036; stroke-width: 1.0;\"/><polygon fill=\"#A80036\" points=\"632.86,373.88,628.0945,365.2609,628.872,370.864,623.2689,371.6416,632.86,373.88\" style=\"stroke: #A80036; stroke-width: 1.0;\"/><text fill=\"#000000\" font-family=\"sans-serif\" font-size=\"13\" lengthAdjust=\"spacingAndGlyphs\" textLength=\"81\" x=\"599\" y=\"330.5669\">Sig /action D</text></a><!--MD5=[bfa3c8b0d15052fdf50ae9310b491027]\n",
       "link E8 to E7--><a href=\"psysml:bcd703ca-2055-4c24-98bc-6c579eb31483\" target=\"_top\" title=\"psysml:bcd703ca-2055-4c24-98bc-6c579eb31483\" xlink:actuate=\"onRequest\" xlink:href=\"psysml:bcd703ca-2055-4c24-98bc-6c579eb31483\" xlink:show=\"new\" xlink:title=\"psysml:bcd703ca-2055-4c24-98bc-6c579eb31483\" xlink:type=\"simple\"><path d=\"M677.55,364.38 C683.68,350.5 688.51,333.26 685,317.5 C683.1,308.99 679.56,300.22 675.82,292.49 \" fill=\"none\" id=\"E8-&gt;E7\" style=\"stroke: #A80036; stroke-width: 1.0;\"/><polygon fill=\"#A80036\" points=\"673.47,287.82,673.9298,297.6581,675.7118,292.2893,681.0806,294.0713,673.47,287.82\" style=\"stroke: #A80036; stroke-width: 1.0;\"/><text fill=\"#000000\" font-family=\"sans-serif\" font-size=\"13\" lengthAdjust=\"spacingAndGlyphs\" textLength=\"135\" x=\"687\" y=\"330.5669\">Sig [true]/send s to p</text></a><!--MD5=[e8e600a810642c638b9d17034610d757]\n",
       "@startuml\r\n",
       " \r\n",
       "package \"StateTest\" as E1  [[psysml:a2ca8720-bd4b-4556-9b27-091331149f1f ]]  {\r\n",
       "comp def \"Sig\" as E2  <<(D,brown)attribute def>> [[psysml:9b0c6b07-76e0-48e6-88f4-e6a2c752e8e3 ]] {\r\n",
       "x\r\n",
       "}\r\n",
       "comp def \"Exit\" as E3  <<(D,brown)attribute def>> [[psysml:75ee6cec-68f4-495e-910b-3cf4854ee540 ]] {\r\n",
       "}\r\n",
       "comp usage \"p\" as E4  << (P,limegreen) part>> [[psysml:d526add9-9153-4d94-82de-e3d10cc7d584 ]] {\r\n",
       "}\r\n",
       "rec usage \"act\" as E5  <<(U,orange)action>> [[psysml:12bd5d36-0dbf-4715-90c3-b0b875efee55 ]] {\r\n",
       "}\r\n",
       "\r\n",
       "rec def \"S\" as E6  <<(D,brown)state def>> [[psysml:b6aa9f25-72f8-4c2c-a7be-6589070e9bf6 ]] {\r\n",
       "rec usage \"S1\" as E7 [[psysml:1cabaaec-9539-448a-9df0-432fc817479b ]] {\r\n",
       "}\r\n",
       "\r\n",
       "rec usage \"S2\" as E8 [[psysml:7a7b17a9-f595-41dc-990f-a07a1c17ba3c ]] {\r\n",
       "desc \"S2\" as E8  : **do**/ \r\n",
       "}\r\n",
       "\r\n",
       "[*] - -> E7 [[psysml:0b737fa2-1baa-4df5-913b-a090a33456a1 ]] \r\n",
       "E8  - -> [*] [[psysml:a8c9411f-d651-41a0-86c1-118f6cba8c1d ]] : Exit \r\n",
       "desc \"S\" as E6  : **entry**/ A\r\n",
       "desc \"S\" as E6  : **do**/ B\r\n",
       "desc \"S\" as E6  : **exit**/ act \r\n",
       "}\r\n",
       "\r\n",
       "E7  - -> E8 [[psysml:eefcc534-c981-4425-9bf3-38251bd12a49 ]] : Sig /action D\r\n",
       "E8  - -> E7 [[psysml:bcd703ca-2055-4c24-98bc-6c579eb31483 ]] : Sig [true]/send s to p\r\n",
       "}\r\n",
       "@enduml\r\n",
       "\n",
       "PlantUML version 1.2020.13(Sat Jun 13 12:26:38 UTC 2020)\n",
       "(EPL source distribution)\n",
       "Java Runtime: OpenJDK Runtime Environment\n",
       "JVM: OpenJDK 64-Bit Server VM\n",
       "Default Encoding: UTF-8\n",
       "Language: en\n",
       "Country: null\n",
       "--></g></svg>"
      ]
     },
     "execution_count": 36,
     "metadata": {},
     "output_type": "execute_result"
    }
   ],
   "source": [
    "%viz --style=\"PLANTUML\" --view=\"MIXED\" \"StateTest\""
   ]
  },
  {
   "cell_type": "code",
   "execution_count": 37,
   "id": "amber-accounting",
   "metadata": {
    "execution": {
     "iopub.execute_input": "2021-03-25T15:07:01.924159Z",
     "iopub.status.busy": "2021-03-25T15:07:01.923365Z",
     "iopub.status.idle": "2021-03-25T15:07:02.096806Z",
     "shell.execute_reply": "2021-03-25T15:07:02.095291Z"
    }
   },
   "outputs": [
    {
     "data": {
      "image/svg+xml": [
       "<?xml version=\"1.0\" encoding=\"UTF-8\" standalone=\"no\"?><svg xmlns=\"http://www.w3.org/2000/svg\" xmlns:xlink=\"http://www.w3.org/1999/xlink\" contentScriptType=\"application/ecmascript\" contentStyleType=\"text/css\" height=\"570px\" preserveAspectRatio=\"none\" style=\"width:819px;height:570px;\" version=\"1.1\" viewBox=\"0 0 819 570\" width=\"819px\" zoomAndPan=\"magnify\"><defs/><g><!--MD5=[fbc87193dbaf4d95561dea2c320d4a47]\n",
       "cluster E1--><a href=\"psysml:a2ca8720-bd4b-4556-9b27-091331149f1f\" target=\"_top\" title=\"psysml:a2ca8720-bd4b-4556-9b27-091331149f1f\" xlink:actuate=\"onRequest\" xlink:href=\"psysml:a2ca8720-bd4b-4556-9b27-091331149f1f\" xlink:show=\"new\" xlink:title=\"psysml:a2ca8720-bd4b-4556-9b27-091331149f1f\" xlink:type=\"simple\"><polygon fill=\"#FFFFFF\" points=\"16,6,98,6,105,28.2969,797,28.2969,797,558,16,558,16,6\" style=\"stroke: #000000; stroke-width: 1.5;\"/><line style=\"stroke: #000000; stroke-width: 1.5;\" x1=\"16\" x2=\"105\" y1=\"28.2969\" y2=\"28.2969\"/><text fill=\"#000000\" font-family=\"sans-serif\" font-size=\"14\" font-weight=\"bold\" lengthAdjust=\"spacingAndGlyphs\" textLength=\"76\" x=\"20\" y=\"20.9951\">StateTest</text></a><!--MD5=[14e3b0961a2654348d326746436168a1]\n",
       "cluster E6--><a href=\"psysml:b6aa9f25-72f8-4c2c-a7be-6589070e9bf6\" target=\"_top\" title=\"psysml:b6aa9f25-72f8-4c2c-a7be-6589070e9bf6\" xlink:actuate=\"onRequest\" xlink:href=\"psysml:b6aa9f25-72f8-4c2c-a7be-6589070e9bf6\" xlink:show=\"new\" xlink:title=\"psysml:b6aa9f25-72f8-4c2c-a7be-6589070e9bf6\" xlink:type=\"simple\"><rect fill=\"#FFFFFF\" height=\"485\" id=\"E6\" style=\"stroke: #383838; stroke-width: 1.5;\" width=\"327\" x=\"446\" y=\"49\"/><rect fill=\"#F8F8F8\" height=\"37.9375\" style=\"stroke: #383838; stroke-width: 1.5;\" width=\"327\" x=\"446\" y=\"49\"/><text fill=\"#000000\" font-family=\"sans-serif\" font-size=\"12\" font-style=\"italic\" lengthAdjust=\"spacingAndGlyphs\" textLength=\"71\" x=\"574\" y=\"65.1387\">«state def»</text><text fill=\"#000000\" font-family=\"sans-serif\" font-size=\"12\" lengthAdjust=\"spacingAndGlyphs\" textLength=\"8\" x=\"605.5\" y=\"79.1074\">S</text><line style=\"stroke: #383838; stroke-width: 1.0;\" x1=\"446\" x2=\"773\" y1=\"132.8438\" y2=\"132.8438\"/><text fill=\"#000000\" font-family=\"sans-serif\" font-size=\"12\" font-weight=\"bold\" lengthAdjust=\"spacingAndGlyphs\" textLength=\"38\" x=\"451\" y=\"100.0762\">entry</text><text fill=\"#000000\" font-family=\"sans-serif\" font-size=\"12\" lengthAdjust=\"spacingAndGlyphs\" textLength=\"16\" x=\"489\" y=\"100.0762\">/ A</text><text fill=\"#000000\" font-family=\"sans-serif\" font-size=\"12\" font-weight=\"bold\" lengthAdjust=\"spacingAndGlyphs\" textLength=\"18\" x=\"451\" y=\"114.0449\">do</text><text fill=\"#000000\" font-family=\"sans-serif\" font-size=\"12\" lengthAdjust=\"spacingAndGlyphs\" textLength=\"16\" x=\"469\" y=\"114.0449\">/ B</text><text fill=\"#000000\" font-family=\"sans-serif\" font-size=\"12\" font-weight=\"bold\" lengthAdjust=\"spacingAndGlyphs\" textLength=\"26\" x=\"451\" y=\"128.0137\">exit</text><text fill=\"#000000\" font-family=\"sans-serif\" font-size=\"12\" lengthAdjust=\"spacingAndGlyphs\" textLength=\"28\" x=\"477\" y=\"128.0137\">/ act</text></a><!--MD5=[b4997ac47864f28c2f74865a473b2911]\n",
       "class E2--><a href=\"psysml:9b0c6b07-76e0-48e6-88f4-e6a2c752e8e3\" target=\"_top\" title=\"psysml:9b0c6b07-76e0-48e6-88f4-e6a2c752e8e3\" xlink:actuate=\"onRequest\" xlink:href=\"psysml:9b0c6b07-76e0-48e6-88f4-e6a2c752e8e3\" xlink:show=\"new\" xlink:title=\"psysml:9b0c6b07-76e0-48e6-88f4-e6a2c752e8e3\" xlink:type=\"simple\"><rect fill=\"#FFFFFF\" height=\"75.5469\" id=\"E2\" style=\"stroke: #383838; stroke-width: 1.5;\" width=\"95\" x=\"334.5\" y=\"119\"/><text fill=\"#000000\" font-family=\"sans-serif\" font-size=\"12\" font-style=\"italic\" lengthAdjust=\"spacingAndGlyphs\" textLength=\"93\" x=\"335.5\" y=\"135.1387\">«attribute def»</text><text fill=\"#000000\" font-family=\"sans-serif\" font-size=\"12\" lengthAdjust=\"spacingAndGlyphs\" textLength=\"19\" x=\"372.5\" y=\"149.1074\">Sig</text><line style=\"stroke: #383838; stroke-width: 1.5;\" x1=\"335.5\" x2=\"428.5\" y1=\"156.9375\" y2=\"156.9375\"/><text fill=\"#000000\" font-family=\"sans-serif\" font-size=\"11\" lengthAdjust=\"spacingAndGlyphs\" textLength=\"6\" x=\"340.5\" y=\"187.9526\">x</text><line style=\"stroke: #383838; stroke-width: 1.0;\" x1=\"335.5\" x2=\"354.5\" y1=\"171.3398\" y2=\"171.3398\"/><text fill=\"#000000\" font-family=\"sans-serif\" font-size=\"11\" lengthAdjust=\"spacingAndGlyphs\" textLength=\"55\" x=\"354.5\" y=\"174.6479\">attributes</text><line style=\"stroke: #383838; stroke-width: 1.0;\" x1=\"409.5\" x2=\"428.5\" y1=\"171.3398\" y2=\"171.3398\"/></a><!--MD5=[09b614a08d8cba4a07c9adeb5e0fee81]\n",
       "class E3--><a href=\"psysml:75ee6cec-68f4-495e-910b-3cf4854ee540\" target=\"_top\" title=\"psysml:75ee6cec-68f4-495e-910b-3cf4854ee540\" xlink:actuate=\"onRequest\" xlink:href=\"psysml:75ee6cec-68f4-495e-910b-3cf4854ee540\" xlink:show=\"new\" xlink:title=\"psysml:75ee6cec-68f4-495e-910b-3cf4854ee540\" xlink:type=\"simple\"><rect fill=\"#FFFFFF\" height=\"45.9375\" id=\"E3\" style=\"stroke: #383838; stroke-width: 1.5;\" width=\"95\" x=\"204.5\" y=\"134\"/><text fill=\"#000000\" font-family=\"sans-serif\" font-size=\"12\" font-style=\"italic\" lengthAdjust=\"spacingAndGlyphs\" textLength=\"93\" x=\"205.5\" y=\"150.1387\">«attribute def»</text><text fill=\"#000000\" font-family=\"sans-serif\" font-size=\"12\" lengthAdjust=\"spacingAndGlyphs\" textLength=\"22\" x=\"241\" y=\"164.1074\">Exit</text><line style=\"stroke: #383838; stroke-width: 1.5;\" x1=\"205.5\" x2=\"298.5\" y1=\"171.9375\" y2=\"171.9375\"/></a><!--MD5=[ebbe1d658d1005bcc118a6aa81145e00]\n",
       "class E4--><a href=\"psysml:d526add9-9153-4d94-82de-e3d10cc7d584\" target=\"_top\" title=\"psysml:d526add9-9153-4d94-82de-e3d10cc7d584\" xlink:actuate=\"onRequest\" xlink:href=\"psysml:d526add9-9153-4d94-82de-e3d10cc7d584\" xlink:show=\"new\" xlink:title=\"psysml:d526add9-9153-4d94-82de-e3d10cc7d584\" xlink:type=\"simple\"><rect fill=\"#FFFFFF\" height=\"45.9375\" id=\"E4\" rx=\"10\" ry=\"10\" style=\"stroke: #383838; stroke-width: 1.5;\" width=\"42\" x=\"127\" y=\"134\"/><text fill=\"#000000\" font-family=\"sans-serif\" font-size=\"12\" font-style=\"italic\" lengthAdjust=\"spacingAndGlyphs\" textLength=\"40\" x=\"128\" y=\"150.1387\">«part»</text><text fill=\"#000000\" font-family=\"sans-serif\" font-size=\"12\" lengthAdjust=\"spacingAndGlyphs\" textLength=\"8\" x=\"144\" y=\"164.1074\">p</text><line style=\"stroke: #383838; stroke-width: 1.5;\" x1=\"128\" x2=\"168\" y1=\"171.9375\" y2=\"171.9375\"/></a><g id=\"E1.E5\"><a href=\"psysml:12bd5d36-0dbf-4715-90c3-b0b875efee55\" target=\"_top\" title=\"psysml:12bd5d36-0dbf-4715-90c3-b0b875efee55\" xlink:actuate=\"onRequest\" xlink:href=\"psysml:12bd5d36-0dbf-4715-90c3-b0b875efee55\" xlink:show=\"new\" xlink:title=\"psysml:12bd5d36-0dbf-4715-90c3-b0b875efee55\" xlink:type=\"simple\"><rect fill=\"#FFFFFF\" height=\"42.9375\" id=\"E5\" rx=\"10\" ry=\"10\" style=\"stroke: #383838; stroke-width: 1.5;\" width=\"60\" x=\"32\" y=\"135.5\"/><rect fill=\"#F8F8F8\" height=\"37.9375\" rx=\"10\" ry=\"10\" style=\"stroke: #F8F8F8; stroke-width: 1.5;\" width=\"60\" x=\"32\" y=\"135.5\"/><rect fill=\"#F8F8F8\" height=\"10\" style=\"stroke: #F8F8F8; stroke-width: 1.5;\" width=\"60\" x=\"32\" y=\"163.4375\"/><rect fill=\"none\" height=\"42.9375\" id=\"E5\" rx=\"10\" ry=\"10\" style=\"stroke: #383838; stroke-width: 1.5;\" width=\"60\" x=\"32\" y=\"135.5\"/><text fill=\"#000000\" font-family=\"sans-serif\" font-size=\"12\" font-style=\"italic\" lengthAdjust=\"spacingAndGlyphs\" textLength=\"53\" x=\"35.5\" y=\"151.6387\">«action»</text><text fill=\"#000000\" font-family=\"sans-serif\" font-size=\"12\" lengthAdjust=\"spacingAndGlyphs\" textLength=\"20\" x=\"52\" y=\"165.6074\">act</text></a></g><ellipse cx=\"558\" cy=\"157\" fill=\"#000000\" rx=\"10\" ry=\"10\" style=\"stroke: none; stroke-width: 1.0;\"/><ellipse cx=\"558\" cy=\"508\" fill=\"none\" rx=\"10\" ry=\"10\" style=\"stroke: #000000; stroke-width: 1.0;\"/><ellipse cx=\"558.5\" cy=\"508.5\" fill=\"#000000\" rx=\"6\" ry=\"6\" style=\"stroke: none; stroke-width: 1.0;\"/><g id=\"E1.E6.E7\"><a href=\"psysml:1cabaaec-9539-448a-9df0-432fc817479b\" target=\"_top\" title=\"psysml:1cabaaec-9539-448a-9df0-432fc817479b\" xlink:actuate=\"onRequest\" xlink:href=\"psysml:1cabaaec-9539-448a-9df0-432fc817479b\" xlink:show=\"new\" xlink:title=\"psysml:1cabaaec-9539-448a-9df0-432fc817479b\" xlink:type=\"simple\"><rect fill=\"#FFFFFF\" height=\"40\" id=\"E7\" rx=\"10\" ry=\"10\" style=\"stroke: #383838; stroke-width: 1.5;\" width=\"50\" x=\"533\" y=\"256\"/><rect fill=\"#F8F8F8\" height=\"23.9688\" rx=\"10\" ry=\"10\" style=\"stroke: #F8F8F8; stroke-width: 1.5;\" width=\"50\" x=\"533\" y=\"256\"/><rect fill=\"#F8F8F8\" height=\"10\" style=\"stroke: #F8F8F8; stroke-width: 1.5;\" width=\"50\" x=\"533\" y=\"269.9688\"/><rect fill=\"none\" height=\"40\" id=\"E7\" rx=\"10\" ry=\"10\" style=\"stroke: #383838; stroke-width: 1.5;\" width=\"50\" x=\"533\" y=\"256\"/><text fill=\"#000000\" font-family=\"sans-serif\" font-size=\"12\" lengthAdjust=\"spacingAndGlyphs\" textLength=\"16\" x=\"550\" y=\"272.1387\">S1</text></a></g><g id=\"E1.E6.E8\"><a href=\"psysml:7a7b17a9-f595-41dc-990f-a07a1c17ba3c\" target=\"_top\" title=\"psysml:7a7b17a9-f595-41dc-990f-a07a1c17ba3c\" xlink:actuate=\"onRequest\" xlink:href=\"psysml:7a7b17a9-f595-41dc-990f-a07a1c17ba3c\" xlink:show=\"new\" xlink:title=\"psysml:7a7b17a9-f595-41dc-990f-a07a1c17ba3c\" xlink:type=\"simple\"><rect fill=\"#FFFFFF\" height=\"47.9375\" id=\"E8\" rx=\"10\" ry=\"10\" style=\"stroke: #383838; stroke-width: 1.5;\" width=\"50\" x=\"533\" y=\"373\"/><rect fill=\"#F8F8F8\" height=\"23.9688\" rx=\"10\" ry=\"10\" style=\"stroke: #F8F8F8; stroke-width: 1.5;\" width=\"50\" x=\"533\" y=\"373\"/><rect fill=\"#F8F8F8\" height=\"10\" style=\"stroke: #F8F8F8; stroke-width: 1.5;\" width=\"50\" x=\"533\" y=\"386.9688\"/><rect fill=\"none\" height=\"47.9375\" id=\"E8\" rx=\"10\" ry=\"10\" style=\"stroke: #383838; stroke-width: 1.5;\" width=\"50\" x=\"533\" y=\"373\"/><text fill=\"#000000\" font-family=\"sans-serif\" font-size=\"12\" lengthAdjust=\"spacingAndGlyphs\" textLength=\"16\" x=\"550\" y=\"389.1387\">S2</text><line style=\"stroke: #383838; stroke-width: 1.0;\" x1=\"533\" x2=\"583\" y1=\"396.9688\" y2=\"396.9688\"/><text fill=\"#000000\" font-family=\"sans-serif\" font-size=\"12\" font-weight=\"bold\" lengthAdjust=\"spacingAndGlyphs\" textLength=\"18\" x=\"538\" y=\"410.1074\">do</text><text fill=\"#000000\" font-family=\"sans-serif\" font-size=\"12\" lengthAdjust=\"spacingAndGlyphs\" textLength=\"4\" x=\"556\" y=\"410.1074\">/</text></a></g><!--MD5=[5a531d3a85f3339e6e197084acb48195]\n",
       "link *start*E6 to E7--><a href=\"psysml:0b737fa2-1baa-4df5-913b-a090a33456a1\" target=\"_top\" title=\"psysml:0b737fa2-1baa-4df5-913b-a090a33456a1\" xlink:actuate=\"onRequest\" xlink:href=\"psysml:0b737fa2-1baa-4df5-913b-a090a33456a1\" xlink:show=\"new\" xlink:title=\"psysml:0b737fa2-1baa-4df5-913b-a090a33456a1\" xlink:type=\"simple\"><path d=\"M558,167.18 C558,184.98 558,224.73 558,250.67 \" fill=\"none\" id=\"*start*E6-&gt;E7\" style=\"stroke: #383838; stroke-width: 1.0;\"/><polygon fill=\"#383838\" points=\"558,255.98,562,246.98,558,250.98,554,246.98,558,255.98\" style=\"stroke: #383838; stroke-width: 1.0;\"/></a><!--MD5=[7ec9a8babba89ddcae1318ca9fb3c814]\n",
       "link E8 to *end*E6--><a href=\"psysml:a8c9411f-d651-41a0-86c1-118f6cba8c1d\" target=\"_top\" title=\"psysml:a8c9411f-d651-41a0-86c1-118f6cba8c1d\" xlink:actuate=\"onRequest\" xlink:href=\"psysml:a8c9411f-d651-41a0-86c1-118f6cba8c1d\" xlink:show=\"new\" xlink:title=\"psysml:a8c9411f-d651-41a0-86c1-118f6cba8c1d\" xlink:type=\"simple\"><path d=\"M558,421.12 C558,442.75 558,474.39 558,492.62 \" fill=\"none\" id=\"E8-&gt;*end*E6\" style=\"stroke: #383838; stroke-width: 1.0;\"/><polygon fill=\"#383838\" points=\"558,497.82,562,488.82,558,492.82,554,488.82,558,497.82\" style=\"stroke: #383838; stroke-width: 1.0;\"/><text fill=\"#000000\" font-family=\"sans-serif\" font-size=\"13\" lengthAdjust=\"spacingAndGlyphs\" textLength=\"23\" x=\"559\" y=\"464.0669\">Exit</text></a><!--MD5=[79bc8f324ef4d02c541433f2e6e513c3]\n",
       "link E7 to E8--><a href=\"psysml:eefcc534-c981-4425-9bf3-38251bd12a49\" target=\"_top\" title=\"psysml:eefcc534-c981-4425-9bf3-38251bd12a49\" xlink:actuate=\"onRequest\" xlink:href=\"psysml:eefcc534-c981-4425-9bf3-38251bd12a49\" xlink:show=\"new\" xlink:title=\"psysml:eefcc534-c981-4425-9bf3-38251bd12a49\" xlink:type=\"simple\"><path d=\"M532.93,288.88 C518.69,297.12 502.12,309.56 494,326 C483.11,348.05 506.72,368.2 528.27,381.16 \" fill=\"none\" id=\"E7-&gt;E8\" style=\"stroke: #383838; stroke-width: 1.0;\"/><polygon fill=\"#383838\" points=\"532.83,383.82,527.0682,375.8324,528.5101,381.3024,523.0401,382.7443,532.83,383.82\" style=\"stroke: #383838; stroke-width: 1.0;\"/><text fill=\"#000000\" font-family=\"sans-serif\" font-size=\"13\" lengthAdjust=\"spacingAndGlyphs\" textLength=\"81\" x=\"495\" y=\"339.0669\">Sig /action D</text></a><!--MD5=[bfa3c8b0d15052fdf50ae9310b491027]\n",
       "link E8 to E7--><a href=\"psysml:bcd703ca-2055-4c24-98bc-6c579eb31483\" target=\"_top\" title=\"psysml:bcd703ca-2055-4c24-98bc-6c579eb31483\" xlink:actuate=\"onRequest\" xlink:href=\"psysml:bcd703ca-2055-4c24-98bc-6c579eb31483\" xlink:show=\"new\" xlink:title=\"psysml:bcd703ca-2055-4c24-98bc-6c579eb31483\" xlink:type=\"simple\"><path d=\"M572.17,372.99 C578.81,359.48 584.56,341.98 581,326 C579.1,317.49 575.56,308.72 571.82,300.99 \" fill=\"none\" id=\"E8-&gt;E7\" style=\"stroke: #383838; stroke-width: 1.0;\"/><polygon fill=\"#383838\" points=\"569.47,296.32,569.9298,306.1581,571.7118,300.7893,577.0806,302.5713,569.47,296.32\" style=\"stroke: #383838; stroke-width: 1.0;\"/><text fill=\"#000000\" font-family=\"sans-serif\" font-size=\"13\" lengthAdjust=\"spacingAndGlyphs\" textLength=\"135\" x=\"583\" y=\"339.0669\">Sig [true]/send s to p</text></a><!--MD5=[40178a11304d60900feede34884d2f50]\n",
       "@startuml\r\n",
       "skinparam monochrome true\r\n",
       "skinparam classbackgroundcolor white\r\n",
       "skinparam shadowing false\r\n",
       "skinparam wrapWidth 300\r\n",
       "hide circle\r\n",
       "\r\n",
       "package \"StateTest\" as E1  [[psysml:a2ca8720-bd4b-4556-9b27-091331149f1f ]]  {\r\n",
       "comp def \"Sig\" as E2  <<(T,blue)attribute def>> [[psysml:9b0c6b07-76e0-48e6-88f4-e6a2c752e8e3 ]] {\r\n",
       "- - attributes - -\r\n",
       "x\r\n",
       "}\r\n",
       "comp def \"Exit\" as E3  <<(T,blue)attribute def>> [[psysml:75ee6cec-68f4-495e-910b-3cf4854ee540 ]] {\r\n",
       "}\r\n",
       "comp usage \"p\" as E4  <<(T,blue)part>> [[psysml:d526add9-9153-4d94-82de-e3d10cc7d584 ]] {\r\n",
       "}\r\n",
       "rec usage \"act\" as E5  <<(T,blue)action>> [[psysml:12bd5d36-0dbf-4715-90c3-b0b875efee55 ]] {\r\n",
       "}\r\n",
       "\r\n",
       "rec def \"S\" as E6  <<(T,blue)state def>> [[psysml:b6aa9f25-72f8-4c2c-a7be-6589070e9bf6 ]] {\r\n",
       "rec usage \"S1\" as E7 [[psysml:1cabaaec-9539-448a-9df0-432fc817479b ]] {\r\n",
       "}\r\n",
       "\r\n",
       "rec usage \"S2\" as E8 [[psysml:7a7b17a9-f595-41dc-990f-a07a1c17ba3c ]] {\r\n",
       "desc \"S2\" as E8  : **do**/ \r\n",
       "}\r\n",
       "\r\n",
       "[*] - -> E7 [[psysml:0b737fa2-1baa-4df5-913b-a090a33456a1 ]] \r\n",
       "E8  - -> [*] [[psysml:a8c9411f-d651-41a0-86c1-118f6cba8c1d ]] : Exit \r\n",
       "desc \"S\" as E6  : **entry**/ A\r\n",
       "desc \"S\" as E6  : **do**/ B\r\n",
       "desc \"S\" as E6  : **exit**/ act \r\n",
       "}\r\n",
       "\r\n",
       "E7  - -> E8 [[psysml:eefcc534-c981-4425-9bf3-38251bd12a49 ]] : Sig /action D\r\n",
       "E8  - -> E7 [[psysml:bcd703ca-2055-4c24-98bc-6c579eb31483 ]] : Sig [true]/send s to p\r\n",
       "}\r\n",
       "@enduml\r\n",
       "\n",
       "PlantUML version 1.2020.13(Sat Jun 13 12:26:38 UTC 2020)\n",
       "(EPL source distribution)\n",
       "Java Runtime: OpenJDK Runtime Environment\n",
       "JVM: OpenJDK 64-Bit Server VM\n",
       "Default Encoding: UTF-8\n",
       "Language: en\n",
       "Country: null\n",
       "--></g></svg>"
      ]
     },
     "execution_count": 37,
     "metadata": {},
     "output_type": "execute_result"
    }
   ],
   "source": [
    "%viz --style=\"DEFAULT\" --view=\"Default\" \"StateTest\""
   ]
  },
  {
   "cell_type": "code",
   "execution_count": 38,
   "id": "professional-beaver",
   "metadata": {
    "execution": {
     "iopub.execute_input": "2021-03-25T15:07:02.148096Z",
     "iopub.status.busy": "2021-03-25T15:07:02.147280Z",
     "iopub.status.idle": "2021-03-25T15:07:02.591409Z",
     "shell.execute_reply": "2021-03-25T15:07:02.589556Z"
    }
   },
   "outputs": [
    {
     "data": {
      "image/svg+xml": [
       "<?xml version=\"1.0\" encoding=\"UTF-8\" standalone=\"no\"?><svg xmlns=\"http://www.w3.org/2000/svg\" xmlns:xlink=\"http://www.w3.org/1999/xlink\" contentScriptType=\"application/ecmascript\" contentStyleType=\"text/css\" height=\"471px\" preserveAspectRatio=\"none\" style=\"width:594px;height:471px;\" version=\"1.1\" viewBox=\"0 0 594 471\" width=\"594px\" zoomAndPan=\"magnify\"><defs/><g><!--MD5=[fbc87193dbaf4d95561dea2c320d4a47]\n",
       "cluster E1--><a href=\"psysml:a2ca8720-bd4b-4556-9b27-091331149f1f\" target=\"_top\" title=\"psysml:a2ca8720-bd4b-4556-9b27-091331149f1f\" xlink:actuate=\"onRequest\" xlink:href=\"psysml:a2ca8720-bd4b-4556-9b27-091331149f1f\" xlink:show=\"new\" xlink:title=\"psysml:a2ca8720-bd4b-4556-9b27-091331149f1f\" xlink:type=\"simple\"><polygon fill=\"#FFFFFF\" points=\"16,6,98,6,105,28.2969,572,28.2969,572,459,16,459,16,6\" style=\"stroke: #000000; stroke-width: 1.5;\"/><line style=\"stroke: #000000; stroke-width: 1.5;\" x1=\"16\" x2=\"105\" y1=\"28.2969\" y2=\"28.2969\"/><text fill=\"#000000\" font-family=\"sans-serif\" font-size=\"14\" font-weight=\"bold\" lengthAdjust=\"spacingAndGlyphs\" textLength=\"76\" x=\"20\" y=\"20.9951\">StateTest</text></a><!--MD5=[b4997ac47864f28c2f74865a473b2911]\n",
       "class E2--><a href=\"psysml:9b0c6b07-76e0-48e6-88f4-e6a2c752e8e3\" target=\"_top\" title=\"psysml:9b0c6b07-76e0-48e6-88f4-e6a2c752e8e3\" xlink:actuate=\"onRequest\" xlink:href=\"psysml:9b0c6b07-76e0-48e6-88f4-e6a2c752e8e3\" xlink:show=\"new\" xlink:title=\"psysml:9b0c6b07-76e0-48e6-88f4-e6a2c752e8e3\" xlink:type=\"simple\"><rect fill=\"#FFFFFF\" height=\"75.5469\" id=\"E2\" style=\"stroke: #383838; stroke-width: 1.5;\" width=\"95\" x=\"460.5\" y=\"83\"/><text fill=\"#000000\" font-family=\"sans-serif\" font-size=\"12\" font-style=\"italic\" lengthAdjust=\"spacingAndGlyphs\" textLength=\"93\" x=\"461.5\" y=\"99.1387\">«attribute def»</text><text fill=\"#000000\" font-family=\"sans-serif\" font-size=\"12\" lengthAdjust=\"spacingAndGlyphs\" textLength=\"19\" x=\"498.5\" y=\"113.1074\">Sig</text><line style=\"stroke: #383838; stroke-width: 1.5;\" x1=\"461.5\" x2=\"554.5\" y1=\"120.9375\" y2=\"120.9375\"/><text fill=\"#000000\" font-family=\"sans-serif\" font-size=\"11\" lengthAdjust=\"spacingAndGlyphs\" textLength=\"6\" x=\"466.5\" y=\"151.9526\">x</text><line style=\"stroke: #383838; stroke-width: 1.0;\" x1=\"461.5\" x2=\"480.5\" y1=\"135.3398\" y2=\"135.3398\"/><text fill=\"#000000\" font-family=\"sans-serif\" font-size=\"11\" lengthAdjust=\"spacingAndGlyphs\" textLength=\"55\" x=\"480.5\" y=\"138.6479\">attributes</text><line style=\"stroke: #383838; stroke-width: 1.0;\" x1=\"535.5\" x2=\"554.5\" y1=\"135.3398\" y2=\"135.3398\"/></a><!--MD5=[09b614a08d8cba4a07c9adeb5e0fee81]\n",
       "class E3--><a href=\"psysml:75ee6cec-68f4-495e-910b-3cf4854ee540\" target=\"_top\" title=\"psysml:75ee6cec-68f4-495e-910b-3cf4854ee540\" xlink:actuate=\"onRequest\" xlink:href=\"psysml:75ee6cec-68f4-495e-910b-3cf4854ee540\" xlink:show=\"new\" xlink:title=\"psysml:75ee6cec-68f4-495e-910b-3cf4854ee540\" xlink:type=\"simple\"><rect fill=\"#FFFFFF\" height=\"45.9375\" id=\"E3\" style=\"stroke: #383838; stroke-width: 1.5;\" width=\"95\" x=\"330.5\" y=\"98\"/><text fill=\"#000000\" font-family=\"sans-serif\" font-size=\"12\" font-style=\"italic\" lengthAdjust=\"spacingAndGlyphs\" textLength=\"93\" x=\"331.5\" y=\"114.1387\">«attribute def»</text><text fill=\"#000000\" font-family=\"sans-serif\" font-size=\"12\" lengthAdjust=\"spacingAndGlyphs\" textLength=\"22\" x=\"367\" y=\"128.1074\">Exit</text><line style=\"stroke: #383838; stroke-width: 1.5;\" x1=\"331.5\" x2=\"424.5\" y1=\"135.9375\" y2=\"135.9375\"/></a><!--MD5=[ebbe1d658d1005bcc118a6aa81145e00]\n",
       "class E4--><a href=\"psysml:d526add9-9153-4d94-82de-e3d10cc7d584\" target=\"_top\" title=\"psysml:d526add9-9153-4d94-82de-e3d10cc7d584\" xlink:actuate=\"onRequest\" xlink:href=\"psysml:d526add9-9153-4d94-82de-e3d10cc7d584\" xlink:show=\"new\" xlink:title=\"psysml:d526add9-9153-4d94-82de-e3d10cc7d584\" xlink:type=\"simple\"><rect fill=\"#FFFFFF\" height=\"45.9375\" id=\"E4\" rx=\"10\" ry=\"10\" style=\"stroke: #383838; stroke-width: 1.5;\" width=\"42\" x=\"253\" y=\"98\"/><text fill=\"#000000\" font-family=\"sans-serif\" font-size=\"12\" font-style=\"italic\" lengthAdjust=\"spacingAndGlyphs\" textLength=\"40\" x=\"254\" y=\"114.1387\">«part»</text><text fill=\"#000000\" font-family=\"sans-serif\" font-size=\"12\" lengthAdjust=\"spacingAndGlyphs\" textLength=\"8\" x=\"270\" y=\"128.1074\">p</text><line style=\"stroke: #383838; stroke-width: 1.5;\" x1=\"254\" x2=\"294\" y1=\"135.9375\" y2=\"135.9375\"/></a><!--MD5=[270fce915f116d4de14055a7c1d9a0f3]\n",
       "class E5--><a href=\"psysml:12bd5d36-0dbf-4715-90c3-b0b875efee55\" target=\"_top\" title=\"psysml:12bd5d36-0dbf-4715-90c3-b0b875efee55\" xlink:actuate=\"onRequest\" xlink:href=\"psysml:12bd5d36-0dbf-4715-90c3-b0b875efee55\" xlink:show=\"new\" xlink:title=\"psysml:12bd5d36-0dbf-4715-90c3-b0b875efee55\" xlink:type=\"simple\"><rect fill=\"#FFFFFF\" height=\"45.9375\" id=\"E5\" rx=\"10\" ry=\"10\" style=\"stroke: #383838; stroke-width: 1.5;\" width=\"55\" x=\"162.5\" y=\"98\"/><text fill=\"#000000\" font-family=\"sans-serif\" font-size=\"12\" font-style=\"italic\" lengthAdjust=\"spacingAndGlyphs\" textLength=\"53\" x=\"163.5\" y=\"114.1387\">«action»</text><text fill=\"#000000\" font-family=\"sans-serif\" font-size=\"12\" lengthAdjust=\"spacingAndGlyphs\" textLength=\"20\" x=\"180\" y=\"128.1074\">act</text><line style=\"stroke: #383838; stroke-width: 1.5;\" x1=\"163.5\" x2=\"216.5\" y1=\"135.9375\" y2=\"135.9375\"/></a><!--MD5=[60a26617385b1d2d0262a64233df1f8d]\n",
       "class E6--><a href=\"psysml:b6aa9f25-72f8-4c2c-a7be-6589070e9bf6\" target=\"_top\" title=\"psysml:b6aa9f25-72f8-4c2c-a7be-6589070e9bf6\" xlink:actuate=\"onRequest\" xlink:href=\"psysml:b6aa9f25-72f8-4c2c-a7be-6589070e9bf6\" xlink:show=\"new\" xlink:title=\"psysml:b6aa9f25-72f8-4c2c-a7be-6589070e9bf6\" xlink:type=\"simple\"><rect fill=\"#FFFFFF\" height=\"160.375\" id=\"E6\" style=\"stroke: #383838; stroke-width: 1.5;\" width=\"95\" x=\"32.5\" y=\"41\"/><text fill=\"#000000\" font-family=\"sans-serif\" font-size=\"12\" font-style=\"italic\" lengthAdjust=\"spacingAndGlyphs\" textLength=\"71\" x=\"44.5\" y=\"57.1387\">«state def»</text><text fill=\"#000000\" font-family=\"sans-serif\" font-size=\"12\" lengthAdjust=\"spacingAndGlyphs\" textLength=\"8\" x=\"76\" y=\"71.1074\">S</text><line style=\"stroke: #383838; stroke-width: 1.5;\" x1=\"33.5\" x2=\"126.5\" y1=\"78.9375\" y2=\"78.9375\"/><text fill=\"#000000\" font-family=\"sans-serif\" font-size=\"11\" lengthAdjust=\"spacingAndGlyphs\" textLength=\"17\" x=\"38.5\" y=\"109.9526\">act</text><text fill=\"#000000\" font-family=\"sans-serif\" font-size=\"11\" lengthAdjust=\"spacingAndGlyphs\" textLength=\"7\" x=\"38.5\" y=\"122.7573\">A</text><text fill=\"#000000\" font-family=\"sans-serif\" font-size=\"11\" lengthAdjust=\"spacingAndGlyphs\" textLength=\"8\" x=\"38.5\" y=\"135.562\">B</text><line style=\"stroke: #383838; stroke-width: 1.0;\" x1=\"33.5\" x2=\"36.5\" y1=\"93.3398\" y2=\"93.3398\"/><text fill=\"#000000\" font-family=\"sans-serif\" font-size=\"11\" lengthAdjust=\"spacingAndGlyphs\" textLength=\"87\" x=\"36.5\" y=\"96.6479\">performActions</text><line style=\"stroke: #383838; stroke-width: 1.0;\" x1=\"123.5\" x2=\"126.5\" y1=\"93.3398\" y2=\"93.3398\"/><text fill=\"#000000\" font-family=\"sans-serif\" font-size=\"11\" lengthAdjust=\"spacingAndGlyphs\" textLength=\"15\" x=\"38.5\" y=\"165.1714\">S1</text><line style=\"stroke: #383838; stroke-width: 1.0;\" x1=\"33.5\" x2=\"62\" y1=\"148.5586\" y2=\"148.5586\"/><text fill=\"#000000\" font-family=\"sans-serif\" font-size=\"11\" lengthAdjust=\"spacingAndGlyphs\" textLength=\"36\" x=\"62\" y=\"151.8667\">states</text><line style=\"stroke: #383838; stroke-width: 1.0;\" x1=\"98\" x2=\"126.5\" y1=\"148.5586\" y2=\"148.5586\"/><text fill=\"#000000\" font-family=\"sans-serif\" font-size=\"11\" lengthAdjust=\"spacingAndGlyphs\" textLength=\"7\" x=\"38.5\" y=\"194.7808\">T</text><line style=\"stroke: #383838; stroke-width: 1.0;\" x1=\"33.5\" x2=\"49.5\" y1=\"178.168\" y2=\"178.168\"/><text fill=\"#000000\" font-family=\"sans-serif\" font-size=\"11\" lengthAdjust=\"spacingAndGlyphs\" textLength=\"61\" x=\"49.5\" y=\"181.4761\">transitions</text><line style=\"stroke: #383838; stroke-width: 1.0;\" x1=\"110.5\" x2=\"126.5\" y1=\"178.168\" y2=\"178.168\"/></a><!--MD5=[1dd1bfd58a279cf63c5f349dbc8fc6a1]\n",
       "class E11--><a href=\"psysml:7a7b17a9-f595-41dc-990f-a07a1c17ba3c\" target=\"_top\" title=\"psysml:7a7b17a9-f595-41dc-990f-a07a1c17ba3c\" xlink:actuate=\"onRequest\" xlink:href=\"psysml:7a7b17a9-f595-41dc-990f-a07a1c17ba3c\" xlink:show=\"new\" xlink:title=\"psysml:7a7b17a9-f595-41dc-990f-a07a1c17ba3c\" xlink:type=\"simple\"><rect fill=\"#FFFFFF\" height=\"45.9375\" id=\"E11\" rx=\"10\" ry=\"10\" style=\"stroke: #383838; stroke-width: 1.5;\" width=\"49\" x=\"55.5\" y=\"261\"/><text fill=\"#000000\" font-family=\"sans-serif\" font-size=\"12\" font-style=\"italic\" lengthAdjust=\"spacingAndGlyphs\" textLength=\"47\" x=\"56.5\" y=\"277.1387\">«state»</text><text fill=\"#000000\" font-family=\"sans-serif\" font-size=\"12\" lengthAdjust=\"spacingAndGlyphs\" textLength=\"16\" x=\"72\" y=\"291.1074\">S2</text><line style=\"stroke: #383838; stroke-width: 1.5;\" x1=\"56.5\" x2=\"103.5\" y1=\"298.9375\" y2=\"298.9375\"/></a><!--MD5=[49a0ec8f00dab7302a31f22d0f0fe584]\n",
       "class E12--><a href=\"psysml:fce0e4a1-8edc-4c38-93d6-a3b5e3670b25\" target=\"_top\" title=\"psysml:fce0e4a1-8edc-4c38-93d6-a3b5e3670b25\" xlink:actuate=\"onRequest\" xlink:href=\"psysml:fce0e4a1-8edc-4c38-93d6-a3b5e3670b25\" xlink:show=\"new\" xlink:title=\"psysml:fce0e4a1-8edc-4c38-93d6-a3b5e3670b25\" xlink:type=\"simple\"><rect fill=\"#FFFFFF\" height=\"75.5469\" id=\"E12\" rx=\"10\" ry=\"10\" style=\"stroke: #383838; stroke-width: 1.5;\" width=\"90\" x=\"35\" y=\"367\"/><text fill=\"#000000\" font-family=\"sans-serif\" font-size=\"12\" font-style=\"italic\" lengthAdjust=\"spacingAndGlyphs\" textLength=\"88\" x=\"36\" y=\"383.1387\">«send action»</text><text fill=\"#000000\" font-family=\"sans-serif\" font-size=\"12\" lengthAdjust=\"spacingAndGlyphs\" textLength=\"55\" x=\"52.5\" y=\"397.1074\">doAction</text><line style=\"stroke: #383838; stroke-width: 1.5;\" x1=\"36\" x2=\"124\" y1=\"404.9375\" y2=\"404.9375\"/><text fill=\"#000000\" font-family=\"sans-serif\" font-size=\"11\" lengthAdjust=\"spacingAndGlyphs\" textLength=\"25\" x=\"41\" y=\"435.9526\">item</text><line style=\"stroke: #383838; stroke-width: 1.0;\" x1=\"36\" x2=\"42.5\" y1=\"419.3398\" y2=\"419.3398\"/><text fill=\"#000000\" font-family=\"sans-serif\" font-size=\"11\" lengthAdjust=\"spacingAndGlyphs\" textLength=\"75\" x=\"42.5\" y=\"422.6479\">itemFeatures</text><line style=\"stroke: #383838; stroke-width: 1.0;\" x1=\"117.5\" x2=\"124\" y1=\"419.3398\" y2=\"419.3398\"/></a><!--MD5=[1f5f03483f7de0d5b3680a7f6650997f]\n",
       "reverse link E6 to E11--><a href=\"psysml:7a7b17a9-f595-41dc-990f-a07a1c17ba3c\" target=\"_top\" title=\"psysml:7a7b17a9-f595-41dc-990f-a07a1c17ba3c\" xlink:actuate=\"onRequest\" xlink:href=\"psysml:7a7b17a9-f595-41dc-990f-a07a1c17ba3c\" xlink:show=\"new\" xlink:title=\"psysml:7a7b17a9-f595-41dc-990f-a07a1c17ba3c\" xlink:type=\"simple\"><path d=\"M80,214.17 C80,231.58 80,248.25 80,260.82 \" fill=\"none\" id=\"E6&lt;-E11\" style=\"stroke: #383838; stroke-width: 1.0;\"/><polygon fill=\"#383838\" points=\"80,201.09,76.0066,207.0944,80.0132,213.09,84.0066,207.0856,80,201.09\" style=\"stroke: #383838; stroke-width: 1.0;\"/></a><!--MD5=[94adabc162ce7e41b39f13be14fbaeb3]\n",
       "reverse link E11 to E12--><a href=\"psysml:fce0e4a1-8edc-4c38-93d6-a3b5e3670b25\" target=\"_top\" title=\"psysml:fce0e4a1-8edc-4c38-93d6-a3b5e3670b25\" xlink:actuate=\"onRequest\" xlink:href=\"psysml:fce0e4a1-8edc-4c38-93d6-a3b5e3670b25\" xlink:show=\"new\" xlink:title=\"psysml:fce0e4a1-8edc-4c38-93d6-a3b5e3670b25\" xlink:type=\"simple\"><path d=\"M80,320.23 C80,334.82 80,351.76 80,366.58 \" fill=\"none\" id=\"E11&lt;-E12\" style=\"stroke: #383838; stroke-width: 1.0;\"/><polygon fill=\"#FFFFFF\" points=\"80,307.1,76,313.1,80,319.1,84,313.1,80,307.1\" style=\"stroke: #383838; stroke-width: 1.0;\"/></a><!--MD5=[dc0d6325fea2e426fed4aeb554aad6bd]\n",
       "@startuml\r\n",
       "skinparam monochrome true\r\n",
       "skinparam classbackgroundcolor white\r\n",
       "skinparam shadowing false\r\n",
       "skinparam wrapWidth 300\r\n",
       "hide circle\r\n",
       "\r\n",
       "package \"StateTest\" as E1  [[psysml:a2ca8720-bd4b-4556-9b27-091331149f1f ]]  {\r\n",
       "comp def \"Sig\" as E2  <<(T,blue)attribute def>> [[psysml:9b0c6b07-76e0-48e6-88f4-e6a2c752e8e3 ]] {\r\n",
       "- - attributes - -\r\n",
       "x\r\n",
       "}\r\n",
       "comp def \"Exit\" as E3  <<(T,blue)attribute def>> [[psysml:75ee6cec-68f4-495e-910b-3cf4854ee540 ]] {\r\n",
       "}\r\n",
       "comp usage \"p\" as E4  <<(T,blue)part>> [[psysml:d526add9-9153-4d94-82de-e3d10cc7d584 ]] {\r\n",
       "}\r\n",
       "comp usage \"act\" as E5  <<(T,blue)action>> [[psysml:12bd5d36-0dbf-4715-90c3-b0b875efee55 ]] {\r\n",
       "}\r\n",
       "comp def \"S\" as E6  <<(T,blue)state def>> [[psysml:b6aa9f25-72f8-4c2c-a7be-6589070e9bf6 ]] {\r\n",
       "- - performActions - -\r\n",
       "act\r\n",
       "A\r\n",
       "B\r\n",
       "- - states - -\r\n",
       "S1\r\n",
       "- - transitions - -\r\n",
       "T\r\n",
       "}\r\n",
       "comp usage \"S2\" as E11  <<(T,blue)state>> [[psysml:7a7b17a9-f595-41dc-990f-a07a1c17ba3c ]] {\r\n",
       "}\r\n",
       "comp usage \"doAction\" as E12 <<send action>> [[psysml:fce0e4a1-8edc-4c38-93d6-a3b5e3670b25 ]] {\r\n",
       "- - itemFeatures - -\r\n",
       "item\r\n",
       "}\r\n",
       "E6 *- - E11 [[psysml:7a7b17a9-f595-41dc-990f-a07a1c17ba3c ]] \r\n",
       "E11 o- - E12 [[psysml:fce0e4a1-8edc-4c38-93d6-a3b5e3670b25 ]] \r\n",
       "}\r\n",
       "@enduml\r\n",
       "\n",
       "PlantUML version 1.2020.13(Sat Jun 13 12:26:38 UTC 2020)\n",
       "(EPL source distribution)\n",
       "Java Runtime: OpenJDK Runtime Environment\n",
       "JVM: OpenJDK 64-Bit Server VM\n",
       "Default Encoding: UTF-8\n",
       "Language: en\n",
       "Country: null\n",
       "--></g></svg>"
      ]
     },
     "execution_count": 38,
     "metadata": {},
     "output_type": "execute_result"
    }
   ],
   "source": [
    "%viz --style=\"DEFAULT\" --view=\"Tree\" \"StateTest\""
   ]
  },
  {
   "cell_type": "code",
   "execution_count": 39,
   "id": "adapted-empire",
   "metadata": {
    "execution": {
     "iopub.execute_input": "2021-03-25T15:07:02.640619Z",
     "iopub.status.busy": "2021-03-25T15:07:02.640265Z",
     "iopub.status.idle": "2021-03-25T15:07:02.755995Z",
     "shell.execute_reply": "2021-03-25T15:07:02.753299Z"
    }
   },
   "outputs": [
    {
     "data": {
      "image/svg+xml": [
       "<?xml version=\"1.0\" encoding=\"UTF-8\" standalone=\"no\"?><svg xmlns=\"http://www.w3.org/2000/svg\" xmlns:xlink=\"http://www.w3.org/1999/xlink\" contentScriptType=\"application/ecmascript\" contentStyleType=\"text/css\" height=\"475px\" preserveAspectRatio=\"none\" style=\"width:346px;height:475px;\" version=\"1.1\" viewBox=\"0 0 346 475\" width=\"346px\" zoomAndPan=\"magnify\"><defs/><g><!--MD5=[fbc87193dbaf4d95561dea2c320d4a47]\n",
       "cluster E1--><a href=\"psysml:b6aa9f25-72f8-4c2c-a7be-6589070e9bf6\" target=\"_top\" title=\"psysml:b6aa9f25-72f8-4c2c-a7be-6589070e9bf6\" xlink:actuate=\"onRequest\" xlink:href=\"psysml:b6aa9f25-72f8-4c2c-a7be-6589070e9bf6\" xlink:show=\"new\" xlink:title=\"psysml:b6aa9f25-72f8-4c2c-a7be-6589070e9bf6\" xlink:type=\"simple\"><rect fill=\"#FFFFFF\" height=\"457\" id=\"E1\" style=\"stroke: #383838; stroke-width: 1.5;\" width=\"327\" x=\"7\" y=\"7\"/><rect fill=\"#F8F8F8\" height=\"37.9375\" style=\"stroke: #383838; stroke-width: 1.5;\" width=\"327\" x=\"7\" y=\"7\"/><text fill=\"#000000\" font-family=\"sans-serif\" font-size=\"12\" font-style=\"italic\" lengthAdjust=\"spacingAndGlyphs\" textLength=\"71\" x=\"135\" y=\"23.1387\">«state def»</text><text fill=\"#000000\" font-family=\"sans-serif\" font-size=\"12\" lengthAdjust=\"spacingAndGlyphs\" textLength=\"8\" x=\"166.5\" y=\"37.1074\">S</text><line style=\"stroke: #383838; stroke-width: 1.0;\" x1=\"7\" x2=\"334\" y1=\"90.8438\" y2=\"90.8438\"/><text fill=\"#000000\" font-family=\"sans-serif\" font-size=\"12\" font-weight=\"bold\" lengthAdjust=\"spacingAndGlyphs\" textLength=\"38\" x=\"12\" y=\"58.0762\">entry</text><text fill=\"#000000\" font-family=\"sans-serif\" font-size=\"12\" lengthAdjust=\"spacingAndGlyphs\" textLength=\"16\" x=\"50\" y=\"58.0762\">/ A</text><text fill=\"#000000\" font-family=\"sans-serif\" font-size=\"12\" font-weight=\"bold\" lengthAdjust=\"spacingAndGlyphs\" textLength=\"18\" x=\"12\" y=\"72.0449\">do</text><text fill=\"#000000\" font-family=\"sans-serif\" font-size=\"12\" lengthAdjust=\"spacingAndGlyphs\" textLength=\"16\" x=\"30\" y=\"72.0449\">/ B</text><text fill=\"#000000\" font-family=\"sans-serif\" font-size=\"12\" font-weight=\"bold\" lengthAdjust=\"spacingAndGlyphs\" textLength=\"26\" x=\"12\" y=\"86.0137\">exit</text><text fill=\"#000000\" font-family=\"sans-serif\" font-size=\"12\" lengthAdjust=\"spacingAndGlyphs\" textLength=\"28\" x=\"38\" y=\"86.0137\">/ act</text></a><ellipse cx=\"119\" cy=\"115\" fill=\"#000000\" rx=\"10\" ry=\"10\" style=\"stroke: none; stroke-width: 1.0;\"/><ellipse cx=\"119\" cy=\"438\" fill=\"none\" rx=\"10\" ry=\"10\" style=\"stroke: #000000; stroke-width: 1.0;\"/><ellipse cx=\"119.5\" cy=\"438.5\" fill=\"#000000\" rx=\"6\" ry=\"6\" style=\"stroke: none; stroke-width: 1.0;\"/><g id=\"E1.E2\"><a href=\"psysml:1cabaaec-9539-448a-9df0-432fc817479b\" target=\"_top\" title=\"psysml:1cabaaec-9539-448a-9df0-432fc817479b\" xlink:actuate=\"onRequest\" xlink:href=\"psysml:1cabaaec-9539-448a-9df0-432fc817479b\" xlink:show=\"new\" xlink:title=\"psysml:1cabaaec-9539-448a-9df0-432fc817479b\" xlink:type=\"simple\"><rect fill=\"#FFFFFF\" height=\"40\" id=\"E2\" rx=\"10\" ry=\"10\" style=\"stroke: #383838; stroke-width: 1.5;\" width=\"50\" x=\"94\" y=\"186\"/><rect fill=\"#F8F8F8\" height=\"23.9688\" rx=\"10\" ry=\"10\" style=\"stroke: #F8F8F8; stroke-width: 1.5;\" width=\"50\" x=\"94\" y=\"186\"/><rect fill=\"#F8F8F8\" height=\"10\" style=\"stroke: #F8F8F8; stroke-width: 1.5;\" width=\"50\" x=\"94\" y=\"199.9688\"/><rect fill=\"none\" height=\"40\" id=\"E2\" rx=\"10\" ry=\"10\" style=\"stroke: #383838; stroke-width: 1.5;\" width=\"50\" x=\"94\" y=\"186\"/><text fill=\"#000000\" font-family=\"sans-serif\" font-size=\"12\" lengthAdjust=\"spacingAndGlyphs\" textLength=\"16\" x=\"111\" y=\"202.1387\">S1</text></a></g><g id=\"E1.E3\"><a href=\"psysml:7a7b17a9-f595-41dc-990f-a07a1c17ba3c\" target=\"_top\" title=\"psysml:7a7b17a9-f595-41dc-990f-a07a1c17ba3c\" xlink:actuate=\"onRequest\" xlink:href=\"psysml:7a7b17a9-f595-41dc-990f-a07a1c17ba3c\" xlink:show=\"new\" xlink:title=\"psysml:7a7b17a9-f595-41dc-990f-a07a1c17ba3c\" xlink:type=\"simple\"><rect fill=\"#FFFFFF\" height=\"47.9375\" id=\"E3\" rx=\"10\" ry=\"10\" style=\"stroke: #383838; stroke-width: 1.5;\" width=\"50\" x=\"94\" y=\"303\"/><rect fill=\"#F8F8F8\" height=\"23.9688\" rx=\"10\" ry=\"10\" style=\"stroke: #F8F8F8; stroke-width: 1.5;\" width=\"50\" x=\"94\" y=\"303\"/><rect fill=\"#F8F8F8\" height=\"10\" style=\"stroke: #F8F8F8; stroke-width: 1.5;\" width=\"50\" x=\"94\" y=\"316.9688\"/><rect fill=\"none\" height=\"47.9375\" id=\"E3\" rx=\"10\" ry=\"10\" style=\"stroke: #383838; stroke-width: 1.5;\" width=\"50\" x=\"94\" y=\"303\"/><text fill=\"#000000\" font-family=\"sans-serif\" font-size=\"12\" lengthAdjust=\"spacingAndGlyphs\" textLength=\"16\" x=\"111\" y=\"319.1387\">S2</text><line style=\"stroke: #383838; stroke-width: 1.0;\" x1=\"94\" x2=\"144\" y1=\"326.9688\" y2=\"326.9688\"/><text fill=\"#000000\" font-family=\"sans-serif\" font-size=\"12\" font-weight=\"bold\" lengthAdjust=\"spacingAndGlyphs\" textLength=\"18\" x=\"99\" y=\"340.1074\">do</text><text fill=\"#000000\" font-family=\"sans-serif\" font-size=\"12\" lengthAdjust=\"spacingAndGlyphs\" textLength=\"4\" x=\"117\" y=\"340.1074\">/</text></a></g><!--MD5=[cff944eb183b832d446717a4e202d613]\n",
       "link *start*E1 to E2--><a href=\"psysml:0b737fa2-1baa-4df5-913b-a090a33456a1\" target=\"_top\" title=\"psysml:0b737fa2-1baa-4df5-913b-a090a33456a1\" xlink:actuate=\"onRequest\" xlink:href=\"psysml:0b737fa2-1baa-4df5-913b-a090a33456a1\" xlink:show=\"new\" xlink:title=\"psysml:0b737fa2-1baa-4df5-913b-a090a33456a1\" xlink:type=\"simple\"><path d=\"M119,125.19 C119,138.18 119,162.38 119,180.73 \" fill=\"none\" id=\"*start*E1-&gt;E2\" style=\"stroke: #383838; stroke-width: 1.0;\"/><polygon fill=\"#383838\" points=\"119,185.74,123,176.74,119,180.74,115,176.74,119,185.74\" style=\"stroke: #383838; stroke-width: 1.0;\"/></a><!--MD5=[9ee7afa76ca8c509b3d216624c3a9893]\n",
       "link E3 to *end*E1--><a href=\"psysml:a8c9411f-d651-41a0-86c1-118f6cba8c1d\" target=\"_top\" title=\"psysml:a8c9411f-d651-41a0-86c1-118f6cba8c1d\" xlink:actuate=\"onRequest\" xlink:href=\"psysml:a8c9411f-d651-41a0-86c1-118f6cba8c1d\" xlink:show=\"new\" xlink:title=\"psysml:a8c9411f-d651-41a0-86c1-118f6cba8c1d\" xlink:type=\"simple\"><path d=\"M119,351.12 C119,372.75 119,404.39 119,422.62 \" fill=\"none\" id=\"E3-&gt;*end*E1\" style=\"stroke: #383838; stroke-width: 1.0;\"/><polygon fill=\"#383838\" points=\"119,427.82,123,418.82,119,422.82,115,418.82,119,427.82\" style=\"stroke: #383838; stroke-width: 1.0;\"/><text fill=\"#000000\" font-family=\"sans-serif\" font-size=\"13\" lengthAdjust=\"spacingAndGlyphs\" textLength=\"23\" x=\"120\" y=\"394.0669\">Exit</text></a><!--MD5=[2720a5a1f2c3fca2055b230370638851]\n",
       "link E2 to E3--><a href=\"psysml:eefcc534-c981-4425-9bf3-38251bd12a49\" target=\"_top\" title=\"psysml:eefcc534-c981-4425-9bf3-38251bd12a49\" xlink:actuate=\"onRequest\" xlink:href=\"psysml:eefcc534-c981-4425-9bf3-38251bd12a49\" xlink:show=\"new\" xlink:title=\"psysml:eefcc534-c981-4425-9bf3-38251bd12a49\" xlink:type=\"simple\"><path d=\"M93.93,218.88 C79.69,227.12 63.12,239.56 55,256 C44.11,278.05 67.72,298.2 89.27,311.16 \" fill=\"none\" id=\"E2-&gt;E3\" style=\"stroke: #383838; stroke-width: 1.0;\"/><polygon fill=\"#383838\" points=\"93.83,313.82,88.0682,305.8324,89.5101,311.3024,84.0401,312.7443,93.83,313.82\" style=\"stroke: #383838; stroke-width: 1.0;\"/><text fill=\"#000000\" font-family=\"sans-serif\" font-size=\"13\" lengthAdjust=\"spacingAndGlyphs\" textLength=\"81\" x=\"56\" y=\"269.0669\">Sig /action D</text></a><!--MD5=[05d275557350bfb9b23a4ef7222b4c39]\n",
       "link E3 to E2--><a href=\"psysml:bcd703ca-2055-4c24-98bc-6c579eb31483\" target=\"_top\" title=\"psysml:bcd703ca-2055-4c24-98bc-6c579eb31483\" xlink:actuate=\"onRequest\" xlink:href=\"psysml:bcd703ca-2055-4c24-98bc-6c579eb31483\" xlink:show=\"new\" xlink:title=\"psysml:bcd703ca-2055-4c24-98bc-6c579eb31483\" xlink:type=\"simple\"><path d=\"M133.17,302.99 C139.81,289.48 145.56,271.98 142,256 C140.1,247.49 136.56,238.72 132.82,230.99 \" fill=\"none\" id=\"E3-&gt;E2\" style=\"stroke: #383838; stroke-width: 1.0;\"/><polygon fill=\"#383838\" points=\"130.47,226.32,130.9298,236.1581,132.7118,230.7893,138.0806,232.5713,130.47,226.32\" style=\"stroke: #383838; stroke-width: 1.0;\"/><text fill=\"#000000\" font-family=\"sans-serif\" font-size=\"13\" lengthAdjust=\"spacingAndGlyphs\" textLength=\"135\" x=\"144\" y=\"269.0669\">Sig [true]/send s to p</text></a><!--MD5=[375eb4b4b33527aaea64bda83bed9bbb]\n",
       "@startuml\r\n",
       "skinparam monochrome true\r\n",
       "skinparam classbackgroundcolor white\r\n",
       "skinparam shadowing false\r\n",
       "skinparam wrapWidth 300\r\n",
       "hide circle\r\n",
       "\r\n",
       "rec def \"S\" as E1  <<(T,blue)state def>> [[psysml:b6aa9f25-72f8-4c2c-a7be-6589070e9bf6 ]] {\r\n",
       "rec usage \"S1\" as E2 [[psysml:1cabaaec-9539-448a-9df0-432fc817479b ]] {\r\n",
       "}\r\n",
       "\r\n",
       "rec usage \"S2\" as E3 [[psysml:7a7b17a9-f595-41dc-990f-a07a1c17ba3c ]] {\r\n",
       "desc \"S2\" as E3  : **do**/ \r\n",
       "}\r\n",
       "\r\n",
       "[*] - -> E2 [[psysml:0b737fa2-1baa-4df5-913b-a090a33456a1 ]] \r\n",
       "E3  - -> [*] [[psysml:a8c9411f-d651-41a0-86c1-118f6cba8c1d ]] : Exit \r\n",
       "desc \"S\" as E1  : **entry**/ A\r\n",
       "desc \"S\" as E1  : **do**/ B\r\n",
       "desc \"S\" as E1  : **exit**/ act \r\n",
       "}\r\n",
       "\r\n",
       "E2  - -> E3 [[psysml:eefcc534-c981-4425-9bf3-38251bd12a49 ]] : Sig /action D\r\n",
       "E3  - -> E2 [[psysml:bcd703ca-2055-4c24-98bc-6c579eb31483 ]] : Sig [true]/send s to p\r\n",
       "@enduml\r\n",
       "\n",
       "PlantUML version 1.2020.13(Sat Jun 13 12:26:38 UTC 2020)\n",
       "(EPL source distribution)\n",
       "Java Runtime: OpenJDK Runtime Environment\n",
       "JVM: OpenJDK 64-Bit Server VM\n",
       "Default Encoding: UTF-8\n",
       "Language: en\n",
       "Country: null\n",
       "--></g></svg>"
      ]
     },
     "execution_count": 39,
     "metadata": {},
     "output_type": "execute_result"
    }
   ],
   "source": [
    "%viz --style=\"DEFAULT\" --view=\"State\" \"StateTest\""
   ]
  },
  {
   "cell_type": "code",
   "execution_count": 40,
   "id": "civil-poster",
   "metadata": {
    "execution": {
     "iopub.execute_input": "2021-03-25T15:07:02.806083Z",
     "iopub.status.busy": "2021-03-25T15:07:02.805408Z",
     "iopub.status.idle": "2021-03-25T15:07:02.889347Z",
     "shell.execute_reply": "2021-03-25T15:07:02.887604Z"
    }
   },
   "outputs": [
    {
     "data": {
      "image/svg+xml": [
       "<?xml version=\"1.0\" encoding=\"UTF-8\" standalone=\"no\"?><svg xmlns=\"http://www.w3.org/2000/svg\" xmlns:xlink=\"http://www.w3.org/1999/xlink\" contentScriptType=\"application/ecmascript\" contentStyleType=\"text/css\" height=\"123px\" preserveAspectRatio=\"none\" style=\"width:728px;height:123px;\" version=\"1.1\" viewBox=\"0 0 728 123\" width=\"728px\" zoomAndPan=\"magnify\"><defs/><g><!--MD5=[fbc87193dbaf4d95561dea2c320d4a47]\n",
       "cluster E1--><a href=\"psysml:a2ca8720-bd4b-4556-9b27-091331149f1f\" target=\"_top\" title=\"psysml:a2ca8720-bd4b-4556-9b27-091331149f1f\" xlink:actuate=\"onRequest\" xlink:href=\"psysml:a2ca8720-bd4b-4556-9b27-091331149f1f\" xlink:show=\"new\" xlink:title=\"psysml:a2ca8720-bd4b-4556-9b27-091331149f1f\" xlink:type=\"simple\"><polygon fill=\"#FFFFFF\" points=\"16,6,98,6,105,28.2969,706,28.2969,706,111,16,111,16,6\" style=\"stroke: #000000; stroke-width: 1.5;\"/><line style=\"stroke: #000000; stroke-width: 1.5;\" x1=\"16\" x2=\"105\" y1=\"28.2969\" y2=\"28.2969\"/><text fill=\"#000000\" font-family=\"sans-serif\" font-size=\"14\" font-weight=\"bold\" lengthAdjust=\"spacingAndGlyphs\" textLength=\"76\" x=\"20\" y=\"20.9951\">StateTest</text></a><!--MD5=[b4997ac47864f28c2f74865a473b2911]\n",
       "class E2--><a href=\"psysml:9b0c6b07-76e0-48e6-88f4-e6a2c752e8e3\" target=\"_top\" title=\"psysml:9b0c6b07-76e0-48e6-88f4-e6a2c752e8e3\" xlink:actuate=\"onRequest\" xlink:href=\"psysml:9b0c6b07-76e0-48e6-88f4-e6a2c752e8e3\" xlink:show=\"new\" xlink:title=\"psysml:9b0c6b07-76e0-48e6-88f4-e6a2c752e8e3\" xlink:type=\"simple\"><rect fill=\"#FFFFFF\" height=\"53.9375\" id=\"E2\" style=\"stroke: #383838; stroke-width: 1.5;\" width=\"143\" x=\"546.5\" y=\"41\"/><text fill=\"#000000\" font-family=\"sans-serif\" font-size=\"12\" font-style=\"italic\" lengthAdjust=\"spacingAndGlyphs\" textLength=\"141\" x=\"547.5\" y=\"57.1387\">«(T,blue)attribute def»</text><text fill=\"#000000\" font-family=\"sans-serif\" font-size=\"12\" lengthAdjust=\"spacingAndGlyphs\" textLength=\"19\" x=\"608.5\" y=\"71.1074\">Sig</text><line style=\"stroke: #383838; stroke-width: 1.5;\" x1=\"547.5\" x2=\"688.5\" y1=\"78.9375\" y2=\"78.9375\"/><line style=\"stroke: #383838; stroke-width: 1.5;\" x1=\"547.5\" x2=\"688.5\" y1=\"86.9375\" y2=\"86.9375\"/></a><!--MD5=[09b614a08d8cba4a07c9adeb5e0fee81]\n",
       "class E3--><a href=\"psysml:75ee6cec-68f4-495e-910b-3cf4854ee540\" target=\"_top\" title=\"psysml:75ee6cec-68f4-495e-910b-3cf4854ee540\" xlink:actuate=\"onRequest\" xlink:href=\"psysml:75ee6cec-68f4-495e-910b-3cf4854ee540\" xlink:show=\"new\" xlink:title=\"psysml:75ee6cec-68f4-495e-910b-3cf4854ee540\" xlink:type=\"simple\"><rect fill=\"#FFFFFF\" height=\"53.9375\" id=\"E3\" style=\"stroke: #383838; stroke-width: 1.5;\" width=\"143\" x=\"368.5\" y=\"41\"/><text fill=\"#000000\" font-family=\"sans-serif\" font-size=\"12\" font-style=\"italic\" lengthAdjust=\"spacingAndGlyphs\" textLength=\"141\" x=\"369.5\" y=\"57.1387\">«(T,blue)attribute def»</text><text fill=\"#000000\" font-family=\"sans-serif\" font-size=\"12\" lengthAdjust=\"spacingAndGlyphs\" textLength=\"22\" x=\"429\" y=\"71.1074\">Exit</text><line style=\"stroke: #383838; stroke-width: 1.5;\" x1=\"369.5\" x2=\"510.5\" y1=\"78.9375\" y2=\"78.9375\"/><line style=\"stroke: #383838; stroke-width: 1.5;\" x1=\"369.5\" x2=\"510.5\" y1=\"86.9375\" y2=\"86.9375\"/></a><!--MD5=[60a26617385b1d2d0262a64233df1f8d]\n",
       "class E6--><a href=\"psysml:b6aa9f25-72f8-4c2c-a7be-6589070e9bf6\" target=\"_top\" title=\"psysml:b6aa9f25-72f8-4c2c-a7be-6589070e9bf6\" xlink:actuate=\"onRequest\" xlink:href=\"psysml:b6aa9f25-72f8-4c2c-a7be-6589070e9bf6\" xlink:show=\"new\" xlink:title=\"psysml:b6aa9f25-72f8-4c2c-a7be-6589070e9bf6\" xlink:type=\"simple\"><rect fill=\"#FFFFFF\" height=\"53.9375\" id=\"E6\" style=\"stroke: #383838; stroke-width: 1.5;\" width=\"121\" x=\"212.5\" y=\"41\"/><text fill=\"#000000\" font-family=\"sans-serif\" font-size=\"12\" font-style=\"italic\" lengthAdjust=\"spacingAndGlyphs\" textLength=\"119\" x=\"213.5\" y=\"57.1387\">«(T,blue)state def»</text><text fill=\"#000000\" font-family=\"sans-serif\" font-size=\"12\" lengthAdjust=\"spacingAndGlyphs\" textLength=\"8\" x=\"269\" y=\"71.1074\">S</text><line style=\"stroke: #383838; stroke-width: 1.5;\" x1=\"213.5\" x2=\"332.5\" y1=\"78.9375\" y2=\"78.9375\"/><line style=\"stroke: #383838; stroke-width: 1.5;\" x1=\"213.5\" x2=\"332.5\" y1=\"86.9375\" y2=\"86.9375\"/></a><g id=\"E1.E4\"><a href=\"psysml:d526add9-9153-4d94-82de-e3d10cc7d584\" target=\"_top\" title=\"psysml:d526add9-9153-4d94-82de-e3d10cc7d584\" xlink:actuate=\"onRequest\" xlink:href=\"psysml:d526add9-9153-4d94-82de-e3d10cc7d584\" xlink:show=\"new\" xlink:title=\"psysml:d526add9-9153-4d94-82de-e3d10cc7d584\" xlink:type=\"simple\"><rect fill=\"#FFFFFF\" height=\"40\" id=\"E4\" rx=\"10\" ry=\"10\" style=\"stroke: #383838; stroke-width: 1.5;\" width=\"50\" x=\"127\" y=\"48\"/><rect fill=\"#F8F8F8\" height=\"23.9688\" rx=\"10\" ry=\"10\" style=\"stroke: #F8F8F8; stroke-width: 1.5;\" width=\"50\" x=\"127\" y=\"48\"/><rect fill=\"#F8F8F8\" height=\"10\" style=\"stroke: #F8F8F8; stroke-width: 1.5;\" width=\"50\" x=\"127\" y=\"61.9688\"/><rect fill=\"none\" height=\"40\" id=\"E4\" rx=\"10\" ry=\"10\" style=\"stroke: #383838; stroke-width: 1.5;\" width=\"50\" x=\"127\" y=\"48\"/><text fill=\"#000000\" font-family=\"sans-serif\" font-size=\"12\" lengthAdjust=\"spacingAndGlyphs\" textLength=\"8\" x=\"148\" y=\"64.1387\">p</text></a></g><g id=\"E1.E5\"><a href=\"psysml:12bd5d36-0dbf-4715-90c3-b0b875efee55\" target=\"_top\" title=\"psysml:12bd5d36-0dbf-4715-90c3-b0b875efee55\" xlink:actuate=\"onRequest\" xlink:href=\"psysml:12bd5d36-0dbf-4715-90c3-b0b875efee55\" xlink:show=\"new\" xlink:title=\"psysml:12bd5d36-0dbf-4715-90c3-b0b875efee55\" xlink:type=\"simple\"><rect fill=\"#FFFFFF\" height=\"42.9375\" id=\"E5\" rx=\"10\" ry=\"10\" style=\"stroke: #383838; stroke-width: 1.5;\" width=\"60\" x=\"32\" y=\"46.5\"/><rect fill=\"#F8F8F8\" height=\"37.9375\" rx=\"10\" ry=\"10\" style=\"stroke: #F8F8F8; stroke-width: 1.5;\" width=\"60\" x=\"32\" y=\"46.5\"/><rect fill=\"#F8F8F8\" height=\"10\" style=\"stroke: #F8F8F8; stroke-width: 1.5;\" width=\"60\" x=\"32\" y=\"74.4375\"/><rect fill=\"none\" height=\"42.9375\" id=\"E5\" rx=\"10\" ry=\"10\" style=\"stroke: #383838; stroke-width: 1.5;\" width=\"60\" x=\"32\" y=\"46.5\"/><text fill=\"#000000\" font-family=\"sans-serif\" font-size=\"12\" font-style=\"italic\" lengthAdjust=\"spacingAndGlyphs\" textLength=\"53\" x=\"35.5\" y=\"62.6387\">«action»</text><text fill=\"#000000\" font-family=\"sans-serif\" font-size=\"12\" lengthAdjust=\"spacingAndGlyphs\" textLength=\"20\" x=\"52\" y=\"76.6074\">act</text></a></g><!--MD5=[803ed088c2fd367443c53b038d2034ac]\n",
       "@startuml\r\n",
       "skinparam ranksep 8\r\n",
       "skinparam rectangle {\r\n",
       " backgroundColor<<block>> LightGreen\r\n",
       "}\r\n",
       "skinparam monochrome true\r\n",
       "skinparam classbackgroundcolor white\r\n",
       "skinparam shadowing false\r\n",
       "skinparam wrapWidth 300\r\n",
       "hide circle\r\n",
       "\r\n",
       "package \"StateTest\" as E1  [[psysml:a2ca8720-bd4b-4556-9b27-091331149f1f ]]  {\r\n",
       "def \"Sig\" as E2  <<(T,blue)attribute def>> [[psysml:9b0c6b07-76e0-48e6-88f4-e6a2c752e8e3 ]] \r\n",
       "def \"Exit\" as E3  <<(T,blue)attribute def>> [[psysml:75ee6cec-68f4-495e-910b-3cf4854ee540 ]] \r\n",
       "rec usage \"p\" as E4  [[psysml:d526add9-9153-4d94-82de-e3d10cc7d584 ]] {\r\n",
       "}\r\n",
       "rec usage \"act\" as E5  <<(T,blue)action>> [[psysml:12bd5d36-0dbf-4715-90c3-b0b875efee55 ]] {\r\n",
       "}\r\n",
       "def \"S\" as E6  <<(T,blue)state def>> [[psysml:b6aa9f25-72f8-4c2c-a7be-6589070e9bf6 ]] \r\n",
       "}\r\n",
       "@enduml\r\n",
       "\n",
       "PlantUML version 1.2020.13(Sat Jun 13 12:26:38 UTC 2020)\n",
       "(EPL source distribution)\n",
       "Java Runtime: OpenJDK Runtime Environment\n",
       "JVM: OpenJDK 64-Bit Server VM\n",
       "Default Encoding: UTF-8\n",
       "Language: en\n",
       "Country: null\n",
       "--></g></svg>"
      ]
     },
     "execution_count": 40,
     "metadata": {},
     "output_type": "execute_result"
    }
   ],
   "source": [
    "%viz --style=\"DEFAULT\" --view=\"Interconnection\" \"StateTest\""
   ]
  },
  {
   "cell_type": "code",
   "execution_count": 41,
   "id": "acceptable-roberts",
   "metadata": {
    "execution": {
     "iopub.execute_input": "2021-03-25T15:07:02.939931Z",
     "iopub.status.busy": "2021-03-25T15:07:02.939413Z",
     "iopub.status.idle": "2021-03-25T15:07:02.973138Z",
     "shell.execute_reply": "2021-03-25T15:07:02.971098Z"
    }
   },
   "outputs": [
    {
     "data": {
      "image/svg+xml": [
       "<?xml version=\"1.0\" encoding=\"UTF-8\" standalone=\"no\"?><svg xmlns=\"http://www.w3.org/2000/svg\" xmlns:xlink=\"http://www.w3.org/1999/xlink\" contentScriptType=\"application/ecmascript\" contentStyleType=\"text/css\" height=\"467px\" preserveAspectRatio=\"none\" style=\"width:788px;height:467px;background:#000000;\" version=\"1.1\" viewBox=\"0 0 788 467\" width=\"788px\" zoomAndPan=\"magnify\"><defs/><g><rect fill=\"#1B141C\" height=\"1\" style=\"stroke: #1B141C; stroke-width: 1.0;\" width=\"1\" x=\"0\" y=\"0\"/><rect fill=\"#33FF02\" height=\"21.2969\" style=\"stroke: #33FF02; stroke-width: 1.0;\" width=\"781\" x=\"5\" y=\"5\"/><text fill=\"#000000\" font-family=\"sans-serif\" font-size=\"14\" font-weight=\"bold\" lengthAdjust=\"spacingAndGlyphs\" textLength=\"178\" x=\"6\" y=\"20\">[From string (line 25) ]</text><text fill=\"#33FF02\" font-family=\"sans-serif\" font-size=\"14\" font-weight=\"bold\" lengthAdjust=\"spacingAndGlyphs\" textLength=\"0\" x=\"10\" y=\"40.2969\"/><text fill=\"#33FF02\" font-family=\"sans-serif\" font-size=\"14\" font-weight=\"bold\" lengthAdjust=\"spacingAndGlyphs\" textLength=\"79\" x=\"5\" y=\"56.5938\">@startuml</text><text fill=\"#33FF02\" font-family=\"sans-serif\" font-size=\"14\" font-weight=\"bold\" lengthAdjust=\"spacingAndGlyphs\" textLength=\"165\" x=\"5\" y=\"72.8906\">skinparam ranksep 8</text><text fill=\"#33FF02\" font-family=\"sans-serif\" font-size=\"14\" font-weight=\"bold\" lengthAdjust=\"spacingAndGlyphs\" textLength=\"228\" x=\"5\" y=\"89.1875\">skinparam monochrome true</text><text fill=\"#33FF02\" font-family=\"sans-serif\" font-size=\"14\" font-weight=\"bold\" lengthAdjust=\"spacingAndGlyphs\" textLength=\"309\" x=\"5\" y=\"105.4844\">skinparam classbackgroundcolor white</text><text fill=\"#33FF02\" font-family=\"sans-serif\" font-size=\"14\" font-weight=\"bold\" lengthAdjust=\"spacingAndGlyphs\" textLength=\"215\" x=\"5\" y=\"121.7813\">skinparam shadowing false</text><text fill=\"#33FF02\" font-family=\"sans-serif\" font-size=\"14\" font-weight=\"bold\" lengthAdjust=\"spacingAndGlyphs\" textLength=\"206\" x=\"5\" y=\"138.0781\">skinparam wrapWidth 300</text><text fill=\"#33FF02\" font-family=\"sans-serif\" font-size=\"14\" font-weight=\"bold\" lengthAdjust=\"spacingAndGlyphs\" textLength=\"82\" x=\"5\" y=\"154.375\">hide circle</text><text fill=\"#33FF02\" font-family=\"sans-serif\" font-size=\"14\" font-weight=\"bold\" lengthAdjust=\"spacingAndGlyphs\" textLength=\"0\" x=\"10\" y=\"170.6719\"/><text fill=\"#33FF02\" font-family=\"sans-serif\" font-size=\"14\" font-weight=\"bold\" lengthAdjust=\"spacingAndGlyphs\" textLength=\"781\" x=\"5\" y=\"186.9688\">rec usage \"act\" as E1  &lt;&lt;(T,blue)action&gt;&gt; [[psysml:12bd5d36-0dbf-4715-90c3-b0b875efee55 ]] {</text><text fill=\"#33FF02\" font-family=\"sans-serif\" font-size=\"14\" font-weight=\"bold\" lengthAdjust=\"spacingAndGlyphs\" textLength=\"10\" x=\"5\" y=\"203.2656\">}</text><text fill=\"#33FF02\" font-family=\"sans-serif\" font-size=\"14\" font-weight=\"bold\" lengthAdjust=\"spacingAndGlyphs\" textLength=\"0\" x=\"10\" y=\"219.5625\"/><text fill=\"#33FF02\" font-family=\"sans-serif\" font-size=\"14\" font-weight=\"bold\" lengthAdjust=\"spacingAndGlyphs\" textLength=\"760\" x=\"5\" y=\"235.8594\">rec def \"S\" as E2  &lt;&lt;(T,blue)state def&gt;&gt; [[psysml:b6aa9f25-72f8-4c2c-a7be-6589070e9bf6 ]] {</text><text fill=\"#33FF02\" font-family=\"sans-serif\" font-size=\"14\" font-weight=\"bold\" lengthAdjust=\"spacingAndGlyphs\" textLength=\"761\" x=\"5\" y=\"252.1563\">rec usage \"A\" as E3 &lt;&lt;perform action&gt;&gt; [[psysml:7c853ef3-d7ff-4ebf-8ae8-b09e7153a971 ]] {</text><text fill=\"#33FF02\" font-family=\"sans-serif\" font-size=\"14\" font-weight=\"bold\" lengthAdjust=\"spacingAndGlyphs\" textLength=\"10\" x=\"5\" y=\"268.4531\">}</text><text fill=\"#33FF02\" font-family=\"sans-serif\" font-size=\"14\" font-weight=\"bold\" lengthAdjust=\"spacingAndGlyphs\" textLength=\"0\" x=\"10\" y=\"284.75\"/><text fill=\"#33FF02\" font-family=\"sans-serif\" font-size=\"14\" font-weight=\"bold\" lengthAdjust=\"spacingAndGlyphs\" textLength=\"765\" x=\"5\" y=\"301.0469\">rec usage \"B\" as E4 &lt;&lt;perform action&gt;&gt; [[psysml:dca473ca-f240-48c8-8410-315f8ab65930 ]] {</text><text fill=\"#33FF02\" font-family=\"sans-serif\" font-size=\"14\" font-weight=\"bold\" lengthAdjust=\"spacingAndGlyphs\" textLength=\"10\" x=\"5\" y=\"317.3438\">}</text><text fill=\"#33FF02\" font-family=\"sans-serif\" font-size=\"14\" font-weight=\"bold\" lengthAdjust=\"spacingAndGlyphs\" textLength=\"0\" x=\"10\" y=\"333.6406\"/><text fill=\"#33FF02\" font-family=\"sans-serif\" font-size=\"14\" font-weight=\"bold\" lengthAdjust=\"spacingAndGlyphs\" textLength=\"779\" x=\"5\" y=\"349.9375\">rec usage \"act\" as E5 &lt;&lt;perform action&gt;&gt; [[psysml:4cc25ae1-ca80-482c-9b62-70f98bd0e4f3 ]] {</text><text fill=\"#33FF02\" font-family=\"sans-serif\" font-size=\"14\" font-weight=\"bold\" lengthAdjust=\"spacingAndGlyphs\" textLength=\"10\" x=\"5\" y=\"366.2344\">}</text><text fill=\"#33FF02\" font-family=\"sans-serif\" font-size=\"14\" font-weight=\"bold\" lengthAdjust=\"spacingAndGlyphs\" textLength=\"0\" x=\"10\" y=\"382.5313\"/><text fill=\"#33FF02\" font-family=\"sans-serif\" font-size=\"14\" font-weight=\"bold\" lengthAdjust=\"spacingAndGlyphs\" textLength=\"763\" x=\"5\" y=\"398.8281\">rec usage \"S1\" as E6  &lt;&lt;(T,blue)state&gt;&gt; [[psysml:1cabaaec-9539-448a-9df0-432fc817479b ]] {</text><text fill=\"#33FF02\" font-family=\"sans-serif\" font-size=\"14\" font-weight=\"bold\" lengthAdjust=\"spacingAndGlyphs\" textLength=\"10\" x=\"5\" y=\"415.125\">}</text><text fill=\"#33FF02\" font-family=\"sans-serif\" font-size=\"14\" font-weight=\"bold\" lengthAdjust=\"spacingAndGlyphs\" textLength=\"0\" x=\"10\" y=\"431.4219\"/><text fill=\"#33FF02\" font-family=\"sans-serif\" font-size=\"14\" font-weight=\"bold\" lengthAdjust=\"spacingAndGlyphs\" textLength=\"10\" x=\"5\" y=\"447.7188\">{</text><text fill=\"#FF0000\" font-family=\"sans-serif\" font-size=\"14\" font-weight=\"bold\" lengthAdjust=\"spacingAndGlyphs\" textLength=\"106\" x=\"10\" y=\"464.0156\">Syntax Error?</text><!--MD5=[eda2689b86b17d1fdaeb7587de5b7071]\n",
       "@startuml\r\n",
       "skinparam ranksep 8\r\n",
       "skinparam monochrome true\r\n",
       "skinparam classbackgroundcolor white\r\n",
       "skinparam shadowing false\r\n",
       "skinparam wrapWidth 300\r\n",
       "hide circle\r\n",
       "\r\n",
       "rec usage \"act\" as E1  <<(T,blue)action>> [[psysml:12bd5d36-0dbf-4715-90c3-b0b875efee55 ]] {\r\n",
       "}\r\n",
       "\r\n",
       "rec def \"S\" as E2  <<(T,blue)state def>> [[psysml:b6aa9f25-72f8-4c2c-a7be-6589070e9bf6 ]] {\r\n",
       "rec usage \"A\" as E3 <<perform action>> [[psysml:7c853ef3-d7ff-4ebf-8ae8-b09e7153a971 ]] {\r\n",
       "}\r\n",
       "\r\n",
       "rec usage \"B\" as E4 <<perform action>> [[psysml:dca473ca-f240-48c8-8410-315f8ab65930 ]] {\r\n",
       "}\r\n",
       "\r\n",
       "rec usage \"act\" as E5 <<perform action>> [[psysml:4cc25ae1-ca80-482c-9b62-70f98bd0e4f3 ]] {\r\n",
       "}\r\n",
       "\r\n",
       "rec usage \"S1\" as E6  <<(T,blue)state>> [[psysml:1cabaaec-9539-448a-9df0-432fc817479b ]] {\r\n",
       "}\r\n",
       "\r\n",
       "{\r\n",
       "{\r\n",
       "}\r\n",
       "\r\n",
       "rec usage \"D\" as E7 <<perform action>> [[psysml:3510f31d-b177-4ebf-8714-3f9d2522539a ]] {\r\n",
       "}\r\n",
       "\r\n",
       "}\r\n",
       "\r\n",
       "rec usage \"S2\" as E8  <<(T,blue)state>> [[psysml:7a7b17a9-f595-41dc-990f-a07a1c17ba3c ]] {\r\n",
       "rec usage \"doAction\" as E9 <<send action>> [[psysml:fce0e4a1-8edc-4c38-93d6-a3b5e3670b25 ]] {\r\n",
       "portin \"$x\" as E10  [[psysml:0f9ee1be-4b0c-49df-bf39-0b4be923bab5 ]] \r\n",
       "portout \"$result\" as E11  [[psysml:57c23ed7-9c69-47d3-a300-7e2619377bac ]] \r\n",
       "}\r\n",
       "\r\n",
       "}\r\n",
       "\r\n",
       "{\r\n",
       "{\r\n",
       "}\r\n",
       "\r\n",
       "}\r\n",
       "\r\n",
       "rec usage \"T\" as E12  <<(T,blue)transition>> [[psysml:bcd703ca-2055-4c24-98bc-6c579eb31483 ]] {\r\n",
       "rec usage \"S2\" as E13  <<(T,blue)state>> [[psysml:7a7b17a9-f595-41dc-990f-a07a1c17ba3c ]] {\r\n",
       "rec usage \"doAction\" as E14 <<send action>> [[psysml:fce0e4a1-8edc-4c38-93d6-a3b5e3670b25 ]] {\r\n",
       "portin \"$x\" as E15  [[psysml:0f9ee1be-4b0c-49df-bf39-0b4be923bab5 ]] \r\n",
       "portout \"$result\" as E16  [[psysml:57c23ed7-9c69-47d3-a300-7e2619377bac ]] \r\n",
       "}\r\n",
       "\r\n",
       "}\r\n",
       "\r\n",
       "{\r\n",
       "}\r\n",
       "\r\n",
       "portout \"$result\" as E17  [[psysml:911b7f24-6054-424b-94f8-0593eb8f2c88 ]] \r\n",
       "{\r\n",
       "}\r\n",
       "\r\n",
       "}\r\n",
       "\r\n",
       "}\r\n",
       "\r\n",
       "@enduml\r\n",
       "\n",
       "PlantUML version 1.2020.13(Sat Jun 13 12:26:38 UTC 2020)\n",
       "(EPL source distribution)\n",
       "Java Runtime: OpenJDK Runtime Environment\n",
       "JVM: OpenJDK 64-Bit Server VM\n",
       "Default Encoding: UTF-8\n",
       "Language: en\n",
       "Country: null\n",
       "--></g></svg>"
      ]
     },
     "execution_count": 41,
     "metadata": {},
     "output_type": "execute_result"
    }
   ],
   "source": [
    "%viz --style=\"DEFAULT\" --view=\"Action\" \"StateTest\""
   ]
  },
  {
   "cell_type": "code",
   "execution_count": 42,
   "id": "superb-amendment",
   "metadata": {
    "execution": {
     "iopub.execute_input": "2021-03-25T15:07:03.024138Z",
     "iopub.status.busy": "2021-03-25T15:07:03.023583Z",
     "iopub.status.idle": "2021-03-25T15:07:03.479799Z",
     "shell.execute_reply": "2021-03-25T15:07:03.479294Z"
    }
   },
   "outputs": [
    {
     "data": {
      "image/svg+xml": [
       "<?xml version=\"1.0\" encoding=\"UTF-8\" standalone=\"no\"?><svg xmlns=\"http://www.w3.org/2000/svg\" xmlns:xlink=\"http://www.w3.org/1999/xlink\" contentScriptType=\"application/ecmascript\" contentStyleType=\"text/css\" height=\"471px\" preserveAspectRatio=\"none\" style=\"width:594px;height:471px;\" version=\"1.1\" viewBox=\"0 0 594 471\" width=\"594px\" zoomAndPan=\"magnify\"><defs/><g><!--MD5=[fbc87193dbaf4d95561dea2c320d4a47]\n",
       "cluster E1--><a href=\"psysml:a2ca8720-bd4b-4556-9b27-091331149f1f\" target=\"_top\" title=\"psysml:a2ca8720-bd4b-4556-9b27-091331149f1f\" xlink:actuate=\"onRequest\" xlink:href=\"psysml:a2ca8720-bd4b-4556-9b27-091331149f1f\" xlink:show=\"new\" xlink:title=\"psysml:a2ca8720-bd4b-4556-9b27-091331149f1f\" xlink:type=\"simple\"><polygon fill=\"#FFFFFF\" points=\"16,6,98,6,105,28.2969,572,28.2969,572,459,16,459,16,6\" style=\"stroke: #000000; stroke-width: 1.5;\"/><line style=\"stroke: #000000; stroke-width: 1.5;\" x1=\"16\" x2=\"105\" y1=\"28.2969\" y2=\"28.2969\"/><text fill=\"#000000\" font-family=\"sans-serif\" font-size=\"14\" font-weight=\"bold\" lengthAdjust=\"spacingAndGlyphs\" textLength=\"76\" x=\"20\" y=\"20.9951\">StateTest</text></a><!--MD5=[b4997ac47864f28c2f74865a473b2911]\n",
       "class E2--><a href=\"psysml:9b0c6b07-76e0-48e6-88f4-e6a2c752e8e3\" target=\"_top\" title=\"psysml:9b0c6b07-76e0-48e6-88f4-e6a2c752e8e3\" xlink:actuate=\"onRequest\" xlink:href=\"psysml:9b0c6b07-76e0-48e6-88f4-e6a2c752e8e3\" xlink:show=\"new\" xlink:title=\"psysml:9b0c6b07-76e0-48e6-88f4-e6a2c752e8e3\" xlink:type=\"simple\"><rect fill=\"#FFFFFF\" height=\"75.5469\" id=\"E2\" style=\"stroke: #383838; stroke-width: 1.5;\" width=\"95\" x=\"460.5\" y=\"83\"/><text fill=\"#000000\" font-family=\"sans-serif\" font-size=\"12\" font-style=\"italic\" lengthAdjust=\"spacingAndGlyphs\" textLength=\"93\" x=\"461.5\" y=\"99.1387\">«attribute def»</text><text fill=\"#000000\" font-family=\"sans-serif\" font-size=\"12\" lengthAdjust=\"spacingAndGlyphs\" textLength=\"19\" x=\"498.5\" y=\"113.1074\">Sig</text><line style=\"stroke: #383838; stroke-width: 1.5;\" x1=\"461.5\" x2=\"554.5\" y1=\"120.9375\" y2=\"120.9375\"/><text fill=\"#000000\" font-family=\"sans-serif\" font-size=\"11\" lengthAdjust=\"spacingAndGlyphs\" textLength=\"6\" x=\"466.5\" y=\"151.9526\">x</text><line style=\"stroke: #383838; stroke-width: 1.0;\" x1=\"461.5\" x2=\"480.5\" y1=\"135.3398\" y2=\"135.3398\"/><text fill=\"#000000\" font-family=\"sans-serif\" font-size=\"11\" lengthAdjust=\"spacingAndGlyphs\" textLength=\"55\" x=\"480.5\" y=\"138.6479\">attributes</text><line style=\"stroke: #383838; stroke-width: 1.0;\" x1=\"535.5\" x2=\"554.5\" y1=\"135.3398\" y2=\"135.3398\"/></a><!--MD5=[09b614a08d8cba4a07c9adeb5e0fee81]\n",
       "class E3--><a href=\"psysml:75ee6cec-68f4-495e-910b-3cf4854ee540\" target=\"_top\" title=\"psysml:75ee6cec-68f4-495e-910b-3cf4854ee540\" xlink:actuate=\"onRequest\" xlink:href=\"psysml:75ee6cec-68f4-495e-910b-3cf4854ee540\" xlink:show=\"new\" xlink:title=\"psysml:75ee6cec-68f4-495e-910b-3cf4854ee540\" xlink:type=\"simple\"><rect fill=\"#FFFFFF\" height=\"45.9375\" id=\"E3\" style=\"stroke: #383838; stroke-width: 1.5;\" width=\"95\" x=\"330.5\" y=\"98\"/><text fill=\"#000000\" font-family=\"sans-serif\" font-size=\"12\" font-style=\"italic\" lengthAdjust=\"spacingAndGlyphs\" textLength=\"93\" x=\"331.5\" y=\"114.1387\">«attribute def»</text><text fill=\"#000000\" font-family=\"sans-serif\" font-size=\"12\" lengthAdjust=\"spacingAndGlyphs\" textLength=\"22\" x=\"367\" y=\"128.1074\">Exit</text><line style=\"stroke: #383838; stroke-width: 1.5;\" x1=\"331.5\" x2=\"424.5\" y1=\"135.9375\" y2=\"135.9375\"/></a><!--MD5=[ebbe1d658d1005bcc118a6aa81145e00]\n",
       "class E4--><a href=\"psysml:d526add9-9153-4d94-82de-e3d10cc7d584\" target=\"_top\" title=\"psysml:d526add9-9153-4d94-82de-e3d10cc7d584\" xlink:actuate=\"onRequest\" xlink:href=\"psysml:d526add9-9153-4d94-82de-e3d10cc7d584\" xlink:show=\"new\" xlink:title=\"psysml:d526add9-9153-4d94-82de-e3d10cc7d584\" xlink:type=\"simple\"><rect fill=\"#FFFFFF\" height=\"45.9375\" id=\"E4\" rx=\"10\" ry=\"10\" style=\"stroke: #383838; stroke-width: 1.5;\" width=\"42\" x=\"253\" y=\"98\"/><text fill=\"#000000\" font-family=\"sans-serif\" font-size=\"12\" font-style=\"italic\" lengthAdjust=\"spacingAndGlyphs\" textLength=\"40\" x=\"254\" y=\"114.1387\">«part»</text><text fill=\"#000000\" font-family=\"sans-serif\" font-size=\"12\" lengthAdjust=\"spacingAndGlyphs\" textLength=\"8\" x=\"270\" y=\"128.1074\">p</text><line style=\"stroke: #383838; stroke-width: 1.5;\" x1=\"254\" x2=\"294\" y1=\"135.9375\" y2=\"135.9375\"/></a><!--MD5=[270fce915f116d4de14055a7c1d9a0f3]\n",
       "class E5--><a href=\"psysml:12bd5d36-0dbf-4715-90c3-b0b875efee55\" target=\"_top\" title=\"psysml:12bd5d36-0dbf-4715-90c3-b0b875efee55\" xlink:actuate=\"onRequest\" xlink:href=\"psysml:12bd5d36-0dbf-4715-90c3-b0b875efee55\" xlink:show=\"new\" xlink:title=\"psysml:12bd5d36-0dbf-4715-90c3-b0b875efee55\" xlink:type=\"simple\"><rect fill=\"#FFFFFF\" height=\"45.9375\" id=\"E5\" rx=\"10\" ry=\"10\" style=\"stroke: #383838; stroke-width: 1.5;\" width=\"55\" x=\"162.5\" y=\"98\"/><text fill=\"#000000\" font-family=\"sans-serif\" font-size=\"12\" font-style=\"italic\" lengthAdjust=\"spacingAndGlyphs\" textLength=\"53\" x=\"163.5\" y=\"114.1387\">«action»</text><text fill=\"#000000\" font-family=\"sans-serif\" font-size=\"12\" lengthAdjust=\"spacingAndGlyphs\" textLength=\"20\" x=\"180\" y=\"128.1074\">act</text><line style=\"stroke: #383838; stroke-width: 1.5;\" x1=\"163.5\" x2=\"216.5\" y1=\"135.9375\" y2=\"135.9375\"/></a><!--MD5=[60a26617385b1d2d0262a64233df1f8d]\n",
       "class E6--><a href=\"psysml:b6aa9f25-72f8-4c2c-a7be-6589070e9bf6\" target=\"_top\" title=\"psysml:b6aa9f25-72f8-4c2c-a7be-6589070e9bf6\" xlink:actuate=\"onRequest\" xlink:href=\"psysml:b6aa9f25-72f8-4c2c-a7be-6589070e9bf6\" xlink:show=\"new\" xlink:title=\"psysml:b6aa9f25-72f8-4c2c-a7be-6589070e9bf6\" xlink:type=\"simple\"><rect fill=\"#FFFFFF\" height=\"160.375\" id=\"E6\" style=\"stroke: #383838; stroke-width: 1.5;\" width=\"95\" x=\"32.5\" y=\"41\"/><text fill=\"#000000\" font-family=\"sans-serif\" font-size=\"12\" font-style=\"italic\" lengthAdjust=\"spacingAndGlyphs\" textLength=\"71\" x=\"44.5\" y=\"57.1387\">«state def»</text><text fill=\"#000000\" font-family=\"sans-serif\" font-size=\"12\" lengthAdjust=\"spacingAndGlyphs\" textLength=\"8\" x=\"76\" y=\"71.1074\">S</text><line style=\"stroke: #383838; stroke-width: 1.5;\" x1=\"33.5\" x2=\"126.5\" y1=\"78.9375\" y2=\"78.9375\"/><text fill=\"#000000\" font-family=\"sans-serif\" font-size=\"11\" lengthAdjust=\"spacingAndGlyphs\" textLength=\"17\" x=\"38.5\" y=\"109.9526\">act</text><text fill=\"#000000\" font-family=\"sans-serif\" font-size=\"11\" lengthAdjust=\"spacingAndGlyphs\" textLength=\"7\" x=\"38.5\" y=\"122.7573\">A</text><text fill=\"#000000\" font-family=\"sans-serif\" font-size=\"11\" lengthAdjust=\"spacingAndGlyphs\" textLength=\"8\" x=\"38.5\" y=\"135.562\">B</text><line style=\"stroke: #383838; stroke-width: 1.0;\" x1=\"33.5\" x2=\"36.5\" y1=\"93.3398\" y2=\"93.3398\"/><text fill=\"#000000\" font-family=\"sans-serif\" font-size=\"11\" lengthAdjust=\"spacingAndGlyphs\" textLength=\"87\" x=\"36.5\" y=\"96.6479\">performActions</text><line style=\"stroke: #383838; stroke-width: 1.0;\" x1=\"123.5\" x2=\"126.5\" y1=\"93.3398\" y2=\"93.3398\"/><text fill=\"#000000\" font-family=\"sans-serif\" font-size=\"11\" lengthAdjust=\"spacingAndGlyphs\" textLength=\"15\" x=\"38.5\" y=\"165.1714\">S1</text><line style=\"stroke: #383838; stroke-width: 1.0;\" x1=\"33.5\" x2=\"62\" y1=\"148.5586\" y2=\"148.5586\"/><text fill=\"#000000\" font-family=\"sans-serif\" font-size=\"11\" lengthAdjust=\"spacingAndGlyphs\" textLength=\"36\" x=\"62\" y=\"151.8667\">states</text><line style=\"stroke: #383838; stroke-width: 1.0;\" x1=\"98\" x2=\"126.5\" y1=\"148.5586\" y2=\"148.5586\"/><text fill=\"#000000\" font-family=\"sans-serif\" font-size=\"11\" lengthAdjust=\"spacingAndGlyphs\" textLength=\"7\" x=\"38.5\" y=\"194.7808\">T</text><line style=\"stroke: #383838; stroke-width: 1.0;\" x1=\"33.5\" x2=\"49.5\" y1=\"178.168\" y2=\"178.168\"/><text fill=\"#000000\" font-family=\"sans-serif\" font-size=\"11\" lengthAdjust=\"spacingAndGlyphs\" textLength=\"61\" x=\"49.5\" y=\"181.4761\">transitions</text><line style=\"stroke: #383838; stroke-width: 1.0;\" x1=\"110.5\" x2=\"126.5\" y1=\"178.168\" y2=\"178.168\"/></a><!--MD5=[1dd1bfd58a279cf63c5f349dbc8fc6a1]\n",
       "class E11--><a href=\"psysml:7a7b17a9-f595-41dc-990f-a07a1c17ba3c\" target=\"_top\" title=\"psysml:7a7b17a9-f595-41dc-990f-a07a1c17ba3c\" xlink:actuate=\"onRequest\" xlink:href=\"psysml:7a7b17a9-f595-41dc-990f-a07a1c17ba3c\" xlink:show=\"new\" xlink:title=\"psysml:7a7b17a9-f595-41dc-990f-a07a1c17ba3c\" xlink:type=\"simple\"><rect fill=\"#FFFFFF\" height=\"45.9375\" id=\"E11\" rx=\"10\" ry=\"10\" style=\"stroke: #383838; stroke-width: 1.5;\" width=\"49\" x=\"55.5\" y=\"261\"/><text fill=\"#000000\" font-family=\"sans-serif\" font-size=\"12\" font-style=\"italic\" lengthAdjust=\"spacingAndGlyphs\" textLength=\"47\" x=\"56.5\" y=\"277.1387\">«state»</text><text fill=\"#000000\" font-family=\"sans-serif\" font-size=\"12\" lengthAdjust=\"spacingAndGlyphs\" textLength=\"16\" x=\"72\" y=\"291.1074\">S2</text><line style=\"stroke: #383838; stroke-width: 1.5;\" x1=\"56.5\" x2=\"103.5\" y1=\"298.9375\" y2=\"298.9375\"/></a><!--MD5=[49a0ec8f00dab7302a31f22d0f0fe584]\n",
       "class E12--><a href=\"psysml:fce0e4a1-8edc-4c38-93d6-a3b5e3670b25\" target=\"_top\" title=\"psysml:fce0e4a1-8edc-4c38-93d6-a3b5e3670b25\" xlink:actuate=\"onRequest\" xlink:href=\"psysml:fce0e4a1-8edc-4c38-93d6-a3b5e3670b25\" xlink:show=\"new\" xlink:title=\"psysml:fce0e4a1-8edc-4c38-93d6-a3b5e3670b25\" xlink:type=\"simple\"><rect fill=\"#FFFFFF\" height=\"75.5469\" id=\"E12\" rx=\"10\" ry=\"10\" style=\"stroke: #383838; stroke-width: 1.5;\" width=\"90\" x=\"35\" y=\"367\"/><text fill=\"#000000\" font-family=\"sans-serif\" font-size=\"12\" font-style=\"italic\" lengthAdjust=\"spacingAndGlyphs\" textLength=\"88\" x=\"36\" y=\"383.1387\">«send action»</text><text fill=\"#000000\" font-family=\"sans-serif\" font-size=\"12\" lengthAdjust=\"spacingAndGlyphs\" textLength=\"55\" x=\"52.5\" y=\"397.1074\">doAction</text><line style=\"stroke: #383838; stroke-width: 1.5;\" x1=\"36\" x2=\"124\" y1=\"404.9375\" y2=\"404.9375\"/><text fill=\"#000000\" font-family=\"sans-serif\" font-size=\"11\" lengthAdjust=\"spacingAndGlyphs\" textLength=\"25\" x=\"41\" y=\"435.9526\">item</text><line style=\"stroke: #383838; stroke-width: 1.0;\" x1=\"36\" x2=\"42.5\" y1=\"419.3398\" y2=\"419.3398\"/><text fill=\"#000000\" font-family=\"sans-serif\" font-size=\"11\" lengthAdjust=\"spacingAndGlyphs\" textLength=\"75\" x=\"42.5\" y=\"422.6479\">itemFeatures</text><line style=\"stroke: #383838; stroke-width: 1.0;\" x1=\"117.5\" x2=\"124\" y1=\"419.3398\" y2=\"419.3398\"/></a><!--MD5=[1f5f03483f7de0d5b3680a7f6650997f]\n",
       "reverse link E6 to E11--><a href=\"psysml:7a7b17a9-f595-41dc-990f-a07a1c17ba3c\" target=\"_top\" title=\"psysml:7a7b17a9-f595-41dc-990f-a07a1c17ba3c\" xlink:actuate=\"onRequest\" xlink:href=\"psysml:7a7b17a9-f595-41dc-990f-a07a1c17ba3c\" xlink:show=\"new\" xlink:title=\"psysml:7a7b17a9-f595-41dc-990f-a07a1c17ba3c\" xlink:type=\"simple\"><path d=\"M80,214.17 C80,231.58 80,248.25 80,260.82 \" fill=\"none\" id=\"E6&lt;-E11\" style=\"stroke: #383838; stroke-width: 1.0;\"/><polygon fill=\"#383838\" points=\"80,201.09,76.0066,207.0944,80.0132,213.09,84.0066,207.0856,80,201.09\" style=\"stroke: #383838; stroke-width: 1.0;\"/></a><!--MD5=[94adabc162ce7e41b39f13be14fbaeb3]\n",
       "reverse link E11 to E12--><a href=\"psysml:fce0e4a1-8edc-4c38-93d6-a3b5e3670b25\" target=\"_top\" title=\"psysml:fce0e4a1-8edc-4c38-93d6-a3b5e3670b25\" xlink:actuate=\"onRequest\" xlink:href=\"psysml:fce0e4a1-8edc-4c38-93d6-a3b5e3670b25\" xlink:show=\"new\" xlink:title=\"psysml:fce0e4a1-8edc-4c38-93d6-a3b5e3670b25\" xlink:type=\"simple\"><path d=\"M80,320.23 C80,334.82 80,351.76 80,366.58 \" fill=\"none\" id=\"E11&lt;-E12\" style=\"stroke: #383838; stroke-width: 1.0;\"/><polygon fill=\"#FFFFFF\" points=\"80,307.1,76,313.1,80,319.1,84,313.1,80,307.1\" style=\"stroke: #383838; stroke-width: 1.0;\"/></a><!--MD5=[dc0d6325fea2e426fed4aeb554aad6bd]\n",
       "@startuml\r\n",
       "skinparam monochrome true\r\n",
       "skinparam classbackgroundcolor white\r\n",
       "skinparam shadowing false\r\n",
       "skinparam wrapWidth 300\r\n",
       "hide circle\r\n",
       "\r\n",
       "package \"StateTest\" as E1  [[psysml:a2ca8720-bd4b-4556-9b27-091331149f1f ]]  {\r\n",
       "comp def \"Sig\" as E2  <<(T,blue)attribute def>> [[psysml:9b0c6b07-76e0-48e6-88f4-e6a2c752e8e3 ]] {\r\n",
       "- - attributes - -\r\n",
       "x\r\n",
       "}\r\n",
       "comp def \"Exit\" as E3  <<(T,blue)attribute def>> [[psysml:75ee6cec-68f4-495e-910b-3cf4854ee540 ]] {\r\n",
       "}\r\n",
       "comp usage \"p\" as E4  <<(T,blue)part>> [[psysml:d526add9-9153-4d94-82de-e3d10cc7d584 ]] {\r\n",
       "}\r\n",
       "comp usage \"act\" as E5  <<(T,blue)action>> [[psysml:12bd5d36-0dbf-4715-90c3-b0b875efee55 ]] {\r\n",
       "}\r\n",
       "comp def \"S\" as E6  <<(T,blue)state def>> [[psysml:b6aa9f25-72f8-4c2c-a7be-6589070e9bf6 ]] {\r\n",
       "- - performActions - -\r\n",
       "act\r\n",
       "A\r\n",
       "B\r\n",
       "- - states - -\r\n",
       "S1\r\n",
       "- - transitions - -\r\n",
       "T\r\n",
       "}\r\n",
       "comp usage \"S2\" as E11  <<(T,blue)state>> [[psysml:7a7b17a9-f595-41dc-990f-a07a1c17ba3c ]] {\r\n",
       "}\r\n",
       "comp usage \"doAction\" as E12 <<send action>> [[psysml:fce0e4a1-8edc-4c38-93d6-a3b5e3670b25 ]] {\r\n",
       "- - itemFeatures - -\r\n",
       "item\r\n",
       "}\r\n",
       "E6 *- - E11 [[psysml:7a7b17a9-f595-41dc-990f-a07a1c17ba3c ]] \r\n",
       "E11 o- - E12 [[psysml:fce0e4a1-8edc-4c38-93d6-a3b5e3670b25 ]] \r\n",
       "}\r\n",
       "@enduml\r\n",
       "\n",
       "PlantUML version 1.2020.13(Sat Jun 13 12:26:38 UTC 2020)\n",
       "(EPL source distribution)\n",
       "Java Runtime: OpenJDK Runtime Environment\n",
       "JVM: OpenJDK 64-Bit Server VM\n",
       "Default Encoding: UTF-8\n",
       "Language: en\n",
       "Country: null\n",
       "--></g></svg>"
      ]
     },
     "execution_count": 42,
     "metadata": {},
     "output_type": "execute_result"
    }
   ],
   "source": [
    "%viz --style=\"DEFAULT\" --view=\"Sequence\" \"StateTest\""
   ]
  },
  {
   "cell_type": "code",
   "execution_count": 43,
   "id": "straight-ireland",
   "metadata": {
    "execution": {
     "iopub.execute_input": "2021-03-25T15:07:03.530391Z",
     "iopub.status.busy": "2021-03-25T15:07:03.529698Z",
     "iopub.status.idle": "2021-03-25T15:07:03.723271Z",
     "shell.execute_reply": "2021-03-25T15:07:03.722617Z"
    }
   },
   "outputs": [
    {
     "data": {
      "image/svg+xml": [
       "<?xml version=\"1.0\" encoding=\"UTF-8\" standalone=\"no\"?><svg xmlns=\"http://www.w3.org/2000/svg\" xmlns:xlink=\"http://www.w3.org/1999/xlink\" contentScriptType=\"application/ecmascript\" contentStyleType=\"text/css\" height=\"570px\" preserveAspectRatio=\"none\" style=\"width:819px;height:570px;\" version=\"1.1\" viewBox=\"0 0 819 570\" width=\"819px\" zoomAndPan=\"magnify\"><defs/><g><!--MD5=[fbc87193dbaf4d95561dea2c320d4a47]\n",
       "cluster E1--><a href=\"psysml:a2ca8720-bd4b-4556-9b27-091331149f1f\" target=\"_top\" title=\"psysml:a2ca8720-bd4b-4556-9b27-091331149f1f\" xlink:actuate=\"onRequest\" xlink:href=\"psysml:a2ca8720-bd4b-4556-9b27-091331149f1f\" xlink:show=\"new\" xlink:title=\"psysml:a2ca8720-bd4b-4556-9b27-091331149f1f\" xlink:type=\"simple\"><polygon fill=\"#FFFFFF\" points=\"16,6,98,6,105,28.2969,797,28.2969,797,558,16,558,16,6\" style=\"stroke: #000000; stroke-width: 1.5;\"/><line style=\"stroke: #000000; stroke-width: 1.5;\" x1=\"16\" x2=\"105\" y1=\"28.2969\" y2=\"28.2969\"/><text fill=\"#000000\" font-family=\"sans-serif\" font-size=\"14\" font-weight=\"bold\" lengthAdjust=\"spacingAndGlyphs\" textLength=\"76\" x=\"20\" y=\"20.9951\">StateTest</text></a><!--MD5=[14e3b0961a2654348d326746436168a1]\n",
       "cluster E6--><a href=\"psysml:b6aa9f25-72f8-4c2c-a7be-6589070e9bf6\" target=\"_top\" title=\"psysml:b6aa9f25-72f8-4c2c-a7be-6589070e9bf6\" xlink:actuate=\"onRequest\" xlink:href=\"psysml:b6aa9f25-72f8-4c2c-a7be-6589070e9bf6\" xlink:show=\"new\" xlink:title=\"psysml:b6aa9f25-72f8-4c2c-a7be-6589070e9bf6\" xlink:type=\"simple\"><rect fill=\"#FFFFFF\" height=\"485\" id=\"E6\" style=\"stroke: #383838; stroke-width: 1.5;\" width=\"327\" x=\"446\" y=\"49\"/><rect fill=\"#F8F8F8\" height=\"37.9375\" style=\"stroke: #383838; stroke-width: 1.5;\" width=\"327\" x=\"446\" y=\"49\"/><text fill=\"#000000\" font-family=\"sans-serif\" font-size=\"12\" font-style=\"italic\" lengthAdjust=\"spacingAndGlyphs\" textLength=\"71\" x=\"574\" y=\"65.1387\">«state def»</text><text fill=\"#000000\" font-family=\"sans-serif\" font-size=\"12\" lengthAdjust=\"spacingAndGlyphs\" textLength=\"8\" x=\"605.5\" y=\"79.1074\">S</text><line style=\"stroke: #383838; stroke-width: 1.0;\" x1=\"446\" x2=\"773\" y1=\"132.8438\" y2=\"132.8438\"/><text fill=\"#000000\" font-family=\"sans-serif\" font-size=\"12\" font-weight=\"bold\" lengthAdjust=\"spacingAndGlyphs\" textLength=\"38\" x=\"451\" y=\"100.0762\">entry</text><text fill=\"#000000\" font-family=\"sans-serif\" font-size=\"12\" lengthAdjust=\"spacingAndGlyphs\" textLength=\"16\" x=\"489\" y=\"100.0762\">/ A</text><text fill=\"#000000\" font-family=\"sans-serif\" font-size=\"12\" font-weight=\"bold\" lengthAdjust=\"spacingAndGlyphs\" textLength=\"18\" x=\"451\" y=\"114.0449\">do</text><text fill=\"#000000\" font-family=\"sans-serif\" font-size=\"12\" lengthAdjust=\"spacingAndGlyphs\" textLength=\"16\" x=\"469\" y=\"114.0449\">/ B</text><text fill=\"#000000\" font-family=\"sans-serif\" font-size=\"12\" font-weight=\"bold\" lengthAdjust=\"spacingAndGlyphs\" textLength=\"26\" x=\"451\" y=\"128.0137\">exit</text><text fill=\"#000000\" font-family=\"sans-serif\" font-size=\"12\" lengthAdjust=\"spacingAndGlyphs\" textLength=\"28\" x=\"477\" y=\"128.0137\">/ act</text></a><!--MD5=[b4997ac47864f28c2f74865a473b2911]\n",
       "class E2--><a href=\"psysml:9b0c6b07-76e0-48e6-88f4-e6a2c752e8e3\" target=\"_top\" title=\"psysml:9b0c6b07-76e0-48e6-88f4-e6a2c752e8e3\" xlink:actuate=\"onRequest\" xlink:href=\"psysml:9b0c6b07-76e0-48e6-88f4-e6a2c752e8e3\" xlink:show=\"new\" xlink:title=\"psysml:9b0c6b07-76e0-48e6-88f4-e6a2c752e8e3\" xlink:type=\"simple\"><rect fill=\"#FFFFFF\" height=\"75.5469\" id=\"E2\" style=\"stroke: #383838; stroke-width: 1.5;\" width=\"95\" x=\"334.5\" y=\"119\"/><text fill=\"#000000\" font-family=\"sans-serif\" font-size=\"12\" font-style=\"italic\" lengthAdjust=\"spacingAndGlyphs\" textLength=\"93\" x=\"335.5\" y=\"135.1387\">«attribute def»</text><text fill=\"#000000\" font-family=\"sans-serif\" font-size=\"12\" lengthAdjust=\"spacingAndGlyphs\" textLength=\"19\" x=\"372.5\" y=\"149.1074\">Sig</text><line style=\"stroke: #383838; stroke-width: 1.5;\" x1=\"335.5\" x2=\"428.5\" y1=\"156.9375\" y2=\"156.9375\"/><text fill=\"#000000\" font-family=\"sans-serif\" font-size=\"11\" lengthAdjust=\"spacingAndGlyphs\" textLength=\"6\" x=\"340.5\" y=\"187.9526\">x</text><line style=\"stroke: #383838; stroke-width: 1.0;\" x1=\"335.5\" x2=\"354.5\" y1=\"171.3398\" y2=\"171.3398\"/><text fill=\"#000000\" font-family=\"sans-serif\" font-size=\"11\" lengthAdjust=\"spacingAndGlyphs\" textLength=\"55\" x=\"354.5\" y=\"174.6479\">attributes</text><line style=\"stroke: #383838; stroke-width: 1.0;\" x1=\"409.5\" x2=\"428.5\" y1=\"171.3398\" y2=\"171.3398\"/></a><!--MD5=[09b614a08d8cba4a07c9adeb5e0fee81]\n",
       "class E3--><a href=\"psysml:75ee6cec-68f4-495e-910b-3cf4854ee540\" target=\"_top\" title=\"psysml:75ee6cec-68f4-495e-910b-3cf4854ee540\" xlink:actuate=\"onRequest\" xlink:href=\"psysml:75ee6cec-68f4-495e-910b-3cf4854ee540\" xlink:show=\"new\" xlink:title=\"psysml:75ee6cec-68f4-495e-910b-3cf4854ee540\" xlink:type=\"simple\"><rect fill=\"#FFFFFF\" height=\"45.9375\" id=\"E3\" style=\"stroke: #383838; stroke-width: 1.5;\" width=\"95\" x=\"204.5\" y=\"134\"/><text fill=\"#000000\" font-family=\"sans-serif\" font-size=\"12\" font-style=\"italic\" lengthAdjust=\"spacingAndGlyphs\" textLength=\"93\" x=\"205.5\" y=\"150.1387\">«attribute def»</text><text fill=\"#000000\" font-family=\"sans-serif\" font-size=\"12\" lengthAdjust=\"spacingAndGlyphs\" textLength=\"22\" x=\"241\" y=\"164.1074\">Exit</text><line style=\"stroke: #383838; stroke-width: 1.5;\" x1=\"205.5\" x2=\"298.5\" y1=\"171.9375\" y2=\"171.9375\"/></a><!--MD5=[ebbe1d658d1005bcc118a6aa81145e00]\n",
       "class E4--><a href=\"psysml:d526add9-9153-4d94-82de-e3d10cc7d584\" target=\"_top\" title=\"psysml:d526add9-9153-4d94-82de-e3d10cc7d584\" xlink:actuate=\"onRequest\" xlink:href=\"psysml:d526add9-9153-4d94-82de-e3d10cc7d584\" xlink:show=\"new\" xlink:title=\"psysml:d526add9-9153-4d94-82de-e3d10cc7d584\" xlink:type=\"simple\"><rect fill=\"#FFFFFF\" height=\"45.9375\" id=\"E4\" rx=\"10\" ry=\"10\" style=\"stroke: #383838; stroke-width: 1.5;\" width=\"42\" x=\"127\" y=\"134\"/><text fill=\"#000000\" font-family=\"sans-serif\" font-size=\"12\" font-style=\"italic\" lengthAdjust=\"spacingAndGlyphs\" textLength=\"40\" x=\"128\" y=\"150.1387\">«part»</text><text fill=\"#000000\" font-family=\"sans-serif\" font-size=\"12\" lengthAdjust=\"spacingAndGlyphs\" textLength=\"8\" x=\"144\" y=\"164.1074\">p</text><line style=\"stroke: #383838; stroke-width: 1.5;\" x1=\"128\" x2=\"168\" y1=\"171.9375\" y2=\"171.9375\"/></a><g id=\"E1.E5\"><a href=\"psysml:12bd5d36-0dbf-4715-90c3-b0b875efee55\" target=\"_top\" title=\"psysml:12bd5d36-0dbf-4715-90c3-b0b875efee55\" xlink:actuate=\"onRequest\" xlink:href=\"psysml:12bd5d36-0dbf-4715-90c3-b0b875efee55\" xlink:show=\"new\" xlink:title=\"psysml:12bd5d36-0dbf-4715-90c3-b0b875efee55\" xlink:type=\"simple\"><rect fill=\"#FFFFFF\" height=\"42.9375\" id=\"E5\" rx=\"10\" ry=\"10\" style=\"stroke: #383838; stroke-width: 1.5;\" width=\"60\" x=\"32\" y=\"135.5\"/><rect fill=\"#F8F8F8\" height=\"37.9375\" rx=\"10\" ry=\"10\" style=\"stroke: #F8F8F8; stroke-width: 1.5;\" width=\"60\" x=\"32\" y=\"135.5\"/><rect fill=\"#F8F8F8\" height=\"10\" style=\"stroke: #F8F8F8; stroke-width: 1.5;\" width=\"60\" x=\"32\" y=\"163.4375\"/><rect fill=\"none\" height=\"42.9375\" id=\"E5\" rx=\"10\" ry=\"10\" style=\"stroke: #383838; stroke-width: 1.5;\" width=\"60\" x=\"32\" y=\"135.5\"/><text fill=\"#000000\" font-family=\"sans-serif\" font-size=\"12\" font-style=\"italic\" lengthAdjust=\"spacingAndGlyphs\" textLength=\"53\" x=\"35.5\" y=\"151.6387\">«action»</text><text fill=\"#000000\" font-family=\"sans-serif\" font-size=\"12\" lengthAdjust=\"spacingAndGlyphs\" textLength=\"20\" x=\"52\" y=\"165.6074\">act</text></a></g><ellipse cx=\"558\" cy=\"157\" fill=\"#000000\" rx=\"10\" ry=\"10\" style=\"stroke: none; stroke-width: 1.0;\"/><ellipse cx=\"558\" cy=\"508\" fill=\"none\" rx=\"10\" ry=\"10\" style=\"stroke: #000000; stroke-width: 1.0;\"/><ellipse cx=\"558.5\" cy=\"508.5\" fill=\"#000000\" rx=\"6\" ry=\"6\" style=\"stroke: none; stroke-width: 1.0;\"/><g id=\"E1.E6.E7\"><a href=\"psysml:1cabaaec-9539-448a-9df0-432fc817479b\" target=\"_top\" title=\"psysml:1cabaaec-9539-448a-9df0-432fc817479b\" xlink:actuate=\"onRequest\" xlink:href=\"psysml:1cabaaec-9539-448a-9df0-432fc817479b\" xlink:show=\"new\" xlink:title=\"psysml:1cabaaec-9539-448a-9df0-432fc817479b\" xlink:type=\"simple\"><rect fill=\"#FFFFFF\" height=\"40\" id=\"E7\" rx=\"10\" ry=\"10\" style=\"stroke: #383838; stroke-width: 1.5;\" width=\"50\" x=\"533\" y=\"256\"/><rect fill=\"#F8F8F8\" height=\"23.9688\" rx=\"10\" ry=\"10\" style=\"stroke: #F8F8F8; stroke-width: 1.5;\" width=\"50\" x=\"533\" y=\"256\"/><rect fill=\"#F8F8F8\" height=\"10\" style=\"stroke: #F8F8F8; stroke-width: 1.5;\" width=\"50\" x=\"533\" y=\"269.9688\"/><rect fill=\"none\" height=\"40\" id=\"E7\" rx=\"10\" ry=\"10\" style=\"stroke: #383838; stroke-width: 1.5;\" width=\"50\" x=\"533\" y=\"256\"/><text fill=\"#000000\" font-family=\"sans-serif\" font-size=\"12\" lengthAdjust=\"spacingAndGlyphs\" textLength=\"16\" x=\"550\" y=\"272.1387\">S1</text></a></g><g id=\"E1.E6.E8\"><a href=\"psysml:7a7b17a9-f595-41dc-990f-a07a1c17ba3c\" target=\"_top\" title=\"psysml:7a7b17a9-f595-41dc-990f-a07a1c17ba3c\" xlink:actuate=\"onRequest\" xlink:href=\"psysml:7a7b17a9-f595-41dc-990f-a07a1c17ba3c\" xlink:show=\"new\" xlink:title=\"psysml:7a7b17a9-f595-41dc-990f-a07a1c17ba3c\" xlink:type=\"simple\"><rect fill=\"#FFFFFF\" height=\"47.9375\" id=\"E8\" rx=\"10\" ry=\"10\" style=\"stroke: #383838; stroke-width: 1.5;\" width=\"50\" x=\"533\" y=\"373\"/><rect fill=\"#F8F8F8\" height=\"23.9688\" rx=\"10\" ry=\"10\" style=\"stroke: #F8F8F8; stroke-width: 1.5;\" width=\"50\" x=\"533\" y=\"373\"/><rect fill=\"#F8F8F8\" height=\"10\" style=\"stroke: #F8F8F8; stroke-width: 1.5;\" width=\"50\" x=\"533\" y=\"386.9688\"/><rect fill=\"none\" height=\"47.9375\" id=\"E8\" rx=\"10\" ry=\"10\" style=\"stroke: #383838; stroke-width: 1.5;\" width=\"50\" x=\"533\" y=\"373\"/><text fill=\"#000000\" font-family=\"sans-serif\" font-size=\"12\" lengthAdjust=\"spacingAndGlyphs\" textLength=\"16\" x=\"550\" y=\"389.1387\">S2</text><line style=\"stroke: #383838; stroke-width: 1.0;\" x1=\"533\" x2=\"583\" y1=\"396.9688\" y2=\"396.9688\"/><text fill=\"#000000\" font-family=\"sans-serif\" font-size=\"12\" font-weight=\"bold\" lengthAdjust=\"spacingAndGlyphs\" textLength=\"18\" x=\"538\" y=\"410.1074\">do</text><text fill=\"#000000\" font-family=\"sans-serif\" font-size=\"12\" lengthAdjust=\"spacingAndGlyphs\" textLength=\"4\" x=\"556\" y=\"410.1074\">/</text></a></g><!--MD5=[5a531d3a85f3339e6e197084acb48195]\n",
       "link *start*E6 to E7--><a href=\"psysml:0b737fa2-1baa-4df5-913b-a090a33456a1\" target=\"_top\" title=\"psysml:0b737fa2-1baa-4df5-913b-a090a33456a1\" xlink:actuate=\"onRequest\" xlink:href=\"psysml:0b737fa2-1baa-4df5-913b-a090a33456a1\" xlink:show=\"new\" xlink:title=\"psysml:0b737fa2-1baa-4df5-913b-a090a33456a1\" xlink:type=\"simple\"><path d=\"M558,167.18 C558,184.98 558,224.73 558,250.67 \" fill=\"none\" id=\"*start*E6-&gt;E7\" style=\"stroke: #383838; stroke-width: 1.0;\"/><polygon fill=\"#383838\" points=\"558,255.98,562,246.98,558,250.98,554,246.98,558,255.98\" style=\"stroke: #383838; stroke-width: 1.0;\"/></a><!--MD5=[7ec9a8babba89ddcae1318ca9fb3c814]\n",
       "link E8 to *end*E6--><a href=\"psysml:a8c9411f-d651-41a0-86c1-118f6cba8c1d\" target=\"_top\" title=\"psysml:a8c9411f-d651-41a0-86c1-118f6cba8c1d\" xlink:actuate=\"onRequest\" xlink:href=\"psysml:a8c9411f-d651-41a0-86c1-118f6cba8c1d\" xlink:show=\"new\" xlink:title=\"psysml:a8c9411f-d651-41a0-86c1-118f6cba8c1d\" xlink:type=\"simple\"><path d=\"M558,421.12 C558,442.75 558,474.39 558,492.62 \" fill=\"none\" id=\"E8-&gt;*end*E6\" style=\"stroke: #383838; stroke-width: 1.0;\"/><polygon fill=\"#383838\" points=\"558,497.82,562,488.82,558,492.82,554,488.82,558,497.82\" style=\"stroke: #383838; stroke-width: 1.0;\"/><text fill=\"#000000\" font-family=\"sans-serif\" font-size=\"13\" lengthAdjust=\"spacingAndGlyphs\" textLength=\"23\" x=\"559\" y=\"464.0669\">Exit</text></a><!--MD5=[79bc8f324ef4d02c541433f2e6e513c3]\n",
       "link E7 to E8--><a href=\"psysml:eefcc534-c981-4425-9bf3-38251bd12a49\" target=\"_top\" title=\"psysml:eefcc534-c981-4425-9bf3-38251bd12a49\" xlink:actuate=\"onRequest\" xlink:href=\"psysml:eefcc534-c981-4425-9bf3-38251bd12a49\" xlink:show=\"new\" xlink:title=\"psysml:eefcc534-c981-4425-9bf3-38251bd12a49\" xlink:type=\"simple\"><path d=\"M532.93,288.88 C518.69,297.12 502.12,309.56 494,326 C483.11,348.05 506.72,368.2 528.27,381.16 \" fill=\"none\" id=\"E7-&gt;E8\" style=\"stroke: #383838; stroke-width: 1.0;\"/><polygon fill=\"#383838\" points=\"532.83,383.82,527.0682,375.8324,528.5101,381.3024,523.0401,382.7443,532.83,383.82\" style=\"stroke: #383838; stroke-width: 1.0;\"/><text fill=\"#000000\" font-family=\"sans-serif\" font-size=\"13\" lengthAdjust=\"spacingAndGlyphs\" textLength=\"81\" x=\"495\" y=\"339.0669\">Sig /action D</text></a><!--MD5=[bfa3c8b0d15052fdf50ae9310b491027]\n",
       "link E8 to E7--><a href=\"psysml:bcd703ca-2055-4c24-98bc-6c579eb31483\" target=\"_top\" title=\"psysml:bcd703ca-2055-4c24-98bc-6c579eb31483\" xlink:actuate=\"onRequest\" xlink:href=\"psysml:bcd703ca-2055-4c24-98bc-6c579eb31483\" xlink:show=\"new\" xlink:title=\"psysml:bcd703ca-2055-4c24-98bc-6c579eb31483\" xlink:type=\"simple\"><path d=\"M572.17,372.99 C578.81,359.48 584.56,341.98 581,326 C579.1,317.49 575.56,308.72 571.82,300.99 \" fill=\"none\" id=\"E8-&gt;E7\" style=\"stroke: #383838; stroke-width: 1.0;\"/><polygon fill=\"#383838\" points=\"569.47,296.32,569.9298,306.1581,571.7118,300.7893,577.0806,302.5713,569.47,296.32\" style=\"stroke: #383838; stroke-width: 1.0;\"/><text fill=\"#000000\" font-family=\"sans-serif\" font-size=\"13\" lengthAdjust=\"spacingAndGlyphs\" textLength=\"135\" x=\"583\" y=\"339.0669\">Sig [true]/send s to p</text></a><!--MD5=[40178a11304d60900feede34884d2f50]\n",
       "@startuml\r\n",
       "skinparam monochrome true\r\n",
       "skinparam classbackgroundcolor white\r\n",
       "skinparam shadowing false\r\n",
       "skinparam wrapWidth 300\r\n",
       "hide circle\r\n",
       "\r\n",
       "package \"StateTest\" as E1  [[psysml:a2ca8720-bd4b-4556-9b27-091331149f1f ]]  {\r\n",
       "comp def \"Sig\" as E2  <<(T,blue)attribute def>> [[psysml:9b0c6b07-76e0-48e6-88f4-e6a2c752e8e3 ]] {\r\n",
       "- - attributes - -\r\n",
       "x\r\n",
       "}\r\n",
       "comp def \"Exit\" as E3  <<(T,blue)attribute def>> [[psysml:75ee6cec-68f4-495e-910b-3cf4854ee540 ]] {\r\n",
       "}\r\n",
       "comp usage \"p\" as E4  <<(T,blue)part>> [[psysml:d526add9-9153-4d94-82de-e3d10cc7d584 ]] {\r\n",
       "}\r\n",
       "rec usage \"act\" as E5  <<(T,blue)action>> [[psysml:12bd5d36-0dbf-4715-90c3-b0b875efee55 ]] {\r\n",
       "}\r\n",
       "\r\n",
       "rec def \"S\" as E6  <<(T,blue)state def>> [[psysml:b6aa9f25-72f8-4c2c-a7be-6589070e9bf6 ]] {\r\n",
       "rec usage \"S1\" as E7 [[psysml:1cabaaec-9539-448a-9df0-432fc817479b ]] {\r\n",
       "}\r\n",
       "\r\n",
       "rec usage \"S2\" as E8 [[psysml:7a7b17a9-f595-41dc-990f-a07a1c17ba3c ]] {\r\n",
       "desc \"S2\" as E8  : **do**/ \r\n",
       "}\r\n",
       "\r\n",
       "[*] - -> E7 [[psysml:0b737fa2-1baa-4df5-913b-a090a33456a1 ]] \r\n",
       "E8  - -> [*] [[psysml:a8c9411f-d651-41a0-86c1-118f6cba8c1d ]] : Exit \r\n",
       "desc \"S\" as E6  : **entry**/ A\r\n",
       "desc \"S\" as E6  : **do**/ B\r\n",
       "desc \"S\" as E6  : **exit**/ act \r\n",
       "}\r\n",
       "\r\n",
       "E7  - -> E8 [[psysml:eefcc534-c981-4425-9bf3-38251bd12a49 ]] : Sig /action D\r\n",
       "E8  - -> E7 [[psysml:bcd703ca-2055-4c24-98bc-6c579eb31483 ]] : Sig [true]/send s to p\r\n",
       "}\r\n",
       "@enduml\r\n",
       "\n",
       "PlantUML version 1.2020.13(Sat Jun 13 12:26:38 UTC 2020)\n",
       "(EPL source distribution)\n",
       "Java Runtime: OpenJDK Runtime Environment\n",
       "JVM: OpenJDK 64-Bit Server VM\n",
       "Default Encoding: UTF-8\n",
       "Language: en\n",
       "Country: null\n",
       "--></g></svg>"
      ]
     },
     "execution_count": 43,
     "metadata": {},
     "output_type": "execute_result"
    }
   ],
   "source": [
    "%viz --style=\"DEFAULT\" --view=\"MIXED\" \"StateTest\""
   ]
  },
  {
   "cell_type": "code",
   "execution_count": 44,
   "id": "false-oasis",
   "metadata": {
    "execution": {
     "iopub.execute_input": "2021-03-25T15:07:03.773369Z",
     "iopub.status.busy": "2021-03-25T15:07:03.772182Z",
     "iopub.status.idle": "2021-03-25T15:07:04.008285Z",
     "shell.execute_reply": "2021-03-25T15:07:04.006017Z"
    }
   },
   "outputs": [
    {
     "data": {
      "image/svg+xml": [
       "<?xml version=\"1.0\" encoding=\"UTF-8\" standalone=\"no\"?><svg xmlns=\"http://www.w3.org/2000/svg\" xmlns:xlink=\"http://www.w3.org/1999/xlink\" contentScriptType=\"application/ecmascript\" contentStyleType=\"text/css\" height=\"570px\" preserveAspectRatio=\"none\" style=\"width:819px;height:570px;\" version=\"1.1\" viewBox=\"0 0 819 570\" width=\"819px\" zoomAndPan=\"magnify\"><defs/><g><!--MD5=[fbc87193dbaf4d95561dea2c320d4a47]\n",
       "cluster E1--><a href=\"psysml:a2ca8720-bd4b-4556-9b27-091331149f1f\" target=\"_top\" title=\"psysml:a2ca8720-bd4b-4556-9b27-091331149f1f\" xlink:actuate=\"onRequest\" xlink:href=\"psysml:a2ca8720-bd4b-4556-9b27-091331149f1f\" xlink:show=\"new\" xlink:title=\"psysml:a2ca8720-bd4b-4556-9b27-091331149f1f\" xlink:type=\"simple\"><polygon fill=\"#FFFFFF\" points=\"16,6,98,6,105,28.2969,797,28.2969,797,558,16,558,16,6\" style=\"stroke: #000000; stroke-width: 1.5;\"/><line style=\"stroke: #000000; stroke-width: 1.5;\" x1=\"16\" x2=\"105\" y1=\"28.2969\" y2=\"28.2969\"/><text fill=\"#000000\" font-family=\"sans-serif\" font-size=\"14\" font-weight=\"bold\" lengthAdjust=\"spacingAndGlyphs\" textLength=\"76\" x=\"20\" y=\"20.9951\">StateTest</text></a><!--MD5=[14e3b0961a2654348d326746436168a1]\n",
       "cluster E6--><a href=\"psysml:b6aa9f25-72f8-4c2c-a7be-6589070e9bf6\" target=\"_top\" title=\"psysml:b6aa9f25-72f8-4c2c-a7be-6589070e9bf6\" xlink:actuate=\"onRequest\" xlink:href=\"psysml:b6aa9f25-72f8-4c2c-a7be-6589070e9bf6\" xlink:show=\"new\" xlink:title=\"psysml:b6aa9f25-72f8-4c2c-a7be-6589070e9bf6\" xlink:type=\"simple\"><rect fill=\"#FFFFFF\" height=\"485\" id=\"E6\" style=\"stroke: #383838; stroke-width: 1.5;\" width=\"327\" x=\"446\" y=\"49\"/><rect fill=\"#F8F8F8\" height=\"37.9375\" style=\"stroke: #383838; stroke-width: 1.5;\" width=\"327\" x=\"446\" y=\"49\"/><text fill=\"#000000\" font-family=\"sans-serif\" font-size=\"12\" font-style=\"italic\" lengthAdjust=\"spacingAndGlyphs\" textLength=\"71\" x=\"574\" y=\"65.1387\">«state def»</text><text fill=\"#000000\" font-family=\"sans-serif\" font-size=\"12\" lengthAdjust=\"spacingAndGlyphs\" textLength=\"8\" x=\"605.5\" y=\"79.1074\">S</text><line style=\"stroke: #383838; stroke-width: 1.0;\" x1=\"446\" x2=\"773\" y1=\"132.8438\" y2=\"132.8438\"/><text fill=\"#000000\" font-family=\"sans-serif\" font-size=\"12\" font-weight=\"bold\" lengthAdjust=\"spacingAndGlyphs\" textLength=\"38\" x=\"451\" y=\"100.0762\">entry</text><text fill=\"#000000\" font-family=\"sans-serif\" font-size=\"12\" lengthAdjust=\"spacingAndGlyphs\" textLength=\"16\" x=\"489\" y=\"100.0762\">/ A</text><text fill=\"#000000\" font-family=\"sans-serif\" font-size=\"12\" font-weight=\"bold\" lengthAdjust=\"spacingAndGlyphs\" textLength=\"18\" x=\"451\" y=\"114.0449\">do</text><text fill=\"#000000\" font-family=\"sans-serif\" font-size=\"12\" lengthAdjust=\"spacingAndGlyphs\" textLength=\"16\" x=\"469\" y=\"114.0449\">/ B</text><text fill=\"#000000\" font-family=\"sans-serif\" font-size=\"12\" font-weight=\"bold\" lengthAdjust=\"spacingAndGlyphs\" textLength=\"26\" x=\"451\" y=\"128.0137\">exit</text><text fill=\"#000000\" font-family=\"sans-serif\" font-size=\"12\" lengthAdjust=\"spacingAndGlyphs\" textLength=\"28\" x=\"477\" y=\"128.0137\">/ act</text></a><!--MD5=[b4997ac47864f28c2f74865a473b2911]\n",
       "class E2--><a href=\"psysml:9b0c6b07-76e0-48e6-88f4-e6a2c752e8e3\" target=\"_top\" title=\"psysml:9b0c6b07-76e0-48e6-88f4-e6a2c752e8e3\" xlink:actuate=\"onRequest\" xlink:href=\"psysml:9b0c6b07-76e0-48e6-88f4-e6a2c752e8e3\" xlink:show=\"new\" xlink:title=\"psysml:9b0c6b07-76e0-48e6-88f4-e6a2c752e8e3\" xlink:type=\"simple\"><rect fill=\"#FFFFFF\" height=\"75.5469\" id=\"E2\" style=\"stroke: #383838; stroke-width: 1.5;\" width=\"95\" x=\"334.5\" y=\"119\"/><text fill=\"#000000\" font-family=\"sans-serif\" font-size=\"12\" font-style=\"italic\" lengthAdjust=\"spacingAndGlyphs\" textLength=\"93\" x=\"335.5\" y=\"135.1387\">«attribute def»</text><text fill=\"#000000\" font-family=\"sans-serif\" font-size=\"12\" lengthAdjust=\"spacingAndGlyphs\" textLength=\"19\" x=\"372.5\" y=\"149.1074\">Sig</text><line style=\"stroke: #383838; stroke-width: 1.5;\" x1=\"335.5\" x2=\"428.5\" y1=\"156.9375\" y2=\"156.9375\"/><text fill=\"#000000\" font-family=\"sans-serif\" font-size=\"11\" lengthAdjust=\"spacingAndGlyphs\" textLength=\"6\" x=\"340.5\" y=\"187.9526\">x</text><line style=\"stroke: #383838; stroke-width: 1.0;\" x1=\"335.5\" x2=\"354.5\" y1=\"171.3398\" y2=\"171.3398\"/><text fill=\"#000000\" font-family=\"sans-serif\" font-size=\"11\" lengthAdjust=\"spacingAndGlyphs\" textLength=\"55\" x=\"354.5\" y=\"174.6479\">attributes</text><line style=\"stroke: #383838; stroke-width: 1.0;\" x1=\"409.5\" x2=\"428.5\" y1=\"171.3398\" y2=\"171.3398\"/></a><!--MD5=[09b614a08d8cba4a07c9adeb5e0fee81]\n",
       "class E3--><a href=\"psysml:75ee6cec-68f4-495e-910b-3cf4854ee540\" target=\"_top\" title=\"psysml:75ee6cec-68f4-495e-910b-3cf4854ee540\" xlink:actuate=\"onRequest\" xlink:href=\"psysml:75ee6cec-68f4-495e-910b-3cf4854ee540\" xlink:show=\"new\" xlink:title=\"psysml:75ee6cec-68f4-495e-910b-3cf4854ee540\" xlink:type=\"simple\"><rect fill=\"#FFFFFF\" height=\"45.9375\" id=\"E3\" style=\"stroke: #383838; stroke-width: 1.5;\" width=\"95\" x=\"204.5\" y=\"134\"/><text fill=\"#000000\" font-family=\"sans-serif\" font-size=\"12\" font-style=\"italic\" lengthAdjust=\"spacingAndGlyphs\" textLength=\"93\" x=\"205.5\" y=\"150.1387\">«attribute def»</text><text fill=\"#000000\" font-family=\"sans-serif\" font-size=\"12\" lengthAdjust=\"spacingAndGlyphs\" textLength=\"22\" x=\"241\" y=\"164.1074\">Exit</text><line style=\"stroke: #383838; stroke-width: 1.5;\" x1=\"205.5\" x2=\"298.5\" y1=\"171.9375\" y2=\"171.9375\"/></a><!--MD5=[ebbe1d658d1005bcc118a6aa81145e00]\n",
       "class E4--><a href=\"psysml:d526add9-9153-4d94-82de-e3d10cc7d584\" target=\"_top\" title=\"psysml:d526add9-9153-4d94-82de-e3d10cc7d584\" xlink:actuate=\"onRequest\" xlink:href=\"psysml:d526add9-9153-4d94-82de-e3d10cc7d584\" xlink:show=\"new\" xlink:title=\"psysml:d526add9-9153-4d94-82de-e3d10cc7d584\" xlink:type=\"simple\"><rect fill=\"#FFFFFF\" height=\"45.9375\" id=\"E4\" rx=\"10\" ry=\"10\" style=\"stroke: #383838; stroke-width: 1.5;\" width=\"42\" x=\"127\" y=\"134\"/><text fill=\"#000000\" font-family=\"sans-serif\" font-size=\"12\" font-style=\"italic\" lengthAdjust=\"spacingAndGlyphs\" textLength=\"40\" x=\"128\" y=\"150.1387\">«part»</text><text fill=\"#000000\" font-family=\"sans-serif\" font-size=\"12\" lengthAdjust=\"spacingAndGlyphs\" textLength=\"8\" x=\"144\" y=\"164.1074\">p</text><line style=\"stroke: #383838; stroke-width: 1.5;\" x1=\"128\" x2=\"168\" y1=\"171.9375\" y2=\"171.9375\"/></a><g id=\"E1.E5\"><a href=\"psysml:12bd5d36-0dbf-4715-90c3-b0b875efee55\" target=\"_top\" title=\"psysml:12bd5d36-0dbf-4715-90c3-b0b875efee55\" xlink:actuate=\"onRequest\" xlink:href=\"psysml:12bd5d36-0dbf-4715-90c3-b0b875efee55\" xlink:show=\"new\" xlink:title=\"psysml:12bd5d36-0dbf-4715-90c3-b0b875efee55\" xlink:type=\"simple\"><rect fill=\"#FFFFFF\" height=\"42.9375\" id=\"E5\" rx=\"10\" ry=\"10\" style=\"stroke: #383838; stroke-width: 1.5;\" width=\"60\" x=\"32\" y=\"135.5\"/><rect fill=\"#F8F8F8\" height=\"37.9375\" rx=\"10\" ry=\"10\" style=\"stroke: #F8F8F8; stroke-width: 1.5;\" width=\"60\" x=\"32\" y=\"135.5\"/><rect fill=\"#F8F8F8\" height=\"10\" style=\"stroke: #F8F8F8; stroke-width: 1.5;\" width=\"60\" x=\"32\" y=\"163.4375\"/><rect fill=\"none\" height=\"42.9375\" id=\"E5\" rx=\"10\" ry=\"10\" style=\"stroke: #383838; stroke-width: 1.5;\" width=\"60\" x=\"32\" y=\"135.5\"/><text fill=\"#000000\" font-family=\"sans-serif\" font-size=\"12\" font-style=\"italic\" lengthAdjust=\"spacingAndGlyphs\" textLength=\"53\" x=\"35.5\" y=\"151.6387\">«action»</text><text fill=\"#000000\" font-family=\"sans-serif\" font-size=\"12\" lengthAdjust=\"spacingAndGlyphs\" textLength=\"20\" x=\"52\" y=\"165.6074\">act</text></a></g><ellipse cx=\"558\" cy=\"157\" fill=\"#000000\" rx=\"10\" ry=\"10\" style=\"stroke: none; stroke-width: 1.0;\"/><ellipse cx=\"558\" cy=\"508\" fill=\"none\" rx=\"10\" ry=\"10\" style=\"stroke: #000000; stroke-width: 1.0;\"/><ellipse cx=\"558.5\" cy=\"508.5\" fill=\"#000000\" rx=\"6\" ry=\"6\" style=\"stroke: none; stroke-width: 1.0;\"/><g id=\"E1.E6.E7\"><a href=\"psysml:1cabaaec-9539-448a-9df0-432fc817479b\" target=\"_top\" title=\"psysml:1cabaaec-9539-448a-9df0-432fc817479b\" xlink:actuate=\"onRequest\" xlink:href=\"psysml:1cabaaec-9539-448a-9df0-432fc817479b\" xlink:show=\"new\" xlink:title=\"psysml:1cabaaec-9539-448a-9df0-432fc817479b\" xlink:type=\"simple\"><rect fill=\"#FFFFFF\" height=\"40\" id=\"E7\" rx=\"10\" ry=\"10\" style=\"stroke: #383838; stroke-width: 1.5;\" width=\"50\" x=\"533\" y=\"256\"/><rect fill=\"#F8F8F8\" height=\"23.9688\" rx=\"10\" ry=\"10\" style=\"stroke: #F8F8F8; stroke-width: 1.5;\" width=\"50\" x=\"533\" y=\"256\"/><rect fill=\"#F8F8F8\" height=\"10\" style=\"stroke: #F8F8F8; stroke-width: 1.5;\" width=\"50\" x=\"533\" y=\"269.9688\"/><rect fill=\"none\" height=\"40\" id=\"E7\" rx=\"10\" ry=\"10\" style=\"stroke: #383838; stroke-width: 1.5;\" width=\"50\" x=\"533\" y=\"256\"/><text fill=\"#000000\" font-family=\"sans-serif\" font-size=\"12\" lengthAdjust=\"spacingAndGlyphs\" textLength=\"16\" x=\"550\" y=\"272.1387\">S1</text></a></g><g id=\"E1.E6.E8\"><a href=\"psysml:7a7b17a9-f595-41dc-990f-a07a1c17ba3c\" target=\"_top\" title=\"psysml:7a7b17a9-f595-41dc-990f-a07a1c17ba3c\" xlink:actuate=\"onRequest\" xlink:href=\"psysml:7a7b17a9-f595-41dc-990f-a07a1c17ba3c\" xlink:show=\"new\" xlink:title=\"psysml:7a7b17a9-f595-41dc-990f-a07a1c17ba3c\" xlink:type=\"simple\"><rect fill=\"#FFFFFF\" height=\"47.9375\" id=\"E8\" rx=\"10\" ry=\"10\" style=\"stroke: #383838; stroke-width: 1.5;\" width=\"50\" x=\"533\" y=\"373\"/><rect fill=\"#F8F8F8\" height=\"23.9688\" rx=\"10\" ry=\"10\" style=\"stroke: #F8F8F8; stroke-width: 1.5;\" width=\"50\" x=\"533\" y=\"373\"/><rect fill=\"#F8F8F8\" height=\"10\" style=\"stroke: #F8F8F8; stroke-width: 1.5;\" width=\"50\" x=\"533\" y=\"386.9688\"/><rect fill=\"none\" height=\"47.9375\" id=\"E8\" rx=\"10\" ry=\"10\" style=\"stroke: #383838; stroke-width: 1.5;\" width=\"50\" x=\"533\" y=\"373\"/><text fill=\"#000000\" font-family=\"sans-serif\" font-size=\"12\" lengthAdjust=\"spacingAndGlyphs\" textLength=\"16\" x=\"550\" y=\"389.1387\">S2</text><line style=\"stroke: #383838; stroke-width: 1.0;\" x1=\"533\" x2=\"583\" y1=\"396.9688\" y2=\"396.9688\"/><text fill=\"#000000\" font-family=\"sans-serif\" font-size=\"12\" font-weight=\"bold\" lengthAdjust=\"spacingAndGlyphs\" textLength=\"18\" x=\"538\" y=\"410.1074\">do</text><text fill=\"#000000\" font-family=\"sans-serif\" font-size=\"12\" lengthAdjust=\"spacingAndGlyphs\" textLength=\"4\" x=\"556\" y=\"410.1074\">/</text></a></g><!--MD5=[5a531d3a85f3339e6e197084acb48195]\n",
       "link *start*E6 to E7--><a href=\"psysml:0b737fa2-1baa-4df5-913b-a090a33456a1\" target=\"_top\" title=\"psysml:0b737fa2-1baa-4df5-913b-a090a33456a1\" xlink:actuate=\"onRequest\" xlink:href=\"psysml:0b737fa2-1baa-4df5-913b-a090a33456a1\" xlink:show=\"new\" xlink:title=\"psysml:0b737fa2-1baa-4df5-913b-a090a33456a1\" xlink:type=\"simple\"><path d=\"M558,167.18 C558,184.98 558,224.73 558,250.67 \" fill=\"none\" id=\"*start*E6-&gt;E7\" style=\"stroke: #383838; stroke-width: 1.0;\"/><polygon fill=\"#383838\" points=\"558,255.98,562,246.98,558,250.98,554,246.98,558,255.98\" style=\"stroke: #383838; stroke-width: 1.0;\"/></a><!--MD5=[7ec9a8babba89ddcae1318ca9fb3c814]\n",
       "link E8 to *end*E6--><a href=\"psysml:a8c9411f-d651-41a0-86c1-118f6cba8c1d\" target=\"_top\" title=\"psysml:a8c9411f-d651-41a0-86c1-118f6cba8c1d\" xlink:actuate=\"onRequest\" xlink:href=\"psysml:a8c9411f-d651-41a0-86c1-118f6cba8c1d\" xlink:show=\"new\" xlink:title=\"psysml:a8c9411f-d651-41a0-86c1-118f6cba8c1d\" xlink:type=\"simple\"><path d=\"M558,421.12 C558,442.75 558,474.39 558,492.62 \" fill=\"none\" id=\"E8-&gt;*end*E6\" style=\"stroke: #383838; stroke-width: 1.0;\"/><polygon fill=\"#383838\" points=\"558,497.82,562,488.82,558,492.82,554,488.82,558,497.82\" style=\"stroke: #383838; stroke-width: 1.0;\"/><text fill=\"#000000\" font-family=\"sans-serif\" font-size=\"13\" lengthAdjust=\"spacingAndGlyphs\" textLength=\"23\" x=\"559\" y=\"464.0669\">Exit</text></a><!--MD5=[79bc8f324ef4d02c541433f2e6e513c3]\n",
       "link E7 to E8--><a href=\"psysml:eefcc534-c981-4425-9bf3-38251bd12a49\" target=\"_top\" title=\"psysml:eefcc534-c981-4425-9bf3-38251bd12a49\" xlink:actuate=\"onRequest\" xlink:href=\"psysml:eefcc534-c981-4425-9bf3-38251bd12a49\" xlink:show=\"new\" xlink:title=\"psysml:eefcc534-c981-4425-9bf3-38251bd12a49\" xlink:type=\"simple\"><path d=\"M532.93,288.88 C518.69,297.12 502.12,309.56 494,326 C483.11,348.05 506.72,368.2 528.27,381.16 \" fill=\"none\" id=\"E7-&gt;E8\" style=\"stroke: #383838; stroke-width: 1.0;\"/><polygon fill=\"#383838\" points=\"532.83,383.82,527.0682,375.8324,528.5101,381.3024,523.0401,382.7443,532.83,383.82\" style=\"stroke: #383838; stroke-width: 1.0;\"/><text fill=\"#000000\" font-family=\"sans-serif\" font-size=\"13\" lengthAdjust=\"spacingAndGlyphs\" textLength=\"81\" x=\"495\" y=\"339.0669\">Sig /action D</text></a><!--MD5=[bfa3c8b0d15052fdf50ae9310b491027]\n",
       "link E8 to E7--><a href=\"psysml:bcd703ca-2055-4c24-98bc-6c579eb31483\" target=\"_top\" title=\"psysml:bcd703ca-2055-4c24-98bc-6c579eb31483\" xlink:actuate=\"onRequest\" xlink:href=\"psysml:bcd703ca-2055-4c24-98bc-6c579eb31483\" xlink:show=\"new\" xlink:title=\"psysml:bcd703ca-2055-4c24-98bc-6c579eb31483\" xlink:type=\"simple\"><path d=\"M572.17,372.99 C578.81,359.48 584.56,341.98 581,326 C579.1,317.49 575.56,308.72 571.82,300.99 \" fill=\"none\" id=\"E8-&gt;E7\" style=\"stroke: #383838; stroke-width: 1.0;\"/><polygon fill=\"#383838\" points=\"569.47,296.32,569.9298,306.1581,571.7118,300.7893,577.0806,302.5713,569.47,296.32\" style=\"stroke: #383838; stroke-width: 1.0;\"/><text fill=\"#000000\" font-family=\"sans-serif\" font-size=\"13\" lengthAdjust=\"spacingAndGlyphs\" textLength=\"135\" x=\"583\" y=\"339.0669\">Sig [true]/send s to p</text></a><!--MD5=[d4dbf99a8fe4ee68874f6c23c3cb4f89]\n",
       "@startuml\r\n",
       "top to bottom direction\r\n",
       "skinparam monochrome true\r\n",
       "skinparam classbackgroundcolor white\r\n",
       "skinparam shadowing false\r\n",
       "skinparam wrapWidth 300\r\n",
       "hide circle\r\n",
       "\r\n",
       "package \"StateTest\" as E1  [[psysml:a2ca8720-bd4b-4556-9b27-091331149f1f ]]  {\r\n",
       "comp def \"Sig\" as E2  <<(T,blue)attribute def>> [[psysml:9b0c6b07-76e0-48e6-88f4-e6a2c752e8e3 ]] {\r\n",
       "- - attributes - -\r\n",
       "x\r\n",
       "}\r\n",
       "comp def \"Exit\" as E3  <<(T,blue)attribute def>> [[psysml:75ee6cec-68f4-495e-910b-3cf4854ee540 ]] {\r\n",
       "}\r\n",
       "comp usage \"p\" as E4  <<(T,blue)part>> [[psysml:d526add9-9153-4d94-82de-e3d10cc7d584 ]] {\r\n",
       "}\r\n",
       "rec usage \"act\" as E5  <<(T,blue)action>> [[psysml:12bd5d36-0dbf-4715-90c3-b0b875efee55 ]] {\r\n",
       "}\r\n",
       "\r\n",
       "rec def \"S\" as E6  <<(T,blue)state def>> [[psysml:b6aa9f25-72f8-4c2c-a7be-6589070e9bf6 ]] {\r\n",
       "rec usage \"S1\" as E7 [[psysml:1cabaaec-9539-448a-9df0-432fc817479b ]] {\r\n",
       "}\r\n",
       "\r\n",
       "rec usage \"S2\" as E8 [[psysml:7a7b17a9-f595-41dc-990f-a07a1c17ba3c ]] {\r\n",
       "desc \"S2\" as E8  : **do**/ \r\n",
       "}\r\n",
       "\r\n",
       "[*] - -> E7 [[psysml:0b737fa2-1baa-4df5-913b-a090a33456a1 ]] \r\n",
       "E8  - -> [*] [[psysml:a8c9411f-d651-41a0-86c1-118f6cba8c1d ]] : Exit \r\n",
       "desc \"S\" as E6  : **entry**/ A\r\n",
       "desc \"S\" as E6  : **do**/ B\r\n",
       "desc \"S\" as E6  : **exit**/ act \r\n",
       "}\r\n",
       "\r\n",
       "E7  - -> E8 [[psysml:eefcc534-c981-4425-9bf3-38251bd12a49 ]] : Sig /action D\r\n",
       "E8  - -> E7 [[psysml:bcd703ca-2055-4c24-98bc-6c579eb31483 ]] : Sig [true]/send s to p\r\n",
       "}\r\n",
       "@enduml\r\n",
       "\n",
       "PlantUML version 1.2020.13(Sat Jun 13 12:26:38 UTC 2020)\n",
       "(EPL source distribution)\n",
       "Java Runtime: OpenJDK Runtime Environment\n",
       "JVM: OpenJDK 64-Bit Server VM\n",
       "Default Encoding: UTF-8\n",
       "Language: en\n",
       "Country: null\n",
       "--></g></svg>"
      ]
     },
     "execution_count": 44,
     "metadata": {},
     "output_type": "execute_result"
    }
   ],
   "source": [
    "%viz --style=\"TB\" --view=\"Default\" \"StateTest\""
   ]
  },
  {
   "cell_type": "code",
   "execution_count": 45,
   "id": "accomplished-vehicle",
   "metadata": {
    "execution": {
     "iopub.execute_input": "2021-03-25T15:07:04.058437Z",
     "iopub.status.busy": "2021-03-25T15:07:04.057590Z",
     "iopub.status.idle": "2021-03-25T15:07:04.582258Z",
     "shell.execute_reply": "2021-03-25T15:07:04.583039Z"
    }
   },
   "outputs": [
    {
     "data": {
      "image/svg+xml": [
       "<?xml version=\"1.0\" encoding=\"UTF-8\" standalone=\"no\"?><svg xmlns=\"http://www.w3.org/2000/svg\" xmlns:xlink=\"http://www.w3.org/1999/xlink\" contentScriptType=\"application/ecmascript\" contentStyleType=\"text/css\" height=\"471px\" preserveAspectRatio=\"none\" style=\"width:594px;height:471px;\" version=\"1.1\" viewBox=\"0 0 594 471\" width=\"594px\" zoomAndPan=\"magnify\"><defs/><g><!--MD5=[fbc87193dbaf4d95561dea2c320d4a47]\n",
       "cluster E1--><a href=\"psysml:a2ca8720-bd4b-4556-9b27-091331149f1f\" target=\"_top\" title=\"psysml:a2ca8720-bd4b-4556-9b27-091331149f1f\" xlink:actuate=\"onRequest\" xlink:href=\"psysml:a2ca8720-bd4b-4556-9b27-091331149f1f\" xlink:show=\"new\" xlink:title=\"psysml:a2ca8720-bd4b-4556-9b27-091331149f1f\" xlink:type=\"simple\"><polygon fill=\"#FFFFFF\" points=\"16,6,98,6,105,28.2969,572,28.2969,572,459,16,459,16,6\" style=\"stroke: #000000; stroke-width: 1.5;\"/><line style=\"stroke: #000000; stroke-width: 1.5;\" x1=\"16\" x2=\"105\" y1=\"28.2969\" y2=\"28.2969\"/><text fill=\"#000000\" font-family=\"sans-serif\" font-size=\"14\" font-weight=\"bold\" lengthAdjust=\"spacingAndGlyphs\" textLength=\"76\" x=\"20\" y=\"20.9951\">StateTest</text></a><!--MD5=[b4997ac47864f28c2f74865a473b2911]\n",
       "class E2--><a href=\"psysml:9b0c6b07-76e0-48e6-88f4-e6a2c752e8e3\" target=\"_top\" title=\"psysml:9b0c6b07-76e0-48e6-88f4-e6a2c752e8e3\" xlink:actuate=\"onRequest\" xlink:href=\"psysml:9b0c6b07-76e0-48e6-88f4-e6a2c752e8e3\" xlink:show=\"new\" xlink:title=\"psysml:9b0c6b07-76e0-48e6-88f4-e6a2c752e8e3\" xlink:type=\"simple\"><rect fill=\"#FFFFFF\" height=\"75.5469\" id=\"E2\" style=\"stroke: #383838; stroke-width: 1.5;\" width=\"95\" x=\"460.5\" y=\"83\"/><text fill=\"#000000\" font-family=\"sans-serif\" font-size=\"12\" font-style=\"italic\" lengthAdjust=\"spacingAndGlyphs\" textLength=\"93\" x=\"461.5\" y=\"99.1387\">«attribute def»</text><text fill=\"#000000\" font-family=\"sans-serif\" font-size=\"12\" lengthAdjust=\"spacingAndGlyphs\" textLength=\"19\" x=\"498.5\" y=\"113.1074\">Sig</text><line style=\"stroke: #383838; stroke-width: 1.5;\" x1=\"461.5\" x2=\"554.5\" y1=\"120.9375\" y2=\"120.9375\"/><text fill=\"#000000\" font-family=\"sans-serif\" font-size=\"11\" lengthAdjust=\"spacingAndGlyphs\" textLength=\"6\" x=\"466.5\" y=\"151.9526\">x</text><line style=\"stroke: #383838; stroke-width: 1.0;\" x1=\"461.5\" x2=\"480.5\" y1=\"135.3398\" y2=\"135.3398\"/><text fill=\"#000000\" font-family=\"sans-serif\" font-size=\"11\" lengthAdjust=\"spacingAndGlyphs\" textLength=\"55\" x=\"480.5\" y=\"138.6479\">attributes</text><line style=\"stroke: #383838; stroke-width: 1.0;\" x1=\"535.5\" x2=\"554.5\" y1=\"135.3398\" y2=\"135.3398\"/></a><!--MD5=[09b614a08d8cba4a07c9adeb5e0fee81]\n",
       "class E3--><a href=\"psysml:75ee6cec-68f4-495e-910b-3cf4854ee540\" target=\"_top\" title=\"psysml:75ee6cec-68f4-495e-910b-3cf4854ee540\" xlink:actuate=\"onRequest\" xlink:href=\"psysml:75ee6cec-68f4-495e-910b-3cf4854ee540\" xlink:show=\"new\" xlink:title=\"psysml:75ee6cec-68f4-495e-910b-3cf4854ee540\" xlink:type=\"simple\"><rect fill=\"#FFFFFF\" height=\"45.9375\" id=\"E3\" style=\"stroke: #383838; stroke-width: 1.5;\" width=\"95\" x=\"330.5\" y=\"98\"/><text fill=\"#000000\" font-family=\"sans-serif\" font-size=\"12\" font-style=\"italic\" lengthAdjust=\"spacingAndGlyphs\" textLength=\"93\" x=\"331.5\" y=\"114.1387\">«attribute def»</text><text fill=\"#000000\" font-family=\"sans-serif\" font-size=\"12\" lengthAdjust=\"spacingAndGlyphs\" textLength=\"22\" x=\"367\" y=\"128.1074\">Exit</text><line style=\"stroke: #383838; stroke-width: 1.5;\" x1=\"331.5\" x2=\"424.5\" y1=\"135.9375\" y2=\"135.9375\"/></a><!--MD5=[ebbe1d658d1005bcc118a6aa81145e00]\n",
       "class E4--><a href=\"psysml:d526add9-9153-4d94-82de-e3d10cc7d584\" target=\"_top\" title=\"psysml:d526add9-9153-4d94-82de-e3d10cc7d584\" xlink:actuate=\"onRequest\" xlink:href=\"psysml:d526add9-9153-4d94-82de-e3d10cc7d584\" xlink:show=\"new\" xlink:title=\"psysml:d526add9-9153-4d94-82de-e3d10cc7d584\" xlink:type=\"simple\"><rect fill=\"#FFFFFF\" height=\"45.9375\" id=\"E4\" rx=\"10\" ry=\"10\" style=\"stroke: #383838; stroke-width: 1.5;\" width=\"42\" x=\"253\" y=\"98\"/><text fill=\"#000000\" font-family=\"sans-serif\" font-size=\"12\" font-style=\"italic\" lengthAdjust=\"spacingAndGlyphs\" textLength=\"40\" x=\"254\" y=\"114.1387\">«part»</text><text fill=\"#000000\" font-family=\"sans-serif\" font-size=\"12\" lengthAdjust=\"spacingAndGlyphs\" textLength=\"8\" x=\"270\" y=\"128.1074\">p</text><line style=\"stroke: #383838; stroke-width: 1.5;\" x1=\"254\" x2=\"294\" y1=\"135.9375\" y2=\"135.9375\"/></a><!--MD5=[270fce915f116d4de14055a7c1d9a0f3]\n",
       "class E5--><a href=\"psysml:12bd5d36-0dbf-4715-90c3-b0b875efee55\" target=\"_top\" title=\"psysml:12bd5d36-0dbf-4715-90c3-b0b875efee55\" xlink:actuate=\"onRequest\" xlink:href=\"psysml:12bd5d36-0dbf-4715-90c3-b0b875efee55\" xlink:show=\"new\" xlink:title=\"psysml:12bd5d36-0dbf-4715-90c3-b0b875efee55\" xlink:type=\"simple\"><rect fill=\"#FFFFFF\" height=\"45.9375\" id=\"E5\" rx=\"10\" ry=\"10\" style=\"stroke: #383838; stroke-width: 1.5;\" width=\"55\" x=\"162.5\" y=\"98\"/><text fill=\"#000000\" font-family=\"sans-serif\" font-size=\"12\" font-style=\"italic\" lengthAdjust=\"spacingAndGlyphs\" textLength=\"53\" x=\"163.5\" y=\"114.1387\">«action»</text><text fill=\"#000000\" font-family=\"sans-serif\" font-size=\"12\" lengthAdjust=\"spacingAndGlyphs\" textLength=\"20\" x=\"180\" y=\"128.1074\">act</text><line style=\"stroke: #383838; stroke-width: 1.5;\" x1=\"163.5\" x2=\"216.5\" y1=\"135.9375\" y2=\"135.9375\"/></a><!--MD5=[60a26617385b1d2d0262a64233df1f8d]\n",
       "class E6--><a href=\"psysml:b6aa9f25-72f8-4c2c-a7be-6589070e9bf6\" target=\"_top\" title=\"psysml:b6aa9f25-72f8-4c2c-a7be-6589070e9bf6\" xlink:actuate=\"onRequest\" xlink:href=\"psysml:b6aa9f25-72f8-4c2c-a7be-6589070e9bf6\" xlink:show=\"new\" xlink:title=\"psysml:b6aa9f25-72f8-4c2c-a7be-6589070e9bf6\" xlink:type=\"simple\"><rect fill=\"#FFFFFF\" height=\"160.375\" id=\"E6\" style=\"stroke: #383838; stroke-width: 1.5;\" width=\"95\" x=\"32.5\" y=\"41\"/><text fill=\"#000000\" font-family=\"sans-serif\" font-size=\"12\" font-style=\"italic\" lengthAdjust=\"spacingAndGlyphs\" textLength=\"71\" x=\"44.5\" y=\"57.1387\">«state def»</text><text fill=\"#000000\" font-family=\"sans-serif\" font-size=\"12\" lengthAdjust=\"spacingAndGlyphs\" textLength=\"8\" x=\"76\" y=\"71.1074\">S</text><line style=\"stroke: #383838; stroke-width: 1.5;\" x1=\"33.5\" x2=\"126.5\" y1=\"78.9375\" y2=\"78.9375\"/><text fill=\"#000000\" font-family=\"sans-serif\" font-size=\"11\" lengthAdjust=\"spacingAndGlyphs\" textLength=\"17\" x=\"38.5\" y=\"109.9526\">act</text><text fill=\"#000000\" font-family=\"sans-serif\" font-size=\"11\" lengthAdjust=\"spacingAndGlyphs\" textLength=\"7\" x=\"38.5\" y=\"122.7573\">A</text><text fill=\"#000000\" font-family=\"sans-serif\" font-size=\"11\" lengthAdjust=\"spacingAndGlyphs\" textLength=\"8\" x=\"38.5\" y=\"135.562\">B</text><line style=\"stroke: #383838; stroke-width: 1.0;\" x1=\"33.5\" x2=\"36.5\" y1=\"93.3398\" y2=\"93.3398\"/><text fill=\"#000000\" font-family=\"sans-serif\" font-size=\"11\" lengthAdjust=\"spacingAndGlyphs\" textLength=\"87\" x=\"36.5\" y=\"96.6479\">performActions</text><line style=\"stroke: #383838; stroke-width: 1.0;\" x1=\"123.5\" x2=\"126.5\" y1=\"93.3398\" y2=\"93.3398\"/><text fill=\"#000000\" font-family=\"sans-serif\" font-size=\"11\" lengthAdjust=\"spacingAndGlyphs\" textLength=\"15\" x=\"38.5\" y=\"165.1714\">S1</text><line style=\"stroke: #383838; stroke-width: 1.0;\" x1=\"33.5\" x2=\"62\" y1=\"148.5586\" y2=\"148.5586\"/><text fill=\"#000000\" font-family=\"sans-serif\" font-size=\"11\" lengthAdjust=\"spacingAndGlyphs\" textLength=\"36\" x=\"62\" y=\"151.8667\">states</text><line style=\"stroke: #383838; stroke-width: 1.0;\" x1=\"98\" x2=\"126.5\" y1=\"148.5586\" y2=\"148.5586\"/><text fill=\"#000000\" font-family=\"sans-serif\" font-size=\"11\" lengthAdjust=\"spacingAndGlyphs\" textLength=\"7\" x=\"38.5\" y=\"194.7808\">T</text><line style=\"stroke: #383838; stroke-width: 1.0;\" x1=\"33.5\" x2=\"49.5\" y1=\"178.168\" y2=\"178.168\"/><text fill=\"#000000\" font-family=\"sans-serif\" font-size=\"11\" lengthAdjust=\"spacingAndGlyphs\" textLength=\"61\" x=\"49.5\" y=\"181.4761\">transitions</text><line style=\"stroke: #383838; stroke-width: 1.0;\" x1=\"110.5\" x2=\"126.5\" y1=\"178.168\" y2=\"178.168\"/></a><!--MD5=[1dd1bfd58a279cf63c5f349dbc8fc6a1]\n",
       "class E11--><a href=\"psysml:7a7b17a9-f595-41dc-990f-a07a1c17ba3c\" target=\"_top\" title=\"psysml:7a7b17a9-f595-41dc-990f-a07a1c17ba3c\" xlink:actuate=\"onRequest\" xlink:href=\"psysml:7a7b17a9-f595-41dc-990f-a07a1c17ba3c\" xlink:show=\"new\" xlink:title=\"psysml:7a7b17a9-f595-41dc-990f-a07a1c17ba3c\" xlink:type=\"simple\"><rect fill=\"#FFFFFF\" height=\"45.9375\" id=\"E11\" rx=\"10\" ry=\"10\" style=\"stroke: #383838; stroke-width: 1.5;\" width=\"49\" x=\"55.5\" y=\"261\"/><text fill=\"#000000\" font-family=\"sans-serif\" font-size=\"12\" font-style=\"italic\" lengthAdjust=\"spacingAndGlyphs\" textLength=\"47\" x=\"56.5\" y=\"277.1387\">«state»</text><text fill=\"#000000\" font-family=\"sans-serif\" font-size=\"12\" lengthAdjust=\"spacingAndGlyphs\" textLength=\"16\" x=\"72\" y=\"291.1074\">S2</text><line style=\"stroke: #383838; stroke-width: 1.5;\" x1=\"56.5\" x2=\"103.5\" y1=\"298.9375\" y2=\"298.9375\"/></a><!--MD5=[49a0ec8f00dab7302a31f22d0f0fe584]\n",
       "class E12--><a href=\"psysml:fce0e4a1-8edc-4c38-93d6-a3b5e3670b25\" target=\"_top\" title=\"psysml:fce0e4a1-8edc-4c38-93d6-a3b5e3670b25\" xlink:actuate=\"onRequest\" xlink:href=\"psysml:fce0e4a1-8edc-4c38-93d6-a3b5e3670b25\" xlink:show=\"new\" xlink:title=\"psysml:fce0e4a1-8edc-4c38-93d6-a3b5e3670b25\" xlink:type=\"simple\"><rect fill=\"#FFFFFF\" height=\"75.5469\" id=\"E12\" rx=\"10\" ry=\"10\" style=\"stroke: #383838; stroke-width: 1.5;\" width=\"90\" x=\"35\" y=\"367\"/><text fill=\"#000000\" font-family=\"sans-serif\" font-size=\"12\" font-style=\"italic\" lengthAdjust=\"spacingAndGlyphs\" textLength=\"88\" x=\"36\" y=\"383.1387\">«send action»</text><text fill=\"#000000\" font-family=\"sans-serif\" font-size=\"12\" lengthAdjust=\"spacingAndGlyphs\" textLength=\"55\" x=\"52.5\" y=\"397.1074\">doAction</text><line style=\"stroke: #383838; stroke-width: 1.5;\" x1=\"36\" x2=\"124\" y1=\"404.9375\" y2=\"404.9375\"/><text fill=\"#000000\" font-family=\"sans-serif\" font-size=\"11\" lengthAdjust=\"spacingAndGlyphs\" textLength=\"25\" x=\"41\" y=\"435.9526\">item</text><line style=\"stroke: #383838; stroke-width: 1.0;\" x1=\"36\" x2=\"42.5\" y1=\"419.3398\" y2=\"419.3398\"/><text fill=\"#000000\" font-family=\"sans-serif\" font-size=\"11\" lengthAdjust=\"spacingAndGlyphs\" textLength=\"75\" x=\"42.5\" y=\"422.6479\">itemFeatures</text><line style=\"stroke: #383838; stroke-width: 1.0;\" x1=\"117.5\" x2=\"124\" y1=\"419.3398\" y2=\"419.3398\"/></a><!--MD5=[1f5f03483f7de0d5b3680a7f6650997f]\n",
       "reverse link E6 to E11--><a href=\"psysml:7a7b17a9-f595-41dc-990f-a07a1c17ba3c\" target=\"_top\" title=\"psysml:7a7b17a9-f595-41dc-990f-a07a1c17ba3c\" xlink:actuate=\"onRequest\" xlink:href=\"psysml:7a7b17a9-f595-41dc-990f-a07a1c17ba3c\" xlink:show=\"new\" xlink:title=\"psysml:7a7b17a9-f595-41dc-990f-a07a1c17ba3c\" xlink:type=\"simple\"><path d=\"M80,214.17 C80,231.58 80,248.25 80,260.82 \" fill=\"none\" id=\"E6&lt;-E11\" style=\"stroke: #383838; stroke-width: 1.0;\"/><polygon fill=\"#383838\" points=\"80,201.09,76.0066,207.0944,80.0132,213.09,84.0066,207.0856,80,201.09\" style=\"stroke: #383838; stroke-width: 1.0;\"/></a><!--MD5=[94adabc162ce7e41b39f13be14fbaeb3]\n",
       "reverse link E11 to E12--><a href=\"psysml:fce0e4a1-8edc-4c38-93d6-a3b5e3670b25\" target=\"_top\" title=\"psysml:fce0e4a1-8edc-4c38-93d6-a3b5e3670b25\" xlink:actuate=\"onRequest\" xlink:href=\"psysml:fce0e4a1-8edc-4c38-93d6-a3b5e3670b25\" xlink:show=\"new\" xlink:title=\"psysml:fce0e4a1-8edc-4c38-93d6-a3b5e3670b25\" xlink:type=\"simple\"><path d=\"M80,320.23 C80,334.82 80,351.76 80,366.58 \" fill=\"none\" id=\"E11&lt;-E12\" style=\"stroke: #383838; stroke-width: 1.0;\"/><polygon fill=\"#FFFFFF\" points=\"80,307.1,76,313.1,80,319.1,84,313.1,80,307.1\" style=\"stroke: #383838; stroke-width: 1.0;\"/></a><!--MD5=[ef247b9e529c3dfabefa1e8bf4be4c25]\n",
       "@startuml\r\n",
       "top to bottom direction\r\n",
       "skinparam monochrome true\r\n",
       "skinparam classbackgroundcolor white\r\n",
       "skinparam shadowing false\r\n",
       "skinparam wrapWidth 300\r\n",
       "hide circle\r\n",
       "\r\n",
       "package \"StateTest\" as E1  [[psysml:a2ca8720-bd4b-4556-9b27-091331149f1f ]]  {\r\n",
       "comp def \"Sig\" as E2  <<(T,blue)attribute def>> [[psysml:9b0c6b07-76e0-48e6-88f4-e6a2c752e8e3 ]] {\r\n",
       "- - attributes - -\r\n",
       "x\r\n",
       "}\r\n",
       "comp def \"Exit\" as E3  <<(T,blue)attribute def>> [[psysml:75ee6cec-68f4-495e-910b-3cf4854ee540 ]] {\r\n",
       "}\r\n",
       "comp usage \"p\" as E4  <<(T,blue)part>> [[psysml:d526add9-9153-4d94-82de-e3d10cc7d584 ]] {\r\n",
       "}\r\n",
       "comp usage \"act\" as E5  <<(T,blue)action>> [[psysml:12bd5d36-0dbf-4715-90c3-b0b875efee55 ]] {\r\n",
       "}\r\n",
       "comp def \"S\" as E6  <<(T,blue)state def>> [[psysml:b6aa9f25-72f8-4c2c-a7be-6589070e9bf6 ]] {\r\n",
       "- - performActions - -\r\n",
       "act\r\n",
       "A\r\n",
       "B\r\n",
       "- - states - -\r\n",
       "S1\r\n",
       "- - transitions - -\r\n",
       "T\r\n",
       "}\r\n",
       "comp usage \"S2\" as E11  <<(T,blue)state>> [[psysml:7a7b17a9-f595-41dc-990f-a07a1c17ba3c ]] {\r\n",
       "}\r\n",
       "comp usage \"doAction\" as E12 <<send action>> [[psysml:fce0e4a1-8edc-4c38-93d6-a3b5e3670b25 ]] {\r\n",
       "- - itemFeatures - -\r\n",
       "item\r\n",
       "}\r\n",
       "E6 *- - E11 [[psysml:7a7b17a9-f595-41dc-990f-a07a1c17ba3c ]] \r\n",
       "E11 o- - E12 [[psysml:fce0e4a1-8edc-4c38-93d6-a3b5e3670b25 ]] \r\n",
       "}\r\n",
       "@enduml\r\n",
       "\n",
       "PlantUML version 1.2020.13(Sat Jun 13 12:26:38 UTC 2020)\n",
       "(EPL source distribution)\n",
       "Java Runtime: OpenJDK Runtime Environment\n",
       "JVM: OpenJDK 64-Bit Server VM\n",
       "Default Encoding: UTF-8\n",
       "Language: en\n",
       "Country: null\n",
       "--></g></svg>"
      ]
     },
     "execution_count": 45,
     "metadata": {},
     "output_type": "execute_result"
    }
   ],
   "source": [
    "%viz --style=\"TB\" --view=\"Tree\" \"StateTest\""
   ]
  },
  {
   "cell_type": "code",
   "execution_count": 46,
   "id": "noble-being",
   "metadata": {
    "execution": {
     "iopub.execute_input": "2021-03-25T15:07:04.632078Z",
     "iopub.status.busy": "2021-03-25T15:07:04.631528Z",
     "iopub.status.idle": "2021-03-25T15:07:04.746575Z",
     "shell.execute_reply": "2021-03-25T15:07:04.745057Z"
    }
   },
   "outputs": [
    {
     "data": {
      "image/svg+xml": [
       "<?xml version=\"1.0\" encoding=\"UTF-8\" standalone=\"no\"?><svg xmlns=\"http://www.w3.org/2000/svg\" xmlns:xlink=\"http://www.w3.org/1999/xlink\" contentScriptType=\"application/ecmascript\" contentStyleType=\"text/css\" height=\"475px\" preserveAspectRatio=\"none\" style=\"width:346px;height:475px;\" version=\"1.1\" viewBox=\"0 0 346 475\" width=\"346px\" zoomAndPan=\"magnify\"><defs/><g><!--MD5=[fbc87193dbaf4d95561dea2c320d4a47]\n",
       "cluster E1--><a href=\"psysml:b6aa9f25-72f8-4c2c-a7be-6589070e9bf6\" target=\"_top\" title=\"psysml:b6aa9f25-72f8-4c2c-a7be-6589070e9bf6\" xlink:actuate=\"onRequest\" xlink:href=\"psysml:b6aa9f25-72f8-4c2c-a7be-6589070e9bf6\" xlink:show=\"new\" xlink:title=\"psysml:b6aa9f25-72f8-4c2c-a7be-6589070e9bf6\" xlink:type=\"simple\"><rect fill=\"#FFFFFF\" height=\"457\" id=\"E1\" style=\"stroke: #383838; stroke-width: 1.5;\" width=\"327\" x=\"7\" y=\"7\"/><rect fill=\"#F8F8F8\" height=\"37.9375\" style=\"stroke: #383838; stroke-width: 1.5;\" width=\"327\" x=\"7\" y=\"7\"/><text fill=\"#000000\" font-family=\"sans-serif\" font-size=\"12\" font-style=\"italic\" lengthAdjust=\"spacingAndGlyphs\" textLength=\"71\" x=\"135\" y=\"23.1387\">«state def»</text><text fill=\"#000000\" font-family=\"sans-serif\" font-size=\"12\" lengthAdjust=\"spacingAndGlyphs\" textLength=\"8\" x=\"166.5\" y=\"37.1074\">S</text><line style=\"stroke: #383838; stroke-width: 1.0;\" x1=\"7\" x2=\"334\" y1=\"90.8438\" y2=\"90.8438\"/><text fill=\"#000000\" font-family=\"sans-serif\" font-size=\"12\" font-weight=\"bold\" lengthAdjust=\"spacingAndGlyphs\" textLength=\"38\" x=\"12\" y=\"58.0762\">entry</text><text fill=\"#000000\" font-family=\"sans-serif\" font-size=\"12\" lengthAdjust=\"spacingAndGlyphs\" textLength=\"16\" x=\"50\" y=\"58.0762\">/ A</text><text fill=\"#000000\" font-family=\"sans-serif\" font-size=\"12\" font-weight=\"bold\" lengthAdjust=\"spacingAndGlyphs\" textLength=\"18\" x=\"12\" y=\"72.0449\">do</text><text fill=\"#000000\" font-family=\"sans-serif\" font-size=\"12\" lengthAdjust=\"spacingAndGlyphs\" textLength=\"16\" x=\"30\" y=\"72.0449\">/ B</text><text fill=\"#000000\" font-family=\"sans-serif\" font-size=\"12\" font-weight=\"bold\" lengthAdjust=\"spacingAndGlyphs\" textLength=\"26\" x=\"12\" y=\"86.0137\">exit</text><text fill=\"#000000\" font-family=\"sans-serif\" font-size=\"12\" lengthAdjust=\"spacingAndGlyphs\" textLength=\"28\" x=\"38\" y=\"86.0137\">/ act</text></a><ellipse cx=\"119\" cy=\"115\" fill=\"#000000\" rx=\"10\" ry=\"10\" style=\"stroke: none; stroke-width: 1.0;\"/><ellipse cx=\"119\" cy=\"438\" fill=\"none\" rx=\"10\" ry=\"10\" style=\"stroke: #000000; stroke-width: 1.0;\"/><ellipse cx=\"119.5\" cy=\"438.5\" fill=\"#000000\" rx=\"6\" ry=\"6\" style=\"stroke: none; stroke-width: 1.0;\"/><g id=\"E1.E2\"><a href=\"psysml:1cabaaec-9539-448a-9df0-432fc817479b\" target=\"_top\" title=\"psysml:1cabaaec-9539-448a-9df0-432fc817479b\" xlink:actuate=\"onRequest\" xlink:href=\"psysml:1cabaaec-9539-448a-9df0-432fc817479b\" xlink:show=\"new\" xlink:title=\"psysml:1cabaaec-9539-448a-9df0-432fc817479b\" xlink:type=\"simple\"><rect fill=\"#FFFFFF\" height=\"40\" id=\"E2\" rx=\"10\" ry=\"10\" style=\"stroke: #383838; stroke-width: 1.5;\" width=\"50\" x=\"94\" y=\"186\"/><rect fill=\"#F8F8F8\" height=\"23.9688\" rx=\"10\" ry=\"10\" style=\"stroke: #F8F8F8; stroke-width: 1.5;\" width=\"50\" x=\"94\" y=\"186\"/><rect fill=\"#F8F8F8\" height=\"10\" style=\"stroke: #F8F8F8; stroke-width: 1.5;\" width=\"50\" x=\"94\" y=\"199.9688\"/><rect fill=\"none\" height=\"40\" id=\"E2\" rx=\"10\" ry=\"10\" style=\"stroke: #383838; stroke-width: 1.5;\" width=\"50\" x=\"94\" y=\"186\"/><text fill=\"#000000\" font-family=\"sans-serif\" font-size=\"12\" lengthAdjust=\"spacingAndGlyphs\" textLength=\"16\" x=\"111\" y=\"202.1387\">S1</text></a></g><g id=\"E1.E3\"><a href=\"psysml:7a7b17a9-f595-41dc-990f-a07a1c17ba3c\" target=\"_top\" title=\"psysml:7a7b17a9-f595-41dc-990f-a07a1c17ba3c\" xlink:actuate=\"onRequest\" xlink:href=\"psysml:7a7b17a9-f595-41dc-990f-a07a1c17ba3c\" xlink:show=\"new\" xlink:title=\"psysml:7a7b17a9-f595-41dc-990f-a07a1c17ba3c\" xlink:type=\"simple\"><rect fill=\"#FFFFFF\" height=\"47.9375\" id=\"E3\" rx=\"10\" ry=\"10\" style=\"stroke: #383838; stroke-width: 1.5;\" width=\"50\" x=\"94\" y=\"303\"/><rect fill=\"#F8F8F8\" height=\"23.9688\" rx=\"10\" ry=\"10\" style=\"stroke: #F8F8F8; stroke-width: 1.5;\" width=\"50\" x=\"94\" y=\"303\"/><rect fill=\"#F8F8F8\" height=\"10\" style=\"stroke: #F8F8F8; stroke-width: 1.5;\" width=\"50\" x=\"94\" y=\"316.9688\"/><rect fill=\"none\" height=\"47.9375\" id=\"E3\" rx=\"10\" ry=\"10\" style=\"stroke: #383838; stroke-width: 1.5;\" width=\"50\" x=\"94\" y=\"303\"/><text fill=\"#000000\" font-family=\"sans-serif\" font-size=\"12\" lengthAdjust=\"spacingAndGlyphs\" textLength=\"16\" x=\"111\" y=\"319.1387\">S2</text><line style=\"stroke: #383838; stroke-width: 1.0;\" x1=\"94\" x2=\"144\" y1=\"326.9688\" y2=\"326.9688\"/><text fill=\"#000000\" font-family=\"sans-serif\" font-size=\"12\" font-weight=\"bold\" lengthAdjust=\"spacingAndGlyphs\" textLength=\"18\" x=\"99\" y=\"340.1074\">do</text><text fill=\"#000000\" font-family=\"sans-serif\" font-size=\"12\" lengthAdjust=\"spacingAndGlyphs\" textLength=\"4\" x=\"117\" y=\"340.1074\">/</text></a></g><!--MD5=[cff944eb183b832d446717a4e202d613]\n",
       "link *start*E1 to E2--><a href=\"psysml:0b737fa2-1baa-4df5-913b-a090a33456a1\" target=\"_top\" title=\"psysml:0b737fa2-1baa-4df5-913b-a090a33456a1\" xlink:actuate=\"onRequest\" xlink:href=\"psysml:0b737fa2-1baa-4df5-913b-a090a33456a1\" xlink:show=\"new\" xlink:title=\"psysml:0b737fa2-1baa-4df5-913b-a090a33456a1\" xlink:type=\"simple\"><path d=\"M119,125.19 C119,138.18 119,162.38 119,180.73 \" fill=\"none\" id=\"*start*E1-&gt;E2\" style=\"stroke: #383838; stroke-width: 1.0;\"/><polygon fill=\"#383838\" points=\"119,185.74,123,176.74,119,180.74,115,176.74,119,185.74\" style=\"stroke: #383838; stroke-width: 1.0;\"/></a><!--MD5=[9ee7afa76ca8c509b3d216624c3a9893]\n",
       "link E3 to *end*E1--><a href=\"psysml:a8c9411f-d651-41a0-86c1-118f6cba8c1d\" target=\"_top\" title=\"psysml:a8c9411f-d651-41a0-86c1-118f6cba8c1d\" xlink:actuate=\"onRequest\" xlink:href=\"psysml:a8c9411f-d651-41a0-86c1-118f6cba8c1d\" xlink:show=\"new\" xlink:title=\"psysml:a8c9411f-d651-41a0-86c1-118f6cba8c1d\" xlink:type=\"simple\"><path d=\"M119,351.12 C119,372.75 119,404.39 119,422.62 \" fill=\"none\" id=\"E3-&gt;*end*E1\" style=\"stroke: #383838; stroke-width: 1.0;\"/><polygon fill=\"#383838\" points=\"119,427.82,123,418.82,119,422.82,115,418.82,119,427.82\" style=\"stroke: #383838; stroke-width: 1.0;\"/><text fill=\"#000000\" font-family=\"sans-serif\" font-size=\"13\" lengthAdjust=\"spacingAndGlyphs\" textLength=\"23\" x=\"120\" y=\"394.0669\">Exit</text></a><!--MD5=[2720a5a1f2c3fca2055b230370638851]\n",
       "link E2 to E3--><a href=\"psysml:eefcc534-c981-4425-9bf3-38251bd12a49\" target=\"_top\" title=\"psysml:eefcc534-c981-4425-9bf3-38251bd12a49\" xlink:actuate=\"onRequest\" xlink:href=\"psysml:eefcc534-c981-4425-9bf3-38251bd12a49\" xlink:show=\"new\" xlink:title=\"psysml:eefcc534-c981-4425-9bf3-38251bd12a49\" xlink:type=\"simple\"><path d=\"M93.93,218.88 C79.69,227.12 63.12,239.56 55,256 C44.11,278.05 67.72,298.2 89.27,311.16 \" fill=\"none\" id=\"E2-&gt;E3\" style=\"stroke: #383838; stroke-width: 1.0;\"/><polygon fill=\"#383838\" points=\"93.83,313.82,88.0682,305.8324,89.5101,311.3024,84.0401,312.7443,93.83,313.82\" style=\"stroke: #383838; stroke-width: 1.0;\"/><text fill=\"#000000\" font-family=\"sans-serif\" font-size=\"13\" lengthAdjust=\"spacingAndGlyphs\" textLength=\"81\" x=\"56\" y=\"269.0669\">Sig /action D</text></a><!--MD5=[05d275557350bfb9b23a4ef7222b4c39]\n",
       "link E3 to E2--><a href=\"psysml:bcd703ca-2055-4c24-98bc-6c579eb31483\" target=\"_top\" title=\"psysml:bcd703ca-2055-4c24-98bc-6c579eb31483\" xlink:actuate=\"onRequest\" xlink:href=\"psysml:bcd703ca-2055-4c24-98bc-6c579eb31483\" xlink:show=\"new\" xlink:title=\"psysml:bcd703ca-2055-4c24-98bc-6c579eb31483\" xlink:type=\"simple\"><path d=\"M133.17,302.99 C139.81,289.48 145.56,271.98 142,256 C140.1,247.49 136.56,238.72 132.82,230.99 \" fill=\"none\" id=\"E3-&gt;E2\" style=\"stroke: #383838; stroke-width: 1.0;\"/><polygon fill=\"#383838\" points=\"130.47,226.32,130.9298,236.1581,132.7118,230.7893,138.0806,232.5713,130.47,226.32\" style=\"stroke: #383838; stroke-width: 1.0;\"/><text fill=\"#000000\" font-family=\"sans-serif\" font-size=\"13\" lengthAdjust=\"spacingAndGlyphs\" textLength=\"135\" x=\"144\" y=\"269.0669\">Sig [true]/send s to p</text></a><!--MD5=[1987989fcdd14d6a2010f4e35b42436e]\n",
       "@startuml\r\n",
       "top to bottom direction\r\n",
       "skinparam monochrome true\r\n",
       "skinparam classbackgroundcolor white\r\n",
       "skinparam shadowing false\r\n",
       "skinparam wrapWidth 300\r\n",
       "hide circle\r\n",
       "\r\n",
       "rec def \"S\" as E1  <<(T,blue)state def>> [[psysml:b6aa9f25-72f8-4c2c-a7be-6589070e9bf6 ]] {\r\n",
       "rec usage \"S1\" as E2 [[psysml:1cabaaec-9539-448a-9df0-432fc817479b ]] {\r\n",
       "}\r\n",
       "\r\n",
       "rec usage \"S2\" as E3 [[psysml:7a7b17a9-f595-41dc-990f-a07a1c17ba3c ]] {\r\n",
       "desc \"S2\" as E3  : **do**/ \r\n",
       "}\r\n",
       "\r\n",
       "[*] - -> E2 [[psysml:0b737fa2-1baa-4df5-913b-a090a33456a1 ]] \r\n",
       "E3  - -> [*] [[psysml:a8c9411f-d651-41a0-86c1-118f6cba8c1d ]] : Exit \r\n",
       "desc \"S\" as E1  : **entry**/ A\r\n",
       "desc \"S\" as E1  : **do**/ B\r\n",
       "desc \"S\" as E1  : **exit**/ act \r\n",
       "}\r\n",
       "\r\n",
       "E2  - -> E3 [[psysml:eefcc534-c981-4425-9bf3-38251bd12a49 ]] : Sig /action D\r\n",
       "E3  - -> E2 [[psysml:bcd703ca-2055-4c24-98bc-6c579eb31483 ]] : Sig [true]/send s to p\r\n",
       "@enduml\r\n",
       "\n",
       "PlantUML version 1.2020.13(Sat Jun 13 12:26:38 UTC 2020)\n",
       "(EPL source distribution)\n",
       "Java Runtime: OpenJDK Runtime Environment\n",
       "JVM: OpenJDK 64-Bit Server VM\n",
       "Default Encoding: UTF-8\n",
       "Language: en\n",
       "Country: null\n",
       "--></g></svg>"
      ]
     },
     "execution_count": 46,
     "metadata": {},
     "output_type": "execute_result"
    }
   ],
   "source": [
    "%viz --style=\"TB\" --view=\"State\" \"StateTest\""
   ]
  },
  {
   "cell_type": "code",
   "execution_count": 47,
   "id": "presidential-sight",
   "metadata": {
    "execution": {
     "iopub.execute_input": "2021-03-25T15:07:04.797751Z",
     "iopub.status.busy": "2021-03-25T15:07:04.797212Z",
     "iopub.status.idle": "2021-03-25T15:07:04.879227Z",
     "shell.execute_reply": "2021-03-25T15:07:04.877991Z"
    }
   },
   "outputs": [
    {
     "data": {
      "image/svg+xml": [
       "<?xml version=\"1.0\" encoding=\"UTF-8\" standalone=\"no\"?><svg xmlns=\"http://www.w3.org/2000/svg\" xmlns:xlink=\"http://www.w3.org/1999/xlink\" contentScriptType=\"application/ecmascript\" contentStyleType=\"text/css\" height=\"123px\" preserveAspectRatio=\"none\" style=\"width:728px;height:123px;\" version=\"1.1\" viewBox=\"0 0 728 123\" width=\"728px\" zoomAndPan=\"magnify\"><defs/><g><!--MD5=[fbc87193dbaf4d95561dea2c320d4a47]\n",
       "cluster E1--><a href=\"psysml:a2ca8720-bd4b-4556-9b27-091331149f1f\" target=\"_top\" title=\"psysml:a2ca8720-bd4b-4556-9b27-091331149f1f\" xlink:actuate=\"onRequest\" xlink:href=\"psysml:a2ca8720-bd4b-4556-9b27-091331149f1f\" xlink:show=\"new\" xlink:title=\"psysml:a2ca8720-bd4b-4556-9b27-091331149f1f\" xlink:type=\"simple\"><polygon fill=\"#FFFFFF\" points=\"16,6,98,6,105,28.2969,706,28.2969,706,111,16,111,16,6\" style=\"stroke: #000000; stroke-width: 1.5;\"/><line style=\"stroke: #000000; stroke-width: 1.5;\" x1=\"16\" x2=\"105\" y1=\"28.2969\" y2=\"28.2969\"/><text fill=\"#000000\" font-family=\"sans-serif\" font-size=\"14\" font-weight=\"bold\" lengthAdjust=\"spacingAndGlyphs\" textLength=\"76\" x=\"20\" y=\"20.9951\">StateTest</text></a><!--MD5=[b4997ac47864f28c2f74865a473b2911]\n",
       "class E2--><a href=\"psysml:9b0c6b07-76e0-48e6-88f4-e6a2c752e8e3\" target=\"_top\" title=\"psysml:9b0c6b07-76e0-48e6-88f4-e6a2c752e8e3\" xlink:actuate=\"onRequest\" xlink:href=\"psysml:9b0c6b07-76e0-48e6-88f4-e6a2c752e8e3\" xlink:show=\"new\" xlink:title=\"psysml:9b0c6b07-76e0-48e6-88f4-e6a2c752e8e3\" xlink:type=\"simple\"><rect fill=\"#FFFFFF\" height=\"53.9375\" id=\"E2\" style=\"stroke: #383838; stroke-width: 1.5;\" width=\"143\" x=\"546.5\" y=\"41\"/><text fill=\"#000000\" font-family=\"sans-serif\" font-size=\"12\" font-style=\"italic\" lengthAdjust=\"spacingAndGlyphs\" textLength=\"141\" x=\"547.5\" y=\"57.1387\">«(T,blue)attribute def»</text><text fill=\"#000000\" font-family=\"sans-serif\" font-size=\"12\" lengthAdjust=\"spacingAndGlyphs\" textLength=\"19\" x=\"608.5\" y=\"71.1074\">Sig</text><line style=\"stroke: #383838; stroke-width: 1.5;\" x1=\"547.5\" x2=\"688.5\" y1=\"78.9375\" y2=\"78.9375\"/><line style=\"stroke: #383838; stroke-width: 1.5;\" x1=\"547.5\" x2=\"688.5\" y1=\"86.9375\" y2=\"86.9375\"/></a><!--MD5=[09b614a08d8cba4a07c9adeb5e0fee81]\n",
       "class E3--><a href=\"psysml:75ee6cec-68f4-495e-910b-3cf4854ee540\" target=\"_top\" title=\"psysml:75ee6cec-68f4-495e-910b-3cf4854ee540\" xlink:actuate=\"onRequest\" xlink:href=\"psysml:75ee6cec-68f4-495e-910b-3cf4854ee540\" xlink:show=\"new\" xlink:title=\"psysml:75ee6cec-68f4-495e-910b-3cf4854ee540\" xlink:type=\"simple\"><rect fill=\"#FFFFFF\" height=\"53.9375\" id=\"E3\" style=\"stroke: #383838; stroke-width: 1.5;\" width=\"143\" x=\"368.5\" y=\"41\"/><text fill=\"#000000\" font-family=\"sans-serif\" font-size=\"12\" font-style=\"italic\" lengthAdjust=\"spacingAndGlyphs\" textLength=\"141\" x=\"369.5\" y=\"57.1387\">«(T,blue)attribute def»</text><text fill=\"#000000\" font-family=\"sans-serif\" font-size=\"12\" lengthAdjust=\"spacingAndGlyphs\" textLength=\"22\" x=\"429\" y=\"71.1074\">Exit</text><line style=\"stroke: #383838; stroke-width: 1.5;\" x1=\"369.5\" x2=\"510.5\" y1=\"78.9375\" y2=\"78.9375\"/><line style=\"stroke: #383838; stroke-width: 1.5;\" x1=\"369.5\" x2=\"510.5\" y1=\"86.9375\" y2=\"86.9375\"/></a><!--MD5=[60a26617385b1d2d0262a64233df1f8d]\n",
       "class E6--><a href=\"psysml:b6aa9f25-72f8-4c2c-a7be-6589070e9bf6\" target=\"_top\" title=\"psysml:b6aa9f25-72f8-4c2c-a7be-6589070e9bf6\" xlink:actuate=\"onRequest\" xlink:href=\"psysml:b6aa9f25-72f8-4c2c-a7be-6589070e9bf6\" xlink:show=\"new\" xlink:title=\"psysml:b6aa9f25-72f8-4c2c-a7be-6589070e9bf6\" xlink:type=\"simple\"><rect fill=\"#FFFFFF\" height=\"53.9375\" id=\"E6\" style=\"stroke: #383838; stroke-width: 1.5;\" width=\"121\" x=\"212.5\" y=\"41\"/><text fill=\"#000000\" font-family=\"sans-serif\" font-size=\"12\" font-style=\"italic\" lengthAdjust=\"spacingAndGlyphs\" textLength=\"119\" x=\"213.5\" y=\"57.1387\">«(T,blue)state def»</text><text fill=\"#000000\" font-family=\"sans-serif\" font-size=\"12\" lengthAdjust=\"spacingAndGlyphs\" textLength=\"8\" x=\"269\" y=\"71.1074\">S</text><line style=\"stroke: #383838; stroke-width: 1.5;\" x1=\"213.5\" x2=\"332.5\" y1=\"78.9375\" y2=\"78.9375\"/><line style=\"stroke: #383838; stroke-width: 1.5;\" x1=\"213.5\" x2=\"332.5\" y1=\"86.9375\" y2=\"86.9375\"/></a><g id=\"E1.E4\"><a href=\"psysml:d526add9-9153-4d94-82de-e3d10cc7d584\" target=\"_top\" title=\"psysml:d526add9-9153-4d94-82de-e3d10cc7d584\" xlink:actuate=\"onRequest\" xlink:href=\"psysml:d526add9-9153-4d94-82de-e3d10cc7d584\" xlink:show=\"new\" xlink:title=\"psysml:d526add9-9153-4d94-82de-e3d10cc7d584\" xlink:type=\"simple\"><rect fill=\"#FFFFFF\" height=\"40\" id=\"E4\" rx=\"10\" ry=\"10\" style=\"stroke: #383838; stroke-width: 1.5;\" width=\"50\" x=\"127\" y=\"48\"/><rect fill=\"#F8F8F8\" height=\"23.9688\" rx=\"10\" ry=\"10\" style=\"stroke: #F8F8F8; stroke-width: 1.5;\" width=\"50\" x=\"127\" y=\"48\"/><rect fill=\"#F8F8F8\" height=\"10\" style=\"stroke: #F8F8F8; stroke-width: 1.5;\" width=\"50\" x=\"127\" y=\"61.9688\"/><rect fill=\"none\" height=\"40\" id=\"E4\" rx=\"10\" ry=\"10\" style=\"stroke: #383838; stroke-width: 1.5;\" width=\"50\" x=\"127\" y=\"48\"/><text fill=\"#000000\" font-family=\"sans-serif\" font-size=\"12\" lengthAdjust=\"spacingAndGlyphs\" textLength=\"8\" x=\"148\" y=\"64.1387\">p</text></a></g><g id=\"E1.E5\"><a href=\"psysml:12bd5d36-0dbf-4715-90c3-b0b875efee55\" target=\"_top\" title=\"psysml:12bd5d36-0dbf-4715-90c3-b0b875efee55\" xlink:actuate=\"onRequest\" xlink:href=\"psysml:12bd5d36-0dbf-4715-90c3-b0b875efee55\" xlink:show=\"new\" xlink:title=\"psysml:12bd5d36-0dbf-4715-90c3-b0b875efee55\" xlink:type=\"simple\"><rect fill=\"#FFFFFF\" height=\"42.9375\" id=\"E5\" rx=\"10\" ry=\"10\" style=\"stroke: #383838; stroke-width: 1.5;\" width=\"60\" x=\"32\" y=\"46.5\"/><rect fill=\"#F8F8F8\" height=\"37.9375\" rx=\"10\" ry=\"10\" style=\"stroke: #F8F8F8; stroke-width: 1.5;\" width=\"60\" x=\"32\" y=\"46.5\"/><rect fill=\"#F8F8F8\" height=\"10\" style=\"stroke: #F8F8F8; stroke-width: 1.5;\" width=\"60\" x=\"32\" y=\"74.4375\"/><rect fill=\"none\" height=\"42.9375\" id=\"E5\" rx=\"10\" ry=\"10\" style=\"stroke: #383838; stroke-width: 1.5;\" width=\"60\" x=\"32\" y=\"46.5\"/><text fill=\"#000000\" font-family=\"sans-serif\" font-size=\"12\" font-style=\"italic\" lengthAdjust=\"spacingAndGlyphs\" textLength=\"53\" x=\"35.5\" y=\"62.6387\">«action»</text><text fill=\"#000000\" font-family=\"sans-serif\" font-size=\"12\" lengthAdjust=\"spacingAndGlyphs\" textLength=\"20\" x=\"52\" y=\"76.6074\">act</text></a></g><!--MD5=[72e352eac94977f2a8cfbb6043390f0b]\n",
       "@startuml\r\n",
       "skinparam ranksep 8\r\n",
       "skinparam rectangle {\r\n",
       " backgroundColor<<block>> LightGreen\r\n",
       "}\r\n",
       "top to bottom direction\r\n",
       "skinparam monochrome true\r\n",
       "skinparam classbackgroundcolor white\r\n",
       "skinparam shadowing false\r\n",
       "skinparam wrapWidth 300\r\n",
       "hide circle\r\n",
       "\r\n",
       "package \"StateTest\" as E1  [[psysml:a2ca8720-bd4b-4556-9b27-091331149f1f ]]  {\r\n",
       "def \"Sig\" as E2  <<(T,blue)attribute def>> [[psysml:9b0c6b07-76e0-48e6-88f4-e6a2c752e8e3 ]] \r\n",
       "def \"Exit\" as E3  <<(T,blue)attribute def>> [[psysml:75ee6cec-68f4-495e-910b-3cf4854ee540 ]] \r\n",
       "rec usage \"p\" as E4  [[psysml:d526add9-9153-4d94-82de-e3d10cc7d584 ]] {\r\n",
       "}\r\n",
       "rec usage \"act\" as E5  <<(T,blue)action>> [[psysml:12bd5d36-0dbf-4715-90c3-b0b875efee55 ]] {\r\n",
       "}\r\n",
       "def \"S\" as E6  <<(T,blue)state def>> [[psysml:b6aa9f25-72f8-4c2c-a7be-6589070e9bf6 ]] \r\n",
       "}\r\n",
       "@enduml\r\n",
       "\n",
       "PlantUML version 1.2020.13(Sat Jun 13 12:26:38 UTC 2020)\n",
       "(EPL source distribution)\n",
       "Java Runtime: OpenJDK Runtime Environment\n",
       "JVM: OpenJDK 64-Bit Server VM\n",
       "Default Encoding: UTF-8\n",
       "Language: en\n",
       "Country: null\n",
       "--></g></svg>"
      ]
     },
     "execution_count": 47,
     "metadata": {},
     "output_type": "execute_result"
    }
   ],
   "source": [
    "%viz --style=\"TB\" --view=\"Interconnection\" \"StateTest\""
   ]
  },
  {
   "cell_type": "code",
   "execution_count": 48,
   "id": "gross-audit",
   "metadata": {
    "execution": {
     "iopub.execute_input": "2021-03-25T15:07:04.930458Z",
     "iopub.status.busy": "2021-03-25T15:07:04.929814Z",
     "iopub.status.idle": "2021-03-25T15:07:04.957656Z",
     "shell.execute_reply": "2021-03-25T15:07:04.956296Z"
    }
   },
   "outputs": [
    {
     "data": {
      "image/svg+xml": [
       "<?xml version=\"1.0\" encoding=\"UTF-8\" standalone=\"no\"?><svg xmlns=\"http://www.w3.org/2000/svg\" xmlns:xlink=\"http://www.w3.org/1999/xlink\" contentScriptType=\"application/ecmascript\" contentStyleType=\"text/css\" height=\"483px\" preserveAspectRatio=\"none\" style=\"width:788px;height:483px;background:#000000;\" version=\"1.1\" viewBox=\"0 0 788 483\" width=\"788px\" zoomAndPan=\"magnify\"><defs/><g><rect fill=\"#170821\" height=\"1\" style=\"stroke: #170821; stroke-width: 1.0;\" width=\"1\" x=\"0\" y=\"0\"/><rect fill=\"#33FF02\" height=\"21.2969\" style=\"stroke: #33FF02; stroke-width: 1.0;\" width=\"781\" x=\"5\" y=\"5\"/><text fill=\"#000000\" font-family=\"sans-serif\" font-size=\"14\" font-weight=\"bold\" lengthAdjust=\"spacingAndGlyphs\" textLength=\"178\" x=\"6\" y=\"20\">[From string (line 26) ]</text><text fill=\"#33FF02\" font-family=\"sans-serif\" font-size=\"14\" font-weight=\"bold\" lengthAdjust=\"spacingAndGlyphs\" textLength=\"0\" x=\"10\" y=\"40.2969\"/><text fill=\"#33FF02\" font-family=\"sans-serif\" font-size=\"14\" font-weight=\"bold\" lengthAdjust=\"spacingAndGlyphs\" textLength=\"79\" x=\"5\" y=\"56.5938\">@startuml</text><text fill=\"#33FF02\" font-family=\"sans-serif\" font-size=\"14\" font-weight=\"bold\" lengthAdjust=\"spacingAndGlyphs\" textLength=\"165\" x=\"5\" y=\"72.8906\">skinparam ranksep 8</text><text fill=\"#33FF02\" font-family=\"sans-serif\" font-size=\"14\" font-weight=\"bold\" lengthAdjust=\"spacingAndGlyphs\" textLength=\"183\" x=\"5\" y=\"89.1875\">top to bottom direction</text><text fill=\"#33FF02\" font-family=\"sans-serif\" font-size=\"14\" font-weight=\"bold\" lengthAdjust=\"spacingAndGlyphs\" textLength=\"228\" x=\"5\" y=\"105.4844\">skinparam monochrome true</text><text fill=\"#33FF02\" font-family=\"sans-serif\" font-size=\"14\" font-weight=\"bold\" lengthAdjust=\"spacingAndGlyphs\" textLength=\"309\" x=\"5\" y=\"121.7813\">skinparam classbackgroundcolor white</text><text fill=\"#33FF02\" font-family=\"sans-serif\" font-size=\"14\" font-weight=\"bold\" lengthAdjust=\"spacingAndGlyphs\" textLength=\"215\" x=\"5\" y=\"138.0781\">skinparam shadowing false</text><text fill=\"#33FF02\" font-family=\"sans-serif\" font-size=\"14\" font-weight=\"bold\" lengthAdjust=\"spacingAndGlyphs\" textLength=\"206\" x=\"5\" y=\"154.375\">skinparam wrapWidth 300</text><text fill=\"#33FF02\" font-family=\"sans-serif\" font-size=\"14\" font-weight=\"bold\" lengthAdjust=\"spacingAndGlyphs\" textLength=\"82\" x=\"5\" y=\"170.6719\">hide circle</text><text fill=\"#33FF02\" font-family=\"sans-serif\" font-size=\"14\" font-weight=\"bold\" lengthAdjust=\"spacingAndGlyphs\" textLength=\"0\" x=\"10\" y=\"186.9688\"/><text fill=\"#33FF02\" font-family=\"sans-serif\" font-size=\"14\" font-weight=\"bold\" lengthAdjust=\"spacingAndGlyphs\" textLength=\"781\" x=\"5\" y=\"203.2656\">rec usage \"act\" as E1  &lt;&lt;(T,blue)action&gt;&gt; [[psysml:12bd5d36-0dbf-4715-90c3-b0b875efee55 ]] {</text><text fill=\"#33FF02\" font-family=\"sans-serif\" font-size=\"14\" font-weight=\"bold\" lengthAdjust=\"spacingAndGlyphs\" textLength=\"10\" x=\"5\" y=\"219.5625\">}</text><text fill=\"#33FF02\" font-family=\"sans-serif\" font-size=\"14\" font-weight=\"bold\" lengthAdjust=\"spacingAndGlyphs\" textLength=\"0\" x=\"10\" y=\"235.8594\"/><text fill=\"#33FF02\" font-family=\"sans-serif\" font-size=\"14\" font-weight=\"bold\" lengthAdjust=\"spacingAndGlyphs\" textLength=\"760\" x=\"5\" y=\"252.1563\">rec def \"S\" as E2  &lt;&lt;(T,blue)state def&gt;&gt; [[psysml:b6aa9f25-72f8-4c2c-a7be-6589070e9bf6 ]] {</text><text fill=\"#33FF02\" font-family=\"sans-serif\" font-size=\"14\" font-weight=\"bold\" lengthAdjust=\"spacingAndGlyphs\" textLength=\"761\" x=\"5\" y=\"268.4531\">rec usage \"A\" as E3 &lt;&lt;perform action&gt;&gt; [[psysml:7c853ef3-d7ff-4ebf-8ae8-b09e7153a971 ]] {</text><text fill=\"#33FF02\" font-family=\"sans-serif\" font-size=\"14\" font-weight=\"bold\" lengthAdjust=\"spacingAndGlyphs\" textLength=\"10\" x=\"5\" y=\"284.75\">}</text><text fill=\"#33FF02\" font-family=\"sans-serif\" font-size=\"14\" font-weight=\"bold\" lengthAdjust=\"spacingAndGlyphs\" textLength=\"0\" x=\"10\" y=\"301.0469\"/><text fill=\"#33FF02\" font-family=\"sans-serif\" font-size=\"14\" font-weight=\"bold\" lengthAdjust=\"spacingAndGlyphs\" textLength=\"765\" x=\"5\" y=\"317.3438\">rec usage \"B\" as E4 &lt;&lt;perform action&gt;&gt; [[psysml:dca473ca-f240-48c8-8410-315f8ab65930 ]] {</text><text fill=\"#33FF02\" font-family=\"sans-serif\" font-size=\"14\" font-weight=\"bold\" lengthAdjust=\"spacingAndGlyphs\" textLength=\"10\" x=\"5\" y=\"333.6406\">}</text><text fill=\"#33FF02\" font-family=\"sans-serif\" font-size=\"14\" font-weight=\"bold\" lengthAdjust=\"spacingAndGlyphs\" textLength=\"0\" x=\"10\" y=\"349.9375\"/><text fill=\"#33FF02\" font-family=\"sans-serif\" font-size=\"14\" font-weight=\"bold\" lengthAdjust=\"spacingAndGlyphs\" textLength=\"779\" x=\"5\" y=\"366.2344\">rec usage \"act\" as E5 &lt;&lt;perform action&gt;&gt; [[psysml:4cc25ae1-ca80-482c-9b62-70f98bd0e4f3 ]] {</text><text fill=\"#33FF02\" font-family=\"sans-serif\" font-size=\"14\" font-weight=\"bold\" lengthAdjust=\"spacingAndGlyphs\" textLength=\"10\" x=\"5\" y=\"382.5313\">}</text><text fill=\"#33FF02\" font-family=\"sans-serif\" font-size=\"14\" font-weight=\"bold\" lengthAdjust=\"spacingAndGlyphs\" textLength=\"0\" x=\"10\" y=\"398.8281\"/><text fill=\"#33FF02\" font-family=\"sans-serif\" font-size=\"14\" font-weight=\"bold\" lengthAdjust=\"spacingAndGlyphs\" textLength=\"763\" x=\"5\" y=\"415.125\">rec usage \"S1\" as E6  &lt;&lt;(T,blue)state&gt;&gt; [[psysml:1cabaaec-9539-448a-9df0-432fc817479b ]] {</text><text fill=\"#33FF02\" font-family=\"sans-serif\" font-size=\"14\" font-weight=\"bold\" lengthAdjust=\"spacingAndGlyphs\" textLength=\"10\" x=\"5\" y=\"431.4219\">}</text><text fill=\"#33FF02\" font-family=\"sans-serif\" font-size=\"14\" font-weight=\"bold\" lengthAdjust=\"spacingAndGlyphs\" textLength=\"0\" x=\"10\" y=\"447.7188\"/><text fill=\"#33FF02\" font-family=\"sans-serif\" font-size=\"14\" font-weight=\"bold\" lengthAdjust=\"spacingAndGlyphs\" textLength=\"10\" x=\"5\" y=\"464.0156\">{</text><text fill=\"#FF0000\" font-family=\"sans-serif\" font-size=\"14\" font-weight=\"bold\" lengthAdjust=\"spacingAndGlyphs\" textLength=\"106\" x=\"10\" y=\"480.3125\">Syntax Error?</text><!--MD5=[388ffd04906bedc031275449bb5e3199]\n",
       "@startuml\r\n",
       "skinparam ranksep 8\r\n",
       "top to bottom direction\r\n",
       "skinparam monochrome true\r\n",
       "skinparam classbackgroundcolor white\r\n",
       "skinparam shadowing false\r\n",
       "skinparam wrapWidth 300\r\n",
       "hide circle\r\n",
       "\r\n",
       "rec usage \"act\" as E1  <<(T,blue)action>> [[psysml:12bd5d36-0dbf-4715-90c3-b0b875efee55 ]] {\r\n",
       "}\r\n",
       "\r\n",
       "rec def \"S\" as E2  <<(T,blue)state def>> [[psysml:b6aa9f25-72f8-4c2c-a7be-6589070e9bf6 ]] {\r\n",
       "rec usage \"A\" as E3 <<perform action>> [[psysml:7c853ef3-d7ff-4ebf-8ae8-b09e7153a971 ]] {\r\n",
       "}\r\n",
       "\r\n",
       "rec usage \"B\" as E4 <<perform action>> [[psysml:dca473ca-f240-48c8-8410-315f8ab65930 ]] {\r\n",
       "}\r\n",
       "\r\n",
       "rec usage \"act\" as E5 <<perform action>> [[psysml:4cc25ae1-ca80-482c-9b62-70f98bd0e4f3 ]] {\r\n",
       "}\r\n",
       "\r\n",
       "rec usage \"S1\" as E6  <<(T,blue)state>> [[psysml:1cabaaec-9539-448a-9df0-432fc817479b ]] {\r\n",
       "}\r\n",
       "\r\n",
       "{\r\n",
       "{\r\n",
       "}\r\n",
       "\r\n",
       "rec usage \"D\" as E7 <<perform action>> [[psysml:3510f31d-b177-4ebf-8714-3f9d2522539a ]] {\r\n",
       "}\r\n",
       "\r\n",
       "}\r\n",
       "\r\n",
       "rec usage \"S2\" as E8  <<(T,blue)state>> [[psysml:7a7b17a9-f595-41dc-990f-a07a1c17ba3c ]] {\r\n",
       "rec usage \"doAction\" as E9 <<send action>> [[psysml:fce0e4a1-8edc-4c38-93d6-a3b5e3670b25 ]] {\r\n",
       "portin \"$x\" as E10  [[psysml:0f9ee1be-4b0c-49df-bf39-0b4be923bab5 ]] \r\n",
       "portout \"$result\" as E11  [[psysml:57c23ed7-9c69-47d3-a300-7e2619377bac ]] \r\n",
       "}\r\n",
       "\r\n",
       "}\r\n",
       "\r\n",
       "{\r\n",
       "{\r\n",
       "}\r\n",
       "\r\n",
       "}\r\n",
       "\r\n",
       "rec usage \"T\" as E12  <<(T,blue)transition>> [[psysml:bcd703ca-2055-4c24-98bc-6c579eb31483 ]] {\r\n",
       "rec usage \"S2\" as E13  <<(T,blue)state>> [[psysml:7a7b17a9-f595-41dc-990f-a07a1c17ba3c ]] {\r\n",
       "rec usage \"doAction\" as E14 <<send action>> [[psysml:fce0e4a1-8edc-4c38-93d6-a3b5e3670b25 ]] {\r\n",
       "portin \"$x\" as E15  [[psysml:0f9ee1be-4b0c-49df-bf39-0b4be923bab5 ]] \r\n",
       "portout \"$result\" as E16  [[psysml:57c23ed7-9c69-47d3-a300-7e2619377bac ]] \r\n",
       "}\r\n",
       "\r\n",
       "}\r\n",
       "\r\n",
       "{\r\n",
       "}\r\n",
       "\r\n",
       "portout \"$result\" as E17  [[psysml:911b7f24-6054-424b-94f8-0593eb8f2c88 ]] \r\n",
       "{\r\n",
       "}\r\n",
       "\r\n",
       "}\r\n",
       "\r\n",
       "}\r\n",
       "\r\n",
       "@enduml\r\n",
       "\n",
       "PlantUML version 1.2020.13(Sat Jun 13 12:26:38 UTC 2020)\n",
       "(EPL source distribution)\n",
       "Java Runtime: OpenJDK Runtime Environment\n",
       "JVM: OpenJDK 64-Bit Server VM\n",
       "Default Encoding: UTF-8\n",
       "Language: en\n",
       "Country: null\n",
       "--></g></svg>"
      ]
     },
     "execution_count": 48,
     "metadata": {},
     "output_type": "execute_result"
    }
   ],
   "source": [
    "%viz --style=\"TB\" --view=\"Action\" \"StateTest\""
   ]
  },
  {
   "cell_type": "code",
   "execution_count": 49,
   "id": "executed-scout",
   "metadata": {
    "execution": {
     "iopub.execute_input": "2021-03-25T15:07:05.008251Z",
     "iopub.status.busy": "2021-03-25T15:07:05.007762Z",
     "iopub.status.idle": "2021-03-25T15:07:05.449355Z",
     "shell.execute_reply": "2021-03-25T15:07:05.447960Z"
    }
   },
   "outputs": [
    {
     "data": {
      "image/svg+xml": [
       "<?xml version=\"1.0\" encoding=\"UTF-8\" standalone=\"no\"?><svg xmlns=\"http://www.w3.org/2000/svg\" xmlns:xlink=\"http://www.w3.org/1999/xlink\" contentScriptType=\"application/ecmascript\" contentStyleType=\"text/css\" height=\"471px\" preserveAspectRatio=\"none\" style=\"width:594px;height:471px;\" version=\"1.1\" viewBox=\"0 0 594 471\" width=\"594px\" zoomAndPan=\"magnify\"><defs/><g><!--MD5=[fbc87193dbaf4d95561dea2c320d4a47]\n",
       "cluster E1--><a href=\"psysml:a2ca8720-bd4b-4556-9b27-091331149f1f\" target=\"_top\" title=\"psysml:a2ca8720-bd4b-4556-9b27-091331149f1f\" xlink:actuate=\"onRequest\" xlink:href=\"psysml:a2ca8720-bd4b-4556-9b27-091331149f1f\" xlink:show=\"new\" xlink:title=\"psysml:a2ca8720-bd4b-4556-9b27-091331149f1f\" xlink:type=\"simple\"><polygon fill=\"#FFFFFF\" points=\"16,6,98,6,105,28.2969,572,28.2969,572,459,16,459,16,6\" style=\"stroke: #000000; stroke-width: 1.5;\"/><line style=\"stroke: #000000; stroke-width: 1.5;\" x1=\"16\" x2=\"105\" y1=\"28.2969\" y2=\"28.2969\"/><text fill=\"#000000\" font-family=\"sans-serif\" font-size=\"14\" font-weight=\"bold\" lengthAdjust=\"spacingAndGlyphs\" textLength=\"76\" x=\"20\" y=\"20.9951\">StateTest</text></a><!--MD5=[b4997ac47864f28c2f74865a473b2911]\n",
       "class E2--><a href=\"psysml:9b0c6b07-76e0-48e6-88f4-e6a2c752e8e3\" target=\"_top\" title=\"psysml:9b0c6b07-76e0-48e6-88f4-e6a2c752e8e3\" xlink:actuate=\"onRequest\" xlink:href=\"psysml:9b0c6b07-76e0-48e6-88f4-e6a2c752e8e3\" xlink:show=\"new\" xlink:title=\"psysml:9b0c6b07-76e0-48e6-88f4-e6a2c752e8e3\" xlink:type=\"simple\"><rect fill=\"#FFFFFF\" height=\"75.5469\" id=\"E2\" style=\"stroke: #383838; stroke-width: 1.5;\" width=\"95\" x=\"460.5\" y=\"83\"/><text fill=\"#000000\" font-family=\"sans-serif\" font-size=\"12\" font-style=\"italic\" lengthAdjust=\"spacingAndGlyphs\" textLength=\"93\" x=\"461.5\" y=\"99.1387\">«attribute def»</text><text fill=\"#000000\" font-family=\"sans-serif\" font-size=\"12\" lengthAdjust=\"spacingAndGlyphs\" textLength=\"19\" x=\"498.5\" y=\"113.1074\">Sig</text><line style=\"stroke: #383838; stroke-width: 1.5;\" x1=\"461.5\" x2=\"554.5\" y1=\"120.9375\" y2=\"120.9375\"/><text fill=\"#000000\" font-family=\"sans-serif\" font-size=\"11\" lengthAdjust=\"spacingAndGlyphs\" textLength=\"6\" x=\"466.5\" y=\"151.9526\">x</text><line style=\"stroke: #383838; stroke-width: 1.0;\" x1=\"461.5\" x2=\"480.5\" y1=\"135.3398\" y2=\"135.3398\"/><text fill=\"#000000\" font-family=\"sans-serif\" font-size=\"11\" lengthAdjust=\"spacingAndGlyphs\" textLength=\"55\" x=\"480.5\" y=\"138.6479\">attributes</text><line style=\"stroke: #383838; stroke-width: 1.0;\" x1=\"535.5\" x2=\"554.5\" y1=\"135.3398\" y2=\"135.3398\"/></a><!--MD5=[09b614a08d8cba4a07c9adeb5e0fee81]\n",
       "class E3--><a href=\"psysml:75ee6cec-68f4-495e-910b-3cf4854ee540\" target=\"_top\" title=\"psysml:75ee6cec-68f4-495e-910b-3cf4854ee540\" xlink:actuate=\"onRequest\" xlink:href=\"psysml:75ee6cec-68f4-495e-910b-3cf4854ee540\" xlink:show=\"new\" xlink:title=\"psysml:75ee6cec-68f4-495e-910b-3cf4854ee540\" xlink:type=\"simple\"><rect fill=\"#FFFFFF\" height=\"45.9375\" id=\"E3\" style=\"stroke: #383838; stroke-width: 1.5;\" width=\"95\" x=\"330.5\" y=\"98\"/><text fill=\"#000000\" font-family=\"sans-serif\" font-size=\"12\" font-style=\"italic\" lengthAdjust=\"spacingAndGlyphs\" textLength=\"93\" x=\"331.5\" y=\"114.1387\">«attribute def»</text><text fill=\"#000000\" font-family=\"sans-serif\" font-size=\"12\" lengthAdjust=\"spacingAndGlyphs\" textLength=\"22\" x=\"367\" y=\"128.1074\">Exit</text><line style=\"stroke: #383838; stroke-width: 1.5;\" x1=\"331.5\" x2=\"424.5\" y1=\"135.9375\" y2=\"135.9375\"/></a><!--MD5=[ebbe1d658d1005bcc118a6aa81145e00]\n",
       "class E4--><a href=\"psysml:d526add9-9153-4d94-82de-e3d10cc7d584\" target=\"_top\" title=\"psysml:d526add9-9153-4d94-82de-e3d10cc7d584\" xlink:actuate=\"onRequest\" xlink:href=\"psysml:d526add9-9153-4d94-82de-e3d10cc7d584\" xlink:show=\"new\" xlink:title=\"psysml:d526add9-9153-4d94-82de-e3d10cc7d584\" xlink:type=\"simple\"><rect fill=\"#FFFFFF\" height=\"45.9375\" id=\"E4\" rx=\"10\" ry=\"10\" style=\"stroke: #383838; stroke-width: 1.5;\" width=\"42\" x=\"253\" y=\"98\"/><text fill=\"#000000\" font-family=\"sans-serif\" font-size=\"12\" font-style=\"italic\" lengthAdjust=\"spacingAndGlyphs\" textLength=\"40\" x=\"254\" y=\"114.1387\">«part»</text><text fill=\"#000000\" font-family=\"sans-serif\" font-size=\"12\" lengthAdjust=\"spacingAndGlyphs\" textLength=\"8\" x=\"270\" y=\"128.1074\">p</text><line style=\"stroke: #383838; stroke-width: 1.5;\" x1=\"254\" x2=\"294\" y1=\"135.9375\" y2=\"135.9375\"/></a><!--MD5=[270fce915f116d4de14055a7c1d9a0f3]\n",
       "class E5--><a href=\"psysml:12bd5d36-0dbf-4715-90c3-b0b875efee55\" target=\"_top\" title=\"psysml:12bd5d36-0dbf-4715-90c3-b0b875efee55\" xlink:actuate=\"onRequest\" xlink:href=\"psysml:12bd5d36-0dbf-4715-90c3-b0b875efee55\" xlink:show=\"new\" xlink:title=\"psysml:12bd5d36-0dbf-4715-90c3-b0b875efee55\" xlink:type=\"simple\"><rect fill=\"#FFFFFF\" height=\"45.9375\" id=\"E5\" rx=\"10\" ry=\"10\" style=\"stroke: #383838; stroke-width: 1.5;\" width=\"55\" x=\"162.5\" y=\"98\"/><text fill=\"#000000\" font-family=\"sans-serif\" font-size=\"12\" font-style=\"italic\" lengthAdjust=\"spacingAndGlyphs\" textLength=\"53\" x=\"163.5\" y=\"114.1387\">«action»</text><text fill=\"#000000\" font-family=\"sans-serif\" font-size=\"12\" lengthAdjust=\"spacingAndGlyphs\" textLength=\"20\" x=\"180\" y=\"128.1074\">act</text><line style=\"stroke: #383838; stroke-width: 1.5;\" x1=\"163.5\" x2=\"216.5\" y1=\"135.9375\" y2=\"135.9375\"/></a><!--MD5=[60a26617385b1d2d0262a64233df1f8d]\n",
       "class E6--><a href=\"psysml:b6aa9f25-72f8-4c2c-a7be-6589070e9bf6\" target=\"_top\" title=\"psysml:b6aa9f25-72f8-4c2c-a7be-6589070e9bf6\" xlink:actuate=\"onRequest\" xlink:href=\"psysml:b6aa9f25-72f8-4c2c-a7be-6589070e9bf6\" xlink:show=\"new\" xlink:title=\"psysml:b6aa9f25-72f8-4c2c-a7be-6589070e9bf6\" xlink:type=\"simple\"><rect fill=\"#FFFFFF\" height=\"160.375\" id=\"E6\" style=\"stroke: #383838; stroke-width: 1.5;\" width=\"95\" x=\"32.5\" y=\"41\"/><text fill=\"#000000\" font-family=\"sans-serif\" font-size=\"12\" font-style=\"italic\" lengthAdjust=\"spacingAndGlyphs\" textLength=\"71\" x=\"44.5\" y=\"57.1387\">«state def»</text><text fill=\"#000000\" font-family=\"sans-serif\" font-size=\"12\" lengthAdjust=\"spacingAndGlyphs\" textLength=\"8\" x=\"76\" y=\"71.1074\">S</text><line style=\"stroke: #383838; stroke-width: 1.5;\" x1=\"33.5\" x2=\"126.5\" y1=\"78.9375\" y2=\"78.9375\"/><text fill=\"#000000\" font-family=\"sans-serif\" font-size=\"11\" lengthAdjust=\"spacingAndGlyphs\" textLength=\"17\" x=\"38.5\" y=\"109.9526\">act</text><text fill=\"#000000\" font-family=\"sans-serif\" font-size=\"11\" lengthAdjust=\"spacingAndGlyphs\" textLength=\"7\" x=\"38.5\" y=\"122.7573\">A</text><text fill=\"#000000\" font-family=\"sans-serif\" font-size=\"11\" lengthAdjust=\"spacingAndGlyphs\" textLength=\"8\" x=\"38.5\" y=\"135.562\">B</text><line style=\"stroke: #383838; stroke-width: 1.0;\" x1=\"33.5\" x2=\"36.5\" y1=\"93.3398\" y2=\"93.3398\"/><text fill=\"#000000\" font-family=\"sans-serif\" font-size=\"11\" lengthAdjust=\"spacingAndGlyphs\" textLength=\"87\" x=\"36.5\" y=\"96.6479\">performActions</text><line style=\"stroke: #383838; stroke-width: 1.0;\" x1=\"123.5\" x2=\"126.5\" y1=\"93.3398\" y2=\"93.3398\"/><text fill=\"#000000\" font-family=\"sans-serif\" font-size=\"11\" lengthAdjust=\"spacingAndGlyphs\" textLength=\"15\" x=\"38.5\" y=\"165.1714\">S1</text><line style=\"stroke: #383838; stroke-width: 1.0;\" x1=\"33.5\" x2=\"62\" y1=\"148.5586\" y2=\"148.5586\"/><text fill=\"#000000\" font-family=\"sans-serif\" font-size=\"11\" lengthAdjust=\"spacingAndGlyphs\" textLength=\"36\" x=\"62\" y=\"151.8667\">states</text><line style=\"stroke: #383838; stroke-width: 1.0;\" x1=\"98\" x2=\"126.5\" y1=\"148.5586\" y2=\"148.5586\"/><text fill=\"#000000\" font-family=\"sans-serif\" font-size=\"11\" lengthAdjust=\"spacingAndGlyphs\" textLength=\"7\" x=\"38.5\" y=\"194.7808\">T</text><line style=\"stroke: #383838; stroke-width: 1.0;\" x1=\"33.5\" x2=\"49.5\" y1=\"178.168\" y2=\"178.168\"/><text fill=\"#000000\" font-family=\"sans-serif\" font-size=\"11\" lengthAdjust=\"spacingAndGlyphs\" textLength=\"61\" x=\"49.5\" y=\"181.4761\">transitions</text><line style=\"stroke: #383838; stroke-width: 1.0;\" x1=\"110.5\" x2=\"126.5\" y1=\"178.168\" y2=\"178.168\"/></a><!--MD5=[1dd1bfd58a279cf63c5f349dbc8fc6a1]\n",
       "class E11--><a href=\"psysml:7a7b17a9-f595-41dc-990f-a07a1c17ba3c\" target=\"_top\" title=\"psysml:7a7b17a9-f595-41dc-990f-a07a1c17ba3c\" xlink:actuate=\"onRequest\" xlink:href=\"psysml:7a7b17a9-f595-41dc-990f-a07a1c17ba3c\" xlink:show=\"new\" xlink:title=\"psysml:7a7b17a9-f595-41dc-990f-a07a1c17ba3c\" xlink:type=\"simple\"><rect fill=\"#FFFFFF\" height=\"45.9375\" id=\"E11\" rx=\"10\" ry=\"10\" style=\"stroke: #383838; stroke-width: 1.5;\" width=\"49\" x=\"55.5\" y=\"261\"/><text fill=\"#000000\" font-family=\"sans-serif\" font-size=\"12\" font-style=\"italic\" lengthAdjust=\"spacingAndGlyphs\" textLength=\"47\" x=\"56.5\" y=\"277.1387\">«state»</text><text fill=\"#000000\" font-family=\"sans-serif\" font-size=\"12\" lengthAdjust=\"spacingAndGlyphs\" textLength=\"16\" x=\"72\" y=\"291.1074\">S2</text><line style=\"stroke: #383838; stroke-width: 1.5;\" x1=\"56.5\" x2=\"103.5\" y1=\"298.9375\" y2=\"298.9375\"/></a><!--MD5=[49a0ec8f00dab7302a31f22d0f0fe584]\n",
       "class E12--><a href=\"psysml:fce0e4a1-8edc-4c38-93d6-a3b5e3670b25\" target=\"_top\" title=\"psysml:fce0e4a1-8edc-4c38-93d6-a3b5e3670b25\" xlink:actuate=\"onRequest\" xlink:href=\"psysml:fce0e4a1-8edc-4c38-93d6-a3b5e3670b25\" xlink:show=\"new\" xlink:title=\"psysml:fce0e4a1-8edc-4c38-93d6-a3b5e3670b25\" xlink:type=\"simple\"><rect fill=\"#FFFFFF\" height=\"75.5469\" id=\"E12\" rx=\"10\" ry=\"10\" style=\"stroke: #383838; stroke-width: 1.5;\" width=\"90\" x=\"35\" y=\"367\"/><text fill=\"#000000\" font-family=\"sans-serif\" font-size=\"12\" font-style=\"italic\" lengthAdjust=\"spacingAndGlyphs\" textLength=\"88\" x=\"36\" y=\"383.1387\">«send action»</text><text fill=\"#000000\" font-family=\"sans-serif\" font-size=\"12\" lengthAdjust=\"spacingAndGlyphs\" textLength=\"55\" x=\"52.5\" y=\"397.1074\">doAction</text><line style=\"stroke: #383838; stroke-width: 1.5;\" x1=\"36\" x2=\"124\" y1=\"404.9375\" y2=\"404.9375\"/><text fill=\"#000000\" font-family=\"sans-serif\" font-size=\"11\" lengthAdjust=\"spacingAndGlyphs\" textLength=\"25\" x=\"41\" y=\"435.9526\">item</text><line style=\"stroke: #383838; stroke-width: 1.0;\" x1=\"36\" x2=\"42.5\" y1=\"419.3398\" y2=\"419.3398\"/><text fill=\"#000000\" font-family=\"sans-serif\" font-size=\"11\" lengthAdjust=\"spacingAndGlyphs\" textLength=\"75\" x=\"42.5\" y=\"422.6479\">itemFeatures</text><line style=\"stroke: #383838; stroke-width: 1.0;\" x1=\"117.5\" x2=\"124\" y1=\"419.3398\" y2=\"419.3398\"/></a><!--MD5=[1f5f03483f7de0d5b3680a7f6650997f]\n",
       "reverse link E6 to E11--><a href=\"psysml:7a7b17a9-f595-41dc-990f-a07a1c17ba3c\" target=\"_top\" title=\"psysml:7a7b17a9-f595-41dc-990f-a07a1c17ba3c\" xlink:actuate=\"onRequest\" xlink:href=\"psysml:7a7b17a9-f595-41dc-990f-a07a1c17ba3c\" xlink:show=\"new\" xlink:title=\"psysml:7a7b17a9-f595-41dc-990f-a07a1c17ba3c\" xlink:type=\"simple\"><path d=\"M80,214.17 C80,231.58 80,248.25 80,260.82 \" fill=\"none\" id=\"E6&lt;-E11\" style=\"stroke: #383838; stroke-width: 1.0;\"/><polygon fill=\"#383838\" points=\"80,201.09,76.0066,207.0944,80.0132,213.09,84.0066,207.0856,80,201.09\" style=\"stroke: #383838; stroke-width: 1.0;\"/></a><!--MD5=[94adabc162ce7e41b39f13be14fbaeb3]\n",
       "reverse link E11 to E12--><a href=\"psysml:fce0e4a1-8edc-4c38-93d6-a3b5e3670b25\" target=\"_top\" title=\"psysml:fce0e4a1-8edc-4c38-93d6-a3b5e3670b25\" xlink:actuate=\"onRequest\" xlink:href=\"psysml:fce0e4a1-8edc-4c38-93d6-a3b5e3670b25\" xlink:show=\"new\" xlink:title=\"psysml:fce0e4a1-8edc-4c38-93d6-a3b5e3670b25\" xlink:type=\"simple\"><path d=\"M80,320.23 C80,334.82 80,351.76 80,366.58 \" fill=\"none\" id=\"E11&lt;-E12\" style=\"stroke: #383838; stroke-width: 1.0;\"/><polygon fill=\"#FFFFFF\" points=\"80,307.1,76,313.1,80,319.1,84,313.1,80,307.1\" style=\"stroke: #383838; stroke-width: 1.0;\"/></a><!--MD5=[ef247b9e529c3dfabefa1e8bf4be4c25]\n",
       "@startuml\r\n",
       "top to bottom direction\r\n",
       "skinparam monochrome true\r\n",
       "skinparam classbackgroundcolor white\r\n",
       "skinparam shadowing false\r\n",
       "skinparam wrapWidth 300\r\n",
       "hide circle\r\n",
       "\r\n",
       "package \"StateTest\" as E1  [[psysml:a2ca8720-bd4b-4556-9b27-091331149f1f ]]  {\r\n",
       "comp def \"Sig\" as E2  <<(T,blue)attribute def>> [[psysml:9b0c6b07-76e0-48e6-88f4-e6a2c752e8e3 ]] {\r\n",
       "- - attributes - -\r\n",
       "x\r\n",
       "}\r\n",
       "comp def \"Exit\" as E3  <<(T,blue)attribute def>> [[psysml:75ee6cec-68f4-495e-910b-3cf4854ee540 ]] {\r\n",
       "}\r\n",
       "comp usage \"p\" as E4  <<(T,blue)part>> [[psysml:d526add9-9153-4d94-82de-e3d10cc7d584 ]] {\r\n",
       "}\r\n",
       "comp usage \"act\" as E5  <<(T,blue)action>> [[psysml:12bd5d36-0dbf-4715-90c3-b0b875efee55 ]] {\r\n",
       "}\r\n",
       "comp def \"S\" as E6  <<(T,blue)state def>> [[psysml:b6aa9f25-72f8-4c2c-a7be-6589070e9bf6 ]] {\r\n",
       "- - performActions - -\r\n",
       "act\r\n",
       "A\r\n",
       "B\r\n",
       "- - states - -\r\n",
       "S1\r\n",
       "- - transitions - -\r\n",
       "T\r\n",
       "}\r\n",
       "comp usage \"S2\" as E11  <<(T,blue)state>> [[psysml:7a7b17a9-f595-41dc-990f-a07a1c17ba3c ]] {\r\n",
       "}\r\n",
       "comp usage \"doAction\" as E12 <<send action>> [[psysml:fce0e4a1-8edc-4c38-93d6-a3b5e3670b25 ]] {\r\n",
       "- - itemFeatures - -\r\n",
       "item\r\n",
       "}\r\n",
       "E6 *- - E11 [[psysml:7a7b17a9-f595-41dc-990f-a07a1c17ba3c ]] \r\n",
       "E11 o- - E12 [[psysml:fce0e4a1-8edc-4c38-93d6-a3b5e3670b25 ]] \r\n",
       "}\r\n",
       "@enduml\r\n",
       "\n",
       "PlantUML version 1.2020.13(Sat Jun 13 12:26:38 UTC 2020)\n",
       "(EPL source distribution)\n",
       "Java Runtime: OpenJDK Runtime Environment\n",
       "JVM: OpenJDK 64-Bit Server VM\n",
       "Default Encoding: UTF-8\n",
       "Language: en\n",
       "Country: null\n",
       "--></g></svg>"
      ]
     },
     "execution_count": 49,
     "metadata": {},
     "output_type": "execute_result"
    }
   ],
   "source": [
    "%viz --style=\"TB\" --view=\"Sequence\" \"StateTest\""
   ]
  },
  {
   "cell_type": "code",
   "execution_count": 50,
   "id": "absolute-diagram",
   "metadata": {
    "execution": {
     "iopub.execute_input": "2021-03-25T15:07:05.499781Z",
     "iopub.status.busy": "2021-03-25T15:07:05.499223Z",
     "iopub.status.idle": "2021-03-25T15:07:05.675006Z",
     "shell.execute_reply": "2021-03-25T15:07:05.673358Z"
    }
   },
   "outputs": [
    {
     "data": {
      "image/svg+xml": [
       "<?xml version=\"1.0\" encoding=\"UTF-8\" standalone=\"no\"?><svg xmlns=\"http://www.w3.org/2000/svg\" xmlns:xlink=\"http://www.w3.org/1999/xlink\" contentScriptType=\"application/ecmascript\" contentStyleType=\"text/css\" height=\"570px\" preserveAspectRatio=\"none\" style=\"width:819px;height:570px;\" version=\"1.1\" viewBox=\"0 0 819 570\" width=\"819px\" zoomAndPan=\"magnify\"><defs/><g><!--MD5=[fbc87193dbaf4d95561dea2c320d4a47]\n",
       "cluster E1--><a href=\"psysml:a2ca8720-bd4b-4556-9b27-091331149f1f\" target=\"_top\" title=\"psysml:a2ca8720-bd4b-4556-9b27-091331149f1f\" xlink:actuate=\"onRequest\" xlink:href=\"psysml:a2ca8720-bd4b-4556-9b27-091331149f1f\" xlink:show=\"new\" xlink:title=\"psysml:a2ca8720-bd4b-4556-9b27-091331149f1f\" xlink:type=\"simple\"><polygon fill=\"#FFFFFF\" points=\"16,6,98,6,105,28.2969,797,28.2969,797,558,16,558,16,6\" style=\"stroke: #000000; stroke-width: 1.5;\"/><line style=\"stroke: #000000; stroke-width: 1.5;\" x1=\"16\" x2=\"105\" y1=\"28.2969\" y2=\"28.2969\"/><text fill=\"#000000\" font-family=\"sans-serif\" font-size=\"14\" font-weight=\"bold\" lengthAdjust=\"spacingAndGlyphs\" textLength=\"76\" x=\"20\" y=\"20.9951\">StateTest</text></a><!--MD5=[14e3b0961a2654348d326746436168a1]\n",
       "cluster E6--><a href=\"psysml:b6aa9f25-72f8-4c2c-a7be-6589070e9bf6\" target=\"_top\" title=\"psysml:b6aa9f25-72f8-4c2c-a7be-6589070e9bf6\" xlink:actuate=\"onRequest\" xlink:href=\"psysml:b6aa9f25-72f8-4c2c-a7be-6589070e9bf6\" xlink:show=\"new\" xlink:title=\"psysml:b6aa9f25-72f8-4c2c-a7be-6589070e9bf6\" xlink:type=\"simple\"><rect fill=\"#FFFFFF\" height=\"485\" id=\"E6\" style=\"stroke: #383838; stroke-width: 1.5;\" width=\"327\" x=\"446\" y=\"49\"/><rect fill=\"#F8F8F8\" height=\"37.9375\" style=\"stroke: #383838; stroke-width: 1.5;\" width=\"327\" x=\"446\" y=\"49\"/><text fill=\"#000000\" font-family=\"sans-serif\" font-size=\"12\" font-style=\"italic\" lengthAdjust=\"spacingAndGlyphs\" textLength=\"71\" x=\"574\" y=\"65.1387\">«state def»</text><text fill=\"#000000\" font-family=\"sans-serif\" font-size=\"12\" lengthAdjust=\"spacingAndGlyphs\" textLength=\"8\" x=\"605.5\" y=\"79.1074\">S</text><line style=\"stroke: #383838; stroke-width: 1.0;\" x1=\"446\" x2=\"773\" y1=\"132.8438\" y2=\"132.8438\"/><text fill=\"#000000\" font-family=\"sans-serif\" font-size=\"12\" font-weight=\"bold\" lengthAdjust=\"spacingAndGlyphs\" textLength=\"38\" x=\"451\" y=\"100.0762\">entry</text><text fill=\"#000000\" font-family=\"sans-serif\" font-size=\"12\" lengthAdjust=\"spacingAndGlyphs\" textLength=\"16\" x=\"489\" y=\"100.0762\">/ A</text><text fill=\"#000000\" font-family=\"sans-serif\" font-size=\"12\" font-weight=\"bold\" lengthAdjust=\"spacingAndGlyphs\" textLength=\"18\" x=\"451\" y=\"114.0449\">do</text><text fill=\"#000000\" font-family=\"sans-serif\" font-size=\"12\" lengthAdjust=\"spacingAndGlyphs\" textLength=\"16\" x=\"469\" y=\"114.0449\">/ B</text><text fill=\"#000000\" font-family=\"sans-serif\" font-size=\"12\" font-weight=\"bold\" lengthAdjust=\"spacingAndGlyphs\" textLength=\"26\" x=\"451\" y=\"128.0137\">exit</text><text fill=\"#000000\" font-family=\"sans-serif\" font-size=\"12\" lengthAdjust=\"spacingAndGlyphs\" textLength=\"28\" x=\"477\" y=\"128.0137\">/ act</text></a><!--MD5=[b4997ac47864f28c2f74865a473b2911]\n",
       "class E2--><a href=\"psysml:9b0c6b07-76e0-48e6-88f4-e6a2c752e8e3\" target=\"_top\" title=\"psysml:9b0c6b07-76e0-48e6-88f4-e6a2c752e8e3\" xlink:actuate=\"onRequest\" xlink:href=\"psysml:9b0c6b07-76e0-48e6-88f4-e6a2c752e8e3\" xlink:show=\"new\" xlink:title=\"psysml:9b0c6b07-76e0-48e6-88f4-e6a2c752e8e3\" xlink:type=\"simple\"><rect fill=\"#FFFFFF\" height=\"75.5469\" id=\"E2\" style=\"stroke: #383838; stroke-width: 1.5;\" width=\"95\" x=\"334.5\" y=\"119\"/><text fill=\"#000000\" font-family=\"sans-serif\" font-size=\"12\" font-style=\"italic\" lengthAdjust=\"spacingAndGlyphs\" textLength=\"93\" x=\"335.5\" y=\"135.1387\">«attribute def»</text><text fill=\"#000000\" font-family=\"sans-serif\" font-size=\"12\" lengthAdjust=\"spacingAndGlyphs\" textLength=\"19\" x=\"372.5\" y=\"149.1074\">Sig</text><line style=\"stroke: #383838; stroke-width: 1.5;\" x1=\"335.5\" x2=\"428.5\" y1=\"156.9375\" y2=\"156.9375\"/><text fill=\"#000000\" font-family=\"sans-serif\" font-size=\"11\" lengthAdjust=\"spacingAndGlyphs\" textLength=\"6\" x=\"340.5\" y=\"187.9526\">x</text><line style=\"stroke: #383838; stroke-width: 1.0;\" x1=\"335.5\" x2=\"354.5\" y1=\"171.3398\" y2=\"171.3398\"/><text fill=\"#000000\" font-family=\"sans-serif\" font-size=\"11\" lengthAdjust=\"spacingAndGlyphs\" textLength=\"55\" x=\"354.5\" y=\"174.6479\">attributes</text><line style=\"stroke: #383838; stroke-width: 1.0;\" x1=\"409.5\" x2=\"428.5\" y1=\"171.3398\" y2=\"171.3398\"/></a><!--MD5=[09b614a08d8cba4a07c9adeb5e0fee81]\n",
       "class E3--><a href=\"psysml:75ee6cec-68f4-495e-910b-3cf4854ee540\" target=\"_top\" title=\"psysml:75ee6cec-68f4-495e-910b-3cf4854ee540\" xlink:actuate=\"onRequest\" xlink:href=\"psysml:75ee6cec-68f4-495e-910b-3cf4854ee540\" xlink:show=\"new\" xlink:title=\"psysml:75ee6cec-68f4-495e-910b-3cf4854ee540\" xlink:type=\"simple\"><rect fill=\"#FFFFFF\" height=\"45.9375\" id=\"E3\" style=\"stroke: #383838; stroke-width: 1.5;\" width=\"95\" x=\"204.5\" y=\"134\"/><text fill=\"#000000\" font-family=\"sans-serif\" font-size=\"12\" font-style=\"italic\" lengthAdjust=\"spacingAndGlyphs\" textLength=\"93\" x=\"205.5\" y=\"150.1387\">«attribute def»</text><text fill=\"#000000\" font-family=\"sans-serif\" font-size=\"12\" lengthAdjust=\"spacingAndGlyphs\" textLength=\"22\" x=\"241\" y=\"164.1074\">Exit</text><line style=\"stroke: #383838; stroke-width: 1.5;\" x1=\"205.5\" x2=\"298.5\" y1=\"171.9375\" y2=\"171.9375\"/></a><!--MD5=[ebbe1d658d1005bcc118a6aa81145e00]\n",
       "class E4--><a href=\"psysml:d526add9-9153-4d94-82de-e3d10cc7d584\" target=\"_top\" title=\"psysml:d526add9-9153-4d94-82de-e3d10cc7d584\" xlink:actuate=\"onRequest\" xlink:href=\"psysml:d526add9-9153-4d94-82de-e3d10cc7d584\" xlink:show=\"new\" xlink:title=\"psysml:d526add9-9153-4d94-82de-e3d10cc7d584\" xlink:type=\"simple\"><rect fill=\"#FFFFFF\" height=\"45.9375\" id=\"E4\" rx=\"10\" ry=\"10\" style=\"stroke: #383838; stroke-width: 1.5;\" width=\"42\" x=\"127\" y=\"134\"/><text fill=\"#000000\" font-family=\"sans-serif\" font-size=\"12\" font-style=\"italic\" lengthAdjust=\"spacingAndGlyphs\" textLength=\"40\" x=\"128\" y=\"150.1387\">«part»</text><text fill=\"#000000\" font-family=\"sans-serif\" font-size=\"12\" lengthAdjust=\"spacingAndGlyphs\" textLength=\"8\" x=\"144\" y=\"164.1074\">p</text><line style=\"stroke: #383838; stroke-width: 1.5;\" x1=\"128\" x2=\"168\" y1=\"171.9375\" y2=\"171.9375\"/></a><g id=\"E1.E5\"><a href=\"psysml:12bd5d36-0dbf-4715-90c3-b0b875efee55\" target=\"_top\" title=\"psysml:12bd5d36-0dbf-4715-90c3-b0b875efee55\" xlink:actuate=\"onRequest\" xlink:href=\"psysml:12bd5d36-0dbf-4715-90c3-b0b875efee55\" xlink:show=\"new\" xlink:title=\"psysml:12bd5d36-0dbf-4715-90c3-b0b875efee55\" xlink:type=\"simple\"><rect fill=\"#FFFFFF\" height=\"42.9375\" id=\"E5\" rx=\"10\" ry=\"10\" style=\"stroke: #383838; stroke-width: 1.5;\" width=\"60\" x=\"32\" y=\"135.5\"/><rect fill=\"#F8F8F8\" height=\"37.9375\" rx=\"10\" ry=\"10\" style=\"stroke: #F8F8F8; stroke-width: 1.5;\" width=\"60\" x=\"32\" y=\"135.5\"/><rect fill=\"#F8F8F8\" height=\"10\" style=\"stroke: #F8F8F8; stroke-width: 1.5;\" width=\"60\" x=\"32\" y=\"163.4375\"/><rect fill=\"none\" height=\"42.9375\" id=\"E5\" rx=\"10\" ry=\"10\" style=\"stroke: #383838; stroke-width: 1.5;\" width=\"60\" x=\"32\" y=\"135.5\"/><text fill=\"#000000\" font-family=\"sans-serif\" font-size=\"12\" font-style=\"italic\" lengthAdjust=\"spacingAndGlyphs\" textLength=\"53\" x=\"35.5\" y=\"151.6387\">«action»</text><text fill=\"#000000\" font-family=\"sans-serif\" font-size=\"12\" lengthAdjust=\"spacingAndGlyphs\" textLength=\"20\" x=\"52\" y=\"165.6074\">act</text></a></g><ellipse cx=\"558\" cy=\"157\" fill=\"#000000\" rx=\"10\" ry=\"10\" style=\"stroke: none; stroke-width: 1.0;\"/><ellipse cx=\"558\" cy=\"508\" fill=\"none\" rx=\"10\" ry=\"10\" style=\"stroke: #000000; stroke-width: 1.0;\"/><ellipse cx=\"558.5\" cy=\"508.5\" fill=\"#000000\" rx=\"6\" ry=\"6\" style=\"stroke: none; stroke-width: 1.0;\"/><g id=\"E1.E6.E7\"><a href=\"psysml:1cabaaec-9539-448a-9df0-432fc817479b\" target=\"_top\" title=\"psysml:1cabaaec-9539-448a-9df0-432fc817479b\" xlink:actuate=\"onRequest\" xlink:href=\"psysml:1cabaaec-9539-448a-9df0-432fc817479b\" xlink:show=\"new\" xlink:title=\"psysml:1cabaaec-9539-448a-9df0-432fc817479b\" xlink:type=\"simple\"><rect fill=\"#FFFFFF\" height=\"40\" id=\"E7\" rx=\"10\" ry=\"10\" style=\"stroke: #383838; stroke-width: 1.5;\" width=\"50\" x=\"533\" y=\"256\"/><rect fill=\"#F8F8F8\" height=\"23.9688\" rx=\"10\" ry=\"10\" style=\"stroke: #F8F8F8; stroke-width: 1.5;\" width=\"50\" x=\"533\" y=\"256\"/><rect fill=\"#F8F8F8\" height=\"10\" style=\"stroke: #F8F8F8; stroke-width: 1.5;\" width=\"50\" x=\"533\" y=\"269.9688\"/><rect fill=\"none\" height=\"40\" id=\"E7\" rx=\"10\" ry=\"10\" style=\"stroke: #383838; stroke-width: 1.5;\" width=\"50\" x=\"533\" y=\"256\"/><text fill=\"#000000\" font-family=\"sans-serif\" font-size=\"12\" lengthAdjust=\"spacingAndGlyphs\" textLength=\"16\" x=\"550\" y=\"272.1387\">S1</text></a></g><g id=\"E1.E6.E8\"><a href=\"psysml:7a7b17a9-f595-41dc-990f-a07a1c17ba3c\" target=\"_top\" title=\"psysml:7a7b17a9-f595-41dc-990f-a07a1c17ba3c\" xlink:actuate=\"onRequest\" xlink:href=\"psysml:7a7b17a9-f595-41dc-990f-a07a1c17ba3c\" xlink:show=\"new\" xlink:title=\"psysml:7a7b17a9-f595-41dc-990f-a07a1c17ba3c\" xlink:type=\"simple\"><rect fill=\"#FFFFFF\" height=\"47.9375\" id=\"E8\" rx=\"10\" ry=\"10\" style=\"stroke: #383838; stroke-width: 1.5;\" width=\"50\" x=\"533\" y=\"373\"/><rect fill=\"#F8F8F8\" height=\"23.9688\" rx=\"10\" ry=\"10\" style=\"stroke: #F8F8F8; stroke-width: 1.5;\" width=\"50\" x=\"533\" y=\"373\"/><rect fill=\"#F8F8F8\" height=\"10\" style=\"stroke: #F8F8F8; stroke-width: 1.5;\" width=\"50\" x=\"533\" y=\"386.9688\"/><rect fill=\"none\" height=\"47.9375\" id=\"E8\" rx=\"10\" ry=\"10\" style=\"stroke: #383838; stroke-width: 1.5;\" width=\"50\" x=\"533\" y=\"373\"/><text fill=\"#000000\" font-family=\"sans-serif\" font-size=\"12\" lengthAdjust=\"spacingAndGlyphs\" textLength=\"16\" x=\"550\" y=\"389.1387\">S2</text><line style=\"stroke: #383838; stroke-width: 1.0;\" x1=\"533\" x2=\"583\" y1=\"396.9688\" y2=\"396.9688\"/><text fill=\"#000000\" font-family=\"sans-serif\" font-size=\"12\" font-weight=\"bold\" lengthAdjust=\"spacingAndGlyphs\" textLength=\"18\" x=\"538\" y=\"410.1074\">do</text><text fill=\"#000000\" font-family=\"sans-serif\" font-size=\"12\" lengthAdjust=\"spacingAndGlyphs\" textLength=\"4\" x=\"556\" y=\"410.1074\">/</text></a></g><!--MD5=[5a531d3a85f3339e6e197084acb48195]\n",
       "link *start*E6 to E7--><a href=\"psysml:0b737fa2-1baa-4df5-913b-a090a33456a1\" target=\"_top\" title=\"psysml:0b737fa2-1baa-4df5-913b-a090a33456a1\" xlink:actuate=\"onRequest\" xlink:href=\"psysml:0b737fa2-1baa-4df5-913b-a090a33456a1\" xlink:show=\"new\" xlink:title=\"psysml:0b737fa2-1baa-4df5-913b-a090a33456a1\" xlink:type=\"simple\"><path d=\"M558,167.18 C558,184.98 558,224.73 558,250.67 \" fill=\"none\" id=\"*start*E6-&gt;E7\" style=\"stroke: #383838; stroke-width: 1.0;\"/><polygon fill=\"#383838\" points=\"558,255.98,562,246.98,558,250.98,554,246.98,558,255.98\" style=\"stroke: #383838; stroke-width: 1.0;\"/></a><!--MD5=[7ec9a8babba89ddcae1318ca9fb3c814]\n",
       "link E8 to *end*E6--><a href=\"psysml:a8c9411f-d651-41a0-86c1-118f6cba8c1d\" target=\"_top\" title=\"psysml:a8c9411f-d651-41a0-86c1-118f6cba8c1d\" xlink:actuate=\"onRequest\" xlink:href=\"psysml:a8c9411f-d651-41a0-86c1-118f6cba8c1d\" xlink:show=\"new\" xlink:title=\"psysml:a8c9411f-d651-41a0-86c1-118f6cba8c1d\" xlink:type=\"simple\"><path d=\"M558,421.12 C558,442.75 558,474.39 558,492.62 \" fill=\"none\" id=\"E8-&gt;*end*E6\" style=\"stroke: #383838; stroke-width: 1.0;\"/><polygon fill=\"#383838\" points=\"558,497.82,562,488.82,558,492.82,554,488.82,558,497.82\" style=\"stroke: #383838; stroke-width: 1.0;\"/><text fill=\"#000000\" font-family=\"sans-serif\" font-size=\"13\" lengthAdjust=\"spacingAndGlyphs\" textLength=\"23\" x=\"559\" y=\"464.0669\">Exit</text></a><!--MD5=[79bc8f324ef4d02c541433f2e6e513c3]\n",
       "link E7 to E8--><a href=\"psysml:eefcc534-c981-4425-9bf3-38251bd12a49\" target=\"_top\" title=\"psysml:eefcc534-c981-4425-9bf3-38251bd12a49\" xlink:actuate=\"onRequest\" xlink:href=\"psysml:eefcc534-c981-4425-9bf3-38251bd12a49\" xlink:show=\"new\" xlink:title=\"psysml:eefcc534-c981-4425-9bf3-38251bd12a49\" xlink:type=\"simple\"><path d=\"M532.93,288.88 C518.69,297.12 502.12,309.56 494,326 C483.11,348.05 506.72,368.2 528.27,381.16 \" fill=\"none\" id=\"E7-&gt;E8\" style=\"stroke: #383838; stroke-width: 1.0;\"/><polygon fill=\"#383838\" points=\"532.83,383.82,527.0682,375.8324,528.5101,381.3024,523.0401,382.7443,532.83,383.82\" style=\"stroke: #383838; stroke-width: 1.0;\"/><text fill=\"#000000\" font-family=\"sans-serif\" font-size=\"13\" lengthAdjust=\"spacingAndGlyphs\" textLength=\"81\" x=\"495\" y=\"339.0669\">Sig /action D</text></a><!--MD5=[bfa3c8b0d15052fdf50ae9310b491027]\n",
       "link E8 to E7--><a href=\"psysml:bcd703ca-2055-4c24-98bc-6c579eb31483\" target=\"_top\" title=\"psysml:bcd703ca-2055-4c24-98bc-6c579eb31483\" xlink:actuate=\"onRequest\" xlink:href=\"psysml:bcd703ca-2055-4c24-98bc-6c579eb31483\" xlink:show=\"new\" xlink:title=\"psysml:bcd703ca-2055-4c24-98bc-6c579eb31483\" xlink:type=\"simple\"><path d=\"M572.17,372.99 C578.81,359.48 584.56,341.98 581,326 C579.1,317.49 575.56,308.72 571.82,300.99 \" fill=\"none\" id=\"E8-&gt;E7\" style=\"stroke: #383838; stroke-width: 1.0;\"/><polygon fill=\"#383838\" points=\"569.47,296.32,569.9298,306.1581,571.7118,300.7893,577.0806,302.5713,569.47,296.32\" style=\"stroke: #383838; stroke-width: 1.0;\"/><text fill=\"#000000\" font-family=\"sans-serif\" font-size=\"13\" lengthAdjust=\"spacingAndGlyphs\" textLength=\"135\" x=\"583\" y=\"339.0669\">Sig [true]/send s to p</text></a><!--MD5=[d4dbf99a8fe4ee68874f6c23c3cb4f89]\n",
       "@startuml\r\n",
       "top to bottom direction\r\n",
       "skinparam monochrome true\r\n",
       "skinparam classbackgroundcolor white\r\n",
       "skinparam shadowing false\r\n",
       "skinparam wrapWidth 300\r\n",
       "hide circle\r\n",
       "\r\n",
       "package \"StateTest\" as E1  [[psysml:a2ca8720-bd4b-4556-9b27-091331149f1f ]]  {\r\n",
       "comp def \"Sig\" as E2  <<(T,blue)attribute def>> [[psysml:9b0c6b07-76e0-48e6-88f4-e6a2c752e8e3 ]] {\r\n",
       "- - attributes - -\r\n",
       "x\r\n",
       "}\r\n",
       "comp def \"Exit\" as E3  <<(T,blue)attribute def>> [[psysml:75ee6cec-68f4-495e-910b-3cf4854ee540 ]] {\r\n",
       "}\r\n",
       "comp usage \"p\" as E4  <<(T,blue)part>> [[psysml:d526add9-9153-4d94-82de-e3d10cc7d584 ]] {\r\n",
       "}\r\n",
       "rec usage \"act\" as E5  <<(T,blue)action>> [[psysml:12bd5d36-0dbf-4715-90c3-b0b875efee55 ]] {\r\n",
       "}\r\n",
       "\r\n",
       "rec def \"S\" as E6  <<(T,blue)state def>> [[psysml:b6aa9f25-72f8-4c2c-a7be-6589070e9bf6 ]] {\r\n",
       "rec usage \"S1\" as E7 [[psysml:1cabaaec-9539-448a-9df0-432fc817479b ]] {\r\n",
       "}\r\n",
       "\r\n",
       "rec usage \"S2\" as E8 [[psysml:7a7b17a9-f595-41dc-990f-a07a1c17ba3c ]] {\r\n",
       "desc \"S2\" as E8  : **do**/ \r\n",
       "}\r\n",
       "\r\n",
       "[*] - -> E7 [[psysml:0b737fa2-1baa-4df5-913b-a090a33456a1 ]] \r\n",
       "E8  - -> [*] [[psysml:a8c9411f-d651-41a0-86c1-118f6cba8c1d ]] : Exit \r\n",
       "desc \"S\" as E6  : **entry**/ A\r\n",
       "desc \"S\" as E6  : **do**/ B\r\n",
       "desc \"S\" as E6  : **exit**/ act \r\n",
       "}\r\n",
       "\r\n",
       "E7  - -> E8 [[psysml:eefcc534-c981-4425-9bf3-38251bd12a49 ]] : Sig /action D\r\n",
       "E8  - -> E7 [[psysml:bcd703ca-2055-4c24-98bc-6c579eb31483 ]] : Sig [true]/send s to p\r\n",
       "}\r\n",
       "@enduml\r\n",
       "\n",
       "PlantUML version 1.2020.13(Sat Jun 13 12:26:38 UTC 2020)\n",
       "(EPL source distribution)\n",
       "Java Runtime: OpenJDK Runtime Environment\n",
       "JVM: OpenJDK 64-Bit Server VM\n",
       "Default Encoding: UTF-8\n",
       "Language: en\n",
       "Country: null\n",
       "--></g></svg>"
      ]
     },
     "execution_count": 50,
     "metadata": {},
     "output_type": "execute_result"
    }
   ],
   "source": [
    "%viz --style=\"TB\" --view=\"MIXED\" \"StateTest\""
   ]
  },
  {
   "cell_type": "code",
   "execution_count": 51,
   "id": "former-yellow",
   "metadata": {
    "execution": {
     "iopub.execute_input": "2021-03-25T15:07:05.725246Z",
     "iopub.status.busy": "2021-03-25T15:07:05.724680Z",
     "iopub.status.idle": "2021-03-25T15:07:05.940279Z",
     "shell.execute_reply": "2021-03-25T15:07:05.938529Z"
    }
   },
   "outputs": [
    {
     "data": {
      "image/svg+xml": [
       "<?xml version=\"1.0\" encoding=\"UTF-8\" standalone=\"no\"?><svg xmlns=\"http://www.w3.org/2000/svg\" xmlns:xlink=\"http://www.w3.org/1999/xlink\" contentScriptType=\"application/ecmascript\" contentStyleType=\"text/css\" height=\"570px\" preserveAspectRatio=\"none\" style=\"width:819px;height:570px;\" version=\"1.1\" viewBox=\"0 0 819 570\" width=\"819px\" zoomAndPan=\"magnify\"><defs/><g><!--MD5=[fbc87193dbaf4d95561dea2c320d4a47]\n",
       "cluster E1--><a href=\"psysml:a2ca8720-bd4b-4556-9b27-091331149f1f\" target=\"_top\" title=\"psysml:a2ca8720-bd4b-4556-9b27-091331149f1f\" xlink:actuate=\"onRequest\" xlink:href=\"psysml:a2ca8720-bd4b-4556-9b27-091331149f1f\" xlink:show=\"new\" xlink:title=\"psysml:a2ca8720-bd4b-4556-9b27-091331149f1f\" xlink:type=\"simple\"><polygon fill=\"#FFFFFF\" points=\"16,6,98,6,105,28.2969,797,28.2969,797,558,16,558,16,6\" style=\"stroke: #000000; stroke-width: 1.5;\"/><line style=\"stroke: #000000; stroke-width: 1.5;\" x1=\"16\" x2=\"105\" y1=\"28.2969\" y2=\"28.2969\"/><text fill=\"#000000\" font-family=\"sans-serif\" font-size=\"14\" font-weight=\"bold\" lengthAdjust=\"spacingAndGlyphs\" textLength=\"76\" x=\"20\" y=\"20.9951\">StateTest</text></a><!--MD5=[14e3b0961a2654348d326746436168a1]\n",
       "cluster E6--><a href=\"psysml:b6aa9f25-72f8-4c2c-a7be-6589070e9bf6\" target=\"_top\" title=\"psysml:b6aa9f25-72f8-4c2c-a7be-6589070e9bf6\" xlink:actuate=\"onRequest\" xlink:href=\"psysml:b6aa9f25-72f8-4c2c-a7be-6589070e9bf6\" xlink:show=\"new\" xlink:title=\"psysml:b6aa9f25-72f8-4c2c-a7be-6589070e9bf6\" xlink:type=\"simple\"><rect fill=\"#FFFFFF\" height=\"485\" id=\"E6\" style=\"stroke: #383838; stroke-width: 1.5;\" width=\"327\" x=\"446\" y=\"49\"/><rect fill=\"#F8F8F8\" height=\"37.9375\" style=\"stroke: #383838; stroke-width: 1.5;\" width=\"327\" x=\"446\" y=\"49\"/><text fill=\"#000000\" font-family=\"sans-serif\" font-size=\"12\" font-style=\"italic\" lengthAdjust=\"spacingAndGlyphs\" textLength=\"71\" x=\"574\" y=\"65.1387\">«state def»</text><text fill=\"#000000\" font-family=\"sans-serif\" font-size=\"12\" lengthAdjust=\"spacingAndGlyphs\" textLength=\"8\" x=\"605.5\" y=\"79.1074\">S</text><line style=\"stroke: #383838; stroke-width: 1.0;\" x1=\"446\" x2=\"773\" y1=\"132.8438\" y2=\"132.8438\"/><text fill=\"#000000\" font-family=\"sans-serif\" font-size=\"12\" font-weight=\"bold\" lengthAdjust=\"spacingAndGlyphs\" textLength=\"38\" x=\"451\" y=\"100.0762\">entry</text><text fill=\"#000000\" font-family=\"sans-serif\" font-size=\"12\" lengthAdjust=\"spacingAndGlyphs\" textLength=\"16\" x=\"489\" y=\"100.0762\">/ A</text><text fill=\"#000000\" font-family=\"sans-serif\" font-size=\"12\" font-weight=\"bold\" lengthAdjust=\"spacingAndGlyphs\" textLength=\"18\" x=\"451\" y=\"114.0449\">do</text><text fill=\"#000000\" font-family=\"sans-serif\" font-size=\"12\" lengthAdjust=\"spacingAndGlyphs\" textLength=\"16\" x=\"469\" y=\"114.0449\">/ B</text><text fill=\"#000000\" font-family=\"sans-serif\" font-size=\"12\" font-weight=\"bold\" lengthAdjust=\"spacingAndGlyphs\" textLength=\"26\" x=\"451\" y=\"128.0137\">exit</text><text fill=\"#000000\" font-family=\"sans-serif\" font-size=\"12\" lengthAdjust=\"spacingAndGlyphs\" textLength=\"28\" x=\"477\" y=\"128.0137\">/ act</text></a><!--MD5=[b4997ac47864f28c2f74865a473b2911]\n",
       "class E2--><a href=\"psysml:9b0c6b07-76e0-48e6-88f4-e6a2c752e8e3\" target=\"_top\" title=\"psysml:9b0c6b07-76e0-48e6-88f4-e6a2c752e8e3\" xlink:actuate=\"onRequest\" xlink:href=\"psysml:9b0c6b07-76e0-48e6-88f4-e6a2c752e8e3\" xlink:show=\"new\" xlink:title=\"psysml:9b0c6b07-76e0-48e6-88f4-e6a2c752e8e3\" xlink:type=\"simple\"><rect fill=\"#FFFFFF\" height=\"75.5469\" id=\"E2\" style=\"stroke: #383838; stroke-width: 1.5;\" width=\"95\" x=\"334.5\" y=\"119\"/><text fill=\"#000000\" font-family=\"sans-serif\" font-size=\"12\" font-style=\"italic\" lengthAdjust=\"spacingAndGlyphs\" textLength=\"93\" x=\"335.5\" y=\"135.1387\">«attribute def»</text><text fill=\"#000000\" font-family=\"sans-serif\" font-size=\"12\" lengthAdjust=\"spacingAndGlyphs\" textLength=\"19\" x=\"372.5\" y=\"149.1074\">Sig</text><line style=\"stroke: #383838; stroke-width: 1.5;\" x1=\"335.5\" x2=\"428.5\" y1=\"156.9375\" y2=\"156.9375\"/><text fill=\"#000000\" font-family=\"sans-serif\" font-size=\"11\" lengthAdjust=\"spacingAndGlyphs\" textLength=\"6\" x=\"340.5\" y=\"187.9526\">x</text><line style=\"stroke: #383838; stroke-width: 1.0;\" x1=\"335.5\" x2=\"354.5\" y1=\"171.3398\" y2=\"171.3398\"/><text fill=\"#000000\" font-family=\"sans-serif\" font-size=\"11\" lengthAdjust=\"spacingAndGlyphs\" textLength=\"55\" x=\"354.5\" y=\"174.6479\">attributes</text><line style=\"stroke: #383838; stroke-width: 1.0;\" x1=\"409.5\" x2=\"428.5\" y1=\"171.3398\" y2=\"171.3398\"/></a><!--MD5=[09b614a08d8cba4a07c9adeb5e0fee81]\n",
       "class E3--><a href=\"psysml:75ee6cec-68f4-495e-910b-3cf4854ee540\" target=\"_top\" title=\"psysml:75ee6cec-68f4-495e-910b-3cf4854ee540\" xlink:actuate=\"onRequest\" xlink:href=\"psysml:75ee6cec-68f4-495e-910b-3cf4854ee540\" xlink:show=\"new\" xlink:title=\"psysml:75ee6cec-68f4-495e-910b-3cf4854ee540\" xlink:type=\"simple\"><rect fill=\"#FFFFFF\" height=\"45.9375\" id=\"E3\" style=\"stroke: #383838; stroke-width: 1.5;\" width=\"95\" x=\"204.5\" y=\"134\"/><text fill=\"#000000\" font-family=\"sans-serif\" font-size=\"12\" font-style=\"italic\" lengthAdjust=\"spacingAndGlyphs\" textLength=\"93\" x=\"205.5\" y=\"150.1387\">«attribute def»</text><text fill=\"#000000\" font-family=\"sans-serif\" font-size=\"12\" lengthAdjust=\"spacingAndGlyphs\" textLength=\"22\" x=\"241\" y=\"164.1074\">Exit</text><line style=\"stroke: #383838; stroke-width: 1.5;\" x1=\"205.5\" x2=\"298.5\" y1=\"171.9375\" y2=\"171.9375\"/></a><!--MD5=[ebbe1d658d1005bcc118a6aa81145e00]\n",
       "class E4--><a href=\"psysml:d526add9-9153-4d94-82de-e3d10cc7d584\" target=\"_top\" title=\"psysml:d526add9-9153-4d94-82de-e3d10cc7d584\" xlink:actuate=\"onRequest\" xlink:href=\"psysml:d526add9-9153-4d94-82de-e3d10cc7d584\" xlink:show=\"new\" xlink:title=\"psysml:d526add9-9153-4d94-82de-e3d10cc7d584\" xlink:type=\"simple\"><rect fill=\"#FFFFFF\" height=\"45.9375\" id=\"E4\" rx=\"10\" ry=\"10\" style=\"stroke: #383838; stroke-width: 1.5;\" width=\"42\" x=\"127\" y=\"134\"/><text fill=\"#000000\" font-family=\"sans-serif\" font-size=\"12\" font-style=\"italic\" lengthAdjust=\"spacingAndGlyphs\" textLength=\"40\" x=\"128\" y=\"150.1387\">«part»</text><text fill=\"#000000\" font-family=\"sans-serif\" font-size=\"12\" lengthAdjust=\"spacingAndGlyphs\" textLength=\"8\" x=\"144\" y=\"164.1074\">p</text><line style=\"stroke: #383838; stroke-width: 1.5;\" x1=\"128\" x2=\"168\" y1=\"171.9375\" y2=\"171.9375\"/></a><g id=\"E1.E5\"><a href=\"psysml:12bd5d36-0dbf-4715-90c3-b0b875efee55\" target=\"_top\" title=\"psysml:12bd5d36-0dbf-4715-90c3-b0b875efee55\" xlink:actuate=\"onRequest\" xlink:href=\"psysml:12bd5d36-0dbf-4715-90c3-b0b875efee55\" xlink:show=\"new\" xlink:title=\"psysml:12bd5d36-0dbf-4715-90c3-b0b875efee55\" xlink:type=\"simple\"><rect fill=\"#FFFFFF\" height=\"42.9375\" id=\"E5\" rx=\"10\" ry=\"10\" style=\"stroke: #383838; stroke-width: 1.5;\" width=\"60\" x=\"32\" y=\"135.5\"/><rect fill=\"#F8F8F8\" height=\"37.9375\" rx=\"10\" ry=\"10\" style=\"stroke: #F8F8F8; stroke-width: 1.5;\" width=\"60\" x=\"32\" y=\"135.5\"/><rect fill=\"#F8F8F8\" height=\"10\" style=\"stroke: #F8F8F8; stroke-width: 1.5;\" width=\"60\" x=\"32\" y=\"163.4375\"/><rect fill=\"none\" height=\"42.9375\" id=\"E5\" rx=\"10\" ry=\"10\" style=\"stroke: #383838; stroke-width: 1.5;\" width=\"60\" x=\"32\" y=\"135.5\"/><text fill=\"#000000\" font-family=\"sans-serif\" font-size=\"12\" font-style=\"italic\" lengthAdjust=\"spacingAndGlyphs\" textLength=\"53\" x=\"35.5\" y=\"151.6387\">«action»</text><text fill=\"#000000\" font-family=\"sans-serif\" font-size=\"12\" lengthAdjust=\"spacingAndGlyphs\" textLength=\"20\" x=\"52\" y=\"165.6074\">act</text></a></g><ellipse cx=\"558\" cy=\"157\" fill=\"#000000\" rx=\"10\" ry=\"10\" style=\"stroke: none; stroke-width: 1.0;\"/><ellipse cx=\"558\" cy=\"508\" fill=\"none\" rx=\"10\" ry=\"10\" style=\"stroke: #000000; stroke-width: 1.0;\"/><ellipse cx=\"558.5\" cy=\"508.5\" fill=\"#000000\" rx=\"6\" ry=\"6\" style=\"stroke: none; stroke-width: 1.0;\"/><g id=\"E1.E6.E7\"><a href=\"psysml:1cabaaec-9539-448a-9df0-432fc817479b\" target=\"_top\" title=\"psysml:1cabaaec-9539-448a-9df0-432fc817479b\" xlink:actuate=\"onRequest\" xlink:href=\"psysml:1cabaaec-9539-448a-9df0-432fc817479b\" xlink:show=\"new\" xlink:title=\"psysml:1cabaaec-9539-448a-9df0-432fc817479b\" xlink:type=\"simple\"><rect fill=\"#FFFFFF\" height=\"40\" id=\"E7\" rx=\"10\" ry=\"10\" style=\"stroke: #383838; stroke-width: 1.5;\" width=\"50\" x=\"533\" y=\"256\"/><rect fill=\"#F8F8F8\" height=\"23.9688\" rx=\"10\" ry=\"10\" style=\"stroke: #F8F8F8; stroke-width: 1.5;\" width=\"50\" x=\"533\" y=\"256\"/><rect fill=\"#F8F8F8\" height=\"10\" style=\"stroke: #F8F8F8; stroke-width: 1.5;\" width=\"50\" x=\"533\" y=\"269.9688\"/><rect fill=\"none\" height=\"40\" id=\"E7\" rx=\"10\" ry=\"10\" style=\"stroke: #383838; stroke-width: 1.5;\" width=\"50\" x=\"533\" y=\"256\"/><text fill=\"#000000\" font-family=\"sans-serif\" font-size=\"12\" lengthAdjust=\"spacingAndGlyphs\" textLength=\"16\" x=\"550\" y=\"272.1387\">S1</text></a></g><g id=\"E1.E6.E8\"><a href=\"psysml:7a7b17a9-f595-41dc-990f-a07a1c17ba3c\" target=\"_top\" title=\"psysml:7a7b17a9-f595-41dc-990f-a07a1c17ba3c\" xlink:actuate=\"onRequest\" xlink:href=\"psysml:7a7b17a9-f595-41dc-990f-a07a1c17ba3c\" xlink:show=\"new\" xlink:title=\"psysml:7a7b17a9-f595-41dc-990f-a07a1c17ba3c\" xlink:type=\"simple\"><rect fill=\"#FFFFFF\" height=\"47.9375\" id=\"E8\" rx=\"10\" ry=\"10\" style=\"stroke: #383838; stroke-width: 1.5;\" width=\"50\" x=\"533\" y=\"373\"/><rect fill=\"#F8F8F8\" height=\"23.9688\" rx=\"10\" ry=\"10\" style=\"stroke: #F8F8F8; stroke-width: 1.5;\" width=\"50\" x=\"533\" y=\"373\"/><rect fill=\"#F8F8F8\" height=\"10\" style=\"stroke: #F8F8F8; stroke-width: 1.5;\" width=\"50\" x=\"533\" y=\"386.9688\"/><rect fill=\"none\" height=\"47.9375\" id=\"E8\" rx=\"10\" ry=\"10\" style=\"stroke: #383838; stroke-width: 1.5;\" width=\"50\" x=\"533\" y=\"373\"/><text fill=\"#000000\" font-family=\"sans-serif\" font-size=\"12\" lengthAdjust=\"spacingAndGlyphs\" textLength=\"16\" x=\"550\" y=\"389.1387\">S2</text><line style=\"stroke: #383838; stroke-width: 1.0;\" x1=\"533\" x2=\"583\" y1=\"396.9688\" y2=\"396.9688\"/><text fill=\"#000000\" font-family=\"sans-serif\" font-size=\"12\" font-weight=\"bold\" lengthAdjust=\"spacingAndGlyphs\" textLength=\"18\" x=\"538\" y=\"410.1074\">do</text><text fill=\"#000000\" font-family=\"sans-serif\" font-size=\"12\" lengthAdjust=\"spacingAndGlyphs\" textLength=\"4\" x=\"556\" y=\"410.1074\">/</text></a></g><!--MD5=[5a531d3a85f3339e6e197084acb48195]\n",
       "link *start*E6 to E7--><a href=\"psysml:0b737fa2-1baa-4df5-913b-a090a33456a1\" target=\"_top\" title=\"psysml:0b737fa2-1baa-4df5-913b-a090a33456a1\" xlink:actuate=\"onRequest\" xlink:href=\"psysml:0b737fa2-1baa-4df5-913b-a090a33456a1\" xlink:show=\"new\" xlink:title=\"psysml:0b737fa2-1baa-4df5-913b-a090a33456a1\" xlink:type=\"simple\"><path d=\"M558,167.15 C558,167.15 558,250.67 558,250.67 \" fill=\"none\" id=\"*start*E6-&gt;E7\" style=\"stroke: #383838; stroke-width: 1.0;\"/><polygon fill=\"#383838\" points=\"558,255.67,562,246.67,558,250.67,554,246.67,558,255.67\" style=\"stroke: #383838; stroke-width: 1.0;\"/></a><!--MD5=[7ec9a8babba89ddcae1318ca9fb3c814]\n",
       "link E8 to *end*E6--><a href=\"psysml:a8c9411f-d651-41a0-86c1-118f6cba8c1d\" target=\"_top\" title=\"psysml:a8c9411f-d651-41a0-86c1-118f6cba8c1d\" xlink:actuate=\"onRequest\" xlink:href=\"psysml:a8c9411f-d651-41a0-86c1-118f6cba8c1d\" xlink:show=\"new\" xlink:title=\"psysml:a8c9411f-d651-41a0-86c1-118f6cba8c1d\" xlink:type=\"simple\"><path d=\"M558,421.09 C558,421.09 558,492.94 558,492.94 \" fill=\"none\" id=\"E8-&gt;*end*E6\" style=\"stroke: #383838; stroke-width: 1.0;\"/><polygon fill=\"#383838\" points=\"558,497.94,562,488.94,558,492.94,554,488.94,558,497.94\" style=\"stroke: #383838; stroke-width: 1.0;\"/><text fill=\"#000000\" font-family=\"sans-serif\" font-size=\"13\" lengthAdjust=\"spacingAndGlyphs\" textLength=\"23\" x=\"559\" y=\"464.0669\">Exit</text></a><!--MD5=[79bc8f324ef4d02c541433f2e6e513c3]\n",
       "link E7 to E8--><a href=\"psysml:eefcc534-c981-4425-9bf3-38251bd12a49\" target=\"_top\" title=\"psysml:eefcc534-c981-4425-9bf3-38251bd12a49\" xlink:actuate=\"onRequest\" xlink:href=\"psysml:eefcc534-c981-4425-9bf3-38251bd12a49\" xlink:show=\"new\" xlink:title=\"psysml:eefcc534-c981-4425-9bf3-38251bd12a49\" xlink:type=\"simple\"><path d=\"M549.67,296.25 C549.67,296.25 549.67,367.93 549.67,367.93 \" fill=\"none\" id=\"E7-&gt;E8\" style=\"stroke: #383838; stroke-width: 1.0;\"/><polygon fill=\"#383838\" points=\"549.67,372.93,553.67,363.93,549.67,367.93,545.67,363.93,549.67,372.93\" style=\"stroke: #383838; stroke-width: 1.0;\"/><text fill=\"#000000\" font-family=\"sans-serif\" font-size=\"13\" lengthAdjust=\"spacingAndGlyphs\" textLength=\"81\" x=\"498\" y=\"339.0669\">Sig /action D</text></a><!--MD5=[bfa3c8b0d15052fdf50ae9310b491027]\n",
       "link E8 to E7--><a href=\"psysml:bcd703ca-2055-4c24-98bc-6c579eb31483\" target=\"_top\" title=\"psysml:bcd703ca-2055-4c24-98bc-6c579eb31483\" xlink:actuate=\"onRequest\" xlink:href=\"psysml:bcd703ca-2055-4c24-98bc-6c579eb31483\" xlink:show=\"new\" xlink:title=\"psysml:bcd703ca-2055-4c24-98bc-6c579eb31483\" xlink:type=\"simple\"><path d=\"M566.33,372.8 C566.33,372.8 566.33,301.14 566.33,301.14 \" fill=\"none\" id=\"E8-&gt;E7\" style=\"stroke: #383838; stroke-width: 1.0;\"/><polygon fill=\"#383838\" points=\"566.33,296.14,562.33,305.14,566.33,301.14,570.33,305.14,566.33,296.14\" style=\"stroke: #383838; stroke-width: 1.0;\"/><text fill=\"#000000\" font-family=\"sans-serif\" font-size=\"13\" lengthAdjust=\"spacingAndGlyphs\" textLength=\"135\" x=\"621\" y=\"339.0669\">Sig [true]/send s to p</text></a><!--MD5=[6379b21fe399a119cf73f30a4479c933]\n",
       "@startuml\r\n",
       "skinparam linetype ortho\r\n",
       "skinparam monochrome true\r\n",
       "skinparam classbackgroundcolor white\r\n",
       "skinparam shadowing false\r\n",
       "skinparam wrapWidth 300\r\n",
       "hide circle\r\n",
       "\r\n",
       "package \"StateTest\" as E1  [[psysml:a2ca8720-bd4b-4556-9b27-091331149f1f ]]  {\r\n",
       "comp def \"Sig\" as E2  <<(T,blue)attribute def>> [[psysml:9b0c6b07-76e0-48e6-88f4-e6a2c752e8e3 ]] {\r\n",
       "- - attributes - -\r\n",
       "x\r\n",
       "}\r\n",
       "comp def \"Exit\" as E3  <<(T,blue)attribute def>> [[psysml:75ee6cec-68f4-495e-910b-3cf4854ee540 ]] {\r\n",
       "}\r\n",
       "comp usage \"p\" as E4  <<(T,blue)part>> [[psysml:d526add9-9153-4d94-82de-e3d10cc7d584 ]] {\r\n",
       "}\r\n",
       "rec usage \"act\" as E5  <<(T,blue)action>> [[psysml:12bd5d36-0dbf-4715-90c3-b0b875efee55 ]] {\r\n",
       "}\r\n",
       "\r\n",
       "rec def \"S\" as E6  <<(T,blue)state def>> [[psysml:b6aa9f25-72f8-4c2c-a7be-6589070e9bf6 ]] {\r\n",
       "rec usage \"S1\" as E7 [[psysml:1cabaaec-9539-448a-9df0-432fc817479b ]] {\r\n",
       "}\r\n",
       "\r\n",
       "rec usage \"S2\" as E8 [[psysml:7a7b17a9-f595-41dc-990f-a07a1c17ba3c ]] {\r\n",
       "desc \"S2\" as E8  : **do**/ \r\n",
       "}\r\n",
       "\r\n",
       "[*] - -> E7 [[psysml:0b737fa2-1baa-4df5-913b-a090a33456a1 ]] \r\n",
       "E8  - -> [*] [[psysml:a8c9411f-d651-41a0-86c1-118f6cba8c1d ]] : Exit \r\n",
       "desc \"S\" as E6  : **entry**/ A\r\n",
       "desc \"S\" as E6  : **do**/ B\r\n",
       "desc \"S\" as E6  : **exit**/ act \r\n",
       "}\r\n",
       "\r\n",
       "E7  - -> E8 [[psysml:eefcc534-c981-4425-9bf3-38251bd12a49 ]] : Sig /action D\r\n",
       "E8  - -> E7 [[psysml:bcd703ca-2055-4c24-98bc-6c579eb31483 ]] : Sig [true]/send s to p\r\n",
       "}\r\n",
       "@enduml\r\n",
       "\n",
       "PlantUML version 1.2020.13(Sat Jun 13 12:26:38 UTC 2020)\n",
       "(EPL source distribution)\n",
       "Java Runtime: OpenJDK Runtime Environment\n",
       "JVM: OpenJDK 64-Bit Server VM\n",
       "Default Encoding: UTF-8\n",
       "Language: en\n",
       "Country: null\n",
       "--></g></svg>"
      ]
     },
     "execution_count": 51,
     "metadata": {},
     "output_type": "execute_result"
    }
   ],
   "source": [
    "%viz --style=\"ORTHOLINE\" --view=\"Default\" \"StateTest\""
   ]
  },
  {
   "cell_type": "code",
   "execution_count": 52,
   "id": "pleased-ordinary",
   "metadata": {
    "execution": {
     "iopub.execute_input": "2021-03-25T15:07:05.991729Z",
     "iopub.status.busy": "2021-03-25T15:07:05.991032Z",
     "iopub.status.idle": "2021-03-25T15:07:06.427789Z",
     "shell.execute_reply": "2021-03-25T15:07:06.426327Z"
    }
   },
   "outputs": [
    {
     "data": {
      "image/svg+xml": [
       "<?xml version=\"1.0\" encoding=\"UTF-8\" standalone=\"no\"?><svg xmlns=\"http://www.w3.org/2000/svg\" xmlns:xlink=\"http://www.w3.org/1999/xlink\" contentScriptType=\"application/ecmascript\" contentStyleType=\"text/css\" height=\"471px\" preserveAspectRatio=\"none\" style=\"width:594px;height:471px;\" version=\"1.1\" viewBox=\"0 0 594 471\" width=\"594px\" zoomAndPan=\"magnify\"><defs/><g><!--MD5=[fbc87193dbaf4d95561dea2c320d4a47]\n",
       "cluster E1--><a href=\"psysml:a2ca8720-bd4b-4556-9b27-091331149f1f\" target=\"_top\" title=\"psysml:a2ca8720-bd4b-4556-9b27-091331149f1f\" xlink:actuate=\"onRequest\" xlink:href=\"psysml:a2ca8720-bd4b-4556-9b27-091331149f1f\" xlink:show=\"new\" xlink:title=\"psysml:a2ca8720-bd4b-4556-9b27-091331149f1f\" xlink:type=\"simple\"><polygon fill=\"#FFFFFF\" points=\"16,6,98,6,105,28.2969,572,28.2969,572,459,16,459,16,6\" style=\"stroke: #000000; stroke-width: 1.5;\"/><line style=\"stroke: #000000; stroke-width: 1.5;\" x1=\"16\" x2=\"105\" y1=\"28.2969\" y2=\"28.2969\"/><text fill=\"#000000\" font-family=\"sans-serif\" font-size=\"14\" font-weight=\"bold\" lengthAdjust=\"spacingAndGlyphs\" textLength=\"76\" x=\"20\" y=\"20.9951\">StateTest</text></a><!--MD5=[b4997ac47864f28c2f74865a473b2911]\n",
       "class E2--><a href=\"psysml:9b0c6b07-76e0-48e6-88f4-e6a2c752e8e3\" target=\"_top\" title=\"psysml:9b0c6b07-76e0-48e6-88f4-e6a2c752e8e3\" xlink:actuate=\"onRequest\" xlink:href=\"psysml:9b0c6b07-76e0-48e6-88f4-e6a2c752e8e3\" xlink:show=\"new\" xlink:title=\"psysml:9b0c6b07-76e0-48e6-88f4-e6a2c752e8e3\" xlink:type=\"simple\"><rect fill=\"#FFFFFF\" height=\"75.5469\" id=\"E2\" style=\"stroke: #383838; stroke-width: 1.5;\" width=\"95\" x=\"460.5\" y=\"83\"/><text fill=\"#000000\" font-family=\"sans-serif\" font-size=\"12\" font-style=\"italic\" lengthAdjust=\"spacingAndGlyphs\" textLength=\"93\" x=\"461.5\" y=\"99.1387\">«attribute def»</text><text fill=\"#000000\" font-family=\"sans-serif\" font-size=\"12\" lengthAdjust=\"spacingAndGlyphs\" textLength=\"19\" x=\"498.5\" y=\"113.1074\">Sig</text><line style=\"stroke: #383838; stroke-width: 1.5;\" x1=\"461.5\" x2=\"554.5\" y1=\"120.9375\" y2=\"120.9375\"/><text fill=\"#000000\" font-family=\"sans-serif\" font-size=\"11\" lengthAdjust=\"spacingAndGlyphs\" textLength=\"6\" x=\"466.5\" y=\"151.9526\">x</text><line style=\"stroke: #383838; stroke-width: 1.0;\" x1=\"461.5\" x2=\"480.5\" y1=\"135.3398\" y2=\"135.3398\"/><text fill=\"#000000\" font-family=\"sans-serif\" font-size=\"11\" lengthAdjust=\"spacingAndGlyphs\" textLength=\"55\" x=\"480.5\" y=\"138.6479\">attributes</text><line style=\"stroke: #383838; stroke-width: 1.0;\" x1=\"535.5\" x2=\"554.5\" y1=\"135.3398\" y2=\"135.3398\"/></a><!--MD5=[09b614a08d8cba4a07c9adeb5e0fee81]\n",
       "class E3--><a href=\"psysml:75ee6cec-68f4-495e-910b-3cf4854ee540\" target=\"_top\" title=\"psysml:75ee6cec-68f4-495e-910b-3cf4854ee540\" xlink:actuate=\"onRequest\" xlink:href=\"psysml:75ee6cec-68f4-495e-910b-3cf4854ee540\" xlink:show=\"new\" xlink:title=\"psysml:75ee6cec-68f4-495e-910b-3cf4854ee540\" xlink:type=\"simple\"><rect fill=\"#FFFFFF\" height=\"45.9375\" id=\"E3\" style=\"stroke: #383838; stroke-width: 1.5;\" width=\"95\" x=\"330.5\" y=\"98\"/><text fill=\"#000000\" font-family=\"sans-serif\" font-size=\"12\" font-style=\"italic\" lengthAdjust=\"spacingAndGlyphs\" textLength=\"93\" x=\"331.5\" y=\"114.1387\">«attribute def»</text><text fill=\"#000000\" font-family=\"sans-serif\" font-size=\"12\" lengthAdjust=\"spacingAndGlyphs\" textLength=\"22\" x=\"367\" y=\"128.1074\">Exit</text><line style=\"stroke: #383838; stroke-width: 1.5;\" x1=\"331.5\" x2=\"424.5\" y1=\"135.9375\" y2=\"135.9375\"/></a><!--MD5=[ebbe1d658d1005bcc118a6aa81145e00]\n",
       "class E4--><a href=\"psysml:d526add9-9153-4d94-82de-e3d10cc7d584\" target=\"_top\" title=\"psysml:d526add9-9153-4d94-82de-e3d10cc7d584\" xlink:actuate=\"onRequest\" xlink:href=\"psysml:d526add9-9153-4d94-82de-e3d10cc7d584\" xlink:show=\"new\" xlink:title=\"psysml:d526add9-9153-4d94-82de-e3d10cc7d584\" xlink:type=\"simple\"><rect fill=\"#FFFFFF\" height=\"45.9375\" id=\"E4\" rx=\"10\" ry=\"10\" style=\"stroke: #383838; stroke-width: 1.5;\" width=\"42\" x=\"253\" y=\"98\"/><text fill=\"#000000\" font-family=\"sans-serif\" font-size=\"12\" font-style=\"italic\" lengthAdjust=\"spacingAndGlyphs\" textLength=\"40\" x=\"254\" y=\"114.1387\">«part»</text><text fill=\"#000000\" font-family=\"sans-serif\" font-size=\"12\" lengthAdjust=\"spacingAndGlyphs\" textLength=\"8\" x=\"270\" y=\"128.1074\">p</text><line style=\"stroke: #383838; stroke-width: 1.5;\" x1=\"254\" x2=\"294\" y1=\"135.9375\" y2=\"135.9375\"/></a><!--MD5=[270fce915f116d4de14055a7c1d9a0f3]\n",
       "class E5--><a href=\"psysml:12bd5d36-0dbf-4715-90c3-b0b875efee55\" target=\"_top\" title=\"psysml:12bd5d36-0dbf-4715-90c3-b0b875efee55\" xlink:actuate=\"onRequest\" xlink:href=\"psysml:12bd5d36-0dbf-4715-90c3-b0b875efee55\" xlink:show=\"new\" xlink:title=\"psysml:12bd5d36-0dbf-4715-90c3-b0b875efee55\" xlink:type=\"simple\"><rect fill=\"#FFFFFF\" height=\"45.9375\" id=\"E5\" rx=\"10\" ry=\"10\" style=\"stroke: #383838; stroke-width: 1.5;\" width=\"55\" x=\"162.5\" y=\"98\"/><text fill=\"#000000\" font-family=\"sans-serif\" font-size=\"12\" font-style=\"italic\" lengthAdjust=\"spacingAndGlyphs\" textLength=\"53\" x=\"163.5\" y=\"114.1387\">«action»</text><text fill=\"#000000\" font-family=\"sans-serif\" font-size=\"12\" lengthAdjust=\"spacingAndGlyphs\" textLength=\"20\" x=\"180\" y=\"128.1074\">act</text><line style=\"stroke: #383838; stroke-width: 1.5;\" x1=\"163.5\" x2=\"216.5\" y1=\"135.9375\" y2=\"135.9375\"/></a><!--MD5=[60a26617385b1d2d0262a64233df1f8d]\n",
       "class E6--><a href=\"psysml:b6aa9f25-72f8-4c2c-a7be-6589070e9bf6\" target=\"_top\" title=\"psysml:b6aa9f25-72f8-4c2c-a7be-6589070e9bf6\" xlink:actuate=\"onRequest\" xlink:href=\"psysml:b6aa9f25-72f8-4c2c-a7be-6589070e9bf6\" xlink:show=\"new\" xlink:title=\"psysml:b6aa9f25-72f8-4c2c-a7be-6589070e9bf6\" xlink:type=\"simple\"><rect fill=\"#FFFFFF\" height=\"160.375\" id=\"E6\" style=\"stroke: #383838; stroke-width: 1.5;\" width=\"95\" x=\"32.5\" y=\"41\"/><text fill=\"#000000\" font-family=\"sans-serif\" font-size=\"12\" font-style=\"italic\" lengthAdjust=\"spacingAndGlyphs\" textLength=\"71\" x=\"44.5\" y=\"57.1387\">«state def»</text><text fill=\"#000000\" font-family=\"sans-serif\" font-size=\"12\" lengthAdjust=\"spacingAndGlyphs\" textLength=\"8\" x=\"76\" y=\"71.1074\">S</text><line style=\"stroke: #383838; stroke-width: 1.5;\" x1=\"33.5\" x2=\"126.5\" y1=\"78.9375\" y2=\"78.9375\"/><text fill=\"#000000\" font-family=\"sans-serif\" font-size=\"11\" lengthAdjust=\"spacingAndGlyphs\" textLength=\"17\" x=\"38.5\" y=\"109.9526\">act</text><text fill=\"#000000\" font-family=\"sans-serif\" font-size=\"11\" lengthAdjust=\"spacingAndGlyphs\" textLength=\"7\" x=\"38.5\" y=\"122.7573\">A</text><text fill=\"#000000\" font-family=\"sans-serif\" font-size=\"11\" lengthAdjust=\"spacingAndGlyphs\" textLength=\"8\" x=\"38.5\" y=\"135.562\">B</text><line style=\"stroke: #383838; stroke-width: 1.0;\" x1=\"33.5\" x2=\"36.5\" y1=\"93.3398\" y2=\"93.3398\"/><text fill=\"#000000\" font-family=\"sans-serif\" font-size=\"11\" lengthAdjust=\"spacingAndGlyphs\" textLength=\"87\" x=\"36.5\" y=\"96.6479\">performActions</text><line style=\"stroke: #383838; stroke-width: 1.0;\" x1=\"123.5\" x2=\"126.5\" y1=\"93.3398\" y2=\"93.3398\"/><text fill=\"#000000\" font-family=\"sans-serif\" font-size=\"11\" lengthAdjust=\"spacingAndGlyphs\" textLength=\"15\" x=\"38.5\" y=\"165.1714\">S1</text><line style=\"stroke: #383838; stroke-width: 1.0;\" x1=\"33.5\" x2=\"62\" y1=\"148.5586\" y2=\"148.5586\"/><text fill=\"#000000\" font-family=\"sans-serif\" font-size=\"11\" lengthAdjust=\"spacingAndGlyphs\" textLength=\"36\" x=\"62\" y=\"151.8667\">states</text><line style=\"stroke: #383838; stroke-width: 1.0;\" x1=\"98\" x2=\"126.5\" y1=\"148.5586\" y2=\"148.5586\"/><text fill=\"#000000\" font-family=\"sans-serif\" font-size=\"11\" lengthAdjust=\"spacingAndGlyphs\" textLength=\"7\" x=\"38.5\" y=\"194.7808\">T</text><line style=\"stroke: #383838; stroke-width: 1.0;\" x1=\"33.5\" x2=\"49.5\" y1=\"178.168\" y2=\"178.168\"/><text fill=\"#000000\" font-family=\"sans-serif\" font-size=\"11\" lengthAdjust=\"spacingAndGlyphs\" textLength=\"61\" x=\"49.5\" y=\"181.4761\">transitions</text><line style=\"stroke: #383838; stroke-width: 1.0;\" x1=\"110.5\" x2=\"126.5\" y1=\"178.168\" y2=\"178.168\"/></a><!--MD5=[1dd1bfd58a279cf63c5f349dbc8fc6a1]\n",
       "class E11--><a href=\"psysml:7a7b17a9-f595-41dc-990f-a07a1c17ba3c\" target=\"_top\" title=\"psysml:7a7b17a9-f595-41dc-990f-a07a1c17ba3c\" xlink:actuate=\"onRequest\" xlink:href=\"psysml:7a7b17a9-f595-41dc-990f-a07a1c17ba3c\" xlink:show=\"new\" xlink:title=\"psysml:7a7b17a9-f595-41dc-990f-a07a1c17ba3c\" xlink:type=\"simple\"><rect fill=\"#FFFFFF\" height=\"45.9375\" id=\"E11\" rx=\"10\" ry=\"10\" style=\"stroke: #383838; stroke-width: 1.5;\" width=\"49\" x=\"55.5\" y=\"261\"/><text fill=\"#000000\" font-family=\"sans-serif\" font-size=\"12\" font-style=\"italic\" lengthAdjust=\"spacingAndGlyphs\" textLength=\"47\" x=\"56.5\" y=\"277.1387\">«state»</text><text fill=\"#000000\" font-family=\"sans-serif\" font-size=\"12\" lengthAdjust=\"spacingAndGlyphs\" textLength=\"16\" x=\"72\" y=\"291.1074\">S2</text><line style=\"stroke: #383838; stroke-width: 1.5;\" x1=\"56.5\" x2=\"103.5\" y1=\"298.9375\" y2=\"298.9375\"/></a><!--MD5=[49a0ec8f00dab7302a31f22d0f0fe584]\n",
       "class E12--><a href=\"psysml:fce0e4a1-8edc-4c38-93d6-a3b5e3670b25\" target=\"_top\" title=\"psysml:fce0e4a1-8edc-4c38-93d6-a3b5e3670b25\" xlink:actuate=\"onRequest\" xlink:href=\"psysml:fce0e4a1-8edc-4c38-93d6-a3b5e3670b25\" xlink:show=\"new\" xlink:title=\"psysml:fce0e4a1-8edc-4c38-93d6-a3b5e3670b25\" xlink:type=\"simple\"><rect fill=\"#FFFFFF\" height=\"75.5469\" id=\"E12\" rx=\"10\" ry=\"10\" style=\"stroke: #383838; stroke-width: 1.5;\" width=\"90\" x=\"35\" y=\"367\"/><text fill=\"#000000\" font-family=\"sans-serif\" font-size=\"12\" font-style=\"italic\" lengthAdjust=\"spacingAndGlyphs\" textLength=\"88\" x=\"36\" y=\"383.1387\">«send action»</text><text fill=\"#000000\" font-family=\"sans-serif\" font-size=\"12\" lengthAdjust=\"spacingAndGlyphs\" textLength=\"55\" x=\"52.5\" y=\"397.1074\">doAction</text><line style=\"stroke: #383838; stroke-width: 1.5;\" x1=\"36\" x2=\"124\" y1=\"404.9375\" y2=\"404.9375\"/><text fill=\"#000000\" font-family=\"sans-serif\" font-size=\"11\" lengthAdjust=\"spacingAndGlyphs\" textLength=\"25\" x=\"41\" y=\"435.9526\">item</text><line style=\"stroke: #383838; stroke-width: 1.0;\" x1=\"36\" x2=\"42.5\" y1=\"419.3398\" y2=\"419.3398\"/><text fill=\"#000000\" font-family=\"sans-serif\" font-size=\"11\" lengthAdjust=\"spacingAndGlyphs\" textLength=\"75\" x=\"42.5\" y=\"422.6479\">itemFeatures</text><line style=\"stroke: #383838; stroke-width: 1.0;\" x1=\"117.5\" x2=\"124\" y1=\"419.3398\" y2=\"419.3398\"/></a><!--MD5=[1f5f03483f7de0d5b3680a7f6650997f]\n",
       "reverse link E6 to E11--><a href=\"psysml:7a7b17a9-f595-41dc-990f-a07a1c17ba3c\" target=\"_top\" title=\"psysml:7a7b17a9-f595-41dc-990f-a07a1c17ba3c\" xlink:actuate=\"onRequest\" xlink:href=\"psysml:7a7b17a9-f595-41dc-990f-a07a1c17ba3c\" xlink:show=\"new\" xlink:title=\"psysml:7a7b17a9-f595-41dc-990f-a07a1c17ba3c\" xlink:type=\"simple\"><path d=\"M80,214.07 C80,214.07 80,260.85 80,260.85 \" fill=\"none\" id=\"E6&lt;-E11\" style=\"stroke: #383838; stroke-width: 1.0;\"/><polygon fill=\"#383838\" points=\"80,201.07,76,207.07,80,213.07,84,207.07,80,201.07\" style=\"stroke: #383838; stroke-width: 1.0;\"/></a><!--MD5=[94adabc162ce7e41b39f13be14fbaeb3]\n",
       "reverse link E11 to E12--><a href=\"psysml:fce0e4a1-8edc-4c38-93d6-a3b5e3670b25\" target=\"_top\" title=\"psysml:fce0e4a1-8edc-4c38-93d6-a3b5e3670b25\" xlink:actuate=\"onRequest\" xlink:href=\"psysml:fce0e4a1-8edc-4c38-93d6-a3b5e3670b25\" xlink:show=\"new\" xlink:title=\"psysml:fce0e4a1-8edc-4c38-93d6-a3b5e3670b25\" xlink:type=\"simple\"><path d=\"M80,320.04 C80,320.04 80,366.81 80,366.81 \" fill=\"none\" id=\"E11&lt;-E12\" style=\"stroke: #383838; stroke-width: 1.0;\"/><polygon fill=\"#FFFFFF\" points=\"80,307.04,76,313.04,80,319.04,84,313.04,80,307.04\" style=\"stroke: #383838; stroke-width: 1.0;\"/></a><!--MD5=[c4b8d3a3f5aa7445de747035a2a48a69]\n",
       "@startuml\r\n",
       "skinparam linetype ortho\r\n",
       "skinparam monochrome true\r\n",
       "skinparam classbackgroundcolor white\r\n",
       "skinparam shadowing false\r\n",
       "skinparam wrapWidth 300\r\n",
       "hide circle\r\n",
       "\r\n",
       "package \"StateTest\" as E1  [[psysml:a2ca8720-bd4b-4556-9b27-091331149f1f ]]  {\r\n",
       "comp def \"Sig\" as E2  <<(T,blue)attribute def>> [[psysml:9b0c6b07-76e0-48e6-88f4-e6a2c752e8e3 ]] {\r\n",
       "- - attributes - -\r\n",
       "x\r\n",
       "}\r\n",
       "comp def \"Exit\" as E3  <<(T,blue)attribute def>> [[psysml:75ee6cec-68f4-495e-910b-3cf4854ee540 ]] {\r\n",
       "}\r\n",
       "comp usage \"p\" as E4  <<(T,blue)part>> [[psysml:d526add9-9153-4d94-82de-e3d10cc7d584 ]] {\r\n",
       "}\r\n",
       "comp usage \"act\" as E5  <<(T,blue)action>> [[psysml:12bd5d36-0dbf-4715-90c3-b0b875efee55 ]] {\r\n",
       "}\r\n",
       "comp def \"S\" as E6  <<(T,blue)state def>> [[psysml:b6aa9f25-72f8-4c2c-a7be-6589070e9bf6 ]] {\r\n",
       "- - performActions - -\r\n",
       "act\r\n",
       "A\r\n",
       "B\r\n",
       "- - states - -\r\n",
       "S1\r\n",
       "- - transitions - -\r\n",
       "T\r\n",
       "}\r\n",
       "comp usage \"S2\" as E11  <<(T,blue)state>> [[psysml:7a7b17a9-f595-41dc-990f-a07a1c17ba3c ]] {\r\n",
       "}\r\n",
       "comp usage \"doAction\" as E12 <<send action>> [[psysml:fce0e4a1-8edc-4c38-93d6-a3b5e3670b25 ]] {\r\n",
       "- - itemFeatures - -\r\n",
       "item\r\n",
       "}\r\n",
       "E6 *- - E11 [[psysml:7a7b17a9-f595-41dc-990f-a07a1c17ba3c ]] \r\n",
       "E11 o- - E12 [[psysml:fce0e4a1-8edc-4c38-93d6-a3b5e3670b25 ]] \r\n",
       "}\r\n",
       "@enduml\r\n",
       "\n",
       "PlantUML version 1.2020.13(Sat Jun 13 12:26:38 UTC 2020)\n",
       "(EPL source distribution)\n",
       "Java Runtime: OpenJDK Runtime Environment\n",
       "JVM: OpenJDK 64-Bit Server VM\n",
       "Default Encoding: UTF-8\n",
       "Language: en\n",
       "Country: null\n",
       "--></g></svg>"
      ]
     },
     "execution_count": 52,
     "metadata": {},
     "output_type": "execute_result"
    }
   ],
   "source": [
    "%viz --style=\"ORTHOLINE\" --view=\"Tree\" \"StateTest\""
   ]
  },
  {
   "cell_type": "code",
   "execution_count": 53,
   "id": "solid-hartford",
   "metadata": {
    "execution": {
     "iopub.execute_input": "2021-03-25T15:07:06.478421Z",
     "iopub.status.busy": "2021-03-25T15:07:06.477755Z",
     "iopub.status.idle": "2021-03-25T15:07:06.594581Z",
     "shell.execute_reply": "2021-03-25T15:07:06.592853Z"
    }
   },
   "outputs": [
    {
     "data": {
      "image/svg+xml": [
       "<?xml version=\"1.0\" encoding=\"UTF-8\" standalone=\"no\"?><svg xmlns=\"http://www.w3.org/2000/svg\" xmlns:xlink=\"http://www.w3.org/1999/xlink\" contentScriptType=\"application/ecmascript\" contentStyleType=\"text/css\" height=\"475px\" preserveAspectRatio=\"none\" style=\"width:346px;height:475px;\" version=\"1.1\" viewBox=\"0 0 346 475\" width=\"346px\" zoomAndPan=\"magnify\"><defs/><g><!--MD5=[fbc87193dbaf4d95561dea2c320d4a47]\n",
       "cluster E1--><a href=\"psysml:b6aa9f25-72f8-4c2c-a7be-6589070e9bf6\" target=\"_top\" title=\"psysml:b6aa9f25-72f8-4c2c-a7be-6589070e9bf6\" xlink:actuate=\"onRequest\" xlink:href=\"psysml:b6aa9f25-72f8-4c2c-a7be-6589070e9bf6\" xlink:show=\"new\" xlink:title=\"psysml:b6aa9f25-72f8-4c2c-a7be-6589070e9bf6\" xlink:type=\"simple\"><rect fill=\"#FFFFFF\" height=\"457\" id=\"E1\" style=\"stroke: #383838; stroke-width: 1.5;\" width=\"327\" x=\"7\" y=\"7\"/><rect fill=\"#F8F8F8\" height=\"37.9375\" style=\"stroke: #383838; stroke-width: 1.5;\" width=\"327\" x=\"7\" y=\"7\"/><text fill=\"#000000\" font-family=\"sans-serif\" font-size=\"12\" font-style=\"italic\" lengthAdjust=\"spacingAndGlyphs\" textLength=\"71\" x=\"135\" y=\"23.1387\">«state def»</text><text fill=\"#000000\" font-family=\"sans-serif\" font-size=\"12\" lengthAdjust=\"spacingAndGlyphs\" textLength=\"8\" x=\"166.5\" y=\"37.1074\">S</text><line style=\"stroke: #383838; stroke-width: 1.0;\" x1=\"7\" x2=\"334\" y1=\"90.8438\" y2=\"90.8438\"/><text fill=\"#000000\" font-family=\"sans-serif\" font-size=\"12\" font-weight=\"bold\" lengthAdjust=\"spacingAndGlyphs\" textLength=\"38\" x=\"12\" y=\"58.0762\">entry</text><text fill=\"#000000\" font-family=\"sans-serif\" font-size=\"12\" lengthAdjust=\"spacingAndGlyphs\" textLength=\"16\" x=\"50\" y=\"58.0762\">/ A</text><text fill=\"#000000\" font-family=\"sans-serif\" font-size=\"12\" font-weight=\"bold\" lengthAdjust=\"spacingAndGlyphs\" textLength=\"18\" x=\"12\" y=\"72.0449\">do</text><text fill=\"#000000\" font-family=\"sans-serif\" font-size=\"12\" lengthAdjust=\"spacingAndGlyphs\" textLength=\"16\" x=\"30\" y=\"72.0449\">/ B</text><text fill=\"#000000\" font-family=\"sans-serif\" font-size=\"12\" font-weight=\"bold\" lengthAdjust=\"spacingAndGlyphs\" textLength=\"26\" x=\"12\" y=\"86.0137\">exit</text><text fill=\"#000000\" font-family=\"sans-serif\" font-size=\"12\" lengthAdjust=\"spacingAndGlyphs\" textLength=\"28\" x=\"38\" y=\"86.0137\">/ act</text></a><ellipse cx=\"119\" cy=\"115\" fill=\"#000000\" rx=\"10\" ry=\"10\" style=\"stroke: none; stroke-width: 1.0;\"/><ellipse cx=\"119\" cy=\"438\" fill=\"none\" rx=\"10\" ry=\"10\" style=\"stroke: #000000; stroke-width: 1.0;\"/><ellipse cx=\"119.5\" cy=\"438.5\" fill=\"#000000\" rx=\"6\" ry=\"6\" style=\"stroke: none; stroke-width: 1.0;\"/><g id=\"E1.E2\"><a href=\"psysml:1cabaaec-9539-448a-9df0-432fc817479b\" target=\"_top\" title=\"psysml:1cabaaec-9539-448a-9df0-432fc817479b\" xlink:actuate=\"onRequest\" xlink:href=\"psysml:1cabaaec-9539-448a-9df0-432fc817479b\" xlink:show=\"new\" xlink:title=\"psysml:1cabaaec-9539-448a-9df0-432fc817479b\" xlink:type=\"simple\"><rect fill=\"#FFFFFF\" height=\"40\" id=\"E2\" rx=\"10\" ry=\"10\" style=\"stroke: #383838; stroke-width: 1.5;\" width=\"50\" x=\"94\" y=\"186\"/><rect fill=\"#F8F8F8\" height=\"23.9688\" rx=\"10\" ry=\"10\" style=\"stroke: #F8F8F8; stroke-width: 1.5;\" width=\"50\" x=\"94\" y=\"186\"/><rect fill=\"#F8F8F8\" height=\"10\" style=\"stroke: #F8F8F8; stroke-width: 1.5;\" width=\"50\" x=\"94\" y=\"199.9688\"/><rect fill=\"none\" height=\"40\" id=\"E2\" rx=\"10\" ry=\"10\" style=\"stroke: #383838; stroke-width: 1.5;\" width=\"50\" x=\"94\" y=\"186\"/><text fill=\"#000000\" font-family=\"sans-serif\" font-size=\"12\" lengthAdjust=\"spacingAndGlyphs\" textLength=\"16\" x=\"111\" y=\"202.1387\">S1</text></a></g><g id=\"E1.E3\"><a href=\"psysml:7a7b17a9-f595-41dc-990f-a07a1c17ba3c\" target=\"_top\" title=\"psysml:7a7b17a9-f595-41dc-990f-a07a1c17ba3c\" xlink:actuate=\"onRequest\" xlink:href=\"psysml:7a7b17a9-f595-41dc-990f-a07a1c17ba3c\" xlink:show=\"new\" xlink:title=\"psysml:7a7b17a9-f595-41dc-990f-a07a1c17ba3c\" xlink:type=\"simple\"><rect fill=\"#FFFFFF\" height=\"47.9375\" id=\"E3\" rx=\"10\" ry=\"10\" style=\"stroke: #383838; stroke-width: 1.5;\" width=\"50\" x=\"94\" y=\"303\"/><rect fill=\"#F8F8F8\" height=\"23.9688\" rx=\"10\" ry=\"10\" style=\"stroke: #F8F8F8; stroke-width: 1.5;\" width=\"50\" x=\"94\" y=\"303\"/><rect fill=\"#F8F8F8\" height=\"10\" style=\"stroke: #F8F8F8; stroke-width: 1.5;\" width=\"50\" x=\"94\" y=\"316.9688\"/><rect fill=\"none\" height=\"47.9375\" id=\"E3\" rx=\"10\" ry=\"10\" style=\"stroke: #383838; stroke-width: 1.5;\" width=\"50\" x=\"94\" y=\"303\"/><text fill=\"#000000\" font-family=\"sans-serif\" font-size=\"12\" lengthAdjust=\"spacingAndGlyphs\" textLength=\"16\" x=\"111\" y=\"319.1387\">S2</text><line style=\"stroke: #383838; stroke-width: 1.0;\" x1=\"94\" x2=\"144\" y1=\"326.9688\" y2=\"326.9688\"/><text fill=\"#000000\" font-family=\"sans-serif\" font-size=\"12\" font-weight=\"bold\" lengthAdjust=\"spacingAndGlyphs\" textLength=\"18\" x=\"99\" y=\"340.1074\">do</text><text fill=\"#000000\" font-family=\"sans-serif\" font-size=\"12\" lengthAdjust=\"spacingAndGlyphs\" textLength=\"4\" x=\"117\" y=\"340.1074\">/</text></a></g><!--MD5=[cff944eb183b832d446717a4e202d613]\n",
       "link *start*E1 to E2--><a href=\"psysml:0b737fa2-1baa-4df5-913b-a090a33456a1\" target=\"_top\" title=\"psysml:0b737fa2-1baa-4df5-913b-a090a33456a1\" xlink:actuate=\"onRequest\" xlink:href=\"psysml:0b737fa2-1baa-4df5-913b-a090a33456a1\" xlink:show=\"new\" xlink:title=\"psysml:0b737fa2-1baa-4df5-913b-a090a33456a1\" xlink:type=\"simple\"><path d=\"M119,125.09 C119,125.09 119,180.93 119,180.93 \" fill=\"none\" id=\"*start*E1-&gt;E2\" style=\"stroke: #383838; stroke-width: 1.0;\"/><polygon fill=\"#383838\" points=\"119,185.93,123,176.93,119,180.93,115,176.93,119,185.93\" style=\"stroke: #383838; stroke-width: 1.0;\"/></a><!--MD5=[9ee7afa76ca8c509b3d216624c3a9893]\n",
       "link E3 to *end*E1--><a href=\"psysml:a8c9411f-d651-41a0-86c1-118f6cba8c1d\" target=\"_top\" title=\"psysml:a8c9411f-d651-41a0-86c1-118f6cba8c1d\" xlink:actuate=\"onRequest\" xlink:href=\"psysml:a8c9411f-d651-41a0-86c1-118f6cba8c1d\" xlink:show=\"new\" xlink:title=\"psysml:a8c9411f-d651-41a0-86c1-118f6cba8c1d\" xlink:type=\"simple\"><path d=\"M119,351.09 C119,351.09 119,422.94 119,422.94 \" fill=\"none\" id=\"E3-&gt;*end*E1\" style=\"stroke: #383838; stroke-width: 1.0;\"/><polygon fill=\"#383838\" points=\"119,427.94,123,418.94,119,422.94,115,418.94,119,427.94\" style=\"stroke: #383838; stroke-width: 1.0;\"/><text fill=\"#000000\" font-family=\"sans-serif\" font-size=\"13\" lengthAdjust=\"spacingAndGlyphs\" textLength=\"23\" x=\"120\" y=\"394.0669\">Exit</text></a><!--MD5=[2720a5a1f2c3fca2055b230370638851]\n",
       "link E2 to E3--><a href=\"psysml:eefcc534-c981-4425-9bf3-38251bd12a49\" target=\"_top\" title=\"psysml:eefcc534-c981-4425-9bf3-38251bd12a49\" xlink:actuate=\"onRequest\" xlink:href=\"psysml:eefcc534-c981-4425-9bf3-38251bd12a49\" xlink:show=\"new\" xlink:title=\"psysml:eefcc534-c981-4425-9bf3-38251bd12a49\" xlink:type=\"simple\"><path d=\"M110.67,226.25 C110.67,226.25 110.67,297.93 110.67,297.93 \" fill=\"none\" id=\"E2-&gt;E3\" style=\"stroke: #383838; stroke-width: 1.0;\"/><polygon fill=\"#383838\" points=\"110.67,302.93,114.67,293.93,110.67,297.93,106.67,293.93,110.67,302.93\" style=\"stroke: #383838; stroke-width: 1.0;\"/><text fill=\"#000000\" font-family=\"sans-serif\" font-size=\"13\" lengthAdjust=\"spacingAndGlyphs\" textLength=\"81\" x=\"59\" y=\"269.0669\">Sig /action D</text></a><!--MD5=[05d275557350bfb9b23a4ef7222b4c39]\n",
       "link E3 to E2--><a href=\"psysml:bcd703ca-2055-4c24-98bc-6c579eb31483\" target=\"_top\" title=\"psysml:bcd703ca-2055-4c24-98bc-6c579eb31483\" xlink:actuate=\"onRequest\" xlink:href=\"psysml:bcd703ca-2055-4c24-98bc-6c579eb31483\" xlink:show=\"new\" xlink:title=\"psysml:bcd703ca-2055-4c24-98bc-6c579eb31483\" xlink:type=\"simple\"><path d=\"M127.33,302.8 C127.33,302.8 127.33,231.14 127.33,231.14 \" fill=\"none\" id=\"E3-&gt;E2\" style=\"stroke: #383838; stroke-width: 1.0;\"/><polygon fill=\"#383838\" points=\"127.33,226.14,123.33,235.14,127.33,231.14,131.33,235.14,127.33,226.14\" style=\"stroke: #383838; stroke-width: 1.0;\"/><text fill=\"#000000\" font-family=\"sans-serif\" font-size=\"13\" lengthAdjust=\"spacingAndGlyphs\" textLength=\"135\" x=\"182\" y=\"269.0669\">Sig [true]/send s to p</text></a><!--MD5=[c2e4c046669a5aa5ac088eab18c0471e]\n",
       "@startuml\r\n",
       "skinparam linetype ortho\r\n",
       "skinparam monochrome true\r\n",
       "skinparam classbackgroundcolor white\r\n",
       "skinparam shadowing false\r\n",
       "skinparam wrapWidth 300\r\n",
       "hide circle\r\n",
       "\r\n",
       "rec def \"S\" as E1  <<(T,blue)state def>> [[psysml:b6aa9f25-72f8-4c2c-a7be-6589070e9bf6 ]] {\r\n",
       "rec usage \"S1\" as E2 [[psysml:1cabaaec-9539-448a-9df0-432fc817479b ]] {\r\n",
       "}\r\n",
       "\r\n",
       "rec usage \"S2\" as E3 [[psysml:7a7b17a9-f595-41dc-990f-a07a1c17ba3c ]] {\r\n",
       "desc \"S2\" as E3  : **do**/ \r\n",
       "}\r\n",
       "\r\n",
       "[*] - -> E2 [[psysml:0b737fa2-1baa-4df5-913b-a090a33456a1 ]] \r\n",
       "E3  - -> [*] [[psysml:a8c9411f-d651-41a0-86c1-118f6cba8c1d ]] : Exit \r\n",
       "desc \"S\" as E1  : **entry**/ A\r\n",
       "desc \"S\" as E1  : **do**/ B\r\n",
       "desc \"S\" as E1  : **exit**/ act \r\n",
       "}\r\n",
       "\r\n",
       "E2  - -> E3 [[psysml:eefcc534-c981-4425-9bf3-38251bd12a49 ]] : Sig /action D\r\n",
       "E3  - -> E2 [[psysml:bcd703ca-2055-4c24-98bc-6c579eb31483 ]] : Sig [true]/send s to p\r\n",
       "@enduml\r\n",
       "\n",
       "PlantUML version 1.2020.13(Sat Jun 13 12:26:38 UTC 2020)\n",
       "(EPL source distribution)\n",
       "Java Runtime: OpenJDK Runtime Environment\n",
       "JVM: OpenJDK 64-Bit Server VM\n",
       "Default Encoding: UTF-8\n",
       "Language: en\n",
       "Country: null\n",
       "--></g></svg>"
      ]
     },
     "execution_count": 53,
     "metadata": {},
     "output_type": "execute_result"
    }
   ],
   "source": [
    "%viz --style=\"ORTHOLINE\" --view=\"State\" \"StateTest\""
   ]
  },
  {
   "cell_type": "code",
   "execution_count": 54,
   "id": "available-basement",
   "metadata": {
    "execution": {
     "iopub.execute_input": "2021-03-25T15:07:06.644379Z",
     "iopub.status.busy": "2021-03-25T15:07:06.643997Z",
     "iopub.status.idle": "2021-03-25T15:07:06.721146Z",
     "shell.execute_reply": "2021-03-25T15:07:06.719453Z"
    }
   },
   "outputs": [
    {
     "data": {
      "image/svg+xml": [
       "<?xml version=\"1.0\" encoding=\"UTF-8\" standalone=\"no\"?><svg xmlns=\"http://www.w3.org/2000/svg\" xmlns:xlink=\"http://www.w3.org/1999/xlink\" contentScriptType=\"application/ecmascript\" contentStyleType=\"text/css\" height=\"123px\" preserveAspectRatio=\"none\" style=\"width:728px;height:123px;\" version=\"1.1\" viewBox=\"0 0 728 123\" width=\"728px\" zoomAndPan=\"magnify\"><defs/><g><!--MD5=[fbc87193dbaf4d95561dea2c320d4a47]\n",
       "cluster E1--><a href=\"psysml:a2ca8720-bd4b-4556-9b27-091331149f1f\" target=\"_top\" title=\"psysml:a2ca8720-bd4b-4556-9b27-091331149f1f\" xlink:actuate=\"onRequest\" xlink:href=\"psysml:a2ca8720-bd4b-4556-9b27-091331149f1f\" xlink:show=\"new\" xlink:title=\"psysml:a2ca8720-bd4b-4556-9b27-091331149f1f\" xlink:type=\"simple\"><polygon fill=\"#FFFFFF\" points=\"16,6,98,6,105,28.2969,706,28.2969,706,111,16,111,16,6\" style=\"stroke: #000000; stroke-width: 1.5;\"/><line style=\"stroke: #000000; stroke-width: 1.5;\" x1=\"16\" x2=\"105\" y1=\"28.2969\" y2=\"28.2969\"/><text fill=\"#000000\" font-family=\"sans-serif\" font-size=\"14\" font-weight=\"bold\" lengthAdjust=\"spacingAndGlyphs\" textLength=\"76\" x=\"20\" y=\"20.9951\">StateTest</text></a><!--MD5=[b4997ac47864f28c2f74865a473b2911]\n",
       "class E2--><a href=\"psysml:9b0c6b07-76e0-48e6-88f4-e6a2c752e8e3\" target=\"_top\" title=\"psysml:9b0c6b07-76e0-48e6-88f4-e6a2c752e8e3\" xlink:actuate=\"onRequest\" xlink:href=\"psysml:9b0c6b07-76e0-48e6-88f4-e6a2c752e8e3\" xlink:show=\"new\" xlink:title=\"psysml:9b0c6b07-76e0-48e6-88f4-e6a2c752e8e3\" xlink:type=\"simple\"><rect fill=\"#FFFFFF\" height=\"53.9375\" id=\"E2\" style=\"stroke: #383838; stroke-width: 1.5;\" width=\"143\" x=\"546.5\" y=\"41\"/><text fill=\"#000000\" font-family=\"sans-serif\" font-size=\"12\" font-style=\"italic\" lengthAdjust=\"spacingAndGlyphs\" textLength=\"141\" x=\"547.5\" y=\"57.1387\">«(T,blue)attribute def»</text><text fill=\"#000000\" font-family=\"sans-serif\" font-size=\"12\" lengthAdjust=\"spacingAndGlyphs\" textLength=\"19\" x=\"608.5\" y=\"71.1074\">Sig</text><line style=\"stroke: #383838; stroke-width: 1.5;\" x1=\"547.5\" x2=\"688.5\" y1=\"78.9375\" y2=\"78.9375\"/><line style=\"stroke: #383838; stroke-width: 1.5;\" x1=\"547.5\" x2=\"688.5\" y1=\"86.9375\" y2=\"86.9375\"/></a><!--MD5=[09b614a08d8cba4a07c9adeb5e0fee81]\n",
       "class E3--><a href=\"psysml:75ee6cec-68f4-495e-910b-3cf4854ee540\" target=\"_top\" title=\"psysml:75ee6cec-68f4-495e-910b-3cf4854ee540\" xlink:actuate=\"onRequest\" xlink:href=\"psysml:75ee6cec-68f4-495e-910b-3cf4854ee540\" xlink:show=\"new\" xlink:title=\"psysml:75ee6cec-68f4-495e-910b-3cf4854ee540\" xlink:type=\"simple\"><rect fill=\"#FFFFFF\" height=\"53.9375\" id=\"E3\" style=\"stroke: #383838; stroke-width: 1.5;\" width=\"143\" x=\"368.5\" y=\"41\"/><text fill=\"#000000\" font-family=\"sans-serif\" font-size=\"12\" font-style=\"italic\" lengthAdjust=\"spacingAndGlyphs\" textLength=\"141\" x=\"369.5\" y=\"57.1387\">«(T,blue)attribute def»</text><text fill=\"#000000\" font-family=\"sans-serif\" font-size=\"12\" lengthAdjust=\"spacingAndGlyphs\" textLength=\"22\" x=\"429\" y=\"71.1074\">Exit</text><line style=\"stroke: #383838; stroke-width: 1.5;\" x1=\"369.5\" x2=\"510.5\" y1=\"78.9375\" y2=\"78.9375\"/><line style=\"stroke: #383838; stroke-width: 1.5;\" x1=\"369.5\" x2=\"510.5\" y1=\"86.9375\" y2=\"86.9375\"/></a><!--MD5=[60a26617385b1d2d0262a64233df1f8d]\n",
       "class E6--><a href=\"psysml:b6aa9f25-72f8-4c2c-a7be-6589070e9bf6\" target=\"_top\" title=\"psysml:b6aa9f25-72f8-4c2c-a7be-6589070e9bf6\" xlink:actuate=\"onRequest\" xlink:href=\"psysml:b6aa9f25-72f8-4c2c-a7be-6589070e9bf6\" xlink:show=\"new\" xlink:title=\"psysml:b6aa9f25-72f8-4c2c-a7be-6589070e9bf6\" xlink:type=\"simple\"><rect fill=\"#FFFFFF\" height=\"53.9375\" id=\"E6\" style=\"stroke: #383838; stroke-width: 1.5;\" width=\"121\" x=\"212.5\" y=\"41\"/><text fill=\"#000000\" font-family=\"sans-serif\" font-size=\"12\" font-style=\"italic\" lengthAdjust=\"spacingAndGlyphs\" textLength=\"119\" x=\"213.5\" y=\"57.1387\">«(T,blue)state def»</text><text fill=\"#000000\" font-family=\"sans-serif\" font-size=\"12\" lengthAdjust=\"spacingAndGlyphs\" textLength=\"8\" x=\"269\" y=\"71.1074\">S</text><line style=\"stroke: #383838; stroke-width: 1.5;\" x1=\"213.5\" x2=\"332.5\" y1=\"78.9375\" y2=\"78.9375\"/><line style=\"stroke: #383838; stroke-width: 1.5;\" x1=\"213.5\" x2=\"332.5\" y1=\"86.9375\" y2=\"86.9375\"/></a><g id=\"E1.E4\"><a href=\"psysml:d526add9-9153-4d94-82de-e3d10cc7d584\" target=\"_top\" title=\"psysml:d526add9-9153-4d94-82de-e3d10cc7d584\" xlink:actuate=\"onRequest\" xlink:href=\"psysml:d526add9-9153-4d94-82de-e3d10cc7d584\" xlink:show=\"new\" xlink:title=\"psysml:d526add9-9153-4d94-82de-e3d10cc7d584\" xlink:type=\"simple\"><rect fill=\"#FFFFFF\" height=\"40\" id=\"E4\" rx=\"10\" ry=\"10\" style=\"stroke: #383838; stroke-width: 1.5;\" width=\"50\" x=\"127\" y=\"48\"/><rect fill=\"#F8F8F8\" height=\"23.9688\" rx=\"10\" ry=\"10\" style=\"stroke: #F8F8F8; stroke-width: 1.5;\" width=\"50\" x=\"127\" y=\"48\"/><rect fill=\"#F8F8F8\" height=\"10\" style=\"stroke: #F8F8F8; stroke-width: 1.5;\" width=\"50\" x=\"127\" y=\"61.9688\"/><rect fill=\"none\" height=\"40\" id=\"E4\" rx=\"10\" ry=\"10\" style=\"stroke: #383838; stroke-width: 1.5;\" width=\"50\" x=\"127\" y=\"48\"/><text fill=\"#000000\" font-family=\"sans-serif\" font-size=\"12\" lengthAdjust=\"spacingAndGlyphs\" textLength=\"8\" x=\"148\" y=\"64.1387\">p</text></a></g><g id=\"E1.E5\"><a href=\"psysml:12bd5d36-0dbf-4715-90c3-b0b875efee55\" target=\"_top\" title=\"psysml:12bd5d36-0dbf-4715-90c3-b0b875efee55\" xlink:actuate=\"onRequest\" xlink:href=\"psysml:12bd5d36-0dbf-4715-90c3-b0b875efee55\" xlink:show=\"new\" xlink:title=\"psysml:12bd5d36-0dbf-4715-90c3-b0b875efee55\" xlink:type=\"simple\"><rect fill=\"#FFFFFF\" height=\"42.9375\" id=\"E5\" rx=\"10\" ry=\"10\" style=\"stroke: #383838; stroke-width: 1.5;\" width=\"60\" x=\"32\" y=\"46.5\"/><rect fill=\"#F8F8F8\" height=\"37.9375\" rx=\"10\" ry=\"10\" style=\"stroke: #F8F8F8; stroke-width: 1.5;\" width=\"60\" x=\"32\" y=\"46.5\"/><rect fill=\"#F8F8F8\" height=\"10\" style=\"stroke: #F8F8F8; stroke-width: 1.5;\" width=\"60\" x=\"32\" y=\"74.4375\"/><rect fill=\"none\" height=\"42.9375\" id=\"E5\" rx=\"10\" ry=\"10\" style=\"stroke: #383838; stroke-width: 1.5;\" width=\"60\" x=\"32\" y=\"46.5\"/><text fill=\"#000000\" font-family=\"sans-serif\" font-size=\"12\" font-style=\"italic\" lengthAdjust=\"spacingAndGlyphs\" textLength=\"53\" x=\"35.5\" y=\"62.6387\">«action»</text><text fill=\"#000000\" font-family=\"sans-serif\" font-size=\"12\" lengthAdjust=\"spacingAndGlyphs\" textLength=\"20\" x=\"52\" y=\"76.6074\">act</text></a></g><!--MD5=[f2d3d1b61b1ea408597c19c2bc79d371]\n",
       "@startuml\r\n",
       "skinparam ranksep 8\r\n",
       "skinparam rectangle {\r\n",
       " backgroundColor<<block>> LightGreen\r\n",
       "}\r\n",
       "skinparam linetype ortho\r\n",
       "skinparam monochrome true\r\n",
       "skinparam classbackgroundcolor white\r\n",
       "skinparam shadowing false\r\n",
       "skinparam wrapWidth 300\r\n",
       "hide circle\r\n",
       "\r\n",
       "package \"StateTest\" as E1  [[psysml:a2ca8720-bd4b-4556-9b27-091331149f1f ]]  {\r\n",
       "def \"Sig\" as E2  <<(T,blue)attribute def>> [[psysml:9b0c6b07-76e0-48e6-88f4-e6a2c752e8e3 ]] \r\n",
       "def \"Exit\" as E3  <<(T,blue)attribute def>> [[psysml:75ee6cec-68f4-495e-910b-3cf4854ee540 ]] \r\n",
       "rec usage \"p\" as E4  [[psysml:d526add9-9153-4d94-82de-e3d10cc7d584 ]] {\r\n",
       "}\r\n",
       "rec usage \"act\" as E5  <<(T,blue)action>> [[psysml:12bd5d36-0dbf-4715-90c3-b0b875efee55 ]] {\r\n",
       "}\r\n",
       "def \"S\" as E6  <<(T,blue)state def>> [[psysml:b6aa9f25-72f8-4c2c-a7be-6589070e9bf6 ]] \r\n",
       "}\r\n",
       "@enduml\r\n",
       "\n",
       "PlantUML version 1.2020.13(Sat Jun 13 12:26:38 UTC 2020)\n",
       "(EPL source distribution)\n",
       "Java Runtime: OpenJDK Runtime Environment\n",
       "JVM: OpenJDK 64-Bit Server VM\n",
       "Default Encoding: UTF-8\n",
       "Language: en\n",
       "Country: null\n",
       "--></g></svg>"
      ]
     },
     "execution_count": 54,
     "metadata": {},
     "output_type": "execute_result"
    }
   ],
   "source": [
    "%viz --style=\"ORTHOLINE\" --view=\"Interconnection\" \"StateTest\""
   ]
  },
  {
   "cell_type": "code",
   "execution_count": 55,
   "id": "posted-height",
   "metadata": {
    "execution": {
     "iopub.execute_input": "2021-03-25T15:07:06.772129Z",
     "iopub.status.busy": "2021-03-25T15:07:06.771646Z",
     "iopub.status.idle": "2021-03-25T15:07:06.809112Z",
     "shell.execute_reply": "2021-03-25T15:07:06.807048Z"
    }
   },
   "outputs": [
    {
     "data": {
      "image/svg+xml": [
       "<?xml version=\"1.0\" encoding=\"UTF-8\" standalone=\"no\"?><svg xmlns=\"http://www.w3.org/2000/svg\" xmlns:xlink=\"http://www.w3.org/1999/xlink\" contentScriptType=\"application/ecmascript\" contentStyleType=\"text/css\" height=\"483px\" preserveAspectRatio=\"none\" style=\"width:788px;height:483px;background:#000000;\" version=\"1.1\" viewBox=\"0 0 788 483\" width=\"788px\" zoomAndPan=\"magnify\"><defs/><g><rect fill=\"#011523\" height=\"1\" style=\"stroke: #011523; stroke-width: 1.0;\" width=\"1\" x=\"0\" y=\"0\"/><rect fill=\"#33FF02\" height=\"21.2969\" style=\"stroke: #33FF02; stroke-width: 1.0;\" width=\"781\" x=\"5\" y=\"5\"/><text fill=\"#000000\" font-family=\"sans-serif\" font-size=\"14\" font-weight=\"bold\" lengthAdjust=\"spacingAndGlyphs\" textLength=\"178\" x=\"6\" y=\"20\">[From string (line 26) ]</text><text fill=\"#33FF02\" font-family=\"sans-serif\" font-size=\"14\" font-weight=\"bold\" lengthAdjust=\"spacingAndGlyphs\" textLength=\"0\" x=\"10\" y=\"40.2969\"/><text fill=\"#33FF02\" font-family=\"sans-serif\" font-size=\"14\" font-weight=\"bold\" lengthAdjust=\"spacingAndGlyphs\" textLength=\"79\" x=\"5\" y=\"56.5938\">@startuml</text><text fill=\"#33FF02\" font-family=\"sans-serif\" font-size=\"14\" font-weight=\"bold\" lengthAdjust=\"spacingAndGlyphs\" textLength=\"165\" x=\"5\" y=\"72.8906\">skinparam ranksep 8</text><text fill=\"#33FF02\" font-family=\"sans-serif\" font-size=\"14\" font-weight=\"bold\" lengthAdjust=\"spacingAndGlyphs\" textLength=\"197\" x=\"5\" y=\"89.1875\">skinparam linetype ortho</text><text fill=\"#33FF02\" font-family=\"sans-serif\" font-size=\"14\" font-weight=\"bold\" lengthAdjust=\"spacingAndGlyphs\" textLength=\"228\" x=\"5\" y=\"105.4844\">skinparam monochrome true</text><text fill=\"#33FF02\" font-family=\"sans-serif\" font-size=\"14\" font-weight=\"bold\" lengthAdjust=\"spacingAndGlyphs\" textLength=\"309\" x=\"5\" y=\"121.7813\">skinparam classbackgroundcolor white</text><text fill=\"#33FF02\" font-family=\"sans-serif\" font-size=\"14\" font-weight=\"bold\" lengthAdjust=\"spacingAndGlyphs\" textLength=\"215\" x=\"5\" y=\"138.0781\">skinparam shadowing false</text><text fill=\"#33FF02\" font-family=\"sans-serif\" font-size=\"14\" font-weight=\"bold\" lengthAdjust=\"spacingAndGlyphs\" textLength=\"206\" x=\"5\" y=\"154.375\">skinparam wrapWidth 300</text><text fill=\"#33FF02\" font-family=\"sans-serif\" font-size=\"14\" font-weight=\"bold\" lengthAdjust=\"spacingAndGlyphs\" textLength=\"82\" x=\"5\" y=\"170.6719\">hide circle</text><text fill=\"#33FF02\" font-family=\"sans-serif\" font-size=\"14\" font-weight=\"bold\" lengthAdjust=\"spacingAndGlyphs\" textLength=\"0\" x=\"10\" y=\"186.9688\"/><text fill=\"#33FF02\" font-family=\"sans-serif\" font-size=\"14\" font-weight=\"bold\" lengthAdjust=\"spacingAndGlyphs\" textLength=\"781\" x=\"5\" y=\"203.2656\">rec usage \"act\" as E1  &lt;&lt;(T,blue)action&gt;&gt; [[psysml:12bd5d36-0dbf-4715-90c3-b0b875efee55 ]] {</text><text fill=\"#33FF02\" font-family=\"sans-serif\" font-size=\"14\" font-weight=\"bold\" lengthAdjust=\"spacingAndGlyphs\" textLength=\"10\" x=\"5\" y=\"219.5625\">}</text><text fill=\"#33FF02\" font-family=\"sans-serif\" font-size=\"14\" font-weight=\"bold\" lengthAdjust=\"spacingAndGlyphs\" textLength=\"0\" x=\"10\" y=\"235.8594\"/><text fill=\"#33FF02\" font-family=\"sans-serif\" font-size=\"14\" font-weight=\"bold\" lengthAdjust=\"spacingAndGlyphs\" textLength=\"760\" x=\"5\" y=\"252.1563\">rec def \"S\" as E2  &lt;&lt;(T,blue)state def&gt;&gt; [[psysml:b6aa9f25-72f8-4c2c-a7be-6589070e9bf6 ]] {</text><text fill=\"#33FF02\" font-family=\"sans-serif\" font-size=\"14\" font-weight=\"bold\" lengthAdjust=\"spacingAndGlyphs\" textLength=\"761\" x=\"5\" y=\"268.4531\">rec usage \"A\" as E3 &lt;&lt;perform action&gt;&gt; [[psysml:7c853ef3-d7ff-4ebf-8ae8-b09e7153a971 ]] {</text><text fill=\"#33FF02\" font-family=\"sans-serif\" font-size=\"14\" font-weight=\"bold\" lengthAdjust=\"spacingAndGlyphs\" textLength=\"10\" x=\"5\" y=\"284.75\">}</text><text fill=\"#33FF02\" font-family=\"sans-serif\" font-size=\"14\" font-weight=\"bold\" lengthAdjust=\"spacingAndGlyphs\" textLength=\"0\" x=\"10\" y=\"301.0469\"/><text fill=\"#33FF02\" font-family=\"sans-serif\" font-size=\"14\" font-weight=\"bold\" lengthAdjust=\"spacingAndGlyphs\" textLength=\"765\" x=\"5\" y=\"317.3438\">rec usage \"B\" as E4 &lt;&lt;perform action&gt;&gt; [[psysml:dca473ca-f240-48c8-8410-315f8ab65930 ]] {</text><text fill=\"#33FF02\" font-family=\"sans-serif\" font-size=\"14\" font-weight=\"bold\" lengthAdjust=\"spacingAndGlyphs\" textLength=\"10\" x=\"5\" y=\"333.6406\">}</text><text fill=\"#33FF02\" font-family=\"sans-serif\" font-size=\"14\" font-weight=\"bold\" lengthAdjust=\"spacingAndGlyphs\" textLength=\"0\" x=\"10\" y=\"349.9375\"/><text fill=\"#33FF02\" font-family=\"sans-serif\" font-size=\"14\" font-weight=\"bold\" lengthAdjust=\"spacingAndGlyphs\" textLength=\"779\" x=\"5\" y=\"366.2344\">rec usage \"act\" as E5 &lt;&lt;perform action&gt;&gt; [[psysml:4cc25ae1-ca80-482c-9b62-70f98bd0e4f3 ]] {</text><text fill=\"#33FF02\" font-family=\"sans-serif\" font-size=\"14\" font-weight=\"bold\" lengthAdjust=\"spacingAndGlyphs\" textLength=\"10\" x=\"5\" y=\"382.5313\">}</text><text fill=\"#33FF02\" font-family=\"sans-serif\" font-size=\"14\" font-weight=\"bold\" lengthAdjust=\"spacingAndGlyphs\" textLength=\"0\" x=\"10\" y=\"398.8281\"/><text fill=\"#33FF02\" font-family=\"sans-serif\" font-size=\"14\" font-weight=\"bold\" lengthAdjust=\"spacingAndGlyphs\" textLength=\"763\" x=\"5\" y=\"415.125\">rec usage \"S1\" as E6  &lt;&lt;(T,blue)state&gt;&gt; [[psysml:1cabaaec-9539-448a-9df0-432fc817479b ]] {</text><text fill=\"#33FF02\" font-family=\"sans-serif\" font-size=\"14\" font-weight=\"bold\" lengthAdjust=\"spacingAndGlyphs\" textLength=\"10\" x=\"5\" y=\"431.4219\">}</text><text fill=\"#33FF02\" font-family=\"sans-serif\" font-size=\"14\" font-weight=\"bold\" lengthAdjust=\"spacingAndGlyphs\" textLength=\"0\" x=\"10\" y=\"447.7188\"/><text fill=\"#33FF02\" font-family=\"sans-serif\" font-size=\"14\" font-weight=\"bold\" lengthAdjust=\"spacingAndGlyphs\" textLength=\"10\" x=\"5\" y=\"464.0156\">{</text><text fill=\"#FF0000\" font-family=\"sans-serif\" font-size=\"14\" font-weight=\"bold\" lengthAdjust=\"spacingAndGlyphs\" textLength=\"106\" x=\"10\" y=\"480.3125\">Syntax Error?</text><!--MD5=[4c5a3bc843a8b73266e0040c284c6cd0]\n",
       "@startuml\r\n",
       "skinparam ranksep 8\r\n",
       "skinparam linetype ortho\r\n",
       "skinparam monochrome true\r\n",
       "skinparam classbackgroundcolor white\r\n",
       "skinparam shadowing false\r\n",
       "skinparam wrapWidth 300\r\n",
       "hide circle\r\n",
       "\r\n",
       "rec usage \"act\" as E1  <<(T,blue)action>> [[psysml:12bd5d36-0dbf-4715-90c3-b0b875efee55 ]] {\r\n",
       "}\r\n",
       "\r\n",
       "rec def \"S\" as E2  <<(T,blue)state def>> [[psysml:b6aa9f25-72f8-4c2c-a7be-6589070e9bf6 ]] {\r\n",
       "rec usage \"A\" as E3 <<perform action>> [[psysml:7c853ef3-d7ff-4ebf-8ae8-b09e7153a971 ]] {\r\n",
       "}\r\n",
       "\r\n",
       "rec usage \"B\" as E4 <<perform action>> [[psysml:dca473ca-f240-48c8-8410-315f8ab65930 ]] {\r\n",
       "}\r\n",
       "\r\n",
       "rec usage \"act\" as E5 <<perform action>> [[psysml:4cc25ae1-ca80-482c-9b62-70f98bd0e4f3 ]] {\r\n",
       "}\r\n",
       "\r\n",
       "rec usage \"S1\" as E6  <<(T,blue)state>> [[psysml:1cabaaec-9539-448a-9df0-432fc817479b ]] {\r\n",
       "}\r\n",
       "\r\n",
       "{\r\n",
       "{\r\n",
       "}\r\n",
       "\r\n",
       "rec usage \"D\" as E7 <<perform action>> [[psysml:3510f31d-b177-4ebf-8714-3f9d2522539a ]] {\r\n",
       "}\r\n",
       "\r\n",
       "}\r\n",
       "\r\n",
       "rec usage \"S2\" as E8  <<(T,blue)state>> [[psysml:7a7b17a9-f595-41dc-990f-a07a1c17ba3c ]] {\r\n",
       "rec usage \"doAction\" as E9 <<send action>> [[psysml:fce0e4a1-8edc-4c38-93d6-a3b5e3670b25 ]] {\r\n",
       "portin \"$x\" as E10  [[psysml:0f9ee1be-4b0c-49df-bf39-0b4be923bab5 ]] \r\n",
       "portout \"$result\" as E11  [[psysml:57c23ed7-9c69-47d3-a300-7e2619377bac ]] \r\n",
       "}\r\n",
       "\r\n",
       "}\r\n",
       "\r\n",
       "{\r\n",
       "{\r\n",
       "}\r\n",
       "\r\n",
       "}\r\n",
       "\r\n",
       "rec usage \"T\" as E12  <<(T,blue)transition>> [[psysml:bcd703ca-2055-4c24-98bc-6c579eb31483 ]] {\r\n",
       "rec usage \"S2\" as E13  <<(T,blue)state>> [[psysml:7a7b17a9-f595-41dc-990f-a07a1c17ba3c ]] {\r\n",
       "rec usage \"doAction\" as E14 <<send action>> [[psysml:fce0e4a1-8edc-4c38-93d6-a3b5e3670b25 ]] {\r\n",
       "portin \"$x\" as E15  [[psysml:0f9ee1be-4b0c-49df-bf39-0b4be923bab5 ]] \r\n",
       "portout \"$result\" as E16  [[psysml:57c23ed7-9c69-47d3-a300-7e2619377bac ]] \r\n",
       "}\r\n",
       "\r\n",
       "}\r\n",
       "\r\n",
       "{\r\n",
       "}\r\n",
       "\r\n",
       "portout \"$result\" as E17  [[psysml:911b7f24-6054-424b-94f8-0593eb8f2c88 ]] \r\n",
       "{\r\n",
       "}\r\n",
       "\r\n",
       "}\r\n",
       "\r\n",
       "}\r\n",
       "\r\n",
       "@enduml\r\n",
       "\n",
       "PlantUML version 1.2020.13(Sat Jun 13 12:26:38 UTC 2020)\n",
       "(EPL source distribution)\n",
       "Java Runtime: OpenJDK Runtime Environment\n",
       "JVM: OpenJDK 64-Bit Server VM\n",
       "Default Encoding: UTF-8\n",
       "Language: en\n",
       "Country: null\n",
       "--></g></svg>"
      ]
     },
     "execution_count": 55,
     "metadata": {},
     "output_type": "execute_result"
    }
   ],
   "source": [
    "%viz --style=\"ORTHOLINE\" --view=\"Action\" \"StateTest\""
   ]
  },
  {
   "cell_type": "code",
   "execution_count": 56,
   "id": "black-hunter",
   "metadata": {
    "execution": {
     "iopub.execute_input": "2021-03-25T15:07:06.861394Z",
     "iopub.status.busy": "2021-03-25T15:07:06.860160Z",
     "iopub.status.idle": "2021-03-25T15:07:07.322268Z",
     "shell.execute_reply": "2021-03-25T15:07:07.319551Z"
    }
   },
   "outputs": [
    {
     "data": {
      "image/svg+xml": [
       "<?xml version=\"1.0\" encoding=\"UTF-8\" standalone=\"no\"?><svg xmlns=\"http://www.w3.org/2000/svg\" xmlns:xlink=\"http://www.w3.org/1999/xlink\" contentScriptType=\"application/ecmascript\" contentStyleType=\"text/css\" height=\"471px\" preserveAspectRatio=\"none\" style=\"width:594px;height:471px;\" version=\"1.1\" viewBox=\"0 0 594 471\" width=\"594px\" zoomAndPan=\"magnify\"><defs/><g><!--MD5=[fbc87193dbaf4d95561dea2c320d4a47]\n",
       "cluster E1--><a href=\"psysml:a2ca8720-bd4b-4556-9b27-091331149f1f\" target=\"_top\" title=\"psysml:a2ca8720-bd4b-4556-9b27-091331149f1f\" xlink:actuate=\"onRequest\" xlink:href=\"psysml:a2ca8720-bd4b-4556-9b27-091331149f1f\" xlink:show=\"new\" xlink:title=\"psysml:a2ca8720-bd4b-4556-9b27-091331149f1f\" xlink:type=\"simple\"><polygon fill=\"#FFFFFF\" points=\"16,6,98,6,105,28.2969,572,28.2969,572,459,16,459,16,6\" style=\"stroke: #000000; stroke-width: 1.5;\"/><line style=\"stroke: #000000; stroke-width: 1.5;\" x1=\"16\" x2=\"105\" y1=\"28.2969\" y2=\"28.2969\"/><text fill=\"#000000\" font-family=\"sans-serif\" font-size=\"14\" font-weight=\"bold\" lengthAdjust=\"spacingAndGlyphs\" textLength=\"76\" x=\"20\" y=\"20.9951\">StateTest</text></a><!--MD5=[b4997ac47864f28c2f74865a473b2911]\n",
       "class E2--><a href=\"psysml:9b0c6b07-76e0-48e6-88f4-e6a2c752e8e3\" target=\"_top\" title=\"psysml:9b0c6b07-76e0-48e6-88f4-e6a2c752e8e3\" xlink:actuate=\"onRequest\" xlink:href=\"psysml:9b0c6b07-76e0-48e6-88f4-e6a2c752e8e3\" xlink:show=\"new\" xlink:title=\"psysml:9b0c6b07-76e0-48e6-88f4-e6a2c752e8e3\" xlink:type=\"simple\"><rect fill=\"#FFFFFF\" height=\"75.5469\" id=\"E2\" style=\"stroke: #383838; stroke-width: 1.5;\" width=\"95\" x=\"460.5\" y=\"83\"/><text fill=\"#000000\" font-family=\"sans-serif\" font-size=\"12\" font-style=\"italic\" lengthAdjust=\"spacingAndGlyphs\" textLength=\"93\" x=\"461.5\" y=\"99.1387\">«attribute def»</text><text fill=\"#000000\" font-family=\"sans-serif\" font-size=\"12\" lengthAdjust=\"spacingAndGlyphs\" textLength=\"19\" x=\"498.5\" y=\"113.1074\">Sig</text><line style=\"stroke: #383838; stroke-width: 1.5;\" x1=\"461.5\" x2=\"554.5\" y1=\"120.9375\" y2=\"120.9375\"/><text fill=\"#000000\" font-family=\"sans-serif\" font-size=\"11\" lengthAdjust=\"spacingAndGlyphs\" textLength=\"6\" x=\"466.5\" y=\"151.9526\">x</text><line style=\"stroke: #383838; stroke-width: 1.0;\" x1=\"461.5\" x2=\"480.5\" y1=\"135.3398\" y2=\"135.3398\"/><text fill=\"#000000\" font-family=\"sans-serif\" font-size=\"11\" lengthAdjust=\"spacingAndGlyphs\" textLength=\"55\" x=\"480.5\" y=\"138.6479\">attributes</text><line style=\"stroke: #383838; stroke-width: 1.0;\" x1=\"535.5\" x2=\"554.5\" y1=\"135.3398\" y2=\"135.3398\"/></a><!--MD5=[09b614a08d8cba4a07c9adeb5e0fee81]\n",
       "class E3--><a href=\"psysml:75ee6cec-68f4-495e-910b-3cf4854ee540\" target=\"_top\" title=\"psysml:75ee6cec-68f4-495e-910b-3cf4854ee540\" xlink:actuate=\"onRequest\" xlink:href=\"psysml:75ee6cec-68f4-495e-910b-3cf4854ee540\" xlink:show=\"new\" xlink:title=\"psysml:75ee6cec-68f4-495e-910b-3cf4854ee540\" xlink:type=\"simple\"><rect fill=\"#FFFFFF\" height=\"45.9375\" id=\"E3\" style=\"stroke: #383838; stroke-width: 1.5;\" width=\"95\" x=\"330.5\" y=\"98\"/><text fill=\"#000000\" font-family=\"sans-serif\" font-size=\"12\" font-style=\"italic\" lengthAdjust=\"spacingAndGlyphs\" textLength=\"93\" x=\"331.5\" y=\"114.1387\">«attribute def»</text><text fill=\"#000000\" font-family=\"sans-serif\" font-size=\"12\" lengthAdjust=\"spacingAndGlyphs\" textLength=\"22\" x=\"367\" y=\"128.1074\">Exit</text><line style=\"stroke: #383838; stroke-width: 1.5;\" x1=\"331.5\" x2=\"424.5\" y1=\"135.9375\" y2=\"135.9375\"/></a><!--MD5=[ebbe1d658d1005bcc118a6aa81145e00]\n",
       "class E4--><a href=\"psysml:d526add9-9153-4d94-82de-e3d10cc7d584\" target=\"_top\" title=\"psysml:d526add9-9153-4d94-82de-e3d10cc7d584\" xlink:actuate=\"onRequest\" xlink:href=\"psysml:d526add9-9153-4d94-82de-e3d10cc7d584\" xlink:show=\"new\" xlink:title=\"psysml:d526add9-9153-4d94-82de-e3d10cc7d584\" xlink:type=\"simple\"><rect fill=\"#FFFFFF\" height=\"45.9375\" id=\"E4\" rx=\"10\" ry=\"10\" style=\"stroke: #383838; stroke-width: 1.5;\" width=\"42\" x=\"253\" y=\"98\"/><text fill=\"#000000\" font-family=\"sans-serif\" font-size=\"12\" font-style=\"italic\" lengthAdjust=\"spacingAndGlyphs\" textLength=\"40\" x=\"254\" y=\"114.1387\">«part»</text><text fill=\"#000000\" font-family=\"sans-serif\" font-size=\"12\" lengthAdjust=\"spacingAndGlyphs\" textLength=\"8\" x=\"270\" y=\"128.1074\">p</text><line style=\"stroke: #383838; stroke-width: 1.5;\" x1=\"254\" x2=\"294\" y1=\"135.9375\" y2=\"135.9375\"/></a><!--MD5=[270fce915f116d4de14055a7c1d9a0f3]\n",
       "class E5--><a href=\"psysml:12bd5d36-0dbf-4715-90c3-b0b875efee55\" target=\"_top\" title=\"psysml:12bd5d36-0dbf-4715-90c3-b0b875efee55\" xlink:actuate=\"onRequest\" xlink:href=\"psysml:12bd5d36-0dbf-4715-90c3-b0b875efee55\" xlink:show=\"new\" xlink:title=\"psysml:12bd5d36-0dbf-4715-90c3-b0b875efee55\" xlink:type=\"simple\"><rect fill=\"#FFFFFF\" height=\"45.9375\" id=\"E5\" rx=\"10\" ry=\"10\" style=\"stroke: #383838; stroke-width: 1.5;\" width=\"55\" x=\"162.5\" y=\"98\"/><text fill=\"#000000\" font-family=\"sans-serif\" font-size=\"12\" font-style=\"italic\" lengthAdjust=\"spacingAndGlyphs\" textLength=\"53\" x=\"163.5\" y=\"114.1387\">«action»</text><text fill=\"#000000\" font-family=\"sans-serif\" font-size=\"12\" lengthAdjust=\"spacingAndGlyphs\" textLength=\"20\" x=\"180\" y=\"128.1074\">act</text><line style=\"stroke: #383838; stroke-width: 1.5;\" x1=\"163.5\" x2=\"216.5\" y1=\"135.9375\" y2=\"135.9375\"/></a><!--MD5=[60a26617385b1d2d0262a64233df1f8d]\n",
       "class E6--><a href=\"psysml:b6aa9f25-72f8-4c2c-a7be-6589070e9bf6\" target=\"_top\" title=\"psysml:b6aa9f25-72f8-4c2c-a7be-6589070e9bf6\" xlink:actuate=\"onRequest\" xlink:href=\"psysml:b6aa9f25-72f8-4c2c-a7be-6589070e9bf6\" xlink:show=\"new\" xlink:title=\"psysml:b6aa9f25-72f8-4c2c-a7be-6589070e9bf6\" xlink:type=\"simple\"><rect fill=\"#FFFFFF\" height=\"160.375\" id=\"E6\" style=\"stroke: #383838; stroke-width: 1.5;\" width=\"95\" x=\"32.5\" y=\"41\"/><text fill=\"#000000\" font-family=\"sans-serif\" font-size=\"12\" font-style=\"italic\" lengthAdjust=\"spacingAndGlyphs\" textLength=\"71\" x=\"44.5\" y=\"57.1387\">«state def»</text><text fill=\"#000000\" font-family=\"sans-serif\" font-size=\"12\" lengthAdjust=\"spacingAndGlyphs\" textLength=\"8\" x=\"76\" y=\"71.1074\">S</text><line style=\"stroke: #383838; stroke-width: 1.5;\" x1=\"33.5\" x2=\"126.5\" y1=\"78.9375\" y2=\"78.9375\"/><text fill=\"#000000\" font-family=\"sans-serif\" font-size=\"11\" lengthAdjust=\"spacingAndGlyphs\" textLength=\"17\" x=\"38.5\" y=\"109.9526\">act</text><text fill=\"#000000\" font-family=\"sans-serif\" font-size=\"11\" lengthAdjust=\"spacingAndGlyphs\" textLength=\"7\" x=\"38.5\" y=\"122.7573\">A</text><text fill=\"#000000\" font-family=\"sans-serif\" font-size=\"11\" lengthAdjust=\"spacingAndGlyphs\" textLength=\"8\" x=\"38.5\" y=\"135.562\">B</text><line style=\"stroke: #383838; stroke-width: 1.0;\" x1=\"33.5\" x2=\"36.5\" y1=\"93.3398\" y2=\"93.3398\"/><text fill=\"#000000\" font-family=\"sans-serif\" font-size=\"11\" lengthAdjust=\"spacingAndGlyphs\" textLength=\"87\" x=\"36.5\" y=\"96.6479\">performActions</text><line style=\"stroke: #383838; stroke-width: 1.0;\" x1=\"123.5\" x2=\"126.5\" y1=\"93.3398\" y2=\"93.3398\"/><text fill=\"#000000\" font-family=\"sans-serif\" font-size=\"11\" lengthAdjust=\"spacingAndGlyphs\" textLength=\"15\" x=\"38.5\" y=\"165.1714\">S1</text><line style=\"stroke: #383838; stroke-width: 1.0;\" x1=\"33.5\" x2=\"62\" y1=\"148.5586\" y2=\"148.5586\"/><text fill=\"#000000\" font-family=\"sans-serif\" font-size=\"11\" lengthAdjust=\"spacingAndGlyphs\" textLength=\"36\" x=\"62\" y=\"151.8667\">states</text><line style=\"stroke: #383838; stroke-width: 1.0;\" x1=\"98\" x2=\"126.5\" y1=\"148.5586\" y2=\"148.5586\"/><text fill=\"#000000\" font-family=\"sans-serif\" font-size=\"11\" lengthAdjust=\"spacingAndGlyphs\" textLength=\"7\" x=\"38.5\" y=\"194.7808\">T</text><line style=\"stroke: #383838; stroke-width: 1.0;\" x1=\"33.5\" x2=\"49.5\" y1=\"178.168\" y2=\"178.168\"/><text fill=\"#000000\" font-family=\"sans-serif\" font-size=\"11\" lengthAdjust=\"spacingAndGlyphs\" textLength=\"61\" x=\"49.5\" y=\"181.4761\">transitions</text><line style=\"stroke: #383838; stroke-width: 1.0;\" x1=\"110.5\" x2=\"126.5\" y1=\"178.168\" y2=\"178.168\"/></a><!--MD5=[1dd1bfd58a279cf63c5f349dbc8fc6a1]\n",
       "class E11--><a href=\"psysml:7a7b17a9-f595-41dc-990f-a07a1c17ba3c\" target=\"_top\" title=\"psysml:7a7b17a9-f595-41dc-990f-a07a1c17ba3c\" xlink:actuate=\"onRequest\" xlink:href=\"psysml:7a7b17a9-f595-41dc-990f-a07a1c17ba3c\" xlink:show=\"new\" xlink:title=\"psysml:7a7b17a9-f595-41dc-990f-a07a1c17ba3c\" xlink:type=\"simple\"><rect fill=\"#FFFFFF\" height=\"45.9375\" id=\"E11\" rx=\"10\" ry=\"10\" style=\"stroke: #383838; stroke-width: 1.5;\" width=\"49\" x=\"55.5\" y=\"261\"/><text fill=\"#000000\" font-family=\"sans-serif\" font-size=\"12\" font-style=\"italic\" lengthAdjust=\"spacingAndGlyphs\" textLength=\"47\" x=\"56.5\" y=\"277.1387\">«state»</text><text fill=\"#000000\" font-family=\"sans-serif\" font-size=\"12\" lengthAdjust=\"spacingAndGlyphs\" textLength=\"16\" x=\"72\" y=\"291.1074\">S2</text><line style=\"stroke: #383838; stroke-width: 1.5;\" x1=\"56.5\" x2=\"103.5\" y1=\"298.9375\" y2=\"298.9375\"/></a><!--MD5=[49a0ec8f00dab7302a31f22d0f0fe584]\n",
       "class E12--><a href=\"psysml:fce0e4a1-8edc-4c38-93d6-a3b5e3670b25\" target=\"_top\" title=\"psysml:fce0e4a1-8edc-4c38-93d6-a3b5e3670b25\" xlink:actuate=\"onRequest\" xlink:href=\"psysml:fce0e4a1-8edc-4c38-93d6-a3b5e3670b25\" xlink:show=\"new\" xlink:title=\"psysml:fce0e4a1-8edc-4c38-93d6-a3b5e3670b25\" xlink:type=\"simple\"><rect fill=\"#FFFFFF\" height=\"75.5469\" id=\"E12\" rx=\"10\" ry=\"10\" style=\"stroke: #383838; stroke-width: 1.5;\" width=\"90\" x=\"35\" y=\"367\"/><text fill=\"#000000\" font-family=\"sans-serif\" font-size=\"12\" font-style=\"italic\" lengthAdjust=\"spacingAndGlyphs\" textLength=\"88\" x=\"36\" y=\"383.1387\">«send action»</text><text fill=\"#000000\" font-family=\"sans-serif\" font-size=\"12\" lengthAdjust=\"spacingAndGlyphs\" textLength=\"55\" x=\"52.5\" y=\"397.1074\">doAction</text><line style=\"stroke: #383838; stroke-width: 1.5;\" x1=\"36\" x2=\"124\" y1=\"404.9375\" y2=\"404.9375\"/><text fill=\"#000000\" font-family=\"sans-serif\" font-size=\"11\" lengthAdjust=\"spacingAndGlyphs\" textLength=\"25\" x=\"41\" y=\"435.9526\">item</text><line style=\"stroke: #383838; stroke-width: 1.0;\" x1=\"36\" x2=\"42.5\" y1=\"419.3398\" y2=\"419.3398\"/><text fill=\"#000000\" font-family=\"sans-serif\" font-size=\"11\" lengthAdjust=\"spacingAndGlyphs\" textLength=\"75\" x=\"42.5\" y=\"422.6479\">itemFeatures</text><line style=\"stroke: #383838; stroke-width: 1.0;\" x1=\"117.5\" x2=\"124\" y1=\"419.3398\" y2=\"419.3398\"/></a><!--MD5=[1f5f03483f7de0d5b3680a7f6650997f]\n",
       "reverse link E6 to E11--><a href=\"psysml:7a7b17a9-f595-41dc-990f-a07a1c17ba3c\" target=\"_top\" title=\"psysml:7a7b17a9-f595-41dc-990f-a07a1c17ba3c\" xlink:actuate=\"onRequest\" xlink:href=\"psysml:7a7b17a9-f595-41dc-990f-a07a1c17ba3c\" xlink:show=\"new\" xlink:title=\"psysml:7a7b17a9-f595-41dc-990f-a07a1c17ba3c\" xlink:type=\"simple\"><path d=\"M80,214.07 C80,214.07 80,260.85 80,260.85 \" fill=\"none\" id=\"E6&lt;-E11\" style=\"stroke: #383838; stroke-width: 1.0;\"/><polygon fill=\"#383838\" points=\"80,201.07,76,207.07,80,213.07,84,207.07,80,201.07\" style=\"stroke: #383838; stroke-width: 1.0;\"/></a><!--MD5=[94adabc162ce7e41b39f13be14fbaeb3]\n",
       "reverse link E11 to E12--><a href=\"psysml:fce0e4a1-8edc-4c38-93d6-a3b5e3670b25\" target=\"_top\" title=\"psysml:fce0e4a1-8edc-4c38-93d6-a3b5e3670b25\" xlink:actuate=\"onRequest\" xlink:href=\"psysml:fce0e4a1-8edc-4c38-93d6-a3b5e3670b25\" xlink:show=\"new\" xlink:title=\"psysml:fce0e4a1-8edc-4c38-93d6-a3b5e3670b25\" xlink:type=\"simple\"><path d=\"M80,320.04 C80,320.04 80,366.81 80,366.81 \" fill=\"none\" id=\"E11&lt;-E12\" style=\"stroke: #383838; stroke-width: 1.0;\"/><polygon fill=\"#FFFFFF\" points=\"80,307.04,76,313.04,80,319.04,84,313.04,80,307.04\" style=\"stroke: #383838; stroke-width: 1.0;\"/></a><!--MD5=[c4b8d3a3f5aa7445de747035a2a48a69]\n",
       "@startuml\r\n",
       "skinparam linetype ortho\r\n",
       "skinparam monochrome true\r\n",
       "skinparam classbackgroundcolor white\r\n",
       "skinparam shadowing false\r\n",
       "skinparam wrapWidth 300\r\n",
       "hide circle\r\n",
       "\r\n",
       "package \"StateTest\" as E1  [[psysml:a2ca8720-bd4b-4556-9b27-091331149f1f ]]  {\r\n",
       "comp def \"Sig\" as E2  <<(T,blue)attribute def>> [[psysml:9b0c6b07-76e0-48e6-88f4-e6a2c752e8e3 ]] {\r\n",
       "- - attributes - -\r\n",
       "x\r\n",
       "}\r\n",
       "comp def \"Exit\" as E3  <<(T,blue)attribute def>> [[psysml:75ee6cec-68f4-495e-910b-3cf4854ee540 ]] {\r\n",
       "}\r\n",
       "comp usage \"p\" as E4  <<(T,blue)part>> [[psysml:d526add9-9153-4d94-82de-e3d10cc7d584 ]] {\r\n",
       "}\r\n",
       "comp usage \"act\" as E5  <<(T,blue)action>> [[psysml:12bd5d36-0dbf-4715-90c3-b0b875efee55 ]] {\r\n",
       "}\r\n",
       "comp def \"S\" as E6  <<(T,blue)state def>> [[psysml:b6aa9f25-72f8-4c2c-a7be-6589070e9bf6 ]] {\r\n",
       "- - performActions - -\r\n",
       "act\r\n",
       "A\r\n",
       "B\r\n",
       "- - states - -\r\n",
       "S1\r\n",
       "- - transitions - -\r\n",
       "T\r\n",
       "}\r\n",
       "comp usage \"S2\" as E11  <<(T,blue)state>> [[psysml:7a7b17a9-f595-41dc-990f-a07a1c17ba3c ]] {\r\n",
       "}\r\n",
       "comp usage \"doAction\" as E12 <<send action>> [[psysml:fce0e4a1-8edc-4c38-93d6-a3b5e3670b25 ]] {\r\n",
       "- - itemFeatures - -\r\n",
       "item\r\n",
       "}\r\n",
       "E6 *- - E11 [[psysml:7a7b17a9-f595-41dc-990f-a07a1c17ba3c ]] \r\n",
       "E11 o- - E12 [[psysml:fce0e4a1-8edc-4c38-93d6-a3b5e3670b25 ]] \r\n",
       "}\r\n",
       "@enduml\r\n",
       "\n",
       "PlantUML version 1.2020.13(Sat Jun 13 12:26:38 UTC 2020)\n",
       "(EPL source distribution)\n",
       "Java Runtime: OpenJDK Runtime Environment\n",
       "JVM: OpenJDK 64-Bit Server VM\n",
       "Default Encoding: UTF-8\n",
       "Language: en\n",
       "Country: null\n",
       "--></g></svg>"
      ]
     },
     "execution_count": 56,
     "metadata": {},
     "output_type": "execute_result"
    }
   ],
   "source": [
    "%viz --style=\"ORTHOLINE\" --view=\"Sequence\" \"StateTest\""
   ]
  },
  {
   "cell_type": "code",
   "execution_count": 57,
   "id": "friendly-showcase",
   "metadata": {
    "execution": {
     "iopub.execute_input": "2021-03-25T15:07:07.371308Z",
     "iopub.status.busy": "2021-03-25T15:07:07.370572Z",
     "iopub.status.idle": "2021-03-25T15:07:07.553674Z",
     "shell.execute_reply": "2021-03-25T15:07:07.553288Z"
    }
   },
   "outputs": [
    {
     "data": {
      "image/svg+xml": [
       "<?xml version=\"1.0\" encoding=\"UTF-8\" standalone=\"no\"?><svg xmlns=\"http://www.w3.org/2000/svg\" xmlns:xlink=\"http://www.w3.org/1999/xlink\" contentScriptType=\"application/ecmascript\" contentStyleType=\"text/css\" height=\"570px\" preserveAspectRatio=\"none\" style=\"width:819px;height:570px;\" version=\"1.1\" viewBox=\"0 0 819 570\" width=\"819px\" zoomAndPan=\"magnify\"><defs/><g><!--MD5=[fbc87193dbaf4d95561dea2c320d4a47]\n",
       "cluster E1--><a href=\"psysml:a2ca8720-bd4b-4556-9b27-091331149f1f\" target=\"_top\" title=\"psysml:a2ca8720-bd4b-4556-9b27-091331149f1f\" xlink:actuate=\"onRequest\" xlink:href=\"psysml:a2ca8720-bd4b-4556-9b27-091331149f1f\" xlink:show=\"new\" xlink:title=\"psysml:a2ca8720-bd4b-4556-9b27-091331149f1f\" xlink:type=\"simple\"><polygon fill=\"#FFFFFF\" points=\"16,6,98,6,105,28.2969,797,28.2969,797,558,16,558,16,6\" style=\"stroke: #000000; stroke-width: 1.5;\"/><line style=\"stroke: #000000; stroke-width: 1.5;\" x1=\"16\" x2=\"105\" y1=\"28.2969\" y2=\"28.2969\"/><text fill=\"#000000\" font-family=\"sans-serif\" font-size=\"14\" font-weight=\"bold\" lengthAdjust=\"spacingAndGlyphs\" textLength=\"76\" x=\"20\" y=\"20.9951\">StateTest</text></a><!--MD5=[14e3b0961a2654348d326746436168a1]\n",
       "cluster E6--><a href=\"psysml:b6aa9f25-72f8-4c2c-a7be-6589070e9bf6\" target=\"_top\" title=\"psysml:b6aa9f25-72f8-4c2c-a7be-6589070e9bf6\" xlink:actuate=\"onRequest\" xlink:href=\"psysml:b6aa9f25-72f8-4c2c-a7be-6589070e9bf6\" xlink:show=\"new\" xlink:title=\"psysml:b6aa9f25-72f8-4c2c-a7be-6589070e9bf6\" xlink:type=\"simple\"><rect fill=\"#FFFFFF\" height=\"485\" id=\"E6\" style=\"stroke: #383838; stroke-width: 1.5;\" width=\"327\" x=\"446\" y=\"49\"/><rect fill=\"#F8F8F8\" height=\"37.9375\" style=\"stroke: #383838; stroke-width: 1.5;\" width=\"327\" x=\"446\" y=\"49\"/><text fill=\"#000000\" font-family=\"sans-serif\" font-size=\"12\" font-style=\"italic\" lengthAdjust=\"spacingAndGlyphs\" textLength=\"71\" x=\"574\" y=\"65.1387\">«state def»</text><text fill=\"#000000\" font-family=\"sans-serif\" font-size=\"12\" lengthAdjust=\"spacingAndGlyphs\" textLength=\"8\" x=\"605.5\" y=\"79.1074\">S</text><line style=\"stroke: #383838; stroke-width: 1.0;\" x1=\"446\" x2=\"773\" y1=\"132.8438\" y2=\"132.8438\"/><text fill=\"#000000\" font-family=\"sans-serif\" font-size=\"12\" font-weight=\"bold\" lengthAdjust=\"spacingAndGlyphs\" textLength=\"38\" x=\"451\" y=\"100.0762\">entry</text><text fill=\"#000000\" font-family=\"sans-serif\" font-size=\"12\" lengthAdjust=\"spacingAndGlyphs\" textLength=\"16\" x=\"489\" y=\"100.0762\">/ A</text><text fill=\"#000000\" font-family=\"sans-serif\" font-size=\"12\" font-weight=\"bold\" lengthAdjust=\"spacingAndGlyphs\" textLength=\"18\" x=\"451\" y=\"114.0449\">do</text><text fill=\"#000000\" font-family=\"sans-serif\" font-size=\"12\" lengthAdjust=\"spacingAndGlyphs\" textLength=\"16\" x=\"469\" y=\"114.0449\">/ B</text><text fill=\"#000000\" font-family=\"sans-serif\" font-size=\"12\" font-weight=\"bold\" lengthAdjust=\"spacingAndGlyphs\" textLength=\"26\" x=\"451\" y=\"128.0137\">exit</text><text fill=\"#000000\" font-family=\"sans-serif\" font-size=\"12\" lengthAdjust=\"spacingAndGlyphs\" textLength=\"28\" x=\"477\" y=\"128.0137\">/ act</text></a><!--MD5=[b4997ac47864f28c2f74865a473b2911]\n",
       "class E2--><a href=\"psysml:9b0c6b07-76e0-48e6-88f4-e6a2c752e8e3\" target=\"_top\" title=\"psysml:9b0c6b07-76e0-48e6-88f4-e6a2c752e8e3\" xlink:actuate=\"onRequest\" xlink:href=\"psysml:9b0c6b07-76e0-48e6-88f4-e6a2c752e8e3\" xlink:show=\"new\" xlink:title=\"psysml:9b0c6b07-76e0-48e6-88f4-e6a2c752e8e3\" xlink:type=\"simple\"><rect fill=\"#FFFFFF\" height=\"75.5469\" id=\"E2\" style=\"stroke: #383838; stroke-width: 1.5;\" width=\"95\" x=\"334.5\" y=\"119\"/><text fill=\"#000000\" font-family=\"sans-serif\" font-size=\"12\" font-style=\"italic\" lengthAdjust=\"spacingAndGlyphs\" textLength=\"93\" x=\"335.5\" y=\"135.1387\">«attribute def»</text><text fill=\"#000000\" font-family=\"sans-serif\" font-size=\"12\" lengthAdjust=\"spacingAndGlyphs\" textLength=\"19\" x=\"372.5\" y=\"149.1074\">Sig</text><line style=\"stroke: #383838; stroke-width: 1.5;\" x1=\"335.5\" x2=\"428.5\" y1=\"156.9375\" y2=\"156.9375\"/><text fill=\"#000000\" font-family=\"sans-serif\" font-size=\"11\" lengthAdjust=\"spacingAndGlyphs\" textLength=\"6\" x=\"340.5\" y=\"187.9526\">x</text><line style=\"stroke: #383838; stroke-width: 1.0;\" x1=\"335.5\" x2=\"354.5\" y1=\"171.3398\" y2=\"171.3398\"/><text fill=\"#000000\" font-family=\"sans-serif\" font-size=\"11\" lengthAdjust=\"spacingAndGlyphs\" textLength=\"55\" x=\"354.5\" y=\"174.6479\">attributes</text><line style=\"stroke: #383838; stroke-width: 1.0;\" x1=\"409.5\" x2=\"428.5\" y1=\"171.3398\" y2=\"171.3398\"/></a><!--MD5=[09b614a08d8cba4a07c9adeb5e0fee81]\n",
       "class E3--><a href=\"psysml:75ee6cec-68f4-495e-910b-3cf4854ee540\" target=\"_top\" title=\"psysml:75ee6cec-68f4-495e-910b-3cf4854ee540\" xlink:actuate=\"onRequest\" xlink:href=\"psysml:75ee6cec-68f4-495e-910b-3cf4854ee540\" xlink:show=\"new\" xlink:title=\"psysml:75ee6cec-68f4-495e-910b-3cf4854ee540\" xlink:type=\"simple\"><rect fill=\"#FFFFFF\" height=\"45.9375\" id=\"E3\" style=\"stroke: #383838; stroke-width: 1.5;\" width=\"95\" x=\"204.5\" y=\"134\"/><text fill=\"#000000\" font-family=\"sans-serif\" font-size=\"12\" font-style=\"italic\" lengthAdjust=\"spacingAndGlyphs\" textLength=\"93\" x=\"205.5\" y=\"150.1387\">«attribute def»</text><text fill=\"#000000\" font-family=\"sans-serif\" font-size=\"12\" lengthAdjust=\"spacingAndGlyphs\" textLength=\"22\" x=\"241\" y=\"164.1074\">Exit</text><line style=\"stroke: #383838; stroke-width: 1.5;\" x1=\"205.5\" x2=\"298.5\" y1=\"171.9375\" y2=\"171.9375\"/></a><!--MD5=[ebbe1d658d1005bcc118a6aa81145e00]\n",
       "class E4--><a href=\"psysml:d526add9-9153-4d94-82de-e3d10cc7d584\" target=\"_top\" title=\"psysml:d526add9-9153-4d94-82de-e3d10cc7d584\" xlink:actuate=\"onRequest\" xlink:href=\"psysml:d526add9-9153-4d94-82de-e3d10cc7d584\" xlink:show=\"new\" xlink:title=\"psysml:d526add9-9153-4d94-82de-e3d10cc7d584\" xlink:type=\"simple\"><rect fill=\"#FFFFFF\" height=\"45.9375\" id=\"E4\" rx=\"10\" ry=\"10\" style=\"stroke: #383838; stroke-width: 1.5;\" width=\"42\" x=\"127\" y=\"134\"/><text fill=\"#000000\" font-family=\"sans-serif\" font-size=\"12\" font-style=\"italic\" lengthAdjust=\"spacingAndGlyphs\" textLength=\"40\" x=\"128\" y=\"150.1387\">«part»</text><text fill=\"#000000\" font-family=\"sans-serif\" font-size=\"12\" lengthAdjust=\"spacingAndGlyphs\" textLength=\"8\" x=\"144\" y=\"164.1074\">p</text><line style=\"stroke: #383838; stroke-width: 1.5;\" x1=\"128\" x2=\"168\" y1=\"171.9375\" y2=\"171.9375\"/></a><g id=\"E1.E5\"><a href=\"psysml:12bd5d36-0dbf-4715-90c3-b0b875efee55\" target=\"_top\" title=\"psysml:12bd5d36-0dbf-4715-90c3-b0b875efee55\" xlink:actuate=\"onRequest\" xlink:href=\"psysml:12bd5d36-0dbf-4715-90c3-b0b875efee55\" xlink:show=\"new\" xlink:title=\"psysml:12bd5d36-0dbf-4715-90c3-b0b875efee55\" xlink:type=\"simple\"><rect fill=\"#FFFFFF\" height=\"42.9375\" id=\"E5\" rx=\"10\" ry=\"10\" style=\"stroke: #383838; stroke-width: 1.5;\" width=\"60\" x=\"32\" y=\"135.5\"/><rect fill=\"#F8F8F8\" height=\"37.9375\" rx=\"10\" ry=\"10\" style=\"stroke: #F8F8F8; stroke-width: 1.5;\" width=\"60\" x=\"32\" y=\"135.5\"/><rect fill=\"#F8F8F8\" height=\"10\" style=\"stroke: #F8F8F8; stroke-width: 1.5;\" width=\"60\" x=\"32\" y=\"163.4375\"/><rect fill=\"none\" height=\"42.9375\" id=\"E5\" rx=\"10\" ry=\"10\" style=\"stroke: #383838; stroke-width: 1.5;\" width=\"60\" x=\"32\" y=\"135.5\"/><text fill=\"#000000\" font-family=\"sans-serif\" font-size=\"12\" font-style=\"italic\" lengthAdjust=\"spacingAndGlyphs\" textLength=\"53\" x=\"35.5\" y=\"151.6387\">«action»</text><text fill=\"#000000\" font-family=\"sans-serif\" font-size=\"12\" lengthAdjust=\"spacingAndGlyphs\" textLength=\"20\" x=\"52\" y=\"165.6074\">act</text></a></g><ellipse cx=\"558\" cy=\"157\" fill=\"#000000\" rx=\"10\" ry=\"10\" style=\"stroke: none; stroke-width: 1.0;\"/><ellipse cx=\"558\" cy=\"508\" fill=\"none\" rx=\"10\" ry=\"10\" style=\"stroke: #000000; stroke-width: 1.0;\"/><ellipse cx=\"558.5\" cy=\"508.5\" fill=\"#000000\" rx=\"6\" ry=\"6\" style=\"stroke: none; stroke-width: 1.0;\"/><g id=\"E1.E6.E7\"><a href=\"psysml:1cabaaec-9539-448a-9df0-432fc817479b\" target=\"_top\" title=\"psysml:1cabaaec-9539-448a-9df0-432fc817479b\" xlink:actuate=\"onRequest\" xlink:href=\"psysml:1cabaaec-9539-448a-9df0-432fc817479b\" xlink:show=\"new\" xlink:title=\"psysml:1cabaaec-9539-448a-9df0-432fc817479b\" xlink:type=\"simple\"><rect fill=\"#FFFFFF\" height=\"40\" id=\"E7\" rx=\"10\" ry=\"10\" style=\"stroke: #383838; stroke-width: 1.5;\" width=\"50\" x=\"533\" y=\"256\"/><rect fill=\"#F8F8F8\" height=\"23.9688\" rx=\"10\" ry=\"10\" style=\"stroke: #F8F8F8; stroke-width: 1.5;\" width=\"50\" x=\"533\" y=\"256\"/><rect fill=\"#F8F8F8\" height=\"10\" style=\"stroke: #F8F8F8; stroke-width: 1.5;\" width=\"50\" x=\"533\" y=\"269.9688\"/><rect fill=\"none\" height=\"40\" id=\"E7\" rx=\"10\" ry=\"10\" style=\"stroke: #383838; stroke-width: 1.5;\" width=\"50\" x=\"533\" y=\"256\"/><text fill=\"#000000\" font-family=\"sans-serif\" font-size=\"12\" lengthAdjust=\"spacingAndGlyphs\" textLength=\"16\" x=\"550\" y=\"272.1387\">S1</text></a></g><g id=\"E1.E6.E8\"><a href=\"psysml:7a7b17a9-f595-41dc-990f-a07a1c17ba3c\" target=\"_top\" title=\"psysml:7a7b17a9-f595-41dc-990f-a07a1c17ba3c\" xlink:actuate=\"onRequest\" xlink:href=\"psysml:7a7b17a9-f595-41dc-990f-a07a1c17ba3c\" xlink:show=\"new\" xlink:title=\"psysml:7a7b17a9-f595-41dc-990f-a07a1c17ba3c\" xlink:type=\"simple\"><rect fill=\"#FFFFFF\" height=\"47.9375\" id=\"E8\" rx=\"10\" ry=\"10\" style=\"stroke: #383838; stroke-width: 1.5;\" width=\"50\" x=\"533\" y=\"373\"/><rect fill=\"#F8F8F8\" height=\"23.9688\" rx=\"10\" ry=\"10\" style=\"stroke: #F8F8F8; stroke-width: 1.5;\" width=\"50\" x=\"533\" y=\"373\"/><rect fill=\"#F8F8F8\" height=\"10\" style=\"stroke: #F8F8F8; stroke-width: 1.5;\" width=\"50\" x=\"533\" y=\"386.9688\"/><rect fill=\"none\" height=\"47.9375\" id=\"E8\" rx=\"10\" ry=\"10\" style=\"stroke: #383838; stroke-width: 1.5;\" width=\"50\" x=\"533\" y=\"373\"/><text fill=\"#000000\" font-family=\"sans-serif\" font-size=\"12\" lengthAdjust=\"spacingAndGlyphs\" textLength=\"16\" x=\"550\" y=\"389.1387\">S2</text><line style=\"stroke: #383838; stroke-width: 1.0;\" x1=\"533\" x2=\"583\" y1=\"396.9688\" y2=\"396.9688\"/><text fill=\"#000000\" font-family=\"sans-serif\" font-size=\"12\" font-weight=\"bold\" lengthAdjust=\"spacingAndGlyphs\" textLength=\"18\" x=\"538\" y=\"410.1074\">do</text><text fill=\"#000000\" font-family=\"sans-serif\" font-size=\"12\" lengthAdjust=\"spacingAndGlyphs\" textLength=\"4\" x=\"556\" y=\"410.1074\">/</text></a></g><!--MD5=[5a531d3a85f3339e6e197084acb48195]\n",
       "link *start*E6 to E7--><a href=\"psysml:0b737fa2-1baa-4df5-913b-a090a33456a1\" target=\"_top\" title=\"psysml:0b737fa2-1baa-4df5-913b-a090a33456a1\" xlink:actuate=\"onRequest\" xlink:href=\"psysml:0b737fa2-1baa-4df5-913b-a090a33456a1\" xlink:show=\"new\" xlink:title=\"psysml:0b737fa2-1baa-4df5-913b-a090a33456a1\" xlink:type=\"simple\"><path d=\"M558,167.15 C558,167.15 558,250.67 558,250.67 \" fill=\"none\" id=\"*start*E6-&gt;E7\" style=\"stroke: #383838; stroke-width: 1.0;\"/><polygon fill=\"#383838\" points=\"558,255.67,562,246.67,558,250.67,554,246.67,558,255.67\" style=\"stroke: #383838; stroke-width: 1.0;\"/></a><!--MD5=[7ec9a8babba89ddcae1318ca9fb3c814]\n",
       "link E8 to *end*E6--><a href=\"psysml:a8c9411f-d651-41a0-86c1-118f6cba8c1d\" target=\"_top\" title=\"psysml:a8c9411f-d651-41a0-86c1-118f6cba8c1d\" xlink:actuate=\"onRequest\" xlink:href=\"psysml:a8c9411f-d651-41a0-86c1-118f6cba8c1d\" xlink:show=\"new\" xlink:title=\"psysml:a8c9411f-d651-41a0-86c1-118f6cba8c1d\" xlink:type=\"simple\"><path d=\"M558,421.09 C558,421.09 558,492.94 558,492.94 \" fill=\"none\" id=\"E8-&gt;*end*E6\" style=\"stroke: #383838; stroke-width: 1.0;\"/><polygon fill=\"#383838\" points=\"558,497.94,562,488.94,558,492.94,554,488.94,558,497.94\" style=\"stroke: #383838; stroke-width: 1.0;\"/><text fill=\"#000000\" font-family=\"sans-serif\" font-size=\"13\" lengthAdjust=\"spacingAndGlyphs\" textLength=\"23\" x=\"559\" y=\"464.0669\">Exit</text></a><!--MD5=[79bc8f324ef4d02c541433f2e6e513c3]\n",
       "link E7 to E8--><a href=\"psysml:eefcc534-c981-4425-9bf3-38251bd12a49\" target=\"_top\" title=\"psysml:eefcc534-c981-4425-9bf3-38251bd12a49\" xlink:actuate=\"onRequest\" xlink:href=\"psysml:eefcc534-c981-4425-9bf3-38251bd12a49\" xlink:show=\"new\" xlink:title=\"psysml:eefcc534-c981-4425-9bf3-38251bd12a49\" xlink:type=\"simple\"><path d=\"M549.67,296.25 C549.67,296.25 549.67,367.93 549.67,367.93 \" fill=\"none\" id=\"E7-&gt;E8\" style=\"stroke: #383838; stroke-width: 1.0;\"/><polygon fill=\"#383838\" points=\"549.67,372.93,553.67,363.93,549.67,367.93,545.67,363.93,549.67,372.93\" style=\"stroke: #383838; stroke-width: 1.0;\"/><text fill=\"#000000\" font-family=\"sans-serif\" font-size=\"13\" lengthAdjust=\"spacingAndGlyphs\" textLength=\"81\" x=\"498\" y=\"339.0669\">Sig /action D</text></a><!--MD5=[bfa3c8b0d15052fdf50ae9310b491027]\n",
       "link E8 to E7--><a href=\"psysml:bcd703ca-2055-4c24-98bc-6c579eb31483\" target=\"_top\" title=\"psysml:bcd703ca-2055-4c24-98bc-6c579eb31483\" xlink:actuate=\"onRequest\" xlink:href=\"psysml:bcd703ca-2055-4c24-98bc-6c579eb31483\" xlink:show=\"new\" xlink:title=\"psysml:bcd703ca-2055-4c24-98bc-6c579eb31483\" xlink:type=\"simple\"><path d=\"M566.33,372.8 C566.33,372.8 566.33,301.14 566.33,301.14 \" fill=\"none\" id=\"E8-&gt;E7\" style=\"stroke: #383838; stroke-width: 1.0;\"/><polygon fill=\"#383838\" points=\"566.33,296.14,562.33,305.14,566.33,301.14,570.33,305.14,566.33,296.14\" style=\"stroke: #383838; stroke-width: 1.0;\"/><text fill=\"#000000\" font-family=\"sans-serif\" font-size=\"13\" lengthAdjust=\"spacingAndGlyphs\" textLength=\"135\" x=\"621\" y=\"339.0669\">Sig [true]/send s to p</text></a><!--MD5=[6379b21fe399a119cf73f30a4479c933]\n",
       "@startuml\r\n",
       "skinparam linetype ortho\r\n",
       "skinparam monochrome true\r\n",
       "skinparam classbackgroundcolor white\r\n",
       "skinparam shadowing false\r\n",
       "skinparam wrapWidth 300\r\n",
       "hide circle\r\n",
       "\r\n",
       "package \"StateTest\" as E1  [[psysml:a2ca8720-bd4b-4556-9b27-091331149f1f ]]  {\r\n",
       "comp def \"Sig\" as E2  <<(T,blue)attribute def>> [[psysml:9b0c6b07-76e0-48e6-88f4-e6a2c752e8e3 ]] {\r\n",
       "- - attributes - -\r\n",
       "x\r\n",
       "}\r\n",
       "comp def \"Exit\" as E3  <<(T,blue)attribute def>> [[psysml:75ee6cec-68f4-495e-910b-3cf4854ee540 ]] {\r\n",
       "}\r\n",
       "comp usage \"p\" as E4  <<(T,blue)part>> [[psysml:d526add9-9153-4d94-82de-e3d10cc7d584 ]] {\r\n",
       "}\r\n",
       "rec usage \"act\" as E5  <<(T,blue)action>> [[psysml:12bd5d36-0dbf-4715-90c3-b0b875efee55 ]] {\r\n",
       "}\r\n",
       "\r\n",
       "rec def \"S\" as E6  <<(T,blue)state def>> [[psysml:b6aa9f25-72f8-4c2c-a7be-6589070e9bf6 ]] {\r\n",
       "rec usage \"S1\" as E7 [[psysml:1cabaaec-9539-448a-9df0-432fc817479b ]] {\r\n",
       "}\r\n",
       "\r\n",
       "rec usage \"S2\" as E8 [[psysml:7a7b17a9-f595-41dc-990f-a07a1c17ba3c ]] {\r\n",
       "desc \"S2\" as E8  : **do**/ \r\n",
       "}\r\n",
       "\r\n",
       "[*] - -> E7 [[psysml:0b737fa2-1baa-4df5-913b-a090a33456a1 ]] \r\n",
       "E8  - -> [*] [[psysml:a8c9411f-d651-41a0-86c1-118f6cba8c1d ]] : Exit \r\n",
       "desc \"S\" as E6  : **entry**/ A\r\n",
       "desc \"S\" as E6  : **do**/ B\r\n",
       "desc \"S\" as E6  : **exit**/ act \r\n",
       "}\r\n",
       "\r\n",
       "E7  - -> E8 [[psysml:eefcc534-c981-4425-9bf3-38251bd12a49 ]] : Sig /action D\r\n",
       "E8  - -> E7 [[psysml:bcd703ca-2055-4c24-98bc-6c579eb31483 ]] : Sig [true]/send s to p\r\n",
       "}\r\n",
       "@enduml\r\n",
       "\n",
       "PlantUML version 1.2020.13(Sat Jun 13 12:26:38 UTC 2020)\n",
       "(EPL source distribution)\n",
       "Java Runtime: OpenJDK Runtime Environment\n",
       "JVM: OpenJDK 64-Bit Server VM\n",
       "Default Encoding: UTF-8\n",
       "Language: en\n",
       "Country: null\n",
       "--></g></svg>"
      ]
     },
     "execution_count": 57,
     "metadata": {},
     "output_type": "execute_result"
    }
   ],
   "source": [
    "%viz --style=\"ORTHOLINE\" --view=\"MIXED\" \"StateTest\""
   ]
  }
 ],
 "metadata": {
  "kernelspec": {
   "display_name": "SysML",
   "language": "sysml",
   "name": "sysml"
  },
  "language_info": {
   "codemirror_mode": "sysml",
   "file_extension": ".sysml",
   "mimetype": "text/x-sysml",
   "name": "SysML",
   "pygments_lexer": "java",
   "version": "1.0.0"
  }
 },
 "nbformat": 4,
 "nbformat_minor": 5
}
