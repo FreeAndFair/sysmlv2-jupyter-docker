{
 "cells": [
  {
   "cell_type": "markdown",
   "id": "0a0183a3",
   "metadata": {},
   "source": [
    "# SysML v2 Test Suite\n",
    "\n",
    "This can notebook can be cleared using menu `Edit --> Clear All Outputs` and then all cells can be\n",
    "run using menu `Run --> Run All Cells`.\n",
    "\n",
    "**WARNING**: This file is generated, all modifications here will be ignored.\n"
   ]
  },
  {
   "cell_type": "markdown",
   "id": "54290544",
   "metadata": {},
   "source": [
    "## File: ../../sysml/src/examples/Import Tests/PrivateImportTest.sysml"
   ]
  },
  {
   "cell_type": "code",
   "execution_count": 1,
   "id": "4d75ec61",
   "metadata": {
    "execution": {
     "iopub.execute_input": "2022-02-18T10:48:44.243286Z",
     "iopub.status.busy": "2022-02-18T10:48:44.242381Z",
     "iopub.status.idle": "2022-02-18T10:48:44.352376Z",
     "shell.execute_reply": "2022-02-18T10:48:44.351856Z"
    }
   },
   "outputs": [
    {
     "data": {
      "text/plain": [
       "Package PrivateImportTest (2a3e0563-197e-4a7a-9730-b3594a87529a)\n"
      ]
     },
     "execution_count": 1,
     "metadata": {},
     "output_type": "execute_result"
    }
   ],
   "source": [
    "package PrivateImportTest {\n",
    "\tpackage P1 {\n",
    "\t\tpart def A;\n",
    "\t}\n",
    "\tpackage P2 {\n",
    "\t\tprivate import P1::*;\n",
    "\t}\n",
    "\n",
    "\tpart x: P1::A;\n",
    "\t\n",
    "\timport P2::*;\n",
    "\t// This should fail.\n",
    "\t// A is not visible, because the import in P2 is private.\n",
    "\t// part y: A;\n",
    "\t// part y1: P2::A;\n",
    "\t\n",
    "\tpackage P3 {\n",
    "\t\tpart def B;\n",
    "\t}\n",
    "\t\n",
    "\tprivate import P3::*;\n",
    "\t\n",
    "\t// This should not fail.\n",
    "\t// Private import only restricts visibility outside the package.\n",
    "\tpart z: B;\n",
    "\t\n",
    "\tpackage P4 {\n",
    "\t\timport all P2::*;\n",
    "\t\t\n",
    "\t\t// This should not fail because \"import all\" overrides private import.\n",
    "\t\tpart z1: A;\n",
    "\t}\t\n",
    "}"
   ]
  },
  {
   "cell_type": "code",
   "execution_count": 2,
   "id": "b1cf45f6",
   "metadata": {
    "execution": {
     "iopub.execute_input": "2022-02-18T10:48:44.403435Z",
     "iopub.status.busy": "2022-02-18T10:48:44.403005Z",
     "iopub.status.idle": "2022-02-18T10:48:44.865785Z",
     "shell.execute_reply": "2022-02-18T10:48:44.864684Z"
    }
   },
   "outputs": [
    {
     "data": {
      "image/svg+xml": [
       "<?xml version=\"1.0\" encoding=\"UTF-8\" standalone=\"no\"?><svg xmlns=\"http://www.w3.org/2000/svg\" xmlns:xlink=\"http://www.w3.org/1999/xlink\" contentScriptType=\"application/ecmascript\" contentStyleType=\"text/css\" height=\"586px\" preserveAspectRatio=\"none\" style=\"width:433px;height:586px;\" version=\"1.1\" viewBox=\"0 0 433 586\" width=\"433px\" zoomAndPan=\"magnify\"><defs/><g><!--MD5=[fbc87193dbaf4d95561dea2c320d4a47]\n",
       "cluster E1--><a href=\"psysml:56a08668-af7c-402b-8ea6-0ffeccd2e906\" target=\"_top\" title=\"psysml:56a08668-af7c-402b-8ea6-0ffeccd2e906\" xlink:actuate=\"onRequest\" xlink:href=\"psysml:56a08668-af7c-402b-8ea6-0ffeccd2e906\" xlink:show=\"new\" xlink:title=\"psysml:56a08668-af7c-402b-8ea6-0ffeccd2e906\" xlink:type=\"simple\"><polygon fill=\"#FFFFFF\" points=\"26.32,6,153.32,6,160.32,28.2969,411.32,28.2969,411.32,574,26.32,574,26.32,6\" style=\"stroke: #000000; stroke-width: 1.5;\"/><line style=\"stroke: #000000; stroke-width: 1.5;\" x1=\"26.32\" x2=\"160.32\" y1=\"28.2969\" y2=\"28.2969\"/><text fill=\"#000000\" font-family=\"sans-serif\" font-size=\"14\" font-weight=\"bold\" lengthAdjust=\"spacingAndGlyphs\" textLength=\"121\" x=\"30.32\" y=\"20.9951\">PrivateImportTest</text></a><!--MD5=[e4f7fae6ed58524ba242bb0b0d3be6b7]\n",
       "cluster E2--><a href=\"psysml:989134c5-5272-479d-a43e-5e5573119e0c\" target=\"_top\" title=\"psysml:989134c5-5272-479d-a43e-5e5573119e0c\" xlink:actuate=\"onRequest\" xlink:href=\"psysml:989134c5-5272-479d-a43e-5e5573119e0c\" xlink:show=\"new\" xlink:title=\"psysml:989134c5-5272-479d-a43e-5e5573119e0c\" xlink:type=\"simple\"><polygon fill=\"#FFFFFF\" points=\"231.32,421,255.32,421,262.32,443.2969,368.32,443.2969,368.32,534,231.32,534,231.32,421\" style=\"stroke: #000000; stroke-width: 1.5;\"/><line style=\"stroke: #000000; stroke-width: 1.5;\" x1=\"231.32\" x2=\"262.32\" y1=\"443.2969\" y2=\"443.2969\"/><text fill=\"#000000\" font-family=\"sans-serif\" font-size=\"14\" font-weight=\"bold\" lengthAdjust=\"spacingAndGlyphs\" textLength=\"18\" x=\"235.32\" y=\"435.9951\">P1</text></a><!--MD5=[14e3b0961a2654348d326746436168a1]\n",
       "cluster E6--><a href=\"psysml:90563c83-8b6e-4371-ac3b-36c1983fe7e9\" target=\"_top\" title=\"psysml:90563c83-8b6e-4371-ac3b-36c1983fe7e9\" xlink:actuate=\"onRequest\" xlink:href=\"psysml:90563c83-8b6e-4371-ac3b-36c1983fe7e9\" xlink:show=\"new\" xlink:title=\"psysml:90563c83-8b6e-4371-ac3b-36c1983fe7e9\" xlink:type=\"simple\"><polygon fill=\"#FFFFFF\" points=\"74.32,243,98.32,243,105.32,265.2969,211.32,265.2969,211.32,356,74.32,356,74.32,243\" style=\"stroke: #000000; stroke-width: 1.5;\"/><line style=\"stroke: #000000; stroke-width: 1.5;\" x1=\"74.32\" x2=\"105.32\" y1=\"265.2969\" y2=\"265.2969\"/><text fill=\"#000000\" font-family=\"sans-serif\" font-size=\"14\" font-weight=\"bold\" lengthAdjust=\"spacingAndGlyphs\" textLength=\"18\" x=\"78.32\" y=\"257.9951\">P3</text></a><!--MD5=[7f149f147074ac12df2cb0a7728a5fb0]\n",
       "cluster E9--><a href=\"psysml:2733cc0d-ab4e-4acc-aaf2-0d4d1c16697a\" target=\"_top\" title=\"psysml:2733cc0d-ab4e-4acc-aaf2-0d4d1c16697a\" xlink:actuate=\"onRequest\" xlink:href=\"psysml:2733cc0d-ab4e-4acc-aaf2-0d4d1c16697a\" xlink:show=\"new\" xlink:title=\"psysml:2733cc0d-ab4e-4acc-aaf2-0d4d1c16697a\" xlink:type=\"simple\"><polygon fill=\"#FFFFFF\" points=\"262.32,65,286.32,65,293.32,87.2969,371.32,87.2969,371.32,178,262.32,178,262.32,65\" style=\"stroke: #000000; stroke-width: 1.5;\"/><line style=\"stroke: #000000; stroke-width: 1.5;\" x1=\"262.32\" x2=\"293.32\" y1=\"87.2969\" y2=\"87.2969\"/><text fill=\"#000000\" font-family=\"sans-serif\" font-size=\"14\" font-weight=\"bold\" lengthAdjust=\"spacingAndGlyphs\" textLength=\"18\" x=\"266.32\" y=\"79.9951\">P4</text></a><!--MD5=[270fce915f116d4de14055a7c1d9a0f3]\n",
       "class E5--><a href=\"psysml:4755439e-6dab-436e-bf4a-d220bd8663ba\" target=\"_top\" title=\"psysml:4755439e-6dab-436e-bf4a-d220bd8663ba\" xlink:actuate=\"onRequest\" xlink:href=\"psysml:4755439e-6dab-436e-bf4a-d220bd8663ba\" xlink:show=\"new\" xlink:title=\"psysml:4755439e-6dab-436e-bf4a-d220bd8663ba\" xlink:type=\"simple\"><rect fill=\"#FFFFFF\" height=\"45.9375\" id=\"E5\" rx=\"10\" ry=\"10\" style=\"stroke: #383838; stroke-width: 1.5;\" width=\"42\" x=\"345.32\" y=\"286\"/><text fill=\"#000000\" font-family=\"sans-serif\" font-size=\"12\" font-style=\"italic\" lengthAdjust=\"spacingAndGlyphs\" textLength=\"40\" x=\"346.32\" y=\"302.1387\">«part»</text><text fill=\"#000000\" font-family=\"sans-serif\" font-size=\"12\" lengthAdjust=\"spacingAndGlyphs\" textLength=\"22\" x=\"353.32\" y=\"316.1074\">x: A</text><line style=\"stroke: #383838; stroke-width: 1.5;\" x1=\"346.32\" x2=\"386.32\" y1=\"323.9375\" y2=\"323.9375\"/></a><!--MD5=[b9389687b975829384b498ac4b7476b2]\n",
       "class E8--><a href=\"psysml:dfc306bc-28cd-4074-8d12-696a322e5955\" target=\"_top\" title=\"psysml:dfc306bc-28cd-4074-8d12-696a322e5955\" xlink:actuate=\"onRequest\" xlink:href=\"psysml:dfc306bc-28cd-4074-8d12-696a322e5955\" xlink:show=\"new\" xlink:title=\"psysml:dfc306bc-28cd-4074-8d12-696a322e5955\" xlink:type=\"simple\"><rect fill=\"#FFFFFF\" height=\"45.9375\" id=\"E8\" rx=\"10\" ry=\"10\" style=\"stroke: #383838; stroke-width: 1.5;\" width=\"42\" x=\"193.32\" y=\"108\"/><text fill=\"#000000\" font-family=\"sans-serif\" font-size=\"12\" font-style=\"italic\" lengthAdjust=\"spacingAndGlyphs\" textLength=\"40\" x=\"194.32\" y=\"124.1387\">«part»</text><text fill=\"#000000\" font-family=\"sans-serif\" font-size=\"12\" lengthAdjust=\"spacingAndGlyphs\" textLength=\"21\" x=\"201.82\" y=\"138.1074\">z: B</text><line style=\"stroke: #383838; stroke-width: 1.5;\" x1=\"194.32\" x2=\"234.32\" y1=\"145.9375\" y2=\"145.9375\"/></a><!--MD5=[09b614a08d8cba4a07c9adeb5e0fee81]\n",
       "class E3--><a href=\"psysml:1f011377-ef65-4253-92ff-be4f522feeb1\" target=\"_top\" title=\"psysml:1f011377-ef65-4253-92ff-be4f522feeb1\" xlink:actuate=\"onRequest\" xlink:href=\"psysml:1f011377-ef65-4253-92ff-be4f522feeb1\" xlink:show=\"new\" xlink:title=\"psysml:1f011377-ef65-4253-92ff-be4f522feeb1\" xlink:type=\"simple\"><rect fill=\"#FFFFFF\" height=\"45.9375\" id=\"E3\" style=\"stroke: #383838; stroke-width: 1.5;\" width=\"70\" x=\"274.32\" y=\"464\"/><text fill=\"#000000\" font-family=\"sans-serif\" font-size=\"12\" font-style=\"italic\" lengthAdjust=\"spacingAndGlyphs\" textLength=\"68\" x=\"275.32\" y=\"480.1387\">«part  def»</text><text fill=\"#000000\" font-family=\"sans-serif\" font-size=\"12\" lengthAdjust=\"spacingAndGlyphs\" textLength=\"8\" x=\"305.32\" y=\"494.1074\">A</text><line style=\"stroke: #383838; stroke-width: 1.5;\" x1=\"275.32\" x2=\"343.32\" y1=\"501.9375\" y2=\"501.9375\"/></a><a href=\"psysml:7d907640-2982-4506-b0ab-4e4fe8a9afec\" target=\"_top\" title=\"psysml:7d907640-2982-4506-b0ab-4e4fe8a9afec\" xlink:actuate=\"onRequest\" xlink:href=\"psysml:7d907640-2982-4506-b0ab-4e4fe8a9afec\" xlink:show=\"new\" xlink:title=\"psysml:7d907640-2982-4506-b0ab-4e4fe8a9afec\" xlink:type=\"simple\"><polygon fill=\"#FFFFFF\" points=\"235.32,282.5,259.32,282.5,266.32,304.7969,273.32,304.7969,273.32,335.0938,235.32,335.0938,235.32,282.5\" style=\"stroke: #000000; stroke-width: 1.5;\"/><line style=\"stroke: #000000; stroke-width: 1.5;\" x1=\"235.32\" x2=\"266.32\" y1=\"304.7969\" y2=\"304.7969\"/><text fill=\"#000000\" font-family=\"sans-serif\" font-size=\"14\" font-weight=\"bold\" lengthAdjust=\"spacingAndGlyphs\" textLength=\"18\" x=\"239.32\" y=\"297.4951\">P2</text></a><!--MD5=[2156ba9850f5573cc1fc38a6a4b2f02b]\n",
       "class E7--><a href=\"psysml:bdb8801b-74e6-41c7-b5f1-114cae898237\" target=\"_top\" title=\"psysml:bdb8801b-74e6-41c7-b5f1-114cae898237\" xlink:actuate=\"onRequest\" xlink:href=\"psysml:bdb8801b-74e6-41c7-b5f1-114cae898237\" xlink:show=\"new\" xlink:title=\"psysml:bdb8801b-74e6-41c7-b5f1-114cae898237\" xlink:type=\"simple\"><rect fill=\"#FFFFFF\" height=\"45.9375\" id=\"E7\" style=\"stroke: #383838; stroke-width: 1.5;\" width=\"70\" x=\"117.32\" y=\"286\"/><text fill=\"#000000\" font-family=\"sans-serif\" font-size=\"12\" font-style=\"italic\" lengthAdjust=\"spacingAndGlyphs\" textLength=\"68\" x=\"118.32\" y=\"302.1387\">«part  def»</text><text fill=\"#000000\" font-family=\"sans-serif\" font-size=\"12\" lengthAdjust=\"spacingAndGlyphs\" textLength=\"8\" x=\"148.32\" y=\"316.1074\">B</text><line style=\"stroke: #383838; stroke-width: 1.5;\" x1=\"118.32\" x2=\"186.32\" y1=\"323.9375\" y2=\"323.9375\"/></a><!--MD5=[96f4274e9e20536e775497830990834d]\n",
       "class E10--><a href=\"psysml:aa943bbf-59d6-4c08-9403-21388691ca57\" target=\"_top\" title=\"psysml:aa943bbf-59d6-4c08-9403-21388691ca57\" xlink:actuate=\"onRequest\" xlink:href=\"psysml:aa943bbf-59d6-4c08-9403-21388691ca57\" xlink:show=\"new\" xlink:title=\"psysml:aa943bbf-59d6-4c08-9403-21388691ca57\" xlink:type=\"simple\"><rect fill=\"#FFFFFF\" height=\"45.9375\" id=\"E10\" rx=\"10\" ry=\"10\" style=\"stroke: #383838; stroke-width: 1.5;\" width=\"42\" x=\"305.32\" y=\"108\"/><text fill=\"#000000\" font-family=\"sans-serif\" font-size=\"12\" font-style=\"italic\" lengthAdjust=\"spacingAndGlyphs\" textLength=\"40\" x=\"306.32\" y=\"124.1387\">«part»</text><text fill=\"#000000\" font-family=\"sans-serif\" font-size=\"12\" lengthAdjust=\"spacingAndGlyphs\" textLength=\"29\" x=\"309.82\" y=\"138.1074\">z1: A</text><line style=\"stroke: #383838; stroke-width: 1.5;\" x1=\"306.32\" x2=\"346.32\" y1=\"145.9375\" y2=\"145.9375\"/></a><!--MD5=[185131fc0dcab0a4505a2ebe144e961b]\n",
       "link E4 to E2--><a href=\"psysml:113e6c15-2e9f-43c2-9a8b-f1023998ecb3\" target=\"_top\" title=\"psysml:113e6c15-2e9f-43c2-9a8b-f1023998ecb3\" xlink:actuate=\"onRequest\" xlink:href=\"psysml:113e6c15-2e9f-43c2-9a8b-f1023998ecb3\" xlink:show=\"new\" xlink:title=\"psysml:113e6c15-2e9f-43c2-9a8b-f1023998ecb3\" xlink:type=\"simple\"><path d=\"M244.71,335.52 C240.28,348.61 235.53,364.94 233.32,380 C231.6325,391.49 231.1388,403.7444 231.3534,415.6911 C231.3803,417.1844 231.4182,418.673 231.4662,420.1546 C231.4722,420.3398 231.4784,420.5249 231.4847,420.7099 \" fill=\"none\" id=\"E4-&gt;E2\" style=\"stroke: #383838; stroke-width: 1.0; stroke-dasharray: 7.0,7.0;\"/><polygon fill=\"#383838\" points=\"231.4847,420.7099,235.1752,411.5786,231.314,415.7128,227.1798,411.8517,231.4847,420.7099\" style=\"stroke: #383838; stroke-width: 1.0;\"/><text fill=\"#000000\" font-family=\"sans-serif\" font-size=\"13\" lengthAdjust=\"spacingAndGlyphs\" textLength=\"65\" x=\"234.32\" y=\"393.0669\">«import»*</text></a><!--MD5=[e9be52314489bd878ff4c7144b63c9e1]\n",
       "link E5 to E3--><a href=\"psysml:2e030f48-ed8d-4fbc-a256-8117ac7131ec\" target=\"_top\" title=\"psysml:2e030f48-ed8d-4fbc-a256-8117ac7131ec\" xlink:actuate=\"onRequest\" xlink:href=\"psysml:2e030f48-ed8d-4fbc-a256-8117ac7131ec\" xlink:show=\"new\" xlink:title=\"psysml:2e030f48-ed8d-4fbc-a256-8117ac7131ec\" xlink:type=\"simple\"><path d=\"M359.1,332.29 C349.98,360.46 334.1,409.49 322.72,444.61 \" fill=\"none\" id=\"E5-&gt;E3\" style=\"stroke: #383838; stroke-width: 1.0;\"/><polygon fill=\"#FFFFFF\" points=\"316.48,463.89,315.6693,443.6578,328.9893,447.9678,316.48,463.89\" style=\"stroke: #383838; stroke-width: 1.0;\"/><ellipse cx=\"319.3269\" cy=\"438.8503\" fill=\"#383838\" rx=\"2\" ry=\"2\" style=\"stroke: #383838; stroke-width: 1.0;\"/><ellipse cx=\"328.8413\" cy=\"441.9289\" fill=\"#383838\" rx=\"2\" ry=\"2\" style=\"stroke: #383838; stroke-width: 1.0;\"/></a><!--MD5=[ee384bb554873b72f85793eae40e290c]\n",
       "link E1 to E4--><a href=\"psysml:a039409c-dc44-4261-a761-133767375f35\" target=\"_top\" title=\"psysml:a039409c-dc44-4261-a761-133767375f35\" xlink:actuate=\"onRequest\" xlink:href=\"psysml:a039409c-dc44-4261-a761-133767375f35\" xlink:show=\"new\" xlink:title=\"psysml:a039409c-dc44-4261-a761-133767375f35\" xlink:type=\"simple\"><path d=\"M34.29,132.12 C33.65,134.6 23.75,174.52 42.32,194 C49.33,201.35 77.35,200.04 87.32,202 C113.19,207.09 181.71,211.88 203.32,227 C220.99,239.37 233.85,260.02 242.24,277.37 \" fill=\"none\" id=\"E1-&gt;E4\" style=\"stroke: #383838; stroke-width: 1.0; stroke-dasharray: 7.0,7.0;\"/><polygon fill=\"#383838\" points=\"244.49,282.17,244.3071,272.3228,242.3748,277.6394,237.0582,275.7072,244.49,282.17\" style=\"stroke: #383838; stroke-width: 1.0;\"/><text fill=\"#000000\" font-family=\"sans-serif\" font-size=\"13\" lengthAdjust=\"spacingAndGlyphs\" textLength=\"65\" x=\"183.32\" y=\"215.0669\">«import»*</text></a><!--MD5=[ccbd3af71bf83df0ec2a2db62d6d7130]\n",
       "link E1 to E6--><a href=\"psysml:8872cc02-851e-450c-b3e8-f90f2e3db770\" target=\"_top\" title=\"psysml:8872cc02-851e-450c-b3e8-f90f2e3db770\" xlink:actuate=\"onRequest\" xlink:href=\"psysml:8872cc02-851e-450c-b3e8-f90f2e3db770\" xlink:show=\"new\" xlink:title=\"psysml:8872cc02-851e-450c-b3e8-f90f2e3db770\" xlink:type=\"simple\"><path d=\"M26.1693,145.3513 C26.1165,145.4477 26.0635,145.5445 26.0105,145.6418 C25.9044,145.8363 25.7978,146.0325 25.6908,146.2304 C24.8349,147.8133 23.9523,149.5023 23.0614,151.284 C21.2797,154.8473 19.465,158.7813 17.765,162.9775 C10.965,179.7625 6,200.745 12.32,219 C20.295,242.035 36.9675,263.635 52.0413,279.7863 C59.5781,287.8619 66.7153,294.5753 72.1658,299.4248 C72.8471,300.031 73.502,300.6081 74.1281,301.1551 \" fill=\"none\" id=\"E1-&gt;E6\" style=\"stroke: #383838; stroke-width: 1.0; stroke-dasharray: 7.0,7.0;\"/><polygon fill=\"#383838\" points=\"74.1281,301.1551,69.982,292.2214,70.3627,297.8655,64.7187,298.2462,74.1281,301.1551\" style=\"stroke: #383838; stroke-width: 1.0;\"/><text fill=\"#000000\" font-family=\"sans-serif\" font-size=\"13\" lengthAdjust=\"spacingAndGlyphs\" textLength=\"65\" x=\"13.32\" y=\"215.0669\">«import»*</text></a><!--MD5=[bfa3c8b0d15052fdf50ae9310b491027]\n",
       "link E8 to E7--><a href=\"psysml:0934d2d2-1a49-4ac4-b6c0-cd8fa5ea19dd\" target=\"_top\" title=\"psysml:0934d2d2-1a49-4ac4-b6c0-cd8fa5ea19dd\" xlink:actuate=\"onRequest\" xlink:href=\"psysml:0934d2d2-1a49-4ac4-b6c0-cd8fa5ea19dd\" xlink:show=\"new\" xlink:title=\"psysml:0934d2d2-1a49-4ac4-b6c0-cd8fa5ea19dd\" xlink:type=\"simple\"><path d=\"M232.99,154.29 C246.61,173.37 260.16,200.59 244.32,219 C228.78,237.06 210.49,212.85 191.32,227 C178.2,236.69 169.29,251.96 163.34,266.65 \" fill=\"none\" id=\"E8-&gt;E7\" style=\"stroke: #383838; stroke-width: 1.0;\"/><polygon fill=\"#FFFFFF\" points=\"156.95,285.73,156.3404,265.4907,169.617,269.9329,156.95,285.73\" style=\"stroke: #383838; stroke-width: 1.0;\"/><ellipse cx=\"160.0457\" cy=\"260.7199\" fill=\"#383838\" rx=\"2\" ry=\"2\" style=\"stroke: #383838; stroke-width: 1.0;\"/><ellipse cx=\"169.5289\" cy=\"263.8929\" fill=\"#383838\" rx=\"2\" ry=\"2\" style=\"stroke: #383838; stroke-width: 1.0;\"/></a><!--MD5=[c2be97adba6ddfe1c8f349fab141c927]\n",
       "link E9 to E4--><a href=\"psysml:f0473cf2-6b9f-40e7-98be-e0cb9d304d8b\" target=\"_top\" title=\"psysml:f0473cf2-6b9f-40e7-98be-e0cb9d304d8b\" xlink:actuate=\"onRequest\" xlink:href=\"psysml:f0473cf2-6b9f-40e7-98be-e0cb9d304d8b\" xlink:show=\"new\" xlink:title=\"psysml:f0473cf2-6b9f-40e7-98be-e0cb9d304d8b\" xlink:type=\"simple\"><path d=\"M267.5431,178.2415 C267.5354,178.35 267.5276,178.4585 267.5198,178.5671 C267.3951,180.3034 267.2673,182.0417 267.1366,183.7729 C266.8753,187.2352 266.6025,190.6688 266.32,194 C263.93,222.21 260.49,254.26 257.9,277.18 \" fill=\"none\" id=\"E9-&gt;E4\" style=\"stroke: #383838; stroke-width: 1.0; stroke-dasharray: 7.0,7.0;\"/><polygon fill=\"#383838\" points=\"257.33,282.22,262.3075,273.7215,257.8869,277.2511,254.3572,272.8305,257.33,282.22\" style=\"stroke: #383838; stroke-width: 1.0;\"/><text fill=\"#000000\" font-family=\"sans-serif\" font-size=\"13\" lengthAdjust=\"spacingAndGlyphs\" textLength=\"65\" x=\"266.32\" y=\"215.0669\">«import»*</text></a><!--MD5=[feeac5eb423634930294aa81f2d25a4c]\n",
       "link E10 to E3--><a href=\"psysml:6083fff7-7e2a-4a1f-b6e0-00602bace9f4\" target=\"_top\" title=\"psysml:6083fff7-7e2a-4a1f-b6e0-00602bace9f4\" xlink:actuate=\"onRequest\" xlink:href=\"psysml:6083fff7-7e2a-4a1f-b6e0-00602bace9f4\" xlink:show=\"new\" xlink:title=\"psysml:6083fff7-7e2a-4a1f-b6e0-00602bace9f4\" xlink:type=\"simple\"><path d=\"M345.63,154.11 C359.77,173.07 373.99,200.22 358.32,219 C345.58,234.26 327.2,211.86 314.32,227 C300.64,243.07 304.33,374.79 307.28,443.95 \" fill=\"none\" id=\"E10-&gt;E3\" style=\"stroke: #383838; stroke-width: 1.0;\"/><polygon fill=\"#FFFFFF\" points=\"308.18,463.98,300.3317,445.3144,314.3175,444.6841,308.18,463.98\" style=\"stroke: #383838; stroke-width: 1.0;\"/><ellipse cx=\"302.0731\" cy=\"439.5301\" fill=\"#383838\" rx=\"2\" ry=\"2\" style=\"stroke: #383838; stroke-width: 1.0;\"/><ellipse cx=\"312.063\" cy=\"439.0799\" fill=\"#383838\" rx=\"2\" ry=\"2\" style=\"stroke: #383838; stroke-width: 1.0;\"/></a><!--MD5=[a88ead48488784f3d05a4fa735d2db1b]\n",
       "@startuml\r\n",
       " skinparam monochrome true\r\n",
       "skinparam classbackgroundcolor white\r\n",
       "skinparam shadowing false\r\n",
       "skinparam wrapWidth 300\r\n",
       "hide circle\r\n",
       "\r\n",
       "package \"PrivateImportTest\" as E1  [[psysml:56a08668-af7c-402b-8ea6-0ffeccd2e906 ]]  {\r\n",
       "package \"P1\" as E2  [[psysml:989134c5-5272-479d-a43e-5e5573119e0c ]]  {\r\n",
       "comp def \"A\" as E3  <<(T,blue) part  def>> [[psysml:1f011377-ef65-4253-92ff-be4f522feeb1 ]] {\r\n",
       "}\r\n",
       "}\r\n",
       "package \"P2\" as E4  [[psysml:7d907640-2982-4506-b0ab-4e4fe8a9afec ]]  {\r\n",
       "}\r\n",
       "comp usage \"x: A \" as E5  <<(T,blue) part>> [[psysml:4755439e-6dab-436e-bf4a-d220bd8663ba ]] {\r\n",
       "}\r\n",
       "package \"P3\" as E6  [[psysml:90563c83-8b6e-4371-ac3b-36c1983fe7e9 ]]  {\r\n",
       "comp def \"B\" as E7  <<(T,blue) part  def>> [[psysml:bdb8801b-74e6-41c7-b5f1-114cae898237 ]] {\r\n",
       "}\r\n",
       "}\r\n",
       "comp usage \"z: B \" as E8  <<(T,blue) part>> [[psysml:dfc306bc-28cd-4074-8d12-696a322e5955 ]] {\r\n",
       "}\r\n",
       "package \"P4\" as E9  [[psysml:2733cc0d-ab4e-4acc-aaf2-0d4d1c16697a ]]  {\r\n",
       "comp usage \"z1: A \" as E10  <<(T,blue) part>> [[psysml:aa943bbf-59d6-4c08-9403-21388691ca57 ]] {\r\n",
       "}\r\n",
       "}\r\n",
       "}\r\n",
       "E4 ..> E2 [[psysml:113e6c15-2e9f-43c2-9a8b-f1023998ecb3 ]] : <<import>>*\r\n",
       "E5 - -:|> E3 [[psysml:2e030f48-ed8d-4fbc-a256-8117ac7131ec ]] \r\n",
       "E1 ..> E4 [[psysml:a039409c-dc44-4261-a761-133767375f35 ]] : <<import>>*\r\n",
       "E1 ..> E6 [[psysml:8872cc02-851e-450c-b3e8-f90f2e3db770 ]] : <<import>>*\r\n",
       "E8 - -:|> E7 [[psysml:0934d2d2-1a49-4ac4-b6c0-cd8fa5ea19dd ]] \r\n",
       "E9 ..> E4 [[psysml:f0473cf2-6b9f-40e7-98be-e0cb9d304d8b ]] : <<import>>*\r\n",
       "E10 - -:|> E3 [[psysml:6083fff7-7e2a-4a1f-b6e0-00602bace9f4 ]] \r\n",
       "@enduml\r\n",
       "\n",
       "PlantUML version 1.2020.13(Sat Jun 13 12:26:38 UTC 2020)\n",
       "(EPL source distribution)\n",
       "Java Runtime: OpenJDK Runtime Environment\n",
       "JVM: OpenJDK 64-Bit Server VM\n",
       "Default Encoding: UTF-8\n",
       "Language: en\n",
       "Country: null\n",
       "--></g></svg>"
      ]
     },
     "execution_count": 2,
     "metadata": {},
     "output_type": "execute_result"
    }
   ],
   "source": [
    "%viz --style=\"COMPTREE\" --view=\"Default\" \"PrivateImportTest\""
   ]
  },
  {
   "cell_type": "code",
   "execution_count": 3,
   "id": "45ce2cc6",
   "metadata": {
    "execution": {
     "iopub.execute_input": "2022-02-18T10:48:44.915973Z",
     "iopub.status.busy": "2022-02-18T10:48:44.915665Z",
     "iopub.status.idle": "2022-02-18T10:48:44.981441Z",
     "shell.execute_reply": "2022-02-18T10:48:44.981066Z"
    }
   },
   "outputs": [
    {
     "data": {
      "image/svg+xml": [
       "<?xml version=\"1.0\" encoding=\"UTF-8\" standalone=\"no\"?><svg xmlns=\"http://www.w3.org/2000/svg\" xmlns:xlink=\"http://www.w3.org/1999/xlink\" contentScriptType=\"application/ecmascript\" contentStyleType=\"text/css\" height=\"586px\" preserveAspectRatio=\"none\" style=\"width:433px;height:586px;\" version=\"1.1\" viewBox=\"0 0 433 586\" width=\"433px\" zoomAndPan=\"magnify\"><defs/><g><!--MD5=[fbc87193dbaf4d95561dea2c320d4a47]\n",
       "cluster E1--><a href=\"psysml:56a08668-af7c-402b-8ea6-0ffeccd2e906\" target=\"_top\" title=\"psysml:56a08668-af7c-402b-8ea6-0ffeccd2e906\" xlink:actuate=\"onRequest\" xlink:href=\"psysml:56a08668-af7c-402b-8ea6-0ffeccd2e906\" xlink:show=\"new\" xlink:title=\"psysml:56a08668-af7c-402b-8ea6-0ffeccd2e906\" xlink:type=\"simple\"><polygon fill=\"#FFFFFF\" points=\"26.32,6,153.32,6,160.32,28.2969,411.32,28.2969,411.32,574,26.32,574,26.32,6\" style=\"stroke: #000000; stroke-width: 1.5;\"/><line style=\"stroke: #000000; stroke-width: 1.5;\" x1=\"26.32\" x2=\"160.32\" y1=\"28.2969\" y2=\"28.2969\"/><text fill=\"#000000\" font-family=\"sans-serif\" font-size=\"14\" font-weight=\"bold\" lengthAdjust=\"spacingAndGlyphs\" textLength=\"121\" x=\"30.32\" y=\"20.9951\">PrivateImportTest</text></a><!--MD5=[e4f7fae6ed58524ba242bb0b0d3be6b7]\n",
       "cluster E2--><a href=\"psysml:989134c5-5272-479d-a43e-5e5573119e0c\" target=\"_top\" title=\"psysml:989134c5-5272-479d-a43e-5e5573119e0c\" xlink:actuate=\"onRequest\" xlink:href=\"psysml:989134c5-5272-479d-a43e-5e5573119e0c\" xlink:show=\"new\" xlink:title=\"psysml:989134c5-5272-479d-a43e-5e5573119e0c\" xlink:type=\"simple\"><polygon fill=\"#FFFFFF\" points=\"231.32,421,255.32,421,262.32,443.2969,368.32,443.2969,368.32,534,231.32,534,231.32,421\" style=\"stroke: #000000; stroke-width: 1.5;\"/><line style=\"stroke: #000000; stroke-width: 1.5;\" x1=\"231.32\" x2=\"262.32\" y1=\"443.2969\" y2=\"443.2969\"/><text fill=\"#000000\" font-family=\"sans-serif\" font-size=\"14\" font-weight=\"bold\" lengthAdjust=\"spacingAndGlyphs\" textLength=\"18\" x=\"235.32\" y=\"435.9951\">P1</text></a><!--MD5=[14e3b0961a2654348d326746436168a1]\n",
       "cluster E6--><a href=\"psysml:90563c83-8b6e-4371-ac3b-36c1983fe7e9\" target=\"_top\" title=\"psysml:90563c83-8b6e-4371-ac3b-36c1983fe7e9\" xlink:actuate=\"onRequest\" xlink:href=\"psysml:90563c83-8b6e-4371-ac3b-36c1983fe7e9\" xlink:show=\"new\" xlink:title=\"psysml:90563c83-8b6e-4371-ac3b-36c1983fe7e9\" xlink:type=\"simple\"><polygon fill=\"#FFFFFF\" points=\"74.32,243,98.32,243,105.32,265.2969,211.32,265.2969,211.32,356,74.32,356,74.32,243\" style=\"stroke: #000000; stroke-width: 1.5;\"/><line style=\"stroke: #000000; stroke-width: 1.5;\" x1=\"74.32\" x2=\"105.32\" y1=\"265.2969\" y2=\"265.2969\"/><text fill=\"#000000\" font-family=\"sans-serif\" font-size=\"14\" font-weight=\"bold\" lengthAdjust=\"spacingAndGlyphs\" textLength=\"18\" x=\"78.32\" y=\"257.9951\">P3</text></a><!--MD5=[7f149f147074ac12df2cb0a7728a5fb0]\n",
       "cluster E9--><a href=\"psysml:2733cc0d-ab4e-4acc-aaf2-0d4d1c16697a\" target=\"_top\" title=\"psysml:2733cc0d-ab4e-4acc-aaf2-0d4d1c16697a\" xlink:actuate=\"onRequest\" xlink:href=\"psysml:2733cc0d-ab4e-4acc-aaf2-0d4d1c16697a\" xlink:show=\"new\" xlink:title=\"psysml:2733cc0d-ab4e-4acc-aaf2-0d4d1c16697a\" xlink:type=\"simple\"><polygon fill=\"#FFFFFF\" points=\"262.32,65,286.32,65,293.32,87.2969,371.32,87.2969,371.32,178,262.32,178,262.32,65\" style=\"stroke: #000000; stroke-width: 1.5;\"/><line style=\"stroke: #000000; stroke-width: 1.5;\" x1=\"262.32\" x2=\"293.32\" y1=\"87.2969\" y2=\"87.2969\"/><text fill=\"#000000\" font-family=\"sans-serif\" font-size=\"14\" font-weight=\"bold\" lengthAdjust=\"spacingAndGlyphs\" textLength=\"18\" x=\"266.32\" y=\"79.9951\">P4</text></a><!--MD5=[270fce915f116d4de14055a7c1d9a0f3]\n",
       "class E5--><a href=\"psysml:4755439e-6dab-436e-bf4a-d220bd8663ba\" target=\"_top\" title=\"psysml:4755439e-6dab-436e-bf4a-d220bd8663ba\" xlink:actuate=\"onRequest\" xlink:href=\"psysml:4755439e-6dab-436e-bf4a-d220bd8663ba\" xlink:show=\"new\" xlink:title=\"psysml:4755439e-6dab-436e-bf4a-d220bd8663ba\" xlink:type=\"simple\"><rect fill=\"#FFFFFF\" height=\"45.9375\" id=\"E5\" rx=\"10\" ry=\"10\" style=\"stroke: #383838; stroke-width: 1.5;\" width=\"42\" x=\"345.32\" y=\"286\"/><text fill=\"#000000\" font-family=\"sans-serif\" font-size=\"12\" font-style=\"italic\" lengthAdjust=\"spacingAndGlyphs\" textLength=\"40\" x=\"346.32\" y=\"302.1387\">«part»</text><text fill=\"#000000\" font-family=\"sans-serif\" font-size=\"12\" lengthAdjust=\"spacingAndGlyphs\" textLength=\"22\" x=\"353.32\" y=\"316.1074\">x: A</text><line style=\"stroke: #383838; stroke-width: 1.5;\" x1=\"346.32\" x2=\"386.32\" y1=\"323.9375\" y2=\"323.9375\"/></a><!--MD5=[b9389687b975829384b498ac4b7476b2]\n",
       "class E8--><a href=\"psysml:dfc306bc-28cd-4074-8d12-696a322e5955\" target=\"_top\" title=\"psysml:dfc306bc-28cd-4074-8d12-696a322e5955\" xlink:actuate=\"onRequest\" xlink:href=\"psysml:dfc306bc-28cd-4074-8d12-696a322e5955\" xlink:show=\"new\" xlink:title=\"psysml:dfc306bc-28cd-4074-8d12-696a322e5955\" xlink:type=\"simple\"><rect fill=\"#FFFFFF\" height=\"45.9375\" id=\"E8\" rx=\"10\" ry=\"10\" style=\"stroke: #383838; stroke-width: 1.5;\" width=\"42\" x=\"193.32\" y=\"108\"/><text fill=\"#000000\" font-family=\"sans-serif\" font-size=\"12\" font-style=\"italic\" lengthAdjust=\"spacingAndGlyphs\" textLength=\"40\" x=\"194.32\" y=\"124.1387\">«part»</text><text fill=\"#000000\" font-family=\"sans-serif\" font-size=\"12\" lengthAdjust=\"spacingAndGlyphs\" textLength=\"21\" x=\"201.82\" y=\"138.1074\">z: B</text><line style=\"stroke: #383838; stroke-width: 1.5;\" x1=\"194.32\" x2=\"234.32\" y1=\"145.9375\" y2=\"145.9375\"/></a><!--MD5=[09b614a08d8cba4a07c9adeb5e0fee81]\n",
       "class E3--><a href=\"psysml:1f011377-ef65-4253-92ff-be4f522feeb1\" target=\"_top\" title=\"psysml:1f011377-ef65-4253-92ff-be4f522feeb1\" xlink:actuate=\"onRequest\" xlink:href=\"psysml:1f011377-ef65-4253-92ff-be4f522feeb1\" xlink:show=\"new\" xlink:title=\"psysml:1f011377-ef65-4253-92ff-be4f522feeb1\" xlink:type=\"simple\"><rect fill=\"#FFFFFF\" height=\"45.9375\" id=\"E3\" style=\"stroke: #383838; stroke-width: 1.5;\" width=\"70\" x=\"274.32\" y=\"464\"/><text fill=\"#000000\" font-family=\"sans-serif\" font-size=\"12\" font-style=\"italic\" lengthAdjust=\"spacingAndGlyphs\" textLength=\"68\" x=\"275.32\" y=\"480.1387\">«part  def»</text><text fill=\"#000000\" font-family=\"sans-serif\" font-size=\"12\" lengthAdjust=\"spacingAndGlyphs\" textLength=\"8\" x=\"305.32\" y=\"494.1074\">A</text><line style=\"stroke: #383838; stroke-width: 1.5;\" x1=\"275.32\" x2=\"343.32\" y1=\"501.9375\" y2=\"501.9375\"/></a><a href=\"psysml:7d907640-2982-4506-b0ab-4e4fe8a9afec\" target=\"_top\" title=\"psysml:7d907640-2982-4506-b0ab-4e4fe8a9afec\" xlink:actuate=\"onRequest\" xlink:href=\"psysml:7d907640-2982-4506-b0ab-4e4fe8a9afec\" xlink:show=\"new\" xlink:title=\"psysml:7d907640-2982-4506-b0ab-4e4fe8a9afec\" xlink:type=\"simple\"><polygon fill=\"#FFFFFF\" points=\"235.32,282.5,259.32,282.5,266.32,304.7969,273.32,304.7969,273.32,335.0938,235.32,335.0938,235.32,282.5\" style=\"stroke: #000000; stroke-width: 1.5;\"/><line style=\"stroke: #000000; stroke-width: 1.5;\" x1=\"235.32\" x2=\"266.32\" y1=\"304.7969\" y2=\"304.7969\"/><text fill=\"#000000\" font-family=\"sans-serif\" font-size=\"14\" font-weight=\"bold\" lengthAdjust=\"spacingAndGlyphs\" textLength=\"18\" x=\"239.32\" y=\"297.4951\">P2</text></a><!--MD5=[2156ba9850f5573cc1fc38a6a4b2f02b]\n",
       "class E7--><a href=\"psysml:bdb8801b-74e6-41c7-b5f1-114cae898237\" target=\"_top\" title=\"psysml:bdb8801b-74e6-41c7-b5f1-114cae898237\" xlink:actuate=\"onRequest\" xlink:href=\"psysml:bdb8801b-74e6-41c7-b5f1-114cae898237\" xlink:show=\"new\" xlink:title=\"psysml:bdb8801b-74e6-41c7-b5f1-114cae898237\" xlink:type=\"simple\"><rect fill=\"#FFFFFF\" height=\"45.9375\" id=\"E7\" style=\"stroke: #383838; stroke-width: 1.5;\" width=\"70\" x=\"117.32\" y=\"286\"/><text fill=\"#000000\" font-family=\"sans-serif\" font-size=\"12\" font-style=\"italic\" lengthAdjust=\"spacingAndGlyphs\" textLength=\"68\" x=\"118.32\" y=\"302.1387\">«part  def»</text><text fill=\"#000000\" font-family=\"sans-serif\" font-size=\"12\" lengthAdjust=\"spacingAndGlyphs\" textLength=\"8\" x=\"148.32\" y=\"316.1074\">B</text><line style=\"stroke: #383838; stroke-width: 1.5;\" x1=\"118.32\" x2=\"186.32\" y1=\"323.9375\" y2=\"323.9375\"/></a><!--MD5=[96f4274e9e20536e775497830990834d]\n",
       "class E10--><a href=\"psysml:aa943bbf-59d6-4c08-9403-21388691ca57\" target=\"_top\" title=\"psysml:aa943bbf-59d6-4c08-9403-21388691ca57\" xlink:actuate=\"onRequest\" xlink:href=\"psysml:aa943bbf-59d6-4c08-9403-21388691ca57\" xlink:show=\"new\" xlink:title=\"psysml:aa943bbf-59d6-4c08-9403-21388691ca57\" xlink:type=\"simple\"><rect fill=\"#FFFFFF\" height=\"45.9375\" id=\"E10\" rx=\"10\" ry=\"10\" style=\"stroke: #383838; stroke-width: 1.5;\" width=\"42\" x=\"305.32\" y=\"108\"/><text fill=\"#000000\" font-family=\"sans-serif\" font-size=\"12\" font-style=\"italic\" lengthAdjust=\"spacingAndGlyphs\" textLength=\"40\" x=\"306.32\" y=\"124.1387\">«part»</text><text fill=\"#000000\" font-family=\"sans-serif\" font-size=\"12\" lengthAdjust=\"spacingAndGlyphs\" textLength=\"29\" x=\"309.82\" y=\"138.1074\">z1: A</text><line style=\"stroke: #383838; stroke-width: 1.5;\" x1=\"306.32\" x2=\"346.32\" y1=\"145.9375\" y2=\"145.9375\"/></a><!--MD5=[185131fc0dcab0a4505a2ebe144e961b]\n",
       "link E4 to E2--><a href=\"psysml:113e6c15-2e9f-43c2-9a8b-f1023998ecb3\" target=\"_top\" title=\"psysml:113e6c15-2e9f-43c2-9a8b-f1023998ecb3\" xlink:actuate=\"onRequest\" xlink:href=\"psysml:113e6c15-2e9f-43c2-9a8b-f1023998ecb3\" xlink:show=\"new\" xlink:title=\"psysml:113e6c15-2e9f-43c2-9a8b-f1023998ecb3\" xlink:type=\"simple\"><path d=\"M244.71,335.52 C240.28,348.61 235.53,364.94 233.32,380 C231.6325,391.49 231.1388,403.7444 231.3534,415.6911 C231.3803,417.1844 231.4182,418.673 231.4662,420.1546 C231.4722,420.3398 231.4784,420.5249 231.4847,420.7099 \" fill=\"none\" id=\"E4-&gt;E2\" style=\"stroke: #383838; stroke-width: 1.0; stroke-dasharray: 7.0,7.0;\"/><polygon fill=\"#383838\" points=\"231.4847,420.7099,235.1752,411.5786,231.314,415.7128,227.1798,411.8517,231.4847,420.7099\" style=\"stroke: #383838; stroke-width: 1.0;\"/><text fill=\"#000000\" font-family=\"sans-serif\" font-size=\"13\" lengthAdjust=\"spacingAndGlyphs\" textLength=\"65\" x=\"234.32\" y=\"393.0669\">«import»*</text></a><!--MD5=[e9be52314489bd878ff4c7144b63c9e1]\n",
       "link E5 to E3--><a href=\"psysml:2e030f48-ed8d-4fbc-a256-8117ac7131ec\" target=\"_top\" title=\"psysml:2e030f48-ed8d-4fbc-a256-8117ac7131ec\" xlink:actuate=\"onRequest\" xlink:href=\"psysml:2e030f48-ed8d-4fbc-a256-8117ac7131ec\" xlink:show=\"new\" xlink:title=\"psysml:2e030f48-ed8d-4fbc-a256-8117ac7131ec\" xlink:type=\"simple\"><path d=\"M359.1,332.29 C349.98,360.46 334.1,409.49 322.72,444.61 \" fill=\"none\" id=\"E5-&gt;E3\" style=\"stroke: #383838; stroke-width: 1.0;\"/><polygon fill=\"#FFFFFF\" points=\"316.48,463.89,315.6693,443.6578,328.9893,447.9678,316.48,463.89\" style=\"stroke: #383838; stroke-width: 1.0;\"/><ellipse cx=\"319.3269\" cy=\"438.8503\" fill=\"#383838\" rx=\"2\" ry=\"2\" style=\"stroke: #383838; stroke-width: 1.0;\"/><ellipse cx=\"328.8413\" cy=\"441.9289\" fill=\"#383838\" rx=\"2\" ry=\"2\" style=\"stroke: #383838; stroke-width: 1.0;\"/></a><!--MD5=[ee384bb554873b72f85793eae40e290c]\n",
       "link E1 to E4--><a href=\"psysml:a039409c-dc44-4261-a761-133767375f35\" target=\"_top\" title=\"psysml:a039409c-dc44-4261-a761-133767375f35\" xlink:actuate=\"onRequest\" xlink:href=\"psysml:a039409c-dc44-4261-a761-133767375f35\" xlink:show=\"new\" xlink:title=\"psysml:a039409c-dc44-4261-a761-133767375f35\" xlink:type=\"simple\"><path d=\"M34.29,132.12 C33.65,134.6 23.75,174.52 42.32,194 C49.33,201.35 77.35,200.04 87.32,202 C113.19,207.09 181.71,211.88 203.32,227 C220.99,239.37 233.85,260.02 242.24,277.37 \" fill=\"none\" id=\"E1-&gt;E4\" style=\"stroke: #383838; stroke-width: 1.0; stroke-dasharray: 7.0,7.0;\"/><polygon fill=\"#383838\" points=\"244.49,282.17,244.3071,272.3228,242.3748,277.6394,237.0582,275.7072,244.49,282.17\" style=\"stroke: #383838; stroke-width: 1.0;\"/><text fill=\"#000000\" font-family=\"sans-serif\" font-size=\"13\" lengthAdjust=\"spacingAndGlyphs\" textLength=\"65\" x=\"183.32\" y=\"215.0669\">«import»*</text></a><!--MD5=[ccbd3af71bf83df0ec2a2db62d6d7130]\n",
       "link E1 to E6--><a href=\"psysml:8872cc02-851e-450c-b3e8-f90f2e3db770\" target=\"_top\" title=\"psysml:8872cc02-851e-450c-b3e8-f90f2e3db770\" xlink:actuate=\"onRequest\" xlink:href=\"psysml:8872cc02-851e-450c-b3e8-f90f2e3db770\" xlink:show=\"new\" xlink:title=\"psysml:8872cc02-851e-450c-b3e8-f90f2e3db770\" xlink:type=\"simple\"><path d=\"M26.1693,145.3513 C26.1165,145.4477 26.0635,145.5445 26.0105,145.6418 C25.9044,145.8363 25.7978,146.0325 25.6908,146.2304 C24.8349,147.8133 23.9523,149.5023 23.0614,151.284 C21.2797,154.8473 19.465,158.7813 17.765,162.9775 C10.965,179.7625 6,200.745 12.32,219 C20.295,242.035 36.9675,263.635 52.0413,279.7863 C59.5781,287.8619 66.7153,294.5753 72.1658,299.4248 C72.8471,300.031 73.502,300.6081 74.1281,301.1551 \" fill=\"none\" id=\"E1-&gt;E6\" style=\"stroke: #383838; stroke-width: 1.0; stroke-dasharray: 7.0,7.0;\"/><polygon fill=\"#383838\" points=\"74.1281,301.1551,69.982,292.2214,70.3627,297.8655,64.7187,298.2462,74.1281,301.1551\" style=\"stroke: #383838; stroke-width: 1.0;\"/><text fill=\"#000000\" font-family=\"sans-serif\" font-size=\"13\" lengthAdjust=\"spacingAndGlyphs\" textLength=\"65\" x=\"13.32\" y=\"215.0669\">«import»*</text></a><!--MD5=[bfa3c8b0d15052fdf50ae9310b491027]\n",
       "link E8 to E7--><a href=\"psysml:0934d2d2-1a49-4ac4-b6c0-cd8fa5ea19dd\" target=\"_top\" title=\"psysml:0934d2d2-1a49-4ac4-b6c0-cd8fa5ea19dd\" xlink:actuate=\"onRequest\" xlink:href=\"psysml:0934d2d2-1a49-4ac4-b6c0-cd8fa5ea19dd\" xlink:show=\"new\" xlink:title=\"psysml:0934d2d2-1a49-4ac4-b6c0-cd8fa5ea19dd\" xlink:type=\"simple\"><path d=\"M232.99,154.29 C246.61,173.37 260.16,200.59 244.32,219 C228.78,237.06 210.49,212.85 191.32,227 C178.2,236.69 169.29,251.96 163.34,266.65 \" fill=\"none\" id=\"E8-&gt;E7\" style=\"stroke: #383838; stroke-width: 1.0;\"/><polygon fill=\"#FFFFFF\" points=\"156.95,285.73,156.3404,265.4907,169.617,269.9329,156.95,285.73\" style=\"stroke: #383838; stroke-width: 1.0;\"/><ellipse cx=\"160.0457\" cy=\"260.7199\" fill=\"#383838\" rx=\"2\" ry=\"2\" style=\"stroke: #383838; stroke-width: 1.0;\"/><ellipse cx=\"169.5289\" cy=\"263.8929\" fill=\"#383838\" rx=\"2\" ry=\"2\" style=\"stroke: #383838; stroke-width: 1.0;\"/></a><!--MD5=[c2be97adba6ddfe1c8f349fab141c927]\n",
       "link E9 to E4--><a href=\"psysml:f0473cf2-6b9f-40e7-98be-e0cb9d304d8b\" target=\"_top\" title=\"psysml:f0473cf2-6b9f-40e7-98be-e0cb9d304d8b\" xlink:actuate=\"onRequest\" xlink:href=\"psysml:f0473cf2-6b9f-40e7-98be-e0cb9d304d8b\" xlink:show=\"new\" xlink:title=\"psysml:f0473cf2-6b9f-40e7-98be-e0cb9d304d8b\" xlink:type=\"simple\"><path d=\"M267.5431,178.2415 C267.5354,178.35 267.5276,178.4585 267.5198,178.5671 C267.3951,180.3034 267.2673,182.0417 267.1366,183.7729 C266.8753,187.2352 266.6025,190.6688 266.32,194 C263.93,222.21 260.49,254.26 257.9,277.18 \" fill=\"none\" id=\"E9-&gt;E4\" style=\"stroke: #383838; stroke-width: 1.0; stroke-dasharray: 7.0,7.0;\"/><polygon fill=\"#383838\" points=\"257.33,282.22,262.3075,273.7215,257.8869,277.2511,254.3572,272.8305,257.33,282.22\" style=\"stroke: #383838; stroke-width: 1.0;\"/><text fill=\"#000000\" font-family=\"sans-serif\" font-size=\"13\" lengthAdjust=\"spacingAndGlyphs\" textLength=\"65\" x=\"266.32\" y=\"215.0669\">«import»*</text></a><!--MD5=[feeac5eb423634930294aa81f2d25a4c]\n",
       "link E10 to E3--><a href=\"psysml:6083fff7-7e2a-4a1f-b6e0-00602bace9f4\" target=\"_top\" title=\"psysml:6083fff7-7e2a-4a1f-b6e0-00602bace9f4\" xlink:actuate=\"onRequest\" xlink:href=\"psysml:6083fff7-7e2a-4a1f-b6e0-00602bace9f4\" xlink:show=\"new\" xlink:title=\"psysml:6083fff7-7e2a-4a1f-b6e0-00602bace9f4\" xlink:type=\"simple\"><path d=\"M345.63,154.11 C359.77,173.07 373.99,200.22 358.32,219 C345.58,234.26 327.2,211.86 314.32,227 C300.64,243.07 304.33,374.79 307.28,443.95 \" fill=\"none\" id=\"E10-&gt;E3\" style=\"stroke: #383838; stroke-width: 1.0;\"/><polygon fill=\"#FFFFFF\" points=\"308.18,463.98,300.3317,445.3144,314.3175,444.6841,308.18,463.98\" style=\"stroke: #383838; stroke-width: 1.0;\"/><ellipse cx=\"302.0731\" cy=\"439.5301\" fill=\"#383838\" rx=\"2\" ry=\"2\" style=\"stroke: #383838; stroke-width: 1.0;\"/><ellipse cx=\"312.063\" cy=\"439.0799\" fill=\"#383838\" rx=\"2\" ry=\"2\" style=\"stroke: #383838; stroke-width: 1.0;\"/></a><!--MD5=[a88ead48488784f3d05a4fa735d2db1b]\n",
       "@startuml\r\n",
       " skinparam monochrome true\r\n",
       "skinparam classbackgroundcolor white\r\n",
       "skinparam shadowing false\r\n",
       "skinparam wrapWidth 300\r\n",
       "hide circle\r\n",
       "\r\n",
       "package \"PrivateImportTest\" as E1  [[psysml:56a08668-af7c-402b-8ea6-0ffeccd2e906 ]]  {\r\n",
       "package \"P1\" as E2  [[psysml:989134c5-5272-479d-a43e-5e5573119e0c ]]  {\r\n",
       "comp def \"A\" as E3  <<(T,blue) part  def>> [[psysml:1f011377-ef65-4253-92ff-be4f522feeb1 ]] {\r\n",
       "}\r\n",
       "}\r\n",
       "package \"P2\" as E4  [[psysml:7d907640-2982-4506-b0ab-4e4fe8a9afec ]]  {\r\n",
       "}\r\n",
       "comp usage \"x: A \" as E5  <<(T,blue) part>> [[psysml:4755439e-6dab-436e-bf4a-d220bd8663ba ]] {\r\n",
       "}\r\n",
       "package \"P3\" as E6  [[psysml:90563c83-8b6e-4371-ac3b-36c1983fe7e9 ]]  {\r\n",
       "comp def \"B\" as E7  <<(T,blue) part  def>> [[psysml:bdb8801b-74e6-41c7-b5f1-114cae898237 ]] {\r\n",
       "}\r\n",
       "}\r\n",
       "comp usage \"z: B \" as E8  <<(T,blue) part>> [[psysml:dfc306bc-28cd-4074-8d12-696a322e5955 ]] {\r\n",
       "}\r\n",
       "package \"P4\" as E9  [[psysml:2733cc0d-ab4e-4acc-aaf2-0d4d1c16697a ]]  {\r\n",
       "comp usage \"z1: A \" as E10  <<(T,blue) part>> [[psysml:aa943bbf-59d6-4c08-9403-21388691ca57 ]] {\r\n",
       "}\r\n",
       "}\r\n",
       "}\r\n",
       "E4 ..> E2 [[psysml:113e6c15-2e9f-43c2-9a8b-f1023998ecb3 ]] : <<import>>*\r\n",
       "E5 - -:|> E3 [[psysml:2e030f48-ed8d-4fbc-a256-8117ac7131ec ]] \r\n",
       "E1 ..> E4 [[psysml:a039409c-dc44-4261-a761-133767375f35 ]] : <<import>>*\r\n",
       "E1 ..> E6 [[psysml:8872cc02-851e-450c-b3e8-f90f2e3db770 ]] : <<import>>*\r\n",
       "E8 - -:|> E7 [[psysml:0934d2d2-1a49-4ac4-b6c0-cd8fa5ea19dd ]] \r\n",
       "E9 ..> E4 [[psysml:f0473cf2-6b9f-40e7-98be-e0cb9d304d8b ]] : <<import>>*\r\n",
       "E10 - -:|> E3 [[psysml:6083fff7-7e2a-4a1f-b6e0-00602bace9f4 ]] \r\n",
       "@enduml\r\n",
       "\n",
       "PlantUML version 1.2020.13(Sat Jun 13 12:26:38 UTC 2020)\n",
       "(EPL source distribution)\n",
       "Java Runtime: OpenJDK Runtime Environment\n",
       "JVM: OpenJDK 64-Bit Server VM\n",
       "Default Encoding: UTF-8\n",
       "Language: en\n",
       "Country: null\n",
       "--></g></svg>"
      ]
     },
     "execution_count": 3,
     "metadata": {},
     "output_type": "execute_result"
    }
   ],
   "source": [
    "%viz --style=\"COMPTREE\" --view=\"Tree\" \"PrivateImportTest\""
   ]
  },
  {
   "cell_type": "code",
   "execution_count": 4,
   "id": "9f8be1cf",
   "metadata": {
    "execution": {
     "iopub.execute_input": "2022-02-18T10:48:45.031969Z",
     "iopub.status.busy": "2022-02-18T10:48:45.031415Z",
     "iopub.status.idle": "2022-02-18T10:48:45.039042Z",
     "shell.execute_reply": "2022-02-18T10:48:45.039366Z"
    }
   },
   "outputs": [
    {
     "data": {
      "image/svg+xml": [
       "<?xml version=\"1.0\" encoding=\"UTF-8\" standalone=\"no\"?><svg xmlns=\"http://www.w3.org/2000/svg\" xmlns:xlink=\"http://www.w3.org/1999/xlink\" contentScriptType=\"application/ecmascript\" contentStyleType=\"text/css\" height=\"12px\" preserveAspectRatio=\"none\" style=\"width:12px;height:12px;\" version=\"1.1\" viewBox=\"0 0 12 12\" width=\"12px\" zoomAndPan=\"magnify\"><defs/><g><!--MD5=[f19188ef49e11757b5c46753f95d9edc]\n",
       "@startuml\r\n",
       " skinparam monochrome true\r\n",
       "skinparam classbackgroundcolor white\r\n",
       "skinparam shadowing false\r\n",
       "skinparam wrapWidth 300\r\n",
       "hide circle\r\n",
       "\r\n",
       "@enduml\r\n",
       "\n",
       "PlantUML version 1.2020.13(Sat Jun 13 12:26:38 UTC 2020)\n",
       "(EPL source distribution)\n",
       "Java Runtime: OpenJDK Runtime Environment\n",
       "JVM: OpenJDK 64-Bit Server VM\n",
       "Default Encoding: UTF-8\n",
       "Language: en\n",
       "Country: null\n",
       "--></g></svg>"
      ]
     },
     "execution_count": 4,
     "metadata": {},
     "output_type": "execute_result"
    }
   ],
   "source": [
    "%viz --style=\"COMPTREE\" --view=\"State\" \"PrivateImportTest\""
   ]
  },
  {
   "cell_type": "code",
   "execution_count": 5,
   "id": "45bcee75",
   "metadata": {
    "execution": {
     "iopub.execute_input": "2022-02-18T10:48:45.089398Z",
     "iopub.status.busy": "2022-02-18T10:48:45.089167Z",
     "iopub.status.idle": "2022-02-18T10:48:45.148066Z",
     "shell.execute_reply": "2022-02-18T10:48:45.147691Z"
    }
   },
   "outputs": [
    {
     "data": {
      "image/svg+xml": [
       "<?xml version=\"1.0\" encoding=\"UTF-8\" standalone=\"no\"?><svg xmlns=\"http://www.w3.org/2000/svg\" xmlns:xlink=\"http://www.w3.org/1999/xlink\" contentScriptType=\"application/ecmascript\" contentStyleType=\"text/css\" height=\"521px\" preserveAspectRatio=\"none\" style=\"width:684px;height:521px;\" version=\"1.1\" viewBox=\"0 0 684 521\" width=\"684px\" zoomAndPan=\"magnify\"><defs/><g><!--MD5=[fbc87193dbaf4d95561dea2c320d4a47]\n",
       "cluster E1--><a href=\"psysml:56a08668-af7c-402b-8ea6-0ffeccd2e906\" target=\"_top\" title=\"psysml:56a08668-af7c-402b-8ea6-0ffeccd2e906\" xlink:actuate=\"onRequest\" xlink:href=\"psysml:56a08668-af7c-402b-8ea6-0ffeccd2e906\" xlink:show=\"new\" xlink:title=\"psysml:56a08668-af7c-402b-8ea6-0ffeccd2e906\" xlink:type=\"simple\"><polygon fill=\"#FFFFFF\" points=\"16,6,143,6,150,28.2969,662,28.2969,662,509.72,16,509.72,16,6\" style=\"stroke: #000000; stroke-width: 1.5;\"/><line style=\"stroke: #000000; stroke-width: 1.5;\" x1=\"16\" x2=\"150\" y1=\"28.2969\" y2=\"28.2969\"/><text fill=\"#000000\" font-family=\"sans-serif\" font-size=\"14\" font-weight=\"bold\" lengthAdjust=\"spacingAndGlyphs\" textLength=\"121\" x=\"20\" y=\"20.9951\">PrivateImportTest</text></a><!--MD5=[e4f7fae6ed58524ba242bb0b0d3be6b7]\n",
       "cluster E2--><a href=\"psysml:989134c5-5272-479d-a43e-5e5573119e0c\" target=\"_top\" title=\"psysml:989134c5-5272-479d-a43e-5e5573119e0c\" xlink:actuate=\"onRequest\" xlink:href=\"psysml:989134c5-5272-479d-a43e-5e5573119e0c\" xlink:show=\"new\" xlink:title=\"psysml:989134c5-5272-479d-a43e-5e5573119e0c\" xlink:type=\"simple\"><polygon fill=\"#FFFFFF\" points=\"221,359.72,245,359.72,252,382.0169,363,382.0169,363,469.72,221,469.72,221,359.72\" style=\"stroke: #000000; stroke-width: 1.5;\"/><line style=\"stroke: #000000; stroke-width: 1.5;\" x1=\"221\" x2=\"252\" y1=\"382.0169\" y2=\"382.0169\"/><text fill=\"#000000\" font-family=\"sans-serif\" font-size=\"14\" font-weight=\"bold\" lengthAdjust=\"spacingAndGlyphs\" textLength=\"18\" x=\"225\" y=\"374.7151\">P1</text></a><!--MD5=[14e3b0961a2654348d326746436168a1]\n",
       "cluster E6--><a href=\"psysml:90563c83-8b6e-4371-ac3b-36c1983fe7e9\" target=\"_top\" title=\"psysml:90563c83-8b6e-4371-ac3b-36c1983fe7e9\" xlink:actuate=\"onRequest\" xlink:href=\"psysml:90563c83-8b6e-4371-ac3b-36c1983fe7e9\" xlink:show=\"new\" xlink:title=\"psysml:90563c83-8b6e-4371-ac3b-36c1983fe7e9\" xlink:type=\"simple\"><polygon fill=\"#FFFFFF\" points=\"480,98.72,504,98.72,511,121.0169,622,121.0169,622,208.72,480,208.72,480,98.72\" style=\"stroke: #000000; stroke-width: 1.5;\"/><line style=\"stroke: #000000; stroke-width: 1.5;\" x1=\"480\" x2=\"511\" y1=\"121.0169\" y2=\"121.0169\"/><text fill=\"#000000\" font-family=\"sans-serif\" font-size=\"14\" font-weight=\"bold\" lengthAdjust=\"spacingAndGlyphs\" textLength=\"18\" x=\"484\" y=\"113.7151\">P3</text></a><!--MD5=[7f149f147074ac12df2cb0a7728a5fb0]\n",
       "cluster E9--><a href=\"psysml:2733cc0d-ab4e-4acc-aaf2-0d4d1c16697a\" target=\"_top\" title=\"psysml:2733cc0d-ab4e-4acc-aaf2-0d4d1c16697a\" xlink:actuate=\"onRequest\" xlink:href=\"psysml:2733cc0d-ab4e-4acc-aaf2-0d4d1c16697a\" xlink:show=\"new\" xlink:title=\"psysml:2733cc0d-ab4e-4acc-aaf2-0d4d1c16697a\" xlink:type=\"simple\"><polygon fill=\"#FFFFFF\" points=\"323,100.22,347,100.22,354,122.5169,440,122.5169,440,207.22,323,207.22,323,100.22\" style=\"stroke: #000000; stroke-width: 1.5;\"/><line style=\"stroke: #000000; stroke-width: 1.5;\" x1=\"323\" x2=\"354\" y1=\"122.5169\" y2=\"122.5169\"/><text fill=\"#000000\" font-family=\"sans-serif\" font-size=\"14\" font-weight=\"bold\" lengthAdjust=\"spacingAndGlyphs\" textLength=\"18\" x=\"327\" y=\"115.2151\">P4</text></a><g id=\"E1.E2.E3\"><a href=\"psysml:1f011377-ef65-4253-92ff-be4f522feeb1\" target=\"_top\" title=\"psysml:1f011377-ef65-4253-92ff-be4f522feeb1\" xlink:actuate=\"onRequest\" xlink:href=\"psysml:1f011377-ef65-4253-92ff-be4f522feeb1\" xlink:show=\"new\" xlink:title=\"psysml:1f011377-ef65-4253-92ff-be4f522feeb1\" xlink:type=\"simple\"><rect fill=\"#FFFFFF\" height=\"42.9375\" id=\"E3\" style=\"stroke: #383838; stroke-width: 1.5;\" width=\"75\" x=\"264.5\" y=\"402.72\"/><rect fill=\"#F8F8F8\" height=\"37.9375\" style=\"stroke: #383838; stroke-width: 1.5;\" width=\"75\" x=\"264.5\" y=\"402.72\"/><text fill=\"#000000\" font-family=\"sans-serif\" font-size=\"12\" font-style=\"italic\" lengthAdjust=\"spacingAndGlyphs\" textLength=\"68\" x=\"268\" y=\"418.8587\">«part  def»</text><text fill=\"#000000\" font-family=\"sans-serif\" font-size=\"12\" lengthAdjust=\"spacingAndGlyphs\" textLength=\"8\" x=\"298\" y=\"432.8274\">A</text></a></g><a href=\"psysml:7d907640-2982-4506-b0ab-4e4fe8a9afec\" target=\"_top\" title=\"psysml:7d907640-2982-4506-b0ab-4e4fe8a9afec\" xlink:actuate=\"onRequest\" xlink:href=\"psysml:7d907640-2982-4506-b0ab-4e4fe8a9afec\" xlink:show=\"new\" xlink:title=\"psysml:7d907640-2982-4506-b0ab-4e4fe8a9afec\" xlink:type=\"simple\"><polygon fill=\"#FFFFFF\" points=\"210,257.72,234,257.72,241,280.0169,248,280.0169,248,310.3138,210,310.3138,210,257.72\" style=\"stroke: #000000; stroke-width: 1.5;\"/><line style=\"stroke: #000000; stroke-width: 1.5;\" x1=\"210\" x2=\"241\" y1=\"280.0169\" y2=\"280.0169\"/><text fill=\"#000000\" font-family=\"sans-serif\" font-size=\"14\" font-weight=\"bold\" lengthAdjust=\"spacingAndGlyphs\" textLength=\"18\" x=\"214\" y=\"272.7151\">P2</text></a><g id=\"E1.E5\"><a href=\"psysml:4755439e-6dab-436e-bf4a-d220bd8663ba\" target=\"_top\" title=\"psysml:4755439e-6dab-436e-bf4a-d220bd8663ba\" xlink:actuate=\"onRequest\" xlink:href=\"psysml:4755439e-6dab-436e-bf4a-d220bd8663ba\" xlink:show=\"new\" xlink:title=\"psysml:4755439e-6dab-436e-bf4a-d220bd8663ba\" xlink:type=\"simple\"><rect fill=\"#FFFFFF\" height=\"40\" id=\"E5\" rx=\"10\" ry=\"10\" style=\"stroke: #383838; stroke-width: 1.5;\" width=\"50\" x=\"246\" y=\"143.22\"/><rect fill=\"#F8F8F8\" height=\"23.9688\" rx=\"10\" ry=\"10\" style=\"stroke: #F8F8F8; stroke-width: 1.5;\" width=\"50\" x=\"246\" y=\"143.22\"/><rect fill=\"#F8F8F8\" height=\"10\" style=\"stroke: #F8F8F8; stroke-width: 1.5;\" width=\"50\" x=\"246\" y=\"157.1888\"/><rect fill=\"none\" height=\"40\" id=\"E5\" rx=\"10\" ry=\"10\" style=\"stroke: #383838; stroke-width: 1.5;\" width=\"50\" x=\"246\" y=\"143.22\"/><text fill=\"#000000\" font-family=\"sans-serif\" font-size=\"12\" lengthAdjust=\"spacingAndGlyphs\" textLength=\"22\" x=\"260\" y=\"159.3587\">x: A</text></a></g><g id=\"E1.E6.E7\"><a href=\"psysml:bdb8801b-74e6-41c7-b5f1-114cae898237\" target=\"_top\" title=\"psysml:bdb8801b-74e6-41c7-b5f1-114cae898237\" xlink:actuate=\"onRequest\" xlink:href=\"psysml:bdb8801b-74e6-41c7-b5f1-114cae898237\" xlink:show=\"new\" xlink:title=\"psysml:bdb8801b-74e6-41c7-b5f1-114cae898237\" xlink:type=\"simple\"><rect fill=\"#FFFFFF\" height=\"42.9375\" id=\"E7\" style=\"stroke: #383838; stroke-width: 1.5;\" width=\"75\" x=\"523.5\" y=\"141.72\"/><rect fill=\"#F8F8F8\" height=\"37.9375\" style=\"stroke: #383838; stroke-width: 1.5;\" width=\"75\" x=\"523.5\" y=\"141.72\"/><text fill=\"#000000\" font-family=\"sans-serif\" font-size=\"12\" font-style=\"italic\" lengthAdjust=\"spacingAndGlyphs\" textLength=\"68\" x=\"527\" y=\"157.8587\">«part  def»</text><text fill=\"#000000\" font-family=\"sans-serif\" font-size=\"12\" lengthAdjust=\"spacingAndGlyphs\" textLength=\"8\" x=\"557\" y=\"171.8274\">B</text></a></g><g id=\"E1.E8\"><a href=\"psysml:dfc306bc-28cd-4074-8d12-696a322e5955\" target=\"_top\" title=\"psysml:dfc306bc-28cd-4074-8d12-696a322e5955\" xlink:actuate=\"onRequest\" xlink:href=\"psysml:dfc306bc-28cd-4074-8d12-696a322e5955\" xlink:show=\"new\" xlink:title=\"psysml:dfc306bc-28cd-4074-8d12-696a322e5955\" xlink:type=\"simple\"><rect fill=\"#FFFFFF\" height=\"40\" id=\"E8\" rx=\"10\" ry=\"10\" style=\"stroke: #383838; stroke-width: 1.5;\" width=\"50\" x=\"161\" y=\"143.22\"/><rect fill=\"#F8F8F8\" height=\"23.9688\" rx=\"10\" ry=\"10\" style=\"stroke: #F8F8F8; stroke-width: 1.5;\" width=\"50\" x=\"161\" y=\"143.22\"/><rect fill=\"#F8F8F8\" height=\"10\" style=\"stroke: #F8F8F8; stroke-width: 1.5;\" width=\"50\" x=\"161\" y=\"157.1888\"/><rect fill=\"none\" height=\"40\" id=\"E8\" rx=\"10\" ry=\"10\" style=\"stroke: #383838; stroke-width: 1.5;\" width=\"50\" x=\"161\" y=\"143.22\"/><text fill=\"#000000\" font-family=\"sans-serif\" font-size=\"12\" lengthAdjust=\"spacingAndGlyphs\" textLength=\"21\" x=\"175.5\" y=\"159.3587\">z: B</text></a></g><g id=\"E1.E9.E10\"><a href=\"psysml:aa943bbf-59d6-4c08-9403-21388691ca57\" target=\"_top\" title=\"psysml:aa943bbf-59d6-4c08-9403-21388691ca57\" xlink:actuate=\"onRequest\" xlink:href=\"psysml:aa943bbf-59d6-4c08-9403-21388691ca57\" xlink:show=\"new\" xlink:title=\"psysml:aa943bbf-59d6-4c08-9403-21388691ca57\" xlink:type=\"simple\"><rect fill=\"#FFFFFF\" height=\"40\" id=\"E10\" rx=\"10\" ry=\"10\" style=\"stroke: #383838; stroke-width: 1.5;\" width=\"50\" x=\"366\" y=\"143.22\"/><rect fill=\"#F8F8F8\" height=\"23.9688\" rx=\"10\" ry=\"10\" style=\"stroke: #F8F8F8; stroke-width: 1.5;\" width=\"50\" x=\"366\" y=\"143.22\"/><rect fill=\"#F8F8F8\" height=\"10\" style=\"stroke: #F8F8F8; stroke-width: 1.5;\" width=\"50\" x=\"366\" y=\"157.1888\"/><rect fill=\"none\" height=\"40\" id=\"E10\" rx=\"10\" ry=\"10\" style=\"stroke: #383838; stroke-width: 1.5;\" width=\"50\" x=\"366\" y=\"143.22\"/><text fill=\"#000000\" font-family=\"sans-serif\" font-size=\"12\" lengthAdjust=\"spacingAndGlyphs\" textLength=\"29\" x=\"376.5\" y=\"159.3587\">z1: A</text></a></g><!--MD5=[185131fc0dcab0a4505a2ebe144e961b]\n",
       "link E4 to E2--><a href=\"psysml:113e6c15-2e9f-43c2-9a8b-f1023998ecb3\" target=\"_top\" title=\"psysml:113e6c15-2e9f-43c2-9a8b-f1023998ecb3\" xlink:actuate=\"onRequest\" xlink:href=\"psysml:113e6c15-2e9f-43c2-9a8b-f1023998ecb3\" xlink:show=\"new\" xlink:title=\"psysml:113e6c15-2e9f-43c2-9a8b-f1023998ecb3\" xlink:type=\"simple\"><path d=\"M229,310.85 C229,320.6725 229,332.4656 229,344.6647 C229,347.7145 229,350.7896 229,353.8656 C229,355.4037 229,356.9419 229,358.4774 C229,358.8612 229,359.2449 229,359.6284 \" fill=\"none\" id=\"E4-&gt;E2\" style=\"stroke: #383838; stroke-width: 1.0; stroke-dasharray: 7.0,7.0;\"/><polygon fill=\"#383838\" points=\"229,359.6284,233,350.6284,229,354.6284,225,350.6284,229,359.6284\" style=\"stroke: #383838; stroke-width: 1.0;\"/><text fill=\"#000000\" font-family=\"sans-serif\" font-size=\"13\" lengthAdjust=\"spacingAndGlyphs\" textLength=\"65\" x=\"230\" y=\"331.7869\">«import»*</text></a><!--MD5=[ee384bb554873b72f85793eae40e290c]\n",
       "link E1 to E4--><a href=\"psysml:a039409c-dc44-4261-a761-133767375f35\" target=\"_top\" title=\"psysml:a039409c-dc44-4261-a761-133767375f35\" xlink:actuate=\"onRequest\" xlink:href=\"psysml:a039409c-dc44-4261-a761-133767375f35\" xlink:show=\"new\" xlink:title=\"psysml:a039409c-dc44-4261-a761-133767375f35\" xlink:type=\"simple\"><path d=\"M175.95,33.72 C173.76,33.59 103.7,29.68 77,66.72 C35.94,123.69 37.25,166.83 77,224.72 C105.87,266.76 169.5,278.6 204.59,281.93 \" fill=\"none\" id=\"E1-&gt;E4\" style=\"stroke: #383838; stroke-width: 1.0; stroke-dasharray: 7.0,7.0;\"/><polygon fill=\"#383838\" points=\"209.96,282.39,201.3368,277.6318,204.9785,281.9606,200.6497,285.6022,209.96,282.39\" style=\"stroke: #383838; stroke-width: 1.0;\"/><text fill=\"#000000\" font-family=\"sans-serif\" font-size=\"13\" lengthAdjust=\"spacingAndGlyphs\" textLength=\"65\" x=\"78\" y=\"167.7869\">«import»*</text></a><!--MD5=[ccbd3af71bf83df0ec2a2db62d6d7130]\n",
       "link E1 to E6--><a href=\"psysml:8872cc02-851e-450c-b3e8-f90f2e3db770\" target=\"_top\" title=\"psysml:8872cc02-851e-450c-b3e8-f90f2e3db770\" xlink:actuate=\"onRequest\" xlink:href=\"psysml:8872cc02-851e-450c-b3e8-f90f2e3db770\" xlink:show=\"new\" xlink:title=\"psysml:8872cc02-851e-450c-b3e8-f90f2e3db770\" xlink:type=\"simple\"><path d=\"M176.15,33.72 C182.47,33.77 384.9,35.57 432,66.72 C452.2,80.08 466.0825,103.4225 474.9725,123.685 C476.0837,126.2178 477.117,128.7025 478.0748,131.1135 C478.5537,132.3191 479.0138,133.5062 479.4553,134.6717 C479.5657,134.9631 479.6749,135.2531 479.783,135.5417 C479.837,135.6861 479.8908,135.83 479.9442,135.9736 \" fill=\"none\" id=\"E1-&gt;E6\" style=\"stroke: #383838; stroke-width: 1.0; stroke-dasharray: 7.0,7.0;\"/><polygon fill=\"#383838\" points=\"479.9442,135.9736,480.5531,126.1436,478.1999,131.2878,473.0557,128.9345,479.9442,135.9736\" style=\"stroke: #383838; stroke-width: 1.0;\"/><text fill=\"#000000\" font-family=\"sans-serif\" font-size=\"13\" lengthAdjust=\"spacingAndGlyphs\" textLength=\"65\" x=\"414\" y=\"54.7869\">«import»*</text></a><!--MD5=[c2be97adba6ddfe1c8f349fab141c927]\n",
       "link E9 to E4--><a href=\"psysml:f0473cf2-6b9f-40e7-98be-e0cb9d304d8b\" target=\"_top\" title=\"psysml:f0473cf2-6b9f-40e7-98be-e0cb9d304d8b\" xlink:actuate=\"onRequest\" xlink:href=\"psysml:f0473cf2-6b9f-40e7-98be-e0cb9d304d8b\" xlink:show=\"new\" xlink:title=\"psysml:f0473cf2-6b9f-40e7-98be-e0cb9d304d8b\" xlink:type=\"simple\"><path d=\"M333.2513,207.4285 C333.1775,207.8356 333.1,208.2422 333.0186,208.6479 C332.8558,209.4593 332.6776,210.2676 332.4829,211.0712 C332.0936,212.6783 331.6386,214.2668 331.1103,215.8251 C330.0536,218.9417 328.7038,221.9375 327,224.72 C310.48,251.7 276.46,267.78 253.18,276.06 \" fill=\"none\" id=\"E9-&gt;E4\" style=\"stroke: #383838; stroke-width: 1.0; stroke-dasharray: 7.0,7.0;\"/><polygon fill=\"#383838\" points=\"248.39,277.71,258.202,278.5612,253.1175,276.0818,255.5969,270.9973,248.39,277.71\" style=\"stroke: #383838; stroke-width: 1.0;\"/><text fill=\"#000000\" font-family=\"sans-serif\" font-size=\"13\" lengthAdjust=\"spacingAndGlyphs\" textLength=\"65\" x=\"320\" y=\"245.7869\">«import»*</text></a><!--MD5=[2354a9544ffd3ce9ba6c3471bb56f20e]\n",
       "@startuml\r\n",
       "skinparam ranksep 10\r\n",
       "skinparam rectangle {\r\n",
       " backgroundColor<<block>> LightGreen\r\n",
       "}\r\n",
       " skinparam monochrome true\r\n",
       "skinparam classbackgroundcolor white\r\n",
       "skinparam shadowing false\r\n",
       "skinparam wrapWidth 300\r\n",
       "hide circle\r\n",
       "\r\n",
       "package \"PrivateImportTest\" as E1  [[psysml:56a08668-af7c-402b-8ea6-0ffeccd2e906 ]]  {\r\n",
       "package \"P1\" as E2  [[psysml:989134c5-5272-479d-a43e-5e5573119e0c ]]  {\r\n",
       "rec def \"A\" as E3  <<(T,blue) part  def>> [[psysml:1f011377-ef65-4253-92ff-be4f522feeb1 ]] {\r\n",
       "}\r\n",
       "}\r\n",
       "package \"P2\" as E4  [[psysml:7d907640-2982-4506-b0ab-4e4fe8a9afec ]]  {\r\n",
       "}\r\n",
       "rec usage \"x: A\" as E5  [[psysml:4755439e-6dab-436e-bf4a-d220bd8663ba ]] {\r\n",
       "}\r\n",
       "package \"P3\" as E6  [[psysml:90563c83-8b6e-4371-ac3b-36c1983fe7e9 ]]  {\r\n",
       "rec def \"B\" as E7  <<(T,blue) part  def>> [[psysml:bdb8801b-74e6-41c7-b5f1-114cae898237 ]] {\r\n",
       "}\r\n",
       "}\r\n",
       "rec usage \"z: B\" as E8  [[psysml:dfc306bc-28cd-4074-8d12-696a322e5955 ]] {\r\n",
       "}\r\n",
       "package \"P4\" as E9  [[psysml:2733cc0d-ab4e-4acc-aaf2-0d4d1c16697a ]]  {\r\n",
       "rec usage \"z1: A\" as E10  [[psysml:aa943bbf-59d6-4c08-9403-21388691ca57 ]] {\r\n",
       "}\r\n",
       "}\r\n",
       "}\r\n",
       "E4 ..> E2 [[psysml:113e6c15-2e9f-43c2-9a8b-f1023998ecb3 ]] : <<import>>*\r\n",
       "E1 ..> E4 [[psysml:a039409c-dc44-4261-a761-133767375f35 ]] : <<import>>*\r\n",
       "E1 ..> E6 [[psysml:8872cc02-851e-450c-b3e8-f90f2e3db770 ]] : <<import>>*\r\n",
       "E9 ..> E4 [[psysml:f0473cf2-6b9f-40e7-98be-e0cb9d304d8b ]] : <<import>>*\r\n",
       "@enduml\r\n",
       "\n",
       "PlantUML version 1.2020.13(Sat Jun 13 12:26:38 UTC 2020)\n",
       "(EPL source distribution)\n",
       "Java Runtime: OpenJDK Runtime Environment\n",
       "JVM: OpenJDK 64-Bit Server VM\n",
       "Default Encoding: UTF-8\n",
       "Language: en\n",
       "Country: null\n",
       "--></g></svg>"
      ]
     },
     "execution_count": 5,
     "metadata": {},
     "output_type": "execute_result"
    }
   ],
   "source": [
    "%viz --style=\"COMPTREE\" --view=\"Interconnection\" \"PrivateImportTest\""
   ]
  },
  {
   "cell_type": "code",
   "execution_count": 6,
   "id": "9dd129ab",
   "metadata": {
    "execution": {
     "iopub.execute_input": "2022-02-18T10:48:45.197488Z",
     "iopub.status.busy": "2022-02-18T10:48:45.197061Z",
     "iopub.status.idle": "2022-02-18T10:48:45.203736Z",
     "shell.execute_reply": "2022-02-18T10:48:45.204056Z"
    }
   },
   "outputs": [
    {
     "data": {
      "image/svg+xml": [
       "<?xml version=\"1.0\" encoding=\"UTF-8\" standalone=\"no\"?><svg xmlns=\"http://www.w3.org/2000/svg\" xmlns:xlink=\"http://www.w3.org/1999/xlink\" contentScriptType=\"application/ecmascript\" contentStyleType=\"text/css\" height=\"12px\" preserveAspectRatio=\"none\" style=\"width:12px;height:12px;\" version=\"1.1\" viewBox=\"0 0 12 12\" width=\"12px\" zoomAndPan=\"magnify\"><defs/><g><!--MD5=[655b888544ca4751ea36af1068543f84]\n",
       "@startuml\r\n",
       "skinparam ranksep 8\r\n",
       " skinparam monochrome true\r\n",
       "skinparam classbackgroundcolor white\r\n",
       "skinparam shadowing false\r\n",
       "skinparam wrapWidth 300\r\n",
       "hide circle\r\n",
       "\r\n",
       "@enduml\r\n",
       "\n",
       "PlantUML version 1.2020.13(Sat Jun 13 12:26:38 UTC 2020)\n",
       "(EPL source distribution)\n",
       "Java Runtime: OpenJDK Runtime Environment\n",
       "JVM: OpenJDK 64-Bit Server VM\n",
       "Default Encoding: UTF-8\n",
       "Language: en\n",
       "Country: null\n",
       "--></g></svg>"
      ]
     },
     "execution_count": 6,
     "metadata": {},
     "output_type": "execute_result"
    }
   ],
   "source": [
    "%viz --style=\"COMPTREE\" --view=\"Action\" \"PrivateImportTest\""
   ]
  },
  {
   "cell_type": "code",
   "execution_count": 7,
   "id": "5cf3e0f5",
   "metadata": {
    "execution": {
     "iopub.execute_input": "2022-02-18T10:48:45.254428Z",
     "iopub.status.busy": "2022-02-18T10:48:45.254024Z",
     "iopub.status.idle": "2022-02-18T10:48:45.264912Z",
     "shell.execute_reply": "2022-02-18T10:48:45.265228Z"
    }
   },
   "outputs": [
    {
     "data": {
      "image/svg+xml": [
       "<?xml version=\"1.0\" encoding=\"UTF-8\" standalone=\"no\"?><svg xmlns=\"http://www.w3.org/2000/svg\" xmlns:xlink=\"http://www.w3.org/1999/xlink\" contentScriptType=\"application/ecmascript\" contentStyleType=\"text/css\" height=\"12px\" preserveAspectRatio=\"none\" style=\"width:12px;height:12px;\" version=\"1.1\" viewBox=\"0 0 12 12\" width=\"12px\" zoomAndPan=\"magnify\"><defs/><g><!--MD5=[803fc46c337be7a5c8a9831e35356779]\n",
       "@startuml\r\n",
       "skinparam roundcorner 20\r\n",
       "skinparam BoxPadding 20\r\n",
       "skinparam SequenceBoxBackgroundColor #white\r\n",
       "skinparam style strictuml\r\n",
       "skinparam maxMessageSize 100\r\n",
       " skinparam monochrome true\r\n",
       "skinparam classbackgroundcolor white\r\n",
       "skinparam shadowing false\r\n",
       "skinparam wrapWidth 300\r\n",
       "hide circle\r\n",
       "\r\n",
       "@enduml\r\n",
       "\n",
       "PlantUML version 1.2020.13(Sat Jun 13 12:26:38 UTC 2020)\n",
       "(EPL source distribution)\n",
       "Java Runtime: OpenJDK Runtime Environment\n",
       "JVM: OpenJDK 64-Bit Server VM\n",
       "Default Encoding: UTF-8\n",
       "Language: en\n",
       "Country: null\n",
       "--></g></svg>"
      ]
     },
     "execution_count": 7,
     "metadata": {},
     "output_type": "execute_result"
    }
   ],
   "source": [
    "%viz --style=\"COMPTREE\" --view=\"Sequence\" \"PrivateImportTest\""
   ]
  },
  {
   "cell_type": "code",
   "execution_count": 8,
   "id": "3cbdd191",
   "metadata": {
    "execution": {
     "iopub.execute_input": "2022-02-18T10:48:45.315317Z",
     "iopub.status.busy": "2022-02-18T10:48:45.314920Z",
     "iopub.status.idle": "2022-02-18T10:48:45.367474Z",
     "shell.execute_reply": "2022-02-18T10:48:45.367068Z"
    }
   },
   "outputs": [
    {
     "data": {
      "image/svg+xml": [
       "<?xml version=\"1.0\" encoding=\"UTF-8\" standalone=\"no\"?><svg xmlns=\"http://www.w3.org/2000/svg\" xmlns:xlink=\"http://www.w3.org/1999/xlink\" contentScriptType=\"application/ecmascript\" contentStyleType=\"text/css\" height=\"586px\" preserveAspectRatio=\"none\" style=\"width:433px;height:586px;\" version=\"1.1\" viewBox=\"0 0 433 586\" width=\"433px\" zoomAndPan=\"magnify\"><defs/><g><!--MD5=[fbc87193dbaf4d95561dea2c320d4a47]\n",
       "cluster E1--><a href=\"psysml:56a08668-af7c-402b-8ea6-0ffeccd2e906\" target=\"_top\" title=\"psysml:56a08668-af7c-402b-8ea6-0ffeccd2e906\" xlink:actuate=\"onRequest\" xlink:href=\"psysml:56a08668-af7c-402b-8ea6-0ffeccd2e906\" xlink:show=\"new\" xlink:title=\"psysml:56a08668-af7c-402b-8ea6-0ffeccd2e906\" xlink:type=\"simple\"><polygon fill=\"#FFFFFF\" points=\"26.32,6,153.32,6,160.32,28.2969,411.32,28.2969,411.32,574,26.32,574,26.32,6\" style=\"stroke: #000000; stroke-width: 1.5;\"/><line style=\"stroke: #000000; stroke-width: 1.5;\" x1=\"26.32\" x2=\"160.32\" y1=\"28.2969\" y2=\"28.2969\"/><text fill=\"#000000\" font-family=\"sans-serif\" font-size=\"14\" font-weight=\"bold\" lengthAdjust=\"spacingAndGlyphs\" textLength=\"121\" x=\"30.32\" y=\"20.9951\">PrivateImportTest</text></a><!--MD5=[e4f7fae6ed58524ba242bb0b0d3be6b7]\n",
       "cluster E2--><a href=\"psysml:989134c5-5272-479d-a43e-5e5573119e0c\" target=\"_top\" title=\"psysml:989134c5-5272-479d-a43e-5e5573119e0c\" xlink:actuate=\"onRequest\" xlink:href=\"psysml:989134c5-5272-479d-a43e-5e5573119e0c\" xlink:show=\"new\" xlink:title=\"psysml:989134c5-5272-479d-a43e-5e5573119e0c\" xlink:type=\"simple\"><polygon fill=\"#FFFFFF\" points=\"231.32,421,255.32,421,262.32,443.2969,368.32,443.2969,368.32,534,231.32,534,231.32,421\" style=\"stroke: #000000; stroke-width: 1.5;\"/><line style=\"stroke: #000000; stroke-width: 1.5;\" x1=\"231.32\" x2=\"262.32\" y1=\"443.2969\" y2=\"443.2969\"/><text fill=\"#000000\" font-family=\"sans-serif\" font-size=\"14\" font-weight=\"bold\" lengthAdjust=\"spacingAndGlyphs\" textLength=\"18\" x=\"235.32\" y=\"435.9951\">P1</text></a><!--MD5=[14e3b0961a2654348d326746436168a1]\n",
       "cluster E6--><a href=\"psysml:90563c83-8b6e-4371-ac3b-36c1983fe7e9\" target=\"_top\" title=\"psysml:90563c83-8b6e-4371-ac3b-36c1983fe7e9\" xlink:actuate=\"onRequest\" xlink:href=\"psysml:90563c83-8b6e-4371-ac3b-36c1983fe7e9\" xlink:show=\"new\" xlink:title=\"psysml:90563c83-8b6e-4371-ac3b-36c1983fe7e9\" xlink:type=\"simple\"><polygon fill=\"#FFFFFF\" points=\"74.32,243,98.32,243,105.32,265.2969,211.32,265.2969,211.32,356,74.32,356,74.32,243\" style=\"stroke: #000000; stroke-width: 1.5;\"/><line style=\"stroke: #000000; stroke-width: 1.5;\" x1=\"74.32\" x2=\"105.32\" y1=\"265.2969\" y2=\"265.2969\"/><text fill=\"#000000\" font-family=\"sans-serif\" font-size=\"14\" font-weight=\"bold\" lengthAdjust=\"spacingAndGlyphs\" textLength=\"18\" x=\"78.32\" y=\"257.9951\">P3</text></a><!--MD5=[7f149f147074ac12df2cb0a7728a5fb0]\n",
       "cluster E9--><a href=\"psysml:2733cc0d-ab4e-4acc-aaf2-0d4d1c16697a\" target=\"_top\" title=\"psysml:2733cc0d-ab4e-4acc-aaf2-0d4d1c16697a\" xlink:actuate=\"onRequest\" xlink:href=\"psysml:2733cc0d-ab4e-4acc-aaf2-0d4d1c16697a\" xlink:show=\"new\" xlink:title=\"psysml:2733cc0d-ab4e-4acc-aaf2-0d4d1c16697a\" xlink:type=\"simple\"><polygon fill=\"#FFFFFF\" points=\"262.32,65,286.32,65,293.32,87.2969,371.32,87.2969,371.32,178,262.32,178,262.32,65\" style=\"stroke: #000000; stroke-width: 1.5;\"/><line style=\"stroke: #000000; stroke-width: 1.5;\" x1=\"262.32\" x2=\"293.32\" y1=\"87.2969\" y2=\"87.2969\"/><text fill=\"#000000\" font-family=\"sans-serif\" font-size=\"14\" font-weight=\"bold\" lengthAdjust=\"spacingAndGlyphs\" textLength=\"18\" x=\"266.32\" y=\"79.9951\">P4</text></a><!--MD5=[270fce915f116d4de14055a7c1d9a0f3]\n",
       "class E5--><a href=\"psysml:4755439e-6dab-436e-bf4a-d220bd8663ba\" target=\"_top\" title=\"psysml:4755439e-6dab-436e-bf4a-d220bd8663ba\" xlink:actuate=\"onRequest\" xlink:href=\"psysml:4755439e-6dab-436e-bf4a-d220bd8663ba\" xlink:show=\"new\" xlink:title=\"psysml:4755439e-6dab-436e-bf4a-d220bd8663ba\" xlink:type=\"simple\"><rect fill=\"#FFFFFF\" height=\"45.9375\" id=\"E5\" rx=\"10\" ry=\"10\" style=\"stroke: #383838; stroke-width: 1.5;\" width=\"42\" x=\"345.32\" y=\"286\"/><text fill=\"#000000\" font-family=\"sans-serif\" font-size=\"12\" font-style=\"italic\" lengthAdjust=\"spacingAndGlyphs\" textLength=\"40\" x=\"346.32\" y=\"302.1387\">«part»</text><text fill=\"#000000\" font-family=\"sans-serif\" font-size=\"12\" lengthAdjust=\"spacingAndGlyphs\" textLength=\"22\" x=\"353.32\" y=\"316.1074\">x: A</text><line style=\"stroke: #383838; stroke-width: 1.5;\" x1=\"346.32\" x2=\"386.32\" y1=\"323.9375\" y2=\"323.9375\"/></a><!--MD5=[b9389687b975829384b498ac4b7476b2]\n",
       "class E8--><a href=\"psysml:dfc306bc-28cd-4074-8d12-696a322e5955\" target=\"_top\" title=\"psysml:dfc306bc-28cd-4074-8d12-696a322e5955\" xlink:actuate=\"onRequest\" xlink:href=\"psysml:dfc306bc-28cd-4074-8d12-696a322e5955\" xlink:show=\"new\" xlink:title=\"psysml:dfc306bc-28cd-4074-8d12-696a322e5955\" xlink:type=\"simple\"><rect fill=\"#FFFFFF\" height=\"45.9375\" id=\"E8\" rx=\"10\" ry=\"10\" style=\"stroke: #383838; stroke-width: 1.5;\" width=\"42\" x=\"193.32\" y=\"108\"/><text fill=\"#000000\" font-family=\"sans-serif\" font-size=\"12\" font-style=\"italic\" lengthAdjust=\"spacingAndGlyphs\" textLength=\"40\" x=\"194.32\" y=\"124.1387\">«part»</text><text fill=\"#000000\" font-family=\"sans-serif\" font-size=\"12\" lengthAdjust=\"spacingAndGlyphs\" textLength=\"21\" x=\"201.82\" y=\"138.1074\">z: B</text><line style=\"stroke: #383838; stroke-width: 1.5;\" x1=\"194.32\" x2=\"234.32\" y1=\"145.9375\" y2=\"145.9375\"/></a><!--MD5=[09b614a08d8cba4a07c9adeb5e0fee81]\n",
       "class E3--><a href=\"psysml:1f011377-ef65-4253-92ff-be4f522feeb1\" target=\"_top\" title=\"psysml:1f011377-ef65-4253-92ff-be4f522feeb1\" xlink:actuate=\"onRequest\" xlink:href=\"psysml:1f011377-ef65-4253-92ff-be4f522feeb1\" xlink:show=\"new\" xlink:title=\"psysml:1f011377-ef65-4253-92ff-be4f522feeb1\" xlink:type=\"simple\"><rect fill=\"#FFFFFF\" height=\"45.9375\" id=\"E3\" style=\"stroke: #383838; stroke-width: 1.5;\" width=\"70\" x=\"274.32\" y=\"464\"/><text fill=\"#000000\" font-family=\"sans-serif\" font-size=\"12\" font-style=\"italic\" lengthAdjust=\"spacingAndGlyphs\" textLength=\"68\" x=\"275.32\" y=\"480.1387\">«part  def»</text><text fill=\"#000000\" font-family=\"sans-serif\" font-size=\"12\" lengthAdjust=\"spacingAndGlyphs\" textLength=\"8\" x=\"305.32\" y=\"494.1074\">A</text><line style=\"stroke: #383838; stroke-width: 1.5;\" x1=\"275.32\" x2=\"343.32\" y1=\"501.9375\" y2=\"501.9375\"/></a><a href=\"psysml:7d907640-2982-4506-b0ab-4e4fe8a9afec\" target=\"_top\" title=\"psysml:7d907640-2982-4506-b0ab-4e4fe8a9afec\" xlink:actuate=\"onRequest\" xlink:href=\"psysml:7d907640-2982-4506-b0ab-4e4fe8a9afec\" xlink:show=\"new\" xlink:title=\"psysml:7d907640-2982-4506-b0ab-4e4fe8a9afec\" xlink:type=\"simple\"><polygon fill=\"#FFFFFF\" points=\"235.32,282.5,259.32,282.5,266.32,304.7969,273.32,304.7969,273.32,335.0938,235.32,335.0938,235.32,282.5\" style=\"stroke: #000000; stroke-width: 1.5;\"/><line style=\"stroke: #000000; stroke-width: 1.5;\" x1=\"235.32\" x2=\"266.32\" y1=\"304.7969\" y2=\"304.7969\"/><text fill=\"#000000\" font-family=\"sans-serif\" font-size=\"14\" font-weight=\"bold\" lengthAdjust=\"spacingAndGlyphs\" textLength=\"18\" x=\"239.32\" y=\"297.4951\">P2</text></a><!--MD5=[2156ba9850f5573cc1fc38a6a4b2f02b]\n",
       "class E7--><a href=\"psysml:bdb8801b-74e6-41c7-b5f1-114cae898237\" target=\"_top\" title=\"psysml:bdb8801b-74e6-41c7-b5f1-114cae898237\" xlink:actuate=\"onRequest\" xlink:href=\"psysml:bdb8801b-74e6-41c7-b5f1-114cae898237\" xlink:show=\"new\" xlink:title=\"psysml:bdb8801b-74e6-41c7-b5f1-114cae898237\" xlink:type=\"simple\"><rect fill=\"#FFFFFF\" height=\"45.9375\" id=\"E7\" style=\"stroke: #383838; stroke-width: 1.5;\" width=\"70\" x=\"117.32\" y=\"286\"/><text fill=\"#000000\" font-family=\"sans-serif\" font-size=\"12\" font-style=\"italic\" lengthAdjust=\"spacingAndGlyphs\" textLength=\"68\" x=\"118.32\" y=\"302.1387\">«part  def»</text><text fill=\"#000000\" font-family=\"sans-serif\" font-size=\"12\" lengthAdjust=\"spacingAndGlyphs\" textLength=\"8\" x=\"148.32\" y=\"316.1074\">B</text><line style=\"stroke: #383838; stroke-width: 1.5;\" x1=\"118.32\" x2=\"186.32\" y1=\"323.9375\" y2=\"323.9375\"/></a><!--MD5=[96f4274e9e20536e775497830990834d]\n",
       "class E10--><a href=\"psysml:aa943bbf-59d6-4c08-9403-21388691ca57\" target=\"_top\" title=\"psysml:aa943bbf-59d6-4c08-9403-21388691ca57\" xlink:actuate=\"onRequest\" xlink:href=\"psysml:aa943bbf-59d6-4c08-9403-21388691ca57\" xlink:show=\"new\" xlink:title=\"psysml:aa943bbf-59d6-4c08-9403-21388691ca57\" xlink:type=\"simple\"><rect fill=\"#FFFFFF\" height=\"45.9375\" id=\"E10\" rx=\"10\" ry=\"10\" style=\"stroke: #383838; stroke-width: 1.5;\" width=\"42\" x=\"305.32\" y=\"108\"/><text fill=\"#000000\" font-family=\"sans-serif\" font-size=\"12\" font-style=\"italic\" lengthAdjust=\"spacingAndGlyphs\" textLength=\"40\" x=\"306.32\" y=\"124.1387\">«part»</text><text fill=\"#000000\" font-family=\"sans-serif\" font-size=\"12\" lengthAdjust=\"spacingAndGlyphs\" textLength=\"29\" x=\"309.82\" y=\"138.1074\">z1: A</text><line style=\"stroke: #383838; stroke-width: 1.5;\" x1=\"306.32\" x2=\"346.32\" y1=\"145.9375\" y2=\"145.9375\"/></a><!--MD5=[185131fc0dcab0a4505a2ebe144e961b]\n",
       "link E4 to E2--><a href=\"psysml:113e6c15-2e9f-43c2-9a8b-f1023998ecb3\" target=\"_top\" title=\"psysml:113e6c15-2e9f-43c2-9a8b-f1023998ecb3\" xlink:actuate=\"onRequest\" xlink:href=\"psysml:113e6c15-2e9f-43c2-9a8b-f1023998ecb3\" xlink:show=\"new\" xlink:title=\"psysml:113e6c15-2e9f-43c2-9a8b-f1023998ecb3\" xlink:type=\"simple\"><path d=\"M244.71,335.52 C240.28,348.61 235.53,364.94 233.32,380 C231.6325,391.49 231.1388,403.7444 231.3534,415.6911 C231.3803,417.1844 231.4182,418.673 231.4662,420.1546 C231.4722,420.3398 231.4784,420.5249 231.4847,420.7099 \" fill=\"none\" id=\"E4-&gt;E2\" style=\"stroke: #383838; stroke-width: 1.0; stroke-dasharray: 7.0,7.0;\"/><polygon fill=\"#383838\" points=\"231.4847,420.7099,235.1752,411.5786,231.314,415.7128,227.1798,411.8517,231.4847,420.7099\" style=\"stroke: #383838; stroke-width: 1.0;\"/><text fill=\"#000000\" font-family=\"sans-serif\" font-size=\"13\" lengthAdjust=\"spacingAndGlyphs\" textLength=\"65\" x=\"234.32\" y=\"393.0669\">«import»*</text></a><!--MD5=[e9be52314489bd878ff4c7144b63c9e1]\n",
       "link E5 to E3--><a href=\"psysml:2e030f48-ed8d-4fbc-a256-8117ac7131ec\" target=\"_top\" title=\"psysml:2e030f48-ed8d-4fbc-a256-8117ac7131ec\" xlink:actuate=\"onRequest\" xlink:href=\"psysml:2e030f48-ed8d-4fbc-a256-8117ac7131ec\" xlink:show=\"new\" xlink:title=\"psysml:2e030f48-ed8d-4fbc-a256-8117ac7131ec\" xlink:type=\"simple\"><path d=\"M359.1,332.29 C349.98,360.46 334.1,409.49 322.72,444.61 \" fill=\"none\" id=\"E5-&gt;E3\" style=\"stroke: #383838; stroke-width: 1.0;\"/><polygon fill=\"#FFFFFF\" points=\"316.48,463.89,315.6693,443.6578,328.9893,447.9678,316.48,463.89\" style=\"stroke: #383838; stroke-width: 1.0;\"/><ellipse cx=\"319.3269\" cy=\"438.8503\" fill=\"#383838\" rx=\"2\" ry=\"2\" style=\"stroke: #383838; stroke-width: 1.0;\"/><ellipse cx=\"328.8413\" cy=\"441.9289\" fill=\"#383838\" rx=\"2\" ry=\"2\" style=\"stroke: #383838; stroke-width: 1.0;\"/></a><!--MD5=[ee384bb554873b72f85793eae40e290c]\n",
       "link E1 to E4--><a href=\"psysml:a039409c-dc44-4261-a761-133767375f35\" target=\"_top\" title=\"psysml:a039409c-dc44-4261-a761-133767375f35\" xlink:actuate=\"onRequest\" xlink:href=\"psysml:a039409c-dc44-4261-a761-133767375f35\" xlink:show=\"new\" xlink:title=\"psysml:a039409c-dc44-4261-a761-133767375f35\" xlink:type=\"simple\"><path d=\"M34.29,132.12 C33.65,134.6 23.75,174.52 42.32,194 C49.33,201.35 77.35,200.04 87.32,202 C113.19,207.09 181.71,211.88 203.32,227 C220.99,239.37 233.85,260.02 242.24,277.37 \" fill=\"none\" id=\"E1-&gt;E4\" style=\"stroke: #383838; stroke-width: 1.0; stroke-dasharray: 7.0,7.0;\"/><polygon fill=\"#383838\" points=\"244.49,282.17,244.3071,272.3228,242.3748,277.6394,237.0582,275.7072,244.49,282.17\" style=\"stroke: #383838; stroke-width: 1.0;\"/><text fill=\"#000000\" font-family=\"sans-serif\" font-size=\"13\" lengthAdjust=\"spacingAndGlyphs\" textLength=\"65\" x=\"183.32\" y=\"215.0669\">«import»*</text></a><!--MD5=[ccbd3af71bf83df0ec2a2db62d6d7130]\n",
       "link E1 to E6--><a href=\"psysml:8872cc02-851e-450c-b3e8-f90f2e3db770\" target=\"_top\" title=\"psysml:8872cc02-851e-450c-b3e8-f90f2e3db770\" xlink:actuate=\"onRequest\" xlink:href=\"psysml:8872cc02-851e-450c-b3e8-f90f2e3db770\" xlink:show=\"new\" xlink:title=\"psysml:8872cc02-851e-450c-b3e8-f90f2e3db770\" xlink:type=\"simple\"><path d=\"M26.1693,145.3513 C26.1165,145.4477 26.0635,145.5445 26.0105,145.6418 C25.9044,145.8363 25.7978,146.0325 25.6908,146.2304 C24.8349,147.8133 23.9523,149.5023 23.0614,151.284 C21.2797,154.8473 19.465,158.7813 17.765,162.9775 C10.965,179.7625 6,200.745 12.32,219 C20.295,242.035 36.9675,263.635 52.0413,279.7863 C59.5781,287.8619 66.7153,294.5753 72.1658,299.4248 C72.8471,300.031 73.502,300.6081 74.1281,301.1551 \" fill=\"none\" id=\"E1-&gt;E6\" style=\"stroke: #383838; stroke-width: 1.0; stroke-dasharray: 7.0,7.0;\"/><polygon fill=\"#383838\" points=\"74.1281,301.1551,69.982,292.2214,70.3627,297.8655,64.7187,298.2462,74.1281,301.1551\" style=\"stroke: #383838; stroke-width: 1.0;\"/><text fill=\"#000000\" font-family=\"sans-serif\" font-size=\"13\" lengthAdjust=\"spacingAndGlyphs\" textLength=\"65\" x=\"13.32\" y=\"215.0669\">«import»*</text></a><!--MD5=[bfa3c8b0d15052fdf50ae9310b491027]\n",
       "link E8 to E7--><a href=\"psysml:0934d2d2-1a49-4ac4-b6c0-cd8fa5ea19dd\" target=\"_top\" title=\"psysml:0934d2d2-1a49-4ac4-b6c0-cd8fa5ea19dd\" xlink:actuate=\"onRequest\" xlink:href=\"psysml:0934d2d2-1a49-4ac4-b6c0-cd8fa5ea19dd\" xlink:show=\"new\" xlink:title=\"psysml:0934d2d2-1a49-4ac4-b6c0-cd8fa5ea19dd\" xlink:type=\"simple\"><path d=\"M232.99,154.29 C246.61,173.37 260.16,200.59 244.32,219 C228.78,237.06 210.49,212.85 191.32,227 C178.2,236.69 169.29,251.96 163.34,266.65 \" fill=\"none\" id=\"E8-&gt;E7\" style=\"stroke: #383838; stroke-width: 1.0;\"/><polygon fill=\"#FFFFFF\" points=\"156.95,285.73,156.3404,265.4907,169.617,269.9329,156.95,285.73\" style=\"stroke: #383838; stroke-width: 1.0;\"/><ellipse cx=\"160.0457\" cy=\"260.7199\" fill=\"#383838\" rx=\"2\" ry=\"2\" style=\"stroke: #383838; stroke-width: 1.0;\"/><ellipse cx=\"169.5289\" cy=\"263.8929\" fill=\"#383838\" rx=\"2\" ry=\"2\" style=\"stroke: #383838; stroke-width: 1.0;\"/></a><!--MD5=[c2be97adba6ddfe1c8f349fab141c927]\n",
       "link E9 to E4--><a href=\"psysml:f0473cf2-6b9f-40e7-98be-e0cb9d304d8b\" target=\"_top\" title=\"psysml:f0473cf2-6b9f-40e7-98be-e0cb9d304d8b\" xlink:actuate=\"onRequest\" xlink:href=\"psysml:f0473cf2-6b9f-40e7-98be-e0cb9d304d8b\" xlink:show=\"new\" xlink:title=\"psysml:f0473cf2-6b9f-40e7-98be-e0cb9d304d8b\" xlink:type=\"simple\"><path d=\"M267.5431,178.2415 C267.5354,178.35 267.5276,178.4585 267.5198,178.5671 C267.3951,180.3034 267.2673,182.0417 267.1366,183.7729 C266.8753,187.2352 266.6025,190.6688 266.32,194 C263.93,222.21 260.49,254.26 257.9,277.18 \" fill=\"none\" id=\"E9-&gt;E4\" style=\"stroke: #383838; stroke-width: 1.0; stroke-dasharray: 7.0,7.0;\"/><polygon fill=\"#383838\" points=\"257.33,282.22,262.3075,273.7215,257.8869,277.2511,254.3572,272.8305,257.33,282.22\" style=\"stroke: #383838; stroke-width: 1.0;\"/><text fill=\"#000000\" font-family=\"sans-serif\" font-size=\"13\" lengthAdjust=\"spacingAndGlyphs\" textLength=\"65\" x=\"266.32\" y=\"215.0669\">«import»*</text></a><!--MD5=[feeac5eb423634930294aa81f2d25a4c]\n",
       "link E10 to E3--><a href=\"psysml:6083fff7-7e2a-4a1f-b6e0-00602bace9f4\" target=\"_top\" title=\"psysml:6083fff7-7e2a-4a1f-b6e0-00602bace9f4\" xlink:actuate=\"onRequest\" xlink:href=\"psysml:6083fff7-7e2a-4a1f-b6e0-00602bace9f4\" xlink:show=\"new\" xlink:title=\"psysml:6083fff7-7e2a-4a1f-b6e0-00602bace9f4\" xlink:type=\"simple\"><path d=\"M345.63,154.11 C359.77,173.07 373.99,200.22 358.32,219 C345.58,234.26 327.2,211.86 314.32,227 C300.64,243.07 304.33,374.79 307.28,443.95 \" fill=\"none\" id=\"E10-&gt;E3\" style=\"stroke: #383838; stroke-width: 1.0;\"/><polygon fill=\"#FFFFFF\" points=\"308.18,463.98,300.3317,445.3144,314.3175,444.6841,308.18,463.98\" style=\"stroke: #383838; stroke-width: 1.0;\"/><ellipse cx=\"302.0731\" cy=\"439.5301\" fill=\"#383838\" rx=\"2\" ry=\"2\" style=\"stroke: #383838; stroke-width: 1.0;\"/><ellipse cx=\"312.063\" cy=\"439.0799\" fill=\"#383838\" rx=\"2\" ry=\"2\" style=\"stroke: #383838; stroke-width: 1.0;\"/></a><!--MD5=[a88ead48488784f3d05a4fa735d2db1b]\n",
       "@startuml\r\n",
       " skinparam monochrome true\r\n",
       "skinparam classbackgroundcolor white\r\n",
       "skinparam shadowing false\r\n",
       "skinparam wrapWidth 300\r\n",
       "hide circle\r\n",
       "\r\n",
       "package \"PrivateImportTest\" as E1  [[psysml:56a08668-af7c-402b-8ea6-0ffeccd2e906 ]]  {\r\n",
       "package \"P1\" as E2  [[psysml:989134c5-5272-479d-a43e-5e5573119e0c ]]  {\r\n",
       "comp def \"A\" as E3  <<(T,blue) part  def>> [[psysml:1f011377-ef65-4253-92ff-be4f522feeb1 ]] {\r\n",
       "}\r\n",
       "}\r\n",
       "package \"P2\" as E4  [[psysml:7d907640-2982-4506-b0ab-4e4fe8a9afec ]]  {\r\n",
       "}\r\n",
       "comp usage \"x: A \" as E5  <<(T,blue) part>> [[psysml:4755439e-6dab-436e-bf4a-d220bd8663ba ]] {\r\n",
       "}\r\n",
       "package \"P3\" as E6  [[psysml:90563c83-8b6e-4371-ac3b-36c1983fe7e9 ]]  {\r\n",
       "comp def \"B\" as E7  <<(T,blue) part  def>> [[psysml:bdb8801b-74e6-41c7-b5f1-114cae898237 ]] {\r\n",
       "}\r\n",
       "}\r\n",
       "comp usage \"z: B \" as E8  <<(T,blue) part>> [[psysml:dfc306bc-28cd-4074-8d12-696a322e5955 ]] {\r\n",
       "}\r\n",
       "package \"P4\" as E9  [[psysml:2733cc0d-ab4e-4acc-aaf2-0d4d1c16697a ]]  {\r\n",
       "comp usage \"z1: A \" as E10  <<(T,blue) part>> [[psysml:aa943bbf-59d6-4c08-9403-21388691ca57 ]] {\r\n",
       "}\r\n",
       "}\r\n",
       "}\r\n",
       "E4 ..> E2 [[psysml:113e6c15-2e9f-43c2-9a8b-f1023998ecb3 ]] : <<import>>*\r\n",
       "E5 - -:|> E3 [[psysml:2e030f48-ed8d-4fbc-a256-8117ac7131ec ]] \r\n",
       "E1 ..> E4 [[psysml:a039409c-dc44-4261-a761-133767375f35 ]] : <<import>>*\r\n",
       "E1 ..> E6 [[psysml:8872cc02-851e-450c-b3e8-f90f2e3db770 ]] : <<import>>*\r\n",
       "E8 - -:|> E7 [[psysml:0934d2d2-1a49-4ac4-b6c0-cd8fa5ea19dd ]] \r\n",
       "E9 ..> E4 [[psysml:f0473cf2-6b9f-40e7-98be-e0cb9d304d8b ]] : <<import>>*\r\n",
       "E10 - -:|> E3 [[psysml:6083fff7-7e2a-4a1f-b6e0-00602bace9f4 ]] \r\n",
       "@enduml\r\n",
       "\n",
       "PlantUML version 1.2020.13(Sat Jun 13 12:26:38 UTC 2020)\n",
       "(EPL source distribution)\n",
       "Java Runtime: OpenJDK Runtime Environment\n",
       "JVM: OpenJDK 64-Bit Server VM\n",
       "Default Encoding: UTF-8\n",
       "Language: en\n",
       "Country: null\n",
       "--></g></svg>"
      ]
     },
     "execution_count": 8,
     "metadata": {},
     "output_type": "execute_result"
    }
   ],
   "source": [
    "%viz --style=\"COMPTREE\" --view=\"MIXED\" \"PrivateImportTest\""
   ]
  },
  {
   "cell_type": "code",
   "execution_count": 9,
   "id": "f3efe522",
   "metadata": {
    "execution": {
     "iopub.execute_input": "2022-02-18T10:48:45.417128Z",
     "iopub.status.busy": "2022-02-18T10:48:45.416696Z",
     "iopub.status.idle": "2022-02-18T10:48:45.489215Z",
     "shell.execute_reply": "2022-02-18T10:48:45.488794Z"
    }
   },
   "outputs": [
    {
     "data": {
      "image/svg+xml": [
       "<?xml version=\"1.0\" encoding=\"UTF-8\" standalone=\"no\"?><svg xmlns=\"http://www.w3.org/2000/svg\" xmlns:xlink=\"http://www.w3.org/1999/xlink\" contentScriptType=\"application/ecmascript\" contentStyleType=\"text/css\" height=\"586px\" preserveAspectRatio=\"none\" style=\"width:427px;height:586px;\" version=\"1.1\" viewBox=\"0 0 427 586\" width=\"427px\" zoomAndPan=\"magnify\"><defs/><g><!--MD5=[fbc87193dbaf4d95561dea2c320d4a47]\n",
       "cluster E1--><a href=\"psysml:56a08668-af7c-402b-8ea6-0ffeccd2e906\" target=\"_top\" title=\"psysml:56a08668-af7c-402b-8ea6-0ffeccd2e906\" xlink:actuate=\"onRequest\" xlink:href=\"psysml:56a08668-af7c-402b-8ea6-0ffeccd2e906\" xlink:show=\"new\" xlink:title=\"psysml:56a08668-af7c-402b-8ea6-0ffeccd2e906\" xlink:type=\"simple\"><polygon fill=\"#FFFFFF\" points=\"20,6,147,6,154,28.2969,405,28.2969,405,574,20,574,20,6\" style=\"stroke: #000000; stroke-width: 1.5;\"/><line style=\"stroke: #000000; stroke-width: 1.5;\" x1=\"20\" x2=\"154\" y1=\"28.2969\" y2=\"28.2969\"/><text fill=\"#000000\" font-family=\"sans-serif\" font-size=\"14\" font-weight=\"bold\" lengthAdjust=\"spacingAndGlyphs\" textLength=\"121\" x=\"24\" y=\"20.9951\">PrivateImportTest</text></a><!--MD5=[e4f7fae6ed58524ba242bb0b0d3be6b7]\n",
       "cluster E2--><a href=\"psysml:989134c5-5272-479d-a43e-5e5573119e0c\" target=\"_top\" title=\"psysml:989134c5-5272-479d-a43e-5e5573119e0c\" xlink:actuate=\"onRequest\" xlink:href=\"psysml:989134c5-5272-479d-a43e-5e5573119e0c\" xlink:show=\"new\" xlink:title=\"psysml:989134c5-5272-479d-a43e-5e5573119e0c\" xlink:type=\"simple\"><polygon fill=\"#FFFFFF\" points=\"225,421,249,421,256,443.2969,362,443.2969,362,534,225,534,225,421\" style=\"stroke: #000000; stroke-width: 1.5;\"/><line style=\"stroke: #000000; stroke-width: 1.5;\" x1=\"225\" x2=\"256\" y1=\"443.2969\" y2=\"443.2969\"/><text fill=\"#000000\" font-family=\"sans-serif\" font-size=\"14\" font-weight=\"bold\" lengthAdjust=\"spacingAndGlyphs\" textLength=\"18\" x=\"229\" y=\"435.9951\">P1</text></a><!--MD5=[14e3b0961a2654348d326746436168a1]\n",
       "cluster E6--><a href=\"psysml:90563c83-8b6e-4371-ac3b-36c1983fe7e9\" target=\"_top\" title=\"psysml:90563c83-8b6e-4371-ac3b-36c1983fe7e9\" xlink:actuate=\"onRequest\" xlink:href=\"psysml:90563c83-8b6e-4371-ac3b-36c1983fe7e9\" xlink:show=\"new\" xlink:title=\"psysml:90563c83-8b6e-4371-ac3b-36c1983fe7e9\" xlink:type=\"simple\"><polygon fill=\"#FFFFFF\" points=\"68,243,92,243,99,265.2969,205,265.2969,205,356,68,356,68,243\" style=\"stroke: #000000; stroke-width: 1.5;\"/><line style=\"stroke: #000000; stroke-width: 1.5;\" x1=\"68\" x2=\"99\" y1=\"265.2969\" y2=\"265.2969\"/><text fill=\"#000000\" font-family=\"sans-serif\" font-size=\"14\" font-weight=\"bold\" lengthAdjust=\"spacingAndGlyphs\" textLength=\"18\" x=\"72\" y=\"257.9951\">P3</text></a><!--MD5=[7f149f147074ac12df2cb0a7728a5fb0]\n",
       "cluster E9--><a href=\"psysml:2733cc0d-ab4e-4acc-aaf2-0d4d1c16697a\" target=\"_top\" title=\"psysml:2733cc0d-ab4e-4acc-aaf2-0d4d1c16697a\" xlink:actuate=\"onRequest\" xlink:href=\"psysml:2733cc0d-ab4e-4acc-aaf2-0d4d1c16697a\" xlink:show=\"new\" xlink:title=\"psysml:2733cc0d-ab4e-4acc-aaf2-0d4d1c16697a\" xlink:type=\"simple\"><polygon fill=\"#FFFFFF\" points=\"256,65,280,65,287,87.2969,365,87.2969,365,178,256,178,256,65\" style=\"stroke: #000000; stroke-width: 1.5;\"/><line style=\"stroke: #000000; stroke-width: 1.5;\" x1=\"256\" x2=\"287\" y1=\"87.2969\" y2=\"87.2969\"/><text fill=\"#000000\" font-family=\"sans-serif\" font-size=\"14\" font-weight=\"bold\" lengthAdjust=\"spacingAndGlyphs\" textLength=\"18\" x=\"260\" y=\"79.9951\">P4</text></a><!--MD5=[270fce915f116d4de14055a7c1d9a0f3]\n",
       "class E5--><a href=\"psysml:4755439e-6dab-436e-bf4a-d220bd8663ba\" target=\"_top\" title=\"psysml:4755439e-6dab-436e-bf4a-d220bd8663ba\" xlink:actuate=\"onRequest\" xlink:href=\"psysml:4755439e-6dab-436e-bf4a-d220bd8663ba\" xlink:show=\"new\" xlink:title=\"psysml:4755439e-6dab-436e-bf4a-d220bd8663ba\" xlink:type=\"simple\"><rect fill=\"#FFFFFF\" height=\"45.9375\" id=\"E5\" rx=\"10\" ry=\"10\" style=\"stroke: #383838; stroke-width: 1.5;\" width=\"42\" x=\"339\" y=\"286\"/><text fill=\"#000000\" font-family=\"sans-serif\" font-size=\"12\" font-style=\"italic\" lengthAdjust=\"spacingAndGlyphs\" textLength=\"40\" x=\"340\" y=\"302.1387\">«part»</text><text fill=\"#000000\" font-family=\"sans-serif\" font-size=\"12\" lengthAdjust=\"spacingAndGlyphs\" textLength=\"22\" x=\"347\" y=\"316.1074\">x: A</text><line style=\"stroke: #383838; stroke-width: 1.5;\" x1=\"340\" x2=\"380\" y1=\"323.9375\" y2=\"323.9375\"/></a><!--MD5=[b9389687b975829384b498ac4b7476b2]\n",
       "class E8--><a href=\"psysml:dfc306bc-28cd-4074-8d12-696a322e5955\" target=\"_top\" title=\"psysml:dfc306bc-28cd-4074-8d12-696a322e5955\" xlink:actuate=\"onRequest\" xlink:href=\"psysml:dfc306bc-28cd-4074-8d12-696a322e5955\" xlink:show=\"new\" xlink:title=\"psysml:dfc306bc-28cd-4074-8d12-696a322e5955\" xlink:type=\"simple\"><rect fill=\"#FFFFFF\" height=\"45.9375\" id=\"E8\" rx=\"10\" ry=\"10\" style=\"stroke: #383838; stroke-width: 1.5;\" width=\"42\" x=\"187\" y=\"108\"/><text fill=\"#000000\" font-family=\"sans-serif\" font-size=\"12\" font-style=\"italic\" lengthAdjust=\"spacingAndGlyphs\" textLength=\"40\" x=\"188\" y=\"124.1387\">«part»</text><text fill=\"#000000\" font-family=\"sans-serif\" font-size=\"12\" lengthAdjust=\"spacingAndGlyphs\" textLength=\"21\" x=\"195.5\" y=\"138.1074\">z: B</text><line style=\"stroke: #383838; stroke-width: 1.5;\" x1=\"188\" x2=\"228\" y1=\"145.9375\" y2=\"145.9375\"/></a><!--MD5=[09b614a08d8cba4a07c9adeb5e0fee81]\n",
       "class E3--><a href=\"psysml:1f011377-ef65-4253-92ff-be4f522feeb1\" target=\"_top\" title=\"psysml:1f011377-ef65-4253-92ff-be4f522feeb1\" xlink:actuate=\"onRequest\" xlink:href=\"psysml:1f011377-ef65-4253-92ff-be4f522feeb1\" xlink:show=\"new\" xlink:title=\"psysml:1f011377-ef65-4253-92ff-be4f522feeb1\" xlink:type=\"simple\"><rect fill=\"#FFFFFF\" height=\"45.9375\" id=\"E3\" style=\"stroke: #383838; stroke-width: 1.5;\" width=\"70\" x=\"268\" y=\"464\"/><text fill=\"#000000\" font-family=\"sans-serif\" font-size=\"12\" font-style=\"italic\" lengthAdjust=\"spacingAndGlyphs\" textLength=\"68\" x=\"269\" y=\"480.1387\">«part  def»</text><text fill=\"#000000\" font-family=\"sans-serif\" font-size=\"12\" lengthAdjust=\"spacingAndGlyphs\" textLength=\"8\" x=\"299\" y=\"494.1074\">A</text><line style=\"stroke: #383838; stroke-width: 1.5;\" x1=\"269\" x2=\"337\" y1=\"501.9375\" y2=\"501.9375\"/></a><a href=\"psysml:7d907640-2982-4506-b0ab-4e4fe8a9afec\" target=\"_top\" title=\"psysml:7d907640-2982-4506-b0ab-4e4fe8a9afec\" xlink:actuate=\"onRequest\" xlink:href=\"psysml:7d907640-2982-4506-b0ab-4e4fe8a9afec\" xlink:show=\"new\" xlink:title=\"psysml:7d907640-2982-4506-b0ab-4e4fe8a9afec\" xlink:type=\"simple\"><polygon fill=\"#FFFFFF\" points=\"229,282.5,253,282.5,260,304.7969,267,304.7969,267,335.0938,229,335.0938,229,282.5\" style=\"stroke: #000000; stroke-width: 1.5;\"/><line style=\"stroke: #000000; stroke-width: 1.5;\" x1=\"229\" x2=\"260\" y1=\"304.7969\" y2=\"304.7969\"/><text fill=\"#000000\" font-family=\"sans-serif\" font-size=\"14\" font-weight=\"bold\" lengthAdjust=\"spacingAndGlyphs\" textLength=\"18\" x=\"233\" y=\"297.4951\">P2</text></a><!--MD5=[2156ba9850f5573cc1fc38a6a4b2f02b]\n",
       "class E7--><a href=\"psysml:bdb8801b-74e6-41c7-b5f1-114cae898237\" target=\"_top\" title=\"psysml:bdb8801b-74e6-41c7-b5f1-114cae898237\" xlink:actuate=\"onRequest\" xlink:href=\"psysml:bdb8801b-74e6-41c7-b5f1-114cae898237\" xlink:show=\"new\" xlink:title=\"psysml:bdb8801b-74e6-41c7-b5f1-114cae898237\" xlink:type=\"simple\"><rect fill=\"#FFFFFF\" height=\"45.9375\" id=\"E7\" style=\"stroke: #383838; stroke-width: 1.5;\" width=\"70\" x=\"111\" y=\"286\"/><text fill=\"#000000\" font-family=\"sans-serif\" font-size=\"12\" font-style=\"italic\" lengthAdjust=\"spacingAndGlyphs\" textLength=\"68\" x=\"112\" y=\"302.1387\">«part  def»</text><text fill=\"#000000\" font-family=\"sans-serif\" font-size=\"12\" lengthAdjust=\"spacingAndGlyphs\" textLength=\"8\" x=\"142\" y=\"316.1074\">B</text><line style=\"stroke: #383838; stroke-width: 1.5;\" x1=\"112\" x2=\"180\" y1=\"323.9375\" y2=\"323.9375\"/></a><!--MD5=[96f4274e9e20536e775497830990834d]\n",
       "class E10--><a href=\"psysml:aa943bbf-59d6-4c08-9403-21388691ca57\" target=\"_top\" title=\"psysml:aa943bbf-59d6-4c08-9403-21388691ca57\" xlink:actuate=\"onRequest\" xlink:href=\"psysml:aa943bbf-59d6-4c08-9403-21388691ca57\" xlink:show=\"new\" xlink:title=\"psysml:aa943bbf-59d6-4c08-9403-21388691ca57\" xlink:type=\"simple\"><rect fill=\"#FFFFFF\" height=\"45.9375\" id=\"E10\" rx=\"10\" ry=\"10\" style=\"stroke: #383838; stroke-width: 1.5;\" width=\"42\" x=\"299\" y=\"108\"/><text fill=\"#000000\" font-family=\"sans-serif\" font-size=\"12\" font-style=\"italic\" lengthAdjust=\"spacingAndGlyphs\" textLength=\"40\" x=\"300\" y=\"124.1387\">«part»</text><text fill=\"#000000\" font-family=\"sans-serif\" font-size=\"12\" lengthAdjust=\"spacingAndGlyphs\" textLength=\"29\" x=\"303.5\" y=\"138.1074\">z1: A</text><line style=\"stroke: #383838; stroke-width: 1.5;\" x1=\"300\" x2=\"340\" y1=\"145.9375\" y2=\"145.9375\"/></a><!--MD5=[185131fc0dcab0a4505a2ebe144e961b]\n",
       "link E4 to E2--><a href=\"psysml:113e6c15-2e9f-43c2-9a8b-f1023998ecb3\" target=\"_top\" title=\"psysml:113e6c15-2e9f-43c2-9a8b-f1023998ecb3\" xlink:actuate=\"onRequest\" xlink:href=\"psysml:113e6c15-2e9f-43c2-9a8b-f1023998ecb3\" xlink:show=\"new\" xlink:title=\"psysml:113e6c15-2e9f-43c2-9a8b-f1023998ecb3\" xlink:type=\"simple\"><path d=\"M240.3,335.67 C234.31,355.65 227,380 227,380 C227,380 227,397 227,397 C227,397 227.3631,402.39 227.9108,410.5172 C228.0477,412.549 228.1961,414.7519 228.3533,417.0844 C228.4319,418.2506 228.5127,419.4493 228.5953,420.6751 \" fill=\"none\" id=\"E4-&gt;E2\" style=\"stroke: #383838; stroke-width: 1.0; stroke-dasharray: 7.0,7.0;\"/><polygon fill=\"#383838\" points=\"228.5953,420.6751,231.9811,411.4265,228.2591,415.6864,223.9992,411.9645,228.5953,420.6751\" style=\"stroke: #383838; stroke-width: 1.0;\"/><text fill=\"#000000\" font-family=\"sans-serif\" font-size=\"13\" lengthAdjust=\"spacingAndGlyphs\" textLength=\"65\" x=\"228\" y=\"393.0669\">«import»*</text></a><!--MD5=[e9be52314489bd878ff4c7144b63c9e1]\n",
       "link E5 to E3--><a href=\"psysml:2e030f48-ed8d-4fbc-a256-8117ac7131ec\" target=\"_top\" title=\"psysml:2e030f48-ed8d-4fbc-a256-8117ac7131ec\" xlink:actuate=\"onRequest\" xlink:href=\"psysml:2e030f48-ed8d-4fbc-a256-8117ac7131ec\" xlink:show=\"new\" xlink:title=\"psysml:2e030f48-ed8d-4fbc-a256-8117ac7131ec\" xlink:type=\"simple\"><path d=\"M352.78,332.29 C343.66,360.46 327.78,409.49 316.4,444.61 \" fill=\"none\" id=\"E5-&gt;E3\" style=\"stroke: #383838; stroke-width: 1.0;\"/><polygon fill=\"#FFFFFF\" points=\"310.16,463.89,309.3493,443.6578,322.6693,447.9678,310.16,463.89\" style=\"stroke: #383838; stroke-width: 1.0;\"/><ellipse cx=\"313.0069\" cy=\"438.8503\" fill=\"#383838\" rx=\"2\" ry=\"2\" style=\"stroke: #383838; stroke-width: 1.0;\"/><ellipse cx=\"322.5213\" cy=\"441.9289\" fill=\"#383838\" rx=\"2\" ry=\"2\" style=\"stroke: #383838; stroke-width: 1.0;\"/></a><!--MD5=[ee384bb554873b72f85793eae40e290c]\n",
       "link E1 to E4--><a href=\"psysml:a039409c-dc44-4261-a761-133767375f35\" target=\"_top\" title=\"psysml:a039409c-dc44-4261-a761-133767375f35\" xlink:actuate=\"onRequest\" xlink:href=\"psysml:a039409c-dc44-4261-a761-133767375f35\" xlink:show=\"new\" xlink:title=\"psysml:a039409c-dc44-4261-a761-133767375f35\" xlink:type=\"simple\"><path d=\"M28.01,132.04 C28.25,133.92 36,194 36,194 C36,194 81,202 81,202 C81,202 197,227 197,227 C197,227 214.66,255.04 229.19,278.13 \" fill=\"none\" id=\"E1-&gt;E4\" style=\"stroke: #383838; stroke-width: 1.0; stroke-dasharray: 7.0,7.0;\"/><polygon fill=\"#383838\" points=\"231.86,282.37,230.4584,272.6214,229.1997,278.1364,223.6847,276.8778,231.86,282.37\" style=\"stroke: #383838; stroke-width: 1.0;\"/><text fill=\"#000000\" font-family=\"sans-serif\" font-size=\"13\" lengthAdjust=\"spacingAndGlyphs\" textLength=\"65\" x=\"160\" y=\"215.0669\">«import»*</text></a><!--MD5=[ccbd3af71bf83df0ec2a2db62d6d7130]\n",
       "link E1 to E6--><a href=\"psysml:8872cc02-851e-450c-b3e8-f90f2e3db770\" target=\"_top\" title=\"psysml:8872cc02-851e-450c-b3e8-f90f2e3db770\" xlink:actuate=\"onRequest\" xlink:href=\"psysml:8872cc02-851e-450c-b3e8-f90f2e3db770\" xlink:show=\"new\" xlink:title=\"psysml:8872cc02-851e-450c-b3e8-f90f2e3db770\" xlink:type=\"simple\"><path d=\"M19.8842,157.8227 C19.8433,157.9531 19.8022,158.0837 19.7611,158.2144 C19.4325,159.2604 19.1003,160.3175 18.7658,161.3817 C18.0969,163.5102 17.4191,165.6672 16.7425,167.82 C11.33,185.0425 6,202 6,202 C6,202 6,219 6,219 C6,219 22.9575,240.56 40.18,262.4575 C48.7913,273.4063 57.4688,284.4394 64.1259,292.9041 C64.9581,293.9621 65.7587,294.9801 66.5236,295.9527 C66.9061,296.4391 67.2796,296.9141 67.6438,297.3771 C67.7348,297.4928 67.8253,297.6078 67.9151,297.7221 \" fill=\"none\" id=\"E1-&gt;E6\" style=\"stroke: #383838; stroke-width: 1.0; stroke-dasharray: 7.0,7.0;\"/><polygon fill=\"#383838\" points=\"67.9151,297.7221,65.4957,288.175,64.8242,293.7919,59.2073,293.1204,67.9151,297.7221\" style=\"stroke: #383838; stroke-width: 1.0;\"/><text fill=\"#000000\" font-family=\"sans-serif\" font-size=\"13\" lengthAdjust=\"spacingAndGlyphs\" textLength=\"65\" x=\"7\" y=\"215.0669\">«import»*</text></a><!--MD5=[bfa3c8b0d15052fdf50ae9310b491027]\n",
       "link E8 to E7--><a href=\"psysml:0934d2d2-1a49-4ac4-b6c0-cd8fa5ea19dd\" target=\"_top\" title=\"psysml:0934d2d2-1a49-4ac4-b6c0-cd8fa5ea19dd\" xlink:actuate=\"onRequest\" xlink:href=\"psysml:0934d2d2-1a49-4ac4-b6c0-cd8fa5ea19dd\" xlink:show=\"new\" xlink:title=\"psysml:0934d2d2-1a49-4ac4-b6c0-cd8fa5ea19dd\" xlink:type=\"simple\"><path d=\"M217.49,154.15 C226.28,174.66 238,202 238,202 C238,202 238,219 238,219 C238,219 185,227 185,227 C185,227 175.15,247.45 165.36,267.8 \" fill=\"none\" id=\"E8-&gt;E7\" style=\"stroke: #383838; stroke-width: 1.0;\"/><polygon fill=\"#FFFFFF\" points=\"156.66,285.87,158.5936,265.7141,171.2082,271.7863,156.66,285.87\" style=\"stroke: #383838; stroke-width: 1.0;\"/><ellipse cx=\"162.8679\" cy=\"261.4456\" fill=\"#383838\" rx=\"2\" ry=\"2\" style=\"stroke: #383838; stroke-width: 1.0;\"/><ellipse cx=\"171.8783\" cy=\"265.7829\" fill=\"#383838\" rx=\"2\" ry=\"2\" style=\"stroke: #383838; stroke-width: 1.0;\"/></a><!--MD5=[c2be97adba6ddfe1c8f349fab141c927]\n",
       "link E9 to E4--><a href=\"psysml:f0473cf2-6b9f-40e7-98be-e0cb9d304d8b\" target=\"_top\" title=\"psysml:f0473cf2-6b9f-40e7-98be-e0cb9d304d8b\" xlink:actuate=\"onRequest\" xlink:href=\"psysml:f0473cf2-6b9f-40e7-98be-e0cb9d304d8b\" xlink:show=\"new\" xlink:title=\"psysml:f0473cf2-6b9f-40e7-98be-e0cb9d304d8b\" xlink:type=\"simple\"><path d=\"M261.024,178.1434 C261.0103,178.3545 260.9968,178.5643 260.9833,178.7729 C260.9564,179.1899 260.9298,179.6018 260.9036,180.0081 C260.7986,181.633 260.6995,183.1677 260.6081,184.5831 C260.2425,190.245 260,194 260,194 C260,194 254.8,243.38 251.25,277.14 \" fill=\"none\" id=\"E9-&gt;E4\" style=\"stroke: #383838; stroke-width: 1.0; stroke-dasharray: 7.0,7.0;\"/><polygon fill=\"#383838\" points=\"250.69,282.42,255.6191,273.8933,251.2186,277.448,247.664,273.0475,250.69,282.42\" style=\"stroke: #383838; stroke-width: 1.0;\"/><text fill=\"#000000\" font-family=\"sans-serif\" font-size=\"13\" lengthAdjust=\"spacingAndGlyphs\" textLength=\"65\" x=\"259\" y=\"215.0669\">«import»*</text></a><!--MD5=[feeac5eb423634930294aa81f2d25a4c]\n",
       "link E10 to E3--><a href=\"psysml:6083fff7-7e2a-4a1f-b6e0-00602bace9f4\" target=\"_top\" title=\"psysml:6083fff7-7e2a-4a1f-b6e0-00602bace9f4\" xlink:actuate=\"onRequest\" xlink:href=\"psysml:6083fff7-7e2a-4a1f-b6e0-00602bace9f4\" xlink:show=\"new\" xlink:title=\"psysml:6083fff7-7e2a-4a1f-b6e0-00602bace9f4\" xlink:type=\"simple\"><path d=\"M330.12,154.15 C339.5,174.66 352,202 352,202 C352,202 352,219 352,219 C352,219 308,227 308,227 C308,227 305.24,370.14 303.82,443.59 \" fill=\"none\" id=\"E10-&gt;E3\" style=\"stroke: #383838; stroke-width: 1.0;\"/><polygon fill=\"#FFFFFF\" points=\"303.43,463.92,296.7977,444.7886,310.7951,445.0585,303.43,463.92\" style=\"stroke: #383838; stroke-width: 1.0;\"/><ellipse cx=\"298.9072\" cy=\"439.1282\" fill=\"#383838\" rx=\"2\" ry=\"2\" style=\"stroke: #383838; stroke-width: 1.0;\"/><ellipse cx=\"308.9053\" cy=\"439.321\" fill=\"#383838\" rx=\"2\" ry=\"2\" style=\"stroke: #383838; stroke-width: 1.0;\"/></a><!--MD5=[9d33605ff109a822f7128426da19370f]\n",
       "@startuml\r\n",
       "skinparam linetype polyline\r\n",
       "skinparam monochrome true\r\n",
       "skinparam classbackgroundcolor white\r\n",
       "skinparam shadowing false\r\n",
       "skinparam wrapWidth 300\r\n",
       "hide circle\r\n",
       "\r\n",
       "package \"PrivateImportTest\" as E1  [[psysml:56a08668-af7c-402b-8ea6-0ffeccd2e906 ]]  {\r\n",
       "package \"P1\" as E2  [[psysml:989134c5-5272-479d-a43e-5e5573119e0c ]]  {\r\n",
       "comp def \"A\" as E3  <<(T,blue) part  def>> [[psysml:1f011377-ef65-4253-92ff-be4f522feeb1 ]] {\r\n",
       "}\r\n",
       "}\r\n",
       "package \"P2\" as E4  [[psysml:7d907640-2982-4506-b0ab-4e4fe8a9afec ]]  {\r\n",
       "}\r\n",
       "comp usage \"x: A \" as E5  <<(T,blue) part>> [[psysml:4755439e-6dab-436e-bf4a-d220bd8663ba ]] {\r\n",
       "}\r\n",
       "package \"P3\" as E6  [[psysml:90563c83-8b6e-4371-ac3b-36c1983fe7e9 ]]  {\r\n",
       "comp def \"B\" as E7  <<(T,blue) part  def>> [[psysml:bdb8801b-74e6-41c7-b5f1-114cae898237 ]] {\r\n",
       "}\r\n",
       "}\r\n",
       "comp usage \"z: B \" as E8  <<(T,blue) part>> [[psysml:dfc306bc-28cd-4074-8d12-696a322e5955 ]] {\r\n",
       "}\r\n",
       "package \"P4\" as E9  [[psysml:2733cc0d-ab4e-4acc-aaf2-0d4d1c16697a ]]  {\r\n",
       "comp usage \"z1: A \" as E10  <<(T,blue) part>> [[psysml:aa943bbf-59d6-4c08-9403-21388691ca57 ]] {\r\n",
       "}\r\n",
       "}\r\n",
       "}\r\n",
       "E4 ..> E2 [[psysml:113e6c15-2e9f-43c2-9a8b-f1023998ecb3 ]] : <<import>>*\r\n",
       "E5 - -:|> E3 [[psysml:2e030f48-ed8d-4fbc-a256-8117ac7131ec ]] \r\n",
       "E1 ..> E4 [[psysml:a039409c-dc44-4261-a761-133767375f35 ]] : <<import>>*\r\n",
       "E1 ..> E6 [[psysml:8872cc02-851e-450c-b3e8-f90f2e3db770 ]] : <<import>>*\r\n",
       "E8 - -:|> E7 [[psysml:0934d2d2-1a49-4ac4-b6c0-cd8fa5ea19dd ]] \r\n",
       "E9 ..> E4 [[psysml:f0473cf2-6b9f-40e7-98be-e0cb9d304d8b ]] : <<import>>*\r\n",
       "E10 - -:|> E3 [[psysml:6083fff7-7e2a-4a1f-b6e0-00602bace9f4 ]] \r\n",
       "@enduml\r\n",
       "\n",
       "PlantUML version 1.2020.13(Sat Jun 13 12:26:38 UTC 2020)\n",
       "(EPL source distribution)\n",
       "Java Runtime: OpenJDK Runtime Environment\n",
       "JVM: OpenJDK 64-Bit Server VM\n",
       "Default Encoding: UTF-8\n",
       "Language: en\n",
       "Country: null\n",
       "--></g></svg>"
      ]
     },
     "execution_count": 9,
     "metadata": {},
     "output_type": "execute_result"
    }
   ],
   "source": [
    "%viz --style=\"POLYLINE\" --view=\"Default\" \"PrivateImportTest\""
   ]
  },
  {
   "cell_type": "code",
   "execution_count": 10,
   "id": "81e82aea",
   "metadata": {
    "execution": {
     "iopub.execute_input": "2022-02-18T10:48:45.538119Z",
     "iopub.status.busy": "2022-02-18T10:48:45.537652Z",
     "iopub.status.idle": "2022-02-18T10:48:45.582097Z",
     "shell.execute_reply": "2022-02-18T10:48:45.582559Z"
    }
   },
   "outputs": [
    {
     "data": {
      "image/svg+xml": [
       "<?xml version=\"1.0\" encoding=\"UTF-8\" standalone=\"no\"?><svg xmlns=\"http://www.w3.org/2000/svg\" xmlns:xlink=\"http://www.w3.org/1999/xlink\" contentScriptType=\"application/ecmascript\" contentStyleType=\"text/css\" height=\"586px\" preserveAspectRatio=\"none\" style=\"width:427px;height:586px;\" version=\"1.1\" viewBox=\"0 0 427 586\" width=\"427px\" zoomAndPan=\"magnify\"><defs/><g><!--MD5=[fbc87193dbaf4d95561dea2c320d4a47]\n",
       "cluster E1--><a href=\"psysml:56a08668-af7c-402b-8ea6-0ffeccd2e906\" target=\"_top\" title=\"psysml:56a08668-af7c-402b-8ea6-0ffeccd2e906\" xlink:actuate=\"onRequest\" xlink:href=\"psysml:56a08668-af7c-402b-8ea6-0ffeccd2e906\" xlink:show=\"new\" xlink:title=\"psysml:56a08668-af7c-402b-8ea6-0ffeccd2e906\" xlink:type=\"simple\"><polygon fill=\"#FFFFFF\" points=\"20,6,147,6,154,28.2969,405,28.2969,405,574,20,574,20,6\" style=\"stroke: #000000; stroke-width: 1.5;\"/><line style=\"stroke: #000000; stroke-width: 1.5;\" x1=\"20\" x2=\"154\" y1=\"28.2969\" y2=\"28.2969\"/><text fill=\"#000000\" font-family=\"sans-serif\" font-size=\"14\" font-weight=\"bold\" lengthAdjust=\"spacingAndGlyphs\" textLength=\"121\" x=\"24\" y=\"20.9951\">PrivateImportTest</text></a><!--MD5=[e4f7fae6ed58524ba242bb0b0d3be6b7]\n",
       "cluster E2--><a href=\"psysml:989134c5-5272-479d-a43e-5e5573119e0c\" target=\"_top\" title=\"psysml:989134c5-5272-479d-a43e-5e5573119e0c\" xlink:actuate=\"onRequest\" xlink:href=\"psysml:989134c5-5272-479d-a43e-5e5573119e0c\" xlink:show=\"new\" xlink:title=\"psysml:989134c5-5272-479d-a43e-5e5573119e0c\" xlink:type=\"simple\"><polygon fill=\"#FFFFFF\" points=\"225,421,249,421,256,443.2969,362,443.2969,362,534,225,534,225,421\" style=\"stroke: #000000; stroke-width: 1.5;\"/><line style=\"stroke: #000000; stroke-width: 1.5;\" x1=\"225\" x2=\"256\" y1=\"443.2969\" y2=\"443.2969\"/><text fill=\"#000000\" font-family=\"sans-serif\" font-size=\"14\" font-weight=\"bold\" lengthAdjust=\"spacingAndGlyphs\" textLength=\"18\" x=\"229\" y=\"435.9951\">P1</text></a><!--MD5=[14e3b0961a2654348d326746436168a1]\n",
       "cluster E6--><a href=\"psysml:90563c83-8b6e-4371-ac3b-36c1983fe7e9\" target=\"_top\" title=\"psysml:90563c83-8b6e-4371-ac3b-36c1983fe7e9\" xlink:actuate=\"onRequest\" xlink:href=\"psysml:90563c83-8b6e-4371-ac3b-36c1983fe7e9\" xlink:show=\"new\" xlink:title=\"psysml:90563c83-8b6e-4371-ac3b-36c1983fe7e9\" xlink:type=\"simple\"><polygon fill=\"#FFFFFF\" points=\"68,243,92,243,99,265.2969,205,265.2969,205,356,68,356,68,243\" style=\"stroke: #000000; stroke-width: 1.5;\"/><line style=\"stroke: #000000; stroke-width: 1.5;\" x1=\"68\" x2=\"99\" y1=\"265.2969\" y2=\"265.2969\"/><text fill=\"#000000\" font-family=\"sans-serif\" font-size=\"14\" font-weight=\"bold\" lengthAdjust=\"spacingAndGlyphs\" textLength=\"18\" x=\"72\" y=\"257.9951\">P3</text></a><!--MD5=[7f149f147074ac12df2cb0a7728a5fb0]\n",
       "cluster E9--><a href=\"psysml:2733cc0d-ab4e-4acc-aaf2-0d4d1c16697a\" target=\"_top\" title=\"psysml:2733cc0d-ab4e-4acc-aaf2-0d4d1c16697a\" xlink:actuate=\"onRequest\" xlink:href=\"psysml:2733cc0d-ab4e-4acc-aaf2-0d4d1c16697a\" xlink:show=\"new\" xlink:title=\"psysml:2733cc0d-ab4e-4acc-aaf2-0d4d1c16697a\" xlink:type=\"simple\"><polygon fill=\"#FFFFFF\" points=\"256,65,280,65,287,87.2969,365,87.2969,365,178,256,178,256,65\" style=\"stroke: #000000; stroke-width: 1.5;\"/><line style=\"stroke: #000000; stroke-width: 1.5;\" x1=\"256\" x2=\"287\" y1=\"87.2969\" y2=\"87.2969\"/><text fill=\"#000000\" font-family=\"sans-serif\" font-size=\"14\" font-weight=\"bold\" lengthAdjust=\"spacingAndGlyphs\" textLength=\"18\" x=\"260\" y=\"79.9951\">P4</text></a><!--MD5=[270fce915f116d4de14055a7c1d9a0f3]\n",
       "class E5--><a href=\"psysml:4755439e-6dab-436e-bf4a-d220bd8663ba\" target=\"_top\" title=\"psysml:4755439e-6dab-436e-bf4a-d220bd8663ba\" xlink:actuate=\"onRequest\" xlink:href=\"psysml:4755439e-6dab-436e-bf4a-d220bd8663ba\" xlink:show=\"new\" xlink:title=\"psysml:4755439e-6dab-436e-bf4a-d220bd8663ba\" xlink:type=\"simple\"><rect fill=\"#FFFFFF\" height=\"45.9375\" id=\"E5\" rx=\"10\" ry=\"10\" style=\"stroke: #383838; stroke-width: 1.5;\" width=\"42\" x=\"339\" y=\"286\"/><text fill=\"#000000\" font-family=\"sans-serif\" font-size=\"12\" font-style=\"italic\" lengthAdjust=\"spacingAndGlyphs\" textLength=\"40\" x=\"340\" y=\"302.1387\">«part»</text><text fill=\"#000000\" font-family=\"sans-serif\" font-size=\"12\" lengthAdjust=\"spacingAndGlyphs\" textLength=\"22\" x=\"347\" y=\"316.1074\">x: A</text><line style=\"stroke: #383838; stroke-width: 1.5;\" x1=\"340\" x2=\"380\" y1=\"323.9375\" y2=\"323.9375\"/></a><!--MD5=[b9389687b975829384b498ac4b7476b2]\n",
       "class E8--><a href=\"psysml:dfc306bc-28cd-4074-8d12-696a322e5955\" target=\"_top\" title=\"psysml:dfc306bc-28cd-4074-8d12-696a322e5955\" xlink:actuate=\"onRequest\" xlink:href=\"psysml:dfc306bc-28cd-4074-8d12-696a322e5955\" xlink:show=\"new\" xlink:title=\"psysml:dfc306bc-28cd-4074-8d12-696a322e5955\" xlink:type=\"simple\"><rect fill=\"#FFFFFF\" height=\"45.9375\" id=\"E8\" rx=\"10\" ry=\"10\" style=\"stroke: #383838; stroke-width: 1.5;\" width=\"42\" x=\"187\" y=\"108\"/><text fill=\"#000000\" font-family=\"sans-serif\" font-size=\"12\" font-style=\"italic\" lengthAdjust=\"spacingAndGlyphs\" textLength=\"40\" x=\"188\" y=\"124.1387\">«part»</text><text fill=\"#000000\" font-family=\"sans-serif\" font-size=\"12\" lengthAdjust=\"spacingAndGlyphs\" textLength=\"21\" x=\"195.5\" y=\"138.1074\">z: B</text><line style=\"stroke: #383838; stroke-width: 1.5;\" x1=\"188\" x2=\"228\" y1=\"145.9375\" y2=\"145.9375\"/></a><!--MD5=[09b614a08d8cba4a07c9adeb5e0fee81]\n",
       "class E3--><a href=\"psysml:1f011377-ef65-4253-92ff-be4f522feeb1\" target=\"_top\" title=\"psysml:1f011377-ef65-4253-92ff-be4f522feeb1\" xlink:actuate=\"onRequest\" xlink:href=\"psysml:1f011377-ef65-4253-92ff-be4f522feeb1\" xlink:show=\"new\" xlink:title=\"psysml:1f011377-ef65-4253-92ff-be4f522feeb1\" xlink:type=\"simple\"><rect fill=\"#FFFFFF\" height=\"45.9375\" id=\"E3\" style=\"stroke: #383838; stroke-width: 1.5;\" width=\"70\" x=\"268\" y=\"464\"/><text fill=\"#000000\" font-family=\"sans-serif\" font-size=\"12\" font-style=\"italic\" lengthAdjust=\"spacingAndGlyphs\" textLength=\"68\" x=\"269\" y=\"480.1387\">«part  def»</text><text fill=\"#000000\" font-family=\"sans-serif\" font-size=\"12\" lengthAdjust=\"spacingAndGlyphs\" textLength=\"8\" x=\"299\" y=\"494.1074\">A</text><line style=\"stroke: #383838; stroke-width: 1.5;\" x1=\"269\" x2=\"337\" y1=\"501.9375\" y2=\"501.9375\"/></a><a href=\"psysml:7d907640-2982-4506-b0ab-4e4fe8a9afec\" target=\"_top\" title=\"psysml:7d907640-2982-4506-b0ab-4e4fe8a9afec\" xlink:actuate=\"onRequest\" xlink:href=\"psysml:7d907640-2982-4506-b0ab-4e4fe8a9afec\" xlink:show=\"new\" xlink:title=\"psysml:7d907640-2982-4506-b0ab-4e4fe8a9afec\" xlink:type=\"simple\"><polygon fill=\"#FFFFFF\" points=\"229,282.5,253,282.5,260,304.7969,267,304.7969,267,335.0938,229,335.0938,229,282.5\" style=\"stroke: #000000; stroke-width: 1.5;\"/><line style=\"stroke: #000000; stroke-width: 1.5;\" x1=\"229\" x2=\"260\" y1=\"304.7969\" y2=\"304.7969\"/><text fill=\"#000000\" font-family=\"sans-serif\" font-size=\"14\" font-weight=\"bold\" lengthAdjust=\"spacingAndGlyphs\" textLength=\"18\" x=\"233\" y=\"297.4951\">P2</text></a><!--MD5=[2156ba9850f5573cc1fc38a6a4b2f02b]\n",
       "class E7--><a href=\"psysml:bdb8801b-74e6-41c7-b5f1-114cae898237\" target=\"_top\" title=\"psysml:bdb8801b-74e6-41c7-b5f1-114cae898237\" xlink:actuate=\"onRequest\" xlink:href=\"psysml:bdb8801b-74e6-41c7-b5f1-114cae898237\" xlink:show=\"new\" xlink:title=\"psysml:bdb8801b-74e6-41c7-b5f1-114cae898237\" xlink:type=\"simple\"><rect fill=\"#FFFFFF\" height=\"45.9375\" id=\"E7\" style=\"stroke: #383838; stroke-width: 1.5;\" width=\"70\" x=\"111\" y=\"286\"/><text fill=\"#000000\" font-family=\"sans-serif\" font-size=\"12\" font-style=\"italic\" lengthAdjust=\"spacingAndGlyphs\" textLength=\"68\" x=\"112\" y=\"302.1387\">«part  def»</text><text fill=\"#000000\" font-family=\"sans-serif\" font-size=\"12\" lengthAdjust=\"spacingAndGlyphs\" textLength=\"8\" x=\"142\" y=\"316.1074\">B</text><line style=\"stroke: #383838; stroke-width: 1.5;\" x1=\"112\" x2=\"180\" y1=\"323.9375\" y2=\"323.9375\"/></a><!--MD5=[96f4274e9e20536e775497830990834d]\n",
       "class E10--><a href=\"psysml:aa943bbf-59d6-4c08-9403-21388691ca57\" target=\"_top\" title=\"psysml:aa943bbf-59d6-4c08-9403-21388691ca57\" xlink:actuate=\"onRequest\" xlink:href=\"psysml:aa943bbf-59d6-4c08-9403-21388691ca57\" xlink:show=\"new\" xlink:title=\"psysml:aa943bbf-59d6-4c08-9403-21388691ca57\" xlink:type=\"simple\"><rect fill=\"#FFFFFF\" height=\"45.9375\" id=\"E10\" rx=\"10\" ry=\"10\" style=\"stroke: #383838; stroke-width: 1.5;\" width=\"42\" x=\"299\" y=\"108\"/><text fill=\"#000000\" font-family=\"sans-serif\" font-size=\"12\" font-style=\"italic\" lengthAdjust=\"spacingAndGlyphs\" textLength=\"40\" x=\"300\" y=\"124.1387\">«part»</text><text fill=\"#000000\" font-family=\"sans-serif\" font-size=\"12\" lengthAdjust=\"spacingAndGlyphs\" textLength=\"29\" x=\"303.5\" y=\"138.1074\">z1: A</text><line style=\"stroke: #383838; stroke-width: 1.5;\" x1=\"300\" x2=\"340\" y1=\"145.9375\" y2=\"145.9375\"/></a><!--MD5=[185131fc0dcab0a4505a2ebe144e961b]\n",
       "link E4 to E2--><a href=\"psysml:113e6c15-2e9f-43c2-9a8b-f1023998ecb3\" target=\"_top\" title=\"psysml:113e6c15-2e9f-43c2-9a8b-f1023998ecb3\" xlink:actuate=\"onRequest\" xlink:href=\"psysml:113e6c15-2e9f-43c2-9a8b-f1023998ecb3\" xlink:show=\"new\" xlink:title=\"psysml:113e6c15-2e9f-43c2-9a8b-f1023998ecb3\" xlink:type=\"simple\"><path d=\"M240.3,335.67 C234.31,355.65 227,380 227,380 C227,380 227,397 227,397 C227,397 227.3631,402.39 227.9108,410.5172 C228.0477,412.549 228.1961,414.7519 228.3533,417.0844 C228.4319,418.2506 228.5127,419.4493 228.5953,420.6751 \" fill=\"none\" id=\"E4-&gt;E2\" style=\"stroke: #383838; stroke-width: 1.0; stroke-dasharray: 7.0,7.0;\"/><polygon fill=\"#383838\" points=\"228.5953,420.6751,231.9811,411.4265,228.2591,415.6864,223.9992,411.9645,228.5953,420.6751\" style=\"stroke: #383838; stroke-width: 1.0;\"/><text fill=\"#000000\" font-family=\"sans-serif\" font-size=\"13\" lengthAdjust=\"spacingAndGlyphs\" textLength=\"65\" x=\"228\" y=\"393.0669\">«import»*</text></a><!--MD5=[e9be52314489bd878ff4c7144b63c9e1]\n",
       "link E5 to E3--><a href=\"psysml:2e030f48-ed8d-4fbc-a256-8117ac7131ec\" target=\"_top\" title=\"psysml:2e030f48-ed8d-4fbc-a256-8117ac7131ec\" xlink:actuate=\"onRequest\" xlink:href=\"psysml:2e030f48-ed8d-4fbc-a256-8117ac7131ec\" xlink:show=\"new\" xlink:title=\"psysml:2e030f48-ed8d-4fbc-a256-8117ac7131ec\" xlink:type=\"simple\"><path d=\"M352.78,332.29 C343.66,360.46 327.78,409.49 316.4,444.61 \" fill=\"none\" id=\"E5-&gt;E3\" style=\"stroke: #383838; stroke-width: 1.0;\"/><polygon fill=\"#FFFFFF\" points=\"310.16,463.89,309.3493,443.6578,322.6693,447.9678,310.16,463.89\" style=\"stroke: #383838; stroke-width: 1.0;\"/><ellipse cx=\"313.0069\" cy=\"438.8503\" fill=\"#383838\" rx=\"2\" ry=\"2\" style=\"stroke: #383838; stroke-width: 1.0;\"/><ellipse cx=\"322.5213\" cy=\"441.9289\" fill=\"#383838\" rx=\"2\" ry=\"2\" style=\"stroke: #383838; stroke-width: 1.0;\"/></a><!--MD5=[ee384bb554873b72f85793eae40e290c]\n",
       "link E1 to E4--><a href=\"psysml:a039409c-dc44-4261-a761-133767375f35\" target=\"_top\" title=\"psysml:a039409c-dc44-4261-a761-133767375f35\" xlink:actuate=\"onRequest\" xlink:href=\"psysml:a039409c-dc44-4261-a761-133767375f35\" xlink:show=\"new\" xlink:title=\"psysml:a039409c-dc44-4261-a761-133767375f35\" xlink:type=\"simple\"><path d=\"M28.01,132.04 C28.25,133.92 36,194 36,194 C36,194 81,202 81,202 C81,202 197,227 197,227 C197,227 214.66,255.04 229.19,278.13 \" fill=\"none\" id=\"E1-&gt;E4\" style=\"stroke: #383838; stroke-width: 1.0; stroke-dasharray: 7.0,7.0;\"/><polygon fill=\"#383838\" points=\"231.86,282.37,230.4584,272.6214,229.1997,278.1364,223.6847,276.8778,231.86,282.37\" style=\"stroke: #383838; stroke-width: 1.0;\"/><text fill=\"#000000\" font-family=\"sans-serif\" font-size=\"13\" lengthAdjust=\"spacingAndGlyphs\" textLength=\"65\" x=\"160\" y=\"215.0669\">«import»*</text></a><!--MD5=[ccbd3af71bf83df0ec2a2db62d6d7130]\n",
       "link E1 to E6--><a href=\"psysml:8872cc02-851e-450c-b3e8-f90f2e3db770\" target=\"_top\" title=\"psysml:8872cc02-851e-450c-b3e8-f90f2e3db770\" xlink:actuate=\"onRequest\" xlink:href=\"psysml:8872cc02-851e-450c-b3e8-f90f2e3db770\" xlink:show=\"new\" xlink:title=\"psysml:8872cc02-851e-450c-b3e8-f90f2e3db770\" xlink:type=\"simple\"><path d=\"M19.8842,157.8227 C19.8433,157.9531 19.8022,158.0837 19.7611,158.2144 C19.4325,159.2604 19.1003,160.3175 18.7658,161.3817 C18.0969,163.5102 17.4191,165.6672 16.7425,167.82 C11.33,185.0425 6,202 6,202 C6,202 6,219 6,219 C6,219 22.9575,240.56 40.18,262.4575 C48.7913,273.4063 57.4688,284.4394 64.1259,292.9041 C64.9581,293.9621 65.7587,294.9801 66.5236,295.9527 C66.9061,296.4391 67.2796,296.9141 67.6438,297.3771 C67.7348,297.4928 67.8253,297.6078 67.9151,297.7221 \" fill=\"none\" id=\"E1-&gt;E6\" style=\"stroke: #383838; stroke-width: 1.0; stroke-dasharray: 7.0,7.0;\"/><polygon fill=\"#383838\" points=\"67.9151,297.7221,65.4957,288.175,64.8242,293.7919,59.2073,293.1204,67.9151,297.7221\" style=\"stroke: #383838; stroke-width: 1.0;\"/><text fill=\"#000000\" font-family=\"sans-serif\" font-size=\"13\" lengthAdjust=\"spacingAndGlyphs\" textLength=\"65\" x=\"7\" y=\"215.0669\">«import»*</text></a><!--MD5=[bfa3c8b0d15052fdf50ae9310b491027]\n",
       "link E8 to E7--><a href=\"psysml:0934d2d2-1a49-4ac4-b6c0-cd8fa5ea19dd\" target=\"_top\" title=\"psysml:0934d2d2-1a49-4ac4-b6c0-cd8fa5ea19dd\" xlink:actuate=\"onRequest\" xlink:href=\"psysml:0934d2d2-1a49-4ac4-b6c0-cd8fa5ea19dd\" xlink:show=\"new\" xlink:title=\"psysml:0934d2d2-1a49-4ac4-b6c0-cd8fa5ea19dd\" xlink:type=\"simple\"><path d=\"M217.49,154.15 C226.28,174.66 238,202 238,202 C238,202 238,219 238,219 C238,219 185,227 185,227 C185,227 175.15,247.45 165.36,267.8 \" fill=\"none\" id=\"E8-&gt;E7\" style=\"stroke: #383838; stroke-width: 1.0;\"/><polygon fill=\"#FFFFFF\" points=\"156.66,285.87,158.5936,265.7141,171.2082,271.7863,156.66,285.87\" style=\"stroke: #383838; stroke-width: 1.0;\"/><ellipse cx=\"162.8679\" cy=\"261.4456\" fill=\"#383838\" rx=\"2\" ry=\"2\" style=\"stroke: #383838; stroke-width: 1.0;\"/><ellipse cx=\"171.8783\" cy=\"265.7829\" fill=\"#383838\" rx=\"2\" ry=\"2\" style=\"stroke: #383838; stroke-width: 1.0;\"/></a><!--MD5=[c2be97adba6ddfe1c8f349fab141c927]\n",
       "link E9 to E4--><a href=\"psysml:f0473cf2-6b9f-40e7-98be-e0cb9d304d8b\" target=\"_top\" title=\"psysml:f0473cf2-6b9f-40e7-98be-e0cb9d304d8b\" xlink:actuate=\"onRequest\" xlink:href=\"psysml:f0473cf2-6b9f-40e7-98be-e0cb9d304d8b\" xlink:show=\"new\" xlink:title=\"psysml:f0473cf2-6b9f-40e7-98be-e0cb9d304d8b\" xlink:type=\"simple\"><path d=\"M261.024,178.1434 C261.0103,178.3545 260.9968,178.5643 260.9833,178.7729 C260.9564,179.1899 260.9298,179.6018 260.9036,180.0081 C260.7986,181.633 260.6995,183.1677 260.6081,184.5831 C260.2425,190.245 260,194 260,194 C260,194 254.8,243.38 251.25,277.14 \" fill=\"none\" id=\"E9-&gt;E4\" style=\"stroke: #383838; stroke-width: 1.0; stroke-dasharray: 7.0,7.0;\"/><polygon fill=\"#383838\" points=\"250.69,282.42,255.6191,273.8933,251.2186,277.448,247.664,273.0475,250.69,282.42\" style=\"stroke: #383838; stroke-width: 1.0;\"/><text fill=\"#000000\" font-family=\"sans-serif\" font-size=\"13\" lengthAdjust=\"spacingAndGlyphs\" textLength=\"65\" x=\"259\" y=\"215.0669\">«import»*</text></a><!--MD5=[feeac5eb423634930294aa81f2d25a4c]\n",
       "link E10 to E3--><a href=\"psysml:6083fff7-7e2a-4a1f-b6e0-00602bace9f4\" target=\"_top\" title=\"psysml:6083fff7-7e2a-4a1f-b6e0-00602bace9f4\" xlink:actuate=\"onRequest\" xlink:href=\"psysml:6083fff7-7e2a-4a1f-b6e0-00602bace9f4\" xlink:show=\"new\" xlink:title=\"psysml:6083fff7-7e2a-4a1f-b6e0-00602bace9f4\" xlink:type=\"simple\"><path d=\"M330.12,154.15 C339.5,174.66 352,202 352,202 C352,202 352,219 352,219 C352,219 308,227 308,227 C308,227 305.24,370.14 303.82,443.59 \" fill=\"none\" id=\"E10-&gt;E3\" style=\"stroke: #383838; stroke-width: 1.0;\"/><polygon fill=\"#FFFFFF\" points=\"303.43,463.92,296.7977,444.7886,310.7951,445.0585,303.43,463.92\" style=\"stroke: #383838; stroke-width: 1.0;\"/><ellipse cx=\"298.9072\" cy=\"439.1282\" fill=\"#383838\" rx=\"2\" ry=\"2\" style=\"stroke: #383838; stroke-width: 1.0;\"/><ellipse cx=\"308.9053\" cy=\"439.321\" fill=\"#383838\" rx=\"2\" ry=\"2\" style=\"stroke: #383838; stroke-width: 1.0;\"/></a><!--MD5=[9d33605ff109a822f7128426da19370f]\n",
       "@startuml\r\n",
       "skinparam linetype polyline\r\n",
       "skinparam monochrome true\r\n",
       "skinparam classbackgroundcolor white\r\n",
       "skinparam shadowing false\r\n",
       "skinparam wrapWidth 300\r\n",
       "hide circle\r\n",
       "\r\n",
       "package \"PrivateImportTest\" as E1  [[psysml:56a08668-af7c-402b-8ea6-0ffeccd2e906 ]]  {\r\n",
       "package \"P1\" as E2  [[psysml:989134c5-5272-479d-a43e-5e5573119e0c ]]  {\r\n",
       "comp def \"A\" as E3  <<(T,blue) part  def>> [[psysml:1f011377-ef65-4253-92ff-be4f522feeb1 ]] {\r\n",
       "}\r\n",
       "}\r\n",
       "package \"P2\" as E4  [[psysml:7d907640-2982-4506-b0ab-4e4fe8a9afec ]]  {\r\n",
       "}\r\n",
       "comp usage \"x: A \" as E5  <<(T,blue) part>> [[psysml:4755439e-6dab-436e-bf4a-d220bd8663ba ]] {\r\n",
       "}\r\n",
       "package \"P3\" as E6  [[psysml:90563c83-8b6e-4371-ac3b-36c1983fe7e9 ]]  {\r\n",
       "comp def \"B\" as E7  <<(T,blue) part  def>> [[psysml:bdb8801b-74e6-41c7-b5f1-114cae898237 ]] {\r\n",
       "}\r\n",
       "}\r\n",
       "comp usage \"z: B \" as E8  <<(T,blue) part>> [[psysml:dfc306bc-28cd-4074-8d12-696a322e5955 ]] {\r\n",
       "}\r\n",
       "package \"P4\" as E9  [[psysml:2733cc0d-ab4e-4acc-aaf2-0d4d1c16697a ]]  {\r\n",
       "comp usage \"z1: A \" as E10  <<(T,blue) part>> [[psysml:aa943bbf-59d6-4c08-9403-21388691ca57 ]] {\r\n",
       "}\r\n",
       "}\r\n",
       "}\r\n",
       "E4 ..> E2 [[psysml:113e6c15-2e9f-43c2-9a8b-f1023998ecb3 ]] : <<import>>*\r\n",
       "E5 - -:|> E3 [[psysml:2e030f48-ed8d-4fbc-a256-8117ac7131ec ]] \r\n",
       "E1 ..> E4 [[psysml:a039409c-dc44-4261-a761-133767375f35 ]] : <<import>>*\r\n",
       "E1 ..> E6 [[psysml:8872cc02-851e-450c-b3e8-f90f2e3db770 ]] : <<import>>*\r\n",
       "E8 - -:|> E7 [[psysml:0934d2d2-1a49-4ac4-b6c0-cd8fa5ea19dd ]] \r\n",
       "E9 ..> E4 [[psysml:f0473cf2-6b9f-40e7-98be-e0cb9d304d8b ]] : <<import>>*\r\n",
       "E10 - -:|> E3 [[psysml:6083fff7-7e2a-4a1f-b6e0-00602bace9f4 ]] \r\n",
       "@enduml\r\n",
       "\n",
       "PlantUML version 1.2020.13(Sat Jun 13 12:26:38 UTC 2020)\n",
       "(EPL source distribution)\n",
       "Java Runtime: OpenJDK Runtime Environment\n",
       "JVM: OpenJDK 64-Bit Server VM\n",
       "Default Encoding: UTF-8\n",
       "Language: en\n",
       "Country: null\n",
       "--></g></svg>"
      ]
     },
     "execution_count": 10,
     "metadata": {},
     "output_type": "execute_result"
    }
   ],
   "source": [
    "%viz --style=\"POLYLINE\" --view=\"Tree\" \"PrivateImportTest\""
   ]
  },
  {
   "cell_type": "code",
   "execution_count": 11,
   "id": "3a84c0a6",
   "metadata": {
    "execution": {
     "iopub.execute_input": "2022-02-18T10:48:45.631040Z",
     "iopub.status.busy": "2022-02-18T10:48:45.630779Z",
     "iopub.status.idle": "2022-02-18T10:48:45.637261Z",
     "shell.execute_reply": "2022-02-18T10:48:45.637588Z"
    }
   },
   "outputs": [
    {
     "data": {
      "image/svg+xml": [
       "<?xml version=\"1.0\" encoding=\"UTF-8\" standalone=\"no\"?><svg xmlns=\"http://www.w3.org/2000/svg\" xmlns:xlink=\"http://www.w3.org/1999/xlink\" contentScriptType=\"application/ecmascript\" contentStyleType=\"text/css\" height=\"12px\" preserveAspectRatio=\"none\" style=\"width:12px;height:12px;\" version=\"1.1\" viewBox=\"0 0 12 12\" width=\"12px\" zoomAndPan=\"magnify\"><defs/><g><!--MD5=[896ac0e7a515d8dd7765a661cb4ee08b]\n",
       "@startuml\r\n",
       "skinparam linetype polyline\r\n",
       "skinparam monochrome true\r\n",
       "skinparam classbackgroundcolor white\r\n",
       "skinparam shadowing false\r\n",
       "skinparam wrapWidth 300\r\n",
       "hide circle\r\n",
       "\r\n",
       "@enduml\r\n",
       "\n",
       "PlantUML version 1.2020.13(Sat Jun 13 12:26:38 UTC 2020)\n",
       "(EPL source distribution)\n",
       "Java Runtime: OpenJDK Runtime Environment\n",
       "JVM: OpenJDK 64-Bit Server VM\n",
       "Default Encoding: UTF-8\n",
       "Language: en\n",
       "Country: null\n",
       "--></g></svg>"
      ]
     },
     "execution_count": 11,
     "metadata": {},
     "output_type": "execute_result"
    }
   ],
   "source": [
    "%viz --style=\"POLYLINE\" --view=\"State\" \"PrivateImportTest\""
   ]
  },
  {
   "cell_type": "code",
   "execution_count": 12,
   "id": "44584e08",
   "metadata": {
    "execution": {
     "iopub.execute_input": "2022-02-18T10:48:45.687779Z",
     "iopub.status.busy": "2022-02-18T10:48:45.687372Z",
     "iopub.status.idle": "2022-02-18T10:48:45.729752Z",
     "shell.execute_reply": "2022-02-18T10:48:45.729381Z"
    }
   },
   "outputs": [
    {
     "data": {
      "image/svg+xml": [
       "<?xml version=\"1.0\" encoding=\"UTF-8\" standalone=\"no\"?><svg xmlns=\"http://www.w3.org/2000/svg\" xmlns:xlink=\"http://www.w3.org/1999/xlink\" contentScriptType=\"application/ecmascript\" contentStyleType=\"text/css\" height=\"521px\" preserveAspectRatio=\"none\" style=\"width:684px;height:521px;\" version=\"1.1\" viewBox=\"0 0 684 521\" width=\"684px\" zoomAndPan=\"magnify\"><defs/><g><!--MD5=[fbc87193dbaf4d95561dea2c320d4a47]\n",
       "cluster E1--><a href=\"psysml:56a08668-af7c-402b-8ea6-0ffeccd2e906\" target=\"_top\" title=\"psysml:56a08668-af7c-402b-8ea6-0ffeccd2e906\" xlink:actuate=\"onRequest\" xlink:href=\"psysml:56a08668-af7c-402b-8ea6-0ffeccd2e906\" xlink:show=\"new\" xlink:title=\"psysml:56a08668-af7c-402b-8ea6-0ffeccd2e906\" xlink:type=\"simple\"><polygon fill=\"#FFFFFF\" points=\"16,6,143,6,150,28.2969,662,28.2969,662,509.72,16,509.72,16,6\" style=\"stroke: #000000; stroke-width: 1.5;\"/><line style=\"stroke: #000000; stroke-width: 1.5;\" x1=\"16\" x2=\"150\" y1=\"28.2969\" y2=\"28.2969\"/><text fill=\"#000000\" font-family=\"sans-serif\" font-size=\"14\" font-weight=\"bold\" lengthAdjust=\"spacingAndGlyphs\" textLength=\"121\" x=\"20\" y=\"20.9951\">PrivateImportTest</text></a><!--MD5=[e4f7fae6ed58524ba242bb0b0d3be6b7]\n",
       "cluster E2--><a href=\"psysml:989134c5-5272-479d-a43e-5e5573119e0c\" target=\"_top\" title=\"psysml:989134c5-5272-479d-a43e-5e5573119e0c\" xlink:actuate=\"onRequest\" xlink:href=\"psysml:989134c5-5272-479d-a43e-5e5573119e0c\" xlink:show=\"new\" xlink:title=\"psysml:989134c5-5272-479d-a43e-5e5573119e0c\" xlink:type=\"simple\"><polygon fill=\"#FFFFFF\" points=\"221,359.72,245,359.72,252,382.0169,363,382.0169,363,469.72,221,469.72,221,359.72\" style=\"stroke: #000000; stroke-width: 1.5;\"/><line style=\"stroke: #000000; stroke-width: 1.5;\" x1=\"221\" x2=\"252\" y1=\"382.0169\" y2=\"382.0169\"/><text fill=\"#000000\" font-family=\"sans-serif\" font-size=\"14\" font-weight=\"bold\" lengthAdjust=\"spacingAndGlyphs\" textLength=\"18\" x=\"225\" y=\"374.7151\">P1</text></a><!--MD5=[14e3b0961a2654348d326746436168a1]\n",
       "cluster E6--><a href=\"psysml:90563c83-8b6e-4371-ac3b-36c1983fe7e9\" target=\"_top\" title=\"psysml:90563c83-8b6e-4371-ac3b-36c1983fe7e9\" xlink:actuate=\"onRequest\" xlink:href=\"psysml:90563c83-8b6e-4371-ac3b-36c1983fe7e9\" xlink:show=\"new\" xlink:title=\"psysml:90563c83-8b6e-4371-ac3b-36c1983fe7e9\" xlink:type=\"simple\"><polygon fill=\"#FFFFFF\" points=\"480,98.72,504,98.72,511,121.0169,622,121.0169,622,208.72,480,208.72,480,98.72\" style=\"stroke: #000000; stroke-width: 1.5;\"/><line style=\"stroke: #000000; stroke-width: 1.5;\" x1=\"480\" x2=\"511\" y1=\"121.0169\" y2=\"121.0169\"/><text fill=\"#000000\" font-family=\"sans-serif\" font-size=\"14\" font-weight=\"bold\" lengthAdjust=\"spacingAndGlyphs\" textLength=\"18\" x=\"484\" y=\"113.7151\">P3</text></a><!--MD5=[7f149f147074ac12df2cb0a7728a5fb0]\n",
       "cluster E9--><a href=\"psysml:2733cc0d-ab4e-4acc-aaf2-0d4d1c16697a\" target=\"_top\" title=\"psysml:2733cc0d-ab4e-4acc-aaf2-0d4d1c16697a\" xlink:actuate=\"onRequest\" xlink:href=\"psysml:2733cc0d-ab4e-4acc-aaf2-0d4d1c16697a\" xlink:show=\"new\" xlink:title=\"psysml:2733cc0d-ab4e-4acc-aaf2-0d4d1c16697a\" xlink:type=\"simple\"><polygon fill=\"#FFFFFF\" points=\"323,100.22,347,100.22,354,122.5169,440,122.5169,440,207.22,323,207.22,323,100.22\" style=\"stroke: #000000; stroke-width: 1.5;\"/><line style=\"stroke: #000000; stroke-width: 1.5;\" x1=\"323\" x2=\"354\" y1=\"122.5169\" y2=\"122.5169\"/><text fill=\"#000000\" font-family=\"sans-serif\" font-size=\"14\" font-weight=\"bold\" lengthAdjust=\"spacingAndGlyphs\" textLength=\"18\" x=\"327\" y=\"115.2151\">P4</text></a><g id=\"E1.E2.E3\"><a href=\"psysml:1f011377-ef65-4253-92ff-be4f522feeb1\" target=\"_top\" title=\"psysml:1f011377-ef65-4253-92ff-be4f522feeb1\" xlink:actuate=\"onRequest\" xlink:href=\"psysml:1f011377-ef65-4253-92ff-be4f522feeb1\" xlink:show=\"new\" xlink:title=\"psysml:1f011377-ef65-4253-92ff-be4f522feeb1\" xlink:type=\"simple\"><rect fill=\"#FFFFFF\" height=\"42.9375\" id=\"E3\" style=\"stroke: #383838; stroke-width: 1.5;\" width=\"75\" x=\"264.5\" y=\"402.72\"/><rect fill=\"#F8F8F8\" height=\"37.9375\" style=\"stroke: #383838; stroke-width: 1.5;\" width=\"75\" x=\"264.5\" y=\"402.72\"/><text fill=\"#000000\" font-family=\"sans-serif\" font-size=\"12\" font-style=\"italic\" lengthAdjust=\"spacingAndGlyphs\" textLength=\"68\" x=\"268\" y=\"418.8587\">«part  def»</text><text fill=\"#000000\" font-family=\"sans-serif\" font-size=\"12\" lengthAdjust=\"spacingAndGlyphs\" textLength=\"8\" x=\"298\" y=\"432.8274\">A</text></a></g><a href=\"psysml:7d907640-2982-4506-b0ab-4e4fe8a9afec\" target=\"_top\" title=\"psysml:7d907640-2982-4506-b0ab-4e4fe8a9afec\" xlink:actuate=\"onRequest\" xlink:href=\"psysml:7d907640-2982-4506-b0ab-4e4fe8a9afec\" xlink:show=\"new\" xlink:title=\"psysml:7d907640-2982-4506-b0ab-4e4fe8a9afec\" xlink:type=\"simple\"><polygon fill=\"#FFFFFF\" points=\"210,257.72,234,257.72,241,280.0169,248,280.0169,248,310.3138,210,310.3138,210,257.72\" style=\"stroke: #000000; stroke-width: 1.5;\"/><line style=\"stroke: #000000; stroke-width: 1.5;\" x1=\"210\" x2=\"241\" y1=\"280.0169\" y2=\"280.0169\"/><text fill=\"#000000\" font-family=\"sans-serif\" font-size=\"14\" font-weight=\"bold\" lengthAdjust=\"spacingAndGlyphs\" textLength=\"18\" x=\"214\" y=\"272.7151\">P2</text></a><g id=\"E1.E5\"><a href=\"psysml:4755439e-6dab-436e-bf4a-d220bd8663ba\" target=\"_top\" title=\"psysml:4755439e-6dab-436e-bf4a-d220bd8663ba\" xlink:actuate=\"onRequest\" xlink:href=\"psysml:4755439e-6dab-436e-bf4a-d220bd8663ba\" xlink:show=\"new\" xlink:title=\"psysml:4755439e-6dab-436e-bf4a-d220bd8663ba\" xlink:type=\"simple\"><rect fill=\"#FFFFFF\" height=\"40\" id=\"E5\" rx=\"10\" ry=\"10\" style=\"stroke: #383838; stroke-width: 1.5;\" width=\"50\" x=\"246\" y=\"143.22\"/><rect fill=\"#F8F8F8\" height=\"23.9688\" rx=\"10\" ry=\"10\" style=\"stroke: #F8F8F8; stroke-width: 1.5;\" width=\"50\" x=\"246\" y=\"143.22\"/><rect fill=\"#F8F8F8\" height=\"10\" style=\"stroke: #F8F8F8; stroke-width: 1.5;\" width=\"50\" x=\"246\" y=\"157.1888\"/><rect fill=\"none\" height=\"40\" id=\"E5\" rx=\"10\" ry=\"10\" style=\"stroke: #383838; stroke-width: 1.5;\" width=\"50\" x=\"246\" y=\"143.22\"/><text fill=\"#000000\" font-family=\"sans-serif\" font-size=\"12\" lengthAdjust=\"spacingAndGlyphs\" textLength=\"22\" x=\"260\" y=\"159.3587\">x: A</text></a></g><g id=\"E1.E6.E7\"><a href=\"psysml:bdb8801b-74e6-41c7-b5f1-114cae898237\" target=\"_top\" title=\"psysml:bdb8801b-74e6-41c7-b5f1-114cae898237\" xlink:actuate=\"onRequest\" xlink:href=\"psysml:bdb8801b-74e6-41c7-b5f1-114cae898237\" xlink:show=\"new\" xlink:title=\"psysml:bdb8801b-74e6-41c7-b5f1-114cae898237\" xlink:type=\"simple\"><rect fill=\"#FFFFFF\" height=\"42.9375\" id=\"E7\" style=\"stroke: #383838; stroke-width: 1.5;\" width=\"75\" x=\"523.5\" y=\"141.72\"/><rect fill=\"#F8F8F8\" height=\"37.9375\" style=\"stroke: #383838; stroke-width: 1.5;\" width=\"75\" x=\"523.5\" y=\"141.72\"/><text fill=\"#000000\" font-family=\"sans-serif\" font-size=\"12\" font-style=\"italic\" lengthAdjust=\"spacingAndGlyphs\" textLength=\"68\" x=\"527\" y=\"157.8587\">«part  def»</text><text fill=\"#000000\" font-family=\"sans-serif\" font-size=\"12\" lengthAdjust=\"spacingAndGlyphs\" textLength=\"8\" x=\"557\" y=\"171.8274\">B</text></a></g><g id=\"E1.E8\"><a href=\"psysml:dfc306bc-28cd-4074-8d12-696a322e5955\" target=\"_top\" title=\"psysml:dfc306bc-28cd-4074-8d12-696a322e5955\" xlink:actuate=\"onRequest\" xlink:href=\"psysml:dfc306bc-28cd-4074-8d12-696a322e5955\" xlink:show=\"new\" xlink:title=\"psysml:dfc306bc-28cd-4074-8d12-696a322e5955\" xlink:type=\"simple\"><rect fill=\"#FFFFFF\" height=\"40\" id=\"E8\" rx=\"10\" ry=\"10\" style=\"stroke: #383838; stroke-width: 1.5;\" width=\"50\" x=\"161\" y=\"143.22\"/><rect fill=\"#F8F8F8\" height=\"23.9688\" rx=\"10\" ry=\"10\" style=\"stroke: #F8F8F8; stroke-width: 1.5;\" width=\"50\" x=\"161\" y=\"143.22\"/><rect fill=\"#F8F8F8\" height=\"10\" style=\"stroke: #F8F8F8; stroke-width: 1.5;\" width=\"50\" x=\"161\" y=\"157.1888\"/><rect fill=\"none\" height=\"40\" id=\"E8\" rx=\"10\" ry=\"10\" style=\"stroke: #383838; stroke-width: 1.5;\" width=\"50\" x=\"161\" y=\"143.22\"/><text fill=\"#000000\" font-family=\"sans-serif\" font-size=\"12\" lengthAdjust=\"spacingAndGlyphs\" textLength=\"21\" x=\"175.5\" y=\"159.3587\">z: B</text></a></g><g id=\"E1.E9.E10\"><a href=\"psysml:aa943bbf-59d6-4c08-9403-21388691ca57\" target=\"_top\" title=\"psysml:aa943bbf-59d6-4c08-9403-21388691ca57\" xlink:actuate=\"onRequest\" xlink:href=\"psysml:aa943bbf-59d6-4c08-9403-21388691ca57\" xlink:show=\"new\" xlink:title=\"psysml:aa943bbf-59d6-4c08-9403-21388691ca57\" xlink:type=\"simple\"><rect fill=\"#FFFFFF\" height=\"40\" id=\"E10\" rx=\"10\" ry=\"10\" style=\"stroke: #383838; stroke-width: 1.5;\" width=\"50\" x=\"366\" y=\"143.22\"/><rect fill=\"#F8F8F8\" height=\"23.9688\" rx=\"10\" ry=\"10\" style=\"stroke: #F8F8F8; stroke-width: 1.5;\" width=\"50\" x=\"366\" y=\"143.22\"/><rect fill=\"#F8F8F8\" height=\"10\" style=\"stroke: #F8F8F8; stroke-width: 1.5;\" width=\"50\" x=\"366\" y=\"157.1888\"/><rect fill=\"none\" height=\"40\" id=\"E10\" rx=\"10\" ry=\"10\" style=\"stroke: #383838; stroke-width: 1.5;\" width=\"50\" x=\"366\" y=\"143.22\"/><text fill=\"#000000\" font-family=\"sans-serif\" font-size=\"12\" lengthAdjust=\"spacingAndGlyphs\" textLength=\"29\" x=\"376.5\" y=\"159.3587\">z1: A</text></a></g><!--MD5=[185131fc0dcab0a4505a2ebe144e961b]\n",
       "link E4 to E2--><a href=\"psysml:113e6c15-2e9f-43c2-9a8b-f1023998ecb3\" target=\"_top\" title=\"psysml:113e6c15-2e9f-43c2-9a8b-f1023998ecb3\" xlink:actuate=\"onRequest\" xlink:href=\"psysml:113e6c15-2e9f-43c2-9a8b-f1023998ecb3\" xlink:show=\"new\" xlink:title=\"psysml:113e6c15-2e9f-43c2-9a8b-f1023998ecb3\" xlink:type=\"simple\"><path d=\"M229,310.85 C229,320.6725 229,332.4656 229,344.6647 C229,347.7145 229,350.7896 229,353.8656 C229,355.4037 229,356.9419 229,358.4774 C229,358.8612 229,359.2449 229,359.6284 \" fill=\"none\" id=\"E4-&gt;E2\" style=\"stroke: #383838; stroke-width: 1.0; stroke-dasharray: 7.0,7.0;\"/><polygon fill=\"#383838\" points=\"229,359.6284,233,350.6284,229,354.6284,225,350.6284,229,359.6284\" style=\"stroke: #383838; stroke-width: 1.0;\"/><text fill=\"#000000\" font-family=\"sans-serif\" font-size=\"13\" lengthAdjust=\"spacingAndGlyphs\" textLength=\"65\" x=\"230\" y=\"331.7869\">«import»*</text></a><!--MD5=[ee384bb554873b72f85793eae40e290c]\n",
       "link E1 to E4--><a href=\"psysml:a039409c-dc44-4261-a761-133767375f35\" target=\"_top\" title=\"psysml:a039409c-dc44-4261-a761-133767375f35\" xlink:actuate=\"onRequest\" xlink:href=\"psysml:a039409c-dc44-4261-a761-133767375f35\" xlink:show=\"new\" xlink:title=\"psysml:a039409c-dc44-4261-a761-133767375f35\" xlink:type=\"simple\"><path d=\"M175.93,33.74 C172.93,34.74 77,66.72 77,66.72 C77,66.72 77,224.72 77,224.72 C77,224.72 162.16,257.49 204.99,273.98 \" fill=\"none\" id=\"E1-&gt;E4\" style=\"stroke: #383838; stroke-width: 1.0; stroke-dasharray: 7.0,7.0;\"/><polygon fill=\"#383838\" points=\"209.75,275.81,202.7901,268.8415,205.0844,274.0122,199.9137,276.3065,209.75,275.81\" style=\"stroke: #383838; stroke-width: 1.0;\"/><text fill=\"#000000\" font-family=\"sans-serif\" font-size=\"13\" lengthAdjust=\"spacingAndGlyphs\" textLength=\"65\" x=\"78\" y=\"167.7869\">«import»*</text></a><!--MD5=[ccbd3af71bf83df0ec2a2db62d6d7130]\n",
       "link E1 to E6--><a href=\"psysml:8872cc02-851e-450c-b3e8-f90f2e3db770\" target=\"_top\" title=\"psysml:8872cc02-851e-450c-b3e8-f90f2e3db770\" xlink:actuate=\"onRequest\" xlink:href=\"psysml:8872cc02-851e-450c-b3e8-f90f2e3db770\" xlink:show=\"new\" xlink:title=\"psysml:8872cc02-851e-450c-b3e8-f90f2e3db770\" xlink:type=\"simple\"><path d=\"M176.05,33.73 C179.98,34.23 432,66.72 432,66.72 C432,66.72 445.565,89.855 459.3425,113.3513 C466.2313,125.0994 473.1731,136.9378 478.4991,146.0198 C478.8319,146.5875 479.1585,147.1443 479.4783,147.6897 C479.6383,147.9624 479.7965,148.2323 479.953,148.4991 \" fill=\"none\" id=\"E1-&gt;E6\" style=\"stroke: #383838; stroke-width: 1.0; stroke-dasharray: 7.0,7.0;\"/><polygon fill=\"#383838\" points=\"479.953,148.4991,478.8506,138.7122,477.4237,144.1861,471.9497,142.7591,479.953,148.4991\" style=\"stroke: #383838; stroke-width: 1.0;\"/><text fill=\"#000000\" font-family=\"sans-serif\" font-size=\"13\" lengthAdjust=\"spacingAndGlyphs\" textLength=\"65\" x=\"364\" y=\"54.7869\">«import»*</text></a><!--MD5=[c2be97adba6ddfe1c8f349fab141c927]\n",
       "link E9 to E4--><a href=\"psysml:f0473cf2-6b9f-40e7-98be-e0cb9d304d8b\" target=\"_top\" title=\"psysml:f0473cf2-6b9f-40e7-98be-e0cb9d304d8b\" xlink:actuate=\"onRequest\" xlink:href=\"psysml:f0473cf2-6b9f-40e7-98be-e0cb9d304d8b\" xlink:show=\"new\" xlink:title=\"psysml:f0473cf2-6b9f-40e7-98be-e0cb9d304d8b\" xlink:type=\"simple\"><path d=\"M328.1487,207.3637 C328.1206,207.7892 328.0927,208.2104 328.0651,208.6271 C328.01,209.4604 327.956,210.2752 327.9036,211.0679 C327.7986,212.6534 327.6995,214.1508 327.6081,215.5319 C327.2425,221.0563 327,224.72 327,224.72 C327,224.72 281.88,251.65 252.87,268.97 \" fill=\"none\" id=\"E9-&gt;E4\" style=\"stroke: #383838; stroke-width: 1.0; stroke-dasharray: 7.0,7.0;\"/><polygon fill=\"#383838\" points=\"248.36,271.66,258.1383,270.4835,252.6538,269.0981,254.0392,263.6135,248.36,271.66\" style=\"stroke: #383838; stroke-width: 1.0;\"/><text fill=\"#000000\" font-family=\"sans-serif\" font-size=\"13\" lengthAdjust=\"spacingAndGlyphs\" textLength=\"65\" x=\"313\" y=\"245.7869\">«import»*</text></a><!--MD5=[b0acfd2ebb8ea3e10839d52130968f37]\n",
       "@startuml\r\n",
       "skinparam ranksep 10\r\n",
       "skinparam rectangle {\r\n",
       " backgroundColor<<block>> LightGreen\r\n",
       "}\r\n",
       "skinparam linetype polyline\r\n",
       "skinparam monochrome true\r\n",
       "skinparam classbackgroundcolor white\r\n",
       "skinparam shadowing false\r\n",
       "skinparam wrapWidth 300\r\n",
       "hide circle\r\n",
       "\r\n",
       "package \"PrivateImportTest\" as E1  [[psysml:56a08668-af7c-402b-8ea6-0ffeccd2e906 ]]  {\r\n",
       "package \"P1\" as E2  [[psysml:989134c5-5272-479d-a43e-5e5573119e0c ]]  {\r\n",
       "rec def \"A\" as E3  <<(T,blue) part  def>> [[psysml:1f011377-ef65-4253-92ff-be4f522feeb1 ]] {\r\n",
       "}\r\n",
       "}\r\n",
       "package \"P2\" as E4  [[psysml:7d907640-2982-4506-b0ab-4e4fe8a9afec ]]  {\r\n",
       "}\r\n",
       "rec usage \"x: A\" as E5  [[psysml:4755439e-6dab-436e-bf4a-d220bd8663ba ]] {\r\n",
       "}\r\n",
       "package \"P3\" as E6  [[psysml:90563c83-8b6e-4371-ac3b-36c1983fe7e9 ]]  {\r\n",
       "rec def \"B\" as E7  <<(T,blue) part  def>> [[psysml:bdb8801b-74e6-41c7-b5f1-114cae898237 ]] {\r\n",
       "}\r\n",
       "}\r\n",
       "rec usage \"z: B\" as E8  [[psysml:dfc306bc-28cd-4074-8d12-696a322e5955 ]] {\r\n",
       "}\r\n",
       "package \"P4\" as E9  [[psysml:2733cc0d-ab4e-4acc-aaf2-0d4d1c16697a ]]  {\r\n",
       "rec usage \"z1: A\" as E10  [[psysml:aa943bbf-59d6-4c08-9403-21388691ca57 ]] {\r\n",
       "}\r\n",
       "}\r\n",
       "}\r\n",
       "E4 ..> E2 [[psysml:113e6c15-2e9f-43c2-9a8b-f1023998ecb3 ]] : <<import>>*\r\n",
       "E1 ..> E4 [[psysml:a039409c-dc44-4261-a761-133767375f35 ]] : <<import>>*\r\n",
       "E1 ..> E6 [[psysml:8872cc02-851e-450c-b3e8-f90f2e3db770 ]] : <<import>>*\r\n",
       "E9 ..> E4 [[psysml:f0473cf2-6b9f-40e7-98be-e0cb9d304d8b ]] : <<import>>*\r\n",
       "@enduml\r\n",
       "\n",
       "PlantUML version 1.2020.13(Sat Jun 13 12:26:38 UTC 2020)\n",
       "(EPL source distribution)\n",
       "Java Runtime: OpenJDK Runtime Environment\n",
       "JVM: OpenJDK 64-Bit Server VM\n",
       "Default Encoding: UTF-8\n",
       "Language: en\n",
       "Country: null\n",
       "--></g></svg>"
      ]
     },
     "execution_count": 12,
     "metadata": {},
     "output_type": "execute_result"
    }
   ],
   "source": [
    "%viz --style=\"POLYLINE\" --view=\"Interconnection\" \"PrivateImportTest\""
   ]
  },
  {
   "cell_type": "code",
   "execution_count": 13,
   "id": "4659544d",
   "metadata": {
    "execution": {
     "iopub.execute_input": "2022-02-18T10:48:45.779629Z",
     "iopub.status.busy": "2022-02-18T10:48:45.779211Z",
     "iopub.status.idle": "2022-02-18T10:48:45.784384Z",
     "shell.execute_reply": "2022-02-18T10:48:45.784708Z"
    }
   },
   "outputs": [
    {
     "data": {
      "image/svg+xml": [
       "<?xml version=\"1.0\" encoding=\"UTF-8\" standalone=\"no\"?><svg xmlns=\"http://www.w3.org/2000/svg\" xmlns:xlink=\"http://www.w3.org/1999/xlink\" contentScriptType=\"application/ecmascript\" contentStyleType=\"text/css\" height=\"12px\" preserveAspectRatio=\"none\" style=\"width:12px;height:12px;\" version=\"1.1\" viewBox=\"0 0 12 12\" width=\"12px\" zoomAndPan=\"magnify\"><defs/><g><!--MD5=[97bbf32f66ccd50cbc40d92ea8f5a65e]\n",
       "@startuml\r\n",
       "skinparam ranksep 8\r\n",
       "skinparam linetype polyline\r\n",
       "skinparam monochrome true\r\n",
       "skinparam classbackgroundcolor white\r\n",
       "skinparam shadowing false\r\n",
       "skinparam wrapWidth 300\r\n",
       "hide circle\r\n",
       "\r\n",
       "@enduml\r\n",
       "\n",
       "PlantUML version 1.2020.13(Sat Jun 13 12:26:38 UTC 2020)\n",
       "(EPL source distribution)\n",
       "Java Runtime: OpenJDK Runtime Environment\n",
       "JVM: OpenJDK 64-Bit Server VM\n",
       "Default Encoding: UTF-8\n",
       "Language: en\n",
       "Country: null\n",
       "--></g></svg>"
      ]
     },
     "execution_count": 13,
     "metadata": {},
     "output_type": "execute_result"
    }
   ],
   "source": [
    "%viz --style=\"POLYLINE\" --view=\"Action\" \"PrivateImportTest\""
   ]
  },
  {
   "cell_type": "code",
   "execution_count": 14,
   "id": "f76ca463",
   "metadata": {
    "execution": {
     "iopub.execute_input": "2022-02-18T10:48:45.834747Z",
     "iopub.status.busy": "2022-02-18T10:48:45.834344Z",
     "iopub.status.idle": "2022-02-18T10:48:45.837681Z",
     "shell.execute_reply": "2022-02-18T10:48:45.838015Z"
    }
   },
   "outputs": [
    {
     "data": {
      "image/svg+xml": [
       "<?xml version=\"1.0\" encoding=\"UTF-8\" standalone=\"no\"?><svg xmlns=\"http://www.w3.org/2000/svg\" xmlns:xlink=\"http://www.w3.org/1999/xlink\" contentScriptType=\"application/ecmascript\" contentStyleType=\"text/css\" height=\"12px\" preserveAspectRatio=\"none\" style=\"width:12px;height:12px;\" version=\"1.1\" viewBox=\"0 0 12 12\" width=\"12px\" zoomAndPan=\"magnify\"><defs/><g><!--MD5=[dc938048236c351797870c36b62f92ad]\n",
       "@startuml\r\n",
       "skinparam roundcorner 20\r\n",
       "skinparam BoxPadding 20\r\n",
       "skinparam SequenceBoxBackgroundColor #white\r\n",
       "skinparam style strictuml\r\n",
       "skinparam maxMessageSize 100\r\n",
       "skinparam linetype polyline\r\n",
       "skinparam monochrome true\r\n",
       "skinparam classbackgroundcolor white\r\n",
       "skinparam shadowing false\r\n",
       "skinparam wrapWidth 300\r\n",
       "hide circle\r\n",
       "\r\n",
       "@enduml\r\n",
       "\n",
       "PlantUML version 1.2020.13(Sat Jun 13 12:26:38 UTC 2020)\n",
       "(EPL source distribution)\n",
       "Java Runtime: OpenJDK Runtime Environment\n",
       "JVM: OpenJDK 64-Bit Server VM\n",
       "Default Encoding: UTF-8\n",
       "Language: en\n",
       "Country: null\n",
       "--></g></svg>"
      ]
     },
     "execution_count": 14,
     "metadata": {},
     "output_type": "execute_result"
    }
   ],
   "source": [
    "%viz --style=\"POLYLINE\" --view=\"Sequence\" \"PrivateImportTest\""
   ]
  },
  {
   "cell_type": "code",
   "execution_count": 15,
   "id": "a0179db0",
   "metadata": {
    "execution": {
     "iopub.execute_input": "2022-02-18T10:48:45.888058Z",
     "iopub.status.busy": "2022-02-18T10:48:45.887588Z",
     "iopub.status.idle": "2022-02-18T10:48:45.931221Z",
     "shell.execute_reply": "2022-02-18T10:48:45.930863Z"
    }
   },
   "outputs": [
    {
     "data": {
      "image/svg+xml": [
       "<?xml version=\"1.0\" encoding=\"UTF-8\" standalone=\"no\"?><svg xmlns=\"http://www.w3.org/2000/svg\" xmlns:xlink=\"http://www.w3.org/1999/xlink\" contentScriptType=\"application/ecmascript\" contentStyleType=\"text/css\" height=\"586px\" preserveAspectRatio=\"none\" style=\"width:427px;height:586px;\" version=\"1.1\" viewBox=\"0 0 427 586\" width=\"427px\" zoomAndPan=\"magnify\"><defs/><g><!--MD5=[fbc87193dbaf4d95561dea2c320d4a47]\n",
       "cluster E1--><a href=\"psysml:56a08668-af7c-402b-8ea6-0ffeccd2e906\" target=\"_top\" title=\"psysml:56a08668-af7c-402b-8ea6-0ffeccd2e906\" xlink:actuate=\"onRequest\" xlink:href=\"psysml:56a08668-af7c-402b-8ea6-0ffeccd2e906\" xlink:show=\"new\" xlink:title=\"psysml:56a08668-af7c-402b-8ea6-0ffeccd2e906\" xlink:type=\"simple\"><polygon fill=\"#FFFFFF\" points=\"20,6,147,6,154,28.2969,405,28.2969,405,574,20,574,20,6\" style=\"stroke: #000000; stroke-width: 1.5;\"/><line style=\"stroke: #000000; stroke-width: 1.5;\" x1=\"20\" x2=\"154\" y1=\"28.2969\" y2=\"28.2969\"/><text fill=\"#000000\" font-family=\"sans-serif\" font-size=\"14\" font-weight=\"bold\" lengthAdjust=\"spacingAndGlyphs\" textLength=\"121\" x=\"24\" y=\"20.9951\">PrivateImportTest</text></a><!--MD5=[e4f7fae6ed58524ba242bb0b0d3be6b7]\n",
       "cluster E2--><a href=\"psysml:989134c5-5272-479d-a43e-5e5573119e0c\" target=\"_top\" title=\"psysml:989134c5-5272-479d-a43e-5e5573119e0c\" xlink:actuate=\"onRequest\" xlink:href=\"psysml:989134c5-5272-479d-a43e-5e5573119e0c\" xlink:show=\"new\" xlink:title=\"psysml:989134c5-5272-479d-a43e-5e5573119e0c\" xlink:type=\"simple\"><polygon fill=\"#FFFFFF\" points=\"225,421,249,421,256,443.2969,362,443.2969,362,534,225,534,225,421\" style=\"stroke: #000000; stroke-width: 1.5;\"/><line style=\"stroke: #000000; stroke-width: 1.5;\" x1=\"225\" x2=\"256\" y1=\"443.2969\" y2=\"443.2969\"/><text fill=\"#000000\" font-family=\"sans-serif\" font-size=\"14\" font-weight=\"bold\" lengthAdjust=\"spacingAndGlyphs\" textLength=\"18\" x=\"229\" y=\"435.9951\">P1</text></a><!--MD5=[14e3b0961a2654348d326746436168a1]\n",
       "cluster E6--><a href=\"psysml:90563c83-8b6e-4371-ac3b-36c1983fe7e9\" target=\"_top\" title=\"psysml:90563c83-8b6e-4371-ac3b-36c1983fe7e9\" xlink:actuate=\"onRequest\" xlink:href=\"psysml:90563c83-8b6e-4371-ac3b-36c1983fe7e9\" xlink:show=\"new\" xlink:title=\"psysml:90563c83-8b6e-4371-ac3b-36c1983fe7e9\" xlink:type=\"simple\"><polygon fill=\"#FFFFFF\" points=\"68,243,92,243,99,265.2969,205,265.2969,205,356,68,356,68,243\" style=\"stroke: #000000; stroke-width: 1.5;\"/><line style=\"stroke: #000000; stroke-width: 1.5;\" x1=\"68\" x2=\"99\" y1=\"265.2969\" y2=\"265.2969\"/><text fill=\"#000000\" font-family=\"sans-serif\" font-size=\"14\" font-weight=\"bold\" lengthAdjust=\"spacingAndGlyphs\" textLength=\"18\" x=\"72\" y=\"257.9951\">P3</text></a><!--MD5=[7f149f147074ac12df2cb0a7728a5fb0]\n",
       "cluster E9--><a href=\"psysml:2733cc0d-ab4e-4acc-aaf2-0d4d1c16697a\" target=\"_top\" title=\"psysml:2733cc0d-ab4e-4acc-aaf2-0d4d1c16697a\" xlink:actuate=\"onRequest\" xlink:href=\"psysml:2733cc0d-ab4e-4acc-aaf2-0d4d1c16697a\" xlink:show=\"new\" xlink:title=\"psysml:2733cc0d-ab4e-4acc-aaf2-0d4d1c16697a\" xlink:type=\"simple\"><polygon fill=\"#FFFFFF\" points=\"256,65,280,65,287,87.2969,365,87.2969,365,178,256,178,256,65\" style=\"stroke: #000000; stroke-width: 1.5;\"/><line style=\"stroke: #000000; stroke-width: 1.5;\" x1=\"256\" x2=\"287\" y1=\"87.2969\" y2=\"87.2969\"/><text fill=\"#000000\" font-family=\"sans-serif\" font-size=\"14\" font-weight=\"bold\" lengthAdjust=\"spacingAndGlyphs\" textLength=\"18\" x=\"260\" y=\"79.9951\">P4</text></a><!--MD5=[270fce915f116d4de14055a7c1d9a0f3]\n",
       "class E5--><a href=\"psysml:4755439e-6dab-436e-bf4a-d220bd8663ba\" target=\"_top\" title=\"psysml:4755439e-6dab-436e-bf4a-d220bd8663ba\" xlink:actuate=\"onRequest\" xlink:href=\"psysml:4755439e-6dab-436e-bf4a-d220bd8663ba\" xlink:show=\"new\" xlink:title=\"psysml:4755439e-6dab-436e-bf4a-d220bd8663ba\" xlink:type=\"simple\"><rect fill=\"#FFFFFF\" height=\"45.9375\" id=\"E5\" rx=\"10\" ry=\"10\" style=\"stroke: #383838; stroke-width: 1.5;\" width=\"42\" x=\"339\" y=\"286\"/><text fill=\"#000000\" font-family=\"sans-serif\" font-size=\"12\" font-style=\"italic\" lengthAdjust=\"spacingAndGlyphs\" textLength=\"40\" x=\"340\" y=\"302.1387\">«part»</text><text fill=\"#000000\" font-family=\"sans-serif\" font-size=\"12\" lengthAdjust=\"spacingAndGlyphs\" textLength=\"22\" x=\"347\" y=\"316.1074\">x: A</text><line style=\"stroke: #383838; stroke-width: 1.5;\" x1=\"340\" x2=\"380\" y1=\"323.9375\" y2=\"323.9375\"/></a><!--MD5=[b9389687b975829384b498ac4b7476b2]\n",
       "class E8--><a href=\"psysml:dfc306bc-28cd-4074-8d12-696a322e5955\" target=\"_top\" title=\"psysml:dfc306bc-28cd-4074-8d12-696a322e5955\" xlink:actuate=\"onRequest\" xlink:href=\"psysml:dfc306bc-28cd-4074-8d12-696a322e5955\" xlink:show=\"new\" xlink:title=\"psysml:dfc306bc-28cd-4074-8d12-696a322e5955\" xlink:type=\"simple\"><rect fill=\"#FFFFFF\" height=\"45.9375\" id=\"E8\" rx=\"10\" ry=\"10\" style=\"stroke: #383838; stroke-width: 1.5;\" width=\"42\" x=\"187\" y=\"108\"/><text fill=\"#000000\" font-family=\"sans-serif\" font-size=\"12\" font-style=\"italic\" lengthAdjust=\"spacingAndGlyphs\" textLength=\"40\" x=\"188\" y=\"124.1387\">«part»</text><text fill=\"#000000\" font-family=\"sans-serif\" font-size=\"12\" lengthAdjust=\"spacingAndGlyphs\" textLength=\"21\" x=\"195.5\" y=\"138.1074\">z: B</text><line style=\"stroke: #383838; stroke-width: 1.5;\" x1=\"188\" x2=\"228\" y1=\"145.9375\" y2=\"145.9375\"/></a><!--MD5=[09b614a08d8cba4a07c9adeb5e0fee81]\n",
       "class E3--><a href=\"psysml:1f011377-ef65-4253-92ff-be4f522feeb1\" target=\"_top\" title=\"psysml:1f011377-ef65-4253-92ff-be4f522feeb1\" xlink:actuate=\"onRequest\" xlink:href=\"psysml:1f011377-ef65-4253-92ff-be4f522feeb1\" xlink:show=\"new\" xlink:title=\"psysml:1f011377-ef65-4253-92ff-be4f522feeb1\" xlink:type=\"simple\"><rect fill=\"#FFFFFF\" height=\"45.9375\" id=\"E3\" style=\"stroke: #383838; stroke-width: 1.5;\" width=\"70\" x=\"268\" y=\"464\"/><text fill=\"#000000\" font-family=\"sans-serif\" font-size=\"12\" font-style=\"italic\" lengthAdjust=\"spacingAndGlyphs\" textLength=\"68\" x=\"269\" y=\"480.1387\">«part  def»</text><text fill=\"#000000\" font-family=\"sans-serif\" font-size=\"12\" lengthAdjust=\"spacingAndGlyphs\" textLength=\"8\" x=\"299\" y=\"494.1074\">A</text><line style=\"stroke: #383838; stroke-width: 1.5;\" x1=\"269\" x2=\"337\" y1=\"501.9375\" y2=\"501.9375\"/></a><a href=\"psysml:7d907640-2982-4506-b0ab-4e4fe8a9afec\" target=\"_top\" title=\"psysml:7d907640-2982-4506-b0ab-4e4fe8a9afec\" xlink:actuate=\"onRequest\" xlink:href=\"psysml:7d907640-2982-4506-b0ab-4e4fe8a9afec\" xlink:show=\"new\" xlink:title=\"psysml:7d907640-2982-4506-b0ab-4e4fe8a9afec\" xlink:type=\"simple\"><polygon fill=\"#FFFFFF\" points=\"229,282.5,253,282.5,260,304.7969,267,304.7969,267,335.0938,229,335.0938,229,282.5\" style=\"stroke: #000000; stroke-width: 1.5;\"/><line style=\"stroke: #000000; stroke-width: 1.5;\" x1=\"229\" x2=\"260\" y1=\"304.7969\" y2=\"304.7969\"/><text fill=\"#000000\" font-family=\"sans-serif\" font-size=\"14\" font-weight=\"bold\" lengthAdjust=\"spacingAndGlyphs\" textLength=\"18\" x=\"233\" y=\"297.4951\">P2</text></a><!--MD5=[2156ba9850f5573cc1fc38a6a4b2f02b]\n",
       "class E7--><a href=\"psysml:bdb8801b-74e6-41c7-b5f1-114cae898237\" target=\"_top\" title=\"psysml:bdb8801b-74e6-41c7-b5f1-114cae898237\" xlink:actuate=\"onRequest\" xlink:href=\"psysml:bdb8801b-74e6-41c7-b5f1-114cae898237\" xlink:show=\"new\" xlink:title=\"psysml:bdb8801b-74e6-41c7-b5f1-114cae898237\" xlink:type=\"simple\"><rect fill=\"#FFFFFF\" height=\"45.9375\" id=\"E7\" style=\"stroke: #383838; stroke-width: 1.5;\" width=\"70\" x=\"111\" y=\"286\"/><text fill=\"#000000\" font-family=\"sans-serif\" font-size=\"12\" font-style=\"italic\" lengthAdjust=\"spacingAndGlyphs\" textLength=\"68\" x=\"112\" y=\"302.1387\">«part  def»</text><text fill=\"#000000\" font-family=\"sans-serif\" font-size=\"12\" lengthAdjust=\"spacingAndGlyphs\" textLength=\"8\" x=\"142\" y=\"316.1074\">B</text><line style=\"stroke: #383838; stroke-width: 1.5;\" x1=\"112\" x2=\"180\" y1=\"323.9375\" y2=\"323.9375\"/></a><!--MD5=[96f4274e9e20536e775497830990834d]\n",
       "class E10--><a href=\"psysml:aa943bbf-59d6-4c08-9403-21388691ca57\" target=\"_top\" title=\"psysml:aa943bbf-59d6-4c08-9403-21388691ca57\" xlink:actuate=\"onRequest\" xlink:href=\"psysml:aa943bbf-59d6-4c08-9403-21388691ca57\" xlink:show=\"new\" xlink:title=\"psysml:aa943bbf-59d6-4c08-9403-21388691ca57\" xlink:type=\"simple\"><rect fill=\"#FFFFFF\" height=\"45.9375\" id=\"E10\" rx=\"10\" ry=\"10\" style=\"stroke: #383838; stroke-width: 1.5;\" width=\"42\" x=\"299\" y=\"108\"/><text fill=\"#000000\" font-family=\"sans-serif\" font-size=\"12\" font-style=\"italic\" lengthAdjust=\"spacingAndGlyphs\" textLength=\"40\" x=\"300\" y=\"124.1387\">«part»</text><text fill=\"#000000\" font-family=\"sans-serif\" font-size=\"12\" lengthAdjust=\"spacingAndGlyphs\" textLength=\"29\" x=\"303.5\" y=\"138.1074\">z1: A</text><line style=\"stroke: #383838; stroke-width: 1.5;\" x1=\"300\" x2=\"340\" y1=\"145.9375\" y2=\"145.9375\"/></a><!--MD5=[185131fc0dcab0a4505a2ebe144e961b]\n",
       "link E4 to E2--><a href=\"psysml:113e6c15-2e9f-43c2-9a8b-f1023998ecb3\" target=\"_top\" title=\"psysml:113e6c15-2e9f-43c2-9a8b-f1023998ecb3\" xlink:actuate=\"onRequest\" xlink:href=\"psysml:113e6c15-2e9f-43c2-9a8b-f1023998ecb3\" xlink:show=\"new\" xlink:title=\"psysml:113e6c15-2e9f-43c2-9a8b-f1023998ecb3\" xlink:type=\"simple\"><path d=\"M240.3,335.67 C234.31,355.65 227,380 227,380 C227,380 227,397 227,397 C227,397 227.3631,402.39 227.9108,410.5172 C228.0477,412.549 228.1961,414.7519 228.3533,417.0844 C228.4319,418.2506 228.5127,419.4493 228.5953,420.6751 \" fill=\"none\" id=\"E4-&gt;E2\" style=\"stroke: #383838; stroke-width: 1.0; stroke-dasharray: 7.0,7.0;\"/><polygon fill=\"#383838\" points=\"228.5953,420.6751,231.9811,411.4265,228.2591,415.6864,223.9992,411.9645,228.5953,420.6751\" style=\"stroke: #383838; stroke-width: 1.0;\"/><text fill=\"#000000\" font-family=\"sans-serif\" font-size=\"13\" lengthAdjust=\"spacingAndGlyphs\" textLength=\"65\" x=\"228\" y=\"393.0669\">«import»*</text></a><!--MD5=[e9be52314489bd878ff4c7144b63c9e1]\n",
       "link E5 to E3--><a href=\"psysml:2e030f48-ed8d-4fbc-a256-8117ac7131ec\" target=\"_top\" title=\"psysml:2e030f48-ed8d-4fbc-a256-8117ac7131ec\" xlink:actuate=\"onRequest\" xlink:href=\"psysml:2e030f48-ed8d-4fbc-a256-8117ac7131ec\" xlink:show=\"new\" xlink:title=\"psysml:2e030f48-ed8d-4fbc-a256-8117ac7131ec\" xlink:type=\"simple\"><path d=\"M352.78,332.29 C343.66,360.46 327.78,409.49 316.4,444.61 \" fill=\"none\" id=\"E5-&gt;E3\" style=\"stroke: #383838; stroke-width: 1.0;\"/><polygon fill=\"#FFFFFF\" points=\"310.16,463.89,309.3493,443.6578,322.6693,447.9678,310.16,463.89\" style=\"stroke: #383838; stroke-width: 1.0;\"/><ellipse cx=\"313.0069\" cy=\"438.8503\" fill=\"#383838\" rx=\"2\" ry=\"2\" style=\"stroke: #383838; stroke-width: 1.0;\"/><ellipse cx=\"322.5213\" cy=\"441.9289\" fill=\"#383838\" rx=\"2\" ry=\"2\" style=\"stroke: #383838; stroke-width: 1.0;\"/></a><!--MD5=[ee384bb554873b72f85793eae40e290c]\n",
       "link E1 to E4--><a href=\"psysml:a039409c-dc44-4261-a761-133767375f35\" target=\"_top\" title=\"psysml:a039409c-dc44-4261-a761-133767375f35\" xlink:actuate=\"onRequest\" xlink:href=\"psysml:a039409c-dc44-4261-a761-133767375f35\" xlink:show=\"new\" xlink:title=\"psysml:a039409c-dc44-4261-a761-133767375f35\" xlink:type=\"simple\"><path d=\"M28.01,132.04 C28.25,133.92 36,194 36,194 C36,194 81,202 81,202 C81,202 197,227 197,227 C197,227 214.66,255.04 229.19,278.13 \" fill=\"none\" id=\"E1-&gt;E4\" style=\"stroke: #383838; stroke-width: 1.0; stroke-dasharray: 7.0,7.0;\"/><polygon fill=\"#383838\" points=\"231.86,282.37,230.4584,272.6214,229.1997,278.1364,223.6847,276.8778,231.86,282.37\" style=\"stroke: #383838; stroke-width: 1.0;\"/><text fill=\"#000000\" font-family=\"sans-serif\" font-size=\"13\" lengthAdjust=\"spacingAndGlyphs\" textLength=\"65\" x=\"160\" y=\"215.0669\">«import»*</text></a><!--MD5=[ccbd3af71bf83df0ec2a2db62d6d7130]\n",
       "link E1 to E6--><a href=\"psysml:8872cc02-851e-450c-b3e8-f90f2e3db770\" target=\"_top\" title=\"psysml:8872cc02-851e-450c-b3e8-f90f2e3db770\" xlink:actuate=\"onRequest\" xlink:href=\"psysml:8872cc02-851e-450c-b3e8-f90f2e3db770\" xlink:show=\"new\" xlink:title=\"psysml:8872cc02-851e-450c-b3e8-f90f2e3db770\" xlink:type=\"simple\"><path d=\"M19.8842,157.8227 C19.8433,157.9531 19.8022,158.0837 19.7611,158.2144 C19.4325,159.2604 19.1003,160.3175 18.7658,161.3817 C18.0969,163.5102 17.4191,165.6672 16.7425,167.82 C11.33,185.0425 6,202 6,202 C6,202 6,219 6,219 C6,219 22.9575,240.56 40.18,262.4575 C48.7913,273.4063 57.4688,284.4394 64.1259,292.9041 C64.9581,293.9621 65.7587,294.9801 66.5236,295.9527 C66.9061,296.4391 67.2796,296.9141 67.6438,297.3771 C67.7348,297.4928 67.8253,297.6078 67.9151,297.7221 \" fill=\"none\" id=\"E1-&gt;E6\" style=\"stroke: #383838; stroke-width: 1.0; stroke-dasharray: 7.0,7.0;\"/><polygon fill=\"#383838\" points=\"67.9151,297.7221,65.4957,288.175,64.8242,293.7919,59.2073,293.1204,67.9151,297.7221\" style=\"stroke: #383838; stroke-width: 1.0;\"/><text fill=\"#000000\" font-family=\"sans-serif\" font-size=\"13\" lengthAdjust=\"spacingAndGlyphs\" textLength=\"65\" x=\"7\" y=\"215.0669\">«import»*</text></a><!--MD5=[bfa3c8b0d15052fdf50ae9310b491027]\n",
       "link E8 to E7--><a href=\"psysml:0934d2d2-1a49-4ac4-b6c0-cd8fa5ea19dd\" target=\"_top\" title=\"psysml:0934d2d2-1a49-4ac4-b6c0-cd8fa5ea19dd\" xlink:actuate=\"onRequest\" xlink:href=\"psysml:0934d2d2-1a49-4ac4-b6c0-cd8fa5ea19dd\" xlink:show=\"new\" xlink:title=\"psysml:0934d2d2-1a49-4ac4-b6c0-cd8fa5ea19dd\" xlink:type=\"simple\"><path d=\"M217.49,154.15 C226.28,174.66 238,202 238,202 C238,202 238,219 238,219 C238,219 185,227 185,227 C185,227 175.15,247.45 165.36,267.8 \" fill=\"none\" id=\"E8-&gt;E7\" style=\"stroke: #383838; stroke-width: 1.0;\"/><polygon fill=\"#FFFFFF\" points=\"156.66,285.87,158.5936,265.7141,171.2082,271.7863,156.66,285.87\" style=\"stroke: #383838; stroke-width: 1.0;\"/><ellipse cx=\"162.8679\" cy=\"261.4456\" fill=\"#383838\" rx=\"2\" ry=\"2\" style=\"stroke: #383838; stroke-width: 1.0;\"/><ellipse cx=\"171.8783\" cy=\"265.7829\" fill=\"#383838\" rx=\"2\" ry=\"2\" style=\"stroke: #383838; stroke-width: 1.0;\"/></a><!--MD5=[c2be97adba6ddfe1c8f349fab141c927]\n",
       "link E9 to E4--><a href=\"psysml:f0473cf2-6b9f-40e7-98be-e0cb9d304d8b\" target=\"_top\" title=\"psysml:f0473cf2-6b9f-40e7-98be-e0cb9d304d8b\" xlink:actuate=\"onRequest\" xlink:href=\"psysml:f0473cf2-6b9f-40e7-98be-e0cb9d304d8b\" xlink:show=\"new\" xlink:title=\"psysml:f0473cf2-6b9f-40e7-98be-e0cb9d304d8b\" xlink:type=\"simple\"><path d=\"M261.024,178.1434 C261.0103,178.3545 260.9968,178.5643 260.9833,178.7729 C260.9564,179.1899 260.9298,179.6018 260.9036,180.0081 C260.7986,181.633 260.6995,183.1677 260.6081,184.5831 C260.2425,190.245 260,194 260,194 C260,194 254.8,243.38 251.25,277.14 \" fill=\"none\" id=\"E9-&gt;E4\" style=\"stroke: #383838; stroke-width: 1.0; stroke-dasharray: 7.0,7.0;\"/><polygon fill=\"#383838\" points=\"250.69,282.42,255.6191,273.8933,251.2186,277.448,247.664,273.0475,250.69,282.42\" style=\"stroke: #383838; stroke-width: 1.0;\"/><text fill=\"#000000\" font-family=\"sans-serif\" font-size=\"13\" lengthAdjust=\"spacingAndGlyphs\" textLength=\"65\" x=\"259\" y=\"215.0669\">«import»*</text></a><!--MD5=[feeac5eb423634930294aa81f2d25a4c]\n",
       "link E10 to E3--><a href=\"psysml:6083fff7-7e2a-4a1f-b6e0-00602bace9f4\" target=\"_top\" title=\"psysml:6083fff7-7e2a-4a1f-b6e0-00602bace9f4\" xlink:actuate=\"onRequest\" xlink:href=\"psysml:6083fff7-7e2a-4a1f-b6e0-00602bace9f4\" xlink:show=\"new\" xlink:title=\"psysml:6083fff7-7e2a-4a1f-b6e0-00602bace9f4\" xlink:type=\"simple\"><path d=\"M330.12,154.15 C339.5,174.66 352,202 352,202 C352,202 352,219 352,219 C352,219 308,227 308,227 C308,227 305.24,370.14 303.82,443.59 \" fill=\"none\" id=\"E10-&gt;E3\" style=\"stroke: #383838; stroke-width: 1.0;\"/><polygon fill=\"#FFFFFF\" points=\"303.43,463.92,296.7977,444.7886,310.7951,445.0585,303.43,463.92\" style=\"stroke: #383838; stroke-width: 1.0;\"/><ellipse cx=\"298.9072\" cy=\"439.1282\" fill=\"#383838\" rx=\"2\" ry=\"2\" style=\"stroke: #383838; stroke-width: 1.0;\"/><ellipse cx=\"308.9053\" cy=\"439.321\" fill=\"#383838\" rx=\"2\" ry=\"2\" style=\"stroke: #383838; stroke-width: 1.0;\"/></a><!--MD5=[9d33605ff109a822f7128426da19370f]\n",
       "@startuml\r\n",
       "skinparam linetype polyline\r\n",
       "skinparam monochrome true\r\n",
       "skinparam classbackgroundcolor white\r\n",
       "skinparam shadowing false\r\n",
       "skinparam wrapWidth 300\r\n",
       "hide circle\r\n",
       "\r\n",
       "package \"PrivateImportTest\" as E1  [[psysml:56a08668-af7c-402b-8ea6-0ffeccd2e906 ]]  {\r\n",
       "package \"P1\" as E2  [[psysml:989134c5-5272-479d-a43e-5e5573119e0c ]]  {\r\n",
       "comp def \"A\" as E3  <<(T,blue) part  def>> [[psysml:1f011377-ef65-4253-92ff-be4f522feeb1 ]] {\r\n",
       "}\r\n",
       "}\r\n",
       "package \"P2\" as E4  [[psysml:7d907640-2982-4506-b0ab-4e4fe8a9afec ]]  {\r\n",
       "}\r\n",
       "comp usage \"x: A \" as E5  <<(T,blue) part>> [[psysml:4755439e-6dab-436e-bf4a-d220bd8663ba ]] {\r\n",
       "}\r\n",
       "package \"P3\" as E6  [[psysml:90563c83-8b6e-4371-ac3b-36c1983fe7e9 ]]  {\r\n",
       "comp def \"B\" as E7  <<(T,blue) part  def>> [[psysml:bdb8801b-74e6-41c7-b5f1-114cae898237 ]] {\r\n",
       "}\r\n",
       "}\r\n",
       "comp usage \"z: B \" as E8  <<(T,blue) part>> [[psysml:dfc306bc-28cd-4074-8d12-696a322e5955 ]] {\r\n",
       "}\r\n",
       "package \"P4\" as E9  [[psysml:2733cc0d-ab4e-4acc-aaf2-0d4d1c16697a ]]  {\r\n",
       "comp usage \"z1: A \" as E10  <<(T,blue) part>> [[psysml:aa943bbf-59d6-4c08-9403-21388691ca57 ]] {\r\n",
       "}\r\n",
       "}\r\n",
       "}\r\n",
       "E4 ..> E2 [[psysml:113e6c15-2e9f-43c2-9a8b-f1023998ecb3 ]] : <<import>>*\r\n",
       "E5 - -:|> E3 [[psysml:2e030f48-ed8d-4fbc-a256-8117ac7131ec ]] \r\n",
       "E1 ..> E4 [[psysml:a039409c-dc44-4261-a761-133767375f35 ]] : <<import>>*\r\n",
       "E1 ..> E6 [[psysml:8872cc02-851e-450c-b3e8-f90f2e3db770 ]] : <<import>>*\r\n",
       "E8 - -:|> E7 [[psysml:0934d2d2-1a49-4ac4-b6c0-cd8fa5ea19dd ]] \r\n",
       "E9 ..> E4 [[psysml:f0473cf2-6b9f-40e7-98be-e0cb9d304d8b ]] : <<import>>*\r\n",
       "E10 - -:|> E3 [[psysml:6083fff7-7e2a-4a1f-b6e0-00602bace9f4 ]] \r\n",
       "@enduml\r\n",
       "\n",
       "PlantUML version 1.2020.13(Sat Jun 13 12:26:38 UTC 2020)\n",
       "(EPL source distribution)\n",
       "Java Runtime: OpenJDK Runtime Environment\n",
       "JVM: OpenJDK 64-Bit Server VM\n",
       "Default Encoding: UTF-8\n",
       "Language: en\n",
       "Country: null\n",
       "--></g></svg>"
      ]
     },
     "execution_count": 15,
     "metadata": {},
     "output_type": "execute_result"
    }
   ],
   "source": [
    "%viz --style=\"POLYLINE\" --view=\"MIXED\" \"PrivateImportTest\""
   ]
  },
  {
   "cell_type": "code",
   "execution_count": 16,
   "id": "9a7c846e",
   "metadata": {
    "execution": {
     "iopub.execute_input": "2022-02-18T10:48:45.980948Z",
     "iopub.status.busy": "2022-02-18T10:48:45.980550Z",
     "iopub.status.idle": "2022-02-18T10:48:46.021295Z",
     "shell.execute_reply": "2022-02-18T10:48:46.020740Z"
    }
   },
   "outputs": [
    {
     "data": {
      "image/svg+xml": [
       "<?xml version=\"1.0\" encoding=\"UTF-8\" standalone=\"no\"?><svg xmlns=\"http://www.w3.org/2000/svg\" xmlns:xlink=\"http://www.w3.org/1999/xlink\" contentScriptType=\"application/ecmascript\" contentStyleType=\"text/css\" height=\"438px\" preserveAspectRatio=\"none\" style=\"width:674px;height:438px;\" version=\"1.1\" viewBox=\"0 0 674 438\" width=\"674px\" zoomAndPan=\"magnify\"><defs/><g><!--MD5=[fbc87193dbaf4d95561dea2c320d4a47]\n",
       "cluster E1--><a href=\"psysml:56a08668-af7c-402b-8ea6-0ffeccd2e906\" target=\"_top\" title=\"psysml:56a08668-af7c-402b-8ea6-0ffeccd2e906\" xlink:actuate=\"onRequest\" xlink:href=\"psysml:56a08668-af7c-402b-8ea6-0ffeccd2e906\" xlink:show=\"new\" xlink:title=\"psysml:56a08668-af7c-402b-8ea6-0ffeccd2e906\" xlink:type=\"simple\"><polygon fill=\"#FFFFFF\" points=\"16,6,143,6,150,28.2969,652,28.2969,652,425,16,425,16,6\" style=\"stroke: #000000; stroke-width: 1.5;\"/><line style=\"stroke: #000000; stroke-width: 1.5;\" x1=\"16\" x2=\"150\" y1=\"28.2969\" y2=\"28.2969\"/><text fill=\"#000000\" font-family=\"sans-serif\" font-size=\"14\" font-weight=\"bold\" lengthAdjust=\"spacingAndGlyphs\" textLength=\"121\" x=\"20\" y=\"20.9951\">PrivateImportTest</text></a><!--MD5=[e4f7fae6ed58524ba242bb0b0d3be6b7]\n",
       "cluster E2--><a href=\"psysml:989134c5-5272-479d-a43e-5e5573119e0c\" target=\"_top\" title=\"psysml:989134c5-5272-479d-a43e-5e5573119e0c\" xlink:actuate=\"onRequest\" xlink:href=\"psysml:989134c5-5272-479d-a43e-5e5573119e0c\" xlink:show=\"new\" xlink:title=\"psysml:989134c5-5272-479d-a43e-5e5573119e0c\" xlink:type=\"simple\"><polygon fill=\"#FFFFFF\" points=\"494,65,518,65,525,87.2969,612,87.2969,612,197,494,197,494,65\" style=\"stroke: #000000; stroke-width: 1.5;\"/><line style=\"stroke: #000000; stroke-width: 1.5;\" x1=\"494\" x2=\"525\" y1=\"87.2969\" y2=\"87.2969\"/><text fill=\"#000000\" font-family=\"sans-serif\" font-size=\"14\" font-weight=\"bold\" lengthAdjust=\"spacingAndGlyphs\" textLength=\"18\" x=\"498\" y=\"79.9951\">P1</text></a><!--MD5=[14e3b0961a2654348d326746436168a1]\n",
       "cluster E6--><a href=\"psysml:90563c83-8b6e-4371-ac3b-36c1983fe7e9\" target=\"_top\" title=\"psysml:90563c83-8b6e-4371-ac3b-36c1983fe7e9\" xlink:actuate=\"onRequest\" xlink:href=\"psysml:90563c83-8b6e-4371-ac3b-36c1983fe7e9\" xlink:show=\"new\" xlink:title=\"psysml:90563c83-8b6e-4371-ac3b-36c1983fe7e9\" xlink:type=\"simple\"><polygon fill=\"#FFFFFF\" points=\"261,245,285,245,292,267.2969,379,267.2969,379,377,261,377,261,245\" style=\"stroke: #000000; stroke-width: 1.5;\"/><line style=\"stroke: #000000; stroke-width: 1.5;\" x1=\"261\" x2=\"292\" y1=\"267.2969\" y2=\"267.2969\"/><text fill=\"#000000\" font-family=\"sans-serif\" font-size=\"14\" font-weight=\"bold\" lengthAdjust=\"spacingAndGlyphs\" textLength=\"18\" x=\"265\" y=\"259.9951\">P3</text></a><!--MD5=[7f149f147074ac12df2cb0a7728a5fb0]\n",
       "cluster E9--><a href=\"psysml:2733cc0d-ab4e-4acc-aaf2-0d4d1c16697a\" target=\"_top\" title=\"psysml:2733cc0d-ab4e-4acc-aaf2-0d4d1c16697a\" xlink:actuate=\"onRequest\" xlink:href=\"psysml:2733cc0d-ab4e-4acc-aaf2-0d4d1c16697a\" xlink:show=\"new\" xlink:title=\"psysml:2733cc0d-ab4e-4acc-aaf2-0d4d1c16697a\" xlink:type=\"simple\"><polygon fill=\"#FFFFFF\" points=\"56,67,80,67,87,89.2969,146,89.2969,146,199,56,199,56,67\" style=\"stroke: #000000; stroke-width: 1.5;\"/><line style=\"stroke: #000000; stroke-width: 1.5;\" x1=\"56\" x2=\"87\" y1=\"89.2969\" y2=\"89.2969\"/><text fill=\"#000000\" font-family=\"sans-serif\" font-size=\"14\" font-weight=\"bold\" lengthAdjust=\"spacingAndGlyphs\" textLength=\"18\" x=\"60\" y=\"81.9951\">P4</text></a><!--MD5=[270fce915f116d4de14055a7c1d9a0f3]\n",
       "class E5--><a href=\"psysml:4755439e-6dab-436e-bf4a-d220bd8663ba\" target=\"_top\" title=\"psysml:4755439e-6dab-436e-bf4a-d220bd8663ba\" xlink:actuate=\"onRequest\" xlink:href=\"psysml:4755439e-6dab-436e-bf4a-d220bd8663ba\" xlink:show=\"new\" xlink:title=\"psysml:4755439e-6dab-436e-bf4a-d220bd8663ba\" xlink:type=\"simple\"><rect fill=\"#FFFFFF\" height=\"45.9375\" id=\"E5\" rx=\"10\" ry=\"10\" style=\"stroke: #383838; stroke-width: 1.5;\" width=\"42\" x=\"299\" y=\"49\"/><text fill=\"#000000\" font-family=\"sans-serif\" font-size=\"12\" font-style=\"italic\" lengthAdjust=\"spacingAndGlyphs\" textLength=\"40\" x=\"300\" y=\"65.1387\">«part»</text><text fill=\"#000000\" font-family=\"sans-serif\" font-size=\"12\" lengthAdjust=\"spacingAndGlyphs\" textLength=\"22\" x=\"307\" y=\"79.1074\">x: A</text><line style=\"stroke: #383838; stroke-width: 1.5;\" x1=\"300\" x2=\"340\" y1=\"86.9375\" y2=\"86.9375\"/></a><!--MD5=[b9389687b975829384b498ac4b7476b2]\n",
       "class E8--><a href=\"psysml:dfc306bc-28cd-4074-8d12-696a322e5955\" target=\"_top\" title=\"psysml:dfc306bc-28cd-4074-8d12-696a322e5955\" xlink:actuate=\"onRequest\" xlink:href=\"psysml:dfc306bc-28cd-4074-8d12-696a322e5955\" xlink:show=\"new\" xlink:title=\"psysml:dfc306bc-28cd-4074-8d12-696a322e5955\" xlink:type=\"simple\"><rect fill=\"#FFFFFF\" height=\"45.9375\" id=\"E8\" rx=\"10\" ry=\"10\" style=\"stroke: #383838; stroke-width: 1.5;\" width=\"42\" x=\"80\" y=\"279\"/><text fill=\"#000000\" font-family=\"sans-serif\" font-size=\"12\" font-style=\"italic\" lengthAdjust=\"spacingAndGlyphs\" textLength=\"40\" x=\"81\" y=\"295.1387\">«part»</text><text fill=\"#000000\" font-family=\"sans-serif\" font-size=\"12\" lengthAdjust=\"spacingAndGlyphs\" textLength=\"21\" x=\"88.5\" y=\"309.1074\">z: B</text><line style=\"stroke: #383838; stroke-width: 1.5;\" x1=\"81\" x2=\"121\" y1=\"316.9375\" y2=\"316.9375\"/></a><!--MD5=[09b614a08d8cba4a07c9adeb5e0fee81]\n",
       "class E3--><a href=\"psysml:1f011377-ef65-4253-92ff-be4f522feeb1\" target=\"_top\" title=\"psysml:1f011377-ef65-4253-92ff-be4f522feeb1\" xlink:actuate=\"onRequest\" xlink:href=\"psysml:1f011377-ef65-4253-92ff-be4f522feeb1\" xlink:show=\"new\" xlink:title=\"psysml:1f011377-ef65-4253-92ff-be4f522feeb1\" xlink:type=\"simple\"><rect fill=\"#FFFFFF\" height=\"45.9375\" id=\"E3\" style=\"stroke: #383838; stroke-width: 1.5;\" width=\"70\" x=\"518\" y=\"108\"/><text fill=\"#000000\" font-family=\"sans-serif\" font-size=\"12\" font-style=\"italic\" lengthAdjust=\"spacingAndGlyphs\" textLength=\"68\" x=\"519\" y=\"124.1387\">«part  def»</text><text fill=\"#000000\" font-family=\"sans-serif\" font-size=\"12\" lengthAdjust=\"spacingAndGlyphs\" textLength=\"8\" x=\"549\" y=\"138.1074\">A</text><line style=\"stroke: #383838; stroke-width: 1.5;\" x1=\"519\" x2=\"587\" y1=\"145.9375\" y2=\"145.9375\"/></a><a href=\"psysml:7d907640-2982-4506-b0ab-4e4fe8a9afec\" target=\"_top\" title=\"psysml:7d907640-2982-4506-b0ab-4e4fe8a9afec\" xlink:actuate=\"onRequest\" xlink:href=\"psysml:7d907640-2982-4506-b0ab-4e4fe8a9afec\" xlink:show=\"new\" xlink:title=\"psysml:7d907640-2982-4506-b0ab-4e4fe8a9afec\" xlink:type=\"simple\"><polygon fill=\"#FFFFFF\" points=\"301,167.5,325,167.5,332,189.7969,339,189.7969,339,220.0938,301,220.0938,301,167.5\" style=\"stroke: #000000; stroke-width: 1.5;\"/><line style=\"stroke: #000000; stroke-width: 1.5;\" x1=\"301\" x2=\"332\" y1=\"189.7969\" y2=\"189.7969\"/><text fill=\"#000000\" font-family=\"sans-serif\" font-size=\"14\" font-weight=\"bold\" lengthAdjust=\"spacingAndGlyphs\" textLength=\"18\" x=\"305\" y=\"182.4951\">P2</text></a><!--MD5=[2156ba9850f5573cc1fc38a6a4b2f02b]\n",
       "class E7--><a href=\"psysml:bdb8801b-74e6-41c7-b5f1-114cae898237\" target=\"_top\" title=\"psysml:bdb8801b-74e6-41c7-b5f1-114cae898237\" xlink:actuate=\"onRequest\" xlink:href=\"psysml:bdb8801b-74e6-41c7-b5f1-114cae898237\" xlink:show=\"new\" xlink:title=\"psysml:bdb8801b-74e6-41c7-b5f1-114cae898237\" xlink:type=\"simple\"><rect fill=\"#FFFFFF\" height=\"45.9375\" id=\"E7\" style=\"stroke: #383838; stroke-width: 1.5;\" width=\"70\" x=\"285\" y=\"288\"/><text fill=\"#000000\" font-family=\"sans-serif\" font-size=\"12\" font-style=\"italic\" lengthAdjust=\"spacingAndGlyphs\" textLength=\"68\" x=\"286\" y=\"304.1387\">«part  def»</text><text fill=\"#000000\" font-family=\"sans-serif\" font-size=\"12\" lengthAdjust=\"spacingAndGlyphs\" textLength=\"8\" x=\"316\" y=\"318.1074\">B</text><line style=\"stroke: #383838; stroke-width: 1.5;\" x1=\"286\" x2=\"354\" y1=\"325.9375\" y2=\"325.9375\"/></a><!--MD5=[96f4274e9e20536e775497830990834d]\n",
       "class E10--><a href=\"psysml:aa943bbf-59d6-4c08-9403-21388691ca57\" target=\"_top\" title=\"psysml:aa943bbf-59d6-4c08-9403-21388691ca57\" xlink:actuate=\"onRequest\" xlink:href=\"psysml:aa943bbf-59d6-4c08-9403-21388691ca57\" xlink:show=\"new\" xlink:title=\"psysml:aa943bbf-59d6-4c08-9403-21388691ca57\" xlink:type=\"simple\"><rect fill=\"#FFFFFF\" height=\"45.9375\" id=\"E10\" rx=\"10\" ry=\"10\" style=\"stroke: #383838; stroke-width: 1.5;\" width=\"42\" x=\"80\" y=\"110\"/><text fill=\"#000000\" font-family=\"sans-serif\" font-size=\"12\" font-style=\"italic\" lengthAdjust=\"spacingAndGlyphs\" textLength=\"40\" x=\"81\" y=\"126.1387\">«part»</text><text fill=\"#000000\" font-family=\"sans-serif\" font-size=\"12\" lengthAdjust=\"spacingAndGlyphs\" textLength=\"29\" x=\"84.5\" y=\"140.1074\">z1: A</text><line style=\"stroke: #383838; stroke-width: 1.5;\" x1=\"81\" x2=\"121\" y1=\"147.9375\" y2=\"147.9375\"/></a><!--MD5=[185131fc0dcab0a4505a2ebe144e961b]\n",
       "link E4 to E2--><a href=\"psysml:113e6c15-2e9f-43c2-9a8b-f1023998ecb3\" target=\"_top\" title=\"psysml:113e6c15-2e9f-43c2-9a8b-f1023998ecb3\" xlink:actuate=\"onRequest\" xlink:href=\"psysml:113e6c15-2e9f-43c2-9a8b-f1023998ecb3\" xlink:show=\"new\" xlink:title=\"psysml:113e6c15-2e9f-43c2-9a8b-f1023998ecb3\" xlink:type=\"simple\"><path d=\"M339.13,193.61 C365.93,193.03 417.915,191.905 463.8013,190.9113 C469.537,190.787 475.1775,190.6649 480.6616,190.5461 C483.4037,190.4867 486.1066,190.4281 488.7628,190.3706 C490.0909,190.3418 491.4074,190.3133 492.7111,190.285 C493.0371,190.278 493.3622,190.2709 493.6866,190.2639 \" fill=\"none\" id=\"E4-&gt;E2\" style=\"stroke: #383838; stroke-width: 1.0; stroke-dasharray: 7.0,7.0;\"/><polygon fill=\"#383838\" points=\"493.6866,190.2639,484.602,186.4598,488.6878,190.3722,484.7753,194.4579,493.6866,190.2639\" style=\"stroke: #383838; stroke-width: 1.0;\"/><text fill=\"#000000\" font-family=\"sans-serif\" font-size=\"13\" lengthAdjust=\"spacingAndGlyphs\" textLength=\"65\" x=\"404\" y=\"187.0669\">«import»*</text></a><!--MD5=[e9be52314489bd878ff4c7144b63c9e1]\n",
       "link E5 to E3--><a href=\"psysml:2e030f48-ed8d-4fbc-a256-8117ac7131ec\" target=\"_top\" title=\"psysml:2e030f48-ed8d-4fbc-a256-8117ac7131ec\" xlink:actuate=\"onRequest\" xlink:href=\"psysml:2e030f48-ed8d-4fbc-a256-8117ac7131ec\" xlink:show=\"new\" xlink:title=\"psysml:2e030f48-ed8d-4fbc-a256-8117ac7131ec\" xlink:type=\"simple\"><path d=\"M341.1,77.13 C375.75,85.98 447.85,104.4 498.05,117.22 \" fill=\"none\" id=\"E5-&gt;E3\" style=\"stroke: #383838; stroke-width: 1.0;\"/><polygon fill=\"#FFFFFF\" points=\"517.72,122.24,497.5781,124.3147,501.0465,110.7512,517.72,122.24\" style=\"stroke: #383838; stroke-width: 1.0;\"/><ellipse cx=\"492.5513\" cy=\"120.965\" fill=\"#383838\" rx=\"2\" ry=\"2\" style=\"stroke: #383838; stroke-width: 1.0;\"/><ellipse cx=\"495.0287\" cy=\"111.2767\" fill=\"#383838\" rx=\"2\" ry=\"2\" style=\"stroke: #383838; stroke-width: 1.0;\"/></a><!--MD5=[ee384bb554873b72f85793eae40e290c]\n",
       "link E1 to E4--><a href=\"psysml:a039409c-dc44-4261-a761-133767375f35\" target=\"_top\" title=\"psysml:a039409c-dc44-4261-a761-133767375f35\" xlink:actuate=\"onRequest\" xlink:href=\"psysml:a039409c-dc44-4261-a761-133767375f35\" xlink:show=\"new\" xlink:title=\"psysml:a039409c-dc44-4261-a761-133767375f35\" xlink:type=\"simple\"><path d=\"M102.12,417.03 C104.51,417.62 143.03,426.87 162,409 C175.52,396.27 162.3,384.89 170,368 C192.47,318.74 209.66,313.02 245,272 C261.85,252.44 282.09,231.26 297.14,215.91 \" fill=\"none\" id=\"E1-&gt;E4\" style=\"stroke: #383838; stroke-width: 1.0; stroke-dasharray: 7.0,7.0;\"/><polygon fill=\"#383838\" points=\"300.84,212.13,291.6764,215.7395,297.3331,215.6939,297.3787,221.3506,300.84,212.13\" style=\"stroke: #383838; stroke-width: 1.0;\"/><text fill=\"#000000\" font-family=\"sans-serif\" font-size=\"13\" lengthAdjust=\"spacingAndGlyphs\" textLength=\"65\" x=\"171\" y=\"278.0669\">«import»*</text></a><!--MD5=[ccbd3af71bf83df0ec2a2db62d6d7130]\n",
       "link E1 to E6--><a href=\"psysml:8872cc02-851e-450c-b3e8-f90f2e3db770\" target=\"_top\" title=\"psysml:8872cc02-851e-450c-b3e8-f90f2e3db770\" xlink:actuate=\"onRequest\" xlink:href=\"psysml:8872cc02-851e-450c-b3e8-f90f2e3db770\" xlink:show=\"new\" xlink:title=\"psysml:8872cc02-851e-450c-b3e8-f90f2e3db770\" xlink:type=\"simple\"><path d=\"M102.1,416.99 C104.09,416.82 136.41,413.95 162,409 C196.795,402.27 235.3725,392.475 265.58,384.2625 C273.1319,382.2094 280.1606,380.2552 286.4764,378.4725 C288.0553,378.0268 289.5897,377.5918 291.0765,377.1687 C291.2624,377.1158 291.4475,377.0631 291.6319,377.0106 \" fill=\"none\" id=\"E1-&gt;E6\" style=\"stroke: #383838; stroke-width: 1.0; stroke-dasharray: 7.0,7.0;\"/><polygon fill=\"#383838\" points=\"291.6319,377.0106,281.8804,375.6292,286.8231,378.3804,284.0719,383.3231,291.6319,377.0106\" style=\"stroke: #383838; stroke-width: 1.0;\"/><text fill=\"#000000\" font-family=\"sans-serif\" font-size=\"13\" lengthAdjust=\"spacingAndGlyphs\" textLength=\"65\" x=\"171\" y=\"389.0669\">«import»*</text></a><!--MD5=[bfa3c8b0d15052fdf50ae9310b491027]\n",
       "link E8 to E7--><a href=\"psysml:0934d2d2-1a49-4ac4-b6c0-cd8fa5ea19dd\" target=\"_top\" title=\"psysml:0934d2d2-1a49-4ac4-b6c0-cd8fa5ea19dd\" xlink:actuate=\"onRequest\" xlink:href=\"psysml:0934d2d2-1a49-4ac4-b6c0-cd8fa5ea19dd\" xlink:show=\"new\" xlink:title=\"psysml:0934d2d2-1a49-4ac4-b6c0-cd8fa5ea19dd\" xlink:type=\"simple\"><path d=\"M122.13,302.67 C148.51,303.57 196.23,305.25 237,307 C245.93,307.38 255.41,307.82 264.63,308.26 \" fill=\"none\" id=\"E8-&gt;E7\" style=\"stroke: #383838; stroke-width: 1.0;\"/><polygon fill=\"#FFFFFF\" points=\"284.69,309.24,265.3724,315.3086,266.0525,301.3252,284.69,309.24\" style=\"stroke: #383838; stroke-width: 1.0;\"/><ellipse cx=\"259.7763\" cy=\"313.0341\" fill=\"#383838\" rx=\"2\" ry=\"2\" style=\"stroke: #383838; stroke-width: 1.0;\"/><ellipse cx=\"260.2621\" cy=\"303.0459\" fill=\"#383838\" rx=\"2\" ry=\"2\" style=\"stroke: #383838; stroke-width: 1.0;\"/></a><!--MD5=[c2be97adba6ddfe1c8f349fab141c927]\n",
       "link E9 to E4--><a href=\"psysml:f0473cf2-6b9f-40e7-98be-e0cb9d304d8b\" target=\"_top\" title=\"psysml:f0473cf2-6b9f-40e7-98be-e0cb9d304d8b\" xlink:actuate=\"onRequest\" xlink:href=\"psysml:f0473cf2-6b9f-40e7-98be-e0cb9d304d8b\" xlink:show=\"new\" xlink:title=\"psysml:f0473cf2-6b9f-40e7-98be-e0cb9d304d8b\" xlink:type=\"simple\"><path d=\"M146.1613,191.6091 C146.7061,191.6167 147.2543,191.6243 147.8058,191.6319 C148.9087,191.6472 150.0248,191.6627 151.1532,191.6783 C160.1809,191.8035 170.0003,191.9397 180.2088,192.0813 C221.0425,192.6475 268.1,193.3 295.6,193.68 \" fill=\"none\" id=\"E9-&gt;E4\" style=\"stroke: #383838; stroke-width: 1.0; stroke-dasharray: 7.0,7.0;\"/><polygon fill=\"#383838\" points=\"300.67,193.75,291.7281,189.6218,295.6705,193.6786,291.6138,197.621,300.67,193.75\" style=\"stroke: #383838; stroke-width: 1.0;\"/><text fill=\"#000000\" font-family=\"sans-serif\" font-size=\"13\" lengthAdjust=\"spacingAndGlyphs\" textLength=\"65\" x=\"171\" y=\"188.0669\">«import»*</text></a><!--MD5=[feeac5eb423634930294aa81f2d25a4c]\n",
       "link E10 to E3--><a href=\"psysml:6083fff7-7e2a-4a1f-b6e0-00602bace9f4\" target=\"_top\" title=\"psysml:6083fff7-7e2a-4a1f-b6e0-00602bace9f4\" xlink:actuate=\"onRequest\" xlink:href=\"psysml:6083fff7-7e2a-4a1f-b6e0-00602bace9f4\" xlink:show=\"new\" xlink:title=\"psysml:6083fff7-7e2a-4a1f-b6e0-00602bace9f4\" xlink:type=\"simple\"><path d=\"M122.21,132.91 C188.01,132.62 397.64,131.69 497.76,131.24 \" fill=\"none\" id=\"E10-&gt;E3\" style=\"stroke: #383838; stroke-width: 1.0;\"/><polygon fill=\"#FFFFFF\" points=\"517.93,131.15,498.9602,138.2314,498.9002,124.2315,517.93,131.15\" style=\"stroke: #383838; stroke-width: 1.0;\"/><ellipse cx=\"493.2517\" cy=\"136.2558\" fill=\"#383838\" rx=\"2\" ry=\"2\" style=\"stroke: #383838; stroke-width: 1.0;\"/><ellipse cx=\"493.2088\" cy=\"126.2559\" fill=\"#383838\" rx=\"2\" ry=\"2\" style=\"stroke: #383838; stroke-width: 1.0;\"/></a><!--MD5=[4d22d67e45bd4dc300f1c28de926e5fd]\n",
       "@startuml\r\n",
       "left to right direction\r\n",
       "skinparam monochrome true\r\n",
       "skinparam classbackgroundcolor white\r\n",
       "skinparam shadowing false\r\n",
       "skinparam wrapWidth 300\r\n",
       "hide circle\r\n",
       "\r\n",
       "package \"PrivateImportTest\" as E1  [[psysml:56a08668-af7c-402b-8ea6-0ffeccd2e906 ]]  {\r\n",
       "package \"P1\" as E2  [[psysml:989134c5-5272-479d-a43e-5e5573119e0c ]]  {\r\n",
       "comp def \"A\" as E3  <<(T,blue) part  def>> [[psysml:1f011377-ef65-4253-92ff-be4f522feeb1 ]] {\r\n",
       "}\r\n",
       "}\r\n",
       "package \"P2\" as E4  [[psysml:7d907640-2982-4506-b0ab-4e4fe8a9afec ]]  {\r\n",
       "}\r\n",
       "comp usage \"x: A \" as E5  <<(T,blue) part>> [[psysml:4755439e-6dab-436e-bf4a-d220bd8663ba ]] {\r\n",
       "}\r\n",
       "package \"P3\" as E6  [[psysml:90563c83-8b6e-4371-ac3b-36c1983fe7e9 ]]  {\r\n",
       "comp def \"B\" as E7  <<(T,blue) part  def>> [[psysml:bdb8801b-74e6-41c7-b5f1-114cae898237 ]] {\r\n",
       "}\r\n",
       "}\r\n",
       "comp usage \"z: B \" as E8  <<(T,blue) part>> [[psysml:dfc306bc-28cd-4074-8d12-696a322e5955 ]] {\r\n",
       "}\r\n",
       "package \"P4\" as E9  [[psysml:2733cc0d-ab4e-4acc-aaf2-0d4d1c16697a ]]  {\r\n",
       "comp usage \"z1: A \" as E10  <<(T,blue) part>> [[psysml:aa943bbf-59d6-4c08-9403-21388691ca57 ]] {\r\n",
       "}\r\n",
       "}\r\n",
       "}\r\n",
       "E4 ..> E2 [[psysml:113e6c15-2e9f-43c2-9a8b-f1023998ecb3 ]] : <<import>>*\r\n",
       "E5 - -:|> E3 [[psysml:2e030f48-ed8d-4fbc-a256-8117ac7131ec ]] \r\n",
       "E1 ..> E4 [[psysml:a039409c-dc44-4261-a761-133767375f35 ]] : <<import>>*\r\n",
       "E1 ..> E6 [[psysml:8872cc02-851e-450c-b3e8-f90f2e3db770 ]] : <<import>>*\r\n",
       "E8 - -:|> E7 [[psysml:0934d2d2-1a49-4ac4-b6c0-cd8fa5ea19dd ]] \r\n",
       "E9 ..> E4 [[psysml:f0473cf2-6b9f-40e7-98be-e0cb9d304d8b ]] : <<import>>*\r\n",
       "E10 - -:|> E3 [[psysml:6083fff7-7e2a-4a1f-b6e0-00602bace9f4 ]] \r\n",
       "@enduml\r\n",
       "\n",
       "PlantUML version 1.2020.13(Sat Jun 13 12:26:38 UTC 2020)\n",
       "(EPL source distribution)\n",
       "Java Runtime: OpenJDK Runtime Environment\n",
       "JVM: OpenJDK 64-Bit Server VM\n",
       "Default Encoding: UTF-8\n",
       "Language: en\n",
       "Country: null\n",
       "--></g></svg>"
      ]
     },
     "execution_count": 16,
     "metadata": {},
     "output_type": "execute_result"
    }
   ],
   "source": [
    "%viz --style=\"LR\" --view=\"Default\" \"PrivateImportTest\""
   ]
  },
  {
   "cell_type": "code",
   "execution_count": 17,
   "id": "60b11622",
   "metadata": {
    "execution": {
     "iopub.execute_input": "2022-02-18T10:48:46.070268Z",
     "iopub.status.busy": "2022-02-18T10:48:46.069796Z",
     "iopub.status.idle": "2022-02-18T10:48:46.113693Z",
     "shell.execute_reply": "2022-02-18T10:48:46.113171Z"
    }
   },
   "outputs": [
    {
     "data": {
      "image/svg+xml": [
       "<?xml version=\"1.0\" encoding=\"UTF-8\" standalone=\"no\"?><svg xmlns=\"http://www.w3.org/2000/svg\" xmlns:xlink=\"http://www.w3.org/1999/xlink\" contentScriptType=\"application/ecmascript\" contentStyleType=\"text/css\" height=\"438px\" preserveAspectRatio=\"none\" style=\"width:674px;height:438px;\" version=\"1.1\" viewBox=\"0 0 674 438\" width=\"674px\" zoomAndPan=\"magnify\"><defs/><g><!--MD5=[fbc87193dbaf4d95561dea2c320d4a47]\n",
       "cluster E1--><a href=\"psysml:56a08668-af7c-402b-8ea6-0ffeccd2e906\" target=\"_top\" title=\"psysml:56a08668-af7c-402b-8ea6-0ffeccd2e906\" xlink:actuate=\"onRequest\" xlink:href=\"psysml:56a08668-af7c-402b-8ea6-0ffeccd2e906\" xlink:show=\"new\" xlink:title=\"psysml:56a08668-af7c-402b-8ea6-0ffeccd2e906\" xlink:type=\"simple\"><polygon fill=\"#FFFFFF\" points=\"16,6,143,6,150,28.2969,652,28.2969,652,425,16,425,16,6\" style=\"stroke: #000000; stroke-width: 1.5;\"/><line style=\"stroke: #000000; stroke-width: 1.5;\" x1=\"16\" x2=\"150\" y1=\"28.2969\" y2=\"28.2969\"/><text fill=\"#000000\" font-family=\"sans-serif\" font-size=\"14\" font-weight=\"bold\" lengthAdjust=\"spacingAndGlyphs\" textLength=\"121\" x=\"20\" y=\"20.9951\">PrivateImportTest</text></a><!--MD5=[e4f7fae6ed58524ba242bb0b0d3be6b7]\n",
       "cluster E2--><a href=\"psysml:989134c5-5272-479d-a43e-5e5573119e0c\" target=\"_top\" title=\"psysml:989134c5-5272-479d-a43e-5e5573119e0c\" xlink:actuate=\"onRequest\" xlink:href=\"psysml:989134c5-5272-479d-a43e-5e5573119e0c\" xlink:show=\"new\" xlink:title=\"psysml:989134c5-5272-479d-a43e-5e5573119e0c\" xlink:type=\"simple\"><polygon fill=\"#FFFFFF\" points=\"494,65,518,65,525,87.2969,612,87.2969,612,197,494,197,494,65\" style=\"stroke: #000000; stroke-width: 1.5;\"/><line style=\"stroke: #000000; stroke-width: 1.5;\" x1=\"494\" x2=\"525\" y1=\"87.2969\" y2=\"87.2969\"/><text fill=\"#000000\" font-family=\"sans-serif\" font-size=\"14\" font-weight=\"bold\" lengthAdjust=\"spacingAndGlyphs\" textLength=\"18\" x=\"498\" y=\"79.9951\">P1</text></a><!--MD5=[14e3b0961a2654348d326746436168a1]\n",
       "cluster E6--><a href=\"psysml:90563c83-8b6e-4371-ac3b-36c1983fe7e9\" target=\"_top\" title=\"psysml:90563c83-8b6e-4371-ac3b-36c1983fe7e9\" xlink:actuate=\"onRequest\" xlink:href=\"psysml:90563c83-8b6e-4371-ac3b-36c1983fe7e9\" xlink:show=\"new\" xlink:title=\"psysml:90563c83-8b6e-4371-ac3b-36c1983fe7e9\" xlink:type=\"simple\"><polygon fill=\"#FFFFFF\" points=\"261,245,285,245,292,267.2969,379,267.2969,379,377,261,377,261,245\" style=\"stroke: #000000; stroke-width: 1.5;\"/><line style=\"stroke: #000000; stroke-width: 1.5;\" x1=\"261\" x2=\"292\" y1=\"267.2969\" y2=\"267.2969\"/><text fill=\"#000000\" font-family=\"sans-serif\" font-size=\"14\" font-weight=\"bold\" lengthAdjust=\"spacingAndGlyphs\" textLength=\"18\" x=\"265\" y=\"259.9951\">P3</text></a><!--MD5=[7f149f147074ac12df2cb0a7728a5fb0]\n",
       "cluster E9--><a href=\"psysml:2733cc0d-ab4e-4acc-aaf2-0d4d1c16697a\" target=\"_top\" title=\"psysml:2733cc0d-ab4e-4acc-aaf2-0d4d1c16697a\" xlink:actuate=\"onRequest\" xlink:href=\"psysml:2733cc0d-ab4e-4acc-aaf2-0d4d1c16697a\" xlink:show=\"new\" xlink:title=\"psysml:2733cc0d-ab4e-4acc-aaf2-0d4d1c16697a\" xlink:type=\"simple\"><polygon fill=\"#FFFFFF\" points=\"56,67,80,67,87,89.2969,146,89.2969,146,199,56,199,56,67\" style=\"stroke: #000000; stroke-width: 1.5;\"/><line style=\"stroke: #000000; stroke-width: 1.5;\" x1=\"56\" x2=\"87\" y1=\"89.2969\" y2=\"89.2969\"/><text fill=\"#000000\" font-family=\"sans-serif\" font-size=\"14\" font-weight=\"bold\" lengthAdjust=\"spacingAndGlyphs\" textLength=\"18\" x=\"60\" y=\"81.9951\">P4</text></a><!--MD5=[270fce915f116d4de14055a7c1d9a0f3]\n",
       "class E5--><a href=\"psysml:4755439e-6dab-436e-bf4a-d220bd8663ba\" target=\"_top\" title=\"psysml:4755439e-6dab-436e-bf4a-d220bd8663ba\" xlink:actuate=\"onRequest\" xlink:href=\"psysml:4755439e-6dab-436e-bf4a-d220bd8663ba\" xlink:show=\"new\" xlink:title=\"psysml:4755439e-6dab-436e-bf4a-d220bd8663ba\" xlink:type=\"simple\"><rect fill=\"#FFFFFF\" height=\"45.9375\" id=\"E5\" rx=\"10\" ry=\"10\" style=\"stroke: #383838; stroke-width: 1.5;\" width=\"42\" x=\"299\" y=\"49\"/><text fill=\"#000000\" font-family=\"sans-serif\" font-size=\"12\" font-style=\"italic\" lengthAdjust=\"spacingAndGlyphs\" textLength=\"40\" x=\"300\" y=\"65.1387\">«part»</text><text fill=\"#000000\" font-family=\"sans-serif\" font-size=\"12\" lengthAdjust=\"spacingAndGlyphs\" textLength=\"22\" x=\"307\" y=\"79.1074\">x: A</text><line style=\"stroke: #383838; stroke-width: 1.5;\" x1=\"300\" x2=\"340\" y1=\"86.9375\" y2=\"86.9375\"/></a><!--MD5=[b9389687b975829384b498ac4b7476b2]\n",
       "class E8--><a href=\"psysml:dfc306bc-28cd-4074-8d12-696a322e5955\" target=\"_top\" title=\"psysml:dfc306bc-28cd-4074-8d12-696a322e5955\" xlink:actuate=\"onRequest\" xlink:href=\"psysml:dfc306bc-28cd-4074-8d12-696a322e5955\" xlink:show=\"new\" xlink:title=\"psysml:dfc306bc-28cd-4074-8d12-696a322e5955\" xlink:type=\"simple\"><rect fill=\"#FFFFFF\" height=\"45.9375\" id=\"E8\" rx=\"10\" ry=\"10\" style=\"stroke: #383838; stroke-width: 1.5;\" width=\"42\" x=\"80\" y=\"279\"/><text fill=\"#000000\" font-family=\"sans-serif\" font-size=\"12\" font-style=\"italic\" lengthAdjust=\"spacingAndGlyphs\" textLength=\"40\" x=\"81\" y=\"295.1387\">«part»</text><text fill=\"#000000\" font-family=\"sans-serif\" font-size=\"12\" lengthAdjust=\"spacingAndGlyphs\" textLength=\"21\" x=\"88.5\" y=\"309.1074\">z: B</text><line style=\"stroke: #383838; stroke-width: 1.5;\" x1=\"81\" x2=\"121\" y1=\"316.9375\" y2=\"316.9375\"/></a><!--MD5=[09b614a08d8cba4a07c9adeb5e0fee81]\n",
       "class E3--><a href=\"psysml:1f011377-ef65-4253-92ff-be4f522feeb1\" target=\"_top\" title=\"psysml:1f011377-ef65-4253-92ff-be4f522feeb1\" xlink:actuate=\"onRequest\" xlink:href=\"psysml:1f011377-ef65-4253-92ff-be4f522feeb1\" xlink:show=\"new\" xlink:title=\"psysml:1f011377-ef65-4253-92ff-be4f522feeb1\" xlink:type=\"simple\"><rect fill=\"#FFFFFF\" height=\"45.9375\" id=\"E3\" style=\"stroke: #383838; stroke-width: 1.5;\" width=\"70\" x=\"518\" y=\"108\"/><text fill=\"#000000\" font-family=\"sans-serif\" font-size=\"12\" font-style=\"italic\" lengthAdjust=\"spacingAndGlyphs\" textLength=\"68\" x=\"519\" y=\"124.1387\">«part  def»</text><text fill=\"#000000\" font-family=\"sans-serif\" font-size=\"12\" lengthAdjust=\"spacingAndGlyphs\" textLength=\"8\" x=\"549\" y=\"138.1074\">A</text><line style=\"stroke: #383838; stroke-width: 1.5;\" x1=\"519\" x2=\"587\" y1=\"145.9375\" y2=\"145.9375\"/></a><a href=\"psysml:7d907640-2982-4506-b0ab-4e4fe8a9afec\" target=\"_top\" title=\"psysml:7d907640-2982-4506-b0ab-4e4fe8a9afec\" xlink:actuate=\"onRequest\" xlink:href=\"psysml:7d907640-2982-4506-b0ab-4e4fe8a9afec\" xlink:show=\"new\" xlink:title=\"psysml:7d907640-2982-4506-b0ab-4e4fe8a9afec\" xlink:type=\"simple\"><polygon fill=\"#FFFFFF\" points=\"301,167.5,325,167.5,332,189.7969,339,189.7969,339,220.0938,301,220.0938,301,167.5\" style=\"stroke: #000000; stroke-width: 1.5;\"/><line style=\"stroke: #000000; stroke-width: 1.5;\" x1=\"301\" x2=\"332\" y1=\"189.7969\" y2=\"189.7969\"/><text fill=\"#000000\" font-family=\"sans-serif\" font-size=\"14\" font-weight=\"bold\" lengthAdjust=\"spacingAndGlyphs\" textLength=\"18\" x=\"305\" y=\"182.4951\">P2</text></a><!--MD5=[2156ba9850f5573cc1fc38a6a4b2f02b]\n",
       "class E7--><a href=\"psysml:bdb8801b-74e6-41c7-b5f1-114cae898237\" target=\"_top\" title=\"psysml:bdb8801b-74e6-41c7-b5f1-114cae898237\" xlink:actuate=\"onRequest\" xlink:href=\"psysml:bdb8801b-74e6-41c7-b5f1-114cae898237\" xlink:show=\"new\" xlink:title=\"psysml:bdb8801b-74e6-41c7-b5f1-114cae898237\" xlink:type=\"simple\"><rect fill=\"#FFFFFF\" height=\"45.9375\" id=\"E7\" style=\"stroke: #383838; stroke-width: 1.5;\" width=\"70\" x=\"285\" y=\"288\"/><text fill=\"#000000\" font-family=\"sans-serif\" font-size=\"12\" font-style=\"italic\" lengthAdjust=\"spacingAndGlyphs\" textLength=\"68\" x=\"286\" y=\"304.1387\">«part  def»</text><text fill=\"#000000\" font-family=\"sans-serif\" font-size=\"12\" lengthAdjust=\"spacingAndGlyphs\" textLength=\"8\" x=\"316\" y=\"318.1074\">B</text><line style=\"stroke: #383838; stroke-width: 1.5;\" x1=\"286\" x2=\"354\" y1=\"325.9375\" y2=\"325.9375\"/></a><!--MD5=[96f4274e9e20536e775497830990834d]\n",
       "class E10--><a href=\"psysml:aa943bbf-59d6-4c08-9403-21388691ca57\" target=\"_top\" title=\"psysml:aa943bbf-59d6-4c08-9403-21388691ca57\" xlink:actuate=\"onRequest\" xlink:href=\"psysml:aa943bbf-59d6-4c08-9403-21388691ca57\" xlink:show=\"new\" xlink:title=\"psysml:aa943bbf-59d6-4c08-9403-21388691ca57\" xlink:type=\"simple\"><rect fill=\"#FFFFFF\" height=\"45.9375\" id=\"E10\" rx=\"10\" ry=\"10\" style=\"stroke: #383838; stroke-width: 1.5;\" width=\"42\" x=\"80\" y=\"110\"/><text fill=\"#000000\" font-family=\"sans-serif\" font-size=\"12\" font-style=\"italic\" lengthAdjust=\"spacingAndGlyphs\" textLength=\"40\" x=\"81\" y=\"126.1387\">«part»</text><text fill=\"#000000\" font-family=\"sans-serif\" font-size=\"12\" lengthAdjust=\"spacingAndGlyphs\" textLength=\"29\" x=\"84.5\" y=\"140.1074\">z1: A</text><line style=\"stroke: #383838; stroke-width: 1.5;\" x1=\"81\" x2=\"121\" y1=\"147.9375\" y2=\"147.9375\"/></a><!--MD5=[185131fc0dcab0a4505a2ebe144e961b]\n",
       "link E4 to E2--><a href=\"psysml:113e6c15-2e9f-43c2-9a8b-f1023998ecb3\" target=\"_top\" title=\"psysml:113e6c15-2e9f-43c2-9a8b-f1023998ecb3\" xlink:actuate=\"onRequest\" xlink:href=\"psysml:113e6c15-2e9f-43c2-9a8b-f1023998ecb3\" xlink:show=\"new\" xlink:title=\"psysml:113e6c15-2e9f-43c2-9a8b-f1023998ecb3\" xlink:type=\"simple\"><path d=\"M339.13,193.61 C365.93,193.03 417.915,191.905 463.8013,190.9113 C469.537,190.787 475.1775,190.6649 480.6616,190.5461 C483.4037,190.4867 486.1066,190.4281 488.7628,190.3706 C490.0909,190.3418 491.4074,190.3133 492.7111,190.285 C493.0371,190.278 493.3622,190.2709 493.6866,190.2639 \" fill=\"none\" id=\"E4-&gt;E2\" style=\"stroke: #383838; stroke-width: 1.0; stroke-dasharray: 7.0,7.0;\"/><polygon fill=\"#383838\" points=\"493.6866,190.2639,484.602,186.4598,488.6878,190.3722,484.7753,194.4579,493.6866,190.2639\" style=\"stroke: #383838; stroke-width: 1.0;\"/><text fill=\"#000000\" font-family=\"sans-serif\" font-size=\"13\" lengthAdjust=\"spacingAndGlyphs\" textLength=\"65\" x=\"404\" y=\"187.0669\">«import»*</text></a><!--MD5=[e9be52314489bd878ff4c7144b63c9e1]\n",
       "link E5 to E3--><a href=\"psysml:2e030f48-ed8d-4fbc-a256-8117ac7131ec\" target=\"_top\" title=\"psysml:2e030f48-ed8d-4fbc-a256-8117ac7131ec\" xlink:actuate=\"onRequest\" xlink:href=\"psysml:2e030f48-ed8d-4fbc-a256-8117ac7131ec\" xlink:show=\"new\" xlink:title=\"psysml:2e030f48-ed8d-4fbc-a256-8117ac7131ec\" xlink:type=\"simple\"><path d=\"M341.1,77.13 C375.75,85.98 447.85,104.4 498.05,117.22 \" fill=\"none\" id=\"E5-&gt;E3\" style=\"stroke: #383838; stroke-width: 1.0;\"/><polygon fill=\"#FFFFFF\" points=\"517.72,122.24,497.5781,124.3147,501.0465,110.7512,517.72,122.24\" style=\"stroke: #383838; stroke-width: 1.0;\"/><ellipse cx=\"492.5513\" cy=\"120.965\" fill=\"#383838\" rx=\"2\" ry=\"2\" style=\"stroke: #383838; stroke-width: 1.0;\"/><ellipse cx=\"495.0287\" cy=\"111.2767\" fill=\"#383838\" rx=\"2\" ry=\"2\" style=\"stroke: #383838; stroke-width: 1.0;\"/></a><!--MD5=[ee384bb554873b72f85793eae40e290c]\n",
       "link E1 to E4--><a href=\"psysml:a039409c-dc44-4261-a761-133767375f35\" target=\"_top\" title=\"psysml:a039409c-dc44-4261-a761-133767375f35\" xlink:actuate=\"onRequest\" xlink:href=\"psysml:a039409c-dc44-4261-a761-133767375f35\" xlink:show=\"new\" xlink:title=\"psysml:a039409c-dc44-4261-a761-133767375f35\" xlink:type=\"simple\"><path d=\"M102.12,417.03 C104.51,417.62 143.03,426.87 162,409 C175.52,396.27 162.3,384.89 170,368 C192.47,318.74 209.66,313.02 245,272 C261.85,252.44 282.09,231.26 297.14,215.91 \" fill=\"none\" id=\"E1-&gt;E4\" style=\"stroke: #383838; stroke-width: 1.0; stroke-dasharray: 7.0,7.0;\"/><polygon fill=\"#383838\" points=\"300.84,212.13,291.6764,215.7395,297.3331,215.6939,297.3787,221.3506,300.84,212.13\" style=\"stroke: #383838; stroke-width: 1.0;\"/><text fill=\"#000000\" font-family=\"sans-serif\" font-size=\"13\" lengthAdjust=\"spacingAndGlyphs\" textLength=\"65\" x=\"171\" y=\"278.0669\">«import»*</text></a><!--MD5=[ccbd3af71bf83df0ec2a2db62d6d7130]\n",
       "link E1 to E6--><a href=\"psysml:8872cc02-851e-450c-b3e8-f90f2e3db770\" target=\"_top\" title=\"psysml:8872cc02-851e-450c-b3e8-f90f2e3db770\" xlink:actuate=\"onRequest\" xlink:href=\"psysml:8872cc02-851e-450c-b3e8-f90f2e3db770\" xlink:show=\"new\" xlink:title=\"psysml:8872cc02-851e-450c-b3e8-f90f2e3db770\" xlink:type=\"simple\"><path d=\"M102.1,416.99 C104.09,416.82 136.41,413.95 162,409 C196.795,402.27 235.3725,392.475 265.58,384.2625 C273.1319,382.2094 280.1606,380.2552 286.4764,378.4725 C288.0553,378.0268 289.5897,377.5918 291.0765,377.1687 C291.2624,377.1158 291.4475,377.0631 291.6319,377.0106 \" fill=\"none\" id=\"E1-&gt;E6\" style=\"stroke: #383838; stroke-width: 1.0; stroke-dasharray: 7.0,7.0;\"/><polygon fill=\"#383838\" points=\"291.6319,377.0106,281.8804,375.6292,286.8231,378.3804,284.0719,383.3231,291.6319,377.0106\" style=\"stroke: #383838; stroke-width: 1.0;\"/><text fill=\"#000000\" font-family=\"sans-serif\" font-size=\"13\" lengthAdjust=\"spacingAndGlyphs\" textLength=\"65\" x=\"171\" y=\"389.0669\">«import»*</text></a><!--MD5=[bfa3c8b0d15052fdf50ae9310b491027]\n",
       "link E8 to E7--><a href=\"psysml:0934d2d2-1a49-4ac4-b6c0-cd8fa5ea19dd\" target=\"_top\" title=\"psysml:0934d2d2-1a49-4ac4-b6c0-cd8fa5ea19dd\" xlink:actuate=\"onRequest\" xlink:href=\"psysml:0934d2d2-1a49-4ac4-b6c0-cd8fa5ea19dd\" xlink:show=\"new\" xlink:title=\"psysml:0934d2d2-1a49-4ac4-b6c0-cd8fa5ea19dd\" xlink:type=\"simple\"><path d=\"M122.13,302.67 C148.51,303.57 196.23,305.25 237,307 C245.93,307.38 255.41,307.82 264.63,308.26 \" fill=\"none\" id=\"E8-&gt;E7\" style=\"stroke: #383838; stroke-width: 1.0;\"/><polygon fill=\"#FFFFFF\" points=\"284.69,309.24,265.3724,315.3086,266.0525,301.3252,284.69,309.24\" style=\"stroke: #383838; stroke-width: 1.0;\"/><ellipse cx=\"259.7763\" cy=\"313.0341\" fill=\"#383838\" rx=\"2\" ry=\"2\" style=\"stroke: #383838; stroke-width: 1.0;\"/><ellipse cx=\"260.2621\" cy=\"303.0459\" fill=\"#383838\" rx=\"2\" ry=\"2\" style=\"stroke: #383838; stroke-width: 1.0;\"/></a><!--MD5=[c2be97adba6ddfe1c8f349fab141c927]\n",
       "link E9 to E4--><a href=\"psysml:f0473cf2-6b9f-40e7-98be-e0cb9d304d8b\" target=\"_top\" title=\"psysml:f0473cf2-6b9f-40e7-98be-e0cb9d304d8b\" xlink:actuate=\"onRequest\" xlink:href=\"psysml:f0473cf2-6b9f-40e7-98be-e0cb9d304d8b\" xlink:show=\"new\" xlink:title=\"psysml:f0473cf2-6b9f-40e7-98be-e0cb9d304d8b\" xlink:type=\"simple\"><path d=\"M146.1613,191.6091 C146.7061,191.6167 147.2543,191.6243 147.8058,191.6319 C148.9087,191.6472 150.0248,191.6627 151.1532,191.6783 C160.1809,191.8035 170.0003,191.9397 180.2088,192.0813 C221.0425,192.6475 268.1,193.3 295.6,193.68 \" fill=\"none\" id=\"E9-&gt;E4\" style=\"stroke: #383838; stroke-width: 1.0; stroke-dasharray: 7.0,7.0;\"/><polygon fill=\"#383838\" points=\"300.67,193.75,291.7281,189.6218,295.6705,193.6786,291.6138,197.621,300.67,193.75\" style=\"stroke: #383838; stroke-width: 1.0;\"/><text fill=\"#000000\" font-family=\"sans-serif\" font-size=\"13\" lengthAdjust=\"spacingAndGlyphs\" textLength=\"65\" x=\"171\" y=\"188.0669\">«import»*</text></a><!--MD5=[feeac5eb423634930294aa81f2d25a4c]\n",
       "link E10 to E3--><a href=\"psysml:6083fff7-7e2a-4a1f-b6e0-00602bace9f4\" target=\"_top\" title=\"psysml:6083fff7-7e2a-4a1f-b6e0-00602bace9f4\" xlink:actuate=\"onRequest\" xlink:href=\"psysml:6083fff7-7e2a-4a1f-b6e0-00602bace9f4\" xlink:show=\"new\" xlink:title=\"psysml:6083fff7-7e2a-4a1f-b6e0-00602bace9f4\" xlink:type=\"simple\"><path d=\"M122.21,132.91 C188.01,132.62 397.64,131.69 497.76,131.24 \" fill=\"none\" id=\"E10-&gt;E3\" style=\"stroke: #383838; stroke-width: 1.0;\"/><polygon fill=\"#FFFFFF\" points=\"517.93,131.15,498.9602,138.2314,498.9002,124.2315,517.93,131.15\" style=\"stroke: #383838; stroke-width: 1.0;\"/><ellipse cx=\"493.2517\" cy=\"136.2558\" fill=\"#383838\" rx=\"2\" ry=\"2\" style=\"stroke: #383838; stroke-width: 1.0;\"/><ellipse cx=\"493.2088\" cy=\"126.2559\" fill=\"#383838\" rx=\"2\" ry=\"2\" style=\"stroke: #383838; stroke-width: 1.0;\"/></a><!--MD5=[4d22d67e45bd4dc300f1c28de926e5fd]\n",
       "@startuml\r\n",
       "left to right direction\r\n",
       "skinparam monochrome true\r\n",
       "skinparam classbackgroundcolor white\r\n",
       "skinparam shadowing false\r\n",
       "skinparam wrapWidth 300\r\n",
       "hide circle\r\n",
       "\r\n",
       "package \"PrivateImportTest\" as E1  [[psysml:56a08668-af7c-402b-8ea6-0ffeccd2e906 ]]  {\r\n",
       "package \"P1\" as E2  [[psysml:989134c5-5272-479d-a43e-5e5573119e0c ]]  {\r\n",
       "comp def \"A\" as E3  <<(T,blue) part  def>> [[psysml:1f011377-ef65-4253-92ff-be4f522feeb1 ]] {\r\n",
       "}\r\n",
       "}\r\n",
       "package \"P2\" as E4  [[psysml:7d907640-2982-4506-b0ab-4e4fe8a9afec ]]  {\r\n",
       "}\r\n",
       "comp usage \"x: A \" as E5  <<(T,blue) part>> [[psysml:4755439e-6dab-436e-bf4a-d220bd8663ba ]] {\r\n",
       "}\r\n",
       "package \"P3\" as E6  [[psysml:90563c83-8b6e-4371-ac3b-36c1983fe7e9 ]]  {\r\n",
       "comp def \"B\" as E7  <<(T,blue) part  def>> [[psysml:bdb8801b-74e6-41c7-b5f1-114cae898237 ]] {\r\n",
       "}\r\n",
       "}\r\n",
       "comp usage \"z: B \" as E8  <<(T,blue) part>> [[psysml:dfc306bc-28cd-4074-8d12-696a322e5955 ]] {\r\n",
       "}\r\n",
       "package \"P4\" as E9  [[psysml:2733cc0d-ab4e-4acc-aaf2-0d4d1c16697a ]]  {\r\n",
       "comp usage \"z1: A \" as E10  <<(T,blue) part>> [[psysml:aa943bbf-59d6-4c08-9403-21388691ca57 ]] {\r\n",
       "}\r\n",
       "}\r\n",
       "}\r\n",
       "E4 ..> E2 [[psysml:113e6c15-2e9f-43c2-9a8b-f1023998ecb3 ]] : <<import>>*\r\n",
       "E5 - -:|> E3 [[psysml:2e030f48-ed8d-4fbc-a256-8117ac7131ec ]] \r\n",
       "E1 ..> E4 [[psysml:a039409c-dc44-4261-a761-133767375f35 ]] : <<import>>*\r\n",
       "E1 ..> E6 [[psysml:8872cc02-851e-450c-b3e8-f90f2e3db770 ]] : <<import>>*\r\n",
       "E8 - -:|> E7 [[psysml:0934d2d2-1a49-4ac4-b6c0-cd8fa5ea19dd ]] \r\n",
       "E9 ..> E4 [[psysml:f0473cf2-6b9f-40e7-98be-e0cb9d304d8b ]] : <<import>>*\r\n",
       "E10 - -:|> E3 [[psysml:6083fff7-7e2a-4a1f-b6e0-00602bace9f4 ]] \r\n",
       "@enduml\r\n",
       "\n",
       "PlantUML version 1.2020.13(Sat Jun 13 12:26:38 UTC 2020)\n",
       "(EPL source distribution)\n",
       "Java Runtime: OpenJDK Runtime Environment\n",
       "JVM: OpenJDK 64-Bit Server VM\n",
       "Default Encoding: UTF-8\n",
       "Language: en\n",
       "Country: null\n",
       "--></g></svg>"
      ]
     },
     "execution_count": 17,
     "metadata": {},
     "output_type": "execute_result"
    }
   ],
   "source": [
    "%viz --style=\"LR\" --view=\"Tree\" \"PrivateImportTest\""
   ]
  },
  {
   "cell_type": "code",
   "execution_count": 18,
   "id": "e76b61da",
   "metadata": {
    "execution": {
     "iopub.execute_input": "2022-02-18T10:48:46.162416Z",
     "iopub.status.busy": "2022-02-18T10:48:46.162104Z",
     "iopub.status.idle": "2022-02-18T10:48:46.166507Z",
     "shell.execute_reply": "2022-02-18T10:48:46.166682Z"
    }
   },
   "outputs": [
    {
     "data": {
      "image/svg+xml": [
       "<?xml version=\"1.0\" encoding=\"UTF-8\" standalone=\"no\"?><svg xmlns=\"http://www.w3.org/2000/svg\" xmlns:xlink=\"http://www.w3.org/1999/xlink\" contentScriptType=\"application/ecmascript\" contentStyleType=\"text/css\" height=\"12px\" preserveAspectRatio=\"none\" style=\"width:12px;height:12px;\" version=\"1.1\" viewBox=\"0 0 12 12\" width=\"12px\" zoomAndPan=\"magnify\"><defs/><g><!--MD5=[19d285c9d72a204eba4e2cd117d745e8]\n",
       "@startuml\r\n",
       "left to right direction\r\n",
       "skinparam monochrome true\r\n",
       "skinparam classbackgroundcolor white\r\n",
       "skinparam shadowing false\r\n",
       "skinparam wrapWidth 300\r\n",
       "hide circle\r\n",
       "\r\n",
       "@enduml\r\n",
       "\n",
       "PlantUML version 1.2020.13(Sat Jun 13 12:26:38 UTC 2020)\n",
       "(EPL source distribution)\n",
       "Java Runtime: OpenJDK Runtime Environment\n",
       "JVM: OpenJDK 64-Bit Server VM\n",
       "Default Encoding: UTF-8\n",
       "Language: en\n",
       "Country: null\n",
       "--></g></svg>"
      ]
     },
     "execution_count": 18,
     "metadata": {},
     "output_type": "execute_result"
    }
   ],
   "source": [
    "%viz --style=\"LR\" --view=\"State\" \"PrivateImportTest\""
   ]
  },
  {
   "cell_type": "code",
   "execution_count": 19,
   "id": "2453f0c7",
   "metadata": {
    "execution": {
     "iopub.execute_input": "2022-02-18T10:48:46.217019Z",
     "iopub.status.busy": "2022-02-18T10:48:46.216761Z",
     "iopub.status.idle": "2022-02-18T10:48:46.255984Z",
     "shell.execute_reply": "2022-02-18T10:48:46.255484Z"
    }
   },
   "outputs": [
    {
     "data": {
      "image/svg+xml": [
       "<?xml version=\"1.0\" encoding=\"UTF-8\" standalone=\"no\"?><svg xmlns=\"http://www.w3.org/2000/svg\" xmlns:xlink=\"http://www.w3.org/1999/xlink\" contentScriptType=\"application/ecmascript\" contentStyleType=\"text/css\" height=\"610px\" preserveAspectRatio=\"none\" style=\"width:683px;height:610px;\" version=\"1.1\" viewBox=\"0 0 683 610\" width=\"683px\" zoomAndPan=\"magnify\"><defs/><g><!--MD5=[fbc87193dbaf4d95561dea2c320d4a47]\n",
       "cluster E1--><a href=\"psysml:56a08668-af7c-402b-8ea6-0ffeccd2e906\" target=\"_top\" title=\"psysml:56a08668-af7c-402b-8ea6-0ffeccd2e906\" xlink:actuate=\"onRequest\" xlink:href=\"psysml:56a08668-af7c-402b-8ea6-0ffeccd2e906\" xlink:show=\"new\" xlink:title=\"psysml:56a08668-af7c-402b-8ea6-0ffeccd2e906\" xlink:type=\"simple\"><polygon fill=\"#FFFFFF\" points=\"16,6,143,6,150,28.2969,661.72,28.2969,661.72,598,16,598,16,6\" style=\"stroke: #000000; stroke-width: 1.5;\"/><line style=\"stroke: #000000; stroke-width: 1.5;\" x1=\"16\" x2=\"150\" y1=\"28.2969\" y2=\"28.2969\"/><text fill=\"#000000\" font-family=\"sans-serif\" font-size=\"14\" font-weight=\"bold\" lengthAdjust=\"spacingAndGlyphs\" textLength=\"121\" x=\"20\" y=\"20.9951\">PrivateImportTest</text></a><!--MD5=[e4f7fae6ed58524ba242bb0b0d3be6b7]\n",
       "cluster E2--><a href=\"psysml:989134c5-5272-479d-a43e-5e5573119e0c\" target=\"_top\" title=\"psysml:989134c5-5272-479d-a43e-5e5573119e0c\" xlink:actuate=\"onRequest\" xlink:href=\"psysml:989134c5-5272-479d-a43e-5e5573119e0c\" xlink:show=\"new\" xlink:title=\"psysml:989134c5-5272-479d-a43e-5e5573119e0c\" xlink:type=\"simple\"><polygon fill=\"#FFFFFF\" points=\"498.72,318,522.72,318,529.72,340.2969,621.72,340.2969,621.72,448,498.72,448,498.72,318\" style=\"stroke: #000000; stroke-width: 1.5;\"/><line style=\"stroke: #000000; stroke-width: 1.5;\" x1=\"498.72\" x2=\"529.72\" y1=\"340.2969\" y2=\"340.2969\"/><text fill=\"#000000\" font-family=\"sans-serif\" font-size=\"14\" font-weight=\"bold\" lengthAdjust=\"spacingAndGlyphs\" textLength=\"18\" x=\"502.72\" y=\"332.9951\">P1</text></a><!--MD5=[14e3b0961a2654348d326746436168a1]\n",
       "cluster E6--><a href=\"psysml:90563c83-8b6e-4371-ac3b-36c1983fe7e9\" target=\"_top\" title=\"psysml:90563c83-8b6e-4371-ac3b-36c1983fe7e9\" xlink:actuate=\"onRequest\" xlink:href=\"psysml:90563c83-8b6e-4371-ac3b-36c1983fe7e9\" xlink:show=\"new\" xlink:title=\"psysml:90563c83-8b6e-4371-ac3b-36c1983fe7e9\" xlink:type=\"simple\"><polygon fill=\"#FFFFFF\" points=\"139.72,65,163.72,65,170.72,87.2969,262.72,87.2969,262.72,195,139.72,195,139.72,65\" style=\"stroke: #000000; stroke-width: 1.5;\"/><line style=\"stroke: #000000; stroke-width: 1.5;\" x1=\"139.72\" x2=\"170.72\" y1=\"87.2969\" y2=\"87.2969\"/><text fill=\"#000000\" font-family=\"sans-serif\" font-size=\"14\" font-weight=\"bold\" lengthAdjust=\"spacingAndGlyphs\" textLength=\"18\" x=\"143.72\" y=\"79.9951\">P3</text></a><!--MD5=[7f149f147074ac12df2cb0a7728a5fb0]\n",
       "cluster E9--><a href=\"psysml:2733cc0d-ab4e-4acc-aaf2-0d4d1c16697a\" target=\"_top\" title=\"psysml:2733cc0d-ab4e-4acc-aaf2-0d4d1c16697a\" xlink:actuate=\"onRequest\" xlink:href=\"psysml:2733cc0d-ab4e-4acc-aaf2-0d4d1c16697a\" xlink:show=\"new\" xlink:title=\"psysml:2733cc0d-ab4e-4acc-aaf2-0d4d1c16697a\" xlink:type=\"simple\"><polygon fill=\"#FFFFFF\" points=\"152.22,235,176.22,235,183.22,257.2969,250.22,257.2969,250.22,361,152.22,361,152.22,235\" style=\"stroke: #000000; stroke-width: 1.5;\"/><line style=\"stroke: #000000; stroke-width: 1.5;\" x1=\"152.22\" x2=\"183.22\" y1=\"257.2969\" y2=\"257.2969\"/><text fill=\"#000000\" font-family=\"sans-serif\" font-size=\"14\" font-weight=\"bold\" lengthAdjust=\"spacingAndGlyphs\" textLength=\"18\" x=\"156.22\" y=\"249.9951\">P4</text></a><g id=\"E1.E2.E3\"><a href=\"psysml:1f011377-ef65-4253-92ff-be4f522feeb1\" target=\"_top\" title=\"psysml:1f011377-ef65-4253-92ff-be4f522feeb1\" xlink:actuate=\"onRequest\" xlink:href=\"psysml:1f011377-ef65-4253-92ff-be4f522feeb1\" xlink:show=\"new\" xlink:title=\"psysml:1f011377-ef65-4253-92ff-be4f522feeb1\" xlink:type=\"simple\"><rect fill=\"#FFFFFF\" height=\"42.9375\" id=\"E3\" style=\"stroke: #383838; stroke-width: 1.5;\" width=\"75\" x=\"522.72\" y=\"361.5\"/><rect fill=\"#F8F8F8\" height=\"37.9375\" style=\"stroke: #383838; stroke-width: 1.5;\" width=\"75\" x=\"522.72\" y=\"361.5\"/><text fill=\"#000000\" font-family=\"sans-serif\" font-size=\"12\" font-style=\"italic\" lengthAdjust=\"spacingAndGlyphs\" textLength=\"68\" x=\"526.22\" y=\"377.6387\">«part  def»</text><text fill=\"#000000\" font-family=\"sans-serif\" font-size=\"12\" lengthAdjust=\"spacingAndGlyphs\" textLength=\"8\" x=\"556.22\" y=\"391.6074\">A</text></a></g><a href=\"psysml:7d907640-2982-4506-b0ab-4e4fe8a9afec\" target=\"_top\" title=\"psysml:7d907640-2982-4506-b0ab-4e4fe8a9afec\" xlink:actuate=\"onRequest\" xlink:href=\"psysml:7d907640-2982-4506-b0ab-4e4fe8a9afec\" xlink:show=\"new\" xlink:title=\"psysml:7d907640-2982-4506-b0ab-4e4fe8a9afec\" xlink:type=\"simple\"><polygon fill=\"#FFFFFF\" points=\"361.72,413.5,385.72,413.5,392.72,435.7969,399.72,435.7969,399.72,466.0938,361.72,466.0938,361.72,413.5\" style=\"stroke: #000000; stroke-width: 1.5;\"/><line style=\"stroke: #000000; stroke-width: 1.5;\" x1=\"361.72\" x2=\"392.72\" y1=\"435.7969\" y2=\"435.7969\"/><text fill=\"#000000\" font-family=\"sans-serif\" font-size=\"14\" font-weight=\"bold\" lengthAdjust=\"spacingAndGlyphs\" textLength=\"18\" x=\"365.72\" y=\"428.4951\">P2</text></a><g id=\"E1.E5\"><a href=\"psysml:4755439e-6dab-436e-bf4a-d220bd8663ba\" target=\"_top\" title=\"psysml:4755439e-6dab-436e-bf4a-d220bd8663ba\" xlink:actuate=\"onRequest\" xlink:href=\"psysml:4755439e-6dab-436e-bf4a-d220bd8663ba\" xlink:show=\"new\" xlink:title=\"psysml:4755439e-6dab-436e-bf4a-d220bd8663ba\" xlink:type=\"simple\"><rect fill=\"#FFFFFF\" height=\"40\" id=\"E5\" rx=\"10\" ry=\"10\" style=\"stroke: #383838; stroke-width: 1.5;\" width=\"50\" x=\"176.22\" y=\"388\"/><rect fill=\"#F8F8F8\" height=\"23.9688\" rx=\"10\" ry=\"10\" style=\"stroke: #F8F8F8; stroke-width: 1.5;\" width=\"50\" x=\"176.22\" y=\"388\"/><rect fill=\"#F8F8F8\" height=\"10\" style=\"stroke: #F8F8F8; stroke-width: 1.5;\" width=\"50\" x=\"176.22\" y=\"401.9688\"/><rect fill=\"none\" height=\"40\" id=\"E5\" rx=\"10\" ry=\"10\" style=\"stroke: #383838; stroke-width: 1.5;\" width=\"50\" x=\"176.22\" y=\"388\"/><text fill=\"#000000\" font-family=\"sans-serif\" font-size=\"12\" lengthAdjust=\"spacingAndGlyphs\" textLength=\"22\" x=\"190.22\" y=\"404.1387\">x: A</text></a></g><g id=\"E1.E6.E7\"><a href=\"psysml:bdb8801b-74e6-41c7-b5f1-114cae898237\" target=\"_top\" title=\"psysml:bdb8801b-74e6-41c7-b5f1-114cae898237\" xlink:actuate=\"onRequest\" xlink:href=\"psysml:bdb8801b-74e6-41c7-b5f1-114cae898237\" xlink:show=\"new\" xlink:title=\"psysml:bdb8801b-74e6-41c7-b5f1-114cae898237\" xlink:type=\"simple\"><rect fill=\"#FFFFFF\" height=\"42.9375\" id=\"E7\" style=\"stroke: #383838; stroke-width: 1.5;\" width=\"75\" x=\"163.72\" y=\"108.5\"/><rect fill=\"#F8F8F8\" height=\"37.9375\" style=\"stroke: #383838; stroke-width: 1.5;\" width=\"75\" x=\"163.72\" y=\"108.5\"/><text fill=\"#000000\" font-family=\"sans-serif\" font-size=\"12\" font-style=\"italic\" lengthAdjust=\"spacingAndGlyphs\" textLength=\"68\" x=\"167.22\" y=\"124.6387\">«part  def»</text><text fill=\"#000000\" font-family=\"sans-serif\" font-size=\"12\" lengthAdjust=\"spacingAndGlyphs\" textLength=\"8\" x=\"197.22\" y=\"138.6074\">B</text></a></g><g id=\"E1.E8\"><a href=\"psysml:dfc306bc-28cd-4074-8d12-696a322e5955\" target=\"_top\" title=\"psysml:dfc306bc-28cd-4074-8d12-696a322e5955\" xlink:actuate=\"onRequest\" xlink:href=\"psysml:dfc306bc-28cd-4074-8d12-696a322e5955\" xlink:show=\"new\" xlink:title=\"psysml:dfc306bc-28cd-4074-8d12-696a322e5955\" xlink:type=\"simple\"><rect fill=\"#FFFFFF\" height=\"40\" id=\"E8\" rx=\"10\" ry=\"10\" style=\"stroke: #383838; stroke-width: 1.5;\" width=\"50\" x=\"176.22\" y=\"463\"/><rect fill=\"#F8F8F8\" height=\"23.9688\" rx=\"10\" ry=\"10\" style=\"stroke: #F8F8F8; stroke-width: 1.5;\" width=\"50\" x=\"176.22\" y=\"463\"/><rect fill=\"#F8F8F8\" height=\"10\" style=\"stroke: #F8F8F8; stroke-width: 1.5;\" width=\"50\" x=\"176.22\" y=\"476.9688\"/><rect fill=\"none\" height=\"40\" id=\"E8\" rx=\"10\" ry=\"10\" style=\"stroke: #383838; stroke-width: 1.5;\" width=\"50\" x=\"176.22\" y=\"463\"/><text fill=\"#000000\" font-family=\"sans-serif\" font-size=\"12\" lengthAdjust=\"spacingAndGlyphs\" textLength=\"21\" x=\"190.72\" y=\"479.1387\">z: B</text></a></g><g id=\"E1.E9.E10\"><a href=\"psysml:aa943bbf-59d6-4c08-9403-21388691ca57\" target=\"_top\" title=\"psysml:aa943bbf-59d6-4c08-9403-21388691ca57\" xlink:actuate=\"onRequest\" xlink:href=\"psysml:aa943bbf-59d6-4c08-9403-21388691ca57\" xlink:show=\"new\" xlink:title=\"psysml:aa943bbf-59d6-4c08-9403-21388691ca57\" xlink:type=\"simple\"><rect fill=\"#FFFFFF\" height=\"40\" id=\"E10\" rx=\"10\" ry=\"10\" style=\"stroke: #383838; stroke-width: 1.5;\" width=\"50\" x=\"176.22\" y=\"278\"/><rect fill=\"#F8F8F8\" height=\"23.9688\" rx=\"10\" ry=\"10\" style=\"stroke: #F8F8F8; stroke-width: 1.5;\" width=\"50\" x=\"176.22\" y=\"278\"/><rect fill=\"#F8F8F8\" height=\"10\" style=\"stroke: #F8F8F8; stroke-width: 1.5;\" width=\"50\" x=\"176.22\" y=\"291.9688\"/><rect fill=\"none\" height=\"40\" id=\"E10\" rx=\"10\" ry=\"10\" style=\"stroke: #383838; stroke-width: 1.5;\" width=\"50\" x=\"176.22\" y=\"278\"/><text fill=\"#000000\" font-family=\"sans-serif\" font-size=\"12\" lengthAdjust=\"spacingAndGlyphs\" textLength=\"29\" x=\"186.72\" y=\"294.1387\">z1: A</text></a></g><!--MD5=[185131fc0dcab0a4505a2ebe144e961b]\n",
       "link E4 to E2--><a href=\"psysml:113e6c15-2e9f-43c2-9a8b-f1023998ecb3\" target=\"_top\" title=\"psysml:113e6c15-2e9f-43c2-9a8b-f1023998ecb3\" xlink:actuate=\"onRequest\" xlink:href=\"psysml:113e6c15-2e9f-43c2-9a8b-f1023998ecb3\" xlink:show=\"new\" xlink:title=\"psysml:113e6c15-2e9f-43c2-9a8b-f1023998ecb3\" xlink:type=\"simple\"><path d=\"M400.05,440 C422.37,440 461.2775,440 495.0375,440 C496.0925,440 497.1425,440 498.1868,440 \" fill=\"none\" id=\"E4-&gt;E2\" style=\"stroke: #383838; stroke-width: 1.0; stroke-dasharray: 7.0,7.0;\"/><polygon fill=\"#383838\" points=\"498.1868,440,489.1868,436,493.1868,440,489.1868,444,498.1868,440\" style=\"stroke: #383838; stroke-width: 1.0;\"/><text fill=\"#000000\" font-family=\"sans-serif\" font-size=\"13\" lengthAdjust=\"spacingAndGlyphs\" textLength=\"65\" x=\"408.72\" y=\"436.0669\">«import»*</text></a><!--MD5=[ee384bb554873b72f85793eae40e290c]\n",
       "link E1 to E4--><a href=\"psysml:a039409c-dc44-4261-a761-133767375f35\" target=\"_top\" title=\"psysml:a039409c-dc44-4261-a761-133767375f35\" xlink:actuate=\"onRequest\" xlink:href=\"psysml:a039409c-dc44-4261-a761-133767375f35\" xlink:show=\"new\" xlink:title=\"psysml:a039409c-dc44-4261-a761-133767375f35\" xlink:type=\"simple\"><path d=\"M24.75,453.05 C25.8,454.98 60.05,517.09 107.72,537 C177.85,566.29 208.22,565.37 278.72,537 C311.84,523.67 340.2,493.71 358.36,470.59 \" fill=\"none\" id=\"E1-&gt;E4\" style=\"stroke: #383838; stroke-width: 1.0; stroke-dasharray: 7.0,7.0;\"/><polygon fill=\"#383838\" points=\"361.63,466.36,352.9623,471.0367,358.5732,470.3167,359.2931,475.9276,361.63,466.36\" style=\"stroke: #383838; stroke-width: 1.0;\"/><text fill=\"#000000\" font-family=\"sans-serif\" font-size=\"13\" lengthAdjust=\"spacingAndGlyphs\" textLength=\"65\" x=\"168.72\" y=\"533.0669\">«import»*</text></a><!--MD5=[ccbd3af71bf83df0ec2a2db62d6d7130]\n",
       "link E1 to E6--><a href=\"psysml:8872cc02-851e-450c-b3e8-f90f2e3db770\" target=\"_top\" title=\"psysml:8872cc02-851e-450c-b3e8-f90f2e3db770\" xlink:actuate=\"onRequest\" xlink:href=\"psysml:8872cc02-851e-450c-b3e8-f90f2e3db770\" xlink:show=\"new\" xlink:title=\"psysml:8872cc02-851e-450c-b3e8-f90f2e3db770\" xlink:type=\"simple\"><path d=\"M24.74,452.91 C25.57,449.35 52.6,334.55 107.72,262 C123.48,241.26 146.135,222.7675 165.08,209.3337 C169.8163,205.9753 174.3206,202.933 178.4274,200.2509 C180.4808,198.9098 182.4348,197.6587 184.2687,196.5032 C184.7272,196.2143 185.1782,195.9314 185.6213,195.6545 C185.8429,195.5161 186.0625,195.3792 186.2801,195.2438 C186.3889,195.1761 186.4972,195.1088 186.605,195.0418 \" fill=\"none\" id=\"E1-&gt;E6\" style=\"stroke: #383838; stroke-width: 1.0; stroke-dasharray: 7.0,7.0;\"/><polygon fill=\"#383838\" points=\"186.605,195.0418,176.849,196.3909,182.3572,197.6792,181.0688,203.1874,186.605,195.0418\" style=\"stroke: #383838; stroke-width: 1.0;\"/><text fill=\"#000000\" font-family=\"sans-serif\" font-size=\"13\" lengthAdjust=\"spacingAndGlyphs\" textLength=\"65\" x=\"33.72\" y=\"272.0669\">«import»*</text></a><!--MD5=[c2be97adba6ddfe1c8f349fab141c927]\n",
       "link E9 to E4--><a href=\"psysml:f0473cf2-6b9f-40e7-98be-e0cb9d304d8b\" target=\"_top\" title=\"psysml:f0473cf2-6b9f-40e7-98be-e0cb9d304d8b\" xlink:actuate=\"onRequest\" xlink:href=\"psysml:f0473cf2-6b9f-40e7-98be-e0cb9d304d8b\" xlink:show=\"new\" xlink:title=\"psysml:f0473cf2-6b9f-40e7-98be-e0cb9d304d8b\" xlink:type=\"simple\"><path d=\"M250.2598,350.872 C250.5209,350.8949 250.7822,350.9186 251.0437,350.943 C252.0896,351.0405 253.1379,351.1497 254.1872,351.2714 C262.5813,352.245 271.0325,354.0175 278.72,357 C310.26,369.24 339.31,395.36 358.08,415.06 \" fill=\"none\" id=\"E9-&gt;E4\" style=\"stroke: #383838; stroke-width: 1.0; stroke-dasharray: 7.0,7.0;\"/><polygon fill=\"#383838\" points=\"361.7,418.9,358.4445,409.6047,358.2732,415.259,352.6189,415.0877,361.7,418.9\" style=\"stroke: #383838; stroke-width: 1.0;\"/><text fill=\"#000000\" font-family=\"sans-serif\" font-size=\"13\" lengthAdjust=\"spacingAndGlyphs\" textLength=\"65\" x=\"287.72\" y=\"358.0669\">«import»*</text></a><!--MD5=[338963769f8edf257ae037ef8d1f39ca]\n",
       "@startuml\r\n",
       "skinparam ranksep 10\r\n",
       "skinparam rectangle {\r\n",
       " backgroundColor<<block>> LightGreen\r\n",
       "}\r\n",
       "left to right direction\r\n",
       "skinparam monochrome true\r\n",
       "skinparam classbackgroundcolor white\r\n",
       "skinparam shadowing false\r\n",
       "skinparam wrapWidth 300\r\n",
       "hide circle\r\n",
       "\r\n",
       "package \"PrivateImportTest\" as E1  [[psysml:56a08668-af7c-402b-8ea6-0ffeccd2e906 ]]  {\r\n",
       "package \"P1\" as E2  [[psysml:989134c5-5272-479d-a43e-5e5573119e0c ]]  {\r\n",
       "rec def \"A\" as E3  <<(T,blue) part  def>> [[psysml:1f011377-ef65-4253-92ff-be4f522feeb1 ]] {\r\n",
       "}\r\n",
       "}\r\n",
       "package \"P2\" as E4  [[psysml:7d907640-2982-4506-b0ab-4e4fe8a9afec ]]  {\r\n",
       "}\r\n",
       "rec usage \"x: A\" as E5  [[psysml:4755439e-6dab-436e-bf4a-d220bd8663ba ]] {\r\n",
       "}\r\n",
       "package \"P3\" as E6  [[psysml:90563c83-8b6e-4371-ac3b-36c1983fe7e9 ]]  {\r\n",
       "rec def \"B\" as E7  <<(T,blue) part  def>> [[psysml:bdb8801b-74e6-41c7-b5f1-114cae898237 ]] {\r\n",
       "}\r\n",
       "}\r\n",
       "rec usage \"z: B\" as E8  [[psysml:dfc306bc-28cd-4074-8d12-696a322e5955 ]] {\r\n",
       "}\r\n",
       "package \"P4\" as E9  [[psysml:2733cc0d-ab4e-4acc-aaf2-0d4d1c16697a ]]  {\r\n",
       "rec usage \"z1: A\" as E10  [[psysml:aa943bbf-59d6-4c08-9403-21388691ca57 ]] {\r\n",
       "}\r\n",
       "}\r\n",
       "}\r\n",
       "E4 ..> E2 [[psysml:113e6c15-2e9f-43c2-9a8b-f1023998ecb3 ]] : <<import>>*\r\n",
       "E1 ..> E4 [[psysml:a039409c-dc44-4261-a761-133767375f35 ]] : <<import>>*\r\n",
       "E1 ..> E6 [[psysml:8872cc02-851e-450c-b3e8-f90f2e3db770 ]] : <<import>>*\r\n",
       "E9 ..> E4 [[psysml:f0473cf2-6b9f-40e7-98be-e0cb9d304d8b ]] : <<import>>*\r\n",
       "@enduml\r\n",
       "\n",
       "PlantUML version 1.2020.13(Sat Jun 13 12:26:38 UTC 2020)\n",
       "(EPL source distribution)\n",
       "Java Runtime: OpenJDK Runtime Environment\n",
       "JVM: OpenJDK 64-Bit Server VM\n",
       "Default Encoding: UTF-8\n",
       "Language: en\n",
       "Country: null\n",
       "--></g></svg>"
      ]
     },
     "execution_count": 19,
     "metadata": {},
     "output_type": "execute_result"
    }
   ],
   "source": [
    "%viz --style=\"LR\" --view=\"Interconnection\" \"PrivateImportTest\""
   ]
  },
  {
   "cell_type": "code",
   "execution_count": 20,
   "id": "43fa57c3",
   "metadata": {
    "execution": {
     "iopub.execute_input": "2022-02-18T10:48:46.304678Z",
     "iopub.status.busy": "2022-02-18T10:48:46.304225Z",
     "iopub.status.idle": "2022-02-18T10:48:46.309093Z",
     "shell.execute_reply": "2022-02-18T10:48:46.309414Z"
    }
   },
   "outputs": [
    {
     "data": {
      "image/svg+xml": [
       "<?xml version=\"1.0\" encoding=\"UTF-8\" standalone=\"no\"?><svg xmlns=\"http://www.w3.org/2000/svg\" xmlns:xlink=\"http://www.w3.org/1999/xlink\" contentScriptType=\"application/ecmascript\" contentStyleType=\"text/css\" height=\"12px\" preserveAspectRatio=\"none\" style=\"width:12px;height:12px;\" version=\"1.1\" viewBox=\"0 0 12 12\" width=\"12px\" zoomAndPan=\"magnify\"><defs/><g><!--MD5=[7aeb398939421629f6affaa4a1a7b125]\n",
       "@startuml\r\n",
       "skinparam ranksep 8\r\n",
       "left to right direction\r\n",
       "skinparam monochrome true\r\n",
       "skinparam classbackgroundcolor white\r\n",
       "skinparam shadowing false\r\n",
       "skinparam wrapWidth 300\r\n",
       "hide circle\r\n",
       "\r\n",
       "@enduml\r\n",
       "\n",
       "PlantUML version 1.2020.13(Sat Jun 13 12:26:38 UTC 2020)\n",
       "(EPL source distribution)\n",
       "Java Runtime: OpenJDK Runtime Environment\n",
       "JVM: OpenJDK 64-Bit Server VM\n",
       "Default Encoding: UTF-8\n",
       "Language: en\n",
       "Country: null\n",
       "--></g></svg>"
      ]
     },
     "execution_count": 20,
     "metadata": {},
     "output_type": "execute_result"
    }
   ],
   "source": [
    "%viz --style=\"LR\" --view=\"Action\" \"PrivateImportTest\""
   ]
  },
  {
   "cell_type": "code",
   "execution_count": 21,
   "id": "5c178bc2",
   "metadata": {
    "execution": {
     "iopub.execute_input": "2022-02-18T10:48:46.359883Z",
     "iopub.status.busy": "2022-02-18T10:48:46.359305Z",
     "iopub.status.idle": "2022-02-18T10:48:46.365318Z",
     "shell.execute_reply": "2022-02-18T10:48:46.365745Z"
    }
   },
   "outputs": [
    {
     "data": {
      "image/svg+xml": [
       "<?xml version=\"1.0\" encoding=\"UTF-8\" standalone=\"no\"?><svg xmlns=\"http://www.w3.org/2000/svg\" xmlns:xlink=\"http://www.w3.org/1999/xlink\" contentScriptType=\"application/ecmascript\" contentStyleType=\"text/css\" height=\"12px\" preserveAspectRatio=\"none\" style=\"width:12px;height:12px;\" version=\"1.1\" viewBox=\"0 0 12 12\" width=\"12px\" zoomAndPan=\"magnify\"><defs/><g><!--MD5=[238c11ea2002f03115ad6b49a457d50e]\n",
       "@startuml\r\n",
       "skinparam roundcorner 20\r\n",
       "skinparam BoxPadding 20\r\n",
       "skinparam SequenceBoxBackgroundColor #white\r\n",
       "skinparam style strictuml\r\n",
       "skinparam maxMessageSize 100\r\n",
       "left to right direction\r\n",
       "skinparam monochrome true\r\n",
       "skinparam classbackgroundcolor white\r\n",
       "skinparam shadowing false\r\n",
       "skinparam wrapWidth 300\r\n",
       "hide circle\r\n",
       "\r\n",
       "@enduml\r\n",
       "\n",
       "PlantUML version 1.2020.13(Sat Jun 13 12:26:38 UTC 2020)\n",
       "(EPL source distribution)\n",
       "Java Runtime: OpenJDK Runtime Environment\n",
       "JVM: OpenJDK 64-Bit Server VM\n",
       "Default Encoding: UTF-8\n",
       "Language: en\n",
       "Country: null\n",
       "--></g></svg>"
      ]
     },
     "execution_count": 21,
     "metadata": {},
     "output_type": "execute_result"
    }
   ],
   "source": [
    "%viz --style=\"LR\" --view=\"Sequence\" \"PrivateImportTest\""
   ]
  },
  {
   "cell_type": "code",
   "execution_count": 22,
   "id": "dff7f909",
   "metadata": {
    "execution": {
     "iopub.execute_input": "2022-02-18T10:48:46.415552Z",
     "iopub.status.busy": "2022-02-18T10:48:46.415103Z",
     "iopub.status.idle": "2022-02-18T10:48:46.458474Z",
     "shell.execute_reply": "2022-02-18T10:48:46.458097Z"
    }
   },
   "outputs": [
    {
     "data": {
      "image/svg+xml": [
       "<?xml version=\"1.0\" encoding=\"UTF-8\" standalone=\"no\"?><svg xmlns=\"http://www.w3.org/2000/svg\" xmlns:xlink=\"http://www.w3.org/1999/xlink\" contentScriptType=\"application/ecmascript\" contentStyleType=\"text/css\" height=\"438px\" preserveAspectRatio=\"none\" style=\"width:674px;height:438px;\" version=\"1.1\" viewBox=\"0 0 674 438\" width=\"674px\" zoomAndPan=\"magnify\"><defs/><g><!--MD5=[fbc87193dbaf4d95561dea2c320d4a47]\n",
       "cluster E1--><a href=\"psysml:56a08668-af7c-402b-8ea6-0ffeccd2e906\" target=\"_top\" title=\"psysml:56a08668-af7c-402b-8ea6-0ffeccd2e906\" xlink:actuate=\"onRequest\" xlink:href=\"psysml:56a08668-af7c-402b-8ea6-0ffeccd2e906\" xlink:show=\"new\" xlink:title=\"psysml:56a08668-af7c-402b-8ea6-0ffeccd2e906\" xlink:type=\"simple\"><polygon fill=\"#FFFFFF\" points=\"16,6,143,6,150,28.2969,652,28.2969,652,425,16,425,16,6\" style=\"stroke: #000000; stroke-width: 1.5;\"/><line style=\"stroke: #000000; stroke-width: 1.5;\" x1=\"16\" x2=\"150\" y1=\"28.2969\" y2=\"28.2969\"/><text fill=\"#000000\" font-family=\"sans-serif\" font-size=\"14\" font-weight=\"bold\" lengthAdjust=\"spacingAndGlyphs\" textLength=\"121\" x=\"20\" y=\"20.9951\">PrivateImportTest</text></a><!--MD5=[e4f7fae6ed58524ba242bb0b0d3be6b7]\n",
       "cluster E2--><a href=\"psysml:989134c5-5272-479d-a43e-5e5573119e0c\" target=\"_top\" title=\"psysml:989134c5-5272-479d-a43e-5e5573119e0c\" xlink:actuate=\"onRequest\" xlink:href=\"psysml:989134c5-5272-479d-a43e-5e5573119e0c\" xlink:show=\"new\" xlink:title=\"psysml:989134c5-5272-479d-a43e-5e5573119e0c\" xlink:type=\"simple\"><polygon fill=\"#FFFFFF\" points=\"494,65,518,65,525,87.2969,612,87.2969,612,197,494,197,494,65\" style=\"stroke: #000000; stroke-width: 1.5;\"/><line style=\"stroke: #000000; stroke-width: 1.5;\" x1=\"494\" x2=\"525\" y1=\"87.2969\" y2=\"87.2969\"/><text fill=\"#000000\" font-family=\"sans-serif\" font-size=\"14\" font-weight=\"bold\" lengthAdjust=\"spacingAndGlyphs\" textLength=\"18\" x=\"498\" y=\"79.9951\">P1</text></a><!--MD5=[14e3b0961a2654348d326746436168a1]\n",
       "cluster E6--><a href=\"psysml:90563c83-8b6e-4371-ac3b-36c1983fe7e9\" target=\"_top\" title=\"psysml:90563c83-8b6e-4371-ac3b-36c1983fe7e9\" xlink:actuate=\"onRequest\" xlink:href=\"psysml:90563c83-8b6e-4371-ac3b-36c1983fe7e9\" xlink:show=\"new\" xlink:title=\"psysml:90563c83-8b6e-4371-ac3b-36c1983fe7e9\" xlink:type=\"simple\"><polygon fill=\"#FFFFFF\" points=\"261,245,285,245,292,267.2969,379,267.2969,379,377,261,377,261,245\" style=\"stroke: #000000; stroke-width: 1.5;\"/><line style=\"stroke: #000000; stroke-width: 1.5;\" x1=\"261\" x2=\"292\" y1=\"267.2969\" y2=\"267.2969\"/><text fill=\"#000000\" font-family=\"sans-serif\" font-size=\"14\" font-weight=\"bold\" lengthAdjust=\"spacingAndGlyphs\" textLength=\"18\" x=\"265\" y=\"259.9951\">P3</text></a><!--MD5=[7f149f147074ac12df2cb0a7728a5fb0]\n",
       "cluster E9--><a href=\"psysml:2733cc0d-ab4e-4acc-aaf2-0d4d1c16697a\" target=\"_top\" title=\"psysml:2733cc0d-ab4e-4acc-aaf2-0d4d1c16697a\" xlink:actuate=\"onRequest\" xlink:href=\"psysml:2733cc0d-ab4e-4acc-aaf2-0d4d1c16697a\" xlink:show=\"new\" xlink:title=\"psysml:2733cc0d-ab4e-4acc-aaf2-0d4d1c16697a\" xlink:type=\"simple\"><polygon fill=\"#FFFFFF\" points=\"56,67,80,67,87,89.2969,146,89.2969,146,199,56,199,56,67\" style=\"stroke: #000000; stroke-width: 1.5;\"/><line style=\"stroke: #000000; stroke-width: 1.5;\" x1=\"56\" x2=\"87\" y1=\"89.2969\" y2=\"89.2969\"/><text fill=\"#000000\" font-family=\"sans-serif\" font-size=\"14\" font-weight=\"bold\" lengthAdjust=\"spacingAndGlyphs\" textLength=\"18\" x=\"60\" y=\"81.9951\">P4</text></a><!--MD5=[270fce915f116d4de14055a7c1d9a0f3]\n",
       "class E5--><a href=\"psysml:4755439e-6dab-436e-bf4a-d220bd8663ba\" target=\"_top\" title=\"psysml:4755439e-6dab-436e-bf4a-d220bd8663ba\" xlink:actuate=\"onRequest\" xlink:href=\"psysml:4755439e-6dab-436e-bf4a-d220bd8663ba\" xlink:show=\"new\" xlink:title=\"psysml:4755439e-6dab-436e-bf4a-d220bd8663ba\" xlink:type=\"simple\"><rect fill=\"#FFFFFF\" height=\"45.9375\" id=\"E5\" rx=\"10\" ry=\"10\" style=\"stroke: #383838; stroke-width: 1.5;\" width=\"42\" x=\"299\" y=\"49\"/><text fill=\"#000000\" font-family=\"sans-serif\" font-size=\"12\" font-style=\"italic\" lengthAdjust=\"spacingAndGlyphs\" textLength=\"40\" x=\"300\" y=\"65.1387\">«part»</text><text fill=\"#000000\" font-family=\"sans-serif\" font-size=\"12\" lengthAdjust=\"spacingAndGlyphs\" textLength=\"22\" x=\"307\" y=\"79.1074\">x: A</text><line style=\"stroke: #383838; stroke-width: 1.5;\" x1=\"300\" x2=\"340\" y1=\"86.9375\" y2=\"86.9375\"/></a><!--MD5=[b9389687b975829384b498ac4b7476b2]\n",
       "class E8--><a href=\"psysml:dfc306bc-28cd-4074-8d12-696a322e5955\" target=\"_top\" title=\"psysml:dfc306bc-28cd-4074-8d12-696a322e5955\" xlink:actuate=\"onRequest\" xlink:href=\"psysml:dfc306bc-28cd-4074-8d12-696a322e5955\" xlink:show=\"new\" xlink:title=\"psysml:dfc306bc-28cd-4074-8d12-696a322e5955\" xlink:type=\"simple\"><rect fill=\"#FFFFFF\" height=\"45.9375\" id=\"E8\" rx=\"10\" ry=\"10\" style=\"stroke: #383838; stroke-width: 1.5;\" width=\"42\" x=\"80\" y=\"279\"/><text fill=\"#000000\" font-family=\"sans-serif\" font-size=\"12\" font-style=\"italic\" lengthAdjust=\"spacingAndGlyphs\" textLength=\"40\" x=\"81\" y=\"295.1387\">«part»</text><text fill=\"#000000\" font-family=\"sans-serif\" font-size=\"12\" lengthAdjust=\"spacingAndGlyphs\" textLength=\"21\" x=\"88.5\" y=\"309.1074\">z: B</text><line style=\"stroke: #383838; stroke-width: 1.5;\" x1=\"81\" x2=\"121\" y1=\"316.9375\" y2=\"316.9375\"/></a><!--MD5=[09b614a08d8cba4a07c9adeb5e0fee81]\n",
       "class E3--><a href=\"psysml:1f011377-ef65-4253-92ff-be4f522feeb1\" target=\"_top\" title=\"psysml:1f011377-ef65-4253-92ff-be4f522feeb1\" xlink:actuate=\"onRequest\" xlink:href=\"psysml:1f011377-ef65-4253-92ff-be4f522feeb1\" xlink:show=\"new\" xlink:title=\"psysml:1f011377-ef65-4253-92ff-be4f522feeb1\" xlink:type=\"simple\"><rect fill=\"#FFFFFF\" height=\"45.9375\" id=\"E3\" style=\"stroke: #383838; stroke-width: 1.5;\" width=\"70\" x=\"518\" y=\"108\"/><text fill=\"#000000\" font-family=\"sans-serif\" font-size=\"12\" font-style=\"italic\" lengthAdjust=\"spacingAndGlyphs\" textLength=\"68\" x=\"519\" y=\"124.1387\">«part  def»</text><text fill=\"#000000\" font-family=\"sans-serif\" font-size=\"12\" lengthAdjust=\"spacingAndGlyphs\" textLength=\"8\" x=\"549\" y=\"138.1074\">A</text><line style=\"stroke: #383838; stroke-width: 1.5;\" x1=\"519\" x2=\"587\" y1=\"145.9375\" y2=\"145.9375\"/></a><a href=\"psysml:7d907640-2982-4506-b0ab-4e4fe8a9afec\" target=\"_top\" title=\"psysml:7d907640-2982-4506-b0ab-4e4fe8a9afec\" xlink:actuate=\"onRequest\" xlink:href=\"psysml:7d907640-2982-4506-b0ab-4e4fe8a9afec\" xlink:show=\"new\" xlink:title=\"psysml:7d907640-2982-4506-b0ab-4e4fe8a9afec\" xlink:type=\"simple\"><polygon fill=\"#FFFFFF\" points=\"301,167.5,325,167.5,332,189.7969,339,189.7969,339,220.0938,301,220.0938,301,167.5\" style=\"stroke: #000000; stroke-width: 1.5;\"/><line style=\"stroke: #000000; stroke-width: 1.5;\" x1=\"301\" x2=\"332\" y1=\"189.7969\" y2=\"189.7969\"/><text fill=\"#000000\" font-family=\"sans-serif\" font-size=\"14\" font-weight=\"bold\" lengthAdjust=\"spacingAndGlyphs\" textLength=\"18\" x=\"305\" y=\"182.4951\">P2</text></a><!--MD5=[2156ba9850f5573cc1fc38a6a4b2f02b]\n",
       "class E7--><a href=\"psysml:bdb8801b-74e6-41c7-b5f1-114cae898237\" target=\"_top\" title=\"psysml:bdb8801b-74e6-41c7-b5f1-114cae898237\" xlink:actuate=\"onRequest\" xlink:href=\"psysml:bdb8801b-74e6-41c7-b5f1-114cae898237\" xlink:show=\"new\" xlink:title=\"psysml:bdb8801b-74e6-41c7-b5f1-114cae898237\" xlink:type=\"simple\"><rect fill=\"#FFFFFF\" height=\"45.9375\" id=\"E7\" style=\"stroke: #383838; stroke-width: 1.5;\" width=\"70\" x=\"285\" y=\"288\"/><text fill=\"#000000\" font-family=\"sans-serif\" font-size=\"12\" font-style=\"italic\" lengthAdjust=\"spacingAndGlyphs\" textLength=\"68\" x=\"286\" y=\"304.1387\">«part  def»</text><text fill=\"#000000\" font-family=\"sans-serif\" font-size=\"12\" lengthAdjust=\"spacingAndGlyphs\" textLength=\"8\" x=\"316\" y=\"318.1074\">B</text><line style=\"stroke: #383838; stroke-width: 1.5;\" x1=\"286\" x2=\"354\" y1=\"325.9375\" y2=\"325.9375\"/></a><!--MD5=[96f4274e9e20536e775497830990834d]\n",
       "class E10--><a href=\"psysml:aa943bbf-59d6-4c08-9403-21388691ca57\" target=\"_top\" title=\"psysml:aa943bbf-59d6-4c08-9403-21388691ca57\" xlink:actuate=\"onRequest\" xlink:href=\"psysml:aa943bbf-59d6-4c08-9403-21388691ca57\" xlink:show=\"new\" xlink:title=\"psysml:aa943bbf-59d6-4c08-9403-21388691ca57\" xlink:type=\"simple\"><rect fill=\"#FFFFFF\" height=\"45.9375\" id=\"E10\" rx=\"10\" ry=\"10\" style=\"stroke: #383838; stroke-width: 1.5;\" width=\"42\" x=\"80\" y=\"110\"/><text fill=\"#000000\" font-family=\"sans-serif\" font-size=\"12\" font-style=\"italic\" lengthAdjust=\"spacingAndGlyphs\" textLength=\"40\" x=\"81\" y=\"126.1387\">«part»</text><text fill=\"#000000\" font-family=\"sans-serif\" font-size=\"12\" lengthAdjust=\"spacingAndGlyphs\" textLength=\"29\" x=\"84.5\" y=\"140.1074\">z1: A</text><line style=\"stroke: #383838; stroke-width: 1.5;\" x1=\"81\" x2=\"121\" y1=\"147.9375\" y2=\"147.9375\"/></a><!--MD5=[185131fc0dcab0a4505a2ebe144e961b]\n",
       "link E4 to E2--><a href=\"psysml:113e6c15-2e9f-43c2-9a8b-f1023998ecb3\" target=\"_top\" title=\"psysml:113e6c15-2e9f-43c2-9a8b-f1023998ecb3\" xlink:actuate=\"onRequest\" xlink:href=\"psysml:113e6c15-2e9f-43c2-9a8b-f1023998ecb3\" xlink:show=\"new\" xlink:title=\"psysml:113e6c15-2e9f-43c2-9a8b-f1023998ecb3\" xlink:type=\"simple\"><path d=\"M339.13,193.61 C365.93,193.03 417.915,191.905 463.8013,190.9113 C469.537,190.787 475.1775,190.6649 480.6616,190.5461 C483.4037,190.4867 486.1066,190.4281 488.7628,190.3706 C490.0909,190.3418 491.4074,190.3133 492.7111,190.285 C493.0371,190.278 493.3622,190.2709 493.6866,190.2639 \" fill=\"none\" id=\"E4-&gt;E2\" style=\"stroke: #383838; stroke-width: 1.0; stroke-dasharray: 7.0,7.0;\"/><polygon fill=\"#383838\" points=\"493.6866,190.2639,484.602,186.4598,488.6878,190.3722,484.7753,194.4579,493.6866,190.2639\" style=\"stroke: #383838; stroke-width: 1.0;\"/><text fill=\"#000000\" font-family=\"sans-serif\" font-size=\"13\" lengthAdjust=\"spacingAndGlyphs\" textLength=\"65\" x=\"404\" y=\"187.0669\">«import»*</text></a><!--MD5=[e9be52314489bd878ff4c7144b63c9e1]\n",
       "link E5 to E3--><a href=\"psysml:2e030f48-ed8d-4fbc-a256-8117ac7131ec\" target=\"_top\" title=\"psysml:2e030f48-ed8d-4fbc-a256-8117ac7131ec\" xlink:actuate=\"onRequest\" xlink:href=\"psysml:2e030f48-ed8d-4fbc-a256-8117ac7131ec\" xlink:show=\"new\" xlink:title=\"psysml:2e030f48-ed8d-4fbc-a256-8117ac7131ec\" xlink:type=\"simple\"><path d=\"M341.1,77.13 C375.75,85.98 447.85,104.4 498.05,117.22 \" fill=\"none\" id=\"E5-&gt;E3\" style=\"stroke: #383838; stroke-width: 1.0;\"/><polygon fill=\"#FFFFFF\" points=\"517.72,122.24,497.5781,124.3147,501.0465,110.7512,517.72,122.24\" style=\"stroke: #383838; stroke-width: 1.0;\"/><ellipse cx=\"492.5513\" cy=\"120.965\" fill=\"#383838\" rx=\"2\" ry=\"2\" style=\"stroke: #383838; stroke-width: 1.0;\"/><ellipse cx=\"495.0287\" cy=\"111.2767\" fill=\"#383838\" rx=\"2\" ry=\"2\" style=\"stroke: #383838; stroke-width: 1.0;\"/></a><!--MD5=[ee384bb554873b72f85793eae40e290c]\n",
       "link E1 to E4--><a href=\"psysml:a039409c-dc44-4261-a761-133767375f35\" target=\"_top\" title=\"psysml:a039409c-dc44-4261-a761-133767375f35\" xlink:actuate=\"onRequest\" xlink:href=\"psysml:a039409c-dc44-4261-a761-133767375f35\" xlink:show=\"new\" xlink:title=\"psysml:a039409c-dc44-4261-a761-133767375f35\" xlink:type=\"simple\"><path d=\"M102.12,417.03 C104.51,417.62 143.03,426.87 162,409 C175.52,396.27 162.3,384.89 170,368 C192.47,318.74 209.66,313.02 245,272 C261.85,252.44 282.09,231.26 297.14,215.91 \" fill=\"none\" id=\"E1-&gt;E4\" style=\"stroke: #383838; stroke-width: 1.0; stroke-dasharray: 7.0,7.0;\"/><polygon fill=\"#383838\" points=\"300.84,212.13,291.6764,215.7395,297.3331,215.6939,297.3787,221.3506,300.84,212.13\" style=\"stroke: #383838; stroke-width: 1.0;\"/><text fill=\"#000000\" font-family=\"sans-serif\" font-size=\"13\" lengthAdjust=\"spacingAndGlyphs\" textLength=\"65\" x=\"171\" y=\"278.0669\">«import»*</text></a><!--MD5=[ccbd3af71bf83df0ec2a2db62d6d7130]\n",
       "link E1 to E6--><a href=\"psysml:8872cc02-851e-450c-b3e8-f90f2e3db770\" target=\"_top\" title=\"psysml:8872cc02-851e-450c-b3e8-f90f2e3db770\" xlink:actuate=\"onRequest\" xlink:href=\"psysml:8872cc02-851e-450c-b3e8-f90f2e3db770\" xlink:show=\"new\" xlink:title=\"psysml:8872cc02-851e-450c-b3e8-f90f2e3db770\" xlink:type=\"simple\"><path d=\"M102.1,416.99 C104.09,416.82 136.41,413.95 162,409 C196.795,402.27 235.3725,392.475 265.58,384.2625 C273.1319,382.2094 280.1606,380.2552 286.4764,378.4725 C288.0553,378.0268 289.5897,377.5918 291.0765,377.1687 C291.2624,377.1158 291.4475,377.0631 291.6319,377.0106 \" fill=\"none\" id=\"E1-&gt;E6\" style=\"stroke: #383838; stroke-width: 1.0; stroke-dasharray: 7.0,7.0;\"/><polygon fill=\"#383838\" points=\"291.6319,377.0106,281.8804,375.6292,286.8231,378.3804,284.0719,383.3231,291.6319,377.0106\" style=\"stroke: #383838; stroke-width: 1.0;\"/><text fill=\"#000000\" font-family=\"sans-serif\" font-size=\"13\" lengthAdjust=\"spacingAndGlyphs\" textLength=\"65\" x=\"171\" y=\"389.0669\">«import»*</text></a><!--MD5=[bfa3c8b0d15052fdf50ae9310b491027]\n",
       "link E8 to E7--><a href=\"psysml:0934d2d2-1a49-4ac4-b6c0-cd8fa5ea19dd\" target=\"_top\" title=\"psysml:0934d2d2-1a49-4ac4-b6c0-cd8fa5ea19dd\" xlink:actuate=\"onRequest\" xlink:href=\"psysml:0934d2d2-1a49-4ac4-b6c0-cd8fa5ea19dd\" xlink:show=\"new\" xlink:title=\"psysml:0934d2d2-1a49-4ac4-b6c0-cd8fa5ea19dd\" xlink:type=\"simple\"><path d=\"M122.13,302.67 C148.51,303.57 196.23,305.25 237,307 C245.93,307.38 255.41,307.82 264.63,308.26 \" fill=\"none\" id=\"E8-&gt;E7\" style=\"stroke: #383838; stroke-width: 1.0;\"/><polygon fill=\"#FFFFFF\" points=\"284.69,309.24,265.3724,315.3086,266.0525,301.3252,284.69,309.24\" style=\"stroke: #383838; stroke-width: 1.0;\"/><ellipse cx=\"259.7763\" cy=\"313.0341\" fill=\"#383838\" rx=\"2\" ry=\"2\" style=\"stroke: #383838; stroke-width: 1.0;\"/><ellipse cx=\"260.2621\" cy=\"303.0459\" fill=\"#383838\" rx=\"2\" ry=\"2\" style=\"stroke: #383838; stroke-width: 1.0;\"/></a><!--MD5=[c2be97adba6ddfe1c8f349fab141c927]\n",
       "link E9 to E4--><a href=\"psysml:f0473cf2-6b9f-40e7-98be-e0cb9d304d8b\" target=\"_top\" title=\"psysml:f0473cf2-6b9f-40e7-98be-e0cb9d304d8b\" xlink:actuate=\"onRequest\" xlink:href=\"psysml:f0473cf2-6b9f-40e7-98be-e0cb9d304d8b\" xlink:show=\"new\" xlink:title=\"psysml:f0473cf2-6b9f-40e7-98be-e0cb9d304d8b\" xlink:type=\"simple\"><path d=\"M146.1613,191.6091 C146.7061,191.6167 147.2543,191.6243 147.8058,191.6319 C148.9087,191.6472 150.0248,191.6627 151.1532,191.6783 C160.1809,191.8035 170.0003,191.9397 180.2088,192.0813 C221.0425,192.6475 268.1,193.3 295.6,193.68 \" fill=\"none\" id=\"E9-&gt;E4\" style=\"stroke: #383838; stroke-width: 1.0; stroke-dasharray: 7.0,7.0;\"/><polygon fill=\"#383838\" points=\"300.67,193.75,291.7281,189.6218,295.6705,193.6786,291.6138,197.621,300.67,193.75\" style=\"stroke: #383838; stroke-width: 1.0;\"/><text fill=\"#000000\" font-family=\"sans-serif\" font-size=\"13\" lengthAdjust=\"spacingAndGlyphs\" textLength=\"65\" x=\"171\" y=\"188.0669\">«import»*</text></a><!--MD5=[feeac5eb423634930294aa81f2d25a4c]\n",
       "link E10 to E3--><a href=\"psysml:6083fff7-7e2a-4a1f-b6e0-00602bace9f4\" target=\"_top\" title=\"psysml:6083fff7-7e2a-4a1f-b6e0-00602bace9f4\" xlink:actuate=\"onRequest\" xlink:href=\"psysml:6083fff7-7e2a-4a1f-b6e0-00602bace9f4\" xlink:show=\"new\" xlink:title=\"psysml:6083fff7-7e2a-4a1f-b6e0-00602bace9f4\" xlink:type=\"simple\"><path d=\"M122.21,132.91 C188.01,132.62 397.64,131.69 497.76,131.24 \" fill=\"none\" id=\"E10-&gt;E3\" style=\"stroke: #383838; stroke-width: 1.0;\"/><polygon fill=\"#FFFFFF\" points=\"517.93,131.15,498.9602,138.2314,498.9002,124.2315,517.93,131.15\" style=\"stroke: #383838; stroke-width: 1.0;\"/><ellipse cx=\"493.2517\" cy=\"136.2558\" fill=\"#383838\" rx=\"2\" ry=\"2\" style=\"stroke: #383838; stroke-width: 1.0;\"/><ellipse cx=\"493.2088\" cy=\"126.2559\" fill=\"#383838\" rx=\"2\" ry=\"2\" style=\"stroke: #383838; stroke-width: 1.0;\"/></a><!--MD5=[4d22d67e45bd4dc300f1c28de926e5fd]\n",
       "@startuml\r\n",
       "left to right direction\r\n",
       "skinparam monochrome true\r\n",
       "skinparam classbackgroundcolor white\r\n",
       "skinparam shadowing false\r\n",
       "skinparam wrapWidth 300\r\n",
       "hide circle\r\n",
       "\r\n",
       "package \"PrivateImportTest\" as E1  [[psysml:56a08668-af7c-402b-8ea6-0ffeccd2e906 ]]  {\r\n",
       "package \"P1\" as E2  [[psysml:989134c5-5272-479d-a43e-5e5573119e0c ]]  {\r\n",
       "comp def \"A\" as E3  <<(T,blue) part  def>> [[psysml:1f011377-ef65-4253-92ff-be4f522feeb1 ]] {\r\n",
       "}\r\n",
       "}\r\n",
       "package \"P2\" as E4  [[psysml:7d907640-2982-4506-b0ab-4e4fe8a9afec ]]  {\r\n",
       "}\r\n",
       "comp usage \"x: A \" as E5  <<(T,blue) part>> [[psysml:4755439e-6dab-436e-bf4a-d220bd8663ba ]] {\r\n",
       "}\r\n",
       "package \"P3\" as E6  [[psysml:90563c83-8b6e-4371-ac3b-36c1983fe7e9 ]]  {\r\n",
       "comp def \"B\" as E7  <<(T,blue) part  def>> [[psysml:bdb8801b-74e6-41c7-b5f1-114cae898237 ]] {\r\n",
       "}\r\n",
       "}\r\n",
       "comp usage \"z: B \" as E8  <<(T,blue) part>> [[psysml:dfc306bc-28cd-4074-8d12-696a322e5955 ]] {\r\n",
       "}\r\n",
       "package \"P4\" as E9  [[psysml:2733cc0d-ab4e-4acc-aaf2-0d4d1c16697a ]]  {\r\n",
       "comp usage \"z1: A \" as E10  <<(T,blue) part>> [[psysml:aa943bbf-59d6-4c08-9403-21388691ca57 ]] {\r\n",
       "}\r\n",
       "}\r\n",
       "}\r\n",
       "E4 ..> E2 [[psysml:113e6c15-2e9f-43c2-9a8b-f1023998ecb3 ]] : <<import>>*\r\n",
       "E5 - -:|> E3 [[psysml:2e030f48-ed8d-4fbc-a256-8117ac7131ec ]] \r\n",
       "E1 ..> E4 [[psysml:a039409c-dc44-4261-a761-133767375f35 ]] : <<import>>*\r\n",
       "E1 ..> E6 [[psysml:8872cc02-851e-450c-b3e8-f90f2e3db770 ]] : <<import>>*\r\n",
       "E8 - -:|> E7 [[psysml:0934d2d2-1a49-4ac4-b6c0-cd8fa5ea19dd ]] \r\n",
       "E9 ..> E4 [[psysml:f0473cf2-6b9f-40e7-98be-e0cb9d304d8b ]] : <<import>>*\r\n",
       "E10 - -:|> E3 [[psysml:6083fff7-7e2a-4a1f-b6e0-00602bace9f4 ]] \r\n",
       "@enduml\r\n",
       "\n",
       "PlantUML version 1.2020.13(Sat Jun 13 12:26:38 UTC 2020)\n",
       "(EPL source distribution)\n",
       "Java Runtime: OpenJDK Runtime Environment\n",
       "JVM: OpenJDK 64-Bit Server VM\n",
       "Default Encoding: UTF-8\n",
       "Language: en\n",
       "Country: null\n",
       "--></g></svg>"
      ]
     },
     "execution_count": 22,
     "metadata": {},
     "output_type": "execute_result"
    }
   ],
   "source": [
    "%viz --style=\"LR\" --view=\"MIXED\" \"PrivateImportTest\""
   ]
  },
  {
   "cell_type": "code",
   "execution_count": 23,
   "id": "8f4087c9",
   "metadata": {
    "execution": {
     "iopub.execute_input": "2022-02-18T10:48:46.508569Z",
     "iopub.status.busy": "2022-02-18T10:48:46.508118Z",
     "iopub.status.idle": "2022-02-18T10:48:46.550031Z",
     "shell.execute_reply": "2022-02-18T10:48:46.549668Z"
    }
   },
   "outputs": [
    {
     "data": {
      "image/svg+xml": [
       "<?xml version=\"1.0\" encoding=\"UTF-8\" standalone=\"no\"?><svg xmlns=\"http://www.w3.org/2000/svg\" xmlns:xlink=\"http://www.w3.org/1999/xlink\" contentScriptType=\"application/ecmascript\" contentStyleType=\"text/css\" height=\"586px\" preserveAspectRatio=\"none\" style=\"width:433px;height:586px;\" version=\"1.1\" viewBox=\"0 0 433 586\" width=\"433px\" zoomAndPan=\"magnify\"><defs><filter height=\"300%\" id=\"f1n8a7i1xo5947\" width=\"300%\" x=\"-1\" y=\"-1\"><feGaussianBlur result=\"blurOut\" stdDeviation=\"2.0\"/><feColorMatrix in=\"blurOut\" result=\"blurOut2\" type=\"matrix\" values=\"0 0 0 0 0 0 0 0 0 0 0 0 0 0 0 0 0 0 .4 0\"/><feOffset dx=\"4.0\" dy=\"4.0\" in=\"blurOut2\" result=\"blurOut3\"/><feBlend in=\"SourceGraphic\" in2=\"blurOut3\" mode=\"normal\"/></filter></defs><g><!--MD5=[fbc87193dbaf4d95561dea2c320d4a47]\n",
       "cluster E1--><a href=\"psysml:56a08668-af7c-402b-8ea6-0ffeccd2e906\" target=\"_top\" title=\"psysml:56a08668-af7c-402b-8ea6-0ffeccd2e906\" xlink:actuate=\"onRequest\" xlink:href=\"psysml:56a08668-af7c-402b-8ea6-0ffeccd2e906\" xlink:show=\"new\" xlink:title=\"psysml:56a08668-af7c-402b-8ea6-0ffeccd2e906\" xlink:type=\"simple\"><polygon fill=\"#FFFFFF\" filter=\"url(#f1n8a7i1xo5947)\" points=\"26.32,6,153.32,6,160.32,28.2969,411.32,28.2969,411.32,574,26.32,574,26.32,6\" style=\"stroke: #000000; stroke-width: 1.5;\"/><line style=\"stroke: #000000; stroke-width: 1.5;\" x1=\"26.32\" x2=\"160.32\" y1=\"28.2969\" y2=\"28.2969\"/><text fill=\"#000000\" font-family=\"sans-serif\" font-size=\"14\" font-weight=\"bold\" lengthAdjust=\"spacingAndGlyphs\" textLength=\"121\" x=\"30.32\" y=\"20.9951\">PrivateImportTest</text></a><!--MD5=[e4f7fae6ed58524ba242bb0b0d3be6b7]\n",
       "cluster E2--><a href=\"psysml:989134c5-5272-479d-a43e-5e5573119e0c\" target=\"_top\" title=\"psysml:989134c5-5272-479d-a43e-5e5573119e0c\" xlink:actuate=\"onRequest\" xlink:href=\"psysml:989134c5-5272-479d-a43e-5e5573119e0c\" xlink:show=\"new\" xlink:title=\"psysml:989134c5-5272-479d-a43e-5e5573119e0c\" xlink:type=\"simple\"><polygon fill=\"#FFFFFF\" filter=\"url(#f1n8a7i1xo5947)\" points=\"231.32,421,255.32,421,262.32,443.2969,368.32,443.2969,368.32,534,231.32,534,231.32,421\" style=\"stroke: #000000; stroke-width: 1.5;\"/><line style=\"stroke: #000000; stroke-width: 1.5;\" x1=\"231.32\" x2=\"262.32\" y1=\"443.2969\" y2=\"443.2969\"/><text fill=\"#000000\" font-family=\"sans-serif\" font-size=\"14\" font-weight=\"bold\" lengthAdjust=\"spacingAndGlyphs\" textLength=\"18\" x=\"235.32\" y=\"435.9951\">P1</text></a><!--MD5=[14e3b0961a2654348d326746436168a1]\n",
       "cluster E6--><a href=\"psysml:90563c83-8b6e-4371-ac3b-36c1983fe7e9\" target=\"_top\" title=\"psysml:90563c83-8b6e-4371-ac3b-36c1983fe7e9\" xlink:actuate=\"onRequest\" xlink:href=\"psysml:90563c83-8b6e-4371-ac3b-36c1983fe7e9\" xlink:show=\"new\" xlink:title=\"psysml:90563c83-8b6e-4371-ac3b-36c1983fe7e9\" xlink:type=\"simple\"><polygon fill=\"#FFFFFF\" filter=\"url(#f1n8a7i1xo5947)\" points=\"74.32,243,98.32,243,105.32,265.2969,211.32,265.2969,211.32,356,74.32,356,74.32,243\" style=\"stroke: #000000; stroke-width: 1.5;\"/><line style=\"stroke: #000000; stroke-width: 1.5;\" x1=\"74.32\" x2=\"105.32\" y1=\"265.2969\" y2=\"265.2969\"/><text fill=\"#000000\" font-family=\"sans-serif\" font-size=\"14\" font-weight=\"bold\" lengthAdjust=\"spacingAndGlyphs\" textLength=\"18\" x=\"78.32\" y=\"257.9951\">P3</text></a><!--MD5=[7f149f147074ac12df2cb0a7728a5fb0]\n",
       "cluster E9--><a href=\"psysml:2733cc0d-ab4e-4acc-aaf2-0d4d1c16697a\" target=\"_top\" title=\"psysml:2733cc0d-ab4e-4acc-aaf2-0d4d1c16697a\" xlink:actuate=\"onRequest\" xlink:href=\"psysml:2733cc0d-ab4e-4acc-aaf2-0d4d1c16697a\" xlink:show=\"new\" xlink:title=\"psysml:2733cc0d-ab4e-4acc-aaf2-0d4d1c16697a\" xlink:type=\"simple\"><polygon fill=\"#FFFFFF\" filter=\"url(#f1n8a7i1xo5947)\" points=\"262.32,65,286.32,65,293.32,87.2969,371.32,87.2969,371.32,178,262.32,178,262.32,65\" style=\"stroke: #000000; stroke-width: 1.5;\"/><line style=\"stroke: #000000; stroke-width: 1.5;\" x1=\"262.32\" x2=\"293.32\" y1=\"87.2969\" y2=\"87.2969\"/><text fill=\"#000000\" font-family=\"sans-serif\" font-size=\"14\" font-weight=\"bold\" lengthAdjust=\"spacingAndGlyphs\" textLength=\"18\" x=\"266.32\" y=\"79.9951\">P4</text></a><!--MD5=[270fce915f116d4de14055a7c1d9a0f3]\n",
       "class E5--><a href=\"psysml:4755439e-6dab-436e-bf4a-d220bd8663ba\" target=\"_top\" title=\"psysml:4755439e-6dab-436e-bf4a-d220bd8663ba\" xlink:actuate=\"onRequest\" xlink:href=\"psysml:4755439e-6dab-436e-bf4a-d220bd8663ba\" xlink:show=\"new\" xlink:title=\"psysml:4755439e-6dab-436e-bf4a-d220bd8663ba\" xlink:type=\"simple\"><rect fill=\"#FEFECE\" filter=\"url(#f1n8a7i1xo5947)\" height=\"45.9375\" id=\"E5\" rx=\"10\" ry=\"10\" style=\"stroke: #A80036; stroke-width: 1.5;\" width=\"42\" x=\"345.32\" y=\"286\"/><text fill=\"#000000\" font-family=\"sans-serif\" font-size=\"12\" font-style=\"italic\" lengthAdjust=\"spacingAndGlyphs\" textLength=\"40\" x=\"346.32\" y=\"302.1387\">«part»</text><text fill=\"#000000\" font-family=\"sans-serif\" font-size=\"12\" lengthAdjust=\"spacingAndGlyphs\" textLength=\"22\" x=\"353.32\" y=\"316.1074\">x: A</text><line style=\"stroke: #A80036; stroke-width: 1.5;\" x1=\"346.32\" x2=\"386.32\" y1=\"323.9375\" y2=\"323.9375\"/></a><!--MD5=[b9389687b975829384b498ac4b7476b2]\n",
       "class E8--><a href=\"psysml:dfc306bc-28cd-4074-8d12-696a322e5955\" target=\"_top\" title=\"psysml:dfc306bc-28cd-4074-8d12-696a322e5955\" xlink:actuate=\"onRequest\" xlink:href=\"psysml:dfc306bc-28cd-4074-8d12-696a322e5955\" xlink:show=\"new\" xlink:title=\"psysml:dfc306bc-28cd-4074-8d12-696a322e5955\" xlink:type=\"simple\"><rect fill=\"#FEFECE\" filter=\"url(#f1n8a7i1xo5947)\" height=\"45.9375\" id=\"E8\" rx=\"10\" ry=\"10\" style=\"stroke: #A80036; stroke-width: 1.5;\" width=\"42\" x=\"193.32\" y=\"108\"/><text fill=\"#000000\" font-family=\"sans-serif\" font-size=\"12\" font-style=\"italic\" lengthAdjust=\"spacingAndGlyphs\" textLength=\"40\" x=\"194.32\" y=\"124.1387\">«part»</text><text fill=\"#000000\" font-family=\"sans-serif\" font-size=\"12\" lengthAdjust=\"spacingAndGlyphs\" textLength=\"21\" x=\"201.82\" y=\"138.1074\">z: B</text><line style=\"stroke: #A80036; stroke-width: 1.5;\" x1=\"194.32\" x2=\"234.32\" y1=\"145.9375\" y2=\"145.9375\"/></a><!--MD5=[09b614a08d8cba4a07c9adeb5e0fee81]\n",
       "class E3--><a href=\"psysml:1f011377-ef65-4253-92ff-be4f522feeb1\" target=\"_top\" title=\"psysml:1f011377-ef65-4253-92ff-be4f522feeb1\" xlink:actuate=\"onRequest\" xlink:href=\"psysml:1f011377-ef65-4253-92ff-be4f522feeb1\" xlink:show=\"new\" xlink:title=\"psysml:1f011377-ef65-4253-92ff-be4f522feeb1\" xlink:type=\"simple\"><rect fill=\"#FEFECE\" filter=\"url(#f1n8a7i1xo5947)\" height=\"45.9375\" id=\"E3\" style=\"stroke: #A80036; stroke-width: 1.5;\" width=\"70\" x=\"274.32\" y=\"464\"/><text fill=\"#000000\" font-family=\"sans-serif\" font-size=\"12\" font-style=\"italic\" lengthAdjust=\"spacingAndGlyphs\" textLength=\"68\" x=\"275.32\" y=\"480.1387\">«part  def»</text><text fill=\"#000000\" font-family=\"sans-serif\" font-size=\"12\" lengthAdjust=\"spacingAndGlyphs\" textLength=\"8\" x=\"305.32\" y=\"494.1074\">A</text><line style=\"stroke: #A80036; stroke-width: 1.5;\" x1=\"275.32\" x2=\"343.32\" y1=\"501.9375\" y2=\"501.9375\"/></a><a href=\"psysml:7d907640-2982-4506-b0ab-4e4fe8a9afec\" target=\"_top\" title=\"psysml:7d907640-2982-4506-b0ab-4e4fe8a9afec\" xlink:actuate=\"onRequest\" xlink:href=\"psysml:7d907640-2982-4506-b0ab-4e4fe8a9afec\" xlink:show=\"new\" xlink:title=\"psysml:7d907640-2982-4506-b0ab-4e4fe8a9afec\" xlink:type=\"simple\"><polygon fill=\"#FFFFFF\" filter=\"url(#f1n8a7i1xo5947)\" points=\"235.32,282.5,259.32,282.5,266.32,304.7969,273.32,304.7969,273.32,335.0938,235.32,335.0938,235.32,282.5\" style=\"stroke: #000000; stroke-width: 1.5;\"/><line style=\"stroke: #000000; stroke-width: 1.5;\" x1=\"235.32\" x2=\"266.32\" y1=\"304.7969\" y2=\"304.7969\"/><text fill=\"#000000\" font-family=\"sans-serif\" font-size=\"14\" font-weight=\"bold\" lengthAdjust=\"spacingAndGlyphs\" textLength=\"18\" x=\"239.32\" y=\"297.4951\">P2</text></a><!--MD5=[2156ba9850f5573cc1fc38a6a4b2f02b]\n",
       "class E7--><a href=\"psysml:bdb8801b-74e6-41c7-b5f1-114cae898237\" target=\"_top\" title=\"psysml:bdb8801b-74e6-41c7-b5f1-114cae898237\" xlink:actuate=\"onRequest\" xlink:href=\"psysml:bdb8801b-74e6-41c7-b5f1-114cae898237\" xlink:show=\"new\" xlink:title=\"psysml:bdb8801b-74e6-41c7-b5f1-114cae898237\" xlink:type=\"simple\"><rect fill=\"#FEFECE\" filter=\"url(#f1n8a7i1xo5947)\" height=\"45.9375\" id=\"E7\" style=\"stroke: #A80036; stroke-width: 1.5;\" width=\"70\" x=\"117.32\" y=\"286\"/><text fill=\"#000000\" font-family=\"sans-serif\" font-size=\"12\" font-style=\"italic\" lengthAdjust=\"spacingAndGlyphs\" textLength=\"68\" x=\"118.32\" y=\"302.1387\">«part  def»</text><text fill=\"#000000\" font-family=\"sans-serif\" font-size=\"12\" lengthAdjust=\"spacingAndGlyphs\" textLength=\"8\" x=\"148.32\" y=\"316.1074\">B</text><line style=\"stroke: #A80036; stroke-width: 1.5;\" x1=\"118.32\" x2=\"186.32\" y1=\"323.9375\" y2=\"323.9375\"/></a><!--MD5=[96f4274e9e20536e775497830990834d]\n",
       "class E10--><a href=\"psysml:aa943bbf-59d6-4c08-9403-21388691ca57\" target=\"_top\" title=\"psysml:aa943bbf-59d6-4c08-9403-21388691ca57\" xlink:actuate=\"onRequest\" xlink:href=\"psysml:aa943bbf-59d6-4c08-9403-21388691ca57\" xlink:show=\"new\" xlink:title=\"psysml:aa943bbf-59d6-4c08-9403-21388691ca57\" xlink:type=\"simple\"><rect fill=\"#FEFECE\" filter=\"url(#f1n8a7i1xo5947)\" height=\"45.9375\" id=\"E10\" rx=\"10\" ry=\"10\" style=\"stroke: #A80036; stroke-width: 1.5;\" width=\"42\" x=\"305.32\" y=\"108\"/><text fill=\"#000000\" font-family=\"sans-serif\" font-size=\"12\" font-style=\"italic\" lengthAdjust=\"spacingAndGlyphs\" textLength=\"40\" x=\"306.32\" y=\"124.1387\">«part»</text><text fill=\"#000000\" font-family=\"sans-serif\" font-size=\"12\" lengthAdjust=\"spacingAndGlyphs\" textLength=\"29\" x=\"309.82\" y=\"138.1074\">z1: A</text><line style=\"stroke: #A80036; stroke-width: 1.5;\" x1=\"306.32\" x2=\"346.32\" y1=\"145.9375\" y2=\"145.9375\"/></a><!--MD5=[185131fc0dcab0a4505a2ebe144e961b]\n",
       "link E4 to E2--><a href=\"psysml:113e6c15-2e9f-43c2-9a8b-f1023998ecb3\" target=\"_top\" title=\"psysml:113e6c15-2e9f-43c2-9a8b-f1023998ecb3\" xlink:actuate=\"onRequest\" xlink:href=\"psysml:113e6c15-2e9f-43c2-9a8b-f1023998ecb3\" xlink:show=\"new\" xlink:title=\"psysml:113e6c15-2e9f-43c2-9a8b-f1023998ecb3\" xlink:type=\"simple\"><path d=\"M244.71,335.52 C240.28,348.61 235.53,364.94 233.32,380 C231.6325,391.49 231.1388,403.7444 231.3534,415.6911 C231.3803,417.1844 231.4182,418.673 231.4662,420.1546 C231.4722,420.3398 231.4784,420.5249 231.4847,420.7099 \" fill=\"none\" id=\"E4-&gt;E2\" style=\"stroke: #A80036; stroke-width: 1.0; stroke-dasharray: 7.0,7.0;\"/><polygon fill=\"#A80036\" points=\"231.4847,420.7099,235.1752,411.5786,231.314,415.7128,227.1798,411.8517,231.4847,420.7099\" style=\"stroke: #A80036; stroke-width: 1.0;\"/><text fill=\"#000000\" font-family=\"sans-serif\" font-size=\"13\" lengthAdjust=\"spacingAndGlyphs\" textLength=\"65\" x=\"234.32\" y=\"393.0669\">«import»*</text></a><!--MD5=[e9be52314489bd878ff4c7144b63c9e1]\n",
       "link E5 to E3--><a href=\"psysml:2e030f48-ed8d-4fbc-a256-8117ac7131ec\" target=\"_top\" title=\"psysml:2e030f48-ed8d-4fbc-a256-8117ac7131ec\" xlink:actuate=\"onRequest\" xlink:href=\"psysml:2e030f48-ed8d-4fbc-a256-8117ac7131ec\" xlink:show=\"new\" xlink:title=\"psysml:2e030f48-ed8d-4fbc-a256-8117ac7131ec\" xlink:type=\"simple\"><path d=\"M359.1,332.29 C349.98,360.46 334.1,409.49 322.72,444.61 \" fill=\"none\" id=\"E5-&gt;E3\" style=\"stroke: #A80036; stroke-width: 1.0;\"/><polygon fill=\"#FFFFFF\" points=\"316.48,463.89,315.6693,443.6578,328.9893,447.9678,316.48,463.89\" style=\"stroke: #A80036; stroke-width: 1.0;\"/><ellipse cx=\"319.3269\" cy=\"438.8503\" fill=\"#A80036\" rx=\"2\" ry=\"2\" style=\"stroke: #A80036; stroke-width: 1.0;\"/><ellipse cx=\"328.8413\" cy=\"441.9289\" fill=\"#A80036\" rx=\"2\" ry=\"2\" style=\"stroke: #A80036; stroke-width: 1.0;\"/></a><!--MD5=[ee384bb554873b72f85793eae40e290c]\n",
       "link E1 to E4--><a href=\"psysml:a039409c-dc44-4261-a761-133767375f35\" target=\"_top\" title=\"psysml:a039409c-dc44-4261-a761-133767375f35\" xlink:actuate=\"onRequest\" xlink:href=\"psysml:a039409c-dc44-4261-a761-133767375f35\" xlink:show=\"new\" xlink:title=\"psysml:a039409c-dc44-4261-a761-133767375f35\" xlink:type=\"simple\"><path d=\"M34.29,132.12 C33.65,134.6 23.75,174.52 42.32,194 C49.33,201.35 77.35,200.04 87.32,202 C113.19,207.09 181.71,211.88 203.32,227 C220.99,239.37 233.85,260.02 242.24,277.37 \" fill=\"none\" id=\"E1-&gt;E4\" style=\"stroke: #A80036; stroke-width: 1.0; stroke-dasharray: 7.0,7.0;\"/><polygon fill=\"#A80036\" points=\"244.49,282.17,244.3071,272.3228,242.3748,277.6394,237.0582,275.7072,244.49,282.17\" style=\"stroke: #A80036; stroke-width: 1.0;\"/><text fill=\"#000000\" font-family=\"sans-serif\" font-size=\"13\" lengthAdjust=\"spacingAndGlyphs\" textLength=\"65\" x=\"183.32\" y=\"215.0669\">«import»*</text></a><!--MD5=[ccbd3af71bf83df0ec2a2db62d6d7130]\n",
       "link E1 to E6--><a href=\"psysml:8872cc02-851e-450c-b3e8-f90f2e3db770\" target=\"_top\" title=\"psysml:8872cc02-851e-450c-b3e8-f90f2e3db770\" xlink:actuate=\"onRequest\" xlink:href=\"psysml:8872cc02-851e-450c-b3e8-f90f2e3db770\" xlink:show=\"new\" xlink:title=\"psysml:8872cc02-851e-450c-b3e8-f90f2e3db770\" xlink:type=\"simple\"><path d=\"M26.1693,145.3513 C26.1165,145.4477 26.0635,145.5445 26.0105,145.6418 C25.9044,145.8363 25.7978,146.0325 25.6908,146.2304 C24.8349,147.8133 23.9523,149.5023 23.0614,151.284 C21.2797,154.8473 19.465,158.7813 17.765,162.9775 C10.965,179.7625 6,200.745 12.32,219 C20.295,242.035 36.9675,263.635 52.0413,279.7863 C59.5781,287.8619 66.7153,294.5753 72.1658,299.4248 C72.8471,300.031 73.502,300.6081 74.1281,301.1551 \" fill=\"none\" id=\"E1-&gt;E6\" style=\"stroke: #A80036; stroke-width: 1.0; stroke-dasharray: 7.0,7.0;\"/><polygon fill=\"#A80036\" points=\"74.1281,301.1551,69.982,292.2214,70.3627,297.8655,64.7187,298.2462,74.1281,301.1551\" style=\"stroke: #A80036; stroke-width: 1.0;\"/><text fill=\"#000000\" font-family=\"sans-serif\" font-size=\"13\" lengthAdjust=\"spacingAndGlyphs\" textLength=\"65\" x=\"13.32\" y=\"215.0669\">«import»*</text></a><!--MD5=[bfa3c8b0d15052fdf50ae9310b491027]\n",
       "link E8 to E7--><a href=\"psysml:0934d2d2-1a49-4ac4-b6c0-cd8fa5ea19dd\" target=\"_top\" title=\"psysml:0934d2d2-1a49-4ac4-b6c0-cd8fa5ea19dd\" xlink:actuate=\"onRequest\" xlink:href=\"psysml:0934d2d2-1a49-4ac4-b6c0-cd8fa5ea19dd\" xlink:show=\"new\" xlink:title=\"psysml:0934d2d2-1a49-4ac4-b6c0-cd8fa5ea19dd\" xlink:type=\"simple\"><path d=\"M232.99,154.29 C246.61,173.37 260.16,200.59 244.32,219 C228.78,237.06 210.49,212.85 191.32,227 C178.2,236.69 169.29,251.96 163.34,266.65 \" fill=\"none\" id=\"E8-&gt;E7\" style=\"stroke: #A80036; stroke-width: 1.0;\"/><polygon fill=\"#FFFFFF\" points=\"156.95,285.73,156.3404,265.4907,169.617,269.9329,156.95,285.73\" style=\"stroke: #A80036; stroke-width: 1.0;\"/><ellipse cx=\"160.0457\" cy=\"260.7199\" fill=\"#A80036\" rx=\"2\" ry=\"2\" style=\"stroke: #A80036; stroke-width: 1.0;\"/><ellipse cx=\"169.5289\" cy=\"263.8929\" fill=\"#A80036\" rx=\"2\" ry=\"2\" style=\"stroke: #A80036; stroke-width: 1.0;\"/></a><!--MD5=[c2be97adba6ddfe1c8f349fab141c927]\n",
       "link E9 to E4--><a href=\"psysml:f0473cf2-6b9f-40e7-98be-e0cb9d304d8b\" target=\"_top\" title=\"psysml:f0473cf2-6b9f-40e7-98be-e0cb9d304d8b\" xlink:actuate=\"onRequest\" xlink:href=\"psysml:f0473cf2-6b9f-40e7-98be-e0cb9d304d8b\" xlink:show=\"new\" xlink:title=\"psysml:f0473cf2-6b9f-40e7-98be-e0cb9d304d8b\" xlink:type=\"simple\"><path d=\"M267.5431,178.2415 C267.5354,178.35 267.5276,178.4585 267.5198,178.5671 C267.3951,180.3034 267.2673,182.0417 267.1366,183.7729 C266.8753,187.2352 266.6025,190.6688 266.32,194 C263.93,222.21 260.49,254.26 257.9,277.18 \" fill=\"none\" id=\"E9-&gt;E4\" style=\"stroke: #A80036; stroke-width: 1.0; stroke-dasharray: 7.0,7.0;\"/><polygon fill=\"#A80036\" points=\"257.33,282.22,262.3075,273.7215,257.8869,277.2511,254.3572,272.8305,257.33,282.22\" style=\"stroke: #A80036; stroke-width: 1.0;\"/><text fill=\"#000000\" font-family=\"sans-serif\" font-size=\"13\" lengthAdjust=\"spacingAndGlyphs\" textLength=\"65\" x=\"266.32\" y=\"215.0669\">«import»*</text></a><!--MD5=[feeac5eb423634930294aa81f2d25a4c]\n",
       "link E10 to E3--><a href=\"psysml:6083fff7-7e2a-4a1f-b6e0-00602bace9f4\" target=\"_top\" title=\"psysml:6083fff7-7e2a-4a1f-b6e0-00602bace9f4\" xlink:actuate=\"onRequest\" xlink:href=\"psysml:6083fff7-7e2a-4a1f-b6e0-00602bace9f4\" xlink:show=\"new\" xlink:title=\"psysml:6083fff7-7e2a-4a1f-b6e0-00602bace9f4\" xlink:type=\"simple\"><path d=\"M345.63,154.11 C359.77,173.07 373.99,200.22 358.32,219 C345.58,234.26 327.2,211.86 314.32,227 C300.64,243.07 304.33,374.79 307.28,443.95 \" fill=\"none\" id=\"E10-&gt;E3\" style=\"stroke: #A80036; stroke-width: 1.0;\"/><polygon fill=\"#FFFFFF\" points=\"308.18,463.98,300.3317,445.3144,314.3175,444.6841,308.18,463.98\" style=\"stroke: #A80036; stroke-width: 1.0;\"/><ellipse cx=\"302.0731\" cy=\"439.5301\" fill=\"#A80036\" rx=\"2\" ry=\"2\" style=\"stroke: #A80036; stroke-width: 1.0;\"/><ellipse cx=\"312.063\" cy=\"439.0799\" fill=\"#A80036\" rx=\"2\" ry=\"2\" style=\"stroke: #A80036; stroke-width: 1.0;\"/></a><!--MD5=[b01b77d13b0401f9916c0ab8c0508bac]\n",
       "@startuml\r\n",
       "skinparam wrapWidth 300\r\n",
       "hide circle\r\n",
       "\r\n",
       "package \"PrivateImportTest\" as E1  [[psysml:56a08668-af7c-402b-8ea6-0ffeccd2e906 ]]  {\r\n",
       "package \"P1\" as E2  [[psysml:989134c5-5272-479d-a43e-5e5573119e0c ]]  {\r\n",
       "comp def \"A\" as E3  <<(T,blue) part  def>> [[psysml:1f011377-ef65-4253-92ff-be4f522feeb1 ]] {\r\n",
       "}\r\n",
       "}\r\n",
       "package \"P2\" as E4  [[psysml:7d907640-2982-4506-b0ab-4e4fe8a9afec ]]  {\r\n",
       "}\r\n",
       "comp usage \"x: A \" as E5  <<(T,blue) part>> [[psysml:4755439e-6dab-436e-bf4a-d220bd8663ba ]] {\r\n",
       "}\r\n",
       "package \"P3\" as E6  [[psysml:90563c83-8b6e-4371-ac3b-36c1983fe7e9 ]]  {\r\n",
       "comp def \"B\" as E7  <<(T,blue) part  def>> [[psysml:bdb8801b-74e6-41c7-b5f1-114cae898237 ]] {\r\n",
       "}\r\n",
       "}\r\n",
       "comp usage \"z: B \" as E8  <<(T,blue) part>> [[psysml:dfc306bc-28cd-4074-8d12-696a322e5955 ]] {\r\n",
       "}\r\n",
       "package \"P4\" as E9  [[psysml:2733cc0d-ab4e-4acc-aaf2-0d4d1c16697a ]]  {\r\n",
       "comp usage \"z1: A \" as E10  <<(T,blue) part>> [[psysml:aa943bbf-59d6-4c08-9403-21388691ca57 ]] {\r\n",
       "}\r\n",
       "}\r\n",
       "}\r\n",
       "E4 ..> E2 [[psysml:113e6c15-2e9f-43c2-9a8b-f1023998ecb3 ]] : <<import>>*\r\n",
       "E5 - -:|> E3 [[psysml:2e030f48-ed8d-4fbc-a256-8117ac7131ec ]] \r\n",
       "E1 ..> E4 [[psysml:a039409c-dc44-4261-a761-133767375f35 ]] : <<import>>*\r\n",
       "E1 ..> E6 [[psysml:8872cc02-851e-450c-b3e8-f90f2e3db770 ]] : <<import>>*\r\n",
       "E8 - -:|> E7 [[psysml:0934d2d2-1a49-4ac4-b6c0-cd8fa5ea19dd ]] \r\n",
       "E9 ..> E4 [[psysml:f0473cf2-6b9f-40e7-98be-e0cb9d304d8b ]] : <<import>>*\r\n",
       "E10 - -:|> E3 [[psysml:6083fff7-7e2a-4a1f-b6e0-00602bace9f4 ]] \r\n",
       "@enduml\r\n",
       "\n",
       "PlantUML version 1.2020.13(Sat Jun 13 12:26:38 UTC 2020)\n",
       "(EPL source distribution)\n",
       "Java Runtime: OpenJDK Runtime Environment\n",
       "JVM: OpenJDK 64-Bit Server VM\n",
       "Default Encoding: UTF-8\n",
       "Language: en\n",
       "Country: null\n",
       "--></g></svg>"
      ]
     },
     "execution_count": 23,
     "metadata": {},
     "output_type": "execute_result"
    }
   ],
   "source": [
    "%viz --style=\"STDCOLOR\" --view=\"Default\" \"PrivateImportTest\""
   ]
  },
  {
   "cell_type": "code",
   "execution_count": 24,
   "id": "2925a36f",
   "metadata": {
    "execution": {
     "iopub.execute_input": "2022-02-18T10:48:46.599619Z",
     "iopub.status.busy": "2022-02-18T10:48:46.599210Z",
     "iopub.status.idle": "2022-02-18T10:48:46.636484Z",
     "shell.execute_reply": "2022-02-18T10:48:46.636105Z"
    }
   },
   "outputs": [
    {
     "data": {
      "image/svg+xml": [
       "<?xml version=\"1.0\" encoding=\"UTF-8\" standalone=\"no\"?><svg xmlns=\"http://www.w3.org/2000/svg\" xmlns:xlink=\"http://www.w3.org/1999/xlink\" contentScriptType=\"application/ecmascript\" contentStyleType=\"text/css\" height=\"586px\" preserveAspectRatio=\"none\" style=\"width:433px;height:586px;\" version=\"1.1\" viewBox=\"0 0 433 586\" width=\"433px\" zoomAndPan=\"magnify\"><defs><filter height=\"300%\" id=\"f1n8a7i1xo5947\" width=\"300%\" x=\"-1\" y=\"-1\"><feGaussianBlur result=\"blurOut\" stdDeviation=\"2.0\"/><feColorMatrix in=\"blurOut\" result=\"blurOut2\" type=\"matrix\" values=\"0 0 0 0 0 0 0 0 0 0 0 0 0 0 0 0 0 0 .4 0\"/><feOffset dx=\"4.0\" dy=\"4.0\" in=\"blurOut2\" result=\"blurOut3\"/><feBlend in=\"SourceGraphic\" in2=\"blurOut3\" mode=\"normal\"/></filter></defs><g><!--MD5=[fbc87193dbaf4d95561dea2c320d4a47]\n",
       "cluster E1--><a href=\"psysml:56a08668-af7c-402b-8ea6-0ffeccd2e906\" target=\"_top\" title=\"psysml:56a08668-af7c-402b-8ea6-0ffeccd2e906\" xlink:actuate=\"onRequest\" xlink:href=\"psysml:56a08668-af7c-402b-8ea6-0ffeccd2e906\" xlink:show=\"new\" xlink:title=\"psysml:56a08668-af7c-402b-8ea6-0ffeccd2e906\" xlink:type=\"simple\"><polygon fill=\"#FFFFFF\" filter=\"url(#f1n8a7i1xo5947)\" points=\"26.32,6,153.32,6,160.32,28.2969,411.32,28.2969,411.32,574,26.32,574,26.32,6\" style=\"stroke: #000000; stroke-width: 1.5;\"/><line style=\"stroke: #000000; stroke-width: 1.5;\" x1=\"26.32\" x2=\"160.32\" y1=\"28.2969\" y2=\"28.2969\"/><text fill=\"#000000\" font-family=\"sans-serif\" font-size=\"14\" font-weight=\"bold\" lengthAdjust=\"spacingAndGlyphs\" textLength=\"121\" x=\"30.32\" y=\"20.9951\">PrivateImportTest</text></a><!--MD5=[e4f7fae6ed58524ba242bb0b0d3be6b7]\n",
       "cluster E2--><a href=\"psysml:989134c5-5272-479d-a43e-5e5573119e0c\" target=\"_top\" title=\"psysml:989134c5-5272-479d-a43e-5e5573119e0c\" xlink:actuate=\"onRequest\" xlink:href=\"psysml:989134c5-5272-479d-a43e-5e5573119e0c\" xlink:show=\"new\" xlink:title=\"psysml:989134c5-5272-479d-a43e-5e5573119e0c\" xlink:type=\"simple\"><polygon fill=\"#FFFFFF\" filter=\"url(#f1n8a7i1xo5947)\" points=\"231.32,421,255.32,421,262.32,443.2969,368.32,443.2969,368.32,534,231.32,534,231.32,421\" style=\"stroke: #000000; stroke-width: 1.5;\"/><line style=\"stroke: #000000; stroke-width: 1.5;\" x1=\"231.32\" x2=\"262.32\" y1=\"443.2969\" y2=\"443.2969\"/><text fill=\"#000000\" font-family=\"sans-serif\" font-size=\"14\" font-weight=\"bold\" lengthAdjust=\"spacingAndGlyphs\" textLength=\"18\" x=\"235.32\" y=\"435.9951\">P1</text></a><!--MD5=[14e3b0961a2654348d326746436168a1]\n",
       "cluster E6--><a href=\"psysml:90563c83-8b6e-4371-ac3b-36c1983fe7e9\" target=\"_top\" title=\"psysml:90563c83-8b6e-4371-ac3b-36c1983fe7e9\" xlink:actuate=\"onRequest\" xlink:href=\"psysml:90563c83-8b6e-4371-ac3b-36c1983fe7e9\" xlink:show=\"new\" xlink:title=\"psysml:90563c83-8b6e-4371-ac3b-36c1983fe7e9\" xlink:type=\"simple\"><polygon fill=\"#FFFFFF\" filter=\"url(#f1n8a7i1xo5947)\" points=\"74.32,243,98.32,243,105.32,265.2969,211.32,265.2969,211.32,356,74.32,356,74.32,243\" style=\"stroke: #000000; stroke-width: 1.5;\"/><line style=\"stroke: #000000; stroke-width: 1.5;\" x1=\"74.32\" x2=\"105.32\" y1=\"265.2969\" y2=\"265.2969\"/><text fill=\"#000000\" font-family=\"sans-serif\" font-size=\"14\" font-weight=\"bold\" lengthAdjust=\"spacingAndGlyphs\" textLength=\"18\" x=\"78.32\" y=\"257.9951\">P3</text></a><!--MD5=[7f149f147074ac12df2cb0a7728a5fb0]\n",
       "cluster E9--><a href=\"psysml:2733cc0d-ab4e-4acc-aaf2-0d4d1c16697a\" target=\"_top\" title=\"psysml:2733cc0d-ab4e-4acc-aaf2-0d4d1c16697a\" xlink:actuate=\"onRequest\" xlink:href=\"psysml:2733cc0d-ab4e-4acc-aaf2-0d4d1c16697a\" xlink:show=\"new\" xlink:title=\"psysml:2733cc0d-ab4e-4acc-aaf2-0d4d1c16697a\" xlink:type=\"simple\"><polygon fill=\"#FFFFFF\" filter=\"url(#f1n8a7i1xo5947)\" points=\"262.32,65,286.32,65,293.32,87.2969,371.32,87.2969,371.32,178,262.32,178,262.32,65\" style=\"stroke: #000000; stroke-width: 1.5;\"/><line style=\"stroke: #000000; stroke-width: 1.5;\" x1=\"262.32\" x2=\"293.32\" y1=\"87.2969\" y2=\"87.2969\"/><text fill=\"#000000\" font-family=\"sans-serif\" font-size=\"14\" font-weight=\"bold\" lengthAdjust=\"spacingAndGlyphs\" textLength=\"18\" x=\"266.32\" y=\"79.9951\">P4</text></a><!--MD5=[270fce915f116d4de14055a7c1d9a0f3]\n",
       "class E5--><a href=\"psysml:4755439e-6dab-436e-bf4a-d220bd8663ba\" target=\"_top\" title=\"psysml:4755439e-6dab-436e-bf4a-d220bd8663ba\" xlink:actuate=\"onRequest\" xlink:href=\"psysml:4755439e-6dab-436e-bf4a-d220bd8663ba\" xlink:show=\"new\" xlink:title=\"psysml:4755439e-6dab-436e-bf4a-d220bd8663ba\" xlink:type=\"simple\"><rect fill=\"#FEFECE\" filter=\"url(#f1n8a7i1xo5947)\" height=\"45.9375\" id=\"E5\" rx=\"10\" ry=\"10\" style=\"stroke: #A80036; stroke-width: 1.5;\" width=\"42\" x=\"345.32\" y=\"286\"/><text fill=\"#000000\" font-family=\"sans-serif\" font-size=\"12\" font-style=\"italic\" lengthAdjust=\"spacingAndGlyphs\" textLength=\"40\" x=\"346.32\" y=\"302.1387\">«part»</text><text fill=\"#000000\" font-family=\"sans-serif\" font-size=\"12\" lengthAdjust=\"spacingAndGlyphs\" textLength=\"22\" x=\"353.32\" y=\"316.1074\">x: A</text><line style=\"stroke: #A80036; stroke-width: 1.5;\" x1=\"346.32\" x2=\"386.32\" y1=\"323.9375\" y2=\"323.9375\"/></a><!--MD5=[b9389687b975829384b498ac4b7476b2]\n",
       "class E8--><a href=\"psysml:dfc306bc-28cd-4074-8d12-696a322e5955\" target=\"_top\" title=\"psysml:dfc306bc-28cd-4074-8d12-696a322e5955\" xlink:actuate=\"onRequest\" xlink:href=\"psysml:dfc306bc-28cd-4074-8d12-696a322e5955\" xlink:show=\"new\" xlink:title=\"psysml:dfc306bc-28cd-4074-8d12-696a322e5955\" xlink:type=\"simple\"><rect fill=\"#FEFECE\" filter=\"url(#f1n8a7i1xo5947)\" height=\"45.9375\" id=\"E8\" rx=\"10\" ry=\"10\" style=\"stroke: #A80036; stroke-width: 1.5;\" width=\"42\" x=\"193.32\" y=\"108\"/><text fill=\"#000000\" font-family=\"sans-serif\" font-size=\"12\" font-style=\"italic\" lengthAdjust=\"spacingAndGlyphs\" textLength=\"40\" x=\"194.32\" y=\"124.1387\">«part»</text><text fill=\"#000000\" font-family=\"sans-serif\" font-size=\"12\" lengthAdjust=\"spacingAndGlyphs\" textLength=\"21\" x=\"201.82\" y=\"138.1074\">z: B</text><line style=\"stroke: #A80036; stroke-width: 1.5;\" x1=\"194.32\" x2=\"234.32\" y1=\"145.9375\" y2=\"145.9375\"/></a><!--MD5=[09b614a08d8cba4a07c9adeb5e0fee81]\n",
       "class E3--><a href=\"psysml:1f011377-ef65-4253-92ff-be4f522feeb1\" target=\"_top\" title=\"psysml:1f011377-ef65-4253-92ff-be4f522feeb1\" xlink:actuate=\"onRequest\" xlink:href=\"psysml:1f011377-ef65-4253-92ff-be4f522feeb1\" xlink:show=\"new\" xlink:title=\"psysml:1f011377-ef65-4253-92ff-be4f522feeb1\" xlink:type=\"simple\"><rect fill=\"#FEFECE\" filter=\"url(#f1n8a7i1xo5947)\" height=\"45.9375\" id=\"E3\" style=\"stroke: #A80036; stroke-width: 1.5;\" width=\"70\" x=\"274.32\" y=\"464\"/><text fill=\"#000000\" font-family=\"sans-serif\" font-size=\"12\" font-style=\"italic\" lengthAdjust=\"spacingAndGlyphs\" textLength=\"68\" x=\"275.32\" y=\"480.1387\">«part  def»</text><text fill=\"#000000\" font-family=\"sans-serif\" font-size=\"12\" lengthAdjust=\"spacingAndGlyphs\" textLength=\"8\" x=\"305.32\" y=\"494.1074\">A</text><line style=\"stroke: #A80036; stroke-width: 1.5;\" x1=\"275.32\" x2=\"343.32\" y1=\"501.9375\" y2=\"501.9375\"/></a><a href=\"psysml:7d907640-2982-4506-b0ab-4e4fe8a9afec\" target=\"_top\" title=\"psysml:7d907640-2982-4506-b0ab-4e4fe8a9afec\" xlink:actuate=\"onRequest\" xlink:href=\"psysml:7d907640-2982-4506-b0ab-4e4fe8a9afec\" xlink:show=\"new\" xlink:title=\"psysml:7d907640-2982-4506-b0ab-4e4fe8a9afec\" xlink:type=\"simple\"><polygon fill=\"#FFFFFF\" filter=\"url(#f1n8a7i1xo5947)\" points=\"235.32,282.5,259.32,282.5,266.32,304.7969,273.32,304.7969,273.32,335.0938,235.32,335.0938,235.32,282.5\" style=\"stroke: #000000; stroke-width: 1.5;\"/><line style=\"stroke: #000000; stroke-width: 1.5;\" x1=\"235.32\" x2=\"266.32\" y1=\"304.7969\" y2=\"304.7969\"/><text fill=\"#000000\" font-family=\"sans-serif\" font-size=\"14\" font-weight=\"bold\" lengthAdjust=\"spacingAndGlyphs\" textLength=\"18\" x=\"239.32\" y=\"297.4951\">P2</text></a><!--MD5=[2156ba9850f5573cc1fc38a6a4b2f02b]\n",
       "class E7--><a href=\"psysml:bdb8801b-74e6-41c7-b5f1-114cae898237\" target=\"_top\" title=\"psysml:bdb8801b-74e6-41c7-b5f1-114cae898237\" xlink:actuate=\"onRequest\" xlink:href=\"psysml:bdb8801b-74e6-41c7-b5f1-114cae898237\" xlink:show=\"new\" xlink:title=\"psysml:bdb8801b-74e6-41c7-b5f1-114cae898237\" xlink:type=\"simple\"><rect fill=\"#FEFECE\" filter=\"url(#f1n8a7i1xo5947)\" height=\"45.9375\" id=\"E7\" style=\"stroke: #A80036; stroke-width: 1.5;\" width=\"70\" x=\"117.32\" y=\"286\"/><text fill=\"#000000\" font-family=\"sans-serif\" font-size=\"12\" font-style=\"italic\" lengthAdjust=\"spacingAndGlyphs\" textLength=\"68\" x=\"118.32\" y=\"302.1387\">«part  def»</text><text fill=\"#000000\" font-family=\"sans-serif\" font-size=\"12\" lengthAdjust=\"spacingAndGlyphs\" textLength=\"8\" x=\"148.32\" y=\"316.1074\">B</text><line style=\"stroke: #A80036; stroke-width: 1.5;\" x1=\"118.32\" x2=\"186.32\" y1=\"323.9375\" y2=\"323.9375\"/></a><!--MD5=[96f4274e9e20536e775497830990834d]\n",
       "class E10--><a href=\"psysml:aa943bbf-59d6-4c08-9403-21388691ca57\" target=\"_top\" title=\"psysml:aa943bbf-59d6-4c08-9403-21388691ca57\" xlink:actuate=\"onRequest\" xlink:href=\"psysml:aa943bbf-59d6-4c08-9403-21388691ca57\" xlink:show=\"new\" xlink:title=\"psysml:aa943bbf-59d6-4c08-9403-21388691ca57\" xlink:type=\"simple\"><rect fill=\"#FEFECE\" filter=\"url(#f1n8a7i1xo5947)\" height=\"45.9375\" id=\"E10\" rx=\"10\" ry=\"10\" style=\"stroke: #A80036; stroke-width: 1.5;\" width=\"42\" x=\"305.32\" y=\"108\"/><text fill=\"#000000\" font-family=\"sans-serif\" font-size=\"12\" font-style=\"italic\" lengthAdjust=\"spacingAndGlyphs\" textLength=\"40\" x=\"306.32\" y=\"124.1387\">«part»</text><text fill=\"#000000\" font-family=\"sans-serif\" font-size=\"12\" lengthAdjust=\"spacingAndGlyphs\" textLength=\"29\" x=\"309.82\" y=\"138.1074\">z1: A</text><line style=\"stroke: #A80036; stroke-width: 1.5;\" x1=\"306.32\" x2=\"346.32\" y1=\"145.9375\" y2=\"145.9375\"/></a><!--MD5=[185131fc0dcab0a4505a2ebe144e961b]\n",
       "link E4 to E2--><a href=\"psysml:113e6c15-2e9f-43c2-9a8b-f1023998ecb3\" target=\"_top\" title=\"psysml:113e6c15-2e9f-43c2-9a8b-f1023998ecb3\" xlink:actuate=\"onRequest\" xlink:href=\"psysml:113e6c15-2e9f-43c2-9a8b-f1023998ecb3\" xlink:show=\"new\" xlink:title=\"psysml:113e6c15-2e9f-43c2-9a8b-f1023998ecb3\" xlink:type=\"simple\"><path d=\"M244.71,335.52 C240.28,348.61 235.53,364.94 233.32,380 C231.6325,391.49 231.1388,403.7444 231.3534,415.6911 C231.3803,417.1844 231.4182,418.673 231.4662,420.1546 C231.4722,420.3398 231.4784,420.5249 231.4847,420.7099 \" fill=\"none\" id=\"E4-&gt;E2\" style=\"stroke: #A80036; stroke-width: 1.0; stroke-dasharray: 7.0,7.0;\"/><polygon fill=\"#A80036\" points=\"231.4847,420.7099,235.1752,411.5786,231.314,415.7128,227.1798,411.8517,231.4847,420.7099\" style=\"stroke: #A80036; stroke-width: 1.0;\"/><text fill=\"#000000\" font-family=\"sans-serif\" font-size=\"13\" lengthAdjust=\"spacingAndGlyphs\" textLength=\"65\" x=\"234.32\" y=\"393.0669\">«import»*</text></a><!--MD5=[e9be52314489bd878ff4c7144b63c9e1]\n",
       "link E5 to E3--><a href=\"psysml:2e030f48-ed8d-4fbc-a256-8117ac7131ec\" target=\"_top\" title=\"psysml:2e030f48-ed8d-4fbc-a256-8117ac7131ec\" xlink:actuate=\"onRequest\" xlink:href=\"psysml:2e030f48-ed8d-4fbc-a256-8117ac7131ec\" xlink:show=\"new\" xlink:title=\"psysml:2e030f48-ed8d-4fbc-a256-8117ac7131ec\" xlink:type=\"simple\"><path d=\"M359.1,332.29 C349.98,360.46 334.1,409.49 322.72,444.61 \" fill=\"none\" id=\"E5-&gt;E3\" style=\"stroke: #A80036; stroke-width: 1.0;\"/><polygon fill=\"#FFFFFF\" points=\"316.48,463.89,315.6693,443.6578,328.9893,447.9678,316.48,463.89\" style=\"stroke: #A80036; stroke-width: 1.0;\"/><ellipse cx=\"319.3269\" cy=\"438.8503\" fill=\"#A80036\" rx=\"2\" ry=\"2\" style=\"stroke: #A80036; stroke-width: 1.0;\"/><ellipse cx=\"328.8413\" cy=\"441.9289\" fill=\"#A80036\" rx=\"2\" ry=\"2\" style=\"stroke: #A80036; stroke-width: 1.0;\"/></a><!--MD5=[ee384bb554873b72f85793eae40e290c]\n",
       "link E1 to E4--><a href=\"psysml:a039409c-dc44-4261-a761-133767375f35\" target=\"_top\" title=\"psysml:a039409c-dc44-4261-a761-133767375f35\" xlink:actuate=\"onRequest\" xlink:href=\"psysml:a039409c-dc44-4261-a761-133767375f35\" xlink:show=\"new\" xlink:title=\"psysml:a039409c-dc44-4261-a761-133767375f35\" xlink:type=\"simple\"><path d=\"M34.29,132.12 C33.65,134.6 23.75,174.52 42.32,194 C49.33,201.35 77.35,200.04 87.32,202 C113.19,207.09 181.71,211.88 203.32,227 C220.99,239.37 233.85,260.02 242.24,277.37 \" fill=\"none\" id=\"E1-&gt;E4\" style=\"stroke: #A80036; stroke-width: 1.0; stroke-dasharray: 7.0,7.0;\"/><polygon fill=\"#A80036\" points=\"244.49,282.17,244.3071,272.3228,242.3748,277.6394,237.0582,275.7072,244.49,282.17\" style=\"stroke: #A80036; stroke-width: 1.0;\"/><text fill=\"#000000\" font-family=\"sans-serif\" font-size=\"13\" lengthAdjust=\"spacingAndGlyphs\" textLength=\"65\" x=\"183.32\" y=\"215.0669\">«import»*</text></a><!--MD5=[ccbd3af71bf83df0ec2a2db62d6d7130]\n",
       "link E1 to E6--><a href=\"psysml:8872cc02-851e-450c-b3e8-f90f2e3db770\" target=\"_top\" title=\"psysml:8872cc02-851e-450c-b3e8-f90f2e3db770\" xlink:actuate=\"onRequest\" xlink:href=\"psysml:8872cc02-851e-450c-b3e8-f90f2e3db770\" xlink:show=\"new\" xlink:title=\"psysml:8872cc02-851e-450c-b3e8-f90f2e3db770\" xlink:type=\"simple\"><path d=\"M26.1693,145.3513 C26.1165,145.4477 26.0635,145.5445 26.0105,145.6418 C25.9044,145.8363 25.7978,146.0325 25.6908,146.2304 C24.8349,147.8133 23.9523,149.5023 23.0614,151.284 C21.2797,154.8473 19.465,158.7813 17.765,162.9775 C10.965,179.7625 6,200.745 12.32,219 C20.295,242.035 36.9675,263.635 52.0413,279.7863 C59.5781,287.8619 66.7153,294.5753 72.1658,299.4248 C72.8471,300.031 73.502,300.6081 74.1281,301.1551 \" fill=\"none\" id=\"E1-&gt;E6\" style=\"stroke: #A80036; stroke-width: 1.0; stroke-dasharray: 7.0,7.0;\"/><polygon fill=\"#A80036\" points=\"74.1281,301.1551,69.982,292.2214,70.3627,297.8655,64.7187,298.2462,74.1281,301.1551\" style=\"stroke: #A80036; stroke-width: 1.0;\"/><text fill=\"#000000\" font-family=\"sans-serif\" font-size=\"13\" lengthAdjust=\"spacingAndGlyphs\" textLength=\"65\" x=\"13.32\" y=\"215.0669\">«import»*</text></a><!--MD5=[bfa3c8b0d15052fdf50ae9310b491027]\n",
       "link E8 to E7--><a href=\"psysml:0934d2d2-1a49-4ac4-b6c0-cd8fa5ea19dd\" target=\"_top\" title=\"psysml:0934d2d2-1a49-4ac4-b6c0-cd8fa5ea19dd\" xlink:actuate=\"onRequest\" xlink:href=\"psysml:0934d2d2-1a49-4ac4-b6c0-cd8fa5ea19dd\" xlink:show=\"new\" xlink:title=\"psysml:0934d2d2-1a49-4ac4-b6c0-cd8fa5ea19dd\" xlink:type=\"simple\"><path d=\"M232.99,154.29 C246.61,173.37 260.16,200.59 244.32,219 C228.78,237.06 210.49,212.85 191.32,227 C178.2,236.69 169.29,251.96 163.34,266.65 \" fill=\"none\" id=\"E8-&gt;E7\" style=\"stroke: #A80036; stroke-width: 1.0;\"/><polygon fill=\"#FFFFFF\" points=\"156.95,285.73,156.3404,265.4907,169.617,269.9329,156.95,285.73\" style=\"stroke: #A80036; stroke-width: 1.0;\"/><ellipse cx=\"160.0457\" cy=\"260.7199\" fill=\"#A80036\" rx=\"2\" ry=\"2\" style=\"stroke: #A80036; stroke-width: 1.0;\"/><ellipse cx=\"169.5289\" cy=\"263.8929\" fill=\"#A80036\" rx=\"2\" ry=\"2\" style=\"stroke: #A80036; stroke-width: 1.0;\"/></a><!--MD5=[c2be97adba6ddfe1c8f349fab141c927]\n",
       "link E9 to E4--><a href=\"psysml:f0473cf2-6b9f-40e7-98be-e0cb9d304d8b\" target=\"_top\" title=\"psysml:f0473cf2-6b9f-40e7-98be-e0cb9d304d8b\" xlink:actuate=\"onRequest\" xlink:href=\"psysml:f0473cf2-6b9f-40e7-98be-e0cb9d304d8b\" xlink:show=\"new\" xlink:title=\"psysml:f0473cf2-6b9f-40e7-98be-e0cb9d304d8b\" xlink:type=\"simple\"><path d=\"M267.5431,178.2415 C267.5354,178.35 267.5276,178.4585 267.5198,178.5671 C267.3951,180.3034 267.2673,182.0417 267.1366,183.7729 C266.8753,187.2352 266.6025,190.6688 266.32,194 C263.93,222.21 260.49,254.26 257.9,277.18 \" fill=\"none\" id=\"E9-&gt;E4\" style=\"stroke: #A80036; stroke-width: 1.0; stroke-dasharray: 7.0,7.0;\"/><polygon fill=\"#A80036\" points=\"257.33,282.22,262.3075,273.7215,257.8869,277.2511,254.3572,272.8305,257.33,282.22\" style=\"stroke: #A80036; stroke-width: 1.0;\"/><text fill=\"#000000\" font-family=\"sans-serif\" font-size=\"13\" lengthAdjust=\"spacingAndGlyphs\" textLength=\"65\" x=\"266.32\" y=\"215.0669\">«import»*</text></a><!--MD5=[feeac5eb423634930294aa81f2d25a4c]\n",
       "link E10 to E3--><a href=\"psysml:6083fff7-7e2a-4a1f-b6e0-00602bace9f4\" target=\"_top\" title=\"psysml:6083fff7-7e2a-4a1f-b6e0-00602bace9f4\" xlink:actuate=\"onRequest\" xlink:href=\"psysml:6083fff7-7e2a-4a1f-b6e0-00602bace9f4\" xlink:show=\"new\" xlink:title=\"psysml:6083fff7-7e2a-4a1f-b6e0-00602bace9f4\" xlink:type=\"simple\"><path d=\"M345.63,154.11 C359.77,173.07 373.99,200.22 358.32,219 C345.58,234.26 327.2,211.86 314.32,227 C300.64,243.07 304.33,374.79 307.28,443.95 \" fill=\"none\" id=\"E10-&gt;E3\" style=\"stroke: #A80036; stroke-width: 1.0;\"/><polygon fill=\"#FFFFFF\" points=\"308.18,463.98,300.3317,445.3144,314.3175,444.6841,308.18,463.98\" style=\"stroke: #A80036; stroke-width: 1.0;\"/><ellipse cx=\"302.0731\" cy=\"439.5301\" fill=\"#A80036\" rx=\"2\" ry=\"2\" style=\"stroke: #A80036; stroke-width: 1.0;\"/><ellipse cx=\"312.063\" cy=\"439.0799\" fill=\"#A80036\" rx=\"2\" ry=\"2\" style=\"stroke: #A80036; stroke-width: 1.0;\"/></a><!--MD5=[b01b77d13b0401f9916c0ab8c0508bac]\n",
       "@startuml\r\n",
       "skinparam wrapWidth 300\r\n",
       "hide circle\r\n",
       "\r\n",
       "package \"PrivateImportTest\" as E1  [[psysml:56a08668-af7c-402b-8ea6-0ffeccd2e906 ]]  {\r\n",
       "package \"P1\" as E2  [[psysml:989134c5-5272-479d-a43e-5e5573119e0c ]]  {\r\n",
       "comp def \"A\" as E3  <<(T,blue) part  def>> [[psysml:1f011377-ef65-4253-92ff-be4f522feeb1 ]] {\r\n",
       "}\r\n",
       "}\r\n",
       "package \"P2\" as E4  [[psysml:7d907640-2982-4506-b0ab-4e4fe8a9afec ]]  {\r\n",
       "}\r\n",
       "comp usage \"x: A \" as E5  <<(T,blue) part>> [[psysml:4755439e-6dab-436e-bf4a-d220bd8663ba ]] {\r\n",
       "}\r\n",
       "package \"P3\" as E6  [[psysml:90563c83-8b6e-4371-ac3b-36c1983fe7e9 ]]  {\r\n",
       "comp def \"B\" as E7  <<(T,blue) part  def>> [[psysml:bdb8801b-74e6-41c7-b5f1-114cae898237 ]] {\r\n",
       "}\r\n",
       "}\r\n",
       "comp usage \"z: B \" as E8  <<(T,blue) part>> [[psysml:dfc306bc-28cd-4074-8d12-696a322e5955 ]] {\r\n",
       "}\r\n",
       "package \"P4\" as E9  [[psysml:2733cc0d-ab4e-4acc-aaf2-0d4d1c16697a ]]  {\r\n",
       "comp usage \"z1: A \" as E10  <<(T,blue) part>> [[psysml:aa943bbf-59d6-4c08-9403-21388691ca57 ]] {\r\n",
       "}\r\n",
       "}\r\n",
       "}\r\n",
       "E4 ..> E2 [[psysml:113e6c15-2e9f-43c2-9a8b-f1023998ecb3 ]] : <<import>>*\r\n",
       "E5 - -:|> E3 [[psysml:2e030f48-ed8d-4fbc-a256-8117ac7131ec ]] \r\n",
       "E1 ..> E4 [[psysml:a039409c-dc44-4261-a761-133767375f35 ]] : <<import>>*\r\n",
       "E1 ..> E6 [[psysml:8872cc02-851e-450c-b3e8-f90f2e3db770 ]] : <<import>>*\r\n",
       "E8 - -:|> E7 [[psysml:0934d2d2-1a49-4ac4-b6c0-cd8fa5ea19dd ]] \r\n",
       "E9 ..> E4 [[psysml:f0473cf2-6b9f-40e7-98be-e0cb9d304d8b ]] : <<import>>*\r\n",
       "E10 - -:|> E3 [[psysml:6083fff7-7e2a-4a1f-b6e0-00602bace9f4 ]] \r\n",
       "@enduml\r\n",
       "\n",
       "PlantUML version 1.2020.13(Sat Jun 13 12:26:38 UTC 2020)\n",
       "(EPL source distribution)\n",
       "Java Runtime: OpenJDK Runtime Environment\n",
       "JVM: OpenJDK 64-Bit Server VM\n",
       "Default Encoding: UTF-8\n",
       "Language: en\n",
       "Country: null\n",
       "--></g></svg>"
      ]
     },
     "execution_count": 24,
     "metadata": {},
     "output_type": "execute_result"
    }
   ],
   "source": [
    "%viz --style=\"STDCOLOR\" --view=\"Tree\" \"PrivateImportTest\""
   ]
  },
  {
   "cell_type": "code",
   "execution_count": 25,
   "id": "8c0aaac1",
   "metadata": {
    "execution": {
     "iopub.execute_input": "2022-02-18T10:48:46.686037Z",
     "iopub.status.busy": "2022-02-18T10:48:46.685626Z",
     "iopub.status.idle": "2022-02-18T10:48:46.690320Z",
     "shell.execute_reply": "2022-02-18T10:48:46.689989Z"
    }
   },
   "outputs": [
    {
     "data": {
      "image/svg+xml": [
       "<?xml version=\"1.0\" encoding=\"UTF-8\" standalone=\"no\"?><svg xmlns=\"http://www.w3.org/2000/svg\" xmlns:xlink=\"http://www.w3.org/1999/xlink\" contentScriptType=\"application/ecmascript\" contentStyleType=\"text/css\" height=\"12px\" preserveAspectRatio=\"none\" style=\"width:12px;height:12px;\" version=\"1.1\" viewBox=\"0 0 12 12\" width=\"12px\" zoomAndPan=\"magnify\"><defs/><g><!--MD5=[aeeef50f102b80d730deb6443d14f702]\n",
       "@startuml\r\n",
       "skinparam wrapWidth 300\r\n",
       "hide circle\r\n",
       "\r\n",
       "@enduml\r\n",
       "\n",
       "PlantUML version 1.2020.13(Sat Jun 13 12:26:38 UTC 2020)\n",
       "(EPL source distribution)\n",
       "Java Runtime: OpenJDK Runtime Environment\n",
       "JVM: OpenJDK 64-Bit Server VM\n",
       "Default Encoding: UTF-8\n",
       "Language: en\n",
       "Country: null\n",
       "--></g></svg>"
      ]
     },
     "execution_count": 25,
     "metadata": {},
     "output_type": "execute_result"
    }
   ],
   "source": [
    "%viz --style=\"STDCOLOR\" --view=\"State\" \"PrivateImportTest\""
   ]
  },
  {
   "cell_type": "code",
   "execution_count": 26,
   "id": "777528f1",
   "metadata": {
    "execution": {
     "iopub.execute_input": "2022-02-18T10:48:46.740286Z",
     "iopub.status.busy": "2022-02-18T10:48:46.739866Z",
     "iopub.status.idle": "2022-02-18T10:48:46.783915Z",
     "shell.execute_reply": "2022-02-18T10:48:46.782506Z"
    }
   },
   "outputs": [
    {
     "data": {
      "image/svg+xml": [
       "<?xml version=\"1.0\" encoding=\"UTF-8\" standalone=\"no\"?><svg xmlns=\"http://www.w3.org/2000/svg\" xmlns:xlink=\"http://www.w3.org/1999/xlink\" contentScriptType=\"application/ecmascript\" contentStyleType=\"text/css\" height=\"521px\" preserveAspectRatio=\"none\" style=\"width:684px;height:521px;\" version=\"1.1\" viewBox=\"0 0 684 521\" width=\"684px\" zoomAndPan=\"magnify\"><defs><filter height=\"300%\" id=\"fhg4nso10tqo3\" width=\"300%\" x=\"-1\" y=\"-1\"><feGaussianBlur result=\"blurOut\" stdDeviation=\"2.0\"/><feColorMatrix in=\"blurOut\" result=\"blurOut2\" type=\"matrix\" values=\"0 0 0 0 0 0 0 0 0 0 0 0 0 0 0 0 0 0 .4 0\"/><feOffset dx=\"4.0\" dy=\"4.0\" in=\"blurOut2\" result=\"blurOut3\"/><feBlend in=\"SourceGraphic\" in2=\"blurOut3\" mode=\"normal\"/></filter></defs><g><!--MD5=[fbc87193dbaf4d95561dea2c320d4a47]\n",
       "cluster E1--><a href=\"psysml:56a08668-af7c-402b-8ea6-0ffeccd2e906\" target=\"_top\" title=\"psysml:56a08668-af7c-402b-8ea6-0ffeccd2e906\" xlink:actuate=\"onRequest\" xlink:href=\"psysml:56a08668-af7c-402b-8ea6-0ffeccd2e906\" xlink:show=\"new\" xlink:title=\"psysml:56a08668-af7c-402b-8ea6-0ffeccd2e906\" xlink:type=\"simple\"><polygon fill=\"#FFFFFF\" filter=\"url(#fhg4nso10tqo3)\" points=\"16,6,143,6,150,28.2969,662,28.2969,662,509.72,16,509.72,16,6\" style=\"stroke: #000000; stroke-width: 1.5;\"/><line style=\"stroke: #000000; stroke-width: 1.5;\" x1=\"16\" x2=\"150\" y1=\"28.2969\" y2=\"28.2969\"/><text fill=\"#000000\" font-family=\"sans-serif\" font-size=\"14\" font-weight=\"bold\" lengthAdjust=\"spacingAndGlyphs\" textLength=\"121\" x=\"20\" y=\"20.9951\">PrivateImportTest</text></a><!--MD5=[e4f7fae6ed58524ba242bb0b0d3be6b7]\n",
       "cluster E2--><a href=\"psysml:989134c5-5272-479d-a43e-5e5573119e0c\" target=\"_top\" title=\"psysml:989134c5-5272-479d-a43e-5e5573119e0c\" xlink:actuate=\"onRequest\" xlink:href=\"psysml:989134c5-5272-479d-a43e-5e5573119e0c\" xlink:show=\"new\" xlink:title=\"psysml:989134c5-5272-479d-a43e-5e5573119e0c\" xlink:type=\"simple\"><polygon fill=\"#FFFFFF\" filter=\"url(#fhg4nso10tqo3)\" points=\"221,359.72,245,359.72,252,382.0169,363,382.0169,363,469.72,221,469.72,221,359.72\" style=\"stroke: #000000; stroke-width: 1.5;\"/><line style=\"stroke: #000000; stroke-width: 1.5;\" x1=\"221\" x2=\"252\" y1=\"382.0169\" y2=\"382.0169\"/><text fill=\"#000000\" font-family=\"sans-serif\" font-size=\"14\" font-weight=\"bold\" lengthAdjust=\"spacingAndGlyphs\" textLength=\"18\" x=\"225\" y=\"374.7151\">P1</text></a><!--MD5=[14e3b0961a2654348d326746436168a1]\n",
       "cluster E6--><a href=\"psysml:90563c83-8b6e-4371-ac3b-36c1983fe7e9\" target=\"_top\" title=\"psysml:90563c83-8b6e-4371-ac3b-36c1983fe7e9\" xlink:actuate=\"onRequest\" xlink:href=\"psysml:90563c83-8b6e-4371-ac3b-36c1983fe7e9\" xlink:show=\"new\" xlink:title=\"psysml:90563c83-8b6e-4371-ac3b-36c1983fe7e9\" xlink:type=\"simple\"><polygon fill=\"#FFFFFF\" filter=\"url(#fhg4nso10tqo3)\" points=\"480,98.72,504,98.72,511,121.0169,622,121.0169,622,208.72,480,208.72,480,98.72\" style=\"stroke: #000000; stroke-width: 1.5;\"/><line style=\"stroke: #000000; stroke-width: 1.5;\" x1=\"480\" x2=\"511\" y1=\"121.0169\" y2=\"121.0169\"/><text fill=\"#000000\" font-family=\"sans-serif\" font-size=\"14\" font-weight=\"bold\" lengthAdjust=\"spacingAndGlyphs\" textLength=\"18\" x=\"484\" y=\"113.7151\">P3</text></a><!--MD5=[7f149f147074ac12df2cb0a7728a5fb0]\n",
       "cluster E9--><a href=\"psysml:2733cc0d-ab4e-4acc-aaf2-0d4d1c16697a\" target=\"_top\" title=\"psysml:2733cc0d-ab4e-4acc-aaf2-0d4d1c16697a\" xlink:actuate=\"onRequest\" xlink:href=\"psysml:2733cc0d-ab4e-4acc-aaf2-0d4d1c16697a\" xlink:show=\"new\" xlink:title=\"psysml:2733cc0d-ab4e-4acc-aaf2-0d4d1c16697a\" xlink:type=\"simple\"><polygon fill=\"#FFFFFF\" filter=\"url(#fhg4nso10tqo3)\" points=\"323,100.22,347,100.22,354,122.5169,440,122.5169,440,207.22,323,207.22,323,100.22\" style=\"stroke: #000000; stroke-width: 1.5;\"/><line style=\"stroke: #000000; stroke-width: 1.5;\" x1=\"323\" x2=\"354\" y1=\"122.5169\" y2=\"122.5169\"/><text fill=\"#000000\" font-family=\"sans-serif\" font-size=\"14\" font-weight=\"bold\" lengthAdjust=\"spacingAndGlyphs\" textLength=\"18\" x=\"327\" y=\"115.2151\">P4</text></a><g id=\"E1.E2.E3\"><a href=\"psysml:1f011377-ef65-4253-92ff-be4f522feeb1\" target=\"_top\" title=\"psysml:1f011377-ef65-4253-92ff-be4f522feeb1\" xlink:actuate=\"onRequest\" xlink:href=\"psysml:1f011377-ef65-4253-92ff-be4f522feeb1\" xlink:show=\"new\" xlink:title=\"psysml:1f011377-ef65-4253-92ff-be4f522feeb1\" xlink:type=\"simple\"><rect fill=\"#FEFECE\" filter=\"url(#fhg4nso10tqo3)\" height=\"42.9375\" id=\"E3\" style=\"stroke: #A80036; stroke-width: 1.5;\" width=\"75\" x=\"264.5\" y=\"402.72\"/><text fill=\"#000000\" font-family=\"sans-serif\" font-size=\"12\" font-style=\"italic\" lengthAdjust=\"spacingAndGlyphs\" textLength=\"68\" x=\"268\" y=\"418.8587\">«part  def»</text><text fill=\"#000000\" font-family=\"sans-serif\" font-size=\"12\" lengthAdjust=\"spacingAndGlyphs\" textLength=\"8\" x=\"298\" y=\"432.8274\">A</text></a></g><a href=\"psysml:7d907640-2982-4506-b0ab-4e4fe8a9afec\" target=\"_top\" title=\"psysml:7d907640-2982-4506-b0ab-4e4fe8a9afec\" xlink:actuate=\"onRequest\" xlink:href=\"psysml:7d907640-2982-4506-b0ab-4e4fe8a9afec\" xlink:show=\"new\" xlink:title=\"psysml:7d907640-2982-4506-b0ab-4e4fe8a9afec\" xlink:type=\"simple\"><polygon fill=\"#FFFFFF\" filter=\"url(#fhg4nso10tqo3)\" points=\"210,257.72,234,257.72,241,280.0169,248,280.0169,248,310.3138,210,310.3138,210,257.72\" style=\"stroke: #000000; stroke-width: 1.5;\"/><line style=\"stroke: #000000; stroke-width: 1.5;\" x1=\"210\" x2=\"241\" y1=\"280.0169\" y2=\"280.0169\"/><text fill=\"#000000\" font-family=\"sans-serif\" font-size=\"14\" font-weight=\"bold\" lengthAdjust=\"spacingAndGlyphs\" textLength=\"18\" x=\"214\" y=\"272.7151\">P2</text></a><g id=\"E1.E5\"><a href=\"psysml:4755439e-6dab-436e-bf4a-d220bd8663ba\" target=\"_top\" title=\"psysml:4755439e-6dab-436e-bf4a-d220bd8663ba\" xlink:actuate=\"onRequest\" xlink:href=\"psysml:4755439e-6dab-436e-bf4a-d220bd8663ba\" xlink:show=\"new\" xlink:title=\"psysml:4755439e-6dab-436e-bf4a-d220bd8663ba\" xlink:type=\"simple\"><rect fill=\"#FEFECE\" filter=\"url(#fhg4nso10tqo3)\" height=\"40\" id=\"E5\" rx=\"10\" ry=\"10\" style=\"stroke: #A80036; stroke-width: 1.5;\" width=\"50\" x=\"246\" y=\"143.22\"/><text fill=\"#000000\" font-family=\"sans-serif\" font-size=\"12\" lengthAdjust=\"spacingAndGlyphs\" textLength=\"22\" x=\"260\" y=\"159.3587\">x: A</text></a></g><g id=\"E1.E6.E7\"><a href=\"psysml:bdb8801b-74e6-41c7-b5f1-114cae898237\" target=\"_top\" title=\"psysml:bdb8801b-74e6-41c7-b5f1-114cae898237\" xlink:actuate=\"onRequest\" xlink:href=\"psysml:bdb8801b-74e6-41c7-b5f1-114cae898237\" xlink:show=\"new\" xlink:title=\"psysml:bdb8801b-74e6-41c7-b5f1-114cae898237\" xlink:type=\"simple\"><rect fill=\"#FEFECE\" filter=\"url(#fhg4nso10tqo3)\" height=\"42.9375\" id=\"E7\" style=\"stroke: #A80036; stroke-width: 1.5;\" width=\"75\" x=\"523.5\" y=\"141.72\"/><text fill=\"#000000\" font-family=\"sans-serif\" font-size=\"12\" font-style=\"italic\" lengthAdjust=\"spacingAndGlyphs\" textLength=\"68\" x=\"527\" y=\"157.8587\">«part  def»</text><text fill=\"#000000\" font-family=\"sans-serif\" font-size=\"12\" lengthAdjust=\"spacingAndGlyphs\" textLength=\"8\" x=\"557\" y=\"171.8274\">B</text></a></g><g id=\"E1.E8\"><a href=\"psysml:dfc306bc-28cd-4074-8d12-696a322e5955\" target=\"_top\" title=\"psysml:dfc306bc-28cd-4074-8d12-696a322e5955\" xlink:actuate=\"onRequest\" xlink:href=\"psysml:dfc306bc-28cd-4074-8d12-696a322e5955\" xlink:show=\"new\" xlink:title=\"psysml:dfc306bc-28cd-4074-8d12-696a322e5955\" xlink:type=\"simple\"><rect fill=\"#FEFECE\" filter=\"url(#fhg4nso10tqo3)\" height=\"40\" id=\"E8\" rx=\"10\" ry=\"10\" style=\"stroke: #A80036; stroke-width: 1.5;\" width=\"50\" x=\"161\" y=\"143.22\"/><text fill=\"#000000\" font-family=\"sans-serif\" font-size=\"12\" lengthAdjust=\"spacingAndGlyphs\" textLength=\"21\" x=\"175.5\" y=\"159.3587\">z: B</text></a></g><g id=\"E1.E9.E10\"><a href=\"psysml:aa943bbf-59d6-4c08-9403-21388691ca57\" target=\"_top\" title=\"psysml:aa943bbf-59d6-4c08-9403-21388691ca57\" xlink:actuate=\"onRequest\" xlink:href=\"psysml:aa943bbf-59d6-4c08-9403-21388691ca57\" xlink:show=\"new\" xlink:title=\"psysml:aa943bbf-59d6-4c08-9403-21388691ca57\" xlink:type=\"simple\"><rect fill=\"#FEFECE\" filter=\"url(#fhg4nso10tqo3)\" height=\"40\" id=\"E10\" rx=\"10\" ry=\"10\" style=\"stroke: #A80036; stroke-width: 1.5;\" width=\"50\" x=\"366\" y=\"143.22\"/><text fill=\"#000000\" font-family=\"sans-serif\" font-size=\"12\" lengthAdjust=\"spacingAndGlyphs\" textLength=\"29\" x=\"376.5\" y=\"159.3587\">z1: A</text></a></g><!--MD5=[185131fc0dcab0a4505a2ebe144e961b]\n",
       "link E4 to E2--><a href=\"psysml:113e6c15-2e9f-43c2-9a8b-f1023998ecb3\" target=\"_top\" title=\"psysml:113e6c15-2e9f-43c2-9a8b-f1023998ecb3\" xlink:actuate=\"onRequest\" xlink:href=\"psysml:113e6c15-2e9f-43c2-9a8b-f1023998ecb3\" xlink:show=\"new\" xlink:title=\"psysml:113e6c15-2e9f-43c2-9a8b-f1023998ecb3\" xlink:type=\"simple\"><path d=\"M229,310.85 C229,320.6725 229,332.4656 229,344.6647 C229,347.7145 229,350.7896 229,353.8656 C229,355.4037 229,356.9419 229,358.4774 C229,358.8612 229,359.2449 229,359.6284 \" fill=\"none\" id=\"E4-&gt;E2\" style=\"stroke: #A80036; stroke-width: 1.0; stroke-dasharray: 7.0,7.0;\"/><polygon fill=\"#A80036\" points=\"229,359.6284,233,350.6284,229,354.6284,225,350.6284,229,359.6284\" style=\"stroke: #A80036; stroke-width: 1.0;\"/><text fill=\"#000000\" font-family=\"sans-serif\" font-size=\"13\" lengthAdjust=\"spacingAndGlyphs\" textLength=\"65\" x=\"230\" y=\"331.7869\">«import»*</text></a><!--MD5=[ee384bb554873b72f85793eae40e290c]\n",
       "link E1 to E4--><a href=\"psysml:a039409c-dc44-4261-a761-133767375f35\" target=\"_top\" title=\"psysml:a039409c-dc44-4261-a761-133767375f35\" xlink:actuate=\"onRequest\" xlink:href=\"psysml:a039409c-dc44-4261-a761-133767375f35\" xlink:show=\"new\" xlink:title=\"psysml:a039409c-dc44-4261-a761-133767375f35\" xlink:type=\"simple\"><path d=\"M175.95,33.72 C173.76,33.59 103.7,29.68 77,66.72 C35.94,123.69 37.25,166.83 77,224.72 C105.87,266.76 169.5,278.6 204.59,281.93 \" fill=\"none\" id=\"E1-&gt;E4\" style=\"stroke: #A80036; stroke-width: 1.0; stroke-dasharray: 7.0,7.0;\"/><polygon fill=\"#A80036\" points=\"209.96,282.39,201.3368,277.6318,204.9785,281.9606,200.6497,285.6022,209.96,282.39\" style=\"stroke: #A80036; stroke-width: 1.0;\"/><text fill=\"#000000\" font-family=\"sans-serif\" font-size=\"13\" lengthAdjust=\"spacingAndGlyphs\" textLength=\"65\" x=\"78\" y=\"167.7869\">«import»*</text></a><!--MD5=[ccbd3af71bf83df0ec2a2db62d6d7130]\n",
       "link E1 to E6--><a href=\"psysml:8872cc02-851e-450c-b3e8-f90f2e3db770\" target=\"_top\" title=\"psysml:8872cc02-851e-450c-b3e8-f90f2e3db770\" xlink:actuate=\"onRequest\" xlink:href=\"psysml:8872cc02-851e-450c-b3e8-f90f2e3db770\" xlink:show=\"new\" xlink:title=\"psysml:8872cc02-851e-450c-b3e8-f90f2e3db770\" xlink:type=\"simple\"><path d=\"M176.15,33.72 C182.47,33.77 384.9,35.57 432,66.72 C452.2,80.08 466.0825,103.4225 474.9725,123.685 C476.0837,126.2178 477.117,128.7025 478.0748,131.1135 C478.5537,132.3191 479.0138,133.5062 479.4553,134.6717 C479.5657,134.9631 479.6749,135.2531 479.783,135.5417 C479.837,135.6861 479.8908,135.83 479.9442,135.9736 \" fill=\"none\" id=\"E1-&gt;E6\" style=\"stroke: #A80036; stroke-width: 1.0; stroke-dasharray: 7.0,7.0;\"/><polygon fill=\"#A80036\" points=\"479.9442,135.9736,480.5531,126.1436,478.1999,131.2878,473.0557,128.9345,479.9442,135.9736\" style=\"stroke: #A80036; stroke-width: 1.0;\"/><text fill=\"#000000\" font-family=\"sans-serif\" font-size=\"13\" lengthAdjust=\"spacingAndGlyphs\" textLength=\"65\" x=\"414\" y=\"54.7869\">«import»*</text></a><!--MD5=[c2be97adba6ddfe1c8f349fab141c927]\n",
       "link E9 to E4--><a href=\"psysml:f0473cf2-6b9f-40e7-98be-e0cb9d304d8b\" target=\"_top\" title=\"psysml:f0473cf2-6b9f-40e7-98be-e0cb9d304d8b\" xlink:actuate=\"onRequest\" xlink:href=\"psysml:f0473cf2-6b9f-40e7-98be-e0cb9d304d8b\" xlink:show=\"new\" xlink:title=\"psysml:f0473cf2-6b9f-40e7-98be-e0cb9d304d8b\" xlink:type=\"simple\"><path d=\"M333.2513,207.4285 C333.1775,207.8356 333.1,208.2422 333.0186,208.6479 C332.8558,209.4593 332.6776,210.2676 332.4829,211.0712 C332.0936,212.6783 331.6386,214.2668 331.1103,215.8251 C330.0536,218.9417 328.7038,221.9375 327,224.72 C310.48,251.7 276.46,267.78 253.18,276.06 \" fill=\"none\" id=\"E9-&gt;E4\" style=\"stroke: #A80036; stroke-width: 1.0; stroke-dasharray: 7.0,7.0;\"/><polygon fill=\"#A80036\" points=\"248.39,277.71,258.202,278.5612,253.1175,276.0818,255.5969,270.9973,248.39,277.71\" style=\"stroke: #A80036; stroke-width: 1.0;\"/><text fill=\"#000000\" font-family=\"sans-serif\" font-size=\"13\" lengthAdjust=\"spacingAndGlyphs\" textLength=\"65\" x=\"320\" y=\"245.7869\">«import»*</text></a><!--MD5=[a866a8f1f9116e044bd55983e4f4303a]\n",
       "@startuml\r\n",
       "skinparam ranksep 10\r\n",
       "skinparam rectangle {\r\n",
       " backgroundColor<<block>> LightGreen\r\n",
       "}\r\n",
       "skinparam wrapWidth 300\r\n",
       "hide circle\r\n",
       "\r\n",
       "package \"PrivateImportTest\" as E1  [[psysml:56a08668-af7c-402b-8ea6-0ffeccd2e906 ]]  {\r\n",
       "package \"P1\" as E2  [[psysml:989134c5-5272-479d-a43e-5e5573119e0c ]]  {\r\n",
       "rec def \"A\" as E3  <<(T,blue) part  def>> [[psysml:1f011377-ef65-4253-92ff-be4f522feeb1 ]] {\r\n",
       "}\r\n",
       "}\r\n",
       "package \"P2\" as E4  [[psysml:7d907640-2982-4506-b0ab-4e4fe8a9afec ]]  {\r\n",
       "}\r\n",
       "rec usage \"x: A\" as E5  [[psysml:4755439e-6dab-436e-bf4a-d220bd8663ba ]] {\r\n",
       "}\r\n",
       "package \"P3\" as E6  [[psysml:90563c83-8b6e-4371-ac3b-36c1983fe7e9 ]]  {\r\n",
       "rec def \"B\" as E7  <<(T,blue) part  def>> [[psysml:bdb8801b-74e6-41c7-b5f1-114cae898237 ]] {\r\n",
       "}\r\n",
       "}\r\n",
       "rec usage \"z: B\" as E8  [[psysml:dfc306bc-28cd-4074-8d12-696a322e5955 ]] {\r\n",
       "}\r\n",
       "package \"P4\" as E9  [[psysml:2733cc0d-ab4e-4acc-aaf2-0d4d1c16697a ]]  {\r\n",
       "rec usage \"z1: A\" as E10  [[psysml:aa943bbf-59d6-4c08-9403-21388691ca57 ]] {\r\n",
       "}\r\n",
       "}\r\n",
       "}\r\n",
       "E4 ..> E2 [[psysml:113e6c15-2e9f-43c2-9a8b-f1023998ecb3 ]] : <<import>>*\r\n",
       "E1 ..> E4 [[psysml:a039409c-dc44-4261-a761-133767375f35 ]] : <<import>>*\r\n",
       "E1 ..> E6 [[psysml:8872cc02-851e-450c-b3e8-f90f2e3db770 ]] : <<import>>*\r\n",
       "E9 ..> E4 [[psysml:f0473cf2-6b9f-40e7-98be-e0cb9d304d8b ]] : <<import>>*\r\n",
       "@enduml\r\n",
       "\n",
       "PlantUML version 1.2020.13(Sat Jun 13 12:26:38 UTC 2020)\n",
       "(EPL source distribution)\n",
       "Java Runtime: OpenJDK Runtime Environment\n",
       "JVM: OpenJDK 64-Bit Server VM\n",
       "Default Encoding: UTF-8\n",
       "Language: en\n",
       "Country: null\n",
       "--></g></svg>"
      ]
     },
     "execution_count": 26,
     "metadata": {},
     "output_type": "execute_result"
    }
   ],
   "source": [
    "%viz --style=\"STDCOLOR\" --view=\"Interconnection\" \"PrivateImportTest\""
   ]
  },
  {
   "cell_type": "code",
   "execution_count": 27,
   "id": "664b73bc",
   "metadata": {
    "execution": {
     "iopub.execute_input": "2022-02-18T10:48:46.833285Z",
     "iopub.status.busy": "2022-02-18T10:48:46.832877Z",
     "iopub.status.idle": "2022-02-18T10:48:46.837442Z",
     "shell.execute_reply": "2022-02-18T10:48:46.837112Z"
    }
   },
   "outputs": [
    {
     "data": {
      "image/svg+xml": [
       "<?xml version=\"1.0\" encoding=\"UTF-8\" standalone=\"no\"?><svg xmlns=\"http://www.w3.org/2000/svg\" xmlns:xlink=\"http://www.w3.org/1999/xlink\" contentScriptType=\"application/ecmascript\" contentStyleType=\"text/css\" height=\"12px\" preserveAspectRatio=\"none\" style=\"width:12px;height:12px;\" version=\"1.1\" viewBox=\"0 0 12 12\" width=\"12px\" zoomAndPan=\"magnify\"><defs/><g><!--MD5=[9863325348a96a77dacc89509d8ee65e]\n",
       "@startuml\r\n",
       "skinparam ranksep 8\r\n",
       "skinparam wrapWidth 300\r\n",
       "hide circle\r\n",
       "\r\n",
       "@enduml\r\n",
       "\n",
       "PlantUML version 1.2020.13(Sat Jun 13 12:26:38 UTC 2020)\n",
       "(EPL source distribution)\n",
       "Java Runtime: OpenJDK Runtime Environment\n",
       "JVM: OpenJDK 64-Bit Server VM\n",
       "Default Encoding: UTF-8\n",
       "Language: en\n",
       "Country: null\n",
       "--></g></svg>"
      ]
     },
     "execution_count": 27,
     "metadata": {},
     "output_type": "execute_result"
    }
   ],
   "source": [
    "%viz --style=\"STDCOLOR\" --view=\"Action\" \"PrivateImportTest\""
   ]
  },
  {
   "cell_type": "code",
   "execution_count": 28,
   "id": "393c4e25",
   "metadata": {
    "execution": {
     "iopub.execute_input": "2022-02-18T10:48:46.887370Z",
     "iopub.status.busy": "2022-02-18T10:48:46.886968Z",
     "iopub.status.idle": "2022-02-18T10:48:46.891308Z",
     "shell.execute_reply": "2022-02-18T10:48:46.891619Z"
    }
   },
   "outputs": [
    {
     "data": {
      "image/svg+xml": [
       "<?xml version=\"1.0\" encoding=\"UTF-8\" standalone=\"no\"?><svg xmlns=\"http://www.w3.org/2000/svg\" xmlns:xlink=\"http://www.w3.org/1999/xlink\" contentScriptType=\"application/ecmascript\" contentStyleType=\"text/css\" height=\"12px\" preserveAspectRatio=\"none\" style=\"width:12px;height:12px;\" version=\"1.1\" viewBox=\"0 0 12 12\" width=\"12px\" zoomAndPan=\"magnify\"><defs/><g><!--MD5=[6c4bca67b4d71758159a5a7f1f1e1fc2]\n",
       "@startuml\r\n",
       "skinparam roundcorner 20\r\n",
       "skinparam BoxPadding 20\r\n",
       "skinparam SequenceBoxBackgroundColor #white\r\n",
       "skinparam style strictuml\r\n",
       "skinparam maxMessageSize 100\r\n",
       "skinparam wrapWidth 300\r\n",
       "hide circle\r\n",
       "\r\n",
       "@enduml\r\n",
       "\n",
       "PlantUML version 1.2020.13(Sat Jun 13 12:26:38 UTC 2020)\n",
       "(EPL source distribution)\n",
       "Java Runtime: OpenJDK Runtime Environment\n",
       "JVM: OpenJDK 64-Bit Server VM\n",
       "Default Encoding: UTF-8\n",
       "Language: en\n",
       "Country: null\n",
       "--></g></svg>"
      ]
     },
     "execution_count": 28,
     "metadata": {},
     "output_type": "execute_result"
    }
   ],
   "source": [
    "%viz --style=\"STDCOLOR\" --view=\"Sequence\" \"PrivateImportTest\""
   ]
  },
  {
   "cell_type": "code",
   "execution_count": 29,
   "id": "d4dda528",
   "metadata": {
    "execution": {
     "iopub.execute_input": "2022-02-18T10:48:46.941619Z",
     "iopub.status.busy": "2022-02-18T10:48:46.941216Z",
     "iopub.status.idle": "2022-02-18T10:48:46.981693Z",
     "shell.execute_reply": "2022-02-18T10:48:46.981340Z"
    }
   },
   "outputs": [
    {
     "data": {
      "image/svg+xml": [
       "<?xml version=\"1.0\" encoding=\"UTF-8\" standalone=\"no\"?><svg xmlns=\"http://www.w3.org/2000/svg\" xmlns:xlink=\"http://www.w3.org/1999/xlink\" contentScriptType=\"application/ecmascript\" contentStyleType=\"text/css\" height=\"586px\" preserveAspectRatio=\"none\" style=\"width:433px;height:586px;\" version=\"1.1\" viewBox=\"0 0 433 586\" width=\"433px\" zoomAndPan=\"magnify\"><defs><filter height=\"300%\" id=\"f1n8a7i1xo5947\" width=\"300%\" x=\"-1\" y=\"-1\"><feGaussianBlur result=\"blurOut\" stdDeviation=\"2.0\"/><feColorMatrix in=\"blurOut\" result=\"blurOut2\" type=\"matrix\" values=\"0 0 0 0 0 0 0 0 0 0 0 0 0 0 0 0 0 0 .4 0\"/><feOffset dx=\"4.0\" dy=\"4.0\" in=\"blurOut2\" result=\"blurOut3\"/><feBlend in=\"SourceGraphic\" in2=\"blurOut3\" mode=\"normal\"/></filter></defs><g><!--MD5=[fbc87193dbaf4d95561dea2c320d4a47]\n",
       "cluster E1--><a href=\"psysml:56a08668-af7c-402b-8ea6-0ffeccd2e906\" target=\"_top\" title=\"psysml:56a08668-af7c-402b-8ea6-0ffeccd2e906\" xlink:actuate=\"onRequest\" xlink:href=\"psysml:56a08668-af7c-402b-8ea6-0ffeccd2e906\" xlink:show=\"new\" xlink:title=\"psysml:56a08668-af7c-402b-8ea6-0ffeccd2e906\" xlink:type=\"simple\"><polygon fill=\"#FFFFFF\" filter=\"url(#f1n8a7i1xo5947)\" points=\"26.32,6,153.32,6,160.32,28.2969,411.32,28.2969,411.32,574,26.32,574,26.32,6\" style=\"stroke: #000000; stroke-width: 1.5;\"/><line style=\"stroke: #000000; stroke-width: 1.5;\" x1=\"26.32\" x2=\"160.32\" y1=\"28.2969\" y2=\"28.2969\"/><text fill=\"#000000\" font-family=\"sans-serif\" font-size=\"14\" font-weight=\"bold\" lengthAdjust=\"spacingAndGlyphs\" textLength=\"121\" x=\"30.32\" y=\"20.9951\">PrivateImportTest</text></a><!--MD5=[e4f7fae6ed58524ba242bb0b0d3be6b7]\n",
       "cluster E2--><a href=\"psysml:989134c5-5272-479d-a43e-5e5573119e0c\" target=\"_top\" title=\"psysml:989134c5-5272-479d-a43e-5e5573119e0c\" xlink:actuate=\"onRequest\" xlink:href=\"psysml:989134c5-5272-479d-a43e-5e5573119e0c\" xlink:show=\"new\" xlink:title=\"psysml:989134c5-5272-479d-a43e-5e5573119e0c\" xlink:type=\"simple\"><polygon fill=\"#FFFFFF\" filter=\"url(#f1n8a7i1xo5947)\" points=\"231.32,421,255.32,421,262.32,443.2969,368.32,443.2969,368.32,534,231.32,534,231.32,421\" style=\"stroke: #000000; stroke-width: 1.5;\"/><line style=\"stroke: #000000; stroke-width: 1.5;\" x1=\"231.32\" x2=\"262.32\" y1=\"443.2969\" y2=\"443.2969\"/><text fill=\"#000000\" font-family=\"sans-serif\" font-size=\"14\" font-weight=\"bold\" lengthAdjust=\"spacingAndGlyphs\" textLength=\"18\" x=\"235.32\" y=\"435.9951\">P1</text></a><!--MD5=[14e3b0961a2654348d326746436168a1]\n",
       "cluster E6--><a href=\"psysml:90563c83-8b6e-4371-ac3b-36c1983fe7e9\" target=\"_top\" title=\"psysml:90563c83-8b6e-4371-ac3b-36c1983fe7e9\" xlink:actuate=\"onRequest\" xlink:href=\"psysml:90563c83-8b6e-4371-ac3b-36c1983fe7e9\" xlink:show=\"new\" xlink:title=\"psysml:90563c83-8b6e-4371-ac3b-36c1983fe7e9\" xlink:type=\"simple\"><polygon fill=\"#FFFFFF\" filter=\"url(#f1n8a7i1xo5947)\" points=\"74.32,243,98.32,243,105.32,265.2969,211.32,265.2969,211.32,356,74.32,356,74.32,243\" style=\"stroke: #000000; stroke-width: 1.5;\"/><line style=\"stroke: #000000; stroke-width: 1.5;\" x1=\"74.32\" x2=\"105.32\" y1=\"265.2969\" y2=\"265.2969\"/><text fill=\"#000000\" font-family=\"sans-serif\" font-size=\"14\" font-weight=\"bold\" lengthAdjust=\"spacingAndGlyphs\" textLength=\"18\" x=\"78.32\" y=\"257.9951\">P3</text></a><!--MD5=[7f149f147074ac12df2cb0a7728a5fb0]\n",
       "cluster E9--><a href=\"psysml:2733cc0d-ab4e-4acc-aaf2-0d4d1c16697a\" target=\"_top\" title=\"psysml:2733cc0d-ab4e-4acc-aaf2-0d4d1c16697a\" xlink:actuate=\"onRequest\" xlink:href=\"psysml:2733cc0d-ab4e-4acc-aaf2-0d4d1c16697a\" xlink:show=\"new\" xlink:title=\"psysml:2733cc0d-ab4e-4acc-aaf2-0d4d1c16697a\" xlink:type=\"simple\"><polygon fill=\"#FFFFFF\" filter=\"url(#f1n8a7i1xo5947)\" points=\"262.32,65,286.32,65,293.32,87.2969,371.32,87.2969,371.32,178,262.32,178,262.32,65\" style=\"stroke: #000000; stroke-width: 1.5;\"/><line style=\"stroke: #000000; stroke-width: 1.5;\" x1=\"262.32\" x2=\"293.32\" y1=\"87.2969\" y2=\"87.2969\"/><text fill=\"#000000\" font-family=\"sans-serif\" font-size=\"14\" font-weight=\"bold\" lengthAdjust=\"spacingAndGlyphs\" textLength=\"18\" x=\"266.32\" y=\"79.9951\">P4</text></a><!--MD5=[270fce915f116d4de14055a7c1d9a0f3]\n",
       "class E5--><a href=\"psysml:4755439e-6dab-436e-bf4a-d220bd8663ba\" target=\"_top\" title=\"psysml:4755439e-6dab-436e-bf4a-d220bd8663ba\" xlink:actuate=\"onRequest\" xlink:href=\"psysml:4755439e-6dab-436e-bf4a-d220bd8663ba\" xlink:show=\"new\" xlink:title=\"psysml:4755439e-6dab-436e-bf4a-d220bd8663ba\" xlink:type=\"simple\"><rect fill=\"#FEFECE\" filter=\"url(#f1n8a7i1xo5947)\" height=\"45.9375\" id=\"E5\" rx=\"10\" ry=\"10\" style=\"stroke: #A80036; stroke-width: 1.5;\" width=\"42\" x=\"345.32\" y=\"286\"/><text fill=\"#000000\" font-family=\"sans-serif\" font-size=\"12\" font-style=\"italic\" lengthAdjust=\"spacingAndGlyphs\" textLength=\"40\" x=\"346.32\" y=\"302.1387\">«part»</text><text fill=\"#000000\" font-family=\"sans-serif\" font-size=\"12\" lengthAdjust=\"spacingAndGlyphs\" textLength=\"22\" x=\"353.32\" y=\"316.1074\">x: A</text><line style=\"stroke: #A80036; stroke-width: 1.5;\" x1=\"346.32\" x2=\"386.32\" y1=\"323.9375\" y2=\"323.9375\"/></a><!--MD5=[b9389687b975829384b498ac4b7476b2]\n",
       "class E8--><a href=\"psysml:dfc306bc-28cd-4074-8d12-696a322e5955\" target=\"_top\" title=\"psysml:dfc306bc-28cd-4074-8d12-696a322e5955\" xlink:actuate=\"onRequest\" xlink:href=\"psysml:dfc306bc-28cd-4074-8d12-696a322e5955\" xlink:show=\"new\" xlink:title=\"psysml:dfc306bc-28cd-4074-8d12-696a322e5955\" xlink:type=\"simple\"><rect fill=\"#FEFECE\" filter=\"url(#f1n8a7i1xo5947)\" height=\"45.9375\" id=\"E8\" rx=\"10\" ry=\"10\" style=\"stroke: #A80036; stroke-width: 1.5;\" width=\"42\" x=\"193.32\" y=\"108\"/><text fill=\"#000000\" font-family=\"sans-serif\" font-size=\"12\" font-style=\"italic\" lengthAdjust=\"spacingAndGlyphs\" textLength=\"40\" x=\"194.32\" y=\"124.1387\">«part»</text><text fill=\"#000000\" font-family=\"sans-serif\" font-size=\"12\" lengthAdjust=\"spacingAndGlyphs\" textLength=\"21\" x=\"201.82\" y=\"138.1074\">z: B</text><line style=\"stroke: #A80036; stroke-width: 1.5;\" x1=\"194.32\" x2=\"234.32\" y1=\"145.9375\" y2=\"145.9375\"/></a><!--MD5=[09b614a08d8cba4a07c9adeb5e0fee81]\n",
       "class E3--><a href=\"psysml:1f011377-ef65-4253-92ff-be4f522feeb1\" target=\"_top\" title=\"psysml:1f011377-ef65-4253-92ff-be4f522feeb1\" xlink:actuate=\"onRequest\" xlink:href=\"psysml:1f011377-ef65-4253-92ff-be4f522feeb1\" xlink:show=\"new\" xlink:title=\"psysml:1f011377-ef65-4253-92ff-be4f522feeb1\" xlink:type=\"simple\"><rect fill=\"#FEFECE\" filter=\"url(#f1n8a7i1xo5947)\" height=\"45.9375\" id=\"E3\" style=\"stroke: #A80036; stroke-width: 1.5;\" width=\"70\" x=\"274.32\" y=\"464\"/><text fill=\"#000000\" font-family=\"sans-serif\" font-size=\"12\" font-style=\"italic\" lengthAdjust=\"spacingAndGlyphs\" textLength=\"68\" x=\"275.32\" y=\"480.1387\">«part  def»</text><text fill=\"#000000\" font-family=\"sans-serif\" font-size=\"12\" lengthAdjust=\"spacingAndGlyphs\" textLength=\"8\" x=\"305.32\" y=\"494.1074\">A</text><line style=\"stroke: #A80036; stroke-width: 1.5;\" x1=\"275.32\" x2=\"343.32\" y1=\"501.9375\" y2=\"501.9375\"/></a><a href=\"psysml:7d907640-2982-4506-b0ab-4e4fe8a9afec\" target=\"_top\" title=\"psysml:7d907640-2982-4506-b0ab-4e4fe8a9afec\" xlink:actuate=\"onRequest\" xlink:href=\"psysml:7d907640-2982-4506-b0ab-4e4fe8a9afec\" xlink:show=\"new\" xlink:title=\"psysml:7d907640-2982-4506-b0ab-4e4fe8a9afec\" xlink:type=\"simple\"><polygon fill=\"#FFFFFF\" filter=\"url(#f1n8a7i1xo5947)\" points=\"235.32,282.5,259.32,282.5,266.32,304.7969,273.32,304.7969,273.32,335.0938,235.32,335.0938,235.32,282.5\" style=\"stroke: #000000; stroke-width: 1.5;\"/><line style=\"stroke: #000000; stroke-width: 1.5;\" x1=\"235.32\" x2=\"266.32\" y1=\"304.7969\" y2=\"304.7969\"/><text fill=\"#000000\" font-family=\"sans-serif\" font-size=\"14\" font-weight=\"bold\" lengthAdjust=\"spacingAndGlyphs\" textLength=\"18\" x=\"239.32\" y=\"297.4951\">P2</text></a><!--MD5=[2156ba9850f5573cc1fc38a6a4b2f02b]\n",
       "class E7--><a href=\"psysml:bdb8801b-74e6-41c7-b5f1-114cae898237\" target=\"_top\" title=\"psysml:bdb8801b-74e6-41c7-b5f1-114cae898237\" xlink:actuate=\"onRequest\" xlink:href=\"psysml:bdb8801b-74e6-41c7-b5f1-114cae898237\" xlink:show=\"new\" xlink:title=\"psysml:bdb8801b-74e6-41c7-b5f1-114cae898237\" xlink:type=\"simple\"><rect fill=\"#FEFECE\" filter=\"url(#f1n8a7i1xo5947)\" height=\"45.9375\" id=\"E7\" style=\"stroke: #A80036; stroke-width: 1.5;\" width=\"70\" x=\"117.32\" y=\"286\"/><text fill=\"#000000\" font-family=\"sans-serif\" font-size=\"12\" font-style=\"italic\" lengthAdjust=\"spacingAndGlyphs\" textLength=\"68\" x=\"118.32\" y=\"302.1387\">«part  def»</text><text fill=\"#000000\" font-family=\"sans-serif\" font-size=\"12\" lengthAdjust=\"spacingAndGlyphs\" textLength=\"8\" x=\"148.32\" y=\"316.1074\">B</text><line style=\"stroke: #A80036; stroke-width: 1.5;\" x1=\"118.32\" x2=\"186.32\" y1=\"323.9375\" y2=\"323.9375\"/></a><!--MD5=[96f4274e9e20536e775497830990834d]\n",
       "class E10--><a href=\"psysml:aa943bbf-59d6-4c08-9403-21388691ca57\" target=\"_top\" title=\"psysml:aa943bbf-59d6-4c08-9403-21388691ca57\" xlink:actuate=\"onRequest\" xlink:href=\"psysml:aa943bbf-59d6-4c08-9403-21388691ca57\" xlink:show=\"new\" xlink:title=\"psysml:aa943bbf-59d6-4c08-9403-21388691ca57\" xlink:type=\"simple\"><rect fill=\"#FEFECE\" filter=\"url(#f1n8a7i1xo5947)\" height=\"45.9375\" id=\"E10\" rx=\"10\" ry=\"10\" style=\"stroke: #A80036; stroke-width: 1.5;\" width=\"42\" x=\"305.32\" y=\"108\"/><text fill=\"#000000\" font-family=\"sans-serif\" font-size=\"12\" font-style=\"italic\" lengthAdjust=\"spacingAndGlyphs\" textLength=\"40\" x=\"306.32\" y=\"124.1387\">«part»</text><text fill=\"#000000\" font-family=\"sans-serif\" font-size=\"12\" lengthAdjust=\"spacingAndGlyphs\" textLength=\"29\" x=\"309.82\" y=\"138.1074\">z1: A</text><line style=\"stroke: #A80036; stroke-width: 1.5;\" x1=\"306.32\" x2=\"346.32\" y1=\"145.9375\" y2=\"145.9375\"/></a><!--MD5=[185131fc0dcab0a4505a2ebe144e961b]\n",
       "link E4 to E2--><a href=\"psysml:113e6c15-2e9f-43c2-9a8b-f1023998ecb3\" target=\"_top\" title=\"psysml:113e6c15-2e9f-43c2-9a8b-f1023998ecb3\" xlink:actuate=\"onRequest\" xlink:href=\"psysml:113e6c15-2e9f-43c2-9a8b-f1023998ecb3\" xlink:show=\"new\" xlink:title=\"psysml:113e6c15-2e9f-43c2-9a8b-f1023998ecb3\" xlink:type=\"simple\"><path d=\"M244.71,335.52 C240.28,348.61 235.53,364.94 233.32,380 C231.6325,391.49 231.1388,403.7444 231.3534,415.6911 C231.3803,417.1844 231.4182,418.673 231.4662,420.1546 C231.4722,420.3398 231.4784,420.5249 231.4847,420.7099 \" fill=\"none\" id=\"E4-&gt;E2\" style=\"stroke: #A80036; stroke-width: 1.0; stroke-dasharray: 7.0,7.0;\"/><polygon fill=\"#A80036\" points=\"231.4847,420.7099,235.1752,411.5786,231.314,415.7128,227.1798,411.8517,231.4847,420.7099\" style=\"stroke: #A80036; stroke-width: 1.0;\"/><text fill=\"#000000\" font-family=\"sans-serif\" font-size=\"13\" lengthAdjust=\"spacingAndGlyphs\" textLength=\"65\" x=\"234.32\" y=\"393.0669\">«import»*</text></a><!--MD5=[e9be52314489bd878ff4c7144b63c9e1]\n",
       "link E5 to E3--><a href=\"psysml:2e030f48-ed8d-4fbc-a256-8117ac7131ec\" target=\"_top\" title=\"psysml:2e030f48-ed8d-4fbc-a256-8117ac7131ec\" xlink:actuate=\"onRequest\" xlink:href=\"psysml:2e030f48-ed8d-4fbc-a256-8117ac7131ec\" xlink:show=\"new\" xlink:title=\"psysml:2e030f48-ed8d-4fbc-a256-8117ac7131ec\" xlink:type=\"simple\"><path d=\"M359.1,332.29 C349.98,360.46 334.1,409.49 322.72,444.61 \" fill=\"none\" id=\"E5-&gt;E3\" style=\"stroke: #A80036; stroke-width: 1.0;\"/><polygon fill=\"#FFFFFF\" points=\"316.48,463.89,315.6693,443.6578,328.9893,447.9678,316.48,463.89\" style=\"stroke: #A80036; stroke-width: 1.0;\"/><ellipse cx=\"319.3269\" cy=\"438.8503\" fill=\"#A80036\" rx=\"2\" ry=\"2\" style=\"stroke: #A80036; stroke-width: 1.0;\"/><ellipse cx=\"328.8413\" cy=\"441.9289\" fill=\"#A80036\" rx=\"2\" ry=\"2\" style=\"stroke: #A80036; stroke-width: 1.0;\"/></a><!--MD5=[ee384bb554873b72f85793eae40e290c]\n",
       "link E1 to E4--><a href=\"psysml:a039409c-dc44-4261-a761-133767375f35\" target=\"_top\" title=\"psysml:a039409c-dc44-4261-a761-133767375f35\" xlink:actuate=\"onRequest\" xlink:href=\"psysml:a039409c-dc44-4261-a761-133767375f35\" xlink:show=\"new\" xlink:title=\"psysml:a039409c-dc44-4261-a761-133767375f35\" xlink:type=\"simple\"><path d=\"M34.29,132.12 C33.65,134.6 23.75,174.52 42.32,194 C49.33,201.35 77.35,200.04 87.32,202 C113.19,207.09 181.71,211.88 203.32,227 C220.99,239.37 233.85,260.02 242.24,277.37 \" fill=\"none\" id=\"E1-&gt;E4\" style=\"stroke: #A80036; stroke-width: 1.0; stroke-dasharray: 7.0,7.0;\"/><polygon fill=\"#A80036\" points=\"244.49,282.17,244.3071,272.3228,242.3748,277.6394,237.0582,275.7072,244.49,282.17\" style=\"stroke: #A80036; stroke-width: 1.0;\"/><text fill=\"#000000\" font-family=\"sans-serif\" font-size=\"13\" lengthAdjust=\"spacingAndGlyphs\" textLength=\"65\" x=\"183.32\" y=\"215.0669\">«import»*</text></a><!--MD5=[ccbd3af71bf83df0ec2a2db62d6d7130]\n",
       "link E1 to E6--><a href=\"psysml:8872cc02-851e-450c-b3e8-f90f2e3db770\" target=\"_top\" title=\"psysml:8872cc02-851e-450c-b3e8-f90f2e3db770\" xlink:actuate=\"onRequest\" xlink:href=\"psysml:8872cc02-851e-450c-b3e8-f90f2e3db770\" xlink:show=\"new\" xlink:title=\"psysml:8872cc02-851e-450c-b3e8-f90f2e3db770\" xlink:type=\"simple\"><path d=\"M26.1693,145.3513 C26.1165,145.4477 26.0635,145.5445 26.0105,145.6418 C25.9044,145.8363 25.7978,146.0325 25.6908,146.2304 C24.8349,147.8133 23.9523,149.5023 23.0614,151.284 C21.2797,154.8473 19.465,158.7813 17.765,162.9775 C10.965,179.7625 6,200.745 12.32,219 C20.295,242.035 36.9675,263.635 52.0413,279.7863 C59.5781,287.8619 66.7153,294.5753 72.1658,299.4248 C72.8471,300.031 73.502,300.6081 74.1281,301.1551 \" fill=\"none\" id=\"E1-&gt;E6\" style=\"stroke: #A80036; stroke-width: 1.0; stroke-dasharray: 7.0,7.0;\"/><polygon fill=\"#A80036\" points=\"74.1281,301.1551,69.982,292.2214,70.3627,297.8655,64.7187,298.2462,74.1281,301.1551\" style=\"stroke: #A80036; stroke-width: 1.0;\"/><text fill=\"#000000\" font-family=\"sans-serif\" font-size=\"13\" lengthAdjust=\"spacingAndGlyphs\" textLength=\"65\" x=\"13.32\" y=\"215.0669\">«import»*</text></a><!--MD5=[bfa3c8b0d15052fdf50ae9310b491027]\n",
       "link E8 to E7--><a href=\"psysml:0934d2d2-1a49-4ac4-b6c0-cd8fa5ea19dd\" target=\"_top\" title=\"psysml:0934d2d2-1a49-4ac4-b6c0-cd8fa5ea19dd\" xlink:actuate=\"onRequest\" xlink:href=\"psysml:0934d2d2-1a49-4ac4-b6c0-cd8fa5ea19dd\" xlink:show=\"new\" xlink:title=\"psysml:0934d2d2-1a49-4ac4-b6c0-cd8fa5ea19dd\" xlink:type=\"simple\"><path d=\"M232.99,154.29 C246.61,173.37 260.16,200.59 244.32,219 C228.78,237.06 210.49,212.85 191.32,227 C178.2,236.69 169.29,251.96 163.34,266.65 \" fill=\"none\" id=\"E8-&gt;E7\" style=\"stroke: #A80036; stroke-width: 1.0;\"/><polygon fill=\"#FFFFFF\" points=\"156.95,285.73,156.3404,265.4907,169.617,269.9329,156.95,285.73\" style=\"stroke: #A80036; stroke-width: 1.0;\"/><ellipse cx=\"160.0457\" cy=\"260.7199\" fill=\"#A80036\" rx=\"2\" ry=\"2\" style=\"stroke: #A80036; stroke-width: 1.0;\"/><ellipse cx=\"169.5289\" cy=\"263.8929\" fill=\"#A80036\" rx=\"2\" ry=\"2\" style=\"stroke: #A80036; stroke-width: 1.0;\"/></a><!--MD5=[c2be97adba6ddfe1c8f349fab141c927]\n",
       "link E9 to E4--><a href=\"psysml:f0473cf2-6b9f-40e7-98be-e0cb9d304d8b\" target=\"_top\" title=\"psysml:f0473cf2-6b9f-40e7-98be-e0cb9d304d8b\" xlink:actuate=\"onRequest\" xlink:href=\"psysml:f0473cf2-6b9f-40e7-98be-e0cb9d304d8b\" xlink:show=\"new\" xlink:title=\"psysml:f0473cf2-6b9f-40e7-98be-e0cb9d304d8b\" xlink:type=\"simple\"><path d=\"M267.5431,178.2415 C267.5354,178.35 267.5276,178.4585 267.5198,178.5671 C267.3951,180.3034 267.2673,182.0417 267.1366,183.7729 C266.8753,187.2352 266.6025,190.6688 266.32,194 C263.93,222.21 260.49,254.26 257.9,277.18 \" fill=\"none\" id=\"E9-&gt;E4\" style=\"stroke: #A80036; stroke-width: 1.0; stroke-dasharray: 7.0,7.0;\"/><polygon fill=\"#A80036\" points=\"257.33,282.22,262.3075,273.7215,257.8869,277.2511,254.3572,272.8305,257.33,282.22\" style=\"stroke: #A80036; stroke-width: 1.0;\"/><text fill=\"#000000\" font-family=\"sans-serif\" font-size=\"13\" lengthAdjust=\"spacingAndGlyphs\" textLength=\"65\" x=\"266.32\" y=\"215.0669\">«import»*</text></a><!--MD5=[feeac5eb423634930294aa81f2d25a4c]\n",
       "link E10 to E3--><a href=\"psysml:6083fff7-7e2a-4a1f-b6e0-00602bace9f4\" target=\"_top\" title=\"psysml:6083fff7-7e2a-4a1f-b6e0-00602bace9f4\" xlink:actuate=\"onRequest\" xlink:href=\"psysml:6083fff7-7e2a-4a1f-b6e0-00602bace9f4\" xlink:show=\"new\" xlink:title=\"psysml:6083fff7-7e2a-4a1f-b6e0-00602bace9f4\" xlink:type=\"simple\"><path d=\"M345.63,154.11 C359.77,173.07 373.99,200.22 358.32,219 C345.58,234.26 327.2,211.86 314.32,227 C300.64,243.07 304.33,374.79 307.28,443.95 \" fill=\"none\" id=\"E10-&gt;E3\" style=\"stroke: #A80036; stroke-width: 1.0;\"/><polygon fill=\"#FFFFFF\" points=\"308.18,463.98,300.3317,445.3144,314.3175,444.6841,308.18,463.98\" style=\"stroke: #A80036; stroke-width: 1.0;\"/><ellipse cx=\"302.0731\" cy=\"439.5301\" fill=\"#A80036\" rx=\"2\" ry=\"2\" style=\"stroke: #A80036; stroke-width: 1.0;\"/><ellipse cx=\"312.063\" cy=\"439.0799\" fill=\"#A80036\" rx=\"2\" ry=\"2\" style=\"stroke: #A80036; stroke-width: 1.0;\"/></a><!--MD5=[b01b77d13b0401f9916c0ab8c0508bac]\n",
       "@startuml\r\n",
       "skinparam wrapWidth 300\r\n",
       "hide circle\r\n",
       "\r\n",
       "package \"PrivateImportTest\" as E1  [[psysml:56a08668-af7c-402b-8ea6-0ffeccd2e906 ]]  {\r\n",
       "package \"P1\" as E2  [[psysml:989134c5-5272-479d-a43e-5e5573119e0c ]]  {\r\n",
       "comp def \"A\" as E3  <<(T,blue) part  def>> [[psysml:1f011377-ef65-4253-92ff-be4f522feeb1 ]] {\r\n",
       "}\r\n",
       "}\r\n",
       "package \"P2\" as E4  [[psysml:7d907640-2982-4506-b0ab-4e4fe8a9afec ]]  {\r\n",
       "}\r\n",
       "comp usage \"x: A \" as E5  <<(T,blue) part>> [[psysml:4755439e-6dab-436e-bf4a-d220bd8663ba ]] {\r\n",
       "}\r\n",
       "package \"P3\" as E6  [[psysml:90563c83-8b6e-4371-ac3b-36c1983fe7e9 ]]  {\r\n",
       "comp def \"B\" as E7  <<(T,blue) part  def>> [[psysml:bdb8801b-74e6-41c7-b5f1-114cae898237 ]] {\r\n",
       "}\r\n",
       "}\r\n",
       "comp usage \"z: B \" as E8  <<(T,blue) part>> [[psysml:dfc306bc-28cd-4074-8d12-696a322e5955 ]] {\r\n",
       "}\r\n",
       "package \"P4\" as E9  [[psysml:2733cc0d-ab4e-4acc-aaf2-0d4d1c16697a ]]  {\r\n",
       "comp usage \"z1: A \" as E10  <<(T,blue) part>> [[psysml:aa943bbf-59d6-4c08-9403-21388691ca57 ]] {\r\n",
       "}\r\n",
       "}\r\n",
       "}\r\n",
       "E4 ..> E2 [[psysml:113e6c15-2e9f-43c2-9a8b-f1023998ecb3 ]] : <<import>>*\r\n",
       "E5 - -:|> E3 [[psysml:2e030f48-ed8d-4fbc-a256-8117ac7131ec ]] \r\n",
       "E1 ..> E4 [[psysml:a039409c-dc44-4261-a761-133767375f35 ]] : <<import>>*\r\n",
       "E1 ..> E6 [[psysml:8872cc02-851e-450c-b3e8-f90f2e3db770 ]] : <<import>>*\r\n",
       "E8 - -:|> E7 [[psysml:0934d2d2-1a49-4ac4-b6c0-cd8fa5ea19dd ]] \r\n",
       "E9 ..> E4 [[psysml:f0473cf2-6b9f-40e7-98be-e0cb9d304d8b ]] : <<import>>*\r\n",
       "E10 - -:|> E3 [[psysml:6083fff7-7e2a-4a1f-b6e0-00602bace9f4 ]] \r\n",
       "@enduml\r\n",
       "\n",
       "PlantUML version 1.2020.13(Sat Jun 13 12:26:38 UTC 2020)\n",
       "(EPL source distribution)\n",
       "Java Runtime: OpenJDK Runtime Environment\n",
       "JVM: OpenJDK 64-Bit Server VM\n",
       "Default Encoding: UTF-8\n",
       "Language: en\n",
       "Country: null\n",
       "--></g></svg>"
      ]
     },
     "execution_count": 29,
     "metadata": {},
     "output_type": "execute_result"
    }
   ],
   "source": [
    "%viz --style=\"STDCOLOR\" --view=\"MIXED\" \"PrivateImportTest\""
   ]
  },
  {
   "cell_type": "code",
   "execution_count": 30,
   "id": "e90aeeb3",
   "metadata": {
    "execution": {
     "iopub.execute_input": "2022-02-18T10:48:47.031448Z",
     "iopub.status.busy": "2022-02-18T10:48:47.031047Z",
     "iopub.status.idle": "2022-02-18T10:48:47.091283Z",
     "shell.execute_reply": "2022-02-18T10:48:47.090919Z"
    }
   },
   "outputs": [
    {
     "data": {
      "image/svg+xml": [
       "<?xml version=\"1.0\" encoding=\"UTF-8\" standalone=\"no\"?><svg xmlns=\"http://www.w3.org/2000/svg\" xmlns:xlink=\"http://www.w3.org/1999/xlink\" contentScriptType=\"application/ecmascript\" contentStyleType=\"text/css\" height=\"574px\" preserveAspectRatio=\"none\" style=\"width:429px;height:574px;\" version=\"1.1\" viewBox=\"0 0 429 574\" width=\"429px\" zoomAndPan=\"magnify\"><defs><filter height=\"300%\" id=\"f1o7674mtc93lu\" width=\"300%\" x=\"-1\" y=\"-1\"><feGaussianBlur result=\"blurOut\" stdDeviation=\"2.0\"/><feColorMatrix in=\"blurOut\" result=\"blurOut2\" type=\"matrix\" values=\"0 0 0 0 0 0 0 0 0 0 0 0 0 0 0 0 0 0 .4 0\"/><feOffset dx=\"4.0\" dy=\"4.0\" in=\"blurOut2\" result=\"blurOut3\"/><feBlend in=\"SourceGraphic\" in2=\"blurOut3\" mode=\"normal\"/></filter></defs><g><!--MD5=[fbc87193dbaf4d95561dea2c320d4a47]\n",
       "cluster E1--><a href=\"psysml:56a08668-af7c-402b-8ea6-0ffeccd2e906\" target=\"_top\" title=\"psysml:56a08668-af7c-402b-8ea6-0ffeccd2e906\" xlink:actuate=\"onRequest\" xlink:href=\"psysml:56a08668-af7c-402b-8ea6-0ffeccd2e906\" xlink:show=\"new\" xlink:title=\"psysml:56a08668-af7c-402b-8ea6-0ffeccd2e906\" xlink:type=\"simple\"><polygon fill=\"#FFFFFF\" filter=\"url(#f1o7674mtc93lu)\" points=\"26.47,6,153.47,6,160.47,28.2969,407.47,28.2969,407.47,562,26.47,562,26.47,6\" style=\"stroke: #000000; stroke-width: 1.5;\"/><line style=\"stroke: #000000; stroke-width: 1.5;\" x1=\"26.47\" x2=\"160.47\" y1=\"28.2969\" y2=\"28.2969\"/><text fill=\"#000000\" font-family=\"sans-serif\" font-size=\"14\" font-weight=\"bold\" lengthAdjust=\"spacingAndGlyphs\" textLength=\"121\" x=\"30.47\" y=\"20.9951\">PrivateImportTest</text></a><!--MD5=[e4f7fae6ed58524ba242bb0b0d3be6b7]\n",
       "cluster E2--><a href=\"psysml:989134c5-5272-479d-a43e-5e5573119e0c\" target=\"_top\" title=\"psysml:989134c5-5272-479d-a43e-5e5573119e0c\" xlink:actuate=\"onRequest\" xlink:href=\"psysml:989134c5-5272-479d-a43e-5e5573119e0c\" xlink:show=\"new\" xlink:title=\"psysml:989134c5-5272-479d-a43e-5e5573119e0c\" xlink:type=\"simple\"><polygon fill=\"#FFFFFF\" filter=\"url(#f1o7674mtc93lu)\" points=\"216.47,415,240.47,415,247.47,437.2969,323.47,437.2969,323.47,522,216.47,522,216.47,415\" style=\"stroke: #000000; stroke-width: 1.5;\"/><line style=\"stroke: #000000; stroke-width: 1.5;\" x1=\"216.47\" x2=\"247.47\" y1=\"437.2969\" y2=\"437.2969\"/><text fill=\"#000000\" font-family=\"sans-serif\" font-size=\"14\" font-weight=\"bold\" lengthAdjust=\"spacingAndGlyphs\" textLength=\"18\" x=\"220.47\" y=\"429.9951\">P1</text></a><!--MD5=[14e3b0961a2654348d326746436168a1]\n",
       "cluster E6--><a href=\"psysml:90563c83-8b6e-4371-ac3b-36c1983fe7e9\" target=\"_top\" title=\"psysml:90563c83-8b6e-4371-ac3b-36c1983fe7e9\" xlink:actuate=\"onRequest\" xlink:href=\"psysml:90563c83-8b6e-4371-ac3b-36c1983fe7e9\" xlink:show=\"new\" xlink:title=\"psysml:90563c83-8b6e-4371-ac3b-36c1983fe7e9\" xlink:type=\"simple\"><polygon fill=\"#FFFFFF\" filter=\"url(#f1o7674mtc93lu)\" points=\"74.47,243,98.47,243,105.47,265.2969,181.47,265.2969,181.47,350,74.47,350,74.47,243\" style=\"stroke: #000000; stroke-width: 1.5;\"/><line style=\"stroke: #000000; stroke-width: 1.5;\" x1=\"74.47\" x2=\"105.47\" y1=\"265.2969\" y2=\"265.2969\"/><text fill=\"#000000\" font-family=\"sans-serif\" font-size=\"14\" font-weight=\"bold\" lengthAdjust=\"spacingAndGlyphs\" textLength=\"18\" x=\"78.47\" y=\"257.9951\">P3</text></a><!--MD5=[7f149f147074ac12df2cb0a7728a5fb0]\n",
       "cluster E9--><a href=\"psysml:2733cc0d-ab4e-4acc-aaf2-0d4d1c16697a\" target=\"_top\" title=\"psysml:2733cc0d-ab4e-4acc-aaf2-0d4d1c16697a\" xlink:actuate=\"onRequest\" xlink:href=\"psysml:2733cc0d-ab4e-4acc-aaf2-0d4d1c16697a\" xlink:show=\"new\" xlink:title=\"psysml:2733cc0d-ab4e-4acc-aaf2-0d4d1c16697a\" xlink:type=\"simple\"><polygon fill=\"#FFFFFF\" filter=\"url(#f1o7674mtc93lu)\" points=\"232.47,65,256.47,65,263.47,87.2969,367.47,87.2969,367.47,178,232.47,178,232.47,65\" style=\"stroke: #000000; stroke-width: 1.5;\"/><line style=\"stroke: #000000; stroke-width: 1.5;\" x1=\"232.47\" x2=\"263.47\" y1=\"87.2969\" y2=\"87.2969\"/><text fill=\"#000000\" font-family=\"sans-serif\" font-size=\"14\" font-weight=\"bold\" lengthAdjust=\"spacingAndGlyphs\" textLength=\"18\" x=\"236.47\" y=\"79.9951\">P4</text></a><!--MD5=[270fce915f116d4de14055a7c1d9a0f3]\n",
       "class E5--><a href=\"psysml:4755439e-6dab-436e-bf4a-d220bd8663ba\" target=\"_top\" title=\"psysml:4755439e-6dab-436e-bf4a-d220bd8663ba\" xlink:actuate=\"onRequest\" xlink:href=\"psysml:4755439e-6dab-436e-bf4a-d220bd8663ba\" xlink:show=\"new\" xlink:title=\"psysml:4755439e-6dab-436e-bf4a-d220bd8663ba\" xlink:type=\"simple\"><rect fill=\"#FEFECE\" filter=\"url(#f1o7674mtc93lu)\" height=\"45.9375\" id=\"E5\" rx=\"10\" ry=\"10\" style=\"stroke: #A80036; stroke-width: 1.5;\" width=\"68\" x=\"315.47\" y=\"283\"/><ellipse cx=\"330.47\" cy=\"301.9688\" fill=\"#32CD32\" rx=\"11\" ry=\"11\" style=\"stroke: #A80036; stroke-width: 1.0;\"/><path d=\"M327.2825,306.9688 L327.2825,296.375 L330.8919,296.375 Q332.1106,296.375 332.9075,296.8125 Q333.7044,297.2344 334.0794,297.9375 Q334.47,298.6406 334.47,299.4844 Q334.47,300.3281 334.095,301.0156 Q333.7356,301.7031 332.9388,302.125 Q332.1575,302.5313 330.97,302.5313 L329.2356,302.5313 L329.2356,306.9688 L327.2825,306.9688 Z M329.2356,300.9375 L330.845,300.9375 Q331.6575,300.9375 332.0794,300.5313 Q332.5013,300.125 332.5013,299.4844 Q332.5013,298.8594 332.0794,298.4531 Q331.6575,298.0469 330.8606,298.0469 L329.2356,298.0469 L329.2356,300.9375 Z \"/><text fill=\"#000000\" font-family=\"sans-serif\" font-size=\"12\" font-style=\"italic\" lengthAdjust=\"spacingAndGlyphs\" textLength=\"40\" x=\"342.47\" y=\"299.1387\">«part»</text><text fill=\"#000000\" font-family=\"sans-serif\" font-size=\"12\" lengthAdjust=\"spacingAndGlyphs\" textLength=\"22\" x=\"349.47\" y=\"313.1074\">x: A</text><line style=\"stroke: #A80036; stroke-width: 1.5;\" x1=\"316.47\" x2=\"382.47\" y1=\"320.9375\" y2=\"320.9375\"/></a><!--MD5=[b9389687b975829384b498ac4b7476b2]\n",
       "class E8--><a href=\"psysml:dfc306bc-28cd-4074-8d12-696a322e5955\" target=\"_top\" title=\"psysml:dfc306bc-28cd-4074-8d12-696a322e5955\" xlink:actuate=\"onRequest\" xlink:href=\"psysml:dfc306bc-28cd-4074-8d12-696a322e5955\" xlink:show=\"new\" xlink:title=\"psysml:dfc306bc-28cd-4074-8d12-696a322e5955\" xlink:type=\"simple\"><rect fill=\"#FEFECE\" filter=\"url(#f1o7674mtc93lu)\" height=\"45.9375\" id=\"E8\" rx=\"10\" ry=\"10\" style=\"stroke: #A80036; stroke-width: 1.5;\" width=\"68\" x=\"137.47\" y=\"108\"/><ellipse cx=\"152.47\" cy=\"126.9688\" fill=\"#32CD32\" rx=\"11\" ry=\"11\" style=\"stroke: #A80036; stroke-width: 1.0;\"/><path d=\"M149.2825,131.9688 L149.2825,121.375 L152.8919,121.375 Q154.1106,121.375 154.9075,121.8125 Q155.7044,122.2344 156.0794,122.9375 Q156.47,123.6406 156.47,124.4844 Q156.47,125.3281 156.095,126.0156 Q155.7356,126.7031 154.9388,127.125 Q154.1575,127.5313 152.97,127.5313 L151.2356,127.5313 L151.2356,131.9688 L149.2825,131.9688 Z M151.2356,125.9375 L152.845,125.9375 Q153.6575,125.9375 154.0794,125.5313 Q154.5013,125.125 154.5013,124.4844 Q154.5013,123.8594 154.0794,123.4531 Q153.6575,123.0469 152.8606,123.0469 L151.2356,123.0469 L151.2356,125.9375 Z \"/><text fill=\"#000000\" font-family=\"sans-serif\" font-size=\"12\" font-style=\"italic\" lengthAdjust=\"spacingAndGlyphs\" textLength=\"40\" x=\"164.47\" y=\"124.1387\">«part»</text><text fill=\"#000000\" font-family=\"sans-serif\" font-size=\"12\" lengthAdjust=\"spacingAndGlyphs\" textLength=\"21\" x=\"171.97\" y=\"138.1074\">z: B</text><line style=\"stroke: #A80036; stroke-width: 1.5;\" x1=\"138.47\" x2=\"204.47\" y1=\"145.9375\" y2=\"145.9375\"/></a><!--MD5=[09b614a08d8cba4a07c9adeb5e0fee81]\n",
       "class E3--><a href=\"psysml:1f011377-ef65-4253-92ff-be4f522feeb1\" target=\"_top\" title=\"psysml:1f011377-ef65-4253-92ff-be4f522feeb1\" xlink:actuate=\"onRequest\" xlink:href=\"psysml:1f011377-ef65-4253-92ff-be4f522feeb1\" xlink:show=\"new\" xlink:title=\"psysml:1f011377-ef65-4253-92ff-be4f522feeb1\" xlink:type=\"simple\"><rect fill=\"#FEFECE\" filter=\"url(#f1o7674mtc93lu)\" height=\"40\" id=\"E3\" style=\"stroke: #A80036; stroke-width: 1.5;\" width=\"40\" x=\"259.47\" y=\"458\"/><ellipse cx=\"274.47\" cy=\"474\" fill=\"#008000\" rx=\"11\" ry=\"11\" style=\"stroke: #A80036; stroke-width: 1.0;\"/><path d=\"M271.345,479 L271.345,468.4063 L274.5794,468.4063 Q276.4856,468.4063 277.3919,469.1563 Q278.3138,469.9063 278.3138,471.0781 Q278.3138,471.7656 277.9231,472.4219 Q277.5481,473.0781 276.8294,473.375 Q277.6888,473.75 278.2044,474.4375 Q278.72,475.125 278.72,475.9375 Q278.72,477.3125 277.6888,478.1563 Q276.6731,479 274.5638,479 L271.345,479 Z M273.2669,472.6406 L274.4231,472.6406 Q275.5481,472.6406 275.9544,472.2656 Q276.3763,471.875 276.3763,471.25 Q276.3763,470.6719 275.9544,470.3125 Q275.5325,469.9531 274.595,469.9531 L273.2669,469.9531 L273.2669,472.6406 Z M273.2669,477.4219 L274.7669,477.4219 Q275.6731,477.4219 276.2044,477.0313 Q276.7356,476.6406 276.7356,475.8906 Q276.7356,475.125 276.2356,474.6563 Q275.7356,474.1719 274.47,474.1719 L273.2669,474.1719 L273.2669,477.4219 Z \"/><text fill=\"#000000\" font-family=\"sans-serif\" font-size=\"12\" lengthAdjust=\"spacingAndGlyphs\" textLength=\"8\" x=\"288.47\" y=\"478.1543\">A</text><line style=\"stroke: #A80036; stroke-width: 1.5;\" x1=\"260.47\" x2=\"298.47\" y1=\"490\" y2=\"490\"/></a><a href=\"psysml:7d907640-2982-4506-b0ab-4e4fe8a9afec\" target=\"_top\" title=\"psysml:7d907640-2982-4506-b0ab-4e4fe8a9afec\" xlink:actuate=\"onRequest\" xlink:href=\"psysml:7d907640-2982-4506-b0ab-4e4fe8a9afec\" xlink:show=\"new\" xlink:title=\"psysml:7d907640-2982-4506-b0ab-4e4fe8a9afec\" xlink:type=\"simple\"><polygon fill=\"#FFFFFF\" filter=\"url(#f1o7674mtc93lu)\" points=\"205.47,279.5,229.47,279.5,236.47,301.7969,243.47,301.7969,243.47,332.0938,205.47,332.0938,205.47,279.5\" style=\"stroke: #000000; stroke-width: 1.5;\"/><line style=\"stroke: #000000; stroke-width: 1.5;\" x1=\"205.47\" x2=\"236.47\" y1=\"301.7969\" y2=\"301.7969\"/><text fill=\"#000000\" font-family=\"sans-serif\" font-size=\"14\" font-weight=\"bold\" lengthAdjust=\"spacingAndGlyphs\" textLength=\"18\" x=\"209.47\" y=\"294.4951\">P2</text></a><!--MD5=[2156ba9850f5573cc1fc38a6a4b2f02b]\n",
       "class E7--><a href=\"psysml:bdb8801b-74e6-41c7-b5f1-114cae898237\" target=\"_top\" title=\"psysml:bdb8801b-74e6-41c7-b5f1-114cae898237\" xlink:actuate=\"onRequest\" xlink:href=\"psysml:bdb8801b-74e6-41c7-b5f1-114cae898237\" xlink:show=\"new\" xlink:title=\"psysml:bdb8801b-74e6-41c7-b5f1-114cae898237\" xlink:type=\"simple\"><rect fill=\"#FEFECE\" filter=\"url(#f1o7674mtc93lu)\" height=\"40\" id=\"E7\" style=\"stroke: #A80036; stroke-width: 1.5;\" width=\"40\" x=\"117.47\" y=\"286\"/><ellipse cx=\"132.47\" cy=\"302\" fill=\"#008000\" rx=\"11\" ry=\"11\" style=\"stroke: #A80036; stroke-width: 1.0;\"/><path d=\"M129.345,307 L129.345,296.4063 L132.5794,296.4063 Q134.4856,296.4063 135.3919,297.1563 Q136.3138,297.9063 136.3138,299.0781 Q136.3138,299.7656 135.9231,300.4219 Q135.5481,301.0781 134.8294,301.375 Q135.6888,301.75 136.2044,302.4375 Q136.72,303.125 136.72,303.9375 Q136.72,305.3125 135.6888,306.1563 Q134.6731,307 132.5638,307 L129.345,307 Z M131.2669,300.6406 L132.4231,300.6406 Q133.5481,300.6406 133.9544,300.2656 Q134.3763,299.875 134.3763,299.25 Q134.3763,298.6719 133.9544,298.3125 Q133.5325,297.9531 132.595,297.9531 L131.2669,297.9531 L131.2669,300.6406 Z M131.2669,305.4219 L132.7669,305.4219 Q133.6731,305.4219 134.2044,305.0313 Q134.7356,304.6406 134.7356,303.8906 Q134.7356,303.125 134.2356,302.6563 Q133.7356,302.1719 132.47,302.1719 L131.2669,302.1719 L131.2669,305.4219 Z \"/><text fill=\"#000000\" font-family=\"sans-serif\" font-size=\"12\" lengthAdjust=\"spacingAndGlyphs\" textLength=\"8\" x=\"146.47\" y=\"306.1543\">B</text><line style=\"stroke: #A80036; stroke-width: 1.5;\" x1=\"118.47\" x2=\"156.47\" y1=\"318\" y2=\"318\"/></a><!--MD5=[96f4274e9e20536e775497830990834d]\n",
       "class E10--><a href=\"psysml:aa943bbf-59d6-4c08-9403-21388691ca57\" target=\"_top\" title=\"psysml:aa943bbf-59d6-4c08-9403-21388691ca57\" xlink:actuate=\"onRequest\" xlink:href=\"psysml:aa943bbf-59d6-4c08-9403-21388691ca57\" xlink:show=\"new\" xlink:title=\"psysml:aa943bbf-59d6-4c08-9403-21388691ca57\" xlink:type=\"simple\"><rect fill=\"#FEFECE\" filter=\"url(#f1o7674mtc93lu)\" height=\"45.9375\" id=\"E10\" rx=\"10\" ry=\"10\" style=\"stroke: #A80036; stroke-width: 1.5;\" width=\"68\" x=\"275.47\" y=\"108\"/><ellipse cx=\"290.47\" cy=\"126.9688\" fill=\"#32CD32\" rx=\"11\" ry=\"11\" style=\"stroke: #A80036; stroke-width: 1.0;\"/><path d=\"M287.2825,131.9688 L287.2825,121.375 L290.8919,121.375 Q292.1106,121.375 292.9075,121.8125 Q293.7044,122.2344 294.0794,122.9375 Q294.47,123.6406 294.47,124.4844 Q294.47,125.3281 294.095,126.0156 Q293.7356,126.7031 292.9388,127.125 Q292.1575,127.5313 290.97,127.5313 L289.2356,127.5313 L289.2356,131.9688 L287.2825,131.9688 Z M289.2356,125.9375 L290.845,125.9375 Q291.6575,125.9375 292.0794,125.5313 Q292.5013,125.125 292.5013,124.4844 Q292.5013,123.8594 292.0794,123.4531 Q291.6575,123.0469 290.8606,123.0469 L289.2356,123.0469 L289.2356,125.9375 Z \"/><text fill=\"#000000\" font-family=\"sans-serif\" font-size=\"12\" font-style=\"italic\" lengthAdjust=\"spacingAndGlyphs\" textLength=\"40\" x=\"302.47\" y=\"124.1387\">«part»</text><text fill=\"#000000\" font-family=\"sans-serif\" font-size=\"12\" lengthAdjust=\"spacingAndGlyphs\" textLength=\"29\" x=\"305.97\" y=\"138.1074\">z1: A</text><line style=\"stroke: #A80036; stroke-width: 1.5;\" x1=\"276.47\" x2=\"342.47\" y1=\"145.9375\" y2=\"145.9375\"/></a><!--MD5=[185131fc0dcab0a4505a2ebe144e961b]\n",
       "link E4 to E2--><a href=\"psysml:113e6c15-2e9f-43c2-9a8b-f1023998ecb3\" target=\"_top\" title=\"psysml:113e6c15-2e9f-43c2-9a8b-f1023998ecb3\" xlink:actuate=\"onRequest\" xlink:href=\"psysml:113e6c15-2e9f-43c2-9a8b-f1023998ecb3\" xlink:show=\"new\" xlink:title=\"psysml:113e6c15-2e9f-43c2-9a8b-f1023998ecb3\" xlink:type=\"simple\"><path d=\"M214.42,332.66 C210.12,344.96 205.61,360.02 203.47,374 C200.045,396.37 204.865,421.235 210.7463,440.93 C212.2166,445.8538 213.7532,450.4544 215.2439,454.6121 C215.6166,455.6515 215.9864,456.6633 216.3516,457.6455 \" fill=\"none\" id=\"E4-&gt;E2\" style=\"stroke: #A80036; stroke-width: 1.0; stroke-dasharray: 7.0,7.0;\"/><polygon fill=\"#A80036\" points=\"216.3516,457.6455,216.9644,447.8157,214.6091,452.9589,209.4659,450.6037,216.3516,457.6455\" style=\"stroke: #A80036; stroke-width: 1.0;\"/><text fill=\"#000000\" font-family=\"sans-serif\" font-size=\"13\" lengthAdjust=\"spacingAndGlyphs\" textLength=\"65\" x=\"204.47\" y=\"387.0669\">«import»*</text></a><!--MD5=[e9be52314489bd878ff4c7144b63c9e1]\n",
       "link E5 to E3--><a href=\"psysml:2e030f48-ed8d-4fbc-a256-8117ac7131ec\" target=\"_top\" title=\"psysml:2e030f48-ed8d-4fbc-a256-8117ac7131ec\" xlink:actuate=\"onRequest\" xlink:href=\"psysml:2e030f48-ed8d-4fbc-a256-8117ac7131ec\" xlink:show=\"new\" xlink:title=\"psysml:2e030f48-ed8d-4fbc-a256-8117ac7131ec\" xlink:type=\"simple\"><path d=\"M340.32,329.22 C328.84,357.1 308.98,405.33 295.08,439.08 \" fill=\"none\" id=\"E5-&gt;E3\" style=\"stroke: #A80036; stroke-width: 1.0;\"/><polygon fill=\"#FFFFFF\" points=\"287.33,457.92,288.0884,437.6857,301.0347,443.0142,287.33,457.92\" style=\"stroke: #A80036; stroke-width: 1.0;\"/><ellipse cx=\"292.1073\" cy=\"433.176\" fill=\"#A80036\" rx=\"2\" ry=\"2\" style=\"stroke: #A80036; stroke-width: 1.0;\"/><ellipse cx=\"301.3547\" cy=\"436.982\" fill=\"#A80036\" rx=\"2\" ry=\"2\" style=\"stroke: #A80036; stroke-width: 1.0;\"/></a><!--MD5=[ee384bb554873b72f85793eae40e290c]\n",
       "link E1 to E4--><a href=\"psysml:a039409c-dc44-4261-a761-133767375f35\" target=\"_top\" title=\"psysml:a039409c-dc44-4261-a761-133767375f35\" xlink:actuate=\"onRequest\" xlink:href=\"psysml:a039409c-dc44-4261-a761-133767375f35\" xlink:show=\"new\" xlink:title=\"psysml:a039409c-dc44-4261-a761-133767375f35\" xlink:type=\"simple\"><path d=\"M34.44,132.12 C33.8,134.6 23.9,174.52 42.47,194 C56.49,208.7 67.69,197.38 87.47,202 C126.23,211.05 141.48,203.31 173.47,227 C189.99,239.23 202.68,258.54 211.26,274.88 \" fill=\"none\" id=\"E1-&gt;E4\" style=\"stroke: #A80036; stroke-width: 1.0; stroke-dasharray: 7.0,7.0;\"/><polygon fill=\"#A80036\" points=\"213.58,279.4,213.0324,269.5664,211.2984,274.9509,205.9139,273.2169,213.58,279.4\" style=\"stroke: #A80036; stroke-width: 1.0;\"/><text fill=\"#000000\" font-family=\"sans-serif\" font-size=\"13\" lengthAdjust=\"spacingAndGlyphs\" textLength=\"65\" x=\"161.47\" y=\"215.0669\">«import»*</text></a><!--MD5=[ccbd3af71bf83df0ec2a2db62d6d7130]\n",
       "link E1 to E6--><a href=\"psysml:8872cc02-851e-450c-b3e8-f90f2e3db770\" target=\"_top\" title=\"psysml:8872cc02-851e-450c-b3e8-f90f2e3db770\" xlink:actuate=\"onRequest\" xlink:href=\"psysml:8872cc02-851e-450c-b3e8-f90f2e3db770\" xlink:show=\"new\" xlink:title=\"psysml:8872cc02-851e-450c-b3e8-f90f2e3db770\" xlink:type=\"simple\"><path d=\"M26.4129,145.0882 C26.2009,145.471 25.9871,145.8607 25.7715,146.257 C24.9093,147.8422 24.0204,149.5335 23.1235,151.3174 C21.3297,154.8852 19.5037,158.8231 17.795,163.0225 C10.96,179.82 6,200.8 12.47,219 C20.465,241.49 37.1375,262.37 52.2063,277.9238 C59.7406,285.7006 66.8741,292.1459 72.3214,296.7952 C73.0023,297.3763 73.6569,297.9294 74.2826,298.4535 \" fill=\"none\" id=\"E1-&gt;E6\" style=\"stroke: #A80036; stroke-width: 1.0; stroke-dasharray: 7.0,7.0;\"/><polygon fill=\"#A80036\" points=\"74.2826,298.4535,69.9517,289.608,70.4496,295.2429,64.8147,295.7408,74.2826,298.4535\" style=\"stroke: #A80036; stroke-width: 1.0;\"/><text fill=\"#000000\" font-family=\"sans-serif\" font-size=\"13\" lengthAdjust=\"spacingAndGlyphs\" textLength=\"65\" x=\"13.47\" y=\"215.0669\">«import»*</text></a><!--MD5=[bfa3c8b0d15052fdf50ae9310b491027]\n",
       "link E8 to E7--><a href=\"psysml:0934d2d2-1a49-4ac4-b6c0-cd8fa5ea19dd\" target=\"_top\" title=\"psysml:0934d2d2-1a49-4ac4-b6c0-cd8fa5ea19dd\" xlink:actuate=\"onRequest\" xlink:href=\"psysml:0934d2d2-1a49-4ac4-b6c0-cd8fa5ea19dd\" xlink:show=\"new\" xlink:title=\"psysml:0934d2d2-1a49-4ac4-b6c0-cd8fa5ea19dd\" xlink:type=\"simple\"><path d=\"M186.26,154.18 C195.87,167.21 209.39,183.19 224.47,194 C232.25,199.58 239.1,194.07 244.47,202 C248.71,208.26 249.55,213.41 244.47,219 C232.01,232.72 175.83,215.29 161.47,227 C149.88,236.45 143.77,251.37 140.59,265.63 \" fill=\"none\" id=\"E8-&gt;E7\" style=\"stroke: #A80036; stroke-width: 1.0;\"/><polygon fill=\"#FFFFFF\" points=\"137.7,285.68,133.4714,265.878,147.3292,267.8677,137.7,285.68\" style=\"stroke: #A80036; stroke-width: 1.0;\"/><ellipse cx=\"136.2611\" cy=\"260.5201\" fill=\"#A80036\" rx=\"2\" ry=\"2\" style=\"stroke: #A80036; stroke-width: 1.0;\"/><ellipse cx=\"146.1596\" cy=\"261.9413\" fill=\"#A80036\" rx=\"2\" ry=\"2\" style=\"stroke: #A80036; stroke-width: 1.0;\"/></a><!--MD5=[c2be97adba6ddfe1c8f349fab141c927]\n",
       "link E9 to E4--><a href=\"psysml:f0473cf2-6b9f-40e7-98be-e0cb9d304d8b\" target=\"_top\" title=\"psysml:f0473cf2-6b9f-40e7-98be-e0cb9d304d8b\" xlink:actuate=\"onRequest\" xlink:href=\"psysml:f0473cf2-6b9f-40e7-98be-e0cb9d304d8b\" xlink:show=\"new\" xlink:title=\"psysml:f0473cf2-6b9f-40e7-98be-e0cb9d304d8b\" xlink:type=\"simple\"><path d=\"M248.7703,178.2043 C248.7876,178.326 248.8048,178.4478 248.822,178.5697 C249.9231,186.3681 250.875,194.395 251.47,202 C252.06,209.53 252.61,211.53 251.47,219 C248.59,237.78 242.37,258.1 236.62,274.27 \" fill=\"none\" id=\"E9-&gt;E4\" style=\"stroke: #A80036; stroke-width: 1.0; stroke-dasharray: 7.0,7.0;\"/><polygon fill=\"#A80036\" points=\"234.86,279.14,241.6827,272.0372,236.5607,274.4381,234.1597,269.3161,234.86,279.14\" style=\"stroke: #A80036; stroke-width: 1.0;\"/><text fill=\"#000000\" font-family=\"sans-serif\" font-size=\"13\" lengthAdjust=\"spacingAndGlyphs\" textLength=\"65\" x=\"252.47\" y=\"215.0669\">«import»*</text></a><!--MD5=[feeac5eb423634930294aa81f2d25a4c]\n",
       "link E10 to E3--><a href=\"psysml:6083fff7-7e2a-4a1f-b6e0-00602bace9f4\" target=\"_top\" title=\"psysml:6083fff7-7e2a-4a1f-b6e0-00602bace9f4\" xlink:actuate=\"onRequest\" xlink:href=\"psysml:6083fff7-7e2a-4a1f-b6e0-00602bace9f4\" xlink:show=\"new\" xlink:title=\"psysml:6083fff7-7e2a-4a1f-b6e0-00602bace9f4\" xlink:type=\"simple\"><path d=\"M336.26,154.07 C355.77,172.75 375.96,199.52 358.47,219 C347.42,231.31 295.64,214.8 284.47,227 C270.64,242.1 274.48,370.79 277.46,437.39 \" fill=\"none\" id=\"E10-&gt;E3\" style=\"stroke: #A80036; stroke-width: 1.0;\"/><polygon fill=\"#FFFFFF\" points=\"278.43,457.71,270.5291,439.0666,284.5131,438.3969,278.43,457.71\" style=\"stroke: #A80036; stroke-width: 1.0;\"/><ellipse cx=\"272.2542\" cy=\"433.2775\" fill=\"#A80036\" rx=\"2\" ry=\"2\" style=\"stroke: #A80036; stroke-width: 1.0;\"/><ellipse cx=\"282.2427\" cy=\"432.7991\" fill=\"#A80036\" rx=\"2\" ry=\"2\" style=\"stroke: #A80036; stroke-width: 1.0;\"/></a><!--MD5=[d82562ba81e7a03bd21de122b37071d0]\n",
       "@startuml\r\n",
       " \r\n",
       "package \"PrivateImportTest\" as E1  [[psysml:56a08668-af7c-402b-8ea6-0ffeccd2e906 ]]  {\r\n",
       "package \"P1\" as E2  [[psysml:989134c5-5272-479d-a43e-5e5573119e0c ]]  {\r\n",
       "comp def \"A\" as E3 << << (B,green) >> [[psysml:1f011377-ef65-4253-92ff-be4f522feeb1 ]] {\r\n",
       "}\r\n",
       "}\r\n",
       "package \"P2\" as E4  [[psysml:7d907640-2982-4506-b0ab-4e4fe8a9afec ]]  {\r\n",
       "}\r\n",
       "comp usage \"x: A \" as E5 << << (P,limegreen) part>> [[psysml:4755439e-6dab-436e-bf4a-d220bd8663ba ]] {\r\n",
       "}\r\n",
       "package \"P3\" as E6  [[psysml:90563c83-8b6e-4371-ac3b-36c1983fe7e9 ]]  {\r\n",
       "comp def \"B\" as E7 << << (B,green) >> [[psysml:bdb8801b-74e6-41c7-b5f1-114cae898237 ]] {\r\n",
       "}\r\n",
       "}\r\n",
       "comp usage \"z: B \" as E8 << << (P,limegreen) part>> [[psysml:dfc306bc-28cd-4074-8d12-696a322e5955 ]] {\r\n",
       "}\r\n",
       "package \"P4\" as E9  [[psysml:2733cc0d-ab4e-4acc-aaf2-0d4d1c16697a ]]  {\r\n",
       "comp usage \"z1: A \" as E10 << << (P,limegreen) part>> [[psysml:aa943bbf-59d6-4c08-9403-21388691ca57 ]] {\r\n",
       "}\r\n",
       "}\r\n",
       "}\r\n",
       "E4 ..> E2 [[psysml:113e6c15-2e9f-43c2-9a8b-f1023998ecb3 ]] : <<import>>*\r\n",
       "E5 - -:|> E3 [[psysml:2e030f48-ed8d-4fbc-a256-8117ac7131ec ]] \r\n",
       "E1 ..> E4 [[psysml:a039409c-dc44-4261-a761-133767375f35 ]] : <<import>>*\r\n",
       "E1 ..> E6 [[psysml:8872cc02-851e-450c-b3e8-f90f2e3db770 ]] : <<import>>*\r\n",
       "E8 - -:|> E7 [[psysml:0934d2d2-1a49-4ac4-b6c0-cd8fa5ea19dd ]] \r\n",
       "E9 ..> E4 [[psysml:f0473cf2-6b9f-40e7-98be-e0cb9d304d8b ]] : <<import>>*\r\n",
       "E10 - -:|> E3 [[psysml:6083fff7-7e2a-4a1f-b6e0-00602bace9f4 ]] \r\n",
       "@enduml\r\n",
       "\n",
       "PlantUML version 1.2020.13(Sat Jun 13 12:26:38 UTC 2020)\n",
       "(EPL source distribution)\n",
       "Java Runtime: OpenJDK Runtime Environment\n",
       "JVM: OpenJDK 64-Bit Server VM\n",
       "Default Encoding: UTF-8\n",
       "Language: en\n",
       "Country: null\n",
       "--></g></svg>"
      ]
     },
     "execution_count": 30,
     "metadata": {},
     "output_type": "execute_result"
    }
   ],
   "source": [
    "%viz --style=\"PLANTUML\" --view=\"Default\" \"PrivateImportTest\""
   ]
  },
  {
   "cell_type": "code",
   "execution_count": 31,
   "id": "6cbcbeb7",
   "metadata": {
    "execution": {
     "iopub.execute_input": "2022-02-18T10:48:47.140652Z",
     "iopub.status.busy": "2022-02-18T10:48:47.140198Z",
     "iopub.status.idle": "2022-02-18T10:48:47.180187Z",
     "shell.execute_reply": "2022-02-18T10:48:47.179758Z"
    }
   },
   "outputs": [
    {
     "data": {
      "image/svg+xml": [
       "<?xml version=\"1.0\" encoding=\"UTF-8\" standalone=\"no\"?><svg xmlns=\"http://www.w3.org/2000/svg\" xmlns:xlink=\"http://www.w3.org/1999/xlink\" contentScriptType=\"application/ecmascript\" contentStyleType=\"text/css\" height=\"574px\" preserveAspectRatio=\"none\" style=\"width:429px;height:574px;\" version=\"1.1\" viewBox=\"0 0 429 574\" width=\"429px\" zoomAndPan=\"magnify\"><defs><filter height=\"300%\" id=\"f1o7674mtc93lu\" width=\"300%\" x=\"-1\" y=\"-1\"><feGaussianBlur result=\"blurOut\" stdDeviation=\"2.0\"/><feColorMatrix in=\"blurOut\" result=\"blurOut2\" type=\"matrix\" values=\"0 0 0 0 0 0 0 0 0 0 0 0 0 0 0 0 0 0 .4 0\"/><feOffset dx=\"4.0\" dy=\"4.0\" in=\"blurOut2\" result=\"blurOut3\"/><feBlend in=\"SourceGraphic\" in2=\"blurOut3\" mode=\"normal\"/></filter></defs><g><!--MD5=[fbc87193dbaf4d95561dea2c320d4a47]\n",
       "cluster E1--><a href=\"psysml:56a08668-af7c-402b-8ea6-0ffeccd2e906\" target=\"_top\" title=\"psysml:56a08668-af7c-402b-8ea6-0ffeccd2e906\" xlink:actuate=\"onRequest\" xlink:href=\"psysml:56a08668-af7c-402b-8ea6-0ffeccd2e906\" xlink:show=\"new\" xlink:title=\"psysml:56a08668-af7c-402b-8ea6-0ffeccd2e906\" xlink:type=\"simple\"><polygon fill=\"#FFFFFF\" filter=\"url(#f1o7674mtc93lu)\" points=\"26.47,6,153.47,6,160.47,28.2969,407.47,28.2969,407.47,562,26.47,562,26.47,6\" style=\"stroke: #000000; stroke-width: 1.5;\"/><line style=\"stroke: #000000; stroke-width: 1.5;\" x1=\"26.47\" x2=\"160.47\" y1=\"28.2969\" y2=\"28.2969\"/><text fill=\"#000000\" font-family=\"sans-serif\" font-size=\"14\" font-weight=\"bold\" lengthAdjust=\"spacingAndGlyphs\" textLength=\"121\" x=\"30.47\" y=\"20.9951\">PrivateImportTest</text></a><!--MD5=[e4f7fae6ed58524ba242bb0b0d3be6b7]\n",
       "cluster E2--><a href=\"psysml:989134c5-5272-479d-a43e-5e5573119e0c\" target=\"_top\" title=\"psysml:989134c5-5272-479d-a43e-5e5573119e0c\" xlink:actuate=\"onRequest\" xlink:href=\"psysml:989134c5-5272-479d-a43e-5e5573119e0c\" xlink:show=\"new\" xlink:title=\"psysml:989134c5-5272-479d-a43e-5e5573119e0c\" xlink:type=\"simple\"><polygon fill=\"#FFFFFF\" filter=\"url(#f1o7674mtc93lu)\" points=\"216.47,415,240.47,415,247.47,437.2969,323.47,437.2969,323.47,522,216.47,522,216.47,415\" style=\"stroke: #000000; stroke-width: 1.5;\"/><line style=\"stroke: #000000; stroke-width: 1.5;\" x1=\"216.47\" x2=\"247.47\" y1=\"437.2969\" y2=\"437.2969\"/><text fill=\"#000000\" font-family=\"sans-serif\" font-size=\"14\" font-weight=\"bold\" lengthAdjust=\"spacingAndGlyphs\" textLength=\"18\" x=\"220.47\" y=\"429.9951\">P1</text></a><!--MD5=[14e3b0961a2654348d326746436168a1]\n",
       "cluster E6--><a href=\"psysml:90563c83-8b6e-4371-ac3b-36c1983fe7e9\" target=\"_top\" title=\"psysml:90563c83-8b6e-4371-ac3b-36c1983fe7e9\" xlink:actuate=\"onRequest\" xlink:href=\"psysml:90563c83-8b6e-4371-ac3b-36c1983fe7e9\" xlink:show=\"new\" xlink:title=\"psysml:90563c83-8b6e-4371-ac3b-36c1983fe7e9\" xlink:type=\"simple\"><polygon fill=\"#FFFFFF\" filter=\"url(#f1o7674mtc93lu)\" points=\"74.47,243,98.47,243,105.47,265.2969,181.47,265.2969,181.47,350,74.47,350,74.47,243\" style=\"stroke: #000000; stroke-width: 1.5;\"/><line style=\"stroke: #000000; stroke-width: 1.5;\" x1=\"74.47\" x2=\"105.47\" y1=\"265.2969\" y2=\"265.2969\"/><text fill=\"#000000\" font-family=\"sans-serif\" font-size=\"14\" font-weight=\"bold\" lengthAdjust=\"spacingAndGlyphs\" textLength=\"18\" x=\"78.47\" y=\"257.9951\">P3</text></a><!--MD5=[7f149f147074ac12df2cb0a7728a5fb0]\n",
       "cluster E9--><a href=\"psysml:2733cc0d-ab4e-4acc-aaf2-0d4d1c16697a\" target=\"_top\" title=\"psysml:2733cc0d-ab4e-4acc-aaf2-0d4d1c16697a\" xlink:actuate=\"onRequest\" xlink:href=\"psysml:2733cc0d-ab4e-4acc-aaf2-0d4d1c16697a\" xlink:show=\"new\" xlink:title=\"psysml:2733cc0d-ab4e-4acc-aaf2-0d4d1c16697a\" xlink:type=\"simple\"><polygon fill=\"#FFFFFF\" filter=\"url(#f1o7674mtc93lu)\" points=\"232.47,65,256.47,65,263.47,87.2969,367.47,87.2969,367.47,178,232.47,178,232.47,65\" style=\"stroke: #000000; stroke-width: 1.5;\"/><line style=\"stroke: #000000; stroke-width: 1.5;\" x1=\"232.47\" x2=\"263.47\" y1=\"87.2969\" y2=\"87.2969\"/><text fill=\"#000000\" font-family=\"sans-serif\" font-size=\"14\" font-weight=\"bold\" lengthAdjust=\"spacingAndGlyphs\" textLength=\"18\" x=\"236.47\" y=\"79.9951\">P4</text></a><!--MD5=[270fce915f116d4de14055a7c1d9a0f3]\n",
       "class E5--><a href=\"psysml:4755439e-6dab-436e-bf4a-d220bd8663ba\" target=\"_top\" title=\"psysml:4755439e-6dab-436e-bf4a-d220bd8663ba\" xlink:actuate=\"onRequest\" xlink:href=\"psysml:4755439e-6dab-436e-bf4a-d220bd8663ba\" xlink:show=\"new\" xlink:title=\"psysml:4755439e-6dab-436e-bf4a-d220bd8663ba\" xlink:type=\"simple\"><rect fill=\"#FEFECE\" filter=\"url(#f1o7674mtc93lu)\" height=\"45.9375\" id=\"E5\" rx=\"10\" ry=\"10\" style=\"stroke: #A80036; stroke-width: 1.5;\" width=\"68\" x=\"315.47\" y=\"283\"/><ellipse cx=\"330.47\" cy=\"301.9688\" fill=\"#32CD32\" rx=\"11\" ry=\"11\" style=\"stroke: #A80036; stroke-width: 1.0;\"/><path d=\"M327.2825,306.9688 L327.2825,296.375 L330.8919,296.375 Q332.1106,296.375 332.9075,296.8125 Q333.7044,297.2344 334.0794,297.9375 Q334.47,298.6406 334.47,299.4844 Q334.47,300.3281 334.095,301.0156 Q333.7356,301.7031 332.9388,302.125 Q332.1575,302.5313 330.97,302.5313 L329.2356,302.5313 L329.2356,306.9688 L327.2825,306.9688 Z M329.2356,300.9375 L330.845,300.9375 Q331.6575,300.9375 332.0794,300.5313 Q332.5013,300.125 332.5013,299.4844 Q332.5013,298.8594 332.0794,298.4531 Q331.6575,298.0469 330.8606,298.0469 L329.2356,298.0469 L329.2356,300.9375 Z \"/><text fill=\"#000000\" font-family=\"sans-serif\" font-size=\"12\" font-style=\"italic\" lengthAdjust=\"spacingAndGlyphs\" textLength=\"40\" x=\"342.47\" y=\"299.1387\">«part»</text><text fill=\"#000000\" font-family=\"sans-serif\" font-size=\"12\" lengthAdjust=\"spacingAndGlyphs\" textLength=\"22\" x=\"349.47\" y=\"313.1074\">x: A</text><line style=\"stroke: #A80036; stroke-width: 1.5;\" x1=\"316.47\" x2=\"382.47\" y1=\"320.9375\" y2=\"320.9375\"/></a><!--MD5=[b9389687b975829384b498ac4b7476b2]\n",
       "class E8--><a href=\"psysml:dfc306bc-28cd-4074-8d12-696a322e5955\" target=\"_top\" title=\"psysml:dfc306bc-28cd-4074-8d12-696a322e5955\" xlink:actuate=\"onRequest\" xlink:href=\"psysml:dfc306bc-28cd-4074-8d12-696a322e5955\" xlink:show=\"new\" xlink:title=\"psysml:dfc306bc-28cd-4074-8d12-696a322e5955\" xlink:type=\"simple\"><rect fill=\"#FEFECE\" filter=\"url(#f1o7674mtc93lu)\" height=\"45.9375\" id=\"E8\" rx=\"10\" ry=\"10\" style=\"stroke: #A80036; stroke-width: 1.5;\" width=\"68\" x=\"137.47\" y=\"108\"/><ellipse cx=\"152.47\" cy=\"126.9688\" fill=\"#32CD32\" rx=\"11\" ry=\"11\" style=\"stroke: #A80036; stroke-width: 1.0;\"/><path d=\"M149.2825,131.9688 L149.2825,121.375 L152.8919,121.375 Q154.1106,121.375 154.9075,121.8125 Q155.7044,122.2344 156.0794,122.9375 Q156.47,123.6406 156.47,124.4844 Q156.47,125.3281 156.095,126.0156 Q155.7356,126.7031 154.9388,127.125 Q154.1575,127.5313 152.97,127.5313 L151.2356,127.5313 L151.2356,131.9688 L149.2825,131.9688 Z M151.2356,125.9375 L152.845,125.9375 Q153.6575,125.9375 154.0794,125.5313 Q154.5013,125.125 154.5013,124.4844 Q154.5013,123.8594 154.0794,123.4531 Q153.6575,123.0469 152.8606,123.0469 L151.2356,123.0469 L151.2356,125.9375 Z \"/><text fill=\"#000000\" font-family=\"sans-serif\" font-size=\"12\" font-style=\"italic\" lengthAdjust=\"spacingAndGlyphs\" textLength=\"40\" x=\"164.47\" y=\"124.1387\">«part»</text><text fill=\"#000000\" font-family=\"sans-serif\" font-size=\"12\" lengthAdjust=\"spacingAndGlyphs\" textLength=\"21\" x=\"171.97\" y=\"138.1074\">z: B</text><line style=\"stroke: #A80036; stroke-width: 1.5;\" x1=\"138.47\" x2=\"204.47\" y1=\"145.9375\" y2=\"145.9375\"/></a><!--MD5=[09b614a08d8cba4a07c9adeb5e0fee81]\n",
       "class E3--><a href=\"psysml:1f011377-ef65-4253-92ff-be4f522feeb1\" target=\"_top\" title=\"psysml:1f011377-ef65-4253-92ff-be4f522feeb1\" xlink:actuate=\"onRequest\" xlink:href=\"psysml:1f011377-ef65-4253-92ff-be4f522feeb1\" xlink:show=\"new\" xlink:title=\"psysml:1f011377-ef65-4253-92ff-be4f522feeb1\" xlink:type=\"simple\"><rect fill=\"#FEFECE\" filter=\"url(#f1o7674mtc93lu)\" height=\"40\" id=\"E3\" style=\"stroke: #A80036; stroke-width: 1.5;\" width=\"40\" x=\"259.47\" y=\"458\"/><ellipse cx=\"274.47\" cy=\"474\" fill=\"#008000\" rx=\"11\" ry=\"11\" style=\"stroke: #A80036; stroke-width: 1.0;\"/><path d=\"M271.345,479 L271.345,468.4063 L274.5794,468.4063 Q276.4856,468.4063 277.3919,469.1563 Q278.3138,469.9063 278.3138,471.0781 Q278.3138,471.7656 277.9231,472.4219 Q277.5481,473.0781 276.8294,473.375 Q277.6888,473.75 278.2044,474.4375 Q278.72,475.125 278.72,475.9375 Q278.72,477.3125 277.6888,478.1563 Q276.6731,479 274.5638,479 L271.345,479 Z M273.2669,472.6406 L274.4231,472.6406 Q275.5481,472.6406 275.9544,472.2656 Q276.3763,471.875 276.3763,471.25 Q276.3763,470.6719 275.9544,470.3125 Q275.5325,469.9531 274.595,469.9531 L273.2669,469.9531 L273.2669,472.6406 Z M273.2669,477.4219 L274.7669,477.4219 Q275.6731,477.4219 276.2044,477.0313 Q276.7356,476.6406 276.7356,475.8906 Q276.7356,475.125 276.2356,474.6563 Q275.7356,474.1719 274.47,474.1719 L273.2669,474.1719 L273.2669,477.4219 Z \"/><text fill=\"#000000\" font-family=\"sans-serif\" font-size=\"12\" lengthAdjust=\"spacingAndGlyphs\" textLength=\"8\" x=\"288.47\" y=\"478.1543\">A</text><line style=\"stroke: #A80036; stroke-width: 1.5;\" x1=\"260.47\" x2=\"298.47\" y1=\"490\" y2=\"490\"/></a><a href=\"psysml:7d907640-2982-4506-b0ab-4e4fe8a9afec\" target=\"_top\" title=\"psysml:7d907640-2982-4506-b0ab-4e4fe8a9afec\" xlink:actuate=\"onRequest\" xlink:href=\"psysml:7d907640-2982-4506-b0ab-4e4fe8a9afec\" xlink:show=\"new\" xlink:title=\"psysml:7d907640-2982-4506-b0ab-4e4fe8a9afec\" xlink:type=\"simple\"><polygon fill=\"#FFFFFF\" filter=\"url(#f1o7674mtc93lu)\" points=\"205.47,279.5,229.47,279.5,236.47,301.7969,243.47,301.7969,243.47,332.0938,205.47,332.0938,205.47,279.5\" style=\"stroke: #000000; stroke-width: 1.5;\"/><line style=\"stroke: #000000; stroke-width: 1.5;\" x1=\"205.47\" x2=\"236.47\" y1=\"301.7969\" y2=\"301.7969\"/><text fill=\"#000000\" font-family=\"sans-serif\" font-size=\"14\" font-weight=\"bold\" lengthAdjust=\"spacingAndGlyphs\" textLength=\"18\" x=\"209.47\" y=\"294.4951\">P2</text></a><!--MD5=[2156ba9850f5573cc1fc38a6a4b2f02b]\n",
       "class E7--><a href=\"psysml:bdb8801b-74e6-41c7-b5f1-114cae898237\" target=\"_top\" title=\"psysml:bdb8801b-74e6-41c7-b5f1-114cae898237\" xlink:actuate=\"onRequest\" xlink:href=\"psysml:bdb8801b-74e6-41c7-b5f1-114cae898237\" xlink:show=\"new\" xlink:title=\"psysml:bdb8801b-74e6-41c7-b5f1-114cae898237\" xlink:type=\"simple\"><rect fill=\"#FEFECE\" filter=\"url(#f1o7674mtc93lu)\" height=\"40\" id=\"E7\" style=\"stroke: #A80036; stroke-width: 1.5;\" width=\"40\" x=\"117.47\" y=\"286\"/><ellipse cx=\"132.47\" cy=\"302\" fill=\"#008000\" rx=\"11\" ry=\"11\" style=\"stroke: #A80036; stroke-width: 1.0;\"/><path d=\"M129.345,307 L129.345,296.4063 L132.5794,296.4063 Q134.4856,296.4063 135.3919,297.1563 Q136.3138,297.9063 136.3138,299.0781 Q136.3138,299.7656 135.9231,300.4219 Q135.5481,301.0781 134.8294,301.375 Q135.6888,301.75 136.2044,302.4375 Q136.72,303.125 136.72,303.9375 Q136.72,305.3125 135.6888,306.1563 Q134.6731,307 132.5638,307 L129.345,307 Z M131.2669,300.6406 L132.4231,300.6406 Q133.5481,300.6406 133.9544,300.2656 Q134.3763,299.875 134.3763,299.25 Q134.3763,298.6719 133.9544,298.3125 Q133.5325,297.9531 132.595,297.9531 L131.2669,297.9531 L131.2669,300.6406 Z M131.2669,305.4219 L132.7669,305.4219 Q133.6731,305.4219 134.2044,305.0313 Q134.7356,304.6406 134.7356,303.8906 Q134.7356,303.125 134.2356,302.6563 Q133.7356,302.1719 132.47,302.1719 L131.2669,302.1719 L131.2669,305.4219 Z \"/><text fill=\"#000000\" font-family=\"sans-serif\" font-size=\"12\" lengthAdjust=\"spacingAndGlyphs\" textLength=\"8\" x=\"146.47\" y=\"306.1543\">B</text><line style=\"stroke: #A80036; stroke-width: 1.5;\" x1=\"118.47\" x2=\"156.47\" y1=\"318\" y2=\"318\"/></a><!--MD5=[96f4274e9e20536e775497830990834d]\n",
       "class E10--><a href=\"psysml:aa943bbf-59d6-4c08-9403-21388691ca57\" target=\"_top\" title=\"psysml:aa943bbf-59d6-4c08-9403-21388691ca57\" xlink:actuate=\"onRequest\" xlink:href=\"psysml:aa943bbf-59d6-4c08-9403-21388691ca57\" xlink:show=\"new\" xlink:title=\"psysml:aa943bbf-59d6-4c08-9403-21388691ca57\" xlink:type=\"simple\"><rect fill=\"#FEFECE\" filter=\"url(#f1o7674mtc93lu)\" height=\"45.9375\" id=\"E10\" rx=\"10\" ry=\"10\" style=\"stroke: #A80036; stroke-width: 1.5;\" width=\"68\" x=\"275.47\" y=\"108\"/><ellipse cx=\"290.47\" cy=\"126.9688\" fill=\"#32CD32\" rx=\"11\" ry=\"11\" style=\"stroke: #A80036; stroke-width: 1.0;\"/><path d=\"M287.2825,131.9688 L287.2825,121.375 L290.8919,121.375 Q292.1106,121.375 292.9075,121.8125 Q293.7044,122.2344 294.0794,122.9375 Q294.47,123.6406 294.47,124.4844 Q294.47,125.3281 294.095,126.0156 Q293.7356,126.7031 292.9388,127.125 Q292.1575,127.5313 290.97,127.5313 L289.2356,127.5313 L289.2356,131.9688 L287.2825,131.9688 Z M289.2356,125.9375 L290.845,125.9375 Q291.6575,125.9375 292.0794,125.5313 Q292.5013,125.125 292.5013,124.4844 Q292.5013,123.8594 292.0794,123.4531 Q291.6575,123.0469 290.8606,123.0469 L289.2356,123.0469 L289.2356,125.9375 Z \"/><text fill=\"#000000\" font-family=\"sans-serif\" font-size=\"12\" font-style=\"italic\" lengthAdjust=\"spacingAndGlyphs\" textLength=\"40\" x=\"302.47\" y=\"124.1387\">«part»</text><text fill=\"#000000\" font-family=\"sans-serif\" font-size=\"12\" lengthAdjust=\"spacingAndGlyphs\" textLength=\"29\" x=\"305.97\" y=\"138.1074\">z1: A</text><line style=\"stroke: #A80036; stroke-width: 1.5;\" x1=\"276.47\" x2=\"342.47\" y1=\"145.9375\" y2=\"145.9375\"/></a><!--MD5=[185131fc0dcab0a4505a2ebe144e961b]\n",
       "link E4 to E2--><a href=\"psysml:113e6c15-2e9f-43c2-9a8b-f1023998ecb3\" target=\"_top\" title=\"psysml:113e6c15-2e9f-43c2-9a8b-f1023998ecb3\" xlink:actuate=\"onRequest\" xlink:href=\"psysml:113e6c15-2e9f-43c2-9a8b-f1023998ecb3\" xlink:show=\"new\" xlink:title=\"psysml:113e6c15-2e9f-43c2-9a8b-f1023998ecb3\" xlink:type=\"simple\"><path d=\"M214.42,332.66 C210.12,344.96 205.61,360.02 203.47,374 C200.045,396.37 204.865,421.235 210.7463,440.93 C212.2166,445.8538 213.7532,450.4544 215.2439,454.6121 C215.6166,455.6515 215.9864,456.6633 216.3516,457.6455 \" fill=\"none\" id=\"E4-&gt;E2\" style=\"stroke: #A80036; stroke-width: 1.0; stroke-dasharray: 7.0,7.0;\"/><polygon fill=\"#A80036\" points=\"216.3516,457.6455,216.9644,447.8157,214.6091,452.9589,209.4659,450.6037,216.3516,457.6455\" style=\"stroke: #A80036; stroke-width: 1.0;\"/><text fill=\"#000000\" font-family=\"sans-serif\" font-size=\"13\" lengthAdjust=\"spacingAndGlyphs\" textLength=\"65\" x=\"204.47\" y=\"387.0669\">«import»*</text></a><!--MD5=[e9be52314489bd878ff4c7144b63c9e1]\n",
       "link E5 to E3--><a href=\"psysml:2e030f48-ed8d-4fbc-a256-8117ac7131ec\" target=\"_top\" title=\"psysml:2e030f48-ed8d-4fbc-a256-8117ac7131ec\" xlink:actuate=\"onRequest\" xlink:href=\"psysml:2e030f48-ed8d-4fbc-a256-8117ac7131ec\" xlink:show=\"new\" xlink:title=\"psysml:2e030f48-ed8d-4fbc-a256-8117ac7131ec\" xlink:type=\"simple\"><path d=\"M340.32,329.22 C328.84,357.1 308.98,405.33 295.08,439.08 \" fill=\"none\" id=\"E5-&gt;E3\" style=\"stroke: #A80036; stroke-width: 1.0;\"/><polygon fill=\"#FFFFFF\" points=\"287.33,457.92,288.0884,437.6857,301.0347,443.0142,287.33,457.92\" style=\"stroke: #A80036; stroke-width: 1.0;\"/><ellipse cx=\"292.1073\" cy=\"433.176\" fill=\"#A80036\" rx=\"2\" ry=\"2\" style=\"stroke: #A80036; stroke-width: 1.0;\"/><ellipse cx=\"301.3547\" cy=\"436.982\" fill=\"#A80036\" rx=\"2\" ry=\"2\" style=\"stroke: #A80036; stroke-width: 1.0;\"/></a><!--MD5=[ee384bb554873b72f85793eae40e290c]\n",
       "link E1 to E4--><a href=\"psysml:a039409c-dc44-4261-a761-133767375f35\" target=\"_top\" title=\"psysml:a039409c-dc44-4261-a761-133767375f35\" xlink:actuate=\"onRequest\" xlink:href=\"psysml:a039409c-dc44-4261-a761-133767375f35\" xlink:show=\"new\" xlink:title=\"psysml:a039409c-dc44-4261-a761-133767375f35\" xlink:type=\"simple\"><path d=\"M34.44,132.12 C33.8,134.6 23.9,174.52 42.47,194 C56.49,208.7 67.69,197.38 87.47,202 C126.23,211.05 141.48,203.31 173.47,227 C189.99,239.23 202.68,258.54 211.26,274.88 \" fill=\"none\" id=\"E1-&gt;E4\" style=\"stroke: #A80036; stroke-width: 1.0; stroke-dasharray: 7.0,7.0;\"/><polygon fill=\"#A80036\" points=\"213.58,279.4,213.0324,269.5664,211.2984,274.9509,205.9139,273.2169,213.58,279.4\" style=\"stroke: #A80036; stroke-width: 1.0;\"/><text fill=\"#000000\" font-family=\"sans-serif\" font-size=\"13\" lengthAdjust=\"spacingAndGlyphs\" textLength=\"65\" x=\"161.47\" y=\"215.0669\">«import»*</text></a><!--MD5=[ccbd3af71bf83df0ec2a2db62d6d7130]\n",
       "link E1 to E6--><a href=\"psysml:8872cc02-851e-450c-b3e8-f90f2e3db770\" target=\"_top\" title=\"psysml:8872cc02-851e-450c-b3e8-f90f2e3db770\" xlink:actuate=\"onRequest\" xlink:href=\"psysml:8872cc02-851e-450c-b3e8-f90f2e3db770\" xlink:show=\"new\" xlink:title=\"psysml:8872cc02-851e-450c-b3e8-f90f2e3db770\" xlink:type=\"simple\"><path d=\"M26.4129,145.0882 C26.2009,145.471 25.9871,145.8607 25.7715,146.257 C24.9093,147.8422 24.0204,149.5335 23.1235,151.3174 C21.3297,154.8852 19.5037,158.8231 17.795,163.0225 C10.96,179.82 6,200.8 12.47,219 C20.465,241.49 37.1375,262.37 52.2063,277.9238 C59.7406,285.7006 66.8741,292.1459 72.3214,296.7952 C73.0023,297.3763 73.6569,297.9294 74.2826,298.4535 \" fill=\"none\" id=\"E1-&gt;E6\" style=\"stroke: #A80036; stroke-width: 1.0; stroke-dasharray: 7.0,7.0;\"/><polygon fill=\"#A80036\" points=\"74.2826,298.4535,69.9517,289.608,70.4496,295.2429,64.8147,295.7408,74.2826,298.4535\" style=\"stroke: #A80036; stroke-width: 1.0;\"/><text fill=\"#000000\" font-family=\"sans-serif\" font-size=\"13\" lengthAdjust=\"spacingAndGlyphs\" textLength=\"65\" x=\"13.47\" y=\"215.0669\">«import»*</text></a><!--MD5=[bfa3c8b0d15052fdf50ae9310b491027]\n",
       "link E8 to E7--><a href=\"psysml:0934d2d2-1a49-4ac4-b6c0-cd8fa5ea19dd\" target=\"_top\" title=\"psysml:0934d2d2-1a49-4ac4-b6c0-cd8fa5ea19dd\" xlink:actuate=\"onRequest\" xlink:href=\"psysml:0934d2d2-1a49-4ac4-b6c0-cd8fa5ea19dd\" xlink:show=\"new\" xlink:title=\"psysml:0934d2d2-1a49-4ac4-b6c0-cd8fa5ea19dd\" xlink:type=\"simple\"><path d=\"M186.26,154.18 C195.87,167.21 209.39,183.19 224.47,194 C232.25,199.58 239.1,194.07 244.47,202 C248.71,208.26 249.55,213.41 244.47,219 C232.01,232.72 175.83,215.29 161.47,227 C149.88,236.45 143.77,251.37 140.59,265.63 \" fill=\"none\" id=\"E8-&gt;E7\" style=\"stroke: #A80036; stroke-width: 1.0;\"/><polygon fill=\"#FFFFFF\" points=\"137.7,285.68,133.4714,265.878,147.3292,267.8677,137.7,285.68\" style=\"stroke: #A80036; stroke-width: 1.0;\"/><ellipse cx=\"136.2611\" cy=\"260.5201\" fill=\"#A80036\" rx=\"2\" ry=\"2\" style=\"stroke: #A80036; stroke-width: 1.0;\"/><ellipse cx=\"146.1596\" cy=\"261.9413\" fill=\"#A80036\" rx=\"2\" ry=\"2\" style=\"stroke: #A80036; stroke-width: 1.0;\"/></a><!--MD5=[c2be97adba6ddfe1c8f349fab141c927]\n",
       "link E9 to E4--><a href=\"psysml:f0473cf2-6b9f-40e7-98be-e0cb9d304d8b\" target=\"_top\" title=\"psysml:f0473cf2-6b9f-40e7-98be-e0cb9d304d8b\" xlink:actuate=\"onRequest\" xlink:href=\"psysml:f0473cf2-6b9f-40e7-98be-e0cb9d304d8b\" xlink:show=\"new\" xlink:title=\"psysml:f0473cf2-6b9f-40e7-98be-e0cb9d304d8b\" xlink:type=\"simple\"><path d=\"M248.7703,178.2043 C248.7876,178.326 248.8048,178.4478 248.822,178.5697 C249.9231,186.3681 250.875,194.395 251.47,202 C252.06,209.53 252.61,211.53 251.47,219 C248.59,237.78 242.37,258.1 236.62,274.27 \" fill=\"none\" id=\"E9-&gt;E4\" style=\"stroke: #A80036; stroke-width: 1.0; stroke-dasharray: 7.0,7.0;\"/><polygon fill=\"#A80036\" points=\"234.86,279.14,241.6827,272.0372,236.5607,274.4381,234.1597,269.3161,234.86,279.14\" style=\"stroke: #A80036; stroke-width: 1.0;\"/><text fill=\"#000000\" font-family=\"sans-serif\" font-size=\"13\" lengthAdjust=\"spacingAndGlyphs\" textLength=\"65\" x=\"252.47\" y=\"215.0669\">«import»*</text></a><!--MD5=[feeac5eb423634930294aa81f2d25a4c]\n",
       "link E10 to E3--><a href=\"psysml:6083fff7-7e2a-4a1f-b6e0-00602bace9f4\" target=\"_top\" title=\"psysml:6083fff7-7e2a-4a1f-b6e0-00602bace9f4\" xlink:actuate=\"onRequest\" xlink:href=\"psysml:6083fff7-7e2a-4a1f-b6e0-00602bace9f4\" xlink:show=\"new\" xlink:title=\"psysml:6083fff7-7e2a-4a1f-b6e0-00602bace9f4\" xlink:type=\"simple\"><path d=\"M336.26,154.07 C355.77,172.75 375.96,199.52 358.47,219 C347.42,231.31 295.64,214.8 284.47,227 C270.64,242.1 274.48,370.79 277.46,437.39 \" fill=\"none\" id=\"E10-&gt;E3\" style=\"stroke: #A80036; stroke-width: 1.0;\"/><polygon fill=\"#FFFFFF\" points=\"278.43,457.71,270.5291,439.0666,284.5131,438.3969,278.43,457.71\" style=\"stroke: #A80036; stroke-width: 1.0;\"/><ellipse cx=\"272.2542\" cy=\"433.2775\" fill=\"#A80036\" rx=\"2\" ry=\"2\" style=\"stroke: #A80036; stroke-width: 1.0;\"/><ellipse cx=\"282.2427\" cy=\"432.7991\" fill=\"#A80036\" rx=\"2\" ry=\"2\" style=\"stroke: #A80036; stroke-width: 1.0;\"/></a><!--MD5=[d82562ba81e7a03bd21de122b37071d0]\n",
       "@startuml\r\n",
       " \r\n",
       "package \"PrivateImportTest\" as E1  [[psysml:56a08668-af7c-402b-8ea6-0ffeccd2e906 ]]  {\r\n",
       "package \"P1\" as E2  [[psysml:989134c5-5272-479d-a43e-5e5573119e0c ]]  {\r\n",
       "comp def \"A\" as E3 << << (B,green) >> [[psysml:1f011377-ef65-4253-92ff-be4f522feeb1 ]] {\r\n",
       "}\r\n",
       "}\r\n",
       "package \"P2\" as E4  [[psysml:7d907640-2982-4506-b0ab-4e4fe8a9afec ]]  {\r\n",
       "}\r\n",
       "comp usage \"x: A \" as E5 << << (P,limegreen) part>> [[psysml:4755439e-6dab-436e-bf4a-d220bd8663ba ]] {\r\n",
       "}\r\n",
       "package \"P3\" as E6  [[psysml:90563c83-8b6e-4371-ac3b-36c1983fe7e9 ]]  {\r\n",
       "comp def \"B\" as E7 << << (B,green) >> [[psysml:bdb8801b-74e6-41c7-b5f1-114cae898237 ]] {\r\n",
       "}\r\n",
       "}\r\n",
       "comp usage \"z: B \" as E8 << << (P,limegreen) part>> [[psysml:dfc306bc-28cd-4074-8d12-696a322e5955 ]] {\r\n",
       "}\r\n",
       "package \"P4\" as E9  [[psysml:2733cc0d-ab4e-4acc-aaf2-0d4d1c16697a ]]  {\r\n",
       "comp usage \"z1: A \" as E10 << << (P,limegreen) part>> [[psysml:aa943bbf-59d6-4c08-9403-21388691ca57 ]] {\r\n",
       "}\r\n",
       "}\r\n",
       "}\r\n",
       "E4 ..> E2 [[psysml:113e6c15-2e9f-43c2-9a8b-f1023998ecb3 ]] : <<import>>*\r\n",
       "E5 - -:|> E3 [[psysml:2e030f48-ed8d-4fbc-a256-8117ac7131ec ]] \r\n",
       "E1 ..> E4 [[psysml:a039409c-dc44-4261-a761-133767375f35 ]] : <<import>>*\r\n",
       "E1 ..> E6 [[psysml:8872cc02-851e-450c-b3e8-f90f2e3db770 ]] : <<import>>*\r\n",
       "E8 - -:|> E7 [[psysml:0934d2d2-1a49-4ac4-b6c0-cd8fa5ea19dd ]] \r\n",
       "E9 ..> E4 [[psysml:f0473cf2-6b9f-40e7-98be-e0cb9d304d8b ]] : <<import>>*\r\n",
       "E10 - -:|> E3 [[psysml:6083fff7-7e2a-4a1f-b6e0-00602bace9f4 ]] \r\n",
       "@enduml\r\n",
       "\n",
       "PlantUML version 1.2020.13(Sat Jun 13 12:26:38 UTC 2020)\n",
       "(EPL source distribution)\n",
       "Java Runtime: OpenJDK Runtime Environment\n",
       "JVM: OpenJDK 64-Bit Server VM\n",
       "Default Encoding: UTF-8\n",
       "Language: en\n",
       "Country: null\n",
       "--></g></svg>"
      ]
     },
     "execution_count": 31,
     "metadata": {},
     "output_type": "execute_result"
    }
   ],
   "source": [
    "%viz --style=\"PLANTUML\" --view=\"Tree\" \"PrivateImportTest\""
   ]
  },
  {
   "cell_type": "code",
   "execution_count": 32,
   "id": "1b8d35e6",
   "metadata": {
    "execution": {
     "iopub.execute_input": "2022-02-18T10:48:47.229555Z",
     "iopub.status.busy": "2022-02-18T10:48:47.229140Z",
     "iopub.status.idle": "2022-02-18T10:48:47.345662Z",
     "shell.execute_reply": "2022-02-18T10:48:47.344382Z"
    }
   },
   "outputs": [
    {
     "data": {
      "image/svg+xml": [
       "<?xml version=\"1.0\" encoding=\"UTF-8\" standalone=\"no\"?><svg xmlns=\"http://www.w3.org/2000/svg\" xmlns:xlink=\"http://www.w3.org/1999/xlink\" contentScriptType=\"application/ecmascript\" contentStyleType=\"text/css\" height=\"365px\" preserveAspectRatio=\"none\" style=\"width:603px;height:365px;background:#000000;\" version=\"1.1\" viewBox=\"0 0 603 365\" width=\"603px\" zoomAndPan=\"magnify\"><defs/><g><rect fill=\"#1E0008\" height=\"1\" style=\"stroke: #1E0008; stroke-width: 1.0;\" width=\"1\" x=\"0\" y=\"0\"/><rect fill=\"#EAE2C9\" height=\"65.1875\" style=\"stroke: #EAE2C9; stroke-width: 1.0;\" width=\"602\" x=\"0\" y=\"0\"/><text fill=\"#000000\" font-family=\"sans-serif\" font-size=\"14\" font-weight=\"bold\" lengthAdjust=\"spacingAndGlyphs\" textLength=\"267\" x=\"10\" y=\"12.9951\">Add your own dedication into PlantUML</text><text fill=\"#000000\" font-family=\"sans-serif\" font-size=\"14\" lengthAdjust=\"spacingAndGlyphs\" textLength=\"0\" x=\"14\" y=\"29.292\"/><text fill=\"#000000\" font-family=\"sans-serif\" font-size=\"14\" lengthAdjust=\"spacingAndGlyphs\" textLength=\"154\" x=\"10\" y=\"45.5889\">For just $5 per month!</text><text fill=\"#000000\" font-family=\"sans-serif\" font-size=\"14\" lengthAdjust=\"spacingAndGlyphs\" textLength=\"69\" x=\"10\" y=\"61.8857\">Details on</text><a href=\"http://plantuml.com/dedication\" target=\"_top\" title=\"http://plantuml.com/dedication\" xlink:actuate=\"onRequest\" xlink:href=\"http://plantuml.com/dedication\" xlink:show=\"new\" xlink:title=\"http://plantuml.com/dedication\" xlink:type=\"simple\"><text fill=\"#000000\" font-family=\"sans-serif\" font-size=\"14\" font-style=\"italic\" lengthAdjust=\"spacingAndGlyphs\" textLength=\"213\" x=\"83\" y=\"61.8857\">http://plantuml.com/dedication</text></a><rect fill=\"#FFFFFF\" height=\"202.8012\" style=\"stroke: #FFFFFF; stroke-width: 1.0;\" width=\"602\" x=\"0\" y=\"65.1875\"/><text fill=\"#000000\" font-family=\"sans-serif\" font-size=\"12\" font-weight=\"bold\" lengthAdjust=\"spacingAndGlyphs\" textLength=\"139\" x=\"5\" y=\"81.3262\">Welcome to PlantUML!</text><text fill=\"#000000\" font-family=\"sans-serif\" font-size=\"12\" lengthAdjust=\"spacingAndGlyphs\" textLength=\"0\" x=\"9\" y=\"95.2949\"/><text fill=\"#000000\" font-family=\"sans-serif\" font-size=\"12\" lengthAdjust=\"spacingAndGlyphs\" textLength=\"293\" x=\"5\" y=\"109.2637\">If you use this software, you accept its license.</text><text fill=\"#000000\" font-family=\"sans-serif\" font-size=\"12\" lengthAdjust=\"spacingAndGlyphs\" textLength=\"107\" x=\"5\" y=\"123.2324\">(details by typing</text><text fill=\"#000000\" font-family=\"monospace\" font-size=\"12\" lengthAdjust=\"spacingAndGlyphs\" textLength=\"42\" x=\"116\" y=\"123.7825\">license</text><text fill=\"#000000\" font-family=\"sans-serif\" font-size=\"12\" lengthAdjust=\"spacingAndGlyphs\" textLength=\"56\" x=\"162\" y=\"123.2324\">keyword)</text><text fill=\"#000000\" font-family=\"sans-serif\" font-size=\"12\" lengthAdjust=\"spacingAndGlyphs\" textLength=\"0\" x=\"9\" y=\"137.2012\"/><text fill=\"#000000\" font-family=\"sans-serif\" font-size=\"12\" lengthAdjust=\"spacingAndGlyphs\" textLength=\"283\" x=\"5\" y=\"151.1699\">You can start with a simple UML Diagram like:</text><text fill=\"#000000\" font-family=\"sans-serif\" font-size=\"12\" lengthAdjust=\"spacingAndGlyphs\" textLength=\"0\" x=\"9\" y=\"165.1387\"/><text fill=\"#000000\" font-family=\"monospace\" font-size=\"12\" lengthAdjust=\"spacingAndGlyphs\" textLength=\"102\" x=\"5\" y=\"178.2768\">Bob-&gt;Alice: Hello</text><text fill=\"#000000\" font-family=\"sans-serif\" font-size=\"12\" lengthAdjust=\"spacingAndGlyphs\" textLength=\"0\" x=\"9\" y=\"191.6955\"/><text fill=\"#000000\" font-family=\"sans-serif\" font-size=\"12\" lengthAdjust=\"spacingAndGlyphs\" textLength=\"14\" x=\"5\" y=\"205.6643\">Or</text><text fill=\"#000000\" font-family=\"sans-serif\" font-size=\"12\" lengthAdjust=\"spacingAndGlyphs\" textLength=\"0\" x=\"9\" y=\"219.633\"/><text fill=\"#000000\" font-family=\"monospace\" font-size=\"12\" lengthAdjust=\"spacingAndGlyphs\" textLength=\"78\" x=\"5\" y=\"232.7712\">class Example</text><text fill=\"#000000\" font-family=\"sans-serif\" font-size=\"12\" lengthAdjust=\"spacingAndGlyphs\" textLength=\"0\" x=\"9\" y=\"246.1898\"/><text fill=\"#000000\" font-family=\"sans-serif\" font-size=\"12\" lengthAdjust=\"spacingAndGlyphs\" textLength=\"349\" x=\"5\" y=\"260.1586\">You will find more information about PlantUML syntax on</text><text fill=\"#000000\" font-family=\"sans-serif\" font-size=\"12\" lengthAdjust=\"spacingAndGlyphs\" text-decoration=\"underline\" textLength=\"129\" x=\"358\" y=\"260.1586\">https://plantuml.com</text><image height=\"71\" width=\"80\" x=\"516\" xlink:href=\"data:image/png;base64,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\" y=\"71.1875\"/><rect fill=\"#000000\" height=\"96.4844\" style=\"stroke: #000000; stroke-width: 1.0;\" width=\"602\" x=\"0\" y=\"267.9887\"/><rect fill=\"#33FF02\" height=\"21.2969\" style=\"stroke: #33FF02; stroke-width: 1.0;\" width=\"145\" x=\"5\" y=\"272.9887\"/><text fill=\"#000000\" font-family=\"sans-serif\" font-size=\"14\" font-weight=\"bold\" lengthAdjust=\"spacingAndGlyphs\" textLength=\"143\" x=\"6\" y=\"287.9887\">[From string (line 2) ]</text><text fill=\"#33FF02\" font-family=\"sans-serif\" font-size=\"14\" font-weight=\"bold\" lengthAdjust=\"spacingAndGlyphs\" textLength=\"0\" x=\"9\" y=\"308.2856\"/><text fill=\"#33FF02\" font-family=\"sans-serif\" font-size=\"14\" font-weight=\"bold\" lengthAdjust=\"spacingAndGlyphs\" textLength=\"70\" x=\"5\" y=\"324.5824\">@startuml</text><text fill=\"#33FF02\" font-family=\"sans-serif\" font-size=\"14\" font-weight=\"bold\" lengthAdjust=\"spacingAndGlyphs\" textLength=\"0\" x=\"9\" y=\"340.8793\"/><text fill=\"#FF0000\" font-family=\"sans-serif\" font-size=\"14\" font-weight=\"bold\" lengthAdjust=\"spacingAndGlyphs\" textLength=\"124\" x=\"9\" y=\"357.1762\">Empty description</text><!--MD5=[f59edd8218d337f74d0c332fc6737304]\n",
       "@startuml\r\n",
       " \r\n",
       "@enduml\r\n",
       "\n",
       "PlantUML version 1.2020.13(Sat Jun 13 12:26:38 UTC 2020)\n",
       "(EPL source distribution)\n",
       "Java Runtime: OpenJDK Runtime Environment\n",
       "JVM: OpenJDK 64-Bit Server VM\n",
       "Default Encoding: UTF-8\n",
       "Language: en\n",
       "Country: null\n",
       "--></g></svg>"
      ]
     },
     "execution_count": 32,
     "metadata": {},
     "output_type": "execute_result"
    }
   ],
   "source": [
    "%viz --style=\"PLANTUML\" --view=\"State\" \"PrivateImportTest\""
   ]
  },
  {
   "cell_type": "code",
   "execution_count": 33,
   "id": "19527d0c",
   "metadata": {
    "execution": {
     "iopub.execute_input": "2022-02-18T10:48:47.395140Z",
     "iopub.status.busy": "2022-02-18T10:48:47.394733Z",
     "iopub.status.idle": "2022-02-18T10:48:47.421549Z",
     "shell.execute_reply": "2022-02-18T10:48:47.420081Z"
    }
   },
   "outputs": [
    {
     "data": {
      "image/svg+xml": [
       "<?xml version=\"1.0\" encoding=\"UTF-8\" standalone=\"no\"?><svg xmlns=\"http://www.w3.org/2000/svg\" xmlns:xlink=\"http://www.w3.org/1999/xlink\" contentScriptType=\"application/ecmascript\" contentStyleType=\"text/css\" height=\"515px\" preserveAspectRatio=\"none\" style=\"width:693px;height:515px;\" version=\"1.1\" viewBox=\"0 0 693 515\" width=\"693px\" zoomAndPan=\"magnify\"><defs><filter height=\"300%\" id=\"f1f4n7umxv4p9u\" width=\"300%\" x=\"-1\" y=\"-1\"><feGaussianBlur result=\"blurOut\" stdDeviation=\"2.0\"/><feColorMatrix in=\"blurOut\" result=\"blurOut2\" type=\"matrix\" values=\"0 0 0 0 0 0 0 0 0 0 0 0 0 0 0 0 0 0 .4 0\"/><feOffset dx=\"4.0\" dy=\"4.0\" in=\"blurOut2\" result=\"blurOut3\"/><feBlend in=\"SourceGraphic\" in2=\"blurOut3\" mode=\"normal\"/></filter></defs><g><!--MD5=[fbc87193dbaf4d95561dea2c320d4a47]\n",
       "cluster E1--><a href=\"psysml:56a08668-af7c-402b-8ea6-0ffeccd2e906\" target=\"_top\" title=\"psysml:56a08668-af7c-402b-8ea6-0ffeccd2e906\" xlink:actuate=\"onRequest\" xlink:href=\"psysml:56a08668-af7c-402b-8ea6-0ffeccd2e906\" xlink:show=\"new\" xlink:title=\"psysml:56a08668-af7c-402b-8ea6-0ffeccd2e906\" xlink:type=\"simple\"><polygon fill=\"#FFFFFF\" filter=\"url(#f1f4n7umxv4p9u)\" points=\"16,6,143,6,150,28.2969,671,28.2969,671,503.72,16,503.72,16,6\" style=\"stroke: #000000; stroke-width: 1.5;\"/><line style=\"stroke: #000000; stroke-width: 1.5;\" x1=\"16\" x2=\"150\" y1=\"28.2969\" y2=\"28.2969\"/><text fill=\"#000000\" font-family=\"sans-serif\" font-size=\"14\" font-weight=\"bold\" lengthAdjust=\"spacingAndGlyphs\" textLength=\"121\" x=\"20\" y=\"20.9951\">PrivateImportTest</text></a><!--MD5=[e4f7fae6ed58524ba242bb0b0d3be6b7]\n",
       "cluster E2--><a href=\"psysml:989134c5-5272-479d-a43e-5e5573119e0c\" target=\"_top\" title=\"psysml:989134c5-5272-479d-a43e-5e5573119e0c\" xlink:actuate=\"onRequest\" xlink:href=\"psysml:989134c5-5272-479d-a43e-5e5573119e0c\" xlink:show=\"new\" xlink:title=\"psysml:989134c5-5272-479d-a43e-5e5573119e0c\" xlink:type=\"simple\"><polygon fill=\"#FFFFFF\" filter=\"url(#f1f4n7umxv4p9u)\" points=\"226,356.72,250,356.72,257,379.0169,343,379.0169,343,463.72,226,463.72,226,356.72\" style=\"stroke: #000000; stroke-width: 1.5;\"/><line style=\"stroke: #000000; stroke-width: 1.5;\" x1=\"226\" x2=\"257\" y1=\"379.0169\" y2=\"379.0169\"/><text fill=\"#000000\" font-family=\"sans-serif\" font-size=\"14\" font-weight=\"bold\" lengthAdjust=\"spacingAndGlyphs\" textLength=\"18\" x=\"230\" y=\"371.7151\">P1</text></a><!--MD5=[14e3b0961a2654348d326746436168a1]\n",
       "cluster E6--><a href=\"psysml:90563c83-8b6e-4371-ac3b-36c1983fe7e9\" target=\"_top\" title=\"psysml:90563c83-8b6e-4371-ac3b-36c1983fe7e9\" xlink:actuate=\"onRequest\" xlink:href=\"psysml:90563c83-8b6e-4371-ac3b-36c1983fe7e9\" xlink:show=\"new\" xlink:title=\"psysml:90563c83-8b6e-4371-ac3b-36c1983fe7e9\" xlink:type=\"simple\"><polygon fill=\"#FFFFFF\" filter=\"url(#f1f4n7umxv4p9u)\" points=\"514,98.72,538,98.72,545,121.0169,631,121.0169,631,205.72,514,205.72,514,98.72\" style=\"stroke: #000000; stroke-width: 1.5;\"/><line style=\"stroke: #000000; stroke-width: 1.5;\" x1=\"514\" x2=\"545\" y1=\"121.0169\" y2=\"121.0169\"/><text fill=\"#000000\" font-family=\"sans-serif\" font-size=\"14\" font-weight=\"bold\" lengthAdjust=\"spacingAndGlyphs\" textLength=\"18\" x=\"518\" y=\"113.7151\">P3</text></a><!--MD5=[7f149f147074ac12df2cb0a7728a5fb0]\n",
       "cluster E9--><a href=\"psysml:2733cc0d-ab4e-4acc-aaf2-0d4d1c16697a\" target=\"_top\" title=\"psysml:2733cc0d-ab4e-4acc-aaf2-0d4d1c16697a\" xlink:actuate=\"onRequest\" xlink:href=\"psysml:2733cc0d-ab4e-4acc-aaf2-0d4d1c16697a\" xlink:show=\"new\" xlink:title=\"psysml:2733cc0d-ab4e-4acc-aaf2-0d4d1c16697a\" xlink:type=\"simple\"><polygon fill=\"#FFFFFF\" filter=\"url(#f1f4n7umxv4p9u)\" points=\"341,98.72,365,98.72,372,121.0169,474,121.0169,474,205.72,341,205.72,341,98.72\" style=\"stroke: #000000; stroke-width: 1.5;\"/><line style=\"stroke: #000000; stroke-width: 1.5;\" x1=\"341\" x2=\"372\" y1=\"121.0169\" y2=\"121.0169\"/><text fill=\"#000000\" font-family=\"sans-serif\" font-size=\"14\" font-weight=\"bold\" lengthAdjust=\"spacingAndGlyphs\" textLength=\"18\" x=\"345\" y=\"113.7151\">P4</text></a><g id=\"E1.E2.E3\"><a href=\"psysml:1f011377-ef65-4253-92ff-be4f522feeb1\" target=\"_top\" title=\"psysml:1f011377-ef65-4253-92ff-be4f522feeb1\" xlink:actuate=\"onRequest\" xlink:href=\"psysml:1f011377-ef65-4253-92ff-be4f522feeb1\" xlink:show=\"new\" xlink:title=\"psysml:1f011377-ef65-4253-92ff-be4f522feeb1\" xlink:type=\"simple\"><rect fill=\"#FEFECE\" filter=\"url(#f1f4n7umxv4p9u)\" height=\"40\" id=\"E3\" style=\"stroke: #A80036; stroke-width: 1.5;\" width=\"50\" x=\"269\" y=\"399.72\"/><ellipse cx=\"288.5\" cy=\"415.72\" fill=\"#008000\" rx=\"11\" ry=\"11\" style=\"stroke: #A80036; stroke-width: 1.0;\"/><path d=\"M285.375,420.72 L285.375,410.1263 L288.6094,410.1263 Q290.5156,410.1263 291.4219,410.8763 Q292.3438,411.6263 292.3438,412.7981 Q292.3438,413.4856 291.9531,414.1419 Q291.5781,414.7981 290.8594,415.095 Q291.7188,415.47 292.2344,416.1575 Q292.75,416.845 292.75,417.6575 Q292.75,419.0325 291.7188,419.8763 Q290.7031,420.72 288.5938,420.72 L285.375,420.72 Z M287.2969,414.3606 L288.4531,414.3606 Q289.5781,414.3606 289.9844,413.9856 Q290.4063,413.595 290.4063,412.97 Q290.4063,412.3919 289.9844,412.0325 Q289.5625,411.6731 288.625,411.6731 L287.2969,411.6731 L287.2969,414.3606 Z M287.2969,419.1419 L288.7969,419.1419 Q289.7031,419.1419 290.2344,418.7513 Q290.7656,418.3606 290.7656,417.6106 Q290.7656,416.845 290.2656,416.3763 Q289.7656,415.8919 288.5,415.8919 L287.2969,415.8919 L287.2969,419.1419 Z \"/><text fill=\"#000000\" font-family=\"sans-serif\" font-size=\"12\" lengthAdjust=\"spacingAndGlyphs\" textLength=\"8\" x=\"303.5\" y=\"419.8743\">A</text></a></g><a href=\"psysml:7d907640-2982-4506-b0ab-4e4fe8a9afec\" target=\"_top\" title=\"psysml:7d907640-2982-4506-b0ab-4e4fe8a9afec\" xlink:actuate=\"onRequest\" xlink:href=\"psysml:7d907640-2982-4506-b0ab-4e4fe8a9afec\" xlink:show=\"new\" xlink:title=\"psysml:7d907640-2982-4506-b0ab-4e4fe8a9afec\" xlink:type=\"simple\"><polygon fill=\"#FFFFFF\" filter=\"url(#f1f4n7umxv4p9u)\" points=\"215,254.72,239,254.72,246,277.0169,253,277.0169,253,307.3138,215,307.3138,215,254.72\" style=\"stroke: #000000; stroke-width: 1.5;\"/><line style=\"stroke: #000000; stroke-width: 1.5;\" x1=\"215\" x2=\"246\" y1=\"277.0169\" y2=\"277.0169\"/><text fill=\"#000000\" font-family=\"sans-serif\" font-size=\"14\" font-weight=\"bold\" lengthAdjust=\"spacingAndGlyphs\" textLength=\"18\" x=\"219\" y=\"269.7151\">P2</text></a><g id=\"E1.E5\"><a href=\"psysml:4755439e-6dab-436e-bf4a-d220bd8663ba\" target=\"_top\" title=\"psysml:4755439e-6dab-436e-bf4a-d220bd8663ba\" xlink:actuate=\"onRequest\" xlink:href=\"psysml:4755439e-6dab-436e-bf4a-d220bd8663ba\" xlink:show=\"new\" xlink:title=\"psysml:4755439e-6dab-436e-bf4a-d220bd8663ba\" xlink:type=\"simple\"><rect fill=\"#FEFECE\" filter=\"url(#f1f4n7umxv4p9u)\" height=\"40\" id=\"E5\" rx=\"10\" ry=\"10\" style=\"stroke: #A80036; stroke-width: 1.5;\" width=\"59\" x=\"254.5\" y=\"141.72\"/><ellipse cx=\"271.75\" cy=\"157.72\" fill=\"#B6DBBB\" rx=\"11\" ry=\"11\" style=\"stroke: #A80036; stroke-width: 1.0;\"/><path d=\"M271.5,163.1888 Q269.75,163.1888 268.7969,162.1575 Q267.8594,161.1106 267.8594,159.2669 L267.8594,152.3763 L269.9219,152.3763 L269.9219,152.5325 Q269.8281,152.6263 269.7969,152.7669 Q269.7813,152.8919 269.7813,153.1575 L269.7813,159.2825 Q269.7813,160.3763 270.1563,161.0013 Q270.5313,161.6263 271.5156,161.6263 Q272.5,161.6263 272.8906,161.0013 Q273.2813,160.3763 273.2813,159.2356 L273.2813,152.3763 L275.1563,152.3763 L275.1563,159.22 Q275.1563,161.2513 274.125,162.22 Q273.1094,163.1888 271.5,163.1888 Z \"/><text fill=\"#000000\" font-family=\"sans-serif\" font-size=\"12\" lengthAdjust=\"spacingAndGlyphs\" textLength=\"22\" x=\"286.25\" y=\"161.8743\">x: A</text></a></g><g id=\"E1.E6.E7\"><a href=\"psysml:bdb8801b-74e6-41c7-b5f1-114cae898237\" target=\"_top\" title=\"psysml:bdb8801b-74e6-41c7-b5f1-114cae898237\" xlink:actuate=\"onRequest\" xlink:href=\"psysml:bdb8801b-74e6-41c7-b5f1-114cae898237\" xlink:show=\"new\" xlink:title=\"psysml:bdb8801b-74e6-41c7-b5f1-114cae898237\" xlink:type=\"simple\"><rect fill=\"#FEFECE\" filter=\"url(#f1f4n7umxv4p9u)\" height=\"40\" id=\"E7\" style=\"stroke: #A80036; stroke-width: 1.5;\" width=\"50\" x=\"557\" y=\"141.72\"/><ellipse cx=\"576.5\" cy=\"157.72\" fill=\"#008000\" rx=\"11\" ry=\"11\" style=\"stroke: #A80036; stroke-width: 1.0;\"/><path d=\"M573.375,162.72 L573.375,152.1263 L576.6094,152.1263 Q578.5156,152.1263 579.4219,152.8763 Q580.3438,153.6263 580.3438,154.7981 Q580.3438,155.4856 579.9531,156.1419 Q579.5781,156.7981 578.8594,157.095 Q579.7188,157.47 580.2344,158.1575 Q580.75,158.845 580.75,159.6575 Q580.75,161.0325 579.7188,161.8763 Q578.7031,162.72 576.5938,162.72 L573.375,162.72 Z M575.2969,156.3606 L576.4531,156.3606 Q577.5781,156.3606 577.9844,155.9856 Q578.4063,155.595 578.4063,154.97 Q578.4063,154.3919 577.9844,154.0325 Q577.5625,153.6731 576.625,153.6731 L575.2969,153.6731 L575.2969,156.3606 Z M575.2969,161.1419 L576.7969,161.1419 Q577.7031,161.1419 578.2344,160.7513 Q578.7656,160.3606 578.7656,159.6106 Q578.7656,158.845 578.2656,158.3763 Q577.7656,157.8919 576.5,157.8919 L575.2969,157.8919 L575.2969,161.1419 Z \"/><text fill=\"#000000\" font-family=\"sans-serif\" font-size=\"12\" lengthAdjust=\"spacingAndGlyphs\" textLength=\"8\" x=\"591.5\" y=\"161.8743\">B</text></a></g><g id=\"E1.E8\"><a href=\"psysml:dfc306bc-28cd-4074-8d12-696a322e5955\" target=\"_top\" title=\"psysml:dfc306bc-28cd-4074-8d12-696a322e5955\" xlink:actuate=\"onRequest\" xlink:href=\"psysml:dfc306bc-28cd-4074-8d12-696a322e5955\" xlink:show=\"new\" xlink:title=\"psysml:dfc306bc-28cd-4074-8d12-696a322e5955\" xlink:type=\"simple\"><rect fill=\"#FEFECE\" filter=\"url(#f1f4n7umxv4p9u)\" height=\"40\" id=\"E8\" rx=\"10\" ry=\"10\" style=\"stroke: #A80036; stroke-width: 1.5;\" width=\"58\" x=\"161\" y=\"141.72\"/><ellipse cx=\"178.25\" cy=\"157.72\" fill=\"#B6DBBB\" rx=\"11\" ry=\"11\" style=\"stroke: #A80036; stroke-width: 1.0;\"/><path d=\"M178,163.1888 Q176.25,163.1888 175.2969,162.1575 Q174.3594,161.1106 174.3594,159.2669 L174.3594,152.3763 L176.4219,152.3763 L176.4219,152.5325 Q176.3281,152.6263 176.2969,152.7669 Q176.2813,152.8919 176.2813,153.1575 L176.2813,159.2825 Q176.2813,160.3763 176.6563,161.0013 Q177.0313,161.6263 178.0156,161.6263 Q179,161.6263 179.3906,161.0013 Q179.7813,160.3763 179.7813,159.2356 L179.7813,152.3763 L181.6563,152.3763 L181.6563,159.22 Q181.6563,161.2513 180.625,162.22 Q179.6094,163.1888 178,163.1888 Z \"/><text fill=\"#000000\" font-family=\"sans-serif\" font-size=\"12\" lengthAdjust=\"spacingAndGlyphs\" textLength=\"21\" x=\"192.75\" y=\"161.8743\">z: B</text></a></g><g id=\"E1.E9.E10\"><a href=\"psysml:aa943bbf-59d6-4c08-9403-21388691ca57\" target=\"_top\" title=\"psysml:aa943bbf-59d6-4c08-9403-21388691ca57\" xlink:actuate=\"onRequest\" xlink:href=\"psysml:aa943bbf-59d6-4c08-9403-21388691ca57\" xlink:show=\"new\" xlink:title=\"psysml:aa943bbf-59d6-4c08-9403-21388691ca57\" xlink:type=\"simple\"><rect fill=\"#FEFECE\" filter=\"url(#f1f4n7umxv4p9u)\" height=\"40\" id=\"E10\" rx=\"10\" ry=\"10\" style=\"stroke: #A80036; stroke-width: 1.5;\" width=\"66\" x=\"384\" y=\"141.72\"/><ellipse cx=\"401.25\" cy=\"157.72\" fill=\"#B6DBBB\" rx=\"11\" ry=\"11\" style=\"stroke: #A80036; stroke-width: 1.0;\"/><path d=\"M401,163.1888 Q399.25,163.1888 398.2969,162.1575 Q397.3594,161.1106 397.3594,159.2669 L397.3594,152.3763 L399.4219,152.3763 L399.4219,152.5325 Q399.3281,152.6263 399.2969,152.7669 Q399.2813,152.8919 399.2813,153.1575 L399.2813,159.2825 Q399.2813,160.3763 399.6563,161.0013 Q400.0313,161.6263 401.0156,161.6263 Q402,161.6263 402.3906,161.0013 Q402.7813,160.3763 402.7813,159.2356 L402.7813,152.3763 L404.6563,152.3763 L404.6563,159.22 Q404.6563,161.2513 403.625,162.22 Q402.6094,163.1888 401,163.1888 Z \"/><text fill=\"#000000\" font-family=\"sans-serif\" font-size=\"12\" lengthAdjust=\"spacingAndGlyphs\" textLength=\"29\" x=\"415.75\" y=\"161.8743\">z1: A</text></a></g><!--MD5=[185131fc0dcab0a4505a2ebe144e961b]\n",
       "link E4 to E2--><a href=\"psysml:113e6c15-2e9f-43c2-9a8b-f1023998ecb3\" target=\"_top\" title=\"psysml:113e6c15-2e9f-43c2-9a8b-f1023998ecb3\" xlink:actuate=\"onRequest\" xlink:href=\"psysml:113e6c15-2e9f-43c2-9a8b-f1023998ecb3\" xlink:show=\"new\" xlink:title=\"psysml:113e6c15-2e9f-43c2-9a8b-f1023998ecb3\" xlink:type=\"simple\"><path d=\"M234,307.89 C234,317.6225 234,329.2769 234,341.3178 C234,344.328 234,347.3624 234,350.397 C234,351.9143 234,353.4316 234,354.946 C234,355.3246 234,355.703 234,356.0812 C234,356.2702 234,356.4593 234,356.6482 \" fill=\"none\" id=\"E4-&gt;E2\" style=\"stroke: #A80036; stroke-width: 1.0; stroke-dasharray: 7.0,7.0;\"/><polygon fill=\"#A80036\" points=\"234,356.6482,238,347.6482,234,351.6482,230,347.6482,234,356.6482\" style=\"stroke: #A80036; stroke-width: 1.0;\"/><text fill=\"#000000\" font-family=\"sans-serif\" font-size=\"13\" lengthAdjust=\"spacingAndGlyphs\" textLength=\"65\" x=\"235\" y=\"328.7869\">«import»*</text></a><!--MD5=[ee384bb554873b72f85793eae40e290c]\n",
       "link E1 to E4--><a href=\"psysml:a039409c-dc44-4261-a761-133767375f35\" target=\"_top\" title=\"psysml:a039409c-dc44-4261-a761-133767375f35\" xlink:actuate=\"onRequest\" xlink:href=\"psysml:a039409c-dc44-4261-a761-133767375f35\" xlink:show=\"new\" xlink:title=\"psysml:a039409c-dc44-4261-a761-133767375f35\" xlink:type=\"simple\"><path d=\"M184.93,33.73 C182.11,34.12 91.7,46.86 77,66.72 C36.02,122.09 37.7,165.14 77,221.72 C107.21,265.21 173.85,276.43 209.83,279.28 \" fill=\"none\" id=\"E1-&gt;E4\" style=\"stroke: #A80036; stroke-width: 1.0; stroke-dasharray: 7.0,7.0;\"/><polygon fill=\"#A80036\" points=\"214.9,279.65,206.2079,275.0189,209.9127,279.2938,205.6379,282.9986,214.9,279.65\" style=\"stroke: #A80036; stroke-width: 1.0;\"/><text fill=\"#000000\" font-family=\"sans-serif\" font-size=\"13\" lengthAdjust=\"spacingAndGlyphs\" textLength=\"65\" x=\"78\" y=\"166.2869\">«import»*</text></a><!--MD5=[ccbd3af71bf83df0ec2a2db62d6d7130]\n",
       "link E1 to E6--><a href=\"psysml:8872cc02-851e-450c-b3e8-f90f2e3db770\" target=\"_top\" title=\"psysml:8872cc02-851e-450c-b3e8-f90f2e3db770\" xlink:actuate=\"onRequest\" xlink:href=\"psysml:8872cc02-851e-450c-b3e8-f90f2e3db770\" xlink:show=\"new\" xlink:title=\"psysml:8872cc02-851e-450c-b3e8-f90f2e3db770\" xlink:type=\"simple\"><path d=\"M185.17,33.72 C192.09,33.69 414.07,33.05 466,66.72 C486.085,79.74 499.965,102.715 508.8825,122.6913 C509.9972,125.1883 511.0343,127.6385 511.9964,130.0165 C512.4774,131.2055 512.9396,132.3765 513.3834,133.5262 C513.4943,133.8137 513.6041,134.0998 513.7128,134.3845 C513.7671,134.5269 513.8211,134.6689 513.8749,134.8106 \" fill=\"none\" id=\"E1-&gt;E6\" style=\"stroke: #A80036; stroke-width: 1.0; stroke-dasharray: 7.0,7.0;\"/><polygon fill=\"#A80036\" points=\"513.8749,134.8106,514.4227,124.977,512.1015,130.1357,506.9428,127.8144,513.8749,134.8106\" style=\"stroke: #A80036; stroke-width: 1.0;\"/><text fill=\"#000000\" font-family=\"sans-serif\" font-size=\"13\" lengthAdjust=\"spacingAndGlyphs\" textLength=\"65\" x=\"446\" y=\"54.7869\">«import»*</text></a><!--MD5=[c2be97adba6ddfe1c8f349fab141c927]\n",
       "link E9 to E4--><a href=\"psysml:f0473cf2-6b9f-40e7-98be-e0cb9d304d8b\" target=\"_top\" title=\"psysml:f0473cf2-6b9f-40e7-98be-e0cb9d304d8b\" xlink:actuate=\"onRequest\" xlink:href=\"psysml:f0473cf2-6b9f-40e7-98be-e0cb9d304d8b\" xlink:show=\"new\" xlink:title=\"psysml:f0473cf2-6b9f-40e7-98be-e0cb9d304d8b\" xlink:type=\"simple\"><path d=\"M351.181,205.9013 C351.1609,205.9999 351.1405,206.0985 351.1199,206.197 C350.9549,206.9849 350.7742,207.7693 350.5766,208.5486 C350.1816,210.1073 349.7194,211.6458 349.1824,213.1525 C348.1084,216.1659 346.735,219.0525 345,221.72 C325.29,252.02 284.49,267.62 258.23,274.84 \" fill=\"none\" id=\"E9-&gt;E4\" style=\"stroke: #A80036; stroke-width: 1.0; stroke-dasharray: 7.0,7.0;\"/><polygon fill=\"#A80036\" points=\"253.18,276.18,262.9019,277.7564,258.0152,274.9068,260.8648,270.0201,253.18,276.18\" style=\"stroke: #A80036; stroke-width: 1.0;\"/><text fill=\"#000000\" font-family=\"sans-serif\" font-size=\"13\" lengthAdjust=\"spacingAndGlyphs\" textLength=\"65\" x=\"340\" y=\"242.7869\">«import»*</text></a><!--MD5=[6c33c70103c3ea532a12ad0688abaffc]\n",
       "@startuml\r\n",
       "skinparam ranksep 10\r\n",
       "skinparam rectangle {\r\n",
       " backgroundColor<<block>> LightGreen\r\n",
       "}\r\n",
       " \r\n",
       "package \"PrivateImportTest\" as E1  [[psysml:56a08668-af7c-402b-8ea6-0ffeccd2e906 ]]  {\r\n",
       "package \"P1\" as E2  [[psysml:989134c5-5272-479d-a43e-5e5573119e0c ]]  {\r\n",
       "rec def \"A\" as E3 << << (B,green) >> [[psysml:1f011377-ef65-4253-92ff-be4f522feeb1 ]] {\r\n",
       "}\r\n",
       "}\r\n",
       "package \"P2\" as E4  [[psysml:7d907640-2982-4506-b0ab-4e4fe8a9afec ]]  {\r\n",
       "}\r\n",
       "rec usage \"x: A\" as E5  [[psysml:4755439e-6dab-436e-bf4a-d220bd8663ba ]] {\r\n",
       "}\r\n",
       "package \"P3\" as E6  [[psysml:90563c83-8b6e-4371-ac3b-36c1983fe7e9 ]]  {\r\n",
       "rec def \"B\" as E7 << << (B,green) >> [[psysml:bdb8801b-74e6-41c7-b5f1-114cae898237 ]] {\r\n",
       "}\r\n",
       "}\r\n",
       "rec usage \"z: B\" as E8  [[psysml:dfc306bc-28cd-4074-8d12-696a322e5955 ]] {\r\n",
       "}\r\n",
       "package \"P4\" as E9  [[psysml:2733cc0d-ab4e-4acc-aaf2-0d4d1c16697a ]]  {\r\n",
       "rec usage \"z1: A\" as E10  [[psysml:aa943bbf-59d6-4c08-9403-21388691ca57 ]] {\r\n",
       "}\r\n",
       "}\r\n",
       "}\r\n",
       "E4 ..> E2 [[psysml:113e6c15-2e9f-43c2-9a8b-f1023998ecb3 ]] : <<import>>*\r\n",
       "E1 ..> E4 [[psysml:a039409c-dc44-4261-a761-133767375f35 ]] : <<import>>*\r\n",
       "E1 ..> E6 [[psysml:8872cc02-851e-450c-b3e8-f90f2e3db770 ]] : <<import>>*\r\n",
       "E9 ..> E4 [[psysml:f0473cf2-6b9f-40e7-98be-e0cb9d304d8b ]] : <<import>>*\r\n",
       "@enduml\r\n",
       "\n",
       "PlantUML version 1.2020.13(Sat Jun 13 12:26:38 UTC 2020)\n",
       "(EPL source distribution)\n",
       "Java Runtime: OpenJDK Runtime Environment\n",
       "JVM: OpenJDK 64-Bit Server VM\n",
       "Default Encoding: UTF-8\n",
       "Language: en\n",
       "Country: null\n",
       "--></g></svg>"
      ]
     },
     "execution_count": 33,
     "metadata": {},
     "output_type": "execute_result"
    }
   ],
   "source": [
    "%viz --style=\"PLANTUML\" --view=\"Interconnection\" \"PrivateImportTest\""
   ]
  },
  {
   "cell_type": "code",
   "execution_count": 34,
   "id": "931922da",
   "metadata": {
    "execution": {
     "iopub.execute_input": "2022-02-18T10:48:47.470858Z",
     "iopub.status.busy": "2022-02-18T10:48:47.470446Z",
     "iopub.status.idle": "2022-02-18T10:48:47.474580Z",
     "shell.execute_reply": "2022-02-18T10:48:47.474904Z"
    }
   },
   "outputs": [
    {
     "data": {
      "image/svg+xml": [
       "<?xml version=\"1.0\" encoding=\"UTF-8\" standalone=\"no\"?><svg xmlns=\"http://www.w3.org/2000/svg\" xmlns:xlink=\"http://www.w3.org/1999/xlink\" contentScriptType=\"application/ecmascript\" contentStyleType=\"text/css\" height=\"12px\" preserveAspectRatio=\"none\" style=\"width:12px;height:12px;\" version=\"1.1\" viewBox=\"0 0 12 12\" width=\"12px\" zoomAndPan=\"magnify\"><defs/><g><!--MD5=[6a4cb978cab31700e1ce5529f947a75d]\n",
       "@startuml\r\n",
       "skinparam ranksep 8\r\n",
       " \r\n",
       "@enduml\r\n",
       "\n",
       "PlantUML version 1.2020.13(Sat Jun 13 12:26:38 UTC 2020)\n",
       "(EPL source distribution)\n",
       "Java Runtime: OpenJDK Runtime Environment\n",
       "JVM: OpenJDK 64-Bit Server VM\n",
       "Default Encoding: UTF-8\n",
       "Language: en\n",
       "Country: null\n",
       "--></g></svg>"
      ]
     },
     "execution_count": 34,
     "metadata": {},
     "output_type": "execute_result"
    }
   ],
   "source": [
    "%viz --style=\"PLANTUML\" --view=\"Action\" \"PrivateImportTest\""
   ]
  },
  {
   "cell_type": "code",
   "execution_count": 35,
   "id": "f86e2c23",
   "metadata": {
    "execution": {
     "iopub.execute_input": "2022-02-18T10:48:47.524926Z",
     "iopub.status.busy": "2022-02-18T10:48:47.524525Z",
     "iopub.status.idle": "2022-02-18T10:48:47.528884Z",
     "shell.execute_reply": "2022-02-18T10:48:47.529175Z"
    }
   },
   "outputs": [
    {
     "data": {
      "image/svg+xml": [
       "<?xml version=\"1.0\" encoding=\"UTF-8\" standalone=\"no\"?><svg xmlns=\"http://www.w3.org/2000/svg\" xmlns:xlink=\"http://www.w3.org/1999/xlink\" contentScriptType=\"application/ecmascript\" contentStyleType=\"text/css\" height=\"12px\" preserveAspectRatio=\"none\" style=\"width:12px;height:12px;\" version=\"1.1\" viewBox=\"0 0 12 12\" width=\"12px\" zoomAndPan=\"magnify\"><defs/><g><!--MD5=[ca4faa0b02def275ea33c14ea7a1a98d]\n",
       "@startuml\r\n",
       "skinparam roundcorner 20\r\n",
       "skinparam BoxPadding 20\r\n",
       "skinparam SequenceBoxBackgroundColor #white\r\n",
       "skinparam style strictuml\r\n",
       "skinparam maxMessageSize 100\r\n",
       " \r\n",
       "@enduml\r\n",
       "\n",
       "PlantUML version 1.2020.13(Sat Jun 13 12:26:38 UTC 2020)\n",
       "(EPL source distribution)\n",
       "Java Runtime: OpenJDK Runtime Environment\n",
       "JVM: OpenJDK 64-Bit Server VM\n",
       "Default Encoding: UTF-8\n",
       "Language: en\n",
       "Country: null\n",
       "--></g></svg>"
      ]
     },
     "execution_count": 35,
     "metadata": {},
     "output_type": "execute_result"
    }
   ],
   "source": [
    "%viz --style=\"PLANTUML\" --view=\"Sequence\" \"PrivateImportTest\""
   ]
  },
  {
   "cell_type": "code",
   "execution_count": 36,
   "id": "81652438",
   "metadata": {
    "execution": {
     "iopub.execute_input": "2022-02-18T10:48:47.579228Z",
     "iopub.status.busy": "2022-02-18T10:48:47.578808Z",
     "iopub.status.idle": "2022-02-18T10:48:47.617675Z",
     "shell.execute_reply": "2022-02-18T10:48:47.617389Z"
    }
   },
   "outputs": [
    {
     "data": {
      "image/svg+xml": [
       "<?xml version=\"1.0\" encoding=\"UTF-8\" standalone=\"no\"?><svg xmlns=\"http://www.w3.org/2000/svg\" xmlns:xlink=\"http://www.w3.org/1999/xlink\" contentScriptType=\"application/ecmascript\" contentStyleType=\"text/css\" height=\"574px\" preserveAspectRatio=\"none\" style=\"width:429px;height:574px;\" version=\"1.1\" viewBox=\"0 0 429 574\" width=\"429px\" zoomAndPan=\"magnify\"><defs><filter height=\"300%\" id=\"f1o7674mtc93lu\" width=\"300%\" x=\"-1\" y=\"-1\"><feGaussianBlur result=\"blurOut\" stdDeviation=\"2.0\"/><feColorMatrix in=\"blurOut\" result=\"blurOut2\" type=\"matrix\" values=\"0 0 0 0 0 0 0 0 0 0 0 0 0 0 0 0 0 0 .4 0\"/><feOffset dx=\"4.0\" dy=\"4.0\" in=\"blurOut2\" result=\"blurOut3\"/><feBlend in=\"SourceGraphic\" in2=\"blurOut3\" mode=\"normal\"/></filter></defs><g><!--MD5=[fbc87193dbaf4d95561dea2c320d4a47]\n",
       "cluster E1--><a href=\"psysml:56a08668-af7c-402b-8ea6-0ffeccd2e906\" target=\"_top\" title=\"psysml:56a08668-af7c-402b-8ea6-0ffeccd2e906\" xlink:actuate=\"onRequest\" xlink:href=\"psysml:56a08668-af7c-402b-8ea6-0ffeccd2e906\" xlink:show=\"new\" xlink:title=\"psysml:56a08668-af7c-402b-8ea6-0ffeccd2e906\" xlink:type=\"simple\"><polygon fill=\"#FFFFFF\" filter=\"url(#f1o7674mtc93lu)\" points=\"26.47,6,153.47,6,160.47,28.2969,407.47,28.2969,407.47,562,26.47,562,26.47,6\" style=\"stroke: #000000; stroke-width: 1.5;\"/><line style=\"stroke: #000000; stroke-width: 1.5;\" x1=\"26.47\" x2=\"160.47\" y1=\"28.2969\" y2=\"28.2969\"/><text fill=\"#000000\" font-family=\"sans-serif\" font-size=\"14\" font-weight=\"bold\" lengthAdjust=\"spacingAndGlyphs\" textLength=\"121\" x=\"30.47\" y=\"20.9951\">PrivateImportTest</text></a><!--MD5=[e4f7fae6ed58524ba242bb0b0d3be6b7]\n",
       "cluster E2--><a href=\"psysml:989134c5-5272-479d-a43e-5e5573119e0c\" target=\"_top\" title=\"psysml:989134c5-5272-479d-a43e-5e5573119e0c\" xlink:actuate=\"onRequest\" xlink:href=\"psysml:989134c5-5272-479d-a43e-5e5573119e0c\" xlink:show=\"new\" xlink:title=\"psysml:989134c5-5272-479d-a43e-5e5573119e0c\" xlink:type=\"simple\"><polygon fill=\"#FFFFFF\" filter=\"url(#f1o7674mtc93lu)\" points=\"216.47,415,240.47,415,247.47,437.2969,323.47,437.2969,323.47,522,216.47,522,216.47,415\" style=\"stroke: #000000; stroke-width: 1.5;\"/><line style=\"stroke: #000000; stroke-width: 1.5;\" x1=\"216.47\" x2=\"247.47\" y1=\"437.2969\" y2=\"437.2969\"/><text fill=\"#000000\" font-family=\"sans-serif\" font-size=\"14\" font-weight=\"bold\" lengthAdjust=\"spacingAndGlyphs\" textLength=\"18\" x=\"220.47\" y=\"429.9951\">P1</text></a><!--MD5=[14e3b0961a2654348d326746436168a1]\n",
       "cluster E6--><a href=\"psysml:90563c83-8b6e-4371-ac3b-36c1983fe7e9\" target=\"_top\" title=\"psysml:90563c83-8b6e-4371-ac3b-36c1983fe7e9\" xlink:actuate=\"onRequest\" xlink:href=\"psysml:90563c83-8b6e-4371-ac3b-36c1983fe7e9\" xlink:show=\"new\" xlink:title=\"psysml:90563c83-8b6e-4371-ac3b-36c1983fe7e9\" xlink:type=\"simple\"><polygon fill=\"#FFFFFF\" filter=\"url(#f1o7674mtc93lu)\" points=\"74.47,243,98.47,243,105.47,265.2969,181.47,265.2969,181.47,350,74.47,350,74.47,243\" style=\"stroke: #000000; stroke-width: 1.5;\"/><line style=\"stroke: #000000; stroke-width: 1.5;\" x1=\"74.47\" x2=\"105.47\" y1=\"265.2969\" y2=\"265.2969\"/><text fill=\"#000000\" font-family=\"sans-serif\" font-size=\"14\" font-weight=\"bold\" lengthAdjust=\"spacingAndGlyphs\" textLength=\"18\" x=\"78.47\" y=\"257.9951\">P3</text></a><!--MD5=[7f149f147074ac12df2cb0a7728a5fb0]\n",
       "cluster E9--><a href=\"psysml:2733cc0d-ab4e-4acc-aaf2-0d4d1c16697a\" target=\"_top\" title=\"psysml:2733cc0d-ab4e-4acc-aaf2-0d4d1c16697a\" xlink:actuate=\"onRequest\" xlink:href=\"psysml:2733cc0d-ab4e-4acc-aaf2-0d4d1c16697a\" xlink:show=\"new\" xlink:title=\"psysml:2733cc0d-ab4e-4acc-aaf2-0d4d1c16697a\" xlink:type=\"simple\"><polygon fill=\"#FFFFFF\" filter=\"url(#f1o7674mtc93lu)\" points=\"232.47,65,256.47,65,263.47,87.2969,367.47,87.2969,367.47,178,232.47,178,232.47,65\" style=\"stroke: #000000; stroke-width: 1.5;\"/><line style=\"stroke: #000000; stroke-width: 1.5;\" x1=\"232.47\" x2=\"263.47\" y1=\"87.2969\" y2=\"87.2969\"/><text fill=\"#000000\" font-family=\"sans-serif\" font-size=\"14\" font-weight=\"bold\" lengthAdjust=\"spacingAndGlyphs\" textLength=\"18\" x=\"236.47\" y=\"79.9951\">P4</text></a><!--MD5=[270fce915f116d4de14055a7c1d9a0f3]\n",
       "class E5--><a href=\"psysml:4755439e-6dab-436e-bf4a-d220bd8663ba\" target=\"_top\" title=\"psysml:4755439e-6dab-436e-bf4a-d220bd8663ba\" xlink:actuate=\"onRequest\" xlink:href=\"psysml:4755439e-6dab-436e-bf4a-d220bd8663ba\" xlink:show=\"new\" xlink:title=\"psysml:4755439e-6dab-436e-bf4a-d220bd8663ba\" xlink:type=\"simple\"><rect fill=\"#FEFECE\" filter=\"url(#f1o7674mtc93lu)\" height=\"45.9375\" id=\"E5\" rx=\"10\" ry=\"10\" style=\"stroke: #A80036; stroke-width: 1.5;\" width=\"68\" x=\"315.47\" y=\"283\"/><ellipse cx=\"330.47\" cy=\"301.9688\" fill=\"#32CD32\" rx=\"11\" ry=\"11\" style=\"stroke: #A80036; stroke-width: 1.0;\"/><path d=\"M327.2825,306.9688 L327.2825,296.375 L330.8919,296.375 Q332.1106,296.375 332.9075,296.8125 Q333.7044,297.2344 334.0794,297.9375 Q334.47,298.6406 334.47,299.4844 Q334.47,300.3281 334.095,301.0156 Q333.7356,301.7031 332.9388,302.125 Q332.1575,302.5313 330.97,302.5313 L329.2356,302.5313 L329.2356,306.9688 L327.2825,306.9688 Z M329.2356,300.9375 L330.845,300.9375 Q331.6575,300.9375 332.0794,300.5313 Q332.5013,300.125 332.5013,299.4844 Q332.5013,298.8594 332.0794,298.4531 Q331.6575,298.0469 330.8606,298.0469 L329.2356,298.0469 L329.2356,300.9375 Z \"/><text fill=\"#000000\" font-family=\"sans-serif\" font-size=\"12\" font-style=\"italic\" lengthAdjust=\"spacingAndGlyphs\" textLength=\"40\" x=\"342.47\" y=\"299.1387\">«part»</text><text fill=\"#000000\" font-family=\"sans-serif\" font-size=\"12\" lengthAdjust=\"spacingAndGlyphs\" textLength=\"22\" x=\"349.47\" y=\"313.1074\">x: A</text><line style=\"stroke: #A80036; stroke-width: 1.5;\" x1=\"316.47\" x2=\"382.47\" y1=\"320.9375\" y2=\"320.9375\"/></a><!--MD5=[b9389687b975829384b498ac4b7476b2]\n",
       "class E8--><a href=\"psysml:dfc306bc-28cd-4074-8d12-696a322e5955\" target=\"_top\" title=\"psysml:dfc306bc-28cd-4074-8d12-696a322e5955\" xlink:actuate=\"onRequest\" xlink:href=\"psysml:dfc306bc-28cd-4074-8d12-696a322e5955\" xlink:show=\"new\" xlink:title=\"psysml:dfc306bc-28cd-4074-8d12-696a322e5955\" xlink:type=\"simple\"><rect fill=\"#FEFECE\" filter=\"url(#f1o7674mtc93lu)\" height=\"45.9375\" id=\"E8\" rx=\"10\" ry=\"10\" style=\"stroke: #A80036; stroke-width: 1.5;\" width=\"68\" x=\"137.47\" y=\"108\"/><ellipse cx=\"152.47\" cy=\"126.9688\" fill=\"#32CD32\" rx=\"11\" ry=\"11\" style=\"stroke: #A80036; stroke-width: 1.0;\"/><path d=\"M149.2825,131.9688 L149.2825,121.375 L152.8919,121.375 Q154.1106,121.375 154.9075,121.8125 Q155.7044,122.2344 156.0794,122.9375 Q156.47,123.6406 156.47,124.4844 Q156.47,125.3281 156.095,126.0156 Q155.7356,126.7031 154.9388,127.125 Q154.1575,127.5313 152.97,127.5313 L151.2356,127.5313 L151.2356,131.9688 L149.2825,131.9688 Z M151.2356,125.9375 L152.845,125.9375 Q153.6575,125.9375 154.0794,125.5313 Q154.5013,125.125 154.5013,124.4844 Q154.5013,123.8594 154.0794,123.4531 Q153.6575,123.0469 152.8606,123.0469 L151.2356,123.0469 L151.2356,125.9375 Z \"/><text fill=\"#000000\" font-family=\"sans-serif\" font-size=\"12\" font-style=\"italic\" lengthAdjust=\"spacingAndGlyphs\" textLength=\"40\" x=\"164.47\" y=\"124.1387\">«part»</text><text fill=\"#000000\" font-family=\"sans-serif\" font-size=\"12\" lengthAdjust=\"spacingAndGlyphs\" textLength=\"21\" x=\"171.97\" y=\"138.1074\">z: B</text><line style=\"stroke: #A80036; stroke-width: 1.5;\" x1=\"138.47\" x2=\"204.47\" y1=\"145.9375\" y2=\"145.9375\"/></a><!--MD5=[09b614a08d8cba4a07c9adeb5e0fee81]\n",
       "class E3--><a href=\"psysml:1f011377-ef65-4253-92ff-be4f522feeb1\" target=\"_top\" title=\"psysml:1f011377-ef65-4253-92ff-be4f522feeb1\" xlink:actuate=\"onRequest\" xlink:href=\"psysml:1f011377-ef65-4253-92ff-be4f522feeb1\" xlink:show=\"new\" xlink:title=\"psysml:1f011377-ef65-4253-92ff-be4f522feeb1\" xlink:type=\"simple\"><rect fill=\"#FEFECE\" filter=\"url(#f1o7674mtc93lu)\" height=\"40\" id=\"E3\" style=\"stroke: #A80036; stroke-width: 1.5;\" width=\"40\" x=\"259.47\" y=\"458\"/><ellipse cx=\"274.47\" cy=\"474\" fill=\"#008000\" rx=\"11\" ry=\"11\" style=\"stroke: #A80036; stroke-width: 1.0;\"/><path d=\"M271.345,479 L271.345,468.4063 L274.5794,468.4063 Q276.4856,468.4063 277.3919,469.1563 Q278.3138,469.9063 278.3138,471.0781 Q278.3138,471.7656 277.9231,472.4219 Q277.5481,473.0781 276.8294,473.375 Q277.6888,473.75 278.2044,474.4375 Q278.72,475.125 278.72,475.9375 Q278.72,477.3125 277.6888,478.1563 Q276.6731,479 274.5638,479 L271.345,479 Z M273.2669,472.6406 L274.4231,472.6406 Q275.5481,472.6406 275.9544,472.2656 Q276.3763,471.875 276.3763,471.25 Q276.3763,470.6719 275.9544,470.3125 Q275.5325,469.9531 274.595,469.9531 L273.2669,469.9531 L273.2669,472.6406 Z M273.2669,477.4219 L274.7669,477.4219 Q275.6731,477.4219 276.2044,477.0313 Q276.7356,476.6406 276.7356,475.8906 Q276.7356,475.125 276.2356,474.6563 Q275.7356,474.1719 274.47,474.1719 L273.2669,474.1719 L273.2669,477.4219 Z \"/><text fill=\"#000000\" font-family=\"sans-serif\" font-size=\"12\" lengthAdjust=\"spacingAndGlyphs\" textLength=\"8\" x=\"288.47\" y=\"478.1543\">A</text><line style=\"stroke: #A80036; stroke-width: 1.5;\" x1=\"260.47\" x2=\"298.47\" y1=\"490\" y2=\"490\"/></a><a href=\"psysml:7d907640-2982-4506-b0ab-4e4fe8a9afec\" target=\"_top\" title=\"psysml:7d907640-2982-4506-b0ab-4e4fe8a9afec\" xlink:actuate=\"onRequest\" xlink:href=\"psysml:7d907640-2982-4506-b0ab-4e4fe8a9afec\" xlink:show=\"new\" xlink:title=\"psysml:7d907640-2982-4506-b0ab-4e4fe8a9afec\" xlink:type=\"simple\"><polygon fill=\"#FFFFFF\" filter=\"url(#f1o7674mtc93lu)\" points=\"205.47,279.5,229.47,279.5,236.47,301.7969,243.47,301.7969,243.47,332.0938,205.47,332.0938,205.47,279.5\" style=\"stroke: #000000; stroke-width: 1.5;\"/><line style=\"stroke: #000000; stroke-width: 1.5;\" x1=\"205.47\" x2=\"236.47\" y1=\"301.7969\" y2=\"301.7969\"/><text fill=\"#000000\" font-family=\"sans-serif\" font-size=\"14\" font-weight=\"bold\" lengthAdjust=\"spacingAndGlyphs\" textLength=\"18\" x=\"209.47\" y=\"294.4951\">P2</text></a><!--MD5=[2156ba9850f5573cc1fc38a6a4b2f02b]\n",
       "class E7--><a href=\"psysml:bdb8801b-74e6-41c7-b5f1-114cae898237\" target=\"_top\" title=\"psysml:bdb8801b-74e6-41c7-b5f1-114cae898237\" xlink:actuate=\"onRequest\" xlink:href=\"psysml:bdb8801b-74e6-41c7-b5f1-114cae898237\" xlink:show=\"new\" xlink:title=\"psysml:bdb8801b-74e6-41c7-b5f1-114cae898237\" xlink:type=\"simple\"><rect fill=\"#FEFECE\" filter=\"url(#f1o7674mtc93lu)\" height=\"40\" id=\"E7\" style=\"stroke: #A80036; stroke-width: 1.5;\" width=\"40\" x=\"117.47\" y=\"286\"/><ellipse cx=\"132.47\" cy=\"302\" fill=\"#008000\" rx=\"11\" ry=\"11\" style=\"stroke: #A80036; stroke-width: 1.0;\"/><path d=\"M129.345,307 L129.345,296.4063 L132.5794,296.4063 Q134.4856,296.4063 135.3919,297.1563 Q136.3138,297.9063 136.3138,299.0781 Q136.3138,299.7656 135.9231,300.4219 Q135.5481,301.0781 134.8294,301.375 Q135.6888,301.75 136.2044,302.4375 Q136.72,303.125 136.72,303.9375 Q136.72,305.3125 135.6888,306.1563 Q134.6731,307 132.5638,307 L129.345,307 Z M131.2669,300.6406 L132.4231,300.6406 Q133.5481,300.6406 133.9544,300.2656 Q134.3763,299.875 134.3763,299.25 Q134.3763,298.6719 133.9544,298.3125 Q133.5325,297.9531 132.595,297.9531 L131.2669,297.9531 L131.2669,300.6406 Z M131.2669,305.4219 L132.7669,305.4219 Q133.6731,305.4219 134.2044,305.0313 Q134.7356,304.6406 134.7356,303.8906 Q134.7356,303.125 134.2356,302.6563 Q133.7356,302.1719 132.47,302.1719 L131.2669,302.1719 L131.2669,305.4219 Z \"/><text fill=\"#000000\" font-family=\"sans-serif\" font-size=\"12\" lengthAdjust=\"spacingAndGlyphs\" textLength=\"8\" x=\"146.47\" y=\"306.1543\">B</text><line style=\"stroke: #A80036; stroke-width: 1.5;\" x1=\"118.47\" x2=\"156.47\" y1=\"318\" y2=\"318\"/></a><!--MD5=[96f4274e9e20536e775497830990834d]\n",
       "class E10--><a href=\"psysml:aa943bbf-59d6-4c08-9403-21388691ca57\" target=\"_top\" title=\"psysml:aa943bbf-59d6-4c08-9403-21388691ca57\" xlink:actuate=\"onRequest\" xlink:href=\"psysml:aa943bbf-59d6-4c08-9403-21388691ca57\" xlink:show=\"new\" xlink:title=\"psysml:aa943bbf-59d6-4c08-9403-21388691ca57\" xlink:type=\"simple\"><rect fill=\"#FEFECE\" filter=\"url(#f1o7674mtc93lu)\" height=\"45.9375\" id=\"E10\" rx=\"10\" ry=\"10\" style=\"stroke: #A80036; stroke-width: 1.5;\" width=\"68\" x=\"275.47\" y=\"108\"/><ellipse cx=\"290.47\" cy=\"126.9688\" fill=\"#32CD32\" rx=\"11\" ry=\"11\" style=\"stroke: #A80036; stroke-width: 1.0;\"/><path d=\"M287.2825,131.9688 L287.2825,121.375 L290.8919,121.375 Q292.1106,121.375 292.9075,121.8125 Q293.7044,122.2344 294.0794,122.9375 Q294.47,123.6406 294.47,124.4844 Q294.47,125.3281 294.095,126.0156 Q293.7356,126.7031 292.9388,127.125 Q292.1575,127.5313 290.97,127.5313 L289.2356,127.5313 L289.2356,131.9688 L287.2825,131.9688 Z M289.2356,125.9375 L290.845,125.9375 Q291.6575,125.9375 292.0794,125.5313 Q292.5013,125.125 292.5013,124.4844 Q292.5013,123.8594 292.0794,123.4531 Q291.6575,123.0469 290.8606,123.0469 L289.2356,123.0469 L289.2356,125.9375 Z \"/><text fill=\"#000000\" font-family=\"sans-serif\" font-size=\"12\" font-style=\"italic\" lengthAdjust=\"spacingAndGlyphs\" textLength=\"40\" x=\"302.47\" y=\"124.1387\">«part»</text><text fill=\"#000000\" font-family=\"sans-serif\" font-size=\"12\" lengthAdjust=\"spacingAndGlyphs\" textLength=\"29\" x=\"305.97\" y=\"138.1074\">z1: A</text><line style=\"stroke: #A80036; stroke-width: 1.5;\" x1=\"276.47\" x2=\"342.47\" y1=\"145.9375\" y2=\"145.9375\"/></a><!--MD5=[185131fc0dcab0a4505a2ebe144e961b]\n",
       "link E4 to E2--><a href=\"psysml:113e6c15-2e9f-43c2-9a8b-f1023998ecb3\" target=\"_top\" title=\"psysml:113e6c15-2e9f-43c2-9a8b-f1023998ecb3\" xlink:actuate=\"onRequest\" xlink:href=\"psysml:113e6c15-2e9f-43c2-9a8b-f1023998ecb3\" xlink:show=\"new\" xlink:title=\"psysml:113e6c15-2e9f-43c2-9a8b-f1023998ecb3\" xlink:type=\"simple\"><path d=\"M214.42,332.66 C210.12,344.96 205.61,360.02 203.47,374 C200.045,396.37 204.865,421.235 210.7463,440.93 C212.2166,445.8538 213.7532,450.4544 215.2439,454.6121 C215.6166,455.6515 215.9864,456.6633 216.3516,457.6455 \" fill=\"none\" id=\"E4-&gt;E2\" style=\"stroke: #A80036; stroke-width: 1.0; stroke-dasharray: 7.0,7.0;\"/><polygon fill=\"#A80036\" points=\"216.3516,457.6455,216.9644,447.8157,214.6091,452.9589,209.4659,450.6037,216.3516,457.6455\" style=\"stroke: #A80036; stroke-width: 1.0;\"/><text fill=\"#000000\" font-family=\"sans-serif\" font-size=\"13\" lengthAdjust=\"spacingAndGlyphs\" textLength=\"65\" x=\"204.47\" y=\"387.0669\">«import»*</text></a><!--MD5=[e9be52314489bd878ff4c7144b63c9e1]\n",
       "link E5 to E3--><a href=\"psysml:2e030f48-ed8d-4fbc-a256-8117ac7131ec\" target=\"_top\" title=\"psysml:2e030f48-ed8d-4fbc-a256-8117ac7131ec\" xlink:actuate=\"onRequest\" xlink:href=\"psysml:2e030f48-ed8d-4fbc-a256-8117ac7131ec\" xlink:show=\"new\" xlink:title=\"psysml:2e030f48-ed8d-4fbc-a256-8117ac7131ec\" xlink:type=\"simple\"><path d=\"M340.32,329.22 C328.84,357.1 308.98,405.33 295.08,439.08 \" fill=\"none\" id=\"E5-&gt;E3\" style=\"stroke: #A80036; stroke-width: 1.0;\"/><polygon fill=\"#FFFFFF\" points=\"287.33,457.92,288.0884,437.6857,301.0347,443.0142,287.33,457.92\" style=\"stroke: #A80036; stroke-width: 1.0;\"/><ellipse cx=\"292.1073\" cy=\"433.176\" fill=\"#A80036\" rx=\"2\" ry=\"2\" style=\"stroke: #A80036; stroke-width: 1.0;\"/><ellipse cx=\"301.3547\" cy=\"436.982\" fill=\"#A80036\" rx=\"2\" ry=\"2\" style=\"stroke: #A80036; stroke-width: 1.0;\"/></a><!--MD5=[ee384bb554873b72f85793eae40e290c]\n",
       "link E1 to E4--><a href=\"psysml:a039409c-dc44-4261-a761-133767375f35\" target=\"_top\" title=\"psysml:a039409c-dc44-4261-a761-133767375f35\" xlink:actuate=\"onRequest\" xlink:href=\"psysml:a039409c-dc44-4261-a761-133767375f35\" xlink:show=\"new\" xlink:title=\"psysml:a039409c-dc44-4261-a761-133767375f35\" xlink:type=\"simple\"><path d=\"M34.44,132.12 C33.8,134.6 23.9,174.52 42.47,194 C56.49,208.7 67.69,197.38 87.47,202 C126.23,211.05 141.48,203.31 173.47,227 C189.99,239.23 202.68,258.54 211.26,274.88 \" fill=\"none\" id=\"E1-&gt;E4\" style=\"stroke: #A80036; stroke-width: 1.0; stroke-dasharray: 7.0,7.0;\"/><polygon fill=\"#A80036\" points=\"213.58,279.4,213.0324,269.5664,211.2984,274.9509,205.9139,273.2169,213.58,279.4\" style=\"stroke: #A80036; stroke-width: 1.0;\"/><text fill=\"#000000\" font-family=\"sans-serif\" font-size=\"13\" lengthAdjust=\"spacingAndGlyphs\" textLength=\"65\" x=\"161.47\" y=\"215.0669\">«import»*</text></a><!--MD5=[ccbd3af71bf83df0ec2a2db62d6d7130]\n",
       "link E1 to E6--><a href=\"psysml:8872cc02-851e-450c-b3e8-f90f2e3db770\" target=\"_top\" title=\"psysml:8872cc02-851e-450c-b3e8-f90f2e3db770\" xlink:actuate=\"onRequest\" xlink:href=\"psysml:8872cc02-851e-450c-b3e8-f90f2e3db770\" xlink:show=\"new\" xlink:title=\"psysml:8872cc02-851e-450c-b3e8-f90f2e3db770\" xlink:type=\"simple\"><path d=\"M26.4129,145.0882 C26.2009,145.471 25.9871,145.8607 25.7715,146.257 C24.9093,147.8422 24.0204,149.5335 23.1235,151.3174 C21.3297,154.8852 19.5037,158.8231 17.795,163.0225 C10.96,179.82 6,200.8 12.47,219 C20.465,241.49 37.1375,262.37 52.2063,277.9238 C59.7406,285.7006 66.8741,292.1459 72.3214,296.7952 C73.0023,297.3763 73.6569,297.9294 74.2826,298.4535 \" fill=\"none\" id=\"E1-&gt;E6\" style=\"stroke: #A80036; stroke-width: 1.0; stroke-dasharray: 7.0,7.0;\"/><polygon fill=\"#A80036\" points=\"74.2826,298.4535,69.9517,289.608,70.4496,295.2429,64.8147,295.7408,74.2826,298.4535\" style=\"stroke: #A80036; stroke-width: 1.0;\"/><text fill=\"#000000\" font-family=\"sans-serif\" font-size=\"13\" lengthAdjust=\"spacingAndGlyphs\" textLength=\"65\" x=\"13.47\" y=\"215.0669\">«import»*</text></a><!--MD5=[bfa3c8b0d15052fdf50ae9310b491027]\n",
       "link E8 to E7--><a href=\"psysml:0934d2d2-1a49-4ac4-b6c0-cd8fa5ea19dd\" target=\"_top\" title=\"psysml:0934d2d2-1a49-4ac4-b6c0-cd8fa5ea19dd\" xlink:actuate=\"onRequest\" xlink:href=\"psysml:0934d2d2-1a49-4ac4-b6c0-cd8fa5ea19dd\" xlink:show=\"new\" xlink:title=\"psysml:0934d2d2-1a49-4ac4-b6c0-cd8fa5ea19dd\" xlink:type=\"simple\"><path d=\"M186.26,154.18 C195.87,167.21 209.39,183.19 224.47,194 C232.25,199.58 239.1,194.07 244.47,202 C248.71,208.26 249.55,213.41 244.47,219 C232.01,232.72 175.83,215.29 161.47,227 C149.88,236.45 143.77,251.37 140.59,265.63 \" fill=\"none\" id=\"E8-&gt;E7\" style=\"stroke: #A80036; stroke-width: 1.0;\"/><polygon fill=\"#FFFFFF\" points=\"137.7,285.68,133.4714,265.878,147.3292,267.8677,137.7,285.68\" style=\"stroke: #A80036; stroke-width: 1.0;\"/><ellipse cx=\"136.2611\" cy=\"260.5201\" fill=\"#A80036\" rx=\"2\" ry=\"2\" style=\"stroke: #A80036; stroke-width: 1.0;\"/><ellipse cx=\"146.1596\" cy=\"261.9413\" fill=\"#A80036\" rx=\"2\" ry=\"2\" style=\"stroke: #A80036; stroke-width: 1.0;\"/></a><!--MD5=[c2be97adba6ddfe1c8f349fab141c927]\n",
       "link E9 to E4--><a href=\"psysml:f0473cf2-6b9f-40e7-98be-e0cb9d304d8b\" target=\"_top\" title=\"psysml:f0473cf2-6b9f-40e7-98be-e0cb9d304d8b\" xlink:actuate=\"onRequest\" xlink:href=\"psysml:f0473cf2-6b9f-40e7-98be-e0cb9d304d8b\" xlink:show=\"new\" xlink:title=\"psysml:f0473cf2-6b9f-40e7-98be-e0cb9d304d8b\" xlink:type=\"simple\"><path d=\"M248.7703,178.2043 C248.7876,178.326 248.8048,178.4478 248.822,178.5697 C249.9231,186.3681 250.875,194.395 251.47,202 C252.06,209.53 252.61,211.53 251.47,219 C248.59,237.78 242.37,258.1 236.62,274.27 \" fill=\"none\" id=\"E9-&gt;E4\" style=\"stroke: #A80036; stroke-width: 1.0; stroke-dasharray: 7.0,7.0;\"/><polygon fill=\"#A80036\" points=\"234.86,279.14,241.6827,272.0372,236.5607,274.4381,234.1597,269.3161,234.86,279.14\" style=\"stroke: #A80036; stroke-width: 1.0;\"/><text fill=\"#000000\" font-family=\"sans-serif\" font-size=\"13\" lengthAdjust=\"spacingAndGlyphs\" textLength=\"65\" x=\"252.47\" y=\"215.0669\">«import»*</text></a><!--MD5=[feeac5eb423634930294aa81f2d25a4c]\n",
       "link E10 to E3--><a href=\"psysml:6083fff7-7e2a-4a1f-b6e0-00602bace9f4\" target=\"_top\" title=\"psysml:6083fff7-7e2a-4a1f-b6e0-00602bace9f4\" xlink:actuate=\"onRequest\" xlink:href=\"psysml:6083fff7-7e2a-4a1f-b6e0-00602bace9f4\" xlink:show=\"new\" xlink:title=\"psysml:6083fff7-7e2a-4a1f-b6e0-00602bace9f4\" xlink:type=\"simple\"><path d=\"M336.26,154.07 C355.77,172.75 375.96,199.52 358.47,219 C347.42,231.31 295.64,214.8 284.47,227 C270.64,242.1 274.48,370.79 277.46,437.39 \" fill=\"none\" id=\"E10-&gt;E3\" style=\"stroke: #A80036; stroke-width: 1.0;\"/><polygon fill=\"#FFFFFF\" points=\"278.43,457.71,270.5291,439.0666,284.5131,438.3969,278.43,457.71\" style=\"stroke: #A80036; stroke-width: 1.0;\"/><ellipse cx=\"272.2542\" cy=\"433.2775\" fill=\"#A80036\" rx=\"2\" ry=\"2\" style=\"stroke: #A80036; stroke-width: 1.0;\"/><ellipse cx=\"282.2427\" cy=\"432.7991\" fill=\"#A80036\" rx=\"2\" ry=\"2\" style=\"stroke: #A80036; stroke-width: 1.0;\"/></a><!--MD5=[d82562ba81e7a03bd21de122b37071d0]\n",
       "@startuml\r\n",
       " \r\n",
       "package \"PrivateImportTest\" as E1  [[psysml:56a08668-af7c-402b-8ea6-0ffeccd2e906 ]]  {\r\n",
       "package \"P1\" as E2  [[psysml:989134c5-5272-479d-a43e-5e5573119e0c ]]  {\r\n",
       "comp def \"A\" as E3 << << (B,green) >> [[psysml:1f011377-ef65-4253-92ff-be4f522feeb1 ]] {\r\n",
       "}\r\n",
       "}\r\n",
       "package \"P2\" as E4  [[psysml:7d907640-2982-4506-b0ab-4e4fe8a9afec ]]  {\r\n",
       "}\r\n",
       "comp usage \"x: A \" as E5 << << (P,limegreen) part>> [[psysml:4755439e-6dab-436e-bf4a-d220bd8663ba ]] {\r\n",
       "}\r\n",
       "package \"P3\" as E6  [[psysml:90563c83-8b6e-4371-ac3b-36c1983fe7e9 ]]  {\r\n",
       "comp def \"B\" as E7 << << (B,green) >> [[psysml:bdb8801b-74e6-41c7-b5f1-114cae898237 ]] {\r\n",
       "}\r\n",
       "}\r\n",
       "comp usage \"z: B \" as E8 << << (P,limegreen) part>> [[psysml:dfc306bc-28cd-4074-8d12-696a322e5955 ]] {\r\n",
       "}\r\n",
       "package \"P4\" as E9  [[psysml:2733cc0d-ab4e-4acc-aaf2-0d4d1c16697a ]]  {\r\n",
       "comp usage \"z1: A \" as E10 << << (P,limegreen) part>> [[psysml:aa943bbf-59d6-4c08-9403-21388691ca57 ]] {\r\n",
       "}\r\n",
       "}\r\n",
       "}\r\n",
       "E4 ..> E2 [[psysml:113e6c15-2e9f-43c2-9a8b-f1023998ecb3 ]] : <<import>>*\r\n",
       "E5 - -:|> E3 [[psysml:2e030f48-ed8d-4fbc-a256-8117ac7131ec ]] \r\n",
       "E1 ..> E4 [[psysml:a039409c-dc44-4261-a761-133767375f35 ]] : <<import>>*\r\n",
       "E1 ..> E6 [[psysml:8872cc02-851e-450c-b3e8-f90f2e3db770 ]] : <<import>>*\r\n",
       "E8 - -:|> E7 [[psysml:0934d2d2-1a49-4ac4-b6c0-cd8fa5ea19dd ]] \r\n",
       "E9 ..> E4 [[psysml:f0473cf2-6b9f-40e7-98be-e0cb9d304d8b ]] : <<import>>*\r\n",
       "E10 - -:|> E3 [[psysml:6083fff7-7e2a-4a1f-b6e0-00602bace9f4 ]] \r\n",
       "@enduml\r\n",
       "\n",
       "PlantUML version 1.2020.13(Sat Jun 13 12:26:38 UTC 2020)\n",
       "(EPL source distribution)\n",
       "Java Runtime: OpenJDK Runtime Environment\n",
       "JVM: OpenJDK 64-Bit Server VM\n",
       "Default Encoding: UTF-8\n",
       "Language: en\n",
       "Country: null\n",
       "--></g></svg>"
      ]
     },
     "execution_count": 36,
     "metadata": {},
     "output_type": "execute_result"
    }
   ],
   "source": [
    "%viz --style=\"PLANTUML\" --view=\"MIXED\" \"PrivateImportTest\""
   ]
  },
  {
   "cell_type": "code",
   "execution_count": 37,
   "id": "df30646a",
   "metadata": {
    "execution": {
     "iopub.execute_input": "2022-02-18T10:48:47.667646Z",
     "iopub.status.busy": "2022-02-18T10:48:47.667199Z",
     "iopub.status.idle": "2022-02-18T10:48:47.706806Z",
     "shell.execute_reply": "2022-02-18T10:48:47.706465Z"
    }
   },
   "outputs": [
    {
     "data": {
      "image/svg+xml": [
       "<?xml version=\"1.0\" encoding=\"UTF-8\" standalone=\"no\"?><svg xmlns=\"http://www.w3.org/2000/svg\" xmlns:xlink=\"http://www.w3.org/1999/xlink\" contentScriptType=\"application/ecmascript\" contentStyleType=\"text/css\" height=\"586px\" preserveAspectRatio=\"none\" style=\"width:433px;height:586px;\" version=\"1.1\" viewBox=\"0 0 433 586\" width=\"433px\" zoomAndPan=\"magnify\"><defs/><g><!--MD5=[fbc87193dbaf4d95561dea2c320d4a47]\n",
       "cluster E1--><a href=\"psysml:56a08668-af7c-402b-8ea6-0ffeccd2e906\" target=\"_top\" title=\"psysml:56a08668-af7c-402b-8ea6-0ffeccd2e906\" xlink:actuate=\"onRequest\" xlink:href=\"psysml:56a08668-af7c-402b-8ea6-0ffeccd2e906\" xlink:show=\"new\" xlink:title=\"psysml:56a08668-af7c-402b-8ea6-0ffeccd2e906\" xlink:type=\"simple\"><polygon fill=\"#FFFFFF\" points=\"26.32,6,153.32,6,160.32,28.2969,411.32,28.2969,411.32,574,26.32,574,26.32,6\" style=\"stroke: #000000; stroke-width: 1.5;\"/><line style=\"stroke: #000000; stroke-width: 1.5;\" x1=\"26.32\" x2=\"160.32\" y1=\"28.2969\" y2=\"28.2969\"/><text fill=\"#000000\" font-family=\"sans-serif\" font-size=\"14\" font-weight=\"bold\" lengthAdjust=\"spacingAndGlyphs\" textLength=\"121\" x=\"30.32\" y=\"20.9951\">PrivateImportTest</text></a><!--MD5=[e4f7fae6ed58524ba242bb0b0d3be6b7]\n",
       "cluster E2--><a href=\"psysml:989134c5-5272-479d-a43e-5e5573119e0c\" target=\"_top\" title=\"psysml:989134c5-5272-479d-a43e-5e5573119e0c\" xlink:actuate=\"onRequest\" xlink:href=\"psysml:989134c5-5272-479d-a43e-5e5573119e0c\" xlink:show=\"new\" xlink:title=\"psysml:989134c5-5272-479d-a43e-5e5573119e0c\" xlink:type=\"simple\"><polygon fill=\"#FFFFFF\" points=\"231.32,421,255.32,421,262.32,443.2969,368.32,443.2969,368.32,534,231.32,534,231.32,421\" style=\"stroke: #000000; stroke-width: 1.5;\"/><line style=\"stroke: #000000; stroke-width: 1.5;\" x1=\"231.32\" x2=\"262.32\" y1=\"443.2969\" y2=\"443.2969\"/><text fill=\"#000000\" font-family=\"sans-serif\" font-size=\"14\" font-weight=\"bold\" lengthAdjust=\"spacingAndGlyphs\" textLength=\"18\" x=\"235.32\" y=\"435.9951\">P1</text></a><!--MD5=[14e3b0961a2654348d326746436168a1]\n",
       "cluster E6--><a href=\"psysml:90563c83-8b6e-4371-ac3b-36c1983fe7e9\" target=\"_top\" title=\"psysml:90563c83-8b6e-4371-ac3b-36c1983fe7e9\" xlink:actuate=\"onRequest\" xlink:href=\"psysml:90563c83-8b6e-4371-ac3b-36c1983fe7e9\" xlink:show=\"new\" xlink:title=\"psysml:90563c83-8b6e-4371-ac3b-36c1983fe7e9\" xlink:type=\"simple\"><polygon fill=\"#FFFFFF\" points=\"74.32,243,98.32,243,105.32,265.2969,211.32,265.2969,211.32,356,74.32,356,74.32,243\" style=\"stroke: #000000; stroke-width: 1.5;\"/><line style=\"stroke: #000000; stroke-width: 1.5;\" x1=\"74.32\" x2=\"105.32\" y1=\"265.2969\" y2=\"265.2969\"/><text fill=\"#000000\" font-family=\"sans-serif\" font-size=\"14\" font-weight=\"bold\" lengthAdjust=\"spacingAndGlyphs\" textLength=\"18\" x=\"78.32\" y=\"257.9951\">P3</text></a><!--MD5=[7f149f147074ac12df2cb0a7728a5fb0]\n",
       "cluster E9--><a href=\"psysml:2733cc0d-ab4e-4acc-aaf2-0d4d1c16697a\" target=\"_top\" title=\"psysml:2733cc0d-ab4e-4acc-aaf2-0d4d1c16697a\" xlink:actuate=\"onRequest\" xlink:href=\"psysml:2733cc0d-ab4e-4acc-aaf2-0d4d1c16697a\" xlink:show=\"new\" xlink:title=\"psysml:2733cc0d-ab4e-4acc-aaf2-0d4d1c16697a\" xlink:type=\"simple\"><polygon fill=\"#FFFFFF\" points=\"262.32,65,286.32,65,293.32,87.2969,371.32,87.2969,371.32,178,262.32,178,262.32,65\" style=\"stroke: #000000; stroke-width: 1.5;\"/><line style=\"stroke: #000000; stroke-width: 1.5;\" x1=\"262.32\" x2=\"293.32\" y1=\"87.2969\" y2=\"87.2969\"/><text fill=\"#000000\" font-family=\"sans-serif\" font-size=\"14\" font-weight=\"bold\" lengthAdjust=\"spacingAndGlyphs\" textLength=\"18\" x=\"266.32\" y=\"79.9951\">P4</text></a><!--MD5=[270fce915f116d4de14055a7c1d9a0f3]\n",
       "class E5--><a href=\"psysml:4755439e-6dab-436e-bf4a-d220bd8663ba\" target=\"_top\" title=\"psysml:4755439e-6dab-436e-bf4a-d220bd8663ba\" xlink:actuate=\"onRequest\" xlink:href=\"psysml:4755439e-6dab-436e-bf4a-d220bd8663ba\" xlink:show=\"new\" xlink:title=\"psysml:4755439e-6dab-436e-bf4a-d220bd8663ba\" xlink:type=\"simple\"><rect fill=\"#FFFFFF\" height=\"45.9375\" id=\"E5\" rx=\"10\" ry=\"10\" style=\"stroke: #383838; stroke-width: 1.5;\" width=\"42\" x=\"345.32\" y=\"286\"/><text fill=\"#000000\" font-family=\"sans-serif\" font-size=\"12\" font-style=\"italic\" lengthAdjust=\"spacingAndGlyphs\" textLength=\"40\" x=\"346.32\" y=\"302.1387\">«part»</text><text fill=\"#000000\" font-family=\"sans-serif\" font-size=\"12\" lengthAdjust=\"spacingAndGlyphs\" textLength=\"22\" x=\"353.32\" y=\"316.1074\">x: A</text><line style=\"stroke: #383838; stroke-width: 1.5;\" x1=\"346.32\" x2=\"386.32\" y1=\"323.9375\" y2=\"323.9375\"/></a><!--MD5=[b9389687b975829384b498ac4b7476b2]\n",
       "class E8--><a href=\"psysml:dfc306bc-28cd-4074-8d12-696a322e5955\" target=\"_top\" title=\"psysml:dfc306bc-28cd-4074-8d12-696a322e5955\" xlink:actuate=\"onRequest\" xlink:href=\"psysml:dfc306bc-28cd-4074-8d12-696a322e5955\" xlink:show=\"new\" xlink:title=\"psysml:dfc306bc-28cd-4074-8d12-696a322e5955\" xlink:type=\"simple\"><rect fill=\"#FFFFFF\" height=\"45.9375\" id=\"E8\" rx=\"10\" ry=\"10\" style=\"stroke: #383838; stroke-width: 1.5;\" width=\"42\" x=\"193.32\" y=\"108\"/><text fill=\"#000000\" font-family=\"sans-serif\" font-size=\"12\" font-style=\"italic\" lengthAdjust=\"spacingAndGlyphs\" textLength=\"40\" x=\"194.32\" y=\"124.1387\">«part»</text><text fill=\"#000000\" font-family=\"sans-serif\" font-size=\"12\" lengthAdjust=\"spacingAndGlyphs\" textLength=\"21\" x=\"201.82\" y=\"138.1074\">z: B</text><line style=\"stroke: #383838; stroke-width: 1.5;\" x1=\"194.32\" x2=\"234.32\" y1=\"145.9375\" y2=\"145.9375\"/></a><!--MD5=[09b614a08d8cba4a07c9adeb5e0fee81]\n",
       "class E3--><a href=\"psysml:1f011377-ef65-4253-92ff-be4f522feeb1\" target=\"_top\" title=\"psysml:1f011377-ef65-4253-92ff-be4f522feeb1\" xlink:actuate=\"onRequest\" xlink:href=\"psysml:1f011377-ef65-4253-92ff-be4f522feeb1\" xlink:show=\"new\" xlink:title=\"psysml:1f011377-ef65-4253-92ff-be4f522feeb1\" xlink:type=\"simple\"><rect fill=\"#FFFFFF\" height=\"45.9375\" id=\"E3\" style=\"stroke: #383838; stroke-width: 1.5;\" width=\"70\" x=\"274.32\" y=\"464\"/><text fill=\"#000000\" font-family=\"sans-serif\" font-size=\"12\" font-style=\"italic\" lengthAdjust=\"spacingAndGlyphs\" textLength=\"68\" x=\"275.32\" y=\"480.1387\">«part  def»</text><text fill=\"#000000\" font-family=\"sans-serif\" font-size=\"12\" lengthAdjust=\"spacingAndGlyphs\" textLength=\"8\" x=\"305.32\" y=\"494.1074\">A</text><line style=\"stroke: #383838; stroke-width: 1.5;\" x1=\"275.32\" x2=\"343.32\" y1=\"501.9375\" y2=\"501.9375\"/></a><a href=\"psysml:7d907640-2982-4506-b0ab-4e4fe8a9afec\" target=\"_top\" title=\"psysml:7d907640-2982-4506-b0ab-4e4fe8a9afec\" xlink:actuate=\"onRequest\" xlink:href=\"psysml:7d907640-2982-4506-b0ab-4e4fe8a9afec\" xlink:show=\"new\" xlink:title=\"psysml:7d907640-2982-4506-b0ab-4e4fe8a9afec\" xlink:type=\"simple\"><polygon fill=\"#FFFFFF\" points=\"235.32,282.5,259.32,282.5,266.32,304.7969,273.32,304.7969,273.32,335.0938,235.32,335.0938,235.32,282.5\" style=\"stroke: #000000; stroke-width: 1.5;\"/><line style=\"stroke: #000000; stroke-width: 1.5;\" x1=\"235.32\" x2=\"266.32\" y1=\"304.7969\" y2=\"304.7969\"/><text fill=\"#000000\" font-family=\"sans-serif\" font-size=\"14\" font-weight=\"bold\" lengthAdjust=\"spacingAndGlyphs\" textLength=\"18\" x=\"239.32\" y=\"297.4951\">P2</text></a><!--MD5=[2156ba9850f5573cc1fc38a6a4b2f02b]\n",
       "class E7--><a href=\"psysml:bdb8801b-74e6-41c7-b5f1-114cae898237\" target=\"_top\" title=\"psysml:bdb8801b-74e6-41c7-b5f1-114cae898237\" xlink:actuate=\"onRequest\" xlink:href=\"psysml:bdb8801b-74e6-41c7-b5f1-114cae898237\" xlink:show=\"new\" xlink:title=\"psysml:bdb8801b-74e6-41c7-b5f1-114cae898237\" xlink:type=\"simple\"><rect fill=\"#FFFFFF\" height=\"45.9375\" id=\"E7\" style=\"stroke: #383838; stroke-width: 1.5;\" width=\"70\" x=\"117.32\" y=\"286\"/><text fill=\"#000000\" font-family=\"sans-serif\" font-size=\"12\" font-style=\"italic\" lengthAdjust=\"spacingAndGlyphs\" textLength=\"68\" x=\"118.32\" y=\"302.1387\">«part  def»</text><text fill=\"#000000\" font-family=\"sans-serif\" font-size=\"12\" lengthAdjust=\"spacingAndGlyphs\" textLength=\"8\" x=\"148.32\" y=\"316.1074\">B</text><line style=\"stroke: #383838; stroke-width: 1.5;\" x1=\"118.32\" x2=\"186.32\" y1=\"323.9375\" y2=\"323.9375\"/></a><!--MD5=[96f4274e9e20536e775497830990834d]\n",
       "class E10--><a href=\"psysml:aa943bbf-59d6-4c08-9403-21388691ca57\" target=\"_top\" title=\"psysml:aa943bbf-59d6-4c08-9403-21388691ca57\" xlink:actuate=\"onRequest\" xlink:href=\"psysml:aa943bbf-59d6-4c08-9403-21388691ca57\" xlink:show=\"new\" xlink:title=\"psysml:aa943bbf-59d6-4c08-9403-21388691ca57\" xlink:type=\"simple\"><rect fill=\"#FFFFFF\" height=\"45.9375\" id=\"E10\" rx=\"10\" ry=\"10\" style=\"stroke: #383838; stroke-width: 1.5;\" width=\"42\" x=\"305.32\" y=\"108\"/><text fill=\"#000000\" font-family=\"sans-serif\" font-size=\"12\" font-style=\"italic\" lengthAdjust=\"spacingAndGlyphs\" textLength=\"40\" x=\"306.32\" y=\"124.1387\">«part»</text><text fill=\"#000000\" font-family=\"sans-serif\" font-size=\"12\" lengthAdjust=\"spacingAndGlyphs\" textLength=\"29\" x=\"309.82\" y=\"138.1074\">z1: A</text><line style=\"stroke: #383838; stroke-width: 1.5;\" x1=\"306.32\" x2=\"346.32\" y1=\"145.9375\" y2=\"145.9375\"/></a><!--MD5=[185131fc0dcab0a4505a2ebe144e961b]\n",
       "link E4 to E2--><a href=\"psysml:113e6c15-2e9f-43c2-9a8b-f1023998ecb3\" target=\"_top\" title=\"psysml:113e6c15-2e9f-43c2-9a8b-f1023998ecb3\" xlink:actuate=\"onRequest\" xlink:href=\"psysml:113e6c15-2e9f-43c2-9a8b-f1023998ecb3\" xlink:show=\"new\" xlink:title=\"psysml:113e6c15-2e9f-43c2-9a8b-f1023998ecb3\" xlink:type=\"simple\"><path d=\"M244.71,335.52 C240.28,348.61 235.53,364.94 233.32,380 C231.6325,391.49 231.1388,403.7444 231.3534,415.6911 C231.3803,417.1844 231.4182,418.673 231.4662,420.1546 C231.4722,420.3398 231.4784,420.5249 231.4847,420.7099 \" fill=\"none\" id=\"E4-&gt;E2\" style=\"stroke: #383838; stroke-width: 1.0; stroke-dasharray: 7.0,7.0;\"/><polygon fill=\"#383838\" points=\"231.4847,420.7099,235.1752,411.5786,231.314,415.7128,227.1798,411.8517,231.4847,420.7099\" style=\"stroke: #383838; stroke-width: 1.0;\"/><text fill=\"#000000\" font-family=\"sans-serif\" font-size=\"13\" lengthAdjust=\"spacingAndGlyphs\" textLength=\"65\" x=\"234.32\" y=\"393.0669\">«import»*</text></a><!--MD5=[e9be52314489bd878ff4c7144b63c9e1]\n",
       "link E5 to E3--><a href=\"psysml:2e030f48-ed8d-4fbc-a256-8117ac7131ec\" target=\"_top\" title=\"psysml:2e030f48-ed8d-4fbc-a256-8117ac7131ec\" xlink:actuate=\"onRequest\" xlink:href=\"psysml:2e030f48-ed8d-4fbc-a256-8117ac7131ec\" xlink:show=\"new\" xlink:title=\"psysml:2e030f48-ed8d-4fbc-a256-8117ac7131ec\" xlink:type=\"simple\"><path d=\"M359.1,332.29 C349.98,360.46 334.1,409.49 322.72,444.61 \" fill=\"none\" id=\"E5-&gt;E3\" style=\"stroke: #383838; stroke-width: 1.0;\"/><polygon fill=\"#FFFFFF\" points=\"316.48,463.89,315.6693,443.6578,328.9893,447.9678,316.48,463.89\" style=\"stroke: #383838; stroke-width: 1.0;\"/><ellipse cx=\"319.3269\" cy=\"438.8503\" fill=\"#383838\" rx=\"2\" ry=\"2\" style=\"stroke: #383838; stroke-width: 1.0;\"/><ellipse cx=\"328.8413\" cy=\"441.9289\" fill=\"#383838\" rx=\"2\" ry=\"2\" style=\"stroke: #383838; stroke-width: 1.0;\"/></a><!--MD5=[ee384bb554873b72f85793eae40e290c]\n",
       "link E1 to E4--><a href=\"psysml:a039409c-dc44-4261-a761-133767375f35\" target=\"_top\" title=\"psysml:a039409c-dc44-4261-a761-133767375f35\" xlink:actuate=\"onRequest\" xlink:href=\"psysml:a039409c-dc44-4261-a761-133767375f35\" xlink:show=\"new\" xlink:title=\"psysml:a039409c-dc44-4261-a761-133767375f35\" xlink:type=\"simple\"><path d=\"M34.29,132.12 C33.65,134.6 23.75,174.52 42.32,194 C49.33,201.35 77.35,200.04 87.32,202 C113.19,207.09 181.71,211.88 203.32,227 C220.99,239.37 233.85,260.02 242.24,277.37 \" fill=\"none\" id=\"E1-&gt;E4\" style=\"stroke: #383838; stroke-width: 1.0; stroke-dasharray: 7.0,7.0;\"/><polygon fill=\"#383838\" points=\"244.49,282.17,244.3071,272.3228,242.3748,277.6394,237.0582,275.7072,244.49,282.17\" style=\"stroke: #383838; stroke-width: 1.0;\"/><text fill=\"#000000\" font-family=\"sans-serif\" font-size=\"13\" lengthAdjust=\"spacingAndGlyphs\" textLength=\"65\" x=\"183.32\" y=\"215.0669\">«import»*</text></a><!--MD5=[ccbd3af71bf83df0ec2a2db62d6d7130]\n",
       "link E1 to E6--><a href=\"psysml:8872cc02-851e-450c-b3e8-f90f2e3db770\" target=\"_top\" title=\"psysml:8872cc02-851e-450c-b3e8-f90f2e3db770\" xlink:actuate=\"onRequest\" xlink:href=\"psysml:8872cc02-851e-450c-b3e8-f90f2e3db770\" xlink:show=\"new\" xlink:title=\"psysml:8872cc02-851e-450c-b3e8-f90f2e3db770\" xlink:type=\"simple\"><path d=\"M26.1693,145.3513 C26.1165,145.4477 26.0635,145.5445 26.0105,145.6418 C25.9044,145.8363 25.7978,146.0325 25.6908,146.2304 C24.8349,147.8133 23.9523,149.5023 23.0614,151.284 C21.2797,154.8473 19.465,158.7813 17.765,162.9775 C10.965,179.7625 6,200.745 12.32,219 C20.295,242.035 36.9675,263.635 52.0413,279.7863 C59.5781,287.8619 66.7153,294.5753 72.1658,299.4248 C72.8471,300.031 73.502,300.6081 74.1281,301.1551 \" fill=\"none\" id=\"E1-&gt;E6\" style=\"stroke: #383838; stroke-width: 1.0; stroke-dasharray: 7.0,7.0;\"/><polygon fill=\"#383838\" points=\"74.1281,301.1551,69.982,292.2214,70.3627,297.8655,64.7187,298.2462,74.1281,301.1551\" style=\"stroke: #383838; stroke-width: 1.0;\"/><text fill=\"#000000\" font-family=\"sans-serif\" font-size=\"13\" lengthAdjust=\"spacingAndGlyphs\" textLength=\"65\" x=\"13.32\" y=\"215.0669\">«import»*</text></a><!--MD5=[bfa3c8b0d15052fdf50ae9310b491027]\n",
       "link E8 to E7--><a href=\"psysml:0934d2d2-1a49-4ac4-b6c0-cd8fa5ea19dd\" target=\"_top\" title=\"psysml:0934d2d2-1a49-4ac4-b6c0-cd8fa5ea19dd\" xlink:actuate=\"onRequest\" xlink:href=\"psysml:0934d2d2-1a49-4ac4-b6c0-cd8fa5ea19dd\" xlink:show=\"new\" xlink:title=\"psysml:0934d2d2-1a49-4ac4-b6c0-cd8fa5ea19dd\" xlink:type=\"simple\"><path d=\"M232.99,154.29 C246.61,173.37 260.16,200.59 244.32,219 C228.78,237.06 210.49,212.85 191.32,227 C178.2,236.69 169.29,251.96 163.34,266.65 \" fill=\"none\" id=\"E8-&gt;E7\" style=\"stroke: #383838; stroke-width: 1.0;\"/><polygon fill=\"#FFFFFF\" points=\"156.95,285.73,156.3404,265.4907,169.617,269.9329,156.95,285.73\" style=\"stroke: #383838; stroke-width: 1.0;\"/><ellipse cx=\"160.0457\" cy=\"260.7199\" fill=\"#383838\" rx=\"2\" ry=\"2\" style=\"stroke: #383838; stroke-width: 1.0;\"/><ellipse cx=\"169.5289\" cy=\"263.8929\" fill=\"#383838\" rx=\"2\" ry=\"2\" style=\"stroke: #383838; stroke-width: 1.0;\"/></a><!--MD5=[c2be97adba6ddfe1c8f349fab141c927]\n",
       "link E9 to E4--><a href=\"psysml:f0473cf2-6b9f-40e7-98be-e0cb9d304d8b\" target=\"_top\" title=\"psysml:f0473cf2-6b9f-40e7-98be-e0cb9d304d8b\" xlink:actuate=\"onRequest\" xlink:href=\"psysml:f0473cf2-6b9f-40e7-98be-e0cb9d304d8b\" xlink:show=\"new\" xlink:title=\"psysml:f0473cf2-6b9f-40e7-98be-e0cb9d304d8b\" xlink:type=\"simple\"><path d=\"M267.5431,178.2415 C267.5354,178.35 267.5276,178.4585 267.5198,178.5671 C267.3951,180.3034 267.2673,182.0417 267.1366,183.7729 C266.8753,187.2352 266.6025,190.6688 266.32,194 C263.93,222.21 260.49,254.26 257.9,277.18 \" fill=\"none\" id=\"E9-&gt;E4\" style=\"stroke: #383838; stroke-width: 1.0; stroke-dasharray: 7.0,7.0;\"/><polygon fill=\"#383838\" points=\"257.33,282.22,262.3075,273.7215,257.8869,277.2511,254.3572,272.8305,257.33,282.22\" style=\"stroke: #383838; stroke-width: 1.0;\"/><text fill=\"#000000\" font-family=\"sans-serif\" font-size=\"13\" lengthAdjust=\"spacingAndGlyphs\" textLength=\"65\" x=\"266.32\" y=\"215.0669\">«import»*</text></a><!--MD5=[feeac5eb423634930294aa81f2d25a4c]\n",
       "link E10 to E3--><a href=\"psysml:6083fff7-7e2a-4a1f-b6e0-00602bace9f4\" target=\"_top\" title=\"psysml:6083fff7-7e2a-4a1f-b6e0-00602bace9f4\" xlink:actuate=\"onRequest\" xlink:href=\"psysml:6083fff7-7e2a-4a1f-b6e0-00602bace9f4\" xlink:show=\"new\" xlink:title=\"psysml:6083fff7-7e2a-4a1f-b6e0-00602bace9f4\" xlink:type=\"simple\"><path d=\"M345.63,154.11 C359.77,173.07 373.99,200.22 358.32,219 C345.58,234.26 327.2,211.86 314.32,227 C300.64,243.07 304.33,374.79 307.28,443.95 \" fill=\"none\" id=\"E10-&gt;E3\" style=\"stroke: #383838; stroke-width: 1.0;\"/><polygon fill=\"#FFFFFF\" points=\"308.18,463.98,300.3317,445.3144,314.3175,444.6841,308.18,463.98\" style=\"stroke: #383838; stroke-width: 1.0;\"/><ellipse cx=\"302.0731\" cy=\"439.5301\" fill=\"#383838\" rx=\"2\" ry=\"2\" style=\"stroke: #383838; stroke-width: 1.0;\"/><ellipse cx=\"312.063\" cy=\"439.0799\" fill=\"#383838\" rx=\"2\" ry=\"2\" style=\"stroke: #383838; stroke-width: 1.0;\"/></a><!--MD5=[5ac26d579a4b3da4ab4b9a5099e89b85]\n",
       "@startuml\r\n",
       "skinparam monochrome true\r\n",
       "skinparam classbackgroundcolor white\r\n",
       "skinparam shadowing false\r\n",
       "skinparam wrapWidth 300\r\n",
       "hide circle\r\n",
       "\r\n",
       "package \"PrivateImportTest\" as E1  [[psysml:56a08668-af7c-402b-8ea6-0ffeccd2e906 ]]  {\r\n",
       "package \"P1\" as E2  [[psysml:989134c5-5272-479d-a43e-5e5573119e0c ]]  {\r\n",
       "comp def \"A\" as E3  <<(T,blue) part  def>> [[psysml:1f011377-ef65-4253-92ff-be4f522feeb1 ]] {\r\n",
       "}\r\n",
       "}\r\n",
       "package \"P2\" as E4  [[psysml:7d907640-2982-4506-b0ab-4e4fe8a9afec ]]  {\r\n",
       "}\r\n",
       "comp usage \"x: A \" as E5  <<(T,blue) part>> [[psysml:4755439e-6dab-436e-bf4a-d220bd8663ba ]] {\r\n",
       "}\r\n",
       "package \"P3\" as E6  [[psysml:90563c83-8b6e-4371-ac3b-36c1983fe7e9 ]]  {\r\n",
       "comp def \"B\" as E7  <<(T,blue) part  def>> [[psysml:bdb8801b-74e6-41c7-b5f1-114cae898237 ]] {\r\n",
       "}\r\n",
       "}\r\n",
       "comp usage \"z: B \" as E8  <<(T,blue) part>> [[psysml:dfc306bc-28cd-4074-8d12-696a322e5955 ]] {\r\n",
       "}\r\n",
       "package \"P4\" as E9  [[psysml:2733cc0d-ab4e-4acc-aaf2-0d4d1c16697a ]]  {\r\n",
       "comp usage \"z1: A \" as E10  <<(T,blue) part>> [[psysml:aa943bbf-59d6-4c08-9403-21388691ca57 ]] {\r\n",
       "}\r\n",
       "}\r\n",
       "}\r\n",
       "E4 ..> E2 [[psysml:113e6c15-2e9f-43c2-9a8b-f1023998ecb3 ]] : <<import>>*\r\n",
       "E5 - -:|> E3 [[psysml:2e030f48-ed8d-4fbc-a256-8117ac7131ec ]] \r\n",
       "E1 ..> E4 [[psysml:a039409c-dc44-4261-a761-133767375f35 ]] : <<import>>*\r\n",
       "E1 ..> E6 [[psysml:8872cc02-851e-450c-b3e8-f90f2e3db770 ]] : <<import>>*\r\n",
       "E8 - -:|> E7 [[psysml:0934d2d2-1a49-4ac4-b6c0-cd8fa5ea19dd ]] \r\n",
       "E9 ..> E4 [[psysml:f0473cf2-6b9f-40e7-98be-e0cb9d304d8b ]] : <<import>>*\r\n",
       "E10 - -:|> E3 [[psysml:6083fff7-7e2a-4a1f-b6e0-00602bace9f4 ]] \r\n",
       "@enduml\r\n",
       "\n",
       "PlantUML version 1.2020.13(Sat Jun 13 12:26:38 UTC 2020)\n",
       "(EPL source distribution)\n",
       "Java Runtime: OpenJDK Runtime Environment\n",
       "JVM: OpenJDK 64-Bit Server VM\n",
       "Default Encoding: UTF-8\n",
       "Language: en\n",
       "Country: null\n",
       "--></g></svg>"
      ]
     },
     "execution_count": 37,
     "metadata": {},
     "output_type": "execute_result"
    }
   ],
   "source": [
    "%viz --style=\"DEFAULT\" --view=\"Default\" \"PrivateImportTest\""
   ]
  },
  {
   "cell_type": "code",
   "execution_count": 38,
   "id": "5f024021",
   "metadata": {
    "execution": {
     "iopub.execute_input": "2022-02-18T10:48:47.756020Z",
     "iopub.status.busy": "2022-02-18T10:48:47.755613Z",
     "iopub.status.idle": "2022-02-18T10:48:47.795229Z",
     "shell.execute_reply": "2022-02-18T10:48:47.794853Z"
    }
   },
   "outputs": [
    {
     "data": {
      "image/svg+xml": [
       "<?xml version=\"1.0\" encoding=\"UTF-8\" standalone=\"no\"?><svg xmlns=\"http://www.w3.org/2000/svg\" xmlns:xlink=\"http://www.w3.org/1999/xlink\" contentScriptType=\"application/ecmascript\" contentStyleType=\"text/css\" height=\"586px\" preserveAspectRatio=\"none\" style=\"width:433px;height:586px;\" version=\"1.1\" viewBox=\"0 0 433 586\" width=\"433px\" zoomAndPan=\"magnify\"><defs/><g><!--MD5=[fbc87193dbaf4d95561dea2c320d4a47]\n",
       "cluster E1--><a href=\"psysml:56a08668-af7c-402b-8ea6-0ffeccd2e906\" target=\"_top\" title=\"psysml:56a08668-af7c-402b-8ea6-0ffeccd2e906\" xlink:actuate=\"onRequest\" xlink:href=\"psysml:56a08668-af7c-402b-8ea6-0ffeccd2e906\" xlink:show=\"new\" xlink:title=\"psysml:56a08668-af7c-402b-8ea6-0ffeccd2e906\" xlink:type=\"simple\"><polygon fill=\"#FFFFFF\" points=\"26.32,6,153.32,6,160.32,28.2969,411.32,28.2969,411.32,574,26.32,574,26.32,6\" style=\"stroke: #000000; stroke-width: 1.5;\"/><line style=\"stroke: #000000; stroke-width: 1.5;\" x1=\"26.32\" x2=\"160.32\" y1=\"28.2969\" y2=\"28.2969\"/><text fill=\"#000000\" font-family=\"sans-serif\" font-size=\"14\" font-weight=\"bold\" lengthAdjust=\"spacingAndGlyphs\" textLength=\"121\" x=\"30.32\" y=\"20.9951\">PrivateImportTest</text></a><!--MD5=[e4f7fae6ed58524ba242bb0b0d3be6b7]\n",
       "cluster E2--><a href=\"psysml:989134c5-5272-479d-a43e-5e5573119e0c\" target=\"_top\" title=\"psysml:989134c5-5272-479d-a43e-5e5573119e0c\" xlink:actuate=\"onRequest\" xlink:href=\"psysml:989134c5-5272-479d-a43e-5e5573119e0c\" xlink:show=\"new\" xlink:title=\"psysml:989134c5-5272-479d-a43e-5e5573119e0c\" xlink:type=\"simple\"><polygon fill=\"#FFFFFF\" points=\"231.32,421,255.32,421,262.32,443.2969,368.32,443.2969,368.32,534,231.32,534,231.32,421\" style=\"stroke: #000000; stroke-width: 1.5;\"/><line style=\"stroke: #000000; stroke-width: 1.5;\" x1=\"231.32\" x2=\"262.32\" y1=\"443.2969\" y2=\"443.2969\"/><text fill=\"#000000\" font-family=\"sans-serif\" font-size=\"14\" font-weight=\"bold\" lengthAdjust=\"spacingAndGlyphs\" textLength=\"18\" x=\"235.32\" y=\"435.9951\">P1</text></a><!--MD5=[14e3b0961a2654348d326746436168a1]\n",
       "cluster E6--><a href=\"psysml:90563c83-8b6e-4371-ac3b-36c1983fe7e9\" target=\"_top\" title=\"psysml:90563c83-8b6e-4371-ac3b-36c1983fe7e9\" xlink:actuate=\"onRequest\" xlink:href=\"psysml:90563c83-8b6e-4371-ac3b-36c1983fe7e9\" xlink:show=\"new\" xlink:title=\"psysml:90563c83-8b6e-4371-ac3b-36c1983fe7e9\" xlink:type=\"simple\"><polygon fill=\"#FFFFFF\" points=\"74.32,243,98.32,243,105.32,265.2969,211.32,265.2969,211.32,356,74.32,356,74.32,243\" style=\"stroke: #000000; stroke-width: 1.5;\"/><line style=\"stroke: #000000; stroke-width: 1.5;\" x1=\"74.32\" x2=\"105.32\" y1=\"265.2969\" y2=\"265.2969\"/><text fill=\"#000000\" font-family=\"sans-serif\" font-size=\"14\" font-weight=\"bold\" lengthAdjust=\"spacingAndGlyphs\" textLength=\"18\" x=\"78.32\" y=\"257.9951\">P3</text></a><!--MD5=[7f149f147074ac12df2cb0a7728a5fb0]\n",
       "cluster E9--><a href=\"psysml:2733cc0d-ab4e-4acc-aaf2-0d4d1c16697a\" target=\"_top\" title=\"psysml:2733cc0d-ab4e-4acc-aaf2-0d4d1c16697a\" xlink:actuate=\"onRequest\" xlink:href=\"psysml:2733cc0d-ab4e-4acc-aaf2-0d4d1c16697a\" xlink:show=\"new\" xlink:title=\"psysml:2733cc0d-ab4e-4acc-aaf2-0d4d1c16697a\" xlink:type=\"simple\"><polygon fill=\"#FFFFFF\" points=\"262.32,65,286.32,65,293.32,87.2969,371.32,87.2969,371.32,178,262.32,178,262.32,65\" style=\"stroke: #000000; stroke-width: 1.5;\"/><line style=\"stroke: #000000; stroke-width: 1.5;\" x1=\"262.32\" x2=\"293.32\" y1=\"87.2969\" y2=\"87.2969\"/><text fill=\"#000000\" font-family=\"sans-serif\" font-size=\"14\" font-weight=\"bold\" lengthAdjust=\"spacingAndGlyphs\" textLength=\"18\" x=\"266.32\" y=\"79.9951\">P4</text></a><!--MD5=[270fce915f116d4de14055a7c1d9a0f3]\n",
       "class E5--><a href=\"psysml:4755439e-6dab-436e-bf4a-d220bd8663ba\" target=\"_top\" title=\"psysml:4755439e-6dab-436e-bf4a-d220bd8663ba\" xlink:actuate=\"onRequest\" xlink:href=\"psysml:4755439e-6dab-436e-bf4a-d220bd8663ba\" xlink:show=\"new\" xlink:title=\"psysml:4755439e-6dab-436e-bf4a-d220bd8663ba\" xlink:type=\"simple\"><rect fill=\"#FFFFFF\" height=\"45.9375\" id=\"E5\" rx=\"10\" ry=\"10\" style=\"stroke: #383838; stroke-width: 1.5;\" width=\"42\" x=\"345.32\" y=\"286\"/><text fill=\"#000000\" font-family=\"sans-serif\" font-size=\"12\" font-style=\"italic\" lengthAdjust=\"spacingAndGlyphs\" textLength=\"40\" x=\"346.32\" y=\"302.1387\">«part»</text><text fill=\"#000000\" font-family=\"sans-serif\" font-size=\"12\" lengthAdjust=\"spacingAndGlyphs\" textLength=\"22\" x=\"353.32\" y=\"316.1074\">x: A</text><line style=\"stroke: #383838; stroke-width: 1.5;\" x1=\"346.32\" x2=\"386.32\" y1=\"323.9375\" y2=\"323.9375\"/></a><!--MD5=[b9389687b975829384b498ac4b7476b2]\n",
       "class E8--><a href=\"psysml:dfc306bc-28cd-4074-8d12-696a322e5955\" target=\"_top\" title=\"psysml:dfc306bc-28cd-4074-8d12-696a322e5955\" xlink:actuate=\"onRequest\" xlink:href=\"psysml:dfc306bc-28cd-4074-8d12-696a322e5955\" xlink:show=\"new\" xlink:title=\"psysml:dfc306bc-28cd-4074-8d12-696a322e5955\" xlink:type=\"simple\"><rect fill=\"#FFFFFF\" height=\"45.9375\" id=\"E8\" rx=\"10\" ry=\"10\" style=\"stroke: #383838; stroke-width: 1.5;\" width=\"42\" x=\"193.32\" y=\"108\"/><text fill=\"#000000\" font-family=\"sans-serif\" font-size=\"12\" font-style=\"italic\" lengthAdjust=\"spacingAndGlyphs\" textLength=\"40\" x=\"194.32\" y=\"124.1387\">«part»</text><text fill=\"#000000\" font-family=\"sans-serif\" font-size=\"12\" lengthAdjust=\"spacingAndGlyphs\" textLength=\"21\" x=\"201.82\" y=\"138.1074\">z: B</text><line style=\"stroke: #383838; stroke-width: 1.5;\" x1=\"194.32\" x2=\"234.32\" y1=\"145.9375\" y2=\"145.9375\"/></a><!--MD5=[09b614a08d8cba4a07c9adeb5e0fee81]\n",
       "class E3--><a href=\"psysml:1f011377-ef65-4253-92ff-be4f522feeb1\" target=\"_top\" title=\"psysml:1f011377-ef65-4253-92ff-be4f522feeb1\" xlink:actuate=\"onRequest\" xlink:href=\"psysml:1f011377-ef65-4253-92ff-be4f522feeb1\" xlink:show=\"new\" xlink:title=\"psysml:1f011377-ef65-4253-92ff-be4f522feeb1\" xlink:type=\"simple\"><rect fill=\"#FFFFFF\" height=\"45.9375\" id=\"E3\" style=\"stroke: #383838; stroke-width: 1.5;\" width=\"70\" x=\"274.32\" y=\"464\"/><text fill=\"#000000\" font-family=\"sans-serif\" font-size=\"12\" font-style=\"italic\" lengthAdjust=\"spacingAndGlyphs\" textLength=\"68\" x=\"275.32\" y=\"480.1387\">«part  def»</text><text fill=\"#000000\" font-family=\"sans-serif\" font-size=\"12\" lengthAdjust=\"spacingAndGlyphs\" textLength=\"8\" x=\"305.32\" y=\"494.1074\">A</text><line style=\"stroke: #383838; stroke-width: 1.5;\" x1=\"275.32\" x2=\"343.32\" y1=\"501.9375\" y2=\"501.9375\"/></a><a href=\"psysml:7d907640-2982-4506-b0ab-4e4fe8a9afec\" target=\"_top\" title=\"psysml:7d907640-2982-4506-b0ab-4e4fe8a9afec\" xlink:actuate=\"onRequest\" xlink:href=\"psysml:7d907640-2982-4506-b0ab-4e4fe8a9afec\" xlink:show=\"new\" xlink:title=\"psysml:7d907640-2982-4506-b0ab-4e4fe8a9afec\" xlink:type=\"simple\"><polygon fill=\"#FFFFFF\" points=\"235.32,282.5,259.32,282.5,266.32,304.7969,273.32,304.7969,273.32,335.0938,235.32,335.0938,235.32,282.5\" style=\"stroke: #000000; stroke-width: 1.5;\"/><line style=\"stroke: #000000; stroke-width: 1.5;\" x1=\"235.32\" x2=\"266.32\" y1=\"304.7969\" y2=\"304.7969\"/><text fill=\"#000000\" font-family=\"sans-serif\" font-size=\"14\" font-weight=\"bold\" lengthAdjust=\"spacingAndGlyphs\" textLength=\"18\" x=\"239.32\" y=\"297.4951\">P2</text></a><!--MD5=[2156ba9850f5573cc1fc38a6a4b2f02b]\n",
       "class E7--><a href=\"psysml:bdb8801b-74e6-41c7-b5f1-114cae898237\" target=\"_top\" title=\"psysml:bdb8801b-74e6-41c7-b5f1-114cae898237\" xlink:actuate=\"onRequest\" xlink:href=\"psysml:bdb8801b-74e6-41c7-b5f1-114cae898237\" xlink:show=\"new\" xlink:title=\"psysml:bdb8801b-74e6-41c7-b5f1-114cae898237\" xlink:type=\"simple\"><rect fill=\"#FFFFFF\" height=\"45.9375\" id=\"E7\" style=\"stroke: #383838; stroke-width: 1.5;\" width=\"70\" x=\"117.32\" y=\"286\"/><text fill=\"#000000\" font-family=\"sans-serif\" font-size=\"12\" font-style=\"italic\" lengthAdjust=\"spacingAndGlyphs\" textLength=\"68\" x=\"118.32\" y=\"302.1387\">«part  def»</text><text fill=\"#000000\" font-family=\"sans-serif\" font-size=\"12\" lengthAdjust=\"spacingAndGlyphs\" textLength=\"8\" x=\"148.32\" y=\"316.1074\">B</text><line style=\"stroke: #383838; stroke-width: 1.5;\" x1=\"118.32\" x2=\"186.32\" y1=\"323.9375\" y2=\"323.9375\"/></a><!--MD5=[96f4274e9e20536e775497830990834d]\n",
       "class E10--><a href=\"psysml:aa943bbf-59d6-4c08-9403-21388691ca57\" target=\"_top\" title=\"psysml:aa943bbf-59d6-4c08-9403-21388691ca57\" xlink:actuate=\"onRequest\" xlink:href=\"psysml:aa943bbf-59d6-4c08-9403-21388691ca57\" xlink:show=\"new\" xlink:title=\"psysml:aa943bbf-59d6-4c08-9403-21388691ca57\" xlink:type=\"simple\"><rect fill=\"#FFFFFF\" height=\"45.9375\" id=\"E10\" rx=\"10\" ry=\"10\" style=\"stroke: #383838; stroke-width: 1.5;\" width=\"42\" x=\"305.32\" y=\"108\"/><text fill=\"#000000\" font-family=\"sans-serif\" font-size=\"12\" font-style=\"italic\" lengthAdjust=\"spacingAndGlyphs\" textLength=\"40\" x=\"306.32\" y=\"124.1387\">«part»</text><text fill=\"#000000\" font-family=\"sans-serif\" font-size=\"12\" lengthAdjust=\"spacingAndGlyphs\" textLength=\"29\" x=\"309.82\" y=\"138.1074\">z1: A</text><line style=\"stroke: #383838; stroke-width: 1.5;\" x1=\"306.32\" x2=\"346.32\" y1=\"145.9375\" y2=\"145.9375\"/></a><!--MD5=[185131fc0dcab0a4505a2ebe144e961b]\n",
       "link E4 to E2--><a href=\"psysml:113e6c15-2e9f-43c2-9a8b-f1023998ecb3\" target=\"_top\" title=\"psysml:113e6c15-2e9f-43c2-9a8b-f1023998ecb3\" xlink:actuate=\"onRequest\" xlink:href=\"psysml:113e6c15-2e9f-43c2-9a8b-f1023998ecb3\" xlink:show=\"new\" xlink:title=\"psysml:113e6c15-2e9f-43c2-9a8b-f1023998ecb3\" xlink:type=\"simple\"><path d=\"M244.71,335.52 C240.28,348.61 235.53,364.94 233.32,380 C231.6325,391.49 231.1388,403.7444 231.3534,415.6911 C231.3803,417.1844 231.4182,418.673 231.4662,420.1546 C231.4722,420.3398 231.4784,420.5249 231.4847,420.7099 \" fill=\"none\" id=\"E4-&gt;E2\" style=\"stroke: #383838; stroke-width: 1.0; stroke-dasharray: 7.0,7.0;\"/><polygon fill=\"#383838\" points=\"231.4847,420.7099,235.1752,411.5786,231.314,415.7128,227.1798,411.8517,231.4847,420.7099\" style=\"stroke: #383838; stroke-width: 1.0;\"/><text fill=\"#000000\" font-family=\"sans-serif\" font-size=\"13\" lengthAdjust=\"spacingAndGlyphs\" textLength=\"65\" x=\"234.32\" y=\"393.0669\">«import»*</text></a><!--MD5=[e9be52314489bd878ff4c7144b63c9e1]\n",
       "link E5 to E3--><a href=\"psysml:2e030f48-ed8d-4fbc-a256-8117ac7131ec\" target=\"_top\" title=\"psysml:2e030f48-ed8d-4fbc-a256-8117ac7131ec\" xlink:actuate=\"onRequest\" xlink:href=\"psysml:2e030f48-ed8d-4fbc-a256-8117ac7131ec\" xlink:show=\"new\" xlink:title=\"psysml:2e030f48-ed8d-4fbc-a256-8117ac7131ec\" xlink:type=\"simple\"><path d=\"M359.1,332.29 C349.98,360.46 334.1,409.49 322.72,444.61 \" fill=\"none\" id=\"E5-&gt;E3\" style=\"stroke: #383838; stroke-width: 1.0;\"/><polygon fill=\"#FFFFFF\" points=\"316.48,463.89,315.6693,443.6578,328.9893,447.9678,316.48,463.89\" style=\"stroke: #383838; stroke-width: 1.0;\"/><ellipse cx=\"319.3269\" cy=\"438.8503\" fill=\"#383838\" rx=\"2\" ry=\"2\" style=\"stroke: #383838; stroke-width: 1.0;\"/><ellipse cx=\"328.8413\" cy=\"441.9289\" fill=\"#383838\" rx=\"2\" ry=\"2\" style=\"stroke: #383838; stroke-width: 1.0;\"/></a><!--MD5=[ee384bb554873b72f85793eae40e290c]\n",
       "link E1 to E4--><a href=\"psysml:a039409c-dc44-4261-a761-133767375f35\" target=\"_top\" title=\"psysml:a039409c-dc44-4261-a761-133767375f35\" xlink:actuate=\"onRequest\" xlink:href=\"psysml:a039409c-dc44-4261-a761-133767375f35\" xlink:show=\"new\" xlink:title=\"psysml:a039409c-dc44-4261-a761-133767375f35\" xlink:type=\"simple\"><path d=\"M34.29,132.12 C33.65,134.6 23.75,174.52 42.32,194 C49.33,201.35 77.35,200.04 87.32,202 C113.19,207.09 181.71,211.88 203.32,227 C220.99,239.37 233.85,260.02 242.24,277.37 \" fill=\"none\" id=\"E1-&gt;E4\" style=\"stroke: #383838; stroke-width: 1.0; stroke-dasharray: 7.0,7.0;\"/><polygon fill=\"#383838\" points=\"244.49,282.17,244.3071,272.3228,242.3748,277.6394,237.0582,275.7072,244.49,282.17\" style=\"stroke: #383838; stroke-width: 1.0;\"/><text fill=\"#000000\" font-family=\"sans-serif\" font-size=\"13\" lengthAdjust=\"spacingAndGlyphs\" textLength=\"65\" x=\"183.32\" y=\"215.0669\">«import»*</text></a><!--MD5=[ccbd3af71bf83df0ec2a2db62d6d7130]\n",
       "link E1 to E6--><a href=\"psysml:8872cc02-851e-450c-b3e8-f90f2e3db770\" target=\"_top\" title=\"psysml:8872cc02-851e-450c-b3e8-f90f2e3db770\" xlink:actuate=\"onRequest\" xlink:href=\"psysml:8872cc02-851e-450c-b3e8-f90f2e3db770\" xlink:show=\"new\" xlink:title=\"psysml:8872cc02-851e-450c-b3e8-f90f2e3db770\" xlink:type=\"simple\"><path d=\"M26.1693,145.3513 C26.1165,145.4477 26.0635,145.5445 26.0105,145.6418 C25.9044,145.8363 25.7978,146.0325 25.6908,146.2304 C24.8349,147.8133 23.9523,149.5023 23.0614,151.284 C21.2797,154.8473 19.465,158.7813 17.765,162.9775 C10.965,179.7625 6,200.745 12.32,219 C20.295,242.035 36.9675,263.635 52.0413,279.7863 C59.5781,287.8619 66.7153,294.5753 72.1658,299.4248 C72.8471,300.031 73.502,300.6081 74.1281,301.1551 \" fill=\"none\" id=\"E1-&gt;E6\" style=\"stroke: #383838; stroke-width: 1.0; stroke-dasharray: 7.0,7.0;\"/><polygon fill=\"#383838\" points=\"74.1281,301.1551,69.982,292.2214,70.3627,297.8655,64.7187,298.2462,74.1281,301.1551\" style=\"stroke: #383838; stroke-width: 1.0;\"/><text fill=\"#000000\" font-family=\"sans-serif\" font-size=\"13\" lengthAdjust=\"spacingAndGlyphs\" textLength=\"65\" x=\"13.32\" y=\"215.0669\">«import»*</text></a><!--MD5=[bfa3c8b0d15052fdf50ae9310b491027]\n",
       "link E8 to E7--><a href=\"psysml:0934d2d2-1a49-4ac4-b6c0-cd8fa5ea19dd\" target=\"_top\" title=\"psysml:0934d2d2-1a49-4ac4-b6c0-cd8fa5ea19dd\" xlink:actuate=\"onRequest\" xlink:href=\"psysml:0934d2d2-1a49-4ac4-b6c0-cd8fa5ea19dd\" xlink:show=\"new\" xlink:title=\"psysml:0934d2d2-1a49-4ac4-b6c0-cd8fa5ea19dd\" xlink:type=\"simple\"><path d=\"M232.99,154.29 C246.61,173.37 260.16,200.59 244.32,219 C228.78,237.06 210.49,212.85 191.32,227 C178.2,236.69 169.29,251.96 163.34,266.65 \" fill=\"none\" id=\"E8-&gt;E7\" style=\"stroke: #383838; stroke-width: 1.0;\"/><polygon fill=\"#FFFFFF\" points=\"156.95,285.73,156.3404,265.4907,169.617,269.9329,156.95,285.73\" style=\"stroke: #383838; stroke-width: 1.0;\"/><ellipse cx=\"160.0457\" cy=\"260.7199\" fill=\"#383838\" rx=\"2\" ry=\"2\" style=\"stroke: #383838; stroke-width: 1.0;\"/><ellipse cx=\"169.5289\" cy=\"263.8929\" fill=\"#383838\" rx=\"2\" ry=\"2\" style=\"stroke: #383838; stroke-width: 1.0;\"/></a><!--MD5=[c2be97adba6ddfe1c8f349fab141c927]\n",
       "link E9 to E4--><a href=\"psysml:f0473cf2-6b9f-40e7-98be-e0cb9d304d8b\" target=\"_top\" title=\"psysml:f0473cf2-6b9f-40e7-98be-e0cb9d304d8b\" xlink:actuate=\"onRequest\" xlink:href=\"psysml:f0473cf2-6b9f-40e7-98be-e0cb9d304d8b\" xlink:show=\"new\" xlink:title=\"psysml:f0473cf2-6b9f-40e7-98be-e0cb9d304d8b\" xlink:type=\"simple\"><path d=\"M267.5431,178.2415 C267.5354,178.35 267.5276,178.4585 267.5198,178.5671 C267.3951,180.3034 267.2673,182.0417 267.1366,183.7729 C266.8753,187.2352 266.6025,190.6688 266.32,194 C263.93,222.21 260.49,254.26 257.9,277.18 \" fill=\"none\" id=\"E9-&gt;E4\" style=\"stroke: #383838; stroke-width: 1.0; stroke-dasharray: 7.0,7.0;\"/><polygon fill=\"#383838\" points=\"257.33,282.22,262.3075,273.7215,257.8869,277.2511,254.3572,272.8305,257.33,282.22\" style=\"stroke: #383838; stroke-width: 1.0;\"/><text fill=\"#000000\" font-family=\"sans-serif\" font-size=\"13\" lengthAdjust=\"spacingAndGlyphs\" textLength=\"65\" x=\"266.32\" y=\"215.0669\">«import»*</text></a><!--MD5=[feeac5eb423634930294aa81f2d25a4c]\n",
       "link E10 to E3--><a href=\"psysml:6083fff7-7e2a-4a1f-b6e0-00602bace9f4\" target=\"_top\" title=\"psysml:6083fff7-7e2a-4a1f-b6e0-00602bace9f4\" xlink:actuate=\"onRequest\" xlink:href=\"psysml:6083fff7-7e2a-4a1f-b6e0-00602bace9f4\" xlink:show=\"new\" xlink:title=\"psysml:6083fff7-7e2a-4a1f-b6e0-00602bace9f4\" xlink:type=\"simple\"><path d=\"M345.63,154.11 C359.77,173.07 373.99,200.22 358.32,219 C345.58,234.26 327.2,211.86 314.32,227 C300.64,243.07 304.33,374.79 307.28,443.95 \" fill=\"none\" id=\"E10-&gt;E3\" style=\"stroke: #383838; stroke-width: 1.0;\"/><polygon fill=\"#FFFFFF\" points=\"308.18,463.98,300.3317,445.3144,314.3175,444.6841,308.18,463.98\" style=\"stroke: #383838; stroke-width: 1.0;\"/><ellipse cx=\"302.0731\" cy=\"439.5301\" fill=\"#383838\" rx=\"2\" ry=\"2\" style=\"stroke: #383838; stroke-width: 1.0;\"/><ellipse cx=\"312.063\" cy=\"439.0799\" fill=\"#383838\" rx=\"2\" ry=\"2\" style=\"stroke: #383838; stroke-width: 1.0;\"/></a><!--MD5=[5ac26d579a4b3da4ab4b9a5099e89b85]\n",
       "@startuml\r\n",
       "skinparam monochrome true\r\n",
       "skinparam classbackgroundcolor white\r\n",
       "skinparam shadowing false\r\n",
       "skinparam wrapWidth 300\r\n",
       "hide circle\r\n",
       "\r\n",
       "package \"PrivateImportTest\" as E1  [[psysml:56a08668-af7c-402b-8ea6-0ffeccd2e906 ]]  {\r\n",
       "package \"P1\" as E2  [[psysml:989134c5-5272-479d-a43e-5e5573119e0c ]]  {\r\n",
       "comp def \"A\" as E3  <<(T,blue) part  def>> [[psysml:1f011377-ef65-4253-92ff-be4f522feeb1 ]] {\r\n",
       "}\r\n",
       "}\r\n",
       "package \"P2\" as E4  [[psysml:7d907640-2982-4506-b0ab-4e4fe8a9afec ]]  {\r\n",
       "}\r\n",
       "comp usage \"x: A \" as E5  <<(T,blue) part>> [[psysml:4755439e-6dab-436e-bf4a-d220bd8663ba ]] {\r\n",
       "}\r\n",
       "package \"P3\" as E6  [[psysml:90563c83-8b6e-4371-ac3b-36c1983fe7e9 ]]  {\r\n",
       "comp def \"B\" as E7  <<(T,blue) part  def>> [[psysml:bdb8801b-74e6-41c7-b5f1-114cae898237 ]] {\r\n",
       "}\r\n",
       "}\r\n",
       "comp usage \"z: B \" as E8  <<(T,blue) part>> [[psysml:dfc306bc-28cd-4074-8d12-696a322e5955 ]] {\r\n",
       "}\r\n",
       "package \"P4\" as E9  [[psysml:2733cc0d-ab4e-4acc-aaf2-0d4d1c16697a ]]  {\r\n",
       "comp usage \"z1: A \" as E10  <<(T,blue) part>> [[psysml:aa943bbf-59d6-4c08-9403-21388691ca57 ]] {\r\n",
       "}\r\n",
       "}\r\n",
       "}\r\n",
       "E4 ..> E2 [[psysml:113e6c15-2e9f-43c2-9a8b-f1023998ecb3 ]] : <<import>>*\r\n",
       "E5 - -:|> E3 [[psysml:2e030f48-ed8d-4fbc-a256-8117ac7131ec ]] \r\n",
       "E1 ..> E4 [[psysml:a039409c-dc44-4261-a761-133767375f35 ]] : <<import>>*\r\n",
       "E1 ..> E6 [[psysml:8872cc02-851e-450c-b3e8-f90f2e3db770 ]] : <<import>>*\r\n",
       "E8 - -:|> E7 [[psysml:0934d2d2-1a49-4ac4-b6c0-cd8fa5ea19dd ]] \r\n",
       "E9 ..> E4 [[psysml:f0473cf2-6b9f-40e7-98be-e0cb9d304d8b ]] : <<import>>*\r\n",
       "E10 - -:|> E3 [[psysml:6083fff7-7e2a-4a1f-b6e0-00602bace9f4 ]] \r\n",
       "@enduml\r\n",
       "\n",
       "PlantUML version 1.2020.13(Sat Jun 13 12:26:38 UTC 2020)\n",
       "(EPL source distribution)\n",
       "Java Runtime: OpenJDK Runtime Environment\n",
       "JVM: OpenJDK 64-Bit Server VM\n",
       "Default Encoding: UTF-8\n",
       "Language: en\n",
       "Country: null\n",
       "--></g></svg>"
      ]
     },
     "execution_count": 38,
     "metadata": {},
     "output_type": "execute_result"
    }
   ],
   "source": [
    "%viz --style=\"DEFAULT\" --view=\"Tree\" \"PrivateImportTest\""
   ]
  },
  {
   "cell_type": "code",
   "execution_count": 39,
   "id": "c7020b88",
   "metadata": {
    "execution": {
     "iopub.execute_input": "2022-02-18T10:48:47.844737Z",
     "iopub.status.busy": "2022-02-18T10:48:47.844310Z",
     "iopub.status.idle": "2022-02-18T10:48:47.848721Z",
     "shell.execute_reply": "2022-02-18T10:48:47.848384Z"
    }
   },
   "outputs": [
    {
     "data": {
      "image/svg+xml": [
       "<?xml version=\"1.0\" encoding=\"UTF-8\" standalone=\"no\"?><svg xmlns=\"http://www.w3.org/2000/svg\" xmlns:xlink=\"http://www.w3.org/1999/xlink\" contentScriptType=\"application/ecmascript\" contentStyleType=\"text/css\" height=\"12px\" preserveAspectRatio=\"none\" style=\"width:12px;height:12px;\" version=\"1.1\" viewBox=\"0 0 12 12\" width=\"12px\" zoomAndPan=\"magnify\"><defs/><g><!--MD5=[c5f280e076d0d61ccf4b0f27871bda1d]\n",
       "@startuml\r\n",
       "skinparam monochrome true\r\n",
       "skinparam classbackgroundcolor white\r\n",
       "skinparam shadowing false\r\n",
       "skinparam wrapWidth 300\r\n",
       "hide circle\r\n",
       "\r\n",
       "@enduml\r\n",
       "\n",
       "PlantUML version 1.2020.13(Sat Jun 13 12:26:38 UTC 2020)\n",
       "(EPL source distribution)\n",
       "Java Runtime: OpenJDK Runtime Environment\n",
       "JVM: OpenJDK 64-Bit Server VM\n",
       "Default Encoding: UTF-8\n",
       "Language: en\n",
       "Country: null\n",
       "--></g></svg>"
      ]
     },
     "execution_count": 39,
     "metadata": {},
     "output_type": "execute_result"
    }
   ],
   "source": [
    "%viz --style=\"DEFAULT\" --view=\"State\" \"PrivateImportTest\""
   ]
  },
  {
   "cell_type": "code",
   "execution_count": 40,
   "id": "ea23f98c",
   "metadata": {
    "execution": {
     "iopub.execute_input": "2022-02-18T10:48:47.898855Z",
     "iopub.status.busy": "2022-02-18T10:48:47.898425Z",
     "iopub.status.idle": "2022-02-18T10:48:47.940022Z",
     "shell.execute_reply": "2022-02-18T10:48:47.938612Z"
    }
   },
   "outputs": [
    {
     "data": {
      "image/svg+xml": [
       "<?xml version=\"1.0\" encoding=\"UTF-8\" standalone=\"no\"?><svg xmlns=\"http://www.w3.org/2000/svg\" xmlns:xlink=\"http://www.w3.org/1999/xlink\" contentScriptType=\"application/ecmascript\" contentStyleType=\"text/css\" height=\"521px\" preserveAspectRatio=\"none\" style=\"width:684px;height:521px;\" version=\"1.1\" viewBox=\"0 0 684 521\" width=\"684px\" zoomAndPan=\"magnify\"><defs/><g><!--MD5=[fbc87193dbaf4d95561dea2c320d4a47]\n",
       "cluster E1--><a href=\"psysml:56a08668-af7c-402b-8ea6-0ffeccd2e906\" target=\"_top\" title=\"psysml:56a08668-af7c-402b-8ea6-0ffeccd2e906\" xlink:actuate=\"onRequest\" xlink:href=\"psysml:56a08668-af7c-402b-8ea6-0ffeccd2e906\" xlink:show=\"new\" xlink:title=\"psysml:56a08668-af7c-402b-8ea6-0ffeccd2e906\" xlink:type=\"simple\"><polygon fill=\"#FFFFFF\" points=\"16,6,143,6,150,28.2969,662,28.2969,662,509.72,16,509.72,16,6\" style=\"stroke: #000000; stroke-width: 1.5;\"/><line style=\"stroke: #000000; stroke-width: 1.5;\" x1=\"16\" x2=\"150\" y1=\"28.2969\" y2=\"28.2969\"/><text fill=\"#000000\" font-family=\"sans-serif\" font-size=\"14\" font-weight=\"bold\" lengthAdjust=\"spacingAndGlyphs\" textLength=\"121\" x=\"20\" y=\"20.9951\">PrivateImportTest</text></a><!--MD5=[e4f7fae6ed58524ba242bb0b0d3be6b7]\n",
       "cluster E2--><a href=\"psysml:989134c5-5272-479d-a43e-5e5573119e0c\" target=\"_top\" title=\"psysml:989134c5-5272-479d-a43e-5e5573119e0c\" xlink:actuate=\"onRequest\" xlink:href=\"psysml:989134c5-5272-479d-a43e-5e5573119e0c\" xlink:show=\"new\" xlink:title=\"psysml:989134c5-5272-479d-a43e-5e5573119e0c\" xlink:type=\"simple\"><polygon fill=\"#FFFFFF\" points=\"221,359.72,245,359.72,252,382.0169,363,382.0169,363,469.72,221,469.72,221,359.72\" style=\"stroke: #000000; stroke-width: 1.5;\"/><line style=\"stroke: #000000; stroke-width: 1.5;\" x1=\"221\" x2=\"252\" y1=\"382.0169\" y2=\"382.0169\"/><text fill=\"#000000\" font-family=\"sans-serif\" font-size=\"14\" font-weight=\"bold\" lengthAdjust=\"spacingAndGlyphs\" textLength=\"18\" x=\"225\" y=\"374.7151\">P1</text></a><!--MD5=[14e3b0961a2654348d326746436168a1]\n",
       "cluster E6--><a href=\"psysml:90563c83-8b6e-4371-ac3b-36c1983fe7e9\" target=\"_top\" title=\"psysml:90563c83-8b6e-4371-ac3b-36c1983fe7e9\" xlink:actuate=\"onRequest\" xlink:href=\"psysml:90563c83-8b6e-4371-ac3b-36c1983fe7e9\" xlink:show=\"new\" xlink:title=\"psysml:90563c83-8b6e-4371-ac3b-36c1983fe7e9\" xlink:type=\"simple\"><polygon fill=\"#FFFFFF\" points=\"480,98.72,504,98.72,511,121.0169,622,121.0169,622,208.72,480,208.72,480,98.72\" style=\"stroke: #000000; stroke-width: 1.5;\"/><line style=\"stroke: #000000; stroke-width: 1.5;\" x1=\"480\" x2=\"511\" y1=\"121.0169\" y2=\"121.0169\"/><text fill=\"#000000\" font-family=\"sans-serif\" font-size=\"14\" font-weight=\"bold\" lengthAdjust=\"spacingAndGlyphs\" textLength=\"18\" x=\"484\" y=\"113.7151\">P3</text></a><!--MD5=[7f149f147074ac12df2cb0a7728a5fb0]\n",
       "cluster E9--><a href=\"psysml:2733cc0d-ab4e-4acc-aaf2-0d4d1c16697a\" target=\"_top\" title=\"psysml:2733cc0d-ab4e-4acc-aaf2-0d4d1c16697a\" xlink:actuate=\"onRequest\" xlink:href=\"psysml:2733cc0d-ab4e-4acc-aaf2-0d4d1c16697a\" xlink:show=\"new\" xlink:title=\"psysml:2733cc0d-ab4e-4acc-aaf2-0d4d1c16697a\" xlink:type=\"simple\"><polygon fill=\"#FFFFFF\" points=\"323,100.22,347,100.22,354,122.5169,440,122.5169,440,207.22,323,207.22,323,100.22\" style=\"stroke: #000000; stroke-width: 1.5;\"/><line style=\"stroke: #000000; stroke-width: 1.5;\" x1=\"323\" x2=\"354\" y1=\"122.5169\" y2=\"122.5169\"/><text fill=\"#000000\" font-family=\"sans-serif\" font-size=\"14\" font-weight=\"bold\" lengthAdjust=\"spacingAndGlyphs\" textLength=\"18\" x=\"327\" y=\"115.2151\">P4</text></a><g id=\"E1.E2.E3\"><a href=\"psysml:1f011377-ef65-4253-92ff-be4f522feeb1\" target=\"_top\" title=\"psysml:1f011377-ef65-4253-92ff-be4f522feeb1\" xlink:actuate=\"onRequest\" xlink:href=\"psysml:1f011377-ef65-4253-92ff-be4f522feeb1\" xlink:show=\"new\" xlink:title=\"psysml:1f011377-ef65-4253-92ff-be4f522feeb1\" xlink:type=\"simple\"><rect fill=\"#FFFFFF\" height=\"42.9375\" id=\"E3\" style=\"stroke: #383838; stroke-width: 1.5;\" width=\"75\" x=\"264.5\" y=\"402.72\"/><rect fill=\"#F8F8F8\" height=\"37.9375\" style=\"stroke: #383838; stroke-width: 1.5;\" width=\"75\" x=\"264.5\" y=\"402.72\"/><text fill=\"#000000\" font-family=\"sans-serif\" font-size=\"12\" font-style=\"italic\" lengthAdjust=\"spacingAndGlyphs\" textLength=\"68\" x=\"268\" y=\"418.8587\">«part  def»</text><text fill=\"#000000\" font-family=\"sans-serif\" font-size=\"12\" lengthAdjust=\"spacingAndGlyphs\" textLength=\"8\" x=\"298\" y=\"432.8274\">A</text></a></g><a href=\"psysml:7d907640-2982-4506-b0ab-4e4fe8a9afec\" target=\"_top\" title=\"psysml:7d907640-2982-4506-b0ab-4e4fe8a9afec\" xlink:actuate=\"onRequest\" xlink:href=\"psysml:7d907640-2982-4506-b0ab-4e4fe8a9afec\" xlink:show=\"new\" xlink:title=\"psysml:7d907640-2982-4506-b0ab-4e4fe8a9afec\" xlink:type=\"simple\"><polygon fill=\"#FFFFFF\" points=\"210,257.72,234,257.72,241,280.0169,248,280.0169,248,310.3138,210,310.3138,210,257.72\" style=\"stroke: #000000; stroke-width: 1.5;\"/><line style=\"stroke: #000000; stroke-width: 1.5;\" x1=\"210\" x2=\"241\" y1=\"280.0169\" y2=\"280.0169\"/><text fill=\"#000000\" font-family=\"sans-serif\" font-size=\"14\" font-weight=\"bold\" lengthAdjust=\"spacingAndGlyphs\" textLength=\"18\" x=\"214\" y=\"272.7151\">P2</text></a><g id=\"E1.E5\"><a href=\"psysml:4755439e-6dab-436e-bf4a-d220bd8663ba\" target=\"_top\" title=\"psysml:4755439e-6dab-436e-bf4a-d220bd8663ba\" xlink:actuate=\"onRequest\" xlink:href=\"psysml:4755439e-6dab-436e-bf4a-d220bd8663ba\" xlink:show=\"new\" xlink:title=\"psysml:4755439e-6dab-436e-bf4a-d220bd8663ba\" xlink:type=\"simple\"><rect fill=\"#FFFFFF\" height=\"40\" id=\"E5\" rx=\"10\" ry=\"10\" style=\"stroke: #383838; stroke-width: 1.5;\" width=\"50\" x=\"246\" y=\"143.22\"/><rect fill=\"#F8F8F8\" height=\"23.9688\" rx=\"10\" ry=\"10\" style=\"stroke: #F8F8F8; stroke-width: 1.5;\" width=\"50\" x=\"246\" y=\"143.22\"/><rect fill=\"#F8F8F8\" height=\"10\" style=\"stroke: #F8F8F8; stroke-width: 1.5;\" width=\"50\" x=\"246\" y=\"157.1888\"/><rect fill=\"none\" height=\"40\" id=\"E5\" rx=\"10\" ry=\"10\" style=\"stroke: #383838; stroke-width: 1.5;\" width=\"50\" x=\"246\" y=\"143.22\"/><text fill=\"#000000\" font-family=\"sans-serif\" font-size=\"12\" lengthAdjust=\"spacingAndGlyphs\" textLength=\"22\" x=\"260\" y=\"159.3587\">x: A</text></a></g><g id=\"E1.E6.E7\"><a href=\"psysml:bdb8801b-74e6-41c7-b5f1-114cae898237\" target=\"_top\" title=\"psysml:bdb8801b-74e6-41c7-b5f1-114cae898237\" xlink:actuate=\"onRequest\" xlink:href=\"psysml:bdb8801b-74e6-41c7-b5f1-114cae898237\" xlink:show=\"new\" xlink:title=\"psysml:bdb8801b-74e6-41c7-b5f1-114cae898237\" xlink:type=\"simple\"><rect fill=\"#FFFFFF\" height=\"42.9375\" id=\"E7\" style=\"stroke: #383838; stroke-width: 1.5;\" width=\"75\" x=\"523.5\" y=\"141.72\"/><rect fill=\"#F8F8F8\" height=\"37.9375\" style=\"stroke: #383838; stroke-width: 1.5;\" width=\"75\" x=\"523.5\" y=\"141.72\"/><text fill=\"#000000\" font-family=\"sans-serif\" font-size=\"12\" font-style=\"italic\" lengthAdjust=\"spacingAndGlyphs\" textLength=\"68\" x=\"527\" y=\"157.8587\">«part  def»</text><text fill=\"#000000\" font-family=\"sans-serif\" font-size=\"12\" lengthAdjust=\"spacingAndGlyphs\" textLength=\"8\" x=\"557\" y=\"171.8274\">B</text></a></g><g id=\"E1.E8\"><a href=\"psysml:dfc306bc-28cd-4074-8d12-696a322e5955\" target=\"_top\" title=\"psysml:dfc306bc-28cd-4074-8d12-696a322e5955\" xlink:actuate=\"onRequest\" xlink:href=\"psysml:dfc306bc-28cd-4074-8d12-696a322e5955\" xlink:show=\"new\" xlink:title=\"psysml:dfc306bc-28cd-4074-8d12-696a322e5955\" xlink:type=\"simple\"><rect fill=\"#FFFFFF\" height=\"40\" id=\"E8\" rx=\"10\" ry=\"10\" style=\"stroke: #383838; stroke-width: 1.5;\" width=\"50\" x=\"161\" y=\"143.22\"/><rect fill=\"#F8F8F8\" height=\"23.9688\" rx=\"10\" ry=\"10\" style=\"stroke: #F8F8F8; stroke-width: 1.5;\" width=\"50\" x=\"161\" y=\"143.22\"/><rect fill=\"#F8F8F8\" height=\"10\" style=\"stroke: #F8F8F8; stroke-width: 1.5;\" width=\"50\" x=\"161\" y=\"157.1888\"/><rect fill=\"none\" height=\"40\" id=\"E8\" rx=\"10\" ry=\"10\" style=\"stroke: #383838; stroke-width: 1.5;\" width=\"50\" x=\"161\" y=\"143.22\"/><text fill=\"#000000\" font-family=\"sans-serif\" font-size=\"12\" lengthAdjust=\"spacingAndGlyphs\" textLength=\"21\" x=\"175.5\" y=\"159.3587\">z: B</text></a></g><g id=\"E1.E9.E10\"><a href=\"psysml:aa943bbf-59d6-4c08-9403-21388691ca57\" target=\"_top\" title=\"psysml:aa943bbf-59d6-4c08-9403-21388691ca57\" xlink:actuate=\"onRequest\" xlink:href=\"psysml:aa943bbf-59d6-4c08-9403-21388691ca57\" xlink:show=\"new\" xlink:title=\"psysml:aa943bbf-59d6-4c08-9403-21388691ca57\" xlink:type=\"simple\"><rect fill=\"#FFFFFF\" height=\"40\" id=\"E10\" rx=\"10\" ry=\"10\" style=\"stroke: #383838; stroke-width: 1.5;\" width=\"50\" x=\"366\" y=\"143.22\"/><rect fill=\"#F8F8F8\" height=\"23.9688\" rx=\"10\" ry=\"10\" style=\"stroke: #F8F8F8; stroke-width: 1.5;\" width=\"50\" x=\"366\" y=\"143.22\"/><rect fill=\"#F8F8F8\" height=\"10\" style=\"stroke: #F8F8F8; stroke-width: 1.5;\" width=\"50\" x=\"366\" y=\"157.1888\"/><rect fill=\"none\" height=\"40\" id=\"E10\" rx=\"10\" ry=\"10\" style=\"stroke: #383838; stroke-width: 1.5;\" width=\"50\" x=\"366\" y=\"143.22\"/><text fill=\"#000000\" font-family=\"sans-serif\" font-size=\"12\" lengthAdjust=\"spacingAndGlyphs\" textLength=\"29\" x=\"376.5\" y=\"159.3587\">z1: A</text></a></g><!--MD5=[185131fc0dcab0a4505a2ebe144e961b]\n",
       "link E4 to E2--><a href=\"psysml:113e6c15-2e9f-43c2-9a8b-f1023998ecb3\" target=\"_top\" title=\"psysml:113e6c15-2e9f-43c2-9a8b-f1023998ecb3\" xlink:actuate=\"onRequest\" xlink:href=\"psysml:113e6c15-2e9f-43c2-9a8b-f1023998ecb3\" xlink:show=\"new\" xlink:title=\"psysml:113e6c15-2e9f-43c2-9a8b-f1023998ecb3\" xlink:type=\"simple\"><path d=\"M229,310.85 C229,320.6725 229,332.4656 229,344.6647 C229,347.7145 229,350.7896 229,353.8656 C229,355.4037 229,356.9419 229,358.4774 C229,358.8612 229,359.2449 229,359.6284 \" fill=\"none\" id=\"E4-&gt;E2\" style=\"stroke: #383838; stroke-width: 1.0; stroke-dasharray: 7.0,7.0;\"/><polygon fill=\"#383838\" points=\"229,359.6284,233,350.6284,229,354.6284,225,350.6284,229,359.6284\" style=\"stroke: #383838; stroke-width: 1.0;\"/><text fill=\"#000000\" font-family=\"sans-serif\" font-size=\"13\" lengthAdjust=\"spacingAndGlyphs\" textLength=\"65\" x=\"230\" y=\"331.7869\">«import»*</text></a><!--MD5=[ee384bb554873b72f85793eae40e290c]\n",
       "link E1 to E4--><a href=\"psysml:a039409c-dc44-4261-a761-133767375f35\" target=\"_top\" title=\"psysml:a039409c-dc44-4261-a761-133767375f35\" xlink:actuate=\"onRequest\" xlink:href=\"psysml:a039409c-dc44-4261-a761-133767375f35\" xlink:show=\"new\" xlink:title=\"psysml:a039409c-dc44-4261-a761-133767375f35\" xlink:type=\"simple\"><path d=\"M175.95,33.72 C173.76,33.59 103.7,29.68 77,66.72 C35.94,123.69 37.25,166.83 77,224.72 C105.87,266.76 169.5,278.6 204.59,281.93 \" fill=\"none\" id=\"E1-&gt;E4\" style=\"stroke: #383838; stroke-width: 1.0; stroke-dasharray: 7.0,7.0;\"/><polygon fill=\"#383838\" points=\"209.96,282.39,201.3368,277.6318,204.9785,281.9606,200.6497,285.6022,209.96,282.39\" style=\"stroke: #383838; stroke-width: 1.0;\"/><text fill=\"#000000\" font-family=\"sans-serif\" font-size=\"13\" lengthAdjust=\"spacingAndGlyphs\" textLength=\"65\" x=\"78\" y=\"167.7869\">«import»*</text></a><!--MD5=[ccbd3af71bf83df0ec2a2db62d6d7130]\n",
       "link E1 to E6--><a href=\"psysml:8872cc02-851e-450c-b3e8-f90f2e3db770\" target=\"_top\" title=\"psysml:8872cc02-851e-450c-b3e8-f90f2e3db770\" xlink:actuate=\"onRequest\" xlink:href=\"psysml:8872cc02-851e-450c-b3e8-f90f2e3db770\" xlink:show=\"new\" xlink:title=\"psysml:8872cc02-851e-450c-b3e8-f90f2e3db770\" xlink:type=\"simple\"><path d=\"M176.15,33.72 C182.47,33.77 384.9,35.57 432,66.72 C452.2,80.08 466.0825,103.4225 474.9725,123.685 C476.0837,126.2178 477.117,128.7025 478.0748,131.1135 C478.5537,132.3191 479.0138,133.5062 479.4553,134.6717 C479.5657,134.9631 479.6749,135.2531 479.783,135.5417 C479.837,135.6861 479.8908,135.83 479.9442,135.9736 \" fill=\"none\" id=\"E1-&gt;E6\" style=\"stroke: #383838; stroke-width: 1.0; stroke-dasharray: 7.0,7.0;\"/><polygon fill=\"#383838\" points=\"479.9442,135.9736,480.5531,126.1436,478.1999,131.2878,473.0557,128.9345,479.9442,135.9736\" style=\"stroke: #383838; stroke-width: 1.0;\"/><text fill=\"#000000\" font-family=\"sans-serif\" font-size=\"13\" lengthAdjust=\"spacingAndGlyphs\" textLength=\"65\" x=\"414\" y=\"54.7869\">«import»*</text></a><!--MD5=[c2be97adba6ddfe1c8f349fab141c927]\n",
       "link E9 to E4--><a href=\"psysml:f0473cf2-6b9f-40e7-98be-e0cb9d304d8b\" target=\"_top\" title=\"psysml:f0473cf2-6b9f-40e7-98be-e0cb9d304d8b\" xlink:actuate=\"onRequest\" xlink:href=\"psysml:f0473cf2-6b9f-40e7-98be-e0cb9d304d8b\" xlink:show=\"new\" xlink:title=\"psysml:f0473cf2-6b9f-40e7-98be-e0cb9d304d8b\" xlink:type=\"simple\"><path d=\"M333.2513,207.4285 C333.1775,207.8356 333.1,208.2422 333.0186,208.6479 C332.8558,209.4593 332.6776,210.2676 332.4829,211.0712 C332.0936,212.6783 331.6386,214.2668 331.1103,215.8251 C330.0536,218.9417 328.7038,221.9375 327,224.72 C310.48,251.7 276.46,267.78 253.18,276.06 \" fill=\"none\" id=\"E9-&gt;E4\" style=\"stroke: #383838; stroke-width: 1.0; stroke-dasharray: 7.0,7.0;\"/><polygon fill=\"#383838\" points=\"248.39,277.71,258.202,278.5612,253.1175,276.0818,255.5969,270.9973,248.39,277.71\" style=\"stroke: #383838; stroke-width: 1.0;\"/><text fill=\"#000000\" font-family=\"sans-serif\" font-size=\"13\" lengthAdjust=\"spacingAndGlyphs\" textLength=\"65\" x=\"320\" y=\"245.7869\">«import»*</text></a><!--MD5=[3e7cced86f94b4479c63cf375eec0630]\n",
       "@startuml\r\n",
       "skinparam ranksep 10\r\n",
       "skinparam rectangle {\r\n",
       " backgroundColor<<block>> LightGreen\r\n",
       "}\r\n",
       "skinparam monochrome true\r\n",
       "skinparam classbackgroundcolor white\r\n",
       "skinparam shadowing false\r\n",
       "skinparam wrapWidth 300\r\n",
       "hide circle\r\n",
       "\r\n",
       "package \"PrivateImportTest\" as E1  [[psysml:56a08668-af7c-402b-8ea6-0ffeccd2e906 ]]  {\r\n",
       "package \"P1\" as E2  [[psysml:989134c5-5272-479d-a43e-5e5573119e0c ]]  {\r\n",
       "rec def \"A\" as E3  <<(T,blue) part  def>> [[psysml:1f011377-ef65-4253-92ff-be4f522feeb1 ]] {\r\n",
       "}\r\n",
       "}\r\n",
       "package \"P2\" as E4  [[psysml:7d907640-2982-4506-b0ab-4e4fe8a9afec ]]  {\r\n",
       "}\r\n",
       "rec usage \"x: A\" as E5  [[psysml:4755439e-6dab-436e-bf4a-d220bd8663ba ]] {\r\n",
       "}\r\n",
       "package \"P3\" as E6  [[psysml:90563c83-8b6e-4371-ac3b-36c1983fe7e9 ]]  {\r\n",
       "rec def \"B\" as E7  <<(T,blue) part  def>> [[psysml:bdb8801b-74e6-41c7-b5f1-114cae898237 ]] {\r\n",
       "}\r\n",
       "}\r\n",
       "rec usage \"z: B\" as E8  [[psysml:dfc306bc-28cd-4074-8d12-696a322e5955 ]] {\r\n",
       "}\r\n",
       "package \"P4\" as E9  [[psysml:2733cc0d-ab4e-4acc-aaf2-0d4d1c16697a ]]  {\r\n",
       "rec usage \"z1: A\" as E10  [[psysml:aa943bbf-59d6-4c08-9403-21388691ca57 ]] {\r\n",
       "}\r\n",
       "}\r\n",
       "}\r\n",
       "E4 ..> E2 [[psysml:113e6c15-2e9f-43c2-9a8b-f1023998ecb3 ]] : <<import>>*\r\n",
       "E1 ..> E4 [[psysml:a039409c-dc44-4261-a761-133767375f35 ]] : <<import>>*\r\n",
       "E1 ..> E6 [[psysml:8872cc02-851e-450c-b3e8-f90f2e3db770 ]] : <<import>>*\r\n",
       "E9 ..> E4 [[psysml:f0473cf2-6b9f-40e7-98be-e0cb9d304d8b ]] : <<import>>*\r\n",
       "@enduml\r\n",
       "\n",
       "PlantUML version 1.2020.13(Sat Jun 13 12:26:38 UTC 2020)\n",
       "(EPL source distribution)\n",
       "Java Runtime: OpenJDK Runtime Environment\n",
       "JVM: OpenJDK 64-Bit Server VM\n",
       "Default Encoding: UTF-8\n",
       "Language: en\n",
       "Country: null\n",
       "--></g></svg>"
      ]
     },
     "execution_count": 40,
     "metadata": {},
     "output_type": "execute_result"
    }
   ],
   "source": [
    "%viz --style=\"DEFAULT\" --view=\"Interconnection\" \"PrivateImportTest\""
   ]
  },
  {
   "cell_type": "code",
   "execution_count": 41,
   "id": "c814a9b4",
   "metadata": {
    "execution": {
     "iopub.execute_input": "2022-02-18T10:48:47.989603Z",
     "iopub.status.busy": "2022-02-18T10:48:47.989171Z",
     "iopub.status.idle": "2022-02-18T10:48:47.993497Z",
     "shell.execute_reply": "2022-02-18T10:48:47.993160Z"
    }
   },
   "outputs": [
    {
     "data": {
      "image/svg+xml": [
       "<?xml version=\"1.0\" encoding=\"UTF-8\" standalone=\"no\"?><svg xmlns=\"http://www.w3.org/2000/svg\" xmlns:xlink=\"http://www.w3.org/1999/xlink\" contentScriptType=\"application/ecmascript\" contentStyleType=\"text/css\" height=\"12px\" preserveAspectRatio=\"none\" style=\"width:12px;height:12px;\" version=\"1.1\" viewBox=\"0 0 12 12\" width=\"12px\" zoomAndPan=\"magnify\"><defs/><g><!--MD5=[388f21188e31bfdd97050473b19af356]\n",
       "@startuml\r\n",
       "skinparam ranksep 8\r\n",
       "skinparam monochrome true\r\n",
       "skinparam classbackgroundcolor white\r\n",
       "skinparam shadowing false\r\n",
       "skinparam wrapWidth 300\r\n",
       "hide circle\r\n",
       "\r\n",
       "@enduml\r\n",
       "\n",
       "PlantUML version 1.2020.13(Sat Jun 13 12:26:38 UTC 2020)\n",
       "(EPL source distribution)\n",
       "Java Runtime: OpenJDK Runtime Environment\n",
       "JVM: OpenJDK 64-Bit Server VM\n",
       "Default Encoding: UTF-8\n",
       "Language: en\n",
       "Country: null\n",
       "--></g></svg>"
      ]
     },
     "execution_count": 41,
     "metadata": {},
     "output_type": "execute_result"
    }
   ],
   "source": [
    "%viz --style=\"DEFAULT\" --view=\"Action\" \"PrivateImportTest\""
   ]
  },
  {
   "cell_type": "code",
   "execution_count": 42,
   "id": "e058bb9b",
   "metadata": {
    "execution": {
     "iopub.execute_input": "2022-02-18T10:48:48.043207Z",
     "iopub.status.busy": "2022-02-18T10:48:48.042816Z",
     "iopub.status.idle": "2022-02-18T10:48:48.047279Z",
     "shell.execute_reply": "2022-02-18T10:48:48.046934Z"
    }
   },
   "outputs": [
    {
     "data": {
      "image/svg+xml": [
       "<?xml version=\"1.0\" encoding=\"UTF-8\" standalone=\"no\"?><svg xmlns=\"http://www.w3.org/2000/svg\" xmlns:xlink=\"http://www.w3.org/1999/xlink\" contentScriptType=\"application/ecmascript\" contentStyleType=\"text/css\" height=\"12px\" preserveAspectRatio=\"none\" style=\"width:12px;height:12px;\" version=\"1.1\" viewBox=\"0 0 12 12\" width=\"12px\" zoomAndPan=\"magnify\"><defs/><g><!--MD5=[0b72472770326784bf6c2b53246e1e64]\n",
       "@startuml\r\n",
       "skinparam roundcorner 20\r\n",
       "skinparam BoxPadding 20\r\n",
       "skinparam SequenceBoxBackgroundColor #white\r\n",
       "skinparam style strictuml\r\n",
       "skinparam maxMessageSize 100\r\n",
       "skinparam monochrome true\r\n",
       "skinparam classbackgroundcolor white\r\n",
       "skinparam shadowing false\r\n",
       "skinparam wrapWidth 300\r\n",
       "hide circle\r\n",
       "\r\n",
       "@enduml\r\n",
       "\n",
       "PlantUML version 1.2020.13(Sat Jun 13 12:26:38 UTC 2020)\n",
       "(EPL source distribution)\n",
       "Java Runtime: OpenJDK Runtime Environment\n",
       "JVM: OpenJDK 64-Bit Server VM\n",
       "Default Encoding: UTF-8\n",
       "Language: en\n",
       "Country: null\n",
       "--></g></svg>"
      ]
     },
     "execution_count": 42,
     "metadata": {},
     "output_type": "execute_result"
    }
   ],
   "source": [
    "%viz --style=\"DEFAULT\" --view=\"Sequence\" \"PrivateImportTest\""
   ]
  },
  {
   "cell_type": "code",
   "execution_count": 43,
   "id": "e0fd61de",
   "metadata": {
    "execution": {
     "iopub.execute_input": "2022-02-18T10:48:48.097135Z",
     "iopub.status.busy": "2022-02-18T10:48:48.096736Z",
     "iopub.status.idle": "2022-02-18T10:48:48.132885Z",
     "shell.execute_reply": "2022-02-18T10:48:48.132534Z"
    }
   },
   "outputs": [
    {
     "data": {
      "image/svg+xml": [
       "<?xml version=\"1.0\" encoding=\"UTF-8\" standalone=\"no\"?><svg xmlns=\"http://www.w3.org/2000/svg\" xmlns:xlink=\"http://www.w3.org/1999/xlink\" contentScriptType=\"application/ecmascript\" contentStyleType=\"text/css\" height=\"586px\" preserveAspectRatio=\"none\" style=\"width:433px;height:586px;\" version=\"1.1\" viewBox=\"0 0 433 586\" width=\"433px\" zoomAndPan=\"magnify\"><defs/><g><!--MD5=[fbc87193dbaf4d95561dea2c320d4a47]\n",
       "cluster E1--><a href=\"psysml:56a08668-af7c-402b-8ea6-0ffeccd2e906\" target=\"_top\" title=\"psysml:56a08668-af7c-402b-8ea6-0ffeccd2e906\" xlink:actuate=\"onRequest\" xlink:href=\"psysml:56a08668-af7c-402b-8ea6-0ffeccd2e906\" xlink:show=\"new\" xlink:title=\"psysml:56a08668-af7c-402b-8ea6-0ffeccd2e906\" xlink:type=\"simple\"><polygon fill=\"#FFFFFF\" points=\"26.32,6,153.32,6,160.32,28.2969,411.32,28.2969,411.32,574,26.32,574,26.32,6\" style=\"stroke: #000000; stroke-width: 1.5;\"/><line style=\"stroke: #000000; stroke-width: 1.5;\" x1=\"26.32\" x2=\"160.32\" y1=\"28.2969\" y2=\"28.2969\"/><text fill=\"#000000\" font-family=\"sans-serif\" font-size=\"14\" font-weight=\"bold\" lengthAdjust=\"spacingAndGlyphs\" textLength=\"121\" x=\"30.32\" y=\"20.9951\">PrivateImportTest</text></a><!--MD5=[e4f7fae6ed58524ba242bb0b0d3be6b7]\n",
       "cluster E2--><a href=\"psysml:989134c5-5272-479d-a43e-5e5573119e0c\" target=\"_top\" title=\"psysml:989134c5-5272-479d-a43e-5e5573119e0c\" xlink:actuate=\"onRequest\" xlink:href=\"psysml:989134c5-5272-479d-a43e-5e5573119e0c\" xlink:show=\"new\" xlink:title=\"psysml:989134c5-5272-479d-a43e-5e5573119e0c\" xlink:type=\"simple\"><polygon fill=\"#FFFFFF\" points=\"231.32,421,255.32,421,262.32,443.2969,368.32,443.2969,368.32,534,231.32,534,231.32,421\" style=\"stroke: #000000; stroke-width: 1.5;\"/><line style=\"stroke: #000000; stroke-width: 1.5;\" x1=\"231.32\" x2=\"262.32\" y1=\"443.2969\" y2=\"443.2969\"/><text fill=\"#000000\" font-family=\"sans-serif\" font-size=\"14\" font-weight=\"bold\" lengthAdjust=\"spacingAndGlyphs\" textLength=\"18\" x=\"235.32\" y=\"435.9951\">P1</text></a><!--MD5=[14e3b0961a2654348d326746436168a1]\n",
       "cluster E6--><a href=\"psysml:90563c83-8b6e-4371-ac3b-36c1983fe7e9\" target=\"_top\" title=\"psysml:90563c83-8b6e-4371-ac3b-36c1983fe7e9\" xlink:actuate=\"onRequest\" xlink:href=\"psysml:90563c83-8b6e-4371-ac3b-36c1983fe7e9\" xlink:show=\"new\" xlink:title=\"psysml:90563c83-8b6e-4371-ac3b-36c1983fe7e9\" xlink:type=\"simple\"><polygon fill=\"#FFFFFF\" points=\"74.32,243,98.32,243,105.32,265.2969,211.32,265.2969,211.32,356,74.32,356,74.32,243\" style=\"stroke: #000000; stroke-width: 1.5;\"/><line style=\"stroke: #000000; stroke-width: 1.5;\" x1=\"74.32\" x2=\"105.32\" y1=\"265.2969\" y2=\"265.2969\"/><text fill=\"#000000\" font-family=\"sans-serif\" font-size=\"14\" font-weight=\"bold\" lengthAdjust=\"spacingAndGlyphs\" textLength=\"18\" x=\"78.32\" y=\"257.9951\">P3</text></a><!--MD5=[7f149f147074ac12df2cb0a7728a5fb0]\n",
       "cluster E9--><a href=\"psysml:2733cc0d-ab4e-4acc-aaf2-0d4d1c16697a\" target=\"_top\" title=\"psysml:2733cc0d-ab4e-4acc-aaf2-0d4d1c16697a\" xlink:actuate=\"onRequest\" xlink:href=\"psysml:2733cc0d-ab4e-4acc-aaf2-0d4d1c16697a\" xlink:show=\"new\" xlink:title=\"psysml:2733cc0d-ab4e-4acc-aaf2-0d4d1c16697a\" xlink:type=\"simple\"><polygon fill=\"#FFFFFF\" points=\"262.32,65,286.32,65,293.32,87.2969,371.32,87.2969,371.32,178,262.32,178,262.32,65\" style=\"stroke: #000000; stroke-width: 1.5;\"/><line style=\"stroke: #000000; stroke-width: 1.5;\" x1=\"262.32\" x2=\"293.32\" y1=\"87.2969\" y2=\"87.2969\"/><text fill=\"#000000\" font-family=\"sans-serif\" font-size=\"14\" font-weight=\"bold\" lengthAdjust=\"spacingAndGlyphs\" textLength=\"18\" x=\"266.32\" y=\"79.9951\">P4</text></a><!--MD5=[270fce915f116d4de14055a7c1d9a0f3]\n",
       "class E5--><a href=\"psysml:4755439e-6dab-436e-bf4a-d220bd8663ba\" target=\"_top\" title=\"psysml:4755439e-6dab-436e-bf4a-d220bd8663ba\" xlink:actuate=\"onRequest\" xlink:href=\"psysml:4755439e-6dab-436e-bf4a-d220bd8663ba\" xlink:show=\"new\" xlink:title=\"psysml:4755439e-6dab-436e-bf4a-d220bd8663ba\" xlink:type=\"simple\"><rect fill=\"#FFFFFF\" height=\"45.9375\" id=\"E5\" rx=\"10\" ry=\"10\" style=\"stroke: #383838; stroke-width: 1.5;\" width=\"42\" x=\"345.32\" y=\"286\"/><text fill=\"#000000\" font-family=\"sans-serif\" font-size=\"12\" font-style=\"italic\" lengthAdjust=\"spacingAndGlyphs\" textLength=\"40\" x=\"346.32\" y=\"302.1387\">«part»</text><text fill=\"#000000\" font-family=\"sans-serif\" font-size=\"12\" lengthAdjust=\"spacingAndGlyphs\" textLength=\"22\" x=\"353.32\" y=\"316.1074\">x: A</text><line style=\"stroke: #383838; stroke-width: 1.5;\" x1=\"346.32\" x2=\"386.32\" y1=\"323.9375\" y2=\"323.9375\"/></a><!--MD5=[b9389687b975829384b498ac4b7476b2]\n",
       "class E8--><a href=\"psysml:dfc306bc-28cd-4074-8d12-696a322e5955\" target=\"_top\" title=\"psysml:dfc306bc-28cd-4074-8d12-696a322e5955\" xlink:actuate=\"onRequest\" xlink:href=\"psysml:dfc306bc-28cd-4074-8d12-696a322e5955\" xlink:show=\"new\" xlink:title=\"psysml:dfc306bc-28cd-4074-8d12-696a322e5955\" xlink:type=\"simple\"><rect fill=\"#FFFFFF\" height=\"45.9375\" id=\"E8\" rx=\"10\" ry=\"10\" style=\"stroke: #383838; stroke-width: 1.5;\" width=\"42\" x=\"193.32\" y=\"108\"/><text fill=\"#000000\" font-family=\"sans-serif\" font-size=\"12\" font-style=\"italic\" lengthAdjust=\"spacingAndGlyphs\" textLength=\"40\" x=\"194.32\" y=\"124.1387\">«part»</text><text fill=\"#000000\" font-family=\"sans-serif\" font-size=\"12\" lengthAdjust=\"spacingAndGlyphs\" textLength=\"21\" x=\"201.82\" y=\"138.1074\">z: B</text><line style=\"stroke: #383838; stroke-width: 1.5;\" x1=\"194.32\" x2=\"234.32\" y1=\"145.9375\" y2=\"145.9375\"/></a><!--MD5=[09b614a08d8cba4a07c9adeb5e0fee81]\n",
       "class E3--><a href=\"psysml:1f011377-ef65-4253-92ff-be4f522feeb1\" target=\"_top\" title=\"psysml:1f011377-ef65-4253-92ff-be4f522feeb1\" xlink:actuate=\"onRequest\" xlink:href=\"psysml:1f011377-ef65-4253-92ff-be4f522feeb1\" xlink:show=\"new\" xlink:title=\"psysml:1f011377-ef65-4253-92ff-be4f522feeb1\" xlink:type=\"simple\"><rect fill=\"#FFFFFF\" height=\"45.9375\" id=\"E3\" style=\"stroke: #383838; stroke-width: 1.5;\" width=\"70\" x=\"274.32\" y=\"464\"/><text fill=\"#000000\" font-family=\"sans-serif\" font-size=\"12\" font-style=\"italic\" lengthAdjust=\"spacingAndGlyphs\" textLength=\"68\" x=\"275.32\" y=\"480.1387\">«part  def»</text><text fill=\"#000000\" font-family=\"sans-serif\" font-size=\"12\" lengthAdjust=\"spacingAndGlyphs\" textLength=\"8\" x=\"305.32\" y=\"494.1074\">A</text><line style=\"stroke: #383838; stroke-width: 1.5;\" x1=\"275.32\" x2=\"343.32\" y1=\"501.9375\" y2=\"501.9375\"/></a><a href=\"psysml:7d907640-2982-4506-b0ab-4e4fe8a9afec\" target=\"_top\" title=\"psysml:7d907640-2982-4506-b0ab-4e4fe8a9afec\" xlink:actuate=\"onRequest\" xlink:href=\"psysml:7d907640-2982-4506-b0ab-4e4fe8a9afec\" xlink:show=\"new\" xlink:title=\"psysml:7d907640-2982-4506-b0ab-4e4fe8a9afec\" xlink:type=\"simple\"><polygon fill=\"#FFFFFF\" points=\"235.32,282.5,259.32,282.5,266.32,304.7969,273.32,304.7969,273.32,335.0938,235.32,335.0938,235.32,282.5\" style=\"stroke: #000000; stroke-width: 1.5;\"/><line style=\"stroke: #000000; stroke-width: 1.5;\" x1=\"235.32\" x2=\"266.32\" y1=\"304.7969\" y2=\"304.7969\"/><text fill=\"#000000\" font-family=\"sans-serif\" font-size=\"14\" font-weight=\"bold\" lengthAdjust=\"spacingAndGlyphs\" textLength=\"18\" x=\"239.32\" y=\"297.4951\">P2</text></a><!--MD5=[2156ba9850f5573cc1fc38a6a4b2f02b]\n",
       "class E7--><a href=\"psysml:bdb8801b-74e6-41c7-b5f1-114cae898237\" target=\"_top\" title=\"psysml:bdb8801b-74e6-41c7-b5f1-114cae898237\" xlink:actuate=\"onRequest\" xlink:href=\"psysml:bdb8801b-74e6-41c7-b5f1-114cae898237\" xlink:show=\"new\" xlink:title=\"psysml:bdb8801b-74e6-41c7-b5f1-114cae898237\" xlink:type=\"simple\"><rect fill=\"#FFFFFF\" height=\"45.9375\" id=\"E7\" style=\"stroke: #383838; stroke-width: 1.5;\" width=\"70\" x=\"117.32\" y=\"286\"/><text fill=\"#000000\" font-family=\"sans-serif\" font-size=\"12\" font-style=\"italic\" lengthAdjust=\"spacingAndGlyphs\" textLength=\"68\" x=\"118.32\" y=\"302.1387\">«part  def»</text><text fill=\"#000000\" font-family=\"sans-serif\" font-size=\"12\" lengthAdjust=\"spacingAndGlyphs\" textLength=\"8\" x=\"148.32\" y=\"316.1074\">B</text><line style=\"stroke: #383838; stroke-width: 1.5;\" x1=\"118.32\" x2=\"186.32\" y1=\"323.9375\" y2=\"323.9375\"/></a><!--MD5=[96f4274e9e20536e775497830990834d]\n",
       "class E10--><a href=\"psysml:aa943bbf-59d6-4c08-9403-21388691ca57\" target=\"_top\" title=\"psysml:aa943bbf-59d6-4c08-9403-21388691ca57\" xlink:actuate=\"onRequest\" xlink:href=\"psysml:aa943bbf-59d6-4c08-9403-21388691ca57\" xlink:show=\"new\" xlink:title=\"psysml:aa943bbf-59d6-4c08-9403-21388691ca57\" xlink:type=\"simple\"><rect fill=\"#FFFFFF\" height=\"45.9375\" id=\"E10\" rx=\"10\" ry=\"10\" style=\"stroke: #383838; stroke-width: 1.5;\" width=\"42\" x=\"305.32\" y=\"108\"/><text fill=\"#000000\" font-family=\"sans-serif\" font-size=\"12\" font-style=\"italic\" lengthAdjust=\"spacingAndGlyphs\" textLength=\"40\" x=\"306.32\" y=\"124.1387\">«part»</text><text fill=\"#000000\" font-family=\"sans-serif\" font-size=\"12\" lengthAdjust=\"spacingAndGlyphs\" textLength=\"29\" x=\"309.82\" y=\"138.1074\">z1: A</text><line style=\"stroke: #383838; stroke-width: 1.5;\" x1=\"306.32\" x2=\"346.32\" y1=\"145.9375\" y2=\"145.9375\"/></a><!--MD5=[185131fc0dcab0a4505a2ebe144e961b]\n",
       "link E4 to E2--><a href=\"psysml:113e6c15-2e9f-43c2-9a8b-f1023998ecb3\" target=\"_top\" title=\"psysml:113e6c15-2e9f-43c2-9a8b-f1023998ecb3\" xlink:actuate=\"onRequest\" xlink:href=\"psysml:113e6c15-2e9f-43c2-9a8b-f1023998ecb3\" xlink:show=\"new\" xlink:title=\"psysml:113e6c15-2e9f-43c2-9a8b-f1023998ecb3\" xlink:type=\"simple\"><path d=\"M244.71,335.52 C240.28,348.61 235.53,364.94 233.32,380 C231.6325,391.49 231.1388,403.7444 231.3534,415.6911 C231.3803,417.1844 231.4182,418.673 231.4662,420.1546 C231.4722,420.3398 231.4784,420.5249 231.4847,420.7099 \" fill=\"none\" id=\"E4-&gt;E2\" style=\"stroke: #383838; stroke-width: 1.0; stroke-dasharray: 7.0,7.0;\"/><polygon fill=\"#383838\" points=\"231.4847,420.7099,235.1752,411.5786,231.314,415.7128,227.1798,411.8517,231.4847,420.7099\" style=\"stroke: #383838; stroke-width: 1.0;\"/><text fill=\"#000000\" font-family=\"sans-serif\" font-size=\"13\" lengthAdjust=\"spacingAndGlyphs\" textLength=\"65\" x=\"234.32\" y=\"393.0669\">«import»*</text></a><!--MD5=[e9be52314489bd878ff4c7144b63c9e1]\n",
       "link E5 to E3--><a href=\"psysml:2e030f48-ed8d-4fbc-a256-8117ac7131ec\" target=\"_top\" title=\"psysml:2e030f48-ed8d-4fbc-a256-8117ac7131ec\" xlink:actuate=\"onRequest\" xlink:href=\"psysml:2e030f48-ed8d-4fbc-a256-8117ac7131ec\" xlink:show=\"new\" xlink:title=\"psysml:2e030f48-ed8d-4fbc-a256-8117ac7131ec\" xlink:type=\"simple\"><path d=\"M359.1,332.29 C349.98,360.46 334.1,409.49 322.72,444.61 \" fill=\"none\" id=\"E5-&gt;E3\" style=\"stroke: #383838; stroke-width: 1.0;\"/><polygon fill=\"#FFFFFF\" points=\"316.48,463.89,315.6693,443.6578,328.9893,447.9678,316.48,463.89\" style=\"stroke: #383838; stroke-width: 1.0;\"/><ellipse cx=\"319.3269\" cy=\"438.8503\" fill=\"#383838\" rx=\"2\" ry=\"2\" style=\"stroke: #383838; stroke-width: 1.0;\"/><ellipse cx=\"328.8413\" cy=\"441.9289\" fill=\"#383838\" rx=\"2\" ry=\"2\" style=\"stroke: #383838; stroke-width: 1.0;\"/></a><!--MD5=[ee384bb554873b72f85793eae40e290c]\n",
       "link E1 to E4--><a href=\"psysml:a039409c-dc44-4261-a761-133767375f35\" target=\"_top\" title=\"psysml:a039409c-dc44-4261-a761-133767375f35\" xlink:actuate=\"onRequest\" xlink:href=\"psysml:a039409c-dc44-4261-a761-133767375f35\" xlink:show=\"new\" xlink:title=\"psysml:a039409c-dc44-4261-a761-133767375f35\" xlink:type=\"simple\"><path d=\"M34.29,132.12 C33.65,134.6 23.75,174.52 42.32,194 C49.33,201.35 77.35,200.04 87.32,202 C113.19,207.09 181.71,211.88 203.32,227 C220.99,239.37 233.85,260.02 242.24,277.37 \" fill=\"none\" id=\"E1-&gt;E4\" style=\"stroke: #383838; stroke-width: 1.0; stroke-dasharray: 7.0,7.0;\"/><polygon fill=\"#383838\" points=\"244.49,282.17,244.3071,272.3228,242.3748,277.6394,237.0582,275.7072,244.49,282.17\" style=\"stroke: #383838; stroke-width: 1.0;\"/><text fill=\"#000000\" font-family=\"sans-serif\" font-size=\"13\" lengthAdjust=\"spacingAndGlyphs\" textLength=\"65\" x=\"183.32\" y=\"215.0669\">«import»*</text></a><!--MD5=[ccbd3af71bf83df0ec2a2db62d6d7130]\n",
       "link E1 to E6--><a href=\"psysml:8872cc02-851e-450c-b3e8-f90f2e3db770\" target=\"_top\" title=\"psysml:8872cc02-851e-450c-b3e8-f90f2e3db770\" xlink:actuate=\"onRequest\" xlink:href=\"psysml:8872cc02-851e-450c-b3e8-f90f2e3db770\" xlink:show=\"new\" xlink:title=\"psysml:8872cc02-851e-450c-b3e8-f90f2e3db770\" xlink:type=\"simple\"><path d=\"M26.1693,145.3513 C26.1165,145.4477 26.0635,145.5445 26.0105,145.6418 C25.9044,145.8363 25.7978,146.0325 25.6908,146.2304 C24.8349,147.8133 23.9523,149.5023 23.0614,151.284 C21.2797,154.8473 19.465,158.7813 17.765,162.9775 C10.965,179.7625 6,200.745 12.32,219 C20.295,242.035 36.9675,263.635 52.0413,279.7863 C59.5781,287.8619 66.7153,294.5753 72.1658,299.4248 C72.8471,300.031 73.502,300.6081 74.1281,301.1551 \" fill=\"none\" id=\"E1-&gt;E6\" style=\"stroke: #383838; stroke-width: 1.0; stroke-dasharray: 7.0,7.0;\"/><polygon fill=\"#383838\" points=\"74.1281,301.1551,69.982,292.2214,70.3627,297.8655,64.7187,298.2462,74.1281,301.1551\" style=\"stroke: #383838; stroke-width: 1.0;\"/><text fill=\"#000000\" font-family=\"sans-serif\" font-size=\"13\" lengthAdjust=\"spacingAndGlyphs\" textLength=\"65\" x=\"13.32\" y=\"215.0669\">«import»*</text></a><!--MD5=[bfa3c8b0d15052fdf50ae9310b491027]\n",
       "link E8 to E7--><a href=\"psysml:0934d2d2-1a49-4ac4-b6c0-cd8fa5ea19dd\" target=\"_top\" title=\"psysml:0934d2d2-1a49-4ac4-b6c0-cd8fa5ea19dd\" xlink:actuate=\"onRequest\" xlink:href=\"psysml:0934d2d2-1a49-4ac4-b6c0-cd8fa5ea19dd\" xlink:show=\"new\" xlink:title=\"psysml:0934d2d2-1a49-4ac4-b6c0-cd8fa5ea19dd\" xlink:type=\"simple\"><path d=\"M232.99,154.29 C246.61,173.37 260.16,200.59 244.32,219 C228.78,237.06 210.49,212.85 191.32,227 C178.2,236.69 169.29,251.96 163.34,266.65 \" fill=\"none\" id=\"E8-&gt;E7\" style=\"stroke: #383838; stroke-width: 1.0;\"/><polygon fill=\"#FFFFFF\" points=\"156.95,285.73,156.3404,265.4907,169.617,269.9329,156.95,285.73\" style=\"stroke: #383838; stroke-width: 1.0;\"/><ellipse cx=\"160.0457\" cy=\"260.7199\" fill=\"#383838\" rx=\"2\" ry=\"2\" style=\"stroke: #383838; stroke-width: 1.0;\"/><ellipse cx=\"169.5289\" cy=\"263.8929\" fill=\"#383838\" rx=\"2\" ry=\"2\" style=\"stroke: #383838; stroke-width: 1.0;\"/></a><!--MD5=[c2be97adba6ddfe1c8f349fab141c927]\n",
       "link E9 to E4--><a href=\"psysml:f0473cf2-6b9f-40e7-98be-e0cb9d304d8b\" target=\"_top\" title=\"psysml:f0473cf2-6b9f-40e7-98be-e0cb9d304d8b\" xlink:actuate=\"onRequest\" xlink:href=\"psysml:f0473cf2-6b9f-40e7-98be-e0cb9d304d8b\" xlink:show=\"new\" xlink:title=\"psysml:f0473cf2-6b9f-40e7-98be-e0cb9d304d8b\" xlink:type=\"simple\"><path d=\"M267.5431,178.2415 C267.5354,178.35 267.5276,178.4585 267.5198,178.5671 C267.3951,180.3034 267.2673,182.0417 267.1366,183.7729 C266.8753,187.2352 266.6025,190.6688 266.32,194 C263.93,222.21 260.49,254.26 257.9,277.18 \" fill=\"none\" id=\"E9-&gt;E4\" style=\"stroke: #383838; stroke-width: 1.0; stroke-dasharray: 7.0,7.0;\"/><polygon fill=\"#383838\" points=\"257.33,282.22,262.3075,273.7215,257.8869,277.2511,254.3572,272.8305,257.33,282.22\" style=\"stroke: #383838; stroke-width: 1.0;\"/><text fill=\"#000000\" font-family=\"sans-serif\" font-size=\"13\" lengthAdjust=\"spacingAndGlyphs\" textLength=\"65\" x=\"266.32\" y=\"215.0669\">«import»*</text></a><!--MD5=[feeac5eb423634930294aa81f2d25a4c]\n",
       "link E10 to E3--><a href=\"psysml:6083fff7-7e2a-4a1f-b6e0-00602bace9f4\" target=\"_top\" title=\"psysml:6083fff7-7e2a-4a1f-b6e0-00602bace9f4\" xlink:actuate=\"onRequest\" xlink:href=\"psysml:6083fff7-7e2a-4a1f-b6e0-00602bace9f4\" xlink:show=\"new\" xlink:title=\"psysml:6083fff7-7e2a-4a1f-b6e0-00602bace9f4\" xlink:type=\"simple\"><path d=\"M345.63,154.11 C359.77,173.07 373.99,200.22 358.32,219 C345.58,234.26 327.2,211.86 314.32,227 C300.64,243.07 304.33,374.79 307.28,443.95 \" fill=\"none\" id=\"E10-&gt;E3\" style=\"stroke: #383838; stroke-width: 1.0;\"/><polygon fill=\"#FFFFFF\" points=\"308.18,463.98,300.3317,445.3144,314.3175,444.6841,308.18,463.98\" style=\"stroke: #383838; stroke-width: 1.0;\"/><ellipse cx=\"302.0731\" cy=\"439.5301\" fill=\"#383838\" rx=\"2\" ry=\"2\" style=\"stroke: #383838; stroke-width: 1.0;\"/><ellipse cx=\"312.063\" cy=\"439.0799\" fill=\"#383838\" rx=\"2\" ry=\"2\" style=\"stroke: #383838; stroke-width: 1.0;\"/></a><!--MD5=[5ac26d579a4b3da4ab4b9a5099e89b85]\n",
       "@startuml\r\n",
       "skinparam monochrome true\r\n",
       "skinparam classbackgroundcolor white\r\n",
       "skinparam shadowing false\r\n",
       "skinparam wrapWidth 300\r\n",
       "hide circle\r\n",
       "\r\n",
       "package \"PrivateImportTest\" as E1  [[psysml:56a08668-af7c-402b-8ea6-0ffeccd2e906 ]]  {\r\n",
       "package \"P1\" as E2  [[psysml:989134c5-5272-479d-a43e-5e5573119e0c ]]  {\r\n",
       "comp def \"A\" as E3  <<(T,blue) part  def>> [[psysml:1f011377-ef65-4253-92ff-be4f522feeb1 ]] {\r\n",
       "}\r\n",
       "}\r\n",
       "package \"P2\" as E4  [[psysml:7d907640-2982-4506-b0ab-4e4fe8a9afec ]]  {\r\n",
       "}\r\n",
       "comp usage \"x: A \" as E5  <<(T,blue) part>> [[psysml:4755439e-6dab-436e-bf4a-d220bd8663ba ]] {\r\n",
       "}\r\n",
       "package \"P3\" as E6  [[psysml:90563c83-8b6e-4371-ac3b-36c1983fe7e9 ]]  {\r\n",
       "comp def \"B\" as E7  <<(T,blue) part  def>> [[psysml:bdb8801b-74e6-41c7-b5f1-114cae898237 ]] {\r\n",
       "}\r\n",
       "}\r\n",
       "comp usage \"z: B \" as E8  <<(T,blue) part>> [[psysml:dfc306bc-28cd-4074-8d12-696a322e5955 ]] {\r\n",
       "}\r\n",
       "package \"P4\" as E9  [[psysml:2733cc0d-ab4e-4acc-aaf2-0d4d1c16697a ]]  {\r\n",
       "comp usage \"z1: A \" as E10  <<(T,blue) part>> [[psysml:aa943bbf-59d6-4c08-9403-21388691ca57 ]] {\r\n",
       "}\r\n",
       "}\r\n",
       "}\r\n",
       "E4 ..> E2 [[psysml:113e6c15-2e9f-43c2-9a8b-f1023998ecb3 ]] : <<import>>*\r\n",
       "E5 - -:|> E3 [[psysml:2e030f48-ed8d-4fbc-a256-8117ac7131ec ]] \r\n",
       "E1 ..> E4 [[psysml:a039409c-dc44-4261-a761-133767375f35 ]] : <<import>>*\r\n",
       "E1 ..> E6 [[psysml:8872cc02-851e-450c-b3e8-f90f2e3db770 ]] : <<import>>*\r\n",
       "E8 - -:|> E7 [[psysml:0934d2d2-1a49-4ac4-b6c0-cd8fa5ea19dd ]] \r\n",
       "E9 ..> E4 [[psysml:f0473cf2-6b9f-40e7-98be-e0cb9d304d8b ]] : <<import>>*\r\n",
       "E10 - -:|> E3 [[psysml:6083fff7-7e2a-4a1f-b6e0-00602bace9f4 ]] \r\n",
       "@enduml\r\n",
       "\n",
       "PlantUML version 1.2020.13(Sat Jun 13 12:26:38 UTC 2020)\n",
       "(EPL source distribution)\n",
       "Java Runtime: OpenJDK Runtime Environment\n",
       "JVM: OpenJDK 64-Bit Server VM\n",
       "Default Encoding: UTF-8\n",
       "Language: en\n",
       "Country: null\n",
       "--></g></svg>"
      ]
     },
     "execution_count": 43,
     "metadata": {},
     "output_type": "execute_result"
    }
   ],
   "source": [
    "%viz --style=\"DEFAULT\" --view=\"MIXED\" \"PrivateImportTest\""
   ]
  },
  {
   "cell_type": "code",
   "execution_count": 44,
   "id": "e4950a6d",
   "metadata": {
    "execution": {
     "iopub.execute_input": "2022-02-18T10:48:48.182416Z",
     "iopub.status.busy": "2022-02-18T10:48:48.182019Z",
     "iopub.status.idle": "2022-02-18T10:48:48.217235Z",
     "shell.execute_reply": "2022-02-18T10:48:48.215806Z"
    }
   },
   "outputs": [
    {
     "data": {
      "image/svg+xml": [
       "<?xml version=\"1.0\" encoding=\"UTF-8\" standalone=\"no\"?><svg xmlns=\"http://www.w3.org/2000/svg\" xmlns:xlink=\"http://www.w3.org/1999/xlink\" contentScriptType=\"application/ecmascript\" contentStyleType=\"text/css\" height=\"586px\" preserveAspectRatio=\"none\" style=\"width:433px;height:586px;\" version=\"1.1\" viewBox=\"0 0 433 586\" width=\"433px\" zoomAndPan=\"magnify\"><defs/><g><!--MD5=[fbc87193dbaf4d95561dea2c320d4a47]\n",
       "cluster E1--><a href=\"psysml:56a08668-af7c-402b-8ea6-0ffeccd2e906\" target=\"_top\" title=\"psysml:56a08668-af7c-402b-8ea6-0ffeccd2e906\" xlink:actuate=\"onRequest\" xlink:href=\"psysml:56a08668-af7c-402b-8ea6-0ffeccd2e906\" xlink:show=\"new\" xlink:title=\"psysml:56a08668-af7c-402b-8ea6-0ffeccd2e906\" xlink:type=\"simple\"><polygon fill=\"#FFFFFF\" points=\"26.32,6,153.32,6,160.32,28.2969,411.32,28.2969,411.32,574,26.32,574,26.32,6\" style=\"stroke: #000000; stroke-width: 1.5;\"/><line style=\"stroke: #000000; stroke-width: 1.5;\" x1=\"26.32\" x2=\"160.32\" y1=\"28.2969\" y2=\"28.2969\"/><text fill=\"#000000\" font-family=\"sans-serif\" font-size=\"14\" font-weight=\"bold\" lengthAdjust=\"spacingAndGlyphs\" textLength=\"121\" x=\"30.32\" y=\"20.9951\">PrivateImportTest</text></a><!--MD5=[e4f7fae6ed58524ba242bb0b0d3be6b7]\n",
       "cluster E2--><a href=\"psysml:989134c5-5272-479d-a43e-5e5573119e0c\" target=\"_top\" title=\"psysml:989134c5-5272-479d-a43e-5e5573119e0c\" xlink:actuate=\"onRequest\" xlink:href=\"psysml:989134c5-5272-479d-a43e-5e5573119e0c\" xlink:show=\"new\" xlink:title=\"psysml:989134c5-5272-479d-a43e-5e5573119e0c\" xlink:type=\"simple\"><polygon fill=\"#FFFFFF\" points=\"231.32,421,255.32,421,262.32,443.2969,368.32,443.2969,368.32,534,231.32,534,231.32,421\" style=\"stroke: #000000; stroke-width: 1.5;\"/><line style=\"stroke: #000000; stroke-width: 1.5;\" x1=\"231.32\" x2=\"262.32\" y1=\"443.2969\" y2=\"443.2969\"/><text fill=\"#000000\" font-family=\"sans-serif\" font-size=\"14\" font-weight=\"bold\" lengthAdjust=\"spacingAndGlyphs\" textLength=\"18\" x=\"235.32\" y=\"435.9951\">P1</text></a><!--MD5=[14e3b0961a2654348d326746436168a1]\n",
       "cluster E6--><a href=\"psysml:90563c83-8b6e-4371-ac3b-36c1983fe7e9\" target=\"_top\" title=\"psysml:90563c83-8b6e-4371-ac3b-36c1983fe7e9\" xlink:actuate=\"onRequest\" xlink:href=\"psysml:90563c83-8b6e-4371-ac3b-36c1983fe7e9\" xlink:show=\"new\" xlink:title=\"psysml:90563c83-8b6e-4371-ac3b-36c1983fe7e9\" xlink:type=\"simple\"><polygon fill=\"#FFFFFF\" points=\"74.32,243,98.32,243,105.32,265.2969,211.32,265.2969,211.32,356,74.32,356,74.32,243\" style=\"stroke: #000000; stroke-width: 1.5;\"/><line style=\"stroke: #000000; stroke-width: 1.5;\" x1=\"74.32\" x2=\"105.32\" y1=\"265.2969\" y2=\"265.2969\"/><text fill=\"#000000\" font-family=\"sans-serif\" font-size=\"14\" font-weight=\"bold\" lengthAdjust=\"spacingAndGlyphs\" textLength=\"18\" x=\"78.32\" y=\"257.9951\">P3</text></a><!--MD5=[7f149f147074ac12df2cb0a7728a5fb0]\n",
       "cluster E9--><a href=\"psysml:2733cc0d-ab4e-4acc-aaf2-0d4d1c16697a\" target=\"_top\" title=\"psysml:2733cc0d-ab4e-4acc-aaf2-0d4d1c16697a\" xlink:actuate=\"onRequest\" xlink:href=\"psysml:2733cc0d-ab4e-4acc-aaf2-0d4d1c16697a\" xlink:show=\"new\" xlink:title=\"psysml:2733cc0d-ab4e-4acc-aaf2-0d4d1c16697a\" xlink:type=\"simple\"><polygon fill=\"#FFFFFF\" points=\"262.32,65,286.32,65,293.32,87.2969,371.32,87.2969,371.32,178,262.32,178,262.32,65\" style=\"stroke: #000000; stroke-width: 1.5;\"/><line style=\"stroke: #000000; stroke-width: 1.5;\" x1=\"262.32\" x2=\"293.32\" y1=\"87.2969\" y2=\"87.2969\"/><text fill=\"#000000\" font-family=\"sans-serif\" font-size=\"14\" font-weight=\"bold\" lengthAdjust=\"spacingAndGlyphs\" textLength=\"18\" x=\"266.32\" y=\"79.9951\">P4</text></a><!--MD5=[270fce915f116d4de14055a7c1d9a0f3]\n",
       "class E5--><a href=\"psysml:4755439e-6dab-436e-bf4a-d220bd8663ba\" target=\"_top\" title=\"psysml:4755439e-6dab-436e-bf4a-d220bd8663ba\" xlink:actuate=\"onRequest\" xlink:href=\"psysml:4755439e-6dab-436e-bf4a-d220bd8663ba\" xlink:show=\"new\" xlink:title=\"psysml:4755439e-6dab-436e-bf4a-d220bd8663ba\" xlink:type=\"simple\"><rect fill=\"#FFFFFF\" height=\"45.9375\" id=\"E5\" rx=\"10\" ry=\"10\" style=\"stroke: #383838; stroke-width: 1.5;\" width=\"42\" x=\"345.32\" y=\"286\"/><text fill=\"#000000\" font-family=\"sans-serif\" font-size=\"12\" font-style=\"italic\" lengthAdjust=\"spacingAndGlyphs\" textLength=\"40\" x=\"346.32\" y=\"302.1387\">«part»</text><text fill=\"#000000\" font-family=\"sans-serif\" font-size=\"12\" lengthAdjust=\"spacingAndGlyphs\" textLength=\"22\" x=\"353.32\" y=\"316.1074\">x: A</text><line style=\"stroke: #383838; stroke-width: 1.5;\" x1=\"346.32\" x2=\"386.32\" y1=\"323.9375\" y2=\"323.9375\"/></a><!--MD5=[b9389687b975829384b498ac4b7476b2]\n",
       "class E8--><a href=\"psysml:dfc306bc-28cd-4074-8d12-696a322e5955\" target=\"_top\" title=\"psysml:dfc306bc-28cd-4074-8d12-696a322e5955\" xlink:actuate=\"onRequest\" xlink:href=\"psysml:dfc306bc-28cd-4074-8d12-696a322e5955\" xlink:show=\"new\" xlink:title=\"psysml:dfc306bc-28cd-4074-8d12-696a322e5955\" xlink:type=\"simple\"><rect fill=\"#FFFFFF\" height=\"45.9375\" id=\"E8\" rx=\"10\" ry=\"10\" style=\"stroke: #383838; stroke-width: 1.5;\" width=\"42\" x=\"193.32\" y=\"108\"/><text fill=\"#000000\" font-family=\"sans-serif\" font-size=\"12\" font-style=\"italic\" lengthAdjust=\"spacingAndGlyphs\" textLength=\"40\" x=\"194.32\" y=\"124.1387\">«part»</text><text fill=\"#000000\" font-family=\"sans-serif\" font-size=\"12\" lengthAdjust=\"spacingAndGlyphs\" textLength=\"21\" x=\"201.82\" y=\"138.1074\">z: B</text><line style=\"stroke: #383838; stroke-width: 1.5;\" x1=\"194.32\" x2=\"234.32\" y1=\"145.9375\" y2=\"145.9375\"/></a><!--MD5=[09b614a08d8cba4a07c9adeb5e0fee81]\n",
       "class E3--><a href=\"psysml:1f011377-ef65-4253-92ff-be4f522feeb1\" target=\"_top\" title=\"psysml:1f011377-ef65-4253-92ff-be4f522feeb1\" xlink:actuate=\"onRequest\" xlink:href=\"psysml:1f011377-ef65-4253-92ff-be4f522feeb1\" xlink:show=\"new\" xlink:title=\"psysml:1f011377-ef65-4253-92ff-be4f522feeb1\" xlink:type=\"simple\"><rect fill=\"#FFFFFF\" height=\"45.9375\" id=\"E3\" style=\"stroke: #383838; stroke-width: 1.5;\" width=\"70\" x=\"274.32\" y=\"464\"/><text fill=\"#000000\" font-family=\"sans-serif\" font-size=\"12\" font-style=\"italic\" lengthAdjust=\"spacingAndGlyphs\" textLength=\"68\" x=\"275.32\" y=\"480.1387\">«part  def»</text><text fill=\"#000000\" font-family=\"sans-serif\" font-size=\"12\" lengthAdjust=\"spacingAndGlyphs\" textLength=\"8\" x=\"305.32\" y=\"494.1074\">A</text><line style=\"stroke: #383838; stroke-width: 1.5;\" x1=\"275.32\" x2=\"343.32\" y1=\"501.9375\" y2=\"501.9375\"/></a><a href=\"psysml:7d907640-2982-4506-b0ab-4e4fe8a9afec\" target=\"_top\" title=\"psysml:7d907640-2982-4506-b0ab-4e4fe8a9afec\" xlink:actuate=\"onRequest\" xlink:href=\"psysml:7d907640-2982-4506-b0ab-4e4fe8a9afec\" xlink:show=\"new\" xlink:title=\"psysml:7d907640-2982-4506-b0ab-4e4fe8a9afec\" xlink:type=\"simple\"><polygon fill=\"#FFFFFF\" points=\"235.32,282.5,259.32,282.5,266.32,304.7969,273.32,304.7969,273.32,335.0938,235.32,335.0938,235.32,282.5\" style=\"stroke: #000000; stroke-width: 1.5;\"/><line style=\"stroke: #000000; stroke-width: 1.5;\" x1=\"235.32\" x2=\"266.32\" y1=\"304.7969\" y2=\"304.7969\"/><text fill=\"#000000\" font-family=\"sans-serif\" font-size=\"14\" font-weight=\"bold\" lengthAdjust=\"spacingAndGlyphs\" textLength=\"18\" x=\"239.32\" y=\"297.4951\">P2</text></a><!--MD5=[2156ba9850f5573cc1fc38a6a4b2f02b]\n",
       "class E7--><a href=\"psysml:bdb8801b-74e6-41c7-b5f1-114cae898237\" target=\"_top\" title=\"psysml:bdb8801b-74e6-41c7-b5f1-114cae898237\" xlink:actuate=\"onRequest\" xlink:href=\"psysml:bdb8801b-74e6-41c7-b5f1-114cae898237\" xlink:show=\"new\" xlink:title=\"psysml:bdb8801b-74e6-41c7-b5f1-114cae898237\" xlink:type=\"simple\"><rect fill=\"#FFFFFF\" height=\"45.9375\" id=\"E7\" style=\"stroke: #383838; stroke-width: 1.5;\" width=\"70\" x=\"117.32\" y=\"286\"/><text fill=\"#000000\" font-family=\"sans-serif\" font-size=\"12\" font-style=\"italic\" lengthAdjust=\"spacingAndGlyphs\" textLength=\"68\" x=\"118.32\" y=\"302.1387\">«part  def»</text><text fill=\"#000000\" font-family=\"sans-serif\" font-size=\"12\" lengthAdjust=\"spacingAndGlyphs\" textLength=\"8\" x=\"148.32\" y=\"316.1074\">B</text><line style=\"stroke: #383838; stroke-width: 1.5;\" x1=\"118.32\" x2=\"186.32\" y1=\"323.9375\" y2=\"323.9375\"/></a><!--MD5=[96f4274e9e20536e775497830990834d]\n",
       "class E10--><a href=\"psysml:aa943bbf-59d6-4c08-9403-21388691ca57\" target=\"_top\" title=\"psysml:aa943bbf-59d6-4c08-9403-21388691ca57\" xlink:actuate=\"onRequest\" xlink:href=\"psysml:aa943bbf-59d6-4c08-9403-21388691ca57\" xlink:show=\"new\" xlink:title=\"psysml:aa943bbf-59d6-4c08-9403-21388691ca57\" xlink:type=\"simple\"><rect fill=\"#FFFFFF\" height=\"45.9375\" id=\"E10\" rx=\"10\" ry=\"10\" style=\"stroke: #383838; stroke-width: 1.5;\" width=\"42\" x=\"305.32\" y=\"108\"/><text fill=\"#000000\" font-family=\"sans-serif\" font-size=\"12\" font-style=\"italic\" lengthAdjust=\"spacingAndGlyphs\" textLength=\"40\" x=\"306.32\" y=\"124.1387\">«part»</text><text fill=\"#000000\" font-family=\"sans-serif\" font-size=\"12\" lengthAdjust=\"spacingAndGlyphs\" textLength=\"29\" x=\"309.82\" y=\"138.1074\">z1: A</text><line style=\"stroke: #383838; stroke-width: 1.5;\" x1=\"306.32\" x2=\"346.32\" y1=\"145.9375\" y2=\"145.9375\"/></a><!--MD5=[185131fc0dcab0a4505a2ebe144e961b]\n",
       "link E4 to E2--><a href=\"psysml:113e6c15-2e9f-43c2-9a8b-f1023998ecb3\" target=\"_top\" title=\"psysml:113e6c15-2e9f-43c2-9a8b-f1023998ecb3\" xlink:actuate=\"onRequest\" xlink:href=\"psysml:113e6c15-2e9f-43c2-9a8b-f1023998ecb3\" xlink:show=\"new\" xlink:title=\"psysml:113e6c15-2e9f-43c2-9a8b-f1023998ecb3\" xlink:type=\"simple\"><path d=\"M244.71,335.52 C240.28,348.61 235.53,364.94 233.32,380 C231.6325,391.49 231.1388,403.7444 231.3534,415.6911 C231.3803,417.1844 231.4182,418.673 231.4662,420.1546 C231.4722,420.3398 231.4784,420.5249 231.4847,420.7099 \" fill=\"none\" id=\"E4-&gt;E2\" style=\"stroke: #383838; stroke-width: 1.0; stroke-dasharray: 7.0,7.0;\"/><polygon fill=\"#383838\" points=\"231.4847,420.7099,235.1752,411.5786,231.314,415.7128,227.1798,411.8517,231.4847,420.7099\" style=\"stroke: #383838; stroke-width: 1.0;\"/><text fill=\"#000000\" font-family=\"sans-serif\" font-size=\"13\" lengthAdjust=\"spacingAndGlyphs\" textLength=\"65\" x=\"234.32\" y=\"393.0669\">«import»*</text></a><!--MD5=[e9be52314489bd878ff4c7144b63c9e1]\n",
       "link E5 to E3--><a href=\"psysml:2e030f48-ed8d-4fbc-a256-8117ac7131ec\" target=\"_top\" title=\"psysml:2e030f48-ed8d-4fbc-a256-8117ac7131ec\" xlink:actuate=\"onRequest\" xlink:href=\"psysml:2e030f48-ed8d-4fbc-a256-8117ac7131ec\" xlink:show=\"new\" xlink:title=\"psysml:2e030f48-ed8d-4fbc-a256-8117ac7131ec\" xlink:type=\"simple\"><path d=\"M359.1,332.29 C349.98,360.46 334.1,409.49 322.72,444.61 \" fill=\"none\" id=\"E5-&gt;E3\" style=\"stroke: #383838; stroke-width: 1.0;\"/><polygon fill=\"#FFFFFF\" points=\"316.48,463.89,315.6693,443.6578,328.9893,447.9678,316.48,463.89\" style=\"stroke: #383838; stroke-width: 1.0;\"/><ellipse cx=\"319.3269\" cy=\"438.8503\" fill=\"#383838\" rx=\"2\" ry=\"2\" style=\"stroke: #383838; stroke-width: 1.0;\"/><ellipse cx=\"328.8413\" cy=\"441.9289\" fill=\"#383838\" rx=\"2\" ry=\"2\" style=\"stroke: #383838; stroke-width: 1.0;\"/></a><!--MD5=[ee384bb554873b72f85793eae40e290c]\n",
       "link E1 to E4--><a href=\"psysml:a039409c-dc44-4261-a761-133767375f35\" target=\"_top\" title=\"psysml:a039409c-dc44-4261-a761-133767375f35\" xlink:actuate=\"onRequest\" xlink:href=\"psysml:a039409c-dc44-4261-a761-133767375f35\" xlink:show=\"new\" xlink:title=\"psysml:a039409c-dc44-4261-a761-133767375f35\" xlink:type=\"simple\"><path d=\"M34.29,132.12 C33.65,134.6 23.75,174.52 42.32,194 C49.33,201.35 77.35,200.04 87.32,202 C113.19,207.09 181.71,211.88 203.32,227 C220.99,239.37 233.85,260.02 242.24,277.37 \" fill=\"none\" id=\"E1-&gt;E4\" style=\"stroke: #383838; stroke-width: 1.0; stroke-dasharray: 7.0,7.0;\"/><polygon fill=\"#383838\" points=\"244.49,282.17,244.3071,272.3228,242.3748,277.6394,237.0582,275.7072,244.49,282.17\" style=\"stroke: #383838; stroke-width: 1.0;\"/><text fill=\"#000000\" font-family=\"sans-serif\" font-size=\"13\" lengthAdjust=\"spacingAndGlyphs\" textLength=\"65\" x=\"183.32\" y=\"215.0669\">«import»*</text></a><!--MD5=[ccbd3af71bf83df0ec2a2db62d6d7130]\n",
       "link E1 to E6--><a href=\"psysml:8872cc02-851e-450c-b3e8-f90f2e3db770\" target=\"_top\" title=\"psysml:8872cc02-851e-450c-b3e8-f90f2e3db770\" xlink:actuate=\"onRequest\" xlink:href=\"psysml:8872cc02-851e-450c-b3e8-f90f2e3db770\" xlink:show=\"new\" xlink:title=\"psysml:8872cc02-851e-450c-b3e8-f90f2e3db770\" xlink:type=\"simple\"><path d=\"M26.1693,145.3513 C26.1165,145.4477 26.0635,145.5445 26.0105,145.6418 C25.9044,145.8363 25.7978,146.0325 25.6908,146.2304 C24.8349,147.8133 23.9523,149.5023 23.0614,151.284 C21.2797,154.8473 19.465,158.7813 17.765,162.9775 C10.965,179.7625 6,200.745 12.32,219 C20.295,242.035 36.9675,263.635 52.0413,279.7863 C59.5781,287.8619 66.7153,294.5753 72.1658,299.4248 C72.8471,300.031 73.502,300.6081 74.1281,301.1551 \" fill=\"none\" id=\"E1-&gt;E6\" style=\"stroke: #383838; stroke-width: 1.0; stroke-dasharray: 7.0,7.0;\"/><polygon fill=\"#383838\" points=\"74.1281,301.1551,69.982,292.2214,70.3627,297.8655,64.7187,298.2462,74.1281,301.1551\" style=\"stroke: #383838; stroke-width: 1.0;\"/><text fill=\"#000000\" font-family=\"sans-serif\" font-size=\"13\" lengthAdjust=\"spacingAndGlyphs\" textLength=\"65\" x=\"13.32\" y=\"215.0669\">«import»*</text></a><!--MD5=[bfa3c8b0d15052fdf50ae9310b491027]\n",
       "link E8 to E7--><a href=\"psysml:0934d2d2-1a49-4ac4-b6c0-cd8fa5ea19dd\" target=\"_top\" title=\"psysml:0934d2d2-1a49-4ac4-b6c0-cd8fa5ea19dd\" xlink:actuate=\"onRequest\" xlink:href=\"psysml:0934d2d2-1a49-4ac4-b6c0-cd8fa5ea19dd\" xlink:show=\"new\" xlink:title=\"psysml:0934d2d2-1a49-4ac4-b6c0-cd8fa5ea19dd\" xlink:type=\"simple\"><path d=\"M232.99,154.29 C246.61,173.37 260.16,200.59 244.32,219 C228.78,237.06 210.49,212.85 191.32,227 C178.2,236.69 169.29,251.96 163.34,266.65 \" fill=\"none\" id=\"E8-&gt;E7\" style=\"stroke: #383838; stroke-width: 1.0;\"/><polygon fill=\"#FFFFFF\" points=\"156.95,285.73,156.3404,265.4907,169.617,269.9329,156.95,285.73\" style=\"stroke: #383838; stroke-width: 1.0;\"/><ellipse cx=\"160.0457\" cy=\"260.7199\" fill=\"#383838\" rx=\"2\" ry=\"2\" style=\"stroke: #383838; stroke-width: 1.0;\"/><ellipse cx=\"169.5289\" cy=\"263.8929\" fill=\"#383838\" rx=\"2\" ry=\"2\" style=\"stroke: #383838; stroke-width: 1.0;\"/></a><!--MD5=[c2be97adba6ddfe1c8f349fab141c927]\n",
       "link E9 to E4--><a href=\"psysml:f0473cf2-6b9f-40e7-98be-e0cb9d304d8b\" target=\"_top\" title=\"psysml:f0473cf2-6b9f-40e7-98be-e0cb9d304d8b\" xlink:actuate=\"onRequest\" xlink:href=\"psysml:f0473cf2-6b9f-40e7-98be-e0cb9d304d8b\" xlink:show=\"new\" xlink:title=\"psysml:f0473cf2-6b9f-40e7-98be-e0cb9d304d8b\" xlink:type=\"simple\"><path d=\"M267.5431,178.2415 C267.5354,178.35 267.5276,178.4585 267.5198,178.5671 C267.3951,180.3034 267.2673,182.0417 267.1366,183.7729 C266.8753,187.2352 266.6025,190.6688 266.32,194 C263.93,222.21 260.49,254.26 257.9,277.18 \" fill=\"none\" id=\"E9-&gt;E4\" style=\"stroke: #383838; stroke-width: 1.0; stroke-dasharray: 7.0,7.0;\"/><polygon fill=\"#383838\" points=\"257.33,282.22,262.3075,273.7215,257.8869,277.2511,254.3572,272.8305,257.33,282.22\" style=\"stroke: #383838; stroke-width: 1.0;\"/><text fill=\"#000000\" font-family=\"sans-serif\" font-size=\"13\" lengthAdjust=\"spacingAndGlyphs\" textLength=\"65\" x=\"266.32\" y=\"215.0669\">«import»*</text></a><!--MD5=[feeac5eb423634930294aa81f2d25a4c]\n",
       "link E10 to E3--><a href=\"psysml:6083fff7-7e2a-4a1f-b6e0-00602bace9f4\" target=\"_top\" title=\"psysml:6083fff7-7e2a-4a1f-b6e0-00602bace9f4\" xlink:actuate=\"onRequest\" xlink:href=\"psysml:6083fff7-7e2a-4a1f-b6e0-00602bace9f4\" xlink:show=\"new\" xlink:title=\"psysml:6083fff7-7e2a-4a1f-b6e0-00602bace9f4\" xlink:type=\"simple\"><path d=\"M345.63,154.11 C359.77,173.07 373.99,200.22 358.32,219 C345.58,234.26 327.2,211.86 314.32,227 C300.64,243.07 304.33,374.79 307.28,443.95 \" fill=\"none\" id=\"E10-&gt;E3\" style=\"stroke: #383838; stroke-width: 1.0;\"/><polygon fill=\"#FFFFFF\" points=\"308.18,463.98,300.3317,445.3144,314.3175,444.6841,308.18,463.98\" style=\"stroke: #383838; stroke-width: 1.0;\"/><ellipse cx=\"302.0731\" cy=\"439.5301\" fill=\"#383838\" rx=\"2\" ry=\"2\" style=\"stroke: #383838; stroke-width: 1.0;\"/><ellipse cx=\"312.063\" cy=\"439.0799\" fill=\"#383838\" rx=\"2\" ry=\"2\" style=\"stroke: #383838; stroke-width: 1.0;\"/></a><!--MD5=[97702872a88247d3839231a4bdf19928]\n",
       "@startuml\r\n",
       "top to bottom direction\r\n",
       "skinparam monochrome true\r\n",
       "skinparam classbackgroundcolor white\r\n",
       "skinparam shadowing false\r\n",
       "skinparam wrapWidth 300\r\n",
       "hide circle\r\n",
       "\r\n",
       "package \"PrivateImportTest\" as E1  [[psysml:56a08668-af7c-402b-8ea6-0ffeccd2e906 ]]  {\r\n",
       "package \"P1\" as E2  [[psysml:989134c5-5272-479d-a43e-5e5573119e0c ]]  {\r\n",
       "comp def \"A\" as E3  <<(T,blue) part  def>> [[psysml:1f011377-ef65-4253-92ff-be4f522feeb1 ]] {\r\n",
       "}\r\n",
       "}\r\n",
       "package \"P2\" as E4  [[psysml:7d907640-2982-4506-b0ab-4e4fe8a9afec ]]  {\r\n",
       "}\r\n",
       "comp usage \"x: A \" as E5  <<(T,blue) part>> [[psysml:4755439e-6dab-436e-bf4a-d220bd8663ba ]] {\r\n",
       "}\r\n",
       "package \"P3\" as E6  [[psysml:90563c83-8b6e-4371-ac3b-36c1983fe7e9 ]]  {\r\n",
       "comp def \"B\" as E7  <<(T,blue) part  def>> [[psysml:bdb8801b-74e6-41c7-b5f1-114cae898237 ]] {\r\n",
       "}\r\n",
       "}\r\n",
       "comp usage \"z: B \" as E8  <<(T,blue) part>> [[psysml:dfc306bc-28cd-4074-8d12-696a322e5955 ]] {\r\n",
       "}\r\n",
       "package \"P4\" as E9  [[psysml:2733cc0d-ab4e-4acc-aaf2-0d4d1c16697a ]]  {\r\n",
       "comp usage \"z1: A \" as E10  <<(T,blue) part>> [[psysml:aa943bbf-59d6-4c08-9403-21388691ca57 ]] {\r\n",
       "}\r\n",
       "}\r\n",
       "}\r\n",
       "E4 ..> E2 [[psysml:113e6c15-2e9f-43c2-9a8b-f1023998ecb3 ]] : <<import>>*\r\n",
       "E5 - -:|> E3 [[psysml:2e030f48-ed8d-4fbc-a256-8117ac7131ec ]] \r\n",
       "E1 ..> E4 [[psysml:a039409c-dc44-4261-a761-133767375f35 ]] : <<import>>*\r\n",
       "E1 ..> E6 [[psysml:8872cc02-851e-450c-b3e8-f90f2e3db770 ]] : <<import>>*\r\n",
       "E8 - -:|> E7 [[psysml:0934d2d2-1a49-4ac4-b6c0-cd8fa5ea19dd ]] \r\n",
       "E9 ..> E4 [[psysml:f0473cf2-6b9f-40e7-98be-e0cb9d304d8b ]] : <<import>>*\r\n",
       "E10 - -:|> E3 [[psysml:6083fff7-7e2a-4a1f-b6e0-00602bace9f4 ]] \r\n",
       "@enduml\r\n",
       "\n",
       "PlantUML version 1.2020.13(Sat Jun 13 12:26:38 UTC 2020)\n",
       "(EPL source distribution)\n",
       "Java Runtime: OpenJDK Runtime Environment\n",
       "JVM: OpenJDK 64-Bit Server VM\n",
       "Default Encoding: UTF-8\n",
       "Language: en\n",
       "Country: null\n",
       "--></g></svg>"
      ]
     },
     "execution_count": 44,
     "metadata": {},
     "output_type": "execute_result"
    }
   ],
   "source": [
    "%viz --style=\"TB\" --view=\"Default\" \"PrivateImportTest\""
   ]
  },
  {
   "cell_type": "code",
   "execution_count": 45,
   "id": "fb821634",
   "metadata": {
    "execution": {
     "iopub.execute_input": "2022-02-18T10:48:48.266466Z",
     "iopub.status.busy": "2022-02-18T10:48:48.266069Z",
     "iopub.status.idle": "2022-02-18T10:48:48.301436Z",
     "shell.execute_reply": "2022-02-18T10:48:48.301091Z"
    }
   },
   "outputs": [
    {
     "data": {
      "image/svg+xml": [
       "<?xml version=\"1.0\" encoding=\"UTF-8\" standalone=\"no\"?><svg xmlns=\"http://www.w3.org/2000/svg\" xmlns:xlink=\"http://www.w3.org/1999/xlink\" contentScriptType=\"application/ecmascript\" contentStyleType=\"text/css\" height=\"586px\" preserveAspectRatio=\"none\" style=\"width:433px;height:586px;\" version=\"1.1\" viewBox=\"0 0 433 586\" width=\"433px\" zoomAndPan=\"magnify\"><defs/><g><!--MD5=[fbc87193dbaf4d95561dea2c320d4a47]\n",
       "cluster E1--><a href=\"psysml:56a08668-af7c-402b-8ea6-0ffeccd2e906\" target=\"_top\" title=\"psysml:56a08668-af7c-402b-8ea6-0ffeccd2e906\" xlink:actuate=\"onRequest\" xlink:href=\"psysml:56a08668-af7c-402b-8ea6-0ffeccd2e906\" xlink:show=\"new\" xlink:title=\"psysml:56a08668-af7c-402b-8ea6-0ffeccd2e906\" xlink:type=\"simple\"><polygon fill=\"#FFFFFF\" points=\"26.32,6,153.32,6,160.32,28.2969,411.32,28.2969,411.32,574,26.32,574,26.32,6\" style=\"stroke: #000000; stroke-width: 1.5;\"/><line style=\"stroke: #000000; stroke-width: 1.5;\" x1=\"26.32\" x2=\"160.32\" y1=\"28.2969\" y2=\"28.2969\"/><text fill=\"#000000\" font-family=\"sans-serif\" font-size=\"14\" font-weight=\"bold\" lengthAdjust=\"spacingAndGlyphs\" textLength=\"121\" x=\"30.32\" y=\"20.9951\">PrivateImportTest</text></a><!--MD5=[e4f7fae6ed58524ba242bb0b0d3be6b7]\n",
       "cluster E2--><a href=\"psysml:989134c5-5272-479d-a43e-5e5573119e0c\" target=\"_top\" title=\"psysml:989134c5-5272-479d-a43e-5e5573119e0c\" xlink:actuate=\"onRequest\" xlink:href=\"psysml:989134c5-5272-479d-a43e-5e5573119e0c\" xlink:show=\"new\" xlink:title=\"psysml:989134c5-5272-479d-a43e-5e5573119e0c\" xlink:type=\"simple\"><polygon fill=\"#FFFFFF\" points=\"231.32,421,255.32,421,262.32,443.2969,368.32,443.2969,368.32,534,231.32,534,231.32,421\" style=\"stroke: #000000; stroke-width: 1.5;\"/><line style=\"stroke: #000000; stroke-width: 1.5;\" x1=\"231.32\" x2=\"262.32\" y1=\"443.2969\" y2=\"443.2969\"/><text fill=\"#000000\" font-family=\"sans-serif\" font-size=\"14\" font-weight=\"bold\" lengthAdjust=\"spacingAndGlyphs\" textLength=\"18\" x=\"235.32\" y=\"435.9951\">P1</text></a><!--MD5=[14e3b0961a2654348d326746436168a1]\n",
       "cluster E6--><a href=\"psysml:90563c83-8b6e-4371-ac3b-36c1983fe7e9\" target=\"_top\" title=\"psysml:90563c83-8b6e-4371-ac3b-36c1983fe7e9\" xlink:actuate=\"onRequest\" xlink:href=\"psysml:90563c83-8b6e-4371-ac3b-36c1983fe7e9\" xlink:show=\"new\" xlink:title=\"psysml:90563c83-8b6e-4371-ac3b-36c1983fe7e9\" xlink:type=\"simple\"><polygon fill=\"#FFFFFF\" points=\"74.32,243,98.32,243,105.32,265.2969,211.32,265.2969,211.32,356,74.32,356,74.32,243\" style=\"stroke: #000000; stroke-width: 1.5;\"/><line style=\"stroke: #000000; stroke-width: 1.5;\" x1=\"74.32\" x2=\"105.32\" y1=\"265.2969\" y2=\"265.2969\"/><text fill=\"#000000\" font-family=\"sans-serif\" font-size=\"14\" font-weight=\"bold\" lengthAdjust=\"spacingAndGlyphs\" textLength=\"18\" x=\"78.32\" y=\"257.9951\">P3</text></a><!--MD5=[7f149f147074ac12df2cb0a7728a5fb0]\n",
       "cluster E9--><a href=\"psysml:2733cc0d-ab4e-4acc-aaf2-0d4d1c16697a\" target=\"_top\" title=\"psysml:2733cc0d-ab4e-4acc-aaf2-0d4d1c16697a\" xlink:actuate=\"onRequest\" xlink:href=\"psysml:2733cc0d-ab4e-4acc-aaf2-0d4d1c16697a\" xlink:show=\"new\" xlink:title=\"psysml:2733cc0d-ab4e-4acc-aaf2-0d4d1c16697a\" xlink:type=\"simple\"><polygon fill=\"#FFFFFF\" points=\"262.32,65,286.32,65,293.32,87.2969,371.32,87.2969,371.32,178,262.32,178,262.32,65\" style=\"stroke: #000000; stroke-width: 1.5;\"/><line style=\"stroke: #000000; stroke-width: 1.5;\" x1=\"262.32\" x2=\"293.32\" y1=\"87.2969\" y2=\"87.2969\"/><text fill=\"#000000\" font-family=\"sans-serif\" font-size=\"14\" font-weight=\"bold\" lengthAdjust=\"spacingAndGlyphs\" textLength=\"18\" x=\"266.32\" y=\"79.9951\">P4</text></a><!--MD5=[270fce915f116d4de14055a7c1d9a0f3]\n",
       "class E5--><a href=\"psysml:4755439e-6dab-436e-bf4a-d220bd8663ba\" target=\"_top\" title=\"psysml:4755439e-6dab-436e-bf4a-d220bd8663ba\" xlink:actuate=\"onRequest\" xlink:href=\"psysml:4755439e-6dab-436e-bf4a-d220bd8663ba\" xlink:show=\"new\" xlink:title=\"psysml:4755439e-6dab-436e-bf4a-d220bd8663ba\" xlink:type=\"simple\"><rect fill=\"#FFFFFF\" height=\"45.9375\" id=\"E5\" rx=\"10\" ry=\"10\" style=\"stroke: #383838; stroke-width: 1.5;\" width=\"42\" x=\"345.32\" y=\"286\"/><text fill=\"#000000\" font-family=\"sans-serif\" font-size=\"12\" font-style=\"italic\" lengthAdjust=\"spacingAndGlyphs\" textLength=\"40\" x=\"346.32\" y=\"302.1387\">«part»</text><text fill=\"#000000\" font-family=\"sans-serif\" font-size=\"12\" lengthAdjust=\"spacingAndGlyphs\" textLength=\"22\" x=\"353.32\" y=\"316.1074\">x: A</text><line style=\"stroke: #383838; stroke-width: 1.5;\" x1=\"346.32\" x2=\"386.32\" y1=\"323.9375\" y2=\"323.9375\"/></a><!--MD5=[b9389687b975829384b498ac4b7476b2]\n",
       "class E8--><a href=\"psysml:dfc306bc-28cd-4074-8d12-696a322e5955\" target=\"_top\" title=\"psysml:dfc306bc-28cd-4074-8d12-696a322e5955\" xlink:actuate=\"onRequest\" xlink:href=\"psysml:dfc306bc-28cd-4074-8d12-696a322e5955\" xlink:show=\"new\" xlink:title=\"psysml:dfc306bc-28cd-4074-8d12-696a322e5955\" xlink:type=\"simple\"><rect fill=\"#FFFFFF\" height=\"45.9375\" id=\"E8\" rx=\"10\" ry=\"10\" style=\"stroke: #383838; stroke-width: 1.5;\" width=\"42\" x=\"193.32\" y=\"108\"/><text fill=\"#000000\" font-family=\"sans-serif\" font-size=\"12\" font-style=\"italic\" lengthAdjust=\"spacingAndGlyphs\" textLength=\"40\" x=\"194.32\" y=\"124.1387\">«part»</text><text fill=\"#000000\" font-family=\"sans-serif\" font-size=\"12\" lengthAdjust=\"spacingAndGlyphs\" textLength=\"21\" x=\"201.82\" y=\"138.1074\">z: B</text><line style=\"stroke: #383838; stroke-width: 1.5;\" x1=\"194.32\" x2=\"234.32\" y1=\"145.9375\" y2=\"145.9375\"/></a><!--MD5=[09b614a08d8cba4a07c9adeb5e0fee81]\n",
       "class E3--><a href=\"psysml:1f011377-ef65-4253-92ff-be4f522feeb1\" target=\"_top\" title=\"psysml:1f011377-ef65-4253-92ff-be4f522feeb1\" xlink:actuate=\"onRequest\" xlink:href=\"psysml:1f011377-ef65-4253-92ff-be4f522feeb1\" xlink:show=\"new\" xlink:title=\"psysml:1f011377-ef65-4253-92ff-be4f522feeb1\" xlink:type=\"simple\"><rect fill=\"#FFFFFF\" height=\"45.9375\" id=\"E3\" style=\"stroke: #383838; stroke-width: 1.5;\" width=\"70\" x=\"274.32\" y=\"464\"/><text fill=\"#000000\" font-family=\"sans-serif\" font-size=\"12\" font-style=\"italic\" lengthAdjust=\"spacingAndGlyphs\" textLength=\"68\" x=\"275.32\" y=\"480.1387\">«part  def»</text><text fill=\"#000000\" font-family=\"sans-serif\" font-size=\"12\" lengthAdjust=\"spacingAndGlyphs\" textLength=\"8\" x=\"305.32\" y=\"494.1074\">A</text><line style=\"stroke: #383838; stroke-width: 1.5;\" x1=\"275.32\" x2=\"343.32\" y1=\"501.9375\" y2=\"501.9375\"/></a><a href=\"psysml:7d907640-2982-4506-b0ab-4e4fe8a9afec\" target=\"_top\" title=\"psysml:7d907640-2982-4506-b0ab-4e4fe8a9afec\" xlink:actuate=\"onRequest\" xlink:href=\"psysml:7d907640-2982-4506-b0ab-4e4fe8a9afec\" xlink:show=\"new\" xlink:title=\"psysml:7d907640-2982-4506-b0ab-4e4fe8a9afec\" xlink:type=\"simple\"><polygon fill=\"#FFFFFF\" points=\"235.32,282.5,259.32,282.5,266.32,304.7969,273.32,304.7969,273.32,335.0938,235.32,335.0938,235.32,282.5\" style=\"stroke: #000000; stroke-width: 1.5;\"/><line style=\"stroke: #000000; stroke-width: 1.5;\" x1=\"235.32\" x2=\"266.32\" y1=\"304.7969\" y2=\"304.7969\"/><text fill=\"#000000\" font-family=\"sans-serif\" font-size=\"14\" font-weight=\"bold\" lengthAdjust=\"spacingAndGlyphs\" textLength=\"18\" x=\"239.32\" y=\"297.4951\">P2</text></a><!--MD5=[2156ba9850f5573cc1fc38a6a4b2f02b]\n",
       "class E7--><a href=\"psysml:bdb8801b-74e6-41c7-b5f1-114cae898237\" target=\"_top\" title=\"psysml:bdb8801b-74e6-41c7-b5f1-114cae898237\" xlink:actuate=\"onRequest\" xlink:href=\"psysml:bdb8801b-74e6-41c7-b5f1-114cae898237\" xlink:show=\"new\" xlink:title=\"psysml:bdb8801b-74e6-41c7-b5f1-114cae898237\" xlink:type=\"simple\"><rect fill=\"#FFFFFF\" height=\"45.9375\" id=\"E7\" style=\"stroke: #383838; stroke-width: 1.5;\" width=\"70\" x=\"117.32\" y=\"286\"/><text fill=\"#000000\" font-family=\"sans-serif\" font-size=\"12\" font-style=\"italic\" lengthAdjust=\"spacingAndGlyphs\" textLength=\"68\" x=\"118.32\" y=\"302.1387\">«part  def»</text><text fill=\"#000000\" font-family=\"sans-serif\" font-size=\"12\" lengthAdjust=\"spacingAndGlyphs\" textLength=\"8\" x=\"148.32\" y=\"316.1074\">B</text><line style=\"stroke: #383838; stroke-width: 1.5;\" x1=\"118.32\" x2=\"186.32\" y1=\"323.9375\" y2=\"323.9375\"/></a><!--MD5=[96f4274e9e20536e775497830990834d]\n",
       "class E10--><a href=\"psysml:aa943bbf-59d6-4c08-9403-21388691ca57\" target=\"_top\" title=\"psysml:aa943bbf-59d6-4c08-9403-21388691ca57\" xlink:actuate=\"onRequest\" xlink:href=\"psysml:aa943bbf-59d6-4c08-9403-21388691ca57\" xlink:show=\"new\" xlink:title=\"psysml:aa943bbf-59d6-4c08-9403-21388691ca57\" xlink:type=\"simple\"><rect fill=\"#FFFFFF\" height=\"45.9375\" id=\"E10\" rx=\"10\" ry=\"10\" style=\"stroke: #383838; stroke-width: 1.5;\" width=\"42\" x=\"305.32\" y=\"108\"/><text fill=\"#000000\" font-family=\"sans-serif\" font-size=\"12\" font-style=\"italic\" lengthAdjust=\"spacingAndGlyphs\" textLength=\"40\" x=\"306.32\" y=\"124.1387\">«part»</text><text fill=\"#000000\" font-family=\"sans-serif\" font-size=\"12\" lengthAdjust=\"spacingAndGlyphs\" textLength=\"29\" x=\"309.82\" y=\"138.1074\">z1: A</text><line style=\"stroke: #383838; stroke-width: 1.5;\" x1=\"306.32\" x2=\"346.32\" y1=\"145.9375\" y2=\"145.9375\"/></a><!--MD5=[185131fc0dcab0a4505a2ebe144e961b]\n",
       "link E4 to E2--><a href=\"psysml:113e6c15-2e9f-43c2-9a8b-f1023998ecb3\" target=\"_top\" title=\"psysml:113e6c15-2e9f-43c2-9a8b-f1023998ecb3\" xlink:actuate=\"onRequest\" xlink:href=\"psysml:113e6c15-2e9f-43c2-9a8b-f1023998ecb3\" xlink:show=\"new\" xlink:title=\"psysml:113e6c15-2e9f-43c2-9a8b-f1023998ecb3\" xlink:type=\"simple\"><path d=\"M244.71,335.52 C240.28,348.61 235.53,364.94 233.32,380 C231.6325,391.49 231.1388,403.7444 231.3534,415.6911 C231.3803,417.1844 231.4182,418.673 231.4662,420.1546 C231.4722,420.3398 231.4784,420.5249 231.4847,420.7099 \" fill=\"none\" id=\"E4-&gt;E2\" style=\"stroke: #383838; stroke-width: 1.0; stroke-dasharray: 7.0,7.0;\"/><polygon fill=\"#383838\" points=\"231.4847,420.7099,235.1752,411.5786,231.314,415.7128,227.1798,411.8517,231.4847,420.7099\" style=\"stroke: #383838; stroke-width: 1.0;\"/><text fill=\"#000000\" font-family=\"sans-serif\" font-size=\"13\" lengthAdjust=\"spacingAndGlyphs\" textLength=\"65\" x=\"234.32\" y=\"393.0669\">«import»*</text></a><!--MD5=[e9be52314489bd878ff4c7144b63c9e1]\n",
       "link E5 to E3--><a href=\"psysml:2e030f48-ed8d-4fbc-a256-8117ac7131ec\" target=\"_top\" title=\"psysml:2e030f48-ed8d-4fbc-a256-8117ac7131ec\" xlink:actuate=\"onRequest\" xlink:href=\"psysml:2e030f48-ed8d-4fbc-a256-8117ac7131ec\" xlink:show=\"new\" xlink:title=\"psysml:2e030f48-ed8d-4fbc-a256-8117ac7131ec\" xlink:type=\"simple\"><path d=\"M359.1,332.29 C349.98,360.46 334.1,409.49 322.72,444.61 \" fill=\"none\" id=\"E5-&gt;E3\" style=\"stroke: #383838; stroke-width: 1.0;\"/><polygon fill=\"#FFFFFF\" points=\"316.48,463.89,315.6693,443.6578,328.9893,447.9678,316.48,463.89\" style=\"stroke: #383838; stroke-width: 1.0;\"/><ellipse cx=\"319.3269\" cy=\"438.8503\" fill=\"#383838\" rx=\"2\" ry=\"2\" style=\"stroke: #383838; stroke-width: 1.0;\"/><ellipse cx=\"328.8413\" cy=\"441.9289\" fill=\"#383838\" rx=\"2\" ry=\"2\" style=\"stroke: #383838; stroke-width: 1.0;\"/></a><!--MD5=[ee384bb554873b72f85793eae40e290c]\n",
       "link E1 to E4--><a href=\"psysml:a039409c-dc44-4261-a761-133767375f35\" target=\"_top\" title=\"psysml:a039409c-dc44-4261-a761-133767375f35\" xlink:actuate=\"onRequest\" xlink:href=\"psysml:a039409c-dc44-4261-a761-133767375f35\" xlink:show=\"new\" xlink:title=\"psysml:a039409c-dc44-4261-a761-133767375f35\" xlink:type=\"simple\"><path d=\"M34.29,132.12 C33.65,134.6 23.75,174.52 42.32,194 C49.33,201.35 77.35,200.04 87.32,202 C113.19,207.09 181.71,211.88 203.32,227 C220.99,239.37 233.85,260.02 242.24,277.37 \" fill=\"none\" id=\"E1-&gt;E4\" style=\"stroke: #383838; stroke-width: 1.0; stroke-dasharray: 7.0,7.0;\"/><polygon fill=\"#383838\" points=\"244.49,282.17,244.3071,272.3228,242.3748,277.6394,237.0582,275.7072,244.49,282.17\" style=\"stroke: #383838; stroke-width: 1.0;\"/><text fill=\"#000000\" font-family=\"sans-serif\" font-size=\"13\" lengthAdjust=\"spacingAndGlyphs\" textLength=\"65\" x=\"183.32\" y=\"215.0669\">«import»*</text></a><!--MD5=[ccbd3af71bf83df0ec2a2db62d6d7130]\n",
       "link E1 to E6--><a href=\"psysml:8872cc02-851e-450c-b3e8-f90f2e3db770\" target=\"_top\" title=\"psysml:8872cc02-851e-450c-b3e8-f90f2e3db770\" xlink:actuate=\"onRequest\" xlink:href=\"psysml:8872cc02-851e-450c-b3e8-f90f2e3db770\" xlink:show=\"new\" xlink:title=\"psysml:8872cc02-851e-450c-b3e8-f90f2e3db770\" xlink:type=\"simple\"><path d=\"M26.1693,145.3513 C26.1165,145.4477 26.0635,145.5445 26.0105,145.6418 C25.9044,145.8363 25.7978,146.0325 25.6908,146.2304 C24.8349,147.8133 23.9523,149.5023 23.0614,151.284 C21.2797,154.8473 19.465,158.7813 17.765,162.9775 C10.965,179.7625 6,200.745 12.32,219 C20.295,242.035 36.9675,263.635 52.0413,279.7863 C59.5781,287.8619 66.7153,294.5753 72.1658,299.4248 C72.8471,300.031 73.502,300.6081 74.1281,301.1551 \" fill=\"none\" id=\"E1-&gt;E6\" style=\"stroke: #383838; stroke-width: 1.0; stroke-dasharray: 7.0,7.0;\"/><polygon fill=\"#383838\" points=\"74.1281,301.1551,69.982,292.2214,70.3627,297.8655,64.7187,298.2462,74.1281,301.1551\" style=\"stroke: #383838; stroke-width: 1.0;\"/><text fill=\"#000000\" font-family=\"sans-serif\" font-size=\"13\" lengthAdjust=\"spacingAndGlyphs\" textLength=\"65\" x=\"13.32\" y=\"215.0669\">«import»*</text></a><!--MD5=[bfa3c8b0d15052fdf50ae9310b491027]\n",
       "link E8 to E7--><a href=\"psysml:0934d2d2-1a49-4ac4-b6c0-cd8fa5ea19dd\" target=\"_top\" title=\"psysml:0934d2d2-1a49-4ac4-b6c0-cd8fa5ea19dd\" xlink:actuate=\"onRequest\" xlink:href=\"psysml:0934d2d2-1a49-4ac4-b6c0-cd8fa5ea19dd\" xlink:show=\"new\" xlink:title=\"psysml:0934d2d2-1a49-4ac4-b6c0-cd8fa5ea19dd\" xlink:type=\"simple\"><path d=\"M232.99,154.29 C246.61,173.37 260.16,200.59 244.32,219 C228.78,237.06 210.49,212.85 191.32,227 C178.2,236.69 169.29,251.96 163.34,266.65 \" fill=\"none\" id=\"E8-&gt;E7\" style=\"stroke: #383838; stroke-width: 1.0;\"/><polygon fill=\"#FFFFFF\" points=\"156.95,285.73,156.3404,265.4907,169.617,269.9329,156.95,285.73\" style=\"stroke: #383838; stroke-width: 1.0;\"/><ellipse cx=\"160.0457\" cy=\"260.7199\" fill=\"#383838\" rx=\"2\" ry=\"2\" style=\"stroke: #383838; stroke-width: 1.0;\"/><ellipse cx=\"169.5289\" cy=\"263.8929\" fill=\"#383838\" rx=\"2\" ry=\"2\" style=\"stroke: #383838; stroke-width: 1.0;\"/></a><!--MD5=[c2be97adba6ddfe1c8f349fab141c927]\n",
       "link E9 to E4--><a href=\"psysml:f0473cf2-6b9f-40e7-98be-e0cb9d304d8b\" target=\"_top\" title=\"psysml:f0473cf2-6b9f-40e7-98be-e0cb9d304d8b\" xlink:actuate=\"onRequest\" xlink:href=\"psysml:f0473cf2-6b9f-40e7-98be-e0cb9d304d8b\" xlink:show=\"new\" xlink:title=\"psysml:f0473cf2-6b9f-40e7-98be-e0cb9d304d8b\" xlink:type=\"simple\"><path d=\"M267.5431,178.2415 C267.5354,178.35 267.5276,178.4585 267.5198,178.5671 C267.3951,180.3034 267.2673,182.0417 267.1366,183.7729 C266.8753,187.2352 266.6025,190.6688 266.32,194 C263.93,222.21 260.49,254.26 257.9,277.18 \" fill=\"none\" id=\"E9-&gt;E4\" style=\"stroke: #383838; stroke-width: 1.0; stroke-dasharray: 7.0,7.0;\"/><polygon fill=\"#383838\" points=\"257.33,282.22,262.3075,273.7215,257.8869,277.2511,254.3572,272.8305,257.33,282.22\" style=\"stroke: #383838; stroke-width: 1.0;\"/><text fill=\"#000000\" font-family=\"sans-serif\" font-size=\"13\" lengthAdjust=\"spacingAndGlyphs\" textLength=\"65\" x=\"266.32\" y=\"215.0669\">«import»*</text></a><!--MD5=[feeac5eb423634930294aa81f2d25a4c]\n",
       "link E10 to E3--><a href=\"psysml:6083fff7-7e2a-4a1f-b6e0-00602bace9f4\" target=\"_top\" title=\"psysml:6083fff7-7e2a-4a1f-b6e0-00602bace9f4\" xlink:actuate=\"onRequest\" xlink:href=\"psysml:6083fff7-7e2a-4a1f-b6e0-00602bace9f4\" xlink:show=\"new\" xlink:title=\"psysml:6083fff7-7e2a-4a1f-b6e0-00602bace9f4\" xlink:type=\"simple\"><path d=\"M345.63,154.11 C359.77,173.07 373.99,200.22 358.32,219 C345.58,234.26 327.2,211.86 314.32,227 C300.64,243.07 304.33,374.79 307.28,443.95 \" fill=\"none\" id=\"E10-&gt;E3\" style=\"stroke: #383838; stroke-width: 1.0;\"/><polygon fill=\"#FFFFFF\" points=\"308.18,463.98,300.3317,445.3144,314.3175,444.6841,308.18,463.98\" style=\"stroke: #383838; stroke-width: 1.0;\"/><ellipse cx=\"302.0731\" cy=\"439.5301\" fill=\"#383838\" rx=\"2\" ry=\"2\" style=\"stroke: #383838; stroke-width: 1.0;\"/><ellipse cx=\"312.063\" cy=\"439.0799\" fill=\"#383838\" rx=\"2\" ry=\"2\" style=\"stroke: #383838; stroke-width: 1.0;\"/></a><!--MD5=[97702872a88247d3839231a4bdf19928]\n",
       "@startuml\r\n",
       "top to bottom direction\r\n",
       "skinparam monochrome true\r\n",
       "skinparam classbackgroundcolor white\r\n",
       "skinparam shadowing false\r\n",
       "skinparam wrapWidth 300\r\n",
       "hide circle\r\n",
       "\r\n",
       "package \"PrivateImportTest\" as E1  [[psysml:56a08668-af7c-402b-8ea6-0ffeccd2e906 ]]  {\r\n",
       "package \"P1\" as E2  [[psysml:989134c5-5272-479d-a43e-5e5573119e0c ]]  {\r\n",
       "comp def \"A\" as E3  <<(T,blue) part  def>> [[psysml:1f011377-ef65-4253-92ff-be4f522feeb1 ]] {\r\n",
       "}\r\n",
       "}\r\n",
       "package \"P2\" as E4  [[psysml:7d907640-2982-4506-b0ab-4e4fe8a9afec ]]  {\r\n",
       "}\r\n",
       "comp usage \"x: A \" as E5  <<(T,blue) part>> [[psysml:4755439e-6dab-436e-bf4a-d220bd8663ba ]] {\r\n",
       "}\r\n",
       "package \"P3\" as E6  [[psysml:90563c83-8b6e-4371-ac3b-36c1983fe7e9 ]]  {\r\n",
       "comp def \"B\" as E7  <<(T,blue) part  def>> [[psysml:bdb8801b-74e6-41c7-b5f1-114cae898237 ]] {\r\n",
       "}\r\n",
       "}\r\n",
       "comp usage \"z: B \" as E8  <<(T,blue) part>> [[psysml:dfc306bc-28cd-4074-8d12-696a322e5955 ]] {\r\n",
       "}\r\n",
       "package \"P4\" as E9  [[psysml:2733cc0d-ab4e-4acc-aaf2-0d4d1c16697a ]]  {\r\n",
       "comp usage \"z1: A \" as E10  <<(T,blue) part>> [[psysml:aa943bbf-59d6-4c08-9403-21388691ca57 ]] {\r\n",
       "}\r\n",
       "}\r\n",
       "}\r\n",
       "E4 ..> E2 [[psysml:113e6c15-2e9f-43c2-9a8b-f1023998ecb3 ]] : <<import>>*\r\n",
       "E5 - -:|> E3 [[psysml:2e030f48-ed8d-4fbc-a256-8117ac7131ec ]] \r\n",
       "E1 ..> E4 [[psysml:a039409c-dc44-4261-a761-133767375f35 ]] : <<import>>*\r\n",
       "E1 ..> E6 [[psysml:8872cc02-851e-450c-b3e8-f90f2e3db770 ]] : <<import>>*\r\n",
       "E8 - -:|> E7 [[psysml:0934d2d2-1a49-4ac4-b6c0-cd8fa5ea19dd ]] \r\n",
       "E9 ..> E4 [[psysml:f0473cf2-6b9f-40e7-98be-e0cb9d304d8b ]] : <<import>>*\r\n",
       "E10 - -:|> E3 [[psysml:6083fff7-7e2a-4a1f-b6e0-00602bace9f4 ]] \r\n",
       "@enduml\r\n",
       "\n",
       "PlantUML version 1.2020.13(Sat Jun 13 12:26:38 UTC 2020)\n",
       "(EPL source distribution)\n",
       "Java Runtime: OpenJDK Runtime Environment\n",
       "JVM: OpenJDK 64-Bit Server VM\n",
       "Default Encoding: UTF-8\n",
       "Language: en\n",
       "Country: null\n",
       "--></g></svg>"
      ]
     },
     "execution_count": 45,
     "metadata": {},
     "output_type": "execute_result"
    }
   ],
   "source": [
    "%viz --style=\"TB\" --view=\"Tree\" \"PrivateImportTest\""
   ]
  },
  {
   "cell_type": "code",
   "execution_count": 46,
   "id": "aa09fe63",
   "metadata": {
    "execution": {
     "iopub.execute_input": "2022-02-18T10:48:48.350993Z",
     "iopub.status.busy": "2022-02-18T10:48:48.350601Z",
     "iopub.status.idle": "2022-02-18T10:48:48.354901Z",
     "shell.execute_reply": "2022-02-18T10:48:48.354556Z"
    }
   },
   "outputs": [
    {
     "data": {
      "image/svg+xml": [
       "<?xml version=\"1.0\" encoding=\"UTF-8\" standalone=\"no\"?><svg xmlns=\"http://www.w3.org/2000/svg\" xmlns:xlink=\"http://www.w3.org/1999/xlink\" contentScriptType=\"application/ecmascript\" contentStyleType=\"text/css\" height=\"12px\" preserveAspectRatio=\"none\" style=\"width:12px;height:12px;\" version=\"1.1\" viewBox=\"0 0 12 12\" width=\"12px\" zoomAndPan=\"magnify\"><defs/><g><!--MD5=[f4ee21bc66e489b5061b7c3e9601fdef]\n",
       "@startuml\r\n",
       "top to bottom direction\r\n",
       "skinparam monochrome true\r\n",
       "skinparam classbackgroundcolor white\r\n",
       "skinparam shadowing false\r\n",
       "skinparam wrapWidth 300\r\n",
       "hide circle\r\n",
       "\r\n",
       "@enduml\r\n",
       "\n",
       "PlantUML version 1.2020.13(Sat Jun 13 12:26:38 UTC 2020)\n",
       "(EPL source distribution)\n",
       "Java Runtime: OpenJDK Runtime Environment\n",
       "JVM: OpenJDK 64-Bit Server VM\n",
       "Default Encoding: UTF-8\n",
       "Language: en\n",
       "Country: null\n",
       "--></g></svg>"
      ]
     },
     "execution_count": 46,
     "metadata": {},
     "output_type": "execute_result"
    }
   ],
   "source": [
    "%viz --style=\"TB\" --view=\"State\" \"PrivateImportTest\""
   ]
  },
  {
   "cell_type": "code",
   "execution_count": 47,
   "id": "590a0031",
   "metadata": {
    "execution": {
     "iopub.execute_input": "2022-02-18T10:48:48.404810Z",
     "iopub.status.busy": "2022-02-18T10:48:48.404409Z",
     "iopub.status.idle": "2022-02-18T10:48:48.437531Z",
     "shell.execute_reply": "2022-02-18T10:48:48.435499Z"
    }
   },
   "outputs": [
    {
     "data": {
      "image/svg+xml": [
       "<?xml version=\"1.0\" encoding=\"UTF-8\" standalone=\"no\"?><svg xmlns=\"http://www.w3.org/2000/svg\" xmlns:xlink=\"http://www.w3.org/1999/xlink\" contentScriptType=\"application/ecmascript\" contentStyleType=\"text/css\" height=\"521px\" preserveAspectRatio=\"none\" style=\"width:684px;height:521px;\" version=\"1.1\" viewBox=\"0 0 684 521\" width=\"684px\" zoomAndPan=\"magnify\"><defs/><g><!--MD5=[fbc87193dbaf4d95561dea2c320d4a47]\n",
       "cluster E1--><a href=\"psysml:56a08668-af7c-402b-8ea6-0ffeccd2e906\" target=\"_top\" title=\"psysml:56a08668-af7c-402b-8ea6-0ffeccd2e906\" xlink:actuate=\"onRequest\" xlink:href=\"psysml:56a08668-af7c-402b-8ea6-0ffeccd2e906\" xlink:show=\"new\" xlink:title=\"psysml:56a08668-af7c-402b-8ea6-0ffeccd2e906\" xlink:type=\"simple\"><polygon fill=\"#FFFFFF\" points=\"16,6,143,6,150,28.2969,662,28.2969,662,509.72,16,509.72,16,6\" style=\"stroke: #000000; stroke-width: 1.5;\"/><line style=\"stroke: #000000; stroke-width: 1.5;\" x1=\"16\" x2=\"150\" y1=\"28.2969\" y2=\"28.2969\"/><text fill=\"#000000\" font-family=\"sans-serif\" font-size=\"14\" font-weight=\"bold\" lengthAdjust=\"spacingAndGlyphs\" textLength=\"121\" x=\"20\" y=\"20.9951\">PrivateImportTest</text></a><!--MD5=[e4f7fae6ed58524ba242bb0b0d3be6b7]\n",
       "cluster E2--><a href=\"psysml:989134c5-5272-479d-a43e-5e5573119e0c\" target=\"_top\" title=\"psysml:989134c5-5272-479d-a43e-5e5573119e0c\" xlink:actuate=\"onRequest\" xlink:href=\"psysml:989134c5-5272-479d-a43e-5e5573119e0c\" xlink:show=\"new\" xlink:title=\"psysml:989134c5-5272-479d-a43e-5e5573119e0c\" xlink:type=\"simple\"><polygon fill=\"#FFFFFF\" points=\"221,359.72,245,359.72,252,382.0169,363,382.0169,363,469.72,221,469.72,221,359.72\" style=\"stroke: #000000; stroke-width: 1.5;\"/><line style=\"stroke: #000000; stroke-width: 1.5;\" x1=\"221\" x2=\"252\" y1=\"382.0169\" y2=\"382.0169\"/><text fill=\"#000000\" font-family=\"sans-serif\" font-size=\"14\" font-weight=\"bold\" lengthAdjust=\"spacingAndGlyphs\" textLength=\"18\" x=\"225\" y=\"374.7151\">P1</text></a><!--MD5=[14e3b0961a2654348d326746436168a1]\n",
       "cluster E6--><a href=\"psysml:90563c83-8b6e-4371-ac3b-36c1983fe7e9\" target=\"_top\" title=\"psysml:90563c83-8b6e-4371-ac3b-36c1983fe7e9\" xlink:actuate=\"onRequest\" xlink:href=\"psysml:90563c83-8b6e-4371-ac3b-36c1983fe7e9\" xlink:show=\"new\" xlink:title=\"psysml:90563c83-8b6e-4371-ac3b-36c1983fe7e9\" xlink:type=\"simple\"><polygon fill=\"#FFFFFF\" points=\"480,98.72,504,98.72,511,121.0169,622,121.0169,622,208.72,480,208.72,480,98.72\" style=\"stroke: #000000; stroke-width: 1.5;\"/><line style=\"stroke: #000000; stroke-width: 1.5;\" x1=\"480\" x2=\"511\" y1=\"121.0169\" y2=\"121.0169\"/><text fill=\"#000000\" font-family=\"sans-serif\" font-size=\"14\" font-weight=\"bold\" lengthAdjust=\"spacingAndGlyphs\" textLength=\"18\" x=\"484\" y=\"113.7151\">P3</text></a><!--MD5=[7f149f147074ac12df2cb0a7728a5fb0]\n",
       "cluster E9--><a href=\"psysml:2733cc0d-ab4e-4acc-aaf2-0d4d1c16697a\" target=\"_top\" title=\"psysml:2733cc0d-ab4e-4acc-aaf2-0d4d1c16697a\" xlink:actuate=\"onRequest\" xlink:href=\"psysml:2733cc0d-ab4e-4acc-aaf2-0d4d1c16697a\" xlink:show=\"new\" xlink:title=\"psysml:2733cc0d-ab4e-4acc-aaf2-0d4d1c16697a\" xlink:type=\"simple\"><polygon fill=\"#FFFFFF\" points=\"323,100.22,347,100.22,354,122.5169,440,122.5169,440,207.22,323,207.22,323,100.22\" style=\"stroke: #000000; stroke-width: 1.5;\"/><line style=\"stroke: #000000; stroke-width: 1.5;\" x1=\"323\" x2=\"354\" y1=\"122.5169\" y2=\"122.5169\"/><text fill=\"#000000\" font-family=\"sans-serif\" font-size=\"14\" font-weight=\"bold\" lengthAdjust=\"spacingAndGlyphs\" textLength=\"18\" x=\"327\" y=\"115.2151\">P4</text></a><g id=\"E1.E2.E3\"><a href=\"psysml:1f011377-ef65-4253-92ff-be4f522feeb1\" target=\"_top\" title=\"psysml:1f011377-ef65-4253-92ff-be4f522feeb1\" xlink:actuate=\"onRequest\" xlink:href=\"psysml:1f011377-ef65-4253-92ff-be4f522feeb1\" xlink:show=\"new\" xlink:title=\"psysml:1f011377-ef65-4253-92ff-be4f522feeb1\" xlink:type=\"simple\"><rect fill=\"#FFFFFF\" height=\"42.9375\" id=\"E3\" style=\"stroke: #383838; stroke-width: 1.5;\" width=\"75\" x=\"264.5\" y=\"402.72\"/><rect fill=\"#F8F8F8\" height=\"37.9375\" style=\"stroke: #383838; stroke-width: 1.5;\" width=\"75\" x=\"264.5\" y=\"402.72\"/><text fill=\"#000000\" font-family=\"sans-serif\" font-size=\"12\" font-style=\"italic\" lengthAdjust=\"spacingAndGlyphs\" textLength=\"68\" x=\"268\" y=\"418.8587\">«part  def»</text><text fill=\"#000000\" font-family=\"sans-serif\" font-size=\"12\" lengthAdjust=\"spacingAndGlyphs\" textLength=\"8\" x=\"298\" y=\"432.8274\">A</text></a></g><a href=\"psysml:7d907640-2982-4506-b0ab-4e4fe8a9afec\" target=\"_top\" title=\"psysml:7d907640-2982-4506-b0ab-4e4fe8a9afec\" xlink:actuate=\"onRequest\" xlink:href=\"psysml:7d907640-2982-4506-b0ab-4e4fe8a9afec\" xlink:show=\"new\" xlink:title=\"psysml:7d907640-2982-4506-b0ab-4e4fe8a9afec\" xlink:type=\"simple\"><polygon fill=\"#FFFFFF\" points=\"210,257.72,234,257.72,241,280.0169,248,280.0169,248,310.3138,210,310.3138,210,257.72\" style=\"stroke: #000000; stroke-width: 1.5;\"/><line style=\"stroke: #000000; stroke-width: 1.5;\" x1=\"210\" x2=\"241\" y1=\"280.0169\" y2=\"280.0169\"/><text fill=\"#000000\" font-family=\"sans-serif\" font-size=\"14\" font-weight=\"bold\" lengthAdjust=\"spacingAndGlyphs\" textLength=\"18\" x=\"214\" y=\"272.7151\">P2</text></a><g id=\"E1.E5\"><a href=\"psysml:4755439e-6dab-436e-bf4a-d220bd8663ba\" target=\"_top\" title=\"psysml:4755439e-6dab-436e-bf4a-d220bd8663ba\" xlink:actuate=\"onRequest\" xlink:href=\"psysml:4755439e-6dab-436e-bf4a-d220bd8663ba\" xlink:show=\"new\" xlink:title=\"psysml:4755439e-6dab-436e-bf4a-d220bd8663ba\" xlink:type=\"simple\"><rect fill=\"#FFFFFF\" height=\"40\" id=\"E5\" rx=\"10\" ry=\"10\" style=\"stroke: #383838; stroke-width: 1.5;\" width=\"50\" x=\"246\" y=\"143.22\"/><rect fill=\"#F8F8F8\" height=\"23.9688\" rx=\"10\" ry=\"10\" style=\"stroke: #F8F8F8; stroke-width: 1.5;\" width=\"50\" x=\"246\" y=\"143.22\"/><rect fill=\"#F8F8F8\" height=\"10\" style=\"stroke: #F8F8F8; stroke-width: 1.5;\" width=\"50\" x=\"246\" y=\"157.1888\"/><rect fill=\"none\" height=\"40\" id=\"E5\" rx=\"10\" ry=\"10\" style=\"stroke: #383838; stroke-width: 1.5;\" width=\"50\" x=\"246\" y=\"143.22\"/><text fill=\"#000000\" font-family=\"sans-serif\" font-size=\"12\" lengthAdjust=\"spacingAndGlyphs\" textLength=\"22\" x=\"260\" y=\"159.3587\">x: A</text></a></g><g id=\"E1.E6.E7\"><a href=\"psysml:bdb8801b-74e6-41c7-b5f1-114cae898237\" target=\"_top\" title=\"psysml:bdb8801b-74e6-41c7-b5f1-114cae898237\" xlink:actuate=\"onRequest\" xlink:href=\"psysml:bdb8801b-74e6-41c7-b5f1-114cae898237\" xlink:show=\"new\" xlink:title=\"psysml:bdb8801b-74e6-41c7-b5f1-114cae898237\" xlink:type=\"simple\"><rect fill=\"#FFFFFF\" height=\"42.9375\" id=\"E7\" style=\"stroke: #383838; stroke-width: 1.5;\" width=\"75\" x=\"523.5\" y=\"141.72\"/><rect fill=\"#F8F8F8\" height=\"37.9375\" style=\"stroke: #383838; stroke-width: 1.5;\" width=\"75\" x=\"523.5\" y=\"141.72\"/><text fill=\"#000000\" font-family=\"sans-serif\" font-size=\"12\" font-style=\"italic\" lengthAdjust=\"spacingAndGlyphs\" textLength=\"68\" x=\"527\" y=\"157.8587\">«part  def»</text><text fill=\"#000000\" font-family=\"sans-serif\" font-size=\"12\" lengthAdjust=\"spacingAndGlyphs\" textLength=\"8\" x=\"557\" y=\"171.8274\">B</text></a></g><g id=\"E1.E8\"><a href=\"psysml:dfc306bc-28cd-4074-8d12-696a322e5955\" target=\"_top\" title=\"psysml:dfc306bc-28cd-4074-8d12-696a322e5955\" xlink:actuate=\"onRequest\" xlink:href=\"psysml:dfc306bc-28cd-4074-8d12-696a322e5955\" xlink:show=\"new\" xlink:title=\"psysml:dfc306bc-28cd-4074-8d12-696a322e5955\" xlink:type=\"simple\"><rect fill=\"#FFFFFF\" height=\"40\" id=\"E8\" rx=\"10\" ry=\"10\" style=\"stroke: #383838; stroke-width: 1.5;\" width=\"50\" x=\"161\" y=\"143.22\"/><rect fill=\"#F8F8F8\" height=\"23.9688\" rx=\"10\" ry=\"10\" style=\"stroke: #F8F8F8; stroke-width: 1.5;\" width=\"50\" x=\"161\" y=\"143.22\"/><rect fill=\"#F8F8F8\" height=\"10\" style=\"stroke: #F8F8F8; stroke-width: 1.5;\" width=\"50\" x=\"161\" y=\"157.1888\"/><rect fill=\"none\" height=\"40\" id=\"E8\" rx=\"10\" ry=\"10\" style=\"stroke: #383838; stroke-width: 1.5;\" width=\"50\" x=\"161\" y=\"143.22\"/><text fill=\"#000000\" font-family=\"sans-serif\" font-size=\"12\" lengthAdjust=\"spacingAndGlyphs\" textLength=\"21\" x=\"175.5\" y=\"159.3587\">z: B</text></a></g><g id=\"E1.E9.E10\"><a href=\"psysml:aa943bbf-59d6-4c08-9403-21388691ca57\" target=\"_top\" title=\"psysml:aa943bbf-59d6-4c08-9403-21388691ca57\" xlink:actuate=\"onRequest\" xlink:href=\"psysml:aa943bbf-59d6-4c08-9403-21388691ca57\" xlink:show=\"new\" xlink:title=\"psysml:aa943bbf-59d6-4c08-9403-21388691ca57\" xlink:type=\"simple\"><rect fill=\"#FFFFFF\" height=\"40\" id=\"E10\" rx=\"10\" ry=\"10\" style=\"stroke: #383838; stroke-width: 1.5;\" width=\"50\" x=\"366\" y=\"143.22\"/><rect fill=\"#F8F8F8\" height=\"23.9688\" rx=\"10\" ry=\"10\" style=\"stroke: #F8F8F8; stroke-width: 1.5;\" width=\"50\" x=\"366\" y=\"143.22\"/><rect fill=\"#F8F8F8\" height=\"10\" style=\"stroke: #F8F8F8; stroke-width: 1.5;\" width=\"50\" x=\"366\" y=\"157.1888\"/><rect fill=\"none\" height=\"40\" id=\"E10\" rx=\"10\" ry=\"10\" style=\"stroke: #383838; stroke-width: 1.5;\" width=\"50\" x=\"366\" y=\"143.22\"/><text fill=\"#000000\" font-family=\"sans-serif\" font-size=\"12\" lengthAdjust=\"spacingAndGlyphs\" textLength=\"29\" x=\"376.5\" y=\"159.3587\">z1: A</text></a></g><!--MD5=[185131fc0dcab0a4505a2ebe144e961b]\n",
       "link E4 to E2--><a href=\"psysml:113e6c15-2e9f-43c2-9a8b-f1023998ecb3\" target=\"_top\" title=\"psysml:113e6c15-2e9f-43c2-9a8b-f1023998ecb3\" xlink:actuate=\"onRequest\" xlink:href=\"psysml:113e6c15-2e9f-43c2-9a8b-f1023998ecb3\" xlink:show=\"new\" xlink:title=\"psysml:113e6c15-2e9f-43c2-9a8b-f1023998ecb3\" xlink:type=\"simple\"><path d=\"M229,310.85 C229,320.6725 229,332.4656 229,344.6647 C229,347.7145 229,350.7896 229,353.8656 C229,355.4037 229,356.9419 229,358.4774 C229,358.8612 229,359.2449 229,359.6284 \" fill=\"none\" id=\"E4-&gt;E2\" style=\"stroke: #383838; stroke-width: 1.0; stroke-dasharray: 7.0,7.0;\"/><polygon fill=\"#383838\" points=\"229,359.6284,233,350.6284,229,354.6284,225,350.6284,229,359.6284\" style=\"stroke: #383838; stroke-width: 1.0;\"/><text fill=\"#000000\" font-family=\"sans-serif\" font-size=\"13\" lengthAdjust=\"spacingAndGlyphs\" textLength=\"65\" x=\"230\" y=\"331.7869\">«import»*</text></a><!--MD5=[ee384bb554873b72f85793eae40e290c]\n",
       "link E1 to E4--><a href=\"psysml:a039409c-dc44-4261-a761-133767375f35\" target=\"_top\" title=\"psysml:a039409c-dc44-4261-a761-133767375f35\" xlink:actuate=\"onRequest\" xlink:href=\"psysml:a039409c-dc44-4261-a761-133767375f35\" xlink:show=\"new\" xlink:title=\"psysml:a039409c-dc44-4261-a761-133767375f35\" xlink:type=\"simple\"><path d=\"M175.95,33.72 C173.76,33.59 103.7,29.68 77,66.72 C35.94,123.69 37.25,166.83 77,224.72 C105.87,266.76 169.5,278.6 204.59,281.93 \" fill=\"none\" id=\"E1-&gt;E4\" style=\"stroke: #383838; stroke-width: 1.0; stroke-dasharray: 7.0,7.0;\"/><polygon fill=\"#383838\" points=\"209.96,282.39,201.3368,277.6318,204.9785,281.9606,200.6497,285.6022,209.96,282.39\" style=\"stroke: #383838; stroke-width: 1.0;\"/><text fill=\"#000000\" font-family=\"sans-serif\" font-size=\"13\" lengthAdjust=\"spacingAndGlyphs\" textLength=\"65\" x=\"78\" y=\"167.7869\">«import»*</text></a><!--MD5=[ccbd3af71bf83df0ec2a2db62d6d7130]\n",
       "link E1 to E6--><a href=\"psysml:8872cc02-851e-450c-b3e8-f90f2e3db770\" target=\"_top\" title=\"psysml:8872cc02-851e-450c-b3e8-f90f2e3db770\" xlink:actuate=\"onRequest\" xlink:href=\"psysml:8872cc02-851e-450c-b3e8-f90f2e3db770\" xlink:show=\"new\" xlink:title=\"psysml:8872cc02-851e-450c-b3e8-f90f2e3db770\" xlink:type=\"simple\"><path d=\"M176.15,33.72 C182.47,33.77 384.9,35.57 432,66.72 C452.2,80.08 466.0825,103.4225 474.9725,123.685 C476.0837,126.2178 477.117,128.7025 478.0748,131.1135 C478.5537,132.3191 479.0138,133.5062 479.4553,134.6717 C479.5657,134.9631 479.6749,135.2531 479.783,135.5417 C479.837,135.6861 479.8908,135.83 479.9442,135.9736 \" fill=\"none\" id=\"E1-&gt;E6\" style=\"stroke: #383838; stroke-width: 1.0; stroke-dasharray: 7.0,7.0;\"/><polygon fill=\"#383838\" points=\"479.9442,135.9736,480.5531,126.1436,478.1999,131.2878,473.0557,128.9345,479.9442,135.9736\" style=\"stroke: #383838; stroke-width: 1.0;\"/><text fill=\"#000000\" font-family=\"sans-serif\" font-size=\"13\" lengthAdjust=\"spacingAndGlyphs\" textLength=\"65\" x=\"414\" y=\"54.7869\">«import»*</text></a><!--MD5=[c2be97adba6ddfe1c8f349fab141c927]\n",
       "link E9 to E4--><a href=\"psysml:f0473cf2-6b9f-40e7-98be-e0cb9d304d8b\" target=\"_top\" title=\"psysml:f0473cf2-6b9f-40e7-98be-e0cb9d304d8b\" xlink:actuate=\"onRequest\" xlink:href=\"psysml:f0473cf2-6b9f-40e7-98be-e0cb9d304d8b\" xlink:show=\"new\" xlink:title=\"psysml:f0473cf2-6b9f-40e7-98be-e0cb9d304d8b\" xlink:type=\"simple\"><path d=\"M333.2513,207.4285 C333.1775,207.8356 333.1,208.2422 333.0186,208.6479 C332.8558,209.4593 332.6776,210.2676 332.4829,211.0712 C332.0936,212.6783 331.6386,214.2668 331.1103,215.8251 C330.0536,218.9417 328.7038,221.9375 327,224.72 C310.48,251.7 276.46,267.78 253.18,276.06 \" fill=\"none\" id=\"E9-&gt;E4\" style=\"stroke: #383838; stroke-width: 1.0; stroke-dasharray: 7.0,7.0;\"/><polygon fill=\"#383838\" points=\"248.39,277.71,258.202,278.5612,253.1175,276.0818,255.5969,270.9973,248.39,277.71\" style=\"stroke: #383838; stroke-width: 1.0;\"/><text fill=\"#000000\" font-family=\"sans-serif\" font-size=\"13\" lengthAdjust=\"spacingAndGlyphs\" textLength=\"65\" x=\"320\" y=\"245.7869\">«import»*</text></a><!--MD5=[d597721e689d9664111cb62d7fb39163]\n",
       "@startuml\r\n",
       "skinparam ranksep 10\r\n",
       "skinparam rectangle {\r\n",
       " backgroundColor<<block>> LightGreen\r\n",
       "}\r\n",
       "top to bottom direction\r\n",
       "skinparam monochrome true\r\n",
       "skinparam classbackgroundcolor white\r\n",
       "skinparam shadowing false\r\n",
       "skinparam wrapWidth 300\r\n",
       "hide circle\r\n",
       "\r\n",
       "package \"PrivateImportTest\" as E1  [[psysml:56a08668-af7c-402b-8ea6-0ffeccd2e906 ]]  {\r\n",
       "package \"P1\" as E2  [[psysml:989134c5-5272-479d-a43e-5e5573119e0c ]]  {\r\n",
       "rec def \"A\" as E3  <<(T,blue) part  def>> [[psysml:1f011377-ef65-4253-92ff-be4f522feeb1 ]] {\r\n",
       "}\r\n",
       "}\r\n",
       "package \"P2\" as E4  [[psysml:7d907640-2982-4506-b0ab-4e4fe8a9afec ]]  {\r\n",
       "}\r\n",
       "rec usage \"x: A\" as E5  [[psysml:4755439e-6dab-436e-bf4a-d220bd8663ba ]] {\r\n",
       "}\r\n",
       "package \"P3\" as E6  [[psysml:90563c83-8b6e-4371-ac3b-36c1983fe7e9 ]]  {\r\n",
       "rec def \"B\" as E7  <<(T,blue) part  def>> [[psysml:bdb8801b-74e6-41c7-b5f1-114cae898237 ]] {\r\n",
       "}\r\n",
       "}\r\n",
       "rec usage \"z: B\" as E8  [[psysml:dfc306bc-28cd-4074-8d12-696a322e5955 ]] {\r\n",
       "}\r\n",
       "package \"P4\" as E9  [[psysml:2733cc0d-ab4e-4acc-aaf2-0d4d1c16697a ]]  {\r\n",
       "rec usage \"z1: A\" as E10  [[psysml:aa943bbf-59d6-4c08-9403-21388691ca57 ]] {\r\n",
       "}\r\n",
       "}\r\n",
       "}\r\n",
       "E4 ..> E2 [[psysml:113e6c15-2e9f-43c2-9a8b-f1023998ecb3 ]] : <<import>>*\r\n",
       "E1 ..> E4 [[psysml:a039409c-dc44-4261-a761-133767375f35 ]] : <<import>>*\r\n",
       "E1 ..> E6 [[psysml:8872cc02-851e-450c-b3e8-f90f2e3db770 ]] : <<import>>*\r\n",
       "E9 ..> E4 [[psysml:f0473cf2-6b9f-40e7-98be-e0cb9d304d8b ]] : <<import>>*\r\n",
       "@enduml\r\n",
       "\n",
       "PlantUML version 1.2020.13(Sat Jun 13 12:26:38 UTC 2020)\n",
       "(EPL source distribution)\n",
       "Java Runtime: OpenJDK Runtime Environment\n",
       "JVM: OpenJDK 64-Bit Server VM\n",
       "Default Encoding: UTF-8\n",
       "Language: en\n",
       "Country: null\n",
       "--></g></svg>"
      ]
     },
     "execution_count": 47,
     "metadata": {},
     "output_type": "execute_result"
    }
   ],
   "source": [
    "%viz --style=\"TB\" --view=\"Interconnection\" \"PrivateImportTest\""
   ]
  },
  {
   "cell_type": "code",
   "execution_count": 48,
   "id": "97e12874",
   "metadata": {
    "execution": {
     "iopub.execute_input": "2022-02-18T10:48:48.486122Z",
     "iopub.status.busy": "2022-02-18T10:48:48.485678Z",
     "iopub.status.idle": "2022-02-18T10:48:48.489887Z",
     "shell.execute_reply": "2022-02-18T10:48:48.489544Z"
    }
   },
   "outputs": [
    {
     "data": {
      "image/svg+xml": [
       "<?xml version=\"1.0\" encoding=\"UTF-8\" standalone=\"no\"?><svg xmlns=\"http://www.w3.org/2000/svg\" xmlns:xlink=\"http://www.w3.org/1999/xlink\" contentScriptType=\"application/ecmascript\" contentStyleType=\"text/css\" height=\"12px\" preserveAspectRatio=\"none\" style=\"width:12px;height:12px;\" version=\"1.1\" viewBox=\"0 0 12 12\" width=\"12px\" zoomAndPan=\"magnify\"><defs/><g><!--MD5=[06afc254b03ac5e9d9fb7773b07d0800]\n",
       "@startuml\r\n",
       "skinparam ranksep 8\r\n",
       "top to bottom direction\r\n",
       "skinparam monochrome true\r\n",
       "skinparam classbackgroundcolor white\r\n",
       "skinparam shadowing false\r\n",
       "skinparam wrapWidth 300\r\n",
       "hide circle\r\n",
       "\r\n",
       "@enduml\r\n",
       "\n",
       "PlantUML version 1.2020.13(Sat Jun 13 12:26:38 UTC 2020)\n",
       "(EPL source distribution)\n",
       "Java Runtime: OpenJDK Runtime Environment\n",
       "JVM: OpenJDK 64-Bit Server VM\n",
       "Default Encoding: UTF-8\n",
       "Language: en\n",
       "Country: null\n",
       "--></g></svg>"
      ]
     },
     "execution_count": 48,
     "metadata": {},
     "output_type": "execute_result"
    }
   ],
   "source": [
    "%viz --style=\"TB\" --view=\"Action\" \"PrivateImportTest\""
   ]
  },
  {
   "cell_type": "code",
   "execution_count": 49,
   "id": "3ae6ac5f",
   "metadata": {
    "execution": {
     "iopub.execute_input": "2022-02-18T10:48:48.539862Z",
     "iopub.status.busy": "2022-02-18T10:48:48.539436Z",
     "iopub.status.idle": "2022-02-18T10:48:48.544000Z",
     "shell.execute_reply": "2022-02-18T10:48:48.543650Z"
    }
   },
   "outputs": [
    {
     "data": {
      "image/svg+xml": [
       "<?xml version=\"1.0\" encoding=\"UTF-8\" standalone=\"no\"?><svg xmlns=\"http://www.w3.org/2000/svg\" xmlns:xlink=\"http://www.w3.org/1999/xlink\" contentScriptType=\"application/ecmascript\" contentStyleType=\"text/css\" height=\"12px\" preserveAspectRatio=\"none\" style=\"width:12px;height:12px;\" version=\"1.1\" viewBox=\"0 0 12 12\" width=\"12px\" zoomAndPan=\"magnify\"><defs/><g><!--MD5=[e1ab0c84c44d2fef8bf5f140f2689906]\n",
       "@startuml\r\n",
       "skinparam roundcorner 20\r\n",
       "skinparam BoxPadding 20\r\n",
       "skinparam SequenceBoxBackgroundColor #white\r\n",
       "skinparam style strictuml\r\n",
       "skinparam maxMessageSize 100\r\n",
       "top to bottom direction\r\n",
       "skinparam monochrome true\r\n",
       "skinparam classbackgroundcolor white\r\n",
       "skinparam shadowing false\r\n",
       "skinparam wrapWidth 300\r\n",
       "hide circle\r\n",
       "\r\n",
       "@enduml\r\n",
       "\n",
       "PlantUML version 1.2020.13(Sat Jun 13 12:26:38 UTC 2020)\n",
       "(EPL source distribution)\n",
       "Java Runtime: OpenJDK Runtime Environment\n",
       "JVM: OpenJDK 64-Bit Server VM\n",
       "Default Encoding: UTF-8\n",
       "Language: en\n",
       "Country: null\n",
       "--></g></svg>"
      ]
     },
     "execution_count": 49,
     "metadata": {},
     "output_type": "execute_result"
    }
   ],
   "source": [
    "%viz --style=\"TB\" --view=\"Sequence\" \"PrivateImportTest\""
   ]
  },
  {
   "cell_type": "code",
   "execution_count": 50,
   "id": "18952419",
   "metadata": {
    "execution": {
     "iopub.execute_input": "2022-02-18T10:48:48.594046Z",
     "iopub.status.busy": "2022-02-18T10:48:48.593625Z",
     "iopub.status.idle": "2022-02-18T10:48:48.628812Z",
     "shell.execute_reply": "2022-02-18T10:48:48.627404Z"
    }
   },
   "outputs": [
    {
     "data": {
      "image/svg+xml": [
       "<?xml version=\"1.0\" encoding=\"UTF-8\" standalone=\"no\"?><svg xmlns=\"http://www.w3.org/2000/svg\" xmlns:xlink=\"http://www.w3.org/1999/xlink\" contentScriptType=\"application/ecmascript\" contentStyleType=\"text/css\" height=\"586px\" preserveAspectRatio=\"none\" style=\"width:433px;height:586px;\" version=\"1.1\" viewBox=\"0 0 433 586\" width=\"433px\" zoomAndPan=\"magnify\"><defs/><g><!--MD5=[fbc87193dbaf4d95561dea2c320d4a47]\n",
       "cluster E1--><a href=\"psysml:56a08668-af7c-402b-8ea6-0ffeccd2e906\" target=\"_top\" title=\"psysml:56a08668-af7c-402b-8ea6-0ffeccd2e906\" xlink:actuate=\"onRequest\" xlink:href=\"psysml:56a08668-af7c-402b-8ea6-0ffeccd2e906\" xlink:show=\"new\" xlink:title=\"psysml:56a08668-af7c-402b-8ea6-0ffeccd2e906\" xlink:type=\"simple\"><polygon fill=\"#FFFFFF\" points=\"26.32,6,153.32,6,160.32,28.2969,411.32,28.2969,411.32,574,26.32,574,26.32,6\" style=\"stroke: #000000; stroke-width: 1.5;\"/><line style=\"stroke: #000000; stroke-width: 1.5;\" x1=\"26.32\" x2=\"160.32\" y1=\"28.2969\" y2=\"28.2969\"/><text fill=\"#000000\" font-family=\"sans-serif\" font-size=\"14\" font-weight=\"bold\" lengthAdjust=\"spacingAndGlyphs\" textLength=\"121\" x=\"30.32\" y=\"20.9951\">PrivateImportTest</text></a><!--MD5=[e4f7fae6ed58524ba242bb0b0d3be6b7]\n",
       "cluster E2--><a href=\"psysml:989134c5-5272-479d-a43e-5e5573119e0c\" target=\"_top\" title=\"psysml:989134c5-5272-479d-a43e-5e5573119e0c\" xlink:actuate=\"onRequest\" xlink:href=\"psysml:989134c5-5272-479d-a43e-5e5573119e0c\" xlink:show=\"new\" xlink:title=\"psysml:989134c5-5272-479d-a43e-5e5573119e0c\" xlink:type=\"simple\"><polygon fill=\"#FFFFFF\" points=\"231.32,421,255.32,421,262.32,443.2969,368.32,443.2969,368.32,534,231.32,534,231.32,421\" style=\"stroke: #000000; stroke-width: 1.5;\"/><line style=\"stroke: #000000; stroke-width: 1.5;\" x1=\"231.32\" x2=\"262.32\" y1=\"443.2969\" y2=\"443.2969\"/><text fill=\"#000000\" font-family=\"sans-serif\" font-size=\"14\" font-weight=\"bold\" lengthAdjust=\"spacingAndGlyphs\" textLength=\"18\" x=\"235.32\" y=\"435.9951\">P1</text></a><!--MD5=[14e3b0961a2654348d326746436168a1]\n",
       "cluster E6--><a href=\"psysml:90563c83-8b6e-4371-ac3b-36c1983fe7e9\" target=\"_top\" title=\"psysml:90563c83-8b6e-4371-ac3b-36c1983fe7e9\" xlink:actuate=\"onRequest\" xlink:href=\"psysml:90563c83-8b6e-4371-ac3b-36c1983fe7e9\" xlink:show=\"new\" xlink:title=\"psysml:90563c83-8b6e-4371-ac3b-36c1983fe7e9\" xlink:type=\"simple\"><polygon fill=\"#FFFFFF\" points=\"74.32,243,98.32,243,105.32,265.2969,211.32,265.2969,211.32,356,74.32,356,74.32,243\" style=\"stroke: #000000; stroke-width: 1.5;\"/><line style=\"stroke: #000000; stroke-width: 1.5;\" x1=\"74.32\" x2=\"105.32\" y1=\"265.2969\" y2=\"265.2969\"/><text fill=\"#000000\" font-family=\"sans-serif\" font-size=\"14\" font-weight=\"bold\" lengthAdjust=\"spacingAndGlyphs\" textLength=\"18\" x=\"78.32\" y=\"257.9951\">P3</text></a><!--MD5=[7f149f147074ac12df2cb0a7728a5fb0]\n",
       "cluster E9--><a href=\"psysml:2733cc0d-ab4e-4acc-aaf2-0d4d1c16697a\" target=\"_top\" title=\"psysml:2733cc0d-ab4e-4acc-aaf2-0d4d1c16697a\" xlink:actuate=\"onRequest\" xlink:href=\"psysml:2733cc0d-ab4e-4acc-aaf2-0d4d1c16697a\" xlink:show=\"new\" xlink:title=\"psysml:2733cc0d-ab4e-4acc-aaf2-0d4d1c16697a\" xlink:type=\"simple\"><polygon fill=\"#FFFFFF\" points=\"262.32,65,286.32,65,293.32,87.2969,371.32,87.2969,371.32,178,262.32,178,262.32,65\" style=\"stroke: #000000; stroke-width: 1.5;\"/><line style=\"stroke: #000000; stroke-width: 1.5;\" x1=\"262.32\" x2=\"293.32\" y1=\"87.2969\" y2=\"87.2969\"/><text fill=\"#000000\" font-family=\"sans-serif\" font-size=\"14\" font-weight=\"bold\" lengthAdjust=\"spacingAndGlyphs\" textLength=\"18\" x=\"266.32\" y=\"79.9951\">P4</text></a><!--MD5=[270fce915f116d4de14055a7c1d9a0f3]\n",
       "class E5--><a href=\"psysml:4755439e-6dab-436e-bf4a-d220bd8663ba\" target=\"_top\" title=\"psysml:4755439e-6dab-436e-bf4a-d220bd8663ba\" xlink:actuate=\"onRequest\" xlink:href=\"psysml:4755439e-6dab-436e-bf4a-d220bd8663ba\" xlink:show=\"new\" xlink:title=\"psysml:4755439e-6dab-436e-bf4a-d220bd8663ba\" xlink:type=\"simple\"><rect fill=\"#FFFFFF\" height=\"45.9375\" id=\"E5\" rx=\"10\" ry=\"10\" style=\"stroke: #383838; stroke-width: 1.5;\" width=\"42\" x=\"345.32\" y=\"286\"/><text fill=\"#000000\" font-family=\"sans-serif\" font-size=\"12\" font-style=\"italic\" lengthAdjust=\"spacingAndGlyphs\" textLength=\"40\" x=\"346.32\" y=\"302.1387\">«part»</text><text fill=\"#000000\" font-family=\"sans-serif\" font-size=\"12\" lengthAdjust=\"spacingAndGlyphs\" textLength=\"22\" x=\"353.32\" y=\"316.1074\">x: A</text><line style=\"stroke: #383838; stroke-width: 1.5;\" x1=\"346.32\" x2=\"386.32\" y1=\"323.9375\" y2=\"323.9375\"/></a><!--MD5=[b9389687b975829384b498ac4b7476b2]\n",
       "class E8--><a href=\"psysml:dfc306bc-28cd-4074-8d12-696a322e5955\" target=\"_top\" title=\"psysml:dfc306bc-28cd-4074-8d12-696a322e5955\" xlink:actuate=\"onRequest\" xlink:href=\"psysml:dfc306bc-28cd-4074-8d12-696a322e5955\" xlink:show=\"new\" xlink:title=\"psysml:dfc306bc-28cd-4074-8d12-696a322e5955\" xlink:type=\"simple\"><rect fill=\"#FFFFFF\" height=\"45.9375\" id=\"E8\" rx=\"10\" ry=\"10\" style=\"stroke: #383838; stroke-width: 1.5;\" width=\"42\" x=\"193.32\" y=\"108\"/><text fill=\"#000000\" font-family=\"sans-serif\" font-size=\"12\" font-style=\"italic\" lengthAdjust=\"spacingAndGlyphs\" textLength=\"40\" x=\"194.32\" y=\"124.1387\">«part»</text><text fill=\"#000000\" font-family=\"sans-serif\" font-size=\"12\" lengthAdjust=\"spacingAndGlyphs\" textLength=\"21\" x=\"201.82\" y=\"138.1074\">z: B</text><line style=\"stroke: #383838; stroke-width: 1.5;\" x1=\"194.32\" x2=\"234.32\" y1=\"145.9375\" y2=\"145.9375\"/></a><!--MD5=[09b614a08d8cba4a07c9adeb5e0fee81]\n",
       "class E3--><a href=\"psysml:1f011377-ef65-4253-92ff-be4f522feeb1\" target=\"_top\" title=\"psysml:1f011377-ef65-4253-92ff-be4f522feeb1\" xlink:actuate=\"onRequest\" xlink:href=\"psysml:1f011377-ef65-4253-92ff-be4f522feeb1\" xlink:show=\"new\" xlink:title=\"psysml:1f011377-ef65-4253-92ff-be4f522feeb1\" xlink:type=\"simple\"><rect fill=\"#FFFFFF\" height=\"45.9375\" id=\"E3\" style=\"stroke: #383838; stroke-width: 1.5;\" width=\"70\" x=\"274.32\" y=\"464\"/><text fill=\"#000000\" font-family=\"sans-serif\" font-size=\"12\" font-style=\"italic\" lengthAdjust=\"spacingAndGlyphs\" textLength=\"68\" x=\"275.32\" y=\"480.1387\">«part  def»</text><text fill=\"#000000\" font-family=\"sans-serif\" font-size=\"12\" lengthAdjust=\"spacingAndGlyphs\" textLength=\"8\" x=\"305.32\" y=\"494.1074\">A</text><line style=\"stroke: #383838; stroke-width: 1.5;\" x1=\"275.32\" x2=\"343.32\" y1=\"501.9375\" y2=\"501.9375\"/></a><a href=\"psysml:7d907640-2982-4506-b0ab-4e4fe8a9afec\" target=\"_top\" title=\"psysml:7d907640-2982-4506-b0ab-4e4fe8a9afec\" xlink:actuate=\"onRequest\" xlink:href=\"psysml:7d907640-2982-4506-b0ab-4e4fe8a9afec\" xlink:show=\"new\" xlink:title=\"psysml:7d907640-2982-4506-b0ab-4e4fe8a9afec\" xlink:type=\"simple\"><polygon fill=\"#FFFFFF\" points=\"235.32,282.5,259.32,282.5,266.32,304.7969,273.32,304.7969,273.32,335.0938,235.32,335.0938,235.32,282.5\" style=\"stroke: #000000; stroke-width: 1.5;\"/><line style=\"stroke: #000000; stroke-width: 1.5;\" x1=\"235.32\" x2=\"266.32\" y1=\"304.7969\" y2=\"304.7969\"/><text fill=\"#000000\" font-family=\"sans-serif\" font-size=\"14\" font-weight=\"bold\" lengthAdjust=\"spacingAndGlyphs\" textLength=\"18\" x=\"239.32\" y=\"297.4951\">P2</text></a><!--MD5=[2156ba9850f5573cc1fc38a6a4b2f02b]\n",
       "class E7--><a href=\"psysml:bdb8801b-74e6-41c7-b5f1-114cae898237\" target=\"_top\" title=\"psysml:bdb8801b-74e6-41c7-b5f1-114cae898237\" xlink:actuate=\"onRequest\" xlink:href=\"psysml:bdb8801b-74e6-41c7-b5f1-114cae898237\" xlink:show=\"new\" xlink:title=\"psysml:bdb8801b-74e6-41c7-b5f1-114cae898237\" xlink:type=\"simple\"><rect fill=\"#FFFFFF\" height=\"45.9375\" id=\"E7\" style=\"stroke: #383838; stroke-width: 1.5;\" width=\"70\" x=\"117.32\" y=\"286\"/><text fill=\"#000000\" font-family=\"sans-serif\" font-size=\"12\" font-style=\"italic\" lengthAdjust=\"spacingAndGlyphs\" textLength=\"68\" x=\"118.32\" y=\"302.1387\">«part  def»</text><text fill=\"#000000\" font-family=\"sans-serif\" font-size=\"12\" lengthAdjust=\"spacingAndGlyphs\" textLength=\"8\" x=\"148.32\" y=\"316.1074\">B</text><line style=\"stroke: #383838; stroke-width: 1.5;\" x1=\"118.32\" x2=\"186.32\" y1=\"323.9375\" y2=\"323.9375\"/></a><!--MD5=[96f4274e9e20536e775497830990834d]\n",
       "class E10--><a href=\"psysml:aa943bbf-59d6-4c08-9403-21388691ca57\" target=\"_top\" title=\"psysml:aa943bbf-59d6-4c08-9403-21388691ca57\" xlink:actuate=\"onRequest\" xlink:href=\"psysml:aa943bbf-59d6-4c08-9403-21388691ca57\" xlink:show=\"new\" xlink:title=\"psysml:aa943bbf-59d6-4c08-9403-21388691ca57\" xlink:type=\"simple\"><rect fill=\"#FFFFFF\" height=\"45.9375\" id=\"E10\" rx=\"10\" ry=\"10\" style=\"stroke: #383838; stroke-width: 1.5;\" width=\"42\" x=\"305.32\" y=\"108\"/><text fill=\"#000000\" font-family=\"sans-serif\" font-size=\"12\" font-style=\"italic\" lengthAdjust=\"spacingAndGlyphs\" textLength=\"40\" x=\"306.32\" y=\"124.1387\">«part»</text><text fill=\"#000000\" font-family=\"sans-serif\" font-size=\"12\" lengthAdjust=\"spacingAndGlyphs\" textLength=\"29\" x=\"309.82\" y=\"138.1074\">z1: A</text><line style=\"stroke: #383838; stroke-width: 1.5;\" x1=\"306.32\" x2=\"346.32\" y1=\"145.9375\" y2=\"145.9375\"/></a><!--MD5=[185131fc0dcab0a4505a2ebe144e961b]\n",
       "link E4 to E2--><a href=\"psysml:113e6c15-2e9f-43c2-9a8b-f1023998ecb3\" target=\"_top\" title=\"psysml:113e6c15-2e9f-43c2-9a8b-f1023998ecb3\" xlink:actuate=\"onRequest\" xlink:href=\"psysml:113e6c15-2e9f-43c2-9a8b-f1023998ecb3\" xlink:show=\"new\" xlink:title=\"psysml:113e6c15-2e9f-43c2-9a8b-f1023998ecb3\" xlink:type=\"simple\"><path d=\"M244.71,335.52 C240.28,348.61 235.53,364.94 233.32,380 C231.6325,391.49 231.1388,403.7444 231.3534,415.6911 C231.3803,417.1844 231.4182,418.673 231.4662,420.1546 C231.4722,420.3398 231.4784,420.5249 231.4847,420.7099 \" fill=\"none\" id=\"E4-&gt;E2\" style=\"stroke: #383838; stroke-width: 1.0; stroke-dasharray: 7.0,7.0;\"/><polygon fill=\"#383838\" points=\"231.4847,420.7099,235.1752,411.5786,231.314,415.7128,227.1798,411.8517,231.4847,420.7099\" style=\"stroke: #383838; stroke-width: 1.0;\"/><text fill=\"#000000\" font-family=\"sans-serif\" font-size=\"13\" lengthAdjust=\"spacingAndGlyphs\" textLength=\"65\" x=\"234.32\" y=\"393.0669\">«import»*</text></a><!--MD5=[e9be52314489bd878ff4c7144b63c9e1]\n",
       "link E5 to E3--><a href=\"psysml:2e030f48-ed8d-4fbc-a256-8117ac7131ec\" target=\"_top\" title=\"psysml:2e030f48-ed8d-4fbc-a256-8117ac7131ec\" xlink:actuate=\"onRequest\" xlink:href=\"psysml:2e030f48-ed8d-4fbc-a256-8117ac7131ec\" xlink:show=\"new\" xlink:title=\"psysml:2e030f48-ed8d-4fbc-a256-8117ac7131ec\" xlink:type=\"simple\"><path d=\"M359.1,332.29 C349.98,360.46 334.1,409.49 322.72,444.61 \" fill=\"none\" id=\"E5-&gt;E3\" style=\"stroke: #383838; stroke-width: 1.0;\"/><polygon fill=\"#FFFFFF\" points=\"316.48,463.89,315.6693,443.6578,328.9893,447.9678,316.48,463.89\" style=\"stroke: #383838; stroke-width: 1.0;\"/><ellipse cx=\"319.3269\" cy=\"438.8503\" fill=\"#383838\" rx=\"2\" ry=\"2\" style=\"stroke: #383838; stroke-width: 1.0;\"/><ellipse cx=\"328.8413\" cy=\"441.9289\" fill=\"#383838\" rx=\"2\" ry=\"2\" style=\"stroke: #383838; stroke-width: 1.0;\"/></a><!--MD5=[ee384bb554873b72f85793eae40e290c]\n",
       "link E1 to E4--><a href=\"psysml:a039409c-dc44-4261-a761-133767375f35\" target=\"_top\" title=\"psysml:a039409c-dc44-4261-a761-133767375f35\" xlink:actuate=\"onRequest\" xlink:href=\"psysml:a039409c-dc44-4261-a761-133767375f35\" xlink:show=\"new\" xlink:title=\"psysml:a039409c-dc44-4261-a761-133767375f35\" xlink:type=\"simple\"><path d=\"M34.29,132.12 C33.65,134.6 23.75,174.52 42.32,194 C49.33,201.35 77.35,200.04 87.32,202 C113.19,207.09 181.71,211.88 203.32,227 C220.99,239.37 233.85,260.02 242.24,277.37 \" fill=\"none\" id=\"E1-&gt;E4\" style=\"stroke: #383838; stroke-width: 1.0; stroke-dasharray: 7.0,7.0;\"/><polygon fill=\"#383838\" points=\"244.49,282.17,244.3071,272.3228,242.3748,277.6394,237.0582,275.7072,244.49,282.17\" style=\"stroke: #383838; stroke-width: 1.0;\"/><text fill=\"#000000\" font-family=\"sans-serif\" font-size=\"13\" lengthAdjust=\"spacingAndGlyphs\" textLength=\"65\" x=\"183.32\" y=\"215.0669\">«import»*</text></a><!--MD5=[ccbd3af71bf83df0ec2a2db62d6d7130]\n",
       "link E1 to E6--><a href=\"psysml:8872cc02-851e-450c-b3e8-f90f2e3db770\" target=\"_top\" title=\"psysml:8872cc02-851e-450c-b3e8-f90f2e3db770\" xlink:actuate=\"onRequest\" xlink:href=\"psysml:8872cc02-851e-450c-b3e8-f90f2e3db770\" xlink:show=\"new\" xlink:title=\"psysml:8872cc02-851e-450c-b3e8-f90f2e3db770\" xlink:type=\"simple\"><path d=\"M26.1693,145.3513 C26.1165,145.4477 26.0635,145.5445 26.0105,145.6418 C25.9044,145.8363 25.7978,146.0325 25.6908,146.2304 C24.8349,147.8133 23.9523,149.5023 23.0614,151.284 C21.2797,154.8473 19.465,158.7813 17.765,162.9775 C10.965,179.7625 6,200.745 12.32,219 C20.295,242.035 36.9675,263.635 52.0413,279.7863 C59.5781,287.8619 66.7153,294.5753 72.1658,299.4248 C72.8471,300.031 73.502,300.6081 74.1281,301.1551 \" fill=\"none\" id=\"E1-&gt;E6\" style=\"stroke: #383838; stroke-width: 1.0; stroke-dasharray: 7.0,7.0;\"/><polygon fill=\"#383838\" points=\"74.1281,301.1551,69.982,292.2214,70.3627,297.8655,64.7187,298.2462,74.1281,301.1551\" style=\"stroke: #383838; stroke-width: 1.0;\"/><text fill=\"#000000\" font-family=\"sans-serif\" font-size=\"13\" lengthAdjust=\"spacingAndGlyphs\" textLength=\"65\" x=\"13.32\" y=\"215.0669\">«import»*</text></a><!--MD5=[bfa3c8b0d15052fdf50ae9310b491027]\n",
       "link E8 to E7--><a href=\"psysml:0934d2d2-1a49-4ac4-b6c0-cd8fa5ea19dd\" target=\"_top\" title=\"psysml:0934d2d2-1a49-4ac4-b6c0-cd8fa5ea19dd\" xlink:actuate=\"onRequest\" xlink:href=\"psysml:0934d2d2-1a49-4ac4-b6c0-cd8fa5ea19dd\" xlink:show=\"new\" xlink:title=\"psysml:0934d2d2-1a49-4ac4-b6c0-cd8fa5ea19dd\" xlink:type=\"simple\"><path d=\"M232.99,154.29 C246.61,173.37 260.16,200.59 244.32,219 C228.78,237.06 210.49,212.85 191.32,227 C178.2,236.69 169.29,251.96 163.34,266.65 \" fill=\"none\" id=\"E8-&gt;E7\" style=\"stroke: #383838; stroke-width: 1.0;\"/><polygon fill=\"#FFFFFF\" points=\"156.95,285.73,156.3404,265.4907,169.617,269.9329,156.95,285.73\" style=\"stroke: #383838; stroke-width: 1.0;\"/><ellipse cx=\"160.0457\" cy=\"260.7199\" fill=\"#383838\" rx=\"2\" ry=\"2\" style=\"stroke: #383838; stroke-width: 1.0;\"/><ellipse cx=\"169.5289\" cy=\"263.8929\" fill=\"#383838\" rx=\"2\" ry=\"2\" style=\"stroke: #383838; stroke-width: 1.0;\"/></a><!--MD5=[c2be97adba6ddfe1c8f349fab141c927]\n",
       "link E9 to E4--><a href=\"psysml:f0473cf2-6b9f-40e7-98be-e0cb9d304d8b\" target=\"_top\" title=\"psysml:f0473cf2-6b9f-40e7-98be-e0cb9d304d8b\" xlink:actuate=\"onRequest\" xlink:href=\"psysml:f0473cf2-6b9f-40e7-98be-e0cb9d304d8b\" xlink:show=\"new\" xlink:title=\"psysml:f0473cf2-6b9f-40e7-98be-e0cb9d304d8b\" xlink:type=\"simple\"><path d=\"M267.5431,178.2415 C267.5354,178.35 267.5276,178.4585 267.5198,178.5671 C267.3951,180.3034 267.2673,182.0417 267.1366,183.7729 C266.8753,187.2352 266.6025,190.6688 266.32,194 C263.93,222.21 260.49,254.26 257.9,277.18 \" fill=\"none\" id=\"E9-&gt;E4\" style=\"stroke: #383838; stroke-width: 1.0; stroke-dasharray: 7.0,7.0;\"/><polygon fill=\"#383838\" points=\"257.33,282.22,262.3075,273.7215,257.8869,277.2511,254.3572,272.8305,257.33,282.22\" style=\"stroke: #383838; stroke-width: 1.0;\"/><text fill=\"#000000\" font-family=\"sans-serif\" font-size=\"13\" lengthAdjust=\"spacingAndGlyphs\" textLength=\"65\" x=\"266.32\" y=\"215.0669\">«import»*</text></a><!--MD5=[feeac5eb423634930294aa81f2d25a4c]\n",
       "link E10 to E3--><a href=\"psysml:6083fff7-7e2a-4a1f-b6e0-00602bace9f4\" target=\"_top\" title=\"psysml:6083fff7-7e2a-4a1f-b6e0-00602bace9f4\" xlink:actuate=\"onRequest\" xlink:href=\"psysml:6083fff7-7e2a-4a1f-b6e0-00602bace9f4\" xlink:show=\"new\" xlink:title=\"psysml:6083fff7-7e2a-4a1f-b6e0-00602bace9f4\" xlink:type=\"simple\"><path d=\"M345.63,154.11 C359.77,173.07 373.99,200.22 358.32,219 C345.58,234.26 327.2,211.86 314.32,227 C300.64,243.07 304.33,374.79 307.28,443.95 \" fill=\"none\" id=\"E10-&gt;E3\" style=\"stroke: #383838; stroke-width: 1.0;\"/><polygon fill=\"#FFFFFF\" points=\"308.18,463.98,300.3317,445.3144,314.3175,444.6841,308.18,463.98\" style=\"stroke: #383838; stroke-width: 1.0;\"/><ellipse cx=\"302.0731\" cy=\"439.5301\" fill=\"#383838\" rx=\"2\" ry=\"2\" style=\"stroke: #383838; stroke-width: 1.0;\"/><ellipse cx=\"312.063\" cy=\"439.0799\" fill=\"#383838\" rx=\"2\" ry=\"2\" style=\"stroke: #383838; stroke-width: 1.0;\"/></a><!--MD5=[97702872a88247d3839231a4bdf19928]\n",
       "@startuml\r\n",
       "top to bottom direction\r\n",
       "skinparam monochrome true\r\n",
       "skinparam classbackgroundcolor white\r\n",
       "skinparam shadowing false\r\n",
       "skinparam wrapWidth 300\r\n",
       "hide circle\r\n",
       "\r\n",
       "package \"PrivateImportTest\" as E1  [[psysml:56a08668-af7c-402b-8ea6-0ffeccd2e906 ]]  {\r\n",
       "package \"P1\" as E2  [[psysml:989134c5-5272-479d-a43e-5e5573119e0c ]]  {\r\n",
       "comp def \"A\" as E3  <<(T,blue) part  def>> [[psysml:1f011377-ef65-4253-92ff-be4f522feeb1 ]] {\r\n",
       "}\r\n",
       "}\r\n",
       "package \"P2\" as E4  [[psysml:7d907640-2982-4506-b0ab-4e4fe8a9afec ]]  {\r\n",
       "}\r\n",
       "comp usage \"x: A \" as E5  <<(T,blue) part>> [[psysml:4755439e-6dab-436e-bf4a-d220bd8663ba ]] {\r\n",
       "}\r\n",
       "package \"P3\" as E6  [[psysml:90563c83-8b6e-4371-ac3b-36c1983fe7e9 ]]  {\r\n",
       "comp def \"B\" as E7  <<(T,blue) part  def>> [[psysml:bdb8801b-74e6-41c7-b5f1-114cae898237 ]] {\r\n",
       "}\r\n",
       "}\r\n",
       "comp usage \"z: B \" as E8  <<(T,blue) part>> [[psysml:dfc306bc-28cd-4074-8d12-696a322e5955 ]] {\r\n",
       "}\r\n",
       "package \"P4\" as E9  [[psysml:2733cc0d-ab4e-4acc-aaf2-0d4d1c16697a ]]  {\r\n",
       "comp usage \"z1: A \" as E10  <<(T,blue) part>> [[psysml:aa943bbf-59d6-4c08-9403-21388691ca57 ]] {\r\n",
       "}\r\n",
       "}\r\n",
       "}\r\n",
       "E4 ..> E2 [[psysml:113e6c15-2e9f-43c2-9a8b-f1023998ecb3 ]] : <<import>>*\r\n",
       "E5 - -:|> E3 [[psysml:2e030f48-ed8d-4fbc-a256-8117ac7131ec ]] \r\n",
       "E1 ..> E4 [[psysml:a039409c-dc44-4261-a761-133767375f35 ]] : <<import>>*\r\n",
       "E1 ..> E6 [[psysml:8872cc02-851e-450c-b3e8-f90f2e3db770 ]] : <<import>>*\r\n",
       "E8 - -:|> E7 [[psysml:0934d2d2-1a49-4ac4-b6c0-cd8fa5ea19dd ]] \r\n",
       "E9 ..> E4 [[psysml:f0473cf2-6b9f-40e7-98be-e0cb9d304d8b ]] : <<import>>*\r\n",
       "E10 - -:|> E3 [[psysml:6083fff7-7e2a-4a1f-b6e0-00602bace9f4 ]] \r\n",
       "@enduml\r\n",
       "\n",
       "PlantUML version 1.2020.13(Sat Jun 13 12:26:38 UTC 2020)\n",
       "(EPL source distribution)\n",
       "Java Runtime: OpenJDK Runtime Environment\n",
       "JVM: OpenJDK 64-Bit Server VM\n",
       "Default Encoding: UTF-8\n",
       "Language: en\n",
       "Country: null\n",
       "--></g></svg>"
      ]
     },
     "execution_count": 50,
     "metadata": {},
     "output_type": "execute_result"
    }
   ],
   "source": [
    "%viz --style=\"TB\" --view=\"MIXED\" \"PrivateImportTest\""
   ]
  },
  {
   "cell_type": "code",
   "execution_count": 51,
   "id": "2ddfba43",
   "metadata": {
    "execution": {
     "iopub.execute_input": "2022-02-18T10:48:48.678179Z",
     "iopub.status.busy": "2022-02-18T10:48:48.677765Z",
     "iopub.status.idle": "2022-02-18T10:48:48.713542Z",
     "shell.execute_reply": "2022-02-18T10:48:48.713010Z"
    }
   },
   "outputs": [
    {
     "data": {
      "image/svg+xml": [
       "<?xml version=\"1.0\" encoding=\"UTF-8\" standalone=\"no\"?><svg xmlns=\"http://www.w3.org/2000/svg\" xmlns:xlink=\"http://www.w3.org/1999/xlink\" contentScriptType=\"application/ecmascript\" contentStyleType=\"text/css\" height=\"586px\" preserveAspectRatio=\"none\" style=\"width:423px;height:586px;\" version=\"1.1\" viewBox=\"0 0 423 586\" width=\"423px\" zoomAndPan=\"magnify\"><defs/><g><!--MD5=[fbc87193dbaf4d95561dea2c320d4a47]\n",
       "cluster E1--><a href=\"psysml:56a08668-af7c-402b-8ea6-0ffeccd2e906\" target=\"_top\" title=\"psysml:56a08668-af7c-402b-8ea6-0ffeccd2e906\" xlink:actuate=\"onRequest\" xlink:href=\"psysml:56a08668-af7c-402b-8ea6-0ffeccd2e906\" xlink:show=\"new\" xlink:title=\"psysml:56a08668-af7c-402b-8ea6-0ffeccd2e906\" xlink:type=\"simple\"><polygon fill=\"#FFFFFF\" points=\"16,6,143,6,150,28.2969,401,28.2969,401,574,16,574,16,6\" style=\"stroke: #000000; stroke-width: 1.5;\"/><line style=\"stroke: #000000; stroke-width: 1.5;\" x1=\"16\" x2=\"150\" y1=\"28.2969\" y2=\"28.2969\"/><text fill=\"#000000\" font-family=\"sans-serif\" font-size=\"14\" font-weight=\"bold\" lengthAdjust=\"spacingAndGlyphs\" textLength=\"121\" x=\"20\" y=\"20.9951\">PrivateImportTest</text></a><!--MD5=[e4f7fae6ed58524ba242bb0b0d3be6b7]\n",
       "cluster E2--><a href=\"psysml:989134c5-5272-479d-a43e-5e5573119e0c\" target=\"_top\" title=\"psysml:989134c5-5272-479d-a43e-5e5573119e0c\" xlink:actuate=\"onRequest\" xlink:href=\"psysml:989134c5-5272-479d-a43e-5e5573119e0c\" xlink:show=\"new\" xlink:title=\"psysml:989134c5-5272-479d-a43e-5e5573119e0c\" xlink:type=\"simple\"><polygon fill=\"#FFFFFF\" points=\"221,421,245,421,252,443.2969,358,443.2969,358,534,221,534,221,421\" style=\"stroke: #000000; stroke-width: 1.5;\"/><line style=\"stroke: #000000; stroke-width: 1.5;\" x1=\"221\" x2=\"252\" y1=\"443.2969\" y2=\"443.2969\"/><text fill=\"#000000\" font-family=\"sans-serif\" font-size=\"14\" font-weight=\"bold\" lengthAdjust=\"spacingAndGlyphs\" textLength=\"18\" x=\"225\" y=\"435.9951\">P1</text></a><!--MD5=[14e3b0961a2654348d326746436168a1]\n",
       "cluster E6--><a href=\"psysml:90563c83-8b6e-4371-ac3b-36c1983fe7e9\" target=\"_top\" title=\"psysml:90563c83-8b6e-4371-ac3b-36c1983fe7e9\" xlink:actuate=\"onRequest\" xlink:href=\"psysml:90563c83-8b6e-4371-ac3b-36c1983fe7e9\" xlink:show=\"new\" xlink:title=\"psysml:90563c83-8b6e-4371-ac3b-36c1983fe7e9\" xlink:type=\"simple\"><polygon fill=\"#FFFFFF\" points=\"64,243,88,243,95,265.2969,201,265.2969,201,356,64,356,64,243\" style=\"stroke: #000000; stroke-width: 1.5;\"/><line style=\"stroke: #000000; stroke-width: 1.5;\" x1=\"64\" x2=\"95\" y1=\"265.2969\" y2=\"265.2969\"/><text fill=\"#000000\" font-family=\"sans-serif\" font-size=\"14\" font-weight=\"bold\" lengthAdjust=\"spacingAndGlyphs\" textLength=\"18\" x=\"68\" y=\"257.9951\">P3</text></a><!--MD5=[7f149f147074ac12df2cb0a7728a5fb0]\n",
       "cluster E9--><a href=\"psysml:2733cc0d-ab4e-4acc-aaf2-0d4d1c16697a\" target=\"_top\" title=\"psysml:2733cc0d-ab4e-4acc-aaf2-0d4d1c16697a\" xlink:actuate=\"onRequest\" xlink:href=\"psysml:2733cc0d-ab4e-4acc-aaf2-0d4d1c16697a\" xlink:show=\"new\" xlink:title=\"psysml:2733cc0d-ab4e-4acc-aaf2-0d4d1c16697a\" xlink:type=\"simple\"><polygon fill=\"#FFFFFF\" points=\"252,65,276,65,283,87.2969,361,87.2969,361,178,252,178,252,65\" style=\"stroke: #000000; stroke-width: 1.5;\"/><line style=\"stroke: #000000; stroke-width: 1.5;\" x1=\"252\" x2=\"283\" y1=\"87.2969\" y2=\"87.2969\"/><text fill=\"#000000\" font-family=\"sans-serif\" font-size=\"14\" font-weight=\"bold\" lengthAdjust=\"spacingAndGlyphs\" textLength=\"18\" x=\"256\" y=\"79.9951\">P4</text></a><!--MD5=[270fce915f116d4de14055a7c1d9a0f3]\n",
       "class E5--><a href=\"psysml:4755439e-6dab-436e-bf4a-d220bd8663ba\" target=\"_top\" title=\"psysml:4755439e-6dab-436e-bf4a-d220bd8663ba\" xlink:actuate=\"onRequest\" xlink:href=\"psysml:4755439e-6dab-436e-bf4a-d220bd8663ba\" xlink:show=\"new\" xlink:title=\"psysml:4755439e-6dab-436e-bf4a-d220bd8663ba\" xlink:type=\"simple\"><rect fill=\"#FFFFFF\" height=\"45.9375\" id=\"E5\" rx=\"10\" ry=\"10\" style=\"stroke: #383838; stroke-width: 1.5;\" width=\"42\" x=\"335\" y=\"286\"/><text fill=\"#000000\" font-family=\"sans-serif\" font-size=\"12\" font-style=\"italic\" lengthAdjust=\"spacingAndGlyphs\" textLength=\"40\" x=\"336\" y=\"302.1387\">«part»</text><text fill=\"#000000\" font-family=\"sans-serif\" font-size=\"12\" lengthAdjust=\"spacingAndGlyphs\" textLength=\"22\" x=\"343\" y=\"316.1074\">x: A</text><line style=\"stroke: #383838; stroke-width: 1.5;\" x1=\"336\" x2=\"376\" y1=\"323.9375\" y2=\"323.9375\"/></a><!--MD5=[b9389687b975829384b498ac4b7476b2]\n",
       "class E8--><a href=\"psysml:dfc306bc-28cd-4074-8d12-696a322e5955\" target=\"_top\" title=\"psysml:dfc306bc-28cd-4074-8d12-696a322e5955\" xlink:actuate=\"onRequest\" xlink:href=\"psysml:dfc306bc-28cd-4074-8d12-696a322e5955\" xlink:show=\"new\" xlink:title=\"psysml:dfc306bc-28cd-4074-8d12-696a322e5955\" xlink:type=\"simple\"><rect fill=\"#FFFFFF\" height=\"45.9375\" id=\"E8\" rx=\"10\" ry=\"10\" style=\"stroke: #383838; stroke-width: 1.5;\" width=\"42\" x=\"183\" y=\"108\"/><text fill=\"#000000\" font-family=\"sans-serif\" font-size=\"12\" font-style=\"italic\" lengthAdjust=\"spacingAndGlyphs\" textLength=\"40\" x=\"184\" y=\"124.1387\">«part»</text><text fill=\"#000000\" font-family=\"sans-serif\" font-size=\"12\" lengthAdjust=\"spacingAndGlyphs\" textLength=\"21\" x=\"191.5\" y=\"138.1074\">z: B</text><line style=\"stroke: #383838; stroke-width: 1.5;\" x1=\"184\" x2=\"224\" y1=\"145.9375\" y2=\"145.9375\"/></a><!--MD5=[09b614a08d8cba4a07c9adeb5e0fee81]\n",
       "class E3--><a href=\"psysml:1f011377-ef65-4253-92ff-be4f522feeb1\" target=\"_top\" title=\"psysml:1f011377-ef65-4253-92ff-be4f522feeb1\" xlink:actuate=\"onRequest\" xlink:href=\"psysml:1f011377-ef65-4253-92ff-be4f522feeb1\" xlink:show=\"new\" xlink:title=\"psysml:1f011377-ef65-4253-92ff-be4f522feeb1\" xlink:type=\"simple\"><rect fill=\"#FFFFFF\" height=\"45.9375\" id=\"E3\" style=\"stroke: #383838; stroke-width: 1.5;\" width=\"70\" x=\"264\" y=\"464\"/><text fill=\"#000000\" font-family=\"sans-serif\" font-size=\"12\" font-style=\"italic\" lengthAdjust=\"spacingAndGlyphs\" textLength=\"68\" x=\"265\" y=\"480.1387\">«part  def»</text><text fill=\"#000000\" font-family=\"sans-serif\" font-size=\"12\" lengthAdjust=\"spacingAndGlyphs\" textLength=\"8\" x=\"295\" y=\"494.1074\">A</text><line style=\"stroke: #383838; stroke-width: 1.5;\" x1=\"265\" x2=\"333\" y1=\"501.9375\" y2=\"501.9375\"/></a><a href=\"psysml:7d907640-2982-4506-b0ab-4e4fe8a9afec\" target=\"_top\" title=\"psysml:7d907640-2982-4506-b0ab-4e4fe8a9afec\" xlink:actuate=\"onRequest\" xlink:href=\"psysml:7d907640-2982-4506-b0ab-4e4fe8a9afec\" xlink:show=\"new\" xlink:title=\"psysml:7d907640-2982-4506-b0ab-4e4fe8a9afec\" xlink:type=\"simple\"><polygon fill=\"#FFFFFF\" points=\"225,282.5,249,282.5,256,304.7969,263,304.7969,263,335.0938,225,335.0938,225,282.5\" style=\"stroke: #000000; stroke-width: 1.5;\"/><line style=\"stroke: #000000; stroke-width: 1.5;\" x1=\"225\" x2=\"256\" y1=\"304.7969\" y2=\"304.7969\"/><text fill=\"#000000\" font-family=\"sans-serif\" font-size=\"14\" font-weight=\"bold\" lengthAdjust=\"spacingAndGlyphs\" textLength=\"18\" x=\"229\" y=\"297.4951\">P2</text></a><!--MD5=[2156ba9850f5573cc1fc38a6a4b2f02b]\n",
       "class E7--><a href=\"psysml:bdb8801b-74e6-41c7-b5f1-114cae898237\" target=\"_top\" title=\"psysml:bdb8801b-74e6-41c7-b5f1-114cae898237\" xlink:actuate=\"onRequest\" xlink:href=\"psysml:bdb8801b-74e6-41c7-b5f1-114cae898237\" xlink:show=\"new\" xlink:title=\"psysml:bdb8801b-74e6-41c7-b5f1-114cae898237\" xlink:type=\"simple\"><rect fill=\"#FFFFFF\" height=\"45.9375\" id=\"E7\" style=\"stroke: #383838; stroke-width: 1.5;\" width=\"70\" x=\"107\" y=\"286\"/><text fill=\"#000000\" font-family=\"sans-serif\" font-size=\"12\" font-style=\"italic\" lengthAdjust=\"spacingAndGlyphs\" textLength=\"68\" x=\"108\" y=\"302.1387\">«part  def»</text><text fill=\"#000000\" font-family=\"sans-serif\" font-size=\"12\" lengthAdjust=\"spacingAndGlyphs\" textLength=\"8\" x=\"138\" y=\"316.1074\">B</text><line style=\"stroke: #383838; stroke-width: 1.5;\" x1=\"108\" x2=\"176\" y1=\"323.9375\" y2=\"323.9375\"/></a><!--MD5=[96f4274e9e20536e775497830990834d]\n",
       "class E10--><a href=\"psysml:aa943bbf-59d6-4c08-9403-21388691ca57\" target=\"_top\" title=\"psysml:aa943bbf-59d6-4c08-9403-21388691ca57\" xlink:actuate=\"onRequest\" xlink:href=\"psysml:aa943bbf-59d6-4c08-9403-21388691ca57\" xlink:show=\"new\" xlink:title=\"psysml:aa943bbf-59d6-4c08-9403-21388691ca57\" xlink:type=\"simple\"><rect fill=\"#FFFFFF\" height=\"45.9375\" id=\"E10\" rx=\"10\" ry=\"10\" style=\"stroke: #383838; stroke-width: 1.5;\" width=\"42\" x=\"295\" y=\"108\"/><text fill=\"#000000\" font-family=\"sans-serif\" font-size=\"12\" font-style=\"italic\" lengthAdjust=\"spacingAndGlyphs\" textLength=\"40\" x=\"296\" y=\"124.1387\">«part»</text><text fill=\"#000000\" font-family=\"sans-serif\" font-size=\"12\" lengthAdjust=\"spacingAndGlyphs\" textLength=\"29\" x=\"299.5\" y=\"138.1074\">z1: A</text><line style=\"stroke: #383838; stroke-width: 1.5;\" x1=\"296\" x2=\"336\" y1=\"145.9375\" y2=\"145.9375\"/></a><!--MD5=[185131fc0dcab0a4505a2ebe144e961b]\n",
       "link E4 to E2--><a href=\"psysml:113e6c15-2e9f-43c2-9a8b-f1023998ecb3\" target=\"_top\" title=\"psysml:113e6c15-2e9f-43c2-9a8b-f1023998ecb3\" xlink:actuate=\"onRequest\" xlink:href=\"psysml:113e6c15-2e9f-43c2-9a8b-f1023998ecb3\" xlink:show=\"new\" xlink:title=\"psysml:113e6c15-2e9f-43c2-9a8b-f1023998ecb3\" xlink:type=\"simple\"><path d=\"M229,335.65 C229,347.4825 229,362.2694 229,377.9309 C229,385.7617 229,393.8112 229,401.8193 C229,405.8234 229,409.8172 229,413.7681 C229,415.7436 229,417.7084 229,419.6584 C229,419.9021 229,420.1456 229,420.3889 \" fill=\"none\" id=\"E4-&gt;E2\" style=\"stroke: #383838; stroke-width: 1.0; stroke-dasharray: 7.0,7.0;\"/><polygon fill=\"#383838\" points=\"229,420.3889,233,411.3889,229,415.3889,225,411.3889,229,420.3889\" style=\"stroke: #383838; stroke-width: 1.0;\"/><text fill=\"#000000\" font-family=\"sans-serif\" font-size=\"13\" lengthAdjust=\"spacingAndGlyphs\" textLength=\"65\" x=\"227\" y=\"393.0669\">«import»*</text></a><!--MD5=[e9be52314489bd878ff4c7144b63c9e1]\n",
       "link E5 to E3--><a href=\"psysml:2e030f48-ed8d-4fbc-a256-8117ac7131ec\" target=\"_top\" title=\"psysml:2e030f48-ed8d-4fbc-a256-8117ac7131ec\" xlink:actuate=\"onRequest\" xlink:href=\"psysml:2e030f48-ed8d-4fbc-a256-8117ac7131ec\" xlink:show=\"new\" xlink:title=\"psysml:2e030f48-ed8d-4fbc-a256-8117ac7131ec\" xlink:type=\"simple\"><path d=\"M334.83,309 C327.46,309 321,309 321,309 C321,309 321,443.73 321,443.73 \" fill=\"none\" id=\"E5-&gt;E3\" style=\"stroke: #383838; stroke-width: 1.0;\"/><polygon fill=\"#FFFFFF\" points=\"321,463.73,314,444.73,328,444.73,321,463.73\" style=\"stroke: #383838; stroke-width: 1.0;\"/><ellipse cx=\"316\" cy=\"439.03\" fill=\"#383838\" rx=\"2\" ry=\"2\" style=\"stroke: #383838; stroke-width: 1.0;\"/><ellipse cx=\"326\" cy=\"439.03\" fill=\"#383838\" rx=\"2\" ry=\"2\" style=\"stroke: #383838; stroke-width: 1.0;\"/></a><!--MD5=[ee384bb554873b72f85793eae40e290c]\n",
       "link E1 to E4--><a href=\"psysml:a039409c-dc44-4261-a761-133767375f35\" target=\"_top\" title=\"psysml:a039409c-dc44-4261-a761-133767375f35\" xlink:actuate=\"onRequest\" xlink:href=\"psysml:a039409c-dc44-4261-a761-133767375f35\" xlink:show=\"new\" xlink:title=\"psysml:a039409c-dc44-4261-a761-133767375f35\" xlink:type=\"simple\"><path d=\"M24,131.56 C24,139.06 24,219 24,219 C24,219 242,219 242,219 C242,219 242,277.48 242,277.48 \" fill=\"none\" id=\"E1-&gt;E4\" style=\"stroke: #383838; stroke-width: 1.0; stroke-dasharray: 7.0,7.0;\"/><polygon fill=\"#383838\" points=\"242,282.48,246,273.48,242,277.48,238,273.48,242,282.48\" style=\"stroke: #383838; stroke-width: 1.0;\"/><text fill=\"#000000\" font-family=\"sans-serif\" font-size=\"13\" lengthAdjust=\"spacingAndGlyphs\" textLength=\"65\" x=\"167\" y=\"215.0669\">«import»*</text></a><!--MD5=[ccbd3af71bf83df0ec2a2db62d6d7130]\n",
       "link E1 to E6--><a href=\"psysml:8872cc02-851e-450c-b3e8-f90f2e3db770\" target=\"_top\" title=\"psysml:8872cc02-851e-450c-b3e8-f90f2e3db770\" xlink:actuate=\"onRequest\" xlink:href=\"psysml:8872cc02-851e-450c-b3e8-f90f2e3db770\" xlink:show=\"new\" xlink:title=\"psysml:8872cc02-851e-450c-b3e8-f90f2e3db770\" xlink:type=\"simple\"><path d=\"M24.54,131 C29.81,131 72,131 72,131 C72,131 72,172.7625 72,215.83 C72,221.2134 72,226.6173 72,231.9625 C72,234.6351 72,237.293 72,239.9264 C72,240.5848 72,241.2416 72,241.8967 C72,242.2243 72,242.5514 72,242.8781 \" fill=\"none\" id=\"E1-&gt;E6\" style=\"stroke: #383838; stroke-width: 1.0; stroke-dasharray: 7.0,7.0;\"/><polygon fill=\"#383838\" points=\"72,242.8781,76,233.8781,72,237.8781,68,233.8781,72,242.8781\" style=\"stroke: #383838; stroke-width: 1.0;\"/><text fill=\"#000000\" font-family=\"sans-serif\" font-size=\"13\" lengthAdjust=\"spacingAndGlyphs\" textLength=\"65\" x=\"60\" y=\"215.0669\">«import»*</text></a><!--MD5=[bfa3c8b0d15052fdf50ae9310b491027]\n",
       "link E8 to E7--><a href=\"psysml:0934d2d2-1a49-4ac4-b6c0-cd8fa5ea19dd\" target=\"_top\" title=\"psysml:0934d2d2-1a49-4ac4-b6c0-cd8fa5ea19dd\" xlink:actuate=\"onRequest\" xlink:href=\"psysml:0934d2d2-1a49-4ac4-b6c0-cd8fa5ea19dd\" xlink:show=\"new\" xlink:title=\"psysml:0934d2d2-1a49-4ac4-b6c0-cd8fa5ea19dd\" xlink:type=\"simple\"><path d=\"M204,154.27 C204,202.52 204,309 204,309 C204,309 197.35,309 197.35,309 \" fill=\"none\" id=\"E8-&gt;E7\" style=\"stroke: #383838; stroke-width: 1.0;\"/><polygon fill=\"#FFFFFF\" points=\"177.35,309,196.35,302,196.35,316,177.35,309\" style=\"stroke: #383838; stroke-width: 1.0;\"/><ellipse cx=\"202.05\" cy=\"304\" fill=\"#383838\" rx=\"2\" ry=\"2\" style=\"stroke: #383838; stroke-width: 1.0;\"/><ellipse cx=\"202.05\" cy=\"314\" fill=\"#383838\" rx=\"2\" ry=\"2\" style=\"stroke: #383838; stroke-width: 1.0;\"/></a><!--MD5=[c2be97adba6ddfe1c8f349fab141c927]\n",
       "link E9 to E4--><a href=\"psysml:f0473cf2-6b9f-40e7-98be-e0cb9d304d8b\" target=\"_top\" title=\"psysml:f0473cf2-6b9f-40e7-98be-e0cb9d304d8b\" xlink:actuate=\"onRequest\" xlink:href=\"psysml:f0473cf2-6b9f-40e7-98be-e0cb9d304d8b\" xlink:show=\"new\" xlink:title=\"psysml:f0473cf2-6b9f-40e7-98be-e0cb9d304d8b\" xlink:type=\"simple\"><path d=\"M260,178.4607 C260,178.7288 260,178.9975 260,179.2667 C260,179.8052 260,180.3457 260,180.8882 C260,181.9731 260,183.0658 260,184.1652 C260,186.364 260,188.5895 260,190.8328 C260,195.3194 260,199.8772 260,204.435 C260,240.8975 260,277.36 260,277.36 \" fill=\"none\" id=\"E9-&gt;E4\" style=\"stroke: #383838; stroke-width: 1.0; stroke-dasharray: 7.0,7.0;\"/><polygon fill=\"#383838\" points=\"260,282.36,264,273.36,260,277.36,256,273.36,260,282.36\" style=\"stroke: #383838; stroke-width: 1.0;\"/><text fill=\"#000000\" font-family=\"sans-serif\" font-size=\"13\" lengthAdjust=\"spacingAndGlyphs\" textLength=\"65\" x=\"281\" y=\"215.0669\">«import»*</text></a><!--MD5=[feeac5eb423634930294aa81f2d25a4c]\n",
       "link E10 to E3--><a href=\"psysml:6083fff7-7e2a-4a1f-b6e0-00602bace9f4\" target=\"_top\" title=\"psysml:6083fff7-7e2a-4a1f-b6e0-00602bace9f4\" xlink:actuate=\"onRequest\" xlink:href=\"psysml:6083fff7-7e2a-4a1f-b6e0-00602bace9f4\" xlink:show=\"new\" xlink:title=\"psysml:6083fff7-7e2a-4a1f-b6e0-00602bace9f4\" xlink:type=\"simple\"><path d=\"M308,154.08 C308,154.08 308,443.97 308,443.97 \" fill=\"none\" id=\"E10-&gt;E3\" style=\"stroke: #383838; stroke-width: 1.0;\"/><polygon fill=\"#FFFFFF\" points=\"308,463.97,301,444.97,315,444.97,308,463.97\" style=\"stroke: #383838; stroke-width: 1.0;\"/><ellipse cx=\"303\" cy=\"439.27\" fill=\"#383838\" rx=\"2\" ry=\"2\" style=\"stroke: #383838; stroke-width: 1.0;\"/><ellipse cx=\"313\" cy=\"439.27\" fill=\"#383838\" rx=\"2\" ry=\"2\" style=\"stroke: #383838; stroke-width: 1.0;\"/></a><!--MD5=[3982a5775111cccae89ff3d6027f1196]\n",
       "@startuml\r\n",
       "skinparam linetype ortho\r\n",
       "skinparam monochrome true\r\n",
       "skinparam classbackgroundcolor white\r\n",
       "skinparam shadowing false\r\n",
       "skinparam wrapWidth 300\r\n",
       "hide circle\r\n",
       "\r\n",
       "package \"PrivateImportTest\" as E1  [[psysml:56a08668-af7c-402b-8ea6-0ffeccd2e906 ]]  {\r\n",
       "package \"P1\" as E2  [[psysml:989134c5-5272-479d-a43e-5e5573119e0c ]]  {\r\n",
       "comp def \"A\" as E3  <<(T,blue) part  def>> [[psysml:1f011377-ef65-4253-92ff-be4f522feeb1 ]] {\r\n",
       "}\r\n",
       "}\r\n",
       "package \"P2\" as E4  [[psysml:7d907640-2982-4506-b0ab-4e4fe8a9afec ]]  {\r\n",
       "}\r\n",
       "comp usage \"x: A \" as E5  <<(T,blue) part>> [[psysml:4755439e-6dab-436e-bf4a-d220bd8663ba ]] {\r\n",
       "}\r\n",
       "package \"P3\" as E6  [[psysml:90563c83-8b6e-4371-ac3b-36c1983fe7e9 ]]  {\r\n",
       "comp def \"B\" as E7  <<(T,blue) part  def>> [[psysml:bdb8801b-74e6-41c7-b5f1-114cae898237 ]] {\r\n",
       "}\r\n",
       "}\r\n",
       "comp usage \"z: B \" as E8  <<(T,blue) part>> [[psysml:dfc306bc-28cd-4074-8d12-696a322e5955 ]] {\r\n",
       "}\r\n",
       "package \"P4\" as E9  [[psysml:2733cc0d-ab4e-4acc-aaf2-0d4d1c16697a ]]  {\r\n",
       "comp usage \"z1: A \" as E10  <<(T,blue) part>> [[psysml:aa943bbf-59d6-4c08-9403-21388691ca57 ]] {\r\n",
       "}\r\n",
       "}\r\n",
       "}\r\n",
       "E4 ..> E2 [[psysml:113e6c15-2e9f-43c2-9a8b-f1023998ecb3 ]] : <<import>>*\r\n",
       "E5 - -:|> E3 [[psysml:2e030f48-ed8d-4fbc-a256-8117ac7131ec ]] \r\n",
       "E1 ..> E4 [[psysml:a039409c-dc44-4261-a761-133767375f35 ]] : <<import>>*\r\n",
       "E1 ..> E6 [[psysml:8872cc02-851e-450c-b3e8-f90f2e3db770 ]] : <<import>>*\r\n",
       "E8 - -:|> E7 [[psysml:0934d2d2-1a49-4ac4-b6c0-cd8fa5ea19dd ]] \r\n",
       "E9 ..> E4 [[psysml:f0473cf2-6b9f-40e7-98be-e0cb9d304d8b ]] : <<import>>*\r\n",
       "E10 - -:|> E3 [[psysml:6083fff7-7e2a-4a1f-b6e0-00602bace9f4 ]] \r\n",
       "@enduml\r\n",
       "\n",
       "PlantUML version 1.2020.13(Sat Jun 13 12:26:38 UTC 2020)\n",
       "(EPL source distribution)\n",
       "Java Runtime: OpenJDK Runtime Environment\n",
       "JVM: OpenJDK 64-Bit Server VM\n",
       "Default Encoding: UTF-8\n",
       "Language: en\n",
       "Country: null\n",
       "--></g></svg>"
      ]
     },
     "execution_count": 51,
     "metadata": {},
     "output_type": "execute_result"
    }
   ],
   "source": [
    "%viz --style=\"ORTHOLINE\" --view=\"Default\" \"PrivateImportTest\""
   ]
  },
  {
   "cell_type": "code",
   "execution_count": 52,
   "id": "671ecc60",
   "metadata": {
    "execution": {
     "iopub.execute_input": "2022-02-18T10:48:48.762325Z",
     "iopub.status.busy": "2022-02-18T10:48:48.761890Z",
     "iopub.status.idle": "2022-02-18T10:48:48.795742Z",
     "shell.execute_reply": "2022-02-18T10:48:48.795385Z"
    }
   },
   "outputs": [
    {
     "data": {
      "image/svg+xml": [
       "<?xml version=\"1.0\" encoding=\"UTF-8\" standalone=\"no\"?><svg xmlns=\"http://www.w3.org/2000/svg\" xmlns:xlink=\"http://www.w3.org/1999/xlink\" contentScriptType=\"application/ecmascript\" contentStyleType=\"text/css\" height=\"586px\" preserveAspectRatio=\"none\" style=\"width:423px;height:586px;\" version=\"1.1\" viewBox=\"0 0 423 586\" width=\"423px\" zoomAndPan=\"magnify\"><defs/><g><!--MD5=[fbc87193dbaf4d95561dea2c320d4a47]\n",
       "cluster E1--><a href=\"psysml:56a08668-af7c-402b-8ea6-0ffeccd2e906\" target=\"_top\" title=\"psysml:56a08668-af7c-402b-8ea6-0ffeccd2e906\" xlink:actuate=\"onRequest\" xlink:href=\"psysml:56a08668-af7c-402b-8ea6-0ffeccd2e906\" xlink:show=\"new\" xlink:title=\"psysml:56a08668-af7c-402b-8ea6-0ffeccd2e906\" xlink:type=\"simple\"><polygon fill=\"#FFFFFF\" points=\"16,6,143,6,150,28.2969,401,28.2969,401,574,16,574,16,6\" style=\"stroke: #000000; stroke-width: 1.5;\"/><line style=\"stroke: #000000; stroke-width: 1.5;\" x1=\"16\" x2=\"150\" y1=\"28.2969\" y2=\"28.2969\"/><text fill=\"#000000\" font-family=\"sans-serif\" font-size=\"14\" font-weight=\"bold\" lengthAdjust=\"spacingAndGlyphs\" textLength=\"121\" x=\"20\" y=\"20.9951\">PrivateImportTest</text></a><!--MD5=[e4f7fae6ed58524ba242bb0b0d3be6b7]\n",
       "cluster E2--><a href=\"psysml:989134c5-5272-479d-a43e-5e5573119e0c\" target=\"_top\" title=\"psysml:989134c5-5272-479d-a43e-5e5573119e0c\" xlink:actuate=\"onRequest\" xlink:href=\"psysml:989134c5-5272-479d-a43e-5e5573119e0c\" xlink:show=\"new\" xlink:title=\"psysml:989134c5-5272-479d-a43e-5e5573119e0c\" xlink:type=\"simple\"><polygon fill=\"#FFFFFF\" points=\"221,421,245,421,252,443.2969,358,443.2969,358,534,221,534,221,421\" style=\"stroke: #000000; stroke-width: 1.5;\"/><line style=\"stroke: #000000; stroke-width: 1.5;\" x1=\"221\" x2=\"252\" y1=\"443.2969\" y2=\"443.2969\"/><text fill=\"#000000\" font-family=\"sans-serif\" font-size=\"14\" font-weight=\"bold\" lengthAdjust=\"spacingAndGlyphs\" textLength=\"18\" x=\"225\" y=\"435.9951\">P1</text></a><!--MD5=[14e3b0961a2654348d326746436168a1]\n",
       "cluster E6--><a href=\"psysml:90563c83-8b6e-4371-ac3b-36c1983fe7e9\" target=\"_top\" title=\"psysml:90563c83-8b6e-4371-ac3b-36c1983fe7e9\" xlink:actuate=\"onRequest\" xlink:href=\"psysml:90563c83-8b6e-4371-ac3b-36c1983fe7e9\" xlink:show=\"new\" xlink:title=\"psysml:90563c83-8b6e-4371-ac3b-36c1983fe7e9\" xlink:type=\"simple\"><polygon fill=\"#FFFFFF\" points=\"64,243,88,243,95,265.2969,201,265.2969,201,356,64,356,64,243\" style=\"stroke: #000000; stroke-width: 1.5;\"/><line style=\"stroke: #000000; stroke-width: 1.5;\" x1=\"64\" x2=\"95\" y1=\"265.2969\" y2=\"265.2969\"/><text fill=\"#000000\" font-family=\"sans-serif\" font-size=\"14\" font-weight=\"bold\" lengthAdjust=\"spacingAndGlyphs\" textLength=\"18\" x=\"68\" y=\"257.9951\">P3</text></a><!--MD5=[7f149f147074ac12df2cb0a7728a5fb0]\n",
       "cluster E9--><a href=\"psysml:2733cc0d-ab4e-4acc-aaf2-0d4d1c16697a\" target=\"_top\" title=\"psysml:2733cc0d-ab4e-4acc-aaf2-0d4d1c16697a\" xlink:actuate=\"onRequest\" xlink:href=\"psysml:2733cc0d-ab4e-4acc-aaf2-0d4d1c16697a\" xlink:show=\"new\" xlink:title=\"psysml:2733cc0d-ab4e-4acc-aaf2-0d4d1c16697a\" xlink:type=\"simple\"><polygon fill=\"#FFFFFF\" points=\"252,65,276,65,283,87.2969,361,87.2969,361,178,252,178,252,65\" style=\"stroke: #000000; stroke-width: 1.5;\"/><line style=\"stroke: #000000; stroke-width: 1.5;\" x1=\"252\" x2=\"283\" y1=\"87.2969\" y2=\"87.2969\"/><text fill=\"#000000\" font-family=\"sans-serif\" font-size=\"14\" font-weight=\"bold\" lengthAdjust=\"spacingAndGlyphs\" textLength=\"18\" x=\"256\" y=\"79.9951\">P4</text></a><!--MD5=[270fce915f116d4de14055a7c1d9a0f3]\n",
       "class E5--><a href=\"psysml:4755439e-6dab-436e-bf4a-d220bd8663ba\" target=\"_top\" title=\"psysml:4755439e-6dab-436e-bf4a-d220bd8663ba\" xlink:actuate=\"onRequest\" xlink:href=\"psysml:4755439e-6dab-436e-bf4a-d220bd8663ba\" xlink:show=\"new\" xlink:title=\"psysml:4755439e-6dab-436e-bf4a-d220bd8663ba\" xlink:type=\"simple\"><rect fill=\"#FFFFFF\" height=\"45.9375\" id=\"E5\" rx=\"10\" ry=\"10\" style=\"stroke: #383838; stroke-width: 1.5;\" width=\"42\" x=\"335\" y=\"286\"/><text fill=\"#000000\" font-family=\"sans-serif\" font-size=\"12\" font-style=\"italic\" lengthAdjust=\"spacingAndGlyphs\" textLength=\"40\" x=\"336\" y=\"302.1387\">«part»</text><text fill=\"#000000\" font-family=\"sans-serif\" font-size=\"12\" lengthAdjust=\"spacingAndGlyphs\" textLength=\"22\" x=\"343\" y=\"316.1074\">x: A</text><line style=\"stroke: #383838; stroke-width: 1.5;\" x1=\"336\" x2=\"376\" y1=\"323.9375\" y2=\"323.9375\"/></a><!--MD5=[b9389687b975829384b498ac4b7476b2]\n",
       "class E8--><a href=\"psysml:dfc306bc-28cd-4074-8d12-696a322e5955\" target=\"_top\" title=\"psysml:dfc306bc-28cd-4074-8d12-696a322e5955\" xlink:actuate=\"onRequest\" xlink:href=\"psysml:dfc306bc-28cd-4074-8d12-696a322e5955\" xlink:show=\"new\" xlink:title=\"psysml:dfc306bc-28cd-4074-8d12-696a322e5955\" xlink:type=\"simple\"><rect fill=\"#FFFFFF\" height=\"45.9375\" id=\"E8\" rx=\"10\" ry=\"10\" style=\"stroke: #383838; stroke-width: 1.5;\" width=\"42\" x=\"183\" y=\"108\"/><text fill=\"#000000\" font-family=\"sans-serif\" font-size=\"12\" font-style=\"italic\" lengthAdjust=\"spacingAndGlyphs\" textLength=\"40\" x=\"184\" y=\"124.1387\">«part»</text><text fill=\"#000000\" font-family=\"sans-serif\" font-size=\"12\" lengthAdjust=\"spacingAndGlyphs\" textLength=\"21\" x=\"191.5\" y=\"138.1074\">z: B</text><line style=\"stroke: #383838; stroke-width: 1.5;\" x1=\"184\" x2=\"224\" y1=\"145.9375\" y2=\"145.9375\"/></a><!--MD5=[09b614a08d8cba4a07c9adeb5e0fee81]\n",
       "class E3--><a href=\"psysml:1f011377-ef65-4253-92ff-be4f522feeb1\" target=\"_top\" title=\"psysml:1f011377-ef65-4253-92ff-be4f522feeb1\" xlink:actuate=\"onRequest\" xlink:href=\"psysml:1f011377-ef65-4253-92ff-be4f522feeb1\" xlink:show=\"new\" xlink:title=\"psysml:1f011377-ef65-4253-92ff-be4f522feeb1\" xlink:type=\"simple\"><rect fill=\"#FFFFFF\" height=\"45.9375\" id=\"E3\" style=\"stroke: #383838; stroke-width: 1.5;\" width=\"70\" x=\"264\" y=\"464\"/><text fill=\"#000000\" font-family=\"sans-serif\" font-size=\"12\" font-style=\"italic\" lengthAdjust=\"spacingAndGlyphs\" textLength=\"68\" x=\"265\" y=\"480.1387\">«part  def»</text><text fill=\"#000000\" font-family=\"sans-serif\" font-size=\"12\" lengthAdjust=\"spacingAndGlyphs\" textLength=\"8\" x=\"295\" y=\"494.1074\">A</text><line style=\"stroke: #383838; stroke-width: 1.5;\" x1=\"265\" x2=\"333\" y1=\"501.9375\" y2=\"501.9375\"/></a><a href=\"psysml:7d907640-2982-4506-b0ab-4e4fe8a9afec\" target=\"_top\" title=\"psysml:7d907640-2982-4506-b0ab-4e4fe8a9afec\" xlink:actuate=\"onRequest\" xlink:href=\"psysml:7d907640-2982-4506-b0ab-4e4fe8a9afec\" xlink:show=\"new\" xlink:title=\"psysml:7d907640-2982-4506-b0ab-4e4fe8a9afec\" xlink:type=\"simple\"><polygon fill=\"#FFFFFF\" points=\"225,282.5,249,282.5,256,304.7969,263,304.7969,263,335.0938,225,335.0938,225,282.5\" style=\"stroke: #000000; stroke-width: 1.5;\"/><line style=\"stroke: #000000; stroke-width: 1.5;\" x1=\"225\" x2=\"256\" y1=\"304.7969\" y2=\"304.7969\"/><text fill=\"#000000\" font-family=\"sans-serif\" font-size=\"14\" font-weight=\"bold\" lengthAdjust=\"spacingAndGlyphs\" textLength=\"18\" x=\"229\" y=\"297.4951\">P2</text></a><!--MD5=[2156ba9850f5573cc1fc38a6a4b2f02b]\n",
       "class E7--><a href=\"psysml:bdb8801b-74e6-41c7-b5f1-114cae898237\" target=\"_top\" title=\"psysml:bdb8801b-74e6-41c7-b5f1-114cae898237\" xlink:actuate=\"onRequest\" xlink:href=\"psysml:bdb8801b-74e6-41c7-b5f1-114cae898237\" xlink:show=\"new\" xlink:title=\"psysml:bdb8801b-74e6-41c7-b5f1-114cae898237\" xlink:type=\"simple\"><rect fill=\"#FFFFFF\" height=\"45.9375\" id=\"E7\" style=\"stroke: #383838; stroke-width: 1.5;\" width=\"70\" x=\"107\" y=\"286\"/><text fill=\"#000000\" font-family=\"sans-serif\" font-size=\"12\" font-style=\"italic\" lengthAdjust=\"spacingAndGlyphs\" textLength=\"68\" x=\"108\" y=\"302.1387\">«part  def»</text><text fill=\"#000000\" font-family=\"sans-serif\" font-size=\"12\" lengthAdjust=\"spacingAndGlyphs\" textLength=\"8\" x=\"138\" y=\"316.1074\">B</text><line style=\"stroke: #383838; stroke-width: 1.5;\" x1=\"108\" x2=\"176\" y1=\"323.9375\" y2=\"323.9375\"/></a><!--MD5=[96f4274e9e20536e775497830990834d]\n",
       "class E10--><a href=\"psysml:aa943bbf-59d6-4c08-9403-21388691ca57\" target=\"_top\" title=\"psysml:aa943bbf-59d6-4c08-9403-21388691ca57\" xlink:actuate=\"onRequest\" xlink:href=\"psysml:aa943bbf-59d6-4c08-9403-21388691ca57\" xlink:show=\"new\" xlink:title=\"psysml:aa943bbf-59d6-4c08-9403-21388691ca57\" xlink:type=\"simple\"><rect fill=\"#FFFFFF\" height=\"45.9375\" id=\"E10\" rx=\"10\" ry=\"10\" style=\"stroke: #383838; stroke-width: 1.5;\" width=\"42\" x=\"295\" y=\"108\"/><text fill=\"#000000\" font-family=\"sans-serif\" font-size=\"12\" font-style=\"italic\" lengthAdjust=\"spacingAndGlyphs\" textLength=\"40\" x=\"296\" y=\"124.1387\">«part»</text><text fill=\"#000000\" font-family=\"sans-serif\" font-size=\"12\" lengthAdjust=\"spacingAndGlyphs\" textLength=\"29\" x=\"299.5\" y=\"138.1074\">z1: A</text><line style=\"stroke: #383838; stroke-width: 1.5;\" x1=\"296\" x2=\"336\" y1=\"145.9375\" y2=\"145.9375\"/></a><!--MD5=[185131fc0dcab0a4505a2ebe144e961b]\n",
       "link E4 to E2--><a href=\"psysml:113e6c15-2e9f-43c2-9a8b-f1023998ecb3\" target=\"_top\" title=\"psysml:113e6c15-2e9f-43c2-9a8b-f1023998ecb3\" xlink:actuate=\"onRequest\" xlink:href=\"psysml:113e6c15-2e9f-43c2-9a8b-f1023998ecb3\" xlink:show=\"new\" xlink:title=\"psysml:113e6c15-2e9f-43c2-9a8b-f1023998ecb3\" xlink:type=\"simple\"><path d=\"M229,335.65 C229,347.4825 229,362.2694 229,377.9309 C229,385.7617 229,393.8112 229,401.8193 C229,405.8234 229,409.8172 229,413.7681 C229,415.7436 229,417.7084 229,419.6584 C229,419.9021 229,420.1456 229,420.3889 \" fill=\"none\" id=\"E4-&gt;E2\" style=\"stroke: #383838; stroke-width: 1.0; stroke-dasharray: 7.0,7.0;\"/><polygon fill=\"#383838\" points=\"229,420.3889,233,411.3889,229,415.3889,225,411.3889,229,420.3889\" style=\"stroke: #383838; stroke-width: 1.0;\"/><text fill=\"#000000\" font-family=\"sans-serif\" font-size=\"13\" lengthAdjust=\"spacingAndGlyphs\" textLength=\"65\" x=\"227\" y=\"393.0669\">«import»*</text></a><!--MD5=[e9be52314489bd878ff4c7144b63c9e1]\n",
       "link E5 to E3--><a href=\"psysml:2e030f48-ed8d-4fbc-a256-8117ac7131ec\" target=\"_top\" title=\"psysml:2e030f48-ed8d-4fbc-a256-8117ac7131ec\" xlink:actuate=\"onRequest\" xlink:href=\"psysml:2e030f48-ed8d-4fbc-a256-8117ac7131ec\" xlink:show=\"new\" xlink:title=\"psysml:2e030f48-ed8d-4fbc-a256-8117ac7131ec\" xlink:type=\"simple\"><path d=\"M334.83,309 C327.46,309 321,309 321,309 C321,309 321,443.73 321,443.73 \" fill=\"none\" id=\"E5-&gt;E3\" style=\"stroke: #383838; stroke-width: 1.0;\"/><polygon fill=\"#FFFFFF\" points=\"321,463.73,314,444.73,328,444.73,321,463.73\" style=\"stroke: #383838; stroke-width: 1.0;\"/><ellipse cx=\"316\" cy=\"439.03\" fill=\"#383838\" rx=\"2\" ry=\"2\" style=\"stroke: #383838; stroke-width: 1.0;\"/><ellipse cx=\"326\" cy=\"439.03\" fill=\"#383838\" rx=\"2\" ry=\"2\" style=\"stroke: #383838; stroke-width: 1.0;\"/></a><!--MD5=[ee384bb554873b72f85793eae40e290c]\n",
       "link E1 to E4--><a href=\"psysml:a039409c-dc44-4261-a761-133767375f35\" target=\"_top\" title=\"psysml:a039409c-dc44-4261-a761-133767375f35\" xlink:actuate=\"onRequest\" xlink:href=\"psysml:a039409c-dc44-4261-a761-133767375f35\" xlink:show=\"new\" xlink:title=\"psysml:a039409c-dc44-4261-a761-133767375f35\" xlink:type=\"simple\"><path d=\"M24,131.56 C24,139.06 24,219 24,219 C24,219 242,219 242,219 C242,219 242,277.48 242,277.48 \" fill=\"none\" id=\"E1-&gt;E4\" style=\"stroke: #383838; stroke-width: 1.0; stroke-dasharray: 7.0,7.0;\"/><polygon fill=\"#383838\" points=\"242,282.48,246,273.48,242,277.48,238,273.48,242,282.48\" style=\"stroke: #383838; stroke-width: 1.0;\"/><text fill=\"#000000\" font-family=\"sans-serif\" font-size=\"13\" lengthAdjust=\"spacingAndGlyphs\" textLength=\"65\" x=\"167\" y=\"215.0669\">«import»*</text></a><!--MD5=[ccbd3af71bf83df0ec2a2db62d6d7130]\n",
       "link E1 to E6--><a href=\"psysml:8872cc02-851e-450c-b3e8-f90f2e3db770\" target=\"_top\" title=\"psysml:8872cc02-851e-450c-b3e8-f90f2e3db770\" xlink:actuate=\"onRequest\" xlink:href=\"psysml:8872cc02-851e-450c-b3e8-f90f2e3db770\" xlink:show=\"new\" xlink:title=\"psysml:8872cc02-851e-450c-b3e8-f90f2e3db770\" xlink:type=\"simple\"><path d=\"M24.54,131 C29.81,131 72,131 72,131 C72,131 72,172.7625 72,215.83 C72,221.2134 72,226.6173 72,231.9625 C72,234.6351 72,237.293 72,239.9264 C72,240.5848 72,241.2416 72,241.8967 C72,242.2243 72,242.5514 72,242.8781 \" fill=\"none\" id=\"E1-&gt;E6\" style=\"stroke: #383838; stroke-width: 1.0; stroke-dasharray: 7.0,7.0;\"/><polygon fill=\"#383838\" points=\"72,242.8781,76,233.8781,72,237.8781,68,233.8781,72,242.8781\" style=\"stroke: #383838; stroke-width: 1.0;\"/><text fill=\"#000000\" font-family=\"sans-serif\" font-size=\"13\" lengthAdjust=\"spacingAndGlyphs\" textLength=\"65\" x=\"60\" y=\"215.0669\">«import»*</text></a><!--MD5=[bfa3c8b0d15052fdf50ae9310b491027]\n",
       "link E8 to E7--><a href=\"psysml:0934d2d2-1a49-4ac4-b6c0-cd8fa5ea19dd\" target=\"_top\" title=\"psysml:0934d2d2-1a49-4ac4-b6c0-cd8fa5ea19dd\" xlink:actuate=\"onRequest\" xlink:href=\"psysml:0934d2d2-1a49-4ac4-b6c0-cd8fa5ea19dd\" xlink:show=\"new\" xlink:title=\"psysml:0934d2d2-1a49-4ac4-b6c0-cd8fa5ea19dd\" xlink:type=\"simple\"><path d=\"M204,154.27 C204,202.52 204,309 204,309 C204,309 197.35,309 197.35,309 \" fill=\"none\" id=\"E8-&gt;E7\" style=\"stroke: #383838; stroke-width: 1.0;\"/><polygon fill=\"#FFFFFF\" points=\"177.35,309,196.35,302,196.35,316,177.35,309\" style=\"stroke: #383838; stroke-width: 1.0;\"/><ellipse cx=\"202.05\" cy=\"304\" fill=\"#383838\" rx=\"2\" ry=\"2\" style=\"stroke: #383838; stroke-width: 1.0;\"/><ellipse cx=\"202.05\" cy=\"314\" fill=\"#383838\" rx=\"2\" ry=\"2\" style=\"stroke: #383838; stroke-width: 1.0;\"/></a><!--MD5=[c2be97adba6ddfe1c8f349fab141c927]\n",
       "link E9 to E4--><a href=\"psysml:f0473cf2-6b9f-40e7-98be-e0cb9d304d8b\" target=\"_top\" title=\"psysml:f0473cf2-6b9f-40e7-98be-e0cb9d304d8b\" xlink:actuate=\"onRequest\" xlink:href=\"psysml:f0473cf2-6b9f-40e7-98be-e0cb9d304d8b\" xlink:show=\"new\" xlink:title=\"psysml:f0473cf2-6b9f-40e7-98be-e0cb9d304d8b\" xlink:type=\"simple\"><path d=\"M260,178.4607 C260,178.7288 260,178.9975 260,179.2667 C260,179.8052 260,180.3457 260,180.8882 C260,181.9731 260,183.0658 260,184.1652 C260,186.364 260,188.5895 260,190.8328 C260,195.3194 260,199.8772 260,204.435 C260,240.8975 260,277.36 260,277.36 \" fill=\"none\" id=\"E9-&gt;E4\" style=\"stroke: #383838; stroke-width: 1.0; stroke-dasharray: 7.0,7.0;\"/><polygon fill=\"#383838\" points=\"260,282.36,264,273.36,260,277.36,256,273.36,260,282.36\" style=\"stroke: #383838; stroke-width: 1.0;\"/><text fill=\"#000000\" font-family=\"sans-serif\" font-size=\"13\" lengthAdjust=\"spacingAndGlyphs\" textLength=\"65\" x=\"281\" y=\"215.0669\">«import»*</text></a><!--MD5=[feeac5eb423634930294aa81f2d25a4c]\n",
       "link E10 to E3--><a href=\"psysml:6083fff7-7e2a-4a1f-b6e0-00602bace9f4\" target=\"_top\" title=\"psysml:6083fff7-7e2a-4a1f-b6e0-00602bace9f4\" xlink:actuate=\"onRequest\" xlink:href=\"psysml:6083fff7-7e2a-4a1f-b6e0-00602bace9f4\" xlink:show=\"new\" xlink:title=\"psysml:6083fff7-7e2a-4a1f-b6e0-00602bace9f4\" xlink:type=\"simple\"><path d=\"M308,154.08 C308,154.08 308,443.97 308,443.97 \" fill=\"none\" id=\"E10-&gt;E3\" style=\"stroke: #383838; stroke-width: 1.0;\"/><polygon fill=\"#FFFFFF\" points=\"308,463.97,301,444.97,315,444.97,308,463.97\" style=\"stroke: #383838; stroke-width: 1.0;\"/><ellipse cx=\"303\" cy=\"439.27\" fill=\"#383838\" rx=\"2\" ry=\"2\" style=\"stroke: #383838; stroke-width: 1.0;\"/><ellipse cx=\"313\" cy=\"439.27\" fill=\"#383838\" rx=\"2\" ry=\"2\" style=\"stroke: #383838; stroke-width: 1.0;\"/></a><!--MD5=[3982a5775111cccae89ff3d6027f1196]\n",
       "@startuml\r\n",
       "skinparam linetype ortho\r\n",
       "skinparam monochrome true\r\n",
       "skinparam classbackgroundcolor white\r\n",
       "skinparam shadowing false\r\n",
       "skinparam wrapWidth 300\r\n",
       "hide circle\r\n",
       "\r\n",
       "package \"PrivateImportTest\" as E1  [[psysml:56a08668-af7c-402b-8ea6-0ffeccd2e906 ]]  {\r\n",
       "package \"P1\" as E2  [[psysml:989134c5-5272-479d-a43e-5e5573119e0c ]]  {\r\n",
       "comp def \"A\" as E3  <<(T,blue) part  def>> [[psysml:1f011377-ef65-4253-92ff-be4f522feeb1 ]] {\r\n",
       "}\r\n",
       "}\r\n",
       "package \"P2\" as E4  [[psysml:7d907640-2982-4506-b0ab-4e4fe8a9afec ]]  {\r\n",
       "}\r\n",
       "comp usage \"x: A \" as E5  <<(T,blue) part>> [[psysml:4755439e-6dab-436e-bf4a-d220bd8663ba ]] {\r\n",
       "}\r\n",
       "package \"P3\" as E6  [[psysml:90563c83-8b6e-4371-ac3b-36c1983fe7e9 ]]  {\r\n",
       "comp def \"B\" as E7  <<(T,blue) part  def>> [[psysml:bdb8801b-74e6-41c7-b5f1-114cae898237 ]] {\r\n",
       "}\r\n",
       "}\r\n",
       "comp usage \"z: B \" as E8  <<(T,blue) part>> [[psysml:dfc306bc-28cd-4074-8d12-696a322e5955 ]] {\r\n",
       "}\r\n",
       "package \"P4\" as E9  [[psysml:2733cc0d-ab4e-4acc-aaf2-0d4d1c16697a ]]  {\r\n",
       "comp usage \"z1: A \" as E10  <<(T,blue) part>> [[psysml:aa943bbf-59d6-4c08-9403-21388691ca57 ]] {\r\n",
       "}\r\n",
       "}\r\n",
       "}\r\n",
       "E4 ..> E2 [[psysml:113e6c15-2e9f-43c2-9a8b-f1023998ecb3 ]] : <<import>>*\r\n",
       "E5 - -:|> E3 [[psysml:2e030f48-ed8d-4fbc-a256-8117ac7131ec ]] \r\n",
       "E1 ..> E4 [[psysml:a039409c-dc44-4261-a761-133767375f35 ]] : <<import>>*\r\n",
       "E1 ..> E6 [[psysml:8872cc02-851e-450c-b3e8-f90f2e3db770 ]] : <<import>>*\r\n",
       "E8 - -:|> E7 [[psysml:0934d2d2-1a49-4ac4-b6c0-cd8fa5ea19dd ]] \r\n",
       "E9 ..> E4 [[psysml:f0473cf2-6b9f-40e7-98be-e0cb9d304d8b ]] : <<import>>*\r\n",
       "E10 - -:|> E3 [[psysml:6083fff7-7e2a-4a1f-b6e0-00602bace9f4 ]] \r\n",
       "@enduml\r\n",
       "\n",
       "PlantUML version 1.2020.13(Sat Jun 13 12:26:38 UTC 2020)\n",
       "(EPL source distribution)\n",
       "Java Runtime: OpenJDK Runtime Environment\n",
       "JVM: OpenJDK 64-Bit Server VM\n",
       "Default Encoding: UTF-8\n",
       "Language: en\n",
       "Country: null\n",
       "--></g></svg>"
      ]
     },
     "execution_count": 52,
     "metadata": {},
     "output_type": "execute_result"
    }
   ],
   "source": [
    "%viz --style=\"ORTHOLINE\" --view=\"Tree\" \"PrivateImportTest\""
   ]
  },
  {
   "cell_type": "code",
   "execution_count": 53,
   "id": "1b9f81ef",
   "metadata": {
    "execution": {
     "iopub.execute_input": "2022-02-18T10:48:48.845454Z",
     "iopub.status.busy": "2022-02-18T10:48:48.845047Z",
     "iopub.status.idle": "2022-02-18T10:48:48.849771Z",
     "shell.execute_reply": "2022-02-18T10:48:48.849442Z"
    }
   },
   "outputs": [
    {
     "data": {
      "image/svg+xml": [
       "<?xml version=\"1.0\" encoding=\"UTF-8\" standalone=\"no\"?><svg xmlns=\"http://www.w3.org/2000/svg\" xmlns:xlink=\"http://www.w3.org/1999/xlink\" contentScriptType=\"application/ecmascript\" contentStyleType=\"text/css\" height=\"12px\" preserveAspectRatio=\"none\" style=\"width:12px;height:12px;\" version=\"1.1\" viewBox=\"0 0 12 12\" width=\"12px\" zoomAndPan=\"magnify\"><defs/><g><!--MD5=[97d6f38768b311333d388e66b2b27985]\n",
       "@startuml\r\n",
       "skinparam linetype ortho\r\n",
       "skinparam monochrome true\r\n",
       "skinparam classbackgroundcolor white\r\n",
       "skinparam shadowing false\r\n",
       "skinparam wrapWidth 300\r\n",
       "hide circle\r\n",
       "\r\n",
       "@enduml\r\n",
       "\n",
       "PlantUML version 1.2020.13(Sat Jun 13 12:26:38 UTC 2020)\n",
       "(EPL source distribution)\n",
       "Java Runtime: OpenJDK Runtime Environment\n",
       "JVM: OpenJDK 64-Bit Server VM\n",
       "Default Encoding: UTF-8\n",
       "Language: en\n",
       "Country: null\n",
       "--></g></svg>"
      ]
     },
     "execution_count": 53,
     "metadata": {},
     "output_type": "execute_result"
    }
   ],
   "source": [
    "%viz --style=\"ORTHOLINE\" --view=\"State\" \"PrivateImportTest\""
   ]
  },
  {
   "cell_type": "code",
   "execution_count": 54,
   "id": "344adaa9",
   "metadata": {
    "execution": {
     "iopub.execute_input": "2022-02-18T10:48:48.899690Z",
     "iopub.status.busy": "2022-02-18T10:48:48.899237Z",
     "iopub.status.idle": "2022-02-18T10:48:48.930438Z",
     "shell.execute_reply": "2022-02-18T10:48:48.930080Z"
    }
   },
   "outputs": [
    {
     "data": {
      "image/svg+xml": [
       "<?xml version=\"1.0\" encoding=\"UTF-8\" standalone=\"no\"?><svg xmlns=\"http://www.w3.org/2000/svg\" xmlns:xlink=\"http://www.w3.org/1999/xlink\" contentScriptType=\"application/ecmascript\" contentStyleType=\"text/css\" height=\"521px\" preserveAspectRatio=\"none\" style=\"width:684px;height:521px;\" version=\"1.1\" viewBox=\"0 0 684 521\" width=\"684px\" zoomAndPan=\"magnify\"><defs/><g><!--MD5=[fbc87193dbaf4d95561dea2c320d4a47]\n",
       "cluster E1--><a href=\"psysml:56a08668-af7c-402b-8ea6-0ffeccd2e906\" target=\"_top\" title=\"psysml:56a08668-af7c-402b-8ea6-0ffeccd2e906\" xlink:actuate=\"onRequest\" xlink:href=\"psysml:56a08668-af7c-402b-8ea6-0ffeccd2e906\" xlink:show=\"new\" xlink:title=\"psysml:56a08668-af7c-402b-8ea6-0ffeccd2e906\" xlink:type=\"simple\"><polygon fill=\"#FFFFFF\" points=\"16,6,143,6,150,28.2969,662,28.2969,662,509.72,16,509.72,16,6\" style=\"stroke: #000000; stroke-width: 1.5;\"/><line style=\"stroke: #000000; stroke-width: 1.5;\" x1=\"16\" x2=\"150\" y1=\"28.2969\" y2=\"28.2969\"/><text fill=\"#000000\" font-family=\"sans-serif\" font-size=\"14\" font-weight=\"bold\" lengthAdjust=\"spacingAndGlyphs\" textLength=\"121\" x=\"20\" y=\"20.9951\">PrivateImportTest</text></a><!--MD5=[e4f7fae6ed58524ba242bb0b0d3be6b7]\n",
       "cluster E2--><a href=\"psysml:989134c5-5272-479d-a43e-5e5573119e0c\" target=\"_top\" title=\"psysml:989134c5-5272-479d-a43e-5e5573119e0c\" xlink:actuate=\"onRequest\" xlink:href=\"psysml:989134c5-5272-479d-a43e-5e5573119e0c\" xlink:show=\"new\" xlink:title=\"psysml:989134c5-5272-479d-a43e-5e5573119e0c\" xlink:type=\"simple\"><polygon fill=\"#FFFFFF\" points=\"221,359.72,245,359.72,252,382.0169,363,382.0169,363,469.72,221,469.72,221,359.72\" style=\"stroke: #000000; stroke-width: 1.5;\"/><line style=\"stroke: #000000; stroke-width: 1.5;\" x1=\"221\" x2=\"252\" y1=\"382.0169\" y2=\"382.0169\"/><text fill=\"#000000\" font-family=\"sans-serif\" font-size=\"14\" font-weight=\"bold\" lengthAdjust=\"spacingAndGlyphs\" textLength=\"18\" x=\"225\" y=\"374.7151\">P1</text></a><!--MD5=[14e3b0961a2654348d326746436168a1]\n",
       "cluster E6--><a href=\"psysml:90563c83-8b6e-4371-ac3b-36c1983fe7e9\" target=\"_top\" title=\"psysml:90563c83-8b6e-4371-ac3b-36c1983fe7e9\" xlink:actuate=\"onRequest\" xlink:href=\"psysml:90563c83-8b6e-4371-ac3b-36c1983fe7e9\" xlink:show=\"new\" xlink:title=\"psysml:90563c83-8b6e-4371-ac3b-36c1983fe7e9\" xlink:type=\"simple\"><polygon fill=\"#FFFFFF\" points=\"480,98.72,504,98.72,511,121.0169,622,121.0169,622,208.72,480,208.72,480,98.72\" style=\"stroke: #000000; stroke-width: 1.5;\"/><line style=\"stroke: #000000; stroke-width: 1.5;\" x1=\"480\" x2=\"511\" y1=\"121.0169\" y2=\"121.0169\"/><text fill=\"#000000\" font-family=\"sans-serif\" font-size=\"14\" font-weight=\"bold\" lengthAdjust=\"spacingAndGlyphs\" textLength=\"18\" x=\"484\" y=\"113.7151\">P3</text></a><!--MD5=[7f149f147074ac12df2cb0a7728a5fb0]\n",
       "cluster E9--><a href=\"psysml:2733cc0d-ab4e-4acc-aaf2-0d4d1c16697a\" target=\"_top\" title=\"psysml:2733cc0d-ab4e-4acc-aaf2-0d4d1c16697a\" xlink:actuate=\"onRequest\" xlink:href=\"psysml:2733cc0d-ab4e-4acc-aaf2-0d4d1c16697a\" xlink:show=\"new\" xlink:title=\"psysml:2733cc0d-ab4e-4acc-aaf2-0d4d1c16697a\" xlink:type=\"simple\"><polygon fill=\"#FFFFFF\" points=\"323,100.22,347,100.22,354,122.5169,440,122.5169,440,207.22,323,207.22,323,100.22\" style=\"stroke: #000000; stroke-width: 1.5;\"/><line style=\"stroke: #000000; stroke-width: 1.5;\" x1=\"323\" x2=\"354\" y1=\"122.5169\" y2=\"122.5169\"/><text fill=\"#000000\" font-family=\"sans-serif\" font-size=\"14\" font-weight=\"bold\" lengthAdjust=\"spacingAndGlyphs\" textLength=\"18\" x=\"327\" y=\"115.2151\">P4</text></a><g id=\"E1.E2.E3\"><a href=\"psysml:1f011377-ef65-4253-92ff-be4f522feeb1\" target=\"_top\" title=\"psysml:1f011377-ef65-4253-92ff-be4f522feeb1\" xlink:actuate=\"onRequest\" xlink:href=\"psysml:1f011377-ef65-4253-92ff-be4f522feeb1\" xlink:show=\"new\" xlink:title=\"psysml:1f011377-ef65-4253-92ff-be4f522feeb1\" xlink:type=\"simple\"><rect fill=\"#FFFFFF\" height=\"42.9375\" id=\"E3\" style=\"stroke: #383838; stroke-width: 1.5;\" width=\"75\" x=\"264.5\" y=\"402.72\"/><rect fill=\"#F8F8F8\" height=\"37.9375\" style=\"stroke: #383838; stroke-width: 1.5;\" width=\"75\" x=\"264.5\" y=\"402.72\"/><text fill=\"#000000\" font-family=\"sans-serif\" font-size=\"12\" font-style=\"italic\" lengthAdjust=\"spacingAndGlyphs\" textLength=\"68\" x=\"268\" y=\"418.8587\">«part  def»</text><text fill=\"#000000\" font-family=\"sans-serif\" font-size=\"12\" lengthAdjust=\"spacingAndGlyphs\" textLength=\"8\" x=\"298\" y=\"432.8274\">A</text></a></g><a href=\"psysml:7d907640-2982-4506-b0ab-4e4fe8a9afec\" target=\"_top\" title=\"psysml:7d907640-2982-4506-b0ab-4e4fe8a9afec\" xlink:actuate=\"onRequest\" xlink:href=\"psysml:7d907640-2982-4506-b0ab-4e4fe8a9afec\" xlink:show=\"new\" xlink:title=\"psysml:7d907640-2982-4506-b0ab-4e4fe8a9afec\" xlink:type=\"simple\"><polygon fill=\"#FFFFFF\" points=\"210,257.72,234,257.72,241,280.0169,248,280.0169,248,310.3138,210,310.3138,210,257.72\" style=\"stroke: #000000; stroke-width: 1.5;\"/><line style=\"stroke: #000000; stroke-width: 1.5;\" x1=\"210\" x2=\"241\" y1=\"280.0169\" y2=\"280.0169\"/><text fill=\"#000000\" font-family=\"sans-serif\" font-size=\"14\" font-weight=\"bold\" lengthAdjust=\"spacingAndGlyphs\" textLength=\"18\" x=\"214\" y=\"272.7151\">P2</text></a><g id=\"E1.E5\"><a href=\"psysml:4755439e-6dab-436e-bf4a-d220bd8663ba\" target=\"_top\" title=\"psysml:4755439e-6dab-436e-bf4a-d220bd8663ba\" xlink:actuate=\"onRequest\" xlink:href=\"psysml:4755439e-6dab-436e-bf4a-d220bd8663ba\" xlink:show=\"new\" xlink:title=\"psysml:4755439e-6dab-436e-bf4a-d220bd8663ba\" xlink:type=\"simple\"><rect fill=\"#FFFFFF\" height=\"40\" id=\"E5\" rx=\"10\" ry=\"10\" style=\"stroke: #383838; stroke-width: 1.5;\" width=\"50\" x=\"246\" y=\"143.22\"/><rect fill=\"#F8F8F8\" height=\"23.9688\" rx=\"10\" ry=\"10\" style=\"stroke: #F8F8F8; stroke-width: 1.5;\" width=\"50\" x=\"246\" y=\"143.22\"/><rect fill=\"#F8F8F8\" height=\"10\" style=\"stroke: #F8F8F8; stroke-width: 1.5;\" width=\"50\" x=\"246\" y=\"157.1888\"/><rect fill=\"none\" height=\"40\" id=\"E5\" rx=\"10\" ry=\"10\" style=\"stroke: #383838; stroke-width: 1.5;\" width=\"50\" x=\"246\" y=\"143.22\"/><text fill=\"#000000\" font-family=\"sans-serif\" font-size=\"12\" lengthAdjust=\"spacingAndGlyphs\" textLength=\"22\" x=\"260\" y=\"159.3587\">x: A</text></a></g><g id=\"E1.E6.E7\"><a href=\"psysml:bdb8801b-74e6-41c7-b5f1-114cae898237\" target=\"_top\" title=\"psysml:bdb8801b-74e6-41c7-b5f1-114cae898237\" xlink:actuate=\"onRequest\" xlink:href=\"psysml:bdb8801b-74e6-41c7-b5f1-114cae898237\" xlink:show=\"new\" xlink:title=\"psysml:bdb8801b-74e6-41c7-b5f1-114cae898237\" xlink:type=\"simple\"><rect fill=\"#FFFFFF\" height=\"42.9375\" id=\"E7\" style=\"stroke: #383838; stroke-width: 1.5;\" width=\"75\" x=\"523.5\" y=\"141.72\"/><rect fill=\"#F8F8F8\" height=\"37.9375\" style=\"stroke: #383838; stroke-width: 1.5;\" width=\"75\" x=\"523.5\" y=\"141.72\"/><text fill=\"#000000\" font-family=\"sans-serif\" font-size=\"12\" font-style=\"italic\" lengthAdjust=\"spacingAndGlyphs\" textLength=\"68\" x=\"527\" y=\"157.8587\">«part  def»</text><text fill=\"#000000\" font-family=\"sans-serif\" font-size=\"12\" lengthAdjust=\"spacingAndGlyphs\" textLength=\"8\" x=\"557\" y=\"171.8274\">B</text></a></g><g id=\"E1.E8\"><a href=\"psysml:dfc306bc-28cd-4074-8d12-696a322e5955\" target=\"_top\" title=\"psysml:dfc306bc-28cd-4074-8d12-696a322e5955\" xlink:actuate=\"onRequest\" xlink:href=\"psysml:dfc306bc-28cd-4074-8d12-696a322e5955\" xlink:show=\"new\" xlink:title=\"psysml:dfc306bc-28cd-4074-8d12-696a322e5955\" xlink:type=\"simple\"><rect fill=\"#FFFFFF\" height=\"40\" id=\"E8\" rx=\"10\" ry=\"10\" style=\"stroke: #383838; stroke-width: 1.5;\" width=\"50\" x=\"161\" y=\"143.22\"/><rect fill=\"#F8F8F8\" height=\"23.9688\" rx=\"10\" ry=\"10\" style=\"stroke: #F8F8F8; stroke-width: 1.5;\" width=\"50\" x=\"161\" y=\"143.22\"/><rect fill=\"#F8F8F8\" height=\"10\" style=\"stroke: #F8F8F8; stroke-width: 1.5;\" width=\"50\" x=\"161\" y=\"157.1888\"/><rect fill=\"none\" height=\"40\" id=\"E8\" rx=\"10\" ry=\"10\" style=\"stroke: #383838; stroke-width: 1.5;\" width=\"50\" x=\"161\" y=\"143.22\"/><text fill=\"#000000\" font-family=\"sans-serif\" font-size=\"12\" lengthAdjust=\"spacingAndGlyphs\" textLength=\"21\" x=\"175.5\" y=\"159.3587\">z: B</text></a></g><g id=\"E1.E9.E10\"><a href=\"psysml:aa943bbf-59d6-4c08-9403-21388691ca57\" target=\"_top\" title=\"psysml:aa943bbf-59d6-4c08-9403-21388691ca57\" xlink:actuate=\"onRequest\" xlink:href=\"psysml:aa943bbf-59d6-4c08-9403-21388691ca57\" xlink:show=\"new\" xlink:title=\"psysml:aa943bbf-59d6-4c08-9403-21388691ca57\" xlink:type=\"simple\"><rect fill=\"#FFFFFF\" height=\"40\" id=\"E10\" rx=\"10\" ry=\"10\" style=\"stroke: #383838; stroke-width: 1.5;\" width=\"50\" x=\"366\" y=\"143.22\"/><rect fill=\"#F8F8F8\" height=\"23.9688\" rx=\"10\" ry=\"10\" style=\"stroke: #F8F8F8; stroke-width: 1.5;\" width=\"50\" x=\"366\" y=\"143.22\"/><rect fill=\"#F8F8F8\" height=\"10\" style=\"stroke: #F8F8F8; stroke-width: 1.5;\" width=\"50\" x=\"366\" y=\"157.1888\"/><rect fill=\"none\" height=\"40\" id=\"E10\" rx=\"10\" ry=\"10\" style=\"stroke: #383838; stroke-width: 1.5;\" width=\"50\" x=\"366\" y=\"143.22\"/><text fill=\"#000000\" font-family=\"sans-serif\" font-size=\"12\" lengthAdjust=\"spacingAndGlyphs\" textLength=\"29\" x=\"376.5\" y=\"159.3587\">z1: A</text></a></g><!--MD5=[185131fc0dcab0a4505a2ebe144e961b]\n",
       "link E4 to E2--><a href=\"psysml:113e6c15-2e9f-43c2-9a8b-f1023998ecb3\" target=\"_top\" title=\"psysml:113e6c15-2e9f-43c2-9a8b-f1023998ecb3\" xlink:actuate=\"onRequest\" xlink:href=\"psysml:113e6c15-2e9f-43c2-9a8b-f1023998ecb3\" xlink:show=\"new\" xlink:title=\"psysml:113e6c15-2e9f-43c2-9a8b-f1023998ecb3\" xlink:type=\"simple\"><path d=\"M229,310.88 C229,320.56 229,332.0619 229,343.9678 C229,346.9443 229,349.946 229,352.9509 C229,354.4533 229,355.9565 229,357.4577 C229,358.2083 229,358.9584 229,359.7076 \" fill=\"none\" id=\"E4-&gt;E2\" style=\"stroke: #383838; stroke-width: 1.0; stroke-dasharray: 7.0,7.0;\"/><polygon fill=\"#383838\" points=\"229,359.7076,233,350.7076,229,354.7076,225,350.7076,229,359.7076\" style=\"stroke: #383838; stroke-width: 1.0;\"/><text fill=\"#000000\" font-family=\"sans-serif\" font-size=\"13\" lengthAdjust=\"spacingAndGlyphs\" textLength=\"65\" x=\"230\" y=\"331.7869\">«import»*</text></a><!--MD5=[ee384bb554873b72f85793eae40e290c]\n",
       "link E1 to E4--><a href=\"psysml:a039409c-dc44-4261-a761-133767375f35\" target=\"_top\" title=\"psysml:a039409c-dc44-4261-a761-133767375f35\" xlink:actuate=\"onRequest\" xlink:href=\"psysml:a039409c-dc44-4261-a761-133767375f35\" xlink:show=\"new\" xlink:title=\"psysml:a039409c-dc44-4261-a761-133767375f35\" xlink:type=\"simple\"><path d=\"M176.15,33.72 C179.23,33.72 228.5,33.72 228.5,33.72 C228.5,33.72 228.5,252.41 228.5,252.41 \" fill=\"none\" id=\"E1-&gt;E4\" style=\"stroke: #383838; stroke-width: 1.0; stroke-dasharray: 7.0,7.0;\"/><polygon fill=\"#383838\" points=\"228.5,257.41,232.5,248.41,228.5,252.41,224.5,248.41,228.5,257.41\" style=\"stroke: #383838; stroke-width: 1.0;\"/><text fill=\"#000000\" font-family=\"sans-serif\" font-size=\"13\" lengthAdjust=\"spacingAndGlyphs\" textLength=\"65\" x=\"60\" y=\"167.7869\">«import»*</text></a><!--MD5=[ccbd3af71bf83df0ec2a2db62d6d7130]\n",
       "link E1 to E6--><a href=\"psysml:8872cc02-851e-450c-b3e8-f90f2e3db770\" target=\"_top\" title=\"psysml:8872cc02-851e-450c-b3e8-f90f2e3db770\" xlink:actuate=\"onRequest\" xlink:href=\"psysml:8872cc02-851e-450c-b3e8-f90f2e3db770\" xlink:show=\"new\" xlink:title=\"psysml:8872cc02-851e-450c-b3e8-f90f2e3db770\" xlink:type=\"simple\"><path d=\"M176,33.98 C176,40.06 176,88.72 176,88.72 C176,88.72 488,88.72 488,88.72 C488,88.72 488,89.7775 488,91.6405 C488,92.572 488,93.7049 488,95.0077 C488,95.659 488,96.3529 488,97.0853 C488,97.4515 488,97.8273 488,98.2122 C488,98.3085 488,98.4053 488,98.5027 \" fill=\"none\" id=\"E1-&gt;E6\" style=\"stroke: #383838; stroke-width: 1.0; stroke-dasharray: 7.0,7.0;\"/><polygon fill=\"#383838\" points=\"488,98.5027,492,89.5027,488,93.5027,484,89.5027,488,98.5027\" style=\"stroke: #383838; stroke-width: 1.0;\"/><text fill=\"#000000\" font-family=\"sans-serif\" font-size=\"13\" lengthAdjust=\"spacingAndGlyphs\" textLength=\"65\" x=\"295\" y=\"54.7869\">«import»*</text></a><!--MD5=[c2be97adba6ddfe1c8f349fab141c927]\n",
       "link E9 to E4--><a href=\"psysml:f0473cf2-6b9f-40e7-98be-e0cb9d304d8b\" target=\"_top\" title=\"psysml:f0473cf2-6b9f-40e7-98be-e0cb9d304d8b\" xlink:actuate=\"onRequest\" xlink:href=\"psysml:f0473cf2-6b9f-40e7-98be-e0cb9d304d8b\" xlink:show=\"new\" xlink:title=\"psysml:f0473cf2-6b9f-40e7-98be-e0cb9d304d8b\" xlink:type=\"simple\"><path d=\"M331,207.3951 C331,207.6137 331,207.8325 331,208.0516 C331,208.4899 331,208.9293 331,209.3699 C331,210.2509 331,211.1364 331,212.0253 C331,213.8033 331,215.5955 331,217.3955 C331,220.9954 331,224.6266 331,228.2375 C331,257.125 331,284.72 331,284.72 C331,284.72 253.19,284.72 253.19,284.72 \" fill=\"none\" id=\"E9-&gt;E4\" style=\"stroke: #383838; stroke-width: 1.0; stroke-dasharray: 7.0,7.0;\"/><polygon fill=\"#383838\" points=\"248.19,284.72,257.19,288.72,253.19,284.72,257.19,280.72,248.19,284.72\" style=\"stroke: #383838; stroke-width: 1.0;\"/><text fill=\"#000000\" font-family=\"sans-serif\" font-size=\"13\" lengthAdjust=\"spacingAndGlyphs\" textLength=\"65\" x=\"264\" y=\"245.7869\">«import»*</text></a><!--MD5=[0d7af84158cf4797d363916504cf226a]\n",
       "@startuml\r\n",
       "skinparam ranksep 10\r\n",
       "skinparam rectangle {\r\n",
       " backgroundColor<<block>> LightGreen\r\n",
       "}\r\n",
       "skinparam linetype ortho\r\n",
       "skinparam monochrome true\r\n",
       "skinparam classbackgroundcolor white\r\n",
       "skinparam shadowing false\r\n",
       "skinparam wrapWidth 300\r\n",
       "hide circle\r\n",
       "\r\n",
       "package \"PrivateImportTest\" as E1  [[psysml:56a08668-af7c-402b-8ea6-0ffeccd2e906 ]]  {\r\n",
       "package \"P1\" as E2  [[psysml:989134c5-5272-479d-a43e-5e5573119e0c ]]  {\r\n",
       "rec def \"A\" as E3  <<(T,blue) part  def>> [[psysml:1f011377-ef65-4253-92ff-be4f522feeb1 ]] {\r\n",
       "}\r\n",
       "}\r\n",
       "package \"P2\" as E4  [[psysml:7d907640-2982-4506-b0ab-4e4fe8a9afec ]]  {\r\n",
       "}\r\n",
       "rec usage \"x: A\" as E5  [[psysml:4755439e-6dab-436e-bf4a-d220bd8663ba ]] {\r\n",
       "}\r\n",
       "package \"P3\" as E6  [[psysml:90563c83-8b6e-4371-ac3b-36c1983fe7e9 ]]  {\r\n",
       "rec def \"B\" as E7  <<(T,blue) part  def>> [[psysml:bdb8801b-74e6-41c7-b5f1-114cae898237 ]] {\r\n",
       "}\r\n",
       "}\r\n",
       "rec usage \"z: B\" as E8  [[psysml:dfc306bc-28cd-4074-8d12-696a322e5955 ]] {\r\n",
       "}\r\n",
       "package \"P4\" as E9  [[psysml:2733cc0d-ab4e-4acc-aaf2-0d4d1c16697a ]]  {\r\n",
       "rec usage \"z1: A\" as E10  [[psysml:aa943bbf-59d6-4c08-9403-21388691ca57 ]] {\r\n",
       "}\r\n",
       "}\r\n",
       "}\r\n",
       "E4 ..> E2 [[psysml:113e6c15-2e9f-43c2-9a8b-f1023998ecb3 ]] : <<import>>*\r\n",
       "E1 ..> E4 [[psysml:a039409c-dc44-4261-a761-133767375f35 ]] : <<import>>*\r\n",
       "E1 ..> E6 [[psysml:8872cc02-851e-450c-b3e8-f90f2e3db770 ]] : <<import>>*\r\n",
       "E9 ..> E4 [[psysml:f0473cf2-6b9f-40e7-98be-e0cb9d304d8b ]] : <<import>>*\r\n",
       "@enduml\r\n",
       "\n",
       "PlantUML version 1.2020.13(Sat Jun 13 12:26:38 UTC 2020)\n",
       "(EPL source distribution)\n",
       "Java Runtime: OpenJDK Runtime Environment\n",
       "JVM: OpenJDK 64-Bit Server VM\n",
       "Default Encoding: UTF-8\n",
       "Language: en\n",
       "Country: null\n",
       "--></g></svg>"
      ]
     },
     "execution_count": 54,
     "metadata": {},
     "output_type": "execute_result"
    }
   ],
   "source": [
    "%viz --style=\"ORTHOLINE\" --view=\"Interconnection\" \"PrivateImportTest\""
   ]
  },
  {
   "cell_type": "code",
   "execution_count": 55,
   "id": "52b09773",
   "metadata": {
    "execution": {
     "iopub.execute_input": "2022-02-18T10:48:48.979938Z",
     "iopub.status.busy": "2022-02-18T10:48:48.979529Z",
     "iopub.status.idle": "2022-02-18T10:48:48.984492Z",
     "shell.execute_reply": "2022-02-18T10:48:48.984136Z"
    }
   },
   "outputs": [
    {
     "data": {
      "image/svg+xml": [
       "<?xml version=\"1.0\" encoding=\"UTF-8\" standalone=\"no\"?><svg xmlns=\"http://www.w3.org/2000/svg\" xmlns:xlink=\"http://www.w3.org/1999/xlink\" contentScriptType=\"application/ecmascript\" contentStyleType=\"text/css\" height=\"12px\" preserveAspectRatio=\"none\" style=\"width:12px;height:12px;\" version=\"1.1\" viewBox=\"0 0 12 12\" width=\"12px\" zoomAndPan=\"magnify\"><defs/><g><!--MD5=[72934c63077099a26744516a776b4749]\n",
       "@startuml\r\n",
       "skinparam ranksep 8\r\n",
       "skinparam linetype ortho\r\n",
       "skinparam monochrome true\r\n",
       "skinparam classbackgroundcolor white\r\n",
       "skinparam shadowing false\r\n",
       "skinparam wrapWidth 300\r\n",
       "hide circle\r\n",
       "\r\n",
       "@enduml\r\n",
       "\n",
       "PlantUML version 1.2020.13(Sat Jun 13 12:26:38 UTC 2020)\n",
       "(EPL source distribution)\n",
       "Java Runtime: OpenJDK Runtime Environment\n",
       "JVM: OpenJDK 64-Bit Server VM\n",
       "Default Encoding: UTF-8\n",
       "Language: en\n",
       "Country: null\n",
       "--></g></svg>"
      ]
     },
     "execution_count": 55,
     "metadata": {},
     "output_type": "execute_result"
    }
   ],
   "source": [
    "%viz --style=\"ORTHOLINE\" --view=\"Action\" \"PrivateImportTest\""
   ]
  },
  {
   "cell_type": "code",
   "execution_count": 56,
   "id": "164c1a8a",
   "metadata": {
    "execution": {
     "iopub.execute_input": "2022-02-18T10:48:49.033846Z",
     "iopub.status.busy": "2022-02-18T10:48:49.033422Z",
     "iopub.status.idle": "2022-02-18T10:48:49.038037Z",
     "shell.execute_reply": "2022-02-18T10:48:49.037684Z"
    }
   },
   "outputs": [
    {
     "data": {
      "image/svg+xml": [
       "<?xml version=\"1.0\" encoding=\"UTF-8\" standalone=\"no\"?><svg xmlns=\"http://www.w3.org/2000/svg\" xmlns:xlink=\"http://www.w3.org/1999/xlink\" contentScriptType=\"application/ecmascript\" contentStyleType=\"text/css\" height=\"12px\" preserveAspectRatio=\"none\" style=\"width:12px;height:12px;\" version=\"1.1\" viewBox=\"0 0 12 12\" width=\"12px\" zoomAndPan=\"magnify\"><defs/><g><!--MD5=[30fc1de5121c5abddedd55b44417fde8]\n",
       "@startuml\r\n",
       "skinparam roundcorner 20\r\n",
       "skinparam BoxPadding 20\r\n",
       "skinparam SequenceBoxBackgroundColor #white\r\n",
       "skinparam style strictuml\r\n",
       "skinparam maxMessageSize 100\r\n",
       "skinparam linetype ortho\r\n",
       "skinparam monochrome true\r\n",
       "skinparam classbackgroundcolor white\r\n",
       "skinparam shadowing false\r\n",
       "skinparam wrapWidth 300\r\n",
       "hide circle\r\n",
       "\r\n",
       "@enduml\r\n",
       "\n",
       "PlantUML version 1.2020.13(Sat Jun 13 12:26:38 UTC 2020)\n",
       "(EPL source distribution)\n",
       "Java Runtime: OpenJDK Runtime Environment\n",
       "JVM: OpenJDK 64-Bit Server VM\n",
       "Default Encoding: UTF-8\n",
       "Language: en\n",
       "Country: null\n",
       "--></g></svg>"
      ]
     },
     "execution_count": 56,
     "metadata": {},
     "output_type": "execute_result"
    }
   ],
   "source": [
    "%viz --style=\"ORTHOLINE\" --view=\"Sequence\" \"PrivateImportTest\""
   ]
  },
  {
   "cell_type": "code",
   "execution_count": 57,
   "id": "e7f293aa",
   "metadata": {
    "execution": {
     "iopub.execute_input": "2022-02-18T10:48:49.087857Z",
     "iopub.status.busy": "2022-02-18T10:48:49.087439Z",
     "iopub.status.idle": "2022-02-18T10:48:49.123086Z",
     "shell.execute_reply": "2022-02-18T10:48:49.122769Z"
    }
   },
   "outputs": [
    {
     "data": {
      "image/svg+xml": [
       "<?xml version=\"1.0\" encoding=\"UTF-8\" standalone=\"no\"?><svg xmlns=\"http://www.w3.org/2000/svg\" xmlns:xlink=\"http://www.w3.org/1999/xlink\" contentScriptType=\"application/ecmascript\" contentStyleType=\"text/css\" height=\"586px\" preserveAspectRatio=\"none\" style=\"width:423px;height:586px;\" version=\"1.1\" viewBox=\"0 0 423 586\" width=\"423px\" zoomAndPan=\"magnify\"><defs/><g><!--MD5=[fbc87193dbaf4d95561dea2c320d4a47]\n",
       "cluster E1--><a href=\"psysml:56a08668-af7c-402b-8ea6-0ffeccd2e906\" target=\"_top\" title=\"psysml:56a08668-af7c-402b-8ea6-0ffeccd2e906\" xlink:actuate=\"onRequest\" xlink:href=\"psysml:56a08668-af7c-402b-8ea6-0ffeccd2e906\" xlink:show=\"new\" xlink:title=\"psysml:56a08668-af7c-402b-8ea6-0ffeccd2e906\" xlink:type=\"simple\"><polygon fill=\"#FFFFFF\" points=\"16,6,143,6,150,28.2969,401,28.2969,401,574,16,574,16,6\" style=\"stroke: #000000; stroke-width: 1.5;\"/><line style=\"stroke: #000000; stroke-width: 1.5;\" x1=\"16\" x2=\"150\" y1=\"28.2969\" y2=\"28.2969\"/><text fill=\"#000000\" font-family=\"sans-serif\" font-size=\"14\" font-weight=\"bold\" lengthAdjust=\"spacingAndGlyphs\" textLength=\"121\" x=\"20\" y=\"20.9951\">PrivateImportTest</text></a><!--MD5=[e4f7fae6ed58524ba242bb0b0d3be6b7]\n",
       "cluster E2--><a href=\"psysml:989134c5-5272-479d-a43e-5e5573119e0c\" target=\"_top\" title=\"psysml:989134c5-5272-479d-a43e-5e5573119e0c\" xlink:actuate=\"onRequest\" xlink:href=\"psysml:989134c5-5272-479d-a43e-5e5573119e0c\" xlink:show=\"new\" xlink:title=\"psysml:989134c5-5272-479d-a43e-5e5573119e0c\" xlink:type=\"simple\"><polygon fill=\"#FFFFFF\" points=\"221,421,245,421,252,443.2969,358,443.2969,358,534,221,534,221,421\" style=\"stroke: #000000; stroke-width: 1.5;\"/><line style=\"stroke: #000000; stroke-width: 1.5;\" x1=\"221\" x2=\"252\" y1=\"443.2969\" y2=\"443.2969\"/><text fill=\"#000000\" font-family=\"sans-serif\" font-size=\"14\" font-weight=\"bold\" lengthAdjust=\"spacingAndGlyphs\" textLength=\"18\" x=\"225\" y=\"435.9951\">P1</text></a><!--MD5=[14e3b0961a2654348d326746436168a1]\n",
       "cluster E6--><a href=\"psysml:90563c83-8b6e-4371-ac3b-36c1983fe7e9\" target=\"_top\" title=\"psysml:90563c83-8b6e-4371-ac3b-36c1983fe7e9\" xlink:actuate=\"onRequest\" xlink:href=\"psysml:90563c83-8b6e-4371-ac3b-36c1983fe7e9\" xlink:show=\"new\" xlink:title=\"psysml:90563c83-8b6e-4371-ac3b-36c1983fe7e9\" xlink:type=\"simple\"><polygon fill=\"#FFFFFF\" points=\"64,243,88,243,95,265.2969,201,265.2969,201,356,64,356,64,243\" style=\"stroke: #000000; stroke-width: 1.5;\"/><line style=\"stroke: #000000; stroke-width: 1.5;\" x1=\"64\" x2=\"95\" y1=\"265.2969\" y2=\"265.2969\"/><text fill=\"#000000\" font-family=\"sans-serif\" font-size=\"14\" font-weight=\"bold\" lengthAdjust=\"spacingAndGlyphs\" textLength=\"18\" x=\"68\" y=\"257.9951\">P3</text></a><!--MD5=[7f149f147074ac12df2cb0a7728a5fb0]\n",
       "cluster E9--><a href=\"psysml:2733cc0d-ab4e-4acc-aaf2-0d4d1c16697a\" target=\"_top\" title=\"psysml:2733cc0d-ab4e-4acc-aaf2-0d4d1c16697a\" xlink:actuate=\"onRequest\" xlink:href=\"psysml:2733cc0d-ab4e-4acc-aaf2-0d4d1c16697a\" xlink:show=\"new\" xlink:title=\"psysml:2733cc0d-ab4e-4acc-aaf2-0d4d1c16697a\" xlink:type=\"simple\"><polygon fill=\"#FFFFFF\" points=\"252,65,276,65,283,87.2969,361,87.2969,361,178,252,178,252,65\" style=\"stroke: #000000; stroke-width: 1.5;\"/><line style=\"stroke: #000000; stroke-width: 1.5;\" x1=\"252\" x2=\"283\" y1=\"87.2969\" y2=\"87.2969\"/><text fill=\"#000000\" font-family=\"sans-serif\" font-size=\"14\" font-weight=\"bold\" lengthAdjust=\"spacingAndGlyphs\" textLength=\"18\" x=\"256\" y=\"79.9951\">P4</text></a><!--MD5=[270fce915f116d4de14055a7c1d9a0f3]\n",
       "class E5--><a href=\"psysml:4755439e-6dab-436e-bf4a-d220bd8663ba\" target=\"_top\" title=\"psysml:4755439e-6dab-436e-bf4a-d220bd8663ba\" xlink:actuate=\"onRequest\" xlink:href=\"psysml:4755439e-6dab-436e-bf4a-d220bd8663ba\" xlink:show=\"new\" xlink:title=\"psysml:4755439e-6dab-436e-bf4a-d220bd8663ba\" xlink:type=\"simple\"><rect fill=\"#FFFFFF\" height=\"45.9375\" id=\"E5\" rx=\"10\" ry=\"10\" style=\"stroke: #383838; stroke-width: 1.5;\" width=\"42\" x=\"335\" y=\"286\"/><text fill=\"#000000\" font-family=\"sans-serif\" font-size=\"12\" font-style=\"italic\" lengthAdjust=\"spacingAndGlyphs\" textLength=\"40\" x=\"336\" y=\"302.1387\">«part»</text><text fill=\"#000000\" font-family=\"sans-serif\" font-size=\"12\" lengthAdjust=\"spacingAndGlyphs\" textLength=\"22\" x=\"343\" y=\"316.1074\">x: A</text><line style=\"stroke: #383838; stroke-width: 1.5;\" x1=\"336\" x2=\"376\" y1=\"323.9375\" y2=\"323.9375\"/></a><!--MD5=[b9389687b975829384b498ac4b7476b2]\n",
       "class E8--><a href=\"psysml:dfc306bc-28cd-4074-8d12-696a322e5955\" target=\"_top\" title=\"psysml:dfc306bc-28cd-4074-8d12-696a322e5955\" xlink:actuate=\"onRequest\" xlink:href=\"psysml:dfc306bc-28cd-4074-8d12-696a322e5955\" xlink:show=\"new\" xlink:title=\"psysml:dfc306bc-28cd-4074-8d12-696a322e5955\" xlink:type=\"simple\"><rect fill=\"#FFFFFF\" height=\"45.9375\" id=\"E8\" rx=\"10\" ry=\"10\" style=\"stroke: #383838; stroke-width: 1.5;\" width=\"42\" x=\"183\" y=\"108\"/><text fill=\"#000000\" font-family=\"sans-serif\" font-size=\"12\" font-style=\"italic\" lengthAdjust=\"spacingAndGlyphs\" textLength=\"40\" x=\"184\" y=\"124.1387\">«part»</text><text fill=\"#000000\" font-family=\"sans-serif\" font-size=\"12\" lengthAdjust=\"spacingAndGlyphs\" textLength=\"21\" x=\"191.5\" y=\"138.1074\">z: B</text><line style=\"stroke: #383838; stroke-width: 1.5;\" x1=\"184\" x2=\"224\" y1=\"145.9375\" y2=\"145.9375\"/></a><!--MD5=[09b614a08d8cba4a07c9adeb5e0fee81]\n",
       "class E3--><a href=\"psysml:1f011377-ef65-4253-92ff-be4f522feeb1\" target=\"_top\" title=\"psysml:1f011377-ef65-4253-92ff-be4f522feeb1\" xlink:actuate=\"onRequest\" xlink:href=\"psysml:1f011377-ef65-4253-92ff-be4f522feeb1\" xlink:show=\"new\" xlink:title=\"psysml:1f011377-ef65-4253-92ff-be4f522feeb1\" xlink:type=\"simple\"><rect fill=\"#FFFFFF\" height=\"45.9375\" id=\"E3\" style=\"stroke: #383838; stroke-width: 1.5;\" width=\"70\" x=\"264\" y=\"464\"/><text fill=\"#000000\" font-family=\"sans-serif\" font-size=\"12\" font-style=\"italic\" lengthAdjust=\"spacingAndGlyphs\" textLength=\"68\" x=\"265\" y=\"480.1387\">«part  def»</text><text fill=\"#000000\" font-family=\"sans-serif\" font-size=\"12\" lengthAdjust=\"spacingAndGlyphs\" textLength=\"8\" x=\"295\" y=\"494.1074\">A</text><line style=\"stroke: #383838; stroke-width: 1.5;\" x1=\"265\" x2=\"333\" y1=\"501.9375\" y2=\"501.9375\"/></a><a href=\"psysml:7d907640-2982-4506-b0ab-4e4fe8a9afec\" target=\"_top\" title=\"psysml:7d907640-2982-4506-b0ab-4e4fe8a9afec\" xlink:actuate=\"onRequest\" xlink:href=\"psysml:7d907640-2982-4506-b0ab-4e4fe8a9afec\" xlink:show=\"new\" xlink:title=\"psysml:7d907640-2982-4506-b0ab-4e4fe8a9afec\" xlink:type=\"simple\"><polygon fill=\"#FFFFFF\" points=\"225,282.5,249,282.5,256,304.7969,263,304.7969,263,335.0938,225,335.0938,225,282.5\" style=\"stroke: #000000; stroke-width: 1.5;\"/><line style=\"stroke: #000000; stroke-width: 1.5;\" x1=\"225\" x2=\"256\" y1=\"304.7969\" y2=\"304.7969\"/><text fill=\"#000000\" font-family=\"sans-serif\" font-size=\"14\" font-weight=\"bold\" lengthAdjust=\"spacingAndGlyphs\" textLength=\"18\" x=\"229\" y=\"297.4951\">P2</text></a><!--MD5=[2156ba9850f5573cc1fc38a6a4b2f02b]\n",
       "class E7--><a href=\"psysml:bdb8801b-74e6-41c7-b5f1-114cae898237\" target=\"_top\" title=\"psysml:bdb8801b-74e6-41c7-b5f1-114cae898237\" xlink:actuate=\"onRequest\" xlink:href=\"psysml:bdb8801b-74e6-41c7-b5f1-114cae898237\" xlink:show=\"new\" xlink:title=\"psysml:bdb8801b-74e6-41c7-b5f1-114cae898237\" xlink:type=\"simple\"><rect fill=\"#FFFFFF\" height=\"45.9375\" id=\"E7\" style=\"stroke: #383838; stroke-width: 1.5;\" width=\"70\" x=\"107\" y=\"286\"/><text fill=\"#000000\" font-family=\"sans-serif\" font-size=\"12\" font-style=\"italic\" lengthAdjust=\"spacingAndGlyphs\" textLength=\"68\" x=\"108\" y=\"302.1387\">«part  def»</text><text fill=\"#000000\" font-family=\"sans-serif\" font-size=\"12\" lengthAdjust=\"spacingAndGlyphs\" textLength=\"8\" x=\"138\" y=\"316.1074\">B</text><line style=\"stroke: #383838; stroke-width: 1.5;\" x1=\"108\" x2=\"176\" y1=\"323.9375\" y2=\"323.9375\"/></a><!--MD5=[96f4274e9e20536e775497830990834d]\n",
       "class E10--><a href=\"psysml:aa943bbf-59d6-4c08-9403-21388691ca57\" target=\"_top\" title=\"psysml:aa943bbf-59d6-4c08-9403-21388691ca57\" xlink:actuate=\"onRequest\" xlink:href=\"psysml:aa943bbf-59d6-4c08-9403-21388691ca57\" xlink:show=\"new\" xlink:title=\"psysml:aa943bbf-59d6-4c08-9403-21388691ca57\" xlink:type=\"simple\"><rect fill=\"#FFFFFF\" height=\"45.9375\" id=\"E10\" rx=\"10\" ry=\"10\" style=\"stroke: #383838; stroke-width: 1.5;\" width=\"42\" x=\"295\" y=\"108\"/><text fill=\"#000000\" font-family=\"sans-serif\" font-size=\"12\" font-style=\"italic\" lengthAdjust=\"spacingAndGlyphs\" textLength=\"40\" x=\"296\" y=\"124.1387\">«part»</text><text fill=\"#000000\" font-family=\"sans-serif\" font-size=\"12\" lengthAdjust=\"spacingAndGlyphs\" textLength=\"29\" x=\"299.5\" y=\"138.1074\">z1: A</text><line style=\"stroke: #383838; stroke-width: 1.5;\" x1=\"296\" x2=\"336\" y1=\"145.9375\" y2=\"145.9375\"/></a><!--MD5=[185131fc0dcab0a4505a2ebe144e961b]\n",
       "link E4 to E2--><a href=\"psysml:113e6c15-2e9f-43c2-9a8b-f1023998ecb3\" target=\"_top\" title=\"psysml:113e6c15-2e9f-43c2-9a8b-f1023998ecb3\" xlink:actuate=\"onRequest\" xlink:href=\"psysml:113e6c15-2e9f-43c2-9a8b-f1023998ecb3\" xlink:show=\"new\" xlink:title=\"psysml:113e6c15-2e9f-43c2-9a8b-f1023998ecb3\" xlink:type=\"simple\"><path d=\"M229,335.65 C229,347.4825 229,362.2694 229,377.9309 C229,385.7617 229,393.8112 229,401.8193 C229,405.8234 229,409.8172 229,413.7681 C229,415.7436 229,417.7084 229,419.6584 C229,419.9021 229,420.1456 229,420.3889 \" fill=\"none\" id=\"E4-&gt;E2\" style=\"stroke: #383838; stroke-width: 1.0; stroke-dasharray: 7.0,7.0;\"/><polygon fill=\"#383838\" points=\"229,420.3889,233,411.3889,229,415.3889,225,411.3889,229,420.3889\" style=\"stroke: #383838; stroke-width: 1.0;\"/><text fill=\"#000000\" font-family=\"sans-serif\" font-size=\"13\" lengthAdjust=\"spacingAndGlyphs\" textLength=\"65\" x=\"227\" y=\"393.0669\">«import»*</text></a><!--MD5=[e9be52314489bd878ff4c7144b63c9e1]\n",
       "link E5 to E3--><a href=\"psysml:2e030f48-ed8d-4fbc-a256-8117ac7131ec\" target=\"_top\" title=\"psysml:2e030f48-ed8d-4fbc-a256-8117ac7131ec\" xlink:actuate=\"onRequest\" xlink:href=\"psysml:2e030f48-ed8d-4fbc-a256-8117ac7131ec\" xlink:show=\"new\" xlink:title=\"psysml:2e030f48-ed8d-4fbc-a256-8117ac7131ec\" xlink:type=\"simple\"><path d=\"M334.83,309 C327.46,309 321,309 321,309 C321,309 321,443.73 321,443.73 \" fill=\"none\" id=\"E5-&gt;E3\" style=\"stroke: #383838; stroke-width: 1.0;\"/><polygon fill=\"#FFFFFF\" points=\"321,463.73,314,444.73,328,444.73,321,463.73\" style=\"stroke: #383838; stroke-width: 1.0;\"/><ellipse cx=\"316\" cy=\"439.03\" fill=\"#383838\" rx=\"2\" ry=\"2\" style=\"stroke: #383838; stroke-width: 1.0;\"/><ellipse cx=\"326\" cy=\"439.03\" fill=\"#383838\" rx=\"2\" ry=\"2\" style=\"stroke: #383838; stroke-width: 1.0;\"/></a><!--MD5=[ee384bb554873b72f85793eae40e290c]\n",
       "link E1 to E4--><a href=\"psysml:a039409c-dc44-4261-a761-133767375f35\" target=\"_top\" title=\"psysml:a039409c-dc44-4261-a761-133767375f35\" xlink:actuate=\"onRequest\" xlink:href=\"psysml:a039409c-dc44-4261-a761-133767375f35\" xlink:show=\"new\" xlink:title=\"psysml:a039409c-dc44-4261-a761-133767375f35\" xlink:type=\"simple\"><path d=\"M24,131.56 C24,139.06 24,219 24,219 C24,219 242,219 242,219 C242,219 242,277.48 242,277.48 \" fill=\"none\" id=\"E1-&gt;E4\" style=\"stroke: #383838; stroke-width: 1.0; stroke-dasharray: 7.0,7.0;\"/><polygon fill=\"#383838\" points=\"242,282.48,246,273.48,242,277.48,238,273.48,242,282.48\" style=\"stroke: #383838; stroke-width: 1.0;\"/><text fill=\"#000000\" font-family=\"sans-serif\" font-size=\"13\" lengthAdjust=\"spacingAndGlyphs\" textLength=\"65\" x=\"167\" y=\"215.0669\">«import»*</text></a><!--MD5=[ccbd3af71bf83df0ec2a2db62d6d7130]\n",
       "link E1 to E6--><a href=\"psysml:8872cc02-851e-450c-b3e8-f90f2e3db770\" target=\"_top\" title=\"psysml:8872cc02-851e-450c-b3e8-f90f2e3db770\" xlink:actuate=\"onRequest\" xlink:href=\"psysml:8872cc02-851e-450c-b3e8-f90f2e3db770\" xlink:show=\"new\" xlink:title=\"psysml:8872cc02-851e-450c-b3e8-f90f2e3db770\" xlink:type=\"simple\"><path d=\"M24.54,131 C29.81,131 72,131 72,131 C72,131 72,172.7625 72,215.83 C72,221.2134 72,226.6173 72,231.9625 C72,234.6351 72,237.293 72,239.9264 C72,240.5848 72,241.2416 72,241.8967 C72,242.2243 72,242.5514 72,242.8781 \" fill=\"none\" id=\"E1-&gt;E6\" style=\"stroke: #383838; stroke-width: 1.0; stroke-dasharray: 7.0,7.0;\"/><polygon fill=\"#383838\" points=\"72,242.8781,76,233.8781,72,237.8781,68,233.8781,72,242.8781\" style=\"stroke: #383838; stroke-width: 1.0;\"/><text fill=\"#000000\" font-family=\"sans-serif\" font-size=\"13\" lengthAdjust=\"spacingAndGlyphs\" textLength=\"65\" x=\"60\" y=\"215.0669\">«import»*</text></a><!--MD5=[bfa3c8b0d15052fdf50ae9310b491027]\n",
       "link E8 to E7--><a href=\"psysml:0934d2d2-1a49-4ac4-b6c0-cd8fa5ea19dd\" target=\"_top\" title=\"psysml:0934d2d2-1a49-4ac4-b6c0-cd8fa5ea19dd\" xlink:actuate=\"onRequest\" xlink:href=\"psysml:0934d2d2-1a49-4ac4-b6c0-cd8fa5ea19dd\" xlink:show=\"new\" xlink:title=\"psysml:0934d2d2-1a49-4ac4-b6c0-cd8fa5ea19dd\" xlink:type=\"simple\"><path d=\"M204,154.27 C204,202.52 204,309 204,309 C204,309 197.35,309 197.35,309 \" fill=\"none\" id=\"E8-&gt;E7\" style=\"stroke: #383838; stroke-width: 1.0;\"/><polygon fill=\"#FFFFFF\" points=\"177.35,309,196.35,302,196.35,316,177.35,309\" style=\"stroke: #383838; stroke-width: 1.0;\"/><ellipse cx=\"202.05\" cy=\"304\" fill=\"#383838\" rx=\"2\" ry=\"2\" style=\"stroke: #383838; stroke-width: 1.0;\"/><ellipse cx=\"202.05\" cy=\"314\" fill=\"#383838\" rx=\"2\" ry=\"2\" style=\"stroke: #383838; stroke-width: 1.0;\"/></a><!--MD5=[c2be97adba6ddfe1c8f349fab141c927]\n",
       "link E9 to E4--><a href=\"psysml:f0473cf2-6b9f-40e7-98be-e0cb9d304d8b\" target=\"_top\" title=\"psysml:f0473cf2-6b9f-40e7-98be-e0cb9d304d8b\" xlink:actuate=\"onRequest\" xlink:href=\"psysml:f0473cf2-6b9f-40e7-98be-e0cb9d304d8b\" xlink:show=\"new\" xlink:title=\"psysml:f0473cf2-6b9f-40e7-98be-e0cb9d304d8b\" xlink:type=\"simple\"><path d=\"M260,178.4607 C260,178.7288 260,178.9975 260,179.2667 C260,179.8052 260,180.3457 260,180.8882 C260,181.9731 260,183.0658 260,184.1652 C260,186.364 260,188.5895 260,190.8328 C260,195.3194 260,199.8772 260,204.435 C260,240.8975 260,277.36 260,277.36 \" fill=\"none\" id=\"E9-&gt;E4\" style=\"stroke: #383838; stroke-width: 1.0; stroke-dasharray: 7.0,7.0;\"/><polygon fill=\"#383838\" points=\"260,282.36,264,273.36,260,277.36,256,273.36,260,282.36\" style=\"stroke: #383838; stroke-width: 1.0;\"/><text fill=\"#000000\" font-family=\"sans-serif\" font-size=\"13\" lengthAdjust=\"spacingAndGlyphs\" textLength=\"65\" x=\"281\" y=\"215.0669\">«import»*</text></a><!--MD5=[feeac5eb423634930294aa81f2d25a4c]\n",
       "link E10 to E3--><a href=\"psysml:6083fff7-7e2a-4a1f-b6e0-00602bace9f4\" target=\"_top\" title=\"psysml:6083fff7-7e2a-4a1f-b6e0-00602bace9f4\" xlink:actuate=\"onRequest\" xlink:href=\"psysml:6083fff7-7e2a-4a1f-b6e0-00602bace9f4\" xlink:show=\"new\" xlink:title=\"psysml:6083fff7-7e2a-4a1f-b6e0-00602bace9f4\" xlink:type=\"simple\"><path d=\"M308,154.08 C308,154.08 308,443.97 308,443.97 \" fill=\"none\" id=\"E10-&gt;E3\" style=\"stroke: #383838; stroke-width: 1.0;\"/><polygon fill=\"#FFFFFF\" points=\"308,463.97,301,444.97,315,444.97,308,463.97\" style=\"stroke: #383838; stroke-width: 1.0;\"/><ellipse cx=\"303\" cy=\"439.27\" fill=\"#383838\" rx=\"2\" ry=\"2\" style=\"stroke: #383838; stroke-width: 1.0;\"/><ellipse cx=\"313\" cy=\"439.27\" fill=\"#383838\" rx=\"2\" ry=\"2\" style=\"stroke: #383838; stroke-width: 1.0;\"/></a><!--MD5=[3982a5775111cccae89ff3d6027f1196]\n",
       "@startuml\r\n",
       "skinparam linetype ortho\r\n",
       "skinparam monochrome true\r\n",
       "skinparam classbackgroundcolor white\r\n",
       "skinparam shadowing false\r\n",
       "skinparam wrapWidth 300\r\n",
       "hide circle\r\n",
       "\r\n",
       "package \"PrivateImportTest\" as E1  [[psysml:56a08668-af7c-402b-8ea6-0ffeccd2e906 ]]  {\r\n",
       "package \"P1\" as E2  [[psysml:989134c5-5272-479d-a43e-5e5573119e0c ]]  {\r\n",
       "comp def \"A\" as E3  <<(T,blue) part  def>> [[psysml:1f011377-ef65-4253-92ff-be4f522feeb1 ]] {\r\n",
       "}\r\n",
       "}\r\n",
       "package \"P2\" as E4  [[psysml:7d907640-2982-4506-b0ab-4e4fe8a9afec ]]  {\r\n",
       "}\r\n",
       "comp usage \"x: A \" as E5  <<(T,blue) part>> [[psysml:4755439e-6dab-436e-bf4a-d220bd8663ba ]] {\r\n",
       "}\r\n",
       "package \"P3\" as E6  [[psysml:90563c83-8b6e-4371-ac3b-36c1983fe7e9 ]]  {\r\n",
       "comp def \"B\" as E7  <<(T,blue) part  def>> [[psysml:bdb8801b-74e6-41c7-b5f1-114cae898237 ]] {\r\n",
       "}\r\n",
       "}\r\n",
       "comp usage \"z: B \" as E8  <<(T,blue) part>> [[psysml:dfc306bc-28cd-4074-8d12-696a322e5955 ]] {\r\n",
       "}\r\n",
       "package \"P4\" as E9  [[psysml:2733cc0d-ab4e-4acc-aaf2-0d4d1c16697a ]]  {\r\n",
       "comp usage \"z1: A \" as E10  <<(T,blue) part>> [[psysml:aa943bbf-59d6-4c08-9403-21388691ca57 ]] {\r\n",
       "}\r\n",
       "}\r\n",
       "}\r\n",
       "E4 ..> E2 [[psysml:113e6c15-2e9f-43c2-9a8b-f1023998ecb3 ]] : <<import>>*\r\n",
       "E5 - -:|> E3 [[psysml:2e030f48-ed8d-4fbc-a256-8117ac7131ec ]] \r\n",
       "E1 ..> E4 [[psysml:a039409c-dc44-4261-a761-133767375f35 ]] : <<import>>*\r\n",
       "E1 ..> E6 [[psysml:8872cc02-851e-450c-b3e8-f90f2e3db770 ]] : <<import>>*\r\n",
       "E8 - -:|> E7 [[psysml:0934d2d2-1a49-4ac4-b6c0-cd8fa5ea19dd ]] \r\n",
       "E9 ..> E4 [[psysml:f0473cf2-6b9f-40e7-98be-e0cb9d304d8b ]] : <<import>>*\r\n",
       "E10 - -:|> E3 [[psysml:6083fff7-7e2a-4a1f-b6e0-00602bace9f4 ]] \r\n",
       "@enduml\r\n",
       "\n",
       "PlantUML version 1.2020.13(Sat Jun 13 12:26:38 UTC 2020)\n",
       "(EPL source distribution)\n",
       "Java Runtime: OpenJDK Runtime Environment\n",
       "JVM: OpenJDK 64-Bit Server VM\n",
       "Default Encoding: UTF-8\n",
       "Language: en\n",
       "Country: null\n",
       "--></g></svg>"
      ]
     },
     "execution_count": 57,
     "metadata": {},
     "output_type": "execute_result"
    }
   ],
   "source": [
    "%viz --style=\"ORTHOLINE\" --view=\"MIXED\" \"PrivateImportTest\""
   ]
  }
 ],
 "metadata": {
  "kernelspec": {
   "display_name": "SysML",
   "language": "sysml",
   "name": "sysml"
  },
  "language_info": {
   "codemirror_mode": "sysml",
   "file_extension": ".sysml",
   "mimetype": "text/x-sysml",
   "name": "SysML",
   "pygments_lexer": "java",
   "version": "1.0.0"
  }
 },
 "nbformat": 4,
 "nbformat_minor": 5
}
