{
 "cells": [
  {
   "cell_type": "markdown",
   "id": "detected-priest",
   "metadata": {},
   "source": [
    "# SysML v2 Test Suite\n",
    "\n",
    "This can notebook can be cleared using menu `Edit --> Clear All Outputs` and then all cells can be\n",
    "run using menu `Run --> Run All Cells`.\n",
    "\n",
    "**WARNING**: This file is generated, all modifications here will be ignored.\n"
   ]
  },
  {
   "cell_type": "markdown",
   "id": "elect-scratch",
   "metadata": {},
   "source": [
    "## File: ../../sysml/src/examples/Import Tests/PrivateImportTest.sysml"
   ]
  },
  {
   "cell_type": "code",
   "execution_count": 1,
   "id": "photographic-supervisor",
   "metadata": {
    "execution": {
     "iopub.execute_input": "2021-03-25T15:01:08.470110Z",
     "iopub.status.busy": "2021-03-25T15:01:08.461157Z",
     "iopub.status.idle": "2021-03-25T15:01:08.589533Z",
     "shell.execute_reply": "2021-03-25T15:01:08.588405Z"
    }
   },
   "outputs": [
    {
     "data": {
      "text/plain": [
       "Package PrivateImportTest (74958a0e-6805-4aae-b061-242e1ff0c441)\n"
      ]
     },
     "execution_count": 1,
     "metadata": {},
     "output_type": "execute_result"
    }
   ],
   "source": [
    "package PrivateImportTest {\n",
    "\tpackage P1 {\n",
    "\t\tpart def A;\n",
    "\t}\n",
    "\tpackage P2 {\n",
    "\t\tprivate import P1::*;\n",
    "\t}\n",
    "\tpart x: P1::A;\n",
    "\t\n",
    "\timport P2::*;\n",
    "\t// This should fail.\n",
    "\t// A is not visible, because the import in P2 is private.\n",
    "\t// y: A;\n",
    "\t\n",
    "\tpackage P3 {\n",
    "\t\tpart def B;\n",
    "\t}\n",
    "\t\n",
    "\tprivate import P3::*;\n",
    "\t\n",
    "\t// This should not fail.\n",
    "\t// Private import only restricts visibility outside the package.\n",
    "\tpart z: B;\n",
    "\t\n",
    "}"
   ]
  },
  {
   "cell_type": "code",
   "execution_count": 2,
   "id": "committed-entry",
   "metadata": {
    "execution": {
     "iopub.execute_input": "2021-03-25T15:01:08.641287Z",
     "iopub.status.busy": "2021-03-25T15:01:08.640788Z",
     "iopub.status.idle": "2021-03-25T15:01:09.507026Z",
     "shell.execute_reply": "2021-03-25T15:01:09.506643Z"
    }
   },
   "outputs": [
    {
     "data": {
      "image/svg+xml": [
       "<?xml version=\"1.0\" encoding=\"UTF-8\" standalone=\"no\"?><svg xmlns=\"http://www.w3.org/2000/svg\" xmlns:xlink=\"http://www.w3.org/1999/xlink\" contentScriptType=\"application/ecmascript\" contentStyleType=\"text/css\" height=\"252px\" preserveAspectRatio=\"none\" style=\"width:358px;height:252px;\" version=\"1.1\" viewBox=\"0 0 358 252\" width=\"358px\" zoomAndPan=\"magnify\"><defs><filter height=\"300%\" id=\"ftqsvnjxcuq1z\" width=\"300%\" x=\"-1\" y=\"-1\"><feGaussianBlur result=\"blurOut\" stdDeviation=\"2.0\"/><feColorMatrix in=\"blurOut\" result=\"blurOut2\" type=\"matrix\" values=\"0 0 0 0 0 0 0 0 0 0 0 0 0 0 0 0 0 0 .4 0\"/><feOffset dx=\"4.0\" dy=\"4.0\" in=\"blurOut2\" result=\"blurOut3\"/><feBlend in=\"SourceGraphic\" in2=\"blurOut3\" mode=\"normal\"/></filter></defs><g><!--MD5=[fbc87193dbaf4d95561dea2c320d4a47]\n",
       "cluster E1--><a href=\"psysml:70757ebb-a6cc-427a-a5fd-274a54eae870\" target=\"_top\" title=\"psysml:70757ebb-a6cc-427a-a5fd-274a54eae870\" xlink:actuate=\"onRequest\" xlink:href=\"psysml:70757ebb-a6cc-427a-a5fd-274a54eae870\" xlink:show=\"new\" xlink:title=\"psysml:70757ebb-a6cc-427a-a5fd-274a54eae870\" xlink:type=\"simple\"><polygon fill=\"#FFFFFF\" filter=\"url(#ftqsvnjxcuq1z)\" points=\"16,6,163,6,170,28.2969,336,28.2969,336,240,16,240,16,6\" style=\"stroke: #000000; stroke-width: 1.5;\"/><line style=\"stroke: #000000; stroke-width: 1.5;\" x1=\"16\" x2=\"170\" y1=\"28.2969\" y2=\"28.2969\"/><text fill=\"#000000\" font-family=\"sans-serif\" font-size=\"14\" font-weight=\"bold\" lengthAdjust=\"spacingAndGlyphs\" textLength=\"141\" x=\"20\" y=\"20.9951\">PrivateImportTest</text></a><!--MD5=[e4f7fae6ed58524ba242bb0b0d3be6b7]\n",
       "cluster E2--><a href=\"psysml:9d9a8ea7-31e0-462e-8cd1-90f7e5dc514d\" target=\"_top\" title=\"psysml:9d9a8ea7-31e0-462e-8cd1-90f7e5dc514d\" xlink:actuate=\"onRequest\" xlink:href=\"psysml:9d9a8ea7-31e0-462e-8cd1-90f7e5dc514d\" xlink:show=\"new\" xlink:title=\"psysml:9d9a8ea7-31e0-462e-8cd1-90f7e5dc514d\" xlink:type=\"simple\"><polygon fill=\"#FFFFFF\" filter=\"url(#ftqsvnjxcuq1z)\" points=\"188,119,214,119,221,141.2969,312,141.2969,312,216,188,216,188,119\" style=\"stroke: #000000; stroke-width: 1.5;\"/><line style=\"stroke: #000000; stroke-width: 1.5;\" x1=\"188\" x2=\"221\" y1=\"141.2969\" y2=\"141.2969\"/><text fill=\"#000000\" font-family=\"sans-serif\" font-size=\"14\" font-weight=\"bold\" lengthAdjust=\"spacingAndGlyphs\" textLength=\"20\" x=\"192\" y=\"133.9951\">P1</text></a><!--MD5=[14e3b0961a2654348d326746436168a1]\n",
       "cluster E6--><a href=\"psysml:e8a656ba-c51a-4d2d-932b-ea8b084af9f5\" target=\"_top\" title=\"psysml:e8a656ba-c51a-4d2d-932b-ea8b084af9f5\" xlink:actuate=\"onRequest\" xlink:href=\"psysml:e8a656ba-c51a-4d2d-932b-ea8b084af9f5\" xlink:show=\"new\" xlink:title=\"psysml:e8a656ba-c51a-4d2d-932b-ea8b084af9f5\" xlink:type=\"simple\"><polygon fill=\"#FFFFFF\" filter=\"url(#ftqsvnjxcuq1z)\" points=\"40,119,66,119,73,141.2969,164,141.2969,164,216,40,216,40,119\" style=\"stroke: #000000; stroke-width: 1.5;\"/><line style=\"stroke: #000000; stroke-width: 1.5;\" x1=\"40\" x2=\"73\" y1=\"141.2969\" y2=\"141.2969\"/><text fill=\"#000000\" font-family=\"sans-serif\" font-size=\"14\" font-weight=\"bold\" lengthAdjust=\"spacingAndGlyphs\" textLength=\"20\" x=\"44\" y=\"133.9951\">P3</text></a><!--MD5=[270fce915f116d4de14055a7c1d9a0f3]\n",
       "class E5--><a href=\"psysml:794b889b-8918-46e8-9c14-cb61e0d8a2ea\" target=\"_top\" title=\"psysml:794b889b-8918-46e8-9c14-cb61e0d8a2ea\" xlink:actuate=\"onRequest\" xlink:href=\"psysml:794b889b-8918-46e8-9c14-cb61e0d8a2ea\" xlink:show=\"new\" xlink:title=\"psysml:794b889b-8918-46e8-9c14-cb61e0d8a2ea\" xlink:type=\"simple\"><rect fill=\"#FEFECE\" filter=\"url(#ftqsvnjxcuq1z)\" height=\"45.9375\" id=\"E5\" rx=\"10\" ry=\"10\" style=\"stroke: #A80036; stroke-width: 1.5;\" width=\"68\" x=\"216\" y=\"44.5\"/><ellipse cx=\"231\" cy=\"63.4688\" fill=\"#0000FF\" rx=\"11\" ry=\"11\" style=\"stroke: #A80036; stroke-width: 1.0;\"/><path d=\"M231.8438,70.2188 L229.3906,70.2188 L229.3906,59.9688 L226.25,59.9688 L226.25,57.8281 L234.9844,57.8281 L234.9844,59.9688 L231.8438,59.9688 L231.8438,70.2188 Z \"/><text fill=\"#000000\" font-family=\"sans-serif\" font-size=\"12\" font-style=\"italic\" lengthAdjust=\"spacingAndGlyphs\" textLength=\"40\" x=\"243\" y=\"60.6387\">«part»</text><text fill=\"#000000\" font-family=\"sans-serif\" font-size=\"12\" lengthAdjust=\"spacingAndGlyphs\" textLength=\"22\" x=\"252\" y=\"74.6074\">x: A</text><line style=\"stroke: #A80036; stroke-width: 1.5;\" x1=\"217\" x2=\"283\" y1=\"82.4375\" y2=\"82.4375\"/></a><!--MD5=[b9389687b975829384b498ac4b7476b2]\n",
       "class E8--><a href=\"psysml:553a92d0-50bf-477b-b2ce-bf491dd9a415\" target=\"_top\" title=\"psysml:553a92d0-50bf-477b-b2ce-bf491dd9a415\" xlink:actuate=\"onRequest\" xlink:href=\"psysml:553a92d0-50bf-477b-b2ce-bf491dd9a415\" xlink:show=\"new\" xlink:title=\"psysml:553a92d0-50bf-477b-b2ce-bf491dd9a415\" xlink:type=\"simple\"><rect fill=\"#FEFECE\" filter=\"url(#ftqsvnjxcuq1z)\" height=\"45.9375\" id=\"E8\" rx=\"10\" ry=\"10\" style=\"stroke: #A80036; stroke-width: 1.5;\" width=\"68\" x=\"107\" y=\"44.5\"/><ellipse cx=\"122\" cy=\"63.4688\" fill=\"#0000FF\" rx=\"11\" ry=\"11\" style=\"stroke: #A80036; stroke-width: 1.0;\"/><path d=\"M122.8438,70.2188 L120.3906,70.2188 L120.3906,59.9688 L117.25,59.9688 L117.25,57.8281 L125.9844,57.8281 L125.9844,59.9688 L122.8438,59.9688 L122.8438,70.2188 Z \"/><text fill=\"#000000\" font-family=\"sans-serif\" font-size=\"12\" font-style=\"italic\" lengthAdjust=\"spacingAndGlyphs\" textLength=\"40\" x=\"134\" y=\"60.6387\">«part»</text><text fill=\"#000000\" font-family=\"sans-serif\" font-size=\"12\" lengthAdjust=\"spacingAndGlyphs\" textLength=\"21\" x=\"143.5\" y=\"74.6074\">z: B</text><line style=\"stroke: #A80036; stroke-width: 1.5;\" x1=\"108\" x2=\"174\" y1=\"82.4375\" y2=\"82.4375\"/></a><!--MD5=[09b614a08d8cba4a07c9adeb5e0fee81]\n",
       "class E3--><a href=\"psysml:6090619b-e47a-44a4-bc4e-b4be6f2f4926\" target=\"_top\" title=\"psysml:6090619b-e47a-44a4-bc4e-b4be6f2f4926\" xlink:actuate=\"onRequest\" xlink:href=\"psysml:6090619b-e47a-44a4-bc4e-b4be6f2f4926\" xlink:show=\"new\" xlink:title=\"psysml:6090619b-e47a-44a4-bc4e-b4be6f2f4926\" xlink:type=\"simple\"><rect fill=\"#FEFECE\" filter=\"url(#ftqsvnjxcuq1z)\" height=\"45.9375\" id=\"E3\" style=\"stroke: #A80036; stroke-width: 1.5;\" width=\"92\" x=\"204\" y=\"154\"/><ellipse cx=\"219\" cy=\"172.9688\" fill=\"#0000FF\" rx=\"11\" ry=\"11\" style=\"stroke: #A80036; stroke-width: 1.0;\"/><path d=\"M219.8438,179.7188 L217.3906,179.7188 L217.3906,169.4688 L214.25,169.4688 L214.25,167.3281 L222.9844,167.3281 L222.9844,169.4688 L219.8438,169.4688 L219.8438,179.7188 Z \"/><text fill=\"#000000\" font-family=\"sans-serif\" font-size=\"12\" font-style=\"italic\" lengthAdjust=\"spacingAndGlyphs\" textLength=\"64\" x=\"231\" y=\"170.1387\">«part def»</text><text fill=\"#000000\" font-family=\"sans-serif\" font-size=\"12\" lengthAdjust=\"spacingAndGlyphs\" textLength=\"8\" x=\"259\" y=\"184.1074\">A</text><line style=\"stroke: #A80036; stroke-width: 1.5;\" x1=\"205\" x2=\"295\" y1=\"191.9375\" y2=\"191.9375\"/></a><a href=\"psysml:2344491a-e19a-447d-a12e-1e886a7ea509\" target=\"_top\" title=\"psysml:2344491a-e19a-447d-a12e-1e886a7ea509\" xlink:actuate=\"onRequest\" xlink:href=\"psysml:2344491a-e19a-447d-a12e-1e886a7ea509\" xlink:show=\"new\" xlink:title=\"psysml:2344491a-e19a-447d-a12e-1e886a7ea509\" xlink:type=\"simple\"><polygon fill=\"#FFFFFF\" filter=\"url(#ftqsvnjxcuq1z)\" points=\"32,41,58,41,65,63.2969,72,63.2969,72,93.5938,32,93.5938,32,41\" style=\"stroke: #000000; stroke-width: 1.5;\"/><line style=\"stroke: #000000; stroke-width: 1.5;\" x1=\"32\" x2=\"65\" y1=\"63.2969\" y2=\"63.2969\"/><text fill=\"#000000\" font-family=\"sans-serif\" font-size=\"14\" font-weight=\"bold\" lengthAdjust=\"spacingAndGlyphs\" textLength=\"20\" x=\"36\" y=\"55.9951\">P2</text></a><!--MD5=[2156ba9850f5573cc1fc38a6a4b2f02b]\n",
       "class E7--><a href=\"psysml:9e432445-55c9-4726-a95f-4e15b991b53a\" target=\"_top\" title=\"psysml:9e432445-55c9-4726-a95f-4e15b991b53a\" xlink:actuate=\"onRequest\" xlink:href=\"psysml:9e432445-55c9-4726-a95f-4e15b991b53a\" xlink:show=\"new\" xlink:title=\"psysml:9e432445-55c9-4726-a95f-4e15b991b53a\" xlink:type=\"simple\"><rect fill=\"#FEFECE\" filter=\"url(#ftqsvnjxcuq1z)\" height=\"45.9375\" id=\"E7\" style=\"stroke: #A80036; stroke-width: 1.5;\" width=\"92\" x=\"56\" y=\"154\"/><ellipse cx=\"71\" cy=\"172.9688\" fill=\"#0000FF\" rx=\"11\" ry=\"11\" style=\"stroke: #A80036; stroke-width: 1.0;\"/><path d=\"M71.8438,179.7188 L69.3906,179.7188 L69.3906,169.4688 L66.25,169.4688 L66.25,167.3281 L74.9844,167.3281 L74.9844,169.4688 L71.8438,169.4688 L71.8438,179.7188 Z \"/><text fill=\"#000000\" font-family=\"sans-serif\" font-size=\"12\" font-style=\"italic\" lengthAdjust=\"spacingAndGlyphs\" textLength=\"64\" x=\"83\" y=\"170.1387\">«part def»</text><text fill=\"#000000\" font-family=\"sans-serif\" font-size=\"12\" lengthAdjust=\"spacingAndGlyphs\" textLength=\"8\" x=\"111\" y=\"184.1074\">B</text><line style=\"stroke: #A80036; stroke-width: 1.5;\" x1=\"57\" x2=\"147\" y1=\"191.9375\" y2=\"191.9375\"/></a><!--MD5=[e9be52314489bd878ff4c7144b63c9e1]\n",
       "link E5 to E3--><a href=\"psysml:d9b9f238-e6f4-4810-bb41-4cf78560774c\" target=\"_top\" title=\"psysml:d9b9f238-e6f4-4810-bb41-4cf78560774c\" xlink:actuate=\"onRequest\" xlink:href=\"psysml:d9b9f238-e6f4-4810-bb41-4cf78560774c\" xlink:show=\"new\" xlink:title=\"psysml:d9b9f238-e6f4-4810-bb41-4cf78560774c\" xlink:type=\"simple\"><path d=\"M250,90.51 C250,102.89 250,118.78 250,133.48 \" fill=\"none\" id=\"E5-&gt;E3\" style=\"stroke: #A80036; stroke-width: 1.0;\"/><polygon fill=\"#FFFFFF\" points=\"250,153.65,243,134.65,257,134.65,250,153.65\" style=\"stroke: #A80036; stroke-width: 1.0;\"/><ellipse cx=\"245\" cy=\"128.95\" fill=\"#A80036\" rx=\"2\" ry=\"2\" style=\"stroke: #A80036; stroke-width: 1.0;\"/><ellipse cx=\"255\" cy=\"128.95\" fill=\"#A80036\" rx=\"2\" ry=\"2\" style=\"stroke: #A80036; stroke-width: 1.0;\"/></a><!--MD5=[bfa3c8b0d15052fdf50ae9310b491027]\n",
       "link E8 to E7--><a href=\"psysml:a13a28be-1001-42f5-9632-37667c0baf51\" target=\"_top\" title=\"psysml:a13a28be-1001-42f5-9632-37667c0baf51\" xlink:actuate=\"onRequest\" xlink:href=\"psysml:a13a28be-1001-42f5-9632-37667c0baf51\" xlink:show=\"new\" xlink:title=\"psysml:a13a28be-1001-42f5-9632-37667c0baf51\" xlink:type=\"simple\"><path d=\"M133.01,90.51 C128.39,103.25 122.42,119.7 116.96,134.76 \" fill=\"none\" id=\"E8-&gt;E7\" style=\"stroke: #A80036; stroke-width: 1.0;\"/><polygon fill=\"#FFFFFF\" points=\"110.11,153.65,110.0036,133.4018,123.1656,138.1726,110.11,153.65\" style=\"stroke: #A80036; stroke-width: 1.0;\"/><ellipse cx=\"113.8262\" cy=\"128.7245\" fill=\"#A80036\" rx=\"2\" ry=\"2\" style=\"stroke: #A80036; stroke-width: 1.0;\"/><ellipse cx=\"123.2277\" cy=\"132.1322\" fill=\"#A80036\" rx=\"2\" ry=\"2\" style=\"stroke: #A80036; stroke-width: 1.0;\"/></a><!--MD5=[045a37467ae975fbb6c5901c2351c50c]\n",
       "@startuml\r\n",
       " \r\n",
       "package \"PrivateImportTest\" as E1  [[psysml:70757ebb-a6cc-427a-a5fd-274a54eae870 ]]  {\r\n",
       "package \"P1\" as E2  [[psysml:9d9a8ea7-31e0-462e-8cd1-90f7e5dc514d ]]  {\r\n",
       "comp def \"A\" as E3  <<(T,blue)part def>> [[psysml:6090619b-e47a-44a4-bc4e-b4be6f2f4926 ]] {\r\n",
       "}\r\n",
       "}\r\n",
       "package \"P2\" as E4  [[psysml:2344491a-e19a-447d-a12e-1e886a7ea509 ]]  {\r\n",
       "}\r\n",
       "comp usage \"x: A\" as E5  <<(T,blue)part>> [[psysml:794b889b-8918-46e8-9c14-cb61e0d8a2ea ]] {\r\n",
       "}\r\n",
       "package \"P3\" as E6  [[psysml:e8a656ba-c51a-4d2d-932b-ea8b084af9f5 ]]  {\r\n",
       "comp def \"B\" as E7  <<(T,blue)part def>> [[psysml:9e432445-55c9-4726-a95f-4e15b991b53a ]] {\r\n",
       "}\r\n",
       "E5 - -:|> E3 [[psysml:d9b9f238-e6f4-4810-bb41-4cf78560774c ]] \r\n",
       "}\r\n",
       "comp usage \"z: B\" as E8  <<(T,blue)part>> [[psysml:553a92d0-50bf-477b-b2ce-bf491dd9a415 ]] {\r\n",
       "}\r\n",
       "E8 - -:|> E7 [[psysml:a13a28be-1001-42f5-9632-37667c0baf51 ]] \r\n",
       "}\r\n",
       "@enduml\r\n",
       "\n",
       "PlantUML version 1.2020.13(Sat Jun 13 12:26:38 UTC 2020)\n",
       "(EPL source distribution)\n",
       "Java Runtime: OpenJDK Runtime Environment\n",
       "JVM: OpenJDK 64-Bit Server VM\n",
       "Default Encoding: UTF-8\n",
       "Language: en\n",
       "Country: null\n",
       "--></g></svg>"
      ]
     },
     "execution_count": 2,
     "metadata": {},
     "output_type": "execute_result"
    }
   ],
   "source": [
    "%viz --style=\"COMPTREE\" --view=\"Default\" \"PrivateImportTest\""
   ]
  },
  {
   "cell_type": "code",
   "execution_count": 3,
   "id": "animated-sending",
   "metadata": {
    "execution": {
     "iopub.execute_input": "2021-03-25T15:01:09.557924Z",
     "iopub.status.busy": "2021-03-25T15:01:09.556773Z",
     "iopub.status.idle": "2021-03-25T15:01:09.677107Z",
     "shell.execute_reply": "2021-03-25T15:01:09.675070Z"
    }
   },
   "outputs": [
    {
     "data": {
      "image/svg+xml": [
       "<?xml version=\"1.0\" encoding=\"UTF-8\" standalone=\"no\"?><svg xmlns=\"http://www.w3.org/2000/svg\" xmlns:xlink=\"http://www.w3.org/1999/xlink\" contentScriptType=\"application/ecmascript\" contentStyleType=\"text/css\" height=\"252px\" preserveAspectRatio=\"none\" style=\"width:358px;height:252px;\" version=\"1.1\" viewBox=\"0 0 358 252\" width=\"358px\" zoomAndPan=\"magnify\"><defs><filter height=\"300%\" id=\"ftqsvnjxcuq1z\" width=\"300%\" x=\"-1\" y=\"-1\"><feGaussianBlur result=\"blurOut\" stdDeviation=\"2.0\"/><feColorMatrix in=\"blurOut\" result=\"blurOut2\" type=\"matrix\" values=\"0 0 0 0 0 0 0 0 0 0 0 0 0 0 0 0 0 0 .4 0\"/><feOffset dx=\"4.0\" dy=\"4.0\" in=\"blurOut2\" result=\"blurOut3\"/><feBlend in=\"SourceGraphic\" in2=\"blurOut3\" mode=\"normal\"/></filter></defs><g><!--MD5=[fbc87193dbaf4d95561dea2c320d4a47]\n",
       "cluster E1--><a href=\"psysml:70757ebb-a6cc-427a-a5fd-274a54eae870\" target=\"_top\" title=\"psysml:70757ebb-a6cc-427a-a5fd-274a54eae870\" xlink:actuate=\"onRequest\" xlink:href=\"psysml:70757ebb-a6cc-427a-a5fd-274a54eae870\" xlink:show=\"new\" xlink:title=\"psysml:70757ebb-a6cc-427a-a5fd-274a54eae870\" xlink:type=\"simple\"><polygon fill=\"#FFFFFF\" filter=\"url(#ftqsvnjxcuq1z)\" points=\"16,6,163,6,170,28.2969,336,28.2969,336,240,16,240,16,6\" style=\"stroke: #000000; stroke-width: 1.5;\"/><line style=\"stroke: #000000; stroke-width: 1.5;\" x1=\"16\" x2=\"170\" y1=\"28.2969\" y2=\"28.2969\"/><text fill=\"#000000\" font-family=\"sans-serif\" font-size=\"14\" font-weight=\"bold\" lengthAdjust=\"spacingAndGlyphs\" textLength=\"141\" x=\"20\" y=\"20.9951\">PrivateImportTest</text></a><!--MD5=[e4f7fae6ed58524ba242bb0b0d3be6b7]\n",
       "cluster E2--><a href=\"psysml:9d9a8ea7-31e0-462e-8cd1-90f7e5dc514d\" target=\"_top\" title=\"psysml:9d9a8ea7-31e0-462e-8cd1-90f7e5dc514d\" xlink:actuate=\"onRequest\" xlink:href=\"psysml:9d9a8ea7-31e0-462e-8cd1-90f7e5dc514d\" xlink:show=\"new\" xlink:title=\"psysml:9d9a8ea7-31e0-462e-8cd1-90f7e5dc514d\" xlink:type=\"simple\"><polygon fill=\"#FFFFFF\" filter=\"url(#ftqsvnjxcuq1z)\" points=\"188,119,214,119,221,141.2969,312,141.2969,312,216,188,216,188,119\" style=\"stroke: #000000; stroke-width: 1.5;\"/><line style=\"stroke: #000000; stroke-width: 1.5;\" x1=\"188\" x2=\"221\" y1=\"141.2969\" y2=\"141.2969\"/><text fill=\"#000000\" font-family=\"sans-serif\" font-size=\"14\" font-weight=\"bold\" lengthAdjust=\"spacingAndGlyphs\" textLength=\"20\" x=\"192\" y=\"133.9951\">P1</text></a><!--MD5=[14e3b0961a2654348d326746436168a1]\n",
       "cluster E6--><a href=\"psysml:e8a656ba-c51a-4d2d-932b-ea8b084af9f5\" target=\"_top\" title=\"psysml:e8a656ba-c51a-4d2d-932b-ea8b084af9f5\" xlink:actuate=\"onRequest\" xlink:href=\"psysml:e8a656ba-c51a-4d2d-932b-ea8b084af9f5\" xlink:show=\"new\" xlink:title=\"psysml:e8a656ba-c51a-4d2d-932b-ea8b084af9f5\" xlink:type=\"simple\"><polygon fill=\"#FFFFFF\" filter=\"url(#ftqsvnjxcuq1z)\" points=\"40,119,66,119,73,141.2969,164,141.2969,164,216,40,216,40,119\" style=\"stroke: #000000; stroke-width: 1.5;\"/><line style=\"stroke: #000000; stroke-width: 1.5;\" x1=\"40\" x2=\"73\" y1=\"141.2969\" y2=\"141.2969\"/><text fill=\"#000000\" font-family=\"sans-serif\" font-size=\"14\" font-weight=\"bold\" lengthAdjust=\"spacingAndGlyphs\" textLength=\"20\" x=\"44\" y=\"133.9951\">P3</text></a><!--MD5=[270fce915f116d4de14055a7c1d9a0f3]\n",
       "class E5--><a href=\"psysml:794b889b-8918-46e8-9c14-cb61e0d8a2ea\" target=\"_top\" title=\"psysml:794b889b-8918-46e8-9c14-cb61e0d8a2ea\" xlink:actuate=\"onRequest\" xlink:href=\"psysml:794b889b-8918-46e8-9c14-cb61e0d8a2ea\" xlink:show=\"new\" xlink:title=\"psysml:794b889b-8918-46e8-9c14-cb61e0d8a2ea\" xlink:type=\"simple\"><rect fill=\"#FEFECE\" filter=\"url(#ftqsvnjxcuq1z)\" height=\"45.9375\" id=\"E5\" rx=\"10\" ry=\"10\" style=\"stroke: #A80036; stroke-width: 1.5;\" width=\"68\" x=\"216\" y=\"44.5\"/><ellipse cx=\"231\" cy=\"63.4688\" fill=\"#0000FF\" rx=\"11\" ry=\"11\" style=\"stroke: #A80036; stroke-width: 1.0;\"/><path d=\"M231.8438,70.2188 L229.3906,70.2188 L229.3906,59.9688 L226.25,59.9688 L226.25,57.8281 L234.9844,57.8281 L234.9844,59.9688 L231.8438,59.9688 L231.8438,70.2188 Z \"/><text fill=\"#000000\" font-family=\"sans-serif\" font-size=\"12\" font-style=\"italic\" lengthAdjust=\"spacingAndGlyphs\" textLength=\"40\" x=\"243\" y=\"60.6387\">«part»</text><text fill=\"#000000\" font-family=\"sans-serif\" font-size=\"12\" lengthAdjust=\"spacingAndGlyphs\" textLength=\"22\" x=\"252\" y=\"74.6074\">x: A</text><line style=\"stroke: #A80036; stroke-width: 1.5;\" x1=\"217\" x2=\"283\" y1=\"82.4375\" y2=\"82.4375\"/></a><!--MD5=[b9389687b975829384b498ac4b7476b2]\n",
       "class E8--><a href=\"psysml:553a92d0-50bf-477b-b2ce-bf491dd9a415\" target=\"_top\" title=\"psysml:553a92d0-50bf-477b-b2ce-bf491dd9a415\" xlink:actuate=\"onRequest\" xlink:href=\"psysml:553a92d0-50bf-477b-b2ce-bf491dd9a415\" xlink:show=\"new\" xlink:title=\"psysml:553a92d0-50bf-477b-b2ce-bf491dd9a415\" xlink:type=\"simple\"><rect fill=\"#FEFECE\" filter=\"url(#ftqsvnjxcuq1z)\" height=\"45.9375\" id=\"E8\" rx=\"10\" ry=\"10\" style=\"stroke: #A80036; stroke-width: 1.5;\" width=\"68\" x=\"107\" y=\"44.5\"/><ellipse cx=\"122\" cy=\"63.4688\" fill=\"#0000FF\" rx=\"11\" ry=\"11\" style=\"stroke: #A80036; stroke-width: 1.0;\"/><path d=\"M122.8438,70.2188 L120.3906,70.2188 L120.3906,59.9688 L117.25,59.9688 L117.25,57.8281 L125.9844,57.8281 L125.9844,59.9688 L122.8438,59.9688 L122.8438,70.2188 Z \"/><text fill=\"#000000\" font-family=\"sans-serif\" font-size=\"12\" font-style=\"italic\" lengthAdjust=\"spacingAndGlyphs\" textLength=\"40\" x=\"134\" y=\"60.6387\">«part»</text><text fill=\"#000000\" font-family=\"sans-serif\" font-size=\"12\" lengthAdjust=\"spacingAndGlyphs\" textLength=\"21\" x=\"143.5\" y=\"74.6074\">z: B</text><line style=\"stroke: #A80036; stroke-width: 1.5;\" x1=\"108\" x2=\"174\" y1=\"82.4375\" y2=\"82.4375\"/></a><!--MD5=[09b614a08d8cba4a07c9adeb5e0fee81]\n",
       "class E3--><a href=\"psysml:6090619b-e47a-44a4-bc4e-b4be6f2f4926\" target=\"_top\" title=\"psysml:6090619b-e47a-44a4-bc4e-b4be6f2f4926\" xlink:actuate=\"onRequest\" xlink:href=\"psysml:6090619b-e47a-44a4-bc4e-b4be6f2f4926\" xlink:show=\"new\" xlink:title=\"psysml:6090619b-e47a-44a4-bc4e-b4be6f2f4926\" xlink:type=\"simple\"><rect fill=\"#FEFECE\" filter=\"url(#ftqsvnjxcuq1z)\" height=\"45.9375\" id=\"E3\" style=\"stroke: #A80036; stroke-width: 1.5;\" width=\"92\" x=\"204\" y=\"154\"/><ellipse cx=\"219\" cy=\"172.9688\" fill=\"#0000FF\" rx=\"11\" ry=\"11\" style=\"stroke: #A80036; stroke-width: 1.0;\"/><path d=\"M219.8438,179.7188 L217.3906,179.7188 L217.3906,169.4688 L214.25,169.4688 L214.25,167.3281 L222.9844,167.3281 L222.9844,169.4688 L219.8438,169.4688 L219.8438,179.7188 Z \"/><text fill=\"#000000\" font-family=\"sans-serif\" font-size=\"12\" font-style=\"italic\" lengthAdjust=\"spacingAndGlyphs\" textLength=\"64\" x=\"231\" y=\"170.1387\">«part def»</text><text fill=\"#000000\" font-family=\"sans-serif\" font-size=\"12\" lengthAdjust=\"spacingAndGlyphs\" textLength=\"8\" x=\"259\" y=\"184.1074\">A</text><line style=\"stroke: #A80036; stroke-width: 1.5;\" x1=\"205\" x2=\"295\" y1=\"191.9375\" y2=\"191.9375\"/></a><a href=\"psysml:2344491a-e19a-447d-a12e-1e886a7ea509\" target=\"_top\" title=\"psysml:2344491a-e19a-447d-a12e-1e886a7ea509\" xlink:actuate=\"onRequest\" xlink:href=\"psysml:2344491a-e19a-447d-a12e-1e886a7ea509\" xlink:show=\"new\" xlink:title=\"psysml:2344491a-e19a-447d-a12e-1e886a7ea509\" xlink:type=\"simple\"><polygon fill=\"#FFFFFF\" filter=\"url(#ftqsvnjxcuq1z)\" points=\"32,41,58,41,65,63.2969,72,63.2969,72,93.5938,32,93.5938,32,41\" style=\"stroke: #000000; stroke-width: 1.5;\"/><line style=\"stroke: #000000; stroke-width: 1.5;\" x1=\"32\" x2=\"65\" y1=\"63.2969\" y2=\"63.2969\"/><text fill=\"#000000\" font-family=\"sans-serif\" font-size=\"14\" font-weight=\"bold\" lengthAdjust=\"spacingAndGlyphs\" textLength=\"20\" x=\"36\" y=\"55.9951\">P2</text></a><!--MD5=[2156ba9850f5573cc1fc38a6a4b2f02b]\n",
       "class E7--><a href=\"psysml:9e432445-55c9-4726-a95f-4e15b991b53a\" target=\"_top\" title=\"psysml:9e432445-55c9-4726-a95f-4e15b991b53a\" xlink:actuate=\"onRequest\" xlink:href=\"psysml:9e432445-55c9-4726-a95f-4e15b991b53a\" xlink:show=\"new\" xlink:title=\"psysml:9e432445-55c9-4726-a95f-4e15b991b53a\" xlink:type=\"simple\"><rect fill=\"#FEFECE\" filter=\"url(#ftqsvnjxcuq1z)\" height=\"45.9375\" id=\"E7\" style=\"stroke: #A80036; stroke-width: 1.5;\" width=\"92\" x=\"56\" y=\"154\"/><ellipse cx=\"71\" cy=\"172.9688\" fill=\"#0000FF\" rx=\"11\" ry=\"11\" style=\"stroke: #A80036; stroke-width: 1.0;\"/><path d=\"M71.8438,179.7188 L69.3906,179.7188 L69.3906,169.4688 L66.25,169.4688 L66.25,167.3281 L74.9844,167.3281 L74.9844,169.4688 L71.8438,169.4688 L71.8438,179.7188 Z \"/><text fill=\"#000000\" font-family=\"sans-serif\" font-size=\"12\" font-style=\"italic\" lengthAdjust=\"spacingAndGlyphs\" textLength=\"64\" x=\"83\" y=\"170.1387\">«part def»</text><text fill=\"#000000\" font-family=\"sans-serif\" font-size=\"12\" lengthAdjust=\"spacingAndGlyphs\" textLength=\"8\" x=\"111\" y=\"184.1074\">B</text><line style=\"stroke: #A80036; stroke-width: 1.5;\" x1=\"57\" x2=\"147\" y1=\"191.9375\" y2=\"191.9375\"/></a><!--MD5=[e9be52314489bd878ff4c7144b63c9e1]\n",
       "link E5 to E3--><a href=\"psysml:d9b9f238-e6f4-4810-bb41-4cf78560774c\" target=\"_top\" title=\"psysml:d9b9f238-e6f4-4810-bb41-4cf78560774c\" xlink:actuate=\"onRequest\" xlink:href=\"psysml:d9b9f238-e6f4-4810-bb41-4cf78560774c\" xlink:show=\"new\" xlink:title=\"psysml:d9b9f238-e6f4-4810-bb41-4cf78560774c\" xlink:type=\"simple\"><path d=\"M250,90.51 C250,102.89 250,118.78 250,133.48 \" fill=\"none\" id=\"E5-&gt;E3\" style=\"stroke: #A80036; stroke-width: 1.0;\"/><polygon fill=\"#FFFFFF\" points=\"250,153.65,243,134.65,257,134.65,250,153.65\" style=\"stroke: #A80036; stroke-width: 1.0;\"/><ellipse cx=\"245\" cy=\"128.95\" fill=\"#A80036\" rx=\"2\" ry=\"2\" style=\"stroke: #A80036; stroke-width: 1.0;\"/><ellipse cx=\"255\" cy=\"128.95\" fill=\"#A80036\" rx=\"2\" ry=\"2\" style=\"stroke: #A80036; stroke-width: 1.0;\"/></a><!--MD5=[bfa3c8b0d15052fdf50ae9310b491027]\n",
       "link E8 to E7--><a href=\"psysml:a13a28be-1001-42f5-9632-37667c0baf51\" target=\"_top\" title=\"psysml:a13a28be-1001-42f5-9632-37667c0baf51\" xlink:actuate=\"onRequest\" xlink:href=\"psysml:a13a28be-1001-42f5-9632-37667c0baf51\" xlink:show=\"new\" xlink:title=\"psysml:a13a28be-1001-42f5-9632-37667c0baf51\" xlink:type=\"simple\"><path d=\"M133.01,90.51 C128.39,103.25 122.42,119.7 116.96,134.76 \" fill=\"none\" id=\"E8-&gt;E7\" style=\"stroke: #A80036; stroke-width: 1.0;\"/><polygon fill=\"#FFFFFF\" points=\"110.11,153.65,110.0036,133.4018,123.1656,138.1726,110.11,153.65\" style=\"stroke: #A80036; stroke-width: 1.0;\"/><ellipse cx=\"113.8262\" cy=\"128.7245\" fill=\"#A80036\" rx=\"2\" ry=\"2\" style=\"stroke: #A80036; stroke-width: 1.0;\"/><ellipse cx=\"123.2277\" cy=\"132.1322\" fill=\"#A80036\" rx=\"2\" ry=\"2\" style=\"stroke: #A80036; stroke-width: 1.0;\"/></a><!--MD5=[045a37467ae975fbb6c5901c2351c50c]\n",
       "@startuml\r\n",
       " \r\n",
       "package \"PrivateImportTest\" as E1  [[psysml:70757ebb-a6cc-427a-a5fd-274a54eae870 ]]  {\r\n",
       "package \"P1\" as E2  [[psysml:9d9a8ea7-31e0-462e-8cd1-90f7e5dc514d ]]  {\r\n",
       "comp def \"A\" as E3  <<(T,blue)part def>> [[psysml:6090619b-e47a-44a4-bc4e-b4be6f2f4926 ]] {\r\n",
       "}\r\n",
       "}\r\n",
       "package \"P2\" as E4  [[psysml:2344491a-e19a-447d-a12e-1e886a7ea509 ]]  {\r\n",
       "}\r\n",
       "comp usage \"x: A\" as E5  <<(T,blue)part>> [[psysml:794b889b-8918-46e8-9c14-cb61e0d8a2ea ]] {\r\n",
       "}\r\n",
       "package \"P3\" as E6  [[psysml:e8a656ba-c51a-4d2d-932b-ea8b084af9f5 ]]  {\r\n",
       "comp def \"B\" as E7  <<(T,blue)part def>> [[psysml:9e432445-55c9-4726-a95f-4e15b991b53a ]] {\r\n",
       "}\r\n",
       "E5 - -:|> E3 [[psysml:d9b9f238-e6f4-4810-bb41-4cf78560774c ]] \r\n",
       "}\r\n",
       "comp usage \"z: B\" as E8  <<(T,blue)part>> [[psysml:553a92d0-50bf-477b-b2ce-bf491dd9a415 ]] {\r\n",
       "}\r\n",
       "E8 - -:|> E7 [[psysml:a13a28be-1001-42f5-9632-37667c0baf51 ]] \r\n",
       "}\r\n",
       "@enduml\r\n",
       "\n",
       "PlantUML version 1.2020.13(Sat Jun 13 12:26:38 UTC 2020)\n",
       "(EPL source distribution)\n",
       "Java Runtime: OpenJDK Runtime Environment\n",
       "JVM: OpenJDK 64-Bit Server VM\n",
       "Default Encoding: UTF-8\n",
       "Language: en\n",
       "Country: null\n",
       "--></g></svg>"
      ]
     },
     "execution_count": 3,
     "metadata": {},
     "output_type": "execute_result"
    }
   ],
   "source": [
    "%viz --style=\"COMPTREE\" --view=\"Tree\" \"PrivateImportTest\""
   ]
  },
  {
   "cell_type": "code",
   "execution_count": 4,
   "id": "rolled-lesson",
   "metadata": {
    "execution": {
     "iopub.execute_input": "2021-03-25T15:01:09.727552Z",
     "iopub.status.busy": "2021-03-25T15:01:09.726542Z",
     "iopub.status.idle": "2021-03-25T15:01:11.633553Z",
     "shell.execute_reply": "2021-03-25T15:01:11.634296Z"
    }
   },
   "outputs": [
    {
     "data": {
      "image/svg+xml": [
       "<?xml version=\"1.0\" encoding=\"UTF-8\" standalone=\"no\"?><svg xmlns=\"http://www.w3.org/2000/svg\" xmlns:xlink=\"http://www.w3.org/1999/xlink\" contentScriptType=\"application/ecmascript\" contentStyleType=\"text/css\" height=\"410px\" preserveAspectRatio=\"none\" style=\"width:603px;height:410px;background:#000000;\" version=\"1.1\" viewBox=\"0 0 603 410\" width=\"603px\" zoomAndPan=\"magnify\"><defs/><g><rect fill=\"#24261B\" height=\"1\" style=\"stroke: #24261B; stroke-width: 1.0;\" width=\"1\" x=\"0\" y=\"0\"/><rect fill=\"#FFFFFF\" height=\"53\" style=\"stroke: #FFFFFF; stroke-width: 1.0;\" width=\"602\" x=\"0\" y=\"0\"/><image height=\"53\" width=\"450\" x=\"1\" xlink:href=\"data:image/png;base64,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\" y=\"1\"/><rect fill=\"#FFFFFF\" height=\"205.5625\" style=\"stroke: #FFFFFF; stroke-width: 1.0;\" width=\"602\" x=\"0\" y=\"53\"/><text fill=\"#000000\" font-family=\"sans-serif\" font-size=\"12\" font-weight=\"bold\" lengthAdjust=\"spacingAndGlyphs\" textLength=\"159\" x=\"5\" y=\"69.1387\">Welcome to PlantUML!</text><text fill=\"#000000\" font-family=\"sans-serif\" font-size=\"12\" lengthAdjust=\"spacingAndGlyphs\" textLength=\"0\" x=\"9\" y=\"83.1074\"/><text fill=\"#000000\" font-family=\"sans-serif\" font-size=\"12\" lengthAdjust=\"spacingAndGlyphs\" textLength=\"293\" x=\"5\" y=\"97.0762\">If you use this software, you accept its license.</text><text fill=\"#000000\" font-family=\"sans-serif\" font-size=\"12\" lengthAdjust=\"spacingAndGlyphs\" textLength=\"107\" x=\"5\" y=\"111.0449\">(details by typing</text><text fill=\"#000000\" font-family=\"monospace\" font-size=\"12\" lengthAdjust=\"spacingAndGlyphs\" textLength=\"49\" x=\"116\" y=\"111.0449\">license</text><text fill=\"#000000\" font-family=\"sans-serif\" font-size=\"12\" lengthAdjust=\"spacingAndGlyphs\" textLength=\"56\" x=\"169\" y=\"111.0449\">keyword)</text><text fill=\"#000000\" font-family=\"sans-serif\" font-size=\"12\" lengthAdjust=\"spacingAndGlyphs\" textLength=\"0\" x=\"9\" y=\"125.0137\"/><text fill=\"#000000\" font-family=\"sans-serif\" font-size=\"12\" lengthAdjust=\"spacingAndGlyphs\" textLength=\"283\" x=\"5\" y=\"138.9824\">You can start with a simple UML Diagram like:</text><text fill=\"#000000\" font-family=\"sans-serif\" font-size=\"12\" lengthAdjust=\"spacingAndGlyphs\" textLength=\"0\" x=\"9\" y=\"152.9512\"/><text fill=\"#000000\" font-family=\"monospace\" font-size=\"12\" lengthAdjust=\"spacingAndGlyphs\" textLength=\"119\" x=\"5\" y=\"166.9199\">Bob-&gt;Alice: Hello</text><text fill=\"#000000\" font-family=\"sans-serif\" font-size=\"12\" lengthAdjust=\"spacingAndGlyphs\" textLength=\"0\" x=\"9\" y=\"180.8887\"/><text fill=\"#000000\" font-family=\"sans-serif\" font-size=\"12\" lengthAdjust=\"spacingAndGlyphs\" textLength=\"14\" x=\"5\" y=\"194.8574\">Or</text><text fill=\"#000000\" font-family=\"sans-serif\" font-size=\"12\" lengthAdjust=\"spacingAndGlyphs\" textLength=\"0\" x=\"9\" y=\"208.8262\"/><text fill=\"#000000\" font-family=\"monospace\" font-size=\"12\" lengthAdjust=\"spacingAndGlyphs\" textLength=\"91\" x=\"5\" y=\"222.7949\">class Example</text><text fill=\"#000000\" font-family=\"sans-serif\" font-size=\"12\" lengthAdjust=\"spacingAndGlyphs\" textLength=\"0\" x=\"9\" y=\"236.7637\"/><text fill=\"#000000\" font-family=\"sans-serif\" font-size=\"12\" lengthAdjust=\"spacingAndGlyphs\" textLength=\"349\" x=\"5\" y=\"250.7324\">You will find more information about PlantUML syntax on</text><text fill=\"#000000\" font-family=\"sans-serif\" font-size=\"12\" lengthAdjust=\"spacingAndGlyphs\" text-decoration=\"underline\" textLength=\"129\" x=\"358\" y=\"250.7324\">https://plantuml.com</text><image height=\"71\" width=\"80\" x=\"516\" xlink:href=\"data:image/png;base64,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\" y=\"59\"/><rect fill=\"#000000\" height=\"96.4844\" style=\"stroke: #000000; stroke-width: 1.0;\" width=\"602\" x=\"0\" y=\"258.5625\"/><rect fill=\"#33FF02\" height=\"21.2969\" style=\"stroke: #33FF02; stroke-width: 1.0;\" width=\"170\" x=\"5\" y=\"263.5625\"/><text fill=\"#000000\" font-family=\"sans-serif\" font-size=\"14\" font-weight=\"bold\" lengthAdjust=\"spacingAndGlyphs\" textLength=\"168\" x=\"6\" y=\"278.5625\">[From string (line 2) ]</text><text fill=\"#33FF02\" font-family=\"sans-serif\" font-size=\"14\" font-weight=\"bold\" lengthAdjust=\"spacingAndGlyphs\" textLength=\"0\" x=\"10\" y=\"298.8594\"/><text fill=\"#33FF02\" font-family=\"sans-serif\" font-size=\"14\" font-weight=\"bold\" lengthAdjust=\"spacingAndGlyphs\" textLength=\"79\" x=\"5\" y=\"315.1563\">@startuml</text><text fill=\"#33FF02\" font-family=\"sans-serif\" font-size=\"14\" font-weight=\"bold\" lengthAdjust=\"spacingAndGlyphs\" textLength=\"0\" x=\"10\" y=\"331.4531\"/><text fill=\"#FF0000\" font-family=\"sans-serif\" font-size=\"14\" font-weight=\"bold\" lengthAdjust=\"spacingAndGlyphs\" textLength=\"142\" x=\"10\" y=\"347.75\">Empty description</text><rect fill=\"#FFFFFF\" height=\"53\" style=\"stroke: #FFFFFF; stroke-width: 1.0;\" width=\"602\" x=\"0\" y=\"355.0469\"/><image height=\"53\" width=\"450\" x=\"1\" xlink:href=\"data:image/png;base64,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\" y=\"356.0469\"/><!--MD5=[f59edd8218d337f74d0c332fc6737304]\n",
       "@startuml\r\n",
       " \r\n",
       "@enduml\r\n",
       "\n",
       "PlantUML version 1.2020.13(Sat Jun 13 12:26:38 UTC 2020)\n",
       "(EPL source distribution)\n",
       "Java Runtime: OpenJDK Runtime Environment\n",
       "JVM: OpenJDK 64-Bit Server VM\n",
       "Default Encoding: UTF-8\n",
       "Language: en\n",
       "Country: null\n",
       "--></g></svg>"
      ]
     },
     "execution_count": 4,
     "metadata": {},
     "output_type": "execute_result"
    }
   ],
   "source": [
    "%viz --style=\"COMPTREE\" --view=\"State\" \"PrivateImportTest\""
   ]
  },
  {
   "cell_type": "code",
   "execution_count": 5,
   "id": "fourth-creek",
   "metadata": {
    "execution": {
     "iopub.execute_input": "2021-03-25T15:01:11.684534Z",
     "iopub.status.busy": "2021-03-25T15:01:11.684085Z",
     "iopub.status.idle": "2021-03-25T15:01:11.771297Z",
     "shell.execute_reply": "2021-03-25T15:01:11.770546Z"
    }
   },
   "outputs": [
    {
     "data": {
      "image/svg+xml": [
       "<?xml version=\"1.0\" encoding=\"UTF-8\" standalone=\"no\"?><svg xmlns=\"http://www.w3.org/2000/svg\" xmlns:xlink=\"http://www.w3.org/1999/xlink\" contentScriptType=\"application/ecmascript\" contentStyleType=\"text/css\" height=\"179px\" preserveAspectRatio=\"none\" style=\"width:606px;height:179px;\" version=\"1.1\" viewBox=\"0 0 606 179\" width=\"606px\" zoomAndPan=\"magnify\"><defs><filter height=\"300%\" id=\"fdua3e4eej3rr\" width=\"300%\" x=\"-1\" y=\"-1\"><feGaussianBlur result=\"blurOut\" stdDeviation=\"2.0\"/><feColorMatrix in=\"blurOut\" result=\"blurOut2\" type=\"matrix\" values=\"0 0 0 0 0 0 0 0 0 0 0 0 0 0 0 0 0 0 .4 0\"/><feOffset dx=\"4.0\" dy=\"4.0\" in=\"blurOut2\" result=\"blurOut3\"/><feBlend in=\"SourceGraphic\" in2=\"blurOut3\" mode=\"normal\"/></filter></defs><g><!--MD5=[fbc87193dbaf4d95561dea2c320d4a47]\n",
       "cluster E1--><a href=\"psysml:70757ebb-a6cc-427a-a5fd-274a54eae870\" target=\"_top\" title=\"psysml:70757ebb-a6cc-427a-a5fd-274a54eae870\" xlink:actuate=\"onRequest\" xlink:href=\"psysml:70757ebb-a6cc-427a-a5fd-274a54eae870\" xlink:show=\"new\" xlink:title=\"psysml:70757ebb-a6cc-427a-a5fd-274a54eae870\" xlink:type=\"simple\"><polygon fill=\"#FFFFFF\" filter=\"url(#fdua3e4eej3rr)\" points=\"16,6,163,6,170,28.2969,584,28.2969,584,167,16,167,16,6\" style=\"stroke: #000000; stroke-width: 1.5;\"/><line style=\"stroke: #000000; stroke-width: 1.5;\" x1=\"16\" x2=\"170\" y1=\"28.2969\" y2=\"28.2969\"/><text fill=\"#000000\" font-family=\"sans-serif\" font-size=\"14\" font-weight=\"bold\" lengthAdjust=\"spacingAndGlyphs\" textLength=\"141\" x=\"20\" y=\"20.9951\">PrivateImportTest</text></a><!--MD5=[e4f7fae6ed58524ba242bb0b0d3be6b7]\n",
       "cluster E2--><a href=\"psysml:9d9a8ea7-31e0-462e-8cd1-90f7e5dc514d\" target=\"_top\" title=\"psysml:9d9a8ea7-31e0-462e-8cd1-90f7e5dc514d\" xlink:actuate=\"onRequest\" xlink:href=\"psysml:9d9a8ea7-31e0-462e-8cd1-90f7e5dc514d\" xlink:show=\"new\" xlink:title=\"psysml:9d9a8ea7-31e0-462e-8cd1-90f7e5dc514d\" xlink:type=\"simple\"><polygon fill=\"#FFFFFF\" filter=\"url(#fdua3e4eej3rr)\" points=\"432,49,458,49,465,71.2969,560,71.2969,560,143,432,143,432,49\" style=\"stroke: #000000; stroke-width: 1.5;\"/><line style=\"stroke: #000000; stroke-width: 1.5;\" x1=\"432\" x2=\"465\" y1=\"71.2969\" y2=\"71.2969\"/><text fill=\"#000000\" font-family=\"sans-serif\" font-size=\"14\" font-weight=\"bold\" lengthAdjust=\"spacingAndGlyphs\" textLength=\"20\" x=\"436\" y=\"63.9951\">P1</text></a><!--MD5=[14e3b0961a2654348d326746436168a1]\n",
       "cluster E6--><a href=\"psysml:e8a656ba-c51a-4d2d-932b-ea8b084af9f5\" target=\"_top\" title=\"psysml:e8a656ba-c51a-4d2d-932b-ea8b084af9f5\" xlink:actuate=\"onRequest\" xlink:href=\"psysml:e8a656ba-c51a-4d2d-932b-ea8b084af9f5\" xlink:show=\"new\" xlink:title=\"psysml:e8a656ba-c51a-4d2d-932b-ea8b084af9f5\" xlink:type=\"simple\"><polygon fill=\"#FFFFFF\" filter=\"url(#fdua3e4eej3rr)\" points=\"280,49,306,49,313,71.2969,408,71.2969,408,143,280,143,280,49\" style=\"stroke: #000000; stroke-width: 1.5;\"/><line style=\"stroke: #000000; stroke-width: 1.5;\" x1=\"280\" x2=\"313\" y1=\"71.2969\" y2=\"71.2969\"/><text fill=\"#000000\" font-family=\"sans-serif\" font-size=\"14\" font-weight=\"bold\" lengthAdjust=\"spacingAndGlyphs\" textLength=\"20\" x=\"284\" y=\"63.9951\">P3</text></a><g id=\"E1.E2.E3\"><a href=\"psysml:6090619b-e47a-44a4-bc4e-b4be6f2f4926\" target=\"_top\" title=\"psysml:6090619b-e47a-44a4-bc4e-b4be6f2f4926\" xlink:actuate=\"onRequest\" xlink:href=\"psysml:6090619b-e47a-44a4-bc4e-b4be6f2f4926\" xlink:show=\"new\" xlink:title=\"psysml:6090619b-e47a-44a4-bc4e-b4be6f2f4926\" xlink:type=\"simple\"><rect fill=\"#FEFECE\" filter=\"url(#fdua3e4eej3rr)\" height=\"42.9375\" id=\"E3\" style=\"stroke: #A80036; stroke-width: 1.5;\" width=\"97\" x=\"447.5\" y=\"84\"/><ellipse cx=\"464.75\" cy=\"102.9688\" fill=\"#0000FF\" rx=\"11\" ry=\"11\" style=\"stroke: #A80036; stroke-width: 1.0;\"/><path d=\"M465.5938,109.7188 L463.1406,109.7188 L463.1406,99.4688 L460,99.4688 L460,97.3281 L468.7344,97.3281 L468.7344,99.4688 L465.5938,99.4688 L465.5938,109.7188 Z \"/><text fill=\"#000000\" font-family=\"sans-serif\" font-size=\"12\" font-style=\"italic\" lengthAdjust=\"spacingAndGlyphs\" textLength=\"64\" x=\"477.25\" y=\"100.1387\">«part def»</text><text fill=\"#000000\" font-family=\"sans-serif\" font-size=\"12\" lengthAdjust=\"spacingAndGlyphs\" textLength=\"8\" x=\"505.25\" y=\"114.1074\">A</text></a></g><a href=\"psysml:2344491a-e19a-447d-a12e-1e886a7ea509\" target=\"_top\" title=\"psysml:2344491a-e19a-447d-a12e-1e886a7ea509\" xlink:actuate=\"onRequest\" xlink:href=\"psysml:2344491a-e19a-447d-a12e-1e886a7ea509\" xlink:show=\"new\" xlink:title=\"psysml:2344491a-e19a-447d-a12e-1e886a7ea509\" xlink:type=\"simple\"><polygon fill=\"#FFFFFF\" filter=\"url(#fdua3e4eej3rr)\" points=\"220,79,246,79,253,101.2969,260,101.2969,260,131.5938,220,131.5938,220,79\" style=\"stroke: #000000; stroke-width: 1.5;\"/><line style=\"stroke: #000000; stroke-width: 1.5;\" x1=\"220\" x2=\"253\" y1=\"101.2969\" y2=\"101.2969\"/><text fill=\"#000000\" font-family=\"sans-serif\" font-size=\"14\" font-weight=\"bold\" lengthAdjust=\"spacingAndGlyphs\" textLength=\"20\" x=\"224\" y=\"93.9951\">P2</text></a><g id=\"E1.E5\"><a href=\"psysml:794b889b-8918-46e8-9c14-cb61e0d8a2ea\" target=\"_top\" title=\"psysml:794b889b-8918-46e8-9c14-cb61e0d8a2ea\" xlink:actuate=\"onRequest\" xlink:href=\"psysml:794b889b-8918-46e8-9c14-cb61e0d8a2ea\" xlink:show=\"new\" xlink:title=\"psysml:794b889b-8918-46e8-9c14-cb61e0d8a2ea\" xlink:type=\"simple\"><rect fill=\"#FEFECE\" filter=\"url(#fdua3e4eej3rr)\" height=\"40\" id=\"E5\" rx=\"10\" ry=\"10\" style=\"stroke: #A80036; stroke-width: 1.5;\" width=\"59\" x=\"125.5\" y=\"85.5\"/><ellipse cx=\"142.75\" cy=\"101.5\" fill=\"#B6DBBB\" rx=\"11\" ry=\"11\" style=\"stroke: #A80036; stroke-width: 1.0;\"/><path d=\"M138.625,103.4219 L138.625,95.6094 L141.0781,95.6094 L141.0781,104.0469 Q141.0781,104.9688 141.5469,105.5 Q142.0313,106.0313 142.8594,106.0313 Q143.7031,106.0313 144.1719,105.5 Q144.6406,104.9688 144.6406,104.0469 L144.6406,95.6094 L147.0938,95.6094 L147.0938,103.4219 Q147.0938,105.9531 146.0938,107.0938 Q145.0938,108.2344 142.8594,108.2344 Q140.6406,108.2344 139.625,107.0938 Q138.625,105.9531 138.625,103.4219 Z \"/><text fill=\"#000000\" font-family=\"sans-serif\" font-size=\"12\" lengthAdjust=\"spacingAndGlyphs\" textLength=\"22\" x=\"157.25\" y=\"105.6543\">x: A</text></a></g><g id=\"E1.E6.E7\"><a href=\"psysml:9e432445-55c9-4726-a95f-4e15b991b53a\" target=\"_top\" title=\"psysml:9e432445-55c9-4726-a95f-4e15b991b53a\" xlink:actuate=\"onRequest\" xlink:href=\"psysml:9e432445-55c9-4726-a95f-4e15b991b53a\" xlink:show=\"new\" xlink:title=\"psysml:9e432445-55c9-4726-a95f-4e15b991b53a\" xlink:type=\"simple\"><rect fill=\"#FEFECE\" filter=\"url(#fdua3e4eej3rr)\" height=\"42.9375\" id=\"E7\" style=\"stroke: #A80036; stroke-width: 1.5;\" width=\"97\" x=\"295.5\" y=\"84\"/><ellipse cx=\"312.75\" cy=\"102.9688\" fill=\"#0000FF\" rx=\"11\" ry=\"11\" style=\"stroke: #A80036; stroke-width: 1.0;\"/><path d=\"M313.5938,109.7188 L311.1406,109.7188 L311.1406,99.4688 L308,99.4688 L308,97.3281 L316.7344,97.3281 L316.7344,99.4688 L313.5938,99.4688 L313.5938,109.7188 Z \"/><text fill=\"#000000\" font-family=\"sans-serif\" font-size=\"12\" font-style=\"italic\" lengthAdjust=\"spacingAndGlyphs\" textLength=\"64\" x=\"325.25\" y=\"100.1387\">«part def»</text><text fill=\"#000000\" font-family=\"sans-serif\" font-size=\"12\" lengthAdjust=\"spacingAndGlyphs\" textLength=\"8\" x=\"353.25\" y=\"114.1074\">B</text></a></g><g id=\"E1.E8\"><a href=\"psysml:553a92d0-50bf-477b-b2ce-bf491dd9a415\" target=\"_top\" title=\"psysml:553a92d0-50bf-477b-b2ce-bf491dd9a415\" xlink:actuate=\"onRequest\" xlink:href=\"psysml:553a92d0-50bf-477b-b2ce-bf491dd9a415\" xlink:show=\"new\" xlink:title=\"psysml:553a92d0-50bf-477b-b2ce-bf491dd9a415\" xlink:type=\"simple\"><rect fill=\"#FEFECE\" filter=\"url(#fdua3e4eej3rr)\" height=\"40\" id=\"E8\" rx=\"10\" ry=\"10\" style=\"stroke: #A80036; stroke-width: 1.5;\" width=\"58\" x=\"32\" y=\"85.5\"/><ellipse cx=\"49.25\" cy=\"101.5\" fill=\"#B6DBBB\" rx=\"11\" ry=\"11\" style=\"stroke: #A80036; stroke-width: 1.0;\"/><path d=\"M45.125,103.4219 L45.125,95.6094 L47.5781,95.6094 L47.5781,104.0469 Q47.5781,104.9688 48.0469,105.5 Q48.5313,106.0313 49.3594,106.0313 Q50.2031,106.0313 50.6719,105.5 Q51.1406,104.9688 51.1406,104.0469 L51.1406,95.6094 L53.5938,95.6094 L53.5938,103.4219 Q53.5938,105.9531 52.5938,107.0938 Q51.5938,108.2344 49.3594,108.2344 Q47.1406,108.2344 46.125,107.0938 Q45.125,105.9531 45.125,103.4219 Z \"/><text fill=\"#000000\" font-family=\"sans-serif\" font-size=\"12\" lengthAdjust=\"spacingAndGlyphs\" textLength=\"21\" x=\"63.75\" y=\"105.6543\">z: B</text></a></g><!--MD5=[e8db74ff14e965d486bdedd561e9ed8a]\n",
       "@startuml\r\n",
       "skinparam ranksep 8\r\n",
       "skinparam rectangle {\r\n",
       " backgroundColor<<block>> LightGreen\r\n",
       "}\r\n",
       " \r\n",
       "package \"PrivateImportTest\" as E1  [[psysml:70757ebb-a6cc-427a-a5fd-274a54eae870 ]]  {\r\n",
       "package \"P1\" as E2  [[psysml:9d9a8ea7-31e0-462e-8cd1-90f7e5dc514d ]]  {\r\n",
       "rec def \"A\" as E3  <<(T,blue)part def>> [[psysml:6090619b-e47a-44a4-bc4e-b4be6f2f4926 ]] {\r\n",
       "}\r\n",
       "}\r\n",
       "package \"P2\" as E4  [[psysml:2344491a-e19a-447d-a12e-1e886a7ea509 ]]  {\r\n",
       "}\r\n",
       "rec usage \"x: A\" as E5  [[psysml:794b889b-8918-46e8-9c14-cb61e0d8a2ea ]] {\r\n",
       "}\r\n",
       "package \"P3\" as E6  [[psysml:e8a656ba-c51a-4d2d-932b-ea8b084af9f5 ]]  {\r\n",
       "rec def \"B\" as E7  <<(T,blue)part def>> [[psysml:9e432445-55c9-4726-a95f-4e15b991b53a ]] {\r\n",
       "}\r\n",
       "}\r\n",
       "rec usage \"z: B\" as E8  [[psysml:553a92d0-50bf-477b-b2ce-bf491dd9a415 ]] {\r\n",
       "}\r\n",
       "}\r\n",
       "@enduml\r\n",
       "\n",
       "PlantUML version 1.2020.13(Sat Jun 13 12:26:38 UTC 2020)\n",
       "(EPL source distribution)\n",
       "Java Runtime: OpenJDK Runtime Environment\n",
       "JVM: OpenJDK 64-Bit Server VM\n",
       "Default Encoding: UTF-8\n",
       "Language: en\n",
       "Country: null\n",
       "--></g></svg>"
      ]
     },
     "execution_count": 5,
     "metadata": {},
     "output_type": "execute_result"
    }
   ],
   "source": [
    "%viz --style=\"COMPTREE\" --view=\"Interconnection\" \"PrivateImportTest\""
   ]
  },
  {
   "cell_type": "code",
   "execution_count": 6,
   "id": "billion-comparison",
   "metadata": {
    "execution": {
     "iopub.execute_input": "2021-03-25T15:01:11.822248Z",
     "iopub.status.busy": "2021-03-25T15:01:11.820850Z",
     "iopub.status.idle": "2021-03-25T15:01:11.835242Z",
     "shell.execute_reply": "2021-03-25T15:01:11.834791Z"
    }
   },
   "outputs": [
    {
     "data": {
      "image/svg+xml": [
       "<?xml version=\"1.0\" encoding=\"UTF-8\" standalone=\"no\"?><svg xmlns=\"http://www.w3.org/2000/svg\" xmlns:xlink=\"http://www.w3.org/1999/xlink\" contentScriptType=\"application/ecmascript\" contentStyleType=\"text/css\" height=\"12px\" preserveAspectRatio=\"none\" style=\"width:12px;height:12px;\" version=\"1.1\" viewBox=\"0 0 12 12\" width=\"12px\" zoomAndPan=\"magnify\"><defs/><g><!--MD5=[6a4cb978cab31700e1ce5529f947a75d]\n",
       "@startuml\r\n",
       "skinparam ranksep 8\r\n",
       " \r\n",
       "@enduml\r\n",
       "\n",
       "PlantUML version 1.2020.13(Sat Jun 13 12:26:38 UTC 2020)\n",
       "(EPL source distribution)\n",
       "Java Runtime: OpenJDK Runtime Environment\n",
       "JVM: OpenJDK 64-Bit Server VM\n",
       "Default Encoding: UTF-8\n",
       "Language: en\n",
       "Country: null\n",
       "--></g></svg>"
      ]
     },
     "execution_count": 6,
     "metadata": {},
     "output_type": "execute_result"
    }
   ],
   "source": [
    "%viz --style=\"COMPTREE\" --view=\"Action\" \"PrivateImportTest\""
   ]
  },
  {
   "cell_type": "code",
   "execution_count": 7,
   "id": "closing-document",
   "metadata": {
    "execution": {
     "iopub.execute_input": "2021-03-25T15:01:11.886978Z",
     "iopub.status.busy": "2021-03-25T15:01:11.886125Z",
     "iopub.status.idle": "2021-03-25T15:01:11.972710Z",
     "shell.execute_reply": "2021-03-25T15:01:11.971120Z"
    }
   },
   "outputs": [
    {
     "data": {
      "image/svg+xml": [
       "<?xml version=\"1.0\" encoding=\"UTF-8\" standalone=\"no\"?><svg xmlns=\"http://www.w3.org/2000/svg\" xmlns:xlink=\"http://www.w3.org/1999/xlink\" contentScriptType=\"application/ecmascript\" contentStyleType=\"text/css\" height=\"252px\" preserveAspectRatio=\"none\" style=\"width:358px;height:252px;\" version=\"1.1\" viewBox=\"0 0 358 252\" width=\"358px\" zoomAndPan=\"magnify\"><defs><filter height=\"300%\" id=\"ftqsvnjxcuq1z\" width=\"300%\" x=\"-1\" y=\"-1\"><feGaussianBlur result=\"blurOut\" stdDeviation=\"2.0\"/><feColorMatrix in=\"blurOut\" result=\"blurOut2\" type=\"matrix\" values=\"0 0 0 0 0 0 0 0 0 0 0 0 0 0 0 0 0 0 .4 0\"/><feOffset dx=\"4.0\" dy=\"4.0\" in=\"blurOut2\" result=\"blurOut3\"/><feBlend in=\"SourceGraphic\" in2=\"blurOut3\" mode=\"normal\"/></filter></defs><g><!--MD5=[fbc87193dbaf4d95561dea2c320d4a47]\n",
       "cluster E1--><a href=\"psysml:70757ebb-a6cc-427a-a5fd-274a54eae870\" target=\"_top\" title=\"psysml:70757ebb-a6cc-427a-a5fd-274a54eae870\" xlink:actuate=\"onRequest\" xlink:href=\"psysml:70757ebb-a6cc-427a-a5fd-274a54eae870\" xlink:show=\"new\" xlink:title=\"psysml:70757ebb-a6cc-427a-a5fd-274a54eae870\" xlink:type=\"simple\"><polygon fill=\"#FFFFFF\" filter=\"url(#ftqsvnjxcuq1z)\" points=\"16,6,163,6,170,28.2969,336,28.2969,336,240,16,240,16,6\" style=\"stroke: #000000; stroke-width: 1.5;\"/><line style=\"stroke: #000000; stroke-width: 1.5;\" x1=\"16\" x2=\"170\" y1=\"28.2969\" y2=\"28.2969\"/><text fill=\"#000000\" font-family=\"sans-serif\" font-size=\"14\" font-weight=\"bold\" lengthAdjust=\"spacingAndGlyphs\" textLength=\"141\" x=\"20\" y=\"20.9951\">PrivateImportTest</text></a><!--MD5=[e4f7fae6ed58524ba242bb0b0d3be6b7]\n",
       "cluster E2--><a href=\"psysml:9d9a8ea7-31e0-462e-8cd1-90f7e5dc514d\" target=\"_top\" title=\"psysml:9d9a8ea7-31e0-462e-8cd1-90f7e5dc514d\" xlink:actuate=\"onRequest\" xlink:href=\"psysml:9d9a8ea7-31e0-462e-8cd1-90f7e5dc514d\" xlink:show=\"new\" xlink:title=\"psysml:9d9a8ea7-31e0-462e-8cd1-90f7e5dc514d\" xlink:type=\"simple\"><polygon fill=\"#FFFFFF\" filter=\"url(#ftqsvnjxcuq1z)\" points=\"188,119,214,119,221,141.2969,312,141.2969,312,216,188,216,188,119\" style=\"stroke: #000000; stroke-width: 1.5;\"/><line style=\"stroke: #000000; stroke-width: 1.5;\" x1=\"188\" x2=\"221\" y1=\"141.2969\" y2=\"141.2969\"/><text fill=\"#000000\" font-family=\"sans-serif\" font-size=\"14\" font-weight=\"bold\" lengthAdjust=\"spacingAndGlyphs\" textLength=\"20\" x=\"192\" y=\"133.9951\">P1</text></a><!--MD5=[14e3b0961a2654348d326746436168a1]\n",
       "cluster E6--><a href=\"psysml:e8a656ba-c51a-4d2d-932b-ea8b084af9f5\" target=\"_top\" title=\"psysml:e8a656ba-c51a-4d2d-932b-ea8b084af9f5\" xlink:actuate=\"onRequest\" xlink:href=\"psysml:e8a656ba-c51a-4d2d-932b-ea8b084af9f5\" xlink:show=\"new\" xlink:title=\"psysml:e8a656ba-c51a-4d2d-932b-ea8b084af9f5\" xlink:type=\"simple\"><polygon fill=\"#FFFFFF\" filter=\"url(#ftqsvnjxcuq1z)\" points=\"40,119,66,119,73,141.2969,164,141.2969,164,216,40,216,40,119\" style=\"stroke: #000000; stroke-width: 1.5;\"/><line style=\"stroke: #000000; stroke-width: 1.5;\" x1=\"40\" x2=\"73\" y1=\"141.2969\" y2=\"141.2969\"/><text fill=\"#000000\" font-family=\"sans-serif\" font-size=\"14\" font-weight=\"bold\" lengthAdjust=\"spacingAndGlyphs\" textLength=\"20\" x=\"44\" y=\"133.9951\">P3</text></a><!--MD5=[270fce915f116d4de14055a7c1d9a0f3]\n",
       "class E5--><a href=\"psysml:794b889b-8918-46e8-9c14-cb61e0d8a2ea\" target=\"_top\" title=\"psysml:794b889b-8918-46e8-9c14-cb61e0d8a2ea\" xlink:actuate=\"onRequest\" xlink:href=\"psysml:794b889b-8918-46e8-9c14-cb61e0d8a2ea\" xlink:show=\"new\" xlink:title=\"psysml:794b889b-8918-46e8-9c14-cb61e0d8a2ea\" xlink:type=\"simple\"><rect fill=\"#FEFECE\" filter=\"url(#ftqsvnjxcuq1z)\" height=\"45.9375\" id=\"E5\" rx=\"10\" ry=\"10\" style=\"stroke: #A80036; stroke-width: 1.5;\" width=\"68\" x=\"216\" y=\"44.5\"/><ellipse cx=\"231\" cy=\"63.4688\" fill=\"#0000FF\" rx=\"11\" ry=\"11\" style=\"stroke: #A80036; stroke-width: 1.0;\"/><path d=\"M231.8438,70.2188 L229.3906,70.2188 L229.3906,59.9688 L226.25,59.9688 L226.25,57.8281 L234.9844,57.8281 L234.9844,59.9688 L231.8438,59.9688 L231.8438,70.2188 Z \"/><text fill=\"#000000\" font-family=\"sans-serif\" font-size=\"12\" font-style=\"italic\" lengthAdjust=\"spacingAndGlyphs\" textLength=\"40\" x=\"243\" y=\"60.6387\">«part»</text><text fill=\"#000000\" font-family=\"sans-serif\" font-size=\"12\" lengthAdjust=\"spacingAndGlyphs\" textLength=\"22\" x=\"252\" y=\"74.6074\">x: A</text><line style=\"stroke: #A80036; stroke-width: 1.5;\" x1=\"217\" x2=\"283\" y1=\"82.4375\" y2=\"82.4375\"/></a><!--MD5=[b9389687b975829384b498ac4b7476b2]\n",
       "class E8--><a href=\"psysml:553a92d0-50bf-477b-b2ce-bf491dd9a415\" target=\"_top\" title=\"psysml:553a92d0-50bf-477b-b2ce-bf491dd9a415\" xlink:actuate=\"onRequest\" xlink:href=\"psysml:553a92d0-50bf-477b-b2ce-bf491dd9a415\" xlink:show=\"new\" xlink:title=\"psysml:553a92d0-50bf-477b-b2ce-bf491dd9a415\" xlink:type=\"simple\"><rect fill=\"#FEFECE\" filter=\"url(#ftqsvnjxcuq1z)\" height=\"45.9375\" id=\"E8\" rx=\"10\" ry=\"10\" style=\"stroke: #A80036; stroke-width: 1.5;\" width=\"68\" x=\"107\" y=\"44.5\"/><ellipse cx=\"122\" cy=\"63.4688\" fill=\"#0000FF\" rx=\"11\" ry=\"11\" style=\"stroke: #A80036; stroke-width: 1.0;\"/><path d=\"M122.8438,70.2188 L120.3906,70.2188 L120.3906,59.9688 L117.25,59.9688 L117.25,57.8281 L125.9844,57.8281 L125.9844,59.9688 L122.8438,59.9688 L122.8438,70.2188 Z \"/><text fill=\"#000000\" font-family=\"sans-serif\" font-size=\"12\" font-style=\"italic\" lengthAdjust=\"spacingAndGlyphs\" textLength=\"40\" x=\"134\" y=\"60.6387\">«part»</text><text fill=\"#000000\" font-family=\"sans-serif\" font-size=\"12\" lengthAdjust=\"spacingAndGlyphs\" textLength=\"21\" x=\"143.5\" y=\"74.6074\">z: B</text><line style=\"stroke: #A80036; stroke-width: 1.5;\" x1=\"108\" x2=\"174\" y1=\"82.4375\" y2=\"82.4375\"/></a><!--MD5=[09b614a08d8cba4a07c9adeb5e0fee81]\n",
       "class E3--><a href=\"psysml:6090619b-e47a-44a4-bc4e-b4be6f2f4926\" target=\"_top\" title=\"psysml:6090619b-e47a-44a4-bc4e-b4be6f2f4926\" xlink:actuate=\"onRequest\" xlink:href=\"psysml:6090619b-e47a-44a4-bc4e-b4be6f2f4926\" xlink:show=\"new\" xlink:title=\"psysml:6090619b-e47a-44a4-bc4e-b4be6f2f4926\" xlink:type=\"simple\"><rect fill=\"#FEFECE\" filter=\"url(#ftqsvnjxcuq1z)\" height=\"45.9375\" id=\"E3\" style=\"stroke: #A80036; stroke-width: 1.5;\" width=\"92\" x=\"204\" y=\"154\"/><ellipse cx=\"219\" cy=\"172.9688\" fill=\"#0000FF\" rx=\"11\" ry=\"11\" style=\"stroke: #A80036; stroke-width: 1.0;\"/><path d=\"M219.8438,179.7188 L217.3906,179.7188 L217.3906,169.4688 L214.25,169.4688 L214.25,167.3281 L222.9844,167.3281 L222.9844,169.4688 L219.8438,169.4688 L219.8438,179.7188 Z \"/><text fill=\"#000000\" font-family=\"sans-serif\" font-size=\"12\" font-style=\"italic\" lengthAdjust=\"spacingAndGlyphs\" textLength=\"64\" x=\"231\" y=\"170.1387\">«part def»</text><text fill=\"#000000\" font-family=\"sans-serif\" font-size=\"12\" lengthAdjust=\"spacingAndGlyphs\" textLength=\"8\" x=\"259\" y=\"184.1074\">A</text><line style=\"stroke: #A80036; stroke-width: 1.5;\" x1=\"205\" x2=\"295\" y1=\"191.9375\" y2=\"191.9375\"/></a><a href=\"psysml:2344491a-e19a-447d-a12e-1e886a7ea509\" target=\"_top\" title=\"psysml:2344491a-e19a-447d-a12e-1e886a7ea509\" xlink:actuate=\"onRequest\" xlink:href=\"psysml:2344491a-e19a-447d-a12e-1e886a7ea509\" xlink:show=\"new\" xlink:title=\"psysml:2344491a-e19a-447d-a12e-1e886a7ea509\" xlink:type=\"simple\"><polygon fill=\"#FFFFFF\" filter=\"url(#ftqsvnjxcuq1z)\" points=\"32,41,58,41,65,63.2969,72,63.2969,72,93.5938,32,93.5938,32,41\" style=\"stroke: #000000; stroke-width: 1.5;\"/><line style=\"stroke: #000000; stroke-width: 1.5;\" x1=\"32\" x2=\"65\" y1=\"63.2969\" y2=\"63.2969\"/><text fill=\"#000000\" font-family=\"sans-serif\" font-size=\"14\" font-weight=\"bold\" lengthAdjust=\"spacingAndGlyphs\" textLength=\"20\" x=\"36\" y=\"55.9951\">P2</text></a><!--MD5=[2156ba9850f5573cc1fc38a6a4b2f02b]\n",
       "class E7--><a href=\"psysml:9e432445-55c9-4726-a95f-4e15b991b53a\" target=\"_top\" title=\"psysml:9e432445-55c9-4726-a95f-4e15b991b53a\" xlink:actuate=\"onRequest\" xlink:href=\"psysml:9e432445-55c9-4726-a95f-4e15b991b53a\" xlink:show=\"new\" xlink:title=\"psysml:9e432445-55c9-4726-a95f-4e15b991b53a\" xlink:type=\"simple\"><rect fill=\"#FEFECE\" filter=\"url(#ftqsvnjxcuq1z)\" height=\"45.9375\" id=\"E7\" style=\"stroke: #A80036; stroke-width: 1.5;\" width=\"92\" x=\"56\" y=\"154\"/><ellipse cx=\"71\" cy=\"172.9688\" fill=\"#0000FF\" rx=\"11\" ry=\"11\" style=\"stroke: #A80036; stroke-width: 1.0;\"/><path d=\"M71.8438,179.7188 L69.3906,179.7188 L69.3906,169.4688 L66.25,169.4688 L66.25,167.3281 L74.9844,167.3281 L74.9844,169.4688 L71.8438,169.4688 L71.8438,179.7188 Z \"/><text fill=\"#000000\" font-family=\"sans-serif\" font-size=\"12\" font-style=\"italic\" lengthAdjust=\"spacingAndGlyphs\" textLength=\"64\" x=\"83\" y=\"170.1387\">«part def»</text><text fill=\"#000000\" font-family=\"sans-serif\" font-size=\"12\" lengthAdjust=\"spacingAndGlyphs\" textLength=\"8\" x=\"111\" y=\"184.1074\">B</text><line style=\"stroke: #A80036; stroke-width: 1.5;\" x1=\"57\" x2=\"147\" y1=\"191.9375\" y2=\"191.9375\"/></a><!--MD5=[e9be52314489bd878ff4c7144b63c9e1]\n",
       "link E5 to E3--><a href=\"psysml:d9b9f238-e6f4-4810-bb41-4cf78560774c\" target=\"_top\" title=\"psysml:d9b9f238-e6f4-4810-bb41-4cf78560774c\" xlink:actuate=\"onRequest\" xlink:href=\"psysml:d9b9f238-e6f4-4810-bb41-4cf78560774c\" xlink:show=\"new\" xlink:title=\"psysml:d9b9f238-e6f4-4810-bb41-4cf78560774c\" xlink:type=\"simple\"><path d=\"M250,90.51 C250,102.89 250,118.78 250,133.48 \" fill=\"none\" id=\"E5-&gt;E3\" style=\"stroke: #A80036; stroke-width: 1.0;\"/><polygon fill=\"#FFFFFF\" points=\"250,153.65,243,134.65,257,134.65,250,153.65\" style=\"stroke: #A80036; stroke-width: 1.0;\"/><ellipse cx=\"245\" cy=\"128.95\" fill=\"#A80036\" rx=\"2\" ry=\"2\" style=\"stroke: #A80036; stroke-width: 1.0;\"/><ellipse cx=\"255\" cy=\"128.95\" fill=\"#A80036\" rx=\"2\" ry=\"2\" style=\"stroke: #A80036; stroke-width: 1.0;\"/></a><!--MD5=[bfa3c8b0d15052fdf50ae9310b491027]\n",
       "link E8 to E7--><a href=\"psysml:a13a28be-1001-42f5-9632-37667c0baf51\" target=\"_top\" title=\"psysml:a13a28be-1001-42f5-9632-37667c0baf51\" xlink:actuate=\"onRequest\" xlink:href=\"psysml:a13a28be-1001-42f5-9632-37667c0baf51\" xlink:show=\"new\" xlink:title=\"psysml:a13a28be-1001-42f5-9632-37667c0baf51\" xlink:type=\"simple\"><path d=\"M133.01,90.51 C128.39,103.25 122.42,119.7 116.96,134.76 \" fill=\"none\" id=\"E8-&gt;E7\" style=\"stroke: #A80036; stroke-width: 1.0;\"/><polygon fill=\"#FFFFFF\" points=\"110.11,153.65,110.0036,133.4018,123.1656,138.1726,110.11,153.65\" style=\"stroke: #A80036; stroke-width: 1.0;\"/><ellipse cx=\"113.8262\" cy=\"128.7245\" fill=\"#A80036\" rx=\"2\" ry=\"2\" style=\"stroke: #A80036; stroke-width: 1.0;\"/><ellipse cx=\"123.2277\" cy=\"132.1322\" fill=\"#A80036\" rx=\"2\" ry=\"2\" style=\"stroke: #A80036; stroke-width: 1.0;\"/></a><!--MD5=[045a37467ae975fbb6c5901c2351c50c]\n",
       "@startuml\r\n",
       " \r\n",
       "package \"PrivateImportTest\" as E1  [[psysml:70757ebb-a6cc-427a-a5fd-274a54eae870 ]]  {\r\n",
       "package \"P1\" as E2  [[psysml:9d9a8ea7-31e0-462e-8cd1-90f7e5dc514d ]]  {\r\n",
       "comp def \"A\" as E3  <<(T,blue)part def>> [[psysml:6090619b-e47a-44a4-bc4e-b4be6f2f4926 ]] {\r\n",
       "}\r\n",
       "}\r\n",
       "package \"P2\" as E4  [[psysml:2344491a-e19a-447d-a12e-1e886a7ea509 ]]  {\r\n",
       "}\r\n",
       "comp usage \"x: A\" as E5  <<(T,blue)part>> [[psysml:794b889b-8918-46e8-9c14-cb61e0d8a2ea ]] {\r\n",
       "}\r\n",
       "package \"P3\" as E6  [[psysml:e8a656ba-c51a-4d2d-932b-ea8b084af9f5 ]]  {\r\n",
       "comp def \"B\" as E7  <<(T,blue)part def>> [[psysml:9e432445-55c9-4726-a95f-4e15b991b53a ]] {\r\n",
       "}\r\n",
       "E5 - -:|> E3 [[psysml:d9b9f238-e6f4-4810-bb41-4cf78560774c ]] \r\n",
       "}\r\n",
       "comp usage \"z: B\" as E8  <<(T,blue)part>> [[psysml:553a92d0-50bf-477b-b2ce-bf491dd9a415 ]] {\r\n",
       "}\r\n",
       "E8 - -:|> E7 [[psysml:a13a28be-1001-42f5-9632-37667c0baf51 ]] \r\n",
       "}\r\n",
       "@enduml\r\n",
       "\n",
       "PlantUML version 1.2020.13(Sat Jun 13 12:26:38 UTC 2020)\n",
       "(EPL source distribution)\n",
       "Java Runtime: OpenJDK Runtime Environment\n",
       "JVM: OpenJDK 64-Bit Server VM\n",
       "Default Encoding: UTF-8\n",
       "Language: en\n",
       "Country: null\n",
       "--></g></svg>"
      ]
     },
     "execution_count": 7,
     "metadata": {},
     "output_type": "execute_result"
    }
   ],
   "source": [
    "%viz --style=\"COMPTREE\" --view=\"Sequence\" \"PrivateImportTest\""
   ]
  },
  {
   "cell_type": "code",
   "execution_count": 8,
   "id": "acknowledged-portland",
   "metadata": {
    "execution": {
     "iopub.execute_input": "2021-03-25T15:01:12.022569Z",
     "iopub.status.busy": "2021-03-25T15:01:12.022086Z",
     "iopub.status.idle": "2021-03-25T15:01:12.138965Z",
     "shell.execute_reply": "2021-03-25T15:01:12.140088Z"
    }
   },
   "outputs": [
    {
     "data": {
      "image/svg+xml": [
       "<?xml version=\"1.0\" encoding=\"UTF-8\" standalone=\"no\"?><svg xmlns=\"http://www.w3.org/2000/svg\" xmlns:xlink=\"http://www.w3.org/1999/xlink\" contentScriptType=\"application/ecmascript\" contentStyleType=\"text/css\" height=\"252px\" preserveAspectRatio=\"none\" style=\"width:358px;height:252px;\" version=\"1.1\" viewBox=\"0 0 358 252\" width=\"358px\" zoomAndPan=\"magnify\"><defs><filter height=\"300%\" id=\"ftqsvnjxcuq1z\" width=\"300%\" x=\"-1\" y=\"-1\"><feGaussianBlur result=\"blurOut\" stdDeviation=\"2.0\"/><feColorMatrix in=\"blurOut\" result=\"blurOut2\" type=\"matrix\" values=\"0 0 0 0 0 0 0 0 0 0 0 0 0 0 0 0 0 0 .4 0\"/><feOffset dx=\"4.0\" dy=\"4.0\" in=\"blurOut2\" result=\"blurOut3\"/><feBlend in=\"SourceGraphic\" in2=\"blurOut3\" mode=\"normal\"/></filter></defs><g><!--MD5=[fbc87193dbaf4d95561dea2c320d4a47]\n",
       "cluster E1--><a href=\"psysml:70757ebb-a6cc-427a-a5fd-274a54eae870\" target=\"_top\" title=\"psysml:70757ebb-a6cc-427a-a5fd-274a54eae870\" xlink:actuate=\"onRequest\" xlink:href=\"psysml:70757ebb-a6cc-427a-a5fd-274a54eae870\" xlink:show=\"new\" xlink:title=\"psysml:70757ebb-a6cc-427a-a5fd-274a54eae870\" xlink:type=\"simple\"><polygon fill=\"#FFFFFF\" filter=\"url(#ftqsvnjxcuq1z)\" points=\"16,6,163,6,170,28.2969,336,28.2969,336,240,16,240,16,6\" style=\"stroke: #000000; stroke-width: 1.5;\"/><line style=\"stroke: #000000; stroke-width: 1.5;\" x1=\"16\" x2=\"170\" y1=\"28.2969\" y2=\"28.2969\"/><text fill=\"#000000\" font-family=\"sans-serif\" font-size=\"14\" font-weight=\"bold\" lengthAdjust=\"spacingAndGlyphs\" textLength=\"141\" x=\"20\" y=\"20.9951\">PrivateImportTest</text></a><!--MD5=[e4f7fae6ed58524ba242bb0b0d3be6b7]\n",
       "cluster E2--><a href=\"psysml:9d9a8ea7-31e0-462e-8cd1-90f7e5dc514d\" target=\"_top\" title=\"psysml:9d9a8ea7-31e0-462e-8cd1-90f7e5dc514d\" xlink:actuate=\"onRequest\" xlink:href=\"psysml:9d9a8ea7-31e0-462e-8cd1-90f7e5dc514d\" xlink:show=\"new\" xlink:title=\"psysml:9d9a8ea7-31e0-462e-8cd1-90f7e5dc514d\" xlink:type=\"simple\"><polygon fill=\"#FFFFFF\" filter=\"url(#ftqsvnjxcuq1z)\" points=\"188,119,214,119,221,141.2969,312,141.2969,312,216,188,216,188,119\" style=\"stroke: #000000; stroke-width: 1.5;\"/><line style=\"stroke: #000000; stroke-width: 1.5;\" x1=\"188\" x2=\"221\" y1=\"141.2969\" y2=\"141.2969\"/><text fill=\"#000000\" font-family=\"sans-serif\" font-size=\"14\" font-weight=\"bold\" lengthAdjust=\"spacingAndGlyphs\" textLength=\"20\" x=\"192\" y=\"133.9951\">P1</text></a><!--MD5=[14e3b0961a2654348d326746436168a1]\n",
       "cluster E6--><a href=\"psysml:e8a656ba-c51a-4d2d-932b-ea8b084af9f5\" target=\"_top\" title=\"psysml:e8a656ba-c51a-4d2d-932b-ea8b084af9f5\" xlink:actuate=\"onRequest\" xlink:href=\"psysml:e8a656ba-c51a-4d2d-932b-ea8b084af9f5\" xlink:show=\"new\" xlink:title=\"psysml:e8a656ba-c51a-4d2d-932b-ea8b084af9f5\" xlink:type=\"simple\"><polygon fill=\"#FFFFFF\" filter=\"url(#ftqsvnjxcuq1z)\" points=\"40,119,66,119,73,141.2969,164,141.2969,164,216,40,216,40,119\" style=\"stroke: #000000; stroke-width: 1.5;\"/><line style=\"stroke: #000000; stroke-width: 1.5;\" x1=\"40\" x2=\"73\" y1=\"141.2969\" y2=\"141.2969\"/><text fill=\"#000000\" font-family=\"sans-serif\" font-size=\"14\" font-weight=\"bold\" lengthAdjust=\"spacingAndGlyphs\" textLength=\"20\" x=\"44\" y=\"133.9951\">P3</text></a><!--MD5=[270fce915f116d4de14055a7c1d9a0f3]\n",
       "class E5--><a href=\"psysml:794b889b-8918-46e8-9c14-cb61e0d8a2ea\" target=\"_top\" title=\"psysml:794b889b-8918-46e8-9c14-cb61e0d8a2ea\" xlink:actuate=\"onRequest\" xlink:href=\"psysml:794b889b-8918-46e8-9c14-cb61e0d8a2ea\" xlink:show=\"new\" xlink:title=\"psysml:794b889b-8918-46e8-9c14-cb61e0d8a2ea\" xlink:type=\"simple\"><rect fill=\"#FEFECE\" filter=\"url(#ftqsvnjxcuq1z)\" height=\"45.9375\" id=\"E5\" rx=\"10\" ry=\"10\" style=\"stroke: #A80036; stroke-width: 1.5;\" width=\"68\" x=\"216\" y=\"44.5\"/><ellipse cx=\"231\" cy=\"63.4688\" fill=\"#0000FF\" rx=\"11\" ry=\"11\" style=\"stroke: #A80036; stroke-width: 1.0;\"/><path d=\"M231.8438,70.2188 L229.3906,70.2188 L229.3906,59.9688 L226.25,59.9688 L226.25,57.8281 L234.9844,57.8281 L234.9844,59.9688 L231.8438,59.9688 L231.8438,70.2188 Z \"/><text fill=\"#000000\" font-family=\"sans-serif\" font-size=\"12\" font-style=\"italic\" lengthAdjust=\"spacingAndGlyphs\" textLength=\"40\" x=\"243\" y=\"60.6387\">«part»</text><text fill=\"#000000\" font-family=\"sans-serif\" font-size=\"12\" lengthAdjust=\"spacingAndGlyphs\" textLength=\"22\" x=\"252\" y=\"74.6074\">x: A</text><line style=\"stroke: #A80036; stroke-width: 1.5;\" x1=\"217\" x2=\"283\" y1=\"82.4375\" y2=\"82.4375\"/></a><!--MD5=[b9389687b975829384b498ac4b7476b2]\n",
       "class E8--><a href=\"psysml:553a92d0-50bf-477b-b2ce-bf491dd9a415\" target=\"_top\" title=\"psysml:553a92d0-50bf-477b-b2ce-bf491dd9a415\" xlink:actuate=\"onRequest\" xlink:href=\"psysml:553a92d0-50bf-477b-b2ce-bf491dd9a415\" xlink:show=\"new\" xlink:title=\"psysml:553a92d0-50bf-477b-b2ce-bf491dd9a415\" xlink:type=\"simple\"><rect fill=\"#FEFECE\" filter=\"url(#ftqsvnjxcuq1z)\" height=\"45.9375\" id=\"E8\" rx=\"10\" ry=\"10\" style=\"stroke: #A80036; stroke-width: 1.5;\" width=\"68\" x=\"107\" y=\"44.5\"/><ellipse cx=\"122\" cy=\"63.4688\" fill=\"#0000FF\" rx=\"11\" ry=\"11\" style=\"stroke: #A80036; stroke-width: 1.0;\"/><path d=\"M122.8438,70.2188 L120.3906,70.2188 L120.3906,59.9688 L117.25,59.9688 L117.25,57.8281 L125.9844,57.8281 L125.9844,59.9688 L122.8438,59.9688 L122.8438,70.2188 Z \"/><text fill=\"#000000\" font-family=\"sans-serif\" font-size=\"12\" font-style=\"italic\" lengthAdjust=\"spacingAndGlyphs\" textLength=\"40\" x=\"134\" y=\"60.6387\">«part»</text><text fill=\"#000000\" font-family=\"sans-serif\" font-size=\"12\" lengthAdjust=\"spacingAndGlyphs\" textLength=\"21\" x=\"143.5\" y=\"74.6074\">z: B</text><line style=\"stroke: #A80036; stroke-width: 1.5;\" x1=\"108\" x2=\"174\" y1=\"82.4375\" y2=\"82.4375\"/></a><!--MD5=[09b614a08d8cba4a07c9adeb5e0fee81]\n",
       "class E3--><a href=\"psysml:6090619b-e47a-44a4-bc4e-b4be6f2f4926\" target=\"_top\" title=\"psysml:6090619b-e47a-44a4-bc4e-b4be6f2f4926\" xlink:actuate=\"onRequest\" xlink:href=\"psysml:6090619b-e47a-44a4-bc4e-b4be6f2f4926\" xlink:show=\"new\" xlink:title=\"psysml:6090619b-e47a-44a4-bc4e-b4be6f2f4926\" xlink:type=\"simple\"><rect fill=\"#FEFECE\" filter=\"url(#ftqsvnjxcuq1z)\" height=\"45.9375\" id=\"E3\" style=\"stroke: #A80036; stroke-width: 1.5;\" width=\"92\" x=\"204\" y=\"154\"/><ellipse cx=\"219\" cy=\"172.9688\" fill=\"#0000FF\" rx=\"11\" ry=\"11\" style=\"stroke: #A80036; stroke-width: 1.0;\"/><path d=\"M219.8438,179.7188 L217.3906,179.7188 L217.3906,169.4688 L214.25,169.4688 L214.25,167.3281 L222.9844,167.3281 L222.9844,169.4688 L219.8438,169.4688 L219.8438,179.7188 Z \"/><text fill=\"#000000\" font-family=\"sans-serif\" font-size=\"12\" font-style=\"italic\" lengthAdjust=\"spacingAndGlyphs\" textLength=\"64\" x=\"231\" y=\"170.1387\">«part def»</text><text fill=\"#000000\" font-family=\"sans-serif\" font-size=\"12\" lengthAdjust=\"spacingAndGlyphs\" textLength=\"8\" x=\"259\" y=\"184.1074\">A</text><line style=\"stroke: #A80036; stroke-width: 1.5;\" x1=\"205\" x2=\"295\" y1=\"191.9375\" y2=\"191.9375\"/></a><a href=\"psysml:2344491a-e19a-447d-a12e-1e886a7ea509\" target=\"_top\" title=\"psysml:2344491a-e19a-447d-a12e-1e886a7ea509\" xlink:actuate=\"onRequest\" xlink:href=\"psysml:2344491a-e19a-447d-a12e-1e886a7ea509\" xlink:show=\"new\" xlink:title=\"psysml:2344491a-e19a-447d-a12e-1e886a7ea509\" xlink:type=\"simple\"><polygon fill=\"#FFFFFF\" filter=\"url(#ftqsvnjxcuq1z)\" points=\"32,41,58,41,65,63.2969,72,63.2969,72,93.5938,32,93.5938,32,41\" style=\"stroke: #000000; stroke-width: 1.5;\"/><line style=\"stroke: #000000; stroke-width: 1.5;\" x1=\"32\" x2=\"65\" y1=\"63.2969\" y2=\"63.2969\"/><text fill=\"#000000\" font-family=\"sans-serif\" font-size=\"14\" font-weight=\"bold\" lengthAdjust=\"spacingAndGlyphs\" textLength=\"20\" x=\"36\" y=\"55.9951\">P2</text></a><!--MD5=[2156ba9850f5573cc1fc38a6a4b2f02b]\n",
       "class E7--><a href=\"psysml:9e432445-55c9-4726-a95f-4e15b991b53a\" target=\"_top\" title=\"psysml:9e432445-55c9-4726-a95f-4e15b991b53a\" xlink:actuate=\"onRequest\" xlink:href=\"psysml:9e432445-55c9-4726-a95f-4e15b991b53a\" xlink:show=\"new\" xlink:title=\"psysml:9e432445-55c9-4726-a95f-4e15b991b53a\" xlink:type=\"simple\"><rect fill=\"#FEFECE\" filter=\"url(#ftqsvnjxcuq1z)\" height=\"45.9375\" id=\"E7\" style=\"stroke: #A80036; stroke-width: 1.5;\" width=\"92\" x=\"56\" y=\"154\"/><ellipse cx=\"71\" cy=\"172.9688\" fill=\"#0000FF\" rx=\"11\" ry=\"11\" style=\"stroke: #A80036; stroke-width: 1.0;\"/><path d=\"M71.8438,179.7188 L69.3906,179.7188 L69.3906,169.4688 L66.25,169.4688 L66.25,167.3281 L74.9844,167.3281 L74.9844,169.4688 L71.8438,169.4688 L71.8438,179.7188 Z \"/><text fill=\"#000000\" font-family=\"sans-serif\" font-size=\"12\" font-style=\"italic\" lengthAdjust=\"spacingAndGlyphs\" textLength=\"64\" x=\"83\" y=\"170.1387\">«part def»</text><text fill=\"#000000\" font-family=\"sans-serif\" font-size=\"12\" lengthAdjust=\"spacingAndGlyphs\" textLength=\"8\" x=\"111\" y=\"184.1074\">B</text><line style=\"stroke: #A80036; stroke-width: 1.5;\" x1=\"57\" x2=\"147\" y1=\"191.9375\" y2=\"191.9375\"/></a><!--MD5=[e9be52314489bd878ff4c7144b63c9e1]\n",
       "link E5 to E3--><a href=\"psysml:d9b9f238-e6f4-4810-bb41-4cf78560774c\" target=\"_top\" title=\"psysml:d9b9f238-e6f4-4810-bb41-4cf78560774c\" xlink:actuate=\"onRequest\" xlink:href=\"psysml:d9b9f238-e6f4-4810-bb41-4cf78560774c\" xlink:show=\"new\" xlink:title=\"psysml:d9b9f238-e6f4-4810-bb41-4cf78560774c\" xlink:type=\"simple\"><path d=\"M250,90.51 C250,102.89 250,118.78 250,133.48 \" fill=\"none\" id=\"E5-&gt;E3\" style=\"stroke: #A80036; stroke-width: 1.0;\"/><polygon fill=\"#FFFFFF\" points=\"250,153.65,243,134.65,257,134.65,250,153.65\" style=\"stroke: #A80036; stroke-width: 1.0;\"/><ellipse cx=\"245\" cy=\"128.95\" fill=\"#A80036\" rx=\"2\" ry=\"2\" style=\"stroke: #A80036; stroke-width: 1.0;\"/><ellipse cx=\"255\" cy=\"128.95\" fill=\"#A80036\" rx=\"2\" ry=\"2\" style=\"stroke: #A80036; stroke-width: 1.0;\"/></a><!--MD5=[bfa3c8b0d15052fdf50ae9310b491027]\n",
       "link E8 to E7--><a href=\"psysml:a13a28be-1001-42f5-9632-37667c0baf51\" target=\"_top\" title=\"psysml:a13a28be-1001-42f5-9632-37667c0baf51\" xlink:actuate=\"onRequest\" xlink:href=\"psysml:a13a28be-1001-42f5-9632-37667c0baf51\" xlink:show=\"new\" xlink:title=\"psysml:a13a28be-1001-42f5-9632-37667c0baf51\" xlink:type=\"simple\"><path d=\"M133.01,90.51 C128.39,103.25 122.42,119.7 116.96,134.76 \" fill=\"none\" id=\"E8-&gt;E7\" style=\"stroke: #A80036; stroke-width: 1.0;\"/><polygon fill=\"#FFFFFF\" points=\"110.11,153.65,110.0036,133.4018,123.1656,138.1726,110.11,153.65\" style=\"stroke: #A80036; stroke-width: 1.0;\"/><ellipse cx=\"113.8262\" cy=\"128.7245\" fill=\"#A80036\" rx=\"2\" ry=\"2\" style=\"stroke: #A80036; stroke-width: 1.0;\"/><ellipse cx=\"123.2277\" cy=\"132.1322\" fill=\"#A80036\" rx=\"2\" ry=\"2\" style=\"stroke: #A80036; stroke-width: 1.0;\"/></a><!--MD5=[045a37467ae975fbb6c5901c2351c50c]\n",
       "@startuml\r\n",
       " \r\n",
       "package \"PrivateImportTest\" as E1  [[psysml:70757ebb-a6cc-427a-a5fd-274a54eae870 ]]  {\r\n",
       "package \"P1\" as E2  [[psysml:9d9a8ea7-31e0-462e-8cd1-90f7e5dc514d ]]  {\r\n",
       "comp def \"A\" as E3  <<(T,blue)part def>> [[psysml:6090619b-e47a-44a4-bc4e-b4be6f2f4926 ]] {\r\n",
       "}\r\n",
       "}\r\n",
       "package \"P2\" as E4  [[psysml:2344491a-e19a-447d-a12e-1e886a7ea509 ]]  {\r\n",
       "}\r\n",
       "comp usage \"x: A\" as E5  <<(T,blue)part>> [[psysml:794b889b-8918-46e8-9c14-cb61e0d8a2ea ]] {\r\n",
       "}\r\n",
       "package \"P3\" as E6  [[psysml:e8a656ba-c51a-4d2d-932b-ea8b084af9f5 ]]  {\r\n",
       "comp def \"B\" as E7  <<(T,blue)part def>> [[psysml:9e432445-55c9-4726-a95f-4e15b991b53a ]] {\r\n",
       "}\r\n",
       "E5 - -:|> E3 [[psysml:d9b9f238-e6f4-4810-bb41-4cf78560774c ]] \r\n",
       "}\r\n",
       "comp usage \"z: B\" as E8  <<(T,blue)part>> [[psysml:553a92d0-50bf-477b-b2ce-bf491dd9a415 ]] {\r\n",
       "}\r\n",
       "E8 - -:|> E7 [[psysml:a13a28be-1001-42f5-9632-37667c0baf51 ]] \r\n",
       "}\r\n",
       "@enduml\r\n",
       "\n",
       "PlantUML version 1.2020.13(Sat Jun 13 12:26:38 UTC 2020)\n",
       "(EPL source distribution)\n",
       "Java Runtime: OpenJDK Runtime Environment\n",
       "JVM: OpenJDK 64-Bit Server VM\n",
       "Default Encoding: UTF-8\n",
       "Language: en\n",
       "Country: null\n",
       "--></g></svg>"
      ]
     },
     "execution_count": 8,
     "metadata": {},
     "output_type": "execute_result"
    }
   ],
   "source": [
    "%viz --style=\"COMPTREE\" --view=\"MIXED\" \"PrivateImportTest\""
   ]
  },
  {
   "cell_type": "code",
   "execution_count": 9,
   "id": "worldwide-pipeline",
   "metadata": {
    "execution": {
     "iopub.execute_input": "2021-03-25T15:01:12.192073Z",
     "iopub.status.busy": "2021-03-25T15:01:12.191025Z",
     "iopub.status.idle": "2021-03-25T15:01:12.320760Z",
     "shell.execute_reply": "2021-03-25T15:01:12.314060Z"
    }
   },
   "outputs": [
    {
     "data": {
      "image/svg+xml": [
       "<?xml version=\"1.0\" encoding=\"UTF-8\" standalone=\"no\"?><svg xmlns=\"http://www.w3.org/2000/svg\" xmlns:xlink=\"http://www.w3.org/1999/xlink\" contentScriptType=\"application/ecmascript\" contentStyleType=\"text/css\" height=\"252px\" preserveAspectRatio=\"none\" style=\"width:306px;height:252px;\" version=\"1.1\" viewBox=\"0 0 306 252\" width=\"306px\" zoomAndPan=\"magnify\"><defs/><g><!--MD5=[fbc87193dbaf4d95561dea2c320d4a47]\n",
       "cluster E1--><a href=\"psysml:70757ebb-a6cc-427a-a5fd-274a54eae870\" target=\"_top\" title=\"psysml:70757ebb-a6cc-427a-a5fd-274a54eae870\" xlink:actuate=\"onRequest\" xlink:href=\"psysml:70757ebb-a6cc-427a-a5fd-274a54eae870\" xlink:show=\"new\" xlink:title=\"psysml:70757ebb-a6cc-427a-a5fd-274a54eae870\" xlink:type=\"simple\"><polygon fill=\"#FFFFFF\" points=\"16,6,163,6,170,28.2969,284,28.2969,284,240,16,240,16,6\" style=\"stroke: #000000; stroke-width: 1.5;\"/><line style=\"stroke: #000000; stroke-width: 1.5;\" x1=\"16\" x2=\"170\" y1=\"28.2969\" y2=\"28.2969\"/><text fill=\"#000000\" font-family=\"sans-serif\" font-size=\"14\" font-weight=\"bold\" lengthAdjust=\"spacingAndGlyphs\" textLength=\"141\" x=\"20\" y=\"20.9951\">PrivateImportTest</text></a><!--MD5=[e4f7fae6ed58524ba242bb0b0d3be6b7]\n",
       "cluster E2--><a href=\"psysml:9d9a8ea7-31e0-462e-8cd1-90f7e5dc514d\" target=\"_top\" title=\"psysml:9d9a8ea7-31e0-462e-8cd1-90f7e5dc514d\" xlink:actuate=\"onRequest\" xlink:href=\"psysml:9d9a8ea7-31e0-462e-8cd1-90f7e5dc514d\" xlink:show=\"new\" xlink:title=\"psysml:9d9a8ea7-31e0-462e-8cd1-90f7e5dc514d\" xlink:type=\"simple\"><polygon fill=\"#FFFFFF\" points=\"162,119,188,119,195,141.2969,260,141.2969,260,216,162,216,162,119\" style=\"stroke: #000000; stroke-width: 1.5;\"/><line style=\"stroke: #000000; stroke-width: 1.5;\" x1=\"162\" x2=\"195\" y1=\"141.2969\" y2=\"141.2969\"/><text fill=\"#000000\" font-family=\"sans-serif\" font-size=\"14\" font-weight=\"bold\" lengthAdjust=\"spacingAndGlyphs\" textLength=\"20\" x=\"166\" y=\"133.9951\">P1</text></a><!--MD5=[14e3b0961a2654348d326746436168a1]\n",
       "cluster E6--><a href=\"psysml:e8a656ba-c51a-4d2d-932b-ea8b084af9f5\" target=\"_top\" title=\"psysml:e8a656ba-c51a-4d2d-932b-ea8b084af9f5\" xlink:actuate=\"onRequest\" xlink:href=\"psysml:e8a656ba-c51a-4d2d-932b-ea8b084af9f5\" xlink:show=\"new\" xlink:title=\"psysml:e8a656ba-c51a-4d2d-932b-ea8b084af9f5\" xlink:type=\"simple\"><polygon fill=\"#FFFFFF\" points=\"40,119,66,119,73,141.2969,138,141.2969,138,216,40,216,40,119\" style=\"stroke: #000000; stroke-width: 1.5;\"/><line style=\"stroke: #000000; stroke-width: 1.5;\" x1=\"40\" x2=\"73\" y1=\"141.2969\" y2=\"141.2969\"/><text fill=\"#000000\" font-family=\"sans-serif\" font-size=\"14\" font-weight=\"bold\" lengthAdjust=\"spacingAndGlyphs\" textLength=\"20\" x=\"44\" y=\"133.9951\">P3</text></a><!--MD5=[270fce915f116d4de14055a7c1d9a0f3]\n",
       "class E5--><a href=\"psysml:794b889b-8918-46e8-9c14-cb61e0d8a2ea\" target=\"_top\" title=\"psysml:794b889b-8918-46e8-9c14-cb61e0d8a2ea\" xlink:actuate=\"onRequest\" xlink:href=\"psysml:794b889b-8918-46e8-9c14-cb61e0d8a2ea\" xlink:show=\"new\" xlink:title=\"psysml:794b889b-8918-46e8-9c14-cb61e0d8a2ea\" xlink:type=\"simple\"><rect fill=\"#FFFFFF\" height=\"45.9375\" id=\"E5\" rx=\"10\" ry=\"10\" style=\"stroke: #383838; stroke-width: 1.5;\" width=\"42\" x=\"190\" y=\"44.5\"/><text fill=\"#000000\" font-family=\"sans-serif\" font-size=\"12\" font-style=\"italic\" lengthAdjust=\"spacingAndGlyphs\" textLength=\"40\" x=\"191\" y=\"60.6387\">«part»</text><text fill=\"#000000\" font-family=\"sans-serif\" font-size=\"12\" lengthAdjust=\"spacingAndGlyphs\" textLength=\"22\" x=\"200\" y=\"74.6074\">x: A</text><line style=\"stroke: #383838; stroke-width: 1.5;\" x1=\"191\" x2=\"231\" y1=\"82.4375\" y2=\"82.4375\"/></a><!--MD5=[b9389687b975829384b498ac4b7476b2]\n",
       "class E8--><a href=\"psysml:553a92d0-50bf-477b-b2ce-bf491dd9a415\" target=\"_top\" title=\"psysml:553a92d0-50bf-477b-b2ce-bf491dd9a415\" xlink:actuate=\"onRequest\" xlink:href=\"psysml:553a92d0-50bf-477b-b2ce-bf491dd9a415\" xlink:show=\"new\" xlink:title=\"psysml:553a92d0-50bf-477b-b2ce-bf491dd9a415\" xlink:type=\"simple\"><rect fill=\"#FFFFFF\" height=\"45.9375\" id=\"E8\" rx=\"10\" ry=\"10\" style=\"stroke: #383838; stroke-width: 1.5;\" width=\"42\" x=\"107\" y=\"44.5\"/><text fill=\"#000000\" font-family=\"sans-serif\" font-size=\"12\" font-style=\"italic\" lengthAdjust=\"spacingAndGlyphs\" textLength=\"40\" x=\"108\" y=\"60.6387\">«part»</text><text fill=\"#000000\" font-family=\"sans-serif\" font-size=\"12\" lengthAdjust=\"spacingAndGlyphs\" textLength=\"21\" x=\"117.5\" y=\"74.6074\">z: B</text><line style=\"stroke: #383838; stroke-width: 1.5;\" x1=\"108\" x2=\"148\" y1=\"82.4375\" y2=\"82.4375\"/></a><!--MD5=[09b614a08d8cba4a07c9adeb5e0fee81]\n",
       "class E3--><a href=\"psysml:6090619b-e47a-44a4-bc4e-b4be6f2f4926\" target=\"_top\" title=\"psysml:6090619b-e47a-44a4-bc4e-b4be6f2f4926\" xlink:actuate=\"onRequest\" xlink:href=\"psysml:6090619b-e47a-44a4-bc4e-b4be6f2f4926\" xlink:show=\"new\" xlink:title=\"psysml:6090619b-e47a-44a4-bc4e-b4be6f2f4926\" xlink:type=\"simple\"><rect fill=\"#FFFFFF\" height=\"45.9375\" id=\"E3\" style=\"stroke: #383838; stroke-width: 1.5;\" width=\"66\" x=\"178\" y=\"154\"/><text fill=\"#000000\" font-family=\"sans-serif\" font-size=\"12\" font-style=\"italic\" lengthAdjust=\"spacingAndGlyphs\" textLength=\"64\" x=\"179\" y=\"170.1387\">«part def»</text><text fill=\"#000000\" font-family=\"sans-serif\" font-size=\"12\" lengthAdjust=\"spacingAndGlyphs\" textLength=\"8\" x=\"207\" y=\"184.1074\">A</text><line style=\"stroke: #383838; stroke-width: 1.5;\" x1=\"179\" x2=\"243\" y1=\"191.9375\" y2=\"191.9375\"/></a><a href=\"psysml:2344491a-e19a-447d-a12e-1e886a7ea509\" target=\"_top\" title=\"psysml:2344491a-e19a-447d-a12e-1e886a7ea509\" xlink:actuate=\"onRequest\" xlink:href=\"psysml:2344491a-e19a-447d-a12e-1e886a7ea509\" xlink:show=\"new\" xlink:title=\"psysml:2344491a-e19a-447d-a12e-1e886a7ea509\" xlink:type=\"simple\"><polygon fill=\"#FFFFFF\" points=\"32,41,58,41,65,63.2969,72,63.2969,72,93.5938,32,93.5938,32,41\" style=\"stroke: #000000; stroke-width: 1.5;\"/><line style=\"stroke: #000000; stroke-width: 1.5;\" x1=\"32\" x2=\"65\" y1=\"63.2969\" y2=\"63.2969\"/><text fill=\"#000000\" font-family=\"sans-serif\" font-size=\"14\" font-weight=\"bold\" lengthAdjust=\"spacingAndGlyphs\" textLength=\"20\" x=\"36\" y=\"55.9951\">P2</text></a><!--MD5=[2156ba9850f5573cc1fc38a6a4b2f02b]\n",
       "class E7--><a href=\"psysml:9e432445-55c9-4726-a95f-4e15b991b53a\" target=\"_top\" title=\"psysml:9e432445-55c9-4726-a95f-4e15b991b53a\" xlink:actuate=\"onRequest\" xlink:href=\"psysml:9e432445-55c9-4726-a95f-4e15b991b53a\" xlink:show=\"new\" xlink:title=\"psysml:9e432445-55c9-4726-a95f-4e15b991b53a\" xlink:type=\"simple\"><rect fill=\"#FFFFFF\" height=\"45.9375\" id=\"E7\" style=\"stroke: #383838; stroke-width: 1.5;\" width=\"66\" x=\"56\" y=\"154\"/><text fill=\"#000000\" font-family=\"sans-serif\" font-size=\"12\" font-style=\"italic\" lengthAdjust=\"spacingAndGlyphs\" textLength=\"64\" x=\"57\" y=\"170.1387\">«part def»</text><text fill=\"#000000\" font-family=\"sans-serif\" font-size=\"12\" lengthAdjust=\"spacingAndGlyphs\" textLength=\"8\" x=\"85\" y=\"184.1074\">B</text><line style=\"stroke: #383838; stroke-width: 1.5;\" x1=\"57\" x2=\"121\" y1=\"191.9375\" y2=\"191.9375\"/></a><!--MD5=[e9be52314489bd878ff4c7144b63c9e1]\n",
       "link E5 to E3--><a href=\"psysml:d9b9f238-e6f4-4810-bb41-4cf78560774c\" target=\"_top\" title=\"psysml:d9b9f238-e6f4-4810-bb41-4cf78560774c\" xlink:actuate=\"onRequest\" xlink:href=\"psysml:d9b9f238-e6f4-4810-bb41-4cf78560774c\" xlink:show=\"new\" xlink:title=\"psysml:d9b9f238-e6f4-4810-bb41-4cf78560774c\" xlink:type=\"simple\"><path d=\"M211,90.51 C211,102.89 211,118.78 211,133.48 \" fill=\"none\" id=\"E5-&gt;E3\" style=\"stroke: #383838; stroke-width: 1.0;\"/><polygon fill=\"#FFFFFF\" points=\"211,153.65,204,134.65,218,134.65,211,153.65\" style=\"stroke: #383838; stroke-width: 1.0;\"/><ellipse cx=\"206\" cy=\"128.95\" fill=\"#383838\" rx=\"2\" ry=\"2\" style=\"stroke: #383838; stroke-width: 1.0;\"/><ellipse cx=\"216\" cy=\"128.95\" fill=\"#383838\" rx=\"2\" ry=\"2\" style=\"stroke: #383838; stroke-width: 1.0;\"/></a><!--MD5=[bfa3c8b0d15052fdf50ae9310b491027]\n",
       "link E8 to E7--><a href=\"psysml:a13a28be-1001-42f5-9632-37667c0baf51\" target=\"_top\" title=\"psysml:a13a28be-1001-42f5-9632-37667c0baf51\" xlink:actuate=\"onRequest\" xlink:href=\"psysml:a13a28be-1001-42f5-9632-37667c0baf51\" xlink:show=\"new\" xlink:title=\"psysml:a13a28be-1001-42f5-9632-37667c0baf51\" xlink:type=\"simple\"><path d=\"M120.01,90.51 C115.39,103.25 109.42,119.7 103.96,134.76 \" fill=\"none\" id=\"E8-&gt;E7\" style=\"stroke: #383838; stroke-width: 1.0;\"/><polygon fill=\"#FFFFFF\" points=\"97.11,153.65,97.0036,133.4018,110.1656,138.1726,97.11,153.65\" style=\"stroke: #383838; stroke-width: 1.0;\"/><ellipse cx=\"100.8262\" cy=\"128.7245\" fill=\"#383838\" rx=\"2\" ry=\"2\" style=\"stroke: #383838; stroke-width: 1.0;\"/><ellipse cx=\"110.2277\" cy=\"132.1322\" fill=\"#383838\" rx=\"2\" ry=\"2\" style=\"stroke: #383838; stroke-width: 1.0;\"/></a><!--MD5=[a16155e4d681e6442d7e4e576a67229f]\n",
       "@startuml\r\n",
       "skinparam linetype polyline\r\n",
       "skinparam monochrome true\r\n",
       "skinparam classbackgroundcolor white\r\n",
       "skinparam shadowing false\r\n",
       "skinparam wrapWidth 300\r\n",
       "hide circle\r\n",
       "\r\n",
       "package \"PrivateImportTest\" as E1  [[psysml:70757ebb-a6cc-427a-a5fd-274a54eae870 ]]  {\r\n",
       "package \"P1\" as E2  [[psysml:9d9a8ea7-31e0-462e-8cd1-90f7e5dc514d ]]  {\r\n",
       "comp def \"A\" as E3  <<(T,blue)part def>> [[psysml:6090619b-e47a-44a4-bc4e-b4be6f2f4926 ]] {\r\n",
       "}\r\n",
       "}\r\n",
       "package \"P2\" as E4  [[psysml:2344491a-e19a-447d-a12e-1e886a7ea509 ]]  {\r\n",
       "}\r\n",
       "comp usage \"x: A\" as E5  <<(T,blue)part>> [[psysml:794b889b-8918-46e8-9c14-cb61e0d8a2ea ]] {\r\n",
       "}\r\n",
       "package \"P3\" as E6  [[psysml:e8a656ba-c51a-4d2d-932b-ea8b084af9f5 ]]  {\r\n",
       "comp def \"B\" as E7  <<(T,blue)part def>> [[psysml:9e432445-55c9-4726-a95f-4e15b991b53a ]] {\r\n",
       "}\r\n",
       "E5 - -:|> E3 [[psysml:d9b9f238-e6f4-4810-bb41-4cf78560774c ]] \r\n",
       "}\r\n",
       "comp usage \"z: B\" as E8  <<(T,blue)part>> [[psysml:553a92d0-50bf-477b-b2ce-bf491dd9a415 ]] {\r\n",
       "}\r\n",
       "E8 - -:|> E7 [[psysml:a13a28be-1001-42f5-9632-37667c0baf51 ]] \r\n",
       "}\r\n",
       "@enduml\r\n",
       "\n",
       "PlantUML version 1.2020.13(Sat Jun 13 12:26:38 UTC 2020)\n",
       "(EPL source distribution)\n",
       "Java Runtime: OpenJDK Runtime Environment\n",
       "JVM: OpenJDK 64-Bit Server VM\n",
       "Default Encoding: UTF-8\n",
       "Language: en\n",
       "Country: null\n",
       "--></g></svg>"
      ]
     },
     "execution_count": 9,
     "metadata": {},
     "output_type": "execute_result"
    }
   ],
   "source": [
    "%viz --style=\"POLYLINE\" --view=\"Default\" \"PrivateImportTest\""
   ]
  },
  {
   "cell_type": "code",
   "execution_count": 10,
   "id": "connected-smell",
   "metadata": {
    "execution": {
     "iopub.execute_input": "2021-03-25T15:01:12.365742Z",
     "iopub.status.busy": "2021-03-25T15:01:12.364919Z",
     "iopub.status.idle": "2021-03-25T15:01:12.472735Z",
     "shell.execute_reply": "2021-03-25T15:01:12.470659Z"
    }
   },
   "outputs": [
    {
     "data": {
      "image/svg+xml": [
       "<?xml version=\"1.0\" encoding=\"UTF-8\" standalone=\"no\"?><svg xmlns=\"http://www.w3.org/2000/svg\" xmlns:xlink=\"http://www.w3.org/1999/xlink\" contentScriptType=\"application/ecmascript\" contentStyleType=\"text/css\" height=\"252px\" preserveAspectRatio=\"none\" style=\"width:306px;height:252px;\" version=\"1.1\" viewBox=\"0 0 306 252\" width=\"306px\" zoomAndPan=\"magnify\"><defs/><g><!--MD5=[fbc87193dbaf4d95561dea2c320d4a47]\n",
       "cluster E1--><a href=\"psysml:70757ebb-a6cc-427a-a5fd-274a54eae870\" target=\"_top\" title=\"psysml:70757ebb-a6cc-427a-a5fd-274a54eae870\" xlink:actuate=\"onRequest\" xlink:href=\"psysml:70757ebb-a6cc-427a-a5fd-274a54eae870\" xlink:show=\"new\" xlink:title=\"psysml:70757ebb-a6cc-427a-a5fd-274a54eae870\" xlink:type=\"simple\"><polygon fill=\"#FFFFFF\" points=\"16,6,163,6,170,28.2969,284,28.2969,284,240,16,240,16,6\" style=\"stroke: #000000; stroke-width: 1.5;\"/><line style=\"stroke: #000000; stroke-width: 1.5;\" x1=\"16\" x2=\"170\" y1=\"28.2969\" y2=\"28.2969\"/><text fill=\"#000000\" font-family=\"sans-serif\" font-size=\"14\" font-weight=\"bold\" lengthAdjust=\"spacingAndGlyphs\" textLength=\"141\" x=\"20\" y=\"20.9951\">PrivateImportTest</text></a><!--MD5=[e4f7fae6ed58524ba242bb0b0d3be6b7]\n",
       "cluster E2--><a href=\"psysml:9d9a8ea7-31e0-462e-8cd1-90f7e5dc514d\" target=\"_top\" title=\"psysml:9d9a8ea7-31e0-462e-8cd1-90f7e5dc514d\" xlink:actuate=\"onRequest\" xlink:href=\"psysml:9d9a8ea7-31e0-462e-8cd1-90f7e5dc514d\" xlink:show=\"new\" xlink:title=\"psysml:9d9a8ea7-31e0-462e-8cd1-90f7e5dc514d\" xlink:type=\"simple\"><polygon fill=\"#FFFFFF\" points=\"162,119,188,119,195,141.2969,260,141.2969,260,216,162,216,162,119\" style=\"stroke: #000000; stroke-width: 1.5;\"/><line style=\"stroke: #000000; stroke-width: 1.5;\" x1=\"162\" x2=\"195\" y1=\"141.2969\" y2=\"141.2969\"/><text fill=\"#000000\" font-family=\"sans-serif\" font-size=\"14\" font-weight=\"bold\" lengthAdjust=\"spacingAndGlyphs\" textLength=\"20\" x=\"166\" y=\"133.9951\">P1</text></a><!--MD5=[14e3b0961a2654348d326746436168a1]\n",
       "cluster E6--><a href=\"psysml:e8a656ba-c51a-4d2d-932b-ea8b084af9f5\" target=\"_top\" title=\"psysml:e8a656ba-c51a-4d2d-932b-ea8b084af9f5\" xlink:actuate=\"onRequest\" xlink:href=\"psysml:e8a656ba-c51a-4d2d-932b-ea8b084af9f5\" xlink:show=\"new\" xlink:title=\"psysml:e8a656ba-c51a-4d2d-932b-ea8b084af9f5\" xlink:type=\"simple\"><polygon fill=\"#FFFFFF\" points=\"40,119,66,119,73,141.2969,138,141.2969,138,216,40,216,40,119\" style=\"stroke: #000000; stroke-width: 1.5;\"/><line style=\"stroke: #000000; stroke-width: 1.5;\" x1=\"40\" x2=\"73\" y1=\"141.2969\" y2=\"141.2969\"/><text fill=\"#000000\" font-family=\"sans-serif\" font-size=\"14\" font-weight=\"bold\" lengthAdjust=\"spacingAndGlyphs\" textLength=\"20\" x=\"44\" y=\"133.9951\">P3</text></a><!--MD5=[270fce915f116d4de14055a7c1d9a0f3]\n",
       "class E5--><a href=\"psysml:794b889b-8918-46e8-9c14-cb61e0d8a2ea\" target=\"_top\" title=\"psysml:794b889b-8918-46e8-9c14-cb61e0d8a2ea\" xlink:actuate=\"onRequest\" xlink:href=\"psysml:794b889b-8918-46e8-9c14-cb61e0d8a2ea\" xlink:show=\"new\" xlink:title=\"psysml:794b889b-8918-46e8-9c14-cb61e0d8a2ea\" xlink:type=\"simple\"><rect fill=\"#FFFFFF\" height=\"45.9375\" id=\"E5\" rx=\"10\" ry=\"10\" style=\"stroke: #383838; stroke-width: 1.5;\" width=\"42\" x=\"190\" y=\"44.5\"/><text fill=\"#000000\" font-family=\"sans-serif\" font-size=\"12\" font-style=\"italic\" lengthAdjust=\"spacingAndGlyphs\" textLength=\"40\" x=\"191\" y=\"60.6387\">«part»</text><text fill=\"#000000\" font-family=\"sans-serif\" font-size=\"12\" lengthAdjust=\"spacingAndGlyphs\" textLength=\"22\" x=\"200\" y=\"74.6074\">x: A</text><line style=\"stroke: #383838; stroke-width: 1.5;\" x1=\"191\" x2=\"231\" y1=\"82.4375\" y2=\"82.4375\"/></a><!--MD5=[b9389687b975829384b498ac4b7476b2]\n",
       "class E8--><a href=\"psysml:553a92d0-50bf-477b-b2ce-bf491dd9a415\" target=\"_top\" title=\"psysml:553a92d0-50bf-477b-b2ce-bf491dd9a415\" xlink:actuate=\"onRequest\" xlink:href=\"psysml:553a92d0-50bf-477b-b2ce-bf491dd9a415\" xlink:show=\"new\" xlink:title=\"psysml:553a92d0-50bf-477b-b2ce-bf491dd9a415\" xlink:type=\"simple\"><rect fill=\"#FFFFFF\" height=\"45.9375\" id=\"E8\" rx=\"10\" ry=\"10\" style=\"stroke: #383838; stroke-width: 1.5;\" width=\"42\" x=\"107\" y=\"44.5\"/><text fill=\"#000000\" font-family=\"sans-serif\" font-size=\"12\" font-style=\"italic\" lengthAdjust=\"spacingAndGlyphs\" textLength=\"40\" x=\"108\" y=\"60.6387\">«part»</text><text fill=\"#000000\" font-family=\"sans-serif\" font-size=\"12\" lengthAdjust=\"spacingAndGlyphs\" textLength=\"21\" x=\"117.5\" y=\"74.6074\">z: B</text><line style=\"stroke: #383838; stroke-width: 1.5;\" x1=\"108\" x2=\"148\" y1=\"82.4375\" y2=\"82.4375\"/></a><!--MD5=[09b614a08d8cba4a07c9adeb5e0fee81]\n",
       "class E3--><a href=\"psysml:6090619b-e47a-44a4-bc4e-b4be6f2f4926\" target=\"_top\" title=\"psysml:6090619b-e47a-44a4-bc4e-b4be6f2f4926\" xlink:actuate=\"onRequest\" xlink:href=\"psysml:6090619b-e47a-44a4-bc4e-b4be6f2f4926\" xlink:show=\"new\" xlink:title=\"psysml:6090619b-e47a-44a4-bc4e-b4be6f2f4926\" xlink:type=\"simple\"><rect fill=\"#FFFFFF\" height=\"45.9375\" id=\"E3\" style=\"stroke: #383838; stroke-width: 1.5;\" width=\"66\" x=\"178\" y=\"154\"/><text fill=\"#000000\" font-family=\"sans-serif\" font-size=\"12\" font-style=\"italic\" lengthAdjust=\"spacingAndGlyphs\" textLength=\"64\" x=\"179\" y=\"170.1387\">«part def»</text><text fill=\"#000000\" font-family=\"sans-serif\" font-size=\"12\" lengthAdjust=\"spacingAndGlyphs\" textLength=\"8\" x=\"207\" y=\"184.1074\">A</text><line style=\"stroke: #383838; stroke-width: 1.5;\" x1=\"179\" x2=\"243\" y1=\"191.9375\" y2=\"191.9375\"/></a><a href=\"psysml:2344491a-e19a-447d-a12e-1e886a7ea509\" target=\"_top\" title=\"psysml:2344491a-e19a-447d-a12e-1e886a7ea509\" xlink:actuate=\"onRequest\" xlink:href=\"psysml:2344491a-e19a-447d-a12e-1e886a7ea509\" xlink:show=\"new\" xlink:title=\"psysml:2344491a-e19a-447d-a12e-1e886a7ea509\" xlink:type=\"simple\"><polygon fill=\"#FFFFFF\" points=\"32,41,58,41,65,63.2969,72,63.2969,72,93.5938,32,93.5938,32,41\" style=\"stroke: #000000; stroke-width: 1.5;\"/><line style=\"stroke: #000000; stroke-width: 1.5;\" x1=\"32\" x2=\"65\" y1=\"63.2969\" y2=\"63.2969\"/><text fill=\"#000000\" font-family=\"sans-serif\" font-size=\"14\" font-weight=\"bold\" lengthAdjust=\"spacingAndGlyphs\" textLength=\"20\" x=\"36\" y=\"55.9951\">P2</text></a><!--MD5=[2156ba9850f5573cc1fc38a6a4b2f02b]\n",
       "class E7--><a href=\"psysml:9e432445-55c9-4726-a95f-4e15b991b53a\" target=\"_top\" title=\"psysml:9e432445-55c9-4726-a95f-4e15b991b53a\" xlink:actuate=\"onRequest\" xlink:href=\"psysml:9e432445-55c9-4726-a95f-4e15b991b53a\" xlink:show=\"new\" xlink:title=\"psysml:9e432445-55c9-4726-a95f-4e15b991b53a\" xlink:type=\"simple\"><rect fill=\"#FFFFFF\" height=\"45.9375\" id=\"E7\" style=\"stroke: #383838; stroke-width: 1.5;\" width=\"66\" x=\"56\" y=\"154\"/><text fill=\"#000000\" font-family=\"sans-serif\" font-size=\"12\" font-style=\"italic\" lengthAdjust=\"spacingAndGlyphs\" textLength=\"64\" x=\"57\" y=\"170.1387\">«part def»</text><text fill=\"#000000\" font-family=\"sans-serif\" font-size=\"12\" lengthAdjust=\"spacingAndGlyphs\" textLength=\"8\" x=\"85\" y=\"184.1074\">B</text><line style=\"stroke: #383838; stroke-width: 1.5;\" x1=\"57\" x2=\"121\" y1=\"191.9375\" y2=\"191.9375\"/></a><!--MD5=[e9be52314489bd878ff4c7144b63c9e1]\n",
       "link E5 to E3--><a href=\"psysml:d9b9f238-e6f4-4810-bb41-4cf78560774c\" target=\"_top\" title=\"psysml:d9b9f238-e6f4-4810-bb41-4cf78560774c\" xlink:actuate=\"onRequest\" xlink:href=\"psysml:d9b9f238-e6f4-4810-bb41-4cf78560774c\" xlink:show=\"new\" xlink:title=\"psysml:d9b9f238-e6f4-4810-bb41-4cf78560774c\" xlink:type=\"simple\"><path d=\"M211,90.51 C211,102.89 211,118.78 211,133.48 \" fill=\"none\" id=\"E5-&gt;E3\" style=\"stroke: #383838; stroke-width: 1.0;\"/><polygon fill=\"#FFFFFF\" points=\"211,153.65,204,134.65,218,134.65,211,153.65\" style=\"stroke: #383838; stroke-width: 1.0;\"/><ellipse cx=\"206\" cy=\"128.95\" fill=\"#383838\" rx=\"2\" ry=\"2\" style=\"stroke: #383838; stroke-width: 1.0;\"/><ellipse cx=\"216\" cy=\"128.95\" fill=\"#383838\" rx=\"2\" ry=\"2\" style=\"stroke: #383838; stroke-width: 1.0;\"/></a><!--MD5=[bfa3c8b0d15052fdf50ae9310b491027]\n",
       "link E8 to E7--><a href=\"psysml:a13a28be-1001-42f5-9632-37667c0baf51\" target=\"_top\" title=\"psysml:a13a28be-1001-42f5-9632-37667c0baf51\" xlink:actuate=\"onRequest\" xlink:href=\"psysml:a13a28be-1001-42f5-9632-37667c0baf51\" xlink:show=\"new\" xlink:title=\"psysml:a13a28be-1001-42f5-9632-37667c0baf51\" xlink:type=\"simple\"><path d=\"M120.01,90.51 C115.39,103.25 109.42,119.7 103.96,134.76 \" fill=\"none\" id=\"E8-&gt;E7\" style=\"stroke: #383838; stroke-width: 1.0;\"/><polygon fill=\"#FFFFFF\" points=\"97.11,153.65,97.0036,133.4018,110.1656,138.1726,97.11,153.65\" style=\"stroke: #383838; stroke-width: 1.0;\"/><ellipse cx=\"100.8262\" cy=\"128.7245\" fill=\"#383838\" rx=\"2\" ry=\"2\" style=\"stroke: #383838; stroke-width: 1.0;\"/><ellipse cx=\"110.2277\" cy=\"132.1322\" fill=\"#383838\" rx=\"2\" ry=\"2\" style=\"stroke: #383838; stroke-width: 1.0;\"/></a><!--MD5=[a16155e4d681e6442d7e4e576a67229f]\n",
       "@startuml\r\n",
       "skinparam linetype polyline\r\n",
       "skinparam monochrome true\r\n",
       "skinparam classbackgroundcolor white\r\n",
       "skinparam shadowing false\r\n",
       "skinparam wrapWidth 300\r\n",
       "hide circle\r\n",
       "\r\n",
       "package \"PrivateImportTest\" as E1  [[psysml:70757ebb-a6cc-427a-a5fd-274a54eae870 ]]  {\r\n",
       "package \"P1\" as E2  [[psysml:9d9a8ea7-31e0-462e-8cd1-90f7e5dc514d ]]  {\r\n",
       "comp def \"A\" as E3  <<(T,blue)part def>> [[psysml:6090619b-e47a-44a4-bc4e-b4be6f2f4926 ]] {\r\n",
       "}\r\n",
       "}\r\n",
       "package \"P2\" as E4  [[psysml:2344491a-e19a-447d-a12e-1e886a7ea509 ]]  {\r\n",
       "}\r\n",
       "comp usage \"x: A\" as E5  <<(T,blue)part>> [[psysml:794b889b-8918-46e8-9c14-cb61e0d8a2ea ]] {\r\n",
       "}\r\n",
       "package \"P3\" as E6  [[psysml:e8a656ba-c51a-4d2d-932b-ea8b084af9f5 ]]  {\r\n",
       "comp def \"B\" as E7  <<(T,blue)part def>> [[psysml:9e432445-55c9-4726-a95f-4e15b991b53a ]] {\r\n",
       "}\r\n",
       "E5 - -:|> E3 [[psysml:d9b9f238-e6f4-4810-bb41-4cf78560774c ]] \r\n",
       "}\r\n",
       "comp usage \"z: B\" as E8  <<(T,blue)part>> [[psysml:553a92d0-50bf-477b-b2ce-bf491dd9a415 ]] {\r\n",
       "}\r\n",
       "E8 - -:|> E7 [[psysml:a13a28be-1001-42f5-9632-37667c0baf51 ]] \r\n",
       "}\r\n",
       "@enduml\r\n",
       "\n",
       "PlantUML version 1.2020.13(Sat Jun 13 12:26:38 UTC 2020)\n",
       "(EPL source distribution)\n",
       "Java Runtime: OpenJDK Runtime Environment\n",
       "JVM: OpenJDK 64-Bit Server VM\n",
       "Default Encoding: UTF-8\n",
       "Language: en\n",
       "Country: null\n",
       "--></g></svg>"
      ]
     },
     "execution_count": 10,
     "metadata": {},
     "output_type": "execute_result"
    }
   ],
   "source": [
    "%viz --style=\"POLYLINE\" --view=\"Tree\" \"PrivateImportTest\""
   ]
  },
  {
   "cell_type": "code",
   "execution_count": 11,
   "id": "median-aggregate",
   "metadata": {
    "execution": {
     "iopub.execute_input": "2021-03-25T15:01:12.522160Z",
     "iopub.status.busy": "2021-03-25T15:01:12.521779Z",
     "iopub.status.idle": "2021-03-25T15:01:12.531846Z",
     "shell.execute_reply": "2021-03-25T15:01:12.531288Z"
    }
   },
   "outputs": [
    {
     "data": {
      "image/svg+xml": [
       "<?xml version=\"1.0\" encoding=\"UTF-8\" standalone=\"no\"?><svg xmlns=\"http://www.w3.org/2000/svg\" xmlns:xlink=\"http://www.w3.org/1999/xlink\" contentScriptType=\"application/ecmascript\" contentStyleType=\"text/css\" height=\"12px\" preserveAspectRatio=\"none\" style=\"width:12px;height:12px;\" version=\"1.1\" viewBox=\"0 0 12 12\" width=\"12px\" zoomAndPan=\"magnify\"><defs/><g><!--MD5=[896ac0e7a515d8dd7765a661cb4ee08b]\n",
       "@startuml\r\n",
       "skinparam linetype polyline\r\n",
       "skinparam monochrome true\r\n",
       "skinparam classbackgroundcolor white\r\n",
       "skinparam shadowing false\r\n",
       "skinparam wrapWidth 300\r\n",
       "hide circle\r\n",
       "\r\n",
       "@enduml\r\n",
       "\n",
       "PlantUML version 1.2020.13(Sat Jun 13 12:26:38 UTC 2020)\n",
       "(EPL source distribution)\n",
       "Java Runtime: OpenJDK Runtime Environment\n",
       "JVM: OpenJDK 64-Bit Server VM\n",
       "Default Encoding: UTF-8\n",
       "Language: en\n",
       "Country: null\n",
       "--></g></svg>"
      ]
     },
     "execution_count": 11,
     "metadata": {},
     "output_type": "execute_result"
    }
   ],
   "source": [
    "%viz --style=\"POLYLINE\" --view=\"State\" \"PrivateImportTest\""
   ]
  },
  {
   "cell_type": "code",
   "execution_count": 12,
   "id": "resistant-decimal",
   "metadata": {
    "execution": {
     "iopub.execute_input": "2021-03-25T15:01:12.582278Z",
     "iopub.status.busy": "2021-03-25T15:01:12.581899Z",
     "iopub.status.idle": "2021-03-25T15:01:12.682325Z",
     "shell.execute_reply": "2021-03-25T15:01:12.680270Z"
    }
   },
   "outputs": [
    {
     "data": {
      "image/svg+xml": [
       "<?xml version=\"1.0\" encoding=\"UTF-8\" standalone=\"no\"?><svg xmlns=\"http://www.w3.org/2000/svg\" xmlns:xlink=\"http://www.w3.org/1999/xlink\" contentScriptType=\"application/ecmascript\" contentStyleType=\"text/css\" height=\"179px\" preserveAspectRatio=\"none\" style=\"width:539px;height:179px;\" version=\"1.1\" viewBox=\"0 0 539 179\" width=\"539px\" zoomAndPan=\"magnify\"><defs/><g><!--MD5=[fbc87193dbaf4d95561dea2c320d4a47]\n",
       "cluster E1--><a href=\"psysml:70757ebb-a6cc-427a-a5fd-274a54eae870\" target=\"_top\" title=\"psysml:70757ebb-a6cc-427a-a5fd-274a54eae870\" xlink:actuate=\"onRequest\" xlink:href=\"psysml:70757ebb-a6cc-427a-a5fd-274a54eae870\" xlink:show=\"new\" xlink:title=\"psysml:70757ebb-a6cc-427a-a5fd-274a54eae870\" xlink:type=\"simple\"><polygon fill=\"#FFFFFF\" points=\"16,6,163,6,170,28.2969,517,28.2969,517,167,16,167,16,6\" style=\"stroke: #000000; stroke-width: 1.5;\"/><line style=\"stroke: #000000; stroke-width: 1.5;\" x1=\"16\" x2=\"170\" y1=\"28.2969\" y2=\"28.2969\"/><text fill=\"#000000\" font-family=\"sans-serif\" font-size=\"14\" font-weight=\"bold\" lengthAdjust=\"spacingAndGlyphs\" textLength=\"141\" x=\"20\" y=\"20.9951\">PrivateImportTest</text></a><!--MD5=[e4f7fae6ed58524ba242bb0b0d3be6b7]\n",
       "cluster E2--><a href=\"psysml:9d9a8ea7-31e0-462e-8cd1-90f7e5dc514d\" target=\"_top\" title=\"psysml:9d9a8ea7-31e0-462e-8cd1-90f7e5dc514d\" xlink:actuate=\"onRequest\" xlink:href=\"psysml:9d9a8ea7-31e0-462e-8cd1-90f7e5dc514d\" xlink:show=\"new\" xlink:title=\"psysml:9d9a8ea7-31e0-462e-8cd1-90f7e5dc514d\" xlink:type=\"simple\"><polygon fill=\"#FFFFFF\" points=\"389,49,415,49,422,71.2969,493,71.2969,493,143,389,143,389,49\" style=\"stroke: #000000; stroke-width: 1.5;\"/><line style=\"stroke: #000000; stroke-width: 1.5;\" x1=\"389\" x2=\"422\" y1=\"71.2969\" y2=\"71.2969\"/><text fill=\"#000000\" font-family=\"sans-serif\" font-size=\"14\" font-weight=\"bold\" lengthAdjust=\"spacingAndGlyphs\" textLength=\"20\" x=\"393\" y=\"63.9951\">P1</text></a><!--MD5=[14e3b0961a2654348d326746436168a1]\n",
       "cluster E6--><a href=\"psysml:e8a656ba-c51a-4d2d-932b-ea8b084af9f5\" target=\"_top\" title=\"psysml:e8a656ba-c51a-4d2d-932b-ea8b084af9f5\" xlink:actuate=\"onRequest\" xlink:href=\"psysml:e8a656ba-c51a-4d2d-932b-ea8b084af9f5\" xlink:show=\"new\" xlink:title=\"psysml:e8a656ba-c51a-4d2d-932b-ea8b084af9f5\" xlink:type=\"simple\"><polygon fill=\"#FFFFFF\" points=\"261,49,287,49,294,71.2969,365,71.2969,365,143,261,143,261,49\" style=\"stroke: #000000; stroke-width: 1.5;\"/><line style=\"stroke: #000000; stroke-width: 1.5;\" x1=\"261\" x2=\"294\" y1=\"71.2969\" y2=\"71.2969\"/><text fill=\"#000000\" font-family=\"sans-serif\" font-size=\"14\" font-weight=\"bold\" lengthAdjust=\"spacingAndGlyphs\" textLength=\"20\" x=\"265\" y=\"63.9951\">P3</text></a><g id=\"E1.E2.E3\"><a href=\"psysml:6090619b-e47a-44a4-bc4e-b4be6f2f4926\" target=\"_top\" title=\"psysml:6090619b-e47a-44a4-bc4e-b4be6f2f4926\" xlink:actuate=\"onRequest\" xlink:href=\"psysml:6090619b-e47a-44a4-bc4e-b4be6f2f4926\" xlink:show=\"new\" xlink:title=\"psysml:6090619b-e47a-44a4-bc4e-b4be6f2f4926\" xlink:type=\"simple\"><rect fill=\"#FFFFFF\" height=\"42.9375\" id=\"E3\" style=\"stroke: #383838; stroke-width: 1.5;\" width=\"71\" x=\"405.5\" y=\"84\"/><rect fill=\"#F8F8F8\" height=\"37.9375\" style=\"stroke: #383838; stroke-width: 1.5;\" width=\"71\" x=\"405.5\" y=\"84\"/><text fill=\"#000000\" font-family=\"sans-serif\" font-size=\"12\" font-style=\"italic\" lengthAdjust=\"spacingAndGlyphs\" textLength=\"64\" x=\"409\" y=\"100.1387\">«part def»</text><text fill=\"#000000\" font-family=\"sans-serif\" font-size=\"12\" lengthAdjust=\"spacingAndGlyphs\" textLength=\"8\" x=\"437\" y=\"114.1074\">A</text></a></g><a href=\"psysml:2344491a-e19a-447d-a12e-1e886a7ea509\" target=\"_top\" title=\"psysml:2344491a-e19a-447d-a12e-1e886a7ea509\" xlink:actuate=\"onRequest\" xlink:href=\"psysml:2344491a-e19a-447d-a12e-1e886a7ea509\" xlink:show=\"new\" xlink:title=\"psysml:2344491a-e19a-447d-a12e-1e886a7ea509\" xlink:type=\"simple\"><polygon fill=\"#FFFFFF\" points=\"202,79,228,79,235,101.2969,242,101.2969,242,131.5938,202,131.5938,202,79\" style=\"stroke: #000000; stroke-width: 1.5;\"/><line style=\"stroke: #000000; stroke-width: 1.5;\" x1=\"202\" x2=\"235\" y1=\"101.2969\" y2=\"101.2969\"/><text fill=\"#000000\" font-family=\"sans-serif\" font-size=\"14\" font-weight=\"bold\" lengthAdjust=\"spacingAndGlyphs\" textLength=\"20\" x=\"206\" y=\"93.9951\">P2</text></a><g id=\"E1.E5\"><a href=\"psysml:794b889b-8918-46e8-9c14-cb61e0d8a2ea\" target=\"_top\" title=\"psysml:794b889b-8918-46e8-9c14-cb61e0d8a2ea\" xlink:actuate=\"onRequest\" xlink:href=\"psysml:794b889b-8918-46e8-9c14-cb61e0d8a2ea\" xlink:show=\"new\" xlink:title=\"psysml:794b889b-8918-46e8-9c14-cb61e0d8a2ea\" xlink:type=\"simple\"><rect fill=\"#FFFFFF\" height=\"40\" id=\"E5\" rx=\"10\" ry=\"10\" style=\"stroke: #383838; stroke-width: 1.5;\" width=\"50\" x=\"117\" y=\"85.5\"/><rect fill=\"#F8F8F8\" height=\"23.9688\" rx=\"10\" ry=\"10\" style=\"stroke: #F8F8F8; stroke-width: 1.5;\" width=\"50\" x=\"117\" y=\"85.5\"/><rect fill=\"#F8F8F8\" height=\"10\" style=\"stroke: #F8F8F8; stroke-width: 1.5;\" width=\"50\" x=\"117\" y=\"99.4688\"/><rect fill=\"none\" height=\"40\" id=\"E5\" rx=\"10\" ry=\"10\" style=\"stroke: #383838; stroke-width: 1.5;\" width=\"50\" x=\"117\" y=\"85.5\"/><text fill=\"#000000\" font-family=\"sans-serif\" font-size=\"12\" lengthAdjust=\"spacingAndGlyphs\" textLength=\"22\" x=\"131\" y=\"101.6387\">x: A</text></a></g><g id=\"E1.E6.E7\"><a href=\"psysml:9e432445-55c9-4726-a95f-4e15b991b53a\" target=\"_top\" title=\"psysml:9e432445-55c9-4726-a95f-4e15b991b53a\" xlink:actuate=\"onRequest\" xlink:href=\"psysml:9e432445-55c9-4726-a95f-4e15b991b53a\" xlink:show=\"new\" xlink:title=\"psysml:9e432445-55c9-4726-a95f-4e15b991b53a\" xlink:type=\"simple\"><rect fill=\"#FFFFFF\" height=\"42.9375\" id=\"E7\" style=\"stroke: #383838; stroke-width: 1.5;\" width=\"71\" x=\"277.5\" y=\"84\"/><rect fill=\"#F8F8F8\" height=\"37.9375\" style=\"stroke: #383838; stroke-width: 1.5;\" width=\"71\" x=\"277.5\" y=\"84\"/><text fill=\"#000000\" font-family=\"sans-serif\" font-size=\"12\" font-style=\"italic\" lengthAdjust=\"spacingAndGlyphs\" textLength=\"64\" x=\"281\" y=\"100.1387\">«part def»</text><text fill=\"#000000\" font-family=\"sans-serif\" font-size=\"12\" lengthAdjust=\"spacingAndGlyphs\" textLength=\"8\" x=\"309\" y=\"114.1074\">B</text></a></g><g id=\"E1.E8\"><a href=\"psysml:553a92d0-50bf-477b-b2ce-bf491dd9a415\" target=\"_top\" title=\"psysml:553a92d0-50bf-477b-b2ce-bf491dd9a415\" xlink:actuate=\"onRequest\" xlink:href=\"psysml:553a92d0-50bf-477b-b2ce-bf491dd9a415\" xlink:show=\"new\" xlink:title=\"psysml:553a92d0-50bf-477b-b2ce-bf491dd9a415\" xlink:type=\"simple\"><rect fill=\"#FFFFFF\" height=\"40\" id=\"E8\" rx=\"10\" ry=\"10\" style=\"stroke: #383838; stroke-width: 1.5;\" width=\"50\" x=\"32\" y=\"85.5\"/><rect fill=\"#F8F8F8\" height=\"23.9688\" rx=\"10\" ry=\"10\" style=\"stroke: #F8F8F8; stroke-width: 1.5;\" width=\"50\" x=\"32\" y=\"85.5\"/><rect fill=\"#F8F8F8\" height=\"10\" style=\"stroke: #F8F8F8; stroke-width: 1.5;\" width=\"50\" x=\"32\" y=\"99.4688\"/><rect fill=\"none\" height=\"40\" id=\"E8\" rx=\"10\" ry=\"10\" style=\"stroke: #383838; stroke-width: 1.5;\" width=\"50\" x=\"32\" y=\"85.5\"/><text fill=\"#000000\" font-family=\"sans-serif\" font-size=\"12\" lengthAdjust=\"spacingAndGlyphs\" textLength=\"21\" x=\"46.5\" y=\"101.6387\">z: B</text></a></g><!--MD5=[e6d8660c5c759d94bc49b7a7f8443223]\n",
       "@startuml\r\n",
       "skinparam ranksep 8\r\n",
       "skinparam rectangle {\r\n",
       " backgroundColor<<block>> LightGreen\r\n",
       "}\r\n",
       "skinparam linetype polyline\r\n",
       "skinparam monochrome true\r\n",
       "skinparam classbackgroundcolor white\r\n",
       "skinparam shadowing false\r\n",
       "skinparam wrapWidth 300\r\n",
       "hide circle\r\n",
       "\r\n",
       "package \"PrivateImportTest\" as E1  [[psysml:70757ebb-a6cc-427a-a5fd-274a54eae870 ]]  {\r\n",
       "package \"P1\" as E2  [[psysml:9d9a8ea7-31e0-462e-8cd1-90f7e5dc514d ]]  {\r\n",
       "rec def \"A\" as E3  <<(T,blue)part def>> [[psysml:6090619b-e47a-44a4-bc4e-b4be6f2f4926 ]] {\r\n",
       "}\r\n",
       "}\r\n",
       "package \"P2\" as E4  [[psysml:2344491a-e19a-447d-a12e-1e886a7ea509 ]]  {\r\n",
       "}\r\n",
       "rec usage \"x: A\" as E5  [[psysml:794b889b-8918-46e8-9c14-cb61e0d8a2ea ]] {\r\n",
       "}\r\n",
       "package \"P3\" as E6  [[psysml:e8a656ba-c51a-4d2d-932b-ea8b084af9f5 ]]  {\r\n",
       "rec def \"B\" as E7  <<(T,blue)part def>> [[psysml:9e432445-55c9-4726-a95f-4e15b991b53a ]] {\r\n",
       "}\r\n",
       "}\r\n",
       "rec usage \"z: B\" as E8  [[psysml:553a92d0-50bf-477b-b2ce-bf491dd9a415 ]] {\r\n",
       "}\r\n",
       "}\r\n",
       "@enduml\r\n",
       "\n",
       "PlantUML version 1.2020.13(Sat Jun 13 12:26:38 UTC 2020)\n",
       "(EPL source distribution)\n",
       "Java Runtime: OpenJDK Runtime Environment\n",
       "JVM: OpenJDK 64-Bit Server VM\n",
       "Default Encoding: UTF-8\n",
       "Language: en\n",
       "Country: null\n",
       "--></g></svg>"
      ]
     },
     "execution_count": 12,
     "metadata": {},
     "output_type": "execute_result"
    }
   ],
   "source": [
    "%viz --style=\"POLYLINE\" --view=\"Interconnection\" \"PrivateImportTest\""
   ]
  },
  {
   "cell_type": "code",
   "execution_count": 13,
   "id": "assigned-election",
   "metadata": {
    "execution": {
     "iopub.execute_input": "2021-03-25T15:01:12.731713Z",
     "iopub.status.busy": "2021-03-25T15:01:12.731179Z",
     "iopub.status.idle": "2021-03-25T15:01:12.748588Z",
     "shell.execute_reply": "2021-03-25T15:01:12.747570Z"
    }
   },
   "outputs": [
    {
     "data": {
      "image/svg+xml": [
       "<?xml version=\"1.0\" encoding=\"UTF-8\" standalone=\"no\"?><svg xmlns=\"http://www.w3.org/2000/svg\" xmlns:xlink=\"http://www.w3.org/1999/xlink\" contentScriptType=\"application/ecmascript\" contentStyleType=\"text/css\" height=\"12px\" preserveAspectRatio=\"none\" style=\"width:12px;height:12px;\" version=\"1.1\" viewBox=\"0 0 12 12\" width=\"12px\" zoomAndPan=\"magnify\"><defs/><g><!--MD5=[97bbf32f66ccd50cbc40d92ea8f5a65e]\n",
       "@startuml\r\n",
       "skinparam ranksep 8\r\n",
       "skinparam linetype polyline\r\n",
       "skinparam monochrome true\r\n",
       "skinparam classbackgroundcolor white\r\n",
       "skinparam shadowing false\r\n",
       "skinparam wrapWidth 300\r\n",
       "hide circle\r\n",
       "\r\n",
       "@enduml\r\n",
       "\n",
       "PlantUML version 1.2020.13(Sat Jun 13 12:26:38 UTC 2020)\n",
       "(EPL source distribution)\n",
       "Java Runtime: OpenJDK Runtime Environment\n",
       "JVM: OpenJDK 64-Bit Server VM\n",
       "Default Encoding: UTF-8\n",
       "Language: en\n",
       "Country: null\n",
       "--></g></svg>"
      ]
     },
     "execution_count": 13,
     "metadata": {},
     "output_type": "execute_result"
    }
   ],
   "source": [
    "%viz --style=\"POLYLINE\" --view=\"Action\" \"PrivateImportTest\""
   ]
  },
  {
   "cell_type": "code",
   "execution_count": 14,
   "id": "binary-hardware",
   "metadata": {
    "execution": {
     "iopub.execute_input": "2021-03-25T15:01:12.799827Z",
     "iopub.status.busy": "2021-03-25T15:01:12.799233Z",
     "iopub.status.idle": "2021-03-25T15:01:12.905339Z",
     "shell.execute_reply": "2021-03-25T15:01:12.906095Z"
    }
   },
   "outputs": [
    {
     "data": {
      "image/svg+xml": [
       "<?xml version=\"1.0\" encoding=\"UTF-8\" standalone=\"no\"?><svg xmlns=\"http://www.w3.org/2000/svg\" xmlns:xlink=\"http://www.w3.org/1999/xlink\" contentScriptType=\"application/ecmascript\" contentStyleType=\"text/css\" height=\"252px\" preserveAspectRatio=\"none\" style=\"width:306px;height:252px;\" version=\"1.1\" viewBox=\"0 0 306 252\" width=\"306px\" zoomAndPan=\"magnify\"><defs/><g><!--MD5=[fbc87193dbaf4d95561dea2c320d4a47]\n",
       "cluster E1--><a href=\"psysml:70757ebb-a6cc-427a-a5fd-274a54eae870\" target=\"_top\" title=\"psysml:70757ebb-a6cc-427a-a5fd-274a54eae870\" xlink:actuate=\"onRequest\" xlink:href=\"psysml:70757ebb-a6cc-427a-a5fd-274a54eae870\" xlink:show=\"new\" xlink:title=\"psysml:70757ebb-a6cc-427a-a5fd-274a54eae870\" xlink:type=\"simple\"><polygon fill=\"#FFFFFF\" points=\"16,6,163,6,170,28.2969,284,28.2969,284,240,16,240,16,6\" style=\"stroke: #000000; stroke-width: 1.5;\"/><line style=\"stroke: #000000; stroke-width: 1.5;\" x1=\"16\" x2=\"170\" y1=\"28.2969\" y2=\"28.2969\"/><text fill=\"#000000\" font-family=\"sans-serif\" font-size=\"14\" font-weight=\"bold\" lengthAdjust=\"spacingAndGlyphs\" textLength=\"141\" x=\"20\" y=\"20.9951\">PrivateImportTest</text></a><!--MD5=[e4f7fae6ed58524ba242bb0b0d3be6b7]\n",
       "cluster E2--><a href=\"psysml:9d9a8ea7-31e0-462e-8cd1-90f7e5dc514d\" target=\"_top\" title=\"psysml:9d9a8ea7-31e0-462e-8cd1-90f7e5dc514d\" xlink:actuate=\"onRequest\" xlink:href=\"psysml:9d9a8ea7-31e0-462e-8cd1-90f7e5dc514d\" xlink:show=\"new\" xlink:title=\"psysml:9d9a8ea7-31e0-462e-8cd1-90f7e5dc514d\" xlink:type=\"simple\"><polygon fill=\"#FFFFFF\" points=\"162,119,188,119,195,141.2969,260,141.2969,260,216,162,216,162,119\" style=\"stroke: #000000; stroke-width: 1.5;\"/><line style=\"stroke: #000000; stroke-width: 1.5;\" x1=\"162\" x2=\"195\" y1=\"141.2969\" y2=\"141.2969\"/><text fill=\"#000000\" font-family=\"sans-serif\" font-size=\"14\" font-weight=\"bold\" lengthAdjust=\"spacingAndGlyphs\" textLength=\"20\" x=\"166\" y=\"133.9951\">P1</text></a><!--MD5=[14e3b0961a2654348d326746436168a1]\n",
       "cluster E6--><a href=\"psysml:e8a656ba-c51a-4d2d-932b-ea8b084af9f5\" target=\"_top\" title=\"psysml:e8a656ba-c51a-4d2d-932b-ea8b084af9f5\" xlink:actuate=\"onRequest\" xlink:href=\"psysml:e8a656ba-c51a-4d2d-932b-ea8b084af9f5\" xlink:show=\"new\" xlink:title=\"psysml:e8a656ba-c51a-4d2d-932b-ea8b084af9f5\" xlink:type=\"simple\"><polygon fill=\"#FFFFFF\" points=\"40,119,66,119,73,141.2969,138,141.2969,138,216,40,216,40,119\" style=\"stroke: #000000; stroke-width: 1.5;\"/><line style=\"stroke: #000000; stroke-width: 1.5;\" x1=\"40\" x2=\"73\" y1=\"141.2969\" y2=\"141.2969\"/><text fill=\"#000000\" font-family=\"sans-serif\" font-size=\"14\" font-weight=\"bold\" lengthAdjust=\"spacingAndGlyphs\" textLength=\"20\" x=\"44\" y=\"133.9951\">P3</text></a><!--MD5=[270fce915f116d4de14055a7c1d9a0f3]\n",
       "class E5--><a href=\"psysml:794b889b-8918-46e8-9c14-cb61e0d8a2ea\" target=\"_top\" title=\"psysml:794b889b-8918-46e8-9c14-cb61e0d8a2ea\" xlink:actuate=\"onRequest\" xlink:href=\"psysml:794b889b-8918-46e8-9c14-cb61e0d8a2ea\" xlink:show=\"new\" xlink:title=\"psysml:794b889b-8918-46e8-9c14-cb61e0d8a2ea\" xlink:type=\"simple\"><rect fill=\"#FFFFFF\" height=\"45.9375\" id=\"E5\" rx=\"10\" ry=\"10\" style=\"stroke: #383838; stroke-width: 1.5;\" width=\"42\" x=\"190\" y=\"44.5\"/><text fill=\"#000000\" font-family=\"sans-serif\" font-size=\"12\" font-style=\"italic\" lengthAdjust=\"spacingAndGlyphs\" textLength=\"40\" x=\"191\" y=\"60.6387\">«part»</text><text fill=\"#000000\" font-family=\"sans-serif\" font-size=\"12\" lengthAdjust=\"spacingAndGlyphs\" textLength=\"22\" x=\"200\" y=\"74.6074\">x: A</text><line style=\"stroke: #383838; stroke-width: 1.5;\" x1=\"191\" x2=\"231\" y1=\"82.4375\" y2=\"82.4375\"/></a><!--MD5=[b9389687b975829384b498ac4b7476b2]\n",
       "class E8--><a href=\"psysml:553a92d0-50bf-477b-b2ce-bf491dd9a415\" target=\"_top\" title=\"psysml:553a92d0-50bf-477b-b2ce-bf491dd9a415\" xlink:actuate=\"onRequest\" xlink:href=\"psysml:553a92d0-50bf-477b-b2ce-bf491dd9a415\" xlink:show=\"new\" xlink:title=\"psysml:553a92d0-50bf-477b-b2ce-bf491dd9a415\" xlink:type=\"simple\"><rect fill=\"#FFFFFF\" height=\"45.9375\" id=\"E8\" rx=\"10\" ry=\"10\" style=\"stroke: #383838; stroke-width: 1.5;\" width=\"42\" x=\"107\" y=\"44.5\"/><text fill=\"#000000\" font-family=\"sans-serif\" font-size=\"12\" font-style=\"italic\" lengthAdjust=\"spacingAndGlyphs\" textLength=\"40\" x=\"108\" y=\"60.6387\">«part»</text><text fill=\"#000000\" font-family=\"sans-serif\" font-size=\"12\" lengthAdjust=\"spacingAndGlyphs\" textLength=\"21\" x=\"117.5\" y=\"74.6074\">z: B</text><line style=\"stroke: #383838; stroke-width: 1.5;\" x1=\"108\" x2=\"148\" y1=\"82.4375\" y2=\"82.4375\"/></a><!--MD5=[09b614a08d8cba4a07c9adeb5e0fee81]\n",
       "class E3--><a href=\"psysml:6090619b-e47a-44a4-bc4e-b4be6f2f4926\" target=\"_top\" title=\"psysml:6090619b-e47a-44a4-bc4e-b4be6f2f4926\" xlink:actuate=\"onRequest\" xlink:href=\"psysml:6090619b-e47a-44a4-bc4e-b4be6f2f4926\" xlink:show=\"new\" xlink:title=\"psysml:6090619b-e47a-44a4-bc4e-b4be6f2f4926\" xlink:type=\"simple\"><rect fill=\"#FFFFFF\" height=\"45.9375\" id=\"E3\" style=\"stroke: #383838; stroke-width: 1.5;\" width=\"66\" x=\"178\" y=\"154\"/><text fill=\"#000000\" font-family=\"sans-serif\" font-size=\"12\" font-style=\"italic\" lengthAdjust=\"spacingAndGlyphs\" textLength=\"64\" x=\"179\" y=\"170.1387\">«part def»</text><text fill=\"#000000\" font-family=\"sans-serif\" font-size=\"12\" lengthAdjust=\"spacingAndGlyphs\" textLength=\"8\" x=\"207\" y=\"184.1074\">A</text><line style=\"stroke: #383838; stroke-width: 1.5;\" x1=\"179\" x2=\"243\" y1=\"191.9375\" y2=\"191.9375\"/></a><a href=\"psysml:2344491a-e19a-447d-a12e-1e886a7ea509\" target=\"_top\" title=\"psysml:2344491a-e19a-447d-a12e-1e886a7ea509\" xlink:actuate=\"onRequest\" xlink:href=\"psysml:2344491a-e19a-447d-a12e-1e886a7ea509\" xlink:show=\"new\" xlink:title=\"psysml:2344491a-e19a-447d-a12e-1e886a7ea509\" xlink:type=\"simple\"><polygon fill=\"#FFFFFF\" points=\"32,41,58,41,65,63.2969,72,63.2969,72,93.5938,32,93.5938,32,41\" style=\"stroke: #000000; stroke-width: 1.5;\"/><line style=\"stroke: #000000; stroke-width: 1.5;\" x1=\"32\" x2=\"65\" y1=\"63.2969\" y2=\"63.2969\"/><text fill=\"#000000\" font-family=\"sans-serif\" font-size=\"14\" font-weight=\"bold\" lengthAdjust=\"spacingAndGlyphs\" textLength=\"20\" x=\"36\" y=\"55.9951\">P2</text></a><!--MD5=[2156ba9850f5573cc1fc38a6a4b2f02b]\n",
       "class E7--><a href=\"psysml:9e432445-55c9-4726-a95f-4e15b991b53a\" target=\"_top\" title=\"psysml:9e432445-55c9-4726-a95f-4e15b991b53a\" xlink:actuate=\"onRequest\" xlink:href=\"psysml:9e432445-55c9-4726-a95f-4e15b991b53a\" xlink:show=\"new\" xlink:title=\"psysml:9e432445-55c9-4726-a95f-4e15b991b53a\" xlink:type=\"simple\"><rect fill=\"#FFFFFF\" height=\"45.9375\" id=\"E7\" style=\"stroke: #383838; stroke-width: 1.5;\" width=\"66\" x=\"56\" y=\"154\"/><text fill=\"#000000\" font-family=\"sans-serif\" font-size=\"12\" font-style=\"italic\" lengthAdjust=\"spacingAndGlyphs\" textLength=\"64\" x=\"57\" y=\"170.1387\">«part def»</text><text fill=\"#000000\" font-family=\"sans-serif\" font-size=\"12\" lengthAdjust=\"spacingAndGlyphs\" textLength=\"8\" x=\"85\" y=\"184.1074\">B</text><line style=\"stroke: #383838; stroke-width: 1.5;\" x1=\"57\" x2=\"121\" y1=\"191.9375\" y2=\"191.9375\"/></a><!--MD5=[e9be52314489bd878ff4c7144b63c9e1]\n",
       "link E5 to E3--><a href=\"psysml:d9b9f238-e6f4-4810-bb41-4cf78560774c\" target=\"_top\" title=\"psysml:d9b9f238-e6f4-4810-bb41-4cf78560774c\" xlink:actuate=\"onRequest\" xlink:href=\"psysml:d9b9f238-e6f4-4810-bb41-4cf78560774c\" xlink:show=\"new\" xlink:title=\"psysml:d9b9f238-e6f4-4810-bb41-4cf78560774c\" xlink:type=\"simple\"><path d=\"M211,90.51 C211,102.89 211,118.78 211,133.48 \" fill=\"none\" id=\"E5-&gt;E3\" style=\"stroke: #383838; stroke-width: 1.0;\"/><polygon fill=\"#FFFFFF\" points=\"211,153.65,204,134.65,218,134.65,211,153.65\" style=\"stroke: #383838; stroke-width: 1.0;\"/><ellipse cx=\"206\" cy=\"128.95\" fill=\"#383838\" rx=\"2\" ry=\"2\" style=\"stroke: #383838; stroke-width: 1.0;\"/><ellipse cx=\"216\" cy=\"128.95\" fill=\"#383838\" rx=\"2\" ry=\"2\" style=\"stroke: #383838; stroke-width: 1.0;\"/></a><!--MD5=[bfa3c8b0d15052fdf50ae9310b491027]\n",
       "link E8 to E7--><a href=\"psysml:a13a28be-1001-42f5-9632-37667c0baf51\" target=\"_top\" title=\"psysml:a13a28be-1001-42f5-9632-37667c0baf51\" xlink:actuate=\"onRequest\" xlink:href=\"psysml:a13a28be-1001-42f5-9632-37667c0baf51\" xlink:show=\"new\" xlink:title=\"psysml:a13a28be-1001-42f5-9632-37667c0baf51\" xlink:type=\"simple\"><path d=\"M120.01,90.51 C115.39,103.25 109.42,119.7 103.96,134.76 \" fill=\"none\" id=\"E8-&gt;E7\" style=\"stroke: #383838; stroke-width: 1.0;\"/><polygon fill=\"#FFFFFF\" points=\"97.11,153.65,97.0036,133.4018,110.1656,138.1726,97.11,153.65\" style=\"stroke: #383838; stroke-width: 1.0;\"/><ellipse cx=\"100.8262\" cy=\"128.7245\" fill=\"#383838\" rx=\"2\" ry=\"2\" style=\"stroke: #383838; stroke-width: 1.0;\"/><ellipse cx=\"110.2277\" cy=\"132.1322\" fill=\"#383838\" rx=\"2\" ry=\"2\" style=\"stroke: #383838; stroke-width: 1.0;\"/></a><!--MD5=[a16155e4d681e6442d7e4e576a67229f]\n",
       "@startuml\r\n",
       "skinparam linetype polyline\r\n",
       "skinparam monochrome true\r\n",
       "skinparam classbackgroundcolor white\r\n",
       "skinparam shadowing false\r\n",
       "skinparam wrapWidth 300\r\n",
       "hide circle\r\n",
       "\r\n",
       "package \"PrivateImportTest\" as E1  [[psysml:70757ebb-a6cc-427a-a5fd-274a54eae870 ]]  {\r\n",
       "package \"P1\" as E2  [[psysml:9d9a8ea7-31e0-462e-8cd1-90f7e5dc514d ]]  {\r\n",
       "comp def \"A\" as E3  <<(T,blue)part def>> [[psysml:6090619b-e47a-44a4-bc4e-b4be6f2f4926 ]] {\r\n",
       "}\r\n",
       "}\r\n",
       "package \"P2\" as E4  [[psysml:2344491a-e19a-447d-a12e-1e886a7ea509 ]]  {\r\n",
       "}\r\n",
       "comp usage \"x: A\" as E5  <<(T,blue)part>> [[psysml:794b889b-8918-46e8-9c14-cb61e0d8a2ea ]] {\r\n",
       "}\r\n",
       "package \"P3\" as E6  [[psysml:e8a656ba-c51a-4d2d-932b-ea8b084af9f5 ]]  {\r\n",
       "comp def \"B\" as E7  <<(T,blue)part def>> [[psysml:9e432445-55c9-4726-a95f-4e15b991b53a ]] {\r\n",
       "}\r\n",
       "E5 - -:|> E3 [[psysml:d9b9f238-e6f4-4810-bb41-4cf78560774c ]] \r\n",
       "}\r\n",
       "comp usage \"z: B\" as E8  <<(T,blue)part>> [[psysml:553a92d0-50bf-477b-b2ce-bf491dd9a415 ]] {\r\n",
       "}\r\n",
       "E8 - -:|> E7 [[psysml:a13a28be-1001-42f5-9632-37667c0baf51 ]] \r\n",
       "}\r\n",
       "@enduml\r\n",
       "\n",
       "PlantUML version 1.2020.13(Sat Jun 13 12:26:38 UTC 2020)\n",
       "(EPL source distribution)\n",
       "Java Runtime: OpenJDK Runtime Environment\n",
       "JVM: OpenJDK 64-Bit Server VM\n",
       "Default Encoding: UTF-8\n",
       "Language: en\n",
       "Country: null\n",
       "--></g></svg>"
      ]
     },
     "execution_count": 14,
     "metadata": {},
     "output_type": "execute_result"
    }
   ],
   "source": [
    "%viz --style=\"POLYLINE\" --view=\"Sequence\" \"PrivateImportTest\""
   ]
  },
  {
   "cell_type": "code",
   "execution_count": 15,
   "id": "textile-level",
   "metadata": {
    "execution": {
     "iopub.execute_input": "2021-03-25T15:01:12.956346Z",
     "iopub.status.busy": "2021-03-25T15:01:12.955565Z",
     "iopub.status.idle": "2021-03-25T15:01:13.042998Z",
     "shell.execute_reply": "2021-03-25T15:01:13.041067Z"
    }
   },
   "outputs": [
    {
     "data": {
      "image/svg+xml": [
       "<?xml version=\"1.0\" encoding=\"UTF-8\" standalone=\"no\"?><svg xmlns=\"http://www.w3.org/2000/svg\" xmlns:xlink=\"http://www.w3.org/1999/xlink\" contentScriptType=\"application/ecmascript\" contentStyleType=\"text/css\" height=\"252px\" preserveAspectRatio=\"none\" style=\"width:306px;height:252px;\" version=\"1.1\" viewBox=\"0 0 306 252\" width=\"306px\" zoomAndPan=\"magnify\"><defs/><g><!--MD5=[fbc87193dbaf4d95561dea2c320d4a47]\n",
       "cluster E1--><a href=\"psysml:70757ebb-a6cc-427a-a5fd-274a54eae870\" target=\"_top\" title=\"psysml:70757ebb-a6cc-427a-a5fd-274a54eae870\" xlink:actuate=\"onRequest\" xlink:href=\"psysml:70757ebb-a6cc-427a-a5fd-274a54eae870\" xlink:show=\"new\" xlink:title=\"psysml:70757ebb-a6cc-427a-a5fd-274a54eae870\" xlink:type=\"simple\"><polygon fill=\"#FFFFFF\" points=\"16,6,163,6,170,28.2969,284,28.2969,284,240,16,240,16,6\" style=\"stroke: #000000; stroke-width: 1.5;\"/><line style=\"stroke: #000000; stroke-width: 1.5;\" x1=\"16\" x2=\"170\" y1=\"28.2969\" y2=\"28.2969\"/><text fill=\"#000000\" font-family=\"sans-serif\" font-size=\"14\" font-weight=\"bold\" lengthAdjust=\"spacingAndGlyphs\" textLength=\"141\" x=\"20\" y=\"20.9951\">PrivateImportTest</text></a><!--MD5=[e4f7fae6ed58524ba242bb0b0d3be6b7]\n",
       "cluster E2--><a href=\"psysml:9d9a8ea7-31e0-462e-8cd1-90f7e5dc514d\" target=\"_top\" title=\"psysml:9d9a8ea7-31e0-462e-8cd1-90f7e5dc514d\" xlink:actuate=\"onRequest\" xlink:href=\"psysml:9d9a8ea7-31e0-462e-8cd1-90f7e5dc514d\" xlink:show=\"new\" xlink:title=\"psysml:9d9a8ea7-31e0-462e-8cd1-90f7e5dc514d\" xlink:type=\"simple\"><polygon fill=\"#FFFFFF\" points=\"162,119,188,119,195,141.2969,260,141.2969,260,216,162,216,162,119\" style=\"stroke: #000000; stroke-width: 1.5;\"/><line style=\"stroke: #000000; stroke-width: 1.5;\" x1=\"162\" x2=\"195\" y1=\"141.2969\" y2=\"141.2969\"/><text fill=\"#000000\" font-family=\"sans-serif\" font-size=\"14\" font-weight=\"bold\" lengthAdjust=\"spacingAndGlyphs\" textLength=\"20\" x=\"166\" y=\"133.9951\">P1</text></a><!--MD5=[14e3b0961a2654348d326746436168a1]\n",
       "cluster E6--><a href=\"psysml:e8a656ba-c51a-4d2d-932b-ea8b084af9f5\" target=\"_top\" title=\"psysml:e8a656ba-c51a-4d2d-932b-ea8b084af9f5\" xlink:actuate=\"onRequest\" xlink:href=\"psysml:e8a656ba-c51a-4d2d-932b-ea8b084af9f5\" xlink:show=\"new\" xlink:title=\"psysml:e8a656ba-c51a-4d2d-932b-ea8b084af9f5\" xlink:type=\"simple\"><polygon fill=\"#FFFFFF\" points=\"40,119,66,119,73,141.2969,138,141.2969,138,216,40,216,40,119\" style=\"stroke: #000000; stroke-width: 1.5;\"/><line style=\"stroke: #000000; stroke-width: 1.5;\" x1=\"40\" x2=\"73\" y1=\"141.2969\" y2=\"141.2969\"/><text fill=\"#000000\" font-family=\"sans-serif\" font-size=\"14\" font-weight=\"bold\" lengthAdjust=\"spacingAndGlyphs\" textLength=\"20\" x=\"44\" y=\"133.9951\">P3</text></a><!--MD5=[270fce915f116d4de14055a7c1d9a0f3]\n",
       "class E5--><a href=\"psysml:794b889b-8918-46e8-9c14-cb61e0d8a2ea\" target=\"_top\" title=\"psysml:794b889b-8918-46e8-9c14-cb61e0d8a2ea\" xlink:actuate=\"onRequest\" xlink:href=\"psysml:794b889b-8918-46e8-9c14-cb61e0d8a2ea\" xlink:show=\"new\" xlink:title=\"psysml:794b889b-8918-46e8-9c14-cb61e0d8a2ea\" xlink:type=\"simple\"><rect fill=\"#FFFFFF\" height=\"45.9375\" id=\"E5\" rx=\"10\" ry=\"10\" style=\"stroke: #383838; stroke-width: 1.5;\" width=\"42\" x=\"190\" y=\"44.5\"/><text fill=\"#000000\" font-family=\"sans-serif\" font-size=\"12\" font-style=\"italic\" lengthAdjust=\"spacingAndGlyphs\" textLength=\"40\" x=\"191\" y=\"60.6387\">«part»</text><text fill=\"#000000\" font-family=\"sans-serif\" font-size=\"12\" lengthAdjust=\"spacingAndGlyphs\" textLength=\"22\" x=\"200\" y=\"74.6074\">x: A</text><line style=\"stroke: #383838; stroke-width: 1.5;\" x1=\"191\" x2=\"231\" y1=\"82.4375\" y2=\"82.4375\"/></a><!--MD5=[b9389687b975829384b498ac4b7476b2]\n",
       "class E8--><a href=\"psysml:553a92d0-50bf-477b-b2ce-bf491dd9a415\" target=\"_top\" title=\"psysml:553a92d0-50bf-477b-b2ce-bf491dd9a415\" xlink:actuate=\"onRequest\" xlink:href=\"psysml:553a92d0-50bf-477b-b2ce-bf491dd9a415\" xlink:show=\"new\" xlink:title=\"psysml:553a92d0-50bf-477b-b2ce-bf491dd9a415\" xlink:type=\"simple\"><rect fill=\"#FFFFFF\" height=\"45.9375\" id=\"E8\" rx=\"10\" ry=\"10\" style=\"stroke: #383838; stroke-width: 1.5;\" width=\"42\" x=\"107\" y=\"44.5\"/><text fill=\"#000000\" font-family=\"sans-serif\" font-size=\"12\" font-style=\"italic\" lengthAdjust=\"spacingAndGlyphs\" textLength=\"40\" x=\"108\" y=\"60.6387\">«part»</text><text fill=\"#000000\" font-family=\"sans-serif\" font-size=\"12\" lengthAdjust=\"spacingAndGlyphs\" textLength=\"21\" x=\"117.5\" y=\"74.6074\">z: B</text><line style=\"stroke: #383838; stroke-width: 1.5;\" x1=\"108\" x2=\"148\" y1=\"82.4375\" y2=\"82.4375\"/></a><!--MD5=[09b614a08d8cba4a07c9adeb5e0fee81]\n",
       "class E3--><a href=\"psysml:6090619b-e47a-44a4-bc4e-b4be6f2f4926\" target=\"_top\" title=\"psysml:6090619b-e47a-44a4-bc4e-b4be6f2f4926\" xlink:actuate=\"onRequest\" xlink:href=\"psysml:6090619b-e47a-44a4-bc4e-b4be6f2f4926\" xlink:show=\"new\" xlink:title=\"psysml:6090619b-e47a-44a4-bc4e-b4be6f2f4926\" xlink:type=\"simple\"><rect fill=\"#FFFFFF\" height=\"45.9375\" id=\"E3\" style=\"stroke: #383838; stroke-width: 1.5;\" width=\"66\" x=\"178\" y=\"154\"/><text fill=\"#000000\" font-family=\"sans-serif\" font-size=\"12\" font-style=\"italic\" lengthAdjust=\"spacingAndGlyphs\" textLength=\"64\" x=\"179\" y=\"170.1387\">«part def»</text><text fill=\"#000000\" font-family=\"sans-serif\" font-size=\"12\" lengthAdjust=\"spacingAndGlyphs\" textLength=\"8\" x=\"207\" y=\"184.1074\">A</text><line style=\"stroke: #383838; stroke-width: 1.5;\" x1=\"179\" x2=\"243\" y1=\"191.9375\" y2=\"191.9375\"/></a><a href=\"psysml:2344491a-e19a-447d-a12e-1e886a7ea509\" target=\"_top\" title=\"psysml:2344491a-e19a-447d-a12e-1e886a7ea509\" xlink:actuate=\"onRequest\" xlink:href=\"psysml:2344491a-e19a-447d-a12e-1e886a7ea509\" xlink:show=\"new\" xlink:title=\"psysml:2344491a-e19a-447d-a12e-1e886a7ea509\" xlink:type=\"simple\"><polygon fill=\"#FFFFFF\" points=\"32,41,58,41,65,63.2969,72,63.2969,72,93.5938,32,93.5938,32,41\" style=\"stroke: #000000; stroke-width: 1.5;\"/><line style=\"stroke: #000000; stroke-width: 1.5;\" x1=\"32\" x2=\"65\" y1=\"63.2969\" y2=\"63.2969\"/><text fill=\"#000000\" font-family=\"sans-serif\" font-size=\"14\" font-weight=\"bold\" lengthAdjust=\"spacingAndGlyphs\" textLength=\"20\" x=\"36\" y=\"55.9951\">P2</text></a><!--MD5=[2156ba9850f5573cc1fc38a6a4b2f02b]\n",
       "class E7--><a href=\"psysml:9e432445-55c9-4726-a95f-4e15b991b53a\" target=\"_top\" title=\"psysml:9e432445-55c9-4726-a95f-4e15b991b53a\" xlink:actuate=\"onRequest\" xlink:href=\"psysml:9e432445-55c9-4726-a95f-4e15b991b53a\" xlink:show=\"new\" xlink:title=\"psysml:9e432445-55c9-4726-a95f-4e15b991b53a\" xlink:type=\"simple\"><rect fill=\"#FFFFFF\" height=\"45.9375\" id=\"E7\" style=\"stroke: #383838; stroke-width: 1.5;\" width=\"66\" x=\"56\" y=\"154\"/><text fill=\"#000000\" font-family=\"sans-serif\" font-size=\"12\" font-style=\"italic\" lengthAdjust=\"spacingAndGlyphs\" textLength=\"64\" x=\"57\" y=\"170.1387\">«part def»</text><text fill=\"#000000\" font-family=\"sans-serif\" font-size=\"12\" lengthAdjust=\"spacingAndGlyphs\" textLength=\"8\" x=\"85\" y=\"184.1074\">B</text><line style=\"stroke: #383838; stroke-width: 1.5;\" x1=\"57\" x2=\"121\" y1=\"191.9375\" y2=\"191.9375\"/></a><!--MD5=[e9be52314489bd878ff4c7144b63c9e1]\n",
       "link E5 to E3--><a href=\"psysml:d9b9f238-e6f4-4810-bb41-4cf78560774c\" target=\"_top\" title=\"psysml:d9b9f238-e6f4-4810-bb41-4cf78560774c\" xlink:actuate=\"onRequest\" xlink:href=\"psysml:d9b9f238-e6f4-4810-bb41-4cf78560774c\" xlink:show=\"new\" xlink:title=\"psysml:d9b9f238-e6f4-4810-bb41-4cf78560774c\" xlink:type=\"simple\"><path d=\"M211,90.51 C211,102.89 211,118.78 211,133.48 \" fill=\"none\" id=\"E5-&gt;E3\" style=\"stroke: #383838; stroke-width: 1.0;\"/><polygon fill=\"#FFFFFF\" points=\"211,153.65,204,134.65,218,134.65,211,153.65\" style=\"stroke: #383838; stroke-width: 1.0;\"/><ellipse cx=\"206\" cy=\"128.95\" fill=\"#383838\" rx=\"2\" ry=\"2\" style=\"stroke: #383838; stroke-width: 1.0;\"/><ellipse cx=\"216\" cy=\"128.95\" fill=\"#383838\" rx=\"2\" ry=\"2\" style=\"stroke: #383838; stroke-width: 1.0;\"/></a><!--MD5=[bfa3c8b0d15052fdf50ae9310b491027]\n",
       "link E8 to E7--><a href=\"psysml:a13a28be-1001-42f5-9632-37667c0baf51\" target=\"_top\" title=\"psysml:a13a28be-1001-42f5-9632-37667c0baf51\" xlink:actuate=\"onRequest\" xlink:href=\"psysml:a13a28be-1001-42f5-9632-37667c0baf51\" xlink:show=\"new\" xlink:title=\"psysml:a13a28be-1001-42f5-9632-37667c0baf51\" xlink:type=\"simple\"><path d=\"M120.01,90.51 C115.39,103.25 109.42,119.7 103.96,134.76 \" fill=\"none\" id=\"E8-&gt;E7\" style=\"stroke: #383838; stroke-width: 1.0;\"/><polygon fill=\"#FFFFFF\" points=\"97.11,153.65,97.0036,133.4018,110.1656,138.1726,97.11,153.65\" style=\"stroke: #383838; stroke-width: 1.0;\"/><ellipse cx=\"100.8262\" cy=\"128.7245\" fill=\"#383838\" rx=\"2\" ry=\"2\" style=\"stroke: #383838; stroke-width: 1.0;\"/><ellipse cx=\"110.2277\" cy=\"132.1322\" fill=\"#383838\" rx=\"2\" ry=\"2\" style=\"stroke: #383838; stroke-width: 1.0;\"/></a><!--MD5=[a16155e4d681e6442d7e4e576a67229f]\n",
       "@startuml\r\n",
       "skinparam linetype polyline\r\n",
       "skinparam monochrome true\r\n",
       "skinparam classbackgroundcolor white\r\n",
       "skinparam shadowing false\r\n",
       "skinparam wrapWidth 300\r\n",
       "hide circle\r\n",
       "\r\n",
       "package \"PrivateImportTest\" as E1  [[psysml:70757ebb-a6cc-427a-a5fd-274a54eae870 ]]  {\r\n",
       "package \"P1\" as E2  [[psysml:9d9a8ea7-31e0-462e-8cd1-90f7e5dc514d ]]  {\r\n",
       "comp def \"A\" as E3  <<(T,blue)part def>> [[psysml:6090619b-e47a-44a4-bc4e-b4be6f2f4926 ]] {\r\n",
       "}\r\n",
       "}\r\n",
       "package \"P2\" as E4  [[psysml:2344491a-e19a-447d-a12e-1e886a7ea509 ]]  {\r\n",
       "}\r\n",
       "comp usage \"x: A\" as E5  <<(T,blue)part>> [[psysml:794b889b-8918-46e8-9c14-cb61e0d8a2ea ]] {\r\n",
       "}\r\n",
       "package \"P3\" as E6  [[psysml:e8a656ba-c51a-4d2d-932b-ea8b084af9f5 ]]  {\r\n",
       "comp def \"B\" as E7  <<(T,blue)part def>> [[psysml:9e432445-55c9-4726-a95f-4e15b991b53a ]] {\r\n",
       "}\r\n",
       "E5 - -:|> E3 [[psysml:d9b9f238-e6f4-4810-bb41-4cf78560774c ]] \r\n",
       "}\r\n",
       "comp usage \"z: B\" as E8  <<(T,blue)part>> [[psysml:553a92d0-50bf-477b-b2ce-bf491dd9a415 ]] {\r\n",
       "}\r\n",
       "E8 - -:|> E7 [[psysml:a13a28be-1001-42f5-9632-37667c0baf51 ]] \r\n",
       "}\r\n",
       "@enduml\r\n",
       "\n",
       "PlantUML version 1.2020.13(Sat Jun 13 12:26:38 UTC 2020)\n",
       "(EPL source distribution)\n",
       "Java Runtime: OpenJDK Runtime Environment\n",
       "JVM: OpenJDK 64-Bit Server VM\n",
       "Default Encoding: UTF-8\n",
       "Language: en\n",
       "Country: null\n",
       "--></g></svg>"
      ]
     },
     "execution_count": 15,
     "metadata": {},
     "output_type": "execute_result"
    }
   ],
   "source": [
    "%viz --style=\"POLYLINE\" --view=\"MIXED\" \"PrivateImportTest\""
   ]
  },
  {
   "cell_type": "code",
   "execution_count": 16,
   "id": "threaded-marsh",
   "metadata": {
    "execution": {
     "iopub.execute_input": "2021-03-25T15:01:13.092997Z",
     "iopub.status.busy": "2021-03-25T15:01:13.092320Z",
     "iopub.status.idle": "2021-03-25T15:01:13.178791Z",
     "shell.execute_reply": "2021-03-25T15:01:13.177160Z"
    }
   },
   "outputs": [
    {
     "data": {
      "image/svg+xml": [
       "<?xml version=\"1.0\" encoding=\"UTF-8\" standalone=\"no\"?><svg xmlns=\"http://www.w3.org/2000/svg\" xmlns:xlink=\"http://www.w3.org/1999/xlink\" contentScriptType=\"application/ecmascript\" contentStyleType=\"text/css\" height=\"303px\" preserveAspectRatio=\"none\" style=\"width:262px;height:303px;\" version=\"1.1\" viewBox=\"0 0 262 303\" width=\"262px\" zoomAndPan=\"magnify\"><defs/><g><!--MD5=[fbc87193dbaf4d95561dea2c320d4a47]\n",
       "cluster E1--><a href=\"psysml:70757ebb-a6cc-427a-a5fd-274a54eae870\" target=\"_top\" title=\"psysml:70757ebb-a6cc-427a-a5fd-274a54eae870\" xlink:actuate=\"onRequest\" xlink:href=\"psysml:70757ebb-a6cc-427a-a5fd-274a54eae870\" xlink:show=\"new\" xlink:title=\"psysml:70757ebb-a6cc-427a-a5fd-274a54eae870\" xlink:type=\"simple\"><polygon fill=\"#FFFFFF\" points=\"16,6,163,6,170,28.2969,240,28.2969,240,291,16,291,16,6\" style=\"stroke: #000000; stroke-width: 1.5;\"/><line style=\"stroke: #000000; stroke-width: 1.5;\" x1=\"16\" x2=\"170\" y1=\"28.2969\" y2=\"28.2969\"/><text fill=\"#000000\" font-family=\"sans-serif\" font-size=\"14\" font-weight=\"bold\" lengthAdjust=\"spacingAndGlyphs\" textLength=\"141\" x=\"20\" y=\"20.9951\">PrivateImportTest</text></a><!--MD5=[e4f7fae6ed58524ba242bb0b0d3be6b7]\n",
       "cluster E2--><a href=\"psysml:9d9a8ea7-31e0-462e-8cd1-90f7e5dc514d\" target=\"_top\" title=\"psysml:9d9a8ea7-31e0-462e-8cd1-90f7e5dc514d\" xlink:actuate=\"onRequest\" xlink:href=\"psysml:9d9a8ea7-31e0-462e-8cd1-90f7e5dc514d\" xlink:show=\"new\" xlink:title=\"psysml:9d9a8ea7-31e0-462e-8cd1-90f7e5dc514d\" xlink:type=\"simple\"><polygon fill=\"#FFFFFF\" points=\"118,49,144,49,151,71.2969,216,71.2969,216,146,118,146,118,49\" style=\"stroke: #000000; stroke-width: 1.5;\"/><line style=\"stroke: #000000; stroke-width: 1.5;\" x1=\"118\" x2=\"151\" y1=\"71.2969\" y2=\"71.2969\"/><text fill=\"#000000\" font-family=\"sans-serif\" font-size=\"14\" font-weight=\"bold\" lengthAdjust=\"spacingAndGlyphs\" textLength=\"20\" x=\"122\" y=\"63.9951\">P1</text></a><!--MD5=[14e3b0961a2654348d326746436168a1]\n",
       "cluster E6--><a href=\"psysml:e8a656ba-c51a-4d2d-932b-ea8b084af9f5\" target=\"_top\" title=\"psysml:e8a656ba-c51a-4d2d-932b-ea8b084af9f5\" xlink:actuate=\"onRequest\" xlink:href=\"psysml:e8a656ba-c51a-4d2d-932b-ea8b084af9f5\" xlink:show=\"new\" xlink:title=\"psysml:e8a656ba-c51a-4d2d-932b-ea8b084af9f5\" xlink:type=\"simple\"><polygon fill=\"#FFFFFF\" points=\"118,170,144,170,151,192.2969,216,192.2969,216,267,118,267,118,170\" style=\"stroke: #000000; stroke-width: 1.5;\"/><line style=\"stroke: #000000; stroke-width: 1.5;\" x1=\"118\" x2=\"151\" y1=\"192.2969\" y2=\"192.2969\"/><text fill=\"#000000\" font-family=\"sans-serif\" font-size=\"14\" font-weight=\"bold\" lengthAdjust=\"spacingAndGlyphs\" textLength=\"20\" x=\"122\" y=\"184.9951\">P3</text></a><!--MD5=[270fce915f116d4de14055a7c1d9a0f3]\n",
       "class E5--><a href=\"psysml:794b889b-8918-46e8-9c14-cb61e0d8a2ea\" target=\"_top\" title=\"psysml:794b889b-8918-46e8-9c14-cb61e0d8a2ea\" xlink:actuate=\"onRequest\" xlink:href=\"psysml:794b889b-8918-46e8-9c14-cb61e0d8a2ea\" xlink:show=\"new\" xlink:title=\"psysml:794b889b-8918-46e8-9c14-cb61e0d8a2ea\" xlink:type=\"simple\"><rect fill=\"#FFFFFF\" height=\"45.9375\" id=\"E5\" rx=\"10\" ry=\"10\" style=\"stroke: #383838; stroke-width: 1.5;\" width=\"42\" x=\"32\" y=\"59\"/><text fill=\"#000000\" font-family=\"sans-serif\" font-size=\"12\" font-style=\"italic\" lengthAdjust=\"spacingAndGlyphs\" textLength=\"40\" x=\"33\" y=\"75.1387\">«part»</text><text fill=\"#000000\" font-family=\"sans-serif\" font-size=\"12\" lengthAdjust=\"spacingAndGlyphs\" textLength=\"22\" x=\"42\" y=\"89.1074\">x: A</text><line style=\"stroke: #383838; stroke-width: 1.5;\" x1=\"33\" x2=\"73\" y1=\"96.9375\" y2=\"96.9375\"/></a><!--MD5=[b9389687b975829384b498ac4b7476b2]\n",
       "class E8--><a href=\"psysml:553a92d0-50bf-477b-b2ce-bf491dd9a415\" target=\"_top\" title=\"psysml:553a92d0-50bf-477b-b2ce-bf491dd9a415\" xlink:actuate=\"onRequest\" xlink:href=\"psysml:553a92d0-50bf-477b-b2ce-bf491dd9a415\" xlink:show=\"new\" xlink:title=\"psysml:553a92d0-50bf-477b-b2ce-bf491dd9a415\" xlink:type=\"simple\"><rect fill=\"#FFFFFF\" height=\"45.9375\" id=\"E8\" rx=\"10\" ry=\"10\" style=\"stroke: #383838; stroke-width: 1.5;\" width=\"42\" x=\"32\" y=\"140\"/><text fill=\"#000000\" font-family=\"sans-serif\" font-size=\"12\" font-style=\"italic\" lengthAdjust=\"spacingAndGlyphs\" textLength=\"40\" x=\"33\" y=\"156.1387\">«part»</text><text fill=\"#000000\" font-family=\"sans-serif\" font-size=\"12\" lengthAdjust=\"spacingAndGlyphs\" textLength=\"21\" x=\"42.5\" y=\"170.1074\">z: B</text><line style=\"stroke: #383838; stroke-width: 1.5;\" x1=\"33\" x2=\"73\" y1=\"177.9375\" y2=\"177.9375\"/></a><!--MD5=[09b614a08d8cba4a07c9adeb5e0fee81]\n",
       "class E3--><a href=\"psysml:6090619b-e47a-44a4-bc4e-b4be6f2f4926\" target=\"_top\" title=\"psysml:6090619b-e47a-44a4-bc4e-b4be6f2f4926\" xlink:actuate=\"onRequest\" xlink:href=\"psysml:6090619b-e47a-44a4-bc4e-b4be6f2f4926\" xlink:show=\"new\" xlink:title=\"psysml:6090619b-e47a-44a4-bc4e-b4be6f2f4926\" xlink:type=\"simple\"><rect fill=\"#FFFFFF\" height=\"45.9375\" id=\"E3\" style=\"stroke: #383838; stroke-width: 1.5;\" width=\"66\" x=\"134\" y=\"84\"/><text fill=\"#000000\" font-family=\"sans-serif\" font-size=\"12\" font-style=\"italic\" lengthAdjust=\"spacingAndGlyphs\" textLength=\"64\" x=\"135\" y=\"100.1387\">«part def»</text><text fill=\"#000000\" font-family=\"sans-serif\" font-size=\"12\" lengthAdjust=\"spacingAndGlyphs\" textLength=\"8\" x=\"163\" y=\"114.1074\">A</text><line style=\"stroke: #383838; stroke-width: 1.5;\" x1=\"135\" x2=\"199\" y1=\"121.9375\" y2=\"121.9375\"/></a><a href=\"psysml:2344491a-e19a-447d-a12e-1e886a7ea509\" target=\"_top\" title=\"psysml:2344491a-e19a-447d-a12e-1e886a7ea509\" xlink:actuate=\"onRequest\" xlink:href=\"psysml:2344491a-e19a-447d-a12e-1e886a7ea509\" xlink:show=\"new\" xlink:title=\"psysml:2344491a-e19a-447d-a12e-1e886a7ea509\" xlink:type=\"simple\"><polygon fill=\"#FFFFFF\" points=\"33,221.5,59,221.5,66,243.7969,73,243.7969,73,274.0938,33,274.0938,33,221.5\" style=\"stroke: #000000; stroke-width: 1.5;\"/><line style=\"stroke: #000000; stroke-width: 1.5;\" x1=\"33\" x2=\"66\" y1=\"243.7969\" y2=\"243.7969\"/><text fill=\"#000000\" font-family=\"sans-serif\" font-size=\"14\" font-weight=\"bold\" lengthAdjust=\"spacingAndGlyphs\" textLength=\"20\" x=\"37\" y=\"236.4951\">P2</text></a><!--MD5=[2156ba9850f5573cc1fc38a6a4b2f02b]\n",
       "class E7--><a href=\"psysml:9e432445-55c9-4726-a95f-4e15b991b53a\" target=\"_top\" title=\"psysml:9e432445-55c9-4726-a95f-4e15b991b53a\" xlink:actuate=\"onRequest\" xlink:href=\"psysml:9e432445-55c9-4726-a95f-4e15b991b53a\" xlink:show=\"new\" xlink:title=\"psysml:9e432445-55c9-4726-a95f-4e15b991b53a\" xlink:type=\"simple\"><rect fill=\"#FFFFFF\" height=\"45.9375\" id=\"E7\" style=\"stroke: #383838; stroke-width: 1.5;\" width=\"66\" x=\"134\" y=\"205\"/><text fill=\"#000000\" font-family=\"sans-serif\" font-size=\"12\" font-style=\"italic\" lengthAdjust=\"spacingAndGlyphs\" textLength=\"64\" x=\"135\" y=\"221.1387\">«part def»</text><text fill=\"#000000\" font-family=\"sans-serif\" font-size=\"12\" lengthAdjust=\"spacingAndGlyphs\" textLength=\"8\" x=\"163\" y=\"235.1074\">B</text><line style=\"stroke: #383838; stroke-width: 1.5;\" x1=\"135\" x2=\"199\" y1=\"242.9375\" y2=\"242.9375\"/></a><!--MD5=[e9be52314489bd878ff4c7144b63c9e1]\n",
       "link E5 to E3--><a href=\"psysml:d9b9f238-e6f4-4810-bb41-4cf78560774c\" target=\"_top\" title=\"psysml:d9b9f238-e6f4-4810-bb41-4cf78560774c\" xlink:actuate=\"onRequest\" xlink:href=\"psysml:d9b9f238-e6f4-4810-bb41-4cf78560774c\" xlink:show=\"new\" xlink:title=\"psysml:d9b9f238-e6f4-4810-bb41-4cf78560774c\" xlink:type=\"simple\"><path d=\"M74.02,86.47 C85.31,88.99 99.99,92.27 114.29,95.46 \" fill=\"none\" id=\"E5-&gt;E3\" style=\"stroke: #383838; stroke-width: 1.0;\"/><polygon fill=\"#FFFFFF\" points=\"133.86,99.83,113.7912,102.5214,116.842,88.8579,133.86,99.83\" style=\"stroke: #383838; stroke-width: 1.0;\"/><ellipse cx=\"108.664\" cy=\"99.3274\" fill=\"#383838\" rx=\"2\" ry=\"2\" style=\"stroke: #383838; stroke-width: 1.0;\"/><ellipse cx=\"110.8432\" cy=\"89.5677\" fill=\"#383838\" rx=\"2\" ry=\"2\" style=\"stroke: #383838; stroke-width: 1.0;\"/></a><!--MD5=[bfa3c8b0d15052fdf50ae9310b491027]\n",
       "link E8 to E7--><a href=\"psysml:a13a28be-1001-42f5-9632-37667c0baf51\" target=\"_top\" title=\"psysml:a13a28be-1001-42f5-9632-37667c0baf51\" xlink:actuate=\"onRequest\" xlink:href=\"psysml:a13a28be-1001-42f5-9632-37667c0baf51\" xlink:show=\"new\" xlink:title=\"psysml:a13a28be-1001-42f5-9632-37667c0baf51\" xlink:type=\"simple\"><path d=\"M74.02,174.62 C85.83,181.47 101.34,190.48 116.26,199.13 \" fill=\"none\" id=\"E8-&gt;E7\" style=\"stroke: #383838; stroke-width: 1.0;\"/><polygon fill=\"#FFFFFF\" points=\"133.86,209.35,113.9116,205.8773,120.9328,193.7652,133.86,209.35\" style=\"stroke: #383838; stroke-width: 1.0;\"/><ellipse cx=\"109.9832\" cy=\"201.2883\" fill=\"#383838\" rx=\"2\" ry=\"2\" style=\"stroke: #383838; stroke-width: 1.0;\"/><ellipse cx=\"114.9984\" cy=\"192.6368\" fill=\"#383838\" rx=\"2\" ry=\"2\" style=\"stroke: #383838; stroke-width: 1.0;\"/></a><!--MD5=[0e4438f48ba463be9299352426700b98]\n",
       "@startuml\r\n",
       "left to right direction\r\n",
       "skinparam monochrome true\r\n",
       "skinparam classbackgroundcolor white\r\n",
       "skinparam shadowing false\r\n",
       "skinparam wrapWidth 300\r\n",
       "hide circle\r\n",
       "\r\n",
       "package \"PrivateImportTest\" as E1  [[psysml:70757ebb-a6cc-427a-a5fd-274a54eae870 ]]  {\r\n",
       "package \"P1\" as E2  [[psysml:9d9a8ea7-31e0-462e-8cd1-90f7e5dc514d ]]  {\r\n",
       "comp def \"A\" as E3  <<(T,blue)part def>> [[psysml:6090619b-e47a-44a4-bc4e-b4be6f2f4926 ]] {\r\n",
       "}\r\n",
       "}\r\n",
       "package \"P2\" as E4  [[psysml:2344491a-e19a-447d-a12e-1e886a7ea509 ]]  {\r\n",
       "}\r\n",
       "comp usage \"x: A\" as E5  <<(T,blue)part>> [[psysml:794b889b-8918-46e8-9c14-cb61e0d8a2ea ]] {\r\n",
       "}\r\n",
       "package \"P3\" as E6  [[psysml:e8a656ba-c51a-4d2d-932b-ea8b084af9f5 ]]  {\r\n",
       "comp def \"B\" as E7  <<(T,blue)part def>> [[psysml:9e432445-55c9-4726-a95f-4e15b991b53a ]] {\r\n",
       "}\r\n",
       "E5 - -:|> E3 [[psysml:d9b9f238-e6f4-4810-bb41-4cf78560774c ]] \r\n",
       "}\r\n",
       "comp usage \"z: B\" as E8  <<(T,blue)part>> [[psysml:553a92d0-50bf-477b-b2ce-bf491dd9a415 ]] {\r\n",
       "}\r\n",
       "E8 - -:|> E7 [[psysml:a13a28be-1001-42f5-9632-37667c0baf51 ]] \r\n",
       "}\r\n",
       "@enduml\r\n",
       "\n",
       "PlantUML version 1.2020.13(Sat Jun 13 12:26:38 UTC 2020)\n",
       "(EPL source distribution)\n",
       "Java Runtime: OpenJDK Runtime Environment\n",
       "JVM: OpenJDK 64-Bit Server VM\n",
       "Default Encoding: UTF-8\n",
       "Language: en\n",
       "Country: null\n",
       "--></g></svg>"
      ]
     },
     "execution_count": 16,
     "metadata": {},
     "output_type": "execute_result"
    }
   ],
   "source": [
    "%viz --style=\"LR\" --view=\"Default\" \"PrivateImportTest\""
   ]
  },
  {
   "cell_type": "code",
   "execution_count": 17,
   "id": "greek-carbon",
   "metadata": {
    "execution": {
     "iopub.execute_input": "2021-03-25T15:01:13.229097Z",
     "iopub.status.busy": "2021-03-25T15:01:13.228681Z",
     "iopub.status.idle": "2021-03-25T15:01:13.324735Z",
     "shell.execute_reply": "2021-03-25T15:01:13.322867Z"
    }
   },
   "outputs": [
    {
     "data": {
      "image/svg+xml": [
       "<?xml version=\"1.0\" encoding=\"UTF-8\" standalone=\"no\"?><svg xmlns=\"http://www.w3.org/2000/svg\" xmlns:xlink=\"http://www.w3.org/1999/xlink\" contentScriptType=\"application/ecmascript\" contentStyleType=\"text/css\" height=\"303px\" preserveAspectRatio=\"none\" style=\"width:262px;height:303px;\" version=\"1.1\" viewBox=\"0 0 262 303\" width=\"262px\" zoomAndPan=\"magnify\"><defs/><g><!--MD5=[fbc87193dbaf4d95561dea2c320d4a47]\n",
       "cluster E1--><a href=\"psysml:70757ebb-a6cc-427a-a5fd-274a54eae870\" target=\"_top\" title=\"psysml:70757ebb-a6cc-427a-a5fd-274a54eae870\" xlink:actuate=\"onRequest\" xlink:href=\"psysml:70757ebb-a6cc-427a-a5fd-274a54eae870\" xlink:show=\"new\" xlink:title=\"psysml:70757ebb-a6cc-427a-a5fd-274a54eae870\" xlink:type=\"simple\"><polygon fill=\"#FFFFFF\" points=\"16,6,163,6,170,28.2969,240,28.2969,240,291,16,291,16,6\" style=\"stroke: #000000; stroke-width: 1.5;\"/><line style=\"stroke: #000000; stroke-width: 1.5;\" x1=\"16\" x2=\"170\" y1=\"28.2969\" y2=\"28.2969\"/><text fill=\"#000000\" font-family=\"sans-serif\" font-size=\"14\" font-weight=\"bold\" lengthAdjust=\"spacingAndGlyphs\" textLength=\"141\" x=\"20\" y=\"20.9951\">PrivateImportTest</text></a><!--MD5=[e4f7fae6ed58524ba242bb0b0d3be6b7]\n",
       "cluster E2--><a href=\"psysml:9d9a8ea7-31e0-462e-8cd1-90f7e5dc514d\" target=\"_top\" title=\"psysml:9d9a8ea7-31e0-462e-8cd1-90f7e5dc514d\" xlink:actuate=\"onRequest\" xlink:href=\"psysml:9d9a8ea7-31e0-462e-8cd1-90f7e5dc514d\" xlink:show=\"new\" xlink:title=\"psysml:9d9a8ea7-31e0-462e-8cd1-90f7e5dc514d\" xlink:type=\"simple\"><polygon fill=\"#FFFFFF\" points=\"118,49,144,49,151,71.2969,216,71.2969,216,146,118,146,118,49\" style=\"stroke: #000000; stroke-width: 1.5;\"/><line style=\"stroke: #000000; stroke-width: 1.5;\" x1=\"118\" x2=\"151\" y1=\"71.2969\" y2=\"71.2969\"/><text fill=\"#000000\" font-family=\"sans-serif\" font-size=\"14\" font-weight=\"bold\" lengthAdjust=\"spacingAndGlyphs\" textLength=\"20\" x=\"122\" y=\"63.9951\">P1</text></a><!--MD5=[14e3b0961a2654348d326746436168a1]\n",
       "cluster E6--><a href=\"psysml:e8a656ba-c51a-4d2d-932b-ea8b084af9f5\" target=\"_top\" title=\"psysml:e8a656ba-c51a-4d2d-932b-ea8b084af9f5\" xlink:actuate=\"onRequest\" xlink:href=\"psysml:e8a656ba-c51a-4d2d-932b-ea8b084af9f5\" xlink:show=\"new\" xlink:title=\"psysml:e8a656ba-c51a-4d2d-932b-ea8b084af9f5\" xlink:type=\"simple\"><polygon fill=\"#FFFFFF\" points=\"118,170,144,170,151,192.2969,216,192.2969,216,267,118,267,118,170\" style=\"stroke: #000000; stroke-width: 1.5;\"/><line style=\"stroke: #000000; stroke-width: 1.5;\" x1=\"118\" x2=\"151\" y1=\"192.2969\" y2=\"192.2969\"/><text fill=\"#000000\" font-family=\"sans-serif\" font-size=\"14\" font-weight=\"bold\" lengthAdjust=\"spacingAndGlyphs\" textLength=\"20\" x=\"122\" y=\"184.9951\">P3</text></a><!--MD5=[270fce915f116d4de14055a7c1d9a0f3]\n",
       "class E5--><a href=\"psysml:794b889b-8918-46e8-9c14-cb61e0d8a2ea\" target=\"_top\" title=\"psysml:794b889b-8918-46e8-9c14-cb61e0d8a2ea\" xlink:actuate=\"onRequest\" xlink:href=\"psysml:794b889b-8918-46e8-9c14-cb61e0d8a2ea\" xlink:show=\"new\" xlink:title=\"psysml:794b889b-8918-46e8-9c14-cb61e0d8a2ea\" xlink:type=\"simple\"><rect fill=\"#FFFFFF\" height=\"45.9375\" id=\"E5\" rx=\"10\" ry=\"10\" style=\"stroke: #383838; stroke-width: 1.5;\" width=\"42\" x=\"32\" y=\"59\"/><text fill=\"#000000\" font-family=\"sans-serif\" font-size=\"12\" font-style=\"italic\" lengthAdjust=\"spacingAndGlyphs\" textLength=\"40\" x=\"33\" y=\"75.1387\">«part»</text><text fill=\"#000000\" font-family=\"sans-serif\" font-size=\"12\" lengthAdjust=\"spacingAndGlyphs\" textLength=\"22\" x=\"42\" y=\"89.1074\">x: A</text><line style=\"stroke: #383838; stroke-width: 1.5;\" x1=\"33\" x2=\"73\" y1=\"96.9375\" y2=\"96.9375\"/></a><!--MD5=[b9389687b975829384b498ac4b7476b2]\n",
       "class E8--><a href=\"psysml:553a92d0-50bf-477b-b2ce-bf491dd9a415\" target=\"_top\" title=\"psysml:553a92d0-50bf-477b-b2ce-bf491dd9a415\" xlink:actuate=\"onRequest\" xlink:href=\"psysml:553a92d0-50bf-477b-b2ce-bf491dd9a415\" xlink:show=\"new\" xlink:title=\"psysml:553a92d0-50bf-477b-b2ce-bf491dd9a415\" xlink:type=\"simple\"><rect fill=\"#FFFFFF\" height=\"45.9375\" id=\"E8\" rx=\"10\" ry=\"10\" style=\"stroke: #383838; stroke-width: 1.5;\" width=\"42\" x=\"32\" y=\"140\"/><text fill=\"#000000\" font-family=\"sans-serif\" font-size=\"12\" font-style=\"italic\" lengthAdjust=\"spacingAndGlyphs\" textLength=\"40\" x=\"33\" y=\"156.1387\">«part»</text><text fill=\"#000000\" font-family=\"sans-serif\" font-size=\"12\" lengthAdjust=\"spacingAndGlyphs\" textLength=\"21\" x=\"42.5\" y=\"170.1074\">z: B</text><line style=\"stroke: #383838; stroke-width: 1.5;\" x1=\"33\" x2=\"73\" y1=\"177.9375\" y2=\"177.9375\"/></a><!--MD5=[09b614a08d8cba4a07c9adeb5e0fee81]\n",
       "class E3--><a href=\"psysml:6090619b-e47a-44a4-bc4e-b4be6f2f4926\" target=\"_top\" title=\"psysml:6090619b-e47a-44a4-bc4e-b4be6f2f4926\" xlink:actuate=\"onRequest\" xlink:href=\"psysml:6090619b-e47a-44a4-bc4e-b4be6f2f4926\" xlink:show=\"new\" xlink:title=\"psysml:6090619b-e47a-44a4-bc4e-b4be6f2f4926\" xlink:type=\"simple\"><rect fill=\"#FFFFFF\" height=\"45.9375\" id=\"E3\" style=\"stroke: #383838; stroke-width: 1.5;\" width=\"66\" x=\"134\" y=\"84\"/><text fill=\"#000000\" font-family=\"sans-serif\" font-size=\"12\" font-style=\"italic\" lengthAdjust=\"spacingAndGlyphs\" textLength=\"64\" x=\"135\" y=\"100.1387\">«part def»</text><text fill=\"#000000\" font-family=\"sans-serif\" font-size=\"12\" lengthAdjust=\"spacingAndGlyphs\" textLength=\"8\" x=\"163\" y=\"114.1074\">A</text><line style=\"stroke: #383838; stroke-width: 1.5;\" x1=\"135\" x2=\"199\" y1=\"121.9375\" y2=\"121.9375\"/></a><a href=\"psysml:2344491a-e19a-447d-a12e-1e886a7ea509\" target=\"_top\" title=\"psysml:2344491a-e19a-447d-a12e-1e886a7ea509\" xlink:actuate=\"onRequest\" xlink:href=\"psysml:2344491a-e19a-447d-a12e-1e886a7ea509\" xlink:show=\"new\" xlink:title=\"psysml:2344491a-e19a-447d-a12e-1e886a7ea509\" xlink:type=\"simple\"><polygon fill=\"#FFFFFF\" points=\"33,221.5,59,221.5,66,243.7969,73,243.7969,73,274.0938,33,274.0938,33,221.5\" style=\"stroke: #000000; stroke-width: 1.5;\"/><line style=\"stroke: #000000; stroke-width: 1.5;\" x1=\"33\" x2=\"66\" y1=\"243.7969\" y2=\"243.7969\"/><text fill=\"#000000\" font-family=\"sans-serif\" font-size=\"14\" font-weight=\"bold\" lengthAdjust=\"spacingAndGlyphs\" textLength=\"20\" x=\"37\" y=\"236.4951\">P2</text></a><!--MD5=[2156ba9850f5573cc1fc38a6a4b2f02b]\n",
       "class E7--><a href=\"psysml:9e432445-55c9-4726-a95f-4e15b991b53a\" target=\"_top\" title=\"psysml:9e432445-55c9-4726-a95f-4e15b991b53a\" xlink:actuate=\"onRequest\" xlink:href=\"psysml:9e432445-55c9-4726-a95f-4e15b991b53a\" xlink:show=\"new\" xlink:title=\"psysml:9e432445-55c9-4726-a95f-4e15b991b53a\" xlink:type=\"simple\"><rect fill=\"#FFFFFF\" height=\"45.9375\" id=\"E7\" style=\"stroke: #383838; stroke-width: 1.5;\" width=\"66\" x=\"134\" y=\"205\"/><text fill=\"#000000\" font-family=\"sans-serif\" font-size=\"12\" font-style=\"italic\" lengthAdjust=\"spacingAndGlyphs\" textLength=\"64\" x=\"135\" y=\"221.1387\">«part def»</text><text fill=\"#000000\" font-family=\"sans-serif\" font-size=\"12\" lengthAdjust=\"spacingAndGlyphs\" textLength=\"8\" x=\"163\" y=\"235.1074\">B</text><line style=\"stroke: #383838; stroke-width: 1.5;\" x1=\"135\" x2=\"199\" y1=\"242.9375\" y2=\"242.9375\"/></a><!--MD5=[e9be52314489bd878ff4c7144b63c9e1]\n",
       "link E5 to E3--><a href=\"psysml:d9b9f238-e6f4-4810-bb41-4cf78560774c\" target=\"_top\" title=\"psysml:d9b9f238-e6f4-4810-bb41-4cf78560774c\" xlink:actuate=\"onRequest\" xlink:href=\"psysml:d9b9f238-e6f4-4810-bb41-4cf78560774c\" xlink:show=\"new\" xlink:title=\"psysml:d9b9f238-e6f4-4810-bb41-4cf78560774c\" xlink:type=\"simple\"><path d=\"M74.02,86.47 C85.31,88.99 99.99,92.27 114.29,95.46 \" fill=\"none\" id=\"E5-&gt;E3\" style=\"stroke: #383838; stroke-width: 1.0;\"/><polygon fill=\"#FFFFFF\" points=\"133.86,99.83,113.7912,102.5214,116.842,88.8579,133.86,99.83\" style=\"stroke: #383838; stroke-width: 1.0;\"/><ellipse cx=\"108.664\" cy=\"99.3274\" fill=\"#383838\" rx=\"2\" ry=\"2\" style=\"stroke: #383838; stroke-width: 1.0;\"/><ellipse cx=\"110.8432\" cy=\"89.5677\" fill=\"#383838\" rx=\"2\" ry=\"2\" style=\"stroke: #383838; stroke-width: 1.0;\"/></a><!--MD5=[bfa3c8b0d15052fdf50ae9310b491027]\n",
       "link E8 to E7--><a href=\"psysml:a13a28be-1001-42f5-9632-37667c0baf51\" target=\"_top\" title=\"psysml:a13a28be-1001-42f5-9632-37667c0baf51\" xlink:actuate=\"onRequest\" xlink:href=\"psysml:a13a28be-1001-42f5-9632-37667c0baf51\" xlink:show=\"new\" xlink:title=\"psysml:a13a28be-1001-42f5-9632-37667c0baf51\" xlink:type=\"simple\"><path d=\"M74.02,174.62 C85.83,181.47 101.34,190.48 116.26,199.13 \" fill=\"none\" id=\"E8-&gt;E7\" style=\"stroke: #383838; stroke-width: 1.0;\"/><polygon fill=\"#FFFFFF\" points=\"133.86,209.35,113.9116,205.8773,120.9328,193.7652,133.86,209.35\" style=\"stroke: #383838; stroke-width: 1.0;\"/><ellipse cx=\"109.9832\" cy=\"201.2883\" fill=\"#383838\" rx=\"2\" ry=\"2\" style=\"stroke: #383838; stroke-width: 1.0;\"/><ellipse cx=\"114.9984\" cy=\"192.6368\" fill=\"#383838\" rx=\"2\" ry=\"2\" style=\"stroke: #383838; stroke-width: 1.0;\"/></a><!--MD5=[0e4438f48ba463be9299352426700b98]\n",
       "@startuml\r\n",
       "left to right direction\r\n",
       "skinparam monochrome true\r\n",
       "skinparam classbackgroundcolor white\r\n",
       "skinparam shadowing false\r\n",
       "skinparam wrapWidth 300\r\n",
       "hide circle\r\n",
       "\r\n",
       "package \"PrivateImportTest\" as E1  [[psysml:70757ebb-a6cc-427a-a5fd-274a54eae870 ]]  {\r\n",
       "package \"P1\" as E2  [[psysml:9d9a8ea7-31e0-462e-8cd1-90f7e5dc514d ]]  {\r\n",
       "comp def \"A\" as E3  <<(T,blue)part def>> [[psysml:6090619b-e47a-44a4-bc4e-b4be6f2f4926 ]] {\r\n",
       "}\r\n",
       "}\r\n",
       "package \"P2\" as E4  [[psysml:2344491a-e19a-447d-a12e-1e886a7ea509 ]]  {\r\n",
       "}\r\n",
       "comp usage \"x: A\" as E5  <<(T,blue)part>> [[psysml:794b889b-8918-46e8-9c14-cb61e0d8a2ea ]] {\r\n",
       "}\r\n",
       "package \"P3\" as E6  [[psysml:e8a656ba-c51a-4d2d-932b-ea8b084af9f5 ]]  {\r\n",
       "comp def \"B\" as E7  <<(T,blue)part def>> [[psysml:9e432445-55c9-4726-a95f-4e15b991b53a ]] {\r\n",
       "}\r\n",
       "E5 - -:|> E3 [[psysml:d9b9f238-e6f4-4810-bb41-4cf78560774c ]] \r\n",
       "}\r\n",
       "comp usage \"z: B\" as E8  <<(T,blue)part>> [[psysml:553a92d0-50bf-477b-b2ce-bf491dd9a415 ]] {\r\n",
       "}\r\n",
       "E8 - -:|> E7 [[psysml:a13a28be-1001-42f5-9632-37667c0baf51 ]] \r\n",
       "}\r\n",
       "@enduml\r\n",
       "\n",
       "PlantUML version 1.2020.13(Sat Jun 13 12:26:38 UTC 2020)\n",
       "(EPL source distribution)\n",
       "Java Runtime: OpenJDK Runtime Environment\n",
       "JVM: OpenJDK 64-Bit Server VM\n",
       "Default Encoding: UTF-8\n",
       "Language: en\n",
       "Country: null\n",
       "--></g></svg>"
      ]
     },
     "execution_count": 17,
     "metadata": {},
     "output_type": "execute_result"
    }
   ],
   "source": [
    "%viz --style=\"LR\" --view=\"Tree\" \"PrivateImportTest\""
   ]
  },
  {
   "cell_type": "code",
   "execution_count": 18,
   "id": "anonymous-portal",
   "metadata": {
    "execution": {
     "iopub.execute_input": "2021-03-25T15:01:13.374682Z",
     "iopub.status.busy": "2021-03-25T15:01:13.373862Z",
     "iopub.status.idle": "2021-03-25T15:01:13.384764Z",
     "shell.execute_reply": "2021-03-25T15:01:13.384337Z"
    }
   },
   "outputs": [
    {
     "data": {
      "image/svg+xml": [
       "<?xml version=\"1.0\" encoding=\"UTF-8\" standalone=\"no\"?><svg xmlns=\"http://www.w3.org/2000/svg\" xmlns:xlink=\"http://www.w3.org/1999/xlink\" contentScriptType=\"application/ecmascript\" contentStyleType=\"text/css\" height=\"12px\" preserveAspectRatio=\"none\" style=\"width:12px;height:12px;\" version=\"1.1\" viewBox=\"0 0 12 12\" width=\"12px\" zoomAndPan=\"magnify\"><defs/><g><!--MD5=[19d285c9d72a204eba4e2cd117d745e8]\n",
       "@startuml\r\n",
       "left to right direction\r\n",
       "skinparam monochrome true\r\n",
       "skinparam classbackgroundcolor white\r\n",
       "skinparam shadowing false\r\n",
       "skinparam wrapWidth 300\r\n",
       "hide circle\r\n",
       "\r\n",
       "@enduml\r\n",
       "\n",
       "PlantUML version 1.2020.13(Sat Jun 13 12:26:38 UTC 2020)\n",
       "(EPL source distribution)\n",
       "Java Runtime: OpenJDK Runtime Environment\n",
       "JVM: OpenJDK 64-Bit Server VM\n",
       "Default Encoding: UTF-8\n",
       "Language: en\n",
       "Country: null\n",
       "--></g></svg>"
      ]
     },
     "execution_count": 18,
     "metadata": {},
     "output_type": "execute_result"
    }
   ],
   "source": [
    "%viz --style=\"LR\" --view=\"State\" \"PrivateImportTest\""
   ]
  },
  {
   "cell_type": "code",
   "execution_count": 19,
   "id": "appreciated-preparation",
   "metadata": {
    "execution": {
     "iopub.execute_input": "2021-03-25T15:01:13.433366Z",
     "iopub.status.busy": "2021-03-25T15:01:13.432568Z",
     "iopub.status.idle": "2021-03-25T15:01:13.523139Z",
     "shell.execute_reply": "2021-03-25T15:01:13.524589Z"
    }
   },
   "outputs": [
    {
     "data": {
      "image/svg+xml": [
       "<?xml version=\"1.0\" encoding=\"UTF-8\" standalone=\"no\"?><svg xmlns=\"http://www.w3.org/2000/svg\" xmlns:xlink=\"http://www.w3.org/1999/xlink\" contentScriptType=\"application/ecmascript\" contentStyleType=\"text/css\" height=\"513px\" preserveAspectRatio=\"none\" style=\"width:195px;height:513px;\" version=\"1.1\" viewBox=\"0 0 195 513\" width=\"195px\" zoomAndPan=\"magnify\"><defs/><g><!--MD5=[fbc87193dbaf4d95561dea2c320d4a47]\n",
       "cluster E1--><a href=\"psysml:70757ebb-a6cc-427a-a5fd-274a54eae870\" target=\"_top\" title=\"psysml:70757ebb-a6cc-427a-a5fd-274a54eae870\" xlink:actuate=\"onRequest\" xlink:href=\"psysml:70757ebb-a6cc-427a-a5fd-274a54eae870\" xlink:show=\"new\" xlink:title=\"psysml:70757ebb-a6cc-427a-a5fd-274a54eae870\" xlink:type=\"simple\"><polygon fill=\"#FFFFFF\" points=\"16,6,163,6,170,28.2969,173,28.2969,173,501,16,501,16,6\" style=\"stroke: #000000; stroke-width: 1.5;\"/><line style=\"stroke: #000000; stroke-width: 1.5;\" x1=\"16\" x2=\"170\" y1=\"28.2969\" y2=\"28.2969\"/><text fill=\"#000000\" font-family=\"sans-serif\" font-size=\"14\" font-weight=\"bold\" lengthAdjust=\"spacingAndGlyphs\" textLength=\"141\" x=\"20\" y=\"20.9951\">PrivateImportTest</text></a><!--MD5=[e4f7fae6ed58524ba242bb0b0d3be6b7]\n",
       "cluster E2--><a href=\"psysml:9d9a8ea7-31e0-462e-8cd1-90f7e5dc514d\" target=\"_top\" title=\"psysml:9d9a8ea7-31e0-462e-8cd1-90f7e5dc514d\" xlink:actuate=\"onRequest\" xlink:href=\"psysml:9d9a8ea7-31e0-462e-8cd1-90f7e5dc514d\" xlink:show=\"new\" xlink:title=\"psysml:9d9a8ea7-31e0-462e-8cd1-90f7e5dc514d\" xlink:type=\"simple\"><polygon fill=\"#FFFFFF\" points=\"43,49,69,49,76,71.2969,146,71.2969,146,144,43,144,43,49\" style=\"stroke: #000000; stroke-width: 1.5;\"/><line style=\"stroke: #000000; stroke-width: 1.5;\" x1=\"43\" x2=\"76\" y1=\"71.2969\" y2=\"71.2969\"/><text fill=\"#000000\" font-family=\"sans-serif\" font-size=\"14\" font-weight=\"bold\" lengthAdjust=\"spacingAndGlyphs\" textLength=\"20\" x=\"47\" y=\"63.9951\">P1</text></a><!--MD5=[14e3b0961a2654348d326746436168a1]\n",
       "cluster E6--><a href=\"psysml:e8a656ba-c51a-4d2d-932b-ea8b084af9f5\" target=\"_top\" title=\"psysml:e8a656ba-c51a-4d2d-932b-ea8b084af9f5\" xlink:actuate=\"onRequest\" xlink:href=\"psysml:e8a656ba-c51a-4d2d-932b-ea8b084af9f5\" xlink:show=\"new\" xlink:title=\"psysml:e8a656ba-c51a-4d2d-932b-ea8b084af9f5\" xlink:type=\"simple\"><polygon fill=\"#FFFFFF\" points=\"43,168,69,168,76,190.2969,146,190.2969,146,263,43,263,43,168\" style=\"stroke: #000000; stroke-width: 1.5;\"/><line style=\"stroke: #000000; stroke-width: 1.5;\" x1=\"43\" x2=\"76\" y1=\"190.2969\" y2=\"190.2969\"/><text fill=\"#000000\" font-family=\"sans-serif\" font-size=\"14\" font-weight=\"bold\" lengthAdjust=\"spacingAndGlyphs\" textLength=\"20\" x=\"47\" y=\"182.9951\">P3</text></a><g id=\"E1.E2.E3\"><a href=\"psysml:6090619b-e47a-44a4-bc4e-b4be6f2f4926\" target=\"_top\" title=\"psysml:6090619b-e47a-44a4-bc4e-b4be6f2f4926\" xlink:actuate=\"onRequest\" xlink:href=\"psysml:6090619b-e47a-44a4-bc4e-b4be6f2f4926\" xlink:show=\"new\" xlink:title=\"psysml:6090619b-e47a-44a4-bc4e-b4be6f2f4926\" xlink:type=\"simple\"><rect fill=\"#FFFFFF\" height=\"42.9375\" id=\"E3\" style=\"stroke: #383838; stroke-width: 1.5;\" width=\"71\" x=\"59\" y=\"84.5\"/><rect fill=\"#F8F8F8\" height=\"37.9375\" style=\"stroke: #383838; stroke-width: 1.5;\" width=\"71\" x=\"59\" y=\"84.5\"/><text fill=\"#000000\" font-family=\"sans-serif\" font-size=\"12\" font-style=\"italic\" lengthAdjust=\"spacingAndGlyphs\" textLength=\"64\" x=\"62.5\" y=\"100.6387\">«part def»</text><text fill=\"#000000\" font-family=\"sans-serif\" font-size=\"12\" lengthAdjust=\"spacingAndGlyphs\" textLength=\"8\" x=\"90.5\" y=\"114.6074\">A</text></a></g><a href=\"psysml:2344491a-e19a-447d-a12e-1e886a7ea509\" target=\"_top\" title=\"psysml:2344491a-e19a-447d-a12e-1e886a7ea509\" xlink:actuate=\"onRequest\" xlink:href=\"psysml:2344491a-e19a-447d-a12e-1e886a7ea509\" xlink:show=\"new\" xlink:title=\"psysml:2344491a-e19a-447d-a12e-1e886a7ea509\" xlink:type=\"simple\"><polygon fill=\"#FFFFFF\" points=\"74.5,281.5,100.5,281.5,107.5,303.7969,114.5,303.7969,114.5,334.0938,74.5,334.0938,74.5,281.5\" style=\"stroke: #000000; stroke-width: 1.5;\"/><line style=\"stroke: #000000; stroke-width: 1.5;\" x1=\"74.5\" x2=\"107.5\" y1=\"303.7969\" y2=\"303.7969\"/><text fill=\"#000000\" font-family=\"sans-serif\" font-size=\"14\" font-weight=\"bold\" lengthAdjust=\"spacingAndGlyphs\" textLength=\"20\" x=\"78.5\" y=\"296.4951\">P2</text></a><g id=\"E1.E5\"><a href=\"psysml:794b889b-8918-46e8-9c14-cb61e0d8a2ea\" target=\"_top\" title=\"psysml:794b889b-8918-46e8-9c14-cb61e0d8a2ea\" xlink:actuate=\"onRequest\" xlink:href=\"psysml:794b889b-8918-46e8-9c14-cb61e0d8a2ea\" xlink:show=\"new\" xlink:title=\"psysml:794b889b-8918-46e8-9c14-cb61e0d8a2ea\" xlink:type=\"simple\"><rect fill=\"#FFFFFF\" height=\"40\" id=\"E5\" rx=\"10\" ry=\"10\" style=\"stroke: #383838; stroke-width: 1.5;\" width=\"50\" x=\"69.5\" y=\"370\"/><rect fill=\"#F8F8F8\" height=\"23.9688\" rx=\"10\" ry=\"10\" style=\"stroke: #F8F8F8; stroke-width: 1.5;\" width=\"50\" x=\"69.5\" y=\"370\"/><rect fill=\"#F8F8F8\" height=\"10\" style=\"stroke: #F8F8F8; stroke-width: 1.5;\" width=\"50\" x=\"69.5\" y=\"383.9688\"/><rect fill=\"none\" height=\"40\" id=\"E5\" rx=\"10\" ry=\"10\" style=\"stroke: #383838; stroke-width: 1.5;\" width=\"50\" x=\"69.5\" y=\"370\"/><text fill=\"#000000\" font-family=\"sans-serif\" font-size=\"12\" lengthAdjust=\"spacingAndGlyphs\" textLength=\"22\" x=\"83.5\" y=\"386.1387\">x: A</text></a></g><g id=\"E1.E6.E7\"><a href=\"psysml:9e432445-55c9-4726-a95f-4e15b991b53a\" target=\"_top\" title=\"psysml:9e432445-55c9-4726-a95f-4e15b991b53a\" xlink:actuate=\"onRequest\" xlink:href=\"psysml:9e432445-55c9-4726-a95f-4e15b991b53a\" xlink:show=\"new\" xlink:title=\"psysml:9e432445-55c9-4726-a95f-4e15b991b53a\" xlink:type=\"simple\"><rect fill=\"#FFFFFF\" height=\"42.9375\" id=\"E7\" style=\"stroke: #383838; stroke-width: 1.5;\" width=\"71\" x=\"59\" y=\"203.5\"/><rect fill=\"#F8F8F8\" height=\"37.9375\" style=\"stroke: #383838; stroke-width: 1.5;\" width=\"71\" x=\"59\" y=\"203.5\"/><text fill=\"#000000\" font-family=\"sans-serif\" font-size=\"12\" font-style=\"italic\" lengthAdjust=\"spacingAndGlyphs\" textLength=\"64\" x=\"62.5\" y=\"219.6387\">«part def»</text><text fill=\"#000000\" font-family=\"sans-serif\" font-size=\"12\" lengthAdjust=\"spacingAndGlyphs\" textLength=\"8\" x=\"90.5\" y=\"233.6074\">B</text></a></g><g id=\"E1.E8\"><a href=\"psysml:553a92d0-50bf-477b-b2ce-bf491dd9a415\" target=\"_top\" title=\"psysml:553a92d0-50bf-477b-b2ce-bf491dd9a415\" xlink:actuate=\"onRequest\" xlink:href=\"psysml:553a92d0-50bf-477b-b2ce-bf491dd9a415\" xlink:show=\"new\" xlink:title=\"psysml:553a92d0-50bf-477b-b2ce-bf491dd9a415\" xlink:type=\"simple\"><rect fill=\"#FFFFFF\" height=\"40\" id=\"E8\" rx=\"10\" ry=\"10\" style=\"stroke: #383838; stroke-width: 1.5;\" width=\"50\" x=\"69.5\" y=\"445\"/><rect fill=\"#F8F8F8\" height=\"23.9688\" rx=\"10\" ry=\"10\" style=\"stroke: #F8F8F8; stroke-width: 1.5;\" width=\"50\" x=\"69.5\" y=\"445\"/><rect fill=\"#F8F8F8\" height=\"10\" style=\"stroke: #F8F8F8; stroke-width: 1.5;\" width=\"50\" x=\"69.5\" y=\"458.9688\"/><rect fill=\"none\" height=\"40\" id=\"E8\" rx=\"10\" ry=\"10\" style=\"stroke: #383838; stroke-width: 1.5;\" width=\"50\" x=\"69.5\" y=\"445\"/><text fill=\"#000000\" font-family=\"sans-serif\" font-size=\"12\" lengthAdjust=\"spacingAndGlyphs\" textLength=\"21\" x=\"84\" y=\"461.1387\">z: B</text></a></g><!--MD5=[c259e070b47eebe49c540a3c0d81fac9]\n",
       "@startuml\r\n",
       "skinparam ranksep 8\r\n",
       "skinparam rectangle {\r\n",
       " backgroundColor<<block>> LightGreen\r\n",
       "}\r\n",
       "left to right direction\r\n",
       "skinparam monochrome true\r\n",
       "skinparam classbackgroundcolor white\r\n",
       "skinparam shadowing false\r\n",
       "skinparam wrapWidth 300\r\n",
       "hide circle\r\n",
       "\r\n",
       "package \"PrivateImportTest\" as E1  [[psysml:70757ebb-a6cc-427a-a5fd-274a54eae870 ]]  {\r\n",
       "package \"P1\" as E2  [[psysml:9d9a8ea7-31e0-462e-8cd1-90f7e5dc514d ]]  {\r\n",
       "rec def \"A\" as E3  <<(T,blue)part def>> [[psysml:6090619b-e47a-44a4-bc4e-b4be6f2f4926 ]] {\r\n",
       "}\r\n",
       "}\r\n",
       "package \"P2\" as E4  [[psysml:2344491a-e19a-447d-a12e-1e886a7ea509 ]]  {\r\n",
       "}\r\n",
       "rec usage \"x: A\" as E5  [[psysml:794b889b-8918-46e8-9c14-cb61e0d8a2ea ]] {\r\n",
       "}\r\n",
       "package \"P3\" as E6  [[psysml:e8a656ba-c51a-4d2d-932b-ea8b084af9f5 ]]  {\r\n",
       "rec def \"B\" as E7  <<(T,blue)part def>> [[psysml:9e432445-55c9-4726-a95f-4e15b991b53a ]] {\r\n",
       "}\r\n",
       "}\r\n",
       "rec usage \"z: B\" as E8  [[psysml:553a92d0-50bf-477b-b2ce-bf491dd9a415 ]] {\r\n",
       "}\r\n",
       "}\r\n",
       "@enduml\r\n",
       "\n",
       "PlantUML version 1.2020.13(Sat Jun 13 12:26:38 UTC 2020)\n",
       "(EPL source distribution)\n",
       "Java Runtime: OpenJDK Runtime Environment\n",
       "JVM: OpenJDK 64-Bit Server VM\n",
       "Default Encoding: UTF-8\n",
       "Language: en\n",
       "Country: null\n",
       "--></g></svg>"
      ]
     },
     "execution_count": 19,
     "metadata": {},
     "output_type": "execute_result"
    }
   ],
   "source": [
    "%viz --style=\"LR\" --view=\"Interconnection\" \"PrivateImportTest\""
   ]
  },
  {
   "cell_type": "code",
   "execution_count": 20,
   "id": "removable-accounting",
   "metadata": {
    "execution": {
     "iopub.execute_input": "2021-03-25T15:01:13.575138Z",
     "iopub.status.busy": "2021-03-25T15:01:13.573234Z",
     "iopub.status.idle": "2021-03-25T15:01:13.585387Z",
     "shell.execute_reply": "2021-03-25T15:01:13.585817Z"
    }
   },
   "outputs": [
    {
     "data": {
      "image/svg+xml": [
       "<?xml version=\"1.0\" encoding=\"UTF-8\" standalone=\"no\"?><svg xmlns=\"http://www.w3.org/2000/svg\" xmlns:xlink=\"http://www.w3.org/1999/xlink\" contentScriptType=\"application/ecmascript\" contentStyleType=\"text/css\" height=\"12px\" preserveAspectRatio=\"none\" style=\"width:12px;height:12px;\" version=\"1.1\" viewBox=\"0 0 12 12\" width=\"12px\" zoomAndPan=\"magnify\"><defs/><g><!--MD5=[7aeb398939421629f6affaa4a1a7b125]\n",
       "@startuml\r\n",
       "skinparam ranksep 8\r\n",
       "left to right direction\r\n",
       "skinparam monochrome true\r\n",
       "skinparam classbackgroundcolor white\r\n",
       "skinparam shadowing false\r\n",
       "skinparam wrapWidth 300\r\n",
       "hide circle\r\n",
       "\r\n",
       "@enduml\r\n",
       "\n",
       "PlantUML version 1.2020.13(Sat Jun 13 12:26:38 UTC 2020)\n",
       "(EPL source distribution)\n",
       "Java Runtime: OpenJDK Runtime Environment\n",
       "JVM: OpenJDK 64-Bit Server VM\n",
       "Default Encoding: UTF-8\n",
       "Language: en\n",
       "Country: null\n",
       "--></g></svg>"
      ]
     },
     "execution_count": 20,
     "metadata": {},
     "output_type": "execute_result"
    }
   ],
   "source": [
    "%viz --style=\"LR\" --view=\"Action\" \"PrivateImportTest\""
   ]
  },
  {
   "cell_type": "code",
   "execution_count": 21,
   "id": "internal-balloon",
   "metadata": {
    "execution": {
     "iopub.execute_input": "2021-03-25T15:01:13.638908Z",
     "iopub.status.busy": "2021-03-25T15:01:13.637917Z",
     "iopub.status.idle": "2021-03-25T15:01:13.797674Z",
     "shell.execute_reply": "2021-03-25T15:01:13.798130Z"
    }
   },
   "outputs": [
    {
     "data": {
      "image/svg+xml": [
       "<?xml version=\"1.0\" encoding=\"UTF-8\" standalone=\"no\"?><svg xmlns=\"http://www.w3.org/2000/svg\" xmlns:xlink=\"http://www.w3.org/1999/xlink\" contentScriptType=\"application/ecmascript\" contentStyleType=\"text/css\" height=\"303px\" preserveAspectRatio=\"none\" style=\"width:262px;height:303px;\" version=\"1.1\" viewBox=\"0 0 262 303\" width=\"262px\" zoomAndPan=\"magnify\"><defs/><g><!--MD5=[fbc87193dbaf4d95561dea2c320d4a47]\n",
       "cluster E1--><a href=\"psysml:70757ebb-a6cc-427a-a5fd-274a54eae870\" target=\"_top\" title=\"psysml:70757ebb-a6cc-427a-a5fd-274a54eae870\" xlink:actuate=\"onRequest\" xlink:href=\"psysml:70757ebb-a6cc-427a-a5fd-274a54eae870\" xlink:show=\"new\" xlink:title=\"psysml:70757ebb-a6cc-427a-a5fd-274a54eae870\" xlink:type=\"simple\"><polygon fill=\"#FFFFFF\" points=\"16,6,163,6,170,28.2969,240,28.2969,240,291,16,291,16,6\" style=\"stroke: #000000; stroke-width: 1.5;\"/><line style=\"stroke: #000000; stroke-width: 1.5;\" x1=\"16\" x2=\"170\" y1=\"28.2969\" y2=\"28.2969\"/><text fill=\"#000000\" font-family=\"sans-serif\" font-size=\"14\" font-weight=\"bold\" lengthAdjust=\"spacingAndGlyphs\" textLength=\"141\" x=\"20\" y=\"20.9951\">PrivateImportTest</text></a><!--MD5=[e4f7fae6ed58524ba242bb0b0d3be6b7]\n",
       "cluster E2--><a href=\"psysml:9d9a8ea7-31e0-462e-8cd1-90f7e5dc514d\" target=\"_top\" title=\"psysml:9d9a8ea7-31e0-462e-8cd1-90f7e5dc514d\" xlink:actuate=\"onRequest\" xlink:href=\"psysml:9d9a8ea7-31e0-462e-8cd1-90f7e5dc514d\" xlink:show=\"new\" xlink:title=\"psysml:9d9a8ea7-31e0-462e-8cd1-90f7e5dc514d\" xlink:type=\"simple\"><polygon fill=\"#FFFFFF\" points=\"118,49,144,49,151,71.2969,216,71.2969,216,146,118,146,118,49\" style=\"stroke: #000000; stroke-width: 1.5;\"/><line style=\"stroke: #000000; stroke-width: 1.5;\" x1=\"118\" x2=\"151\" y1=\"71.2969\" y2=\"71.2969\"/><text fill=\"#000000\" font-family=\"sans-serif\" font-size=\"14\" font-weight=\"bold\" lengthAdjust=\"spacingAndGlyphs\" textLength=\"20\" x=\"122\" y=\"63.9951\">P1</text></a><!--MD5=[14e3b0961a2654348d326746436168a1]\n",
       "cluster E6--><a href=\"psysml:e8a656ba-c51a-4d2d-932b-ea8b084af9f5\" target=\"_top\" title=\"psysml:e8a656ba-c51a-4d2d-932b-ea8b084af9f5\" xlink:actuate=\"onRequest\" xlink:href=\"psysml:e8a656ba-c51a-4d2d-932b-ea8b084af9f5\" xlink:show=\"new\" xlink:title=\"psysml:e8a656ba-c51a-4d2d-932b-ea8b084af9f5\" xlink:type=\"simple\"><polygon fill=\"#FFFFFF\" points=\"118,170,144,170,151,192.2969,216,192.2969,216,267,118,267,118,170\" style=\"stroke: #000000; stroke-width: 1.5;\"/><line style=\"stroke: #000000; stroke-width: 1.5;\" x1=\"118\" x2=\"151\" y1=\"192.2969\" y2=\"192.2969\"/><text fill=\"#000000\" font-family=\"sans-serif\" font-size=\"14\" font-weight=\"bold\" lengthAdjust=\"spacingAndGlyphs\" textLength=\"20\" x=\"122\" y=\"184.9951\">P3</text></a><!--MD5=[270fce915f116d4de14055a7c1d9a0f3]\n",
       "class E5--><a href=\"psysml:794b889b-8918-46e8-9c14-cb61e0d8a2ea\" target=\"_top\" title=\"psysml:794b889b-8918-46e8-9c14-cb61e0d8a2ea\" xlink:actuate=\"onRequest\" xlink:href=\"psysml:794b889b-8918-46e8-9c14-cb61e0d8a2ea\" xlink:show=\"new\" xlink:title=\"psysml:794b889b-8918-46e8-9c14-cb61e0d8a2ea\" xlink:type=\"simple\"><rect fill=\"#FFFFFF\" height=\"45.9375\" id=\"E5\" rx=\"10\" ry=\"10\" style=\"stroke: #383838; stroke-width: 1.5;\" width=\"42\" x=\"32\" y=\"59\"/><text fill=\"#000000\" font-family=\"sans-serif\" font-size=\"12\" font-style=\"italic\" lengthAdjust=\"spacingAndGlyphs\" textLength=\"40\" x=\"33\" y=\"75.1387\">«part»</text><text fill=\"#000000\" font-family=\"sans-serif\" font-size=\"12\" lengthAdjust=\"spacingAndGlyphs\" textLength=\"22\" x=\"42\" y=\"89.1074\">x: A</text><line style=\"stroke: #383838; stroke-width: 1.5;\" x1=\"33\" x2=\"73\" y1=\"96.9375\" y2=\"96.9375\"/></a><!--MD5=[b9389687b975829384b498ac4b7476b2]\n",
       "class E8--><a href=\"psysml:553a92d0-50bf-477b-b2ce-bf491dd9a415\" target=\"_top\" title=\"psysml:553a92d0-50bf-477b-b2ce-bf491dd9a415\" xlink:actuate=\"onRequest\" xlink:href=\"psysml:553a92d0-50bf-477b-b2ce-bf491dd9a415\" xlink:show=\"new\" xlink:title=\"psysml:553a92d0-50bf-477b-b2ce-bf491dd9a415\" xlink:type=\"simple\"><rect fill=\"#FFFFFF\" height=\"45.9375\" id=\"E8\" rx=\"10\" ry=\"10\" style=\"stroke: #383838; stroke-width: 1.5;\" width=\"42\" x=\"32\" y=\"140\"/><text fill=\"#000000\" font-family=\"sans-serif\" font-size=\"12\" font-style=\"italic\" lengthAdjust=\"spacingAndGlyphs\" textLength=\"40\" x=\"33\" y=\"156.1387\">«part»</text><text fill=\"#000000\" font-family=\"sans-serif\" font-size=\"12\" lengthAdjust=\"spacingAndGlyphs\" textLength=\"21\" x=\"42.5\" y=\"170.1074\">z: B</text><line style=\"stroke: #383838; stroke-width: 1.5;\" x1=\"33\" x2=\"73\" y1=\"177.9375\" y2=\"177.9375\"/></a><!--MD5=[09b614a08d8cba4a07c9adeb5e0fee81]\n",
       "class E3--><a href=\"psysml:6090619b-e47a-44a4-bc4e-b4be6f2f4926\" target=\"_top\" title=\"psysml:6090619b-e47a-44a4-bc4e-b4be6f2f4926\" xlink:actuate=\"onRequest\" xlink:href=\"psysml:6090619b-e47a-44a4-bc4e-b4be6f2f4926\" xlink:show=\"new\" xlink:title=\"psysml:6090619b-e47a-44a4-bc4e-b4be6f2f4926\" xlink:type=\"simple\"><rect fill=\"#FFFFFF\" height=\"45.9375\" id=\"E3\" style=\"stroke: #383838; stroke-width: 1.5;\" width=\"66\" x=\"134\" y=\"84\"/><text fill=\"#000000\" font-family=\"sans-serif\" font-size=\"12\" font-style=\"italic\" lengthAdjust=\"spacingAndGlyphs\" textLength=\"64\" x=\"135\" y=\"100.1387\">«part def»</text><text fill=\"#000000\" font-family=\"sans-serif\" font-size=\"12\" lengthAdjust=\"spacingAndGlyphs\" textLength=\"8\" x=\"163\" y=\"114.1074\">A</text><line style=\"stroke: #383838; stroke-width: 1.5;\" x1=\"135\" x2=\"199\" y1=\"121.9375\" y2=\"121.9375\"/></a><a href=\"psysml:2344491a-e19a-447d-a12e-1e886a7ea509\" target=\"_top\" title=\"psysml:2344491a-e19a-447d-a12e-1e886a7ea509\" xlink:actuate=\"onRequest\" xlink:href=\"psysml:2344491a-e19a-447d-a12e-1e886a7ea509\" xlink:show=\"new\" xlink:title=\"psysml:2344491a-e19a-447d-a12e-1e886a7ea509\" xlink:type=\"simple\"><polygon fill=\"#FFFFFF\" points=\"33,221.5,59,221.5,66,243.7969,73,243.7969,73,274.0938,33,274.0938,33,221.5\" style=\"stroke: #000000; stroke-width: 1.5;\"/><line style=\"stroke: #000000; stroke-width: 1.5;\" x1=\"33\" x2=\"66\" y1=\"243.7969\" y2=\"243.7969\"/><text fill=\"#000000\" font-family=\"sans-serif\" font-size=\"14\" font-weight=\"bold\" lengthAdjust=\"spacingAndGlyphs\" textLength=\"20\" x=\"37\" y=\"236.4951\">P2</text></a><!--MD5=[2156ba9850f5573cc1fc38a6a4b2f02b]\n",
       "class E7--><a href=\"psysml:9e432445-55c9-4726-a95f-4e15b991b53a\" target=\"_top\" title=\"psysml:9e432445-55c9-4726-a95f-4e15b991b53a\" xlink:actuate=\"onRequest\" xlink:href=\"psysml:9e432445-55c9-4726-a95f-4e15b991b53a\" xlink:show=\"new\" xlink:title=\"psysml:9e432445-55c9-4726-a95f-4e15b991b53a\" xlink:type=\"simple\"><rect fill=\"#FFFFFF\" height=\"45.9375\" id=\"E7\" style=\"stroke: #383838; stroke-width: 1.5;\" width=\"66\" x=\"134\" y=\"205\"/><text fill=\"#000000\" font-family=\"sans-serif\" font-size=\"12\" font-style=\"italic\" lengthAdjust=\"spacingAndGlyphs\" textLength=\"64\" x=\"135\" y=\"221.1387\">«part def»</text><text fill=\"#000000\" font-family=\"sans-serif\" font-size=\"12\" lengthAdjust=\"spacingAndGlyphs\" textLength=\"8\" x=\"163\" y=\"235.1074\">B</text><line style=\"stroke: #383838; stroke-width: 1.5;\" x1=\"135\" x2=\"199\" y1=\"242.9375\" y2=\"242.9375\"/></a><!--MD5=[e9be52314489bd878ff4c7144b63c9e1]\n",
       "link E5 to E3--><a href=\"psysml:d9b9f238-e6f4-4810-bb41-4cf78560774c\" target=\"_top\" title=\"psysml:d9b9f238-e6f4-4810-bb41-4cf78560774c\" xlink:actuate=\"onRequest\" xlink:href=\"psysml:d9b9f238-e6f4-4810-bb41-4cf78560774c\" xlink:show=\"new\" xlink:title=\"psysml:d9b9f238-e6f4-4810-bb41-4cf78560774c\" xlink:type=\"simple\"><path d=\"M74.02,86.47 C85.31,88.99 99.99,92.27 114.29,95.46 \" fill=\"none\" id=\"E5-&gt;E3\" style=\"stroke: #383838; stroke-width: 1.0;\"/><polygon fill=\"#FFFFFF\" points=\"133.86,99.83,113.7912,102.5214,116.842,88.8579,133.86,99.83\" style=\"stroke: #383838; stroke-width: 1.0;\"/><ellipse cx=\"108.664\" cy=\"99.3274\" fill=\"#383838\" rx=\"2\" ry=\"2\" style=\"stroke: #383838; stroke-width: 1.0;\"/><ellipse cx=\"110.8432\" cy=\"89.5677\" fill=\"#383838\" rx=\"2\" ry=\"2\" style=\"stroke: #383838; stroke-width: 1.0;\"/></a><!--MD5=[bfa3c8b0d15052fdf50ae9310b491027]\n",
       "link E8 to E7--><a href=\"psysml:a13a28be-1001-42f5-9632-37667c0baf51\" target=\"_top\" title=\"psysml:a13a28be-1001-42f5-9632-37667c0baf51\" xlink:actuate=\"onRequest\" xlink:href=\"psysml:a13a28be-1001-42f5-9632-37667c0baf51\" xlink:show=\"new\" xlink:title=\"psysml:a13a28be-1001-42f5-9632-37667c0baf51\" xlink:type=\"simple\"><path d=\"M74.02,174.62 C85.83,181.47 101.34,190.48 116.26,199.13 \" fill=\"none\" id=\"E8-&gt;E7\" style=\"stroke: #383838; stroke-width: 1.0;\"/><polygon fill=\"#FFFFFF\" points=\"133.86,209.35,113.9116,205.8773,120.9328,193.7652,133.86,209.35\" style=\"stroke: #383838; stroke-width: 1.0;\"/><ellipse cx=\"109.9832\" cy=\"201.2883\" fill=\"#383838\" rx=\"2\" ry=\"2\" style=\"stroke: #383838; stroke-width: 1.0;\"/><ellipse cx=\"114.9984\" cy=\"192.6368\" fill=\"#383838\" rx=\"2\" ry=\"2\" style=\"stroke: #383838; stroke-width: 1.0;\"/></a><!--MD5=[0e4438f48ba463be9299352426700b98]\n",
       "@startuml\r\n",
       "left to right direction\r\n",
       "skinparam monochrome true\r\n",
       "skinparam classbackgroundcolor white\r\n",
       "skinparam shadowing false\r\n",
       "skinparam wrapWidth 300\r\n",
       "hide circle\r\n",
       "\r\n",
       "package \"PrivateImportTest\" as E1  [[psysml:70757ebb-a6cc-427a-a5fd-274a54eae870 ]]  {\r\n",
       "package \"P1\" as E2  [[psysml:9d9a8ea7-31e0-462e-8cd1-90f7e5dc514d ]]  {\r\n",
       "comp def \"A\" as E3  <<(T,blue)part def>> [[psysml:6090619b-e47a-44a4-bc4e-b4be6f2f4926 ]] {\r\n",
       "}\r\n",
       "}\r\n",
       "package \"P2\" as E4  [[psysml:2344491a-e19a-447d-a12e-1e886a7ea509 ]]  {\r\n",
       "}\r\n",
       "comp usage \"x: A\" as E5  <<(T,blue)part>> [[psysml:794b889b-8918-46e8-9c14-cb61e0d8a2ea ]] {\r\n",
       "}\r\n",
       "package \"P3\" as E6  [[psysml:e8a656ba-c51a-4d2d-932b-ea8b084af9f5 ]]  {\r\n",
       "comp def \"B\" as E7  <<(T,blue)part def>> [[psysml:9e432445-55c9-4726-a95f-4e15b991b53a ]] {\r\n",
       "}\r\n",
       "E5 - -:|> E3 [[psysml:d9b9f238-e6f4-4810-bb41-4cf78560774c ]] \r\n",
       "}\r\n",
       "comp usage \"z: B\" as E8  <<(T,blue)part>> [[psysml:553a92d0-50bf-477b-b2ce-bf491dd9a415 ]] {\r\n",
       "}\r\n",
       "E8 - -:|> E7 [[psysml:a13a28be-1001-42f5-9632-37667c0baf51 ]] \r\n",
       "}\r\n",
       "@enduml\r\n",
       "\n",
       "PlantUML version 1.2020.13(Sat Jun 13 12:26:38 UTC 2020)\n",
       "(EPL source distribution)\n",
       "Java Runtime: OpenJDK Runtime Environment\n",
       "JVM: OpenJDK 64-Bit Server VM\n",
       "Default Encoding: UTF-8\n",
       "Language: en\n",
       "Country: null\n",
       "--></g></svg>"
      ]
     },
     "execution_count": 21,
     "metadata": {},
     "output_type": "execute_result"
    }
   ],
   "source": [
    "%viz --style=\"LR\" --view=\"Sequence\" \"PrivateImportTest\""
   ]
  },
  {
   "cell_type": "code",
   "execution_count": 22,
   "id": "tropical-afghanistan",
   "metadata": {
    "execution": {
     "iopub.execute_input": "2021-03-25T15:01:13.848129Z",
     "iopub.status.busy": "2021-03-25T15:01:13.847622Z",
     "iopub.status.idle": "2021-03-25T15:01:13.966644Z",
     "shell.execute_reply": "2021-03-25T15:01:13.967207Z"
    }
   },
   "outputs": [
    {
     "data": {
      "image/svg+xml": [
       "<?xml version=\"1.0\" encoding=\"UTF-8\" standalone=\"no\"?><svg xmlns=\"http://www.w3.org/2000/svg\" xmlns:xlink=\"http://www.w3.org/1999/xlink\" contentScriptType=\"application/ecmascript\" contentStyleType=\"text/css\" height=\"303px\" preserveAspectRatio=\"none\" style=\"width:262px;height:303px;\" version=\"1.1\" viewBox=\"0 0 262 303\" width=\"262px\" zoomAndPan=\"magnify\"><defs/><g><!--MD5=[fbc87193dbaf4d95561dea2c320d4a47]\n",
       "cluster E1--><a href=\"psysml:70757ebb-a6cc-427a-a5fd-274a54eae870\" target=\"_top\" title=\"psysml:70757ebb-a6cc-427a-a5fd-274a54eae870\" xlink:actuate=\"onRequest\" xlink:href=\"psysml:70757ebb-a6cc-427a-a5fd-274a54eae870\" xlink:show=\"new\" xlink:title=\"psysml:70757ebb-a6cc-427a-a5fd-274a54eae870\" xlink:type=\"simple\"><polygon fill=\"#FFFFFF\" points=\"16,6,163,6,170,28.2969,240,28.2969,240,291,16,291,16,6\" style=\"stroke: #000000; stroke-width: 1.5;\"/><line style=\"stroke: #000000; stroke-width: 1.5;\" x1=\"16\" x2=\"170\" y1=\"28.2969\" y2=\"28.2969\"/><text fill=\"#000000\" font-family=\"sans-serif\" font-size=\"14\" font-weight=\"bold\" lengthAdjust=\"spacingAndGlyphs\" textLength=\"141\" x=\"20\" y=\"20.9951\">PrivateImportTest</text></a><!--MD5=[e4f7fae6ed58524ba242bb0b0d3be6b7]\n",
       "cluster E2--><a href=\"psysml:9d9a8ea7-31e0-462e-8cd1-90f7e5dc514d\" target=\"_top\" title=\"psysml:9d9a8ea7-31e0-462e-8cd1-90f7e5dc514d\" xlink:actuate=\"onRequest\" xlink:href=\"psysml:9d9a8ea7-31e0-462e-8cd1-90f7e5dc514d\" xlink:show=\"new\" xlink:title=\"psysml:9d9a8ea7-31e0-462e-8cd1-90f7e5dc514d\" xlink:type=\"simple\"><polygon fill=\"#FFFFFF\" points=\"118,49,144,49,151,71.2969,216,71.2969,216,146,118,146,118,49\" style=\"stroke: #000000; stroke-width: 1.5;\"/><line style=\"stroke: #000000; stroke-width: 1.5;\" x1=\"118\" x2=\"151\" y1=\"71.2969\" y2=\"71.2969\"/><text fill=\"#000000\" font-family=\"sans-serif\" font-size=\"14\" font-weight=\"bold\" lengthAdjust=\"spacingAndGlyphs\" textLength=\"20\" x=\"122\" y=\"63.9951\">P1</text></a><!--MD5=[14e3b0961a2654348d326746436168a1]\n",
       "cluster E6--><a href=\"psysml:e8a656ba-c51a-4d2d-932b-ea8b084af9f5\" target=\"_top\" title=\"psysml:e8a656ba-c51a-4d2d-932b-ea8b084af9f5\" xlink:actuate=\"onRequest\" xlink:href=\"psysml:e8a656ba-c51a-4d2d-932b-ea8b084af9f5\" xlink:show=\"new\" xlink:title=\"psysml:e8a656ba-c51a-4d2d-932b-ea8b084af9f5\" xlink:type=\"simple\"><polygon fill=\"#FFFFFF\" points=\"118,170,144,170,151,192.2969,216,192.2969,216,267,118,267,118,170\" style=\"stroke: #000000; stroke-width: 1.5;\"/><line style=\"stroke: #000000; stroke-width: 1.5;\" x1=\"118\" x2=\"151\" y1=\"192.2969\" y2=\"192.2969\"/><text fill=\"#000000\" font-family=\"sans-serif\" font-size=\"14\" font-weight=\"bold\" lengthAdjust=\"spacingAndGlyphs\" textLength=\"20\" x=\"122\" y=\"184.9951\">P3</text></a><!--MD5=[270fce915f116d4de14055a7c1d9a0f3]\n",
       "class E5--><a href=\"psysml:794b889b-8918-46e8-9c14-cb61e0d8a2ea\" target=\"_top\" title=\"psysml:794b889b-8918-46e8-9c14-cb61e0d8a2ea\" xlink:actuate=\"onRequest\" xlink:href=\"psysml:794b889b-8918-46e8-9c14-cb61e0d8a2ea\" xlink:show=\"new\" xlink:title=\"psysml:794b889b-8918-46e8-9c14-cb61e0d8a2ea\" xlink:type=\"simple\"><rect fill=\"#FFFFFF\" height=\"45.9375\" id=\"E5\" rx=\"10\" ry=\"10\" style=\"stroke: #383838; stroke-width: 1.5;\" width=\"42\" x=\"32\" y=\"59\"/><text fill=\"#000000\" font-family=\"sans-serif\" font-size=\"12\" font-style=\"italic\" lengthAdjust=\"spacingAndGlyphs\" textLength=\"40\" x=\"33\" y=\"75.1387\">«part»</text><text fill=\"#000000\" font-family=\"sans-serif\" font-size=\"12\" lengthAdjust=\"spacingAndGlyphs\" textLength=\"22\" x=\"42\" y=\"89.1074\">x: A</text><line style=\"stroke: #383838; stroke-width: 1.5;\" x1=\"33\" x2=\"73\" y1=\"96.9375\" y2=\"96.9375\"/></a><!--MD5=[b9389687b975829384b498ac4b7476b2]\n",
       "class E8--><a href=\"psysml:553a92d0-50bf-477b-b2ce-bf491dd9a415\" target=\"_top\" title=\"psysml:553a92d0-50bf-477b-b2ce-bf491dd9a415\" xlink:actuate=\"onRequest\" xlink:href=\"psysml:553a92d0-50bf-477b-b2ce-bf491dd9a415\" xlink:show=\"new\" xlink:title=\"psysml:553a92d0-50bf-477b-b2ce-bf491dd9a415\" xlink:type=\"simple\"><rect fill=\"#FFFFFF\" height=\"45.9375\" id=\"E8\" rx=\"10\" ry=\"10\" style=\"stroke: #383838; stroke-width: 1.5;\" width=\"42\" x=\"32\" y=\"140\"/><text fill=\"#000000\" font-family=\"sans-serif\" font-size=\"12\" font-style=\"italic\" lengthAdjust=\"spacingAndGlyphs\" textLength=\"40\" x=\"33\" y=\"156.1387\">«part»</text><text fill=\"#000000\" font-family=\"sans-serif\" font-size=\"12\" lengthAdjust=\"spacingAndGlyphs\" textLength=\"21\" x=\"42.5\" y=\"170.1074\">z: B</text><line style=\"stroke: #383838; stroke-width: 1.5;\" x1=\"33\" x2=\"73\" y1=\"177.9375\" y2=\"177.9375\"/></a><!--MD5=[09b614a08d8cba4a07c9adeb5e0fee81]\n",
       "class E3--><a href=\"psysml:6090619b-e47a-44a4-bc4e-b4be6f2f4926\" target=\"_top\" title=\"psysml:6090619b-e47a-44a4-bc4e-b4be6f2f4926\" xlink:actuate=\"onRequest\" xlink:href=\"psysml:6090619b-e47a-44a4-bc4e-b4be6f2f4926\" xlink:show=\"new\" xlink:title=\"psysml:6090619b-e47a-44a4-bc4e-b4be6f2f4926\" xlink:type=\"simple\"><rect fill=\"#FFFFFF\" height=\"45.9375\" id=\"E3\" style=\"stroke: #383838; stroke-width: 1.5;\" width=\"66\" x=\"134\" y=\"84\"/><text fill=\"#000000\" font-family=\"sans-serif\" font-size=\"12\" font-style=\"italic\" lengthAdjust=\"spacingAndGlyphs\" textLength=\"64\" x=\"135\" y=\"100.1387\">«part def»</text><text fill=\"#000000\" font-family=\"sans-serif\" font-size=\"12\" lengthAdjust=\"spacingAndGlyphs\" textLength=\"8\" x=\"163\" y=\"114.1074\">A</text><line style=\"stroke: #383838; stroke-width: 1.5;\" x1=\"135\" x2=\"199\" y1=\"121.9375\" y2=\"121.9375\"/></a><a href=\"psysml:2344491a-e19a-447d-a12e-1e886a7ea509\" target=\"_top\" title=\"psysml:2344491a-e19a-447d-a12e-1e886a7ea509\" xlink:actuate=\"onRequest\" xlink:href=\"psysml:2344491a-e19a-447d-a12e-1e886a7ea509\" xlink:show=\"new\" xlink:title=\"psysml:2344491a-e19a-447d-a12e-1e886a7ea509\" xlink:type=\"simple\"><polygon fill=\"#FFFFFF\" points=\"33,221.5,59,221.5,66,243.7969,73,243.7969,73,274.0938,33,274.0938,33,221.5\" style=\"stroke: #000000; stroke-width: 1.5;\"/><line style=\"stroke: #000000; stroke-width: 1.5;\" x1=\"33\" x2=\"66\" y1=\"243.7969\" y2=\"243.7969\"/><text fill=\"#000000\" font-family=\"sans-serif\" font-size=\"14\" font-weight=\"bold\" lengthAdjust=\"spacingAndGlyphs\" textLength=\"20\" x=\"37\" y=\"236.4951\">P2</text></a><!--MD5=[2156ba9850f5573cc1fc38a6a4b2f02b]\n",
       "class E7--><a href=\"psysml:9e432445-55c9-4726-a95f-4e15b991b53a\" target=\"_top\" title=\"psysml:9e432445-55c9-4726-a95f-4e15b991b53a\" xlink:actuate=\"onRequest\" xlink:href=\"psysml:9e432445-55c9-4726-a95f-4e15b991b53a\" xlink:show=\"new\" xlink:title=\"psysml:9e432445-55c9-4726-a95f-4e15b991b53a\" xlink:type=\"simple\"><rect fill=\"#FFFFFF\" height=\"45.9375\" id=\"E7\" style=\"stroke: #383838; stroke-width: 1.5;\" width=\"66\" x=\"134\" y=\"205\"/><text fill=\"#000000\" font-family=\"sans-serif\" font-size=\"12\" font-style=\"italic\" lengthAdjust=\"spacingAndGlyphs\" textLength=\"64\" x=\"135\" y=\"221.1387\">«part def»</text><text fill=\"#000000\" font-family=\"sans-serif\" font-size=\"12\" lengthAdjust=\"spacingAndGlyphs\" textLength=\"8\" x=\"163\" y=\"235.1074\">B</text><line style=\"stroke: #383838; stroke-width: 1.5;\" x1=\"135\" x2=\"199\" y1=\"242.9375\" y2=\"242.9375\"/></a><!--MD5=[e9be52314489bd878ff4c7144b63c9e1]\n",
       "link E5 to E3--><a href=\"psysml:d9b9f238-e6f4-4810-bb41-4cf78560774c\" target=\"_top\" title=\"psysml:d9b9f238-e6f4-4810-bb41-4cf78560774c\" xlink:actuate=\"onRequest\" xlink:href=\"psysml:d9b9f238-e6f4-4810-bb41-4cf78560774c\" xlink:show=\"new\" xlink:title=\"psysml:d9b9f238-e6f4-4810-bb41-4cf78560774c\" xlink:type=\"simple\"><path d=\"M74.02,86.47 C85.31,88.99 99.99,92.27 114.29,95.46 \" fill=\"none\" id=\"E5-&gt;E3\" style=\"stroke: #383838; stroke-width: 1.0;\"/><polygon fill=\"#FFFFFF\" points=\"133.86,99.83,113.7912,102.5214,116.842,88.8579,133.86,99.83\" style=\"stroke: #383838; stroke-width: 1.0;\"/><ellipse cx=\"108.664\" cy=\"99.3274\" fill=\"#383838\" rx=\"2\" ry=\"2\" style=\"stroke: #383838; stroke-width: 1.0;\"/><ellipse cx=\"110.8432\" cy=\"89.5677\" fill=\"#383838\" rx=\"2\" ry=\"2\" style=\"stroke: #383838; stroke-width: 1.0;\"/></a><!--MD5=[bfa3c8b0d15052fdf50ae9310b491027]\n",
       "link E8 to E7--><a href=\"psysml:a13a28be-1001-42f5-9632-37667c0baf51\" target=\"_top\" title=\"psysml:a13a28be-1001-42f5-9632-37667c0baf51\" xlink:actuate=\"onRequest\" xlink:href=\"psysml:a13a28be-1001-42f5-9632-37667c0baf51\" xlink:show=\"new\" xlink:title=\"psysml:a13a28be-1001-42f5-9632-37667c0baf51\" xlink:type=\"simple\"><path d=\"M74.02,174.62 C85.83,181.47 101.34,190.48 116.26,199.13 \" fill=\"none\" id=\"E8-&gt;E7\" style=\"stroke: #383838; stroke-width: 1.0;\"/><polygon fill=\"#FFFFFF\" points=\"133.86,209.35,113.9116,205.8773,120.9328,193.7652,133.86,209.35\" style=\"stroke: #383838; stroke-width: 1.0;\"/><ellipse cx=\"109.9832\" cy=\"201.2883\" fill=\"#383838\" rx=\"2\" ry=\"2\" style=\"stroke: #383838; stroke-width: 1.0;\"/><ellipse cx=\"114.9984\" cy=\"192.6368\" fill=\"#383838\" rx=\"2\" ry=\"2\" style=\"stroke: #383838; stroke-width: 1.0;\"/></a><!--MD5=[0e4438f48ba463be9299352426700b98]\n",
       "@startuml\r\n",
       "left to right direction\r\n",
       "skinparam monochrome true\r\n",
       "skinparam classbackgroundcolor white\r\n",
       "skinparam shadowing false\r\n",
       "skinparam wrapWidth 300\r\n",
       "hide circle\r\n",
       "\r\n",
       "package \"PrivateImportTest\" as E1  [[psysml:70757ebb-a6cc-427a-a5fd-274a54eae870 ]]  {\r\n",
       "package \"P1\" as E2  [[psysml:9d9a8ea7-31e0-462e-8cd1-90f7e5dc514d ]]  {\r\n",
       "comp def \"A\" as E3  <<(T,blue)part def>> [[psysml:6090619b-e47a-44a4-bc4e-b4be6f2f4926 ]] {\r\n",
       "}\r\n",
       "}\r\n",
       "package \"P2\" as E4  [[psysml:2344491a-e19a-447d-a12e-1e886a7ea509 ]]  {\r\n",
       "}\r\n",
       "comp usage \"x: A\" as E5  <<(T,blue)part>> [[psysml:794b889b-8918-46e8-9c14-cb61e0d8a2ea ]] {\r\n",
       "}\r\n",
       "package \"P3\" as E6  [[psysml:e8a656ba-c51a-4d2d-932b-ea8b084af9f5 ]]  {\r\n",
       "comp def \"B\" as E7  <<(T,blue)part def>> [[psysml:9e432445-55c9-4726-a95f-4e15b991b53a ]] {\r\n",
       "}\r\n",
       "E5 - -:|> E3 [[psysml:d9b9f238-e6f4-4810-bb41-4cf78560774c ]] \r\n",
       "}\r\n",
       "comp usage \"z: B\" as E8  <<(T,blue)part>> [[psysml:553a92d0-50bf-477b-b2ce-bf491dd9a415 ]] {\r\n",
       "}\r\n",
       "E8 - -:|> E7 [[psysml:a13a28be-1001-42f5-9632-37667c0baf51 ]] \r\n",
       "}\r\n",
       "@enduml\r\n",
       "\n",
       "PlantUML version 1.2020.13(Sat Jun 13 12:26:38 UTC 2020)\n",
       "(EPL source distribution)\n",
       "Java Runtime: OpenJDK Runtime Environment\n",
       "JVM: OpenJDK 64-Bit Server VM\n",
       "Default Encoding: UTF-8\n",
       "Language: en\n",
       "Country: null\n",
       "--></g></svg>"
      ]
     },
     "execution_count": 22,
     "metadata": {},
     "output_type": "execute_result"
    }
   ],
   "source": [
    "%viz --style=\"LR\" --view=\"MIXED\" \"PrivateImportTest\""
   ]
  },
  {
   "cell_type": "code",
   "execution_count": 23,
   "id": "disabled-sleeve",
   "metadata": {
    "execution": {
     "iopub.execute_input": "2021-03-25T15:01:14.019899Z",
     "iopub.status.busy": "2021-03-25T15:01:14.018911Z",
     "iopub.status.idle": "2021-03-25T15:01:14.133658Z",
     "shell.execute_reply": "2021-03-25T15:01:14.131680Z"
    }
   },
   "outputs": [
    {
     "data": {
      "image/svg+xml": [
       "<?xml version=\"1.0\" encoding=\"UTF-8\" standalone=\"no\"?><svg xmlns=\"http://www.w3.org/2000/svg\" xmlns:xlink=\"http://www.w3.org/1999/xlink\" contentScriptType=\"application/ecmascript\" contentStyleType=\"text/css\" height=\"252px\" preserveAspectRatio=\"none\" style=\"width:306px;height:252px;\" version=\"1.1\" viewBox=\"0 0 306 252\" width=\"306px\" zoomAndPan=\"magnify\"><defs><filter height=\"300%\" id=\"ffqkrygzjgx18\" width=\"300%\" x=\"-1\" y=\"-1\"><feGaussianBlur result=\"blurOut\" stdDeviation=\"2.0\"/><feColorMatrix in=\"blurOut\" result=\"blurOut2\" type=\"matrix\" values=\"0 0 0 0 0 0 0 0 0 0 0 0 0 0 0 0 0 0 .4 0\"/><feOffset dx=\"4.0\" dy=\"4.0\" in=\"blurOut2\" result=\"blurOut3\"/><feBlend in=\"SourceGraphic\" in2=\"blurOut3\" mode=\"normal\"/></filter></defs><g><!--MD5=[fbc87193dbaf4d95561dea2c320d4a47]\n",
       "cluster E1--><a href=\"psysml:70757ebb-a6cc-427a-a5fd-274a54eae870\" target=\"_top\" title=\"psysml:70757ebb-a6cc-427a-a5fd-274a54eae870\" xlink:actuate=\"onRequest\" xlink:href=\"psysml:70757ebb-a6cc-427a-a5fd-274a54eae870\" xlink:show=\"new\" xlink:title=\"psysml:70757ebb-a6cc-427a-a5fd-274a54eae870\" xlink:type=\"simple\"><polygon fill=\"#FFFFFF\" filter=\"url(#ffqkrygzjgx18)\" points=\"16,6,163,6,170,28.2969,284,28.2969,284,240,16,240,16,6\" style=\"stroke: #000000; stroke-width: 1.5;\"/><line style=\"stroke: #000000; stroke-width: 1.5;\" x1=\"16\" x2=\"170\" y1=\"28.2969\" y2=\"28.2969\"/><text fill=\"#000000\" font-family=\"sans-serif\" font-size=\"14\" font-weight=\"bold\" lengthAdjust=\"spacingAndGlyphs\" textLength=\"141\" x=\"20\" y=\"20.9951\">PrivateImportTest</text></a><!--MD5=[e4f7fae6ed58524ba242bb0b0d3be6b7]\n",
       "cluster E2--><a href=\"psysml:9d9a8ea7-31e0-462e-8cd1-90f7e5dc514d\" target=\"_top\" title=\"psysml:9d9a8ea7-31e0-462e-8cd1-90f7e5dc514d\" xlink:actuate=\"onRequest\" xlink:href=\"psysml:9d9a8ea7-31e0-462e-8cd1-90f7e5dc514d\" xlink:show=\"new\" xlink:title=\"psysml:9d9a8ea7-31e0-462e-8cd1-90f7e5dc514d\" xlink:type=\"simple\"><polygon fill=\"#FFFFFF\" filter=\"url(#ffqkrygzjgx18)\" points=\"162,119,188,119,195,141.2969,260,141.2969,260,216,162,216,162,119\" style=\"stroke: #000000; stroke-width: 1.5;\"/><line style=\"stroke: #000000; stroke-width: 1.5;\" x1=\"162\" x2=\"195\" y1=\"141.2969\" y2=\"141.2969\"/><text fill=\"#000000\" font-family=\"sans-serif\" font-size=\"14\" font-weight=\"bold\" lengthAdjust=\"spacingAndGlyphs\" textLength=\"20\" x=\"166\" y=\"133.9951\">P1</text></a><!--MD5=[14e3b0961a2654348d326746436168a1]\n",
       "cluster E6--><a href=\"psysml:e8a656ba-c51a-4d2d-932b-ea8b084af9f5\" target=\"_top\" title=\"psysml:e8a656ba-c51a-4d2d-932b-ea8b084af9f5\" xlink:actuate=\"onRequest\" xlink:href=\"psysml:e8a656ba-c51a-4d2d-932b-ea8b084af9f5\" xlink:show=\"new\" xlink:title=\"psysml:e8a656ba-c51a-4d2d-932b-ea8b084af9f5\" xlink:type=\"simple\"><polygon fill=\"#FFFFFF\" filter=\"url(#ffqkrygzjgx18)\" points=\"40,119,66,119,73,141.2969,138,141.2969,138,216,40,216,40,119\" style=\"stroke: #000000; stroke-width: 1.5;\"/><line style=\"stroke: #000000; stroke-width: 1.5;\" x1=\"40\" x2=\"73\" y1=\"141.2969\" y2=\"141.2969\"/><text fill=\"#000000\" font-family=\"sans-serif\" font-size=\"14\" font-weight=\"bold\" lengthAdjust=\"spacingAndGlyphs\" textLength=\"20\" x=\"44\" y=\"133.9951\">P3</text></a><!--MD5=[270fce915f116d4de14055a7c1d9a0f3]\n",
       "class E5--><a href=\"psysml:794b889b-8918-46e8-9c14-cb61e0d8a2ea\" target=\"_top\" title=\"psysml:794b889b-8918-46e8-9c14-cb61e0d8a2ea\" xlink:actuate=\"onRequest\" xlink:href=\"psysml:794b889b-8918-46e8-9c14-cb61e0d8a2ea\" xlink:show=\"new\" xlink:title=\"psysml:794b889b-8918-46e8-9c14-cb61e0d8a2ea\" xlink:type=\"simple\"><rect fill=\"#FEFECE\" filter=\"url(#ffqkrygzjgx18)\" height=\"45.9375\" id=\"E5\" rx=\"10\" ry=\"10\" style=\"stroke: #A80036; stroke-width: 1.5;\" width=\"42\" x=\"190\" y=\"44.5\"/><text fill=\"#000000\" font-family=\"sans-serif\" font-size=\"12\" font-style=\"italic\" lengthAdjust=\"spacingAndGlyphs\" textLength=\"40\" x=\"191\" y=\"60.6387\">«part»</text><text fill=\"#000000\" font-family=\"sans-serif\" font-size=\"12\" lengthAdjust=\"spacingAndGlyphs\" textLength=\"22\" x=\"200\" y=\"74.6074\">x: A</text><line style=\"stroke: #A80036; stroke-width: 1.5;\" x1=\"191\" x2=\"231\" y1=\"82.4375\" y2=\"82.4375\"/></a><!--MD5=[b9389687b975829384b498ac4b7476b2]\n",
       "class E8--><a href=\"psysml:553a92d0-50bf-477b-b2ce-bf491dd9a415\" target=\"_top\" title=\"psysml:553a92d0-50bf-477b-b2ce-bf491dd9a415\" xlink:actuate=\"onRequest\" xlink:href=\"psysml:553a92d0-50bf-477b-b2ce-bf491dd9a415\" xlink:show=\"new\" xlink:title=\"psysml:553a92d0-50bf-477b-b2ce-bf491dd9a415\" xlink:type=\"simple\"><rect fill=\"#FEFECE\" filter=\"url(#ffqkrygzjgx18)\" height=\"45.9375\" id=\"E8\" rx=\"10\" ry=\"10\" style=\"stroke: #A80036; stroke-width: 1.5;\" width=\"42\" x=\"107\" y=\"44.5\"/><text fill=\"#000000\" font-family=\"sans-serif\" font-size=\"12\" font-style=\"italic\" lengthAdjust=\"spacingAndGlyphs\" textLength=\"40\" x=\"108\" y=\"60.6387\">«part»</text><text fill=\"#000000\" font-family=\"sans-serif\" font-size=\"12\" lengthAdjust=\"spacingAndGlyphs\" textLength=\"21\" x=\"117.5\" y=\"74.6074\">z: B</text><line style=\"stroke: #A80036; stroke-width: 1.5;\" x1=\"108\" x2=\"148\" y1=\"82.4375\" y2=\"82.4375\"/></a><!--MD5=[09b614a08d8cba4a07c9adeb5e0fee81]\n",
       "class E3--><a href=\"psysml:6090619b-e47a-44a4-bc4e-b4be6f2f4926\" target=\"_top\" title=\"psysml:6090619b-e47a-44a4-bc4e-b4be6f2f4926\" xlink:actuate=\"onRequest\" xlink:href=\"psysml:6090619b-e47a-44a4-bc4e-b4be6f2f4926\" xlink:show=\"new\" xlink:title=\"psysml:6090619b-e47a-44a4-bc4e-b4be6f2f4926\" xlink:type=\"simple\"><rect fill=\"#FEFECE\" filter=\"url(#ffqkrygzjgx18)\" height=\"45.9375\" id=\"E3\" style=\"stroke: #A80036; stroke-width: 1.5;\" width=\"66\" x=\"178\" y=\"154\"/><text fill=\"#000000\" font-family=\"sans-serif\" font-size=\"12\" font-style=\"italic\" lengthAdjust=\"spacingAndGlyphs\" textLength=\"64\" x=\"179\" y=\"170.1387\">«part def»</text><text fill=\"#000000\" font-family=\"sans-serif\" font-size=\"12\" lengthAdjust=\"spacingAndGlyphs\" textLength=\"8\" x=\"207\" y=\"184.1074\">A</text><line style=\"stroke: #A80036; stroke-width: 1.5;\" x1=\"179\" x2=\"243\" y1=\"191.9375\" y2=\"191.9375\"/></a><a href=\"psysml:2344491a-e19a-447d-a12e-1e886a7ea509\" target=\"_top\" title=\"psysml:2344491a-e19a-447d-a12e-1e886a7ea509\" xlink:actuate=\"onRequest\" xlink:href=\"psysml:2344491a-e19a-447d-a12e-1e886a7ea509\" xlink:show=\"new\" xlink:title=\"psysml:2344491a-e19a-447d-a12e-1e886a7ea509\" xlink:type=\"simple\"><polygon fill=\"#FFFFFF\" filter=\"url(#ffqkrygzjgx18)\" points=\"32,41,58,41,65,63.2969,72,63.2969,72,93.5938,32,93.5938,32,41\" style=\"stroke: #000000; stroke-width: 1.5;\"/><line style=\"stroke: #000000; stroke-width: 1.5;\" x1=\"32\" x2=\"65\" y1=\"63.2969\" y2=\"63.2969\"/><text fill=\"#000000\" font-family=\"sans-serif\" font-size=\"14\" font-weight=\"bold\" lengthAdjust=\"spacingAndGlyphs\" textLength=\"20\" x=\"36\" y=\"55.9951\">P2</text></a><!--MD5=[2156ba9850f5573cc1fc38a6a4b2f02b]\n",
       "class E7--><a href=\"psysml:9e432445-55c9-4726-a95f-4e15b991b53a\" target=\"_top\" title=\"psysml:9e432445-55c9-4726-a95f-4e15b991b53a\" xlink:actuate=\"onRequest\" xlink:href=\"psysml:9e432445-55c9-4726-a95f-4e15b991b53a\" xlink:show=\"new\" xlink:title=\"psysml:9e432445-55c9-4726-a95f-4e15b991b53a\" xlink:type=\"simple\"><rect fill=\"#FEFECE\" filter=\"url(#ffqkrygzjgx18)\" height=\"45.9375\" id=\"E7\" style=\"stroke: #A80036; stroke-width: 1.5;\" width=\"66\" x=\"56\" y=\"154\"/><text fill=\"#000000\" font-family=\"sans-serif\" font-size=\"12\" font-style=\"italic\" lengthAdjust=\"spacingAndGlyphs\" textLength=\"64\" x=\"57\" y=\"170.1387\">«part def»</text><text fill=\"#000000\" font-family=\"sans-serif\" font-size=\"12\" lengthAdjust=\"spacingAndGlyphs\" textLength=\"8\" x=\"85\" y=\"184.1074\">B</text><line style=\"stroke: #A80036; stroke-width: 1.5;\" x1=\"57\" x2=\"121\" y1=\"191.9375\" y2=\"191.9375\"/></a><!--MD5=[e9be52314489bd878ff4c7144b63c9e1]\n",
       "link E5 to E3--><a href=\"psysml:d9b9f238-e6f4-4810-bb41-4cf78560774c\" target=\"_top\" title=\"psysml:d9b9f238-e6f4-4810-bb41-4cf78560774c\" xlink:actuate=\"onRequest\" xlink:href=\"psysml:d9b9f238-e6f4-4810-bb41-4cf78560774c\" xlink:show=\"new\" xlink:title=\"psysml:d9b9f238-e6f4-4810-bb41-4cf78560774c\" xlink:type=\"simple\"><path d=\"M211,90.51 C211,102.89 211,118.78 211,133.48 \" fill=\"none\" id=\"E5-&gt;E3\" style=\"stroke: #A80036; stroke-width: 1.0;\"/><polygon fill=\"#FFFFFF\" points=\"211,153.65,204,134.65,218,134.65,211,153.65\" style=\"stroke: #A80036; stroke-width: 1.0;\"/><ellipse cx=\"206\" cy=\"128.95\" fill=\"#A80036\" rx=\"2\" ry=\"2\" style=\"stroke: #A80036; stroke-width: 1.0;\"/><ellipse cx=\"216\" cy=\"128.95\" fill=\"#A80036\" rx=\"2\" ry=\"2\" style=\"stroke: #A80036; stroke-width: 1.0;\"/></a><!--MD5=[bfa3c8b0d15052fdf50ae9310b491027]\n",
       "link E8 to E7--><a href=\"psysml:a13a28be-1001-42f5-9632-37667c0baf51\" target=\"_top\" title=\"psysml:a13a28be-1001-42f5-9632-37667c0baf51\" xlink:actuate=\"onRequest\" xlink:href=\"psysml:a13a28be-1001-42f5-9632-37667c0baf51\" xlink:show=\"new\" xlink:title=\"psysml:a13a28be-1001-42f5-9632-37667c0baf51\" xlink:type=\"simple\"><path d=\"M120.01,90.51 C115.39,103.25 109.42,119.7 103.96,134.76 \" fill=\"none\" id=\"E8-&gt;E7\" style=\"stroke: #A80036; stroke-width: 1.0;\"/><polygon fill=\"#FFFFFF\" points=\"97.11,153.65,97.0036,133.4018,110.1656,138.1726,97.11,153.65\" style=\"stroke: #A80036; stroke-width: 1.0;\"/><ellipse cx=\"100.8262\" cy=\"128.7245\" fill=\"#A80036\" rx=\"2\" ry=\"2\" style=\"stroke: #A80036; stroke-width: 1.0;\"/><ellipse cx=\"110.2277\" cy=\"132.1322\" fill=\"#A80036\" rx=\"2\" ry=\"2\" style=\"stroke: #A80036; stroke-width: 1.0;\"/></a><!--MD5=[c42e27fd0bdb33060eb8da368dc0422e]\n",
       "@startuml\r\n",
       "skinparam wrapWidth 300\r\n",
       "hide circle\r\n",
       "\r\n",
       "package \"PrivateImportTest\" as E1  [[psysml:70757ebb-a6cc-427a-a5fd-274a54eae870 ]]  {\r\n",
       "package \"P1\" as E2  [[psysml:9d9a8ea7-31e0-462e-8cd1-90f7e5dc514d ]]  {\r\n",
       "comp def \"A\" as E3  <<(T,blue)part def>> [[psysml:6090619b-e47a-44a4-bc4e-b4be6f2f4926 ]] {\r\n",
       "}\r\n",
       "}\r\n",
       "package \"P2\" as E4  [[psysml:2344491a-e19a-447d-a12e-1e886a7ea509 ]]  {\r\n",
       "}\r\n",
       "comp usage \"x: A\" as E5  <<(T,blue)part>> [[psysml:794b889b-8918-46e8-9c14-cb61e0d8a2ea ]] {\r\n",
       "}\r\n",
       "package \"P3\" as E6  [[psysml:e8a656ba-c51a-4d2d-932b-ea8b084af9f5 ]]  {\r\n",
       "comp def \"B\" as E7  <<(T,blue)part def>> [[psysml:9e432445-55c9-4726-a95f-4e15b991b53a ]] {\r\n",
       "}\r\n",
       "E5 - -:|> E3 [[psysml:d9b9f238-e6f4-4810-bb41-4cf78560774c ]] \r\n",
       "}\r\n",
       "comp usage \"z: B\" as E8  <<(T,blue)part>> [[psysml:553a92d0-50bf-477b-b2ce-bf491dd9a415 ]] {\r\n",
       "}\r\n",
       "E8 - -:|> E7 [[psysml:a13a28be-1001-42f5-9632-37667c0baf51 ]] \r\n",
       "}\r\n",
       "@enduml\r\n",
       "\n",
       "PlantUML version 1.2020.13(Sat Jun 13 12:26:38 UTC 2020)\n",
       "(EPL source distribution)\n",
       "Java Runtime: OpenJDK Runtime Environment\n",
       "JVM: OpenJDK 64-Bit Server VM\n",
       "Default Encoding: UTF-8\n",
       "Language: en\n",
       "Country: null\n",
       "--></g></svg>"
      ]
     },
     "execution_count": 23,
     "metadata": {},
     "output_type": "execute_result"
    }
   ],
   "source": [
    "%viz --style=\"STDCOLOR\" --view=\"Default\" \"PrivateImportTest\""
   ]
  },
  {
   "cell_type": "code",
   "execution_count": 24,
   "id": "established-balance",
   "metadata": {
    "execution": {
     "iopub.execute_input": "2021-03-25T15:01:14.183975Z",
     "iopub.status.busy": "2021-03-25T15:01:14.183065Z",
     "iopub.status.idle": "2021-03-25T15:01:14.264611Z",
     "shell.execute_reply": "2021-03-25T15:01:14.262607Z"
    }
   },
   "outputs": [
    {
     "data": {
      "image/svg+xml": [
       "<?xml version=\"1.0\" encoding=\"UTF-8\" standalone=\"no\"?><svg xmlns=\"http://www.w3.org/2000/svg\" xmlns:xlink=\"http://www.w3.org/1999/xlink\" contentScriptType=\"application/ecmascript\" contentStyleType=\"text/css\" height=\"252px\" preserveAspectRatio=\"none\" style=\"width:306px;height:252px;\" version=\"1.1\" viewBox=\"0 0 306 252\" width=\"306px\" zoomAndPan=\"magnify\"><defs><filter height=\"300%\" id=\"ffqkrygzjgx18\" width=\"300%\" x=\"-1\" y=\"-1\"><feGaussianBlur result=\"blurOut\" stdDeviation=\"2.0\"/><feColorMatrix in=\"blurOut\" result=\"blurOut2\" type=\"matrix\" values=\"0 0 0 0 0 0 0 0 0 0 0 0 0 0 0 0 0 0 .4 0\"/><feOffset dx=\"4.0\" dy=\"4.0\" in=\"blurOut2\" result=\"blurOut3\"/><feBlend in=\"SourceGraphic\" in2=\"blurOut3\" mode=\"normal\"/></filter></defs><g><!--MD5=[fbc87193dbaf4d95561dea2c320d4a47]\n",
       "cluster E1--><a href=\"psysml:70757ebb-a6cc-427a-a5fd-274a54eae870\" target=\"_top\" title=\"psysml:70757ebb-a6cc-427a-a5fd-274a54eae870\" xlink:actuate=\"onRequest\" xlink:href=\"psysml:70757ebb-a6cc-427a-a5fd-274a54eae870\" xlink:show=\"new\" xlink:title=\"psysml:70757ebb-a6cc-427a-a5fd-274a54eae870\" xlink:type=\"simple\"><polygon fill=\"#FFFFFF\" filter=\"url(#ffqkrygzjgx18)\" points=\"16,6,163,6,170,28.2969,284,28.2969,284,240,16,240,16,6\" style=\"stroke: #000000; stroke-width: 1.5;\"/><line style=\"stroke: #000000; stroke-width: 1.5;\" x1=\"16\" x2=\"170\" y1=\"28.2969\" y2=\"28.2969\"/><text fill=\"#000000\" font-family=\"sans-serif\" font-size=\"14\" font-weight=\"bold\" lengthAdjust=\"spacingAndGlyphs\" textLength=\"141\" x=\"20\" y=\"20.9951\">PrivateImportTest</text></a><!--MD5=[e4f7fae6ed58524ba242bb0b0d3be6b7]\n",
       "cluster E2--><a href=\"psysml:9d9a8ea7-31e0-462e-8cd1-90f7e5dc514d\" target=\"_top\" title=\"psysml:9d9a8ea7-31e0-462e-8cd1-90f7e5dc514d\" xlink:actuate=\"onRequest\" xlink:href=\"psysml:9d9a8ea7-31e0-462e-8cd1-90f7e5dc514d\" xlink:show=\"new\" xlink:title=\"psysml:9d9a8ea7-31e0-462e-8cd1-90f7e5dc514d\" xlink:type=\"simple\"><polygon fill=\"#FFFFFF\" filter=\"url(#ffqkrygzjgx18)\" points=\"162,119,188,119,195,141.2969,260,141.2969,260,216,162,216,162,119\" style=\"stroke: #000000; stroke-width: 1.5;\"/><line style=\"stroke: #000000; stroke-width: 1.5;\" x1=\"162\" x2=\"195\" y1=\"141.2969\" y2=\"141.2969\"/><text fill=\"#000000\" font-family=\"sans-serif\" font-size=\"14\" font-weight=\"bold\" lengthAdjust=\"spacingAndGlyphs\" textLength=\"20\" x=\"166\" y=\"133.9951\">P1</text></a><!--MD5=[14e3b0961a2654348d326746436168a1]\n",
       "cluster E6--><a href=\"psysml:e8a656ba-c51a-4d2d-932b-ea8b084af9f5\" target=\"_top\" title=\"psysml:e8a656ba-c51a-4d2d-932b-ea8b084af9f5\" xlink:actuate=\"onRequest\" xlink:href=\"psysml:e8a656ba-c51a-4d2d-932b-ea8b084af9f5\" xlink:show=\"new\" xlink:title=\"psysml:e8a656ba-c51a-4d2d-932b-ea8b084af9f5\" xlink:type=\"simple\"><polygon fill=\"#FFFFFF\" filter=\"url(#ffqkrygzjgx18)\" points=\"40,119,66,119,73,141.2969,138,141.2969,138,216,40,216,40,119\" style=\"stroke: #000000; stroke-width: 1.5;\"/><line style=\"stroke: #000000; stroke-width: 1.5;\" x1=\"40\" x2=\"73\" y1=\"141.2969\" y2=\"141.2969\"/><text fill=\"#000000\" font-family=\"sans-serif\" font-size=\"14\" font-weight=\"bold\" lengthAdjust=\"spacingAndGlyphs\" textLength=\"20\" x=\"44\" y=\"133.9951\">P3</text></a><!--MD5=[270fce915f116d4de14055a7c1d9a0f3]\n",
       "class E5--><a href=\"psysml:794b889b-8918-46e8-9c14-cb61e0d8a2ea\" target=\"_top\" title=\"psysml:794b889b-8918-46e8-9c14-cb61e0d8a2ea\" xlink:actuate=\"onRequest\" xlink:href=\"psysml:794b889b-8918-46e8-9c14-cb61e0d8a2ea\" xlink:show=\"new\" xlink:title=\"psysml:794b889b-8918-46e8-9c14-cb61e0d8a2ea\" xlink:type=\"simple\"><rect fill=\"#FEFECE\" filter=\"url(#ffqkrygzjgx18)\" height=\"45.9375\" id=\"E5\" rx=\"10\" ry=\"10\" style=\"stroke: #A80036; stroke-width: 1.5;\" width=\"42\" x=\"190\" y=\"44.5\"/><text fill=\"#000000\" font-family=\"sans-serif\" font-size=\"12\" font-style=\"italic\" lengthAdjust=\"spacingAndGlyphs\" textLength=\"40\" x=\"191\" y=\"60.6387\">«part»</text><text fill=\"#000000\" font-family=\"sans-serif\" font-size=\"12\" lengthAdjust=\"spacingAndGlyphs\" textLength=\"22\" x=\"200\" y=\"74.6074\">x: A</text><line style=\"stroke: #A80036; stroke-width: 1.5;\" x1=\"191\" x2=\"231\" y1=\"82.4375\" y2=\"82.4375\"/></a><!--MD5=[b9389687b975829384b498ac4b7476b2]\n",
       "class E8--><a href=\"psysml:553a92d0-50bf-477b-b2ce-bf491dd9a415\" target=\"_top\" title=\"psysml:553a92d0-50bf-477b-b2ce-bf491dd9a415\" xlink:actuate=\"onRequest\" xlink:href=\"psysml:553a92d0-50bf-477b-b2ce-bf491dd9a415\" xlink:show=\"new\" xlink:title=\"psysml:553a92d0-50bf-477b-b2ce-bf491dd9a415\" xlink:type=\"simple\"><rect fill=\"#FEFECE\" filter=\"url(#ffqkrygzjgx18)\" height=\"45.9375\" id=\"E8\" rx=\"10\" ry=\"10\" style=\"stroke: #A80036; stroke-width: 1.5;\" width=\"42\" x=\"107\" y=\"44.5\"/><text fill=\"#000000\" font-family=\"sans-serif\" font-size=\"12\" font-style=\"italic\" lengthAdjust=\"spacingAndGlyphs\" textLength=\"40\" x=\"108\" y=\"60.6387\">«part»</text><text fill=\"#000000\" font-family=\"sans-serif\" font-size=\"12\" lengthAdjust=\"spacingAndGlyphs\" textLength=\"21\" x=\"117.5\" y=\"74.6074\">z: B</text><line style=\"stroke: #A80036; stroke-width: 1.5;\" x1=\"108\" x2=\"148\" y1=\"82.4375\" y2=\"82.4375\"/></a><!--MD5=[09b614a08d8cba4a07c9adeb5e0fee81]\n",
       "class E3--><a href=\"psysml:6090619b-e47a-44a4-bc4e-b4be6f2f4926\" target=\"_top\" title=\"psysml:6090619b-e47a-44a4-bc4e-b4be6f2f4926\" xlink:actuate=\"onRequest\" xlink:href=\"psysml:6090619b-e47a-44a4-bc4e-b4be6f2f4926\" xlink:show=\"new\" xlink:title=\"psysml:6090619b-e47a-44a4-bc4e-b4be6f2f4926\" xlink:type=\"simple\"><rect fill=\"#FEFECE\" filter=\"url(#ffqkrygzjgx18)\" height=\"45.9375\" id=\"E3\" style=\"stroke: #A80036; stroke-width: 1.5;\" width=\"66\" x=\"178\" y=\"154\"/><text fill=\"#000000\" font-family=\"sans-serif\" font-size=\"12\" font-style=\"italic\" lengthAdjust=\"spacingAndGlyphs\" textLength=\"64\" x=\"179\" y=\"170.1387\">«part def»</text><text fill=\"#000000\" font-family=\"sans-serif\" font-size=\"12\" lengthAdjust=\"spacingAndGlyphs\" textLength=\"8\" x=\"207\" y=\"184.1074\">A</text><line style=\"stroke: #A80036; stroke-width: 1.5;\" x1=\"179\" x2=\"243\" y1=\"191.9375\" y2=\"191.9375\"/></a><a href=\"psysml:2344491a-e19a-447d-a12e-1e886a7ea509\" target=\"_top\" title=\"psysml:2344491a-e19a-447d-a12e-1e886a7ea509\" xlink:actuate=\"onRequest\" xlink:href=\"psysml:2344491a-e19a-447d-a12e-1e886a7ea509\" xlink:show=\"new\" xlink:title=\"psysml:2344491a-e19a-447d-a12e-1e886a7ea509\" xlink:type=\"simple\"><polygon fill=\"#FFFFFF\" filter=\"url(#ffqkrygzjgx18)\" points=\"32,41,58,41,65,63.2969,72,63.2969,72,93.5938,32,93.5938,32,41\" style=\"stroke: #000000; stroke-width: 1.5;\"/><line style=\"stroke: #000000; stroke-width: 1.5;\" x1=\"32\" x2=\"65\" y1=\"63.2969\" y2=\"63.2969\"/><text fill=\"#000000\" font-family=\"sans-serif\" font-size=\"14\" font-weight=\"bold\" lengthAdjust=\"spacingAndGlyphs\" textLength=\"20\" x=\"36\" y=\"55.9951\">P2</text></a><!--MD5=[2156ba9850f5573cc1fc38a6a4b2f02b]\n",
       "class E7--><a href=\"psysml:9e432445-55c9-4726-a95f-4e15b991b53a\" target=\"_top\" title=\"psysml:9e432445-55c9-4726-a95f-4e15b991b53a\" xlink:actuate=\"onRequest\" xlink:href=\"psysml:9e432445-55c9-4726-a95f-4e15b991b53a\" xlink:show=\"new\" xlink:title=\"psysml:9e432445-55c9-4726-a95f-4e15b991b53a\" xlink:type=\"simple\"><rect fill=\"#FEFECE\" filter=\"url(#ffqkrygzjgx18)\" height=\"45.9375\" id=\"E7\" style=\"stroke: #A80036; stroke-width: 1.5;\" width=\"66\" x=\"56\" y=\"154\"/><text fill=\"#000000\" font-family=\"sans-serif\" font-size=\"12\" font-style=\"italic\" lengthAdjust=\"spacingAndGlyphs\" textLength=\"64\" x=\"57\" y=\"170.1387\">«part def»</text><text fill=\"#000000\" font-family=\"sans-serif\" font-size=\"12\" lengthAdjust=\"spacingAndGlyphs\" textLength=\"8\" x=\"85\" y=\"184.1074\">B</text><line style=\"stroke: #A80036; stroke-width: 1.5;\" x1=\"57\" x2=\"121\" y1=\"191.9375\" y2=\"191.9375\"/></a><!--MD5=[e9be52314489bd878ff4c7144b63c9e1]\n",
       "link E5 to E3--><a href=\"psysml:d9b9f238-e6f4-4810-bb41-4cf78560774c\" target=\"_top\" title=\"psysml:d9b9f238-e6f4-4810-bb41-4cf78560774c\" xlink:actuate=\"onRequest\" xlink:href=\"psysml:d9b9f238-e6f4-4810-bb41-4cf78560774c\" xlink:show=\"new\" xlink:title=\"psysml:d9b9f238-e6f4-4810-bb41-4cf78560774c\" xlink:type=\"simple\"><path d=\"M211,90.51 C211,102.89 211,118.78 211,133.48 \" fill=\"none\" id=\"E5-&gt;E3\" style=\"stroke: #A80036; stroke-width: 1.0;\"/><polygon fill=\"#FFFFFF\" points=\"211,153.65,204,134.65,218,134.65,211,153.65\" style=\"stroke: #A80036; stroke-width: 1.0;\"/><ellipse cx=\"206\" cy=\"128.95\" fill=\"#A80036\" rx=\"2\" ry=\"2\" style=\"stroke: #A80036; stroke-width: 1.0;\"/><ellipse cx=\"216\" cy=\"128.95\" fill=\"#A80036\" rx=\"2\" ry=\"2\" style=\"stroke: #A80036; stroke-width: 1.0;\"/></a><!--MD5=[bfa3c8b0d15052fdf50ae9310b491027]\n",
       "link E8 to E7--><a href=\"psysml:a13a28be-1001-42f5-9632-37667c0baf51\" target=\"_top\" title=\"psysml:a13a28be-1001-42f5-9632-37667c0baf51\" xlink:actuate=\"onRequest\" xlink:href=\"psysml:a13a28be-1001-42f5-9632-37667c0baf51\" xlink:show=\"new\" xlink:title=\"psysml:a13a28be-1001-42f5-9632-37667c0baf51\" xlink:type=\"simple\"><path d=\"M120.01,90.51 C115.39,103.25 109.42,119.7 103.96,134.76 \" fill=\"none\" id=\"E8-&gt;E7\" style=\"stroke: #A80036; stroke-width: 1.0;\"/><polygon fill=\"#FFFFFF\" points=\"97.11,153.65,97.0036,133.4018,110.1656,138.1726,97.11,153.65\" style=\"stroke: #A80036; stroke-width: 1.0;\"/><ellipse cx=\"100.8262\" cy=\"128.7245\" fill=\"#A80036\" rx=\"2\" ry=\"2\" style=\"stroke: #A80036; stroke-width: 1.0;\"/><ellipse cx=\"110.2277\" cy=\"132.1322\" fill=\"#A80036\" rx=\"2\" ry=\"2\" style=\"stroke: #A80036; stroke-width: 1.0;\"/></a><!--MD5=[c42e27fd0bdb33060eb8da368dc0422e]\n",
       "@startuml\r\n",
       "skinparam wrapWidth 300\r\n",
       "hide circle\r\n",
       "\r\n",
       "package \"PrivateImportTest\" as E1  [[psysml:70757ebb-a6cc-427a-a5fd-274a54eae870 ]]  {\r\n",
       "package \"P1\" as E2  [[psysml:9d9a8ea7-31e0-462e-8cd1-90f7e5dc514d ]]  {\r\n",
       "comp def \"A\" as E3  <<(T,blue)part def>> [[psysml:6090619b-e47a-44a4-bc4e-b4be6f2f4926 ]] {\r\n",
       "}\r\n",
       "}\r\n",
       "package \"P2\" as E4  [[psysml:2344491a-e19a-447d-a12e-1e886a7ea509 ]]  {\r\n",
       "}\r\n",
       "comp usage \"x: A\" as E5  <<(T,blue)part>> [[psysml:794b889b-8918-46e8-9c14-cb61e0d8a2ea ]] {\r\n",
       "}\r\n",
       "package \"P3\" as E6  [[psysml:e8a656ba-c51a-4d2d-932b-ea8b084af9f5 ]]  {\r\n",
       "comp def \"B\" as E7  <<(T,blue)part def>> [[psysml:9e432445-55c9-4726-a95f-4e15b991b53a ]] {\r\n",
       "}\r\n",
       "E5 - -:|> E3 [[psysml:d9b9f238-e6f4-4810-bb41-4cf78560774c ]] \r\n",
       "}\r\n",
       "comp usage \"z: B\" as E8  <<(T,blue)part>> [[psysml:553a92d0-50bf-477b-b2ce-bf491dd9a415 ]] {\r\n",
       "}\r\n",
       "E8 - -:|> E7 [[psysml:a13a28be-1001-42f5-9632-37667c0baf51 ]] \r\n",
       "}\r\n",
       "@enduml\r\n",
       "\n",
       "PlantUML version 1.2020.13(Sat Jun 13 12:26:38 UTC 2020)\n",
       "(EPL source distribution)\n",
       "Java Runtime: OpenJDK Runtime Environment\n",
       "JVM: OpenJDK 64-Bit Server VM\n",
       "Default Encoding: UTF-8\n",
       "Language: en\n",
       "Country: null\n",
       "--></g></svg>"
      ]
     },
     "execution_count": 24,
     "metadata": {},
     "output_type": "execute_result"
    }
   ],
   "source": [
    "%viz --style=\"STDCOLOR\" --view=\"Tree\" \"PrivateImportTest\""
   ]
  },
  {
   "cell_type": "code",
   "execution_count": 25,
   "id": "jewish-tissue",
   "metadata": {
    "execution": {
     "iopub.execute_input": "2021-03-25T15:01:14.318621Z",
     "iopub.status.busy": "2021-03-25T15:01:14.315953Z",
     "iopub.status.idle": "2021-03-25T15:01:14.330430Z",
     "shell.execute_reply": "2021-03-25T15:01:14.329712Z"
    }
   },
   "outputs": [
    {
     "data": {
      "image/svg+xml": [
       "<?xml version=\"1.0\" encoding=\"UTF-8\" standalone=\"no\"?><svg xmlns=\"http://www.w3.org/2000/svg\" xmlns:xlink=\"http://www.w3.org/1999/xlink\" contentScriptType=\"application/ecmascript\" contentStyleType=\"text/css\" height=\"12px\" preserveAspectRatio=\"none\" style=\"width:12px;height:12px;\" version=\"1.1\" viewBox=\"0 0 12 12\" width=\"12px\" zoomAndPan=\"magnify\"><defs/><g><!--MD5=[aeeef50f102b80d730deb6443d14f702]\n",
       "@startuml\r\n",
       "skinparam wrapWidth 300\r\n",
       "hide circle\r\n",
       "\r\n",
       "@enduml\r\n",
       "\n",
       "PlantUML version 1.2020.13(Sat Jun 13 12:26:38 UTC 2020)\n",
       "(EPL source distribution)\n",
       "Java Runtime: OpenJDK Runtime Environment\n",
       "JVM: OpenJDK 64-Bit Server VM\n",
       "Default Encoding: UTF-8\n",
       "Language: en\n",
       "Country: null\n",
       "--></g></svg>"
      ]
     },
     "execution_count": 25,
     "metadata": {},
     "output_type": "execute_result"
    }
   ],
   "source": [
    "%viz --style=\"STDCOLOR\" --view=\"State\" \"PrivateImportTest\""
   ]
  },
  {
   "cell_type": "code",
   "execution_count": 26,
   "id": "constant-client",
   "metadata": {
    "execution": {
     "iopub.execute_input": "2021-03-25T15:01:14.379250Z",
     "iopub.status.busy": "2021-03-25T15:01:14.378790Z",
     "iopub.status.idle": "2021-03-25T15:01:14.469477Z",
     "shell.execute_reply": "2021-03-25T15:01:14.469021Z"
    }
   },
   "outputs": [
    {
     "data": {
      "image/svg+xml": [
       "<?xml version=\"1.0\" encoding=\"UTF-8\" standalone=\"no\"?><svg xmlns=\"http://www.w3.org/2000/svg\" xmlns:xlink=\"http://www.w3.org/1999/xlink\" contentScriptType=\"application/ecmascript\" contentStyleType=\"text/css\" height=\"179px\" preserveAspectRatio=\"none\" style=\"width:539px;height:179px;\" version=\"1.1\" viewBox=\"0 0 539 179\" width=\"539px\" zoomAndPan=\"magnify\"><defs><filter height=\"300%\" id=\"fda71r4zlrffm\" width=\"300%\" x=\"-1\" y=\"-1\"><feGaussianBlur result=\"blurOut\" stdDeviation=\"2.0\"/><feColorMatrix in=\"blurOut\" result=\"blurOut2\" type=\"matrix\" values=\"0 0 0 0 0 0 0 0 0 0 0 0 0 0 0 0 0 0 .4 0\"/><feOffset dx=\"4.0\" dy=\"4.0\" in=\"blurOut2\" result=\"blurOut3\"/><feBlend in=\"SourceGraphic\" in2=\"blurOut3\" mode=\"normal\"/></filter></defs><g><!--MD5=[fbc87193dbaf4d95561dea2c320d4a47]\n",
       "cluster E1--><a href=\"psysml:70757ebb-a6cc-427a-a5fd-274a54eae870\" target=\"_top\" title=\"psysml:70757ebb-a6cc-427a-a5fd-274a54eae870\" xlink:actuate=\"onRequest\" xlink:href=\"psysml:70757ebb-a6cc-427a-a5fd-274a54eae870\" xlink:show=\"new\" xlink:title=\"psysml:70757ebb-a6cc-427a-a5fd-274a54eae870\" xlink:type=\"simple\"><polygon fill=\"#FFFFFF\" filter=\"url(#fda71r4zlrffm)\" points=\"16,6,163,6,170,28.2969,517,28.2969,517,167,16,167,16,6\" style=\"stroke: #000000; stroke-width: 1.5;\"/><line style=\"stroke: #000000; stroke-width: 1.5;\" x1=\"16\" x2=\"170\" y1=\"28.2969\" y2=\"28.2969\"/><text fill=\"#000000\" font-family=\"sans-serif\" font-size=\"14\" font-weight=\"bold\" lengthAdjust=\"spacingAndGlyphs\" textLength=\"141\" x=\"20\" y=\"20.9951\">PrivateImportTest</text></a><!--MD5=[e4f7fae6ed58524ba242bb0b0d3be6b7]\n",
       "cluster E2--><a href=\"psysml:9d9a8ea7-31e0-462e-8cd1-90f7e5dc514d\" target=\"_top\" title=\"psysml:9d9a8ea7-31e0-462e-8cd1-90f7e5dc514d\" xlink:actuate=\"onRequest\" xlink:href=\"psysml:9d9a8ea7-31e0-462e-8cd1-90f7e5dc514d\" xlink:show=\"new\" xlink:title=\"psysml:9d9a8ea7-31e0-462e-8cd1-90f7e5dc514d\" xlink:type=\"simple\"><polygon fill=\"#FFFFFF\" filter=\"url(#fda71r4zlrffm)\" points=\"389,49,415,49,422,71.2969,493,71.2969,493,143,389,143,389,49\" style=\"stroke: #000000; stroke-width: 1.5;\"/><line style=\"stroke: #000000; stroke-width: 1.5;\" x1=\"389\" x2=\"422\" y1=\"71.2969\" y2=\"71.2969\"/><text fill=\"#000000\" font-family=\"sans-serif\" font-size=\"14\" font-weight=\"bold\" lengthAdjust=\"spacingAndGlyphs\" textLength=\"20\" x=\"393\" y=\"63.9951\">P1</text></a><!--MD5=[14e3b0961a2654348d326746436168a1]\n",
       "cluster E6--><a href=\"psysml:e8a656ba-c51a-4d2d-932b-ea8b084af9f5\" target=\"_top\" title=\"psysml:e8a656ba-c51a-4d2d-932b-ea8b084af9f5\" xlink:actuate=\"onRequest\" xlink:href=\"psysml:e8a656ba-c51a-4d2d-932b-ea8b084af9f5\" xlink:show=\"new\" xlink:title=\"psysml:e8a656ba-c51a-4d2d-932b-ea8b084af9f5\" xlink:type=\"simple\"><polygon fill=\"#FFFFFF\" filter=\"url(#fda71r4zlrffm)\" points=\"261,49,287,49,294,71.2969,365,71.2969,365,143,261,143,261,49\" style=\"stroke: #000000; stroke-width: 1.5;\"/><line style=\"stroke: #000000; stroke-width: 1.5;\" x1=\"261\" x2=\"294\" y1=\"71.2969\" y2=\"71.2969\"/><text fill=\"#000000\" font-family=\"sans-serif\" font-size=\"14\" font-weight=\"bold\" lengthAdjust=\"spacingAndGlyphs\" textLength=\"20\" x=\"265\" y=\"63.9951\">P3</text></a><g id=\"E1.E2.E3\"><a href=\"psysml:6090619b-e47a-44a4-bc4e-b4be6f2f4926\" target=\"_top\" title=\"psysml:6090619b-e47a-44a4-bc4e-b4be6f2f4926\" xlink:actuate=\"onRequest\" xlink:href=\"psysml:6090619b-e47a-44a4-bc4e-b4be6f2f4926\" xlink:show=\"new\" xlink:title=\"psysml:6090619b-e47a-44a4-bc4e-b4be6f2f4926\" xlink:type=\"simple\"><rect fill=\"#FEFECE\" filter=\"url(#fda71r4zlrffm)\" height=\"42.9375\" id=\"E3\" style=\"stroke: #A80036; stroke-width: 1.5;\" width=\"71\" x=\"405.5\" y=\"84\"/><text fill=\"#000000\" font-family=\"sans-serif\" font-size=\"12\" font-style=\"italic\" lengthAdjust=\"spacingAndGlyphs\" textLength=\"64\" x=\"409\" y=\"100.1387\">«part def»</text><text fill=\"#000000\" font-family=\"sans-serif\" font-size=\"12\" lengthAdjust=\"spacingAndGlyphs\" textLength=\"8\" x=\"437\" y=\"114.1074\">A</text></a></g><a href=\"psysml:2344491a-e19a-447d-a12e-1e886a7ea509\" target=\"_top\" title=\"psysml:2344491a-e19a-447d-a12e-1e886a7ea509\" xlink:actuate=\"onRequest\" xlink:href=\"psysml:2344491a-e19a-447d-a12e-1e886a7ea509\" xlink:show=\"new\" xlink:title=\"psysml:2344491a-e19a-447d-a12e-1e886a7ea509\" xlink:type=\"simple\"><polygon fill=\"#FFFFFF\" filter=\"url(#fda71r4zlrffm)\" points=\"202,79,228,79,235,101.2969,242,101.2969,242,131.5938,202,131.5938,202,79\" style=\"stroke: #000000; stroke-width: 1.5;\"/><line style=\"stroke: #000000; stroke-width: 1.5;\" x1=\"202\" x2=\"235\" y1=\"101.2969\" y2=\"101.2969\"/><text fill=\"#000000\" font-family=\"sans-serif\" font-size=\"14\" font-weight=\"bold\" lengthAdjust=\"spacingAndGlyphs\" textLength=\"20\" x=\"206\" y=\"93.9951\">P2</text></a><g id=\"E1.E5\"><a href=\"psysml:794b889b-8918-46e8-9c14-cb61e0d8a2ea\" target=\"_top\" title=\"psysml:794b889b-8918-46e8-9c14-cb61e0d8a2ea\" xlink:actuate=\"onRequest\" xlink:href=\"psysml:794b889b-8918-46e8-9c14-cb61e0d8a2ea\" xlink:show=\"new\" xlink:title=\"psysml:794b889b-8918-46e8-9c14-cb61e0d8a2ea\" xlink:type=\"simple\"><rect fill=\"#FEFECE\" filter=\"url(#fda71r4zlrffm)\" height=\"40\" id=\"E5\" rx=\"10\" ry=\"10\" style=\"stroke: #A80036; stroke-width: 1.5;\" width=\"50\" x=\"117\" y=\"85.5\"/><text fill=\"#000000\" font-family=\"sans-serif\" font-size=\"12\" lengthAdjust=\"spacingAndGlyphs\" textLength=\"22\" x=\"131\" y=\"101.6387\">x: A</text></a></g><g id=\"E1.E6.E7\"><a href=\"psysml:9e432445-55c9-4726-a95f-4e15b991b53a\" target=\"_top\" title=\"psysml:9e432445-55c9-4726-a95f-4e15b991b53a\" xlink:actuate=\"onRequest\" xlink:href=\"psysml:9e432445-55c9-4726-a95f-4e15b991b53a\" xlink:show=\"new\" xlink:title=\"psysml:9e432445-55c9-4726-a95f-4e15b991b53a\" xlink:type=\"simple\"><rect fill=\"#FEFECE\" filter=\"url(#fda71r4zlrffm)\" height=\"42.9375\" id=\"E7\" style=\"stroke: #A80036; stroke-width: 1.5;\" width=\"71\" x=\"277.5\" y=\"84\"/><text fill=\"#000000\" font-family=\"sans-serif\" font-size=\"12\" font-style=\"italic\" lengthAdjust=\"spacingAndGlyphs\" textLength=\"64\" x=\"281\" y=\"100.1387\">«part def»</text><text fill=\"#000000\" font-family=\"sans-serif\" font-size=\"12\" lengthAdjust=\"spacingAndGlyphs\" textLength=\"8\" x=\"309\" y=\"114.1074\">B</text></a></g><g id=\"E1.E8\"><a href=\"psysml:553a92d0-50bf-477b-b2ce-bf491dd9a415\" target=\"_top\" title=\"psysml:553a92d0-50bf-477b-b2ce-bf491dd9a415\" xlink:actuate=\"onRequest\" xlink:href=\"psysml:553a92d0-50bf-477b-b2ce-bf491dd9a415\" xlink:show=\"new\" xlink:title=\"psysml:553a92d0-50bf-477b-b2ce-bf491dd9a415\" xlink:type=\"simple\"><rect fill=\"#FEFECE\" filter=\"url(#fda71r4zlrffm)\" height=\"40\" id=\"E8\" rx=\"10\" ry=\"10\" style=\"stroke: #A80036; stroke-width: 1.5;\" width=\"50\" x=\"32\" y=\"85.5\"/><text fill=\"#000000\" font-family=\"sans-serif\" font-size=\"12\" lengthAdjust=\"spacingAndGlyphs\" textLength=\"21\" x=\"46.5\" y=\"101.6387\">z: B</text></a></g><!--MD5=[59db0bd0a75b6c2582bd85a27d18fccd]\n",
       "@startuml\r\n",
       "skinparam ranksep 8\r\n",
       "skinparam rectangle {\r\n",
       " backgroundColor<<block>> LightGreen\r\n",
       "}\r\n",
       "skinparam wrapWidth 300\r\n",
       "hide circle\r\n",
       "\r\n",
       "package \"PrivateImportTest\" as E1  [[psysml:70757ebb-a6cc-427a-a5fd-274a54eae870 ]]  {\r\n",
       "package \"P1\" as E2  [[psysml:9d9a8ea7-31e0-462e-8cd1-90f7e5dc514d ]]  {\r\n",
       "rec def \"A\" as E3  <<(T,blue)part def>> [[psysml:6090619b-e47a-44a4-bc4e-b4be6f2f4926 ]] {\r\n",
       "}\r\n",
       "}\r\n",
       "package \"P2\" as E4  [[psysml:2344491a-e19a-447d-a12e-1e886a7ea509 ]]  {\r\n",
       "}\r\n",
       "rec usage \"x: A\" as E5  [[psysml:794b889b-8918-46e8-9c14-cb61e0d8a2ea ]] {\r\n",
       "}\r\n",
       "package \"P3\" as E6  [[psysml:e8a656ba-c51a-4d2d-932b-ea8b084af9f5 ]]  {\r\n",
       "rec def \"B\" as E7  <<(T,blue)part def>> [[psysml:9e432445-55c9-4726-a95f-4e15b991b53a ]] {\r\n",
       "}\r\n",
       "}\r\n",
       "rec usage \"z: B\" as E8  [[psysml:553a92d0-50bf-477b-b2ce-bf491dd9a415 ]] {\r\n",
       "}\r\n",
       "}\r\n",
       "@enduml\r\n",
       "\n",
       "PlantUML version 1.2020.13(Sat Jun 13 12:26:38 UTC 2020)\n",
       "(EPL source distribution)\n",
       "Java Runtime: OpenJDK Runtime Environment\n",
       "JVM: OpenJDK 64-Bit Server VM\n",
       "Default Encoding: UTF-8\n",
       "Language: en\n",
       "Country: null\n",
       "--></g></svg>"
      ]
     },
     "execution_count": 26,
     "metadata": {},
     "output_type": "execute_result"
    }
   ],
   "source": [
    "%viz --style=\"STDCOLOR\" --view=\"Interconnection\" \"PrivateImportTest\""
   ]
  },
  {
   "cell_type": "code",
   "execution_count": 27,
   "id": "potential-purple",
   "metadata": {
    "execution": {
     "iopub.execute_input": "2021-03-25T15:01:14.523637Z",
     "iopub.status.busy": "2021-03-25T15:01:14.521941Z",
     "iopub.status.idle": "2021-03-25T15:01:14.537377Z",
     "shell.execute_reply": "2021-03-25T15:01:14.547908Z"
    }
   },
   "outputs": [
    {
     "data": {
      "image/svg+xml": [
       "<?xml version=\"1.0\" encoding=\"UTF-8\" standalone=\"no\"?><svg xmlns=\"http://www.w3.org/2000/svg\" xmlns:xlink=\"http://www.w3.org/1999/xlink\" contentScriptType=\"application/ecmascript\" contentStyleType=\"text/css\" height=\"12px\" preserveAspectRatio=\"none\" style=\"width:12px;height:12px;\" version=\"1.1\" viewBox=\"0 0 12 12\" width=\"12px\" zoomAndPan=\"magnify\"><defs/><g><!--MD5=[9863325348a96a77dacc89509d8ee65e]\n",
       "@startuml\r\n",
       "skinparam ranksep 8\r\n",
       "skinparam wrapWidth 300\r\n",
       "hide circle\r\n",
       "\r\n",
       "@enduml\r\n",
       "\n",
       "PlantUML version 1.2020.13(Sat Jun 13 12:26:38 UTC 2020)\n",
       "(EPL source distribution)\n",
       "Java Runtime: OpenJDK Runtime Environment\n",
       "JVM: OpenJDK 64-Bit Server VM\n",
       "Default Encoding: UTF-8\n",
       "Language: en\n",
       "Country: null\n",
       "--></g></svg>"
      ]
     },
     "execution_count": 27,
     "metadata": {},
     "output_type": "execute_result"
    }
   ],
   "source": [
    "%viz --style=\"STDCOLOR\" --view=\"Action\" \"PrivateImportTest\""
   ]
  },
  {
   "cell_type": "code",
   "execution_count": 28,
   "id": "developmental-mechanics",
   "metadata": {
    "execution": {
     "iopub.execute_input": "2021-03-25T15:01:14.588103Z",
     "iopub.status.busy": "2021-03-25T15:01:14.587478Z",
     "iopub.status.idle": "2021-03-25T15:01:14.744527Z",
     "shell.execute_reply": "2021-03-25T15:01:14.745686Z"
    }
   },
   "outputs": [
    {
     "data": {
      "image/svg+xml": [
       "<?xml version=\"1.0\" encoding=\"UTF-8\" standalone=\"no\"?><svg xmlns=\"http://www.w3.org/2000/svg\" xmlns:xlink=\"http://www.w3.org/1999/xlink\" contentScriptType=\"application/ecmascript\" contentStyleType=\"text/css\" height=\"252px\" preserveAspectRatio=\"none\" style=\"width:306px;height:252px;\" version=\"1.1\" viewBox=\"0 0 306 252\" width=\"306px\" zoomAndPan=\"magnify\"><defs><filter height=\"300%\" id=\"ffqkrygzjgx18\" width=\"300%\" x=\"-1\" y=\"-1\"><feGaussianBlur result=\"blurOut\" stdDeviation=\"2.0\"/><feColorMatrix in=\"blurOut\" result=\"blurOut2\" type=\"matrix\" values=\"0 0 0 0 0 0 0 0 0 0 0 0 0 0 0 0 0 0 .4 0\"/><feOffset dx=\"4.0\" dy=\"4.0\" in=\"blurOut2\" result=\"blurOut3\"/><feBlend in=\"SourceGraphic\" in2=\"blurOut3\" mode=\"normal\"/></filter></defs><g><!--MD5=[fbc87193dbaf4d95561dea2c320d4a47]\n",
       "cluster E1--><a href=\"psysml:70757ebb-a6cc-427a-a5fd-274a54eae870\" target=\"_top\" title=\"psysml:70757ebb-a6cc-427a-a5fd-274a54eae870\" xlink:actuate=\"onRequest\" xlink:href=\"psysml:70757ebb-a6cc-427a-a5fd-274a54eae870\" xlink:show=\"new\" xlink:title=\"psysml:70757ebb-a6cc-427a-a5fd-274a54eae870\" xlink:type=\"simple\"><polygon fill=\"#FFFFFF\" filter=\"url(#ffqkrygzjgx18)\" points=\"16,6,163,6,170,28.2969,284,28.2969,284,240,16,240,16,6\" style=\"stroke: #000000; stroke-width: 1.5;\"/><line style=\"stroke: #000000; stroke-width: 1.5;\" x1=\"16\" x2=\"170\" y1=\"28.2969\" y2=\"28.2969\"/><text fill=\"#000000\" font-family=\"sans-serif\" font-size=\"14\" font-weight=\"bold\" lengthAdjust=\"spacingAndGlyphs\" textLength=\"141\" x=\"20\" y=\"20.9951\">PrivateImportTest</text></a><!--MD5=[e4f7fae6ed58524ba242bb0b0d3be6b7]\n",
       "cluster E2--><a href=\"psysml:9d9a8ea7-31e0-462e-8cd1-90f7e5dc514d\" target=\"_top\" title=\"psysml:9d9a8ea7-31e0-462e-8cd1-90f7e5dc514d\" xlink:actuate=\"onRequest\" xlink:href=\"psysml:9d9a8ea7-31e0-462e-8cd1-90f7e5dc514d\" xlink:show=\"new\" xlink:title=\"psysml:9d9a8ea7-31e0-462e-8cd1-90f7e5dc514d\" xlink:type=\"simple\"><polygon fill=\"#FFFFFF\" filter=\"url(#ffqkrygzjgx18)\" points=\"162,119,188,119,195,141.2969,260,141.2969,260,216,162,216,162,119\" style=\"stroke: #000000; stroke-width: 1.5;\"/><line style=\"stroke: #000000; stroke-width: 1.5;\" x1=\"162\" x2=\"195\" y1=\"141.2969\" y2=\"141.2969\"/><text fill=\"#000000\" font-family=\"sans-serif\" font-size=\"14\" font-weight=\"bold\" lengthAdjust=\"spacingAndGlyphs\" textLength=\"20\" x=\"166\" y=\"133.9951\">P1</text></a><!--MD5=[14e3b0961a2654348d326746436168a1]\n",
       "cluster E6--><a href=\"psysml:e8a656ba-c51a-4d2d-932b-ea8b084af9f5\" target=\"_top\" title=\"psysml:e8a656ba-c51a-4d2d-932b-ea8b084af9f5\" xlink:actuate=\"onRequest\" xlink:href=\"psysml:e8a656ba-c51a-4d2d-932b-ea8b084af9f5\" xlink:show=\"new\" xlink:title=\"psysml:e8a656ba-c51a-4d2d-932b-ea8b084af9f5\" xlink:type=\"simple\"><polygon fill=\"#FFFFFF\" filter=\"url(#ffqkrygzjgx18)\" points=\"40,119,66,119,73,141.2969,138,141.2969,138,216,40,216,40,119\" style=\"stroke: #000000; stroke-width: 1.5;\"/><line style=\"stroke: #000000; stroke-width: 1.5;\" x1=\"40\" x2=\"73\" y1=\"141.2969\" y2=\"141.2969\"/><text fill=\"#000000\" font-family=\"sans-serif\" font-size=\"14\" font-weight=\"bold\" lengthAdjust=\"spacingAndGlyphs\" textLength=\"20\" x=\"44\" y=\"133.9951\">P3</text></a><!--MD5=[270fce915f116d4de14055a7c1d9a0f3]\n",
       "class E5--><a href=\"psysml:794b889b-8918-46e8-9c14-cb61e0d8a2ea\" target=\"_top\" title=\"psysml:794b889b-8918-46e8-9c14-cb61e0d8a2ea\" xlink:actuate=\"onRequest\" xlink:href=\"psysml:794b889b-8918-46e8-9c14-cb61e0d8a2ea\" xlink:show=\"new\" xlink:title=\"psysml:794b889b-8918-46e8-9c14-cb61e0d8a2ea\" xlink:type=\"simple\"><rect fill=\"#FEFECE\" filter=\"url(#ffqkrygzjgx18)\" height=\"45.9375\" id=\"E5\" rx=\"10\" ry=\"10\" style=\"stroke: #A80036; stroke-width: 1.5;\" width=\"42\" x=\"190\" y=\"44.5\"/><text fill=\"#000000\" font-family=\"sans-serif\" font-size=\"12\" font-style=\"italic\" lengthAdjust=\"spacingAndGlyphs\" textLength=\"40\" x=\"191\" y=\"60.6387\">«part»</text><text fill=\"#000000\" font-family=\"sans-serif\" font-size=\"12\" lengthAdjust=\"spacingAndGlyphs\" textLength=\"22\" x=\"200\" y=\"74.6074\">x: A</text><line style=\"stroke: #A80036; stroke-width: 1.5;\" x1=\"191\" x2=\"231\" y1=\"82.4375\" y2=\"82.4375\"/></a><!--MD5=[b9389687b975829384b498ac4b7476b2]\n",
       "class E8--><a href=\"psysml:553a92d0-50bf-477b-b2ce-bf491dd9a415\" target=\"_top\" title=\"psysml:553a92d0-50bf-477b-b2ce-bf491dd9a415\" xlink:actuate=\"onRequest\" xlink:href=\"psysml:553a92d0-50bf-477b-b2ce-bf491dd9a415\" xlink:show=\"new\" xlink:title=\"psysml:553a92d0-50bf-477b-b2ce-bf491dd9a415\" xlink:type=\"simple\"><rect fill=\"#FEFECE\" filter=\"url(#ffqkrygzjgx18)\" height=\"45.9375\" id=\"E8\" rx=\"10\" ry=\"10\" style=\"stroke: #A80036; stroke-width: 1.5;\" width=\"42\" x=\"107\" y=\"44.5\"/><text fill=\"#000000\" font-family=\"sans-serif\" font-size=\"12\" font-style=\"italic\" lengthAdjust=\"spacingAndGlyphs\" textLength=\"40\" x=\"108\" y=\"60.6387\">«part»</text><text fill=\"#000000\" font-family=\"sans-serif\" font-size=\"12\" lengthAdjust=\"spacingAndGlyphs\" textLength=\"21\" x=\"117.5\" y=\"74.6074\">z: B</text><line style=\"stroke: #A80036; stroke-width: 1.5;\" x1=\"108\" x2=\"148\" y1=\"82.4375\" y2=\"82.4375\"/></a><!--MD5=[09b614a08d8cba4a07c9adeb5e0fee81]\n",
       "class E3--><a href=\"psysml:6090619b-e47a-44a4-bc4e-b4be6f2f4926\" target=\"_top\" title=\"psysml:6090619b-e47a-44a4-bc4e-b4be6f2f4926\" xlink:actuate=\"onRequest\" xlink:href=\"psysml:6090619b-e47a-44a4-bc4e-b4be6f2f4926\" xlink:show=\"new\" xlink:title=\"psysml:6090619b-e47a-44a4-bc4e-b4be6f2f4926\" xlink:type=\"simple\"><rect fill=\"#FEFECE\" filter=\"url(#ffqkrygzjgx18)\" height=\"45.9375\" id=\"E3\" style=\"stroke: #A80036; stroke-width: 1.5;\" width=\"66\" x=\"178\" y=\"154\"/><text fill=\"#000000\" font-family=\"sans-serif\" font-size=\"12\" font-style=\"italic\" lengthAdjust=\"spacingAndGlyphs\" textLength=\"64\" x=\"179\" y=\"170.1387\">«part def»</text><text fill=\"#000000\" font-family=\"sans-serif\" font-size=\"12\" lengthAdjust=\"spacingAndGlyphs\" textLength=\"8\" x=\"207\" y=\"184.1074\">A</text><line style=\"stroke: #A80036; stroke-width: 1.5;\" x1=\"179\" x2=\"243\" y1=\"191.9375\" y2=\"191.9375\"/></a><a href=\"psysml:2344491a-e19a-447d-a12e-1e886a7ea509\" target=\"_top\" title=\"psysml:2344491a-e19a-447d-a12e-1e886a7ea509\" xlink:actuate=\"onRequest\" xlink:href=\"psysml:2344491a-e19a-447d-a12e-1e886a7ea509\" xlink:show=\"new\" xlink:title=\"psysml:2344491a-e19a-447d-a12e-1e886a7ea509\" xlink:type=\"simple\"><polygon fill=\"#FFFFFF\" filter=\"url(#ffqkrygzjgx18)\" points=\"32,41,58,41,65,63.2969,72,63.2969,72,93.5938,32,93.5938,32,41\" style=\"stroke: #000000; stroke-width: 1.5;\"/><line style=\"stroke: #000000; stroke-width: 1.5;\" x1=\"32\" x2=\"65\" y1=\"63.2969\" y2=\"63.2969\"/><text fill=\"#000000\" font-family=\"sans-serif\" font-size=\"14\" font-weight=\"bold\" lengthAdjust=\"spacingAndGlyphs\" textLength=\"20\" x=\"36\" y=\"55.9951\">P2</text></a><!--MD5=[2156ba9850f5573cc1fc38a6a4b2f02b]\n",
       "class E7--><a href=\"psysml:9e432445-55c9-4726-a95f-4e15b991b53a\" target=\"_top\" title=\"psysml:9e432445-55c9-4726-a95f-4e15b991b53a\" xlink:actuate=\"onRequest\" xlink:href=\"psysml:9e432445-55c9-4726-a95f-4e15b991b53a\" xlink:show=\"new\" xlink:title=\"psysml:9e432445-55c9-4726-a95f-4e15b991b53a\" xlink:type=\"simple\"><rect fill=\"#FEFECE\" filter=\"url(#ffqkrygzjgx18)\" height=\"45.9375\" id=\"E7\" style=\"stroke: #A80036; stroke-width: 1.5;\" width=\"66\" x=\"56\" y=\"154\"/><text fill=\"#000000\" font-family=\"sans-serif\" font-size=\"12\" font-style=\"italic\" lengthAdjust=\"spacingAndGlyphs\" textLength=\"64\" x=\"57\" y=\"170.1387\">«part def»</text><text fill=\"#000000\" font-family=\"sans-serif\" font-size=\"12\" lengthAdjust=\"spacingAndGlyphs\" textLength=\"8\" x=\"85\" y=\"184.1074\">B</text><line style=\"stroke: #A80036; stroke-width: 1.5;\" x1=\"57\" x2=\"121\" y1=\"191.9375\" y2=\"191.9375\"/></a><!--MD5=[e9be52314489bd878ff4c7144b63c9e1]\n",
       "link E5 to E3--><a href=\"psysml:d9b9f238-e6f4-4810-bb41-4cf78560774c\" target=\"_top\" title=\"psysml:d9b9f238-e6f4-4810-bb41-4cf78560774c\" xlink:actuate=\"onRequest\" xlink:href=\"psysml:d9b9f238-e6f4-4810-bb41-4cf78560774c\" xlink:show=\"new\" xlink:title=\"psysml:d9b9f238-e6f4-4810-bb41-4cf78560774c\" xlink:type=\"simple\"><path d=\"M211,90.51 C211,102.89 211,118.78 211,133.48 \" fill=\"none\" id=\"E5-&gt;E3\" style=\"stroke: #A80036; stroke-width: 1.0;\"/><polygon fill=\"#FFFFFF\" points=\"211,153.65,204,134.65,218,134.65,211,153.65\" style=\"stroke: #A80036; stroke-width: 1.0;\"/><ellipse cx=\"206\" cy=\"128.95\" fill=\"#A80036\" rx=\"2\" ry=\"2\" style=\"stroke: #A80036; stroke-width: 1.0;\"/><ellipse cx=\"216\" cy=\"128.95\" fill=\"#A80036\" rx=\"2\" ry=\"2\" style=\"stroke: #A80036; stroke-width: 1.0;\"/></a><!--MD5=[bfa3c8b0d15052fdf50ae9310b491027]\n",
       "link E8 to E7--><a href=\"psysml:a13a28be-1001-42f5-9632-37667c0baf51\" target=\"_top\" title=\"psysml:a13a28be-1001-42f5-9632-37667c0baf51\" xlink:actuate=\"onRequest\" xlink:href=\"psysml:a13a28be-1001-42f5-9632-37667c0baf51\" xlink:show=\"new\" xlink:title=\"psysml:a13a28be-1001-42f5-9632-37667c0baf51\" xlink:type=\"simple\"><path d=\"M120.01,90.51 C115.39,103.25 109.42,119.7 103.96,134.76 \" fill=\"none\" id=\"E8-&gt;E7\" style=\"stroke: #A80036; stroke-width: 1.0;\"/><polygon fill=\"#FFFFFF\" points=\"97.11,153.65,97.0036,133.4018,110.1656,138.1726,97.11,153.65\" style=\"stroke: #A80036; stroke-width: 1.0;\"/><ellipse cx=\"100.8262\" cy=\"128.7245\" fill=\"#A80036\" rx=\"2\" ry=\"2\" style=\"stroke: #A80036; stroke-width: 1.0;\"/><ellipse cx=\"110.2277\" cy=\"132.1322\" fill=\"#A80036\" rx=\"2\" ry=\"2\" style=\"stroke: #A80036; stroke-width: 1.0;\"/></a><!--MD5=[c42e27fd0bdb33060eb8da368dc0422e]\n",
       "@startuml\r\n",
       "skinparam wrapWidth 300\r\n",
       "hide circle\r\n",
       "\r\n",
       "package \"PrivateImportTest\" as E1  [[psysml:70757ebb-a6cc-427a-a5fd-274a54eae870 ]]  {\r\n",
       "package \"P1\" as E2  [[psysml:9d9a8ea7-31e0-462e-8cd1-90f7e5dc514d ]]  {\r\n",
       "comp def \"A\" as E3  <<(T,blue)part def>> [[psysml:6090619b-e47a-44a4-bc4e-b4be6f2f4926 ]] {\r\n",
       "}\r\n",
       "}\r\n",
       "package \"P2\" as E4  [[psysml:2344491a-e19a-447d-a12e-1e886a7ea509 ]]  {\r\n",
       "}\r\n",
       "comp usage \"x: A\" as E5  <<(T,blue)part>> [[psysml:794b889b-8918-46e8-9c14-cb61e0d8a2ea ]] {\r\n",
       "}\r\n",
       "package \"P3\" as E6  [[psysml:e8a656ba-c51a-4d2d-932b-ea8b084af9f5 ]]  {\r\n",
       "comp def \"B\" as E7  <<(T,blue)part def>> [[psysml:9e432445-55c9-4726-a95f-4e15b991b53a ]] {\r\n",
       "}\r\n",
       "E5 - -:|> E3 [[psysml:d9b9f238-e6f4-4810-bb41-4cf78560774c ]] \r\n",
       "}\r\n",
       "comp usage \"z: B\" as E8  <<(T,blue)part>> [[psysml:553a92d0-50bf-477b-b2ce-bf491dd9a415 ]] {\r\n",
       "}\r\n",
       "E8 - -:|> E7 [[psysml:a13a28be-1001-42f5-9632-37667c0baf51 ]] \r\n",
       "}\r\n",
       "@enduml\r\n",
       "\n",
       "PlantUML version 1.2020.13(Sat Jun 13 12:26:38 UTC 2020)\n",
       "(EPL source distribution)\n",
       "Java Runtime: OpenJDK Runtime Environment\n",
       "JVM: OpenJDK 64-Bit Server VM\n",
       "Default Encoding: UTF-8\n",
       "Language: en\n",
       "Country: null\n",
       "--></g></svg>"
      ]
     },
     "execution_count": 28,
     "metadata": {},
     "output_type": "execute_result"
    }
   ],
   "source": [
    "%viz --style=\"STDCOLOR\" --view=\"Sequence\" \"PrivateImportTest\""
   ]
  },
  {
   "cell_type": "code",
   "execution_count": 29,
   "id": "military-anime",
   "metadata": {
    "execution": {
     "iopub.execute_input": "2021-03-25T15:01:14.819581Z",
     "iopub.status.busy": "2021-03-25T15:01:14.818733Z",
     "iopub.status.idle": "2021-03-25T15:01:14.926735Z",
     "shell.execute_reply": "2021-03-25T15:01:14.924583Z"
    }
   },
   "outputs": [
    {
     "data": {
      "image/svg+xml": [
       "<?xml version=\"1.0\" encoding=\"UTF-8\" standalone=\"no\"?><svg xmlns=\"http://www.w3.org/2000/svg\" xmlns:xlink=\"http://www.w3.org/1999/xlink\" contentScriptType=\"application/ecmascript\" contentStyleType=\"text/css\" height=\"252px\" preserveAspectRatio=\"none\" style=\"width:306px;height:252px;\" version=\"1.1\" viewBox=\"0 0 306 252\" width=\"306px\" zoomAndPan=\"magnify\"><defs><filter height=\"300%\" id=\"ffqkrygzjgx18\" width=\"300%\" x=\"-1\" y=\"-1\"><feGaussianBlur result=\"blurOut\" stdDeviation=\"2.0\"/><feColorMatrix in=\"blurOut\" result=\"blurOut2\" type=\"matrix\" values=\"0 0 0 0 0 0 0 0 0 0 0 0 0 0 0 0 0 0 .4 0\"/><feOffset dx=\"4.0\" dy=\"4.0\" in=\"blurOut2\" result=\"blurOut3\"/><feBlend in=\"SourceGraphic\" in2=\"blurOut3\" mode=\"normal\"/></filter></defs><g><!--MD5=[fbc87193dbaf4d95561dea2c320d4a47]\n",
       "cluster E1--><a href=\"psysml:70757ebb-a6cc-427a-a5fd-274a54eae870\" target=\"_top\" title=\"psysml:70757ebb-a6cc-427a-a5fd-274a54eae870\" xlink:actuate=\"onRequest\" xlink:href=\"psysml:70757ebb-a6cc-427a-a5fd-274a54eae870\" xlink:show=\"new\" xlink:title=\"psysml:70757ebb-a6cc-427a-a5fd-274a54eae870\" xlink:type=\"simple\"><polygon fill=\"#FFFFFF\" filter=\"url(#ffqkrygzjgx18)\" points=\"16,6,163,6,170,28.2969,284,28.2969,284,240,16,240,16,6\" style=\"stroke: #000000; stroke-width: 1.5;\"/><line style=\"stroke: #000000; stroke-width: 1.5;\" x1=\"16\" x2=\"170\" y1=\"28.2969\" y2=\"28.2969\"/><text fill=\"#000000\" font-family=\"sans-serif\" font-size=\"14\" font-weight=\"bold\" lengthAdjust=\"spacingAndGlyphs\" textLength=\"141\" x=\"20\" y=\"20.9951\">PrivateImportTest</text></a><!--MD5=[e4f7fae6ed58524ba242bb0b0d3be6b7]\n",
       "cluster E2--><a href=\"psysml:9d9a8ea7-31e0-462e-8cd1-90f7e5dc514d\" target=\"_top\" title=\"psysml:9d9a8ea7-31e0-462e-8cd1-90f7e5dc514d\" xlink:actuate=\"onRequest\" xlink:href=\"psysml:9d9a8ea7-31e0-462e-8cd1-90f7e5dc514d\" xlink:show=\"new\" xlink:title=\"psysml:9d9a8ea7-31e0-462e-8cd1-90f7e5dc514d\" xlink:type=\"simple\"><polygon fill=\"#FFFFFF\" filter=\"url(#ffqkrygzjgx18)\" points=\"162,119,188,119,195,141.2969,260,141.2969,260,216,162,216,162,119\" style=\"stroke: #000000; stroke-width: 1.5;\"/><line style=\"stroke: #000000; stroke-width: 1.5;\" x1=\"162\" x2=\"195\" y1=\"141.2969\" y2=\"141.2969\"/><text fill=\"#000000\" font-family=\"sans-serif\" font-size=\"14\" font-weight=\"bold\" lengthAdjust=\"spacingAndGlyphs\" textLength=\"20\" x=\"166\" y=\"133.9951\">P1</text></a><!--MD5=[14e3b0961a2654348d326746436168a1]\n",
       "cluster E6--><a href=\"psysml:e8a656ba-c51a-4d2d-932b-ea8b084af9f5\" target=\"_top\" title=\"psysml:e8a656ba-c51a-4d2d-932b-ea8b084af9f5\" xlink:actuate=\"onRequest\" xlink:href=\"psysml:e8a656ba-c51a-4d2d-932b-ea8b084af9f5\" xlink:show=\"new\" xlink:title=\"psysml:e8a656ba-c51a-4d2d-932b-ea8b084af9f5\" xlink:type=\"simple\"><polygon fill=\"#FFFFFF\" filter=\"url(#ffqkrygzjgx18)\" points=\"40,119,66,119,73,141.2969,138,141.2969,138,216,40,216,40,119\" style=\"stroke: #000000; stroke-width: 1.5;\"/><line style=\"stroke: #000000; stroke-width: 1.5;\" x1=\"40\" x2=\"73\" y1=\"141.2969\" y2=\"141.2969\"/><text fill=\"#000000\" font-family=\"sans-serif\" font-size=\"14\" font-weight=\"bold\" lengthAdjust=\"spacingAndGlyphs\" textLength=\"20\" x=\"44\" y=\"133.9951\">P3</text></a><!--MD5=[270fce915f116d4de14055a7c1d9a0f3]\n",
       "class E5--><a href=\"psysml:794b889b-8918-46e8-9c14-cb61e0d8a2ea\" target=\"_top\" title=\"psysml:794b889b-8918-46e8-9c14-cb61e0d8a2ea\" xlink:actuate=\"onRequest\" xlink:href=\"psysml:794b889b-8918-46e8-9c14-cb61e0d8a2ea\" xlink:show=\"new\" xlink:title=\"psysml:794b889b-8918-46e8-9c14-cb61e0d8a2ea\" xlink:type=\"simple\"><rect fill=\"#FEFECE\" filter=\"url(#ffqkrygzjgx18)\" height=\"45.9375\" id=\"E5\" rx=\"10\" ry=\"10\" style=\"stroke: #A80036; stroke-width: 1.5;\" width=\"42\" x=\"190\" y=\"44.5\"/><text fill=\"#000000\" font-family=\"sans-serif\" font-size=\"12\" font-style=\"italic\" lengthAdjust=\"spacingAndGlyphs\" textLength=\"40\" x=\"191\" y=\"60.6387\">«part»</text><text fill=\"#000000\" font-family=\"sans-serif\" font-size=\"12\" lengthAdjust=\"spacingAndGlyphs\" textLength=\"22\" x=\"200\" y=\"74.6074\">x: A</text><line style=\"stroke: #A80036; stroke-width: 1.5;\" x1=\"191\" x2=\"231\" y1=\"82.4375\" y2=\"82.4375\"/></a><!--MD5=[b9389687b975829384b498ac4b7476b2]\n",
       "class E8--><a href=\"psysml:553a92d0-50bf-477b-b2ce-bf491dd9a415\" target=\"_top\" title=\"psysml:553a92d0-50bf-477b-b2ce-bf491dd9a415\" xlink:actuate=\"onRequest\" xlink:href=\"psysml:553a92d0-50bf-477b-b2ce-bf491dd9a415\" xlink:show=\"new\" xlink:title=\"psysml:553a92d0-50bf-477b-b2ce-bf491dd9a415\" xlink:type=\"simple\"><rect fill=\"#FEFECE\" filter=\"url(#ffqkrygzjgx18)\" height=\"45.9375\" id=\"E8\" rx=\"10\" ry=\"10\" style=\"stroke: #A80036; stroke-width: 1.5;\" width=\"42\" x=\"107\" y=\"44.5\"/><text fill=\"#000000\" font-family=\"sans-serif\" font-size=\"12\" font-style=\"italic\" lengthAdjust=\"spacingAndGlyphs\" textLength=\"40\" x=\"108\" y=\"60.6387\">«part»</text><text fill=\"#000000\" font-family=\"sans-serif\" font-size=\"12\" lengthAdjust=\"spacingAndGlyphs\" textLength=\"21\" x=\"117.5\" y=\"74.6074\">z: B</text><line style=\"stroke: #A80036; stroke-width: 1.5;\" x1=\"108\" x2=\"148\" y1=\"82.4375\" y2=\"82.4375\"/></a><!--MD5=[09b614a08d8cba4a07c9adeb5e0fee81]\n",
       "class E3--><a href=\"psysml:6090619b-e47a-44a4-bc4e-b4be6f2f4926\" target=\"_top\" title=\"psysml:6090619b-e47a-44a4-bc4e-b4be6f2f4926\" xlink:actuate=\"onRequest\" xlink:href=\"psysml:6090619b-e47a-44a4-bc4e-b4be6f2f4926\" xlink:show=\"new\" xlink:title=\"psysml:6090619b-e47a-44a4-bc4e-b4be6f2f4926\" xlink:type=\"simple\"><rect fill=\"#FEFECE\" filter=\"url(#ffqkrygzjgx18)\" height=\"45.9375\" id=\"E3\" style=\"stroke: #A80036; stroke-width: 1.5;\" width=\"66\" x=\"178\" y=\"154\"/><text fill=\"#000000\" font-family=\"sans-serif\" font-size=\"12\" font-style=\"italic\" lengthAdjust=\"spacingAndGlyphs\" textLength=\"64\" x=\"179\" y=\"170.1387\">«part def»</text><text fill=\"#000000\" font-family=\"sans-serif\" font-size=\"12\" lengthAdjust=\"spacingAndGlyphs\" textLength=\"8\" x=\"207\" y=\"184.1074\">A</text><line style=\"stroke: #A80036; stroke-width: 1.5;\" x1=\"179\" x2=\"243\" y1=\"191.9375\" y2=\"191.9375\"/></a><a href=\"psysml:2344491a-e19a-447d-a12e-1e886a7ea509\" target=\"_top\" title=\"psysml:2344491a-e19a-447d-a12e-1e886a7ea509\" xlink:actuate=\"onRequest\" xlink:href=\"psysml:2344491a-e19a-447d-a12e-1e886a7ea509\" xlink:show=\"new\" xlink:title=\"psysml:2344491a-e19a-447d-a12e-1e886a7ea509\" xlink:type=\"simple\"><polygon fill=\"#FFFFFF\" filter=\"url(#ffqkrygzjgx18)\" points=\"32,41,58,41,65,63.2969,72,63.2969,72,93.5938,32,93.5938,32,41\" style=\"stroke: #000000; stroke-width: 1.5;\"/><line style=\"stroke: #000000; stroke-width: 1.5;\" x1=\"32\" x2=\"65\" y1=\"63.2969\" y2=\"63.2969\"/><text fill=\"#000000\" font-family=\"sans-serif\" font-size=\"14\" font-weight=\"bold\" lengthAdjust=\"spacingAndGlyphs\" textLength=\"20\" x=\"36\" y=\"55.9951\">P2</text></a><!--MD5=[2156ba9850f5573cc1fc38a6a4b2f02b]\n",
       "class E7--><a href=\"psysml:9e432445-55c9-4726-a95f-4e15b991b53a\" target=\"_top\" title=\"psysml:9e432445-55c9-4726-a95f-4e15b991b53a\" xlink:actuate=\"onRequest\" xlink:href=\"psysml:9e432445-55c9-4726-a95f-4e15b991b53a\" xlink:show=\"new\" xlink:title=\"psysml:9e432445-55c9-4726-a95f-4e15b991b53a\" xlink:type=\"simple\"><rect fill=\"#FEFECE\" filter=\"url(#ffqkrygzjgx18)\" height=\"45.9375\" id=\"E7\" style=\"stroke: #A80036; stroke-width: 1.5;\" width=\"66\" x=\"56\" y=\"154\"/><text fill=\"#000000\" font-family=\"sans-serif\" font-size=\"12\" font-style=\"italic\" lengthAdjust=\"spacingAndGlyphs\" textLength=\"64\" x=\"57\" y=\"170.1387\">«part def»</text><text fill=\"#000000\" font-family=\"sans-serif\" font-size=\"12\" lengthAdjust=\"spacingAndGlyphs\" textLength=\"8\" x=\"85\" y=\"184.1074\">B</text><line style=\"stroke: #A80036; stroke-width: 1.5;\" x1=\"57\" x2=\"121\" y1=\"191.9375\" y2=\"191.9375\"/></a><!--MD5=[e9be52314489bd878ff4c7144b63c9e1]\n",
       "link E5 to E3--><a href=\"psysml:d9b9f238-e6f4-4810-bb41-4cf78560774c\" target=\"_top\" title=\"psysml:d9b9f238-e6f4-4810-bb41-4cf78560774c\" xlink:actuate=\"onRequest\" xlink:href=\"psysml:d9b9f238-e6f4-4810-bb41-4cf78560774c\" xlink:show=\"new\" xlink:title=\"psysml:d9b9f238-e6f4-4810-bb41-4cf78560774c\" xlink:type=\"simple\"><path d=\"M211,90.51 C211,102.89 211,118.78 211,133.48 \" fill=\"none\" id=\"E5-&gt;E3\" style=\"stroke: #A80036; stroke-width: 1.0;\"/><polygon fill=\"#FFFFFF\" points=\"211,153.65,204,134.65,218,134.65,211,153.65\" style=\"stroke: #A80036; stroke-width: 1.0;\"/><ellipse cx=\"206\" cy=\"128.95\" fill=\"#A80036\" rx=\"2\" ry=\"2\" style=\"stroke: #A80036; stroke-width: 1.0;\"/><ellipse cx=\"216\" cy=\"128.95\" fill=\"#A80036\" rx=\"2\" ry=\"2\" style=\"stroke: #A80036; stroke-width: 1.0;\"/></a><!--MD5=[bfa3c8b0d15052fdf50ae9310b491027]\n",
       "link E8 to E7--><a href=\"psysml:a13a28be-1001-42f5-9632-37667c0baf51\" target=\"_top\" title=\"psysml:a13a28be-1001-42f5-9632-37667c0baf51\" xlink:actuate=\"onRequest\" xlink:href=\"psysml:a13a28be-1001-42f5-9632-37667c0baf51\" xlink:show=\"new\" xlink:title=\"psysml:a13a28be-1001-42f5-9632-37667c0baf51\" xlink:type=\"simple\"><path d=\"M120.01,90.51 C115.39,103.25 109.42,119.7 103.96,134.76 \" fill=\"none\" id=\"E8-&gt;E7\" style=\"stroke: #A80036; stroke-width: 1.0;\"/><polygon fill=\"#FFFFFF\" points=\"97.11,153.65,97.0036,133.4018,110.1656,138.1726,97.11,153.65\" style=\"stroke: #A80036; stroke-width: 1.0;\"/><ellipse cx=\"100.8262\" cy=\"128.7245\" fill=\"#A80036\" rx=\"2\" ry=\"2\" style=\"stroke: #A80036; stroke-width: 1.0;\"/><ellipse cx=\"110.2277\" cy=\"132.1322\" fill=\"#A80036\" rx=\"2\" ry=\"2\" style=\"stroke: #A80036; stroke-width: 1.0;\"/></a><!--MD5=[c42e27fd0bdb33060eb8da368dc0422e]\n",
       "@startuml\r\n",
       "skinparam wrapWidth 300\r\n",
       "hide circle\r\n",
       "\r\n",
       "package \"PrivateImportTest\" as E1  [[psysml:70757ebb-a6cc-427a-a5fd-274a54eae870 ]]  {\r\n",
       "package \"P1\" as E2  [[psysml:9d9a8ea7-31e0-462e-8cd1-90f7e5dc514d ]]  {\r\n",
       "comp def \"A\" as E3  <<(T,blue)part def>> [[psysml:6090619b-e47a-44a4-bc4e-b4be6f2f4926 ]] {\r\n",
       "}\r\n",
       "}\r\n",
       "package \"P2\" as E4  [[psysml:2344491a-e19a-447d-a12e-1e886a7ea509 ]]  {\r\n",
       "}\r\n",
       "comp usage \"x: A\" as E5  <<(T,blue)part>> [[psysml:794b889b-8918-46e8-9c14-cb61e0d8a2ea ]] {\r\n",
       "}\r\n",
       "package \"P3\" as E6  [[psysml:e8a656ba-c51a-4d2d-932b-ea8b084af9f5 ]]  {\r\n",
       "comp def \"B\" as E7  <<(T,blue)part def>> [[psysml:9e432445-55c9-4726-a95f-4e15b991b53a ]] {\r\n",
       "}\r\n",
       "E5 - -:|> E3 [[psysml:d9b9f238-e6f4-4810-bb41-4cf78560774c ]] \r\n",
       "}\r\n",
       "comp usage \"z: B\" as E8  <<(T,blue)part>> [[psysml:553a92d0-50bf-477b-b2ce-bf491dd9a415 ]] {\r\n",
       "}\r\n",
       "E8 - -:|> E7 [[psysml:a13a28be-1001-42f5-9632-37667c0baf51 ]] \r\n",
       "}\r\n",
       "@enduml\r\n",
       "\n",
       "PlantUML version 1.2020.13(Sat Jun 13 12:26:38 UTC 2020)\n",
       "(EPL source distribution)\n",
       "Java Runtime: OpenJDK Runtime Environment\n",
       "JVM: OpenJDK 64-Bit Server VM\n",
       "Default Encoding: UTF-8\n",
       "Language: en\n",
       "Country: null\n",
       "--></g></svg>"
      ]
     },
     "execution_count": 29,
     "metadata": {},
     "output_type": "execute_result"
    }
   ],
   "source": [
    "%viz --style=\"STDCOLOR\" --view=\"MIXED\" \"PrivateImportTest\""
   ]
  },
  {
   "cell_type": "code",
   "execution_count": 30,
   "id": "athletic-decision",
   "metadata": {
    "execution": {
     "iopub.execute_input": "2021-03-25T15:01:14.975323Z",
     "iopub.status.busy": "2021-03-25T15:01:14.974349Z",
     "iopub.status.idle": "2021-03-25T15:01:15.089887Z",
     "shell.execute_reply": "2021-03-25T15:01:15.087006Z"
    }
   },
   "outputs": [
    {
     "data": {
      "image/svg+xml": [
       "<?xml version=\"1.0\" encoding=\"UTF-8\" standalone=\"no\"?><svg xmlns=\"http://www.w3.org/2000/svg\" xmlns:xlink=\"http://www.w3.org/1999/xlink\" contentScriptType=\"application/ecmascript\" contentStyleType=\"text/css\" height=\"246px\" preserveAspectRatio=\"none\" style=\"width:316px;height:246px;\" version=\"1.1\" viewBox=\"0 0 316 246\" width=\"316px\" zoomAndPan=\"magnify\"><defs><filter height=\"300%\" id=\"f132it8v2vfkxd\" width=\"300%\" x=\"-1\" y=\"-1\"><feGaussianBlur result=\"blurOut\" stdDeviation=\"2.0\"/><feColorMatrix in=\"blurOut\" result=\"blurOut2\" type=\"matrix\" values=\"0 0 0 0 0 0 0 0 0 0 0 0 0 0 0 0 0 0 .4 0\"/><feOffset dx=\"4.0\" dy=\"4.0\" in=\"blurOut2\" result=\"blurOut3\"/><feBlend in=\"SourceGraphic\" in2=\"blurOut3\" mode=\"normal\"/></filter></defs><g><!--MD5=[fbc87193dbaf4d95561dea2c320d4a47]\n",
       "cluster E1--><a href=\"psysml:70757ebb-a6cc-427a-a5fd-274a54eae870\" target=\"_top\" title=\"psysml:70757ebb-a6cc-427a-a5fd-274a54eae870\" xlink:actuate=\"onRequest\" xlink:href=\"psysml:70757ebb-a6cc-427a-a5fd-274a54eae870\" xlink:show=\"new\" xlink:title=\"psysml:70757ebb-a6cc-427a-a5fd-274a54eae870\" xlink:type=\"simple\"><polygon fill=\"#FFFFFF\" filter=\"url(#f132it8v2vfkxd)\" points=\"16,6,163,6,170,28.2969,294,28.2969,294,234,16,234,16,6\" style=\"stroke: #000000; stroke-width: 1.5;\"/><line style=\"stroke: #000000; stroke-width: 1.5;\" x1=\"16\" x2=\"170\" y1=\"28.2969\" y2=\"28.2969\"/><text fill=\"#000000\" font-family=\"sans-serif\" font-size=\"14\" font-weight=\"bold\" lengthAdjust=\"spacingAndGlyphs\" textLength=\"141\" x=\"20\" y=\"20.9951\">PrivateImportTest</text></a><!--MD5=[e4f7fae6ed58524ba242bb0b0d3be6b7]\n",
       "cluster E2--><a href=\"psysml:9d9a8ea7-31e0-462e-8cd1-90f7e5dc514d\" target=\"_top\" title=\"psysml:9d9a8ea7-31e0-462e-8cd1-90f7e5dc514d\" xlink:actuate=\"onRequest\" xlink:href=\"psysml:9d9a8ea7-31e0-462e-8cd1-90f7e5dc514d\" xlink:show=\"new\" xlink:title=\"psysml:9d9a8ea7-31e0-462e-8cd1-90f7e5dc514d\" xlink:type=\"simple\"><polygon fill=\"#FFFFFF\" filter=\"url(#f132it8v2vfkxd)\" points=\"198,119,224,119,231,141.2969,270,141.2969,270,210,198,210,198,119\" style=\"stroke: #000000; stroke-width: 1.5;\"/><line style=\"stroke: #000000; stroke-width: 1.5;\" x1=\"198\" x2=\"231\" y1=\"141.2969\" y2=\"141.2969\"/><text fill=\"#000000\" font-family=\"sans-serif\" font-size=\"14\" font-weight=\"bold\" lengthAdjust=\"spacingAndGlyphs\" textLength=\"20\" x=\"202\" y=\"133.9951\">P1</text></a><!--MD5=[14e3b0961a2654348d326746436168a1]\n",
       "cluster E6--><a href=\"psysml:e8a656ba-c51a-4d2d-932b-ea8b084af9f5\" target=\"_top\" title=\"psysml:e8a656ba-c51a-4d2d-932b-ea8b084af9f5\" xlink:actuate=\"onRequest\" xlink:href=\"psysml:e8a656ba-c51a-4d2d-932b-ea8b084af9f5\" xlink:show=\"new\" xlink:title=\"psysml:e8a656ba-c51a-4d2d-932b-ea8b084af9f5\" xlink:type=\"simple\"><polygon fill=\"#FFFFFF\" filter=\"url(#f132it8v2vfkxd)\" points=\"102,119,128,119,135,141.2969,174,141.2969,174,210,102,210,102,119\" style=\"stroke: #000000; stroke-width: 1.5;\"/><line style=\"stroke: #000000; stroke-width: 1.5;\" x1=\"102\" x2=\"135\" y1=\"141.2969\" y2=\"141.2969\"/><text fill=\"#000000\" font-family=\"sans-serif\" font-size=\"14\" font-weight=\"bold\" lengthAdjust=\"spacingAndGlyphs\" textLength=\"20\" x=\"106\" y=\"133.9951\">P3</text></a><!--MD5=[270fce915f116d4de14055a7c1d9a0f3]\n",
       "class E5--><a href=\"psysml:794b889b-8918-46e8-9c14-cb61e0d8a2ea\" target=\"_top\" title=\"psysml:794b889b-8918-46e8-9c14-cb61e0d8a2ea\" xlink:actuate=\"onRequest\" xlink:href=\"psysml:794b889b-8918-46e8-9c14-cb61e0d8a2ea\" xlink:show=\"new\" xlink:title=\"psysml:794b889b-8918-46e8-9c14-cb61e0d8a2ea\" xlink:type=\"simple\"><rect fill=\"#FEFECE\" filter=\"url(#f132it8v2vfkxd)\" height=\"45.9375\" id=\"E5\" rx=\"10\" ry=\"10\" style=\"stroke: #A80036; stroke-width: 1.5;\" width=\"68\" x=\"210\" y=\"44.5\"/><ellipse cx=\"225\" cy=\"63.4688\" fill=\"#32CD32\" rx=\"11\" ry=\"11\" style=\"stroke: #A80036; stroke-width: 1.0;\"/><path d=\"M224.7969,59.1406 L224.7969,62.7656 L225.7969,62.7656 Q227,62.7656 227.4844,62.3594 Q227.9688,61.9531 227.9688,60.9531 Q227.9688,59.9531 227.4844,59.5469 Q227,59.1406 225.7969,59.1406 L224.7969,59.1406 Z M222.3438,57.0781 L225.7031,57.0781 Q228.2656,57.0781 229.3906,58 Q230.5156,58.9063 230.5156,60.9531 Q230.5156,63 229.3906,63.9219 Q228.2656,64.8281 225.7031,64.8281 L224.7969,64.8281 L224.7969,69.4688 L222.3438,69.4688 L222.3438,57.0781 Z \"/><text fill=\"#000000\" font-family=\"sans-serif\" font-size=\"12\" font-style=\"italic\" lengthAdjust=\"spacingAndGlyphs\" textLength=\"40\" x=\"237\" y=\"60.6387\">«part»</text><text fill=\"#000000\" font-family=\"sans-serif\" font-size=\"12\" lengthAdjust=\"spacingAndGlyphs\" textLength=\"22\" x=\"246\" y=\"74.6074\">x: A</text><line style=\"stroke: #A80036; stroke-width: 1.5;\" x1=\"211\" x2=\"277\" y1=\"82.4375\" y2=\"82.4375\"/></a><!--MD5=[b9389687b975829384b498ac4b7476b2]\n",
       "class E8--><a href=\"psysml:553a92d0-50bf-477b-b2ce-bf491dd9a415\" target=\"_top\" title=\"psysml:553a92d0-50bf-477b-b2ce-bf491dd9a415\" xlink:actuate=\"onRequest\" xlink:href=\"psysml:553a92d0-50bf-477b-b2ce-bf491dd9a415\" xlink:show=\"new\" xlink:title=\"psysml:553a92d0-50bf-477b-b2ce-bf491dd9a415\" xlink:type=\"simple\"><rect fill=\"#FEFECE\" filter=\"url(#f132it8v2vfkxd)\" height=\"45.9375\" id=\"E8\" rx=\"10\" ry=\"10\" style=\"stroke: #A80036; stroke-width: 1.5;\" width=\"68\" x=\"107\" y=\"44.5\"/><ellipse cx=\"122\" cy=\"63.4688\" fill=\"#32CD32\" rx=\"11\" ry=\"11\" style=\"stroke: #A80036; stroke-width: 1.0;\"/><path d=\"M121.7969,59.1406 L121.7969,62.7656 L122.7969,62.7656 Q124,62.7656 124.4844,62.3594 Q124.9688,61.9531 124.9688,60.9531 Q124.9688,59.9531 124.4844,59.5469 Q124,59.1406 122.7969,59.1406 L121.7969,59.1406 Z M119.3438,57.0781 L122.7031,57.0781 Q125.2656,57.0781 126.3906,58 Q127.5156,58.9063 127.5156,60.9531 Q127.5156,63 126.3906,63.9219 Q125.2656,64.8281 122.7031,64.8281 L121.7969,64.8281 L121.7969,69.4688 L119.3438,69.4688 L119.3438,57.0781 Z \"/><text fill=\"#000000\" font-family=\"sans-serif\" font-size=\"12\" font-style=\"italic\" lengthAdjust=\"spacingAndGlyphs\" textLength=\"40\" x=\"134\" y=\"60.6387\">«part»</text><text fill=\"#000000\" font-family=\"sans-serif\" font-size=\"12\" lengthAdjust=\"spacingAndGlyphs\" textLength=\"21\" x=\"143.5\" y=\"74.6074\">z: B</text><line style=\"stroke: #A80036; stroke-width: 1.5;\" x1=\"108\" x2=\"174\" y1=\"82.4375\" y2=\"82.4375\"/></a><!--MD5=[09b614a08d8cba4a07c9adeb5e0fee81]\n",
       "class E3--><a href=\"psysml:6090619b-e47a-44a4-bc4e-b4be6f2f4926\" target=\"_top\" title=\"psysml:6090619b-e47a-44a4-bc4e-b4be6f2f4926\" xlink:actuate=\"onRequest\" xlink:href=\"psysml:6090619b-e47a-44a4-bc4e-b4be6f2f4926\" xlink:show=\"new\" xlink:title=\"psysml:6090619b-e47a-44a4-bc4e-b4be6f2f4926\" xlink:type=\"simple\"><rect fill=\"#FEFECE\" filter=\"url(#f132it8v2vfkxd)\" height=\"40\" id=\"E3\" style=\"stroke: #A80036; stroke-width: 1.5;\" width=\"40\" x=\"214\" y=\"154\"/><ellipse cx=\"229\" cy=\"170\" fill=\"#008000\" rx=\"11\" ry=\"11\" style=\"stroke: #A80036; stroke-width: 1.0;\"/><path d=\"M227.9063,170.375 L227.9063,174.0469 L229.5313,174.0469 Q230.7031,174.0469 231.1719,173.6563 Q231.6406,173.25 231.6406,172.25 Q231.6406,171.25 231.1406,170.8125 Q230.6563,170.375 229.5313,170.375 L227.9063,170.375 Z M227.9063,165.5469 L227.9063,168.4219 L229.5313,168.4219 Q230.4531,168.4219 230.8438,168.0938 Q231.25,167.75 231.25,167 Q231.25,166.2344 230.8438,165.8906 Q230.4375,165.5469 229.5313,165.5469 L227.9063,165.5469 Z M225.5313,163.5938 L229.5313,163.5938 Q231.5938,163.5938 232.6406,164.375 Q233.6875,165.1563 233.6875,166.7188 Q233.6875,167.9219 233.0625,168.5938 Q232.4531,169.2656 231.2656,169.375 Q232.6875,169.5156 233.4063,170.3281 Q234.125,171.1406 234.125,172.5938 Q234.125,174.3906 233.0469,175.2031 Q231.9688,176 229.5313,176 L225.5313,176 L225.5313,163.5938 Z \"/><text fill=\"#000000\" font-family=\"sans-serif\" font-size=\"12\" lengthAdjust=\"spacingAndGlyphs\" textLength=\"8\" x=\"243\" y=\"174.1543\">A</text><line style=\"stroke: #A80036; stroke-width: 1.5;\" x1=\"215\" x2=\"253\" y1=\"186\" y2=\"186\"/></a><a href=\"psysml:2344491a-e19a-447d-a12e-1e886a7ea509\" target=\"_top\" title=\"psysml:2344491a-e19a-447d-a12e-1e886a7ea509\" xlink:actuate=\"onRequest\" xlink:href=\"psysml:2344491a-e19a-447d-a12e-1e886a7ea509\" xlink:show=\"new\" xlink:title=\"psysml:2344491a-e19a-447d-a12e-1e886a7ea509\" xlink:type=\"simple\"><polygon fill=\"#FFFFFF\" filter=\"url(#f132it8v2vfkxd)\" points=\"32,41,58,41,65,63.2969,72,63.2969,72,93.5938,32,93.5938,32,41\" style=\"stroke: #000000; stroke-width: 1.5;\"/><line style=\"stroke: #000000; stroke-width: 1.5;\" x1=\"32\" x2=\"65\" y1=\"63.2969\" y2=\"63.2969\"/><text fill=\"#000000\" font-family=\"sans-serif\" font-size=\"14\" font-weight=\"bold\" lengthAdjust=\"spacingAndGlyphs\" textLength=\"20\" x=\"36\" y=\"55.9951\">P2</text></a><!--MD5=[2156ba9850f5573cc1fc38a6a4b2f02b]\n",
       "class E7--><a href=\"psysml:9e432445-55c9-4726-a95f-4e15b991b53a\" target=\"_top\" title=\"psysml:9e432445-55c9-4726-a95f-4e15b991b53a\" xlink:actuate=\"onRequest\" xlink:href=\"psysml:9e432445-55c9-4726-a95f-4e15b991b53a\" xlink:show=\"new\" xlink:title=\"psysml:9e432445-55c9-4726-a95f-4e15b991b53a\" xlink:type=\"simple\"><rect fill=\"#FEFECE\" filter=\"url(#f132it8v2vfkxd)\" height=\"40\" id=\"E7\" style=\"stroke: #A80036; stroke-width: 1.5;\" width=\"40\" x=\"118\" y=\"154\"/><ellipse cx=\"133\" cy=\"170\" fill=\"#008000\" rx=\"11\" ry=\"11\" style=\"stroke: #A80036; stroke-width: 1.0;\"/><path d=\"M131.9063,170.375 L131.9063,174.0469 L133.5313,174.0469 Q134.7031,174.0469 135.1719,173.6563 Q135.6406,173.25 135.6406,172.25 Q135.6406,171.25 135.1406,170.8125 Q134.6563,170.375 133.5313,170.375 L131.9063,170.375 Z M131.9063,165.5469 L131.9063,168.4219 L133.5313,168.4219 Q134.4531,168.4219 134.8438,168.0938 Q135.25,167.75 135.25,167 Q135.25,166.2344 134.8438,165.8906 Q134.4375,165.5469 133.5313,165.5469 L131.9063,165.5469 Z M129.5313,163.5938 L133.5313,163.5938 Q135.5938,163.5938 136.6406,164.375 Q137.6875,165.1563 137.6875,166.7188 Q137.6875,167.9219 137.0625,168.5938 Q136.4531,169.2656 135.2656,169.375 Q136.6875,169.5156 137.4063,170.3281 Q138.125,171.1406 138.125,172.5938 Q138.125,174.3906 137.0469,175.2031 Q135.9688,176 133.5313,176 L129.5313,176 L129.5313,163.5938 Z \"/><text fill=\"#000000\" font-family=\"sans-serif\" font-size=\"12\" lengthAdjust=\"spacingAndGlyphs\" textLength=\"8\" x=\"147\" y=\"174.1543\">B</text><line style=\"stroke: #A80036; stroke-width: 1.5;\" x1=\"119\" x2=\"157\" y1=\"186\" y2=\"186\"/></a><!--MD5=[e9be52314489bd878ff4c7144b63c9e1]\n",
       "link E5 to E3--><a href=\"psysml:d9b9f238-e6f4-4810-bb41-4cf78560774c\" target=\"_top\" title=\"psysml:d9b9f238-e6f4-4810-bb41-4cf78560774c\" xlink:actuate=\"onRequest\" xlink:href=\"psysml:d9b9f238-e6f4-4810-bb41-4cf78560774c\" xlink:show=\"new\" xlink:title=\"psysml:d9b9f238-e6f4-4810-bb41-4cf78560774c\" xlink:type=\"simple\"><path d=\"M241.88,90.66 C240.68,103.15 239.16,119.11 237.77,133.65 \" fill=\"none\" id=\"E5-&gt;E3\" style=\"stroke: #A80036; stroke-width: 1.0;\"/><polygon fill=\"#FFFFFF\" points=\"235.85,153.68,230.7015,134.097,244.6371,135.4376,235.85,153.68\" style=\"stroke: #A80036; stroke-width: 1.0;\"/><ellipse cx=\"233.2381\" cy=\"128.6147\" fill=\"#A80036\" rx=\"2\" ry=\"2\" style=\"stroke: #A80036; stroke-width: 1.0;\"/><ellipse cx=\"243.1921\" cy=\"129.5723\" fill=\"#A80036\" rx=\"2\" ry=\"2\" style=\"stroke: #A80036; stroke-width: 1.0;\"/></a><!--MD5=[bfa3c8b0d15052fdf50ae9310b491027]\n",
       "link E8 to E7--><a href=\"psysml:a13a28be-1001-42f5-9632-37667c0baf51\" target=\"_top\" title=\"psysml:a13a28be-1001-42f5-9632-37667c0baf51\" xlink:actuate=\"onRequest\" xlink:href=\"psysml:a13a28be-1001-42f5-9632-37667c0baf51\" xlink:show=\"new\" xlink:title=\"psysml:a13a28be-1001-42f5-9632-37667c0baf51\" xlink:type=\"simple\"><path d=\"M140.36,90.66 C140.01,103.15 139.55,119.11 139.13,133.65 \" fill=\"none\" id=\"E8-&gt;E7\" style=\"stroke: #A80036; stroke-width: 1.0;\"/><polygon fill=\"#FFFFFF\" points=\"138.55,153.68,132.0955,134.4878,146.0898,134.8877,138.55,153.68\" style=\"stroke: #A80036; stroke-width: 1.0;\"/><ellipse cx=\"134.2575\" cy=\"128.8473\" fill=\"#A80036\" rx=\"2\" ry=\"2\" style=\"stroke: #A80036; stroke-width: 1.0;\"/><ellipse cx=\"144.2534\" cy=\"129.1329\" fill=\"#A80036\" rx=\"2\" ry=\"2\" style=\"stroke: #A80036; stroke-width: 1.0;\"/></a><!--MD5=[baa4012563598181fe5f891607c5c427]\n",
       "@startuml\r\n",
       " \r\n",
       "package \"PrivateImportTest\" as E1  [[psysml:70757ebb-a6cc-427a-a5fd-274a54eae870 ]]  {\r\n",
       "package \"P1\" as E2  [[psysml:9d9a8ea7-31e0-462e-8cd1-90f7e5dc514d ]]  {\r\n",
       "comp def \"A\" as E3  << (B,green) >> [[psysml:6090619b-e47a-44a4-bc4e-b4be6f2f4926 ]] {\r\n",
       "}\r\n",
       "}\r\n",
       "package \"P2\" as E4  [[psysml:2344491a-e19a-447d-a12e-1e886a7ea509 ]]  {\r\n",
       "}\r\n",
       "comp usage \"x: A\" as E5  << (P,limegreen) part>> [[psysml:794b889b-8918-46e8-9c14-cb61e0d8a2ea ]] {\r\n",
       "}\r\n",
       "package \"P3\" as E6  [[psysml:e8a656ba-c51a-4d2d-932b-ea8b084af9f5 ]]  {\r\n",
       "comp def \"B\" as E7  << (B,green) >> [[psysml:9e432445-55c9-4726-a95f-4e15b991b53a ]] {\r\n",
       "}\r\n",
       "E5 - -:|> E3 [[psysml:d9b9f238-e6f4-4810-bb41-4cf78560774c ]] \r\n",
       "}\r\n",
       "comp usage \"z: B\" as E8  << (P,limegreen) part>> [[psysml:553a92d0-50bf-477b-b2ce-bf491dd9a415 ]] {\r\n",
       "}\r\n",
       "E8 - -:|> E7 [[psysml:a13a28be-1001-42f5-9632-37667c0baf51 ]] \r\n",
       "}\r\n",
       "@enduml\r\n",
       "\n",
       "PlantUML version 1.2020.13(Sat Jun 13 12:26:38 UTC 2020)\n",
       "(EPL source distribution)\n",
       "Java Runtime: OpenJDK Runtime Environment\n",
       "JVM: OpenJDK 64-Bit Server VM\n",
       "Default Encoding: UTF-8\n",
       "Language: en\n",
       "Country: null\n",
       "--></g></svg>"
      ]
     },
     "execution_count": 30,
     "metadata": {},
     "output_type": "execute_result"
    }
   ],
   "source": [
    "%viz --style=\"PLANTUML\" --view=\"Default\" \"PrivateImportTest\""
   ]
  },
  {
   "cell_type": "code",
   "execution_count": 31,
   "id": "general-asset",
   "metadata": {
    "execution": {
     "iopub.execute_input": "2021-03-25T15:01:15.156603Z",
     "iopub.status.busy": "2021-03-25T15:01:15.155798Z",
     "iopub.status.idle": "2021-03-25T15:01:15.259488Z",
     "shell.execute_reply": "2021-03-25T15:01:15.258601Z"
    }
   },
   "outputs": [
    {
     "data": {
      "image/svg+xml": [
       "<?xml version=\"1.0\" encoding=\"UTF-8\" standalone=\"no\"?><svg xmlns=\"http://www.w3.org/2000/svg\" xmlns:xlink=\"http://www.w3.org/1999/xlink\" contentScriptType=\"application/ecmascript\" contentStyleType=\"text/css\" height=\"246px\" preserveAspectRatio=\"none\" style=\"width:316px;height:246px;\" version=\"1.1\" viewBox=\"0 0 316 246\" width=\"316px\" zoomAndPan=\"magnify\"><defs><filter height=\"300%\" id=\"f132it8v2vfkxd\" width=\"300%\" x=\"-1\" y=\"-1\"><feGaussianBlur result=\"blurOut\" stdDeviation=\"2.0\"/><feColorMatrix in=\"blurOut\" result=\"blurOut2\" type=\"matrix\" values=\"0 0 0 0 0 0 0 0 0 0 0 0 0 0 0 0 0 0 .4 0\"/><feOffset dx=\"4.0\" dy=\"4.0\" in=\"blurOut2\" result=\"blurOut3\"/><feBlend in=\"SourceGraphic\" in2=\"blurOut3\" mode=\"normal\"/></filter></defs><g><!--MD5=[fbc87193dbaf4d95561dea2c320d4a47]\n",
       "cluster E1--><a href=\"psysml:70757ebb-a6cc-427a-a5fd-274a54eae870\" target=\"_top\" title=\"psysml:70757ebb-a6cc-427a-a5fd-274a54eae870\" xlink:actuate=\"onRequest\" xlink:href=\"psysml:70757ebb-a6cc-427a-a5fd-274a54eae870\" xlink:show=\"new\" xlink:title=\"psysml:70757ebb-a6cc-427a-a5fd-274a54eae870\" xlink:type=\"simple\"><polygon fill=\"#FFFFFF\" filter=\"url(#f132it8v2vfkxd)\" points=\"16,6,163,6,170,28.2969,294,28.2969,294,234,16,234,16,6\" style=\"stroke: #000000; stroke-width: 1.5;\"/><line style=\"stroke: #000000; stroke-width: 1.5;\" x1=\"16\" x2=\"170\" y1=\"28.2969\" y2=\"28.2969\"/><text fill=\"#000000\" font-family=\"sans-serif\" font-size=\"14\" font-weight=\"bold\" lengthAdjust=\"spacingAndGlyphs\" textLength=\"141\" x=\"20\" y=\"20.9951\">PrivateImportTest</text></a><!--MD5=[e4f7fae6ed58524ba242bb0b0d3be6b7]\n",
       "cluster E2--><a href=\"psysml:9d9a8ea7-31e0-462e-8cd1-90f7e5dc514d\" target=\"_top\" title=\"psysml:9d9a8ea7-31e0-462e-8cd1-90f7e5dc514d\" xlink:actuate=\"onRequest\" xlink:href=\"psysml:9d9a8ea7-31e0-462e-8cd1-90f7e5dc514d\" xlink:show=\"new\" xlink:title=\"psysml:9d9a8ea7-31e0-462e-8cd1-90f7e5dc514d\" xlink:type=\"simple\"><polygon fill=\"#FFFFFF\" filter=\"url(#f132it8v2vfkxd)\" points=\"198,119,224,119,231,141.2969,270,141.2969,270,210,198,210,198,119\" style=\"stroke: #000000; stroke-width: 1.5;\"/><line style=\"stroke: #000000; stroke-width: 1.5;\" x1=\"198\" x2=\"231\" y1=\"141.2969\" y2=\"141.2969\"/><text fill=\"#000000\" font-family=\"sans-serif\" font-size=\"14\" font-weight=\"bold\" lengthAdjust=\"spacingAndGlyphs\" textLength=\"20\" x=\"202\" y=\"133.9951\">P1</text></a><!--MD5=[14e3b0961a2654348d326746436168a1]\n",
       "cluster E6--><a href=\"psysml:e8a656ba-c51a-4d2d-932b-ea8b084af9f5\" target=\"_top\" title=\"psysml:e8a656ba-c51a-4d2d-932b-ea8b084af9f5\" xlink:actuate=\"onRequest\" xlink:href=\"psysml:e8a656ba-c51a-4d2d-932b-ea8b084af9f5\" xlink:show=\"new\" xlink:title=\"psysml:e8a656ba-c51a-4d2d-932b-ea8b084af9f5\" xlink:type=\"simple\"><polygon fill=\"#FFFFFF\" filter=\"url(#f132it8v2vfkxd)\" points=\"102,119,128,119,135,141.2969,174,141.2969,174,210,102,210,102,119\" style=\"stroke: #000000; stroke-width: 1.5;\"/><line style=\"stroke: #000000; stroke-width: 1.5;\" x1=\"102\" x2=\"135\" y1=\"141.2969\" y2=\"141.2969\"/><text fill=\"#000000\" font-family=\"sans-serif\" font-size=\"14\" font-weight=\"bold\" lengthAdjust=\"spacingAndGlyphs\" textLength=\"20\" x=\"106\" y=\"133.9951\">P3</text></a><!--MD5=[270fce915f116d4de14055a7c1d9a0f3]\n",
       "class E5--><a href=\"psysml:794b889b-8918-46e8-9c14-cb61e0d8a2ea\" target=\"_top\" title=\"psysml:794b889b-8918-46e8-9c14-cb61e0d8a2ea\" xlink:actuate=\"onRequest\" xlink:href=\"psysml:794b889b-8918-46e8-9c14-cb61e0d8a2ea\" xlink:show=\"new\" xlink:title=\"psysml:794b889b-8918-46e8-9c14-cb61e0d8a2ea\" xlink:type=\"simple\"><rect fill=\"#FEFECE\" filter=\"url(#f132it8v2vfkxd)\" height=\"45.9375\" id=\"E5\" rx=\"10\" ry=\"10\" style=\"stroke: #A80036; stroke-width: 1.5;\" width=\"68\" x=\"210\" y=\"44.5\"/><ellipse cx=\"225\" cy=\"63.4688\" fill=\"#32CD32\" rx=\"11\" ry=\"11\" style=\"stroke: #A80036; stroke-width: 1.0;\"/><path d=\"M224.7969,59.1406 L224.7969,62.7656 L225.7969,62.7656 Q227,62.7656 227.4844,62.3594 Q227.9688,61.9531 227.9688,60.9531 Q227.9688,59.9531 227.4844,59.5469 Q227,59.1406 225.7969,59.1406 L224.7969,59.1406 Z M222.3438,57.0781 L225.7031,57.0781 Q228.2656,57.0781 229.3906,58 Q230.5156,58.9063 230.5156,60.9531 Q230.5156,63 229.3906,63.9219 Q228.2656,64.8281 225.7031,64.8281 L224.7969,64.8281 L224.7969,69.4688 L222.3438,69.4688 L222.3438,57.0781 Z \"/><text fill=\"#000000\" font-family=\"sans-serif\" font-size=\"12\" font-style=\"italic\" lengthAdjust=\"spacingAndGlyphs\" textLength=\"40\" x=\"237\" y=\"60.6387\">«part»</text><text fill=\"#000000\" font-family=\"sans-serif\" font-size=\"12\" lengthAdjust=\"spacingAndGlyphs\" textLength=\"22\" x=\"246\" y=\"74.6074\">x: A</text><line style=\"stroke: #A80036; stroke-width: 1.5;\" x1=\"211\" x2=\"277\" y1=\"82.4375\" y2=\"82.4375\"/></a><!--MD5=[b9389687b975829384b498ac4b7476b2]\n",
       "class E8--><a href=\"psysml:553a92d0-50bf-477b-b2ce-bf491dd9a415\" target=\"_top\" title=\"psysml:553a92d0-50bf-477b-b2ce-bf491dd9a415\" xlink:actuate=\"onRequest\" xlink:href=\"psysml:553a92d0-50bf-477b-b2ce-bf491dd9a415\" xlink:show=\"new\" xlink:title=\"psysml:553a92d0-50bf-477b-b2ce-bf491dd9a415\" xlink:type=\"simple\"><rect fill=\"#FEFECE\" filter=\"url(#f132it8v2vfkxd)\" height=\"45.9375\" id=\"E8\" rx=\"10\" ry=\"10\" style=\"stroke: #A80036; stroke-width: 1.5;\" width=\"68\" x=\"107\" y=\"44.5\"/><ellipse cx=\"122\" cy=\"63.4688\" fill=\"#32CD32\" rx=\"11\" ry=\"11\" style=\"stroke: #A80036; stroke-width: 1.0;\"/><path d=\"M121.7969,59.1406 L121.7969,62.7656 L122.7969,62.7656 Q124,62.7656 124.4844,62.3594 Q124.9688,61.9531 124.9688,60.9531 Q124.9688,59.9531 124.4844,59.5469 Q124,59.1406 122.7969,59.1406 L121.7969,59.1406 Z M119.3438,57.0781 L122.7031,57.0781 Q125.2656,57.0781 126.3906,58 Q127.5156,58.9063 127.5156,60.9531 Q127.5156,63 126.3906,63.9219 Q125.2656,64.8281 122.7031,64.8281 L121.7969,64.8281 L121.7969,69.4688 L119.3438,69.4688 L119.3438,57.0781 Z \"/><text fill=\"#000000\" font-family=\"sans-serif\" font-size=\"12\" font-style=\"italic\" lengthAdjust=\"spacingAndGlyphs\" textLength=\"40\" x=\"134\" y=\"60.6387\">«part»</text><text fill=\"#000000\" font-family=\"sans-serif\" font-size=\"12\" lengthAdjust=\"spacingAndGlyphs\" textLength=\"21\" x=\"143.5\" y=\"74.6074\">z: B</text><line style=\"stroke: #A80036; stroke-width: 1.5;\" x1=\"108\" x2=\"174\" y1=\"82.4375\" y2=\"82.4375\"/></a><!--MD5=[09b614a08d8cba4a07c9adeb5e0fee81]\n",
       "class E3--><a href=\"psysml:6090619b-e47a-44a4-bc4e-b4be6f2f4926\" target=\"_top\" title=\"psysml:6090619b-e47a-44a4-bc4e-b4be6f2f4926\" xlink:actuate=\"onRequest\" xlink:href=\"psysml:6090619b-e47a-44a4-bc4e-b4be6f2f4926\" xlink:show=\"new\" xlink:title=\"psysml:6090619b-e47a-44a4-bc4e-b4be6f2f4926\" xlink:type=\"simple\"><rect fill=\"#FEFECE\" filter=\"url(#f132it8v2vfkxd)\" height=\"40\" id=\"E3\" style=\"stroke: #A80036; stroke-width: 1.5;\" width=\"40\" x=\"214\" y=\"154\"/><ellipse cx=\"229\" cy=\"170\" fill=\"#008000\" rx=\"11\" ry=\"11\" style=\"stroke: #A80036; stroke-width: 1.0;\"/><path d=\"M227.9063,170.375 L227.9063,174.0469 L229.5313,174.0469 Q230.7031,174.0469 231.1719,173.6563 Q231.6406,173.25 231.6406,172.25 Q231.6406,171.25 231.1406,170.8125 Q230.6563,170.375 229.5313,170.375 L227.9063,170.375 Z M227.9063,165.5469 L227.9063,168.4219 L229.5313,168.4219 Q230.4531,168.4219 230.8438,168.0938 Q231.25,167.75 231.25,167 Q231.25,166.2344 230.8438,165.8906 Q230.4375,165.5469 229.5313,165.5469 L227.9063,165.5469 Z M225.5313,163.5938 L229.5313,163.5938 Q231.5938,163.5938 232.6406,164.375 Q233.6875,165.1563 233.6875,166.7188 Q233.6875,167.9219 233.0625,168.5938 Q232.4531,169.2656 231.2656,169.375 Q232.6875,169.5156 233.4063,170.3281 Q234.125,171.1406 234.125,172.5938 Q234.125,174.3906 233.0469,175.2031 Q231.9688,176 229.5313,176 L225.5313,176 L225.5313,163.5938 Z \"/><text fill=\"#000000\" font-family=\"sans-serif\" font-size=\"12\" lengthAdjust=\"spacingAndGlyphs\" textLength=\"8\" x=\"243\" y=\"174.1543\">A</text><line style=\"stroke: #A80036; stroke-width: 1.5;\" x1=\"215\" x2=\"253\" y1=\"186\" y2=\"186\"/></a><a href=\"psysml:2344491a-e19a-447d-a12e-1e886a7ea509\" target=\"_top\" title=\"psysml:2344491a-e19a-447d-a12e-1e886a7ea509\" xlink:actuate=\"onRequest\" xlink:href=\"psysml:2344491a-e19a-447d-a12e-1e886a7ea509\" xlink:show=\"new\" xlink:title=\"psysml:2344491a-e19a-447d-a12e-1e886a7ea509\" xlink:type=\"simple\"><polygon fill=\"#FFFFFF\" filter=\"url(#f132it8v2vfkxd)\" points=\"32,41,58,41,65,63.2969,72,63.2969,72,93.5938,32,93.5938,32,41\" style=\"stroke: #000000; stroke-width: 1.5;\"/><line style=\"stroke: #000000; stroke-width: 1.5;\" x1=\"32\" x2=\"65\" y1=\"63.2969\" y2=\"63.2969\"/><text fill=\"#000000\" font-family=\"sans-serif\" font-size=\"14\" font-weight=\"bold\" lengthAdjust=\"spacingAndGlyphs\" textLength=\"20\" x=\"36\" y=\"55.9951\">P2</text></a><!--MD5=[2156ba9850f5573cc1fc38a6a4b2f02b]\n",
       "class E7--><a href=\"psysml:9e432445-55c9-4726-a95f-4e15b991b53a\" target=\"_top\" title=\"psysml:9e432445-55c9-4726-a95f-4e15b991b53a\" xlink:actuate=\"onRequest\" xlink:href=\"psysml:9e432445-55c9-4726-a95f-4e15b991b53a\" xlink:show=\"new\" xlink:title=\"psysml:9e432445-55c9-4726-a95f-4e15b991b53a\" xlink:type=\"simple\"><rect fill=\"#FEFECE\" filter=\"url(#f132it8v2vfkxd)\" height=\"40\" id=\"E7\" style=\"stroke: #A80036; stroke-width: 1.5;\" width=\"40\" x=\"118\" y=\"154\"/><ellipse cx=\"133\" cy=\"170\" fill=\"#008000\" rx=\"11\" ry=\"11\" style=\"stroke: #A80036; stroke-width: 1.0;\"/><path d=\"M131.9063,170.375 L131.9063,174.0469 L133.5313,174.0469 Q134.7031,174.0469 135.1719,173.6563 Q135.6406,173.25 135.6406,172.25 Q135.6406,171.25 135.1406,170.8125 Q134.6563,170.375 133.5313,170.375 L131.9063,170.375 Z M131.9063,165.5469 L131.9063,168.4219 L133.5313,168.4219 Q134.4531,168.4219 134.8438,168.0938 Q135.25,167.75 135.25,167 Q135.25,166.2344 134.8438,165.8906 Q134.4375,165.5469 133.5313,165.5469 L131.9063,165.5469 Z M129.5313,163.5938 L133.5313,163.5938 Q135.5938,163.5938 136.6406,164.375 Q137.6875,165.1563 137.6875,166.7188 Q137.6875,167.9219 137.0625,168.5938 Q136.4531,169.2656 135.2656,169.375 Q136.6875,169.5156 137.4063,170.3281 Q138.125,171.1406 138.125,172.5938 Q138.125,174.3906 137.0469,175.2031 Q135.9688,176 133.5313,176 L129.5313,176 L129.5313,163.5938 Z \"/><text fill=\"#000000\" font-family=\"sans-serif\" font-size=\"12\" lengthAdjust=\"spacingAndGlyphs\" textLength=\"8\" x=\"147\" y=\"174.1543\">B</text><line style=\"stroke: #A80036; stroke-width: 1.5;\" x1=\"119\" x2=\"157\" y1=\"186\" y2=\"186\"/></a><!--MD5=[e9be52314489bd878ff4c7144b63c9e1]\n",
       "link E5 to E3--><a href=\"psysml:d9b9f238-e6f4-4810-bb41-4cf78560774c\" target=\"_top\" title=\"psysml:d9b9f238-e6f4-4810-bb41-4cf78560774c\" xlink:actuate=\"onRequest\" xlink:href=\"psysml:d9b9f238-e6f4-4810-bb41-4cf78560774c\" xlink:show=\"new\" xlink:title=\"psysml:d9b9f238-e6f4-4810-bb41-4cf78560774c\" xlink:type=\"simple\"><path d=\"M241.88,90.66 C240.68,103.15 239.16,119.11 237.77,133.65 \" fill=\"none\" id=\"E5-&gt;E3\" style=\"stroke: #A80036; stroke-width: 1.0;\"/><polygon fill=\"#FFFFFF\" points=\"235.85,153.68,230.7015,134.097,244.6371,135.4376,235.85,153.68\" style=\"stroke: #A80036; stroke-width: 1.0;\"/><ellipse cx=\"233.2381\" cy=\"128.6147\" fill=\"#A80036\" rx=\"2\" ry=\"2\" style=\"stroke: #A80036; stroke-width: 1.0;\"/><ellipse cx=\"243.1921\" cy=\"129.5723\" fill=\"#A80036\" rx=\"2\" ry=\"2\" style=\"stroke: #A80036; stroke-width: 1.0;\"/></a><!--MD5=[bfa3c8b0d15052fdf50ae9310b491027]\n",
       "link E8 to E7--><a href=\"psysml:a13a28be-1001-42f5-9632-37667c0baf51\" target=\"_top\" title=\"psysml:a13a28be-1001-42f5-9632-37667c0baf51\" xlink:actuate=\"onRequest\" xlink:href=\"psysml:a13a28be-1001-42f5-9632-37667c0baf51\" xlink:show=\"new\" xlink:title=\"psysml:a13a28be-1001-42f5-9632-37667c0baf51\" xlink:type=\"simple\"><path d=\"M140.36,90.66 C140.01,103.15 139.55,119.11 139.13,133.65 \" fill=\"none\" id=\"E8-&gt;E7\" style=\"stroke: #A80036; stroke-width: 1.0;\"/><polygon fill=\"#FFFFFF\" points=\"138.55,153.68,132.0955,134.4878,146.0898,134.8877,138.55,153.68\" style=\"stroke: #A80036; stroke-width: 1.0;\"/><ellipse cx=\"134.2575\" cy=\"128.8473\" fill=\"#A80036\" rx=\"2\" ry=\"2\" style=\"stroke: #A80036; stroke-width: 1.0;\"/><ellipse cx=\"144.2534\" cy=\"129.1329\" fill=\"#A80036\" rx=\"2\" ry=\"2\" style=\"stroke: #A80036; stroke-width: 1.0;\"/></a><!--MD5=[baa4012563598181fe5f891607c5c427]\n",
       "@startuml\r\n",
       " \r\n",
       "package \"PrivateImportTest\" as E1  [[psysml:70757ebb-a6cc-427a-a5fd-274a54eae870 ]]  {\r\n",
       "package \"P1\" as E2  [[psysml:9d9a8ea7-31e0-462e-8cd1-90f7e5dc514d ]]  {\r\n",
       "comp def \"A\" as E3  << (B,green) >> [[psysml:6090619b-e47a-44a4-bc4e-b4be6f2f4926 ]] {\r\n",
       "}\r\n",
       "}\r\n",
       "package \"P2\" as E4  [[psysml:2344491a-e19a-447d-a12e-1e886a7ea509 ]]  {\r\n",
       "}\r\n",
       "comp usage \"x: A\" as E5  << (P,limegreen) part>> [[psysml:794b889b-8918-46e8-9c14-cb61e0d8a2ea ]] {\r\n",
       "}\r\n",
       "package \"P3\" as E6  [[psysml:e8a656ba-c51a-4d2d-932b-ea8b084af9f5 ]]  {\r\n",
       "comp def \"B\" as E7  << (B,green) >> [[psysml:9e432445-55c9-4726-a95f-4e15b991b53a ]] {\r\n",
       "}\r\n",
       "E5 - -:|> E3 [[psysml:d9b9f238-e6f4-4810-bb41-4cf78560774c ]] \r\n",
       "}\r\n",
       "comp usage \"z: B\" as E8  << (P,limegreen) part>> [[psysml:553a92d0-50bf-477b-b2ce-bf491dd9a415 ]] {\r\n",
       "}\r\n",
       "E8 - -:|> E7 [[psysml:a13a28be-1001-42f5-9632-37667c0baf51 ]] \r\n",
       "}\r\n",
       "@enduml\r\n",
       "\n",
       "PlantUML version 1.2020.13(Sat Jun 13 12:26:38 UTC 2020)\n",
       "(EPL source distribution)\n",
       "Java Runtime: OpenJDK Runtime Environment\n",
       "JVM: OpenJDK 64-Bit Server VM\n",
       "Default Encoding: UTF-8\n",
       "Language: en\n",
       "Country: null\n",
       "--></g></svg>"
      ]
     },
     "execution_count": 31,
     "metadata": {},
     "output_type": "execute_result"
    }
   ],
   "source": [
    "%viz --style=\"PLANTUML\" --view=\"Tree\" \"PrivateImportTest\""
   ]
  },
  {
   "cell_type": "code",
   "execution_count": 32,
   "id": "billion-traffic",
   "metadata": {
    "execution": {
     "iopub.execute_input": "2021-03-25T15:01:15.308283Z",
     "iopub.status.busy": "2021-03-25T15:01:15.307296Z",
     "iopub.status.idle": "2021-03-25T15:01:18.003320Z",
     "shell.execute_reply": "2021-03-25T15:01:18.002771Z"
    }
   },
   "outputs": [
    {
     "data": {
      "image/svg+xml": [
       "<?xml version=\"1.0\" encoding=\"UTF-8\" standalone=\"no\"?><svg xmlns=\"http://www.w3.org/2000/svg\" xmlns:xlink=\"http://www.w3.org/1999/xlink\" contentScriptType=\"application/ecmascript\" contentStyleType=\"text/css\" height=\"410px\" preserveAspectRatio=\"none\" style=\"width:603px;height:410px;background:#000000;\" version=\"1.1\" viewBox=\"0 0 603 410\" width=\"603px\" zoomAndPan=\"magnify\"><defs/><g><rect fill=\"#1B0021\" height=\"1\" style=\"stroke: #1B0021; stroke-width: 1.0;\" width=\"1\" x=\"0\" y=\"0\"/><rect fill=\"#FFFFFF\" height=\"53\" style=\"stroke: #FFFFFF; stroke-width: 1.0;\" width=\"602\" x=\"0\" y=\"0\"/><image height=\"53\" width=\"450\" x=\"1\" xlink:href=\"data:image/png;base64,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\" y=\"1\"/><rect fill=\"#FFFFFF\" height=\"205.5625\" style=\"stroke: #FFFFFF; stroke-width: 1.0;\" width=\"602\" x=\"0\" y=\"53\"/><text fill=\"#000000\" font-family=\"sans-serif\" font-size=\"12\" font-weight=\"bold\" lengthAdjust=\"spacingAndGlyphs\" textLength=\"159\" x=\"5\" y=\"69.1387\">Welcome to PlantUML!</text><text fill=\"#000000\" font-family=\"sans-serif\" font-size=\"12\" lengthAdjust=\"spacingAndGlyphs\" textLength=\"0\" x=\"9\" y=\"83.1074\"/><text fill=\"#000000\" font-family=\"sans-serif\" font-size=\"12\" lengthAdjust=\"spacingAndGlyphs\" textLength=\"293\" x=\"5\" y=\"97.0762\">If you use this software, you accept its license.</text><text fill=\"#000000\" font-family=\"sans-serif\" font-size=\"12\" lengthAdjust=\"spacingAndGlyphs\" textLength=\"107\" x=\"5\" y=\"111.0449\">(details by typing</text><text fill=\"#000000\" font-family=\"monospace\" font-size=\"12\" lengthAdjust=\"spacingAndGlyphs\" textLength=\"49\" x=\"116\" y=\"111.0449\">license</text><text fill=\"#000000\" font-family=\"sans-serif\" font-size=\"12\" lengthAdjust=\"spacingAndGlyphs\" textLength=\"56\" x=\"169\" y=\"111.0449\">keyword)</text><text fill=\"#000000\" font-family=\"sans-serif\" font-size=\"12\" lengthAdjust=\"spacingAndGlyphs\" textLength=\"0\" x=\"9\" y=\"125.0137\"/><text fill=\"#000000\" font-family=\"sans-serif\" font-size=\"12\" lengthAdjust=\"spacingAndGlyphs\" textLength=\"283\" x=\"5\" y=\"138.9824\">You can start with a simple UML Diagram like:</text><text fill=\"#000000\" font-family=\"sans-serif\" font-size=\"12\" lengthAdjust=\"spacingAndGlyphs\" textLength=\"0\" x=\"9\" y=\"152.9512\"/><text fill=\"#000000\" font-family=\"monospace\" font-size=\"12\" lengthAdjust=\"spacingAndGlyphs\" textLength=\"119\" x=\"5\" y=\"166.9199\">Bob-&gt;Alice: Hello</text><text fill=\"#000000\" font-family=\"sans-serif\" font-size=\"12\" lengthAdjust=\"spacingAndGlyphs\" textLength=\"0\" x=\"9\" y=\"180.8887\"/><text fill=\"#000000\" font-family=\"sans-serif\" font-size=\"12\" lengthAdjust=\"spacingAndGlyphs\" textLength=\"14\" x=\"5\" y=\"194.8574\">Or</text><text fill=\"#000000\" font-family=\"sans-serif\" font-size=\"12\" lengthAdjust=\"spacingAndGlyphs\" textLength=\"0\" x=\"9\" y=\"208.8262\"/><text fill=\"#000000\" font-family=\"monospace\" font-size=\"12\" lengthAdjust=\"spacingAndGlyphs\" textLength=\"91\" x=\"5\" y=\"222.7949\">class Example</text><text fill=\"#000000\" font-family=\"sans-serif\" font-size=\"12\" lengthAdjust=\"spacingAndGlyphs\" textLength=\"0\" x=\"9\" y=\"236.7637\"/><text fill=\"#000000\" font-family=\"sans-serif\" font-size=\"12\" lengthAdjust=\"spacingAndGlyphs\" textLength=\"349\" x=\"5\" y=\"250.7324\">You will find more information about PlantUML syntax on</text><text fill=\"#000000\" font-family=\"sans-serif\" font-size=\"12\" lengthAdjust=\"spacingAndGlyphs\" text-decoration=\"underline\" textLength=\"129\" x=\"358\" y=\"250.7324\">https://plantuml.com</text><image height=\"71\" width=\"80\" x=\"516\" xlink:href=\"data:image/png;base64,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\" y=\"59\"/><rect fill=\"#000000\" height=\"96.4844\" style=\"stroke: #000000; stroke-width: 1.0;\" width=\"602\" x=\"0\" y=\"258.5625\"/><rect fill=\"#33FF02\" height=\"21.2969\" style=\"stroke: #33FF02; stroke-width: 1.0;\" width=\"170\" x=\"5\" y=\"263.5625\"/><text fill=\"#000000\" font-family=\"sans-serif\" font-size=\"14\" font-weight=\"bold\" lengthAdjust=\"spacingAndGlyphs\" textLength=\"168\" x=\"6\" y=\"278.5625\">[From string (line 2) ]</text><text fill=\"#33FF02\" font-family=\"sans-serif\" font-size=\"14\" font-weight=\"bold\" lengthAdjust=\"spacingAndGlyphs\" textLength=\"0\" x=\"10\" y=\"298.8594\"/><text fill=\"#33FF02\" font-family=\"sans-serif\" font-size=\"14\" font-weight=\"bold\" lengthAdjust=\"spacingAndGlyphs\" textLength=\"79\" x=\"5\" y=\"315.1563\">@startuml</text><text fill=\"#33FF02\" font-family=\"sans-serif\" font-size=\"14\" font-weight=\"bold\" lengthAdjust=\"spacingAndGlyphs\" textLength=\"0\" x=\"10\" y=\"331.4531\"/><text fill=\"#FF0000\" font-family=\"sans-serif\" font-size=\"14\" font-weight=\"bold\" lengthAdjust=\"spacingAndGlyphs\" textLength=\"142\" x=\"10\" y=\"347.75\">Empty description</text><rect fill=\"#FFFFFF\" height=\"53\" style=\"stroke: #FFFFFF; stroke-width: 1.0;\" width=\"602\" x=\"0\" y=\"355.0469\"/><image height=\"53\" width=\"450\" x=\"1\" xlink:href=\"data:image/png;base64,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\" y=\"356.0469\"/><!--MD5=[f59edd8218d337f74d0c332fc6737304]\n",
       "@startuml\r\n",
       " \r\n",
       "@enduml\r\n",
       "\n",
       "PlantUML version 1.2020.13(Sat Jun 13 12:26:38 UTC 2020)\n",
       "(EPL source distribution)\n",
       "Java Runtime: OpenJDK Runtime Environment\n",
       "JVM: OpenJDK 64-Bit Server VM\n",
       "Default Encoding: UTF-8\n",
       "Language: en\n",
       "Country: null\n",
       "--></g></svg>"
      ]
     },
     "execution_count": 32,
     "metadata": {},
     "output_type": "execute_result"
    }
   ],
   "source": [
    "%viz --style=\"PLANTUML\" --view=\"State\" \"PrivateImportTest\""
   ]
  },
  {
   "cell_type": "code",
   "execution_count": 33,
   "id": "premier-middle",
   "metadata": {
    "execution": {
     "iopub.execute_input": "2021-03-25T15:01:18.053898Z",
     "iopub.status.busy": "2021-03-25T15:01:18.052613Z",
     "iopub.status.idle": "2021-03-25T15:01:18.179495Z",
     "shell.execute_reply": "2021-03-25T15:01:18.178490Z"
    }
   },
   "outputs": [
    {
     "data": {
      "image/svg+xml": [
       "<?xml version=\"1.0\" encoding=\"UTF-8\" standalone=\"no\"?><svg xmlns=\"http://www.w3.org/2000/svg\" xmlns:xlink=\"http://www.w3.org/1999/xlink\" contentScriptType=\"application/ecmascript\" contentStyleType=\"text/css\" height=\"176px\" preserveAspectRatio=\"none\" style=\"width:513px;height:176px;\" version=\"1.1\" viewBox=\"0 0 513 176\" width=\"513px\" zoomAndPan=\"magnify\"><defs><filter height=\"300%\" id=\"f1x5x7aaz1wh8d\" width=\"300%\" x=\"-1\" y=\"-1\"><feGaussianBlur result=\"blurOut\" stdDeviation=\"2.0\"/><feColorMatrix in=\"blurOut\" result=\"blurOut2\" type=\"matrix\" values=\"0 0 0 0 0 0 0 0 0 0 0 0 0 0 0 0 0 0 .4 0\"/><feOffset dx=\"4.0\" dy=\"4.0\" in=\"blurOut2\" result=\"blurOut3\"/><feBlend in=\"SourceGraphic\" in2=\"blurOut3\" mode=\"normal\"/></filter></defs><g><!--MD5=[fbc87193dbaf4d95561dea2c320d4a47]\n",
       "cluster E1--><a href=\"psysml:70757ebb-a6cc-427a-a5fd-274a54eae870\" target=\"_top\" title=\"psysml:70757ebb-a6cc-427a-a5fd-274a54eae870\" xlink:actuate=\"onRequest\" xlink:href=\"psysml:70757ebb-a6cc-427a-a5fd-274a54eae870\" xlink:show=\"new\" xlink:title=\"psysml:70757ebb-a6cc-427a-a5fd-274a54eae870\" xlink:type=\"simple\"><polygon fill=\"#FFFFFF\" filter=\"url(#f1x5x7aaz1wh8d)\" points=\"16,6,163,6,170,28.2969,491,28.2969,491,164,16,164,16,6\" style=\"stroke: #000000; stroke-width: 1.5;\"/><line style=\"stroke: #000000; stroke-width: 1.5;\" x1=\"16\" x2=\"170\" y1=\"28.2969\" y2=\"28.2969\"/><text fill=\"#000000\" font-family=\"sans-serif\" font-size=\"14\" font-weight=\"bold\" lengthAdjust=\"spacingAndGlyphs\" textLength=\"141\" x=\"20\" y=\"20.9951\">PrivateImportTest</text></a><!--MD5=[e4f7fae6ed58524ba242bb0b0d3be6b7]\n",
       "cluster E2--><a href=\"psysml:9d9a8ea7-31e0-462e-8cd1-90f7e5dc514d\" target=\"_top\" title=\"psysml:9d9a8ea7-31e0-462e-8cd1-90f7e5dc514d\" xlink:actuate=\"onRequest\" xlink:href=\"psysml:9d9a8ea7-31e0-462e-8cd1-90f7e5dc514d\" xlink:show=\"new\" xlink:title=\"psysml:9d9a8ea7-31e0-462e-8cd1-90f7e5dc514d\" xlink:type=\"simple\"><polygon fill=\"#FFFFFF\" filter=\"url(#f1x5x7aaz1wh8d)\" points=\"385,49,411,49,418,71.2969,467,71.2969,467,140,385,140,385,49\" style=\"stroke: #000000; stroke-width: 1.5;\"/><line style=\"stroke: #000000; stroke-width: 1.5;\" x1=\"385\" x2=\"418\" y1=\"71.2969\" y2=\"71.2969\"/><text fill=\"#000000\" font-family=\"sans-serif\" font-size=\"14\" font-weight=\"bold\" lengthAdjust=\"spacingAndGlyphs\" textLength=\"20\" x=\"389\" y=\"63.9951\">P1</text></a><!--MD5=[14e3b0961a2654348d326746436168a1]\n",
       "cluster E6--><a href=\"psysml:e8a656ba-c51a-4d2d-932b-ea8b084af9f5\" target=\"_top\" title=\"psysml:e8a656ba-c51a-4d2d-932b-ea8b084af9f5\" xlink:actuate=\"onRequest\" xlink:href=\"psysml:e8a656ba-c51a-4d2d-932b-ea8b084af9f5\" xlink:show=\"new\" xlink:title=\"psysml:e8a656ba-c51a-4d2d-932b-ea8b084af9f5\" xlink:type=\"simple\"><polygon fill=\"#FFFFFF\" filter=\"url(#f1x5x7aaz1wh8d)\" points=\"279,49,305,49,312,71.2969,361,71.2969,361,140,279,140,279,49\" style=\"stroke: #000000; stroke-width: 1.5;\"/><line style=\"stroke: #000000; stroke-width: 1.5;\" x1=\"279\" x2=\"312\" y1=\"71.2969\" y2=\"71.2969\"/><text fill=\"#000000\" font-family=\"sans-serif\" font-size=\"14\" font-weight=\"bold\" lengthAdjust=\"spacingAndGlyphs\" textLength=\"20\" x=\"283\" y=\"63.9951\">P3</text></a><g id=\"E1.E2.E3\"><a href=\"psysml:6090619b-e47a-44a4-bc4e-b4be6f2f4926\" target=\"_top\" title=\"psysml:6090619b-e47a-44a4-bc4e-b4be6f2f4926\" xlink:actuate=\"onRequest\" xlink:href=\"psysml:6090619b-e47a-44a4-bc4e-b4be6f2f4926\" xlink:show=\"new\" xlink:title=\"psysml:6090619b-e47a-44a4-bc4e-b4be6f2f4926\" xlink:type=\"simple\"><rect fill=\"#FEFECE\" filter=\"url(#f1x5x7aaz1wh8d)\" height=\"40\" id=\"E3\" style=\"stroke: #A80036; stroke-width: 1.5;\" width=\"50\" x=\"401\" y=\"84\"/><ellipse cx=\"420.5\" cy=\"100\" fill=\"#008000\" rx=\"11\" ry=\"11\" style=\"stroke: #A80036; stroke-width: 1.0;\"/><path d=\"M419.4063,100.375 L419.4063,104.0469 L421.0313,104.0469 Q422.2031,104.0469 422.6719,103.6563 Q423.1406,103.25 423.1406,102.25 Q423.1406,101.25 422.6406,100.8125 Q422.1563,100.375 421.0313,100.375 L419.4063,100.375 Z M419.4063,95.5469 L419.4063,98.4219 L421.0313,98.4219 Q421.9531,98.4219 422.3438,98.0938 Q422.75,97.75 422.75,97 Q422.75,96.2344 422.3438,95.8906 Q421.9375,95.5469 421.0313,95.5469 L419.4063,95.5469 Z M417.0313,93.5938 L421.0313,93.5938 Q423.0938,93.5938 424.1406,94.375 Q425.1875,95.1563 425.1875,96.7188 Q425.1875,97.9219 424.5625,98.5938 Q423.9531,99.2656 422.7656,99.375 Q424.1875,99.5156 424.9063,100.3281 Q425.625,101.1406 425.625,102.5938 Q425.625,104.3906 424.5469,105.2031 Q423.4688,106 421.0313,106 L417.0313,106 L417.0313,93.5938 Z \"/><text fill=\"#000000\" font-family=\"sans-serif\" font-size=\"12\" lengthAdjust=\"spacingAndGlyphs\" textLength=\"8\" x=\"435.5\" y=\"104.1543\">A</text></a></g><a href=\"psysml:2344491a-e19a-447d-a12e-1e886a7ea509\" target=\"_top\" title=\"psysml:2344491a-e19a-447d-a12e-1e886a7ea509\" xlink:actuate=\"onRequest\" xlink:href=\"psysml:2344491a-e19a-447d-a12e-1e886a7ea509\" xlink:show=\"new\" xlink:title=\"psysml:2344491a-e19a-447d-a12e-1e886a7ea509\" xlink:type=\"simple\"><polygon fill=\"#FFFFFF\" filter=\"url(#f1x5x7aaz1wh8d)\" points=\"220,77.5,246,77.5,253,99.7969,260,99.7969,260,130.0938,220,130.0938,220,77.5\" style=\"stroke: #000000; stroke-width: 1.5;\"/><line style=\"stroke: #000000; stroke-width: 1.5;\" x1=\"220\" x2=\"253\" y1=\"99.7969\" y2=\"99.7969\"/><text fill=\"#000000\" font-family=\"sans-serif\" font-size=\"14\" font-weight=\"bold\" lengthAdjust=\"spacingAndGlyphs\" textLength=\"20\" x=\"224\" y=\"92.4951\">P2</text></a><g id=\"E1.E5\"><a href=\"psysml:794b889b-8918-46e8-9c14-cb61e0d8a2ea\" target=\"_top\" title=\"psysml:794b889b-8918-46e8-9c14-cb61e0d8a2ea\" xlink:actuate=\"onRequest\" xlink:href=\"psysml:794b889b-8918-46e8-9c14-cb61e0d8a2ea\" xlink:show=\"new\" xlink:title=\"psysml:794b889b-8918-46e8-9c14-cb61e0d8a2ea\" xlink:type=\"simple\"><rect fill=\"#FEFECE\" filter=\"url(#f1x5x7aaz1wh8d)\" height=\"40\" id=\"E5\" rx=\"10\" ry=\"10\" style=\"stroke: #A80036; stroke-width: 1.5;\" width=\"59\" x=\"125.5\" y=\"84\"/><ellipse cx=\"142.75\" cy=\"100\" fill=\"#B6DBBB\" rx=\"11\" ry=\"11\" style=\"stroke: #A80036; stroke-width: 1.0;\"/><path d=\"M138.625,101.9219 L138.625,94.1094 L141.0781,94.1094 L141.0781,102.5469 Q141.0781,103.4688 141.5469,104 Q142.0313,104.5313 142.8594,104.5313 Q143.7031,104.5313 144.1719,104 Q144.6406,103.4688 144.6406,102.5469 L144.6406,94.1094 L147.0938,94.1094 L147.0938,101.9219 Q147.0938,104.4531 146.0938,105.5938 Q145.0938,106.7344 142.8594,106.7344 Q140.6406,106.7344 139.625,105.5938 Q138.625,104.4531 138.625,101.9219 Z \"/><text fill=\"#000000\" font-family=\"sans-serif\" font-size=\"12\" lengthAdjust=\"spacingAndGlyphs\" textLength=\"22\" x=\"157.25\" y=\"104.1543\">x: A</text></a></g><g id=\"E1.E6.E7\"><a href=\"psysml:9e432445-55c9-4726-a95f-4e15b991b53a\" target=\"_top\" title=\"psysml:9e432445-55c9-4726-a95f-4e15b991b53a\" xlink:actuate=\"onRequest\" xlink:href=\"psysml:9e432445-55c9-4726-a95f-4e15b991b53a\" xlink:show=\"new\" xlink:title=\"psysml:9e432445-55c9-4726-a95f-4e15b991b53a\" xlink:type=\"simple\"><rect fill=\"#FEFECE\" filter=\"url(#f1x5x7aaz1wh8d)\" height=\"40\" id=\"E7\" style=\"stroke: #A80036; stroke-width: 1.5;\" width=\"50\" x=\"295\" y=\"84\"/><ellipse cx=\"314.5\" cy=\"100\" fill=\"#008000\" rx=\"11\" ry=\"11\" style=\"stroke: #A80036; stroke-width: 1.0;\"/><path d=\"M313.4063,100.375 L313.4063,104.0469 L315.0313,104.0469 Q316.2031,104.0469 316.6719,103.6563 Q317.1406,103.25 317.1406,102.25 Q317.1406,101.25 316.6406,100.8125 Q316.1563,100.375 315.0313,100.375 L313.4063,100.375 Z M313.4063,95.5469 L313.4063,98.4219 L315.0313,98.4219 Q315.9531,98.4219 316.3438,98.0938 Q316.75,97.75 316.75,97 Q316.75,96.2344 316.3438,95.8906 Q315.9375,95.5469 315.0313,95.5469 L313.4063,95.5469 Z M311.0313,93.5938 L315.0313,93.5938 Q317.0938,93.5938 318.1406,94.375 Q319.1875,95.1563 319.1875,96.7188 Q319.1875,97.9219 318.5625,98.5938 Q317.9531,99.2656 316.7656,99.375 Q318.1875,99.5156 318.9063,100.3281 Q319.625,101.1406 319.625,102.5938 Q319.625,104.3906 318.5469,105.2031 Q317.4688,106 315.0313,106 L311.0313,106 L311.0313,93.5938 Z \"/><text fill=\"#000000\" font-family=\"sans-serif\" font-size=\"12\" lengthAdjust=\"spacingAndGlyphs\" textLength=\"8\" x=\"329.5\" y=\"104.1543\">B</text></a></g><g id=\"E1.E8\"><a href=\"psysml:553a92d0-50bf-477b-b2ce-bf491dd9a415\" target=\"_top\" title=\"psysml:553a92d0-50bf-477b-b2ce-bf491dd9a415\" xlink:actuate=\"onRequest\" xlink:href=\"psysml:553a92d0-50bf-477b-b2ce-bf491dd9a415\" xlink:show=\"new\" xlink:title=\"psysml:553a92d0-50bf-477b-b2ce-bf491dd9a415\" xlink:type=\"simple\"><rect fill=\"#FEFECE\" filter=\"url(#f1x5x7aaz1wh8d)\" height=\"40\" id=\"E8\" rx=\"10\" ry=\"10\" style=\"stroke: #A80036; stroke-width: 1.5;\" width=\"58\" x=\"32\" y=\"84\"/><ellipse cx=\"49.25\" cy=\"100\" fill=\"#B6DBBB\" rx=\"11\" ry=\"11\" style=\"stroke: #A80036; stroke-width: 1.0;\"/><path d=\"M45.125,101.9219 L45.125,94.1094 L47.5781,94.1094 L47.5781,102.5469 Q47.5781,103.4688 48.0469,104 Q48.5313,104.5313 49.3594,104.5313 Q50.2031,104.5313 50.6719,104 Q51.1406,103.4688 51.1406,102.5469 L51.1406,94.1094 L53.5938,94.1094 L53.5938,101.9219 Q53.5938,104.4531 52.5938,105.5938 Q51.5938,106.7344 49.3594,106.7344 Q47.1406,106.7344 46.125,105.5938 Q45.125,104.4531 45.125,101.9219 Z \"/><text fill=\"#000000\" font-family=\"sans-serif\" font-size=\"12\" lengthAdjust=\"spacingAndGlyphs\" textLength=\"21\" x=\"63.75\" y=\"104.1543\">z: B</text></a></g><!--MD5=[91526db8e0b5c551cf620323bbbe733a]\n",
       "@startuml\r\n",
       "skinparam ranksep 8\r\n",
       "skinparam rectangle {\r\n",
       " backgroundColor<<block>> LightGreen\r\n",
       "}\r\n",
       " \r\n",
       "package \"PrivateImportTest\" as E1  [[psysml:70757ebb-a6cc-427a-a5fd-274a54eae870 ]]  {\r\n",
       "package \"P1\" as E2  [[psysml:9d9a8ea7-31e0-462e-8cd1-90f7e5dc514d ]]  {\r\n",
       "rec def \"A\" as E3  << (B,green) >> [[psysml:6090619b-e47a-44a4-bc4e-b4be6f2f4926 ]] {\r\n",
       "}\r\n",
       "}\r\n",
       "package \"P2\" as E4  [[psysml:2344491a-e19a-447d-a12e-1e886a7ea509 ]]  {\r\n",
       "}\r\n",
       "rec usage \"x: A\" as E5  [[psysml:794b889b-8918-46e8-9c14-cb61e0d8a2ea ]] {\r\n",
       "}\r\n",
       "package \"P3\" as E6  [[psysml:e8a656ba-c51a-4d2d-932b-ea8b084af9f5 ]]  {\r\n",
       "rec def \"B\" as E7  << (B,green) >> [[psysml:9e432445-55c9-4726-a95f-4e15b991b53a ]] {\r\n",
       "}\r\n",
       "}\r\n",
       "rec usage \"z: B\" as E8  [[psysml:553a92d0-50bf-477b-b2ce-bf491dd9a415 ]] {\r\n",
       "}\r\n",
       "}\r\n",
       "@enduml\r\n",
       "\n",
       "PlantUML version 1.2020.13(Sat Jun 13 12:26:38 UTC 2020)\n",
       "(EPL source distribution)\n",
       "Java Runtime: OpenJDK Runtime Environment\n",
       "JVM: OpenJDK 64-Bit Server VM\n",
       "Default Encoding: UTF-8\n",
       "Language: en\n",
       "Country: null\n",
       "--></g></svg>"
      ]
     },
     "execution_count": 33,
     "metadata": {},
     "output_type": "execute_result"
    }
   ],
   "source": [
    "%viz --style=\"PLANTUML\" --view=\"Interconnection\" \"PrivateImportTest\""
   ]
  },
  {
   "cell_type": "code",
   "execution_count": 34,
   "id": "enabling-seattle",
   "metadata": {
    "execution": {
     "iopub.execute_input": "2021-03-25T15:01:18.227190Z",
     "iopub.status.busy": "2021-03-25T15:01:18.226432Z",
     "iopub.status.idle": "2021-03-25T15:01:18.232699Z",
     "shell.execute_reply": "2021-03-25T15:01:18.231131Z"
    }
   },
   "outputs": [
    {
     "data": {
      "image/svg+xml": [
       "<?xml version=\"1.0\" encoding=\"UTF-8\" standalone=\"no\"?><svg xmlns=\"http://www.w3.org/2000/svg\" xmlns:xlink=\"http://www.w3.org/1999/xlink\" contentScriptType=\"application/ecmascript\" contentStyleType=\"text/css\" height=\"12px\" preserveAspectRatio=\"none\" style=\"width:12px;height:12px;\" version=\"1.1\" viewBox=\"0 0 12 12\" width=\"12px\" zoomAndPan=\"magnify\"><defs/><g><!--MD5=[6a4cb978cab31700e1ce5529f947a75d]\n",
       "@startuml\r\n",
       "skinparam ranksep 8\r\n",
       " \r\n",
       "@enduml\r\n",
       "\n",
       "PlantUML version 1.2020.13(Sat Jun 13 12:26:38 UTC 2020)\n",
       "(EPL source distribution)\n",
       "Java Runtime: OpenJDK Runtime Environment\n",
       "JVM: OpenJDK 64-Bit Server VM\n",
       "Default Encoding: UTF-8\n",
       "Language: en\n",
       "Country: null\n",
       "--></g></svg>"
      ]
     },
     "execution_count": 34,
     "metadata": {},
     "output_type": "execute_result"
    }
   ],
   "source": [
    "%viz --style=\"PLANTUML\" --view=\"Action\" \"PrivateImportTest\""
   ]
  },
  {
   "cell_type": "code",
   "execution_count": 35,
   "id": "existing-voice",
   "metadata": {
    "execution": {
     "iopub.execute_input": "2021-03-25T15:01:18.284774Z",
     "iopub.status.busy": "2021-03-25T15:01:18.283764Z",
     "iopub.status.idle": "2021-03-25T15:01:18.375207Z",
     "shell.execute_reply": "2021-03-25T15:01:18.374874Z"
    }
   },
   "outputs": [
    {
     "data": {
      "image/svg+xml": [
       "<?xml version=\"1.0\" encoding=\"UTF-8\" standalone=\"no\"?><svg xmlns=\"http://www.w3.org/2000/svg\" xmlns:xlink=\"http://www.w3.org/1999/xlink\" contentScriptType=\"application/ecmascript\" contentStyleType=\"text/css\" height=\"246px\" preserveAspectRatio=\"none\" style=\"width:316px;height:246px;\" version=\"1.1\" viewBox=\"0 0 316 246\" width=\"316px\" zoomAndPan=\"magnify\"><defs><filter height=\"300%\" id=\"f132it8v2vfkxd\" width=\"300%\" x=\"-1\" y=\"-1\"><feGaussianBlur result=\"blurOut\" stdDeviation=\"2.0\"/><feColorMatrix in=\"blurOut\" result=\"blurOut2\" type=\"matrix\" values=\"0 0 0 0 0 0 0 0 0 0 0 0 0 0 0 0 0 0 .4 0\"/><feOffset dx=\"4.0\" dy=\"4.0\" in=\"blurOut2\" result=\"blurOut3\"/><feBlend in=\"SourceGraphic\" in2=\"blurOut3\" mode=\"normal\"/></filter></defs><g><!--MD5=[fbc87193dbaf4d95561dea2c320d4a47]\n",
       "cluster E1--><a href=\"psysml:70757ebb-a6cc-427a-a5fd-274a54eae870\" target=\"_top\" title=\"psysml:70757ebb-a6cc-427a-a5fd-274a54eae870\" xlink:actuate=\"onRequest\" xlink:href=\"psysml:70757ebb-a6cc-427a-a5fd-274a54eae870\" xlink:show=\"new\" xlink:title=\"psysml:70757ebb-a6cc-427a-a5fd-274a54eae870\" xlink:type=\"simple\"><polygon fill=\"#FFFFFF\" filter=\"url(#f132it8v2vfkxd)\" points=\"16,6,163,6,170,28.2969,294,28.2969,294,234,16,234,16,6\" style=\"stroke: #000000; stroke-width: 1.5;\"/><line style=\"stroke: #000000; stroke-width: 1.5;\" x1=\"16\" x2=\"170\" y1=\"28.2969\" y2=\"28.2969\"/><text fill=\"#000000\" font-family=\"sans-serif\" font-size=\"14\" font-weight=\"bold\" lengthAdjust=\"spacingAndGlyphs\" textLength=\"141\" x=\"20\" y=\"20.9951\">PrivateImportTest</text></a><!--MD5=[e4f7fae6ed58524ba242bb0b0d3be6b7]\n",
       "cluster E2--><a href=\"psysml:9d9a8ea7-31e0-462e-8cd1-90f7e5dc514d\" target=\"_top\" title=\"psysml:9d9a8ea7-31e0-462e-8cd1-90f7e5dc514d\" xlink:actuate=\"onRequest\" xlink:href=\"psysml:9d9a8ea7-31e0-462e-8cd1-90f7e5dc514d\" xlink:show=\"new\" xlink:title=\"psysml:9d9a8ea7-31e0-462e-8cd1-90f7e5dc514d\" xlink:type=\"simple\"><polygon fill=\"#FFFFFF\" filter=\"url(#f132it8v2vfkxd)\" points=\"198,119,224,119,231,141.2969,270,141.2969,270,210,198,210,198,119\" style=\"stroke: #000000; stroke-width: 1.5;\"/><line style=\"stroke: #000000; stroke-width: 1.5;\" x1=\"198\" x2=\"231\" y1=\"141.2969\" y2=\"141.2969\"/><text fill=\"#000000\" font-family=\"sans-serif\" font-size=\"14\" font-weight=\"bold\" lengthAdjust=\"spacingAndGlyphs\" textLength=\"20\" x=\"202\" y=\"133.9951\">P1</text></a><!--MD5=[14e3b0961a2654348d326746436168a1]\n",
       "cluster E6--><a href=\"psysml:e8a656ba-c51a-4d2d-932b-ea8b084af9f5\" target=\"_top\" title=\"psysml:e8a656ba-c51a-4d2d-932b-ea8b084af9f5\" xlink:actuate=\"onRequest\" xlink:href=\"psysml:e8a656ba-c51a-4d2d-932b-ea8b084af9f5\" xlink:show=\"new\" xlink:title=\"psysml:e8a656ba-c51a-4d2d-932b-ea8b084af9f5\" xlink:type=\"simple\"><polygon fill=\"#FFFFFF\" filter=\"url(#f132it8v2vfkxd)\" points=\"102,119,128,119,135,141.2969,174,141.2969,174,210,102,210,102,119\" style=\"stroke: #000000; stroke-width: 1.5;\"/><line style=\"stroke: #000000; stroke-width: 1.5;\" x1=\"102\" x2=\"135\" y1=\"141.2969\" y2=\"141.2969\"/><text fill=\"#000000\" font-family=\"sans-serif\" font-size=\"14\" font-weight=\"bold\" lengthAdjust=\"spacingAndGlyphs\" textLength=\"20\" x=\"106\" y=\"133.9951\">P3</text></a><!--MD5=[270fce915f116d4de14055a7c1d9a0f3]\n",
       "class E5--><a href=\"psysml:794b889b-8918-46e8-9c14-cb61e0d8a2ea\" target=\"_top\" title=\"psysml:794b889b-8918-46e8-9c14-cb61e0d8a2ea\" xlink:actuate=\"onRequest\" xlink:href=\"psysml:794b889b-8918-46e8-9c14-cb61e0d8a2ea\" xlink:show=\"new\" xlink:title=\"psysml:794b889b-8918-46e8-9c14-cb61e0d8a2ea\" xlink:type=\"simple\"><rect fill=\"#FEFECE\" filter=\"url(#f132it8v2vfkxd)\" height=\"45.9375\" id=\"E5\" rx=\"10\" ry=\"10\" style=\"stroke: #A80036; stroke-width: 1.5;\" width=\"68\" x=\"210\" y=\"44.5\"/><ellipse cx=\"225\" cy=\"63.4688\" fill=\"#32CD32\" rx=\"11\" ry=\"11\" style=\"stroke: #A80036; stroke-width: 1.0;\"/><path d=\"M224.7969,59.1406 L224.7969,62.7656 L225.7969,62.7656 Q227,62.7656 227.4844,62.3594 Q227.9688,61.9531 227.9688,60.9531 Q227.9688,59.9531 227.4844,59.5469 Q227,59.1406 225.7969,59.1406 L224.7969,59.1406 Z M222.3438,57.0781 L225.7031,57.0781 Q228.2656,57.0781 229.3906,58 Q230.5156,58.9063 230.5156,60.9531 Q230.5156,63 229.3906,63.9219 Q228.2656,64.8281 225.7031,64.8281 L224.7969,64.8281 L224.7969,69.4688 L222.3438,69.4688 L222.3438,57.0781 Z \"/><text fill=\"#000000\" font-family=\"sans-serif\" font-size=\"12\" font-style=\"italic\" lengthAdjust=\"spacingAndGlyphs\" textLength=\"40\" x=\"237\" y=\"60.6387\">«part»</text><text fill=\"#000000\" font-family=\"sans-serif\" font-size=\"12\" lengthAdjust=\"spacingAndGlyphs\" textLength=\"22\" x=\"246\" y=\"74.6074\">x: A</text><line style=\"stroke: #A80036; stroke-width: 1.5;\" x1=\"211\" x2=\"277\" y1=\"82.4375\" y2=\"82.4375\"/></a><!--MD5=[b9389687b975829384b498ac4b7476b2]\n",
       "class E8--><a href=\"psysml:553a92d0-50bf-477b-b2ce-bf491dd9a415\" target=\"_top\" title=\"psysml:553a92d0-50bf-477b-b2ce-bf491dd9a415\" xlink:actuate=\"onRequest\" xlink:href=\"psysml:553a92d0-50bf-477b-b2ce-bf491dd9a415\" xlink:show=\"new\" xlink:title=\"psysml:553a92d0-50bf-477b-b2ce-bf491dd9a415\" xlink:type=\"simple\"><rect fill=\"#FEFECE\" filter=\"url(#f132it8v2vfkxd)\" height=\"45.9375\" id=\"E8\" rx=\"10\" ry=\"10\" style=\"stroke: #A80036; stroke-width: 1.5;\" width=\"68\" x=\"107\" y=\"44.5\"/><ellipse cx=\"122\" cy=\"63.4688\" fill=\"#32CD32\" rx=\"11\" ry=\"11\" style=\"stroke: #A80036; stroke-width: 1.0;\"/><path d=\"M121.7969,59.1406 L121.7969,62.7656 L122.7969,62.7656 Q124,62.7656 124.4844,62.3594 Q124.9688,61.9531 124.9688,60.9531 Q124.9688,59.9531 124.4844,59.5469 Q124,59.1406 122.7969,59.1406 L121.7969,59.1406 Z M119.3438,57.0781 L122.7031,57.0781 Q125.2656,57.0781 126.3906,58 Q127.5156,58.9063 127.5156,60.9531 Q127.5156,63 126.3906,63.9219 Q125.2656,64.8281 122.7031,64.8281 L121.7969,64.8281 L121.7969,69.4688 L119.3438,69.4688 L119.3438,57.0781 Z \"/><text fill=\"#000000\" font-family=\"sans-serif\" font-size=\"12\" font-style=\"italic\" lengthAdjust=\"spacingAndGlyphs\" textLength=\"40\" x=\"134\" y=\"60.6387\">«part»</text><text fill=\"#000000\" font-family=\"sans-serif\" font-size=\"12\" lengthAdjust=\"spacingAndGlyphs\" textLength=\"21\" x=\"143.5\" y=\"74.6074\">z: B</text><line style=\"stroke: #A80036; stroke-width: 1.5;\" x1=\"108\" x2=\"174\" y1=\"82.4375\" y2=\"82.4375\"/></a><!--MD5=[09b614a08d8cba4a07c9adeb5e0fee81]\n",
       "class E3--><a href=\"psysml:6090619b-e47a-44a4-bc4e-b4be6f2f4926\" target=\"_top\" title=\"psysml:6090619b-e47a-44a4-bc4e-b4be6f2f4926\" xlink:actuate=\"onRequest\" xlink:href=\"psysml:6090619b-e47a-44a4-bc4e-b4be6f2f4926\" xlink:show=\"new\" xlink:title=\"psysml:6090619b-e47a-44a4-bc4e-b4be6f2f4926\" xlink:type=\"simple\"><rect fill=\"#FEFECE\" filter=\"url(#f132it8v2vfkxd)\" height=\"40\" id=\"E3\" style=\"stroke: #A80036; stroke-width: 1.5;\" width=\"40\" x=\"214\" y=\"154\"/><ellipse cx=\"229\" cy=\"170\" fill=\"#008000\" rx=\"11\" ry=\"11\" style=\"stroke: #A80036; stroke-width: 1.0;\"/><path d=\"M227.9063,170.375 L227.9063,174.0469 L229.5313,174.0469 Q230.7031,174.0469 231.1719,173.6563 Q231.6406,173.25 231.6406,172.25 Q231.6406,171.25 231.1406,170.8125 Q230.6563,170.375 229.5313,170.375 L227.9063,170.375 Z M227.9063,165.5469 L227.9063,168.4219 L229.5313,168.4219 Q230.4531,168.4219 230.8438,168.0938 Q231.25,167.75 231.25,167 Q231.25,166.2344 230.8438,165.8906 Q230.4375,165.5469 229.5313,165.5469 L227.9063,165.5469 Z M225.5313,163.5938 L229.5313,163.5938 Q231.5938,163.5938 232.6406,164.375 Q233.6875,165.1563 233.6875,166.7188 Q233.6875,167.9219 233.0625,168.5938 Q232.4531,169.2656 231.2656,169.375 Q232.6875,169.5156 233.4063,170.3281 Q234.125,171.1406 234.125,172.5938 Q234.125,174.3906 233.0469,175.2031 Q231.9688,176 229.5313,176 L225.5313,176 L225.5313,163.5938 Z \"/><text fill=\"#000000\" font-family=\"sans-serif\" font-size=\"12\" lengthAdjust=\"spacingAndGlyphs\" textLength=\"8\" x=\"243\" y=\"174.1543\">A</text><line style=\"stroke: #A80036; stroke-width: 1.5;\" x1=\"215\" x2=\"253\" y1=\"186\" y2=\"186\"/></a><a href=\"psysml:2344491a-e19a-447d-a12e-1e886a7ea509\" target=\"_top\" title=\"psysml:2344491a-e19a-447d-a12e-1e886a7ea509\" xlink:actuate=\"onRequest\" xlink:href=\"psysml:2344491a-e19a-447d-a12e-1e886a7ea509\" xlink:show=\"new\" xlink:title=\"psysml:2344491a-e19a-447d-a12e-1e886a7ea509\" xlink:type=\"simple\"><polygon fill=\"#FFFFFF\" filter=\"url(#f132it8v2vfkxd)\" points=\"32,41,58,41,65,63.2969,72,63.2969,72,93.5938,32,93.5938,32,41\" style=\"stroke: #000000; stroke-width: 1.5;\"/><line style=\"stroke: #000000; stroke-width: 1.5;\" x1=\"32\" x2=\"65\" y1=\"63.2969\" y2=\"63.2969\"/><text fill=\"#000000\" font-family=\"sans-serif\" font-size=\"14\" font-weight=\"bold\" lengthAdjust=\"spacingAndGlyphs\" textLength=\"20\" x=\"36\" y=\"55.9951\">P2</text></a><!--MD5=[2156ba9850f5573cc1fc38a6a4b2f02b]\n",
       "class E7--><a href=\"psysml:9e432445-55c9-4726-a95f-4e15b991b53a\" target=\"_top\" title=\"psysml:9e432445-55c9-4726-a95f-4e15b991b53a\" xlink:actuate=\"onRequest\" xlink:href=\"psysml:9e432445-55c9-4726-a95f-4e15b991b53a\" xlink:show=\"new\" xlink:title=\"psysml:9e432445-55c9-4726-a95f-4e15b991b53a\" xlink:type=\"simple\"><rect fill=\"#FEFECE\" filter=\"url(#f132it8v2vfkxd)\" height=\"40\" id=\"E7\" style=\"stroke: #A80036; stroke-width: 1.5;\" width=\"40\" x=\"118\" y=\"154\"/><ellipse cx=\"133\" cy=\"170\" fill=\"#008000\" rx=\"11\" ry=\"11\" style=\"stroke: #A80036; stroke-width: 1.0;\"/><path d=\"M131.9063,170.375 L131.9063,174.0469 L133.5313,174.0469 Q134.7031,174.0469 135.1719,173.6563 Q135.6406,173.25 135.6406,172.25 Q135.6406,171.25 135.1406,170.8125 Q134.6563,170.375 133.5313,170.375 L131.9063,170.375 Z M131.9063,165.5469 L131.9063,168.4219 L133.5313,168.4219 Q134.4531,168.4219 134.8438,168.0938 Q135.25,167.75 135.25,167 Q135.25,166.2344 134.8438,165.8906 Q134.4375,165.5469 133.5313,165.5469 L131.9063,165.5469 Z M129.5313,163.5938 L133.5313,163.5938 Q135.5938,163.5938 136.6406,164.375 Q137.6875,165.1563 137.6875,166.7188 Q137.6875,167.9219 137.0625,168.5938 Q136.4531,169.2656 135.2656,169.375 Q136.6875,169.5156 137.4063,170.3281 Q138.125,171.1406 138.125,172.5938 Q138.125,174.3906 137.0469,175.2031 Q135.9688,176 133.5313,176 L129.5313,176 L129.5313,163.5938 Z \"/><text fill=\"#000000\" font-family=\"sans-serif\" font-size=\"12\" lengthAdjust=\"spacingAndGlyphs\" textLength=\"8\" x=\"147\" y=\"174.1543\">B</text><line style=\"stroke: #A80036; stroke-width: 1.5;\" x1=\"119\" x2=\"157\" y1=\"186\" y2=\"186\"/></a><!--MD5=[e9be52314489bd878ff4c7144b63c9e1]\n",
       "link E5 to E3--><a href=\"psysml:d9b9f238-e6f4-4810-bb41-4cf78560774c\" target=\"_top\" title=\"psysml:d9b9f238-e6f4-4810-bb41-4cf78560774c\" xlink:actuate=\"onRequest\" xlink:href=\"psysml:d9b9f238-e6f4-4810-bb41-4cf78560774c\" xlink:show=\"new\" xlink:title=\"psysml:d9b9f238-e6f4-4810-bb41-4cf78560774c\" xlink:type=\"simple\"><path d=\"M241.88,90.66 C240.68,103.15 239.16,119.11 237.77,133.65 \" fill=\"none\" id=\"E5-&gt;E3\" style=\"stroke: #A80036; stroke-width: 1.0;\"/><polygon fill=\"#FFFFFF\" points=\"235.85,153.68,230.7015,134.097,244.6371,135.4376,235.85,153.68\" style=\"stroke: #A80036; stroke-width: 1.0;\"/><ellipse cx=\"233.2381\" cy=\"128.6147\" fill=\"#A80036\" rx=\"2\" ry=\"2\" style=\"stroke: #A80036; stroke-width: 1.0;\"/><ellipse cx=\"243.1921\" cy=\"129.5723\" fill=\"#A80036\" rx=\"2\" ry=\"2\" style=\"stroke: #A80036; stroke-width: 1.0;\"/></a><!--MD5=[bfa3c8b0d15052fdf50ae9310b491027]\n",
       "link E8 to E7--><a href=\"psysml:a13a28be-1001-42f5-9632-37667c0baf51\" target=\"_top\" title=\"psysml:a13a28be-1001-42f5-9632-37667c0baf51\" xlink:actuate=\"onRequest\" xlink:href=\"psysml:a13a28be-1001-42f5-9632-37667c0baf51\" xlink:show=\"new\" xlink:title=\"psysml:a13a28be-1001-42f5-9632-37667c0baf51\" xlink:type=\"simple\"><path d=\"M140.36,90.66 C140.01,103.15 139.55,119.11 139.13,133.65 \" fill=\"none\" id=\"E8-&gt;E7\" style=\"stroke: #A80036; stroke-width: 1.0;\"/><polygon fill=\"#FFFFFF\" points=\"138.55,153.68,132.0955,134.4878,146.0898,134.8877,138.55,153.68\" style=\"stroke: #A80036; stroke-width: 1.0;\"/><ellipse cx=\"134.2575\" cy=\"128.8473\" fill=\"#A80036\" rx=\"2\" ry=\"2\" style=\"stroke: #A80036; stroke-width: 1.0;\"/><ellipse cx=\"144.2534\" cy=\"129.1329\" fill=\"#A80036\" rx=\"2\" ry=\"2\" style=\"stroke: #A80036; stroke-width: 1.0;\"/></a><!--MD5=[baa4012563598181fe5f891607c5c427]\n",
       "@startuml\r\n",
       " \r\n",
       "package \"PrivateImportTest\" as E1  [[psysml:70757ebb-a6cc-427a-a5fd-274a54eae870 ]]  {\r\n",
       "package \"P1\" as E2  [[psysml:9d9a8ea7-31e0-462e-8cd1-90f7e5dc514d ]]  {\r\n",
       "comp def \"A\" as E3  << (B,green) >> [[psysml:6090619b-e47a-44a4-bc4e-b4be6f2f4926 ]] {\r\n",
       "}\r\n",
       "}\r\n",
       "package \"P2\" as E4  [[psysml:2344491a-e19a-447d-a12e-1e886a7ea509 ]]  {\r\n",
       "}\r\n",
       "comp usage \"x: A\" as E5  << (P,limegreen) part>> [[psysml:794b889b-8918-46e8-9c14-cb61e0d8a2ea ]] {\r\n",
       "}\r\n",
       "package \"P3\" as E6  [[psysml:e8a656ba-c51a-4d2d-932b-ea8b084af9f5 ]]  {\r\n",
       "comp def \"B\" as E7  << (B,green) >> [[psysml:9e432445-55c9-4726-a95f-4e15b991b53a ]] {\r\n",
       "}\r\n",
       "E5 - -:|> E3 [[psysml:d9b9f238-e6f4-4810-bb41-4cf78560774c ]] \r\n",
       "}\r\n",
       "comp usage \"z: B\" as E8  << (P,limegreen) part>> [[psysml:553a92d0-50bf-477b-b2ce-bf491dd9a415 ]] {\r\n",
       "}\r\n",
       "E8 - -:|> E7 [[psysml:a13a28be-1001-42f5-9632-37667c0baf51 ]] \r\n",
       "}\r\n",
       "@enduml\r\n",
       "\n",
       "PlantUML version 1.2020.13(Sat Jun 13 12:26:38 UTC 2020)\n",
       "(EPL source distribution)\n",
       "Java Runtime: OpenJDK Runtime Environment\n",
       "JVM: OpenJDK 64-Bit Server VM\n",
       "Default Encoding: UTF-8\n",
       "Language: en\n",
       "Country: null\n",
       "--></g></svg>"
      ]
     },
     "execution_count": 35,
     "metadata": {},
     "output_type": "execute_result"
    }
   ],
   "source": [
    "%viz --style=\"PLANTUML\" --view=\"Sequence\" \"PrivateImportTest\""
   ]
  },
  {
   "cell_type": "code",
   "execution_count": 36,
   "id": "virgin-biology",
   "metadata": {
    "execution": {
     "iopub.execute_input": "2021-03-25T15:01:18.439035Z",
     "iopub.status.busy": "2021-03-25T15:01:18.427491Z",
     "iopub.status.idle": "2021-03-25T15:01:18.554574Z",
     "shell.execute_reply": "2021-03-25T15:01:18.549293Z"
    }
   },
   "outputs": [
    {
     "data": {
      "image/svg+xml": [
       "<?xml version=\"1.0\" encoding=\"UTF-8\" standalone=\"no\"?><svg xmlns=\"http://www.w3.org/2000/svg\" xmlns:xlink=\"http://www.w3.org/1999/xlink\" contentScriptType=\"application/ecmascript\" contentStyleType=\"text/css\" height=\"246px\" preserveAspectRatio=\"none\" style=\"width:316px;height:246px;\" version=\"1.1\" viewBox=\"0 0 316 246\" width=\"316px\" zoomAndPan=\"magnify\"><defs><filter height=\"300%\" id=\"f132it8v2vfkxd\" width=\"300%\" x=\"-1\" y=\"-1\"><feGaussianBlur result=\"blurOut\" stdDeviation=\"2.0\"/><feColorMatrix in=\"blurOut\" result=\"blurOut2\" type=\"matrix\" values=\"0 0 0 0 0 0 0 0 0 0 0 0 0 0 0 0 0 0 .4 0\"/><feOffset dx=\"4.0\" dy=\"4.0\" in=\"blurOut2\" result=\"blurOut3\"/><feBlend in=\"SourceGraphic\" in2=\"blurOut3\" mode=\"normal\"/></filter></defs><g><!--MD5=[fbc87193dbaf4d95561dea2c320d4a47]\n",
       "cluster E1--><a href=\"psysml:70757ebb-a6cc-427a-a5fd-274a54eae870\" target=\"_top\" title=\"psysml:70757ebb-a6cc-427a-a5fd-274a54eae870\" xlink:actuate=\"onRequest\" xlink:href=\"psysml:70757ebb-a6cc-427a-a5fd-274a54eae870\" xlink:show=\"new\" xlink:title=\"psysml:70757ebb-a6cc-427a-a5fd-274a54eae870\" xlink:type=\"simple\"><polygon fill=\"#FFFFFF\" filter=\"url(#f132it8v2vfkxd)\" points=\"16,6,163,6,170,28.2969,294,28.2969,294,234,16,234,16,6\" style=\"stroke: #000000; stroke-width: 1.5;\"/><line style=\"stroke: #000000; stroke-width: 1.5;\" x1=\"16\" x2=\"170\" y1=\"28.2969\" y2=\"28.2969\"/><text fill=\"#000000\" font-family=\"sans-serif\" font-size=\"14\" font-weight=\"bold\" lengthAdjust=\"spacingAndGlyphs\" textLength=\"141\" x=\"20\" y=\"20.9951\">PrivateImportTest</text></a><!--MD5=[e4f7fae6ed58524ba242bb0b0d3be6b7]\n",
       "cluster E2--><a href=\"psysml:9d9a8ea7-31e0-462e-8cd1-90f7e5dc514d\" target=\"_top\" title=\"psysml:9d9a8ea7-31e0-462e-8cd1-90f7e5dc514d\" xlink:actuate=\"onRequest\" xlink:href=\"psysml:9d9a8ea7-31e0-462e-8cd1-90f7e5dc514d\" xlink:show=\"new\" xlink:title=\"psysml:9d9a8ea7-31e0-462e-8cd1-90f7e5dc514d\" xlink:type=\"simple\"><polygon fill=\"#FFFFFF\" filter=\"url(#f132it8v2vfkxd)\" points=\"198,119,224,119,231,141.2969,270,141.2969,270,210,198,210,198,119\" style=\"stroke: #000000; stroke-width: 1.5;\"/><line style=\"stroke: #000000; stroke-width: 1.5;\" x1=\"198\" x2=\"231\" y1=\"141.2969\" y2=\"141.2969\"/><text fill=\"#000000\" font-family=\"sans-serif\" font-size=\"14\" font-weight=\"bold\" lengthAdjust=\"spacingAndGlyphs\" textLength=\"20\" x=\"202\" y=\"133.9951\">P1</text></a><!--MD5=[14e3b0961a2654348d326746436168a1]\n",
       "cluster E6--><a href=\"psysml:e8a656ba-c51a-4d2d-932b-ea8b084af9f5\" target=\"_top\" title=\"psysml:e8a656ba-c51a-4d2d-932b-ea8b084af9f5\" xlink:actuate=\"onRequest\" xlink:href=\"psysml:e8a656ba-c51a-4d2d-932b-ea8b084af9f5\" xlink:show=\"new\" xlink:title=\"psysml:e8a656ba-c51a-4d2d-932b-ea8b084af9f5\" xlink:type=\"simple\"><polygon fill=\"#FFFFFF\" filter=\"url(#f132it8v2vfkxd)\" points=\"102,119,128,119,135,141.2969,174,141.2969,174,210,102,210,102,119\" style=\"stroke: #000000; stroke-width: 1.5;\"/><line style=\"stroke: #000000; stroke-width: 1.5;\" x1=\"102\" x2=\"135\" y1=\"141.2969\" y2=\"141.2969\"/><text fill=\"#000000\" font-family=\"sans-serif\" font-size=\"14\" font-weight=\"bold\" lengthAdjust=\"spacingAndGlyphs\" textLength=\"20\" x=\"106\" y=\"133.9951\">P3</text></a><!--MD5=[270fce915f116d4de14055a7c1d9a0f3]\n",
       "class E5--><a href=\"psysml:794b889b-8918-46e8-9c14-cb61e0d8a2ea\" target=\"_top\" title=\"psysml:794b889b-8918-46e8-9c14-cb61e0d8a2ea\" xlink:actuate=\"onRequest\" xlink:href=\"psysml:794b889b-8918-46e8-9c14-cb61e0d8a2ea\" xlink:show=\"new\" xlink:title=\"psysml:794b889b-8918-46e8-9c14-cb61e0d8a2ea\" xlink:type=\"simple\"><rect fill=\"#FEFECE\" filter=\"url(#f132it8v2vfkxd)\" height=\"45.9375\" id=\"E5\" rx=\"10\" ry=\"10\" style=\"stroke: #A80036; stroke-width: 1.5;\" width=\"68\" x=\"210\" y=\"44.5\"/><ellipse cx=\"225\" cy=\"63.4688\" fill=\"#32CD32\" rx=\"11\" ry=\"11\" style=\"stroke: #A80036; stroke-width: 1.0;\"/><path d=\"M224.7969,59.1406 L224.7969,62.7656 L225.7969,62.7656 Q227,62.7656 227.4844,62.3594 Q227.9688,61.9531 227.9688,60.9531 Q227.9688,59.9531 227.4844,59.5469 Q227,59.1406 225.7969,59.1406 L224.7969,59.1406 Z M222.3438,57.0781 L225.7031,57.0781 Q228.2656,57.0781 229.3906,58 Q230.5156,58.9063 230.5156,60.9531 Q230.5156,63 229.3906,63.9219 Q228.2656,64.8281 225.7031,64.8281 L224.7969,64.8281 L224.7969,69.4688 L222.3438,69.4688 L222.3438,57.0781 Z \"/><text fill=\"#000000\" font-family=\"sans-serif\" font-size=\"12\" font-style=\"italic\" lengthAdjust=\"spacingAndGlyphs\" textLength=\"40\" x=\"237\" y=\"60.6387\">«part»</text><text fill=\"#000000\" font-family=\"sans-serif\" font-size=\"12\" lengthAdjust=\"spacingAndGlyphs\" textLength=\"22\" x=\"246\" y=\"74.6074\">x: A</text><line style=\"stroke: #A80036; stroke-width: 1.5;\" x1=\"211\" x2=\"277\" y1=\"82.4375\" y2=\"82.4375\"/></a><!--MD5=[b9389687b975829384b498ac4b7476b2]\n",
       "class E8--><a href=\"psysml:553a92d0-50bf-477b-b2ce-bf491dd9a415\" target=\"_top\" title=\"psysml:553a92d0-50bf-477b-b2ce-bf491dd9a415\" xlink:actuate=\"onRequest\" xlink:href=\"psysml:553a92d0-50bf-477b-b2ce-bf491dd9a415\" xlink:show=\"new\" xlink:title=\"psysml:553a92d0-50bf-477b-b2ce-bf491dd9a415\" xlink:type=\"simple\"><rect fill=\"#FEFECE\" filter=\"url(#f132it8v2vfkxd)\" height=\"45.9375\" id=\"E8\" rx=\"10\" ry=\"10\" style=\"stroke: #A80036; stroke-width: 1.5;\" width=\"68\" x=\"107\" y=\"44.5\"/><ellipse cx=\"122\" cy=\"63.4688\" fill=\"#32CD32\" rx=\"11\" ry=\"11\" style=\"stroke: #A80036; stroke-width: 1.0;\"/><path d=\"M121.7969,59.1406 L121.7969,62.7656 L122.7969,62.7656 Q124,62.7656 124.4844,62.3594 Q124.9688,61.9531 124.9688,60.9531 Q124.9688,59.9531 124.4844,59.5469 Q124,59.1406 122.7969,59.1406 L121.7969,59.1406 Z M119.3438,57.0781 L122.7031,57.0781 Q125.2656,57.0781 126.3906,58 Q127.5156,58.9063 127.5156,60.9531 Q127.5156,63 126.3906,63.9219 Q125.2656,64.8281 122.7031,64.8281 L121.7969,64.8281 L121.7969,69.4688 L119.3438,69.4688 L119.3438,57.0781 Z \"/><text fill=\"#000000\" font-family=\"sans-serif\" font-size=\"12\" font-style=\"italic\" lengthAdjust=\"spacingAndGlyphs\" textLength=\"40\" x=\"134\" y=\"60.6387\">«part»</text><text fill=\"#000000\" font-family=\"sans-serif\" font-size=\"12\" lengthAdjust=\"spacingAndGlyphs\" textLength=\"21\" x=\"143.5\" y=\"74.6074\">z: B</text><line style=\"stroke: #A80036; stroke-width: 1.5;\" x1=\"108\" x2=\"174\" y1=\"82.4375\" y2=\"82.4375\"/></a><!--MD5=[09b614a08d8cba4a07c9adeb5e0fee81]\n",
       "class E3--><a href=\"psysml:6090619b-e47a-44a4-bc4e-b4be6f2f4926\" target=\"_top\" title=\"psysml:6090619b-e47a-44a4-bc4e-b4be6f2f4926\" xlink:actuate=\"onRequest\" xlink:href=\"psysml:6090619b-e47a-44a4-bc4e-b4be6f2f4926\" xlink:show=\"new\" xlink:title=\"psysml:6090619b-e47a-44a4-bc4e-b4be6f2f4926\" xlink:type=\"simple\"><rect fill=\"#FEFECE\" filter=\"url(#f132it8v2vfkxd)\" height=\"40\" id=\"E3\" style=\"stroke: #A80036; stroke-width: 1.5;\" width=\"40\" x=\"214\" y=\"154\"/><ellipse cx=\"229\" cy=\"170\" fill=\"#008000\" rx=\"11\" ry=\"11\" style=\"stroke: #A80036; stroke-width: 1.0;\"/><path d=\"M227.9063,170.375 L227.9063,174.0469 L229.5313,174.0469 Q230.7031,174.0469 231.1719,173.6563 Q231.6406,173.25 231.6406,172.25 Q231.6406,171.25 231.1406,170.8125 Q230.6563,170.375 229.5313,170.375 L227.9063,170.375 Z M227.9063,165.5469 L227.9063,168.4219 L229.5313,168.4219 Q230.4531,168.4219 230.8438,168.0938 Q231.25,167.75 231.25,167 Q231.25,166.2344 230.8438,165.8906 Q230.4375,165.5469 229.5313,165.5469 L227.9063,165.5469 Z M225.5313,163.5938 L229.5313,163.5938 Q231.5938,163.5938 232.6406,164.375 Q233.6875,165.1563 233.6875,166.7188 Q233.6875,167.9219 233.0625,168.5938 Q232.4531,169.2656 231.2656,169.375 Q232.6875,169.5156 233.4063,170.3281 Q234.125,171.1406 234.125,172.5938 Q234.125,174.3906 233.0469,175.2031 Q231.9688,176 229.5313,176 L225.5313,176 L225.5313,163.5938 Z \"/><text fill=\"#000000\" font-family=\"sans-serif\" font-size=\"12\" lengthAdjust=\"spacingAndGlyphs\" textLength=\"8\" x=\"243\" y=\"174.1543\">A</text><line style=\"stroke: #A80036; stroke-width: 1.5;\" x1=\"215\" x2=\"253\" y1=\"186\" y2=\"186\"/></a><a href=\"psysml:2344491a-e19a-447d-a12e-1e886a7ea509\" target=\"_top\" title=\"psysml:2344491a-e19a-447d-a12e-1e886a7ea509\" xlink:actuate=\"onRequest\" xlink:href=\"psysml:2344491a-e19a-447d-a12e-1e886a7ea509\" xlink:show=\"new\" xlink:title=\"psysml:2344491a-e19a-447d-a12e-1e886a7ea509\" xlink:type=\"simple\"><polygon fill=\"#FFFFFF\" filter=\"url(#f132it8v2vfkxd)\" points=\"32,41,58,41,65,63.2969,72,63.2969,72,93.5938,32,93.5938,32,41\" style=\"stroke: #000000; stroke-width: 1.5;\"/><line style=\"stroke: #000000; stroke-width: 1.5;\" x1=\"32\" x2=\"65\" y1=\"63.2969\" y2=\"63.2969\"/><text fill=\"#000000\" font-family=\"sans-serif\" font-size=\"14\" font-weight=\"bold\" lengthAdjust=\"spacingAndGlyphs\" textLength=\"20\" x=\"36\" y=\"55.9951\">P2</text></a><!--MD5=[2156ba9850f5573cc1fc38a6a4b2f02b]\n",
       "class E7--><a href=\"psysml:9e432445-55c9-4726-a95f-4e15b991b53a\" target=\"_top\" title=\"psysml:9e432445-55c9-4726-a95f-4e15b991b53a\" xlink:actuate=\"onRequest\" xlink:href=\"psysml:9e432445-55c9-4726-a95f-4e15b991b53a\" xlink:show=\"new\" xlink:title=\"psysml:9e432445-55c9-4726-a95f-4e15b991b53a\" xlink:type=\"simple\"><rect fill=\"#FEFECE\" filter=\"url(#f132it8v2vfkxd)\" height=\"40\" id=\"E7\" style=\"stroke: #A80036; stroke-width: 1.5;\" width=\"40\" x=\"118\" y=\"154\"/><ellipse cx=\"133\" cy=\"170\" fill=\"#008000\" rx=\"11\" ry=\"11\" style=\"stroke: #A80036; stroke-width: 1.0;\"/><path d=\"M131.9063,170.375 L131.9063,174.0469 L133.5313,174.0469 Q134.7031,174.0469 135.1719,173.6563 Q135.6406,173.25 135.6406,172.25 Q135.6406,171.25 135.1406,170.8125 Q134.6563,170.375 133.5313,170.375 L131.9063,170.375 Z M131.9063,165.5469 L131.9063,168.4219 L133.5313,168.4219 Q134.4531,168.4219 134.8438,168.0938 Q135.25,167.75 135.25,167 Q135.25,166.2344 134.8438,165.8906 Q134.4375,165.5469 133.5313,165.5469 L131.9063,165.5469 Z M129.5313,163.5938 L133.5313,163.5938 Q135.5938,163.5938 136.6406,164.375 Q137.6875,165.1563 137.6875,166.7188 Q137.6875,167.9219 137.0625,168.5938 Q136.4531,169.2656 135.2656,169.375 Q136.6875,169.5156 137.4063,170.3281 Q138.125,171.1406 138.125,172.5938 Q138.125,174.3906 137.0469,175.2031 Q135.9688,176 133.5313,176 L129.5313,176 L129.5313,163.5938 Z \"/><text fill=\"#000000\" font-family=\"sans-serif\" font-size=\"12\" lengthAdjust=\"spacingAndGlyphs\" textLength=\"8\" x=\"147\" y=\"174.1543\">B</text><line style=\"stroke: #A80036; stroke-width: 1.5;\" x1=\"119\" x2=\"157\" y1=\"186\" y2=\"186\"/></a><!--MD5=[e9be52314489bd878ff4c7144b63c9e1]\n",
       "link E5 to E3--><a href=\"psysml:d9b9f238-e6f4-4810-bb41-4cf78560774c\" target=\"_top\" title=\"psysml:d9b9f238-e6f4-4810-bb41-4cf78560774c\" xlink:actuate=\"onRequest\" xlink:href=\"psysml:d9b9f238-e6f4-4810-bb41-4cf78560774c\" xlink:show=\"new\" xlink:title=\"psysml:d9b9f238-e6f4-4810-bb41-4cf78560774c\" xlink:type=\"simple\"><path d=\"M241.88,90.66 C240.68,103.15 239.16,119.11 237.77,133.65 \" fill=\"none\" id=\"E5-&gt;E3\" style=\"stroke: #A80036; stroke-width: 1.0;\"/><polygon fill=\"#FFFFFF\" points=\"235.85,153.68,230.7015,134.097,244.6371,135.4376,235.85,153.68\" style=\"stroke: #A80036; stroke-width: 1.0;\"/><ellipse cx=\"233.2381\" cy=\"128.6147\" fill=\"#A80036\" rx=\"2\" ry=\"2\" style=\"stroke: #A80036; stroke-width: 1.0;\"/><ellipse cx=\"243.1921\" cy=\"129.5723\" fill=\"#A80036\" rx=\"2\" ry=\"2\" style=\"stroke: #A80036; stroke-width: 1.0;\"/></a><!--MD5=[bfa3c8b0d15052fdf50ae9310b491027]\n",
       "link E8 to E7--><a href=\"psysml:a13a28be-1001-42f5-9632-37667c0baf51\" target=\"_top\" title=\"psysml:a13a28be-1001-42f5-9632-37667c0baf51\" xlink:actuate=\"onRequest\" xlink:href=\"psysml:a13a28be-1001-42f5-9632-37667c0baf51\" xlink:show=\"new\" xlink:title=\"psysml:a13a28be-1001-42f5-9632-37667c0baf51\" xlink:type=\"simple\"><path d=\"M140.36,90.66 C140.01,103.15 139.55,119.11 139.13,133.65 \" fill=\"none\" id=\"E8-&gt;E7\" style=\"stroke: #A80036; stroke-width: 1.0;\"/><polygon fill=\"#FFFFFF\" points=\"138.55,153.68,132.0955,134.4878,146.0898,134.8877,138.55,153.68\" style=\"stroke: #A80036; stroke-width: 1.0;\"/><ellipse cx=\"134.2575\" cy=\"128.8473\" fill=\"#A80036\" rx=\"2\" ry=\"2\" style=\"stroke: #A80036; stroke-width: 1.0;\"/><ellipse cx=\"144.2534\" cy=\"129.1329\" fill=\"#A80036\" rx=\"2\" ry=\"2\" style=\"stroke: #A80036; stroke-width: 1.0;\"/></a><!--MD5=[baa4012563598181fe5f891607c5c427]\n",
       "@startuml\r\n",
       " \r\n",
       "package \"PrivateImportTest\" as E1  [[psysml:70757ebb-a6cc-427a-a5fd-274a54eae870 ]]  {\r\n",
       "package \"P1\" as E2  [[psysml:9d9a8ea7-31e0-462e-8cd1-90f7e5dc514d ]]  {\r\n",
       "comp def \"A\" as E3  << (B,green) >> [[psysml:6090619b-e47a-44a4-bc4e-b4be6f2f4926 ]] {\r\n",
       "}\r\n",
       "}\r\n",
       "package \"P2\" as E4  [[psysml:2344491a-e19a-447d-a12e-1e886a7ea509 ]]  {\r\n",
       "}\r\n",
       "comp usage \"x: A\" as E5  << (P,limegreen) part>> [[psysml:794b889b-8918-46e8-9c14-cb61e0d8a2ea ]] {\r\n",
       "}\r\n",
       "package \"P3\" as E6  [[psysml:e8a656ba-c51a-4d2d-932b-ea8b084af9f5 ]]  {\r\n",
       "comp def \"B\" as E7  << (B,green) >> [[psysml:9e432445-55c9-4726-a95f-4e15b991b53a ]] {\r\n",
       "}\r\n",
       "E5 - -:|> E3 [[psysml:d9b9f238-e6f4-4810-bb41-4cf78560774c ]] \r\n",
       "}\r\n",
       "comp usage \"z: B\" as E8  << (P,limegreen) part>> [[psysml:553a92d0-50bf-477b-b2ce-bf491dd9a415 ]] {\r\n",
       "}\r\n",
       "E8 - -:|> E7 [[psysml:a13a28be-1001-42f5-9632-37667c0baf51 ]] \r\n",
       "}\r\n",
       "@enduml\r\n",
       "\n",
       "PlantUML version 1.2020.13(Sat Jun 13 12:26:38 UTC 2020)\n",
       "(EPL source distribution)\n",
       "Java Runtime: OpenJDK Runtime Environment\n",
       "JVM: OpenJDK 64-Bit Server VM\n",
       "Default Encoding: UTF-8\n",
       "Language: en\n",
       "Country: null\n",
       "--></g></svg>"
      ]
     },
     "execution_count": 36,
     "metadata": {},
     "output_type": "execute_result"
    }
   ],
   "source": [
    "%viz --style=\"PLANTUML\" --view=\"MIXED\" \"PrivateImportTest\""
   ]
  },
  {
   "cell_type": "code",
   "execution_count": 37,
   "id": "beginning-precipitation",
   "metadata": {
    "execution": {
     "iopub.execute_input": "2021-03-25T15:01:18.594114Z",
     "iopub.status.busy": "2021-03-25T15:01:18.593124Z",
     "iopub.status.idle": "2021-03-25T15:01:18.752135Z",
     "shell.execute_reply": "2021-03-25T15:01:18.743129Z"
    }
   },
   "outputs": [
    {
     "data": {
      "image/svg+xml": [
       "<?xml version=\"1.0\" encoding=\"UTF-8\" standalone=\"no\"?><svg xmlns=\"http://www.w3.org/2000/svg\" xmlns:xlink=\"http://www.w3.org/1999/xlink\" contentScriptType=\"application/ecmascript\" contentStyleType=\"text/css\" height=\"252px\" preserveAspectRatio=\"none\" style=\"width:306px;height:252px;\" version=\"1.1\" viewBox=\"0 0 306 252\" width=\"306px\" zoomAndPan=\"magnify\"><defs/><g><!--MD5=[fbc87193dbaf4d95561dea2c320d4a47]\n",
       "cluster E1--><a href=\"psysml:70757ebb-a6cc-427a-a5fd-274a54eae870\" target=\"_top\" title=\"psysml:70757ebb-a6cc-427a-a5fd-274a54eae870\" xlink:actuate=\"onRequest\" xlink:href=\"psysml:70757ebb-a6cc-427a-a5fd-274a54eae870\" xlink:show=\"new\" xlink:title=\"psysml:70757ebb-a6cc-427a-a5fd-274a54eae870\" xlink:type=\"simple\"><polygon fill=\"#FFFFFF\" points=\"16,6,163,6,170,28.2969,284,28.2969,284,240,16,240,16,6\" style=\"stroke: #000000; stroke-width: 1.5;\"/><line style=\"stroke: #000000; stroke-width: 1.5;\" x1=\"16\" x2=\"170\" y1=\"28.2969\" y2=\"28.2969\"/><text fill=\"#000000\" font-family=\"sans-serif\" font-size=\"14\" font-weight=\"bold\" lengthAdjust=\"spacingAndGlyphs\" textLength=\"141\" x=\"20\" y=\"20.9951\">PrivateImportTest</text></a><!--MD5=[e4f7fae6ed58524ba242bb0b0d3be6b7]\n",
       "cluster E2--><a href=\"psysml:9d9a8ea7-31e0-462e-8cd1-90f7e5dc514d\" target=\"_top\" title=\"psysml:9d9a8ea7-31e0-462e-8cd1-90f7e5dc514d\" xlink:actuate=\"onRequest\" xlink:href=\"psysml:9d9a8ea7-31e0-462e-8cd1-90f7e5dc514d\" xlink:show=\"new\" xlink:title=\"psysml:9d9a8ea7-31e0-462e-8cd1-90f7e5dc514d\" xlink:type=\"simple\"><polygon fill=\"#FFFFFF\" points=\"162,119,188,119,195,141.2969,260,141.2969,260,216,162,216,162,119\" style=\"stroke: #000000; stroke-width: 1.5;\"/><line style=\"stroke: #000000; stroke-width: 1.5;\" x1=\"162\" x2=\"195\" y1=\"141.2969\" y2=\"141.2969\"/><text fill=\"#000000\" font-family=\"sans-serif\" font-size=\"14\" font-weight=\"bold\" lengthAdjust=\"spacingAndGlyphs\" textLength=\"20\" x=\"166\" y=\"133.9951\">P1</text></a><!--MD5=[14e3b0961a2654348d326746436168a1]\n",
       "cluster E6--><a href=\"psysml:e8a656ba-c51a-4d2d-932b-ea8b084af9f5\" target=\"_top\" title=\"psysml:e8a656ba-c51a-4d2d-932b-ea8b084af9f5\" xlink:actuate=\"onRequest\" xlink:href=\"psysml:e8a656ba-c51a-4d2d-932b-ea8b084af9f5\" xlink:show=\"new\" xlink:title=\"psysml:e8a656ba-c51a-4d2d-932b-ea8b084af9f5\" xlink:type=\"simple\"><polygon fill=\"#FFFFFF\" points=\"40,119,66,119,73,141.2969,138,141.2969,138,216,40,216,40,119\" style=\"stroke: #000000; stroke-width: 1.5;\"/><line style=\"stroke: #000000; stroke-width: 1.5;\" x1=\"40\" x2=\"73\" y1=\"141.2969\" y2=\"141.2969\"/><text fill=\"#000000\" font-family=\"sans-serif\" font-size=\"14\" font-weight=\"bold\" lengthAdjust=\"spacingAndGlyphs\" textLength=\"20\" x=\"44\" y=\"133.9951\">P3</text></a><!--MD5=[270fce915f116d4de14055a7c1d9a0f3]\n",
       "class E5--><a href=\"psysml:794b889b-8918-46e8-9c14-cb61e0d8a2ea\" target=\"_top\" title=\"psysml:794b889b-8918-46e8-9c14-cb61e0d8a2ea\" xlink:actuate=\"onRequest\" xlink:href=\"psysml:794b889b-8918-46e8-9c14-cb61e0d8a2ea\" xlink:show=\"new\" xlink:title=\"psysml:794b889b-8918-46e8-9c14-cb61e0d8a2ea\" xlink:type=\"simple\"><rect fill=\"#FFFFFF\" height=\"45.9375\" id=\"E5\" rx=\"10\" ry=\"10\" style=\"stroke: #383838; stroke-width: 1.5;\" width=\"42\" x=\"190\" y=\"44.5\"/><text fill=\"#000000\" font-family=\"sans-serif\" font-size=\"12\" font-style=\"italic\" lengthAdjust=\"spacingAndGlyphs\" textLength=\"40\" x=\"191\" y=\"60.6387\">«part»</text><text fill=\"#000000\" font-family=\"sans-serif\" font-size=\"12\" lengthAdjust=\"spacingAndGlyphs\" textLength=\"22\" x=\"200\" y=\"74.6074\">x: A</text><line style=\"stroke: #383838; stroke-width: 1.5;\" x1=\"191\" x2=\"231\" y1=\"82.4375\" y2=\"82.4375\"/></a><!--MD5=[b9389687b975829384b498ac4b7476b2]\n",
       "class E8--><a href=\"psysml:553a92d0-50bf-477b-b2ce-bf491dd9a415\" target=\"_top\" title=\"psysml:553a92d0-50bf-477b-b2ce-bf491dd9a415\" xlink:actuate=\"onRequest\" xlink:href=\"psysml:553a92d0-50bf-477b-b2ce-bf491dd9a415\" xlink:show=\"new\" xlink:title=\"psysml:553a92d0-50bf-477b-b2ce-bf491dd9a415\" xlink:type=\"simple\"><rect fill=\"#FFFFFF\" height=\"45.9375\" id=\"E8\" rx=\"10\" ry=\"10\" style=\"stroke: #383838; stroke-width: 1.5;\" width=\"42\" x=\"107\" y=\"44.5\"/><text fill=\"#000000\" font-family=\"sans-serif\" font-size=\"12\" font-style=\"italic\" lengthAdjust=\"spacingAndGlyphs\" textLength=\"40\" x=\"108\" y=\"60.6387\">«part»</text><text fill=\"#000000\" font-family=\"sans-serif\" font-size=\"12\" lengthAdjust=\"spacingAndGlyphs\" textLength=\"21\" x=\"117.5\" y=\"74.6074\">z: B</text><line style=\"stroke: #383838; stroke-width: 1.5;\" x1=\"108\" x2=\"148\" y1=\"82.4375\" y2=\"82.4375\"/></a><!--MD5=[09b614a08d8cba4a07c9adeb5e0fee81]\n",
       "class E3--><a href=\"psysml:6090619b-e47a-44a4-bc4e-b4be6f2f4926\" target=\"_top\" title=\"psysml:6090619b-e47a-44a4-bc4e-b4be6f2f4926\" xlink:actuate=\"onRequest\" xlink:href=\"psysml:6090619b-e47a-44a4-bc4e-b4be6f2f4926\" xlink:show=\"new\" xlink:title=\"psysml:6090619b-e47a-44a4-bc4e-b4be6f2f4926\" xlink:type=\"simple\"><rect fill=\"#FFFFFF\" height=\"45.9375\" id=\"E3\" style=\"stroke: #383838; stroke-width: 1.5;\" width=\"66\" x=\"178\" y=\"154\"/><text fill=\"#000000\" font-family=\"sans-serif\" font-size=\"12\" font-style=\"italic\" lengthAdjust=\"spacingAndGlyphs\" textLength=\"64\" x=\"179\" y=\"170.1387\">«part def»</text><text fill=\"#000000\" font-family=\"sans-serif\" font-size=\"12\" lengthAdjust=\"spacingAndGlyphs\" textLength=\"8\" x=\"207\" y=\"184.1074\">A</text><line style=\"stroke: #383838; stroke-width: 1.5;\" x1=\"179\" x2=\"243\" y1=\"191.9375\" y2=\"191.9375\"/></a><a href=\"psysml:2344491a-e19a-447d-a12e-1e886a7ea509\" target=\"_top\" title=\"psysml:2344491a-e19a-447d-a12e-1e886a7ea509\" xlink:actuate=\"onRequest\" xlink:href=\"psysml:2344491a-e19a-447d-a12e-1e886a7ea509\" xlink:show=\"new\" xlink:title=\"psysml:2344491a-e19a-447d-a12e-1e886a7ea509\" xlink:type=\"simple\"><polygon fill=\"#FFFFFF\" points=\"32,41,58,41,65,63.2969,72,63.2969,72,93.5938,32,93.5938,32,41\" style=\"stroke: #000000; stroke-width: 1.5;\"/><line style=\"stroke: #000000; stroke-width: 1.5;\" x1=\"32\" x2=\"65\" y1=\"63.2969\" y2=\"63.2969\"/><text fill=\"#000000\" font-family=\"sans-serif\" font-size=\"14\" font-weight=\"bold\" lengthAdjust=\"spacingAndGlyphs\" textLength=\"20\" x=\"36\" y=\"55.9951\">P2</text></a><!--MD5=[2156ba9850f5573cc1fc38a6a4b2f02b]\n",
       "class E7--><a href=\"psysml:9e432445-55c9-4726-a95f-4e15b991b53a\" target=\"_top\" title=\"psysml:9e432445-55c9-4726-a95f-4e15b991b53a\" xlink:actuate=\"onRequest\" xlink:href=\"psysml:9e432445-55c9-4726-a95f-4e15b991b53a\" xlink:show=\"new\" xlink:title=\"psysml:9e432445-55c9-4726-a95f-4e15b991b53a\" xlink:type=\"simple\"><rect fill=\"#FFFFFF\" height=\"45.9375\" id=\"E7\" style=\"stroke: #383838; stroke-width: 1.5;\" width=\"66\" x=\"56\" y=\"154\"/><text fill=\"#000000\" font-family=\"sans-serif\" font-size=\"12\" font-style=\"italic\" lengthAdjust=\"spacingAndGlyphs\" textLength=\"64\" x=\"57\" y=\"170.1387\">«part def»</text><text fill=\"#000000\" font-family=\"sans-serif\" font-size=\"12\" lengthAdjust=\"spacingAndGlyphs\" textLength=\"8\" x=\"85\" y=\"184.1074\">B</text><line style=\"stroke: #383838; stroke-width: 1.5;\" x1=\"57\" x2=\"121\" y1=\"191.9375\" y2=\"191.9375\"/></a><!--MD5=[e9be52314489bd878ff4c7144b63c9e1]\n",
       "link E5 to E3--><a href=\"psysml:d9b9f238-e6f4-4810-bb41-4cf78560774c\" target=\"_top\" title=\"psysml:d9b9f238-e6f4-4810-bb41-4cf78560774c\" xlink:actuate=\"onRequest\" xlink:href=\"psysml:d9b9f238-e6f4-4810-bb41-4cf78560774c\" xlink:show=\"new\" xlink:title=\"psysml:d9b9f238-e6f4-4810-bb41-4cf78560774c\" xlink:type=\"simple\"><path d=\"M211,90.51 C211,102.89 211,118.78 211,133.48 \" fill=\"none\" id=\"E5-&gt;E3\" style=\"stroke: #383838; stroke-width: 1.0;\"/><polygon fill=\"#FFFFFF\" points=\"211,153.65,204,134.65,218,134.65,211,153.65\" style=\"stroke: #383838; stroke-width: 1.0;\"/><ellipse cx=\"206\" cy=\"128.95\" fill=\"#383838\" rx=\"2\" ry=\"2\" style=\"stroke: #383838; stroke-width: 1.0;\"/><ellipse cx=\"216\" cy=\"128.95\" fill=\"#383838\" rx=\"2\" ry=\"2\" style=\"stroke: #383838; stroke-width: 1.0;\"/></a><!--MD5=[bfa3c8b0d15052fdf50ae9310b491027]\n",
       "link E8 to E7--><a href=\"psysml:a13a28be-1001-42f5-9632-37667c0baf51\" target=\"_top\" title=\"psysml:a13a28be-1001-42f5-9632-37667c0baf51\" xlink:actuate=\"onRequest\" xlink:href=\"psysml:a13a28be-1001-42f5-9632-37667c0baf51\" xlink:show=\"new\" xlink:title=\"psysml:a13a28be-1001-42f5-9632-37667c0baf51\" xlink:type=\"simple\"><path d=\"M120.01,90.51 C115.39,103.25 109.42,119.7 103.96,134.76 \" fill=\"none\" id=\"E8-&gt;E7\" style=\"stroke: #383838; stroke-width: 1.0;\"/><polygon fill=\"#FFFFFF\" points=\"97.11,153.65,97.0036,133.4018,110.1656,138.1726,97.11,153.65\" style=\"stroke: #383838; stroke-width: 1.0;\"/><ellipse cx=\"100.8262\" cy=\"128.7245\" fill=\"#383838\" rx=\"2\" ry=\"2\" style=\"stroke: #383838; stroke-width: 1.0;\"/><ellipse cx=\"110.2277\" cy=\"132.1322\" fill=\"#383838\" rx=\"2\" ry=\"2\" style=\"stroke: #383838; stroke-width: 1.0;\"/></a><!--MD5=[e2daef5510d77e9c0c122d46ab1de931]\n",
       "@startuml\r\n",
       "skinparam monochrome true\r\n",
       "skinparam classbackgroundcolor white\r\n",
       "skinparam shadowing false\r\n",
       "skinparam wrapWidth 300\r\n",
       "hide circle\r\n",
       "\r\n",
       "package \"PrivateImportTest\" as E1  [[psysml:70757ebb-a6cc-427a-a5fd-274a54eae870 ]]  {\r\n",
       "package \"P1\" as E2  [[psysml:9d9a8ea7-31e0-462e-8cd1-90f7e5dc514d ]]  {\r\n",
       "comp def \"A\" as E3  <<(T,blue)part def>> [[psysml:6090619b-e47a-44a4-bc4e-b4be6f2f4926 ]] {\r\n",
       "}\r\n",
       "}\r\n",
       "package \"P2\" as E4  [[psysml:2344491a-e19a-447d-a12e-1e886a7ea509 ]]  {\r\n",
       "}\r\n",
       "comp usage \"x: A\" as E5  <<(T,blue)part>> [[psysml:794b889b-8918-46e8-9c14-cb61e0d8a2ea ]] {\r\n",
       "}\r\n",
       "package \"P3\" as E6  [[psysml:e8a656ba-c51a-4d2d-932b-ea8b084af9f5 ]]  {\r\n",
       "comp def \"B\" as E7  <<(T,blue)part def>> [[psysml:9e432445-55c9-4726-a95f-4e15b991b53a ]] {\r\n",
       "}\r\n",
       "E5 - -:|> E3 [[psysml:d9b9f238-e6f4-4810-bb41-4cf78560774c ]] \r\n",
       "}\r\n",
       "comp usage \"z: B\" as E8  <<(T,blue)part>> [[psysml:553a92d0-50bf-477b-b2ce-bf491dd9a415 ]] {\r\n",
       "}\r\n",
       "E8 - -:|> E7 [[psysml:a13a28be-1001-42f5-9632-37667c0baf51 ]] \r\n",
       "}\r\n",
       "@enduml\r\n",
       "\n",
       "PlantUML version 1.2020.13(Sat Jun 13 12:26:38 UTC 2020)\n",
       "(EPL source distribution)\n",
       "Java Runtime: OpenJDK Runtime Environment\n",
       "JVM: OpenJDK 64-Bit Server VM\n",
       "Default Encoding: UTF-8\n",
       "Language: en\n",
       "Country: null\n",
       "--></g></svg>"
      ]
     },
     "execution_count": 37,
     "metadata": {},
     "output_type": "execute_result"
    }
   ],
   "source": [
    "%viz --style=\"DEFAULT\" --view=\"Default\" \"PrivateImportTest\""
   ]
  },
  {
   "cell_type": "code",
   "execution_count": 38,
   "id": "immune-greene",
   "metadata": {
    "execution": {
     "iopub.execute_input": "2021-03-25T15:01:18.801512Z",
     "iopub.status.busy": "2021-03-25T15:01:18.797446Z",
     "iopub.status.idle": "2021-03-25T15:01:19.008300Z",
     "shell.execute_reply": "2021-03-25T15:01:19.006692Z"
    }
   },
   "outputs": [
    {
     "data": {
      "image/svg+xml": [
       "<?xml version=\"1.0\" encoding=\"UTF-8\" standalone=\"no\"?><svg xmlns=\"http://www.w3.org/2000/svg\" xmlns:xlink=\"http://www.w3.org/1999/xlink\" contentScriptType=\"application/ecmascript\" contentStyleType=\"text/css\" height=\"252px\" preserveAspectRatio=\"none\" style=\"width:306px;height:252px;\" version=\"1.1\" viewBox=\"0 0 306 252\" width=\"306px\" zoomAndPan=\"magnify\"><defs/><g><!--MD5=[fbc87193dbaf4d95561dea2c320d4a47]\n",
       "cluster E1--><a href=\"psysml:70757ebb-a6cc-427a-a5fd-274a54eae870\" target=\"_top\" title=\"psysml:70757ebb-a6cc-427a-a5fd-274a54eae870\" xlink:actuate=\"onRequest\" xlink:href=\"psysml:70757ebb-a6cc-427a-a5fd-274a54eae870\" xlink:show=\"new\" xlink:title=\"psysml:70757ebb-a6cc-427a-a5fd-274a54eae870\" xlink:type=\"simple\"><polygon fill=\"#FFFFFF\" points=\"16,6,163,6,170,28.2969,284,28.2969,284,240,16,240,16,6\" style=\"stroke: #000000; stroke-width: 1.5;\"/><line style=\"stroke: #000000; stroke-width: 1.5;\" x1=\"16\" x2=\"170\" y1=\"28.2969\" y2=\"28.2969\"/><text fill=\"#000000\" font-family=\"sans-serif\" font-size=\"14\" font-weight=\"bold\" lengthAdjust=\"spacingAndGlyphs\" textLength=\"141\" x=\"20\" y=\"20.9951\">PrivateImportTest</text></a><!--MD5=[e4f7fae6ed58524ba242bb0b0d3be6b7]\n",
       "cluster E2--><a href=\"psysml:9d9a8ea7-31e0-462e-8cd1-90f7e5dc514d\" target=\"_top\" title=\"psysml:9d9a8ea7-31e0-462e-8cd1-90f7e5dc514d\" xlink:actuate=\"onRequest\" xlink:href=\"psysml:9d9a8ea7-31e0-462e-8cd1-90f7e5dc514d\" xlink:show=\"new\" xlink:title=\"psysml:9d9a8ea7-31e0-462e-8cd1-90f7e5dc514d\" xlink:type=\"simple\"><polygon fill=\"#FFFFFF\" points=\"162,119,188,119,195,141.2969,260,141.2969,260,216,162,216,162,119\" style=\"stroke: #000000; stroke-width: 1.5;\"/><line style=\"stroke: #000000; stroke-width: 1.5;\" x1=\"162\" x2=\"195\" y1=\"141.2969\" y2=\"141.2969\"/><text fill=\"#000000\" font-family=\"sans-serif\" font-size=\"14\" font-weight=\"bold\" lengthAdjust=\"spacingAndGlyphs\" textLength=\"20\" x=\"166\" y=\"133.9951\">P1</text></a><!--MD5=[14e3b0961a2654348d326746436168a1]\n",
       "cluster E6--><a href=\"psysml:e8a656ba-c51a-4d2d-932b-ea8b084af9f5\" target=\"_top\" title=\"psysml:e8a656ba-c51a-4d2d-932b-ea8b084af9f5\" xlink:actuate=\"onRequest\" xlink:href=\"psysml:e8a656ba-c51a-4d2d-932b-ea8b084af9f5\" xlink:show=\"new\" xlink:title=\"psysml:e8a656ba-c51a-4d2d-932b-ea8b084af9f5\" xlink:type=\"simple\"><polygon fill=\"#FFFFFF\" points=\"40,119,66,119,73,141.2969,138,141.2969,138,216,40,216,40,119\" style=\"stroke: #000000; stroke-width: 1.5;\"/><line style=\"stroke: #000000; stroke-width: 1.5;\" x1=\"40\" x2=\"73\" y1=\"141.2969\" y2=\"141.2969\"/><text fill=\"#000000\" font-family=\"sans-serif\" font-size=\"14\" font-weight=\"bold\" lengthAdjust=\"spacingAndGlyphs\" textLength=\"20\" x=\"44\" y=\"133.9951\">P3</text></a><!--MD5=[270fce915f116d4de14055a7c1d9a0f3]\n",
       "class E5--><a href=\"psysml:794b889b-8918-46e8-9c14-cb61e0d8a2ea\" target=\"_top\" title=\"psysml:794b889b-8918-46e8-9c14-cb61e0d8a2ea\" xlink:actuate=\"onRequest\" xlink:href=\"psysml:794b889b-8918-46e8-9c14-cb61e0d8a2ea\" xlink:show=\"new\" xlink:title=\"psysml:794b889b-8918-46e8-9c14-cb61e0d8a2ea\" xlink:type=\"simple\"><rect fill=\"#FFFFFF\" height=\"45.9375\" id=\"E5\" rx=\"10\" ry=\"10\" style=\"stroke: #383838; stroke-width: 1.5;\" width=\"42\" x=\"190\" y=\"44.5\"/><text fill=\"#000000\" font-family=\"sans-serif\" font-size=\"12\" font-style=\"italic\" lengthAdjust=\"spacingAndGlyphs\" textLength=\"40\" x=\"191\" y=\"60.6387\">«part»</text><text fill=\"#000000\" font-family=\"sans-serif\" font-size=\"12\" lengthAdjust=\"spacingAndGlyphs\" textLength=\"22\" x=\"200\" y=\"74.6074\">x: A</text><line style=\"stroke: #383838; stroke-width: 1.5;\" x1=\"191\" x2=\"231\" y1=\"82.4375\" y2=\"82.4375\"/></a><!--MD5=[b9389687b975829384b498ac4b7476b2]\n",
       "class E8--><a href=\"psysml:553a92d0-50bf-477b-b2ce-bf491dd9a415\" target=\"_top\" title=\"psysml:553a92d0-50bf-477b-b2ce-bf491dd9a415\" xlink:actuate=\"onRequest\" xlink:href=\"psysml:553a92d0-50bf-477b-b2ce-bf491dd9a415\" xlink:show=\"new\" xlink:title=\"psysml:553a92d0-50bf-477b-b2ce-bf491dd9a415\" xlink:type=\"simple\"><rect fill=\"#FFFFFF\" height=\"45.9375\" id=\"E8\" rx=\"10\" ry=\"10\" style=\"stroke: #383838; stroke-width: 1.5;\" width=\"42\" x=\"107\" y=\"44.5\"/><text fill=\"#000000\" font-family=\"sans-serif\" font-size=\"12\" font-style=\"italic\" lengthAdjust=\"spacingAndGlyphs\" textLength=\"40\" x=\"108\" y=\"60.6387\">«part»</text><text fill=\"#000000\" font-family=\"sans-serif\" font-size=\"12\" lengthAdjust=\"spacingAndGlyphs\" textLength=\"21\" x=\"117.5\" y=\"74.6074\">z: B</text><line style=\"stroke: #383838; stroke-width: 1.5;\" x1=\"108\" x2=\"148\" y1=\"82.4375\" y2=\"82.4375\"/></a><!--MD5=[09b614a08d8cba4a07c9adeb5e0fee81]\n",
       "class E3--><a href=\"psysml:6090619b-e47a-44a4-bc4e-b4be6f2f4926\" target=\"_top\" title=\"psysml:6090619b-e47a-44a4-bc4e-b4be6f2f4926\" xlink:actuate=\"onRequest\" xlink:href=\"psysml:6090619b-e47a-44a4-bc4e-b4be6f2f4926\" xlink:show=\"new\" xlink:title=\"psysml:6090619b-e47a-44a4-bc4e-b4be6f2f4926\" xlink:type=\"simple\"><rect fill=\"#FFFFFF\" height=\"45.9375\" id=\"E3\" style=\"stroke: #383838; stroke-width: 1.5;\" width=\"66\" x=\"178\" y=\"154\"/><text fill=\"#000000\" font-family=\"sans-serif\" font-size=\"12\" font-style=\"italic\" lengthAdjust=\"spacingAndGlyphs\" textLength=\"64\" x=\"179\" y=\"170.1387\">«part def»</text><text fill=\"#000000\" font-family=\"sans-serif\" font-size=\"12\" lengthAdjust=\"spacingAndGlyphs\" textLength=\"8\" x=\"207\" y=\"184.1074\">A</text><line style=\"stroke: #383838; stroke-width: 1.5;\" x1=\"179\" x2=\"243\" y1=\"191.9375\" y2=\"191.9375\"/></a><a href=\"psysml:2344491a-e19a-447d-a12e-1e886a7ea509\" target=\"_top\" title=\"psysml:2344491a-e19a-447d-a12e-1e886a7ea509\" xlink:actuate=\"onRequest\" xlink:href=\"psysml:2344491a-e19a-447d-a12e-1e886a7ea509\" xlink:show=\"new\" xlink:title=\"psysml:2344491a-e19a-447d-a12e-1e886a7ea509\" xlink:type=\"simple\"><polygon fill=\"#FFFFFF\" points=\"32,41,58,41,65,63.2969,72,63.2969,72,93.5938,32,93.5938,32,41\" style=\"stroke: #000000; stroke-width: 1.5;\"/><line style=\"stroke: #000000; stroke-width: 1.5;\" x1=\"32\" x2=\"65\" y1=\"63.2969\" y2=\"63.2969\"/><text fill=\"#000000\" font-family=\"sans-serif\" font-size=\"14\" font-weight=\"bold\" lengthAdjust=\"spacingAndGlyphs\" textLength=\"20\" x=\"36\" y=\"55.9951\">P2</text></a><!--MD5=[2156ba9850f5573cc1fc38a6a4b2f02b]\n",
       "class E7--><a href=\"psysml:9e432445-55c9-4726-a95f-4e15b991b53a\" target=\"_top\" title=\"psysml:9e432445-55c9-4726-a95f-4e15b991b53a\" xlink:actuate=\"onRequest\" xlink:href=\"psysml:9e432445-55c9-4726-a95f-4e15b991b53a\" xlink:show=\"new\" xlink:title=\"psysml:9e432445-55c9-4726-a95f-4e15b991b53a\" xlink:type=\"simple\"><rect fill=\"#FFFFFF\" height=\"45.9375\" id=\"E7\" style=\"stroke: #383838; stroke-width: 1.5;\" width=\"66\" x=\"56\" y=\"154\"/><text fill=\"#000000\" font-family=\"sans-serif\" font-size=\"12\" font-style=\"italic\" lengthAdjust=\"spacingAndGlyphs\" textLength=\"64\" x=\"57\" y=\"170.1387\">«part def»</text><text fill=\"#000000\" font-family=\"sans-serif\" font-size=\"12\" lengthAdjust=\"spacingAndGlyphs\" textLength=\"8\" x=\"85\" y=\"184.1074\">B</text><line style=\"stroke: #383838; stroke-width: 1.5;\" x1=\"57\" x2=\"121\" y1=\"191.9375\" y2=\"191.9375\"/></a><!--MD5=[e9be52314489bd878ff4c7144b63c9e1]\n",
       "link E5 to E3--><a href=\"psysml:d9b9f238-e6f4-4810-bb41-4cf78560774c\" target=\"_top\" title=\"psysml:d9b9f238-e6f4-4810-bb41-4cf78560774c\" xlink:actuate=\"onRequest\" xlink:href=\"psysml:d9b9f238-e6f4-4810-bb41-4cf78560774c\" xlink:show=\"new\" xlink:title=\"psysml:d9b9f238-e6f4-4810-bb41-4cf78560774c\" xlink:type=\"simple\"><path d=\"M211,90.51 C211,102.89 211,118.78 211,133.48 \" fill=\"none\" id=\"E5-&gt;E3\" style=\"stroke: #383838; stroke-width: 1.0;\"/><polygon fill=\"#FFFFFF\" points=\"211,153.65,204,134.65,218,134.65,211,153.65\" style=\"stroke: #383838; stroke-width: 1.0;\"/><ellipse cx=\"206\" cy=\"128.95\" fill=\"#383838\" rx=\"2\" ry=\"2\" style=\"stroke: #383838; stroke-width: 1.0;\"/><ellipse cx=\"216\" cy=\"128.95\" fill=\"#383838\" rx=\"2\" ry=\"2\" style=\"stroke: #383838; stroke-width: 1.0;\"/></a><!--MD5=[bfa3c8b0d15052fdf50ae9310b491027]\n",
       "link E8 to E7--><a href=\"psysml:a13a28be-1001-42f5-9632-37667c0baf51\" target=\"_top\" title=\"psysml:a13a28be-1001-42f5-9632-37667c0baf51\" xlink:actuate=\"onRequest\" xlink:href=\"psysml:a13a28be-1001-42f5-9632-37667c0baf51\" xlink:show=\"new\" xlink:title=\"psysml:a13a28be-1001-42f5-9632-37667c0baf51\" xlink:type=\"simple\"><path d=\"M120.01,90.51 C115.39,103.25 109.42,119.7 103.96,134.76 \" fill=\"none\" id=\"E8-&gt;E7\" style=\"stroke: #383838; stroke-width: 1.0;\"/><polygon fill=\"#FFFFFF\" points=\"97.11,153.65,97.0036,133.4018,110.1656,138.1726,97.11,153.65\" style=\"stroke: #383838; stroke-width: 1.0;\"/><ellipse cx=\"100.8262\" cy=\"128.7245\" fill=\"#383838\" rx=\"2\" ry=\"2\" style=\"stroke: #383838; stroke-width: 1.0;\"/><ellipse cx=\"110.2277\" cy=\"132.1322\" fill=\"#383838\" rx=\"2\" ry=\"2\" style=\"stroke: #383838; stroke-width: 1.0;\"/></a><!--MD5=[e2daef5510d77e9c0c122d46ab1de931]\n",
       "@startuml\r\n",
       "skinparam monochrome true\r\n",
       "skinparam classbackgroundcolor white\r\n",
       "skinparam shadowing false\r\n",
       "skinparam wrapWidth 300\r\n",
       "hide circle\r\n",
       "\r\n",
       "package \"PrivateImportTest\" as E1  [[psysml:70757ebb-a6cc-427a-a5fd-274a54eae870 ]]  {\r\n",
       "package \"P1\" as E2  [[psysml:9d9a8ea7-31e0-462e-8cd1-90f7e5dc514d ]]  {\r\n",
       "comp def \"A\" as E3  <<(T,blue)part def>> [[psysml:6090619b-e47a-44a4-bc4e-b4be6f2f4926 ]] {\r\n",
       "}\r\n",
       "}\r\n",
       "package \"P2\" as E4  [[psysml:2344491a-e19a-447d-a12e-1e886a7ea509 ]]  {\r\n",
       "}\r\n",
       "comp usage \"x: A\" as E5  <<(T,blue)part>> [[psysml:794b889b-8918-46e8-9c14-cb61e0d8a2ea ]] {\r\n",
       "}\r\n",
       "package \"P3\" as E6  [[psysml:e8a656ba-c51a-4d2d-932b-ea8b084af9f5 ]]  {\r\n",
       "comp def \"B\" as E7  <<(T,blue)part def>> [[psysml:9e432445-55c9-4726-a95f-4e15b991b53a ]] {\r\n",
       "}\r\n",
       "E5 - -:|> E3 [[psysml:d9b9f238-e6f4-4810-bb41-4cf78560774c ]] \r\n",
       "}\r\n",
       "comp usage \"z: B\" as E8  <<(T,blue)part>> [[psysml:553a92d0-50bf-477b-b2ce-bf491dd9a415 ]] {\r\n",
       "}\r\n",
       "E8 - -:|> E7 [[psysml:a13a28be-1001-42f5-9632-37667c0baf51 ]] \r\n",
       "}\r\n",
       "@enduml\r\n",
       "\n",
       "PlantUML version 1.2020.13(Sat Jun 13 12:26:38 UTC 2020)\n",
       "(EPL source distribution)\n",
       "Java Runtime: OpenJDK Runtime Environment\n",
       "JVM: OpenJDK 64-Bit Server VM\n",
       "Default Encoding: UTF-8\n",
       "Language: en\n",
       "Country: null\n",
       "--></g></svg>"
      ]
     },
     "execution_count": 38,
     "metadata": {},
     "output_type": "execute_result"
    }
   ],
   "source": [
    "%viz --style=\"DEFAULT\" --view=\"Tree\" \"PrivateImportTest\""
   ]
  },
  {
   "cell_type": "code",
   "execution_count": 39,
   "id": "spoken-bride",
   "metadata": {
    "execution": {
     "iopub.execute_input": "2021-03-25T15:01:19.059199Z",
     "iopub.status.busy": "2021-03-25T15:01:19.057922Z",
     "iopub.status.idle": "2021-03-25T15:01:19.077029Z",
     "shell.execute_reply": "2021-03-25T15:01:19.076012Z"
    }
   },
   "outputs": [
    {
     "data": {
      "image/svg+xml": [
       "<?xml version=\"1.0\" encoding=\"UTF-8\" standalone=\"no\"?><svg xmlns=\"http://www.w3.org/2000/svg\" xmlns:xlink=\"http://www.w3.org/1999/xlink\" contentScriptType=\"application/ecmascript\" contentStyleType=\"text/css\" height=\"12px\" preserveAspectRatio=\"none\" style=\"width:12px;height:12px;\" version=\"1.1\" viewBox=\"0 0 12 12\" width=\"12px\" zoomAndPan=\"magnify\"><defs/><g><!--MD5=[c5f280e076d0d61ccf4b0f27871bda1d]\n",
       "@startuml\r\n",
       "skinparam monochrome true\r\n",
       "skinparam classbackgroundcolor white\r\n",
       "skinparam shadowing false\r\n",
       "skinparam wrapWidth 300\r\n",
       "hide circle\r\n",
       "\r\n",
       "@enduml\r\n",
       "\n",
       "PlantUML version 1.2020.13(Sat Jun 13 12:26:38 UTC 2020)\n",
       "(EPL source distribution)\n",
       "Java Runtime: OpenJDK Runtime Environment\n",
       "JVM: OpenJDK 64-Bit Server VM\n",
       "Default Encoding: UTF-8\n",
       "Language: en\n",
       "Country: null\n",
       "--></g></svg>"
      ]
     },
     "execution_count": 39,
     "metadata": {},
     "output_type": "execute_result"
    }
   ],
   "source": [
    "%viz --style=\"DEFAULT\" --view=\"State\" \"PrivateImportTest\""
   ]
  },
  {
   "cell_type": "code",
   "execution_count": 40,
   "id": "confused-paradise",
   "metadata": {
    "execution": {
     "iopub.execute_input": "2021-03-25T15:01:19.128987Z",
     "iopub.status.busy": "2021-03-25T15:01:19.128016Z",
     "iopub.status.idle": "2021-03-25T15:01:19.294484Z",
     "shell.execute_reply": "2021-03-25T15:01:19.295119Z"
    }
   },
   "outputs": [
    {
     "data": {
      "image/svg+xml": [
       "<?xml version=\"1.0\" encoding=\"UTF-8\" standalone=\"no\"?><svg xmlns=\"http://www.w3.org/2000/svg\" xmlns:xlink=\"http://www.w3.org/1999/xlink\" contentScriptType=\"application/ecmascript\" contentStyleType=\"text/css\" height=\"179px\" preserveAspectRatio=\"none\" style=\"width:539px;height:179px;\" version=\"1.1\" viewBox=\"0 0 539 179\" width=\"539px\" zoomAndPan=\"magnify\"><defs/><g><!--MD5=[fbc87193dbaf4d95561dea2c320d4a47]\n",
       "cluster E1--><a href=\"psysml:70757ebb-a6cc-427a-a5fd-274a54eae870\" target=\"_top\" title=\"psysml:70757ebb-a6cc-427a-a5fd-274a54eae870\" xlink:actuate=\"onRequest\" xlink:href=\"psysml:70757ebb-a6cc-427a-a5fd-274a54eae870\" xlink:show=\"new\" xlink:title=\"psysml:70757ebb-a6cc-427a-a5fd-274a54eae870\" xlink:type=\"simple\"><polygon fill=\"#FFFFFF\" points=\"16,6,163,6,170,28.2969,517,28.2969,517,167,16,167,16,6\" style=\"stroke: #000000; stroke-width: 1.5;\"/><line style=\"stroke: #000000; stroke-width: 1.5;\" x1=\"16\" x2=\"170\" y1=\"28.2969\" y2=\"28.2969\"/><text fill=\"#000000\" font-family=\"sans-serif\" font-size=\"14\" font-weight=\"bold\" lengthAdjust=\"spacingAndGlyphs\" textLength=\"141\" x=\"20\" y=\"20.9951\">PrivateImportTest</text></a><!--MD5=[e4f7fae6ed58524ba242bb0b0d3be6b7]\n",
       "cluster E2--><a href=\"psysml:9d9a8ea7-31e0-462e-8cd1-90f7e5dc514d\" target=\"_top\" title=\"psysml:9d9a8ea7-31e0-462e-8cd1-90f7e5dc514d\" xlink:actuate=\"onRequest\" xlink:href=\"psysml:9d9a8ea7-31e0-462e-8cd1-90f7e5dc514d\" xlink:show=\"new\" xlink:title=\"psysml:9d9a8ea7-31e0-462e-8cd1-90f7e5dc514d\" xlink:type=\"simple\"><polygon fill=\"#FFFFFF\" points=\"389,49,415,49,422,71.2969,493,71.2969,493,143,389,143,389,49\" style=\"stroke: #000000; stroke-width: 1.5;\"/><line style=\"stroke: #000000; stroke-width: 1.5;\" x1=\"389\" x2=\"422\" y1=\"71.2969\" y2=\"71.2969\"/><text fill=\"#000000\" font-family=\"sans-serif\" font-size=\"14\" font-weight=\"bold\" lengthAdjust=\"spacingAndGlyphs\" textLength=\"20\" x=\"393\" y=\"63.9951\">P1</text></a><!--MD5=[14e3b0961a2654348d326746436168a1]\n",
       "cluster E6--><a href=\"psysml:e8a656ba-c51a-4d2d-932b-ea8b084af9f5\" target=\"_top\" title=\"psysml:e8a656ba-c51a-4d2d-932b-ea8b084af9f5\" xlink:actuate=\"onRequest\" xlink:href=\"psysml:e8a656ba-c51a-4d2d-932b-ea8b084af9f5\" xlink:show=\"new\" xlink:title=\"psysml:e8a656ba-c51a-4d2d-932b-ea8b084af9f5\" xlink:type=\"simple\"><polygon fill=\"#FFFFFF\" points=\"261,49,287,49,294,71.2969,365,71.2969,365,143,261,143,261,49\" style=\"stroke: #000000; stroke-width: 1.5;\"/><line style=\"stroke: #000000; stroke-width: 1.5;\" x1=\"261\" x2=\"294\" y1=\"71.2969\" y2=\"71.2969\"/><text fill=\"#000000\" font-family=\"sans-serif\" font-size=\"14\" font-weight=\"bold\" lengthAdjust=\"spacingAndGlyphs\" textLength=\"20\" x=\"265\" y=\"63.9951\">P3</text></a><g id=\"E1.E2.E3\"><a href=\"psysml:6090619b-e47a-44a4-bc4e-b4be6f2f4926\" target=\"_top\" title=\"psysml:6090619b-e47a-44a4-bc4e-b4be6f2f4926\" xlink:actuate=\"onRequest\" xlink:href=\"psysml:6090619b-e47a-44a4-bc4e-b4be6f2f4926\" xlink:show=\"new\" xlink:title=\"psysml:6090619b-e47a-44a4-bc4e-b4be6f2f4926\" xlink:type=\"simple\"><rect fill=\"#FFFFFF\" height=\"42.9375\" id=\"E3\" style=\"stroke: #383838; stroke-width: 1.5;\" width=\"71\" x=\"405.5\" y=\"84\"/><rect fill=\"#F8F8F8\" height=\"37.9375\" style=\"stroke: #383838; stroke-width: 1.5;\" width=\"71\" x=\"405.5\" y=\"84\"/><text fill=\"#000000\" font-family=\"sans-serif\" font-size=\"12\" font-style=\"italic\" lengthAdjust=\"spacingAndGlyphs\" textLength=\"64\" x=\"409\" y=\"100.1387\">«part def»</text><text fill=\"#000000\" font-family=\"sans-serif\" font-size=\"12\" lengthAdjust=\"spacingAndGlyphs\" textLength=\"8\" x=\"437\" y=\"114.1074\">A</text></a></g><a href=\"psysml:2344491a-e19a-447d-a12e-1e886a7ea509\" target=\"_top\" title=\"psysml:2344491a-e19a-447d-a12e-1e886a7ea509\" xlink:actuate=\"onRequest\" xlink:href=\"psysml:2344491a-e19a-447d-a12e-1e886a7ea509\" xlink:show=\"new\" xlink:title=\"psysml:2344491a-e19a-447d-a12e-1e886a7ea509\" xlink:type=\"simple\"><polygon fill=\"#FFFFFF\" points=\"202,79,228,79,235,101.2969,242,101.2969,242,131.5938,202,131.5938,202,79\" style=\"stroke: #000000; stroke-width: 1.5;\"/><line style=\"stroke: #000000; stroke-width: 1.5;\" x1=\"202\" x2=\"235\" y1=\"101.2969\" y2=\"101.2969\"/><text fill=\"#000000\" font-family=\"sans-serif\" font-size=\"14\" font-weight=\"bold\" lengthAdjust=\"spacingAndGlyphs\" textLength=\"20\" x=\"206\" y=\"93.9951\">P2</text></a><g id=\"E1.E5\"><a href=\"psysml:794b889b-8918-46e8-9c14-cb61e0d8a2ea\" target=\"_top\" title=\"psysml:794b889b-8918-46e8-9c14-cb61e0d8a2ea\" xlink:actuate=\"onRequest\" xlink:href=\"psysml:794b889b-8918-46e8-9c14-cb61e0d8a2ea\" xlink:show=\"new\" xlink:title=\"psysml:794b889b-8918-46e8-9c14-cb61e0d8a2ea\" xlink:type=\"simple\"><rect fill=\"#FFFFFF\" height=\"40\" id=\"E5\" rx=\"10\" ry=\"10\" style=\"stroke: #383838; stroke-width: 1.5;\" width=\"50\" x=\"117\" y=\"85.5\"/><rect fill=\"#F8F8F8\" height=\"23.9688\" rx=\"10\" ry=\"10\" style=\"stroke: #F8F8F8; stroke-width: 1.5;\" width=\"50\" x=\"117\" y=\"85.5\"/><rect fill=\"#F8F8F8\" height=\"10\" style=\"stroke: #F8F8F8; stroke-width: 1.5;\" width=\"50\" x=\"117\" y=\"99.4688\"/><rect fill=\"none\" height=\"40\" id=\"E5\" rx=\"10\" ry=\"10\" style=\"stroke: #383838; stroke-width: 1.5;\" width=\"50\" x=\"117\" y=\"85.5\"/><text fill=\"#000000\" font-family=\"sans-serif\" font-size=\"12\" lengthAdjust=\"spacingAndGlyphs\" textLength=\"22\" x=\"131\" y=\"101.6387\">x: A</text></a></g><g id=\"E1.E6.E7\"><a href=\"psysml:9e432445-55c9-4726-a95f-4e15b991b53a\" target=\"_top\" title=\"psysml:9e432445-55c9-4726-a95f-4e15b991b53a\" xlink:actuate=\"onRequest\" xlink:href=\"psysml:9e432445-55c9-4726-a95f-4e15b991b53a\" xlink:show=\"new\" xlink:title=\"psysml:9e432445-55c9-4726-a95f-4e15b991b53a\" xlink:type=\"simple\"><rect fill=\"#FFFFFF\" height=\"42.9375\" id=\"E7\" style=\"stroke: #383838; stroke-width: 1.5;\" width=\"71\" x=\"277.5\" y=\"84\"/><rect fill=\"#F8F8F8\" height=\"37.9375\" style=\"stroke: #383838; stroke-width: 1.5;\" width=\"71\" x=\"277.5\" y=\"84\"/><text fill=\"#000000\" font-family=\"sans-serif\" font-size=\"12\" font-style=\"italic\" lengthAdjust=\"spacingAndGlyphs\" textLength=\"64\" x=\"281\" y=\"100.1387\">«part def»</text><text fill=\"#000000\" font-family=\"sans-serif\" font-size=\"12\" lengthAdjust=\"spacingAndGlyphs\" textLength=\"8\" x=\"309\" y=\"114.1074\">B</text></a></g><g id=\"E1.E8\"><a href=\"psysml:553a92d0-50bf-477b-b2ce-bf491dd9a415\" target=\"_top\" title=\"psysml:553a92d0-50bf-477b-b2ce-bf491dd9a415\" xlink:actuate=\"onRequest\" xlink:href=\"psysml:553a92d0-50bf-477b-b2ce-bf491dd9a415\" xlink:show=\"new\" xlink:title=\"psysml:553a92d0-50bf-477b-b2ce-bf491dd9a415\" xlink:type=\"simple\"><rect fill=\"#FFFFFF\" height=\"40\" id=\"E8\" rx=\"10\" ry=\"10\" style=\"stroke: #383838; stroke-width: 1.5;\" width=\"50\" x=\"32\" y=\"85.5\"/><rect fill=\"#F8F8F8\" height=\"23.9688\" rx=\"10\" ry=\"10\" style=\"stroke: #F8F8F8; stroke-width: 1.5;\" width=\"50\" x=\"32\" y=\"85.5\"/><rect fill=\"#F8F8F8\" height=\"10\" style=\"stroke: #F8F8F8; stroke-width: 1.5;\" width=\"50\" x=\"32\" y=\"99.4688\"/><rect fill=\"none\" height=\"40\" id=\"E8\" rx=\"10\" ry=\"10\" style=\"stroke: #383838; stroke-width: 1.5;\" width=\"50\" x=\"32\" y=\"85.5\"/><text fill=\"#000000\" font-family=\"sans-serif\" font-size=\"12\" lengthAdjust=\"spacingAndGlyphs\" textLength=\"21\" x=\"46.5\" y=\"101.6387\">z: B</text></a></g><!--MD5=[0c81eeefaf717dbe275d8ebca20c84aa]\n",
       "@startuml\r\n",
       "skinparam ranksep 8\r\n",
       "skinparam rectangle {\r\n",
       " backgroundColor<<block>> LightGreen\r\n",
       "}\r\n",
       "skinparam monochrome true\r\n",
       "skinparam classbackgroundcolor white\r\n",
       "skinparam shadowing false\r\n",
       "skinparam wrapWidth 300\r\n",
       "hide circle\r\n",
       "\r\n",
       "package \"PrivateImportTest\" as E1  [[psysml:70757ebb-a6cc-427a-a5fd-274a54eae870 ]]  {\r\n",
       "package \"P1\" as E2  [[psysml:9d9a8ea7-31e0-462e-8cd1-90f7e5dc514d ]]  {\r\n",
       "rec def \"A\" as E3  <<(T,blue)part def>> [[psysml:6090619b-e47a-44a4-bc4e-b4be6f2f4926 ]] {\r\n",
       "}\r\n",
       "}\r\n",
       "package \"P2\" as E4  [[psysml:2344491a-e19a-447d-a12e-1e886a7ea509 ]]  {\r\n",
       "}\r\n",
       "rec usage \"x: A\" as E5  [[psysml:794b889b-8918-46e8-9c14-cb61e0d8a2ea ]] {\r\n",
       "}\r\n",
       "package \"P3\" as E6  [[psysml:e8a656ba-c51a-4d2d-932b-ea8b084af9f5 ]]  {\r\n",
       "rec def \"B\" as E7  <<(T,blue)part def>> [[psysml:9e432445-55c9-4726-a95f-4e15b991b53a ]] {\r\n",
       "}\r\n",
       "}\r\n",
       "rec usage \"z: B\" as E8  [[psysml:553a92d0-50bf-477b-b2ce-bf491dd9a415 ]] {\r\n",
       "}\r\n",
       "}\r\n",
       "@enduml\r\n",
       "\n",
       "PlantUML version 1.2020.13(Sat Jun 13 12:26:38 UTC 2020)\n",
       "(EPL source distribution)\n",
       "Java Runtime: OpenJDK Runtime Environment\n",
       "JVM: OpenJDK 64-Bit Server VM\n",
       "Default Encoding: UTF-8\n",
       "Language: en\n",
       "Country: null\n",
       "--></g></svg>"
      ]
     },
     "execution_count": 40,
     "metadata": {},
     "output_type": "execute_result"
    }
   ],
   "source": [
    "%viz --style=\"DEFAULT\" --view=\"Interconnection\" \"PrivateImportTest\""
   ]
  },
  {
   "cell_type": "code",
   "execution_count": 41,
   "id": "instant-voice",
   "metadata": {
    "execution": {
     "iopub.execute_input": "2021-03-25T15:01:19.344933Z",
     "iopub.status.busy": "2021-03-25T15:01:19.344083Z",
     "iopub.status.idle": "2021-03-25T15:01:19.359526Z",
     "shell.execute_reply": "2021-03-25T15:01:19.360811Z"
    }
   },
   "outputs": [
    {
     "data": {
      "image/svg+xml": [
       "<?xml version=\"1.0\" encoding=\"UTF-8\" standalone=\"no\"?><svg xmlns=\"http://www.w3.org/2000/svg\" xmlns:xlink=\"http://www.w3.org/1999/xlink\" contentScriptType=\"application/ecmascript\" contentStyleType=\"text/css\" height=\"12px\" preserveAspectRatio=\"none\" style=\"width:12px;height:12px;\" version=\"1.1\" viewBox=\"0 0 12 12\" width=\"12px\" zoomAndPan=\"magnify\"><defs/><g><!--MD5=[388f21188e31bfdd97050473b19af356]\n",
       "@startuml\r\n",
       "skinparam ranksep 8\r\n",
       "skinparam monochrome true\r\n",
       "skinparam classbackgroundcolor white\r\n",
       "skinparam shadowing false\r\n",
       "skinparam wrapWidth 300\r\n",
       "hide circle\r\n",
       "\r\n",
       "@enduml\r\n",
       "\n",
       "PlantUML version 1.2020.13(Sat Jun 13 12:26:38 UTC 2020)\n",
       "(EPL source distribution)\n",
       "Java Runtime: OpenJDK Runtime Environment\n",
       "JVM: OpenJDK 64-Bit Server VM\n",
       "Default Encoding: UTF-8\n",
       "Language: en\n",
       "Country: null\n",
       "--></g></svg>"
      ]
     },
     "execution_count": 41,
     "metadata": {},
     "output_type": "execute_result"
    }
   ],
   "source": [
    "%viz --style=\"DEFAULT\" --view=\"Action\" \"PrivateImportTest\""
   ]
  },
  {
   "cell_type": "code",
   "execution_count": 42,
   "id": "nearby-hebrew",
   "metadata": {
    "execution": {
     "iopub.execute_input": "2021-03-25T15:01:19.411481Z",
     "iopub.status.busy": "2021-03-25T15:01:19.410696Z",
     "iopub.status.idle": "2021-03-25T15:01:19.587521Z",
     "shell.execute_reply": "2021-03-25T15:01:19.585228Z"
    }
   },
   "outputs": [
    {
     "data": {
      "image/svg+xml": [
       "<?xml version=\"1.0\" encoding=\"UTF-8\" standalone=\"no\"?><svg xmlns=\"http://www.w3.org/2000/svg\" xmlns:xlink=\"http://www.w3.org/1999/xlink\" contentScriptType=\"application/ecmascript\" contentStyleType=\"text/css\" height=\"252px\" preserveAspectRatio=\"none\" style=\"width:306px;height:252px;\" version=\"1.1\" viewBox=\"0 0 306 252\" width=\"306px\" zoomAndPan=\"magnify\"><defs/><g><!--MD5=[fbc87193dbaf4d95561dea2c320d4a47]\n",
       "cluster E1--><a href=\"psysml:70757ebb-a6cc-427a-a5fd-274a54eae870\" target=\"_top\" title=\"psysml:70757ebb-a6cc-427a-a5fd-274a54eae870\" xlink:actuate=\"onRequest\" xlink:href=\"psysml:70757ebb-a6cc-427a-a5fd-274a54eae870\" xlink:show=\"new\" xlink:title=\"psysml:70757ebb-a6cc-427a-a5fd-274a54eae870\" xlink:type=\"simple\"><polygon fill=\"#FFFFFF\" points=\"16,6,163,6,170,28.2969,284,28.2969,284,240,16,240,16,6\" style=\"stroke: #000000; stroke-width: 1.5;\"/><line style=\"stroke: #000000; stroke-width: 1.5;\" x1=\"16\" x2=\"170\" y1=\"28.2969\" y2=\"28.2969\"/><text fill=\"#000000\" font-family=\"sans-serif\" font-size=\"14\" font-weight=\"bold\" lengthAdjust=\"spacingAndGlyphs\" textLength=\"141\" x=\"20\" y=\"20.9951\">PrivateImportTest</text></a><!--MD5=[e4f7fae6ed58524ba242bb0b0d3be6b7]\n",
       "cluster E2--><a href=\"psysml:9d9a8ea7-31e0-462e-8cd1-90f7e5dc514d\" target=\"_top\" title=\"psysml:9d9a8ea7-31e0-462e-8cd1-90f7e5dc514d\" xlink:actuate=\"onRequest\" xlink:href=\"psysml:9d9a8ea7-31e0-462e-8cd1-90f7e5dc514d\" xlink:show=\"new\" xlink:title=\"psysml:9d9a8ea7-31e0-462e-8cd1-90f7e5dc514d\" xlink:type=\"simple\"><polygon fill=\"#FFFFFF\" points=\"162,119,188,119,195,141.2969,260,141.2969,260,216,162,216,162,119\" style=\"stroke: #000000; stroke-width: 1.5;\"/><line style=\"stroke: #000000; stroke-width: 1.5;\" x1=\"162\" x2=\"195\" y1=\"141.2969\" y2=\"141.2969\"/><text fill=\"#000000\" font-family=\"sans-serif\" font-size=\"14\" font-weight=\"bold\" lengthAdjust=\"spacingAndGlyphs\" textLength=\"20\" x=\"166\" y=\"133.9951\">P1</text></a><!--MD5=[14e3b0961a2654348d326746436168a1]\n",
       "cluster E6--><a href=\"psysml:e8a656ba-c51a-4d2d-932b-ea8b084af9f5\" target=\"_top\" title=\"psysml:e8a656ba-c51a-4d2d-932b-ea8b084af9f5\" xlink:actuate=\"onRequest\" xlink:href=\"psysml:e8a656ba-c51a-4d2d-932b-ea8b084af9f5\" xlink:show=\"new\" xlink:title=\"psysml:e8a656ba-c51a-4d2d-932b-ea8b084af9f5\" xlink:type=\"simple\"><polygon fill=\"#FFFFFF\" points=\"40,119,66,119,73,141.2969,138,141.2969,138,216,40,216,40,119\" style=\"stroke: #000000; stroke-width: 1.5;\"/><line style=\"stroke: #000000; stroke-width: 1.5;\" x1=\"40\" x2=\"73\" y1=\"141.2969\" y2=\"141.2969\"/><text fill=\"#000000\" font-family=\"sans-serif\" font-size=\"14\" font-weight=\"bold\" lengthAdjust=\"spacingAndGlyphs\" textLength=\"20\" x=\"44\" y=\"133.9951\">P3</text></a><!--MD5=[270fce915f116d4de14055a7c1d9a0f3]\n",
       "class E5--><a href=\"psysml:794b889b-8918-46e8-9c14-cb61e0d8a2ea\" target=\"_top\" title=\"psysml:794b889b-8918-46e8-9c14-cb61e0d8a2ea\" xlink:actuate=\"onRequest\" xlink:href=\"psysml:794b889b-8918-46e8-9c14-cb61e0d8a2ea\" xlink:show=\"new\" xlink:title=\"psysml:794b889b-8918-46e8-9c14-cb61e0d8a2ea\" xlink:type=\"simple\"><rect fill=\"#FFFFFF\" height=\"45.9375\" id=\"E5\" rx=\"10\" ry=\"10\" style=\"stroke: #383838; stroke-width: 1.5;\" width=\"42\" x=\"190\" y=\"44.5\"/><text fill=\"#000000\" font-family=\"sans-serif\" font-size=\"12\" font-style=\"italic\" lengthAdjust=\"spacingAndGlyphs\" textLength=\"40\" x=\"191\" y=\"60.6387\">«part»</text><text fill=\"#000000\" font-family=\"sans-serif\" font-size=\"12\" lengthAdjust=\"spacingAndGlyphs\" textLength=\"22\" x=\"200\" y=\"74.6074\">x: A</text><line style=\"stroke: #383838; stroke-width: 1.5;\" x1=\"191\" x2=\"231\" y1=\"82.4375\" y2=\"82.4375\"/></a><!--MD5=[b9389687b975829384b498ac4b7476b2]\n",
       "class E8--><a href=\"psysml:553a92d0-50bf-477b-b2ce-bf491dd9a415\" target=\"_top\" title=\"psysml:553a92d0-50bf-477b-b2ce-bf491dd9a415\" xlink:actuate=\"onRequest\" xlink:href=\"psysml:553a92d0-50bf-477b-b2ce-bf491dd9a415\" xlink:show=\"new\" xlink:title=\"psysml:553a92d0-50bf-477b-b2ce-bf491dd9a415\" xlink:type=\"simple\"><rect fill=\"#FFFFFF\" height=\"45.9375\" id=\"E8\" rx=\"10\" ry=\"10\" style=\"stroke: #383838; stroke-width: 1.5;\" width=\"42\" x=\"107\" y=\"44.5\"/><text fill=\"#000000\" font-family=\"sans-serif\" font-size=\"12\" font-style=\"italic\" lengthAdjust=\"spacingAndGlyphs\" textLength=\"40\" x=\"108\" y=\"60.6387\">«part»</text><text fill=\"#000000\" font-family=\"sans-serif\" font-size=\"12\" lengthAdjust=\"spacingAndGlyphs\" textLength=\"21\" x=\"117.5\" y=\"74.6074\">z: B</text><line style=\"stroke: #383838; stroke-width: 1.5;\" x1=\"108\" x2=\"148\" y1=\"82.4375\" y2=\"82.4375\"/></a><!--MD5=[09b614a08d8cba4a07c9adeb5e0fee81]\n",
       "class E3--><a href=\"psysml:6090619b-e47a-44a4-bc4e-b4be6f2f4926\" target=\"_top\" title=\"psysml:6090619b-e47a-44a4-bc4e-b4be6f2f4926\" xlink:actuate=\"onRequest\" xlink:href=\"psysml:6090619b-e47a-44a4-bc4e-b4be6f2f4926\" xlink:show=\"new\" xlink:title=\"psysml:6090619b-e47a-44a4-bc4e-b4be6f2f4926\" xlink:type=\"simple\"><rect fill=\"#FFFFFF\" height=\"45.9375\" id=\"E3\" style=\"stroke: #383838; stroke-width: 1.5;\" width=\"66\" x=\"178\" y=\"154\"/><text fill=\"#000000\" font-family=\"sans-serif\" font-size=\"12\" font-style=\"italic\" lengthAdjust=\"spacingAndGlyphs\" textLength=\"64\" x=\"179\" y=\"170.1387\">«part def»</text><text fill=\"#000000\" font-family=\"sans-serif\" font-size=\"12\" lengthAdjust=\"spacingAndGlyphs\" textLength=\"8\" x=\"207\" y=\"184.1074\">A</text><line style=\"stroke: #383838; stroke-width: 1.5;\" x1=\"179\" x2=\"243\" y1=\"191.9375\" y2=\"191.9375\"/></a><a href=\"psysml:2344491a-e19a-447d-a12e-1e886a7ea509\" target=\"_top\" title=\"psysml:2344491a-e19a-447d-a12e-1e886a7ea509\" xlink:actuate=\"onRequest\" xlink:href=\"psysml:2344491a-e19a-447d-a12e-1e886a7ea509\" xlink:show=\"new\" xlink:title=\"psysml:2344491a-e19a-447d-a12e-1e886a7ea509\" xlink:type=\"simple\"><polygon fill=\"#FFFFFF\" points=\"32,41,58,41,65,63.2969,72,63.2969,72,93.5938,32,93.5938,32,41\" style=\"stroke: #000000; stroke-width: 1.5;\"/><line style=\"stroke: #000000; stroke-width: 1.5;\" x1=\"32\" x2=\"65\" y1=\"63.2969\" y2=\"63.2969\"/><text fill=\"#000000\" font-family=\"sans-serif\" font-size=\"14\" font-weight=\"bold\" lengthAdjust=\"spacingAndGlyphs\" textLength=\"20\" x=\"36\" y=\"55.9951\">P2</text></a><!--MD5=[2156ba9850f5573cc1fc38a6a4b2f02b]\n",
       "class E7--><a href=\"psysml:9e432445-55c9-4726-a95f-4e15b991b53a\" target=\"_top\" title=\"psysml:9e432445-55c9-4726-a95f-4e15b991b53a\" xlink:actuate=\"onRequest\" xlink:href=\"psysml:9e432445-55c9-4726-a95f-4e15b991b53a\" xlink:show=\"new\" xlink:title=\"psysml:9e432445-55c9-4726-a95f-4e15b991b53a\" xlink:type=\"simple\"><rect fill=\"#FFFFFF\" height=\"45.9375\" id=\"E7\" style=\"stroke: #383838; stroke-width: 1.5;\" width=\"66\" x=\"56\" y=\"154\"/><text fill=\"#000000\" font-family=\"sans-serif\" font-size=\"12\" font-style=\"italic\" lengthAdjust=\"spacingAndGlyphs\" textLength=\"64\" x=\"57\" y=\"170.1387\">«part def»</text><text fill=\"#000000\" font-family=\"sans-serif\" font-size=\"12\" lengthAdjust=\"spacingAndGlyphs\" textLength=\"8\" x=\"85\" y=\"184.1074\">B</text><line style=\"stroke: #383838; stroke-width: 1.5;\" x1=\"57\" x2=\"121\" y1=\"191.9375\" y2=\"191.9375\"/></a><!--MD5=[e9be52314489bd878ff4c7144b63c9e1]\n",
       "link E5 to E3--><a href=\"psysml:d9b9f238-e6f4-4810-bb41-4cf78560774c\" target=\"_top\" title=\"psysml:d9b9f238-e6f4-4810-bb41-4cf78560774c\" xlink:actuate=\"onRequest\" xlink:href=\"psysml:d9b9f238-e6f4-4810-bb41-4cf78560774c\" xlink:show=\"new\" xlink:title=\"psysml:d9b9f238-e6f4-4810-bb41-4cf78560774c\" xlink:type=\"simple\"><path d=\"M211,90.51 C211,102.89 211,118.78 211,133.48 \" fill=\"none\" id=\"E5-&gt;E3\" style=\"stroke: #383838; stroke-width: 1.0;\"/><polygon fill=\"#FFFFFF\" points=\"211,153.65,204,134.65,218,134.65,211,153.65\" style=\"stroke: #383838; stroke-width: 1.0;\"/><ellipse cx=\"206\" cy=\"128.95\" fill=\"#383838\" rx=\"2\" ry=\"2\" style=\"stroke: #383838; stroke-width: 1.0;\"/><ellipse cx=\"216\" cy=\"128.95\" fill=\"#383838\" rx=\"2\" ry=\"2\" style=\"stroke: #383838; stroke-width: 1.0;\"/></a><!--MD5=[bfa3c8b0d15052fdf50ae9310b491027]\n",
       "link E8 to E7--><a href=\"psysml:a13a28be-1001-42f5-9632-37667c0baf51\" target=\"_top\" title=\"psysml:a13a28be-1001-42f5-9632-37667c0baf51\" xlink:actuate=\"onRequest\" xlink:href=\"psysml:a13a28be-1001-42f5-9632-37667c0baf51\" xlink:show=\"new\" xlink:title=\"psysml:a13a28be-1001-42f5-9632-37667c0baf51\" xlink:type=\"simple\"><path d=\"M120.01,90.51 C115.39,103.25 109.42,119.7 103.96,134.76 \" fill=\"none\" id=\"E8-&gt;E7\" style=\"stroke: #383838; stroke-width: 1.0;\"/><polygon fill=\"#FFFFFF\" points=\"97.11,153.65,97.0036,133.4018,110.1656,138.1726,97.11,153.65\" style=\"stroke: #383838; stroke-width: 1.0;\"/><ellipse cx=\"100.8262\" cy=\"128.7245\" fill=\"#383838\" rx=\"2\" ry=\"2\" style=\"stroke: #383838; stroke-width: 1.0;\"/><ellipse cx=\"110.2277\" cy=\"132.1322\" fill=\"#383838\" rx=\"2\" ry=\"2\" style=\"stroke: #383838; stroke-width: 1.0;\"/></a><!--MD5=[e2daef5510d77e9c0c122d46ab1de931]\n",
       "@startuml\r\n",
       "skinparam monochrome true\r\n",
       "skinparam classbackgroundcolor white\r\n",
       "skinparam shadowing false\r\n",
       "skinparam wrapWidth 300\r\n",
       "hide circle\r\n",
       "\r\n",
       "package \"PrivateImportTest\" as E1  [[psysml:70757ebb-a6cc-427a-a5fd-274a54eae870 ]]  {\r\n",
       "package \"P1\" as E2  [[psysml:9d9a8ea7-31e0-462e-8cd1-90f7e5dc514d ]]  {\r\n",
       "comp def \"A\" as E3  <<(T,blue)part def>> [[psysml:6090619b-e47a-44a4-bc4e-b4be6f2f4926 ]] {\r\n",
       "}\r\n",
       "}\r\n",
       "package \"P2\" as E4  [[psysml:2344491a-e19a-447d-a12e-1e886a7ea509 ]]  {\r\n",
       "}\r\n",
       "comp usage \"x: A\" as E5  <<(T,blue)part>> [[psysml:794b889b-8918-46e8-9c14-cb61e0d8a2ea ]] {\r\n",
       "}\r\n",
       "package \"P3\" as E6  [[psysml:e8a656ba-c51a-4d2d-932b-ea8b084af9f5 ]]  {\r\n",
       "comp def \"B\" as E7  <<(T,blue)part def>> [[psysml:9e432445-55c9-4726-a95f-4e15b991b53a ]] {\r\n",
       "}\r\n",
       "E5 - -:|> E3 [[psysml:d9b9f238-e6f4-4810-bb41-4cf78560774c ]] \r\n",
       "}\r\n",
       "comp usage \"z: B\" as E8  <<(T,blue)part>> [[psysml:553a92d0-50bf-477b-b2ce-bf491dd9a415 ]] {\r\n",
       "}\r\n",
       "E8 - -:|> E7 [[psysml:a13a28be-1001-42f5-9632-37667c0baf51 ]] \r\n",
       "}\r\n",
       "@enduml\r\n",
       "\n",
       "PlantUML version 1.2020.13(Sat Jun 13 12:26:38 UTC 2020)\n",
       "(EPL source distribution)\n",
       "Java Runtime: OpenJDK Runtime Environment\n",
       "JVM: OpenJDK 64-Bit Server VM\n",
       "Default Encoding: UTF-8\n",
       "Language: en\n",
       "Country: null\n",
       "--></g></svg>"
      ]
     },
     "execution_count": 42,
     "metadata": {},
     "output_type": "execute_result"
    }
   ],
   "source": [
    "%viz --style=\"DEFAULT\" --view=\"Sequence\" \"PrivateImportTest\""
   ]
  },
  {
   "cell_type": "code",
   "execution_count": 43,
   "id": "careful-performance",
   "metadata": {
    "execution": {
     "iopub.execute_input": "2021-03-25T15:01:19.640285Z",
     "iopub.status.busy": "2021-03-25T15:01:19.638474Z",
     "iopub.status.idle": "2021-03-25T15:01:19.756209Z",
     "shell.execute_reply": "2021-03-25T15:01:19.755043Z"
    }
   },
   "outputs": [
    {
     "data": {
      "image/svg+xml": [
       "<?xml version=\"1.0\" encoding=\"UTF-8\" standalone=\"no\"?><svg xmlns=\"http://www.w3.org/2000/svg\" xmlns:xlink=\"http://www.w3.org/1999/xlink\" contentScriptType=\"application/ecmascript\" contentStyleType=\"text/css\" height=\"252px\" preserveAspectRatio=\"none\" style=\"width:306px;height:252px;\" version=\"1.1\" viewBox=\"0 0 306 252\" width=\"306px\" zoomAndPan=\"magnify\"><defs/><g><!--MD5=[fbc87193dbaf4d95561dea2c320d4a47]\n",
       "cluster E1--><a href=\"psysml:70757ebb-a6cc-427a-a5fd-274a54eae870\" target=\"_top\" title=\"psysml:70757ebb-a6cc-427a-a5fd-274a54eae870\" xlink:actuate=\"onRequest\" xlink:href=\"psysml:70757ebb-a6cc-427a-a5fd-274a54eae870\" xlink:show=\"new\" xlink:title=\"psysml:70757ebb-a6cc-427a-a5fd-274a54eae870\" xlink:type=\"simple\"><polygon fill=\"#FFFFFF\" points=\"16,6,163,6,170,28.2969,284,28.2969,284,240,16,240,16,6\" style=\"stroke: #000000; stroke-width: 1.5;\"/><line style=\"stroke: #000000; stroke-width: 1.5;\" x1=\"16\" x2=\"170\" y1=\"28.2969\" y2=\"28.2969\"/><text fill=\"#000000\" font-family=\"sans-serif\" font-size=\"14\" font-weight=\"bold\" lengthAdjust=\"spacingAndGlyphs\" textLength=\"141\" x=\"20\" y=\"20.9951\">PrivateImportTest</text></a><!--MD5=[e4f7fae6ed58524ba242bb0b0d3be6b7]\n",
       "cluster E2--><a href=\"psysml:9d9a8ea7-31e0-462e-8cd1-90f7e5dc514d\" target=\"_top\" title=\"psysml:9d9a8ea7-31e0-462e-8cd1-90f7e5dc514d\" xlink:actuate=\"onRequest\" xlink:href=\"psysml:9d9a8ea7-31e0-462e-8cd1-90f7e5dc514d\" xlink:show=\"new\" xlink:title=\"psysml:9d9a8ea7-31e0-462e-8cd1-90f7e5dc514d\" xlink:type=\"simple\"><polygon fill=\"#FFFFFF\" points=\"162,119,188,119,195,141.2969,260,141.2969,260,216,162,216,162,119\" style=\"stroke: #000000; stroke-width: 1.5;\"/><line style=\"stroke: #000000; stroke-width: 1.5;\" x1=\"162\" x2=\"195\" y1=\"141.2969\" y2=\"141.2969\"/><text fill=\"#000000\" font-family=\"sans-serif\" font-size=\"14\" font-weight=\"bold\" lengthAdjust=\"spacingAndGlyphs\" textLength=\"20\" x=\"166\" y=\"133.9951\">P1</text></a><!--MD5=[14e3b0961a2654348d326746436168a1]\n",
       "cluster E6--><a href=\"psysml:e8a656ba-c51a-4d2d-932b-ea8b084af9f5\" target=\"_top\" title=\"psysml:e8a656ba-c51a-4d2d-932b-ea8b084af9f5\" xlink:actuate=\"onRequest\" xlink:href=\"psysml:e8a656ba-c51a-4d2d-932b-ea8b084af9f5\" xlink:show=\"new\" xlink:title=\"psysml:e8a656ba-c51a-4d2d-932b-ea8b084af9f5\" xlink:type=\"simple\"><polygon fill=\"#FFFFFF\" points=\"40,119,66,119,73,141.2969,138,141.2969,138,216,40,216,40,119\" style=\"stroke: #000000; stroke-width: 1.5;\"/><line style=\"stroke: #000000; stroke-width: 1.5;\" x1=\"40\" x2=\"73\" y1=\"141.2969\" y2=\"141.2969\"/><text fill=\"#000000\" font-family=\"sans-serif\" font-size=\"14\" font-weight=\"bold\" lengthAdjust=\"spacingAndGlyphs\" textLength=\"20\" x=\"44\" y=\"133.9951\">P3</text></a><!--MD5=[270fce915f116d4de14055a7c1d9a0f3]\n",
       "class E5--><a href=\"psysml:794b889b-8918-46e8-9c14-cb61e0d8a2ea\" target=\"_top\" title=\"psysml:794b889b-8918-46e8-9c14-cb61e0d8a2ea\" xlink:actuate=\"onRequest\" xlink:href=\"psysml:794b889b-8918-46e8-9c14-cb61e0d8a2ea\" xlink:show=\"new\" xlink:title=\"psysml:794b889b-8918-46e8-9c14-cb61e0d8a2ea\" xlink:type=\"simple\"><rect fill=\"#FFFFFF\" height=\"45.9375\" id=\"E5\" rx=\"10\" ry=\"10\" style=\"stroke: #383838; stroke-width: 1.5;\" width=\"42\" x=\"190\" y=\"44.5\"/><text fill=\"#000000\" font-family=\"sans-serif\" font-size=\"12\" font-style=\"italic\" lengthAdjust=\"spacingAndGlyphs\" textLength=\"40\" x=\"191\" y=\"60.6387\">«part»</text><text fill=\"#000000\" font-family=\"sans-serif\" font-size=\"12\" lengthAdjust=\"spacingAndGlyphs\" textLength=\"22\" x=\"200\" y=\"74.6074\">x: A</text><line style=\"stroke: #383838; stroke-width: 1.5;\" x1=\"191\" x2=\"231\" y1=\"82.4375\" y2=\"82.4375\"/></a><!--MD5=[b9389687b975829384b498ac4b7476b2]\n",
       "class E8--><a href=\"psysml:553a92d0-50bf-477b-b2ce-bf491dd9a415\" target=\"_top\" title=\"psysml:553a92d0-50bf-477b-b2ce-bf491dd9a415\" xlink:actuate=\"onRequest\" xlink:href=\"psysml:553a92d0-50bf-477b-b2ce-bf491dd9a415\" xlink:show=\"new\" xlink:title=\"psysml:553a92d0-50bf-477b-b2ce-bf491dd9a415\" xlink:type=\"simple\"><rect fill=\"#FFFFFF\" height=\"45.9375\" id=\"E8\" rx=\"10\" ry=\"10\" style=\"stroke: #383838; stroke-width: 1.5;\" width=\"42\" x=\"107\" y=\"44.5\"/><text fill=\"#000000\" font-family=\"sans-serif\" font-size=\"12\" font-style=\"italic\" lengthAdjust=\"spacingAndGlyphs\" textLength=\"40\" x=\"108\" y=\"60.6387\">«part»</text><text fill=\"#000000\" font-family=\"sans-serif\" font-size=\"12\" lengthAdjust=\"spacingAndGlyphs\" textLength=\"21\" x=\"117.5\" y=\"74.6074\">z: B</text><line style=\"stroke: #383838; stroke-width: 1.5;\" x1=\"108\" x2=\"148\" y1=\"82.4375\" y2=\"82.4375\"/></a><!--MD5=[09b614a08d8cba4a07c9adeb5e0fee81]\n",
       "class E3--><a href=\"psysml:6090619b-e47a-44a4-bc4e-b4be6f2f4926\" target=\"_top\" title=\"psysml:6090619b-e47a-44a4-bc4e-b4be6f2f4926\" xlink:actuate=\"onRequest\" xlink:href=\"psysml:6090619b-e47a-44a4-bc4e-b4be6f2f4926\" xlink:show=\"new\" xlink:title=\"psysml:6090619b-e47a-44a4-bc4e-b4be6f2f4926\" xlink:type=\"simple\"><rect fill=\"#FFFFFF\" height=\"45.9375\" id=\"E3\" style=\"stroke: #383838; stroke-width: 1.5;\" width=\"66\" x=\"178\" y=\"154\"/><text fill=\"#000000\" font-family=\"sans-serif\" font-size=\"12\" font-style=\"italic\" lengthAdjust=\"spacingAndGlyphs\" textLength=\"64\" x=\"179\" y=\"170.1387\">«part def»</text><text fill=\"#000000\" font-family=\"sans-serif\" font-size=\"12\" lengthAdjust=\"spacingAndGlyphs\" textLength=\"8\" x=\"207\" y=\"184.1074\">A</text><line style=\"stroke: #383838; stroke-width: 1.5;\" x1=\"179\" x2=\"243\" y1=\"191.9375\" y2=\"191.9375\"/></a><a href=\"psysml:2344491a-e19a-447d-a12e-1e886a7ea509\" target=\"_top\" title=\"psysml:2344491a-e19a-447d-a12e-1e886a7ea509\" xlink:actuate=\"onRequest\" xlink:href=\"psysml:2344491a-e19a-447d-a12e-1e886a7ea509\" xlink:show=\"new\" xlink:title=\"psysml:2344491a-e19a-447d-a12e-1e886a7ea509\" xlink:type=\"simple\"><polygon fill=\"#FFFFFF\" points=\"32,41,58,41,65,63.2969,72,63.2969,72,93.5938,32,93.5938,32,41\" style=\"stroke: #000000; stroke-width: 1.5;\"/><line style=\"stroke: #000000; stroke-width: 1.5;\" x1=\"32\" x2=\"65\" y1=\"63.2969\" y2=\"63.2969\"/><text fill=\"#000000\" font-family=\"sans-serif\" font-size=\"14\" font-weight=\"bold\" lengthAdjust=\"spacingAndGlyphs\" textLength=\"20\" x=\"36\" y=\"55.9951\">P2</text></a><!--MD5=[2156ba9850f5573cc1fc38a6a4b2f02b]\n",
       "class E7--><a href=\"psysml:9e432445-55c9-4726-a95f-4e15b991b53a\" target=\"_top\" title=\"psysml:9e432445-55c9-4726-a95f-4e15b991b53a\" xlink:actuate=\"onRequest\" xlink:href=\"psysml:9e432445-55c9-4726-a95f-4e15b991b53a\" xlink:show=\"new\" xlink:title=\"psysml:9e432445-55c9-4726-a95f-4e15b991b53a\" xlink:type=\"simple\"><rect fill=\"#FFFFFF\" height=\"45.9375\" id=\"E7\" style=\"stroke: #383838; stroke-width: 1.5;\" width=\"66\" x=\"56\" y=\"154\"/><text fill=\"#000000\" font-family=\"sans-serif\" font-size=\"12\" font-style=\"italic\" lengthAdjust=\"spacingAndGlyphs\" textLength=\"64\" x=\"57\" y=\"170.1387\">«part def»</text><text fill=\"#000000\" font-family=\"sans-serif\" font-size=\"12\" lengthAdjust=\"spacingAndGlyphs\" textLength=\"8\" x=\"85\" y=\"184.1074\">B</text><line style=\"stroke: #383838; stroke-width: 1.5;\" x1=\"57\" x2=\"121\" y1=\"191.9375\" y2=\"191.9375\"/></a><!--MD5=[e9be52314489bd878ff4c7144b63c9e1]\n",
       "link E5 to E3--><a href=\"psysml:d9b9f238-e6f4-4810-bb41-4cf78560774c\" target=\"_top\" title=\"psysml:d9b9f238-e6f4-4810-bb41-4cf78560774c\" xlink:actuate=\"onRequest\" xlink:href=\"psysml:d9b9f238-e6f4-4810-bb41-4cf78560774c\" xlink:show=\"new\" xlink:title=\"psysml:d9b9f238-e6f4-4810-bb41-4cf78560774c\" xlink:type=\"simple\"><path d=\"M211,90.51 C211,102.89 211,118.78 211,133.48 \" fill=\"none\" id=\"E5-&gt;E3\" style=\"stroke: #383838; stroke-width: 1.0;\"/><polygon fill=\"#FFFFFF\" points=\"211,153.65,204,134.65,218,134.65,211,153.65\" style=\"stroke: #383838; stroke-width: 1.0;\"/><ellipse cx=\"206\" cy=\"128.95\" fill=\"#383838\" rx=\"2\" ry=\"2\" style=\"stroke: #383838; stroke-width: 1.0;\"/><ellipse cx=\"216\" cy=\"128.95\" fill=\"#383838\" rx=\"2\" ry=\"2\" style=\"stroke: #383838; stroke-width: 1.0;\"/></a><!--MD5=[bfa3c8b0d15052fdf50ae9310b491027]\n",
       "link E8 to E7--><a href=\"psysml:a13a28be-1001-42f5-9632-37667c0baf51\" target=\"_top\" title=\"psysml:a13a28be-1001-42f5-9632-37667c0baf51\" xlink:actuate=\"onRequest\" xlink:href=\"psysml:a13a28be-1001-42f5-9632-37667c0baf51\" xlink:show=\"new\" xlink:title=\"psysml:a13a28be-1001-42f5-9632-37667c0baf51\" xlink:type=\"simple\"><path d=\"M120.01,90.51 C115.39,103.25 109.42,119.7 103.96,134.76 \" fill=\"none\" id=\"E8-&gt;E7\" style=\"stroke: #383838; stroke-width: 1.0;\"/><polygon fill=\"#FFFFFF\" points=\"97.11,153.65,97.0036,133.4018,110.1656,138.1726,97.11,153.65\" style=\"stroke: #383838; stroke-width: 1.0;\"/><ellipse cx=\"100.8262\" cy=\"128.7245\" fill=\"#383838\" rx=\"2\" ry=\"2\" style=\"stroke: #383838; stroke-width: 1.0;\"/><ellipse cx=\"110.2277\" cy=\"132.1322\" fill=\"#383838\" rx=\"2\" ry=\"2\" style=\"stroke: #383838; stroke-width: 1.0;\"/></a><!--MD5=[e2daef5510d77e9c0c122d46ab1de931]\n",
       "@startuml\r\n",
       "skinparam monochrome true\r\n",
       "skinparam classbackgroundcolor white\r\n",
       "skinparam shadowing false\r\n",
       "skinparam wrapWidth 300\r\n",
       "hide circle\r\n",
       "\r\n",
       "package \"PrivateImportTest\" as E1  [[psysml:70757ebb-a6cc-427a-a5fd-274a54eae870 ]]  {\r\n",
       "package \"P1\" as E2  [[psysml:9d9a8ea7-31e0-462e-8cd1-90f7e5dc514d ]]  {\r\n",
       "comp def \"A\" as E3  <<(T,blue)part def>> [[psysml:6090619b-e47a-44a4-bc4e-b4be6f2f4926 ]] {\r\n",
       "}\r\n",
       "}\r\n",
       "package \"P2\" as E4  [[psysml:2344491a-e19a-447d-a12e-1e886a7ea509 ]]  {\r\n",
       "}\r\n",
       "comp usage \"x: A\" as E5  <<(T,blue)part>> [[psysml:794b889b-8918-46e8-9c14-cb61e0d8a2ea ]] {\r\n",
       "}\r\n",
       "package \"P3\" as E6  [[psysml:e8a656ba-c51a-4d2d-932b-ea8b084af9f5 ]]  {\r\n",
       "comp def \"B\" as E7  <<(T,blue)part def>> [[psysml:9e432445-55c9-4726-a95f-4e15b991b53a ]] {\r\n",
       "}\r\n",
       "E5 - -:|> E3 [[psysml:d9b9f238-e6f4-4810-bb41-4cf78560774c ]] \r\n",
       "}\r\n",
       "comp usage \"z: B\" as E8  <<(T,blue)part>> [[psysml:553a92d0-50bf-477b-b2ce-bf491dd9a415 ]] {\r\n",
       "}\r\n",
       "E8 - -:|> E7 [[psysml:a13a28be-1001-42f5-9632-37667c0baf51 ]] \r\n",
       "}\r\n",
       "@enduml\r\n",
       "\n",
       "PlantUML version 1.2020.13(Sat Jun 13 12:26:38 UTC 2020)\n",
       "(EPL source distribution)\n",
       "Java Runtime: OpenJDK Runtime Environment\n",
       "JVM: OpenJDK 64-Bit Server VM\n",
       "Default Encoding: UTF-8\n",
       "Language: en\n",
       "Country: null\n",
       "--></g></svg>"
      ]
     },
     "execution_count": 43,
     "metadata": {},
     "output_type": "execute_result"
    }
   ],
   "source": [
    "%viz --style=\"DEFAULT\" --view=\"MIXED\" \"PrivateImportTest\""
   ]
  },
  {
   "cell_type": "code",
   "execution_count": 44,
   "id": "novel-universal",
   "metadata": {
    "execution": {
     "iopub.execute_input": "2021-03-25T15:01:19.814491Z",
     "iopub.status.busy": "2021-03-25T15:01:19.811105Z",
     "iopub.status.idle": "2021-03-25T15:01:19.943536Z",
     "shell.execute_reply": "2021-03-25T15:01:19.944700Z"
    }
   },
   "outputs": [
    {
     "data": {
      "image/svg+xml": [
       "<?xml version=\"1.0\" encoding=\"UTF-8\" standalone=\"no\"?><svg xmlns=\"http://www.w3.org/2000/svg\" xmlns:xlink=\"http://www.w3.org/1999/xlink\" contentScriptType=\"application/ecmascript\" contentStyleType=\"text/css\" height=\"252px\" preserveAspectRatio=\"none\" style=\"width:306px;height:252px;\" version=\"1.1\" viewBox=\"0 0 306 252\" width=\"306px\" zoomAndPan=\"magnify\"><defs/><g><!--MD5=[fbc87193dbaf4d95561dea2c320d4a47]\n",
       "cluster E1--><a href=\"psysml:70757ebb-a6cc-427a-a5fd-274a54eae870\" target=\"_top\" title=\"psysml:70757ebb-a6cc-427a-a5fd-274a54eae870\" xlink:actuate=\"onRequest\" xlink:href=\"psysml:70757ebb-a6cc-427a-a5fd-274a54eae870\" xlink:show=\"new\" xlink:title=\"psysml:70757ebb-a6cc-427a-a5fd-274a54eae870\" xlink:type=\"simple\"><polygon fill=\"#FFFFFF\" points=\"16,6,163,6,170,28.2969,284,28.2969,284,240,16,240,16,6\" style=\"stroke: #000000; stroke-width: 1.5;\"/><line style=\"stroke: #000000; stroke-width: 1.5;\" x1=\"16\" x2=\"170\" y1=\"28.2969\" y2=\"28.2969\"/><text fill=\"#000000\" font-family=\"sans-serif\" font-size=\"14\" font-weight=\"bold\" lengthAdjust=\"spacingAndGlyphs\" textLength=\"141\" x=\"20\" y=\"20.9951\">PrivateImportTest</text></a><!--MD5=[e4f7fae6ed58524ba242bb0b0d3be6b7]\n",
       "cluster E2--><a href=\"psysml:9d9a8ea7-31e0-462e-8cd1-90f7e5dc514d\" target=\"_top\" title=\"psysml:9d9a8ea7-31e0-462e-8cd1-90f7e5dc514d\" xlink:actuate=\"onRequest\" xlink:href=\"psysml:9d9a8ea7-31e0-462e-8cd1-90f7e5dc514d\" xlink:show=\"new\" xlink:title=\"psysml:9d9a8ea7-31e0-462e-8cd1-90f7e5dc514d\" xlink:type=\"simple\"><polygon fill=\"#FFFFFF\" points=\"162,119,188,119,195,141.2969,260,141.2969,260,216,162,216,162,119\" style=\"stroke: #000000; stroke-width: 1.5;\"/><line style=\"stroke: #000000; stroke-width: 1.5;\" x1=\"162\" x2=\"195\" y1=\"141.2969\" y2=\"141.2969\"/><text fill=\"#000000\" font-family=\"sans-serif\" font-size=\"14\" font-weight=\"bold\" lengthAdjust=\"spacingAndGlyphs\" textLength=\"20\" x=\"166\" y=\"133.9951\">P1</text></a><!--MD5=[14e3b0961a2654348d326746436168a1]\n",
       "cluster E6--><a href=\"psysml:e8a656ba-c51a-4d2d-932b-ea8b084af9f5\" target=\"_top\" title=\"psysml:e8a656ba-c51a-4d2d-932b-ea8b084af9f5\" xlink:actuate=\"onRequest\" xlink:href=\"psysml:e8a656ba-c51a-4d2d-932b-ea8b084af9f5\" xlink:show=\"new\" xlink:title=\"psysml:e8a656ba-c51a-4d2d-932b-ea8b084af9f5\" xlink:type=\"simple\"><polygon fill=\"#FFFFFF\" points=\"40,119,66,119,73,141.2969,138,141.2969,138,216,40,216,40,119\" style=\"stroke: #000000; stroke-width: 1.5;\"/><line style=\"stroke: #000000; stroke-width: 1.5;\" x1=\"40\" x2=\"73\" y1=\"141.2969\" y2=\"141.2969\"/><text fill=\"#000000\" font-family=\"sans-serif\" font-size=\"14\" font-weight=\"bold\" lengthAdjust=\"spacingAndGlyphs\" textLength=\"20\" x=\"44\" y=\"133.9951\">P3</text></a><!--MD5=[270fce915f116d4de14055a7c1d9a0f3]\n",
       "class E5--><a href=\"psysml:794b889b-8918-46e8-9c14-cb61e0d8a2ea\" target=\"_top\" title=\"psysml:794b889b-8918-46e8-9c14-cb61e0d8a2ea\" xlink:actuate=\"onRequest\" xlink:href=\"psysml:794b889b-8918-46e8-9c14-cb61e0d8a2ea\" xlink:show=\"new\" xlink:title=\"psysml:794b889b-8918-46e8-9c14-cb61e0d8a2ea\" xlink:type=\"simple\"><rect fill=\"#FFFFFF\" height=\"45.9375\" id=\"E5\" rx=\"10\" ry=\"10\" style=\"stroke: #383838; stroke-width: 1.5;\" width=\"42\" x=\"190\" y=\"44.5\"/><text fill=\"#000000\" font-family=\"sans-serif\" font-size=\"12\" font-style=\"italic\" lengthAdjust=\"spacingAndGlyphs\" textLength=\"40\" x=\"191\" y=\"60.6387\">«part»</text><text fill=\"#000000\" font-family=\"sans-serif\" font-size=\"12\" lengthAdjust=\"spacingAndGlyphs\" textLength=\"22\" x=\"200\" y=\"74.6074\">x: A</text><line style=\"stroke: #383838; stroke-width: 1.5;\" x1=\"191\" x2=\"231\" y1=\"82.4375\" y2=\"82.4375\"/></a><!--MD5=[b9389687b975829384b498ac4b7476b2]\n",
       "class E8--><a href=\"psysml:553a92d0-50bf-477b-b2ce-bf491dd9a415\" target=\"_top\" title=\"psysml:553a92d0-50bf-477b-b2ce-bf491dd9a415\" xlink:actuate=\"onRequest\" xlink:href=\"psysml:553a92d0-50bf-477b-b2ce-bf491dd9a415\" xlink:show=\"new\" xlink:title=\"psysml:553a92d0-50bf-477b-b2ce-bf491dd9a415\" xlink:type=\"simple\"><rect fill=\"#FFFFFF\" height=\"45.9375\" id=\"E8\" rx=\"10\" ry=\"10\" style=\"stroke: #383838; stroke-width: 1.5;\" width=\"42\" x=\"107\" y=\"44.5\"/><text fill=\"#000000\" font-family=\"sans-serif\" font-size=\"12\" font-style=\"italic\" lengthAdjust=\"spacingAndGlyphs\" textLength=\"40\" x=\"108\" y=\"60.6387\">«part»</text><text fill=\"#000000\" font-family=\"sans-serif\" font-size=\"12\" lengthAdjust=\"spacingAndGlyphs\" textLength=\"21\" x=\"117.5\" y=\"74.6074\">z: B</text><line style=\"stroke: #383838; stroke-width: 1.5;\" x1=\"108\" x2=\"148\" y1=\"82.4375\" y2=\"82.4375\"/></a><!--MD5=[09b614a08d8cba4a07c9adeb5e0fee81]\n",
       "class E3--><a href=\"psysml:6090619b-e47a-44a4-bc4e-b4be6f2f4926\" target=\"_top\" title=\"psysml:6090619b-e47a-44a4-bc4e-b4be6f2f4926\" xlink:actuate=\"onRequest\" xlink:href=\"psysml:6090619b-e47a-44a4-bc4e-b4be6f2f4926\" xlink:show=\"new\" xlink:title=\"psysml:6090619b-e47a-44a4-bc4e-b4be6f2f4926\" xlink:type=\"simple\"><rect fill=\"#FFFFFF\" height=\"45.9375\" id=\"E3\" style=\"stroke: #383838; stroke-width: 1.5;\" width=\"66\" x=\"178\" y=\"154\"/><text fill=\"#000000\" font-family=\"sans-serif\" font-size=\"12\" font-style=\"italic\" lengthAdjust=\"spacingAndGlyphs\" textLength=\"64\" x=\"179\" y=\"170.1387\">«part def»</text><text fill=\"#000000\" font-family=\"sans-serif\" font-size=\"12\" lengthAdjust=\"spacingAndGlyphs\" textLength=\"8\" x=\"207\" y=\"184.1074\">A</text><line style=\"stroke: #383838; stroke-width: 1.5;\" x1=\"179\" x2=\"243\" y1=\"191.9375\" y2=\"191.9375\"/></a><a href=\"psysml:2344491a-e19a-447d-a12e-1e886a7ea509\" target=\"_top\" title=\"psysml:2344491a-e19a-447d-a12e-1e886a7ea509\" xlink:actuate=\"onRequest\" xlink:href=\"psysml:2344491a-e19a-447d-a12e-1e886a7ea509\" xlink:show=\"new\" xlink:title=\"psysml:2344491a-e19a-447d-a12e-1e886a7ea509\" xlink:type=\"simple\"><polygon fill=\"#FFFFFF\" points=\"32,41,58,41,65,63.2969,72,63.2969,72,93.5938,32,93.5938,32,41\" style=\"stroke: #000000; stroke-width: 1.5;\"/><line style=\"stroke: #000000; stroke-width: 1.5;\" x1=\"32\" x2=\"65\" y1=\"63.2969\" y2=\"63.2969\"/><text fill=\"#000000\" font-family=\"sans-serif\" font-size=\"14\" font-weight=\"bold\" lengthAdjust=\"spacingAndGlyphs\" textLength=\"20\" x=\"36\" y=\"55.9951\">P2</text></a><!--MD5=[2156ba9850f5573cc1fc38a6a4b2f02b]\n",
       "class E7--><a href=\"psysml:9e432445-55c9-4726-a95f-4e15b991b53a\" target=\"_top\" title=\"psysml:9e432445-55c9-4726-a95f-4e15b991b53a\" xlink:actuate=\"onRequest\" xlink:href=\"psysml:9e432445-55c9-4726-a95f-4e15b991b53a\" xlink:show=\"new\" xlink:title=\"psysml:9e432445-55c9-4726-a95f-4e15b991b53a\" xlink:type=\"simple\"><rect fill=\"#FFFFFF\" height=\"45.9375\" id=\"E7\" style=\"stroke: #383838; stroke-width: 1.5;\" width=\"66\" x=\"56\" y=\"154\"/><text fill=\"#000000\" font-family=\"sans-serif\" font-size=\"12\" font-style=\"italic\" lengthAdjust=\"spacingAndGlyphs\" textLength=\"64\" x=\"57\" y=\"170.1387\">«part def»</text><text fill=\"#000000\" font-family=\"sans-serif\" font-size=\"12\" lengthAdjust=\"spacingAndGlyphs\" textLength=\"8\" x=\"85\" y=\"184.1074\">B</text><line style=\"stroke: #383838; stroke-width: 1.5;\" x1=\"57\" x2=\"121\" y1=\"191.9375\" y2=\"191.9375\"/></a><!--MD5=[e9be52314489bd878ff4c7144b63c9e1]\n",
       "link E5 to E3--><a href=\"psysml:d9b9f238-e6f4-4810-bb41-4cf78560774c\" target=\"_top\" title=\"psysml:d9b9f238-e6f4-4810-bb41-4cf78560774c\" xlink:actuate=\"onRequest\" xlink:href=\"psysml:d9b9f238-e6f4-4810-bb41-4cf78560774c\" xlink:show=\"new\" xlink:title=\"psysml:d9b9f238-e6f4-4810-bb41-4cf78560774c\" xlink:type=\"simple\"><path d=\"M211,90.51 C211,102.89 211,118.78 211,133.48 \" fill=\"none\" id=\"E5-&gt;E3\" style=\"stroke: #383838; stroke-width: 1.0;\"/><polygon fill=\"#FFFFFF\" points=\"211,153.65,204,134.65,218,134.65,211,153.65\" style=\"stroke: #383838; stroke-width: 1.0;\"/><ellipse cx=\"206\" cy=\"128.95\" fill=\"#383838\" rx=\"2\" ry=\"2\" style=\"stroke: #383838; stroke-width: 1.0;\"/><ellipse cx=\"216\" cy=\"128.95\" fill=\"#383838\" rx=\"2\" ry=\"2\" style=\"stroke: #383838; stroke-width: 1.0;\"/></a><!--MD5=[bfa3c8b0d15052fdf50ae9310b491027]\n",
       "link E8 to E7--><a href=\"psysml:a13a28be-1001-42f5-9632-37667c0baf51\" target=\"_top\" title=\"psysml:a13a28be-1001-42f5-9632-37667c0baf51\" xlink:actuate=\"onRequest\" xlink:href=\"psysml:a13a28be-1001-42f5-9632-37667c0baf51\" xlink:show=\"new\" xlink:title=\"psysml:a13a28be-1001-42f5-9632-37667c0baf51\" xlink:type=\"simple\"><path d=\"M120.01,90.51 C115.39,103.25 109.42,119.7 103.96,134.76 \" fill=\"none\" id=\"E8-&gt;E7\" style=\"stroke: #383838; stroke-width: 1.0;\"/><polygon fill=\"#FFFFFF\" points=\"97.11,153.65,97.0036,133.4018,110.1656,138.1726,97.11,153.65\" style=\"stroke: #383838; stroke-width: 1.0;\"/><ellipse cx=\"100.8262\" cy=\"128.7245\" fill=\"#383838\" rx=\"2\" ry=\"2\" style=\"stroke: #383838; stroke-width: 1.0;\"/><ellipse cx=\"110.2277\" cy=\"132.1322\" fill=\"#383838\" rx=\"2\" ry=\"2\" style=\"stroke: #383838; stroke-width: 1.0;\"/></a><!--MD5=[3b0380a6f4be09f78bcd6cf642ef48d6]\n",
       "@startuml\r\n",
       "top to bottom direction\r\n",
       "skinparam monochrome true\r\n",
       "skinparam classbackgroundcolor white\r\n",
       "skinparam shadowing false\r\n",
       "skinparam wrapWidth 300\r\n",
       "hide circle\r\n",
       "\r\n",
       "package \"PrivateImportTest\" as E1  [[psysml:70757ebb-a6cc-427a-a5fd-274a54eae870 ]]  {\r\n",
       "package \"P1\" as E2  [[psysml:9d9a8ea7-31e0-462e-8cd1-90f7e5dc514d ]]  {\r\n",
       "comp def \"A\" as E3  <<(T,blue)part def>> [[psysml:6090619b-e47a-44a4-bc4e-b4be6f2f4926 ]] {\r\n",
       "}\r\n",
       "}\r\n",
       "package \"P2\" as E4  [[psysml:2344491a-e19a-447d-a12e-1e886a7ea509 ]]  {\r\n",
       "}\r\n",
       "comp usage \"x: A\" as E5  <<(T,blue)part>> [[psysml:794b889b-8918-46e8-9c14-cb61e0d8a2ea ]] {\r\n",
       "}\r\n",
       "package \"P3\" as E6  [[psysml:e8a656ba-c51a-4d2d-932b-ea8b084af9f5 ]]  {\r\n",
       "comp def \"B\" as E7  <<(T,blue)part def>> [[psysml:9e432445-55c9-4726-a95f-4e15b991b53a ]] {\r\n",
       "}\r\n",
       "E5 - -:|> E3 [[psysml:d9b9f238-e6f4-4810-bb41-4cf78560774c ]] \r\n",
       "}\r\n",
       "comp usage \"z: B\" as E8  <<(T,blue)part>> [[psysml:553a92d0-50bf-477b-b2ce-bf491dd9a415 ]] {\r\n",
       "}\r\n",
       "E8 - -:|> E7 [[psysml:a13a28be-1001-42f5-9632-37667c0baf51 ]] \r\n",
       "}\r\n",
       "@enduml\r\n",
       "\n",
       "PlantUML version 1.2020.13(Sat Jun 13 12:26:38 UTC 2020)\n",
       "(EPL source distribution)\n",
       "Java Runtime: OpenJDK Runtime Environment\n",
       "JVM: OpenJDK 64-Bit Server VM\n",
       "Default Encoding: UTF-8\n",
       "Language: en\n",
       "Country: null\n",
       "--></g></svg>"
      ]
     },
     "execution_count": 44,
     "metadata": {},
     "output_type": "execute_result"
    }
   ],
   "source": [
    "%viz --style=\"TB\" --view=\"Default\" \"PrivateImportTest\""
   ]
  },
  {
   "cell_type": "code",
   "execution_count": 45,
   "id": "tutorial-mention",
   "metadata": {
    "execution": {
     "iopub.execute_input": "2021-03-25T15:01:19.994422Z",
     "iopub.status.busy": "2021-03-25T15:01:19.993604Z",
     "iopub.status.idle": "2021-03-25T15:01:20.094032Z",
     "shell.execute_reply": "2021-03-25T15:01:20.091531Z"
    }
   },
   "outputs": [
    {
     "data": {
      "image/svg+xml": [
       "<?xml version=\"1.0\" encoding=\"UTF-8\" standalone=\"no\"?><svg xmlns=\"http://www.w3.org/2000/svg\" xmlns:xlink=\"http://www.w3.org/1999/xlink\" contentScriptType=\"application/ecmascript\" contentStyleType=\"text/css\" height=\"252px\" preserveAspectRatio=\"none\" style=\"width:306px;height:252px;\" version=\"1.1\" viewBox=\"0 0 306 252\" width=\"306px\" zoomAndPan=\"magnify\"><defs/><g><!--MD5=[fbc87193dbaf4d95561dea2c320d4a47]\n",
       "cluster E1--><a href=\"psysml:70757ebb-a6cc-427a-a5fd-274a54eae870\" target=\"_top\" title=\"psysml:70757ebb-a6cc-427a-a5fd-274a54eae870\" xlink:actuate=\"onRequest\" xlink:href=\"psysml:70757ebb-a6cc-427a-a5fd-274a54eae870\" xlink:show=\"new\" xlink:title=\"psysml:70757ebb-a6cc-427a-a5fd-274a54eae870\" xlink:type=\"simple\"><polygon fill=\"#FFFFFF\" points=\"16,6,163,6,170,28.2969,284,28.2969,284,240,16,240,16,6\" style=\"stroke: #000000; stroke-width: 1.5;\"/><line style=\"stroke: #000000; stroke-width: 1.5;\" x1=\"16\" x2=\"170\" y1=\"28.2969\" y2=\"28.2969\"/><text fill=\"#000000\" font-family=\"sans-serif\" font-size=\"14\" font-weight=\"bold\" lengthAdjust=\"spacingAndGlyphs\" textLength=\"141\" x=\"20\" y=\"20.9951\">PrivateImportTest</text></a><!--MD5=[e4f7fae6ed58524ba242bb0b0d3be6b7]\n",
       "cluster E2--><a href=\"psysml:9d9a8ea7-31e0-462e-8cd1-90f7e5dc514d\" target=\"_top\" title=\"psysml:9d9a8ea7-31e0-462e-8cd1-90f7e5dc514d\" xlink:actuate=\"onRequest\" xlink:href=\"psysml:9d9a8ea7-31e0-462e-8cd1-90f7e5dc514d\" xlink:show=\"new\" xlink:title=\"psysml:9d9a8ea7-31e0-462e-8cd1-90f7e5dc514d\" xlink:type=\"simple\"><polygon fill=\"#FFFFFF\" points=\"162,119,188,119,195,141.2969,260,141.2969,260,216,162,216,162,119\" style=\"stroke: #000000; stroke-width: 1.5;\"/><line style=\"stroke: #000000; stroke-width: 1.5;\" x1=\"162\" x2=\"195\" y1=\"141.2969\" y2=\"141.2969\"/><text fill=\"#000000\" font-family=\"sans-serif\" font-size=\"14\" font-weight=\"bold\" lengthAdjust=\"spacingAndGlyphs\" textLength=\"20\" x=\"166\" y=\"133.9951\">P1</text></a><!--MD5=[14e3b0961a2654348d326746436168a1]\n",
       "cluster E6--><a href=\"psysml:e8a656ba-c51a-4d2d-932b-ea8b084af9f5\" target=\"_top\" title=\"psysml:e8a656ba-c51a-4d2d-932b-ea8b084af9f5\" xlink:actuate=\"onRequest\" xlink:href=\"psysml:e8a656ba-c51a-4d2d-932b-ea8b084af9f5\" xlink:show=\"new\" xlink:title=\"psysml:e8a656ba-c51a-4d2d-932b-ea8b084af9f5\" xlink:type=\"simple\"><polygon fill=\"#FFFFFF\" points=\"40,119,66,119,73,141.2969,138,141.2969,138,216,40,216,40,119\" style=\"stroke: #000000; stroke-width: 1.5;\"/><line style=\"stroke: #000000; stroke-width: 1.5;\" x1=\"40\" x2=\"73\" y1=\"141.2969\" y2=\"141.2969\"/><text fill=\"#000000\" font-family=\"sans-serif\" font-size=\"14\" font-weight=\"bold\" lengthAdjust=\"spacingAndGlyphs\" textLength=\"20\" x=\"44\" y=\"133.9951\">P3</text></a><!--MD5=[270fce915f116d4de14055a7c1d9a0f3]\n",
       "class E5--><a href=\"psysml:794b889b-8918-46e8-9c14-cb61e0d8a2ea\" target=\"_top\" title=\"psysml:794b889b-8918-46e8-9c14-cb61e0d8a2ea\" xlink:actuate=\"onRequest\" xlink:href=\"psysml:794b889b-8918-46e8-9c14-cb61e0d8a2ea\" xlink:show=\"new\" xlink:title=\"psysml:794b889b-8918-46e8-9c14-cb61e0d8a2ea\" xlink:type=\"simple\"><rect fill=\"#FFFFFF\" height=\"45.9375\" id=\"E5\" rx=\"10\" ry=\"10\" style=\"stroke: #383838; stroke-width: 1.5;\" width=\"42\" x=\"190\" y=\"44.5\"/><text fill=\"#000000\" font-family=\"sans-serif\" font-size=\"12\" font-style=\"italic\" lengthAdjust=\"spacingAndGlyphs\" textLength=\"40\" x=\"191\" y=\"60.6387\">«part»</text><text fill=\"#000000\" font-family=\"sans-serif\" font-size=\"12\" lengthAdjust=\"spacingAndGlyphs\" textLength=\"22\" x=\"200\" y=\"74.6074\">x: A</text><line style=\"stroke: #383838; stroke-width: 1.5;\" x1=\"191\" x2=\"231\" y1=\"82.4375\" y2=\"82.4375\"/></a><!--MD5=[b9389687b975829384b498ac4b7476b2]\n",
       "class E8--><a href=\"psysml:553a92d0-50bf-477b-b2ce-bf491dd9a415\" target=\"_top\" title=\"psysml:553a92d0-50bf-477b-b2ce-bf491dd9a415\" xlink:actuate=\"onRequest\" xlink:href=\"psysml:553a92d0-50bf-477b-b2ce-bf491dd9a415\" xlink:show=\"new\" xlink:title=\"psysml:553a92d0-50bf-477b-b2ce-bf491dd9a415\" xlink:type=\"simple\"><rect fill=\"#FFFFFF\" height=\"45.9375\" id=\"E8\" rx=\"10\" ry=\"10\" style=\"stroke: #383838; stroke-width: 1.5;\" width=\"42\" x=\"107\" y=\"44.5\"/><text fill=\"#000000\" font-family=\"sans-serif\" font-size=\"12\" font-style=\"italic\" lengthAdjust=\"spacingAndGlyphs\" textLength=\"40\" x=\"108\" y=\"60.6387\">«part»</text><text fill=\"#000000\" font-family=\"sans-serif\" font-size=\"12\" lengthAdjust=\"spacingAndGlyphs\" textLength=\"21\" x=\"117.5\" y=\"74.6074\">z: B</text><line style=\"stroke: #383838; stroke-width: 1.5;\" x1=\"108\" x2=\"148\" y1=\"82.4375\" y2=\"82.4375\"/></a><!--MD5=[09b614a08d8cba4a07c9adeb5e0fee81]\n",
       "class E3--><a href=\"psysml:6090619b-e47a-44a4-bc4e-b4be6f2f4926\" target=\"_top\" title=\"psysml:6090619b-e47a-44a4-bc4e-b4be6f2f4926\" xlink:actuate=\"onRequest\" xlink:href=\"psysml:6090619b-e47a-44a4-bc4e-b4be6f2f4926\" xlink:show=\"new\" xlink:title=\"psysml:6090619b-e47a-44a4-bc4e-b4be6f2f4926\" xlink:type=\"simple\"><rect fill=\"#FFFFFF\" height=\"45.9375\" id=\"E3\" style=\"stroke: #383838; stroke-width: 1.5;\" width=\"66\" x=\"178\" y=\"154\"/><text fill=\"#000000\" font-family=\"sans-serif\" font-size=\"12\" font-style=\"italic\" lengthAdjust=\"spacingAndGlyphs\" textLength=\"64\" x=\"179\" y=\"170.1387\">«part def»</text><text fill=\"#000000\" font-family=\"sans-serif\" font-size=\"12\" lengthAdjust=\"spacingAndGlyphs\" textLength=\"8\" x=\"207\" y=\"184.1074\">A</text><line style=\"stroke: #383838; stroke-width: 1.5;\" x1=\"179\" x2=\"243\" y1=\"191.9375\" y2=\"191.9375\"/></a><a href=\"psysml:2344491a-e19a-447d-a12e-1e886a7ea509\" target=\"_top\" title=\"psysml:2344491a-e19a-447d-a12e-1e886a7ea509\" xlink:actuate=\"onRequest\" xlink:href=\"psysml:2344491a-e19a-447d-a12e-1e886a7ea509\" xlink:show=\"new\" xlink:title=\"psysml:2344491a-e19a-447d-a12e-1e886a7ea509\" xlink:type=\"simple\"><polygon fill=\"#FFFFFF\" points=\"32,41,58,41,65,63.2969,72,63.2969,72,93.5938,32,93.5938,32,41\" style=\"stroke: #000000; stroke-width: 1.5;\"/><line style=\"stroke: #000000; stroke-width: 1.5;\" x1=\"32\" x2=\"65\" y1=\"63.2969\" y2=\"63.2969\"/><text fill=\"#000000\" font-family=\"sans-serif\" font-size=\"14\" font-weight=\"bold\" lengthAdjust=\"spacingAndGlyphs\" textLength=\"20\" x=\"36\" y=\"55.9951\">P2</text></a><!--MD5=[2156ba9850f5573cc1fc38a6a4b2f02b]\n",
       "class E7--><a href=\"psysml:9e432445-55c9-4726-a95f-4e15b991b53a\" target=\"_top\" title=\"psysml:9e432445-55c9-4726-a95f-4e15b991b53a\" xlink:actuate=\"onRequest\" xlink:href=\"psysml:9e432445-55c9-4726-a95f-4e15b991b53a\" xlink:show=\"new\" xlink:title=\"psysml:9e432445-55c9-4726-a95f-4e15b991b53a\" xlink:type=\"simple\"><rect fill=\"#FFFFFF\" height=\"45.9375\" id=\"E7\" style=\"stroke: #383838; stroke-width: 1.5;\" width=\"66\" x=\"56\" y=\"154\"/><text fill=\"#000000\" font-family=\"sans-serif\" font-size=\"12\" font-style=\"italic\" lengthAdjust=\"spacingAndGlyphs\" textLength=\"64\" x=\"57\" y=\"170.1387\">«part def»</text><text fill=\"#000000\" font-family=\"sans-serif\" font-size=\"12\" lengthAdjust=\"spacingAndGlyphs\" textLength=\"8\" x=\"85\" y=\"184.1074\">B</text><line style=\"stroke: #383838; stroke-width: 1.5;\" x1=\"57\" x2=\"121\" y1=\"191.9375\" y2=\"191.9375\"/></a><!--MD5=[e9be52314489bd878ff4c7144b63c9e1]\n",
       "link E5 to E3--><a href=\"psysml:d9b9f238-e6f4-4810-bb41-4cf78560774c\" target=\"_top\" title=\"psysml:d9b9f238-e6f4-4810-bb41-4cf78560774c\" xlink:actuate=\"onRequest\" xlink:href=\"psysml:d9b9f238-e6f4-4810-bb41-4cf78560774c\" xlink:show=\"new\" xlink:title=\"psysml:d9b9f238-e6f4-4810-bb41-4cf78560774c\" xlink:type=\"simple\"><path d=\"M211,90.51 C211,102.89 211,118.78 211,133.48 \" fill=\"none\" id=\"E5-&gt;E3\" style=\"stroke: #383838; stroke-width: 1.0;\"/><polygon fill=\"#FFFFFF\" points=\"211,153.65,204,134.65,218,134.65,211,153.65\" style=\"stroke: #383838; stroke-width: 1.0;\"/><ellipse cx=\"206\" cy=\"128.95\" fill=\"#383838\" rx=\"2\" ry=\"2\" style=\"stroke: #383838; stroke-width: 1.0;\"/><ellipse cx=\"216\" cy=\"128.95\" fill=\"#383838\" rx=\"2\" ry=\"2\" style=\"stroke: #383838; stroke-width: 1.0;\"/></a><!--MD5=[bfa3c8b0d15052fdf50ae9310b491027]\n",
       "link E8 to E7--><a href=\"psysml:a13a28be-1001-42f5-9632-37667c0baf51\" target=\"_top\" title=\"psysml:a13a28be-1001-42f5-9632-37667c0baf51\" xlink:actuate=\"onRequest\" xlink:href=\"psysml:a13a28be-1001-42f5-9632-37667c0baf51\" xlink:show=\"new\" xlink:title=\"psysml:a13a28be-1001-42f5-9632-37667c0baf51\" xlink:type=\"simple\"><path d=\"M120.01,90.51 C115.39,103.25 109.42,119.7 103.96,134.76 \" fill=\"none\" id=\"E8-&gt;E7\" style=\"stroke: #383838; stroke-width: 1.0;\"/><polygon fill=\"#FFFFFF\" points=\"97.11,153.65,97.0036,133.4018,110.1656,138.1726,97.11,153.65\" style=\"stroke: #383838; stroke-width: 1.0;\"/><ellipse cx=\"100.8262\" cy=\"128.7245\" fill=\"#383838\" rx=\"2\" ry=\"2\" style=\"stroke: #383838; stroke-width: 1.0;\"/><ellipse cx=\"110.2277\" cy=\"132.1322\" fill=\"#383838\" rx=\"2\" ry=\"2\" style=\"stroke: #383838; stroke-width: 1.0;\"/></a><!--MD5=[3b0380a6f4be09f78bcd6cf642ef48d6]\n",
       "@startuml\r\n",
       "top to bottom direction\r\n",
       "skinparam monochrome true\r\n",
       "skinparam classbackgroundcolor white\r\n",
       "skinparam shadowing false\r\n",
       "skinparam wrapWidth 300\r\n",
       "hide circle\r\n",
       "\r\n",
       "package \"PrivateImportTest\" as E1  [[psysml:70757ebb-a6cc-427a-a5fd-274a54eae870 ]]  {\r\n",
       "package \"P1\" as E2  [[psysml:9d9a8ea7-31e0-462e-8cd1-90f7e5dc514d ]]  {\r\n",
       "comp def \"A\" as E3  <<(T,blue)part def>> [[psysml:6090619b-e47a-44a4-bc4e-b4be6f2f4926 ]] {\r\n",
       "}\r\n",
       "}\r\n",
       "package \"P2\" as E4  [[psysml:2344491a-e19a-447d-a12e-1e886a7ea509 ]]  {\r\n",
       "}\r\n",
       "comp usage \"x: A\" as E5  <<(T,blue)part>> [[psysml:794b889b-8918-46e8-9c14-cb61e0d8a2ea ]] {\r\n",
       "}\r\n",
       "package \"P3\" as E6  [[psysml:e8a656ba-c51a-4d2d-932b-ea8b084af9f5 ]]  {\r\n",
       "comp def \"B\" as E7  <<(T,blue)part def>> [[psysml:9e432445-55c9-4726-a95f-4e15b991b53a ]] {\r\n",
       "}\r\n",
       "E5 - -:|> E3 [[psysml:d9b9f238-e6f4-4810-bb41-4cf78560774c ]] \r\n",
       "}\r\n",
       "comp usage \"z: B\" as E8  <<(T,blue)part>> [[psysml:553a92d0-50bf-477b-b2ce-bf491dd9a415 ]] {\r\n",
       "}\r\n",
       "E8 - -:|> E7 [[psysml:a13a28be-1001-42f5-9632-37667c0baf51 ]] \r\n",
       "}\r\n",
       "@enduml\r\n",
       "\n",
       "PlantUML version 1.2020.13(Sat Jun 13 12:26:38 UTC 2020)\n",
       "(EPL source distribution)\n",
       "Java Runtime: OpenJDK Runtime Environment\n",
       "JVM: OpenJDK 64-Bit Server VM\n",
       "Default Encoding: UTF-8\n",
       "Language: en\n",
       "Country: null\n",
       "--></g></svg>"
      ]
     },
     "execution_count": 45,
     "metadata": {},
     "output_type": "execute_result"
    }
   ],
   "source": [
    "%viz --style=\"TB\" --view=\"Tree\" \"PrivateImportTest\""
   ]
  },
  {
   "cell_type": "code",
   "execution_count": 46,
   "id": "national-manor",
   "metadata": {
    "execution": {
     "iopub.execute_input": "2021-03-25T15:01:20.141976Z",
     "iopub.status.busy": "2021-03-25T15:01:20.141515Z",
     "iopub.status.idle": "2021-03-25T15:01:20.149651Z",
     "shell.execute_reply": "2021-03-25T15:01:20.149092Z"
    }
   },
   "outputs": [
    {
     "data": {
      "image/svg+xml": [
       "<?xml version=\"1.0\" encoding=\"UTF-8\" standalone=\"no\"?><svg xmlns=\"http://www.w3.org/2000/svg\" xmlns:xlink=\"http://www.w3.org/1999/xlink\" contentScriptType=\"application/ecmascript\" contentStyleType=\"text/css\" height=\"12px\" preserveAspectRatio=\"none\" style=\"width:12px;height:12px;\" version=\"1.1\" viewBox=\"0 0 12 12\" width=\"12px\" zoomAndPan=\"magnify\"><defs/><g><!--MD5=[f4ee21bc66e489b5061b7c3e9601fdef]\n",
       "@startuml\r\n",
       "top to bottom direction\r\n",
       "skinparam monochrome true\r\n",
       "skinparam classbackgroundcolor white\r\n",
       "skinparam shadowing false\r\n",
       "skinparam wrapWidth 300\r\n",
       "hide circle\r\n",
       "\r\n",
       "@enduml\r\n",
       "\n",
       "PlantUML version 1.2020.13(Sat Jun 13 12:26:38 UTC 2020)\n",
       "(EPL source distribution)\n",
       "Java Runtime: OpenJDK Runtime Environment\n",
       "JVM: OpenJDK 64-Bit Server VM\n",
       "Default Encoding: UTF-8\n",
       "Language: en\n",
       "Country: null\n",
       "--></g></svg>"
      ]
     },
     "execution_count": 46,
     "metadata": {},
     "output_type": "execute_result"
    }
   ],
   "source": [
    "%viz --style=\"TB\" --view=\"State\" \"PrivateImportTest\""
   ]
  },
  {
   "cell_type": "code",
   "execution_count": 47,
   "id": "respiratory-newfoundland",
   "metadata": {
    "execution": {
     "iopub.execute_input": "2021-03-25T15:01:20.201592Z",
     "iopub.status.busy": "2021-03-25T15:01:20.200763Z",
     "iopub.status.idle": "2021-03-25T15:01:20.288066Z",
     "shell.execute_reply": "2021-03-25T15:01:20.286638Z"
    }
   },
   "outputs": [
    {
     "data": {
      "image/svg+xml": [
       "<?xml version=\"1.0\" encoding=\"UTF-8\" standalone=\"no\"?><svg xmlns=\"http://www.w3.org/2000/svg\" xmlns:xlink=\"http://www.w3.org/1999/xlink\" contentScriptType=\"application/ecmascript\" contentStyleType=\"text/css\" height=\"179px\" preserveAspectRatio=\"none\" style=\"width:539px;height:179px;\" version=\"1.1\" viewBox=\"0 0 539 179\" width=\"539px\" zoomAndPan=\"magnify\"><defs/><g><!--MD5=[fbc87193dbaf4d95561dea2c320d4a47]\n",
       "cluster E1--><a href=\"psysml:70757ebb-a6cc-427a-a5fd-274a54eae870\" target=\"_top\" title=\"psysml:70757ebb-a6cc-427a-a5fd-274a54eae870\" xlink:actuate=\"onRequest\" xlink:href=\"psysml:70757ebb-a6cc-427a-a5fd-274a54eae870\" xlink:show=\"new\" xlink:title=\"psysml:70757ebb-a6cc-427a-a5fd-274a54eae870\" xlink:type=\"simple\"><polygon fill=\"#FFFFFF\" points=\"16,6,163,6,170,28.2969,517,28.2969,517,167,16,167,16,6\" style=\"stroke: #000000; stroke-width: 1.5;\"/><line style=\"stroke: #000000; stroke-width: 1.5;\" x1=\"16\" x2=\"170\" y1=\"28.2969\" y2=\"28.2969\"/><text fill=\"#000000\" font-family=\"sans-serif\" font-size=\"14\" font-weight=\"bold\" lengthAdjust=\"spacingAndGlyphs\" textLength=\"141\" x=\"20\" y=\"20.9951\">PrivateImportTest</text></a><!--MD5=[e4f7fae6ed58524ba242bb0b0d3be6b7]\n",
       "cluster E2--><a href=\"psysml:9d9a8ea7-31e0-462e-8cd1-90f7e5dc514d\" target=\"_top\" title=\"psysml:9d9a8ea7-31e0-462e-8cd1-90f7e5dc514d\" xlink:actuate=\"onRequest\" xlink:href=\"psysml:9d9a8ea7-31e0-462e-8cd1-90f7e5dc514d\" xlink:show=\"new\" xlink:title=\"psysml:9d9a8ea7-31e0-462e-8cd1-90f7e5dc514d\" xlink:type=\"simple\"><polygon fill=\"#FFFFFF\" points=\"389,49,415,49,422,71.2969,493,71.2969,493,143,389,143,389,49\" style=\"stroke: #000000; stroke-width: 1.5;\"/><line style=\"stroke: #000000; stroke-width: 1.5;\" x1=\"389\" x2=\"422\" y1=\"71.2969\" y2=\"71.2969\"/><text fill=\"#000000\" font-family=\"sans-serif\" font-size=\"14\" font-weight=\"bold\" lengthAdjust=\"spacingAndGlyphs\" textLength=\"20\" x=\"393\" y=\"63.9951\">P1</text></a><!--MD5=[14e3b0961a2654348d326746436168a1]\n",
       "cluster E6--><a href=\"psysml:e8a656ba-c51a-4d2d-932b-ea8b084af9f5\" target=\"_top\" title=\"psysml:e8a656ba-c51a-4d2d-932b-ea8b084af9f5\" xlink:actuate=\"onRequest\" xlink:href=\"psysml:e8a656ba-c51a-4d2d-932b-ea8b084af9f5\" xlink:show=\"new\" xlink:title=\"psysml:e8a656ba-c51a-4d2d-932b-ea8b084af9f5\" xlink:type=\"simple\"><polygon fill=\"#FFFFFF\" points=\"261,49,287,49,294,71.2969,365,71.2969,365,143,261,143,261,49\" style=\"stroke: #000000; stroke-width: 1.5;\"/><line style=\"stroke: #000000; stroke-width: 1.5;\" x1=\"261\" x2=\"294\" y1=\"71.2969\" y2=\"71.2969\"/><text fill=\"#000000\" font-family=\"sans-serif\" font-size=\"14\" font-weight=\"bold\" lengthAdjust=\"spacingAndGlyphs\" textLength=\"20\" x=\"265\" y=\"63.9951\">P3</text></a><g id=\"E1.E2.E3\"><a href=\"psysml:6090619b-e47a-44a4-bc4e-b4be6f2f4926\" target=\"_top\" title=\"psysml:6090619b-e47a-44a4-bc4e-b4be6f2f4926\" xlink:actuate=\"onRequest\" xlink:href=\"psysml:6090619b-e47a-44a4-bc4e-b4be6f2f4926\" xlink:show=\"new\" xlink:title=\"psysml:6090619b-e47a-44a4-bc4e-b4be6f2f4926\" xlink:type=\"simple\"><rect fill=\"#FFFFFF\" height=\"42.9375\" id=\"E3\" style=\"stroke: #383838; stroke-width: 1.5;\" width=\"71\" x=\"405.5\" y=\"84\"/><rect fill=\"#F8F8F8\" height=\"37.9375\" style=\"stroke: #383838; stroke-width: 1.5;\" width=\"71\" x=\"405.5\" y=\"84\"/><text fill=\"#000000\" font-family=\"sans-serif\" font-size=\"12\" font-style=\"italic\" lengthAdjust=\"spacingAndGlyphs\" textLength=\"64\" x=\"409\" y=\"100.1387\">«part def»</text><text fill=\"#000000\" font-family=\"sans-serif\" font-size=\"12\" lengthAdjust=\"spacingAndGlyphs\" textLength=\"8\" x=\"437\" y=\"114.1074\">A</text></a></g><a href=\"psysml:2344491a-e19a-447d-a12e-1e886a7ea509\" target=\"_top\" title=\"psysml:2344491a-e19a-447d-a12e-1e886a7ea509\" xlink:actuate=\"onRequest\" xlink:href=\"psysml:2344491a-e19a-447d-a12e-1e886a7ea509\" xlink:show=\"new\" xlink:title=\"psysml:2344491a-e19a-447d-a12e-1e886a7ea509\" xlink:type=\"simple\"><polygon fill=\"#FFFFFF\" points=\"202,79,228,79,235,101.2969,242,101.2969,242,131.5938,202,131.5938,202,79\" style=\"stroke: #000000; stroke-width: 1.5;\"/><line style=\"stroke: #000000; stroke-width: 1.5;\" x1=\"202\" x2=\"235\" y1=\"101.2969\" y2=\"101.2969\"/><text fill=\"#000000\" font-family=\"sans-serif\" font-size=\"14\" font-weight=\"bold\" lengthAdjust=\"spacingAndGlyphs\" textLength=\"20\" x=\"206\" y=\"93.9951\">P2</text></a><g id=\"E1.E5\"><a href=\"psysml:794b889b-8918-46e8-9c14-cb61e0d8a2ea\" target=\"_top\" title=\"psysml:794b889b-8918-46e8-9c14-cb61e0d8a2ea\" xlink:actuate=\"onRequest\" xlink:href=\"psysml:794b889b-8918-46e8-9c14-cb61e0d8a2ea\" xlink:show=\"new\" xlink:title=\"psysml:794b889b-8918-46e8-9c14-cb61e0d8a2ea\" xlink:type=\"simple\"><rect fill=\"#FFFFFF\" height=\"40\" id=\"E5\" rx=\"10\" ry=\"10\" style=\"stroke: #383838; stroke-width: 1.5;\" width=\"50\" x=\"117\" y=\"85.5\"/><rect fill=\"#F8F8F8\" height=\"23.9688\" rx=\"10\" ry=\"10\" style=\"stroke: #F8F8F8; stroke-width: 1.5;\" width=\"50\" x=\"117\" y=\"85.5\"/><rect fill=\"#F8F8F8\" height=\"10\" style=\"stroke: #F8F8F8; stroke-width: 1.5;\" width=\"50\" x=\"117\" y=\"99.4688\"/><rect fill=\"none\" height=\"40\" id=\"E5\" rx=\"10\" ry=\"10\" style=\"stroke: #383838; stroke-width: 1.5;\" width=\"50\" x=\"117\" y=\"85.5\"/><text fill=\"#000000\" font-family=\"sans-serif\" font-size=\"12\" lengthAdjust=\"spacingAndGlyphs\" textLength=\"22\" x=\"131\" y=\"101.6387\">x: A</text></a></g><g id=\"E1.E6.E7\"><a href=\"psysml:9e432445-55c9-4726-a95f-4e15b991b53a\" target=\"_top\" title=\"psysml:9e432445-55c9-4726-a95f-4e15b991b53a\" xlink:actuate=\"onRequest\" xlink:href=\"psysml:9e432445-55c9-4726-a95f-4e15b991b53a\" xlink:show=\"new\" xlink:title=\"psysml:9e432445-55c9-4726-a95f-4e15b991b53a\" xlink:type=\"simple\"><rect fill=\"#FFFFFF\" height=\"42.9375\" id=\"E7\" style=\"stroke: #383838; stroke-width: 1.5;\" width=\"71\" x=\"277.5\" y=\"84\"/><rect fill=\"#F8F8F8\" height=\"37.9375\" style=\"stroke: #383838; stroke-width: 1.5;\" width=\"71\" x=\"277.5\" y=\"84\"/><text fill=\"#000000\" font-family=\"sans-serif\" font-size=\"12\" font-style=\"italic\" lengthAdjust=\"spacingAndGlyphs\" textLength=\"64\" x=\"281\" y=\"100.1387\">«part def»</text><text fill=\"#000000\" font-family=\"sans-serif\" font-size=\"12\" lengthAdjust=\"spacingAndGlyphs\" textLength=\"8\" x=\"309\" y=\"114.1074\">B</text></a></g><g id=\"E1.E8\"><a href=\"psysml:553a92d0-50bf-477b-b2ce-bf491dd9a415\" target=\"_top\" title=\"psysml:553a92d0-50bf-477b-b2ce-bf491dd9a415\" xlink:actuate=\"onRequest\" xlink:href=\"psysml:553a92d0-50bf-477b-b2ce-bf491dd9a415\" xlink:show=\"new\" xlink:title=\"psysml:553a92d0-50bf-477b-b2ce-bf491dd9a415\" xlink:type=\"simple\"><rect fill=\"#FFFFFF\" height=\"40\" id=\"E8\" rx=\"10\" ry=\"10\" style=\"stroke: #383838; stroke-width: 1.5;\" width=\"50\" x=\"32\" y=\"85.5\"/><rect fill=\"#F8F8F8\" height=\"23.9688\" rx=\"10\" ry=\"10\" style=\"stroke: #F8F8F8; stroke-width: 1.5;\" width=\"50\" x=\"32\" y=\"85.5\"/><rect fill=\"#F8F8F8\" height=\"10\" style=\"stroke: #F8F8F8; stroke-width: 1.5;\" width=\"50\" x=\"32\" y=\"99.4688\"/><rect fill=\"none\" height=\"40\" id=\"E8\" rx=\"10\" ry=\"10\" style=\"stroke: #383838; stroke-width: 1.5;\" width=\"50\" x=\"32\" y=\"85.5\"/><text fill=\"#000000\" font-family=\"sans-serif\" font-size=\"12\" lengthAdjust=\"spacingAndGlyphs\" textLength=\"21\" x=\"46.5\" y=\"101.6387\">z: B</text></a></g><!--MD5=[79973cb6b6c0068e2c17239f37067494]\n",
       "@startuml\r\n",
       "skinparam ranksep 8\r\n",
       "skinparam rectangle {\r\n",
       " backgroundColor<<block>> LightGreen\r\n",
       "}\r\n",
       "top to bottom direction\r\n",
       "skinparam monochrome true\r\n",
       "skinparam classbackgroundcolor white\r\n",
       "skinparam shadowing false\r\n",
       "skinparam wrapWidth 300\r\n",
       "hide circle\r\n",
       "\r\n",
       "package \"PrivateImportTest\" as E1  [[psysml:70757ebb-a6cc-427a-a5fd-274a54eae870 ]]  {\r\n",
       "package \"P1\" as E2  [[psysml:9d9a8ea7-31e0-462e-8cd1-90f7e5dc514d ]]  {\r\n",
       "rec def \"A\" as E3  <<(T,blue)part def>> [[psysml:6090619b-e47a-44a4-bc4e-b4be6f2f4926 ]] {\r\n",
       "}\r\n",
       "}\r\n",
       "package \"P2\" as E4  [[psysml:2344491a-e19a-447d-a12e-1e886a7ea509 ]]  {\r\n",
       "}\r\n",
       "rec usage \"x: A\" as E5  [[psysml:794b889b-8918-46e8-9c14-cb61e0d8a2ea ]] {\r\n",
       "}\r\n",
       "package \"P3\" as E6  [[psysml:e8a656ba-c51a-4d2d-932b-ea8b084af9f5 ]]  {\r\n",
       "rec def \"B\" as E7  <<(T,blue)part def>> [[psysml:9e432445-55c9-4726-a95f-4e15b991b53a ]] {\r\n",
       "}\r\n",
       "}\r\n",
       "rec usage \"z: B\" as E8  [[psysml:553a92d0-50bf-477b-b2ce-bf491dd9a415 ]] {\r\n",
       "}\r\n",
       "}\r\n",
       "@enduml\r\n",
       "\n",
       "PlantUML version 1.2020.13(Sat Jun 13 12:26:38 UTC 2020)\n",
       "(EPL source distribution)\n",
       "Java Runtime: OpenJDK Runtime Environment\n",
       "JVM: OpenJDK 64-Bit Server VM\n",
       "Default Encoding: UTF-8\n",
       "Language: en\n",
       "Country: null\n",
       "--></g></svg>"
      ]
     },
     "execution_count": 47,
     "metadata": {},
     "output_type": "execute_result"
    }
   ],
   "source": [
    "%viz --style=\"TB\" --view=\"Interconnection\" \"PrivateImportTest\""
   ]
  },
  {
   "cell_type": "code",
   "execution_count": 48,
   "id": "frequent-comedy",
   "metadata": {
    "execution": {
     "iopub.execute_input": "2021-03-25T15:01:20.340574Z",
     "iopub.status.busy": "2021-03-25T15:01:20.340103Z",
     "iopub.status.idle": "2021-03-25T15:01:20.348985Z",
     "shell.execute_reply": "2021-03-25T15:01:20.348585Z"
    }
   },
   "outputs": [
    {
     "data": {
      "image/svg+xml": [
       "<?xml version=\"1.0\" encoding=\"UTF-8\" standalone=\"no\"?><svg xmlns=\"http://www.w3.org/2000/svg\" xmlns:xlink=\"http://www.w3.org/1999/xlink\" contentScriptType=\"application/ecmascript\" contentStyleType=\"text/css\" height=\"12px\" preserveAspectRatio=\"none\" style=\"width:12px;height:12px;\" version=\"1.1\" viewBox=\"0 0 12 12\" width=\"12px\" zoomAndPan=\"magnify\"><defs/><g><!--MD5=[06afc254b03ac5e9d9fb7773b07d0800]\n",
       "@startuml\r\n",
       "skinparam ranksep 8\r\n",
       "top to bottom direction\r\n",
       "skinparam monochrome true\r\n",
       "skinparam classbackgroundcolor white\r\n",
       "skinparam shadowing false\r\n",
       "skinparam wrapWidth 300\r\n",
       "hide circle\r\n",
       "\r\n",
       "@enduml\r\n",
       "\n",
       "PlantUML version 1.2020.13(Sat Jun 13 12:26:38 UTC 2020)\n",
       "(EPL source distribution)\n",
       "Java Runtime: OpenJDK Runtime Environment\n",
       "JVM: OpenJDK 64-Bit Server VM\n",
       "Default Encoding: UTF-8\n",
       "Language: en\n",
       "Country: null\n",
       "--></g></svg>"
      ]
     },
     "execution_count": 48,
     "metadata": {},
     "output_type": "execute_result"
    }
   ],
   "source": [
    "%viz --style=\"TB\" --view=\"Action\" \"PrivateImportTest\""
   ]
  },
  {
   "cell_type": "code",
   "execution_count": 49,
   "id": "fabulous-engine",
   "metadata": {
    "execution": {
     "iopub.execute_input": "2021-03-25T15:01:20.399289Z",
     "iopub.status.busy": "2021-03-25T15:01:20.398816Z",
     "iopub.status.idle": "2021-03-25T15:01:20.480519Z",
     "shell.execute_reply": "2021-03-25T15:01:20.480978Z"
    }
   },
   "outputs": [
    {
     "data": {
      "image/svg+xml": [
       "<?xml version=\"1.0\" encoding=\"UTF-8\" standalone=\"no\"?><svg xmlns=\"http://www.w3.org/2000/svg\" xmlns:xlink=\"http://www.w3.org/1999/xlink\" contentScriptType=\"application/ecmascript\" contentStyleType=\"text/css\" height=\"252px\" preserveAspectRatio=\"none\" style=\"width:306px;height:252px;\" version=\"1.1\" viewBox=\"0 0 306 252\" width=\"306px\" zoomAndPan=\"magnify\"><defs/><g><!--MD5=[fbc87193dbaf4d95561dea2c320d4a47]\n",
       "cluster E1--><a href=\"psysml:70757ebb-a6cc-427a-a5fd-274a54eae870\" target=\"_top\" title=\"psysml:70757ebb-a6cc-427a-a5fd-274a54eae870\" xlink:actuate=\"onRequest\" xlink:href=\"psysml:70757ebb-a6cc-427a-a5fd-274a54eae870\" xlink:show=\"new\" xlink:title=\"psysml:70757ebb-a6cc-427a-a5fd-274a54eae870\" xlink:type=\"simple\"><polygon fill=\"#FFFFFF\" points=\"16,6,163,6,170,28.2969,284,28.2969,284,240,16,240,16,6\" style=\"stroke: #000000; stroke-width: 1.5;\"/><line style=\"stroke: #000000; stroke-width: 1.5;\" x1=\"16\" x2=\"170\" y1=\"28.2969\" y2=\"28.2969\"/><text fill=\"#000000\" font-family=\"sans-serif\" font-size=\"14\" font-weight=\"bold\" lengthAdjust=\"spacingAndGlyphs\" textLength=\"141\" x=\"20\" y=\"20.9951\">PrivateImportTest</text></a><!--MD5=[e4f7fae6ed58524ba242bb0b0d3be6b7]\n",
       "cluster E2--><a href=\"psysml:9d9a8ea7-31e0-462e-8cd1-90f7e5dc514d\" target=\"_top\" title=\"psysml:9d9a8ea7-31e0-462e-8cd1-90f7e5dc514d\" xlink:actuate=\"onRequest\" xlink:href=\"psysml:9d9a8ea7-31e0-462e-8cd1-90f7e5dc514d\" xlink:show=\"new\" xlink:title=\"psysml:9d9a8ea7-31e0-462e-8cd1-90f7e5dc514d\" xlink:type=\"simple\"><polygon fill=\"#FFFFFF\" points=\"162,119,188,119,195,141.2969,260,141.2969,260,216,162,216,162,119\" style=\"stroke: #000000; stroke-width: 1.5;\"/><line style=\"stroke: #000000; stroke-width: 1.5;\" x1=\"162\" x2=\"195\" y1=\"141.2969\" y2=\"141.2969\"/><text fill=\"#000000\" font-family=\"sans-serif\" font-size=\"14\" font-weight=\"bold\" lengthAdjust=\"spacingAndGlyphs\" textLength=\"20\" x=\"166\" y=\"133.9951\">P1</text></a><!--MD5=[14e3b0961a2654348d326746436168a1]\n",
       "cluster E6--><a href=\"psysml:e8a656ba-c51a-4d2d-932b-ea8b084af9f5\" target=\"_top\" title=\"psysml:e8a656ba-c51a-4d2d-932b-ea8b084af9f5\" xlink:actuate=\"onRequest\" xlink:href=\"psysml:e8a656ba-c51a-4d2d-932b-ea8b084af9f5\" xlink:show=\"new\" xlink:title=\"psysml:e8a656ba-c51a-4d2d-932b-ea8b084af9f5\" xlink:type=\"simple\"><polygon fill=\"#FFFFFF\" points=\"40,119,66,119,73,141.2969,138,141.2969,138,216,40,216,40,119\" style=\"stroke: #000000; stroke-width: 1.5;\"/><line style=\"stroke: #000000; stroke-width: 1.5;\" x1=\"40\" x2=\"73\" y1=\"141.2969\" y2=\"141.2969\"/><text fill=\"#000000\" font-family=\"sans-serif\" font-size=\"14\" font-weight=\"bold\" lengthAdjust=\"spacingAndGlyphs\" textLength=\"20\" x=\"44\" y=\"133.9951\">P3</text></a><!--MD5=[270fce915f116d4de14055a7c1d9a0f3]\n",
       "class E5--><a href=\"psysml:794b889b-8918-46e8-9c14-cb61e0d8a2ea\" target=\"_top\" title=\"psysml:794b889b-8918-46e8-9c14-cb61e0d8a2ea\" xlink:actuate=\"onRequest\" xlink:href=\"psysml:794b889b-8918-46e8-9c14-cb61e0d8a2ea\" xlink:show=\"new\" xlink:title=\"psysml:794b889b-8918-46e8-9c14-cb61e0d8a2ea\" xlink:type=\"simple\"><rect fill=\"#FFFFFF\" height=\"45.9375\" id=\"E5\" rx=\"10\" ry=\"10\" style=\"stroke: #383838; stroke-width: 1.5;\" width=\"42\" x=\"190\" y=\"44.5\"/><text fill=\"#000000\" font-family=\"sans-serif\" font-size=\"12\" font-style=\"italic\" lengthAdjust=\"spacingAndGlyphs\" textLength=\"40\" x=\"191\" y=\"60.6387\">«part»</text><text fill=\"#000000\" font-family=\"sans-serif\" font-size=\"12\" lengthAdjust=\"spacingAndGlyphs\" textLength=\"22\" x=\"200\" y=\"74.6074\">x: A</text><line style=\"stroke: #383838; stroke-width: 1.5;\" x1=\"191\" x2=\"231\" y1=\"82.4375\" y2=\"82.4375\"/></a><!--MD5=[b9389687b975829384b498ac4b7476b2]\n",
       "class E8--><a href=\"psysml:553a92d0-50bf-477b-b2ce-bf491dd9a415\" target=\"_top\" title=\"psysml:553a92d0-50bf-477b-b2ce-bf491dd9a415\" xlink:actuate=\"onRequest\" xlink:href=\"psysml:553a92d0-50bf-477b-b2ce-bf491dd9a415\" xlink:show=\"new\" xlink:title=\"psysml:553a92d0-50bf-477b-b2ce-bf491dd9a415\" xlink:type=\"simple\"><rect fill=\"#FFFFFF\" height=\"45.9375\" id=\"E8\" rx=\"10\" ry=\"10\" style=\"stroke: #383838; stroke-width: 1.5;\" width=\"42\" x=\"107\" y=\"44.5\"/><text fill=\"#000000\" font-family=\"sans-serif\" font-size=\"12\" font-style=\"italic\" lengthAdjust=\"spacingAndGlyphs\" textLength=\"40\" x=\"108\" y=\"60.6387\">«part»</text><text fill=\"#000000\" font-family=\"sans-serif\" font-size=\"12\" lengthAdjust=\"spacingAndGlyphs\" textLength=\"21\" x=\"117.5\" y=\"74.6074\">z: B</text><line style=\"stroke: #383838; stroke-width: 1.5;\" x1=\"108\" x2=\"148\" y1=\"82.4375\" y2=\"82.4375\"/></a><!--MD5=[09b614a08d8cba4a07c9adeb5e0fee81]\n",
       "class E3--><a href=\"psysml:6090619b-e47a-44a4-bc4e-b4be6f2f4926\" target=\"_top\" title=\"psysml:6090619b-e47a-44a4-bc4e-b4be6f2f4926\" xlink:actuate=\"onRequest\" xlink:href=\"psysml:6090619b-e47a-44a4-bc4e-b4be6f2f4926\" xlink:show=\"new\" xlink:title=\"psysml:6090619b-e47a-44a4-bc4e-b4be6f2f4926\" xlink:type=\"simple\"><rect fill=\"#FFFFFF\" height=\"45.9375\" id=\"E3\" style=\"stroke: #383838; stroke-width: 1.5;\" width=\"66\" x=\"178\" y=\"154\"/><text fill=\"#000000\" font-family=\"sans-serif\" font-size=\"12\" font-style=\"italic\" lengthAdjust=\"spacingAndGlyphs\" textLength=\"64\" x=\"179\" y=\"170.1387\">«part def»</text><text fill=\"#000000\" font-family=\"sans-serif\" font-size=\"12\" lengthAdjust=\"spacingAndGlyphs\" textLength=\"8\" x=\"207\" y=\"184.1074\">A</text><line style=\"stroke: #383838; stroke-width: 1.5;\" x1=\"179\" x2=\"243\" y1=\"191.9375\" y2=\"191.9375\"/></a><a href=\"psysml:2344491a-e19a-447d-a12e-1e886a7ea509\" target=\"_top\" title=\"psysml:2344491a-e19a-447d-a12e-1e886a7ea509\" xlink:actuate=\"onRequest\" xlink:href=\"psysml:2344491a-e19a-447d-a12e-1e886a7ea509\" xlink:show=\"new\" xlink:title=\"psysml:2344491a-e19a-447d-a12e-1e886a7ea509\" xlink:type=\"simple\"><polygon fill=\"#FFFFFF\" points=\"32,41,58,41,65,63.2969,72,63.2969,72,93.5938,32,93.5938,32,41\" style=\"stroke: #000000; stroke-width: 1.5;\"/><line style=\"stroke: #000000; stroke-width: 1.5;\" x1=\"32\" x2=\"65\" y1=\"63.2969\" y2=\"63.2969\"/><text fill=\"#000000\" font-family=\"sans-serif\" font-size=\"14\" font-weight=\"bold\" lengthAdjust=\"spacingAndGlyphs\" textLength=\"20\" x=\"36\" y=\"55.9951\">P2</text></a><!--MD5=[2156ba9850f5573cc1fc38a6a4b2f02b]\n",
       "class E7--><a href=\"psysml:9e432445-55c9-4726-a95f-4e15b991b53a\" target=\"_top\" title=\"psysml:9e432445-55c9-4726-a95f-4e15b991b53a\" xlink:actuate=\"onRequest\" xlink:href=\"psysml:9e432445-55c9-4726-a95f-4e15b991b53a\" xlink:show=\"new\" xlink:title=\"psysml:9e432445-55c9-4726-a95f-4e15b991b53a\" xlink:type=\"simple\"><rect fill=\"#FFFFFF\" height=\"45.9375\" id=\"E7\" style=\"stroke: #383838; stroke-width: 1.5;\" width=\"66\" x=\"56\" y=\"154\"/><text fill=\"#000000\" font-family=\"sans-serif\" font-size=\"12\" font-style=\"italic\" lengthAdjust=\"spacingAndGlyphs\" textLength=\"64\" x=\"57\" y=\"170.1387\">«part def»</text><text fill=\"#000000\" font-family=\"sans-serif\" font-size=\"12\" lengthAdjust=\"spacingAndGlyphs\" textLength=\"8\" x=\"85\" y=\"184.1074\">B</text><line style=\"stroke: #383838; stroke-width: 1.5;\" x1=\"57\" x2=\"121\" y1=\"191.9375\" y2=\"191.9375\"/></a><!--MD5=[e9be52314489bd878ff4c7144b63c9e1]\n",
       "link E5 to E3--><a href=\"psysml:d9b9f238-e6f4-4810-bb41-4cf78560774c\" target=\"_top\" title=\"psysml:d9b9f238-e6f4-4810-bb41-4cf78560774c\" xlink:actuate=\"onRequest\" xlink:href=\"psysml:d9b9f238-e6f4-4810-bb41-4cf78560774c\" xlink:show=\"new\" xlink:title=\"psysml:d9b9f238-e6f4-4810-bb41-4cf78560774c\" xlink:type=\"simple\"><path d=\"M211,90.51 C211,102.89 211,118.78 211,133.48 \" fill=\"none\" id=\"E5-&gt;E3\" style=\"stroke: #383838; stroke-width: 1.0;\"/><polygon fill=\"#FFFFFF\" points=\"211,153.65,204,134.65,218,134.65,211,153.65\" style=\"stroke: #383838; stroke-width: 1.0;\"/><ellipse cx=\"206\" cy=\"128.95\" fill=\"#383838\" rx=\"2\" ry=\"2\" style=\"stroke: #383838; stroke-width: 1.0;\"/><ellipse cx=\"216\" cy=\"128.95\" fill=\"#383838\" rx=\"2\" ry=\"2\" style=\"stroke: #383838; stroke-width: 1.0;\"/></a><!--MD5=[bfa3c8b0d15052fdf50ae9310b491027]\n",
       "link E8 to E7--><a href=\"psysml:a13a28be-1001-42f5-9632-37667c0baf51\" target=\"_top\" title=\"psysml:a13a28be-1001-42f5-9632-37667c0baf51\" xlink:actuate=\"onRequest\" xlink:href=\"psysml:a13a28be-1001-42f5-9632-37667c0baf51\" xlink:show=\"new\" xlink:title=\"psysml:a13a28be-1001-42f5-9632-37667c0baf51\" xlink:type=\"simple\"><path d=\"M120.01,90.51 C115.39,103.25 109.42,119.7 103.96,134.76 \" fill=\"none\" id=\"E8-&gt;E7\" style=\"stroke: #383838; stroke-width: 1.0;\"/><polygon fill=\"#FFFFFF\" points=\"97.11,153.65,97.0036,133.4018,110.1656,138.1726,97.11,153.65\" style=\"stroke: #383838; stroke-width: 1.0;\"/><ellipse cx=\"100.8262\" cy=\"128.7245\" fill=\"#383838\" rx=\"2\" ry=\"2\" style=\"stroke: #383838; stroke-width: 1.0;\"/><ellipse cx=\"110.2277\" cy=\"132.1322\" fill=\"#383838\" rx=\"2\" ry=\"2\" style=\"stroke: #383838; stroke-width: 1.0;\"/></a><!--MD5=[3b0380a6f4be09f78bcd6cf642ef48d6]\n",
       "@startuml\r\n",
       "top to bottom direction\r\n",
       "skinparam monochrome true\r\n",
       "skinparam classbackgroundcolor white\r\n",
       "skinparam shadowing false\r\n",
       "skinparam wrapWidth 300\r\n",
       "hide circle\r\n",
       "\r\n",
       "package \"PrivateImportTest\" as E1  [[psysml:70757ebb-a6cc-427a-a5fd-274a54eae870 ]]  {\r\n",
       "package \"P1\" as E2  [[psysml:9d9a8ea7-31e0-462e-8cd1-90f7e5dc514d ]]  {\r\n",
       "comp def \"A\" as E3  <<(T,blue)part def>> [[psysml:6090619b-e47a-44a4-bc4e-b4be6f2f4926 ]] {\r\n",
       "}\r\n",
       "}\r\n",
       "package \"P2\" as E4  [[psysml:2344491a-e19a-447d-a12e-1e886a7ea509 ]]  {\r\n",
       "}\r\n",
       "comp usage \"x: A\" as E5  <<(T,blue)part>> [[psysml:794b889b-8918-46e8-9c14-cb61e0d8a2ea ]] {\r\n",
       "}\r\n",
       "package \"P3\" as E6  [[psysml:e8a656ba-c51a-4d2d-932b-ea8b084af9f5 ]]  {\r\n",
       "comp def \"B\" as E7  <<(T,blue)part def>> [[psysml:9e432445-55c9-4726-a95f-4e15b991b53a ]] {\r\n",
       "}\r\n",
       "E5 - -:|> E3 [[psysml:d9b9f238-e6f4-4810-bb41-4cf78560774c ]] \r\n",
       "}\r\n",
       "comp usage \"z: B\" as E8  <<(T,blue)part>> [[psysml:553a92d0-50bf-477b-b2ce-bf491dd9a415 ]] {\r\n",
       "}\r\n",
       "E8 - -:|> E7 [[psysml:a13a28be-1001-42f5-9632-37667c0baf51 ]] \r\n",
       "}\r\n",
       "@enduml\r\n",
       "\n",
       "PlantUML version 1.2020.13(Sat Jun 13 12:26:38 UTC 2020)\n",
       "(EPL source distribution)\n",
       "Java Runtime: OpenJDK Runtime Environment\n",
       "JVM: OpenJDK 64-Bit Server VM\n",
       "Default Encoding: UTF-8\n",
       "Language: en\n",
       "Country: null\n",
       "--></g></svg>"
      ]
     },
     "execution_count": 49,
     "metadata": {},
     "output_type": "execute_result"
    }
   ],
   "source": [
    "%viz --style=\"TB\" --view=\"Sequence\" \"PrivateImportTest\""
   ]
  },
  {
   "cell_type": "code",
   "execution_count": 50,
   "id": "happy-uncle",
   "metadata": {
    "execution": {
     "iopub.execute_input": "2021-03-25T15:01:20.532196Z",
     "iopub.status.busy": "2021-03-25T15:01:20.531289Z",
     "iopub.status.idle": "2021-03-25T15:01:20.607486Z",
     "shell.execute_reply": "2021-03-25T15:01:20.605212Z"
    }
   },
   "outputs": [
    {
     "data": {
      "image/svg+xml": [
       "<?xml version=\"1.0\" encoding=\"UTF-8\" standalone=\"no\"?><svg xmlns=\"http://www.w3.org/2000/svg\" xmlns:xlink=\"http://www.w3.org/1999/xlink\" contentScriptType=\"application/ecmascript\" contentStyleType=\"text/css\" height=\"252px\" preserveAspectRatio=\"none\" style=\"width:306px;height:252px;\" version=\"1.1\" viewBox=\"0 0 306 252\" width=\"306px\" zoomAndPan=\"magnify\"><defs/><g><!--MD5=[fbc87193dbaf4d95561dea2c320d4a47]\n",
       "cluster E1--><a href=\"psysml:70757ebb-a6cc-427a-a5fd-274a54eae870\" target=\"_top\" title=\"psysml:70757ebb-a6cc-427a-a5fd-274a54eae870\" xlink:actuate=\"onRequest\" xlink:href=\"psysml:70757ebb-a6cc-427a-a5fd-274a54eae870\" xlink:show=\"new\" xlink:title=\"psysml:70757ebb-a6cc-427a-a5fd-274a54eae870\" xlink:type=\"simple\"><polygon fill=\"#FFFFFF\" points=\"16,6,163,6,170,28.2969,284,28.2969,284,240,16,240,16,6\" style=\"stroke: #000000; stroke-width: 1.5;\"/><line style=\"stroke: #000000; stroke-width: 1.5;\" x1=\"16\" x2=\"170\" y1=\"28.2969\" y2=\"28.2969\"/><text fill=\"#000000\" font-family=\"sans-serif\" font-size=\"14\" font-weight=\"bold\" lengthAdjust=\"spacingAndGlyphs\" textLength=\"141\" x=\"20\" y=\"20.9951\">PrivateImportTest</text></a><!--MD5=[e4f7fae6ed58524ba242bb0b0d3be6b7]\n",
       "cluster E2--><a href=\"psysml:9d9a8ea7-31e0-462e-8cd1-90f7e5dc514d\" target=\"_top\" title=\"psysml:9d9a8ea7-31e0-462e-8cd1-90f7e5dc514d\" xlink:actuate=\"onRequest\" xlink:href=\"psysml:9d9a8ea7-31e0-462e-8cd1-90f7e5dc514d\" xlink:show=\"new\" xlink:title=\"psysml:9d9a8ea7-31e0-462e-8cd1-90f7e5dc514d\" xlink:type=\"simple\"><polygon fill=\"#FFFFFF\" points=\"162,119,188,119,195,141.2969,260,141.2969,260,216,162,216,162,119\" style=\"stroke: #000000; stroke-width: 1.5;\"/><line style=\"stroke: #000000; stroke-width: 1.5;\" x1=\"162\" x2=\"195\" y1=\"141.2969\" y2=\"141.2969\"/><text fill=\"#000000\" font-family=\"sans-serif\" font-size=\"14\" font-weight=\"bold\" lengthAdjust=\"spacingAndGlyphs\" textLength=\"20\" x=\"166\" y=\"133.9951\">P1</text></a><!--MD5=[14e3b0961a2654348d326746436168a1]\n",
       "cluster E6--><a href=\"psysml:e8a656ba-c51a-4d2d-932b-ea8b084af9f5\" target=\"_top\" title=\"psysml:e8a656ba-c51a-4d2d-932b-ea8b084af9f5\" xlink:actuate=\"onRequest\" xlink:href=\"psysml:e8a656ba-c51a-4d2d-932b-ea8b084af9f5\" xlink:show=\"new\" xlink:title=\"psysml:e8a656ba-c51a-4d2d-932b-ea8b084af9f5\" xlink:type=\"simple\"><polygon fill=\"#FFFFFF\" points=\"40,119,66,119,73,141.2969,138,141.2969,138,216,40,216,40,119\" style=\"stroke: #000000; stroke-width: 1.5;\"/><line style=\"stroke: #000000; stroke-width: 1.5;\" x1=\"40\" x2=\"73\" y1=\"141.2969\" y2=\"141.2969\"/><text fill=\"#000000\" font-family=\"sans-serif\" font-size=\"14\" font-weight=\"bold\" lengthAdjust=\"spacingAndGlyphs\" textLength=\"20\" x=\"44\" y=\"133.9951\">P3</text></a><!--MD5=[270fce915f116d4de14055a7c1d9a0f3]\n",
       "class E5--><a href=\"psysml:794b889b-8918-46e8-9c14-cb61e0d8a2ea\" target=\"_top\" title=\"psysml:794b889b-8918-46e8-9c14-cb61e0d8a2ea\" xlink:actuate=\"onRequest\" xlink:href=\"psysml:794b889b-8918-46e8-9c14-cb61e0d8a2ea\" xlink:show=\"new\" xlink:title=\"psysml:794b889b-8918-46e8-9c14-cb61e0d8a2ea\" xlink:type=\"simple\"><rect fill=\"#FFFFFF\" height=\"45.9375\" id=\"E5\" rx=\"10\" ry=\"10\" style=\"stroke: #383838; stroke-width: 1.5;\" width=\"42\" x=\"190\" y=\"44.5\"/><text fill=\"#000000\" font-family=\"sans-serif\" font-size=\"12\" font-style=\"italic\" lengthAdjust=\"spacingAndGlyphs\" textLength=\"40\" x=\"191\" y=\"60.6387\">«part»</text><text fill=\"#000000\" font-family=\"sans-serif\" font-size=\"12\" lengthAdjust=\"spacingAndGlyphs\" textLength=\"22\" x=\"200\" y=\"74.6074\">x: A</text><line style=\"stroke: #383838; stroke-width: 1.5;\" x1=\"191\" x2=\"231\" y1=\"82.4375\" y2=\"82.4375\"/></a><!--MD5=[b9389687b975829384b498ac4b7476b2]\n",
       "class E8--><a href=\"psysml:553a92d0-50bf-477b-b2ce-bf491dd9a415\" target=\"_top\" title=\"psysml:553a92d0-50bf-477b-b2ce-bf491dd9a415\" xlink:actuate=\"onRequest\" xlink:href=\"psysml:553a92d0-50bf-477b-b2ce-bf491dd9a415\" xlink:show=\"new\" xlink:title=\"psysml:553a92d0-50bf-477b-b2ce-bf491dd9a415\" xlink:type=\"simple\"><rect fill=\"#FFFFFF\" height=\"45.9375\" id=\"E8\" rx=\"10\" ry=\"10\" style=\"stroke: #383838; stroke-width: 1.5;\" width=\"42\" x=\"107\" y=\"44.5\"/><text fill=\"#000000\" font-family=\"sans-serif\" font-size=\"12\" font-style=\"italic\" lengthAdjust=\"spacingAndGlyphs\" textLength=\"40\" x=\"108\" y=\"60.6387\">«part»</text><text fill=\"#000000\" font-family=\"sans-serif\" font-size=\"12\" lengthAdjust=\"spacingAndGlyphs\" textLength=\"21\" x=\"117.5\" y=\"74.6074\">z: B</text><line style=\"stroke: #383838; stroke-width: 1.5;\" x1=\"108\" x2=\"148\" y1=\"82.4375\" y2=\"82.4375\"/></a><!--MD5=[09b614a08d8cba4a07c9adeb5e0fee81]\n",
       "class E3--><a href=\"psysml:6090619b-e47a-44a4-bc4e-b4be6f2f4926\" target=\"_top\" title=\"psysml:6090619b-e47a-44a4-bc4e-b4be6f2f4926\" xlink:actuate=\"onRequest\" xlink:href=\"psysml:6090619b-e47a-44a4-bc4e-b4be6f2f4926\" xlink:show=\"new\" xlink:title=\"psysml:6090619b-e47a-44a4-bc4e-b4be6f2f4926\" xlink:type=\"simple\"><rect fill=\"#FFFFFF\" height=\"45.9375\" id=\"E3\" style=\"stroke: #383838; stroke-width: 1.5;\" width=\"66\" x=\"178\" y=\"154\"/><text fill=\"#000000\" font-family=\"sans-serif\" font-size=\"12\" font-style=\"italic\" lengthAdjust=\"spacingAndGlyphs\" textLength=\"64\" x=\"179\" y=\"170.1387\">«part def»</text><text fill=\"#000000\" font-family=\"sans-serif\" font-size=\"12\" lengthAdjust=\"spacingAndGlyphs\" textLength=\"8\" x=\"207\" y=\"184.1074\">A</text><line style=\"stroke: #383838; stroke-width: 1.5;\" x1=\"179\" x2=\"243\" y1=\"191.9375\" y2=\"191.9375\"/></a><a href=\"psysml:2344491a-e19a-447d-a12e-1e886a7ea509\" target=\"_top\" title=\"psysml:2344491a-e19a-447d-a12e-1e886a7ea509\" xlink:actuate=\"onRequest\" xlink:href=\"psysml:2344491a-e19a-447d-a12e-1e886a7ea509\" xlink:show=\"new\" xlink:title=\"psysml:2344491a-e19a-447d-a12e-1e886a7ea509\" xlink:type=\"simple\"><polygon fill=\"#FFFFFF\" points=\"32,41,58,41,65,63.2969,72,63.2969,72,93.5938,32,93.5938,32,41\" style=\"stroke: #000000; stroke-width: 1.5;\"/><line style=\"stroke: #000000; stroke-width: 1.5;\" x1=\"32\" x2=\"65\" y1=\"63.2969\" y2=\"63.2969\"/><text fill=\"#000000\" font-family=\"sans-serif\" font-size=\"14\" font-weight=\"bold\" lengthAdjust=\"spacingAndGlyphs\" textLength=\"20\" x=\"36\" y=\"55.9951\">P2</text></a><!--MD5=[2156ba9850f5573cc1fc38a6a4b2f02b]\n",
       "class E7--><a href=\"psysml:9e432445-55c9-4726-a95f-4e15b991b53a\" target=\"_top\" title=\"psysml:9e432445-55c9-4726-a95f-4e15b991b53a\" xlink:actuate=\"onRequest\" xlink:href=\"psysml:9e432445-55c9-4726-a95f-4e15b991b53a\" xlink:show=\"new\" xlink:title=\"psysml:9e432445-55c9-4726-a95f-4e15b991b53a\" xlink:type=\"simple\"><rect fill=\"#FFFFFF\" height=\"45.9375\" id=\"E7\" style=\"stroke: #383838; stroke-width: 1.5;\" width=\"66\" x=\"56\" y=\"154\"/><text fill=\"#000000\" font-family=\"sans-serif\" font-size=\"12\" font-style=\"italic\" lengthAdjust=\"spacingAndGlyphs\" textLength=\"64\" x=\"57\" y=\"170.1387\">«part def»</text><text fill=\"#000000\" font-family=\"sans-serif\" font-size=\"12\" lengthAdjust=\"spacingAndGlyphs\" textLength=\"8\" x=\"85\" y=\"184.1074\">B</text><line style=\"stroke: #383838; stroke-width: 1.5;\" x1=\"57\" x2=\"121\" y1=\"191.9375\" y2=\"191.9375\"/></a><!--MD5=[e9be52314489bd878ff4c7144b63c9e1]\n",
       "link E5 to E3--><a href=\"psysml:d9b9f238-e6f4-4810-bb41-4cf78560774c\" target=\"_top\" title=\"psysml:d9b9f238-e6f4-4810-bb41-4cf78560774c\" xlink:actuate=\"onRequest\" xlink:href=\"psysml:d9b9f238-e6f4-4810-bb41-4cf78560774c\" xlink:show=\"new\" xlink:title=\"psysml:d9b9f238-e6f4-4810-bb41-4cf78560774c\" xlink:type=\"simple\"><path d=\"M211,90.51 C211,102.89 211,118.78 211,133.48 \" fill=\"none\" id=\"E5-&gt;E3\" style=\"stroke: #383838; stroke-width: 1.0;\"/><polygon fill=\"#FFFFFF\" points=\"211,153.65,204,134.65,218,134.65,211,153.65\" style=\"stroke: #383838; stroke-width: 1.0;\"/><ellipse cx=\"206\" cy=\"128.95\" fill=\"#383838\" rx=\"2\" ry=\"2\" style=\"stroke: #383838; stroke-width: 1.0;\"/><ellipse cx=\"216\" cy=\"128.95\" fill=\"#383838\" rx=\"2\" ry=\"2\" style=\"stroke: #383838; stroke-width: 1.0;\"/></a><!--MD5=[bfa3c8b0d15052fdf50ae9310b491027]\n",
       "link E8 to E7--><a href=\"psysml:a13a28be-1001-42f5-9632-37667c0baf51\" target=\"_top\" title=\"psysml:a13a28be-1001-42f5-9632-37667c0baf51\" xlink:actuate=\"onRequest\" xlink:href=\"psysml:a13a28be-1001-42f5-9632-37667c0baf51\" xlink:show=\"new\" xlink:title=\"psysml:a13a28be-1001-42f5-9632-37667c0baf51\" xlink:type=\"simple\"><path d=\"M120.01,90.51 C115.39,103.25 109.42,119.7 103.96,134.76 \" fill=\"none\" id=\"E8-&gt;E7\" style=\"stroke: #383838; stroke-width: 1.0;\"/><polygon fill=\"#FFFFFF\" points=\"97.11,153.65,97.0036,133.4018,110.1656,138.1726,97.11,153.65\" style=\"stroke: #383838; stroke-width: 1.0;\"/><ellipse cx=\"100.8262\" cy=\"128.7245\" fill=\"#383838\" rx=\"2\" ry=\"2\" style=\"stroke: #383838; stroke-width: 1.0;\"/><ellipse cx=\"110.2277\" cy=\"132.1322\" fill=\"#383838\" rx=\"2\" ry=\"2\" style=\"stroke: #383838; stroke-width: 1.0;\"/></a><!--MD5=[3b0380a6f4be09f78bcd6cf642ef48d6]\n",
       "@startuml\r\n",
       "top to bottom direction\r\n",
       "skinparam monochrome true\r\n",
       "skinparam classbackgroundcolor white\r\n",
       "skinparam shadowing false\r\n",
       "skinparam wrapWidth 300\r\n",
       "hide circle\r\n",
       "\r\n",
       "package \"PrivateImportTest\" as E1  [[psysml:70757ebb-a6cc-427a-a5fd-274a54eae870 ]]  {\r\n",
       "package \"P1\" as E2  [[psysml:9d9a8ea7-31e0-462e-8cd1-90f7e5dc514d ]]  {\r\n",
       "comp def \"A\" as E3  <<(T,blue)part def>> [[psysml:6090619b-e47a-44a4-bc4e-b4be6f2f4926 ]] {\r\n",
       "}\r\n",
       "}\r\n",
       "package \"P2\" as E4  [[psysml:2344491a-e19a-447d-a12e-1e886a7ea509 ]]  {\r\n",
       "}\r\n",
       "comp usage \"x: A\" as E5  <<(T,blue)part>> [[psysml:794b889b-8918-46e8-9c14-cb61e0d8a2ea ]] {\r\n",
       "}\r\n",
       "package \"P3\" as E6  [[psysml:e8a656ba-c51a-4d2d-932b-ea8b084af9f5 ]]  {\r\n",
       "comp def \"B\" as E7  <<(T,blue)part def>> [[psysml:9e432445-55c9-4726-a95f-4e15b991b53a ]] {\r\n",
       "}\r\n",
       "E5 - -:|> E3 [[psysml:d9b9f238-e6f4-4810-bb41-4cf78560774c ]] \r\n",
       "}\r\n",
       "comp usage \"z: B\" as E8  <<(T,blue)part>> [[psysml:553a92d0-50bf-477b-b2ce-bf491dd9a415 ]] {\r\n",
       "}\r\n",
       "E8 - -:|> E7 [[psysml:a13a28be-1001-42f5-9632-37667c0baf51 ]] \r\n",
       "}\r\n",
       "@enduml\r\n",
       "\n",
       "PlantUML version 1.2020.13(Sat Jun 13 12:26:38 UTC 2020)\n",
       "(EPL source distribution)\n",
       "Java Runtime: OpenJDK Runtime Environment\n",
       "JVM: OpenJDK 64-Bit Server VM\n",
       "Default Encoding: UTF-8\n",
       "Language: en\n",
       "Country: null\n",
       "--></g></svg>"
      ]
     },
     "execution_count": 50,
     "metadata": {},
     "output_type": "execute_result"
    }
   ],
   "source": [
    "%viz --style=\"TB\" --view=\"MIXED\" \"PrivateImportTest\""
   ]
  },
  {
   "cell_type": "code",
   "execution_count": 51,
   "id": "blocked-circuit",
   "metadata": {
    "execution": {
     "iopub.execute_input": "2021-03-25T15:01:20.661094Z",
     "iopub.status.busy": "2021-03-25T15:01:20.658135Z",
     "iopub.status.idle": "2021-03-25T15:01:20.734307Z",
     "shell.execute_reply": "2021-03-25T15:01:20.732673Z"
    }
   },
   "outputs": [
    {
     "data": {
      "image/svg+xml": [
       "<?xml version=\"1.0\" encoding=\"UTF-8\" standalone=\"no\"?><svg xmlns=\"http://www.w3.org/2000/svg\" xmlns:xlink=\"http://www.w3.org/1999/xlink\" contentScriptType=\"application/ecmascript\" contentStyleType=\"text/css\" height=\"252px\" preserveAspectRatio=\"none\" style=\"width:306px;height:252px;\" version=\"1.1\" viewBox=\"0 0 306 252\" width=\"306px\" zoomAndPan=\"magnify\"><defs/><g><!--MD5=[fbc87193dbaf4d95561dea2c320d4a47]\n",
       "cluster E1--><a href=\"psysml:70757ebb-a6cc-427a-a5fd-274a54eae870\" target=\"_top\" title=\"psysml:70757ebb-a6cc-427a-a5fd-274a54eae870\" xlink:actuate=\"onRequest\" xlink:href=\"psysml:70757ebb-a6cc-427a-a5fd-274a54eae870\" xlink:show=\"new\" xlink:title=\"psysml:70757ebb-a6cc-427a-a5fd-274a54eae870\" xlink:type=\"simple\"><polygon fill=\"#FFFFFF\" points=\"16,6,163,6,170,28.2969,284,28.2969,284,240,16,240,16,6\" style=\"stroke: #000000; stroke-width: 1.5;\"/><line style=\"stroke: #000000; stroke-width: 1.5;\" x1=\"16\" x2=\"170\" y1=\"28.2969\" y2=\"28.2969\"/><text fill=\"#000000\" font-family=\"sans-serif\" font-size=\"14\" font-weight=\"bold\" lengthAdjust=\"spacingAndGlyphs\" textLength=\"141\" x=\"20\" y=\"20.9951\">PrivateImportTest</text></a><!--MD5=[e4f7fae6ed58524ba242bb0b0d3be6b7]\n",
       "cluster E2--><a href=\"psysml:9d9a8ea7-31e0-462e-8cd1-90f7e5dc514d\" target=\"_top\" title=\"psysml:9d9a8ea7-31e0-462e-8cd1-90f7e5dc514d\" xlink:actuate=\"onRequest\" xlink:href=\"psysml:9d9a8ea7-31e0-462e-8cd1-90f7e5dc514d\" xlink:show=\"new\" xlink:title=\"psysml:9d9a8ea7-31e0-462e-8cd1-90f7e5dc514d\" xlink:type=\"simple\"><polygon fill=\"#FFFFFF\" points=\"162,119,188,119,195,141.2969,260,141.2969,260,216,162,216,162,119\" style=\"stroke: #000000; stroke-width: 1.5;\"/><line style=\"stroke: #000000; stroke-width: 1.5;\" x1=\"162\" x2=\"195\" y1=\"141.2969\" y2=\"141.2969\"/><text fill=\"#000000\" font-family=\"sans-serif\" font-size=\"14\" font-weight=\"bold\" lengthAdjust=\"spacingAndGlyphs\" textLength=\"20\" x=\"166\" y=\"133.9951\">P1</text></a><!--MD5=[14e3b0961a2654348d326746436168a1]\n",
       "cluster E6--><a href=\"psysml:e8a656ba-c51a-4d2d-932b-ea8b084af9f5\" target=\"_top\" title=\"psysml:e8a656ba-c51a-4d2d-932b-ea8b084af9f5\" xlink:actuate=\"onRequest\" xlink:href=\"psysml:e8a656ba-c51a-4d2d-932b-ea8b084af9f5\" xlink:show=\"new\" xlink:title=\"psysml:e8a656ba-c51a-4d2d-932b-ea8b084af9f5\" xlink:type=\"simple\"><polygon fill=\"#FFFFFF\" points=\"40,119,66,119,73,141.2969,138,141.2969,138,216,40,216,40,119\" style=\"stroke: #000000; stroke-width: 1.5;\"/><line style=\"stroke: #000000; stroke-width: 1.5;\" x1=\"40\" x2=\"73\" y1=\"141.2969\" y2=\"141.2969\"/><text fill=\"#000000\" font-family=\"sans-serif\" font-size=\"14\" font-weight=\"bold\" lengthAdjust=\"spacingAndGlyphs\" textLength=\"20\" x=\"44\" y=\"133.9951\">P3</text></a><!--MD5=[270fce915f116d4de14055a7c1d9a0f3]\n",
       "class E5--><a href=\"psysml:794b889b-8918-46e8-9c14-cb61e0d8a2ea\" target=\"_top\" title=\"psysml:794b889b-8918-46e8-9c14-cb61e0d8a2ea\" xlink:actuate=\"onRequest\" xlink:href=\"psysml:794b889b-8918-46e8-9c14-cb61e0d8a2ea\" xlink:show=\"new\" xlink:title=\"psysml:794b889b-8918-46e8-9c14-cb61e0d8a2ea\" xlink:type=\"simple\"><rect fill=\"#FFFFFF\" height=\"45.9375\" id=\"E5\" rx=\"10\" ry=\"10\" style=\"stroke: #383838; stroke-width: 1.5;\" width=\"42\" x=\"190\" y=\"44.5\"/><text fill=\"#000000\" font-family=\"sans-serif\" font-size=\"12\" font-style=\"italic\" lengthAdjust=\"spacingAndGlyphs\" textLength=\"40\" x=\"191\" y=\"60.6387\">«part»</text><text fill=\"#000000\" font-family=\"sans-serif\" font-size=\"12\" lengthAdjust=\"spacingAndGlyphs\" textLength=\"22\" x=\"200\" y=\"74.6074\">x: A</text><line style=\"stroke: #383838; stroke-width: 1.5;\" x1=\"191\" x2=\"231\" y1=\"82.4375\" y2=\"82.4375\"/></a><!--MD5=[b9389687b975829384b498ac4b7476b2]\n",
       "class E8--><a href=\"psysml:553a92d0-50bf-477b-b2ce-bf491dd9a415\" target=\"_top\" title=\"psysml:553a92d0-50bf-477b-b2ce-bf491dd9a415\" xlink:actuate=\"onRequest\" xlink:href=\"psysml:553a92d0-50bf-477b-b2ce-bf491dd9a415\" xlink:show=\"new\" xlink:title=\"psysml:553a92d0-50bf-477b-b2ce-bf491dd9a415\" xlink:type=\"simple\"><rect fill=\"#FFFFFF\" height=\"45.9375\" id=\"E8\" rx=\"10\" ry=\"10\" style=\"stroke: #383838; stroke-width: 1.5;\" width=\"42\" x=\"107\" y=\"44.5\"/><text fill=\"#000000\" font-family=\"sans-serif\" font-size=\"12\" font-style=\"italic\" lengthAdjust=\"spacingAndGlyphs\" textLength=\"40\" x=\"108\" y=\"60.6387\">«part»</text><text fill=\"#000000\" font-family=\"sans-serif\" font-size=\"12\" lengthAdjust=\"spacingAndGlyphs\" textLength=\"21\" x=\"117.5\" y=\"74.6074\">z: B</text><line style=\"stroke: #383838; stroke-width: 1.5;\" x1=\"108\" x2=\"148\" y1=\"82.4375\" y2=\"82.4375\"/></a><!--MD5=[09b614a08d8cba4a07c9adeb5e0fee81]\n",
       "class E3--><a href=\"psysml:6090619b-e47a-44a4-bc4e-b4be6f2f4926\" target=\"_top\" title=\"psysml:6090619b-e47a-44a4-bc4e-b4be6f2f4926\" xlink:actuate=\"onRequest\" xlink:href=\"psysml:6090619b-e47a-44a4-bc4e-b4be6f2f4926\" xlink:show=\"new\" xlink:title=\"psysml:6090619b-e47a-44a4-bc4e-b4be6f2f4926\" xlink:type=\"simple\"><rect fill=\"#FFFFFF\" height=\"45.9375\" id=\"E3\" style=\"stroke: #383838; stroke-width: 1.5;\" width=\"66\" x=\"178\" y=\"154\"/><text fill=\"#000000\" font-family=\"sans-serif\" font-size=\"12\" font-style=\"italic\" lengthAdjust=\"spacingAndGlyphs\" textLength=\"64\" x=\"179\" y=\"170.1387\">«part def»</text><text fill=\"#000000\" font-family=\"sans-serif\" font-size=\"12\" lengthAdjust=\"spacingAndGlyphs\" textLength=\"8\" x=\"207\" y=\"184.1074\">A</text><line style=\"stroke: #383838; stroke-width: 1.5;\" x1=\"179\" x2=\"243\" y1=\"191.9375\" y2=\"191.9375\"/></a><a href=\"psysml:2344491a-e19a-447d-a12e-1e886a7ea509\" target=\"_top\" title=\"psysml:2344491a-e19a-447d-a12e-1e886a7ea509\" xlink:actuate=\"onRequest\" xlink:href=\"psysml:2344491a-e19a-447d-a12e-1e886a7ea509\" xlink:show=\"new\" xlink:title=\"psysml:2344491a-e19a-447d-a12e-1e886a7ea509\" xlink:type=\"simple\"><polygon fill=\"#FFFFFF\" points=\"32,41,58,41,65,63.2969,72,63.2969,72,93.5938,32,93.5938,32,41\" style=\"stroke: #000000; stroke-width: 1.5;\"/><line style=\"stroke: #000000; stroke-width: 1.5;\" x1=\"32\" x2=\"65\" y1=\"63.2969\" y2=\"63.2969\"/><text fill=\"#000000\" font-family=\"sans-serif\" font-size=\"14\" font-weight=\"bold\" lengthAdjust=\"spacingAndGlyphs\" textLength=\"20\" x=\"36\" y=\"55.9951\">P2</text></a><!--MD5=[2156ba9850f5573cc1fc38a6a4b2f02b]\n",
       "class E7--><a href=\"psysml:9e432445-55c9-4726-a95f-4e15b991b53a\" target=\"_top\" title=\"psysml:9e432445-55c9-4726-a95f-4e15b991b53a\" xlink:actuate=\"onRequest\" xlink:href=\"psysml:9e432445-55c9-4726-a95f-4e15b991b53a\" xlink:show=\"new\" xlink:title=\"psysml:9e432445-55c9-4726-a95f-4e15b991b53a\" xlink:type=\"simple\"><rect fill=\"#FFFFFF\" height=\"45.9375\" id=\"E7\" style=\"stroke: #383838; stroke-width: 1.5;\" width=\"66\" x=\"56\" y=\"154\"/><text fill=\"#000000\" font-family=\"sans-serif\" font-size=\"12\" font-style=\"italic\" lengthAdjust=\"spacingAndGlyphs\" textLength=\"64\" x=\"57\" y=\"170.1387\">«part def»</text><text fill=\"#000000\" font-family=\"sans-serif\" font-size=\"12\" lengthAdjust=\"spacingAndGlyphs\" textLength=\"8\" x=\"85\" y=\"184.1074\">B</text><line style=\"stroke: #383838; stroke-width: 1.5;\" x1=\"57\" x2=\"121\" y1=\"191.9375\" y2=\"191.9375\"/></a><!--MD5=[e9be52314489bd878ff4c7144b63c9e1]\n",
       "link E5 to E3--><a href=\"psysml:d9b9f238-e6f4-4810-bb41-4cf78560774c\" target=\"_top\" title=\"psysml:d9b9f238-e6f4-4810-bb41-4cf78560774c\" xlink:actuate=\"onRequest\" xlink:href=\"psysml:d9b9f238-e6f4-4810-bb41-4cf78560774c\" xlink:show=\"new\" xlink:title=\"psysml:d9b9f238-e6f4-4810-bb41-4cf78560774c\" xlink:type=\"simple\"><path d=\"M211,90.72 C211,90.72 211,133.81 211,133.81 \" fill=\"none\" id=\"E5-&gt;E3\" style=\"stroke: #383838; stroke-width: 1.0;\"/><polygon fill=\"#FFFFFF\" points=\"211,153.81,204,134.81,218,134.81,211,153.81\" style=\"stroke: #383838; stroke-width: 1.0;\"/><ellipse cx=\"206\" cy=\"129.11\" fill=\"#383838\" rx=\"2\" ry=\"2\" style=\"stroke: #383838; stroke-width: 1.0;\"/><ellipse cx=\"216\" cy=\"129.11\" fill=\"#383838\" rx=\"2\" ry=\"2\" style=\"stroke: #383838; stroke-width: 1.0;\"/></a><!--MD5=[bfa3c8b0d15052fdf50ae9310b491027]\n",
       "link E8 to E7--><a href=\"psysml:a13a28be-1001-42f5-9632-37667c0baf51\" target=\"_top\" title=\"psysml:a13a28be-1001-42f5-9632-37667c0baf51\" xlink:actuate=\"onRequest\" xlink:href=\"psysml:a13a28be-1001-42f5-9632-37667c0baf51\" xlink:show=\"new\" xlink:title=\"psysml:a13a28be-1001-42f5-9632-37667c0baf51\" xlink:type=\"simple\"><path d=\"M114.5,90.72 C114.5,90.72 114.5,133.81 114.5,133.81 \" fill=\"none\" id=\"E8-&gt;E7\" style=\"stroke: #383838; stroke-width: 1.0;\"/><polygon fill=\"#FFFFFF\" points=\"114.5,153.81,107.5,134.81,121.5,134.81,114.5,153.81\" style=\"stroke: #383838; stroke-width: 1.0;\"/><ellipse cx=\"109.5\" cy=\"129.11\" fill=\"#383838\" rx=\"2\" ry=\"2\" style=\"stroke: #383838; stroke-width: 1.0;\"/><ellipse cx=\"119.5\" cy=\"129.11\" fill=\"#383838\" rx=\"2\" ry=\"2\" style=\"stroke: #383838; stroke-width: 1.0;\"/></a><!--MD5=[3e2aed08a3fb4724b71b7a557650eee8]\n",
       "@startuml\r\n",
       "skinparam linetype ortho\r\n",
       "skinparam monochrome true\r\n",
       "skinparam classbackgroundcolor white\r\n",
       "skinparam shadowing false\r\n",
       "skinparam wrapWidth 300\r\n",
       "hide circle\r\n",
       "\r\n",
       "package \"PrivateImportTest\" as E1  [[psysml:70757ebb-a6cc-427a-a5fd-274a54eae870 ]]  {\r\n",
       "package \"P1\" as E2  [[psysml:9d9a8ea7-31e0-462e-8cd1-90f7e5dc514d ]]  {\r\n",
       "comp def \"A\" as E3  <<(T,blue)part def>> [[psysml:6090619b-e47a-44a4-bc4e-b4be6f2f4926 ]] {\r\n",
       "}\r\n",
       "}\r\n",
       "package \"P2\" as E4  [[psysml:2344491a-e19a-447d-a12e-1e886a7ea509 ]]  {\r\n",
       "}\r\n",
       "comp usage \"x: A\" as E5  <<(T,blue)part>> [[psysml:794b889b-8918-46e8-9c14-cb61e0d8a2ea ]] {\r\n",
       "}\r\n",
       "package \"P3\" as E6  [[psysml:e8a656ba-c51a-4d2d-932b-ea8b084af9f5 ]]  {\r\n",
       "comp def \"B\" as E7  <<(T,blue)part def>> [[psysml:9e432445-55c9-4726-a95f-4e15b991b53a ]] {\r\n",
       "}\r\n",
       "E5 - -:|> E3 [[psysml:d9b9f238-e6f4-4810-bb41-4cf78560774c ]] \r\n",
       "}\r\n",
       "comp usage \"z: B\" as E8  <<(T,blue)part>> [[psysml:553a92d0-50bf-477b-b2ce-bf491dd9a415 ]] {\r\n",
       "}\r\n",
       "E8 - -:|> E7 [[psysml:a13a28be-1001-42f5-9632-37667c0baf51 ]] \r\n",
       "}\r\n",
       "@enduml\r\n",
       "\n",
       "PlantUML version 1.2020.13(Sat Jun 13 12:26:38 UTC 2020)\n",
       "(EPL source distribution)\n",
       "Java Runtime: OpenJDK Runtime Environment\n",
       "JVM: OpenJDK 64-Bit Server VM\n",
       "Default Encoding: UTF-8\n",
       "Language: en\n",
       "Country: null\n",
       "--></g></svg>"
      ]
     },
     "execution_count": 51,
     "metadata": {},
     "output_type": "execute_result"
    }
   ],
   "source": [
    "%viz --style=\"ORTHOLINE\" --view=\"Default\" \"PrivateImportTest\""
   ]
  },
  {
   "cell_type": "code",
   "execution_count": 52,
   "id": "needed-arcade",
   "metadata": {
    "execution": {
     "iopub.execute_input": "2021-03-25T15:01:20.785700Z",
     "iopub.status.busy": "2021-03-25T15:01:20.784082Z",
     "iopub.status.idle": "2021-03-25T15:01:20.853404Z",
     "shell.execute_reply": "2021-03-25T15:01:20.853952Z"
    }
   },
   "outputs": [
    {
     "data": {
      "image/svg+xml": [
       "<?xml version=\"1.0\" encoding=\"UTF-8\" standalone=\"no\"?><svg xmlns=\"http://www.w3.org/2000/svg\" xmlns:xlink=\"http://www.w3.org/1999/xlink\" contentScriptType=\"application/ecmascript\" contentStyleType=\"text/css\" height=\"252px\" preserveAspectRatio=\"none\" style=\"width:306px;height:252px;\" version=\"1.1\" viewBox=\"0 0 306 252\" width=\"306px\" zoomAndPan=\"magnify\"><defs/><g><!--MD5=[fbc87193dbaf4d95561dea2c320d4a47]\n",
       "cluster E1--><a href=\"psysml:70757ebb-a6cc-427a-a5fd-274a54eae870\" target=\"_top\" title=\"psysml:70757ebb-a6cc-427a-a5fd-274a54eae870\" xlink:actuate=\"onRequest\" xlink:href=\"psysml:70757ebb-a6cc-427a-a5fd-274a54eae870\" xlink:show=\"new\" xlink:title=\"psysml:70757ebb-a6cc-427a-a5fd-274a54eae870\" xlink:type=\"simple\"><polygon fill=\"#FFFFFF\" points=\"16,6,163,6,170,28.2969,284,28.2969,284,240,16,240,16,6\" style=\"stroke: #000000; stroke-width: 1.5;\"/><line style=\"stroke: #000000; stroke-width: 1.5;\" x1=\"16\" x2=\"170\" y1=\"28.2969\" y2=\"28.2969\"/><text fill=\"#000000\" font-family=\"sans-serif\" font-size=\"14\" font-weight=\"bold\" lengthAdjust=\"spacingAndGlyphs\" textLength=\"141\" x=\"20\" y=\"20.9951\">PrivateImportTest</text></a><!--MD5=[e4f7fae6ed58524ba242bb0b0d3be6b7]\n",
       "cluster E2--><a href=\"psysml:9d9a8ea7-31e0-462e-8cd1-90f7e5dc514d\" target=\"_top\" title=\"psysml:9d9a8ea7-31e0-462e-8cd1-90f7e5dc514d\" xlink:actuate=\"onRequest\" xlink:href=\"psysml:9d9a8ea7-31e0-462e-8cd1-90f7e5dc514d\" xlink:show=\"new\" xlink:title=\"psysml:9d9a8ea7-31e0-462e-8cd1-90f7e5dc514d\" xlink:type=\"simple\"><polygon fill=\"#FFFFFF\" points=\"162,119,188,119,195,141.2969,260,141.2969,260,216,162,216,162,119\" style=\"stroke: #000000; stroke-width: 1.5;\"/><line style=\"stroke: #000000; stroke-width: 1.5;\" x1=\"162\" x2=\"195\" y1=\"141.2969\" y2=\"141.2969\"/><text fill=\"#000000\" font-family=\"sans-serif\" font-size=\"14\" font-weight=\"bold\" lengthAdjust=\"spacingAndGlyphs\" textLength=\"20\" x=\"166\" y=\"133.9951\">P1</text></a><!--MD5=[14e3b0961a2654348d326746436168a1]\n",
       "cluster E6--><a href=\"psysml:e8a656ba-c51a-4d2d-932b-ea8b084af9f5\" target=\"_top\" title=\"psysml:e8a656ba-c51a-4d2d-932b-ea8b084af9f5\" xlink:actuate=\"onRequest\" xlink:href=\"psysml:e8a656ba-c51a-4d2d-932b-ea8b084af9f5\" xlink:show=\"new\" xlink:title=\"psysml:e8a656ba-c51a-4d2d-932b-ea8b084af9f5\" xlink:type=\"simple\"><polygon fill=\"#FFFFFF\" points=\"40,119,66,119,73,141.2969,138,141.2969,138,216,40,216,40,119\" style=\"stroke: #000000; stroke-width: 1.5;\"/><line style=\"stroke: #000000; stroke-width: 1.5;\" x1=\"40\" x2=\"73\" y1=\"141.2969\" y2=\"141.2969\"/><text fill=\"#000000\" font-family=\"sans-serif\" font-size=\"14\" font-weight=\"bold\" lengthAdjust=\"spacingAndGlyphs\" textLength=\"20\" x=\"44\" y=\"133.9951\">P3</text></a><!--MD5=[270fce915f116d4de14055a7c1d9a0f3]\n",
       "class E5--><a href=\"psysml:794b889b-8918-46e8-9c14-cb61e0d8a2ea\" target=\"_top\" title=\"psysml:794b889b-8918-46e8-9c14-cb61e0d8a2ea\" xlink:actuate=\"onRequest\" xlink:href=\"psysml:794b889b-8918-46e8-9c14-cb61e0d8a2ea\" xlink:show=\"new\" xlink:title=\"psysml:794b889b-8918-46e8-9c14-cb61e0d8a2ea\" xlink:type=\"simple\"><rect fill=\"#FFFFFF\" height=\"45.9375\" id=\"E5\" rx=\"10\" ry=\"10\" style=\"stroke: #383838; stroke-width: 1.5;\" width=\"42\" x=\"190\" y=\"44.5\"/><text fill=\"#000000\" font-family=\"sans-serif\" font-size=\"12\" font-style=\"italic\" lengthAdjust=\"spacingAndGlyphs\" textLength=\"40\" x=\"191\" y=\"60.6387\">«part»</text><text fill=\"#000000\" font-family=\"sans-serif\" font-size=\"12\" lengthAdjust=\"spacingAndGlyphs\" textLength=\"22\" x=\"200\" y=\"74.6074\">x: A</text><line style=\"stroke: #383838; stroke-width: 1.5;\" x1=\"191\" x2=\"231\" y1=\"82.4375\" y2=\"82.4375\"/></a><!--MD5=[b9389687b975829384b498ac4b7476b2]\n",
       "class E8--><a href=\"psysml:553a92d0-50bf-477b-b2ce-bf491dd9a415\" target=\"_top\" title=\"psysml:553a92d0-50bf-477b-b2ce-bf491dd9a415\" xlink:actuate=\"onRequest\" xlink:href=\"psysml:553a92d0-50bf-477b-b2ce-bf491dd9a415\" xlink:show=\"new\" xlink:title=\"psysml:553a92d0-50bf-477b-b2ce-bf491dd9a415\" xlink:type=\"simple\"><rect fill=\"#FFFFFF\" height=\"45.9375\" id=\"E8\" rx=\"10\" ry=\"10\" style=\"stroke: #383838; stroke-width: 1.5;\" width=\"42\" x=\"107\" y=\"44.5\"/><text fill=\"#000000\" font-family=\"sans-serif\" font-size=\"12\" font-style=\"italic\" lengthAdjust=\"spacingAndGlyphs\" textLength=\"40\" x=\"108\" y=\"60.6387\">«part»</text><text fill=\"#000000\" font-family=\"sans-serif\" font-size=\"12\" lengthAdjust=\"spacingAndGlyphs\" textLength=\"21\" x=\"117.5\" y=\"74.6074\">z: B</text><line style=\"stroke: #383838; stroke-width: 1.5;\" x1=\"108\" x2=\"148\" y1=\"82.4375\" y2=\"82.4375\"/></a><!--MD5=[09b614a08d8cba4a07c9adeb5e0fee81]\n",
       "class E3--><a href=\"psysml:6090619b-e47a-44a4-bc4e-b4be6f2f4926\" target=\"_top\" title=\"psysml:6090619b-e47a-44a4-bc4e-b4be6f2f4926\" xlink:actuate=\"onRequest\" xlink:href=\"psysml:6090619b-e47a-44a4-bc4e-b4be6f2f4926\" xlink:show=\"new\" xlink:title=\"psysml:6090619b-e47a-44a4-bc4e-b4be6f2f4926\" xlink:type=\"simple\"><rect fill=\"#FFFFFF\" height=\"45.9375\" id=\"E3\" style=\"stroke: #383838; stroke-width: 1.5;\" width=\"66\" x=\"178\" y=\"154\"/><text fill=\"#000000\" font-family=\"sans-serif\" font-size=\"12\" font-style=\"italic\" lengthAdjust=\"spacingAndGlyphs\" textLength=\"64\" x=\"179\" y=\"170.1387\">«part def»</text><text fill=\"#000000\" font-family=\"sans-serif\" font-size=\"12\" lengthAdjust=\"spacingAndGlyphs\" textLength=\"8\" x=\"207\" y=\"184.1074\">A</text><line style=\"stroke: #383838; stroke-width: 1.5;\" x1=\"179\" x2=\"243\" y1=\"191.9375\" y2=\"191.9375\"/></a><a href=\"psysml:2344491a-e19a-447d-a12e-1e886a7ea509\" target=\"_top\" title=\"psysml:2344491a-e19a-447d-a12e-1e886a7ea509\" xlink:actuate=\"onRequest\" xlink:href=\"psysml:2344491a-e19a-447d-a12e-1e886a7ea509\" xlink:show=\"new\" xlink:title=\"psysml:2344491a-e19a-447d-a12e-1e886a7ea509\" xlink:type=\"simple\"><polygon fill=\"#FFFFFF\" points=\"32,41,58,41,65,63.2969,72,63.2969,72,93.5938,32,93.5938,32,41\" style=\"stroke: #000000; stroke-width: 1.5;\"/><line style=\"stroke: #000000; stroke-width: 1.5;\" x1=\"32\" x2=\"65\" y1=\"63.2969\" y2=\"63.2969\"/><text fill=\"#000000\" font-family=\"sans-serif\" font-size=\"14\" font-weight=\"bold\" lengthAdjust=\"spacingAndGlyphs\" textLength=\"20\" x=\"36\" y=\"55.9951\">P2</text></a><!--MD5=[2156ba9850f5573cc1fc38a6a4b2f02b]\n",
       "class E7--><a href=\"psysml:9e432445-55c9-4726-a95f-4e15b991b53a\" target=\"_top\" title=\"psysml:9e432445-55c9-4726-a95f-4e15b991b53a\" xlink:actuate=\"onRequest\" xlink:href=\"psysml:9e432445-55c9-4726-a95f-4e15b991b53a\" xlink:show=\"new\" xlink:title=\"psysml:9e432445-55c9-4726-a95f-4e15b991b53a\" xlink:type=\"simple\"><rect fill=\"#FFFFFF\" height=\"45.9375\" id=\"E7\" style=\"stroke: #383838; stroke-width: 1.5;\" width=\"66\" x=\"56\" y=\"154\"/><text fill=\"#000000\" font-family=\"sans-serif\" font-size=\"12\" font-style=\"italic\" lengthAdjust=\"spacingAndGlyphs\" textLength=\"64\" x=\"57\" y=\"170.1387\">«part def»</text><text fill=\"#000000\" font-family=\"sans-serif\" font-size=\"12\" lengthAdjust=\"spacingAndGlyphs\" textLength=\"8\" x=\"85\" y=\"184.1074\">B</text><line style=\"stroke: #383838; stroke-width: 1.5;\" x1=\"57\" x2=\"121\" y1=\"191.9375\" y2=\"191.9375\"/></a><!--MD5=[e9be52314489bd878ff4c7144b63c9e1]\n",
       "link E5 to E3--><a href=\"psysml:d9b9f238-e6f4-4810-bb41-4cf78560774c\" target=\"_top\" title=\"psysml:d9b9f238-e6f4-4810-bb41-4cf78560774c\" xlink:actuate=\"onRequest\" xlink:href=\"psysml:d9b9f238-e6f4-4810-bb41-4cf78560774c\" xlink:show=\"new\" xlink:title=\"psysml:d9b9f238-e6f4-4810-bb41-4cf78560774c\" xlink:type=\"simple\"><path d=\"M211,90.72 C211,90.72 211,133.81 211,133.81 \" fill=\"none\" id=\"E5-&gt;E3\" style=\"stroke: #383838; stroke-width: 1.0;\"/><polygon fill=\"#FFFFFF\" points=\"211,153.81,204,134.81,218,134.81,211,153.81\" style=\"stroke: #383838; stroke-width: 1.0;\"/><ellipse cx=\"206\" cy=\"129.11\" fill=\"#383838\" rx=\"2\" ry=\"2\" style=\"stroke: #383838; stroke-width: 1.0;\"/><ellipse cx=\"216\" cy=\"129.11\" fill=\"#383838\" rx=\"2\" ry=\"2\" style=\"stroke: #383838; stroke-width: 1.0;\"/></a><!--MD5=[bfa3c8b0d15052fdf50ae9310b491027]\n",
       "link E8 to E7--><a href=\"psysml:a13a28be-1001-42f5-9632-37667c0baf51\" target=\"_top\" title=\"psysml:a13a28be-1001-42f5-9632-37667c0baf51\" xlink:actuate=\"onRequest\" xlink:href=\"psysml:a13a28be-1001-42f5-9632-37667c0baf51\" xlink:show=\"new\" xlink:title=\"psysml:a13a28be-1001-42f5-9632-37667c0baf51\" xlink:type=\"simple\"><path d=\"M114.5,90.72 C114.5,90.72 114.5,133.81 114.5,133.81 \" fill=\"none\" id=\"E8-&gt;E7\" style=\"stroke: #383838; stroke-width: 1.0;\"/><polygon fill=\"#FFFFFF\" points=\"114.5,153.81,107.5,134.81,121.5,134.81,114.5,153.81\" style=\"stroke: #383838; stroke-width: 1.0;\"/><ellipse cx=\"109.5\" cy=\"129.11\" fill=\"#383838\" rx=\"2\" ry=\"2\" style=\"stroke: #383838; stroke-width: 1.0;\"/><ellipse cx=\"119.5\" cy=\"129.11\" fill=\"#383838\" rx=\"2\" ry=\"2\" style=\"stroke: #383838; stroke-width: 1.0;\"/></a><!--MD5=[3e2aed08a3fb4724b71b7a557650eee8]\n",
       "@startuml\r\n",
       "skinparam linetype ortho\r\n",
       "skinparam monochrome true\r\n",
       "skinparam classbackgroundcolor white\r\n",
       "skinparam shadowing false\r\n",
       "skinparam wrapWidth 300\r\n",
       "hide circle\r\n",
       "\r\n",
       "package \"PrivateImportTest\" as E1  [[psysml:70757ebb-a6cc-427a-a5fd-274a54eae870 ]]  {\r\n",
       "package \"P1\" as E2  [[psysml:9d9a8ea7-31e0-462e-8cd1-90f7e5dc514d ]]  {\r\n",
       "comp def \"A\" as E3  <<(T,blue)part def>> [[psysml:6090619b-e47a-44a4-bc4e-b4be6f2f4926 ]] {\r\n",
       "}\r\n",
       "}\r\n",
       "package \"P2\" as E4  [[psysml:2344491a-e19a-447d-a12e-1e886a7ea509 ]]  {\r\n",
       "}\r\n",
       "comp usage \"x: A\" as E5  <<(T,blue)part>> [[psysml:794b889b-8918-46e8-9c14-cb61e0d8a2ea ]] {\r\n",
       "}\r\n",
       "package \"P3\" as E6  [[psysml:e8a656ba-c51a-4d2d-932b-ea8b084af9f5 ]]  {\r\n",
       "comp def \"B\" as E7  <<(T,blue)part def>> [[psysml:9e432445-55c9-4726-a95f-4e15b991b53a ]] {\r\n",
       "}\r\n",
       "E5 - -:|> E3 [[psysml:d9b9f238-e6f4-4810-bb41-4cf78560774c ]] \r\n",
       "}\r\n",
       "comp usage \"z: B\" as E8  <<(T,blue)part>> [[psysml:553a92d0-50bf-477b-b2ce-bf491dd9a415 ]] {\r\n",
       "}\r\n",
       "E8 - -:|> E7 [[psysml:a13a28be-1001-42f5-9632-37667c0baf51 ]] \r\n",
       "}\r\n",
       "@enduml\r\n",
       "\n",
       "PlantUML version 1.2020.13(Sat Jun 13 12:26:38 UTC 2020)\n",
       "(EPL source distribution)\n",
       "Java Runtime: OpenJDK Runtime Environment\n",
       "JVM: OpenJDK 64-Bit Server VM\n",
       "Default Encoding: UTF-8\n",
       "Language: en\n",
       "Country: null\n",
       "--></g></svg>"
      ]
     },
     "execution_count": 52,
     "metadata": {},
     "output_type": "execute_result"
    }
   ],
   "source": [
    "%viz --style=\"ORTHOLINE\" --view=\"Tree\" \"PrivateImportTest\""
   ]
  },
  {
   "cell_type": "code",
   "execution_count": 53,
   "id": "interested-anatomy",
   "metadata": {
    "execution": {
     "iopub.execute_input": "2021-03-25T15:01:20.906775Z",
     "iopub.status.busy": "2021-03-25T15:01:20.906226Z",
     "iopub.status.idle": "2021-03-25T15:01:20.912785Z",
     "shell.execute_reply": "2021-03-25T15:01:20.913246Z"
    }
   },
   "outputs": [
    {
     "data": {
      "image/svg+xml": [
       "<?xml version=\"1.0\" encoding=\"UTF-8\" standalone=\"no\"?><svg xmlns=\"http://www.w3.org/2000/svg\" xmlns:xlink=\"http://www.w3.org/1999/xlink\" contentScriptType=\"application/ecmascript\" contentStyleType=\"text/css\" height=\"12px\" preserveAspectRatio=\"none\" style=\"width:12px;height:12px;\" version=\"1.1\" viewBox=\"0 0 12 12\" width=\"12px\" zoomAndPan=\"magnify\"><defs/><g><!--MD5=[97d6f38768b311333d388e66b2b27985]\n",
       "@startuml\r\n",
       "skinparam linetype ortho\r\n",
       "skinparam monochrome true\r\n",
       "skinparam classbackgroundcolor white\r\n",
       "skinparam shadowing false\r\n",
       "skinparam wrapWidth 300\r\n",
       "hide circle\r\n",
       "\r\n",
       "@enduml\r\n",
       "\n",
       "PlantUML version 1.2020.13(Sat Jun 13 12:26:38 UTC 2020)\n",
       "(EPL source distribution)\n",
       "Java Runtime: OpenJDK Runtime Environment\n",
       "JVM: OpenJDK 64-Bit Server VM\n",
       "Default Encoding: UTF-8\n",
       "Language: en\n",
       "Country: null\n",
       "--></g></svg>"
      ]
     },
     "execution_count": 53,
     "metadata": {},
     "output_type": "execute_result"
    }
   ],
   "source": [
    "%viz --style=\"ORTHOLINE\" --view=\"State\" \"PrivateImportTest\""
   ]
  },
  {
   "cell_type": "code",
   "execution_count": 54,
   "id": "pending-hierarchy",
   "metadata": {
    "execution": {
     "iopub.execute_input": "2021-03-25T15:01:20.965235Z",
     "iopub.status.busy": "2021-03-25T15:01:20.964806Z",
     "iopub.status.idle": "2021-03-25T15:01:21.024507Z",
     "shell.execute_reply": "2021-03-25T15:01:21.023006Z"
    }
   },
   "outputs": [
    {
     "data": {
      "image/svg+xml": [
       "<?xml version=\"1.0\" encoding=\"UTF-8\" standalone=\"no\"?><svg xmlns=\"http://www.w3.org/2000/svg\" xmlns:xlink=\"http://www.w3.org/1999/xlink\" contentScriptType=\"application/ecmascript\" contentStyleType=\"text/css\" height=\"179px\" preserveAspectRatio=\"none\" style=\"width:539px;height:179px;\" version=\"1.1\" viewBox=\"0 0 539 179\" width=\"539px\" zoomAndPan=\"magnify\"><defs/><g><!--MD5=[fbc87193dbaf4d95561dea2c320d4a47]\n",
       "cluster E1--><a href=\"psysml:70757ebb-a6cc-427a-a5fd-274a54eae870\" target=\"_top\" title=\"psysml:70757ebb-a6cc-427a-a5fd-274a54eae870\" xlink:actuate=\"onRequest\" xlink:href=\"psysml:70757ebb-a6cc-427a-a5fd-274a54eae870\" xlink:show=\"new\" xlink:title=\"psysml:70757ebb-a6cc-427a-a5fd-274a54eae870\" xlink:type=\"simple\"><polygon fill=\"#FFFFFF\" points=\"16,6,163,6,170,28.2969,517,28.2969,517,167,16,167,16,6\" style=\"stroke: #000000; stroke-width: 1.5;\"/><line style=\"stroke: #000000; stroke-width: 1.5;\" x1=\"16\" x2=\"170\" y1=\"28.2969\" y2=\"28.2969\"/><text fill=\"#000000\" font-family=\"sans-serif\" font-size=\"14\" font-weight=\"bold\" lengthAdjust=\"spacingAndGlyphs\" textLength=\"141\" x=\"20\" y=\"20.9951\">PrivateImportTest</text></a><!--MD5=[e4f7fae6ed58524ba242bb0b0d3be6b7]\n",
       "cluster E2--><a href=\"psysml:9d9a8ea7-31e0-462e-8cd1-90f7e5dc514d\" target=\"_top\" title=\"psysml:9d9a8ea7-31e0-462e-8cd1-90f7e5dc514d\" xlink:actuate=\"onRequest\" xlink:href=\"psysml:9d9a8ea7-31e0-462e-8cd1-90f7e5dc514d\" xlink:show=\"new\" xlink:title=\"psysml:9d9a8ea7-31e0-462e-8cd1-90f7e5dc514d\" xlink:type=\"simple\"><polygon fill=\"#FFFFFF\" points=\"389,49,415,49,422,71.2969,493,71.2969,493,143,389,143,389,49\" style=\"stroke: #000000; stroke-width: 1.5;\"/><line style=\"stroke: #000000; stroke-width: 1.5;\" x1=\"389\" x2=\"422\" y1=\"71.2969\" y2=\"71.2969\"/><text fill=\"#000000\" font-family=\"sans-serif\" font-size=\"14\" font-weight=\"bold\" lengthAdjust=\"spacingAndGlyphs\" textLength=\"20\" x=\"393\" y=\"63.9951\">P1</text></a><!--MD5=[14e3b0961a2654348d326746436168a1]\n",
       "cluster E6--><a href=\"psysml:e8a656ba-c51a-4d2d-932b-ea8b084af9f5\" target=\"_top\" title=\"psysml:e8a656ba-c51a-4d2d-932b-ea8b084af9f5\" xlink:actuate=\"onRequest\" xlink:href=\"psysml:e8a656ba-c51a-4d2d-932b-ea8b084af9f5\" xlink:show=\"new\" xlink:title=\"psysml:e8a656ba-c51a-4d2d-932b-ea8b084af9f5\" xlink:type=\"simple\"><polygon fill=\"#FFFFFF\" points=\"261,49,287,49,294,71.2969,365,71.2969,365,143,261,143,261,49\" style=\"stroke: #000000; stroke-width: 1.5;\"/><line style=\"stroke: #000000; stroke-width: 1.5;\" x1=\"261\" x2=\"294\" y1=\"71.2969\" y2=\"71.2969\"/><text fill=\"#000000\" font-family=\"sans-serif\" font-size=\"14\" font-weight=\"bold\" lengthAdjust=\"spacingAndGlyphs\" textLength=\"20\" x=\"265\" y=\"63.9951\">P3</text></a><g id=\"E1.E2.E3\"><a href=\"psysml:6090619b-e47a-44a4-bc4e-b4be6f2f4926\" target=\"_top\" title=\"psysml:6090619b-e47a-44a4-bc4e-b4be6f2f4926\" xlink:actuate=\"onRequest\" xlink:href=\"psysml:6090619b-e47a-44a4-bc4e-b4be6f2f4926\" xlink:show=\"new\" xlink:title=\"psysml:6090619b-e47a-44a4-bc4e-b4be6f2f4926\" xlink:type=\"simple\"><rect fill=\"#FFFFFF\" height=\"42.9375\" id=\"E3\" style=\"stroke: #383838; stroke-width: 1.5;\" width=\"71\" x=\"405.5\" y=\"84\"/><rect fill=\"#F8F8F8\" height=\"37.9375\" style=\"stroke: #383838; stroke-width: 1.5;\" width=\"71\" x=\"405.5\" y=\"84\"/><text fill=\"#000000\" font-family=\"sans-serif\" font-size=\"12\" font-style=\"italic\" lengthAdjust=\"spacingAndGlyphs\" textLength=\"64\" x=\"409\" y=\"100.1387\">«part def»</text><text fill=\"#000000\" font-family=\"sans-serif\" font-size=\"12\" lengthAdjust=\"spacingAndGlyphs\" textLength=\"8\" x=\"437\" y=\"114.1074\">A</text></a></g><a href=\"psysml:2344491a-e19a-447d-a12e-1e886a7ea509\" target=\"_top\" title=\"psysml:2344491a-e19a-447d-a12e-1e886a7ea509\" xlink:actuate=\"onRequest\" xlink:href=\"psysml:2344491a-e19a-447d-a12e-1e886a7ea509\" xlink:show=\"new\" xlink:title=\"psysml:2344491a-e19a-447d-a12e-1e886a7ea509\" xlink:type=\"simple\"><polygon fill=\"#FFFFFF\" points=\"202,79,228,79,235,101.2969,242,101.2969,242,131.5938,202,131.5938,202,79\" style=\"stroke: #000000; stroke-width: 1.5;\"/><line style=\"stroke: #000000; stroke-width: 1.5;\" x1=\"202\" x2=\"235\" y1=\"101.2969\" y2=\"101.2969\"/><text fill=\"#000000\" font-family=\"sans-serif\" font-size=\"14\" font-weight=\"bold\" lengthAdjust=\"spacingAndGlyphs\" textLength=\"20\" x=\"206\" y=\"93.9951\">P2</text></a><g id=\"E1.E5\"><a href=\"psysml:794b889b-8918-46e8-9c14-cb61e0d8a2ea\" target=\"_top\" title=\"psysml:794b889b-8918-46e8-9c14-cb61e0d8a2ea\" xlink:actuate=\"onRequest\" xlink:href=\"psysml:794b889b-8918-46e8-9c14-cb61e0d8a2ea\" xlink:show=\"new\" xlink:title=\"psysml:794b889b-8918-46e8-9c14-cb61e0d8a2ea\" xlink:type=\"simple\"><rect fill=\"#FFFFFF\" height=\"40\" id=\"E5\" rx=\"10\" ry=\"10\" style=\"stroke: #383838; stroke-width: 1.5;\" width=\"50\" x=\"117\" y=\"85.5\"/><rect fill=\"#F8F8F8\" height=\"23.9688\" rx=\"10\" ry=\"10\" style=\"stroke: #F8F8F8; stroke-width: 1.5;\" width=\"50\" x=\"117\" y=\"85.5\"/><rect fill=\"#F8F8F8\" height=\"10\" style=\"stroke: #F8F8F8; stroke-width: 1.5;\" width=\"50\" x=\"117\" y=\"99.4688\"/><rect fill=\"none\" height=\"40\" id=\"E5\" rx=\"10\" ry=\"10\" style=\"stroke: #383838; stroke-width: 1.5;\" width=\"50\" x=\"117\" y=\"85.5\"/><text fill=\"#000000\" font-family=\"sans-serif\" font-size=\"12\" lengthAdjust=\"spacingAndGlyphs\" textLength=\"22\" x=\"131\" y=\"101.6387\">x: A</text></a></g><g id=\"E1.E6.E7\"><a href=\"psysml:9e432445-55c9-4726-a95f-4e15b991b53a\" target=\"_top\" title=\"psysml:9e432445-55c9-4726-a95f-4e15b991b53a\" xlink:actuate=\"onRequest\" xlink:href=\"psysml:9e432445-55c9-4726-a95f-4e15b991b53a\" xlink:show=\"new\" xlink:title=\"psysml:9e432445-55c9-4726-a95f-4e15b991b53a\" xlink:type=\"simple\"><rect fill=\"#FFFFFF\" height=\"42.9375\" id=\"E7\" style=\"stroke: #383838; stroke-width: 1.5;\" width=\"71\" x=\"277.5\" y=\"84\"/><rect fill=\"#F8F8F8\" height=\"37.9375\" style=\"stroke: #383838; stroke-width: 1.5;\" width=\"71\" x=\"277.5\" y=\"84\"/><text fill=\"#000000\" font-family=\"sans-serif\" font-size=\"12\" font-style=\"italic\" lengthAdjust=\"spacingAndGlyphs\" textLength=\"64\" x=\"281\" y=\"100.1387\">«part def»</text><text fill=\"#000000\" font-family=\"sans-serif\" font-size=\"12\" lengthAdjust=\"spacingAndGlyphs\" textLength=\"8\" x=\"309\" y=\"114.1074\">B</text></a></g><g id=\"E1.E8\"><a href=\"psysml:553a92d0-50bf-477b-b2ce-bf491dd9a415\" target=\"_top\" title=\"psysml:553a92d0-50bf-477b-b2ce-bf491dd9a415\" xlink:actuate=\"onRequest\" xlink:href=\"psysml:553a92d0-50bf-477b-b2ce-bf491dd9a415\" xlink:show=\"new\" xlink:title=\"psysml:553a92d0-50bf-477b-b2ce-bf491dd9a415\" xlink:type=\"simple\"><rect fill=\"#FFFFFF\" height=\"40\" id=\"E8\" rx=\"10\" ry=\"10\" style=\"stroke: #383838; stroke-width: 1.5;\" width=\"50\" x=\"32\" y=\"85.5\"/><rect fill=\"#F8F8F8\" height=\"23.9688\" rx=\"10\" ry=\"10\" style=\"stroke: #F8F8F8; stroke-width: 1.5;\" width=\"50\" x=\"32\" y=\"85.5\"/><rect fill=\"#F8F8F8\" height=\"10\" style=\"stroke: #F8F8F8; stroke-width: 1.5;\" width=\"50\" x=\"32\" y=\"99.4688\"/><rect fill=\"none\" height=\"40\" id=\"E8\" rx=\"10\" ry=\"10\" style=\"stroke: #383838; stroke-width: 1.5;\" width=\"50\" x=\"32\" y=\"85.5\"/><text fill=\"#000000\" font-family=\"sans-serif\" font-size=\"12\" lengthAdjust=\"spacingAndGlyphs\" textLength=\"21\" x=\"46.5\" y=\"101.6387\">z: B</text></a></g><!--MD5=[57112b2ea6824faafe2620071457dd40]\n",
       "@startuml\r\n",
       "skinparam ranksep 8\r\n",
       "skinparam rectangle {\r\n",
       " backgroundColor<<block>> LightGreen\r\n",
       "}\r\n",
       "skinparam linetype ortho\r\n",
       "skinparam monochrome true\r\n",
       "skinparam classbackgroundcolor white\r\n",
       "skinparam shadowing false\r\n",
       "skinparam wrapWidth 300\r\n",
       "hide circle\r\n",
       "\r\n",
       "package \"PrivateImportTest\" as E1  [[psysml:70757ebb-a6cc-427a-a5fd-274a54eae870 ]]  {\r\n",
       "package \"P1\" as E2  [[psysml:9d9a8ea7-31e0-462e-8cd1-90f7e5dc514d ]]  {\r\n",
       "rec def \"A\" as E3  <<(T,blue)part def>> [[psysml:6090619b-e47a-44a4-bc4e-b4be6f2f4926 ]] {\r\n",
       "}\r\n",
       "}\r\n",
       "package \"P2\" as E4  [[psysml:2344491a-e19a-447d-a12e-1e886a7ea509 ]]  {\r\n",
       "}\r\n",
       "rec usage \"x: A\" as E5  [[psysml:794b889b-8918-46e8-9c14-cb61e0d8a2ea ]] {\r\n",
       "}\r\n",
       "package \"P3\" as E6  [[psysml:e8a656ba-c51a-4d2d-932b-ea8b084af9f5 ]]  {\r\n",
       "rec def \"B\" as E7  <<(T,blue)part def>> [[psysml:9e432445-55c9-4726-a95f-4e15b991b53a ]] {\r\n",
       "}\r\n",
       "}\r\n",
       "rec usage \"z: B\" as E8  [[psysml:553a92d0-50bf-477b-b2ce-bf491dd9a415 ]] {\r\n",
       "}\r\n",
       "}\r\n",
       "@enduml\r\n",
       "\n",
       "PlantUML version 1.2020.13(Sat Jun 13 12:26:38 UTC 2020)\n",
       "(EPL source distribution)\n",
       "Java Runtime: OpenJDK Runtime Environment\n",
       "JVM: OpenJDK 64-Bit Server VM\n",
       "Default Encoding: UTF-8\n",
       "Language: en\n",
       "Country: null\n",
       "--></g></svg>"
      ]
     },
     "execution_count": 54,
     "metadata": {},
     "output_type": "execute_result"
    }
   ],
   "source": [
    "%viz --style=\"ORTHOLINE\" --view=\"Interconnection\" \"PrivateImportTest\""
   ]
  },
  {
   "cell_type": "code",
   "execution_count": 55,
   "id": "synthetic-precipitation",
   "metadata": {
    "execution": {
     "iopub.execute_input": "2021-03-25T15:01:21.074186Z",
     "iopub.status.busy": "2021-03-25T15:01:21.073672Z",
     "iopub.status.idle": "2021-03-25T15:01:21.083558Z",
     "shell.execute_reply": "2021-03-25T15:01:21.083146Z"
    }
   },
   "outputs": [
    {
     "data": {
      "image/svg+xml": [
       "<?xml version=\"1.0\" encoding=\"UTF-8\" standalone=\"no\"?><svg xmlns=\"http://www.w3.org/2000/svg\" xmlns:xlink=\"http://www.w3.org/1999/xlink\" contentScriptType=\"application/ecmascript\" contentStyleType=\"text/css\" height=\"12px\" preserveAspectRatio=\"none\" style=\"width:12px;height:12px;\" version=\"1.1\" viewBox=\"0 0 12 12\" width=\"12px\" zoomAndPan=\"magnify\"><defs/><g><!--MD5=[72934c63077099a26744516a776b4749]\n",
       "@startuml\r\n",
       "skinparam ranksep 8\r\n",
       "skinparam linetype ortho\r\n",
       "skinparam monochrome true\r\n",
       "skinparam classbackgroundcolor white\r\n",
       "skinparam shadowing false\r\n",
       "skinparam wrapWidth 300\r\n",
       "hide circle\r\n",
       "\r\n",
       "@enduml\r\n",
       "\n",
       "PlantUML version 1.2020.13(Sat Jun 13 12:26:38 UTC 2020)\n",
       "(EPL source distribution)\n",
       "Java Runtime: OpenJDK Runtime Environment\n",
       "JVM: OpenJDK 64-Bit Server VM\n",
       "Default Encoding: UTF-8\n",
       "Language: en\n",
       "Country: null\n",
       "--></g></svg>"
      ]
     },
     "execution_count": 55,
     "metadata": {},
     "output_type": "execute_result"
    }
   ],
   "source": [
    "%viz --style=\"ORTHOLINE\" --view=\"Action\" \"PrivateImportTest\""
   ]
  },
  {
   "cell_type": "code",
   "execution_count": 56,
   "id": "comic-wayne",
   "metadata": {
    "execution": {
     "iopub.execute_input": "2021-03-25T15:01:21.132639Z",
     "iopub.status.busy": "2021-03-25T15:01:21.132100Z",
     "iopub.status.idle": "2021-03-25T15:01:21.199913Z",
     "shell.execute_reply": "2021-03-25T15:01:21.198140Z"
    }
   },
   "outputs": [
    {
     "data": {
      "image/svg+xml": [
       "<?xml version=\"1.0\" encoding=\"UTF-8\" standalone=\"no\"?><svg xmlns=\"http://www.w3.org/2000/svg\" xmlns:xlink=\"http://www.w3.org/1999/xlink\" contentScriptType=\"application/ecmascript\" contentStyleType=\"text/css\" height=\"252px\" preserveAspectRatio=\"none\" style=\"width:306px;height:252px;\" version=\"1.1\" viewBox=\"0 0 306 252\" width=\"306px\" zoomAndPan=\"magnify\"><defs/><g><!--MD5=[fbc87193dbaf4d95561dea2c320d4a47]\n",
       "cluster E1--><a href=\"psysml:70757ebb-a6cc-427a-a5fd-274a54eae870\" target=\"_top\" title=\"psysml:70757ebb-a6cc-427a-a5fd-274a54eae870\" xlink:actuate=\"onRequest\" xlink:href=\"psysml:70757ebb-a6cc-427a-a5fd-274a54eae870\" xlink:show=\"new\" xlink:title=\"psysml:70757ebb-a6cc-427a-a5fd-274a54eae870\" xlink:type=\"simple\"><polygon fill=\"#FFFFFF\" points=\"16,6,163,6,170,28.2969,284,28.2969,284,240,16,240,16,6\" style=\"stroke: #000000; stroke-width: 1.5;\"/><line style=\"stroke: #000000; stroke-width: 1.5;\" x1=\"16\" x2=\"170\" y1=\"28.2969\" y2=\"28.2969\"/><text fill=\"#000000\" font-family=\"sans-serif\" font-size=\"14\" font-weight=\"bold\" lengthAdjust=\"spacingAndGlyphs\" textLength=\"141\" x=\"20\" y=\"20.9951\">PrivateImportTest</text></a><!--MD5=[e4f7fae6ed58524ba242bb0b0d3be6b7]\n",
       "cluster E2--><a href=\"psysml:9d9a8ea7-31e0-462e-8cd1-90f7e5dc514d\" target=\"_top\" title=\"psysml:9d9a8ea7-31e0-462e-8cd1-90f7e5dc514d\" xlink:actuate=\"onRequest\" xlink:href=\"psysml:9d9a8ea7-31e0-462e-8cd1-90f7e5dc514d\" xlink:show=\"new\" xlink:title=\"psysml:9d9a8ea7-31e0-462e-8cd1-90f7e5dc514d\" xlink:type=\"simple\"><polygon fill=\"#FFFFFF\" points=\"162,119,188,119,195,141.2969,260,141.2969,260,216,162,216,162,119\" style=\"stroke: #000000; stroke-width: 1.5;\"/><line style=\"stroke: #000000; stroke-width: 1.5;\" x1=\"162\" x2=\"195\" y1=\"141.2969\" y2=\"141.2969\"/><text fill=\"#000000\" font-family=\"sans-serif\" font-size=\"14\" font-weight=\"bold\" lengthAdjust=\"spacingAndGlyphs\" textLength=\"20\" x=\"166\" y=\"133.9951\">P1</text></a><!--MD5=[14e3b0961a2654348d326746436168a1]\n",
       "cluster E6--><a href=\"psysml:e8a656ba-c51a-4d2d-932b-ea8b084af9f5\" target=\"_top\" title=\"psysml:e8a656ba-c51a-4d2d-932b-ea8b084af9f5\" xlink:actuate=\"onRequest\" xlink:href=\"psysml:e8a656ba-c51a-4d2d-932b-ea8b084af9f5\" xlink:show=\"new\" xlink:title=\"psysml:e8a656ba-c51a-4d2d-932b-ea8b084af9f5\" xlink:type=\"simple\"><polygon fill=\"#FFFFFF\" points=\"40,119,66,119,73,141.2969,138,141.2969,138,216,40,216,40,119\" style=\"stroke: #000000; stroke-width: 1.5;\"/><line style=\"stroke: #000000; stroke-width: 1.5;\" x1=\"40\" x2=\"73\" y1=\"141.2969\" y2=\"141.2969\"/><text fill=\"#000000\" font-family=\"sans-serif\" font-size=\"14\" font-weight=\"bold\" lengthAdjust=\"spacingAndGlyphs\" textLength=\"20\" x=\"44\" y=\"133.9951\">P3</text></a><!--MD5=[270fce915f116d4de14055a7c1d9a0f3]\n",
       "class E5--><a href=\"psysml:794b889b-8918-46e8-9c14-cb61e0d8a2ea\" target=\"_top\" title=\"psysml:794b889b-8918-46e8-9c14-cb61e0d8a2ea\" xlink:actuate=\"onRequest\" xlink:href=\"psysml:794b889b-8918-46e8-9c14-cb61e0d8a2ea\" xlink:show=\"new\" xlink:title=\"psysml:794b889b-8918-46e8-9c14-cb61e0d8a2ea\" xlink:type=\"simple\"><rect fill=\"#FFFFFF\" height=\"45.9375\" id=\"E5\" rx=\"10\" ry=\"10\" style=\"stroke: #383838; stroke-width: 1.5;\" width=\"42\" x=\"190\" y=\"44.5\"/><text fill=\"#000000\" font-family=\"sans-serif\" font-size=\"12\" font-style=\"italic\" lengthAdjust=\"spacingAndGlyphs\" textLength=\"40\" x=\"191\" y=\"60.6387\">«part»</text><text fill=\"#000000\" font-family=\"sans-serif\" font-size=\"12\" lengthAdjust=\"spacingAndGlyphs\" textLength=\"22\" x=\"200\" y=\"74.6074\">x: A</text><line style=\"stroke: #383838; stroke-width: 1.5;\" x1=\"191\" x2=\"231\" y1=\"82.4375\" y2=\"82.4375\"/></a><!--MD5=[b9389687b975829384b498ac4b7476b2]\n",
       "class E8--><a href=\"psysml:553a92d0-50bf-477b-b2ce-bf491dd9a415\" target=\"_top\" title=\"psysml:553a92d0-50bf-477b-b2ce-bf491dd9a415\" xlink:actuate=\"onRequest\" xlink:href=\"psysml:553a92d0-50bf-477b-b2ce-bf491dd9a415\" xlink:show=\"new\" xlink:title=\"psysml:553a92d0-50bf-477b-b2ce-bf491dd9a415\" xlink:type=\"simple\"><rect fill=\"#FFFFFF\" height=\"45.9375\" id=\"E8\" rx=\"10\" ry=\"10\" style=\"stroke: #383838; stroke-width: 1.5;\" width=\"42\" x=\"107\" y=\"44.5\"/><text fill=\"#000000\" font-family=\"sans-serif\" font-size=\"12\" font-style=\"italic\" lengthAdjust=\"spacingAndGlyphs\" textLength=\"40\" x=\"108\" y=\"60.6387\">«part»</text><text fill=\"#000000\" font-family=\"sans-serif\" font-size=\"12\" lengthAdjust=\"spacingAndGlyphs\" textLength=\"21\" x=\"117.5\" y=\"74.6074\">z: B</text><line style=\"stroke: #383838; stroke-width: 1.5;\" x1=\"108\" x2=\"148\" y1=\"82.4375\" y2=\"82.4375\"/></a><!--MD5=[09b614a08d8cba4a07c9adeb5e0fee81]\n",
       "class E3--><a href=\"psysml:6090619b-e47a-44a4-bc4e-b4be6f2f4926\" target=\"_top\" title=\"psysml:6090619b-e47a-44a4-bc4e-b4be6f2f4926\" xlink:actuate=\"onRequest\" xlink:href=\"psysml:6090619b-e47a-44a4-bc4e-b4be6f2f4926\" xlink:show=\"new\" xlink:title=\"psysml:6090619b-e47a-44a4-bc4e-b4be6f2f4926\" xlink:type=\"simple\"><rect fill=\"#FFFFFF\" height=\"45.9375\" id=\"E3\" style=\"stroke: #383838; stroke-width: 1.5;\" width=\"66\" x=\"178\" y=\"154\"/><text fill=\"#000000\" font-family=\"sans-serif\" font-size=\"12\" font-style=\"italic\" lengthAdjust=\"spacingAndGlyphs\" textLength=\"64\" x=\"179\" y=\"170.1387\">«part def»</text><text fill=\"#000000\" font-family=\"sans-serif\" font-size=\"12\" lengthAdjust=\"spacingAndGlyphs\" textLength=\"8\" x=\"207\" y=\"184.1074\">A</text><line style=\"stroke: #383838; stroke-width: 1.5;\" x1=\"179\" x2=\"243\" y1=\"191.9375\" y2=\"191.9375\"/></a><a href=\"psysml:2344491a-e19a-447d-a12e-1e886a7ea509\" target=\"_top\" title=\"psysml:2344491a-e19a-447d-a12e-1e886a7ea509\" xlink:actuate=\"onRequest\" xlink:href=\"psysml:2344491a-e19a-447d-a12e-1e886a7ea509\" xlink:show=\"new\" xlink:title=\"psysml:2344491a-e19a-447d-a12e-1e886a7ea509\" xlink:type=\"simple\"><polygon fill=\"#FFFFFF\" points=\"32,41,58,41,65,63.2969,72,63.2969,72,93.5938,32,93.5938,32,41\" style=\"stroke: #000000; stroke-width: 1.5;\"/><line style=\"stroke: #000000; stroke-width: 1.5;\" x1=\"32\" x2=\"65\" y1=\"63.2969\" y2=\"63.2969\"/><text fill=\"#000000\" font-family=\"sans-serif\" font-size=\"14\" font-weight=\"bold\" lengthAdjust=\"spacingAndGlyphs\" textLength=\"20\" x=\"36\" y=\"55.9951\">P2</text></a><!--MD5=[2156ba9850f5573cc1fc38a6a4b2f02b]\n",
       "class E7--><a href=\"psysml:9e432445-55c9-4726-a95f-4e15b991b53a\" target=\"_top\" title=\"psysml:9e432445-55c9-4726-a95f-4e15b991b53a\" xlink:actuate=\"onRequest\" xlink:href=\"psysml:9e432445-55c9-4726-a95f-4e15b991b53a\" xlink:show=\"new\" xlink:title=\"psysml:9e432445-55c9-4726-a95f-4e15b991b53a\" xlink:type=\"simple\"><rect fill=\"#FFFFFF\" height=\"45.9375\" id=\"E7\" style=\"stroke: #383838; stroke-width: 1.5;\" width=\"66\" x=\"56\" y=\"154\"/><text fill=\"#000000\" font-family=\"sans-serif\" font-size=\"12\" font-style=\"italic\" lengthAdjust=\"spacingAndGlyphs\" textLength=\"64\" x=\"57\" y=\"170.1387\">«part def»</text><text fill=\"#000000\" font-family=\"sans-serif\" font-size=\"12\" lengthAdjust=\"spacingAndGlyphs\" textLength=\"8\" x=\"85\" y=\"184.1074\">B</text><line style=\"stroke: #383838; stroke-width: 1.5;\" x1=\"57\" x2=\"121\" y1=\"191.9375\" y2=\"191.9375\"/></a><!--MD5=[e9be52314489bd878ff4c7144b63c9e1]\n",
       "link E5 to E3--><a href=\"psysml:d9b9f238-e6f4-4810-bb41-4cf78560774c\" target=\"_top\" title=\"psysml:d9b9f238-e6f4-4810-bb41-4cf78560774c\" xlink:actuate=\"onRequest\" xlink:href=\"psysml:d9b9f238-e6f4-4810-bb41-4cf78560774c\" xlink:show=\"new\" xlink:title=\"psysml:d9b9f238-e6f4-4810-bb41-4cf78560774c\" xlink:type=\"simple\"><path d=\"M211,90.72 C211,90.72 211,133.81 211,133.81 \" fill=\"none\" id=\"E5-&gt;E3\" style=\"stroke: #383838; stroke-width: 1.0;\"/><polygon fill=\"#FFFFFF\" points=\"211,153.81,204,134.81,218,134.81,211,153.81\" style=\"stroke: #383838; stroke-width: 1.0;\"/><ellipse cx=\"206\" cy=\"129.11\" fill=\"#383838\" rx=\"2\" ry=\"2\" style=\"stroke: #383838; stroke-width: 1.0;\"/><ellipse cx=\"216\" cy=\"129.11\" fill=\"#383838\" rx=\"2\" ry=\"2\" style=\"stroke: #383838; stroke-width: 1.0;\"/></a><!--MD5=[bfa3c8b0d15052fdf50ae9310b491027]\n",
       "link E8 to E7--><a href=\"psysml:a13a28be-1001-42f5-9632-37667c0baf51\" target=\"_top\" title=\"psysml:a13a28be-1001-42f5-9632-37667c0baf51\" xlink:actuate=\"onRequest\" xlink:href=\"psysml:a13a28be-1001-42f5-9632-37667c0baf51\" xlink:show=\"new\" xlink:title=\"psysml:a13a28be-1001-42f5-9632-37667c0baf51\" xlink:type=\"simple\"><path d=\"M114.5,90.72 C114.5,90.72 114.5,133.81 114.5,133.81 \" fill=\"none\" id=\"E8-&gt;E7\" style=\"stroke: #383838; stroke-width: 1.0;\"/><polygon fill=\"#FFFFFF\" points=\"114.5,153.81,107.5,134.81,121.5,134.81,114.5,153.81\" style=\"stroke: #383838; stroke-width: 1.0;\"/><ellipse cx=\"109.5\" cy=\"129.11\" fill=\"#383838\" rx=\"2\" ry=\"2\" style=\"stroke: #383838; stroke-width: 1.0;\"/><ellipse cx=\"119.5\" cy=\"129.11\" fill=\"#383838\" rx=\"2\" ry=\"2\" style=\"stroke: #383838; stroke-width: 1.0;\"/></a><!--MD5=[3e2aed08a3fb4724b71b7a557650eee8]\n",
       "@startuml\r\n",
       "skinparam linetype ortho\r\n",
       "skinparam monochrome true\r\n",
       "skinparam classbackgroundcolor white\r\n",
       "skinparam shadowing false\r\n",
       "skinparam wrapWidth 300\r\n",
       "hide circle\r\n",
       "\r\n",
       "package \"PrivateImportTest\" as E1  [[psysml:70757ebb-a6cc-427a-a5fd-274a54eae870 ]]  {\r\n",
       "package \"P1\" as E2  [[psysml:9d9a8ea7-31e0-462e-8cd1-90f7e5dc514d ]]  {\r\n",
       "comp def \"A\" as E3  <<(T,blue)part def>> [[psysml:6090619b-e47a-44a4-bc4e-b4be6f2f4926 ]] {\r\n",
       "}\r\n",
       "}\r\n",
       "package \"P2\" as E4  [[psysml:2344491a-e19a-447d-a12e-1e886a7ea509 ]]  {\r\n",
       "}\r\n",
       "comp usage \"x: A\" as E5  <<(T,blue)part>> [[psysml:794b889b-8918-46e8-9c14-cb61e0d8a2ea ]] {\r\n",
       "}\r\n",
       "package \"P3\" as E6  [[psysml:e8a656ba-c51a-4d2d-932b-ea8b084af9f5 ]]  {\r\n",
       "comp def \"B\" as E7  <<(T,blue)part def>> [[psysml:9e432445-55c9-4726-a95f-4e15b991b53a ]] {\r\n",
       "}\r\n",
       "E5 - -:|> E3 [[psysml:d9b9f238-e6f4-4810-bb41-4cf78560774c ]] \r\n",
       "}\r\n",
       "comp usage \"z: B\" as E8  <<(T,blue)part>> [[psysml:553a92d0-50bf-477b-b2ce-bf491dd9a415 ]] {\r\n",
       "}\r\n",
       "E8 - -:|> E7 [[psysml:a13a28be-1001-42f5-9632-37667c0baf51 ]] \r\n",
       "}\r\n",
       "@enduml\r\n",
       "\n",
       "PlantUML version 1.2020.13(Sat Jun 13 12:26:38 UTC 2020)\n",
       "(EPL source distribution)\n",
       "Java Runtime: OpenJDK Runtime Environment\n",
       "JVM: OpenJDK 64-Bit Server VM\n",
       "Default Encoding: UTF-8\n",
       "Language: en\n",
       "Country: null\n",
       "--></g></svg>"
      ]
     },
     "execution_count": 56,
     "metadata": {},
     "output_type": "execute_result"
    }
   ],
   "source": [
    "%viz --style=\"ORTHOLINE\" --view=\"Sequence\" \"PrivateImportTest\""
   ]
  },
  {
   "cell_type": "code",
   "execution_count": 57,
   "id": "roman-enclosure",
   "metadata": {
    "execution": {
     "iopub.execute_input": "2021-03-25T15:01:21.252102Z",
     "iopub.status.busy": "2021-03-25T15:01:21.251676Z",
     "iopub.status.idle": "2021-03-25T15:01:21.320803Z",
     "shell.execute_reply": "2021-03-25T15:01:21.321415Z"
    }
   },
   "outputs": [
    {
     "data": {
      "image/svg+xml": [
       "<?xml version=\"1.0\" encoding=\"UTF-8\" standalone=\"no\"?><svg xmlns=\"http://www.w3.org/2000/svg\" xmlns:xlink=\"http://www.w3.org/1999/xlink\" contentScriptType=\"application/ecmascript\" contentStyleType=\"text/css\" height=\"252px\" preserveAspectRatio=\"none\" style=\"width:306px;height:252px;\" version=\"1.1\" viewBox=\"0 0 306 252\" width=\"306px\" zoomAndPan=\"magnify\"><defs/><g><!--MD5=[fbc87193dbaf4d95561dea2c320d4a47]\n",
       "cluster E1--><a href=\"psysml:70757ebb-a6cc-427a-a5fd-274a54eae870\" target=\"_top\" title=\"psysml:70757ebb-a6cc-427a-a5fd-274a54eae870\" xlink:actuate=\"onRequest\" xlink:href=\"psysml:70757ebb-a6cc-427a-a5fd-274a54eae870\" xlink:show=\"new\" xlink:title=\"psysml:70757ebb-a6cc-427a-a5fd-274a54eae870\" xlink:type=\"simple\"><polygon fill=\"#FFFFFF\" points=\"16,6,163,6,170,28.2969,284,28.2969,284,240,16,240,16,6\" style=\"stroke: #000000; stroke-width: 1.5;\"/><line style=\"stroke: #000000; stroke-width: 1.5;\" x1=\"16\" x2=\"170\" y1=\"28.2969\" y2=\"28.2969\"/><text fill=\"#000000\" font-family=\"sans-serif\" font-size=\"14\" font-weight=\"bold\" lengthAdjust=\"spacingAndGlyphs\" textLength=\"141\" x=\"20\" y=\"20.9951\">PrivateImportTest</text></a><!--MD5=[e4f7fae6ed58524ba242bb0b0d3be6b7]\n",
       "cluster E2--><a href=\"psysml:9d9a8ea7-31e0-462e-8cd1-90f7e5dc514d\" target=\"_top\" title=\"psysml:9d9a8ea7-31e0-462e-8cd1-90f7e5dc514d\" xlink:actuate=\"onRequest\" xlink:href=\"psysml:9d9a8ea7-31e0-462e-8cd1-90f7e5dc514d\" xlink:show=\"new\" xlink:title=\"psysml:9d9a8ea7-31e0-462e-8cd1-90f7e5dc514d\" xlink:type=\"simple\"><polygon fill=\"#FFFFFF\" points=\"162,119,188,119,195,141.2969,260,141.2969,260,216,162,216,162,119\" style=\"stroke: #000000; stroke-width: 1.5;\"/><line style=\"stroke: #000000; stroke-width: 1.5;\" x1=\"162\" x2=\"195\" y1=\"141.2969\" y2=\"141.2969\"/><text fill=\"#000000\" font-family=\"sans-serif\" font-size=\"14\" font-weight=\"bold\" lengthAdjust=\"spacingAndGlyphs\" textLength=\"20\" x=\"166\" y=\"133.9951\">P1</text></a><!--MD5=[14e3b0961a2654348d326746436168a1]\n",
       "cluster E6--><a href=\"psysml:e8a656ba-c51a-4d2d-932b-ea8b084af9f5\" target=\"_top\" title=\"psysml:e8a656ba-c51a-4d2d-932b-ea8b084af9f5\" xlink:actuate=\"onRequest\" xlink:href=\"psysml:e8a656ba-c51a-4d2d-932b-ea8b084af9f5\" xlink:show=\"new\" xlink:title=\"psysml:e8a656ba-c51a-4d2d-932b-ea8b084af9f5\" xlink:type=\"simple\"><polygon fill=\"#FFFFFF\" points=\"40,119,66,119,73,141.2969,138,141.2969,138,216,40,216,40,119\" style=\"stroke: #000000; stroke-width: 1.5;\"/><line style=\"stroke: #000000; stroke-width: 1.5;\" x1=\"40\" x2=\"73\" y1=\"141.2969\" y2=\"141.2969\"/><text fill=\"#000000\" font-family=\"sans-serif\" font-size=\"14\" font-weight=\"bold\" lengthAdjust=\"spacingAndGlyphs\" textLength=\"20\" x=\"44\" y=\"133.9951\">P3</text></a><!--MD5=[270fce915f116d4de14055a7c1d9a0f3]\n",
       "class E5--><a href=\"psysml:794b889b-8918-46e8-9c14-cb61e0d8a2ea\" target=\"_top\" title=\"psysml:794b889b-8918-46e8-9c14-cb61e0d8a2ea\" xlink:actuate=\"onRequest\" xlink:href=\"psysml:794b889b-8918-46e8-9c14-cb61e0d8a2ea\" xlink:show=\"new\" xlink:title=\"psysml:794b889b-8918-46e8-9c14-cb61e0d8a2ea\" xlink:type=\"simple\"><rect fill=\"#FFFFFF\" height=\"45.9375\" id=\"E5\" rx=\"10\" ry=\"10\" style=\"stroke: #383838; stroke-width: 1.5;\" width=\"42\" x=\"190\" y=\"44.5\"/><text fill=\"#000000\" font-family=\"sans-serif\" font-size=\"12\" font-style=\"italic\" lengthAdjust=\"spacingAndGlyphs\" textLength=\"40\" x=\"191\" y=\"60.6387\">«part»</text><text fill=\"#000000\" font-family=\"sans-serif\" font-size=\"12\" lengthAdjust=\"spacingAndGlyphs\" textLength=\"22\" x=\"200\" y=\"74.6074\">x: A</text><line style=\"stroke: #383838; stroke-width: 1.5;\" x1=\"191\" x2=\"231\" y1=\"82.4375\" y2=\"82.4375\"/></a><!--MD5=[b9389687b975829384b498ac4b7476b2]\n",
       "class E8--><a href=\"psysml:553a92d0-50bf-477b-b2ce-bf491dd9a415\" target=\"_top\" title=\"psysml:553a92d0-50bf-477b-b2ce-bf491dd9a415\" xlink:actuate=\"onRequest\" xlink:href=\"psysml:553a92d0-50bf-477b-b2ce-bf491dd9a415\" xlink:show=\"new\" xlink:title=\"psysml:553a92d0-50bf-477b-b2ce-bf491dd9a415\" xlink:type=\"simple\"><rect fill=\"#FFFFFF\" height=\"45.9375\" id=\"E8\" rx=\"10\" ry=\"10\" style=\"stroke: #383838; stroke-width: 1.5;\" width=\"42\" x=\"107\" y=\"44.5\"/><text fill=\"#000000\" font-family=\"sans-serif\" font-size=\"12\" font-style=\"italic\" lengthAdjust=\"spacingAndGlyphs\" textLength=\"40\" x=\"108\" y=\"60.6387\">«part»</text><text fill=\"#000000\" font-family=\"sans-serif\" font-size=\"12\" lengthAdjust=\"spacingAndGlyphs\" textLength=\"21\" x=\"117.5\" y=\"74.6074\">z: B</text><line style=\"stroke: #383838; stroke-width: 1.5;\" x1=\"108\" x2=\"148\" y1=\"82.4375\" y2=\"82.4375\"/></a><!--MD5=[09b614a08d8cba4a07c9adeb5e0fee81]\n",
       "class E3--><a href=\"psysml:6090619b-e47a-44a4-bc4e-b4be6f2f4926\" target=\"_top\" title=\"psysml:6090619b-e47a-44a4-bc4e-b4be6f2f4926\" xlink:actuate=\"onRequest\" xlink:href=\"psysml:6090619b-e47a-44a4-bc4e-b4be6f2f4926\" xlink:show=\"new\" xlink:title=\"psysml:6090619b-e47a-44a4-bc4e-b4be6f2f4926\" xlink:type=\"simple\"><rect fill=\"#FFFFFF\" height=\"45.9375\" id=\"E3\" style=\"stroke: #383838; stroke-width: 1.5;\" width=\"66\" x=\"178\" y=\"154\"/><text fill=\"#000000\" font-family=\"sans-serif\" font-size=\"12\" font-style=\"italic\" lengthAdjust=\"spacingAndGlyphs\" textLength=\"64\" x=\"179\" y=\"170.1387\">«part def»</text><text fill=\"#000000\" font-family=\"sans-serif\" font-size=\"12\" lengthAdjust=\"spacingAndGlyphs\" textLength=\"8\" x=\"207\" y=\"184.1074\">A</text><line style=\"stroke: #383838; stroke-width: 1.5;\" x1=\"179\" x2=\"243\" y1=\"191.9375\" y2=\"191.9375\"/></a><a href=\"psysml:2344491a-e19a-447d-a12e-1e886a7ea509\" target=\"_top\" title=\"psysml:2344491a-e19a-447d-a12e-1e886a7ea509\" xlink:actuate=\"onRequest\" xlink:href=\"psysml:2344491a-e19a-447d-a12e-1e886a7ea509\" xlink:show=\"new\" xlink:title=\"psysml:2344491a-e19a-447d-a12e-1e886a7ea509\" xlink:type=\"simple\"><polygon fill=\"#FFFFFF\" points=\"32,41,58,41,65,63.2969,72,63.2969,72,93.5938,32,93.5938,32,41\" style=\"stroke: #000000; stroke-width: 1.5;\"/><line style=\"stroke: #000000; stroke-width: 1.5;\" x1=\"32\" x2=\"65\" y1=\"63.2969\" y2=\"63.2969\"/><text fill=\"#000000\" font-family=\"sans-serif\" font-size=\"14\" font-weight=\"bold\" lengthAdjust=\"spacingAndGlyphs\" textLength=\"20\" x=\"36\" y=\"55.9951\">P2</text></a><!--MD5=[2156ba9850f5573cc1fc38a6a4b2f02b]\n",
       "class E7--><a href=\"psysml:9e432445-55c9-4726-a95f-4e15b991b53a\" target=\"_top\" title=\"psysml:9e432445-55c9-4726-a95f-4e15b991b53a\" xlink:actuate=\"onRequest\" xlink:href=\"psysml:9e432445-55c9-4726-a95f-4e15b991b53a\" xlink:show=\"new\" xlink:title=\"psysml:9e432445-55c9-4726-a95f-4e15b991b53a\" xlink:type=\"simple\"><rect fill=\"#FFFFFF\" height=\"45.9375\" id=\"E7\" style=\"stroke: #383838; stroke-width: 1.5;\" width=\"66\" x=\"56\" y=\"154\"/><text fill=\"#000000\" font-family=\"sans-serif\" font-size=\"12\" font-style=\"italic\" lengthAdjust=\"spacingAndGlyphs\" textLength=\"64\" x=\"57\" y=\"170.1387\">«part def»</text><text fill=\"#000000\" font-family=\"sans-serif\" font-size=\"12\" lengthAdjust=\"spacingAndGlyphs\" textLength=\"8\" x=\"85\" y=\"184.1074\">B</text><line style=\"stroke: #383838; stroke-width: 1.5;\" x1=\"57\" x2=\"121\" y1=\"191.9375\" y2=\"191.9375\"/></a><!--MD5=[e9be52314489bd878ff4c7144b63c9e1]\n",
       "link E5 to E3--><a href=\"psysml:d9b9f238-e6f4-4810-bb41-4cf78560774c\" target=\"_top\" title=\"psysml:d9b9f238-e6f4-4810-bb41-4cf78560774c\" xlink:actuate=\"onRequest\" xlink:href=\"psysml:d9b9f238-e6f4-4810-bb41-4cf78560774c\" xlink:show=\"new\" xlink:title=\"psysml:d9b9f238-e6f4-4810-bb41-4cf78560774c\" xlink:type=\"simple\"><path d=\"M211,90.72 C211,90.72 211,133.81 211,133.81 \" fill=\"none\" id=\"E5-&gt;E3\" style=\"stroke: #383838; stroke-width: 1.0;\"/><polygon fill=\"#FFFFFF\" points=\"211,153.81,204,134.81,218,134.81,211,153.81\" style=\"stroke: #383838; stroke-width: 1.0;\"/><ellipse cx=\"206\" cy=\"129.11\" fill=\"#383838\" rx=\"2\" ry=\"2\" style=\"stroke: #383838; stroke-width: 1.0;\"/><ellipse cx=\"216\" cy=\"129.11\" fill=\"#383838\" rx=\"2\" ry=\"2\" style=\"stroke: #383838; stroke-width: 1.0;\"/></a><!--MD5=[bfa3c8b0d15052fdf50ae9310b491027]\n",
       "link E8 to E7--><a href=\"psysml:a13a28be-1001-42f5-9632-37667c0baf51\" target=\"_top\" title=\"psysml:a13a28be-1001-42f5-9632-37667c0baf51\" xlink:actuate=\"onRequest\" xlink:href=\"psysml:a13a28be-1001-42f5-9632-37667c0baf51\" xlink:show=\"new\" xlink:title=\"psysml:a13a28be-1001-42f5-9632-37667c0baf51\" xlink:type=\"simple\"><path d=\"M114.5,90.72 C114.5,90.72 114.5,133.81 114.5,133.81 \" fill=\"none\" id=\"E8-&gt;E7\" style=\"stroke: #383838; stroke-width: 1.0;\"/><polygon fill=\"#FFFFFF\" points=\"114.5,153.81,107.5,134.81,121.5,134.81,114.5,153.81\" style=\"stroke: #383838; stroke-width: 1.0;\"/><ellipse cx=\"109.5\" cy=\"129.11\" fill=\"#383838\" rx=\"2\" ry=\"2\" style=\"stroke: #383838; stroke-width: 1.0;\"/><ellipse cx=\"119.5\" cy=\"129.11\" fill=\"#383838\" rx=\"2\" ry=\"2\" style=\"stroke: #383838; stroke-width: 1.0;\"/></a><!--MD5=[3e2aed08a3fb4724b71b7a557650eee8]\n",
       "@startuml\r\n",
       "skinparam linetype ortho\r\n",
       "skinparam monochrome true\r\n",
       "skinparam classbackgroundcolor white\r\n",
       "skinparam shadowing false\r\n",
       "skinparam wrapWidth 300\r\n",
       "hide circle\r\n",
       "\r\n",
       "package \"PrivateImportTest\" as E1  [[psysml:70757ebb-a6cc-427a-a5fd-274a54eae870 ]]  {\r\n",
       "package \"P1\" as E2  [[psysml:9d9a8ea7-31e0-462e-8cd1-90f7e5dc514d ]]  {\r\n",
       "comp def \"A\" as E3  <<(T,blue)part def>> [[psysml:6090619b-e47a-44a4-bc4e-b4be6f2f4926 ]] {\r\n",
       "}\r\n",
       "}\r\n",
       "package \"P2\" as E4  [[psysml:2344491a-e19a-447d-a12e-1e886a7ea509 ]]  {\r\n",
       "}\r\n",
       "comp usage \"x: A\" as E5  <<(T,blue)part>> [[psysml:794b889b-8918-46e8-9c14-cb61e0d8a2ea ]] {\r\n",
       "}\r\n",
       "package \"P3\" as E6  [[psysml:e8a656ba-c51a-4d2d-932b-ea8b084af9f5 ]]  {\r\n",
       "comp def \"B\" as E7  <<(T,blue)part def>> [[psysml:9e432445-55c9-4726-a95f-4e15b991b53a ]] {\r\n",
       "}\r\n",
       "E5 - -:|> E3 [[psysml:d9b9f238-e6f4-4810-bb41-4cf78560774c ]] \r\n",
       "}\r\n",
       "comp usage \"z: B\" as E8  <<(T,blue)part>> [[psysml:553a92d0-50bf-477b-b2ce-bf491dd9a415 ]] {\r\n",
       "}\r\n",
       "E8 - -:|> E7 [[psysml:a13a28be-1001-42f5-9632-37667c0baf51 ]] \r\n",
       "}\r\n",
       "@enduml\r\n",
       "\n",
       "PlantUML version 1.2020.13(Sat Jun 13 12:26:38 UTC 2020)\n",
       "(EPL source distribution)\n",
       "Java Runtime: OpenJDK Runtime Environment\n",
       "JVM: OpenJDK 64-Bit Server VM\n",
       "Default Encoding: UTF-8\n",
       "Language: en\n",
       "Country: null\n",
       "--></g></svg>"
      ]
     },
     "execution_count": 57,
     "metadata": {},
     "output_type": "execute_result"
    }
   ],
   "source": [
    "%viz --style=\"ORTHOLINE\" --view=\"MIXED\" \"PrivateImportTest\""
   ]
  }
 ],
 "metadata": {
  "kernelspec": {
   "display_name": "SysML",
   "language": "sysml",
   "name": "sysml"
  },
  "language_info": {
   "codemirror_mode": "sysml",
   "file_extension": ".sysml",
   "mimetype": "text/x-sysml",
   "name": "SysML",
   "pygments_lexer": "java",
   "version": "1.0.0"
  }
 },
 "nbformat": 4,
 "nbformat_minor": 5
}
