{
 "cells": [
  {
   "cell_type": "markdown",
   "id": "successful-mayor",
   "metadata": {},
   "source": [
    "# SysML v2 Test Suite\n",
    "\n",
    "This can notebook can be cleared using menu `Edit --> Clear All Outputs` and then all cells can be\n",
    "run using menu `Run --> Run All Cells`.\n",
    "\n",
    "**WARNING**: This file is generated, all modifications here will be ignored.\n"
   ]
  },
  {
   "cell_type": "markdown",
   "id": "fresh-nevada",
   "metadata": {},
   "source": [
    "## File: ../../sysml/src/examples/Import Tests/PrivateImportTest.sysml"
   ]
  },
  {
   "cell_type": "code",
   "execution_count": 1,
   "id": "committed-brand",
   "metadata": {
    "execution": {
     "iopub.execute_input": "2021-03-25T15:59:48.077470Z",
     "iopub.status.busy": "2021-03-25T15:59:48.076694Z",
     "iopub.status.idle": "2021-03-25T15:59:48.255738Z",
     "shell.execute_reply": "2021-03-25T15:59:48.255221Z"
    }
   },
   "outputs": [
    {
     "data": {
      "text/plain": [
       "Package PrivateImportTest (93833022-9814-4fe2-a8e5-425568d608f7)\n"
      ]
     },
     "execution_count": 1,
     "metadata": {},
     "output_type": "execute_result"
    }
   ],
   "source": [
    "package PrivateImportTest {\n",
    "\tpackage P1 {\n",
    "\t\tpart def A;\n",
    "\t}\n",
    "\tpackage P2 {\n",
    "\t\tprivate import P1::*;\n",
    "\t}\n",
    "\tpart x: P1::A;\n",
    "\t\n",
    "\timport P2::*;\n",
    "\t// This should fail.\n",
    "\t// A is not visible, because the import in P2 is private.\n",
    "\t// y: A;\n",
    "\t\n",
    "\tpackage P3 {\n",
    "\t\tpart def B;\n",
    "\t}\n",
    "\t\n",
    "\tprivate import P3::*;\n",
    "\t\n",
    "\t// This should not fail.\n",
    "\t// Private import only restricts visibility outside the package.\n",
    "\tpart z: B;\n",
    "\t\n",
    "}"
   ]
  },
  {
   "cell_type": "code",
   "execution_count": 2,
   "id": "adverse-bench",
   "metadata": {
    "execution": {
     "iopub.execute_input": "2021-03-25T15:59:48.308023Z",
     "iopub.status.busy": "2021-03-25T15:59:48.307373Z",
     "iopub.status.idle": "2021-03-25T15:59:48.321105Z",
     "shell.execute_reply": "2021-03-25T15:59:48.321502Z"
    }
   },
   "outputs": [
    {
     "data": {
      "text/plain": [
       "java.lang.IllegalArgumentException: Invalid Style: COMPTREE Possible styles: POLYLINE, LR, STDCOLOR, PLANTUML, DEFAULT, TB, ORTHOLINE\n",
       "\tat org.omg.sysml.plantuml.SysML2PlantUMLStyle.get(SysML2PlantUMLStyle.java:258)\n",
       "\tat org.omg.sysml.plantuml.SysML2PlantUMLSvc.applyStyle(SysML2PlantUMLSvc.java:73)\n",
       "\tat org.omg.sysml.plantuml.SysML2PlantUMLSvc.getPlantUMLCode(SysML2PlantUMLSvc.java:88)\n",
       "\tat org.omg.sysml.plantuml.SysML2PlantUMLSvc.getSVG(SysML2PlantUMLSvc.java:99)\n",
       "\tat org.omg.sysml.interactive.SysMLInteractive.viz(SysMLInteractive.java:294)\n",
       "\tat org.omg.sysml.jupyter.kernel.magic.Viz.viz(Viz.java:47)\n",
       "\tat java.base/jdk.internal.reflect.NativeMethodAccessorImpl.invoke0(Native Method)\n",
       "\tat java.base/jdk.internal.reflect.NativeMethodAccessorImpl.invoke(NativeMethodAccessorImpl.java:78)\n",
       "\tat java.base/jdk.internal.reflect.DelegatingMethodAccessorImpl.invoke(DelegatingMethodAccessorImpl.java:43)\n",
       "\tat java.base/java.lang.reflect.Method.invoke(Method.java:568)\n",
       "\tat io.github.spencerpark.jupyter.kernel.magic.registry.Magics.invoke(Magics.java:89)\n",
       "\tat io.github.spencerpark.jupyter.kernel.magic.registry.Magics.access$000(Magics.java:8)\n",
       "\tat io.github.spencerpark.jupyter.kernel.magic.registry.Magics$LineReflectionMagicFunction.execute(Magics.java:149)\n",
       "\tat io.github.spencerpark.jupyter.kernel.magic.registry.Magics.applyLineMagic(Magics.java:26)\n",
       "\tat org.omg.sysml.jupyter.kernel.SysMLKernel.eval(SysMLKernel.java:76)\n",
       "\tat io.github.spencerpark.jupyter.kernel.BaseKernel.handleExecuteRequest(BaseKernel.java:334)\n",
       "\tat io.github.spencerpark.jupyter.channels.ShellChannel.lambda$bind$0(ShellChannel.java:64)\n",
       "\tat io.github.spencerpark.jupyter.channels.Loop.lambda$new$0(Loop.java:21)\n",
       "\tat io.github.spencerpark.jupyter.channels.Loop.run(Loop.java:78)\n"
      ]
     },
     "execution_count": 2,
     "metadata": {},
     "output_type": "execute_result"
    }
   ],
   "source": [
    "%viz --style=\"COMPTREE\" --view=\"Default\" \"PrivateImportTest\""
   ]
  },
  {
   "cell_type": "code",
   "execution_count": 3,
   "id": "aware-gazette",
   "metadata": {
    "execution": {
     "iopub.execute_input": "2021-03-25T15:59:48.373655Z",
     "iopub.status.busy": "2021-03-25T15:59:48.372955Z",
     "iopub.status.idle": "2021-03-25T15:59:48.375738Z",
     "shell.execute_reply": "2021-03-25T15:59:48.376136Z"
    }
   },
   "outputs": [
    {
     "data": {
      "text/plain": [
       "java.lang.IllegalArgumentException: Invalid Style: COMPTREE Possible styles: POLYLINE, LR, STDCOLOR, PLANTUML, DEFAULT, TB, ORTHOLINE\n",
       "\tat org.omg.sysml.plantuml.SysML2PlantUMLStyle.get(SysML2PlantUMLStyle.java:258)\n",
       "\tat org.omg.sysml.plantuml.SysML2PlantUMLSvc.applyStyle(SysML2PlantUMLSvc.java:73)\n",
       "\tat org.omg.sysml.plantuml.SysML2PlantUMLSvc.getPlantUMLCode(SysML2PlantUMLSvc.java:88)\n",
       "\tat org.omg.sysml.plantuml.SysML2PlantUMLSvc.getSVG(SysML2PlantUMLSvc.java:99)\n",
       "\tat org.omg.sysml.interactive.SysMLInteractive.viz(SysMLInteractive.java:294)\n",
       "\tat org.omg.sysml.jupyter.kernel.magic.Viz.viz(Viz.java:47)\n",
       "\tat java.base/jdk.internal.reflect.NativeMethodAccessorImpl.invoke0(Native Method)\n",
       "\tat java.base/jdk.internal.reflect.NativeMethodAccessorImpl.invoke(NativeMethodAccessorImpl.java:78)\n",
       "\tat java.base/jdk.internal.reflect.DelegatingMethodAccessorImpl.invoke(DelegatingMethodAccessorImpl.java:43)\n",
       "\tat java.base/java.lang.reflect.Method.invoke(Method.java:568)\n",
       "\tat io.github.spencerpark.jupyter.kernel.magic.registry.Magics.invoke(Magics.java:89)\n",
       "\tat io.github.spencerpark.jupyter.kernel.magic.registry.Magics.access$000(Magics.java:8)\n",
       "\tat io.github.spencerpark.jupyter.kernel.magic.registry.Magics$LineReflectionMagicFunction.execute(Magics.java:149)\n",
       "\tat io.github.spencerpark.jupyter.kernel.magic.registry.Magics.applyLineMagic(Magics.java:26)\n",
       "\tat org.omg.sysml.jupyter.kernel.SysMLKernel.eval(SysMLKernel.java:76)\n",
       "\tat io.github.spencerpark.jupyter.kernel.BaseKernel.handleExecuteRequest(BaseKernel.java:334)\n",
       "\tat io.github.spencerpark.jupyter.channels.ShellChannel.lambda$bind$0(ShellChannel.java:64)\n",
       "\tat io.github.spencerpark.jupyter.channels.Loop.lambda$new$0(Loop.java:21)\n",
       "\tat io.github.spencerpark.jupyter.channels.Loop.run(Loop.java:78)\n"
      ]
     },
     "execution_count": 3,
     "metadata": {},
     "output_type": "execute_result"
    }
   ],
   "source": [
    "%viz --style=\"COMPTREE\" --view=\"Tree\" \"PrivateImportTest\""
   ]
  },
  {
   "cell_type": "code",
   "execution_count": 4,
   "id": "million-solid",
   "metadata": {
    "execution": {
     "iopub.execute_input": "2021-03-25T15:59:48.427068Z",
     "iopub.status.busy": "2021-03-25T15:59:48.426565Z",
     "iopub.status.idle": "2021-03-25T15:59:48.429653Z",
     "shell.execute_reply": "2021-03-25T15:59:48.430027Z"
    }
   },
   "outputs": [
    {
     "data": {
      "text/plain": [
       "java.lang.IllegalArgumentException: Invalid View: State View candidates are: Default Tree StateMachine Interconnection Activity Sequence MIXED \n",
       "\tat org.omg.sysml.plantuml.SysML2PlantUMLSvc.setView(SysML2PlantUMLSvc.java:63)\n",
       "\tat org.omg.sysml.interactive.SysMLInteractive.viz(SysMLInteractive.java:286)\n",
       "\tat org.omg.sysml.jupyter.kernel.magic.Viz.viz(Viz.java:47)\n",
       "\tat java.base/jdk.internal.reflect.NativeMethodAccessorImpl.invoke0(Native Method)\n",
       "\tat java.base/jdk.internal.reflect.NativeMethodAccessorImpl.invoke(NativeMethodAccessorImpl.java:78)\n",
       "\tat java.base/jdk.internal.reflect.DelegatingMethodAccessorImpl.invoke(DelegatingMethodAccessorImpl.java:43)\n",
       "\tat java.base/java.lang.reflect.Method.invoke(Method.java:568)\n",
       "\tat io.github.spencerpark.jupyter.kernel.magic.registry.Magics.invoke(Magics.java:89)\n",
       "\tat io.github.spencerpark.jupyter.kernel.magic.registry.Magics.access$000(Magics.java:8)\n",
       "\tat io.github.spencerpark.jupyter.kernel.magic.registry.Magics$LineReflectionMagicFunction.execute(Magics.java:149)\n",
       "\tat io.github.spencerpark.jupyter.kernel.magic.registry.Magics.applyLineMagic(Magics.java:26)\n",
       "\tat org.omg.sysml.jupyter.kernel.SysMLKernel.eval(SysMLKernel.java:76)\n",
       "\tat io.github.spencerpark.jupyter.kernel.BaseKernel.handleExecuteRequest(BaseKernel.java:334)\n",
       "\tat io.github.spencerpark.jupyter.channels.ShellChannel.lambda$bind$0(ShellChannel.java:64)\n",
       "\tat io.github.spencerpark.jupyter.channels.Loop.lambda$new$0(Loop.java:21)\n",
       "\tat io.github.spencerpark.jupyter.channels.Loop.run(Loop.java:78)\n"
      ]
     },
     "execution_count": 4,
     "metadata": {},
     "output_type": "execute_result"
    }
   ],
   "source": [
    "%viz --style=\"COMPTREE\" --view=\"State\" \"PrivateImportTest\""
   ]
  },
  {
   "cell_type": "code",
   "execution_count": 5,
   "id": "square-detroit",
   "metadata": {
    "execution": {
     "iopub.execute_input": "2021-03-25T15:59:48.481265Z",
     "iopub.status.busy": "2021-03-25T15:59:48.480598Z",
     "iopub.status.idle": "2021-03-25T15:59:48.483184Z",
     "shell.execute_reply": "2021-03-25T15:59:48.483582Z"
    }
   },
   "outputs": [
    {
     "data": {
      "text/plain": [
       "java.lang.IllegalArgumentException: Invalid Style: COMPTREE Possible styles: POLYLINE, LR, STDCOLOR, PLANTUML, DEFAULT, TB, ORTHOLINE\n",
       "\tat org.omg.sysml.plantuml.SysML2PlantUMLStyle.get(SysML2PlantUMLStyle.java:258)\n",
       "\tat org.omg.sysml.plantuml.SysML2PlantUMLSvc.applyStyle(SysML2PlantUMLSvc.java:73)\n",
       "\tat org.omg.sysml.plantuml.SysML2PlantUMLSvc.getPlantUMLCode(SysML2PlantUMLSvc.java:88)\n",
       "\tat org.omg.sysml.plantuml.SysML2PlantUMLSvc.getSVG(SysML2PlantUMLSvc.java:99)\n",
       "\tat org.omg.sysml.interactive.SysMLInteractive.viz(SysMLInteractive.java:294)\n",
       "\tat org.omg.sysml.jupyter.kernel.magic.Viz.viz(Viz.java:47)\n",
       "\tat java.base/jdk.internal.reflect.NativeMethodAccessorImpl.invoke0(Native Method)\n",
       "\tat java.base/jdk.internal.reflect.NativeMethodAccessorImpl.invoke(NativeMethodAccessorImpl.java:78)\n",
       "\tat java.base/jdk.internal.reflect.DelegatingMethodAccessorImpl.invoke(DelegatingMethodAccessorImpl.java:43)\n",
       "\tat java.base/java.lang.reflect.Method.invoke(Method.java:568)\n",
       "\tat io.github.spencerpark.jupyter.kernel.magic.registry.Magics.invoke(Magics.java:89)\n",
       "\tat io.github.spencerpark.jupyter.kernel.magic.registry.Magics.access$000(Magics.java:8)\n",
       "\tat io.github.spencerpark.jupyter.kernel.magic.registry.Magics$LineReflectionMagicFunction.execute(Magics.java:149)\n",
       "\tat io.github.spencerpark.jupyter.kernel.magic.registry.Magics.applyLineMagic(Magics.java:26)\n",
       "\tat org.omg.sysml.jupyter.kernel.SysMLKernel.eval(SysMLKernel.java:76)\n",
       "\tat io.github.spencerpark.jupyter.kernel.BaseKernel.handleExecuteRequest(BaseKernel.java:334)\n",
       "\tat io.github.spencerpark.jupyter.channels.ShellChannel.lambda$bind$0(ShellChannel.java:64)\n",
       "\tat io.github.spencerpark.jupyter.channels.Loop.lambda$new$0(Loop.java:21)\n",
       "\tat io.github.spencerpark.jupyter.channels.Loop.run(Loop.java:78)\n"
      ]
     },
     "execution_count": 5,
     "metadata": {},
     "output_type": "execute_result"
    }
   ],
   "source": [
    "%viz --style=\"COMPTREE\" --view=\"Interconnection\" \"PrivateImportTest\""
   ]
  },
  {
   "cell_type": "code",
   "execution_count": 6,
   "id": "typical-three",
   "metadata": {
    "execution": {
     "iopub.execute_input": "2021-03-25T15:59:48.535519Z",
     "iopub.status.busy": "2021-03-25T15:59:48.535037Z",
     "iopub.status.idle": "2021-03-25T15:59:48.537470Z",
     "shell.execute_reply": "2021-03-25T15:59:48.538112Z"
    }
   },
   "outputs": [
    {
     "data": {
      "text/plain": [
       "java.lang.IllegalArgumentException: Invalid View: Action View candidates are: Default Tree StateMachine Interconnection Activity Sequence MIXED \n",
       "\tat org.omg.sysml.plantuml.SysML2PlantUMLSvc.setView(SysML2PlantUMLSvc.java:63)\n",
       "\tat org.omg.sysml.interactive.SysMLInteractive.viz(SysMLInteractive.java:286)\n",
       "\tat org.omg.sysml.jupyter.kernel.magic.Viz.viz(Viz.java:47)\n",
       "\tat java.base/jdk.internal.reflect.NativeMethodAccessorImpl.invoke0(Native Method)\n",
       "\tat java.base/jdk.internal.reflect.NativeMethodAccessorImpl.invoke(NativeMethodAccessorImpl.java:78)\n",
       "\tat java.base/jdk.internal.reflect.DelegatingMethodAccessorImpl.invoke(DelegatingMethodAccessorImpl.java:43)\n",
       "\tat java.base/java.lang.reflect.Method.invoke(Method.java:568)\n",
       "\tat io.github.spencerpark.jupyter.kernel.magic.registry.Magics.invoke(Magics.java:89)\n",
       "\tat io.github.spencerpark.jupyter.kernel.magic.registry.Magics.access$000(Magics.java:8)\n",
       "\tat io.github.spencerpark.jupyter.kernel.magic.registry.Magics$LineReflectionMagicFunction.execute(Magics.java:149)\n",
       "\tat io.github.spencerpark.jupyter.kernel.magic.registry.Magics.applyLineMagic(Magics.java:26)\n",
       "\tat org.omg.sysml.jupyter.kernel.SysMLKernel.eval(SysMLKernel.java:76)\n",
       "\tat io.github.spencerpark.jupyter.kernel.BaseKernel.handleExecuteRequest(BaseKernel.java:334)\n",
       "\tat io.github.spencerpark.jupyter.channels.ShellChannel.lambda$bind$0(ShellChannel.java:64)\n",
       "\tat io.github.spencerpark.jupyter.channels.Loop.lambda$new$0(Loop.java:21)\n",
       "\tat io.github.spencerpark.jupyter.channels.Loop.run(Loop.java:78)\n"
      ]
     },
     "execution_count": 6,
     "metadata": {},
     "output_type": "execute_result"
    }
   ],
   "source": [
    "%viz --style=\"COMPTREE\" --view=\"Action\" \"PrivateImportTest\""
   ]
  },
  {
   "cell_type": "code",
   "execution_count": 7,
   "id": "bulgarian-render",
   "metadata": {
    "execution": {
     "iopub.execute_input": "2021-03-25T15:59:48.592270Z",
     "iopub.status.busy": "2021-03-25T15:59:48.591348Z",
     "iopub.status.idle": "2021-03-25T15:59:48.594727Z",
     "shell.execute_reply": "2021-03-25T15:59:48.595223Z"
    }
   },
   "outputs": [
    {
     "data": {
      "text/plain": [
       "java.lang.IllegalArgumentException: Invalid Style: COMPTREE Possible styles: POLYLINE, LR, STDCOLOR, PLANTUML, DEFAULT, TB, ORTHOLINE\n",
       "\tat org.omg.sysml.plantuml.SysML2PlantUMLStyle.get(SysML2PlantUMLStyle.java:258)\n",
       "\tat org.omg.sysml.plantuml.SysML2PlantUMLSvc.applyStyle(SysML2PlantUMLSvc.java:73)\n",
       "\tat org.omg.sysml.plantuml.SysML2PlantUMLSvc.getPlantUMLCode(SysML2PlantUMLSvc.java:88)\n",
       "\tat org.omg.sysml.plantuml.SysML2PlantUMLSvc.getSVG(SysML2PlantUMLSvc.java:99)\n",
       "\tat org.omg.sysml.interactive.SysMLInteractive.viz(SysMLInteractive.java:294)\n",
       "\tat org.omg.sysml.jupyter.kernel.magic.Viz.viz(Viz.java:47)\n",
       "\tat java.base/jdk.internal.reflect.NativeMethodAccessorImpl.invoke0(Native Method)\n",
       "\tat java.base/jdk.internal.reflect.NativeMethodAccessorImpl.invoke(NativeMethodAccessorImpl.java:78)\n",
       "\tat java.base/jdk.internal.reflect.DelegatingMethodAccessorImpl.invoke(DelegatingMethodAccessorImpl.java:43)\n",
       "\tat java.base/java.lang.reflect.Method.invoke(Method.java:568)\n",
       "\tat io.github.spencerpark.jupyter.kernel.magic.registry.Magics.invoke(Magics.java:89)\n",
       "\tat io.github.spencerpark.jupyter.kernel.magic.registry.Magics.access$000(Magics.java:8)\n",
       "\tat io.github.spencerpark.jupyter.kernel.magic.registry.Magics$LineReflectionMagicFunction.execute(Magics.java:149)\n",
       "\tat io.github.spencerpark.jupyter.kernel.magic.registry.Magics.applyLineMagic(Magics.java:26)\n",
       "\tat org.omg.sysml.jupyter.kernel.SysMLKernel.eval(SysMLKernel.java:76)\n",
       "\tat io.github.spencerpark.jupyter.kernel.BaseKernel.handleExecuteRequest(BaseKernel.java:334)\n",
       "\tat io.github.spencerpark.jupyter.channels.ShellChannel.lambda$bind$0(ShellChannel.java:64)\n",
       "\tat io.github.spencerpark.jupyter.channels.Loop.lambda$new$0(Loop.java:21)\n",
       "\tat io.github.spencerpark.jupyter.channels.Loop.run(Loop.java:78)\n"
      ]
     },
     "execution_count": 7,
     "metadata": {},
     "output_type": "execute_result"
    }
   ],
   "source": [
    "%viz --style=\"COMPTREE\" --view=\"Sequence\" \"PrivateImportTest\""
   ]
  },
  {
   "cell_type": "code",
   "execution_count": 8,
   "id": "norwegian-discount",
   "metadata": {
    "execution": {
     "iopub.execute_input": "2021-03-25T15:59:48.646825Z",
     "iopub.status.busy": "2021-03-25T15:59:48.646312Z",
     "iopub.status.idle": "2021-03-25T15:59:48.648816Z",
     "shell.execute_reply": "2021-03-25T15:59:48.649188Z"
    }
   },
   "outputs": [
    {
     "data": {
      "text/plain": [
       "java.lang.IllegalArgumentException: Invalid Style: COMPTREE Possible styles: POLYLINE, LR, STDCOLOR, PLANTUML, DEFAULT, TB, ORTHOLINE\n",
       "\tat org.omg.sysml.plantuml.SysML2PlantUMLStyle.get(SysML2PlantUMLStyle.java:258)\n",
       "\tat org.omg.sysml.plantuml.SysML2PlantUMLSvc.applyStyle(SysML2PlantUMLSvc.java:73)\n",
       "\tat org.omg.sysml.plantuml.SysML2PlantUMLSvc.getPlantUMLCode(SysML2PlantUMLSvc.java:88)\n",
       "\tat org.omg.sysml.plantuml.SysML2PlantUMLSvc.getSVG(SysML2PlantUMLSvc.java:99)\n",
       "\tat org.omg.sysml.interactive.SysMLInteractive.viz(SysMLInteractive.java:294)\n",
       "\tat org.omg.sysml.jupyter.kernel.magic.Viz.viz(Viz.java:47)\n",
       "\tat java.base/jdk.internal.reflect.NativeMethodAccessorImpl.invoke0(Native Method)\n",
       "\tat java.base/jdk.internal.reflect.NativeMethodAccessorImpl.invoke(NativeMethodAccessorImpl.java:78)\n",
       "\tat java.base/jdk.internal.reflect.DelegatingMethodAccessorImpl.invoke(DelegatingMethodAccessorImpl.java:43)\n",
       "\tat java.base/java.lang.reflect.Method.invoke(Method.java:568)\n",
       "\tat io.github.spencerpark.jupyter.kernel.magic.registry.Magics.invoke(Magics.java:89)\n",
       "\tat io.github.spencerpark.jupyter.kernel.magic.registry.Magics.access$000(Magics.java:8)\n",
       "\tat io.github.spencerpark.jupyter.kernel.magic.registry.Magics$LineReflectionMagicFunction.execute(Magics.java:149)\n",
       "\tat io.github.spencerpark.jupyter.kernel.magic.registry.Magics.applyLineMagic(Magics.java:26)\n",
       "\tat org.omg.sysml.jupyter.kernel.SysMLKernel.eval(SysMLKernel.java:76)\n",
       "\tat io.github.spencerpark.jupyter.kernel.BaseKernel.handleExecuteRequest(BaseKernel.java:334)\n",
       "\tat io.github.spencerpark.jupyter.channels.ShellChannel.lambda$bind$0(ShellChannel.java:64)\n",
       "\tat io.github.spencerpark.jupyter.channels.Loop.lambda$new$0(Loop.java:21)\n",
       "\tat io.github.spencerpark.jupyter.channels.Loop.run(Loop.java:78)\n"
      ]
     },
     "execution_count": 8,
     "metadata": {},
     "output_type": "execute_result"
    }
   ],
   "source": [
    "%viz --style=\"COMPTREE\" --view=\"MIXED\" \"PrivateImportTest\""
   ]
  },
  {
   "cell_type": "code",
   "execution_count": 9,
   "id": "czech-retailer",
   "metadata": {
    "execution": {
     "iopub.execute_input": "2021-03-25T15:59:48.701189Z",
     "iopub.status.busy": "2021-03-25T15:59:48.700553Z",
     "iopub.status.idle": "2021-03-25T15:59:49.432564Z",
     "shell.execute_reply": "2021-03-25T15:59:49.433046Z"
    }
   },
   "outputs": [
    {
     "data": {
      "image/svg+xml": [
       "<?xml version=\"1.0\" encoding=\"UTF-8\" standalone=\"no\"?><svg xmlns=\"http://www.w3.org/2000/svg\" xmlns:xlink=\"http://www.w3.org/1999/xlink\" contentScriptType=\"application/ecmascript\" contentStyleType=\"text/css\" height=\"252px\" preserveAspectRatio=\"none\" style=\"width:306px;height:252px;\" version=\"1.1\" viewBox=\"0 0 306 252\" width=\"306px\" zoomAndPan=\"magnify\"><defs/><g><!--MD5=[fbc87193dbaf4d95561dea2c320d4a47]\n",
       "cluster E1--><polygon fill=\"#FFFFFF\" points=\"16,6,163,6,170,28.2969,284,28.2969,284,240,16,240,16,6\" style=\"stroke: #000000; stroke-width: 1.5;\"/><line style=\"stroke: #000000; stroke-width: 1.5;\" x1=\"16\" x2=\"170\" y1=\"28.2969\" y2=\"28.2969\"/><text fill=\"#000000\" font-family=\"sans-serif\" font-size=\"14\" font-weight=\"bold\" lengthAdjust=\"spacingAndGlyphs\" textLength=\"141\" x=\"20\" y=\"20.9951\">PrivateImportTest</text><!--MD5=[e4f7fae6ed58524ba242bb0b0d3be6b7]\n",
       "cluster E2--><polygon fill=\"#FFFFFF\" points=\"162,119,188,119,195,141.2969,260,141.2969,260,216,162,216,162,119\" style=\"stroke: #000000; stroke-width: 1.5;\"/><line style=\"stroke: #000000; stroke-width: 1.5;\" x1=\"162\" x2=\"195\" y1=\"141.2969\" y2=\"141.2969\"/><text fill=\"#000000\" font-family=\"sans-serif\" font-size=\"14\" font-weight=\"bold\" lengthAdjust=\"spacingAndGlyphs\" textLength=\"20\" x=\"166\" y=\"133.9951\">P1</text><!--MD5=[14e3b0961a2654348d326746436168a1]\n",
       "cluster E6--><polygon fill=\"#FFFFFF\" points=\"40,119,66,119,73,141.2969,138,141.2969,138,216,40,216,40,119\" style=\"stroke: #000000; stroke-width: 1.5;\"/><line style=\"stroke: #000000; stroke-width: 1.5;\" x1=\"40\" x2=\"73\" y1=\"141.2969\" y2=\"141.2969\"/><text fill=\"#000000\" font-family=\"sans-serif\" font-size=\"14\" font-weight=\"bold\" lengthAdjust=\"spacingAndGlyphs\" textLength=\"20\" x=\"44\" y=\"133.9951\">P3</text><!--MD5=[270fce915f116d4de14055a7c1d9a0f3]\n",
       "class E5--><rect fill=\"#FFFFFF\" height=\"45.9375\" id=\"E5\" rx=\"10\" ry=\"10\" style=\"stroke: #383838; stroke-width: 1.5;\" width=\"42\" x=\"190\" y=\"44.5\"/><text fill=\"#000000\" font-family=\"sans-serif\" font-size=\"12\" font-style=\"italic\" lengthAdjust=\"spacingAndGlyphs\" textLength=\"40\" x=\"191\" y=\"60.6387\">«part»</text><text fill=\"#000000\" font-family=\"sans-serif\" font-size=\"12\" lengthAdjust=\"spacingAndGlyphs\" textLength=\"22\" x=\"200\" y=\"74.6074\">x: A</text><line style=\"stroke: #383838; stroke-width: 1.5;\" x1=\"191\" x2=\"231\" y1=\"82.4375\" y2=\"82.4375\"/><!--MD5=[b9389687b975829384b498ac4b7476b2]\n",
       "class E8--><rect fill=\"#FFFFFF\" height=\"45.9375\" id=\"E8\" rx=\"10\" ry=\"10\" style=\"stroke: #383838; stroke-width: 1.5;\" width=\"42\" x=\"107\" y=\"44.5\"/><text fill=\"#000000\" font-family=\"sans-serif\" font-size=\"12\" font-style=\"italic\" lengthAdjust=\"spacingAndGlyphs\" textLength=\"40\" x=\"108\" y=\"60.6387\">«part»</text><text fill=\"#000000\" font-family=\"sans-serif\" font-size=\"12\" lengthAdjust=\"spacingAndGlyphs\" textLength=\"21\" x=\"117.5\" y=\"74.6074\">z: B</text><line style=\"stroke: #383838; stroke-width: 1.5;\" x1=\"108\" x2=\"148\" y1=\"82.4375\" y2=\"82.4375\"/><!--MD5=[09b614a08d8cba4a07c9adeb5e0fee81]\n",
       "class E3--><rect fill=\"#FFFFFF\" height=\"45.9375\" id=\"E3\" style=\"stroke: #383838; stroke-width: 1.5;\" width=\"66\" x=\"178\" y=\"154\"/><text fill=\"#000000\" font-family=\"sans-serif\" font-size=\"12\" font-style=\"italic\" lengthAdjust=\"spacingAndGlyphs\" textLength=\"64\" x=\"179\" y=\"170.1387\">«part def»</text><text fill=\"#000000\" font-family=\"sans-serif\" font-size=\"12\" lengthAdjust=\"spacingAndGlyphs\" textLength=\"8\" x=\"207\" y=\"184.1074\">A</text><line style=\"stroke: #383838; stroke-width: 1.5;\" x1=\"179\" x2=\"243\" y1=\"191.9375\" y2=\"191.9375\"/><polygon fill=\"#FFFFFF\" points=\"32,41,58,41,65,63.2969,72,63.2969,72,93.5938,32,93.5938,32,41\" style=\"stroke: #000000; stroke-width: 1.5;\"/><line style=\"stroke: #000000; stroke-width: 1.5;\" x1=\"32\" x2=\"65\" y1=\"63.2969\" y2=\"63.2969\"/><text fill=\"#000000\" font-family=\"sans-serif\" font-size=\"14\" font-weight=\"bold\" lengthAdjust=\"spacingAndGlyphs\" textLength=\"20\" x=\"36\" y=\"55.9951\">P2</text><!--MD5=[2156ba9850f5573cc1fc38a6a4b2f02b]\n",
       "class E7--><rect fill=\"#FFFFFF\" height=\"45.9375\" id=\"E7\" style=\"stroke: #383838; stroke-width: 1.5;\" width=\"66\" x=\"56\" y=\"154\"/><text fill=\"#000000\" font-family=\"sans-serif\" font-size=\"12\" font-style=\"italic\" lengthAdjust=\"spacingAndGlyphs\" textLength=\"64\" x=\"57\" y=\"170.1387\">«part def»</text><text fill=\"#000000\" font-family=\"sans-serif\" font-size=\"12\" lengthAdjust=\"spacingAndGlyphs\" textLength=\"8\" x=\"85\" y=\"184.1074\">B</text><line style=\"stroke: #383838; stroke-width: 1.5;\" x1=\"57\" x2=\"121\" y1=\"191.9375\" y2=\"191.9375\"/><!--MD5=[e9be52314489bd878ff4c7144b63c9e1]\n",
       "link E5 to E3--><path d=\"M211,90.51 C211,102.89 211,118.78 211,133.48 \" fill=\"none\" id=\"E5-&gt;E3\" style=\"stroke: #383838; stroke-width: 1.0;\"/><polygon fill=\"#FFFFFF\" points=\"211,153.65,204,134.65,218,134.65,211,153.65\" style=\"stroke: #383838; stroke-width: 1.0;\"/><ellipse cx=\"206\" cy=\"128.95\" fill=\"#383838\" rx=\"2\" ry=\"2\" style=\"stroke: #383838; stroke-width: 1.0;\"/><ellipse cx=\"216\" cy=\"128.95\" fill=\"#383838\" rx=\"2\" ry=\"2\" style=\"stroke: #383838; stroke-width: 1.0;\"/><!--MD5=[bfa3c8b0d15052fdf50ae9310b491027]\n",
       "link E8 to E7--><path d=\"M120.01,90.51 C115.39,103.25 109.42,119.7 103.96,134.76 \" fill=\"none\" id=\"E8-&gt;E7\" style=\"stroke: #383838; stroke-width: 1.0;\"/><polygon fill=\"#FFFFFF\" points=\"97.11,153.65,97.0036,133.4018,110.1656,138.1726,97.11,153.65\" style=\"stroke: #383838; stroke-width: 1.0;\"/><ellipse cx=\"100.8262\" cy=\"128.7245\" fill=\"#383838\" rx=\"2\" ry=\"2\" style=\"stroke: #383838; stroke-width: 1.0;\"/><ellipse cx=\"110.2277\" cy=\"132.1322\" fill=\"#383838\" rx=\"2\" ry=\"2\" style=\"stroke: #383838; stroke-width: 1.0;\"/><!--MD5=[8182e9c75819b9e820508c2f343fde3d]\n",
       "@startuml\r\n",
       "skinparam linetype polyline\r\n",
       "skinparam monochrome true\r\n",
       "skinparam classbackgroundcolor white\r\n",
       "skinparam shadowing false\r\n",
       "skinparam wrapWidth 300\r\n",
       "hide circle\r\n",
       "\r\n",
       "package \"PrivateImportTest\" as E1   {\r\n",
       "package \"P1\" as E2   {\r\n",
       "comp def \"A\" as E3  <<(T,blue)part def>> {\r\n",
       "}\r\n",
       "}\r\n",
       "package \"P2\" as E4   {\r\n",
       "}\r\n",
       "comp usage \"x: A\" as E5  <<(T,blue)part>> {\r\n",
       "}\r\n",
       "package \"P3\" as E6   {\r\n",
       "comp def \"B\" as E7  <<(T,blue)part def>> {\r\n",
       "}\r\n",
       "E5 - -:|> E3\r\n",
       "}\r\n",
       "comp usage \"z: B\" as E8  <<(T,blue)part>> {\r\n",
       "}\r\n",
       "E8 - -:|> E7\r\n",
       "}\r\n",
       "@enduml\r\n",
       "\n",
       "PlantUML version 1.2020.13(Sat Jun 13 12:26:38 UTC 2020)\n",
       "(EPL source distribution)\n",
       "Java Runtime: OpenJDK Runtime Environment\n",
       "JVM: OpenJDK 64-Bit Server VM\n",
       "Default Encoding: UTF-8\n",
       "Language: en\n",
       "Country: null\n",
       "--></g></svg>"
      ]
     },
     "execution_count": 9,
     "metadata": {},
     "output_type": "execute_result"
    }
   ],
   "source": [
    "%viz --style=\"POLYLINE\" --view=\"Default\" \"PrivateImportTest\""
   ]
  },
  {
   "cell_type": "code",
   "execution_count": 10,
   "id": "insured-trick",
   "metadata": {
    "execution": {
     "iopub.execute_input": "2021-03-25T15:59:49.484852Z",
     "iopub.status.busy": "2021-03-25T15:59:49.484105Z",
     "iopub.status.idle": "2021-03-25T15:59:49.590314Z",
     "shell.execute_reply": "2021-03-25T15:59:49.590762Z"
    }
   },
   "outputs": [
    {
     "data": {
      "image/svg+xml": [
       "<?xml version=\"1.0\" encoding=\"UTF-8\" standalone=\"no\"?><svg xmlns=\"http://www.w3.org/2000/svg\" xmlns:xlink=\"http://www.w3.org/1999/xlink\" contentScriptType=\"application/ecmascript\" contentStyleType=\"text/css\" height=\"252px\" preserveAspectRatio=\"none\" style=\"width:306px;height:252px;\" version=\"1.1\" viewBox=\"0 0 306 252\" width=\"306px\" zoomAndPan=\"magnify\"><defs/><g><!--MD5=[fbc87193dbaf4d95561dea2c320d4a47]\n",
       "cluster E1--><polygon fill=\"#FFFFFF\" points=\"16,6,163,6,170,28.2969,284,28.2969,284,240,16,240,16,6\" style=\"stroke: #000000; stroke-width: 1.5;\"/><line style=\"stroke: #000000; stroke-width: 1.5;\" x1=\"16\" x2=\"170\" y1=\"28.2969\" y2=\"28.2969\"/><text fill=\"#000000\" font-family=\"sans-serif\" font-size=\"14\" font-weight=\"bold\" lengthAdjust=\"spacingAndGlyphs\" textLength=\"141\" x=\"20\" y=\"20.9951\">PrivateImportTest</text><!--MD5=[e4f7fae6ed58524ba242bb0b0d3be6b7]\n",
       "cluster E2--><polygon fill=\"#FFFFFF\" points=\"162,119,188,119,195,141.2969,260,141.2969,260,216,162,216,162,119\" style=\"stroke: #000000; stroke-width: 1.5;\"/><line style=\"stroke: #000000; stroke-width: 1.5;\" x1=\"162\" x2=\"195\" y1=\"141.2969\" y2=\"141.2969\"/><text fill=\"#000000\" font-family=\"sans-serif\" font-size=\"14\" font-weight=\"bold\" lengthAdjust=\"spacingAndGlyphs\" textLength=\"20\" x=\"166\" y=\"133.9951\">P1</text><!--MD5=[14e3b0961a2654348d326746436168a1]\n",
       "cluster E6--><polygon fill=\"#FFFFFF\" points=\"40,119,66,119,73,141.2969,138,141.2969,138,216,40,216,40,119\" style=\"stroke: #000000; stroke-width: 1.5;\"/><line style=\"stroke: #000000; stroke-width: 1.5;\" x1=\"40\" x2=\"73\" y1=\"141.2969\" y2=\"141.2969\"/><text fill=\"#000000\" font-family=\"sans-serif\" font-size=\"14\" font-weight=\"bold\" lengthAdjust=\"spacingAndGlyphs\" textLength=\"20\" x=\"44\" y=\"133.9951\">P3</text><!--MD5=[270fce915f116d4de14055a7c1d9a0f3]\n",
       "class E5--><rect fill=\"#FFFFFF\" height=\"45.9375\" id=\"E5\" rx=\"10\" ry=\"10\" style=\"stroke: #383838; stroke-width: 1.5;\" width=\"42\" x=\"190\" y=\"44.5\"/><text fill=\"#000000\" font-family=\"sans-serif\" font-size=\"12\" font-style=\"italic\" lengthAdjust=\"spacingAndGlyphs\" textLength=\"40\" x=\"191\" y=\"60.6387\">«part»</text><text fill=\"#000000\" font-family=\"sans-serif\" font-size=\"12\" lengthAdjust=\"spacingAndGlyphs\" textLength=\"22\" x=\"200\" y=\"74.6074\">x: A</text><line style=\"stroke: #383838; stroke-width: 1.5;\" x1=\"191\" x2=\"231\" y1=\"82.4375\" y2=\"82.4375\"/><!--MD5=[b9389687b975829384b498ac4b7476b2]\n",
       "class E8--><rect fill=\"#FFFFFF\" height=\"45.9375\" id=\"E8\" rx=\"10\" ry=\"10\" style=\"stroke: #383838; stroke-width: 1.5;\" width=\"42\" x=\"107\" y=\"44.5\"/><text fill=\"#000000\" font-family=\"sans-serif\" font-size=\"12\" font-style=\"italic\" lengthAdjust=\"spacingAndGlyphs\" textLength=\"40\" x=\"108\" y=\"60.6387\">«part»</text><text fill=\"#000000\" font-family=\"sans-serif\" font-size=\"12\" lengthAdjust=\"spacingAndGlyphs\" textLength=\"21\" x=\"117.5\" y=\"74.6074\">z: B</text><line style=\"stroke: #383838; stroke-width: 1.5;\" x1=\"108\" x2=\"148\" y1=\"82.4375\" y2=\"82.4375\"/><!--MD5=[09b614a08d8cba4a07c9adeb5e0fee81]\n",
       "class E3--><rect fill=\"#FFFFFF\" height=\"45.9375\" id=\"E3\" style=\"stroke: #383838; stroke-width: 1.5;\" width=\"66\" x=\"178\" y=\"154\"/><text fill=\"#000000\" font-family=\"sans-serif\" font-size=\"12\" font-style=\"italic\" lengthAdjust=\"spacingAndGlyphs\" textLength=\"64\" x=\"179\" y=\"170.1387\">«part def»</text><text fill=\"#000000\" font-family=\"sans-serif\" font-size=\"12\" lengthAdjust=\"spacingAndGlyphs\" textLength=\"8\" x=\"207\" y=\"184.1074\">A</text><line style=\"stroke: #383838; stroke-width: 1.5;\" x1=\"179\" x2=\"243\" y1=\"191.9375\" y2=\"191.9375\"/><polygon fill=\"#FFFFFF\" points=\"32,41,58,41,65,63.2969,72,63.2969,72,93.5938,32,93.5938,32,41\" style=\"stroke: #000000; stroke-width: 1.5;\"/><line style=\"stroke: #000000; stroke-width: 1.5;\" x1=\"32\" x2=\"65\" y1=\"63.2969\" y2=\"63.2969\"/><text fill=\"#000000\" font-family=\"sans-serif\" font-size=\"14\" font-weight=\"bold\" lengthAdjust=\"spacingAndGlyphs\" textLength=\"20\" x=\"36\" y=\"55.9951\">P2</text><!--MD5=[2156ba9850f5573cc1fc38a6a4b2f02b]\n",
       "class E7--><rect fill=\"#FFFFFF\" height=\"45.9375\" id=\"E7\" style=\"stroke: #383838; stroke-width: 1.5;\" width=\"66\" x=\"56\" y=\"154\"/><text fill=\"#000000\" font-family=\"sans-serif\" font-size=\"12\" font-style=\"italic\" lengthAdjust=\"spacingAndGlyphs\" textLength=\"64\" x=\"57\" y=\"170.1387\">«part def»</text><text fill=\"#000000\" font-family=\"sans-serif\" font-size=\"12\" lengthAdjust=\"spacingAndGlyphs\" textLength=\"8\" x=\"85\" y=\"184.1074\">B</text><line style=\"stroke: #383838; stroke-width: 1.5;\" x1=\"57\" x2=\"121\" y1=\"191.9375\" y2=\"191.9375\"/><!--MD5=[e9be52314489bd878ff4c7144b63c9e1]\n",
       "link E5 to E3--><path d=\"M211,90.51 C211,102.89 211,118.78 211,133.48 \" fill=\"none\" id=\"E5-&gt;E3\" style=\"stroke: #383838; stroke-width: 1.0;\"/><polygon fill=\"#FFFFFF\" points=\"211,153.65,204,134.65,218,134.65,211,153.65\" style=\"stroke: #383838; stroke-width: 1.0;\"/><ellipse cx=\"206\" cy=\"128.95\" fill=\"#383838\" rx=\"2\" ry=\"2\" style=\"stroke: #383838; stroke-width: 1.0;\"/><ellipse cx=\"216\" cy=\"128.95\" fill=\"#383838\" rx=\"2\" ry=\"2\" style=\"stroke: #383838; stroke-width: 1.0;\"/><!--MD5=[bfa3c8b0d15052fdf50ae9310b491027]\n",
       "link E8 to E7--><path d=\"M120.01,90.51 C115.39,103.25 109.42,119.7 103.96,134.76 \" fill=\"none\" id=\"E8-&gt;E7\" style=\"stroke: #383838; stroke-width: 1.0;\"/><polygon fill=\"#FFFFFF\" points=\"97.11,153.65,97.0036,133.4018,110.1656,138.1726,97.11,153.65\" style=\"stroke: #383838; stroke-width: 1.0;\"/><ellipse cx=\"100.8262\" cy=\"128.7245\" fill=\"#383838\" rx=\"2\" ry=\"2\" style=\"stroke: #383838; stroke-width: 1.0;\"/><ellipse cx=\"110.2277\" cy=\"132.1322\" fill=\"#383838\" rx=\"2\" ry=\"2\" style=\"stroke: #383838; stroke-width: 1.0;\"/><!--MD5=[8182e9c75819b9e820508c2f343fde3d]\n",
       "@startuml\r\n",
       "skinparam linetype polyline\r\n",
       "skinparam monochrome true\r\n",
       "skinparam classbackgroundcolor white\r\n",
       "skinparam shadowing false\r\n",
       "skinparam wrapWidth 300\r\n",
       "hide circle\r\n",
       "\r\n",
       "package \"PrivateImportTest\" as E1   {\r\n",
       "package \"P1\" as E2   {\r\n",
       "comp def \"A\" as E3  <<(T,blue)part def>> {\r\n",
       "}\r\n",
       "}\r\n",
       "package \"P2\" as E4   {\r\n",
       "}\r\n",
       "comp usage \"x: A\" as E5  <<(T,blue)part>> {\r\n",
       "}\r\n",
       "package \"P3\" as E6   {\r\n",
       "comp def \"B\" as E7  <<(T,blue)part def>> {\r\n",
       "}\r\n",
       "E5 - -:|> E3\r\n",
       "}\r\n",
       "comp usage \"z: B\" as E8  <<(T,blue)part>> {\r\n",
       "}\r\n",
       "E8 - -:|> E7\r\n",
       "}\r\n",
       "@enduml\r\n",
       "\n",
       "PlantUML version 1.2020.13(Sat Jun 13 12:26:38 UTC 2020)\n",
       "(EPL source distribution)\n",
       "Java Runtime: OpenJDK Runtime Environment\n",
       "JVM: OpenJDK 64-Bit Server VM\n",
       "Default Encoding: UTF-8\n",
       "Language: en\n",
       "Country: null\n",
       "--></g></svg>"
      ]
     },
     "execution_count": 10,
     "metadata": {},
     "output_type": "execute_result"
    }
   ],
   "source": [
    "%viz --style=\"POLYLINE\" --view=\"Tree\" \"PrivateImportTest\""
   ]
  },
  {
   "cell_type": "code",
   "execution_count": 11,
   "id": "silent-degree",
   "metadata": {
    "execution": {
     "iopub.execute_input": "2021-03-25T15:59:49.640896Z",
     "iopub.status.busy": "2021-03-25T15:59:49.640313Z",
     "iopub.status.idle": "2021-03-25T15:59:49.642635Z",
     "shell.execute_reply": "2021-03-25T15:59:49.643013Z"
    }
   },
   "outputs": [
    {
     "data": {
      "text/plain": [
       "java.lang.IllegalArgumentException: Invalid View: State View candidates are: Default Tree StateMachine Interconnection Activity Sequence MIXED \n",
       "\tat org.omg.sysml.plantuml.SysML2PlantUMLSvc.setView(SysML2PlantUMLSvc.java:63)\n",
       "\tat org.omg.sysml.interactive.SysMLInteractive.viz(SysMLInteractive.java:286)\n",
       "\tat org.omg.sysml.jupyter.kernel.magic.Viz.viz(Viz.java:47)\n",
       "\tat java.base/jdk.internal.reflect.NativeMethodAccessorImpl.invoke0(Native Method)\n",
       "\tat java.base/jdk.internal.reflect.NativeMethodAccessorImpl.invoke(NativeMethodAccessorImpl.java:78)\n",
       "\tat java.base/jdk.internal.reflect.DelegatingMethodAccessorImpl.invoke(DelegatingMethodAccessorImpl.java:43)\n",
       "\tat java.base/java.lang.reflect.Method.invoke(Method.java:568)\n",
       "\tat io.github.spencerpark.jupyter.kernel.magic.registry.Magics.invoke(Magics.java:89)\n",
       "\tat io.github.spencerpark.jupyter.kernel.magic.registry.Magics.access$000(Magics.java:8)\n",
       "\tat io.github.spencerpark.jupyter.kernel.magic.registry.Magics$LineReflectionMagicFunction.execute(Magics.java:149)\n",
       "\tat io.github.spencerpark.jupyter.kernel.magic.registry.Magics.applyLineMagic(Magics.java:26)\n",
       "\tat org.omg.sysml.jupyter.kernel.SysMLKernel.eval(SysMLKernel.java:76)\n",
       "\tat io.github.spencerpark.jupyter.kernel.BaseKernel.handleExecuteRequest(BaseKernel.java:334)\n",
       "\tat io.github.spencerpark.jupyter.channels.ShellChannel.lambda$bind$0(ShellChannel.java:64)\n",
       "\tat io.github.spencerpark.jupyter.channels.Loop.lambda$new$0(Loop.java:21)\n",
       "\tat io.github.spencerpark.jupyter.channels.Loop.run(Loop.java:78)\n"
      ]
     },
     "execution_count": 11,
     "metadata": {},
     "output_type": "execute_result"
    }
   ],
   "source": [
    "%viz --style=\"POLYLINE\" --view=\"State\" \"PrivateImportTest\""
   ]
  },
  {
   "cell_type": "code",
   "execution_count": 12,
   "id": "ranging-italian",
   "metadata": {
    "execution": {
     "iopub.execute_input": "2021-03-25T15:59:49.694746Z",
     "iopub.status.busy": "2021-03-25T15:59:49.694014Z",
     "iopub.status.idle": "2021-03-25T15:59:49.868724Z",
     "shell.execute_reply": "2021-03-25T15:59:49.868209Z"
    }
   },
   "outputs": [
    {
     "data": {
      "image/svg+xml": [
       "<?xml version=\"1.0\" encoding=\"UTF-8\" standalone=\"no\"?><svg xmlns=\"http://www.w3.org/2000/svg\" xmlns:xlink=\"http://www.w3.org/1999/xlink\" contentScriptType=\"application/ecmascript\" contentStyleType=\"text/css\" height=\"189px\" preserveAspectRatio=\"none\" style=\"width:579px;height:189px;\" version=\"1.1\" viewBox=\"0 0 579 189\" width=\"579px\" zoomAndPan=\"magnify\"><defs/><g><!--MD5=[fbc87193dbaf4d95561dea2c320d4a47]\n",
       "cluster E1--><polygon fill=\"#FFFFFF\" points=\"16,6,163,6,170,28.2969,557,28.2969,557,177,16,177,16,6\" style=\"stroke: #000000; stroke-width: 1.5;\"/><line style=\"stroke: #000000; stroke-width: 1.5;\" x1=\"16\" x2=\"170\" y1=\"28.2969\" y2=\"28.2969\"/><text fill=\"#000000\" font-family=\"sans-serif\" font-size=\"14\" font-weight=\"bold\" lengthAdjust=\"spacingAndGlyphs\" textLength=\"141\" x=\"20\" y=\"20.9951\">PrivateImportTest</text><!--MD5=[e4f7fae6ed58524ba242bb0b0d3be6b7]\n",
       "cluster E2--><polygon fill=\"#FFFFFF\" points=\"409,49,435,49,442,71.2969,533,71.2969,533,153,409,153,409,49\" style=\"stroke: #000000; stroke-width: 1.5;\"/><line style=\"stroke: #000000; stroke-width: 1.5;\" x1=\"409\" x2=\"442\" y1=\"71.2969\" y2=\"71.2969\"/><text fill=\"#000000\" font-family=\"sans-serif\" font-size=\"14\" font-weight=\"bold\" lengthAdjust=\"spacingAndGlyphs\" textLength=\"20\" x=\"413\" y=\"63.9951\">P1</text><!--MD5=[14e3b0961a2654348d326746436168a1]\n",
       "cluster E6--><polygon fill=\"#FFFFFF\" points=\"261,49,287,49,294,71.2969,385,71.2969,385,153,261,153,261,49\" style=\"stroke: #000000; stroke-width: 1.5;\"/><line style=\"stroke: #000000; stroke-width: 1.5;\" x1=\"261\" x2=\"294\" y1=\"71.2969\" y2=\"71.2969\"/><text fill=\"#000000\" font-family=\"sans-serif\" font-size=\"14\" font-weight=\"bold\" lengthAdjust=\"spacingAndGlyphs\" textLength=\"20\" x=\"265\" y=\"63.9951\">P3</text><!--MD5=[a60fb756f580feb9fd8e2cf1329b5c91]\n",
       "entity E3--><rect fill=\"#FFFFFF\" height=\"52.5938\" style=\"stroke: #000000; stroke-width: 1.5;\" width=\"91\" x=\"425.5\" y=\"84\"/><text fill=\"#000000\" font-family=\"sans-serif\" font-size=\"14\" font-style=\"italic\" lengthAdjust=\"spacingAndGlyphs\" textLength=\"71\" x=\"435.5\" y=\"106.9951\">«part def»</text><text fill=\"#000000\" font-family=\"sans-serif\" font-size=\"14\" lengthAdjust=\"spacingAndGlyphs\" textLength=\"9\" x=\"466.5\" y=\"123.292\">A</text><polygon fill=\"#FFFFFF\" points=\"202,84,228,84,235,106.2969,242,106.2969,242,136.5938,202,136.5938,202,84\" style=\"stroke: #000000; stroke-width: 1.5;\"/><line style=\"stroke: #000000; stroke-width: 1.5;\" x1=\"202\" x2=\"235\" y1=\"106.2969\" y2=\"106.2969\"/><text fill=\"#000000\" font-family=\"sans-serif\" font-size=\"14\" font-weight=\"bold\" lengthAdjust=\"spacingAndGlyphs\" textLength=\"20\" x=\"206\" y=\"98.9951\">P2</text><g id=\"E1.E5\"><rect fill=\"#FFFFFF\" height=\"50\" rx=\"12.5\" ry=\"12.5\" style=\"stroke: #383838; stroke-width: 1.5;\" width=\"50\" x=\"117\" y=\"85.5\"/><line style=\"stroke: #383838; stroke-width: 1.5;\" x1=\"117\" x2=\"167\" y1=\"111.7969\" y2=\"111.7969\"/><text fill=\"#000000\" font-family=\"sans-serif\" font-size=\"14\" lengthAdjust=\"spacingAndGlyphs\" textLength=\"25\" x=\"129.5\" y=\"103.4951\">x: A</text></g><!--MD5=[9c5f31f192441de4a59826ec090dc00a]\n",
       "entity E7--><rect fill=\"#FFFFFF\" height=\"52.5938\" style=\"stroke: #000000; stroke-width: 1.5;\" width=\"91\" x=\"277.5\" y=\"84\"/><text fill=\"#000000\" font-family=\"sans-serif\" font-size=\"14\" font-style=\"italic\" lengthAdjust=\"spacingAndGlyphs\" textLength=\"71\" x=\"287.5\" y=\"106.9951\">«part def»</text><text fill=\"#000000\" font-family=\"sans-serif\" font-size=\"14\" lengthAdjust=\"spacingAndGlyphs\" textLength=\"10\" x=\"318\" y=\"123.292\">B</text><g id=\"E1.E8\"><rect fill=\"#FFFFFF\" height=\"50\" rx=\"12.5\" ry=\"12.5\" style=\"stroke: #383838; stroke-width: 1.5;\" width=\"50\" x=\"32\" y=\"85.5\"/><line style=\"stroke: #383838; stroke-width: 1.5;\" x1=\"32\" x2=\"82\" y1=\"111.7969\" y2=\"111.7969\"/><text fill=\"#000000\" font-family=\"sans-serif\" font-size=\"14\" lengthAdjust=\"spacingAndGlyphs\" textLength=\"27\" x=\"43.5\" y=\"103.4951\">z: B</text></g><!--MD5=[5edbbfdedc8d3b48d3ccc16afd576fe3]\n",
       "@startuml\r\n",
       "skinparam ranksep 8\r\n",
       "skinparam rectangle {\r\n",
       " backgroundColor<<block>> LightGreen\r\n",
       "}\r\n",
       "skinparam linetype polyline\r\n",
       "skinparam monochrome true\r\n",
       "skinparam classbackgroundcolor white\r\n",
       "skinparam shadowing false\r\n",
       "skinparam wrapWidth 300\r\n",
       "hide circle\r\n",
       "\r\n",
       "package \"PrivateImportTest\" as E1   {\r\n",
       "package \"P1\" as E2   {\r\n",
       "rec def \"A\" as E3  <<part def>> {\r\n",
       "}\r\n",
       "}\r\n",
       "package \"P2\" as E4   {\r\n",
       "}\r\n",
       "rec usage \"x: A\" as E5  {\r\n",
       "}\r\n",
       "package \"P3\" as E6   {\r\n",
       "rec def \"B\" as E7  <<part def>> {\r\n",
       "}\r\n",
       "}\r\n",
       "rec usage \"z: B\" as E8  {\r\n",
       "}\r\n",
       "}\r\n",
       "@enduml\r\n",
       "\n",
       "PlantUML version 1.2020.13(Sat Jun 13 12:26:38 UTC 2020)\n",
       "(EPL source distribution)\n",
       "Java Runtime: OpenJDK Runtime Environment\n",
       "JVM: OpenJDK 64-Bit Server VM\n",
       "Default Encoding: UTF-8\n",
       "Language: en\n",
       "Country: null\n",
       "--></g></svg>"
      ]
     },
     "execution_count": 12,
     "metadata": {},
     "output_type": "execute_result"
    }
   ],
   "source": [
    "%viz --style=\"POLYLINE\" --view=\"Interconnection\" \"PrivateImportTest\""
   ]
  },
  {
   "cell_type": "code",
   "execution_count": 13,
   "id": "searching-cinema",
   "metadata": {
    "execution": {
     "iopub.execute_input": "2021-03-25T15:59:49.918678Z",
     "iopub.status.busy": "2021-03-25T15:59:49.918189Z",
     "iopub.status.idle": "2021-03-25T15:59:49.920469Z",
     "shell.execute_reply": "2021-03-25T15:59:49.920870Z"
    }
   },
   "outputs": [
    {
     "data": {
      "text/plain": [
       "java.lang.IllegalArgumentException: Invalid View: Action View candidates are: Default Tree StateMachine Interconnection Activity Sequence MIXED \n",
       "\tat org.omg.sysml.plantuml.SysML2PlantUMLSvc.setView(SysML2PlantUMLSvc.java:63)\n",
       "\tat org.omg.sysml.interactive.SysMLInteractive.viz(SysMLInteractive.java:286)\n",
       "\tat org.omg.sysml.jupyter.kernel.magic.Viz.viz(Viz.java:47)\n",
       "\tat java.base/jdk.internal.reflect.NativeMethodAccessorImpl.invoke0(Native Method)\n",
       "\tat java.base/jdk.internal.reflect.NativeMethodAccessorImpl.invoke(NativeMethodAccessorImpl.java:78)\n",
       "\tat java.base/jdk.internal.reflect.DelegatingMethodAccessorImpl.invoke(DelegatingMethodAccessorImpl.java:43)\n",
       "\tat java.base/java.lang.reflect.Method.invoke(Method.java:568)\n",
       "\tat io.github.spencerpark.jupyter.kernel.magic.registry.Magics.invoke(Magics.java:89)\n",
       "\tat io.github.spencerpark.jupyter.kernel.magic.registry.Magics.access$000(Magics.java:8)\n",
       "\tat io.github.spencerpark.jupyter.kernel.magic.registry.Magics$LineReflectionMagicFunction.execute(Magics.java:149)\n",
       "\tat io.github.spencerpark.jupyter.kernel.magic.registry.Magics.applyLineMagic(Magics.java:26)\n",
       "\tat org.omg.sysml.jupyter.kernel.SysMLKernel.eval(SysMLKernel.java:76)\n",
       "\tat io.github.spencerpark.jupyter.kernel.BaseKernel.handleExecuteRequest(BaseKernel.java:334)\n",
       "\tat io.github.spencerpark.jupyter.channels.ShellChannel.lambda$bind$0(ShellChannel.java:64)\n",
       "\tat io.github.spencerpark.jupyter.channels.Loop.lambda$new$0(Loop.java:21)\n",
       "\tat io.github.spencerpark.jupyter.channels.Loop.run(Loop.java:78)\n"
      ]
     },
     "execution_count": 13,
     "metadata": {},
     "output_type": "execute_result"
    }
   ],
   "source": [
    "%viz --style=\"POLYLINE\" --view=\"Action\" \"PrivateImportTest\""
   ]
  },
  {
   "cell_type": "code",
   "execution_count": 14,
   "id": "strategic-mistress",
   "metadata": {
    "execution": {
     "iopub.execute_input": "2021-03-25T15:59:49.972625Z",
     "iopub.status.busy": "2021-03-25T15:59:49.972114Z",
     "iopub.status.idle": "2021-03-25T15:59:50.059870Z",
     "shell.execute_reply": "2021-03-25T15:59:50.060457Z"
    }
   },
   "outputs": [
    {
     "data": {
      "image/svg+xml": [
       "<?xml version=\"1.0\" encoding=\"UTF-8\" standalone=\"no\"?><svg xmlns=\"http://www.w3.org/2000/svg\" xmlns:xlink=\"http://www.w3.org/1999/xlink\" contentScriptType=\"application/ecmascript\" contentStyleType=\"text/css\" height=\"252px\" preserveAspectRatio=\"none\" style=\"width:306px;height:252px;\" version=\"1.1\" viewBox=\"0 0 306 252\" width=\"306px\" zoomAndPan=\"magnify\"><defs/><g><!--MD5=[fbc87193dbaf4d95561dea2c320d4a47]\n",
       "cluster E1--><polygon fill=\"#FFFFFF\" points=\"16,6,163,6,170,28.2969,284,28.2969,284,240,16,240,16,6\" style=\"stroke: #000000; stroke-width: 1.5;\"/><line style=\"stroke: #000000; stroke-width: 1.5;\" x1=\"16\" x2=\"170\" y1=\"28.2969\" y2=\"28.2969\"/><text fill=\"#000000\" font-family=\"sans-serif\" font-size=\"14\" font-weight=\"bold\" lengthAdjust=\"spacingAndGlyphs\" textLength=\"141\" x=\"20\" y=\"20.9951\">PrivateImportTest</text><!--MD5=[e4f7fae6ed58524ba242bb0b0d3be6b7]\n",
       "cluster E2--><polygon fill=\"#FFFFFF\" points=\"162,119,188,119,195,141.2969,260,141.2969,260,216,162,216,162,119\" style=\"stroke: #000000; stroke-width: 1.5;\"/><line style=\"stroke: #000000; stroke-width: 1.5;\" x1=\"162\" x2=\"195\" y1=\"141.2969\" y2=\"141.2969\"/><text fill=\"#000000\" font-family=\"sans-serif\" font-size=\"14\" font-weight=\"bold\" lengthAdjust=\"spacingAndGlyphs\" textLength=\"20\" x=\"166\" y=\"133.9951\">P1</text><!--MD5=[14e3b0961a2654348d326746436168a1]\n",
       "cluster E6--><polygon fill=\"#FFFFFF\" points=\"40,119,66,119,73,141.2969,138,141.2969,138,216,40,216,40,119\" style=\"stroke: #000000; stroke-width: 1.5;\"/><line style=\"stroke: #000000; stroke-width: 1.5;\" x1=\"40\" x2=\"73\" y1=\"141.2969\" y2=\"141.2969\"/><text fill=\"#000000\" font-family=\"sans-serif\" font-size=\"14\" font-weight=\"bold\" lengthAdjust=\"spacingAndGlyphs\" textLength=\"20\" x=\"44\" y=\"133.9951\">P3</text><!--MD5=[270fce915f116d4de14055a7c1d9a0f3]\n",
       "class E5--><rect fill=\"#FFFFFF\" height=\"45.9375\" id=\"E5\" rx=\"10\" ry=\"10\" style=\"stroke: #383838; stroke-width: 1.5;\" width=\"42\" x=\"190\" y=\"44.5\"/><text fill=\"#000000\" font-family=\"sans-serif\" font-size=\"12\" font-style=\"italic\" lengthAdjust=\"spacingAndGlyphs\" textLength=\"40\" x=\"191\" y=\"60.6387\">«part»</text><text fill=\"#000000\" font-family=\"sans-serif\" font-size=\"12\" lengthAdjust=\"spacingAndGlyphs\" textLength=\"22\" x=\"200\" y=\"74.6074\">x: A</text><line style=\"stroke: #383838; stroke-width: 1.5;\" x1=\"191\" x2=\"231\" y1=\"82.4375\" y2=\"82.4375\"/><!--MD5=[b9389687b975829384b498ac4b7476b2]\n",
       "class E8--><rect fill=\"#FFFFFF\" height=\"45.9375\" id=\"E8\" rx=\"10\" ry=\"10\" style=\"stroke: #383838; stroke-width: 1.5;\" width=\"42\" x=\"107\" y=\"44.5\"/><text fill=\"#000000\" font-family=\"sans-serif\" font-size=\"12\" font-style=\"italic\" lengthAdjust=\"spacingAndGlyphs\" textLength=\"40\" x=\"108\" y=\"60.6387\">«part»</text><text fill=\"#000000\" font-family=\"sans-serif\" font-size=\"12\" lengthAdjust=\"spacingAndGlyphs\" textLength=\"21\" x=\"117.5\" y=\"74.6074\">z: B</text><line style=\"stroke: #383838; stroke-width: 1.5;\" x1=\"108\" x2=\"148\" y1=\"82.4375\" y2=\"82.4375\"/><!--MD5=[09b614a08d8cba4a07c9adeb5e0fee81]\n",
       "class E3--><rect fill=\"#FFFFFF\" height=\"45.9375\" id=\"E3\" style=\"stroke: #383838; stroke-width: 1.5;\" width=\"66\" x=\"178\" y=\"154\"/><text fill=\"#000000\" font-family=\"sans-serif\" font-size=\"12\" font-style=\"italic\" lengthAdjust=\"spacingAndGlyphs\" textLength=\"64\" x=\"179\" y=\"170.1387\">«part def»</text><text fill=\"#000000\" font-family=\"sans-serif\" font-size=\"12\" lengthAdjust=\"spacingAndGlyphs\" textLength=\"8\" x=\"207\" y=\"184.1074\">A</text><line style=\"stroke: #383838; stroke-width: 1.5;\" x1=\"179\" x2=\"243\" y1=\"191.9375\" y2=\"191.9375\"/><polygon fill=\"#FFFFFF\" points=\"32,41,58,41,65,63.2969,72,63.2969,72,93.5938,32,93.5938,32,41\" style=\"stroke: #000000; stroke-width: 1.5;\"/><line style=\"stroke: #000000; stroke-width: 1.5;\" x1=\"32\" x2=\"65\" y1=\"63.2969\" y2=\"63.2969\"/><text fill=\"#000000\" font-family=\"sans-serif\" font-size=\"14\" font-weight=\"bold\" lengthAdjust=\"spacingAndGlyphs\" textLength=\"20\" x=\"36\" y=\"55.9951\">P2</text><!--MD5=[2156ba9850f5573cc1fc38a6a4b2f02b]\n",
       "class E7--><rect fill=\"#FFFFFF\" height=\"45.9375\" id=\"E7\" style=\"stroke: #383838; stroke-width: 1.5;\" width=\"66\" x=\"56\" y=\"154\"/><text fill=\"#000000\" font-family=\"sans-serif\" font-size=\"12\" font-style=\"italic\" lengthAdjust=\"spacingAndGlyphs\" textLength=\"64\" x=\"57\" y=\"170.1387\">«part def»</text><text fill=\"#000000\" font-family=\"sans-serif\" font-size=\"12\" lengthAdjust=\"spacingAndGlyphs\" textLength=\"8\" x=\"85\" y=\"184.1074\">B</text><line style=\"stroke: #383838; stroke-width: 1.5;\" x1=\"57\" x2=\"121\" y1=\"191.9375\" y2=\"191.9375\"/><!--MD5=[e9be52314489bd878ff4c7144b63c9e1]\n",
       "link E5 to E3--><path d=\"M211,90.51 C211,102.89 211,118.78 211,133.48 \" fill=\"none\" id=\"E5-&gt;E3\" style=\"stroke: #383838; stroke-width: 1.0;\"/><polygon fill=\"#FFFFFF\" points=\"211,153.65,204,134.65,218,134.65,211,153.65\" style=\"stroke: #383838; stroke-width: 1.0;\"/><ellipse cx=\"206\" cy=\"128.95\" fill=\"#383838\" rx=\"2\" ry=\"2\" style=\"stroke: #383838; stroke-width: 1.0;\"/><ellipse cx=\"216\" cy=\"128.95\" fill=\"#383838\" rx=\"2\" ry=\"2\" style=\"stroke: #383838; stroke-width: 1.0;\"/><!--MD5=[bfa3c8b0d15052fdf50ae9310b491027]\n",
       "link E8 to E7--><path d=\"M120.01,90.51 C115.39,103.25 109.42,119.7 103.96,134.76 \" fill=\"none\" id=\"E8-&gt;E7\" style=\"stroke: #383838; stroke-width: 1.0;\"/><polygon fill=\"#FFFFFF\" points=\"97.11,153.65,97.0036,133.4018,110.1656,138.1726,97.11,153.65\" style=\"stroke: #383838; stroke-width: 1.0;\"/><ellipse cx=\"100.8262\" cy=\"128.7245\" fill=\"#383838\" rx=\"2\" ry=\"2\" style=\"stroke: #383838; stroke-width: 1.0;\"/><ellipse cx=\"110.2277\" cy=\"132.1322\" fill=\"#383838\" rx=\"2\" ry=\"2\" style=\"stroke: #383838; stroke-width: 1.0;\"/><!--MD5=[8182e9c75819b9e820508c2f343fde3d]\n",
       "@startuml\r\n",
       "skinparam linetype polyline\r\n",
       "skinparam monochrome true\r\n",
       "skinparam classbackgroundcolor white\r\n",
       "skinparam shadowing false\r\n",
       "skinparam wrapWidth 300\r\n",
       "hide circle\r\n",
       "\r\n",
       "package \"PrivateImportTest\" as E1   {\r\n",
       "package \"P1\" as E2   {\r\n",
       "comp def \"A\" as E3  <<(T,blue)part def>> {\r\n",
       "}\r\n",
       "}\r\n",
       "package \"P2\" as E4   {\r\n",
       "}\r\n",
       "comp usage \"x: A\" as E5  <<(T,blue)part>> {\r\n",
       "}\r\n",
       "package \"P3\" as E6   {\r\n",
       "comp def \"B\" as E7  <<(T,blue)part def>> {\r\n",
       "}\r\n",
       "E5 - -:|> E3\r\n",
       "}\r\n",
       "comp usage \"z: B\" as E8  <<(T,blue)part>> {\r\n",
       "}\r\n",
       "E8 - -:|> E7\r\n",
       "}\r\n",
       "@enduml\r\n",
       "\n",
       "PlantUML version 1.2020.13(Sat Jun 13 12:26:38 UTC 2020)\n",
       "(EPL source distribution)\n",
       "Java Runtime: OpenJDK Runtime Environment\n",
       "JVM: OpenJDK 64-Bit Server VM\n",
       "Default Encoding: UTF-8\n",
       "Language: en\n",
       "Country: null\n",
       "--></g></svg>"
      ]
     },
     "execution_count": 14,
     "metadata": {},
     "output_type": "execute_result"
    }
   ],
   "source": [
    "%viz --style=\"POLYLINE\" --view=\"Sequence\" \"PrivateImportTest\""
   ]
  },
  {
   "cell_type": "code",
   "execution_count": 15,
   "id": "employed-factor",
   "metadata": {
    "execution": {
     "iopub.execute_input": "2021-03-25T15:59:50.111229Z",
     "iopub.status.busy": "2021-03-25T15:59:50.110628Z",
     "iopub.status.idle": "2021-03-25T15:59:50.201806Z",
     "shell.execute_reply": "2021-03-25T15:59:50.202396Z"
    }
   },
   "outputs": [
    {
     "data": {
      "image/svg+xml": [
       "<?xml version=\"1.0\" encoding=\"UTF-8\" standalone=\"no\"?><svg xmlns=\"http://www.w3.org/2000/svg\" xmlns:xlink=\"http://www.w3.org/1999/xlink\" contentScriptType=\"application/ecmascript\" contentStyleType=\"text/css\" height=\"252px\" preserveAspectRatio=\"none\" style=\"width:306px;height:252px;\" version=\"1.1\" viewBox=\"0 0 306 252\" width=\"306px\" zoomAndPan=\"magnify\"><defs/><g><!--MD5=[fbc87193dbaf4d95561dea2c320d4a47]\n",
       "cluster E1--><polygon fill=\"#FFFFFF\" points=\"16,6,163,6,170,28.2969,284,28.2969,284,240,16,240,16,6\" style=\"stroke: #000000; stroke-width: 1.5;\"/><line style=\"stroke: #000000; stroke-width: 1.5;\" x1=\"16\" x2=\"170\" y1=\"28.2969\" y2=\"28.2969\"/><text fill=\"#000000\" font-family=\"sans-serif\" font-size=\"14\" font-weight=\"bold\" lengthAdjust=\"spacingAndGlyphs\" textLength=\"141\" x=\"20\" y=\"20.9951\">PrivateImportTest</text><!--MD5=[e4f7fae6ed58524ba242bb0b0d3be6b7]\n",
       "cluster E2--><polygon fill=\"#FFFFFF\" points=\"162,119,188,119,195,141.2969,260,141.2969,260,216,162,216,162,119\" style=\"stroke: #000000; stroke-width: 1.5;\"/><line style=\"stroke: #000000; stroke-width: 1.5;\" x1=\"162\" x2=\"195\" y1=\"141.2969\" y2=\"141.2969\"/><text fill=\"#000000\" font-family=\"sans-serif\" font-size=\"14\" font-weight=\"bold\" lengthAdjust=\"spacingAndGlyphs\" textLength=\"20\" x=\"166\" y=\"133.9951\">P1</text><!--MD5=[14e3b0961a2654348d326746436168a1]\n",
       "cluster E6--><polygon fill=\"#FFFFFF\" points=\"40,119,66,119,73,141.2969,138,141.2969,138,216,40,216,40,119\" style=\"stroke: #000000; stroke-width: 1.5;\"/><line style=\"stroke: #000000; stroke-width: 1.5;\" x1=\"40\" x2=\"73\" y1=\"141.2969\" y2=\"141.2969\"/><text fill=\"#000000\" font-family=\"sans-serif\" font-size=\"14\" font-weight=\"bold\" lengthAdjust=\"spacingAndGlyphs\" textLength=\"20\" x=\"44\" y=\"133.9951\">P3</text><!--MD5=[270fce915f116d4de14055a7c1d9a0f3]\n",
       "class E5--><rect fill=\"#FFFFFF\" height=\"45.9375\" id=\"E5\" rx=\"10\" ry=\"10\" style=\"stroke: #383838; stroke-width: 1.5;\" width=\"42\" x=\"190\" y=\"44.5\"/><text fill=\"#000000\" font-family=\"sans-serif\" font-size=\"12\" font-style=\"italic\" lengthAdjust=\"spacingAndGlyphs\" textLength=\"40\" x=\"191\" y=\"60.6387\">«part»</text><text fill=\"#000000\" font-family=\"sans-serif\" font-size=\"12\" lengthAdjust=\"spacingAndGlyphs\" textLength=\"22\" x=\"200\" y=\"74.6074\">x: A</text><line style=\"stroke: #383838; stroke-width: 1.5;\" x1=\"191\" x2=\"231\" y1=\"82.4375\" y2=\"82.4375\"/><!--MD5=[b9389687b975829384b498ac4b7476b2]\n",
       "class E8--><rect fill=\"#FFFFFF\" height=\"45.9375\" id=\"E8\" rx=\"10\" ry=\"10\" style=\"stroke: #383838; stroke-width: 1.5;\" width=\"42\" x=\"107\" y=\"44.5\"/><text fill=\"#000000\" font-family=\"sans-serif\" font-size=\"12\" font-style=\"italic\" lengthAdjust=\"spacingAndGlyphs\" textLength=\"40\" x=\"108\" y=\"60.6387\">«part»</text><text fill=\"#000000\" font-family=\"sans-serif\" font-size=\"12\" lengthAdjust=\"spacingAndGlyphs\" textLength=\"21\" x=\"117.5\" y=\"74.6074\">z: B</text><line style=\"stroke: #383838; stroke-width: 1.5;\" x1=\"108\" x2=\"148\" y1=\"82.4375\" y2=\"82.4375\"/><!--MD5=[09b614a08d8cba4a07c9adeb5e0fee81]\n",
       "class E3--><rect fill=\"#FFFFFF\" height=\"45.9375\" id=\"E3\" style=\"stroke: #383838; stroke-width: 1.5;\" width=\"66\" x=\"178\" y=\"154\"/><text fill=\"#000000\" font-family=\"sans-serif\" font-size=\"12\" font-style=\"italic\" lengthAdjust=\"spacingAndGlyphs\" textLength=\"64\" x=\"179\" y=\"170.1387\">«part def»</text><text fill=\"#000000\" font-family=\"sans-serif\" font-size=\"12\" lengthAdjust=\"spacingAndGlyphs\" textLength=\"8\" x=\"207\" y=\"184.1074\">A</text><line style=\"stroke: #383838; stroke-width: 1.5;\" x1=\"179\" x2=\"243\" y1=\"191.9375\" y2=\"191.9375\"/><polygon fill=\"#FFFFFF\" points=\"32,41,58,41,65,63.2969,72,63.2969,72,93.5938,32,93.5938,32,41\" style=\"stroke: #000000; stroke-width: 1.5;\"/><line style=\"stroke: #000000; stroke-width: 1.5;\" x1=\"32\" x2=\"65\" y1=\"63.2969\" y2=\"63.2969\"/><text fill=\"#000000\" font-family=\"sans-serif\" font-size=\"14\" font-weight=\"bold\" lengthAdjust=\"spacingAndGlyphs\" textLength=\"20\" x=\"36\" y=\"55.9951\">P2</text><!--MD5=[2156ba9850f5573cc1fc38a6a4b2f02b]\n",
       "class E7--><rect fill=\"#FFFFFF\" height=\"45.9375\" id=\"E7\" style=\"stroke: #383838; stroke-width: 1.5;\" width=\"66\" x=\"56\" y=\"154\"/><text fill=\"#000000\" font-family=\"sans-serif\" font-size=\"12\" font-style=\"italic\" lengthAdjust=\"spacingAndGlyphs\" textLength=\"64\" x=\"57\" y=\"170.1387\">«part def»</text><text fill=\"#000000\" font-family=\"sans-serif\" font-size=\"12\" lengthAdjust=\"spacingAndGlyphs\" textLength=\"8\" x=\"85\" y=\"184.1074\">B</text><line style=\"stroke: #383838; stroke-width: 1.5;\" x1=\"57\" x2=\"121\" y1=\"191.9375\" y2=\"191.9375\"/><!--MD5=[e9be52314489bd878ff4c7144b63c9e1]\n",
       "link E5 to E3--><path d=\"M211,90.51 C211,102.89 211,118.78 211,133.48 \" fill=\"none\" id=\"E5-&gt;E3\" style=\"stroke: #383838; stroke-width: 1.0;\"/><polygon fill=\"#FFFFFF\" points=\"211,153.65,204,134.65,218,134.65,211,153.65\" style=\"stroke: #383838; stroke-width: 1.0;\"/><ellipse cx=\"206\" cy=\"128.95\" fill=\"#383838\" rx=\"2\" ry=\"2\" style=\"stroke: #383838; stroke-width: 1.0;\"/><ellipse cx=\"216\" cy=\"128.95\" fill=\"#383838\" rx=\"2\" ry=\"2\" style=\"stroke: #383838; stroke-width: 1.0;\"/><!--MD5=[bfa3c8b0d15052fdf50ae9310b491027]\n",
       "link E8 to E7--><path d=\"M120.01,90.51 C115.39,103.25 109.42,119.7 103.96,134.76 \" fill=\"none\" id=\"E8-&gt;E7\" style=\"stroke: #383838; stroke-width: 1.0;\"/><polygon fill=\"#FFFFFF\" points=\"97.11,153.65,97.0036,133.4018,110.1656,138.1726,97.11,153.65\" style=\"stroke: #383838; stroke-width: 1.0;\"/><ellipse cx=\"100.8262\" cy=\"128.7245\" fill=\"#383838\" rx=\"2\" ry=\"2\" style=\"stroke: #383838; stroke-width: 1.0;\"/><ellipse cx=\"110.2277\" cy=\"132.1322\" fill=\"#383838\" rx=\"2\" ry=\"2\" style=\"stroke: #383838; stroke-width: 1.0;\"/><!--MD5=[8182e9c75819b9e820508c2f343fde3d]\n",
       "@startuml\r\n",
       "skinparam linetype polyline\r\n",
       "skinparam monochrome true\r\n",
       "skinparam classbackgroundcolor white\r\n",
       "skinparam shadowing false\r\n",
       "skinparam wrapWidth 300\r\n",
       "hide circle\r\n",
       "\r\n",
       "package \"PrivateImportTest\" as E1   {\r\n",
       "package \"P1\" as E2   {\r\n",
       "comp def \"A\" as E3  <<(T,blue)part def>> {\r\n",
       "}\r\n",
       "}\r\n",
       "package \"P2\" as E4   {\r\n",
       "}\r\n",
       "comp usage \"x: A\" as E5  <<(T,blue)part>> {\r\n",
       "}\r\n",
       "package \"P3\" as E6   {\r\n",
       "comp def \"B\" as E7  <<(T,blue)part def>> {\r\n",
       "}\r\n",
       "E5 - -:|> E3\r\n",
       "}\r\n",
       "comp usage \"z: B\" as E8  <<(T,blue)part>> {\r\n",
       "}\r\n",
       "E8 - -:|> E7\r\n",
       "}\r\n",
       "@enduml\r\n",
       "\n",
       "PlantUML version 1.2020.13(Sat Jun 13 12:26:38 UTC 2020)\n",
       "(EPL source distribution)\n",
       "Java Runtime: OpenJDK Runtime Environment\n",
       "JVM: OpenJDK 64-Bit Server VM\n",
       "Default Encoding: UTF-8\n",
       "Language: en\n",
       "Country: null\n",
       "--></g></svg>"
      ]
     },
     "execution_count": 15,
     "metadata": {},
     "output_type": "execute_result"
    }
   ],
   "source": [
    "%viz --style=\"POLYLINE\" --view=\"MIXED\" \"PrivateImportTest\""
   ]
  },
  {
   "cell_type": "code",
   "execution_count": 16,
   "id": "structured-index",
   "metadata": {
    "execution": {
     "iopub.execute_input": "2021-03-25T15:59:50.253146Z",
     "iopub.status.busy": "2021-03-25T15:59:50.252731Z",
     "iopub.status.idle": "2021-03-25T15:59:50.351773Z",
     "shell.execute_reply": "2021-03-25T15:59:50.352198Z"
    }
   },
   "outputs": [
    {
     "data": {
      "image/svg+xml": [
       "<?xml version=\"1.0\" encoding=\"UTF-8\" standalone=\"no\"?><svg xmlns=\"http://www.w3.org/2000/svg\" xmlns:xlink=\"http://www.w3.org/1999/xlink\" contentScriptType=\"application/ecmascript\" contentStyleType=\"text/css\" height=\"303px\" preserveAspectRatio=\"none\" style=\"width:262px;height:303px;\" version=\"1.1\" viewBox=\"0 0 262 303\" width=\"262px\" zoomAndPan=\"magnify\"><defs/><g><!--MD5=[fbc87193dbaf4d95561dea2c320d4a47]\n",
       "cluster E1--><polygon fill=\"#FFFFFF\" points=\"16,6,163,6,170,28.2969,240,28.2969,240,291,16,291,16,6\" style=\"stroke: #000000; stroke-width: 1.5;\"/><line style=\"stroke: #000000; stroke-width: 1.5;\" x1=\"16\" x2=\"170\" y1=\"28.2969\" y2=\"28.2969\"/><text fill=\"#000000\" font-family=\"sans-serif\" font-size=\"14\" font-weight=\"bold\" lengthAdjust=\"spacingAndGlyphs\" textLength=\"141\" x=\"20\" y=\"20.9951\">PrivateImportTest</text><!--MD5=[e4f7fae6ed58524ba242bb0b0d3be6b7]\n",
       "cluster E2--><polygon fill=\"#FFFFFF\" points=\"118,49,144,49,151,71.2969,216,71.2969,216,146,118,146,118,49\" style=\"stroke: #000000; stroke-width: 1.5;\"/><line style=\"stroke: #000000; stroke-width: 1.5;\" x1=\"118\" x2=\"151\" y1=\"71.2969\" y2=\"71.2969\"/><text fill=\"#000000\" font-family=\"sans-serif\" font-size=\"14\" font-weight=\"bold\" lengthAdjust=\"spacingAndGlyphs\" textLength=\"20\" x=\"122\" y=\"63.9951\">P1</text><!--MD5=[14e3b0961a2654348d326746436168a1]\n",
       "cluster E6--><polygon fill=\"#FFFFFF\" points=\"118,170,144,170,151,192.2969,216,192.2969,216,267,118,267,118,170\" style=\"stroke: #000000; stroke-width: 1.5;\"/><line style=\"stroke: #000000; stroke-width: 1.5;\" x1=\"118\" x2=\"151\" y1=\"192.2969\" y2=\"192.2969\"/><text fill=\"#000000\" font-family=\"sans-serif\" font-size=\"14\" font-weight=\"bold\" lengthAdjust=\"spacingAndGlyphs\" textLength=\"20\" x=\"122\" y=\"184.9951\">P3</text><!--MD5=[270fce915f116d4de14055a7c1d9a0f3]\n",
       "class E5--><rect fill=\"#FFFFFF\" height=\"45.9375\" id=\"E5\" rx=\"10\" ry=\"10\" style=\"stroke: #383838; stroke-width: 1.5;\" width=\"42\" x=\"32\" y=\"59\"/><text fill=\"#000000\" font-family=\"sans-serif\" font-size=\"12\" font-style=\"italic\" lengthAdjust=\"spacingAndGlyphs\" textLength=\"40\" x=\"33\" y=\"75.1387\">«part»</text><text fill=\"#000000\" font-family=\"sans-serif\" font-size=\"12\" lengthAdjust=\"spacingAndGlyphs\" textLength=\"22\" x=\"42\" y=\"89.1074\">x: A</text><line style=\"stroke: #383838; stroke-width: 1.5;\" x1=\"33\" x2=\"73\" y1=\"96.9375\" y2=\"96.9375\"/><!--MD5=[b9389687b975829384b498ac4b7476b2]\n",
       "class E8--><rect fill=\"#FFFFFF\" height=\"45.9375\" id=\"E8\" rx=\"10\" ry=\"10\" style=\"stroke: #383838; stroke-width: 1.5;\" width=\"42\" x=\"32\" y=\"140\"/><text fill=\"#000000\" font-family=\"sans-serif\" font-size=\"12\" font-style=\"italic\" lengthAdjust=\"spacingAndGlyphs\" textLength=\"40\" x=\"33\" y=\"156.1387\">«part»</text><text fill=\"#000000\" font-family=\"sans-serif\" font-size=\"12\" lengthAdjust=\"spacingAndGlyphs\" textLength=\"21\" x=\"42.5\" y=\"170.1074\">z: B</text><line style=\"stroke: #383838; stroke-width: 1.5;\" x1=\"33\" x2=\"73\" y1=\"177.9375\" y2=\"177.9375\"/><!--MD5=[09b614a08d8cba4a07c9adeb5e0fee81]\n",
       "class E3--><rect fill=\"#FFFFFF\" height=\"45.9375\" id=\"E3\" style=\"stroke: #383838; stroke-width: 1.5;\" width=\"66\" x=\"134\" y=\"84\"/><text fill=\"#000000\" font-family=\"sans-serif\" font-size=\"12\" font-style=\"italic\" lengthAdjust=\"spacingAndGlyphs\" textLength=\"64\" x=\"135\" y=\"100.1387\">«part def»</text><text fill=\"#000000\" font-family=\"sans-serif\" font-size=\"12\" lengthAdjust=\"spacingAndGlyphs\" textLength=\"8\" x=\"163\" y=\"114.1074\">A</text><line style=\"stroke: #383838; stroke-width: 1.5;\" x1=\"135\" x2=\"199\" y1=\"121.9375\" y2=\"121.9375\"/><polygon fill=\"#FFFFFF\" points=\"33,221.5,59,221.5,66,243.7969,73,243.7969,73,274.0938,33,274.0938,33,221.5\" style=\"stroke: #000000; stroke-width: 1.5;\"/><line style=\"stroke: #000000; stroke-width: 1.5;\" x1=\"33\" x2=\"66\" y1=\"243.7969\" y2=\"243.7969\"/><text fill=\"#000000\" font-family=\"sans-serif\" font-size=\"14\" font-weight=\"bold\" lengthAdjust=\"spacingAndGlyphs\" textLength=\"20\" x=\"37\" y=\"236.4951\">P2</text><!--MD5=[2156ba9850f5573cc1fc38a6a4b2f02b]\n",
       "class E7--><rect fill=\"#FFFFFF\" height=\"45.9375\" id=\"E7\" style=\"stroke: #383838; stroke-width: 1.5;\" width=\"66\" x=\"134\" y=\"205\"/><text fill=\"#000000\" font-family=\"sans-serif\" font-size=\"12\" font-style=\"italic\" lengthAdjust=\"spacingAndGlyphs\" textLength=\"64\" x=\"135\" y=\"221.1387\">«part def»</text><text fill=\"#000000\" font-family=\"sans-serif\" font-size=\"12\" lengthAdjust=\"spacingAndGlyphs\" textLength=\"8\" x=\"163\" y=\"235.1074\">B</text><line style=\"stroke: #383838; stroke-width: 1.5;\" x1=\"135\" x2=\"199\" y1=\"242.9375\" y2=\"242.9375\"/><!--MD5=[e9be52314489bd878ff4c7144b63c9e1]\n",
       "link E5 to E3--><path d=\"M74.02,86.47 C85.31,88.99 99.99,92.27 114.29,95.46 \" fill=\"none\" id=\"E5-&gt;E3\" style=\"stroke: #383838; stroke-width: 1.0;\"/><polygon fill=\"#FFFFFF\" points=\"133.86,99.83,113.7912,102.5214,116.842,88.8579,133.86,99.83\" style=\"stroke: #383838; stroke-width: 1.0;\"/><ellipse cx=\"108.664\" cy=\"99.3274\" fill=\"#383838\" rx=\"2\" ry=\"2\" style=\"stroke: #383838; stroke-width: 1.0;\"/><ellipse cx=\"110.8432\" cy=\"89.5677\" fill=\"#383838\" rx=\"2\" ry=\"2\" style=\"stroke: #383838; stroke-width: 1.0;\"/><!--MD5=[bfa3c8b0d15052fdf50ae9310b491027]\n",
       "link E8 to E7--><path d=\"M74.02,174.62 C85.83,181.47 101.34,190.48 116.26,199.13 \" fill=\"none\" id=\"E8-&gt;E7\" style=\"stroke: #383838; stroke-width: 1.0;\"/><polygon fill=\"#FFFFFF\" points=\"133.86,209.35,113.9116,205.8773,120.9328,193.7652,133.86,209.35\" style=\"stroke: #383838; stroke-width: 1.0;\"/><ellipse cx=\"109.9832\" cy=\"201.2883\" fill=\"#383838\" rx=\"2\" ry=\"2\" style=\"stroke: #383838; stroke-width: 1.0;\"/><ellipse cx=\"114.9984\" cy=\"192.6368\" fill=\"#383838\" rx=\"2\" ry=\"2\" style=\"stroke: #383838; stroke-width: 1.0;\"/><!--MD5=[8618ddfb0771f5350e0f1c361e159294]\n",
       "@startuml\r\n",
       "left to right direction\r\n",
       "skinparam monochrome true\r\n",
       "skinparam classbackgroundcolor white\r\n",
       "skinparam shadowing false\r\n",
       "skinparam wrapWidth 300\r\n",
       "hide circle\r\n",
       "\r\n",
       "package \"PrivateImportTest\" as E1   {\r\n",
       "package \"P1\" as E2   {\r\n",
       "comp def \"A\" as E3  <<(T,blue)part def>> {\r\n",
       "}\r\n",
       "}\r\n",
       "package \"P2\" as E4   {\r\n",
       "}\r\n",
       "comp usage \"x: A\" as E5  <<(T,blue)part>> {\r\n",
       "}\r\n",
       "package \"P3\" as E6   {\r\n",
       "comp def \"B\" as E7  <<(T,blue)part def>> {\r\n",
       "}\r\n",
       "E5 - -:|> E3\r\n",
       "}\r\n",
       "comp usage \"z: B\" as E8  <<(T,blue)part>> {\r\n",
       "}\r\n",
       "E8 - -:|> E7\r\n",
       "}\r\n",
       "@enduml\r\n",
       "\n",
       "PlantUML version 1.2020.13(Sat Jun 13 12:26:38 UTC 2020)\n",
       "(EPL source distribution)\n",
       "Java Runtime: OpenJDK Runtime Environment\n",
       "JVM: OpenJDK 64-Bit Server VM\n",
       "Default Encoding: UTF-8\n",
       "Language: en\n",
       "Country: null\n",
       "--></g></svg>"
      ]
     },
     "execution_count": 16,
     "metadata": {},
     "output_type": "execute_result"
    }
   ],
   "source": [
    "%viz --style=\"LR\" --view=\"Default\" \"PrivateImportTest\""
   ]
  },
  {
   "cell_type": "code",
   "execution_count": 17,
   "id": "effective-planet",
   "metadata": {
    "execution": {
     "iopub.execute_input": "2021-03-25T15:59:50.402973Z",
     "iopub.status.busy": "2021-03-25T15:59:50.402247Z",
     "iopub.status.idle": "2021-03-25T15:59:50.492982Z",
     "shell.execute_reply": "2021-03-25T15:59:50.491647Z"
    }
   },
   "outputs": [
    {
     "data": {
      "image/svg+xml": [
       "<?xml version=\"1.0\" encoding=\"UTF-8\" standalone=\"no\"?><svg xmlns=\"http://www.w3.org/2000/svg\" xmlns:xlink=\"http://www.w3.org/1999/xlink\" contentScriptType=\"application/ecmascript\" contentStyleType=\"text/css\" height=\"303px\" preserveAspectRatio=\"none\" style=\"width:262px;height:303px;\" version=\"1.1\" viewBox=\"0 0 262 303\" width=\"262px\" zoomAndPan=\"magnify\"><defs/><g><!--MD5=[fbc87193dbaf4d95561dea2c320d4a47]\n",
       "cluster E1--><polygon fill=\"#FFFFFF\" points=\"16,6,163,6,170,28.2969,240,28.2969,240,291,16,291,16,6\" style=\"stroke: #000000; stroke-width: 1.5;\"/><line style=\"stroke: #000000; stroke-width: 1.5;\" x1=\"16\" x2=\"170\" y1=\"28.2969\" y2=\"28.2969\"/><text fill=\"#000000\" font-family=\"sans-serif\" font-size=\"14\" font-weight=\"bold\" lengthAdjust=\"spacingAndGlyphs\" textLength=\"141\" x=\"20\" y=\"20.9951\">PrivateImportTest</text><!--MD5=[e4f7fae6ed58524ba242bb0b0d3be6b7]\n",
       "cluster E2--><polygon fill=\"#FFFFFF\" points=\"118,49,144,49,151,71.2969,216,71.2969,216,146,118,146,118,49\" style=\"stroke: #000000; stroke-width: 1.5;\"/><line style=\"stroke: #000000; stroke-width: 1.5;\" x1=\"118\" x2=\"151\" y1=\"71.2969\" y2=\"71.2969\"/><text fill=\"#000000\" font-family=\"sans-serif\" font-size=\"14\" font-weight=\"bold\" lengthAdjust=\"spacingAndGlyphs\" textLength=\"20\" x=\"122\" y=\"63.9951\">P1</text><!--MD5=[14e3b0961a2654348d326746436168a1]\n",
       "cluster E6--><polygon fill=\"#FFFFFF\" points=\"118,170,144,170,151,192.2969,216,192.2969,216,267,118,267,118,170\" style=\"stroke: #000000; stroke-width: 1.5;\"/><line style=\"stroke: #000000; stroke-width: 1.5;\" x1=\"118\" x2=\"151\" y1=\"192.2969\" y2=\"192.2969\"/><text fill=\"#000000\" font-family=\"sans-serif\" font-size=\"14\" font-weight=\"bold\" lengthAdjust=\"spacingAndGlyphs\" textLength=\"20\" x=\"122\" y=\"184.9951\">P3</text><!--MD5=[270fce915f116d4de14055a7c1d9a0f3]\n",
       "class E5--><rect fill=\"#FFFFFF\" height=\"45.9375\" id=\"E5\" rx=\"10\" ry=\"10\" style=\"stroke: #383838; stroke-width: 1.5;\" width=\"42\" x=\"32\" y=\"59\"/><text fill=\"#000000\" font-family=\"sans-serif\" font-size=\"12\" font-style=\"italic\" lengthAdjust=\"spacingAndGlyphs\" textLength=\"40\" x=\"33\" y=\"75.1387\">«part»</text><text fill=\"#000000\" font-family=\"sans-serif\" font-size=\"12\" lengthAdjust=\"spacingAndGlyphs\" textLength=\"22\" x=\"42\" y=\"89.1074\">x: A</text><line style=\"stroke: #383838; stroke-width: 1.5;\" x1=\"33\" x2=\"73\" y1=\"96.9375\" y2=\"96.9375\"/><!--MD5=[b9389687b975829384b498ac4b7476b2]\n",
       "class E8--><rect fill=\"#FFFFFF\" height=\"45.9375\" id=\"E8\" rx=\"10\" ry=\"10\" style=\"stroke: #383838; stroke-width: 1.5;\" width=\"42\" x=\"32\" y=\"140\"/><text fill=\"#000000\" font-family=\"sans-serif\" font-size=\"12\" font-style=\"italic\" lengthAdjust=\"spacingAndGlyphs\" textLength=\"40\" x=\"33\" y=\"156.1387\">«part»</text><text fill=\"#000000\" font-family=\"sans-serif\" font-size=\"12\" lengthAdjust=\"spacingAndGlyphs\" textLength=\"21\" x=\"42.5\" y=\"170.1074\">z: B</text><line style=\"stroke: #383838; stroke-width: 1.5;\" x1=\"33\" x2=\"73\" y1=\"177.9375\" y2=\"177.9375\"/><!--MD5=[09b614a08d8cba4a07c9adeb5e0fee81]\n",
       "class E3--><rect fill=\"#FFFFFF\" height=\"45.9375\" id=\"E3\" style=\"stroke: #383838; stroke-width: 1.5;\" width=\"66\" x=\"134\" y=\"84\"/><text fill=\"#000000\" font-family=\"sans-serif\" font-size=\"12\" font-style=\"italic\" lengthAdjust=\"spacingAndGlyphs\" textLength=\"64\" x=\"135\" y=\"100.1387\">«part def»</text><text fill=\"#000000\" font-family=\"sans-serif\" font-size=\"12\" lengthAdjust=\"spacingAndGlyphs\" textLength=\"8\" x=\"163\" y=\"114.1074\">A</text><line style=\"stroke: #383838; stroke-width: 1.5;\" x1=\"135\" x2=\"199\" y1=\"121.9375\" y2=\"121.9375\"/><polygon fill=\"#FFFFFF\" points=\"33,221.5,59,221.5,66,243.7969,73,243.7969,73,274.0938,33,274.0938,33,221.5\" style=\"stroke: #000000; stroke-width: 1.5;\"/><line style=\"stroke: #000000; stroke-width: 1.5;\" x1=\"33\" x2=\"66\" y1=\"243.7969\" y2=\"243.7969\"/><text fill=\"#000000\" font-family=\"sans-serif\" font-size=\"14\" font-weight=\"bold\" lengthAdjust=\"spacingAndGlyphs\" textLength=\"20\" x=\"37\" y=\"236.4951\">P2</text><!--MD5=[2156ba9850f5573cc1fc38a6a4b2f02b]\n",
       "class E7--><rect fill=\"#FFFFFF\" height=\"45.9375\" id=\"E7\" style=\"stroke: #383838; stroke-width: 1.5;\" width=\"66\" x=\"134\" y=\"205\"/><text fill=\"#000000\" font-family=\"sans-serif\" font-size=\"12\" font-style=\"italic\" lengthAdjust=\"spacingAndGlyphs\" textLength=\"64\" x=\"135\" y=\"221.1387\">«part def»</text><text fill=\"#000000\" font-family=\"sans-serif\" font-size=\"12\" lengthAdjust=\"spacingAndGlyphs\" textLength=\"8\" x=\"163\" y=\"235.1074\">B</text><line style=\"stroke: #383838; stroke-width: 1.5;\" x1=\"135\" x2=\"199\" y1=\"242.9375\" y2=\"242.9375\"/><!--MD5=[e9be52314489bd878ff4c7144b63c9e1]\n",
       "link E5 to E3--><path d=\"M74.02,86.47 C85.31,88.99 99.99,92.27 114.29,95.46 \" fill=\"none\" id=\"E5-&gt;E3\" style=\"stroke: #383838; stroke-width: 1.0;\"/><polygon fill=\"#FFFFFF\" points=\"133.86,99.83,113.7912,102.5214,116.842,88.8579,133.86,99.83\" style=\"stroke: #383838; stroke-width: 1.0;\"/><ellipse cx=\"108.664\" cy=\"99.3274\" fill=\"#383838\" rx=\"2\" ry=\"2\" style=\"stroke: #383838; stroke-width: 1.0;\"/><ellipse cx=\"110.8432\" cy=\"89.5677\" fill=\"#383838\" rx=\"2\" ry=\"2\" style=\"stroke: #383838; stroke-width: 1.0;\"/><!--MD5=[bfa3c8b0d15052fdf50ae9310b491027]\n",
       "link E8 to E7--><path d=\"M74.02,174.62 C85.83,181.47 101.34,190.48 116.26,199.13 \" fill=\"none\" id=\"E8-&gt;E7\" style=\"stroke: #383838; stroke-width: 1.0;\"/><polygon fill=\"#FFFFFF\" points=\"133.86,209.35,113.9116,205.8773,120.9328,193.7652,133.86,209.35\" style=\"stroke: #383838; stroke-width: 1.0;\"/><ellipse cx=\"109.9832\" cy=\"201.2883\" fill=\"#383838\" rx=\"2\" ry=\"2\" style=\"stroke: #383838; stroke-width: 1.0;\"/><ellipse cx=\"114.9984\" cy=\"192.6368\" fill=\"#383838\" rx=\"2\" ry=\"2\" style=\"stroke: #383838; stroke-width: 1.0;\"/><!--MD5=[8618ddfb0771f5350e0f1c361e159294]\n",
       "@startuml\r\n",
       "left to right direction\r\n",
       "skinparam monochrome true\r\n",
       "skinparam classbackgroundcolor white\r\n",
       "skinparam shadowing false\r\n",
       "skinparam wrapWidth 300\r\n",
       "hide circle\r\n",
       "\r\n",
       "package \"PrivateImportTest\" as E1   {\r\n",
       "package \"P1\" as E2   {\r\n",
       "comp def \"A\" as E3  <<(T,blue)part def>> {\r\n",
       "}\r\n",
       "}\r\n",
       "package \"P2\" as E4   {\r\n",
       "}\r\n",
       "comp usage \"x: A\" as E5  <<(T,blue)part>> {\r\n",
       "}\r\n",
       "package \"P3\" as E6   {\r\n",
       "comp def \"B\" as E7  <<(T,blue)part def>> {\r\n",
       "}\r\n",
       "E5 - -:|> E3\r\n",
       "}\r\n",
       "comp usage \"z: B\" as E8  <<(T,blue)part>> {\r\n",
       "}\r\n",
       "E8 - -:|> E7\r\n",
       "}\r\n",
       "@enduml\r\n",
       "\n",
       "PlantUML version 1.2020.13(Sat Jun 13 12:26:38 UTC 2020)\n",
       "(EPL source distribution)\n",
       "Java Runtime: OpenJDK Runtime Environment\n",
       "JVM: OpenJDK 64-Bit Server VM\n",
       "Default Encoding: UTF-8\n",
       "Language: en\n",
       "Country: null\n",
       "--></g></svg>"
      ]
     },
     "execution_count": 17,
     "metadata": {},
     "output_type": "execute_result"
    }
   ],
   "source": [
    "%viz --style=\"LR\" --view=\"Tree\" \"PrivateImportTest\""
   ]
  },
  {
   "cell_type": "code",
   "execution_count": 18,
   "id": "seventh-daniel",
   "metadata": {
    "execution": {
     "iopub.execute_input": "2021-03-25T15:59:50.545483Z",
     "iopub.status.busy": "2021-03-25T15:59:50.544518Z",
     "iopub.status.idle": "2021-03-25T15:59:50.550173Z",
     "shell.execute_reply": "2021-03-25T15:59:50.549380Z"
    }
   },
   "outputs": [
    {
     "data": {
      "text/plain": [
       "java.lang.IllegalArgumentException: Invalid View: State View candidates are: Default Tree StateMachine Interconnection Activity Sequence MIXED \n",
       "\tat org.omg.sysml.plantuml.SysML2PlantUMLSvc.setView(SysML2PlantUMLSvc.java:63)\n",
       "\tat org.omg.sysml.interactive.SysMLInteractive.viz(SysMLInteractive.java:286)\n",
       "\tat org.omg.sysml.jupyter.kernel.magic.Viz.viz(Viz.java:47)\n",
       "\tat jdk.internal.reflect.GeneratedMethodAccessor8.invoke(Unknown Source)\n",
       "\tat java.base/jdk.internal.reflect.DelegatingMethodAccessorImpl.invoke(DelegatingMethodAccessorImpl.java:43)\n",
       "\tat java.base/java.lang.reflect.Method.invoke(Method.java:568)\n",
       "\tat io.github.spencerpark.jupyter.kernel.magic.registry.Magics.invoke(Magics.java:89)\n",
       "\tat io.github.spencerpark.jupyter.kernel.magic.registry.Magics.access$000(Magics.java:8)\n",
       "\tat io.github.spencerpark.jupyter.kernel.magic.registry.Magics$LineReflectionMagicFunction.execute(Magics.java:149)\n",
       "\tat io.github.spencerpark.jupyter.kernel.magic.registry.Magics.applyLineMagic(Magics.java:26)\n",
       "\tat org.omg.sysml.jupyter.kernel.SysMLKernel.eval(SysMLKernel.java:76)\n",
       "\tat io.github.spencerpark.jupyter.kernel.BaseKernel.handleExecuteRequest(BaseKernel.java:334)\n",
       "\tat io.github.spencerpark.jupyter.channels.ShellChannel.lambda$bind$0(ShellChannel.java:64)\n",
       "\tat io.github.spencerpark.jupyter.channels.Loop.lambda$new$0(Loop.java:21)\n",
       "\tat io.github.spencerpark.jupyter.channels.Loop.run(Loop.java:78)\n"
      ]
     },
     "execution_count": 18,
     "metadata": {},
     "output_type": "execute_result"
    }
   ],
   "source": [
    "%viz --style=\"LR\" --view=\"State\" \"PrivateImportTest\""
   ]
  },
  {
   "cell_type": "code",
   "execution_count": 19,
   "id": "clean-thesaurus",
   "metadata": {
    "execution": {
     "iopub.execute_input": "2021-03-25T15:59:50.600967Z",
     "iopub.status.busy": "2021-03-25T15:59:50.600053Z",
     "iopub.status.idle": "2021-03-25T15:59:50.704763Z",
     "shell.execute_reply": "2021-03-25T15:59:50.705176Z"
    }
   },
   "outputs": [
    {
     "data": {
      "image/svg+xml": [
       "<?xml version=\"1.0\" encoding=\"UTF-8\" standalone=\"no\"?><svg xmlns=\"http://www.w3.org/2000/svg\" xmlns:xlink=\"http://www.w3.org/1999/xlink\" contentScriptType=\"application/ecmascript\" contentStyleType=\"text/css\" height=\"553px\" preserveAspectRatio=\"none\" style=\"width:209px;height:553px;\" version=\"1.1\" viewBox=\"0 0 209 553\" width=\"209px\" zoomAndPan=\"magnify\"><defs/><g><!--MD5=[fbc87193dbaf4d95561dea2c320d4a47]\n",
       "cluster E1--><polygon fill=\"#FFFFFF\" points=\"16,6,163,6,170,28.2969,187,28.2969,187,541,16,541,16,6\" style=\"stroke: #000000; stroke-width: 1.5;\"/><line style=\"stroke: #000000; stroke-width: 1.5;\" x1=\"16\" x2=\"170\" y1=\"28.2969\" y2=\"28.2969\"/><text fill=\"#000000\" font-family=\"sans-serif\" font-size=\"14\" font-weight=\"bold\" lengthAdjust=\"spacingAndGlyphs\" textLength=\"141\" x=\"20\" y=\"20.9951\">PrivateImportTest</text><!--MD5=[e4f7fae6ed58524ba242bb0b0d3be6b7]\n",
       "cluster E2--><polygon fill=\"#FFFFFF\" points=\"40,49,66,49,73,71.2969,163,71.2969,163,154,40,154,40,49\" style=\"stroke: #000000; stroke-width: 1.5;\"/><line style=\"stroke: #000000; stroke-width: 1.5;\" x1=\"40\" x2=\"73\" y1=\"71.2969\" y2=\"71.2969\"/><text fill=\"#000000\" font-family=\"sans-serif\" font-size=\"14\" font-weight=\"bold\" lengthAdjust=\"spacingAndGlyphs\" textLength=\"20\" x=\"44\" y=\"63.9951\">P1</text><!--MD5=[14e3b0961a2654348d326746436168a1]\n",
       "cluster E6--><polygon fill=\"#FFFFFF\" points=\"40,178,66,178,73,200.2969,163,200.2969,163,283,40,283,40,178\" style=\"stroke: #000000; stroke-width: 1.5;\"/><line style=\"stroke: #000000; stroke-width: 1.5;\" x1=\"40\" x2=\"73\" y1=\"200.2969\" y2=\"200.2969\"/><text fill=\"#000000\" font-family=\"sans-serif\" font-size=\"14\" font-weight=\"bold\" lengthAdjust=\"spacingAndGlyphs\" textLength=\"20\" x=\"44\" y=\"192.9951\">P3</text><!--MD5=[a60fb756f580feb9fd8e2cf1329b5c91]\n",
       "entity E3--><rect fill=\"#FFFFFF\" height=\"52.5938\" style=\"stroke: #000000; stroke-width: 1.5;\" width=\"91\" x=\"56\" y=\"84.5\"/><text fill=\"#000000\" font-family=\"sans-serif\" font-size=\"14\" font-style=\"italic\" lengthAdjust=\"spacingAndGlyphs\" textLength=\"71\" x=\"66\" y=\"107.4951\">«part def»</text><text fill=\"#000000\" font-family=\"sans-serif\" font-size=\"14\" lengthAdjust=\"spacingAndGlyphs\" textLength=\"9\" x=\"97\" y=\"123.792\">A</text><polygon fill=\"#FFFFFF\" points=\"81.5,301.5,107.5,301.5,114.5,323.7969,121.5,323.7969,121.5,354.0938,81.5,354.0938,81.5,301.5\" style=\"stroke: #000000; stroke-width: 1.5;\"/><line style=\"stroke: #000000; stroke-width: 1.5;\" x1=\"81.5\" x2=\"114.5\" y1=\"323.7969\" y2=\"323.7969\"/><text fill=\"#000000\" font-family=\"sans-serif\" font-size=\"14\" font-weight=\"bold\" lengthAdjust=\"spacingAndGlyphs\" textLength=\"20\" x=\"85.5\" y=\"316.4951\">P2</text><g id=\"E1.E5\"><rect fill=\"#FFFFFF\" height=\"50\" rx=\"12.5\" ry=\"12.5\" style=\"stroke: #383838; stroke-width: 1.5;\" width=\"50\" x=\"76.5\" y=\"390\"/><line style=\"stroke: #383838; stroke-width: 1.5;\" x1=\"76.5\" x2=\"126.5\" y1=\"416.2969\" y2=\"416.2969\"/><text fill=\"#000000\" font-family=\"sans-serif\" font-size=\"14\" lengthAdjust=\"spacingAndGlyphs\" textLength=\"25\" x=\"89\" y=\"407.9951\">x: A</text></g><!--MD5=[9c5f31f192441de4a59826ec090dc00a]\n",
       "entity E7--><rect fill=\"#FFFFFF\" height=\"52.5938\" style=\"stroke: #000000; stroke-width: 1.5;\" width=\"91\" x=\"56\" y=\"213.5\"/><text fill=\"#000000\" font-family=\"sans-serif\" font-size=\"14\" font-style=\"italic\" lengthAdjust=\"spacingAndGlyphs\" textLength=\"71\" x=\"66\" y=\"236.4951\">«part def»</text><text fill=\"#000000\" font-family=\"sans-serif\" font-size=\"14\" lengthAdjust=\"spacingAndGlyphs\" textLength=\"10\" x=\"96.5\" y=\"252.792\">B</text><g id=\"E1.E8\"><rect fill=\"#FFFFFF\" height=\"50\" rx=\"12.5\" ry=\"12.5\" style=\"stroke: #383838; stroke-width: 1.5;\" width=\"50\" x=\"76.5\" y=\"475\"/><line style=\"stroke: #383838; stroke-width: 1.5;\" x1=\"76.5\" x2=\"126.5\" y1=\"501.2969\" y2=\"501.2969\"/><text fill=\"#000000\" font-family=\"sans-serif\" font-size=\"14\" lengthAdjust=\"spacingAndGlyphs\" textLength=\"27\" x=\"88\" y=\"492.9951\">z: B</text></g><!--MD5=[89412dc0aadcc074a043f4740d311fef]\n",
       "@startuml\r\n",
       "skinparam ranksep 8\r\n",
       "skinparam rectangle {\r\n",
       " backgroundColor<<block>> LightGreen\r\n",
       "}\r\n",
       "left to right direction\r\n",
       "skinparam monochrome true\r\n",
       "skinparam classbackgroundcolor white\r\n",
       "skinparam shadowing false\r\n",
       "skinparam wrapWidth 300\r\n",
       "hide circle\r\n",
       "\r\n",
       "package \"PrivateImportTest\" as E1   {\r\n",
       "package \"P1\" as E2   {\r\n",
       "rec def \"A\" as E3  <<part def>> {\r\n",
       "}\r\n",
       "}\r\n",
       "package \"P2\" as E4   {\r\n",
       "}\r\n",
       "rec usage \"x: A\" as E5  {\r\n",
       "}\r\n",
       "package \"P3\" as E6   {\r\n",
       "rec def \"B\" as E7  <<part def>> {\r\n",
       "}\r\n",
       "}\r\n",
       "rec usage \"z: B\" as E8  {\r\n",
       "}\r\n",
       "}\r\n",
       "@enduml\r\n",
       "\n",
       "PlantUML version 1.2020.13(Sat Jun 13 12:26:38 UTC 2020)\n",
       "(EPL source distribution)\n",
       "Java Runtime: OpenJDK Runtime Environment\n",
       "JVM: OpenJDK 64-Bit Server VM\n",
       "Default Encoding: UTF-8\n",
       "Language: en\n",
       "Country: null\n",
       "--></g></svg>"
      ]
     },
     "execution_count": 19,
     "metadata": {},
     "output_type": "execute_result"
    }
   ],
   "source": [
    "%viz --style=\"LR\" --view=\"Interconnection\" \"PrivateImportTest\""
   ]
  },
  {
   "cell_type": "code",
   "execution_count": 20,
   "id": "changing-beginning",
   "metadata": {
    "execution": {
     "iopub.execute_input": "2021-03-25T15:59:50.757901Z",
     "iopub.status.busy": "2021-03-25T15:59:50.757256Z",
     "iopub.status.idle": "2021-03-25T15:59:50.760129Z",
     "shell.execute_reply": "2021-03-25T15:59:50.760553Z"
    }
   },
   "outputs": [
    {
     "data": {
      "text/plain": [
       "java.lang.IllegalArgumentException: Invalid View: Action View candidates are: Default Tree StateMachine Interconnection Activity Sequence MIXED \n",
       "\tat org.omg.sysml.plantuml.SysML2PlantUMLSvc.setView(SysML2PlantUMLSvc.java:63)\n",
       "\tat org.omg.sysml.interactive.SysMLInteractive.viz(SysMLInteractive.java:286)\n",
       "\tat org.omg.sysml.jupyter.kernel.magic.Viz.viz(Viz.java:47)\n",
       "\tat jdk.internal.reflect.GeneratedMethodAccessor8.invoke(Unknown Source)\n",
       "\tat java.base/jdk.internal.reflect.DelegatingMethodAccessorImpl.invoke(DelegatingMethodAccessorImpl.java:43)\n",
       "\tat java.base/java.lang.reflect.Method.invoke(Method.java:568)\n",
       "\tat io.github.spencerpark.jupyter.kernel.magic.registry.Magics.invoke(Magics.java:89)\n",
       "\tat io.github.spencerpark.jupyter.kernel.magic.registry.Magics.access$000(Magics.java:8)\n",
       "\tat io.github.spencerpark.jupyter.kernel.magic.registry.Magics$LineReflectionMagicFunction.execute(Magics.java:149)\n",
       "\tat io.github.spencerpark.jupyter.kernel.magic.registry.Magics.applyLineMagic(Magics.java:26)\n",
       "\tat org.omg.sysml.jupyter.kernel.SysMLKernel.eval(SysMLKernel.java:76)\n",
       "\tat io.github.spencerpark.jupyter.kernel.BaseKernel.handleExecuteRequest(BaseKernel.java:334)\n",
       "\tat io.github.spencerpark.jupyter.channels.ShellChannel.lambda$bind$0(ShellChannel.java:64)\n",
       "\tat io.github.spencerpark.jupyter.channels.Loop.lambda$new$0(Loop.java:21)\n",
       "\tat io.github.spencerpark.jupyter.channels.Loop.run(Loop.java:78)\n"
      ]
     },
     "execution_count": 20,
     "metadata": {},
     "output_type": "execute_result"
    }
   ],
   "source": [
    "%viz --style=\"LR\" --view=\"Action\" \"PrivateImportTest\""
   ]
  },
  {
   "cell_type": "code",
   "execution_count": 21,
   "id": "trained-commissioner",
   "metadata": {
    "execution": {
     "iopub.execute_input": "2021-03-25T15:59:50.819032Z",
     "iopub.status.busy": "2021-03-25T15:59:50.818052Z",
     "iopub.status.idle": "2021-03-25T15:59:50.909217Z",
     "shell.execute_reply": "2021-03-25T15:59:50.908774Z"
    }
   },
   "outputs": [
    {
     "data": {
      "image/svg+xml": [
       "<?xml version=\"1.0\" encoding=\"UTF-8\" standalone=\"no\"?><svg xmlns=\"http://www.w3.org/2000/svg\" xmlns:xlink=\"http://www.w3.org/1999/xlink\" contentScriptType=\"application/ecmascript\" contentStyleType=\"text/css\" height=\"303px\" preserveAspectRatio=\"none\" style=\"width:262px;height:303px;\" version=\"1.1\" viewBox=\"0 0 262 303\" width=\"262px\" zoomAndPan=\"magnify\"><defs/><g><!--MD5=[fbc87193dbaf4d95561dea2c320d4a47]\n",
       "cluster E1--><polygon fill=\"#FFFFFF\" points=\"16,6,163,6,170,28.2969,240,28.2969,240,291,16,291,16,6\" style=\"stroke: #000000; stroke-width: 1.5;\"/><line style=\"stroke: #000000; stroke-width: 1.5;\" x1=\"16\" x2=\"170\" y1=\"28.2969\" y2=\"28.2969\"/><text fill=\"#000000\" font-family=\"sans-serif\" font-size=\"14\" font-weight=\"bold\" lengthAdjust=\"spacingAndGlyphs\" textLength=\"141\" x=\"20\" y=\"20.9951\">PrivateImportTest</text><!--MD5=[e4f7fae6ed58524ba242bb0b0d3be6b7]\n",
       "cluster E2--><polygon fill=\"#FFFFFF\" points=\"118,49,144,49,151,71.2969,216,71.2969,216,146,118,146,118,49\" style=\"stroke: #000000; stroke-width: 1.5;\"/><line style=\"stroke: #000000; stroke-width: 1.5;\" x1=\"118\" x2=\"151\" y1=\"71.2969\" y2=\"71.2969\"/><text fill=\"#000000\" font-family=\"sans-serif\" font-size=\"14\" font-weight=\"bold\" lengthAdjust=\"spacingAndGlyphs\" textLength=\"20\" x=\"122\" y=\"63.9951\">P1</text><!--MD5=[14e3b0961a2654348d326746436168a1]\n",
       "cluster E6--><polygon fill=\"#FFFFFF\" points=\"118,170,144,170,151,192.2969,216,192.2969,216,267,118,267,118,170\" style=\"stroke: #000000; stroke-width: 1.5;\"/><line style=\"stroke: #000000; stroke-width: 1.5;\" x1=\"118\" x2=\"151\" y1=\"192.2969\" y2=\"192.2969\"/><text fill=\"#000000\" font-family=\"sans-serif\" font-size=\"14\" font-weight=\"bold\" lengthAdjust=\"spacingAndGlyphs\" textLength=\"20\" x=\"122\" y=\"184.9951\">P3</text><!--MD5=[270fce915f116d4de14055a7c1d9a0f3]\n",
       "class E5--><rect fill=\"#FFFFFF\" height=\"45.9375\" id=\"E5\" rx=\"10\" ry=\"10\" style=\"stroke: #383838; stroke-width: 1.5;\" width=\"42\" x=\"32\" y=\"59\"/><text fill=\"#000000\" font-family=\"sans-serif\" font-size=\"12\" font-style=\"italic\" lengthAdjust=\"spacingAndGlyphs\" textLength=\"40\" x=\"33\" y=\"75.1387\">«part»</text><text fill=\"#000000\" font-family=\"sans-serif\" font-size=\"12\" lengthAdjust=\"spacingAndGlyphs\" textLength=\"22\" x=\"42\" y=\"89.1074\">x: A</text><line style=\"stroke: #383838; stroke-width: 1.5;\" x1=\"33\" x2=\"73\" y1=\"96.9375\" y2=\"96.9375\"/><!--MD5=[b9389687b975829384b498ac4b7476b2]\n",
       "class E8--><rect fill=\"#FFFFFF\" height=\"45.9375\" id=\"E8\" rx=\"10\" ry=\"10\" style=\"stroke: #383838; stroke-width: 1.5;\" width=\"42\" x=\"32\" y=\"140\"/><text fill=\"#000000\" font-family=\"sans-serif\" font-size=\"12\" font-style=\"italic\" lengthAdjust=\"spacingAndGlyphs\" textLength=\"40\" x=\"33\" y=\"156.1387\">«part»</text><text fill=\"#000000\" font-family=\"sans-serif\" font-size=\"12\" lengthAdjust=\"spacingAndGlyphs\" textLength=\"21\" x=\"42.5\" y=\"170.1074\">z: B</text><line style=\"stroke: #383838; stroke-width: 1.5;\" x1=\"33\" x2=\"73\" y1=\"177.9375\" y2=\"177.9375\"/><!--MD5=[09b614a08d8cba4a07c9adeb5e0fee81]\n",
       "class E3--><rect fill=\"#FFFFFF\" height=\"45.9375\" id=\"E3\" style=\"stroke: #383838; stroke-width: 1.5;\" width=\"66\" x=\"134\" y=\"84\"/><text fill=\"#000000\" font-family=\"sans-serif\" font-size=\"12\" font-style=\"italic\" lengthAdjust=\"spacingAndGlyphs\" textLength=\"64\" x=\"135\" y=\"100.1387\">«part def»</text><text fill=\"#000000\" font-family=\"sans-serif\" font-size=\"12\" lengthAdjust=\"spacingAndGlyphs\" textLength=\"8\" x=\"163\" y=\"114.1074\">A</text><line style=\"stroke: #383838; stroke-width: 1.5;\" x1=\"135\" x2=\"199\" y1=\"121.9375\" y2=\"121.9375\"/><polygon fill=\"#FFFFFF\" points=\"33,221.5,59,221.5,66,243.7969,73,243.7969,73,274.0938,33,274.0938,33,221.5\" style=\"stroke: #000000; stroke-width: 1.5;\"/><line style=\"stroke: #000000; stroke-width: 1.5;\" x1=\"33\" x2=\"66\" y1=\"243.7969\" y2=\"243.7969\"/><text fill=\"#000000\" font-family=\"sans-serif\" font-size=\"14\" font-weight=\"bold\" lengthAdjust=\"spacingAndGlyphs\" textLength=\"20\" x=\"37\" y=\"236.4951\">P2</text><!--MD5=[2156ba9850f5573cc1fc38a6a4b2f02b]\n",
       "class E7--><rect fill=\"#FFFFFF\" height=\"45.9375\" id=\"E7\" style=\"stroke: #383838; stroke-width: 1.5;\" width=\"66\" x=\"134\" y=\"205\"/><text fill=\"#000000\" font-family=\"sans-serif\" font-size=\"12\" font-style=\"italic\" lengthAdjust=\"spacingAndGlyphs\" textLength=\"64\" x=\"135\" y=\"221.1387\">«part def»</text><text fill=\"#000000\" font-family=\"sans-serif\" font-size=\"12\" lengthAdjust=\"spacingAndGlyphs\" textLength=\"8\" x=\"163\" y=\"235.1074\">B</text><line style=\"stroke: #383838; stroke-width: 1.5;\" x1=\"135\" x2=\"199\" y1=\"242.9375\" y2=\"242.9375\"/><!--MD5=[e9be52314489bd878ff4c7144b63c9e1]\n",
       "link E5 to E3--><path d=\"M74.02,86.47 C85.31,88.99 99.99,92.27 114.29,95.46 \" fill=\"none\" id=\"E5-&gt;E3\" style=\"stroke: #383838; stroke-width: 1.0;\"/><polygon fill=\"#FFFFFF\" points=\"133.86,99.83,113.7912,102.5214,116.842,88.8579,133.86,99.83\" style=\"stroke: #383838; stroke-width: 1.0;\"/><ellipse cx=\"108.664\" cy=\"99.3274\" fill=\"#383838\" rx=\"2\" ry=\"2\" style=\"stroke: #383838; stroke-width: 1.0;\"/><ellipse cx=\"110.8432\" cy=\"89.5677\" fill=\"#383838\" rx=\"2\" ry=\"2\" style=\"stroke: #383838; stroke-width: 1.0;\"/><!--MD5=[bfa3c8b0d15052fdf50ae9310b491027]\n",
       "link E8 to E7--><path d=\"M74.02,174.62 C85.83,181.47 101.34,190.48 116.26,199.13 \" fill=\"none\" id=\"E8-&gt;E7\" style=\"stroke: #383838; stroke-width: 1.0;\"/><polygon fill=\"#FFFFFF\" points=\"133.86,209.35,113.9116,205.8773,120.9328,193.7652,133.86,209.35\" style=\"stroke: #383838; stroke-width: 1.0;\"/><ellipse cx=\"109.9832\" cy=\"201.2883\" fill=\"#383838\" rx=\"2\" ry=\"2\" style=\"stroke: #383838; stroke-width: 1.0;\"/><ellipse cx=\"114.9984\" cy=\"192.6368\" fill=\"#383838\" rx=\"2\" ry=\"2\" style=\"stroke: #383838; stroke-width: 1.0;\"/><!--MD5=[8618ddfb0771f5350e0f1c361e159294]\n",
       "@startuml\r\n",
       "left to right direction\r\n",
       "skinparam monochrome true\r\n",
       "skinparam classbackgroundcolor white\r\n",
       "skinparam shadowing false\r\n",
       "skinparam wrapWidth 300\r\n",
       "hide circle\r\n",
       "\r\n",
       "package \"PrivateImportTest\" as E1   {\r\n",
       "package \"P1\" as E2   {\r\n",
       "comp def \"A\" as E3  <<(T,blue)part def>> {\r\n",
       "}\r\n",
       "}\r\n",
       "package \"P2\" as E4   {\r\n",
       "}\r\n",
       "comp usage \"x: A\" as E5  <<(T,blue)part>> {\r\n",
       "}\r\n",
       "package \"P3\" as E6   {\r\n",
       "comp def \"B\" as E7  <<(T,blue)part def>> {\r\n",
       "}\r\n",
       "E5 - -:|> E3\r\n",
       "}\r\n",
       "comp usage \"z: B\" as E8  <<(T,blue)part>> {\r\n",
       "}\r\n",
       "E8 - -:|> E7\r\n",
       "}\r\n",
       "@enduml\r\n",
       "\n",
       "PlantUML version 1.2020.13(Sat Jun 13 12:26:38 UTC 2020)\n",
       "(EPL source distribution)\n",
       "Java Runtime: OpenJDK Runtime Environment\n",
       "JVM: OpenJDK 64-Bit Server VM\n",
       "Default Encoding: UTF-8\n",
       "Language: en\n",
       "Country: null\n",
       "--></g></svg>"
      ]
     },
     "execution_count": 21,
     "metadata": {},
     "output_type": "execute_result"
    }
   ],
   "source": [
    "%viz --style=\"LR\" --view=\"Sequence\" \"PrivateImportTest\""
   ]
  },
  {
   "cell_type": "code",
   "execution_count": 22,
   "id": "employed-mother",
   "metadata": {
    "execution": {
     "iopub.execute_input": "2021-03-25T15:59:50.962047Z",
     "iopub.status.busy": "2021-03-25T15:59:50.960945Z",
     "iopub.status.idle": "2021-03-25T15:59:51.045695Z",
     "shell.execute_reply": "2021-03-25T15:59:51.046135Z"
    }
   },
   "outputs": [
    {
     "data": {
      "image/svg+xml": [
       "<?xml version=\"1.0\" encoding=\"UTF-8\" standalone=\"no\"?><svg xmlns=\"http://www.w3.org/2000/svg\" xmlns:xlink=\"http://www.w3.org/1999/xlink\" contentScriptType=\"application/ecmascript\" contentStyleType=\"text/css\" height=\"303px\" preserveAspectRatio=\"none\" style=\"width:262px;height:303px;\" version=\"1.1\" viewBox=\"0 0 262 303\" width=\"262px\" zoomAndPan=\"magnify\"><defs/><g><!--MD5=[fbc87193dbaf4d95561dea2c320d4a47]\n",
       "cluster E1--><polygon fill=\"#FFFFFF\" points=\"16,6,163,6,170,28.2969,240,28.2969,240,291,16,291,16,6\" style=\"stroke: #000000; stroke-width: 1.5;\"/><line style=\"stroke: #000000; stroke-width: 1.5;\" x1=\"16\" x2=\"170\" y1=\"28.2969\" y2=\"28.2969\"/><text fill=\"#000000\" font-family=\"sans-serif\" font-size=\"14\" font-weight=\"bold\" lengthAdjust=\"spacingAndGlyphs\" textLength=\"141\" x=\"20\" y=\"20.9951\">PrivateImportTest</text><!--MD5=[e4f7fae6ed58524ba242bb0b0d3be6b7]\n",
       "cluster E2--><polygon fill=\"#FFFFFF\" points=\"118,49,144,49,151,71.2969,216,71.2969,216,146,118,146,118,49\" style=\"stroke: #000000; stroke-width: 1.5;\"/><line style=\"stroke: #000000; stroke-width: 1.5;\" x1=\"118\" x2=\"151\" y1=\"71.2969\" y2=\"71.2969\"/><text fill=\"#000000\" font-family=\"sans-serif\" font-size=\"14\" font-weight=\"bold\" lengthAdjust=\"spacingAndGlyphs\" textLength=\"20\" x=\"122\" y=\"63.9951\">P1</text><!--MD5=[14e3b0961a2654348d326746436168a1]\n",
       "cluster E6--><polygon fill=\"#FFFFFF\" points=\"118,170,144,170,151,192.2969,216,192.2969,216,267,118,267,118,170\" style=\"stroke: #000000; stroke-width: 1.5;\"/><line style=\"stroke: #000000; stroke-width: 1.5;\" x1=\"118\" x2=\"151\" y1=\"192.2969\" y2=\"192.2969\"/><text fill=\"#000000\" font-family=\"sans-serif\" font-size=\"14\" font-weight=\"bold\" lengthAdjust=\"spacingAndGlyphs\" textLength=\"20\" x=\"122\" y=\"184.9951\">P3</text><!--MD5=[270fce915f116d4de14055a7c1d9a0f3]\n",
       "class E5--><rect fill=\"#FFFFFF\" height=\"45.9375\" id=\"E5\" rx=\"10\" ry=\"10\" style=\"stroke: #383838; stroke-width: 1.5;\" width=\"42\" x=\"32\" y=\"59\"/><text fill=\"#000000\" font-family=\"sans-serif\" font-size=\"12\" font-style=\"italic\" lengthAdjust=\"spacingAndGlyphs\" textLength=\"40\" x=\"33\" y=\"75.1387\">«part»</text><text fill=\"#000000\" font-family=\"sans-serif\" font-size=\"12\" lengthAdjust=\"spacingAndGlyphs\" textLength=\"22\" x=\"42\" y=\"89.1074\">x: A</text><line style=\"stroke: #383838; stroke-width: 1.5;\" x1=\"33\" x2=\"73\" y1=\"96.9375\" y2=\"96.9375\"/><!--MD5=[b9389687b975829384b498ac4b7476b2]\n",
       "class E8--><rect fill=\"#FFFFFF\" height=\"45.9375\" id=\"E8\" rx=\"10\" ry=\"10\" style=\"stroke: #383838; stroke-width: 1.5;\" width=\"42\" x=\"32\" y=\"140\"/><text fill=\"#000000\" font-family=\"sans-serif\" font-size=\"12\" font-style=\"italic\" lengthAdjust=\"spacingAndGlyphs\" textLength=\"40\" x=\"33\" y=\"156.1387\">«part»</text><text fill=\"#000000\" font-family=\"sans-serif\" font-size=\"12\" lengthAdjust=\"spacingAndGlyphs\" textLength=\"21\" x=\"42.5\" y=\"170.1074\">z: B</text><line style=\"stroke: #383838; stroke-width: 1.5;\" x1=\"33\" x2=\"73\" y1=\"177.9375\" y2=\"177.9375\"/><!--MD5=[09b614a08d8cba4a07c9adeb5e0fee81]\n",
       "class E3--><rect fill=\"#FFFFFF\" height=\"45.9375\" id=\"E3\" style=\"stroke: #383838; stroke-width: 1.5;\" width=\"66\" x=\"134\" y=\"84\"/><text fill=\"#000000\" font-family=\"sans-serif\" font-size=\"12\" font-style=\"italic\" lengthAdjust=\"spacingAndGlyphs\" textLength=\"64\" x=\"135\" y=\"100.1387\">«part def»</text><text fill=\"#000000\" font-family=\"sans-serif\" font-size=\"12\" lengthAdjust=\"spacingAndGlyphs\" textLength=\"8\" x=\"163\" y=\"114.1074\">A</text><line style=\"stroke: #383838; stroke-width: 1.5;\" x1=\"135\" x2=\"199\" y1=\"121.9375\" y2=\"121.9375\"/><polygon fill=\"#FFFFFF\" points=\"33,221.5,59,221.5,66,243.7969,73,243.7969,73,274.0938,33,274.0938,33,221.5\" style=\"stroke: #000000; stroke-width: 1.5;\"/><line style=\"stroke: #000000; stroke-width: 1.5;\" x1=\"33\" x2=\"66\" y1=\"243.7969\" y2=\"243.7969\"/><text fill=\"#000000\" font-family=\"sans-serif\" font-size=\"14\" font-weight=\"bold\" lengthAdjust=\"spacingAndGlyphs\" textLength=\"20\" x=\"37\" y=\"236.4951\">P2</text><!--MD5=[2156ba9850f5573cc1fc38a6a4b2f02b]\n",
       "class E7--><rect fill=\"#FFFFFF\" height=\"45.9375\" id=\"E7\" style=\"stroke: #383838; stroke-width: 1.5;\" width=\"66\" x=\"134\" y=\"205\"/><text fill=\"#000000\" font-family=\"sans-serif\" font-size=\"12\" font-style=\"italic\" lengthAdjust=\"spacingAndGlyphs\" textLength=\"64\" x=\"135\" y=\"221.1387\">«part def»</text><text fill=\"#000000\" font-family=\"sans-serif\" font-size=\"12\" lengthAdjust=\"spacingAndGlyphs\" textLength=\"8\" x=\"163\" y=\"235.1074\">B</text><line style=\"stroke: #383838; stroke-width: 1.5;\" x1=\"135\" x2=\"199\" y1=\"242.9375\" y2=\"242.9375\"/><!--MD5=[e9be52314489bd878ff4c7144b63c9e1]\n",
       "link E5 to E3--><path d=\"M74.02,86.47 C85.31,88.99 99.99,92.27 114.29,95.46 \" fill=\"none\" id=\"E5-&gt;E3\" style=\"stroke: #383838; stroke-width: 1.0;\"/><polygon fill=\"#FFFFFF\" points=\"133.86,99.83,113.7912,102.5214,116.842,88.8579,133.86,99.83\" style=\"stroke: #383838; stroke-width: 1.0;\"/><ellipse cx=\"108.664\" cy=\"99.3274\" fill=\"#383838\" rx=\"2\" ry=\"2\" style=\"stroke: #383838; stroke-width: 1.0;\"/><ellipse cx=\"110.8432\" cy=\"89.5677\" fill=\"#383838\" rx=\"2\" ry=\"2\" style=\"stroke: #383838; stroke-width: 1.0;\"/><!--MD5=[bfa3c8b0d15052fdf50ae9310b491027]\n",
       "link E8 to E7--><path d=\"M74.02,174.62 C85.83,181.47 101.34,190.48 116.26,199.13 \" fill=\"none\" id=\"E8-&gt;E7\" style=\"stroke: #383838; stroke-width: 1.0;\"/><polygon fill=\"#FFFFFF\" points=\"133.86,209.35,113.9116,205.8773,120.9328,193.7652,133.86,209.35\" style=\"stroke: #383838; stroke-width: 1.0;\"/><ellipse cx=\"109.9832\" cy=\"201.2883\" fill=\"#383838\" rx=\"2\" ry=\"2\" style=\"stroke: #383838; stroke-width: 1.0;\"/><ellipse cx=\"114.9984\" cy=\"192.6368\" fill=\"#383838\" rx=\"2\" ry=\"2\" style=\"stroke: #383838; stroke-width: 1.0;\"/><!--MD5=[8618ddfb0771f5350e0f1c361e159294]\n",
       "@startuml\r\n",
       "left to right direction\r\n",
       "skinparam monochrome true\r\n",
       "skinparam classbackgroundcolor white\r\n",
       "skinparam shadowing false\r\n",
       "skinparam wrapWidth 300\r\n",
       "hide circle\r\n",
       "\r\n",
       "package \"PrivateImportTest\" as E1   {\r\n",
       "package \"P1\" as E2   {\r\n",
       "comp def \"A\" as E3  <<(T,blue)part def>> {\r\n",
       "}\r\n",
       "}\r\n",
       "package \"P2\" as E4   {\r\n",
       "}\r\n",
       "comp usage \"x: A\" as E5  <<(T,blue)part>> {\r\n",
       "}\r\n",
       "package \"P3\" as E6   {\r\n",
       "comp def \"B\" as E7  <<(T,blue)part def>> {\r\n",
       "}\r\n",
       "E5 - -:|> E3\r\n",
       "}\r\n",
       "comp usage \"z: B\" as E8  <<(T,blue)part>> {\r\n",
       "}\r\n",
       "E8 - -:|> E7\r\n",
       "}\r\n",
       "@enduml\r\n",
       "\n",
       "PlantUML version 1.2020.13(Sat Jun 13 12:26:38 UTC 2020)\n",
       "(EPL source distribution)\n",
       "Java Runtime: OpenJDK Runtime Environment\n",
       "JVM: OpenJDK 64-Bit Server VM\n",
       "Default Encoding: UTF-8\n",
       "Language: en\n",
       "Country: null\n",
       "--></g></svg>"
      ]
     },
     "execution_count": 22,
     "metadata": {},
     "output_type": "execute_result"
    }
   ],
   "source": [
    "%viz --style=\"LR\" --view=\"MIXED\" \"PrivateImportTest\""
   ]
  },
  {
   "cell_type": "code",
   "execution_count": 23,
   "id": "gothic-bible",
   "metadata": {
    "execution": {
     "iopub.execute_input": "2021-03-25T15:59:51.097879Z",
     "iopub.status.busy": "2021-03-25T15:59:51.097031Z",
     "iopub.status.idle": "2021-03-25T15:59:51.164936Z",
     "shell.execute_reply": "2021-03-25T15:59:51.165326Z"
    }
   },
   "outputs": [
    {
     "data": {
      "image/svg+xml": [
       "<?xml version=\"1.0\" encoding=\"UTF-8\" standalone=\"no\"?><svg xmlns=\"http://www.w3.org/2000/svg\" xmlns:xlink=\"http://www.w3.org/1999/xlink\" contentScriptType=\"application/ecmascript\" contentStyleType=\"text/css\" height=\"252px\" preserveAspectRatio=\"none\" style=\"width:306px;height:252px;\" version=\"1.1\" viewBox=\"0 0 306 252\" width=\"306px\" zoomAndPan=\"magnify\"><defs><filter height=\"300%\" id=\"f1kmcib8i4gcdr\" width=\"300%\" x=\"-1\" y=\"-1\"><feGaussianBlur result=\"blurOut\" stdDeviation=\"2.0\"/><feColorMatrix in=\"blurOut\" result=\"blurOut2\" type=\"matrix\" values=\"0 0 0 0 0 0 0 0 0 0 0 0 0 0 0 0 0 0 .4 0\"/><feOffset dx=\"4.0\" dy=\"4.0\" in=\"blurOut2\" result=\"blurOut3\"/><feBlend in=\"SourceGraphic\" in2=\"blurOut3\" mode=\"normal\"/></filter></defs><g><!--MD5=[fbc87193dbaf4d95561dea2c320d4a47]\n",
       "cluster E1--><polygon fill=\"#FFFFFF\" filter=\"url(#f1kmcib8i4gcdr)\" points=\"16,6,163,6,170,28.2969,284,28.2969,284,240,16,240,16,6\" style=\"stroke: #000000; stroke-width: 1.5;\"/><line style=\"stroke: #000000; stroke-width: 1.5;\" x1=\"16\" x2=\"170\" y1=\"28.2969\" y2=\"28.2969\"/><text fill=\"#000000\" font-family=\"sans-serif\" font-size=\"14\" font-weight=\"bold\" lengthAdjust=\"spacingAndGlyphs\" textLength=\"141\" x=\"20\" y=\"20.9951\">PrivateImportTest</text><!--MD5=[e4f7fae6ed58524ba242bb0b0d3be6b7]\n",
       "cluster E2--><polygon fill=\"#FFFFFF\" filter=\"url(#f1kmcib8i4gcdr)\" points=\"162,119,188,119,195,141.2969,260,141.2969,260,216,162,216,162,119\" style=\"stroke: #000000; stroke-width: 1.5;\"/><line style=\"stroke: #000000; stroke-width: 1.5;\" x1=\"162\" x2=\"195\" y1=\"141.2969\" y2=\"141.2969\"/><text fill=\"#000000\" font-family=\"sans-serif\" font-size=\"14\" font-weight=\"bold\" lengthAdjust=\"spacingAndGlyphs\" textLength=\"20\" x=\"166\" y=\"133.9951\">P1</text><!--MD5=[14e3b0961a2654348d326746436168a1]\n",
       "cluster E6--><polygon fill=\"#FFFFFF\" filter=\"url(#f1kmcib8i4gcdr)\" points=\"40,119,66,119,73,141.2969,138,141.2969,138,216,40,216,40,119\" style=\"stroke: #000000; stroke-width: 1.5;\"/><line style=\"stroke: #000000; stroke-width: 1.5;\" x1=\"40\" x2=\"73\" y1=\"141.2969\" y2=\"141.2969\"/><text fill=\"#000000\" font-family=\"sans-serif\" font-size=\"14\" font-weight=\"bold\" lengthAdjust=\"spacingAndGlyphs\" textLength=\"20\" x=\"44\" y=\"133.9951\">P3</text><!--MD5=[270fce915f116d4de14055a7c1d9a0f3]\n",
       "class E5--><rect fill=\"#FEFECE\" filter=\"url(#f1kmcib8i4gcdr)\" height=\"45.9375\" id=\"E5\" rx=\"10\" ry=\"10\" style=\"stroke: #A80036; stroke-width: 1.5;\" width=\"42\" x=\"190\" y=\"44.5\"/><text fill=\"#000000\" font-family=\"sans-serif\" font-size=\"12\" font-style=\"italic\" lengthAdjust=\"spacingAndGlyphs\" textLength=\"40\" x=\"191\" y=\"60.6387\">«part»</text><text fill=\"#000000\" font-family=\"sans-serif\" font-size=\"12\" lengthAdjust=\"spacingAndGlyphs\" textLength=\"22\" x=\"200\" y=\"74.6074\">x: A</text><line style=\"stroke: #A80036; stroke-width: 1.5;\" x1=\"191\" x2=\"231\" y1=\"82.4375\" y2=\"82.4375\"/><!--MD5=[b9389687b975829384b498ac4b7476b2]\n",
       "class E8--><rect fill=\"#FEFECE\" filter=\"url(#f1kmcib8i4gcdr)\" height=\"45.9375\" id=\"E8\" rx=\"10\" ry=\"10\" style=\"stroke: #A80036; stroke-width: 1.5;\" width=\"42\" x=\"107\" y=\"44.5\"/><text fill=\"#000000\" font-family=\"sans-serif\" font-size=\"12\" font-style=\"italic\" lengthAdjust=\"spacingAndGlyphs\" textLength=\"40\" x=\"108\" y=\"60.6387\">«part»</text><text fill=\"#000000\" font-family=\"sans-serif\" font-size=\"12\" lengthAdjust=\"spacingAndGlyphs\" textLength=\"21\" x=\"117.5\" y=\"74.6074\">z: B</text><line style=\"stroke: #A80036; stroke-width: 1.5;\" x1=\"108\" x2=\"148\" y1=\"82.4375\" y2=\"82.4375\"/><!--MD5=[09b614a08d8cba4a07c9adeb5e0fee81]\n",
       "class E3--><rect fill=\"#FEFECE\" filter=\"url(#f1kmcib8i4gcdr)\" height=\"45.9375\" id=\"E3\" style=\"stroke: #A80036; stroke-width: 1.5;\" width=\"66\" x=\"178\" y=\"154\"/><text fill=\"#000000\" font-family=\"sans-serif\" font-size=\"12\" font-style=\"italic\" lengthAdjust=\"spacingAndGlyphs\" textLength=\"64\" x=\"179\" y=\"170.1387\">«part def»</text><text fill=\"#000000\" font-family=\"sans-serif\" font-size=\"12\" lengthAdjust=\"spacingAndGlyphs\" textLength=\"8\" x=\"207\" y=\"184.1074\">A</text><line style=\"stroke: #A80036; stroke-width: 1.5;\" x1=\"179\" x2=\"243\" y1=\"191.9375\" y2=\"191.9375\"/><polygon fill=\"#FFFFFF\" filter=\"url(#f1kmcib8i4gcdr)\" points=\"32,41,58,41,65,63.2969,72,63.2969,72,93.5938,32,93.5938,32,41\" style=\"stroke: #000000; stroke-width: 1.5;\"/><line style=\"stroke: #000000; stroke-width: 1.5;\" x1=\"32\" x2=\"65\" y1=\"63.2969\" y2=\"63.2969\"/><text fill=\"#000000\" font-family=\"sans-serif\" font-size=\"14\" font-weight=\"bold\" lengthAdjust=\"spacingAndGlyphs\" textLength=\"20\" x=\"36\" y=\"55.9951\">P2</text><!--MD5=[2156ba9850f5573cc1fc38a6a4b2f02b]\n",
       "class E7--><rect fill=\"#FEFECE\" filter=\"url(#f1kmcib8i4gcdr)\" height=\"45.9375\" id=\"E7\" style=\"stroke: #A80036; stroke-width: 1.5;\" width=\"66\" x=\"56\" y=\"154\"/><text fill=\"#000000\" font-family=\"sans-serif\" font-size=\"12\" font-style=\"italic\" lengthAdjust=\"spacingAndGlyphs\" textLength=\"64\" x=\"57\" y=\"170.1387\">«part def»</text><text fill=\"#000000\" font-family=\"sans-serif\" font-size=\"12\" lengthAdjust=\"spacingAndGlyphs\" textLength=\"8\" x=\"85\" y=\"184.1074\">B</text><line style=\"stroke: #A80036; stroke-width: 1.5;\" x1=\"57\" x2=\"121\" y1=\"191.9375\" y2=\"191.9375\"/><!--MD5=[e9be52314489bd878ff4c7144b63c9e1]\n",
       "link E5 to E3--><path d=\"M211,90.51 C211,102.89 211,118.78 211,133.48 \" fill=\"none\" id=\"E5-&gt;E3\" style=\"stroke: #A80036; stroke-width: 1.0;\"/><polygon fill=\"#FFFFFF\" points=\"211,153.65,204,134.65,218,134.65,211,153.65\" style=\"stroke: #A80036; stroke-width: 1.0;\"/><ellipse cx=\"206\" cy=\"128.95\" fill=\"#A80036\" rx=\"2\" ry=\"2\" style=\"stroke: #A80036; stroke-width: 1.0;\"/><ellipse cx=\"216\" cy=\"128.95\" fill=\"#A80036\" rx=\"2\" ry=\"2\" style=\"stroke: #A80036; stroke-width: 1.0;\"/><!--MD5=[bfa3c8b0d15052fdf50ae9310b491027]\n",
       "link E8 to E7--><path d=\"M120.01,90.51 C115.39,103.25 109.42,119.7 103.96,134.76 \" fill=\"none\" id=\"E8-&gt;E7\" style=\"stroke: #A80036; stroke-width: 1.0;\"/><polygon fill=\"#FFFFFF\" points=\"97.11,153.65,97.0036,133.4018,110.1656,138.1726,97.11,153.65\" style=\"stroke: #A80036; stroke-width: 1.0;\"/><ellipse cx=\"100.8262\" cy=\"128.7245\" fill=\"#A80036\" rx=\"2\" ry=\"2\" style=\"stroke: #A80036; stroke-width: 1.0;\"/><ellipse cx=\"110.2277\" cy=\"132.1322\" fill=\"#A80036\" rx=\"2\" ry=\"2\" style=\"stroke: #A80036; stroke-width: 1.0;\"/><!--MD5=[67bf36b0f948a47ab9594686927bf611]\n",
       "@startuml\r\n",
       "skinparam wrapWidth 300\r\n",
       "hide circle\r\n",
       "\r\n",
       "package \"PrivateImportTest\" as E1   {\r\n",
       "package \"P1\" as E2   {\r\n",
       "comp def \"A\" as E3  <<(T,blue)part def>> {\r\n",
       "}\r\n",
       "}\r\n",
       "package \"P2\" as E4   {\r\n",
       "}\r\n",
       "comp usage \"x: A\" as E5  <<(T,blue)part>> {\r\n",
       "}\r\n",
       "package \"P3\" as E6   {\r\n",
       "comp def \"B\" as E7  <<(T,blue)part def>> {\r\n",
       "}\r\n",
       "E5 - -:|> E3\r\n",
       "}\r\n",
       "comp usage \"z: B\" as E8  <<(T,blue)part>> {\r\n",
       "}\r\n",
       "E8 - -:|> E7\r\n",
       "}\r\n",
       "@enduml\r\n",
       "\n",
       "PlantUML version 1.2020.13(Sat Jun 13 12:26:38 UTC 2020)\n",
       "(EPL source distribution)\n",
       "Java Runtime: OpenJDK Runtime Environment\n",
       "JVM: OpenJDK 64-Bit Server VM\n",
       "Default Encoding: UTF-8\n",
       "Language: en\n",
       "Country: null\n",
       "--></g></svg>"
      ]
     },
     "execution_count": 23,
     "metadata": {},
     "output_type": "execute_result"
    }
   ],
   "source": [
    "%viz --style=\"STDCOLOR\" --view=\"Default\" \"PrivateImportTest\""
   ]
  },
  {
   "cell_type": "code",
   "execution_count": 24,
   "id": "meaningful-cedar",
   "metadata": {
    "execution": {
     "iopub.execute_input": "2021-03-25T15:59:51.218500Z",
     "iopub.status.busy": "2021-03-25T15:59:51.217171Z",
     "iopub.status.idle": "2021-03-25T15:59:51.307560Z",
     "shell.execute_reply": "2021-03-25T15:59:51.306101Z"
    }
   },
   "outputs": [
    {
     "data": {
      "image/svg+xml": [
       "<?xml version=\"1.0\" encoding=\"UTF-8\" standalone=\"no\"?><svg xmlns=\"http://www.w3.org/2000/svg\" xmlns:xlink=\"http://www.w3.org/1999/xlink\" contentScriptType=\"application/ecmascript\" contentStyleType=\"text/css\" height=\"252px\" preserveAspectRatio=\"none\" style=\"width:306px;height:252px;\" version=\"1.1\" viewBox=\"0 0 306 252\" width=\"306px\" zoomAndPan=\"magnify\"><defs><filter height=\"300%\" id=\"f1kmcib8i4gcdr\" width=\"300%\" x=\"-1\" y=\"-1\"><feGaussianBlur result=\"blurOut\" stdDeviation=\"2.0\"/><feColorMatrix in=\"blurOut\" result=\"blurOut2\" type=\"matrix\" values=\"0 0 0 0 0 0 0 0 0 0 0 0 0 0 0 0 0 0 .4 0\"/><feOffset dx=\"4.0\" dy=\"4.0\" in=\"blurOut2\" result=\"blurOut3\"/><feBlend in=\"SourceGraphic\" in2=\"blurOut3\" mode=\"normal\"/></filter></defs><g><!--MD5=[fbc87193dbaf4d95561dea2c320d4a47]\n",
       "cluster E1--><polygon fill=\"#FFFFFF\" filter=\"url(#f1kmcib8i4gcdr)\" points=\"16,6,163,6,170,28.2969,284,28.2969,284,240,16,240,16,6\" style=\"stroke: #000000; stroke-width: 1.5;\"/><line style=\"stroke: #000000; stroke-width: 1.5;\" x1=\"16\" x2=\"170\" y1=\"28.2969\" y2=\"28.2969\"/><text fill=\"#000000\" font-family=\"sans-serif\" font-size=\"14\" font-weight=\"bold\" lengthAdjust=\"spacingAndGlyphs\" textLength=\"141\" x=\"20\" y=\"20.9951\">PrivateImportTest</text><!--MD5=[e4f7fae6ed58524ba242bb0b0d3be6b7]\n",
       "cluster E2--><polygon fill=\"#FFFFFF\" filter=\"url(#f1kmcib8i4gcdr)\" points=\"162,119,188,119,195,141.2969,260,141.2969,260,216,162,216,162,119\" style=\"stroke: #000000; stroke-width: 1.5;\"/><line style=\"stroke: #000000; stroke-width: 1.5;\" x1=\"162\" x2=\"195\" y1=\"141.2969\" y2=\"141.2969\"/><text fill=\"#000000\" font-family=\"sans-serif\" font-size=\"14\" font-weight=\"bold\" lengthAdjust=\"spacingAndGlyphs\" textLength=\"20\" x=\"166\" y=\"133.9951\">P1</text><!--MD5=[14e3b0961a2654348d326746436168a1]\n",
       "cluster E6--><polygon fill=\"#FFFFFF\" filter=\"url(#f1kmcib8i4gcdr)\" points=\"40,119,66,119,73,141.2969,138,141.2969,138,216,40,216,40,119\" style=\"stroke: #000000; stroke-width: 1.5;\"/><line style=\"stroke: #000000; stroke-width: 1.5;\" x1=\"40\" x2=\"73\" y1=\"141.2969\" y2=\"141.2969\"/><text fill=\"#000000\" font-family=\"sans-serif\" font-size=\"14\" font-weight=\"bold\" lengthAdjust=\"spacingAndGlyphs\" textLength=\"20\" x=\"44\" y=\"133.9951\">P3</text><!--MD5=[270fce915f116d4de14055a7c1d9a0f3]\n",
       "class E5--><rect fill=\"#FEFECE\" filter=\"url(#f1kmcib8i4gcdr)\" height=\"45.9375\" id=\"E5\" rx=\"10\" ry=\"10\" style=\"stroke: #A80036; stroke-width: 1.5;\" width=\"42\" x=\"190\" y=\"44.5\"/><text fill=\"#000000\" font-family=\"sans-serif\" font-size=\"12\" font-style=\"italic\" lengthAdjust=\"spacingAndGlyphs\" textLength=\"40\" x=\"191\" y=\"60.6387\">«part»</text><text fill=\"#000000\" font-family=\"sans-serif\" font-size=\"12\" lengthAdjust=\"spacingAndGlyphs\" textLength=\"22\" x=\"200\" y=\"74.6074\">x: A</text><line style=\"stroke: #A80036; stroke-width: 1.5;\" x1=\"191\" x2=\"231\" y1=\"82.4375\" y2=\"82.4375\"/><!--MD5=[b9389687b975829384b498ac4b7476b2]\n",
       "class E8--><rect fill=\"#FEFECE\" filter=\"url(#f1kmcib8i4gcdr)\" height=\"45.9375\" id=\"E8\" rx=\"10\" ry=\"10\" style=\"stroke: #A80036; stroke-width: 1.5;\" width=\"42\" x=\"107\" y=\"44.5\"/><text fill=\"#000000\" font-family=\"sans-serif\" font-size=\"12\" font-style=\"italic\" lengthAdjust=\"spacingAndGlyphs\" textLength=\"40\" x=\"108\" y=\"60.6387\">«part»</text><text fill=\"#000000\" font-family=\"sans-serif\" font-size=\"12\" lengthAdjust=\"spacingAndGlyphs\" textLength=\"21\" x=\"117.5\" y=\"74.6074\">z: B</text><line style=\"stroke: #A80036; stroke-width: 1.5;\" x1=\"108\" x2=\"148\" y1=\"82.4375\" y2=\"82.4375\"/><!--MD5=[09b614a08d8cba4a07c9adeb5e0fee81]\n",
       "class E3--><rect fill=\"#FEFECE\" filter=\"url(#f1kmcib8i4gcdr)\" height=\"45.9375\" id=\"E3\" style=\"stroke: #A80036; stroke-width: 1.5;\" width=\"66\" x=\"178\" y=\"154\"/><text fill=\"#000000\" font-family=\"sans-serif\" font-size=\"12\" font-style=\"italic\" lengthAdjust=\"spacingAndGlyphs\" textLength=\"64\" x=\"179\" y=\"170.1387\">«part def»</text><text fill=\"#000000\" font-family=\"sans-serif\" font-size=\"12\" lengthAdjust=\"spacingAndGlyphs\" textLength=\"8\" x=\"207\" y=\"184.1074\">A</text><line style=\"stroke: #A80036; stroke-width: 1.5;\" x1=\"179\" x2=\"243\" y1=\"191.9375\" y2=\"191.9375\"/><polygon fill=\"#FFFFFF\" filter=\"url(#f1kmcib8i4gcdr)\" points=\"32,41,58,41,65,63.2969,72,63.2969,72,93.5938,32,93.5938,32,41\" style=\"stroke: #000000; stroke-width: 1.5;\"/><line style=\"stroke: #000000; stroke-width: 1.5;\" x1=\"32\" x2=\"65\" y1=\"63.2969\" y2=\"63.2969\"/><text fill=\"#000000\" font-family=\"sans-serif\" font-size=\"14\" font-weight=\"bold\" lengthAdjust=\"spacingAndGlyphs\" textLength=\"20\" x=\"36\" y=\"55.9951\">P2</text><!--MD5=[2156ba9850f5573cc1fc38a6a4b2f02b]\n",
       "class E7--><rect fill=\"#FEFECE\" filter=\"url(#f1kmcib8i4gcdr)\" height=\"45.9375\" id=\"E7\" style=\"stroke: #A80036; stroke-width: 1.5;\" width=\"66\" x=\"56\" y=\"154\"/><text fill=\"#000000\" font-family=\"sans-serif\" font-size=\"12\" font-style=\"italic\" lengthAdjust=\"spacingAndGlyphs\" textLength=\"64\" x=\"57\" y=\"170.1387\">«part def»</text><text fill=\"#000000\" font-family=\"sans-serif\" font-size=\"12\" lengthAdjust=\"spacingAndGlyphs\" textLength=\"8\" x=\"85\" y=\"184.1074\">B</text><line style=\"stroke: #A80036; stroke-width: 1.5;\" x1=\"57\" x2=\"121\" y1=\"191.9375\" y2=\"191.9375\"/><!--MD5=[e9be52314489bd878ff4c7144b63c9e1]\n",
       "link E5 to E3--><path d=\"M211,90.51 C211,102.89 211,118.78 211,133.48 \" fill=\"none\" id=\"E5-&gt;E3\" style=\"stroke: #A80036; stroke-width: 1.0;\"/><polygon fill=\"#FFFFFF\" points=\"211,153.65,204,134.65,218,134.65,211,153.65\" style=\"stroke: #A80036; stroke-width: 1.0;\"/><ellipse cx=\"206\" cy=\"128.95\" fill=\"#A80036\" rx=\"2\" ry=\"2\" style=\"stroke: #A80036; stroke-width: 1.0;\"/><ellipse cx=\"216\" cy=\"128.95\" fill=\"#A80036\" rx=\"2\" ry=\"2\" style=\"stroke: #A80036; stroke-width: 1.0;\"/><!--MD5=[bfa3c8b0d15052fdf50ae9310b491027]\n",
       "link E8 to E7--><path d=\"M120.01,90.51 C115.39,103.25 109.42,119.7 103.96,134.76 \" fill=\"none\" id=\"E8-&gt;E7\" style=\"stroke: #A80036; stroke-width: 1.0;\"/><polygon fill=\"#FFFFFF\" points=\"97.11,153.65,97.0036,133.4018,110.1656,138.1726,97.11,153.65\" style=\"stroke: #A80036; stroke-width: 1.0;\"/><ellipse cx=\"100.8262\" cy=\"128.7245\" fill=\"#A80036\" rx=\"2\" ry=\"2\" style=\"stroke: #A80036; stroke-width: 1.0;\"/><ellipse cx=\"110.2277\" cy=\"132.1322\" fill=\"#A80036\" rx=\"2\" ry=\"2\" style=\"stroke: #A80036; stroke-width: 1.0;\"/><!--MD5=[67bf36b0f948a47ab9594686927bf611]\n",
       "@startuml\r\n",
       "skinparam wrapWidth 300\r\n",
       "hide circle\r\n",
       "\r\n",
       "package \"PrivateImportTest\" as E1   {\r\n",
       "package \"P1\" as E2   {\r\n",
       "comp def \"A\" as E3  <<(T,blue)part def>> {\r\n",
       "}\r\n",
       "}\r\n",
       "package \"P2\" as E4   {\r\n",
       "}\r\n",
       "comp usage \"x: A\" as E5  <<(T,blue)part>> {\r\n",
       "}\r\n",
       "package \"P3\" as E6   {\r\n",
       "comp def \"B\" as E7  <<(T,blue)part def>> {\r\n",
       "}\r\n",
       "E5 - -:|> E3\r\n",
       "}\r\n",
       "comp usage \"z: B\" as E8  <<(T,blue)part>> {\r\n",
       "}\r\n",
       "E8 - -:|> E7\r\n",
       "}\r\n",
       "@enduml\r\n",
       "\n",
       "PlantUML version 1.2020.13(Sat Jun 13 12:26:38 UTC 2020)\n",
       "(EPL source distribution)\n",
       "Java Runtime: OpenJDK Runtime Environment\n",
       "JVM: OpenJDK 64-Bit Server VM\n",
       "Default Encoding: UTF-8\n",
       "Language: en\n",
       "Country: null\n",
       "--></g></svg>"
      ]
     },
     "execution_count": 24,
     "metadata": {},
     "output_type": "execute_result"
    }
   ],
   "source": [
    "%viz --style=\"STDCOLOR\" --view=\"Tree\" \"PrivateImportTest\""
   ]
  },
  {
   "cell_type": "code",
   "execution_count": 25,
   "id": "hispanic-running",
   "metadata": {
    "execution": {
     "iopub.execute_input": "2021-03-25T15:59:51.358759Z",
     "iopub.status.busy": "2021-03-25T15:59:51.357914Z",
     "iopub.status.idle": "2021-03-25T15:59:51.361739Z",
     "shell.execute_reply": "2021-03-25T15:59:51.362270Z"
    }
   },
   "outputs": [
    {
     "data": {
      "text/plain": [
       "java.lang.IllegalArgumentException: Invalid View: State View candidates are: Default Tree StateMachine Interconnection Activity Sequence MIXED \n",
       "\tat org.omg.sysml.plantuml.SysML2PlantUMLSvc.setView(SysML2PlantUMLSvc.java:63)\n",
       "\tat org.omg.sysml.interactive.SysMLInteractive.viz(SysMLInteractive.java:286)\n",
       "\tat org.omg.sysml.jupyter.kernel.magic.Viz.viz(Viz.java:47)\n",
       "\tat jdk.internal.reflect.GeneratedMethodAccessor8.invoke(Unknown Source)\n",
       "\tat java.base/jdk.internal.reflect.DelegatingMethodAccessorImpl.invoke(DelegatingMethodAccessorImpl.java:43)\n",
       "\tat java.base/java.lang.reflect.Method.invoke(Method.java:568)\n",
       "\tat io.github.spencerpark.jupyter.kernel.magic.registry.Magics.invoke(Magics.java:89)\n",
       "\tat io.github.spencerpark.jupyter.kernel.magic.registry.Magics.access$000(Magics.java:8)\n",
       "\tat io.github.spencerpark.jupyter.kernel.magic.registry.Magics$LineReflectionMagicFunction.execute(Magics.java:149)\n",
       "\tat io.github.spencerpark.jupyter.kernel.magic.registry.Magics.applyLineMagic(Magics.java:26)\n",
       "\tat org.omg.sysml.jupyter.kernel.SysMLKernel.eval(SysMLKernel.java:76)\n",
       "\tat io.github.spencerpark.jupyter.kernel.BaseKernel.handleExecuteRequest(BaseKernel.java:334)\n",
       "\tat io.github.spencerpark.jupyter.channels.ShellChannel.lambda$bind$0(ShellChannel.java:64)\n",
       "\tat io.github.spencerpark.jupyter.channels.Loop.lambda$new$0(Loop.java:21)\n",
       "\tat io.github.spencerpark.jupyter.channels.Loop.run(Loop.java:78)\n"
      ]
     },
     "execution_count": 25,
     "metadata": {},
     "output_type": "execute_result"
    }
   ],
   "source": [
    "%viz --style=\"STDCOLOR\" --view=\"State\" \"PrivateImportTest\""
   ]
  },
  {
   "cell_type": "code",
   "execution_count": 26,
   "id": "packed-renewal",
   "metadata": {
    "execution": {
     "iopub.execute_input": "2021-03-25T15:59:51.413334Z",
     "iopub.status.busy": "2021-03-25T15:59:51.412809Z",
     "iopub.status.idle": "2021-03-25T15:59:51.498795Z",
     "shell.execute_reply": "2021-03-25T15:59:51.499166Z"
    }
   },
   "outputs": [
    {
     "data": {
      "image/svg+xml": [
       "<?xml version=\"1.0\" encoding=\"UTF-8\" standalone=\"no\"?><svg xmlns=\"http://www.w3.org/2000/svg\" xmlns:xlink=\"http://www.w3.org/1999/xlink\" contentScriptType=\"application/ecmascript\" contentStyleType=\"text/css\" height=\"189px\" preserveAspectRatio=\"none\" style=\"width:579px;height:189px;\" version=\"1.1\" viewBox=\"0 0 579 189\" width=\"579px\" zoomAndPan=\"magnify\"><defs><filter height=\"300%\" id=\"fp5zdcuv0oej8\" width=\"300%\" x=\"-1\" y=\"-1\"><feGaussianBlur result=\"blurOut\" stdDeviation=\"2.0\"/><feColorMatrix in=\"blurOut\" result=\"blurOut2\" type=\"matrix\" values=\"0 0 0 0 0 0 0 0 0 0 0 0 0 0 0 0 0 0 .4 0\"/><feOffset dx=\"4.0\" dy=\"4.0\" in=\"blurOut2\" result=\"blurOut3\"/><feBlend in=\"SourceGraphic\" in2=\"blurOut3\" mode=\"normal\"/></filter></defs><g><!--MD5=[fbc87193dbaf4d95561dea2c320d4a47]\n",
       "cluster E1--><polygon fill=\"#FFFFFF\" filter=\"url(#fp5zdcuv0oej8)\" points=\"16,6,163,6,170,28.2969,557,28.2969,557,177,16,177,16,6\" style=\"stroke: #000000; stroke-width: 1.5;\"/><line style=\"stroke: #000000; stroke-width: 1.5;\" x1=\"16\" x2=\"170\" y1=\"28.2969\" y2=\"28.2969\"/><text fill=\"#000000\" font-family=\"sans-serif\" font-size=\"14\" font-weight=\"bold\" lengthAdjust=\"spacingAndGlyphs\" textLength=\"141\" x=\"20\" y=\"20.9951\">PrivateImportTest</text><!--MD5=[e4f7fae6ed58524ba242bb0b0d3be6b7]\n",
       "cluster E2--><polygon fill=\"#FFFFFF\" filter=\"url(#fp5zdcuv0oej8)\" points=\"409,49,435,49,442,71.2969,533,71.2969,533,153,409,153,409,49\" style=\"stroke: #000000; stroke-width: 1.5;\"/><line style=\"stroke: #000000; stroke-width: 1.5;\" x1=\"409\" x2=\"442\" y1=\"71.2969\" y2=\"71.2969\"/><text fill=\"#000000\" font-family=\"sans-serif\" font-size=\"14\" font-weight=\"bold\" lengthAdjust=\"spacingAndGlyphs\" textLength=\"20\" x=\"413\" y=\"63.9951\">P1</text><!--MD5=[14e3b0961a2654348d326746436168a1]\n",
       "cluster E6--><polygon fill=\"#FFFFFF\" filter=\"url(#fp5zdcuv0oej8)\" points=\"261,49,287,49,294,71.2969,385,71.2969,385,153,261,153,261,49\" style=\"stroke: #000000; stroke-width: 1.5;\"/><line style=\"stroke: #000000; stroke-width: 1.5;\" x1=\"261\" x2=\"294\" y1=\"71.2969\" y2=\"71.2969\"/><text fill=\"#000000\" font-family=\"sans-serif\" font-size=\"14\" font-weight=\"bold\" lengthAdjust=\"spacingAndGlyphs\" textLength=\"20\" x=\"265\" y=\"63.9951\">P3</text><!--MD5=[a60fb756f580feb9fd8e2cf1329b5c91]\n",
       "entity E3--><rect fill=\"#FFFFFF\" filter=\"url(#fp5zdcuv0oej8)\" height=\"52.5938\" style=\"stroke: #000000; stroke-width: 1.5;\" width=\"91\" x=\"425.5\" y=\"84\"/><text fill=\"#000000\" font-family=\"sans-serif\" font-size=\"14\" font-style=\"italic\" lengthAdjust=\"spacingAndGlyphs\" textLength=\"71\" x=\"435.5\" y=\"106.9951\">«part def»</text><text fill=\"#000000\" font-family=\"sans-serif\" font-size=\"14\" lengthAdjust=\"spacingAndGlyphs\" textLength=\"9\" x=\"466.5\" y=\"123.292\">A</text><polygon fill=\"#FFFFFF\" filter=\"url(#fp5zdcuv0oej8)\" points=\"202,84,228,84,235,106.2969,242,106.2969,242,136.5938,202,136.5938,202,84\" style=\"stroke: #000000; stroke-width: 1.5;\"/><line style=\"stroke: #000000; stroke-width: 1.5;\" x1=\"202\" x2=\"235\" y1=\"106.2969\" y2=\"106.2969\"/><text fill=\"#000000\" font-family=\"sans-serif\" font-size=\"14\" font-weight=\"bold\" lengthAdjust=\"spacingAndGlyphs\" textLength=\"20\" x=\"206\" y=\"98.9951\">P2</text><g id=\"E1.E5\"><rect fill=\"#FFFFFF\" filter=\"url(#fp5zdcuv0oej8)\" height=\"50\" rx=\"12.5\" ry=\"12.5\" style=\"stroke: #A80036; stroke-width: 1.5;\" width=\"50\" x=\"117\" y=\"85.5\"/><line style=\"stroke: #A80036; stroke-width: 1.5;\" x1=\"117\" x2=\"167\" y1=\"111.7969\" y2=\"111.7969\"/><text fill=\"#000000\" font-family=\"sans-serif\" font-size=\"14\" lengthAdjust=\"spacingAndGlyphs\" textLength=\"25\" x=\"129.5\" y=\"103.4951\">x: A</text></g><!--MD5=[9c5f31f192441de4a59826ec090dc00a]\n",
       "entity E7--><rect fill=\"#FFFFFF\" filter=\"url(#fp5zdcuv0oej8)\" height=\"52.5938\" style=\"stroke: #000000; stroke-width: 1.5;\" width=\"91\" x=\"277.5\" y=\"84\"/><text fill=\"#000000\" font-family=\"sans-serif\" font-size=\"14\" font-style=\"italic\" lengthAdjust=\"spacingAndGlyphs\" textLength=\"71\" x=\"287.5\" y=\"106.9951\">«part def»</text><text fill=\"#000000\" font-family=\"sans-serif\" font-size=\"14\" lengthAdjust=\"spacingAndGlyphs\" textLength=\"10\" x=\"318\" y=\"123.292\">B</text><g id=\"E1.E8\"><rect fill=\"#FFFFFF\" filter=\"url(#fp5zdcuv0oej8)\" height=\"50\" rx=\"12.5\" ry=\"12.5\" style=\"stroke: #A80036; stroke-width: 1.5;\" width=\"50\" x=\"32\" y=\"85.5\"/><line style=\"stroke: #A80036; stroke-width: 1.5;\" x1=\"32\" x2=\"82\" y1=\"111.7969\" y2=\"111.7969\"/><text fill=\"#000000\" font-family=\"sans-serif\" font-size=\"14\" lengthAdjust=\"spacingAndGlyphs\" textLength=\"27\" x=\"43.5\" y=\"103.4951\">z: B</text></g><!--MD5=[bf59065578f13793776cfe3278b63499]\n",
       "@startuml\r\n",
       "skinparam ranksep 8\r\n",
       "skinparam rectangle {\r\n",
       " backgroundColor<<block>> LightGreen\r\n",
       "}\r\n",
       "skinparam wrapWidth 300\r\n",
       "hide circle\r\n",
       "\r\n",
       "package \"PrivateImportTest\" as E1   {\r\n",
       "package \"P1\" as E2   {\r\n",
       "rec def \"A\" as E3  <<part def>> {\r\n",
       "}\r\n",
       "}\r\n",
       "package \"P2\" as E4   {\r\n",
       "}\r\n",
       "rec usage \"x: A\" as E5  {\r\n",
       "}\r\n",
       "package \"P3\" as E6   {\r\n",
       "rec def \"B\" as E7  <<part def>> {\r\n",
       "}\r\n",
       "}\r\n",
       "rec usage \"z: B\" as E8  {\r\n",
       "}\r\n",
       "}\r\n",
       "@enduml\r\n",
       "\n",
       "PlantUML version 1.2020.13(Sat Jun 13 12:26:38 UTC 2020)\n",
       "(EPL source distribution)\n",
       "Java Runtime: OpenJDK Runtime Environment\n",
       "JVM: OpenJDK 64-Bit Server VM\n",
       "Default Encoding: UTF-8\n",
       "Language: en\n",
       "Country: null\n",
       "--></g></svg>"
      ]
     },
     "execution_count": 26,
     "metadata": {},
     "output_type": "execute_result"
    }
   ],
   "source": [
    "%viz --style=\"STDCOLOR\" --view=\"Interconnection\" \"PrivateImportTest\""
   ]
  },
  {
   "cell_type": "code",
   "execution_count": 27,
   "id": "daily-distinction",
   "metadata": {
    "execution": {
     "iopub.execute_input": "2021-03-25T15:59:51.550566Z",
     "iopub.status.busy": "2021-03-25T15:59:51.549785Z",
     "iopub.status.idle": "2021-03-25T15:59:51.552263Z",
     "shell.execute_reply": "2021-03-25T15:59:51.552738Z"
    }
   },
   "outputs": [
    {
     "data": {
      "text/plain": [
       "java.lang.IllegalArgumentException: Invalid View: Action View candidates are: Default Tree StateMachine Interconnection Activity Sequence MIXED \n",
       "\tat org.omg.sysml.plantuml.SysML2PlantUMLSvc.setView(SysML2PlantUMLSvc.java:63)\n",
       "\tat org.omg.sysml.interactive.SysMLInteractive.viz(SysMLInteractive.java:286)\n",
       "\tat org.omg.sysml.jupyter.kernel.magic.Viz.viz(Viz.java:47)\n",
       "\tat jdk.internal.reflect.GeneratedMethodAccessor8.invoke(Unknown Source)\n",
       "\tat java.base/jdk.internal.reflect.DelegatingMethodAccessorImpl.invoke(DelegatingMethodAccessorImpl.java:43)\n",
       "\tat java.base/java.lang.reflect.Method.invoke(Method.java:568)\n",
       "\tat io.github.spencerpark.jupyter.kernel.magic.registry.Magics.invoke(Magics.java:89)\n",
       "\tat io.github.spencerpark.jupyter.kernel.magic.registry.Magics.access$000(Magics.java:8)\n",
       "\tat io.github.spencerpark.jupyter.kernel.magic.registry.Magics$LineReflectionMagicFunction.execute(Magics.java:149)\n",
       "\tat io.github.spencerpark.jupyter.kernel.magic.registry.Magics.applyLineMagic(Magics.java:26)\n",
       "\tat org.omg.sysml.jupyter.kernel.SysMLKernel.eval(SysMLKernel.java:76)\n",
       "\tat io.github.spencerpark.jupyter.kernel.BaseKernel.handleExecuteRequest(BaseKernel.java:334)\n",
       "\tat io.github.spencerpark.jupyter.channels.ShellChannel.lambda$bind$0(ShellChannel.java:64)\n",
       "\tat io.github.spencerpark.jupyter.channels.Loop.lambda$new$0(Loop.java:21)\n",
       "\tat io.github.spencerpark.jupyter.channels.Loop.run(Loop.java:78)\n"
      ]
     },
     "execution_count": 27,
     "metadata": {},
     "output_type": "execute_result"
    }
   ],
   "source": [
    "%viz --style=\"STDCOLOR\" --view=\"Action\" \"PrivateImportTest\""
   ]
  },
  {
   "cell_type": "code",
   "execution_count": 28,
   "id": "adequate-islam",
   "metadata": {
    "execution": {
     "iopub.execute_input": "2021-03-25T15:59:51.604146Z",
     "iopub.status.busy": "2021-03-25T15:59:51.603729Z",
     "iopub.status.idle": "2021-03-25T15:59:51.673818Z",
     "shell.execute_reply": "2021-03-25T15:59:51.674273Z"
    }
   },
   "outputs": [
    {
     "data": {
      "image/svg+xml": [
       "<?xml version=\"1.0\" encoding=\"UTF-8\" standalone=\"no\"?><svg xmlns=\"http://www.w3.org/2000/svg\" xmlns:xlink=\"http://www.w3.org/1999/xlink\" contentScriptType=\"application/ecmascript\" contentStyleType=\"text/css\" height=\"252px\" preserveAspectRatio=\"none\" style=\"width:306px;height:252px;\" version=\"1.1\" viewBox=\"0 0 306 252\" width=\"306px\" zoomAndPan=\"magnify\"><defs><filter height=\"300%\" id=\"f1kmcib8i4gcdr\" width=\"300%\" x=\"-1\" y=\"-1\"><feGaussianBlur result=\"blurOut\" stdDeviation=\"2.0\"/><feColorMatrix in=\"blurOut\" result=\"blurOut2\" type=\"matrix\" values=\"0 0 0 0 0 0 0 0 0 0 0 0 0 0 0 0 0 0 .4 0\"/><feOffset dx=\"4.0\" dy=\"4.0\" in=\"blurOut2\" result=\"blurOut3\"/><feBlend in=\"SourceGraphic\" in2=\"blurOut3\" mode=\"normal\"/></filter></defs><g><!--MD5=[fbc87193dbaf4d95561dea2c320d4a47]\n",
       "cluster E1--><polygon fill=\"#FFFFFF\" filter=\"url(#f1kmcib8i4gcdr)\" points=\"16,6,163,6,170,28.2969,284,28.2969,284,240,16,240,16,6\" style=\"stroke: #000000; stroke-width: 1.5;\"/><line style=\"stroke: #000000; stroke-width: 1.5;\" x1=\"16\" x2=\"170\" y1=\"28.2969\" y2=\"28.2969\"/><text fill=\"#000000\" font-family=\"sans-serif\" font-size=\"14\" font-weight=\"bold\" lengthAdjust=\"spacingAndGlyphs\" textLength=\"141\" x=\"20\" y=\"20.9951\">PrivateImportTest</text><!--MD5=[e4f7fae6ed58524ba242bb0b0d3be6b7]\n",
       "cluster E2--><polygon fill=\"#FFFFFF\" filter=\"url(#f1kmcib8i4gcdr)\" points=\"162,119,188,119,195,141.2969,260,141.2969,260,216,162,216,162,119\" style=\"stroke: #000000; stroke-width: 1.5;\"/><line style=\"stroke: #000000; stroke-width: 1.5;\" x1=\"162\" x2=\"195\" y1=\"141.2969\" y2=\"141.2969\"/><text fill=\"#000000\" font-family=\"sans-serif\" font-size=\"14\" font-weight=\"bold\" lengthAdjust=\"spacingAndGlyphs\" textLength=\"20\" x=\"166\" y=\"133.9951\">P1</text><!--MD5=[14e3b0961a2654348d326746436168a1]\n",
       "cluster E6--><polygon fill=\"#FFFFFF\" filter=\"url(#f1kmcib8i4gcdr)\" points=\"40,119,66,119,73,141.2969,138,141.2969,138,216,40,216,40,119\" style=\"stroke: #000000; stroke-width: 1.5;\"/><line style=\"stroke: #000000; stroke-width: 1.5;\" x1=\"40\" x2=\"73\" y1=\"141.2969\" y2=\"141.2969\"/><text fill=\"#000000\" font-family=\"sans-serif\" font-size=\"14\" font-weight=\"bold\" lengthAdjust=\"spacingAndGlyphs\" textLength=\"20\" x=\"44\" y=\"133.9951\">P3</text><!--MD5=[270fce915f116d4de14055a7c1d9a0f3]\n",
       "class E5--><rect fill=\"#FEFECE\" filter=\"url(#f1kmcib8i4gcdr)\" height=\"45.9375\" id=\"E5\" rx=\"10\" ry=\"10\" style=\"stroke: #A80036; stroke-width: 1.5;\" width=\"42\" x=\"190\" y=\"44.5\"/><text fill=\"#000000\" font-family=\"sans-serif\" font-size=\"12\" font-style=\"italic\" lengthAdjust=\"spacingAndGlyphs\" textLength=\"40\" x=\"191\" y=\"60.6387\">«part»</text><text fill=\"#000000\" font-family=\"sans-serif\" font-size=\"12\" lengthAdjust=\"spacingAndGlyphs\" textLength=\"22\" x=\"200\" y=\"74.6074\">x: A</text><line style=\"stroke: #A80036; stroke-width: 1.5;\" x1=\"191\" x2=\"231\" y1=\"82.4375\" y2=\"82.4375\"/><!--MD5=[b9389687b975829384b498ac4b7476b2]\n",
       "class E8--><rect fill=\"#FEFECE\" filter=\"url(#f1kmcib8i4gcdr)\" height=\"45.9375\" id=\"E8\" rx=\"10\" ry=\"10\" style=\"stroke: #A80036; stroke-width: 1.5;\" width=\"42\" x=\"107\" y=\"44.5\"/><text fill=\"#000000\" font-family=\"sans-serif\" font-size=\"12\" font-style=\"italic\" lengthAdjust=\"spacingAndGlyphs\" textLength=\"40\" x=\"108\" y=\"60.6387\">«part»</text><text fill=\"#000000\" font-family=\"sans-serif\" font-size=\"12\" lengthAdjust=\"spacingAndGlyphs\" textLength=\"21\" x=\"117.5\" y=\"74.6074\">z: B</text><line style=\"stroke: #A80036; stroke-width: 1.5;\" x1=\"108\" x2=\"148\" y1=\"82.4375\" y2=\"82.4375\"/><!--MD5=[09b614a08d8cba4a07c9adeb5e0fee81]\n",
       "class E3--><rect fill=\"#FEFECE\" filter=\"url(#f1kmcib8i4gcdr)\" height=\"45.9375\" id=\"E3\" style=\"stroke: #A80036; stroke-width: 1.5;\" width=\"66\" x=\"178\" y=\"154\"/><text fill=\"#000000\" font-family=\"sans-serif\" font-size=\"12\" font-style=\"italic\" lengthAdjust=\"spacingAndGlyphs\" textLength=\"64\" x=\"179\" y=\"170.1387\">«part def»</text><text fill=\"#000000\" font-family=\"sans-serif\" font-size=\"12\" lengthAdjust=\"spacingAndGlyphs\" textLength=\"8\" x=\"207\" y=\"184.1074\">A</text><line style=\"stroke: #A80036; stroke-width: 1.5;\" x1=\"179\" x2=\"243\" y1=\"191.9375\" y2=\"191.9375\"/><polygon fill=\"#FFFFFF\" filter=\"url(#f1kmcib8i4gcdr)\" points=\"32,41,58,41,65,63.2969,72,63.2969,72,93.5938,32,93.5938,32,41\" style=\"stroke: #000000; stroke-width: 1.5;\"/><line style=\"stroke: #000000; stroke-width: 1.5;\" x1=\"32\" x2=\"65\" y1=\"63.2969\" y2=\"63.2969\"/><text fill=\"#000000\" font-family=\"sans-serif\" font-size=\"14\" font-weight=\"bold\" lengthAdjust=\"spacingAndGlyphs\" textLength=\"20\" x=\"36\" y=\"55.9951\">P2</text><!--MD5=[2156ba9850f5573cc1fc38a6a4b2f02b]\n",
       "class E7--><rect fill=\"#FEFECE\" filter=\"url(#f1kmcib8i4gcdr)\" height=\"45.9375\" id=\"E7\" style=\"stroke: #A80036; stroke-width: 1.5;\" width=\"66\" x=\"56\" y=\"154\"/><text fill=\"#000000\" font-family=\"sans-serif\" font-size=\"12\" font-style=\"italic\" lengthAdjust=\"spacingAndGlyphs\" textLength=\"64\" x=\"57\" y=\"170.1387\">«part def»</text><text fill=\"#000000\" font-family=\"sans-serif\" font-size=\"12\" lengthAdjust=\"spacingAndGlyphs\" textLength=\"8\" x=\"85\" y=\"184.1074\">B</text><line style=\"stroke: #A80036; stroke-width: 1.5;\" x1=\"57\" x2=\"121\" y1=\"191.9375\" y2=\"191.9375\"/><!--MD5=[e9be52314489bd878ff4c7144b63c9e1]\n",
       "link E5 to E3--><path d=\"M211,90.51 C211,102.89 211,118.78 211,133.48 \" fill=\"none\" id=\"E5-&gt;E3\" style=\"stroke: #A80036; stroke-width: 1.0;\"/><polygon fill=\"#FFFFFF\" points=\"211,153.65,204,134.65,218,134.65,211,153.65\" style=\"stroke: #A80036; stroke-width: 1.0;\"/><ellipse cx=\"206\" cy=\"128.95\" fill=\"#A80036\" rx=\"2\" ry=\"2\" style=\"stroke: #A80036; stroke-width: 1.0;\"/><ellipse cx=\"216\" cy=\"128.95\" fill=\"#A80036\" rx=\"2\" ry=\"2\" style=\"stroke: #A80036; stroke-width: 1.0;\"/><!--MD5=[bfa3c8b0d15052fdf50ae9310b491027]\n",
       "link E8 to E7--><path d=\"M120.01,90.51 C115.39,103.25 109.42,119.7 103.96,134.76 \" fill=\"none\" id=\"E8-&gt;E7\" style=\"stroke: #A80036; stroke-width: 1.0;\"/><polygon fill=\"#FFFFFF\" points=\"97.11,153.65,97.0036,133.4018,110.1656,138.1726,97.11,153.65\" style=\"stroke: #A80036; stroke-width: 1.0;\"/><ellipse cx=\"100.8262\" cy=\"128.7245\" fill=\"#A80036\" rx=\"2\" ry=\"2\" style=\"stroke: #A80036; stroke-width: 1.0;\"/><ellipse cx=\"110.2277\" cy=\"132.1322\" fill=\"#A80036\" rx=\"2\" ry=\"2\" style=\"stroke: #A80036; stroke-width: 1.0;\"/><!--MD5=[67bf36b0f948a47ab9594686927bf611]\n",
       "@startuml\r\n",
       "skinparam wrapWidth 300\r\n",
       "hide circle\r\n",
       "\r\n",
       "package \"PrivateImportTest\" as E1   {\r\n",
       "package \"P1\" as E2   {\r\n",
       "comp def \"A\" as E3  <<(T,blue)part def>> {\r\n",
       "}\r\n",
       "}\r\n",
       "package \"P2\" as E4   {\r\n",
       "}\r\n",
       "comp usage \"x: A\" as E5  <<(T,blue)part>> {\r\n",
       "}\r\n",
       "package \"P3\" as E6   {\r\n",
       "comp def \"B\" as E7  <<(T,blue)part def>> {\r\n",
       "}\r\n",
       "E5 - -:|> E3\r\n",
       "}\r\n",
       "comp usage \"z: B\" as E8  <<(T,blue)part>> {\r\n",
       "}\r\n",
       "E8 - -:|> E7\r\n",
       "}\r\n",
       "@enduml\r\n",
       "\n",
       "PlantUML version 1.2020.13(Sat Jun 13 12:26:38 UTC 2020)\n",
       "(EPL source distribution)\n",
       "Java Runtime: OpenJDK Runtime Environment\n",
       "JVM: OpenJDK 64-Bit Server VM\n",
       "Default Encoding: UTF-8\n",
       "Language: en\n",
       "Country: null\n",
       "--></g></svg>"
      ]
     },
     "execution_count": 28,
     "metadata": {},
     "output_type": "execute_result"
    }
   ],
   "source": [
    "%viz --style=\"STDCOLOR\" --view=\"Sequence\" \"PrivateImportTest\""
   ]
  },
  {
   "cell_type": "code",
   "execution_count": 29,
   "id": "complex-virus",
   "metadata": {
    "execution": {
     "iopub.execute_input": "2021-03-25T15:59:51.726131Z",
     "iopub.status.busy": "2021-03-25T15:59:51.725260Z",
     "iopub.status.idle": "2021-03-25T15:59:51.796044Z",
     "shell.execute_reply": "2021-03-25T15:59:51.795687Z"
    }
   },
   "outputs": [
    {
     "data": {
      "image/svg+xml": [
       "<?xml version=\"1.0\" encoding=\"UTF-8\" standalone=\"no\"?><svg xmlns=\"http://www.w3.org/2000/svg\" xmlns:xlink=\"http://www.w3.org/1999/xlink\" contentScriptType=\"application/ecmascript\" contentStyleType=\"text/css\" height=\"252px\" preserveAspectRatio=\"none\" style=\"width:306px;height:252px;\" version=\"1.1\" viewBox=\"0 0 306 252\" width=\"306px\" zoomAndPan=\"magnify\"><defs><filter height=\"300%\" id=\"f1kmcib8i4gcdr\" width=\"300%\" x=\"-1\" y=\"-1\"><feGaussianBlur result=\"blurOut\" stdDeviation=\"2.0\"/><feColorMatrix in=\"blurOut\" result=\"blurOut2\" type=\"matrix\" values=\"0 0 0 0 0 0 0 0 0 0 0 0 0 0 0 0 0 0 .4 0\"/><feOffset dx=\"4.0\" dy=\"4.0\" in=\"blurOut2\" result=\"blurOut3\"/><feBlend in=\"SourceGraphic\" in2=\"blurOut3\" mode=\"normal\"/></filter></defs><g><!--MD5=[fbc87193dbaf4d95561dea2c320d4a47]\n",
       "cluster E1--><polygon fill=\"#FFFFFF\" filter=\"url(#f1kmcib8i4gcdr)\" points=\"16,6,163,6,170,28.2969,284,28.2969,284,240,16,240,16,6\" style=\"stroke: #000000; stroke-width: 1.5;\"/><line style=\"stroke: #000000; stroke-width: 1.5;\" x1=\"16\" x2=\"170\" y1=\"28.2969\" y2=\"28.2969\"/><text fill=\"#000000\" font-family=\"sans-serif\" font-size=\"14\" font-weight=\"bold\" lengthAdjust=\"spacingAndGlyphs\" textLength=\"141\" x=\"20\" y=\"20.9951\">PrivateImportTest</text><!--MD5=[e4f7fae6ed58524ba242bb0b0d3be6b7]\n",
       "cluster E2--><polygon fill=\"#FFFFFF\" filter=\"url(#f1kmcib8i4gcdr)\" points=\"162,119,188,119,195,141.2969,260,141.2969,260,216,162,216,162,119\" style=\"stroke: #000000; stroke-width: 1.5;\"/><line style=\"stroke: #000000; stroke-width: 1.5;\" x1=\"162\" x2=\"195\" y1=\"141.2969\" y2=\"141.2969\"/><text fill=\"#000000\" font-family=\"sans-serif\" font-size=\"14\" font-weight=\"bold\" lengthAdjust=\"spacingAndGlyphs\" textLength=\"20\" x=\"166\" y=\"133.9951\">P1</text><!--MD5=[14e3b0961a2654348d326746436168a1]\n",
       "cluster E6--><polygon fill=\"#FFFFFF\" filter=\"url(#f1kmcib8i4gcdr)\" points=\"40,119,66,119,73,141.2969,138,141.2969,138,216,40,216,40,119\" style=\"stroke: #000000; stroke-width: 1.5;\"/><line style=\"stroke: #000000; stroke-width: 1.5;\" x1=\"40\" x2=\"73\" y1=\"141.2969\" y2=\"141.2969\"/><text fill=\"#000000\" font-family=\"sans-serif\" font-size=\"14\" font-weight=\"bold\" lengthAdjust=\"spacingAndGlyphs\" textLength=\"20\" x=\"44\" y=\"133.9951\">P3</text><!--MD5=[270fce915f116d4de14055a7c1d9a0f3]\n",
       "class E5--><rect fill=\"#FEFECE\" filter=\"url(#f1kmcib8i4gcdr)\" height=\"45.9375\" id=\"E5\" rx=\"10\" ry=\"10\" style=\"stroke: #A80036; stroke-width: 1.5;\" width=\"42\" x=\"190\" y=\"44.5\"/><text fill=\"#000000\" font-family=\"sans-serif\" font-size=\"12\" font-style=\"italic\" lengthAdjust=\"spacingAndGlyphs\" textLength=\"40\" x=\"191\" y=\"60.6387\">«part»</text><text fill=\"#000000\" font-family=\"sans-serif\" font-size=\"12\" lengthAdjust=\"spacingAndGlyphs\" textLength=\"22\" x=\"200\" y=\"74.6074\">x: A</text><line style=\"stroke: #A80036; stroke-width: 1.5;\" x1=\"191\" x2=\"231\" y1=\"82.4375\" y2=\"82.4375\"/><!--MD5=[b9389687b975829384b498ac4b7476b2]\n",
       "class E8--><rect fill=\"#FEFECE\" filter=\"url(#f1kmcib8i4gcdr)\" height=\"45.9375\" id=\"E8\" rx=\"10\" ry=\"10\" style=\"stroke: #A80036; stroke-width: 1.5;\" width=\"42\" x=\"107\" y=\"44.5\"/><text fill=\"#000000\" font-family=\"sans-serif\" font-size=\"12\" font-style=\"italic\" lengthAdjust=\"spacingAndGlyphs\" textLength=\"40\" x=\"108\" y=\"60.6387\">«part»</text><text fill=\"#000000\" font-family=\"sans-serif\" font-size=\"12\" lengthAdjust=\"spacingAndGlyphs\" textLength=\"21\" x=\"117.5\" y=\"74.6074\">z: B</text><line style=\"stroke: #A80036; stroke-width: 1.5;\" x1=\"108\" x2=\"148\" y1=\"82.4375\" y2=\"82.4375\"/><!--MD5=[09b614a08d8cba4a07c9adeb5e0fee81]\n",
       "class E3--><rect fill=\"#FEFECE\" filter=\"url(#f1kmcib8i4gcdr)\" height=\"45.9375\" id=\"E3\" style=\"stroke: #A80036; stroke-width: 1.5;\" width=\"66\" x=\"178\" y=\"154\"/><text fill=\"#000000\" font-family=\"sans-serif\" font-size=\"12\" font-style=\"italic\" lengthAdjust=\"spacingAndGlyphs\" textLength=\"64\" x=\"179\" y=\"170.1387\">«part def»</text><text fill=\"#000000\" font-family=\"sans-serif\" font-size=\"12\" lengthAdjust=\"spacingAndGlyphs\" textLength=\"8\" x=\"207\" y=\"184.1074\">A</text><line style=\"stroke: #A80036; stroke-width: 1.5;\" x1=\"179\" x2=\"243\" y1=\"191.9375\" y2=\"191.9375\"/><polygon fill=\"#FFFFFF\" filter=\"url(#f1kmcib8i4gcdr)\" points=\"32,41,58,41,65,63.2969,72,63.2969,72,93.5938,32,93.5938,32,41\" style=\"stroke: #000000; stroke-width: 1.5;\"/><line style=\"stroke: #000000; stroke-width: 1.5;\" x1=\"32\" x2=\"65\" y1=\"63.2969\" y2=\"63.2969\"/><text fill=\"#000000\" font-family=\"sans-serif\" font-size=\"14\" font-weight=\"bold\" lengthAdjust=\"spacingAndGlyphs\" textLength=\"20\" x=\"36\" y=\"55.9951\">P2</text><!--MD5=[2156ba9850f5573cc1fc38a6a4b2f02b]\n",
       "class E7--><rect fill=\"#FEFECE\" filter=\"url(#f1kmcib8i4gcdr)\" height=\"45.9375\" id=\"E7\" style=\"stroke: #A80036; stroke-width: 1.5;\" width=\"66\" x=\"56\" y=\"154\"/><text fill=\"#000000\" font-family=\"sans-serif\" font-size=\"12\" font-style=\"italic\" lengthAdjust=\"spacingAndGlyphs\" textLength=\"64\" x=\"57\" y=\"170.1387\">«part def»</text><text fill=\"#000000\" font-family=\"sans-serif\" font-size=\"12\" lengthAdjust=\"spacingAndGlyphs\" textLength=\"8\" x=\"85\" y=\"184.1074\">B</text><line style=\"stroke: #A80036; stroke-width: 1.5;\" x1=\"57\" x2=\"121\" y1=\"191.9375\" y2=\"191.9375\"/><!--MD5=[e9be52314489bd878ff4c7144b63c9e1]\n",
       "link E5 to E3--><path d=\"M211,90.51 C211,102.89 211,118.78 211,133.48 \" fill=\"none\" id=\"E5-&gt;E3\" style=\"stroke: #A80036; stroke-width: 1.0;\"/><polygon fill=\"#FFFFFF\" points=\"211,153.65,204,134.65,218,134.65,211,153.65\" style=\"stroke: #A80036; stroke-width: 1.0;\"/><ellipse cx=\"206\" cy=\"128.95\" fill=\"#A80036\" rx=\"2\" ry=\"2\" style=\"stroke: #A80036; stroke-width: 1.0;\"/><ellipse cx=\"216\" cy=\"128.95\" fill=\"#A80036\" rx=\"2\" ry=\"2\" style=\"stroke: #A80036; stroke-width: 1.0;\"/><!--MD5=[bfa3c8b0d15052fdf50ae9310b491027]\n",
       "link E8 to E7--><path d=\"M120.01,90.51 C115.39,103.25 109.42,119.7 103.96,134.76 \" fill=\"none\" id=\"E8-&gt;E7\" style=\"stroke: #A80036; stroke-width: 1.0;\"/><polygon fill=\"#FFFFFF\" points=\"97.11,153.65,97.0036,133.4018,110.1656,138.1726,97.11,153.65\" style=\"stroke: #A80036; stroke-width: 1.0;\"/><ellipse cx=\"100.8262\" cy=\"128.7245\" fill=\"#A80036\" rx=\"2\" ry=\"2\" style=\"stroke: #A80036; stroke-width: 1.0;\"/><ellipse cx=\"110.2277\" cy=\"132.1322\" fill=\"#A80036\" rx=\"2\" ry=\"2\" style=\"stroke: #A80036; stroke-width: 1.0;\"/><!--MD5=[67bf36b0f948a47ab9594686927bf611]\n",
       "@startuml\r\n",
       "skinparam wrapWidth 300\r\n",
       "hide circle\r\n",
       "\r\n",
       "package \"PrivateImportTest\" as E1   {\r\n",
       "package \"P1\" as E2   {\r\n",
       "comp def \"A\" as E3  <<(T,blue)part def>> {\r\n",
       "}\r\n",
       "}\r\n",
       "package \"P2\" as E4   {\r\n",
       "}\r\n",
       "comp usage \"x: A\" as E5  <<(T,blue)part>> {\r\n",
       "}\r\n",
       "package \"P3\" as E6   {\r\n",
       "comp def \"B\" as E7  <<(T,blue)part def>> {\r\n",
       "}\r\n",
       "E5 - -:|> E3\r\n",
       "}\r\n",
       "comp usage \"z: B\" as E8  <<(T,blue)part>> {\r\n",
       "}\r\n",
       "E8 - -:|> E7\r\n",
       "}\r\n",
       "@enduml\r\n",
       "\n",
       "PlantUML version 1.2020.13(Sat Jun 13 12:26:38 UTC 2020)\n",
       "(EPL source distribution)\n",
       "Java Runtime: OpenJDK Runtime Environment\n",
       "JVM: OpenJDK 64-Bit Server VM\n",
       "Default Encoding: UTF-8\n",
       "Language: en\n",
       "Country: null\n",
       "--></g></svg>"
      ]
     },
     "execution_count": 29,
     "metadata": {},
     "output_type": "execute_result"
    }
   ],
   "source": [
    "%viz --style=\"STDCOLOR\" --view=\"MIXED\" \"PrivateImportTest\""
   ]
  },
  {
   "cell_type": "code",
   "execution_count": 30,
   "id": "cultural-marketplace",
   "metadata": {
    "execution": {
     "iopub.execute_input": "2021-03-25T15:59:51.849088Z",
     "iopub.status.busy": "2021-03-25T15:59:51.847818Z",
     "iopub.status.idle": "2021-03-25T15:59:51.933779Z",
     "shell.execute_reply": "2021-03-25T15:59:51.934197Z"
    }
   },
   "outputs": [
    {
     "data": {
      "image/svg+xml": [
       "<?xml version=\"1.0\" encoding=\"UTF-8\" standalone=\"no\"?><svg xmlns=\"http://www.w3.org/2000/svg\" xmlns:xlink=\"http://www.w3.org/1999/xlink\" contentScriptType=\"application/ecmascript\" contentStyleType=\"text/css\" height=\"246px\" preserveAspectRatio=\"none\" style=\"width:316px;height:246px;\" version=\"1.1\" viewBox=\"0 0 316 246\" width=\"316px\" zoomAndPan=\"magnify\"><defs><filter height=\"300%\" id=\"f1lezhj5u1us6\" width=\"300%\" x=\"-1\" y=\"-1\"><feGaussianBlur result=\"blurOut\" stdDeviation=\"2.0\"/><feColorMatrix in=\"blurOut\" result=\"blurOut2\" type=\"matrix\" values=\"0 0 0 0 0 0 0 0 0 0 0 0 0 0 0 0 0 0 .4 0\"/><feOffset dx=\"4.0\" dy=\"4.0\" in=\"blurOut2\" result=\"blurOut3\"/><feBlend in=\"SourceGraphic\" in2=\"blurOut3\" mode=\"normal\"/></filter></defs><g><!--MD5=[fbc87193dbaf4d95561dea2c320d4a47]\n",
       "cluster E1--><polygon fill=\"#FFFFFF\" filter=\"url(#f1lezhj5u1us6)\" points=\"16,6,163,6,170,28.2969,294,28.2969,294,234,16,234,16,6\" style=\"stroke: #000000; stroke-width: 1.5;\"/><line style=\"stroke: #000000; stroke-width: 1.5;\" x1=\"16\" x2=\"170\" y1=\"28.2969\" y2=\"28.2969\"/><text fill=\"#000000\" font-family=\"sans-serif\" font-size=\"14\" font-weight=\"bold\" lengthAdjust=\"spacingAndGlyphs\" textLength=\"141\" x=\"20\" y=\"20.9951\">PrivateImportTest</text><!--MD5=[e4f7fae6ed58524ba242bb0b0d3be6b7]\n",
       "cluster E2--><polygon fill=\"#FFFFFF\" filter=\"url(#f1lezhj5u1us6)\" points=\"198,119,224,119,231,141.2969,270,141.2969,270,210,198,210,198,119\" style=\"stroke: #000000; stroke-width: 1.5;\"/><line style=\"stroke: #000000; stroke-width: 1.5;\" x1=\"198\" x2=\"231\" y1=\"141.2969\" y2=\"141.2969\"/><text fill=\"#000000\" font-family=\"sans-serif\" font-size=\"14\" font-weight=\"bold\" lengthAdjust=\"spacingAndGlyphs\" textLength=\"20\" x=\"202\" y=\"133.9951\">P1</text><!--MD5=[14e3b0961a2654348d326746436168a1]\n",
       "cluster E6--><polygon fill=\"#FFFFFF\" filter=\"url(#f1lezhj5u1us6)\" points=\"102,119,128,119,135,141.2969,174,141.2969,174,210,102,210,102,119\" style=\"stroke: #000000; stroke-width: 1.5;\"/><line style=\"stroke: #000000; stroke-width: 1.5;\" x1=\"102\" x2=\"135\" y1=\"141.2969\" y2=\"141.2969\"/><text fill=\"#000000\" font-family=\"sans-serif\" font-size=\"14\" font-weight=\"bold\" lengthAdjust=\"spacingAndGlyphs\" textLength=\"20\" x=\"106\" y=\"133.9951\">P3</text><!--MD5=[270fce915f116d4de14055a7c1d9a0f3]\n",
       "class E5--><rect fill=\"#FEFECE\" filter=\"url(#f1lezhj5u1us6)\" height=\"45.9375\" id=\"E5\" rx=\"10\" ry=\"10\" style=\"stroke: #A80036; stroke-width: 1.5;\" width=\"68\" x=\"210\" y=\"44.5\"/><ellipse cx=\"225\" cy=\"63.4688\" fill=\"#32CD32\" rx=\"11\" ry=\"11\" style=\"stroke: #A80036; stroke-width: 1.0;\"/><path d=\"M224.7969,59.1406 L224.7969,62.7656 L225.7969,62.7656 Q227,62.7656 227.4844,62.3594 Q227.9688,61.9531 227.9688,60.9531 Q227.9688,59.9531 227.4844,59.5469 Q227,59.1406 225.7969,59.1406 L224.7969,59.1406 Z M222.3438,57.0781 L225.7031,57.0781 Q228.2656,57.0781 229.3906,58 Q230.5156,58.9063 230.5156,60.9531 Q230.5156,63 229.3906,63.9219 Q228.2656,64.8281 225.7031,64.8281 L224.7969,64.8281 L224.7969,69.4688 L222.3438,69.4688 L222.3438,57.0781 Z \"/><text fill=\"#000000\" font-family=\"sans-serif\" font-size=\"12\" font-style=\"italic\" lengthAdjust=\"spacingAndGlyphs\" textLength=\"40\" x=\"237\" y=\"60.6387\">«part»</text><text fill=\"#000000\" font-family=\"sans-serif\" font-size=\"12\" lengthAdjust=\"spacingAndGlyphs\" textLength=\"22\" x=\"246\" y=\"74.6074\">x: A</text><line style=\"stroke: #A80036; stroke-width: 1.5;\" x1=\"211\" x2=\"277\" y1=\"82.4375\" y2=\"82.4375\"/><!--MD5=[b9389687b975829384b498ac4b7476b2]\n",
       "class E8--><rect fill=\"#FEFECE\" filter=\"url(#f1lezhj5u1us6)\" height=\"45.9375\" id=\"E8\" rx=\"10\" ry=\"10\" style=\"stroke: #A80036; stroke-width: 1.5;\" width=\"68\" x=\"107\" y=\"44.5\"/><ellipse cx=\"122\" cy=\"63.4688\" fill=\"#32CD32\" rx=\"11\" ry=\"11\" style=\"stroke: #A80036; stroke-width: 1.0;\"/><path d=\"M121.7969,59.1406 L121.7969,62.7656 L122.7969,62.7656 Q124,62.7656 124.4844,62.3594 Q124.9688,61.9531 124.9688,60.9531 Q124.9688,59.9531 124.4844,59.5469 Q124,59.1406 122.7969,59.1406 L121.7969,59.1406 Z M119.3438,57.0781 L122.7031,57.0781 Q125.2656,57.0781 126.3906,58 Q127.5156,58.9063 127.5156,60.9531 Q127.5156,63 126.3906,63.9219 Q125.2656,64.8281 122.7031,64.8281 L121.7969,64.8281 L121.7969,69.4688 L119.3438,69.4688 L119.3438,57.0781 Z \"/><text fill=\"#000000\" font-family=\"sans-serif\" font-size=\"12\" font-style=\"italic\" lengthAdjust=\"spacingAndGlyphs\" textLength=\"40\" x=\"134\" y=\"60.6387\">«part»</text><text fill=\"#000000\" font-family=\"sans-serif\" font-size=\"12\" lengthAdjust=\"spacingAndGlyphs\" textLength=\"21\" x=\"143.5\" y=\"74.6074\">z: B</text><line style=\"stroke: #A80036; stroke-width: 1.5;\" x1=\"108\" x2=\"174\" y1=\"82.4375\" y2=\"82.4375\"/><!--MD5=[09b614a08d8cba4a07c9adeb5e0fee81]\n",
       "class E3--><rect fill=\"#FEFECE\" filter=\"url(#f1lezhj5u1us6)\" height=\"40\" id=\"E3\" style=\"stroke: #A80036; stroke-width: 1.5;\" width=\"40\" x=\"214\" y=\"154\"/><ellipse cx=\"229\" cy=\"170\" fill=\"#008000\" rx=\"11\" ry=\"11\" style=\"stroke: #A80036; stroke-width: 1.0;\"/><path d=\"M227.9063,170.375 L227.9063,174.0469 L229.5313,174.0469 Q230.7031,174.0469 231.1719,173.6563 Q231.6406,173.25 231.6406,172.25 Q231.6406,171.25 231.1406,170.8125 Q230.6563,170.375 229.5313,170.375 L227.9063,170.375 Z M227.9063,165.5469 L227.9063,168.4219 L229.5313,168.4219 Q230.4531,168.4219 230.8438,168.0938 Q231.25,167.75 231.25,167 Q231.25,166.2344 230.8438,165.8906 Q230.4375,165.5469 229.5313,165.5469 L227.9063,165.5469 Z M225.5313,163.5938 L229.5313,163.5938 Q231.5938,163.5938 232.6406,164.375 Q233.6875,165.1563 233.6875,166.7188 Q233.6875,167.9219 233.0625,168.5938 Q232.4531,169.2656 231.2656,169.375 Q232.6875,169.5156 233.4063,170.3281 Q234.125,171.1406 234.125,172.5938 Q234.125,174.3906 233.0469,175.2031 Q231.9688,176 229.5313,176 L225.5313,176 L225.5313,163.5938 Z \"/><text fill=\"#000000\" font-family=\"sans-serif\" font-size=\"12\" lengthAdjust=\"spacingAndGlyphs\" textLength=\"8\" x=\"243\" y=\"174.1543\">A</text><line style=\"stroke: #A80036; stroke-width: 1.5;\" x1=\"215\" x2=\"253\" y1=\"186\" y2=\"186\"/><polygon fill=\"#FFFFFF\" filter=\"url(#f1lezhj5u1us6)\" points=\"32,41,58,41,65,63.2969,72,63.2969,72,93.5938,32,93.5938,32,41\" style=\"stroke: #000000; stroke-width: 1.5;\"/><line style=\"stroke: #000000; stroke-width: 1.5;\" x1=\"32\" x2=\"65\" y1=\"63.2969\" y2=\"63.2969\"/><text fill=\"#000000\" font-family=\"sans-serif\" font-size=\"14\" font-weight=\"bold\" lengthAdjust=\"spacingAndGlyphs\" textLength=\"20\" x=\"36\" y=\"55.9951\">P2</text><!--MD5=[2156ba9850f5573cc1fc38a6a4b2f02b]\n",
       "class E7--><rect fill=\"#FEFECE\" filter=\"url(#f1lezhj5u1us6)\" height=\"40\" id=\"E7\" style=\"stroke: #A80036; stroke-width: 1.5;\" width=\"40\" x=\"118\" y=\"154\"/><ellipse cx=\"133\" cy=\"170\" fill=\"#008000\" rx=\"11\" ry=\"11\" style=\"stroke: #A80036; stroke-width: 1.0;\"/><path d=\"M131.9063,170.375 L131.9063,174.0469 L133.5313,174.0469 Q134.7031,174.0469 135.1719,173.6563 Q135.6406,173.25 135.6406,172.25 Q135.6406,171.25 135.1406,170.8125 Q134.6563,170.375 133.5313,170.375 L131.9063,170.375 Z M131.9063,165.5469 L131.9063,168.4219 L133.5313,168.4219 Q134.4531,168.4219 134.8438,168.0938 Q135.25,167.75 135.25,167 Q135.25,166.2344 134.8438,165.8906 Q134.4375,165.5469 133.5313,165.5469 L131.9063,165.5469 Z M129.5313,163.5938 L133.5313,163.5938 Q135.5938,163.5938 136.6406,164.375 Q137.6875,165.1563 137.6875,166.7188 Q137.6875,167.9219 137.0625,168.5938 Q136.4531,169.2656 135.2656,169.375 Q136.6875,169.5156 137.4063,170.3281 Q138.125,171.1406 138.125,172.5938 Q138.125,174.3906 137.0469,175.2031 Q135.9688,176 133.5313,176 L129.5313,176 L129.5313,163.5938 Z \"/><text fill=\"#000000\" font-family=\"sans-serif\" font-size=\"12\" lengthAdjust=\"spacingAndGlyphs\" textLength=\"8\" x=\"147\" y=\"174.1543\">B</text><line style=\"stroke: #A80036; stroke-width: 1.5;\" x1=\"119\" x2=\"157\" y1=\"186\" y2=\"186\"/><!--MD5=[e9be52314489bd878ff4c7144b63c9e1]\n",
       "link E5 to E3--><path d=\"M241.88,90.66 C240.68,103.15 239.16,119.11 237.77,133.65 \" fill=\"none\" id=\"E5-&gt;E3\" style=\"stroke: #A80036; stroke-width: 1.0;\"/><polygon fill=\"#FFFFFF\" points=\"235.85,153.68,230.7015,134.097,244.6371,135.4376,235.85,153.68\" style=\"stroke: #A80036; stroke-width: 1.0;\"/><ellipse cx=\"233.2381\" cy=\"128.6147\" fill=\"#A80036\" rx=\"2\" ry=\"2\" style=\"stroke: #A80036; stroke-width: 1.0;\"/><ellipse cx=\"243.1921\" cy=\"129.5723\" fill=\"#A80036\" rx=\"2\" ry=\"2\" style=\"stroke: #A80036; stroke-width: 1.0;\"/><!--MD5=[bfa3c8b0d15052fdf50ae9310b491027]\n",
       "link E8 to E7--><path d=\"M140.36,90.66 C140.01,103.15 139.55,119.11 139.13,133.65 \" fill=\"none\" id=\"E8-&gt;E7\" style=\"stroke: #A80036; stroke-width: 1.0;\"/><polygon fill=\"#FFFFFF\" points=\"138.55,153.68,132.0955,134.4878,146.0898,134.8877,138.55,153.68\" style=\"stroke: #A80036; stroke-width: 1.0;\"/><ellipse cx=\"134.2575\" cy=\"128.8473\" fill=\"#A80036\" rx=\"2\" ry=\"2\" style=\"stroke: #A80036; stroke-width: 1.0;\"/><ellipse cx=\"144.2534\" cy=\"129.1329\" fill=\"#A80036\" rx=\"2\" ry=\"2\" style=\"stroke: #A80036; stroke-width: 1.0;\"/><!--MD5=[952d4bb431c2bd45dda342f12a4aa932]\n",
       "@startuml\r\n",
       " \r\n",
       "package \"PrivateImportTest\" as E1   {\r\n",
       "package \"P1\" as E2   {\r\n",
       "comp def \"A\" as E3  << (B,green) >> {\r\n",
       "}\r\n",
       "}\r\n",
       "package \"P2\" as E4   {\r\n",
       "}\r\n",
       "comp usage \"x: A\" as E5  << (P,limegreen) part>> {\r\n",
       "}\r\n",
       "package \"P3\" as E6   {\r\n",
       "comp def \"B\" as E7  << (B,green) >> {\r\n",
       "}\r\n",
       "E5 - -:|> E3\r\n",
       "}\r\n",
       "comp usage \"z: B\" as E8  << (P,limegreen) part>> {\r\n",
       "}\r\n",
       "E8 - -:|> E7\r\n",
       "}\r\n",
       "@enduml\r\n",
       "\n",
       "PlantUML version 1.2020.13(Sat Jun 13 12:26:38 UTC 2020)\n",
       "(EPL source distribution)\n",
       "Java Runtime: OpenJDK Runtime Environment\n",
       "JVM: OpenJDK 64-Bit Server VM\n",
       "Default Encoding: UTF-8\n",
       "Language: en\n",
       "Country: null\n",
       "--></g></svg>"
      ]
     },
     "execution_count": 30,
     "metadata": {},
     "output_type": "execute_result"
    }
   ],
   "source": [
    "%viz --style=\"PLANTUML\" --view=\"Default\" \"PrivateImportTest\""
   ]
  },
  {
   "cell_type": "code",
   "execution_count": 31,
   "id": "backed-kidney",
   "metadata": {
    "execution": {
     "iopub.execute_input": "2021-03-25T15:59:51.984998Z",
     "iopub.status.busy": "2021-03-25T15:59:51.984297Z",
     "iopub.status.idle": "2021-03-25T15:59:52.041429Z",
     "shell.execute_reply": "2021-03-25T15:59:52.041978Z"
    }
   },
   "outputs": [
    {
     "data": {
      "image/svg+xml": [
       "<?xml version=\"1.0\" encoding=\"UTF-8\" standalone=\"no\"?><svg xmlns=\"http://www.w3.org/2000/svg\" xmlns:xlink=\"http://www.w3.org/1999/xlink\" contentScriptType=\"application/ecmascript\" contentStyleType=\"text/css\" height=\"246px\" preserveAspectRatio=\"none\" style=\"width:316px;height:246px;\" version=\"1.1\" viewBox=\"0 0 316 246\" width=\"316px\" zoomAndPan=\"magnify\"><defs><filter height=\"300%\" id=\"f1lezhj5u1us6\" width=\"300%\" x=\"-1\" y=\"-1\"><feGaussianBlur result=\"blurOut\" stdDeviation=\"2.0\"/><feColorMatrix in=\"blurOut\" result=\"blurOut2\" type=\"matrix\" values=\"0 0 0 0 0 0 0 0 0 0 0 0 0 0 0 0 0 0 .4 0\"/><feOffset dx=\"4.0\" dy=\"4.0\" in=\"blurOut2\" result=\"blurOut3\"/><feBlend in=\"SourceGraphic\" in2=\"blurOut3\" mode=\"normal\"/></filter></defs><g><!--MD5=[fbc87193dbaf4d95561dea2c320d4a47]\n",
       "cluster E1--><polygon fill=\"#FFFFFF\" filter=\"url(#f1lezhj5u1us6)\" points=\"16,6,163,6,170,28.2969,294,28.2969,294,234,16,234,16,6\" style=\"stroke: #000000; stroke-width: 1.5;\"/><line style=\"stroke: #000000; stroke-width: 1.5;\" x1=\"16\" x2=\"170\" y1=\"28.2969\" y2=\"28.2969\"/><text fill=\"#000000\" font-family=\"sans-serif\" font-size=\"14\" font-weight=\"bold\" lengthAdjust=\"spacingAndGlyphs\" textLength=\"141\" x=\"20\" y=\"20.9951\">PrivateImportTest</text><!--MD5=[e4f7fae6ed58524ba242bb0b0d3be6b7]\n",
       "cluster E2--><polygon fill=\"#FFFFFF\" filter=\"url(#f1lezhj5u1us6)\" points=\"198,119,224,119,231,141.2969,270,141.2969,270,210,198,210,198,119\" style=\"stroke: #000000; stroke-width: 1.5;\"/><line style=\"stroke: #000000; stroke-width: 1.5;\" x1=\"198\" x2=\"231\" y1=\"141.2969\" y2=\"141.2969\"/><text fill=\"#000000\" font-family=\"sans-serif\" font-size=\"14\" font-weight=\"bold\" lengthAdjust=\"spacingAndGlyphs\" textLength=\"20\" x=\"202\" y=\"133.9951\">P1</text><!--MD5=[14e3b0961a2654348d326746436168a1]\n",
       "cluster E6--><polygon fill=\"#FFFFFF\" filter=\"url(#f1lezhj5u1us6)\" points=\"102,119,128,119,135,141.2969,174,141.2969,174,210,102,210,102,119\" style=\"stroke: #000000; stroke-width: 1.5;\"/><line style=\"stroke: #000000; stroke-width: 1.5;\" x1=\"102\" x2=\"135\" y1=\"141.2969\" y2=\"141.2969\"/><text fill=\"#000000\" font-family=\"sans-serif\" font-size=\"14\" font-weight=\"bold\" lengthAdjust=\"spacingAndGlyphs\" textLength=\"20\" x=\"106\" y=\"133.9951\">P3</text><!--MD5=[270fce915f116d4de14055a7c1d9a0f3]\n",
       "class E5--><rect fill=\"#FEFECE\" filter=\"url(#f1lezhj5u1us6)\" height=\"45.9375\" id=\"E5\" rx=\"10\" ry=\"10\" style=\"stroke: #A80036; stroke-width: 1.5;\" width=\"68\" x=\"210\" y=\"44.5\"/><ellipse cx=\"225\" cy=\"63.4688\" fill=\"#32CD32\" rx=\"11\" ry=\"11\" style=\"stroke: #A80036; stroke-width: 1.0;\"/><path d=\"M224.7969,59.1406 L224.7969,62.7656 L225.7969,62.7656 Q227,62.7656 227.4844,62.3594 Q227.9688,61.9531 227.9688,60.9531 Q227.9688,59.9531 227.4844,59.5469 Q227,59.1406 225.7969,59.1406 L224.7969,59.1406 Z M222.3438,57.0781 L225.7031,57.0781 Q228.2656,57.0781 229.3906,58 Q230.5156,58.9063 230.5156,60.9531 Q230.5156,63 229.3906,63.9219 Q228.2656,64.8281 225.7031,64.8281 L224.7969,64.8281 L224.7969,69.4688 L222.3438,69.4688 L222.3438,57.0781 Z \"/><text fill=\"#000000\" font-family=\"sans-serif\" font-size=\"12\" font-style=\"italic\" lengthAdjust=\"spacingAndGlyphs\" textLength=\"40\" x=\"237\" y=\"60.6387\">«part»</text><text fill=\"#000000\" font-family=\"sans-serif\" font-size=\"12\" lengthAdjust=\"spacingAndGlyphs\" textLength=\"22\" x=\"246\" y=\"74.6074\">x: A</text><line style=\"stroke: #A80036; stroke-width: 1.5;\" x1=\"211\" x2=\"277\" y1=\"82.4375\" y2=\"82.4375\"/><!--MD5=[b9389687b975829384b498ac4b7476b2]\n",
       "class E8--><rect fill=\"#FEFECE\" filter=\"url(#f1lezhj5u1us6)\" height=\"45.9375\" id=\"E8\" rx=\"10\" ry=\"10\" style=\"stroke: #A80036; stroke-width: 1.5;\" width=\"68\" x=\"107\" y=\"44.5\"/><ellipse cx=\"122\" cy=\"63.4688\" fill=\"#32CD32\" rx=\"11\" ry=\"11\" style=\"stroke: #A80036; stroke-width: 1.0;\"/><path d=\"M121.7969,59.1406 L121.7969,62.7656 L122.7969,62.7656 Q124,62.7656 124.4844,62.3594 Q124.9688,61.9531 124.9688,60.9531 Q124.9688,59.9531 124.4844,59.5469 Q124,59.1406 122.7969,59.1406 L121.7969,59.1406 Z M119.3438,57.0781 L122.7031,57.0781 Q125.2656,57.0781 126.3906,58 Q127.5156,58.9063 127.5156,60.9531 Q127.5156,63 126.3906,63.9219 Q125.2656,64.8281 122.7031,64.8281 L121.7969,64.8281 L121.7969,69.4688 L119.3438,69.4688 L119.3438,57.0781 Z \"/><text fill=\"#000000\" font-family=\"sans-serif\" font-size=\"12\" font-style=\"italic\" lengthAdjust=\"spacingAndGlyphs\" textLength=\"40\" x=\"134\" y=\"60.6387\">«part»</text><text fill=\"#000000\" font-family=\"sans-serif\" font-size=\"12\" lengthAdjust=\"spacingAndGlyphs\" textLength=\"21\" x=\"143.5\" y=\"74.6074\">z: B</text><line style=\"stroke: #A80036; stroke-width: 1.5;\" x1=\"108\" x2=\"174\" y1=\"82.4375\" y2=\"82.4375\"/><!--MD5=[09b614a08d8cba4a07c9adeb5e0fee81]\n",
       "class E3--><rect fill=\"#FEFECE\" filter=\"url(#f1lezhj5u1us6)\" height=\"40\" id=\"E3\" style=\"stroke: #A80036; stroke-width: 1.5;\" width=\"40\" x=\"214\" y=\"154\"/><ellipse cx=\"229\" cy=\"170\" fill=\"#008000\" rx=\"11\" ry=\"11\" style=\"stroke: #A80036; stroke-width: 1.0;\"/><path d=\"M227.9063,170.375 L227.9063,174.0469 L229.5313,174.0469 Q230.7031,174.0469 231.1719,173.6563 Q231.6406,173.25 231.6406,172.25 Q231.6406,171.25 231.1406,170.8125 Q230.6563,170.375 229.5313,170.375 L227.9063,170.375 Z M227.9063,165.5469 L227.9063,168.4219 L229.5313,168.4219 Q230.4531,168.4219 230.8438,168.0938 Q231.25,167.75 231.25,167 Q231.25,166.2344 230.8438,165.8906 Q230.4375,165.5469 229.5313,165.5469 L227.9063,165.5469 Z M225.5313,163.5938 L229.5313,163.5938 Q231.5938,163.5938 232.6406,164.375 Q233.6875,165.1563 233.6875,166.7188 Q233.6875,167.9219 233.0625,168.5938 Q232.4531,169.2656 231.2656,169.375 Q232.6875,169.5156 233.4063,170.3281 Q234.125,171.1406 234.125,172.5938 Q234.125,174.3906 233.0469,175.2031 Q231.9688,176 229.5313,176 L225.5313,176 L225.5313,163.5938 Z \"/><text fill=\"#000000\" font-family=\"sans-serif\" font-size=\"12\" lengthAdjust=\"spacingAndGlyphs\" textLength=\"8\" x=\"243\" y=\"174.1543\">A</text><line style=\"stroke: #A80036; stroke-width: 1.5;\" x1=\"215\" x2=\"253\" y1=\"186\" y2=\"186\"/><polygon fill=\"#FFFFFF\" filter=\"url(#f1lezhj5u1us6)\" points=\"32,41,58,41,65,63.2969,72,63.2969,72,93.5938,32,93.5938,32,41\" style=\"stroke: #000000; stroke-width: 1.5;\"/><line style=\"stroke: #000000; stroke-width: 1.5;\" x1=\"32\" x2=\"65\" y1=\"63.2969\" y2=\"63.2969\"/><text fill=\"#000000\" font-family=\"sans-serif\" font-size=\"14\" font-weight=\"bold\" lengthAdjust=\"spacingAndGlyphs\" textLength=\"20\" x=\"36\" y=\"55.9951\">P2</text><!--MD5=[2156ba9850f5573cc1fc38a6a4b2f02b]\n",
       "class E7--><rect fill=\"#FEFECE\" filter=\"url(#f1lezhj5u1us6)\" height=\"40\" id=\"E7\" style=\"stroke: #A80036; stroke-width: 1.5;\" width=\"40\" x=\"118\" y=\"154\"/><ellipse cx=\"133\" cy=\"170\" fill=\"#008000\" rx=\"11\" ry=\"11\" style=\"stroke: #A80036; stroke-width: 1.0;\"/><path d=\"M131.9063,170.375 L131.9063,174.0469 L133.5313,174.0469 Q134.7031,174.0469 135.1719,173.6563 Q135.6406,173.25 135.6406,172.25 Q135.6406,171.25 135.1406,170.8125 Q134.6563,170.375 133.5313,170.375 L131.9063,170.375 Z M131.9063,165.5469 L131.9063,168.4219 L133.5313,168.4219 Q134.4531,168.4219 134.8438,168.0938 Q135.25,167.75 135.25,167 Q135.25,166.2344 134.8438,165.8906 Q134.4375,165.5469 133.5313,165.5469 L131.9063,165.5469 Z M129.5313,163.5938 L133.5313,163.5938 Q135.5938,163.5938 136.6406,164.375 Q137.6875,165.1563 137.6875,166.7188 Q137.6875,167.9219 137.0625,168.5938 Q136.4531,169.2656 135.2656,169.375 Q136.6875,169.5156 137.4063,170.3281 Q138.125,171.1406 138.125,172.5938 Q138.125,174.3906 137.0469,175.2031 Q135.9688,176 133.5313,176 L129.5313,176 L129.5313,163.5938 Z \"/><text fill=\"#000000\" font-family=\"sans-serif\" font-size=\"12\" lengthAdjust=\"spacingAndGlyphs\" textLength=\"8\" x=\"147\" y=\"174.1543\">B</text><line style=\"stroke: #A80036; stroke-width: 1.5;\" x1=\"119\" x2=\"157\" y1=\"186\" y2=\"186\"/><!--MD5=[e9be52314489bd878ff4c7144b63c9e1]\n",
       "link E5 to E3--><path d=\"M241.88,90.66 C240.68,103.15 239.16,119.11 237.77,133.65 \" fill=\"none\" id=\"E5-&gt;E3\" style=\"stroke: #A80036; stroke-width: 1.0;\"/><polygon fill=\"#FFFFFF\" points=\"235.85,153.68,230.7015,134.097,244.6371,135.4376,235.85,153.68\" style=\"stroke: #A80036; stroke-width: 1.0;\"/><ellipse cx=\"233.2381\" cy=\"128.6147\" fill=\"#A80036\" rx=\"2\" ry=\"2\" style=\"stroke: #A80036; stroke-width: 1.0;\"/><ellipse cx=\"243.1921\" cy=\"129.5723\" fill=\"#A80036\" rx=\"2\" ry=\"2\" style=\"stroke: #A80036; stroke-width: 1.0;\"/><!--MD5=[bfa3c8b0d15052fdf50ae9310b491027]\n",
       "link E8 to E7--><path d=\"M140.36,90.66 C140.01,103.15 139.55,119.11 139.13,133.65 \" fill=\"none\" id=\"E8-&gt;E7\" style=\"stroke: #A80036; stroke-width: 1.0;\"/><polygon fill=\"#FFFFFF\" points=\"138.55,153.68,132.0955,134.4878,146.0898,134.8877,138.55,153.68\" style=\"stroke: #A80036; stroke-width: 1.0;\"/><ellipse cx=\"134.2575\" cy=\"128.8473\" fill=\"#A80036\" rx=\"2\" ry=\"2\" style=\"stroke: #A80036; stroke-width: 1.0;\"/><ellipse cx=\"144.2534\" cy=\"129.1329\" fill=\"#A80036\" rx=\"2\" ry=\"2\" style=\"stroke: #A80036; stroke-width: 1.0;\"/><!--MD5=[952d4bb431c2bd45dda342f12a4aa932]\n",
       "@startuml\r\n",
       " \r\n",
       "package \"PrivateImportTest\" as E1   {\r\n",
       "package \"P1\" as E2   {\r\n",
       "comp def \"A\" as E3  << (B,green) >> {\r\n",
       "}\r\n",
       "}\r\n",
       "package \"P2\" as E4   {\r\n",
       "}\r\n",
       "comp usage \"x: A\" as E5  << (P,limegreen) part>> {\r\n",
       "}\r\n",
       "package \"P3\" as E6   {\r\n",
       "comp def \"B\" as E7  << (B,green) >> {\r\n",
       "}\r\n",
       "E5 - -:|> E3\r\n",
       "}\r\n",
       "comp usage \"z: B\" as E8  << (P,limegreen) part>> {\r\n",
       "}\r\n",
       "E8 - -:|> E7\r\n",
       "}\r\n",
       "@enduml\r\n",
       "\n",
       "PlantUML version 1.2020.13(Sat Jun 13 12:26:38 UTC 2020)\n",
       "(EPL source distribution)\n",
       "Java Runtime: OpenJDK Runtime Environment\n",
       "JVM: OpenJDK 64-Bit Server VM\n",
       "Default Encoding: UTF-8\n",
       "Language: en\n",
       "Country: null\n",
       "--></g></svg>"
      ]
     },
     "execution_count": 31,
     "metadata": {},
     "output_type": "execute_result"
    }
   ],
   "source": [
    "%viz --style=\"PLANTUML\" --view=\"Tree\" \"PrivateImportTest\""
   ]
  },
  {
   "cell_type": "code",
   "execution_count": 32,
   "id": "banned-franchise",
   "metadata": {
    "execution": {
     "iopub.execute_input": "2021-03-25T15:59:52.092970Z",
     "iopub.status.busy": "2021-03-25T15:59:52.092135Z",
     "iopub.status.idle": "2021-03-25T15:59:52.094448Z",
     "shell.execute_reply": "2021-03-25T15:59:52.094928Z"
    }
   },
   "outputs": [
    {
     "data": {
      "text/plain": [
       "java.lang.IllegalArgumentException: Invalid View: State View candidates are: Default Tree StateMachine Interconnection Activity Sequence MIXED \n",
       "\tat org.omg.sysml.plantuml.SysML2PlantUMLSvc.setView(SysML2PlantUMLSvc.java:63)\n",
       "\tat org.omg.sysml.interactive.SysMLInteractive.viz(SysMLInteractive.java:286)\n",
       "\tat org.omg.sysml.jupyter.kernel.magic.Viz.viz(Viz.java:47)\n",
       "\tat jdk.internal.reflect.GeneratedMethodAccessor8.invoke(Unknown Source)\n",
       "\tat java.base/jdk.internal.reflect.DelegatingMethodAccessorImpl.invoke(DelegatingMethodAccessorImpl.java:43)\n",
       "\tat java.base/java.lang.reflect.Method.invoke(Method.java:568)\n",
       "\tat io.github.spencerpark.jupyter.kernel.magic.registry.Magics.invoke(Magics.java:89)\n",
       "\tat io.github.spencerpark.jupyter.kernel.magic.registry.Magics.access$000(Magics.java:8)\n",
       "\tat io.github.spencerpark.jupyter.kernel.magic.registry.Magics$LineReflectionMagicFunction.execute(Magics.java:149)\n",
       "\tat io.github.spencerpark.jupyter.kernel.magic.registry.Magics.applyLineMagic(Magics.java:26)\n",
       "\tat org.omg.sysml.jupyter.kernel.SysMLKernel.eval(SysMLKernel.java:76)\n",
       "\tat io.github.spencerpark.jupyter.kernel.BaseKernel.handleExecuteRequest(BaseKernel.java:334)\n",
       "\tat io.github.spencerpark.jupyter.channels.ShellChannel.lambda$bind$0(ShellChannel.java:64)\n",
       "\tat io.github.spencerpark.jupyter.channels.Loop.lambda$new$0(Loop.java:21)\n",
       "\tat io.github.spencerpark.jupyter.channels.Loop.run(Loop.java:78)\n"
      ]
     },
     "execution_count": 32,
     "metadata": {},
     "output_type": "execute_result"
    }
   ],
   "source": [
    "%viz --style=\"PLANTUML\" --view=\"State\" \"PrivateImportTest\""
   ]
  },
  {
   "cell_type": "code",
   "execution_count": 33,
   "id": "proved-difficulty",
   "metadata": {
    "execution": {
     "iopub.execute_input": "2021-03-25T15:59:52.146113Z",
     "iopub.status.busy": "2021-03-25T15:59:52.145600Z",
     "iopub.status.idle": "2021-03-25T15:59:52.237973Z",
     "shell.execute_reply": "2021-03-25T15:59:52.238341Z"
    }
   },
   "outputs": [
    {
     "data": {
      "image/svg+xml": [
       "<?xml version=\"1.0\" encoding=\"UTF-8\" standalone=\"no\"?><svg xmlns=\"http://www.w3.org/2000/svg\" xmlns:xlink=\"http://www.w3.org/1999/xlink\" contentScriptType=\"application/ecmascript\" contentStyleType=\"text/css\" height=\"189px\" preserveAspectRatio=\"none\" style=\"width:579px;height:189px;\" version=\"1.1\" viewBox=\"0 0 579 189\" width=\"579px\" zoomAndPan=\"magnify\"><defs><filter height=\"300%\" id=\"f14pr4nzj35h27\" width=\"300%\" x=\"-1\" y=\"-1\"><feGaussianBlur result=\"blurOut\" stdDeviation=\"2.0\"/><feColorMatrix in=\"blurOut\" result=\"blurOut2\" type=\"matrix\" values=\"0 0 0 0 0 0 0 0 0 0 0 0 0 0 0 0 0 0 .4 0\"/><feOffset dx=\"4.0\" dy=\"4.0\" in=\"blurOut2\" result=\"blurOut3\"/><feBlend in=\"SourceGraphic\" in2=\"blurOut3\" mode=\"normal\"/></filter></defs><g><!--MD5=[fbc87193dbaf4d95561dea2c320d4a47]\n",
       "cluster E1--><polygon fill=\"#FFFFFF\" filter=\"url(#f14pr4nzj35h27)\" points=\"16,6,163,6,170,28.2969,557,28.2969,557,177,16,177,16,6\" style=\"stroke: #000000; stroke-width: 1.5;\"/><line style=\"stroke: #000000; stroke-width: 1.5;\" x1=\"16\" x2=\"170\" y1=\"28.2969\" y2=\"28.2969\"/><text fill=\"#000000\" font-family=\"sans-serif\" font-size=\"14\" font-weight=\"bold\" lengthAdjust=\"spacingAndGlyphs\" textLength=\"141\" x=\"20\" y=\"20.9951\">PrivateImportTest</text><!--MD5=[e4f7fae6ed58524ba242bb0b0d3be6b7]\n",
       "cluster E2--><polygon fill=\"#FFFFFF\" filter=\"url(#f14pr4nzj35h27)\" points=\"409,49,435,49,442,71.2969,533,71.2969,533,153,409,153,409,49\" style=\"stroke: #000000; stroke-width: 1.5;\"/><line style=\"stroke: #000000; stroke-width: 1.5;\" x1=\"409\" x2=\"442\" y1=\"71.2969\" y2=\"71.2969\"/><text fill=\"#000000\" font-family=\"sans-serif\" font-size=\"14\" font-weight=\"bold\" lengthAdjust=\"spacingAndGlyphs\" textLength=\"20\" x=\"413\" y=\"63.9951\">P1</text><!--MD5=[14e3b0961a2654348d326746436168a1]\n",
       "cluster E6--><polygon fill=\"#FFFFFF\" filter=\"url(#f14pr4nzj35h27)\" points=\"261,49,287,49,294,71.2969,385,71.2969,385,153,261,153,261,49\" style=\"stroke: #000000; stroke-width: 1.5;\"/><line style=\"stroke: #000000; stroke-width: 1.5;\" x1=\"261\" x2=\"294\" y1=\"71.2969\" y2=\"71.2969\"/><text fill=\"#000000\" font-family=\"sans-serif\" font-size=\"14\" font-weight=\"bold\" lengthAdjust=\"spacingAndGlyphs\" textLength=\"20\" x=\"265\" y=\"63.9951\">P3</text><!--MD5=[a60fb756f580feb9fd8e2cf1329b5c91]\n",
       "entity E3--><rect fill=\"#FFFFFF\" filter=\"url(#f14pr4nzj35h27)\" height=\"52.5938\" style=\"stroke: #000000; stroke-width: 1.5;\" width=\"91\" x=\"425.5\" y=\"84\"/><text fill=\"#000000\" font-family=\"sans-serif\" font-size=\"14\" font-style=\"italic\" lengthAdjust=\"spacingAndGlyphs\" textLength=\"71\" x=\"435.5\" y=\"106.9951\">«part def»</text><text fill=\"#000000\" font-family=\"sans-serif\" font-size=\"14\" lengthAdjust=\"spacingAndGlyphs\" textLength=\"9\" x=\"466.5\" y=\"123.292\">A</text><polygon fill=\"#FFFFFF\" filter=\"url(#f14pr4nzj35h27)\" points=\"202,84,228,84,235,106.2969,242,106.2969,242,136.5938,202,136.5938,202,84\" style=\"stroke: #000000; stroke-width: 1.5;\"/><line style=\"stroke: #000000; stroke-width: 1.5;\" x1=\"202\" x2=\"235\" y1=\"106.2969\" y2=\"106.2969\"/><text fill=\"#000000\" font-family=\"sans-serif\" font-size=\"14\" font-weight=\"bold\" lengthAdjust=\"spacingAndGlyphs\" textLength=\"20\" x=\"206\" y=\"98.9951\">P2</text><g id=\"E1.E5\"><rect fill=\"#FFFFFF\" filter=\"url(#f14pr4nzj35h27)\" height=\"50\" rx=\"12.5\" ry=\"12.5\" style=\"stroke: #A80036; stroke-width: 1.5;\" width=\"50\" x=\"117\" y=\"85.5\"/><line style=\"stroke: #A80036; stroke-width: 1.5;\" x1=\"117\" x2=\"167\" y1=\"111.7969\" y2=\"111.7969\"/><text fill=\"#000000\" font-family=\"sans-serif\" font-size=\"14\" lengthAdjust=\"spacingAndGlyphs\" textLength=\"25\" x=\"129.5\" y=\"103.4951\">x: A</text></g><!--MD5=[9c5f31f192441de4a59826ec090dc00a]\n",
       "entity E7--><rect fill=\"#FFFFFF\" filter=\"url(#f14pr4nzj35h27)\" height=\"52.5938\" style=\"stroke: #000000; stroke-width: 1.5;\" width=\"91\" x=\"277.5\" y=\"84\"/><text fill=\"#000000\" font-family=\"sans-serif\" font-size=\"14\" font-style=\"italic\" lengthAdjust=\"spacingAndGlyphs\" textLength=\"71\" x=\"287.5\" y=\"106.9951\">«part def»</text><text fill=\"#000000\" font-family=\"sans-serif\" font-size=\"14\" lengthAdjust=\"spacingAndGlyphs\" textLength=\"10\" x=\"318\" y=\"123.292\">B</text><g id=\"E1.E8\"><rect fill=\"#FFFFFF\" filter=\"url(#f14pr4nzj35h27)\" height=\"50\" rx=\"12.5\" ry=\"12.5\" style=\"stroke: #A80036; stroke-width: 1.5;\" width=\"50\" x=\"32\" y=\"85.5\"/><line style=\"stroke: #A80036; stroke-width: 1.5;\" x1=\"32\" x2=\"82\" y1=\"111.7969\" y2=\"111.7969\"/><text fill=\"#000000\" font-family=\"sans-serif\" font-size=\"14\" lengthAdjust=\"spacingAndGlyphs\" textLength=\"27\" x=\"43.5\" y=\"103.4951\">z: B</text></g><!--MD5=[283fb1e4c348734253c011115c01b19a]\n",
       "@startuml\r\n",
       "skinparam ranksep 8\r\n",
       "skinparam rectangle {\r\n",
       " backgroundColor<<block>> LightGreen\r\n",
       "}\r\n",
       " \r\n",
       "package \"PrivateImportTest\" as E1   {\r\n",
       "package \"P1\" as E2   {\r\n",
       "rec def \"A\" as E3  <<part def>> {\r\n",
       "}\r\n",
       "}\r\n",
       "package \"P2\" as E4   {\r\n",
       "}\r\n",
       "rec usage \"x: A\" as E5  {\r\n",
       "}\r\n",
       "package \"P3\" as E6   {\r\n",
       "rec def \"B\" as E7  <<part def>> {\r\n",
       "}\r\n",
       "}\r\n",
       "rec usage \"z: B\" as E8  {\r\n",
       "}\r\n",
       "}\r\n",
       "@enduml\r\n",
       "\n",
       "PlantUML version 1.2020.13(Sat Jun 13 12:26:38 UTC 2020)\n",
       "(EPL source distribution)\n",
       "Java Runtime: OpenJDK Runtime Environment\n",
       "JVM: OpenJDK 64-Bit Server VM\n",
       "Default Encoding: UTF-8\n",
       "Language: en\n",
       "Country: null\n",
       "--></g></svg>"
      ]
     },
     "execution_count": 33,
     "metadata": {},
     "output_type": "execute_result"
    }
   ],
   "source": [
    "%viz --style=\"PLANTUML\" --view=\"Interconnection\" \"PrivateImportTest\""
   ]
  },
  {
   "cell_type": "code",
   "execution_count": 34,
   "id": "fresh-garbage",
   "metadata": {
    "execution": {
     "iopub.execute_input": "2021-03-25T15:59:52.289282Z",
     "iopub.status.busy": "2021-03-25T15:59:52.288779Z",
     "iopub.status.idle": "2021-03-25T15:59:52.290333Z",
     "shell.execute_reply": "2021-03-25T15:59:52.290746Z"
    }
   },
   "outputs": [
    {
     "data": {
      "text/plain": [
       "java.lang.IllegalArgumentException: Invalid View: Action View candidates are: Default Tree StateMachine Interconnection Activity Sequence MIXED \n",
       "\tat org.omg.sysml.plantuml.SysML2PlantUMLSvc.setView(SysML2PlantUMLSvc.java:63)\n",
       "\tat org.omg.sysml.interactive.SysMLInteractive.viz(SysMLInteractive.java:286)\n",
       "\tat org.omg.sysml.jupyter.kernel.magic.Viz.viz(Viz.java:47)\n",
       "\tat jdk.internal.reflect.GeneratedMethodAccessor8.invoke(Unknown Source)\n",
       "\tat java.base/jdk.internal.reflect.DelegatingMethodAccessorImpl.invoke(DelegatingMethodAccessorImpl.java:43)\n",
       "\tat java.base/java.lang.reflect.Method.invoke(Method.java:568)\n",
       "\tat io.github.spencerpark.jupyter.kernel.magic.registry.Magics.invoke(Magics.java:89)\n",
       "\tat io.github.spencerpark.jupyter.kernel.magic.registry.Magics.access$000(Magics.java:8)\n",
       "\tat io.github.spencerpark.jupyter.kernel.magic.registry.Magics$LineReflectionMagicFunction.execute(Magics.java:149)\n",
       "\tat io.github.spencerpark.jupyter.kernel.magic.registry.Magics.applyLineMagic(Magics.java:26)\n",
       "\tat org.omg.sysml.jupyter.kernel.SysMLKernel.eval(SysMLKernel.java:76)\n",
       "\tat io.github.spencerpark.jupyter.kernel.BaseKernel.handleExecuteRequest(BaseKernel.java:334)\n",
       "\tat io.github.spencerpark.jupyter.channels.ShellChannel.lambda$bind$0(ShellChannel.java:64)\n",
       "\tat io.github.spencerpark.jupyter.channels.Loop.lambda$new$0(Loop.java:21)\n",
       "\tat io.github.spencerpark.jupyter.channels.Loop.run(Loop.java:78)\n"
      ]
     },
     "execution_count": 34,
     "metadata": {},
     "output_type": "execute_result"
    }
   ],
   "source": [
    "%viz --style=\"PLANTUML\" --view=\"Action\" \"PrivateImportTest\""
   ]
  },
  {
   "cell_type": "code",
   "execution_count": 35,
   "id": "hearing-intent",
   "metadata": {
    "execution": {
     "iopub.execute_input": "2021-03-25T15:59:52.343324Z",
     "iopub.status.busy": "2021-03-25T15:59:52.342776Z",
     "iopub.status.idle": "2021-03-25T15:59:52.399818Z",
     "shell.execute_reply": "2021-03-25T15:59:52.400363Z"
    }
   },
   "outputs": [
    {
     "data": {
      "image/svg+xml": [
       "<?xml version=\"1.0\" encoding=\"UTF-8\" standalone=\"no\"?><svg xmlns=\"http://www.w3.org/2000/svg\" xmlns:xlink=\"http://www.w3.org/1999/xlink\" contentScriptType=\"application/ecmascript\" contentStyleType=\"text/css\" height=\"246px\" preserveAspectRatio=\"none\" style=\"width:316px;height:246px;\" version=\"1.1\" viewBox=\"0 0 316 246\" width=\"316px\" zoomAndPan=\"magnify\"><defs><filter height=\"300%\" id=\"f1lezhj5u1us6\" width=\"300%\" x=\"-1\" y=\"-1\"><feGaussianBlur result=\"blurOut\" stdDeviation=\"2.0\"/><feColorMatrix in=\"blurOut\" result=\"blurOut2\" type=\"matrix\" values=\"0 0 0 0 0 0 0 0 0 0 0 0 0 0 0 0 0 0 .4 0\"/><feOffset dx=\"4.0\" dy=\"4.0\" in=\"blurOut2\" result=\"blurOut3\"/><feBlend in=\"SourceGraphic\" in2=\"blurOut3\" mode=\"normal\"/></filter></defs><g><!--MD5=[fbc87193dbaf4d95561dea2c320d4a47]\n",
       "cluster E1--><polygon fill=\"#FFFFFF\" filter=\"url(#f1lezhj5u1us6)\" points=\"16,6,163,6,170,28.2969,294,28.2969,294,234,16,234,16,6\" style=\"stroke: #000000; stroke-width: 1.5;\"/><line style=\"stroke: #000000; stroke-width: 1.5;\" x1=\"16\" x2=\"170\" y1=\"28.2969\" y2=\"28.2969\"/><text fill=\"#000000\" font-family=\"sans-serif\" font-size=\"14\" font-weight=\"bold\" lengthAdjust=\"spacingAndGlyphs\" textLength=\"141\" x=\"20\" y=\"20.9951\">PrivateImportTest</text><!--MD5=[e4f7fae6ed58524ba242bb0b0d3be6b7]\n",
       "cluster E2--><polygon fill=\"#FFFFFF\" filter=\"url(#f1lezhj5u1us6)\" points=\"198,119,224,119,231,141.2969,270,141.2969,270,210,198,210,198,119\" style=\"stroke: #000000; stroke-width: 1.5;\"/><line style=\"stroke: #000000; stroke-width: 1.5;\" x1=\"198\" x2=\"231\" y1=\"141.2969\" y2=\"141.2969\"/><text fill=\"#000000\" font-family=\"sans-serif\" font-size=\"14\" font-weight=\"bold\" lengthAdjust=\"spacingAndGlyphs\" textLength=\"20\" x=\"202\" y=\"133.9951\">P1</text><!--MD5=[14e3b0961a2654348d326746436168a1]\n",
       "cluster E6--><polygon fill=\"#FFFFFF\" filter=\"url(#f1lezhj5u1us6)\" points=\"102,119,128,119,135,141.2969,174,141.2969,174,210,102,210,102,119\" style=\"stroke: #000000; stroke-width: 1.5;\"/><line style=\"stroke: #000000; stroke-width: 1.5;\" x1=\"102\" x2=\"135\" y1=\"141.2969\" y2=\"141.2969\"/><text fill=\"#000000\" font-family=\"sans-serif\" font-size=\"14\" font-weight=\"bold\" lengthAdjust=\"spacingAndGlyphs\" textLength=\"20\" x=\"106\" y=\"133.9951\">P3</text><!--MD5=[270fce915f116d4de14055a7c1d9a0f3]\n",
       "class E5--><rect fill=\"#FEFECE\" filter=\"url(#f1lezhj5u1us6)\" height=\"45.9375\" id=\"E5\" rx=\"10\" ry=\"10\" style=\"stroke: #A80036; stroke-width: 1.5;\" width=\"68\" x=\"210\" y=\"44.5\"/><ellipse cx=\"225\" cy=\"63.4688\" fill=\"#32CD32\" rx=\"11\" ry=\"11\" style=\"stroke: #A80036; stroke-width: 1.0;\"/><path d=\"M224.7969,59.1406 L224.7969,62.7656 L225.7969,62.7656 Q227,62.7656 227.4844,62.3594 Q227.9688,61.9531 227.9688,60.9531 Q227.9688,59.9531 227.4844,59.5469 Q227,59.1406 225.7969,59.1406 L224.7969,59.1406 Z M222.3438,57.0781 L225.7031,57.0781 Q228.2656,57.0781 229.3906,58 Q230.5156,58.9063 230.5156,60.9531 Q230.5156,63 229.3906,63.9219 Q228.2656,64.8281 225.7031,64.8281 L224.7969,64.8281 L224.7969,69.4688 L222.3438,69.4688 L222.3438,57.0781 Z \"/><text fill=\"#000000\" font-family=\"sans-serif\" font-size=\"12\" font-style=\"italic\" lengthAdjust=\"spacingAndGlyphs\" textLength=\"40\" x=\"237\" y=\"60.6387\">«part»</text><text fill=\"#000000\" font-family=\"sans-serif\" font-size=\"12\" lengthAdjust=\"spacingAndGlyphs\" textLength=\"22\" x=\"246\" y=\"74.6074\">x: A</text><line style=\"stroke: #A80036; stroke-width: 1.5;\" x1=\"211\" x2=\"277\" y1=\"82.4375\" y2=\"82.4375\"/><!--MD5=[b9389687b975829384b498ac4b7476b2]\n",
       "class E8--><rect fill=\"#FEFECE\" filter=\"url(#f1lezhj5u1us6)\" height=\"45.9375\" id=\"E8\" rx=\"10\" ry=\"10\" style=\"stroke: #A80036; stroke-width: 1.5;\" width=\"68\" x=\"107\" y=\"44.5\"/><ellipse cx=\"122\" cy=\"63.4688\" fill=\"#32CD32\" rx=\"11\" ry=\"11\" style=\"stroke: #A80036; stroke-width: 1.0;\"/><path d=\"M121.7969,59.1406 L121.7969,62.7656 L122.7969,62.7656 Q124,62.7656 124.4844,62.3594 Q124.9688,61.9531 124.9688,60.9531 Q124.9688,59.9531 124.4844,59.5469 Q124,59.1406 122.7969,59.1406 L121.7969,59.1406 Z M119.3438,57.0781 L122.7031,57.0781 Q125.2656,57.0781 126.3906,58 Q127.5156,58.9063 127.5156,60.9531 Q127.5156,63 126.3906,63.9219 Q125.2656,64.8281 122.7031,64.8281 L121.7969,64.8281 L121.7969,69.4688 L119.3438,69.4688 L119.3438,57.0781 Z \"/><text fill=\"#000000\" font-family=\"sans-serif\" font-size=\"12\" font-style=\"italic\" lengthAdjust=\"spacingAndGlyphs\" textLength=\"40\" x=\"134\" y=\"60.6387\">«part»</text><text fill=\"#000000\" font-family=\"sans-serif\" font-size=\"12\" lengthAdjust=\"spacingAndGlyphs\" textLength=\"21\" x=\"143.5\" y=\"74.6074\">z: B</text><line style=\"stroke: #A80036; stroke-width: 1.5;\" x1=\"108\" x2=\"174\" y1=\"82.4375\" y2=\"82.4375\"/><!--MD5=[09b614a08d8cba4a07c9adeb5e0fee81]\n",
       "class E3--><rect fill=\"#FEFECE\" filter=\"url(#f1lezhj5u1us6)\" height=\"40\" id=\"E3\" style=\"stroke: #A80036; stroke-width: 1.5;\" width=\"40\" x=\"214\" y=\"154\"/><ellipse cx=\"229\" cy=\"170\" fill=\"#008000\" rx=\"11\" ry=\"11\" style=\"stroke: #A80036; stroke-width: 1.0;\"/><path d=\"M227.9063,170.375 L227.9063,174.0469 L229.5313,174.0469 Q230.7031,174.0469 231.1719,173.6563 Q231.6406,173.25 231.6406,172.25 Q231.6406,171.25 231.1406,170.8125 Q230.6563,170.375 229.5313,170.375 L227.9063,170.375 Z M227.9063,165.5469 L227.9063,168.4219 L229.5313,168.4219 Q230.4531,168.4219 230.8438,168.0938 Q231.25,167.75 231.25,167 Q231.25,166.2344 230.8438,165.8906 Q230.4375,165.5469 229.5313,165.5469 L227.9063,165.5469 Z M225.5313,163.5938 L229.5313,163.5938 Q231.5938,163.5938 232.6406,164.375 Q233.6875,165.1563 233.6875,166.7188 Q233.6875,167.9219 233.0625,168.5938 Q232.4531,169.2656 231.2656,169.375 Q232.6875,169.5156 233.4063,170.3281 Q234.125,171.1406 234.125,172.5938 Q234.125,174.3906 233.0469,175.2031 Q231.9688,176 229.5313,176 L225.5313,176 L225.5313,163.5938 Z \"/><text fill=\"#000000\" font-family=\"sans-serif\" font-size=\"12\" lengthAdjust=\"spacingAndGlyphs\" textLength=\"8\" x=\"243\" y=\"174.1543\">A</text><line style=\"stroke: #A80036; stroke-width: 1.5;\" x1=\"215\" x2=\"253\" y1=\"186\" y2=\"186\"/><polygon fill=\"#FFFFFF\" filter=\"url(#f1lezhj5u1us6)\" points=\"32,41,58,41,65,63.2969,72,63.2969,72,93.5938,32,93.5938,32,41\" style=\"stroke: #000000; stroke-width: 1.5;\"/><line style=\"stroke: #000000; stroke-width: 1.5;\" x1=\"32\" x2=\"65\" y1=\"63.2969\" y2=\"63.2969\"/><text fill=\"#000000\" font-family=\"sans-serif\" font-size=\"14\" font-weight=\"bold\" lengthAdjust=\"spacingAndGlyphs\" textLength=\"20\" x=\"36\" y=\"55.9951\">P2</text><!--MD5=[2156ba9850f5573cc1fc38a6a4b2f02b]\n",
       "class E7--><rect fill=\"#FEFECE\" filter=\"url(#f1lezhj5u1us6)\" height=\"40\" id=\"E7\" style=\"stroke: #A80036; stroke-width: 1.5;\" width=\"40\" x=\"118\" y=\"154\"/><ellipse cx=\"133\" cy=\"170\" fill=\"#008000\" rx=\"11\" ry=\"11\" style=\"stroke: #A80036; stroke-width: 1.0;\"/><path d=\"M131.9063,170.375 L131.9063,174.0469 L133.5313,174.0469 Q134.7031,174.0469 135.1719,173.6563 Q135.6406,173.25 135.6406,172.25 Q135.6406,171.25 135.1406,170.8125 Q134.6563,170.375 133.5313,170.375 L131.9063,170.375 Z M131.9063,165.5469 L131.9063,168.4219 L133.5313,168.4219 Q134.4531,168.4219 134.8438,168.0938 Q135.25,167.75 135.25,167 Q135.25,166.2344 134.8438,165.8906 Q134.4375,165.5469 133.5313,165.5469 L131.9063,165.5469 Z M129.5313,163.5938 L133.5313,163.5938 Q135.5938,163.5938 136.6406,164.375 Q137.6875,165.1563 137.6875,166.7188 Q137.6875,167.9219 137.0625,168.5938 Q136.4531,169.2656 135.2656,169.375 Q136.6875,169.5156 137.4063,170.3281 Q138.125,171.1406 138.125,172.5938 Q138.125,174.3906 137.0469,175.2031 Q135.9688,176 133.5313,176 L129.5313,176 L129.5313,163.5938 Z \"/><text fill=\"#000000\" font-family=\"sans-serif\" font-size=\"12\" lengthAdjust=\"spacingAndGlyphs\" textLength=\"8\" x=\"147\" y=\"174.1543\">B</text><line style=\"stroke: #A80036; stroke-width: 1.5;\" x1=\"119\" x2=\"157\" y1=\"186\" y2=\"186\"/><!--MD5=[e9be52314489bd878ff4c7144b63c9e1]\n",
       "link E5 to E3--><path d=\"M241.88,90.66 C240.68,103.15 239.16,119.11 237.77,133.65 \" fill=\"none\" id=\"E5-&gt;E3\" style=\"stroke: #A80036; stroke-width: 1.0;\"/><polygon fill=\"#FFFFFF\" points=\"235.85,153.68,230.7015,134.097,244.6371,135.4376,235.85,153.68\" style=\"stroke: #A80036; stroke-width: 1.0;\"/><ellipse cx=\"233.2381\" cy=\"128.6147\" fill=\"#A80036\" rx=\"2\" ry=\"2\" style=\"stroke: #A80036; stroke-width: 1.0;\"/><ellipse cx=\"243.1921\" cy=\"129.5723\" fill=\"#A80036\" rx=\"2\" ry=\"2\" style=\"stroke: #A80036; stroke-width: 1.0;\"/><!--MD5=[bfa3c8b0d15052fdf50ae9310b491027]\n",
       "link E8 to E7--><path d=\"M140.36,90.66 C140.01,103.15 139.55,119.11 139.13,133.65 \" fill=\"none\" id=\"E8-&gt;E7\" style=\"stroke: #A80036; stroke-width: 1.0;\"/><polygon fill=\"#FFFFFF\" points=\"138.55,153.68,132.0955,134.4878,146.0898,134.8877,138.55,153.68\" style=\"stroke: #A80036; stroke-width: 1.0;\"/><ellipse cx=\"134.2575\" cy=\"128.8473\" fill=\"#A80036\" rx=\"2\" ry=\"2\" style=\"stroke: #A80036; stroke-width: 1.0;\"/><ellipse cx=\"144.2534\" cy=\"129.1329\" fill=\"#A80036\" rx=\"2\" ry=\"2\" style=\"stroke: #A80036; stroke-width: 1.0;\"/><!--MD5=[952d4bb431c2bd45dda342f12a4aa932]\n",
       "@startuml\r\n",
       " \r\n",
       "package \"PrivateImportTest\" as E1   {\r\n",
       "package \"P1\" as E2   {\r\n",
       "comp def \"A\" as E3  << (B,green) >> {\r\n",
       "}\r\n",
       "}\r\n",
       "package \"P2\" as E4   {\r\n",
       "}\r\n",
       "comp usage \"x: A\" as E5  << (P,limegreen) part>> {\r\n",
       "}\r\n",
       "package \"P3\" as E6   {\r\n",
       "comp def \"B\" as E7  << (B,green) >> {\r\n",
       "}\r\n",
       "E5 - -:|> E3\r\n",
       "}\r\n",
       "comp usage \"z: B\" as E8  << (P,limegreen) part>> {\r\n",
       "}\r\n",
       "E8 - -:|> E7\r\n",
       "}\r\n",
       "@enduml\r\n",
       "\n",
       "PlantUML version 1.2020.13(Sat Jun 13 12:26:38 UTC 2020)\n",
       "(EPL source distribution)\n",
       "Java Runtime: OpenJDK Runtime Environment\n",
       "JVM: OpenJDK 64-Bit Server VM\n",
       "Default Encoding: UTF-8\n",
       "Language: en\n",
       "Country: null\n",
       "--></g></svg>"
      ]
     },
     "execution_count": 35,
     "metadata": {},
     "output_type": "execute_result"
    }
   ],
   "source": [
    "%viz --style=\"PLANTUML\" --view=\"Sequence\" \"PrivateImportTest\""
   ]
  },
  {
   "cell_type": "code",
   "execution_count": 36,
   "id": "biological-passion",
   "metadata": {
    "execution": {
     "iopub.execute_input": "2021-03-25T15:59:52.453488Z",
     "iopub.status.busy": "2021-03-25T15:59:52.452320Z",
     "iopub.status.idle": "2021-03-25T15:59:52.511979Z",
     "shell.execute_reply": "2021-03-25T15:59:52.510374Z"
    }
   },
   "outputs": [
    {
     "data": {
      "image/svg+xml": [
       "<?xml version=\"1.0\" encoding=\"UTF-8\" standalone=\"no\"?><svg xmlns=\"http://www.w3.org/2000/svg\" xmlns:xlink=\"http://www.w3.org/1999/xlink\" contentScriptType=\"application/ecmascript\" contentStyleType=\"text/css\" height=\"246px\" preserveAspectRatio=\"none\" style=\"width:316px;height:246px;\" version=\"1.1\" viewBox=\"0 0 316 246\" width=\"316px\" zoomAndPan=\"magnify\"><defs><filter height=\"300%\" id=\"f1lezhj5u1us6\" width=\"300%\" x=\"-1\" y=\"-1\"><feGaussianBlur result=\"blurOut\" stdDeviation=\"2.0\"/><feColorMatrix in=\"blurOut\" result=\"blurOut2\" type=\"matrix\" values=\"0 0 0 0 0 0 0 0 0 0 0 0 0 0 0 0 0 0 .4 0\"/><feOffset dx=\"4.0\" dy=\"4.0\" in=\"blurOut2\" result=\"blurOut3\"/><feBlend in=\"SourceGraphic\" in2=\"blurOut3\" mode=\"normal\"/></filter></defs><g><!--MD5=[fbc87193dbaf4d95561dea2c320d4a47]\n",
       "cluster E1--><polygon fill=\"#FFFFFF\" filter=\"url(#f1lezhj5u1us6)\" points=\"16,6,163,6,170,28.2969,294,28.2969,294,234,16,234,16,6\" style=\"stroke: #000000; stroke-width: 1.5;\"/><line style=\"stroke: #000000; stroke-width: 1.5;\" x1=\"16\" x2=\"170\" y1=\"28.2969\" y2=\"28.2969\"/><text fill=\"#000000\" font-family=\"sans-serif\" font-size=\"14\" font-weight=\"bold\" lengthAdjust=\"spacingAndGlyphs\" textLength=\"141\" x=\"20\" y=\"20.9951\">PrivateImportTest</text><!--MD5=[e4f7fae6ed58524ba242bb0b0d3be6b7]\n",
       "cluster E2--><polygon fill=\"#FFFFFF\" filter=\"url(#f1lezhj5u1us6)\" points=\"198,119,224,119,231,141.2969,270,141.2969,270,210,198,210,198,119\" style=\"stroke: #000000; stroke-width: 1.5;\"/><line style=\"stroke: #000000; stroke-width: 1.5;\" x1=\"198\" x2=\"231\" y1=\"141.2969\" y2=\"141.2969\"/><text fill=\"#000000\" font-family=\"sans-serif\" font-size=\"14\" font-weight=\"bold\" lengthAdjust=\"spacingAndGlyphs\" textLength=\"20\" x=\"202\" y=\"133.9951\">P1</text><!--MD5=[14e3b0961a2654348d326746436168a1]\n",
       "cluster E6--><polygon fill=\"#FFFFFF\" filter=\"url(#f1lezhj5u1us6)\" points=\"102,119,128,119,135,141.2969,174,141.2969,174,210,102,210,102,119\" style=\"stroke: #000000; stroke-width: 1.5;\"/><line style=\"stroke: #000000; stroke-width: 1.5;\" x1=\"102\" x2=\"135\" y1=\"141.2969\" y2=\"141.2969\"/><text fill=\"#000000\" font-family=\"sans-serif\" font-size=\"14\" font-weight=\"bold\" lengthAdjust=\"spacingAndGlyphs\" textLength=\"20\" x=\"106\" y=\"133.9951\">P3</text><!--MD5=[270fce915f116d4de14055a7c1d9a0f3]\n",
       "class E5--><rect fill=\"#FEFECE\" filter=\"url(#f1lezhj5u1us6)\" height=\"45.9375\" id=\"E5\" rx=\"10\" ry=\"10\" style=\"stroke: #A80036; stroke-width: 1.5;\" width=\"68\" x=\"210\" y=\"44.5\"/><ellipse cx=\"225\" cy=\"63.4688\" fill=\"#32CD32\" rx=\"11\" ry=\"11\" style=\"stroke: #A80036; stroke-width: 1.0;\"/><path d=\"M224.7969,59.1406 L224.7969,62.7656 L225.7969,62.7656 Q227,62.7656 227.4844,62.3594 Q227.9688,61.9531 227.9688,60.9531 Q227.9688,59.9531 227.4844,59.5469 Q227,59.1406 225.7969,59.1406 L224.7969,59.1406 Z M222.3438,57.0781 L225.7031,57.0781 Q228.2656,57.0781 229.3906,58 Q230.5156,58.9063 230.5156,60.9531 Q230.5156,63 229.3906,63.9219 Q228.2656,64.8281 225.7031,64.8281 L224.7969,64.8281 L224.7969,69.4688 L222.3438,69.4688 L222.3438,57.0781 Z \"/><text fill=\"#000000\" font-family=\"sans-serif\" font-size=\"12\" font-style=\"italic\" lengthAdjust=\"spacingAndGlyphs\" textLength=\"40\" x=\"237\" y=\"60.6387\">«part»</text><text fill=\"#000000\" font-family=\"sans-serif\" font-size=\"12\" lengthAdjust=\"spacingAndGlyphs\" textLength=\"22\" x=\"246\" y=\"74.6074\">x: A</text><line style=\"stroke: #A80036; stroke-width: 1.5;\" x1=\"211\" x2=\"277\" y1=\"82.4375\" y2=\"82.4375\"/><!--MD5=[b9389687b975829384b498ac4b7476b2]\n",
       "class E8--><rect fill=\"#FEFECE\" filter=\"url(#f1lezhj5u1us6)\" height=\"45.9375\" id=\"E8\" rx=\"10\" ry=\"10\" style=\"stroke: #A80036; stroke-width: 1.5;\" width=\"68\" x=\"107\" y=\"44.5\"/><ellipse cx=\"122\" cy=\"63.4688\" fill=\"#32CD32\" rx=\"11\" ry=\"11\" style=\"stroke: #A80036; stroke-width: 1.0;\"/><path d=\"M121.7969,59.1406 L121.7969,62.7656 L122.7969,62.7656 Q124,62.7656 124.4844,62.3594 Q124.9688,61.9531 124.9688,60.9531 Q124.9688,59.9531 124.4844,59.5469 Q124,59.1406 122.7969,59.1406 L121.7969,59.1406 Z M119.3438,57.0781 L122.7031,57.0781 Q125.2656,57.0781 126.3906,58 Q127.5156,58.9063 127.5156,60.9531 Q127.5156,63 126.3906,63.9219 Q125.2656,64.8281 122.7031,64.8281 L121.7969,64.8281 L121.7969,69.4688 L119.3438,69.4688 L119.3438,57.0781 Z \"/><text fill=\"#000000\" font-family=\"sans-serif\" font-size=\"12\" font-style=\"italic\" lengthAdjust=\"spacingAndGlyphs\" textLength=\"40\" x=\"134\" y=\"60.6387\">«part»</text><text fill=\"#000000\" font-family=\"sans-serif\" font-size=\"12\" lengthAdjust=\"spacingAndGlyphs\" textLength=\"21\" x=\"143.5\" y=\"74.6074\">z: B</text><line style=\"stroke: #A80036; stroke-width: 1.5;\" x1=\"108\" x2=\"174\" y1=\"82.4375\" y2=\"82.4375\"/><!--MD5=[09b614a08d8cba4a07c9adeb5e0fee81]\n",
       "class E3--><rect fill=\"#FEFECE\" filter=\"url(#f1lezhj5u1us6)\" height=\"40\" id=\"E3\" style=\"stroke: #A80036; stroke-width: 1.5;\" width=\"40\" x=\"214\" y=\"154\"/><ellipse cx=\"229\" cy=\"170\" fill=\"#008000\" rx=\"11\" ry=\"11\" style=\"stroke: #A80036; stroke-width: 1.0;\"/><path d=\"M227.9063,170.375 L227.9063,174.0469 L229.5313,174.0469 Q230.7031,174.0469 231.1719,173.6563 Q231.6406,173.25 231.6406,172.25 Q231.6406,171.25 231.1406,170.8125 Q230.6563,170.375 229.5313,170.375 L227.9063,170.375 Z M227.9063,165.5469 L227.9063,168.4219 L229.5313,168.4219 Q230.4531,168.4219 230.8438,168.0938 Q231.25,167.75 231.25,167 Q231.25,166.2344 230.8438,165.8906 Q230.4375,165.5469 229.5313,165.5469 L227.9063,165.5469 Z M225.5313,163.5938 L229.5313,163.5938 Q231.5938,163.5938 232.6406,164.375 Q233.6875,165.1563 233.6875,166.7188 Q233.6875,167.9219 233.0625,168.5938 Q232.4531,169.2656 231.2656,169.375 Q232.6875,169.5156 233.4063,170.3281 Q234.125,171.1406 234.125,172.5938 Q234.125,174.3906 233.0469,175.2031 Q231.9688,176 229.5313,176 L225.5313,176 L225.5313,163.5938 Z \"/><text fill=\"#000000\" font-family=\"sans-serif\" font-size=\"12\" lengthAdjust=\"spacingAndGlyphs\" textLength=\"8\" x=\"243\" y=\"174.1543\">A</text><line style=\"stroke: #A80036; stroke-width: 1.5;\" x1=\"215\" x2=\"253\" y1=\"186\" y2=\"186\"/><polygon fill=\"#FFFFFF\" filter=\"url(#f1lezhj5u1us6)\" points=\"32,41,58,41,65,63.2969,72,63.2969,72,93.5938,32,93.5938,32,41\" style=\"stroke: #000000; stroke-width: 1.5;\"/><line style=\"stroke: #000000; stroke-width: 1.5;\" x1=\"32\" x2=\"65\" y1=\"63.2969\" y2=\"63.2969\"/><text fill=\"#000000\" font-family=\"sans-serif\" font-size=\"14\" font-weight=\"bold\" lengthAdjust=\"spacingAndGlyphs\" textLength=\"20\" x=\"36\" y=\"55.9951\">P2</text><!--MD5=[2156ba9850f5573cc1fc38a6a4b2f02b]\n",
       "class E7--><rect fill=\"#FEFECE\" filter=\"url(#f1lezhj5u1us6)\" height=\"40\" id=\"E7\" style=\"stroke: #A80036; stroke-width: 1.5;\" width=\"40\" x=\"118\" y=\"154\"/><ellipse cx=\"133\" cy=\"170\" fill=\"#008000\" rx=\"11\" ry=\"11\" style=\"stroke: #A80036; stroke-width: 1.0;\"/><path d=\"M131.9063,170.375 L131.9063,174.0469 L133.5313,174.0469 Q134.7031,174.0469 135.1719,173.6563 Q135.6406,173.25 135.6406,172.25 Q135.6406,171.25 135.1406,170.8125 Q134.6563,170.375 133.5313,170.375 L131.9063,170.375 Z M131.9063,165.5469 L131.9063,168.4219 L133.5313,168.4219 Q134.4531,168.4219 134.8438,168.0938 Q135.25,167.75 135.25,167 Q135.25,166.2344 134.8438,165.8906 Q134.4375,165.5469 133.5313,165.5469 L131.9063,165.5469 Z M129.5313,163.5938 L133.5313,163.5938 Q135.5938,163.5938 136.6406,164.375 Q137.6875,165.1563 137.6875,166.7188 Q137.6875,167.9219 137.0625,168.5938 Q136.4531,169.2656 135.2656,169.375 Q136.6875,169.5156 137.4063,170.3281 Q138.125,171.1406 138.125,172.5938 Q138.125,174.3906 137.0469,175.2031 Q135.9688,176 133.5313,176 L129.5313,176 L129.5313,163.5938 Z \"/><text fill=\"#000000\" font-family=\"sans-serif\" font-size=\"12\" lengthAdjust=\"spacingAndGlyphs\" textLength=\"8\" x=\"147\" y=\"174.1543\">B</text><line style=\"stroke: #A80036; stroke-width: 1.5;\" x1=\"119\" x2=\"157\" y1=\"186\" y2=\"186\"/><!--MD5=[e9be52314489bd878ff4c7144b63c9e1]\n",
       "link E5 to E3--><path d=\"M241.88,90.66 C240.68,103.15 239.16,119.11 237.77,133.65 \" fill=\"none\" id=\"E5-&gt;E3\" style=\"stroke: #A80036; stroke-width: 1.0;\"/><polygon fill=\"#FFFFFF\" points=\"235.85,153.68,230.7015,134.097,244.6371,135.4376,235.85,153.68\" style=\"stroke: #A80036; stroke-width: 1.0;\"/><ellipse cx=\"233.2381\" cy=\"128.6147\" fill=\"#A80036\" rx=\"2\" ry=\"2\" style=\"stroke: #A80036; stroke-width: 1.0;\"/><ellipse cx=\"243.1921\" cy=\"129.5723\" fill=\"#A80036\" rx=\"2\" ry=\"2\" style=\"stroke: #A80036; stroke-width: 1.0;\"/><!--MD5=[bfa3c8b0d15052fdf50ae9310b491027]\n",
       "link E8 to E7--><path d=\"M140.36,90.66 C140.01,103.15 139.55,119.11 139.13,133.65 \" fill=\"none\" id=\"E8-&gt;E7\" style=\"stroke: #A80036; stroke-width: 1.0;\"/><polygon fill=\"#FFFFFF\" points=\"138.55,153.68,132.0955,134.4878,146.0898,134.8877,138.55,153.68\" style=\"stroke: #A80036; stroke-width: 1.0;\"/><ellipse cx=\"134.2575\" cy=\"128.8473\" fill=\"#A80036\" rx=\"2\" ry=\"2\" style=\"stroke: #A80036; stroke-width: 1.0;\"/><ellipse cx=\"144.2534\" cy=\"129.1329\" fill=\"#A80036\" rx=\"2\" ry=\"2\" style=\"stroke: #A80036; stroke-width: 1.0;\"/><!--MD5=[952d4bb431c2bd45dda342f12a4aa932]\n",
       "@startuml\r\n",
       " \r\n",
       "package \"PrivateImportTest\" as E1   {\r\n",
       "package \"P1\" as E2   {\r\n",
       "comp def \"A\" as E3  << (B,green) >> {\r\n",
       "}\r\n",
       "}\r\n",
       "package \"P2\" as E4   {\r\n",
       "}\r\n",
       "comp usage \"x: A\" as E5  << (P,limegreen) part>> {\r\n",
       "}\r\n",
       "package \"P3\" as E6   {\r\n",
       "comp def \"B\" as E7  << (B,green) >> {\r\n",
       "}\r\n",
       "E5 - -:|> E3\r\n",
       "}\r\n",
       "comp usage \"z: B\" as E8  << (P,limegreen) part>> {\r\n",
       "}\r\n",
       "E8 - -:|> E7\r\n",
       "}\r\n",
       "@enduml\r\n",
       "\n",
       "PlantUML version 1.2020.13(Sat Jun 13 12:26:38 UTC 2020)\n",
       "(EPL source distribution)\n",
       "Java Runtime: OpenJDK Runtime Environment\n",
       "JVM: OpenJDK 64-Bit Server VM\n",
       "Default Encoding: UTF-8\n",
       "Language: en\n",
       "Country: null\n",
       "--></g></svg>"
      ]
     },
     "execution_count": 36,
     "metadata": {},
     "output_type": "execute_result"
    }
   ],
   "source": [
    "%viz --style=\"PLANTUML\" --view=\"MIXED\" \"PrivateImportTest\""
   ]
  },
  {
   "cell_type": "code",
   "execution_count": 37,
   "id": "precise-madrid",
   "metadata": {
    "execution": {
     "iopub.execute_input": "2021-03-25T15:59:52.564776Z",
     "iopub.status.busy": "2021-03-25T15:59:52.563991Z",
     "iopub.status.idle": "2021-03-25T15:59:52.646253Z",
     "shell.execute_reply": "2021-03-25T15:59:52.645883Z"
    }
   },
   "outputs": [
    {
     "data": {
      "image/svg+xml": [
       "<?xml version=\"1.0\" encoding=\"UTF-8\" standalone=\"no\"?><svg xmlns=\"http://www.w3.org/2000/svg\" xmlns:xlink=\"http://www.w3.org/1999/xlink\" contentScriptType=\"application/ecmascript\" contentStyleType=\"text/css\" height=\"252px\" preserveAspectRatio=\"none\" style=\"width:306px;height:252px;\" version=\"1.1\" viewBox=\"0 0 306 252\" width=\"306px\" zoomAndPan=\"magnify\"><defs/><g><!--MD5=[fbc87193dbaf4d95561dea2c320d4a47]\n",
       "cluster E1--><polygon fill=\"#FFFFFF\" points=\"16,6,163,6,170,28.2969,284,28.2969,284,240,16,240,16,6\" style=\"stroke: #000000; stroke-width: 1.5;\"/><line style=\"stroke: #000000; stroke-width: 1.5;\" x1=\"16\" x2=\"170\" y1=\"28.2969\" y2=\"28.2969\"/><text fill=\"#000000\" font-family=\"sans-serif\" font-size=\"14\" font-weight=\"bold\" lengthAdjust=\"spacingAndGlyphs\" textLength=\"141\" x=\"20\" y=\"20.9951\">PrivateImportTest</text><!--MD5=[e4f7fae6ed58524ba242bb0b0d3be6b7]\n",
       "cluster E2--><polygon fill=\"#FFFFFF\" points=\"162,119,188,119,195,141.2969,260,141.2969,260,216,162,216,162,119\" style=\"stroke: #000000; stroke-width: 1.5;\"/><line style=\"stroke: #000000; stroke-width: 1.5;\" x1=\"162\" x2=\"195\" y1=\"141.2969\" y2=\"141.2969\"/><text fill=\"#000000\" font-family=\"sans-serif\" font-size=\"14\" font-weight=\"bold\" lengthAdjust=\"spacingAndGlyphs\" textLength=\"20\" x=\"166\" y=\"133.9951\">P1</text><!--MD5=[14e3b0961a2654348d326746436168a1]\n",
       "cluster E6--><polygon fill=\"#FFFFFF\" points=\"40,119,66,119,73,141.2969,138,141.2969,138,216,40,216,40,119\" style=\"stroke: #000000; stroke-width: 1.5;\"/><line style=\"stroke: #000000; stroke-width: 1.5;\" x1=\"40\" x2=\"73\" y1=\"141.2969\" y2=\"141.2969\"/><text fill=\"#000000\" font-family=\"sans-serif\" font-size=\"14\" font-weight=\"bold\" lengthAdjust=\"spacingAndGlyphs\" textLength=\"20\" x=\"44\" y=\"133.9951\">P3</text><!--MD5=[270fce915f116d4de14055a7c1d9a0f3]\n",
       "class E5--><rect fill=\"#FFFFFF\" height=\"45.9375\" id=\"E5\" rx=\"10\" ry=\"10\" style=\"stroke: #383838; stroke-width: 1.5;\" width=\"42\" x=\"190\" y=\"44.5\"/><text fill=\"#000000\" font-family=\"sans-serif\" font-size=\"12\" font-style=\"italic\" lengthAdjust=\"spacingAndGlyphs\" textLength=\"40\" x=\"191\" y=\"60.6387\">«part»</text><text fill=\"#000000\" font-family=\"sans-serif\" font-size=\"12\" lengthAdjust=\"spacingAndGlyphs\" textLength=\"22\" x=\"200\" y=\"74.6074\">x: A</text><line style=\"stroke: #383838; stroke-width: 1.5;\" x1=\"191\" x2=\"231\" y1=\"82.4375\" y2=\"82.4375\"/><!--MD5=[b9389687b975829384b498ac4b7476b2]\n",
       "class E8--><rect fill=\"#FFFFFF\" height=\"45.9375\" id=\"E8\" rx=\"10\" ry=\"10\" style=\"stroke: #383838; stroke-width: 1.5;\" width=\"42\" x=\"107\" y=\"44.5\"/><text fill=\"#000000\" font-family=\"sans-serif\" font-size=\"12\" font-style=\"italic\" lengthAdjust=\"spacingAndGlyphs\" textLength=\"40\" x=\"108\" y=\"60.6387\">«part»</text><text fill=\"#000000\" font-family=\"sans-serif\" font-size=\"12\" lengthAdjust=\"spacingAndGlyphs\" textLength=\"21\" x=\"117.5\" y=\"74.6074\">z: B</text><line style=\"stroke: #383838; stroke-width: 1.5;\" x1=\"108\" x2=\"148\" y1=\"82.4375\" y2=\"82.4375\"/><!--MD5=[09b614a08d8cba4a07c9adeb5e0fee81]\n",
       "class E3--><rect fill=\"#FFFFFF\" height=\"45.9375\" id=\"E3\" style=\"stroke: #383838; stroke-width: 1.5;\" width=\"66\" x=\"178\" y=\"154\"/><text fill=\"#000000\" font-family=\"sans-serif\" font-size=\"12\" font-style=\"italic\" lengthAdjust=\"spacingAndGlyphs\" textLength=\"64\" x=\"179\" y=\"170.1387\">«part def»</text><text fill=\"#000000\" font-family=\"sans-serif\" font-size=\"12\" lengthAdjust=\"spacingAndGlyphs\" textLength=\"8\" x=\"207\" y=\"184.1074\">A</text><line style=\"stroke: #383838; stroke-width: 1.5;\" x1=\"179\" x2=\"243\" y1=\"191.9375\" y2=\"191.9375\"/><polygon fill=\"#FFFFFF\" points=\"32,41,58,41,65,63.2969,72,63.2969,72,93.5938,32,93.5938,32,41\" style=\"stroke: #000000; stroke-width: 1.5;\"/><line style=\"stroke: #000000; stroke-width: 1.5;\" x1=\"32\" x2=\"65\" y1=\"63.2969\" y2=\"63.2969\"/><text fill=\"#000000\" font-family=\"sans-serif\" font-size=\"14\" font-weight=\"bold\" lengthAdjust=\"spacingAndGlyphs\" textLength=\"20\" x=\"36\" y=\"55.9951\">P2</text><!--MD5=[2156ba9850f5573cc1fc38a6a4b2f02b]\n",
       "class E7--><rect fill=\"#FFFFFF\" height=\"45.9375\" id=\"E7\" style=\"stroke: #383838; stroke-width: 1.5;\" width=\"66\" x=\"56\" y=\"154\"/><text fill=\"#000000\" font-family=\"sans-serif\" font-size=\"12\" font-style=\"italic\" lengthAdjust=\"spacingAndGlyphs\" textLength=\"64\" x=\"57\" y=\"170.1387\">«part def»</text><text fill=\"#000000\" font-family=\"sans-serif\" font-size=\"12\" lengthAdjust=\"spacingAndGlyphs\" textLength=\"8\" x=\"85\" y=\"184.1074\">B</text><line style=\"stroke: #383838; stroke-width: 1.5;\" x1=\"57\" x2=\"121\" y1=\"191.9375\" y2=\"191.9375\"/><!--MD5=[e9be52314489bd878ff4c7144b63c9e1]\n",
       "link E5 to E3--><path d=\"M211,90.51 C211,102.89 211,118.78 211,133.48 \" fill=\"none\" id=\"E5-&gt;E3\" style=\"stroke: #383838; stroke-width: 1.0;\"/><polygon fill=\"#FFFFFF\" points=\"211,153.65,204,134.65,218,134.65,211,153.65\" style=\"stroke: #383838; stroke-width: 1.0;\"/><ellipse cx=\"206\" cy=\"128.95\" fill=\"#383838\" rx=\"2\" ry=\"2\" style=\"stroke: #383838; stroke-width: 1.0;\"/><ellipse cx=\"216\" cy=\"128.95\" fill=\"#383838\" rx=\"2\" ry=\"2\" style=\"stroke: #383838; stroke-width: 1.0;\"/><!--MD5=[bfa3c8b0d15052fdf50ae9310b491027]\n",
       "link E8 to E7--><path d=\"M120.01,90.51 C115.39,103.25 109.42,119.7 103.96,134.76 \" fill=\"none\" id=\"E8-&gt;E7\" style=\"stroke: #383838; stroke-width: 1.0;\"/><polygon fill=\"#FFFFFF\" points=\"97.11,153.65,97.0036,133.4018,110.1656,138.1726,97.11,153.65\" style=\"stroke: #383838; stroke-width: 1.0;\"/><ellipse cx=\"100.8262\" cy=\"128.7245\" fill=\"#383838\" rx=\"2\" ry=\"2\" style=\"stroke: #383838; stroke-width: 1.0;\"/><ellipse cx=\"110.2277\" cy=\"132.1322\" fill=\"#383838\" rx=\"2\" ry=\"2\" style=\"stroke: #383838; stroke-width: 1.0;\"/><!--MD5=[730a3b6c1a03373c0d12972ca3ae0ff5]\n",
       "@startuml\r\n",
       "skinparam monochrome true\r\n",
       "skinparam classbackgroundcolor white\r\n",
       "skinparam shadowing false\r\n",
       "skinparam wrapWidth 300\r\n",
       "hide circle\r\n",
       "\r\n",
       "package \"PrivateImportTest\" as E1   {\r\n",
       "package \"P1\" as E2   {\r\n",
       "comp def \"A\" as E3  <<(T,blue)part def>> {\r\n",
       "}\r\n",
       "}\r\n",
       "package \"P2\" as E4   {\r\n",
       "}\r\n",
       "comp usage \"x: A\" as E5  <<(T,blue)part>> {\r\n",
       "}\r\n",
       "package \"P3\" as E6   {\r\n",
       "comp def \"B\" as E7  <<(T,blue)part def>> {\r\n",
       "}\r\n",
       "E5 - -:|> E3\r\n",
       "}\r\n",
       "comp usage \"z: B\" as E8  <<(T,blue)part>> {\r\n",
       "}\r\n",
       "E8 - -:|> E7\r\n",
       "}\r\n",
       "@enduml\r\n",
       "\n",
       "PlantUML version 1.2020.13(Sat Jun 13 12:26:38 UTC 2020)\n",
       "(EPL source distribution)\n",
       "Java Runtime: OpenJDK Runtime Environment\n",
       "JVM: OpenJDK 64-Bit Server VM\n",
       "Default Encoding: UTF-8\n",
       "Language: en\n",
       "Country: null\n",
       "--></g></svg>"
      ]
     },
     "execution_count": 37,
     "metadata": {},
     "output_type": "execute_result"
    }
   ],
   "source": [
    "%viz --style=\"DEFAULT\" --view=\"Default\" \"PrivateImportTest\""
   ]
  },
  {
   "cell_type": "code",
   "execution_count": 38,
   "id": "ranging-translator",
   "metadata": {
    "execution": {
     "iopub.execute_input": "2021-03-25T15:59:52.700003Z",
     "iopub.status.busy": "2021-03-25T15:59:52.698742Z",
     "iopub.status.idle": "2021-03-25T15:59:52.769577Z",
     "shell.execute_reply": "2021-03-25T15:59:52.768392Z"
    }
   },
   "outputs": [
    {
     "data": {
      "image/svg+xml": [
       "<?xml version=\"1.0\" encoding=\"UTF-8\" standalone=\"no\"?><svg xmlns=\"http://www.w3.org/2000/svg\" xmlns:xlink=\"http://www.w3.org/1999/xlink\" contentScriptType=\"application/ecmascript\" contentStyleType=\"text/css\" height=\"252px\" preserveAspectRatio=\"none\" style=\"width:306px;height:252px;\" version=\"1.1\" viewBox=\"0 0 306 252\" width=\"306px\" zoomAndPan=\"magnify\"><defs/><g><!--MD5=[fbc87193dbaf4d95561dea2c320d4a47]\n",
       "cluster E1--><polygon fill=\"#FFFFFF\" points=\"16,6,163,6,170,28.2969,284,28.2969,284,240,16,240,16,6\" style=\"stroke: #000000; stroke-width: 1.5;\"/><line style=\"stroke: #000000; stroke-width: 1.5;\" x1=\"16\" x2=\"170\" y1=\"28.2969\" y2=\"28.2969\"/><text fill=\"#000000\" font-family=\"sans-serif\" font-size=\"14\" font-weight=\"bold\" lengthAdjust=\"spacingAndGlyphs\" textLength=\"141\" x=\"20\" y=\"20.9951\">PrivateImportTest</text><!--MD5=[e4f7fae6ed58524ba242bb0b0d3be6b7]\n",
       "cluster E2--><polygon fill=\"#FFFFFF\" points=\"162,119,188,119,195,141.2969,260,141.2969,260,216,162,216,162,119\" style=\"stroke: #000000; stroke-width: 1.5;\"/><line style=\"stroke: #000000; stroke-width: 1.5;\" x1=\"162\" x2=\"195\" y1=\"141.2969\" y2=\"141.2969\"/><text fill=\"#000000\" font-family=\"sans-serif\" font-size=\"14\" font-weight=\"bold\" lengthAdjust=\"spacingAndGlyphs\" textLength=\"20\" x=\"166\" y=\"133.9951\">P1</text><!--MD5=[14e3b0961a2654348d326746436168a1]\n",
       "cluster E6--><polygon fill=\"#FFFFFF\" points=\"40,119,66,119,73,141.2969,138,141.2969,138,216,40,216,40,119\" style=\"stroke: #000000; stroke-width: 1.5;\"/><line style=\"stroke: #000000; stroke-width: 1.5;\" x1=\"40\" x2=\"73\" y1=\"141.2969\" y2=\"141.2969\"/><text fill=\"#000000\" font-family=\"sans-serif\" font-size=\"14\" font-weight=\"bold\" lengthAdjust=\"spacingAndGlyphs\" textLength=\"20\" x=\"44\" y=\"133.9951\">P3</text><!--MD5=[270fce915f116d4de14055a7c1d9a0f3]\n",
       "class E5--><rect fill=\"#FFFFFF\" height=\"45.9375\" id=\"E5\" rx=\"10\" ry=\"10\" style=\"stroke: #383838; stroke-width: 1.5;\" width=\"42\" x=\"190\" y=\"44.5\"/><text fill=\"#000000\" font-family=\"sans-serif\" font-size=\"12\" font-style=\"italic\" lengthAdjust=\"spacingAndGlyphs\" textLength=\"40\" x=\"191\" y=\"60.6387\">«part»</text><text fill=\"#000000\" font-family=\"sans-serif\" font-size=\"12\" lengthAdjust=\"spacingAndGlyphs\" textLength=\"22\" x=\"200\" y=\"74.6074\">x: A</text><line style=\"stroke: #383838; stroke-width: 1.5;\" x1=\"191\" x2=\"231\" y1=\"82.4375\" y2=\"82.4375\"/><!--MD5=[b9389687b975829384b498ac4b7476b2]\n",
       "class E8--><rect fill=\"#FFFFFF\" height=\"45.9375\" id=\"E8\" rx=\"10\" ry=\"10\" style=\"stroke: #383838; stroke-width: 1.5;\" width=\"42\" x=\"107\" y=\"44.5\"/><text fill=\"#000000\" font-family=\"sans-serif\" font-size=\"12\" font-style=\"italic\" lengthAdjust=\"spacingAndGlyphs\" textLength=\"40\" x=\"108\" y=\"60.6387\">«part»</text><text fill=\"#000000\" font-family=\"sans-serif\" font-size=\"12\" lengthAdjust=\"spacingAndGlyphs\" textLength=\"21\" x=\"117.5\" y=\"74.6074\">z: B</text><line style=\"stroke: #383838; stroke-width: 1.5;\" x1=\"108\" x2=\"148\" y1=\"82.4375\" y2=\"82.4375\"/><!--MD5=[09b614a08d8cba4a07c9adeb5e0fee81]\n",
       "class E3--><rect fill=\"#FFFFFF\" height=\"45.9375\" id=\"E3\" style=\"stroke: #383838; stroke-width: 1.5;\" width=\"66\" x=\"178\" y=\"154\"/><text fill=\"#000000\" font-family=\"sans-serif\" font-size=\"12\" font-style=\"italic\" lengthAdjust=\"spacingAndGlyphs\" textLength=\"64\" x=\"179\" y=\"170.1387\">«part def»</text><text fill=\"#000000\" font-family=\"sans-serif\" font-size=\"12\" lengthAdjust=\"spacingAndGlyphs\" textLength=\"8\" x=\"207\" y=\"184.1074\">A</text><line style=\"stroke: #383838; stroke-width: 1.5;\" x1=\"179\" x2=\"243\" y1=\"191.9375\" y2=\"191.9375\"/><polygon fill=\"#FFFFFF\" points=\"32,41,58,41,65,63.2969,72,63.2969,72,93.5938,32,93.5938,32,41\" style=\"stroke: #000000; stroke-width: 1.5;\"/><line style=\"stroke: #000000; stroke-width: 1.5;\" x1=\"32\" x2=\"65\" y1=\"63.2969\" y2=\"63.2969\"/><text fill=\"#000000\" font-family=\"sans-serif\" font-size=\"14\" font-weight=\"bold\" lengthAdjust=\"spacingAndGlyphs\" textLength=\"20\" x=\"36\" y=\"55.9951\">P2</text><!--MD5=[2156ba9850f5573cc1fc38a6a4b2f02b]\n",
       "class E7--><rect fill=\"#FFFFFF\" height=\"45.9375\" id=\"E7\" style=\"stroke: #383838; stroke-width: 1.5;\" width=\"66\" x=\"56\" y=\"154\"/><text fill=\"#000000\" font-family=\"sans-serif\" font-size=\"12\" font-style=\"italic\" lengthAdjust=\"spacingAndGlyphs\" textLength=\"64\" x=\"57\" y=\"170.1387\">«part def»</text><text fill=\"#000000\" font-family=\"sans-serif\" font-size=\"12\" lengthAdjust=\"spacingAndGlyphs\" textLength=\"8\" x=\"85\" y=\"184.1074\">B</text><line style=\"stroke: #383838; stroke-width: 1.5;\" x1=\"57\" x2=\"121\" y1=\"191.9375\" y2=\"191.9375\"/><!--MD5=[e9be52314489bd878ff4c7144b63c9e1]\n",
       "link E5 to E3--><path d=\"M211,90.51 C211,102.89 211,118.78 211,133.48 \" fill=\"none\" id=\"E5-&gt;E3\" style=\"stroke: #383838; stroke-width: 1.0;\"/><polygon fill=\"#FFFFFF\" points=\"211,153.65,204,134.65,218,134.65,211,153.65\" style=\"stroke: #383838; stroke-width: 1.0;\"/><ellipse cx=\"206\" cy=\"128.95\" fill=\"#383838\" rx=\"2\" ry=\"2\" style=\"stroke: #383838; stroke-width: 1.0;\"/><ellipse cx=\"216\" cy=\"128.95\" fill=\"#383838\" rx=\"2\" ry=\"2\" style=\"stroke: #383838; stroke-width: 1.0;\"/><!--MD5=[bfa3c8b0d15052fdf50ae9310b491027]\n",
       "link E8 to E7--><path d=\"M120.01,90.51 C115.39,103.25 109.42,119.7 103.96,134.76 \" fill=\"none\" id=\"E8-&gt;E7\" style=\"stroke: #383838; stroke-width: 1.0;\"/><polygon fill=\"#FFFFFF\" points=\"97.11,153.65,97.0036,133.4018,110.1656,138.1726,97.11,153.65\" style=\"stroke: #383838; stroke-width: 1.0;\"/><ellipse cx=\"100.8262\" cy=\"128.7245\" fill=\"#383838\" rx=\"2\" ry=\"2\" style=\"stroke: #383838; stroke-width: 1.0;\"/><ellipse cx=\"110.2277\" cy=\"132.1322\" fill=\"#383838\" rx=\"2\" ry=\"2\" style=\"stroke: #383838; stroke-width: 1.0;\"/><!--MD5=[730a3b6c1a03373c0d12972ca3ae0ff5]\n",
       "@startuml\r\n",
       "skinparam monochrome true\r\n",
       "skinparam classbackgroundcolor white\r\n",
       "skinparam shadowing false\r\n",
       "skinparam wrapWidth 300\r\n",
       "hide circle\r\n",
       "\r\n",
       "package \"PrivateImportTest\" as E1   {\r\n",
       "package \"P1\" as E2   {\r\n",
       "comp def \"A\" as E3  <<(T,blue)part def>> {\r\n",
       "}\r\n",
       "}\r\n",
       "package \"P2\" as E4   {\r\n",
       "}\r\n",
       "comp usage \"x: A\" as E5  <<(T,blue)part>> {\r\n",
       "}\r\n",
       "package \"P3\" as E6   {\r\n",
       "comp def \"B\" as E7  <<(T,blue)part def>> {\r\n",
       "}\r\n",
       "E5 - -:|> E3\r\n",
       "}\r\n",
       "comp usage \"z: B\" as E8  <<(T,blue)part>> {\r\n",
       "}\r\n",
       "E8 - -:|> E7\r\n",
       "}\r\n",
       "@enduml\r\n",
       "\n",
       "PlantUML version 1.2020.13(Sat Jun 13 12:26:38 UTC 2020)\n",
       "(EPL source distribution)\n",
       "Java Runtime: OpenJDK Runtime Environment\n",
       "JVM: OpenJDK 64-Bit Server VM\n",
       "Default Encoding: UTF-8\n",
       "Language: en\n",
       "Country: null\n",
       "--></g></svg>"
      ]
     },
     "execution_count": 38,
     "metadata": {},
     "output_type": "execute_result"
    }
   ],
   "source": [
    "%viz --style=\"DEFAULT\" --view=\"Tree\" \"PrivateImportTest\""
   ]
  },
  {
   "cell_type": "code",
   "execution_count": 39,
   "id": "hourly-ticket",
   "metadata": {
    "execution": {
     "iopub.execute_input": "2021-03-25T15:59:52.821624Z",
     "iopub.status.busy": "2021-03-25T15:59:52.821055Z",
     "iopub.status.idle": "2021-03-25T15:59:52.823160Z",
     "shell.execute_reply": "2021-03-25T15:59:52.823651Z"
    }
   },
   "outputs": [
    {
     "data": {
      "text/plain": [
       "java.lang.IllegalArgumentException: Invalid View: State View candidates are: Default Tree StateMachine Interconnection Activity Sequence MIXED \n",
       "\tat org.omg.sysml.plantuml.SysML2PlantUMLSvc.setView(SysML2PlantUMLSvc.java:63)\n",
       "\tat org.omg.sysml.interactive.SysMLInteractive.viz(SysMLInteractive.java:286)\n",
       "\tat org.omg.sysml.jupyter.kernel.magic.Viz.viz(Viz.java:47)\n",
       "\tat jdk.internal.reflect.GeneratedMethodAccessor8.invoke(Unknown Source)\n",
       "\tat java.base/jdk.internal.reflect.DelegatingMethodAccessorImpl.invoke(DelegatingMethodAccessorImpl.java:43)\n",
       "\tat java.base/java.lang.reflect.Method.invoke(Method.java:568)\n",
       "\tat io.github.spencerpark.jupyter.kernel.magic.registry.Magics.invoke(Magics.java:89)\n",
       "\tat io.github.spencerpark.jupyter.kernel.magic.registry.Magics.access$000(Magics.java:8)\n",
       "\tat io.github.spencerpark.jupyter.kernel.magic.registry.Magics$LineReflectionMagicFunction.execute(Magics.java:149)\n",
       "\tat io.github.spencerpark.jupyter.kernel.magic.registry.Magics.applyLineMagic(Magics.java:26)\n",
       "\tat org.omg.sysml.jupyter.kernel.SysMLKernel.eval(SysMLKernel.java:76)\n",
       "\tat io.github.spencerpark.jupyter.kernel.BaseKernel.handleExecuteRequest(BaseKernel.java:334)\n",
       "\tat io.github.spencerpark.jupyter.channels.ShellChannel.lambda$bind$0(ShellChannel.java:64)\n",
       "\tat io.github.spencerpark.jupyter.channels.Loop.lambda$new$0(Loop.java:21)\n",
       "\tat io.github.spencerpark.jupyter.channels.Loop.run(Loop.java:78)\n"
      ]
     },
     "execution_count": 39,
     "metadata": {},
     "output_type": "execute_result"
    }
   ],
   "source": [
    "%viz --style=\"DEFAULT\" --view=\"State\" \"PrivateImportTest\""
   ]
  },
  {
   "cell_type": "code",
   "execution_count": 40,
   "id": "manufactured-billy",
   "metadata": {
    "execution": {
     "iopub.execute_input": "2021-03-25T15:59:52.875139Z",
     "iopub.status.busy": "2021-03-25T15:59:52.874568Z",
     "iopub.status.idle": "2021-03-25T15:59:52.957805Z",
     "shell.execute_reply": "2021-03-25T15:59:52.957407Z"
    }
   },
   "outputs": [
    {
     "data": {
      "image/svg+xml": [
       "<?xml version=\"1.0\" encoding=\"UTF-8\" standalone=\"no\"?><svg xmlns=\"http://www.w3.org/2000/svg\" xmlns:xlink=\"http://www.w3.org/1999/xlink\" contentScriptType=\"application/ecmascript\" contentStyleType=\"text/css\" height=\"189px\" preserveAspectRatio=\"none\" style=\"width:579px;height:189px;\" version=\"1.1\" viewBox=\"0 0 579 189\" width=\"579px\" zoomAndPan=\"magnify\"><defs/><g><!--MD5=[fbc87193dbaf4d95561dea2c320d4a47]\n",
       "cluster E1--><polygon fill=\"#FFFFFF\" points=\"16,6,163,6,170,28.2969,557,28.2969,557,177,16,177,16,6\" style=\"stroke: #000000; stroke-width: 1.5;\"/><line style=\"stroke: #000000; stroke-width: 1.5;\" x1=\"16\" x2=\"170\" y1=\"28.2969\" y2=\"28.2969\"/><text fill=\"#000000\" font-family=\"sans-serif\" font-size=\"14\" font-weight=\"bold\" lengthAdjust=\"spacingAndGlyphs\" textLength=\"141\" x=\"20\" y=\"20.9951\">PrivateImportTest</text><!--MD5=[e4f7fae6ed58524ba242bb0b0d3be6b7]\n",
       "cluster E2--><polygon fill=\"#FFFFFF\" points=\"409,49,435,49,442,71.2969,533,71.2969,533,153,409,153,409,49\" style=\"stroke: #000000; stroke-width: 1.5;\"/><line style=\"stroke: #000000; stroke-width: 1.5;\" x1=\"409\" x2=\"442\" y1=\"71.2969\" y2=\"71.2969\"/><text fill=\"#000000\" font-family=\"sans-serif\" font-size=\"14\" font-weight=\"bold\" lengthAdjust=\"spacingAndGlyphs\" textLength=\"20\" x=\"413\" y=\"63.9951\">P1</text><!--MD5=[14e3b0961a2654348d326746436168a1]\n",
       "cluster E6--><polygon fill=\"#FFFFFF\" points=\"261,49,287,49,294,71.2969,385,71.2969,385,153,261,153,261,49\" style=\"stroke: #000000; stroke-width: 1.5;\"/><line style=\"stroke: #000000; stroke-width: 1.5;\" x1=\"261\" x2=\"294\" y1=\"71.2969\" y2=\"71.2969\"/><text fill=\"#000000\" font-family=\"sans-serif\" font-size=\"14\" font-weight=\"bold\" lengthAdjust=\"spacingAndGlyphs\" textLength=\"20\" x=\"265\" y=\"63.9951\">P3</text><!--MD5=[a60fb756f580feb9fd8e2cf1329b5c91]\n",
       "entity E3--><rect fill=\"#FFFFFF\" height=\"52.5938\" style=\"stroke: #000000; stroke-width: 1.5;\" width=\"91\" x=\"425.5\" y=\"84\"/><text fill=\"#000000\" font-family=\"sans-serif\" font-size=\"14\" font-style=\"italic\" lengthAdjust=\"spacingAndGlyphs\" textLength=\"71\" x=\"435.5\" y=\"106.9951\">«part def»</text><text fill=\"#000000\" font-family=\"sans-serif\" font-size=\"14\" lengthAdjust=\"spacingAndGlyphs\" textLength=\"9\" x=\"466.5\" y=\"123.292\">A</text><polygon fill=\"#FFFFFF\" points=\"202,84,228,84,235,106.2969,242,106.2969,242,136.5938,202,136.5938,202,84\" style=\"stroke: #000000; stroke-width: 1.5;\"/><line style=\"stroke: #000000; stroke-width: 1.5;\" x1=\"202\" x2=\"235\" y1=\"106.2969\" y2=\"106.2969\"/><text fill=\"#000000\" font-family=\"sans-serif\" font-size=\"14\" font-weight=\"bold\" lengthAdjust=\"spacingAndGlyphs\" textLength=\"20\" x=\"206\" y=\"98.9951\">P2</text><g id=\"E1.E5\"><rect fill=\"#FFFFFF\" height=\"50\" rx=\"12.5\" ry=\"12.5\" style=\"stroke: #383838; stroke-width: 1.5;\" width=\"50\" x=\"117\" y=\"85.5\"/><line style=\"stroke: #383838; stroke-width: 1.5;\" x1=\"117\" x2=\"167\" y1=\"111.7969\" y2=\"111.7969\"/><text fill=\"#000000\" font-family=\"sans-serif\" font-size=\"14\" lengthAdjust=\"spacingAndGlyphs\" textLength=\"25\" x=\"129.5\" y=\"103.4951\">x: A</text></g><!--MD5=[9c5f31f192441de4a59826ec090dc00a]\n",
       "entity E7--><rect fill=\"#FFFFFF\" height=\"52.5938\" style=\"stroke: #000000; stroke-width: 1.5;\" width=\"91\" x=\"277.5\" y=\"84\"/><text fill=\"#000000\" font-family=\"sans-serif\" font-size=\"14\" font-style=\"italic\" lengthAdjust=\"spacingAndGlyphs\" textLength=\"71\" x=\"287.5\" y=\"106.9951\">«part def»</text><text fill=\"#000000\" font-family=\"sans-serif\" font-size=\"14\" lengthAdjust=\"spacingAndGlyphs\" textLength=\"10\" x=\"318\" y=\"123.292\">B</text><g id=\"E1.E8\"><rect fill=\"#FFFFFF\" height=\"50\" rx=\"12.5\" ry=\"12.5\" style=\"stroke: #383838; stroke-width: 1.5;\" width=\"50\" x=\"32\" y=\"85.5\"/><line style=\"stroke: #383838; stroke-width: 1.5;\" x1=\"32\" x2=\"82\" y1=\"111.7969\" y2=\"111.7969\"/><text fill=\"#000000\" font-family=\"sans-serif\" font-size=\"14\" lengthAdjust=\"spacingAndGlyphs\" textLength=\"27\" x=\"43.5\" y=\"103.4951\">z: B</text></g><!--MD5=[aaaf583425508b74fcb20826ff78868f]\n",
       "@startuml\r\n",
       "skinparam ranksep 8\r\n",
       "skinparam rectangle {\r\n",
       " backgroundColor<<block>> LightGreen\r\n",
       "}\r\n",
       "skinparam monochrome true\r\n",
       "skinparam classbackgroundcolor white\r\n",
       "skinparam shadowing false\r\n",
       "skinparam wrapWidth 300\r\n",
       "hide circle\r\n",
       "\r\n",
       "package \"PrivateImportTest\" as E1   {\r\n",
       "package \"P1\" as E2   {\r\n",
       "rec def \"A\" as E3  <<part def>> {\r\n",
       "}\r\n",
       "}\r\n",
       "package \"P2\" as E4   {\r\n",
       "}\r\n",
       "rec usage \"x: A\" as E5  {\r\n",
       "}\r\n",
       "package \"P3\" as E6   {\r\n",
       "rec def \"B\" as E7  <<part def>> {\r\n",
       "}\r\n",
       "}\r\n",
       "rec usage \"z: B\" as E8  {\r\n",
       "}\r\n",
       "}\r\n",
       "@enduml\r\n",
       "\n",
       "PlantUML version 1.2020.13(Sat Jun 13 12:26:38 UTC 2020)\n",
       "(EPL source distribution)\n",
       "Java Runtime: OpenJDK Runtime Environment\n",
       "JVM: OpenJDK 64-Bit Server VM\n",
       "Default Encoding: UTF-8\n",
       "Language: en\n",
       "Country: null\n",
       "--></g></svg>"
      ]
     },
     "execution_count": 40,
     "metadata": {},
     "output_type": "execute_result"
    }
   ],
   "source": [
    "%viz --style=\"DEFAULT\" --view=\"Interconnection\" \"PrivateImportTest\""
   ]
  },
  {
   "cell_type": "code",
   "execution_count": 41,
   "id": "curious-madagascar",
   "metadata": {
    "execution": {
     "iopub.execute_input": "2021-03-25T15:59:53.010084Z",
     "iopub.status.busy": "2021-03-25T15:59:53.009437Z",
     "iopub.status.idle": "2021-03-25T15:59:53.011888Z",
     "shell.execute_reply": "2021-03-25T15:59:53.012359Z"
    }
   },
   "outputs": [
    {
     "data": {
      "text/plain": [
       "java.lang.IllegalArgumentException: Invalid View: Action View candidates are: Default Tree StateMachine Interconnection Activity Sequence MIXED \n",
       "\tat org.omg.sysml.plantuml.SysML2PlantUMLSvc.setView(SysML2PlantUMLSvc.java:63)\n",
       "\tat org.omg.sysml.interactive.SysMLInteractive.viz(SysMLInteractive.java:286)\n",
       "\tat org.omg.sysml.jupyter.kernel.magic.Viz.viz(Viz.java:47)\n",
       "\tat jdk.internal.reflect.GeneratedMethodAccessor8.invoke(Unknown Source)\n",
       "\tat java.base/jdk.internal.reflect.DelegatingMethodAccessorImpl.invoke(DelegatingMethodAccessorImpl.java:43)\n",
       "\tat java.base/java.lang.reflect.Method.invoke(Method.java:568)\n",
       "\tat io.github.spencerpark.jupyter.kernel.magic.registry.Magics.invoke(Magics.java:89)\n",
       "\tat io.github.spencerpark.jupyter.kernel.magic.registry.Magics.access$000(Magics.java:8)\n",
       "\tat io.github.spencerpark.jupyter.kernel.magic.registry.Magics$LineReflectionMagicFunction.execute(Magics.java:149)\n",
       "\tat io.github.spencerpark.jupyter.kernel.magic.registry.Magics.applyLineMagic(Magics.java:26)\n",
       "\tat org.omg.sysml.jupyter.kernel.SysMLKernel.eval(SysMLKernel.java:76)\n",
       "\tat io.github.spencerpark.jupyter.kernel.BaseKernel.handleExecuteRequest(BaseKernel.java:334)\n",
       "\tat io.github.spencerpark.jupyter.channels.ShellChannel.lambda$bind$0(ShellChannel.java:64)\n",
       "\tat io.github.spencerpark.jupyter.channels.Loop.lambda$new$0(Loop.java:21)\n",
       "\tat io.github.spencerpark.jupyter.channels.Loop.run(Loop.java:78)\n"
      ]
     },
     "execution_count": 41,
     "metadata": {},
     "output_type": "execute_result"
    }
   ],
   "source": [
    "%viz --style=\"DEFAULT\" --view=\"Action\" \"PrivateImportTest\""
   ]
  },
  {
   "cell_type": "code",
   "execution_count": 42,
   "id": "structural-maryland",
   "metadata": {
    "execution": {
     "iopub.execute_input": "2021-03-25T15:59:53.063298Z",
     "iopub.status.busy": "2021-03-25T15:59:53.062862Z",
     "iopub.status.idle": "2021-03-25T15:59:53.129985Z",
     "shell.execute_reply": "2021-03-25T15:59:53.127882Z"
    }
   },
   "outputs": [
    {
     "data": {
      "image/svg+xml": [
       "<?xml version=\"1.0\" encoding=\"UTF-8\" standalone=\"no\"?><svg xmlns=\"http://www.w3.org/2000/svg\" xmlns:xlink=\"http://www.w3.org/1999/xlink\" contentScriptType=\"application/ecmascript\" contentStyleType=\"text/css\" height=\"252px\" preserveAspectRatio=\"none\" style=\"width:306px;height:252px;\" version=\"1.1\" viewBox=\"0 0 306 252\" width=\"306px\" zoomAndPan=\"magnify\"><defs/><g><!--MD5=[fbc87193dbaf4d95561dea2c320d4a47]\n",
       "cluster E1--><polygon fill=\"#FFFFFF\" points=\"16,6,163,6,170,28.2969,284,28.2969,284,240,16,240,16,6\" style=\"stroke: #000000; stroke-width: 1.5;\"/><line style=\"stroke: #000000; stroke-width: 1.5;\" x1=\"16\" x2=\"170\" y1=\"28.2969\" y2=\"28.2969\"/><text fill=\"#000000\" font-family=\"sans-serif\" font-size=\"14\" font-weight=\"bold\" lengthAdjust=\"spacingAndGlyphs\" textLength=\"141\" x=\"20\" y=\"20.9951\">PrivateImportTest</text><!--MD5=[e4f7fae6ed58524ba242bb0b0d3be6b7]\n",
       "cluster E2--><polygon fill=\"#FFFFFF\" points=\"162,119,188,119,195,141.2969,260,141.2969,260,216,162,216,162,119\" style=\"stroke: #000000; stroke-width: 1.5;\"/><line style=\"stroke: #000000; stroke-width: 1.5;\" x1=\"162\" x2=\"195\" y1=\"141.2969\" y2=\"141.2969\"/><text fill=\"#000000\" font-family=\"sans-serif\" font-size=\"14\" font-weight=\"bold\" lengthAdjust=\"spacingAndGlyphs\" textLength=\"20\" x=\"166\" y=\"133.9951\">P1</text><!--MD5=[14e3b0961a2654348d326746436168a1]\n",
       "cluster E6--><polygon fill=\"#FFFFFF\" points=\"40,119,66,119,73,141.2969,138,141.2969,138,216,40,216,40,119\" style=\"stroke: #000000; stroke-width: 1.5;\"/><line style=\"stroke: #000000; stroke-width: 1.5;\" x1=\"40\" x2=\"73\" y1=\"141.2969\" y2=\"141.2969\"/><text fill=\"#000000\" font-family=\"sans-serif\" font-size=\"14\" font-weight=\"bold\" lengthAdjust=\"spacingAndGlyphs\" textLength=\"20\" x=\"44\" y=\"133.9951\">P3</text><!--MD5=[270fce915f116d4de14055a7c1d9a0f3]\n",
       "class E5--><rect fill=\"#FFFFFF\" height=\"45.9375\" id=\"E5\" rx=\"10\" ry=\"10\" style=\"stroke: #383838; stroke-width: 1.5;\" width=\"42\" x=\"190\" y=\"44.5\"/><text fill=\"#000000\" font-family=\"sans-serif\" font-size=\"12\" font-style=\"italic\" lengthAdjust=\"spacingAndGlyphs\" textLength=\"40\" x=\"191\" y=\"60.6387\">«part»</text><text fill=\"#000000\" font-family=\"sans-serif\" font-size=\"12\" lengthAdjust=\"spacingAndGlyphs\" textLength=\"22\" x=\"200\" y=\"74.6074\">x: A</text><line style=\"stroke: #383838; stroke-width: 1.5;\" x1=\"191\" x2=\"231\" y1=\"82.4375\" y2=\"82.4375\"/><!--MD5=[b9389687b975829384b498ac4b7476b2]\n",
       "class E8--><rect fill=\"#FFFFFF\" height=\"45.9375\" id=\"E8\" rx=\"10\" ry=\"10\" style=\"stroke: #383838; stroke-width: 1.5;\" width=\"42\" x=\"107\" y=\"44.5\"/><text fill=\"#000000\" font-family=\"sans-serif\" font-size=\"12\" font-style=\"italic\" lengthAdjust=\"spacingAndGlyphs\" textLength=\"40\" x=\"108\" y=\"60.6387\">«part»</text><text fill=\"#000000\" font-family=\"sans-serif\" font-size=\"12\" lengthAdjust=\"spacingAndGlyphs\" textLength=\"21\" x=\"117.5\" y=\"74.6074\">z: B</text><line style=\"stroke: #383838; stroke-width: 1.5;\" x1=\"108\" x2=\"148\" y1=\"82.4375\" y2=\"82.4375\"/><!--MD5=[09b614a08d8cba4a07c9adeb5e0fee81]\n",
       "class E3--><rect fill=\"#FFFFFF\" height=\"45.9375\" id=\"E3\" style=\"stroke: #383838; stroke-width: 1.5;\" width=\"66\" x=\"178\" y=\"154\"/><text fill=\"#000000\" font-family=\"sans-serif\" font-size=\"12\" font-style=\"italic\" lengthAdjust=\"spacingAndGlyphs\" textLength=\"64\" x=\"179\" y=\"170.1387\">«part def»</text><text fill=\"#000000\" font-family=\"sans-serif\" font-size=\"12\" lengthAdjust=\"spacingAndGlyphs\" textLength=\"8\" x=\"207\" y=\"184.1074\">A</text><line style=\"stroke: #383838; stroke-width: 1.5;\" x1=\"179\" x2=\"243\" y1=\"191.9375\" y2=\"191.9375\"/><polygon fill=\"#FFFFFF\" points=\"32,41,58,41,65,63.2969,72,63.2969,72,93.5938,32,93.5938,32,41\" style=\"stroke: #000000; stroke-width: 1.5;\"/><line style=\"stroke: #000000; stroke-width: 1.5;\" x1=\"32\" x2=\"65\" y1=\"63.2969\" y2=\"63.2969\"/><text fill=\"#000000\" font-family=\"sans-serif\" font-size=\"14\" font-weight=\"bold\" lengthAdjust=\"spacingAndGlyphs\" textLength=\"20\" x=\"36\" y=\"55.9951\">P2</text><!--MD5=[2156ba9850f5573cc1fc38a6a4b2f02b]\n",
       "class E7--><rect fill=\"#FFFFFF\" height=\"45.9375\" id=\"E7\" style=\"stroke: #383838; stroke-width: 1.5;\" width=\"66\" x=\"56\" y=\"154\"/><text fill=\"#000000\" font-family=\"sans-serif\" font-size=\"12\" font-style=\"italic\" lengthAdjust=\"spacingAndGlyphs\" textLength=\"64\" x=\"57\" y=\"170.1387\">«part def»</text><text fill=\"#000000\" font-family=\"sans-serif\" font-size=\"12\" lengthAdjust=\"spacingAndGlyphs\" textLength=\"8\" x=\"85\" y=\"184.1074\">B</text><line style=\"stroke: #383838; stroke-width: 1.5;\" x1=\"57\" x2=\"121\" y1=\"191.9375\" y2=\"191.9375\"/><!--MD5=[e9be52314489bd878ff4c7144b63c9e1]\n",
       "link E5 to E3--><path d=\"M211,90.51 C211,102.89 211,118.78 211,133.48 \" fill=\"none\" id=\"E5-&gt;E3\" style=\"stroke: #383838; stroke-width: 1.0;\"/><polygon fill=\"#FFFFFF\" points=\"211,153.65,204,134.65,218,134.65,211,153.65\" style=\"stroke: #383838; stroke-width: 1.0;\"/><ellipse cx=\"206\" cy=\"128.95\" fill=\"#383838\" rx=\"2\" ry=\"2\" style=\"stroke: #383838; stroke-width: 1.0;\"/><ellipse cx=\"216\" cy=\"128.95\" fill=\"#383838\" rx=\"2\" ry=\"2\" style=\"stroke: #383838; stroke-width: 1.0;\"/><!--MD5=[bfa3c8b0d15052fdf50ae9310b491027]\n",
       "link E8 to E7--><path d=\"M120.01,90.51 C115.39,103.25 109.42,119.7 103.96,134.76 \" fill=\"none\" id=\"E8-&gt;E7\" style=\"stroke: #383838; stroke-width: 1.0;\"/><polygon fill=\"#FFFFFF\" points=\"97.11,153.65,97.0036,133.4018,110.1656,138.1726,97.11,153.65\" style=\"stroke: #383838; stroke-width: 1.0;\"/><ellipse cx=\"100.8262\" cy=\"128.7245\" fill=\"#383838\" rx=\"2\" ry=\"2\" style=\"stroke: #383838; stroke-width: 1.0;\"/><ellipse cx=\"110.2277\" cy=\"132.1322\" fill=\"#383838\" rx=\"2\" ry=\"2\" style=\"stroke: #383838; stroke-width: 1.0;\"/><!--MD5=[730a3b6c1a03373c0d12972ca3ae0ff5]\n",
       "@startuml\r\n",
       "skinparam monochrome true\r\n",
       "skinparam classbackgroundcolor white\r\n",
       "skinparam shadowing false\r\n",
       "skinparam wrapWidth 300\r\n",
       "hide circle\r\n",
       "\r\n",
       "package \"PrivateImportTest\" as E1   {\r\n",
       "package \"P1\" as E2   {\r\n",
       "comp def \"A\" as E3  <<(T,blue)part def>> {\r\n",
       "}\r\n",
       "}\r\n",
       "package \"P2\" as E4   {\r\n",
       "}\r\n",
       "comp usage \"x: A\" as E5  <<(T,blue)part>> {\r\n",
       "}\r\n",
       "package \"P3\" as E6   {\r\n",
       "comp def \"B\" as E7  <<(T,blue)part def>> {\r\n",
       "}\r\n",
       "E5 - -:|> E3\r\n",
       "}\r\n",
       "comp usage \"z: B\" as E8  <<(T,blue)part>> {\r\n",
       "}\r\n",
       "E8 - -:|> E7\r\n",
       "}\r\n",
       "@enduml\r\n",
       "\n",
       "PlantUML version 1.2020.13(Sat Jun 13 12:26:38 UTC 2020)\n",
       "(EPL source distribution)\n",
       "Java Runtime: OpenJDK Runtime Environment\n",
       "JVM: OpenJDK 64-Bit Server VM\n",
       "Default Encoding: UTF-8\n",
       "Language: en\n",
       "Country: null\n",
       "--></g></svg>"
      ]
     },
     "execution_count": 42,
     "metadata": {},
     "output_type": "execute_result"
    }
   ],
   "source": [
    "%viz --style=\"DEFAULT\" --view=\"Sequence\" \"PrivateImportTest\""
   ]
  },
  {
   "cell_type": "code",
   "execution_count": 43,
   "id": "similar-convenience",
   "metadata": {
    "execution": {
     "iopub.execute_input": "2021-03-25T15:59:53.180951Z",
     "iopub.status.busy": "2021-03-25T15:59:53.180029Z",
     "iopub.status.idle": "2021-03-25T15:59:53.247189Z",
     "shell.execute_reply": "2021-03-25T15:59:53.245708Z"
    }
   },
   "outputs": [
    {
     "data": {
      "image/svg+xml": [
       "<?xml version=\"1.0\" encoding=\"UTF-8\" standalone=\"no\"?><svg xmlns=\"http://www.w3.org/2000/svg\" xmlns:xlink=\"http://www.w3.org/1999/xlink\" contentScriptType=\"application/ecmascript\" contentStyleType=\"text/css\" height=\"252px\" preserveAspectRatio=\"none\" style=\"width:306px;height:252px;\" version=\"1.1\" viewBox=\"0 0 306 252\" width=\"306px\" zoomAndPan=\"magnify\"><defs/><g><!--MD5=[fbc87193dbaf4d95561dea2c320d4a47]\n",
       "cluster E1--><polygon fill=\"#FFFFFF\" points=\"16,6,163,6,170,28.2969,284,28.2969,284,240,16,240,16,6\" style=\"stroke: #000000; stroke-width: 1.5;\"/><line style=\"stroke: #000000; stroke-width: 1.5;\" x1=\"16\" x2=\"170\" y1=\"28.2969\" y2=\"28.2969\"/><text fill=\"#000000\" font-family=\"sans-serif\" font-size=\"14\" font-weight=\"bold\" lengthAdjust=\"spacingAndGlyphs\" textLength=\"141\" x=\"20\" y=\"20.9951\">PrivateImportTest</text><!--MD5=[e4f7fae6ed58524ba242bb0b0d3be6b7]\n",
       "cluster E2--><polygon fill=\"#FFFFFF\" points=\"162,119,188,119,195,141.2969,260,141.2969,260,216,162,216,162,119\" style=\"stroke: #000000; stroke-width: 1.5;\"/><line style=\"stroke: #000000; stroke-width: 1.5;\" x1=\"162\" x2=\"195\" y1=\"141.2969\" y2=\"141.2969\"/><text fill=\"#000000\" font-family=\"sans-serif\" font-size=\"14\" font-weight=\"bold\" lengthAdjust=\"spacingAndGlyphs\" textLength=\"20\" x=\"166\" y=\"133.9951\">P1</text><!--MD5=[14e3b0961a2654348d326746436168a1]\n",
       "cluster E6--><polygon fill=\"#FFFFFF\" points=\"40,119,66,119,73,141.2969,138,141.2969,138,216,40,216,40,119\" style=\"stroke: #000000; stroke-width: 1.5;\"/><line style=\"stroke: #000000; stroke-width: 1.5;\" x1=\"40\" x2=\"73\" y1=\"141.2969\" y2=\"141.2969\"/><text fill=\"#000000\" font-family=\"sans-serif\" font-size=\"14\" font-weight=\"bold\" lengthAdjust=\"spacingAndGlyphs\" textLength=\"20\" x=\"44\" y=\"133.9951\">P3</text><!--MD5=[270fce915f116d4de14055a7c1d9a0f3]\n",
       "class E5--><rect fill=\"#FFFFFF\" height=\"45.9375\" id=\"E5\" rx=\"10\" ry=\"10\" style=\"stroke: #383838; stroke-width: 1.5;\" width=\"42\" x=\"190\" y=\"44.5\"/><text fill=\"#000000\" font-family=\"sans-serif\" font-size=\"12\" font-style=\"italic\" lengthAdjust=\"spacingAndGlyphs\" textLength=\"40\" x=\"191\" y=\"60.6387\">«part»</text><text fill=\"#000000\" font-family=\"sans-serif\" font-size=\"12\" lengthAdjust=\"spacingAndGlyphs\" textLength=\"22\" x=\"200\" y=\"74.6074\">x: A</text><line style=\"stroke: #383838; stroke-width: 1.5;\" x1=\"191\" x2=\"231\" y1=\"82.4375\" y2=\"82.4375\"/><!--MD5=[b9389687b975829384b498ac4b7476b2]\n",
       "class E8--><rect fill=\"#FFFFFF\" height=\"45.9375\" id=\"E8\" rx=\"10\" ry=\"10\" style=\"stroke: #383838; stroke-width: 1.5;\" width=\"42\" x=\"107\" y=\"44.5\"/><text fill=\"#000000\" font-family=\"sans-serif\" font-size=\"12\" font-style=\"italic\" lengthAdjust=\"spacingAndGlyphs\" textLength=\"40\" x=\"108\" y=\"60.6387\">«part»</text><text fill=\"#000000\" font-family=\"sans-serif\" font-size=\"12\" lengthAdjust=\"spacingAndGlyphs\" textLength=\"21\" x=\"117.5\" y=\"74.6074\">z: B</text><line style=\"stroke: #383838; stroke-width: 1.5;\" x1=\"108\" x2=\"148\" y1=\"82.4375\" y2=\"82.4375\"/><!--MD5=[09b614a08d8cba4a07c9adeb5e0fee81]\n",
       "class E3--><rect fill=\"#FFFFFF\" height=\"45.9375\" id=\"E3\" style=\"stroke: #383838; stroke-width: 1.5;\" width=\"66\" x=\"178\" y=\"154\"/><text fill=\"#000000\" font-family=\"sans-serif\" font-size=\"12\" font-style=\"italic\" lengthAdjust=\"spacingAndGlyphs\" textLength=\"64\" x=\"179\" y=\"170.1387\">«part def»</text><text fill=\"#000000\" font-family=\"sans-serif\" font-size=\"12\" lengthAdjust=\"spacingAndGlyphs\" textLength=\"8\" x=\"207\" y=\"184.1074\">A</text><line style=\"stroke: #383838; stroke-width: 1.5;\" x1=\"179\" x2=\"243\" y1=\"191.9375\" y2=\"191.9375\"/><polygon fill=\"#FFFFFF\" points=\"32,41,58,41,65,63.2969,72,63.2969,72,93.5938,32,93.5938,32,41\" style=\"stroke: #000000; stroke-width: 1.5;\"/><line style=\"stroke: #000000; stroke-width: 1.5;\" x1=\"32\" x2=\"65\" y1=\"63.2969\" y2=\"63.2969\"/><text fill=\"#000000\" font-family=\"sans-serif\" font-size=\"14\" font-weight=\"bold\" lengthAdjust=\"spacingAndGlyphs\" textLength=\"20\" x=\"36\" y=\"55.9951\">P2</text><!--MD5=[2156ba9850f5573cc1fc38a6a4b2f02b]\n",
       "class E7--><rect fill=\"#FFFFFF\" height=\"45.9375\" id=\"E7\" style=\"stroke: #383838; stroke-width: 1.5;\" width=\"66\" x=\"56\" y=\"154\"/><text fill=\"#000000\" font-family=\"sans-serif\" font-size=\"12\" font-style=\"italic\" lengthAdjust=\"spacingAndGlyphs\" textLength=\"64\" x=\"57\" y=\"170.1387\">«part def»</text><text fill=\"#000000\" font-family=\"sans-serif\" font-size=\"12\" lengthAdjust=\"spacingAndGlyphs\" textLength=\"8\" x=\"85\" y=\"184.1074\">B</text><line style=\"stroke: #383838; stroke-width: 1.5;\" x1=\"57\" x2=\"121\" y1=\"191.9375\" y2=\"191.9375\"/><!--MD5=[e9be52314489bd878ff4c7144b63c9e1]\n",
       "link E5 to E3--><path d=\"M211,90.51 C211,102.89 211,118.78 211,133.48 \" fill=\"none\" id=\"E5-&gt;E3\" style=\"stroke: #383838; stroke-width: 1.0;\"/><polygon fill=\"#FFFFFF\" points=\"211,153.65,204,134.65,218,134.65,211,153.65\" style=\"stroke: #383838; stroke-width: 1.0;\"/><ellipse cx=\"206\" cy=\"128.95\" fill=\"#383838\" rx=\"2\" ry=\"2\" style=\"stroke: #383838; stroke-width: 1.0;\"/><ellipse cx=\"216\" cy=\"128.95\" fill=\"#383838\" rx=\"2\" ry=\"2\" style=\"stroke: #383838; stroke-width: 1.0;\"/><!--MD5=[bfa3c8b0d15052fdf50ae9310b491027]\n",
       "link E8 to E7--><path d=\"M120.01,90.51 C115.39,103.25 109.42,119.7 103.96,134.76 \" fill=\"none\" id=\"E8-&gt;E7\" style=\"stroke: #383838; stroke-width: 1.0;\"/><polygon fill=\"#FFFFFF\" points=\"97.11,153.65,97.0036,133.4018,110.1656,138.1726,97.11,153.65\" style=\"stroke: #383838; stroke-width: 1.0;\"/><ellipse cx=\"100.8262\" cy=\"128.7245\" fill=\"#383838\" rx=\"2\" ry=\"2\" style=\"stroke: #383838; stroke-width: 1.0;\"/><ellipse cx=\"110.2277\" cy=\"132.1322\" fill=\"#383838\" rx=\"2\" ry=\"2\" style=\"stroke: #383838; stroke-width: 1.0;\"/><!--MD5=[730a3b6c1a03373c0d12972ca3ae0ff5]\n",
       "@startuml\r\n",
       "skinparam monochrome true\r\n",
       "skinparam classbackgroundcolor white\r\n",
       "skinparam shadowing false\r\n",
       "skinparam wrapWidth 300\r\n",
       "hide circle\r\n",
       "\r\n",
       "package \"PrivateImportTest\" as E1   {\r\n",
       "package \"P1\" as E2   {\r\n",
       "comp def \"A\" as E3  <<(T,blue)part def>> {\r\n",
       "}\r\n",
       "}\r\n",
       "package \"P2\" as E4   {\r\n",
       "}\r\n",
       "comp usage \"x: A\" as E5  <<(T,blue)part>> {\r\n",
       "}\r\n",
       "package \"P3\" as E6   {\r\n",
       "comp def \"B\" as E7  <<(T,blue)part def>> {\r\n",
       "}\r\n",
       "E5 - -:|> E3\r\n",
       "}\r\n",
       "comp usage \"z: B\" as E8  <<(T,blue)part>> {\r\n",
       "}\r\n",
       "E8 - -:|> E7\r\n",
       "}\r\n",
       "@enduml\r\n",
       "\n",
       "PlantUML version 1.2020.13(Sat Jun 13 12:26:38 UTC 2020)\n",
       "(EPL source distribution)\n",
       "Java Runtime: OpenJDK Runtime Environment\n",
       "JVM: OpenJDK 64-Bit Server VM\n",
       "Default Encoding: UTF-8\n",
       "Language: en\n",
       "Country: null\n",
       "--></g></svg>"
      ]
     },
     "execution_count": 43,
     "metadata": {},
     "output_type": "execute_result"
    }
   ],
   "source": [
    "%viz --style=\"DEFAULT\" --view=\"MIXED\" \"PrivateImportTest\""
   ]
  },
  {
   "cell_type": "code",
   "execution_count": 44,
   "id": "military-aruba",
   "metadata": {
    "execution": {
     "iopub.execute_input": "2021-03-25T15:59:53.298686Z",
     "iopub.status.busy": "2021-03-25T15:59:53.298137Z",
     "iopub.status.idle": "2021-03-25T15:59:53.364164Z",
     "shell.execute_reply": "2021-03-25T15:59:53.362402Z"
    }
   },
   "outputs": [
    {
     "data": {
      "image/svg+xml": [
       "<?xml version=\"1.0\" encoding=\"UTF-8\" standalone=\"no\"?><svg xmlns=\"http://www.w3.org/2000/svg\" xmlns:xlink=\"http://www.w3.org/1999/xlink\" contentScriptType=\"application/ecmascript\" contentStyleType=\"text/css\" height=\"252px\" preserveAspectRatio=\"none\" style=\"width:306px;height:252px;\" version=\"1.1\" viewBox=\"0 0 306 252\" width=\"306px\" zoomAndPan=\"magnify\"><defs/><g><!--MD5=[fbc87193dbaf4d95561dea2c320d4a47]\n",
       "cluster E1--><polygon fill=\"#FFFFFF\" points=\"16,6,163,6,170,28.2969,284,28.2969,284,240,16,240,16,6\" style=\"stroke: #000000; stroke-width: 1.5;\"/><line style=\"stroke: #000000; stroke-width: 1.5;\" x1=\"16\" x2=\"170\" y1=\"28.2969\" y2=\"28.2969\"/><text fill=\"#000000\" font-family=\"sans-serif\" font-size=\"14\" font-weight=\"bold\" lengthAdjust=\"spacingAndGlyphs\" textLength=\"141\" x=\"20\" y=\"20.9951\">PrivateImportTest</text><!--MD5=[e4f7fae6ed58524ba242bb0b0d3be6b7]\n",
       "cluster E2--><polygon fill=\"#FFFFFF\" points=\"162,119,188,119,195,141.2969,260,141.2969,260,216,162,216,162,119\" style=\"stroke: #000000; stroke-width: 1.5;\"/><line style=\"stroke: #000000; stroke-width: 1.5;\" x1=\"162\" x2=\"195\" y1=\"141.2969\" y2=\"141.2969\"/><text fill=\"#000000\" font-family=\"sans-serif\" font-size=\"14\" font-weight=\"bold\" lengthAdjust=\"spacingAndGlyphs\" textLength=\"20\" x=\"166\" y=\"133.9951\">P1</text><!--MD5=[14e3b0961a2654348d326746436168a1]\n",
       "cluster E6--><polygon fill=\"#FFFFFF\" points=\"40,119,66,119,73,141.2969,138,141.2969,138,216,40,216,40,119\" style=\"stroke: #000000; stroke-width: 1.5;\"/><line style=\"stroke: #000000; stroke-width: 1.5;\" x1=\"40\" x2=\"73\" y1=\"141.2969\" y2=\"141.2969\"/><text fill=\"#000000\" font-family=\"sans-serif\" font-size=\"14\" font-weight=\"bold\" lengthAdjust=\"spacingAndGlyphs\" textLength=\"20\" x=\"44\" y=\"133.9951\">P3</text><!--MD5=[270fce915f116d4de14055a7c1d9a0f3]\n",
       "class E5--><rect fill=\"#FFFFFF\" height=\"45.9375\" id=\"E5\" rx=\"10\" ry=\"10\" style=\"stroke: #383838; stroke-width: 1.5;\" width=\"42\" x=\"190\" y=\"44.5\"/><text fill=\"#000000\" font-family=\"sans-serif\" font-size=\"12\" font-style=\"italic\" lengthAdjust=\"spacingAndGlyphs\" textLength=\"40\" x=\"191\" y=\"60.6387\">«part»</text><text fill=\"#000000\" font-family=\"sans-serif\" font-size=\"12\" lengthAdjust=\"spacingAndGlyphs\" textLength=\"22\" x=\"200\" y=\"74.6074\">x: A</text><line style=\"stroke: #383838; stroke-width: 1.5;\" x1=\"191\" x2=\"231\" y1=\"82.4375\" y2=\"82.4375\"/><!--MD5=[b9389687b975829384b498ac4b7476b2]\n",
       "class E8--><rect fill=\"#FFFFFF\" height=\"45.9375\" id=\"E8\" rx=\"10\" ry=\"10\" style=\"stroke: #383838; stroke-width: 1.5;\" width=\"42\" x=\"107\" y=\"44.5\"/><text fill=\"#000000\" font-family=\"sans-serif\" font-size=\"12\" font-style=\"italic\" lengthAdjust=\"spacingAndGlyphs\" textLength=\"40\" x=\"108\" y=\"60.6387\">«part»</text><text fill=\"#000000\" font-family=\"sans-serif\" font-size=\"12\" lengthAdjust=\"spacingAndGlyphs\" textLength=\"21\" x=\"117.5\" y=\"74.6074\">z: B</text><line style=\"stroke: #383838; stroke-width: 1.5;\" x1=\"108\" x2=\"148\" y1=\"82.4375\" y2=\"82.4375\"/><!--MD5=[09b614a08d8cba4a07c9adeb5e0fee81]\n",
       "class E3--><rect fill=\"#FFFFFF\" height=\"45.9375\" id=\"E3\" style=\"stroke: #383838; stroke-width: 1.5;\" width=\"66\" x=\"178\" y=\"154\"/><text fill=\"#000000\" font-family=\"sans-serif\" font-size=\"12\" font-style=\"italic\" lengthAdjust=\"spacingAndGlyphs\" textLength=\"64\" x=\"179\" y=\"170.1387\">«part def»</text><text fill=\"#000000\" font-family=\"sans-serif\" font-size=\"12\" lengthAdjust=\"spacingAndGlyphs\" textLength=\"8\" x=\"207\" y=\"184.1074\">A</text><line style=\"stroke: #383838; stroke-width: 1.5;\" x1=\"179\" x2=\"243\" y1=\"191.9375\" y2=\"191.9375\"/><polygon fill=\"#FFFFFF\" points=\"32,41,58,41,65,63.2969,72,63.2969,72,93.5938,32,93.5938,32,41\" style=\"stroke: #000000; stroke-width: 1.5;\"/><line style=\"stroke: #000000; stroke-width: 1.5;\" x1=\"32\" x2=\"65\" y1=\"63.2969\" y2=\"63.2969\"/><text fill=\"#000000\" font-family=\"sans-serif\" font-size=\"14\" font-weight=\"bold\" lengthAdjust=\"spacingAndGlyphs\" textLength=\"20\" x=\"36\" y=\"55.9951\">P2</text><!--MD5=[2156ba9850f5573cc1fc38a6a4b2f02b]\n",
       "class E7--><rect fill=\"#FFFFFF\" height=\"45.9375\" id=\"E7\" style=\"stroke: #383838; stroke-width: 1.5;\" width=\"66\" x=\"56\" y=\"154\"/><text fill=\"#000000\" font-family=\"sans-serif\" font-size=\"12\" font-style=\"italic\" lengthAdjust=\"spacingAndGlyphs\" textLength=\"64\" x=\"57\" y=\"170.1387\">«part def»</text><text fill=\"#000000\" font-family=\"sans-serif\" font-size=\"12\" lengthAdjust=\"spacingAndGlyphs\" textLength=\"8\" x=\"85\" y=\"184.1074\">B</text><line style=\"stroke: #383838; stroke-width: 1.5;\" x1=\"57\" x2=\"121\" y1=\"191.9375\" y2=\"191.9375\"/><!--MD5=[e9be52314489bd878ff4c7144b63c9e1]\n",
       "link E5 to E3--><path d=\"M211,90.51 C211,102.89 211,118.78 211,133.48 \" fill=\"none\" id=\"E5-&gt;E3\" style=\"stroke: #383838; stroke-width: 1.0;\"/><polygon fill=\"#FFFFFF\" points=\"211,153.65,204,134.65,218,134.65,211,153.65\" style=\"stroke: #383838; stroke-width: 1.0;\"/><ellipse cx=\"206\" cy=\"128.95\" fill=\"#383838\" rx=\"2\" ry=\"2\" style=\"stroke: #383838; stroke-width: 1.0;\"/><ellipse cx=\"216\" cy=\"128.95\" fill=\"#383838\" rx=\"2\" ry=\"2\" style=\"stroke: #383838; stroke-width: 1.0;\"/><!--MD5=[bfa3c8b0d15052fdf50ae9310b491027]\n",
       "link E8 to E7--><path d=\"M120.01,90.51 C115.39,103.25 109.42,119.7 103.96,134.76 \" fill=\"none\" id=\"E8-&gt;E7\" style=\"stroke: #383838; stroke-width: 1.0;\"/><polygon fill=\"#FFFFFF\" points=\"97.11,153.65,97.0036,133.4018,110.1656,138.1726,97.11,153.65\" style=\"stroke: #383838; stroke-width: 1.0;\"/><ellipse cx=\"100.8262\" cy=\"128.7245\" fill=\"#383838\" rx=\"2\" ry=\"2\" style=\"stroke: #383838; stroke-width: 1.0;\"/><ellipse cx=\"110.2277\" cy=\"132.1322\" fill=\"#383838\" rx=\"2\" ry=\"2\" style=\"stroke: #383838; stroke-width: 1.0;\"/><!--MD5=[ff6373370bd9db363a36afcacdb73e67]\n",
       "@startuml\r\n",
       "top to bottom direction\r\n",
       "skinparam monochrome true\r\n",
       "skinparam classbackgroundcolor white\r\n",
       "skinparam shadowing false\r\n",
       "skinparam wrapWidth 300\r\n",
       "hide circle\r\n",
       "\r\n",
       "package \"PrivateImportTest\" as E1   {\r\n",
       "package \"P1\" as E2   {\r\n",
       "comp def \"A\" as E3  <<(T,blue)part def>> {\r\n",
       "}\r\n",
       "}\r\n",
       "package \"P2\" as E4   {\r\n",
       "}\r\n",
       "comp usage \"x: A\" as E5  <<(T,blue)part>> {\r\n",
       "}\r\n",
       "package \"P3\" as E6   {\r\n",
       "comp def \"B\" as E7  <<(T,blue)part def>> {\r\n",
       "}\r\n",
       "E5 - -:|> E3\r\n",
       "}\r\n",
       "comp usage \"z: B\" as E8  <<(T,blue)part>> {\r\n",
       "}\r\n",
       "E8 - -:|> E7\r\n",
       "}\r\n",
       "@enduml\r\n",
       "\n",
       "PlantUML version 1.2020.13(Sat Jun 13 12:26:38 UTC 2020)\n",
       "(EPL source distribution)\n",
       "Java Runtime: OpenJDK Runtime Environment\n",
       "JVM: OpenJDK 64-Bit Server VM\n",
       "Default Encoding: UTF-8\n",
       "Language: en\n",
       "Country: null\n",
       "--></g></svg>"
      ]
     },
     "execution_count": 44,
     "metadata": {},
     "output_type": "execute_result"
    }
   ],
   "source": [
    "%viz --style=\"TB\" --view=\"Default\" \"PrivateImportTest\""
   ]
  },
  {
   "cell_type": "code",
   "execution_count": 45,
   "id": "otherwise-extension",
   "metadata": {
    "execution": {
     "iopub.execute_input": "2021-03-25T15:59:53.417078Z",
     "iopub.status.busy": "2021-03-25T15:59:53.416144Z",
     "iopub.status.idle": "2021-03-25T15:59:53.491381Z",
     "shell.execute_reply": "2021-03-25T15:59:53.490085Z"
    }
   },
   "outputs": [
    {
     "data": {
      "image/svg+xml": [
       "<?xml version=\"1.0\" encoding=\"UTF-8\" standalone=\"no\"?><svg xmlns=\"http://www.w3.org/2000/svg\" xmlns:xlink=\"http://www.w3.org/1999/xlink\" contentScriptType=\"application/ecmascript\" contentStyleType=\"text/css\" height=\"252px\" preserveAspectRatio=\"none\" style=\"width:306px;height:252px;\" version=\"1.1\" viewBox=\"0 0 306 252\" width=\"306px\" zoomAndPan=\"magnify\"><defs/><g><!--MD5=[fbc87193dbaf4d95561dea2c320d4a47]\n",
       "cluster E1--><polygon fill=\"#FFFFFF\" points=\"16,6,163,6,170,28.2969,284,28.2969,284,240,16,240,16,6\" style=\"stroke: #000000; stroke-width: 1.5;\"/><line style=\"stroke: #000000; stroke-width: 1.5;\" x1=\"16\" x2=\"170\" y1=\"28.2969\" y2=\"28.2969\"/><text fill=\"#000000\" font-family=\"sans-serif\" font-size=\"14\" font-weight=\"bold\" lengthAdjust=\"spacingAndGlyphs\" textLength=\"141\" x=\"20\" y=\"20.9951\">PrivateImportTest</text><!--MD5=[e4f7fae6ed58524ba242bb0b0d3be6b7]\n",
       "cluster E2--><polygon fill=\"#FFFFFF\" points=\"162,119,188,119,195,141.2969,260,141.2969,260,216,162,216,162,119\" style=\"stroke: #000000; stroke-width: 1.5;\"/><line style=\"stroke: #000000; stroke-width: 1.5;\" x1=\"162\" x2=\"195\" y1=\"141.2969\" y2=\"141.2969\"/><text fill=\"#000000\" font-family=\"sans-serif\" font-size=\"14\" font-weight=\"bold\" lengthAdjust=\"spacingAndGlyphs\" textLength=\"20\" x=\"166\" y=\"133.9951\">P1</text><!--MD5=[14e3b0961a2654348d326746436168a1]\n",
       "cluster E6--><polygon fill=\"#FFFFFF\" points=\"40,119,66,119,73,141.2969,138,141.2969,138,216,40,216,40,119\" style=\"stroke: #000000; stroke-width: 1.5;\"/><line style=\"stroke: #000000; stroke-width: 1.5;\" x1=\"40\" x2=\"73\" y1=\"141.2969\" y2=\"141.2969\"/><text fill=\"#000000\" font-family=\"sans-serif\" font-size=\"14\" font-weight=\"bold\" lengthAdjust=\"spacingAndGlyphs\" textLength=\"20\" x=\"44\" y=\"133.9951\">P3</text><!--MD5=[270fce915f116d4de14055a7c1d9a0f3]\n",
       "class E5--><rect fill=\"#FFFFFF\" height=\"45.9375\" id=\"E5\" rx=\"10\" ry=\"10\" style=\"stroke: #383838; stroke-width: 1.5;\" width=\"42\" x=\"190\" y=\"44.5\"/><text fill=\"#000000\" font-family=\"sans-serif\" font-size=\"12\" font-style=\"italic\" lengthAdjust=\"spacingAndGlyphs\" textLength=\"40\" x=\"191\" y=\"60.6387\">«part»</text><text fill=\"#000000\" font-family=\"sans-serif\" font-size=\"12\" lengthAdjust=\"spacingAndGlyphs\" textLength=\"22\" x=\"200\" y=\"74.6074\">x: A</text><line style=\"stroke: #383838; stroke-width: 1.5;\" x1=\"191\" x2=\"231\" y1=\"82.4375\" y2=\"82.4375\"/><!--MD5=[b9389687b975829384b498ac4b7476b2]\n",
       "class E8--><rect fill=\"#FFFFFF\" height=\"45.9375\" id=\"E8\" rx=\"10\" ry=\"10\" style=\"stroke: #383838; stroke-width: 1.5;\" width=\"42\" x=\"107\" y=\"44.5\"/><text fill=\"#000000\" font-family=\"sans-serif\" font-size=\"12\" font-style=\"italic\" lengthAdjust=\"spacingAndGlyphs\" textLength=\"40\" x=\"108\" y=\"60.6387\">«part»</text><text fill=\"#000000\" font-family=\"sans-serif\" font-size=\"12\" lengthAdjust=\"spacingAndGlyphs\" textLength=\"21\" x=\"117.5\" y=\"74.6074\">z: B</text><line style=\"stroke: #383838; stroke-width: 1.5;\" x1=\"108\" x2=\"148\" y1=\"82.4375\" y2=\"82.4375\"/><!--MD5=[09b614a08d8cba4a07c9adeb5e0fee81]\n",
       "class E3--><rect fill=\"#FFFFFF\" height=\"45.9375\" id=\"E3\" style=\"stroke: #383838; stroke-width: 1.5;\" width=\"66\" x=\"178\" y=\"154\"/><text fill=\"#000000\" font-family=\"sans-serif\" font-size=\"12\" font-style=\"italic\" lengthAdjust=\"spacingAndGlyphs\" textLength=\"64\" x=\"179\" y=\"170.1387\">«part def»</text><text fill=\"#000000\" font-family=\"sans-serif\" font-size=\"12\" lengthAdjust=\"spacingAndGlyphs\" textLength=\"8\" x=\"207\" y=\"184.1074\">A</text><line style=\"stroke: #383838; stroke-width: 1.5;\" x1=\"179\" x2=\"243\" y1=\"191.9375\" y2=\"191.9375\"/><polygon fill=\"#FFFFFF\" points=\"32,41,58,41,65,63.2969,72,63.2969,72,93.5938,32,93.5938,32,41\" style=\"stroke: #000000; stroke-width: 1.5;\"/><line style=\"stroke: #000000; stroke-width: 1.5;\" x1=\"32\" x2=\"65\" y1=\"63.2969\" y2=\"63.2969\"/><text fill=\"#000000\" font-family=\"sans-serif\" font-size=\"14\" font-weight=\"bold\" lengthAdjust=\"spacingAndGlyphs\" textLength=\"20\" x=\"36\" y=\"55.9951\">P2</text><!--MD5=[2156ba9850f5573cc1fc38a6a4b2f02b]\n",
       "class E7--><rect fill=\"#FFFFFF\" height=\"45.9375\" id=\"E7\" style=\"stroke: #383838; stroke-width: 1.5;\" width=\"66\" x=\"56\" y=\"154\"/><text fill=\"#000000\" font-family=\"sans-serif\" font-size=\"12\" font-style=\"italic\" lengthAdjust=\"spacingAndGlyphs\" textLength=\"64\" x=\"57\" y=\"170.1387\">«part def»</text><text fill=\"#000000\" font-family=\"sans-serif\" font-size=\"12\" lengthAdjust=\"spacingAndGlyphs\" textLength=\"8\" x=\"85\" y=\"184.1074\">B</text><line style=\"stroke: #383838; stroke-width: 1.5;\" x1=\"57\" x2=\"121\" y1=\"191.9375\" y2=\"191.9375\"/><!--MD5=[e9be52314489bd878ff4c7144b63c9e1]\n",
       "link E5 to E3--><path d=\"M211,90.51 C211,102.89 211,118.78 211,133.48 \" fill=\"none\" id=\"E5-&gt;E3\" style=\"stroke: #383838; stroke-width: 1.0;\"/><polygon fill=\"#FFFFFF\" points=\"211,153.65,204,134.65,218,134.65,211,153.65\" style=\"stroke: #383838; stroke-width: 1.0;\"/><ellipse cx=\"206\" cy=\"128.95\" fill=\"#383838\" rx=\"2\" ry=\"2\" style=\"stroke: #383838; stroke-width: 1.0;\"/><ellipse cx=\"216\" cy=\"128.95\" fill=\"#383838\" rx=\"2\" ry=\"2\" style=\"stroke: #383838; stroke-width: 1.0;\"/><!--MD5=[bfa3c8b0d15052fdf50ae9310b491027]\n",
       "link E8 to E7--><path d=\"M120.01,90.51 C115.39,103.25 109.42,119.7 103.96,134.76 \" fill=\"none\" id=\"E8-&gt;E7\" style=\"stroke: #383838; stroke-width: 1.0;\"/><polygon fill=\"#FFFFFF\" points=\"97.11,153.65,97.0036,133.4018,110.1656,138.1726,97.11,153.65\" style=\"stroke: #383838; stroke-width: 1.0;\"/><ellipse cx=\"100.8262\" cy=\"128.7245\" fill=\"#383838\" rx=\"2\" ry=\"2\" style=\"stroke: #383838; stroke-width: 1.0;\"/><ellipse cx=\"110.2277\" cy=\"132.1322\" fill=\"#383838\" rx=\"2\" ry=\"2\" style=\"stroke: #383838; stroke-width: 1.0;\"/><!--MD5=[ff6373370bd9db363a36afcacdb73e67]\n",
       "@startuml\r\n",
       "top to bottom direction\r\n",
       "skinparam monochrome true\r\n",
       "skinparam classbackgroundcolor white\r\n",
       "skinparam shadowing false\r\n",
       "skinparam wrapWidth 300\r\n",
       "hide circle\r\n",
       "\r\n",
       "package \"PrivateImportTest\" as E1   {\r\n",
       "package \"P1\" as E2   {\r\n",
       "comp def \"A\" as E3  <<(T,blue)part def>> {\r\n",
       "}\r\n",
       "}\r\n",
       "package \"P2\" as E4   {\r\n",
       "}\r\n",
       "comp usage \"x: A\" as E5  <<(T,blue)part>> {\r\n",
       "}\r\n",
       "package \"P3\" as E6   {\r\n",
       "comp def \"B\" as E7  <<(T,blue)part def>> {\r\n",
       "}\r\n",
       "E5 - -:|> E3\r\n",
       "}\r\n",
       "comp usage \"z: B\" as E8  <<(T,blue)part>> {\r\n",
       "}\r\n",
       "E8 - -:|> E7\r\n",
       "}\r\n",
       "@enduml\r\n",
       "\n",
       "PlantUML version 1.2020.13(Sat Jun 13 12:26:38 UTC 2020)\n",
       "(EPL source distribution)\n",
       "Java Runtime: OpenJDK Runtime Environment\n",
       "JVM: OpenJDK 64-Bit Server VM\n",
       "Default Encoding: UTF-8\n",
       "Language: en\n",
       "Country: null\n",
       "--></g></svg>"
      ]
     },
     "execution_count": 45,
     "metadata": {},
     "output_type": "execute_result"
    }
   ],
   "source": [
    "%viz --style=\"TB\" --view=\"Tree\" \"PrivateImportTest\""
   ]
  },
  {
   "cell_type": "code",
   "execution_count": 46,
   "id": "legal-security",
   "metadata": {
    "execution": {
     "iopub.execute_input": "2021-03-25T15:59:53.542977Z",
     "iopub.status.busy": "2021-03-25T15:59:53.542168Z",
     "iopub.status.idle": "2021-03-25T15:59:53.544201Z",
     "shell.execute_reply": "2021-03-25T15:59:53.544645Z"
    }
   },
   "outputs": [
    {
     "data": {
      "text/plain": [
       "java.lang.IllegalArgumentException: Invalid View: State View candidates are: Default Tree StateMachine Interconnection Activity Sequence MIXED \n",
       "\tat org.omg.sysml.plantuml.SysML2PlantUMLSvc.setView(SysML2PlantUMLSvc.java:63)\n",
       "\tat org.omg.sysml.interactive.SysMLInteractive.viz(SysMLInteractive.java:286)\n",
       "\tat org.omg.sysml.jupyter.kernel.magic.Viz.viz(Viz.java:47)\n",
       "\tat jdk.internal.reflect.GeneratedMethodAccessor8.invoke(Unknown Source)\n",
       "\tat java.base/jdk.internal.reflect.DelegatingMethodAccessorImpl.invoke(DelegatingMethodAccessorImpl.java:43)\n",
       "\tat java.base/java.lang.reflect.Method.invoke(Method.java:568)\n",
       "\tat io.github.spencerpark.jupyter.kernel.magic.registry.Magics.invoke(Magics.java:89)\n",
       "\tat io.github.spencerpark.jupyter.kernel.magic.registry.Magics.access$000(Magics.java:8)\n",
       "\tat io.github.spencerpark.jupyter.kernel.magic.registry.Magics$LineReflectionMagicFunction.execute(Magics.java:149)\n",
       "\tat io.github.spencerpark.jupyter.kernel.magic.registry.Magics.applyLineMagic(Magics.java:26)\n",
       "\tat org.omg.sysml.jupyter.kernel.SysMLKernel.eval(SysMLKernel.java:76)\n",
       "\tat io.github.spencerpark.jupyter.kernel.BaseKernel.handleExecuteRequest(BaseKernel.java:334)\n",
       "\tat io.github.spencerpark.jupyter.channels.ShellChannel.lambda$bind$0(ShellChannel.java:64)\n",
       "\tat io.github.spencerpark.jupyter.channels.Loop.lambda$new$0(Loop.java:21)\n",
       "\tat io.github.spencerpark.jupyter.channels.Loop.run(Loop.java:78)\n"
      ]
     },
     "execution_count": 46,
     "metadata": {},
     "output_type": "execute_result"
    }
   ],
   "source": [
    "%viz --style=\"TB\" --view=\"State\" \"PrivateImportTest\""
   ]
  },
  {
   "cell_type": "code",
   "execution_count": 47,
   "id": "enormous-pursuit",
   "metadata": {
    "execution": {
     "iopub.execute_input": "2021-03-25T15:59:53.595388Z",
     "iopub.status.busy": "2021-03-25T15:59:53.594863Z",
     "iopub.status.idle": "2021-03-25T15:59:53.676268Z",
     "shell.execute_reply": "2021-03-25T15:59:53.676714Z"
    }
   },
   "outputs": [
    {
     "data": {
      "image/svg+xml": [
       "<?xml version=\"1.0\" encoding=\"UTF-8\" standalone=\"no\"?><svg xmlns=\"http://www.w3.org/2000/svg\" xmlns:xlink=\"http://www.w3.org/1999/xlink\" contentScriptType=\"application/ecmascript\" contentStyleType=\"text/css\" height=\"189px\" preserveAspectRatio=\"none\" style=\"width:579px;height:189px;\" version=\"1.1\" viewBox=\"0 0 579 189\" width=\"579px\" zoomAndPan=\"magnify\"><defs/><g><!--MD5=[fbc87193dbaf4d95561dea2c320d4a47]\n",
       "cluster E1--><polygon fill=\"#FFFFFF\" points=\"16,6,163,6,170,28.2969,557,28.2969,557,177,16,177,16,6\" style=\"stroke: #000000; stroke-width: 1.5;\"/><line style=\"stroke: #000000; stroke-width: 1.5;\" x1=\"16\" x2=\"170\" y1=\"28.2969\" y2=\"28.2969\"/><text fill=\"#000000\" font-family=\"sans-serif\" font-size=\"14\" font-weight=\"bold\" lengthAdjust=\"spacingAndGlyphs\" textLength=\"141\" x=\"20\" y=\"20.9951\">PrivateImportTest</text><!--MD5=[e4f7fae6ed58524ba242bb0b0d3be6b7]\n",
       "cluster E2--><polygon fill=\"#FFFFFF\" points=\"409,49,435,49,442,71.2969,533,71.2969,533,153,409,153,409,49\" style=\"stroke: #000000; stroke-width: 1.5;\"/><line style=\"stroke: #000000; stroke-width: 1.5;\" x1=\"409\" x2=\"442\" y1=\"71.2969\" y2=\"71.2969\"/><text fill=\"#000000\" font-family=\"sans-serif\" font-size=\"14\" font-weight=\"bold\" lengthAdjust=\"spacingAndGlyphs\" textLength=\"20\" x=\"413\" y=\"63.9951\">P1</text><!--MD5=[14e3b0961a2654348d326746436168a1]\n",
       "cluster E6--><polygon fill=\"#FFFFFF\" points=\"261,49,287,49,294,71.2969,385,71.2969,385,153,261,153,261,49\" style=\"stroke: #000000; stroke-width: 1.5;\"/><line style=\"stroke: #000000; stroke-width: 1.5;\" x1=\"261\" x2=\"294\" y1=\"71.2969\" y2=\"71.2969\"/><text fill=\"#000000\" font-family=\"sans-serif\" font-size=\"14\" font-weight=\"bold\" lengthAdjust=\"spacingAndGlyphs\" textLength=\"20\" x=\"265\" y=\"63.9951\">P3</text><!--MD5=[a60fb756f580feb9fd8e2cf1329b5c91]\n",
       "entity E3--><rect fill=\"#FFFFFF\" height=\"52.5938\" style=\"stroke: #000000; stroke-width: 1.5;\" width=\"91\" x=\"425.5\" y=\"84\"/><text fill=\"#000000\" font-family=\"sans-serif\" font-size=\"14\" font-style=\"italic\" lengthAdjust=\"spacingAndGlyphs\" textLength=\"71\" x=\"435.5\" y=\"106.9951\">«part def»</text><text fill=\"#000000\" font-family=\"sans-serif\" font-size=\"14\" lengthAdjust=\"spacingAndGlyphs\" textLength=\"9\" x=\"466.5\" y=\"123.292\">A</text><polygon fill=\"#FFFFFF\" points=\"202,84,228,84,235,106.2969,242,106.2969,242,136.5938,202,136.5938,202,84\" style=\"stroke: #000000; stroke-width: 1.5;\"/><line style=\"stroke: #000000; stroke-width: 1.5;\" x1=\"202\" x2=\"235\" y1=\"106.2969\" y2=\"106.2969\"/><text fill=\"#000000\" font-family=\"sans-serif\" font-size=\"14\" font-weight=\"bold\" lengthAdjust=\"spacingAndGlyphs\" textLength=\"20\" x=\"206\" y=\"98.9951\">P2</text><g id=\"E1.E5\"><rect fill=\"#FFFFFF\" height=\"50\" rx=\"12.5\" ry=\"12.5\" style=\"stroke: #383838; stroke-width: 1.5;\" width=\"50\" x=\"117\" y=\"85.5\"/><line style=\"stroke: #383838; stroke-width: 1.5;\" x1=\"117\" x2=\"167\" y1=\"111.7969\" y2=\"111.7969\"/><text fill=\"#000000\" font-family=\"sans-serif\" font-size=\"14\" lengthAdjust=\"spacingAndGlyphs\" textLength=\"25\" x=\"129.5\" y=\"103.4951\">x: A</text></g><!--MD5=[9c5f31f192441de4a59826ec090dc00a]\n",
       "entity E7--><rect fill=\"#FFFFFF\" height=\"52.5938\" style=\"stroke: #000000; stroke-width: 1.5;\" width=\"91\" x=\"277.5\" y=\"84\"/><text fill=\"#000000\" font-family=\"sans-serif\" font-size=\"14\" font-style=\"italic\" lengthAdjust=\"spacingAndGlyphs\" textLength=\"71\" x=\"287.5\" y=\"106.9951\">«part def»</text><text fill=\"#000000\" font-family=\"sans-serif\" font-size=\"14\" lengthAdjust=\"spacingAndGlyphs\" textLength=\"10\" x=\"318\" y=\"123.292\">B</text><g id=\"E1.E8\"><rect fill=\"#FFFFFF\" height=\"50\" rx=\"12.5\" ry=\"12.5\" style=\"stroke: #383838; stroke-width: 1.5;\" width=\"50\" x=\"32\" y=\"85.5\"/><line style=\"stroke: #383838; stroke-width: 1.5;\" x1=\"32\" x2=\"82\" y1=\"111.7969\" y2=\"111.7969\"/><text fill=\"#000000\" font-family=\"sans-serif\" font-size=\"14\" lengthAdjust=\"spacingAndGlyphs\" textLength=\"27\" x=\"43.5\" y=\"103.4951\">z: B</text></g><!--MD5=[0b9c1c878a1f84775983ba110b67d2f1]\n",
       "@startuml\r\n",
       "skinparam ranksep 8\r\n",
       "skinparam rectangle {\r\n",
       " backgroundColor<<block>> LightGreen\r\n",
       "}\r\n",
       "top to bottom direction\r\n",
       "skinparam monochrome true\r\n",
       "skinparam classbackgroundcolor white\r\n",
       "skinparam shadowing false\r\n",
       "skinparam wrapWidth 300\r\n",
       "hide circle\r\n",
       "\r\n",
       "package \"PrivateImportTest\" as E1   {\r\n",
       "package \"P1\" as E2   {\r\n",
       "rec def \"A\" as E3  <<part def>> {\r\n",
       "}\r\n",
       "}\r\n",
       "package \"P2\" as E4   {\r\n",
       "}\r\n",
       "rec usage \"x: A\" as E5  {\r\n",
       "}\r\n",
       "package \"P3\" as E6   {\r\n",
       "rec def \"B\" as E7  <<part def>> {\r\n",
       "}\r\n",
       "}\r\n",
       "rec usage \"z: B\" as E8  {\r\n",
       "}\r\n",
       "}\r\n",
       "@enduml\r\n",
       "\n",
       "PlantUML version 1.2020.13(Sat Jun 13 12:26:38 UTC 2020)\n",
       "(EPL source distribution)\n",
       "Java Runtime: OpenJDK Runtime Environment\n",
       "JVM: OpenJDK 64-Bit Server VM\n",
       "Default Encoding: UTF-8\n",
       "Language: en\n",
       "Country: null\n",
       "--></g></svg>"
      ]
     },
     "execution_count": 47,
     "metadata": {},
     "output_type": "execute_result"
    }
   ],
   "source": [
    "%viz --style=\"TB\" --view=\"Interconnection\" \"PrivateImportTest\""
   ]
  },
  {
   "cell_type": "code",
   "execution_count": 48,
   "id": "stock-meeting",
   "metadata": {
    "execution": {
     "iopub.execute_input": "2021-03-25T15:59:53.728089Z",
     "iopub.status.busy": "2021-03-25T15:59:53.727371Z",
     "iopub.status.idle": "2021-03-25T15:59:53.729711Z",
     "shell.execute_reply": "2021-03-25T15:59:53.730236Z"
    }
   },
   "outputs": [
    {
     "data": {
      "text/plain": [
       "java.lang.IllegalArgumentException: Invalid View: Action View candidates are: Default Tree StateMachine Interconnection Activity Sequence MIXED \n",
       "\tat org.omg.sysml.plantuml.SysML2PlantUMLSvc.setView(SysML2PlantUMLSvc.java:63)\n",
       "\tat org.omg.sysml.interactive.SysMLInteractive.viz(SysMLInteractive.java:286)\n",
       "\tat org.omg.sysml.jupyter.kernel.magic.Viz.viz(Viz.java:47)\n",
       "\tat jdk.internal.reflect.GeneratedMethodAccessor8.invoke(Unknown Source)\n",
       "\tat java.base/jdk.internal.reflect.DelegatingMethodAccessorImpl.invoke(DelegatingMethodAccessorImpl.java:43)\n",
       "\tat java.base/java.lang.reflect.Method.invoke(Method.java:568)\n",
       "\tat io.github.spencerpark.jupyter.kernel.magic.registry.Magics.invoke(Magics.java:89)\n",
       "\tat io.github.spencerpark.jupyter.kernel.magic.registry.Magics.access$000(Magics.java:8)\n",
       "\tat io.github.spencerpark.jupyter.kernel.magic.registry.Magics$LineReflectionMagicFunction.execute(Magics.java:149)\n",
       "\tat io.github.spencerpark.jupyter.kernel.magic.registry.Magics.applyLineMagic(Magics.java:26)\n",
       "\tat org.omg.sysml.jupyter.kernel.SysMLKernel.eval(SysMLKernel.java:76)\n",
       "\tat io.github.spencerpark.jupyter.kernel.BaseKernel.handleExecuteRequest(BaseKernel.java:334)\n",
       "\tat io.github.spencerpark.jupyter.channels.ShellChannel.lambda$bind$0(ShellChannel.java:64)\n",
       "\tat io.github.spencerpark.jupyter.channels.Loop.lambda$new$0(Loop.java:21)\n",
       "\tat io.github.spencerpark.jupyter.channels.Loop.run(Loop.java:78)\n"
      ]
     },
     "execution_count": 48,
     "metadata": {},
     "output_type": "execute_result"
    }
   ],
   "source": [
    "%viz --style=\"TB\" --view=\"Action\" \"PrivateImportTest\""
   ]
  },
  {
   "cell_type": "code",
   "execution_count": 49,
   "id": "flexible-person",
   "metadata": {
    "execution": {
     "iopub.execute_input": "2021-03-25T15:59:53.782112Z",
     "iopub.status.busy": "2021-03-25T15:59:53.781662Z",
     "iopub.status.idle": "2021-03-25T15:59:53.849413Z",
     "shell.execute_reply": "2021-03-25T15:59:53.847670Z"
    }
   },
   "outputs": [
    {
     "data": {
      "image/svg+xml": [
       "<?xml version=\"1.0\" encoding=\"UTF-8\" standalone=\"no\"?><svg xmlns=\"http://www.w3.org/2000/svg\" xmlns:xlink=\"http://www.w3.org/1999/xlink\" contentScriptType=\"application/ecmascript\" contentStyleType=\"text/css\" height=\"252px\" preserveAspectRatio=\"none\" style=\"width:306px;height:252px;\" version=\"1.1\" viewBox=\"0 0 306 252\" width=\"306px\" zoomAndPan=\"magnify\"><defs/><g><!--MD5=[fbc87193dbaf4d95561dea2c320d4a47]\n",
       "cluster E1--><polygon fill=\"#FFFFFF\" points=\"16,6,163,6,170,28.2969,284,28.2969,284,240,16,240,16,6\" style=\"stroke: #000000; stroke-width: 1.5;\"/><line style=\"stroke: #000000; stroke-width: 1.5;\" x1=\"16\" x2=\"170\" y1=\"28.2969\" y2=\"28.2969\"/><text fill=\"#000000\" font-family=\"sans-serif\" font-size=\"14\" font-weight=\"bold\" lengthAdjust=\"spacingAndGlyphs\" textLength=\"141\" x=\"20\" y=\"20.9951\">PrivateImportTest</text><!--MD5=[e4f7fae6ed58524ba242bb0b0d3be6b7]\n",
       "cluster E2--><polygon fill=\"#FFFFFF\" points=\"162,119,188,119,195,141.2969,260,141.2969,260,216,162,216,162,119\" style=\"stroke: #000000; stroke-width: 1.5;\"/><line style=\"stroke: #000000; stroke-width: 1.5;\" x1=\"162\" x2=\"195\" y1=\"141.2969\" y2=\"141.2969\"/><text fill=\"#000000\" font-family=\"sans-serif\" font-size=\"14\" font-weight=\"bold\" lengthAdjust=\"spacingAndGlyphs\" textLength=\"20\" x=\"166\" y=\"133.9951\">P1</text><!--MD5=[14e3b0961a2654348d326746436168a1]\n",
       "cluster E6--><polygon fill=\"#FFFFFF\" points=\"40,119,66,119,73,141.2969,138,141.2969,138,216,40,216,40,119\" style=\"stroke: #000000; stroke-width: 1.5;\"/><line style=\"stroke: #000000; stroke-width: 1.5;\" x1=\"40\" x2=\"73\" y1=\"141.2969\" y2=\"141.2969\"/><text fill=\"#000000\" font-family=\"sans-serif\" font-size=\"14\" font-weight=\"bold\" lengthAdjust=\"spacingAndGlyphs\" textLength=\"20\" x=\"44\" y=\"133.9951\">P3</text><!--MD5=[270fce915f116d4de14055a7c1d9a0f3]\n",
       "class E5--><rect fill=\"#FFFFFF\" height=\"45.9375\" id=\"E5\" rx=\"10\" ry=\"10\" style=\"stroke: #383838; stroke-width: 1.5;\" width=\"42\" x=\"190\" y=\"44.5\"/><text fill=\"#000000\" font-family=\"sans-serif\" font-size=\"12\" font-style=\"italic\" lengthAdjust=\"spacingAndGlyphs\" textLength=\"40\" x=\"191\" y=\"60.6387\">«part»</text><text fill=\"#000000\" font-family=\"sans-serif\" font-size=\"12\" lengthAdjust=\"spacingAndGlyphs\" textLength=\"22\" x=\"200\" y=\"74.6074\">x: A</text><line style=\"stroke: #383838; stroke-width: 1.5;\" x1=\"191\" x2=\"231\" y1=\"82.4375\" y2=\"82.4375\"/><!--MD5=[b9389687b975829384b498ac4b7476b2]\n",
       "class E8--><rect fill=\"#FFFFFF\" height=\"45.9375\" id=\"E8\" rx=\"10\" ry=\"10\" style=\"stroke: #383838; stroke-width: 1.5;\" width=\"42\" x=\"107\" y=\"44.5\"/><text fill=\"#000000\" font-family=\"sans-serif\" font-size=\"12\" font-style=\"italic\" lengthAdjust=\"spacingAndGlyphs\" textLength=\"40\" x=\"108\" y=\"60.6387\">«part»</text><text fill=\"#000000\" font-family=\"sans-serif\" font-size=\"12\" lengthAdjust=\"spacingAndGlyphs\" textLength=\"21\" x=\"117.5\" y=\"74.6074\">z: B</text><line style=\"stroke: #383838; stroke-width: 1.5;\" x1=\"108\" x2=\"148\" y1=\"82.4375\" y2=\"82.4375\"/><!--MD5=[09b614a08d8cba4a07c9adeb5e0fee81]\n",
       "class E3--><rect fill=\"#FFFFFF\" height=\"45.9375\" id=\"E3\" style=\"stroke: #383838; stroke-width: 1.5;\" width=\"66\" x=\"178\" y=\"154\"/><text fill=\"#000000\" font-family=\"sans-serif\" font-size=\"12\" font-style=\"italic\" lengthAdjust=\"spacingAndGlyphs\" textLength=\"64\" x=\"179\" y=\"170.1387\">«part def»</text><text fill=\"#000000\" font-family=\"sans-serif\" font-size=\"12\" lengthAdjust=\"spacingAndGlyphs\" textLength=\"8\" x=\"207\" y=\"184.1074\">A</text><line style=\"stroke: #383838; stroke-width: 1.5;\" x1=\"179\" x2=\"243\" y1=\"191.9375\" y2=\"191.9375\"/><polygon fill=\"#FFFFFF\" points=\"32,41,58,41,65,63.2969,72,63.2969,72,93.5938,32,93.5938,32,41\" style=\"stroke: #000000; stroke-width: 1.5;\"/><line style=\"stroke: #000000; stroke-width: 1.5;\" x1=\"32\" x2=\"65\" y1=\"63.2969\" y2=\"63.2969\"/><text fill=\"#000000\" font-family=\"sans-serif\" font-size=\"14\" font-weight=\"bold\" lengthAdjust=\"spacingAndGlyphs\" textLength=\"20\" x=\"36\" y=\"55.9951\">P2</text><!--MD5=[2156ba9850f5573cc1fc38a6a4b2f02b]\n",
       "class E7--><rect fill=\"#FFFFFF\" height=\"45.9375\" id=\"E7\" style=\"stroke: #383838; stroke-width: 1.5;\" width=\"66\" x=\"56\" y=\"154\"/><text fill=\"#000000\" font-family=\"sans-serif\" font-size=\"12\" font-style=\"italic\" lengthAdjust=\"spacingAndGlyphs\" textLength=\"64\" x=\"57\" y=\"170.1387\">«part def»</text><text fill=\"#000000\" font-family=\"sans-serif\" font-size=\"12\" lengthAdjust=\"spacingAndGlyphs\" textLength=\"8\" x=\"85\" y=\"184.1074\">B</text><line style=\"stroke: #383838; stroke-width: 1.5;\" x1=\"57\" x2=\"121\" y1=\"191.9375\" y2=\"191.9375\"/><!--MD5=[e9be52314489bd878ff4c7144b63c9e1]\n",
       "link E5 to E3--><path d=\"M211,90.51 C211,102.89 211,118.78 211,133.48 \" fill=\"none\" id=\"E5-&gt;E3\" style=\"stroke: #383838; stroke-width: 1.0;\"/><polygon fill=\"#FFFFFF\" points=\"211,153.65,204,134.65,218,134.65,211,153.65\" style=\"stroke: #383838; stroke-width: 1.0;\"/><ellipse cx=\"206\" cy=\"128.95\" fill=\"#383838\" rx=\"2\" ry=\"2\" style=\"stroke: #383838; stroke-width: 1.0;\"/><ellipse cx=\"216\" cy=\"128.95\" fill=\"#383838\" rx=\"2\" ry=\"2\" style=\"stroke: #383838; stroke-width: 1.0;\"/><!--MD5=[bfa3c8b0d15052fdf50ae9310b491027]\n",
       "link E8 to E7--><path d=\"M120.01,90.51 C115.39,103.25 109.42,119.7 103.96,134.76 \" fill=\"none\" id=\"E8-&gt;E7\" style=\"stroke: #383838; stroke-width: 1.0;\"/><polygon fill=\"#FFFFFF\" points=\"97.11,153.65,97.0036,133.4018,110.1656,138.1726,97.11,153.65\" style=\"stroke: #383838; stroke-width: 1.0;\"/><ellipse cx=\"100.8262\" cy=\"128.7245\" fill=\"#383838\" rx=\"2\" ry=\"2\" style=\"stroke: #383838; stroke-width: 1.0;\"/><ellipse cx=\"110.2277\" cy=\"132.1322\" fill=\"#383838\" rx=\"2\" ry=\"2\" style=\"stroke: #383838; stroke-width: 1.0;\"/><!--MD5=[ff6373370bd9db363a36afcacdb73e67]\n",
       "@startuml\r\n",
       "top to bottom direction\r\n",
       "skinparam monochrome true\r\n",
       "skinparam classbackgroundcolor white\r\n",
       "skinparam shadowing false\r\n",
       "skinparam wrapWidth 300\r\n",
       "hide circle\r\n",
       "\r\n",
       "package \"PrivateImportTest\" as E1   {\r\n",
       "package \"P1\" as E2   {\r\n",
       "comp def \"A\" as E3  <<(T,blue)part def>> {\r\n",
       "}\r\n",
       "}\r\n",
       "package \"P2\" as E4   {\r\n",
       "}\r\n",
       "comp usage \"x: A\" as E5  <<(T,blue)part>> {\r\n",
       "}\r\n",
       "package \"P3\" as E6   {\r\n",
       "comp def \"B\" as E7  <<(T,blue)part def>> {\r\n",
       "}\r\n",
       "E5 - -:|> E3\r\n",
       "}\r\n",
       "comp usage \"z: B\" as E8  <<(T,blue)part>> {\r\n",
       "}\r\n",
       "E8 - -:|> E7\r\n",
       "}\r\n",
       "@enduml\r\n",
       "\n",
       "PlantUML version 1.2020.13(Sat Jun 13 12:26:38 UTC 2020)\n",
       "(EPL source distribution)\n",
       "Java Runtime: OpenJDK Runtime Environment\n",
       "JVM: OpenJDK 64-Bit Server VM\n",
       "Default Encoding: UTF-8\n",
       "Language: en\n",
       "Country: null\n",
       "--></g></svg>"
      ]
     },
     "execution_count": 49,
     "metadata": {},
     "output_type": "execute_result"
    }
   ],
   "source": [
    "%viz --style=\"TB\" --view=\"Sequence\" \"PrivateImportTest\""
   ]
  },
  {
   "cell_type": "code",
   "execution_count": 50,
   "id": "expected-cedar",
   "metadata": {
    "execution": {
     "iopub.execute_input": "2021-03-25T15:59:53.900682Z",
     "iopub.status.busy": "2021-03-25T15:59:53.900115Z",
     "iopub.status.idle": "2021-03-25T15:59:53.967963Z",
     "shell.execute_reply": "2021-03-25T15:59:53.966432Z"
    }
   },
   "outputs": [
    {
     "data": {
      "image/svg+xml": [
       "<?xml version=\"1.0\" encoding=\"UTF-8\" standalone=\"no\"?><svg xmlns=\"http://www.w3.org/2000/svg\" xmlns:xlink=\"http://www.w3.org/1999/xlink\" contentScriptType=\"application/ecmascript\" contentStyleType=\"text/css\" height=\"252px\" preserveAspectRatio=\"none\" style=\"width:306px;height:252px;\" version=\"1.1\" viewBox=\"0 0 306 252\" width=\"306px\" zoomAndPan=\"magnify\"><defs/><g><!--MD5=[fbc87193dbaf4d95561dea2c320d4a47]\n",
       "cluster E1--><polygon fill=\"#FFFFFF\" points=\"16,6,163,6,170,28.2969,284,28.2969,284,240,16,240,16,6\" style=\"stroke: #000000; stroke-width: 1.5;\"/><line style=\"stroke: #000000; stroke-width: 1.5;\" x1=\"16\" x2=\"170\" y1=\"28.2969\" y2=\"28.2969\"/><text fill=\"#000000\" font-family=\"sans-serif\" font-size=\"14\" font-weight=\"bold\" lengthAdjust=\"spacingAndGlyphs\" textLength=\"141\" x=\"20\" y=\"20.9951\">PrivateImportTest</text><!--MD5=[e4f7fae6ed58524ba242bb0b0d3be6b7]\n",
       "cluster E2--><polygon fill=\"#FFFFFF\" points=\"162,119,188,119,195,141.2969,260,141.2969,260,216,162,216,162,119\" style=\"stroke: #000000; stroke-width: 1.5;\"/><line style=\"stroke: #000000; stroke-width: 1.5;\" x1=\"162\" x2=\"195\" y1=\"141.2969\" y2=\"141.2969\"/><text fill=\"#000000\" font-family=\"sans-serif\" font-size=\"14\" font-weight=\"bold\" lengthAdjust=\"spacingAndGlyphs\" textLength=\"20\" x=\"166\" y=\"133.9951\">P1</text><!--MD5=[14e3b0961a2654348d326746436168a1]\n",
       "cluster E6--><polygon fill=\"#FFFFFF\" points=\"40,119,66,119,73,141.2969,138,141.2969,138,216,40,216,40,119\" style=\"stroke: #000000; stroke-width: 1.5;\"/><line style=\"stroke: #000000; stroke-width: 1.5;\" x1=\"40\" x2=\"73\" y1=\"141.2969\" y2=\"141.2969\"/><text fill=\"#000000\" font-family=\"sans-serif\" font-size=\"14\" font-weight=\"bold\" lengthAdjust=\"spacingAndGlyphs\" textLength=\"20\" x=\"44\" y=\"133.9951\">P3</text><!--MD5=[270fce915f116d4de14055a7c1d9a0f3]\n",
       "class E5--><rect fill=\"#FFFFFF\" height=\"45.9375\" id=\"E5\" rx=\"10\" ry=\"10\" style=\"stroke: #383838; stroke-width: 1.5;\" width=\"42\" x=\"190\" y=\"44.5\"/><text fill=\"#000000\" font-family=\"sans-serif\" font-size=\"12\" font-style=\"italic\" lengthAdjust=\"spacingAndGlyphs\" textLength=\"40\" x=\"191\" y=\"60.6387\">«part»</text><text fill=\"#000000\" font-family=\"sans-serif\" font-size=\"12\" lengthAdjust=\"spacingAndGlyphs\" textLength=\"22\" x=\"200\" y=\"74.6074\">x: A</text><line style=\"stroke: #383838; stroke-width: 1.5;\" x1=\"191\" x2=\"231\" y1=\"82.4375\" y2=\"82.4375\"/><!--MD5=[b9389687b975829384b498ac4b7476b2]\n",
       "class E8--><rect fill=\"#FFFFFF\" height=\"45.9375\" id=\"E8\" rx=\"10\" ry=\"10\" style=\"stroke: #383838; stroke-width: 1.5;\" width=\"42\" x=\"107\" y=\"44.5\"/><text fill=\"#000000\" font-family=\"sans-serif\" font-size=\"12\" font-style=\"italic\" lengthAdjust=\"spacingAndGlyphs\" textLength=\"40\" x=\"108\" y=\"60.6387\">«part»</text><text fill=\"#000000\" font-family=\"sans-serif\" font-size=\"12\" lengthAdjust=\"spacingAndGlyphs\" textLength=\"21\" x=\"117.5\" y=\"74.6074\">z: B</text><line style=\"stroke: #383838; stroke-width: 1.5;\" x1=\"108\" x2=\"148\" y1=\"82.4375\" y2=\"82.4375\"/><!--MD5=[09b614a08d8cba4a07c9adeb5e0fee81]\n",
       "class E3--><rect fill=\"#FFFFFF\" height=\"45.9375\" id=\"E3\" style=\"stroke: #383838; stroke-width: 1.5;\" width=\"66\" x=\"178\" y=\"154\"/><text fill=\"#000000\" font-family=\"sans-serif\" font-size=\"12\" font-style=\"italic\" lengthAdjust=\"spacingAndGlyphs\" textLength=\"64\" x=\"179\" y=\"170.1387\">«part def»</text><text fill=\"#000000\" font-family=\"sans-serif\" font-size=\"12\" lengthAdjust=\"spacingAndGlyphs\" textLength=\"8\" x=\"207\" y=\"184.1074\">A</text><line style=\"stroke: #383838; stroke-width: 1.5;\" x1=\"179\" x2=\"243\" y1=\"191.9375\" y2=\"191.9375\"/><polygon fill=\"#FFFFFF\" points=\"32,41,58,41,65,63.2969,72,63.2969,72,93.5938,32,93.5938,32,41\" style=\"stroke: #000000; stroke-width: 1.5;\"/><line style=\"stroke: #000000; stroke-width: 1.5;\" x1=\"32\" x2=\"65\" y1=\"63.2969\" y2=\"63.2969\"/><text fill=\"#000000\" font-family=\"sans-serif\" font-size=\"14\" font-weight=\"bold\" lengthAdjust=\"spacingAndGlyphs\" textLength=\"20\" x=\"36\" y=\"55.9951\">P2</text><!--MD5=[2156ba9850f5573cc1fc38a6a4b2f02b]\n",
       "class E7--><rect fill=\"#FFFFFF\" height=\"45.9375\" id=\"E7\" style=\"stroke: #383838; stroke-width: 1.5;\" width=\"66\" x=\"56\" y=\"154\"/><text fill=\"#000000\" font-family=\"sans-serif\" font-size=\"12\" font-style=\"italic\" lengthAdjust=\"spacingAndGlyphs\" textLength=\"64\" x=\"57\" y=\"170.1387\">«part def»</text><text fill=\"#000000\" font-family=\"sans-serif\" font-size=\"12\" lengthAdjust=\"spacingAndGlyphs\" textLength=\"8\" x=\"85\" y=\"184.1074\">B</text><line style=\"stroke: #383838; stroke-width: 1.5;\" x1=\"57\" x2=\"121\" y1=\"191.9375\" y2=\"191.9375\"/><!--MD5=[e9be52314489bd878ff4c7144b63c9e1]\n",
       "link E5 to E3--><path d=\"M211,90.51 C211,102.89 211,118.78 211,133.48 \" fill=\"none\" id=\"E5-&gt;E3\" style=\"stroke: #383838; stroke-width: 1.0;\"/><polygon fill=\"#FFFFFF\" points=\"211,153.65,204,134.65,218,134.65,211,153.65\" style=\"stroke: #383838; stroke-width: 1.0;\"/><ellipse cx=\"206\" cy=\"128.95\" fill=\"#383838\" rx=\"2\" ry=\"2\" style=\"stroke: #383838; stroke-width: 1.0;\"/><ellipse cx=\"216\" cy=\"128.95\" fill=\"#383838\" rx=\"2\" ry=\"2\" style=\"stroke: #383838; stroke-width: 1.0;\"/><!--MD5=[bfa3c8b0d15052fdf50ae9310b491027]\n",
       "link E8 to E7--><path d=\"M120.01,90.51 C115.39,103.25 109.42,119.7 103.96,134.76 \" fill=\"none\" id=\"E8-&gt;E7\" style=\"stroke: #383838; stroke-width: 1.0;\"/><polygon fill=\"#FFFFFF\" points=\"97.11,153.65,97.0036,133.4018,110.1656,138.1726,97.11,153.65\" style=\"stroke: #383838; stroke-width: 1.0;\"/><ellipse cx=\"100.8262\" cy=\"128.7245\" fill=\"#383838\" rx=\"2\" ry=\"2\" style=\"stroke: #383838; stroke-width: 1.0;\"/><ellipse cx=\"110.2277\" cy=\"132.1322\" fill=\"#383838\" rx=\"2\" ry=\"2\" style=\"stroke: #383838; stroke-width: 1.0;\"/><!--MD5=[ff6373370bd9db363a36afcacdb73e67]\n",
       "@startuml\r\n",
       "top to bottom direction\r\n",
       "skinparam monochrome true\r\n",
       "skinparam classbackgroundcolor white\r\n",
       "skinparam shadowing false\r\n",
       "skinparam wrapWidth 300\r\n",
       "hide circle\r\n",
       "\r\n",
       "package \"PrivateImportTest\" as E1   {\r\n",
       "package \"P1\" as E2   {\r\n",
       "comp def \"A\" as E3  <<(T,blue)part def>> {\r\n",
       "}\r\n",
       "}\r\n",
       "package \"P2\" as E4   {\r\n",
       "}\r\n",
       "comp usage \"x: A\" as E5  <<(T,blue)part>> {\r\n",
       "}\r\n",
       "package \"P3\" as E6   {\r\n",
       "comp def \"B\" as E7  <<(T,blue)part def>> {\r\n",
       "}\r\n",
       "E5 - -:|> E3\r\n",
       "}\r\n",
       "comp usage \"z: B\" as E8  <<(T,blue)part>> {\r\n",
       "}\r\n",
       "E8 - -:|> E7\r\n",
       "}\r\n",
       "@enduml\r\n",
       "\n",
       "PlantUML version 1.2020.13(Sat Jun 13 12:26:38 UTC 2020)\n",
       "(EPL source distribution)\n",
       "Java Runtime: OpenJDK Runtime Environment\n",
       "JVM: OpenJDK 64-Bit Server VM\n",
       "Default Encoding: UTF-8\n",
       "Language: en\n",
       "Country: null\n",
       "--></g></svg>"
      ]
     },
     "execution_count": 50,
     "metadata": {},
     "output_type": "execute_result"
    }
   ],
   "source": [
    "%viz --style=\"TB\" --view=\"MIXED\" \"PrivateImportTest\""
   ]
  },
  {
   "cell_type": "code",
   "execution_count": 51,
   "id": "bronze-privilege",
   "metadata": {
    "execution": {
     "iopub.execute_input": "2021-03-25T15:59:54.018505Z",
     "iopub.status.busy": "2021-03-25T15:59:54.017910Z",
     "iopub.status.idle": "2021-03-25T15:59:54.084998Z",
     "shell.execute_reply": "2021-03-25T15:59:54.083664Z"
    }
   },
   "outputs": [
    {
     "data": {
      "image/svg+xml": [
       "<?xml version=\"1.0\" encoding=\"UTF-8\" standalone=\"no\"?><svg xmlns=\"http://www.w3.org/2000/svg\" xmlns:xlink=\"http://www.w3.org/1999/xlink\" contentScriptType=\"application/ecmascript\" contentStyleType=\"text/css\" height=\"252px\" preserveAspectRatio=\"none\" style=\"width:306px;height:252px;\" version=\"1.1\" viewBox=\"0 0 306 252\" width=\"306px\" zoomAndPan=\"magnify\"><defs/><g><!--MD5=[fbc87193dbaf4d95561dea2c320d4a47]\n",
       "cluster E1--><polygon fill=\"#FFFFFF\" points=\"16,6,163,6,170,28.2969,284,28.2969,284,240,16,240,16,6\" style=\"stroke: #000000; stroke-width: 1.5;\"/><line style=\"stroke: #000000; stroke-width: 1.5;\" x1=\"16\" x2=\"170\" y1=\"28.2969\" y2=\"28.2969\"/><text fill=\"#000000\" font-family=\"sans-serif\" font-size=\"14\" font-weight=\"bold\" lengthAdjust=\"spacingAndGlyphs\" textLength=\"141\" x=\"20\" y=\"20.9951\">PrivateImportTest</text><!--MD5=[e4f7fae6ed58524ba242bb0b0d3be6b7]\n",
       "cluster E2--><polygon fill=\"#FFFFFF\" points=\"162,119,188,119,195,141.2969,260,141.2969,260,216,162,216,162,119\" style=\"stroke: #000000; stroke-width: 1.5;\"/><line style=\"stroke: #000000; stroke-width: 1.5;\" x1=\"162\" x2=\"195\" y1=\"141.2969\" y2=\"141.2969\"/><text fill=\"#000000\" font-family=\"sans-serif\" font-size=\"14\" font-weight=\"bold\" lengthAdjust=\"spacingAndGlyphs\" textLength=\"20\" x=\"166\" y=\"133.9951\">P1</text><!--MD5=[14e3b0961a2654348d326746436168a1]\n",
       "cluster E6--><polygon fill=\"#FFFFFF\" points=\"40,119,66,119,73,141.2969,138,141.2969,138,216,40,216,40,119\" style=\"stroke: #000000; stroke-width: 1.5;\"/><line style=\"stroke: #000000; stroke-width: 1.5;\" x1=\"40\" x2=\"73\" y1=\"141.2969\" y2=\"141.2969\"/><text fill=\"#000000\" font-family=\"sans-serif\" font-size=\"14\" font-weight=\"bold\" lengthAdjust=\"spacingAndGlyphs\" textLength=\"20\" x=\"44\" y=\"133.9951\">P3</text><!--MD5=[270fce915f116d4de14055a7c1d9a0f3]\n",
       "class E5--><rect fill=\"#FFFFFF\" height=\"45.9375\" id=\"E5\" rx=\"10\" ry=\"10\" style=\"stroke: #383838; stroke-width: 1.5;\" width=\"42\" x=\"190\" y=\"44.5\"/><text fill=\"#000000\" font-family=\"sans-serif\" font-size=\"12\" font-style=\"italic\" lengthAdjust=\"spacingAndGlyphs\" textLength=\"40\" x=\"191\" y=\"60.6387\">«part»</text><text fill=\"#000000\" font-family=\"sans-serif\" font-size=\"12\" lengthAdjust=\"spacingAndGlyphs\" textLength=\"22\" x=\"200\" y=\"74.6074\">x: A</text><line style=\"stroke: #383838; stroke-width: 1.5;\" x1=\"191\" x2=\"231\" y1=\"82.4375\" y2=\"82.4375\"/><!--MD5=[b9389687b975829384b498ac4b7476b2]\n",
       "class E8--><rect fill=\"#FFFFFF\" height=\"45.9375\" id=\"E8\" rx=\"10\" ry=\"10\" style=\"stroke: #383838; stroke-width: 1.5;\" width=\"42\" x=\"107\" y=\"44.5\"/><text fill=\"#000000\" font-family=\"sans-serif\" font-size=\"12\" font-style=\"italic\" lengthAdjust=\"spacingAndGlyphs\" textLength=\"40\" x=\"108\" y=\"60.6387\">«part»</text><text fill=\"#000000\" font-family=\"sans-serif\" font-size=\"12\" lengthAdjust=\"spacingAndGlyphs\" textLength=\"21\" x=\"117.5\" y=\"74.6074\">z: B</text><line style=\"stroke: #383838; stroke-width: 1.5;\" x1=\"108\" x2=\"148\" y1=\"82.4375\" y2=\"82.4375\"/><!--MD5=[09b614a08d8cba4a07c9adeb5e0fee81]\n",
       "class E3--><rect fill=\"#FFFFFF\" height=\"45.9375\" id=\"E3\" style=\"stroke: #383838; stroke-width: 1.5;\" width=\"66\" x=\"178\" y=\"154\"/><text fill=\"#000000\" font-family=\"sans-serif\" font-size=\"12\" font-style=\"italic\" lengthAdjust=\"spacingAndGlyphs\" textLength=\"64\" x=\"179\" y=\"170.1387\">«part def»</text><text fill=\"#000000\" font-family=\"sans-serif\" font-size=\"12\" lengthAdjust=\"spacingAndGlyphs\" textLength=\"8\" x=\"207\" y=\"184.1074\">A</text><line style=\"stroke: #383838; stroke-width: 1.5;\" x1=\"179\" x2=\"243\" y1=\"191.9375\" y2=\"191.9375\"/><polygon fill=\"#FFFFFF\" points=\"32,41,58,41,65,63.2969,72,63.2969,72,93.5938,32,93.5938,32,41\" style=\"stroke: #000000; stroke-width: 1.5;\"/><line style=\"stroke: #000000; stroke-width: 1.5;\" x1=\"32\" x2=\"65\" y1=\"63.2969\" y2=\"63.2969\"/><text fill=\"#000000\" font-family=\"sans-serif\" font-size=\"14\" font-weight=\"bold\" lengthAdjust=\"spacingAndGlyphs\" textLength=\"20\" x=\"36\" y=\"55.9951\">P2</text><!--MD5=[2156ba9850f5573cc1fc38a6a4b2f02b]\n",
       "class E7--><rect fill=\"#FFFFFF\" height=\"45.9375\" id=\"E7\" style=\"stroke: #383838; stroke-width: 1.5;\" width=\"66\" x=\"56\" y=\"154\"/><text fill=\"#000000\" font-family=\"sans-serif\" font-size=\"12\" font-style=\"italic\" lengthAdjust=\"spacingAndGlyphs\" textLength=\"64\" x=\"57\" y=\"170.1387\">«part def»</text><text fill=\"#000000\" font-family=\"sans-serif\" font-size=\"12\" lengthAdjust=\"spacingAndGlyphs\" textLength=\"8\" x=\"85\" y=\"184.1074\">B</text><line style=\"stroke: #383838; stroke-width: 1.5;\" x1=\"57\" x2=\"121\" y1=\"191.9375\" y2=\"191.9375\"/><!--MD5=[e9be52314489bd878ff4c7144b63c9e1]\n",
       "link E5 to E3--><path d=\"M211,90.72 C211,90.72 211,133.81 211,133.81 \" fill=\"none\" id=\"E5-&gt;E3\" style=\"stroke: #383838; stroke-width: 1.0;\"/><polygon fill=\"#FFFFFF\" points=\"211,153.81,204,134.81,218,134.81,211,153.81\" style=\"stroke: #383838; stroke-width: 1.0;\"/><ellipse cx=\"206\" cy=\"129.11\" fill=\"#383838\" rx=\"2\" ry=\"2\" style=\"stroke: #383838; stroke-width: 1.0;\"/><ellipse cx=\"216\" cy=\"129.11\" fill=\"#383838\" rx=\"2\" ry=\"2\" style=\"stroke: #383838; stroke-width: 1.0;\"/><!--MD5=[bfa3c8b0d15052fdf50ae9310b491027]\n",
       "link E8 to E7--><path d=\"M114.5,90.72 C114.5,90.72 114.5,133.81 114.5,133.81 \" fill=\"none\" id=\"E8-&gt;E7\" style=\"stroke: #383838; stroke-width: 1.0;\"/><polygon fill=\"#FFFFFF\" points=\"114.5,153.81,107.5,134.81,121.5,134.81,114.5,153.81\" style=\"stroke: #383838; stroke-width: 1.0;\"/><ellipse cx=\"109.5\" cy=\"129.11\" fill=\"#383838\" rx=\"2\" ry=\"2\" style=\"stroke: #383838; stroke-width: 1.0;\"/><ellipse cx=\"119.5\" cy=\"129.11\" fill=\"#383838\" rx=\"2\" ry=\"2\" style=\"stroke: #383838; stroke-width: 1.0;\"/><!--MD5=[cb5b9497debb0af55bc29375901a6883]\n",
       "@startuml\r\n",
       "skinparam linetype ortho\r\n",
       "skinparam monochrome true\r\n",
       "skinparam classbackgroundcolor white\r\n",
       "skinparam shadowing false\r\n",
       "skinparam wrapWidth 300\r\n",
       "hide circle\r\n",
       "\r\n",
       "package \"PrivateImportTest\" as E1   {\r\n",
       "package \"P1\" as E2   {\r\n",
       "comp def \"A\" as E3  <<(T,blue)part def>> {\r\n",
       "}\r\n",
       "}\r\n",
       "package \"P2\" as E4   {\r\n",
       "}\r\n",
       "comp usage \"x: A\" as E5  <<(T,blue)part>> {\r\n",
       "}\r\n",
       "package \"P3\" as E6   {\r\n",
       "comp def \"B\" as E7  <<(T,blue)part def>> {\r\n",
       "}\r\n",
       "E5 - -:|> E3\r\n",
       "}\r\n",
       "comp usage \"z: B\" as E8  <<(T,blue)part>> {\r\n",
       "}\r\n",
       "E8 - -:|> E7\r\n",
       "}\r\n",
       "@enduml\r\n",
       "\n",
       "PlantUML version 1.2020.13(Sat Jun 13 12:26:38 UTC 2020)\n",
       "(EPL source distribution)\n",
       "Java Runtime: OpenJDK Runtime Environment\n",
       "JVM: OpenJDK 64-Bit Server VM\n",
       "Default Encoding: UTF-8\n",
       "Language: en\n",
       "Country: null\n",
       "--></g></svg>"
      ]
     },
     "execution_count": 51,
     "metadata": {},
     "output_type": "execute_result"
    }
   ],
   "source": [
    "%viz --style=\"ORTHOLINE\" --view=\"Default\" \"PrivateImportTest\""
   ]
  },
  {
   "cell_type": "code",
   "execution_count": 52,
   "id": "disturbed-donor",
   "metadata": {
    "execution": {
     "iopub.execute_input": "2021-03-25T15:59:54.136201Z",
     "iopub.status.busy": "2021-03-25T15:59:54.135545Z",
     "iopub.status.idle": "2021-03-25T15:59:54.202434Z",
     "shell.execute_reply": "2021-03-25T15:59:54.202078Z"
    }
   },
   "outputs": [
    {
     "data": {
      "image/svg+xml": [
       "<?xml version=\"1.0\" encoding=\"UTF-8\" standalone=\"no\"?><svg xmlns=\"http://www.w3.org/2000/svg\" xmlns:xlink=\"http://www.w3.org/1999/xlink\" contentScriptType=\"application/ecmascript\" contentStyleType=\"text/css\" height=\"252px\" preserveAspectRatio=\"none\" style=\"width:306px;height:252px;\" version=\"1.1\" viewBox=\"0 0 306 252\" width=\"306px\" zoomAndPan=\"magnify\"><defs/><g><!--MD5=[fbc87193dbaf4d95561dea2c320d4a47]\n",
       "cluster E1--><polygon fill=\"#FFFFFF\" points=\"16,6,163,6,170,28.2969,284,28.2969,284,240,16,240,16,6\" style=\"stroke: #000000; stroke-width: 1.5;\"/><line style=\"stroke: #000000; stroke-width: 1.5;\" x1=\"16\" x2=\"170\" y1=\"28.2969\" y2=\"28.2969\"/><text fill=\"#000000\" font-family=\"sans-serif\" font-size=\"14\" font-weight=\"bold\" lengthAdjust=\"spacingAndGlyphs\" textLength=\"141\" x=\"20\" y=\"20.9951\">PrivateImportTest</text><!--MD5=[e4f7fae6ed58524ba242bb0b0d3be6b7]\n",
       "cluster E2--><polygon fill=\"#FFFFFF\" points=\"162,119,188,119,195,141.2969,260,141.2969,260,216,162,216,162,119\" style=\"stroke: #000000; stroke-width: 1.5;\"/><line style=\"stroke: #000000; stroke-width: 1.5;\" x1=\"162\" x2=\"195\" y1=\"141.2969\" y2=\"141.2969\"/><text fill=\"#000000\" font-family=\"sans-serif\" font-size=\"14\" font-weight=\"bold\" lengthAdjust=\"spacingAndGlyphs\" textLength=\"20\" x=\"166\" y=\"133.9951\">P1</text><!--MD5=[14e3b0961a2654348d326746436168a1]\n",
       "cluster E6--><polygon fill=\"#FFFFFF\" points=\"40,119,66,119,73,141.2969,138,141.2969,138,216,40,216,40,119\" style=\"stroke: #000000; stroke-width: 1.5;\"/><line style=\"stroke: #000000; stroke-width: 1.5;\" x1=\"40\" x2=\"73\" y1=\"141.2969\" y2=\"141.2969\"/><text fill=\"#000000\" font-family=\"sans-serif\" font-size=\"14\" font-weight=\"bold\" lengthAdjust=\"spacingAndGlyphs\" textLength=\"20\" x=\"44\" y=\"133.9951\">P3</text><!--MD5=[270fce915f116d4de14055a7c1d9a0f3]\n",
       "class E5--><rect fill=\"#FFFFFF\" height=\"45.9375\" id=\"E5\" rx=\"10\" ry=\"10\" style=\"stroke: #383838; stroke-width: 1.5;\" width=\"42\" x=\"190\" y=\"44.5\"/><text fill=\"#000000\" font-family=\"sans-serif\" font-size=\"12\" font-style=\"italic\" lengthAdjust=\"spacingAndGlyphs\" textLength=\"40\" x=\"191\" y=\"60.6387\">«part»</text><text fill=\"#000000\" font-family=\"sans-serif\" font-size=\"12\" lengthAdjust=\"spacingAndGlyphs\" textLength=\"22\" x=\"200\" y=\"74.6074\">x: A</text><line style=\"stroke: #383838; stroke-width: 1.5;\" x1=\"191\" x2=\"231\" y1=\"82.4375\" y2=\"82.4375\"/><!--MD5=[b9389687b975829384b498ac4b7476b2]\n",
       "class E8--><rect fill=\"#FFFFFF\" height=\"45.9375\" id=\"E8\" rx=\"10\" ry=\"10\" style=\"stroke: #383838; stroke-width: 1.5;\" width=\"42\" x=\"107\" y=\"44.5\"/><text fill=\"#000000\" font-family=\"sans-serif\" font-size=\"12\" font-style=\"italic\" lengthAdjust=\"spacingAndGlyphs\" textLength=\"40\" x=\"108\" y=\"60.6387\">«part»</text><text fill=\"#000000\" font-family=\"sans-serif\" font-size=\"12\" lengthAdjust=\"spacingAndGlyphs\" textLength=\"21\" x=\"117.5\" y=\"74.6074\">z: B</text><line style=\"stroke: #383838; stroke-width: 1.5;\" x1=\"108\" x2=\"148\" y1=\"82.4375\" y2=\"82.4375\"/><!--MD5=[09b614a08d8cba4a07c9adeb5e0fee81]\n",
       "class E3--><rect fill=\"#FFFFFF\" height=\"45.9375\" id=\"E3\" style=\"stroke: #383838; stroke-width: 1.5;\" width=\"66\" x=\"178\" y=\"154\"/><text fill=\"#000000\" font-family=\"sans-serif\" font-size=\"12\" font-style=\"italic\" lengthAdjust=\"spacingAndGlyphs\" textLength=\"64\" x=\"179\" y=\"170.1387\">«part def»</text><text fill=\"#000000\" font-family=\"sans-serif\" font-size=\"12\" lengthAdjust=\"spacingAndGlyphs\" textLength=\"8\" x=\"207\" y=\"184.1074\">A</text><line style=\"stroke: #383838; stroke-width: 1.5;\" x1=\"179\" x2=\"243\" y1=\"191.9375\" y2=\"191.9375\"/><polygon fill=\"#FFFFFF\" points=\"32,41,58,41,65,63.2969,72,63.2969,72,93.5938,32,93.5938,32,41\" style=\"stroke: #000000; stroke-width: 1.5;\"/><line style=\"stroke: #000000; stroke-width: 1.5;\" x1=\"32\" x2=\"65\" y1=\"63.2969\" y2=\"63.2969\"/><text fill=\"#000000\" font-family=\"sans-serif\" font-size=\"14\" font-weight=\"bold\" lengthAdjust=\"spacingAndGlyphs\" textLength=\"20\" x=\"36\" y=\"55.9951\">P2</text><!--MD5=[2156ba9850f5573cc1fc38a6a4b2f02b]\n",
       "class E7--><rect fill=\"#FFFFFF\" height=\"45.9375\" id=\"E7\" style=\"stroke: #383838; stroke-width: 1.5;\" width=\"66\" x=\"56\" y=\"154\"/><text fill=\"#000000\" font-family=\"sans-serif\" font-size=\"12\" font-style=\"italic\" lengthAdjust=\"spacingAndGlyphs\" textLength=\"64\" x=\"57\" y=\"170.1387\">«part def»</text><text fill=\"#000000\" font-family=\"sans-serif\" font-size=\"12\" lengthAdjust=\"spacingAndGlyphs\" textLength=\"8\" x=\"85\" y=\"184.1074\">B</text><line style=\"stroke: #383838; stroke-width: 1.5;\" x1=\"57\" x2=\"121\" y1=\"191.9375\" y2=\"191.9375\"/><!--MD5=[e9be52314489bd878ff4c7144b63c9e1]\n",
       "link E5 to E3--><path d=\"M211,90.72 C211,90.72 211,133.81 211,133.81 \" fill=\"none\" id=\"E5-&gt;E3\" style=\"stroke: #383838; stroke-width: 1.0;\"/><polygon fill=\"#FFFFFF\" points=\"211,153.81,204,134.81,218,134.81,211,153.81\" style=\"stroke: #383838; stroke-width: 1.0;\"/><ellipse cx=\"206\" cy=\"129.11\" fill=\"#383838\" rx=\"2\" ry=\"2\" style=\"stroke: #383838; stroke-width: 1.0;\"/><ellipse cx=\"216\" cy=\"129.11\" fill=\"#383838\" rx=\"2\" ry=\"2\" style=\"stroke: #383838; stroke-width: 1.0;\"/><!--MD5=[bfa3c8b0d15052fdf50ae9310b491027]\n",
       "link E8 to E7--><path d=\"M114.5,90.72 C114.5,90.72 114.5,133.81 114.5,133.81 \" fill=\"none\" id=\"E8-&gt;E7\" style=\"stroke: #383838; stroke-width: 1.0;\"/><polygon fill=\"#FFFFFF\" points=\"114.5,153.81,107.5,134.81,121.5,134.81,114.5,153.81\" style=\"stroke: #383838; stroke-width: 1.0;\"/><ellipse cx=\"109.5\" cy=\"129.11\" fill=\"#383838\" rx=\"2\" ry=\"2\" style=\"stroke: #383838; stroke-width: 1.0;\"/><ellipse cx=\"119.5\" cy=\"129.11\" fill=\"#383838\" rx=\"2\" ry=\"2\" style=\"stroke: #383838; stroke-width: 1.0;\"/><!--MD5=[cb5b9497debb0af55bc29375901a6883]\n",
       "@startuml\r\n",
       "skinparam linetype ortho\r\n",
       "skinparam monochrome true\r\n",
       "skinparam classbackgroundcolor white\r\n",
       "skinparam shadowing false\r\n",
       "skinparam wrapWidth 300\r\n",
       "hide circle\r\n",
       "\r\n",
       "package \"PrivateImportTest\" as E1   {\r\n",
       "package \"P1\" as E2   {\r\n",
       "comp def \"A\" as E3  <<(T,blue)part def>> {\r\n",
       "}\r\n",
       "}\r\n",
       "package \"P2\" as E4   {\r\n",
       "}\r\n",
       "comp usage \"x: A\" as E5  <<(T,blue)part>> {\r\n",
       "}\r\n",
       "package \"P3\" as E6   {\r\n",
       "comp def \"B\" as E7  <<(T,blue)part def>> {\r\n",
       "}\r\n",
       "E5 - -:|> E3\r\n",
       "}\r\n",
       "comp usage \"z: B\" as E8  <<(T,blue)part>> {\r\n",
       "}\r\n",
       "E8 - -:|> E7\r\n",
       "}\r\n",
       "@enduml\r\n",
       "\n",
       "PlantUML version 1.2020.13(Sat Jun 13 12:26:38 UTC 2020)\n",
       "(EPL source distribution)\n",
       "Java Runtime: OpenJDK Runtime Environment\n",
       "JVM: OpenJDK 64-Bit Server VM\n",
       "Default Encoding: UTF-8\n",
       "Language: en\n",
       "Country: null\n",
       "--></g></svg>"
      ]
     },
     "execution_count": 52,
     "metadata": {},
     "output_type": "execute_result"
    }
   ],
   "source": [
    "%viz --style=\"ORTHOLINE\" --view=\"Tree\" \"PrivateImportTest\""
   ]
  },
  {
   "cell_type": "code",
   "execution_count": 53,
   "id": "final-virus",
   "metadata": {
    "execution": {
     "iopub.execute_input": "2021-03-25T15:59:54.253436Z",
     "iopub.status.busy": "2021-03-25T15:59:54.252899Z",
     "iopub.status.idle": "2021-03-25T15:59:54.255068Z",
     "shell.execute_reply": "2021-03-25T15:59:54.255475Z"
    }
   },
   "outputs": [
    {
     "data": {
      "text/plain": [
       "java.lang.IllegalArgumentException: Invalid View: State View candidates are: Default Tree StateMachine Interconnection Activity Sequence MIXED \n",
       "\tat org.omg.sysml.plantuml.SysML2PlantUMLSvc.setView(SysML2PlantUMLSvc.java:63)\n",
       "\tat org.omg.sysml.interactive.SysMLInteractive.viz(SysMLInteractive.java:286)\n",
       "\tat org.omg.sysml.jupyter.kernel.magic.Viz.viz(Viz.java:47)\n",
       "\tat jdk.internal.reflect.GeneratedMethodAccessor8.invoke(Unknown Source)\n",
       "\tat java.base/jdk.internal.reflect.DelegatingMethodAccessorImpl.invoke(DelegatingMethodAccessorImpl.java:43)\n",
       "\tat java.base/java.lang.reflect.Method.invoke(Method.java:568)\n",
       "\tat io.github.spencerpark.jupyter.kernel.magic.registry.Magics.invoke(Magics.java:89)\n",
       "\tat io.github.spencerpark.jupyter.kernel.magic.registry.Magics.access$000(Magics.java:8)\n",
       "\tat io.github.spencerpark.jupyter.kernel.magic.registry.Magics$LineReflectionMagicFunction.execute(Magics.java:149)\n",
       "\tat io.github.spencerpark.jupyter.kernel.magic.registry.Magics.applyLineMagic(Magics.java:26)\n",
       "\tat org.omg.sysml.jupyter.kernel.SysMLKernel.eval(SysMLKernel.java:76)\n",
       "\tat io.github.spencerpark.jupyter.kernel.BaseKernel.handleExecuteRequest(BaseKernel.java:334)\n",
       "\tat io.github.spencerpark.jupyter.channels.ShellChannel.lambda$bind$0(ShellChannel.java:64)\n",
       "\tat io.github.spencerpark.jupyter.channels.Loop.lambda$new$0(Loop.java:21)\n",
       "\tat io.github.spencerpark.jupyter.channels.Loop.run(Loop.java:78)\n"
      ]
     },
     "execution_count": 53,
     "metadata": {},
     "output_type": "execute_result"
    }
   ],
   "source": [
    "%viz --style=\"ORTHOLINE\" --view=\"State\" \"PrivateImportTest\""
   ]
  },
  {
   "cell_type": "code",
   "execution_count": 54,
   "id": "dangerous-monitoring",
   "metadata": {
    "execution": {
     "iopub.execute_input": "2021-03-25T15:59:54.306321Z",
     "iopub.status.busy": "2021-03-25T15:59:54.305764Z",
     "iopub.status.idle": "2021-03-25T15:59:54.385327Z",
     "shell.execute_reply": "2021-03-25T15:59:54.385782Z"
    }
   },
   "outputs": [
    {
     "data": {
      "image/svg+xml": [
       "<?xml version=\"1.0\" encoding=\"UTF-8\" standalone=\"no\"?><svg xmlns=\"http://www.w3.org/2000/svg\" xmlns:xlink=\"http://www.w3.org/1999/xlink\" contentScriptType=\"application/ecmascript\" contentStyleType=\"text/css\" height=\"189px\" preserveAspectRatio=\"none\" style=\"width:579px;height:189px;\" version=\"1.1\" viewBox=\"0 0 579 189\" width=\"579px\" zoomAndPan=\"magnify\"><defs/><g><!--MD5=[fbc87193dbaf4d95561dea2c320d4a47]\n",
       "cluster E1--><polygon fill=\"#FFFFFF\" points=\"16,6,163,6,170,28.2969,557,28.2969,557,177,16,177,16,6\" style=\"stroke: #000000; stroke-width: 1.5;\"/><line style=\"stroke: #000000; stroke-width: 1.5;\" x1=\"16\" x2=\"170\" y1=\"28.2969\" y2=\"28.2969\"/><text fill=\"#000000\" font-family=\"sans-serif\" font-size=\"14\" font-weight=\"bold\" lengthAdjust=\"spacingAndGlyphs\" textLength=\"141\" x=\"20\" y=\"20.9951\">PrivateImportTest</text><!--MD5=[e4f7fae6ed58524ba242bb0b0d3be6b7]\n",
       "cluster E2--><polygon fill=\"#FFFFFF\" points=\"409,49,435,49,442,71.2969,533,71.2969,533,153,409,153,409,49\" style=\"stroke: #000000; stroke-width: 1.5;\"/><line style=\"stroke: #000000; stroke-width: 1.5;\" x1=\"409\" x2=\"442\" y1=\"71.2969\" y2=\"71.2969\"/><text fill=\"#000000\" font-family=\"sans-serif\" font-size=\"14\" font-weight=\"bold\" lengthAdjust=\"spacingAndGlyphs\" textLength=\"20\" x=\"413\" y=\"63.9951\">P1</text><!--MD5=[14e3b0961a2654348d326746436168a1]\n",
       "cluster E6--><polygon fill=\"#FFFFFF\" points=\"261,49,287,49,294,71.2969,385,71.2969,385,153,261,153,261,49\" style=\"stroke: #000000; stroke-width: 1.5;\"/><line style=\"stroke: #000000; stroke-width: 1.5;\" x1=\"261\" x2=\"294\" y1=\"71.2969\" y2=\"71.2969\"/><text fill=\"#000000\" font-family=\"sans-serif\" font-size=\"14\" font-weight=\"bold\" lengthAdjust=\"spacingAndGlyphs\" textLength=\"20\" x=\"265\" y=\"63.9951\">P3</text><!--MD5=[a60fb756f580feb9fd8e2cf1329b5c91]\n",
       "entity E3--><rect fill=\"#FFFFFF\" height=\"52.5938\" style=\"stroke: #000000; stroke-width: 1.5;\" width=\"91\" x=\"425.5\" y=\"84\"/><text fill=\"#000000\" font-family=\"sans-serif\" font-size=\"14\" font-style=\"italic\" lengthAdjust=\"spacingAndGlyphs\" textLength=\"71\" x=\"435.5\" y=\"106.9951\">«part def»</text><text fill=\"#000000\" font-family=\"sans-serif\" font-size=\"14\" lengthAdjust=\"spacingAndGlyphs\" textLength=\"9\" x=\"466.5\" y=\"123.292\">A</text><polygon fill=\"#FFFFFF\" points=\"202,84,228,84,235,106.2969,242,106.2969,242,136.5938,202,136.5938,202,84\" style=\"stroke: #000000; stroke-width: 1.5;\"/><line style=\"stroke: #000000; stroke-width: 1.5;\" x1=\"202\" x2=\"235\" y1=\"106.2969\" y2=\"106.2969\"/><text fill=\"#000000\" font-family=\"sans-serif\" font-size=\"14\" font-weight=\"bold\" lengthAdjust=\"spacingAndGlyphs\" textLength=\"20\" x=\"206\" y=\"98.9951\">P2</text><g id=\"E1.E5\"><rect fill=\"#FFFFFF\" height=\"50\" rx=\"12.5\" ry=\"12.5\" style=\"stroke: #383838; stroke-width: 1.5;\" width=\"50\" x=\"117\" y=\"85.5\"/><line style=\"stroke: #383838; stroke-width: 1.5;\" x1=\"117\" x2=\"167\" y1=\"111.7969\" y2=\"111.7969\"/><text fill=\"#000000\" font-family=\"sans-serif\" font-size=\"14\" lengthAdjust=\"spacingAndGlyphs\" textLength=\"25\" x=\"129.5\" y=\"103.4951\">x: A</text></g><!--MD5=[9c5f31f192441de4a59826ec090dc00a]\n",
       "entity E7--><rect fill=\"#FFFFFF\" height=\"52.5938\" style=\"stroke: #000000; stroke-width: 1.5;\" width=\"91\" x=\"277.5\" y=\"84\"/><text fill=\"#000000\" font-family=\"sans-serif\" font-size=\"14\" font-style=\"italic\" lengthAdjust=\"spacingAndGlyphs\" textLength=\"71\" x=\"287.5\" y=\"106.9951\">«part def»</text><text fill=\"#000000\" font-family=\"sans-serif\" font-size=\"14\" lengthAdjust=\"spacingAndGlyphs\" textLength=\"10\" x=\"318\" y=\"123.292\">B</text><g id=\"E1.E8\"><rect fill=\"#FFFFFF\" height=\"50\" rx=\"12.5\" ry=\"12.5\" style=\"stroke: #383838; stroke-width: 1.5;\" width=\"50\" x=\"32\" y=\"85.5\"/><line style=\"stroke: #383838; stroke-width: 1.5;\" x1=\"32\" x2=\"82\" y1=\"111.7969\" y2=\"111.7969\"/><text fill=\"#000000\" font-family=\"sans-serif\" font-size=\"14\" lengthAdjust=\"spacingAndGlyphs\" textLength=\"27\" x=\"43.5\" y=\"103.4951\">z: B</text></g><!--MD5=[85c45a9d07075cb6f5b0fcf14b7a63e8]\n",
       "@startuml\r\n",
       "skinparam ranksep 8\r\n",
       "skinparam rectangle {\r\n",
       " backgroundColor<<block>> LightGreen\r\n",
       "}\r\n",
       "skinparam linetype ortho\r\n",
       "skinparam monochrome true\r\n",
       "skinparam classbackgroundcolor white\r\n",
       "skinparam shadowing false\r\n",
       "skinparam wrapWidth 300\r\n",
       "hide circle\r\n",
       "\r\n",
       "package \"PrivateImportTest\" as E1   {\r\n",
       "package \"P1\" as E2   {\r\n",
       "rec def \"A\" as E3  <<part def>> {\r\n",
       "}\r\n",
       "}\r\n",
       "package \"P2\" as E4   {\r\n",
       "}\r\n",
       "rec usage \"x: A\" as E5  {\r\n",
       "}\r\n",
       "package \"P3\" as E6   {\r\n",
       "rec def \"B\" as E7  <<part def>> {\r\n",
       "}\r\n",
       "}\r\n",
       "rec usage \"z: B\" as E8  {\r\n",
       "}\r\n",
       "}\r\n",
       "@enduml\r\n",
       "\n",
       "PlantUML version 1.2020.13(Sat Jun 13 12:26:38 UTC 2020)\n",
       "(EPL source distribution)\n",
       "Java Runtime: OpenJDK Runtime Environment\n",
       "JVM: OpenJDK 64-Bit Server VM\n",
       "Default Encoding: UTF-8\n",
       "Language: en\n",
       "Country: null\n",
       "--></g></svg>"
      ]
     },
     "execution_count": 54,
     "metadata": {},
     "output_type": "execute_result"
    }
   ],
   "source": [
    "%viz --style=\"ORTHOLINE\" --view=\"Interconnection\" \"PrivateImportTest\""
   ]
  },
  {
   "cell_type": "code",
   "execution_count": 55,
   "id": "lovely-translator",
   "metadata": {
    "execution": {
     "iopub.execute_input": "2021-03-25T15:59:54.436441Z",
     "iopub.status.busy": "2021-03-25T15:59:54.436004Z",
     "iopub.status.idle": "2021-03-25T15:59:54.437435Z",
     "shell.execute_reply": "2021-03-25T15:59:54.437933Z"
    }
   },
   "outputs": [
    {
     "data": {
      "text/plain": [
       "java.lang.IllegalArgumentException: Invalid View: Action View candidates are: Default Tree StateMachine Interconnection Activity Sequence MIXED \n",
       "\tat org.omg.sysml.plantuml.SysML2PlantUMLSvc.setView(SysML2PlantUMLSvc.java:63)\n",
       "\tat org.omg.sysml.interactive.SysMLInteractive.viz(SysMLInteractive.java:286)\n",
       "\tat org.omg.sysml.jupyter.kernel.magic.Viz.viz(Viz.java:47)\n",
       "\tat jdk.internal.reflect.GeneratedMethodAccessor8.invoke(Unknown Source)\n",
       "\tat java.base/jdk.internal.reflect.DelegatingMethodAccessorImpl.invoke(DelegatingMethodAccessorImpl.java:43)\n",
       "\tat java.base/java.lang.reflect.Method.invoke(Method.java:568)\n",
       "\tat io.github.spencerpark.jupyter.kernel.magic.registry.Magics.invoke(Magics.java:89)\n",
       "\tat io.github.spencerpark.jupyter.kernel.magic.registry.Magics.access$000(Magics.java:8)\n",
       "\tat io.github.spencerpark.jupyter.kernel.magic.registry.Magics$LineReflectionMagicFunction.execute(Magics.java:149)\n",
       "\tat io.github.spencerpark.jupyter.kernel.magic.registry.Magics.applyLineMagic(Magics.java:26)\n",
       "\tat org.omg.sysml.jupyter.kernel.SysMLKernel.eval(SysMLKernel.java:76)\n",
       "\tat io.github.spencerpark.jupyter.kernel.BaseKernel.handleExecuteRequest(BaseKernel.java:334)\n",
       "\tat io.github.spencerpark.jupyter.channels.ShellChannel.lambda$bind$0(ShellChannel.java:64)\n",
       "\tat io.github.spencerpark.jupyter.channels.Loop.lambda$new$0(Loop.java:21)\n",
       "\tat io.github.spencerpark.jupyter.channels.Loop.run(Loop.java:78)\n"
      ]
     },
     "execution_count": 55,
     "metadata": {},
     "output_type": "execute_result"
    }
   ],
   "source": [
    "%viz --style=\"ORTHOLINE\" --view=\"Action\" \"PrivateImportTest\""
   ]
  },
  {
   "cell_type": "code",
   "execution_count": 56,
   "id": "embedded-progressive",
   "metadata": {
    "execution": {
     "iopub.execute_input": "2021-03-25T15:59:54.490331Z",
     "iopub.status.busy": "2021-03-25T15:59:54.489372Z",
     "iopub.status.idle": "2021-03-25T15:59:54.557928Z",
     "shell.execute_reply": "2021-03-25T15:59:54.557142Z"
    }
   },
   "outputs": [
    {
     "data": {
      "image/svg+xml": [
       "<?xml version=\"1.0\" encoding=\"UTF-8\" standalone=\"no\"?><svg xmlns=\"http://www.w3.org/2000/svg\" xmlns:xlink=\"http://www.w3.org/1999/xlink\" contentScriptType=\"application/ecmascript\" contentStyleType=\"text/css\" height=\"252px\" preserveAspectRatio=\"none\" style=\"width:306px;height:252px;\" version=\"1.1\" viewBox=\"0 0 306 252\" width=\"306px\" zoomAndPan=\"magnify\"><defs/><g><!--MD5=[fbc87193dbaf4d95561dea2c320d4a47]\n",
       "cluster E1--><polygon fill=\"#FFFFFF\" points=\"16,6,163,6,170,28.2969,284,28.2969,284,240,16,240,16,6\" style=\"stroke: #000000; stroke-width: 1.5;\"/><line style=\"stroke: #000000; stroke-width: 1.5;\" x1=\"16\" x2=\"170\" y1=\"28.2969\" y2=\"28.2969\"/><text fill=\"#000000\" font-family=\"sans-serif\" font-size=\"14\" font-weight=\"bold\" lengthAdjust=\"spacingAndGlyphs\" textLength=\"141\" x=\"20\" y=\"20.9951\">PrivateImportTest</text><!--MD5=[e4f7fae6ed58524ba242bb0b0d3be6b7]\n",
       "cluster E2--><polygon fill=\"#FFFFFF\" points=\"162,119,188,119,195,141.2969,260,141.2969,260,216,162,216,162,119\" style=\"stroke: #000000; stroke-width: 1.5;\"/><line style=\"stroke: #000000; stroke-width: 1.5;\" x1=\"162\" x2=\"195\" y1=\"141.2969\" y2=\"141.2969\"/><text fill=\"#000000\" font-family=\"sans-serif\" font-size=\"14\" font-weight=\"bold\" lengthAdjust=\"spacingAndGlyphs\" textLength=\"20\" x=\"166\" y=\"133.9951\">P1</text><!--MD5=[14e3b0961a2654348d326746436168a1]\n",
       "cluster E6--><polygon fill=\"#FFFFFF\" points=\"40,119,66,119,73,141.2969,138,141.2969,138,216,40,216,40,119\" style=\"stroke: #000000; stroke-width: 1.5;\"/><line style=\"stroke: #000000; stroke-width: 1.5;\" x1=\"40\" x2=\"73\" y1=\"141.2969\" y2=\"141.2969\"/><text fill=\"#000000\" font-family=\"sans-serif\" font-size=\"14\" font-weight=\"bold\" lengthAdjust=\"spacingAndGlyphs\" textLength=\"20\" x=\"44\" y=\"133.9951\">P3</text><!--MD5=[270fce915f116d4de14055a7c1d9a0f3]\n",
       "class E5--><rect fill=\"#FFFFFF\" height=\"45.9375\" id=\"E5\" rx=\"10\" ry=\"10\" style=\"stroke: #383838; stroke-width: 1.5;\" width=\"42\" x=\"190\" y=\"44.5\"/><text fill=\"#000000\" font-family=\"sans-serif\" font-size=\"12\" font-style=\"italic\" lengthAdjust=\"spacingAndGlyphs\" textLength=\"40\" x=\"191\" y=\"60.6387\">«part»</text><text fill=\"#000000\" font-family=\"sans-serif\" font-size=\"12\" lengthAdjust=\"spacingAndGlyphs\" textLength=\"22\" x=\"200\" y=\"74.6074\">x: A</text><line style=\"stroke: #383838; stroke-width: 1.5;\" x1=\"191\" x2=\"231\" y1=\"82.4375\" y2=\"82.4375\"/><!--MD5=[b9389687b975829384b498ac4b7476b2]\n",
       "class E8--><rect fill=\"#FFFFFF\" height=\"45.9375\" id=\"E8\" rx=\"10\" ry=\"10\" style=\"stroke: #383838; stroke-width: 1.5;\" width=\"42\" x=\"107\" y=\"44.5\"/><text fill=\"#000000\" font-family=\"sans-serif\" font-size=\"12\" font-style=\"italic\" lengthAdjust=\"spacingAndGlyphs\" textLength=\"40\" x=\"108\" y=\"60.6387\">«part»</text><text fill=\"#000000\" font-family=\"sans-serif\" font-size=\"12\" lengthAdjust=\"spacingAndGlyphs\" textLength=\"21\" x=\"117.5\" y=\"74.6074\">z: B</text><line style=\"stroke: #383838; stroke-width: 1.5;\" x1=\"108\" x2=\"148\" y1=\"82.4375\" y2=\"82.4375\"/><!--MD5=[09b614a08d8cba4a07c9adeb5e0fee81]\n",
       "class E3--><rect fill=\"#FFFFFF\" height=\"45.9375\" id=\"E3\" style=\"stroke: #383838; stroke-width: 1.5;\" width=\"66\" x=\"178\" y=\"154\"/><text fill=\"#000000\" font-family=\"sans-serif\" font-size=\"12\" font-style=\"italic\" lengthAdjust=\"spacingAndGlyphs\" textLength=\"64\" x=\"179\" y=\"170.1387\">«part def»</text><text fill=\"#000000\" font-family=\"sans-serif\" font-size=\"12\" lengthAdjust=\"spacingAndGlyphs\" textLength=\"8\" x=\"207\" y=\"184.1074\">A</text><line style=\"stroke: #383838; stroke-width: 1.5;\" x1=\"179\" x2=\"243\" y1=\"191.9375\" y2=\"191.9375\"/><polygon fill=\"#FFFFFF\" points=\"32,41,58,41,65,63.2969,72,63.2969,72,93.5938,32,93.5938,32,41\" style=\"stroke: #000000; stroke-width: 1.5;\"/><line style=\"stroke: #000000; stroke-width: 1.5;\" x1=\"32\" x2=\"65\" y1=\"63.2969\" y2=\"63.2969\"/><text fill=\"#000000\" font-family=\"sans-serif\" font-size=\"14\" font-weight=\"bold\" lengthAdjust=\"spacingAndGlyphs\" textLength=\"20\" x=\"36\" y=\"55.9951\">P2</text><!--MD5=[2156ba9850f5573cc1fc38a6a4b2f02b]\n",
       "class E7--><rect fill=\"#FFFFFF\" height=\"45.9375\" id=\"E7\" style=\"stroke: #383838; stroke-width: 1.5;\" width=\"66\" x=\"56\" y=\"154\"/><text fill=\"#000000\" font-family=\"sans-serif\" font-size=\"12\" font-style=\"italic\" lengthAdjust=\"spacingAndGlyphs\" textLength=\"64\" x=\"57\" y=\"170.1387\">«part def»</text><text fill=\"#000000\" font-family=\"sans-serif\" font-size=\"12\" lengthAdjust=\"spacingAndGlyphs\" textLength=\"8\" x=\"85\" y=\"184.1074\">B</text><line style=\"stroke: #383838; stroke-width: 1.5;\" x1=\"57\" x2=\"121\" y1=\"191.9375\" y2=\"191.9375\"/><!--MD5=[e9be52314489bd878ff4c7144b63c9e1]\n",
       "link E5 to E3--><path d=\"M211,90.72 C211,90.72 211,133.81 211,133.81 \" fill=\"none\" id=\"E5-&gt;E3\" style=\"stroke: #383838; stroke-width: 1.0;\"/><polygon fill=\"#FFFFFF\" points=\"211,153.81,204,134.81,218,134.81,211,153.81\" style=\"stroke: #383838; stroke-width: 1.0;\"/><ellipse cx=\"206\" cy=\"129.11\" fill=\"#383838\" rx=\"2\" ry=\"2\" style=\"stroke: #383838; stroke-width: 1.0;\"/><ellipse cx=\"216\" cy=\"129.11\" fill=\"#383838\" rx=\"2\" ry=\"2\" style=\"stroke: #383838; stroke-width: 1.0;\"/><!--MD5=[bfa3c8b0d15052fdf50ae9310b491027]\n",
       "link E8 to E7--><path d=\"M114.5,90.72 C114.5,90.72 114.5,133.81 114.5,133.81 \" fill=\"none\" id=\"E8-&gt;E7\" style=\"stroke: #383838; stroke-width: 1.0;\"/><polygon fill=\"#FFFFFF\" points=\"114.5,153.81,107.5,134.81,121.5,134.81,114.5,153.81\" style=\"stroke: #383838; stroke-width: 1.0;\"/><ellipse cx=\"109.5\" cy=\"129.11\" fill=\"#383838\" rx=\"2\" ry=\"2\" style=\"stroke: #383838; stroke-width: 1.0;\"/><ellipse cx=\"119.5\" cy=\"129.11\" fill=\"#383838\" rx=\"2\" ry=\"2\" style=\"stroke: #383838; stroke-width: 1.0;\"/><!--MD5=[cb5b9497debb0af55bc29375901a6883]\n",
       "@startuml\r\n",
       "skinparam linetype ortho\r\n",
       "skinparam monochrome true\r\n",
       "skinparam classbackgroundcolor white\r\n",
       "skinparam shadowing false\r\n",
       "skinparam wrapWidth 300\r\n",
       "hide circle\r\n",
       "\r\n",
       "package \"PrivateImportTest\" as E1   {\r\n",
       "package \"P1\" as E2   {\r\n",
       "comp def \"A\" as E3  <<(T,blue)part def>> {\r\n",
       "}\r\n",
       "}\r\n",
       "package \"P2\" as E4   {\r\n",
       "}\r\n",
       "comp usage \"x: A\" as E5  <<(T,blue)part>> {\r\n",
       "}\r\n",
       "package \"P3\" as E6   {\r\n",
       "comp def \"B\" as E7  <<(T,blue)part def>> {\r\n",
       "}\r\n",
       "E5 - -:|> E3\r\n",
       "}\r\n",
       "comp usage \"z: B\" as E8  <<(T,blue)part>> {\r\n",
       "}\r\n",
       "E8 - -:|> E7\r\n",
       "}\r\n",
       "@enduml\r\n",
       "\n",
       "PlantUML version 1.2020.13(Sat Jun 13 12:26:38 UTC 2020)\n",
       "(EPL source distribution)\n",
       "Java Runtime: OpenJDK Runtime Environment\n",
       "JVM: OpenJDK 64-Bit Server VM\n",
       "Default Encoding: UTF-8\n",
       "Language: en\n",
       "Country: null\n",
       "--></g></svg>"
      ]
     },
     "execution_count": 56,
     "metadata": {},
     "output_type": "execute_result"
    }
   ],
   "source": [
    "%viz --style=\"ORTHOLINE\" --view=\"Sequence\" \"PrivateImportTest\""
   ]
  },
  {
   "cell_type": "code",
   "execution_count": 57,
   "id": "arabic-denial",
   "metadata": {
    "execution": {
     "iopub.execute_input": "2021-03-25T15:59:54.608501Z",
     "iopub.status.busy": "2021-03-25T15:59:54.607968Z",
     "iopub.status.idle": "2021-03-25T15:59:54.674877Z",
     "shell.execute_reply": "2021-03-25T15:59:54.675481Z"
    }
   },
   "outputs": [
    {
     "data": {
      "image/svg+xml": [
       "<?xml version=\"1.0\" encoding=\"UTF-8\" standalone=\"no\"?><svg xmlns=\"http://www.w3.org/2000/svg\" xmlns:xlink=\"http://www.w3.org/1999/xlink\" contentScriptType=\"application/ecmascript\" contentStyleType=\"text/css\" height=\"252px\" preserveAspectRatio=\"none\" style=\"width:306px;height:252px;\" version=\"1.1\" viewBox=\"0 0 306 252\" width=\"306px\" zoomAndPan=\"magnify\"><defs/><g><!--MD5=[fbc87193dbaf4d95561dea2c320d4a47]\n",
       "cluster E1--><polygon fill=\"#FFFFFF\" points=\"16,6,163,6,170,28.2969,284,28.2969,284,240,16,240,16,6\" style=\"stroke: #000000; stroke-width: 1.5;\"/><line style=\"stroke: #000000; stroke-width: 1.5;\" x1=\"16\" x2=\"170\" y1=\"28.2969\" y2=\"28.2969\"/><text fill=\"#000000\" font-family=\"sans-serif\" font-size=\"14\" font-weight=\"bold\" lengthAdjust=\"spacingAndGlyphs\" textLength=\"141\" x=\"20\" y=\"20.9951\">PrivateImportTest</text><!--MD5=[e4f7fae6ed58524ba242bb0b0d3be6b7]\n",
       "cluster E2--><polygon fill=\"#FFFFFF\" points=\"162,119,188,119,195,141.2969,260,141.2969,260,216,162,216,162,119\" style=\"stroke: #000000; stroke-width: 1.5;\"/><line style=\"stroke: #000000; stroke-width: 1.5;\" x1=\"162\" x2=\"195\" y1=\"141.2969\" y2=\"141.2969\"/><text fill=\"#000000\" font-family=\"sans-serif\" font-size=\"14\" font-weight=\"bold\" lengthAdjust=\"spacingAndGlyphs\" textLength=\"20\" x=\"166\" y=\"133.9951\">P1</text><!--MD5=[14e3b0961a2654348d326746436168a1]\n",
       "cluster E6--><polygon fill=\"#FFFFFF\" points=\"40,119,66,119,73,141.2969,138,141.2969,138,216,40,216,40,119\" style=\"stroke: #000000; stroke-width: 1.5;\"/><line style=\"stroke: #000000; stroke-width: 1.5;\" x1=\"40\" x2=\"73\" y1=\"141.2969\" y2=\"141.2969\"/><text fill=\"#000000\" font-family=\"sans-serif\" font-size=\"14\" font-weight=\"bold\" lengthAdjust=\"spacingAndGlyphs\" textLength=\"20\" x=\"44\" y=\"133.9951\">P3</text><!--MD5=[270fce915f116d4de14055a7c1d9a0f3]\n",
       "class E5--><rect fill=\"#FFFFFF\" height=\"45.9375\" id=\"E5\" rx=\"10\" ry=\"10\" style=\"stroke: #383838; stroke-width: 1.5;\" width=\"42\" x=\"190\" y=\"44.5\"/><text fill=\"#000000\" font-family=\"sans-serif\" font-size=\"12\" font-style=\"italic\" lengthAdjust=\"spacingAndGlyphs\" textLength=\"40\" x=\"191\" y=\"60.6387\">«part»</text><text fill=\"#000000\" font-family=\"sans-serif\" font-size=\"12\" lengthAdjust=\"spacingAndGlyphs\" textLength=\"22\" x=\"200\" y=\"74.6074\">x: A</text><line style=\"stroke: #383838; stroke-width: 1.5;\" x1=\"191\" x2=\"231\" y1=\"82.4375\" y2=\"82.4375\"/><!--MD5=[b9389687b975829384b498ac4b7476b2]\n",
       "class E8--><rect fill=\"#FFFFFF\" height=\"45.9375\" id=\"E8\" rx=\"10\" ry=\"10\" style=\"stroke: #383838; stroke-width: 1.5;\" width=\"42\" x=\"107\" y=\"44.5\"/><text fill=\"#000000\" font-family=\"sans-serif\" font-size=\"12\" font-style=\"italic\" lengthAdjust=\"spacingAndGlyphs\" textLength=\"40\" x=\"108\" y=\"60.6387\">«part»</text><text fill=\"#000000\" font-family=\"sans-serif\" font-size=\"12\" lengthAdjust=\"spacingAndGlyphs\" textLength=\"21\" x=\"117.5\" y=\"74.6074\">z: B</text><line style=\"stroke: #383838; stroke-width: 1.5;\" x1=\"108\" x2=\"148\" y1=\"82.4375\" y2=\"82.4375\"/><!--MD5=[09b614a08d8cba4a07c9adeb5e0fee81]\n",
       "class E3--><rect fill=\"#FFFFFF\" height=\"45.9375\" id=\"E3\" style=\"stroke: #383838; stroke-width: 1.5;\" width=\"66\" x=\"178\" y=\"154\"/><text fill=\"#000000\" font-family=\"sans-serif\" font-size=\"12\" font-style=\"italic\" lengthAdjust=\"spacingAndGlyphs\" textLength=\"64\" x=\"179\" y=\"170.1387\">«part def»</text><text fill=\"#000000\" font-family=\"sans-serif\" font-size=\"12\" lengthAdjust=\"spacingAndGlyphs\" textLength=\"8\" x=\"207\" y=\"184.1074\">A</text><line style=\"stroke: #383838; stroke-width: 1.5;\" x1=\"179\" x2=\"243\" y1=\"191.9375\" y2=\"191.9375\"/><polygon fill=\"#FFFFFF\" points=\"32,41,58,41,65,63.2969,72,63.2969,72,93.5938,32,93.5938,32,41\" style=\"stroke: #000000; stroke-width: 1.5;\"/><line style=\"stroke: #000000; stroke-width: 1.5;\" x1=\"32\" x2=\"65\" y1=\"63.2969\" y2=\"63.2969\"/><text fill=\"#000000\" font-family=\"sans-serif\" font-size=\"14\" font-weight=\"bold\" lengthAdjust=\"spacingAndGlyphs\" textLength=\"20\" x=\"36\" y=\"55.9951\">P2</text><!--MD5=[2156ba9850f5573cc1fc38a6a4b2f02b]\n",
       "class E7--><rect fill=\"#FFFFFF\" height=\"45.9375\" id=\"E7\" style=\"stroke: #383838; stroke-width: 1.5;\" width=\"66\" x=\"56\" y=\"154\"/><text fill=\"#000000\" font-family=\"sans-serif\" font-size=\"12\" font-style=\"italic\" lengthAdjust=\"spacingAndGlyphs\" textLength=\"64\" x=\"57\" y=\"170.1387\">«part def»</text><text fill=\"#000000\" font-family=\"sans-serif\" font-size=\"12\" lengthAdjust=\"spacingAndGlyphs\" textLength=\"8\" x=\"85\" y=\"184.1074\">B</text><line style=\"stroke: #383838; stroke-width: 1.5;\" x1=\"57\" x2=\"121\" y1=\"191.9375\" y2=\"191.9375\"/><!--MD5=[e9be52314489bd878ff4c7144b63c9e1]\n",
       "link E5 to E3--><path d=\"M211,90.72 C211,90.72 211,133.81 211,133.81 \" fill=\"none\" id=\"E5-&gt;E3\" style=\"stroke: #383838; stroke-width: 1.0;\"/><polygon fill=\"#FFFFFF\" points=\"211,153.81,204,134.81,218,134.81,211,153.81\" style=\"stroke: #383838; stroke-width: 1.0;\"/><ellipse cx=\"206\" cy=\"129.11\" fill=\"#383838\" rx=\"2\" ry=\"2\" style=\"stroke: #383838; stroke-width: 1.0;\"/><ellipse cx=\"216\" cy=\"129.11\" fill=\"#383838\" rx=\"2\" ry=\"2\" style=\"stroke: #383838; stroke-width: 1.0;\"/><!--MD5=[bfa3c8b0d15052fdf50ae9310b491027]\n",
       "link E8 to E7--><path d=\"M114.5,90.72 C114.5,90.72 114.5,133.81 114.5,133.81 \" fill=\"none\" id=\"E8-&gt;E7\" style=\"stroke: #383838; stroke-width: 1.0;\"/><polygon fill=\"#FFFFFF\" points=\"114.5,153.81,107.5,134.81,121.5,134.81,114.5,153.81\" style=\"stroke: #383838; stroke-width: 1.0;\"/><ellipse cx=\"109.5\" cy=\"129.11\" fill=\"#383838\" rx=\"2\" ry=\"2\" style=\"stroke: #383838; stroke-width: 1.0;\"/><ellipse cx=\"119.5\" cy=\"129.11\" fill=\"#383838\" rx=\"2\" ry=\"2\" style=\"stroke: #383838; stroke-width: 1.0;\"/><!--MD5=[cb5b9497debb0af55bc29375901a6883]\n",
       "@startuml\r\n",
       "skinparam linetype ortho\r\n",
       "skinparam monochrome true\r\n",
       "skinparam classbackgroundcolor white\r\n",
       "skinparam shadowing false\r\n",
       "skinparam wrapWidth 300\r\n",
       "hide circle\r\n",
       "\r\n",
       "package \"PrivateImportTest\" as E1   {\r\n",
       "package \"P1\" as E2   {\r\n",
       "comp def \"A\" as E3  <<(T,blue)part def>> {\r\n",
       "}\r\n",
       "}\r\n",
       "package \"P2\" as E4   {\r\n",
       "}\r\n",
       "comp usage \"x: A\" as E5  <<(T,blue)part>> {\r\n",
       "}\r\n",
       "package \"P3\" as E6   {\r\n",
       "comp def \"B\" as E7  <<(T,blue)part def>> {\r\n",
       "}\r\n",
       "E5 - -:|> E3\r\n",
       "}\r\n",
       "comp usage \"z: B\" as E8  <<(T,blue)part>> {\r\n",
       "}\r\n",
       "E8 - -:|> E7\r\n",
       "}\r\n",
       "@enduml\r\n",
       "\n",
       "PlantUML version 1.2020.13(Sat Jun 13 12:26:38 UTC 2020)\n",
       "(EPL source distribution)\n",
       "Java Runtime: OpenJDK Runtime Environment\n",
       "JVM: OpenJDK 64-Bit Server VM\n",
       "Default Encoding: UTF-8\n",
       "Language: en\n",
       "Country: null\n",
       "--></g></svg>"
      ]
     },
     "execution_count": 57,
     "metadata": {},
     "output_type": "execute_result"
    }
   ],
   "source": [
    "%viz --style=\"ORTHOLINE\" --view=\"MIXED\" \"PrivateImportTest\""
   ]
  }
 ],
 "metadata": {
  "kernelspec": {
   "display_name": "SysML",
   "language": "sysml",
   "name": "sysml"
  },
  "language_info": {
   "codemirror_mode": "sysml",
   "file_extension": ".sysml",
   "mimetype": "text/x-sysml",
   "name": "SysML",
   "pygments_lexer": "java",
   "version": "1.0.0"
  }
 },
 "nbformat": 4,
 "nbformat_minor": 5
}
