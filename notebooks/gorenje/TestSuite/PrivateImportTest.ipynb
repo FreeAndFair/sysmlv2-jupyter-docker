{
 "cells": [
  {
   "cell_type": "markdown",
   "id": "japanese-thread",
   "metadata": {},
   "source": [
    "# SysML v2 Test Suite\n",
    "\n",
    "This can notebook can be cleared using menu `Edit --> Clear All Outputs` and then all cells can be\n",
    "run using menu `Run --> Run All Cells`.\n",
    "\n",
    "**WARNING**: This file is generated, all modifications here will be ignored.\n"
   ]
  },
  {
   "cell_type": "markdown",
   "id": "revolutionary-monthly",
   "metadata": {},
   "source": [
    "## File: ../../sysml/src/examples/Import Tests/PrivateImportTest.sysml"
   ]
  },
  {
   "cell_type": "code",
   "execution_count": 1,
   "id": "corresponding-africa",
   "metadata": {
    "execution": {
     "iopub.execute_input": "2021-03-24T16:28:02.411003Z",
     "iopub.status.busy": "2021-03-24T16:28:02.410147Z",
     "iopub.status.idle": "2021-03-24T16:28:02.539052Z",
     "shell.execute_reply": "2021-03-24T16:28:02.538212Z"
    }
   },
   "outputs": [
    {
     "data": {
      "text/plain": [
       "Package PrivateImportTest (820aa800-0cce-4639-8ce9-e1a2d0f8f2ed)\n"
      ]
     },
     "execution_count": 1,
     "metadata": {},
     "output_type": "execute_result"
    }
   ],
   "source": [
    "package PrivateImportTest {\n",
    "\tpackage P1 {\n",
    "\t\tpart def A;\n",
    "\t}\n",
    "\tpackage P2 {\n",
    "\t\tprivate import P1::*;\n",
    "\t}\n",
    "\tpart x: P1::A;\n",
    "\t\n",
    "\timport P2::*;\n",
    "\t// This should fail.\n",
    "\t// A is not visible, because the import in P2 is private.\n",
    "\t// y: A;\n",
    "\t\n",
    "\tpackage P3 {\n",
    "\t\tpart def B;\n",
    "\t}\n",
    "\t\n",
    "\tprivate import P3::*;\n",
    "\t\n",
    "\t// This should not fail.\n",
    "\t// Private import only restricts visibility outside the package.\n",
    "\tpart z: B;\n",
    "\t\n",
    "}"
   ]
  },
  {
   "cell_type": "code",
   "execution_count": 2,
   "id": "pointed-biology",
   "metadata": {
    "execution": {
     "iopub.execute_input": "2021-03-24T16:28:02.591310Z",
     "iopub.status.busy": "2021-03-24T16:28:02.590439Z",
     "iopub.status.idle": "2021-03-24T16:28:03.194829Z",
     "shell.execute_reply": "2021-03-24T16:28:03.194136Z"
    }
   },
   "outputs": [
    {
     "data": {
      "image/svg+xml": [
       "<?xml version=\"1.0\" encoding=\"UTF-8\" standalone=\"no\"?><svg xmlns=\"http://www.w3.org/2000/svg\" xmlns:xlink=\"http://www.w3.org/1999/xlink\" contentScriptType=\"application/ecmascript\" contentStyleType=\"text/css\" height=\"252px\" preserveAspectRatio=\"none\" style=\"width:306px;height:252px;\" version=\"1.1\" viewBox=\"0 0 306 252\" width=\"306px\" zoomAndPan=\"magnify\"><defs/><g><!--MD5=[fbc87193dbaf4d95561dea2c320d4a47]\n",
       "cluster E1--><a href=\"psysml:679eaabc-5ff5-4f8e-91e0-c316c2e3864c\" target=\"_top\" title=\"psysml:679eaabc-5ff5-4f8e-91e0-c316c2e3864c\" xlink:actuate=\"onRequest\" xlink:href=\"psysml:679eaabc-5ff5-4f8e-91e0-c316c2e3864c\" xlink:show=\"new\" xlink:title=\"psysml:679eaabc-5ff5-4f8e-91e0-c316c2e3864c\" xlink:type=\"simple\"><polygon fill=\"#FFFFFF\" points=\"16,6,163,6,170,28.2969,284,28.2969,284,240,16,240,16,6\" style=\"stroke: #000000; stroke-width: 1.5;\"/><line style=\"stroke: #000000; stroke-width: 1.5;\" x1=\"16\" x2=\"170\" y1=\"28.2969\" y2=\"28.2969\"/><text fill=\"#000000\" font-family=\"sans-serif\" font-size=\"14\" font-weight=\"bold\" lengthAdjust=\"spacingAndGlyphs\" textLength=\"141\" x=\"20\" y=\"20.9951\">PrivateImportTest</text></a><!--MD5=[e4f7fae6ed58524ba242bb0b0d3be6b7]\n",
       "cluster E2--><a href=\"psysml:009bdde2-dc25-4a27-9e47-f33e7b142b72\" target=\"_top\" title=\"psysml:009bdde2-dc25-4a27-9e47-f33e7b142b72\" xlink:actuate=\"onRequest\" xlink:href=\"psysml:009bdde2-dc25-4a27-9e47-f33e7b142b72\" xlink:show=\"new\" xlink:title=\"psysml:009bdde2-dc25-4a27-9e47-f33e7b142b72\" xlink:type=\"simple\"><polygon fill=\"#FFFFFF\" points=\"162,119,188,119,195,141.2969,260,141.2969,260,216,162,216,162,119\" style=\"stroke: #000000; stroke-width: 1.5;\"/><line style=\"stroke: #000000; stroke-width: 1.5;\" x1=\"162\" x2=\"195\" y1=\"141.2969\" y2=\"141.2969\"/><text fill=\"#000000\" font-family=\"sans-serif\" font-size=\"14\" font-weight=\"bold\" lengthAdjust=\"spacingAndGlyphs\" textLength=\"20\" x=\"166\" y=\"133.9951\">P1</text></a><!--MD5=[14e3b0961a2654348d326746436168a1]\n",
       "cluster E6--><a href=\"psysml:b0bbce7f-63ab-4038-bed6-f72cdad2d833\" target=\"_top\" title=\"psysml:b0bbce7f-63ab-4038-bed6-f72cdad2d833\" xlink:actuate=\"onRequest\" xlink:href=\"psysml:b0bbce7f-63ab-4038-bed6-f72cdad2d833\" xlink:show=\"new\" xlink:title=\"psysml:b0bbce7f-63ab-4038-bed6-f72cdad2d833\" xlink:type=\"simple\"><polygon fill=\"#FFFFFF\" points=\"40,119,66,119,73,141.2969,138,141.2969,138,216,40,216,40,119\" style=\"stroke: #000000; stroke-width: 1.5;\"/><line style=\"stroke: #000000; stroke-width: 1.5;\" x1=\"40\" x2=\"73\" y1=\"141.2969\" y2=\"141.2969\"/><text fill=\"#000000\" font-family=\"sans-serif\" font-size=\"14\" font-weight=\"bold\" lengthAdjust=\"spacingAndGlyphs\" textLength=\"20\" x=\"44\" y=\"133.9951\">P3</text></a><!--MD5=[270fce915f116d4de14055a7c1d9a0f3]\n",
       "class E5--><a href=\"psysml:ae15bfee-df16-4fee-9dc7-bf97e2180cfd\" target=\"_top\" title=\"psysml:ae15bfee-df16-4fee-9dc7-bf97e2180cfd\" xlink:actuate=\"onRequest\" xlink:href=\"psysml:ae15bfee-df16-4fee-9dc7-bf97e2180cfd\" xlink:show=\"new\" xlink:title=\"psysml:ae15bfee-df16-4fee-9dc7-bf97e2180cfd\" xlink:type=\"simple\"><rect fill=\"#FFFFFF\" height=\"45.9375\" id=\"E5\" rx=\"10\" ry=\"10\" style=\"stroke: #383838; stroke-width: 1.5;\" width=\"42\" x=\"190\" y=\"44.5\"/><text fill=\"#000000\" font-family=\"sans-serif\" font-size=\"12\" font-style=\"italic\" lengthAdjust=\"spacingAndGlyphs\" textLength=\"40\" x=\"191\" y=\"60.6387\">«part»</text><text fill=\"#000000\" font-family=\"sans-serif\" font-size=\"12\" lengthAdjust=\"spacingAndGlyphs\" textLength=\"22\" x=\"200\" y=\"74.6074\">x: A</text><line style=\"stroke: #383838; stroke-width: 1.5;\" x1=\"191\" x2=\"231\" y1=\"82.4375\" y2=\"82.4375\"/></a><!--MD5=[b9389687b975829384b498ac4b7476b2]\n",
       "class E8--><a href=\"psysml:977e6037-d806-4fb0-bccf-0c48256693c8\" target=\"_top\" title=\"psysml:977e6037-d806-4fb0-bccf-0c48256693c8\" xlink:actuate=\"onRequest\" xlink:href=\"psysml:977e6037-d806-4fb0-bccf-0c48256693c8\" xlink:show=\"new\" xlink:title=\"psysml:977e6037-d806-4fb0-bccf-0c48256693c8\" xlink:type=\"simple\"><rect fill=\"#FFFFFF\" height=\"45.9375\" id=\"E8\" rx=\"10\" ry=\"10\" style=\"stroke: #383838; stroke-width: 1.5;\" width=\"42\" x=\"107\" y=\"44.5\"/><text fill=\"#000000\" font-family=\"sans-serif\" font-size=\"12\" font-style=\"italic\" lengthAdjust=\"spacingAndGlyphs\" textLength=\"40\" x=\"108\" y=\"60.6387\">«part»</text><text fill=\"#000000\" font-family=\"sans-serif\" font-size=\"12\" lengthAdjust=\"spacingAndGlyphs\" textLength=\"21\" x=\"117.5\" y=\"74.6074\">z: B</text><line style=\"stroke: #383838; stroke-width: 1.5;\" x1=\"108\" x2=\"148\" y1=\"82.4375\" y2=\"82.4375\"/></a><!--MD5=[09b614a08d8cba4a07c9adeb5e0fee81]\n",
       "class E3--><a href=\"psysml:3f36db9e-42d3-4087-b2e1-ec91d884c8c4\" target=\"_top\" title=\"psysml:3f36db9e-42d3-4087-b2e1-ec91d884c8c4\" xlink:actuate=\"onRequest\" xlink:href=\"psysml:3f36db9e-42d3-4087-b2e1-ec91d884c8c4\" xlink:show=\"new\" xlink:title=\"psysml:3f36db9e-42d3-4087-b2e1-ec91d884c8c4\" xlink:type=\"simple\"><rect fill=\"#FFFFFF\" height=\"45.9375\" id=\"E3\" style=\"stroke: #383838; stroke-width: 1.5;\" width=\"66\" x=\"178\" y=\"154\"/><text fill=\"#000000\" font-family=\"sans-serif\" font-size=\"12\" font-style=\"italic\" lengthAdjust=\"spacingAndGlyphs\" textLength=\"64\" x=\"179\" y=\"170.1387\">«part def»</text><text fill=\"#000000\" font-family=\"sans-serif\" font-size=\"12\" lengthAdjust=\"spacingAndGlyphs\" textLength=\"8\" x=\"207\" y=\"184.1074\">A</text><line style=\"stroke: #383838; stroke-width: 1.5;\" x1=\"179\" x2=\"243\" y1=\"191.9375\" y2=\"191.9375\"/></a><a href=\"psysml:6aec89c6-9258-4c03-89c0-e79f913ee5de\" target=\"_top\" title=\"psysml:6aec89c6-9258-4c03-89c0-e79f913ee5de\" xlink:actuate=\"onRequest\" xlink:href=\"psysml:6aec89c6-9258-4c03-89c0-e79f913ee5de\" xlink:show=\"new\" xlink:title=\"psysml:6aec89c6-9258-4c03-89c0-e79f913ee5de\" xlink:type=\"simple\"><polygon fill=\"#FFFFFF\" points=\"32,41,58,41,65,63.2969,72,63.2969,72,93.5938,32,93.5938,32,41\" style=\"stroke: #000000; stroke-width: 1.5;\"/><line style=\"stroke: #000000; stroke-width: 1.5;\" x1=\"32\" x2=\"65\" y1=\"63.2969\" y2=\"63.2969\"/><text fill=\"#000000\" font-family=\"sans-serif\" font-size=\"14\" font-weight=\"bold\" lengthAdjust=\"spacingAndGlyphs\" textLength=\"20\" x=\"36\" y=\"55.9951\">P2</text></a><!--MD5=[2156ba9850f5573cc1fc38a6a4b2f02b]\n",
       "class E7--><a href=\"psysml:0f9466c7-ef71-48bc-a930-ec3e2c1a2c86\" target=\"_top\" title=\"psysml:0f9466c7-ef71-48bc-a930-ec3e2c1a2c86\" xlink:actuate=\"onRequest\" xlink:href=\"psysml:0f9466c7-ef71-48bc-a930-ec3e2c1a2c86\" xlink:show=\"new\" xlink:title=\"psysml:0f9466c7-ef71-48bc-a930-ec3e2c1a2c86\" xlink:type=\"simple\"><rect fill=\"#FFFFFF\" height=\"45.9375\" id=\"E7\" style=\"stroke: #383838; stroke-width: 1.5;\" width=\"66\" x=\"56\" y=\"154\"/><text fill=\"#000000\" font-family=\"sans-serif\" font-size=\"12\" font-style=\"italic\" lengthAdjust=\"spacingAndGlyphs\" textLength=\"64\" x=\"57\" y=\"170.1387\">«part def»</text><text fill=\"#000000\" font-family=\"sans-serif\" font-size=\"12\" lengthAdjust=\"spacingAndGlyphs\" textLength=\"8\" x=\"85\" y=\"184.1074\">B</text><line style=\"stroke: #383838; stroke-width: 1.5;\" x1=\"57\" x2=\"121\" y1=\"191.9375\" y2=\"191.9375\"/></a><!--MD5=[e9be52314489bd878ff4c7144b63c9e1]\n",
       "link E5 to E3--><a href=\"psysml:fc52ff88-f6bf-464b-a9f6-50c073522383\" target=\"_top\" title=\"psysml:fc52ff88-f6bf-464b-a9f6-50c073522383\" xlink:actuate=\"onRequest\" xlink:href=\"psysml:fc52ff88-f6bf-464b-a9f6-50c073522383\" xlink:show=\"new\" xlink:title=\"psysml:fc52ff88-f6bf-464b-a9f6-50c073522383\" xlink:type=\"simple\"><path d=\"M211,90.51 C211,102.89 211,118.78 211,133.48 \" fill=\"none\" id=\"E5-&gt;E3\" style=\"stroke: #383838; stroke-width: 1.0;\"/><polygon fill=\"#FFFFFF\" points=\"211,153.65,204,134.65,218,134.65,211,153.65\" style=\"stroke: #383838; stroke-width: 1.0;\"/><ellipse cx=\"206\" cy=\"128.95\" fill=\"#383838\" rx=\"2\" ry=\"2\" style=\"stroke: #383838; stroke-width: 1.0;\"/><ellipse cx=\"216\" cy=\"128.95\" fill=\"#383838\" rx=\"2\" ry=\"2\" style=\"stroke: #383838; stroke-width: 1.0;\"/></a><!--MD5=[bfa3c8b0d15052fdf50ae9310b491027]\n",
       "link E8 to E7--><a href=\"psysml:46d3b5b8-edad-416f-ae7d-d25648abca20\" target=\"_top\" title=\"psysml:46d3b5b8-edad-416f-ae7d-d25648abca20\" xlink:actuate=\"onRequest\" xlink:href=\"psysml:46d3b5b8-edad-416f-ae7d-d25648abca20\" xlink:show=\"new\" xlink:title=\"psysml:46d3b5b8-edad-416f-ae7d-d25648abca20\" xlink:type=\"simple\"><path d=\"M120.01,90.51 C115.39,103.25 109.42,119.7 103.96,134.76 \" fill=\"none\" id=\"E8-&gt;E7\" style=\"stroke: #383838; stroke-width: 1.0;\"/><polygon fill=\"#FFFFFF\" points=\"97.11,153.65,97.0036,133.4018,110.1656,138.1726,97.11,153.65\" style=\"stroke: #383838; stroke-width: 1.0;\"/><ellipse cx=\"100.8262\" cy=\"128.7245\" fill=\"#383838\" rx=\"2\" ry=\"2\" style=\"stroke: #383838; stroke-width: 1.0;\"/><ellipse cx=\"110.2277\" cy=\"132.1322\" fill=\"#383838\" rx=\"2\" ry=\"2\" style=\"stroke: #383838; stroke-width: 1.0;\"/></a><!--MD5=[e38d4d685732a5cfff28efc2904e0cff]\n",
       "@startuml\r\n",
       " skinparam monochrome true\r\n",
       "skinparam classbackgroundcolor white\r\n",
       "skinparam shadowing false\r\n",
       "skinparam wrapWidth 300\r\n",
       "hide circle\r\n",
       "\r\n",
       "package \"PrivateImportTest\" as E1  [[psysml:679eaabc-5ff5-4f8e-91e0-c316c2e3864c ]]  {\r\n",
       "package \"P1\" as E2  [[psysml:009bdde2-dc25-4a27-9e47-f33e7b142b72 ]]  {\r\n",
       "comp def \"A\" as E3  <<(T,blue)part def>> [[psysml:3f36db9e-42d3-4087-b2e1-ec91d884c8c4 ]] {\r\n",
       "}\r\n",
       "}\r\n",
       "package \"P2\" as E4  [[psysml:6aec89c6-9258-4c03-89c0-e79f913ee5de ]]  {\r\n",
       "}\r\n",
       "comp usage \"x: A\" as E5  <<(T,blue)part>> [[psysml:ae15bfee-df16-4fee-9dc7-bf97e2180cfd ]] {\r\n",
       "}\r\n",
       "package \"P3\" as E6  [[psysml:b0bbce7f-63ab-4038-bed6-f72cdad2d833 ]]  {\r\n",
       "comp def \"B\" as E7  <<(T,blue)part def>> [[psysml:0f9466c7-ef71-48bc-a930-ec3e2c1a2c86 ]] {\r\n",
       "}\r\n",
       "E5 - -:|> E3 [[psysml:fc52ff88-f6bf-464b-a9f6-50c073522383 ]] \r\n",
       "}\r\n",
       "comp usage \"z: B\" as E8  <<(T,blue)part>> [[psysml:977e6037-d806-4fb0-bccf-0c48256693c8 ]] {\r\n",
       "}\r\n",
       "E8 - -:|> E7 [[psysml:46d3b5b8-edad-416f-ae7d-d25648abca20 ]] \r\n",
       "}\r\n",
       "@enduml\r\n",
       "\n",
       "PlantUML version 1.2020.13(Sat Jun 13 12:26:38 UTC 2020)\n",
       "(EPL source distribution)\n",
       "Java Runtime: OpenJDK Runtime Environment\n",
       "JVM: OpenJDK 64-Bit Server VM\n",
       "Default Encoding: UTF-8\n",
       "Language: en\n",
       "Country: null\n",
       "--></g></svg>"
      ]
     },
     "execution_count": 2,
     "metadata": {},
     "output_type": "execute_result"
    }
   ],
   "source": [
    "%viz --style=\"COMPTREE\" --view=\"Default\" \"PrivateImportTest\""
   ]
  },
  {
   "cell_type": "code",
   "execution_count": 3,
   "id": "meaning-photographer",
   "metadata": {
    "execution": {
     "iopub.execute_input": "2021-03-24T16:28:03.244457Z",
     "iopub.status.busy": "2021-03-24T16:28:03.244030Z",
     "iopub.status.idle": "2021-03-24T16:28:03.319094Z",
     "shell.execute_reply": "2021-03-24T16:28:03.319468Z"
    }
   },
   "outputs": [
    {
     "data": {
      "image/svg+xml": [
       "<?xml version=\"1.0\" encoding=\"UTF-8\" standalone=\"no\"?><svg xmlns=\"http://www.w3.org/2000/svg\" xmlns:xlink=\"http://www.w3.org/1999/xlink\" contentScriptType=\"application/ecmascript\" contentStyleType=\"text/css\" height=\"252px\" preserveAspectRatio=\"none\" style=\"width:306px;height:252px;\" version=\"1.1\" viewBox=\"0 0 306 252\" width=\"306px\" zoomAndPan=\"magnify\"><defs/><g><!--MD5=[fbc87193dbaf4d95561dea2c320d4a47]\n",
       "cluster E1--><a href=\"psysml:679eaabc-5ff5-4f8e-91e0-c316c2e3864c\" target=\"_top\" title=\"psysml:679eaabc-5ff5-4f8e-91e0-c316c2e3864c\" xlink:actuate=\"onRequest\" xlink:href=\"psysml:679eaabc-5ff5-4f8e-91e0-c316c2e3864c\" xlink:show=\"new\" xlink:title=\"psysml:679eaabc-5ff5-4f8e-91e0-c316c2e3864c\" xlink:type=\"simple\"><polygon fill=\"#FFFFFF\" points=\"16,6,163,6,170,28.2969,284,28.2969,284,240,16,240,16,6\" style=\"stroke: #000000; stroke-width: 1.5;\"/><line style=\"stroke: #000000; stroke-width: 1.5;\" x1=\"16\" x2=\"170\" y1=\"28.2969\" y2=\"28.2969\"/><text fill=\"#000000\" font-family=\"sans-serif\" font-size=\"14\" font-weight=\"bold\" lengthAdjust=\"spacingAndGlyphs\" textLength=\"141\" x=\"20\" y=\"20.9951\">PrivateImportTest</text></a><!--MD5=[e4f7fae6ed58524ba242bb0b0d3be6b7]\n",
       "cluster E2--><a href=\"psysml:009bdde2-dc25-4a27-9e47-f33e7b142b72\" target=\"_top\" title=\"psysml:009bdde2-dc25-4a27-9e47-f33e7b142b72\" xlink:actuate=\"onRequest\" xlink:href=\"psysml:009bdde2-dc25-4a27-9e47-f33e7b142b72\" xlink:show=\"new\" xlink:title=\"psysml:009bdde2-dc25-4a27-9e47-f33e7b142b72\" xlink:type=\"simple\"><polygon fill=\"#FFFFFF\" points=\"162,119,188,119,195,141.2969,260,141.2969,260,216,162,216,162,119\" style=\"stroke: #000000; stroke-width: 1.5;\"/><line style=\"stroke: #000000; stroke-width: 1.5;\" x1=\"162\" x2=\"195\" y1=\"141.2969\" y2=\"141.2969\"/><text fill=\"#000000\" font-family=\"sans-serif\" font-size=\"14\" font-weight=\"bold\" lengthAdjust=\"spacingAndGlyphs\" textLength=\"20\" x=\"166\" y=\"133.9951\">P1</text></a><!--MD5=[14e3b0961a2654348d326746436168a1]\n",
       "cluster E6--><a href=\"psysml:b0bbce7f-63ab-4038-bed6-f72cdad2d833\" target=\"_top\" title=\"psysml:b0bbce7f-63ab-4038-bed6-f72cdad2d833\" xlink:actuate=\"onRequest\" xlink:href=\"psysml:b0bbce7f-63ab-4038-bed6-f72cdad2d833\" xlink:show=\"new\" xlink:title=\"psysml:b0bbce7f-63ab-4038-bed6-f72cdad2d833\" xlink:type=\"simple\"><polygon fill=\"#FFFFFF\" points=\"40,119,66,119,73,141.2969,138,141.2969,138,216,40,216,40,119\" style=\"stroke: #000000; stroke-width: 1.5;\"/><line style=\"stroke: #000000; stroke-width: 1.5;\" x1=\"40\" x2=\"73\" y1=\"141.2969\" y2=\"141.2969\"/><text fill=\"#000000\" font-family=\"sans-serif\" font-size=\"14\" font-weight=\"bold\" lengthAdjust=\"spacingAndGlyphs\" textLength=\"20\" x=\"44\" y=\"133.9951\">P3</text></a><!--MD5=[270fce915f116d4de14055a7c1d9a0f3]\n",
       "class E5--><a href=\"psysml:ae15bfee-df16-4fee-9dc7-bf97e2180cfd\" target=\"_top\" title=\"psysml:ae15bfee-df16-4fee-9dc7-bf97e2180cfd\" xlink:actuate=\"onRequest\" xlink:href=\"psysml:ae15bfee-df16-4fee-9dc7-bf97e2180cfd\" xlink:show=\"new\" xlink:title=\"psysml:ae15bfee-df16-4fee-9dc7-bf97e2180cfd\" xlink:type=\"simple\"><rect fill=\"#FFFFFF\" height=\"45.9375\" id=\"E5\" rx=\"10\" ry=\"10\" style=\"stroke: #383838; stroke-width: 1.5;\" width=\"42\" x=\"190\" y=\"44.5\"/><text fill=\"#000000\" font-family=\"sans-serif\" font-size=\"12\" font-style=\"italic\" lengthAdjust=\"spacingAndGlyphs\" textLength=\"40\" x=\"191\" y=\"60.6387\">«part»</text><text fill=\"#000000\" font-family=\"sans-serif\" font-size=\"12\" lengthAdjust=\"spacingAndGlyphs\" textLength=\"22\" x=\"200\" y=\"74.6074\">x: A</text><line style=\"stroke: #383838; stroke-width: 1.5;\" x1=\"191\" x2=\"231\" y1=\"82.4375\" y2=\"82.4375\"/></a><!--MD5=[b9389687b975829384b498ac4b7476b2]\n",
       "class E8--><a href=\"psysml:977e6037-d806-4fb0-bccf-0c48256693c8\" target=\"_top\" title=\"psysml:977e6037-d806-4fb0-bccf-0c48256693c8\" xlink:actuate=\"onRequest\" xlink:href=\"psysml:977e6037-d806-4fb0-bccf-0c48256693c8\" xlink:show=\"new\" xlink:title=\"psysml:977e6037-d806-4fb0-bccf-0c48256693c8\" xlink:type=\"simple\"><rect fill=\"#FFFFFF\" height=\"45.9375\" id=\"E8\" rx=\"10\" ry=\"10\" style=\"stroke: #383838; stroke-width: 1.5;\" width=\"42\" x=\"107\" y=\"44.5\"/><text fill=\"#000000\" font-family=\"sans-serif\" font-size=\"12\" font-style=\"italic\" lengthAdjust=\"spacingAndGlyphs\" textLength=\"40\" x=\"108\" y=\"60.6387\">«part»</text><text fill=\"#000000\" font-family=\"sans-serif\" font-size=\"12\" lengthAdjust=\"spacingAndGlyphs\" textLength=\"21\" x=\"117.5\" y=\"74.6074\">z: B</text><line style=\"stroke: #383838; stroke-width: 1.5;\" x1=\"108\" x2=\"148\" y1=\"82.4375\" y2=\"82.4375\"/></a><!--MD5=[09b614a08d8cba4a07c9adeb5e0fee81]\n",
       "class E3--><a href=\"psysml:3f36db9e-42d3-4087-b2e1-ec91d884c8c4\" target=\"_top\" title=\"psysml:3f36db9e-42d3-4087-b2e1-ec91d884c8c4\" xlink:actuate=\"onRequest\" xlink:href=\"psysml:3f36db9e-42d3-4087-b2e1-ec91d884c8c4\" xlink:show=\"new\" xlink:title=\"psysml:3f36db9e-42d3-4087-b2e1-ec91d884c8c4\" xlink:type=\"simple\"><rect fill=\"#FFFFFF\" height=\"45.9375\" id=\"E3\" style=\"stroke: #383838; stroke-width: 1.5;\" width=\"66\" x=\"178\" y=\"154\"/><text fill=\"#000000\" font-family=\"sans-serif\" font-size=\"12\" font-style=\"italic\" lengthAdjust=\"spacingAndGlyphs\" textLength=\"64\" x=\"179\" y=\"170.1387\">«part def»</text><text fill=\"#000000\" font-family=\"sans-serif\" font-size=\"12\" lengthAdjust=\"spacingAndGlyphs\" textLength=\"8\" x=\"207\" y=\"184.1074\">A</text><line style=\"stroke: #383838; stroke-width: 1.5;\" x1=\"179\" x2=\"243\" y1=\"191.9375\" y2=\"191.9375\"/></a><a href=\"psysml:6aec89c6-9258-4c03-89c0-e79f913ee5de\" target=\"_top\" title=\"psysml:6aec89c6-9258-4c03-89c0-e79f913ee5de\" xlink:actuate=\"onRequest\" xlink:href=\"psysml:6aec89c6-9258-4c03-89c0-e79f913ee5de\" xlink:show=\"new\" xlink:title=\"psysml:6aec89c6-9258-4c03-89c0-e79f913ee5de\" xlink:type=\"simple\"><polygon fill=\"#FFFFFF\" points=\"32,41,58,41,65,63.2969,72,63.2969,72,93.5938,32,93.5938,32,41\" style=\"stroke: #000000; stroke-width: 1.5;\"/><line style=\"stroke: #000000; stroke-width: 1.5;\" x1=\"32\" x2=\"65\" y1=\"63.2969\" y2=\"63.2969\"/><text fill=\"#000000\" font-family=\"sans-serif\" font-size=\"14\" font-weight=\"bold\" lengthAdjust=\"spacingAndGlyphs\" textLength=\"20\" x=\"36\" y=\"55.9951\">P2</text></a><!--MD5=[2156ba9850f5573cc1fc38a6a4b2f02b]\n",
       "class E7--><a href=\"psysml:0f9466c7-ef71-48bc-a930-ec3e2c1a2c86\" target=\"_top\" title=\"psysml:0f9466c7-ef71-48bc-a930-ec3e2c1a2c86\" xlink:actuate=\"onRequest\" xlink:href=\"psysml:0f9466c7-ef71-48bc-a930-ec3e2c1a2c86\" xlink:show=\"new\" xlink:title=\"psysml:0f9466c7-ef71-48bc-a930-ec3e2c1a2c86\" xlink:type=\"simple\"><rect fill=\"#FFFFFF\" height=\"45.9375\" id=\"E7\" style=\"stroke: #383838; stroke-width: 1.5;\" width=\"66\" x=\"56\" y=\"154\"/><text fill=\"#000000\" font-family=\"sans-serif\" font-size=\"12\" font-style=\"italic\" lengthAdjust=\"spacingAndGlyphs\" textLength=\"64\" x=\"57\" y=\"170.1387\">«part def»</text><text fill=\"#000000\" font-family=\"sans-serif\" font-size=\"12\" lengthAdjust=\"spacingAndGlyphs\" textLength=\"8\" x=\"85\" y=\"184.1074\">B</text><line style=\"stroke: #383838; stroke-width: 1.5;\" x1=\"57\" x2=\"121\" y1=\"191.9375\" y2=\"191.9375\"/></a><!--MD5=[e9be52314489bd878ff4c7144b63c9e1]\n",
       "link E5 to E3--><a href=\"psysml:fc52ff88-f6bf-464b-a9f6-50c073522383\" target=\"_top\" title=\"psysml:fc52ff88-f6bf-464b-a9f6-50c073522383\" xlink:actuate=\"onRequest\" xlink:href=\"psysml:fc52ff88-f6bf-464b-a9f6-50c073522383\" xlink:show=\"new\" xlink:title=\"psysml:fc52ff88-f6bf-464b-a9f6-50c073522383\" xlink:type=\"simple\"><path d=\"M211,90.51 C211,102.89 211,118.78 211,133.48 \" fill=\"none\" id=\"E5-&gt;E3\" style=\"stroke: #383838; stroke-width: 1.0;\"/><polygon fill=\"#FFFFFF\" points=\"211,153.65,204,134.65,218,134.65,211,153.65\" style=\"stroke: #383838; stroke-width: 1.0;\"/><ellipse cx=\"206\" cy=\"128.95\" fill=\"#383838\" rx=\"2\" ry=\"2\" style=\"stroke: #383838; stroke-width: 1.0;\"/><ellipse cx=\"216\" cy=\"128.95\" fill=\"#383838\" rx=\"2\" ry=\"2\" style=\"stroke: #383838; stroke-width: 1.0;\"/></a><!--MD5=[bfa3c8b0d15052fdf50ae9310b491027]\n",
       "link E8 to E7--><a href=\"psysml:46d3b5b8-edad-416f-ae7d-d25648abca20\" target=\"_top\" title=\"psysml:46d3b5b8-edad-416f-ae7d-d25648abca20\" xlink:actuate=\"onRequest\" xlink:href=\"psysml:46d3b5b8-edad-416f-ae7d-d25648abca20\" xlink:show=\"new\" xlink:title=\"psysml:46d3b5b8-edad-416f-ae7d-d25648abca20\" xlink:type=\"simple\"><path d=\"M120.01,90.51 C115.39,103.25 109.42,119.7 103.96,134.76 \" fill=\"none\" id=\"E8-&gt;E7\" style=\"stroke: #383838; stroke-width: 1.0;\"/><polygon fill=\"#FFFFFF\" points=\"97.11,153.65,97.0036,133.4018,110.1656,138.1726,97.11,153.65\" style=\"stroke: #383838; stroke-width: 1.0;\"/><ellipse cx=\"100.8262\" cy=\"128.7245\" fill=\"#383838\" rx=\"2\" ry=\"2\" style=\"stroke: #383838; stroke-width: 1.0;\"/><ellipse cx=\"110.2277\" cy=\"132.1322\" fill=\"#383838\" rx=\"2\" ry=\"2\" style=\"stroke: #383838; stroke-width: 1.0;\"/></a><!--MD5=[e38d4d685732a5cfff28efc2904e0cff]\n",
       "@startuml\r\n",
       " skinparam monochrome true\r\n",
       "skinparam classbackgroundcolor white\r\n",
       "skinparam shadowing false\r\n",
       "skinparam wrapWidth 300\r\n",
       "hide circle\r\n",
       "\r\n",
       "package \"PrivateImportTest\" as E1  [[psysml:679eaabc-5ff5-4f8e-91e0-c316c2e3864c ]]  {\r\n",
       "package \"P1\" as E2  [[psysml:009bdde2-dc25-4a27-9e47-f33e7b142b72 ]]  {\r\n",
       "comp def \"A\" as E3  <<(T,blue)part def>> [[psysml:3f36db9e-42d3-4087-b2e1-ec91d884c8c4 ]] {\r\n",
       "}\r\n",
       "}\r\n",
       "package \"P2\" as E4  [[psysml:6aec89c6-9258-4c03-89c0-e79f913ee5de ]]  {\r\n",
       "}\r\n",
       "comp usage \"x: A\" as E5  <<(T,blue)part>> [[psysml:ae15bfee-df16-4fee-9dc7-bf97e2180cfd ]] {\r\n",
       "}\r\n",
       "package \"P3\" as E6  [[psysml:b0bbce7f-63ab-4038-bed6-f72cdad2d833 ]]  {\r\n",
       "comp def \"B\" as E7  <<(T,blue)part def>> [[psysml:0f9466c7-ef71-48bc-a930-ec3e2c1a2c86 ]] {\r\n",
       "}\r\n",
       "E5 - -:|> E3 [[psysml:fc52ff88-f6bf-464b-a9f6-50c073522383 ]] \r\n",
       "}\r\n",
       "comp usage \"z: B\" as E8  <<(T,blue)part>> [[psysml:977e6037-d806-4fb0-bccf-0c48256693c8 ]] {\r\n",
       "}\r\n",
       "E8 - -:|> E7 [[psysml:46d3b5b8-edad-416f-ae7d-d25648abca20 ]] \r\n",
       "}\r\n",
       "@enduml\r\n",
       "\n",
       "PlantUML version 1.2020.13(Sat Jun 13 12:26:38 UTC 2020)\n",
       "(EPL source distribution)\n",
       "Java Runtime: OpenJDK Runtime Environment\n",
       "JVM: OpenJDK 64-Bit Server VM\n",
       "Default Encoding: UTF-8\n",
       "Language: en\n",
       "Country: null\n",
       "--></g></svg>"
      ]
     },
     "execution_count": 3,
     "metadata": {},
     "output_type": "execute_result"
    }
   ],
   "source": [
    "%viz --style=\"COMPTREE\" --view=\"Tree\" \"PrivateImportTest\""
   ]
  },
  {
   "cell_type": "code",
   "execution_count": 4,
   "id": "quantitative-astrology",
   "metadata": {
    "execution": {
     "iopub.execute_input": "2021-03-24T16:28:03.368840Z",
     "iopub.status.busy": "2021-03-24T16:28:03.368511Z",
     "iopub.status.idle": "2021-03-24T16:28:03.375490Z",
     "shell.execute_reply": "2021-03-24T16:28:03.375852Z"
    }
   },
   "outputs": [
    {
     "data": {
      "image/svg+xml": [
       "<?xml version=\"1.0\" encoding=\"UTF-8\" standalone=\"no\"?><svg xmlns=\"http://www.w3.org/2000/svg\" xmlns:xlink=\"http://www.w3.org/1999/xlink\" contentScriptType=\"application/ecmascript\" contentStyleType=\"text/css\" height=\"12px\" preserveAspectRatio=\"none\" style=\"width:12px;height:12px;\" version=\"1.1\" viewBox=\"0 0 12 12\" width=\"12px\" zoomAndPan=\"magnify\"><defs/><g><!--MD5=[f19188ef49e11757b5c46753f95d9edc]\n",
       "@startuml\r\n",
       " skinparam monochrome true\r\n",
       "skinparam classbackgroundcolor white\r\n",
       "skinparam shadowing false\r\n",
       "skinparam wrapWidth 300\r\n",
       "hide circle\r\n",
       "\r\n",
       "@enduml\r\n",
       "\n",
       "PlantUML version 1.2020.13(Sat Jun 13 12:26:38 UTC 2020)\n",
       "(EPL source distribution)\n",
       "Java Runtime: OpenJDK Runtime Environment\n",
       "JVM: OpenJDK 64-Bit Server VM\n",
       "Default Encoding: UTF-8\n",
       "Language: en\n",
       "Country: null\n",
       "--></g></svg>"
      ]
     },
     "execution_count": 4,
     "metadata": {},
     "output_type": "execute_result"
    }
   ],
   "source": [
    "%viz --style=\"COMPTREE\" --view=\"State\" \"PrivateImportTest\""
   ]
  },
  {
   "cell_type": "code",
   "execution_count": 5,
   "id": "reflected-workstation",
   "metadata": {
    "execution": {
     "iopub.execute_input": "2021-03-24T16:28:03.429025Z",
     "iopub.status.busy": "2021-03-24T16:28:03.427705Z",
     "iopub.status.idle": "2021-03-24T16:28:03.477875Z",
     "shell.execute_reply": "2021-03-24T16:28:03.478202Z"
    }
   },
   "outputs": [
    {
     "data": {
      "image/svg+xml": [
       "<?xml version=\"1.0\" encoding=\"UTF-8\" standalone=\"no\"?><svg xmlns=\"http://www.w3.org/2000/svg\" xmlns:xlink=\"http://www.w3.org/1999/xlink\" contentScriptType=\"application/ecmascript\" contentStyleType=\"text/css\" height=\"179px\" preserveAspectRatio=\"none\" style=\"width:539px;height:179px;\" version=\"1.1\" viewBox=\"0 0 539 179\" width=\"539px\" zoomAndPan=\"magnify\"><defs/><g><!--MD5=[fbc87193dbaf4d95561dea2c320d4a47]\n",
       "cluster E1--><a href=\"psysml:679eaabc-5ff5-4f8e-91e0-c316c2e3864c\" target=\"_top\" title=\"psysml:679eaabc-5ff5-4f8e-91e0-c316c2e3864c\" xlink:actuate=\"onRequest\" xlink:href=\"psysml:679eaabc-5ff5-4f8e-91e0-c316c2e3864c\" xlink:show=\"new\" xlink:title=\"psysml:679eaabc-5ff5-4f8e-91e0-c316c2e3864c\" xlink:type=\"simple\"><polygon fill=\"#FFFFFF\" points=\"16,6,163,6,170,28.2969,517,28.2969,517,167,16,167,16,6\" style=\"stroke: #000000; stroke-width: 1.5;\"/><line style=\"stroke: #000000; stroke-width: 1.5;\" x1=\"16\" x2=\"170\" y1=\"28.2969\" y2=\"28.2969\"/><text fill=\"#000000\" font-family=\"sans-serif\" font-size=\"14\" font-weight=\"bold\" lengthAdjust=\"spacingAndGlyphs\" textLength=\"141\" x=\"20\" y=\"20.9951\">PrivateImportTest</text></a><!--MD5=[e4f7fae6ed58524ba242bb0b0d3be6b7]\n",
       "cluster E2--><a href=\"psysml:009bdde2-dc25-4a27-9e47-f33e7b142b72\" target=\"_top\" title=\"psysml:009bdde2-dc25-4a27-9e47-f33e7b142b72\" xlink:actuate=\"onRequest\" xlink:href=\"psysml:009bdde2-dc25-4a27-9e47-f33e7b142b72\" xlink:show=\"new\" xlink:title=\"psysml:009bdde2-dc25-4a27-9e47-f33e7b142b72\" xlink:type=\"simple\"><polygon fill=\"#FFFFFF\" points=\"389,49,415,49,422,71.2969,493,71.2969,493,143,389,143,389,49\" style=\"stroke: #000000; stroke-width: 1.5;\"/><line style=\"stroke: #000000; stroke-width: 1.5;\" x1=\"389\" x2=\"422\" y1=\"71.2969\" y2=\"71.2969\"/><text fill=\"#000000\" font-family=\"sans-serif\" font-size=\"14\" font-weight=\"bold\" lengthAdjust=\"spacingAndGlyphs\" textLength=\"20\" x=\"393\" y=\"63.9951\">P1</text></a><!--MD5=[14e3b0961a2654348d326746436168a1]\n",
       "cluster E6--><a href=\"psysml:b0bbce7f-63ab-4038-bed6-f72cdad2d833\" target=\"_top\" title=\"psysml:b0bbce7f-63ab-4038-bed6-f72cdad2d833\" xlink:actuate=\"onRequest\" xlink:href=\"psysml:b0bbce7f-63ab-4038-bed6-f72cdad2d833\" xlink:show=\"new\" xlink:title=\"psysml:b0bbce7f-63ab-4038-bed6-f72cdad2d833\" xlink:type=\"simple\"><polygon fill=\"#FFFFFF\" points=\"261,49,287,49,294,71.2969,365,71.2969,365,143,261,143,261,49\" style=\"stroke: #000000; stroke-width: 1.5;\"/><line style=\"stroke: #000000; stroke-width: 1.5;\" x1=\"261\" x2=\"294\" y1=\"71.2969\" y2=\"71.2969\"/><text fill=\"#000000\" font-family=\"sans-serif\" font-size=\"14\" font-weight=\"bold\" lengthAdjust=\"spacingAndGlyphs\" textLength=\"20\" x=\"265\" y=\"63.9951\">P3</text></a><g id=\"E1.E2.E3\"><a href=\"psysml:3f36db9e-42d3-4087-b2e1-ec91d884c8c4\" target=\"_top\" title=\"psysml:3f36db9e-42d3-4087-b2e1-ec91d884c8c4\" xlink:actuate=\"onRequest\" xlink:href=\"psysml:3f36db9e-42d3-4087-b2e1-ec91d884c8c4\" xlink:show=\"new\" xlink:title=\"psysml:3f36db9e-42d3-4087-b2e1-ec91d884c8c4\" xlink:type=\"simple\"><rect fill=\"#FFFFFF\" height=\"42.9375\" id=\"E3\" style=\"stroke: #383838; stroke-width: 1.5;\" width=\"71\" x=\"405.5\" y=\"84\"/><rect fill=\"#F8F8F8\" height=\"37.9375\" style=\"stroke: #383838; stroke-width: 1.5;\" width=\"71\" x=\"405.5\" y=\"84\"/><text fill=\"#000000\" font-family=\"sans-serif\" font-size=\"12\" font-style=\"italic\" lengthAdjust=\"spacingAndGlyphs\" textLength=\"64\" x=\"409\" y=\"100.1387\">«part def»</text><text fill=\"#000000\" font-family=\"sans-serif\" font-size=\"12\" lengthAdjust=\"spacingAndGlyphs\" textLength=\"8\" x=\"437\" y=\"114.1074\">A</text></a></g><a href=\"psysml:6aec89c6-9258-4c03-89c0-e79f913ee5de\" target=\"_top\" title=\"psysml:6aec89c6-9258-4c03-89c0-e79f913ee5de\" xlink:actuate=\"onRequest\" xlink:href=\"psysml:6aec89c6-9258-4c03-89c0-e79f913ee5de\" xlink:show=\"new\" xlink:title=\"psysml:6aec89c6-9258-4c03-89c0-e79f913ee5de\" xlink:type=\"simple\"><polygon fill=\"#FFFFFF\" points=\"202,79,228,79,235,101.2969,242,101.2969,242,131.5938,202,131.5938,202,79\" style=\"stroke: #000000; stroke-width: 1.5;\"/><line style=\"stroke: #000000; stroke-width: 1.5;\" x1=\"202\" x2=\"235\" y1=\"101.2969\" y2=\"101.2969\"/><text fill=\"#000000\" font-family=\"sans-serif\" font-size=\"14\" font-weight=\"bold\" lengthAdjust=\"spacingAndGlyphs\" textLength=\"20\" x=\"206\" y=\"93.9951\">P2</text></a><g id=\"E1.E5\"><a href=\"psysml:ae15bfee-df16-4fee-9dc7-bf97e2180cfd\" target=\"_top\" title=\"psysml:ae15bfee-df16-4fee-9dc7-bf97e2180cfd\" xlink:actuate=\"onRequest\" xlink:href=\"psysml:ae15bfee-df16-4fee-9dc7-bf97e2180cfd\" xlink:show=\"new\" xlink:title=\"psysml:ae15bfee-df16-4fee-9dc7-bf97e2180cfd\" xlink:type=\"simple\"><rect fill=\"#FFFFFF\" height=\"40\" id=\"E5\" rx=\"10\" ry=\"10\" style=\"stroke: #383838; stroke-width: 1.5;\" width=\"50\" x=\"117\" y=\"85.5\"/><rect fill=\"#F8F8F8\" height=\"23.9688\" rx=\"10\" ry=\"10\" style=\"stroke: #F8F8F8; stroke-width: 1.5;\" width=\"50\" x=\"117\" y=\"85.5\"/><rect fill=\"#F8F8F8\" height=\"10\" style=\"stroke: #F8F8F8; stroke-width: 1.5;\" width=\"50\" x=\"117\" y=\"99.4688\"/><rect fill=\"none\" height=\"40\" id=\"E5\" rx=\"10\" ry=\"10\" style=\"stroke: #383838; stroke-width: 1.5;\" width=\"50\" x=\"117\" y=\"85.5\"/><text fill=\"#000000\" font-family=\"sans-serif\" font-size=\"12\" lengthAdjust=\"spacingAndGlyphs\" textLength=\"22\" x=\"131\" y=\"101.6387\">x: A</text></a></g><g id=\"E1.E6.E7\"><a href=\"psysml:0f9466c7-ef71-48bc-a930-ec3e2c1a2c86\" target=\"_top\" title=\"psysml:0f9466c7-ef71-48bc-a930-ec3e2c1a2c86\" xlink:actuate=\"onRequest\" xlink:href=\"psysml:0f9466c7-ef71-48bc-a930-ec3e2c1a2c86\" xlink:show=\"new\" xlink:title=\"psysml:0f9466c7-ef71-48bc-a930-ec3e2c1a2c86\" xlink:type=\"simple\"><rect fill=\"#FFFFFF\" height=\"42.9375\" id=\"E7\" style=\"stroke: #383838; stroke-width: 1.5;\" width=\"71\" x=\"277.5\" y=\"84\"/><rect fill=\"#F8F8F8\" height=\"37.9375\" style=\"stroke: #383838; stroke-width: 1.5;\" width=\"71\" x=\"277.5\" y=\"84\"/><text fill=\"#000000\" font-family=\"sans-serif\" font-size=\"12\" font-style=\"italic\" lengthAdjust=\"spacingAndGlyphs\" textLength=\"64\" x=\"281\" y=\"100.1387\">«part def»</text><text fill=\"#000000\" font-family=\"sans-serif\" font-size=\"12\" lengthAdjust=\"spacingAndGlyphs\" textLength=\"8\" x=\"309\" y=\"114.1074\">B</text></a></g><g id=\"E1.E8\"><a href=\"psysml:977e6037-d806-4fb0-bccf-0c48256693c8\" target=\"_top\" title=\"psysml:977e6037-d806-4fb0-bccf-0c48256693c8\" xlink:actuate=\"onRequest\" xlink:href=\"psysml:977e6037-d806-4fb0-bccf-0c48256693c8\" xlink:show=\"new\" xlink:title=\"psysml:977e6037-d806-4fb0-bccf-0c48256693c8\" xlink:type=\"simple\"><rect fill=\"#FFFFFF\" height=\"40\" id=\"E8\" rx=\"10\" ry=\"10\" style=\"stroke: #383838; stroke-width: 1.5;\" width=\"50\" x=\"32\" y=\"85.5\"/><rect fill=\"#F8F8F8\" height=\"23.9688\" rx=\"10\" ry=\"10\" style=\"stroke: #F8F8F8; stroke-width: 1.5;\" width=\"50\" x=\"32\" y=\"85.5\"/><rect fill=\"#F8F8F8\" height=\"10\" style=\"stroke: #F8F8F8; stroke-width: 1.5;\" width=\"50\" x=\"32\" y=\"99.4688\"/><rect fill=\"none\" height=\"40\" id=\"E8\" rx=\"10\" ry=\"10\" style=\"stroke: #383838; stroke-width: 1.5;\" width=\"50\" x=\"32\" y=\"85.5\"/><text fill=\"#000000\" font-family=\"sans-serif\" font-size=\"12\" lengthAdjust=\"spacingAndGlyphs\" textLength=\"21\" x=\"46.5\" y=\"101.6387\">z: B</text></a></g><!--MD5=[1fc730cfa4855c41d82ed3b20cf678d7]\n",
       "@startuml\r\n",
       "skinparam ranksep 10\r\n",
       "skinparam rectangle {\r\n",
       " backgroundColor<<block>> LightGreen\r\n",
       "}\r\n",
       " skinparam monochrome true\r\n",
       "skinparam classbackgroundcolor white\r\n",
       "skinparam shadowing false\r\n",
       "skinparam wrapWidth 300\r\n",
       "hide circle\r\n",
       "\r\n",
       "package \"PrivateImportTest\" as E1  [[psysml:679eaabc-5ff5-4f8e-91e0-c316c2e3864c ]]  {\r\n",
       "package \"P1\" as E2  [[psysml:009bdde2-dc25-4a27-9e47-f33e7b142b72 ]]  {\r\n",
       "rec def \"A\" as E3  <<(T,blue)part def>> [[psysml:3f36db9e-42d3-4087-b2e1-ec91d884c8c4 ]] {\r\n",
       "}\r\n",
       "}\r\n",
       "package \"P2\" as E4  [[psysml:6aec89c6-9258-4c03-89c0-e79f913ee5de ]]  {\r\n",
       "}\r\n",
       "rec usage \"x: A\" as E5  [[psysml:ae15bfee-df16-4fee-9dc7-bf97e2180cfd ]] {\r\n",
       "}\r\n",
       "package \"P3\" as E6  [[psysml:b0bbce7f-63ab-4038-bed6-f72cdad2d833 ]]  {\r\n",
       "rec def \"B\" as E7  <<(T,blue)part def>> [[psysml:0f9466c7-ef71-48bc-a930-ec3e2c1a2c86 ]] {\r\n",
       "}\r\n",
       "}\r\n",
       "rec usage \"z: B\" as E8  [[psysml:977e6037-d806-4fb0-bccf-0c48256693c8 ]] {\r\n",
       "}\r\n",
       "}\r\n",
       "@enduml\r\n",
       "\n",
       "PlantUML version 1.2020.13(Sat Jun 13 12:26:38 UTC 2020)\n",
       "(EPL source distribution)\n",
       "Java Runtime: OpenJDK Runtime Environment\n",
       "JVM: OpenJDK 64-Bit Server VM\n",
       "Default Encoding: UTF-8\n",
       "Language: en\n",
       "Country: null\n",
       "--></g></svg>"
      ]
     },
     "execution_count": 5,
     "metadata": {},
     "output_type": "execute_result"
    }
   ],
   "source": [
    "%viz --style=\"COMPTREE\" --view=\"Interconnection\" \"PrivateImportTest\""
   ]
  },
  {
   "cell_type": "code",
   "execution_count": 6,
   "id": "british-transaction",
   "metadata": {
    "execution": {
     "iopub.execute_input": "2021-03-24T16:28:03.529378Z",
     "iopub.status.busy": "2021-03-24T16:28:03.528842Z",
     "iopub.status.idle": "2021-03-24T16:28:03.536041Z",
     "shell.execute_reply": "2021-03-24T16:28:03.536579Z"
    }
   },
   "outputs": [
    {
     "data": {
      "image/svg+xml": [
       "<?xml version=\"1.0\" encoding=\"UTF-8\" standalone=\"no\"?><svg xmlns=\"http://www.w3.org/2000/svg\" xmlns:xlink=\"http://www.w3.org/1999/xlink\" contentScriptType=\"application/ecmascript\" contentStyleType=\"text/css\" height=\"12px\" preserveAspectRatio=\"none\" style=\"width:12px;height:12px;\" version=\"1.1\" viewBox=\"0 0 12 12\" width=\"12px\" zoomAndPan=\"magnify\"><defs/><g><!--MD5=[655b888544ca4751ea36af1068543f84]\n",
       "@startuml\r\n",
       "skinparam ranksep 8\r\n",
       " skinparam monochrome true\r\n",
       "skinparam classbackgroundcolor white\r\n",
       "skinparam shadowing false\r\n",
       "skinparam wrapWidth 300\r\n",
       "hide circle\r\n",
       "\r\n",
       "@enduml\r\n",
       "\n",
       "PlantUML version 1.2020.13(Sat Jun 13 12:26:38 UTC 2020)\n",
       "(EPL source distribution)\n",
       "Java Runtime: OpenJDK Runtime Environment\n",
       "JVM: OpenJDK 64-Bit Server VM\n",
       "Default Encoding: UTF-8\n",
       "Language: en\n",
       "Country: null\n",
       "--></g></svg>"
      ]
     },
     "execution_count": 6,
     "metadata": {},
     "output_type": "execute_result"
    }
   ],
   "source": [
    "%viz --style=\"COMPTREE\" --view=\"Action\" \"PrivateImportTest\""
   ]
  },
  {
   "cell_type": "code",
   "execution_count": 7,
   "id": "allied-soccer",
   "metadata": {
    "execution": {
     "iopub.execute_input": "2021-03-24T16:28:03.587203Z",
     "iopub.status.busy": "2021-03-24T16:28:03.586802Z",
     "iopub.status.idle": "2021-03-24T16:28:03.629186Z",
     "shell.execute_reply": "2021-03-24T16:28:03.628806Z"
    }
   },
   "outputs": [
    {
     "data": {
      "image/svg+xml": [
       "<?xml version=\"1.0\" encoding=\"UTF-8\" standalone=\"no\"?><svg xmlns=\"http://www.w3.org/2000/svg\" xmlns:xlink=\"http://www.w3.org/1999/xlink\" contentScriptType=\"application/ecmascript\" contentStyleType=\"text/css\" height=\"252px\" preserveAspectRatio=\"none\" style=\"width:306px;height:252px;\" version=\"1.1\" viewBox=\"0 0 306 252\" width=\"306px\" zoomAndPan=\"magnify\"><defs/><g><!--MD5=[fbc87193dbaf4d95561dea2c320d4a47]\n",
       "cluster E1--><a href=\"psysml:679eaabc-5ff5-4f8e-91e0-c316c2e3864c\" target=\"_top\" title=\"psysml:679eaabc-5ff5-4f8e-91e0-c316c2e3864c\" xlink:actuate=\"onRequest\" xlink:href=\"psysml:679eaabc-5ff5-4f8e-91e0-c316c2e3864c\" xlink:show=\"new\" xlink:title=\"psysml:679eaabc-5ff5-4f8e-91e0-c316c2e3864c\" xlink:type=\"simple\"><polygon fill=\"#FFFFFF\" points=\"16,6,163,6,170,28.2969,284,28.2969,284,240,16,240,16,6\" style=\"stroke: #000000; stroke-width: 1.5;\"/><line style=\"stroke: #000000; stroke-width: 1.5;\" x1=\"16\" x2=\"170\" y1=\"28.2969\" y2=\"28.2969\"/><text fill=\"#000000\" font-family=\"sans-serif\" font-size=\"14\" font-weight=\"bold\" lengthAdjust=\"spacingAndGlyphs\" textLength=\"141\" x=\"20\" y=\"20.9951\">PrivateImportTest</text></a><!--MD5=[e4f7fae6ed58524ba242bb0b0d3be6b7]\n",
       "cluster E2--><a href=\"psysml:009bdde2-dc25-4a27-9e47-f33e7b142b72\" target=\"_top\" title=\"psysml:009bdde2-dc25-4a27-9e47-f33e7b142b72\" xlink:actuate=\"onRequest\" xlink:href=\"psysml:009bdde2-dc25-4a27-9e47-f33e7b142b72\" xlink:show=\"new\" xlink:title=\"psysml:009bdde2-dc25-4a27-9e47-f33e7b142b72\" xlink:type=\"simple\"><polygon fill=\"#FFFFFF\" points=\"162,119,188,119,195,141.2969,260,141.2969,260,216,162,216,162,119\" style=\"stroke: #000000; stroke-width: 1.5;\"/><line style=\"stroke: #000000; stroke-width: 1.5;\" x1=\"162\" x2=\"195\" y1=\"141.2969\" y2=\"141.2969\"/><text fill=\"#000000\" font-family=\"sans-serif\" font-size=\"14\" font-weight=\"bold\" lengthAdjust=\"spacingAndGlyphs\" textLength=\"20\" x=\"166\" y=\"133.9951\">P1</text></a><!--MD5=[14e3b0961a2654348d326746436168a1]\n",
       "cluster E6--><a href=\"psysml:b0bbce7f-63ab-4038-bed6-f72cdad2d833\" target=\"_top\" title=\"psysml:b0bbce7f-63ab-4038-bed6-f72cdad2d833\" xlink:actuate=\"onRequest\" xlink:href=\"psysml:b0bbce7f-63ab-4038-bed6-f72cdad2d833\" xlink:show=\"new\" xlink:title=\"psysml:b0bbce7f-63ab-4038-bed6-f72cdad2d833\" xlink:type=\"simple\"><polygon fill=\"#FFFFFF\" points=\"40,119,66,119,73,141.2969,138,141.2969,138,216,40,216,40,119\" style=\"stroke: #000000; stroke-width: 1.5;\"/><line style=\"stroke: #000000; stroke-width: 1.5;\" x1=\"40\" x2=\"73\" y1=\"141.2969\" y2=\"141.2969\"/><text fill=\"#000000\" font-family=\"sans-serif\" font-size=\"14\" font-weight=\"bold\" lengthAdjust=\"spacingAndGlyphs\" textLength=\"20\" x=\"44\" y=\"133.9951\">P3</text></a><!--MD5=[270fce915f116d4de14055a7c1d9a0f3]\n",
       "class E5--><a href=\"psysml:ae15bfee-df16-4fee-9dc7-bf97e2180cfd\" target=\"_top\" title=\"psysml:ae15bfee-df16-4fee-9dc7-bf97e2180cfd\" xlink:actuate=\"onRequest\" xlink:href=\"psysml:ae15bfee-df16-4fee-9dc7-bf97e2180cfd\" xlink:show=\"new\" xlink:title=\"psysml:ae15bfee-df16-4fee-9dc7-bf97e2180cfd\" xlink:type=\"simple\"><rect fill=\"#FFFFFF\" height=\"45.9375\" id=\"E5\" rx=\"10\" ry=\"10\" style=\"stroke: #383838; stroke-width: 1.5;\" width=\"42\" x=\"190\" y=\"44.5\"/><text fill=\"#000000\" font-family=\"sans-serif\" font-size=\"12\" font-style=\"italic\" lengthAdjust=\"spacingAndGlyphs\" textLength=\"40\" x=\"191\" y=\"60.6387\">«part»</text><text fill=\"#000000\" font-family=\"sans-serif\" font-size=\"12\" lengthAdjust=\"spacingAndGlyphs\" textLength=\"22\" x=\"200\" y=\"74.6074\">x: A</text><line style=\"stroke: #383838; stroke-width: 1.5;\" x1=\"191\" x2=\"231\" y1=\"82.4375\" y2=\"82.4375\"/></a><!--MD5=[b9389687b975829384b498ac4b7476b2]\n",
       "class E8--><a href=\"psysml:977e6037-d806-4fb0-bccf-0c48256693c8\" target=\"_top\" title=\"psysml:977e6037-d806-4fb0-bccf-0c48256693c8\" xlink:actuate=\"onRequest\" xlink:href=\"psysml:977e6037-d806-4fb0-bccf-0c48256693c8\" xlink:show=\"new\" xlink:title=\"psysml:977e6037-d806-4fb0-bccf-0c48256693c8\" xlink:type=\"simple\"><rect fill=\"#FFFFFF\" height=\"45.9375\" id=\"E8\" rx=\"10\" ry=\"10\" style=\"stroke: #383838; stroke-width: 1.5;\" width=\"42\" x=\"107\" y=\"44.5\"/><text fill=\"#000000\" font-family=\"sans-serif\" font-size=\"12\" font-style=\"italic\" lengthAdjust=\"spacingAndGlyphs\" textLength=\"40\" x=\"108\" y=\"60.6387\">«part»</text><text fill=\"#000000\" font-family=\"sans-serif\" font-size=\"12\" lengthAdjust=\"spacingAndGlyphs\" textLength=\"21\" x=\"117.5\" y=\"74.6074\">z: B</text><line style=\"stroke: #383838; stroke-width: 1.5;\" x1=\"108\" x2=\"148\" y1=\"82.4375\" y2=\"82.4375\"/></a><!--MD5=[09b614a08d8cba4a07c9adeb5e0fee81]\n",
       "class E3--><a href=\"psysml:3f36db9e-42d3-4087-b2e1-ec91d884c8c4\" target=\"_top\" title=\"psysml:3f36db9e-42d3-4087-b2e1-ec91d884c8c4\" xlink:actuate=\"onRequest\" xlink:href=\"psysml:3f36db9e-42d3-4087-b2e1-ec91d884c8c4\" xlink:show=\"new\" xlink:title=\"psysml:3f36db9e-42d3-4087-b2e1-ec91d884c8c4\" xlink:type=\"simple\"><rect fill=\"#FFFFFF\" height=\"45.9375\" id=\"E3\" style=\"stroke: #383838; stroke-width: 1.5;\" width=\"66\" x=\"178\" y=\"154\"/><text fill=\"#000000\" font-family=\"sans-serif\" font-size=\"12\" font-style=\"italic\" lengthAdjust=\"spacingAndGlyphs\" textLength=\"64\" x=\"179\" y=\"170.1387\">«part def»</text><text fill=\"#000000\" font-family=\"sans-serif\" font-size=\"12\" lengthAdjust=\"spacingAndGlyphs\" textLength=\"8\" x=\"207\" y=\"184.1074\">A</text><line style=\"stroke: #383838; stroke-width: 1.5;\" x1=\"179\" x2=\"243\" y1=\"191.9375\" y2=\"191.9375\"/></a><a href=\"psysml:6aec89c6-9258-4c03-89c0-e79f913ee5de\" target=\"_top\" title=\"psysml:6aec89c6-9258-4c03-89c0-e79f913ee5de\" xlink:actuate=\"onRequest\" xlink:href=\"psysml:6aec89c6-9258-4c03-89c0-e79f913ee5de\" xlink:show=\"new\" xlink:title=\"psysml:6aec89c6-9258-4c03-89c0-e79f913ee5de\" xlink:type=\"simple\"><polygon fill=\"#FFFFFF\" points=\"32,41,58,41,65,63.2969,72,63.2969,72,93.5938,32,93.5938,32,41\" style=\"stroke: #000000; stroke-width: 1.5;\"/><line style=\"stroke: #000000; stroke-width: 1.5;\" x1=\"32\" x2=\"65\" y1=\"63.2969\" y2=\"63.2969\"/><text fill=\"#000000\" font-family=\"sans-serif\" font-size=\"14\" font-weight=\"bold\" lengthAdjust=\"spacingAndGlyphs\" textLength=\"20\" x=\"36\" y=\"55.9951\">P2</text></a><!--MD5=[2156ba9850f5573cc1fc38a6a4b2f02b]\n",
       "class E7--><a href=\"psysml:0f9466c7-ef71-48bc-a930-ec3e2c1a2c86\" target=\"_top\" title=\"psysml:0f9466c7-ef71-48bc-a930-ec3e2c1a2c86\" xlink:actuate=\"onRequest\" xlink:href=\"psysml:0f9466c7-ef71-48bc-a930-ec3e2c1a2c86\" xlink:show=\"new\" xlink:title=\"psysml:0f9466c7-ef71-48bc-a930-ec3e2c1a2c86\" xlink:type=\"simple\"><rect fill=\"#FFFFFF\" height=\"45.9375\" id=\"E7\" style=\"stroke: #383838; stroke-width: 1.5;\" width=\"66\" x=\"56\" y=\"154\"/><text fill=\"#000000\" font-family=\"sans-serif\" font-size=\"12\" font-style=\"italic\" lengthAdjust=\"spacingAndGlyphs\" textLength=\"64\" x=\"57\" y=\"170.1387\">«part def»</text><text fill=\"#000000\" font-family=\"sans-serif\" font-size=\"12\" lengthAdjust=\"spacingAndGlyphs\" textLength=\"8\" x=\"85\" y=\"184.1074\">B</text><line style=\"stroke: #383838; stroke-width: 1.5;\" x1=\"57\" x2=\"121\" y1=\"191.9375\" y2=\"191.9375\"/></a><!--MD5=[e9be52314489bd878ff4c7144b63c9e1]\n",
       "link E5 to E3--><a href=\"psysml:fc52ff88-f6bf-464b-a9f6-50c073522383\" target=\"_top\" title=\"psysml:fc52ff88-f6bf-464b-a9f6-50c073522383\" xlink:actuate=\"onRequest\" xlink:href=\"psysml:fc52ff88-f6bf-464b-a9f6-50c073522383\" xlink:show=\"new\" xlink:title=\"psysml:fc52ff88-f6bf-464b-a9f6-50c073522383\" xlink:type=\"simple\"><path d=\"M211,90.51 C211,102.89 211,118.78 211,133.48 \" fill=\"none\" id=\"E5-&gt;E3\" style=\"stroke: #383838; stroke-width: 1.0;\"/><polygon fill=\"#FFFFFF\" points=\"211,153.65,204,134.65,218,134.65,211,153.65\" style=\"stroke: #383838; stroke-width: 1.0;\"/><ellipse cx=\"206\" cy=\"128.95\" fill=\"#383838\" rx=\"2\" ry=\"2\" style=\"stroke: #383838; stroke-width: 1.0;\"/><ellipse cx=\"216\" cy=\"128.95\" fill=\"#383838\" rx=\"2\" ry=\"2\" style=\"stroke: #383838; stroke-width: 1.0;\"/></a><!--MD5=[bfa3c8b0d15052fdf50ae9310b491027]\n",
       "link E8 to E7--><a href=\"psysml:46d3b5b8-edad-416f-ae7d-d25648abca20\" target=\"_top\" title=\"psysml:46d3b5b8-edad-416f-ae7d-d25648abca20\" xlink:actuate=\"onRequest\" xlink:href=\"psysml:46d3b5b8-edad-416f-ae7d-d25648abca20\" xlink:show=\"new\" xlink:title=\"psysml:46d3b5b8-edad-416f-ae7d-d25648abca20\" xlink:type=\"simple\"><path d=\"M120.01,90.51 C115.39,103.25 109.42,119.7 103.96,134.76 \" fill=\"none\" id=\"E8-&gt;E7\" style=\"stroke: #383838; stroke-width: 1.0;\"/><polygon fill=\"#FFFFFF\" points=\"97.11,153.65,97.0036,133.4018,110.1656,138.1726,97.11,153.65\" style=\"stroke: #383838; stroke-width: 1.0;\"/><ellipse cx=\"100.8262\" cy=\"128.7245\" fill=\"#383838\" rx=\"2\" ry=\"2\" style=\"stroke: #383838; stroke-width: 1.0;\"/><ellipse cx=\"110.2277\" cy=\"132.1322\" fill=\"#383838\" rx=\"2\" ry=\"2\" style=\"stroke: #383838; stroke-width: 1.0;\"/></a><!--MD5=[e38d4d685732a5cfff28efc2904e0cff]\n",
       "@startuml\r\n",
       " skinparam monochrome true\r\n",
       "skinparam classbackgroundcolor white\r\n",
       "skinparam shadowing false\r\n",
       "skinparam wrapWidth 300\r\n",
       "hide circle\r\n",
       "\r\n",
       "package \"PrivateImportTest\" as E1  [[psysml:679eaabc-5ff5-4f8e-91e0-c316c2e3864c ]]  {\r\n",
       "package \"P1\" as E2  [[psysml:009bdde2-dc25-4a27-9e47-f33e7b142b72 ]]  {\r\n",
       "comp def \"A\" as E3  <<(T,blue)part def>> [[psysml:3f36db9e-42d3-4087-b2e1-ec91d884c8c4 ]] {\r\n",
       "}\r\n",
       "}\r\n",
       "package \"P2\" as E4  [[psysml:6aec89c6-9258-4c03-89c0-e79f913ee5de ]]  {\r\n",
       "}\r\n",
       "comp usage \"x: A\" as E5  <<(T,blue)part>> [[psysml:ae15bfee-df16-4fee-9dc7-bf97e2180cfd ]] {\r\n",
       "}\r\n",
       "package \"P3\" as E6  [[psysml:b0bbce7f-63ab-4038-bed6-f72cdad2d833 ]]  {\r\n",
       "comp def \"B\" as E7  <<(T,blue)part def>> [[psysml:0f9466c7-ef71-48bc-a930-ec3e2c1a2c86 ]] {\r\n",
       "}\r\n",
       "E5 - -:|> E3 [[psysml:fc52ff88-f6bf-464b-a9f6-50c073522383 ]] \r\n",
       "}\r\n",
       "comp usage \"z: B\" as E8  <<(T,blue)part>> [[psysml:977e6037-d806-4fb0-bccf-0c48256693c8 ]] {\r\n",
       "}\r\n",
       "E8 - -:|> E7 [[psysml:46d3b5b8-edad-416f-ae7d-d25648abca20 ]] \r\n",
       "}\r\n",
       "@enduml\r\n",
       "\n",
       "PlantUML version 1.2020.13(Sat Jun 13 12:26:38 UTC 2020)\n",
       "(EPL source distribution)\n",
       "Java Runtime: OpenJDK Runtime Environment\n",
       "JVM: OpenJDK 64-Bit Server VM\n",
       "Default Encoding: UTF-8\n",
       "Language: en\n",
       "Country: null\n",
       "--></g></svg>"
      ]
     },
     "execution_count": 7,
     "metadata": {},
     "output_type": "execute_result"
    }
   ],
   "source": [
    "%viz --style=\"COMPTREE\" --view=\"Sequence\" \"PrivateImportTest\""
   ]
  },
  {
   "cell_type": "code",
   "execution_count": 8,
   "id": "vocational-tuner",
   "metadata": {
    "execution": {
     "iopub.execute_input": "2021-03-24T16:28:03.679461Z",
     "iopub.status.busy": "2021-03-24T16:28:03.679109Z",
     "iopub.status.idle": "2021-03-24T16:28:03.722654Z",
     "shell.execute_reply": "2021-03-24T16:28:03.719544Z"
    }
   },
   "outputs": [
    {
     "data": {
      "image/svg+xml": [
       "<?xml version=\"1.0\" encoding=\"UTF-8\" standalone=\"no\"?><svg xmlns=\"http://www.w3.org/2000/svg\" xmlns:xlink=\"http://www.w3.org/1999/xlink\" contentScriptType=\"application/ecmascript\" contentStyleType=\"text/css\" height=\"252px\" preserveAspectRatio=\"none\" style=\"width:306px;height:252px;\" version=\"1.1\" viewBox=\"0 0 306 252\" width=\"306px\" zoomAndPan=\"magnify\"><defs/><g><!--MD5=[fbc87193dbaf4d95561dea2c320d4a47]\n",
       "cluster E1--><a href=\"psysml:679eaabc-5ff5-4f8e-91e0-c316c2e3864c\" target=\"_top\" title=\"psysml:679eaabc-5ff5-4f8e-91e0-c316c2e3864c\" xlink:actuate=\"onRequest\" xlink:href=\"psysml:679eaabc-5ff5-4f8e-91e0-c316c2e3864c\" xlink:show=\"new\" xlink:title=\"psysml:679eaabc-5ff5-4f8e-91e0-c316c2e3864c\" xlink:type=\"simple\"><polygon fill=\"#FFFFFF\" points=\"16,6,163,6,170,28.2969,284,28.2969,284,240,16,240,16,6\" style=\"stroke: #000000; stroke-width: 1.5;\"/><line style=\"stroke: #000000; stroke-width: 1.5;\" x1=\"16\" x2=\"170\" y1=\"28.2969\" y2=\"28.2969\"/><text fill=\"#000000\" font-family=\"sans-serif\" font-size=\"14\" font-weight=\"bold\" lengthAdjust=\"spacingAndGlyphs\" textLength=\"141\" x=\"20\" y=\"20.9951\">PrivateImportTest</text></a><!--MD5=[e4f7fae6ed58524ba242bb0b0d3be6b7]\n",
       "cluster E2--><a href=\"psysml:009bdde2-dc25-4a27-9e47-f33e7b142b72\" target=\"_top\" title=\"psysml:009bdde2-dc25-4a27-9e47-f33e7b142b72\" xlink:actuate=\"onRequest\" xlink:href=\"psysml:009bdde2-dc25-4a27-9e47-f33e7b142b72\" xlink:show=\"new\" xlink:title=\"psysml:009bdde2-dc25-4a27-9e47-f33e7b142b72\" xlink:type=\"simple\"><polygon fill=\"#FFFFFF\" points=\"162,119,188,119,195,141.2969,260,141.2969,260,216,162,216,162,119\" style=\"stroke: #000000; stroke-width: 1.5;\"/><line style=\"stroke: #000000; stroke-width: 1.5;\" x1=\"162\" x2=\"195\" y1=\"141.2969\" y2=\"141.2969\"/><text fill=\"#000000\" font-family=\"sans-serif\" font-size=\"14\" font-weight=\"bold\" lengthAdjust=\"spacingAndGlyphs\" textLength=\"20\" x=\"166\" y=\"133.9951\">P1</text></a><!--MD5=[14e3b0961a2654348d326746436168a1]\n",
       "cluster E6--><a href=\"psysml:b0bbce7f-63ab-4038-bed6-f72cdad2d833\" target=\"_top\" title=\"psysml:b0bbce7f-63ab-4038-bed6-f72cdad2d833\" xlink:actuate=\"onRequest\" xlink:href=\"psysml:b0bbce7f-63ab-4038-bed6-f72cdad2d833\" xlink:show=\"new\" xlink:title=\"psysml:b0bbce7f-63ab-4038-bed6-f72cdad2d833\" xlink:type=\"simple\"><polygon fill=\"#FFFFFF\" points=\"40,119,66,119,73,141.2969,138,141.2969,138,216,40,216,40,119\" style=\"stroke: #000000; stroke-width: 1.5;\"/><line style=\"stroke: #000000; stroke-width: 1.5;\" x1=\"40\" x2=\"73\" y1=\"141.2969\" y2=\"141.2969\"/><text fill=\"#000000\" font-family=\"sans-serif\" font-size=\"14\" font-weight=\"bold\" lengthAdjust=\"spacingAndGlyphs\" textLength=\"20\" x=\"44\" y=\"133.9951\">P3</text></a><!--MD5=[270fce915f116d4de14055a7c1d9a0f3]\n",
       "class E5--><a href=\"psysml:ae15bfee-df16-4fee-9dc7-bf97e2180cfd\" target=\"_top\" title=\"psysml:ae15bfee-df16-4fee-9dc7-bf97e2180cfd\" xlink:actuate=\"onRequest\" xlink:href=\"psysml:ae15bfee-df16-4fee-9dc7-bf97e2180cfd\" xlink:show=\"new\" xlink:title=\"psysml:ae15bfee-df16-4fee-9dc7-bf97e2180cfd\" xlink:type=\"simple\"><rect fill=\"#FFFFFF\" height=\"45.9375\" id=\"E5\" rx=\"10\" ry=\"10\" style=\"stroke: #383838; stroke-width: 1.5;\" width=\"42\" x=\"190\" y=\"44.5\"/><text fill=\"#000000\" font-family=\"sans-serif\" font-size=\"12\" font-style=\"italic\" lengthAdjust=\"spacingAndGlyphs\" textLength=\"40\" x=\"191\" y=\"60.6387\">«part»</text><text fill=\"#000000\" font-family=\"sans-serif\" font-size=\"12\" lengthAdjust=\"spacingAndGlyphs\" textLength=\"22\" x=\"200\" y=\"74.6074\">x: A</text><line style=\"stroke: #383838; stroke-width: 1.5;\" x1=\"191\" x2=\"231\" y1=\"82.4375\" y2=\"82.4375\"/></a><!--MD5=[b9389687b975829384b498ac4b7476b2]\n",
       "class E8--><a href=\"psysml:977e6037-d806-4fb0-bccf-0c48256693c8\" target=\"_top\" title=\"psysml:977e6037-d806-4fb0-bccf-0c48256693c8\" xlink:actuate=\"onRequest\" xlink:href=\"psysml:977e6037-d806-4fb0-bccf-0c48256693c8\" xlink:show=\"new\" xlink:title=\"psysml:977e6037-d806-4fb0-bccf-0c48256693c8\" xlink:type=\"simple\"><rect fill=\"#FFFFFF\" height=\"45.9375\" id=\"E8\" rx=\"10\" ry=\"10\" style=\"stroke: #383838; stroke-width: 1.5;\" width=\"42\" x=\"107\" y=\"44.5\"/><text fill=\"#000000\" font-family=\"sans-serif\" font-size=\"12\" font-style=\"italic\" lengthAdjust=\"spacingAndGlyphs\" textLength=\"40\" x=\"108\" y=\"60.6387\">«part»</text><text fill=\"#000000\" font-family=\"sans-serif\" font-size=\"12\" lengthAdjust=\"spacingAndGlyphs\" textLength=\"21\" x=\"117.5\" y=\"74.6074\">z: B</text><line style=\"stroke: #383838; stroke-width: 1.5;\" x1=\"108\" x2=\"148\" y1=\"82.4375\" y2=\"82.4375\"/></a><!--MD5=[09b614a08d8cba4a07c9adeb5e0fee81]\n",
       "class E3--><a href=\"psysml:3f36db9e-42d3-4087-b2e1-ec91d884c8c4\" target=\"_top\" title=\"psysml:3f36db9e-42d3-4087-b2e1-ec91d884c8c4\" xlink:actuate=\"onRequest\" xlink:href=\"psysml:3f36db9e-42d3-4087-b2e1-ec91d884c8c4\" xlink:show=\"new\" xlink:title=\"psysml:3f36db9e-42d3-4087-b2e1-ec91d884c8c4\" xlink:type=\"simple\"><rect fill=\"#FFFFFF\" height=\"45.9375\" id=\"E3\" style=\"stroke: #383838; stroke-width: 1.5;\" width=\"66\" x=\"178\" y=\"154\"/><text fill=\"#000000\" font-family=\"sans-serif\" font-size=\"12\" font-style=\"italic\" lengthAdjust=\"spacingAndGlyphs\" textLength=\"64\" x=\"179\" y=\"170.1387\">«part def»</text><text fill=\"#000000\" font-family=\"sans-serif\" font-size=\"12\" lengthAdjust=\"spacingAndGlyphs\" textLength=\"8\" x=\"207\" y=\"184.1074\">A</text><line style=\"stroke: #383838; stroke-width: 1.5;\" x1=\"179\" x2=\"243\" y1=\"191.9375\" y2=\"191.9375\"/></a><a href=\"psysml:6aec89c6-9258-4c03-89c0-e79f913ee5de\" target=\"_top\" title=\"psysml:6aec89c6-9258-4c03-89c0-e79f913ee5de\" xlink:actuate=\"onRequest\" xlink:href=\"psysml:6aec89c6-9258-4c03-89c0-e79f913ee5de\" xlink:show=\"new\" xlink:title=\"psysml:6aec89c6-9258-4c03-89c0-e79f913ee5de\" xlink:type=\"simple\"><polygon fill=\"#FFFFFF\" points=\"32,41,58,41,65,63.2969,72,63.2969,72,93.5938,32,93.5938,32,41\" style=\"stroke: #000000; stroke-width: 1.5;\"/><line style=\"stroke: #000000; stroke-width: 1.5;\" x1=\"32\" x2=\"65\" y1=\"63.2969\" y2=\"63.2969\"/><text fill=\"#000000\" font-family=\"sans-serif\" font-size=\"14\" font-weight=\"bold\" lengthAdjust=\"spacingAndGlyphs\" textLength=\"20\" x=\"36\" y=\"55.9951\">P2</text></a><!--MD5=[2156ba9850f5573cc1fc38a6a4b2f02b]\n",
       "class E7--><a href=\"psysml:0f9466c7-ef71-48bc-a930-ec3e2c1a2c86\" target=\"_top\" title=\"psysml:0f9466c7-ef71-48bc-a930-ec3e2c1a2c86\" xlink:actuate=\"onRequest\" xlink:href=\"psysml:0f9466c7-ef71-48bc-a930-ec3e2c1a2c86\" xlink:show=\"new\" xlink:title=\"psysml:0f9466c7-ef71-48bc-a930-ec3e2c1a2c86\" xlink:type=\"simple\"><rect fill=\"#FFFFFF\" height=\"45.9375\" id=\"E7\" style=\"stroke: #383838; stroke-width: 1.5;\" width=\"66\" x=\"56\" y=\"154\"/><text fill=\"#000000\" font-family=\"sans-serif\" font-size=\"12\" font-style=\"italic\" lengthAdjust=\"spacingAndGlyphs\" textLength=\"64\" x=\"57\" y=\"170.1387\">«part def»</text><text fill=\"#000000\" font-family=\"sans-serif\" font-size=\"12\" lengthAdjust=\"spacingAndGlyphs\" textLength=\"8\" x=\"85\" y=\"184.1074\">B</text><line style=\"stroke: #383838; stroke-width: 1.5;\" x1=\"57\" x2=\"121\" y1=\"191.9375\" y2=\"191.9375\"/></a><!--MD5=[e9be52314489bd878ff4c7144b63c9e1]\n",
       "link E5 to E3--><a href=\"psysml:fc52ff88-f6bf-464b-a9f6-50c073522383\" target=\"_top\" title=\"psysml:fc52ff88-f6bf-464b-a9f6-50c073522383\" xlink:actuate=\"onRequest\" xlink:href=\"psysml:fc52ff88-f6bf-464b-a9f6-50c073522383\" xlink:show=\"new\" xlink:title=\"psysml:fc52ff88-f6bf-464b-a9f6-50c073522383\" xlink:type=\"simple\"><path d=\"M211,90.51 C211,102.89 211,118.78 211,133.48 \" fill=\"none\" id=\"E5-&gt;E3\" style=\"stroke: #383838; stroke-width: 1.0;\"/><polygon fill=\"#FFFFFF\" points=\"211,153.65,204,134.65,218,134.65,211,153.65\" style=\"stroke: #383838; stroke-width: 1.0;\"/><ellipse cx=\"206\" cy=\"128.95\" fill=\"#383838\" rx=\"2\" ry=\"2\" style=\"stroke: #383838; stroke-width: 1.0;\"/><ellipse cx=\"216\" cy=\"128.95\" fill=\"#383838\" rx=\"2\" ry=\"2\" style=\"stroke: #383838; stroke-width: 1.0;\"/></a><!--MD5=[bfa3c8b0d15052fdf50ae9310b491027]\n",
       "link E8 to E7--><a href=\"psysml:46d3b5b8-edad-416f-ae7d-d25648abca20\" target=\"_top\" title=\"psysml:46d3b5b8-edad-416f-ae7d-d25648abca20\" xlink:actuate=\"onRequest\" xlink:href=\"psysml:46d3b5b8-edad-416f-ae7d-d25648abca20\" xlink:show=\"new\" xlink:title=\"psysml:46d3b5b8-edad-416f-ae7d-d25648abca20\" xlink:type=\"simple\"><path d=\"M120.01,90.51 C115.39,103.25 109.42,119.7 103.96,134.76 \" fill=\"none\" id=\"E8-&gt;E7\" style=\"stroke: #383838; stroke-width: 1.0;\"/><polygon fill=\"#FFFFFF\" points=\"97.11,153.65,97.0036,133.4018,110.1656,138.1726,97.11,153.65\" style=\"stroke: #383838; stroke-width: 1.0;\"/><ellipse cx=\"100.8262\" cy=\"128.7245\" fill=\"#383838\" rx=\"2\" ry=\"2\" style=\"stroke: #383838; stroke-width: 1.0;\"/><ellipse cx=\"110.2277\" cy=\"132.1322\" fill=\"#383838\" rx=\"2\" ry=\"2\" style=\"stroke: #383838; stroke-width: 1.0;\"/></a><!--MD5=[e38d4d685732a5cfff28efc2904e0cff]\n",
       "@startuml\r\n",
       " skinparam monochrome true\r\n",
       "skinparam classbackgroundcolor white\r\n",
       "skinparam shadowing false\r\n",
       "skinparam wrapWidth 300\r\n",
       "hide circle\r\n",
       "\r\n",
       "package \"PrivateImportTest\" as E1  [[psysml:679eaabc-5ff5-4f8e-91e0-c316c2e3864c ]]  {\r\n",
       "package \"P1\" as E2  [[psysml:009bdde2-dc25-4a27-9e47-f33e7b142b72 ]]  {\r\n",
       "comp def \"A\" as E3  <<(T,blue)part def>> [[psysml:3f36db9e-42d3-4087-b2e1-ec91d884c8c4 ]] {\r\n",
       "}\r\n",
       "}\r\n",
       "package \"P2\" as E4  [[psysml:6aec89c6-9258-4c03-89c0-e79f913ee5de ]]  {\r\n",
       "}\r\n",
       "comp usage \"x: A\" as E5  <<(T,blue)part>> [[psysml:ae15bfee-df16-4fee-9dc7-bf97e2180cfd ]] {\r\n",
       "}\r\n",
       "package \"P3\" as E6  [[psysml:b0bbce7f-63ab-4038-bed6-f72cdad2d833 ]]  {\r\n",
       "comp def \"B\" as E7  <<(T,blue)part def>> [[psysml:0f9466c7-ef71-48bc-a930-ec3e2c1a2c86 ]] {\r\n",
       "}\r\n",
       "E5 - -:|> E3 [[psysml:fc52ff88-f6bf-464b-a9f6-50c073522383 ]] \r\n",
       "}\r\n",
       "comp usage \"z: B\" as E8  <<(T,blue)part>> [[psysml:977e6037-d806-4fb0-bccf-0c48256693c8 ]] {\r\n",
       "}\r\n",
       "E8 - -:|> E7 [[psysml:46d3b5b8-edad-416f-ae7d-d25648abca20 ]] \r\n",
       "}\r\n",
       "@enduml\r\n",
       "\n",
       "PlantUML version 1.2020.13(Sat Jun 13 12:26:38 UTC 2020)\n",
       "(EPL source distribution)\n",
       "Java Runtime: OpenJDK Runtime Environment\n",
       "JVM: OpenJDK 64-Bit Server VM\n",
       "Default Encoding: UTF-8\n",
       "Language: en\n",
       "Country: null\n",
       "--></g></svg>"
      ]
     },
     "execution_count": 8,
     "metadata": {},
     "output_type": "execute_result"
    }
   ],
   "source": [
    "%viz --style=\"COMPTREE\" --view=\"MIXED\" \"PrivateImportTest\""
   ]
  },
  {
   "cell_type": "code",
   "execution_count": 9,
   "id": "offensive-attachment",
   "metadata": {
    "execution": {
     "iopub.execute_input": "2021-03-24T16:28:03.771750Z",
     "iopub.status.busy": "2021-03-24T16:28:03.771323Z",
     "iopub.status.idle": "2021-03-24T16:28:03.809814Z",
     "shell.execute_reply": "2021-03-24T16:28:03.808475Z"
    }
   },
   "outputs": [
    {
     "data": {
      "image/svg+xml": [
       "<?xml version=\"1.0\" encoding=\"UTF-8\" standalone=\"no\"?><svg xmlns=\"http://www.w3.org/2000/svg\" xmlns:xlink=\"http://www.w3.org/1999/xlink\" contentScriptType=\"application/ecmascript\" contentStyleType=\"text/css\" height=\"252px\" preserveAspectRatio=\"none\" style=\"width:306px;height:252px;\" version=\"1.1\" viewBox=\"0 0 306 252\" width=\"306px\" zoomAndPan=\"magnify\"><defs/><g><!--MD5=[fbc87193dbaf4d95561dea2c320d4a47]\n",
       "cluster E1--><a href=\"psysml:679eaabc-5ff5-4f8e-91e0-c316c2e3864c\" target=\"_top\" title=\"psysml:679eaabc-5ff5-4f8e-91e0-c316c2e3864c\" xlink:actuate=\"onRequest\" xlink:href=\"psysml:679eaabc-5ff5-4f8e-91e0-c316c2e3864c\" xlink:show=\"new\" xlink:title=\"psysml:679eaabc-5ff5-4f8e-91e0-c316c2e3864c\" xlink:type=\"simple\"><polygon fill=\"#FFFFFF\" points=\"16,6,163,6,170,28.2969,284,28.2969,284,240,16,240,16,6\" style=\"stroke: #000000; stroke-width: 1.5;\"/><line style=\"stroke: #000000; stroke-width: 1.5;\" x1=\"16\" x2=\"170\" y1=\"28.2969\" y2=\"28.2969\"/><text fill=\"#000000\" font-family=\"sans-serif\" font-size=\"14\" font-weight=\"bold\" lengthAdjust=\"spacingAndGlyphs\" textLength=\"141\" x=\"20\" y=\"20.9951\">PrivateImportTest</text></a><!--MD5=[e4f7fae6ed58524ba242bb0b0d3be6b7]\n",
       "cluster E2--><a href=\"psysml:009bdde2-dc25-4a27-9e47-f33e7b142b72\" target=\"_top\" title=\"psysml:009bdde2-dc25-4a27-9e47-f33e7b142b72\" xlink:actuate=\"onRequest\" xlink:href=\"psysml:009bdde2-dc25-4a27-9e47-f33e7b142b72\" xlink:show=\"new\" xlink:title=\"psysml:009bdde2-dc25-4a27-9e47-f33e7b142b72\" xlink:type=\"simple\"><polygon fill=\"#FFFFFF\" points=\"162,119,188,119,195,141.2969,260,141.2969,260,216,162,216,162,119\" style=\"stroke: #000000; stroke-width: 1.5;\"/><line style=\"stroke: #000000; stroke-width: 1.5;\" x1=\"162\" x2=\"195\" y1=\"141.2969\" y2=\"141.2969\"/><text fill=\"#000000\" font-family=\"sans-serif\" font-size=\"14\" font-weight=\"bold\" lengthAdjust=\"spacingAndGlyphs\" textLength=\"20\" x=\"166\" y=\"133.9951\">P1</text></a><!--MD5=[14e3b0961a2654348d326746436168a1]\n",
       "cluster E6--><a href=\"psysml:b0bbce7f-63ab-4038-bed6-f72cdad2d833\" target=\"_top\" title=\"psysml:b0bbce7f-63ab-4038-bed6-f72cdad2d833\" xlink:actuate=\"onRequest\" xlink:href=\"psysml:b0bbce7f-63ab-4038-bed6-f72cdad2d833\" xlink:show=\"new\" xlink:title=\"psysml:b0bbce7f-63ab-4038-bed6-f72cdad2d833\" xlink:type=\"simple\"><polygon fill=\"#FFFFFF\" points=\"40,119,66,119,73,141.2969,138,141.2969,138,216,40,216,40,119\" style=\"stroke: #000000; stroke-width: 1.5;\"/><line style=\"stroke: #000000; stroke-width: 1.5;\" x1=\"40\" x2=\"73\" y1=\"141.2969\" y2=\"141.2969\"/><text fill=\"#000000\" font-family=\"sans-serif\" font-size=\"14\" font-weight=\"bold\" lengthAdjust=\"spacingAndGlyphs\" textLength=\"20\" x=\"44\" y=\"133.9951\">P3</text></a><!--MD5=[270fce915f116d4de14055a7c1d9a0f3]\n",
       "class E5--><a href=\"psysml:ae15bfee-df16-4fee-9dc7-bf97e2180cfd\" target=\"_top\" title=\"psysml:ae15bfee-df16-4fee-9dc7-bf97e2180cfd\" xlink:actuate=\"onRequest\" xlink:href=\"psysml:ae15bfee-df16-4fee-9dc7-bf97e2180cfd\" xlink:show=\"new\" xlink:title=\"psysml:ae15bfee-df16-4fee-9dc7-bf97e2180cfd\" xlink:type=\"simple\"><rect fill=\"#FFFFFF\" height=\"45.9375\" id=\"E5\" rx=\"10\" ry=\"10\" style=\"stroke: #383838; stroke-width: 1.5;\" width=\"42\" x=\"190\" y=\"44.5\"/><text fill=\"#000000\" font-family=\"sans-serif\" font-size=\"12\" font-style=\"italic\" lengthAdjust=\"spacingAndGlyphs\" textLength=\"40\" x=\"191\" y=\"60.6387\">«part»</text><text fill=\"#000000\" font-family=\"sans-serif\" font-size=\"12\" lengthAdjust=\"spacingAndGlyphs\" textLength=\"22\" x=\"200\" y=\"74.6074\">x: A</text><line style=\"stroke: #383838; stroke-width: 1.5;\" x1=\"191\" x2=\"231\" y1=\"82.4375\" y2=\"82.4375\"/></a><!--MD5=[b9389687b975829384b498ac4b7476b2]\n",
       "class E8--><a href=\"psysml:977e6037-d806-4fb0-bccf-0c48256693c8\" target=\"_top\" title=\"psysml:977e6037-d806-4fb0-bccf-0c48256693c8\" xlink:actuate=\"onRequest\" xlink:href=\"psysml:977e6037-d806-4fb0-bccf-0c48256693c8\" xlink:show=\"new\" xlink:title=\"psysml:977e6037-d806-4fb0-bccf-0c48256693c8\" xlink:type=\"simple\"><rect fill=\"#FFFFFF\" height=\"45.9375\" id=\"E8\" rx=\"10\" ry=\"10\" style=\"stroke: #383838; stroke-width: 1.5;\" width=\"42\" x=\"107\" y=\"44.5\"/><text fill=\"#000000\" font-family=\"sans-serif\" font-size=\"12\" font-style=\"italic\" lengthAdjust=\"spacingAndGlyphs\" textLength=\"40\" x=\"108\" y=\"60.6387\">«part»</text><text fill=\"#000000\" font-family=\"sans-serif\" font-size=\"12\" lengthAdjust=\"spacingAndGlyphs\" textLength=\"21\" x=\"117.5\" y=\"74.6074\">z: B</text><line style=\"stroke: #383838; stroke-width: 1.5;\" x1=\"108\" x2=\"148\" y1=\"82.4375\" y2=\"82.4375\"/></a><!--MD5=[09b614a08d8cba4a07c9adeb5e0fee81]\n",
       "class E3--><a href=\"psysml:3f36db9e-42d3-4087-b2e1-ec91d884c8c4\" target=\"_top\" title=\"psysml:3f36db9e-42d3-4087-b2e1-ec91d884c8c4\" xlink:actuate=\"onRequest\" xlink:href=\"psysml:3f36db9e-42d3-4087-b2e1-ec91d884c8c4\" xlink:show=\"new\" xlink:title=\"psysml:3f36db9e-42d3-4087-b2e1-ec91d884c8c4\" xlink:type=\"simple\"><rect fill=\"#FFFFFF\" height=\"45.9375\" id=\"E3\" style=\"stroke: #383838; stroke-width: 1.5;\" width=\"66\" x=\"178\" y=\"154\"/><text fill=\"#000000\" font-family=\"sans-serif\" font-size=\"12\" font-style=\"italic\" lengthAdjust=\"spacingAndGlyphs\" textLength=\"64\" x=\"179\" y=\"170.1387\">«part def»</text><text fill=\"#000000\" font-family=\"sans-serif\" font-size=\"12\" lengthAdjust=\"spacingAndGlyphs\" textLength=\"8\" x=\"207\" y=\"184.1074\">A</text><line style=\"stroke: #383838; stroke-width: 1.5;\" x1=\"179\" x2=\"243\" y1=\"191.9375\" y2=\"191.9375\"/></a><a href=\"psysml:6aec89c6-9258-4c03-89c0-e79f913ee5de\" target=\"_top\" title=\"psysml:6aec89c6-9258-4c03-89c0-e79f913ee5de\" xlink:actuate=\"onRequest\" xlink:href=\"psysml:6aec89c6-9258-4c03-89c0-e79f913ee5de\" xlink:show=\"new\" xlink:title=\"psysml:6aec89c6-9258-4c03-89c0-e79f913ee5de\" xlink:type=\"simple\"><polygon fill=\"#FFFFFF\" points=\"32,41,58,41,65,63.2969,72,63.2969,72,93.5938,32,93.5938,32,41\" style=\"stroke: #000000; stroke-width: 1.5;\"/><line style=\"stroke: #000000; stroke-width: 1.5;\" x1=\"32\" x2=\"65\" y1=\"63.2969\" y2=\"63.2969\"/><text fill=\"#000000\" font-family=\"sans-serif\" font-size=\"14\" font-weight=\"bold\" lengthAdjust=\"spacingAndGlyphs\" textLength=\"20\" x=\"36\" y=\"55.9951\">P2</text></a><!--MD5=[2156ba9850f5573cc1fc38a6a4b2f02b]\n",
       "class E7--><a href=\"psysml:0f9466c7-ef71-48bc-a930-ec3e2c1a2c86\" target=\"_top\" title=\"psysml:0f9466c7-ef71-48bc-a930-ec3e2c1a2c86\" xlink:actuate=\"onRequest\" xlink:href=\"psysml:0f9466c7-ef71-48bc-a930-ec3e2c1a2c86\" xlink:show=\"new\" xlink:title=\"psysml:0f9466c7-ef71-48bc-a930-ec3e2c1a2c86\" xlink:type=\"simple\"><rect fill=\"#FFFFFF\" height=\"45.9375\" id=\"E7\" style=\"stroke: #383838; stroke-width: 1.5;\" width=\"66\" x=\"56\" y=\"154\"/><text fill=\"#000000\" font-family=\"sans-serif\" font-size=\"12\" font-style=\"italic\" lengthAdjust=\"spacingAndGlyphs\" textLength=\"64\" x=\"57\" y=\"170.1387\">«part def»</text><text fill=\"#000000\" font-family=\"sans-serif\" font-size=\"12\" lengthAdjust=\"spacingAndGlyphs\" textLength=\"8\" x=\"85\" y=\"184.1074\">B</text><line style=\"stroke: #383838; stroke-width: 1.5;\" x1=\"57\" x2=\"121\" y1=\"191.9375\" y2=\"191.9375\"/></a><!--MD5=[e9be52314489bd878ff4c7144b63c9e1]\n",
       "link E5 to E3--><a href=\"psysml:fc52ff88-f6bf-464b-a9f6-50c073522383\" target=\"_top\" title=\"psysml:fc52ff88-f6bf-464b-a9f6-50c073522383\" xlink:actuate=\"onRequest\" xlink:href=\"psysml:fc52ff88-f6bf-464b-a9f6-50c073522383\" xlink:show=\"new\" xlink:title=\"psysml:fc52ff88-f6bf-464b-a9f6-50c073522383\" xlink:type=\"simple\"><path d=\"M211,90.51 C211,102.89 211,118.78 211,133.48 \" fill=\"none\" id=\"E5-&gt;E3\" style=\"stroke: #383838; stroke-width: 1.0;\"/><polygon fill=\"#FFFFFF\" points=\"211,153.65,204,134.65,218,134.65,211,153.65\" style=\"stroke: #383838; stroke-width: 1.0;\"/><ellipse cx=\"206\" cy=\"128.95\" fill=\"#383838\" rx=\"2\" ry=\"2\" style=\"stroke: #383838; stroke-width: 1.0;\"/><ellipse cx=\"216\" cy=\"128.95\" fill=\"#383838\" rx=\"2\" ry=\"2\" style=\"stroke: #383838; stroke-width: 1.0;\"/></a><!--MD5=[bfa3c8b0d15052fdf50ae9310b491027]\n",
       "link E8 to E7--><a href=\"psysml:46d3b5b8-edad-416f-ae7d-d25648abca20\" target=\"_top\" title=\"psysml:46d3b5b8-edad-416f-ae7d-d25648abca20\" xlink:actuate=\"onRequest\" xlink:href=\"psysml:46d3b5b8-edad-416f-ae7d-d25648abca20\" xlink:show=\"new\" xlink:title=\"psysml:46d3b5b8-edad-416f-ae7d-d25648abca20\" xlink:type=\"simple\"><path d=\"M120.01,90.51 C115.39,103.25 109.42,119.7 103.96,134.76 \" fill=\"none\" id=\"E8-&gt;E7\" style=\"stroke: #383838; stroke-width: 1.0;\"/><polygon fill=\"#FFFFFF\" points=\"97.11,153.65,97.0036,133.4018,110.1656,138.1726,97.11,153.65\" style=\"stroke: #383838; stroke-width: 1.0;\"/><ellipse cx=\"100.8262\" cy=\"128.7245\" fill=\"#383838\" rx=\"2\" ry=\"2\" style=\"stroke: #383838; stroke-width: 1.0;\"/><ellipse cx=\"110.2277\" cy=\"132.1322\" fill=\"#383838\" rx=\"2\" ry=\"2\" style=\"stroke: #383838; stroke-width: 1.0;\"/></a><!--MD5=[e87c3e4ff9f634b5624fb5275afeaeab]\n",
       "@startuml\r\n",
       "skinparam linetype polyline\r\n",
       "skinparam monochrome true\r\n",
       "skinparam classbackgroundcolor white\r\n",
       "skinparam shadowing false\r\n",
       "skinparam wrapWidth 300\r\n",
       "hide circle\r\n",
       "\r\n",
       "package \"PrivateImportTest\" as E1  [[psysml:679eaabc-5ff5-4f8e-91e0-c316c2e3864c ]]  {\r\n",
       "package \"P1\" as E2  [[psysml:009bdde2-dc25-4a27-9e47-f33e7b142b72 ]]  {\r\n",
       "comp def \"A\" as E3  <<(T,blue)part def>> [[psysml:3f36db9e-42d3-4087-b2e1-ec91d884c8c4 ]] {\r\n",
       "}\r\n",
       "}\r\n",
       "package \"P2\" as E4  [[psysml:6aec89c6-9258-4c03-89c0-e79f913ee5de ]]  {\r\n",
       "}\r\n",
       "comp usage \"x: A\" as E5  <<(T,blue)part>> [[psysml:ae15bfee-df16-4fee-9dc7-bf97e2180cfd ]] {\r\n",
       "}\r\n",
       "package \"P3\" as E6  [[psysml:b0bbce7f-63ab-4038-bed6-f72cdad2d833 ]]  {\r\n",
       "comp def \"B\" as E7  <<(T,blue)part def>> [[psysml:0f9466c7-ef71-48bc-a930-ec3e2c1a2c86 ]] {\r\n",
       "}\r\n",
       "E5 - -:|> E3 [[psysml:fc52ff88-f6bf-464b-a9f6-50c073522383 ]] \r\n",
       "}\r\n",
       "comp usage \"z: B\" as E8  <<(T,blue)part>> [[psysml:977e6037-d806-4fb0-bccf-0c48256693c8 ]] {\r\n",
       "}\r\n",
       "E8 - -:|> E7 [[psysml:46d3b5b8-edad-416f-ae7d-d25648abca20 ]] \r\n",
       "}\r\n",
       "@enduml\r\n",
       "\n",
       "PlantUML version 1.2020.13(Sat Jun 13 12:26:38 UTC 2020)\n",
       "(EPL source distribution)\n",
       "Java Runtime: OpenJDK Runtime Environment\n",
       "JVM: OpenJDK 64-Bit Server VM\n",
       "Default Encoding: UTF-8\n",
       "Language: en\n",
       "Country: null\n",
       "--></g></svg>"
      ]
     },
     "execution_count": 9,
     "metadata": {},
     "output_type": "execute_result"
    }
   ],
   "source": [
    "%viz --style=\"POLYLINE\" --view=\"Default\" \"PrivateImportTest\""
   ]
  },
  {
   "cell_type": "code",
   "execution_count": 10,
   "id": "organic-consideration",
   "metadata": {
    "execution": {
     "iopub.execute_input": "2021-03-24T16:28:03.859686Z",
     "iopub.status.busy": "2021-03-24T16:28:03.859350Z",
     "iopub.status.idle": "2021-03-24T16:28:03.895368Z",
     "shell.execute_reply": "2021-03-24T16:28:03.895697Z"
    }
   },
   "outputs": [
    {
     "data": {
      "image/svg+xml": [
       "<?xml version=\"1.0\" encoding=\"UTF-8\" standalone=\"no\"?><svg xmlns=\"http://www.w3.org/2000/svg\" xmlns:xlink=\"http://www.w3.org/1999/xlink\" contentScriptType=\"application/ecmascript\" contentStyleType=\"text/css\" height=\"252px\" preserveAspectRatio=\"none\" style=\"width:306px;height:252px;\" version=\"1.1\" viewBox=\"0 0 306 252\" width=\"306px\" zoomAndPan=\"magnify\"><defs/><g><!--MD5=[fbc87193dbaf4d95561dea2c320d4a47]\n",
       "cluster E1--><a href=\"psysml:679eaabc-5ff5-4f8e-91e0-c316c2e3864c\" target=\"_top\" title=\"psysml:679eaabc-5ff5-4f8e-91e0-c316c2e3864c\" xlink:actuate=\"onRequest\" xlink:href=\"psysml:679eaabc-5ff5-4f8e-91e0-c316c2e3864c\" xlink:show=\"new\" xlink:title=\"psysml:679eaabc-5ff5-4f8e-91e0-c316c2e3864c\" xlink:type=\"simple\"><polygon fill=\"#FFFFFF\" points=\"16,6,163,6,170,28.2969,284,28.2969,284,240,16,240,16,6\" style=\"stroke: #000000; stroke-width: 1.5;\"/><line style=\"stroke: #000000; stroke-width: 1.5;\" x1=\"16\" x2=\"170\" y1=\"28.2969\" y2=\"28.2969\"/><text fill=\"#000000\" font-family=\"sans-serif\" font-size=\"14\" font-weight=\"bold\" lengthAdjust=\"spacingAndGlyphs\" textLength=\"141\" x=\"20\" y=\"20.9951\">PrivateImportTest</text></a><!--MD5=[e4f7fae6ed58524ba242bb0b0d3be6b7]\n",
       "cluster E2--><a href=\"psysml:009bdde2-dc25-4a27-9e47-f33e7b142b72\" target=\"_top\" title=\"psysml:009bdde2-dc25-4a27-9e47-f33e7b142b72\" xlink:actuate=\"onRequest\" xlink:href=\"psysml:009bdde2-dc25-4a27-9e47-f33e7b142b72\" xlink:show=\"new\" xlink:title=\"psysml:009bdde2-dc25-4a27-9e47-f33e7b142b72\" xlink:type=\"simple\"><polygon fill=\"#FFFFFF\" points=\"162,119,188,119,195,141.2969,260,141.2969,260,216,162,216,162,119\" style=\"stroke: #000000; stroke-width: 1.5;\"/><line style=\"stroke: #000000; stroke-width: 1.5;\" x1=\"162\" x2=\"195\" y1=\"141.2969\" y2=\"141.2969\"/><text fill=\"#000000\" font-family=\"sans-serif\" font-size=\"14\" font-weight=\"bold\" lengthAdjust=\"spacingAndGlyphs\" textLength=\"20\" x=\"166\" y=\"133.9951\">P1</text></a><!--MD5=[14e3b0961a2654348d326746436168a1]\n",
       "cluster E6--><a href=\"psysml:b0bbce7f-63ab-4038-bed6-f72cdad2d833\" target=\"_top\" title=\"psysml:b0bbce7f-63ab-4038-bed6-f72cdad2d833\" xlink:actuate=\"onRequest\" xlink:href=\"psysml:b0bbce7f-63ab-4038-bed6-f72cdad2d833\" xlink:show=\"new\" xlink:title=\"psysml:b0bbce7f-63ab-4038-bed6-f72cdad2d833\" xlink:type=\"simple\"><polygon fill=\"#FFFFFF\" points=\"40,119,66,119,73,141.2969,138,141.2969,138,216,40,216,40,119\" style=\"stroke: #000000; stroke-width: 1.5;\"/><line style=\"stroke: #000000; stroke-width: 1.5;\" x1=\"40\" x2=\"73\" y1=\"141.2969\" y2=\"141.2969\"/><text fill=\"#000000\" font-family=\"sans-serif\" font-size=\"14\" font-weight=\"bold\" lengthAdjust=\"spacingAndGlyphs\" textLength=\"20\" x=\"44\" y=\"133.9951\">P3</text></a><!--MD5=[270fce915f116d4de14055a7c1d9a0f3]\n",
       "class E5--><a href=\"psysml:ae15bfee-df16-4fee-9dc7-bf97e2180cfd\" target=\"_top\" title=\"psysml:ae15bfee-df16-4fee-9dc7-bf97e2180cfd\" xlink:actuate=\"onRequest\" xlink:href=\"psysml:ae15bfee-df16-4fee-9dc7-bf97e2180cfd\" xlink:show=\"new\" xlink:title=\"psysml:ae15bfee-df16-4fee-9dc7-bf97e2180cfd\" xlink:type=\"simple\"><rect fill=\"#FFFFFF\" height=\"45.9375\" id=\"E5\" rx=\"10\" ry=\"10\" style=\"stroke: #383838; stroke-width: 1.5;\" width=\"42\" x=\"190\" y=\"44.5\"/><text fill=\"#000000\" font-family=\"sans-serif\" font-size=\"12\" font-style=\"italic\" lengthAdjust=\"spacingAndGlyphs\" textLength=\"40\" x=\"191\" y=\"60.6387\">«part»</text><text fill=\"#000000\" font-family=\"sans-serif\" font-size=\"12\" lengthAdjust=\"spacingAndGlyphs\" textLength=\"22\" x=\"200\" y=\"74.6074\">x: A</text><line style=\"stroke: #383838; stroke-width: 1.5;\" x1=\"191\" x2=\"231\" y1=\"82.4375\" y2=\"82.4375\"/></a><!--MD5=[b9389687b975829384b498ac4b7476b2]\n",
       "class E8--><a href=\"psysml:977e6037-d806-4fb0-bccf-0c48256693c8\" target=\"_top\" title=\"psysml:977e6037-d806-4fb0-bccf-0c48256693c8\" xlink:actuate=\"onRequest\" xlink:href=\"psysml:977e6037-d806-4fb0-bccf-0c48256693c8\" xlink:show=\"new\" xlink:title=\"psysml:977e6037-d806-4fb0-bccf-0c48256693c8\" xlink:type=\"simple\"><rect fill=\"#FFFFFF\" height=\"45.9375\" id=\"E8\" rx=\"10\" ry=\"10\" style=\"stroke: #383838; stroke-width: 1.5;\" width=\"42\" x=\"107\" y=\"44.5\"/><text fill=\"#000000\" font-family=\"sans-serif\" font-size=\"12\" font-style=\"italic\" lengthAdjust=\"spacingAndGlyphs\" textLength=\"40\" x=\"108\" y=\"60.6387\">«part»</text><text fill=\"#000000\" font-family=\"sans-serif\" font-size=\"12\" lengthAdjust=\"spacingAndGlyphs\" textLength=\"21\" x=\"117.5\" y=\"74.6074\">z: B</text><line style=\"stroke: #383838; stroke-width: 1.5;\" x1=\"108\" x2=\"148\" y1=\"82.4375\" y2=\"82.4375\"/></a><!--MD5=[09b614a08d8cba4a07c9adeb5e0fee81]\n",
       "class E3--><a href=\"psysml:3f36db9e-42d3-4087-b2e1-ec91d884c8c4\" target=\"_top\" title=\"psysml:3f36db9e-42d3-4087-b2e1-ec91d884c8c4\" xlink:actuate=\"onRequest\" xlink:href=\"psysml:3f36db9e-42d3-4087-b2e1-ec91d884c8c4\" xlink:show=\"new\" xlink:title=\"psysml:3f36db9e-42d3-4087-b2e1-ec91d884c8c4\" xlink:type=\"simple\"><rect fill=\"#FFFFFF\" height=\"45.9375\" id=\"E3\" style=\"stroke: #383838; stroke-width: 1.5;\" width=\"66\" x=\"178\" y=\"154\"/><text fill=\"#000000\" font-family=\"sans-serif\" font-size=\"12\" font-style=\"italic\" lengthAdjust=\"spacingAndGlyphs\" textLength=\"64\" x=\"179\" y=\"170.1387\">«part def»</text><text fill=\"#000000\" font-family=\"sans-serif\" font-size=\"12\" lengthAdjust=\"spacingAndGlyphs\" textLength=\"8\" x=\"207\" y=\"184.1074\">A</text><line style=\"stroke: #383838; stroke-width: 1.5;\" x1=\"179\" x2=\"243\" y1=\"191.9375\" y2=\"191.9375\"/></a><a href=\"psysml:6aec89c6-9258-4c03-89c0-e79f913ee5de\" target=\"_top\" title=\"psysml:6aec89c6-9258-4c03-89c0-e79f913ee5de\" xlink:actuate=\"onRequest\" xlink:href=\"psysml:6aec89c6-9258-4c03-89c0-e79f913ee5de\" xlink:show=\"new\" xlink:title=\"psysml:6aec89c6-9258-4c03-89c0-e79f913ee5de\" xlink:type=\"simple\"><polygon fill=\"#FFFFFF\" points=\"32,41,58,41,65,63.2969,72,63.2969,72,93.5938,32,93.5938,32,41\" style=\"stroke: #000000; stroke-width: 1.5;\"/><line style=\"stroke: #000000; stroke-width: 1.5;\" x1=\"32\" x2=\"65\" y1=\"63.2969\" y2=\"63.2969\"/><text fill=\"#000000\" font-family=\"sans-serif\" font-size=\"14\" font-weight=\"bold\" lengthAdjust=\"spacingAndGlyphs\" textLength=\"20\" x=\"36\" y=\"55.9951\">P2</text></a><!--MD5=[2156ba9850f5573cc1fc38a6a4b2f02b]\n",
       "class E7--><a href=\"psysml:0f9466c7-ef71-48bc-a930-ec3e2c1a2c86\" target=\"_top\" title=\"psysml:0f9466c7-ef71-48bc-a930-ec3e2c1a2c86\" xlink:actuate=\"onRequest\" xlink:href=\"psysml:0f9466c7-ef71-48bc-a930-ec3e2c1a2c86\" xlink:show=\"new\" xlink:title=\"psysml:0f9466c7-ef71-48bc-a930-ec3e2c1a2c86\" xlink:type=\"simple\"><rect fill=\"#FFFFFF\" height=\"45.9375\" id=\"E7\" style=\"stroke: #383838; stroke-width: 1.5;\" width=\"66\" x=\"56\" y=\"154\"/><text fill=\"#000000\" font-family=\"sans-serif\" font-size=\"12\" font-style=\"italic\" lengthAdjust=\"spacingAndGlyphs\" textLength=\"64\" x=\"57\" y=\"170.1387\">«part def»</text><text fill=\"#000000\" font-family=\"sans-serif\" font-size=\"12\" lengthAdjust=\"spacingAndGlyphs\" textLength=\"8\" x=\"85\" y=\"184.1074\">B</text><line style=\"stroke: #383838; stroke-width: 1.5;\" x1=\"57\" x2=\"121\" y1=\"191.9375\" y2=\"191.9375\"/></a><!--MD5=[e9be52314489bd878ff4c7144b63c9e1]\n",
       "link E5 to E3--><a href=\"psysml:fc52ff88-f6bf-464b-a9f6-50c073522383\" target=\"_top\" title=\"psysml:fc52ff88-f6bf-464b-a9f6-50c073522383\" xlink:actuate=\"onRequest\" xlink:href=\"psysml:fc52ff88-f6bf-464b-a9f6-50c073522383\" xlink:show=\"new\" xlink:title=\"psysml:fc52ff88-f6bf-464b-a9f6-50c073522383\" xlink:type=\"simple\"><path d=\"M211,90.51 C211,102.89 211,118.78 211,133.48 \" fill=\"none\" id=\"E5-&gt;E3\" style=\"stroke: #383838; stroke-width: 1.0;\"/><polygon fill=\"#FFFFFF\" points=\"211,153.65,204,134.65,218,134.65,211,153.65\" style=\"stroke: #383838; stroke-width: 1.0;\"/><ellipse cx=\"206\" cy=\"128.95\" fill=\"#383838\" rx=\"2\" ry=\"2\" style=\"stroke: #383838; stroke-width: 1.0;\"/><ellipse cx=\"216\" cy=\"128.95\" fill=\"#383838\" rx=\"2\" ry=\"2\" style=\"stroke: #383838; stroke-width: 1.0;\"/></a><!--MD5=[bfa3c8b0d15052fdf50ae9310b491027]\n",
       "link E8 to E7--><a href=\"psysml:46d3b5b8-edad-416f-ae7d-d25648abca20\" target=\"_top\" title=\"psysml:46d3b5b8-edad-416f-ae7d-d25648abca20\" xlink:actuate=\"onRequest\" xlink:href=\"psysml:46d3b5b8-edad-416f-ae7d-d25648abca20\" xlink:show=\"new\" xlink:title=\"psysml:46d3b5b8-edad-416f-ae7d-d25648abca20\" xlink:type=\"simple\"><path d=\"M120.01,90.51 C115.39,103.25 109.42,119.7 103.96,134.76 \" fill=\"none\" id=\"E8-&gt;E7\" style=\"stroke: #383838; stroke-width: 1.0;\"/><polygon fill=\"#FFFFFF\" points=\"97.11,153.65,97.0036,133.4018,110.1656,138.1726,97.11,153.65\" style=\"stroke: #383838; stroke-width: 1.0;\"/><ellipse cx=\"100.8262\" cy=\"128.7245\" fill=\"#383838\" rx=\"2\" ry=\"2\" style=\"stroke: #383838; stroke-width: 1.0;\"/><ellipse cx=\"110.2277\" cy=\"132.1322\" fill=\"#383838\" rx=\"2\" ry=\"2\" style=\"stroke: #383838; stroke-width: 1.0;\"/></a><!--MD5=[e87c3e4ff9f634b5624fb5275afeaeab]\n",
       "@startuml\r\n",
       "skinparam linetype polyline\r\n",
       "skinparam monochrome true\r\n",
       "skinparam classbackgroundcolor white\r\n",
       "skinparam shadowing false\r\n",
       "skinparam wrapWidth 300\r\n",
       "hide circle\r\n",
       "\r\n",
       "package \"PrivateImportTest\" as E1  [[psysml:679eaabc-5ff5-4f8e-91e0-c316c2e3864c ]]  {\r\n",
       "package \"P1\" as E2  [[psysml:009bdde2-dc25-4a27-9e47-f33e7b142b72 ]]  {\r\n",
       "comp def \"A\" as E3  <<(T,blue)part def>> [[psysml:3f36db9e-42d3-4087-b2e1-ec91d884c8c4 ]] {\r\n",
       "}\r\n",
       "}\r\n",
       "package \"P2\" as E4  [[psysml:6aec89c6-9258-4c03-89c0-e79f913ee5de ]]  {\r\n",
       "}\r\n",
       "comp usage \"x: A\" as E5  <<(T,blue)part>> [[psysml:ae15bfee-df16-4fee-9dc7-bf97e2180cfd ]] {\r\n",
       "}\r\n",
       "package \"P3\" as E6  [[psysml:b0bbce7f-63ab-4038-bed6-f72cdad2d833 ]]  {\r\n",
       "comp def \"B\" as E7  <<(T,blue)part def>> [[psysml:0f9466c7-ef71-48bc-a930-ec3e2c1a2c86 ]] {\r\n",
       "}\r\n",
       "E5 - -:|> E3 [[psysml:fc52ff88-f6bf-464b-a9f6-50c073522383 ]] \r\n",
       "}\r\n",
       "comp usage \"z: B\" as E8  <<(T,blue)part>> [[psysml:977e6037-d806-4fb0-bccf-0c48256693c8 ]] {\r\n",
       "}\r\n",
       "E8 - -:|> E7 [[psysml:46d3b5b8-edad-416f-ae7d-d25648abca20 ]] \r\n",
       "}\r\n",
       "@enduml\r\n",
       "\n",
       "PlantUML version 1.2020.13(Sat Jun 13 12:26:38 UTC 2020)\n",
       "(EPL source distribution)\n",
       "Java Runtime: OpenJDK Runtime Environment\n",
       "JVM: OpenJDK 64-Bit Server VM\n",
       "Default Encoding: UTF-8\n",
       "Language: en\n",
       "Country: null\n",
       "--></g></svg>"
      ]
     },
     "execution_count": 10,
     "metadata": {},
     "output_type": "execute_result"
    }
   ],
   "source": [
    "%viz --style=\"POLYLINE\" --view=\"Tree\" \"PrivateImportTest\""
   ]
  },
  {
   "cell_type": "code",
   "execution_count": 11,
   "id": "third-charge",
   "metadata": {
    "execution": {
     "iopub.execute_input": "2021-03-24T16:28:03.947910Z",
     "iopub.status.busy": "2021-03-24T16:28:03.947268Z",
     "iopub.status.idle": "2021-03-24T16:28:03.954447Z",
     "shell.execute_reply": "2021-03-24T16:28:03.954127Z"
    }
   },
   "outputs": [
    {
     "data": {
      "image/svg+xml": [
       "<?xml version=\"1.0\" encoding=\"UTF-8\" standalone=\"no\"?><svg xmlns=\"http://www.w3.org/2000/svg\" xmlns:xlink=\"http://www.w3.org/1999/xlink\" contentScriptType=\"application/ecmascript\" contentStyleType=\"text/css\" height=\"12px\" preserveAspectRatio=\"none\" style=\"width:12px;height:12px;\" version=\"1.1\" viewBox=\"0 0 12 12\" width=\"12px\" zoomAndPan=\"magnify\"><defs/><g><!--MD5=[896ac0e7a515d8dd7765a661cb4ee08b]\n",
       "@startuml\r\n",
       "skinparam linetype polyline\r\n",
       "skinparam monochrome true\r\n",
       "skinparam classbackgroundcolor white\r\n",
       "skinparam shadowing false\r\n",
       "skinparam wrapWidth 300\r\n",
       "hide circle\r\n",
       "\r\n",
       "@enduml\r\n",
       "\n",
       "PlantUML version 1.2020.13(Sat Jun 13 12:26:38 UTC 2020)\n",
       "(EPL source distribution)\n",
       "Java Runtime: OpenJDK Runtime Environment\n",
       "JVM: OpenJDK 64-Bit Server VM\n",
       "Default Encoding: UTF-8\n",
       "Language: en\n",
       "Country: null\n",
       "--></g></svg>"
      ]
     },
     "execution_count": 11,
     "metadata": {},
     "output_type": "execute_result"
    }
   ],
   "source": [
    "%viz --style=\"POLYLINE\" --view=\"State\" \"PrivateImportTest\""
   ]
  },
  {
   "cell_type": "code",
   "execution_count": 12,
   "id": "nutritional-satellite",
   "metadata": {
    "execution": {
     "iopub.execute_input": "2021-03-24T16:28:04.006250Z",
     "iopub.status.busy": "2021-03-24T16:28:04.005525Z",
     "iopub.status.idle": "2021-03-24T16:28:04.043643Z",
     "shell.execute_reply": "2021-03-24T16:28:04.043336Z"
    }
   },
   "outputs": [
    {
     "data": {
      "image/svg+xml": [
       "<?xml version=\"1.0\" encoding=\"UTF-8\" standalone=\"no\"?><svg xmlns=\"http://www.w3.org/2000/svg\" xmlns:xlink=\"http://www.w3.org/1999/xlink\" contentScriptType=\"application/ecmascript\" contentStyleType=\"text/css\" height=\"179px\" preserveAspectRatio=\"none\" style=\"width:539px;height:179px;\" version=\"1.1\" viewBox=\"0 0 539 179\" width=\"539px\" zoomAndPan=\"magnify\"><defs/><g><!--MD5=[fbc87193dbaf4d95561dea2c320d4a47]\n",
       "cluster E1--><a href=\"psysml:679eaabc-5ff5-4f8e-91e0-c316c2e3864c\" target=\"_top\" title=\"psysml:679eaabc-5ff5-4f8e-91e0-c316c2e3864c\" xlink:actuate=\"onRequest\" xlink:href=\"psysml:679eaabc-5ff5-4f8e-91e0-c316c2e3864c\" xlink:show=\"new\" xlink:title=\"psysml:679eaabc-5ff5-4f8e-91e0-c316c2e3864c\" xlink:type=\"simple\"><polygon fill=\"#FFFFFF\" points=\"16,6,163,6,170,28.2969,517,28.2969,517,167,16,167,16,6\" style=\"stroke: #000000; stroke-width: 1.5;\"/><line style=\"stroke: #000000; stroke-width: 1.5;\" x1=\"16\" x2=\"170\" y1=\"28.2969\" y2=\"28.2969\"/><text fill=\"#000000\" font-family=\"sans-serif\" font-size=\"14\" font-weight=\"bold\" lengthAdjust=\"spacingAndGlyphs\" textLength=\"141\" x=\"20\" y=\"20.9951\">PrivateImportTest</text></a><!--MD5=[e4f7fae6ed58524ba242bb0b0d3be6b7]\n",
       "cluster E2--><a href=\"psysml:009bdde2-dc25-4a27-9e47-f33e7b142b72\" target=\"_top\" title=\"psysml:009bdde2-dc25-4a27-9e47-f33e7b142b72\" xlink:actuate=\"onRequest\" xlink:href=\"psysml:009bdde2-dc25-4a27-9e47-f33e7b142b72\" xlink:show=\"new\" xlink:title=\"psysml:009bdde2-dc25-4a27-9e47-f33e7b142b72\" xlink:type=\"simple\"><polygon fill=\"#FFFFFF\" points=\"389,49,415,49,422,71.2969,493,71.2969,493,143,389,143,389,49\" style=\"stroke: #000000; stroke-width: 1.5;\"/><line style=\"stroke: #000000; stroke-width: 1.5;\" x1=\"389\" x2=\"422\" y1=\"71.2969\" y2=\"71.2969\"/><text fill=\"#000000\" font-family=\"sans-serif\" font-size=\"14\" font-weight=\"bold\" lengthAdjust=\"spacingAndGlyphs\" textLength=\"20\" x=\"393\" y=\"63.9951\">P1</text></a><!--MD5=[14e3b0961a2654348d326746436168a1]\n",
       "cluster E6--><a href=\"psysml:b0bbce7f-63ab-4038-bed6-f72cdad2d833\" target=\"_top\" title=\"psysml:b0bbce7f-63ab-4038-bed6-f72cdad2d833\" xlink:actuate=\"onRequest\" xlink:href=\"psysml:b0bbce7f-63ab-4038-bed6-f72cdad2d833\" xlink:show=\"new\" xlink:title=\"psysml:b0bbce7f-63ab-4038-bed6-f72cdad2d833\" xlink:type=\"simple\"><polygon fill=\"#FFFFFF\" points=\"261,49,287,49,294,71.2969,365,71.2969,365,143,261,143,261,49\" style=\"stroke: #000000; stroke-width: 1.5;\"/><line style=\"stroke: #000000; stroke-width: 1.5;\" x1=\"261\" x2=\"294\" y1=\"71.2969\" y2=\"71.2969\"/><text fill=\"#000000\" font-family=\"sans-serif\" font-size=\"14\" font-weight=\"bold\" lengthAdjust=\"spacingAndGlyphs\" textLength=\"20\" x=\"265\" y=\"63.9951\">P3</text></a><g id=\"E1.E2.E3\"><a href=\"psysml:3f36db9e-42d3-4087-b2e1-ec91d884c8c4\" target=\"_top\" title=\"psysml:3f36db9e-42d3-4087-b2e1-ec91d884c8c4\" xlink:actuate=\"onRequest\" xlink:href=\"psysml:3f36db9e-42d3-4087-b2e1-ec91d884c8c4\" xlink:show=\"new\" xlink:title=\"psysml:3f36db9e-42d3-4087-b2e1-ec91d884c8c4\" xlink:type=\"simple\"><rect fill=\"#FFFFFF\" height=\"42.9375\" id=\"E3\" style=\"stroke: #383838; stroke-width: 1.5;\" width=\"71\" x=\"405.5\" y=\"84\"/><rect fill=\"#F8F8F8\" height=\"37.9375\" style=\"stroke: #383838; stroke-width: 1.5;\" width=\"71\" x=\"405.5\" y=\"84\"/><text fill=\"#000000\" font-family=\"sans-serif\" font-size=\"12\" font-style=\"italic\" lengthAdjust=\"spacingAndGlyphs\" textLength=\"64\" x=\"409\" y=\"100.1387\">«part def»</text><text fill=\"#000000\" font-family=\"sans-serif\" font-size=\"12\" lengthAdjust=\"spacingAndGlyphs\" textLength=\"8\" x=\"437\" y=\"114.1074\">A</text></a></g><a href=\"psysml:6aec89c6-9258-4c03-89c0-e79f913ee5de\" target=\"_top\" title=\"psysml:6aec89c6-9258-4c03-89c0-e79f913ee5de\" xlink:actuate=\"onRequest\" xlink:href=\"psysml:6aec89c6-9258-4c03-89c0-e79f913ee5de\" xlink:show=\"new\" xlink:title=\"psysml:6aec89c6-9258-4c03-89c0-e79f913ee5de\" xlink:type=\"simple\"><polygon fill=\"#FFFFFF\" points=\"202,79,228,79,235,101.2969,242,101.2969,242,131.5938,202,131.5938,202,79\" style=\"stroke: #000000; stroke-width: 1.5;\"/><line style=\"stroke: #000000; stroke-width: 1.5;\" x1=\"202\" x2=\"235\" y1=\"101.2969\" y2=\"101.2969\"/><text fill=\"#000000\" font-family=\"sans-serif\" font-size=\"14\" font-weight=\"bold\" lengthAdjust=\"spacingAndGlyphs\" textLength=\"20\" x=\"206\" y=\"93.9951\">P2</text></a><g id=\"E1.E5\"><a href=\"psysml:ae15bfee-df16-4fee-9dc7-bf97e2180cfd\" target=\"_top\" title=\"psysml:ae15bfee-df16-4fee-9dc7-bf97e2180cfd\" xlink:actuate=\"onRequest\" xlink:href=\"psysml:ae15bfee-df16-4fee-9dc7-bf97e2180cfd\" xlink:show=\"new\" xlink:title=\"psysml:ae15bfee-df16-4fee-9dc7-bf97e2180cfd\" xlink:type=\"simple\"><rect fill=\"#FFFFFF\" height=\"40\" id=\"E5\" rx=\"10\" ry=\"10\" style=\"stroke: #383838; stroke-width: 1.5;\" width=\"50\" x=\"117\" y=\"85.5\"/><rect fill=\"#F8F8F8\" height=\"23.9688\" rx=\"10\" ry=\"10\" style=\"stroke: #F8F8F8; stroke-width: 1.5;\" width=\"50\" x=\"117\" y=\"85.5\"/><rect fill=\"#F8F8F8\" height=\"10\" style=\"stroke: #F8F8F8; stroke-width: 1.5;\" width=\"50\" x=\"117\" y=\"99.4688\"/><rect fill=\"none\" height=\"40\" id=\"E5\" rx=\"10\" ry=\"10\" style=\"stroke: #383838; stroke-width: 1.5;\" width=\"50\" x=\"117\" y=\"85.5\"/><text fill=\"#000000\" font-family=\"sans-serif\" font-size=\"12\" lengthAdjust=\"spacingAndGlyphs\" textLength=\"22\" x=\"131\" y=\"101.6387\">x: A</text></a></g><g id=\"E1.E6.E7\"><a href=\"psysml:0f9466c7-ef71-48bc-a930-ec3e2c1a2c86\" target=\"_top\" title=\"psysml:0f9466c7-ef71-48bc-a930-ec3e2c1a2c86\" xlink:actuate=\"onRequest\" xlink:href=\"psysml:0f9466c7-ef71-48bc-a930-ec3e2c1a2c86\" xlink:show=\"new\" xlink:title=\"psysml:0f9466c7-ef71-48bc-a930-ec3e2c1a2c86\" xlink:type=\"simple\"><rect fill=\"#FFFFFF\" height=\"42.9375\" id=\"E7\" style=\"stroke: #383838; stroke-width: 1.5;\" width=\"71\" x=\"277.5\" y=\"84\"/><rect fill=\"#F8F8F8\" height=\"37.9375\" style=\"stroke: #383838; stroke-width: 1.5;\" width=\"71\" x=\"277.5\" y=\"84\"/><text fill=\"#000000\" font-family=\"sans-serif\" font-size=\"12\" font-style=\"italic\" lengthAdjust=\"spacingAndGlyphs\" textLength=\"64\" x=\"281\" y=\"100.1387\">«part def»</text><text fill=\"#000000\" font-family=\"sans-serif\" font-size=\"12\" lengthAdjust=\"spacingAndGlyphs\" textLength=\"8\" x=\"309\" y=\"114.1074\">B</text></a></g><g id=\"E1.E8\"><a href=\"psysml:977e6037-d806-4fb0-bccf-0c48256693c8\" target=\"_top\" title=\"psysml:977e6037-d806-4fb0-bccf-0c48256693c8\" xlink:actuate=\"onRequest\" xlink:href=\"psysml:977e6037-d806-4fb0-bccf-0c48256693c8\" xlink:show=\"new\" xlink:title=\"psysml:977e6037-d806-4fb0-bccf-0c48256693c8\" xlink:type=\"simple\"><rect fill=\"#FFFFFF\" height=\"40\" id=\"E8\" rx=\"10\" ry=\"10\" style=\"stroke: #383838; stroke-width: 1.5;\" width=\"50\" x=\"32\" y=\"85.5\"/><rect fill=\"#F8F8F8\" height=\"23.9688\" rx=\"10\" ry=\"10\" style=\"stroke: #F8F8F8; stroke-width: 1.5;\" width=\"50\" x=\"32\" y=\"85.5\"/><rect fill=\"#F8F8F8\" height=\"10\" style=\"stroke: #F8F8F8; stroke-width: 1.5;\" width=\"50\" x=\"32\" y=\"99.4688\"/><rect fill=\"none\" height=\"40\" id=\"E8\" rx=\"10\" ry=\"10\" style=\"stroke: #383838; stroke-width: 1.5;\" width=\"50\" x=\"32\" y=\"85.5\"/><text fill=\"#000000\" font-family=\"sans-serif\" font-size=\"12\" lengthAdjust=\"spacingAndGlyphs\" textLength=\"21\" x=\"46.5\" y=\"101.6387\">z: B</text></a></g><!--MD5=[5a6da59271bad4403554b80d47877963]\n",
       "@startuml\r\n",
       "skinparam ranksep 10\r\n",
       "skinparam rectangle {\r\n",
       " backgroundColor<<block>> LightGreen\r\n",
       "}\r\n",
       "skinparam linetype polyline\r\n",
       "skinparam monochrome true\r\n",
       "skinparam classbackgroundcolor white\r\n",
       "skinparam shadowing false\r\n",
       "skinparam wrapWidth 300\r\n",
       "hide circle\r\n",
       "\r\n",
       "package \"PrivateImportTest\" as E1  [[psysml:679eaabc-5ff5-4f8e-91e0-c316c2e3864c ]]  {\r\n",
       "package \"P1\" as E2  [[psysml:009bdde2-dc25-4a27-9e47-f33e7b142b72 ]]  {\r\n",
       "rec def \"A\" as E3  <<(T,blue)part def>> [[psysml:3f36db9e-42d3-4087-b2e1-ec91d884c8c4 ]] {\r\n",
       "}\r\n",
       "}\r\n",
       "package \"P2\" as E4  [[psysml:6aec89c6-9258-4c03-89c0-e79f913ee5de ]]  {\r\n",
       "}\r\n",
       "rec usage \"x: A\" as E5  [[psysml:ae15bfee-df16-4fee-9dc7-bf97e2180cfd ]] {\r\n",
       "}\r\n",
       "package \"P3\" as E6  [[psysml:b0bbce7f-63ab-4038-bed6-f72cdad2d833 ]]  {\r\n",
       "rec def \"B\" as E7  <<(T,blue)part def>> [[psysml:0f9466c7-ef71-48bc-a930-ec3e2c1a2c86 ]] {\r\n",
       "}\r\n",
       "}\r\n",
       "rec usage \"z: B\" as E8  [[psysml:977e6037-d806-4fb0-bccf-0c48256693c8 ]] {\r\n",
       "}\r\n",
       "}\r\n",
       "@enduml\r\n",
       "\n",
       "PlantUML version 1.2020.13(Sat Jun 13 12:26:38 UTC 2020)\n",
       "(EPL source distribution)\n",
       "Java Runtime: OpenJDK Runtime Environment\n",
       "JVM: OpenJDK 64-Bit Server VM\n",
       "Default Encoding: UTF-8\n",
       "Language: en\n",
       "Country: null\n",
       "--></g></svg>"
      ]
     },
     "execution_count": 12,
     "metadata": {},
     "output_type": "execute_result"
    }
   ],
   "source": [
    "%viz --style=\"POLYLINE\" --view=\"Interconnection\" \"PrivateImportTest\""
   ]
  },
  {
   "cell_type": "code",
   "execution_count": 13,
   "id": "technical-local",
   "metadata": {
    "execution": {
     "iopub.execute_input": "2021-03-24T16:28:04.096543Z",
     "iopub.status.busy": "2021-03-24T16:28:04.095375Z",
     "iopub.status.idle": "2021-03-24T16:28:04.104135Z",
     "shell.execute_reply": "2021-03-24T16:28:04.104474Z"
    }
   },
   "outputs": [
    {
     "data": {
      "image/svg+xml": [
       "<?xml version=\"1.0\" encoding=\"UTF-8\" standalone=\"no\"?><svg xmlns=\"http://www.w3.org/2000/svg\" xmlns:xlink=\"http://www.w3.org/1999/xlink\" contentScriptType=\"application/ecmascript\" contentStyleType=\"text/css\" height=\"12px\" preserveAspectRatio=\"none\" style=\"width:12px;height:12px;\" version=\"1.1\" viewBox=\"0 0 12 12\" width=\"12px\" zoomAndPan=\"magnify\"><defs/><g><!--MD5=[97bbf32f66ccd50cbc40d92ea8f5a65e]\n",
       "@startuml\r\n",
       "skinparam ranksep 8\r\n",
       "skinparam linetype polyline\r\n",
       "skinparam monochrome true\r\n",
       "skinparam classbackgroundcolor white\r\n",
       "skinparam shadowing false\r\n",
       "skinparam wrapWidth 300\r\n",
       "hide circle\r\n",
       "\r\n",
       "@enduml\r\n",
       "\n",
       "PlantUML version 1.2020.13(Sat Jun 13 12:26:38 UTC 2020)\n",
       "(EPL source distribution)\n",
       "Java Runtime: OpenJDK Runtime Environment\n",
       "JVM: OpenJDK 64-Bit Server VM\n",
       "Default Encoding: UTF-8\n",
       "Language: en\n",
       "Country: null\n",
       "--></g></svg>"
      ]
     },
     "execution_count": 13,
     "metadata": {},
     "output_type": "execute_result"
    }
   ],
   "source": [
    "%viz --style=\"POLYLINE\" --view=\"Action\" \"PrivateImportTest\""
   ]
  },
  {
   "cell_type": "code",
   "execution_count": 14,
   "id": "another-soviet",
   "metadata": {
    "execution": {
     "iopub.execute_input": "2021-03-24T16:28:04.155289Z",
     "iopub.status.busy": "2021-03-24T16:28:04.154700Z",
     "iopub.status.idle": "2021-03-24T16:28:04.188743Z",
     "shell.execute_reply": "2021-03-24T16:28:04.187398Z"
    }
   },
   "outputs": [
    {
     "data": {
      "image/svg+xml": [
       "<?xml version=\"1.0\" encoding=\"UTF-8\" standalone=\"no\"?><svg xmlns=\"http://www.w3.org/2000/svg\" xmlns:xlink=\"http://www.w3.org/1999/xlink\" contentScriptType=\"application/ecmascript\" contentStyleType=\"text/css\" height=\"252px\" preserveAspectRatio=\"none\" style=\"width:306px;height:252px;\" version=\"1.1\" viewBox=\"0 0 306 252\" width=\"306px\" zoomAndPan=\"magnify\"><defs/><g><!--MD5=[fbc87193dbaf4d95561dea2c320d4a47]\n",
       "cluster E1--><a href=\"psysml:679eaabc-5ff5-4f8e-91e0-c316c2e3864c\" target=\"_top\" title=\"psysml:679eaabc-5ff5-4f8e-91e0-c316c2e3864c\" xlink:actuate=\"onRequest\" xlink:href=\"psysml:679eaabc-5ff5-4f8e-91e0-c316c2e3864c\" xlink:show=\"new\" xlink:title=\"psysml:679eaabc-5ff5-4f8e-91e0-c316c2e3864c\" xlink:type=\"simple\"><polygon fill=\"#FFFFFF\" points=\"16,6,163,6,170,28.2969,284,28.2969,284,240,16,240,16,6\" style=\"stroke: #000000; stroke-width: 1.5;\"/><line style=\"stroke: #000000; stroke-width: 1.5;\" x1=\"16\" x2=\"170\" y1=\"28.2969\" y2=\"28.2969\"/><text fill=\"#000000\" font-family=\"sans-serif\" font-size=\"14\" font-weight=\"bold\" lengthAdjust=\"spacingAndGlyphs\" textLength=\"141\" x=\"20\" y=\"20.9951\">PrivateImportTest</text></a><!--MD5=[e4f7fae6ed58524ba242bb0b0d3be6b7]\n",
       "cluster E2--><a href=\"psysml:009bdde2-dc25-4a27-9e47-f33e7b142b72\" target=\"_top\" title=\"psysml:009bdde2-dc25-4a27-9e47-f33e7b142b72\" xlink:actuate=\"onRequest\" xlink:href=\"psysml:009bdde2-dc25-4a27-9e47-f33e7b142b72\" xlink:show=\"new\" xlink:title=\"psysml:009bdde2-dc25-4a27-9e47-f33e7b142b72\" xlink:type=\"simple\"><polygon fill=\"#FFFFFF\" points=\"162,119,188,119,195,141.2969,260,141.2969,260,216,162,216,162,119\" style=\"stroke: #000000; stroke-width: 1.5;\"/><line style=\"stroke: #000000; stroke-width: 1.5;\" x1=\"162\" x2=\"195\" y1=\"141.2969\" y2=\"141.2969\"/><text fill=\"#000000\" font-family=\"sans-serif\" font-size=\"14\" font-weight=\"bold\" lengthAdjust=\"spacingAndGlyphs\" textLength=\"20\" x=\"166\" y=\"133.9951\">P1</text></a><!--MD5=[14e3b0961a2654348d326746436168a1]\n",
       "cluster E6--><a href=\"psysml:b0bbce7f-63ab-4038-bed6-f72cdad2d833\" target=\"_top\" title=\"psysml:b0bbce7f-63ab-4038-bed6-f72cdad2d833\" xlink:actuate=\"onRequest\" xlink:href=\"psysml:b0bbce7f-63ab-4038-bed6-f72cdad2d833\" xlink:show=\"new\" xlink:title=\"psysml:b0bbce7f-63ab-4038-bed6-f72cdad2d833\" xlink:type=\"simple\"><polygon fill=\"#FFFFFF\" points=\"40,119,66,119,73,141.2969,138,141.2969,138,216,40,216,40,119\" style=\"stroke: #000000; stroke-width: 1.5;\"/><line style=\"stroke: #000000; stroke-width: 1.5;\" x1=\"40\" x2=\"73\" y1=\"141.2969\" y2=\"141.2969\"/><text fill=\"#000000\" font-family=\"sans-serif\" font-size=\"14\" font-weight=\"bold\" lengthAdjust=\"spacingAndGlyphs\" textLength=\"20\" x=\"44\" y=\"133.9951\">P3</text></a><!--MD5=[270fce915f116d4de14055a7c1d9a0f3]\n",
       "class E5--><a href=\"psysml:ae15bfee-df16-4fee-9dc7-bf97e2180cfd\" target=\"_top\" title=\"psysml:ae15bfee-df16-4fee-9dc7-bf97e2180cfd\" xlink:actuate=\"onRequest\" xlink:href=\"psysml:ae15bfee-df16-4fee-9dc7-bf97e2180cfd\" xlink:show=\"new\" xlink:title=\"psysml:ae15bfee-df16-4fee-9dc7-bf97e2180cfd\" xlink:type=\"simple\"><rect fill=\"#FFFFFF\" height=\"45.9375\" id=\"E5\" rx=\"10\" ry=\"10\" style=\"stroke: #383838; stroke-width: 1.5;\" width=\"42\" x=\"190\" y=\"44.5\"/><text fill=\"#000000\" font-family=\"sans-serif\" font-size=\"12\" font-style=\"italic\" lengthAdjust=\"spacingAndGlyphs\" textLength=\"40\" x=\"191\" y=\"60.6387\">«part»</text><text fill=\"#000000\" font-family=\"sans-serif\" font-size=\"12\" lengthAdjust=\"spacingAndGlyphs\" textLength=\"22\" x=\"200\" y=\"74.6074\">x: A</text><line style=\"stroke: #383838; stroke-width: 1.5;\" x1=\"191\" x2=\"231\" y1=\"82.4375\" y2=\"82.4375\"/></a><!--MD5=[b9389687b975829384b498ac4b7476b2]\n",
       "class E8--><a href=\"psysml:977e6037-d806-4fb0-bccf-0c48256693c8\" target=\"_top\" title=\"psysml:977e6037-d806-4fb0-bccf-0c48256693c8\" xlink:actuate=\"onRequest\" xlink:href=\"psysml:977e6037-d806-4fb0-bccf-0c48256693c8\" xlink:show=\"new\" xlink:title=\"psysml:977e6037-d806-4fb0-bccf-0c48256693c8\" xlink:type=\"simple\"><rect fill=\"#FFFFFF\" height=\"45.9375\" id=\"E8\" rx=\"10\" ry=\"10\" style=\"stroke: #383838; stroke-width: 1.5;\" width=\"42\" x=\"107\" y=\"44.5\"/><text fill=\"#000000\" font-family=\"sans-serif\" font-size=\"12\" font-style=\"italic\" lengthAdjust=\"spacingAndGlyphs\" textLength=\"40\" x=\"108\" y=\"60.6387\">«part»</text><text fill=\"#000000\" font-family=\"sans-serif\" font-size=\"12\" lengthAdjust=\"spacingAndGlyphs\" textLength=\"21\" x=\"117.5\" y=\"74.6074\">z: B</text><line style=\"stroke: #383838; stroke-width: 1.5;\" x1=\"108\" x2=\"148\" y1=\"82.4375\" y2=\"82.4375\"/></a><!--MD5=[09b614a08d8cba4a07c9adeb5e0fee81]\n",
       "class E3--><a href=\"psysml:3f36db9e-42d3-4087-b2e1-ec91d884c8c4\" target=\"_top\" title=\"psysml:3f36db9e-42d3-4087-b2e1-ec91d884c8c4\" xlink:actuate=\"onRequest\" xlink:href=\"psysml:3f36db9e-42d3-4087-b2e1-ec91d884c8c4\" xlink:show=\"new\" xlink:title=\"psysml:3f36db9e-42d3-4087-b2e1-ec91d884c8c4\" xlink:type=\"simple\"><rect fill=\"#FFFFFF\" height=\"45.9375\" id=\"E3\" style=\"stroke: #383838; stroke-width: 1.5;\" width=\"66\" x=\"178\" y=\"154\"/><text fill=\"#000000\" font-family=\"sans-serif\" font-size=\"12\" font-style=\"italic\" lengthAdjust=\"spacingAndGlyphs\" textLength=\"64\" x=\"179\" y=\"170.1387\">«part def»</text><text fill=\"#000000\" font-family=\"sans-serif\" font-size=\"12\" lengthAdjust=\"spacingAndGlyphs\" textLength=\"8\" x=\"207\" y=\"184.1074\">A</text><line style=\"stroke: #383838; stroke-width: 1.5;\" x1=\"179\" x2=\"243\" y1=\"191.9375\" y2=\"191.9375\"/></a><a href=\"psysml:6aec89c6-9258-4c03-89c0-e79f913ee5de\" target=\"_top\" title=\"psysml:6aec89c6-9258-4c03-89c0-e79f913ee5de\" xlink:actuate=\"onRequest\" xlink:href=\"psysml:6aec89c6-9258-4c03-89c0-e79f913ee5de\" xlink:show=\"new\" xlink:title=\"psysml:6aec89c6-9258-4c03-89c0-e79f913ee5de\" xlink:type=\"simple\"><polygon fill=\"#FFFFFF\" points=\"32,41,58,41,65,63.2969,72,63.2969,72,93.5938,32,93.5938,32,41\" style=\"stroke: #000000; stroke-width: 1.5;\"/><line style=\"stroke: #000000; stroke-width: 1.5;\" x1=\"32\" x2=\"65\" y1=\"63.2969\" y2=\"63.2969\"/><text fill=\"#000000\" font-family=\"sans-serif\" font-size=\"14\" font-weight=\"bold\" lengthAdjust=\"spacingAndGlyphs\" textLength=\"20\" x=\"36\" y=\"55.9951\">P2</text></a><!--MD5=[2156ba9850f5573cc1fc38a6a4b2f02b]\n",
       "class E7--><a href=\"psysml:0f9466c7-ef71-48bc-a930-ec3e2c1a2c86\" target=\"_top\" title=\"psysml:0f9466c7-ef71-48bc-a930-ec3e2c1a2c86\" xlink:actuate=\"onRequest\" xlink:href=\"psysml:0f9466c7-ef71-48bc-a930-ec3e2c1a2c86\" xlink:show=\"new\" xlink:title=\"psysml:0f9466c7-ef71-48bc-a930-ec3e2c1a2c86\" xlink:type=\"simple\"><rect fill=\"#FFFFFF\" height=\"45.9375\" id=\"E7\" style=\"stroke: #383838; stroke-width: 1.5;\" width=\"66\" x=\"56\" y=\"154\"/><text fill=\"#000000\" font-family=\"sans-serif\" font-size=\"12\" font-style=\"italic\" lengthAdjust=\"spacingAndGlyphs\" textLength=\"64\" x=\"57\" y=\"170.1387\">«part def»</text><text fill=\"#000000\" font-family=\"sans-serif\" font-size=\"12\" lengthAdjust=\"spacingAndGlyphs\" textLength=\"8\" x=\"85\" y=\"184.1074\">B</text><line style=\"stroke: #383838; stroke-width: 1.5;\" x1=\"57\" x2=\"121\" y1=\"191.9375\" y2=\"191.9375\"/></a><!--MD5=[e9be52314489bd878ff4c7144b63c9e1]\n",
       "link E5 to E3--><a href=\"psysml:fc52ff88-f6bf-464b-a9f6-50c073522383\" target=\"_top\" title=\"psysml:fc52ff88-f6bf-464b-a9f6-50c073522383\" xlink:actuate=\"onRequest\" xlink:href=\"psysml:fc52ff88-f6bf-464b-a9f6-50c073522383\" xlink:show=\"new\" xlink:title=\"psysml:fc52ff88-f6bf-464b-a9f6-50c073522383\" xlink:type=\"simple\"><path d=\"M211,90.51 C211,102.89 211,118.78 211,133.48 \" fill=\"none\" id=\"E5-&gt;E3\" style=\"stroke: #383838; stroke-width: 1.0;\"/><polygon fill=\"#FFFFFF\" points=\"211,153.65,204,134.65,218,134.65,211,153.65\" style=\"stroke: #383838; stroke-width: 1.0;\"/><ellipse cx=\"206\" cy=\"128.95\" fill=\"#383838\" rx=\"2\" ry=\"2\" style=\"stroke: #383838; stroke-width: 1.0;\"/><ellipse cx=\"216\" cy=\"128.95\" fill=\"#383838\" rx=\"2\" ry=\"2\" style=\"stroke: #383838; stroke-width: 1.0;\"/></a><!--MD5=[bfa3c8b0d15052fdf50ae9310b491027]\n",
       "link E8 to E7--><a href=\"psysml:46d3b5b8-edad-416f-ae7d-d25648abca20\" target=\"_top\" title=\"psysml:46d3b5b8-edad-416f-ae7d-d25648abca20\" xlink:actuate=\"onRequest\" xlink:href=\"psysml:46d3b5b8-edad-416f-ae7d-d25648abca20\" xlink:show=\"new\" xlink:title=\"psysml:46d3b5b8-edad-416f-ae7d-d25648abca20\" xlink:type=\"simple\"><path d=\"M120.01,90.51 C115.39,103.25 109.42,119.7 103.96,134.76 \" fill=\"none\" id=\"E8-&gt;E7\" style=\"stroke: #383838; stroke-width: 1.0;\"/><polygon fill=\"#FFFFFF\" points=\"97.11,153.65,97.0036,133.4018,110.1656,138.1726,97.11,153.65\" style=\"stroke: #383838; stroke-width: 1.0;\"/><ellipse cx=\"100.8262\" cy=\"128.7245\" fill=\"#383838\" rx=\"2\" ry=\"2\" style=\"stroke: #383838; stroke-width: 1.0;\"/><ellipse cx=\"110.2277\" cy=\"132.1322\" fill=\"#383838\" rx=\"2\" ry=\"2\" style=\"stroke: #383838; stroke-width: 1.0;\"/></a><!--MD5=[e87c3e4ff9f634b5624fb5275afeaeab]\n",
       "@startuml\r\n",
       "skinparam linetype polyline\r\n",
       "skinparam monochrome true\r\n",
       "skinparam classbackgroundcolor white\r\n",
       "skinparam shadowing false\r\n",
       "skinparam wrapWidth 300\r\n",
       "hide circle\r\n",
       "\r\n",
       "package \"PrivateImportTest\" as E1  [[psysml:679eaabc-5ff5-4f8e-91e0-c316c2e3864c ]]  {\r\n",
       "package \"P1\" as E2  [[psysml:009bdde2-dc25-4a27-9e47-f33e7b142b72 ]]  {\r\n",
       "comp def \"A\" as E3  <<(T,blue)part def>> [[psysml:3f36db9e-42d3-4087-b2e1-ec91d884c8c4 ]] {\r\n",
       "}\r\n",
       "}\r\n",
       "package \"P2\" as E4  [[psysml:6aec89c6-9258-4c03-89c0-e79f913ee5de ]]  {\r\n",
       "}\r\n",
       "comp usage \"x: A\" as E5  <<(T,blue)part>> [[psysml:ae15bfee-df16-4fee-9dc7-bf97e2180cfd ]] {\r\n",
       "}\r\n",
       "package \"P3\" as E6  [[psysml:b0bbce7f-63ab-4038-bed6-f72cdad2d833 ]]  {\r\n",
       "comp def \"B\" as E7  <<(T,blue)part def>> [[psysml:0f9466c7-ef71-48bc-a930-ec3e2c1a2c86 ]] {\r\n",
       "}\r\n",
       "E5 - -:|> E3 [[psysml:fc52ff88-f6bf-464b-a9f6-50c073522383 ]] \r\n",
       "}\r\n",
       "comp usage \"z: B\" as E8  <<(T,blue)part>> [[psysml:977e6037-d806-4fb0-bccf-0c48256693c8 ]] {\r\n",
       "}\r\n",
       "E8 - -:|> E7 [[psysml:46d3b5b8-edad-416f-ae7d-d25648abca20 ]] \r\n",
       "}\r\n",
       "@enduml\r\n",
       "\n",
       "PlantUML version 1.2020.13(Sat Jun 13 12:26:38 UTC 2020)\n",
       "(EPL source distribution)\n",
       "Java Runtime: OpenJDK Runtime Environment\n",
       "JVM: OpenJDK 64-Bit Server VM\n",
       "Default Encoding: UTF-8\n",
       "Language: en\n",
       "Country: null\n",
       "--></g></svg>"
      ]
     },
     "execution_count": 14,
     "metadata": {},
     "output_type": "execute_result"
    }
   ],
   "source": [
    "%viz --style=\"POLYLINE\" --view=\"Sequence\" \"PrivateImportTest\""
   ]
  },
  {
   "cell_type": "code",
   "execution_count": 15,
   "id": "secure-chocolate",
   "metadata": {
    "execution": {
     "iopub.execute_input": "2021-03-24T16:28:04.239920Z",
     "iopub.status.busy": "2021-03-24T16:28:04.239308Z",
     "iopub.status.idle": "2021-03-24T16:28:04.273688Z",
     "shell.execute_reply": "2021-03-24T16:28:04.274096Z"
    }
   },
   "outputs": [
    {
     "data": {
      "image/svg+xml": [
       "<?xml version=\"1.0\" encoding=\"UTF-8\" standalone=\"no\"?><svg xmlns=\"http://www.w3.org/2000/svg\" xmlns:xlink=\"http://www.w3.org/1999/xlink\" contentScriptType=\"application/ecmascript\" contentStyleType=\"text/css\" height=\"252px\" preserveAspectRatio=\"none\" style=\"width:306px;height:252px;\" version=\"1.1\" viewBox=\"0 0 306 252\" width=\"306px\" zoomAndPan=\"magnify\"><defs/><g><!--MD5=[fbc87193dbaf4d95561dea2c320d4a47]\n",
       "cluster E1--><a href=\"psysml:679eaabc-5ff5-4f8e-91e0-c316c2e3864c\" target=\"_top\" title=\"psysml:679eaabc-5ff5-4f8e-91e0-c316c2e3864c\" xlink:actuate=\"onRequest\" xlink:href=\"psysml:679eaabc-5ff5-4f8e-91e0-c316c2e3864c\" xlink:show=\"new\" xlink:title=\"psysml:679eaabc-5ff5-4f8e-91e0-c316c2e3864c\" xlink:type=\"simple\"><polygon fill=\"#FFFFFF\" points=\"16,6,163,6,170,28.2969,284,28.2969,284,240,16,240,16,6\" style=\"stroke: #000000; stroke-width: 1.5;\"/><line style=\"stroke: #000000; stroke-width: 1.5;\" x1=\"16\" x2=\"170\" y1=\"28.2969\" y2=\"28.2969\"/><text fill=\"#000000\" font-family=\"sans-serif\" font-size=\"14\" font-weight=\"bold\" lengthAdjust=\"spacingAndGlyphs\" textLength=\"141\" x=\"20\" y=\"20.9951\">PrivateImportTest</text></a><!--MD5=[e4f7fae6ed58524ba242bb0b0d3be6b7]\n",
       "cluster E2--><a href=\"psysml:009bdde2-dc25-4a27-9e47-f33e7b142b72\" target=\"_top\" title=\"psysml:009bdde2-dc25-4a27-9e47-f33e7b142b72\" xlink:actuate=\"onRequest\" xlink:href=\"psysml:009bdde2-dc25-4a27-9e47-f33e7b142b72\" xlink:show=\"new\" xlink:title=\"psysml:009bdde2-dc25-4a27-9e47-f33e7b142b72\" xlink:type=\"simple\"><polygon fill=\"#FFFFFF\" points=\"162,119,188,119,195,141.2969,260,141.2969,260,216,162,216,162,119\" style=\"stroke: #000000; stroke-width: 1.5;\"/><line style=\"stroke: #000000; stroke-width: 1.5;\" x1=\"162\" x2=\"195\" y1=\"141.2969\" y2=\"141.2969\"/><text fill=\"#000000\" font-family=\"sans-serif\" font-size=\"14\" font-weight=\"bold\" lengthAdjust=\"spacingAndGlyphs\" textLength=\"20\" x=\"166\" y=\"133.9951\">P1</text></a><!--MD5=[14e3b0961a2654348d326746436168a1]\n",
       "cluster E6--><a href=\"psysml:b0bbce7f-63ab-4038-bed6-f72cdad2d833\" target=\"_top\" title=\"psysml:b0bbce7f-63ab-4038-bed6-f72cdad2d833\" xlink:actuate=\"onRequest\" xlink:href=\"psysml:b0bbce7f-63ab-4038-bed6-f72cdad2d833\" xlink:show=\"new\" xlink:title=\"psysml:b0bbce7f-63ab-4038-bed6-f72cdad2d833\" xlink:type=\"simple\"><polygon fill=\"#FFFFFF\" points=\"40,119,66,119,73,141.2969,138,141.2969,138,216,40,216,40,119\" style=\"stroke: #000000; stroke-width: 1.5;\"/><line style=\"stroke: #000000; stroke-width: 1.5;\" x1=\"40\" x2=\"73\" y1=\"141.2969\" y2=\"141.2969\"/><text fill=\"#000000\" font-family=\"sans-serif\" font-size=\"14\" font-weight=\"bold\" lengthAdjust=\"spacingAndGlyphs\" textLength=\"20\" x=\"44\" y=\"133.9951\">P3</text></a><!--MD5=[270fce915f116d4de14055a7c1d9a0f3]\n",
       "class E5--><a href=\"psysml:ae15bfee-df16-4fee-9dc7-bf97e2180cfd\" target=\"_top\" title=\"psysml:ae15bfee-df16-4fee-9dc7-bf97e2180cfd\" xlink:actuate=\"onRequest\" xlink:href=\"psysml:ae15bfee-df16-4fee-9dc7-bf97e2180cfd\" xlink:show=\"new\" xlink:title=\"psysml:ae15bfee-df16-4fee-9dc7-bf97e2180cfd\" xlink:type=\"simple\"><rect fill=\"#FFFFFF\" height=\"45.9375\" id=\"E5\" rx=\"10\" ry=\"10\" style=\"stroke: #383838; stroke-width: 1.5;\" width=\"42\" x=\"190\" y=\"44.5\"/><text fill=\"#000000\" font-family=\"sans-serif\" font-size=\"12\" font-style=\"italic\" lengthAdjust=\"spacingAndGlyphs\" textLength=\"40\" x=\"191\" y=\"60.6387\">«part»</text><text fill=\"#000000\" font-family=\"sans-serif\" font-size=\"12\" lengthAdjust=\"spacingAndGlyphs\" textLength=\"22\" x=\"200\" y=\"74.6074\">x: A</text><line style=\"stroke: #383838; stroke-width: 1.5;\" x1=\"191\" x2=\"231\" y1=\"82.4375\" y2=\"82.4375\"/></a><!--MD5=[b9389687b975829384b498ac4b7476b2]\n",
       "class E8--><a href=\"psysml:977e6037-d806-4fb0-bccf-0c48256693c8\" target=\"_top\" title=\"psysml:977e6037-d806-4fb0-bccf-0c48256693c8\" xlink:actuate=\"onRequest\" xlink:href=\"psysml:977e6037-d806-4fb0-bccf-0c48256693c8\" xlink:show=\"new\" xlink:title=\"psysml:977e6037-d806-4fb0-bccf-0c48256693c8\" xlink:type=\"simple\"><rect fill=\"#FFFFFF\" height=\"45.9375\" id=\"E8\" rx=\"10\" ry=\"10\" style=\"stroke: #383838; stroke-width: 1.5;\" width=\"42\" x=\"107\" y=\"44.5\"/><text fill=\"#000000\" font-family=\"sans-serif\" font-size=\"12\" font-style=\"italic\" lengthAdjust=\"spacingAndGlyphs\" textLength=\"40\" x=\"108\" y=\"60.6387\">«part»</text><text fill=\"#000000\" font-family=\"sans-serif\" font-size=\"12\" lengthAdjust=\"spacingAndGlyphs\" textLength=\"21\" x=\"117.5\" y=\"74.6074\">z: B</text><line style=\"stroke: #383838; stroke-width: 1.5;\" x1=\"108\" x2=\"148\" y1=\"82.4375\" y2=\"82.4375\"/></a><!--MD5=[09b614a08d8cba4a07c9adeb5e0fee81]\n",
       "class E3--><a href=\"psysml:3f36db9e-42d3-4087-b2e1-ec91d884c8c4\" target=\"_top\" title=\"psysml:3f36db9e-42d3-4087-b2e1-ec91d884c8c4\" xlink:actuate=\"onRequest\" xlink:href=\"psysml:3f36db9e-42d3-4087-b2e1-ec91d884c8c4\" xlink:show=\"new\" xlink:title=\"psysml:3f36db9e-42d3-4087-b2e1-ec91d884c8c4\" xlink:type=\"simple\"><rect fill=\"#FFFFFF\" height=\"45.9375\" id=\"E3\" style=\"stroke: #383838; stroke-width: 1.5;\" width=\"66\" x=\"178\" y=\"154\"/><text fill=\"#000000\" font-family=\"sans-serif\" font-size=\"12\" font-style=\"italic\" lengthAdjust=\"spacingAndGlyphs\" textLength=\"64\" x=\"179\" y=\"170.1387\">«part def»</text><text fill=\"#000000\" font-family=\"sans-serif\" font-size=\"12\" lengthAdjust=\"spacingAndGlyphs\" textLength=\"8\" x=\"207\" y=\"184.1074\">A</text><line style=\"stroke: #383838; stroke-width: 1.5;\" x1=\"179\" x2=\"243\" y1=\"191.9375\" y2=\"191.9375\"/></a><a href=\"psysml:6aec89c6-9258-4c03-89c0-e79f913ee5de\" target=\"_top\" title=\"psysml:6aec89c6-9258-4c03-89c0-e79f913ee5de\" xlink:actuate=\"onRequest\" xlink:href=\"psysml:6aec89c6-9258-4c03-89c0-e79f913ee5de\" xlink:show=\"new\" xlink:title=\"psysml:6aec89c6-9258-4c03-89c0-e79f913ee5de\" xlink:type=\"simple\"><polygon fill=\"#FFFFFF\" points=\"32,41,58,41,65,63.2969,72,63.2969,72,93.5938,32,93.5938,32,41\" style=\"stroke: #000000; stroke-width: 1.5;\"/><line style=\"stroke: #000000; stroke-width: 1.5;\" x1=\"32\" x2=\"65\" y1=\"63.2969\" y2=\"63.2969\"/><text fill=\"#000000\" font-family=\"sans-serif\" font-size=\"14\" font-weight=\"bold\" lengthAdjust=\"spacingAndGlyphs\" textLength=\"20\" x=\"36\" y=\"55.9951\">P2</text></a><!--MD5=[2156ba9850f5573cc1fc38a6a4b2f02b]\n",
       "class E7--><a href=\"psysml:0f9466c7-ef71-48bc-a930-ec3e2c1a2c86\" target=\"_top\" title=\"psysml:0f9466c7-ef71-48bc-a930-ec3e2c1a2c86\" xlink:actuate=\"onRequest\" xlink:href=\"psysml:0f9466c7-ef71-48bc-a930-ec3e2c1a2c86\" xlink:show=\"new\" xlink:title=\"psysml:0f9466c7-ef71-48bc-a930-ec3e2c1a2c86\" xlink:type=\"simple\"><rect fill=\"#FFFFFF\" height=\"45.9375\" id=\"E7\" style=\"stroke: #383838; stroke-width: 1.5;\" width=\"66\" x=\"56\" y=\"154\"/><text fill=\"#000000\" font-family=\"sans-serif\" font-size=\"12\" font-style=\"italic\" lengthAdjust=\"spacingAndGlyphs\" textLength=\"64\" x=\"57\" y=\"170.1387\">«part def»</text><text fill=\"#000000\" font-family=\"sans-serif\" font-size=\"12\" lengthAdjust=\"spacingAndGlyphs\" textLength=\"8\" x=\"85\" y=\"184.1074\">B</text><line style=\"stroke: #383838; stroke-width: 1.5;\" x1=\"57\" x2=\"121\" y1=\"191.9375\" y2=\"191.9375\"/></a><!--MD5=[e9be52314489bd878ff4c7144b63c9e1]\n",
       "link E5 to E3--><a href=\"psysml:fc52ff88-f6bf-464b-a9f6-50c073522383\" target=\"_top\" title=\"psysml:fc52ff88-f6bf-464b-a9f6-50c073522383\" xlink:actuate=\"onRequest\" xlink:href=\"psysml:fc52ff88-f6bf-464b-a9f6-50c073522383\" xlink:show=\"new\" xlink:title=\"psysml:fc52ff88-f6bf-464b-a9f6-50c073522383\" xlink:type=\"simple\"><path d=\"M211,90.51 C211,102.89 211,118.78 211,133.48 \" fill=\"none\" id=\"E5-&gt;E3\" style=\"stroke: #383838; stroke-width: 1.0;\"/><polygon fill=\"#FFFFFF\" points=\"211,153.65,204,134.65,218,134.65,211,153.65\" style=\"stroke: #383838; stroke-width: 1.0;\"/><ellipse cx=\"206\" cy=\"128.95\" fill=\"#383838\" rx=\"2\" ry=\"2\" style=\"stroke: #383838; stroke-width: 1.0;\"/><ellipse cx=\"216\" cy=\"128.95\" fill=\"#383838\" rx=\"2\" ry=\"2\" style=\"stroke: #383838; stroke-width: 1.0;\"/></a><!--MD5=[bfa3c8b0d15052fdf50ae9310b491027]\n",
       "link E8 to E7--><a href=\"psysml:46d3b5b8-edad-416f-ae7d-d25648abca20\" target=\"_top\" title=\"psysml:46d3b5b8-edad-416f-ae7d-d25648abca20\" xlink:actuate=\"onRequest\" xlink:href=\"psysml:46d3b5b8-edad-416f-ae7d-d25648abca20\" xlink:show=\"new\" xlink:title=\"psysml:46d3b5b8-edad-416f-ae7d-d25648abca20\" xlink:type=\"simple\"><path d=\"M120.01,90.51 C115.39,103.25 109.42,119.7 103.96,134.76 \" fill=\"none\" id=\"E8-&gt;E7\" style=\"stroke: #383838; stroke-width: 1.0;\"/><polygon fill=\"#FFFFFF\" points=\"97.11,153.65,97.0036,133.4018,110.1656,138.1726,97.11,153.65\" style=\"stroke: #383838; stroke-width: 1.0;\"/><ellipse cx=\"100.8262\" cy=\"128.7245\" fill=\"#383838\" rx=\"2\" ry=\"2\" style=\"stroke: #383838; stroke-width: 1.0;\"/><ellipse cx=\"110.2277\" cy=\"132.1322\" fill=\"#383838\" rx=\"2\" ry=\"2\" style=\"stroke: #383838; stroke-width: 1.0;\"/></a><!--MD5=[e87c3e4ff9f634b5624fb5275afeaeab]\n",
       "@startuml\r\n",
       "skinparam linetype polyline\r\n",
       "skinparam monochrome true\r\n",
       "skinparam classbackgroundcolor white\r\n",
       "skinparam shadowing false\r\n",
       "skinparam wrapWidth 300\r\n",
       "hide circle\r\n",
       "\r\n",
       "package \"PrivateImportTest\" as E1  [[psysml:679eaabc-5ff5-4f8e-91e0-c316c2e3864c ]]  {\r\n",
       "package \"P1\" as E2  [[psysml:009bdde2-dc25-4a27-9e47-f33e7b142b72 ]]  {\r\n",
       "comp def \"A\" as E3  <<(T,blue)part def>> [[psysml:3f36db9e-42d3-4087-b2e1-ec91d884c8c4 ]] {\r\n",
       "}\r\n",
       "}\r\n",
       "package \"P2\" as E4  [[psysml:6aec89c6-9258-4c03-89c0-e79f913ee5de ]]  {\r\n",
       "}\r\n",
       "comp usage \"x: A\" as E5  <<(T,blue)part>> [[psysml:ae15bfee-df16-4fee-9dc7-bf97e2180cfd ]] {\r\n",
       "}\r\n",
       "package \"P3\" as E6  [[psysml:b0bbce7f-63ab-4038-bed6-f72cdad2d833 ]]  {\r\n",
       "comp def \"B\" as E7  <<(T,blue)part def>> [[psysml:0f9466c7-ef71-48bc-a930-ec3e2c1a2c86 ]] {\r\n",
       "}\r\n",
       "E5 - -:|> E3 [[psysml:fc52ff88-f6bf-464b-a9f6-50c073522383 ]] \r\n",
       "}\r\n",
       "comp usage \"z: B\" as E8  <<(T,blue)part>> [[psysml:977e6037-d806-4fb0-bccf-0c48256693c8 ]] {\r\n",
       "}\r\n",
       "E8 - -:|> E7 [[psysml:46d3b5b8-edad-416f-ae7d-d25648abca20 ]] \r\n",
       "}\r\n",
       "@enduml\r\n",
       "\n",
       "PlantUML version 1.2020.13(Sat Jun 13 12:26:38 UTC 2020)\n",
       "(EPL source distribution)\n",
       "Java Runtime: OpenJDK Runtime Environment\n",
       "JVM: OpenJDK 64-Bit Server VM\n",
       "Default Encoding: UTF-8\n",
       "Language: en\n",
       "Country: null\n",
       "--></g></svg>"
      ]
     },
     "execution_count": 15,
     "metadata": {},
     "output_type": "execute_result"
    }
   ],
   "source": [
    "%viz --style=\"POLYLINE\" --view=\"MIXED\" \"PrivateImportTest\""
   ]
  },
  {
   "cell_type": "code",
   "execution_count": 16,
   "id": "fitting-hometown",
   "metadata": {
    "execution": {
     "iopub.execute_input": "2021-03-24T16:28:04.324743Z",
     "iopub.status.busy": "2021-03-24T16:28:04.324386Z",
     "iopub.status.idle": "2021-03-24T16:28:04.357804Z",
     "shell.execute_reply": "2021-03-24T16:28:04.357483Z"
    }
   },
   "outputs": [
    {
     "data": {
      "image/svg+xml": [
       "<?xml version=\"1.0\" encoding=\"UTF-8\" standalone=\"no\"?><svg xmlns=\"http://www.w3.org/2000/svg\" xmlns:xlink=\"http://www.w3.org/1999/xlink\" contentScriptType=\"application/ecmascript\" contentStyleType=\"text/css\" height=\"303px\" preserveAspectRatio=\"none\" style=\"width:262px;height:303px;\" version=\"1.1\" viewBox=\"0 0 262 303\" width=\"262px\" zoomAndPan=\"magnify\"><defs/><g><!--MD5=[fbc87193dbaf4d95561dea2c320d4a47]\n",
       "cluster E1--><a href=\"psysml:679eaabc-5ff5-4f8e-91e0-c316c2e3864c\" target=\"_top\" title=\"psysml:679eaabc-5ff5-4f8e-91e0-c316c2e3864c\" xlink:actuate=\"onRequest\" xlink:href=\"psysml:679eaabc-5ff5-4f8e-91e0-c316c2e3864c\" xlink:show=\"new\" xlink:title=\"psysml:679eaabc-5ff5-4f8e-91e0-c316c2e3864c\" xlink:type=\"simple\"><polygon fill=\"#FFFFFF\" points=\"16,6,163,6,170,28.2969,240,28.2969,240,291,16,291,16,6\" style=\"stroke: #000000; stroke-width: 1.5;\"/><line style=\"stroke: #000000; stroke-width: 1.5;\" x1=\"16\" x2=\"170\" y1=\"28.2969\" y2=\"28.2969\"/><text fill=\"#000000\" font-family=\"sans-serif\" font-size=\"14\" font-weight=\"bold\" lengthAdjust=\"spacingAndGlyphs\" textLength=\"141\" x=\"20\" y=\"20.9951\">PrivateImportTest</text></a><!--MD5=[e4f7fae6ed58524ba242bb0b0d3be6b7]\n",
       "cluster E2--><a href=\"psysml:009bdde2-dc25-4a27-9e47-f33e7b142b72\" target=\"_top\" title=\"psysml:009bdde2-dc25-4a27-9e47-f33e7b142b72\" xlink:actuate=\"onRequest\" xlink:href=\"psysml:009bdde2-dc25-4a27-9e47-f33e7b142b72\" xlink:show=\"new\" xlink:title=\"psysml:009bdde2-dc25-4a27-9e47-f33e7b142b72\" xlink:type=\"simple\"><polygon fill=\"#FFFFFF\" points=\"118,49,144,49,151,71.2969,216,71.2969,216,146,118,146,118,49\" style=\"stroke: #000000; stroke-width: 1.5;\"/><line style=\"stroke: #000000; stroke-width: 1.5;\" x1=\"118\" x2=\"151\" y1=\"71.2969\" y2=\"71.2969\"/><text fill=\"#000000\" font-family=\"sans-serif\" font-size=\"14\" font-weight=\"bold\" lengthAdjust=\"spacingAndGlyphs\" textLength=\"20\" x=\"122\" y=\"63.9951\">P1</text></a><!--MD5=[14e3b0961a2654348d326746436168a1]\n",
       "cluster E6--><a href=\"psysml:b0bbce7f-63ab-4038-bed6-f72cdad2d833\" target=\"_top\" title=\"psysml:b0bbce7f-63ab-4038-bed6-f72cdad2d833\" xlink:actuate=\"onRequest\" xlink:href=\"psysml:b0bbce7f-63ab-4038-bed6-f72cdad2d833\" xlink:show=\"new\" xlink:title=\"psysml:b0bbce7f-63ab-4038-bed6-f72cdad2d833\" xlink:type=\"simple\"><polygon fill=\"#FFFFFF\" points=\"118,170,144,170,151,192.2969,216,192.2969,216,267,118,267,118,170\" style=\"stroke: #000000; stroke-width: 1.5;\"/><line style=\"stroke: #000000; stroke-width: 1.5;\" x1=\"118\" x2=\"151\" y1=\"192.2969\" y2=\"192.2969\"/><text fill=\"#000000\" font-family=\"sans-serif\" font-size=\"14\" font-weight=\"bold\" lengthAdjust=\"spacingAndGlyphs\" textLength=\"20\" x=\"122\" y=\"184.9951\">P3</text></a><!--MD5=[270fce915f116d4de14055a7c1d9a0f3]\n",
       "class E5--><a href=\"psysml:ae15bfee-df16-4fee-9dc7-bf97e2180cfd\" target=\"_top\" title=\"psysml:ae15bfee-df16-4fee-9dc7-bf97e2180cfd\" xlink:actuate=\"onRequest\" xlink:href=\"psysml:ae15bfee-df16-4fee-9dc7-bf97e2180cfd\" xlink:show=\"new\" xlink:title=\"psysml:ae15bfee-df16-4fee-9dc7-bf97e2180cfd\" xlink:type=\"simple\"><rect fill=\"#FFFFFF\" height=\"45.9375\" id=\"E5\" rx=\"10\" ry=\"10\" style=\"stroke: #383838; stroke-width: 1.5;\" width=\"42\" x=\"32\" y=\"59\"/><text fill=\"#000000\" font-family=\"sans-serif\" font-size=\"12\" font-style=\"italic\" lengthAdjust=\"spacingAndGlyphs\" textLength=\"40\" x=\"33\" y=\"75.1387\">«part»</text><text fill=\"#000000\" font-family=\"sans-serif\" font-size=\"12\" lengthAdjust=\"spacingAndGlyphs\" textLength=\"22\" x=\"42\" y=\"89.1074\">x: A</text><line style=\"stroke: #383838; stroke-width: 1.5;\" x1=\"33\" x2=\"73\" y1=\"96.9375\" y2=\"96.9375\"/></a><!--MD5=[b9389687b975829384b498ac4b7476b2]\n",
       "class E8--><a href=\"psysml:977e6037-d806-4fb0-bccf-0c48256693c8\" target=\"_top\" title=\"psysml:977e6037-d806-4fb0-bccf-0c48256693c8\" xlink:actuate=\"onRequest\" xlink:href=\"psysml:977e6037-d806-4fb0-bccf-0c48256693c8\" xlink:show=\"new\" xlink:title=\"psysml:977e6037-d806-4fb0-bccf-0c48256693c8\" xlink:type=\"simple\"><rect fill=\"#FFFFFF\" height=\"45.9375\" id=\"E8\" rx=\"10\" ry=\"10\" style=\"stroke: #383838; stroke-width: 1.5;\" width=\"42\" x=\"32\" y=\"140\"/><text fill=\"#000000\" font-family=\"sans-serif\" font-size=\"12\" font-style=\"italic\" lengthAdjust=\"spacingAndGlyphs\" textLength=\"40\" x=\"33\" y=\"156.1387\">«part»</text><text fill=\"#000000\" font-family=\"sans-serif\" font-size=\"12\" lengthAdjust=\"spacingAndGlyphs\" textLength=\"21\" x=\"42.5\" y=\"170.1074\">z: B</text><line style=\"stroke: #383838; stroke-width: 1.5;\" x1=\"33\" x2=\"73\" y1=\"177.9375\" y2=\"177.9375\"/></a><!--MD5=[09b614a08d8cba4a07c9adeb5e0fee81]\n",
       "class E3--><a href=\"psysml:3f36db9e-42d3-4087-b2e1-ec91d884c8c4\" target=\"_top\" title=\"psysml:3f36db9e-42d3-4087-b2e1-ec91d884c8c4\" xlink:actuate=\"onRequest\" xlink:href=\"psysml:3f36db9e-42d3-4087-b2e1-ec91d884c8c4\" xlink:show=\"new\" xlink:title=\"psysml:3f36db9e-42d3-4087-b2e1-ec91d884c8c4\" xlink:type=\"simple\"><rect fill=\"#FFFFFF\" height=\"45.9375\" id=\"E3\" style=\"stroke: #383838; stroke-width: 1.5;\" width=\"66\" x=\"134\" y=\"84\"/><text fill=\"#000000\" font-family=\"sans-serif\" font-size=\"12\" font-style=\"italic\" lengthAdjust=\"spacingAndGlyphs\" textLength=\"64\" x=\"135\" y=\"100.1387\">«part def»</text><text fill=\"#000000\" font-family=\"sans-serif\" font-size=\"12\" lengthAdjust=\"spacingAndGlyphs\" textLength=\"8\" x=\"163\" y=\"114.1074\">A</text><line style=\"stroke: #383838; stroke-width: 1.5;\" x1=\"135\" x2=\"199\" y1=\"121.9375\" y2=\"121.9375\"/></a><a href=\"psysml:6aec89c6-9258-4c03-89c0-e79f913ee5de\" target=\"_top\" title=\"psysml:6aec89c6-9258-4c03-89c0-e79f913ee5de\" xlink:actuate=\"onRequest\" xlink:href=\"psysml:6aec89c6-9258-4c03-89c0-e79f913ee5de\" xlink:show=\"new\" xlink:title=\"psysml:6aec89c6-9258-4c03-89c0-e79f913ee5de\" xlink:type=\"simple\"><polygon fill=\"#FFFFFF\" points=\"33,221.5,59,221.5,66,243.7969,73,243.7969,73,274.0938,33,274.0938,33,221.5\" style=\"stroke: #000000; stroke-width: 1.5;\"/><line style=\"stroke: #000000; stroke-width: 1.5;\" x1=\"33\" x2=\"66\" y1=\"243.7969\" y2=\"243.7969\"/><text fill=\"#000000\" font-family=\"sans-serif\" font-size=\"14\" font-weight=\"bold\" lengthAdjust=\"spacingAndGlyphs\" textLength=\"20\" x=\"37\" y=\"236.4951\">P2</text></a><!--MD5=[2156ba9850f5573cc1fc38a6a4b2f02b]\n",
       "class E7--><a href=\"psysml:0f9466c7-ef71-48bc-a930-ec3e2c1a2c86\" target=\"_top\" title=\"psysml:0f9466c7-ef71-48bc-a930-ec3e2c1a2c86\" xlink:actuate=\"onRequest\" xlink:href=\"psysml:0f9466c7-ef71-48bc-a930-ec3e2c1a2c86\" xlink:show=\"new\" xlink:title=\"psysml:0f9466c7-ef71-48bc-a930-ec3e2c1a2c86\" xlink:type=\"simple\"><rect fill=\"#FFFFFF\" height=\"45.9375\" id=\"E7\" style=\"stroke: #383838; stroke-width: 1.5;\" width=\"66\" x=\"134\" y=\"205\"/><text fill=\"#000000\" font-family=\"sans-serif\" font-size=\"12\" font-style=\"italic\" lengthAdjust=\"spacingAndGlyphs\" textLength=\"64\" x=\"135\" y=\"221.1387\">«part def»</text><text fill=\"#000000\" font-family=\"sans-serif\" font-size=\"12\" lengthAdjust=\"spacingAndGlyphs\" textLength=\"8\" x=\"163\" y=\"235.1074\">B</text><line style=\"stroke: #383838; stroke-width: 1.5;\" x1=\"135\" x2=\"199\" y1=\"242.9375\" y2=\"242.9375\"/></a><!--MD5=[e9be52314489bd878ff4c7144b63c9e1]\n",
       "link E5 to E3--><a href=\"psysml:fc52ff88-f6bf-464b-a9f6-50c073522383\" target=\"_top\" title=\"psysml:fc52ff88-f6bf-464b-a9f6-50c073522383\" xlink:actuate=\"onRequest\" xlink:href=\"psysml:fc52ff88-f6bf-464b-a9f6-50c073522383\" xlink:show=\"new\" xlink:title=\"psysml:fc52ff88-f6bf-464b-a9f6-50c073522383\" xlink:type=\"simple\"><path d=\"M74.02,86.47 C85.31,88.99 99.99,92.27 114.29,95.46 \" fill=\"none\" id=\"E5-&gt;E3\" style=\"stroke: #383838; stroke-width: 1.0;\"/><polygon fill=\"#FFFFFF\" points=\"133.86,99.83,113.7912,102.5214,116.842,88.8579,133.86,99.83\" style=\"stroke: #383838; stroke-width: 1.0;\"/><ellipse cx=\"108.664\" cy=\"99.3274\" fill=\"#383838\" rx=\"2\" ry=\"2\" style=\"stroke: #383838; stroke-width: 1.0;\"/><ellipse cx=\"110.8432\" cy=\"89.5677\" fill=\"#383838\" rx=\"2\" ry=\"2\" style=\"stroke: #383838; stroke-width: 1.0;\"/></a><!--MD5=[bfa3c8b0d15052fdf50ae9310b491027]\n",
       "link E8 to E7--><a href=\"psysml:46d3b5b8-edad-416f-ae7d-d25648abca20\" target=\"_top\" title=\"psysml:46d3b5b8-edad-416f-ae7d-d25648abca20\" xlink:actuate=\"onRequest\" xlink:href=\"psysml:46d3b5b8-edad-416f-ae7d-d25648abca20\" xlink:show=\"new\" xlink:title=\"psysml:46d3b5b8-edad-416f-ae7d-d25648abca20\" xlink:type=\"simple\"><path d=\"M74.02,174.62 C85.83,181.47 101.34,190.48 116.26,199.13 \" fill=\"none\" id=\"E8-&gt;E7\" style=\"stroke: #383838; stroke-width: 1.0;\"/><polygon fill=\"#FFFFFF\" points=\"133.86,209.35,113.9116,205.8773,120.9328,193.7652,133.86,209.35\" style=\"stroke: #383838; stroke-width: 1.0;\"/><ellipse cx=\"109.9832\" cy=\"201.2883\" fill=\"#383838\" rx=\"2\" ry=\"2\" style=\"stroke: #383838; stroke-width: 1.0;\"/><ellipse cx=\"114.9984\" cy=\"192.6368\" fill=\"#383838\" rx=\"2\" ry=\"2\" style=\"stroke: #383838; stroke-width: 1.0;\"/></a><!--MD5=[fbb7c6ade18b3884e21cf9a77bb8174b]\n",
       "@startuml\r\n",
       "left to right direction\r\n",
       "skinparam monochrome true\r\n",
       "skinparam classbackgroundcolor white\r\n",
       "skinparam shadowing false\r\n",
       "skinparam wrapWidth 300\r\n",
       "hide circle\r\n",
       "\r\n",
       "package \"PrivateImportTest\" as E1  [[psysml:679eaabc-5ff5-4f8e-91e0-c316c2e3864c ]]  {\r\n",
       "package \"P1\" as E2  [[psysml:009bdde2-dc25-4a27-9e47-f33e7b142b72 ]]  {\r\n",
       "comp def \"A\" as E3  <<(T,blue)part def>> [[psysml:3f36db9e-42d3-4087-b2e1-ec91d884c8c4 ]] {\r\n",
       "}\r\n",
       "}\r\n",
       "package \"P2\" as E4  [[psysml:6aec89c6-9258-4c03-89c0-e79f913ee5de ]]  {\r\n",
       "}\r\n",
       "comp usage \"x: A\" as E5  <<(T,blue)part>> [[psysml:ae15bfee-df16-4fee-9dc7-bf97e2180cfd ]] {\r\n",
       "}\r\n",
       "package \"P3\" as E6  [[psysml:b0bbce7f-63ab-4038-bed6-f72cdad2d833 ]]  {\r\n",
       "comp def \"B\" as E7  <<(T,blue)part def>> [[psysml:0f9466c7-ef71-48bc-a930-ec3e2c1a2c86 ]] {\r\n",
       "}\r\n",
       "E5 - -:|> E3 [[psysml:fc52ff88-f6bf-464b-a9f6-50c073522383 ]] \r\n",
       "}\r\n",
       "comp usage \"z: B\" as E8  <<(T,blue)part>> [[psysml:977e6037-d806-4fb0-bccf-0c48256693c8 ]] {\r\n",
       "}\r\n",
       "E8 - -:|> E7 [[psysml:46d3b5b8-edad-416f-ae7d-d25648abca20 ]] \r\n",
       "}\r\n",
       "@enduml\r\n",
       "\n",
       "PlantUML version 1.2020.13(Sat Jun 13 12:26:38 UTC 2020)\n",
       "(EPL source distribution)\n",
       "Java Runtime: OpenJDK Runtime Environment\n",
       "JVM: OpenJDK 64-Bit Server VM\n",
       "Default Encoding: UTF-8\n",
       "Language: en\n",
       "Country: null\n",
       "--></g></svg>"
      ]
     },
     "execution_count": 16,
     "metadata": {},
     "output_type": "execute_result"
    }
   ],
   "source": [
    "%viz --style=\"LR\" --view=\"Default\" \"PrivateImportTest\""
   ]
  },
  {
   "cell_type": "code",
   "execution_count": 17,
   "id": "familiar-piece",
   "metadata": {
    "execution": {
     "iopub.execute_input": "2021-03-24T16:28:04.410636Z",
     "iopub.status.busy": "2021-03-24T16:28:04.410119Z",
     "iopub.status.idle": "2021-03-24T16:28:04.446543Z",
     "shell.execute_reply": "2021-03-24T16:28:04.445328Z"
    }
   },
   "outputs": [
    {
     "data": {
      "image/svg+xml": [
       "<?xml version=\"1.0\" encoding=\"UTF-8\" standalone=\"no\"?><svg xmlns=\"http://www.w3.org/2000/svg\" xmlns:xlink=\"http://www.w3.org/1999/xlink\" contentScriptType=\"application/ecmascript\" contentStyleType=\"text/css\" height=\"303px\" preserveAspectRatio=\"none\" style=\"width:262px;height:303px;\" version=\"1.1\" viewBox=\"0 0 262 303\" width=\"262px\" zoomAndPan=\"magnify\"><defs/><g><!--MD5=[fbc87193dbaf4d95561dea2c320d4a47]\n",
       "cluster E1--><a href=\"psysml:679eaabc-5ff5-4f8e-91e0-c316c2e3864c\" target=\"_top\" title=\"psysml:679eaabc-5ff5-4f8e-91e0-c316c2e3864c\" xlink:actuate=\"onRequest\" xlink:href=\"psysml:679eaabc-5ff5-4f8e-91e0-c316c2e3864c\" xlink:show=\"new\" xlink:title=\"psysml:679eaabc-5ff5-4f8e-91e0-c316c2e3864c\" xlink:type=\"simple\"><polygon fill=\"#FFFFFF\" points=\"16,6,163,6,170,28.2969,240,28.2969,240,291,16,291,16,6\" style=\"stroke: #000000; stroke-width: 1.5;\"/><line style=\"stroke: #000000; stroke-width: 1.5;\" x1=\"16\" x2=\"170\" y1=\"28.2969\" y2=\"28.2969\"/><text fill=\"#000000\" font-family=\"sans-serif\" font-size=\"14\" font-weight=\"bold\" lengthAdjust=\"spacingAndGlyphs\" textLength=\"141\" x=\"20\" y=\"20.9951\">PrivateImportTest</text></a><!--MD5=[e4f7fae6ed58524ba242bb0b0d3be6b7]\n",
       "cluster E2--><a href=\"psysml:009bdde2-dc25-4a27-9e47-f33e7b142b72\" target=\"_top\" title=\"psysml:009bdde2-dc25-4a27-9e47-f33e7b142b72\" xlink:actuate=\"onRequest\" xlink:href=\"psysml:009bdde2-dc25-4a27-9e47-f33e7b142b72\" xlink:show=\"new\" xlink:title=\"psysml:009bdde2-dc25-4a27-9e47-f33e7b142b72\" xlink:type=\"simple\"><polygon fill=\"#FFFFFF\" points=\"118,49,144,49,151,71.2969,216,71.2969,216,146,118,146,118,49\" style=\"stroke: #000000; stroke-width: 1.5;\"/><line style=\"stroke: #000000; stroke-width: 1.5;\" x1=\"118\" x2=\"151\" y1=\"71.2969\" y2=\"71.2969\"/><text fill=\"#000000\" font-family=\"sans-serif\" font-size=\"14\" font-weight=\"bold\" lengthAdjust=\"spacingAndGlyphs\" textLength=\"20\" x=\"122\" y=\"63.9951\">P1</text></a><!--MD5=[14e3b0961a2654348d326746436168a1]\n",
       "cluster E6--><a href=\"psysml:b0bbce7f-63ab-4038-bed6-f72cdad2d833\" target=\"_top\" title=\"psysml:b0bbce7f-63ab-4038-bed6-f72cdad2d833\" xlink:actuate=\"onRequest\" xlink:href=\"psysml:b0bbce7f-63ab-4038-bed6-f72cdad2d833\" xlink:show=\"new\" xlink:title=\"psysml:b0bbce7f-63ab-4038-bed6-f72cdad2d833\" xlink:type=\"simple\"><polygon fill=\"#FFFFFF\" points=\"118,170,144,170,151,192.2969,216,192.2969,216,267,118,267,118,170\" style=\"stroke: #000000; stroke-width: 1.5;\"/><line style=\"stroke: #000000; stroke-width: 1.5;\" x1=\"118\" x2=\"151\" y1=\"192.2969\" y2=\"192.2969\"/><text fill=\"#000000\" font-family=\"sans-serif\" font-size=\"14\" font-weight=\"bold\" lengthAdjust=\"spacingAndGlyphs\" textLength=\"20\" x=\"122\" y=\"184.9951\">P3</text></a><!--MD5=[270fce915f116d4de14055a7c1d9a0f3]\n",
       "class E5--><a href=\"psysml:ae15bfee-df16-4fee-9dc7-bf97e2180cfd\" target=\"_top\" title=\"psysml:ae15bfee-df16-4fee-9dc7-bf97e2180cfd\" xlink:actuate=\"onRequest\" xlink:href=\"psysml:ae15bfee-df16-4fee-9dc7-bf97e2180cfd\" xlink:show=\"new\" xlink:title=\"psysml:ae15bfee-df16-4fee-9dc7-bf97e2180cfd\" xlink:type=\"simple\"><rect fill=\"#FFFFFF\" height=\"45.9375\" id=\"E5\" rx=\"10\" ry=\"10\" style=\"stroke: #383838; stroke-width: 1.5;\" width=\"42\" x=\"32\" y=\"59\"/><text fill=\"#000000\" font-family=\"sans-serif\" font-size=\"12\" font-style=\"italic\" lengthAdjust=\"spacingAndGlyphs\" textLength=\"40\" x=\"33\" y=\"75.1387\">«part»</text><text fill=\"#000000\" font-family=\"sans-serif\" font-size=\"12\" lengthAdjust=\"spacingAndGlyphs\" textLength=\"22\" x=\"42\" y=\"89.1074\">x: A</text><line style=\"stroke: #383838; stroke-width: 1.5;\" x1=\"33\" x2=\"73\" y1=\"96.9375\" y2=\"96.9375\"/></a><!--MD5=[b9389687b975829384b498ac4b7476b2]\n",
       "class E8--><a href=\"psysml:977e6037-d806-4fb0-bccf-0c48256693c8\" target=\"_top\" title=\"psysml:977e6037-d806-4fb0-bccf-0c48256693c8\" xlink:actuate=\"onRequest\" xlink:href=\"psysml:977e6037-d806-4fb0-bccf-0c48256693c8\" xlink:show=\"new\" xlink:title=\"psysml:977e6037-d806-4fb0-bccf-0c48256693c8\" xlink:type=\"simple\"><rect fill=\"#FFFFFF\" height=\"45.9375\" id=\"E8\" rx=\"10\" ry=\"10\" style=\"stroke: #383838; stroke-width: 1.5;\" width=\"42\" x=\"32\" y=\"140\"/><text fill=\"#000000\" font-family=\"sans-serif\" font-size=\"12\" font-style=\"italic\" lengthAdjust=\"spacingAndGlyphs\" textLength=\"40\" x=\"33\" y=\"156.1387\">«part»</text><text fill=\"#000000\" font-family=\"sans-serif\" font-size=\"12\" lengthAdjust=\"spacingAndGlyphs\" textLength=\"21\" x=\"42.5\" y=\"170.1074\">z: B</text><line style=\"stroke: #383838; stroke-width: 1.5;\" x1=\"33\" x2=\"73\" y1=\"177.9375\" y2=\"177.9375\"/></a><!--MD5=[09b614a08d8cba4a07c9adeb5e0fee81]\n",
       "class E3--><a href=\"psysml:3f36db9e-42d3-4087-b2e1-ec91d884c8c4\" target=\"_top\" title=\"psysml:3f36db9e-42d3-4087-b2e1-ec91d884c8c4\" xlink:actuate=\"onRequest\" xlink:href=\"psysml:3f36db9e-42d3-4087-b2e1-ec91d884c8c4\" xlink:show=\"new\" xlink:title=\"psysml:3f36db9e-42d3-4087-b2e1-ec91d884c8c4\" xlink:type=\"simple\"><rect fill=\"#FFFFFF\" height=\"45.9375\" id=\"E3\" style=\"stroke: #383838; stroke-width: 1.5;\" width=\"66\" x=\"134\" y=\"84\"/><text fill=\"#000000\" font-family=\"sans-serif\" font-size=\"12\" font-style=\"italic\" lengthAdjust=\"spacingAndGlyphs\" textLength=\"64\" x=\"135\" y=\"100.1387\">«part def»</text><text fill=\"#000000\" font-family=\"sans-serif\" font-size=\"12\" lengthAdjust=\"spacingAndGlyphs\" textLength=\"8\" x=\"163\" y=\"114.1074\">A</text><line style=\"stroke: #383838; stroke-width: 1.5;\" x1=\"135\" x2=\"199\" y1=\"121.9375\" y2=\"121.9375\"/></a><a href=\"psysml:6aec89c6-9258-4c03-89c0-e79f913ee5de\" target=\"_top\" title=\"psysml:6aec89c6-9258-4c03-89c0-e79f913ee5de\" xlink:actuate=\"onRequest\" xlink:href=\"psysml:6aec89c6-9258-4c03-89c0-e79f913ee5de\" xlink:show=\"new\" xlink:title=\"psysml:6aec89c6-9258-4c03-89c0-e79f913ee5de\" xlink:type=\"simple\"><polygon fill=\"#FFFFFF\" points=\"33,221.5,59,221.5,66,243.7969,73,243.7969,73,274.0938,33,274.0938,33,221.5\" style=\"stroke: #000000; stroke-width: 1.5;\"/><line style=\"stroke: #000000; stroke-width: 1.5;\" x1=\"33\" x2=\"66\" y1=\"243.7969\" y2=\"243.7969\"/><text fill=\"#000000\" font-family=\"sans-serif\" font-size=\"14\" font-weight=\"bold\" lengthAdjust=\"spacingAndGlyphs\" textLength=\"20\" x=\"37\" y=\"236.4951\">P2</text></a><!--MD5=[2156ba9850f5573cc1fc38a6a4b2f02b]\n",
       "class E7--><a href=\"psysml:0f9466c7-ef71-48bc-a930-ec3e2c1a2c86\" target=\"_top\" title=\"psysml:0f9466c7-ef71-48bc-a930-ec3e2c1a2c86\" xlink:actuate=\"onRequest\" xlink:href=\"psysml:0f9466c7-ef71-48bc-a930-ec3e2c1a2c86\" xlink:show=\"new\" xlink:title=\"psysml:0f9466c7-ef71-48bc-a930-ec3e2c1a2c86\" xlink:type=\"simple\"><rect fill=\"#FFFFFF\" height=\"45.9375\" id=\"E7\" style=\"stroke: #383838; stroke-width: 1.5;\" width=\"66\" x=\"134\" y=\"205\"/><text fill=\"#000000\" font-family=\"sans-serif\" font-size=\"12\" font-style=\"italic\" lengthAdjust=\"spacingAndGlyphs\" textLength=\"64\" x=\"135\" y=\"221.1387\">«part def»</text><text fill=\"#000000\" font-family=\"sans-serif\" font-size=\"12\" lengthAdjust=\"spacingAndGlyphs\" textLength=\"8\" x=\"163\" y=\"235.1074\">B</text><line style=\"stroke: #383838; stroke-width: 1.5;\" x1=\"135\" x2=\"199\" y1=\"242.9375\" y2=\"242.9375\"/></a><!--MD5=[e9be52314489bd878ff4c7144b63c9e1]\n",
       "link E5 to E3--><a href=\"psysml:fc52ff88-f6bf-464b-a9f6-50c073522383\" target=\"_top\" title=\"psysml:fc52ff88-f6bf-464b-a9f6-50c073522383\" xlink:actuate=\"onRequest\" xlink:href=\"psysml:fc52ff88-f6bf-464b-a9f6-50c073522383\" xlink:show=\"new\" xlink:title=\"psysml:fc52ff88-f6bf-464b-a9f6-50c073522383\" xlink:type=\"simple\"><path d=\"M74.02,86.47 C85.31,88.99 99.99,92.27 114.29,95.46 \" fill=\"none\" id=\"E5-&gt;E3\" style=\"stroke: #383838; stroke-width: 1.0;\"/><polygon fill=\"#FFFFFF\" points=\"133.86,99.83,113.7912,102.5214,116.842,88.8579,133.86,99.83\" style=\"stroke: #383838; stroke-width: 1.0;\"/><ellipse cx=\"108.664\" cy=\"99.3274\" fill=\"#383838\" rx=\"2\" ry=\"2\" style=\"stroke: #383838; stroke-width: 1.0;\"/><ellipse cx=\"110.8432\" cy=\"89.5677\" fill=\"#383838\" rx=\"2\" ry=\"2\" style=\"stroke: #383838; stroke-width: 1.0;\"/></a><!--MD5=[bfa3c8b0d15052fdf50ae9310b491027]\n",
       "link E8 to E7--><a href=\"psysml:46d3b5b8-edad-416f-ae7d-d25648abca20\" target=\"_top\" title=\"psysml:46d3b5b8-edad-416f-ae7d-d25648abca20\" xlink:actuate=\"onRequest\" xlink:href=\"psysml:46d3b5b8-edad-416f-ae7d-d25648abca20\" xlink:show=\"new\" xlink:title=\"psysml:46d3b5b8-edad-416f-ae7d-d25648abca20\" xlink:type=\"simple\"><path d=\"M74.02,174.62 C85.83,181.47 101.34,190.48 116.26,199.13 \" fill=\"none\" id=\"E8-&gt;E7\" style=\"stroke: #383838; stroke-width: 1.0;\"/><polygon fill=\"#FFFFFF\" points=\"133.86,209.35,113.9116,205.8773,120.9328,193.7652,133.86,209.35\" style=\"stroke: #383838; stroke-width: 1.0;\"/><ellipse cx=\"109.9832\" cy=\"201.2883\" fill=\"#383838\" rx=\"2\" ry=\"2\" style=\"stroke: #383838; stroke-width: 1.0;\"/><ellipse cx=\"114.9984\" cy=\"192.6368\" fill=\"#383838\" rx=\"2\" ry=\"2\" style=\"stroke: #383838; stroke-width: 1.0;\"/></a><!--MD5=[fbb7c6ade18b3884e21cf9a77bb8174b]\n",
       "@startuml\r\n",
       "left to right direction\r\n",
       "skinparam monochrome true\r\n",
       "skinparam classbackgroundcolor white\r\n",
       "skinparam shadowing false\r\n",
       "skinparam wrapWidth 300\r\n",
       "hide circle\r\n",
       "\r\n",
       "package \"PrivateImportTest\" as E1  [[psysml:679eaabc-5ff5-4f8e-91e0-c316c2e3864c ]]  {\r\n",
       "package \"P1\" as E2  [[psysml:009bdde2-dc25-4a27-9e47-f33e7b142b72 ]]  {\r\n",
       "comp def \"A\" as E3  <<(T,blue)part def>> [[psysml:3f36db9e-42d3-4087-b2e1-ec91d884c8c4 ]] {\r\n",
       "}\r\n",
       "}\r\n",
       "package \"P2\" as E4  [[psysml:6aec89c6-9258-4c03-89c0-e79f913ee5de ]]  {\r\n",
       "}\r\n",
       "comp usage \"x: A\" as E5  <<(T,blue)part>> [[psysml:ae15bfee-df16-4fee-9dc7-bf97e2180cfd ]] {\r\n",
       "}\r\n",
       "package \"P3\" as E6  [[psysml:b0bbce7f-63ab-4038-bed6-f72cdad2d833 ]]  {\r\n",
       "comp def \"B\" as E7  <<(T,blue)part def>> [[psysml:0f9466c7-ef71-48bc-a930-ec3e2c1a2c86 ]] {\r\n",
       "}\r\n",
       "E5 - -:|> E3 [[psysml:fc52ff88-f6bf-464b-a9f6-50c073522383 ]] \r\n",
       "}\r\n",
       "comp usage \"z: B\" as E8  <<(T,blue)part>> [[psysml:977e6037-d806-4fb0-bccf-0c48256693c8 ]] {\r\n",
       "}\r\n",
       "E8 - -:|> E7 [[psysml:46d3b5b8-edad-416f-ae7d-d25648abca20 ]] \r\n",
       "}\r\n",
       "@enduml\r\n",
       "\n",
       "PlantUML version 1.2020.13(Sat Jun 13 12:26:38 UTC 2020)\n",
       "(EPL source distribution)\n",
       "Java Runtime: OpenJDK Runtime Environment\n",
       "JVM: OpenJDK 64-Bit Server VM\n",
       "Default Encoding: UTF-8\n",
       "Language: en\n",
       "Country: null\n",
       "--></g></svg>"
      ]
     },
     "execution_count": 17,
     "metadata": {},
     "output_type": "execute_result"
    }
   ],
   "source": [
    "%viz --style=\"LR\" --view=\"Tree\" \"PrivateImportTest\""
   ]
  },
  {
   "cell_type": "code",
   "execution_count": 18,
   "id": "likely-pointer",
   "metadata": {
    "execution": {
     "iopub.execute_input": "2021-03-24T16:28:04.499349Z",
     "iopub.status.busy": "2021-03-24T16:28:04.498486Z",
     "iopub.status.idle": "2021-03-24T16:28:04.505008Z",
     "shell.execute_reply": "2021-03-24T16:28:04.505349Z"
    }
   },
   "outputs": [
    {
     "data": {
      "image/svg+xml": [
       "<?xml version=\"1.0\" encoding=\"UTF-8\" standalone=\"no\"?><svg xmlns=\"http://www.w3.org/2000/svg\" xmlns:xlink=\"http://www.w3.org/1999/xlink\" contentScriptType=\"application/ecmascript\" contentStyleType=\"text/css\" height=\"12px\" preserveAspectRatio=\"none\" style=\"width:12px;height:12px;\" version=\"1.1\" viewBox=\"0 0 12 12\" width=\"12px\" zoomAndPan=\"magnify\"><defs/><g><!--MD5=[19d285c9d72a204eba4e2cd117d745e8]\n",
       "@startuml\r\n",
       "left to right direction\r\n",
       "skinparam monochrome true\r\n",
       "skinparam classbackgroundcolor white\r\n",
       "skinparam shadowing false\r\n",
       "skinparam wrapWidth 300\r\n",
       "hide circle\r\n",
       "\r\n",
       "@enduml\r\n",
       "\n",
       "PlantUML version 1.2020.13(Sat Jun 13 12:26:38 UTC 2020)\n",
       "(EPL source distribution)\n",
       "Java Runtime: OpenJDK Runtime Environment\n",
       "JVM: OpenJDK 64-Bit Server VM\n",
       "Default Encoding: UTF-8\n",
       "Language: en\n",
       "Country: null\n",
       "--></g></svg>"
      ]
     },
     "execution_count": 18,
     "metadata": {},
     "output_type": "execute_result"
    }
   ],
   "source": [
    "%viz --style=\"LR\" --view=\"State\" \"PrivateImportTest\""
   ]
  },
  {
   "cell_type": "code",
   "execution_count": 19,
   "id": "stupid-grill",
   "metadata": {
    "execution": {
     "iopub.execute_input": "2021-03-24T16:28:04.556378Z",
     "iopub.status.busy": "2021-03-24T16:28:04.555806Z",
     "iopub.status.idle": "2021-03-24T16:28:04.584751Z",
     "shell.execute_reply": "2021-03-24T16:28:04.583499Z"
    }
   },
   "outputs": [
    {
     "data": {
      "image/svg+xml": [
       "<?xml version=\"1.0\" encoding=\"UTF-8\" standalone=\"no\"?><svg xmlns=\"http://www.w3.org/2000/svg\" xmlns:xlink=\"http://www.w3.org/1999/xlink\" contentScriptType=\"application/ecmascript\" contentStyleType=\"text/css\" height=\"513px\" preserveAspectRatio=\"none\" style=\"width:195px;height:513px;\" version=\"1.1\" viewBox=\"0 0 195 513\" width=\"195px\" zoomAndPan=\"magnify\"><defs/><g><!--MD5=[fbc87193dbaf4d95561dea2c320d4a47]\n",
       "cluster E1--><a href=\"psysml:679eaabc-5ff5-4f8e-91e0-c316c2e3864c\" target=\"_top\" title=\"psysml:679eaabc-5ff5-4f8e-91e0-c316c2e3864c\" xlink:actuate=\"onRequest\" xlink:href=\"psysml:679eaabc-5ff5-4f8e-91e0-c316c2e3864c\" xlink:show=\"new\" xlink:title=\"psysml:679eaabc-5ff5-4f8e-91e0-c316c2e3864c\" xlink:type=\"simple\"><polygon fill=\"#FFFFFF\" points=\"16,6,163,6,170,28.2969,173,28.2969,173,501,16,501,16,6\" style=\"stroke: #000000; stroke-width: 1.5;\"/><line style=\"stroke: #000000; stroke-width: 1.5;\" x1=\"16\" x2=\"170\" y1=\"28.2969\" y2=\"28.2969\"/><text fill=\"#000000\" font-family=\"sans-serif\" font-size=\"14\" font-weight=\"bold\" lengthAdjust=\"spacingAndGlyphs\" textLength=\"141\" x=\"20\" y=\"20.9951\">PrivateImportTest</text></a><!--MD5=[e4f7fae6ed58524ba242bb0b0d3be6b7]\n",
       "cluster E2--><a href=\"psysml:009bdde2-dc25-4a27-9e47-f33e7b142b72\" target=\"_top\" title=\"psysml:009bdde2-dc25-4a27-9e47-f33e7b142b72\" xlink:actuate=\"onRequest\" xlink:href=\"psysml:009bdde2-dc25-4a27-9e47-f33e7b142b72\" xlink:show=\"new\" xlink:title=\"psysml:009bdde2-dc25-4a27-9e47-f33e7b142b72\" xlink:type=\"simple\"><polygon fill=\"#FFFFFF\" points=\"43,49,69,49,76,71.2969,146,71.2969,146,144,43,144,43,49\" style=\"stroke: #000000; stroke-width: 1.5;\"/><line style=\"stroke: #000000; stroke-width: 1.5;\" x1=\"43\" x2=\"76\" y1=\"71.2969\" y2=\"71.2969\"/><text fill=\"#000000\" font-family=\"sans-serif\" font-size=\"14\" font-weight=\"bold\" lengthAdjust=\"spacingAndGlyphs\" textLength=\"20\" x=\"47\" y=\"63.9951\">P1</text></a><!--MD5=[14e3b0961a2654348d326746436168a1]\n",
       "cluster E6--><a href=\"psysml:b0bbce7f-63ab-4038-bed6-f72cdad2d833\" target=\"_top\" title=\"psysml:b0bbce7f-63ab-4038-bed6-f72cdad2d833\" xlink:actuate=\"onRequest\" xlink:href=\"psysml:b0bbce7f-63ab-4038-bed6-f72cdad2d833\" xlink:show=\"new\" xlink:title=\"psysml:b0bbce7f-63ab-4038-bed6-f72cdad2d833\" xlink:type=\"simple\"><polygon fill=\"#FFFFFF\" points=\"43,168,69,168,76,190.2969,146,190.2969,146,263,43,263,43,168\" style=\"stroke: #000000; stroke-width: 1.5;\"/><line style=\"stroke: #000000; stroke-width: 1.5;\" x1=\"43\" x2=\"76\" y1=\"190.2969\" y2=\"190.2969\"/><text fill=\"#000000\" font-family=\"sans-serif\" font-size=\"14\" font-weight=\"bold\" lengthAdjust=\"spacingAndGlyphs\" textLength=\"20\" x=\"47\" y=\"182.9951\">P3</text></a><g id=\"E1.E2.E3\"><a href=\"psysml:3f36db9e-42d3-4087-b2e1-ec91d884c8c4\" target=\"_top\" title=\"psysml:3f36db9e-42d3-4087-b2e1-ec91d884c8c4\" xlink:actuate=\"onRequest\" xlink:href=\"psysml:3f36db9e-42d3-4087-b2e1-ec91d884c8c4\" xlink:show=\"new\" xlink:title=\"psysml:3f36db9e-42d3-4087-b2e1-ec91d884c8c4\" xlink:type=\"simple\"><rect fill=\"#FFFFFF\" height=\"42.9375\" id=\"E3\" style=\"stroke: #383838; stroke-width: 1.5;\" width=\"71\" x=\"59\" y=\"84.5\"/><rect fill=\"#F8F8F8\" height=\"37.9375\" style=\"stroke: #383838; stroke-width: 1.5;\" width=\"71\" x=\"59\" y=\"84.5\"/><text fill=\"#000000\" font-family=\"sans-serif\" font-size=\"12\" font-style=\"italic\" lengthAdjust=\"spacingAndGlyphs\" textLength=\"64\" x=\"62.5\" y=\"100.6387\">«part def»</text><text fill=\"#000000\" font-family=\"sans-serif\" font-size=\"12\" lengthAdjust=\"spacingAndGlyphs\" textLength=\"8\" x=\"90.5\" y=\"114.6074\">A</text></a></g><a href=\"psysml:6aec89c6-9258-4c03-89c0-e79f913ee5de\" target=\"_top\" title=\"psysml:6aec89c6-9258-4c03-89c0-e79f913ee5de\" xlink:actuate=\"onRequest\" xlink:href=\"psysml:6aec89c6-9258-4c03-89c0-e79f913ee5de\" xlink:show=\"new\" xlink:title=\"psysml:6aec89c6-9258-4c03-89c0-e79f913ee5de\" xlink:type=\"simple\"><polygon fill=\"#FFFFFF\" points=\"74.5,281.5,100.5,281.5,107.5,303.7969,114.5,303.7969,114.5,334.0938,74.5,334.0938,74.5,281.5\" style=\"stroke: #000000; stroke-width: 1.5;\"/><line style=\"stroke: #000000; stroke-width: 1.5;\" x1=\"74.5\" x2=\"107.5\" y1=\"303.7969\" y2=\"303.7969\"/><text fill=\"#000000\" font-family=\"sans-serif\" font-size=\"14\" font-weight=\"bold\" lengthAdjust=\"spacingAndGlyphs\" textLength=\"20\" x=\"78.5\" y=\"296.4951\">P2</text></a><g id=\"E1.E5\"><a href=\"psysml:ae15bfee-df16-4fee-9dc7-bf97e2180cfd\" target=\"_top\" title=\"psysml:ae15bfee-df16-4fee-9dc7-bf97e2180cfd\" xlink:actuate=\"onRequest\" xlink:href=\"psysml:ae15bfee-df16-4fee-9dc7-bf97e2180cfd\" xlink:show=\"new\" xlink:title=\"psysml:ae15bfee-df16-4fee-9dc7-bf97e2180cfd\" xlink:type=\"simple\"><rect fill=\"#FFFFFF\" height=\"40\" id=\"E5\" rx=\"10\" ry=\"10\" style=\"stroke: #383838; stroke-width: 1.5;\" width=\"50\" x=\"69.5\" y=\"370\"/><rect fill=\"#F8F8F8\" height=\"23.9688\" rx=\"10\" ry=\"10\" style=\"stroke: #F8F8F8; stroke-width: 1.5;\" width=\"50\" x=\"69.5\" y=\"370\"/><rect fill=\"#F8F8F8\" height=\"10\" style=\"stroke: #F8F8F8; stroke-width: 1.5;\" width=\"50\" x=\"69.5\" y=\"383.9688\"/><rect fill=\"none\" height=\"40\" id=\"E5\" rx=\"10\" ry=\"10\" style=\"stroke: #383838; stroke-width: 1.5;\" width=\"50\" x=\"69.5\" y=\"370\"/><text fill=\"#000000\" font-family=\"sans-serif\" font-size=\"12\" lengthAdjust=\"spacingAndGlyphs\" textLength=\"22\" x=\"83.5\" y=\"386.1387\">x: A</text></a></g><g id=\"E1.E6.E7\"><a href=\"psysml:0f9466c7-ef71-48bc-a930-ec3e2c1a2c86\" target=\"_top\" title=\"psysml:0f9466c7-ef71-48bc-a930-ec3e2c1a2c86\" xlink:actuate=\"onRequest\" xlink:href=\"psysml:0f9466c7-ef71-48bc-a930-ec3e2c1a2c86\" xlink:show=\"new\" xlink:title=\"psysml:0f9466c7-ef71-48bc-a930-ec3e2c1a2c86\" xlink:type=\"simple\"><rect fill=\"#FFFFFF\" height=\"42.9375\" id=\"E7\" style=\"stroke: #383838; stroke-width: 1.5;\" width=\"71\" x=\"59\" y=\"203.5\"/><rect fill=\"#F8F8F8\" height=\"37.9375\" style=\"stroke: #383838; stroke-width: 1.5;\" width=\"71\" x=\"59\" y=\"203.5\"/><text fill=\"#000000\" font-family=\"sans-serif\" font-size=\"12\" font-style=\"italic\" lengthAdjust=\"spacingAndGlyphs\" textLength=\"64\" x=\"62.5\" y=\"219.6387\">«part def»</text><text fill=\"#000000\" font-family=\"sans-serif\" font-size=\"12\" lengthAdjust=\"spacingAndGlyphs\" textLength=\"8\" x=\"90.5\" y=\"233.6074\">B</text></a></g><g id=\"E1.E8\"><a href=\"psysml:977e6037-d806-4fb0-bccf-0c48256693c8\" target=\"_top\" title=\"psysml:977e6037-d806-4fb0-bccf-0c48256693c8\" xlink:actuate=\"onRequest\" xlink:href=\"psysml:977e6037-d806-4fb0-bccf-0c48256693c8\" xlink:show=\"new\" xlink:title=\"psysml:977e6037-d806-4fb0-bccf-0c48256693c8\" xlink:type=\"simple\"><rect fill=\"#FFFFFF\" height=\"40\" id=\"E8\" rx=\"10\" ry=\"10\" style=\"stroke: #383838; stroke-width: 1.5;\" width=\"50\" x=\"69.5\" y=\"445\"/><rect fill=\"#F8F8F8\" height=\"23.9688\" rx=\"10\" ry=\"10\" style=\"stroke: #F8F8F8; stroke-width: 1.5;\" width=\"50\" x=\"69.5\" y=\"445\"/><rect fill=\"#F8F8F8\" height=\"10\" style=\"stroke: #F8F8F8; stroke-width: 1.5;\" width=\"50\" x=\"69.5\" y=\"458.9688\"/><rect fill=\"none\" height=\"40\" id=\"E8\" rx=\"10\" ry=\"10\" style=\"stroke: #383838; stroke-width: 1.5;\" width=\"50\" x=\"69.5\" y=\"445\"/><text fill=\"#000000\" font-family=\"sans-serif\" font-size=\"12\" lengthAdjust=\"spacingAndGlyphs\" textLength=\"21\" x=\"84\" y=\"461.1387\">z: B</text></a></g><!--MD5=[81c1a06047a65b41076788f4380dc847]\n",
       "@startuml\r\n",
       "skinparam ranksep 10\r\n",
       "skinparam rectangle {\r\n",
       " backgroundColor<<block>> LightGreen\r\n",
       "}\r\n",
       "left to right direction\r\n",
       "skinparam monochrome true\r\n",
       "skinparam classbackgroundcolor white\r\n",
       "skinparam shadowing false\r\n",
       "skinparam wrapWidth 300\r\n",
       "hide circle\r\n",
       "\r\n",
       "package \"PrivateImportTest\" as E1  [[psysml:679eaabc-5ff5-4f8e-91e0-c316c2e3864c ]]  {\r\n",
       "package \"P1\" as E2  [[psysml:009bdde2-dc25-4a27-9e47-f33e7b142b72 ]]  {\r\n",
       "rec def \"A\" as E3  <<(T,blue)part def>> [[psysml:3f36db9e-42d3-4087-b2e1-ec91d884c8c4 ]] {\r\n",
       "}\r\n",
       "}\r\n",
       "package \"P2\" as E4  [[psysml:6aec89c6-9258-4c03-89c0-e79f913ee5de ]]  {\r\n",
       "}\r\n",
       "rec usage \"x: A\" as E5  [[psysml:ae15bfee-df16-4fee-9dc7-bf97e2180cfd ]] {\r\n",
       "}\r\n",
       "package \"P3\" as E6  [[psysml:b0bbce7f-63ab-4038-bed6-f72cdad2d833 ]]  {\r\n",
       "rec def \"B\" as E7  <<(T,blue)part def>> [[psysml:0f9466c7-ef71-48bc-a930-ec3e2c1a2c86 ]] {\r\n",
       "}\r\n",
       "}\r\n",
       "rec usage \"z: B\" as E8  [[psysml:977e6037-d806-4fb0-bccf-0c48256693c8 ]] {\r\n",
       "}\r\n",
       "}\r\n",
       "@enduml\r\n",
       "\n",
       "PlantUML version 1.2020.13(Sat Jun 13 12:26:38 UTC 2020)\n",
       "(EPL source distribution)\n",
       "Java Runtime: OpenJDK Runtime Environment\n",
       "JVM: OpenJDK 64-Bit Server VM\n",
       "Default Encoding: UTF-8\n",
       "Language: en\n",
       "Country: null\n",
       "--></g></svg>"
      ]
     },
     "execution_count": 19,
     "metadata": {},
     "output_type": "execute_result"
    }
   ],
   "source": [
    "%viz --style=\"LR\" --view=\"Interconnection\" \"PrivateImportTest\""
   ]
  },
  {
   "cell_type": "code",
   "execution_count": 20,
   "id": "signal-supply",
   "metadata": {
    "execution": {
     "iopub.execute_input": "2021-03-24T16:28:04.635055Z",
     "iopub.status.busy": "2021-03-24T16:28:04.634655Z",
     "iopub.status.idle": "2021-03-24T16:28:04.640223Z",
     "shell.execute_reply": "2021-03-24T16:28:04.640545Z"
    }
   },
   "outputs": [
    {
     "data": {
      "image/svg+xml": [
       "<?xml version=\"1.0\" encoding=\"UTF-8\" standalone=\"no\"?><svg xmlns=\"http://www.w3.org/2000/svg\" xmlns:xlink=\"http://www.w3.org/1999/xlink\" contentScriptType=\"application/ecmascript\" contentStyleType=\"text/css\" height=\"12px\" preserveAspectRatio=\"none\" style=\"width:12px;height:12px;\" version=\"1.1\" viewBox=\"0 0 12 12\" width=\"12px\" zoomAndPan=\"magnify\"><defs/><g><!--MD5=[7aeb398939421629f6affaa4a1a7b125]\n",
       "@startuml\r\n",
       "skinparam ranksep 8\r\n",
       "left to right direction\r\n",
       "skinparam monochrome true\r\n",
       "skinparam classbackgroundcolor white\r\n",
       "skinparam shadowing false\r\n",
       "skinparam wrapWidth 300\r\n",
       "hide circle\r\n",
       "\r\n",
       "@enduml\r\n",
       "\n",
       "PlantUML version 1.2020.13(Sat Jun 13 12:26:38 UTC 2020)\n",
       "(EPL source distribution)\n",
       "Java Runtime: OpenJDK Runtime Environment\n",
       "JVM: OpenJDK 64-Bit Server VM\n",
       "Default Encoding: UTF-8\n",
       "Language: en\n",
       "Country: null\n",
       "--></g></svg>"
      ]
     },
     "execution_count": 20,
     "metadata": {},
     "output_type": "execute_result"
    }
   ],
   "source": [
    "%viz --style=\"LR\" --view=\"Action\" \"PrivateImportTest\""
   ]
  },
  {
   "cell_type": "code",
   "execution_count": 21,
   "id": "catholic-journalist",
   "metadata": {
    "execution": {
     "iopub.execute_input": "2021-03-24T16:28:04.691737Z",
     "iopub.status.busy": "2021-03-24T16:28:04.691262Z",
     "iopub.status.idle": "2021-03-24T16:28:04.725311Z",
     "shell.execute_reply": "2021-03-24T16:28:04.724036Z"
    }
   },
   "outputs": [
    {
     "data": {
      "image/svg+xml": [
       "<?xml version=\"1.0\" encoding=\"UTF-8\" standalone=\"no\"?><svg xmlns=\"http://www.w3.org/2000/svg\" xmlns:xlink=\"http://www.w3.org/1999/xlink\" contentScriptType=\"application/ecmascript\" contentStyleType=\"text/css\" height=\"303px\" preserveAspectRatio=\"none\" style=\"width:262px;height:303px;\" version=\"1.1\" viewBox=\"0 0 262 303\" width=\"262px\" zoomAndPan=\"magnify\"><defs/><g><!--MD5=[fbc87193dbaf4d95561dea2c320d4a47]\n",
       "cluster E1--><a href=\"psysml:679eaabc-5ff5-4f8e-91e0-c316c2e3864c\" target=\"_top\" title=\"psysml:679eaabc-5ff5-4f8e-91e0-c316c2e3864c\" xlink:actuate=\"onRequest\" xlink:href=\"psysml:679eaabc-5ff5-4f8e-91e0-c316c2e3864c\" xlink:show=\"new\" xlink:title=\"psysml:679eaabc-5ff5-4f8e-91e0-c316c2e3864c\" xlink:type=\"simple\"><polygon fill=\"#FFFFFF\" points=\"16,6,163,6,170,28.2969,240,28.2969,240,291,16,291,16,6\" style=\"stroke: #000000; stroke-width: 1.5;\"/><line style=\"stroke: #000000; stroke-width: 1.5;\" x1=\"16\" x2=\"170\" y1=\"28.2969\" y2=\"28.2969\"/><text fill=\"#000000\" font-family=\"sans-serif\" font-size=\"14\" font-weight=\"bold\" lengthAdjust=\"spacingAndGlyphs\" textLength=\"141\" x=\"20\" y=\"20.9951\">PrivateImportTest</text></a><!--MD5=[e4f7fae6ed58524ba242bb0b0d3be6b7]\n",
       "cluster E2--><a href=\"psysml:009bdde2-dc25-4a27-9e47-f33e7b142b72\" target=\"_top\" title=\"psysml:009bdde2-dc25-4a27-9e47-f33e7b142b72\" xlink:actuate=\"onRequest\" xlink:href=\"psysml:009bdde2-dc25-4a27-9e47-f33e7b142b72\" xlink:show=\"new\" xlink:title=\"psysml:009bdde2-dc25-4a27-9e47-f33e7b142b72\" xlink:type=\"simple\"><polygon fill=\"#FFFFFF\" points=\"118,49,144,49,151,71.2969,216,71.2969,216,146,118,146,118,49\" style=\"stroke: #000000; stroke-width: 1.5;\"/><line style=\"stroke: #000000; stroke-width: 1.5;\" x1=\"118\" x2=\"151\" y1=\"71.2969\" y2=\"71.2969\"/><text fill=\"#000000\" font-family=\"sans-serif\" font-size=\"14\" font-weight=\"bold\" lengthAdjust=\"spacingAndGlyphs\" textLength=\"20\" x=\"122\" y=\"63.9951\">P1</text></a><!--MD5=[14e3b0961a2654348d326746436168a1]\n",
       "cluster E6--><a href=\"psysml:b0bbce7f-63ab-4038-bed6-f72cdad2d833\" target=\"_top\" title=\"psysml:b0bbce7f-63ab-4038-bed6-f72cdad2d833\" xlink:actuate=\"onRequest\" xlink:href=\"psysml:b0bbce7f-63ab-4038-bed6-f72cdad2d833\" xlink:show=\"new\" xlink:title=\"psysml:b0bbce7f-63ab-4038-bed6-f72cdad2d833\" xlink:type=\"simple\"><polygon fill=\"#FFFFFF\" points=\"118,170,144,170,151,192.2969,216,192.2969,216,267,118,267,118,170\" style=\"stroke: #000000; stroke-width: 1.5;\"/><line style=\"stroke: #000000; stroke-width: 1.5;\" x1=\"118\" x2=\"151\" y1=\"192.2969\" y2=\"192.2969\"/><text fill=\"#000000\" font-family=\"sans-serif\" font-size=\"14\" font-weight=\"bold\" lengthAdjust=\"spacingAndGlyphs\" textLength=\"20\" x=\"122\" y=\"184.9951\">P3</text></a><!--MD5=[270fce915f116d4de14055a7c1d9a0f3]\n",
       "class E5--><a href=\"psysml:ae15bfee-df16-4fee-9dc7-bf97e2180cfd\" target=\"_top\" title=\"psysml:ae15bfee-df16-4fee-9dc7-bf97e2180cfd\" xlink:actuate=\"onRequest\" xlink:href=\"psysml:ae15bfee-df16-4fee-9dc7-bf97e2180cfd\" xlink:show=\"new\" xlink:title=\"psysml:ae15bfee-df16-4fee-9dc7-bf97e2180cfd\" xlink:type=\"simple\"><rect fill=\"#FFFFFF\" height=\"45.9375\" id=\"E5\" rx=\"10\" ry=\"10\" style=\"stroke: #383838; stroke-width: 1.5;\" width=\"42\" x=\"32\" y=\"59\"/><text fill=\"#000000\" font-family=\"sans-serif\" font-size=\"12\" font-style=\"italic\" lengthAdjust=\"spacingAndGlyphs\" textLength=\"40\" x=\"33\" y=\"75.1387\">«part»</text><text fill=\"#000000\" font-family=\"sans-serif\" font-size=\"12\" lengthAdjust=\"spacingAndGlyphs\" textLength=\"22\" x=\"42\" y=\"89.1074\">x: A</text><line style=\"stroke: #383838; stroke-width: 1.5;\" x1=\"33\" x2=\"73\" y1=\"96.9375\" y2=\"96.9375\"/></a><!--MD5=[b9389687b975829384b498ac4b7476b2]\n",
       "class E8--><a href=\"psysml:977e6037-d806-4fb0-bccf-0c48256693c8\" target=\"_top\" title=\"psysml:977e6037-d806-4fb0-bccf-0c48256693c8\" xlink:actuate=\"onRequest\" xlink:href=\"psysml:977e6037-d806-4fb0-bccf-0c48256693c8\" xlink:show=\"new\" xlink:title=\"psysml:977e6037-d806-4fb0-bccf-0c48256693c8\" xlink:type=\"simple\"><rect fill=\"#FFFFFF\" height=\"45.9375\" id=\"E8\" rx=\"10\" ry=\"10\" style=\"stroke: #383838; stroke-width: 1.5;\" width=\"42\" x=\"32\" y=\"140\"/><text fill=\"#000000\" font-family=\"sans-serif\" font-size=\"12\" font-style=\"italic\" lengthAdjust=\"spacingAndGlyphs\" textLength=\"40\" x=\"33\" y=\"156.1387\">«part»</text><text fill=\"#000000\" font-family=\"sans-serif\" font-size=\"12\" lengthAdjust=\"spacingAndGlyphs\" textLength=\"21\" x=\"42.5\" y=\"170.1074\">z: B</text><line style=\"stroke: #383838; stroke-width: 1.5;\" x1=\"33\" x2=\"73\" y1=\"177.9375\" y2=\"177.9375\"/></a><!--MD5=[09b614a08d8cba4a07c9adeb5e0fee81]\n",
       "class E3--><a href=\"psysml:3f36db9e-42d3-4087-b2e1-ec91d884c8c4\" target=\"_top\" title=\"psysml:3f36db9e-42d3-4087-b2e1-ec91d884c8c4\" xlink:actuate=\"onRequest\" xlink:href=\"psysml:3f36db9e-42d3-4087-b2e1-ec91d884c8c4\" xlink:show=\"new\" xlink:title=\"psysml:3f36db9e-42d3-4087-b2e1-ec91d884c8c4\" xlink:type=\"simple\"><rect fill=\"#FFFFFF\" height=\"45.9375\" id=\"E3\" style=\"stroke: #383838; stroke-width: 1.5;\" width=\"66\" x=\"134\" y=\"84\"/><text fill=\"#000000\" font-family=\"sans-serif\" font-size=\"12\" font-style=\"italic\" lengthAdjust=\"spacingAndGlyphs\" textLength=\"64\" x=\"135\" y=\"100.1387\">«part def»</text><text fill=\"#000000\" font-family=\"sans-serif\" font-size=\"12\" lengthAdjust=\"spacingAndGlyphs\" textLength=\"8\" x=\"163\" y=\"114.1074\">A</text><line style=\"stroke: #383838; stroke-width: 1.5;\" x1=\"135\" x2=\"199\" y1=\"121.9375\" y2=\"121.9375\"/></a><a href=\"psysml:6aec89c6-9258-4c03-89c0-e79f913ee5de\" target=\"_top\" title=\"psysml:6aec89c6-9258-4c03-89c0-e79f913ee5de\" xlink:actuate=\"onRequest\" xlink:href=\"psysml:6aec89c6-9258-4c03-89c0-e79f913ee5de\" xlink:show=\"new\" xlink:title=\"psysml:6aec89c6-9258-4c03-89c0-e79f913ee5de\" xlink:type=\"simple\"><polygon fill=\"#FFFFFF\" points=\"33,221.5,59,221.5,66,243.7969,73,243.7969,73,274.0938,33,274.0938,33,221.5\" style=\"stroke: #000000; stroke-width: 1.5;\"/><line style=\"stroke: #000000; stroke-width: 1.5;\" x1=\"33\" x2=\"66\" y1=\"243.7969\" y2=\"243.7969\"/><text fill=\"#000000\" font-family=\"sans-serif\" font-size=\"14\" font-weight=\"bold\" lengthAdjust=\"spacingAndGlyphs\" textLength=\"20\" x=\"37\" y=\"236.4951\">P2</text></a><!--MD5=[2156ba9850f5573cc1fc38a6a4b2f02b]\n",
       "class E7--><a href=\"psysml:0f9466c7-ef71-48bc-a930-ec3e2c1a2c86\" target=\"_top\" title=\"psysml:0f9466c7-ef71-48bc-a930-ec3e2c1a2c86\" xlink:actuate=\"onRequest\" xlink:href=\"psysml:0f9466c7-ef71-48bc-a930-ec3e2c1a2c86\" xlink:show=\"new\" xlink:title=\"psysml:0f9466c7-ef71-48bc-a930-ec3e2c1a2c86\" xlink:type=\"simple\"><rect fill=\"#FFFFFF\" height=\"45.9375\" id=\"E7\" style=\"stroke: #383838; stroke-width: 1.5;\" width=\"66\" x=\"134\" y=\"205\"/><text fill=\"#000000\" font-family=\"sans-serif\" font-size=\"12\" font-style=\"italic\" lengthAdjust=\"spacingAndGlyphs\" textLength=\"64\" x=\"135\" y=\"221.1387\">«part def»</text><text fill=\"#000000\" font-family=\"sans-serif\" font-size=\"12\" lengthAdjust=\"spacingAndGlyphs\" textLength=\"8\" x=\"163\" y=\"235.1074\">B</text><line style=\"stroke: #383838; stroke-width: 1.5;\" x1=\"135\" x2=\"199\" y1=\"242.9375\" y2=\"242.9375\"/></a><!--MD5=[e9be52314489bd878ff4c7144b63c9e1]\n",
       "link E5 to E3--><a href=\"psysml:fc52ff88-f6bf-464b-a9f6-50c073522383\" target=\"_top\" title=\"psysml:fc52ff88-f6bf-464b-a9f6-50c073522383\" xlink:actuate=\"onRequest\" xlink:href=\"psysml:fc52ff88-f6bf-464b-a9f6-50c073522383\" xlink:show=\"new\" xlink:title=\"psysml:fc52ff88-f6bf-464b-a9f6-50c073522383\" xlink:type=\"simple\"><path d=\"M74.02,86.47 C85.31,88.99 99.99,92.27 114.29,95.46 \" fill=\"none\" id=\"E5-&gt;E3\" style=\"stroke: #383838; stroke-width: 1.0;\"/><polygon fill=\"#FFFFFF\" points=\"133.86,99.83,113.7912,102.5214,116.842,88.8579,133.86,99.83\" style=\"stroke: #383838; stroke-width: 1.0;\"/><ellipse cx=\"108.664\" cy=\"99.3274\" fill=\"#383838\" rx=\"2\" ry=\"2\" style=\"stroke: #383838; stroke-width: 1.0;\"/><ellipse cx=\"110.8432\" cy=\"89.5677\" fill=\"#383838\" rx=\"2\" ry=\"2\" style=\"stroke: #383838; stroke-width: 1.0;\"/></a><!--MD5=[bfa3c8b0d15052fdf50ae9310b491027]\n",
       "link E8 to E7--><a href=\"psysml:46d3b5b8-edad-416f-ae7d-d25648abca20\" target=\"_top\" title=\"psysml:46d3b5b8-edad-416f-ae7d-d25648abca20\" xlink:actuate=\"onRequest\" xlink:href=\"psysml:46d3b5b8-edad-416f-ae7d-d25648abca20\" xlink:show=\"new\" xlink:title=\"psysml:46d3b5b8-edad-416f-ae7d-d25648abca20\" xlink:type=\"simple\"><path d=\"M74.02,174.62 C85.83,181.47 101.34,190.48 116.26,199.13 \" fill=\"none\" id=\"E8-&gt;E7\" style=\"stroke: #383838; stroke-width: 1.0;\"/><polygon fill=\"#FFFFFF\" points=\"133.86,209.35,113.9116,205.8773,120.9328,193.7652,133.86,209.35\" style=\"stroke: #383838; stroke-width: 1.0;\"/><ellipse cx=\"109.9832\" cy=\"201.2883\" fill=\"#383838\" rx=\"2\" ry=\"2\" style=\"stroke: #383838; stroke-width: 1.0;\"/><ellipse cx=\"114.9984\" cy=\"192.6368\" fill=\"#383838\" rx=\"2\" ry=\"2\" style=\"stroke: #383838; stroke-width: 1.0;\"/></a><!--MD5=[fbb7c6ade18b3884e21cf9a77bb8174b]\n",
       "@startuml\r\n",
       "left to right direction\r\n",
       "skinparam monochrome true\r\n",
       "skinparam classbackgroundcolor white\r\n",
       "skinparam shadowing false\r\n",
       "skinparam wrapWidth 300\r\n",
       "hide circle\r\n",
       "\r\n",
       "package \"PrivateImportTest\" as E1  [[psysml:679eaabc-5ff5-4f8e-91e0-c316c2e3864c ]]  {\r\n",
       "package \"P1\" as E2  [[psysml:009bdde2-dc25-4a27-9e47-f33e7b142b72 ]]  {\r\n",
       "comp def \"A\" as E3  <<(T,blue)part def>> [[psysml:3f36db9e-42d3-4087-b2e1-ec91d884c8c4 ]] {\r\n",
       "}\r\n",
       "}\r\n",
       "package \"P2\" as E4  [[psysml:6aec89c6-9258-4c03-89c0-e79f913ee5de ]]  {\r\n",
       "}\r\n",
       "comp usage \"x: A\" as E5  <<(T,blue)part>> [[psysml:ae15bfee-df16-4fee-9dc7-bf97e2180cfd ]] {\r\n",
       "}\r\n",
       "package \"P3\" as E6  [[psysml:b0bbce7f-63ab-4038-bed6-f72cdad2d833 ]]  {\r\n",
       "comp def \"B\" as E7  <<(T,blue)part def>> [[psysml:0f9466c7-ef71-48bc-a930-ec3e2c1a2c86 ]] {\r\n",
       "}\r\n",
       "E5 - -:|> E3 [[psysml:fc52ff88-f6bf-464b-a9f6-50c073522383 ]] \r\n",
       "}\r\n",
       "comp usage \"z: B\" as E8  <<(T,blue)part>> [[psysml:977e6037-d806-4fb0-bccf-0c48256693c8 ]] {\r\n",
       "}\r\n",
       "E8 - -:|> E7 [[psysml:46d3b5b8-edad-416f-ae7d-d25648abca20 ]] \r\n",
       "}\r\n",
       "@enduml\r\n",
       "\n",
       "PlantUML version 1.2020.13(Sat Jun 13 12:26:38 UTC 2020)\n",
       "(EPL source distribution)\n",
       "Java Runtime: OpenJDK Runtime Environment\n",
       "JVM: OpenJDK 64-Bit Server VM\n",
       "Default Encoding: UTF-8\n",
       "Language: en\n",
       "Country: null\n",
       "--></g></svg>"
      ]
     },
     "execution_count": 21,
     "metadata": {},
     "output_type": "execute_result"
    }
   ],
   "source": [
    "%viz --style=\"LR\" --view=\"Sequence\" \"PrivateImportTest\""
   ]
  },
  {
   "cell_type": "code",
   "execution_count": 22,
   "id": "wicked-egyptian",
   "metadata": {
    "execution": {
     "iopub.execute_input": "2021-03-24T16:28:04.776737Z",
     "iopub.status.busy": "2021-03-24T16:28:04.776269Z",
     "iopub.status.idle": "2021-03-24T16:28:04.830089Z",
     "shell.execute_reply": "2021-03-24T16:28:04.830499Z"
    }
   },
   "outputs": [
    {
     "data": {
      "image/svg+xml": [
       "<?xml version=\"1.0\" encoding=\"UTF-8\" standalone=\"no\"?><svg xmlns=\"http://www.w3.org/2000/svg\" xmlns:xlink=\"http://www.w3.org/1999/xlink\" contentScriptType=\"application/ecmascript\" contentStyleType=\"text/css\" height=\"303px\" preserveAspectRatio=\"none\" style=\"width:262px;height:303px;\" version=\"1.1\" viewBox=\"0 0 262 303\" width=\"262px\" zoomAndPan=\"magnify\"><defs/><g><!--MD5=[fbc87193dbaf4d95561dea2c320d4a47]\n",
       "cluster E1--><a href=\"psysml:679eaabc-5ff5-4f8e-91e0-c316c2e3864c\" target=\"_top\" title=\"psysml:679eaabc-5ff5-4f8e-91e0-c316c2e3864c\" xlink:actuate=\"onRequest\" xlink:href=\"psysml:679eaabc-5ff5-4f8e-91e0-c316c2e3864c\" xlink:show=\"new\" xlink:title=\"psysml:679eaabc-5ff5-4f8e-91e0-c316c2e3864c\" xlink:type=\"simple\"><polygon fill=\"#FFFFFF\" points=\"16,6,163,6,170,28.2969,240,28.2969,240,291,16,291,16,6\" style=\"stroke: #000000; stroke-width: 1.5;\"/><line style=\"stroke: #000000; stroke-width: 1.5;\" x1=\"16\" x2=\"170\" y1=\"28.2969\" y2=\"28.2969\"/><text fill=\"#000000\" font-family=\"sans-serif\" font-size=\"14\" font-weight=\"bold\" lengthAdjust=\"spacingAndGlyphs\" textLength=\"141\" x=\"20\" y=\"20.9951\">PrivateImportTest</text></a><!--MD5=[e4f7fae6ed58524ba242bb0b0d3be6b7]\n",
       "cluster E2--><a href=\"psysml:009bdde2-dc25-4a27-9e47-f33e7b142b72\" target=\"_top\" title=\"psysml:009bdde2-dc25-4a27-9e47-f33e7b142b72\" xlink:actuate=\"onRequest\" xlink:href=\"psysml:009bdde2-dc25-4a27-9e47-f33e7b142b72\" xlink:show=\"new\" xlink:title=\"psysml:009bdde2-dc25-4a27-9e47-f33e7b142b72\" xlink:type=\"simple\"><polygon fill=\"#FFFFFF\" points=\"118,49,144,49,151,71.2969,216,71.2969,216,146,118,146,118,49\" style=\"stroke: #000000; stroke-width: 1.5;\"/><line style=\"stroke: #000000; stroke-width: 1.5;\" x1=\"118\" x2=\"151\" y1=\"71.2969\" y2=\"71.2969\"/><text fill=\"#000000\" font-family=\"sans-serif\" font-size=\"14\" font-weight=\"bold\" lengthAdjust=\"spacingAndGlyphs\" textLength=\"20\" x=\"122\" y=\"63.9951\">P1</text></a><!--MD5=[14e3b0961a2654348d326746436168a1]\n",
       "cluster E6--><a href=\"psysml:b0bbce7f-63ab-4038-bed6-f72cdad2d833\" target=\"_top\" title=\"psysml:b0bbce7f-63ab-4038-bed6-f72cdad2d833\" xlink:actuate=\"onRequest\" xlink:href=\"psysml:b0bbce7f-63ab-4038-bed6-f72cdad2d833\" xlink:show=\"new\" xlink:title=\"psysml:b0bbce7f-63ab-4038-bed6-f72cdad2d833\" xlink:type=\"simple\"><polygon fill=\"#FFFFFF\" points=\"118,170,144,170,151,192.2969,216,192.2969,216,267,118,267,118,170\" style=\"stroke: #000000; stroke-width: 1.5;\"/><line style=\"stroke: #000000; stroke-width: 1.5;\" x1=\"118\" x2=\"151\" y1=\"192.2969\" y2=\"192.2969\"/><text fill=\"#000000\" font-family=\"sans-serif\" font-size=\"14\" font-weight=\"bold\" lengthAdjust=\"spacingAndGlyphs\" textLength=\"20\" x=\"122\" y=\"184.9951\">P3</text></a><!--MD5=[270fce915f116d4de14055a7c1d9a0f3]\n",
       "class E5--><a href=\"psysml:ae15bfee-df16-4fee-9dc7-bf97e2180cfd\" target=\"_top\" title=\"psysml:ae15bfee-df16-4fee-9dc7-bf97e2180cfd\" xlink:actuate=\"onRequest\" xlink:href=\"psysml:ae15bfee-df16-4fee-9dc7-bf97e2180cfd\" xlink:show=\"new\" xlink:title=\"psysml:ae15bfee-df16-4fee-9dc7-bf97e2180cfd\" xlink:type=\"simple\"><rect fill=\"#FFFFFF\" height=\"45.9375\" id=\"E5\" rx=\"10\" ry=\"10\" style=\"stroke: #383838; stroke-width: 1.5;\" width=\"42\" x=\"32\" y=\"59\"/><text fill=\"#000000\" font-family=\"sans-serif\" font-size=\"12\" font-style=\"italic\" lengthAdjust=\"spacingAndGlyphs\" textLength=\"40\" x=\"33\" y=\"75.1387\">«part»</text><text fill=\"#000000\" font-family=\"sans-serif\" font-size=\"12\" lengthAdjust=\"spacingAndGlyphs\" textLength=\"22\" x=\"42\" y=\"89.1074\">x: A</text><line style=\"stroke: #383838; stroke-width: 1.5;\" x1=\"33\" x2=\"73\" y1=\"96.9375\" y2=\"96.9375\"/></a><!--MD5=[b9389687b975829384b498ac4b7476b2]\n",
       "class E8--><a href=\"psysml:977e6037-d806-4fb0-bccf-0c48256693c8\" target=\"_top\" title=\"psysml:977e6037-d806-4fb0-bccf-0c48256693c8\" xlink:actuate=\"onRequest\" xlink:href=\"psysml:977e6037-d806-4fb0-bccf-0c48256693c8\" xlink:show=\"new\" xlink:title=\"psysml:977e6037-d806-4fb0-bccf-0c48256693c8\" xlink:type=\"simple\"><rect fill=\"#FFFFFF\" height=\"45.9375\" id=\"E8\" rx=\"10\" ry=\"10\" style=\"stroke: #383838; stroke-width: 1.5;\" width=\"42\" x=\"32\" y=\"140\"/><text fill=\"#000000\" font-family=\"sans-serif\" font-size=\"12\" font-style=\"italic\" lengthAdjust=\"spacingAndGlyphs\" textLength=\"40\" x=\"33\" y=\"156.1387\">«part»</text><text fill=\"#000000\" font-family=\"sans-serif\" font-size=\"12\" lengthAdjust=\"spacingAndGlyphs\" textLength=\"21\" x=\"42.5\" y=\"170.1074\">z: B</text><line style=\"stroke: #383838; stroke-width: 1.5;\" x1=\"33\" x2=\"73\" y1=\"177.9375\" y2=\"177.9375\"/></a><!--MD5=[09b614a08d8cba4a07c9adeb5e0fee81]\n",
       "class E3--><a href=\"psysml:3f36db9e-42d3-4087-b2e1-ec91d884c8c4\" target=\"_top\" title=\"psysml:3f36db9e-42d3-4087-b2e1-ec91d884c8c4\" xlink:actuate=\"onRequest\" xlink:href=\"psysml:3f36db9e-42d3-4087-b2e1-ec91d884c8c4\" xlink:show=\"new\" xlink:title=\"psysml:3f36db9e-42d3-4087-b2e1-ec91d884c8c4\" xlink:type=\"simple\"><rect fill=\"#FFFFFF\" height=\"45.9375\" id=\"E3\" style=\"stroke: #383838; stroke-width: 1.5;\" width=\"66\" x=\"134\" y=\"84\"/><text fill=\"#000000\" font-family=\"sans-serif\" font-size=\"12\" font-style=\"italic\" lengthAdjust=\"spacingAndGlyphs\" textLength=\"64\" x=\"135\" y=\"100.1387\">«part def»</text><text fill=\"#000000\" font-family=\"sans-serif\" font-size=\"12\" lengthAdjust=\"spacingAndGlyphs\" textLength=\"8\" x=\"163\" y=\"114.1074\">A</text><line style=\"stroke: #383838; stroke-width: 1.5;\" x1=\"135\" x2=\"199\" y1=\"121.9375\" y2=\"121.9375\"/></a><a href=\"psysml:6aec89c6-9258-4c03-89c0-e79f913ee5de\" target=\"_top\" title=\"psysml:6aec89c6-9258-4c03-89c0-e79f913ee5de\" xlink:actuate=\"onRequest\" xlink:href=\"psysml:6aec89c6-9258-4c03-89c0-e79f913ee5de\" xlink:show=\"new\" xlink:title=\"psysml:6aec89c6-9258-4c03-89c0-e79f913ee5de\" xlink:type=\"simple\"><polygon fill=\"#FFFFFF\" points=\"33,221.5,59,221.5,66,243.7969,73,243.7969,73,274.0938,33,274.0938,33,221.5\" style=\"stroke: #000000; stroke-width: 1.5;\"/><line style=\"stroke: #000000; stroke-width: 1.5;\" x1=\"33\" x2=\"66\" y1=\"243.7969\" y2=\"243.7969\"/><text fill=\"#000000\" font-family=\"sans-serif\" font-size=\"14\" font-weight=\"bold\" lengthAdjust=\"spacingAndGlyphs\" textLength=\"20\" x=\"37\" y=\"236.4951\">P2</text></a><!--MD5=[2156ba9850f5573cc1fc38a6a4b2f02b]\n",
       "class E7--><a href=\"psysml:0f9466c7-ef71-48bc-a930-ec3e2c1a2c86\" target=\"_top\" title=\"psysml:0f9466c7-ef71-48bc-a930-ec3e2c1a2c86\" xlink:actuate=\"onRequest\" xlink:href=\"psysml:0f9466c7-ef71-48bc-a930-ec3e2c1a2c86\" xlink:show=\"new\" xlink:title=\"psysml:0f9466c7-ef71-48bc-a930-ec3e2c1a2c86\" xlink:type=\"simple\"><rect fill=\"#FFFFFF\" height=\"45.9375\" id=\"E7\" style=\"stroke: #383838; stroke-width: 1.5;\" width=\"66\" x=\"134\" y=\"205\"/><text fill=\"#000000\" font-family=\"sans-serif\" font-size=\"12\" font-style=\"italic\" lengthAdjust=\"spacingAndGlyphs\" textLength=\"64\" x=\"135\" y=\"221.1387\">«part def»</text><text fill=\"#000000\" font-family=\"sans-serif\" font-size=\"12\" lengthAdjust=\"spacingAndGlyphs\" textLength=\"8\" x=\"163\" y=\"235.1074\">B</text><line style=\"stroke: #383838; stroke-width: 1.5;\" x1=\"135\" x2=\"199\" y1=\"242.9375\" y2=\"242.9375\"/></a><!--MD5=[e9be52314489bd878ff4c7144b63c9e1]\n",
       "link E5 to E3--><a href=\"psysml:fc52ff88-f6bf-464b-a9f6-50c073522383\" target=\"_top\" title=\"psysml:fc52ff88-f6bf-464b-a9f6-50c073522383\" xlink:actuate=\"onRequest\" xlink:href=\"psysml:fc52ff88-f6bf-464b-a9f6-50c073522383\" xlink:show=\"new\" xlink:title=\"psysml:fc52ff88-f6bf-464b-a9f6-50c073522383\" xlink:type=\"simple\"><path d=\"M74.02,86.47 C85.31,88.99 99.99,92.27 114.29,95.46 \" fill=\"none\" id=\"E5-&gt;E3\" style=\"stroke: #383838; stroke-width: 1.0;\"/><polygon fill=\"#FFFFFF\" points=\"133.86,99.83,113.7912,102.5214,116.842,88.8579,133.86,99.83\" style=\"stroke: #383838; stroke-width: 1.0;\"/><ellipse cx=\"108.664\" cy=\"99.3274\" fill=\"#383838\" rx=\"2\" ry=\"2\" style=\"stroke: #383838; stroke-width: 1.0;\"/><ellipse cx=\"110.8432\" cy=\"89.5677\" fill=\"#383838\" rx=\"2\" ry=\"2\" style=\"stroke: #383838; stroke-width: 1.0;\"/></a><!--MD5=[bfa3c8b0d15052fdf50ae9310b491027]\n",
       "link E8 to E7--><a href=\"psysml:46d3b5b8-edad-416f-ae7d-d25648abca20\" target=\"_top\" title=\"psysml:46d3b5b8-edad-416f-ae7d-d25648abca20\" xlink:actuate=\"onRequest\" xlink:href=\"psysml:46d3b5b8-edad-416f-ae7d-d25648abca20\" xlink:show=\"new\" xlink:title=\"psysml:46d3b5b8-edad-416f-ae7d-d25648abca20\" xlink:type=\"simple\"><path d=\"M74.02,174.62 C85.83,181.47 101.34,190.48 116.26,199.13 \" fill=\"none\" id=\"E8-&gt;E7\" style=\"stroke: #383838; stroke-width: 1.0;\"/><polygon fill=\"#FFFFFF\" points=\"133.86,209.35,113.9116,205.8773,120.9328,193.7652,133.86,209.35\" style=\"stroke: #383838; stroke-width: 1.0;\"/><ellipse cx=\"109.9832\" cy=\"201.2883\" fill=\"#383838\" rx=\"2\" ry=\"2\" style=\"stroke: #383838; stroke-width: 1.0;\"/><ellipse cx=\"114.9984\" cy=\"192.6368\" fill=\"#383838\" rx=\"2\" ry=\"2\" style=\"stroke: #383838; stroke-width: 1.0;\"/></a><!--MD5=[fbb7c6ade18b3884e21cf9a77bb8174b]\n",
       "@startuml\r\n",
       "left to right direction\r\n",
       "skinparam monochrome true\r\n",
       "skinparam classbackgroundcolor white\r\n",
       "skinparam shadowing false\r\n",
       "skinparam wrapWidth 300\r\n",
       "hide circle\r\n",
       "\r\n",
       "package \"PrivateImportTest\" as E1  [[psysml:679eaabc-5ff5-4f8e-91e0-c316c2e3864c ]]  {\r\n",
       "package \"P1\" as E2  [[psysml:009bdde2-dc25-4a27-9e47-f33e7b142b72 ]]  {\r\n",
       "comp def \"A\" as E3  <<(T,blue)part def>> [[psysml:3f36db9e-42d3-4087-b2e1-ec91d884c8c4 ]] {\r\n",
       "}\r\n",
       "}\r\n",
       "package \"P2\" as E4  [[psysml:6aec89c6-9258-4c03-89c0-e79f913ee5de ]]  {\r\n",
       "}\r\n",
       "comp usage \"x: A\" as E5  <<(T,blue)part>> [[psysml:ae15bfee-df16-4fee-9dc7-bf97e2180cfd ]] {\r\n",
       "}\r\n",
       "package \"P3\" as E6  [[psysml:b0bbce7f-63ab-4038-bed6-f72cdad2d833 ]]  {\r\n",
       "comp def \"B\" as E7  <<(T,blue)part def>> [[psysml:0f9466c7-ef71-48bc-a930-ec3e2c1a2c86 ]] {\r\n",
       "}\r\n",
       "E5 - -:|> E3 [[psysml:fc52ff88-f6bf-464b-a9f6-50c073522383 ]] \r\n",
       "}\r\n",
       "comp usage \"z: B\" as E8  <<(T,blue)part>> [[psysml:977e6037-d806-4fb0-bccf-0c48256693c8 ]] {\r\n",
       "}\r\n",
       "E8 - -:|> E7 [[psysml:46d3b5b8-edad-416f-ae7d-d25648abca20 ]] \r\n",
       "}\r\n",
       "@enduml\r\n",
       "\n",
       "PlantUML version 1.2020.13(Sat Jun 13 12:26:38 UTC 2020)\n",
       "(EPL source distribution)\n",
       "Java Runtime: OpenJDK Runtime Environment\n",
       "JVM: OpenJDK 64-Bit Server VM\n",
       "Default Encoding: UTF-8\n",
       "Language: en\n",
       "Country: null\n",
       "--></g></svg>"
      ]
     },
     "execution_count": 22,
     "metadata": {},
     "output_type": "execute_result"
    }
   ],
   "source": [
    "%viz --style=\"LR\" --view=\"MIXED\" \"PrivateImportTest\""
   ]
  },
  {
   "cell_type": "code",
   "execution_count": 23,
   "id": "packed-angola",
   "metadata": {
    "execution": {
     "iopub.execute_input": "2021-03-24T16:28:04.881323Z",
     "iopub.status.busy": "2021-03-24T16:28:04.880869Z",
     "iopub.status.idle": "2021-03-24T16:28:04.912454Z",
     "shell.execute_reply": "2021-03-24T16:28:04.912183Z"
    }
   },
   "outputs": [
    {
     "data": {
      "image/svg+xml": [
       "<?xml version=\"1.0\" encoding=\"UTF-8\" standalone=\"no\"?><svg xmlns=\"http://www.w3.org/2000/svg\" xmlns:xlink=\"http://www.w3.org/1999/xlink\" contentScriptType=\"application/ecmascript\" contentStyleType=\"text/css\" height=\"252px\" preserveAspectRatio=\"none\" style=\"width:306px;height:252px;\" version=\"1.1\" viewBox=\"0 0 306 252\" width=\"306px\" zoomAndPan=\"magnify\"><defs><filter height=\"300%\" id=\"f29wip3ni2nfd\" width=\"300%\" x=\"-1\" y=\"-1\"><feGaussianBlur result=\"blurOut\" stdDeviation=\"2.0\"/><feColorMatrix in=\"blurOut\" result=\"blurOut2\" type=\"matrix\" values=\"0 0 0 0 0 0 0 0 0 0 0 0 0 0 0 0 0 0 .4 0\"/><feOffset dx=\"4.0\" dy=\"4.0\" in=\"blurOut2\" result=\"blurOut3\"/><feBlend in=\"SourceGraphic\" in2=\"blurOut3\" mode=\"normal\"/></filter></defs><g><!--MD5=[fbc87193dbaf4d95561dea2c320d4a47]\n",
       "cluster E1--><a href=\"psysml:679eaabc-5ff5-4f8e-91e0-c316c2e3864c\" target=\"_top\" title=\"psysml:679eaabc-5ff5-4f8e-91e0-c316c2e3864c\" xlink:actuate=\"onRequest\" xlink:href=\"psysml:679eaabc-5ff5-4f8e-91e0-c316c2e3864c\" xlink:show=\"new\" xlink:title=\"psysml:679eaabc-5ff5-4f8e-91e0-c316c2e3864c\" xlink:type=\"simple\"><polygon fill=\"#FFFFFF\" filter=\"url(#f29wip3ni2nfd)\" points=\"16,6,163,6,170,28.2969,284,28.2969,284,240,16,240,16,6\" style=\"stroke: #000000; stroke-width: 1.5;\"/><line style=\"stroke: #000000; stroke-width: 1.5;\" x1=\"16\" x2=\"170\" y1=\"28.2969\" y2=\"28.2969\"/><text fill=\"#000000\" font-family=\"sans-serif\" font-size=\"14\" font-weight=\"bold\" lengthAdjust=\"spacingAndGlyphs\" textLength=\"141\" x=\"20\" y=\"20.9951\">PrivateImportTest</text></a><!--MD5=[e4f7fae6ed58524ba242bb0b0d3be6b7]\n",
       "cluster E2--><a href=\"psysml:009bdde2-dc25-4a27-9e47-f33e7b142b72\" target=\"_top\" title=\"psysml:009bdde2-dc25-4a27-9e47-f33e7b142b72\" xlink:actuate=\"onRequest\" xlink:href=\"psysml:009bdde2-dc25-4a27-9e47-f33e7b142b72\" xlink:show=\"new\" xlink:title=\"psysml:009bdde2-dc25-4a27-9e47-f33e7b142b72\" xlink:type=\"simple\"><polygon fill=\"#FFFFFF\" filter=\"url(#f29wip3ni2nfd)\" points=\"162,119,188,119,195,141.2969,260,141.2969,260,216,162,216,162,119\" style=\"stroke: #000000; stroke-width: 1.5;\"/><line style=\"stroke: #000000; stroke-width: 1.5;\" x1=\"162\" x2=\"195\" y1=\"141.2969\" y2=\"141.2969\"/><text fill=\"#000000\" font-family=\"sans-serif\" font-size=\"14\" font-weight=\"bold\" lengthAdjust=\"spacingAndGlyphs\" textLength=\"20\" x=\"166\" y=\"133.9951\">P1</text></a><!--MD5=[14e3b0961a2654348d326746436168a1]\n",
       "cluster E6--><a href=\"psysml:b0bbce7f-63ab-4038-bed6-f72cdad2d833\" target=\"_top\" title=\"psysml:b0bbce7f-63ab-4038-bed6-f72cdad2d833\" xlink:actuate=\"onRequest\" xlink:href=\"psysml:b0bbce7f-63ab-4038-bed6-f72cdad2d833\" xlink:show=\"new\" xlink:title=\"psysml:b0bbce7f-63ab-4038-bed6-f72cdad2d833\" xlink:type=\"simple\"><polygon fill=\"#FFFFFF\" filter=\"url(#f29wip3ni2nfd)\" points=\"40,119,66,119,73,141.2969,138,141.2969,138,216,40,216,40,119\" style=\"stroke: #000000; stroke-width: 1.5;\"/><line style=\"stroke: #000000; stroke-width: 1.5;\" x1=\"40\" x2=\"73\" y1=\"141.2969\" y2=\"141.2969\"/><text fill=\"#000000\" font-family=\"sans-serif\" font-size=\"14\" font-weight=\"bold\" lengthAdjust=\"spacingAndGlyphs\" textLength=\"20\" x=\"44\" y=\"133.9951\">P3</text></a><!--MD5=[270fce915f116d4de14055a7c1d9a0f3]\n",
       "class E5--><a href=\"psysml:ae15bfee-df16-4fee-9dc7-bf97e2180cfd\" target=\"_top\" title=\"psysml:ae15bfee-df16-4fee-9dc7-bf97e2180cfd\" xlink:actuate=\"onRequest\" xlink:href=\"psysml:ae15bfee-df16-4fee-9dc7-bf97e2180cfd\" xlink:show=\"new\" xlink:title=\"psysml:ae15bfee-df16-4fee-9dc7-bf97e2180cfd\" xlink:type=\"simple\"><rect fill=\"#FEFECE\" filter=\"url(#f29wip3ni2nfd)\" height=\"45.9375\" id=\"E5\" rx=\"10\" ry=\"10\" style=\"stroke: #A80036; stroke-width: 1.5;\" width=\"42\" x=\"190\" y=\"44.5\"/><text fill=\"#000000\" font-family=\"sans-serif\" font-size=\"12\" font-style=\"italic\" lengthAdjust=\"spacingAndGlyphs\" textLength=\"40\" x=\"191\" y=\"60.6387\">«part»</text><text fill=\"#000000\" font-family=\"sans-serif\" font-size=\"12\" lengthAdjust=\"spacingAndGlyphs\" textLength=\"22\" x=\"200\" y=\"74.6074\">x: A</text><line style=\"stroke: #A80036; stroke-width: 1.5;\" x1=\"191\" x2=\"231\" y1=\"82.4375\" y2=\"82.4375\"/></a><!--MD5=[b9389687b975829384b498ac4b7476b2]\n",
       "class E8--><a href=\"psysml:977e6037-d806-4fb0-bccf-0c48256693c8\" target=\"_top\" title=\"psysml:977e6037-d806-4fb0-bccf-0c48256693c8\" xlink:actuate=\"onRequest\" xlink:href=\"psysml:977e6037-d806-4fb0-bccf-0c48256693c8\" xlink:show=\"new\" xlink:title=\"psysml:977e6037-d806-4fb0-bccf-0c48256693c8\" xlink:type=\"simple\"><rect fill=\"#FEFECE\" filter=\"url(#f29wip3ni2nfd)\" height=\"45.9375\" id=\"E8\" rx=\"10\" ry=\"10\" style=\"stroke: #A80036; stroke-width: 1.5;\" width=\"42\" x=\"107\" y=\"44.5\"/><text fill=\"#000000\" font-family=\"sans-serif\" font-size=\"12\" font-style=\"italic\" lengthAdjust=\"spacingAndGlyphs\" textLength=\"40\" x=\"108\" y=\"60.6387\">«part»</text><text fill=\"#000000\" font-family=\"sans-serif\" font-size=\"12\" lengthAdjust=\"spacingAndGlyphs\" textLength=\"21\" x=\"117.5\" y=\"74.6074\">z: B</text><line style=\"stroke: #A80036; stroke-width: 1.5;\" x1=\"108\" x2=\"148\" y1=\"82.4375\" y2=\"82.4375\"/></a><!--MD5=[09b614a08d8cba4a07c9adeb5e0fee81]\n",
       "class E3--><a href=\"psysml:3f36db9e-42d3-4087-b2e1-ec91d884c8c4\" target=\"_top\" title=\"psysml:3f36db9e-42d3-4087-b2e1-ec91d884c8c4\" xlink:actuate=\"onRequest\" xlink:href=\"psysml:3f36db9e-42d3-4087-b2e1-ec91d884c8c4\" xlink:show=\"new\" xlink:title=\"psysml:3f36db9e-42d3-4087-b2e1-ec91d884c8c4\" xlink:type=\"simple\"><rect fill=\"#FEFECE\" filter=\"url(#f29wip3ni2nfd)\" height=\"45.9375\" id=\"E3\" style=\"stroke: #A80036; stroke-width: 1.5;\" width=\"66\" x=\"178\" y=\"154\"/><text fill=\"#000000\" font-family=\"sans-serif\" font-size=\"12\" font-style=\"italic\" lengthAdjust=\"spacingAndGlyphs\" textLength=\"64\" x=\"179\" y=\"170.1387\">«part def»</text><text fill=\"#000000\" font-family=\"sans-serif\" font-size=\"12\" lengthAdjust=\"spacingAndGlyphs\" textLength=\"8\" x=\"207\" y=\"184.1074\">A</text><line style=\"stroke: #A80036; stroke-width: 1.5;\" x1=\"179\" x2=\"243\" y1=\"191.9375\" y2=\"191.9375\"/></a><a href=\"psysml:6aec89c6-9258-4c03-89c0-e79f913ee5de\" target=\"_top\" title=\"psysml:6aec89c6-9258-4c03-89c0-e79f913ee5de\" xlink:actuate=\"onRequest\" xlink:href=\"psysml:6aec89c6-9258-4c03-89c0-e79f913ee5de\" xlink:show=\"new\" xlink:title=\"psysml:6aec89c6-9258-4c03-89c0-e79f913ee5de\" xlink:type=\"simple\"><polygon fill=\"#FFFFFF\" filter=\"url(#f29wip3ni2nfd)\" points=\"32,41,58,41,65,63.2969,72,63.2969,72,93.5938,32,93.5938,32,41\" style=\"stroke: #000000; stroke-width: 1.5;\"/><line style=\"stroke: #000000; stroke-width: 1.5;\" x1=\"32\" x2=\"65\" y1=\"63.2969\" y2=\"63.2969\"/><text fill=\"#000000\" font-family=\"sans-serif\" font-size=\"14\" font-weight=\"bold\" lengthAdjust=\"spacingAndGlyphs\" textLength=\"20\" x=\"36\" y=\"55.9951\">P2</text></a><!--MD5=[2156ba9850f5573cc1fc38a6a4b2f02b]\n",
       "class E7--><a href=\"psysml:0f9466c7-ef71-48bc-a930-ec3e2c1a2c86\" target=\"_top\" title=\"psysml:0f9466c7-ef71-48bc-a930-ec3e2c1a2c86\" xlink:actuate=\"onRequest\" xlink:href=\"psysml:0f9466c7-ef71-48bc-a930-ec3e2c1a2c86\" xlink:show=\"new\" xlink:title=\"psysml:0f9466c7-ef71-48bc-a930-ec3e2c1a2c86\" xlink:type=\"simple\"><rect fill=\"#FEFECE\" filter=\"url(#f29wip3ni2nfd)\" height=\"45.9375\" id=\"E7\" style=\"stroke: #A80036; stroke-width: 1.5;\" width=\"66\" x=\"56\" y=\"154\"/><text fill=\"#000000\" font-family=\"sans-serif\" font-size=\"12\" font-style=\"italic\" lengthAdjust=\"spacingAndGlyphs\" textLength=\"64\" x=\"57\" y=\"170.1387\">«part def»</text><text fill=\"#000000\" font-family=\"sans-serif\" font-size=\"12\" lengthAdjust=\"spacingAndGlyphs\" textLength=\"8\" x=\"85\" y=\"184.1074\">B</text><line style=\"stroke: #A80036; stroke-width: 1.5;\" x1=\"57\" x2=\"121\" y1=\"191.9375\" y2=\"191.9375\"/></a><!--MD5=[e9be52314489bd878ff4c7144b63c9e1]\n",
       "link E5 to E3--><a href=\"psysml:fc52ff88-f6bf-464b-a9f6-50c073522383\" target=\"_top\" title=\"psysml:fc52ff88-f6bf-464b-a9f6-50c073522383\" xlink:actuate=\"onRequest\" xlink:href=\"psysml:fc52ff88-f6bf-464b-a9f6-50c073522383\" xlink:show=\"new\" xlink:title=\"psysml:fc52ff88-f6bf-464b-a9f6-50c073522383\" xlink:type=\"simple\"><path d=\"M211,90.51 C211,102.89 211,118.78 211,133.48 \" fill=\"none\" id=\"E5-&gt;E3\" style=\"stroke: #A80036; stroke-width: 1.0;\"/><polygon fill=\"#FFFFFF\" points=\"211,153.65,204,134.65,218,134.65,211,153.65\" style=\"stroke: #A80036; stroke-width: 1.0;\"/><ellipse cx=\"206\" cy=\"128.95\" fill=\"#A80036\" rx=\"2\" ry=\"2\" style=\"stroke: #A80036; stroke-width: 1.0;\"/><ellipse cx=\"216\" cy=\"128.95\" fill=\"#A80036\" rx=\"2\" ry=\"2\" style=\"stroke: #A80036; stroke-width: 1.0;\"/></a><!--MD5=[bfa3c8b0d15052fdf50ae9310b491027]\n",
       "link E8 to E7--><a href=\"psysml:46d3b5b8-edad-416f-ae7d-d25648abca20\" target=\"_top\" title=\"psysml:46d3b5b8-edad-416f-ae7d-d25648abca20\" xlink:actuate=\"onRequest\" xlink:href=\"psysml:46d3b5b8-edad-416f-ae7d-d25648abca20\" xlink:show=\"new\" xlink:title=\"psysml:46d3b5b8-edad-416f-ae7d-d25648abca20\" xlink:type=\"simple\"><path d=\"M120.01,90.51 C115.39,103.25 109.42,119.7 103.96,134.76 \" fill=\"none\" id=\"E8-&gt;E7\" style=\"stroke: #A80036; stroke-width: 1.0;\"/><polygon fill=\"#FFFFFF\" points=\"97.11,153.65,97.0036,133.4018,110.1656,138.1726,97.11,153.65\" style=\"stroke: #A80036; stroke-width: 1.0;\"/><ellipse cx=\"100.8262\" cy=\"128.7245\" fill=\"#A80036\" rx=\"2\" ry=\"2\" style=\"stroke: #A80036; stroke-width: 1.0;\"/><ellipse cx=\"110.2277\" cy=\"132.1322\" fill=\"#A80036\" rx=\"2\" ry=\"2\" style=\"stroke: #A80036; stroke-width: 1.0;\"/></a><!--MD5=[1f5ebaade1fa9b748772e5d7593a8825]\n",
       "@startuml\r\n",
       "skinparam wrapWidth 300\r\n",
       "hide circle\r\n",
       "\r\n",
       "package \"PrivateImportTest\" as E1  [[psysml:679eaabc-5ff5-4f8e-91e0-c316c2e3864c ]]  {\r\n",
       "package \"P1\" as E2  [[psysml:009bdde2-dc25-4a27-9e47-f33e7b142b72 ]]  {\r\n",
       "comp def \"A\" as E3  <<(T,blue)part def>> [[psysml:3f36db9e-42d3-4087-b2e1-ec91d884c8c4 ]] {\r\n",
       "}\r\n",
       "}\r\n",
       "package \"P2\" as E4  [[psysml:6aec89c6-9258-4c03-89c0-e79f913ee5de ]]  {\r\n",
       "}\r\n",
       "comp usage \"x: A\" as E5  <<(T,blue)part>> [[psysml:ae15bfee-df16-4fee-9dc7-bf97e2180cfd ]] {\r\n",
       "}\r\n",
       "package \"P3\" as E6  [[psysml:b0bbce7f-63ab-4038-bed6-f72cdad2d833 ]]  {\r\n",
       "comp def \"B\" as E7  <<(T,blue)part def>> [[psysml:0f9466c7-ef71-48bc-a930-ec3e2c1a2c86 ]] {\r\n",
       "}\r\n",
       "E5 - -:|> E3 [[psysml:fc52ff88-f6bf-464b-a9f6-50c073522383 ]] \r\n",
       "}\r\n",
       "comp usage \"z: B\" as E8  <<(T,blue)part>> [[psysml:977e6037-d806-4fb0-bccf-0c48256693c8 ]] {\r\n",
       "}\r\n",
       "E8 - -:|> E7 [[psysml:46d3b5b8-edad-416f-ae7d-d25648abca20 ]] \r\n",
       "}\r\n",
       "@enduml\r\n",
       "\n",
       "PlantUML version 1.2020.13(Sat Jun 13 12:26:38 UTC 2020)\n",
       "(EPL source distribution)\n",
       "Java Runtime: OpenJDK Runtime Environment\n",
       "JVM: OpenJDK 64-Bit Server VM\n",
       "Default Encoding: UTF-8\n",
       "Language: en\n",
       "Country: null\n",
       "--></g></svg>"
      ]
     },
     "execution_count": 23,
     "metadata": {},
     "output_type": "execute_result"
    }
   ],
   "source": [
    "%viz --style=\"STDCOLOR\" --view=\"Default\" \"PrivateImportTest\""
   ]
  },
  {
   "cell_type": "code",
   "execution_count": 24,
   "id": "annoying-spanking",
   "metadata": {
    "execution": {
     "iopub.execute_input": "2021-03-24T16:28:04.963772Z",
     "iopub.status.busy": "2021-03-24T16:28:04.963271Z",
     "iopub.status.idle": "2021-03-24T16:28:04.992075Z",
     "shell.execute_reply": "2021-03-24T16:28:04.990739Z"
    }
   },
   "outputs": [
    {
     "data": {
      "image/svg+xml": [
       "<?xml version=\"1.0\" encoding=\"UTF-8\" standalone=\"no\"?><svg xmlns=\"http://www.w3.org/2000/svg\" xmlns:xlink=\"http://www.w3.org/1999/xlink\" contentScriptType=\"application/ecmascript\" contentStyleType=\"text/css\" height=\"252px\" preserveAspectRatio=\"none\" style=\"width:306px;height:252px;\" version=\"1.1\" viewBox=\"0 0 306 252\" width=\"306px\" zoomAndPan=\"magnify\"><defs><filter height=\"300%\" id=\"f29wip3ni2nfd\" width=\"300%\" x=\"-1\" y=\"-1\"><feGaussianBlur result=\"blurOut\" stdDeviation=\"2.0\"/><feColorMatrix in=\"blurOut\" result=\"blurOut2\" type=\"matrix\" values=\"0 0 0 0 0 0 0 0 0 0 0 0 0 0 0 0 0 0 .4 0\"/><feOffset dx=\"4.0\" dy=\"4.0\" in=\"blurOut2\" result=\"blurOut3\"/><feBlend in=\"SourceGraphic\" in2=\"blurOut3\" mode=\"normal\"/></filter></defs><g><!--MD5=[fbc87193dbaf4d95561dea2c320d4a47]\n",
       "cluster E1--><a href=\"psysml:679eaabc-5ff5-4f8e-91e0-c316c2e3864c\" target=\"_top\" title=\"psysml:679eaabc-5ff5-4f8e-91e0-c316c2e3864c\" xlink:actuate=\"onRequest\" xlink:href=\"psysml:679eaabc-5ff5-4f8e-91e0-c316c2e3864c\" xlink:show=\"new\" xlink:title=\"psysml:679eaabc-5ff5-4f8e-91e0-c316c2e3864c\" xlink:type=\"simple\"><polygon fill=\"#FFFFFF\" filter=\"url(#f29wip3ni2nfd)\" points=\"16,6,163,6,170,28.2969,284,28.2969,284,240,16,240,16,6\" style=\"stroke: #000000; stroke-width: 1.5;\"/><line style=\"stroke: #000000; stroke-width: 1.5;\" x1=\"16\" x2=\"170\" y1=\"28.2969\" y2=\"28.2969\"/><text fill=\"#000000\" font-family=\"sans-serif\" font-size=\"14\" font-weight=\"bold\" lengthAdjust=\"spacingAndGlyphs\" textLength=\"141\" x=\"20\" y=\"20.9951\">PrivateImportTest</text></a><!--MD5=[e4f7fae6ed58524ba242bb0b0d3be6b7]\n",
       "cluster E2--><a href=\"psysml:009bdde2-dc25-4a27-9e47-f33e7b142b72\" target=\"_top\" title=\"psysml:009bdde2-dc25-4a27-9e47-f33e7b142b72\" xlink:actuate=\"onRequest\" xlink:href=\"psysml:009bdde2-dc25-4a27-9e47-f33e7b142b72\" xlink:show=\"new\" xlink:title=\"psysml:009bdde2-dc25-4a27-9e47-f33e7b142b72\" xlink:type=\"simple\"><polygon fill=\"#FFFFFF\" filter=\"url(#f29wip3ni2nfd)\" points=\"162,119,188,119,195,141.2969,260,141.2969,260,216,162,216,162,119\" style=\"stroke: #000000; stroke-width: 1.5;\"/><line style=\"stroke: #000000; stroke-width: 1.5;\" x1=\"162\" x2=\"195\" y1=\"141.2969\" y2=\"141.2969\"/><text fill=\"#000000\" font-family=\"sans-serif\" font-size=\"14\" font-weight=\"bold\" lengthAdjust=\"spacingAndGlyphs\" textLength=\"20\" x=\"166\" y=\"133.9951\">P1</text></a><!--MD5=[14e3b0961a2654348d326746436168a1]\n",
       "cluster E6--><a href=\"psysml:b0bbce7f-63ab-4038-bed6-f72cdad2d833\" target=\"_top\" title=\"psysml:b0bbce7f-63ab-4038-bed6-f72cdad2d833\" xlink:actuate=\"onRequest\" xlink:href=\"psysml:b0bbce7f-63ab-4038-bed6-f72cdad2d833\" xlink:show=\"new\" xlink:title=\"psysml:b0bbce7f-63ab-4038-bed6-f72cdad2d833\" xlink:type=\"simple\"><polygon fill=\"#FFFFFF\" filter=\"url(#f29wip3ni2nfd)\" points=\"40,119,66,119,73,141.2969,138,141.2969,138,216,40,216,40,119\" style=\"stroke: #000000; stroke-width: 1.5;\"/><line style=\"stroke: #000000; stroke-width: 1.5;\" x1=\"40\" x2=\"73\" y1=\"141.2969\" y2=\"141.2969\"/><text fill=\"#000000\" font-family=\"sans-serif\" font-size=\"14\" font-weight=\"bold\" lengthAdjust=\"spacingAndGlyphs\" textLength=\"20\" x=\"44\" y=\"133.9951\">P3</text></a><!--MD5=[270fce915f116d4de14055a7c1d9a0f3]\n",
       "class E5--><a href=\"psysml:ae15bfee-df16-4fee-9dc7-bf97e2180cfd\" target=\"_top\" title=\"psysml:ae15bfee-df16-4fee-9dc7-bf97e2180cfd\" xlink:actuate=\"onRequest\" xlink:href=\"psysml:ae15bfee-df16-4fee-9dc7-bf97e2180cfd\" xlink:show=\"new\" xlink:title=\"psysml:ae15bfee-df16-4fee-9dc7-bf97e2180cfd\" xlink:type=\"simple\"><rect fill=\"#FEFECE\" filter=\"url(#f29wip3ni2nfd)\" height=\"45.9375\" id=\"E5\" rx=\"10\" ry=\"10\" style=\"stroke: #A80036; stroke-width: 1.5;\" width=\"42\" x=\"190\" y=\"44.5\"/><text fill=\"#000000\" font-family=\"sans-serif\" font-size=\"12\" font-style=\"italic\" lengthAdjust=\"spacingAndGlyphs\" textLength=\"40\" x=\"191\" y=\"60.6387\">«part»</text><text fill=\"#000000\" font-family=\"sans-serif\" font-size=\"12\" lengthAdjust=\"spacingAndGlyphs\" textLength=\"22\" x=\"200\" y=\"74.6074\">x: A</text><line style=\"stroke: #A80036; stroke-width: 1.5;\" x1=\"191\" x2=\"231\" y1=\"82.4375\" y2=\"82.4375\"/></a><!--MD5=[b9389687b975829384b498ac4b7476b2]\n",
       "class E8--><a href=\"psysml:977e6037-d806-4fb0-bccf-0c48256693c8\" target=\"_top\" title=\"psysml:977e6037-d806-4fb0-bccf-0c48256693c8\" xlink:actuate=\"onRequest\" xlink:href=\"psysml:977e6037-d806-4fb0-bccf-0c48256693c8\" xlink:show=\"new\" xlink:title=\"psysml:977e6037-d806-4fb0-bccf-0c48256693c8\" xlink:type=\"simple\"><rect fill=\"#FEFECE\" filter=\"url(#f29wip3ni2nfd)\" height=\"45.9375\" id=\"E8\" rx=\"10\" ry=\"10\" style=\"stroke: #A80036; stroke-width: 1.5;\" width=\"42\" x=\"107\" y=\"44.5\"/><text fill=\"#000000\" font-family=\"sans-serif\" font-size=\"12\" font-style=\"italic\" lengthAdjust=\"spacingAndGlyphs\" textLength=\"40\" x=\"108\" y=\"60.6387\">«part»</text><text fill=\"#000000\" font-family=\"sans-serif\" font-size=\"12\" lengthAdjust=\"spacingAndGlyphs\" textLength=\"21\" x=\"117.5\" y=\"74.6074\">z: B</text><line style=\"stroke: #A80036; stroke-width: 1.5;\" x1=\"108\" x2=\"148\" y1=\"82.4375\" y2=\"82.4375\"/></a><!--MD5=[09b614a08d8cba4a07c9adeb5e0fee81]\n",
       "class E3--><a href=\"psysml:3f36db9e-42d3-4087-b2e1-ec91d884c8c4\" target=\"_top\" title=\"psysml:3f36db9e-42d3-4087-b2e1-ec91d884c8c4\" xlink:actuate=\"onRequest\" xlink:href=\"psysml:3f36db9e-42d3-4087-b2e1-ec91d884c8c4\" xlink:show=\"new\" xlink:title=\"psysml:3f36db9e-42d3-4087-b2e1-ec91d884c8c4\" xlink:type=\"simple\"><rect fill=\"#FEFECE\" filter=\"url(#f29wip3ni2nfd)\" height=\"45.9375\" id=\"E3\" style=\"stroke: #A80036; stroke-width: 1.5;\" width=\"66\" x=\"178\" y=\"154\"/><text fill=\"#000000\" font-family=\"sans-serif\" font-size=\"12\" font-style=\"italic\" lengthAdjust=\"spacingAndGlyphs\" textLength=\"64\" x=\"179\" y=\"170.1387\">«part def»</text><text fill=\"#000000\" font-family=\"sans-serif\" font-size=\"12\" lengthAdjust=\"spacingAndGlyphs\" textLength=\"8\" x=\"207\" y=\"184.1074\">A</text><line style=\"stroke: #A80036; stroke-width: 1.5;\" x1=\"179\" x2=\"243\" y1=\"191.9375\" y2=\"191.9375\"/></a><a href=\"psysml:6aec89c6-9258-4c03-89c0-e79f913ee5de\" target=\"_top\" title=\"psysml:6aec89c6-9258-4c03-89c0-e79f913ee5de\" xlink:actuate=\"onRequest\" xlink:href=\"psysml:6aec89c6-9258-4c03-89c0-e79f913ee5de\" xlink:show=\"new\" xlink:title=\"psysml:6aec89c6-9258-4c03-89c0-e79f913ee5de\" xlink:type=\"simple\"><polygon fill=\"#FFFFFF\" filter=\"url(#f29wip3ni2nfd)\" points=\"32,41,58,41,65,63.2969,72,63.2969,72,93.5938,32,93.5938,32,41\" style=\"stroke: #000000; stroke-width: 1.5;\"/><line style=\"stroke: #000000; stroke-width: 1.5;\" x1=\"32\" x2=\"65\" y1=\"63.2969\" y2=\"63.2969\"/><text fill=\"#000000\" font-family=\"sans-serif\" font-size=\"14\" font-weight=\"bold\" lengthAdjust=\"spacingAndGlyphs\" textLength=\"20\" x=\"36\" y=\"55.9951\">P2</text></a><!--MD5=[2156ba9850f5573cc1fc38a6a4b2f02b]\n",
       "class E7--><a href=\"psysml:0f9466c7-ef71-48bc-a930-ec3e2c1a2c86\" target=\"_top\" title=\"psysml:0f9466c7-ef71-48bc-a930-ec3e2c1a2c86\" xlink:actuate=\"onRequest\" xlink:href=\"psysml:0f9466c7-ef71-48bc-a930-ec3e2c1a2c86\" xlink:show=\"new\" xlink:title=\"psysml:0f9466c7-ef71-48bc-a930-ec3e2c1a2c86\" xlink:type=\"simple\"><rect fill=\"#FEFECE\" filter=\"url(#f29wip3ni2nfd)\" height=\"45.9375\" id=\"E7\" style=\"stroke: #A80036; stroke-width: 1.5;\" width=\"66\" x=\"56\" y=\"154\"/><text fill=\"#000000\" font-family=\"sans-serif\" font-size=\"12\" font-style=\"italic\" lengthAdjust=\"spacingAndGlyphs\" textLength=\"64\" x=\"57\" y=\"170.1387\">«part def»</text><text fill=\"#000000\" font-family=\"sans-serif\" font-size=\"12\" lengthAdjust=\"spacingAndGlyphs\" textLength=\"8\" x=\"85\" y=\"184.1074\">B</text><line style=\"stroke: #A80036; stroke-width: 1.5;\" x1=\"57\" x2=\"121\" y1=\"191.9375\" y2=\"191.9375\"/></a><!--MD5=[e9be52314489bd878ff4c7144b63c9e1]\n",
       "link E5 to E3--><a href=\"psysml:fc52ff88-f6bf-464b-a9f6-50c073522383\" target=\"_top\" title=\"psysml:fc52ff88-f6bf-464b-a9f6-50c073522383\" xlink:actuate=\"onRequest\" xlink:href=\"psysml:fc52ff88-f6bf-464b-a9f6-50c073522383\" xlink:show=\"new\" xlink:title=\"psysml:fc52ff88-f6bf-464b-a9f6-50c073522383\" xlink:type=\"simple\"><path d=\"M211,90.51 C211,102.89 211,118.78 211,133.48 \" fill=\"none\" id=\"E5-&gt;E3\" style=\"stroke: #A80036; stroke-width: 1.0;\"/><polygon fill=\"#FFFFFF\" points=\"211,153.65,204,134.65,218,134.65,211,153.65\" style=\"stroke: #A80036; stroke-width: 1.0;\"/><ellipse cx=\"206\" cy=\"128.95\" fill=\"#A80036\" rx=\"2\" ry=\"2\" style=\"stroke: #A80036; stroke-width: 1.0;\"/><ellipse cx=\"216\" cy=\"128.95\" fill=\"#A80036\" rx=\"2\" ry=\"2\" style=\"stroke: #A80036; stroke-width: 1.0;\"/></a><!--MD5=[bfa3c8b0d15052fdf50ae9310b491027]\n",
       "link E8 to E7--><a href=\"psysml:46d3b5b8-edad-416f-ae7d-d25648abca20\" target=\"_top\" title=\"psysml:46d3b5b8-edad-416f-ae7d-d25648abca20\" xlink:actuate=\"onRequest\" xlink:href=\"psysml:46d3b5b8-edad-416f-ae7d-d25648abca20\" xlink:show=\"new\" xlink:title=\"psysml:46d3b5b8-edad-416f-ae7d-d25648abca20\" xlink:type=\"simple\"><path d=\"M120.01,90.51 C115.39,103.25 109.42,119.7 103.96,134.76 \" fill=\"none\" id=\"E8-&gt;E7\" style=\"stroke: #A80036; stroke-width: 1.0;\"/><polygon fill=\"#FFFFFF\" points=\"97.11,153.65,97.0036,133.4018,110.1656,138.1726,97.11,153.65\" style=\"stroke: #A80036; stroke-width: 1.0;\"/><ellipse cx=\"100.8262\" cy=\"128.7245\" fill=\"#A80036\" rx=\"2\" ry=\"2\" style=\"stroke: #A80036; stroke-width: 1.0;\"/><ellipse cx=\"110.2277\" cy=\"132.1322\" fill=\"#A80036\" rx=\"2\" ry=\"2\" style=\"stroke: #A80036; stroke-width: 1.0;\"/></a><!--MD5=[1f5ebaade1fa9b748772e5d7593a8825]\n",
       "@startuml\r\n",
       "skinparam wrapWidth 300\r\n",
       "hide circle\r\n",
       "\r\n",
       "package \"PrivateImportTest\" as E1  [[psysml:679eaabc-5ff5-4f8e-91e0-c316c2e3864c ]]  {\r\n",
       "package \"P1\" as E2  [[psysml:009bdde2-dc25-4a27-9e47-f33e7b142b72 ]]  {\r\n",
       "comp def \"A\" as E3  <<(T,blue)part def>> [[psysml:3f36db9e-42d3-4087-b2e1-ec91d884c8c4 ]] {\r\n",
       "}\r\n",
       "}\r\n",
       "package \"P2\" as E4  [[psysml:6aec89c6-9258-4c03-89c0-e79f913ee5de ]]  {\r\n",
       "}\r\n",
       "comp usage \"x: A\" as E5  <<(T,blue)part>> [[psysml:ae15bfee-df16-4fee-9dc7-bf97e2180cfd ]] {\r\n",
       "}\r\n",
       "package \"P3\" as E6  [[psysml:b0bbce7f-63ab-4038-bed6-f72cdad2d833 ]]  {\r\n",
       "comp def \"B\" as E7  <<(T,blue)part def>> [[psysml:0f9466c7-ef71-48bc-a930-ec3e2c1a2c86 ]] {\r\n",
       "}\r\n",
       "E5 - -:|> E3 [[psysml:fc52ff88-f6bf-464b-a9f6-50c073522383 ]] \r\n",
       "}\r\n",
       "comp usage \"z: B\" as E8  <<(T,blue)part>> [[psysml:977e6037-d806-4fb0-bccf-0c48256693c8 ]] {\r\n",
       "}\r\n",
       "E8 - -:|> E7 [[psysml:46d3b5b8-edad-416f-ae7d-d25648abca20 ]] \r\n",
       "}\r\n",
       "@enduml\r\n",
       "\n",
       "PlantUML version 1.2020.13(Sat Jun 13 12:26:38 UTC 2020)\n",
       "(EPL source distribution)\n",
       "Java Runtime: OpenJDK Runtime Environment\n",
       "JVM: OpenJDK 64-Bit Server VM\n",
       "Default Encoding: UTF-8\n",
       "Language: en\n",
       "Country: null\n",
       "--></g></svg>"
      ]
     },
     "execution_count": 24,
     "metadata": {},
     "output_type": "execute_result"
    }
   ],
   "source": [
    "%viz --style=\"STDCOLOR\" --view=\"Tree\" \"PrivateImportTest\""
   ]
  },
  {
   "cell_type": "code",
   "execution_count": 25,
   "id": "large-portable",
   "metadata": {
    "execution": {
     "iopub.execute_input": "2021-03-24T16:28:05.043297Z",
     "iopub.status.busy": "2021-03-24T16:28:05.042570Z",
     "iopub.status.idle": "2021-03-24T16:28:05.048441Z",
     "shell.execute_reply": "2021-03-24T16:28:05.048077Z"
    }
   },
   "outputs": [
    {
     "data": {
      "image/svg+xml": [
       "<?xml version=\"1.0\" encoding=\"UTF-8\" standalone=\"no\"?><svg xmlns=\"http://www.w3.org/2000/svg\" xmlns:xlink=\"http://www.w3.org/1999/xlink\" contentScriptType=\"application/ecmascript\" contentStyleType=\"text/css\" height=\"12px\" preserveAspectRatio=\"none\" style=\"width:12px;height:12px;\" version=\"1.1\" viewBox=\"0 0 12 12\" width=\"12px\" zoomAndPan=\"magnify\"><defs/><g><!--MD5=[aeeef50f102b80d730deb6443d14f702]\n",
       "@startuml\r\n",
       "skinparam wrapWidth 300\r\n",
       "hide circle\r\n",
       "\r\n",
       "@enduml\r\n",
       "\n",
       "PlantUML version 1.2020.13(Sat Jun 13 12:26:38 UTC 2020)\n",
       "(EPL source distribution)\n",
       "Java Runtime: OpenJDK Runtime Environment\n",
       "JVM: OpenJDK 64-Bit Server VM\n",
       "Default Encoding: UTF-8\n",
       "Language: en\n",
       "Country: null\n",
       "--></g></svg>"
      ]
     },
     "execution_count": 25,
     "metadata": {},
     "output_type": "execute_result"
    }
   ],
   "source": [
    "%viz --style=\"STDCOLOR\" --view=\"State\" \"PrivateImportTest\""
   ]
  },
  {
   "cell_type": "code",
   "execution_count": 26,
   "id": "korean-picking",
   "metadata": {
    "execution": {
     "iopub.execute_input": "2021-03-24T16:28:05.100624Z",
     "iopub.status.busy": "2021-03-24T16:28:05.099793Z",
     "iopub.status.idle": "2021-03-24T16:28:05.130657Z",
     "shell.execute_reply": "2021-03-24T16:28:05.130269Z"
    }
   },
   "outputs": [
    {
     "data": {
      "image/svg+xml": [
       "<?xml version=\"1.0\" encoding=\"UTF-8\" standalone=\"no\"?><svg xmlns=\"http://www.w3.org/2000/svg\" xmlns:xlink=\"http://www.w3.org/1999/xlink\" contentScriptType=\"application/ecmascript\" contentStyleType=\"text/css\" height=\"179px\" preserveAspectRatio=\"none\" style=\"width:539px;height:179px;\" version=\"1.1\" viewBox=\"0 0 539 179\" width=\"539px\" zoomAndPan=\"magnify\"><defs><filter height=\"300%\" id=\"f8uca6kai9qby\" width=\"300%\" x=\"-1\" y=\"-1\"><feGaussianBlur result=\"blurOut\" stdDeviation=\"2.0\"/><feColorMatrix in=\"blurOut\" result=\"blurOut2\" type=\"matrix\" values=\"0 0 0 0 0 0 0 0 0 0 0 0 0 0 0 0 0 0 .4 0\"/><feOffset dx=\"4.0\" dy=\"4.0\" in=\"blurOut2\" result=\"blurOut3\"/><feBlend in=\"SourceGraphic\" in2=\"blurOut3\" mode=\"normal\"/></filter></defs><g><!--MD5=[fbc87193dbaf4d95561dea2c320d4a47]\n",
       "cluster E1--><a href=\"psysml:679eaabc-5ff5-4f8e-91e0-c316c2e3864c\" target=\"_top\" title=\"psysml:679eaabc-5ff5-4f8e-91e0-c316c2e3864c\" xlink:actuate=\"onRequest\" xlink:href=\"psysml:679eaabc-5ff5-4f8e-91e0-c316c2e3864c\" xlink:show=\"new\" xlink:title=\"psysml:679eaabc-5ff5-4f8e-91e0-c316c2e3864c\" xlink:type=\"simple\"><polygon fill=\"#FFFFFF\" filter=\"url(#f8uca6kai9qby)\" points=\"16,6,163,6,170,28.2969,517,28.2969,517,167,16,167,16,6\" style=\"stroke: #000000; stroke-width: 1.5;\"/><line style=\"stroke: #000000; stroke-width: 1.5;\" x1=\"16\" x2=\"170\" y1=\"28.2969\" y2=\"28.2969\"/><text fill=\"#000000\" font-family=\"sans-serif\" font-size=\"14\" font-weight=\"bold\" lengthAdjust=\"spacingAndGlyphs\" textLength=\"141\" x=\"20\" y=\"20.9951\">PrivateImportTest</text></a><!--MD5=[e4f7fae6ed58524ba242bb0b0d3be6b7]\n",
       "cluster E2--><a href=\"psysml:009bdde2-dc25-4a27-9e47-f33e7b142b72\" target=\"_top\" title=\"psysml:009bdde2-dc25-4a27-9e47-f33e7b142b72\" xlink:actuate=\"onRequest\" xlink:href=\"psysml:009bdde2-dc25-4a27-9e47-f33e7b142b72\" xlink:show=\"new\" xlink:title=\"psysml:009bdde2-dc25-4a27-9e47-f33e7b142b72\" xlink:type=\"simple\"><polygon fill=\"#FFFFFF\" filter=\"url(#f8uca6kai9qby)\" points=\"389,49,415,49,422,71.2969,493,71.2969,493,143,389,143,389,49\" style=\"stroke: #000000; stroke-width: 1.5;\"/><line style=\"stroke: #000000; stroke-width: 1.5;\" x1=\"389\" x2=\"422\" y1=\"71.2969\" y2=\"71.2969\"/><text fill=\"#000000\" font-family=\"sans-serif\" font-size=\"14\" font-weight=\"bold\" lengthAdjust=\"spacingAndGlyphs\" textLength=\"20\" x=\"393\" y=\"63.9951\">P1</text></a><!--MD5=[14e3b0961a2654348d326746436168a1]\n",
       "cluster E6--><a href=\"psysml:b0bbce7f-63ab-4038-bed6-f72cdad2d833\" target=\"_top\" title=\"psysml:b0bbce7f-63ab-4038-bed6-f72cdad2d833\" xlink:actuate=\"onRequest\" xlink:href=\"psysml:b0bbce7f-63ab-4038-bed6-f72cdad2d833\" xlink:show=\"new\" xlink:title=\"psysml:b0bbce7f-63ab-4038-bed6-f72cdad2d833\" xlink:type=\"simple\"><polygon fill=\"#FFFFFF\" filter=\"url(#f8uca6kai9qby)\" points=\"261,49,287,49,294,71.2969,365,71.2969,365,143,261,143,261,49\" style=\"stroke: #000000; stroke-width: 1.5;\"/><line style=\"stroke: #000000; stroke-width: 1.5;\" x1=\"261\" x2=\"294\" y1=\"71.2969\" y2=\"71.2969\"/><text fill=\"#000000\" font-family=\"sans-serif\" font-size=\"14\" font-weight=\"bold\" lengthAdjust=\"spacingAndGlyphs\" textLength=\"20\" x=\"265\" y=\"63.9951\">P3</text></a><g id=\"E1.E2.E3\"><a href=\"psysml:3f36db9e-42d3-4087-b2e1-ec91d884c8c4\" target=\"_top\" title=\"psysml:3f36db9e-42d3-4087-b2e1-ec91d884c8c4\" xlink:actuate=\"onRequest\" xlink:href=\"psysml:3f36db9e-42d3-4087-b2e1-ec91d884c8c4\" xlink:show=\"new\" xlink:title=\"psysml:3f36db9e-42d3-4087-b2e1-ec91d884c8c4\" xlink:type=\"simple\"><rect fill=\"#FEFECE\" filter=\"url(#f8uca6kai9qby)\" height=\"42.9375\" id=\"E3\" style=\"stroke: #A80036; stroke-width: 1.5;\" width=\"71\" x=\"405.5\" y=\"84\"/><text fill=\"#000000\" font-family=\"sans-serif\" font-size=\"12\" font-style=\"italic\" lengthAdjust=\"spacingAndGlyphs\" textLength=\"64\" x=\"409\" y=\"100.1387\">«part def»</text><text fill=\"#000000\" font-family=\"sans-serif\" font-size=\"12\" lengthAdjust=\"spacingAndGlyphs\" textLength=\"8\" x=\"437\" y=\"114.1074\">A</text></a></g><a href=\"psysml:6aec89c6-9258-4c03-89c0-e79f913ee5de\" target=\"_top\" title=\"psysml:6aec89c6-9258-4c03-89c0-e79f913ee5de\" xlink:actuate=\"onRequest\" xlink:href=\"psysml:6aec89c6-9258-4c03-89c0-e79f913ee5de\" xlink:show=\"new\" xlink:title=\"psysml:6aec89c6-9258-4c03-89c0-e79f913ee5de\" xlink:type=\"simple\"><polygon fill=\"#FFFFFF\" filter=\"url(#f8uca6kai9qby)\" points=\"202,79,228,79,235,101.2969,242,101.2969,242,131.5938,202,131.5938,202,79\" style=\"stroke: #000000; stroke-width: 1.5;\"/><line style=\"stroke: #000000; stroke-width: 1.5;\" x1=\"202\" x2=\"235\" y1=\"101.2969\" y2=\"101.2969\"/><text fill=\"#000000\" font-family=\"sans-serif\" font-size=\"14\" font-weight=\"bold\" lengthAdjust=\"spacingAndGlyphs\" textLength=\"20\" x=\"206\" y=\"93.9951\">P2</text></a><g id=\"E1.E5\"><a href=\"psysml:ae15bfee-df16-4fee-9dc7-bf97e2180cfd\" target=\"_top\" title=\"psysml:ae15bfee-df16-4fee-9dc7-bf97e2180cfd\" xlink:actuate=\"onRequest\" xlink:href=\"psysml:ae15bfee-df16-4fee-9dc7-bf97e2180cfd\" xlink:show=\"new\" xlink:title=\"psysml:ae15bfee-df16-4fee-9dc7-bf97e2180cfd\" xlink:type=\"simple\"><rect fill=\"#FEFECE\" filter=\"url(#f8uca6kai9qby)\" height=\"40\" id=\"E5\" rx=\"10\" ry=\"10\" style=\"stroke: #A80036; stroke-width: 1.5;\" width=\"50\" x=\"117\" y=\"85.5\"/><text fill=\"#000000\" font-family=\"sans-serif\" font-size=\"12\" lengthAdjust=\"spacingAndGlyphs\" textLength=\"22\" x=\"131\" y=\"101.6387\">x: A</text></a></g><g id=\"E1.E6.E7\"><a href=\"psysml:0f9466c7-ef71-48bc-a930-ec3e2c1a2c86\" target=\"_top\" title=\"psysml:0f9466c7-ef71-48bc-a930-ec3e2c1a2c86\" xlink:actuate=\"onRequest\" xlink:href=\"psysml:0f9466c7-ef71-48bc-a930-ec3e2c1a2c86\" xlink:show=\"new\" xlink:title=\"psysml:0f9466c7-ef71-48bc-a930-ec3e2c1a2c86\" xlink:type=\"simple\"><rect fill=\"#FEFECE\" filter=\"url(#f8uca6kai9qby)\" height=\"42.9375\" id=\"E7\" style=\"stroke: #A80036; stroke-width: 1.5;\" width=\"71\" x=\"277.5\" y=\"84\"/><text fill=\"#000000\" font-family=\"sans-serif\" font-size=\"12\" font-style=\"italic\" lengthAdjust=\"spacingAndGlyphs\" textLength=\"64\" x=\"281\" y=\"100.1387\">«part def»</text><text fill=\"#000000\" font-family=\"sans-serif\" font-size=\"12\" lengthAdjust=\"spacingAndGlyphs\" textLength=\"8\" x=\"309\" y=\"114.1074\">B</text></a></g><g id=\"E1.E8\"><a href=\"psysml:977e6037-d806-4fb0-bccf-0c48256693c8\" target=\"_top\" title=\"psysml:977e6037-d806-4fb0-bccf-0c48256693c8\" xlink:actuate=\"onRequest\" xlink:href=\"psysml:977e6037-d806-4fb0-bccf-0c48256693c8\" xlink:show=\"new\" xlink:title=\"psysml:977e6037-d806-4fb0-bccf-0c48256693c8\" xlink:type=\"simple\"><rect fill=\"#FEFECE\" filter=\"url(#f8uca6kai9qby)\" height=\"40\" id=\"E8\" rx=\"10\" ry=\"10\" style=\"stroke: #A80036; stroke-width: 1.5;\" width=\"50\" x=\"32\" y=\"85.5\"/><text fill=\"#000000\" font-family=\"sans-serif\" font-size=\"12\" lengthAdjust=\"spacingAndGlyphs\" textLength=\"21\" x=\"46.5\" y=\"101.6387\">z: B</text></a></g><!--MD5=[6bf8aa2b06be09672de178dec1c0f256]\n",
       "@startuml\r\n",
       "skinparam ranksep 10\r\n",
       "skinparam rectangle {\r\n",
       " backgroundColor<<block>> LightGreen\r\n",
       "}\r\n",
       "skinparam wrapWidth 300\r\n",
       "hide circle\r\n",
       "\r\n",
       "package \"PrivateImportTest\" as E1  [[psysml:679eaabc-5ff5-4f8e-91e0-c316c2e3864c ]]  {\r\n",
       "package \"P1\" as E2  [[psysml:009bdde2-dc25-4a27-9e47-f33e7b142b72 ]]  {\r\n",
       "rec def \"A\" as E3  <<(T,blue)part def>> [[psysml:3f36db9e-42d3-4087-b2e1-ec91d884c8c4 ]] {\r\n",
       "}\r\n",
       "}\r\n",
       "package \"P2\" as E4  [[psysml:6aec89c6-9258-4c03-89c0-e79f913ee5de ]]  {\r\n",
       "}\r\n",
       "rec usage \"x: A\" as E5  [[psysml:ae15bfee-df16-4fee-9dc7-bf97e2180cfd ]] {\r\n",
       "}\r\n",
       "package \"P3\" as E6  [[psysml:b0bbce7f-63ab-4038-bed6-f72cdad2d833 ]]  {\r\n",
       "rec def \"B\" as E7  <<(T,blue)part def>> [[psysml:0f9466c7-ef71-48bc-a930-ec3e2c1a2c86 ]] {\r\n",
       "}\r\n",
       "}\r\n",
       "rec usage \"z: B\" as E8  [[psysml:977e6037-d806-4fb0-bccf-0c48256693c8 ]] {\r\n",
       "}\r\n",
       "}\r\n",
       "@enduml\r\n",
       "\n",
       "PlantUML version 1.2020.13(Sat Jun 13 12:26:38 UTC 2020)\n",
       "(EPL source distribution)\n",
       "Java Runtime: OpenJDK Runtime Environment\n",
       "JVM: OpenJDK 64-Bit Server VM\n",
       "Default Encoding: UTF-8\n",
       "Language: en\n",
       "Country: null\n",
       "--></g></svg>"
      ]
     },
     "execution_count": 26,
     "metadata": {},
     "output_type": "execute_result"
    }
   ],
   "source": [
    "%viz --style=\"STDCOLOR\" --view=\"Interconnection\" \"PrivateImportTest\""
   ]
  },
  {
   "cell_type": "code",
   "execution_count": 27,
   "id": "pursuant-correlation",
   "metadata": {
    "execution": {
     "iopub.execute_input": "2021-03-24T16:28:05.183455Z",
     "iopub.status.busy": "2021-03-24T16:28:05.182364Z",
     "iopub.status.idle": "2021-03-24T16:28:05.188375Z",
     "shell.execute_reply": "2021-03-24T16:28:05.187979Z"
    }
   },
   "outputs": [
    {
     "data": {
      "image/svg+xml": [
       "<?xml version=\"1.0\" encoding=\"UTF-8\" standalone=\"no\"?><svg xmlns=\"http://www.w3.org/2000/svg\" xmlns:xlink=\"http://www.w3.org/1999/xlink\" contentScriptType=\"application/ecmascript\" contentStyleType=\"text/css\" height=\"12px\" preserveAspectRatio=\"none\" style=\"width:12px;height:12px;\" version=\"1.1\" viewBox=\"0 0 12 12\" width=\"12px\" zoomAndPan=\"magnify\"><defs/><g><!--MD5=[9863325348a96a77dacc89509d8ee65e]\n",
       "@startuml\r\n",
       "skinparam ranksep 8\r\n",
       "skinparam wrapWidth 300\r\n",
       "hide circle\r\n",
       "\r\n",
       "@enduml\r\n",
       "\n",
       "PlantUML version 1.2020.13(Sat Jun 13 12:26:38 UTC 2020)\n",
       "(EPL source distribution)\n",
       "Java Runtime: OpenJDK Runtime Environment\n",
       "JVM: OpenJDK 64-Bit Server VM\n",
       "Default Encoding: UTF-8\n",
       "Language: en\n",
       "Country: null\n",
       "--></g></svg>"
      ]
     },
     "execution_count": 27,
     "metadata": {},
     "output_type": "execute_result"
    }
   ],
   "source": [
    "%viz --style=\"STDCOLOR\" --view=\"Action\" \"PrivateImportTest\""
   ]
  },
  {
   "cell_type": "code",
   "execution_count": 28,
   "id": "completed-cliff",
   "metadata": {
    "execution": {
     "iopub.execute_input": "2021-03-24T16:28:05.239070Z",
     "iopub.status.busy": "2021-03-24T16:28:05.238524Z",
     "iopub.status.idle": "2021-03-24T16:28:05.269777Z",
     "shell.execute_reply": "2021-03-24T16:28:05.268513Z"
    }
   },
   "outputs": [
    {
     "data": {
      "image/svg+xml": [
       "<?xml version=\"1.0\" encoding=\"UTF-8\" standalone=\"no\"?><svg xmlns=\"http://www.w3.org/2000/svg\" xmlns:xlink=\"http://www.w3.org/1999/xlink\" contentScriptType=\"application/ecmascript\" contentStyleType=\"text/css\" height=\"252px\" preserveAspectRatio=\"none\" style=\"width:306px;height:252px;\" version=\"1.1\" viewBox=\"0 0 306 252\" width=\"306px\" zoomAndPan=\"magnify\"><defs><filter height=\"300%\" id=\"f29wip3ni2nfd\" width=\"300%\" x=\"-1\" y=\"-1\"><feGaussianBlur result=\"blurOut\" stdDeviation=\"2.0\"/><feColorMatrix in=\"blurOut\" result=\"blurOut2\" type=\"matrix\" values=\"0 0 0 0 0 0 0 0 0 0 0 0 0 0 0 0 0 0 .4 0\"/><feOffset dx=\"4.0\" dy=\"4.0\" in=\"blurOut2\" result=\"blurOut3\"/><feBlend in=\"SourceGraphic\" in2=\"blurOut3\" mode=\"normal\"/></filter></defs><g><!--MD5=[fbc87193dbaf4d95561dea2c320d4a47]\n",
       "cluster E1--><a href=\"psysml:679eaabc-5ff5-4f8e-91e0-c316c2e3864c\" target=\"_top\" title=\"psysml:679eaabc-5ff5-4f8e-91e0-c316c2e3864c\" xlink:actuate=\"onRequest\" xlink:href=\"psysml:679eaabc-5ff5-4f8e-91e0-c316c2e3864c\" xlink:show=\"new\" xlink:title=\"psysml:679eaabc-5ff5-4f8e-91e0-c316c2e3864c\" xlink:type=\"simple\"><polygon fill=\"#FFFFFF\" filter=\"url(#f29wip3ni2nfd)\" points=\"16,6,163,6,170,28.2969,284,28.2969,284,240,16,240,16,6\" style=\"stroke: #000000; stroke-width: 1.5;\"/><line style=\"stroke: #000000; stroke-width: 1.5;\" x1=\"16\" x2=\"170\" y1=\"28.2969\" y2=\"28.2969\"/><text fill=\"#000000\" font-family=\"sans-serif\" font-size=\"14\" font-weight=\"bold\" lengthAdjust=\"spacingAndGlyphs\" textLength=\"141\" x=\"20\" y=\"20.9951\">PrivateImportTest</text></a><!--MD5=[e4f7fae6ed58524ba242bb0b0d3be6b7]\n",
       "cluster E2--><a href=\"psysml:009bdde2-dc25-4a27-9e47-f33e7b142b72\" target=\"_top\" title=\"psysml:009bdde2-dc25-4a27-9e47-f33e7b142b72\" xlink:actuate=\"onRequest\" xlink:href=\"psysml:009bdde2-dc25-4a27-9e47-f33e7b142b72\" xlink:show=\"new\" xlink:title=\"psysml:009bdde2-dc25-4a27-9e47-f33e7b142b72\" xlink:type=\"simple\"><polygon fill=\"#FFFFFF\" filter=\"url(#f29wip3ni2nfd)\" points=\"162,119,188,119,195,141.2969,260,141.2969,260,216,162,216,162,119\" style=\"stroke: #000000; stroke-width: 1.5;\"/><line style=\"stroke: #000000; stroke-width: 1.5;\" x1=\"162\" x2=\"195\" y1=\"141.2969\" y2=\"141.2969\"/><text fill=\"#000000\" font-family=\"sans-serif\" font-size=\"14\" font-weight=\"bold\" lengthAdjust=\"spacingAndGlyphs\" textLength=\"20\" x=\"166\" y=\"133.9951\">P1</text></a><!--MD5=[14e3b0961a2654348d326746436168a1]\n",
       "cluster E6--><a href=\"psysml:b0bbce7f-63ab-4038-bed6-f72cdad2d833\" target=\"_top\" title=\"psysml:b0bbce7f-63ab-4038-bed6-f72cdad2d833\" xlink:actuate=\"onRequest\" xlink:href=\"psysml:b0bbce7f-63ab-4038-bed6-f72cdad2d833\" xlink:show=\"new\" xlink:title=\"psysml:b0bbce7f-63ab-4038-bed6-f72cdad2d833\" xlink:type=\"simple\"><polygon fill=\"#FFFFFF\" filter=\"url(#f29wip3ni2nfd)\" points=\"40,119,66,119,73,141.2969,138,141.2969,138,216,40,216,40,119\" style=\"stroke: #000000; stroke-width: 1.5;\"/><line style=\"stroke: #000000; stroke-width: 1.5;\" x1=\"40\" x2=\"73\" y1=\"141.2969\" y2=\"141.2969\"/><text fill=\"#000000\" font-family=\"sans-serif\" font-size=\"14\" font-weight=\"bold\" lengthAdjust=\"spacingAndGlyphs\" textLength=\"20\" x=\"44\" y=\"133.9951\">P3</text></a><!--MD5=[270fce915f116d4de14055a7c1d9a0f3]\n",
       "class E5--><a href=\"psysml:ae15bfee-df16-4fee-9dc7-bf97e2180cfd\" target=\"_top\" title=\"psysml:ae15bfee-df16-4fee-9dc7-bf97e2180cfd\" xlink:actuate=\"onRequest\" xlink:href=\"psysml:ae15bfee-df16-4fee-9dc7-bf97e2180cfd\" xlink:show=\"new\" xlink:title=\"psysml:ae15bfee-df16-4fee-9dc7-bf97e2180cfd\" xlink:type=\"simple\"><rect fill=\"#FEFECE\" filter=\"url(#f29wip3ni2nfd)\" height=\"45.9375\" id=\"E5\" rx=\"10\" ry=\"10\" style=\"stroke: #A80036; stroke-width: 1.5;\" width=\"42\" x=\"190\" y=\"44.5\"/><text fill=\"#000000\" font-family=\"sans-serif\" font-size=\"12\" font-style=\"italic\" lengthAdjust=\"spacingAndGlyphs\" textLength=\"40\" x=\"191\" y=\"60.6387\">«part»</text><text fill=\"#000000\" font-family=\"sans-serif\" font-size=\"12\" lengthAdjust=\"spacingAndGlyphs\" textLength=\"22\" x=\"200\" y=\"74.6074\">x: A</text><line style=\"stroke: #A80036; stroke-width: 1.5;\" x1=\"191\" x2=\"231\" y1=\"82.4375\" y2=\"82.4375\"/></a><!--MD5=[b9389687b975829384b498ac4b7476b2]\n",
       "class E8--><a href=\"psysml:977e6037-d806-4fb0-bccf-0c48256693c8\" target=\"_top\" title=\"psysml:977e6037-d806-4fb0-bccf-0c48256693c8\" xlink:actuate=\"onRequest\" xlink:href=\"psysml:977e6037-d806-4fb0-bccf-0c48256693c8\" xlink:show=\"new\" xlink:title=\"psysml:977e6037-d806-4fb0-bccf-0c48256693c8\" xlink:type=\"simple\"><rect fill=\"#FEFECE\" filter=\"url(#f29wip3ni2nfd)\" height=\"45.9375\" id=\"E8\" rx=\"10\" ry=\"10\" style=\"stroke: #A80036; stroke-width: 1.5;\" width=\"42\" x=\"107\" y=\"44.5\"/><text fill=\"#000000\" font-family=\"sans-serif\" font-size=\"12\" font-style=\"italic\" lengthAdjust=\"spacingAndGlyphs\" textLength=\"40\" x=\"108\" y=\"60.6387\">«part»</text><text fill=\"#000000\" font-family=\"sans-serif\" font-size=\"12\" lengthAdjust=\"spacingAndGlyphs\" textLength=\"21\" x=\"117.5\" y=\"74.6074\">z: B</text><line style=\"stroke: #A80036; stroke-width: 1.5;\" x1=\"108\" x2=\"148\" y1=\"82.4375\" y2=\"82.4375\"/></a><!--MD5=[09b614a08d8cba4a07c9adeb5e0fee81]\n",
       "class E3--><a href=\"psysml:3f36db9e-42d3-4087-b2e1-ec91d884c8c4\" target=\"_top\" title=\"psysml:3f36db9e-42d3-4087-b2e1-ec91d884c8c4\" xlink:actuate=\"onRequest\" xlink:href=\"psysml:3f36db9e-42d3-4087-b2e1-ec91d884c8c4\" xlink:show=\"new\" xlink:title=\"psysml:3f36db9e-42d3-4087-b2e1-ec91d884c8c4\" xlink:type=\"simple\"><rect fill=\"#FEFECE\" filter=\"url(#f29wip3ni2nfd)\" height=\"45.9375\" id=\"E3\" style=\"stroke: #A80036; stroke-width: 1.5;\" width=\"66\" x=\"178\" y=\"154\"/><text fill=\"#000000\" font-family=\"sans-serif\" font-size=\"12\" font-style=\"italic\" lengthAdjust=\"spacingAndGlyphs\" textLength=\"64\" x=\"179\" y=\"170.1387\">«part def»</text><text fill=\"#000000\" font-family=\"sans-serif\" font-size=\"12\" lengthAdjust=\"spacingAndGlyphs\" textLength=\"8\" x=\"207\" y=\"184.1074\">A</text><line style=\"stroke: #A80036; stroke-width: 1.5;\" x1=\"179\" x2=\"243\" y1=\"191.9375\" y2=\"191.9375\"/></a><a href=\"psysml:6aec89c6-9258-4c03-89c0-e79f913ee5de\" target=\"_top\" title=\"psysml:6aec89c6-9258-4c03-89c0-e79f913ee5de\" xlink:actuate=\"onRequest\" xlink:href=\"psysml:6aec89c6-9258-4c03-89c0-e79f913ee5de\" xlink:show=\"new\" xlink:title=\"psysml:6aec89c6-9258-4c03-89c0-e79f913ee5de\" xlink:type=\"simple\"><polygon fill=\"#FFFFFF\" filter=\"url(#f29wip3ni2nfd)\" points=\"32,41,58,41,65,63.2969,72,63.2969,72,93.5938,32,93.5938,32,41\" style=\"stroke: #000000; stroke-width: 1.5;\"/><line style=\"stroke: #000000; stroke-width: 1.5;\" x1=\"32\" x2=\"65\" y1=\"63.2969\" y2=\"63.2969\"/><text fill=\"#000000\" font-family=\"sans-serif\" font-size=\"14\" font-weight=\"bold\" lengthAdjust=\"spacingAndGlyphs\" textLength=\"20\" x=\"36\" y=\"55.9951\">P2</text></a><!--MD5=[2156ba9850f5573cc1fc38a6a4b2f02b]\n",
       "class E7--><a href=\"psysml:0f9466c7-ef71-48bc-a930-ec3e2c1a2c86\" target=\"_top\" title=\"psysml:0f9466c7-ef71-48bc-a930-ec3e2c1a2c86\" xlink:actuate=\"onRequest\" xlink:href=\"psysml:0f9466c7-ef71-48bc-a930-ec3e2c1a2c86\" xlink:show=\"new\" xlink:title=\"psysml:0f9466c7-ef71-48bc-a930-ec3e2c1a2c86\" xlink:type=\"simple\"><rect fill=\"#FEFECE\" filter=\"url(#f29wip3ni2nfd)\" height=\"45.9375\" id=\"E7\" style=\"stroke: #A80036; stroke-width: 1.5;\" width=\"66\" x=\"56\" y=\"154\"/><text fill=\"#000000\" font-family=\"sans-serif\" font-size=\"12\" font-style=\"italic\" lengthAdjust=\"spacingAndGlyphs\" textLength=\"64\" x=\"57\" y=\"170.1387\">«part def»</text><text fill=\"#000000\" font-family=\"sans-serif\" font-size=\"12\" lengthAdjust=\"spacingAndGlyphs\" textLength=\"8\" x=\"85\" y=\"184.1074\">B</text><line style=\"stroke: #A80036; stroke-width: 1.5;\" x1=\"57\" x2=\"121\" y1=\"191.9375\" y2=\"191.9375\"/></a><!--MD5=[e9be52314489bd878ff4c7144b63c9e1]\n",
       "link E5 to E3--><a href=\"psysml:fc52ff88-f6bf-464b-a9f6-50c073522383\" target=\"_top\" title=\"psysml:fc52ff88-f6bf-464b-a9f6-50c073522383\" xlink:actuate=\"onRequest\" xlink:href=\"psysml:fc52ff88-f6bf-464b-a9f6-50c073522383\" xlink:show=\"new\" xlink:title=\"psysml:fc52ff88-f6bf-464b-a9f6-50c073522383\" xlink:type=\"simple\"><path d=\"M211,90.51 C211,102.89 211,118.78 211,133.48 \" fill=\"none\" id=\"E5-&gt;E3\" style=\"stroke: #A80036; stroke-width: 1.0;\"/><polygon fill=\"#FFFFFF\" points=\"211,153.65,204,134.65,218,134.65,211,153.65\" style=\"stroke: #A80036; stroke-width: 1.0;\"/><ellipse cx=\"206\" cy=\"128.95\" fill=\"#A80036\" rx=\"2\" ry=\"2\" style=\"stroke: #A80036; stroke-width: 1.0;\"/><ellipse cx=\"216\" cy=\"128.95\" fill=\"#A80036\" rx=\"2\" ry=\"2\" style=\"stroke: #A80036; stroke-width: 1.0;\"/></a><!--MD5=[bfa3c8b0d15052fdf50ae9310b491027]\n",
       "link E8 to E7--><a href=\"psysml:46d3b5b8-edad-416f-ae7d-d25648abca20\" target=\"_top\" title=\"psysml:46d3b5b8-edad-416f-ae7d-d25648abca20\" xlink:actuate=\"onRequest\" xlink:href=\"psysml:46d3b5b8-edad-416f-ae7d-d25648abca20\" xlink:show=\"new\" xlink:title=\"psysml:46d3b5b8-edad-416f-ae7d-d25648abca20\" xlink:type=\"simple\"><path d=\"M120.01,90.51 C115.39,103.25 109.42,119.7 103.96,134.76 \" fill=\"none\" id=\"E8-&gt;E7\" style=\"stroke: #A80036; stroke-width: 1.0;\"/><polygon fill=\"#FFFFFF\" points=\"97.11,153.65,97.0036,133.4018,110.1656,138.1726,97.11,153.65\" style=\"stroke: #A80036; stroke-width: 1.0;\"/><ellipse cx=\"100.8262\" cy=\"128.7245\" fill=\"#A80036\" rx=\"2\" ry=\"2\" style=\"stroke: #A80036; stroke-width: 1.0;\"/><ellipse cx=\"110.2277\" cy=\"132.1322\" fill=\"#A80036\" rx=\"2\" ry=\"2\" style=\"stroke: #A80036; stroke-width: 1.0;\"/></a><!--MD5=[1f5ebaade1fa9b748772e5d7593a8825]\n",
       "@startuml\r\n",
       "skinparam wrapWidth 300\r\n",
       "hide circle\r\n",
       "\r\n",
       "package \"PrivateImportTest\" as E1  [[psysml:679eaabc-5ff5-4f8e-91e0-c316c2e3864c ]]  {\r\n",
       "package \"P1\" as E2  [[psysml:009bdde2-dc25-4a27-9e47-f33e7b142b72 ]]  {\r\n",
       "comp def \"A\" as E3  <<(T,blue)part def>> [[psysml:3f36db9e-42d3-4087-b2e1-ec91d884c8c4 ]] {\r\n",
       "}\r\n",
       "}\r\n",
       "package \"P2\" as E4  [[psysml:6aec89c6-9258-4c03-89c0-e79f913ee5de ]]  {\r\n",
       "}\r\n",
       "comp usage \"x: A\" as E5  <<(T,blue)part>> [[psysml:ae15bfee-df16-4fee-9dc7-bf97e2180cfd ]] {\r\n",
       "}\r\n",
       "package \"P3\" as E6  [[psysml:b0bbce7f-63ab-4038-bed6-f72cdad2d833 ]]  {\r\n",
       "comp def \"B\" as E7  <<(T,blue)part def>> [[psysml:0f9466c7-ef71-48bc-a930-ec3e2c1a2c86 ]] {\r\n",
       "}\r\n",
       "E5 - -:|> E3 [[psysml:fc52ff88-f6bf-464b-a9f6-50c073522383 ]] \r\n",
       "}\r\n",
       "comp usage \"z: B\" as E8  <<(T,blue)part>> [[psysml:977e6037-d806-4fb0-bccf-0c48256693c8 ]] {\r\n",
       "}\r\n",
       "E8 - -:|> E7 [[psysml:46d3b5b8-edad-416f-ae7d-d25648abca20 ]] \r\n",
       "}\r\n",
       "@enduml\r\n",
       "\n",
       "PlantUML version 1.2020.13(Sat Jun 13 12:26:38 UTC 2020)\n",
       "(EPL source distribution)\n",
       "Java Runtime: OpenJDK Runtime Environment\n",
       "JVM: OpenJDK 64-Bit Server VM\n",
       "Default Encoding: UTF-8\n",
       "Language: en\n",
       "Country: null\n",
       "--></g></svg>"
      ]
     },
     "execution_count": 28,
     "metadata": {},
     "output_type": "execute_result"
    }
   ],
   "source": [
    "%viz --style=\"STDCOLOR\" --view=\"Sequence\" \"PrivateImportTest\""
   ]
  },
  {
   "cell_type": "code",
   "execution_count": 29,
   "id": "qualified-minnesota",
   "metadata": {
    "execution": {
     "iopub.execute_input": "2021-03-24T16:28:05.320275Z",
     "iopub.status.busy": "2021-03-24T16:28:05.319780Z",
     "iopub.status.idle": "2021-03-24T16:28:05.350592Z",
     "shell.execute_reply": "2021-03-24T16:28:05.349268Z"
    }
   },
   "outputs": [
    {
     "data": {
      "image/svg+xml": [
       "<?xml version=\"1.0\" encoding=\"UTF-8\" standalone=\"no\"?><svg xmlns=\"http://www.w3.org/2000/svg\" xmlns:xlink=\"http://www.w3.org/1999/xlink\" contentScriptType=\"application/ecmascript\" contentStyleType=\"text/css\" height=\"252px\" preserveAspectRatio=\"none\" style=\"width:306px;height:252px;\" version=\"1.1\" viewBox=\"0 0 306 252\" width=\"306px\" zoomAndPan=\"magnify\"><defs><filter height=\"300%\" id=\"f29wip3ni2nfd\" width=\"300%\" x=\"-1\" y=\"-1\"><feGaussianBlur result=\"blurOut\" stdDeviation=\"2.0\"/><feColorMatrix in=\"blurOut\" result=\"blurOut2\" type=\"matrix\" values=\"0 0 0 0 0 0 0 0 0 0 0 0 0 0 0 0 0 0 .4 0\"/><feOffset dx=\"4.0\" dy=\"4.0\" in=\"blurOut2\" result=\"blurOut3\"/><feBlend in=\"SourceGraphic\" in2=\"blurOut3\" mode=\"normal\"/></filter></defs><g><!--MD5=[fbc87193dbaf4d95561dea2c320d4a47]\n",
       "cluster E1--><a href=\"psysml:679eaabc-5ff5-4f8e-91e0-c316c2e3864c\" target=\"_top\" title=\"psysml:679eaabc-5ff5-4f8e-91e0-c316c2e3864c\" xlink:actuate=\"onRequest\" xlink:href=\"psysml:679eaabc-5ff5-4f8e-91e0-c316c2e3864c\" xlink:show=\"new\" xlink:title=\"psysml:679eaabc-5ff5-4f8e-91e0-c316c2e3864c\" xlink:type=\"simple\"><polygon fill=\"#FFFFFF\" filter=\"url(#f29wip3ni2nfd)\" points=\"16,6,163,6,170,28.2969,284,28.2969,284,240,16,240,16,6\" style=\"stroke: #000000; stroke-width: 1.5;\"/><line style=\"stroke: #000000; stroke-width: 1.5;\" x1=\"16\" x2=\"170\" y1=\"28.2969\" y2=\"28.2969\"/><text fill=\"#000000\" font-family=\"sans-serif\" font-size=\"14\" font-weight=\"bold\" lengthAdjust=\"spacingAndGlyphs\" textLength=\"141\" x=\"20\" y=\"20.9951\">PrivateImportTest</text></a><!--MD5=[e4f7fae6ed58524ba242bb0b0d3be6b7]\n",
       "cluster E2--><a href=\"psysml:009bdde2-dc25-4a27-9e47-f33e7b142b72\" target=\"_top\" title=\"psysml:009bdde2-dc25-4a27-9e47-f33e7b142b72\" xlink:actuate=\"onRequest\" xlink:href=\"psysml:009bdde2-dc25-4a27-9e47-f33e7b142b72\" xlink:show=\"new\" xlink:title=\"psysml:009bdde2-dc25-4a27-9e47-f33e7b142b72\" xlink:type=\"simple\"><polygon fill=\"#FFFFFF\" filter=\"url(#f29wip3ni2nfd)\" points=\"162,119,188,119,195,141.2969,260,141.2969,260,216,162,216,162,119\" style=\"stroke: #000000; stroke-width: 1.5;\"/><line style=\"stroke: #000000; stroke-width: 1.5;\" x1=\"162\" x2=\"195\" y1=\"141.2969\" y2=\"141.2969\"/><text fill=\"#000000\" font-family=\"sans-serif\" font-size=\"14\" font-weight=\"bold\" lengthAdjust=\"spacingAndGlyphs\" textLength=\"20\" x=\"166\" y=\"133.9951\">P1</text></a><!--MD5=[14e3b0961a2654348d326746436168a1]\n",
       "cluster E6--><a href=\"psysml:b0bbce7f-63ab-4038-bed6-f72cdad2d833\" target=\"_top\" title=\"psysml:b0bbce7f-63ab-4038-bed6-f72cdad2d833\" xlink:actuate=\"onRequest\" xlink:href=\"psysml:b0bbce7f-63ab-4038-bed6-f72cdad2d833\" xlink:show=\"new\" xlink:title=\"psysml:b0bbce7f-63ab-4038-bed6-f72cdad2d833\" xlink:type=\"simple\"><polygon fill=\"#FFFFFF\" filter=\"url(#f29wip3ni2nfd)\" points=\"40,119,66,119,73,141.2969,138,141.2969,138,216,40,216,40,119\" style=\"stroke: #000000; stroke-width: 1.5;\"/><line style=\"stroke: #000000; stroke-width: 1.5;\" x1=\"40\" x2=\"73\" y1=\"141.2969\" y2=\"141.2969\"/><text fill=\"#000000\" font-family=\"sans-serif\" font-size=\"14\" font-weight=\"bold\" lengthAdjust=\"spacingAndGlyphs\" textLength=\"20\" x=\"44\" y=\"133.9951\">P3</text></a><!--MD5=[270fce915f116d4de14055a7c1d9a0f3]\n",
       "class E5--><a href=\"psysml:ae15bfee-df16-4fee-9dc7-bf97e2180cfd\" target=\"_top\" title=\"psysml:ae15bfee-df16-4fee-9dc7-bf97e2180cfd\" xlink:actuate=\"onRequest\" xlink:href=\"psysml:ae15bfee-df16-4fee-9dc7-bf97e2180cfd\" xlink:show=\"new\" xlink:title=\"psysml:ae15bfee-df16-4fee-9dc7-bf97e2180cfd\" xlink:type=\"simple\"><rect fill=\"#FEFECE\" filter=\"url(#f29wip3ni2nfd)\" height=\"45.9375\" id=\"E5\" rx=\"10\" ry=\"10\" style=\"stroke: #A80036; stroke-width: 1.5;\" width=\"42\" x=\"190\" y=\"44.5\"/><text fill=\"#000000\" font-family=\"sans-serif\" font-size=\"12\" font-style=\"italic\" lengthAdjust=\"spacingAndGlyphs\" textLength=\"40\" x=\"191\" y=\"60.6387\">«part»</text><text fill=\"#000000\" font-family=\"sans-serif\" font-size=\"12\" lengthAdjust=\"spacingAndGlyphs\" textLength=\"22\" x=\"200\" y=\"74.6074\">x: A</text><line style=\"stroke: #A80036; stroke-width: 1.5;\" x1=\"191\" x2=\"231\" y1=\"82.4375\" y2=\"82.4375\"/></a><!--MD5=[b9389687b975829384b498ac4b7476b2]\n",
       "class E8--><a href=\"psysml:977e6037-d806-4fb0-bccf-0c48256693c8\" target=\"_top\" title=\"psysml:977e6037-d806-4fb0-bccf-0c48256693c8\" xlink:actuate=\"onRequest\" xlink:href=\"psysml:977e6037-d806-4fb0-bccf-0c48256693c8\" xlink:show=\"new\" xlink:title=\"psysml:977e6037-d806-4fb0-bccf-0c48256693c8\" xlink:type=\"simple\"><rect fill=\"#FEFECE\" filter=\"url(#f29wip3ni2nfd)\" height=\"45.9375\" id=\"E8\" rx=\"10\" ry=\"10\" style=\"stroke: #A80036; stroke-width: 1.5;\" width=\"42\" x=\"107\" y=\"44.5\"/><text fill=\"#000000\" font-family=\"sans-serif\" font-size=\"12\" font-style=\"italic\" lengthAdjust=\"spacingAndGlyphs\" textLength=\"40\" x=\"108\" y=\"60.6387\">«part»</text><text fill=\"#000000\" font-family=\"sans-serif\" font-size=\"12\" lengthAdjust=\"spacingAndGlyphs\" textLength=\"21\" x=\"117.5\" y=\"74.6074\">z: B</text><line style=\"stroke: #A80036; stroke-width: 1.5;\" x1=\"108\" x2=\"148\" y1=\"82.4375\" y2=\"82.4375\"/></a><!--MD5=[09b614a08d8cba4a07c9adeb5e0fee81]\n",
       "class E3--><a href=\"psysml:3f36db9e-42d3-4087-b2e1-ec91d884c8c4\" target=\"_top\" title=\"psysml:3f36db9e-42d3-4087-b2e1-ec91d884c8c4\" xlink:actuate=\"onRequest\" xlink:href=\"psysml:3f36db9e-42d3-4087-b2e1-ec91d884c8c4\" xlink:show=\"new\" xlink:title=\"psysml:3f36db9e-42d3-4087-b2e1-ec91d884c8c4\" xlink:type=\"simple\"><rect fill=\"#FEFECE\" filter=\"url(#f29wip3ni2nfd)\" height=\"45.9375\" id=\"E3\" style=\"stroke: #A80036; stroke-width: 1.5;\" width=\"66\" x=\"178\" y=\"154\"/><text fill=\"#000000\" font-family=\"sans-serif\" font-size=\"12\" font-style=\"italic\" lengthAdjust=\"spacingAndGlyphs\" textLength=\"64\" x=\"179\" y=\"170.1387\">«part def»</text><text fill=\"#000000\" font-family=\"sans-serif\" font-size=\"12\" lengthAdjust=\"spacingAndGlyphs\" textLength=\"8\" x=\"207\" y=\"184.1074\">A</text><line style=\"stroke: #A80036; stroke-width: 1.5;\" x1=\"179\" x2=\"243\" y1=\"191.9375\" y2=\"191.9375\"/></a><a href=\"psysml:6aec89c6-9258-4c03-89c0-e79f913ee5de\" target=\"_top\" title=\"psysml:6aec89c6-9258-4c03-89c0-e79f913ee5de\" xlink:actuate=\"onRequest\" xlink:href=\"psysml:6aec89c6-9258-4c03-89c0-e79f913ee5de\" xlink:show=\"new\" xlink:title=\"psysml:6aec89c6-9258-4c03-89c0-e79f913ee5de\" xlink:type=\"simple\"><polygon fill=\"#FFFFFF\" filter=\"url(#f29wip3ni2nfd)\" points=\"32,41,58,41,65,63.2969,72,63.2969,72,93.5938,32,93.5938,32,41\" style=\"stroke: #000000; stroke-width: 1.5;\"/><line style=\"stroke: #000000; stroke-width: 1.5;\" x1=\"32\" x2=\"65\" y1=\"63.2969\" y2=\"63.2969\"/><text fill=\"#000000\" font-family=\"sans-serif\" font-size=\"14\" font-weight=\"bold\" lengthAdjust=\"spacingAndGlyphs\" textLength=\"20\" x=\"36\" y=\"55.9951\">P2</text></a><!--MD5=[2156ba9850f5573cc1fc38a6a4b2f02b]\n",
       "class E7--><a href=\"psysml:0f9466c7-ef71-48bc-a930-ec3e2c1a2c86\" target=\"_top\" title=\"psysml:0f9466c7-ef71-48bc-a930-ec3e2c1a2c86\" xlink:actuate=\"onRequest\" xlink:href=\"psysml:0f9466c7-ef71-48bc-a930-ec3e2c1a2c86\" xlink:show=\"new\" xlink:title=\"psysml:0f9466c7-ef71-48bc-a930-ec3e2c1a2c86\" xlink:type=\"simple\"><rect fill=\"#FEFECE\" filter=\"url(#f29wip3ni2nfd)\" height=\"45.9375\" id=\"E7\" style=\"stroke: #A80036; stroke-width: 1.5;\" width=\"66\" x=\"56\" y=\"154\"/><text fill=\"#000000\" font-family=\"sans-serif\" font-size=\"12\" font-style=\"italic\" lengthAdjust=\"spacingAndGlyphs\" textLength=\"64\" x=\"57\" y=\"170.1387\">«part def»</text><text fill=\"#000000\" font-family=\"sans-serif\" font-size=\"12\" lengthAdjust=\"spacingAndGlyphs\" textLength=\"8\" x=\"85\" y=\"184.1074\">B</text><line style=\"stroke: #A80036; stroke-width: 1.5;\" x1=\"57\" x2=\"121\" y1=\"191.9375\" y2=\"191.9375\"/></a><!--MD5=[e9be52314489bd878ff4c7144b63c9e1]\n",
       "link E5 to E3--><a href=\"psysml:fc52ff88-f6bf-464b-a9f6-50c073522383\" target=\"_top\" title=\"psysml:fc52ff88-f6bf-464b-a9f6-50c073522383\" xlink:actuate=\"onRequest\" xlink:href=\"psysml:fc52ff88-f6bf-464b-a9f6-50c073522383\" xlink:show=\"new\" xlink:title=\"psysml:fc52ff88-f6bf-464b-a9f6-50c073522383\" xlink:type=\"simple\"><path d=\"M211,90.51 C211,102.89 211,118.78 211,133.48 \" fill=\"none\" id=\"E5-&gt;E3\" style=\"stroke: #A80036; stroke-width: 1.0;\"/><polygon fill=\"#FFFFFF\" points=\"211,153.65,204,134.65,218,134.65,211,153.65\" style=\"stroke: #A80036; stroke-width: 1.0;\"/><ellipse cx=\"206\" cy=\"128.95\" fill=\"#A80036\" rx=\"2\" ry=\"2\" style=\"stroke: #A80036; stroke-width: 1.0;\"/><ellipse cx=\"216\" cy=\"128.95\" fill=\"#A80036\" rx=\"2\" ry=\"2\" style=\"stroke: #A80036; stroke-width: 1.0;\"/></a><!--MD5=[bfa3c8b0d15052fdf50ae9310b491027]\n",
       "link E8 to E7--><a href=\"psysml:46d3b5b8-edad-416f-ae7d-d25648abca20\" target=\"_top\" title=\"psysml:46d3b5b8-edad-416f-ae7d-d25648abca20\" xlink:actuate=\"onRequest\" xlink:href=\"psysml:46d3b5b8-edad-416f-ae7d-d25648abca20\" xlink:show=\"new\" xlink:title=\"psysml:46d3b5b8-edad-416f-ae7d-d25648abca20\" xlink:type=\"simple\"><path d=\"M120.01,90.51 C115.39,103.25 109.42,119.7 103.96,134.76 \" fill=\"none\" id=\"E8-&gt;E7\" style=\"stroke: #A80036; stroke-width: 1.0;\"/><polygon fill=\"#FFFFFF\" points=\"97.11,153.65,97.0036,133.4018,110.1656,138.1726,97.11,153.65\" style=\"stroke: #A80036; stroke-width: 1.0;\"/><ellipse cx=\"100.8262\" cy=\"128.7245\" fill=\"#A80036\" rx=\"2\" ry=\"2\" style=\"stroke: #A80036; stroke-width: 1.0;\"/><ellipse cx=\"110.2277\" cy=\"132.1322\" fill=\"#A80036\" rx=\"2\" ry=\"2\" style=\"stroke: #A80036; stroke-width: 1.0;\"/></a><!--MD5=[1f5ebaade1fa9b748772e5d7593a8825]\n",
       "@startuml\r\n",
       "skinparam wrapWidth 300\r\n",
       "hide circle\r\n",
       "\r\n",
       "package \"PrivateImportTest\" as E1  [[psysml:679eaabc-5ff5-4f8e-91e0-c316c2e3864c ]]  {\r\n",
       "package \"P1\" as E2  [[psysml:009bdde2-dc25-4a27-9e47-f33e7b142b72 ]]  {\r\n",
       "comp def \"A\" as E3  <<(T,blue)part def>> [[psysml:3f36db9e-42d3-4087-b2e1-ec91d884c8c4 ]] {\r\n",
       "}\r\n",
       "}\r\n",
       "package \"P2\" as E4  [[psysml:6aec89c6-9258-4c03-89c0-e79f913ee5de ]]  {\r\n",
       "}\r\n",
       "comp usage \"x: A\" as E5  <<(T,blue)part>> [[psysml:ae15bfee-df16-4fee-9dc7-bf97e2180cfd ]] {\r\n",
       "}\r\n",
       "package \"P3\" as E6  [[psysml:b0bbce7f-63ab-4038-bed6-f72cdad2d833 ]]  {\r\n",
       "comp def \"B\" as E7  <<(T,blue)part def>> [[psysml:0f9466c7-ef71-48bc-a930-ec3e2c1a2c86 ]] {\r\n",
       "}\r\n",
       "E5 - -:|> E3 [[psysml:fc52ff88-f6bf-464b-a9f6-50c073522383 ]] \r\n",
       "}\r\n",
       "comp usage \"z: B\" as E8  <<(T,blue)part>> [[psysml:977e6037-d806-4fb0-bccf-0c48256693c8 ]] {\r\n",
       "}\r\n",
       "E8 - -:|> E7 [[psysml:46d3b5b8-edad-416f-ae7d-d25648abca20 ]] \r\n",
       "}\r\n",
       "@enduml\r\n",
       "\n",
       "PlantUML version 1.2020.13(Sat Jun 13 12:26:38 UTC 2020)\n",
       "(EPL source distribution)\n",
       "Java Runtime: OpenJDK Runtime Environment\n",
       "JVM: OpenJDK 64-Bit Server VM\n",
       "Default Encoding: UTF-8\n",
       "Language: en\n",
       "Country: null\n",
       "--></g></svg>"
      ]
     },
     "execution_count": 29,
     "metadata": {},
     "output_type": "execute_result"
    }
   ],
   "source": [
    "%viz --style=\"STDCOLOR\" --view=\"MIXED\" \"PrivateImportTest\""
   ]
  },
  {
   "cell_type": "code",
   "execution_count": 30,
   "id": "split-calculation",
   "metadata": {
    "execution": {
     "iopub.execute_input": "2021-03-24T16:28:05.401819Z",
     "iopub.status.busy": "2021-03-24T16:28:05.401251Z",
     "iopub.status.idle": "2021-03-24T16:28:05.451123Z",
     "shell.execute_reply": "2021-03-24T16:28:05.449560Z"
    }
   },
   "outputs": [
    {
     "data": {
      "image/svg+xml": [
       "<?xml version=\"1.0\" encoding=\"UTF-8\" standalone=\"no\"?><svg xmlns=\"http://www.w3.org/2000/svg\" xmlns:xlink=\"http://www.w3.org/1999/xlink\" contentScriptType=\"application/ecmascript\" contentStyleType=\"text/css\" height=\"246px\" preserveAspectRatio=\"none\" style=\"width:316px;height:246px;\" version=\"1.1\" viewBox=\"0 0 316 246\" width=\"316px\" zoomAndPan=\"magnify\"><defs><filter height=\"300%\" id=\"fppxnyd7t4j6q\" width=\"300%\" x=\"-1\" y=\"-1\"><feGaussianBlur result=\"blurOut\" stdDeviation=\"2.0\"/><feColorMatrix in=\"blurOut\" result=\"blurOut2\" type=\"matrix\" values=\"0 0 0 0 0 0 0 0 0 0 0 0 0 0 0 0 0 0 .4 0\"/><feOffset dx=\"4.0\" dy=\"4.0\" in=\"blurOut2\" result=\"blurOut3\"/><feBlend in=\"SourceGraphic\" in2=\"blurOut3\" mode=\"normal\"/></filter></defs><g><!--MD5=[fbc87193dbaf4d95561dea2c320d4a47]\n",
       "cluster E1--><a href=\"psysml:679eaabc-5ff5-4f8e-91e0-c316c2e3864c\" target=\"_top\" title=\"psysml:679eaabc-5ff5-4f8e-91e0-c316c2e3864c\" xlink:actuate=\"onRequest\" xlink:href=\"psysml:679eaabc-5ff5-4f8e-91e0-c316c2e3864c\" xlink:show=\"new\" xlink:title=\"psysml:679eaabc-5ff5-4f8e-91e0-c316c2e3864c\" xlink:type=\"simple\"><polygon fill=\"#FFFFFF\" filter=\"url(#fppxnyd7t4j6q)\" points=\"16,6,163,6,170,28.2969,294,28.2969,294,234,16,234,16,6\" style=\"stroke: #000000; stroke-width: 1.5;\"/><line style=\"stroke: #000000; stroke-width: 1.5;\" x1=\"16\" x2=\"170\" y1=\"28.2969\" y2=\"28.2969\"/><text fill=\"#000000\" font-family=\"sans-serif\" font-size=\"14\" font-weight=\"bold\" lengthAdjust=\"spacingAndGlyphs\" textLength=\"141\" x=\"20\" y=\"20.9951\">PrivateImportTest</text></a><!--MD5=[e4f7fae6ed58524ba242bb0b0d3be6b7]\n",
       "cluster E2--><a href=\"psysml:009bdde2-dc25-4a27-9e47-f33e7b142b72\" target=\"_top\" title=\"psysml:009bdde2-dc25-4a27-9e47-f33e7b142b72\" xlink:actuate=\"onRequest\" xlink:href=\"psysml:009bdde2-dc25-4a27-9e47-f33e7b142b72\" xlink:show=\"new\" xlink:title=\"psysml:009bdde2-dc25-4a27-9e47-f33e7b142b72\" xlink:type=\"simple\"><polygon fill=\"#FFFFFF\" filter=\"url(#fppxnyd7t4j6q)\" points=\"198,119,224,119,231,141.2969,270,141.2969,270,210,198,210,198,119\" style=\"stroke: #000000; stroke-width: 1.5;\"/><line style=\"stroke: #000000; stroke-width: 1.5;\" x1=\"198\" x2=\"231\" y1=\"141.2969\" y2=\"141.2969\"/><text fill=\"#000000\" font-family=\"sans-serif\" font-size=\"14\" font-weight=\"bold\" lengthAdjust=\"spacingAndGlyphs\" textLength=\"20\" x=\"202\" y=\"133.9951\">P1</text></a><!--MD5=[14e3b0961a2654348d326746436168a1]\n",
       "cluster E6--><a href=\"psysml:b0bbce7f-63ab-4038-bed6-f72cdad2d833\" target=\"_top\" title=\"psysml:b0bbce7f-63ab-4038-bed6-f72cdad2d833\" xlink:actuate=\"onRequest\" xlink:href=\"psysml:b0bbce7f-63ab-4038-bed6-f72cdad2d833\" xlink:show=\"new\" xlink:title=\"psysml:b0bbce7f-63ab-4038-bed6-f72cdad2d833\" xlink:type=\"simple\"><polygon fill=\"#FFFFFF\" filter=\"url(#fppxnyd7t4j6q)\" points=\"102,119,128,119,135,141.2969,174,141.2969,174,210,102,210,102,119\" style=\"stroke: #000000; stroke-width: 1.5;\"/><line style=\"stroke: #000000; stroke-width: 1.5;\" x1=\"102\" x2=\"135\" y1=\"141.2969\" y2=\"141.2969\"/><text fill=\"#000000\" font-family=\"sans-serif\" font-size=\"14\" font-weight=\"bold\" lengthAdjust=\"spacingAndGlyphs\" textLength=\"20\" x=\"106\" y=\"133.9951\">P3</text></a><!--MD5=[270fce915f116d4de14055a7c1d9a0f3]\n",
       "class E5--><a href=\"psysml:ae15bfee-df16-4fee-9dc7-bf97e2180cfd\" target=\"_top\" title=\"psysml:ae15bfee-df16-4fee-9dc7-bf97e2180cfd\" xlink:actuate=\"onRequest\" xlink:href=\"psysml:ae15bfee-df16-4fee-9dc7-bf97e2180cfd\" xlink:show=\"new\" xlink:title=\"psysml:ae15bfee-df16-4fee-9dc7-bf97e2180cfd\" xlink:type=\"simple\"><rect fill=\"#FEFECE\" filter=\"url(#fppxnyd7t4j6q)\" height=\"45.9375\" id=\"E5\" rx=\"10\" ry=\"10\" style=\"stroke: #A80036; stroke-width: 1.5;\" width=\"68\" x=\"210\" y=\"44.5\"/><ellipse cx=\"225\" cy=\"63.4688\" fill=\"#32CD32\" rx=\"11\" ry=\"11\" style=\"stroke: #A80036; stroke-width: 1.0;\"/><path d=\"M224.7969,59.1406 L224.7969,62.7656 L225.7969,62.7656 Q227,62.7656 227.4844,62.3594 Q227.9688,61.9531 227.9688,60.9531 Q227.9688,59.9531 227.4844,59.5469 Q227,59.1406 225.7969,59.1406 L224.7969,59.1406 Z M222.3438,57.0781 L225.7031,57.0781 Q228.2656,57.0781 229.3906,58 Q230.5156,58.9063 230.5156,60.9531 Q230.5156,63 229.3906,63.9219 Q228.2656,64.8281 225.7031,64.8281 L224.7969,64.8281 L224.7969,69.4688 L222.3438,69.4688 L222.3438,57.0781 Z \"/><text fill=\"#000000\" font-family=\"sans-serif\" font-size=\"12\" font-style=\"italic\" lengthAdjust=\"spacingAndGlyphs\" textLength=\"40\" x=\"237\" y=\"60.6387\">«part»</text><text fill=\"#000000\" font-family=\"sans-serif\" font-size=\"12\" lengthAdjust=\"spacingAndGlyphs\" textLength=\"22\" x=\"246\" y=\"74.6074\">x: A</text><line style=\"stroke: #A80036; stroke-width: 1.5;\" x1=\"211\" x2=\"277\" y1=\"82.4375\" y2=\"82.4375\"/></a><!--MD5=[b9389687b975829384b498ac4b7476b2]\n",
       "class E8--><a href=\"psysml:977e6037-d806-4fb0-bccf-0c48256693c8\" target=\"_top\" title=\"psysml:977e6037-d806-4fb0-bccf-0c48256693c8\" xlink:actuate=\"onRequest\" xlink:href=\"psysml:977e6037-d806-4fb0-bccf-0c48256693c8\" xlink:show=\"new\" xlink:title=\"psysml:977e6037-d806-4fb0-bccf-0c48256693c8\" xlink:type=\"simple\"><rect fill=\"#FEFECE\" filter=\"url(#fppxnyd7t4j6q)\" height=\"45.9375\" id=\"E8\" rx=\"10\" ry=\"10\" style=\"stroke: #A80036; stroke-width: 1.5;\" width=\"68\" x=\"107\" y=\"44.5\"/><ellipse cx=\"122\" cy=\"63.4688\" fill=\"#32CD32\" rx=\"11\" ry=\"11\" style=\"stroke: #A80036; stroke-width: 1.0;\"/><path d=\"M121.7969,59.1406 L121.7969,62.7656 L122.7969,62.7656 Q124,62.7656 124.4844,62.3594 Q124.9688,61.9531 124.9688,60.9531 Q124.9688,59.9531 124.4844,59.5469 Q124,59.1406 122.7969,59.1406 L121.7969,59.1406 Z M119.3438,57.0781 L122.7031,57.0781 Q125.2656,57.0781 126.3906,58 Q127.5156,58.9063 127.5156,60.9531 Q127.5156,63 126.3906,63.9219 Q125.2656,64.8281 122.7031,64.8281 L121.7969,64.8281 L121.7969,69.4688 L119.3438,69.4688 L119.3438,57.0781 Z \"/><text fill=\"#000000\" font-family=\"sans-serif\" font-size=\"12\" font-style=\"italic\" lengthAdjust=\"spacingAndGlyphs\" textLength=\"40\" x=\"134\" y=\"60.6387\">«part»</text><text fill=\"#000000\" font-family=\"sans-serif\" font-size=\"12\" lengthAdjust=\"spacingAndGlyphs\" textLength=\"21\" x=\"143.5\" y=\"74.6074\">z: B</text><line style=\"stroke: #A80036; stroke-width: 1.5;\" x1=\"108\" x2=\"174\" y1=\"82.4375\" y2=\"82.4375\"/></a><!--MD5=[09b614a08d8cba4a07c9adeb5e0fee81]\n",
       "class E3--><a href=\"psysml:3f36db9e-42d3-4087-b2e1-ec91d884c8c4\" target=\"_top\" title=\"psysml:3f36db9e-42d3-4087-b2e1-ec91d884c8c4\" xlink:actuate=\"onRequest\" xlink:href=\"psysml:3f36db9e-42d3-4087-b2e1-ec91d884c8c4\" xlink:show=\"new\" xlink:title=\"psysml:3f36db9e-42d3-4087-b2e1-ec91d884c8c4\" xlink:type=\"simple\"><rect fill=\"#FEFECE\" filter=\"url(#fppxnyd7t4j6q)\" height=\"40\" id=\"E3\" style=\"stroke: #A80036; stroke-width: 1.5;\" width=\"40\" x=\"214\" y=\"154\"/><ellipse cx=\"229\" cy=\"170\" fill=\"#008000\" rx=\"11\" ry=\"11\" style=\"stroke: #A80036; stroke-width: 1.0;\"/><path d=\"M227.9063,170.375 L227.9063,174.0469 L229.5313,174.0469 Q230.7031,174.0469 231.1719,173.6563 Q231.6406,173.25 231.6406,172.25 Q231.6406,171.25 231.1406,170.8125 Q230.6563,170.375 229.5313,170.375 L227.9063,170.375 Z M227.9063,165.5469 L227.9063,168.4219 L229.5313,168.4219 Q230.4531,168.4219 230.8438,168.0938 Q231.25,167.75 231.25,167 Q231.25,166.2344 230.8438,165.8906 Q230.4375,165.5469 229.5313,165.5469 L227.9063,165.5469 Z M225.5313,163.5938 L229.5313,163.5938 Q231.5938,163.5938 232.6406,164.375 Q233.6875,165.1563 233.6875,166.7188 Q233.6875,167.9219 233.0625,168.5938 Q232.4531,169.2656 231.2656,169.375 Q232.6875,169.5156 233.4063,170.3281 Q234.125,171.1406 234.125,172.5938 Q234.125,174.3906 233.0469,175.2031 Q231.9688,176 229.5313,176 L225.5313,176 L225.5313,163.5938 Z \"/><text fill=\"#000000\" font-family=\"sans-serif\" font-size=\"12\" lengthAdjust=\"spacingAndGlyphs\" textLength=\"8\" x=\"243\" y=\"174.1543\">A</text><line style=\"stroke: #A80036; stroke-width: 1.5;\" x1=\"215\" x2=\"253\" y1=\"186\" y2=\"186\"/></a><a href=\"psysml:6aec89c6-9258-4c03-89c0-e79f913ee5de\" target=\"_top\" title=\"psysml:6aec89c6-9258-4c03-89c0-e79f913ee5de\" xlink:actuate=\"onRequest\" xlink:href=\"psysml:6aec89c6-9258-4c03-89c0-e79f913ee5de\" xlink:show=\"new\" xlink:title=\"psysml:6aec89c6-9258-4c03-89c0-e79f913ee5de\" xlink:type=\"simple\"><polygon fill=\"#FFFFFF\" filter=\"url(#fppxnyd7t4j6q)\" points=\"32,41,58,41,65,63.2969,72,63.2969,72,93.5938,32,93.5938,32,41\" style=\"stroke: #000000; stroke-width: 1.5;\"/><line style=\"stroke: #000000; stroke-width: 1.5;\" x1=\"32\" x2=\"65\" y1=\"63.2969\" y2=\"63.2969\"/><text fill=\"#000000\" font-family=\"sans-serif\" font-size=\"14\" font-weight=\"bold\" lengthAdjust=\"spacingAndGlyphs\" textLength=\"20\" x=\"36\" y=\"55.9951\">P2</text></a><!--MD5=[2156ba9850f5573cc1fc38a6a4b2f02b]\n",
       "class E7--><a href=\"psysml:0f9466c7-ef71-48bc-a930-ec3e2c1a2c86\" target=\"_top\" title=\"psysml:0f9466c7-ef71-48bc-a930-ec3e2c1a2c86\" xlink:actuate=\"onRequest\" xlink:href=\"psysml:0f9466c7-ef71-48bc-a930-ec3e2c1a2c86\" xlink:show=\"new\" xlink:title=\"psysml:0f9466c7-ef71-48bc-a930-ec3e2c1a2c86\" xlink:type=\"simple\"><rect fill=\"#FEFECE\" filter=\"url(#fppxnyd7t4j6q)\" height=\"40\" id=\"E7\" style=\"stroke: #A80036; stroke-width: 1.5;\" width=\"40\" x=\"118\" y=\"154\"/><ellipse cx=\"133\" cy=\"170\" fill=\"#008000\" rx=\"11\" ry=\"11\" style=\"stroke: #A80036; stroke-width: 1.0;\"/><path d=\"M131.9063,170.375 L131.9063,174.0469 L133.5313,174.0469 Q134.7031,174.0469 135.1719,173.6563 Q135.6406,173.25 135.6406,172.25 Q135.6406,171.25 135.1406,170.8125 Q134.6563,170.375 133.5313,170.375 L131.9063,170.375 Z M131.9063,165.5469 L131.9063,168.4219 L133.5313,168.4219 Q134.4531,168.4219 134.8438,168.0938 Q135.25,167.75 135.25,167 Q135.25,166.2344 134.8438,165.8906 Q134.4375,165.5469 133.5313,165.5469 L131.9063,165.5469 Z M129.5313,163.5938 L133.5313,163.5938 Q135.5938,163.5938 136.6406,164.375 Q137.6875,165.1563 137.6875,166.7188 Q137.6875,167.9219 137.0625,168.5938 Q136.4531,169.2656 135.2656,169.375 Q136.6875,169.5156 137.4063,170.3281 Q138.125,171.1406 138.125,172.5938 Q138.125,174.3906 137.0469,175.2031 Q135.9688,176 133.5313,176 L129.5313,176 L129.5313,163.5938 Z \"/><text fill=\"#000000\" font-family=\"sans-serif\" font-size=\"12\" lengthAdjust=\"spacingAndGlyphs\" textLength=\"8\" x=\"147\" y=\"174.1543\">B</text><line style=\"stroke: #A80036; stroke-width: 1.5;\" x1=\"119\" x2=\"157\" y1=\"186\" y2=\"186\"/></a><!--MD5=[e9be52314489bd878ff4c7144b63c9e1]\n",
       "link E5 to E3--><a href=\"psysml:fc52ff88-f6bf-464b-a9f6-50c073522383\" target=\"_top\" title=\"psysml:fc52ff88-f6bf-464b-a9f6-50c073522383\" xlink:actuate=\"onRequest\" xlink:href=\"psysml:fc52ff88-f6bf-464b-a9f6-50c073522383\" xlink:show=\"new\" xlink:title=\"psysml:fc52ff88-f6bf-464b-a9f6-50c073522383\" xlink:type=\"simple\"><path d=\"M241.88,90.66 C240.68,103.15 239.16,119.11 237.77,133.65 \" fill=\"none\" id=\"E5-&gt;E3\" style=\"stroke: #A80036; stroke-width: 1.0;\"/><polygon fill=\"#FFFFFF\" points=\"235.85,153.68,230.7015,134.097,244.6371,135.4376,235.85,153.68\" style=\"stroke: #A80036; stroke-width: 1.0;\"/><ellipse cx=\"233.2381\" cy=\"128.6147\" fill=\"#A80036\" rx=\"2\" ry=\"2\" style=\"stroke: #A80036; stroke-width: 1.0;\"/><ellipse cx=\"243.1921\" cy=\"129.5723\" fill=\"#A80036\" rx=\"2\" ry=\"2\" style=\"stroke: #A80036; stroke-width: 1.0;\"/></a><!--MD5=[bfa3c8b0d15052fdf50ae9310b491027]\n",
       "link E8 to E7--><a href=\"psysml:46d3b5b8-edad-416f-ae7d-d25648abca20\" target=\"_top\" title=\"psysml:46d3b5b8-edad-416f-ae7d-d25648abca20\" xlink:actuate=\"onRequest\" xlink:href=\"psysml:46d3b5b8-edad-416f-ae7d-d25648abca20\" xlink:show=\"new\" xlink:title=\"psysml:46d3b5b8-edad-416f-ae7d-d25648abca20\" xlink:type=\"simple\"><path d=\"M140.36,90.66 C140.01,103.15 139.55,119.11 139.13,133.65 \" fill=\"none\" id=\"E8-&gt;E7\" style=\"stroke: #A80036; stroke-width: 1.0;\"/><polygon fill=\"#FFFFFF\" points=\"138.55,153.68,132.0955,134.4878,146.0898,134.8877,138.55,153.68\" style=\"stroke: #A80036; stroke-width: 1.0;\"/><ellipse cx=\"134.2575\" cy=\"128.8473\" fill=\"#A80036\" rx=\"2\" ry=\"2\" style=\"stroke: #A80036; stroke-width: 1.0;\"/><ellipse cx=\"144.2534\" cy=\"129.1329\" fill=\"#A80036\" rx=\"2\" ry=\"2\" style=\"stroke: #A80036; stroke-width: 1.0;\"/></a><!--MD5=[42f651cba697d63405a0e4245d034942]\n",
       "@startuml\r\n",
       " \r\n",
       "package \"PrivateImportTest\" as E1  [[psysml:679eaabc-5ff5-4f8e-91e0-c316c2e3864c ]]  {\r\n",
       "package \"P1\" as E2  [[psysml:009bdde2-dc25-4a27-9e47-f33e7b142b72 ]]  {\r\n",
       "comp def \"A\" as E3  << (B,green) >> [[psysml:3f36db9e-42d3-4087-b2e1-ec91d884c8c4 ]] {\r\n",
       "}\r\n",
       "}\r\n",
       "package \"P2\" as E4  [[psysml:6aec89c6-9258-4c03-89c0-e79f913ee5de ]]  {\r\n",
       "}\r\n",
       "comp usage \"x: A\" as E5  << (P,limegreen) part>> [[psysml:ae15bfee-df16-4fee-9dc7-bf97e2180cfd ]] {\r\n",
       "}\r\n",
       "package \"P3\" as E6  [[psysml:b0bbce7f-63ab-4038-bed6-f72cdad2d833 ]]  {\r\n",
       "comp def \"B\" as E7  << (B,green) >> [[psysml:0f9466c7-ef71-48bc-a930-ec3e2c1a2c86 ]] {\r\n",
       "}\r\n",
       "E5 - -:|> E3 [[psysml:fc52ff88-f6bf-464b-a9f6-50c073522383 ]] \r\n",
       "}\r\n",
       "comp usage \"z: B\" as E8  << (P,limegreen) part>> [[psysml:977e6037-d806-4fb0-bccf-0c48256693c8 ]] {\r\n",
       "}\r\n",
       "E8 - -:|> E7 [[psysml:46d3b5b8-edad-416f-ae7d-d25648abca20 ]] \r\n",
       "}\r\n",
       "@enduml\r\n",
       "\n",
       "PlantUML version 1.2020.13(Sat Jun 13 12:26:38 UTC 2020)\n",
       "(EPL source distribution)\n",
       "Java Runtime: OpenJDK Runtime Environment\n",
       "JVM: OpenJDK 64-Bit Server VM\n",
       "Default Encoding: UTF-8\n",
       "Language: en\n",
       "Country: null\n",
       "--></g></svg>"
      ]
     },
     "execution_count": 30,
     "metadata": {},
     "output_type": "execute_result"
    }
   ],
   "source": [
    "%viz --style=\"PLANTUML\" --view=\"Default\" \"PrivateImportTest\""
   ]
  },
  {
   "cell_type": "code",
   "execution_count": 31,
   "id": "danish-vehicle",
   "metadata": {
    "execution": {
     "iopub.execute_input": "2021-03-24T16:28:05.502067Z",
     "iopub.status.busy": "2021-03-24T16:28:05.501483Z",
     "iopub.status.idle": "2021-03-24T16:28:05.534703Z",
     "shell.execute_reply": "2021-03-24T16:28:05.533507Z"
    }
   },
   "outputs": [
    {
     "data": {
      "image/svg+xml": [
       "<?xml version=\"1.0\" encoding=\"UTF-8\" standalone=\"no\"?><svg xmlns=\"http://www.w3.org/2000/svg\" xmlns:xlink=\"http://www.w3.org/1999/xlink\" contentScriptType=\"application/ecmascript\" contentStyleType=\"text/css\" height=\"246px\" preserveAspectRatio=\"none\" style=\"width:316px;height:246px;\" version=\"1.1\" viewBox=\"0 0 316 246\" width=\"316px\" zoomAndPan=\"magnify\"><defs><filter height=\"300%\" id=\"fppxnyd7t4j6q\" width=\"300%\" x=\"-1\" y=\"-1\"><feGaussianBlur result=\"blurOut\" stdDeviation=\"2.0\"/><feColorMatrix in=\"blurOut\" result=\"blurOut2\" type=\"matrix\" values=\"0 0 0 0 0 0 0 0 0 0 0 0 0 0 0 0 0 0 .4 0\"/><feOffset dx=\"4.0\" dy=\"4.0\" in=\"blurOut2\" result=\"blurOut3\"/><feBlend in=\"SourceGraphic\" in2=\"blurOut3\" mode=\"normal\"/></filter></defs><g><!--MD5=[fbc87193dbaf4d95561dea2c320d4a47]\n",
       "cluster E1--><a href=\"psysml:679eaabc-5ff5-4f8e-91e0-c316c2e3864c\" target=\"_top\" title=\"psysml:679eaabc-5ff5-4f8e-91e0-c316c2e3864c\" xlink:actuate=\"onRequest\" xlink:href=\"psysml:679eaabc-5ff5-4f8e-91e0-c316c2e3864c\" xlink:show=\"new\" xlink:title=\"psysml:679eaabc-5ff5-4f8e-91e0-c316c2e3864c\" xlink:type=\"simple\"><polygon fill=\"#FFFFFF\" filter=\"url(#fppxnyd7t4j6q)\" points=\"16,6,163,6,170,28.2969,294,28.2969,294,234,16,234,16,6\" style=\"stroke: #000000; stroke-width: 1.5;\"/><line style=\"stroke: #000000; stroke-width: 1.5;\" x1=\"16\" x2=\"170\" y1=\"28.2969\" y2=\"28.2969\"/><text fill=\"#000000\" font-family=\"sans-serif\" font-size=\"14\" font-weight=\"bold\" lengthAdjust=\"spacingAndGlyphs\" textLength=\"141\" x=\"20\" y=\"20.9951\">PrivateImportTest</text></a><!--MD5=[e4f7fae6ed58524ba242bb0b0d3be6b7]\n",
       "cluster E2--><a href=\"psysml:009bdde2-dc25-4a27-9e47-f33e7b142b72\" target=\"_top\" title=\"psysml:009bdde2-dc25-4a27-9e47-f33e7b142b72\" xlink:actuate=\"onRequest\" xlink:href=\"psysml:009bdde2-dc25-4a27-9e47-f33e7b142b72\" xlink:show=\"new\" xlink:title=\"psysml:009bdde2-dc25-4a27-9e47-f33e7b142b72\" xlink:type=\"simple\"><polygon fill=\"#FFFFFF\" filter=\"url(#fppxnyd7t4j6q)\" points=\"198,119,224,119,231,141.2969,270,141.2969,270,210,198,210,198,119\" style=\"stroke: #000000; stroke-width: 1.5;\"/><line style=\"stroke: #000000; stroke-width: 1.5;\" x1=\"198\" x2=\"231\" y1=\"141.2969\" y2=\"141.2969\"/><text fill=\"#000000\" font-family=\"sans-serif\" font-size=\"14\" font-weight=\"bold\" lengthAdjust=\"spacingAndGlyphs\" textLength=\"20\" x=\"202\" y=\"133.9951\">P1</text></a><!--MD5=[14e3b0961a2654348d326746436168a1]\n",
       "cluster E6--><a href=\"psysml:b0bbce7f-63ab-4038-bed6-f72cdad2d833\" target=\"_top\" title=\"psysml:b0bbce7f-63ab-4038-bed6-f72cdad2d833\" xlink:actuate=\"onRequest\" xlink:href=\"psysml:b0bbce7f-63ab-4038-bed6-f72cdad2d833\" xlink:show=\"new\" xlink:title=\"psysml:b0bbce7f-63ab-4038-bed6-f72cdad2d833\" xlink:type=\"simple\"><polygon fill=\"#FFFFFF\" filter=\"url(#fppxnyd7t4j6q)\" points=\"102,119,128,119,135,141.2969,174,141.2969,174,210,102,210,102,119\" style=\"stroke: #000000; stroke-width: 1.5;\"/><line style=\"stroke: #000000; stroke-width: 1.5;\" x1=\"102\" x2=\"135\" y1=\"141.2969\" y2=\"141.2969\"/><text fill=\"#000000\" font-family=\"sans-serif\" font-size=\"14\" font-weight=\"bold\" lengthAdjust=\"spacingAndGlyphs\" textLength=\"20\" x=\"106\" y=\"133.9951\">P3</text></a><!--MD5=[270fce915f116d4de14055a7c1d9a0f3]\n",
       "class E5--><a href=\"psysml:ae15bfee-df16-4fee-9dc7-bf97e2180cfd\" target=\"_top\" title=\"psysml:ae15bfee-df16-4fee-9dc7-bf97e2180cfd\" xlink:actuate=\"onRequest\" xlink:href=\"psysml:ae15bfee-df16-4fee-9dc7-bf97e2180cfd\" xlink:show=\"new\" xlink:title=\"psysml:ae15bfee-df16-4fee-9dc7-bf97e2180cfd\" xlink:type=\"simple\"><rect fill=\"#FEFECE\" filter=\"url(#fppxnyd7t4j6q)\" height=\"45.9375\" id=\"E5\" rx=\"10\" ry=\"10\" style=\"stroke: #A80036; stroke-width: 1.5;\" width=\"68\" x=\"210\" y=\"44.5\"/><ellipse cx=\"225\" cy=\"63.4688\" fill=\"#32CD32\" rx=\"11\" ry=\"11\" style=\"stroke: #A80036; stroke-width: 1.0;\"/><path d=\"M224.7969,59.1406 L224.7969,62.7656 L225.7969,62.7656 Q227,62.7656 227.4844,62.3594 Q227.9688,61.9531 227.9688,60.9531 Q227.9688,59.9531 227.4844,59.5469 Q227,59.1406 225.7969,59.1406 L224.7969,59.1406 Z M222.3438,57.0781 L225.7031,57.0781 Q228.2656,57.0781 229.3906,58 Q230.5156,58.9063 230.5156,60.9531 Q230.5156,63 229.3906,63.9219 Q228.2656,64.8281 225.7031,64.8281 L224.7969,64.8281 L224.7969,69.4688 L222.3438,69.4688 L222.3438,57.0781 Z \"/><text fill=\"#000000\" font-family=\"sans-serif\" font-size=\"12\" font-style=\"italic\" lengthAdjust=\"spacingAndGlyphs\" textLength=\"40\" x=\"237\" y=\"60.6387\">«part»</text><text fill=\"#000000\" font-family=\"sans-serif\" font-size=\"12\" lengthAdjust=\"spacingAndGlyphs\" textLength=\"22\" x=\"246\" y=\"74.6074\">x: A</text><line style=\"stroke: #A80036; stroke-width: 1.5;\" x1=\"211\" x2=\"277\" y1=\"82.4375\" y2=\"82.4375\"/></a><!--MD5=[b9389687b975829384b498ac4b7476b2]\n",
       "class E8--><a href=\"psysml:977e6037-d806-4fb0-bccf-0c48256693c8\" target=\"_top\" title=\"psysml:977e6037-d806-4fb0-bccf-0c48256693c8\" xlink:actuate=\"onRequest\" xlink:href=\"psysml:977e6037-d806-4fb0-bccf-0c48256693c8\" xlink:show=\"new\" xlink:title=\"psysml:977e6037-d806-4fb0-bccf-0c48256693c8\" xlink:type=\"simple\"><rect fill=\"#FEFECE\" filter=\"url(#fppxnyd7t4j6q)\" height=\"45.9375\" id=\"E8\" rx=\"10\" ry=\"10\" style=\"stroke: #A80036; stroke-width: 1.5;\" width=\"68\" x=\"107\" y=\"44.5\"/><ellipse cx=\"122\" cy=\"63.4688\" fill=\"#32CD32\" rx=\"11\" ry=\"11\" style=\"stroke: #A80036; stroke-width: 1.0;\"/><path d=\"M121.7969,59.1406 L121.7969,62.7656 L122.7969,62.7656 Q124,62.7656 124.4844,62.3594 Q124.9688,61.9531 124.9688,60.9531 Q124.9688,59.9531 124.4844,59.5469 Q124,59.1406 122.7969,59.1406 L121.7969,59.1406 Z M119.3438,57.0781 L122.7031,57.0781 Q125.2656,57.0781 126.3906,58 Q127.5156,58.9063 127.5156,60.9531 Q127.5156,63 126.3906,63.9219 Q125.2656,64.8281 122.7031,64.8281 L121.7969,64.8281 L121.7969,69.4688 L119.3438,69.4688 L119.3438,57.0781 Z \"/><text fill=\"#000000\" font-family=\"sans-serif\" font-size=\"12\" font-style=\"italic\" lengthAdjust=\"spacingAndGlyphs\" textLength=\"40\" x=\"134\" y=\"60.6387\">«part»</text><text fill=\"#000000\" font-family=\"sans-serif\" font-size=\"12\" lengthAdjust=\"spacingAndGlyphs\" textLength=\"21\" x=\"143.5\" y=\"74.6074\">z: B</text><line style=\"stroke: #A80036; stroke-width: 1.5;\" x1=\"108\" x2=\"174\" y1=\"82.4375\" y2=\"82.4375\"/></a><!--MD5=[09b614a08d8cba4a07c9adeb5e0fee81]\n",
       "class E3--><a href=\"psysml:3f36db9e-42d3-4087-b2e1-ec91d884c8c4\" target=\"_top\" title=\"psysml:3f36db9e-42d3-4087-b2e1-ec91d884c8c4\" xlink:actuate=\"onRequest\" xlink:href=\"psysml:3f36db9e-42d3-4087-b2e1-ec91d884c8c4\" xlink:show=\"new\" xlink:title=\"psysml:3f36db9e-42d3-4087-b2e1-ec91d884c8c4\" xlink:type=\"simple\"><rect fill=\"#FEFECE\" filter=\"url(#fppxnyd7t4j6q)\" height=\"40\" id=\"E3\" style=\"stroke: #A80036; stroke-width: 1.5;\" width=\"40\" x=\"214\" y=\"154\"/><ellipse cx=\"229\" cy=\"170\" fill=\"#008000\" rx=\"11\" ry=\"11\" style=\"stroke: #A80036; stroke-width: 1.0;\"/><path d=\"M227.9063,170.375 L227.9063,174.0469 L229.5313,174.0469 Q230.7031,174.0469 231.1719,173.6563 Q231.6406,173.25 231.6406,172.25 Q231.6406,171.25 231.1406,170.8125 Q230.6563,170.375 229.5313,170.375 L227.9063,170.375 Z M227.9063,165.5469 L227.9063,168.4219 L229.5313,168.4219 Q230.4531,168.4219 230.8438,168.0938 Q231.25,167.75 231.25,167 Q231.25,166.2344 230.8438,165.8906 Q230.4375,165.5469 229.5313,165.5469 L227.9063,165.5469 Z M225.5313,163.5938 L229.5313,163.5938 Q231.5938,163.5938 232.6406,164.375 Q233.6875,165.1563 233.6875,166.7188 Q233.6875,167.9219 233.0625,168.5938 Q232.4531,169.2656 231.2656,169.375 Q232.6875,169.5156 233.4063,170.3281 Q234.125,171.1406 234.125,172.5938 Q234.125,174.3906 233.0469,175.2031 Q231.9688,176 229.5313,176 L225.5313,176 L225.5313,163.5938 Z \"/><text fill=\"#000000\" font-family=\"sans-serif\" font-size=\"12\" lengthAdjust=\"spacingAndGlyphs\" textLength=\"8\" x=\"243\" y=\"174.1543\">A</text><line style=\"stroke: #A80036; stroke-width: 1.5;\" x1=\"215\" x2=\"253\" y1=\"186\" y2=\"186\"/></a><a href=\"psysml:6aec89c6-9258-4c03-89c0-e79f913ee5de\" target=\"_top\" title=\"psysml:6aec89c6-9258-4c03-89c0-e79f913ee5de\" xlink:actuate=\"onRequest\" xlink:href=\"psysml:6aec89c6-9258-4c03-89c0-e79f913ee5de\" xlink:show=\"new\" xlink:title=\"psysml:6aec89c6-9258-4c03-89c0-e79f913ee5de\" xlink:type=\"simple\"><polygon fill=\"#FFFFFF\" filter=\"url(#fppxnyd7t4j6q)\" points=\"32,41,58,41,65,63.2969,72,63.2969,72,93.5938,32,93.5938,32,41\" style=\"stroke: #000000; stroke-width: 1.5;\"/><line style=\"stroke: #000000; stroke-width: 1.5;\" x1=\"32\" x2=\"65\" y1=\"63.2969\" y2=\"63.2969\"/><text fill=\"#000000\" font-family=\"sans-serif\" font-size=\"14\" font-weight=\"bold\" lengthAdjust=\"spacingAndGlyphs\" textLength=\"20\" x=\"36\" y=\"55.9951\">P2</text></a><!--MD5=[2156ba9850f5573cc1fc38a6a4b2f02b]\n",
       "class E7--><a href=\"psysml:0f9466c7-ef71-48bc-a930-ec3e2c1a2c86\" target=\"_top\" title=\"psysml:0f9466c7-ef71-48bc-a930-ec3e2c1a2c86\" xlink:actuate=\"onRequest\" xlink:href=\"psysml:0f9466c7-ef71-48bc-a930-ec3e2c1a2c86\" xlink:show=\"new\" xlink:title=\"psysml:0f9466c7-ef71-48bc-a930-ec3e2c1a2c86\" xlink:type=\"simple\"><rect fill=\"#FEFECE\" filter=\"url(#fppxnyd7t4j6q)\" height=\"40\" id=\"E7\" style=\"stroke: #A80036; stroke-width: 1.5;\" width=\"40\" x=\"118\" y=\"154\"/><ellipse cx=\"133\" cy=\"170\" fill=\"#008000\" rx=\"11\" ry=\"11\" style=\"stroke: #A80036; stroke-width: 1.0;\"/><path d=\"M131.9063,170.375 L131.9063,174.0469 L133.5313,174.0469 Q134.7031,174.0469 135.1719,173.6563 Q135.6406,173.25 135.6406,172.25 Q135.6406,171.25 135.1406,170.8125 Q134.6563,170.375 133.5313,170.375 L131.9063,170.375 Z M131.9063,165.5469 L131.9063,168.4219 L133.5313,168.4219 Q134.4531,168.4219 134.8438,168.0938 Q135.25,167.75 135.25,167 Q135.25,166.2344 134.8438,165.8906 Q134.4375,165.5469 133.5313,165.5469 L131.9063,165.5469 Z M129.5313,163.5938 L133.5313,163.5938 Q135.5938,163.5938 136.6406,164.375 Q137.6875,165.1563 137.6875,166.7188 Q137.6875,167.9219 137.0625,168.5938 Q136.4531,169.2656 135.2656,169.375 Q136.6875,169.5156 137.4063,170.3281 Q138.125,171.1406 138.125,172.5938 Q138.125,174.3906 137.0469,175.2031 Q135.9688,176 133.5313,176 L129.5313,176 L129.5313,163.5938 Z \"/><text fill=\"#000000\" font-family=\"sans-serif\" font-size=\"12\" lengthAdjust=\"spacingAndGlyphs\" textLength=\"8\" x=\"147\" y=\"174.1543\">B</text><line style=\"stroke: #A80036; stroke-width: 1.5;\" x1=\"119\" x2=\"157\" y1=\"186\" y2=\"186\"/></a><!--MD5=[e9be52314489bd878ff4c7144b63c9e1]\n",
       "link E5 to E3--><a href=\"psysml:fc52ff88-f6bf-464b-a9f6-50c073522383\" target=\"_top\" title=\"psysml:fc52ff88-f6bf-464b-a9f6-50c073522383\" xlink:actuate=\"onRequest\" xlink:href=\"psysml:fc52ff88-f6bf-464b-a9f6-50c073522383\" xlink:show=\"new\" xlink:title=\"psysml:fc52ff88-f6bf-464b-a9f6-50c073522383\" xlink:type=\"simple\"><path d=\"M241.88,90.66 C240.68,103.15 239.16,119.11 237.77,133.65 \" fill=\"none\" id=\"E5-&gt;E3\" style=\"stroke: #A80036; stroke-width: 1.0;\"/><polygon fill=\"#FFFFFF\" points=\"235.85,153.68,230.7015,134.097,244.6371,135.4376,235.85,153.68\" style=\"stroke: #A80036; stroke-width: 1.0;\"/><ellipse cx=\"233.2381\" cy=\"128.6147\" fill=\"#A80036\" rx=\"2\" ry=\"2\" style=\"stroke: #A80036; stroke-width: 1.0;\"/><ellipse cx=\"243.1921\" cy=\"129.5723\" fill=\"#A80036\" rx=\"2\" ry=\"2\" style=\"stroke: #A80036; stroke-width: 1.0;\"/></a><!--MD5=[bfa3c8b0d15052fdf50ae9310b491027]\n",
       "link E8 to E7--><a href=\"psysml:46d3b5b8-edad-416f-ae7d-d25648abca20\" target=\"_top\" title=\"psysml:46d3b5b8-edad-416f-ae7d-d25648abca20\" xlink:actuate=\"onRequest\" xlink:href=\"psysml:46d3b5b8-edad-416f-ae7d-d25648abca20\" xlink:show=\"new\" xlink:title=\"psysml:46d3b5b8-edad-416f-ae7d-d25648abca20\" xlink:type=\"simple\"><path d=\"M140.36,90.66 C140.01,103.15 139.55,119.11 139.13,133.65 \" fill=\"none\" id=\"E8-&gt;E7\" style=\"stroke: #A80036; stroke-width: 1.0;\"/><polygon fill=\"#FFFFFF\" points=\"138.55,153.68,132.0955,134.4878,146.0898,134.8877,138.55,153.68\" style=\"stroke: #A80036; stroke-width: 1.0;\"/><ellipse cx=\"134.2575\" cy=\"128.8473\" fill=\"#A80036\" rx=\"2\" ry=\"2\" style=\"stroke: #A80036; stroke-width: 1.0;\"/><ellipse cx=\"144.2534\" cy=\"129.1329\" fill=\"#A80036\" rx=\"2\" ry=\"2\" style=\"stroke: #A80036; stroke-width: 1.0;\"/></a><!--MD5=[42f651cba697d63405a0e4245d034942]\n",
       "@startuml\r\n",
       " \r\n",
       "package \"PrivateImportTest\" as E1  [[psysml:679eaabc-5ff5-4f8e-91e0-c316c2e3864c ]]  {\r\n",
       "package \"P1\" as E2  [[psysml:009bdde2-dc25-4a27-9e47-f33e7b142b72 ]]  {\r\n",
       "comp def \"A\" as E3  << (B,green) >> [[psysml:3f36db9e-42d3-4087-b2e1-ec91d884c8c4 ]] {\r\n",
       "}\r\n",
       "}\r\n",
       "package \"P2\" as E4  [[psysml:6aec89c6-9258-4c03-89c0-e79f913ee5de ]]  {\r\n",
       "}\r\n",
       "comp usage \"x: A\" as E5  << (P,limegreen) part>> [[psysml:ae15bfee-df16-4fee-9dc7-bf97e2180cfd ]] {\r\n",
       "}\r\n",
       "package \"P3\" as E6  [[psysml:b0bbce7f-63ab-4038-bed6-f72cdad2d833 ]]  {\r\n",
       "comp def \"B\" as E7  << (B,green) >> [[psysml:0f9466c7-ef71-48bc-a930-ec3e2c1a2c86 ]] {\r\n",
       "}\r\n",
       "E5 - -:|> E3 [[psysml:fc52ff88-f6bf-464b-a9f6-50c073522383 ]] \r\n",
       "}\r\n",
       "comp usage \"z: B\" as E8  << (P,limegreen) part>> [[psysml:977e6037-d806-4fb0-bccf-0c48256693c8 ]] {\r\n",
       "}\r\n",
       "E8 - -:|> E7 [[psysml:46d3b5b8-edad-416f-ae7d-d25648abca20 ]] \r\n",
       "}\r\n",
       "@enduml\r\n",
       "\n",
       "PlantUML version 1.2020.13(Sat Jun 13 12:26:38 UTC 2020)\n",
       "(EPL source distribution)\n",
       "Java Runtime: OpenJDK Runtime Environment\n",
       "JVM: OpenJDK 64-Bit Server VM\n",
       "Default Encoding: UTF-8\n",
       "Language: en\n",
       "Country: null\n",
       "--></g></svg>"
      ]
     },
     "execution_count": 31,
     "metadata": {},
     "output_type": "execute_result"
    }
   ],
   "source": [
    "%viz --style=\"PLANTUML\" --view=\"Tree\" \"PrivateImportTest\""
   ]
  },
  {
   "cell_type": "code",
   "execution_count": 32,
   "id": "hollywood-river",
   "metadata": {
    "execution": {
     "iopub.execute_input": "2021-03-24T16:28:05.586091Z",
     "iopub.status.busy": "2021-03-24T16:28:05.585615Z",
     "iopub.status.idle": "2021-03-24T16:28:05.659989Z",
     "shell.execute_reply": "2021-03-24T16:28:05.658756Z"
    }
   },
   "outputs": [
    {
     "data": {
      "image/svg+xml": [
       "<?xml version=\"1.0\" encoding=\"UTF-8\" standalone=\"no\"?><svg xmlns=\"http://www.w3.org/2000/svg\" xmlns:xlink=\"http://www.w3.org/1999/xlink\" contentScriptType=\"application/ecmascript\" contentStyleType=\"text/css\" height=\"303px\" preserveAspectRatio=\"none\" style=\"width:603px;height:303px;background:#000000;\" version=\"1.1\" viewBox=\"0 0 603 303\" width=\"603px\" zoomAndPan=\"magnify\"><defs/><g><rect fill=\"#211113\" height=\"1\" style=\"stroke: #211113; stroke-width: 1.0;\" width=\"1\" x=\"0\" y=\"0\"/><rect fill=\"#FFFFFF\" height=\"205.5625\" style=\"stroke: #FFFFFF; stroke-width: 1.0;\" width=\"602\" x=\"0\" y=\"0\"/><text fill=\"#000000\" font-family=\"sans-serif\" font-size=\"12\" font-weight=\"bold\" lengthAdjust=\"spacingAndGlyphs\" textLength=\"159\" x=\"5\" y=\"16.1387\">Welcome to PlantUML!</text><text fill=\"#000000\" font-family=\"sans-serif\" font-size=\"12\" lengthAdjust=\"spacingAndGlyphs\" textLength=\"0\" x=\"9\" y=\"30.1074\"/><text fill=\"#000000\" font-family=\"sans-serif\" font-size=\"12\" lengthAdjust=\"spacingAndGlyphs\" textLength=\"293\" x=\"5\" y=\"44.0762\">If you use this software, you accept its license.</text><text fill=\"#000000\" font-family=\"sans-serif\" font-size=\"12\" lengthAdjust=\"spacingAndGlyphs\" textLength=\"107\" x=\"5\" y=\"58.0449\">(details by typing</text><text fill=\"#000000\" font-family=\"monospace\" font-size=\"12\" lengthAdjust=\"spacingAndGlyphs\" textLength=\"49\" x=\"116\" y=\"58.0449\">license</text><text fill=\"#000000\" font-family=\"sans-serif\" font-size=\"12\" lengthAdjust=\"spacingAndGlyphs\" textLength=\"56\" x=\"169\" y=\"58.0449\">keyword)</text><text fill=\"#000000\" font-family=\"sans-serif\" font-size=\"12\" lengthAdjust=\"spacingAndGlyphs\" textLength=\"0\" x=\"9\" y=\"72.0137\"/><text fill=\"#000000\" font-family=\"sans-serif\" font-size=\"12\" lengthAdjust=\"spacingAndGlyphs\" textLength=\"283\" x=\"5\" y=\"85.9824\">You can start with a simple UML Diagram like:</text><text fill=\"#000000\" font-family=\"sans-serif\" font-size=\"12\" lengthAdjust=\"spacingAndGlyphs\" textLength=\"0\" x=\"9\" y=\"99.9512\"/><text fill=\"#000000\" font-family=\"monospace\" font-size=\"12\" lengthAdjust=\"spacingAndGlyphs\" textLength=\"119\" x=\"5\" y=\"113.9199\">Bob-&gt;Alice: Hello</text><text fill=\"#000000\" font-family=\"sans-serif\" font-size=\"12\" lengthAdjust=\"spacingAndGlyphs\" textLength=\"0\" x=\"9\" y=\"127.8887\"/><text fill=\"#000000\" font-family=\"sans-serif\" font-size=\"12\" lengthAdjust=\"spacingAndGlyphs\" textLength=\"14\" x=\"5\" y=\"141.8574\">Or</text><text fill=\"#000000\" font-family=\"sans-serif\" font-size=\"12\" lengthAdjust=\"spacingAndGlyphs\" textLength=\"0\" x=\"9\" y=\"155.8262\"/><text fill=\"#000000\" font-family=\"monospace\" font-size=\"12\" lengthAdjust=\"spacingAndGlyphs\" textLength=\"91\" x=\"5\" y=\"169.7949\">class Example</text><text fill=\"#000000\" font-family=\"sans-serif\" font-size=\"12\" lengthAdjust=\"spacingAndGlyphs\" textLength=\"0\" x=\"9\" y=\"183.7637\"/><text fill=\"#000000\" font-family=\"sans-serif\" font-size=\"12\" lengthAdjust=\"spacingAndGlyphs\" textLength=\"349\" x=\"5\" y=\"197.7324\">You will find more information about PlantUML syntax on</text><text fill=\"#000000\" font-family=\"sans-serif\" font-size=\"12\" lengthAdjust=\"spacingAndGlyphs\" text-decoration=\"underline\" textLength=\"129\" x=\"358\" y=\"197.7324\">https://plantuml.com</text><image height=\"71\" width=\"80\" x=\"516\" xlink:href=\"data:image/png;base64,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\" y=\"6\"/><rect fill=\"#000000\" height=\"96.4844\" style=\"stroke: #000000; stroke-width: 1.0;\" width=\"602\" x=\"0\" y=\"205.5625\"/><rect fill=\"#33FF02\" height=\"21.2969\" style=\"stroke: #33FF02; stroke-width: 1.0;\" width=\"170\" x=\"5\" y=\"210.5625\"/><text fill=\"#000000\" font-family=\"sans-serif\" font-size=\"14\" font-weight=\"bold\" lengthAdjust=\"spacingAndGlyphs\" textLength=\"168\" x=\"6\" y=\"225.5625\">[From string (line 2) ]</text><text fill=\"#33FF02\" font-family=\"sans-serif\" font-size=\"14\" font-weight=\"bold\" lengthAdjust=\"spacingAndGlyphs\" textLength=\"0\" x=\"10\" y=\"245.8594\"/><text fill=\"#33FF02\" font-family=\"sans-serif\" font-size=\"14\" font-weight=\"bold\" lengthAdjust=\"spacingAndGlyphs\" textLength=\"79\" x=\"5\" y=\"262.1563\">@startuml</text><text fill=\"#33FF02\" font-family=\"sans-serif\" font-size=\"14\" font-weight=\"bold\" lengthAdjust=\"spacingAndGlyphs\" textLength=\"0\" x=\"10\" y=\"278.4531\"/><text fill=\"#FF0000\" font-family=\"sans-serif\" font-size=\"14\" font-weight=\"bold\" lengthAdjust=\"spacingAndGlyphs\" textLength=\"142\" x=\"10\" y=\"294.75\">Empty description</text><!--MD5=[f59edd8218d337f74d0c332fc6737304]\n",
       "@startuml\r\n",
       " \r\n",
       "@enduml\r\n",
       "\n",
       "PlantUML version 1.2020.13(Sat Jun 13 12:26:38 UTC 2020)\n",
       "(EPL source distribution)\n",
       "Java Runtime: OpenJDK Runtime Environment\n",
       "JVM: OpenJDK 64-Bit Server VM\n",
       "Default Encoding: UTF-8\n",
       "Language: en\n",
       "Country: null\n",
       "--></g></svg>"
      ]
     },
     "execution_count": 32,
     "metadata": {},
     "output_type": "execute_result"
    }
   ],
   "source": [
    "%viz --style=\"PLANTUML\" --view=\"State\" \"PrivateImportTest\""
   ]
  },
  {
   "cell_type": "code",
   "execution_count": 33,
   "id": "paperback-piano",
   "metadata": {
    "execution": {
     "iopub.execute_input": "2021-03-24T16:28:05.710265Z",
     "iopub.status.busy": "2021-03-24T16:28:05.709853Z",
     "iopub.status.idle": "2021-03-24T16:28:05.737258Z",
     "shell.execute_reply": "2021-03-24T16:28:05.736010Z"
    }
   },
   "outputs": [
    {
     "data": {
      "image/svg+xml": [
       "<?xml version=\"1.0\" encoding=\"UTF-8\" standalone=\"no\"?><svg xmlns=\"http://www.w3.org/2000/svg\" xmlns:xlink=\"http://www.w3.org/1999/xlink\" contentScriptType=\"application/ecmascript\" contentStyleType=\"text/css\" height=\"176px\" preserveAspectRatio=\"none\" style=\"width:513px;height:176px;\" version=\"1.1\" viewBox=\"0 0 513 176\" width=\"513px\" zoomAndPan=\"magnify\"><defs><filter height=\"300%\" id=\"fvkapk2kxpw3p\" width=\"300%\" x=\"-1\" y=\"-1\"><feGaussianBlur result=\"blurOut\" stdDeviation=\"2.0\"/><feColorMatrix in=\"blurOut\" result=\"blurOut2\" type=\"matrix\" values=\"0 0 0 0 0 0 0 0 0 0 0 0 0 0 0 0 0 0 .4 0\"/><feOffset dx=\"4.0\" dy=\"4.0\" in=\"blurOut2\" result=\"blurOut3\"/><feBlend in=\"SourceGraphic\" in2=\"blurOut3\" mode=\"normal\"/></filter></defs><g><!--MD5=[fbc87193dbaf4d95561dea2c320d4a47]\n",
       "cluster E1--><a href=\"psysml:679eaabc-5ff5-4f8e-91e0-c316c2e3864c\" target=\"_top\" title=\"psysml:679eaabc-5ff5-4f8e-91e0-c316c2e3864c\" xlink:actuate=\"onRequest\" xlink:href=\"psysml:679eaabc-5ff5-4f8e-91e0-c316c2e3864c\" xlink:show=\"new\" xlink:title=\"psysml:679eaabc-5ff5-4f8e-91e0-c316c2e3864c\" xlink:type=\"simple\"><polygon fill=\"#FFFFFF\" filter=\"url(#fvkapk2kxpw3p)\" points=\"16,6,163,6,170,28.2969,491,28.2969,491,164,16,164,16,6\" style=\"stroke: #000000; stroke-width: 1.5;\"/><line style=\"stroke: #000000; stroke-width: 1.5;\" x1=\"16\" x2=\"170\" y1=\"28.2969\" y2=\"28.2969\"/><text fill=\"#000000\" font-family=\"sans-serif\" font-size=\"14\" font-weight=\"bold\" lengthAdjust=\"spacingAndGlyphs\" textLength=\"141\" x=\"20\" y=\"20.9951\">PrivateImportTest</text></a><!--MD5=[e4f7fae6ed58524ba242bb0b0d3be6b7]\n",
       "cluster E2--><a href=\"psysml:009bdde2-dc25-4a27-9e47-f33e7b142b72\" target=\"_top\" title=\"psysml:009bdde2-dc25-4a27-9e47-f33e7b142b72\" xlink:actuate=\"onRequest\" xlink:href=\"psysml:009bdde2-dc25-4a27-9e47-f33e7b142b72\" xlink:show=\"new\" xlink:title=\"psysml:009bdde2-dc25-4a27-9e47-f33e7b142b72\" xlink:type=\"simple\"><polygon fill=\"#FFFFFF\" filter=\"url(#fvkapk2kxpw3p)\" points=\"385,49,411,49,418,71.2969,467,71.2969,467,140,385,140,385,49\" style=\"stroke: #000000; stroke-width: 1.5;\"/><line style=\"stroke: #000000; stroke-width: 1.5;\" x1=\"385\" x2=\"418\" y1=\"71.2969\" y2=\"71.2969\"/><text fill=\"#000000\" font-family=\"sans-serif\" font-size=\"14\" font-weight=\"bold\" lengthAdjust=\"spacingAndGlyphs\" textLength=\"20\" x=\"389\" y=\"63.9951\">P1</text></a><!--MD5=[14e3b0961a2654348d326746436168a1]\n",
       "cluster E6--><a href=\"psysml:b0bbce7f-63ab-4038-bed6-f72cdad2d833\" target=\"_top\" title=\"psysml:b0bbce7f-63ab-4038-bed6-f72cdad2d833\" xlink:actuate=\"onRequest\" xlink:href=\"psysml:b0bbce7f-63ab-4038-bed6-f72cdad2d833\" xlink:show=\"new\" xlink:title=\"psysml:b0bbce7f-63ab-4038-bed6-f72cdad2d833\" xlink:type=\"simple\"><polygon fill=\"#FFFFFF\" filter=\"url(#fvkapk2kxpw3p)\" points=\"279,49,305,49,312,71.2969,361,71.2969,361,140,279,140,279,49\" style=\"stroke: #000000; stroke-width: 1.5;\"/><line style=\"stroke: #000000; stroke-width: 1.5;\" x1=\"279\" x2=\"312\" y1=\"71.2969\" y2=\"71.2969\"/><text fill=\"#000000\" font-family=\"sans-serif\" font-size=\"14\" font-weight=\"bold\" lengthAdjust=\"spacingAndGlyphs\" textLength=\"20\" x=\"283\" y=\"63.9951\">P3</text></a><g id=\"E1.E2.E3\"><a href=\"psysml:3f36db9e-42d3-4087-b2e1-ec91d884c8c4\" target=\"_top\" title=\"psysml:3f36db9e-42d3-4087-b2e1-ec91d884c8c4\" xlink:actuate=\"onRequest\" xlink:href=\"psysml:3f36db9e-42d3-4087-b2e1-ec91d884c8c4\" xlink:show=\"new\" xlink:title=\"psysml:3f36db9e-42d3-4087-b2e1-ec91d884c8c4\" xlink:type=\"simple\"><rect fill=\"#FEFECE\" filter=\"url(#fvkapk2kxpw3p)\" height=\"40\" id=\"E3\" style=\"stroke: #A80036; stroke-width: 1.5;\" width=\"50\" x=\"401\" y=\"84\"/><ellipse cx=\"420.5\" cy=\"100\" fill=\"#008000\" rx=\"11\" ry=\"11\" style=\"stroke: #A80036; stroke-width: 1.0;\"/><path d=\"M419.4063,100.375 L419.4063,104.0469 L421.0313,104.0469 Q422.2031,104.0469 422.6719,103.6563 Q423.1406,103.25 423.1406,102.25 Q423.1406,101.25 422.6406,100.8125 Q422.1563,100.375 421.0313,100.375 L419.4063,100.375 Z M419.4063,95.5469 L419.4063,98.4219 L421.0313,98.4219 Q421.9531,98.4219 422.3438,98.0938 Q422.75,97.75 422.75,97 Q422.75,96.2344 422.3438,95.8906 Q421.9375,95.5469 421.0313,95.5469 L419.4063,95.5469 Z M417.0313,93.5938 L421.0313,93.5938 Q423.0938,93.5938 424.1406,94.375 Q425.1875,95.1563 425.1875,96.7188 Q425.1875,97.9219 424.5625,98.5938 Q423.9531,99.2656 422.7656,99.375 Q424.1875,99.5156 424.9063,100.3281 Q425.625,101.1406 425.625,102.5938 Q425.625,104.3906 424.5469,105.2031 Q423.4688,106 421.0313,106 L417.0313,106 L417.0313,93.5938 Z \"/><text fill=\"#000000\" font-family=\"sans-serif\" font-size=\"12\" lengthAdjust=\"spacingAndGlyphs\" textLength=\"8\" x=\"435.5\" y=\"104.1543\">A</text></a></g><a href=\"psysml:6aec89c6-9258-4c03-89c0-e79f913ee5de\" target=\"_top\" title=\"psysml:6aec89c6-9258-4c03-89c0-e79f913ee5de\" xlink:actuate=\"onRequest\" xlink:href=\"psysml:6aec89c6-9258-4c03-89c0-e79f913ee5de\" xlink:show=\"new\" xlink:title=\"psysml:6aec89c6-9258-4c03-89c0-e79f913ee5de\" xlink:type=\"simple\"><polygon fill=\"#FFFFFF\" filter=\"url(#fvkapk2kxpw3p)\" points=\"220,77.5,246,77.5,253,99.7969,260,99.7969,260,130.0938,220,130.0938,220,77.5\" style=\"stroke: #000000; stroke-width: 1.5;\"/><line style=\"stroke: #000000; stroke-width: 1.5;\" x1=\"220\" x2=\"253\" y1=\"99.7969\" y2=\"99.7969\"/><text fill=\"#000000\" font-family=\"sans-serif\" font-size=\"14\" font-weight=\"bold\" lengthAdjust=\"spacingAndGlyphs\" textLength=\"20\" x=\"224\" y=\"92.4951\">P2</text></a><g id=\"E1.E5\"><a href=\"psysml:ae15bfee-df16-4fee-9dc7-bf97e2180cfd\" target=\"_top\" title=\"psysml:ae15bfee-df16-4fee-9dc7-bf97e2180cfd\" xlink:actuate=\"onRequest\" xlink:href=\"psysml:ae15bfee-df16-4fee-9dc7-bf97e2180cfd\" xlink:show=\"new\" xlink:title=\"psysml:ae15bfee-df16-4fee-9dc7-bf97e2180cfd\" xlink:type=\"simple\"><rect fill=\"#FEFECE\" filter=\"url(#fvkapk2kxpw3p)\" height=\"40\" id=\"E5\" rx=\"10\" ry=\"10\" style=\"stroke: #A80036; stroke-width: 1.5;\" width=\"59\" x=\"125.5\" y=\"84\"/><ellipse cx=\"142.75\" cy=\"100\" fill=\"#B6DBBB\" rx=\"11\" ry=\"11\" style=\"stroke: #A80036; stroke-width: 1.0;\"/><path d=\"M138.625,101.9219 L138.625,94.1094 L141.0781,94.1094 L141.0781,102.5469 Q141.0781,103.4688 141.5469,104 Q142.0313,104.5313 142.8594,104.5313 Q143.7031,104.5313 144.1719,104 Q144.6406,103.4688 144.6406,102.5469 L144.6406,94.1094 L147.0938,94.1094 L147.0938,101.9219 Q147.0938,104.4531 146.0938,105.5938 Q145.0938,106.7344 142.8594,106.7344 Q140.6406,106.7344 139.625,105.5938 Q138.625,104.4531 138.625,101.9219 Z \"/><text fill=\"#000000\" font-family=\"sans-serif\" font-size=\"12\" lengthAdjust=\"spacingAndGlyphs\" textLength=\"22\" x=\"157.25\" y=\"104.1543\">x: A</text></a></g><g id=\"E1.E6.E7\"><a href=\"psysml:0f9466c7-ef71-48bc-a930-ec3e2c1a2c86\" target=\"_top\" title=\"psysml:0f9466c7-ef71-48bc-a930-ec3e2c1a2c86\" xlink:actuate=\"onRequest\" xlink:href=\"psysml:0f9466c7-ef71-48bc-a930-ec3e2c1a2c86\" xlink:show=\"new\" xlink:title=\"psysml:0f9466c7-ef71-48bc-a930-ec3e2c1a2c86\" xlink:type=\"simple\"><rect fill=\"#FEFECE\" filter=\"url(#fvkapk2kxpw3p)\" height=\"40\" id=\"E7\" style=\"stroke: #A80036; stroke-width: 1.5;\" width=\"50\" x=\"295\" y=\"84\"/><ellipse cx=\"314.5\" cy=\"100\" fill=\"#008000\" rx=\"11\" ry=\"11\" style=\"stroke: #A80036; stroke-width: 1.0;\"/><path d=\"M313.4063,100.375 L313.4063,104.0469 L315.0313,104.0469 Q316.2031,104.0469 316.6719,103.6563 Q317.1406,103.25 317.1406,102.25 Q317.1406,101.25 316.6406,100.8125 Q316.1563,100.375 315.0313,100.375 L313.4063,100.375 Z M313.4063,95.5469 L313.4063,98.4219 L315.0313,98.4219 Q315.9531,98.4219 316.3438,98.0938 Q316.75,97.75 316.75,97 Q316.75,96.2344 316.3438,95.8906 Q315.9375,95.5469 315.0313,95.5469 L313.4063,95.5469 Z M311.0313,93.5938 L315.0313,93.5938 Q317.0938,93.5938 318.1406,94.375 Q319.1875,95.1563 319.1875,96.7188 Q319.1875,97.9219 318.5625,98.5938 Q317.9531,99.2656 316.7656,99.375 Q318.1875,99.5156 318.9063,100.3281 Q319.625,101.1406 319.625,102.5938 Q319.625,104.3906 318.5469,105.2031 Q317.4688,106 315.0313,106 L311.0313,106 L311.0313,93.5938 Z \"/><text fill=\"#000000\" font-family=\"sans-serif\" font-size=\"12\" lengthAdjust=\"spacingAndGlyphs\" textLength=\"8\" x=\"329.5\" y=\"104.1543\">B</text></a></g><g id=\"E1.E8\"><a href=\"psysml:977e6037-d806-4fb0-bccf-0c48256693c8\" target=\"_top\" title=\"psysml:977e6037-d806-4fb0-bccf-0c48256693c8\" xlink:actuate=\"onRequest\" xlink:href=\"psysml:977e6037-d806-4fb0-bccf-0c48256693c8\" xlink:show=\"new\" xlink:title=\"psysml:977e6037-d806-4fb0-bccf-0c48256693c8\" xlink:type=\"simple\"><rect fill=\"#FEFECE\" filter=\"url(#fvkapk2kxpw3p)\" height=\"40\" id=\"E8\" rx=\"10\" ry=\"10\" style=\"stroke: #A80036; stroke-width: 1.5;\" width=\"58\" x=\"32\" y=\"84\"/><ellipse cx=\"49.25\" cy=\"100\" fill=\"#B6DBBB\" rx=\"11\" ry=\"11\" style=\"stroke: #A80036; stroke-width: 1.0;\"/><path d=\"M45.125,101.9219 L45.125,94.1094 L47.5781,94.1094 L47.5781,102.5469 Q47.5781,103.4688 48.0469,104 Q48.5313,104.5313 49.3594,104.5313 Q50.2031,104.5313 50.6719,104 Q51.1406,103.4688 51.1406,102.5469 L51.1406,94.1094 L53.5938,94.1094 L53.5938,101.9219 Q53.5938,104.4531 52.5938,105.5938 Q51.5938,106.7344 49.3594,106.7344 Q47.1406,106.7344 46.125,105.5938 Q45.125,104.4531 45.125,101.9219 Z \"/><text fill=\"#000000\" font-family=\"sans-serif\" font-size=\"12\" lengthAdjust=\"spacingAndGlyphs\" textLength=\"21\" x=\"63.75\" y=\"104.1543\">z: B</text></a></g><!--MD5=[53f44a878ac9d25b04938fc0d739d205]\n",
       "@startuml\r\n",
       "skinparam ranksep 10\r\n",
       "skinparam rectangle {\r\n",
       " backgroundColor<<block>> LightGreen\r\n",
       "}\r\n",
       " \r\n",
       "package \"PrivateImportTest\" as E1  [[psysml:679eaabc-5ff5-4f8e-91e0-c316c2e3864c ]]  {\r\n",
       "package \"P1\" as E2  [[psysml:009bdde2-dc25-4a27-9e47-f33e7b142b72 ]]  {\r\n",
       "rec def \"A\" as E3  << (B,green) >> [[psysml:3f36db9e-42d3-4087-b2e1-ec91d884c8c4 ]] {\r\n",
       "}\r\n",
       "}\r\n",
       "package \"P2\" as E4  [[psysml:6aec89c6-9258-4c03-89c0-e79f913ee5de ]]  {\r\n",
       "}\r\n",
       "rec usage \"x: A\" as E5  [[psysml:ae15bfee-df16-4fee-9dc7-bf97e2180cfd ]] {\r\n",
       "}\r\n",
       "package \"P3\" as E6  [[psysml:b0bbce7f-63ab-4038-bed6-f72cdad2d833 ]]  {\r\n",
       "rec def \"B\" as E7  << (B,green) >> [[psysml:0f9466c7-ef71-48bc-a930-ec3e2c1a2c86 ]] {\r\n",
       "}\r\n",
       "}\r\n",
       "rec usage \"z: B\" as E8  [[psysml:977e6037-d806-4fb0-bccf-0c48256693c8 ]] {\r\n",
       "}\r\n",
       "}\r\n",
       "@enduml\r\n",
       "\n",
       "PlantUML version 1.2020.13(Sat Jun 13 12:26:38 UTC 2020)\n",
       "(EPL source distribution)\n",
       "Java Runtime: OpenJDK Runtime Environment\n",
       "JVM: OpenJDK 64-Bit Server VM\n",
       "Default Encoding: UTF-8\n",
       "Language: en\n",
       "Country: null\n",
       "--></g></svg>"
      ]
     },
     "execution_count": 33,
     "metadata": {},
     "output_type": "execute_result"
    }
   ],
   "source": [
    "%viz --style=\"PLANTUML\" --view=\"Interconnection\" \"PrivateImportTest\""
   ]
  },
  {
   "cell_type": "code",
   "execution_count": 34,
   "id": "permanent-lightning",
   "metadata": {
    "execution": {
     "iopub.execute_input": "2021-03-24T16:28:05.787772Z",
     "iopub.status.busy": "2021-03-24T16:28:05.787430Z",
     "iopub.status.idle": "2021-03-24T16:28:05.791912Z",
     "shell.execute_reply": "2021-03-24T16:28:05.791524Z"
    }
   },
   "outputs": [
    {
     "data": {
      "image/svg+xml": [
       "<?xml version=\"1.0\" encoding=\"UTF-8\" standalone=\"no\"?><svg xmlns=\"http://www.w3.org/2000/svg\" xmlns:xlink=\"http://www.w3.org/1999/xlink\" contentScriptType=\"application/ecmascript\" contentStyleType=\"text/css\" height=\"12px\" preserveAspectRatio=\"none\" style=\"width:12px;height:12px;\" version=\"1.1\" viewBox=\"0 0 12 12\" width=\"12px\" zoomAndPan=\"magnify\"><defs/><g><!--MD5=[6a4cb978cab31700e1ce5529f947a75d]\n",
       "@startuml\r\n",
       "skinparam ranksep 8\r\n",
       " \r\n",
       "@enduml\r\n",
       "\n",
       "PlantUML version 1.2020.13(Sat Jun 13 12:26:38 UTC 2020)\n",
       "(EPL source distribution)\n",
       "Java Runtime: OpenJDK Runtime Environment\n",
       "JVM: OpenJDK 64-Bit Server VM\n",
       "Default Encoding: UTF-8\n",
       "Language: en\n",
       "Country: null\n",
       "--></g></svg>"
      ]
     },
     "execution_count": 34,
     "metadata": {},
     "output_type": "execute_result"
    }
   ],
   "source": [
    "%viz --style=\"PLANTUML\" --view=\"Action\" \"PrivateImportTest\""
   ]
  },
  {
   "cell_type": "code",
   "execution_count": 35,
   "id": "elementary-petroleum",
   "metadata": {
    "execution": {
     "iopub.execute_input": "2021-03-24T16:28:05.842428Z",
     "iopub.status.busy": "2021-03-24T16:28:05.842020Z",
     "iopub.status.idle": "2021-03-24T16:28:05.870628Z",
     "shell.execute_reply": "2021-03-24T16:28:05.869340Z"
    }
   },
   "outputs": [
    {
     "data": {
      "image/svg+xml": [
       "<?xml version=\"1.0\" encoding=\"UTF-8\" standalone=\"no\"?><svg xmlns=\"http://www.w3.org/2000/svg\" xmlns:xlink=\"http://www.w3.org/1999/xlink\" contentScriptType=\"application/ecmascript\" contentStyleType=\"text/css\" height=\"246px\" preserveAspectRatio=\"none\" style=\"width:316px;height:246px;\" version=\"1.1\" viewBox=\"0 0 316 246\" width=\"316px\" zoomAndPan=\"magnify\"><defs><filter height=\"300%\" id=\"fppxnyd7t4j6q\" width=\"300%\" x=\"-1\" y=\"-1\"><feGaussianBlur result=\"blurOut\" stdDeviation=\"2.0\"/><feColorMatrix in=\"blurOut\" result=\"blurOut2\" type=\"matrix\" values=\"0 0 0 0 0 0 0 0 0 0 0 0 0 0 0 0 0 0 .4 0\"/><feOffset dx=\"4.0\" dy=\"4.0\" in=\"blurOut2\" result=\"blurOut3\"/><feBlend in=\"SourceGraphic\" in2=\"blurOut3\" mode=\"normal\"/></filter></defs><g><!--MD5=[fbc87193dbaf4d95561dea2c320d4a47]\n",
       "cluster E1--><a href=\"psysml:679eaabc-5ff5-4f8e-91e0-c316c2e3864c\" target=\"_top\" title=\"psysml:679eaabc-5ff5-4f8e-91e0-c316c2e3864c\" xlink:actuate=\"onRequest\" xlink:href=\"psysml:679eaabc-5ff5-4f8e-91e0-c316c2e3864c\" xlink:show=\"new\" xlink:title=\"psysml:679eaabc-5ff5-4f8e-91e0-c316c2e3864c\" xlink:type=\"simple\"><polygon fill=\"#FFFFFF\" filter=\"url(#fppxnyd7t4j6q)\" points=\"16,6,163,6,170,28.2969,294,28.2969,294,234,16,234,16,6\" style=\"stroke: #000000; stroke-width: 1.5;\"/><line style=\"stroke: #000000; stroke-width: 1.5;\" x1=\"16\" x2=\"170\" y1=\"28.2969\" y2=\"28.2969\"/><text fill=\"#000000\" font-family=\"sans-serif\" font-size=\"14\" font-weight=\"bold\" lengthAdjust=\"spacingAndGlyphs\" textLength=\"141\" x=\"20\" y=\"20.9951\">PrivateImportTest</text></a><!--MD5=[e4f7fae6ed58524ba242bb0b0d3be6b7]\n",
       "cluster E2--><a href=\"psysml:009bdde2-dc25-4a27-9e47-f33e7b142b72\" target=\"_top\" title=\"psysml:009bdde2-dc25-4a27-9e47-f33e7b142b72\" xlink:actuate=\"onRequest\" xlink:href=\"psysml:009bdde2-dc25-4a27-9e47-f33e7b142b72\" xlink:show=\"new\" xlink:title=\"psysml:009bdde2-dc25-4a27-9e47-f33e7b142b72\" xlink:type=\"simple\"><polygon fill=\"#FFFFFF\" filter=\"url(#fppxnyd7t4j6q)\" points=\"198,119,224,119,231,141.2969,270,141.2969,270,210,198,210,198,119\" style=\"stroke: #000000; stroke-width: 1.5;\"/><line style=\"stroke: #000000; stroke-width: 1.5;\" x1=\"198\" x2=\"231\" y1=\"141.2969\" y2=\"141.2969\"/><text fill=\"#000000\" font-family=\"sans-serif\" font-size=\"14\" font-weight=\"bold\" lengthAdjust=\"spacingAndGlyphs\" textLength=\"20\" x=\"202\" y=\"133.9951\">P1</text></a><!--MD5=[14e3b0961a2654348d326746436168a1]\n",
       "cluster E6--><a href=\"psysml:b0bbce7f-63ab-4038-bed6-f72cdad2d833\" target=\"_top\" title=\"psysml:b0bbce7f-63ab-4038-bed6-f72cdad2d833\" xlink:actuate=\"onRequest\" xlink:href=\"psysml:b0bbce7f-63ab-4038-bed6-f72cdad2d833\" xlink:show=\"new\" xlink:title=\"psysml:b0bbce7f-63ab-4038-bed6-f72cdad2d833\" xlink:type=\"simple\"><polygon fill=\"#FFFFFF\" filter=\"url(#fppxnyd7t4j6q)\" points=\"102,119,128,119,135,141.2969,174,141.2969,174,210,102,210,102,119\" style=\"stroke: #000000; stroke-width: 1.5;\"/><line style=\"stroke: #000000; stroke-width: 1.5;\" x1=\"102\" x2=\"135\" y1=\"141.2969\" y2=\"141.2969\"/><text fill=\"#000000\" font-family=\"sans-serif\" font-size=\"14\" font-weight=\"bold\" lengthAdjust=\"spacingAndGlyphs\" textLength=\"20\" x=\"106\" y=\"133.9951\">P3</text></a><!--MD5=[270fce915f116d4de14055a7c1d9a0f3]\n",
       "class E5--><a href=\"psysml:ae15bfee-df16-4fee-9dc7-bf97e2180cfd\" target=\"_top\" title=\"psysml:ae15bfee-df16-4fee-9dc7-bf97e2180cfd\" xlink:actuate=\"onRequest\" xlink:href=\"psysml:ae15bfee-df16-4fee-9dc7-bf97e2180cfd\" xlink:show=\"new\" xlink:title=\"psysml:ae15bfee-df16-4fee-9dc7-bf97e2180cfd\" xlink:type=\"simple\"><rect fill=\"#FEFECE\" filter=\"url(#fppxnyd7t4j6q)\" height=\"45.9375\" id=\"E5\" rx=\"10\" ry=\"10\" style=\"stroke: #A80036; stroke-width: 1.5;\" width=\"68\" x=\"210\" y=\"44.5\"/><ellipse cx=\"225\" cy=\"63.4688\" fill=\"#32CD32\" rx=\"11\" ry=\"11\" style=\"stroke: #A80036; stroke-width: 1.0;\"/><path d=\"M224.7969,59.1406 L224.7969,62.7656 L225.7969,62.7656 Q227,62.7656 227.4844,62.3594 Q227.9688,61.9531 227.9688,60.9531 Q227.9688,59.9531 227.4844,59.5469 Q227,59.1406 225.7969,59.1406 L224.7969,59.1406 Z M222.3438,57.0781 L225.7031,57.0781 Q228.2656,57.0781 229.3906,58 Q230.5156,58.9063 230.5156,60.9531 Q230.5156,63 229.3906,63.9219 Q228.2656,64.8281 225.7031,64.8281 L224.7969,64.8281 L224.7969,69.4688 L222.3438,69.4688 L222.3438,57.0781 Z \"/><text fill=\"#000000\" font-family=\"sans-serif\" font-size=\"12\" font-style=\"italic\" lengthAdjust=\"spacingAndGlyphs\" textLength=\"40\" x=\"237\" y=\"60.6387\">«part»</text><text fill=\"#000000\" font-family=\"sans-serif\" font-size=\"12\" lengthAdjust=\"spacingAndGlyphs\" textLength=\"22\" x=\"246\" y=\"74.6074\">x: A</text><line style=\"stroke: #A80036; stroke-width: 1.5;\" x1=\"211\" x2=\"277\" y1=\"82.4375\" y2=\"82.4375\"/></a><!--MD5=[b9389687b975829384b498ac4b7476b2]\n",
       "class E8--><a href=\"psysml:977e6037-d806-4fb0-bccf-0c48256693c8\" target=\"_top\" title=\"psysml:977e6037-d806-4fb0-bccf-0c48256693c8\" xlink:actuate=\"onRequest\" xlink:href=\"psysml:977e6037-d806-4fb0-bccf-0c48256693c8\" xlink:show=\"new\" xlink:title=\"psysml:977e6037-d806-4fb0-bccf-0c48256693c8\" xlink:type=\"simple\"><rect fill=\"#FEFECE\" filter=\"url(#fppxnyd7t4j6q)\" height=\"45.9375\" id=\"E8\" rx=\"10\" ry=\"10\" style=\"stroke: #A80036; stroke-width: 1.5;\" width=\"68\" x=\"107\" y=\"44.5\"/><ellipse cx=\"122\" cy=\"63.4688\" fill=\"#32CD32\" rx=\"11\" ry=\"11\" style=\"stroke: #A80036; stroke-width: 1.0;\"/><path d=\"M121.7969,59.1406 L121.7969,62.7656 L122.7969,62.7656 Q124,62.7656 124.4844,62.3594 Q124.9688,61.9531 124.9688,60.9531 Q124.9688,59.9531 124.4844,59.5469 Q124,59.1406 122.7969,59.1406 L121.7969,59.1406 Z M119.3438,57.0781 L122.7031,57.0781 Q125.2656,57.0781 126.3906,58 Q127.5156,58.9063 127.5156,60.9531 Q127.5156,63 126.3906,63.9219 Q125.2656,64.8281 122.7031,64.8281 L121.7969,64.8281 L121.7969,69.4688 L119.3438,69.4688 L119.3438,57.0781 Z \"/><text fill=\"#000000\" font-family=\"sans-serif\" font-size=\"12\" font-style=\"italic\" lengthAdjust=\"spacingAndGlyphs\" textLength=\"40\" x=\"134\" y=\"60.6387\">«part»</text><text fill=\"#000000\" font-family=\"sans-serif\" font-size=\"12\" lengthAdjust=\"spacingAndGlyphs\" textLength=\"21\" x=\"143.5\" y=\"74.6074\">z: B</text><line style=\"stroke: #A80036; stroke-width: 1.5;\" x1=\"108\" x2=\"174\" y1=\"82.4375\" y2=\"82.4375\"/></a><!--MD5=[09b614a08d8cba4a07c9adeb5e0fee81]\n",
       "class E3--><a href=\"psysml:3f36db9e-42d3-4087-b2e1-ec91d884c8c4\" target=\"_top\" title=\"psysml:3f36db9e-42d3-4087-b2e1-ec91d884c8c4\" xlink:actuate=\"onRequest\" xlink:href=\"psysml:3f36db9e-42d3-4087-b2e1-ec91d884c8c4\" xlink:show=\"new\" xlink:title=\"psysml:3f36db9e-42d3-4087-b2e1-ec91d884c8c4\" xlink:type=\"simple\"><rect fill=\"#FEFECE\" filter=\"url(#fppxnyd7t4j6q)\" height=\"40\" id=\"E3\" style=\"stroke: #A80036; stroke-width: 1.5;\" width=\"40\" x=\"214\" y=\"154\"/><ellipse cx=\"229\" cy=\"170\" fill=\"#008000\" rx=\"11\" ry=\"11\" style=\"stroke: #A80036; stroke-width: 1.0;\"/><path d=\"M227.9063,170.375 L227.9063,174.0469 L229.5313,174.0469 Q230.7031,174.0469 231.1719,173.6563 Q231.6406,173.25 231.6406,172.25 Q231.6406,171.25 231.1406,170.8125 Q230.6563,170.375 229.5313,170.375 L227.9063,170.375 Z M227.9063,165.5469 L227.9063,168.4219 L229.5313,168.4219 Q230.4531,168.4219 230.8438,168.0938 Q231.25,167.75 231.25,167 Q231.25,166.2344 230.8438,165.8906 Q230.4375,165.5469 229.5313,165.5469 L227.9063,165.5469 Z M225.5313,163.5938 L229.5313,163.5938 Q231.5938,163.5938 232.6406,164.375 Q233.6875,165.1563 233.6875,166.7188 Q233.6875,167.9219 233.0625,168.5938 Q232.4531,169.2656 231.2656,169.375 Q232.6875,169.5156 233.4063,170.3281 Q234.125,171.1406 234.125,172.5938 Q234.125,174.3906 233.0469,175.2031 Q231.9688,176 229.5313,176 L225.5313,176 L225.5313,163.5938 Z \"/><text fill=\"#000000\" font-family=\"sans-serif\" font-size=\"12\" lengthAdjust=\"spacingAndGlyphs\" textLength=\"8\" x=\"243\" y=\"174.1543\">A</text><line style=\"stroke: #A80036; stroke-width: 1.5;\" x1=\"215\" x2=\"253\" y1=\"186\" y2=\"186\"/></a><a href=\"psysml:6aec89c6-9258-4c03-89c0-e79f913ee5de\" target=\"_top\" title=\"psysml:6aec89c6-9258-4c03-89c0-e79f913ee5de\" xlink:actuate=\"onRequest\" xlink:href=\"psysml:6aec89c6-9258-4c03-89c0-e79f913ee5de\" xlink:show=\"new\" xlink:title=\"psysml:6aec89c6-9258-4c03-89c0-e79f913ee5de\" xlink:type=\"simple\"><polygon fill=\"#FFFFFF\" filter=\"url(#fppxnyd7t4j6q)\" points=\"32,41,58,41,65,63.2969,72,63.2969,72,93.5938,32,93.5938,32,41\" style=\"stroke: #000000; stroke-width: 1.5;\"/><line style=\"stroke: #000000; stroke-width: 1.5;\" x1=\"32\" x2=\"65\" y1=\"63.2969\" y2=\"63.2969\"/><text fill=\"#000000\" font-family=\"sans-serif\" font-size=\"14\" font-weight=\"bold\" lengthAdjust=\"spacingAndGlyphs\" textLength=\"20\" x=\"36\" y=\"55.9951\">P2</text></a><!--MD5=[2156ba9850f5573cc1fc38a6a4b2f02b]\n",
       "class E7--><a href=\"psysml:0f9466c7-ef71-48bc-a930-ec3e2c1a2c86\" target=\"_top\" title=\"psysml:0f9466c7-ef71-48bc-a930-ec3e2c1a2c86\" xlink:actuate=\"onRequest\" xlink:href=\"psysml:0f9466c7-ef71-48bc-a930-ec3e2c1a2c86\" xlink:show=\"new\" xlink:title=\"psysml:0f9466c7-ef71-48bc-a930-ec3e2c1a2c86\" xlink:type=\"simple\"><rect fill=\"#FEFECE\" filter=\"url(#fppxnyd7t4j6q)\" height=\"40\" id=\"E7\" style=\"stroke: #A80036; stroke-width: 1.5;\" width=\"40\" x=\"118\" y=\"154\"/><ellipse cx=\"133\" cy=\"170\" fill=\"#008000\" rx=\"11\" ry=\"11\" style=\"stroke: #A80036; stroke-width: 1.0;\"/><path d=\"M131.9063,170.375 L131.9063,174.0469 L133.5313,174.0469 Q134.7031,174.0469 135.1719,173.6563 Q135.6406,173.25 135.6406,172.25 Q135.6406,171.25 135.1406,170.8125 Q134.6563,170.375 133.5313,170.375 L131.9063,170.375 Z M131.9063,165.5469 L131.9063,168.4219 L133.5313,168.4219 Q134.4531,168.4219 134.8438,168.0938 Q135.25,167.75 135.25,167 Q135.25,166.2344 134.8438,165.8906 Q134.4375,165.5469 133.5313,165.5469 L131.9063,165.5469 Z M129.5313,163.5938 L133.5313,163.5938 Q135.5938,163.5938 136.6406,164.375 Q137.6875,165.1563 137.6875,166.7188 Q137.6875,167.9219 137.0625,168.5938 Q136.4531,169.2656 135.2656,169.375 Q136.6875,169.5156 137.4063,170.3281 Q138.125,171.1406 138.125,172.5938 Q138.125,174.3906 137.0469,175.2031 Q135.9688,176 133.5313,176 L129.5313,176 L129.5313,163.5938 Z \"/><text fill=\"#000000\" font-family=\"sans-serif\" font-size=\"12\" lengthAdjust=\"spacingAndGlyphs\" textLength=\"8\" x=\"147\" y=\"174.1543\">B</text><line style=\"stroke: #A80036; stroke-width: 1.5;\" x1=\"119\" x2=\"157\" y1=\"186\" y2=\"186\"/></a><!--MD5=[e9be52314489bd878ff4c7144b63c9e1]\n",
       "link E5 to E3--><a href=\"psysml:fc52ff88-f6bf-464b-a9f6-50c073522383\" target=\"_top\" title=\"psysml:fc52ff88-f6bf-464b-a9f6-50c073522383\" xlink:actuate=\"onRequest\" xlink:href=\"psysml:fc52ff88-f6bf-464b-a9f6-50c073522383\" xlink:show=\"new\" xlink:title=\"psysml:fc52ff88-f6bf-464b-a9f6-50c073522383\" xlink:type=\"simple\"><path d=\"M241.88,90.66 C240.68,103.15 239.16,119.11 237.77,133.65 \" fill=\"none\" id=\"E5-&gt;E3\" style=\"stroke: #A80036; stroke-width: 1.0;\"/><polygon fill=\"#FFFFFF\" points=\"235.85,153.68,230.7015,134.097,244.6371,135.4376,235.85,153.68\" style=\"stroke: #A80036; stroke-width: 1.0;\"/><ellipse cx=\"233.2381\" cy=\"128.6147\" fill=\"#A80036\" rx=\"2\" ry=\"2\" style=\"stroke: #A80036; stroke-width: 1.0;\"/><ellipse cx=\"243.1921\" cy=\"129.5723\" fill=\"#A80036\" rx=\"2\" ry=\"2\" style=\"stroke: #A80036; stroke-width: 1.0;\"/></a><!--MD5=[bfa3c8b0d15052fdf50ae9310b491027]\n",
       "link E8 to E7--><a href=\"psysml:46d3b5b8-edad-416f-ae7d-d25648abca20\" target=\"_top\" title=\"psysml:46d3b5b8-edad-416f-ae7d-d25648abca20\" xlink:actuate=\"onRequest\" xlink:href=\"psysml:46d3b5b8-edad-416f-ae7d-d25648abca20\" xlink:show=\"new\" xlink:title=\"psysml:46d3b5b8-edad-416f-ae7d-d25648abca20\" xlink:type=\"simple\"><path d=\"M140.36,90.66 C140.01,103.15 139.55,119.11 139.13,133.65 \" fill=\"none\" id=\"E8-&gt;E7\" style=\"stroke: #A80036; stroke-width: 1.0;\"/><polygon fill=\"#FFFFFF\" points=\"138.55,153.68,132.0955,134.4878,146.0898,134.8877,138.55,153.68\" style=\"stroke: #A80036; stroke-width: 1.0;\"/><ellipse cx=\"134.2575\" cy=\"128.8473\" fill=\"#A80036\" rx=\"2\" ry=\"2\" style=\"stroke: #A80036; stroke-width: 1.0;\"/><ellipse cx=\"144.2534\" cy=\"129.1329\" fill=\"#A80036\" rx=\"2\" ry=\"2\" style=\"stroke: #A80036; stroke-width: 1.0;\"/></a><!--MD5=[42f651cba697d63405a0e4245d034942]\n",
       "@startuml\r\n",
       " \r\n",
       "package \"PrivateImportTest\" as E1  [[psysml:679eaabc-5ff5-4f8e-91e0-c316c2e3864c ]]  {\r\n",
       "package \"P1\" as E2  [[psysml:009bdde2-dc25-4a27-9e47-f33e7b142b72 ]]  {\r\n",
       "comp def \"A\" as E3  << (B,green) >> [[psysml:3f36db9e-42d3-4087-b2e1-ec91d884c8c4 ]] {\r\n",
       "}\r\n",
       "}\r\n",
       "package \"P2\" as E4  [[psysml:6aec89c6-9258-4c03-89c0-e79f913ee5de ]]  {\r\n",
       "}\r\n",
       "comp usage \"x: A\" as E5  << (P,limegreen) part>> [[psysml:ae15bfee-df16-4fee-9dc7-bf97e2180cfd ]] {\r\n",
       "}\r\n",
       "package \"P3\" as E6  [[psysml:b0bbce7f-63ab-4038-bed6-f72cdad2d833 ]]  {\r\n",
       "comp def \"B\" as E7  << (B,green) >> [[psysml:0f9466c7-ef71-48bc-a930-ec3e2c1a2c86 ]] {\r\n",
       "}\r\n",
       "E5 - -:|> E3 [[psysml:fc52ff88-f6bf-464b-a9f6-50c073522383 ]] \r\n",
       "}\r\n",
       "comp usage \"z: B\" as E8  << (P,limegreen) part>> [[psysml:977e6037-d806-4fb0-bccf-0c48256693c8 ]] {\r\n",
       "}\r\n",
       "E8 - -:|> E7 [[psysml:46d3b5b8-edad-416f-ae7d-d25648abca20 ]] \r\n",
       "}\r\n",
       "@enduml\r\n",
       "\n",
       "PlantUML version 1.2020.13(Sat Jun 13 12:26:38 UTC 2020)\n",
       "(EPL source distribution)\n",
       "Java Runtime: OpenJDK Runtime Environment\n",
       "JVM: OpenJDK 64-Bit Server VM\n",
       "Default Encoding: UTF-8\n",
       "Language: en\n",
       "Country: null\n",
       "--></g></svg>"
      ]
     },
     "execution_count": 35,
     "metadata": {},
     "output_type": "execute_result"
    }
   ],
   "source": [
    "%viz --style=\"PLANTUML\" --view=\"Sequence\" \"PrivateImportTest\""
   ]
  },
  {
   "cell_type": "code",
   "execution_count": 36,
   "id": "narrow-fetish",
   "metadata": {
    "execution": {
     "iopub.execute_input": "2021-03-24T16:28:05.922022Z",
     "iopub.status.busy": "2021-03-24T16:28:05.920847Z",
     "iopub.status.idle": "2021-03-24T16:28:05.950301Z",
     "shell.execute_reply": "2021-03-24T16:28:05.949092Z"
    }
   },
   "outputs": [
    {
     "data": {
      "image/svg+xml": [
       "<?xml version=\"1.0\" encoding=\"UTF-8\" standalone=\"no\"?><svg xmlns=\"http://www.w3.org/2000/svg\" xmlns:xlink=\"http://www.w3.org/1999/xlink\" contentScriptType=\"application/ecmascript\" contentStyleType=\"text/css\" height=\"246px\" preserveAspectRatio=\"none\" style=\"width:316px;height:246px;\" version=\"1.1\" viewBox=\"0 0 316 246\" width=\"316px\" zoomAndPan=\"magnify\"><defs><filter height=\"300%\" id=\"fppxnyd7t4j6q\" width=\"300%\" x=\"-1\" y=\"-1\"><feGaussianBlur result=\"blurOut\" stdDeviation=\"2.0\"/><feColorMatrix in=\"blurOut\" result=\"blurOut2\" type=\"matrix\" values=\"0 0 0 0 0 0 0 0 0 0 0 0 0 0 0 0 0 0 .4 0\"/><feOffset dx=\"4.0\" dy=\"4.0\" in=\"blurOut2\" result=\"blurOut3\"/><feBlend in=\"SourceGraphic\" in2=\"blurOut3\" mode=\"normal\"/></filter></defs><g><!--MD5=[fbc87193dbaf4d95561dea2c320d4a47]\n",
       "cluster E1--><a href=\"psysml:679eaabc-5ff5-4f8e-91e0-c316c2e3864c\" target=\"_top\" title=\"psysml:679eaabc-5ff5-4f8e-91e0-c316c2e3864c\" xlink:actuate=\"onRequest\" xlink:href=\"psysml:679eaabc-5ff5-4f8e-91e0-c316c2e3864c\" xlink:show=\"new\" xlink:title=\"psysml:679eaabc-5ff5-4f8e-91e0-c316c2e3864c\" xlink:type=\"simple\"><polygon fill=\"#FFFFFF\" filter=\"url(#fppxnyd7t4j6q)\" points=\"16,6,163,6,170,28.2969,294,28.2969,294,234,16,234,16,6\" style=\"stroke: #000000; stroke-width: 1.5;\"/><line style=\"stroke: #000000; stroke-width: 1.5;\" x1=\"16\" x2=\"170\" y1=\"28.2969\" y2=\"28.2969\"/><text fill=\"#000000\" font-family=\"sans-serif\" font-size=\"14\" font-weight=\"bold\" lengthAdjust=\"spacingAndGlyphs\" textLength=\"141\" x=\"20\" y=\"20.9951\">PrivateImportTest</text></a><!--MD5=[e4f7fae6ed58524ba242bb0b0d3be6b7]\n",
       "cluster E2--><a href=\"psysml:009bdde2-dc25-4a27-9e47-f33e7b142b72\" target=\"_top\" title=\"psysml:009bdde2-dc25-4a27-9e47-f33e7b142b72\" xlink:actuate=\"onRequest\" xlink:href=\"psysml:009bdde2-dc25-4a27-9e47-f33e7b142b72\" xlink:show=\"new\" xlink:title=\"psysml:009bdde2-dc25-4a27-9e47-f33e7b142b72\" xlink:type=\"simple\"><polygon fill=\"#FFFFFF\" filter=\"url(#fppxnyd7t4j6q)\" points=\"198,119,224,119,231,141.2969,270,141.2969,270,210,198,210,198,119\" style=\"stroke: #000000; stroke-width: 1.5;\"/><line style=\"stroke: #000000; stroke-width: 1.5;\" x1=\"198\" x2=\"231\" y1=\"141.2969\" y2=\"141.2969\"/><text fill=\"#000000\" font-family=\"sans-serif\" font-size=\"14\" font-weight=\"bold\" lengthAdjust=\"spacingAndGlyphs\" textLength=\"20\" x=\"202\" y=\"133.9951\">P1</text></a><!--MD5=[14e3b0961a2654348d326746436168a1]\n",
       "cluster E6--><a href=\"psysml:b0bbce7f-63ab-4038-bed6-f72cdad2d833\" target=\"_top\" title=\"psysml:b0bbce7f-63ab-4038-bed6-f72cdad2d833\" xlink:actuate=\"onRequest\" xlink:href=\"psysml:b0bbce7f-63ab-4038-bed6-f72cdad2d833\" xlink:show=\"new\" xlink:title=\"psysml:b0bbce7f-63ab-4038-bed6-f72cdad2d833\" xlink:type=\"simple\"><polygon fill=\"#FFFFFF\" filter=\"url(#fppxnyd7t4j6q)\" points=\"102,119,128,119,135,141.2969,174,141.2969,174,210,102,210,102,119\" style=\"stroke: #000000; stroke-width: 1.5;\"/><line style=\"stroke: #000000; stroke-width: 1.5;\" x1=\"102\" x2=\"135\" y1=\"141.2969\" y2=\"141.2969\"/><text fill=\"#000000\" font-family=\"sans-serif\" font-size=\"14\" font-weight=\"bold\" lengthAdjust=\"spacingAndGlyphs\" textLength=\"20\" x=\"106\" y=\"133.9951\">P3</text></a><!--MD5=[270fce915f116d4de14055a7c1d9a0f3]\n",
       "class E5--><a href=\"psysml:ae15bfee-df16-4fee-9dc7-bf97e2180cfd\" target=\"_top\" title=\"psysml:ae15bfee-df16-4fee-9dc7-bf97e2180cfd\" xlink:actuate=\"onRequest\" xlink:href=\"psysml:ae15bfee-df16-4fee-9dc7-bf97e2180cfd\" xlink:show=\"new\" xlink:title=\"psysml:ae15bfee-df16-4fee-9dc7-bf97e2180cfd\" xlink:type=\"simple\"><rect fill=\"#FEFECE\" filter=\"url(#fppxnyd7t4j6q)\" height=\"45.9375\" id=\"E5\" rx=\"10\" ry=\"10\" style=\"stroke: #A80036; stroke-width: 1.5;\" width=\"68\" x=\"210\" y=\"44.5\"/><ellipse cx=\"225\" cy=\"63.4688\" fill=\"#32CD32\" rx=\"11\" ry=\"11\" style=\"stroke: #A80036; stroke-width: 1.0;\"/><path d=\"M224.7969,59.1406 L224.7969,62.7656 L225.7969,62.7656 Q227,62.7656 227.4844,62.3594 Q227.9688,61.9531 227.9688,60.9531 Q227.9688,59.9531 227.4844,59.5469 Q227,59.1406 225.7969,59.1406 L224.7969,59.1406 Z M222.3438,57.0781 L225.7031,57.0781 Q228.2656,57.0781 229.3906,58 Q230.5156,58.9063 230.5156,60.9531 Q230.5156,63 229.3906,63.9219 Q228.2656,64.8281 225.7031,64.8281 L224.7969,64.8281 L224.7969,69.4688 L222.3438,69.4688 L222.3438,57.0781 Z \"/><text fill=\"#000000\" font-family=\"sans-serif\" font-size=\"12\" font-style=\"italic\" lengthAdjust=\"spacingAndGlyphs\" textLength=\"40\" x=\"237\" y=\"60.6387\">«part»</text><text fill=\"#000000\" font-family=\"sans-serif\" font-size=\"12\" lengthAdjust=\"spacingAndGlyphs\" textLength=\"22\" x=\"246\" y=\"74.6074\">x: A</text><line style=\"stroke: #A80036; stroke-width: 1.5;\" x1=\"211\" x2=\"277\" y1=\"82.4375\" y2=\"82.4375\"/></a><!--MD5=[b9389687b975829384b498ac4b7476b2]\n",
       "class E8--><a href=\"psysml:977e6037-d806-4fb0-bccf-0c48256693c8\" target=\"_top\" title=\"psysml:977e6037-d806-4fb0-bccf-0c48256693c8\" xlink:actuate=\"onRequest\" xlink:href=\"psysml:977e6037-d806-4fb0-bccf-0c48256693c8\" xlink:show=\"new\" xlink:title=\"psysml:977e6037-d806-4fb0-bccf-0c48256693c8\" xlink:type=\"simple\"><rect fill=\"#FEFECE\" filter=\"url(#fppxnyd7t4j6q)\" height=\"45.9375\" id=\"E8\" rx=\"10\" ry=\"10\" style=\"stroke: #A80036; stroke-width: 1.5;\" width=\"68\" x=\"107\" y=\"44.5\"/><ellipse cx=\"122\" cy=\"63.4688\" fill=\"#32CD32\" rx=\"11\" ry=\"11\" style=\"stroke: #A80036; stroke-width: 1.0;\"/><path d=\"M121.7969,59.1406 L121.7969,62.7656 L122.7969,62.7656 Q124,62.7656 124.4844,62.3594 Q124.9688,61.9531 124.9688,60.9531 Q124.9688,59.9531 124.4844,59.5469 Q124,59.1406 122.7969,59.1406 L121.7969,59.1406 Z M119.3438,57.0781 L122.7031,57.0781 Q125.2656,57.0781 126.3906,58 Q127.5156,58.9063 127.5156,60.9531 Q127.5156,63 126.3906,63.9219 Q125.2656,64.8281 122.7031,64.8281 L121.7969,64.8281 L121.7969,69.4688 L119.3438,69.4688 L119.3438,57.0781 Z \"/><text fill=\"#000000\" font-family=\"sans-serif\" font-size=\"12\" font-style=\"italic\" lengthAdjust=\"spacingAndGlyphs\" textLength=\"40\" x=\"134\" y=\"60.6387\">«part»</text><text fill=\"#000000\" font-family=\"sans-serif\" font-size=\"12\" lengthAdjust=\"spacingAndGlyphs\" textLength=\"21\" x=\"143.5\" y=\"74.6074\">z: B</text><line style=\"stroke: #A80036; stroke-width: 1.5;\" x1=\"108\" x2=\"174\" y1=\"82.4375\" y2=\"82.4375\"/></a><!--MD5=[09b614a08d8cba4a07c9adeb5e0fee81]\n",
       "class E3--><a href=\"psysml:3f36db9e-42d3-4087-b2e1-ec91d884c8c4\" target=\"_top\" title=\"psysml:3f36db9e-42d3-4087-b2e1-ec91d884c8c4\" xlink:actuate=\"onRequest\" xlink:href=\"psysml:3f36db9e-42d3-4087-b2e1-ec91d884c8c4\" xlink:show=\"new\" xlink:title=\"psysml:3f36db9e-42d3-4087-b2e1-ec91d884c8c4\" xlink:type=\"simple\"><rect fill=\"#FEFECE\" filter=\"url(#fppxnyd7t4j6q)\" height=\"40\" id=\"E3\" style=\"stroke: #A80036; stroke-width: 1.5;\" width=\"40\" x=\"214\" y=\"154\"/><ellipse cx=\"229\" cy=\"170\" fill=\"#008000\" rx=\"11\" ry=\"11\" style=\"stroke: #A80036; stroke-width: 1.0;\"/><path d=\"M227.9063,170.375 L227.9063,174.0469 L229.5313,174.0469 Q230.7031,174.0469 231.1719,173.6563 Q231.6406,173.25 231.6406,172.25 Q231.6406,171.25 231.1406,170.8125 Q230.6563,170.375 229.5313,170.375 L227.9063,170.375 Z M227.9063,165.5469 L227.9063,168.4219 L229.5313,168.4219 Q230.4531,168.4219 230.8438,168.0938 Q231.25,167.75 231.25,167 Q231.25,166.2344 230.8438,165.8906 Q230.4375,165.5469 229.5313,165.5469 L227.9063,165.5469 Z M225.5313,163.5938 L229.5313,163.5938 Q231.5938,163.5938 232.6406,164.375 Q233.6875,165.1563 233.6875,166.7188 Q233.6875,167.9219 233.0625,168.5938 Q232.4531,169.2656 231.2656,169.375 Q232.6875,169.5156 233.4063,170.3281 Q234.125,171.1406 234.125,172.5938 Q234.125,174.3906 233.0469,175.2031 Q231.9688,176 229.5313,176 L225.5313,176 L225.5313,163.5938 Z \"/><text fill=\"#000000\" font-family=\"sans-serif\" font-size=\"12\" lengthAdjust=\"spacingAndGlyphs\" textLength=\"8\" x=\"243\" y=\"174.1543\">A</text><line style=\"stroke: #A80036; stroke-width: 1.5;\" x1=\"215\" x2=\"253\" y1=\"186\" y2=\"186\"/></a><a href=\"psysml:6aec89c6-9258-4c03-89c0-e79f913ee5de\" target=\"_top\" title=\"psysml:6aec89c6-9258-4c03-89c0-e79f913ee5de\" xlink:actuate=\"onRequest\" xlink:href=\"psysml:6aec89c6-9258-4c03-89c0-e79f913ee5de\" xlink:show=\"new\" xlink:title=\"psysml:6aec89c6-9258-4c03-89c0-e79f913ee5de\" xlink:type=\"simple\"><polygon fill=\"#FFFFFF\" filter=\"url(#fppxnyd7t4j6q)\" points=\"32,41,58,41,65,63.2969,72,63.2969,72,93.5938,32,93.5938,32,41\" style=\"stroke: #000000; stroke-width: 1.5;\"/><line style=\"stroke: #000000; stroke-width: 1.5;\" x1=\"32\" x2=\"65\" y1=\"63.2969\" y2=\"63.2969\"/><text fill=\"#000000\" font-family=\"sans-serif\" font-size=\"14\" font-weight=\"bold\" lengthAdjust=\"spacingAndGlyphs\" textLength=\"20\" x=\"36\" y=\"55.9951\">P2</text></a><!--MD5=[2156ba9850f5573cc1fc38a6a4b2f02b]\n",
       "class E7--><a href=\"psysml:0f9466c7-ef71-48bc-a930-ec3e2c1a2c86\" target=\"_top\" title=\"psysml:0f9466c7-ef71-48bc-a930-ec3e2c1a2c86\" xlink:actuate=\"onRequest\" xlink:href=\"psysml:0f9466c7-ef71-48bc-a930-ec3e2c1a2c86\" xlink:show=\"new\" xlink:title=\"psysml:0f9466c7-ef71-48bc-a930-ec3e2c1a2c86\" xlink:type=\"simple\"><rect fill=\"#FEFECE\" filter=\"url(#fppxnyd7t4j6q)\" height=\"40\" id=\"E7\" style=\"stroke: #A80036; stroke-width: 1.5;\" width=\"40\" x=\"118\" y=\"154\"/><ellipse cx=\"133\" cy=\"170\" fill=\"#008000\" rx=\"11\" ry=\"11\" style=\"stroke: #A80036; stroke-width: 1.0;\"/><path d=\"M131.9063,170.375 L131.9063,174.0469 L133.5313,174.0469 Q134.7031,174.0469 135.1719,173.6563 Q135.6406,173.25 135.6406,172.25 Q135.6406,171.25 135.1406,170.8125 Q134.6563,170.375 133.5313,170.375 L131.9063,170.375 Z M131.9063,165.5469 L131.9063,168.4219 L133.5313,168.4219 Q134.4531,168.4219 134.8438,168.0938 Q135.25,167.75 135.25,167 Q135.25,166.2344 134.8438,165.8906 Q134.4375,165.5469 133.5313,165.5469 L131.9063,165.5469 Z M129.5313,163.5938 L133.5313,163.5938 Q135.5938,163.5938 136.6406,164.375 Q137.6875,165.1563 137.6875,166.7188 Q137.6875,167.9219 137.0625,168.5938 Q136.4531,169.2656 135.2656,169.375 Q136.6875,169.5156 137.4063,170.3281 Q138.125,171.1406 138.125,172.5938 Q138.125,174.3906 137.0469,175.2031 Q135.9688,176 133.5313,176 L129.5313,176 L129.5313,163.5938 Z \"/><text fill=\"#000000\" font-family=\"sans-serif\" font-size=\"12\" lengthAdjust=\"spacingAndGlyphs\" textLength=\"8\" x=\"147\" y=\"174.1543\">B</text><line style=\"stroke: #A80036; stroke-width: 1.5;\" x1=\"119\" x2=\"157\" y1=\"186\" y2=\"186\"/></a><!--MD5=[e9be52314489bd878ff4c7144b63c9e1]\n",
       "link E5 to E3--><a href=\"psysml:fc52ff88-f6bf-464b-a9f6-50c073522383\" target=\"_top\" title=\"psysml:fc52ff88-f6bf-464b-a9f6-50c073522383\" xlink:actuate=\"onRequest\" xlink:href=\"psysml:fc52ff88-f6bf-464b-a9f6-50c073522383\" xlink:show=\"new\" xlink:title=\"psysml:fc52ff88-f6bf-464b-a9f6-50c073522383\" xlink:type=\"simple\"><path d=\"M241.88,90.66 C240.68,103.15 239.16,119.11 237.77,133.65 \" fill=\"none\" id=\"E5-&gt;E3\" style=\"stroke: #A80036; stroke-width: 1.0;\"/><polygon fill=\"#FFFFFF\" points=\"235.85,153.68,230.7015,134.097,244.6371,135.4376,235.85,153.68\" style=\"stroke: #A80036; stroke-width: 1.0;\"/><ellipse cx=\"233.2381\" cy=\"128.6147\" fill=\"#A80036\" rx=\"2\" ry=\"2\" style=\"stroke: #A80036; stroke-width: 1.0;\"/><ellipse cx=\"243.1921\" cy=\"129.5723\" fill=\"#A80036\" rx=\"2\" ry=\"2\" style=\"stroke: #A80036; stroke-width: 1.0;\"/></a><!--MD5=[bfa3c8b0d15052fdf50ae9310b491027]\n",
       "link E8 to E7--><a href=\"psysml:46d3b5b8-edad-416f-ae7d-d25648abca20\" target=\"_top\" title=\"psysml:46d3b5b8-edad-416f-ae7d-d25648abca20\" xlink:actuate=\"onRequest\" xlink:href=\"psysml:46d3b5b8-edad-416f-ae7d-d25648abca20\" xlink:show=\"new\" xlink:title=\"psysml:46d3b5b8-edad-416f-ae7d-d25648abca20\" xlink:type=\"simple\"><path d=\"M140.36,90.66 C140.01,103.15 139.55,119.11 139.13,133.65 \" fill=\"none\" id=\"E8-&gt;E7\" style=\"stroke: #A80036; stroke-width: 1.0;\"/><polygon fill=\"#FFFFFF\" points=\"138.55,153.68,132.0955,134.4878,146.0898,134.8877,138.55,153.68\" style=\"stroke: #A80036; stroke-width: 1.0;\"/><ellipse cx=\"134.2575\" cy=\"128.8473\" fill=\"#A80036\" rx=\"2\" ry=\"2\" style=\"stroke: #A80036; stroke-width: 1.0;\"/><ellipse cx=\"144.2534\" cy=\"129.1329\" fill=\"#A80036\" rx=\"2\" ry=\"2\" style=\"stroke: #A80036; stroke-width: 1.0;\"/></a><!--MD5=[42f651cba697d63405a0e4245d034942]\n",
       "@startuml\r\n",
       " \r\n",
       "package \"PrivateImportTest\" as E1  [[psysml:679eaabc-5ff5-4f8e-91e0-c316c2e3864c ]]  {\r\n",
       "package \"P1\" as E2  [[psysml:009bdde2-dc25-4a27-9e47-f33e7b142b72 ]]  {\r\n",
       "comp def \"A\" as E3  << (B,green) >> [[psysml:3f36db9e-42d3-4087-b2e1-ec91d884c8c4 ]] {\r\n",
       "}\r\n",
       "}\r\n",
       "package \"P2\" as E4  [[psysml:6aec89c6-9258-4c03-89c0-e79f913ee5de ]]  {\r\n",
       "}\r\n",
       "comp usage \"x: A\" as E5  << (P,limegreen) part>> [[psysml:ae15bfee-df16-4fee-9dc7-bf97e2180cfd ]] {\r\n",
       "}\r\n",
       "package \"P3\" as E6  [[psysml:b0bbce7f-63ab-4038-bed6-f72cdad2d833 ]]  {\r\n",
       "comp def \"B\" as E7  << (B,green) >> [[psysml:0f9466c7-ef71-48bc-a930-ec3e2c1a2c86 ]] {\r\n",
       "}\r\n",
       "E5 - -:|> E3 [[psysml:fc52ff88-f6bf-464b-a9f6-50c073522383 ]] \r\n",
       "}\r\n",
       "comp usage \"z: B\" as E8  << (P,limegreen) part>> [[psysml:977e6037-d806-4fb0-bccf-0c48256693c8 ]] {\r\n",
       "}\r\n",
       "E8 - -:|> E7 [[psysml:46d3b5b8-edad-416f-ae7d-d25648abca20 ]] \r\n",
       "}\r\n",
       "@enduml\r\n",
       "\n",
       "PlantUML version 1.2020.13(Sat Jun 13 12:26:38 UTC 2020)\n",
       "(EPL source distribution)\n",
       "Java Runtime: OpenJDK Runtime Environment\n",
       "JVM: OpenJDK 64-Bit Server VM\n",
       "Default Encoding: UTF-8\n",
       "Language: en\n",
       "Country: null\n",
       "--></g></svg>"
      ]
     },
     "execution_count": 36,
     "metadata": {},
     "output_type": "execute_result"
    }
   ],
   "source": [
    "%viz --style=\"PLANTUML\" --view=\"MIXED\" \"PrivateImportTest\""
   ]
  },
  {
   "cell_type": "code",
   "execution_count": 37,
   "id": "blank-single",
   "metadata": {
    "execution": {
     "iopub.execute_input": "2021-03-24T16:28:06.000378Z",
     "iopub.status.busy": "2021-03-24T16:28:06.000010Z",
     "iopub.status.idle": "2021-03-24T16:28:06.029748Z",
     "shell.execute_reply": "2021-03-24T16:28:06.029478Z"
    }
   },
   "outputs": [
    {
     "data": {
      "image/svg+xml": [
       "<?xml version=\"1.0\" encoding=\"UTF-8\" standalone=\"no\"?><svg xmlns=\"http://www.w3.org/2000/svg\" xmlns:xlink=\"http://www.w3.org/1999/xlink\" contentScriptType=\"application/ecmascript\" contentStyleType=\"text/css\" height=\"252px\" preserveAspectRatio=\"none\" style=\"width:306px;height:252px;\" version=\"1.1\" viewBox=\"0 0 306 252\" width=\"306px\" zoomAndPan=\"magnify\"><defs/><g><!--MD5=[fbc87193dbaf4d95561dea2c320d4a47]\n",
       "cluster E1--><a href=\"psysml:679eaabc-5ff5-4f8e-91e0-c316c2e3864c\" target=\"_top\" title=\"psysml:679eaabc-5ff5-4f8e-91e0-c316c2e3864c\" xlink:actuate=\"onRequest\" xlink:href=\"psysml:679eaabc-5ff5-4f8e-91e0-c316c2e3864c\" xlink:show=\"new\" xlink:title=\"psysml:679eaabc-5ff5-4f8e-91e0-c316c2e3864c\" xlink:type=\"simple\"><polygon fill=\"#FFFFFF\" points=\"16,6,163,6,170,28.2969,284,28.2969,284,240,16,240,16,6\" style=\"stroke: #000000; stroke-width: 1.5;\"/><line style=\"stroke: #000000; stroke-width: 1.5;\" x1=\"16\" x2=\"170\" y1=\"28.2969\" y2=\"28.2969\"/><text fill=\"#000000\" font-family=\"sans-serif\" font-size=\"14\" font-weight=\"bold\" lengthAdjust=\"spacingAndGlyphs\" textLength=\"141\" x=\"20\" y=\"20.9951\">PrivateImportTest</text></a><!--MD5=[e4f7fae6ed58524ba242bb0b0d3be6b7]\n",
       "cluster E2--><a href=\"psysml:009bdde2-dc25-4a27-9e47-f33e7b142b72\" target=\"_top\" title=\"psysml:009bdde2-dc25-4a27-9e47-f33e7b142b72\" xlink:actuate=\"onRequest\" xlink:href=\"psysml:009bdde2-dc25-4a27-9e47-f33e7b142b72\" xlink:show=\"new\" xlink:title=\"psysml:009bdde2-dc25-4a27-9e47-f33e7b142b72\" xlink:type=\"simple\"><polygon fill=\"#FFFFFF\" points=\"162,119,188,119,195,141.2969,260,141.2969,260,216,162,216,162,119\" style=\"stroke: #000000; stroke-width: 1.5;\"/><line style=\"stroke: #000000; stroke-width: 1.5;\" x1=\"162\" x2=\"195\" y1=\"141.2969\" y2=\"141.2969\"/><text fill=\"#000000\" font-family=\"sans-serif\" font-size=\"14\" font-weight=\"bold\" lengthAdjust=\"spacingAndGlyphs\" textLength=\"20\" x=\"166\" y=\"133.9951\">P1</text></a><!--MD5=[14e3b0961a2654348d326746436168a1]\n",
       "cluster E6--><a href=\"psysml:b0bbce7f-63ab-4038-bed6-f72cdad2d833\" target=\"_top\" title=\"psysml:b0bbce7f-63ab-4038-bed6-f72cdad2d833\" xlink:actuate=\"onRequest\" xlink:href=\"psysml:b0bbce7f-63ab-4038-bed6-f72cdad2d833\" xlink:show=\"new\" xlink:title=\"psysml:b0bbce7f-63ab-4038-bed6-f72cdad2d833\" xlink:type=\"simple\"><polygon fill=\"#FFFFFF\" points=\"40,119,66,119,73,141.2969,138,141.2969,138,216,40,216,40,119\" style=\"stroke: #000000; stroke-width: 1.5;\"/><line style=\"stroke: #000000; stroke-width: 1.5;\" x1=\"40\" x2=\"73\" y1=\"141.2969\" y2=\"141.2969\"/><text fill=\"#000000\" font-family=\"sans-serif\" font-size=\"14\" font-weight=\"bold\" lengthAdjust=\"spacingAndGlyphs\" textLength=\"20\" x=\"44\" y=\"133.9951\">P3</text></a><!--MD5=[270fce915f116d4de14055a7c1d9a0f3]\n",
       "class E5--><a href=\"psysml:ae15bfee-df16-4fee-9dc7-bf97e2180cfd\" target=\"_top\" title=\"psysml:ae15bfee-df16-4fee-9dc7-bf97e2180cfd\" xlink:actuate=\"onRequest\" xlink:href=\"psysml:ae15bfee-df16-4fee-9dc7-bf97e2180cfd\" xlink:show=\"new\" xlink:title=\"psysml:ae15bfee-df16-4fee-9dc7-bf97e2180cfd\" xlink:type=\"simple\"><rect fill=\"#FFFFFF\" height=\"45.9375\" id=\"E5\" rx=\"10\" ry=\"10\" style=\"stroke: #383838; stroke-width: 1.5;\" width=\"42\" x=\"190\" y=\"44.5\"/><text fill=\"#000000\" font-family=\"sans-serif\" font-size=\"12\" font-style=\"italic\" lengthAdjust=\"spacingAndGlyphs\" textLength=\"40\" x=\"191\" y=\"60.6387\">«part»</text><text fill=\"#000000\" font-family=\"sans-serif\" font-size=\"12\" lengthAdjust=\"spacingAndGlyphs\" textLength=\"22\" x=\"200\" y=\"74.6074\">x: A</text><line style=\"stroke: #383838; stroke-width: 1.5;\" x1=\"191\" x2=\"231\" y1=\"82.4375\" y2=\"82.4375\"/></a><!--MD5=[b9389687b975829384b498ac4b7476b2]\n",
       "class E8--><a href=\"psysml:977e6037-d806-4fb0-bccf-0c48256693c8\" target=\"_top\" title=\"psysml:977e6037-d806-4fb0-bccf-0c48256693c8\" xlink:actuate=\"onRequest\" xlink:href=\"psysml:977e6037-d806-4fb0-bccf-0c48256693c8\" xlink:show=\"new\" xlink:title=\"psysml:977e6037-d806-4fb0-bccf-0c48256693c8\" xlink:type=\"simple\"><rect fill=\"#FFFFFF\" height=\"45.9375\" id=\"E8\" rx=\"10\" ry=\"10\" style=\"stroke: #383838; stroke-width: 1.5;\" width=\"42\" x=\"107\" y=\"44.5\"/><text fill=\"#000000\" font-family=\"sans-serif\" font-size=\"12\" font-style=\"italic\" lengthAdjust=\"spacingAndGlyphs\" textLength=\"40\" x=\"108\" y=\"60.6387\">«part»</text><text fill=\"#000000\" font-family=\"sans-serif\" font-size=\"12\" lengthAdjust=\"spacingAndGlyphs\" textLength=\"21\" x=\"117.5\" y=\"74.6074\">z: B</text><line style=\"stroke: #383838; stroke-width: 1.5;\" x1=\"108\" x2=\"148\" y1=\"82.4375\" y2=\"82.4375\"/></a><!--MD5=[09b614a08d8cba4a07c9adeb5e0fee81]\n",
       "class E3--><a href=\"psysml:3f36db9e-42d3-4087-b2e1-ec91d884c8c4\" target=\"_top\" title=\"psysml:3f36db9e-42d3-4087-b2e1-ec91d884c8c4\" xlink:actuate=\"onRequest\" xlink:href=\"psysml:3f36db9e-42d3-4087-b2e1-ec91d884c8c4\" xlink:show=\"new\" xlink:title=\"psysml:3f36db9e-42d3-4087-b2e1-ec91d884c8c4\" xlink:type=\"simple\"><rect fill=\"#FFFFFF\" height=\"45.9375\" id=\"E3\" style=\"stroke: #383838; stroke-width: 1.5;\" width=\"66\" x=\"178\" y=\"154\"/><text fill=\"#000000\" font-family=\"sans-serif\" font-size=\"12\" font-style=\"italic\" lengthAdjust=\"spacingAndGlyphs\" textLength=\"64\" x=\"179\" y=\"170.1387\">«part def»</text><text fill=\"#000000\" font-family=\"sans-serif\" font-size=\"12\" lengthAdjust=\"spacingAndGlyphs\" textLength=\"8\" x=\"207\" y=\"184.1074\">A</text><line style=\"stroke: #383838; stroke-width: 1.5;\" x1=\"179\" x2=\"243\" y1=\"191.9375\" y2=\"191.9375\"/></a><a href=\"psysml:6aec89c6-9258-4c03-89c0-e79f913ee5de\" target=\"_top\" title=\"psysml:6aec89c6-9258-4c03-89c0-e79f913ee5de\" xlink:actuate=\"onRequest\" xlink:href=\"psysml:6aec89c6-9258-4c03-89c0-e79f913ee5de\" xlink:show=\"new\" xlink:title=\"psysml:6aec89c6-9258-4c03-89c0-e79f913ee5de\" xlink:type=\"simple\"><polygon fill=\"#FFFFFF\" points=\"32,41,58,41,65,63.2969,72,63.2969,72,93.5938,32,93.5938,32,41\" style=\"stroke: #000000; stroke-width: 1.5;\"/><line style=\"stroke: #000000; stroke-width: 1.5;\" x1=\"32\" x2=\"65\" y1=\"63.2969\" y2=\"63.2969\"/><text fill=\"#000000\" font-family=\"sans-serif\" font-size=\"14\" font-weight=\"bold\" lengthAdjust=\"spacingAndGlyphs\" textLength=\"20\" x=\"36\" y=\"55.9951\">P2</text></a><!--MD5=[2156ba9850f5573cc1fc38a6a4b2f02b]\n",
       "class E7--><a href=\"psysml:0f9466c7-ef71-48bc-a930-ec3e2c1a2c86\" target=\"_top\" title=\"psysml:0f9466c7-ef71-48bc-a930-ec3e2c1a2c86\" xlink:actuate=\"onRequest\" xlink:href=\"psysml:0f9466c7-ef71-48bc-a930-ec3e2c1a2c86\" xlink:show=\"new\" xlink:title=\"psysml:0f9466c7-ef71-48bc-a930-ec3e2c1a2c86\" xlink:type=\"simple\"><rect fill=\"#FFFFFF\" height=\"45.9375\" id=\"E7\" style=\"stroke: #383838; stroke-width: 1.5;\" width=\"66\" x=\"56\" y=\"154\"/><text fill=\"#000000\" font-family=\"sans-serif\" font-size=\"12\" font-style=\"italic\" lengthAdjust=\"spacingAndGlyphs\" textLength=\"64\" x=\"57\" y=\"170.1387\">«part def»</text><text fill=\"#000000\" font-family=\"sans-serif\" font-size=\"12\" lengthAdjust=\"spacingAndGlyphs\" textLength=\"8\" x=\"85\" y=\"184.1074\">B</text><line style=\"stroke: #383838; stroke-width: 1.5;\" x1=\"57\" x2=\"121\" y1=\"191.9375\" y2=\"191.9375\"/></a><!--MD5=[e9be52314489bd878ff4c7144b63c9e1]\n",
       "link E5 to E3--><a href=\"psysml:fc52ff88-f6bf-464b-a9f6-50c073522383\" target=\"_top\" title=\"psysml:fc52ff88-f6bf-464b-a9f6-50c073522383\" xlink:actuate=\"onRequest\" xlink:href=\"psysml:fc52ff88-f6bf-464b-a9f6-50c073522383\" xlink:show=\"new\" xlink:title=\"psysml:fc52ff88-f6bf-464b-a9f6-50c073522383\" xlink:type=\"simple\"><path d=\"M211,90.51 C211,102.89 211,118.78 211,133.48 \" fill=\"none\" id=\"E5-&gt;E3\" style=\"stroke: #383838; stroke-width: 1.0;\"/><polygon fill=\"#FFFFFF\" points=\"211,153.65,204,134.65,218,134.65,211,153.65\" style=\"stroke: #383838; stroke-width: 1.0;\"/><ellipse cx=\"206\" cy=\"128.95\" fill=\"#383838\" rx=\"2\" ry=\"2\" style=\"stroke: #383838; stroke-width: 1.0;\"/><ellipse cx=\"216\" cy=\"128.95\" fill=\"#383838\" rx=\"2\" ry=\"2\" style=\"stroke: #383838; stroke-width: 1.0;\"/></a><!--MD5=[bfa3c8b0d15052fdf50ae9310b491027]\n",
       "link E8 to E7--><a href=\"psysml:46d3b5b8-edad-416f-ae7d-d25648abca20\" target=\"_top\" title=\"psysml:46d3b5b8-edad-416f-ae7d-d25648abca20\" xlink:actuate=\"onRequest\" xlink:href=\"psysml:46d3b5b8-edad-416f-ae7d-d25648abca20\" xlink:show=\"new\" xlink:title=\"psysml:46d3b5b8-edad-416f-ae7d-d25648abca20\" xlink:type=\"simple\"><path d=\"M120.01,90.51 C115.39,103.25 109.42,119.7 103.96,134.76 \" fill=\"none\" id=\"E8-&gt;E7\" style=\"stroke: #383838; stroke-width: 1.0;\"/><polygon fill=\"#FFFFFF\" points=\"97.11,153.65,97.0036,133.4018,110.1656,138.1726,97.11,153.65\" style=\"stroke: #383838; stroke-width: 1.0;\"/><ellipse cx=\"100.8262\" cy=\"128.7245\" fill=\"#383838\" rx=\"2\" ry=\"2\" style=\"stroke: #383838; stroke-width: 1.0;\"/><ellipse cx=\"110.2277\" cy=\"132.1322\" fill=\"#383838\" rx=\"2\" ry=\"2\" style=\"stroke: #383838; stroke-width: 1.0;\"/></a><!--MD5=[4e9b1b132ecaf58108dad0b9c52bad9e]\n",
       "@startuml\r\n",
       "skinparam monochrome true\r\n",
       "skinparam classbackgroundcolor white\r\n",
       "skinparam shadowing false\r\n",
       "skinparam wrapWidth 300\r\n",
       "hide circle\r\n",
       "\r\n",
       "package \"PrivateImportTest\" as E1  [[psysml:679eaabc-5ff5-4f8e-91e0-c316c2e3864c ]]  {\r\n",
       "package \"P1\" as E2  [[psysml:009bdde2-dc25-4a27-9e47-f33e7b142b72 ]]  {\r\n",
       "comp def \"A\" as E3  <<(T,blue)part def>> [[psysml:3f36db9e-42d3-4087-b2e1-ec91d884c8c4 ]] {\r\n",
       "}\r\n",
       "}\r\n",
       "package \"P2\" as E4  [[psysml:6aec89c6-9258-4c03-89c0-e79f913ee5de ]]  {\r\n",
       "}\r\n",
       "comp usage \"x: A\" as E5  <<(T,blue)part>> [[psysml:ae15bfee-df16-4fee-9dc7-bf97e2180cfd ]] {\r\n",
       "}\r\n",
       "package \"P3\" as E6  [[psysml:b0bbce7f-63ab-4038-bed6-f72cdad2d833 ]]  {\r\n",
       "comp def \"B\" as E7  <<(T,blue)part def>> [[psysml:0f9466c7-ef71-48bc-a930-ec3e2c1a2c86 ]] {\r\n",
       "}\r\n",
       "E5 - -:|> E3 [[psysml:fc52ff88-f6bf-464b-a9f6-50c073522383 ]] \r\n",
       "}\r\n",
       "comp usage \"z: B\" as E8  <<(T,blue)part>> [[psysml:977e6037-d806-4fb0-bccf-0c48256693c8 ]] {\r\n",
       "}\r\n",
       "E8 - -:|> E7 [[psysml:46d3b5b8-edad-416f-ae7d-d25648abca20 ]] \r\n",
       "}\r\n",
       "@enduml\r\n",
       "\n",
       "PlantUML version 1.2020.13(Sat Jun 13 12:26:38 UTC 2020)\n",
       "(EPL source distribution)\n",
       "Java Runtime: OpenJDK Runtime Environment\n",
       "JVM: OpenJDK 64-Bit Server VM\n",
       "Default Encoding: UTF-8\n",
       "Language: en\n",
       "Country: null\n",
       "--></g></svg>"
      ]
     },
     "execution_count": 37,
     "metadata": {},
     "output_type": "execute_result"
    }
   ],
   "source": [
    "%viz --style=\"DEFAULT\" --view=\"Default\" \"PrivateImportTest\""
   ]
  },
  {
   "cell_type": "code",
   "execution_count": 38,
   "id": "surgical-universe",
   "metadata": {
    "execution": {
     "iopub.execute_input": "2021-03-24T16:28:06.079832Z",
     "iopub.status.busy": "2021-03-24T16:28:06.079473Z",
     "iopub.status.idle": "2021-03-24T16:28:06.106680Z",
     "shell.execute_reply": "2021-03-24T16:28:06.105302Z"
    }
   },
   "outputs": [
    {
     "data": {
      "image/svg+xml": [
       "<?xml version=\"1.0\" encoding=\"UTF-8\" standalone=\"no\"?><svg xmlns=\"http://www.w3.org/2000/svg\" xmlns:xlink=\"http://www.w3.org/1999/xlink\" contentScriptType=\"application/ecmascript\" contentStyleType=\"text/css\" height=\"252px\" preserveAspectRatio=\"none\" style=\"width:306px;height:252px;\" version=\"1.1\" viewBox=\"0 0 306 252\" width=\"306px\" zoomAndPan=\"magnify\"><defs/><g><!--MD5=[fbc87193dbaf4d95561dea2c320d4a47]\n",
       "cluster E1--><a href=\"psysml:679eaabc-5ff5-4f8e-91e0-c316c2e3864c\" target=\"_top\" title=\"psysml:679eaabc-5ff5-4f8e-91e0-c316c2e3864c\" xlink:actuate=\"onRequest\" xlink:href=\"psysml:679eaabc-5ff5-4f8e-91e0-c316c2e3864c\" xlink:show=\"new\" xlink:title=\"psysml:679eaabc-5ff5-4f8e-91e0-c316c2e3864c\" xlink:type=\"simple\"><polygon fill=\"#FFFFFF\" points=\"16,6,163,6,170,28.2969,284,28.2969,284,240,16,240,16,6\" style=\"stroke: #000000; stroke-width: 1.5;\"/><line style=\"stroke: #000000; stroke-width: 1.5;\" x1=\"16\" x2=\"170\" y1=\"28.2969\" y2=\"28.2969\"/><text fill=\"#000000\" font-family=\"sans-serif\" font-size=\"14\" font-weight=\"bold\" lengthAdjust=\"spacingAndGlyphs\" textLength=\"141\" x=\"20\" y=\"20.9951\">PrivateImportTest</text></a><!--MD5=[e4f7fae6ed58524ba242bb0b0d3be6b7]\n",
       "cluster E2--><a href=\"psysml:009bdde2-dc25-4a27-9e47-f33e7b142b72\" target=\"_top\" title=\"psysml:009bdde2-dc25-4a27-9e47-f33e7b142b72\" xlink:actuate=\"onRequest\" xlink:href=\"psysml:009bdde2-dc25-4a27-9e47-f33e7b142b72\" xlink:show=\"new\" xlink:title=\"psysml:009bdde2-dc25-4a27-9e47-f33e7b142b72\" xlink:type=\"simple\"><polygon fill=\"#FFFFFF\" points=\"162,119,188,119,195,141.2969,260,141.2969,260,216,162,216,162,119\" style=\"stroke: #000000; stroke-width: 1.5;\"/><line style=\"stroke: #000000; stroke-width: 1.5;\" x1=\"162\" x2=\"195\" y1=\"141.2969\" y2=\"141.2969\"/><text fill=\"#000000\" font-family=\"sans-serif\" font-size=\"14\" font-weight=\"bold\" lengthAdjust=\"spacingAndGlyphs\" textLength=\"20\" x=\"166\" y=\"133.9951\">P1</text></a><!--MD5=[14e3b0961a2654348d326746436168a1]\n",
       "cluster E6--><a href=\"psysml:b0bbce7f-63ab-4038-bed6-f72cdad2d833\" target=\"_top\" title=\"psysml:b0bbce7f-63ab-4038-bed6-f72cdad2d833\" xlink:actuate=\"onRequest\" xlink:href=\"psysml:b0bbce7f-63ab-4038-bed6-f72cdad2d833\" xlink:show=\"new\" xlink:title=\"psysml:b0bbce7f-63ab-4038-bed6-f72cdad2d833\" xlink:type=\"simple\"><polygon fill=\"#FFFFFF\" points=\"40,119,66,119,73,141.2969,138,141.2969,138,216,40,216,40,119\" style=\"stroke: #000000; stroke-width: 1.5;\"/><line style=\"stroke: #000000; stroke-width: 1.5;\" x1=\"40\" x2=\"73\" y1=\"141.2969\" y2=\"141.2969\"/><text fill=\"#000000\" font-family=\"sans-serif\" font-size=\"14\" font-weight=\"bold\" lengthAdjust=\"spacingAndGlyphs\" textLength=\"20\" x=\"44\" y=\"133.9951\">P3</text></a><!--MD5=[270fce915f116d4de14055a7c1d9a0f3]\n",
       "class E5--><a href=\"psysml:ae15bfee-df16-4fee-9dc7-bf97e2180cfd\" target=\"_top\" title=\"psysml:ae15bfee-df16-4fee-9dc7-bf97e2180cfd\" xlink:actuate=\"onRequest\" xlink:href=\"psysml:ae15bfee-df16-4fee-9dc7-bf97e2180cfd\" xlink:show=\"new\" xlink:title=\"psysml:ae15bfee-df16-4fee-9dc7-bf97e2180cfd\" xlink:type=\"simple\"><rect fill=\"#FFFFFF\" height=\"45.9375\" id=\"E5\" rx=\"10\" ry=\"10\" style=\"stroke: #383838; stroke-width: 1.5;\" width=\"42\" x=\"190\" y=\"44.5\"/><text fill=\"#000000\" font-family=\"sans-serif\" font-size=\"12\" font-style=\"italic\" lengthAdjust=\"spacingAndGlyphs\" textLength=\"40\" x=\"191\" y=\"60.6387\">«part»</text><text fill=\"#000000\" font-family=\"sans-serif\" font-size=\"12\" lengthAdjust=\"spacingAndGlyphs\" textLength=\"22\" x=\"200\" y=\"74.6074\">x: A</text><line style=\"stroke: #383838; stroke-width: 1.5;\" x1=\"191\" x2=\"231\" y1=\"82.4375\" y2=\"82.4375\"/></a><!--MD5=[b9389687b975829384b498ac4b7476b2]\n",
       "class E8--><a href=\"psysml:977e6037-d806-4fb0-bccf-0c48256693c8\" target=\"_top\" title=\"psysml:977e6037-d806-4fb0-bccf-0c48256693c8\" xlink:actuate=\"onRequest\" xlink:href=\"psysml:977e6037-d806-4fb0-bccf-0c48256693c8\" xlink:show=\"new\" xlink:title=\"psysml:977e6037-d806-4fb0-bccf-0c48256693c8\" xlink:type=\"simple\"><rect fill=\"#FFFFFF\" height=\"45.9375\" id=\"E8\" rx=\"10\" ry=\"10\" style=\"stroke: #383838; stroke-width: 1.5;\" width=\"42\" x=\"107\" y=\"44.5\"/><text fill=\"#000000\" font-family=\"sans-serif\" font-size=\"12\" font-style=\"italic\" lengthAdjust=\"spacingAndGlyphs\" textLength=\"40\" x=\"108\" y=\"60.6387\">«part»</text><text fill=\"#000000\" font-family=\"sans-serif\" font-size=\"12\" lengthAdjust=\"spacingAndGlyphs\" textLength=\"21\" x=\"117.5\" y=\"74.6074\">z: B</text><line style=\"stroke: #383838; stroke-width: 1.5;\" x1=\"108\" x2=\"148\" y1=\"82.4375\" y2=\"82.4375\"/></a><!--MD5=[09b614a08d8cba4a07c9adeb5e0fee81]\n",
       "class E3--><a href=\"psysml:3f36db9e-42d3-4087-b2e1-ec91d884c8c4\" target=\"_top\" title=\"psysml:3f36db9e-42d3-4087-b2e1-ec91d884c8c4\" xlink:actuate=\"onRequest\" xlink:href=\"psysml:3f36db9e-42d3-4087-b2e1-ec91d884c8c4\" xlink:show=\"new\" xlink:title=\"psysml:3f36db9e-42d3-4087-b2e1-ec91d884c8c4\" xlink:type=\"simple\"><rect fill=\"#FFFFFF\" height=\"45.9375\" id=\"E3\" style=\"stroke: #383838; stroke-width: 1.5;\" width=\"66\" x=\"178\" y=\"154\"/><text fill=\"#000000\" font-family=\"sans-serif\" font-size=\"12\" font-style=\"italic\" lengthAdjust=\"spacingAndGlyphs\" textLength=\"64\" x=\"179\" y=\"170.1387\">«part def»</text><text fill=\"#000000\" font-family=\"sans-serif\" font-size=\"12\" lengthAdjust=\"spacingAndGlyphs\" textLength=\"8\" x=\"207\" y=\"184.1074\">A</text><line style=\"stroke: #383838; stroke-width: 1.5;\" x1=\"179\" x2=\"243\" y1=\"191.9375\" y2=\"191.9375\"/></a><a href=\"psysml:6aec89c6-9258-4c03-89c0-e79f913ee5de\" target=\"_top\" title=\"psysml:6aec89c6-9258-4c03-89c0-e79f913ee5de\" xlink:actuate=\"onRequest\" xlink:href=\"psysml:6aec89c6-9258-4c03-89c0-e79f913ee5de\" xlink:show=\"new\" xlink:title=\"psysml:6aec89c6-9258-4c03-89c0-e79f913ee5de\" xlink:type=\"simple\"><polygon fill=\"#FFFFFF\" points=\"32,41,58,41,65,63.2969,72,63.2969,72,93.5938,32,93.5938,32,41\" style=\"stroke: #000000; stroke-width: 1.5;\"/><line style=\"stroke: #000000; stroke-width: 1.5;\" x1=\"32\" x2=\"65\" y1=\"63.2969\" y2=\"63.2969\"/><text fill=\"#000000\" font-family=\"sans-serif\" font-size=\"14\" font-weight=\"bold\" lengthAdjust=\"spacingAndGlyphs\" textLength=\"20\" x=\"36\" y=\"55.9951\">P2</text></a><!--MD5=[2156ba9850f5573cc1fc38a6a4b2f02b]\n",
       "class E7--><a href=\"psysml:0f9466c7-ef71-48bc-a930-ec3e2c1a2c86\" target=\"_top\" title=\"psysml:0f9466c7-ef71-48bc-a930-ec3e2c1a2c86\" xlink:actuate=\"onRequest\" xlink:href=\"psysml:0f9466c7-ef71-48bc-a930-ec3e2c1a2c86\" xlink:show=\"new\" xlink:title=\"psysml:0f9466c7-ef71-48bc-a930-ec3e2c1a2c86\" xlink:type=\"simple\"><rect fill=\"#FFFFFF\" height=\"45.9375\" id=\"E7\" style=\"stroke: #383838; stroke-width: 1.5;\" width=\"66\" x=\"56\" y=\"154\"/><text fill=\"#000000\" font-family=\"sans-serif\" font-size=\"12\" font-style=\"italic\" lengthAdjust=\"spacingAndGlyphs\" textLength=\"64\" x=\"57\" y=\"170.1387\">«part def»</text><text fill=\"#000000\" font-family=\"sans-serif\" font-size=\"12\" lengthAdjust=\"spacingAndGlyphs\" textLength=\"8\" x=\"85\" y=\"184.1074\">B</text><line style=\"stroke: #383838; stroke-width: 1.5;\" x1=\"57\" x2=\"121\" y1=\"191.9375\" y2=\"191.9375\"/></a><!--MD5=[e9be52314489bd878ff4c7144b63c9e1]\n",
       "link E5 to E3--><a href=\"psysml:fc52ff88-f6bf-464b-a9f6-50c073522383\" target=\"_top\" title=\"psysml:fc52ff88-f6bf-464b-a9f6-50c073522383\" xlink:actuate=\"onRequest\" xlink:href=\"psysml:fc52ff88-f6bf-464b-a9f6-50c073522383\" xlink:show=\"new\" xlink:title=\"psysml:fc52ff88-f6bf-464b-a9f6-50c073522383\" xlink:type=\"simple\"><path d=\"M211,90.51 C211,102.89 211,118.78 211,133.48 \" fill=\"none\" id=\"E5-&gt;E3\" style=\"stroke: #383838; stroke-width: 1.0;\"/><polygon fill=\"#FFFFFF\" points=\"211,153.65,204,134.65,218,134.65,211,153.65\" style=\"stroke: #383838; stroke-width: 1.0;\"/><ellipse cx=\"206\" cy=\"128.95\" fill=\"#383838\" rx=\"2\" ry=\"2\" style=\"stroke: #383838; stroke-width: 1.0;\"/><ellipse cx=\"216\" cy=\"128.95\" fill=\"#383838\" rx=\"2\" ry=\"2\" style=\"stroke: #383838; stroke-width: 1.0;\"/></a><!--MD5=[bfa3c8b0d15052fdf50ae9310b491027]\n",
       "link E8 to E7--><a href=\"psysml:46d3b5b8-edad-416f-ae7d-d25648abca20\" target=\"_top\" title=\"psysml:46d3b5b8-edad-416f-ae7d-d25648abca20\" xlink:actuate=\"onRequest\" xlink:href=\"psysml:46d3b5b8-edad-416f-ae7d-d25648abca20\" xlink:show=\"new\" xlink:title=\"psysml:46d3b5b8-edad-416f-ae7d-d25648abca20\" xlink:type=\"simple\"><path d=\"M120.01,90.51 C115.39,103.25 109.42,119.7 103.96,134.76 \" fill=\"none\" id=\"E8-&gt;E7\" style=\"stroke: #383838; stroke-width: 1.0;\"/><polygon fill=\"#FFFFFF\" points=\"97.11,153.65,97.0036,133.4018,110.1656,138.1726,97.11,153.65\" style=\"stroke: #383838; stroke-width: 1.0;\"/><ellipse cx=\"100.8262\" cy=\"128.7245\" fill=\"#383838\" rx=\"2\" ry=\"2\" style=\"stroke: #383838; stroke-width: 1.0;\"/><ellipse cx=\"110.2277\" cy=\"132.1322\" fill=\"#383838\" rx=\"2\" ry=\"2\" style=\"stroke: #383838; stroke-width: 1.0;\"/></a><!--MD5=[4e9b1b132ecaf58108dad0b9c52bad9e]\n",
       "@startuml\r\n",
       "skinparam monochrome true\r\n",
       "skinparam classbackgroundcolor white\r\n",
       "skinparam shadowing false\r\n",
       "skinparam wrapWidth 300\r\n",
       "hide circle\r\n",
       "\r\n",
       "package \"PrivateImportTest\" as E1  [[psysml:679eaabc-5ff5-4f8e-91e0-c316c2e3864c ]]  {\r\n",
       "package \"P1\" as E2  [[psysml:009bdde2-dc25-4a27-9e47-f33e7b142b72 ]]  {\r\n",
       "comp def \"A\" as E3  <<(T,blue)part def>> [[psysml:3f36db9e-42d3-4087-b2e1-ec91d884c8c4 ]] {\r\n",
       "}\r\n",
       "}\r\n",
       "package \"P2\" as E4  [[psysml:6aec89c6-9258-4c03-89c0-e79f913ee5de ]]  {\r\n",
       "}\r\n",
       "comp usage \"x: A\" as E5  <<(T,blue)part>> [[psysml:ae15bfee-df16-4fee-9dc7-bf97e2180cfd ]] {\r\n",
       "}\r\n",
       "package \"P3\" as E6  [[psysml:b0bbce7f-63ab-4038-bed6-f72cdad2d833 ]]  {\r\n",
       "comp def \"B\" as E7  <<(T,blue)part def>> [[psysml:0f9466c7-ef71-48bc-a930-ec3e2c1a2c86 ]] {\r\n",
       "}\r\n",
       "E5 - -:|> E3 [[psysml:fc52ff88-f6bf-464b-a9f6-50c073522383 ]] \r\n",
       "}\r\n",
       "comp usage \"z: B\" as E8  <<(T,blue)part>> [[psysml:977e6037-d806-4fb0-bccf-0c48256693c8 ]] {\r\n",
       "}\r\n",
       "E8 - -:|> E7 [[psysml:46d3b5b8-edad-416f-ae7d-d25648abca20 ]] \r\n",
       "}\r\n",
       "@enduml\r\n",
       "\n",
       "PlantUML version 1.2020.13(Sat Jun 13 12:26:38 UTC 2020)\n",
       "(EPL source distribution)\n",
       "Java Runtime: OpenJDK Runtime Environment\n",
       "JVM: OpenJDK 64-Bit Server VM\n",
       "Default Encoding: UTF-8\n",
       "Language: en\n",
       "Country: null\n",
       "--></g></svg>"
      ]
     },
     "execution_count": 38,
     "metadata": {},
     "output_type": "execute_result"
    }
   ],
   "source": [
    "%viz --style=\"DEFAULT\" --view=\"Tree\" \"PrivateImportTest\""
   ]
  },
  {
   "cell_type": "code",
   "execution_count": 39,
   "id": "superb-cigarette",
   "metadata": {
    "execution": {
     "iopub.execute_input": "2021-03-24T16:28:06.156425Z",
     "iopub.status.busy": "2021-03-24T16:28:06.156071Z",
     "iopub.status.idle": "2021-03-24T16:28:06.160658Z",
     "shell.execute_reply": "2021-03-24T16:28:06.160343Z"
    }
   },
   "outputs": [
    {
     "data": {
      "image/svg+xml": [
       "<?xml version=\"1.0\" encoding=\"UTF-8\" standalone=\"no\"?><svg xmlns=\"http://www.w3.org/2000/svg\" xmlns:xlink=\"http://www.w3.org/1999/xlink\" contentScriptType=\"application/ecmascript\" contentStyleType=\"text/css\" height=\"12px\" preserveAspectRatio=\"none\" style=\"width:12px;height:12px;\" version=\"1.1\" viewBox=\"0 0 12 12\" width=\"12px\" zoomAndPan=\"magnify\"><defs/><g><!--MD5=[c5f280e076d0d61ccf4b0f27871bda1d]\n",
       "@startuml\r\n",
       "skinparam monochrome true\r\n",
       "skinparam classbackgroundcolor white\r\n",
       "skinparam shadowing false\r\n",
       "skinparam wrapWidth 300\r\n",
       "hide circle\r\n",
       "\r\n",
       "@enduml\r\n",
       "\n",
       "PlantUML version 1.2020.13(Sat Jun 13 12:26:38 UTC 2020)\n",
       "(EPL source distribution)\n",
       "Java Runtime: OpenJDK Runtime Environment\n",
       "JVM: OpenJDK 64-Bit Server VM\n",
       "Default Encoding: UTF-8\n",
       "Language: en\n",
       "Country: null\n",
       "--></g></svg>"
      ]
     },
     "execution_count": 39,
     "metadata": {},
     "output_type": "execute_result"
    }
   ],
   "source": [
    "%viz --style=\"DEFAULT\" --view=\"State\" \"PrivateImportTest\""
   ]
  },
  {
   "cell_type": "code",
   "execution_count": 40,
   "id": "viral-creation",
   "metadata": {
    "execution": {
     "iopub.execute_input": "2021-03-24T16:28:06.211384Z",
     "iopub.status.busy": "2021-03-24T16:28:06.210977Z",
     "iopub.status.idle": "2021-03-24T16:28:06.235444Z",
     "shell.execute_reply": "2021-03-24T16:28:06.233852Z"
    }
   },
   "outputs": [
    {
     "data": {
      "image/svg+xml": [
       "<?xml version=\"1.0\" encoding=\"UTF-8\" standalone=\"no\"?><svg xmlns=\"http://www.w3.org/2000/svg\" xmlns:xlink=\"http://www.w3.org/1999/xlink\" contentScriptType=\"application/ecmascript\" contentStyleType=\"text/css\" height=\"179px\" preserveAspectRatio=\"none\" style=\"width:539px;height:179px;\" version=\"1.1\" viewBox=\"0 0 539 179\" width=\"539px\" zoomAndPan=\"magnify\"><defs/><g><!--MD5=[fbc87193dbaf4d95561dea2c320d4a47]\n",
       "cluster E1--><a href=\"psysml:679eaabc-5ff5-4f8e-91e0-c316c2e3864c\" target=\"_top\" title=\"psysml:679eaabc-5ff5-4f8e-91e0-c316c2e3864c\" xlink:actuate=\"onRequest\" xlink:href=\"psysml:679eaabc-5ff5-4f8e-91e0-c316c2e3864c\" xlink:show=\"new\" xlink:title=\"psysml:679eaabc-5ff5-4f8e-91e0-c316c2e3864c\" xlink:type=\"simple\"><polygon fill=\"#FFFFFF\" points=\"16,6,163,6,170,28.2969,517,28.2969,517,167,16,167,16,6\" style=\"stroke: #000000; stroke-width: 1.5;\"/><line style=\"stroke: #000000; stroke-width: 1.5;\" x1=\"16\" x2=\"170\" y1=\"28.2969\" y2=\"28.2969\"/><text fill=\"#000000\" font-family=\"sans-serif\" font-size=\"14\" font-weight=\"bold\" lengthAdjust=\"spacingAndGlyphs\" textLength=\"141\" x=\"20\" y=\"20.9951\">PrivateImportTest</text></a><!--MD5=[e4f7fae6ed58524ba242bb0b0d3be6b7]\n",
       "cluster E2--><a href=\"psysml:009bdde2-dc25-4a27-9e47-f33e7b142b72\" target=\"_top\" title=\"psysml:009bdde2-dc25-4a27-9e47-f33e7b142b72\" xlink:actuate=\"onRequest\" xlink:href=\"psysml:009bdde2-dc25-4a27-9e47-f33e7b142b72\" xlink:show=\"new\" xlink:title=\"psysml:009bdde2-dc25-4a27-9e47-f33e7b142b72\" xlink:type=\"simple\"><polygon fill=\"#FFFFFF\" points=\"389,49,415,49,422,71.2969,493,71.2969,493,143,389,143,389,49\" style=\"stroke: #000000; stroke-width: 1.5;\"/><line style=\"stroke: #000000; stroke-width: 1.5;\" x1=\"389\" x2=\"422\" y1=\"71.2969\" y2=\"71.2969\"/><text fill=\"#000000\" font-family=\"sans-serif\" font-size=\"14\" font-weight=\"bold\" lengthAdjust=\"spacingAndGlyphs\" textLength=\"20\" x=\"393\" y=\"63.9951\">P1</text></a><!--MD5=[14e3b0961a2654348d326746436168a1]\n",
       "cluster E6--><a href=\"psysml:b0bbce7f-63ab-4038-bed6-f72cdad2d833\" target=\"_top\" title=\"psysml:b0bbce7f-63ab-4038-bed6-f72cdad2d833\" xlink:actuate=\"onRequest\" xlink:href=\"psysml:b0bbce7f-63ab-4038-bed6-f72cdad2d833\" xlink:show=\"new\" xlink:title=\"psysml:b0bbce7f-63ab-4038-bed6-f72cdad2d833\" xlink:type=\"simple\"><polygon fill=\"#FFFFFF\" points=\"261,49,287,49,294,71.2969,365,71.2969,365,143,261,143,261,49\" style=\"stroke: #000000; stroke-width: 1.5;\"/><line style=\"stroke: #000000; stroke-width: 1.5;\" x1=\"261\" x2=\"294\" y1=\"71.2969\" y2=\"71.2969\"/><text fill=\"#000000\" font-family=\"sans-serif\" font-size=\"14\" font-weight=\"bold\" lengthAdjust=\"spacingAndGlyphs\" textLength=\"20\" x=\"265\" y=\"63.9951\">P3</text></a><g id=\"E1.E2.E3\"><a href=\"psysml:3f36db9e-42d3-4087-b2e1-ec91d884c8c4\" target=\"_top\" title=\"psysml:3f36db9e-42d3-4087-b2e1-ec91d884c8c4\" xlink:actuate=\"onRequest\" xlink:href=\"psysml:3f36db9e-42d3-4087-b2e1-ec91d884c8c4\" xlink:show=\"new\" xlink:title=\"psysml:3f36db9e-42d3-4087-b2e1-ec91d884c8c4\" xlink:type=\"simple\"><rect fill=\"#FFFFFF\" height=\"42.9375\" id=\"E3\" style=\"stroke: #383838; stroke-width: 1.5;\" width=\"71\" x=\"405.5\" y=\"84\"/><rect fill=\"#F8F8F8\" height=\"37.9375\" style=\"stroke: #383838; stroke-width: 1.5;\" width=\"71\" x=\"405.5\" y=\"84\"/><text fill=\"#000000\" font-family=\"sans-serif\" font-size=\"12\" font-style=\"italic\" lengthAdjust=\"spacingAndGlyphs\" textLength=\"64\" x=\"409\" y=\"100.1387\">«part def»</text><text fill=\"#000000\" font-family=\"sans-serif\" font-size=\"12\" lengthAdjust=\"spacingAndGlyphs\" textLength=\"8\" x=\"437\" y=\"114.1074\">A</text></a></g><a href=\"psysml:6aec89c6-9258-4c03-89c0-e79f913ee5de\" target=\"_top\" title=\"psysml:6aec89c6-9258-4c03-89c0-e79f913ee5de\" xlink:actuate=\"onRequest\" xlink:href=\"psysml:6aec89c6-9258-4c03-89c0-e79f913ee5de\" xlink:show=\"new\" xlink:title=\"psysml:6aec89c6-9258-4c03-89c0-e79f913ee5de\" xlink:type=\"simple\"><polygon fill=\"#FFFFFF\" points=\"202,79,228,79,235,101.2969,242,101.2969,242,131.5938,202,131.5938,202,79\" style=\"stroke: #000000; stroke-width: 1.5;\"/><line style=\"stroke: #000000; stroke-width: 1.5;\" x1=\"202\" x2=\"235\" y1=\"101.2969\" y2=\"101.2969\"/><text fill=\"#000000\" font-family=\"sans-serif\" font-size=\"14\" font-weight=\"bold\" lengthAdjust=\"spacingAndGlyphs\" textLength=\"20\" x=\"206\" y=\"93.9951\">P2</text></a><g id=\"E1.E5\"><a href=\"psysml:ae15bfee-df16-4fee-9dc7-bf97e2180cfd\" target=\"_top\" title=\"psysml:ae15bfee-df16-4fee-9dc7-bf97e2180cfd\" xlink:actuate=\"onRequest\" xlink:href=\"psysml:ae15bfee-df16-4fee-9dc7-bf97e2180cfd\" xlink:show=\"new\" xlink:title=\"psysml:ae15bfee-df16-4fee-9dc7-bf97e2180cfd\" xlink:type=\"simple\"><rect fill=\"#FFFFFF\" height=\"40\" id=\"E5\" rx=\"10\" ry=\"10\" style=\"stroke: #383838; stroke-width: 1.5;\" width=\"50\" x=\"117\" y=\"85.5\"/><rect fill=\"#F8F8F8\" height=\"23.9688\" rx=\"10\" ry=\"10\" style=\"stroke: #F8F8F8; stroke-width: 1.5;\" width=\"50\" x=\"117\" y=\"85.5\"/><rect fill=\"#F8F8F8\" height=\"10\" style=\"stroke: #F8F8F8; stroke-width: 1.5;\" width=\"50\" x=\"117\" y=\"99.4688\"/><rect fill=\"none\" height=\"40\" id=\"E5\" rx=\"10\" ry=\"10\" style=\"stroke: #383838; stroke-width: 1.5;\" width=\"50\" x=\"117\" y=\"85.5\"/><text fill=\"#000000\" font-family=\"sans-serif\" font-size=\"12\" lengthAdjust=\"spacingAndGlyphs\" textLength=\"22\" x=\"131\" y=\"101.6387\">x: A</text></a></g><g id=\"E1.E6.E7\"><a href=\"psysml:0f9466c7-ef71-48bc-a930-ec3e2c1a2c86\" target=\"_top\" title=\"psysml:0f9466c7-ef71-48bc-a930-ec3e2c1a2c86\" xlink:actuate=\"onRequest\" xlink:href=\"psysml:0f9466c7-ef71-48bc-a930-ec3e2c1a2c86\" xlink:show=\"new\" xlink:title=\"psysml:0f9466c7-ef71-48bc-a930-ec3e2c1a2c86\" xlink:type=\"simple\"><rect fill=\"#FFFFFF\" height=\"42.9375\" id=\"E7\" style=\"stroke: #383838; stroke-width: 1.5;\" width=\"71\" x=\"277.5\" y=\"84\"/><rect fill=\"#F8F8F8\" height=\"37.9375\" style=\"stroke: #383838; stroke-width: 1.5;\" width=\"71\" x=\"277.5\" y=\"84\"/><text fill=\"#000000\" font-family=\"sans-serif\" font-size=\"12\" font-style=\"italic\" lengthAdjust=\"spacingAndGlyphs\" textLength=\"64\" x=\"281\" y=\"100.1387\">«part def»</text><text fill=\"#000000\" font-family=\"sans-serif\" font-size=\"12\" lengthAdjust=\"spacingAndGlyphs\" textLength=\"8\" x=\"309\" y=\"114.1074\">B</text></a></g><g id=\"E1.E8\"><a href=\"psysml:977e6037-d806-4fb0-bccf-0c48256693c8\" target=\"_top\" title=\"psysml:977e6037-d806-4fb0-bccf-0c48256693c8\" xlink:actuate=\"onRequest\" xlink:href=\"psysml:977e6037-d806-4fb0-bccf-0c48256693c8\" xlink:show=\"new\" xlink:title=\"psysml:977e6037-d806-4fb0-bccf-0c48256693c8\" xlink:type=\"simple\"><rect fill=\"#FFFFFF\" height=\"40\" id=\"E8\" rx=\"10\" ry=\"10\" style=\"stroke: #383838; stroke-width: 1.5;\" width=\"50\" x=\"32\" y=\"85.5\"/><rect fill=\"#F8F8F8\" height=\"23.9688\" rx=\"10\" ry=\"10\" style=\"stroke: #F8F8F8; stroke-width: 1.5;\" width=\"50\" x=\"32\" y=\"85.5\"/><rect fill=\"#F8F8F8\" height=\"10\" style=\"stroke: #F8F8F8; stroke-width: 1.5;\" width=\"50\" x=\"32\" y=\"99.4688\"/><rect fill=\"none\" height=\"40\" id=\"E8\" rx=\"10\" ry=\"10\" style=\"stroke: #383838; stroke-width: 1.5;\" width=\"50\" x=\"32\" y=\"85.5\"/><text fill=\"#000000\" font-family=\"sans-serif\" font-size=\"12\" lengthAdjust=\"spacingAndGlyphs\" textLength=\"21\" x=\"46.5\" y=\"101.6387\">z: B</text></a></g><!--MD5=[aa232bd2cc5b23b696f7544e70918291]\n",
       "@startuml\r\n",
       "skinparam ranksep 10\r\n",
       "skinparam rectangle {\r\n",
       " backgroundColor<<block>> LightGreen\r\n",
       "}\r\n",
       "skinparam monochrome true\r\n",
       "skinparam classbackgroundcolor white\r\n",
       "skinparam shadowing false\r\n",
       "skinparam wrapWidth 300\r\n",
       "hide circle\r\n",
       "\r\n",
       "package \"PrivateImportTest\" as E1  [[psysml:679eaabc-5ff5-4f8e-91e0-c316c2e3864c ]]  {\r\n",
       "package \"P1\" as E2  [[psysml:009bdde2-dc25-4a27-9e47-f33e7b142b72 ]]  {\r\n",
       "rec def \"A\" as E3  <<(T,blue)part def>> [[psysml:3f36db9e-42d3-4087-b2e1-ec91d884c8c4 ]] {\r\n",
       "}\r\n",
       "}\r\n",
       "package \"P2\" as E4  [[psysml:6aec89c6-9258-4c03-89c0-e79f913ee5de ]]  {\r\n",
       "}\r\n",
       "rec usage \"x: A\" as E5  [[psysml:ae15bfee-df16-4fee-9dc7-bf97e2180cfd ]] {\r\n",
       "}\r\n",
       "package \"P3\" as E6  [[psysml:b0bbce7f-63ab-4038-bed6-f72cdad2d833 ]]  {\r\n",
       "rec def \"B\" as E7  <<(T,blue)part def>> [[psysml:0f9466c7-ef71-48bc-a930-ec3e2c1a2c86 ]] {\r\n",
       "}\r\n",
       "}\r\n",
       "rec usage \"z: B\" as E8  [[psysml:977e6037-d806-4fb0-bccf-0c48256693c8 ]] {\r\n",
       "}\r\n",
       "}\r\n",
       "@enduml\r\n",
       "\n",
       "PlantUML version 1.2020.13(Sat Jun 13 12:26:38 UTC 2020)\n",
       "(EPL source distribution)\n",
       "Java Runtime: OpenJDK Runtime Environment\n",
       "JVM: OpenJDK 64-Bit Server VM\n",
       "Default Encoding: UTF-8\n",
       "Language: en\n",
       "Country: null\n",
       "--></g></svg>"
      ]
     },
     "execution_count": 40,
     "metadata": {},
     "output_type": "execute_result"
    }
   ],
   "source": [
    "%viz --style=\"DEFAULT\" --view=\"Interconnection\" \"PrivateImportTest\""
   ]
  },
  {
   "cell_type": "code",
   "execution_count": 41,
   "id": "faced-attachment",
   "metadata": {
    "execution": {
     "iopub.execute_input": "2021-03-24T16:28:06.285290Z",
     "iopub.status.busy": "2021-03-24T16:28:06.284936Z",
     "iopub.status.idle": "2021-03-24T16:28:06.288910Z",
     "shell.execute_reply": "2021-03-24T16:28:06.288620Z"
    }
   },
   "outputs": [
    {
     "data": {
      "image/svg+xml": [
       "<?xml version=\"1.0\" encoding=\"UTF-8\" standalone=\"no\"?><svg xmlns=\"http://www.w3.org/2000/svg\" xmlns:xlink=\"http://www.w3.org/1999/xlink\" contentScriptType=\"application/ecmascript\" contentStyleType=\"text/css\" height=\"12px\" preserveAspectRatio=\"none\" style=\"width:12px;height:12px;\" version=\"1.1\" viewBox=\"0 0 12 12\" width=\"12px\" zoomAndPan=\"magnify\"><defs/><g><!--MD5=[388f21188e31bfdd97050473b19af356]\n",
       "@startuml\r\n",
       "skinparam ranksep 8\r\n",
       "skinparam monochrome true\r\n",
       "skinparam classbackgroundcolor white\r\n",
       "skinparam shadowing false\r\n",
       "skinparam wrapWidth 300\r\n",
       "hide circle\r\n",
       "\r\n",
       "@enduml\r\n",
       "\n",
       "PlantUML version 1.2020.13(Sat Jun 13 12:26:38 UTC 2020)\n",
       "(EPL source distribution)\n",
       "Java Runtime: OpenJDK Runtime Environment\n",
       "JVM: OpenJDK 64-Bit Server VM\n",
       "Default Encoding: UTF-8\n",
       "Language: en\n",
       "Country: null\n",
       "--></g></svg>"
      ]
     },
     "execution_count": 41,
     "metadata": {},
     "output_type": "execute_result"
    }
   ],
   "source": [
    "%viz --style=\"DEFAULT\" --view=\"Action\" \"PrivateImportTest\""
   ]
  },
  {
   "cell_type": "code",
   "execution_count": 42,
   "id": "introductory-drinking",
   "metadata": {
    "execution": {
     "iopub.execute_input": "2021-03-24T16:28:06.339535Z",
     "iopub.status.busy": "2021-03-24T16:28:06.339147Z",
     "iopub.status.idle": "2021-03-24T16:28:06.368438Z",
     "shell.execute_reply": "2021-03-24T16:28:06.366634Z"
    }
   },
   "outputs": [
    {
     "data": {
      "image/svg+xml": [
       "<?xml version=\"1.0\" encoding=\"UTF-8\" standalone=\"no\"?><svg xmlns=\"http://www.w3.org/2000/svg\" xmlns:xlink=\"http://www.w3.org/1999/xlink\" contentScriptType=\"application/ecmascript\" contentStyleType=\"text/css\" height=\"252px\" preserveAspectRatio=\"none\" style=\"width:306px;height:252px;\" version=\"1.1\" viewBox=\"0 0 306 252\" width=\"306px\" zoomAndPan=\"magnify\"><defs/><g><!--MD5=[fbc87193dbaf4d95561dea2c320d4a47]\n",
       "cluster E1--><a href=\"psysml:679eaabc-5ff5-4f8e-91e0-c316c2e3864c\" target=\"_top\" title=\"psysml:679eaabc-5ff5-4f8e-91e0-c316c2e3864c\" xlink:actuate=\"onRequest\" xlink:href=\"psysml:679eaabc-5ff5-4f8e-91e0-c316c2e3864c\" xlink:show=\"new\" xlink:title=\"psysml:679eaabc-5ff5-4f8e-91e0-c316c2e3864c\" xlink:type=\"simple\"><polygon fill=\"#FFFFFF\" points=\"16,6,163,6,170,28.2969,284,28.2969,284,240,16,240,16,6\" style=\"stroke: #000000; stroke-width: 1.5;\"/><line style=\"stroke: #000000; stroke-width: 1.5;\" x1=\"16\" x2=\"170\" y1=\"28.2969\" y2=\"28.2969\"/><text fill=\"#000000\" font-family=\"sans-serif\" font-size=\"14\" font-weight=\"bold\" lengthAdjust=\"spacingAndGlyphs\" textLength=\"141\" x=\"20\" y=\"20.9951\">PrivateImportTest</text></a><!--MD5=[e4f7fae6ed58524ba242bb0b0d3be6b7]\n",
       "cluster E2--><a href=\"psysml:009bdde2-dc25-4a27-9e47-f33e7b142b72\" target=\"_top\" title=\"psysml:009bdde2-dc25-4a27-9e47-f33e7b142b72\" xlink:actuate=\"onRequest\" xlink:href=\"psysml:009bdde2-dc25-4a27-9e47-f33e7b142b72\" xlink:show=\"new\" xlink:title=\"psysml:009bdde2-dc25-4a27-9e47-f33e7b142b72\" xlink:type=\"simple\"><polygon fill=\"#FFFFFF\" points=\"162,119,188,119,195,141.2969,260,141.2969,260,216,162,216,162,119\" style=\"stroke: #000000; stroke-width: 1.5;\"/><line style=\"stroke: #000000; stroke-width: 1.5;\" x1=\"162\" x2=\"195\" y1=\"141.2969\" y2=\"141.2969\"/><text fill=\"#000000\" font-family=\"sans-serif\" font-size=\"14\" font-weight=\"bold\" lengthAdjust=\"spacingAndGlyphs\" textLength=\"20\" x=\"166\" y=\"133.9951\">P1</text></a><!--MD5=[14e3b0961a2654348d326746436168a1]\n",
       "cluster E6--><a href=\"psysml:b0bbce7f-63ab-4038-bed6-f72cdad2d833\" target=\"_top\" title=\"psysml:b0bbce7f-63ab-4038-bed6-f72cdad2d833\" xlink:actuate=\"onRequest\" xlink:href=\"psysml:b0bbce7f-63ab-4038-bed6-f72cdad2d833\" xlink:show=\"new\" xlink:title=\"psysml:b0bbce7f-63ab-4038-bed6-f72cdad2d833\" xlink:type=\"simple\"><polygon fill=\"#FFFFFF\" points=\"40,119,66,119,73,141.2969,138,141.2969,138,216,40,216,40,119\" style=\"stroke: #000000; stroke-width: 1.5;\"/><line style=\"stroke: #000000; stroke-width: 1.5;\" x1=\"40\" x2=\"73\" y1=\"141.2969\" y2=\"141.2969\"/><text fill=\"#000000\" font-family=\"sans-serif\" font-size=\"14\" font-weight=\"bold\" lengthAdjust=\"spacingAndGlyphs\" textLength=\"20\" x=\"44\" y=\"133.9951\">P3</text></a><!--MD5=[270fce915f116d4de14055a7c1d9a0f3]\n",
       "class E5--><a href=\"psysml:ae15bfee-df16-4fee-9dc7-bf97e2180cfd\" target=\"_top\" title=\"psysml:ae15bfee-df16-4fee-9dc7-bf97e2180cfd\" xlink:actuate=\"onRequest\" xlink:href=\"psysml:ae15bfee-df16-4fee-9dc7-bf97e2180cfd\" xlink:show=\"new\" xlink:title=\"psysml:ae15bfee-df16-4fee-9dc7-bf97e2180cfd\" xlink:type=\"simple\"><rect fill=\"#FFFFFF\" height=\"45.9375\" id=\"E5\" rx=\"10\" ry=\"10\" style=\"stroke: #383838; stroke-width: 1.5;\" width=\"42\" x=\"190\" y=\"44.5\"/><text fill=\"#000000\" font-family=\"sans-serif\" font-size=\"12\" font-style=\"italic\" lengthAdjust=\"spacingAndGlyphs\" textLength=\"40\" x=\"191\" y=\"60.6387\">«part»</text><text fill=\"#000000\" font-family=\"sans-serif\" font-size=\"12\" lengthAdjust=\"spacingAndGlyphs\" textLength=\"22\" x=\"200\" y=\"74.6074\">x: A</text><line style=\"stroke: #383838; stroke-width: 1.5;\" x1=\"191\" x2=\"231\" y1=\"82.4375\" y2=\"82.4375\"/></a><!--MD5=[b9389687b975829384b498ac4b7476b2]\n",
       "class E8--><a href=\"psysml:977e6037-d806-4fb0-bccf-0c48256693c8\" target=\"_top\" title=\"psysml:977e6037-d806-4fb0-bccf-0c48256693c8\" xlink:actuate=\"onRequest\" xlink:href=\"psysml:977e6037-d806-4fb0-bccf-0c48256693c8\" xlink:show=\"new\" xlink:title=\"psysml:977e6037-d806-4fb0-bccf-0c48256693c8\" xlink:type=\"simple\"><rect fill=\"#FFFFFF\" height=\"45.9375\" id=\"E8\" rx=\"10\" ry=\"10\" style=\"stroke: #383838; stroke-width: 1.5;\" width=\"42\" x=\"107\" y=\"44.5\"/><text fill=\"#000000\" font-family=\"sans-serif\" font-size=\"12\" font-style=\"italic\" lengthAdjust=\"spacingAndGlyphs\" textLength=\"40\" x=\"108\" y=\"60.6387\">«part»</text><text fill=\"#000000\" font-family=\"sans-serif\" font-size=\"12\" lengthAdjust=\"spacingAndGlyphs\" textLength=\"21\" x=\"117.5\" y=\"74.6074\">z: B</text><line style=\"stroke: #383838; stroke-width: 1.5;\" x1=\"108\" x2=\"148\" y1=\"82.4375\" y2=\"82.4375\"/></a><!--MD5=[09b614a08d8cba4a07c9adeb5e0fee81]\n",
       "class E3--><a href=\"psysml:3f36db9e-42d3-4087-b2e1-ec91d884c8c4\" target=\"_top\" title=\"psysml:3f36db9e-42d3-4087-b2e1-ec91d884c8c4\" xlink:actuate=\"onRequest\" xlink:href=\"psysml:3f36db9e-42d3-4087-b2e1-ec91d884c8c4\" xlink:show=\"new\" xlink:title=\"psysml:3f36db9e-42d3-4087-b2e1-ec91d884c8c4\" xlink:type=\"simple\"><rect fill=\"#FFFFFF\" height=\"45.9375\" id=\"E3\" style=\"stroke: #383838; stroke-width: 1.5;\" width=\"66\" x=\"178\" y=\"154\"/><text fill=\"#000000\" font-family=\"sans-serif\" font-size=\"12\" font-style=\"italic\" lengthAdjust=\"spacingAndGlyphs\" textLength=\"64\" x=\"179\" y=\"170.1387\">«part def»</text><text fill=\"#000000\" font-family=\"sans-serif\" font-size=\"12\" lengthAdjust=\"spacingAndGlyphs\" textLength=\"8\" x=\"207\" y=\"184.1074\">A</text><line style=\"stroke: #383838; stroke-width: 1.5;\" x1=\"179\" x2=\"243\" y1=\"191.9375\" y2=\"191.9375\"/></a><a href=\"psysml:6aec89c6-9258-4c03-89c0-e79f913ee5de\" target=\"_top\" title=\"psysml:6aec89c6-9258-4c03-89c0-e79f913ee5de\" xlink:actuate=\"onRequest\" xlink:href=\"psysml:6aec89c6-9258-4c03-89c0-e79f913ee5de\" xlink:show=\"new\" xlink:title=\"psysml:6aec89c6-9258-4c03-89c0-e79f913ee5de\" xlink:type=\"simple\"><polygon fill=\"#FFFFFF\" points=\"32,41,58,41,65,63.2969,72,63.2969,72,93.5938,32,93.5938,32,41\" style=\"stroke: #000000; stroke-width: 1.5;\"/><line style=\"stroke: #000000; stroke-width: 1.5;\" x1=\"32\" x2=\"65\" y1=\"63.2969\" y2=\"63.2969\"/><text fill=\"#000000\" font-family=\"sans-serif\" font-size=\"14\" font-weight=\"bold\" lengthAdjust=\"spacingAndGlyphs\" textLength=\"20\" x=\"36\" y=\"55.9951\">P2</text></a><!--MD5=[2156ba9850f5573cc1fc38a6a4b2f02b]\n",
       "class E7--><a href=\"psysml:0f9466c7-ef71-48bc-a930-ec3e2c1a2c86\" target=\"_top\" title=\"psysml:0f9466c7-ef71-48bc-a930-ec3e2c1a2c86\" xlink:actuate=\"onRequest\" xlink:href=\"psysml:0f9466c7-ef71-48bc-a930-ec3e2c1a2c86\" xlink:show=\"new\" xlink:title=\"psysml:0f9466c7-ef71-48bc-a930-ec3e2c1a2c86\" xlink:type=\"simple\"><rect fill=\"#FFFFFF\" height=\"45.9375\" id=\"E7\" style=\"stroke: #383838; stroke-width: 1.5;\" width=\"66\" x=\"56\" y=\"154\"/><text fill=\"#000000\" font-family=\"sans-serif\" font-size=\"12\" font-style=\"italic\" lengthAdjust=\"spacingAndGlyphs\" textLength=\"64\" x=\"57\" y=\"170.1387\">«part def»</text><text fill=\"#000000\" font-family=\"sans-serif\" font-size=\"12\" lengthAdjust=\"spacingAndGlyphs\" textLength=\"8\" x=\"85\" y=\"184.1074\">B</text><line style=\"stroke: #383838; stroke-width: 1.5;\" x1=\"57\" x2=\"121\" y1=\"191.9375\" y2=\"191.9375\"/></a><!--MD5=[e9be52314489bd878ff4c7144b63c9e1]\n",
       "link E5 to E3--><a href=\"psysml:fc52ff88-f6bf-464b-a9f6-50c073522383\" target=\"_top\" title=\"psysml:fc52ff88-f6bf-464b-a9f6-50c073522383\" xlink:actuate=\"onRequest\" xlink:href=\"psysml:fc52ff88-f6bf-464b-a9f6-50c073522383\" xlink:show=\"new\" xlink:title=\"psysml:fc52ff88-f6bf-464b-a9f6-50c073522383\" xlink:type=\"simple\"><path d=\"M211,90.51 C211,102.89 211,118.78 211,133.48 \" fill=\"none\" id=\"E5-&gt;E3\" style=\"stroke: #383838; stroke-width: 1.0;\"/><polygon fill=\"#FFFFFF\" points=\"211,153.65,204,134.65,218,134.65,211,153.65\" style=\"stroke: #383838; stroke-width: 1.0;\"/><ellipse cx=\"206\" cy=\"128.95\" fill=\"#383838\" rx=\"2\" ry=\"2\" style=\"stroke: #383838; stroke-width: 1.0;\"/><ellipse cx=\"216\" cy=\"128.95\" fill=\"#383838\" rx=\"2\" ry=\"2\" style=\"stroke: #383838; stroke-width: 1.0;\"/></a><!--MD5=[bfa3c8b0d15052fdf50ae9310b491027]\n",
       "link E8 to E7--><a href=\"psysml:46d3b5b8-edad-416f-ae7d-d25648abca20\" target=\"_top\" title=\"psysml:46d3b5b8-edad-416f-ae7d-d25648abca20\" xlink:actuate=\"onRequest\" xlink:href=\"psysml:46d3b5b8-edad-416f-ae7d-d25648abca20\" xlink:show=\"new\" xlink:title=\"psysml:46d3b5b8-edad-416f-ae7d-d25648abca20\" xlink:type=\"simple\"><path d=\"M120.01,90.51 C115.39,103.25 109.42,119.7 103.96,134.76 \" fill=\"none\" id=\"E8-&gt;E7\" style=\"stroke: #383838; stroke-width: 1.0;\"/><polygon fill=\"#FFFFFF\" points=\"97.11,153.65,97.0036,133.4018,110.1656,138.1726,97.11,153.65\" style=\"stroke: #383838; stroke-width: 1.0;\"/><ellipse cx=\"100.8262\" cy=\"128.7245\" fill=\"#383838\" rx=\"2\" ry=\"2\" style=\"stroke: #383838; stroke-width: 1.0;\"/><ellipse cx=\"110.2277\" cy=\"132.1322\" fill=\"#383838\" rx=\"2\" ry=\"2\" style=\"stroke: #383838; stroke-width: 1.0;\"/></a><!--MD5=[4e9b1b132ecaf58108dad0b9c52bad9e]\n",
       "@startuml\r\n",
       "skinparam monochrome true\r\n",
       "skinparam classbackgroundcolor white\r\n",
       "skinparam shadowing false\r\n",
       "skinparam wrapWidth 300\r\n",
       "hide circle\r\n",
       "\r\n",
       "package \"PrivateImportTest\" as E1  [[psysml:679eaabc-5ff5-4f8e-91e0-c316c2e3864c ]]  {\r\n",
       "package \"P1\" as E2  [[psysml:009bdde2-dc25-4a27-9e47-f33e7b142b72 ]]  {\r\n",
       "comp def \"A\" as E3  <<(T,blue)part def>> [[psysml:3f36db9e-42d3-4087-b2e1-ec91d884c8c4 ]] {\r\n",
       "}\r\n",
       "}\r\n",
       "package \"P2\" as E4  [[psysml:6aec89c6-9258-4c03-89c0-e79f913ee5de ]]  {\r\n",
       "}\r\n",
       "comp usage \"x: A\" as E5  <<(T,blue)part>> [[psysml:ae15bfee-df16-4fee-9dc7-bf97e2180cfd ]] {\r\n",
       "}\r\n",
       "package \"P3\" as E6  [[psysml:b0bbce7f-63ab-4038-bed6-f72cdad2d833 ]]  {\r\n",
       "comp def \"B\" as E7  <<(T,blue)part def>> [[psysml:0f9466c7-ef71-48bc-a930-ec3e2c1a2c86 ]] {\r\n",
       "}\r\n",
       "E5 - -:|> E3 [[psysml:fc52ff88-f6bf-464b-a9f6-50c073522383 ]] \r\n",
       "}\r\n",
       "comp usage \"z: B\" as E8  <<(T,blue)part>> [[psysml:977e6037-d806-4fb0-bccf-0c48256693c8 ]] {\r\n",
       "}\r\n",
       "E8 - -:|> E7 [[psysml:46d3b5b8-edad-416f-ae7d-d25648abca20 ]] \r\n",
       "}\r\n",
       "@enduml\r\n",
       "\n",
       "PlantUML version 1.2020.13(Sat Jun 13 12:26:38 UTC 2020)\n",
       "(EPL source distribution)\n",
       "Java Runtime: OpenJDK Runtime Environment\n",
       "JVM: OpenJDK 64-Bit Server VM\n",
       "Default Encoding: UTF-8\n",
       "Language: en\n",
       "Country: null\n",
       "--></g></svg>"
      ]
     },
     "execution_count": 42,
     "metadata": {},
     "output_type": "execute_result"
    }
   ],
   "source": [
    "%viz --style=\"DEFAULT\" --view=\"Sequence\" \"PrivateImportTest\""
   ]
  },
  {
   "cell_type": "code",
   "execution_count": 43,
   "id": "romance-hundred",
   "metadata": {
    "execution": {
     "iopub.execute_input": "2021-03-24T16:28:06.418694Z",
     "iopub.status.busy": "2021-03-24T16:28:06.418105Z",
     "iopub.status.idle": "2021-03-24T16:28:06.447332Z",
     "shell.execute_reply": "2021-03-24T16:28:06.445937Z"
    }
   },
   "outputs": [
    {
     "data": {
      "image/svg+xml": [
       "<?xml version=\"1.0\" encoding=\"UTF-8\" standalone=\"no\"?><svg xmlns=\"http://www.w3.org/2000/svg\" xmlns:xlink=\"http://www.w3.org/1999/xlink\" contentScriptType=\"application/ecmascript\" contentStyleType=\"text/css\" height=\"252px\" preserveAspectRatio=\"none\" style=\"width:306px;height:252px;\" version=\"1.1\" viewBox=\"0 0 306 252\" width=\"306px\" zoomAndPan=\"magnify\"><defs/><g><!--MD5=[fbc87193dbaf4d95561dea2c320d4a47]\n",
       "cluster E1--><a href=\"psysml:679eaabc-5ff5-4f8e-91e0-c316c2e3864c\" target=\"_top\" title=\"psysml:679eaabc-5ff5-4f8e-91e0-c316c2e3864c\" xlink:actuate=\"onRequest\" xlink:href=\"psysml:679eaabc-5ff5-4f8e-91e0-c316c2e3864c\" xlink:show=\"new\" xlink:title=\"psysml:679eaabc-5ff5-4f8e-91e0-c316c2e3864c\" xlink:type=\"simple\"><polygon fill=\"#FFFFFF\" points=\"16,6,163,6,170,28.2969,284,28.2969,284,240,16,240,16,6\" style=\"stroke: #000000; stroke-width: 1.5;\"/><line style=\"stroke: #000000; stroke-width: 1.5;\" x1=\"16\" x2=\"170\" y1=\"28.2969\" y2=\"28.2969\"/><text fill=\"#000000\" font-family=\"sans-serif\" font-size=\"14\" font-weight=\"bold\" lengthAdjust=\"spacingAndGlyphs\" textLength=\"141\" x=\"20\" y=\"20.9951\">PrivateImportTest</text></a><!--MD5=[e4f7fae6ed58524ba242bb0b0d3be6b7]\n",
       "cluster E2--><a href=\"psysml:009bdde2-dc25-4a27-9e47-f33e7b142b72\" target=\"_top\" title=\"psysml:009bdde2-dc25-4a27-9e47-f33e7b142b72\" xlink:actuate=\"onRequest\" xlink:href=\"psysml:009bdde2-dc25-4a27-9e47-f33e7b142b72\" xlink:show=\"new\" xlink:title=\"psysml:009bdde2-dc25-4a27-9e47-f33e7b142b72\" xlink:type=\"simple\"><polygon fill=\"#FFFFFF\" points=\"162,119,188,119,195,141.2969,260,141.2969,260,216,162,216,162,119\" style=\"stroke: #000000; stroke-width: 1.5;\"/><line style=\"stroke: #000000; stroke-width: 1.5;\" x1=\"162\" x2=\"195\" y1=\"141.2969\" y2=\"141.2969\"/><text fill=\"#000000\" font-family=\"sans-serif\" font-size=\"14\" font-weight=\"bold\" lengthAdjust=\"spacingAndGlyphs\" textLength=\"20\" x=\"166\" y=\"133.9951\">P1</text></a><!--MD5=[14e3b0961a2654348d326746436168a1]\n",
       "cluster E6--><a href=\"psysml:b0bbce7f-63ab-4038-bed6-f72cdad2d833\" target=\"_top\" title=\"psysml:b0bbce7f-63ab-4038-bed6-f72cdad2d833\" xlink:actuate=\"onRequest\" xlink:href=\"psysml:b0bbce7f-63ab-4038-bed6-f72cdad2d833\" xlink:show=\"new\" xlink:title=\"psysml:b0bbce7f-63ab-4038-bed6-f72cdad2d833\" xlink:type=\"simple\"><polygon fill=\"#FFFFFF\" points=\"40,119,66,119,73,141.2969,138,141.2969,138,216,40,216,40,119\" style=\"stroke: #000000; stroke-width: 1.5;\"/><line style=\"stroke: #000000; stroke-width: 1.5;\" x1=\"40\" x2=\"73\" y1=\"141.2969\" y2=\"141.2969\"/><text fill=\"#000000\" font-family=\"sans-serif\" font-size=\"14\" font-weight=\"bold\" lengthAdjust=\"spacingAndGlyphs\" textLength=\"20\" x=\"44\" y=\"133.9951\">P3</text></a><!--MD5=[270fce915f116d4de14055a7c1d9a0f3]\n",
       "class E5--><a href=\"psysml:ae15bfee-df16-4fee-9dc7-bf97e2180cfd\" target=\"_top\" title=\"psysml:ae15bfee-df16-4fee-9dc7-bf97e2180cfd\" xlink:actuate=\"onRequest\" xlink:href=\"psysml:ae15bfee-df16-4fee-9dc7-bf97e2180cfd\" xlink:show=\"new\" xlink:title=\"psysml:ae15bfee-df16-4fee-9dc7-bf97e2180cfd\" xlink:type=\"simple\"><rect fill=\"#FFFFFF\" height=\"45.9375\" id=\"E5\" rx=\"10\" ry=\"10\" style=\"stroke: #383838; stroke-width: 1.5;\" width=\"42\" x=\"190\" y=\"44.5\"/><text fill=\"#000000\" font-family=\"sans-serif\" font-size=\"12\" font-style=\"italic\" lengthAdjust=\"spacingAndGlyphs\" textLength=\"40\" x=\"191\" y=\"60.6387\">«part»</text><text fill=\"#000000\" font-family=\"sans-serif\" font-size=\"12\" lengthAdjust=\"spacingAndGlyphs\" textLength=\"22\" x=\"200\" y=\"74.6074\">x: A</text><line style=\"stroke: #383838; stroke-width: 1.5;\" x1=\"191\" x2=\"231\" y1=\"82.4375\" y2=\"82.4375\"/></a><!--MD5=[b9389687b975829384b498ac4b7476b2]\n",
       "class E8--><a href=\"psysml:977e6037-d806-4fb0-bccf-0c48256693c8\" target=\"_top\" title=\"psysml:977e6037-d806-4fb0-bccf-0c48256693c8\" xlink:actuate=\"onRequest\" xlink:href=\"psysml:977e6037-d806-4fb0-bccf-0c48256693c8\" xlink:show=\"new\" xlink:title=\"psysml:977e6037-d806-4fb0-bccf-0c48256693c8\" xlink:type=\"simple\"><rect fill=\"#FFFFFF\" height=\"45.9375\" id=\"E8\" rx=\"10\" ry=\"10\" style=\"stroke: #383838; stroke-width: 1.5;\" width=\"42\" x=\"107\" y=\"44.5\"/><text fill=\"#000000\" font-family=\"sans-serif\" font-size=\"12\" font-style=\"italic\" lengthAdjust=\"spacingAndGlyphs\" textLength=\"40\" x=\"108\" y=\"60.6387\">«part»</text><text fill=\"#000000\" font-family=\"sans-serif\" font-size=\"12\" lengthAdjust=\"spacingAndGlyphs\" textLength=\"21\" x=\"117.5\" y=\"74.6074\">z: B</text><line style=\"stroke: #383838; stroke-width: 1.5;\" x1=\"108\" x2=\"148\" y1=\"82.4375\" y2=\"82.4375\"/></a><!--MD5=[09b614a08d8cba4a07c9adeb5e0fee81]\n",
       "class E3--><a href=\"psysml:3f36db9e-42d3-4087-b2e1-ec91d884c8c4\" target=\"_top\" title=\"psysml:3f36db9e-42d3-4087-b2e1-ec91d884c8c4\" xlink:actuate=\"onRequest\" xlink:href=\"psysml:3f36db9e-42d3-4087-b2e1-ec91d884c8c4\" xlink:show=\"new\" xlink:title=\"psysml:3f36db9e-42d3-4087-b2e1-ec91d884c8c4\" xlink:type=\"simple\"><rect fill=\"#FFFFFF\" height=\"45.9375\" id=\"E3\" style=\"stroke: #383838; stroke-width: 1.5;\" width=\"66\" x=\"178\" y=\"154\"/><text fill=\"#000000\" font-family=\"sans-serif\" font-size=\"12\" font-style=\"italic\" lengthAdjust=\"spacingAndGlyphs\" textLength=\"64\" x=\"179\" y=\"170.1387\">«part def»</text><text fill=\"#000000\" font-family=\"sans-serif\" font-size=\"12\" lengthAdjust=\"spacingAndGlyphs\" textLength=\"8\" x=\"207\" y=\"184.1074\">A</text><line style=\"stroke: #383838; stroke-width: 1.5;\" x1=\"179\" x2=\"243\" y1=\"191.9375\" y2=\"191.9375\"/></a><a href=\"psysml:6aec89c6-9258-4c03-89c0-e79f913ee5de\" target=\"_top\" title=\"psysml:6aec89c6-9258-4c03-89c0-e79f913ee5de\" xlink:actuate=\"onRequest\" xlink:href=\"psysml:6aec89c6-9258-4c03-89c0-e79f913ee5de\" xlink:show=\"new\" xlink:title=\"psysml:6aec89c6-9258-4c03-89c0-e79f913ee5de\" xlink:type=\"simple\"><polygon fill=\"#FFFFFF\" points=\"32,41,58,41,65,63.2969,72,63.2969,72,93.5938,32,93.5938,32,41\" style=\"stroke: #000000; stroke-width: 1.5;\"/><line style=\"stroke: #000000; stroke-width: 1.5;\" x1=\"32\" x2=\"65\" y1=\"63.2969\" y2=\"63.2969\"/><text fill=\"#000000\" font-family=\"sans-serif\" font-size=\"14\" font-weight=\"bold\" lengthAdjust=\"spacingAndGlyphs\" textLength=\"20\" x=\"36\" y=\"55.9951\">P2</text></a><!--MD5=[2156ba9850f5573cc1fc38a6a4b2f02b]\n",
       "class E7--><a href=\"psysml:0f9466c7-ef71-48bc-a930-ec3e2c1a2c86\" target=\"_top\" title=\"psysml:0f9466c7-ef71-48bc-a930-ec3e2c1a2c86\" xlink:actuate=\"onRequest\" xlink:href=\"psysml:0f9466c7-ef71-48bc-a930-ec3e2c1a2c86\" xlink:show=\"new\" xlink:title=\"psysml:0f9466c7-ef71-48bc-a930-ec3e2c1a2c86\" xlink:type=\"simple\"><rect fill=\"#FFFFFF\" height=\"45.9375\" id=\"E7\" style=\"stroke: #383838; stroke-width: 1.5;\" width=\"66\" x=\"56\" y=\"154\"/><text fill=\"#000000\" font-family=\"sans-serif\" font-size=\"12\" font-style=\"italic\" lengthAdjust=\"spacingAndGlyphs\" textLength=\"64\" x=\"57\" y=\"170.1387\">«part def»</text><text fill=\"#000000\" font-family=\"sans-serif\" font-size=\"12\" lengthAdjust=\"spacingAndGlyphs\" textLength=\"8\" x=\"85\" y=\"184.1074\">B</text><line style=\"stroke: #383838; stroke-width: 1.5;\" x1=\"57\" x2=\"121\" y1=\"191.9375\" y2=\"191.9375\"/></a><!--MD5=[e9be52314489bd878ff4c7144b63c9e1]\n",
       "link E5 to E3--><a href=\"psysml:fc52ff88-f6bf-464b-a9f6-50c073522383\" target=\"_top\" title=\"psysml:fc52ff88-f6bf-464b-a9f6-50c073522383\" xlink:actuate=\"onRequest\" xlink:href=\"psysml:fc52ff88-f6bf-464b-a9f6-50c073522383\" xlink:show=\"new\" xlink:title=\"psysml:fc52ff88-f6bf-464b-a9f6-50c073522383\" xlink:type=\"simple\"><path d=\"M211,90.51 C211,102.89 211,118.78 211,133.48 \" fill=\"none\" id=\"E5-&gt;E3\" style=\"stroke: #383838; stroke-width: 1.0;\"/><polygon fill=\"#FFFFFF\" points=\"211,153.65,204,134.65,218,134.65,211,153.65\" style=\"stroke: #383838; stroke-width: 1.0;\"/><ellipse cx=\"206\" cy=\"128.95\" fill=\"#383838\" rx=\"2\" ry=\"2\" style=\"stroke: #383838; stroke-width: 1.0;\"/><ellipse cx=\"216\" cy=\"128.95\" fill=\"#383838\" rx=\"2\" ry=\"2\" style=\"stroke: #383838; stroke-width: 1.0;\"/></a><!--MD5=[bfa3c8b0d15052fdf50ae9310b491027]\n",
       "link E8 to E7--><a href=\"psysml:46d3b5b8-edad-416f-ae7d-d25648abca20\" target=\"_top\" title=\"psysml:46d3b5b8-edad-416f-ae7d-d25648abca20\" xlink:actuate=\"onRequest\" xlink:href=\"psysml:46d3b5b8-edad-416f-ae7d-d25648abca20\" xlink:show=\"new\" xlink:title=\"psysml:46d3b5b8-edad-416f-ae7d-d25648abca20\" xlink:type=\"simple\"><path d=\"M120.01,90.51 C115.39,103.25 109.42,119.7 103.96,134.76 \" fill=\"none\" id=\"E8-&gt;E7\" style=\"stroke: #383838; stroke-width: 1.0;\"/><polygon fill=\"#FFFFFF\" points=\"97.11,153.65,97.0036,133.4018,110.1656,138.1726,97.11,153.65\" style=\"stroke: #383838; stroke-width: 1.0;\"/><ellipse cx=\"100.8262\" cy=\"128.7245\" fill=\"#383838\" rx=\"2\" ry=\"2\" style=\"stroke: #383838; stroke-width: 1.0;\"/><ellipse cx=\"110.2277\" cy=\"132.1322\" fill=\"#383838\" rx=\"2\" ry=\"2\" style=\"stroke: #383838; stroke-width: 1.0;\"/></a><!--MD5=[4e9b1b132ecaf58108dad0b9c52bad9e]\n",
       "@startuml\r\n",
       "skinparam monochrome true\r\n",
       "skinparam classbackgroundcolor white\r\n",
       "skinparam shadowing false\r\n",
       "skinparam wrapWidth 300\r\n",
       "hide circle\r\n",
       "\r\n",
       "package \"PrivateImportTest\" as E1  [[psysml:679eaabc-5ff5-4f8e-91e0-c316c2e3864c ]]  {\r\n",
       "package \"P1\" as E2  [[psysml:009bdde2-dc25-4a27-9e47-f33e7b142b72 ]]  {\r\n",
       "comp def \"A\" as E3  <<(T,blue)part def>> [[psysml:3f36db9e-42d3-4087-b2e1-ec91d884c8c4 ]] {\r\n",
       "}\r\n",
       "}\r\n",
       "package \"P2\" as E4  [[psysml:6aec89c6-9258-4c03-89c0-e79f913ee5de ]]  {\r\n",
       "}\r\n",
       "comp usage \"x: A\" as E5  <<(T,blue)part>> [[psysml:ae15bfee-df16-4fee-9dc7-bf97e2180cfd ]] {\r\n",
       "}\r\n",
       "package \"P3\" as E6  [[psysml:b0bbce7f-63ab-4038-bed6-f72cdad2d833 ]]  {\r\n",
       "comp def \"B\" as E7  <<(T,blue)part def>> [[psysml:0f9466c7-ef71-48bc-a930-ec3e2c1a2c86 ]] {\r\n",
       "}\r\n",
       "E5 - -:|> E3 [[psysml:fc52ff88-f6bf-464b-a9f6-50c073522383 ]] \r\n",
       "}\r\n",
       "comp usage \"z: B\" as E8  <<(T,blue)part>> [[psysml:977e6037-d806-4fb0-bccf-0c48256693c8 ]] {\r\n",
       "}\r\n",
       "E8 - -:|> E7 [[psysml:46d3b5b8-edad-416f-ae7d-d25648abca20 ]] \r\n",
       "}\r\n",
       "@enduml\r\n",
       "\n",
       "PlantUML version 1.2020.13(Sat Jun 13 12:26:38 UTC 2020)\n",
       "(EPL source distribution)\n",
       "Java Runtime: OpenJDK Runtime Environment\n",
       "JVM: OpenJDK 64-Bit Server VM\n",
       "Default Encoding: UTF-8\n",
       "Language: en\n",
       "Country: null\n",
       "--></g></svg>"
      ]
     },
     "execution_count": 43,
     "metadata": {},
     "output_type": "execute_result"
    }
   ],
   "source": [
    "%viz --style=\"DEFAULT\" --view=\"MIXED\" \"PrivateImportTest\""
   ]
  },
  {
   "cell_type": "code",
   "execution_count": 44,
   "id": "studied-ukraine",
   "metadata": {
    "execution": {
     "iopub.execute_input": "2021-03-24T16:28:06.497959Z",
     "iopub.status.busy": "2021-03-24T16:28:06.497366Z",
     "iopub.status.idle": "2021-03-24T16:28:06.526231Z",
     "shell.execute_reply": "2021-03-24T16:28:06.524734Z"
    }
   },
   "outputs": [
    {
     "data": {
      "image/svg+xml": [
       "<?xml version=\"1.0\" encoding=\"UTF-8\" standalone=\"no\"?><svg xmlns=\"http://www.w3.org/2000/svg\" xmlns:xlink=\"http://www.w3.org/1999/xlink\" contentScriptType=\"application/ecmascript\" contentStyleType=\"text/css\" height=\"252px\" preserveAspectRatio=\"none\" style=\"width:306px;height:252px;\" version=\"1.1\" viewBox=\"0 0 306 252\" width=\"306px\" zoomAndPan=\"magnify\"><defs/><g><!--MD5=[fbc87193dbaf4d95561dea2c320d4a47]\n",
       "cluster E1--><a href=\"psysml:679eaabc-5ff5-4f8e-91e0-c316c2e3864c\" target=\"_top\" title=\"psysml:679eaabc-5ff5-4f8e-91e0-c316c2e3864c\" xlink:actuate=\"onRequest\" xlink:href=\"psysml:679eaabc-5ff5-4f8e-91e0-c316c2e3864c\" xlink:show=\"new\" xlink:title=\"psysml:679eaabc-5ff5-4f8e-91e0-c316c2e3864c\" xlink:type=\"simple\"><polygon fill=\"#FFFFFF\" points=\"16,6,163,6,170,28.2969,284,28.2969,284,240,16,240,16,6\" style=\"stroke: #000000; stroke-width: 1.5;\"/><line style=\"stroke: #000000; stroke-width: 1.5;\" x1=\"16\" x2=\"170\" y1=\"28.2969\" y2=\"28.2969\"/><text fill=\"#000000\" font-family=\"sans-serif\" font-size=\"14\" font-weight=\"bold\" lengthAdjust=\"spacingAndGlyphs\" textLength=\"141\" x=\"20\" y=\"20.9951\">PrivateImportTest</text></a><!--MD5=[e4f7fae6ed58524ba242bb0b0d3be6b7]\n",
       "cluster E2--><a href=\"psysml:009bdde2-dc25-4a27-9e47-f33e7b142b72\" target=\"_top\" title=\"psysml:009bdde2-dc25-4a27-9e47-f33e7b142b72\" xlink:actuate=\"onRequest\" xlink:href=\"psysml:009bdde2-dc25-4a27-9e47-f33e7b142b72\" xlink:show=\"new\" xlink:title=\"psysml:009bdde2-dc25-4a27-9e47-f33e7b142b72\" xlink:type=\"simple\"><polygon fill=\"#FFFFFF\" points=\"162,119,188,119,195,141.2969,260,141.2969,260,216,162,216,162,119\" style=\"stroke: #000000; stroke-width: 1.5;\"/><line style=\"stroke: #000000; stroke-width: 1.5;\" x1=\"162\" x2=\"195\" y1=\"141.2969\" y2=\"141.2969\"/><text fill=\"#000000\" font-family=\"sans-serif\" font-size=\"14\" font-weight=\"bold\" lengthAdjust=\"spacingAndGlyphs\" textLength=\"20\" x=\"166\" y=\"133.9951\">P1</text></a><!--MD5=[14e3b0961a2654348d326746436168a1]\n",
       "cluster E6--><a href=\"psysml:b0bbce7f-63ab-4038-bed6-f72cdad2d833\" target=\"_top\" title=\"psysml:b0bbce7f-63ab-4038-bed6-f72cdad2d833\" xlink:actuate=\"onRequest\" xlink:href=\"psysml:b0bbce7f-63ab-4038-bed6-f72cdad2d833\" xlink:show=\"new\" xlink:title=\"psysml:b0bbce7f-63ab-4038-bed6-f72cdad2d833\" xlink:type=\"simple\"><polygon fill=\"#FFFFFF\" points=\"40,119,66,119,73,141.2969,138,141.2969,138,216,40,216,40,119\" style=\"stroke: #000000; stroke-width: 1.5;\"/><line style=\"stroke: #000000; stroke-width: 1.5;\" x1=\"40\" x2=\"73\" y1=\"141.2969\" y2=\"141.2969\"/><text fill=\"#000000\" font-family=\"sans-serif\" font-size=\"14\" font-weight=\"bold\" lengthAdjust=\"spacingAndGlyphs\" textLength=\"20\" x=\"44\" y=\"133.9951\">P3</text></a><!--MD5=[270fce915f116d4de14055a7c1d9a0f3]\n",
       "class E5--><a href=\"psysml:ae15bfee-df16-4fee-9dc7-bf97e2180cfd\" target=\"_top\" title=\"psysml:ae15bfee-df16-4fee-9dc7-bf97e2180cfd\" xlink:actuate=\"onRequest\" xlink:href=\"psysml:ae15bfee-df16-4fee-9dc7-bf97e2180cfd\" xlink:show=\"new\" xlink:title=\"psysml:ae15bfee-df16-4fee-9dc7-bf97e2180cfd\" xlink:type=\"simple\"><rect fill=\"#FFFFFF\" height=\"45.9375\" id=\"E5\" rx=\"10\" ry=\"10\" style=\"stroke: #383838; stroke-width: 1.5;\" width=\"42\" x=\"190\" y=\"44.5\"/><text fill=\"#000000\" font-family=\"sans-serif\" font-size=\"12\" font-style=\"italic\" lengthAdjust=\"spacingAndGlyphs\" textLength=\"40\" x=\"191\" y=\"60.6387\">«part»</text><text fill=\"#000000\" font-family=\"sans-serif\" font-size=\"12\" lengthAdjust=\"spacingAndGlyphs\" textLength=\"22\" x=\"200\" y=\"74.6074\">x: A</text><line style=\"stroke: #383838; stroke-width: 1.5;\" x1=\"191\" x2=\"231\" y1=\"82.4375\" y2=\"82.4375\"/></a><!--MD5=[b9389687b975829384b498ac4b7476b2]\n",
       "class E8--><a href=\"psysml:977e6037-d806-4fb0-bccf-0c48256693c8\" target=\"_top\" title=\"psysml:977e6037-d806-4fb0-bccf-0c48256693c8\" xlink:actuate=\"onRequest\" xlink:href=\"psysml:977e6037-d806-4fb0-bccf-0c48256693c8\" xlink:show=\"new\" xlink:title=\"psysml:977e6037-d806-4fb0-bccf-0c48256693c8\" xlink:type=\"simple\"><rect fill=\"#FFFFFF\" height=\"45.9375\" id=\"E8\" rx=\"10\" ry=\"10\" style=\"stroke: #383838; stroke-width: 1.5;\" width=\"42\" x=\"107\" y=\"44.5\"/><text fill=\"#000000\" font-family=\"sans-serif\" font-size=\"12\" font-style=\"italic\" lengthAdjust=\"spacingAndGlyphs\" textLength=\"40\" x=\"108\" y=\"60.6387\">«part»</text><text fill=\"#000000\" font-family=\"sans-serif\" font-size=\"12\" lengthAdjust=\"spacingAndGlyphs\" textLength=\"21\" x=\"117.5\" y=\"74.6074\">z: B</text><line style=\"stroke: #383838; stroke-width: 1.5;\" x1=\"108\" x2=\"148\" y1=\"82.4375\" y2=\"82.4375\"/></a><!--MD5=[09b614a08d8cba4a07c9adeb5e0fee81]\n",
       "class E3--><a href=\"psysml:3f36db9e-42d3-4087-b2e1-ec91d884c8c4\" target=\"_top\" title=\"psysml:3f36db9e-42d3-4087-b2e1-ec91d884c8c4\" xlink:actuate=\"onRequest\" xlink:href=\"psysml:3f36db9e-42d3-4087-b2e1-ec91d884c8c4\" xlink:show=\"new\" xlink:title=\"psysml:3f36db9e-42d3-4087-b2e1-ec91d884c8c4\" xlink:type=\"simple\"><rect fill=\"#FFFFFF\" height=\"45.9375\" id=\"E3\" style=\"stroke: #383838; stroke-width: 1.5;\" width=\"66\" x=\"178\" y=\"154\"/><text fill=\"#000000\" font-family=\"sans-serif\" font-size=\"12\" font-style=\"italic\" lengthAdjust=\"spacingAndGlyphs\" textLength=\"64\" x=\"179\" y=\"170.1387\">«part def»</text><text fill=\"#000000\" font-family=\"sans-serif\" font-size=\"12\" lengthAdjust=\"spacingAndGlyphs\" textLength=\"8\" x=\"207\" y=\"184.1074\">A</text><line style=\"stroke: #383838; stroke-width: 1.5;\" x1=\"179\" x2=\"243\" y1=\"191.9375\" y2=\"191.9375\"/></a><a href=\"psysml:6aec89c6-9258-4c03-89c0-e79f913ee5de\" target=\"_top\" title=\"psysml:6aec89c6-9258-4c03-89c0-e79f913ee5de\" xlink:actuate=\"onRequest\" xlink:href=\"psysml:6aec89c6-9258-4c03-89c0-e79f913ee5de\" xlink:show=\"new\" xlink:title=\"psysml:6aec89c6-9258-4c03-89c0-e79f913ee5de\" xlink:type=\"simple\"><polygon fill=\"#FFFFFF\" points=\"32,41,58,41,65,63.2969,72,63.2969,72,93.5938,32,93.5938,32,41\" style=\"stroke: #000000; stroke-width: 1.5;\"/><line style=\"stroke: #000000; stroke-width: 1.5;\" x1=\"32\" x2=\"65\" y1=\"63.2969\" y2=\"63.2969\"/><text fill=\"#000000\" font-family=\"sans-serif\" font-size=\"14\" font-weight=\"bold\" lengthAdjust=\"spacingAndGlyphs\" textLength=\"20\" x=\"36\" y=\"55.9951\">P2</text></a><!--MD5=[2156ba9850f5573cc1fc38a6a4b2f02b]\n",
       "class E7--><a href=\"psysml:0f9466c7-ef71-48bc-a930-ec3e2c1a2c86\" target=\"_top\" title=\"psysml:0f9466c7-ef71-48bc-a930-ec3e2c1a2c86\" xlink:actuate=\"onRequest\" xlink:href=\"psysml:0f9466c7-ef71-48bc-a930-ec3e2c1a2c86\" xlink:show=\"new\" xlink:title=\"psysml:0f9466c7-ef71-48bc-a930-ec3e2c1a2c86\" xlink:type=\"simple\"><rect fill=\"#FFFFFF\" height=\"45.9375\" id=\"E7\" style=\"stroke: #383838; stroke-width: 1.5;\" width=\"66\" x=\"56\" y=\"154\"/><text fill=\"#000000\" font-family=\"sans-serif\" font-size=\"12\" font-style=\"italic\" lengthAdjust=\"spacingAndGlyphs\" textLength=\"64\" x=\"57\" y=\"170.1387\">«part def»</text><text fill=\"#000000\" font-family=\"sans-serif\" font-size=\"12\" lengthAdjust=\"spacingAndGlyphs\" textLength=\"8\" x=\"85\" y=\"184.1074\">B</text><line style=\"stroke: #383838; stroke-width: 1.5;\" x1=\"57\" x2=\"121\" y1=\"191.9375\" y2=\"191.9375\"/></a><!--MD5=[e9be52314489bd878ff4c7144b63c9e1]\n",
       "link E5 to E3--><a href=\"psysml:fc52ff88-f6bf-464b-a9f6-50c073522383\" target=\"_top\" title=\"psysml:fc52ff88-f6bf-464b-a9f6-50c073522383\" xlink:actuate=\"onRequest\" xlink:href=\"psysml:fc52ff88-f6bf-464b-a9f6-50c073522383\" xlink:show=\"new\" xlink:title=\"psysml:fc52ff88-f6bf-464b-a9f6-50c073522383\" xlink:type=\"simple\"><path d=\"M211,90.51 C211,102.89 211,118.78 211,133.48 \" fill=\"none\" id=\"E5-&gt;E3\" style=\"stroke: #383838; stroke-width: 1.0;\"/><polygon fill=\"#FFFFFF\" points=\"211,153.65,204,134.65,218,134.65,211,153.65\" style=\"stroke: #383838; stroke-width: 1.0;\"/><ellipse cx=\"206\" cy=\"128.95\" fill=\"#383838\" rx=\"2\" ry=\"2\" style=\"stroke: #383838; stroke-width: 1.0;\"/><ellipse cx=\"216\" cy=\"128.95\" fill=\"#383838\" rx=\"2\" ry=\"2\" style=\"stroke: #383838; stroke-width: 1.0;\"/></a><!--MD5=[bfa3c8b0d15052fdf50ae9310b491027]\n",
       "link E8 to E7--><a href=\"psysml:46d3b5b8-edad-416f-ae7d-d25648abca20\" target=\"_top\" title=\"psysml:46d3b5b8-edad-416f-ae7d-d25648abca20\" xlink:actuate=\"onRequest\" xlink:href=\"psysml:46d3b5b8-edad-416f-ae7d-d25648abca20\" xlink:show=\"new\" xlink:title=\"psysml:46d3b5b8-edad-416f-ae7d-d25648abca20\" xlink:type=\"simple\"><path d=\"M120.01,90.51 C115.39,103.25 109.42,119.7 103.96,134.76 \" fill=\"none\" id=\"E8-&gt;E7\" style=\"stroke: #383838; stroke-width: 1.0;\"/><polygon fill=\"#FFFFFF\" points=\"97.11,153.65,97.0036,133.4018,110.1656,138.1726,97.11,153.65\" style=\"stroke: #383838; stroke-width: 1.0;\"/><ellipse cx=\"100.8262\" cy=\"128.7245\" fill=\"#383838\" rx=\"2\" ry=\"2\" style=\"stroke: #383838; stroke-width: 1.0;\"/><ellipse cx=\"110.2277\" cy=\"132.1322\" fill=\"#383838\" rx=\"2\" ry=\"2\" style=\"stroke: #383838; stroke-width: 1.0;\"/></a><!--MD5=[2a0a92c03350a1b8bca23ae0a88b9b91]\n",
       "@startuml\r\n",
       "top to bottom direction\r\n",
       "skinparam monochrome true\r\n",
       "skinparam classbackgroundcolor white\r\n",
       "skinparam shadowing false\r\n",
       "skinparam wrapWidth 300\r\n",
       "hide circle\r\n",
       "\r\n",
       "package \"PrivateImportTest\" as E1  [[psysml:679eaabc-5ff5-4f8e-91e0-c316c2e3864c ]]  {\r\n",
       "package \"P1\" as E2  [[psysml:009bdde2-dc25-4a27-9e47-f33e7b142b72 ]]  {\r\n",
       "comp def \"A\" as E3  <<(T,blue)part def>> [[psysml:3f36db9e-42d3-4087-b2e1-ec91d884c8c4 ]] {\r\n",
       "}\r\n",
       "}\r\n",
       "package \"P2\" as E4  [[psysml:6aec89c6-9258-4c03-89c0-e79f913ee5de ]]  {\r\n",
       "}\r\n",
       "comp usage \"x: A\" as E5  <<(T,blue)part>> [[psysml:ae15bfee-df16-4fee-9dc7-bf97e2180cfd ]] {\r\n",
       "}\r\n",
       "package \"P3\" as E6  [[psysml:b0bbce7f-63ab-4038-bed6-f72cdad2d833 ]]  {\r\n",
       "comp def \"B\" as E7  <<(T,blue)part def>> [[psysml:0f9466c7-ef71-48bc-a930-ec3e2c1a2c86 ]] {\r\n",
       "}\r\n",
       "E5 - -:|> E3 [[psysml:fc52ff88-f6bf-464b-a9f6-50c073522383 ]] \r\n",
       "}\r\n",
       "comp usage \"z: B\" as E8  <<(T,blue)part>> [[psysml:977e6037-d806-4fb0-bccf-0c48256693c8 ]] {\r\n",
       "}\r\n",
       "E8 - -:|> E7 [[psysml:46d3b5b8-edad-416f-ae7d-d25648abca20 ]] \r\n",
       "}\r\n",
       "@enduml\r\n",
       "\n",
       "PlantUML version 1.2020.13(Sat Jun 13 12:26:38 UTC 2020)\n",
       "(EPL source distribution)\n",
       "Java Runtime: OpenJDK Runtime Environment\n",
       "JVM: OpenJDK 64-Bit Server VM\n",
       "Default Encoding: UTF-8\n",
       "Language: en\n",
       "Country: null\n",
       "--></g></svg>"
      ]
     },
     "execution_count": 44,
     "metadata": {},
     "output_type": "execute_result"
    }
   ],
   "source": [
    "%viz --style=\"TB\" --view=\"Default\" \"PrivateImportTest\""
   ]
  },
  {
   "cell_type": "code",
   "execution_count": 45,
   "id": "reasonable-johnson",
   "metadata": {
    "execution": {
     "iopub.execute_input": "2021-03-24T16:28:06.575957Z",
     "iopub.status.busy": "2021-03-24T16:28:06.575523Z",
     "iopub.status.idle": "2021-03-24T16:28:06.615204Z",
     "shell.execute_reply": "2021-03-24T16:28:06.613923Z"
    }
   },
   "outputs": [
    {
     "data": {
      "image/svg+xml": [
       "<?xml version=\"1.0\" encoding=\"UTF-8\" standalone=\"no\"?><svg xmlns=\"http://www.w3.org/2000/svg\" xmlns:xlink=\"http://www.w3.org/1999/xlink\" contentScriptType=\"application/ecmascript\" contentStyleType=\"text/css\" height=\"252px\" preserveAspectRatio=\"none\" style=\"width:306px;height:252px;\" version=\"1.1\" viewBox=\"0 0 306 252\" width=\"306px\" zoomAndPan=\"magnify\"><defs/><g><!--MD5=[fbc87193dbaf4d95561dea2c320d4a47]\n",
       "cluster E1--><a href=\"psysml:679eaabc-5ff5-4f8e-91e0-c316c2e3864c\" target=\"_top\" title=\"psysml:679eaabc-5ff5-4f8e-91e0-c316c2e3864c\" xlink:actuate=\"onRequest\" xlink:href=\"psysml:679eaabc-5ff5-4f8e-91e0-c316c2e3864c\" xlink:show=\"new\" xlink:title=\"psysml:679eaabc-5ff5-4f8e-91e0-c316c2e3864c\" xlink:type=\"simple\"><polygon fill=\"#FFFFFF\" points=\"16,6,163,6,170,28.2969,284,28.2969,284,240,16,240,16,6\" style=\"stroke: #000000; stroke-width: 1.5;\"/><line style=\"stroke: #000000; stroke-width: 1.5;\" x1=\"16\" x2=\"170\" y1=\"28.2969\" y2=\"28.2969\"/><text fill=\"#000000\" font-family=\"sans-serif\" font-size=\"14\" font-weight=\"bold\" lengthAdjust=\"spacingAndGlyphs\" textLength=\"141\" x=\"20\" y=\"20.9951\">PrivateImportTest</text></a><!--MD5=[e4f7fae6ed58524ba242bb0b0d3be6b7]\n",
       "cluster E2--><a href=\"psysml:009bdde2-dc25-4a27-9e47-f33e7b142b72\" target=\"_top\" title=\"psysml:009bdde2-dc25-4a27-9e47-f33e7b142b72\" xlink:actuate=\"onRequest\" xlink:href=\"psysml:009bdde2-dc25-4a27-9e47-f33e7b142b72\" xlink:show=\"new\" xlink:title=\"psysml:009bdde2-dc25-4a27-9e47-f33e7b142b72\" xlink:type=\"simple\"><polygon fill=\"#FFFFFF\" points=\"162,119,188,119,195,141.2969,260,141.2969,260,216,162,216,162,119\" style=\"stroke: #000000; stroke-width: 1.5;\"/><line style=\"stroke: #000000; stroke-width: 1.5;\" x1=\"162\" x2=\"195\" y1=\"141.2969\" y2=\"141.2969\"/><text fill=\"#000000\" font-family=\"sans-serif\" font-size=\"14\" font-weight=\"bold\" lengthAdjust=\"spacingAndGlyphs\" textLength=\"20\" x=\"166\" y=\"133.9951\">P1</text></a><!--MD5=[14e3b0961a2654348d326746436168a1]\n",
       "cluster E6--><a href=\"psysml:b0bbce7f-63ab-4038-bed6-f72cdad2d833\" target=\"_top\" title=\"psysml:b0bbce7f-63ab-4038-bed6-f72cdad2d833\" xlink:actuate=\"onRequest\" xlink:href=\"psysml:b0bbce7f-63ab-4038-bed6-f72cdad2d833\" xlink:show=\"new\" xlink:title=\"psysml:b0bbce7f-63ab-4038-bed6-f72cdad2d833\" xlink:type=\"simple\"><polygon fill=\"#FFFFFF\" points=\"40,119,66,119,73,141.2969,138,141.2969,138,216,40,216,40,119\" style=\"stroke: #000000; stroke-width: 1.5;\"/><line style=\"stroke: #000000; stroke-width: 1.5;\" x1=\"40\" x2=\"73\" y1=\"141.2969\" y2=\"141.2969\"/><text fill=\"#000000\" font-family=\"sans-serif\" font-size=\"14\" font-weight=\"bold\" lengthAdjust=\"spacingAndGlyphs\" textLength=\"20\" x=\"44\" y=\"133.9951\">P3</text></a><!--MD5=[270fce915f116d4de14055a7c1d9a0f3]\n",
       "class E5--><a href=\"psysml:ae15bfee-df16-4fee-9dc7-bf97e2180cfd\" target=\"_top\" title=\"psysml:ae15bfee-df16-4fee-9dc7-bf97e2180cfd\" xlink:actuate=\"onRequest\" xlink:href=\"psysml:ae15bfee-df16-4fee-9dc7-bf97e2180cfd\" xlink:show=\"new\" xlink:title=\"psysml:ae15bfee-df16-4fee-9dc7-bf97e2180cfd\" xlink:type=\"simple\"><rect fill=\"#FFFFFF\" height=\"45.9375\" id=\"E5\" rx=\"10\" ry=\"10\" style=\"stroke: #383838; stroke-width: 1.5;\" width=\"42\" x=\"190\" y=\"44.5\"/><text fill=\"#000000\" font-family=\"sans-serif\" font-size=\"12\" font-style=\"italic\" lengthAdjust=\"spacingAndGlyphs\" textLength=\"40\" x=\"191\" y=\"60.6387\">«part»</text><text fill=\"#000000\" font-family=\"sans-serif\" font-size=\"12\" lengthAdjust=\"spacingAndGlyphs\" textLength=\"22\" x=\"200\" y=\"74.6074\">x: A</text><line style=\"stroke: #383838; stroke-width: 1.5;\" x1=\"191\" x2=\"231\" y1=\"82.4375\" y2=\"82.4375\"/></a><!--MD5=[b9389687b975829384b498ac4b7476b2]\n",
       "class E8--><a href=\"psysml:977e6037-d806-4fb0-bccf-0c48256693c8\" target=\"_top\" title=\"psysml:977e6037-d806-4fb0-bccf-0c48256693c8\" xlink:actuate=\"onRequest\" xlink:href=\"psysml:977e6037-d806-4fb0-bccf-0c48256693c8\" xlink:show=\"new\" xlink:title=\"psysml:977e6037-d806-4fb0-bccf-0c48256693c8\" xlink:type=\"simple\"><rect fill=\"#FFFFFF\" height=\"45.9375\" id=\"E8\" rx=\"10\" ry=\"10\" style=\"stroke: #383838; stroke-width: 1.5;\" width=\"42\" x=\"107\" y=\"44.5\"/><text fill=\"#000000\" font-family=\"sans-serif\" font-size=\"12\" font-style=\"italic\" lengthAdjust=\"spacingAndGlyphs\" textLength=\"40\" x=\"108\" y=\"60.6387\">«part»</text><text fill=\"#000000\" font-family=\"sans-serif\" font-size=\"12\" lengthAdjust=\"spacingAndGlyphs\" textLength=\"21\" x=\"117.5\" y=\"74.6074\">z: B</text><line style=\"stroke: #383838; stroke-width: 1.5;\" x1=\"108\" x2=\"148\" y1=\"82.4375\" y2=\"82.4375\"/></a><!--MD5=[09b614a08d8cba4a07c9adeb5e0fee81]\n",
       "class E3--><a href=\"psysml:3f36db9e-42d3-4087-b2e1-ec91d884c8c4\" target=\"_top\" title=\"psysml:3f36db9e-42d3-4087-b2e1-ec91d884c8c4\" xlink:actuate=\"onRequest\" xlink:href=\"psysml:3f36db9e-42d3-4087-b2e1-ec91d884c8c4\" xlink:show=\"new\" xlink:title=\"psysml:3f36db9e-42d3-4087-b2e1-ec91d884c8c4\" xlink:type=\"simple\"><rect fill=\"#FFFFFF\" height=\"45.9375\" id=\"E3\" style=\"stroke: #383838; stroke-width: 1.5;\" width=\"66\" x=\"178\" y=\"154\"/><text fill=\"#000000\" font-family=\"sans-serif\" font-size=\"12\" font-style=\"italic\" lengthAdjust=\"spacingAndGlyphs\" textLength=\"64\" x=\"179\" y=\"170.1387\">«part def»</text><text fill=\"#000000\" font-family=\"sans-serif\" font-size=\"12\" lengthAdjust=\"spacingAndGlyphs\" textLength=\"8\" x=\"207\" y=\"184.1074\">A</text><line style=\"stroke: #383838; stroke-width: 1.5;\" x1=\"179\" x2=\"243\" y1=\"191.9375\" y2=\"191.9375\"/></a><a href=\"psysml:6aec89c6-9258-4c03-89c0-e79f913ee5de\" target=\"_top\" title=\"psysml:6aec89c6-9258-4c03-89c0-e79f913ee5de\" xlink:actuate=\"onRequest\" xlink:href=\"psysml:6aec89c6-9258-4c03-89c0-e79f913ee5de\" xlink:show=\"new\" xlink:title=\"psysml:6aec89c6-9258-4c03-89c0-e79f913ee5de\" xlink:type=\"simple\"><polygon fill=\"#FFFFFF\" points=\"32,41,58,41,65,63.2969,72,63.2969,72,93.5938,32,93.5938,32,41\" style=\"stroke: #000000; stroke-width: 1.5;\"/><line style=\"stroke: #000000; stroke-width: 1.5;\" x1=\"32\" x2=\"65\" y1=\"63.2969\" y2=\"63.2969\"/><text fill=\"#000000\" font-family=\"sans-serif\" font-size=\"14\" font-weight=\"bold\" lengthAdjust=\"spacingAndGlyphs\" textLength=\"20\" x=\"36\" y=\"55.9951\">P2</text></a><!--MD5=[2156ba9850f5573cc1fc38a6a4b2f02b]\n",
       "class E7--><a href=\"psysml:0f9466c7-ef71-48bc-a930-ec3e2c1a2c86\" target=\"_top\" title=\"psysml:0f9466c7-ef71-48bc-a930-ec3e2c1a2c86\" xlink:actuate=\"onRequest\" xlink:href=\"psysml:0f9466c7-ef71-48bc-a930-ec3e2c1a2c86\" xlink:show=\"new\" xlink:title=\"psysml:0f9466c7-ef71-48bc-a930-ec3e2c1a2c86\" xlink:type=\"simple\"><rect fill=\"#FFFFFF\" height=\"45.9375\" id=\"E7\" style=\"stroke: #383838; stroke-width: 1.5;\" width=\"66\" x=\"56\" y=\"154\"/><text fill=\"#000000\" font-family=\"sans-serif\" font-size=\"12\" font-style=\"italic\" lengthAdjust=\"spacingAndGlyphs\" textLength=\"64\" x=\"57\" y=\"170.1387\">«part def»</text><text fill=\"#000000\" font-family=\"sans-serif\" font-size=\"12\" lengthAdjust=\"spacingAndGlyphs\" textLength=\"8\" x=\"85\" y=\"184.1074\">B</text><line style=\"stroke: #383838; stroke-width: 1.5;\" x1=\"57\" x2=\"121\" y1=\"191.9375\" y2=\"191.9375\"/></a><!--MD5=[e9be52314489bd878ff4c7144b63c9e1]\n",
       "link E5 to E3--><a href=\"psysml:fc52ff88-f6bf-464b-a9f6-50c073522383\" target=\"_top\" title=\"psysml:fc52ff88-f6bf-464b-a9f6-50c073522383\" xlink:actuate=\"onRequest\" xlink:href=\"psysml:fc52ff88-f6bf-464b-a9f6-50c073522383\" xlink:show=\"new\" xlink:title=\"psysml:fc52ff88-f6bf-464b-a9f6-50c073522383\" xlink:type=\"simple\"><path d=\"M211,90.51 C211,102.89 211,118.78 211,133.48 \" fill=\"none\" id=\"E5-&gt;E3\" style=\"stroke: #383838; stroke-width: 1.0;\"/><polygon fill=\"#FFFFFF\" points=\"211,153.65,204,134.65,218,134.65,211,153.65\" style=\"stroke: #383838; stroke-width: 1.0;\"/><ellipse cx=\"206\" cy=\"128.95\" fill=\"#383838\" rx=\"2\" ry=\"2\" style=\"stroke: #383838; stroke-width: 1.0;\"/><ellipse cx=\"216\" cy=\"128.95\" fill=\"#383838\" rx=\"2\" ry=\"2\" style=\"stroke: #383838; stroke-width: 1.0;\"/></a><!--MD5=[bfa3c8b0d15052fdf50ae9310b491027]\n",
       "link E8 to E7--><a href=\"psysml:46d3b5b8-edad-416f-ae7d-d25648abca20\" target=\"_top\" title=\"psysml:46d3b5b8-edad-416f-ae7d-d25648abca20\" xlink:actuate=\"onRequest\" xlink:href=\"psysml:46d3b5b8-edad-416f-ae7d-d25648abca20\" xlink:show=\"new\" xlink:title=\"psysml:46d3b5b8-edad-416f-ae7d-d25648abca20\" xlink:type=\"simple\"><path d=\"M120.01,90.51 C115.39,103.25 109.42,119.7 103.96,134.76 \" fill=\"none\" id=\"E8-&gt;E7\" style=\"stroke: #383838; stroke-width: 1.0;\"/><polygon fill=\"#FFFFFF\" points=\"97.11,153.65,97.0036,133.4018,110.1656,138.1726,97.11,153.65\" style=\"stroke: #383838; stroke-width: 1.0;\"/><ellipse cx=\"100.8262\" cy=\"128.7245\" fill=\"#383838\" rx=\"2\" ry=\"2\" style=\"stroke: #383838; stroke-width: 1.0;\"/><ellipse cx=\"110.2277\" cy=\"132.1322\" fill=\"#383838\" rx=\"2\" ry=\"2\" style=\"stroke: #383838; stroke-width: 1.0;\"/></a><!--MD5=[2a0a92c03350a1b8bca23ae0a88b9b91]\n",
       "@startuml\r\n",
       "top to bottom direction\r\n",
       "skinparam monochrome true\r\n",
       "skinparam classbackgroundcolor white\r\n",
       "skinparam shadowing false\r\n",
       "skinparam wrapWidth 300\r\n",
       "hide circle\r\n",
       "\r\n",
       "package \"PrivateImportTest\" as E1  [[psysml:679eaabc-5ff5-4f8e-91e0-c316c2e3864c ]]  {\r\n",
       "package \"P1\" as E2  [[psysml:009bdde2-dc25-4a27-9e47-f33e7b142b72 ]]  {\r\n",
       "comp def \"A\" as E3  <<(T,blue)part def>> [[psysml:3f36db9e-42d3-4087-b2e1-ec91d884c8c4 ]] {\r\n",
       "}\r\n",
       "}\r\n",
       "package \"P2\" as E4  [[psysml:6aec89c6-9258-4c03-89c0-e79f913ee5de ]]  {\r\n",
       "}\r\n",
       "comp usage \"x: A\" as E5  <<(T,blue)part>> [[psysml:ae15bfee-df16-4fee-9dc7-bf97e2180cfd ]] {\r\n",
       "}\r\n",
       "package \"P3\" as E6  [[psysml:b0bbce7f-63ab-4038-bed6-f72cdad2d833 ]]  {\r\n",
       "comp def \"B\" as E7  <<(T,blue)part def>> [[psysml:0f9466c7-ef71-48bc-a930-ec3e2c1a2c86 ]] {\r\n",
       "}\r\n",
       "E5 - -:|> E3 [[psysml:fc52ff88-f6bf-464b-a9f6-50c073522383 ]] \r\n",
       "}\r\n",
       "comp usage \"z: B\" as E8  <<(T,blue)part>> [[psysml:977e6037-d806-4fb0-bccf-0c48256693c8 ]] {\r\n",
       "}\r\n",
       "E8 - -:|> E7 [[psysml:46d3b5b8-edad-416f-ae7d-d25648abca20 ]] \r\n",
       "}\r\n",
       "@enduml\r\n",
       "\n",
       "PlantUML version 1.2020.13(Sat Jun 13 12:26:38 UTC 2020)\n",
       "(EPL source distribution)\n",
       "Java Runtime: OpenJDK Runtime Environment\n",
       "JVM: OpenJDK 64-Bit Server VM\n",
       "Default Encoding: UTF-8\n",
       "Language: en\n",
       "Country: null\n",
       "--></g></svg>"
      ]
     },
     "execution_count": 45,
     "metadata": {},
     "output_type": "execute_result"
    }
   ],
   "source": [
    "%viz --style=\"TB\" --view=\"Tree\" \"PrivateImportTest\""
   ]
  },
  {
   "cell_type": "code",
   "execution_count": 46,
   "id": "friendly-federation",
   "metadata": {
    "execution": {
     "iopub.execute_input": "2021-03-24T16:28:06.666265Z",
     "iopub.status.busy": "2021-03-24T16:28:06.665677Z",
     "iopub.status.idle": "2021-03-24T16:28:06.676371Z",
     "shell.execute_reply": "2021-03-24T16:28:06.676062Z"
    }
   },
   "outputs": [
    {
     "data": {
      "image/svg+xml": [
       "<?xml version=\"1.0\" encoding=\"UTF-8\" standalone=\"no\"?><svg xmlns=\"http://www.w3.org/2000/svg\" xmlns:xlink=\"http://www.w3.org/1999/xlink\" contentScriptType=\"application/ecmascript\" contentStyleType=\"text/css\" height=\"12px\" preserveAspectRatio=\"none\" style=\"width:12px;height:12px;\" version=\"1.1\" viewBox=\"0 0 12 12\" width=\"12px\" zoomAndPan=\"magnify\"><defs/><g><!--MD5=[f4ee21bc66e489b5061b7c3e9601fdef]\n",
       "@startuml\r\n",
       "top to bottom direction\r\n",
       "skinparam monochrome true\r\n",
       "skinparam classbackgroundcolor white\r\n",
       "skinparam shadowing false\r\n",
       "skinparam wrapWidth 300\r\n",
       "hide circle\r\n",
       "\r\n",
       "@enduml\r\n",
       "\n",
       "PlantUML version 1.2020.13(Sat Jun 13 12:26:38 UTC 2020)\n",
       "(EPL source distribution)\n",
       "Java Runtime: OpenJDK Runtime Environment\n",
       "JVM: OpenJDK 64-Bit Server VM\n",
       "Default Encoding: UTF-8\n",
       "Language: en\n",
       "Country: null\n",
       "--></g></svg>"
      ]
     },
     "execution_count": 46,
     "metadata": {},
     "output_type": "execute_result"
    }
   ],
   "source": [
    "%viz --style=\"TB\" --view=\"State\" \"PrivateImportTest\""
   ]
  },
  {
   "cell_type": "code",
   "execution_count": 47,
   "id": "manual-phenomenon",
   "metadata": {
    "execution": {
     "iopub.execute_input": "2021-03-24T16:28:06.728046Z",
     "iopub.status.busy": "2021-03-24T16:28:06.727572Z",
     "iopub.status.idle": "2021-03-24T16:28:06.767451Z",
     "shell.execute_reply": "2021-03-24T16:28:06.767161Z"
    }
   },
   "outputs": [
    {
     "data": {
      "image/svg+xml": [
       "<?xml version=\"1.0\" encoding=\"UTF-8\" standalone=\"no\"?><svg xmlns=\"http://www.w3.org/2000/svg\" xmlns:xlink=\"http://www.w3.org/1999/xlink\" contentScriptType=\"application/ecmascript\" contentStyleType=\"text/css\" height=\"179px\" preserveAspectRatio=\"none\" style=\"width:539px;height:179px;\" version=\"1.1\" viewBox=\"0 0 539 179\" width=\"539px\" zoomAndPan=\"magnify\"><defs/><g><!--MD5=[fbc87193dbaf4d95561dea2c320d4a47]\n",
       "cluster E1--><a href=\"psysml:679eaabc-5ff5-4f8e-91e0-c316c2e3864c\" target=\"_top\" title=\"psysml:679eaabc-5ff5-4f8e-91e0-c316c2e3864c\" xlink:actuate=\"onRequest\" xlink:href=\"psysml:679eaabc-5ff5-4f8e-91e0-c316c2e3864c\" xlink:show=\"new\" xlink:title=\"psysml:679eaabc-5ff5-4f8e-91e0-c316c2e3864c\" xlink:type=\"simple\"><polygon fill=\"#FFFFFF\" points=\"16,6,163,6,170,28.2969,517,28.2969,517,167,16,167,16,6\" style=\"stroke: #000000; stroke-width: 1.5;\"/><line style=\"stroke: #000000; stroke-width: 1.5;\" x1=\"16\" x2=\"170\" y1=\"28.2969\" y2=\"28.2969\"/><text fill=\"#000000\" font-family=\"sans-serif\" font-size=\"14\" font-weight=\"bold\" lengthAdjust=\"spacingAndGlyphs\" textLength=\"141\" x=\"20\" y=\"20.9951\">PrivateImportTest</text></a><!--MD5=[e4f7fae6ed58524ba242bb0b0d3be6b7]\n",
       "cluster E2--><a href=\"psysml:009bdde2-dc25-4a27-9e47-f33e7b142b72\" target=\"_top\" title=\"psysml:009bdde2-dc25-4a27-9e47-f33e7b142b72\" xlink:actuate=\"onRequest\" xlink:href=\"psysml:009bdde2-dc25-4a27-9e47-f33e7b142b72\" xlink:show=\"new\" xlink:title=\"psysml:009bdde2-dc25-4a27-9e47-f33e7b142b72\" xlink:type=\"simple\"><polygon fill=\"#FFFFFF\" points=\"389,49,415,49,422,71.2969,493,71.2969,493,143,389,143,389,49\" style=\"stroke: #000000; stroke-width: 1.5;\"/><line style=\"stroke: #000000; stroke-width: 1.5;\" x1=\"389\" x2=\"422\" y1=\"71.2969\" y2=\"71.2969\"/><text fill=\"#000000\" font-family=\"sans-serif\" font-size=\"14\" font-weight=\"bold\" lengthAdjust=\"spacingAndGlyphs\" textLength=\"20\" x=\"393\" y=\"63.9951\">P1</text></a><!--MD5=[14e3b0961a2654348d326746436168a1]\n",
       "cluster E6--><a href=\"psysml:b0bbce7f-63ab-4038-bed6-f72cdad2d833\" target=\"_top\" title=\"psysml:b0bbce7f-63ab-4038-bed6-f72cdad2d833\" xlink:actuate=\"onRequest\" xlink:href=\"psysml:b0bbce7f-63ab-4038-bed6-f72cdad2d833\" xlink:show=\"new\" xlink:title=\"psysml:b0bbce7f-63ab-4038-bed6-f72cdad2d833\" xlink:type=\"simple\"><polygon fill=\"#FFFFFF\" points=\"261,49,287,49,294,71.2969,365,71.2969,365,143,261,143,261,49\" style=\"stroke: #000000; stroke-width: 1.5;\"/><line style=\"stroke: #000000; stroke-width: 1.5;\" x1=\"261\" x2=\"294\" y1=\"71.2969\" y2=\"71.2969\"/><text fill=\"#000000\" font-family=\"sans-serif\" font-size=\"14\" font-weight=\"bold\" lengthAdjust=\"spacingAndGlyphs\" textLength=\"20\" x=\"265\" y=\"63.9951\">P3</text></a><g id=\"E1.E2.E3\"><a href=\"psysml:3f36db9e-42d3-4087-b2e1-ec91d884c8c4\" target=\"_top\" title=\"psysml:3f36db9e-42d3-4087-b2e1-ec91d884c8c4\" xlink:actuate=\"onRequest\" xlink:href=\"psysml:3f36db9e-42d3-4087-b2e1-ec91d884c8c4\" xlink:show=\"new\" xlink:title=\"psysml:3f36db9e-42d3-4087-b2e1-ec91d884c8c4\" xlink:type=\"simple\"><rect fill=\"#FFFFFF\" height=\"42.9375\" id=\"E3\" style=\"stroke: #383838; stroke-width: 1.5;\" width=\"71\" x=\"405.5\" y=\"84\"/><rect fill=\"#F8F8F8\" height=\"37.9375\" style=\"stroke: #383838; stroke-width: 1.5;\" width=\"71\" x=\"405.5\" y=\"84\"/><text fill=\"#000000\" font-family=\"sans-serif\" font-size=\"12\" font-style=\"italic\" lengthAdjust=\"spacingAndGlyphs\" textLength=\"64\" x=\"409\" y=\"100.1387\">«part def»</text><text fill=\"#000000\" font-family=\"sans-serif\" font-size=\"12\" lengthAdjust=\"spacingAndGlyphs\" textLength=\"8\" x=\"437\" y=\"114.1074\">A</text></a></g><a href=\"psysml:6aec89c6-9258-4c03-89c0-e79f913ee5de\" target=\"_top\" title=\"psysml:6aec89c6-9258-4c03-89c0-e79f913ee5de\" xlink:actuate=\"onRequest\" xlink:href=\"psysml:6aec89c6-9258-4c03-89c0-e79f913ee5de\" xlink:show=\"new\" xlink:title=\"psysml:6aec89c6-9258-4c03-89c0-e79f913ee5de\" xlink:type=\"simple\"><polygon fill=\"#FFFFFF\" points=\"202,79,228,79,235,101.2969,242,101.2969,242,131.5938,202,131.5938,202,79\" style=\"stroke: #000000; stroke-width: 1.5;\"/><line style=\"stroke: #000000; stroke-width: 1.5;\" x1=\"202\" x2=\"235\" y1=\"101.2969\" y2=\"101.2969\"/><text fill=\"#000000\" font-family=\"sans-serif\" font-size=\"14\" font-weight=\"bold\" lengthAdjust=\"spacingAndGlyphs\" textLength=\"20\" x=\"206\" y=\"93.9951\">P2</text></a><g id=\"E1.E5\"><a href=\"psysml:ae15bfee-df16-4fee-9dc7-bf97e2180cfd\" target=\"_top\" title=\"psysml:ae15bfee-df16-4fee-9dc7-bf97e2180cfd\" xlink:actuate=\"onRequest\" xlink:href=\"psysml:ae15bfee-df16-4fee-9dc7-bf97e2180cfd\" xlink:show=\"new\" xlink:title=\"psysml:ae15bfee-df16-4fee-9dc7-bf97e2180cfd\" xlink:type=\"simple\"><rect fill=\"#FFFFFF\" height=\"40\" id=\"E5\" rx=\"10\" ry=\"10\" style=\"stroke: #383838; stroke-width: 1.5;\" width=\"50\" x=\"117\" y=\"85.5\"/><rect fill=\"#F8F8F8\" height=\"23.9688\" rx=\"10\" ry=\"10\" style=\"stroke: #F8F8F8; stroke-width: 1.5;\" width=\"50\" x=\"117\" y=\"85.5\"/><rect fill=\"#F8F8F8\" height=\"10\" style=\"stroke: #F8F8F8; stroke-width: 1.5;\" width=\"50\" x=\"117\" y=\"99.4688\"/><rect fill=\"none\" height=\"40\" id=\"E5\" rx=\"10\" ry=\"10\" style=\"stroke: #383838; stroke-width: 1.5;\" width=\"50\" x=\"117\" y=\"85.5\"/><text fill=\"#000000\" font-family=\"sans-serif\" font-size=\"12\" lengthAdjust=\"spacingAndGlyphs\" textLength=\"22\" x=\"131\" y=\"101.6387\">x: A</text></a></g><g id=\"E1.E6.E7\"><a href=\"psysml:0f9466c7-ef71-48bc-a930-ec3e2c1a2c86\" target=\"_top\" title=\"psysml:0f9466c7-ef71-48bc-a930-ec3e2c1a2c86\" xlink:actuate=\"onRequest\" xlink:href=\"psysml:0f9466c7-ef71-48bc-a930-ec3e2c1a2c86\" xlink:show=\"new\" xlink:title=\"psysml:0f9466c7-ef71-48bc-a930-ec3e2c1a2c86\" xlink:type=\"simple\"><rect fill=\"#FFFFFF\" height=\"42.9375\" id=\"E7\" style=\"stroke: #383838; stroke-width: 1.5;\" width=\"71\" x=\"277.5\" y=\"84\"/><rect fill=\"#F8F8F8\" height=\"37.9375\" style=\"stroke: #383838; stroke-width: 1.5;\" width=\"71\" x=\"277.5\" y=\"84\"/><text fill=\"#000000\" font-family=\"sans-serif\" font-size=\"12\" font-style=\"italic\" lengthAdjust=\"spacingAndGlyphs\" textLength=\"64\" x=\"281\" y=\"100.1387\">«part def»</text><text fill=\"#000000\" font-family=\"sans-serif\" font-size=\"12\" lengthAdjust=\"spacingAndGlyphs\" textLength=\"8\" x=\"309\" y=\"114.1074\">B</text></a></g><g id=\"E1.E8\"><a href=\"psysml:977e6037-d806-4fb0-bccf-0c48256693c8\" target=\"_top\" title=\"psysml:977e6037-d806-4fb0-bccf-0c48256693c8\" xlink:actuate=\"onRequest\" xlink:href=\"psysml:977e6037-d806-4fb0-bccf-0c48256693c8\" xlink:show=\"new\" xlink:title=\"psysml:977e6037-d806-4fb0-bccf-0c48256693c8\" xlink:type=\"simple\"><rect fill=\"#FFFFFF\" height=\"40\" id=\"E8\" rx=\"10\" ry=\"10\" style=\"stroke: #383838; stroke-width: 1.5;\" width=\"50\" x=\"32\" y=\"85.5\"/><rect fill=\"#F8F8F8\" height=\"23.9688\" rx=\"10\" ry=\"10\" style=\"stroke: #F8F8F8; stroke-width: 1.5;\" width=\"50\" x=\"32\" y=\"85.5\"/><rect fill=\"#F8F8F8\" height=\"10\" style=\"stroke: #F8F8F8; stroke-width: 1.5;\" width=\"50\" x=\"32\" y=\"99.4688\"/><rect fill=\"none\" height=\"40\" id=\"E8\" rx=\"10\" ry=\"10\" style=\"stroke: #383838; stroke-width: 1.5;\" width=\"50\" x=\"32\" y=\"85.5\"/><text fill=\"#000000\" font-family=\"sans-serif\" font-size=\"12\" lengthAdjust=\"spacingAndGlyphs\" textLength=\"21\" x=\"46.5\" y=\"101.6387\">z: B</text></a></g><!--MD5=[db5b19d9a6ce4184b1496ffba20b1680]\n",
       "@startuml\r\n",
       "skinparam ranksep 10\r\n",
       "skinparam rectangle {\r\n",
       " backgroundColor<<block>> LightGreen\r\n",
       "}\r\n",
       "top to bottom direction\r\n",
       "skinparam monochrome true\r\n",
       "skinparam classbackgroundcolor white\r\n",
       "skinparam shadowing false\r\n",
       "skinparam wrapWidth 300\r\n",
       "hide circle\r\n",
       "\r\n",
       "package \"PrivateImportTest\" as E1  [[psysml:679eaabc-5ff5-4f8e-91e0-c316c2e3864c ]]  {\r\n",
       "package \"P1\" as E2  [[psysml:009bdde2-dc25-4a27-9e47-f33e7b142b72 ]]  {\r\n",
       "rec def \"A\" as E3  <<(T,blue)part def>> [[psysml:3f36db9e-42d3-4087-b2e1-ec91d884c8c4 ]] {\r\n",
       "}\r\n",
       "}\r\n",
       "package \"P2\" as E4  [[psysml:6aec89c6-9258-4c03-89c0-e79f913ee5de ]]  {\r\n",
       "}\r\n",
       "rec usage \"x: A\" as E5  [[psysml:ae15bfee-df16-4fee-9dc7-bf97e2180cfd ]] {\r\n",
       "}\r\n",
       "package \"P3\" as E6  [[psysml:b0bbce7f-63ab-4038-bed6-f72cdad2d833 ]]  {\r\n",
       "rec def \"B\" as E7  <<(T,blue)part def>> [[psysml:0f9466c7-ef71-48bc-a930-ec3e2c1a2c86 ]] {\r\n",
       "}\r\n",
       "}\r\n",
       "rec usage \"z: B\" as E8  [[psysml:977e6037-d806-4fb0-bccf-0c48256693c8 ]] {\r\n",
       "}\r\n",
       "}\r\n",
       "@enduml\r\n",
       "\n",
       "PlantUML version 1.2020.13(Sat Jun 13 12:26:38 UTC 2020)\n",
       "(EPL source distribution)\n",
       "Java Runtime: OpenJDK Runtime Environment\n",
       "JVM: OpenJDK 64-Bit Server VM\n",
       "Default Encoding: UTF-8\n",
       "Language: en\n",
       "Country: null\n",
       "--></g></svg>"
      ]
     },
     "execution_count": 47,
     "metadata": {},
     "output_type": "execute_result"
    }
   ],
   "source": [
    "%viz --style=\"TB\" --view=\"Interconnection\" \"PrivateImportTest\""
   ]
  },
  {
   "cell_type": "code",
   "execution_count": 48,
   "id": "proof-investigator",
   "metadata": {
    "execution": {
     "iopub.execute_input": "2021-03-24T16:28:06.823585Z",
     "iopub.status.busy": "2021-03-24T16:28:06.822684Z",
     "iopub.status.idle": "2021-03-24T16:28:06.825231Z",
     "shell.execute_reply": "2021-03-24T16:28:06.825599Z"
    }
   },
   "outputs": [
    {
     "data": {
      "image/svg+xml": [
       "<?xml version=\"1.0\" encoding=\"UTF-8\" standalone=\"no\"?><svg xmlns=\"http://www.w3.org/2000/svg\" xmlns:xlink=\"http://www.w3.org/1999/xlink\" contentScriptType=\"application/ecmascript\" contentStyleType=\"text/css\" height=\"12px\" preserveAspectRatio=\"none\" style=\"width:12px;height:12px;\" version=\"1.1\" viewBox=\"0 0 12 12\" width=\"12px\" zoomAndPan=\"magnify\"><defs/><g><!--MD5=[06afc254b03ac5e9d9fb7773b07d0800]\n",
       "@startuml\r\n",
       "skinparam ranksep 8\r\n",
       "top to bottom direction\r\n",
       "skinparam monochrome true\r\n",
       "skinparam classbackgroundcolor white\r\n",
       "skinparam shadowing false\r\n",
       "skinparam wrapWidth 300\r\n",
       "hide circle\r\n",
       "\r\n",
       "@enduml\r\n",
       "\n",
       "PlantUML version 1.2020.13(Sat Jun 13 12:26:38 UTC 2020)\n",
       "(EPL source distribution)\n",
       "Java Runtime: OpenJDK Runtime Environment\n",
       "JVM: OpenJDK 64-Bit Server VM\n",
       "Default Encoding: UTF-8\n",
       "Language: en\n",
       "Country: null\n",
       "--></g></svg>"
      ]
     },
     "execution_count": 48,
     "metadata": {},
     "output_type": "execute_result"
    }
   ],
   "source": [
    "%viz --style=\"TB\" --view=\"Action\" \"PrivateImportTest\""
   ]
  },
  {
   "cell_type": "code",
   "execution_count": 49,
   "id": "focal-columbia",
   "metadata": {
    "execution": {
     "iopub.execute_input": "2021-03-24T16:28:06.875279Z",
     "iopub.status.busy": "2021-03-24T16:28:06.874485Z",
     "iopub.status.idle": "2021-03-24T16:28:06.902209Z",
     "shell.execute_reply": "2021-03-24T16:28:06.900650Z"
    }
   },
   "outputs": [
    {
     "data": {
      "image/svg+xml": [
       "<?xml version=\"1.0\" encoding=\"UTF-8\" standalone=\"no\"?><svg xmlns=\"http://www.w3.org/2000/svg\" xmlns:xlink=\"http://www.w3.org/1999/xlink\" contentScriptType=\"application/ecmascript\" contentStyleType=\"text/css\" height=\"252px\" preserveAspectRatio=\"none\" style=\"width:306px;height:252px;\" version=\"1.1\" viewBox=\"0 0 306 252\" width=\"306px\" zoomAndPan=\"magnify\"><defs/><g><!--MD5=[fbc87193dbaf4d95561dea2c320d4a47]\n",
       "cluster E1--><a href=\"psysml:679eaabc-5ff5-4f8e-91e0-c316c2e3864c\" target=\"_top\" title=\"psysml:679eaabc-5ff5-4f8e-91e0-c316c2e3864c\" xlink:actuate=\"onRequest\" xlink:href=\"psysml:679eaabc-5ff5-4f8e-91e0-c316c2e3864c\" xlink:show=\"new\" xlink:title=\"psysml:679eaabc-5ff5-4f8e-91e0-c316c2e3864c\" xlink:type=\"simple\"><polygon fill=\"#FFFFFF\" points=\"16,6,163,6,170,28.2969,284,28.2969,284,240,16,240,16,6\" style=\"stroke: #000000; stroke-width: 1.5;\"/><line style=\"stroke: #000000; stroke-width: 1.5;\" x1=\"16\" x2=\"170\" y1=\"28.2969\" y2=\"28.2969\"/><text fill=\"#000000\" font-family=\"sans-serif\" font-size=\"14\" font-weight=\"bold\" lengthAdjust=\"spacingAndGlyphs\" textLength=\"141\" x=\"20\" y=\"20.9951\">PrivateImportTest</text></a><!--MD5=[e4f7fae6ed58524ba242bb0b0d3be6b7]\n",
       "cluster E2--><a href=\"psysml:009bdde2-dc25-4a27-9e47-f33e7b142b72\" target=\"_top\" title=\"psysml:009bdde2-dc25-4a27-9e47-f33e7b142b72\" xlink:actuate=\"onRequest\" xlink:href=\"psysml:009bdde2-dc25-4a27-9e47-f33e7b142b72\" xlink:show=\"new\" xlink:title=\"psysml:009bdde2-dc25-4a27-9e47-f33e7b142b72\" xlink:type=\"simple\"><polygon fill=\"#FFFFFF\" points=\"162,119,188,119,195,141.2969,260,141.2969,260,216,162,216,162,119\" style=\"stroke: #000000; stroke-width: 1.5;\"/><line style=\"stroke: #000000; stroke-width: 1.5;\" x1=\"162\" x2=\"195\" y1=\"141.2969\" y2=\"141.2969\"/><text fill=\"#000000\" font-family=\"sans-serif\" font-size=\"14\" font-weight=\"bold\" lengthAdjust=\"spacingAndGlyphs\" textLength=\"20\" x=\"166\" y=\"133.9951\">P1</text></a><!--MD5=[14e3b0961a2654348d326746436168a1]\n",
       "cluster E6--><a href=\"psysml:b0bbce7f-63ab-4038-bed6-f72cdad2d833\" target=\"_top\" title=\"psysml:b0bbce7f-63ab-4038-bed6-f72cdad2d833\" xlink:actuate=\"onRequest\" xlink:href=\"psysml:b0bbce7f-63ab-4038-bed6-f72cdad2d833\" xlink:show=\"new\" xlink:title=\"psysml:b0bbce7f-63ab-4038-bed6-f72cdad2d833\" xlink:type=\"simple\"><polygon fill=\"#FFFFFF\" points=\"40,119,66,119,73,141.2969,138,141.2969,138,216,40,216,40,119\" style=\"stroke: #000000; stroke-width: 1.5;\"/><line style=\"stroke: #000000; stroke-width: 1.5;\" x1=\"40\" x2=\"73\" y1=\"141.2969\" y2=\"141.2969\"/><text fill=\"#000000\" font-family=\"sans-serif\" font-size=\"14\" font-weight=\"bold\" lengthAdjust=\"spacingAndGlyphs\" textLength=\"20\" x=\"44\" y=\"133.9951\">P3</text></a><!--MD5=[270fce915f116d4de14055a7c1d9a0f3]\n",
       "class E5--><a href=\"psysml:ae15bfee-df16-4fee-9dc7-bf97e2180cfd\" target=\"_top\" title=\"psysml:ae15bfee-df16-4fee-9dc7-bf97e2180cfd\" xlink:actuate=\"onRequest\" xlink:href=\"psysml:ae15bfee-df16-4fee-9dc7-bf97e2180cfd\" xlink:show=\"new\" xlink:title=\"psysml:ae15bfee-df16-4fee-9dc7-bf97e2180cfd\" xlink:type=\"simple\"><rect fill=\"#FFFFFF\" height=\"45.9375\" id=\"E5\" rx=\"10\" ry=\"10\" style=\"stroke: #383838; stroke-width: 1.5;\" width=\"42\" x=\"190\" y=\"44.5\"/><text fill=\"#000000\" font-family=\"sans-serif\" font-size=\"12\" font-style=\"italic\" lengthAdjust=\"spacingAndGlyphs\" textLength=\"40\" x=\"191\" y=\"60.6387\">«part»</text><text fill=\"#000000\" font-family=\"sans-serif\" font-size=\"12\" lengthAdjust=\"spacingAndGlyphs\" textLength=\"22\" x=\"200\" y=\"74.6074\">x: A</text><line style=\"stroke: #383838; stroke-width: 1.5;\" x1=\"191\" x2=\"231\" y1=\"82.4375\" y2=\"82.4375\"/></a><!--MD5=[b9389687b975829384b498ac4b7476b2]\n",
       "class E8--><a href=\"psysml:977e6037-d806-4fb0-bccf-0c48256693c8\" target=\"_top\" title=\"psysml:977e6037-d806-4fb0-bccf-0c48256693c8\" xlink:actuate=\"onRequest\" xlink:href=\"psysml:977e6037-d806-4fb0-bccf-0c48256693c8\" xlink:show=\"new\" xlink:title=\"psysml:977e6037-d806-4fb0-bccf-0c48256693c8\" xlink:type=\"simple\"><rect fill=\"#FFFFFF\" height=\"45.9375\" id=\"E8\" rx=\"10\" ry=\"10\" style=\"stroke: #383838; stroke-width: 1.5;\" width=\"42\" x=\"107\" y=\"44.5\"/><text fill=\"#000000\" font-family=\"sans-serif\" font-size=\"12\" font-style=\"italic\" lengthAdjust=\"spacingAndGlyphs\" textLength=\"40\" x=\"108\" y=\"60.6387\">«part»</text><text fill=\"#000000\" font-family=\"sans-serif\" font-size=\"12\" lengthAdjust=\"spacingAndGlyphs\" textLength=\"21\" x=\"117.5\" y=\"74.6074\">z: B</text><line style=\"stroke: #383838; stroke-width: 1.5;\" x1=\"108\" x2=\"148\" y1=\"82.4375\" y2=\"82.4375\"/></a><!--MD5=[09b614a08d8cba4a07c9adeb5e0fee81]\n",
       "class E3--><a href=\"psysml:3f36db9e-42d3-4087-b2e1-ec91d884c8c4\" target=\"_top\" title=\"psysml:3f36db9e-42d3-4087-b2e1-ec91d884c8c4\" xlink:actuate=\"onRequest\" xlink:href=\"psysml:3f36db9e-42d3-4087-b2e1-ec91d884c8c4\" xlink:show=\"new\" xlink:title=\"psysml:3f36db9e-42d3-4087-b2e1-ec91d884c8c4\" xlink:type=\"simple\"><rect fill=\"#FFFFFF\" height=\"45.9375\" id=\"E3\" style=\"stroke: #383838; stroke-width: 1.5;\" width=\"66\" x=\"178\" y=\"154\"/><text fill=\"#000000\" font-family=\"sans-serif\" font-size=\"12\" font-style=\"italic\" lengthAdjust=\"spacingAndGlyphs\" textLength=\"64\" x=\"179\" y=\"170.1387\">«part def»</text><text fill=\"#000000\" font-family=\"sans-serif\" font-size=\"12\" lengthAdjust=\"spacingAndGlyphs\" textLength=\"8\" x=\"207\" y=\"184.1074\">A</text><line style=\"stroke: #383838; stroke-width: 1.5;\" x1=\"179\" x2=\"243\" y1=\"191.9375\" y2=\"191.9375\"/></a><a href=\"psysml:6aec89c6-9258-4c03-89c0-e79f913ee5de\" target=\"_top\" title=\"psysml:6aec89c6-9258-4c03-89c0-e79f913ee5de\" xlink:actuate=\"onRequest\" xlink:href=\"psysml:6aec89c6-9258-4c03-89c0-e79f913ee5de\" xlink:show=\"new\" xlink:title=\"psysml:6aec89c6-9258-4c03-89c0-e79f913ee5de\" xlink:type=\"simple\"><polygon fill=\"#FFFFFF\" points=\"32,41,58,41,65,63.2969,72,63.2969,72,93.5938,32,93.5938,32,41\" style=\"stroke: #000000; stroke-width: 1.5;\"/><line style=\"stroke: #000000; stroke-width: 1.5;\" x1=\"32\" x2=\"65\" y1=\"63.2969\" y2=\"63.2969\"/><text fill=\"#000000\" font-family=\"sans-serif\" font-size=\"14\" font-weight=\"bold\" lengthAdjust=\"spacingAndGlyphs\" textLength=\"20\" x=\"36\" y=\"55.9951\">P2</text></a><!--MD5=[2156ba9850f5573cc1fc38a6a4b2f02b]\n",
       "class E7--><a href=\"psysml:0f9466c7-ef71-48bc-a930-ec3e2c1a2c86\" target=\"_top\" title=\"psysml:0f9466c7-ef71-48bc-a930-ec3e2c1a2c86\" xlink:actuate=\"onRequest\" xlink:href=\"psysml:0f9466c7-ef71-48bc-a930-ec3e2c1a2c86\" xlink:show=\"new\" xlink:title=\"psysml:0f9466c7-ef71-48bc-a930-ec3e2c1a2c86\" xlink:type=\"simple\"><rect fill=\"#FFFFFF\" height=\"45.9375\" id=\"E7\" style=\"stroke: #383838; stroke-width: 1.5;\" width=\"66\" x=\"56\" y=\"154\"/><text fill=\"#000000\" font-family=\"sans-serif\" font-size=\"12\" font-style=\"italic\" lengthAdjust=\"spacingAndGlyphs\" textLength=\"64\" x=\"57\" y=\"170.1387\">«part def»</text><text fill=\"#000000\" font-family=\"sans-serif\" font-size=\"12\" lengthAdjust=\"spacingAndGlyphs\" textLength=\"8\" x=\"85\" y=\"184.1074\">B</text><line style=\"stroke: #383838; stroke-width: 1.5;\" x1=\"57\" x2=\"121\" y1=\"191.9375\" y2=\"191.9375\"/></a><!--MD5=[e9be52314489bd878ff4c7144b63c9e1]\n",
       "link E5 to E3--><a href=\"psysml:fc52ff88-f6bf-464b-a9f6-50c073522383\" target=\"_top\" title=\"psysml:fc52ff88-f6bf-464b-a9f6-50c073522383\" xlink:actuate=\"onRequest\" xlink:href=\"psysml:fc52ff88-f6bf-464b-a9f6-50c073522383\" xlink:show=\"new\" xlink:title=\"psysml:fc52ff88-f6bf-464b-a9f6-50c073522383\" xlink:type=\"simple\"><path d=\"M211,90.51 C211,102.89 211,118.78 211,133.48 \" fill=\"none\" id=\"E5-&gt;E3\" style=\"stroke: #383838; stroke-width: 1.0;\"/><polygon fill=\"#FFFFFF\" points=\"211,153.65,204,134.65,218,134.65,211,153.65\" style=\"stroke: #383838; stroke-width: 1.0;\"/><ellipse cx=\"206\" cy=\"128.95\" fill=\"#383838\" rx=\"2\" ry=\"2\" style=\"stroke: #383838; stroke-width: 1.0;\"/><ellipse cx=\"216\" cy=\"128.95\" fill=\"#383838\" rx=\"2\" ry=\"2\" style=\"stroke: #383838; stroke-width: 1.0;\"/></a><!--MD5=[bfa3c8b0d15052fdf50ae9310b491027]\n",
       "link E8 to E7--><a href=\"psysml:46d3b5b8-edad-416f-ae7d-d25648abca20\" target=\"_top\" title=\"psysml:46d3b5b8-edad-416f-ae7d-d25648abca20\" xlink:actuate=\"onRequest\" xlink:href=\"psysml:46d3b5b8-edad-416f-ae7d-d25648abca20\" xlink:show=\"new\" xlink:title=\"psysml:46d3b5b8-edad-416f-ae7d-d25648abca20\" xlink:type=\"simple\"><path d=\"M120.01,90.51 C115.39,103.25 109.42,119.7 103.96,134.76 \" fill=\"none\" id=\"E8-&gt;E7\" style=\"stroke: #383838; stroke-width: 1.0;\"/><polygon fill=\"#FFFFFF\" points=\"97.11,153.65,97.0036,133.4018,110.1656,138.1726,97.11,153.65\" style=\"stroke: #383838; stroke-width: 1.0;\"/><ellipse cx=\"100.8262\" cy=\"128.7245\" fill=\"#383838\" rx=\"2\" ry=\"2\" style=\"stroke: #383838; stroke-width: 1.0;\"/><ellipse cx=\"110.2277\" cy=\"132.1322\" fill=\"#383838\" rx=\"2\" ry=\"2\" style=\"stroke: #383838; stroke-width: 1.0;\"/></a><!--MD5=[2a0a92c03350a1b8bca23ae0a88b9b91]\n",
       "@startuml\r\n",
       "top to bottom direction\r\n",
       "skinparam monochrome true\r\n",
       "skinparam classbackgroundcolor white\r\n",
       "skinparam shadowing false\r\n",
       "skinparam wrapWidth 300\r\n",
       "hide circle\r\n",
       "\r\n",
       "package \"PrivateImportTest\" as E1  [[psysml:679eaabc-5ff5-4f8e-91e0-c316c2e3864c ]]  {\r\n",
       "package \"P1\" as E2  [[psysml:009bdde2-dc25-4a27-9e47-f33e7b142b72 ]]  {\r\n",
       "comp def \"A\" as E3  <<(T,blue)part def>> [[psysml:3f36db9e-42d3-4087-b2e1-ec91d884c8c4 ]] {\r\n",
       "}\r\n",
       "}\r\n",
       "package \"P2\" as E4  [[psysml:6aec89c6-9258-4c03-89c0-e79f913ee5de ]]  {\r\n",
       "}\r\n",
       "comp usage \"x: A\" as E5  <<(T,blue)part>> [[psysml:ae15bfee-df16-4fee-9dc7-bf97e2180cfd ]] {\r\n",
       "}\r\n",
       "package \"P3\" as E6  [[psysml:b0bbce7f-63ab-4038-bed6-f72cdad2d833 ]]  {\r\n",
       "comp def \"B\" as E7  <<(T,blue)part def>> [[psysml:0f9466c7-ef71-48bc-a930-ec3e2c1a2c86 ]] {\r\n",
       "}\r\n",
       "E5 - -:|> E3 [[psysml:fc52ff88-f6bf-464b-a9f6-50c073522383 ]] \r\n",
       "}\r\n",
       "comp usage \"z: B\" as E8  <<(T,blue)part>> [[psysml:977e6037-d806-4fb0-bccf-0c48256693c8 ]] {\r\n",
       "}\r\n",
       "E8 - -:|> E7 [[psysml:46d3b5b8-edad-416f-ae7d-d25648abca20 ]] \r\n",
       "}\r\n",
       "@enduml\r\n",
       "\n",
       "PlantUML version 1.2020.13(Sat Jun 13 12:26:38 UTC 2020)\n",
       "(EPL source distribution)\n",
       "Java Runtime: OpenJDK Runtime Environment\n",
       "JVM: OpenJDK 64-Bit Server VM\n",
       "Default Encoding: UTF-8\n",
       "Language: en\n",
       "Country: null\n",
       "--></g></svg>"
      ]
     },
     "execution_count": 49,
     "metadata": {},
     "output_type": "execute_result"
    }
   ],
   "source": [
    "%viz --style=\"TB\" --view=\"Sequence\" \"PrivateImportTest\""
   ]
  },
  {
   "cell_type": "code",
   "execution_count": 50,
   "id": "minimal-scratch",
   "metadata": {
    "execution": {
     "iopub.execute_input": "2021-03-24T16:28:06.951245Z",
     "iopub.status.busy": "2021-03-24T16:28:06.950869Z",
     "iopub.status.idle": "2021-03-24T16:28:06.976195Z",
     "shell.execute_reply": "2021-03-24T16:28:06.974731Z"
    }
   },
   "outputs": [
    {
     "data": {
      "image/svg+xml": [
       "<?xml version=\"1.0\" encoding=\"UTF-8\" standalone=\"no\"?><svg xmlns=\"http://www.w3.org/2000/svg\" xmlns:xlink=\"http://www.w3.org/1999/xlink\" contentScriptType=\"application/ecmascript\" contentStyleType=\"text/css\" height=\"252px\" preserveAspectRatio=\"none\" style=\"width:306px;height:252px;\" version=\"1.1\" viewBox=\"0 0 306 252\" width=\"306px\" zoomAndPan=\"magnify\"><defs/><g><!--MD5=[fbc87193dbaf4d95561dea2c320d4a47]\n",
       "cluster E1--><a href=\"psysml:679eaabc-5ff5-4f8e-91e0-c316c2e3864c\" target=\"_top\" title=\"psysml:679eaabc-5ff5-4f8e-91e0-c316c2e3864c\" xlink:actuate=\"onRequest\" xlink:href=\"psysml:679eaabc-5ff5-4f8e-91e0-c316c2e3864c\" xlink:show=\"new\" xlink:title=\"psysml:679eaabc-5ff5-4f8e-91e0-c316c2e3864c\" xlink:type=\"simple\"><polygon fill=\"#FFFFFF\" points=\"16,6,163,6,170,28.2969,284,28.2969,284,240,16,240,16,6\" style=\"stroke: #000000; stroke-width: 1.5;\"/><line style=\"stroke: #000000; stroke-width: 1.5;\" x1=\"16\" x2=\"170\" y1=\"28.2969\" y2=\"28.2969\"/><text fill=\"#000000\" font-family=\"sans-serif\" font-size=\"14\" font-weight=\"bold\" lengthAdjust=\"spacingAndGlyphs\" textLength=\"141\" x=\"20\" y=\"20.9951\">PrivateImportTest</text></a><!--MD5=[e4f7fae6ed58524ba242bb0b0d3be6b7]\n",
       "cluster E2--><a href=\"psysml:009bdde2-dc25-4a27-9e47-f33e7b142b72\" target=\"_top\" title=\"psysml:009bdde2-dc25-4a27-9e47-f33e7b142b72\" xlink:actuate=\"onRequest\" xlink:href=\"psysml:009bdde2-dc25-4a27-9e47-f33e7b142b72\" xlink:show=\"new\" xlink:title=\"psysml:009bdde2-dc25-4a27-9e47-f33e7b142b72\" xlink:type=\"simple\"><polygon fill=\"#FFFFFF\" points=\"162,119,188,119,195,141.2969,260,141.2969,260,216,162,216,162,119\" style=\"stroke: #000000; stroke-width: 1.5;\"/><line style=\"stroke: #000000; stroke-width: 1.5;\" x1=\"162\" x2=\"195\" y1=\"141.2969\" y2=\"141.2969\"/><text fill=\"#000000\" font-family=\"sans-serif\" font-size=\"14\" font-weight=\"bold\" lengthAdjust=\"spacingAndGlyphs\" textLength=\"20\" x=\"166\" y=\"133.9951\">P1</text></a><!--MD5=[14e3b0961a2654348d326746436168a1]\n",
       "cluster E6--><a href=\"psysml:b0bbce7f-63ab-4038-bed6-f72cdad2d833\" target=\"_top\" title=\"psysml:b0bbce7f-63ab-4038-bed6-f72cdad2d833\" xlink:actuate=\"onRequest\" xlink:href=\"psysml:b0bbce7f-63ab-4038-bed6-f72cdad2d833\" xlink:show=\"new\" xlink:title=\"psysml:b0bbce7f-63ab-4038-bed6-f72cdad2d833\" xlink:type=\"simple\"><polygon fill=\"#FFFFFF\" points=\"40,119,66,119,73,141.2969,138,141.2969,138,216,40,216,40,119\" style=\"stroke: #000000; stroke-width: 1.5;\"/><line style=\"stroke: #000000; stroke-width: 1.5;\" x1=\"40\" x2=\"73\" y1=\"141.2969\" y2=\"141.2969\"/><text fill=\"#000000\" font-family=\"sans-serif\" font-size=\"14\" font-weight=\"bold\" lengthAdjust=\"spacingAndGlyphs\" textLength=\"20\" x=\"44\" y=\"133.9951\">P3</text></a><!--MD5=[270fce915f116d4de14055a7c1d9a0f3]\n",
       "class E5--><a href=\"psysml:ae15bfee-df16-4fee-9dc7-bf97e2180cfd\" target=\"_top\" title=\"psysml:ae15bfee-df16-4fee-9dc7-bf97e2180cfd\" xlink:actuate=\"onRequest\" xlink:href=\"psysml:ae15bfee-df16-4fee-9dc7-bf97e2180cfd\" xlink:show=\"new\" xlink:title=\"psysml:ae15bfee-df16-4fee-9dc7-bf97e2180cfd\" xlink:type=\"simple\"><rect fill=\"#FFFFFF\" height=\"45.9375\" id=\"E5\" rx=\"10\" ry=\"10\" style=\"stroke: #383838; stroke-width: 1.5;\" width=\"42\" x=\"190\" y=\"44.5\"/><text fill=\"#000000\" font-family=\"sans-serif\" font-size=\"12\" font-style=\"italic\" lengthAdjust=\"spacingAndGlyphs\" textLength=\"40\" x=\"191\" y=\"60.6387\">«part»</text><text fill=\"#000000\" font-family=\"sans-serif\" font-size=\"12\" lengthAdjust=\"spacingAndGlyphs\" textLength=\"22\" x=\"200\" y=\"74.6074\">x: A</text><line style=\"stroke: #383838; stroke-width: 1.5;\" x1=\"191\" x2=\"231\" y1=\"82.4375\" y2=\"82.4375\"/></a><!--MD5=[b9389687b975829384b498ac4b7476b2]\n",
       "class E8--><a href=\"psysml:977e6037-d806-4fb0-bccf-0c48256693c8\" target=\"_top\" title=\"psysml:977e6037-d806-4fb0-bccf-0c48256693c8\" xlink:actuate=\"onRequest\" xlink:href=\"psysml:977e6037-d806-4fb0-bccf-0c48256693c8\" xlink:show=\"new\" xlink:title=\"psysml:977e6037-d806-4fb0-bccf-0c48256693c8\" xlink:type=\"simple\"><rect fill=\"#FFFFFF\" height=\"45.9375\" id=\"E8\" rx=\"10\" ry=\"10\" style=\"stroke: #383838; stroke-width: 1.5;\" width=\"42\" x=\"107\" y=\"44.5\"/><text fill=\"#000000\" font-family=\"sans-serif\" font-size=\"12\" font-style=\"italic\" lengthAdjust=\"spacingAndGlyphs\" textLength=\"40\" x=\"108\" y=\"60.6387\">«part»</text><text fill=\"#000000\" font-family=\"sans-serif\" font-size=\"12\" lengthAdjust=\"spacingAndGlyphs\" textLength=\"21\" x=\"117.5\" y=\"74.6074\">z: B</text><line style=\"stroke: #383838; stroke-width: 1.5;\" x1=\"108\" x2=\"148\" y1=\"82.4375\" y2=\"82.4375\"/></a><!--MD5=[09b614a08d8cba4a07c9adeb5e0fee81]\n",
       "class E3--><a href=\"psysml:3f36db9e-42d3-4087-b2e1-ec91d884c8c4\" target=\"_top\" title=\"psysml:3f36db9e-42d3-4087-b2e1-ec91d884c8c4\" xlink:actuate=\"onRequest\" xlink:href=\"psysml:3f36db9e-42d3-4087-b2e1-ec91d884c8c4\" xlink:show=\"new\" xlink:title=\"psysml:3f36db9e-42d3-4087-b2e1-ec91d884c8c4\" xlink:type=\"simple\"><rect fill=\"#FFFFFF\" height=\"45.9375\" id=\"E3\" style=\"stroke: #383838; stroke-width: 1.5;\" width=\"66\" x=\"178\" y=\"154\"/><text fill=\"#000000\" font-family=\"sans-serif\" font-size=\"12\" font-style=\"italic\" lengthAdjust=\"spacingAndGlyphs\" textLength=\"64\" x=\"179\" y=\"170.1387\">«part def»</text><text fill=\"#000000\" font-family=\"sans-serif\" font-size=\"12\" lengthAdjust=\"spacingAndGlyphs\" textLength=\"8\" x=\"207\" y=\"184.1074\">A</text><line style=\"stroke: #383838; stroke-width: 1.5;\" x1=\"179\" x2=\"243\" y1=\"191.9375\" y2=\"191.9375\"/></a><a href=\"psysml:6aec89c6-9258-4c03-89c0-e79f913ee5de\" target=\"_top\" title=\"psysml:6aec89c6-9258-4c03-89c0-e79f913ee5de\" xlink:actuate=\"onRequest\" xlink:href=\"psysml:6aec89c6-9258-4c03-89c0-e79f913ee5de\" xlink:show=\"new\" xlink:title=\"psysml:6aec89c6-9258-4c03-89c0-e79f913ee5de\" xlink:type=\"simple\"><polygon fill=\"#FFFFFF\" points=\"32,41,58,41,65,63.2969,72,63.2969,72,93.5938,32,93.5938,32,41\" style=\"stroke: #000000; stroke-width: 1.5;\"/><line style=\"stroke: #000000; stroke-width: 1.5;\" x1=\"32\" x2=\"65\" y1=\"63.2969\" y2=\"63.2969\"/><text fill=\"#000000\" font-family=\"sans-serif\" font-size=\"14\" font-weight=\"bold\" lengthAdjust=\"spacingAndGlyphs\" textLength=\"20\" x=\"36\" y=\"55.9951\">P2</text></a><!--MD5=[2156ba9850f5573cc1fc38a6a4b2f02b]\n",
       "class E7--><a href=\"psysml:0f9466c7-ef71-48bc-a930-ec3e2c1a2c86\" target=\"_top\" title=\"psysml:0f9466c7-ef71-48bc-a930-ec3e2c1a2c86\" xlink:actuate=\"onRequest\" xlink:href=\"psysml:0f9466c7-ef71-48bc-a930-ec3e2c1a2c86\" xlink:show=\"new\" xlink:title=\"psysml:0f9466c7-ef71-48bc-a930-ec3e2c1a2c86\" xlink:type=\"simple\"><rect fill=\"#FFFFFF\" height=\"45.9375\" id=\"E7\" style=\"stroke: #383838; stroke-width: 1.5;\" width=\"66\" x=\"56\" y=\"154\"/><text fill=\"#000000\" font-family=\"sans-serif\" font-size=\"12\" font-style=\"italic\" lengthAdjust=\"spacingAndGlyphs\" textLength=\"64\" x=\"57\" y=\"170.1387\">«part def»</text><text fill=\"#000000\" font-family=\"sans-serif\" font-size=\"12\" lengthAdjust=\"spacingAndGlyphs\" textLength=\"8\" x=\"85\" y=\"184.1074\">B</text><line style=\"stroke: #383838; stroke-width: 1.5;\" x1=\"57\" x2=\"121\" y1=\"191.9375\" y2=\"191.9375\"/></a><!--MD5=[e9be52314489bd878ff4c7144b63c9e1]\n",
       "link E5 to E3--><a href=\"psysml:fc52ff88-f6bf-464b-a9f6-50c073522383\" target=\"_top\" title=\"psysml:fc52ff88-f6bf-464b-a9f6-50c073522383\" xlink:actuate=\"onRequest\" xlink:href=\"psysml:fc52ff88-f6bf-464b-a9f6-50c073522383\" xlink:show=\"new\" xlink:title=\"psysml:fc52ff88-f6bf-464b-a9f6-50c073522383\" xlink:type=\"simple\"><path d=\"M211,90.51 C211,102.89 211,118.78 211,133.48 \" fill=\"none\" id=\"E5-&gt;E3\" style=\"stroke: #383838; stroke-width: 1.0;\"/><polygon fill=\"#FFFFFF\" points=\"211,153.65,204,134.65,218,134.65,211,153.65\" style=\"stroke: #383838; stroke-width: 1.0;\"/><ellipse cx=\"206\" cy=\"128.95\" fill=\"#383838\" rx=\"2\" ry=\"2\" style=\"stroke: #383838; stroke-width: 1.0;\"/><ellipse cx=\"216\" cy=\"128.95\" fill=\"#383838\" rx=\"2\" ry=\"2\" style=\"stroke: #383838; stroke-width: 1.0;\"/></a><!--MD5=[bfa3c8b0d15052fdf50ae9310b491027]\n",
       "link E8 to E7--><a href=\"psysml:46d3b5b8-edad-416f-ae7d-d25648abca20\" target=\"_top\" title=\"psysml:46d3b5b8-edad-416f-ae7d-d25648abca20\" xlink:actuate=\"onRequest\" xlink:href=\"psysml:46d3b5b8-edad-416f-ae7d-d25648abca20\" xlink:show=\"new\" xlink:title=\"psysml:46d3b5b8-edad-416f-ae7d-d25648abca20\" xlink:type=\"simple\"><path d=\"M120.01,90.51 C115.39,103.25 109.42,119.7 103.96,134.76 \" fill=\"none\" id=\"E8-&gt;E7\" style=\"stroke: #383838; stroke-width: 1.0;\"/><polygon fill=\"#FFFFFF\" points=\"97.11,153.65,97.0036,133.4018,110.1656,138.1726,97.11,153.65\" style=\"stroke: #383838; stroke-width: 1.0;\"/><ellipse cx=\"100.8262\" cy=\"128.7245\" fill=\"#383838\" rx=\"2\" ry=\"2\" style=\"stroke: #383838; stroke-width: 1.0;\"/><ellipse cx=\"110.2277\" cy=\"132.1322\" fill=\"#383838\" rx=\"2\" ry=\"2\" style=\"stroke: #383838; stroke-width: 1.0;\"/></a><!--MD5=[2a0a92c03350a1b8bca23ae0a88b9b91]\n",
       "@startuml\r\n",
       "top to bottom direction\r\n",
       "skinparam monochrome true\r\n",
       "skinparam classbackgroundcolor white\r\n",
       "skinparam shadowing false\r\n",
       "skinparam wrapWidth 300\r\n",
       "hide circle\r\n",
       "\r\n",
       "package \"PrivateImportTest\" as E1  [[psysml:679eaabc-5ff5-4f8e-91e0-c316c2e3864c ]]  {\r\n",
       "package \"P1\" as E2  [[psysml:009bdde2-dc25-4a27-9e47-f33e7b142b72 ]]  {\r\n",
       "comp def \"A\" as E3  <<(T,blue)part def>> [[psysml:3f36db9e-42d3-4087-b2e1-ec91d884c8c4 ]] {\r\n",
       "}\r\n",
       "}\r\n",
       "package \"P2\" as E4  [[psysml:6aec89c6-9258-4c03-89c0-e79f913ee5de ]]  {\r\n",
       "}\r\n",
       "comp usage \"x: A\" as E5  <<(T,blue)part>> [[psysml:ae15bfee-df16-4fee-9dc7-bf97e2180cfd ]] {\r\n",
       "}\r\n",
       "package \"P3\" as E6  [[psysml:b0bbce7f-63ab-4038-bed6-f72cdad2d833 ]]  {\r\n",
       "comp def \"B\" as E7  <<(T,blue)part def>> [[psysml:0f9466c7-ef71-48bc-a930-ec3e2c1a2c86 ]] {\r\n",
       "}\r\n",
       "E5 - -:|> E3 [[psysml:fc52ff88-f6bf-464b-a9f6-50c073522383 ]] \r\n",
       "}\r\n",
       "comp usage \"z: B\" as E8  <<(T,blue)part>> [[psysml:977e6037-d806-4fb0-bccf-0c48256693c8 ]] {\r\n",
       "}\r\n",
       "E8 - -:|> E7 [[psysml:46d3b5b8-edad-416f-ae7d-d25648abca20 ]] \r\n",
       "}\r\n",
       "@enduml\r\n",
       "\n",
       "PlantUML version 1.2020.13(Sat Jun 13 12:26:38 UTC 2020)\n",
       "(EPL source distribution)\n",
       "Java Runtime: OpenJDK Runtime Environment\n",
       "JVM: OpenJDK 64-Bit Server VM\n",
       "Default Encoding: UTF-8\n",
       "Language: en\n",
       "Country: null\n",
       "--></g></svg>"
      ]
     },
     "execution_count": 50,
     "metadata": {},
     "output_type": "execute_result"
    }
   ],
   "source": [
    "%viz --style=\"TB\" --view=\"MIXED\" \"PrivateImportTest\""
   ]
  },
  {
   "cell_type": "code",
   "execution_count": 51,
   "id": "fatty-noise",
   "metadata": {
    "execution": {
     "iopub.execute_input": "2021-03-24T16:28:07.026503Z",
     "iopub.status.busy": "2021-03-24T16:28:07.025895Z",
     "iopub.status.idle": "2021-03-24T16:28:07.053188Z",
     "shell.execute_reply": "2021-03-24T16:28:07.053536Z"
    }
   },
   "outputs": [
    {
     "data": {
      "image/svg+xml": [
       "<?xml version=\"1.0\" encoding=\"UTF-8\" standalone=\"no\"?><svg xmlns=\"http://www.w3.org/2000/svg\" xmlns:xlink=\"http://www.w3.org/1999/xlink\" contentScriptType=\"application/ecmascript\" contentStyleType=\"text/css\" height=\"252px\" preserveAspectRatio=\"none\" style=\"width:306px;height:252px;\" version=\"1.1\" viewBox=\"0 0 306 252\" width=\"306px\" zoomAndPan=\"magnify\"><defs/><g><!--MD5=[fbc87193dbaf4d95561dea2c320d4a47]\n",
       "cluster E1--><a href=\"psysml:679eaabc-5ff5-4f8e-91e0-c316c2e3864c\" target=\"_top\" title=\"psysml:679eaabc-5ff5-4f8e-91e0-c316c2e3864c\" xlink:actuate=\"onRequest\" xlink:href=\"psysml:679eaabc-5ff5-4f8e-91e0-c316c2e3864c\" xlink:show=\"new\" xlink:title=\"psysml:679eaabc-5ff5-4f8e-91e0-c316c2e3864c\" xlink:type=\"simple\"><polygon fill=\"#FFFFFF\" points=\"16,6,163,6,170,28.2969,284,28.2969,284,240,16,240,16,6\" style=\"stroke: #000000; stroke-width: 1.5;\"/><line style=\"stroke: #000000; stroke-width: 1.5;\" x1=\"16\" x2=\"170\" y1=\"28.2969\" y2=\"28.2969\"/><text fill=\"#000000\" font-family=\"sans-serif\" font-size=\"14\" font-weight=\"bold\" lengthAdjust=\"spacingAndGlyphs\" textLength=\"141\" x=\"20\" y=\"20.9951\">PrivateImportTest</text></a><!--MD5=[e4f7fae6ed58524ba242bb0b0d3be6b7]\n",
       "cluster E2--><a href=\"psysml:009bdde2-dc25-4a27-9e47-f33e7b142b72\" target=\"_top\" title=\"psysml:009bdde2-dc25-4a27-9e47-f33e7b142b72\" xlink:actuate=\"onRequest\" xlink:href=\"psysml:009bdde2-dc25-4a27-9e47-f33e7b142b72\" xlink:show=\"new\" xlink:title=\"psysml:009bdde2-dc25-4a27-9e47-f33e7b142b72\" xlink:type=\"simple\"><polygon fill=\"#FFFFFF\" points=\"162,119,188,119,195,141.2969,260,141.2969,260,216,162,216,162,119\" style=\"stroke: #000000; stroke-width: 1.5;\"/><line style=\"stroke: #000000; stroke-width: 1.5;\" x1=\"162\" x2=\"195\" y1=\"141.2969\" y2=\"141.2969\"/><text fill=\"#000000\" font-family=\"sans-serif\" font-size=\"14\" font-weight=\"bold\" lengthAdjust=\"spacingAndGlyphs\" textLength=\"20\" x=\"166\" y=\"133.9951\">P1</text></a><!--MD5=[14e3b0961a2654348d326746436168a1]\n",
       "cluster E6--><a href=\"psysml:b0bbce7f-63ab-4038-bed6-f72cdad2d833\" target=\"_top\" title=\"psysml:b0bbce7f-63ab-4038-bed6-f72cdad2d833\" xlink:actuate=\"onRequest\" xlink:href=\"psysml:b0bbce7f-63ab-4038-bed6-f72cdad2d833\" xlink:show=\"new\" xlink:title=\"psysml:b0bbce7f-63ab-4038-bed6-f72cdad2d833\" xlink:type=\"simple\"><polygon fill=\"#FFFFFF\" points=\"40,119,66,119,73,141.2969,138,141.2969,138,216,40,216,40,119\" style=\"stroke: #000000; stroke-width: 1.5;\"/><line style=\"stroke: #000000; stroke-width: 1.5;\" x1=\"40\" x2=\"73\" y1=\"141.2969\" y2=\"141.2969\"/><text fill=\"#000000\" font-family=\"sans-serif\" font-size=\"14\" font-weight=\"bold\" lengthAdjust=\"spacingAndGlyphs\" textLength=\"20\" x=\"44\" y=\"133.9951\">P3</text></a><!--MD5=[270fce915f116d4de14055a7c1d9a0f3]\n",
       "class E5--><a href=\"psysml:ae15bfee-df16-4fee-9dc7-bf97e2180cfd\" target=\"_top\" title=\"psysml:ae15bfee-df16-4fee-9dc7-bf97e2180cfd\" xlink:actuate=\"onRequest\" xlink:href=\"psysml:ae15bfee-df16-4fee-9dc7-bf97e2180cfd\" xlink:show=\"new\" xlink:title=\"psysml:ae15bfee-df16-4fee-9dc7-bf97e2180cfd\" xlink:type=\"simple\"><rect fill=\"#FFFFFF\" height=\"45.9375\" id=\"E5\" rx=\"10\" ry=\"10\" style=\"stroke: #383838; stroke-width: 1.5;\" width=\"42\" x=\"190\" y=\"44.5\"/><text fill=\"#000000\" font-family=\"sans-serif\" font-size=\"12\" font-style=\"italic\" lengthAdjust=\"spacingAndGlyphs\" textLength=\"40\" x=\"191\" y=\"60.6387\">«part»</text><text fill=\"#000000\" font-family=\"sans-serif\" font-size=\"12\" lengthAdjust=\"spacingAndGlyphs\" textLength=\"22\" x=\"200\" y=\"74.6074\">x: A</text><line style=\"stroke: #383838; stroke-width: 1.5;\" x1=\"191\" x2=\"231\" y1=\"82.4375\" y2=\"82.4375\"/></a><!--MD5=[b9389687b975829384b498ac4b7476b2]\n",
       "class E8--><a href=\"psysml:977e6037-d806-4fb0-bccf-0c48256693c8\" target=\"_top\" title=\"psysml:977e6037-d806-4fb0-bccf-0c48256693c8\" xlink:actuate=\"onRequest\" xlink:href=\"psysml:977e6037-d806-4fb0-bccf-0c48256693c8\" xlink:show=\"new\" xlink:title=\"psysml:977e6037-d806-4fb0-bccf-0c48256693c8\" xlink:type=\"simple\"><rect fill=\"#FFFFFF\" height=\"45.9375\" id=\"E8\" rx=\"10\" ry=\"10\" style=\"stroke: #383838; stroke-width: 1.5;\" width=\"42\" x=\"107\" y=\"44.5\"/><text fill=\"#000000\" font-family=\"sans-serif\" font-size=\"12\" font-style=\"italic\" lengthAdjust=\"spacingAndGlyphs\" textLength=\"40\" x=\"108\" y=\"60.6387\">«part»</text><text fill=\"#000000\" font-family=\"sans-serif\" font-size=\"12\" lengthAdjust=\"spacingAndGlyphs\" textLength=\"21\" x=\"117.5\" y=\"74.6074\">z: B</text><line style=\"stroke: #383838; stroke-width: 1.5;\" x1=\"108\" x2=\"148\" y1=\"82.4375\" y2=\"82.4375\"/></a><!--MD5=[09b614a08d8cba4a07c9adeb5e0fee81]\n",
       "class E3--><a href=\"psysml:3f36db9e-42d3-4087-b2e1-ec91d884c8c4\" target=\"_top\" title=\"psysml:3f36db9e-42d3-4087-b2e1-ec91d884c8c4\" xlink:actuate=\"onRequest\" xlink:href=\"psysml:3f36db9e-42d3-4087-b2e1-ec91d884c8c4\" xlink:show=\"new\" xlink:title=\"psysml:3f36db9e-42d3-4087-b2e1-ec91d884c8c4\" xlink:type=\"simple\"><rect fill=\"#FFFFFF\" height=\"45.9375\" id=\"E3\" style=\"stroke: #383838; stroke-width: 1.5;\" width=\"66\" x=\"178\" y=\"154\"/><text fill=\"#000000\" font-family=\"sans-serif\" font-size=\"12\" font-style=\"italic\" lengthAdjust=\"spacingAndGlyphs\" textLength=\"64\" x=\"179\" y=\"170.1387\">«part def»</text><text fill=\"#000000\" font-family=\"sans-serif\" font-size=\"12\" lengthAdjust=\"spacingAndGlyphs\" textLength=\"8\" x=\"207\" y=\"184.1074\">A</text><line style=\"stroke: #383838; stroke-width: 1.5;\" x1=\"179\" x2=\"243\" y1=\"191.9375\" y2=\"191.9375\"/></a><a href=\"psysml:6aec89c6-9258-4c03-89c0-e79f913ee5de\" target=\"_top\" title=\"psysml:6aec89c6-9258-4c03-89c0-e79f913ee5de\" xlink:actuate=\"onRequest\" xlink:href=\"psysml:6aec89c6-9258-4c03-89c0-e79f913ee5de\" xlink:show=\"new\" xlink:title=\"psysml:6aec89c6-9258-4c03-89c0-e79f913ee5de\" xlink:type=\"simple\"><polygon fill=\"#FFFFFF\" points=\"32,41,58,41,65,63.2969,72,63.2969,72,93.5938,32,93.5938,32,41\" style=\"stroke: #000000; stroke-width: 1.5;\"/><line style=\"stroke: #000000; stroke-width: 1.5;\" x1=\"32\" x2=\"65\" y1=\"63.2969\" y2=\"63.2969\"/><text fill=\"#000000\" font-family=\"sans-serif\" font-size=\"14\" font-weight=\"bold\" lengthAdjust=\"spacingAndGlyphs\" textLength=\"20\" x=\"36\" y=\"55.9951\">P2</text></a><!--MD5=[2156ba9850f5573cc1fc38a6a4b2f02b]\n",
       "class E7--><a href=\"psysml:0f9466c7-ef71-48bc-a930-ec3e2c1a2c86\" target=\"_top\" title=\"psysml:0f9466c7-ef71-48bc-a930-ec3e2c1a2c86\" xlink:actuate=\"onRequest\" xlink:href=\"psysml:0f9466c7-ef71-48bc-a930-ec3e2c1a2c86\" xlink:show=\"new\" xlink:title=\"psysml:0f9466c7-ef71-48bc-a930-ec3e2c1a2c86\" xlink:type=\"simple\"><rect fill=\"#FFFFFF\" height=\"45.9375\" id=\"E7\" style=\"stroke: #383838; stroke-width: 1.5;\" width=\"66\" x=\"56\" y=\"154\"/><text fill=\"#000000\" font-family=\"sans-serif\" font-size=\"12\" font-style=\"italic\" lengthAdjust=\"spacingAndGlyphs\" textLength=\"64\" x=\"57\" y=\"170.1387\">«part def»</text><text fill=\"#000000\" font-family=\"sans-serif\" font-size=\"12\" lengthAdjust=\"spacingAndGlyphs\" textLength=\"8\" x=\"85\" y=\"184.1074\">B</text><line style=\"stroke: #383838; stroke-width: 1.5;\" x1=\"57\" x2=\"121\" y1=\"191.9375\" y2=\"191.9375\"/></a><!--MD5=[e9be52314489bd878ff4c7144b63c9e1]\n",
       "link E5 to E3--><a href=\"psysml:fc52ff88-f6bf-464b-a9f6-50c073522383\" target=\"_top\" title=\"psysml:fc52ff88-f6bf-464b-a9f6-50c073522383\" xlink:actuate=\"onRequest\" xlink:href=\"psysml:fc52ff88-f6bf-464b-a9f6-50c073522383\" xlink:show=\"new\" xlink:title=\"psysml:fc52ff88-f6bf-464b-a9f6-50c073522383\" xlink:type=\"simple\"><path d=\"M211,90.72 C211,90.72 211,133.81 211,133.81 \" fill=\"none\" id=\"E5-&gt;E3\" style=\"stroke: #383838; stroke-width: 1.0;\"/><polygon fill=\"#FFFFFF\" points=\"211,153.81,204,134.81,218,134.81,211,153.81\" style=\"stroke: #383838; stroke-width: 1.0;\"/><ellipse cx=\"206\" cy=\"129.11\" fill=\"#383838\" rx=\"2\" ry=\"2\" style=\"stroke: #383838; stroke-width: 1.0;\"/><ellipse cx=\"216\" cy=\"129.11\" fill=\"#383838\" rx=\"2\" ry=\"2\" style=\"stroke: #383838; stroke-width: 1.0;\"/></a><!--MD5=[bfa3c8b0d15052fdf50ae9310b491027]\n",
       "link E8 to E7--><a href=\"psysml:46d3b5b8-edad-416f-ae7d-d25648abca20\" target=\"_top\" title=\"psysml:46d3b5b8-edad-416f-ae7d-d25648abca20\" xlink:actuate=\"onRequest\" xlink:href=\"psysml:46d3b5b8-edad-416f-ae7d-d25648abca20\" xlink:show=\"new\" xlink:title=\"psysml:46d3b5b8-edad-416f-ae7d-d25648abca20\" xlink:type=\"simple\"><path d=\"M114.5,90.72 C114.5,90.72 114.5,133.81 114.5,133.81 \" fill=\"none\" id=\"E8-&gt;E7\" style=\"stroke: #383838; stroke-width: 1.0;\"/><polygon fill=\"#FFFFFF\" points=\"114.5,153.81,107.5,134.81,121.5,134.81,114.5,153.81\" style=\"stroke: #383838; stroke-width: 1.0;\"/><ellipse cx=\"109.5\" cy=\"129.11\" fill=\"#383838\" rx=\"2\" ry=\"2\" style=\"stroke: #383838; stroke-width: 1.0;\"/><ellipse cx=\"119.5\" cy=\"129.11\" fill=\"#383838\" rx=\"2\" ry=\"2\" style=\"stroke: #383838; stroke-width: 1.0;\"/></a><!--MD5=[5cfc6932bb81e761ce19e54e9a2ec15c]\n",
       "@startuml\r\n",
       "skinparam linetype ortho\r\n",
       "skinparam monochrome true\r\n",
       "skinparam classbackgroundcolor white\r\n",
       "skinparam shadowing false\r\n",
       "skinparam wrapWidth 300\r\n",
       "hide circle\r\n",
       "\r\n",
       "package \"PrivateImportTest\" as E1  [[psysml:679eaabc-5ff5-4f8e-91e0-c316c2e3864c ]]  {\r\n",
       "package \"P1\" as E2  [[psysml:009bdde2-dc25-4a27-9e47-f33e7b142b72 ]]  {\r\n",
       "comp def \"A\" as E3  <<(T,blue)part def>> [[psysml:3f36db9e-42d3-4087-b2e1-ec91d884c8c4 ]] {\r\n",
       "}\r\n",
       "}\r\n",
       "package \"P2\" as E4  [[psysml:6aec89c6-9258-4c03-89c0-e79f913ee5de ]]  {\r\n",
       "}\r\n",
       "comp usage \"x: A\" as E5  <<(T,blue)part>> [[psysml:ae15bfee-df16-4fee-9dc7-bf97e2180cfd ]] {\r\n",
       "}\r\n",
       "package \"P3\" as E6  [[psysml:b0bbce7f-63ab-4038-bed6-f72cdad2d833 ]]  {\r\n",
       "comp def \"B\" as E7  <<(T,blue)part def>> [[psysml:0f9466c7-ef71-48bc-a930-ec3e2c1a2c86 ]] {\r\n",
       "}\r\n",
       "E5 - -:|> E3 [[psysml:fc52ff88-f6bf-464b-a9f6-50c073522383 ]] \r\n",
       "}\r\n",
       "comp usage \"z: B\" as E8  <<(T,blue)part>> [[psysml:977e6037-d806-4fb0-bccf-0c48256693c8 ]] {\r\n",
       "}\r\n",
       "E8 - -:|> E7 [[psysml:46d3b5b8-edad-416f-ae7d-d25648abca20 ]] \r\n",
       "}\r\n",
       "@enduml\r\n",
       "\n",
       "PlantUML version 1.2020.13(Sat Jun 13 12:26:38 UTC 2020)\n",
       "(EPL source distribution)\n",
       "Java Runtime: OpenJDK Runtime Environment\n",
       "JVM: OpenJDK 64-Bit Server VM\n",
       "Default Encoding: UTF-8\n",
       "Language: en\n",
       "Country: null\n",
       "--></g></svg>"
      ]
     },
     "execution_count": 51,
     "metadata": {},
     "output_type": "execute_result"
    }
   ],
   "source": [
    "%viz --style=\"ORTHOLINE\" --view=\"Default\" \"PrivateImportTest\""
   ]
  },
  {
   "cell_type": "code",
   "execution_count": 52,
   "id": "aware-brown",
   "metadata": {
    "execution": {
     "iopub.execute_input": "2021-03-24T16:28:07.104182Z",
     "iopub.status.busy": "2021-03-24T16:28:07.103311Z",
     "iopub.status.idle": "2021-03-24T16:28:07.132010Z",
     "shell.execute_reply": "2021-03-24T16:28:07.130738Z"
    }
   },
   "outputs": [
    {
     "data": {
      "image/svg+xml": [
       "<?xml version=\"1.0\" encoding=\"UTF-8\" standalone=\"no\"?><svg xmlns=\"http://www.w3.org/2000/svg\" xmlns:xlink=\"http://www.w3.org/1999/xlink\" contentScriptType=\"application/ecmascript\" contentStyleType=\"text/css\" height=\"252px\" preserveAspectRatio=\"none\" style=\"width:306px;height:252px;\" version=\"1.1\" viewBox=\"0 0 306 252\" width=\"306px\" zoomAndPan=\"magnify\"><defs/><g><!--MD5=[fbc87193dbaf4d95561dea2c320d4a47]\n",
       "cluster E1--><a href=\"psysml:679eaabc-5ff5-4f8e-91e0-c316c2e3864c\" target=\"_top\" title=\"psysml:679eaabc-5ff5-4f8e-91e0-c316c2e3864c\" xlink:actuate=\"onRequest\" xlink:href=\"psysml:679eaabc-5ff5-4f8e-91e0-c316c2e3864c\" xlink:show=\"new\" xlink:title=\"psysml:679eaabc-5ff5-4f8e-91e0-c316c2e3864c\" xlink:type=\"simple\"><polygon fill=\"#FFFFFF\" points=\"16,6,163,6,170,28.2969,284,28.2969,284,240,16,240,16,6\" style=\"stroke: #000000; stroke-width: 1.5;\"/><line style=\"stroke: #000000; stroke-width: 1.5;\" x1=\"16\" x2=\"170\" y1=\"28.2969\" y2=\"28.2969\"/><text fill=\"#000000\" font-family=\"sans-serif\" font-size=\"14\" font-weight=\"bold\" lengthAdjust=\"spacingAndGlyphs\" textLength=\"141\" x=\"20\" y=\"20.9951\">PrivateImportTest</text></a><!--MD5=[e4f7fae6ed58524ba242bb0b0d3be6b7]\n",
       "cluster E2--><a href=\"psysml:009bdde2-dc25-4a27-9e47-f33e7b142b72\" target=\"_top\" title=\"psysml:009bdde2-dc25-4a27-9e47-f33e7b142b72\" xlink:actuate=\"onRequest\" xlink:href=\"psysml:009bdde2-dc25-4a27-9e47-f33e7b142b72\" xlink:show=\"new\" xlink:title=\"psysml:009bdde2-dc25-4a27-9e47-f33e7b142b72\" xlink:type=\"simple\"><polygon fill=\"#FFFFFF\" points=\"162,119,188,119,195,141.2969,260,141.2969,260,216,162,216,162,119\" style=\"stroke: #000000; stroke-width: 1.5;\"/><line style=\"stroke: #000000; stroke-width: 1.5;\" x1=\"162\" x2=\"195\" y1=\"141.2969\" y2=\"141.2969\"/><text fill=\"#000000\" font-family=\"sans-serif\" font-size=\"14\" font-weight=\"bold\" lengthAdjust=\"spacingAndGlyphs\" textLength=\"20\" x=\"166\" y=\"133.9951\">P1</text></a><!--MD5=[14e3b0961a2654348d326746436168a1]\n",
       "cluster E6--><a href=\"psysml:b0bbce7f-63ab-4038-bed6-f72cdad2d833\" target=\"_top\" title=\"psysml:b0bbce7f-63ab-4038-bed6-f72cdad2d833\" xlink:actuate=\"onRequest\" xlink:href=\"psysml:b0bbce7f-63ab-4038-bed6-f72cdad2d833\" xlink:show=\"new\" xlink:title=\"psysml:b0bbce7f-63ab-4038-bed6-f72cdad2d833\" xlink:type=\"simple\"><polygon fill=\"#FFFFFF\" points=\"40,119,66,119,73,141.2969,138,141.2969,138,216,40,216,40,119\" style=\"stroke: #000000; stroke-width: 1.5;\"/><line style=\"stroke: #000000; stroke-width: 1.5;\" x1=\"40\" x2=\"73\" y1=\"141.2969\" y2=\"141.2969\"/><text fill=\"#000000\" font-family=\"sans-serif\" font-size=\"14\" font-weight=\"bold\" lengthAdjust=\"spacingAndGlyphs\" textLength=\"20\" x=\"44\" y=\"133.9951\">P3</text></a><!--MD5=[270fce915f116d4de14055a7c1d9a0f3]\n",
       "class E5--><a href=\"psysml:ae15bfee-df16-4fee-9dc7-bf97e2180cfd\" target=\"_top\" title=\"psysml:ae15bfee-df16-4fee-9dc7-bf97e2180cfd\" xlink:actuate=\"onRequest\" xlink:href=\"psysml:ae15bfee-df16-4fee-9dc7-bf97e2180cfd\" xlink:show=\"new\" xlink:title=\"psysml:ae15bfee-df16-4fee-9dc7-bf97e2180cfd\" xlink:type=\"simple\"><rect fill=\"#FFFFFF\" height=\"45.9375\" id=\"E5\" rx=\"10\" ry=\"10\" style=\"stroke: #383838; stroke-width: 1.5;\" width=\"42\" x=\"190\" y=\"44.5\"/><text fill=\"#000000\" font-family=\"sans-serif\" font-size=\"12\" font-style=\"italic\" lengthAdjust=\"spacingAndGlyphs\" textLength=\"40\" x=\"191\" y=\"60.6387\">«part»</text><text fill=\"#000000\" font-family=\"sans-serif\" font-size=\"12\" lengthAdjust=\"spacingAndGlyphs\" textLength=\"22\" x=\"200\" y=\"74.6074\">x: A</text><line style=\"stroke: #383838; stroke-width: 1.5;\" x1=\"191\" x2=\"231\" y1=\"82.4375\" y2=\"82.4375\"/></a><!--MD5=[b9389687b975829384b498ac4b7476b2]\n",
       "class E8--><a href=\"psysml:977e6037-d806-4fb0-bccf-0c48256693c8\" target=\"_top\" title=\"psysml:977e6037-d806-4fb0-bccf-0c48256693c8\" xlink:actuate=\"onRequest\" xlink:href=\"psysml:977e6037-d806-4fb0-bccf-0c48256693c8\" xlink:show=\"new\" xlink:title=\"psysml:977e6037-d806-4fb0-bccf-0c48256693c8\" xlink:type=\"simple\"><rect fill=\"#FFFFFF\" height=\"45.9375\" id=\"E8\" rx=\"10\" ry=\"10\" style=\"stroke: #383838; stroke-width: 1.5;\" width=\"42\" x=\"107\" y=\"44.5\"/><text fill=\"#000000\" font-family=\"sans-serif\" font-size=\"12\" font-style=\"italic\" lengthAdjust=\"spacingAndGlyphs\" textLength=\"40\" x=\"108\" y=\"60.6387\">«part»</text><text fill=\"#000000\" font-family=\"sans-serif\" font-size=\"12\" lengthAdjust=\"spacingAndGlyphs\" textLength=\"21\" x=\"117.5\" y=\"74.6074\">z: B</text><line style=\"stroke: #383838; stroke-width: 1.5;\" x1=\"108\" x2=\"148\" y1=\"82.4375\" y2=\"82.4375\"/></a><!--MD5=[09b614a08d8cba4a07c9adeb5e0fee81]\n",
       "class E3--><a href=\"psysml:3f36db9e-42d3-4087-b2e1-ec91d884c8c4\" target=\"_top\" title=\"psysml:3f36db9e-42d3-4087-b2e1-ec91d884c8c4\" xlink:actuate=\"onRequest\" xlink:href=\"psysml:3f36db9e-42d3-4087-b2e1-ec91d884c8c4\" xlink:show=\"new\" xlink:title=\"psysml:3f36db9e-42d3-4087-b2e1-ec91d884c8c4\" xlink:type=\"simple\"><rect fill=\"#FFFFFF\" height=\"45.9375\" id=\"E3\" style=\"stroke: #383838; stroke-width: 1.5;\" width=\"66\" x=\"178\" y=\"154\"/><text fill=\"#000000\" font-family=\"sans-serif\" font-size=\"12\" font-style=\"italic\" lengthAdjust=\"spacingAndGlyphs\" textLength=\"64\" x=\"179\" y=\"170.1387\">«part def»</text><text fill=\"#000000\" font-family=\"sans-serif\" font-size=\"12\" lengthAdjust=\"spacingAndGlyphs\" textLength=\"8\" x=\"207\" y=\"184.1074\">A</text><line style=\"stroke: #383838; stroke-width: 1.5;\" x1=\"179\" x2=\"243\" y1=\"191.9375\" y2=\"191.9375\"/></a><a href=\"psysml:6aec89c6-9258-4c03-89c0-e79f913ee5de\" target=\"_top\" title=\"psysml:6aec89c6-9258-4c03-89c0-e79f913ee5de\" xlink:actuate=\"onRequest\" xlink:href=\"psysml:6aec89c6-9258-4c03-89c0-e79f913ee5de\" xlink:show=\"new\" xlink:title=\"psysml:6aec89c6-9258-4c03-89c0-e79f913ee5de\" xlink:type=\"simple\"><polygon fill=\"#FFFFFF\" points=\"32,41,58,41,65,63.2969,72,63.2969,72,93.5938,32,93.5938,32,41\" style=\"stroke: #000000; stroke-width: 1.5;\"/><line style=\"stroke: #000000; stroke-width: 1.5;\" x1=\"32\" x2=\"65\" y1=\"63.2969\" y2=\"63.2969\"/><text fill=\"#000000\" font-family=\"sans-serif\" font-size=\"14\" font-weight=\"bold\" lengthAdjust=\"spacingAndGlyphs\" textLength=\"20\" x=\"36\" y=\"55.9951\">P2</text></a><!--MD5=[2156ba9850f5573cc1fc38a6a4b2f02b]\n",
       "class E7--><a href=\"psysml:0f9466c7-ef71-48bc-a930-ec3e2c1a2c86\" target=\"_top\" title=\"psysml:0f9466c7-ef71-48bc-a930-ec3e2c1a2c86\" xlink:actuate=\"onRequest\" xlink:href=\"psysml:0f9466c7-ef71-48bc-a930-ec3e2c1a2c86\" xlink:show=\"new\" xlink:title=\"psysml:0f9466c7-ef71-48bc-a930-ec3e2c1a2c86\" xlink:type=\"simple\"><rect fill=\"#FFFFFF\" height=\"45.9375\" id=\"E7\" style=\"stroke: #383838; stroke-width: 1.5;\" width=\"66\" x=\"56\" y=\"154\"/><text fill=\"#000000\" font-family=\"sans-serif\" font-size=\"12\" font-style=\"italic\" lengthAdjust=\"spacingAndGlyphs\" textLength=\"64\" x=\"57\" y=\"170.1387\">«part def»</text><text fill=\"#000000\" font-family=\"sans-serif\" font-size=\"12\" lengthAdjust=\"spacingAndGlyphs\" textLength=\"8\" x=\"85\" y=\"184.1074\">B</text><line style=\"stroke: #383838; stroke-width: 1.5;\" x1=\"57\" x2=\"121\" y1=\"191.9375\" y2=\"191.9375\"/></a><!--MD5=[e9be52314489bd878ff4c7144b63c9e1]\n",
       "link E5 to E3--><a href=\"psysml:fc52ff88-f6bf-464b-a9f6-50c073522383\" target=\"_top\" title=\"psysml:fc52ff88-f6bf-464b-a9f6-50c073522383\" xlink:actuate=\"onRequest\" xlink:href=\"psysml:fc52ff88-f6bf-464b-a9f6-50c073522383\" xlink:show=\"new\" xlink:title=\"psysml:fc52ff88-f6bf-464b-a9f6-50c073522383\" xlink:type=\"simple\"><path d=\"M211,90.72 C211,90.72 211,133.81 211,133.81 \" fill=\"none\" id=\"E5-&gt;E3\" style=\"stroke: #383838; stroke-width: 1.0;\"/><polygon fill=\"#FFFFFF\" points=\"211,153.81,204,134.81,218,134.81,211,153.81\" style=\"stroke: #383838; stroke-width: 1.0;\"/><ellipse cx=\"206\" cy=\"129.11\" fill=\"#383838\" rx=\"2\" ry=\"2\" style=\"stroke: #383838; stroke-width: 1.0;\"/><ellipse cx=\"216\" cy=\"129.11\" fill=\"#383838\" rx=\"2\" ry=\"2\" style=\"stroke: #383838; stroke-width: 1.0;\"/></a><!--MD5=[bfa3c8b0d15052fdf50ae9310b491027]\n",
       "link E8 to E7--><a href=\"psysml:46d3b5b8-edad-416f-ae7d-d25648abca20\" target=\"_top\" title=\"psysml:46d3b5b8-edad-416f-ae7d-d25648abca20\" xlink:actuate=\"onRequest\" xlink:href=\"psysml:46d3b5b8-edad-416f-ae7d-d25648abca20\" xlink:show=\"new\" xlink:title=\"psysml:46d3b5b8-edad-416f-ae7d-d25648abca20\" xlink:type=\"simple\"><path d=\"M114.5,90.72 C114.5,90.72 114.5,133.81 114.5,133.81 \" fill=\"none\" id=\"E8-&gt;E7\" style=\"stroke: #383838; stroke-width: 1.0;\"/><polygon fill=\"#FFFFFF\" points=\"114.5,153.81,107.5,134.81,121.5,134.81,114.5,153.81\" style=\"stroke: #383838; stroke-width: 1.0;\"/><ellipse cx=\"109.5\" cy=\"129.11\" fill=\"#383838\" rx=\"2\" ry=\"2\" style=\"stroke: #383838; stroke-width: 1.0;\"/><ellipse cx=\"119.5\" cy=\"129.11\" fill=\"#383838\" rx=\"2\" ry=\"2\" style=\"stroke: #383838; stroke-width: 1.0;\"/></a><!--MD5=[5cfc6932bb81e761ce19e54e9a2ec15c]\n",
       "@startuml\r\n",
       "skinparam linetype ortho\r\n",
       "skinparam monochrome true\r\n",
       "skinparam classbackgroundcolor white\r\n",
       "skinparam shadowing false\r\n",
       "skinparam wrapWidth 300\r\n",
       "hide circle\r\n",
       "\r\n",
       "package \"PrivateImportTest\" as E1  [[psysml:679eaabc-5ff5-4f8e-91e0-c316c2e3864c ]]  {\r\n",
       "package \"P1\" as E2  [[psysml:009bdde2-dc25-4a27-9e47-f33e7b142b72 ]]  {\r\n",
       "comp def \"A\" as E3  <<(T,blue)part def>> [[psysml:3f36db9e-42d3-4087-b2e1-ec91d884c8c4 ]] {\r\n",
       "}\r\n",
       "}\r\n",
       "package \"P2\" as E4  [[psysml:6aec89c6-9258-4c03-89c0-e79f913ee5de ]]  {\r\n",
       "}\r\n",
       "comp usage \"x: A\" as E5  <<(T,blue)part>> [[psysml:ae15bfee-df16-4fee-9dc7-bf97e2180cfd ]] {\r\n",
       "}\r\n",
       "package \"P3\" as E6  [[psysml:b0bbce7f-63ab-4038-bed6-f72cdad2d833 ]]  {\r\n",
       "comp def \"B\" as E7  <<(T,blue)part def>> [[psysml:0f9466c7-ef71-48bc-a930-ec3e2c1a2c86 ]] {\r\n",
       "}\r\n",
       "E5 - -:|> E3 [[psysml:fc52ff88-f6bf-464b-a9f6-50c073522383 ]] \r\n",
       "}\r\n",
       "comp usage \"z: B\" as E8  <<(T,blue)part>> [[psysml:977e6037-d806-4fb0-bccf-0c48256693c8 ]] {\r\n",
       "}\r\n",
       "E8 - -:|> E7 [[psysml:46d3b5b8-edad-416f-ae7d-d25648abca20 ]] \r\n",
       "}\r\n",
       "@enduml\r\n",
       "\n",
       "PlantUML version 1.2020.13(Sat Jun 13 12:26:38 UTC 2020)\n",
       "(EPL source distribution)\n",
       "Java Runtime: OpenJDK Runtime Environment\n",
       "JVM: OpenJDK 64-Bit Server VM\n",
       "Default Encoding: UTF-8\n",
       "Language: en\n",
       "Country: null\n",
       "--></g></svg>"
      ]
     },
     "execution_count": 52,
     "metadata": {},
     "output_type": "execute_result"
    }
   ],
   "source": [
    "%viz --style=\"ORTHOLINE\" --view=\"Tree\" \"PrivateImportTest\""
   ]
  },
  {
   "cell_type": "code",
   "execution_count": 53,
   "id": "arabic-white",
   "metadata": {
    "execution": {
     "iopub.execute_input": "2021-03-24T16:28:07.183573Z",
     "iopub.status.busy": "2021-03-24T16:28:07.182828Z",
     "iopub.status.idle": "2021-03-24T16:28:07.186911Z",
     "shell.execute_reply": "2021-03-24T16:28:07.186567Z"
    }
   },
   "outputs": [
    {
     "data": {
      "image/svg+xml": [
       "<?xml version=\"1.0\" encoding=\"UTF-8\" standalone=\"no\"?><svg xmlns=\"http://www.w3.org/2000/svg\" xmlns:xlink=\"http://www.w3.org/1999/xlink\" contentScriptType=\"application/ecmascript\" contentStyleType=\"text/css\" height=\"12px\" preserveAspectRatio=\"none\" style=\"width:12px;height:12px;\" version=\"1.1\" viewBox=\"0 0 12 12\" width=\"12px\" zoomAndPan=\"magnify\"><defs/><g><!--MD5=[97d6f38768b311333d388e66b2b27985]\n",
       "@startuml\r\n",
       "skinparam linetype ortho\r\n",
       "skinparam monochrome true\r\n",
       "skinparam classbackgroundcolor white\r\n",
       "skinparam shadowing false\r\n",
       "skinparam wrapWidth 300\r\n",
       "hide circle\r\n",
       "\r\n",
       "@enduml\r\n",
       "\n",
       "PlantUML version 1.2020.13(Sat Jun 13 12:26:38 UTC 2020)\n",
       "(EPL source distribution)\n",
       "Java Runtime: OpenJDK Runtime Environment\n",
       "JVM: OpenJDK 64-Bit Server VM\n",
       "Default Encoding: UTF-8\n",
       "Language: en\n",
       "Country: null\n",
       "--></g></svg>"
      ]
     },
     "execution_count": 53,
     "metadata": {},
     "output_type": "execute_result"
    }
   ],
   "source": [
    "%viz --style=\"ORTHOLINE\" --view=\"State\" \"PrivateImportTest\""
   ]
  },
  {
   "cell_type": "code",
   "execution_count": 54,
   "id": "mathematical-damages",
   "metadata": {
    "execution": {
     "iopub.execute_input": "2021-03-24T16:28:07.238344Z",
     "iopub.status.busy": "2021-03-24T16:28:07.237608Z",
     "iopub.status.idle": "2021-03-24T16:28:07.266822Z",
     "shell.execute_reply": "2021-03-24T16:28:07.265432Z"
    }
   },
   "outputs": [
    {
     "data": {
      "image/svg+xml": [
       "<?xml version=\"1.0\" encoding=\"UTF-8\" standalone=\"no\"?><svg xmlns=\"http://www.w3.org/2000/svg\" xmlns:xlink=\"http://www.w3.org/1999/xlink\" contentScriptType=\"application/ecmascript\" contentStyleType=\"text/css\" height=\"179px\" preserveAspectRatio=\"none\" style=\"width:539px;height:179px;\" version=\"1.1\" viewBox=\"0 0 539 179\" width=\"539px\" zoomAndPan=\"magnify\"><defs/><g><!--MD5=[fbc87193dbaf4d95561dea2c320d4a47]\n",
       "cluster E1--><a href=\"psysml:679eaabc-5ff5-4f8e-91e0-c316c2e3864c\" target=\"_top\" title=\"psysml:679eaabc-5ff5-4f8e-91e0-c316c2e3864c\" xlink:actuate=\"onRequest\" xlink:href=\"psysml:679eaabc-5ff5-4f8e-91e0-c316c2e3864c\" xlink:show=\"new\" xlink:title=\"psysml:679eaabc-5ff5-4f8e-91e0-c316c2e3864c\" xlink:type=\"simple\"><polygon fill=\"#FFFFFF\" points=\"16,6,163,6,170,28.2969,517,28.2969,517,167,16,167,16,6\" style=\"stroke: #000000; stroke-width: 1.5;\"/><line style=\"stroke: #000000; stroke-width: 1.5;\" x1=\"16\" x2=\"170\" y1=\"28.2969\" y2=\"28.2969\"/><text fill=\"#000000\" font-family=\"sans-serif\" font-size=\"14\" font-weight=\"bold\" lengthAdjust=\"spacingAndGlyphs\" textLength=\"141\" x=\"20\" y=\"20.9951\">PrivateImportTest</text></a><!--MD5=[e4f7fae6ed58524ba242bb0b0d3be6b7]\n",
       "cluster E2--><a href=\"psysml:009bdde2-dc25-4a27-9e47-f33e7b142b72\" target=\"_top\" title=\"psysml:009bdde2-dc25-4a27-9e47-f33e7b142b72\" xlink:actuate=\"onRequest\" xlink:href=\"psysml:009bdde2-dc25-4a27-9e47-f33e7b142b72\" xlink:show=\"new\" xlink:title=\"psysml:009bdde2-dc25-4a27-9e47-f33e7b142b72\" xlink:type=\"simple\"><polygon fill=\"#FFFFFF\" points=\"389,49,415,49,422,71.2969,493,71.2969,493,143,389,143,389,49\" style=\"stroke: #000000; stroke-width: 1.5;\"/><line style=\"stroke: #000000; stroke-width: 1.5;\" x1=\"389\" x2=\"422\" y1=\"71.2969\" y2=\"71.2969\"/><text fill=\"#000000\" font-family=\"sans-serif\" font-size=\"14\" font-weight=\"bold\" lengthAdjust=\"spacingAndGlyphs\" textLength=\"20\" x=\"393\" y=\"63.9951\">P1</text></a><!--MD5=[14e3b0961a2654348d326746436168a1]\n",
       "cluster E6--><a href=\"psysml:b0bbce7f-63ab-4038-bed6-f72cdad2d833\" target=\"_top\" title=\"psysml:b0bbce7f-63ab-4038-bed6-f72cdad2d833\" xlink:actuate=\"onRequest\" xlink:href=\"psysml:b0bbce7f-63ab-4038-bed6-f72cdad2d833\" xlink:show=\"new\" xlink:title=\"psysml:b0bbce7f-63ab-4038-bed6-f72cdad2d833\" xlink:type=\"simple\"><polygon fill=\"#FFFFFF\" points=\"261,49,287,49,294,71.2969,365,71.2969,365,143,261,143,261,49\" style=\"stroke: #000000; stroke-width: 1.5;\"/><line style=\"stroke: #000000; stroke-width: 1.5;\" x1=\"261\" x2=\"294\" y1=\"71.2969\" y2=\"71.2969\"/><text fill=\"#000000\" font-family=\"sans-serif\" font-size=\"14\" font-weight=\"bold\" lengthAdjust=\"spacingAndGlyphs\" textLength=\"20\" x=\"265\" y=\"63.9951\">P3</text></a><g id=\"E1.E2.E3\"><a href=\"psysml:3f36db9e-42d3-4087-b2e1-ec91d884c8c4\" target=\"_top\" title=\"psysml:3f36db9e-42d3-4087-b2e1-ec91d884c8c4\" xlink:actuate=\"onRequest\" xlink:href=\"psysml:3f36db9e-42d3-4087-b2e1-ec91d884c8c4\" xlink:show=\"new\" xlink:title=\"psysml:3f36db9e-42d3-4087-b2e1-ec91d884c8c4\" xlink:type=\"simple\"><rect fill=\"#FFFFFF\" height=\"42.9375\" id=\"E3\" style=\"stroke: #383838; stroke-width: 1.5;\" width=\"71\" x=\"405.5\" y=\"84\"/><rect fill=\"#F8F8F8\" height=\"37.9375\" style=\"stroke: #383838; stroke-width: 1.5;\" width=\"71\" x=\"405.5\" y=\"84\"/><text fill=\"#000000\" font-family=\"sans-serif\" font-size=\"12\" font-style=\"italic\" lengthAdjust=\"spacingAndGlyphs\" textLength=\"64\" x=\"409\" y=\"100.1387\">«part def»</text><text fill=\"#000000\" font-family=\"sans-serif\" font-size=\"12\" lengthAdjust=\"spacingAndGlyphs\" textLength=\"8\" x=\"437\" y=\"114.1074\">A</text></a></g><a href=\"psysml:6aec89c6-9258-4c03-89c0-e79f913ee5de\" target=\"_top\" title=\"psysml:6aec89c6-9258-4c03-89c0-e79f913ee5de\" xlink:actuate=\"onRequest\" xlink:href=\"psysml:6aec89c6-9258-4c03-89c0-e79f913ee5de\" xlink:show=\"new\" xlink:title=\"psysml:6aec89c6-9258-4c03-89c0-e79f913ee5de\" xlink:type=\"simple\"><polygon fill=\"#FFFFFF\" points=\"202,79,228,79,235,101.2969,242,101.2969,242,131.5938,202,131.5938,202,79\" style=\"stroke: #000000; stroke-width: 1.5;\"/><line style=\"stroke: #000000; stroke-width: 1.5;\" x1=\"202\" x2=\"235\" y1=\"101.2969\" y2=\"101.2969\"/><text fill=\"#000000\" font-family=\"sans-serif\" font-size=\"14\" font-weight=\"bold\" lengthAdjust=\"spacingAndGlyphs\" textLength=\"20\" x=\"206\" y=\"93.9951\">P2</text></a><g id=\"E1.E5\"><a href=\"psysml:ae15bfee-df16-4fee-9dc7-bf97e2180cfd\" target=\"_top\" title=\"psysml:ae15bfee-df16-4fee-9dc7-bf97e2180cfd\" xlink:actuate=\"onRequest\" xlink:href=\"psysml:ae15bfee-df16-4fee-9dc7-bf97e2180cfd\" xlink:show=\"new\" xlink:title=\"psysml:ae15bfee-df16-4fee-9dc7-bf97e2180cfd\" xlink:type=\"simple\"><rect fill=\"#FFFFFF\" height=\"40\" id=\"E5\" rx=\"10\" ry=\"10\" style=\"stroke: #383838; stroke-width: 1.5;\" width=\"50\" x=\"117\" y=\"85.5\"/><rect fill=\"#F8F8F8\" height=\"23.9688\" rx=\"10\" ry=\"10\" style=\"stroke: #F8F8F8; stroke-width: 1.5;\" width=\"50\" x=\"117\" y=\"85.5\"/><rect fill=\"#F8F8F8\" height=\"10\" style=\"stroke: #F8F8F8; stroke-width: 1.5;\" width=\"50\" x=\"117\" y=\"99.4688\"/><rect fill=\"none\" height=\"40\" id=\"E5\" rx=\"10\" ry=\"10\" style=\"stroke: #383838; stroke-width: 1.5;\" width=\"50\" x=\"117\" y=\"85.5\"/><text fill=\"#000000\" font-family=\"sans-serif\" font-size=\"12\" lengthAdjust=\"spacingAndGlyphs\" textLength=\"22\" x=\"131\" y=\"101.6387\">x: A</text></a></g><g id=\"E1.E6.E7\"><a href=\"psysml:0f9466c7-ef71-48bc-a930-ec3e2c1a2c86\" target=\"_top\" title=\"psysml:0f9466c7-ef71-48bc-a930-ec3e2c1a2c86\" xlink:actuate=\"onRequest\" xlink:href=\"psysml:0f9466c7-ef71-48bc-a930-ec3e2c1a2c86\" xlink:show=\"new\" xlink:title=\"psysml:0f9466c7-ef71-48bc-a930-ec3e2c1a2c86\" xlink:type=\"simple\"><rect fill=\"#FFFFFF\" height=\"42.9375\" id=\"E7\" style=\"stroke: #383838; stroke-width: 1.5;\" width=\"71\" x=\"277.5\" y=\"84\"/><rect fill=\"#F8F8F8\" height=\"37.9375\" style=\"stroke: #383838; stroke-width: 1.5;\" width=\"71\" x=\"277.5\" y=\"84\"/><text fill=\"#000000\" font-family=\"sans-serif\" font-size=\"12\" font-style=\"italic\" lengthAdjust=\"spacingAndGlyphs\" textLength=\"64\" x=\"281\" y=\"100.1387\">«part def»</text><text fill=\"#000000\" font-family=\"sans-serif\" font-size=\"12\" lengthAdjust=\"spacingAndGlyphs\" textLength=\"8\" x=\"309\" y=\"114.1074\">B</text></a></g><g id=\"E1.E8\"><a href=\"psysml:977e6037-d806-4fb0-bccf-0c48256693c8\" target=\"_top\" title=\"psysml:977e6037-d806-4fb0-bccf-0c48256693c8\" xlink:actuate=\"onRequest\" xlink:href=\"psysml:977e6037-d806-4fb0-bccf-0c48256693c8\" xlink:show=\"new\" xlink:title=\"psysml:977e6037-d806-4fb0-bccf-0c48256693c8\" xlink:type=\"simple\"><rect fill=\"#FFFFFF\" height=\"40\" id=\"E8\" rx=\"10\" ry=\"10\" style=\"stroke: #383838; stroke-width: 1.5;\" width=\"50\" x=\"32\" y=\"85.5\"/><rect fill=\"#F8F8F8\" height=\"23.9688\" rx=\"10\" ry=\"10\" style=\"stroke: #F8F8F8; stroke-width: 1.5;\" width=\"50\" x=\"32\" y=\"85.5\"/><rect fill=\"#F8F8F8\" height=\"10\" style=\"stroke: #F8F8F8; stroke-width: 1.5;\" width=\"50\" x=\"32\" y=\"99.4688\"/><rect fill=\"none\" height=\"40\" id=\"E8\" rx=\"10\" ry=\"10\" style=\"stroke: #383838; stroke-width: 1.5;\" width=\"50\" x=\"32\" y=\"85.5\"/><text fill=\"#000000\" font-family=\"sans-serif\" font-size=\"12\" lengthAdjust=\"spacingAndGlyphs\" textLength=\"21\" x=\"46.5\" y=\"101.6387\">z: B</text></a></g><!--MD5=[3ba34b76a3ae451af5b8060cc097d85d]\n",
       "@startuml\r\n",
       "skinparam ranksep 10\r\n",
       "skinparam rectangle {\r\n",
       " backgroundColor<<block>> LightGreen\r\n",
       "}\r\n",
       "skinparam linetype ortho\r\n",
       "skinparam monochrome true\r\n",
       "skinparam classbackgroundcolor white\r\n",
       "skinparam shadowing false\r\n",
       "skinparam wrapWidth 300\r\n",
       "hide circle\r\n",
       "\r\n",
       "package \"PrivateImportTest\" as E1  [[psysml:679eaabc-5ff5-4f8e-91e0-c316c2e3864c ]]  {\r\n",
       "package \"P1\" as E2  [[psysml:009bdde2-dc25-4a27-9e47-f33e7b142b72 ]]  {\r\n",
       "rec def \"A\" as E3  <<(T,blue)part def>> [[psysml:3f36db9e-42d3-4087-b2e1-ec91d884c8c4 ]] {\r\n",
       "}\r\n",
       "}\r\n",
       "package \"P2\" as E4  [[psysml:6aec89c6-9258-4c03-89c0-e79f913ee5de ]]  {\r\n",
       "}\r\n",
       "rec usage \"x: A\" as E5  [[psysml:ae15bfee-df16-4fee-9dc7-bf97e2180cfd ]] {\r\n",
       "}\r\n",
       "package \"P3\" as E6  [[psysml:b0bbce7f-63ab-4038-bed6-f72cdad2d833 ]]  {\r\n",
       "rec def \"B\" as E7  <<(T,blue)part def>> [[psysml:0f9466c7-ef71-48bc-a930-ec3e2c1a2c86 ]] {\r\n",
       "}\r\n",
       "}\r\n",
       "rec usage \"z: B\" as E8  [[psysml:977e6037-d806-4fb0-bccf-0c48256693c8 ]] {\r\n",
       "}\r\n",
       "}\r\n",
       "@enduml\r\n",
       "\n",
       "PlantUML version 1.2020.13(Sat Jun 13 12:26:38 UTC 2020)\n",
       "(EPL source distribution)\n",
       "Java Runtime: OpenJDK Runtime Environment\n",
       "JVM: OpenJDK 64-Bit Server VM\n",
       "Default Encoding: UTF-8\n",
       "Language: en\n",
       "Country: null\n",
       "--></g></svg>"
      ]
     },
     "execution_count": 54,
     "metadata": {},
     "output_type": "execute_result"
    }
   ],
   "source": [
    "%viz --style=\"ORTHOLINE\" --view=\"Interconnection\" \"PrivateImportTest\""
   ]
  },
  {
   "cell_type": "code",
   "execution_count": 55,
   "id": "framed-bargain",
   "metadata": {
    "execution": {
     "iopub.execute_input": "2021-03-24T16:28:07.317022Z",
     "iopub.status.busy": "2021-03-24T16:28:07.316444Z",
     "iopub.status.idle": "2021-03-24T16:28:07.320692Z",
     "shell.execute_reply": "2021-03-24T16:28:07.320415Z"
    }
   },
   "outputs": [
    {
     "data": {
      "image/svg+xml": [
       "<?xml version=\"1.0\" encoding=\"UTF-8\" standalone=\"no\"?><svg xmlns=\"http://www.w3.org/2000/svg\" xmlns:xlink=\"http://www.w3.org/1999/xlink\" contentScriptType=\"application/ecmascript\" contentStyleType=\"text/css\" height=\"12px\" preserveAspectRatio=\"none\" style=\"width:12px;height:12px;\" version=\"1.1\" viewBox=\"0 0 12 12\" width=\"12px\" zoomAndPan=\"magnify\"><defs/><g><!--MD5=[72934c63077099a26744516a776b4749]\n",
       "@startuml\r\n",
       "skinparam ranksep 8\r\n",
       "skinparam linetype ortho\r\n",
       "skinparam monochrome true\r\n",
       "skinparam classbackgroundcolor white\r\n",
       "skinparam shadowing false\r\n",
       "skinparam wrapWidth 300\r\n",
       "hide circle\r\n",
       "\r\n",
       "@enduml\r\n",
       "\n",
       "PlantUML version 1.2020.13(Sat Jun 13 12:26:38 UTC 2020)\n",
       "(EPL source distribution)\n",
       "Java Runtime: OpenJDK Runtime Environment\n",
       "JVM: OpenJDK 64-Bit Server VM\n",
       "Default Encoding: UTF-8\n",
       "Language: en\n",
       "Country: null\n",
       "--></g></svg>"
      ]
     },
     "execution_count": 55,
     "metadata": {},
     "output_type": "execute_result"
    }
   ],
   "source": [
    "%viz --style=\"ORTHOLINE\" --view=\"Action\" \"PrivateImportTest\""
   ]
  },
  {
   "cell_type": "code",
   "execution_count": 56,
   "id": "included-retailer",
   "metadata": {
    "execution": {
     "iopub.execute_input": "2021-03-24T16:28:07.372457Z",
     "iopub.status.busy": "2021-03-24T16:28:07.371897Z",
     "iopub.status.idle": "2021-03-24T16:28:07.398381Z",
     "shell.execute_reply": "2021-03-24T16:28:07.398017Z"
    }
   },
   "outputs": [
    {
     "data": {
      "image/svg+xml": [
       "<?xml version=\"1.0\" encoding=\"UTF-8\" standalone=\"no\"?><svg xmlns=\"http://www.w3.org/2000/svg\" xmlns:xlink=\"http://www.w3.org/1999/xlink\" contentScriptType=\"application/ecmascript\" contentStyleType=\"text/css\" height=\"252px\" preserveAspectRatio=\"none\" style=\"width:306px;height:252px;\" version=\"1.1\" viewBox=\"0 0 306 252\" width=\"306px\" zoomAndPan=\"magnify\"><defs/><g><!--MD5=[fbc87193dbaf4d95561dea2c320d4a47]\n",
       "cluster E1--><a href=\"psysml:679eaabc-5ff5-4f8e-91e0-c316c2e3864c\" target=\"_top\" title=\"psysml:679eaabc-5ff5-4f8e-91e0-c316c2e3864c\" xlink:actuate=\"onRequest\" xlink:href=\"psysml:679eaabc-5ff5-4f8e-91e0-c316c2e3864c\" xlink:show=\"new\" xlink:title=\"psysml:679eaabc-5ff5-4f8e-91e0-c316c2e3864c\" xlink:type=\"simple\"><polygon fill=\"#FFFFFF\" points=\"16,6,163,6,170,28.2969,284,28.2969,284,240,16,240,16,6\" style=\"stroke: #000000; stroke-width: 1.5;\"/><line style=\"stroke: #000000; stroke-width: 1.5;\" x1=\"16\" x2=\"170\" y1=\"28.2969\" y2=\"28.2969\"/><text fill=\"#000000\" font-family=\"sans-serif\" font-size=\"14\" font-weight=\"bold\" lengthAdjust=\"spacingAndGlyphs\" textLength=\"141\" x=\"20\" y=\"20.9951\">PrivateImportTest</text></a><!--MD5=[e4f7fae6ed58524ba242bb0b0d3be6b7]\n",
       "cluster E2--><a href=\"psysml:009bdde2-dc25-4a27-9e47-f33e7b142b72\" target=\"_top\" title=\"psysml:009bdde2-dc25-4a27-9e47-f33e7b142b72\" xlink:actuate=\"onRequest\" xlink:href=\"psysml:009bdde2-dc25-4a27-9e47-f33e7b142b72\" xlink:show=\"new\" xlink:title=\"psysml:009bdde2-dc25-4a27-9e47-f33e7b142b72\" xlink:type=\"simple\"><polygon fill=\"#FFFFFF\" points=\"162,119,188,119,195,141.2969,260,141.2969,260,216,162,216,162,119\" style=\"stroke: #000000; stroke-width: 1.5;\"/><line style=\"stroke: #000000; stroke-width: 1.5;\" x1=\"162\" x2=\"195\" y1=\"141.2969\" y2=\"141.2969\"/><text fill=\"#000000\" font-family=\"sans-serif\" font-size=\"14\" font-weight=\"bold\" lengthAdjust=\"spacingAndGlyphs\" textLength=\"20\" x=\"166\" y=\"133.9951\">P1</text></a><!--MD5=[14e3b0961a2654348d326746436168a1]\n",
       "cluster E6--><a href=\"psysml:b0bbce7f-63ab-4038-bed6-f72cdad2d833\" target=\"_top\" title=\"psysml:b0bbce7f-63ab-4038-bed6-f72cdad2d833\" xlink:actuate=\"onRequest\" xlink:href=\"psysml:b0bbce7f-63ab-4038-bed6-f72cdad2d833\" xlink:show=\"new\" xlink:title=\"psysml:b0bbce7f-63ab-4038-bed6-f72cdad2d833\" xlink:type=\"simple\"><polygon fill=\"#FFFFFF\" points=\"40,119,66,119,73,141.2969,138,141.2969,138,216,40,216,40,119\" style=\"stroke: #000000; stroke-width: 1.5;\"/><line style=\"stroke: #000000; stroke-width: 1.5;\" x1=\"40\" x2=\"73\" y1=\"141.2969\" y2=\"141.2969\"/><text fill=\"#000000\" font-family=\"sans-serif\" font-size=\"14\" font-weight=\"bold\" lengthAdjust=\"spacingAndGlyphs\" textLength=\"20\" x=\"44\" y=\"133.9951\">P3</text></a><!--MD5=[270fce915f116d4de14055a7c1d9a0f3]\n",
       "class E5--><a href=\"psysml:ae15bfee-df16-4fee-9dc7-bf97e2180cfd\" target=\"_top\" title=\"psysml:ae15bfee-df16-4fee-9dc7-bf97e2180cfd\" xlink:actuate=\"onRequest\" xlink:href=\"psysml:ae15bfee-df16-4fee-9dc7-bf97e2180cfd\" xlink:show=\"new\" xlink:title=\"psysml:ae15bfee-df16-4fee-9dc7-bf97e2180cfd\" xlink:type=\"simple\"><rect fill=\"#FFFFFF\" height=\"45.9375\" id=\"E5\" rx=\"10\" ry=\"10\" style=\"stroke: #383838; stroke-width: 1.5;\" width=\"42\" x=\"190\" y=\"44.5\"/><text fill=\"#000000\" font-family=\"sans-serif\" font-size=\"12\" font-style=\"italic\" lengthAdjust=\"spacingAndGlyphs\" textLength=\"40\" x=\"191\" y=\"60.6387\">«part»</text><text fill=\"#000000\" font-family=\"sans-serif\" font-size=\"12\" lengthAdjust=\"spacingAndGlyphs\" textLength=\"22\" x=\"200\" y=\"74.6074\">x: A</text><line style=\"stroke: #383838; stroke-width: 1.5;\" x1=\"191\" x2=\"231\" y1=\"82.4375\" y2=\"82.4375\"/></a><!--MD5=[b9389687b975829384b498ac4b7476b2]\n",
       "class E8--><a href=\"psysml:977e6037-d806-4fb0-bccf-0c48256693c8\" target=\"_top\" title=\"psysml:977e6037-d806-4fb0-bccf-0c48256693c8\" xlink:actuate=\"onRequest\" xlink:href=\"psysml:977e6037-d806-4fb0-bccf-0c48256693c8\" xlink:show=\"new\" xlink:title=\"psysml:977e6037-d806-4fb0-bccf-0c48256693c8\" xlink:type=\"simple\"><rect fill=\"#FFFFFF\" height=\"45.9375\" id=\"E8\" rx=\"10\" ry=\"10\" style=\"stroke: #383838; stroke-width: 1.5;\" width=\"42\" x=\"107\" y=\"44.5\"/><text fill=\"#000000\" font-family=\"sans-serif\" font-size=\"12\" font-style=\"italic\" lengthAdjust=\"spacingAndGlyphs\" textLength=\"40\" x=\"108\" y=\"60.6387\">«part»</text><text fill=\"#000000\" font-family=\"sans-serif\" font-size=\"12\" lengthAdjust=\"spacingAndGlyphs\" textLength=\"21\" x=\"117.5\" y=\"74.6074\">z: B</text><line style=\"stroke: #383838; stroke-width: 1.5;\" x1=\"108\" x2=\"148\" y1=\"82.4375\" y2=\"82.4375\"/></a><!--MD5=[09b614a08d8cba4a07c9adeb5e0fee81]\n",
       "class E3--><a href=\"psysml:3f36db9e-42d3-4087-b2e1-ec91d884c8c4\" target=\"_top\" title=\"psysml:3f36db9e-42d3-4087-b2e1-ec91d884c8c4\" xlink:actuate=\"onRequest\" xlink:href=\"psysml:3f36db9e-42d3-4087-b2e1-ec91d884c8c4\" xlink:show=\"new\" xlink:title=\"psysml:3f36db9e-42d3-4087-b2e1-ec91d884c8c4\" xlink:type=\"simple\"><rect fill=\"#FFFFFF\" height=\"45.9375\" id=\"E3\" style=\"stroke: #383838; stroke-width: 1.5;\" width=\"66\" x=\"178\" y=\"154\"/><text fill=\"#000000\" font-family=\"sans-serif\" font-size=\"12\" font-style=\"italic\" lengthAdjust=\"spacingAndGlyphs\" textLength=\"64\" x=\"179\" y=\"170.1387\">«part def»</text><text fill=\"#000000\" font-family=\"sans-serif\" font-size=\"12\" lengthAdjust=\"spacingAndGlyphs\" textLength=\"8\" x=\"207\" y=\"184.1074\">A</text><line style=\"stroke: #383838; stroke-width: 1.5;\" x1=\"179\" x2=\"243\" y1=\"191.9375\" y2=\"191.9375\"/></a><a href=\"psysml:6aec89c6-9258-4c03-89c0-e79f913ee5de\" target=\"_top\" title=\"psysml:6aec89c6-9258-4c03-89c0-e79f913ee5de\" xlink:actuate=\"onRequest\" xlink:href=\"psysml:6aec89c6-9258-4c03-89c0-e79f913ee5de\" xlink:show=\"new\" xlink:title=\"psysml:6aec89c6-9258-4c03-89c0-e79f913ee5de\" xlink:type=\"simple\"><polygon fill=\"#FFFFFF\" points=\"32,41,58,41,65,63.2969,72,63.2969,72,93.5938,32,93.5938,32,41\" style=\"stroke: #000000; stroke-width: 1.5;\"/><line style=\"stroke: #000000; stroke-width: 1.5;\" x1=\"32\" x2=\"65\" y1=\"63.2969\" y2=\"63.2969\"/><text fill=\"#000000\" font-family=\"sans-serif\" font-size=\"14\" font-weight=\"bold\" lengthAdjust=\"spacingAndGlyphs\" textLength=\"20\" x=\"36\" y=\"55.9951\">P2</text></a><!--MD5=[2156ba9850f5573cc1fc38a6a4b2f02b]\n",
       "class E7--><a href=\"psysml:0f9466c7-ef71-48bc-a930-ec3e2c1a2c86\" target=\"_top\" title=\"psysml:0f9466c7-ef71-48bc-a930-ec3e2c1a2c86\" xlink:actuate=\"onRequest\" xlink:href=\"psysml:0f9466c7-ef71-48bc-a930-ec3e2c1a2c86\" xlink:show=\"new\" xlink:title=\"psysml:0f9466c7-ef71-48bc-a930-ec3e2c1a2c86\" xlink:type=\"simple\"><rect fill=\"#FFFFFF\" height=\"45.9375\" id=\"E7\" style=\"stroke: #383838; stroke-width: 1.5;\" width=\"66\" x=\"56\" y=\"154\"/><text fill=\"#000000\" font-family=\"sans-serif\" font-size=\"12\" font-style=\"italic\" lengthAdjust=\"spacingAndGlyphs\" textLength=\"64\" x=\"57\" y=\"170.1387\">«part def»</text><text fill=\"#000000\" font-family=\"sans-serif\" font-size=\"12\" lengthAdjust=\"spacingAndGlyphs\" textLength=\"8\" x=\"85\" y=\"184.1074\">B</text><line style=\"stroke: #383838; stroke-width: 1.5;\" x1=\"57\" x2=\"121\" y1=\"191.9375\" y2=\"191.9375\"/></a><!--MD5=[e9be52314489bd878ff4c7144b63c9e1]\n",
       "link E5 to E3--><a href=\"psysml:fc52ff88-f6bf-464b-a9f6-50c073522383\" target=\"_top\" title=\"psysml:fc52ff88-f6bf-464b-a9f6-50c073522383\" xlink:actuate=\"onRequest\" xlink:href=\"psysml:fc52ff88-f6bf-464b-a9f6-50c073522383\" xlink:show=\"new\" xlink:title=\"psysml:fc52ff88-f6bf-464b-a9f6-50c073522383\" xlink:type=\"simple\"><path d=\"M211,90.72 C211,90.72 211,133.81 211,133.81 \" fill=\"none\" id=\"E5-&gt;E3\" style=\"stroke: #383838; stroke-width: 1.0;\"/><polygon fill=\"#FFFFFF\" points=\"211,153.81,204,134.81,218,134.81,211,153.81\" style=\"stroke: #383838; stroke-width: 1.0;\"/><ellipse cx=\"206\" cy=\"129.11\" fill=\"#383838\" rx=\"2\" ry=\"2\" style=\"stroke: #383838; stroke-width: 1.0;\"/><ellipse cx=\"216\" cy=\"129.11\" fill=\"#383838\" rx=\"2\" ry=\"2\" style=\"stroke: #383838; stroke-width: 1.0;\"/></a><!--MD5=[bfa3c8b0d15052fdf50ae9310b491027]\n",
       "link E8 to E7--><a href=\"psysml:46d3b5b8-edad-416f-ae7d-d25648abca20\" target=\"_top\" title=\"psysml:46d3b5b8-edad-416f-ae7d-d25648abca20\" xlink:actuate=\"onRequest\" xlink:href=\"psysml:46d3b5b8-edad-416f-ae7d-d25648abca20\" xlink:show=\"new\" xlink:title=\"psysml:46d3b5b8-edad-416f-ae7d-d25648abca20\" xlink:type=\"simple\"><path d=\"M114.5,90.72 C114.5,90.72 114.5,133.81 114.5,133.81 \" fill=\"none\" id=\"E8-&gt;E7\" style=\"stroke: #383838; stroke-width: 1.0;\"/><polygon fill=\"#FFFFFF\" points=\"114.5,153.81,107.5,134.81,121.5,134.81,114.5,153.81\" style=\"stroke: #383838; stroke-width: 1.0;\"/><ellipse cx=\"109.5\" cy=\"129.11\" fill=\"#383838\" rx=\"2\" ry=\"2\" style=\"stroke: #383838; stroke-width: 1.0;\"/><ellipse cx=\"119.5\" cy=\"129.11\" fill=\"#383838\" rx=\"2\" ry=\"2\" style=\"stroke: #383838; stroke-width: 1.0;\"/></a><!--MD5=[5cfc6932bb81e761ce19e54e9a2ec15c]\n",
       "@startuml\r\n",
       "skinparam linetype ortho\r\n",
       "skinparam monochrome true\r\n",
       "skinparam classbackgroundcolor white\r\n",
       "skinparam shadowing false\r\n",
       "skinparam wrapWidth 300\r\n",
       "hide circle\r\n",
       "\r\n",
       "package \"PrivateImportTest\" as E1  [[psysml:679eaabc-5ff5-4f8e-91e0-c316c2e3864c ]]  {\r\n",
       "package \"P1\" as E2  [[psysml:009bdde2-dc25-4a27-9e47-f33e7b142b72 ]]  {\r\n",
       "comp def \"A\" as E3  <<(T,blue)part def>> [[psysml:3f36db9e-42d3-4087-b2e1-ec91d884c8c4 ]] {\r\n",
       "}\r\n",
       "}\r\n",
       "package \"P2\" as E4  [[psysml:6aec89c6-9258-4c03-89c0-e79f913ee5de ]]  {\r\n",
       "}\r\n",
       "comp usage \"x: A\" as E5  <<(T,blue)part>> [[psysml:ae15bfee-df16-4fee-9dc7-bf97e2180cfd ]] {\r\n",
       "}\r\n",
       "package \"P3\" as E6  [[psysml:b0bbce7f-63ab-4038-bed6-f72cdad2d833 ]]  {\r\n",
       "comp def \"B\" as E7  <<(T,blue)part def>> [[psysml:0f9466c7-ef71-48bc-a930-ec3e2c1a2c86 ]] {\r\n",
       "}\r\n",
       "E5 - -:|> E3 [[psysml:fc52ff88-f6bf-464b-a9f6-50c073522383 ]] \r\n",
       "}\r\n",
       "comp usage \"z: B\" as E8  <<(T,blue)part>> [[psysml:977e6037-d806-4fb0-bccf-0c48256693c8 ]] {\r\n",
       "}\r\n",
       "E8 - -:|> E7 [[psysml:46d3b5b8-edad-416f-ae7d-d25648abca20 ]] \r\n",
       "}\r\n",
       "@enduml\r\n",
       "\n",
       "PlantUML version 1.2020.13(Sat Jun 13 12:26:38 UTC 2020)\n",
       "(EPL source distribution)\n",
       "Java Runtime: OpenJDK Runtime Environment\n",
       "JVM: OpenJDK 64-Bit Server VM\n",
       "Default Encoding: UTF-8\n",
       "Language: en\n",
       "Country: null\n",
       "--></g></svg>"
      ]
     },
     "execution_count": 56,
     "metadata": {},
     "output_type": "execute_result"
    }
   ],
   "source": [
    "%viz --style=\"ORTHOLINE\" --view=\"Sequence\" \"PrivateImportTest\""
   ]
  },
  {
   "cell_type": "code",
   "execution_count": 57,
   "id": "medieval-delay",
   "metadata": {
    "execution": {
     "iopub.execute_input": "2021-03-24T16:28:07.448639Z",
     "iopub.status.busy": "2021-03-24T16:28:07.448296Z",
     "iopub.status.idle": "2021-03-24T16:28:07.473631Z",
     "shell.execute_reply": "2021-03-24T16:28:07.472182Z"
    }
   },
   "outputs": [
    {
     "data": {
      "image/svg+xml": [
       "<?xml version=\"1.0\" encoding=\"UTF-8\" standalone=\"no\"?><svg xmlns=\"http://www.w3.org/2000/svg\" xmlns:xlink=\"http://www.w3.org/1999/xlink\" contentScriptType=\"application/ecmascript\" contentStyleType=\"text/css\" height=\"252px\" preserveAspectRatio=\"none\" style=\"width:306px;height:252px;\" version=\"1.1\" viewBox=\"0 0 306 252\" width=\"306px\" zoomAndPan=\"magnify\"><defs/><g><!--MD5=[fbc87193dbaf4d95561dea2c320d4a47]\n",
       "cluster E1--><a href=\"psysml:679eaabc-5ff5-4f8e-91e0-c316c2e3864c\" target=\"_top\" title=\"psysml:679eaabc-5ff5-4f8e-91e0-c316c2e3864c\" xlink:actuate=\"onRequest\" xlink:href=\"psysml:679eaabc-5ff5-4f8e-91e0-c316c2e3864c\" xlink:show=\"new\" xlink:title=\"psysml:679eaabc-5ff5-4f8e-91e0-c316c2e3864c\" xlink:type=\"simple\"><polygon fill=\"#FFFFFF\" points=\"16,6,163,6,170,28.2969,284,28.2969,284,240,16,240,16,6\" style=\"stroke: #000000; stroke-width: 1.5;\"/><line style=\"stroke: #000000; stroke-width: 1.5;\" x1=\"16\" x2=\"170\" y1=\"28.2969\" y2=\"28.2969\"/><text fill=\"#000000\" font-family=\"sans-serif\" font-size=\"14\" font-weight=\"bold\" lengthAdjust=\"spacingAndGlyphs\" textLength=\"141\" x=\"20\" y=\"20.9951\">PrivateImportTest</text></a><!--MD5=[e4f7fae6ed58524ba242bb0b0d3be6b7]\n",
       "cluster E2--><a href=\"psysml:009bdde2-dc25-4a27-9e47-f33e7b142b72\" target=\"_top\" title=\"psysml:009bdde2-dc25-4a27-9e47-f33e7b142b72\" xlink:actuate=\"onRequest\" xlink:href=\"psysml:009bdde2-dc25-4a27-9e47-f33e7b142b72\" xlink:show=\"new\" xlink:title=\"psysml:009bdde2-dc25-4a27-9e47-f33e7b142b72\" xlink:type=\"simple\"><polygon fill=\"#FFFFFF\" points=\"162,119,188,119,195,141.2969,260,141.2969,260,216,162,216,162,119\" style=\"stroke: #000000; stroke-width: 1.5;\"/><line style=\"stroke: #000000; stroke-width: 1.5;\" x1=\"162\" x2=\"195\" y1=\"141.2969\" y2=\"141.2969\"/><text fill=\"#000000\" font-family=\"sans-serif\" font-size=\"14\" font-weight=\"bold\" lengthAdjust=\"spacingAndGlyphs\" textLength=\"20\" x=\"166\" y=\"133.9951\">P1</text></a><!--MD5=[14e3b0961a2654348d326746436168a1]\n",
       "cluster E6--><a href=\"psysml:b0bbce7f-63ab-4038-bed6-f72cdad2d833\" target=\"_top\" title=\"psysml:b0bbce7f-63ab-4038-bed6-f72cdad2d833\" xlink:actuate=\"onRequest\" xlink:href=\"psysml:b0bbce7f-63ab-4038-bed6-f72cdad2d833\" xlink:show=\"new\" xlink:title=\"psysml:b0bbce7f-63ab-4038-bed6-f72cdad2d833\" xlink:type=\"simple\"><polygon fill=\"#FFFFFF\" points=\"40,119,66,119,73,141.2969,138,141.2969,138,216,40,216,40,119\" style=\"stroke: #000000; stroke-width: 1.5;\"/><line style=\"stroke: #000000; stroke-width: 1.5;\" x1=\"40\" x2=\"73\" y1=\"141.2969\" y2=\"141.2969\"/><text fill=\"#000000\" font-family=\"sans-serif\" font-size=\"14\" font-weight=\"bold\" lengthAdjust=\"spacingAndGlyphs\" textLength=\"20\" x=\"44\" y=\"133.9951\">P3</text></a><!--MD5=[270fce915f116d4de14055a7c1d9a0f3]\n",
       "class E5--><a href=\"psysml:ae15bfee-df16-4fee-9dc7-bf97e2180cfd\" target=\"_top\" title=\"psysml:ae15bfee-df16-4fee-9dc7-bf97e2180cfd\" xlink:actuate=\"onRequest\" xlink:href=\"psysml:ae15bfee-df16-4fee-9dc7-bf97e2180cfd\" xlink:show=\"new\" xlink:title=\"psysml:ae15bfee-df16-4fee-9dc7-bf97e2180cfd\" xlink:type=\"simple\"><rect fill=\"#FFFFFF\" height=\"45.9375\" id=\"E5\" rx=\"10\" ry=\"10\" style=\"stroke: #383838; stroke-width: 1.5;\" width=\"42\" x=\"190\" y=\"44.5\"/><text fill=\"#000000\" font-family=\"sans-serif\" font-size=\"12\" font-style=\"italic\" lengthAdjust=\"spacingAndGlyphs\" textLength=\"40\" x=\"191\" y=\"60.6387\">«part»</text><text fill=\"#000000\" font-family=\"sans-serif\" font-size=\"12\" lengthAdjust=\"spacingAndGlyphs\" textLength=\"22\" x=\"200\" y=\"74.6074\">x: A</text><line style=\"stroke: #383838; stroke-width: 1.5;\" x1=\"191\" x2=\"231\" y1=\"82.4375\" y2=\"82.4375\"/></a><!--MD5=[b9389687b975829384b498ac4b7476b2]\n",
       "class E8--><a href=\"psysml:977e6037-d806-4fb0-bccf-0c48256693c8\" target=\"_top\" title=\"psysml:977e6037-d806-4fb0-bccf-0c48256693c8\" xlink:actuate=\"onRequest\" xlink:href=\"psysml:977e6037-d806-4fb0-bccf-0c48256693c8\" xlink:show=\"new\" xlink:title=\"psysml:977e6037-d806-4fb0-bccf-0c48256693c8\" xlink:type=\"simple\"><rect fill=\"#FFFFFF\" height=\"45.9375\" id=\"E8\" rx=\"10\" ry=\"10\" style=\"stroke: #383838; stroke-width: 1.5;\" width=\"42\" x=\"107\" y=\"44.5\"/><text fill=\"#000000\" font-family=\"sans-serif\" font-size=\"12\" font-style=\"italic\" lengthAdjust=\"spacingAndGlyphs\" textLength=\"40\" x=\"108\" y=\"60.6387\">«part»</text><text fill=\"#000000\" font-family=\"sans-serif\" font-size=\"12\" lengthAdjust=\"spacingAndGlyphs\" textLength=\"21\" x=\"117.5\" y=\"74.6074\">z: B</text><line style=\"stroke: #383838; stroke-width: 1.5;\" x1=\"108\" x2=\"148\" y1=\"82.4375\" y2=\"82.4375\"/></a><!--MD5=[09b614a08d8cba4a07c9adeb5e0fee81]\n",
       "class E3--><a href=\"psysml:3f36db9e-42d3-4087-b2e1-ec91d884c8c4\" target=\"_top\" title=\"psysml:3f36db9e-42d3-4087-b2e1-ec91d884c8c4\" xlink:actuate=\"onRequest\" xlink:href=\"psysml:3f36db9e-42d3-4087-b2e1-ec91d884c8c4\" xlink:show=\"new\" xlink:title=\"psysml:3f36db9e-42d3-4087-b2e1-ec91d884c8c4\" xlink:type=\"simple\"><rect fill=\"#FFFFFF\" height=\"45.9375\" id=\"E3\" style=\"stroke: #383838; stroke-width: 1.5;\" width=\"66\" x=\"178\" y=\"154\"/><text fill=\"#000000\" font-family=\"sans-serif\" font-size=\"12\" font-style=\"italic\" lengthAdjust=\"spacingAndGlyphs\" textLength=\"64\" x=\"179\" y=\"170.1387\">«part def»</text><text fill=\"#000000\" font-family=\"sans-serif\" font-size=\"12\" lengthAdjust=\"spacingAndGlyphs\" textLength=\"8\" x=\"207\" y=\"184.1074\">A</text><line style=\"stroke: #383838; stroke-width: 1.5;\" x1=\"179\" x2=\"243\" y1=\"191.9375\" y2=\"191.9375\"/></a><a href=\"psysml:6aec89c6-9258-4c03-89c0-e79f913ee5de\" target=\"_top\" title=\"psysml:6aec89c6-9258-4c03-89c0-e79f913ee5de\" xlink:actuate=\"onRequest\" xlink:href=\"psysml:6aec89c6-9258-4c03-89c0-e79f913ee5de\" xlink:show=\"new\" xlink:title=\"psysml:6aec89c6-9258-4c03-89c0-e79f913ee5de\" xlink:type=\"simple\"><polygon fill=\"#FFFFFF\" points=\"32,41,58,41,65,63.2969,72,63.2969,72,93.5938,32,93.5938,32,41\" style=\"stroke: #000000; stroke-width: 1.5;\"/><line style=\"stroke: #000000; stroke-width: 1.5;\" x1=\"32\" x2=\"65\" y1=\"63.2969\" y2=\"63.2969\"/><text fill=\"#000000\" font-family=\"sans-serif\" font-size=\"14\" font-weight=\"bold\" lengthAdjust=\"spacingAndGlyphs\" textLength=\"20\" x=\"36\" y=\"55.9951\">P2</text></a><!--MD5=[2156ba9850f5573cc1fc38a6a4b2f02b]\n",
       "class E7--><a href=\"psysml:0f9466c7-ef71-48bc-a930-ec3e2c1a2c86\" target=\"_top\" title=\"psysml:0f9466c7-ef71-48bc-a930-ec3e2c1a2c86\" xlink:actuate=\"onRequest\" xlink:href=\"psysml:0f9466c7-ef71-48bc-a930-ec3e2c1a2c86\" xlink:show=\"new\" xlink:title=\"psysml:0f9466c7-ef71-48bc-a930-ec3e2c1a2c86\" xlink:type=\"simple\"><rect fill=\"#FFFFFF\" height=\"45.9375\" id=\"E7\" style=\"stroke: #383838; stroke-width: 1.5;\" width=\"66\" x=\"56\" y=\"154\"/><text fill=\"#000000\" font-family=\"sans-serif\" font-size=\"12\" font-style=\"italic\" lengthAdjust=\"spacingAndGlyphs\" textLength=\"64\" x=\"57\" y=\"170.1387\">«part def»</text><text fill=\"#000000\" font-family=\"sans-serif\" font-size=\"12\" lengthAdjust=\"spacingAndGlyphs\" textLength=\"8\" x=\"85\" y=\"184.1074\">B</text><line style=\"stroke: #383838; stroke-width: 1.5;\" x1=\"57\" x2=\"121\" y1=\"191.9375\" y2=\"191.9375\"/></a><!--MD5=[e9be52314489bd878ff4c7144b63c9e1]\n",
       "link E5 to E3--><a href=\"psysml:fc52ff88-f6bf-464b-a9f6-50c073522383\" target=\"_top\" title=\"psysml:fc52ff88-f6bf-464b-a9f6-50c073522383\" xlink:actuate=\"onRequest\" xlink:href=\"psysml:fc52ff88-f6bf-464b-a9f6-50c073522383\" xlink:show=\"new\" xlink:title=\"psysml:fc52ff88-f6bf-464b-a9f6-50c073522383\" xlink:type=\"simple\"><path d=\"M211,90.72 C211,90.72 211,133.81 211,133.81 \" fill=\"none\" id=\"E5-&gt;E3\" style=\"stroke: #383838; stroke-width: 1.0;\"/><polygon fill=\"#FFFFFF\" points=\"211,153.81,204,134.81,218,134.81,211,153.81\" style=\"stroke: #383838; stroke-width: 1.0;\"/><ellipse cx=\"206\" cy=\"129.11\" fill=\"#383838\" rx=\"2\" ry=\"2\" style=\"stroke: #383838; stroke-width: 1.0;\"/><ellipse cx=\"216\" cy=\"129.11\" fill=\"#383838\" rx=\"2\" ry=\"2\" style=\"stroke: #383838; stroke-width: 1.0;\"/></a><!--MD5=[bfa3c8b0d15052fdf50ae9310b491027]\n",
       "link E8 to E7--><a href=\"psysml:46d3b5b8-edad-416f-ae7d-d25648abca20\" target=\"_top\" title=\"psysml:46d3b5b8-edad-416f-ae7d-d25648abca20\" xlink:actuate=\"onRequest\" xlink:href=\"psysml:46d3b5b8-edad-416f-ae7d-d25648abca20\" xlink:show=\"new\" xlink:title=\"psysml:46d3b5b8-edad-416f-ae7d-d25648abca20\" xlink:type=\"simple\"><path d=\"M114.5,90.72 C114.5,90.72 114.5,133.81 114.5,133.81 \" fill=\"none\" id=\"E8-&gt;E7\" style=\"stroke: #383838; stroke-width: 1.0;\"/><polygon fill=\"#FFFFFF\" points=\"114.5,153.81,107.5,134.81,121.5,134.81,114.5,153.81\" style=\"stroke: #383838; stroke-width: 1.0;\"/><ellipse cx=\"109.5\" cy=\"129.11\" fill=\"#383838\" rx=\"2\" ry=\"2\" style=\"stroke: #383838; stroke-width: 1.0;\"/><ellipse cx=\"119.5\" cy=\"129.11\" fill=\"#383838\" rx=\"2\" ry=\"2\" style=\"stroke: #383838; stroke-width: 1.0;\"/></a><!--MD5=[5cfc6932bb81e761ce19e54e9a2ec15c]\n",
       "@startuml\r\n",
       "skinparam linetype ortho\r\n",
       "skinparam monochrome true\r\n",
       "skinparam classbackgroundcolor white\r\n",
       "skinparam shadowing false\r\n",
       "skinparam wrapWidth 300\r\n",
       "hide circle\r\n",
       "\r\n",
       "package \"PrivateImportTest\" as E1  [[psysml:679eaabc-5ff5-4f8e-91e0-c316c2e3864c ]]  {\r\n",
       "package \"P1\" as E2  [[psysml:009bdde2-dc25-4a27-9e47-f33e7b142b72 ]]  {\r\n",
       "comp def \"A\" as E3  <<(T,blue)part def>> [[psysml:3f36db9e-42d3-4087-b2e1-ec91d884c8c4 ]] {\r\n",
       "}\r\n",
       "}\r\n",
       "package \"P2\" as E4  [[psysml:6aec89c6-9258-4c03-89c0-e79f913ee5de ]]  {\r\n",
       "}\r\n",
       "comp usage \"x: A\" as E5  <<(T,blue)part>> [[psysml:ae15bfee-df16-4fee-9dc7-bf97e2180cfd ]] {\r\n",
       "}\r\n",
       "package \"P3\" as E6  [[psysml:b0bbce7f-63ab-4038-bed6-f72cdad2d833 ]]  {\r\n",
       "comp def \"B\" as E7  <<(T,blue)part def>> [[psysml:0f9466c7-ef71-48bc-a930-ec3e2c1a2c86 ]] {\r\n",
       "}\r\n",
       "E5 - -:|> E3 [[psysml:fc52ff88-f6bf-464b-a9f6-50c073522383 ]] \r\n",
       "}\r\n",
       "comp usage \"z: B\" as E8  <<(T,blue)part>> [[psysml:977e6037-d806-4fb0-bccf-0c48256693c8 ]] {\r\n",
       "}\r\n",
       "E8 - -:|> E7 [[psysml:46d3b5b8-edad-416f-ae7d-d25648abca20 ]] \r\n",
       "}\r\n",
       "@enduml\r\n",
       "\n",
       "PlantUML version 1.2020.13(Sat Jun 13 12:26:38 UTC 2020)\n",
       "(EPL source distribution)\n",
       "Java Runtime: OpenJDK Runtime Environment\n",
       "JVM: OpenJDK 64-Bit Server VM\n",
       "Default Encoding: UTF-8\n",
       "Language: en\n",
       "Country: null\n",
       "--></g></svg>"
      ]
     },
     "execution_count": 57,
     "metadata": {},
     "output_type": "execute_result"
    }
   ],
   "source": [
    "%viz --style=\"ORTHOLINE\" --view=\"MIXED\" \"PrivateImportTest\""
   ]
  }
 ],
 "metadata": {
  "kernelspec": {
   "display_name": "SysML",
   "language": "sysml",
   "name": "sysml"
  },
  "language_info": {
   "codemirror_mode": "sysml",
   "file_extension": ".sysml",
   "mimetype": "text/x-sysml",
   "name": "SysML",
   "pygments_lexer": "java",
   "version": "1.0.0"
  }
 },
 "nbformat": 4,
 "nbformat_minor": 5
}
