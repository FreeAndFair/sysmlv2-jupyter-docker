{
 "cells": [
  {
   "cell_type": "markdown",
   "id": "identical-breach",
   "metadata": {},
   "source": [
    "# SysML v2 Test Suite\n",
    "\n",
    "This can notebook can be cleared using menu `Edit --> Clear All Outputs` and then all cells can be\n",
    "run using menu `Run --> Run All Cells`.\n",
    "\n",
    "**WARNING**: This file is generated, all modifications here will be ignored.\n"
   ]
  },
  {
   "cell_type": "markdown",
   "id": "invisible-transcription",
   "metadata": {},
   "source": [
    "## File: ../../sysml/src/examples/Import Tests/PrivateImportTest.sysml"
   ]
  },
  {
   "cell_type": "code",
   "execution_count": 1,
   "id": "former-jacksonville",
   "metadata": {
    "execution": {
     "iopub.execute_input": "2021-03-25T09:26:36.014957Z",
     "iopub.status.busy": "2021-03-25T09:26:36.013944Z",
     "iopub.status.idle": "2021-03-25T09:26:36.140741Z",
     "shell.execute_reply": "2021-03-25T09:26:36.140148Z"
    }
   },
   "outputs": [
    {
     "data": {
      "text/plain": [
       "Package PrivateImportTest (693bf3b1-066d-4ac6-9cc1-b30612487826)\n"
      ]
     },
     "execution_count": 1,
     "metadata": {},
     "output_type": "execute_result"
    }
   ],
   "source": [
    "package PrivateImportTest {\n",
    "\tpackage P1 {\n",
    "\t\tpart def A;\n",
    "\t}\n",
    "\tpackage P2 {\n",
    "\t\tprivate import P1::*;\n",
    "\t}\n",
    "\tpart x: P1::A;\n",
    "\t\n",
    "\timport P2::*;\n",
    "\t// This should fail.\n",
    "\t// A is not visible, because the import in P2 is private.\n",
    "\t// y: A;\n",
    "\t\n",
    "\tpackage P3 {\n",
    "\t\tpart def B;\n",
    "\t}\n",
    "\t\n",
    "\tprivate import P3::*;\n",
    "\t\n",
    "\t// This should not fail.\n",
    "\t// Private import only restricts visibility outside the package.\n",
    "\tpart z: B;\n",
    "\t\n",
    "}"
   ]
  },
  {
   "cell_type": "code",
   "execution_count": 2,
   "id": "common-gross",
   "metadata": {
    "execution": {
     "iopub.execute_input": "2021-03-25T09:26:36.192734Z",
     "iopub.status.busy": "2021-03-25T09:26:36.192217Z",
     "iopub.status.idle": "2021-03-25T09:26:36.930577Z",
     "shell.execute_reply": "2021-03-25T09:26:36.931147Z"
    }
   },
   "outputs": [
    {
     "data": {
      "image/svg+xml": [
       "<?xml version=\"1.0\" encoding=\"UTF-8\" standalone=\"no\"?><svg xmlns=\"http://www.w3.org/2000/svg\" xmlns:xlink=\"http://www.w3.org/1999/xlink\" contentScriptType=\"application/ecmascript\" contentStyleType=\"text/css\" height=\"252px\" preserveAspectRatio=\"none\" style=\"width:306px;height:252px;\" version=\"1.1\" viewBox=\"0 0 306 252\" width=\"306px\" zoomAndPan=\"magnify\"><defs/><g><!--MD5=[fbc87193dbaf4d95561dea2c320d4a47]\n",
       "cluster E1--><a href=\"psysml:a19fc987-58b9-4365-8e05-8e082939198f\" target=\"_top\" title=\"psysml:a19fc987-58b9-4365-8e05-8e082939198f\" xlink:actuate=\"onRequest\" xlink:href=\"psysml:a19fc987-58b9-4365-8e05-8e082939198f\" xlink:show=\"new\" xlink:title=\"psysml:a19fc987-58b9-4365-8e05-8e082939198f\" xlink:type=\"simple\"><polygon fill=\"#FFFFFF\" points=\"16,6,163,6,170,28.2969,284,28.2969,284,240,16,240,16,6\" style=\"stroke: #000000; stroke-width: 1.5;\"/><line style=\"stroke: #000000; stroke-width: 1.5;\" x1=\"16\" x2=\"170\" y1=\"28.2969\" y2=\"28.2969\"/><text fill=\"#000000\" font-family=\"sans-serif\" font-size=\"14\" font-weight=\"bold\" lengthAdjust=\"spacingAndGlyphs\" textLength=\"141\" x=\"20\" y=\"20.9951\">PrivateImportTest</text></a><!--MD5=[e4f7fae6ed58524ba242bb0b0d3be6b7]\n",
       "cluster E2--><a href=\"psysml:0afae52f-013a-41db-84e1-dbe02c327088\" target=\"_top\" title=\"psysml:0afae52f-013a-41db-84e1-dbe02c327088\" xlink:actuate=\"onRequest\" xlink:href=\"psysml:0afae52f-013a-41db-84e1-dbe02c327088\" xlink:show=\"new\" xlink:title=\"psysml:0afae52f-013a-41db-84e1-dbe02c327088\" xlink:type=\"simple\"><polygon fill=\"#FFFFFF\" points=\"162,119,188,119,195,141.2969,260,141.2969,260,216,162,216,162,119\" style=\"stroke: #000000; stroke-width: 1.5;\"/><line style=\"stroke: #000000; stroke-width: 1.5;\" x1=\"162\" x2=\"195\" y1=\"141.2969\" y2=\"141.2969\"/><text fill=\"#000000\" font-family=\"sans-serif\" font-size=\"14\" font-weight=\"bold\" lengthAdjust=\"spacingAndGlyphs\" textLength=\"20\" x=\"166\" y=\"133.9951\">P1</text></a><!--MD5=[14e3b0961a2654348d326746436168a1]\n",
       "cluster E6--><a href=\"psysml:1d9d662c-22cb-416c-b8ab-bb9944386c4a\" target=\"_top\" title=\"psysml:1d9d662c-22cb-416c-b8ab-bb9944386c4a\" xlink:actuate=\"onRequest\" xlink:href=\"psysml:1d9d662c-22cb-416c-b8ab-bb9944386c4a\" xlink:show=\"new\" xlink:title=\"psysml:1d9d662c-22cb-416c-b8ab-bb9944386c4a\" xlink:type=\"simple\"><polygon fill=\"#FFFFFF\" points=\"40,119,66,119,73,141.2969,138,141.2969,138,216,40,216,40,119\" style=\"stroke: #000000; stroke-width: 1.5;\"/><line style=\"stroke: #000000; stroke-width: 1.5;\" x1=\"40\" x2=\"73\" y1=\"141.2969\" y2=\"141.2969\"/><text fill=\"#000000\" font-family=\"sans-serif\" font-size=\"14\" font-weight=\"bold\" lengthAdjust=\"spacingAndGlyphs\" textLength=\"20\" x=\"44\" y=\"133.9951\">P3</text></a><!--MD5=[270fce915f116d4de14055a7c1d9a0f3]\n",
       "class E5--><a href=\"psysml:0adc1dcd-eba4-4b19-b824-866ee03ed7de\" target=\"_top\" title=\"psysml:0adc1dcd-eba4-4b19-b824-866ee03ed7de\" xlink:actuate=\"onRequest\" xlink:href=\"psysml:0adc1dcd-eba4-4b19-b824-866ee03ed7de\" xlink:show=\"new\" xlink:title=\"psysml:0adc1dcd-eba4-4b19-b824-866ee03ed7de\" xlink:type=\"simple\"><rect fill=\"#FFFFFF\" height=\"45.9375\" id=\"E5\" rx=\"10\" ry=\"10\" style=\"stroke: #383838; stroke-width: 1.5;\" width=\"42\" x=\"190\" y=\"44.5\"/><text fill=\"#000000\" font-family=\"sans-serif\" font-size=\"12\" font-style=\"italic\" lengthAdjust=\"spacingAndGlyphs\" textLength=\"40\" x=\"191\" y=\"60.6387\">«part»</text><text fill=\"#000000\" font-family=\"sans-serif\" font-size=\"12\" lengthAdjust=\"spacingAndGlyphs\" textLength=\"22\" x=\"200\" y=\"74.6074\">x: A</text><line style=\"stroke: #383838; stroke-width: 1.5;\" x1=\"191\" x2=\"231\" y1=\"82.4375\" y2=\"82.4375\"/></a><!--MD5=[b9389687b975829384b498ac4b7476b2]\n",
       "class E8--><a href=\"psysml:b076f02a-ad00-46e0-858a-3e2f54feec2a\" target=\"_top\" title=\"psysml:b076f02a-ad00-46e0-858a-3e2f54feec2a\" xlink:actuate=\"onRequest\" xlink:href=\"psysml:b076f02a-ad00-46e0-858a-3e2f54feec2a\" xlink:show=\"new\" xlink:title=\"psysml:b076f02a-ad00-46e0-858a-3e2f54feec2a\" xlink:type=\"simple\"><rect fill=\"#FFFFFF\" height=\"45.9375\" id=\"E8\" rx=\"10\" ry=\"10\" style=\"stroke: #383838; stroke-width: 1.5;\" width=\"42\" x=\"107\" y=\"44.5\"/><text fill=\"#000000\" font-family=\"sans-serif\" font-size=\"12\" font-style=\"italic\" lengthAdjust=\"spacingAndGlyphs\" textLength=\"40\" x=\"108\" y=\"60.6387\">«part»</text><text fill=\"#000000\" font-family=\"sans-serif\" font-size=\"12\" lengthAdjust=\"spacingAndGlyphs\" textLength=\"21\" x=\"117.5\" y=\"74.6074\">z: B</text><line style=\"stroke: #383838; stroke-width: 1.5;\" x1=\"108\" x2=\"148\" y1=\"82.4375\" y2=\"82.4375\"/></a><!--MD5=[09b614a08d8cba4a07c9adeb5e0fee81]\n",
       "class E3--><a href=\"psysml:414aecf4-cab0-4d0d-b5e9-0bd22012706a\" target=\"_top\" title=\"psysml:414aecf4-cab0-4d0d-b5e9-0bd22012706a\" xlink:actuate=\"onRequest\" xlink:href=\"psysml:414aecf4-cab0-4d0d-b5e9-0bd22012706a\" xlink:show=\"new\" xlink:title=\"psysml:414aecf4-cab0-4d0d-b5e9-0bd22012706a\" xlink:type=\"simple\"><rect fill=\"#FFFFFF\" height=\"45.9375\" id=\"E3\" style=\"stroke: #383838; stroke-width: 1.5;\" width=\"66\" x=\"178\" y=\"154\"/><text fill=\"#000000\" font-family=\"sans-serif\" font-size=\"12\" font-style=\"italic\" lengthAdjust=\"spacingAndGlyphs\" textLength=\"64\" x=\"179\" y=\"170.1387\">«part def»</text><text fill=\"#000000\" font-family=\"sans-serif\" font-size=\"12\" lengthAdjust=\"spacingAndGlyphs\" textLength=\"8\" x=\"207\" y=\"184.1074\">A</text><line style=\"stroke: #383838; stroke-width: 1.5;\" x1=\"179\" x2=\"243\" y1=\"191.9375\" y2=\"191.9375\"/></a><a href=\"psysml:e62181a2-aa41-44c6-a86b-ee96628d0c50\" target=\"_top\" title=\"psysml:e62181a2-aa41-44c6-a86b-ee96628d0c50\" xlink:actuate=\"onRequest\" xlink:href=\"psysml:e62181a2-aa41-44c6-a86b-ee96628d0c50\" xlink:show=\"new\" xlink:title=\"psysml:e62181a2-aa41-44c6-a86b-ee96628d0c50\" xlink:type=\"simple\"><polygon fill=\"#FFFFFF\" points=\"32,41,58,41,65,63.2969,72,63.2969,72,93.5938,32,93.5938,32,41\" style=\"stroke: #000000; stroke-width: 1.5;\"/><line style=\"stroke: #000000; stroke-width: 1.5;\" x1=\"32\" x2=\"65\" y1=\"63.2969\" y2=\"63.2969\"/><text fill=\"#000000\" font-family=\"sans-serif\" font-size=\"14\" font-weight=\"bold\" lengthAdjust=\"spacingAndGlyphs\" textLength=\"20\" x=\"36\" y=\"55.9951\">P2</text></a><!--MD5=[2156ba9850f5573cc1fc38a6a4b2f02b]\n",
       "class E7--><a href=\"psysml:f619ebc7-1ca1-4b7d-a8d3-68584975adae\" target=\"_top\" title=\"psysml:f619ebc7-1ca1-4b7d-a8d3-68584975adae\" xlink:actuate=\"onRequest\" xlink:href=\"psysml:f619ebc7-1ca1-4b7d-a8d3-68584975adae\" xlink:show=\"new\" xlink:title=\"psysml:f619ebc7-1ca1-4b7d-a8d3-68584975adae\" xlink:type=\"simple\"><rect fill=\"#FFFFFF\" height=\"45.9375\" id=\"E7\" style=\"stroke: #383838; stroke-width: 1.5;\" width=\"66\" x=\"56\" y=\"154\"/><text fill=\"#000000\" font-family=\"sans-serif\" font-size=\"12\" font-style=\"italic\" lengthAdjust=\"spacingAndGlyphs\" textLength=\"64\" x=\"57\" y=\"170.1387\">«part def»</text><text fill=\"#000000\" font-family=\"sans-serif\" font-size=\"12\" lengthAdjust=\"spacingAndGlyphs\" textLength=\"8\" x=\"85\" y=\"184.1074\">B</text><line style=\"stroke: #383838; stroke-width: 1.5;\" x1=\"57\" x2=\"121\" y1=\"191.9375\" y2=\"191.9375\"/></a><!--MD5=[e9be52314489bd878ff4c7144b63c9e1]\n",
       "link E5 to E3--><a href=\"psysml:e8148481-e1af-4d30-a20f-345018eb1da9\" target=\"_top\" title=\"psysml:e8148481-e1af-4d30-a20f-345018eb1da9\" xlink:actuate=\"onRequest\" xlink:href=\"psysml:e8148481-e1af-4d30-a20f-345018eb1da9\" xlink:show=\"new\" xlink:title=\"psysml:e8148481-e1af-4d30-a20f-345018eb1da9\" xlink:type=\"simple\"><path d=\"M211,90.51 C211,102.89 211,118.78 211,133.48 \" fill=\"none\" id=\"E5-&gt;E3\" style=\"stroke: #383838; stroke-width: 1.0;\"/><polygon fill=\"#FFFFFF\" points=\"211,153.65,204,134.65,218,134.65,211,153.65\" style=\"stroke: #383838; stroke-width: 1.0;\"/><ellipse cx=\"206\" cy=\"128.95\" fill=\"#383838\" rx=\"2\" ry=\"2\" style=\"stroke: #383838; stroke-width: 1.0;\"/><ellipse cx=\"216\" cy=\"128.95\" fill=\"#383838\" rx=\"2\" ry=\"2\" style=\"stroke: #383838; stroke-width: 1.0;\"/></a><!--MD5=[bfa3c8b0d15052fdf50ae9310b491027]\n",
       "link E8 to E7--><a href=\"psysml:88eb6ab6-f030-4136-96c6-6d1b75343c8c\" target=\"_top\" title=\"psysml:88eb6ab6-f030-4136-96c6-6d1b75343c8c\" xlink:actuate=\"onRequest\" xlink:href=\"psysml:88eb6ab6-f030-4136-96c6-6d1b75343c8c\" xlink:show=\"new\" xlink:title=\"psysml:88eb6ab6-f030-4136-96c6-6d1b75343c8c\" xlink:type=\"simple\"><path d=\"M120.01,90.51 C115.39,103.25 109.42,119.7 103.96,134.76 \" fill=\"none\" id=\"E8-&gt;E7\" style=\"stroke: #383838; stroke-width: 1.0;\"/><polygon fill=\"#FFFFFF\" points=\"97.11,153.65,97.0036,133.4018,110.1656,138.1726,97.11,153.65\" style=\"stroke: #383838; stroke-width: 1.0;\"/><ellipse cx=\"100.8262\" cy=\"128.7245\" fill=\"#383838\" rx=\"2\" ry=\"2\" style=\"stroke: #383838; stroke-width: 1.0;\"/><ellipse cx=\"110.2277\" cy=\"132.1322\" fill=\"#383838\" rx=\"2\" ry=\"2\" style=\"stroke: #383838; stroke-width: 1.0;\"/></a><!--MD5=[37b6ac4f331c37008e83c2b975fe1a8c]\n",
       "@startuml\r\n",
       " skinparam monochrome true\r\n",
       "skinparam classbackgroundcolor white\r\n",
       "skinparam shadowing false\r\n",
       "skinparam wrapWidth 300\r\n",
       "hide circle\r\n",
       "\r\n",
       "package \"PrivateImportTest\" as E1  [[psysml:a19fc987-58b9-4365-8e05-8e082939198f ]]  {\r\n",
       "package \"P1\" as E2  [[psysml:0afae52f-013a-41db-84e1-dbe02c327088 ]]  {\r\n",
       "comp def \"A\" as E3  <<(T,blue)part def>> [[psysml:414aecf4-cab0-4d0d-b5e9-0bd22012706a ]] {\r\n",
       "}\r\n",
       "}\r\n",
       "package \"P2\" as E4  [[psysml:e62181a2-aa41-44c6-a86b-ee96628d0c50 ]]  {\r\n",
       "}\r\n",
       "comp usage \"x: A\" as E5  <<(T,blue)part>> [[psysml:0adc1dcd-eba4-4b19-b824-866ee03ed7de ]] {\r\n",
       "}\r\n",
       "package \"P3\" as E6  [[psysml:1d9d662c-22cb-416c-b8ab-bb9944386c4a ]]  {\r\n",
       "comp def \"B\" as E7  <<(T,blue)part def>> [[psysml:f619ebc7-1ca1-4b7d-a8d3-68584975adae ]] {\r\n",
       "}\r\n",
       "E5 - -:|> E3 [[psysml:e8148481-e1af-4d30-a20f-345018eb1da9 ]] \r\n",
       "}\r\n",
       "comp usage \"z: B\" as E8  <<(T,blue)part>> [[psysml:b076f02a-ad00-46e0-858a-3e2f54feec2a ]] {\r\n",
       "}\r\n",
       "E8 - -:|> E7 [[psysml:88eb6ab6-f030-4136-96c6-6d1b75343c8c ]] \r\n",
       "}\r\n",
       "@enduml\r\n",
       "\n",
       "PlantUML version 1.2020.13(Sat Jun 13 12:26:38 UTC 2020)\n",
       "(EPL source distribution)\n",
       "Java Runtime: OpenJDK Runtime Environment\n",
       "JVM: OpenJDK 64-Bit Server VM\n",
       "Default Encoding: UTF-8\n",
       "Language: en\n",
       "Country: null\n",
       "--></g></svg>"
      ]
     },
     "execution_count": 2,
     "metadata": {},
     "output_type": "execute_result"
    }
   ],
   "source": [
    "%viz --style=\"COMPTREE\" --view=\"Default\" \"PrivateImportTest\""
   ]
  },
  {
   "cell_type": "code",
   "execution_count": 3,
   "id": "divided-developer",
   "metadata": {
    "execution": {
     "iopub.execute_input": "2021-03-25T09:26:36.981569Z",
     "iopub.status.busy": "2021-03-25T09:26:36.980709Z",
     "iopub.status.idle": "2021-03-25T09:26:37.086074Z",
     "shell.execute_reply": "2021-03-25T09:26:37.084437Z"
    }
   },
   "outputs": [
    {
     "data": {
      "image/svg+xml": [
       "<?xml version=\"1.0\" encoding=\"UTF-8\" standalone=\"no\"?><svg xmlns=\"http://www.w3.org/2000/svg\" xmlns:xlink=\"http://www.w3.org/1999/xlink\" contentScriptType=\"application/ecmascript\" contentStyleType=\"text/css\" height=\"252px\" preserveAspectRatio=\"none\" style=\"width:306px;height:252px;\" version=\"1.1\" viewBox=\"0 0 306 252\" width=\"306px\" zoomAndPan=\"magnify\"><defs/><g><!--MD5=[fbc87193dbaf4d95561dea2c320d4a47]\n",
       "cluster E1--><a href=\"psysml:a19fc987-58b9-4365-8e05-8e082939198f\" target=\"_top\" title=\"psysml:a19fc987-58b9-4365-8e05-8e082939198f\" xlink:actuate=\"onRequest\" xlink:href=\"psysml:a19fc987-58b9-4365-8e05-8e082939198f\" xlink:show=\"new\" xlink:title=\"psysml:a19fc987-58b9-4365-8e05-8e082939198f\" xlink:type=\"simple\"><polygon fill=\"#FFFFFF\" points=\"16,6,163,6,170,28.2969,284,28.2969,284,240,16,240,16,6\" style=\"stroke: #000000; stroke-width: 1.5;\"/><line style=\"stroke: #000000; stroke-width: 1.5;\" x1=\"16\" x2=\"170\" y1=\"28.2969\" y2=\"28.2969\"/><text fill=\"#000000\" font-family=\"sans-serif\" font-size=\"14\" font-weight=\"bold\" lengthAdjust=\"spacingAndGlyphs\" textLength=\"141\" x=\"20\" y=\"20.9951\">PrivateImportTest</text></a><!--MD5=[e4f7fae6ed58524ba242bb0b0d3be6b7]\n",
       "cluster E2--><a href=\"psysml:0afae52f-013a-41db-84e1-dbe02c327088\" target=\"_top\" title=\"psysml:0afae52f-013a-41db-84e1-dbe02c327088\" xlink:actuate=\"onRequest\" xlink:href=\"psysml:0afae52f-013a-41db-84e1-dbe02c327088\" xlink:show=\"new\" xlink:title=\"psysml:0afae52f-013a-41db-84e1-dbe02c327088\" xlink:type=\"simple\"><polygon fill=\"#FFFFFF\" points=\"162,119,188,119,195,141.2969,260,141.2969,260,216,162,216,162,119\" style=\"stroke: #000000; stroke-width: 1.5;\"/><line style=\"stroke: #000000; stroke-width: 1.5;\" x1=\"162\" x2=\"195\" y1=\"141.2969\" y2=\"141.2969\"/><text fill=\"#000000\" font-family=\"sans-serif\" font-size=\"14\" font-weight=\"bold\" lengthAdjust=\"spacingAndGlyphs\" textLength=\"20\" x=\"166\" y=\"133.9951\">P1</text></a><!--MD5=[14e3b0961a2654348d326746436168a1]\n",
       "cluster E6--><a href=\"psysml:1d9d662c-22cb-416c-b8ab-bb9944386c4a\" target=\"_top\" title=\"psysml:1d9d662c-22cb-416c-b8ab-bb9944386c4a\" xlink:actuate=\"onRequest\" xlink:href=\"psysml:1d9d662c-22cb-416c-b8ab-bb9944386c4a\" xlink:show=\"new\" xlink:title=\"psysml:1d9d662c-22cb-416c-b8ab-bb9944386c4a\" xlink:type=\"simple\"><polygon fill=\"#FFFFFF\" points=\"40,119,66,119,73,141.2969,138,141.2969,138,216,40,216,40,119\" style=\"stroke: #000000; stroke-width: 1.5;\"/><line style=\"stroke: #000000; stroke-width: 1.5;\" x1=\"40\" x2=\"73\" y1=\"141.2969\" y2=\"141.2969\"/><text fill=\"#000000\" font-family=\"sans-serif\" font-size=\"14\" font-weight=\"bold\" lengthAdjust=\"spacingAndGlyphs\" textLength=\"20\" x=\"44\" y=\"133.9951\">P3</text></a><!--MD5=[270fce915f116d4de14055a7c1d9a0f3]\n",
       "class E5--><a href=\"psysml:0adc1dcd-eba4-4b19-b824-866ee03ed7de\" target=\"_top\" title=\"psysml:0adc1dcd-eba4-4b19-b824-866ee03ed7de\" xlink:actuate=\"onRequest\" xlink:href=\"psysml:0adc1dcd-eba4-4b19-b824-866ee03ed7de\" xlink:show=\"new\" xlink:title=\"psysml:0adc1dcd-eba4-4b19-b824-866ee03ed7de\" xlink:type=\"simple\"><rect fill=\"#FFFFFF\" height=\"45.9375\" id=\"E5\" rx=\"10\" ry=\"10\" style=\"stroke: #383838; stroke-width: 1.5;\" width=\"42\" x=\"190\" y=\"44.5\"/><text fill=\"#000000\" font-family=\"sans-serif\" font-size=\"12\" font-style=\"italic\" lengthAdjust=\"spacingAndGlyphs\" textLength=\"40\" x=\"191\" y=\"60.6387\">«part»</text><text fill=\"#000000\" font-family=\"sans-serif\" font-size=\"12\" lengthAdjust=\"spacingAndGlyphs\" textLength=\"22\" x=\"200\" y=\"74.6074\">x: A</text><line style=\"stroke: #383838; stroke-width: 1.5;\" x1=\"191\" x2=\"231\" y1=\"82.4375\" y2=\"82.4375\"/></a><!--MD5=[b9389687b975829384b498ac4b7476b2]\n",
       "class E8--><a href=\"psysml:b076f02a-ad00-46e0-858a-3e2f54feec2a\" target=\"_top\" title=\"psysml:b076f02a-ad00-46e0-858a-3e2f54feec2a\" xlink:actuate=\"onRequest\" xlink:href=\"psysml:b076f02a-ad00-46e0-858a-3e2f54feec2a\" xlink:show=\"new\" xlink:title=\"psysml:b076f02a-ad00-46e0-858a-3e2f54feec2a\" xlink:type=\"simple\"><rect fill=\"#FFFFFF\" height=\"45.9375\" id=\"E8\" rx=\"10\" ry=\"10\" style=\"stroke: #383838; stroke-width: 1.5;\" width=\"42\" x=\"107\" y=\"44.5\"/><text fill=\"#000000\" font-family=\"sans-serif\" font-size=\"12\" font-style=\"italic\" lengthAdjust=\"spacingAndGlyphs\" textLength=\"40\" x=\"108\" y=\"60.6387\">«part»</text><text fill=\"#000000\" font-family=\"sans-serif\" font-size=\"12\" lengthAdjust=\"spacingAndGlyphs\" textLength=\"21\" x=\"117.5\" y=\"74.6074\">z: B</text><line style=\"stroke: #383838; stroke-width: 1.5;\" x1=\"108\" x2=\"148\" y1=\"82.4375\" y2=\"82.4375\"/></a><!--MD5=[09b614a08d8cba4a07c9adeb5e0fee81]\n",
       "class E3--><a href=\"psysml:414aecf4-cab0-4d0d-b5e9-0bd22012706a\" target=\"_top\" title=\"psysml:414aecf4-cab0-4d0d-b5e9-0bd22012706a\" xlink:actuate=\"onRequest\" xlink:href=\"psysml:414aecf4-cab0-4d0d-b5e9-0bd22012706a\" xlink:show=\"new\" xlink:title=\"psysml:414aecf4-cab0-4d0d-b5e9-0bd22012706a\" xlink:type=\"simple\"><rect fill=\"#FFFFFF\" height=\"45.9375\" id=\"E3\" style=\"stroke: #383838; stroke-width: 1.5;\" width=\"66\" x=\"178\" y=\"154\"/><text fill=\"#000000\" font-family=\"sans-serif\" font-size=\"12\" font-style=\"italic\" lengthAdjust=\"spacingAndGlyphs\" textLength=\"64\" x=\"179\" y=\"170.1387\">«part def»</text><text fill=\"#000000\" font-family=\"sans-serif\" font-size=\"12\" lengthAdjust=\"spacingAndGlyphs\" textLength=\"8\" x=\"207\" y=\"184.1074\">A</text><line style=\"stroke: #383838; stroke-width: 1.5;\" x1=\"179\" x2=\"243\" y1=\"191.9375\" y2=\"191.9375\"/></a><a href=\"psysml:e62181a2-aa41-44c6-a86b-ee96628d0c50\" target=\"_top\" title=\"psysml:e62181a2-aa41-44c6-a86b-ee96628d0c50\" xlink:actuate=\"onRequest\" xlink:href=\"psysml:e62181a2-aa41-44c6-a86b-ee96628d0c50\" xlink:show=\"new\" xlink:title=\"psysml:e62181a2-aa41-44c6-a86b-ee96628d0c50\" xlink:type=\"simple\"><polygon fill=\"#FFFFFF\" points=\"32,41,58,41,65,63.2969,72,63.2969,72,93.5938,32,93.5938,32,41\" style=\"stroke: #000000; stroke-width: 1.5;\"/><line style=\"stroke: #000000; stroke-width: 1.5;\" x1=\"32\" x2=\"65\" y1=\"63.2969\" y2=\"63.2969\"/><text fill=\"#000000\" font-family=\"sans-serif\" font-size=\"14\" font-weight=\"bold\" lengthAdjust=\"spacingAndGlyphs\" textLength=\"20\" x=\"36\" y=\"55.9951\">P2</text></a><!--MD5=[2156ba9850f5573cc1fc38a6a4b2f02b]\n",
       "class E7--><a href=\"psysml:f619ebc7-1ca1-4b7d-a8d3-68584975adae\" target=\"_top\" title=\"psysml:f619ebc7-1ca1-4b7d-a8d3-68584975adae\" xlink:actuate=\"onRequest\" xlink:href=\"psysml:f619ebc7-1ca1-4b7d-a8d3-68584975adae\" xlink:show=\"new\" xlink:title=\"psysml:f619ebc7-1ca1-4b7d-a8d3-68584975adae\" xlink:type=\"simple\"><rect fill=\"#FFFFFF\" height=\"45.9375\" id=\"E7\" style=\"stroke: #383838; stroke-width: 1.5;\" width=\"66\" x=\"56\" y=\"154\"/><text fill=\"#000000\" font-family=\"sans-serif\" font-size=\"12\" font-style=\"italic\" lengthAdjust=\"spacingAndGlyphs\" textLength=\"64\" x=\"57\" y=\"170.1387\">«part def»</text><text fill=\"#000000\" font-family=\"sans-serif\" font-size=\"12\" lengthAdjust=\"spacingAndGlyphs\" textLength=\"8\" x=\"85\" y=\"184.1074\">B</text><line style=\"stroke: #383838; stroke-width: 1.5;\" x1=\"57\" x2=\"121\" y1=\"191.9375\" y2=\"191.9375\"/></a><!--MD5=[e9be52314489bd878ff4c7144b63c9e1]\n",
       "link E5 to E3--><a href=\"psysml:e8148481-e1af-4d30-a20f-345018eb1da9\" target=\"_top\" title=\"psysml:e8148481-e1af-4d30-a20f-345018eb1da9\" xlink:actuate=\"onRequest\" xlink:href=\"psysml:e8148481-e1af-4d30-a20f-345018eb1da9\" xlink:show=\"new\" xlink:title=\"psysml:e8148481-e1af-4d30-a20f-345018eb1da9\" xlink:type=\"simple\"><path d=\"M211,90.51 C211,102.89 211,118.78 211,133.48 \" fill=\"none\" id=\"E5-&gt;E3\" style=\"stroke: #383838; stroke-width: 1.0;\"/><polygon fill=\"#FFFFFF\" points=\"211,153.65,204,134.65,218,134.65,211,153.65\" style=\"stroke: #383838; stroke-width: 1.0;\"/><ellipse cx=\"206\" cy=\"128.95\" fill=\"#383838\" rx=\"2\" ry=\"2\" style=\"stroke: #383838; stroke-width: 1.0;\"/><ellipse cx=\"216\" cy=\"128.95\" fill=\"#383838\" rx=\"2\" ry=\"2\" style=\"stroke: #383838; stroke-width: 1.0;\"/></a><!--MD5=[bfa3c8b0d15052fdf50ae9310b491027]\n",
       "link E8 to E7--><a href=\"psysml:88eb6ab6-f030-4136-96c6-6d1b75343c8c\" target=\"_top\" title=\"psysml:88eb6ab6-f030-4136-96c6-6d1b75343c8c\" xlink:actuate=\"onRequest\" xlink:href=\"psysml:88eb6ab6-f030-4136-96c6-6d1b75343c8c\" xlink:show=\"new\" xlink:title=\"psysml:88eb6ab6-f030-4136-96c6-6d1b75343c8c\" xlink:type=\"simple\"><path d=\"M120.01,90.51 C115.39,103.25 109.42,119.7 103.96,134.76 \" fill=\"none\" id=\"E8-&gt;E7\" style=\"stroke: #383838; stroke-width: 1.0;\"/><polygon fill=\"#FFFFFF\" points=\"97.11,153.65,97.0036,133.4018,110.1656,138.1726,97.11,153.65\" style=\"stroke: #383838; stroke-width: 1.0;\"/><ellipse cx=\"100.8262\" cy=\"128.7245\" fill=\"#383838\" rx=\"2\" ry=\"2\" style=\"stroke: #383838; stroke-width: 1.0;\"/><ellipse cx=\"110.2277\" cy=\"132.1322\" fill=\"#383838\" rx=\"2\" ry=\"2\" style=\"stroke: #383838; stroke-width: 1.0;\"/></a><!--MD5=[37b6ac4f331c37008e83c2b975fe1a8c]\n",
       "@startuml\r\n",
       " skinparam monochrome true\r\n",
       "skinparam classbackgroundcolor white\r\n",
       "skinparam shadowing false\r\n",
       "skinparam wrapWidth 300\r\n",
       "hide circle\r\n",
       "\r\n",
       "package \"PrivateImportTest\" as E1  [[psysml:a19fc987-58b9-4365-8e05-8e082939198f ]]  {\r\n",
       "package \"P1\" as E2  [[psysml:0afae52f-013a-41db-84e1-dbe02c327088 ]]  {\r\n",
       "comp def \"A\" as E3  <<(T,blue)part def>> [[psysml:414aecf4-cab0-4d0d-b5e9-0bd22012706a ]] {\r\n",
       "}\r\n",
       "}\r\n",
       "package \"P2\" as E4  [[psysml:e62181a2-aa41-44c6-a86b-ee96628d0c50 ]]  {\r\n",
       "}\r\n",
       "comp usage \"x: A\" as E5  <<(T,blue)part>> [[psysml:0adc1dcd-eba4-4b19-b824-866ee03ed7de ]] {\r\n",
       "}\r\n",
       "package \"P3\" as E6  [[psysml:1d9d662c-22cb-416c-b8ab-bb9944386c4a ]]  {\r\n",
       "comp def \"B\" as E7  <<(T,blue)part def>> [[psysml:f619ebc7-1ca1-4b7d-a8d3-68584975adae ]] {\r\n",
       "}\r\n",
       "E5 - -:|> E3 [[psysml:e8148481-e1af-4d30-a20f-345018eb1da9 ]] \r\n",
       "}\r\n",
       "comp usage \"z: B\" as E8  <<(T,blue)part>> [[psysml:b076f02a-ad00-46e0-858a-3e2f54feec2a ]] {\r\n",
       "}\r\n",
       "E8 - -:|> E7 [[psysml:88eb6ab6-f030-4136-96c6-6d1b75343c8c ]] \r\n",
       "}\r\n",
       "@enduml\r\n",
       "\n",
       "PlantUML version 1.2020.13(Sat Jun 13 12:26:38 UTC 2020)\n",
       "(EPL source distribution)\n",
       "Java Runtime: OpenJDK Runtime Environment\n",
       "JVM: OpenJDK 64-Bit Server VM\n",
       "Default Encoding: UTF-8\n",
       "Language: en\n",
       "Country: null\n",
       "--></g></svg>"
      ]
     },
     "execution_count": 3,
     "metadata": {},
     "output_type": "execute_result"
    }
   ],
   "source": [
    "%viz --style=\"COMPTREE\" --view=\"Tree\" \"PrivateImportTest\""
   ]
  },
  {
   "cell_type": "code",
   "execution_count": 4,
   "id": "attempted-possibility",
   "metadata": {
    "execution": {
     "iopub.execute_input": "2021-03-25T09:26:37.136491Z",
     "iopub.status.busy": "2021-03-25T09:26:37.136061Z",
     "iopub.status.idle": "2021-03-25T09:26:37.149842Z",
     "shell.execute_reply": "2021-03-25T09:26:37.148618Z"
    }
   },
   "outputs": [
    {
     "data": {
      "image/svg+xml": [
       "<?xml version=\"1.0\" encoding=\"UTF-8\" standalone=\"no\"?><svg xmlns=\"http://www.w3.org/2000/svg\" xmlns:xlink=\"http://www.w3.org/1999/xlink\" contentScriptType=\"application/ecmascript\" contentStyleType=\"text/css\" height=\"12px\" preserveAspectRatio=\"none\" style=\"width:12px;height:12px;\" version=\"1.1\" viewBox=\"0 0 12 12\" width=\"12px\" zoomAndPan=\"magnify\"><defs/><g><!--MD5=[f19188ef49e11757b5c46753f95d9edc]\n",
       "@startuml\r\n",
       " skinparam monochrome true\r\n",
       "skinparam classbackgroundcolor white\r\n",
       "skinparam shadowing false\r\n",
       "skinparam wrapWidth 300\r\n",
       "hide circle\r\n",
       "\r\n",
       "@enduml\r\n",
       "\n",
       "PlantUML version 1.2020.13(Sat Jun 13 12:26:38 UTC 2020)\n",
       "(EPL source distribution)\n",
       "Java Runtime: OpenJDK Runtime Environment\n",
       "JVM: OpenJDK 64-Bit Server VM\n",
       "Default Encoding: UTF-8\n",
       "Language: en\n",
       "Country: null\n",
       "--></g></svg>"
      ]
     },
     "execution_count": 4,
     "metadata": {},
     "output_type": "execute_result"
    }
   ],
   "source": [
    "%viz --style=\"COMPTREE\" --view=\"State\" \"PrivateImportTest\""
   ]
  },
  {
   "cell_type": "code",
   "execution_count": 5,
   "id": "french-injection",
   "metadata": {
    "execution": {
     "iopub.execute_input": "2021-03-25T09:26:37.202504Z",
     "iopub.status.busy": "2021-03-25T09:26:37.201781Z",
     "iopub.status.idle": "2021-03-25T09:26:37.302889Z",
     "shell.execute_reply": "2021-03-25T09:26:37.302298Z"
    }
   },
   "outputs": [
    {
     "data": {
      "image/svg+xml": [
       "<?xml version=\"1.0\" encoding=\"UTF-8\" standalone=\"no\"?><svg xmlns=\"http://www.w3.org/2000/svg\" xmlns:xlink=\"http://www.w3.org/1999/xlink\" contentScriptType=\"application/ecmascript\" contentStyleType=\"text/css\" height=\"179px\" preserveAspectRatio=\"none\" style=\"width:539px;height:179px;\" version=\"1.1\" viewBox=\"0 0 539 179\" width=\"539px\" zoomAndPan=\"magnify\"><defs/><g><!--MD5=[fbc87193dbaf4d95561dea2c320d4a47]\n",
       "cluster E1--><a href=\"psysml:a19fc987-58b9-4365-8e05-8e082939198f\" target=\"_top\" title=\"psysml:a19fc987-58b9-4365-8e05-8e082939198f\" xlink:actuate=\"onRequest\" xlink:href=\"psysml:a19fc987-58b9-4365-8e05-8e082939198f\" xlink:show=\"new\" xlink:title=\"psysml:a19fc987-58b9-4365-8e05-8e082939198f\" xlink:type=\"simple\"><polygon fill=\"#FFFFFF\" points=\"16,6,163,6,170,28.2969,517,28.2969,517,167,16,167,16,6\" style=\"stroke: #000000; stroke-width: 1.5;\"/><line style=\"stroke: #000000; stroke-width: 1.5;\" x1=\"16\" x2=\"170\" y1=\"28.2969\" y2=\"28.2969\"/><text fill=\"#000000\" font-family=\"sans-serif\" font-size=\"14\" font-weight=\"bold\" lengthAdjust=\"spacingAndGlyphs\" textLength=\"141\" x=\"20\" y=\"20.9951\">PrivateImportTest</text></a><!--MD5=[e4f7fae6ed58524ba242bb0b0d3be6b7]\n",
       "cluster E2--><a href=\"psysml:0afae52f-013a-41db-84e1-dbe02c327088\" target=\"_top\" title=\"psysml:0afae52f-013a-41db-84e1-dbe02c327088\" xlink:actuate=\"onRequest\" xlink:href=\"psysml:0afae52f-013a-41db-84e1-dbe02c327088\" xlink:show=\"new\" xlink:title=\"psysml:0afae52f-013a-41db-84e1-dbe02c327088\" xlink:type=\"simple\"><polygon fill=\"#FFFFFF\" points=\"389,49,415,49,422,71.2969,493,71.2969,493,143,389,143,389,49\" style=\"stroke: #000000; stroke-width: 1.5;\"/><line style=\"stroke: #000000; stroke-width: 1.5;\" x1=\"389\" x2=\"422\" y1=\"71.2969\" y2=\"71.2969\"/><text fill=\"#000000\" font-family=\"sans-serif\" font-size=\"14\" font-weight=\"bold\" lengthAdjust=\"spacingAndGlyphs\" textLength=\"20\" x=\"393\" y=\"63.9951\">P1</text></a><!--MD5=[14e3b0961a2654348d326746436168a1]\n",
       "cluster E6--><a href=\"psysml:1d9d662c-22cb-416c-b8ab-bb9944386c4a\" target=\"_top\" title=\"psysml:1d9d662c-22cb-416c-b8ab-bb9944386c4a\" xlink:actuate=\"onRequest\" xlink:href=\"psysml:1d9d662c-22cb-416c-b8ab-bb9944386c4a\" xlink:show=\"new\" xlink:title=\"psysml:1d9d662c-22cb-416c-b8ab-bb9944386c4a\" xlink:type=\"simple\"><polygon fill=\"#FFFFFF\" points=\"261,49,287,49,294,71.2969,365,71.2969,365,143,261,143,261,49\" style=\"stroke: #000000; stroke-width: 1.5;\"/><line style=\"stroke: #000000; stroke-width: 1.5;\" x1=\"261\" x2=\"294\" y1=\"71.2969\" y2=\"71.2969\"/><text fill=\"#000000\" font-family=\"sans-serif\" font-size=\"14\" font-weight=\"bold\" lengthAdjust=\"spacingAndGlyphs\" textLength=\"20\" x=\"265\" y=\"63.9951\">P3</text></a><g id=\"E1.E2.E3\"><a href=\"psysml:414aecf4-cab0-4d0d-b5e9-0bd22012706a\" target=\"_top\" title=\"psysml:414aecf4-cab0-4d0d-b5e9-0bd22012706a\" xlink:actuate=\"onRequest\" xlink:href=\"psysml:414aecf4-cab0-4d0d-b5e9-0bd22012706a\" xlink:show=\"new\" xlink:title=\"psysml:414aecf4-cab0-4d0d-b5e9-0bd22012706a\" xlink:type=\"simple\"><rect fill=\"#FFFFFF\" height=\"42.9375\" id=\"E3\" style=\"stroke: #383838; stroke-width: 1.5;\" width=\"71\" x=\"405.5\" y=\"84\"/><rect fill=\"#F8F8F8\" height=\"37.9375\" style=\"stroke: #383838; stroke-width: 1.5;\" width=\"71\" x=\"405.5\" y=\"84\"/><text fill=\"#000000\" font-family=\"sans-serif\" font-size=\"12\" font-style=\"italic\" lengthAdjust=\"spacingAndGlyphs\" textLength=\"64\" x=\"409\" y=\"100.1387\">«part def»</text><text fill=\"#000000\" font-family=\"sans-serif\" font-size=\"12\" lengthAdjust=\"spacingAndGlyphs\" textLength=\"8\" x=\"437\" y=\"114.1074\">A</text></a></g><a href=\"psysml:e62181a2-aa41-44c6-a86b-ee96628d0c50\" target=\"_top\" title=\"psysml:e62181a2-aa41-44c6-a86b-ee96628d0c50\" xlink:actuate=\"onRequest\" xlink:href=\"psysml:e62181a2-aa41-44c6-a86b-ee96628d0c50\" xlink:show=\"new\" xlink:title=\"psysml:e62181a2-aa41-44c6-a86b-ee96628d0c50\" xlink:type=\"simple\"><polygon fill=\"#FFFFFF\" points=\"202,79,228,79,235,101.2969,242,101.2969,242,131.5938,202,131.5938,202,79\" style=\"stroke: #000000; stroke-width: 1.5;\"/><line style=\"stroke: #000000; stroke-width: 1.5;\" x1=\"202\" x2=\"235\" y1=\"101.2969\" y2=\"101.2969\"/><text fill=\"#000000\" font-family=\"sans-serif\" font-size=\"14\" font-weight=\"bold\" lengthAdjust=\"spacingAndGlyphs\" textLength=\"20\" x=\"206\" y=\"93.9951\">P2</text></a><g id=\"E1.E5\"><a href=\"psysml:0adc1dcd-eba4-4b19-b824-866ee03ed7de\" target=\"_top\" title=\"psysml:0adc1dcd-eba4-4b19-b824-866ee03ed7de\" xlink:actuate=\"onRequest\" xlink:href=\"psysml:0adc1dcd-eba4-4b19-b824-866ee03ed7de\" xlink:show=\"new\" xlink:title=\"psysml:0adc1dcd-eba4-4b19-b824-866ee03ed7de\" xlink:type=\"simple\"><rect fill=\"#FFFFFF\" height=\"40\" id=\"E5\" rx=\"10\" ry=\"10\" style=\"stroke: #383838; stroke-width: 1.5;\" width=\"50\" x=\"117\" y=\"85.5\"/><rect fill=\"#F8F8F8\" height=\"23.9688\" rx=\"10\" ry=\"10\" style=\"stroke: #F8F8F8; stroke-width: 1.5;\" width=\"50\" x=\"117\" y=\"85.5\"/><rect fill=\"#F8F8F8\" height=\"10\" style=\"stroke: #F8F8F8; stroke-width: 1.5;\" width=\"50\" x=\"117\" y=\"99.4688\"/><rect fill=\"none\" height=\"40\" id=\"E5\" rx=\"10\" ry=\"10\" style=\"stroke: #383838; stroke-width: 1.5;\" width=\"50\" x=\"117\" y=\"85.5\"/><text fill=\"#000000\" font-family=\"sans-serif\" font-size=\"12\" lengthAdjust=\"spacingAndGlyphs\" textLength=\"22\" x=\"131\" y=\"101.6387\">x: A</text></a></g><g id=\"E1.E6.E7\"><a href=\"psysml:f619ebc7-1ca1-4b7d-a8d3-68584975adae\" target=\"_top\" title=\"psysml:f619ebc7-1ca1-4b7d-a8d3-68584975adae\" xlink:actuate=\"onRequest\" xlink:href=\"psysml:f619ebc7-1ca1-4b7d-a8d3-68584975adae\" xlink:show=\"new\" xlink:title=\"psysml:f619ebc7-1ca1-4b7d-a8d3-68584975adae\" xlink:type=\"simple\"><rect fill=\"#FFFFFF\" height=\"42.9375\" id=\"E7\" style=\"stroke: #383838; stroke-width: 1.5;\" width=\"71\" x=\"277.5\" y=\"84\"/><rect fill=\"#F8F8F8\" height=\"37.9375\" style=\"stroke: #383838; stroke-width: 1.5;\" width=\"71\" x=\"277.5\" y=\"84\"/><text fill=\"#000000\" font-family=\"sans-serif\" font-size=\"12\" font-style=\"italic\" lengthAdjust=\"spacingAndGlyphs\" textLength=\"64\" x=\"281\" y=\"100.1387\">«part def»</text><text fill=\"#000000\" font-family=\"sans-serif\" font-size=\"12\" lengthAdjust=\"spacingAndGlyphs\" textLength=\"8\" x=\"309\" y=\"114.1074\">B</text></a></g><g id=\"E1.E8\"><a href=\"psysml:b076f02a-ad00-46e0-858a-3e2f54feec2a\" target=\"_top\" title=\"psysml:b076f02a-ad00-46e0-858a-3e2f54feec2a\" xlink:actuate=\"onRequest\" xlink:href=\"psysml:b076f02a-ad00-46e0-858a-3e2f54feec2a\" xlink:show=\"new\" xlink:title=\"psysml:b076f02a-ad00-46e0-858a-3e2f54feec2a\" xlink:type=\"simple\"><rect fill=\"#FFFFFF\" height=\"40\" id=\"E8\" rx=\"10\" ry=\"10\" style=\"stroke: #383838; stroke-width: 1.5;\" width=\"50\" x=\"32\" y=\"85.5\"/><rect fill=\"#F8F8F8\" height=\"23.9688\" rx=\"10\" ry=\"10\" style=\"stroke: #F8F8F8; stroke-width: 1.5;\" width=\"50\" x=\"32\" y=\"85.5\"/><rect fill=\"#F8F8F8\" height=\"10\" style=\"stroke: #F8F8F8; stroke-width: 1.5;\" width=\"50\" x=\"32\" y=\"99.4688\"/><rect fill=\"none\" height=\"40\" id=\"E8\" rx=\"10\" ry=\"10\" style=\"stroke: #383838; stroke-width: 1.5;\" width=\"50\" x=\"32\" y=\"85.5\"/><text fill=\"#000000\" font-family=\"sans-serif\" font-size=\"12\" lengthAdjust=\"spacingAndGlyphs\" textLength=\"21\" x=\"46.5\" y=\"101.6387\">z: B</text></a></g><!--MD5=[c2f407ac7ad87564ba2a553ac8137eee]\n",
       "@startuml\r\n",
       "skinparam ranksep 8\r\n",
       "skinparam rectangle {\r\n",
       " backgroundColor<<block>> LightGreen\r\n",
       "}\r\n",
       " skinparam monochrome true\r\n",
       "skinparam classbackgroundcolor white\r\n",
       "skinparam shadowing false\r\n",
       "skinparam wrapWidth 300\r\n",
       "hide circle\r\n",
       "\r\n",
       "package \"PrivateImportTest\" as E1  [[psysml:a19fc987-58b9-4365-8e05-8e082939198f ]]  {\r\n",
       "package \"P1\" as E2  [[psysml:0afae52f-013a-41db-84e1-dbe02c327088 ]]  {\r\n",
       "rec def \"A\" as E3  <<(T,blue)part def>> [[psysml:414aecf4-cab0-4d0d-b5e9-0bd22012706a ]] {\r\n",
       "}\r\n",
       "}\r\n",
       "package \"P2\" as E4  [[psysml:e62181a2-aa41-44c6-a86b-ee96628d0c50 ]]  {\r\n",
       "}\r\n",
       "rec usage \"x: A\" as E5  [[psysml:0adc1dcd-eba4-4b19-b824-866ee03ed7de ]] {\r\n",
       "}\r\n",
       "package \"P3\" as E6  [[psysml:1d9d662c-22cb-416c-b8ab-bb9944386c4a ]]  {\r\n",
       "rec def \"B\" as E7  <<(T,blue)part def>> [[psysml:f619ebc7-1ca1-4b7d-a8d3-68584975adae ]] {\r\n",
       "}\r\n",
       "}\r\n",
       "rec usage \"z: B\" as E8  [[psysml:b076f02a-ad00-46e0-858a-3e2f54feec2a ]] {\r\n",
       "}\r\n",
       "}\r\n",
       "@enduml\r\n",
       "\n",
       "PlantUML version 1.2020.13(Sat Jun 13 12:26:38 UTC 2020)\n",
       "(EPL source distribution)\n",
       "Java Runtime: OpenJDK Runtime Environment\n",
       "JVM: OpenJDK 64-Bit Server VM\n",
       "Default Encoding: UTF-8\n",
       "Language: en\n",
       "Country: null\n",
       "--></g></svg>"
      ]
     },
     "execution_count": 5,
     "metadata": {},
     "output_type": "execute_result"
    }
   ],
   "source": [
    "%viz --style=\"COMPTREE\" --view=\"Interconnection\" \"PrivateImportTest\""
   ]
  },
  {
   "cell_type": "code",
   "execution_count": 6,
   "id": "distant-course",
   "metadata": {
    "execution": {
     "iopub.execute_input": "2021-03-25T09:26:37.353611Z",
     "iopub.status.busy": "2021-03-25T09:26:37.352168Z",
     "iopub.status.idle": "2021-03-25T09:26:37.366987Z",
     "shell.execute_reply": "2021-03-25T09:26:37.366034Z"
    }
   },
   "outputs": [
    {
     "data": {
      "image/svg+xml": [
       "<?xml version=\"1.0\" encoding=\"UTF-8\" standalone=\"no\"?><svg xmlns=\"http://www.w3.org/2000/svg\" xmlns:xlink=\"http://www.w3.org/1999/xlink\" contentScriptType=\"application/ecmascript\" contentStyleType=\"text/css\" height=\"12px\" preserveAspectRatio=\"none\" style=\"width:12px;height:12px;\" version=\"1.1\" viewBox=\"0 0 12 12\" width=\"12px\" zoomAndPan=\"magnify\"><defs/><g><!--MD5=[655b888544ca4751ea36af1068543f84]\n",
       "@startuml\r\n",
       "skinparam ranksep 8\r\n",
       " skinparam monochrome true\r\n",
       "skinparam classbackgroundcolor white\r\n",
       "skinparam shadowing false\r\n",
       "skinparam wrapWidth 300\r\n",
       "hide circle\r\n",
       "\r\n",
       "@enduml\r\n",
       "\n",
       "PlantUML version 1.2020.13(Sat Jun 13 12:26:38 UTC 2020)\n",
       "(EPL source distribution)\n",
       "Java Runtime: OpenJDK Runtime Environment\n",
       "JVM: OpenJDK 64-Bit Server VM\n",
       "Default Encoding: UTF-8\n",
       "Language: en\n",
       "Country: null\n",
       "--></g></svg>"
      ]
     },
     "execution_count": 6,
     "metadata": {},
     "output_type": "execute_result"
    }
   ],
   "source": [
    "%viz --style=\"COMPTREE\" --view=\"Action\" \"PrivateImportTest\""
   ]
  },
  {
   "cell_type": "code",
   "execution_count": 7,
   "id": "medium-mission",
   "metadata": {
    "execution": {
     "iopub.execute_input": "2021-03-25T09:26:37.419113Z",
     "iopub.status.busy": "2021-03-25T09:26:37.418723Z",
     "iopub.status.idle": "2021-03-25T09:26:37.511819Z",
     "shell.execute_reply": "2021-03-25T09:26:37.510696Z"
    }
   },
   "outputs": [
    {
     "data": {
      "image/svg+xml": [
       "<?xml version=\"1.0\" encoding=\"UTF-8\" standalone=\"no\"?><svg xmlns=\"http://www.w3.org/2000/svg\" xmlns:xlink=\"http://www.w3.org/1999/xlink\" contentScriptType=\"application/ecmascript\" contentStyleType=\"text/css\" height=\"252px\" preserveAspectRatio=\"none\" style=\"width:306px;height:252px;\" version=\"1.1\" viewBox=\"0 0 306 252\" width=\"306px\" zoomAndPan=\"magnify\"><defs/><g><!--MD5=[fbc87193dbaf4d95561dea2c320d4a47]\n",
       "cluster E1--><a href=\"psysml:a19fc987-58b9-4365-8e05-8e082939198f\" target=\"_top\" title=\"psysml:a19fc987-58b9-4365-8e05-8e082939198f\" xlink:actuate=\"onRequest\" xlink:href=\"psysml:a19fc987-58b9-4365-8e05-8e082939198f\" xlink:show=\"new\" xlink:title=\"psysml:a19fc987-58b9-4365-8e05-8e082939198f\" xlink:type=\"simple\"><polygon fill=\"#FFFFFF\" points=\"16,6,163,6,170,28.2969,284,28.2969,284,240,16,240,16,6\" style=\"stroke: #000000; stroke-width: 1.5;\"/><line style=\"stroke: #000000; stroke-width: 1.5;\" x1=\"16\" x2=\"170\" y1=\"28.2969\" y2=\"28.2969\"/><text fill=\"#000000\" font-family=\"sans-serif\" font-size=\"14\" font-weight=\"bold\" lengthAdjust=\"spacingAndGlyphs\" textLength=\"141\" x=\"20\" y=\"20.9951\">PrivateImportTest</text></a><!--MD5=[e4f7fae6ed58524ba242bb0b0d3be6b7]\n",
       "cluster E2--><a href=\"psysml:0afae52f-013a-41db-84e1-dbe02c327088\" target=\"_top\" title=\"psysml:0afae52f-013a-41db-84e1-dbe02c327088\" xlink:actuate=\"onRequest\" xlink:href=\"psysml:0afae52f-013a-41db-84e1-dbe02c327088\" xlink:show=\"new\" xlink:title=\"psysml:0afae52f-013a-41db-84e1-dbe02c327088\" xlink:type=\"simple\"><polygon fill=\"#FFFFFF\" points=\"162,119,188,119,195,141.2969,260,141.2969,260,216,162,216,162,119\" style=\"stroke: #000000; stroke-width: 1.5;\"/><line style=\"stroke: #000000; stroke-width: 1.5;\" x1=\"162\" x2=\"195\" y1=\"141.2969\" y2=\"141.2969\"/><text fill=\"#000000\" font-family=\"sans-serif\" font-size=\"14\" font-weight=\"bold\" lengthAdjust=\"spacingAndGlyphs\" textLength=\"20\" x=\"166\" y=\"133.9951\">P1</text></a><!--MD5=[14e3b0961a2654348d326746436168a1]\n",
       "cluster E6--><a href=\"psysml:1d9d662c-22cb-416c-b8ab-bb9944386c4a\" target=\"_top\" title=\"psysml:1d9d662c-22cb-416c-b8ab-bb9944386c4a\" xlink:actuate=\"onRequest\" xlink:href=\"psysml:1d9d662c-22cb-416c-b8ab-bb9944386c4a\" xlink:show=\"new\" xlink:title=\"psysml:1d9d662c-22cb-416c-b8ab-bb9944386c4a\" xlink:type=\"simple\"><polygon fill=\"#FFFFFF\" points=\"40,119,66,119,73,141.2969,138,141.2969,138,216,40,216,40,119\" style=\"stroke: #000000; stroke-width: 1.5;\"/><line style=\"stroke: #000000; stroke-width: 1.5;\" x1=\"40\" x2=\"73\" y1=\"141.2969\" y2=\"141.2969\"/><text fill=\"#000000\" font-family=\"sans-serif\" font-size=\"14\" font-weight=\"bold\" lengthAdjust=\"spacingAndGlyphs\" textLength=\"20\" x=\"44\" y=\"133.9951\">P3</text></a><!--MD5=[270fce915f116d4de14055a7c1d9a0f3]\n",
       "class E5--><a href=\"psysml:0adc1dcd-eba4-4b19-b824-866ee03ed7de\" target=\"_top\" title=\"psysml:0adc1dcd-eba4-4b19-b824-866ee03ed7de\" xlink:actuate=\"onRequest\" xlink:href=\"psysml:0adc1dcd-eba4-4b19-b824-866ee03ed7de\" xlink:show=\"new\" xlink:title=\"psysml:0adc1dcd-eba4-4b19-b824-866ee03ed7de\" xlink:type=\"simple\"><rect fill=\"#FFFFFF\" height=\"45.9375\" id=\"E5\" rx=\"10\" ry=\"10\" style=\"stroke: #383838; stroke-width: 1.5;\" width=\"42\" x=\"190\" y=\"44.5\"/><text fill=\"#000000\" font-family=\"sans-serif\" font-size=\"12\" font-style=\"italic\" lengthAdjust=\"spacingAndGlyphs\" textLength=\"40\" x=\"191\" y=\"60.6387\">«part»</text><text fill=\"#000000\" font-family=\"sans-serif\" font-size=\"12\" lengthAdjust=\"spacingAndGlyphs\" textLength=\"22\" x=\"200\" y=\"74.6074\">x: A</text><line style=\"stroke: #383838; stroke-width: 1.5;\" x1=\"191\" x2=\"231\" y1=\"82.4375\" y2=\"82.4375\"/></a><!--MD5=[b9389687b975829384b498ac4b7476b2]\n",
       "class E8--><a href=\"psysml:b076f02a-ad00-46e0-858a-3e2f54feec2a\" target=\"_top\" title=\"psysml:b076f02a-ad00-46e0-858a-3e2f54feec2a\" xlink:actuate=\"onRequest\" xlink:href=\"psysml:b076f02a-ad00-46e0-858a-3e2f54feec2a\" xlink:show=\"new\" xlink:title=\"psysml:b076f02a-ad00-46e0-858a-3e2f54feec2a\" xlink:type=\"simple\"><rect fill=\"#FFFFFF\" height=\"45.9375\" id=\"E8\" rx=\"10\" ry=\"10\" style=\"stroke: #383838; stroke-width: 1.5;\" width=\"42\" x=\"107\" y=\"44.5\"/><text fill=\"#000000\" font-family=\"sans-serif\" font-size=\"12\" font-style=\"italic\" lengthAdjust=\"spacingAndGlyphs\" textLength=\"40\" x=\"108\" y=\"60.6387\">«part»</text><text fill=\"#000000\" font-family=\"sans-serif\" font-size=\"12\" lengthAdjust=\"spacingAndGlyphs\" textLength=\"21\" x=\"117.5\" y=\"74.6074\">z: B</text><line style=\"stroke: #383838; stroke-width: 1.5;\" x1=\"108\" x2=\"148\" y1=\"82.4375\" y2=\"82.4375\"/></a><!--MD5=[09b614a08d8cba4a07c9adeb5e0fee81]\n",
       "class E3--><a href=\"psysml:414aecf4-cab0-4d0d-b5e9-0bd22012706a\" target=\"_top\" title=\"psysml:414aecf4-cab0-4d0d-b5e9-0bd22012706a\" xlink:actuate=\"onRequest\" xlink:href=\"psysml:414aecf4-cab0-4d0d-b5e9-0bd22012706a\" xlink:show=\"new\" xlink:title=\"psysml:414aecf4-cab0-4d0d-b5e9-0bd22012706a\" xlink:type=\"simple\"><rect fill=\"#FFFFFF\" height=\"45.9375\" id=\"E3\" style=\"stroke: #383838; stroke-width: 1.5;\" width=\"66\" x=\"178\" y=\"154\"/><text fill=\"#000000\" font-family=\"sans-serif\" font-size=\"12\" font-style=\"italic\" lengthAdjust=\"spacingAndGlyphs\" textLength=\"64\" x=\"179\" y=\"170.1387\">«part def»</text><text fill=\"#000000\" font-family=\"sans-serif\" font-size=\"12\" lengthAdjust=\"spacingAndGlyphs\" textLength=\"8\" x=\"207\" y=\"184.1074\">A</text><line style=\"stroke: #383838; stroke-width: 1.5;\" x1=\"179\" x2=\"243\" y1=\"191.9375\" y2=\"191.9375\"/></a><a href=\"psysml:e62181a2-aa41-44c6-a86b-ee96628d0c50\" target=\"_top\" title=\"psysml:e62181a2-aa41-44c6-a86b-ee96628d0c50\" xlink:actuate=\"onRequest\" xlink:href=\"psysml:e62181a2-aa41-44c6-a86b-ee96628d0c50\" xlink:show=\"new\" xlink:title=\"psysml:e62181a2-aa41-44c6-a86b-ee96628d0c50\" xlink:type=\"simple\"><polygon fill=\"#FFFFFF\" points=\"32,41,58,41,65,63.2969,72,63.2969,72,93.5938,32,93.5938,32,41\" style=\"stroke: #000000; stroke-width: 1.5;\"/><line style=\"stroke: #000000; stroke-width: 1.5;\" x1=\"32\" x2=\"65\" y1=\"63.2969\" y2=\"63.2969\"/><text fill=\"#000000\" font-family=\"sans-serif\" font-size=\"14\" font-weight=\"bold\" lengthAdjust=\"spacingAndGlyphs\" textLength=\"20\" x=\"36\" y=\"55.9951\">P2</text></a><!--MD5=[2156ba9850f5573cc1fc38a6a4b2f02b]\n",
       "class E7--><a href=\"psysml:f619ebc7-1ca1-4b7d-a8d3-68584975adae\" target=\"_top\" title=\"psysml:f619ebc7-1ca1-4b7d-a8d3-68584975adae\" xlink:actuate=\"onRequest\" xlink:href=\"psysml:f619ebc7-1ca1-4b7d-a8d3-68584975adae\" xlink:show=\"new\" xlink:title=\"psysml:f619ebc7-1ca1-4b7d-a8d3-68584975adae\" xlink:type=\"simple\"><rect fill=\"#FFFFFF\" height=\"45.9375\" id=\"E7\" style=\"stroke: #383838; stroke-width: 1.5;\" width=\"66\" x=\"56\" y=\"154\"/><text fill=\"#000000\" font-family=\"sans-serif\" font-size=\"12\" font-style=\"italic\" lengthAdjust=\"spacingAndGlyphs\" textLength=\"64\" x=\"57\" y=\"170.1387\">«part def»</text><text fill=\"#000000\" font-family=\"sans-serif\" font-size=\"12\" lengthAdjust=\"spacingAndGlyphs\" textLength=\"8\" x=\"85\" y=\"184.1074\">B</text><line style=\"stroke: #383838; stroke-width: 1.5;\" x1=\"57\" x2=\"121\" y1=\"191.9375\" y2=\"191.9375\"/></a><!--MD5=[e9be52314489bd878ff4c7144b63c9e1]\n",
       "link E5 to E3--><a href=\"psysml:e8148481-e1af-4d30-a20f-345018eb1da9\" target=\"_top\" title=\"psysml:e8148481-e1af-4d30-a20f-345018eb1da9\" xlink:actuate=\"onRequest\" xlink:href=\"psysml:e8148481-e1af-4d30-a20f-345018eb1da9\" xlink:show=\"new\" xlink:title=\"psysml:e8148481-e1af-4d30-a20f-345018eb1da9\" xlink:type=\"simple\"><path d=\"M211,90.51 C211,102.89 211,118.78 211,133.48 \" fill=\"none\" id=\"E5-&gt;E3\" style=\"stroke: #383838; stroke-width: 1.0;\"/><polygon fill=\"#FFFFFF\" points=\"211,153.65,204,134.65,218,134.65,211,153.65\" style=\"stroke: #383838; stroke-width: 1.0;\"/><ellipse cx=\"206\" cy=\"128.95\" fill=\"#383838\" rx=\"2\" ry=\"2\" style=\"stroke: #383838; stroke-width: 1.0;\"/><ellipse cx=\"216\" cy=\"128.95\" fill=\"#383838\" rx=\"2\" ry=\"2\" style=\"stroke: #383838; stroke-width: 1.0;\"/></a><!--MD5=[bfa3c8b0d15052fdf50ae9310b491027]\n",
       "link E8 to E7--><a href=\"psysml:88eb6ab6-f030-4136-96c6-6d1b75343c8c\" target=\"_top\" title=\"psysml:88eb6ab6-f030-4136-96c6-6d1b75343c8c\" xlink:actuate=\"onRequest\" xlink:href=\"psysml:88eb6ab6-f030-4136-96c6-6d1b75343c8c\" xlink:show=\"new\" xlink:title=\"psysml:88eb6ab6-f030-4136-96c6-6d1b75343c8c\" xlink:type=\"simple\"><path d=\"M120.01,90.51 C115.39,103.25 109.42,119.7 103.96,134.76 \" fill=\"none\" id=\"E8-&gt;E7\" style=\"stroke: #383838; stroke-width: 1.0;\"/><polygon fill=\"#FFFFFF\" points=\"97.11,153.65,97.0036,133.4018,110.1656,138.1726,97.11,153.65\" style=\"stroke: #383838; stroke-width: 1.0;\"/><ellipse cx=\"100.8262\" cy=\"128.7245\" fill=\"#383838\" rx=\"2\" ry=\"2\" style=\"stroke: #383838; stroke-width: 1.0;\"/><ellipse cx=\"110.2277\" cy=\"132.1322\" fill=\"#383838\" rx=\"2\" ry=\"2\" style=\"stroke: #383838; stroke-width: 1.0;\"/></a><!--MD5=[37b6ac4f331c37008e83c2b975fe1a8c]\n",
       "@startuml\r\n",
       " skinparam monochrome true\r\n",
       "skinparam classbackgroundcolor white\r\n",
       "skinparam shadowing false\r\n",
       "skinparam wrapWidth 300\r\n",
       "hide circle\r\n",
       "\r\n",
       "package \"PrivateImportTest\" as E1  [[psysml:a19fc987-58b9-4365-8e05-8e082939198f ]]  {\r\n",
       "package \"P1\" as E2  [[psysml:0afae52f-013a-41db-84e1-dbe02c327088 ]]  {\r\n",
       "comp def \"A\" as E3  <<(T,blue)part def>> [[psysml:414aecf4-cab0-4d0d-b5e9-0bd22012706a ]] {\r\n",
       "}\r\n",
       "}\r\n",
       "package \"P2\" as E4  [[psysml:e62181a2-aa41-44c6-a86b-ee96628d0c50 ]]  {\r\n",
       "}\r\n",
       "comp usage \"x: A\" as E5  <<(T,blue)part>> [[psysml:0adc1dcd-eba4-4b19-b824-866ee03ed7de ]] {\r\n",
       "}\r\n",
       "package \"P3\" as E6  [[psysml:1d9d662c-22cb-416c-b8ab-bb9944386c4a ]]  {\r\n",
       "comp def \"B\" as E7  <<(T,blue)part def>> [[psysml:f619ebc7-1ca1-4b7d-a8d3-68584975adae ]] {\r\n",
       "}\r\n",
       "E5 - -:|> E3 [[psysml:e8148481-e1af-4d30-a20f-345018eb1da9 ]] \r\n",
       "}\r\n",
       "comp usage \"z: B\" as E8  <<(T,blue)part>> [[psysml:b076f02a-ad00-46e0-858a-3e2f54feec2a ]] {\r\n",
       "}\r\n",
       "E8 - -:|> E7 [[psysml:88eb6ab6-f030-4136-96c6-6d1b75343c8c ]] \r\n",
       "}\r\n",
       "@enduml\r\n",
       "\n",
       "PlantUML version 1.2020.13(Sat Jun 13 12:26:38 UTC 2020)\n",
       "(EPL source distribution)\n",
       "Java Runtime: OpenJDK Runtime Environment\n",
       "JVM: OpenJDK 64-Bit Server VM\n",
       "Default Encoding: UTF-8\n",
       "Language: en\n",
       "Country: null\n",
       "--></g></svg>"
      ]
     },
     "execution_count": 7,
     "metadata": {},
     "output_type": "execute_result"
    }
   ],
   "source": [
    "%viz --style=\"COMPTREE\" --view=\"Sequence\" \"PrivateImportTest\""
   ]
  },
  {
   "cell_type": "code",
   "execution_count": 8,
   "id": "concerned-screening",
   "metadata": {
    "execution": {
     "iopub.execute_input": "2021-03-25T09:26:37.567600Z",
     "iopub.status.busy": "2021-03-25T09:26:37.566900Z",
     "iopub.status.idle": "2021-03-25T09:26:37.665780Z",
     "shell.execute_reply": "2021-03-25T09:26:37.664972Z"
    }
   },
   "outputs": [
    {
     "data": {
      "image/svg+xml": [
       "<?xml version=\"1.0\" encoding=\"UTF-8\" standalone=\"no\"?><svg xmlns=\"http://www.w3.org/2000/svg\" xmlns:xlink=\"http://www.w3.org/1999/xlink\" contentScriptType=\"application/ecmascript\" contentStyleType=\"text/css\" height=\"252px\" preserveAspectRatio=\"none\" style=\"width:306px;height:252px;\" version=\"1.1\" viewBox=\"0 0 306 252\" width=\"306px\" zoomAndPan=\"magnify\"><defs/><g><!--MD5=[fbc87193dbaf4d95561dea2c320d4a47]\n",
       "cluster E1--><a href=\"psysml:a19fc987-58b9-4365-8e05-8e082939198f\" target=\"_top\" title=\"psysml:a19fc987-58b9-4365-8e05-8e082939198f\" xlink:actuate=\"onRequest\" xlink:href=\"psysml:a19fc987-58b9-4365-8e05-8e082939198f\" xlink:show=\"new\" xlink:title=\"psysml:a19fc987-58b9-4365-8e05-8e082939198f\" xlink:type=\"simple\"><polygon fill=\"#FFFFFF\" points=\"16,6,163,6,170,28.2969,284,28.2969,284,240,16,240,16,6\" style=\"stroke: #000000; stroke-width: 1.5;\"/><line style=\"stroke: #000000; stroke-width: 1.5;\" x1=\"16\" x2=\"170\" y1=\"28.2969\" y2=\"28.2969\"/><text fill=\"#000000\" font-family=\"sans-serif\" font-size=\"14\" font-weight=\"bold\" lengthAdjust=\"spacingAndGlyphs\" textLength=\"141\" x=\"20\" y=\"20.9951\">PrivateImportTest</text></a><!--MD5=[e4f7fae6ed58524ba242bb0b0d3be6b7]\n",
       "cluster E2--><a href=\"psysml:0afae52f-013a-41db-84e1-dbe02c327088\" target=\"_top\" title=\"psysml:0afae52f-013a-41db-84e1-dbe02c327088\" xlink:actuate=\"onRequest\" xlink:href=\"psysml:0afae52f-013a-41db-84e1-dbe02c327088\" xlink:show=\"new\" xlink:title=\"psysml:0afae52f-013a-41db-84e1-dbe02c327088\" xlink:type=\"simple\"><polygon fill=\"#FFFFFF\" points=\"162,119,188,119,195,141.2969,260,141.2969,260,216,162,216,162,119\" style=\"stroke: #000000; stroke-width: 1.5;\"/><line style=\"stroke: #000000; stroke-width: 1.5;\" x1=\"162\" x2=\"195\" y1=\"141.2969\" y2=\"141.2969\"/><text fill=\"#000000\" font-family=\"sans-serif\" font-size=\"14\" font-weight=\"bold\" lengthAdjust=\"spacingAndGlyphs\" textLength=\"20\" x=\"166\" y=\"133.9951\">P1</text></a><!--MD5=[14e3b0961a2654348d326746436168a1]\n",
       "cluster E6--><a href=\"psysml:1d9d662c-22cb-416c-b8ab-bb9944386c4a\" target=\"_top\" title=\"psysml:1d9d662c-22cb-416c-b8ab-bb9944386c4a\" xlink:actuate=\"onRequest\" xlink:href=\"psysml:1d9d662c-22cb-416c-b8ab-bb9944386c4a\" xlink:show=\"new\" xlink:title=\"psysml:1d9d662c-22cb-416c-b8ab-bb9944386c4a\" xlink:type=\"simple\"><polygon fill=\"#FFFFFF\" points=\"40,119,66,119,73,141.2969,138,141.2969,138,216,40,216,40,119\" style=\"stroke: #000000; stroke-width: 1.5;\"/><line style=\"stroke: #000000; stroke-width: 1.5;\" x1=\"40\" x2=\"73\" y1=\"141.2969\" y2=\"141.2969\"/><text fill=\"#000000\" font-family=\"sans-serif\" font-size=\"14\" font-weight=\"bold\" lengthAdjust=\"spacingAndGlyphs\" textLength=\"20\" x=\"44\" y=\"133.9951\">P3</text></a><!--MD5=[270fce915f116d4de14055a7c1d9a0f3]\n",
       "class E5--><a href=\"psysml:0adc1dcd-eba4-4b19-b824-866ee03ed7de\" target=\"_top\" title=\"psysml:0adc1dcd-eba4-4b19-b824-866ee03ed7de\" xlink:actuate=\"onRequest\" xlink:href=\"psysml:0adc1dcd-eba4-4b19-b824-866ee03ed7de\" xlink:show=\"new\" xlink:title=\"psysml:0adc1dcd-eba4-4b19-b824-866ee03ed7de\" xlink:type=\"simple\"><rect fill=\"#FFFFFF\" height=\"45.9375\" id=\"E5\" rx=\"10\" ry=\"10\" style=\"stroke: #383838; stroke-width: 1.5;\" width=\"42\" x=\"190\" y=\"44.5\"/><text fill=\"#000000\" font-family=\"sans-serif\" font-size=\"12\" font-style=\"italic\" lengthAdjust=\"spacingAndGlyphs\" textLength=\"40\" x=\"191\" y=\"60.6387\">«part»</text><text fill=\"#000000\" font-family=\"sans-serif\" font-size=\"12\" lengthAdjust=\"spacingAndGlyphs\" textLength=\"22\" x=\"200\" y=\"74.6074\">x: A</text><line style=\"stroke: #383838; stroke-width: 1.5;\" x1=\"191\" x2=\"231\" y1=\"82.4375\" y2=\"82.4375\"/></a><!--MD5=[b9389687b975829384b498ac4b7476b2]\n",
       "class E8--><a href=\"psysml:b076f02a-ad00-46e0-858a-3e2f54feec2a\" target=\"_top\" title=\"psysml:b076f02a-ad00-46e0-858a-3e2f54feec2a\" xlink:actuate=\"onRequest\" xlink:href=\"psysml:b076f02a-ad00-46e0-858a-3e2f54feec2a\" xlink:show=\"new\" xlink:title=\"psysml:b076f02a-ad00-46e0-858a-3e2f54feec2a\" xlink:type=\"simple\"><rect fill=\"#FFFFFF\" height=\"45.9375\" id=\"E8\" rx=\"10\" ry=\"10\" style=\"stroke: #383838; stroke-width: 1.5;\" width=\"42\" x=\"107\" y=\"44.5\"/><text fill=\"#000000\" font-family=\"sans-serif\" font-size=\"12\" font-style=\"italic\" lengthAdjust=\"spacingAndGlyphs\" textLength=\"40\" x=\"108\" y=\"60.6387\">«part»</text><text fill=\"#000000\" font-family=\"sans-serif\" font-size=\"12\" lengthAdjust=\"spacingAndGlyphs\" textLength=\"21\" x=\"117.5\" y=\"74.6074\">z: B</text><line style=\"stroke: #383838; stroke-width: 1.5;\" x1=\"108\" x2=\"148\" y1=\"82.4375\" y2=\"82.4375\"/></a><!--MD5=[09b614a08d8cba4a07c9adeb5e0fee81]\n",
       "class E3--><a href=\"psysml:414aecf4-cab0-4d0d-b5e9-0bd22012706a\" target=\"_top\" title=\"psysml:414aecf4-cab0-4d0d-b5e9-0bd22012706a\" xlink:actuate=\"onRequest\" xlink:href=\"psysml:414aecf4-cab0-4d0d-b5e9-0bd22012706a\" xlink:show=\"new\" xlink:title=\"psysml:414aecf4-cab0-4d0d-b5e9-0bd22012706a\" xlink:type=\"simple\"><rect fill=\"#FFFFFF\" height=\"45.9375\" id=\"E3\" style=\"stroke: #383838; stroke-width: 1.5;\" width=\"66\" x=\"178\" y=\"154\"/><text fill=\"#000000\" font-family=\"sans-serif\" font-size=\"12\" font-style=\"italic\" lengthAdjust=\"spacingAndGlyphs\" textLength=\"64\" x=\"179\" y=\"170.1387\">«part def»</text><text fill=\"#000000\" font-family=\"sans-serif\" font-size=\"12\" lengthAdjust=\"spacingAndGlyphs\" textLength=\"8\" x=\"207\" y=\"184.1074\">A</text><line style=\"stroke: #383838; stroke-width: 1.5;\" x1=\"179\" x2=\"243\" y1=\"191.9375\" y2=\"191.9375\"/></a><a href=\"psysml:e62181a2-aa41-44c6-a86b-ee96628d0c50\" target=\"_top\" title=\"psysml:e62181a2-aa41-44c6-a86b-ee96628d0c50\" xlink:actuate=\"onRequest\" xlink:href=\"psysml:e62181a2-aa41-44c6-a86b-ee96628d0c50\" xlink:show=\"new\" xlink:title=\"psysml:e62181a2-aa41-44c6-a86b-ee96628d0c50\" xlink:type=\"simple\"><polygon fill=\"#FFFFFF\" points=\"32,41,58,41,65,63.2969,72,63.2969,72,93.5938,32,93.5938,32,41\" style=\"stroke: #000000; stroke-width: 1.5;\"/><line style=\"stroke: #000000; stroke-width: 1.5;\" x1=\"32\" x2=\"65\" y1=\"63.2969\" y2=\"63.2969\"/><text fill=\"#000000\" font-family=\"sans-serif\" font-size=\"14\" font-weight=\"bold\" lengthAdjust=\"spacingAndGlyphs\" textLength=\"20\" x=\"36\" y=\"55.9951\">P2</text></a><!--MD5=[2156ba9850f5573cc1fc38a6a4b2f02b]\n",
       "class E7--><a href=\"psysml:f619ebc7-1ca1-4b7d-a8d3-68584975adae\" target=\"_top\" title=\"psysml:f619ebc7-1ca1-4b7d-a8d3-68584975adae\" xlink:actuate=\"onRequest\" xlink:href=\"psysml:f619ebc7-1ca1-4b7d-a8d3-68584975adae\" xlink:show=\"new\" xlink:title=\"psysml:f619ebc7-1ca1-4b7d-a8d3-68584975adae\" xlink:type=\"simple\"><rect fill=\"#FFFFFF\" height=\"45.9375\" id=\"E7\" style=\"stroke: #383838; stroke-width: 1.5;\" width=\"66\" x=\"56\" y=\"154\"/><text fill=\"#000000\" font-family=\"sans-serif\" font-size=\"12\" font-style=\"italic\" lengthAdjust=\"spacingAndGlyphs\" textLength=\"64\" x=\"57\" y=\"170.1387\">«part def»</text><text fill=\"#000000\" font-family=\"sans-serif\" font-size=\"12\" lengthAdjust=\"spacingAndGlyphs\" textLength=\"8\" x=\"85\" y=\"184.1074\">B</text><line style=\"stroke: #383838; stroke-width: 1.5;\" x1=\"57\" x2=\"121\" y1=\"191.9375\" y2=\"191.9375\"/></a><!--MD5=[e9be52314489bd878ff4c7144b63c9e1]\n",
       "link E5 to E3--><a href=\"psysml:e8148481-e1af-4d30-a20f-345018eb1da9\" target=\"_top\" title=\"psysml:e8148481-e1af-4d30-a20f-345018eb1da9\" xlink:actuate=\"onRequest\" xlink:href=\"psysml:e8148481-e1af-4d30-a20f-345018eb1da9\" xlink:show=\"new\" xlink:title=\"psysml:e8148481-e1af-4d30-a20f-345018eb1da9\" xlink:type=\"simple\"><path d=\"M211,90.51 C211,102.89 211,118.78 211,133.48 \" fill=\"none\" id=\"E5-&gt;E3\" style=\"stroke: #383838; stroke-width: 1.0;\"/><polygon fill=\"#FFFFFF\" points=\"211,153.65,204,134.65,218,134.65,211,153.65\" style=\"stroke: #383838; stroke-width: 1.0;\"/><ellipse cx=\"206\" cy=\"128.95\" fill=\"#383838\" rx=\"2\" ry=\"2\" style=\"stroke: #383838; stroke-width: 1.0;\"/><ellipse cx=\"216\" cy=\"128.95\" fill=\"#383838\" rx=\"2\" ry=\"2\" style=\"stroke: #383838; stroke-width: 1.0;\"/></a><!--MD5=[bfa3c8b0d15052fdf50ae9310b491027]\n",
       "link E8 to E7--><a href=\"psysml:88eb6ab6-f030-4136-96c6-6d1b75343c8c\" target=\"_top\" title=\"psysml:88eb6ab6-f030-4136-96c6-6d1b75343c8c\" xlink:actuate=\"onRequest\" xlink:href=\"psysml:88eb6ab6-f030-4136-96c6-6d1b75343c8c\" xlink:show=\"new\" xlink:title=\"psysml:88eb6ab6-f030-4136-96c6-6d1b75343c8c\" xlink:type=\"simple\"><path d=\"M120.01,90.51 C115.39,103.25 109.42,119.7 103.96,134.76 \" fill=\"none\" id=\"E8-&gt;E7\" style=\"stroke: #383838; stroke-width: 1.0;\"/><polygon fill=\"#FFFFFF\" points=\"97.11,153.65,97.0036,133.4018,110.1656,138.1726,97.11,153.65\" style=\"stroke: #383838; stroke-width: 1.0;\"/><ellipse cx=\"100.8262\" cy=\"128.7245\" fill=\"#383838\" rx=\"2\" ry=\"2\" style=\"stroke: #383838; stroke-width: 1.0;\"/><ellipse cx=\"110.2277\" cy=\"132.1322\" fill=\"#383838\" rx=\"2\" ry=\"2\" style=\"stroke: #383838; stroke-width: 1.0;\"/></a><!--MD5=[37b6ac4f331c37008e83c2b975fe1a8c]\n",
       "@startuml\r\n",
       " skinparam monochrome true\r\n",
       "skinparam classbackgroundcolor white\r\n",
       "skinparam shadowing false\r\n",
       "skinparam wrapWidth 300\r\n",
       "hide circle\r\n",
       "\r\n",
       "package \"PrivateImportTest\" as E1  [[psysml:a19fc987-58b9-4365-8e05-8e082939198f ]]  {\r\n",
       "package \"P1\" as E2  [[psysml:0afae52f-013a-41db-84e1-dbe02c327088 ]]  {\r\n",
       "comp def \"A\" as E3  <<(T,blue)part def>> [[psysml:414aecf4-cab0-4d0d-b5e9-0bd22012706a ]] {\r\n",
       "}\r\n",
       "}\r\n",
       "package \"P2\" as E4  [[psysml:e62181a2-aa41-44c6-a86b-ee96628d0c50 ]]  {\r\n",
       "}\r\n",
       "comp usage \"x: A\" as E5  <<(T,blue)part>> [[psysml:0adc1dcd-eba4-4b19-b824-866ee03ed7de ]] {\r\n",
       "}\r\n",
       "package \"P3\" as E6  [[psysml:1d9d662c-22cb-416c-b8ab-bb9944386c4a ]]  {\r\n",
       "comp def \"B\" as E7  <<(T,blue)part def>> [[psysml:f619ebc7-1ca1-4b7d-a8d3-68584975adae ]] {\r\n",
       "}\r\n",
       "E5 - -:|> E3 [[psysml:e8148481-e1af-4d30-a20f-345018eb1da9 ]] \r\n",
       "}\r\n",
       "comp usage \"z: B\" as E8  <<(T,blue)part>> [[psysml:b076f02a-ad00-46e0-858a-3e2f54feec2a ]] {\r\n",
       "}\r\n",
       "E8 - -:|> E7 [[psysml:88eb6ab6-f030-4136-96c6-6d1b75343c8c ]] \r\n",
       "}\r\n",
       "@enduml\r\n",
       "\n",
       "PlantUML version 1.2020.13(Sat Jun 13 12:26:38 UTC 2020)\n",
       "(EPL source distribution)\n",
       "Java Runtime: OpenJDK Runtime Environment\n",
       "JVM: OpenJDK 64-Bit Server VM\n",
       "Default Encoding: UTF-8\n",
       "Language: en\n",
       "Country: null\n",
       "--></g></svg>"
      ]
     },
     "execution_count": 8,
     "metadata": {},
     "output_type": "execute_result"
    }
   ],
   "source": [
    "%viz --style=\"COMPTREE\" --view=\"MIXED\" \"PrivateImportTest\""
   ]
  },
  {
   "cell_type": "code",
   "execution_count": 9,
   "id": "quality-lloyd",
   "metadata": {
    "execution": {
     "iopub.execute_input": "2021-03-25T09:26:37.718115Z",
     "iopub.status.busy": "2021-03-25T09:26:37.717653Z",
     "iopub.status.idle": "2021-03-25T09:26:37.803498Z",
     "shell.execute_reply": "2021-03-25T09:26:37.801615Z"
    }
   },
   "outputs": [
    {
     "data": {
      "image/svg+xml": [
       "<?xml version=\"1.0\" encoding=\"UTF-8\" standalone=\"no\"?><svg xmlns=\"http://www.w3.org/2000/svg\" xmlns:xlink=\"http://www.w3.org/1999/xlink\" contentScriptType=\"application/ecmascript\" contentStyleType=\"text/css\" height=\"252px\" preserveAspectRatio=\"none\" style=\"width:306px;height:252px;\" version=\"1.1\" viewBox=\"0 0 306 252\" width=\"306px\" zoomAndPan=\"magnify\"><defs/><g><!--MD5=[fbc87193dbaf4d95561dea2c320d4a47]\n",
       "cluster E1--><a href=\"psysml:a19fc987-58b9-4365-8e05-8e082939198f\" target=\"_top\" title=\"psysml:a19fc987-58b9-4365-8e05-8e082939198f\" xlink:actuate=\"onRequest\" xlink:href=\"psysml:a19fc987-58b9-4365-8e05-8e082939198f\" xlink:show=\"new\" xlink:title=\"psysml:a19fc987-58b9-4365-8e05-8e082939198f\" xlink:type=\"simple\"><polygon fill=\"#FFFFFF\" points=\"16,6,163,6,170,28.2969,284,28.2969,284,240,16,240,16,6\" style=\"stroke: #000000; stroke-width: 1.5;\"/><line style=\"stroke: #000000; stroke-width: 1.5;\" x1=\"16\" x2=\"170\" y1=\"28.2969\" y2=\"28.2969\"/><text fill=\"#000000\" font-family=\"sans-serif\" font-size=\"14\" font-weight=\"bold\" lengthAdjust=\"spacingAndGlyphs\" textLength=\"141\" x=\"20\" y=\"20.9951\">PrivateImportTest</text></a><!--MD5=[e4f7fae6ed58524ba242bb0b0d3be6b7]\n",
       "cluster E2--><a href=\"psysml:0afae52f-013a-41db-84e1-dbe02c327088\" target=\"_top\" title=\"psysml:0afae52f-013a-41db-84e1-dbe02c327088\" xlink:actuate=\"onRequest\" xlink:href=\"psysml:0afae52f-013a-41db-84e1-dbe02c327088\" xlink:show=\"new\" xlink:title=\"psysml:0afae52f-013a-41db-84e1-dbe02c327088\" xlink:type=\"simple\"><polygon fill=\"#FFFFFF\" points=\"162,119,188,119,195,141.2969,260,141.2969,260,216,162,216,162,119\" style=\"stroke: #000000; stroke-width: 1.5;\"/><line style=\"stroke: #000000; stroke-width: 1.5;\" x1=\"162\" x2=\"195\" y1=\"141.2969\" y2=\"141.2969\"/><text fill=\"#000000\" font-family=\"sans-serif\" font-size=\"14\" font-weight=\"bold\" lengthAdjust=\"spacingAndGlyphs\" textLength=\"20\" x=\"166\" y=\"133.9951\">P1</text></a><!--MD5=[14e3b0961a2654348d326746436168a1]\n",
       "cluster E6--><a href=\"psysml:1d9d662c-22cb-416c-b8ab-bb9944386c4a\" target=\"_top\" title=\"psysml:1d9d662c-22cb-416c-b8ab-bb9944386c4a\" xlink:actuate=\"onRequest\" xlink:href=\"psysml:1d9d662c-22cb-416c-b8ab-bb9944386c4a\" xlink:show=\"new\" xlink:title=\"psysml:1d9d662c-22cb-416c-b8ab-bb9944386c4a\" xlink:type=\"simple\"><polygon fill=\"#FFFFFF\" points=\"40,119,66,119,73,141.2969,138,141.2969,138,216,40,216,40,119\" style=\"stroke: #000000; stroke-width: 1.5;\"/><line style=\"stroke: #000000; stroke-width: 1.5;\" x1=\"40\" x2=\"73\" y1=\"141.2969\" y2=\"141.2969\"/><text fill=\"#000000\" font-family=\"sans-serif\" font-size=\"14\" font-weight=\"bold\" lengthAdjust=\"spacingAndGlyphs\" textLength=\"20\" x=\"44\" y=\"133.9951\">P3</text></a><!--MD5=[270fce915f116d4de14055a7c1d9a0f3]\n",
       "class E5--><a href=\"psysml:0adc1dcd-eba4-4b19-b824-866ee03ed7de\" target=\"_top\" title=\"psysml:0adc1dcd-eba4-4b19-b824-866ee03ed7de\" xlink:actuate=\"onRequest\" xlink:href=\"psysml:0adc1dcd-eba4-4b19-b824-866ee03ed7de\" xlink:show=\"new\" xlink:title=\"psysml:0adc1dcd-eba4-4b19-b824-866ee03ed7de\" xlink:type=\"simple\"><rect fill=\"#FFFFFF\" height=\"45.9375\" id=\"E5\" rx=\"10\" ry=\"10\" style=\"stroke: #383838; stroke-width: 1.5;\" width=\"42\" x=\"190\" y=\"44.5\"/><text fill=\"#000000\" font-family=\"sans-serif\" font-size=\"12\" font-style=\"italic\" lengthAdjust=\"spacingAndGlyphs\" textLength=\"40\" x=\"191\" y=\"60.6387\">«part»</text><text fill=\"#000000\" font-family=\"sans-serif\" font-size=\"12\" lengthAdjust=\"spacingAndGlyphs\" textLength=\"22\" x=\"200\" y=\"74.6074\">x: A</text><line style=\"stroke: #383838; stroke-width: 1.5;\" x1=\"191\" x2=\"231\" y1=\"82.4375\" y2=\"82.4375\"/></a><!--MD5=[b9389687b975829384b498ac4b7476b2]\n",
       "class E8--><a href=\"psysml:b076f02a-ad00-46e0-858a-3e2f54feec2a\" target=\"_top\" title=\"psysml:b076f02a-ad00-46e0-858a-3e2f54feec2a\" xlink:actuate=\"onRequest\" xlink:href=\"psysml:b076f02a-ad00-46e0-858a-3e2f54feec2a\" xlink:show=\"new\" xlink:title=\"psysml:b076f02a-ad00-46e0-858a-3e2f54feec2a\" xlink:type=\"simple\"><rect fill=\"#FFFFFF\" height=\"45.9375\" id=\"E8\" rx=\"10\" ry=\"10\" style=\"stroke: #383838; stroke-width: 1.5;\" width=\"42\" x=\"107\" y=\"44.5\"/><text fill=\"#000000\" font-family=\"sans-serif\" font-size=\"12\" font-style=\"italic\" lengthAdjust=\"spacingAndGlyphs\" textLength=\"40\" x=\"108\" y=\"60.6387\">«part»</text><text fill=\"#000000\" font-family=\"sans-serif\" font-size=\"12\" lengthAdjust=\"spacingAndGlyphs\" textLength=\"21\" x=\"117.5\" y=\"74.6074\">z: B</text><line style=\"stroke: #383838; stroke-width: 1.5;\" x1=\"108\" x2=\"148\" y1=\"82.4375\" y2=\"82.4375\"/></a><!--MD5=[09b614a08d8cba4a07c9adeb5e0fee81]\n",
       "class E3--><a href=\"psysml:414aecf4-cab0-4d0d-b5e9-0bd22012706a\" target=\"_top\" title=\"psysml:414aecf4-cab0-4d0d-b5e9-0bd22012706a\" xlink:actuate=\"onRequest\" xlink:href=\"psysml:414aecf4-cab0-4d0d-b5e9-0bd22012706a\" xlink:show=\"new\" xlink:title=\"psysml:414aecf4-cab0-4d0d-b5e9-0bd22012706a\" xlink:type=\"simple\"><rect fill=\"#FFFFFF\" height=\"45.9375\" id=\"E3\" style=\"stroke: #383838; stroke-width: 1.5;\" width=\"66\" x=\"178\" y=\"154\"/><text fill=\"#000000\" font-family=\"sans-serif\" font-size=\"12\" font-style=\"italic\" lengthAdjust=\"spacingAndGlyphs\" textLength=\"64\" x=\"179\" y=\"170.1387\">«part def»</text><text fill=\"#000000\" font-family=\"sans-serif\" font-size=\"12\" lengthAdjust=\"spacingAndGlyphs\" textLength=\"8\" x=\"207\" y=\"184.1074\">A</text><line style=\"stroke: #383838; stroke-width: 1.5;\" x1=\"179\" x2=\"243\" y1=\"191.9375\" y2=\"191.9375\"/></a><a href=\"psysml:e62181a2-aa41-44c6-a86b-ee96628d0c50\" target=\"_top\" title=\"psysml:e62181a2-aa41-44c6-a86b-ee96628d0c50\" xlink:actuate=\"onRequest\" xlink:href=\"psysml:e62181a2-aa41-44c6-a86b-ee96628d0c50\" xlink:show=\"new\" xlink:title=\"psysml:e62181a2-aa41-44c6-a86b-ee96628d0c50\" xlink:type=\"simple\"><polygon fill=\"#FFFFFF\" points=\"32,41,58,41,65,63.2969,72,63.2969,72,93.5938,32,93.5938,32,41\" style=\"stroke: #000000; stroke-width: 1.5;\"/><line style=\"stroke: #000000; stroke-width: 1.5;\" x1=\"32\" x2=\"65\" y1=\"63.2969\" y2=\"63.2969\"/><text fill=\"#000000\" font-family=\"sans-serif\" font-size=\"14\" font-weight=\"bold\" lengthAdjust=\"spacingAndGlyphs\" textLength=\"20\" x=\"36\" y=\"55.9951\">P2</text></a><!--MD5=[2156ba9850f5573cc1fc38a6a4b2f02b]\n",
       "class E7--><a href=\"psysml:f619ebc7-1ca1-4b7d-a8d3-68584975adae\" target=\"_top\" title=\"psysml:f619ebc7-1ca1-4b7d-a8d3-68584975adae\" xlink:actuate=\"onRequest\" xlink:href=\"psysml:f619ebc7-1ca1-4b7d-a8d3-68584975adae\" xlink:show=\"new\" xlink:title=\"psysml:f619ebc7-1ca1-4b7d-a8d3-68584975adae\" xlink:type=\"simple\"><rect fill=\"#FFFFFF\" height=\"45.9375\" id=\"E7\" style=\"stroke: #383838; stroke-width: 1.5;\" width=\"66\" x=\"56\" y=\"154\"/><text fill=\"#000000\" font-family=\"sans-serif\" font-size=\"12\" font-style=\"italic\" lengthAdjust=\"spacingAndGlyphs\" textLength=\"64\" x=\"57\" y=\"170.1387\">«part def»</text><text fill=\"#000000\" font-family=\"sans-serif\" font-size=\"12\" lengthAdjust=\"spacingAndGlyphs\" textLength=\"8\" x=\"85\" y=\"184.1074\">B</text><line style=\"stroke: #383838; stroke-width: 1.5;\" x1=\"57\" x2=\"121\" y1=\"191.9375\" y2=\"191.9375\"/></a><!--MD5=[e9be52314489bd878ff4c7144b63c9e1]\n",
       "link E5 to E3--><a href=\"psysml:e8148481-e1af-4d30-a20f-345018eb1da9\" target=\"_top\" title=\"psysml:e8148481-e1af-4d30-a20f-345018eb1da9\" xlink:actuate=\"onRequest\" xlink:href=\"psysml:e8148481-e1af-4d30-a20f-345018eb1da9\" xlink:show=\"new\" xlink:title=\"psysml:e8148481-e1af-4d30-a20f-345018eb1da9\" xlink:type=\"simple\"><path d=\"M211,90.51 C211,102.89 211,118.78 211,133.48 \" fill=\"none\" id=\"E5-&gt;E3\" style=\"stroke: #383838; stroke-width: 1.0;\"/><polygon fill=\"#FFFFFF\" points=\"211,153.65,204,134.65,218,134.65,211,153.65\" style=\"stroke: #383838; stroke-width: 1.0;\"/><ellipse cx=\"206\" cy=\"128.95\" fill=\"#383838\" rx=\"2\" ry=\"2\" style=\"stroke: #383838; stroke-width: 1.0;\"/><ellipse cx=\"216\" cy=\"128.95\" fill=\"#383838\" rx=\"2\" ry=\"2\" style=\"stroke: #383838; stroke-width: 1.0;\"/></a><!--MD5=[bfa3c8b0d15052fdf50ae9310b491027]\n",
       "link E8 to E7--><a href=\"psysml:88eb6ab6-f030-4136-96c6-6d1b75343c8c\" target=\"_top\" title=\"psysml:88eb6ab6-f030-4136-96c6-6d1b75343c8c\" xlink:actuate=\"onRequest\" xlink:href=\"psysml:88eb6ab6-f030-4136-96c6-6d1b75343c8c\" xlink:show=\"new\" xlink:title=\"psysml:88eb6ab6-f030-4136-96c6-6d1b75343c8c\" xlink:type=\"simple\"><path d=\"M120.01,90.51 C115.39,103.25 109.42,119.7 103.96,134.76 \" fill=\"none\" id=\"E8-&gt;E7\" style=\"stroke: #383838; stroke-width: 1.0;\"/><polygon fill=\"#FFFFFF\" points=\"97.11,153.65,97.0036,133.4018,110.1656,138.1726,97.11,153.65\" style=\"stroke: #383838; stroke-width: 1.0;\"/><ellipse cx=\"100.8262\" cy=\"128.7245\" fill=\"#383838\" rx=\"2\" ry=\"2\" style=\"stroke: #383838; stroke-width: 1.0;\"/><ellipse cx=\"110.2277\" cy=\"132.1322\" fill=\"#383838\" rx=\"2\" ry=\"2\" style=\"stroke: #383838; stroke-width: 1.0;\"/></a><!--MD5=[2ed79078f86411a2b62c13fcccf06007]\n",
       "@startuml\r\n",
       "skinparam linetype polyline\r\n",
       "skinparam monochrome true\r\n",
       "skinparam classbackgroundcolor white\r\n",
       "skinparam shadowing false\r\n",
       "skinparam wrapWidth 300\r\n",
       "hide circle\r\n",
       "\r\n",
       "package \"PrivateImportTest\" as E1  [[psysml:a19fc987-58b9-4365-8e05-8e082939198f ]]  {\r\n",
       "package \"P1\" as E2  [[psysml:0afae52f-013a-41db-84e1-dbe02c327088 ]]  {\r\n",
       "comp def \"A\" as E3  <<(T,blue)part def>> [[psysml:414aecf4-cab0-4d0d-b5e9-0bd22012706a ]] {\r\n",
       "}\r\n",
       "}\r\n",
       "package \"P2\" as E4  [[psysml:e62181a2-aa41-44c6-a86b-ee96628d0c50 ]]  {\r\n",
       "}\r\n",
       "comp usage \"x: A\" as E5  <<(T,blue)part>> [[psysml:0adc1dcd-eba4-4b19-b824-866ee03ed7de ]] {\r\n",
       "}\r\n",
       "package \"P3\" as E6  [[psysml:1d9d662c-22cb-416c-b8ab-bb9944386c4a ]]  {\r\n",
       "comp def \"B\" as E7  <<(T,blue)part def>> [[psysml:f619ebc7-1ca1-4b7d-a8d3-68584975adae ]] {\r\n",
       "}\r\n",
       "E5 - -:|> E3 [[psysml:e8148481-e1af-4d30-a20f-345018eb1da9 ]] \r\n",
       "}\r\n",
       "comp usage \"z: B\" as E8  <<(T,blue)part>> [[psysml:b076f02a-ad00-46e0-858a-3e2f54feec2a ]] {\r\n",
       "}\r\n",
       "E8 - -:|> E7 [[psysml:88eb6ab6-f030-4136-96c6-6d1b75343c8c ]] \r\n",
       "}\r\n",
       "@enduml\r\n",
       "\n",
       "PlantUML version 1.2020.13(Sat Jun 13 12:26:38 UTC 2020)\n",
       "(EPL source distribution)\n",
       "Java Runtime: OpenJDK Runtime Environment\n",
       "JVM: OpenJDK 64-Bit Server VM\n",
       "Default Encoding: UTF-8\n",
       "Language: en\n",
       "Country: null\n",
       "--></g></svg>"
      ]
     },
     "execution_count": 9,
     "metadata": {},
     "output_type": "execute_result"
    }
   ],
   "source": [
    "%viz --style=\"POLYLINE\" --view=\"Default\" \"PrivateImportTest\""
   ]
  },
  {
   "cell_type": "code",
   "execution_count": 10,
   "id": "familiar-parade",
   "metadata": {
    "execution": {
     "iopub.execute_input": "2021-03-25T09:26:37.855042Z",
     "iopub.status.busy": "2021-03-25T09:26:37.854259Z",
     "iopub.status.idle": "2021-03-25T09:26:37.937123Z",
     "shell.execute_reply": "2021-03-25T09:26:37.937588Z"
    }
   },
   "outputs": [
    {
     "data": {
      "image/svg+xml": [
       "<?xml version=\"1.0\" encoding=\"UTF-8\" standalone=\"no\"?><svg xmlns=\"http://www.w3.org/2000/svg\" xmlns:xlink=\"http://www.w3.org/1999/xlink\" contentScriptType=\"application/ecmascript\" contentStyleType=\"text/css\" height=\"252px\" preserveAspectRatio=\"none\" style=\"width:306px;height:252px;\" version=\"1.1\" viewBox=\"0 0 306 252\" width=\"306px\" zoomAndPan=\"magnify\"><defs/><g><!--MD5=[fbc87193dbaf4d95561dea2c320d4a47]\n",
       "cluster E1--><a href=\"psysml:a19fc987-58b9-4365-8e05-8e082939198f\" target=\"_top\" title=\"psysml:a19fc987-58b9-4365-8e05-8e082939198f\" xlink:actuate=\"onRequest\" xlink:href=\"psysml:a19fc987-58b9-4365-8e05-8e082939198f\" xlink:show=\"new\" xlink:title=\"psysml:a19fc987-58b9-4365-8e05-8e082939198f\" xlink:type=\"simple\"><polygon fill=\"#FFFFFF\" points=\"16,6,163,6,170,28.2969,284,28.2969,284,240,16,240,16,6\" style=\"stroke: #000000; stroke-width: 1.5;\"/><line style=\"stroke: #000000; stroke-width: 1.5;\" x1=\"16\" x2=\"170\" y1=\"28.2969\" y2=\"28.2969\"/><text fill=\"#000000\" font-family=\"sans-serif\" font-size=\"14\" font-weight=\"bold\" lengthAdjust=\"spacingAndGlyphs\" textLength=\"141\" x=\"20\" y=\"20.9951\">PrivateImportTest</text></a><!--MD5=[e4f7fae6ed58524ba242bb0b0d3be6b7]\n",
       "cluster E2--><a href=\"psysml:0afae52f-013a-41db-84e1-dbe02c327088\" target=\"_top\" title=\"psysml:0afae52f-013a-41db-84e1-dbe02c327088\" xlink:actuate=\"onRequest\" xlink:href=\"psysml:0afae52f-013a-41db-84e1-dbe02c327088\" xlink:show=\"new\" xlink:title=\"psysml:0afae52f-013a-41db-84e1-dbe02c327088\" xlink:type=\"simple\"><polygon fill=\"#FFFFFF\" points=\"162,119,188,119,195,141.2969,260,141.2969,260,216,162,216,162,119\" style=\"stroke: #000000; stroke-width: 1.5;\"/><line style=\"stroke: #000000; stroke-width: 1.5;\" x1=\"162\" x2=\"195\" y1=\"141.2969\" y2=\"141.2969\"/><text fill=\"#000000\" font-family=\"sans-serif\" font-size=\"14\" font-weight=\"bold\" lengthAdjust=\"spacingAndGlyphs\" textLength=\"20\" x=\"166\" y=\"133.9951\">P1</text></a><!--MD5=[14e3b0961a2654348d326746436168a1]\n",
       "cluster E6--><a href=\"psysml:1d9d662c-22cb-416c-b8ab-bb9944386c4a\" target=\"_top\" title=\"psysml:1d9d662c-22cb-416c-b8ab-bb9944386c4a\" xlink:actuate=\"onRequest\" xlink:href=\"psysml:1d9d662c-22cb-416c-b8ab-bb9944386c4a\" xlink:show=\"new\" xlink:title=\"psysml:1d9d662c-22cb-416c-b8ab-bb9944386c4a\" xlink:type=\"simple\"><polygon fill=\"#FFFFFF\" points=\"40,119,66,119,73,141.2969,138,141.2969,138,216,40,216,40,119\" style=\"stroke: #000000; stroke-width: 1.5;\"/><line style=\"stroke: #000000; stroke-width: 1.5;\" x1=\"40\" x2=\"73\" y1=\"141.2969\" y2=\"141.2969\"/><text fill=\"#000000\" font-family=\"sans-serif\" font-size=\"14\" font-weight=\"bold\" lengthAdjust=\"spacingAndGlyphs\" textLength=\"20\" x=\"44\" y=\"133.9951\">P3</text></a><!--MD5=[270fce915f116d4de14055a7c1d9a0f3]\n",
       "class E5--><a href=\"psysml:0adc1dcd-eba4-4b19-b824-866ee03ed7de\" target=\"_top\" title=\"psysml:0adc1dcd-eba4-4b19-b824-866ee03ed7de\" xlink:actuate=\"onRequest\" xlink:href=\"psysml:0adc1dcd-eba4-4b19-b824-866ee03ed7de\" xlink:show=\"new\" xlink:title=\"psysml:0adc1dcd-eba4-4b19-b824-866ee03ed7de\" xlink:type=\"simple\"><rect fill=\"#FFFFFF\" height=\"45.9375\" id=\"E5\" rx=\"10\" ry=\"10\" style=\"stroke: #383838; stroke-width: 1.5;\" width=\"42\" x=\"190\" y=\"44.5\"/><text fill=\"#000000\" font-family=\"sans-serif\" font-size=\"12\" font-style=\"italic\" lengthAdjust=\"spacingAndGlyphs\" textLength=\"40\" x=\"191\" y=\"60.6387\">«part»</text><text fill=\"#000000\" font-family=\"sans-serif\" font-size=\"12\" lengthAdjust=\"spacingAndGlyphs\" textLength=\"22\" x=\"200\" y=\"74.6074\">x: A</text><line style=\"stroke: #383838; stroke-width: 1.5;\" x1=\"191\" x2=\"231\" y1=\"82.4375\" y2=\"82.4375\"/></a><!--MD5=[b9389687b975829384b498ac4b7476b2]\n",
       "class E8--><a href=\"psysml:b076f02a-ad00-46e0-858a-3e2f54feec2a\" target=\"_top\" title=\"psysml:b076f02a-ad00-46e0-858a-3e2f54feec2a\" xlink:actuate=\"onRequest\" xlink:href=\"psysml:b076f02a-ad00-46e0-858a-3e2f54feec2a\" xlink:show=\"new\" xlink:title=\"psysml:b076f02a-ad00-46e0-858a-3e2f54feec2a\" xlink:type=\"simple\"><rect fill=\"#FFFFFF\" height=\"45.9375\" id=\"E8\" rx=\"10\" ry=\"10\" style=\"stroke: #383838; stroke-width: 1.5;\" width=\"42\" x=\"107\" y=\"44.5\"/><text fill=\"#000000\" font-family=\"sans-serif\" font-size=\"12\" font-style=\"italic\" lengthAdjust=\"spacingAndGlyphs\" textLength=\"40\" x=\"108\" y=\"60.6387\">«part»</text><text fill=\"#000000\" font-family=\"sans-serif\" font-size=\"12\" lengthAdjust=\"spacingAndGlyphs\" textLength=\"21\" x=\"117.5\" y=\"74.6074\">z: B</text><line style=\"stroke: #383838; stroke-width: 1.5;\" x1=\"108\" x2=\"148\" y1=\"82.4375\" y2=\"82.4375\"/></a><!--MD5=[09b614a08d8cba4a07c9adeb5e0fee81]\n",
       "class E3--><a href=\"psysml:414aecf4-cab0-4d0d-b5e9-0bd22012706a\" target=\"_top\" title=\"psysml:414aecf4-cab0-4d0d-b5e9-0bd22012706a\" xlink:actuate=\"onRequest\" xlink:href=\"psysml:414aecf4-cab0-4d0d-b5e9-0bd22012706a\" xlink:show=\"new\" xlink:title=\"psysml:414aecf4-cab0-4d0d-b5e9-0bd22012706a\" xlink:type=\"simple\"><rect fill=\"#FFFFFF\" height=\"45.9375\" id=\"E3\" style=\"stroke: #383838; stroke-width: 1.5;\" width=\"66\" x=\"178\" y=\"154\"/><text fill=\"#000000\" font-family=\"sans-serif\" font-size=\"12\" font-style=\"italic\" lengthAdjust=\"spacingAndGlyphs\" textLength=\"64\" x=\"179\" y=\"170.1387\">«part def»</text><text fill=\"#000000\" font-family=\"sans-serif\" font-size=\"12\" lengthAdjust=\"spacingAndGlyphs\" textLength=\"8\" x=\"207\" y=\"184.1074\">A</text><line style=\"stroke: #383838; stroke-width: 1.5;\" x1=\"179\" x2=\"243\" y1=\"191.9375\" y2=\"191.9375\"/></a><a href=\"psysml:e62181a2-aa41-44c6-a86b-ee96628d0c50\" target=\"_top\" title=\"psysml:e62181a2-aa41-44c6-a86b-ee96628d0c50\" xlink:actuate=\"onRequest\" xlink:href=\"psysml:e62181a2-aa41-44c6-a86b-ee96628d0c50\" xlink:show=\"new\" xlink:title=\"psysml:e62181a2-aa41-44c6-a86b-ee96628d0c50\" xlink:type=\"simple\"><polygon fill=\"#FFFFFF\" points=\"32,41,58,41,65,63.2969,72,63.2969,72,93.5938,32,93.5938,32,41\" style=\"stroke: #000000; stroke-width: 1.5;\"/><line style=\"stroke: #000000; stroke-width: 1.5;\" x1=\"32\" x2=\"65\" y1=\"63.2969\" y2=\"63.2969\"/><text fill=\"#000000\" font-family=\"sans-serif\" font-size=\"14\" font-weight=\"bold\" lengthAdjust=\"spacingAndGlyphs\" textLength=\"20\" x=\"36\" y=\"55.9951\">P2</text></a><!--MD5=[2156ba9850f5573cc1fc38a6a4b2f02b]\n",
       "class E7--><a href=\"psysml:f619ebc7-1ca1-4b7d-a8d3-68584975adae\" target=\"_top\" title=\"psysml:f619ebc7-1ca1-4b7d-a8d3-68584975adae\" xlink:actuate=\"onRequest\" xlink:href=\"psysml:f619ebc7-1ca1-4b7d-a8d3-68584975adae\" xlink:show=\"new\" xlink:title=\"psysml:f619ebc7-1ca1-4b7d-a8d3-68584975adae\" xlink:type=\"simple\"><rect fill=\"#FFFFFF\" height=\"45.9375\" id=\"E7\" style=\"stroke: #383838; stroke-width: 1.5;\" width=\"66\" x=\"56\" y=\"154\"/><text fill=\"#000000\" font-family=\"sans-serif\" font-size=\"12\" font-style=\"italic\" lengthAdjust=\"spacingAndGlyphs\" textLength=\"64\" x=\"57\" y=\"170.1387\">«part def»</text><text fill=\"#000000\" font-family=\"sans-serif\" font-size=\"12\" lengthAdjust=\"spacingAndGlyphs\" textLength=\"8\" x=\"85\" y=\"184.1074\">B</text><line style=\"stroke: #383838; stroke-width: 1.5;\" x1=\"57\" x2=\"121\" y1=\"191.9375\" y2=\"191.9375\"/></a><!--MD5=[e9be52314489bd878ff4c7144b63c9e1]\n",
       "link E5 to E3--><a href=\"psysml:e8148481-e1af-4d30-a20f-345018eb1da9\" target=\"_top\" title=\"psysml:e8148481-e1af-4d30-a20f-345018eb1da9\" xlink:actuate=\"onRequest\" xlink:href=\"psysml:e8148481-e1af-4d30-a20f-345018eb1da9\" xlink:show=\"new\" xlink:title=\"psysml:e8148481-e1af-4d30-a20f-345018eb1da9\" xlink:type=\"simple\"><path d=\"M211,90.51 C211,102.89 211,118.78 211,133.48 \" fill=\"none\" id=\"E5-&gt;E3\" style=\"stroke: #383838; stroke-width: 1.0;\"/><polygon fill=\"#FFFFFF\" points=\"211,153.65,204,134.65,218,134.65,211,153.65\" style=\"stroke: #383838; stroke-width: 1.0;\"/><ellipse cx=\"206\" cy=\"128.95\" fill=\"#383838\" rx=\"2\" ry=\"2\" style=\"stroke: #383838; stroke-width: 1.0;\"/><ellipse cx=\"216\" cy=\"128.95\" fill=\"#383838\" rx=\"2\" ry=\"2\" style=\"stroke: #383838; stroke-width: 1.0;\"/></a><!--MD5=[bfa3c8b0d15052fdf50ae9310b491027]\n",
       "link E8 to E7--><a href=\"psysml:88eb6ab6-f030-4136-96c6-6d1b75343c8c\" target=\"_top\" title=\"psysml:88eb6ab6-f030-4136-96c6-6d1b75343c8c\" xlink:actuate=\"onRequest\" xlink:href=\"psysml:88eb6ab6-f030-4136-96c6-6d1b75343c8c\" xlink:show=\"new\" xlink:title=\"psysml:88eb6ab6-f030-4136-96c6-6d1b75343c8c\" xlink:type=\"simple\"><path d=\"M120.01,90.51 C115.39,103.25 109.42,119.7 103.96,134.76 \" fill=\"none\" id=\"E8-&gt;E7\" style=\"stroke: #383838; stroke-width: 1.0;\"/><polygon fill=\"#FFFFFF\" points=\"97.11,153.65,97.0036,133.4018,110.1656,138.1726,97.11,153.65\" style=\"stroke: #383838; stroke-width: 1.0;\"/><ellipse cx=\"100.8262\" cy=\"128.7245\" fill=\"#383838\" rx=\"2\" ry=\"2\" style=\"stroke: #383838; stroke-width: 1.0;\"/><ellipse cx=\"110.2277\" cy=\"132.1322\" fill=\"#383838\" rx=\"2\" ry=\"2\" style=\"stroke: #383838; stroke-width: 1.0;\"/></a><!--MD5=[2ed79078f86411a2b62c13fcccf06007]\n",
       "@startuml\r\n",
       "skinparam linetype polyline\r\n",
       "skinparam monochrome true\r\n",
       "skinparam classbackgroundcolor white\r\n",
       "skinparam shadowing false\r\n",
       "skinparam wrapWidth 300\r\n",
       "hide circle\r\n",
       "\r\n",
       "package \"PrivateImportTest\" as E1  [[psysml:a19fc987-58b9-4365-8e05-8e082939198f ]]  {\r\n",
       "package \"P1\" as E2  [[psysml:0afae52f-013a-41db-84e1-dbe02c327088 ]]  {\r\n",
       "comp def \"A\" as E3  <<(T,blue)part def>> [[psysml:414aecf4-cab0-4d0d-b5e9-0bd22012706a ]] {\r\n",
       "}\r\n",
       "}\r\n",
       "package \"P2\" as E4  [[psysml:e62181a2-aa41-44c6-a86b-ee96628d0c50 ]]  {\r\n",
       "}\r\n",
       "comp usage \"x: A\" as E5  <<(T,blue)part>> [[psysml:0adc1dcd-eba4-4b19-b824-866ee03ed7de ]] {\r\n",
       "}\r\n",
       "package \"P3\" as E6  [[psysml:1d9d662c-22cb-416c-b8ab-bb9944386c4a ]]  {\r\n",
       "comp def \"B\" as E7  <<(T,blue)part def>> [[psysml:f619ebc7-1ca1-4b7d-a8d3-68584975adae ]] {\r\n",
       "}\r\n",
       "E5 - -:|> E3 [[psysml:e8148481-e1af-4d30-a20f-345018eb1da9 ]] \r\n",
       "}\r\n",
       "comp usage \"z: B\" as E8  <<(T,blue)part>> [[psysml:b076f02a-ad00-46e0-858a-3e2f54feec2a ]] {\r\n",
       "}\r\n",
       "E8 - -:|> E7 [[psysml:88eb6ab6-f030-4136-96c6-6d1b75343c8c ]] \r\n",
       "}\r\n",
       "@enduml\r\n",
       "\n",
       "PlantUML version 1.2020.13(Sat Jun 13 12:26:38 UTC 2020)\n",
       "(EPL source distribution)\n",
       "Java Runtime: OpenJDK Runtime Environment\n",
       "JVM: OpenJDK 64-Bit Server VM\n",
       "Default Encoding: UTF-8\n",
       "Language: en\n",
       "Country: null\n",
       "--></g></svg>"
      ]
     },
     "execution_count": 10,
     "metadata": {},
     "output_type": "execute_result"
    }
   ],
   "source": [
    "%viz --style=\"POLYLINE\" --view=\"Tree\" \"PrivateImportTest\""
   ]
  },
  {
   "cell_type": "code",
   "execution_count": 11,
   "id": "useful-assignment",
   "metadata": {
    "execution": {
     "iopub.execute_input": "2021-03-25T09:26:37.989303Z",
     "iopub.status.busy": "2021-03-25T09:26:37.988933Z",
     "iopub.status.idle": "2021-03-25T09:26:37.999025Z",
     "shell.execute_reply": "2021-03-25T09:26:37.999376Z"
    }
   },
   "outputs": [
    {
     "data": {
      "image/svg+xml": [
       "<?xml version=\"1.0\" encoding=\"UTF-8\" standalone=\"no\"?><svg xmlns=\"http://www.w3.org/2000/svg\" xmlns:xlink=\"http://www.w3.org/1999/xlink\" contentScriptType=\"application/ecmascript\" contentStyleType=\"text/css\" height=\"12px\" preserveAspectRatio=\"none\" style=\"width:12px;height:12px;\" version=\"1.1\" viewBox=\"0 0 12 12\" width=\"12px\" zoomAndPan=\"magnify\"><defs/><g><!--MD5=[896ac0e7a515d8dd7765a661cb4ee08b]\n",
       "@startuml\r\n",
       "skinparam linetype polyline\r\n",
       "skinparam monochrome true\r\n",
       "skinparam classbackgroundcolor white\r\n",
       "skinparam shadowing false\r\n",
       "skinparam wrapWidth 300\r\n",
       "hide circle\r\n",
       "\r\n",
       "@enduml\r\n",
       "\n",
       "PlantUML version 1.2020.13(Sat Jun 13 12:26:38 UTC 2020)\n",
       "(EPL source distribution)\n",
       "Java Runtime: OpenJDK Runtime Environment\n",
       "JVM: OpenJDK 64-Bit Server VM\n",
       "Default Encoding: UTF-8\n",
       "Language: en\n",
       "Country: null\n",
       "--></g></svg>"
      ]
     },
     "execution_count": 11,
     "metadata": {},
     "output_type": "execute_result"
    }
   ],
   "source": [
    "%viz --style=\"POLYLINE\" --view=\"State\" \"PrivateImportTest\""
   ]
  },
  {
   "cell_type": "code",
   "execution_count": 12,
   "id": "happy-development",
   "metadata": {
    "execution": {
     "iopub.execute_input": "2021-03-25T09:26:38.050919Z",
     "iopub.status.busy": "2021-03-25T09:26:38.050428Z",
     "iopub.status.idle": "2021-03-25T09:26:38.124901Z",
     "shell.execute_reply": "2021-03-25T09:26:38.123394Z"
    }
   },
   "outputs": [
    {
     "data": {
      "image/svg+xml": [
       "<?xml version=\"1.0\" encoding=\"UTF-8\" standalone=\"no\"?><svg xmlns=\"http://www.w3.org/2000/svg\" xmlns:xlink=\"http://www.w3.org/1999/xlink\" contentScriptType=\"application/ecmascript\" contentStyleType=\"text/css\" height=\"179px\" preserveAspectRatio=\"none\" style=\"width:539px;height:179px;\" version=\"1.1\" viewBox=\"0 0 539 179\" width=\"539px\" zoomAndPan=\"magnify\"><defs/><g><!--MD5=[fbc87193dbaf4d95561dea2c320d4a47]\n",
       "cluster E1--><a href=\"psysml:a19fc987-58b9-4365-8e05-8e082939198f\" target=\"_top\" title=\"psysml:a19fc987-58b9-4365-8e05-8e082939198f\" xlink:actuate=\"onRequest\" xlink:href=\"psysml:a19fc987-58b9-4365-8e05-8e082939198f\" xlink:show=\"new\" xlink:title=\"psysml:a19fc987-58b9-4365-8e05-8e082939198f\" xlink:type=\"simple\"><polygon fill=\"#FFFFFF\" points=\"16,6,163,6,170,28.2969,517,28.2969,517,167,16,167,16,6\" style=\"stroke: #000000; stroke-width: 1.5;\"/><line style=\"stroke: #000000; stroke-width: 1.5;\" x1=\"16\" x2=\"170\" y1=\"28.2969\" y2=\"28.2969\"/><text fill=\"#000000\" font-family=\"sans-serif\" font-size=\"14\" font-weight=\"bold\" lengthAdjust=\"spacingAndGlyphs\" textLength=\"141\" x=\"20\" y=\"20.9951\">PrivateImportTest</text></a><!--MD5=[e4f7fae6ed58524ba242bb0b0d3be6b7]\n",
       "cluster E2--><a href=\"psysml:0afae52f-013a-41db-84e1-dbe02c327088\" target=\"_top\" title=\"psysml:0afae52f-013a-41db-84e1-dbe02c327088\" xlink:actuate=\"onRequest\" xlink:href=\"psysml:0afae52f-013a-41db-84e1-dbe02c327088\" xlink:show=\"new\" xlink:title=\"psysml:0afae52f-013a-41db-84e1-dbe02c327088\" xlink:type=\"simple\"><polygon fill=\"#FFFFFF\" points=\"389,49,415,49,422,71.2969,493,71.2969,493,143,389,143,389,49\" style=\"stroke: #000000; stroke-width: 1.5;\"/><line style=\"stroke: #000000; stroke-width: 1.5;\" x1=\"389\" x2=\"422\" y1=\"71.2969\" y2=\"71.2969\"/><text fill=\"#000000\" font-family=\"sans-serif\" font-size=\"14\" font-weight=\"bold\" lengthAdjust=\"spacingAndGlyphs\" textLength=\"20\" x=\"393\" y=\"63.9951\">P1</text></a><!--MD5=[14e3b0961a2654348d326746436168a1]\n",
       "cluster E6--><a href=\"psysml:1d9d662c-22cb-416c-b8ab-bb9944386c4a\" target=\"_top\" title=\"psysml:1d9d662c-22cb-416c-b8ab-bb9944386c4a\" xlink:actuate=\"onRequest\" xlink:href=\"psysml:1d9d662c-22cb-416c-b8ab-bb9944386c4a\" xlink:show=\"new\" xlink:title=\"psysml:1d9d662c-22cb-416c-b8ab-bb9944386c4a\" xlink:type=\"simple\"><polygon fill=\"#FFFFFF\" points=\"261,49,287,49,294,71.2969,365,71.2969,365,143,261,143,261,49\" style=\"stroke: #000000; stroke-width: 1.5;\"/><line style=\"stroke: #000000; stroke-width: 1.5;\" x1=\"261\" x2=\"294\" y1=\"71.2969\" y2=\"71.2969\"/><text fill=\"#000000\" font-family=\"sans-serif\" font-size=\"14\" font-weight=\"bold\" lengthAdjust=\"spacingAndGlyphs\" textLength=\"20\" x=\"265\" y=\"63.9951\">P3</text></a><g id=\"E1.E2.E3\"><a href=\"psysml:414aecf4-cab0-4d0d-b5e9-0bd22012706a\" target=\"_top\" title=\"psysml:414aecf4-cab0-4d0d-b5e9-0bd22012706a\" xlink:actuate=\"onRequest\" xlink:href=\"psysml:414aecf4-cab0-4d0d-b5e9-0bd22012706a\" xlink:show=\"new\" xlink:title=\"psysml:414aecf4-cab0-4d0d-b5e9-0bd22012706a\" xlink:type=\"simple\"><rect fill=\"#FFFFFF\" height=\"42.9375\" id=\"E3\" style=\"stroke: #383838; stroke-width: 1.5;\" width=\"71\" x=\"405.5\" y=\"84\"/><rect fill=\"#F8F8F8\" height=\"37.9375\" style=\"stroke: #383838; stroke-width: 1.5;\" width=\"71\" x=\"405.5\" y=\"84\"/><text fill=\"#000000\" font-family=\"sans-serif\" font-size=\"12\" font-style=\"italic\" lengthAdjust=\"spacingAndGlyphs\" textLength=\"64\" x=\"409\" y=\"100.1387\">«part def»</text><text fill=\"#000000\" font-family=\"sans-serif\" font-size=\"12\" lengthAdjust=\"spacingAndGlyphs\" textLength=\"8\" x=\"437\" y=\"114.1074\">A</text></a></g><a href=\"psysml:e62181a2-aa41-44c6-a86b-ee96628d0c50\" target=\"_top\" title=\"psysml:e62181a2-aa41-44c6-a86b-ee96628d0c50\" xlink:actuate=\"onRequest\" xlink:href=\"psysml:e62181a2-aa41-44c6-a86b-ee96628d0c50\" xlink:show=\"new\" xlink:title=\"psysml:e62181a2-aa41-44c6-a86b-ee96628d0c50\" xlink:type=\"simple\"><polygon fill=\"#FFFFFF\" points=\"202,79,228,79,235,101.2969,242,101.2969,242,131.5938,202,131.5938,202,79\" style=\"stroke: #000000; stroke-width: 1.5;\"/><line style=\"stroke: #000000; stroke-width: 1.5;\" x1=\"202\" x2=\"235\" y1=\"101.2969\" y2=\"101.2969\"/><text fill=\"#000000\" font-family=\"sans-serif\" font-size=\"14\" font-weight=\"bold\" lengthAdjust=\"spacingAndGlyphs\" textLength=\"20\" x=\"206\" y=\"93.9951\">P2</text></a><g id=\"E1.E5\"><a href=\"psysml:0adc1dcd-eba4-4b19-b824-866ee03ed7de\" target=\"_top\" title=\"psysml:0adc1dcd-eba4-4b19-b824-866ee03ed7de\" xlink:actuate=\"onRequest\" xlink:href=\"psysml:0adc1dcd-eba4-4b19-b824-866ee03ed7de\" xlink:show=\"new\" xlink:title=\"psysml:0adc1dcd-eba4-4b19-b824-866ee03ed7de\" xlink:type=\"simple\"><rect fill=\"#FFFFFF\" height=\"40\" id=\"E5\" rx=\"10\" ry=\"10\" style=\"stroke: #383838; stroke-width: 1.5;\" width=\"50\" x=\"117\" y=\"85.5\"/><rect fill=\"#F8F8F8\" height=\"23.9688\" rx=\"10\" ry=\"10\" style=\"stroke: #F8F8F8; stroke-width: 1.5;\" width=\"50\" x=\"117\" y=\"85.5\"/><rect fill=\"#F8F8F8\" height=\"10\" style=\"stroke: #F8F8F8; stroke-width: 1.5;\" width=\"50\" x=\"117\" y=\"99.4688\"/><rect fill=\"none\" height=\"40\" id=\"E5\" rx=\"10\" ry=\"10\" style=\"stroke: #383838; stroke-width: 1.5;\" width=\"50\" x=\"117\" y=\"85.5\"/><text fill=\"#000000\" font-family=\"sans-serif\" font-size=\"12\" lengthAdjust=\"spacingAndGlyphs\" textLength=\"22\" x=\"131\" y=\"101.6387\">x: A</text></a></g><g id=\"E1.E6.E7\"><a href=\"psysml:f619ebc7-1ca1-4b7d-a8d3-68584975adae\" target=\"_top\" title=\"psysml:f619ebc7-1ca1-4b7d-a8d3-68584975adae\" xlink:actuate=\"onRequest\" xlink:href=\"psysml:f619ebc7-1ca1-4b7d-a8d3-68584975adae\" xlink:show=\"new\" xlink:title=\"psysml:f619ebc7-1ca1-4b7d-a8d3-68584975adae\" xlink:type=\"simple\"><rect fill=\"#FFFFFF\" height=\"42.9375\" id=\"E7\" style=\"stroke: #383838; stroke-width: 1.5;\" width=\"71\" x=\"277.5\" y=\"84\"/><rect fill=\"#F8F8F8\" height=\"37.9375\" style=\"stroke: #383838; stroke-width: 1.5;\" width=\"71\" x=\"277.5\" y=\"84\"/><text fill=\"#000000\" font-family=\"sans-serif\" font-size=\"12\" font-style=\"italic\" lengthAdjust=\"spacingAndGlyphs\" textLength=\"64\" x=\"281\" y=\"100.1387\">«part def»</text><text fill=\"#000000\" font-family=\"sans-serif\" font-size=\"12\" lengthAdjust=\"spacingAndGlyphs\" textLength=\"8\" x=\"309\" y=\"114.1074\">B</text></a></g><g id=\"E1.E8\"><a href=\"psysml:b076f02a-ad00-46e0-858a-3e2f54feec2a\" target=\"_top\" title=\"psysml:b076f02a-ad00-46e0-858a-3e2f54feec2a\" xlink:actuate=\"onRequest\" xlink:href=\"psysml:b076f02a-ad00-46e0-858a-3e2f54feec2a\" xlink:show=\"new\" xlink:title=\"psysml:b076f02a-ad00-46e0-858a-3e2f54feec2a\" xlink:type=\"simple\"><rect fill=\"#FFFFFF\" height=\"40\" id=\"E8\" rx=\"10\" ry=\"10\" style=\"stroke: #383838; stroke-width: 1.5;\" width=\"50\" x=\"32\" y=\"85.5\"/><rect fill=\"#F8F8F8\" height=\"23.9688\" rx=\"10\" ry=\"10\" style=\"stroke: #F8F8F8; stroke-width: 1.5;\" width=\"50\" x=\"32\" y=\"85.5\"/><rect fill=\"#F8F8F8\" height=\"10\" style=\"stroke: #F8F8F8; stroke-width: 1.5;\" width=\"50\" x=\"32\" y=\"99.4688\"/><rect fill=\"none\" height=\"40\" id=\"E8\" rx=\"10\" ry=\"10\" style=\"stroke: #383838; stroke-width: 1.5;\" width=\"50\" x=\"32\" y=\"85.5\"/><text fill=\"#000000\" font-family=\"sans-serif\" font-size=\"12\" lengthAdjust=\"spacingAndGlyphs\" textLength=\"21\" x=\"46.5\" y=\"101.6387\">z: B</text></a></g><!--MD5=[8ffbbb19cd9decb8d51849218fbc3265]\n",
       "@startuml\r\n",
       "skinparam ranksep 8\r\n",
       "skinparam rectangle {\r\n",
       " backgroundColor<<block>> LightGreen\r\n",
       "}\r\n",
       "skinparam linetype polyline\r\n",
       "skinparam monochrome true\r\n",
       "skinparam classbackgroundcolor white\r\n",
       "skinparam shadowing false\r\n",
       "skinparam wrapWidth 300\r\n",
       "hide circle\r\n",
       "\r\n",
       "package \"PrivateImportTest\" as E1  [[psysml:a19fc987-58b9-4365-8e05-8e082939198f ]]  {\r\n",
       "package \"P1\" as E2  [[psysml:0afae52f-013a-41db-84e1-dbe02c327088 ]]  {\r\n",
       "rec def \"A\" as E3  <<(T,blue)part def>> [[psysml:414aecf4-cab0-4d0d-b5e9-0bd22012706a ]] {\r\n",
       "}\r\n",
       "}\r\n",
       "package \"P2\" as E4  [[psysml:e62181a2-aa41-44c6-a86b-ee96628d0c50 ]]  {\r\n",
       "}\r\n",
       "rec usage \"x: A\" as E5  [[psysml:0adc1dcd-eba4-4b19-b824-866ee03ed7de ]] {\r\n",
       "}\r\n",
       "package \"P3\" as E6  [[psysml:1d9d662c-22cb-416c-b8ab-bb9944386c4a ]]  {\r\n",
       "rec def \"B\" as E7  <<(T,blue)part def>> [[psysml:f619ebc7-1ca1-4b7d-a8d3-68584975adae ]] {\r\n",
       "}\r\n",
       "}\r\n",
       "rec usage \"z: B\" as E8  [[psysml:b076f02a-ad00-46e0-858a-3e2f54feec2a ]] {\r\n",
       "}\r\n",
       "}\r\n",
       "@enduml\r\n",
       "\n",
       "PlantUML version 1.2020.13(Sat Jun 13 12:26:38 UTC 2020)\n",
       "(EPL source distribution)\n",
       "Java Runtime: OpenJDK Runtime Environment\n",
       "JVM: OpenJDK 64-Bit Server VM\n",
       "Default Encoding: UTF-8\n",
       "Language: en\n",
       "Country: null\n",
       "--></g></svg>"
      ]
     },
     "execution_count": 12,
     "metadata": {},
     "output_type": "execute_result"
    }
   ],
   "source": [
    "%viz --style=\"POLYLINE\" --view=\"Interconnection\" \"PrivateImportTest\""
   ]
  },
  {
   "cell_type": "code",
   "execution_count": 13,
   "id": "possible-concentration",
   "metadata": {
    "execution": {
     "iopub.execute_input": "2021-03-25T09:26:38.176000Z",
     "iopub.status.busy": "2021-03-25T09:26:38.175230Z",
     "iopub.status.idle": "2021-03-25T09:26:38.185903Z",
     "shell.execute_reply": "2021-03-25T09:26:38.185330Z"
    }
   },
   "outputs": [
    {
     "data": {
      "image/svg+xml": [
       "<?xml version=\"1.0\" encoding=\"UTF-8\" standalone=\"no\"?><svg xmlns=\"http://www.w3.org/2000/svg\" xmlns:xlink=\"http://www.w3.org/1999/xlink\" contentScriptType=\"application/ecmascript\" contentStyleType=\"text/css\" height=\"12px\" preserveAspectRatio=\"none\" style=\"width:12px;height:12px;\" version=\"1.1\" viewBox=\"0 0 12 12\" width=\"12px\" zoomAndPan=\"magnify\"><defs/><g><!--MD5=[97bbf32f66ccd50cbc40d92ea8f5a65e]\n",
       "@startuml\r\n",
       "skinparam ranksep 8\r\n",
       "skinparam linetype polyline\r\n",
       "skinparam monochrome true\r\n",
       "skinparam classbackgroundcolor white\r\n",
       "skinparam shadowing false\r\n",
       "skinparam wrapWidth 300\r\n",
       "hide circle\r\n",
       "\r\n",
       "@enduml\r\n",
       "\n",
       "PlantUML version 1.2020.13(Sat Jun 13 12:26:38 UTC 2020)\n",
       "(EPL source distribution)\n",
       "Java Runtime: OpenJDK Runtime Environment\n",
       "JVM: OpenJDK 64-Bit Server VM\n",
       "Default Encoding: UTF-8\n",
       "Language: en\n",
       "Country: null\n",
       "--></g></svg>"
      ]
     },
     "execution_count": 13,
     "metadata": {},
     "output_type": "execute_result"
    }
   ],
   "source": [
    "%viz --style=\"POLYLINE\" --view=\"Action\" \"PrivateImportTest\""
   ]
  },
  {
   "cell_type": "code",
   "execution_count": 14,
   "id": "vanilla-redhead",
   "metadata": {
    "execution": {
     "iopub.execute_input": "2021-03-25T09:26:38.239414Z",
     "iopub.status.busy": "2021-03-25T09:26:38.238653Z",
     "iopub.status.idle": "2021-03-25T09:26:38.338357Z",
     "shell.execute_reply": "2021-03-25T09:26:38.338859Z"
    }
   },
   "outputs": [
    {
     "data": {
      "image/svg+xml": [
       "<?xml version=\"1.0\" encoding=\"UTF-8\" standalone=\"no\"?><svg xmlns=\"http://www.w3.org/2000/svg\" xmlns:xlink=\"http://www.w3.org/1999/xlink\" contentScriptType=\"application/ecmascript\" contentStyleType=\"text/css\" height=\"252px\" preserveAspectRatio=\"none\" style=\"width:306px;height:252px;\" version=\"1.1\" viewBox=\"0 0 306 252\" width=\"306px\" zoomAndPan=\"magnify\"><defs/><g><!--MD5=[fbc87193dbaf4d95561dea2c320d4a47]\n",
       "cluster E1--><a href=\"psysml:a19fc987-58b9-4365-8e05-8e082939198f\" target=\"_top\" title=\"psysml:a19fc987-58b9-4365-8e05-8e082939198f\" xlink:actuate=\"onRequest\" xlink:href=\"psysml:a19fc987-58b9-4365-8e05-8e082939198f\" xlink:show=\"new\" xlink:title=\"psysml:a19fc987-58b9-4365-8e05-8e082939198f\" xlink:type=\"simple\"><polygon fill=\"#FFFFFF\" points=\"16,6,163,6,170,28.2969,284,28.2969,284,240,16,240,16,6\" style=\"stroke: #000000; stroke-width: 1.5;\"/><line style=\"stroke: #000000; stroke-width: 1.5;\" x1=\"16\" x2=\"170\" y1=\"28.2969\" y2=\"28.2969\"/><text fill=\"#000000\" font-family=\"sans-serif\" font-size=\"14\" font-weight=\"bold\" lengthAdjust=\"spacingAndGlyphs\" textLength=\"141\" x=\"20\" y=\"20.9951\">PrivateImportTest</text></a><!--MD5=[e4f7fae6ed58524ba242bb0b0d3be6b7]\n",
       "cluster E2--><a href=\"psysml:0afae52f-013a-41db-84e1-dbe02c327088\" target=\"_top\" title=\"psysml:0afae52f-013a-41db-84e1-dbe02c327088\" xlink:actuate=\"onRequest\" xlink:href=\"psysml:0afae52f-013a-41db-84e1-dbe02c327088\" xlink:show=\"new\" xlink:title=\"psysml:0afae52f-013a-41db-84e1-dbe02c327088\" xlink:type=\"simple\"><polygon fill=\"#FFFFFF\" points=\"162,119,188,119,195,141.2969,260,141.2969,260,216,162,216,162,119\" style=\"stroke: #000000; stroke-width: 1.5;\"/><line style=\"stroke: #000000; stroke-width: 1.5;\" x1=\"162\" x2=\"195\" y1=\"141.2969\" y2=\"141.2969\"/><text fill=\"#000000\" font-family=\"sans-serif\" font-size=\"14\" font-weight=\"bold\" lengthAdjust=\"spacingAndGlyphs\" textLength=\"20\" x=\"166\" y=\"133.9951\">P1</text></a><!--MD5=[14e3b0961a2654348d326746436168a1]\n",
       "cluster E6--><a href=\"psysml:1d9d662c-22cb-416c-b8ab-bb9944386c4a\" target=\"_top\" title=\"psysml:1d9d662c-22cb-416c-b8ab-bb9944386c4a\" xlink:actuate=\"onRequest\" xlink:href=\"psysml:1d9d662c-22cb-416c-b8ab-bb9944386c4a\" xlink:show=\"new\" xlink:title=\"psysml:1d9d662c-22cb-416c-b8ab-bb9944386c4a\" xlink:type=\"simple\"><polygon fill=\"#FFFFFF\" points=\"40,119,66,119,73,141.2969,138,141.2969,138,216,40,216,40,119\" style=\"stroke: #000000; stroke-width: 1.5;\"/><line style=\"stroke: #000000; stroke-width: 1.5;\" x1=\"40\" x2=\"73\" y1=\"141.2969\" y2=\"141.2969\"/><text fill=\"#000000\" font-family=\"sans-serif\" font-size=\"14\" font-weight=\"bold\" lengthAdjust=\"spacingAndGlyphs\" textLength=\"20\" x=\"44\" y=\"133.9951\">P3</text></a><!--MD5=[270fce915f116d4de14055a7c1d9a0f3]\n",
       "class E5--><a href=\"psysml:0adc1dcd-eba4-4b19-b824-866ee03ed7de\" target=\"_top\" title=\"psysml:0adc1dcd-eba4-4b19-b824-866ee03ed7de\" xlink:actuate=\"onRequest\" xlink:href=\"psysml:0adc1dcd-eba4-4b19-b824-866ee03ed7de\" xlink:show=\"new\" xlink:title=\"psysml:0adc1dcd-eba4-4b19-b824-866ee03ed7de\" xlink:type=\"simple\"><rect fill=\"#FFFFFF\" height=\"45.9375\" id=\"E5\" rx=\"10\" ry=\"10\" style=\"stroke: #383838; stroke-width: 1.5;\" width=\"42\" x=\"190\" y=\"44.5\"/><text fill=\"#000000\" font-family=\"sans-serif\" font-size=\"12\" font-style=\"italic\" lengthAdjust=\"spacingAndGlyphs\" textLength=\"40\" x=\"191\" y=\"60.6387\">«part»</text><text fill=\"#000000\" font-family=\"sans-serif\" font-size=\"12\" lengthAdjust=\"spacingAndGlyphs\" textLength=\"22\" x=\"200\" y=\"74.6074\">x: A</text><line style=\"stroke: #383838; stroke-width: 1.5;\" x1=\"191\" x2=\"231\" y1=\"82.4375\" y2=\"82.4375\"/></a><!--MD5=[b9389687b975829384b498ac4b7476b2]\n",
       "class E8--><a href=\"psysml:b076f02a-ad00-46e0-858a-3e2f54feec2a\" target=\"_top\" title=\"psysml:b076f02a-ad00-46e0-858a-3e2f54feec2a\" xlink:actuate=\"onRequest\" xlink:href=\"psysml:b076f02a-ad00-46e0-858a-3e2f54feec2a\" xlink:show=\"new\" xlink:title=\"psysml:b076f02a-ad00-46e0-858a-3e2f54feec2a\" xlink:type=\"simple\"><rect fill=\"#FFFFFF\" height=\"45.9375\" id=\"E8\" rx=\"10\" ry=\"10\" style=\"stroke: #383838; stroke-width: 1.5;\" width=\"42\" x=\"107\" y=\"44.5\"/><text fill=\"#000000\" font-family=\"sans-serif\" font-size=\"12\" font-style=\"italic\" lengthAdjust=\"spacingAndGlyphs\" textLength=\"40\" x=\"108\" y=\"60.6387\">«part»</text><text fill=\"#000000\" font-family=\"sans-serif\" font-size=\"12\" lengthAdjust=\"spacingAndGlyphs\" textLength=\"21\" x=\"117.5\" y=\"74.6074\">z: B</text><line style=\"stroke: #383838; stroke-width: 1.5;\" x1=\"108\" x2=\"148\" y1=\"82.4375\" y2=\"82.4375\"/></a><!--MD5=[09b614a08d8cba4a07c9adeb5e0fee81]\n",
       "class E3--><a href=\"psysml:414aecf4-cab0-4d0d-b5e9-0bd22012706a\" target=\"_top\" title=\"psysml:414aecf4-cab0-4d0d-b5e9-0bd22012706a\" xlink:actuate=\"onRequest\" xlink:href=\"psysml:414aecf4-cab0-4d0d-b5e9-0bd22012706a\" xlink:show=\"new\" xlink:title=\"psysml:414aecf4-cab0-4d0d-b5e9-0bd22012706a\" xlink:type=\"simple\"><rect fill=\"#FFFFFF\" height=\"45.9375\" id=\"E3\" style=\"stroke: #383838; stroke-width: 1.5;\" width=\"66\" x=\"178\" y=\"154\"/><text fill=\"#000000\" font-family=\"sans-serif\" font-size=\"12\" font-style=\"italic\" lengthAdjust=\"spacingAndGlyphs\" textLength=\"64\" x=\"179\" y=\"170.1387\">«part def»</text><text fill=\"#000000\" font-family=\"sans-serif\" font-size=\"12\" lengthAdjust=\"spacingAndGlyphs\" textLength=\"8\" x=\"207\" y=\"184.1074\">A</text><line style=\"stroke: #383838; stroke-width: 1.5;\" x1=\"179\" x2=\"243\" y1=\"191.9375\" y2=\"191.9375\"/></a><a href=\"psysml:e62181a2-aa41-44c6-a86b-ee96628d0c50\" target=\"_top\" title=\"psysml:e62181a2-aa41-44c6-a86b-ee96628d0c50\" xlink:actuate=\"onRequest\" xlink:href=\"psysml:e62181a2-aa41-44c6-a86b-ee96628d0c50\" xlink:show=\"new\" xlink:title=\"psysml:e62181a2-aa41-44c6-a86b-ee96628d0c50\" xlink:type=\"simple\"><polygon fill=\"#FFFFFF\" points=\"32,41,58,41,65,63.2969,72,63.2969,72,93.5938,32,93.5938,32,41\" style=\"stroke: #000000; stroke-width: 1.5;\"/><line style=\"stroke: #000000; stroke-width: 1.5;\" x1=\"32\" x2=\"65\" y1=\"63.2969\" y2=\"63.2969\"/><text fill=\"#000000\" font-family=\"sans-serif\" font-size=\"14\" font-weight=\"bold\" lengthAdjust=\"spacingAndGlyphs\" textLength=\"20\" x=\"36\" y=\"55.9951\">P2</text></a><!--MD5=[2156ba9850f5573cc1fc38a6a4b2f02b]\n",
       "class E7--><a href=\"psysml:f619ebc7-1ca1-4b7d-a8d3-68584975adae\" target=\"_top\" title=\"psysml:f619ebc7-1ca1-4b7d-a8d3-68584975adae\" xlink:actuate=\"onRequest\" xlink:href=\"psysml:f619ebc7-1ca1-4b7d-a8d3-68584975adae\" xlink:show=\"new\" xlink:title=\"psysml:f619ebc7-1ca1-4b7d-a8d3-68584975adae\" xlink:type=\"simple\"><rect fill=\"#FFFFFF\" height=\"45.9375\" id=\"E7\" style=\"stroke: #383838; stroke-width: 1.5;\" width=\"66\" x=\"56\" y=\"154\"/><text fill=\"#000000\" font-family=\"sans-serif\" font-size=\"12\" font-style=\"italic\" lengthAdjust=\"spacingAndGlyphs\" textLength=\"64\" x=\"57\" y=\"170.1387\">«part def»</text><text fill=\"#000000\" font-family=\"sans-serif\" font-size=\"12\" lengthAdjust=\"spacingAndGlyphs\" textLength=\"8\" x=\"85\" y=\"184.1074\">B</text><line style=\"stroke: #383838; stroke-width: 1.5;\" x1=\"57\" x2=\"121\" y1=\"191.9375\" y2=\"191.9375\"/></a><!--MD5=[e9be52314489bd878ff4c7144b63c9e1]\n",
       "link E5 to E3--><a href=\"psysml:e8148481-e1af-4d30-a20f-345018eb1da9\" target=\"_top\" title=\"psysml:e8148481-e1af-4d30-a20f-345018eb1da9\" xlink:actuate=\"onRequest\" xlink:href=\"psysml:e8148481-e1af-4d30-a20f-345018eb1da9\" xlink:show=\"new\" xlink:title=\"psysml:e8148481-e1af-4d30-a20f-345018eb1da9\" xlink:type=\"simple\"><path d=\"M211,90.51 C211,102.89 211,118.78 211,133.48 \" fill=\"none\" id=\"E5-&gt;E3\" style=\"stroke: #383838; stroke-width: 1.0;\"/><polygon fill=\"#FFFFFF\" points=\"211,153.65,204,134.65,218,134.65,211,153.65\" style=\"stroke: #383838; stroke-width: 1.0;\"/><ellipse cx=\"206\" cy=\"128.95\" fill=\"#383838\" rx=\"2\" ry=\"2\" style=\"stroke: #383838; stroke-width: 1.0;\"/><ellipse cx=\"216\" cy=\"128.95\" fill=\"#383838\" rx=\"2\" ry=\"2\" style=\"stroke: #383838; stroke-width: 1.0;\"/></a><!--MD5=[bfa3c8b0d15052fdf50ae9310b491027]\n",
       "link E8 to E7--><a href=\"psysml:88eb6ab6-f030-4136-96c6-6d1b75343c8c\" target=\"_top\" title=\"psysml:88eb6ab6-f030-4136-96c6-6d1b75343c8c\" xlink:actuate=\"onRequest\" xlink:href=\"psysml:88eb6ab6-f030-4136-96c6-6d1b75343c8c\" xlink:show=\"new\" xlink:title=\"psysml:88eb6ab6-f030-4136-96c6-6d1b75343c8c\" xlink:type=\"simple\"><path d=\"M120.01,90.51 C115.39,103.25 109.42,119.7 103.96,134.76 \" fill=\"none\" id=\"E8-&gt;E7\" style=\"stroke: #383838; stroke-width: 1.0;\"/><polygon fill=\"#FFFFFF\" points=\"97.11,153.65,97.0036,133.4018,110.1656,138.1726,97.11,153.65\" style=\"stroke: #383838; stroke-width: 1.0;\"/><ellipse cx=\"100.8262\" cy=\"128.7245\" fill=\"#383838\" rx=\"2\" ry=\"2\" style=\"stroke: #383838; stroke-width: 1.0;\"/><ellipse cx=\"110.2277\" cy=\"132.1322\" fill=\"#383838\" rx=\"2\" ry=\"2\" style=\"stroke: #383838; stroke-width: 1.0;\"/></a><!--MD5=[2ed79078f86411a2b62c13fcccf06007]\n",
       "@startuml\r\n",
       "skinparam linetype polyline\r\n",
       "skinparam monochrome true\r\n",
       "skinparam classbackgroundcolor white\r\n",
       "skinparam shadowing false\r\n",
       "skinparam wrapWidth 300\r\n",
       "hide circle\r\n",
       "\r\n",
       "package \"PrivateImportTest\" as E1  [[psysml:a19fc987-58b9-4365-8e05-8e082939198f ]]  {\r\n",
       "package \"P1\" as E2  [[psysml:0afae52f-013a-41db-84e1-dbe02c327088 ]]  {\r\n",
       "comp def \"A\" as E3  <<(T,blue)part def>> [[psysml:414aecf4-cab0-4d0d-b5e9-0bd22012706a ]] {\r\n",
       "}\r\n",
       "}\r\n",
       "package \"P2\" as E4  [[psysml:e62181a2-aa41-44c6-a86b-ee96628d0c50 ]]  {\r\n",
       "}\r\n",
       "comp usage \"x: A\" as E5  <<(T,blue)part>> [[psysml:0adc1dcd-eba4-4b19-b824-866ee03ed7de ]] {\r\n",
       "}\r\n",
       "package \"P3\" as E6  [[psysml:1d9d662c-22cb-416c-b8ab-bb9944386c4a ]]  {\r\n",
       "comp def \"B\" as E7  <<(T,blue)part def>> [[psysml:f619ebc7-1ca1-4b7d-a8d3-68584975adae ]] {\r\n",
       "}\r\n",
       "E5 - -:|> E3 [[psysml:e8148481-e1af-4d30-a20f-345018eb1da9 ]] \r\n",
       "}\r\n",
       "comp usage \"z: B\" as E8  <<(T,blue)part>> [[psysml:b076f02a-ad00-46e0-858a-3e2f54feec2a ]] {\r\n",
       "}\r\n",
       "E8 - -:|> E7 [[psysml:88eb6ab6-f030-4136-96c6-6d1b75343c8c ]] \r\n",
       "}\r\n",
       "@enduml\r\n",
       "\n",
       "PlantUML version 1.2020.13(Sat Jun 13 12:26:38 UTC 2020)\n",
       "(EPL source distribution)\n",
       "Java Runtime: OpenJDK Runtime Environment\n",
       "JVM: OpenJDK 64-Bit Server VM\n",
       "Default Encoding: UTF-8\n",
       "Language: en\n",
       "Country: null\n",
       "--></g></svg>"
      ]
     },
     "execution_count": 14,
     "metadata": {},
     "output_type": "execute_result"
    }
   ],
   "source": [
    "%viz --style=\"POLYLINE\" --view=\"Sequence\" \"PrivateImportTest\""
   ]
  },
  {
   "cell_type": "code",
   "execution_count": 15,
   "id": "minute-graphic",
   "metadata": {
    "execution": {
     "iopub.execute_input": "2021-03-25T09:26:38.391699Z",
     "iopub.status.busy": "2021-03-25T09:26:38.391088Z",
     "iopub.status.idle": "2021-03-25T09:26:38.468807Z",
     "shell.execute_reply": "2021-03-25T09:26:38.467342Z"
    }
   },
   "outputs": [
    {
     "data": {
      "image/svg+xml": [
       "<?xml version=\"1.0\" encoding=\"UTF-8\" standalone=\"no\"?><svg xmlns=\"http://www.w3.org/2000/svg\" xmlns:xlink=\"http://www.w3.org/1999/xlink\" contentScriptType=\"application/ecmascript\" contentStyleType=\"text/css\" height=\"252px\" preserveAspectRatio=\"none\" style=\"width:306px;height:252px;\" version=\"1.1\" viewBox=\"0 0 306 252\" width=\"306px\" zoomAndPan=\"magnify\"><defs/><g><!--MD5=[fbc87193dbaf4d95561dea2c320d4a47]\n",
       "cluster E1--><a href=\"psysml:a19fc987-58b9-4365-8e05-8e082939198f\" target=\"_top\" title=\"psysml:a19fc987-58b9-4365-8e05-8e082939198f\" xlink:actuate=\"onRequest\" xlink:href=\"psysml:a19fc987-58b9-4365-8e05-8e082939198f\" xlink:show=\"new\" xlink:title=\"psysml:a19fc987-58b9-4365-8e05-8e082939198f\" xlink:type=\"simple\"><polygon fill=\"#FFFFFF\" points=\"16,6,163,6,170,28.2969,284,28.2969,284,240,16,240,16,6\" style=\"stroke: #000000; stroke-width: 1.5;\"/><line style=\"stroke: #000000; stroke-width: 1.5;\" x1=\"16\" x2=\"170\" y1=\"28.2969\" y2=\"28.2969\"/><text fill=\"#000000\" font-family=\"sans-serif\" font-size=\"14\" font-weight=\"bold\" lengthAdjust=\"spacingAndGlyphs\" textLength=\"141\" x=\"20\" y=\"20.9951\">PrivateImportTest</text></a><!--MD5=[e4f7fae6ed58524ba242bb0b0d3be6b7]\n",
       "cluster E2--><a href=\"psysml:0afae52f-013a-41db-84e1-dbe02c327088\" target=\"_top\" title=\"psysml:0afae52f-013a-41db-84e1-dbe02c327088\" xlink:actuate=\"onRequest\" xlink:href=\"psysml:0afae52f-013a-41db-84e1-dbe02c327088\" xlink:show=\"new\" xlink:title=\"psysml:0afae52f-013a-41db-84e1-dbe02c327088\" xlink:type=\"simple\"><polygon fill=\"#FFFFFF\" points=\"162,119,188,119,195,141.2969,260,141.2969,260,216,162,216,162,119\" style=\"stroke: #000000; stroke-width: 1.5;\"/><line style=\"stroke: #000000; stroke-width: 1.5;\" x1=\"162\" x2=\"195\" y1=\"141.2969\" y2=\"141.2969\"/><text fill=\"#000000\" font-family=\"sans-serif\" font-size=\"14\" font-weight=\"bold\" lengthAdjust=\"spacingAndGlyphs\" textLength=\"20\" x=\"166\" y=\"133.9951\">P1</text></a><!--MD5=[14e3b0961a2654348d326746436168a1]\n",
       "cluster E6--><a href=\"psysml:1d9d662c-22cb-416c-b8ab-bb9944386c4a\" target=\"_top\" title=\"psysml:1d9d662c-22cb-416c-b8ab-bb9944386c4a\" xlink:actuate=\"onRequest\" xlink:href=\"psysml:1d9d662c-22cb-416c-b8ab-bb9944386c4a\" xlink:show=\"new\" xlink:title=\"psysml:1d9d662c-22cb-416c-b8ab-bb9944386c4a\" xlink:type=\"simple\"><polygon fill=\"#FFFFFF\" points=\"40,119,66,119,73,141.2969,138,141.2969,138,216,40,216,40,119\" style=\"stroke: #000000; stroke-width: 1.5;\"/><line style=\"stroke: #000000; stroke-width: 1.5;\" x1=\"40\" x2=\"73\" y1=\"141.2969\" y2=\"141.2969\"/><text fill=\"#000000\" font-family=\"sans-serif\" font-size=\"14\" font-weight=\"bold\" lengthAdjust=\"spacingAndGlyphs\" textLength=\"20\" x=\"44\" y=\"133.9951\">P3</text></a><!--MD5=[270fce915f116d4de14055a7c1d9a0f3]\n",
       "class E5--><a href=\"psysml:0adc1dcd-eba4-4b19-b824-866ee03ed7de\" target=\"_top\" title=\"psysml:0adc1dcd-eba4-4b19-b824-866ee03ed7de\" xlink:actuate=\"onRequest\" xlink:href=\"psysml:0adc1dcd-eba4-4b19-b824-866ee03ed7de\" xlink:show=\"new\" xlink:title=\"psysml:0adc1dcd-eba4-4b19-b824-866ee03ed7de\" xlink:type=\"simple\"><rect fill=\"#FFFFFF\" height=\"45.9375\" id=\"E5\" rx=\"10\" ry=\"10\" style=\"stroke: #383838; stroke-width: 1.5;\" width=\"42\" x=\"190\" y=\"44.5\"/><text fill=\"#000000\" font-family=\"sans-serif\" font-size=\"12\" font-style=\"italic\" lengthAdjust=\"spacingAndGlyphs\" textLength=\"40\" x=\"191\" y=\"60.6387\">«part»</text><text fill=\"#000000\" font-family=\"sans-serif\" font-size=\"12\" lengthAdjust=\"spacingAndGlyphs\" textLength=\"22\" x=\"200\" y=\"74.6074\">x: A</text><line style=\"stroke: #383838; stroke-width: 1.5;\" x1=\"191\" x2=\"231\" y1=\"82.4375\" y2=\"82.4375\"/></a><!--MD5=[b9389687b975829384b498ac4b7476b2]\n",
       "class E8--><a href=\"psysml:b076f02a-ad00-46e0-858a-3e2f54feec2a\" target=\"_top\" title=\"psysml:b076f02a-ad00-46e0-858a-3e2f54feec2a\" xlink:actuate=\"onRequest\" xlink:href=\"psysml:b076f02a-ad00-46e0-858a-3e2f54feec2a\" xlink:show=\"new\" xlink:title=\"psysml:b076f02a-ad00-46e0-858a-3e2f54feec2a\" xlink:type=\"simple\"><rect fill=\"#FFFFFF\" height=\"45.9375\" id=\"E8\" rx=\"10\" ry=\"10\" style=\"stroke: #383838; stroke-width: 1.5;\" width=\"42\" x=\"107\" y=\"44.5\"/><text fill=\"#000000\" font-family=\"sans-serif\" font-size=\"12\" font-style=\"italic\" lengthAdjust=\"spacingAndGlyphs\" textLength=\"40\" x=\"108\" y=\"60.6387\">«part»</text><text fill=\"#000000\" font-family=\"sans-serif\" font-size=\"12\" lengthAdjust=\"spacingAndGlyphs\" textLength=\"21\" x=\"117.5\" y=\"74.6074\">z: B</text><line style=\"stroke: #383838; stroke-width: 1.5;\" x1=\"108\" x2=\"148\" y1=\"82.4375\" y2=\"82.4375\"/></a><!--MD5=[09b614a08d8cba4a07c9adeb5e0fee81]\n",
       "class E3--><a href=\"psysml:414aecf4-cab0-4d0d-b5e9-0bd22012706a\" target=\"_top\" title=\"psysml:414aecf4-cab0-4d0d-b5e9-0bd22012706a\" xlink:actuate=\"onRequest\" xlink:href=\"psysml:414aecf4-cab0-4d0d-b5e9-0bd22012706a\" xlink:show=\"new\" xlink:title=\"psysml:414aecf4-cab0-4d0d-b5e9-0bd22012706a\" xlink:type=\"simple\"><rect fill=\"#FFFFFF\" height=\"45.9375\" id=\"E3\" style=\"stroke: #383838; stroke-width: 1.5;\" width=\"66\" x=\"178\" y=\"154\"/><text fill=\"#000000\" font-family=\"sans-serif\" font-size=\"12\" font-style=\"italic\" lengthAdjust=\"spacingAndGlyphs\" textLength=\"64\" x=\"179\" y=\"170.1387\">«part def»</text><text fill=\"#000000\" font-family=\"sans-serif\" font-size=\"12\" lengthAdjust=\"spacingAndGlyphs\" textLength=\"8\" x=\"207\" y=\"184.1074\">A</text><line style=\"stroke: #383838; stroke-width: 1.5;\" x1=\"179\" x2=\"243\" y1=\"191.9375\" y2=\"191.9375\"/></a><a href=\"psysml:e62181a2-aa41-44c6-a86b-ee96628d0c50\" target=\"_top\" title=\"psysml:e62181a2-aa41-44c6-a86b-ee96628d0c50\" xlink:actuate=\"onRequest\" xlink:href=\"psysml:e62181a2-aa41-44c6-a86b-ee96628d0c50\" xlink:show=\"new\" xlink:title=\"psysml:e62181a2-aa41-44c6-a86b-ee96628d0c50\" xlink:type=\"simple\"><polygon fill=\"#FFFFFF\" points=\"32,41,58,41,65,63.2969,72,63.2969,72,93.5938,32,93.5938,32,41\" style=\"stroke: #000000; stroke-width: 1.5;\"/><line style=\"stroke: #000000; stroke-width: 1.5;\" x1=\"32\" x2=\"65\" y1=\"63.2969\" y2=\"63.2969\"/><text fill=\"#000000\" font-family=\"sans-serif\" font-size=\"14\" font-weight=\"bold\" lengthAdjust=\"spacingAndGlyphs\" textLength=\"20\" x=\"36\" y=\"55.9951\">P2</text></a><!--MD5=[2156ba9850f5573cc1fc38a6a4b2f02b]\n",
       "class E7--><a href=\"psysml:f619ebc7-1ca1-4b7d-a8d3-68584975adae\" target=\"_top\" title=\"psysml:f619ebc7-1ca1-4b7d-a8d3-68584975adae\" xlink:actuate=\"onRequest\" xlink:href=\"psysml:f619ebc7-1ca1-4b7d-a8d3-68584975adae\" xlink:show=\"new\" xlink:title=\"psysml:f619ebc7-1ca1-4b7d-a8d3-68584975adae\" xlink:type=\"simple\"><rect fill=\"#FFFFFF\" height=\"45.9375\" id=\"E7\" style=\"stroke: #383838; stroke-width: 1.5;\" width=\"66\" x=\"56\" y=\"154\"/><text fill=\"#000000\" font-family=\"sans-serif\" font-size=\"12\" font-style=\"italic\" lengthAdjust=\"spacingAndGlyphs\" textLength=\"64\" x=\"57\" y=\"170.1387\">«part def»</text><text fill=\"#000000\" font-family=\"sans-serif\" font-size=\"12\" lengthAdjust=\"spacingAndGlyphs\" textLength=\"8\" x=\"85\" y=\"184.1074\">B</text><line style=\"stroke: #383838; stroke-width: 1.5;\" x1=\"57\" x2=\"121\" y1=\"191.9375\" y2=\"191.9375\"/></a><!--MD5=[e9be52314489bd878ff4c7144b63c9e1]\n",
       "link E5 to E3--><a href=\"psysml:e8148481-e1af-4d30-a20f-345018eb1da9\" target=\"_top\" title=\"psysml:e8148481-e1af-4d30-a20f-345018eb1da9\" xlink:actuate=\"onRequest\" xlink:href=\"psysml:e8148481-e1af-4d30-a20f-345018eb1da9\" xlink:show=\"new\" xlink:title=\"psysml:e8148481-e1af-4d30-a20f-345018eb1da9\" xlink:type=\"simple\"><path d=\"M211,90.51 C211,102.89 211,118.78 211,133.48 \" fill=\"none\" id=\"E5-&gt;E3\" style=\"stroke: #383838; stroke-width: 1.0;\"/><polygon fill=\"#FFFFFF\" points=\"211,153.65,204,134.65,218,134.65,211,153.65\" style=\"stroke: #383838; stroke-width: 1.0;\"/><ellipse cx=\"206\" cy=\"128.95\" fill=\"#383838\" rx=\"2\" ry=\"2\" style=\"stroke: #383838; stroke-width: 1.0;\"/><ellipse cx=\"216\" cy=\"128.95\" fill=\"#383838\" rx=\"2\" ry=\"2\" style=\"stroke: #383838; stroke-width: 1.0;\"/></a><!--MD5=[bfa3c8b0d15052fdf50ae9310b491027]\n",
       "link E8 to E7--><a href=\"psysml:88eb6ab6-f030-4136-96c6-6d1b75343c8c\" target=\"_top\" title=\"psysml:88eb6ab6-f030-4136-96c6-6d1b75343c8c\" xlink:actuate=\"onRequest\" xlink:href=\"psysml:88eb6ab6-f030-4136-96c6-6d1b75343c8c\" xlink:show=\"new\" xlink:title=\"psysml:88eb6ab6-f030-4136-96c6-6d1b75343c8c\" xlink:type=\"simple\"><path d=\"M120.01,90.51 C115.39,103.25 109.42,119.7 103.96,134.76 \" fill=\"none\" id=\"E8-&gt;E7\" style=\"stroke: #383838; stroke-width: 1.0;\"/><polygon fill=\"#FFFFFF\" points=\"97.11,153.65,97.0036,133.4018,110.1656,138.1726,97.11,153.65\" style=\"stroke: #383838; stroke-width: 1.0;\"/><ellipse cx=\"100.8262\" cy=\"128.7245\" fill=\"#383838\" rx=\"2\" ry=\"2\" style=\"stroke: #383838; stroke-width: 1.0;\"/><ellipse cx=\"110.2277\" cy=\"132.1322\" fill=\"#383838\" rx=\"2\" ry=\"2\" style=\"stroke: #383838; stroke-width: 1.0;\"/></a><!--MD5=[2ed79078f86411a2b62c13fcccf06007]\n",
       "@startuml\r\n",
       "skinparam linetype polyline\r\n",
       "skinparam monochrome true\r\n",
       "skinparam classbackgroundcolor white\r\n",
       "skinparam shadowing false\r\n",
       "skinparam wrapWidth 300\r\n",
       "hide circle\r\n",
       "\r\n",
       "package \"PrivateImportTest\" as E1  [[psysml:a19fc987-58b9-4365-8e05-8e082939198f ]]  {\r\n",
       "package \"P1\" as E2  [[psysml:0afae52f-013a-41db-84e1-dbe02c327088 ]]  {\r\n",
       "comp def \"A\" as E3  <<(T,blue)part def>> [[psysml:414aecf4-cab0-4d0d-b5e9-0bd22012706a ]] {\r\n",
       "}\r\n",
       "}\r\n",
       "package \"P2\" as E4  [[psysml:e62181a2-aa41-44c6-a86b-ee96628d0c50 ]]  {\r\n",
       "}\r\n",
       "comp usage \"x: A\" as E5  <<(T,blue)part>> [[psysml:0adc1dcd-eba4-4b19-b824-866ee03ed7de ]] {\r\n",
       "}\r\n",
       "package \"P3\" as E6  [[psysml:1d9d662c-22cb-416c-b8ab-bb9944386c4a ]]  {\r\n",
       "comp def \"B\" as E7  <<(T,blue)part def>> [[psysml:f619ebc7-1ca1-4b7d-a8d3-68584975adae ]] {\r\n",
       "}\r\n",
       "E5 - -:|> E3 [[psysml:e8148481-e1af-4d30-a20f-345018eb1da9 ]] \r\n",
       "}\r\n",
       "comp usage \"z: B\" as E8  <<(T,blue)part>> [[psysml:b076f02a-ad00-46e0-858a-3e2f54feec2a ]] {\r\n",
       "}\r\n",
       "E8 - -:|> E7 [[psysml:88eb6ab6-f030-4136-96c6-6d1b75343c8c ]] \r\n",
       "}\r\n",
       "@enduml\r\n",
       "\n",
       "PlantUML version 1.2020.13(Sat Jun 13 12:26:38 UTC 2020)\n",
       "(EPL source distribution)\n",
       "Java Runtime: OpenJDK Runtime Environment\n",
       "JVM: OpenJDK 64-Bit Server VM\n",
       "Default Encoding: UTF-8\n",
       "Language: en\n",
       "Country: null\n",
       "--></g></svg>"
      ]
     },
     "execution_count": 15,
     "metadata": {},
     "output_type": "execute_result"
    }
   ],
   "source": [
    "%viz --style=\"POLYLINE\" --view=\"MIXED\" \"PrivateImportTest\""
   ]
  },
  {
   "cell_type": "code",
   "execution_count": 16,
   "id": "brilliant-picture",
   "metadata": {
    "execution": {
     "iopub.execute_input": "2021-03-25T09:26:38.521726Z",
     "iopub.status.busy": "2021-03-25T09:26:38.520846Z",
     "iopub.status.idle": "2021-03-25T09:26:38.597365Z",
     "shell.execute_reply": "2021-03-25T09:26:38.595659Z"
    }
   },
   "outputs": [
    {
     "data": {
      "image/svg+xml": [
       "<?xml version=\"1.0\" encoding=\"UTF-8\" standalone=\"no\"?><svg xmlns=\"http://www.w3.org/2000/svg\" xmlns:xlink=\"http://www.w3.org/1999/xlink\" contentScriptType=\"application/ecmascript\" contentStyleType=\"text/css\" height=\"303px\" preserveAspectRatio=\"none\" style=\"width:262px;height:303px;\" version=\"1.1\" viewBox=\"0 0 262 303\" width=\"262px\" zoomAndPan=\"magnify\"><defs/><g><!--MD5=[fbc87193dbaf4d95561dea2c320d4a47]\n",
       "cluster E1--><a href=\"psysml:a19fc987-58b9-4365-8e05-8e082939198f\" target=\"_top\" title=\"psysml:a19fc987-58b9-4365-8e05-8e082939198f\" xlink:actuate=\"onRequest\" xlink:href=\"psysml:a19fc987-58b9-4365-8e05-8e082939198f\" xlink:show=\"new\" xlink:title=\"psysml:a19fc987-58b9-4365-8e05-8e082939198f\" xlink:type=\"simple\"><polygon fill=\"#FFFFFF\" points=\"16,6,163,6,170,28.2969,240,28.2969,240,291,16,291,16,6\" style=\"stroke: #000000; stroke-width: 1.5;\"/><line style=\"stroke: #000000; stroke-width: 1.5;\" x1=\"16\" x2=\"170\" y1=\"28.2969\" y2=\"28.2969\"/><text fill=\"#000000\" font-family=\"sans-serif\" font-size=\"14\" font-weight=\"bold\" lengthAdjust=\"spacingAndGlyphs\" textLength=\"141\" x=\"20\" y=\"20.9951\">PrivateImportTest</text></a><!--MD5=[e4f7fae6ed58524ba242bb0b0d3be6b7]\n",
       "cluster E2--><a href=\"psysml:0afae52f-013a-41db-84e1-dbe02c327088\" target=\"_top\" title=\"psysml:0afae52f-013a-41db-84e1-dbe02c327088\" xlink:actuate=\"onRequest\" xlink:href=\"psysml:0afae52f-013a-41db-84e1-dbe02c327088\" xlink:show=\"new\" xlink:title=\"psysml:0afae52f-013a-41db-84e1-dbe02c327088\" xlink:type=\"simple\"><polygon fill=\"#FFFFFF\" points=\"118,49,144,49,151,71.2969,216,71.2969,216,146,118,146,118,49\" style=\"stroke: #000000; stroke-width: 1.5;\"/><line style=\"stroke: #000000; stroke-width: 1.5;\" x1=\"118\" x2=\"151\" y1=\"71.2969\" y2=\"71.2969\"/><text fill=\"#000000\" font-family=\"sans-serif\" font-size=\"14\" font-weight=\"bold\" lengthAdjust=\"spacingAndGlyphs\" textLength=\"20\" x=\"122\" y=\"63.9951\">P1</text></a><!--MD5=[14e3b0961a2654348d326746436168a1]\n",
       "cluster E6--><a href=\"psysml:1d9d662c-22cb-416c-b8ab-bb9944386c4a\" target=\"_top\" title=\"psysml:1d9d662c-22cb-416c-b8ab-bb9944386c4a\" xlink:actuate=\"onRequest\" xlink:href=\"psysml:1d9d662c-22cb-416c-b8ab-bb9944386c4a\" xlink:show=\"new\" xlink:title=\"psysml:1d9d662c-22cb-416c-b8ab-bb9944386c4a\" xlink:type=\"simple\"><polygon fill=\"#FFFFFF\" points=\"118,170,144,170,151,192.2969,216,192.2969,216,267,118,267,118,170\" style=\"stroke: #000000; stroke-width: 1.5;\"/><line style=\"stroke: #000000; stroke-width: 1.5;\" x1=\"118\" x2=\"151\" y1=\"192.2969\" y2=\"192.2969\"/><text fill=\"#000000\" font-family=\"sans-serif\" font-size=\"14\" font-weight=\"bold\" lengthAdjust=\"spacingAndGlyphs\" textLength=\"20\" x=\"122\" y=\"184.9951\">P3</text></a><!--MD5=[270fce915f116d4de14055a7c1d9a0f3]\n",
       "class E5--><a href=\"psysml:0adc1dcd-eba4-4b19-b824-866ee03ed7de\" target=\"_top\" title=\"psysml:0adc1dcd-eba4-4b19-b824-866ee03ed7de\" xlink:actuate=\"onRequest\" xlink:href=\"psysml:0adc1dcd-eba4-4b19-b824-866ee03ed7de\" xlink:show=\"new\" xlink:title=\"psysml:0adc1dcd-eba4-4b19-b824-866ee03ed7de\" xlink:type=\"simple\"><rect fill=\"#FFFFFF\" height=\"45.9375\" id=\"E5\" rx=\"10\" ry=\"10\" style=\"stroke: #383838; stroke-width: 1.5;\" width=\"42\" x=\"32\" y=\"59\"/><text fill=\"#000000\" font-family=\"sans-serif\" font-size=\"12\" font-style=\"italic\" lengthAdjust=\"spacingAndGlyphs\" textLength=\"40\" x=\"33\" y=\"75.1387\">«part»</text><text fill=\"#000000\" font-family=\"sans-serif\" font-size=\"12\" lengthAdjust=\"spacingAndGlyphs\" textLength=\"22\" x=\"42\" y=\"89.1074\">x: A</text><line style=\"stroke: #383838; stroke-width: 1.5;\" x1=\"33\" x2=\"73\" y1=\"96.9375\" y2=\"96.9375\"/></a><!--MD5=[b9389687b975829384b498ac4b7476b2]\n",
       "class E8--><a href=\"psysml:b076f02a-ad00-46e0-858a-3e2f54feec2a\" target=\"_top\" title=\"psysml:b076f02a-ad00-46e0-858a-3e2f54feec2a\" xlink:actuate=\"onRequest\" xlink:href=\"psysml:b076f02a-ad00-46e0-858a-3e2f54feec2a\" xlink:show=\"new\" xlink:title=\"psysml:b076f02a-ad00-46e0-858a-3e2f54feec2a\" xlink:type=\"simple\"><rect fill=\"#FFFFFF\" height=\"45.9375\" id=\"E8\" rx=\"10\" ry=\"10\" style=\"stroke: #383838; stroke-width: 1.5;\" width=\"42\" x=\"32\" y=\"140\"/><text fill=\"#000000\" font-family=\"sans-serif\" font-size=\"12\" font-style=\"italic\" lengthAdjust=\"spacingAndGlyphs\" textLength=\"40\" x=\"33\" y=\"156.1387\">«part»</text><text fill=\"#000000\" font-family=\"sans-serif\" font-size=\"12\" lengthAdjust=\"spacingAndGlyphs\" textLength=\"21\" x=\"42.5\" y=\"170.1074\">z: B</text><line style=\"stroke: #383838; stroke-width: 1.5;\" x1=\"33\" x2=\"73\" y1=\"177.9375\" y2=\"177.9375\"/></a><!--MD5=[09b614a08d8cba4a07c9adeb5e0fee81]\n",
       "class E3--><a href=\"psysml:414aecf4-cab0-4d0d-b5e9-0bd22012706a\" target=\"_top\" title=\"psysml:414aecf4-cab0-4d0d-b5e9-0bd22012706a\" xlink:actuate=\"onRequest\" xlink:href=\"psysml:414aecf4-cab0-4d0d-b5e9-0bd22012706a\" xlink:show=\"new\" xlink:title=\"psysml:414aecf4-cab0-4d0d-b5e9-0bd22012706a\" xlink:type=\"simple\"><rect fill=\"#FFFFFF\" height=\"45.9375\" id=\"E3\" style=\"stroke: #383838; stroke-width: 1.5;\" width=\"66\" x=\"134\" y=\"84\"/><text fill=\"#000000\" font-family=\"sans-serif\" font-size=\"12\" font-style=\"italic\" lengthAdjust=\"spacingAndGlyphs\" textLength=\"64\" x=\"135\" y=\"100.1387\">«part def»</text><text fill=\"#000000\" font-family=\"sans-serif\" font-size=\"12\" lengthAdjust=\"spacingAndGlyphs\" textLength=\"8\" x=\"163\" y=\"114.1074\">A</text><line style=\"stroke: #383838; stroke-width: 1.5;\" x1=\"135\" x2=\"199\" y1=\"121.9375\" y2=\"121.9375\"/></a><a href=\"psysml:e62181a2-aa41-44c6-a86b-ee96628d0c50\" target=\"_top\" title=\"psysml:e62181a2-aa41-44c6-a86b-ee96628d0c50\" xlink:actuate=\"onRequest\" xlink:href=\"psysml:e62181a2-aa41-44c6-a86b-ee96628d0c50\" xlink:show=\"new\" xlink:title=\"psysml:e62181a2-aa41-44c6-a86b-ee96628d0c50\" xlink:type=\"simple\"><polygon fill=\"#FFFFFF\" points=\"33,221.5,59,221.5,66,243.7969,73,243.7969,73,274.0938,33,274.0938,33,221.5\" style=\"stroke: #000000; stroke-width: 1.5;\"/><line style=\"stroke: #000000; stroke-width: 1.5;\" x1=\"33\" x2=\"66\" y1=\"243.7969\" y2=\"243.7969\"/><text fill=\"#000000\" font-family=\"sans-serif\" font-size=\"14\" font-weight=\"bold\" lengthAdjust=\"spacingAndGlyphs\" textLength=\"20\" x=\"37\" y=\"236.4951\">P2</text></a><!--MD5=[2156ba9850f5573cc1fc38a6a4b2f02b]\n",
       "class E7--><a href=\"psysml:f619ebc7-1ca1-4b7d-a8d3-68584975adae\" target=\"_top\" title=\"psysml:f619ebc7-1ca1-4b7d-a8d3-68584975adae\" xlink:actuate=\"onRequest\" xlink:href=\"psysml:f619ebc7-1ca1-4b7d-a8d3-68584975adae\" xlink:show=\"new\" xlink:title=\"psysml:f619ebc7-1ca1-4b7d-a8d3-68584975adae\" xlink:type=\"simple\"><rect fill=\"#FFFFFF\" height=\"45.9375\" id=\"E7\" style=\"stroke: #383838; stroke-width: 1.5;\" width=\"66\" x=\"134\" y=\"205\"/><text fill=\"#000000\" font-family=\"sans-serif\" font-size=\"12\" font-style=\"italic\" lengthAdjust=\"spacingAndGlyphs\" textLength=\"64\" x=\"135\" y=\"221.1387\">«part def»</text><text fill=\"#000000\" font-family=\"sans-serif\" font-size=\"12\" lengthAdjust=\"spacingAndGlyphs\" textLength=\"8\" x=\"163\" y=\"235.1074\">B</text><line style=\"stroke: #383838; stroke-width: 1.5;\" x1=\"135\" x2=\"199\" y1=\"242.9375\" y2=\"242.9375\"/></a><!--MD5=[e9be52314489bd878ff4c7144b63c9e1]\n",
       "link E5 to E3--><a href=\"psysml:e8148481-e1af-4d30-a20f-345018eb1da9\" target=\"_top\" title=\"psysml:e8148481-e1af-4d30-a20f-345018eb1da9\" xlink:actuate=\"onRequest\" xlink:href=\"psysml:e8148481-e1af-4d30-a20f-345018eb1da9\" xlink:show=\"new\" xlink:title=\"psysml:e8148481-e1af-4d30-a20f-345018eb1da9\" xlink:type=\"simple\"><path d=\"M74.02,86.47 C85.31,88.99 99.99,92.27 114.29,95.46 \" fill=\"none\" id=\"E5-&gt;E3\" style=\"stroke: #383838; stroke-width: 1.0;\"/><polygon fill=\"#FFFFFF\" points=\"133.86,99.83,113.7912,102.5214,116.842,88.8579,133.86,99.83\" style=\"stroke: #383838; stroke-width: 1.0;\"/><ellipse cx=\"108.664\" cy=\"99.3274\" fill=\"#383838\" rx=\"2\" ry=\"2\" style=\"stroke: #383838; stroke-width: 1.0;\"/><ellipse cx=\"110.8432\" cy=\"89.5677\" fill=\"#383838\" rx=\"2\" ry=\"2\" style=\"stroke: #383838; stroke-width: 1.0;\"/></a><!--MD5=[bfa3c8b0d15052fdf50ae9310b491027]\n",
       "link E8 to E7--><a href=\"psysml:88eb6ab6-f030-4136-96c6-6d1b75343c8c\" target=\"_top\" title=\"psysml:88eb6ab6-f030-4136-96c6-6d1b75343c8c\" xlink:actuate=\"onRequest\" xlink:href=\"psysml:88eb6ab6-f030-4136-96c6-6d1b75343c8c\" xlink:show=\"new\" xlink:title=\"psysml:88eb6ab6-f030-4136-96c6-6d1b75343c8c\" xlink:type=\"simple\"><path d=\"M74.02,174.62 C85.83,181.47 101.34,190.48 116.26,199.13 \" fill=\"none\" id=\"E8-&gt;E7\" style=\"stroke: #383838; stroke-width: 1.0;\"/><polygon fill=\"#FFFFFF\" points=\"133.86,209.35,113.9116,205.8773,120.9328,193.7652,133.86,209.35\" style=\"stroke: #383838; stroke-width: 1.0;\"/><ellipse cx=\"109.9832\" cy=\"201.2883\" fill=\"#383838\" rx=\"2\" ry=\"2\" style=\"stroke: #383838; stroke-width: 1.0;\"/><ellipse cx=\"114.9984\" cy=\"192.6368\" fill=\"#383838\" rx=\"2\" ry=\"2\" style=\"stroke: #383838; stroke-width: 1.0;\"/></a><!--MD5=[a922e7e024a896ee16fe2806f5710be8]\n",
       "@startuml\r\n",
       "left to right direction\r\n",
       "skinparam monochrome true\r\n",
       "skinparam classbackgroundcolor white\r\n",
       "skinparam shadowing false\r\n",
       "skinparam wrapWidth 300\r\n",
       "hide circle\r\n",
       "\r\n",
       "package \"PrivateImportTest\" as E1  [[psysml:a19fc987-58b9-4365-8e05-8e082939198f ]]  {\r\n",
       "package \"P1\" as E2  [[psysml:0afae52f-013a-41db-84e1-dbe02c327088 ]]  {\r\n",
       "comp def \"A\" as E3  <<(T,blue)part def>> [[psysml:414aecf4-cab0-4d0d-b5e9-0bd22012706a ]] {\r\n",
       "}\r\n",
       "}\r\n",
       "package \"P2\" as E4  [[psysml:e62181a2-aa41-44c6-a86b-ee96628d0c50 ]]  {\r\n",
       "}\r\n",
       "comp usage \"x: A\" as E5  <<(T,blue)part>> [[psysml:0adc1dcd-eba4-4b19-b824-866ee03ed7de ]] {\r\n",
       "}\r\n",
       "package \"P3\" as E6  [[psysml:1d9d662c-22cb-416c-b8ab-bb9944386c4a ]]  {\r\n",
       "comp def \"B\" as E7  <<(T,blue)part def>> [[psysml:f619ebc7-1ca1-4b7d-a8d3-68584975adae ]] {\r\n",
       "}\r\n",
       "E5 - -:|> E3 [[psysml:e8148481-e1af-4d30-a20f-345018eb1da9 ]] \r\n",
       "}\r\n",
       "comp usage \"z: B\" as E8  <<(T,blue)part>> [[psysml:b076f02a-ad00-46e0-858a-3e2f54feec2a ]] {\r\n",
       "}\r\n",
       "E8 - -:|> E7 [[psysml:88eb6ab6-f030-4136-96c6-6d1b75343c8c ]] \r\n",
       "}\r\n",
       "@enduml\r\n",
       "\n",
       "PlantUML version 1.2020.13(Sat Jun 13 12:26:38 UTC 2020)\n",
       "(EPL source distribution)\n",
       "Java Runtime: OpenJDK Runtime Environment\n",
       "JVM: OpenJDK 64-Bit Server VM\n",
       "Default Encoding: UTF-8\n",
       "Language: en\n",
       "Country: null\n",
       "--></g></svg>"
      ]
     },
     "execution_count": 16,
     "metadata": {},
     "output_type": "execute_result"
    }
   ],
   "source": [
    "%viz --style=\"LR\" --view=\"Default\" \"PrivateImportTest\""
   ]
  },
  {
   "cell_type": "code",
   "execution_count": 17,
   "id": "sitting-short",
   "metadata": {
    "execution": {
     "iopub.execute_input": "2021-03-25T09:26:38.651492Z",
     "iopub.status.busy": "2021-03-25T09:26:38.650572Z",
     "iopub.status.idle": "2021-03-25T09:26:38.723979Z",
     "shell.execute_reply": "2021-03-25T09:26:38.723640Z"
    }
   },
   "outputs": [
    {
     "data": {
      "image/svg+xml": [
       "<?xml version=\"1.0\" encoding=\"UTF-8\" standalone=\"no\"?><svg xmlns=\"http://www.w3.org/2000/svg\" xmlns:xlink=\"http://www.w3.org/1999/xlink\" contentScriptType=\"application/ecmascript\" contentStyleType=\"text/css\" height=\"303px\" preserveAspectRatio=\"none\" style=\"width:262px;height:303px;\" version=\"1.1\" viewBox=\"0 0 262 303\" width=\"262px\" zoomAndPan=\"magnify\"><defs/><g><!--MD5=[fbc87193dbaf4d95561dea2c320d4a47]\n",
       "cluster E1--><a href=\"psysml:a19fc987-58b9-4365-8e05-8e082939198f\" target=\"_top\" title=\"psysml:a19fc987-58b9-4365-8e05-8e082939198f\" xlink:actuate=\"onRequest\" xlink:href=\"psysml:a19fc987-58b9-4365-8e05-8e082939198f\" xlink:show=\"new\" xlink:title=\"psysml:a19fc987-58b9-4365-8e05-8e082939198f\" xlink:type=\"simple\"><polygon fill=\"#FFFFFF\" points=\"16,6,163,6,170,28.2969,240,28.2969,240,291,16,291,16,6\" style=\"stroke: #000000; stroke-width: 1.5;\"/><line style=\"stroke: #000000; stroke-width: 1.5;\" x1=\"16\" x2=\"170\" y1=\"28.2969\" y2=\"28.2969\"/><text fill=\"#000000\" font-family=\"sans-serif\" font-size=\"14\" font-weight=\"bold\" lengthAdjust=\"spacingAndGlyphs\" textLength=\"141\" x=\"20\" y=\"20.9951\">PrivateImportTest</text></a><!--MD5=[e4f7fae6ed58524ba242bb0b0d3be6b7]\n",
       "cluster E2--><a href=\"psysml:0afae52f-013a-41db-84e1-dbe02c327088\" target=\"_top\" title=\"psysml:0afae52f-013a-41db-84e1-dbe02c327088\" xlink:actuate=\"onRequest\" xlink:href=\"psysml:0afae52f-013a-41db-84e1-dbe02c327088\" xlink:show=\"new\" xlink:title=\"psysml:0afae52f-013a-41db-84e1-dbe02c327088\" xlink:type=\"simple\"><polygon fill=\"#FFFFFF\" points=\"118,49,144,49,151,71.2969,216,71.2969,216,146,118,146,118,49\" style=\"stroke: #000000; stroke-width: 1.5;\"/><line style=\"stroke: #000000; stroke-width: 1.5;\" x1=\"118\" x2=\"151\" y1=\"71.2969\" y2=\"71.2969\"/><text fill=\"#000000\" font-family=\"sans-serif\" font-size=\"14\" font-weight=\"bold\" lengthAdjust=\"spacingAndGlyphs\" textLength=\"20\" x=\"122\" y=\"63.9951\">P1</text></a><!--MD5=[14e3b0961a2654348d326746436168a1]\n",
       "cluster E6--><a href=\"psysml:1d9d662c-22cb-416c-b8ab-bb9944386c4a\" target=\"_top\" title=\"psysml:1d9d662c-22cb-416c-b8ab-bb9944386c4a\" xlink:actuate=\"onRequest\" xlink:href=\"psysml:1d9d662c-22cb-416c-b8ab-bb9944386c4a\" xlink:show=\"new\" xlink:title=\"psysml:1d9d662c-22cb-416c-b8ab-bb9944386c4a\" xlink:type=\"simple\"><polygon fill=\"#FFFFFF\" points=\"118,170,144,170,151,192.2969,216,192.2969,216,267,118,267,118,170\" style=\"stroke: #000000; stroke-width: 1.5;\"/><line style=\"stroke: #000000; stroke-width: 1.5;\" x1=\"118\" x2=\"151\" y1=\"192.2969\" y2=\"192.2969\"/><text fill=\"#000000\" font-family=\"sans-serif\" font-size=\"14\" font-weight=\"bold\" lengthAdjust=\"spacingAndGlyphs\" textLength=\"20\" x=\"122\" y=\"184.9951\">P3</text></a><!--MD5=[270fce915f116d4de14055a7c1d9a0f3]\n",
       "class E5--><a href=\"psysml:0adc1dcd-eba4-4b19-b824-866ee03ed7de\" target=\"_top\" title=\"psysml:0adc1dcd-eba4-4b19-b824-866ee03ed7de\" xlink:actuate=\"onRequest\" xlink:href=\"psysml:0adc1dcd-eba4-4b19-b824-866ee03ed7de\" xlink:show=\"new\" xlink:title=\"psysml:0adc1dcd-eba4-4b19-b824-866ee03ed7de\" xlink:type=\"simple\"><rect fill=\"#FFFFFF\" height=\"45.9375\" id=\"E5\" rx=\"10\" ry=\"10\" style=\"stroke: #383838; stroke-width: 1.5;\" width=\"42\" x=\"32\" y=\"59\"/><text fill=\"#000000\" font-family=\"sans-serif\" font-size=\"12\" font-style=\"italic\" lengthAdjust=\"spacingAndGlyphs\" textLength=\"40\" x=\"33\" y=\"75.1387\">«part»</text><text fill=\"#000000\" font-family=\"sans-serif\" font-size=\"12\" lengthAdjust=\"spacingAndGlyphs\" textLength=\"22\" x=\"42\" y=\"89.1074\">x: A</text><line style=\"stroke: #383838; stroke-width: 1.5;\" x1=\"33\" x2=\"73\" y1=\"96.9375\" y2=\"96.9375\"/></a><!--MD5=[b9389687b975829384b498ac4b7476b2]\n",
       "class E8--><a href=\"psysml:b076f02a-ad00-46e0-858a-3e2f54feec2a\" target=\"_top\" title=\"psysml:b076f02a-ad00-46e0-858a-3e2f54feec2a\" xlink:actuate=\"onRequest\" xlink:href=\"psysml:b076f02a-ad00-46e0-858a-3e2f54feec2a\" xlink:show=\"new\" xlink:title=\"psysml:b076f02a-ad00-46e0-858a-3e2f54feec2a\" xlink:type=\"simple\"><rect fill=\"#FFFFFF\" height=\"45.9375\" id=\"E8\" rx=\"10\" ry=\"10\" style=\"stroke: #383838; stroke-width: 1.5;\" width=\"42\" x=\"32\" y=\"140\"/><text fill=\"#000000\" font-family=\"sans-serif\" font-size=\"12\" font-style=\"italic\" lengthAdjust=\"spacingAndGlyphs\" textLength=\"40\" x=\"33\" y=\"156.1387\">«part»</text><text fill=\"#000000\" font-family=\"sans-serif\" font-size=\"12\" lengthAdjust=\"spacingAndGlyphs\" textLength=\"21\" x=\"42.5\" y=\"170.1074\">z: B</text><line style=\"stroke: #383838; stroke-width: 1.5;\" x1=\"33\" x2=\"73\" y1=\"177.9375\" y2=\"177.9375\"/></a><!--MD5=[09b614a08d8cba4a07c9adeb5e0fee81]\n",
       "class E3--><a href=\"psysml:414aecf4-cab0-4d0d-b5e9-0bd22012706a\" target=\"_top\" title=\"psysml:414aecf4-cab0-4d0d-b5e9-0bd22012706a\" xlink:actuate=\"onRequest\" xlink:href=\"psysml:414aecf4-cab0-4d0d-b5e9-0bd22012706a\" xlink:show=\"new\" xlink:title=\"psysml:414aecf4-cab0-4d0d-b5e9-0bd22012706a\" xlink:type=\"simple\"><rect fill=\"#FFFFFF\" height=\"45.9375\" id=\"E3\" style=\"stroke: #383838; stroke-width: 1.5;\" width=\"66\" x=\"134\" y=\"84\"/><text fill=\"#000000\" font-family=\"sans-serif\" font-size=\"12\" font-style=\"italic\" lengthAdjust=\"spacingAndGlyphs\" textLength=\"64\" x=\"135\" y=\"100.1387\">«part def»</text><text fill=\"#000000\" font-family=\"sans-serif\" font-size=\"12\" lengthAdjust=\"spacingAndGlyphs\" textLength=\"8\" x=\"163\" y=\"114.1074\">A</text><line style=\"stroke: #383838; stroke-width: 1.5;\" x1=\"135\" x2=\"199\" y1=\"121.9375\" y2=\"121.9375\"/></a><a href=\"psysml:e62181a2-aa41-44c6-a86b-ee96628d0c50\" target=\"_top\" title=\"psysml:e62181a2-aa41-44c6-a86b-ee96628d0c50\" xlink:actuate=\"onRequest\" xlink:href=\"psysml:e62181a2-aa41-44c6-a86b-ee96628d0c50\" xlink:show=\"new\" xlink:title=\"psysml:e62181a2-aa41-44c6-a86b-ee96628d0c50\" xlink:type=\"simple\"><polygon fill=\"#FFFFFF\" points=\"33,221.5,59,221.5,66,243.7969,73,243.7969,73,274.0938,33,274.0938,33,221.5\" style=\"stroke: #000000; stroke-width: 1.5;\"/><line style=\"stroke: #000000; stroke-width: 1.5;\" x1=\"33\" x2=\"66\" y1=\"243.7969\" y2=\"243.7969\"/><text fill=\"#000000\" font-family=\"sans-serif\" font-size=\"14\" font-weight=\"bold\" lengthAdjust=\"spacingAndGlyphs\" textLength=\"20\" x=\"37\" y=\"236.4951\">P2</text></a><!--MD5=[2156ba9850f5573cc1fc38a6a4b2f02b]\n",
       "class E7--><a href=\"psysml:f619ebc7-1ca1-4b7d-a8d3-68584975adae\" target=\"_top\" title=\"psysml:f619ebc7-1ca1-4b7d-a8d3-68584975adae\" xlink:actuate=\"onRequest\" xlink:href=\"psysml:f619ebc7-1ca1-4b7d-a8d3-68584975adae\" xlink:show=\"new\" xlink:title=\"psysml:f619ebc7-1ca1-4b7d-a8d3-68584975adae\" xlink:type=\"simple\"><rect fill=\"#FFFFFF\" height=\"45.9375\" id=\"E7\" style=\"stroke: #383838; stroke-width: 1.5;\" width=\"66\" x=\"134\" y=\"205\"/><text fill=\"#000000\" font-family=\"sans-serif\" font-size=\"12\" font-style=\"italic\" lengthAdjust=\"spacingAndGlyphs\" textLength=\"64\" x=\"135\" y=\"221.1387\">«part def»</text><text fill=\"#000000\" font-family=\"sans-serif\" font-size=\"12\" lengthAdjust=\"spacingAndGlyphs\" textLength=\"8\" x=\"163\" y=\"235.1074\">B</text><line style=\"stroke: #383838; stroke-width: 1.5;\" x1=\"135\" x2=\"199\" y1=\"242.9375\" y2=\"242.9375\"/></a><!--MD5=[e9be52314489bd878ff4c7144b63c9e1]\n",
       "link E5 to E3--><a href=\"psysml:e8148481-e1af-4d30-a20f-345018eb1da9\" target=\"_top\" title=\"psysml:e8148481-e1af-4d30-a20f-345018eb1da9\" xlink:actuate=\"onRequest\" xlink:href=\"psysml:e8148481-e1af-4d30-a20f-345018eb1da9\" xlink:show=\"new\" xlink:title=\"psysml:e8148481-e1af-4d30-a20f-345018eb1da9\" xlink:type=\"simple\"><path d=\"M74.02,86.47 C85.31,88.99 99.99,92.27 114.29,95.46 \" fill=\"none\" id=\"E5-&gt;E3\" style=\"stroke: #383838; stroke-width: 1.0;\"/><polygon fill=\"#FFFFFF\" points=\"133.86,99.83,113.7912,102.5214,116.842,88.8579,133.86,99.83\" style=\"stroke: #383838; stroke-width: 1.0;\"/><ellipse cx=\"108.664\" cy=\"99.3274\" fill=\"#383838\" rx=\"2\" ry=\"2\" style=\"stroke: #383838; stroke-width: 1.0;\"/><ellipse cx=\"110.8432\" cy=\"89.5677\" fill=\"#383838\" rx=\"2\" ry=\"2\" style=\"stroke: #383838; stroke-width: 1.0;\"/></a><!--MD5=[bfa3c8b0d15052fdf50ae9310b491027]\n",
       "link E8 to E7--><a href=\"psysml:88eb6ab6-f030-4136-96c6-6d1b75343c8c\" target=\"_top\" title=\"psysml:88eb6ab6-f030-4136-96c6-6d1b75343c8c\" xlink:actuate=\"onRequest\" xlink:href=\"psysml:88eb6ab6-f030-4136-96c6-6d1b75343c8c\" xlink:show=\"new\" xlink:title=\"psysml:88eb6ab6-f030-4136-96c6-6d1b75343c8c\" xlink:type=\"simple\"><path d=\"M74.02,174.62 C85.83,181.47 101.34,190.48 116.26,199.13 \" fill=\"none\" id=\"E8-&gt;E7\" style=\"stroke: #383838; stroke-width: 1.0;\"/><polygon fill=\"#FFFFFF\" points=\"133.86,209.35,113.9116,205.8773,120.9328,193.7652,133.86,209.35\" style=\"stroke: #383838; stroke-width: 1.0;\"/><ellipse cx=\"109.9832\" cy=\"201.2883\" fill=\"#383838\" rx=\"2\" ry=\"2\" style=\"stroke: #383838; stroke-width: 1.0;\"/><ellipse cx=\"114.9984\" cy=\"192.6368\" fill=\"#383838\" rx=\"2\" ry=\"2\" style=\"stroke: #383838; stroke-width: 1.0;\"/></a><!--MD5=[a922e7e024a896ee16fe2806f5710be8]\n",
       "@startuml\r\n",
       "left to right direction\r\n",
       "skinparam monochrome true\r\n",
       "skinparam classbackgroundcolor white\r\n",
       "skinparam shadowing false\r\n",
       "skinparam wrapWidth 300\r\n",
       "hide circle\r\n",
       "\r\n",
       "package \"PrivateImportTest\" as E1  [[psysml:a19fc987-58b9-4365-8e05-8e082939198f ]]  {\r\n",
       "package \"P1\" as E2  [[psysml:0afae52f-013a-41db-84e1-dbe02c327088 ]]  {\r\n",
       "comp def \"A\" as E3  <<(T,blue)part def>> [[psysml:414aecf4-cab0-4d0d-b5e9-0bd22012706a ]] {\r\n",
       "}\r\n",
       "}\r\n",
       "package \"P2\" as E4  [[psysml:e62181a2-aa41-44c6-a86b-ee96628d0c50 ]]  {\r\n",
       "}\r\n",
       "comp usage \"x: A\" as E5  <<(T,blue)part>> [[psysml:0adc1dcd-eba4-4b19-b824-866ee03ed7de ]] {\r\n",
       "}\r\n",
       "package \"P3\" as E6  [[psysml:1d9d662c-22cb-416c-b8ab-bb9944386c4a ]]  {\r\n",
       "comp def \"B\" as E7  <<(T,blue)part def>> [[psysml:f619ebc7-1ca1-4b7d-a8d3-68584975adae ]] {\r\n",
       "}\r\n",
       "E5 - -:|> E3 [[psysml:e8148481-e1af-4d30-a20f-345018eb1da9 ]] \r\n",
       "}\r\n",
       "comp usage \"z: B\" as E8  <<(T,blue)part>> [[psysml:b076f02a-ad00-46e0-858a-3e2f54feec2a ]] {\r\n",
       "}\r\n",
       "E8 - -:|> E7 [[psysml:88eb6ab6-f030-4136-96c6-6d1b75343c8c ]] \r\n",
       "}\r\n",
       "@enduml\r\n",
       "\n",
       "PlantUML version 1.2020.13(Sat Jun 13 12:26:38 UTC 2020)\n",
       "(EPL source distribution)\n",
       "Java Runtime: OpenJDK Runtime Environment\n",
       "JVM: OpenJDK 64-Bit Server VM\n",
       "Default Encoding: UTF-8\n",
       "Language: en\n",
       "Country: null\n",
       "--></g></svg>"
      ]
     },
     "execution_count": 17,
     "metadata": {},
     "output_type": "execute_result"
    }
   ],
   "source": [
    "%viz --style=\"LR\" --view=\"Tree\" \"PrivateImportTest\""
   ]
  },
  {
   "cell_type": "code",
   "execution_count": 18,
   "id": "chemical-gardening",
   "metadata": {
    "execution": {
     "iopub.execute_input": "2021-03-25T09:26:38.775316Z",
     "iopub.status.busy": "2021-03-25T09:26:38.774779Z",
     "iopub.status.idle": "2021-03-25T09:26:38.782264Z",
     "shell.execute_reply": "2021-03-25T09:26:38.781842Z"
    }
   },
   "outputs": [
    {
     "data": {
      "image/svg+xml": [
       "<?xml version=\"1.0\" encoding=\"UTF-8\" standalone=\"no\"?><svg xmlns=\"http://www.w3.org/2000/svg\" xmlns:xlink=\"http://www.w3.org/1999/xlink\" contentScriptType=\"application/ecmascript\" contentStyleType=\"text/css\" height=\"12px\" preserveAspectRatio=\"none\" style=\"width:12px;height:12px;\" version=\"1.1\" viewBox=\"0 0 12 12\" width=\"12px\" zoomAndPan=\"magnify\"><defs/><g><!--MD5=[19d285c9d72a204eba4e2cd117d745e8]\n",
       "@startuml\r\n",
       "left to right direction\r\n",
       "skinparam monochrome true\r\n",
       "skinparam classbackgroundcolor white\r\n",
       "skinparam shadowing false\r\n",
       "skinparam wrapWidth 300\r\n",
       "hide circle\r\n",
       "\r\n",
       "@enduml\r\n",
       "\n",
       "PlantUML version 1.2020.13(Sat Jun 13 12:26:38 UTC 2020)\n",
       "(EPL source distribution)\n",
       "Java Runtime: OpenJDK Runtime Environment\n",
       "JVM: OpenJDK 64-Bit Server VM\n",
       "Default Encoding: UTF-8\n",
       "Language: en\n",
       "Country: null\n",
       "--></g></svg>"
      ]
     },
     "execution_count": 18,
     "metadata": {},
     "output_type": "execute_result"
    }
   ],
   "source": [
    "%viz --style=\"LR\" --view=\"State\" \"PrivateImportTest\""
   ]
  },
  {
   "cell_type": "code",
   "execution_count": 19,
   "id": "spatial-destination",
   "metadata": {
    "execution": {
     "iopub.execute_input": "2021-03-25T09:26:38.836574Z",
     "iopub.status.busy": "2021-03-25T09:26:38.835117Z",
     "iopub.status.idle": "2021-03-25T09:26:38.902787Z",
     "shell.execute_reply": "2021-03-25T09:26:38.901135Z"
    }
   },
   "outputs": [
    {
     "data": {
      "image/svg+xml": [
       "<?xml version=\"1.0\" encoding=\"UTF-8\" standalone=\"no\"?><svg xmlns=\"http://www.w3.org/2000/svg\" xmlns:xlink=\"http://www.w3.org/1999/xlink\" contentScriptType=\"application/ecmascript\" contentStyleType=\"text/css\" height=\"513px\" preserveAspectRatio=\"none\" style=\"width:195px;height:513px;\" version=\"1.1\" viewBox=\"0 0 195 513\" width=\"195px\" zoomAndPan=\"magnify\"><defs/><g><!--MD5=[fbc87193dbaf4d95561dea2c320d4a47]\n",
       "cluster E1--><a href=\"psysml:a19fc987-58b9-4365-8e05-8e082939198f\" target=\"_top\" title=\"psysml:a19fc987-58b9-4365-8e05-8e082939198f\" xlink:actuate=\"onRequest\" xlink:href=\"psysml:a19fc987-58b9-4365-8e05-8e082939198f\" xlink:show=\"new\" xlink:title=\"psysml:a19fc987-58b9-4365-8e05-8e082939198f\" xlink:type=\"simple\"><polygon fill=\"#FFFFFF\" points=\"16,6,163,6,170,28.2969,173,28.2969,173,501,16,501,16,6\" style=\"stroke: #000000; stroke-width: 1.5;\"/><line style=\"stroke: #000000; stroke-width: 1.5;\" x1=\"16\" x2=\"170\" y1=\"28.2969\" y2=\"28.2969\"/><text fill=\"#000000\" font-family=\"sans-serif\" font-size=\"14\" font-weight=\"bold\" lengthAdjust=\"spacingAndGlyphs\" textLength=\"141\" x=\"20\" y=\"20.9951\">PrivateImportTest</text></a><!--MD5=[e4f7fae6ed58524ba242bb0b0d3be6b7]\n",
       "cluster E2--><a href=\"psysml:0afae52f-013a-41db-84e1-dbe02c327088\" target=\"_top\" title=\"psysml:0afae52f-013a-41db-84e1-dbe02c327088\" xlink:actuate=\"onRequest\" xlink:href=\"psysml:0afae52f-013a-41db-84e1-dbe02c327088\" xlink:show=\"new\" xlink:title=\"psysml:0afae52f-013a-41db-84e1-dbe02c327088\" xlink:type=\"simple\"><polygon fill=\"#FFFFFF\" points=\"43,49,69,49,76,71.2969,146,71.2969,146,144,43,144,43,49\" style=\"stroke: #000000; stroke-width: 1.5;\"/><line style=\"stroke: #000000; stroke-width: 1.5;\" x1=\"43\" x2=\"76\" y1=\"71.2969\" y2=\"71.2969\"/><text fill=\"#000000\" font-family=\"sans-serif\" font-size=\"14\" font-weight=\"bold\" lengthAdjust=\"spacingAndGlyphs\" textLength=\"20\" x=\"47\" y=\"63.9951\">P1</text></a><!--MD5=[14e3b0961a2654348d326746436168a1]\n",
       "cluster E6--><a href=\"psysml:1d9d662c-22cb-416c-b8ab-bb9944386c4a\" target=\"_top\" title=\"psysml:1d9d662c-22cb-416c-b8ab-bb9944386c4a\" xlink:actuate=\"onRequest\" xlink:href=\"psysml:1d9d662c-22cb-416c-b8ab-bb9944386c4a\" xlink:show=\"new\" xlink:title=\"psysml:1d9d662c-22cb-416c-b8ab-bb9944386c4a\" xlink:type=\"simple\"><polygon fill=\"#FFFFFF\" points=\"43,168,69,168,76,190.2969,146,190.2969,146,263,43,263,43,168\" style=\"stroke: #000000; stroke-width: 1.5;\"/><line style=\"stroke: #000000; stroke-width: 1.5;\" x1=\"43\" x2=\"76\" y1=\"190.2969\" y2=\"190.2969\"/><text fill=\"#000000\" font-family=\"sans-serif\" font-size=\"14\" font-weight=\"bold\" lengthAdjust=\"spacingAndGlyphs\" textLength=\"20\" x=\"47\" y=\"182.9951\">P3</text></a><g id=\"E1.E2.E3\"><a href=\"psysml:414aecf4-cab0-4d0d-b5e9-0bd22012706a\" target=\"_top\" title=\"psysml:414aecf4-cab0-4d0d-b5e9-0bd22012706a\" xlink:actuate=\"onRequest\" xlink:href=\"psysml:414aecf4-cab0-4d0d-b5e9-0bd22012706a\" xlink:show=\"new\" xlink:title=\"psysml:414aecf4-cab0-4d0d-b5e9-0bd22012706a\" xlink:type=\"simple\"><rect fill=\"#FFFFFF\" height=\"42.9375\" id=\"E3\" style=\"stroke: #383838; stroke-width: 1.5;\" width=\"71\" x=\"59\" y=\"84.5\"/><rect fill=\"#F8F8F8\" height=\"37.9375\" style=\"stroke: #383838; stroke-width: 1.5;\" width=\"71\" x=\"59\" y=\"84.5\"/><text fill=\"#000000\" font-family=\"sans-serif\" font-size=\"12\" font-style=\"italic\" lengthAdjust=\"spacingAndGlyphs\" textLength=\"64\" x=\"62.5\" y=\"100.6387\">«part def»</text><text fill=\"#000000\" font-family=\"sans-serif\" font-size=\"12\" lengthAdjust=\"spacingAndGlyphs\" textLength=\"8\" x=\"90.5\" y=\"114.6074\">A</text></a></g><a href=\"psysml:e62181a2-aa41-44c6-a86b-ee96628d0c50\" target=\"_top\" title=\"psysml:e62181a2-aa41-44c6-a86b-ee96628d0c50\" xlink:actuate=\"onRequest\" xlink:href=\"psysml:e62181a2-aa41-44c6-a86b-ee96628d0c50\" xlink:show=\"new\" xlink:title=\"psysml:e62181a2-aa41-44c6-a86b-ee96628d0c50\" xlink:type=\"simple\"><polygon fill=\"#FFFFFF\" points=\"74.5,281.5,100.5,281.5,107.5,303.7969,114.5,303.7969,114.5,334.0938,74.5,334.0938,74.5,281.5\" style=\"stroke: #000000; stroke-width: 1.5;\"/><line style=\"stroke: #000000; stroke-width: 1.5;\" x1=\"74.5\" x2=\"107.5\" y1=\"303.7969\" y2=\"303.7969\"/><text fill=\"#000000\" font-family=\"sans-serif\" font-size=\"14\" font-weight=\"bold\" lengthAdjust=\"spacingAndGlyphs\" textLength=\"20\" x=\"78.5\" y=\"296.4951\">P2</text></a><g id=\"E1.E5\"><a href=\"psysml:0adc1dcd-eba4-4b19-b824-866ee03ed7de\" target=\"_top\" title=\"psysml:0adc1dcd-eba4-4b19-b824-866ee03ed7de\" xlink:actuate=\"onRequest\" xlink:href=\"psysml:0adc1dcd-eba4-4b19-b824-866ee03ed7de\" xlink:show=\"new\" xlink:title=\"psysml:0adc1dcd-eba4-4b19-b824-866ee03ed7de\" xlink:type=\"simple\"><rect fill=\"#FFFFFF\" height=\"40\" id=\"E5\" rx=\"10\" ry=\"10\" style=\"stroke: #383838; stroke-width: 1.5;\" width=\"50\" x=\"69.5\" y=\"370\"/><rect fill=\"#F8F8F8\" height=\"23.9688\" rx=\"10\" ry=\"10\" style=\"stroke: #F8F8F8; stroke-width: 1.5;\" width=\"50\" x=\"69.5\" y=\"370\"/><rect fill=\"#F8F8F8\" height=\"10\" style=\"stroke: #F8F8F8; stroke-width: 1.5;\" width=\"50\" x=\"69.5\" y=\"383.9688\"/><rect fill=\"none\" height=\"40\" id=\"E5\" rx=\"10\" ry=\"10\" style=\"stroke: #383838; stroke-width: 1.5;\" width=\"50\" x=\"69.5\" y=\"370\"/><text fill=\"#000000\" font-family=\"sans-serif\" font-size=\"12\" lengthAdjust=\"spacingAndGlyphs\" textLength=\"22\" x=\"83.5\" y=\"386.1387\">x: A</text></a></g><g id=\"E1.E6.E7\"><a href=\"psysml:f619ebc7-1ca1-4b7d-a8d3-68584975adae\" target=\"_top\" title=\"psysml:f619ebc7-1ca1-4b7d-a8d3-68584975adae\" xlink:actuate=\"onRequest\" xlink:href=\"psysml:f619ebc7-1ca1-4b7d-a8d3-68584975adae\" xlink:show=\"new\" xlink:title=\"psysml:f619ebc7-1ca1-4b7d-a8d3-68584975adae\" xlink:type=\"simple\"><rect fill=\"#FFFFFF\" height=\"42.9375\" id=\"E7\" style=\"stroke: #383838; stroke-width: 1.5;\" width=\"71\" x=\"59\" y=\"203.5\"/><rect fill=\"#F8F8F8\" height=\"37.9375\" style=\"stroke: #383838; stroke-width: 1.5;\" width=\"71\" x=\"59\" y=\"203.5\"/><text fill=\"#000000\" font-family=\"sans-serif\" font-size=\"12\" font-style=\"italic\" lengthAdjust=\"spacingAndGlyphs\" textLength=\"64\" x=\"62.5\" y=\"219.6387\">«part def»</text><text fill=\"#000000\" font-family=\"sans-serif\" font-size=\"12\" lengthAdjust=\"spacingAndGlyphs\" textLength=\"8\" x=\"90.5\" y=\"233.6074\">B</text></a></g><g id=\"E1.E8\"><a href=\"psysml:b076f02a-ad00-46e0-858a-3e2f54feec2a\" target=\"_top\" title=\"psysml:b076f02a-ad00-46e0-858a-3e2f54feec2a\" xlink:actuate=\"onRequest\" xlink:href=\"psysml:b076f02a-ad00-46e0-858a-3e2f54feec2a\" xlink:show=\"new\" xlink:title=\"psysml:b076f02a-ad00-46e0-858a-3e2f54feec2a\" xlink:type=\"simple\"><rect fill=\"#FFFFFF\" height=\"40\" id=\"E8\" rx=\"10\" ry=\"10\" style=\"stroke: #383838; stroke-width: 1.5;\" width=\"50\" x=\"69.5\" y=\"445\"/><rect fill=\"#F8F8F8\" height=\"23.9688\" rx=\"10\" ry=\"10\" style=\"stroke: #F8F8F8; stroke-width: 1.5;\" width=\"50\" x=\"69.5\" y=\"445\"/><rect fill=\"#F8F8F8\" height=\"10\" style=\"stroke: #F8F8F8; stroke-width: 1.5;\" width=\"50\" x=\"69.5\" y=\"458.9688\"/><rect fill=\"none\" height=\"40\" id=\"E8\" rx=\"10\" ry=\"10\" style=\"stroke: #383838; stroke-width: 1.5;\" width=\"50\" x=\"69.5\" y=\"445\"/><text fill=\"#000000\" font-family=\"sans-serif\" font-size=\"12\" lengthAdjust=\"spacingAndGlyphs\" textLength=\"21\" x=\"84\" y=\"461.1387\">z: B</text></a></g><!--MD5=[eaeaffe529cc6466ac84aa136ad070df]\n",
       "@startuml\r\n",
       "skinparam ranksep 8\r\n",
       "skinparam rectangle {\r\n",
       " backgroundColor<<block>> LightGreen\r\n",
       "}\r\n",
       "left to right direction\r\n",
       "skinparam monochrome true\r\n",
       "skinparam classbackgroundcolor white\r\n",
       "skinparam shadowing false\r\n",
       "skinparam wrapWidth 300\r\n",
       "hide circle\r\n",
       "\r\n",
       "package \"PrivateImportTest\" as E1  [[psysml:a19fc987-58b9-4365-8e05-8e082939198f ]]  {\r\n",
       "package \"P1\" as E2  [[psysml:0afae52f-013a-41db-84e1-dbe02c327088 ]]  {\r\n",
       "rec def \"A\" as E3  <<(T,blue)part def>> [[psysml:414aecf4-cab0-4d0d-b5e9-0bd22012706a ]] {\r\n",
       "}\r\n",
       "}\r\n",
       "package \"P2\" as E4  [[psysml:e62181a2-aa41-44c6-a86b-ee96628d0c50 ]]  {\r\n",
       "}\r\n",
       "rec usage \"x: A\" as E5  [[psysml:0adc1dcd-eba4-4b19-b824-866ee03ed7de ]] {\r\n",
       "}\r\n",
       "package \"P3\" as E6  [[psysml:1d9d662c-22cb-416c-b8ab-bb9944386c4a ]]  {\r\n",
       "rec def \"B\" as E7  <<(T,blue)part def>> [[psysml:f619ebc7-1ca1-4b7d-a8d3-68584975adae ]] {\r\n",
       "}\r\n",
       "}\r\n",
       "rec usage \"z: B\" as E8  [[psysml:b076f02a-ad00-46e0-858a-3e2f54feec2a ]] {\r\n",
       "}\r\n",
       "}\r\n",
       "@enduml\r\n",
       "\n",
       "PlantUML version 1.2020.13(Sat Jun 13 12:26:38 UTC 2020)\n",
       "(EPL source distribution)\n",
       "Java Runtime: OpenJDK Runtime Environment\n",
       "JVM: OpenJDK 64-Bit Server VM\n",
       "Default Encoding: UTF-8\n",
       "Language: en\n",
       "Country: null\n",
       "--></g></svg>"
      ]
     },
     "execution_count": 19,
     "metadata": {},
     "output_type": "execute_result"
    }
   ],
   "source": [
    "%viz --style=\"LR\" --view=\"Interconnection\" \"PrivateImportTest\""
   ]
  },
  {
   "cell_type": "code",
   "execution_count": 20,
   "id": "integrated-limitation",
   "metadata": {
    "execution": {
     "iopub.execute_input": "2021-03-25T09:26:38.956172Z",
     "iopub.status.busy": "2021-03-25T09:26:38.954649Z",
     "iopub.status.idle": "2021-03-25T09:26:38.963650Z",
     "shell.execute_reply": "2021-03-25T09:26:38.964078Z"
    }
   },
   "outputs": [
    {
     "data": {
      "image/svg+xml": [
       "<?xml version=\"1.0\" encoding=\"UTF-8\" standalone=\"no\"?><svg xmlns=\"http://www.w3.org/2000/svg\" xmlns:xlink=\"http://www.w3.org/1999/xlink\" contentScriptType=\"application/ecmascript\" contentStyleType=\"text/css\" height=\"12px\" preserveAspectRatio=\"none\" style=\"width:12px;height:12px;\" version=\"1.1\" viewBox=\"0 0 12 12\" width=\"12px\" zoomAndPan=\"magnify\"><defs/><g><!--MD5=[7aeb398939421629f6affaa4a1a7b125]\n",
       "@startuml\r\n",
       "skinparam ranksep 8\r\n",
       "left to right direction\r\n",
       "skinparam monochrome true\r\n",
       "skinparam classbackgroundcolor white\r\n",
       "skinparam shadowing false\r\n",
       "skinparam wrapWidth 300\r\n",
       "hide circle\r\n",
       "\r\n",
       "@enduml\r\n",
       "\n",
       "PlantUML version 1.2020.13(Sat Jun 13 12:26:38 UTC 2020)\n",
       "(EPL source distribution)\n",
       "Java Runtime: OpenJDK Runtime Environment\n",
       "JVM: OpenJDK 64-Bit Server VM\n",
       "Default Encoding: UTF-8\n",
       "Language: en\n",
       "Country: null\n",
       "--></g></svg>"
      ]
     },
     "execution_count": 20,
     "metadata": {},
     "output_type": "execute_result"
    }
   ],
   "source": [
    "%viz --style=\"LR\" --view=\"Action\" \"PrivateImportTest\""
   ]
  },
  {
   "cell_type": "code",
   "execution_count": 21,
   "id": "worthy-target",
   "metadata": {
    "execution": {
     "iopub.execute_input": "2021-03-25T09:26:39.015664Z",
     "iopub.status.busy": "2021-03-25T09:26:39.015074Z",
     "iopub.status.idle": "2021-03-25T09:26:39.086336Z",
     "shell.execute_reply": "2021-03-25T09:26:39.085926Z"
    }
   },
   "outputs": [
    {
     "data": {
      "image/svg+xml": [
       "<?xml version=\"1.0\" encoding=\"UTF-8\" standalone=\"no\"?><svg xmlns=\"http://www.w3.org/2000/svg\" xmlns:xlink=\"http://www.w3.org/1999/xlink\" contentScriptType=\"application/ecmascript\" contentStyleType=\"text/css\" height=\"303px\" preserveAspectRatio=\"none\" style=\"width:262px;height:303px;\" version=\"1.1\" viewBox=\"0 0 262 303\" width=\"262px\" zoomAndPan=\"magnify\"><defs/><g><!--MD5=[fbc87193dbaf4d95561dea2c320d4a47]\n",
       "cluster E1--><a href=\"psysml:a19fc987-58b9-4365-8e05-8e082939198f\" target=\"_top\" title=\"psysml:a19fc987-58b9-4365-8e05-8e082939198f\" xlink:actuate=\"onRequest\" xlink:href=\"psysml:a19fc987-58b9-4365-8e05-8e082939198f\" xlink:show=\"new\" xlink:title=\"psysml:a19fc987-58b9-4365-8e05-8e082939198f\" xlink:type=\"simple\"><polygon fill=\"#FFFFFF\" points=\"16,6,163,6,170,28.2969,240,28.2969,240,291,16,291,16,6\" style=\"stroke: #000000; stroke-width: 1.5;\"/><line style=\"stroke: #000000; stroke-width: 1.5;\" x1=\"16\" x2=\"170\" y1=\"28.2969\" y2=\"28.2969\"/><text fill=\"#000000\" font-family=\"sans-serif\" font-size=\"14\" font-weight=\"bold\" lengthAdjust=\"spacingAndGlyphs\" textLength=\"141\" x=\"20\" y=\"20.9951\">PrivateImportTest</text></a><!--MD5=[e4f7fae6ed58524ba242bb0b0d3be6b7]\n",
       "cluster E2--><a href=\"psysml:0afae52f-013a-41db-84e1-dbe02c327088\" target=\"_top\" title=\"psysml:0afae52f-013a-41db-84e1-dbe02c327088\" xlink:actuate=\"onRequest\" xlink:href=\"psysml:0afae52f-013a-41db-84e1-dbe02c327088\" xlink:show=\"new\" xlink:title=\"psysml:0afae52f-013a-41db-84e1-dbe02c327088\" xlink:type=\"simple\"><polygon fill=\"#FFFFFF\" points=\"118,49,144,49,151,71.2969,216,71.2969,216,146,118,146,118,49\" style=\"stroke: #000000; stroke-width: 1.5;\"/><line style=\"stroke: #000000; stroke-width: 1.5;\" x1=\"118\" x2=\"151\" y1=\"71.2969\" y2=\"71.2969\"/><text fill=\"#000000\" font-family=\"sans-serif\" font-size=\"14\" font-weight=\"bold\" lengthAdjust=\"spacingAndGlyphs\" textLength=\"20\" x=\"122\" y=\"63.9951\">P1</text></a><!--MD5=[14e3b0961a2654348d326746436168a1]\n",
       "cluster E6--><a href=\"psysml:1d9d662c-22cb-416c-b8ab-bb9944386c4a\" target=\"_top\" title=\"psysml:1d9d662c-22cb-416c-b8ab-bb9944386c4a\" xlink:actuate=\"onRequest\" xlink:href=\"psysml:1d9d662c-22cb-416c-b8ab-bb9944386c4a\" xlink:show=\"new\" xlink:title=\"psysml:1d9d662c-22cb-416c-b8ab-bb9944386c4a\" xlink:type=\"simple\"><polygon fill=\"#FFFFFF\" points=\"118,170,144,170,151,192.2969,216,192.2969,216,267,118,267,118,170\" style=\"stroke: #000000; stroke-width: 1.5;\"/><line style=\"stroke: #000000; stroke-width: 1.5;\" x1=\"118\" x2=\"151\" y1=\"192.2969\" y2=\"192.2969\"/><text fill=\"#000000\" font-family=\"sans-serif\" font-size=\"14\" font-weight=\"bold\" lengthAdjust=\"spacingAndGlyphs\" textLength=\"20\" x=\"122\" y=\"184.9951\">P3</text></a><!--MD5=[270fce915f116d4de14055a7c1d9a0f3]\n",
       "class E5--><a href=\"psysml:0adc1dcd-eba4-4b19-b824-866ee03ed7de\" target=\"_top\" title=\"psysml:0adc1dcd-eba4-4b19-b824-866ee03ed7de\" xlink:actuate=\"onRequest\" xlink:href=\"psysml:0adc1dcd-eba4-4b19-b824-866ee03ed7de\" xlink:show=\"new\" xlink:title=\"psysml:0adc1dcd-eba4-4b19-b824-866ee03ed7de\" xlink:type=\"simple\"><rect fill=\"#FFFFFF\" height=\"45.9375\" id=\"E5\" rx=\"10\" ry=\"10\" style=\"stroke: #383838; stroke-width: 1.5;\" width=\"42\" x=\"32\" y=\"59\"/><text fill=\"#000000\" font-family=\"sans-serif\" font-size=\"12\" font-style=\"italic\" lengthAdjust=\"spacingAndGlyphs\" textLength=\"40\" x=\"33\" y=\"75.1387\">«part»</text><text fill=\"#000000\" font-family=\"sans-serif\" font-size=\"12\" lengthAdjust=\"spacingAndGlyphs\" textLength=\"22\" x=\"42\" y=\"89.1074\">x: A</text><line style=\"stroke: #383838; stroke-width: 1.5;\" x1=\"33\" x2=\"73\" y1=\"96.9375\" y2=\"96.9375\"/></a><!--MD5=[b9389687b975829384b498ac4b7476b2]\n",
       "class E8--><a href=\"psysml:b076f02a-ad00-46e0-858a-3e2f54feec2a\" target=\"_top\" title=\"psysml:b076f02a-ad00-46e0-858a-3e2f54feec2a\" xlink:actuate=\"onRequest\" xlink:href=\"psysml:b076f02a-ad00-46e0-858a-3e2f54feec2a\" xlink:show=\"new\" xlink:title=\"psysml:b076f02a-ad00-46e0-858a-3e2f54feec2a\" xlink:type=\"simple\"><rect fill=\"#FFFFFF\" height=\"45.9375\" id=\"E8\" rx=\"10\" ry=\"10\" style=\"stroke: #383838; stroke-width: 1.5;\" width=\"42\" x=\"32\" y=\"140\"/><text fill=\"#000000\" font-family=\"sans-serif\" font-size=\"12\" font-style=\"italic\" lengthAdjust=\"spacingAndGlyphs\" textLength=\"40\" x=\"33\" y=\"156.1387\">«part»</text><text fill=\"#000000\" font-family=\"sans-serif\" font-size=\"12\" lengthAdjust=\"spacingAndGlyphs\" textLength=\"21\" x=\"42.5\" y=\"170.1074\">z: B</text><line style=\"stroke: #383838; stroke-width: 1.5;\" x1=\"33\" x2=\"73\" y1=\"177.9375\" y2=\"177.9375\"/></a><!--MD5=[09b614a08d8cba4a07c9adeb5e0fee81]\n",
       "class E3--><a href=\"psysml:414aecf4-cab0-4d0d-b5e9-0bd22012706a\" target=\"_top\" title=\"psysml:414aecf4-cab0-4d0d-b5e9-0bd22012706a\" xlink:actuate=\"onRequest\" xlink:href=\"psysml:414aecf4-cab0-4d0d-b5e9-0bd22012706a\" xlink:show=\"new\" xlink:title=\"psysml:414aecf4-cab0-4d0d-b5e9-0bd22012706a\" xlink:type=\"simple\"><rect fill=\"#FFFFFF\" height=\"45.9375\" id=\"E3\" style=\"stroke: #383838; stroke-width: 1.5;\" width=\"66\" x=\"134\" y=\"84\"/><text fill=\"#000000\" font-family=\"sans-serif\" font-size=\"12\" font-style=\"italic\" lengthAdjust=\"spacingAndGlyphs\" textLength=\"64\" x=\"135\" y=\"100.1387\">«part def»</text><text fill=\"#000000\" font-family=\"sans-serif\" font-size=\"12\" lengthAdjust=\"spacingAndGlyphs\" textLength=\"8\" x=\"163\" y=\"114.1074\">A</text><line style=\"stroke: #383838; stroke-width: 1.5;\" x1=\"135\" x2=\"199\" y1=\"121.9375\" y2=\"121.9375\"/></a><a href=\"psysml:e62181a2-aa41-44c6-a86b-ee96628d0c50\" target=\"_top\" title=\"psysml:e62181a2-aa41-44c6-a86b-ee96628d0c50\" xlink:actuate=\"onRequest\" xlink:href=\"psysml:e62181a2-aa41-44c6-a86b-ee96628d0c50\" xlink:show=\"new\" xlink:title=\"psysml:e62181a2-aa41-44c6-a86b-ee96628d0c50\" xlink:type=\"simple\"><polygon fill=\"#FFFFFF\" points=\"33,221.5,59,221.5,66,243.7969,73,243.7969,73,274.0938,33,274.0938,33,221.5\" style=\"stroke: #000000; stroke-width: 1.5;\"/><line style=\"stroke: #000000; stroke-width: 1.5;\" x1=\"33\" x2=\"66\" y1=\"243.7969\" y2=\"243.7969\"/><text fill=\"#000000\" font-family=\"sans-serif\" font-size=\"14\" font-weight=\"bold\" lengthAdjust=\"spacingAndGlyphs\" textLength=\"20\" x=\"37\" y=\"236.4951\">P2</text></a><!--MD5=[2156ba9850f5573cc1fc38a6a4b2f02b]\n",
       "class E7--><a href=\"psysml:f619ebc7-1ca1-4b7d-a8d3-68584975adae\" target=\"_top\" title=\"psysml:f619ebc7-1ca1-4b7d-a8d3-68584975adae\" xlink:actuate=\"onRequest\" xlink:href=\"psysml:f619ebc7-1ca1-4b7d-a8d3-68584975adae\" xlink:show=\"new\" xlink:title=\"psysml:f619ebc7-1ca1-4b7d-a8d3-68584975adae\" xlink:type=\"simple\"><rect fill=\"#FFFFFF\" height=\"45.9375\" id=\"E7\" style=\"stroke: #383838; stroke-width: 1.5;\" width=\"66\" x=\"134\" y=\"205\"/><text fill=\"#000000\" font-family=\"sans-serif\" font-size=\"12\" font-style=\"italic\" lengthAdjust=\"spacingAndGlyphs\" textLength=\"64\" x=\"135\" y=\"221.1387\">«part def»</text><text fill=\"#000000\" font-family=\"sans-serif\" font-size=\"12\" lengthAdjust=\"spacingAndGlyphs\" textLength=\"8\" x=\"163\" y=\"235.1074\">B</text><line style=\"stroke: #383838; stroke-width: 1.5;\" x1=\"135\" x2=\"199\" y1=\"242.9375\" y2=\"242.9375\"/></a><!--MD5=[e9be52314489bd878ff4c7144b63c9e1]\n",
       "link E5 to E3--><a href=\"psysml:e8148481-e1af-4d30-a20f-345018eb1da9\" target=\"_top\" title=\"psysml:e8148481-e1af-4d30-a20f-345018eb1da9\" xlink:actuate=\"onRequest\" xlink:href=\"psysml:e8148481-e1af-4d30-a20f-345018eb1da9\" xlink:show=\"new\" xlink:title=\"psysml:e8148481-e1af-4d30-a20f-345018eb1da9\" xlink:type=\"simple\"><path d=\"M74.02,86.47 C85.31,88.99 99.99,92.27 114.29,95.46 \" fill=\"none\" id=\"E5-&gt;E3\" style=\"stroke: #383838; stroke-width: 1.0;\"/><polygon fill=\"#FFFFFF\" points=\"133.86,99.83,113.7912,102.5214,116.842,88.8579,133.86,99.83\" style=\"stroke: #383838; stroke-width: 1.0;\"/><ellipse cx=\"108.664\" cy=\"99.3274\" fill=\"#383838\" rx=\"2\" ry=\"2\" style=\"stroke: #383838; stroke-width: 1.0;\"/><ellipse cx=\"110.8432\" cy=\"89.5677\" fill=\"#383838\" rx=\"2\" ry=\"2\" style=\"stroke: #383838; stroke-width: 1.0;\"/></a><!--MD5=[bfa3c8b0d15052fdf50ae9310b491027]\n",
       "link E8 to E7--><a href=\"psysml:88eb6ab6-f030-4136-96c6-6d1b75343c8c\" target=\"_top\" title=\"psysml:88eb6ab6-f030-4136-96c6-6d1b75343c8c\" xlink:actuate=\"onRequest\" xlink:href=\"psysml:88eb6ab6-f030-4136-96c6-6d1b75343c8c\" xlink:show=\"new\" xlink:title=\"psysml:88eb6ab6-f030-4136-96c6-6d1b75343c8c\" xlink:type=\"simple\"><path d=\"M74.02,174.62 C85.83,181.47 101.34,190.48 116.26,199.13 \" fill=\"none\" id=\"E8-&gt;E7\" style=\"stroke: #383838; stroke-width: 1.0;\"/><polygon fill=\"#FFFFFF\" points=\"133.86,209.35,113.9116,205.8773,120.9328,193.7652,133.86,209.35\" style=\"stroke: #383838; stroke-width: 1.0;\"/><ellipse cx=\"109.9832\" cy=\"201.2883\" fill=\"#383838\" rx=\"2\" ry=\"2\" style=\"stroke: #383838; stroke-width: 1.0;\"/><ellipse cx=\"114.9984\" cy=\"192.6368\" fill=\"#383838\" rx=\"2\" ry=\"2\" style=\"stroke: #383838; stroke-width: 1.0;\"/></a><!--MD5=[a922e7e024a896ee16fe2806f5710be8]\n",
       "@startuml\r\n",
       "left to right direction\r\n",
       "skinparam monochrome true\r\n",
       "skinparam classbackgroundcolor white\r\n",
       "skinparam shadowing false\r\n",
       "skinparam wrapWidth 300\r\n",
       "hide circle\r\n",
       "\r\n",
       "package \"PrivateImportTest\" as E1  [[psysml:a19fc987-58b9-4365-8e05-8e082939198f ]]  {\r\n",
       "package \"P1\" as E2  [[psysml:0afae52f-013a-41db-84e1-dbe02c327088 ]]  {\r\n",
       "comp def \"A\" as E3  <<(T,blue)part def>> [[psysml:414aecf4-cab0-4d0d-b5e9-0bd22012706a ]] {\r\n",
       "}\r\n",
       "}\r\n",
       "package \"P2\" as E4  [[psysml:e62181a2-aa41-44c6-a86b-ee96628d0c50 ]]  {\r\n",
       "}\r\n",
       "comp usage \"x: A\" as E5  <<(T,blue)part>> [[psysml:0adc1dcd-eba4-4b19-b824-866ee03ed7de ]] {\r\n",
       "}\r\n",
       "package \"P3\" as E6  [[psysml:1d9d662c-22cb-416c-b8ab-bb9944386c4a ]]  {\r\n",
       "comp def \"B\" as E7  <<(T,blue)part def>> [[psysml:f619ebc7-1ca1-4b7d-a8d3-68584975adae ]] {\r\n",
       "}\r\n",
       "E5 - -:|> E3 [[psysml:e8148481-e1af-4d30-a20f-345018eb1da9 ]] \r\n",
       "}\r\n",
       "comp usage \"z: B\" as E8  <<(T,blue)part>> [[psysml:b076f02a-ad00-46e0-858a-3e2f54feec2a ]] {\r\n",
       "}\r\n",
       "E8 - -:|> E7 [[psysml:88eb6ab6-f030-4136-96c6-6d1b75343c8c ]] \r\n",
       "}\r\n",
       "@enduml\r\n",
       "\n",
       "PlantUML version 1.2020.13(Sat Jun 13 12:26:38 UTC 2020)\n",
       "(EPL source distribution)\n",
       "Java Runtime: OpenJDK Runtime Environment\n",
       "JVM: OpenJDK 64-Bit Server VM\n",
       "Default Encoding: UTF-8\n",
       "Language: en\n",
       "Country: null\n",
       "--></g></svg>"
      ]
     },
     "execution_count": 21,
     "metadata": {},
     "output_type": "execute_result"
    }
   ],
   "source": [
    "%viz --style=\"LR\" --view=\"Sequence\" \"PrivateImportTest\""
   ]
  },
  {
   "cell_type": "code",
   "execution_count": 22,
   "id": "burning-increase",
   "metadata": {
    "execution": {
     "iopub.execute_input": "2021-03-25T09:26:39.137012Z",
     "iopub.status.busy": "2021-03-25T09:26:39.136479Z",
     "iopub.status.idle": "2021-03-25T09:26:39.206144Z",
     "shell.execute_reply": "2021-03-25T09:26:39.206630Z"
    }
   },
   "outputs": [
    {
     "data": {
      "image/svg+xml": [
       "<?xml version=\"1.0\" encoding=\"UTF-8\" standalone=\"no\"?><svg xmlns=\"http://www.w3.org/2000/svg\" xmlns:xlink=\"http://www.w3.org/1999/xlink\" contentScriptType=\"application/ecmascript\" contentStyleType=\"text/css\" height=\"303px\" preserveAspectRatio=\"none\" style=\"width:262px;height:303px;\" version=\"1.1\" viewBox=\"0 0 262 303\" width=\"262px\" zoomAndPan=\"magnify\"><defs/><g><!--MD5=[fbc87193dbaf4d95561dea2c320d4a47]\n",
       "cluster E1--><a href=\"psysml:a19fc987-58b9-4365-8e05-8e082939198f\" target=\"_top\" title=\"psysml:a19fc987-58b9-4365-8e05-8e082939198f\" xlink:actuate=\"onRequest\" xlink:href=\"psysml:a19fc987-58b9-4365-8e05-8e082939198f\" xlink:show=\"new\" xlink:title=\"psysml:a19fc987-58b9-4365-8e05-8e082939198f\" xlink:type=\"simple\"><polygon fill=\"#FFFFFF\" points=\"16,6,163,6,170,28.2969,240,28.2969,240,291,16,291,16,6\" style=\"stroke: #000000; stroke-width: 1.5;\"/><line style=\"stroke: #000000; stroke-width: 1.5;\" x1=\"16\" x2=\"170\" y1=\"28.2969\" y2=\"28.2969\"/><text fill=\"#000000\" font-family=\"sans-serif\" font-size=\"14\" font-weight=\"bold\" lengthAdjust=\"spacingAndGlyphs\" textLength=\"141\" x=\"20\" y=\"20.9951\">PrivateImportTest</text></a><!--MD5=[e4f7fae6ed58524ba242bb0b0d3be6b7]\n",
       "cluster E2--><a href=\"psysml:0afae52f-013a-41db-84e1-dbe02c327088\" target=\"_top\" title=\"psysml:0afae52f-013a-41db-84e1-dbe02c327088\" xlink:actuate=\"onRequest\" xlink:href=\"psysml:0afae52f-013a-41db-84e1-dbe02c327088\" xlink:show=\"new\" xlink:title=\"psysml:0afae52f-013a-41db-84e1-dbe02c327088\" xlink:type=\"simple\"><polygon fill=\"#FFFFFF\" points=\"118,49,144,49,151,71.2969,216,71.2969,216,146,118,146,118,49\" style=\"stroke: #000000; stroke-width: 1.5;\"/><line style=\"stroke: #000000; stroke-width: 1.5;\" x1=\"118\" x2=\"151\" y1=\"71.2969\" y2=\"71.2969\"/><text fill=\"#000000\" font-family=\"sans-serif\" font-size=\"14\" font-weight=\"bold\" lengthAdjust=\"spacingAndGlyphs\" textLength=\"20\" x=\"122\" y=\"63.9951\">P1</text></a><!--MD5=[14e3b0961a2654348d326746436168a1]\n",
       "cluster E6--><a href=\"psysml:1d9d662c-22cb-416c-b8ab-bb9944386c4a\" target=\"_top\" title=\"psysml:1d9d662c-22cb-416c-b8ab-bb9944386c4a\" xlink:actuate=\"onRequest\" xlink:href=\"psysml:1d9d662c-22cb-416c-b8ab-bb9944386c4a\" xlink:show=\"new\" xlink:title=\"psysml:1d9d662c-22cb-416c-b8ab-bb9944386c4a\" xlink:type=\"simple\"><polygon fill=\"#FFFFFF\" points=\"118,170,144,170,151,192.2969,216,192.2969,216,267,118,267,118,170\" style=\"stroke: #000000; stroke-width: 1.5;\"/><line style=\"stroke: #000000; stroke-width: 1.5;\" x1=\"118\" x2=\"151\" y1=\"192.2969\" y2=\"192.2969\"/><text fill=\"#000000\" font-family=\"sans-serif\" font-size=\"14\" font-weight=\"bold\" lengthAdjust=\"spacingAndGlyphs\" textLength=\"20\" x=\"122\" y=\"184.9951\">P3</text></a><!--MD5=[270fce915f116d4de14055a7c1d9a0f3]\n",
       "class E5--><a href=\"psysml:0adc1dcd-eba4-4b19-b824-866ee03ed7de\" target=\"_top\" title=\"psysml:0adc1dcd-eba4-4b19-b824-866ee03ed7de\" xlink:actuate=\"onRequest\" xlink:href=\"psysml:0adc1dcd-eba4-4b19-b824-866ee03ed7de\" xlink:show=\"new\" xlink:title=\"psysml:0adc1dcd-eba4-4b19-b824-866ee03ed7de\" xlink:type=\"simple\"><rect fill=\"#FFFFFF\" height=\"45.9375\" id=\"E5\" rx=\"10\" ry=\"10\" style=\"stroke: #383838; stroke-width: 1.5;\" width=\"42\" x=\"32\" y=\"59\"/><text fill=\"#000000\" font-family=\"sans-serif\" font-size=\"12\" font-style=\"italic\" lengthAdjust=\"spacingAndGlyphs\" textLength=\"40\" x=\"33\" y=\"75.1387\">«part»</text><text fill=\"#000000\" font-family=\"sans-serif\" font-size=\"12\" lengthAdjust=\"spacingAndGlyphs\" textLength=\"22\" x=\"42\" y=\"89.1074\">x: A</text><line style=\"stroke: #383838; stroke-width: 1.5;\" x1=\"33\" x2=\"73\" y1=\"96.9375\" y2=\"96.9375\"/></a><!--MD5=[b9389687b975829384b498ac4b7476b2]\n",
       "class E8--><a href=\"psysml:b076f02a-ad00-46e0-858a-3e2f54feec2a\" target=\"_top\" title=\"psysml:b076f02a-ad00-46e0-858a-3e2f54feec2a\" xlink:actuate=\"onRequest\" xlink:href=\"psysml:b076f02a-ad00-46e0-858a-3e2f54feec2a\" xlink:show=\"new\" xlink:title=\"psysml:b076f02a-ad00-46e0-858a-3e2f54feec2a\" xlink:type=\"simple\"><rect fill=\"#FFFFFF\" height=\"45.9375\" id=\"E8\" rx=\"10\" ry=\"10\" style=\"stroke: #383838; stroke-width: 1.5;\" width=\"42\" x=\"32\" y=\"140\"/><text fill=\"#000000\" font-family=\"sans-serif\" font-size=\"12\" font-style=\"italic\" lengthAdjust=\"spacingAndGlyphs\" textLength=\"40\" x=\"33\" y=\"156.1387\">«part»</text><text fill=\"#000000\" font-family=\"sans-serif\" font-size=\"12\" lengthAdjust=\"spacingAndGlyphs\" textLength=\"21\" x=\"42.5\" y=\"170.1074\">z: B</text><line style=\"stroke: #383838; stroke-width: 1.5;\" x1=\"33\" x2=\"73\" y1=\"177.9375\" y2=\"177.9375\"/></a><!--MD5=[09b614a08d8cba4a07c9adeb5e0fee81]\n",
       "class E3--><a href=\"psysml:414aecf4-cab0-4d0d-b5e9-0bd22012706a\" target=\"_top\" title=\"psysml:414aecf4-cab0-4d0d-b5e9-0bd22012706a\" xlink:actuate=\"onRequest\" xlink:href=\"psysml:414aecf4-cab0-4d0d-b5e9-0bd22012706a\" xlink:show=\"new\" xlink:title=\"psysml:414aecf4-cab0-4d0d-b5e9-0bd22012706a\" xlink:type=\"simple\"><rect fill=\"#FFFFFF\" height=\"45.9375\" id=\"E3\" style=\"stroke: #383838; stroke-width: 1.5;\" width=\"66\" x=\"134\" y=\"84\"/><text fill=\"#000000\" font-family=\"sans-serif\" font-size=\"12\" font-style=\"italic\" lengthAdjust=\"spacingAndGlyphs\" textLength=\"64\" x=\"135\" y=\"100.1387\">«part def»</text><text fill=\"#000000\" font-family=\"sans-serif\" font-size=\"12\" lengthAdjust=\"spacingAndGlyphs\" textLength=\"8\" x=\"163\" y=\"114.1074\">A</text><line style=\"stroke: #383838; stroke-width: 1.5;\" x1=\"135\" x2=\"199\" y1=\"121.9375\" y2=\"121.9375\"/></a><a href=\"psysml:e62181a2-aa41-44c6-a86b-ee96628d0c50\" target=\"_top\" title=\"psysml:e62181a2-aa41-44c6-a86b-ee96628d0c50\" xlink:actuate=\"onRequest\" xlink:href=\"psysml:e62181a2-aa41-44c6-a86b-ee96628d0c50\" xlink:show=\"new\" xlink:title=\"psysml:e62181a2-aa41-44c6-a86b-ee96628d0c50\" xlink:type=\"simple\"><polygon fill=\"#FFFFFF\" points=\"33,221.5,59,221.5,66,243.7969,73,243.7969,73,274.0938,33,274.0938,33,221.5\" style=\"stroke: #000000; stroke-width: 1.5;\"/><line style=\"stroke: #000000; stroke-width: 1.5;\" x1=\"33\" x2=\"66\" y1=\"243.7969\" y2=\"243.7969\"/><text fill=\"#000000\" font-family=\"sans-serif\" font-size=\"14\" font-weight=\"bold\" lengthAdjust=\"spacingAndGlyphs\" textLength=\"20\" x=\"37\" y=\"236.4951\">P2</text></a><!--MD5=[2156ba9850f5573cc1fc38a6a4b2f02b]\n",
       "class E7--><a href=\"psysml:f619ebc7-1ca1-4b7d-a8d3-68584975adae\" target=\"_top\" title=\"psysml:f619ebc7-1ca1-4b7d-a8d3-68584975adae\" xlink:actuate=\"onRequest\" xlink:href=\"psysml:f619ebc7-1ca1-4b7d-a8d3-68584975adae\" xlink:show=\"new\" xlink:title=\"psysml:f619ebc7-1ca1-4b7d-a8d3-68584975adae\" xlink:type=\"simple\"><rect fill=\"#FFFFFF\" height=\"45.9375\" id=\"E7\" style=\"stroke: #383838; stroke-width: 1.5;\" width=\"66\" x=\"134\" y=\"205\"/><text fill=\"#000000\" font-family=\"sans-serif\" font-size=\"12\" font-style=\"italic\" lengthAdjust=\"spacingAndGlyphs\" textLength=\"64\" x=\"135\" y=\"221.1387\">«part def»</text><text fill=\"#000000\" font-family=\"sans-serif\" font-size=\"12\" lengthAdjust=\"spacingAndGlyphs\" textLength=\"8\" x=\"163\" y=\"235.1074\">B</text><line style=\"stroke: #383838; stroke-width: 1.5;\" x1=\"135\" x2=\"199\" y1=\"242.9375\" y2=\"242.9375\"/></a><!--MD5=[e9be52314489bd878ff4c7144b63c9e1]\n",
       "link E5 to E3--><a href=\"psysml:e8148481-e1af-4d30-a20f-345018eb1da9\" target=\"_top\" title=\"psysml:e8148481-e1af-4d30-a20f-345018eb1da9\" xlink:actuate=\"onRequest\" xlink:href=\"psysml:e8148481-e1af-4d30-a20f-345018eb1da9\" xlink:show=\"new\" xlink:title=\"psysml:e8148481-e1af-4d30-a20f-345018eb1da9\" xlink:type=\"simple\"><path d=\"M74.02,86.47 C85.31,88.99 99.99,92.27 114.29,95.46 \" fill=\"none\" id=\"E5-&gt;E3\" style=\"stroke: #383838; stroke-width: 1.0;\"/><polygon fill=\"#FFFFFF\" points=\"133.86,99.83,113.7912,102.5214,116.842,88.8579,133.86,99.83\" style=\"stroke: #383838; stroke-width: 1.0;\"/><ellipse cx=\"108.664\" cy=\"99.3274\" fill=\"#383838\" rx=\"2\" ry=\"2\" style=\"stroke: #383838; stroke-width: 1.0;\"/><ellipse cx=\"110.8432\" cy=\"89.5677\" fill=\"#383838\" rx=\"2\" ry=\"2\" style=\"stroke: #383838; stroke-width: 1.0;\"/></a><!--MD5=[bfa3c8b0d15052fdf50ae9310b491027]\n",
       "link E8 to E7--><a href=\"psysml:88eb6ab6-f030-4136-96c6-6d1b75343c8c\" target=\"_top\" title=\"psysml:88eb6ab6-f030-4136-96c6-6d1b75343c8c\" xlink:actuate=\"onRequest\" xlink:href=\"psysml:88eb6ab6-f030-4136-96c6-6d1b75343c8c\" xlink:show=\"new\" xlink:title=\"psysml:88eb6ab6-f030-4136-96c6-6d1b75343c8c\" xlink:type=\"simple\"><path d=\"M74.02,174.62 C85.83,181.47 101.34,190.48 116.26,199.13 \" fill=\"none\" id=\"E8-&gt;E7\" style=\"stroke: #383838; stroke-width: 1.0;\"/><polygon fill=\"#FFFFFF\" points=\"133.86,209.35,113.9116,205.8773,120.9328,193.7652,133.86,209.35\" style=\"stroke: #383838; stroke-width: 1.0;\"/><ellipse cx=\"109.9832\" cy=\"201.2883\" fill=\"#383838\" rx=\"2\" ry=\"2\" style=\"stroke: #383838; stroke-width: 1.0;\"/><ellipse cx=\"114.9984\" cy=\"192.6368\" fill=\"#383838\" rx=\"2\" ry=\"2\" style=\"stroke: #383838; stroke-width: 1.0;\"/></a><!--MD5=[a922e7e024a896ee16fe2806f5710be8]\n",
       "@startuml\r\n",
       "left to right direction\r\n",
       "skinparam monochrome true\r\n",
       "skinparam classbackgroundcolor white\r\n",
       "skinparam shadowing false\r\n",
       "skinparam wrapWidth 300\r\n",
       "hide circle\r\n",
       "\r\n",
       "package \"PrivateImportTest\" as E1  [[psysml:a19fc987-58b9-4365-8e05-8e082939198f ]]  {\r\n",
       "package \"P1\" as E2  [[psysml:0afae52f-013a-41db-84e1-dbe02c327088 ]]  {\r\n",
       "comp def \"A\" as E3  <<(T,blue)part def>> [[psysml:414aecf4-cab0-4d0d-b5e9-0bd22012706a ]] {\r\n",
       "}\r\n",
       "}\r\n",
       "package \"P2\" as E4  [[psysml:e62181a2-aa41-44c6-a86b-ee96628d0c50 ]]  {\r\n",
       "}\r\n",
       "comp usage \"x: A\" as E5  <<(T,blue)part>> [[psysml:0adc1dcd-eba4-4b19-b824-866ee03ed7de ]] {\r\n",
       "}\r\n",
       "package \"P3\" as E6  [[psysml:1d9d662c-22cb-416c-b8ab-bb9944386c4a ]]  {\r\n",
       "comp def \"B\" as E7  <<(T,blue)part def>> [[psysml:f619ebc7-1ca1-4b7d-a8d3-68584975adae ]] {\r\n",
       "}\r\n",
       "E5 - -:|> E3 [[psysml:e8148481-e1af-4d30-a20f-345018eb1da9 ]] \r\n",
       "}\r\n",
       "comp usage \"z: B\" as E8  <<(T,blue)part>> [[psysml:b076f02a-ad00-46e0-858a-3e2f54feec2a ]] {\r\n",
       "}\r\n",
       "E8 - -:|> E7 [[psysml:88eb6ab6-f030-4136-96c6-6d1b75343c8c ]] \r\n",
       "}\r\n",
       "@enduml\r\n",
       "\n",
       "PlantUML version 1.2020.13(Sat Jun 13 12:26:38 UTC 2020)\n",
       "(EPL source distribution)\n",
       "Java Runtime: OpenJDK Runtime Environment\n",
       "JVM: OpenJDK 64-Bit Server VM\n",
       "Default Encoding: UTF-8\n",
       "Language: en\n",
       "Country: null\n",
       "--></g></svg>"
      ]
     },
     "execution_count": 22,
     "metadata": {},
     "output_type": "execute_result"
    }
   ],
   "source": [
    "%viz --style=\"LR\" --view=\"MIXED\" \"PrivateImportTest\""
   ]
  },
  {
   "cell_type": "code",
   "execution_count": 23,
   "id": "matched-treasury",
   "metadata": {
    "execution": {
     "iopub.execute_input": "2021-03-25T09:26:39.256224Z",
     "iopub.status.busy": "2021-03-25T09:26:39.255852Z",
     "iopub.status.idle": "2021-03-25T09:26:39.322065Z",
     "shell.execute_reply": "2021-03-25T09:26:39.319962Z"
    }
   },
   "outputs": [
    {
     "data": {
      "image/svg+xml": [
       "<?xml version=\"1.0\" encoding=\"UTF-8\" standalone=\"no\"?><svg xmlns=\"http://www.w3.org/2000/svg\" xmlns:xlink=\"http://www.w3.org/1999/xlink\" contentScriptType=\"application/ecmascript\" contentStyleType=\"text/css\" height=\"252px\" preserveAspectRatio=\"none\" style=\"width:306px;height:252px;\" version=\"1.1\" viewBox=\"0 0 306 252\" width=\"306px\" zoomAndPan=\"magnify\"><defs><filter height=\"300%\" id=\"fog35nt4w2f9s\" width=\"300%\" x=\"-1\" y=\"-1\"><feGaussianBlur result=\"blurOut\" stdDeviation=\"2.0\"/><feColorMatrix in=\"blurOut\" result=\"blurOut2\" type=\"matrix\" values=\"0 0 0 0 0 0 0 0 0 0 0 0 0 0 0 0 0 0 .4 0\"/><feOffset dx=\"4.0\" dy=\"4.0\" in=\"blurOut2\" result=\"blurOut3\"/><feBlend in=\"SourceGraphic\" in2=\"blurOut3\" mode=\"normal\"/></filter></defs><g><!--MD5=[fbc87193dbaf4d95561dea2c320d4a47]\n",
       "cluster E1--><a href=\"psysml:a19fc987-58b9-4365-8e05-8e082939198f\" target=\"_top\" title=\"psysml:a19fc987-58b9-4365-8e05-8e082939198f\" xlink:actuate=\"onRequest\" xlink:href=\"psysml:a19fc987-58b9-4365-8e05-8e082939198f\" xlink:show=\"new\" xlink:title=\"psysml:a19fc987-58b9-4365-8e05-8e082939198f\" xlink:type=\"simple\"><polygon fill=\"#FFFFFF\" filter=\"url(#fog35nt4w2f9s)\" points=\"16,6,163,6,170,28.2969,284,28.2969,284,240,16,240,16,6\" style=\"stroke: #000000; stroke-width: 1.5;\"/><line style=\"stroke: #000000; stroke-width: 1.5;\" x1=\"16\" x2=\"170\" y1=\"28.2969\" y2=\"28.2969\"/><text fill=\"#000000\" font-family=\"sans-serif\" font-size=\"14\" font-weight=\"bold\" lengthAdjust=\"spacingAndGlyphs\" textLength=\"141\" x=\"20\" y=\"20.9951\">PrivateImportTest</text></a><!--MD5=[e4f7fae6ed58524ba242bb0b0d3be6b7]\n",
       "cluster E2--><a href=\"psysml:0afae52f-013a-41db-84e1-dbe02c327088\" target=\"_top\" title=\"psysml:0afae52f-013a-41db-84e1-dbe02c327088\" xlink:actuate=\"onRequest\" xlink:href=\"psysml:0afae52f-013a-41db-84e1-dbe02c327088\" xlink:show=\"new\" xlink:title=\"psysml:0afae52f-013a-41db-84e1-dbe02c327088\" xlink:type=\"simple\"><polygon fill=\"#FFFFFF\" filter=\"url(#fog35nt4w2f9s)\" points=\"162,119,188,119,195,141.2969,260,141.2969,260,216,162,216,162,119\" style=\"stroke: #000000; stroke-width: 1.5;\"/><line style=\"stroke: #000000; stroke-width: 1.5;\" x1=\"162\" x2=\"195\" y1=\"141.2969\" y2=\"141.2969\"/><text fill=\"#000000\" font-family=\"sans-serif\" font-size=\"14\" font-weight=\"bold\" lengthAdjust=\"spacingAndGlyphs\" textLength=\"20\" x=\"166\" y=\"133.9951\">P1</text></a><!--MD5=[14e3b0961a2654348d326746436168a1]\n",
       "cluster E6--><a href=\"psysml:1d9d662c-22cb-416c-b8ab-bb9944386c4a\" target=\"_top\" title=\"psysml:1d9d662c-22cb-416c-b8ab-bb9944386c4a\" xlink:actuate=\"onRequest\" xlink:href=\"psysml:1d9d662c-22cb-416c-b8ab-bb9944386c4a\" xlink:show=\"new\" xlink:title=\"psysml:1d9d662c-22cb-416c-b8ab-bb9944386c4a\" xlink:type=\"simple\"><polygon fill=\"#FFFFFF\" filter=\"url(#fog35nt4w2f9s)\" points=\"40,119,66,119,73,141.2969,138,141.2969,138,216,40,216,40,119\" style=\"stroke: #000000; stroke-width: 1.5;\"/><line style=\"stroke: #000000; stroke-width: 1.5;\" x1=\"40\" x2=\"73\" y1=\"141.2969\" y2=\"141.2969\"/><text fill=\"#000000\" font-family=\"sans-serif\" font-size=\"14\" font-weight=\"bold\" lengthAdjust=\"spacingAndGlyphs\" textLength=\"20\" x=\"44\" y=\"133.9951\">P3</text></a><!--MD5=[270fce915f116d4de14055a7c1d9a0f3]\n",
       "class E5--><a href=\"psysml:0adc1dcd-eba4-4b19-b824-866ee03ed7de\" target=\"_top\" title=\"psysml:0adc1dcd-eba4-4b19-b824-866ee03ed7de\" xlink:actuate=\"onRequest\" xlink:href=\"psysml:0adc1dcd-eba4-4b19-b824-866ee03ed7de\" xlink:show=\"new\" xlink:title=\"psysml:0adc1dcd-eba4-4b19-b824-866ee03ed7de\" xlink:type=\"simple\"><rect fill=\"#FEFECE\" filter=\"url(#fog35nt4w2f9s)\" height=\"45.9375\" id=\"E5\" rx=\"10\" ry=\"10\" style=\"stroke: #A80036; stroke-width: 1.5;\" width=\"42\" x=\"190\" y=\"44.5\"/><text fill=\"#000000\" font-family=\"sans-serif\" font-size=\"12\" font-style=\"italic\" lengthAdjust=\"spacingAndGlyphs\" textLength=\"40\" x=\"191\" y=\"60.6387\">«part»</text><text fill=\"#000000\" font-family=\"sans-serif\" font-size=\"12\" lengthAdjust=\"spacingAndGlyphs\" textLength=\"22\" x=\"200\" y=\"74.6074\">x: A</text><line style=\"stroke: #A80036; stroke-width: 1.5;\" x1=\"191\" x2=\"231\" y1=\"82.4375\" y2=\"82.4375\"/></a><!--MD5=[b9389687b975829384b498ac4b7476b2]\n",
       "class E8--><a href=\"psysml:b076f02a-ad00-46e0-858a-3e2f54feec2a\" target=\"_top\" title=\"psysml:b076f02a-ad00-46e0-858a-3e2f54feec2a\" xlink:actuate=\"onRequest\" xlink:href=\"psysml:b076f02a-ad00-46e0-858a-3e2f54feec2a\" xlink:show=\"new\" xlink:title=\"psysml:b076f02a-ad00-46e0-858a-3e2f54feec2a\" xlink:type=\"simple\"><rect fill=\"#FEFECE\" filter=\"url(#fog35nt4w2f9s)\" height=\"45.9375\" id=\"E8\" rx=\"10\" ry=\"10\" style=\"stroke: #A80036; stroke-width: 1.5;\" width=\"42\" x=\"107\" y=\"44.5\"/><text fill=\"#000000\" font-family=\"sans-serif\" font-size=\"12\" font-style=\"italic\" lengthAdjust=\"spacingAndGlyphs\" textLength=\"40\" x=\"108\" y=\"60.6387\">«part»</text><text fill=\"#000000\" font-family=\"sans-serif\" font-size=\"12\" lengthAdjust=\"spacingAndGlyphs\" textLength=\"21\" x=\"117.5\" y=\"74.6074\">z: B</text><line style=\"stroke: #A80036; stroke-width: 1.5;\" x1=\"108\" x2=\"148\" y1=\"82.4375\" y2=\"82.4375\"/></a><!--MD5=[09b614a08d8cba4a07c9adeb5e0fee81]\n",
       "class E3--><a href=\"psysml:414aecf4-cab0-4d0d-b5e9-0bd22012706a\" target=\"_top\" title=\"psysml:414aecf4-cab0-4d0d-b5e9-0bd22012706a\" xlink:actuate=\"onRequest\" xlink:href=\"psysml:414aecf4-cab0-4d0d-b5e9-0bd22012706a\" xlink:show=\"new\" xlink:title=\"psysml:414aecf4-cab0-4d0d-b5e9-0bd22012706a\" xlink:type=\"simple\"><rect fill=\"#FEFECE\" filter=\"url(#fog35nt4w2f9s)\" height=\"45.9375\" id=\"E3\" style=\"stroke: #A80036; stroke-width: 1.5;\" width=\"66\" x=\"178\" y=\"154\"/><text fill=\"#000000\" font-family=\"sans-serif\" font-size=\"12\" font-style=\"italic\" lengthAdjust=\"spacingAndGlyphs\" textLength=\"64\" x=\"179\" y=\"170.1387\">«part def»</text><text fill=\"#000000\" font-family=\"sans-serif\" font-size=\"12\" lengthAdjust=\"spacingAndGlyphs\" textLength=\"8\" x=\"207\" y=\"184.1074\">A</text><line style=\"stroke: #A80036; stroke-width: 1.5;\" x1=\"179\" x2=\"243\" y1=\"191.9375\" y2=\"191.9375\"/></a><a href=\"psysml:e62181a2-aa41-44c6-a86b-ee96628d0c50\" target=\"_top\" title=\"psysml:e62181a2-aa41-44c6-a86b-ee96628d0c50\" xlink:actuate=\"onRequest\" xlink:href=\"psysml:e62181a2-aa41-44c6-a86b-ee96628d0c50\" xlink:show=\"new\" xlink:title=\"psysml:e62181a2-aa41-44c6-a86b-ee96628d0c50\" xlink:type=\"simple\"><polygon fill=\"#FFFFFF\" filter=\"url(#fog35nt4w2f9s)\" points=\"32,41,58,41,65,63.2969,72,63.2969,72,93.5938,32,93.5938,32,41\" style=\"stroke: #000000; stroke-width: 1.5;\"/><line style=\"stroke: #000000; stroke-width: 1.5;\" x1=\"32\" x2=\"65\" y1=\"63.2969\" y2=\"63.2969\"/><text fill=\"#000000\" font-family=\"sans-serif\" font-size=\"14\" font-weight=\"bold\" lengthAdjust=\"spacingAndGlyphs\" textLength=\"20\" x=\"36\" y=\"55.9951\">P2</text></a><!--MD5=[2156ba9850f5573cc1fc38a6a4b2f02b]\n",
       "class E7--><a href=\"psysml:f619ebc7-1ca1-4b7d-a8d3-68584975adae\" target=\"_top\" title=\"psysml:f619ebc7-1ca1-4b7d-a8d3-68584975adae\" xlink:actuate=\"onRequest\" xlink:href=\"psysml:f619ebc7-1ca1-4b7d-a8d3-68584975adae\" xlink:show=\"new\" xlink:title=\"psysml:f619ebc7-1ca1-4b7d-a8d3-68584975adae\" xlink:type=\"simple\"><rect fill=\"#FEFECE\" filter=\"url(#fog35nt4w2f9s)\" height=\"45.9375\" id=\"E7\" style=\"stroke: #A80036; stroke-width: 1.5;\" width=\"66\" x=\"56\" y=\"154\"/><text fill=\"#000000\" font-family=\"sans-serif\" font-size=\"12\" font-style=\"italic\" lengthAdjust=\"spacingAndGlyphs\" textLength=\"64\" x=\"57\" y=\"170.1387\">«part def»</text><text fill=\"#000000\" font-family=\"sans-serif\" font-size=\"12\" lengthAdjust=\"spacingAndGlyphs\" textLength=\"8\" x=\"85\" y=\"184.1074\">B</text><line style=\"stroke: #A80036; stroke-width: 1.5;\" x1=\"57\" x2=\"121\" y1=\"191.9375\" y2=\"191.9375\"/></a><!--MD5=[e9be52314489bd878ff4c7144b63c9e1]\n",
       "link E5 to E3--><a href=\"psysml:e8148481-e1af-4d30-a20f-345018eb1da9\" target=\"_top\" title=\"psysml:e8148481-e1af-4d30-a20f-345018eb1da9\" xlink:actuate=\"onRequest\" xlink:href=\"psysml:e8148481-e1af-4d30-a20f-345018eb1da9\" xlink:show=\"new\" xlink:title=\"psysml:e8148481-e1af-4d30-a20f-345018eb1da9\" xlink:type=\"simple\"><path d=\"M211,90.51 C211,102.89 211,118.78 211,133.48 \" fill=\"none\" id=\"E5-&gt;E3\" style=\"stroke: #A80036; stroke-width: 1.0;\"/><polygon fill=\"#FFFFFF\" points=\"211,153.65,204,134.65,218,134.65,211,153.65\" style=\"stroke: #A80036; stroke-width: 1.0;\"/><ellipse cx=\"206\" cy=\"128.95\" fill=\"#A80036\" rx=\"2\" ry=\"2\" style=\"stroke: #A80036; stroke-width: 1.0;\"/><ellipse cx=\"216\" cy=\"128.95\" fill=\"#A80036\" rx=\"2\" ry=\"2\" style=\"stroke: #A80036; stroke-width: 1.0;\"/></a><!--MD5=[bfa3c8b0d15052fdf50ae9310b491027]\n",
       "link E8 to E7--><a href=\"psysml:88eb6ab6-f030-4136-96c6-6d1b75343c8c\" target=\"_top\" title=\"psysml:88eb6ab6-f030-4136-96c6-6d1b75343c8c\" xlink:actuate=\"onRequest\" xlink:href=\"psysml:88eb6ab6-f030-4136-96c6-6d1b75343c8c\" xlink:show=\"new\" xlink:title=\"psysml:88eb6ab6-f030-4136-96c6-6d1b75343c8c\" xlink:type=\"simple\"><path d=\"M120.01,90.51 C115.39,103.25 109.42,119.7 103.96,134.76 \" fill=\"none\" id=\"E8-&gt;E7\" style=\"stroke: #A80036; stroke-width: 1.0;\"/><polygon fill=\"#FFFFFF\" points=\"97.11,153.65,97.0036,133.4018,110.1656,138.1726,97.11,153.65\" style=\"stroke: #A80036; stroke-width: 1.0;\"/><ellipse cx=\"100.8262\" cy=\"128.7245\" fill=\"#A80036\" rx=\"2\" ry=\"2\" style=\"stroke: #A80036; stroke-width: 1.0;\"/><ellipse cx=\"110.2277\" cy=\"132.1322\" fill=\"#A80036\" rx=\"2\" ry=\"2\" style=\"stroke: #A80036; stroke-width: 1.0;\"/></a><!--MD5=[046d673b1cb371975f05796fef03039c]\n",
       "@startuml\r\n",
       "skinparam wrapWidth 300\r\n",
       "hide circle\r\n",
       "\r\n",
       "package \"PrivateImportTest\" as E1  [[psysml:a19fc987-58b9-4365-8e05-8e082939198f ]]  {\r\n",
       "package \"P1\" as E2  [[psysml:0afae52f-013a-41db-84e1-dbe02c327088 ]]  {\r\n",
       "comp def \"A\" as E3  <<(T,blue)part def>> [[psysml:414aecf4-cab0-4d0d-b5e9-0bd22012706a ]] {\r\n",
       "}\r\n",
       "}\r\n",
       "package \"P2\" as E4  [[psysml:e62181a2-aa41-44c6-a86b-ee96628d0c50 ]]  {\r\n",
       "}\r\n",
       "comp usage \"x: A\" as E5  <<(T,blue)part>> [[psysml:0adc1dcd-eba4-4b19-b824-866ee03ed7de ]] {\r\n",
       "}\r\n",
       "package \"P3\" as E6  [[psysml:1d9d662c-22cb-416c-b8ab-bb9944386c4a ]]  {\r\n",
       "comp def \"B\" as E7  <<(T,blue)part def>> [[psysml:f619ebc7-1ca1-4b7d-a8d3-68584975adae ]] {\r\n",
       "}\r\n",
       "E5 - -:|> E3 [[psysml:e8148481-e1af-4d30-a20f-345018eb1da9 ]] \r\n",
       "}\r\n",
       "comp usage \"z: B\" as E8  <<(T,blue)part>> [[psysml:b076f02a-ad00-46e0-858a-3e2f54feec2a ]] {\r\n",
       "}\r\n",
       "E8 - -:|> E7 [[psysml:88eb6ab6-f030-4136-96c6-6d1b75343c8c ]] \r\n",
       "}\r\n",
       "@enduml\r\n",
       "\n",
       "PlantUML version 1.2020.13(Sat Jun 13 12:26:38 UTC 2020)\n",
       "(EPL source distribution)\n",
       "Java Runtime: OpenJDK Runtime Environment\n",
       "JVM: OpenJDK 64-Bit Server VM\n",
       "Default Encoding: UTF-8\n",
       "Language: en\n",
       "Country: null\n",
       "--></g></svg>"
      ]
     },
     "execution_count": 23,
     "metadata": {},
     "output_type": "execute_result"
    }
   ],
   "source": [
    "%viz --style=\"STDCOLOR\" --view=\"Default\" \"PrivateImportTest\""
   ]
  },
  {
   "cell_type": "code",
   "execution_count": 24,
   "id": "electronic-slovakia",
   "metadata": {
    "execution": {
     "iopub.execute_input": "2021-03-25T09:26:39.374587Z",
     "iopub.status.busy": "2021-03-25T09:26:39.373650Z",
     "iopub.status.idle": "2021-03-25T09:26:39.445096Z",
     "shell.execute_reply": "2021-03-25T09:26:39.443622Z"
    }
   },
   "outputs": [
    {
     "data": {
      "image/svg+xml": [
       "<?xml version=\"1.0\" encoding=\"UTF-8\" standalone=\"no\"?><svg xmlns=\"http://www.w3.org/2000/svg\" xmlns:xlink=\"http://www.w3.org/1999/xlink\" contentScriptType=\"application/ecmascript\" contentStyleType=\"text/css\" height=\"252px\" preserveAspectRatio=\"none\" style=\"width:306px;height:252px;\" version=\"1.1\" viewBox=\"0 0 306 252\" width=\"306px\" zoomAndPan=\"magnify\"><defs><filter height=\"300%\" id=\"fog35nt4w2f9s\" width=\"300%\" x=\"-1\" y=\"-1\"><feGaussianBlur result=\"blurOut\" stdDeviation=\"2.0\"/><feColorMatrix in=\"blurOut\" result=\"blurOut2\" type=\"matrix\" values=\"0 0 0 0 0 0 0 0 0 0 0 0 0 0 0 0 0 0 .4 0\"/><feOffset dx=\"4.0\" dy=\"4.0\" in=\"blurOut2\" result=\"blurOut3\"/><feBlend in=\"SourceGraphic\" in2=\"blurOut3\" mode=\"normal\"/></filter></defs><g><!--MD5=[fbc87193dbaf4d95561dea2c320d4a47]\n",
       "cluster E1--><a href=\"psysml:a19fc987-58b9-4365-8e05-8e082939198f\" target=\"_top\" title=\"psysml:a19fc987-58b9-4365-8e05-8e082939198f\" xlink:actuate=\"onRequest\" xlink:href=\"psysml:a19fc987-58b9-4365-8e05-8e082939198f\" xlink:show=\"new\" xlink:title=\"psysml:a19fc987-58b9-4365-8e05-8e082939198f\" xlink:type=\"simple\"><polygon fill=\"#FFFFFF\" filter=\"url(#fog35nt4w2f9s)\" points=\"16,6,163,6,170,28.2969,284,28.2969,284,240,16,240,16,6\" style=\"stroke: #000000; stroke-width: 1.5;\"/><line style=\"stroke: #000000; stroke-width: 1.5;\" x1=\"16\" x2=\"170\" y1=\"28.2969\" y2=\"28.2969\"/><text fill=\"#000000\" font-family=\"sans-serif\" font-size=\"14\" font-weight=\"bold\" lengthAdjust=\"spacingAndGlyphs\" textLength=\"141\" x=\"20\" y=\"20.9951\">PrivateImportTest</text></a><!--MD5=[e4f7fae6ed58524ba242bb0b0d3be6b7]\n",
       "cluster E2--><a href=\"psysml:0afae52f-013a-41db-84e1-dbe02c327088\" target=\"_top\" title=\"psysml:0afae52f-013a-41db-84e1-dbe02c327088\" xlink:actuate=\"onRequest\" xlink:href=\"psysml:0afae52f-013a-41db-84e1-dbe02c327088\" xlink:show=\"new\" xlink:title=\"psysml:0afae52f-013a-41db-84e1-dbe02c327088\" xlink:type=\"simple\"><polygon fill=\"#FFFFFF\" filter=\"url(#fog35nt4w2f9s)\" points=\"162,119,188,119,195,141.2969,260,141.2969,260,216,162,216,162,119\" style=\"stroke: #000000; stroke-width: 1.5;\"/><line style=\"stroke: #000000; stroke-width: 1.5;\" x1=\"162\" x2=\"195\" y1=\"141.2969\" y2=\"141.2969\"/><text fill=\"#000000\" font-family=\"sans-serif\" font-size=\"14\" font-weight=\"bold\" lengthAdjust=\"spacingAndGlyphs\" textLength=\"20\" x=\"166\" y=\"133.9951\">P1</text></a><!--MD5=[14e3b0961a2654348d326746436168a1]\n",
       "cluster E6--><a href=\"psysml:1d9d662c-22cb-416c-b8ab-bb9944386c4a\" target=\"_top\" title=\"psysml:1d9d662c-22cb-416c-b8ab-bb9944386c4a\" xlink:actuate=\"onRequest\" xlink:href=\"psysml:1d9d662c-22cb-416c-b8ab-bb9944386c4a\" xlink:show=\"new\" xlink:title=\"psysml:1d9d662c-22cb-416c-b8ab-bb9944386c4a\" xlink:type=\"simple\"><polygon fill=\"#FFFFFF\" filter=\"url(#fog35nt4w2f9s)\" points=\"40,119,66,119,73,141.2969,138,141.2969,138,216,40,216,40,119\" style=\"stroke: #000000; stroke-width: 1.5;\"/><line style=\"stroke: #000000; stroke-width: 1.5;\" x1=\"40\" x2=\"73\" y1=\"141.2969\" y2=\"141.2969\"/><text fill=\"#000000\" font-family=\"sans-serif\" font-size=\"14\" font-weight=\"bold\" lengthAdjust=\"spacingAndGlyphs\" textLength=\"20\" x=\"44\" y=\"133.9951\">P3</text></a><!--MD5=[270fce915f116d4de14055a7c1d9a0f3]\n",
       "class E5--><a href=\"psysml:0adc1dcd-eba4-4b19-b824-866ee03ed7de\" target=\"_top\" title=\"psysml:0adc1dcd-eba4-4b19-b824-866ee03ed7de\" xlink:actuate=\"onRequest\" xlink:href=\"psysml:0adc1dcd-eba4-4b19-b824-866ee03ed7de\" xlink:show=\"new\" xlink:title=\"psysml:0adc1dcd-eba4-4b19-b824-866ee03ed7de\" xlink:type=\"simple\"><rect fill=\"#FEFECE\" filter=\"url(#fog35nt4w2f9s)\" height=\"45.9375\" id=\"E5\" rx=\"10\" ry=\"10\" style=\"stroke: #A80036; stroke-width: 1.5;\" width=\"42\" x=\"190\" y=\"44.5\"/><text fill=\"#000000\" font-family=\"sans-serif\" font-size=\"12\" font-style=\"italic\" lengthAdjust=\"spacingAndGlyphs\" textLength=\"40\" x=\"191\" y=\"60.6387\">«part»</text><text fill=\"#000000\" font-family=\"sans-serif\" font-size=\"12\" lengthAdjust=\"spacingAndGlyphs\" textLength=\"22\" x=\"200\" y=\"74.6074\">x: A</text><line style=\"stroke: #A80036; stroke-width: 1.5;\" x1=\"191\" x2=\"231\" y1=\"82.4375\" y2=\"82.4375\"/></a><!--MD5=[b9389687b975829384b498ac4b7476b2]\n",
       "class E8--><a href=\"psysml:b076f02a-ad00-46e0-858a-3e2f54feec2a\" target=\"_top\" title=\"psysml:b076f02a-ad00-46e0-858a-3e2f54feec2a\" xlink:actuate=\"onRequest\" xlink:href=\"psysml:b076f02a-ad00-46e0-858a-3e2f54feec2a\" xlink:show=\"new\" xlink:title=\"psysml:b076f02a-ad00-46e0-858a-3e2f54feec2a\" xlink:type=\"simple\"><rect fill=\"#FEFECE\" filter=\"url(#fog35nt4w2f9s)\" height=\"45.9375\" id=\"E8\" rx=\"10\" ry=\"10\" style=\"stroke: #A80036; stroke-width: 1.5;\" width=\"42\" x=\"107\" y=\"44.5\"/><text fill=\"#000000\" font-family=\"sans-serif\" font-size=\"12\" font-style=\"italic\" lengthAdjust=\"spacingAndGlyphs\" textLength=\"40\" x=\"108\" y=\"60.6387\">«part»</text><text fill=\"#000000\" font-family=\"sans-serif\" font-size=\"12\" lengthAdjust=\"spacingAndGlyphs\" textLength=\"21\" x=\"117.5\" y=\"74.6074\">z: B</text><line style=\"stroke: #A80036; stroke-width: 1.5;\" x1=\"108\" x2=\"148\" y1=\"82.4375\" y2=\"82.4375\"/></a><!--MD5=[09b614a08d8cba4a07c9adeb5e0fee81]\n",
       "class E3--><a href=\"psysml:414aecf4-cab0-4d0d-b5e9-0bd22012706a\" target=\"_top\" title=\"psysml:414aecf4-cab0-4d0d-b5e9-0bd22012706a\" xlink:actuate=\"onRequest\" xlink:href=\"psysml:414aecf4-cab0-4d0d-b5e9-0bd22012706a\" xlink:show=\"new\" xlink:title=\"psysml:414aecf4-cab0-4d0d-b5e9-0bd22012706a\" xlink:type=\"simple\"><rect fill=\"#FEFECE\" filter=\"url(#fog35nt4w2f9s)\" height=\"45.9375\" id=\"E3\" style=\"stroke: #A80036; stroke-width: 1.5;\" width=\"66\" x=\"178\" y=\"154\"/><text fill=\"#000000\" font-family=\"sans-serif\" font-size=\"12\" font-style=\"italic\" lengthAdjust=\"spacingAndGlyphs\" textLength=\"64\" x=\"179\" y=\"170.1387\">«part def»</text><text fill=\"#000000\" font-family=\"sans-serif\" font-size=\"12\" lengthAdjust=\"spacingAndGlyphs\" textLength=\"8\" x=\"207\" y=\"184.1074\">A</text><line style=\"stroke: #A80036; stroke-width: 1.5;\" x1=\"179\" x2=\"243\" y1=\"191.9375\" y2=\"191.9375\"/></a><a href=\"psysml:e62181a2-aa41-44c6-a86b-ee96628d0c50\" target=\"_top\" title=\"psysml:e62181a2-aa41-44c6-a86b-ee96628d0c50\" xlink:actuate=\"onRequest\" xlink:href=\"psysml:e62181a2-aa41-44c6-a86b-ee96628d0c50\" xlink:show=\"new\" xlink:title=\"psysml:e62181a2-aa41-44c6-a86b-ee96628d0c50\" xlink:type=\"simple\"><polygon fill=\"#FFFFFF\" filter=\"url(#fog35nt4w2f9s)\" points=\"32,41,58,41,65,63.2969,72,63.2969,72,93.5938,32,93.5938,32,41\" style=\"stroke: #000000; stroke-width: 1.5;\"/><line style=\"stroke: #000000; stroke-width: 1.5;\" x1=\"32\" x2=\"65\" y1=\"63.2969\" y2=\"63.2969\"/><text fill=\"#000000\" font-family=\"sans-serif\" font-size=\"14\" font-weight=\"bold\" lengthAdjust=\"spacingAndGlyphs\" textLength=\"20\" x=\"36\" y=\"55.9951\">P2</text></a><!--MD5=[2156ba9850f5573cc1fc38a6a4b2f02b]\n",
       "class E7--><a href=\"psysml:f619ebc7-1ca1-4b7d-a8d3-68584975adae\" target=\"_top\" title=\"psysml:f619ebc7-1ca1-4b7d-a8d3-68584975adae\" xlink:actuate=\"onRequest\" xlink:href=\"psysml:f619ebc7-1ca1-4b7d-a8d3-68584975adae\" xlink:show=\"new\" xlink:title=\"psysml:f619ebc7-1ca1-4b7d-a8d3-68584975adae\" xlink:type=\"simple\"><rect fill=\"#FEFECE\" filter=\"url(#fog35nt4w2f9s)\" height=\"45.9375\" id=\"E7\" style=\"stroke: #A80036; stroke-width: 1.5;\" width=\"66\" x=\"56\" y=\"154\"/><text fill=\"#000000\" font-family=\"sans-serif\" font-size=\"12\" font-style=\"italic\" lengthAdjust=\"spacingAndGlyphs\" textLength=\"64\" x=\"57\" y=\"170.1387\">«part def»</text><text fill=\"#000000\" font-family=\"sans-serif\" font-size=\"12\" lengthAdjust=\"spacingAndGlyphs\" textLength=\"8\" x=\"85\" y=\"184.1074\">B</text><line style=\"stroke: #A80036; stroke-width: 1.5;\" x1=\"57\" x2=\"121\" y1=\"191.9375\" y2=\"191.9375\"/></a><!--MD5=[e9be52314489bd878ff4c7144b63c9e1]\n",
       "link E5 to E3--><a href=\"psysml:e8148481-e1af-4d30-a20f-345018eb1da9\" target=\"_top\" title=\"psysml:e8148481-e1af-4d30-a20f-345018eb1da9\" xlink:actuate=\"onRequest\" xlink:href=\"psysml:e8148481-e1af-4d30-a20f-345018eb1da9\" xlink:show=\"new\" xlink:title=\"psysml:e8148481-e1af-4d30-a20f-345018eb1da9\" xlink:type=\"simple\"><path d=\"M211,90.51 C211,102.89 211,118.78 211,133.48 \" fill=\"none\" id=\"E5-&gt;E3\" style=\"stroke: #A80036; stroke-width: 1.0;\"/><polygon fill=\"#FFFFFF\" points=\"211,153.65,204,134.65,218,134.65,211,153.65\" style=\"stroke: #A80036; stroke-width: 1.0;\"/><ellipse cx=\"206\" cy=\"128.95\" fill=\"#A80036\" rx=\"2\" ry=\"2\" style=\"stroke: #A80036; stroke-width: 1.0;\"/><ellipse cx=\"216\" cy=\"128.95\" fill=\"#A80036\" rx=\"2\" ry=\"2\" style=\"stroke: #A80036; stroke-width: 1.0;\"/></a><!--MD5=[bfa3c8b0d15052fdf50ae9310b491027]\n",
       "link E8 to E7--><a href=\"psysml:88eb6ab6-f030-4136-96c6-6d1b75343c8c\" target=\"_top\" title=\"psysml:88eb6ab6-f030-4136-96c6-6d1b75343c8c\" xlink:actuate=\"onRequest\" xlink:href=\"psysml:88eb6ab6-f030-4136-96c6-6d1b75343c8c\" xlink:show=\"new\" xlink:title=\"psysml:88eb6ab6-f030-4136-96c6-6d1b75343c8c\" xlink:type=\"simple\"><path d=\"M120.01,90.51 C115.39,103.25 109.42,119.7 103.96,134.76 \" fill=\"none\" id=\"E8-&gt;E7\" style=\"stroke: #A80036; stroke-width: 1.0;\"/><polygon fill=\"#FFFFFF\" points=\"97.11,153.65,97.0036,133.4018,110.1656,138.1726,97.11,153.65\" style=\"stroke: #A80036; stroke-width: 1.0;\"/><ellipse cx=\"100.8262\" cy=\"128.7245\" fill=\"#A80036\" rx=\"2\" ry=\"2\" style=\"stroke: #A80036; stroke-width: 1.0;\"/><ellipse cx=\"110.2277\" cy=\"132.1322\" fill=\"#A80036\" rx=\"2\" ry=\"2\" style=\"stroke: #A80036; stroke-width: 1.0;\"/></a><!--MD5=[046d673b1cb371975f05796fef03039c]\n",
       "@startuml\r\n",
       "skinparam wrapWidth 300\r\n",
       "hide circle\r\n",
       "\r\n",
       "package \"PrivateImportTest\" as E1  [[psysml:a19fc987-58b9-4365-8e05-8e082939198f ]]  {\r\n",
       "package \"P1\" as E2  [[psysml:0afae52f-013a-41db-84e1-dbe02c327088 ]]  {\r\n",
       "comp def \"A\" as E3  <<(T,blue)part def>> [[psysml:414aecf4-cab0-4d0d-b5e9-0bd22012706a ]] {\r\n",
       "}\r\n",
       "}\r\n",
       "package \"P2\" as E4  [[psysml:e62181a2-aa41-44c6-a86b-ee96628d0c50 ]]  {\r\n",
       "}\r\n",
       "comp usage \"x: A\" as E5  <<(T,blue)part>> [[psysml:0adc1dcd-eba4-4b19-b824-866ee03ed7de ]] {\r\n",
       "}\r\n",
       "package \"P3\" as E6  [[psysml:1d9d662c-22cb-416c-b8ab-bb9944386c4a ]]  {\r\n",
       "comp def \"B\" as E7  <<(T,blue)part def>> [[psysml:f619ebc7-1ca1-4b7d-a8d3-68584975adae ]] {\r\n",
       "}\r\n",
       "E5 - -:|> E3 [[psysml:e8148481-e1af-4d30-a20f-345018eb1da9 ]] \r\n",
       "}\r\n",
       "comp usage \"z: B\" as E8  <<(T,blue)part>> [[psysml:b076f02a-ad00-46e0-858a-3e2f54feec2a ]] {\r\n",
       "}\r\n",
       "E8 - -:|> E7 [[psysml:88eb6ab6-f030-4136-96c6-6d1b75343c8c ]] \r\n",
       "}\r\n",
       "@enduml\r\n",
       "\n",
       "PlantUML version 1.2020.13(Sat Jun 13 12:26:38 UTC 2020)\n",
       "(EPL source distribution)\n",
       "Java Runtime: OpenJDK Runtime Environment\n",
       "JVM: OpenJDK 64-Bit Server VM\n",
       "Default Encoding: UTF-8\n",
       "Language: en\n",
       "Country: null\n",
       "--></g></svg>"
      ]
     },
     "execution_count": 24,
     "metadata": {},
     "output_type": "execute_result"
    }
   ],
   "source": [
    "%viz --style=\"STDCOLOR\" --view=\"Tree\" \"PrivateImportTest\""
   ]
  },
  {
   "cell_type": "code",
   "execution_count": 25,
   "id": "homeless-possession",
   "metadata": {
    "execution": {
     "iopub.execute_input": "2021-03-25T09:26:39.496473Z",
     "iopub.status.busy": "2021-03-25T09:26:39.495878Z",
     "iopub.status.idle": "2021-03-25T09:26:39.503602Z",
     "shell.execute_reply": "2021-03-25T09:26:39.503975Z"
    }
   },
   "outputs": [
    {
     "data": {
      "image/svg+xml": [
       "<?xml version=\"1.0\" encoding=\"UTF-8\" standalone=\"no\"?><svg xmlns=\"http://www.w3.org/2000/svg\" xmlns:xlink=\"http://www.w3.org/1999/xlink\" contentScriptType=\"application/ecmascript\" contentStyleType=\"text/css\" height=\"12px\" preserveAspectRatio=\"none\" style=\"width:12px;height:12px;\" version=\"1.1\" viewBox=\"0 0 12 12\" width=\"12px\" zoomAndPan=\"magnify\"><defs/><g><!--MD5=[aeeef50f102b80d730deb6443d14f702]\n",
       "@startuml\r\n",
       "skinparam wrapWidth 300\r\n",
       "hide circle\r\n",
       "\r\n",
       "@enduml\r\n",
       "\n",
       "PlantUML version 1.2020.13(Sat Jun 13 12:26:38 UTC 2020)\n",
       "(EPL source distribution)\n",
       "Java Runtime: OpenJDK Runtime Environment\n",
       "JVM: OpenJDK 64-Bit Server VM\n",
       "Default Encoding: UTF-8\n",
       "Language: en\n",
       "Country: null\n",
       "--></g></svg>"
      ]
     },
     "execution_count": 25,
     "metadata": {},
     "output_type": "execute_result"
    }
   ],
   "source": [
    "%viz --style=\"STDCOLOR\" --view=\"State\" \"PrivateImportTest\""
   ]
  },
  {
   "cell_type": "code",
   "execution_count": 26,
   "id": "suspended-proportion",
   "metadata": {
    "execution": {
     "iopub.execute_input": "2021-03-25T09:26:39.558290Z",
     "iopub.status.busy": "2021-03-25T09:26:39.557167Z",
     "iopub.status.idle": "2021-03-25T09:26:39.616221Z",
     "shell.execute_reply": "2021-03-25T09:26:39.616649Z"
    }
   },
   "outputs": [
    {
     "data": {
      "image/svg+xml": [
       "<?xml version=\"1.0\" encoding=\"UTF-8\" standalone=\"no\"?><svg xmlns=\"http://www.w3.org/2000/svg\" xmlns:xlink=\"http://www.w3.org/1999/xlink\" contentScriptType=\"application/ecmascript\" contentStyleType=\"text/css\" height=\"179px\" preserveAspectRatio=\"none\" style=\"width:539px;height:179px;\" version=\"1.1\" viewBox=\"0 0 539 179\" width=\"539px\" zoomAndPan=\"magnify\"><defs><filter height=\"300%\" id=\"f34q9nk1ippdk\" width=\"300%\" x=\"-1\" y=\"-1\"><feGaussianBlur result=\"blurOut\" stdDeviation=\"2.0\"/><feColorMatrix in=\"blurOut\" result=\"blurOut2\" type=\"matrix\" values=\"0 0 0 0 0 0 0 0 0 0 0 0 0 0 0 0 0 0 .4 0\"/><feOffset dx=\"4.0\" dy=\"4.0\" in=\"blurOut2\" result=\"blurOut3\"/><feBlend in=\"SourceGraphic\" in2=\"blurOut3\" mode=\"normal\"/></filter></defs><g><!--MD5=[fbc87193dbaf4d95561dea2c320d4a47]\n",
       "cluster E1--><a href=\"psysml:a19fc987-58b9-4365-8e05-8e082939198f\" target=\"_top\" title=\"psysml:a19fc987-58b9-4365-8e05-8e082939198f\" xlink:actuate=\"onRequest\" xlink:href=\"psysml:a19fc987-58b9-4365-8e05-8e082939198f\" xlink:show=\"new\" xlink:title=\"psysml:a19fc987-58b9-4365-8e05-8e082939198f\" xlink:type=\"simple\"><polygon fill=\"#FFFFFF\" filter=\"url(#f34q9nk1ippdk)\" points=\"16,6,163,6,170,28.2969,517,28.2969,517,167,16,167,16,6\" style=\"stroke: #000000; stroke-width: 1.5;\"/><line style=\"stroke: #000000; stroke-width: 1.5;\" x1=\"16\" x2=\"170\" y1=\"28.2969\" y2=\"28.2969\"/><text fill=\"#000000\" font-family=\"sans-serif\" font-size=\"14\" font-weight=\"bold\" lengthAdjust=\"spacingAndGlyphs\" textLength=\"141\" x=\"20\" y=\"20.9951\">PrivateImportTest</text></a><!--MD5=[e4f7fae6ed58524ba242bb0b0d3be6b7]\n",
       "cluster E2--><a href=\"psysml:0afae52f-013a-41db-84e1-dbe02c327088\" target=\"_top\" title=\"psysml:0afae52f-013a-41db-84e1-dbe02c327088\" xlink:actuate=\"onRequest\" xlink:href=\"psysml:0afae52f-013a-41db-84e1-dbe02c327088\" xlink:show=\"new\" xlink:title=\"psysml:0afae52f-013a-41db-84e1-dbe02c327088\" xlink:type=\"simple\"><polygon fill=\"#FFFFFF\" filter=\"url(#f34q9nk1ippdk)\" points=\"389,49,415,49,422,71.2969,493,71.2969,493,143,389,143,389,49\" style=\"stroke: #000000; stroke-width: 1.5;\"/><line style=\"stroke: #000000; stroke-width: 1.5;\" x1=\"389\" x2=\"422\" y1=\"71.2969\" y2=\"71.2969\"/><text fill=\"#000000\" font-family=\"sans-serif\" font-size=\"14\" font-weight=\"bold\" lengthAdjust=\"spacingAndGlyphs\" textLength=\"20\" x=\"393\" y=\"63.9951\">P1</text></a><!--MD5=[14e3b0961a2654348d326746436168a1]\n",
       "cluster E6--><a href=\"psysml:1d9d662c-22cb-416c-b8ab-bb9944386c4a\" target=\"_top\" title=\"psysml:1d9d662c-22cb-416c-b8ab-bb9944386c4a\" xlink:actuate=\"onRequest\" xlink:href=\"psysml:1d9d662c-22cb-416c-b8ab-bb9944386c4a\" xlink:show=\"new\" xlink:title=\"psysml:1d9d662c-22cb-416c-b8ab-bb9944386c4a\" xlink:type=\"simple\"><polygon fill=\"#FFFFFF\" filter=\"url(#f34q9nk1ippdk)\" points=\"261,49,287,49,294,71.2969,365,71.2969,365,143,261,143,261,49\" style=\"stroke: #000000; stroke-width: 1.5;\"/><line style=\"stroke: #000000; stroke-width: 1.5;\" x1=\"261\" x2=\"294\" y1=\"71.2969\" y2=\"71.2969\"/><text fill=\"#000000\" font-family=\"sans-serif\" font-size=\"14\" font-weight=\"bold\" lengthAdjust=\"spacingAndGlyphs\" textLength=\"20\" x=\"265\" y=\"63.9951\">P3</text></a><g id=\"E1.E2.E3\"><a href=\"psysml:414aecf4-cab0-4d0d-b5e9-0bd22012706a\" target=\"_top\" title=\"psysml:414aecf4-cab0-4d0d-b5e9-0bd22012706a\" xlink:actuate=\"onRequest\" xlink:href=\"psysml:414aecf4-cab0-4d0d-b5e9-0bd22012706a\" xlink:show=\"new\" xlink:title=\"psysml:414aecf4-cab0-4d0d-b5e9-0bd22012706a\" xlink:type=\"simple\"><rect fill=\"#FEFECE\" filter=\"url(#f34q9nk1ippdk)\" height=\"42.9375\" id=\"E3\" style=\"stroke: #A80036; stroke-width: 1.5;\" width=\"71\" x=\"405.5\" y=\"84\"/><text fill=\"#000000\" font-family=\"sans-serif\" font-size=\"12\" font-style=\"italic\" lengthAdjust=\"spacingAndGlyphs\" textLength=\"64\" x=\"409\" y=\"100.1387\">«part def»</text><text fill=\"#000000\" font-family=\"sans-serif\" font-size=\"12\" lengthAdjust=\"spacingAndGlyphs\" textLength=\"8\" x=\"437\" y=\"114.1074\">A</text></a></g><a href=\"psysml:e62181a2-aa41-44c6-a86b-ee96628d0c50\" target=\"_top\" title=\"psysml:e62181a2-aa41-44c6-a86b-ee96628d0c50\" xlink:actuate=\"onRequest\" xlink:href=\"psysml:e62181a2-aa41-44c6-a86b-ee96628d0c50\" xlink:show=\"new\" xlink:title=\"psysml:e62181a2-aa41-44c6-a86b-ee96628d0c50\" xlink:type=\"simple\"><polygon fill=\"#FFFFFF\" filter=\"url(#f34q9nk1ippdk)\" points=\"202,79,228,79,235,101.2969,242,101.2969,242,131.5938,202,131.5938,202,79\" style=\"stroke: #000000; stroke-width: 1.5;\"/><line style=\"stroke: #000000; stroke-width: 1.5;\" x1=\"202\" x2=\"235\" y1=\"101.2969\" y2=\"101.2969\"/><text fill=\"#000000\" font-family=\"sans-serif\" font-size=\"14\" font-weight=\"bold\" lengthAdjust=\"spacingAndGlyphs\" textLength=\"20\" x=\"206\" y=\"93.9951\">P2</text></a><g id=\"E1.E5\"><a href=\"psysml:0adc1dcd-eba4-4b19-b824-866ee03ed7de\" target=\"_top\" title=\"psysml:0adc1dcd-eba4-4b19-b824-866ee03ed7de\" xlink:actuate=\"onRequest\" xlink:href=\"psysml:0adc1dcd-eba4-4b19-b824-866ee03ed7de\" xlink:show=\"new\" xlink:title=\"psysml:0adc1dcd-eba4-4b19-b824-866ee03ed7de\" xlink:type=\"simple\"><rect fill=\"#FEFECE\" filter=\"url(#f34q9nk1ippdk)\" height=\"40\" id=\"E5\" rx=\"10\" ry=\"10\" style=\"stroke: #A80036; stroke-width: 1.5;\" width=\"50\" x=\"117\" y=\"85.5\"/><text fill=\"#000000\" font-family=\"sans-serif\" font-size=\"12\" lengthAdjust=\"spacingAndGlyphs\" textLength=\"22\" x=\"131\" y=\"101.6387\">x: A</text></a></g><g id=\"E1.E6.E7\"><a href=\"psysml:f619ebc7-1ca1-4b7d-a8d3-68584975adae\" target=\"_top\" title=\"psysml:f619ebc7-1ca1-4b7d-a8d3-68584975adae\" xlink:actuate=\"onRequest\" xlink:href=\"psysml:f619ebc7-1ca1-4b7d-a8d3-68584975adae\" xlink:show=\"new\" xlink:title=\"psysml:f619ebc7-1ca1-4b7d-a8d3-68584975adae\" xlink:type=\"simple\"><rect fill=\"#FEFECE\" filter=\"url(#f34q9nk1ippdk)\" height=\"42.9375\" id=\"E7\" style=\"stroke: #A80036; stroke-width: 1.5;\" width=\"71\" x=\"277.5\" y=\"84\"/><text fill=\"#000000\" font-family=\"sans-serif\" font-size=\"12\" font-style=\"italic\" lengthAdjust=\"spacingAndGlyphs\" textLength=\"64\" x=\"281\" y=\"100.1387\">«part def»</text><text fill=\"#000000\" font-family=\"sans-serif\" font-size=\"12\" lengthAdjust=\"spacingAndGlyphs\" textLength=\"8\" x=\"309\" y=\"114.1074\">B</text></a></g><g id=\"E1.E8\"><a href=\"psysml:b076f02a-ad00-46e0-858a-3e2f54feec2a\" target=\"_top\" title=\"psysml:b076f02a-ad00-46e0-858a-3e2f54feec2a\" xlink:actuate=\"onRequest\" xlink:href=\"psysml:b076f02a-ad00-46e0-858a-3e2f54feec2a\" xlink:show=\"new\" xlink:title=\"psysml:b076f02a-ad00-46e0-858a-3e2f54feec2a\" xlink:type=\"simple\"><rect fill=\"#FEFECE\" filter=\"url(#f34q9nk1ippdk)\" height=\"40\" id=\"E8\" rx=\"10\" ry=\"10\" style=\"stroke: #A80036; stroke-width: 1.5;\" width=\"50\" x=\"32\" y=\"85.5\"/><text fill=\"#000000\" font-family=\"sans-serif\" font-size=\"12\" lengthAdjust=\"spacingAndGlyphs\" textLength=\"21\" x=\"46.5\" y=\"101.6387\">z: B</text></a></g><!--MD5=[e1209d3490815c01e49eaf9c15397cd3]\n",
       "@startuml\r\n",
       "skinparam ranksep 8\r\n",
       "skinparam rectangle {\r\n",
       " backgroundColor<<block>> LightGreen\r\n",
       "}\r\n",
       "skinparam wrapWidth 300\r\n",
       "hide circle\r\n",
       "\r\n",
       "package \"PrivateImportTest\" as E1  [[psysml:a19fc987-58b9-4365-8e05-8e082939198f ]]  {\r\n",
       "package \"P1\" as E2  [[psysml:0afae52f-013a-41db-84e1-dbe02c327088 ]]  {\r\n",
       "rec def \"A\" as E3  <<(T,blue)part def>> [[psysml:414aecf4-cab0-4d0d-b5e9-0bd22012706a ]] {\r\n",
       "}\r\n",
       "}\r\n",
       "package \"P2\" as E4  [[psysml:e62181a2-aa41-44c6-a86b-ee96628d0c50 ]]  {\r\n",
       "}\r\n",
       "rec usage \"x: A\" as E5  [[psysml:0adc1dcd-eba4-4b19-b824-866ee03ed7de ]] {\r\n",
       "}\r\n",
       "package \"P3\" as E6  [[psysml:1d9d662c-22cb-416c-b8ab-bb9944386c4a ]]  {\r\n",
       "rec def \"B\" as E7  <<(T,blue)part def>> [[psysml:f619ebc7-1ca1-4b7d-a8d3-68584975adae ]] {\r\n",
       "}\r\n",
       "}\r\n",
       "rec usage \"z: B\" as E8  [[psysml:b076f02a-ad00-46e0-858a-3e2f54feec2a ]] {\r\n",
       "}\r\n",
       "}\r\n",
       "@enduml\r\n",
       "\n",
       "PlantUML version 1.2020.13(Sat Jun 13 12:26:38 UTC 2020)\n",
       "(EPL source distribution)\n",
       "Java Runtime: OpenJDK Runtime Environment\n",
       "JVM: OpenJDK 64-Bit Server VM\n",
       "Default Encoding: UTF-8\n",
       "Language: en\n",
       "Country: null\n",
       "--></g></svg>"
      ]
     },
     "execution_count": 26,
     "metadata": {},
     "output_type": "execute_result"
    }
   ],
   "source": [
    "%viz --style=\"STDCOLOR\" --view=\"Interconnection\" \"PrivateImportTest\""
   ]
  },
  {
   "cell_type": "code",
   "execution_count": 27,
   "id": "illegal-print",
   "metadata": {
    "execution": {
     "iopub.execute_input": "2021-03-25T09:26:39.669854Z",
     "iopub.status.busy": "2021-03-25T09:26:39.668803Z",
     "iopub.status.idle": "2021-03-25T09:26:39.676490Z",
     "shell.execute_reply": "2021-03-25T09:26:39.676915Z"
    }
   },
   "outputs": [
    {
     "data": {
      "image/svg+xml": [
       "<?xml version=\"1.0\" encoding=\"UTF-8\" standalone=\"no\"?><svg xmlns=\"http://www.w3.org/2000/svg\" xmlns:xlink=\"http://www.w3.org/1999/xlink\" contentScriptType=\"application/ecmascript\" contentStyleType=\"text/css\" height=\"12px\" preserveAspectRatio=\"none\" style=\"width:12px;height:12px;\" version=\"1.1\" viewBox=\"0 0 12 12\" width=\"12px\" zoomAndPan=\"magnify\"><defs/><g><!--MD5=[9863325348a96a77dacc89509d8ee65e]\n",
       "@startuml\r\n",
       "skinparam ranksep 8\r\n",
       "skinparam wrapWidth 300\r\n",
       "hide circle\r\n",
       "\r\n",
       "@enduml\r\n",
       "\n",
       "PlantUML version 1.2020.13(Sat Jun 13 12:26:38 UTC 2020)\n",
       "(EPL source distribution)\n",
       "Java Runtime: OpenJDK Runtime Environment\n",
       "JVM: OpenJDK 64-Bit Server VM\n",
       "Default Encoding: UTF-8\n",
       "Language: en\n",
       "Country: null\n",
       "--></g></svg>"
      ]
     },
     "execution_count": 27,
     "metadata": {},
     "output_type": "execute_result"
    }
   ],
   "source": [
    "%viz --style=\"STDCOLOR\" --view=\"Action\" \"PrivateImportTest\""
   ]
  },
  {
   "cell_type": "code",
   "execution_count": 28,
   "id": "federal-formation",
   "metadata": {
    "execution": {
     "iopub.execute_input": "2021-03-25T09:26:39.729048Z",
     "iopub.status.busy": "2021-03-25T09:26:39.728575Z",
     "iopub.status.idle": "2021-03-25T09:26:39.794057Z",
     "shell.execute_reply": "2021-03-25T09:26:39.792616Z"
    }
   },
   "outputs": [
    {
     "data": {
      "image/svg+xml": [
       "<?xml version=\"1.0\" encoding=\"UTF-8\" standalone=\"no\"?><svg xmlns=\"http://www.w3.org/2000/svg\" xmlns:xlink=\"http://www.w3.org/1999/xlink\" contentScriptType=\"application/ecmascript\" contentStyleType=\"text/css\" height=\"252px\" preserveAspectRatio=\"none\" style=\"width:306px;height:252px;\" version=\"1.1\" viewBox=\"0 0 306 252\" width=\"306px\" zoomAndPan=\"magnify\"><defs><filter height=\"300%\" id=\"fog35nt4w2f9s\" width=\"300%\" x=\"-1\" y=\"-1\"><feGaussianBlur result=\"blurOut\" stdDeviation=\"2.0\"/><feColorMatrix in=\"blurOut\" result=\"blurOut2\" type=\"matrix\" values=\"0 0 0 0 0 0 0 0 0 0 0 0 0 0 0 0 0 0 .4 0\"/><feOffset dx=\"4.0\" dy=\"4.0\" in=\"blurOut2\" result=\"blurOut3\"/><feBlend in=\"SourceGraphic\" in2=\"blurOut3\" mode=\"normal\"/></filter></defs><g><!--MD5=[fbc87193dbaf4d95561dea2c320d4a47]\n",
       "cluster E1--><a href=\"psysml:a19fc987-58b9-4365-8e05-8e082939198f\" target=\"_top\" title=\"psysml:a19fc987-58b9-4365-8e05-8e082939198f\" xlink:actuate=\"onRequest\" xlink:href=\"psysml:a19fc987-58b9-4365-8e05-8e082939198f\" xlink:show=\"new\" xlink:title=\"psysml:a19fc987-58b9-4365-8e05-8e082939198f\" xlink:type=\"simple\"><polygon fill=\"#FFFFFF\" filter=\"url(#fog35nt4w2f9s)\" points=\"16,6,163,6,170,28.2969,284,28.2969,284,240,16,240,16,6\" style=\"stroke: #000000; stroke-width: 1.5;\"/><line style=\"stroke: #000000; stroke-width: 1.5;\" x1=\"16\" x2=\"170\" y1=\"28.2969\" y2=\"28.2969\"/><text fill=\"#000000\" font-family=\"sans-serif\" font-size=\"14\" font-weight=\"bold\" lengthAdjust=\"spacingAndGlyphs\" textLength=\"141\" x=\"20\" y=\"20.9951\">PrivateImportTest</text></a><!--MD5=[e4f7fae6ed58524ba242bb0b0d3be6b7]\n",
       "cluster E2--><a href=\"psysml:0afae52f-013a-41db-84e1-dbe02c327088\" target=\"_top\" title=\"psysml:0afae52f-013a-41db-84e1-dbe02c327088\" xlink:actuate=\"onRequest\" xlink:href=\"psysml:0afae52f-013a-41db-84e1-dbe02c327088\" xlink:show=\"new\" xlink:title=\"psysml:0afae52f-013a-41db-84e1-dbe02c327088\" xlink:type=\"simple\"><polygon fill=\"#FFFFFF\" filter=\"url(#fog35nt4w2f9s)\" points=\"162,119,188,119,195,141.2969,260,141.2969,260,216,162,216,162,119\" style=\"stroke: #000000; stroke-width: 1.5;\"/><line style=\"stroke: #000000; stroke-width: 1.5;\" x1=\"162\" x2=\"195\" y1=\"141.2969\" y2=\"141.2969\"/><text fill=\"#000000\" font-family=\"sans-serif\" font-size=\"14\" font-weight=\"bold\" lengthAdjust=\"spacingAndGlyphs\" textLength=\"20\" x=\"166\" y=\"133.9951\">P1</text></a><!--MD5=[14e3b0961a2654348d326746436168a1]\n",
       "cluster E6--><a href=\"psysml:1d9d662c-22cb-416c-b8ab-bb9944386c4a\" target=\"_top\" title=\"psysml:1d9d662c-22cb-416c-b8ab-bb9944386c4a\" xlink:actuate=\"onRequest\" xlink:href=\"psysml:1d9d662c-22cb-416c-b8ab-bb9944386c4a\" xlink:show=\"new\" xlink:title=\"psysml:1d9d662c-22cb-416c-b8ab-bb9944386c4a\" xlink:type=\"simple\"><polygon fill=\"#FFFFFF\" filter=\"url(#fog35nt4w2f9s)\" points=\"40,119,66,119,73,141.2969,138,141.2969,138,216,40,216,40,119\" style=\"stroke: #000000; stroke-width: 1.5;\"/><line style=\"stroke: #000000; stroke-width: 1.5;\" x1=\"40\" x2=\"73\" y1=\"141.2969\" y2=\"141.2969\"/><text fill=\"#000000\" font-family=\"sans-serif\" font-size=\"14\" font-weight=\"bold\" lengthAdjust=\"spacingAndGlyphs\" textLength=\"20\" x=\"44\" y=\"133.9951\">P3</text></a><!--MD5=[270fce915f116d4de14055a7c1d9a0f3]\n",
       "class E5--><a href=\"psysml:0adc1dcd-eba4-4b19-b824-866ee03ed7de\" target=\"_top\" title=\"psysml:0adc1dcd-eba4-4b19-b824-866ee03ed7de\" xlink:actuate=\"onRequest\" xlink:href=\"psysml:0adc1dcd-eba4-4b19-b824-866ee03ed7de\" xlink:show=\"new\" xlink:title=\"psysml:0adc1dcd-eba4-4b19-b824-866ee03ed7de\" xlink:type=\"simple\"><rect fill=\"#FEFECE\" filter=\"url(#fog35nt4w2f9s)\" height=\"45.9375\" id=\"E5\" rx=\"10\" ry=\"10\" style=\"stroke: #A80036; stroke-width: 1.5;\" width=\"42\" x=\"190\" y=\"44.5\"/><text fill=\"#000000\" font-family=\"sans-serif\" font-size=\"12\" font-style=\"italic\" lengthAdjust=\"spacingAndGlyphs\" textLength=\"40\" x=\"191\" y=\"60.6387\">«part»</text><text fill=\"#000000\" font-family=\"sans-serif\" font-size=\"12\" lengthAdjust=\"spacingAndGlyphs\" textLength=\"22\" x=\"200\" y=\"74.6074\">x: A</text><line style=\"stroke: #A80036; stroke-width: 1.5;\" x1=\"191\" x2=\"231\" y1=\"82.4375\" y2=\"82.4375\"/></a><!--MD5=[b9389687b975829384b498ac4b7476b2]\n",
       "class E8--><a href=\"psysml:b076f02a-ad00-46e0-858a-3e2f54feec2a\" target=\"_top\" title=\"psysml:b076f02a-ad00-46e0-858a-3e2f54feec2a\" xlink:actuate=\"onRequest\" xlink:href=\"psysml:b076f02a-ad00-46e0-858a-3e2f54feec2a\" xlink:show=\"new\" xlink:title=\"psysml:b076f02a-ad00-46e0-858a-3e2f54feec2a\" xlink:type=\"simple\"><rect fill=\"#FEFECE\" filter=\"url(#fog35nt4w2f9s)\" height=\"45.9375\" id=\"E8\" rx=\"10\" ry=\"10\" style=\"stroke: #A80036; stroke-width: 1.5;\" width=\"42\" x=\"107\" y=\"44.5\"/><text fill=\"#000000\" font-family=\"sans-serif\" font-size=\"12\" font-style=\"italic\" lengthAdjust=\"spacingAndGlyphs\" textLength=\"40\" x=\"108\" y=\"60.6387\">«part»</text><text fill=\"#000000\" font-family=\"sans-serif\" font-size=\"12\" lengthAdjust=\"spacingAndGlyphs\" textLength=\"21\" x=\"117.5\" y=\"74.6074\">z: B</text><line style=\"stroke: #A80036; stroke-width: 1.5;\" x1=\"108\" x2=\"148\" y1=\"82.4375\" y2=\"82.4375\"/></a><!--MD5=[09b614a08d8cba4a07c9adeb5e0fee81]\n",
       "class E3--><a href=\"psysml:414aecf4-cab0-4d0d-b5e9-0bd22012706a\" target=\"_top\" title=\"psysml:414aecf4-cab0-4d0d-b5e9-0bd22012706a\" xlink:actuate=\"onRequest\" xlink:href=\"psysml:414aecf4-cab0-4d0d-b5e9-0bd22012706a\" xlink:show=\"new\" xlink:title=\"psysml:414aecf4-cab0-4d0d-b5e9-0bd22012706a\" xlink:type=\"simple\"><rect fill=\"#FEFECE\" filter=\"url(#fog35nt4w2f9s)\" height=\"45.9375\" id=\"E3\" style=\"stroke: #A80036; stroke-width: 1.5;\" width=\"66\" x=\"178\" y=\"154\"/><text fill=\"#000000\" font-family=\"sans-serif\" font-size=\"12\" font-style=\"italic\" lengthAdjust=\"spacingAndGlyphs\" textLength=\"64\" x=\"179\" y=\"170.1387\">«part def»</text><text fill=\"#000000\" font-family=\"sans-serif\" font-size=\"12\" lengthAdjust=\"spacingAndGlyphs\" textLength=\"8\" x=\"207\" y=\"184.1074\">A</text><line style=\"stroke: #A80036; stroke-width: 1.5;\" x1=\"179\" x2=\"243\" y1=\"191.9375\" y2=\"191.9375\"/></a><a href=\"psysml:e62181a2-aa41-44c6-a86b-ee96628d0c50\" target=\"_top\" title=\"psysml:e62181a2-aa41-44c6-a86b-ee96628d0c50\" xlink:actuate=\"onRequest\" xlink:href=\"psysml:e62181a2-aa41-44c6-a86b-ee96628d0c50\" xlink:show=\"new\" xlink:title=\"psysml:e62181a2-aa41-44c6-a86b-ee96628d0c50\" xlink:type=\"simple\"><polygon fill=\"#FFFFFF\" filter=\"url(#fog35nt4w2f9s)\" points=\"32,41,58,41,65,63.2969,72,63.2969,72,93.5938,32,93.5938,32,41\" style=\"stroke: #000000; stroke-width: 1.5;\"/><line style=\"stroke: #000000; stroke-width: 1.5;\" x1=\"32\" x2=\"65\" y1=\"63.2969\" y2=\"63.2969\"/><text fill=\"#000000\" font-family=\"sans-serif\" font-size=\"14\" font-weight=\"bold\" lengthAdjust=\"spacingAndGlyphs\" textLength=\"20\" x=\"36\" y=\"55.9951\">P2</text></a><!--MD5=[2156ba9850f5573cc1fc38a6a4b2f02b]\n",
       "class E7--><a href=\"psysml:f619ebc7-1ca1-4b7d-a8d3-68584975adae\" target=\"_top\" title=\"psysml:f619ebc7-1ca1-4b7d-a8d3-68584975adae\" xlink:actuate=\"onRequest\" xlink:href=\"psysml:f619ebc7-1ca1-4b7d-a8d3-68584975adae\" xlink:show=\"new\" xlink:title=\"psysml:f619ebc7-1ca1-4b7d-a8d3-68584975adae\" xlink:type=\"simple\"><rect fill=\"#FEFECE\" filter=\"url(#fog35nt4w2f9s)\" height=\"45.9375\" id=\"E7\" style=\"stroke: #A80036; stroke-width: 1.5;\" width=\"66\" x=\"56\" y=\"154\"/><text fill=\"#000000\" font-family=\"sans-serif\" font-size=\"12\" font-style=\"italic\" lengthAdjust=\"spacingAndGlyphs\" textLength=\"64\" x=\"57\" y=\"170.1387\">«part def»</text><text fill=\"#000000\" font-family=\"sans-serif\" font-size=\"12\" lengthAdjust=\"spacingAndGlyphs\" textLength=\"8\" x=\"85\" y=\"184.1074\">B</text><line style=\"stroke: #A80036; stroke-width: 1.5;\" x1=\"57\" x2=\"121\" y1=\"191.9375\" y2=\"191.9375\"/></a><!--MD5=[e9be52314489bd878ff4c7144b63c9e1]\n",
       "link E5 to E3--><a href=\"psysml:e8148481-e1af-4d30-a20f-345018eb1da9\" target=\"_top\" title=\"psysml:e8148481-e1af-4d30-a20f-345018eb1da9\" xlink:actuate=\"onRequest\" xlink:href=\"psysml:e8148481-e1af-4d30-a20f-345018eb1da9\" xlink:show=\"new\" xlink:title=\"psysml:e8148481-e1af-4d30-a20f-345018eb1da9\" xlink:type=\"simple\"><path d=\"M211,90.51 C211,102.89 211,118.78 211,133.48 \" fill=\"none\" id=\"E5-&gt;E3\" style=\"stroke: #A80036; stroke-width: 1.0;\"/><polygon fill=\"#FFFFFF\" points=\"211,153.65,204,134.65,218,134.65,211,153.65\" style=\"stroke: #A80036; stroke-width: 1.0;\"/><ellipse cx=\"206\" cy=\"128.95\" fill=\"#A80036\" rx=\"2\" ry=\"2\" style=\"stroke: #A80036; stroke-width: 1.0;\"/><ellipse cx=\"216\" cy=\"128.95\" fill=\"#A80036\" rx=\"2\" ry=\"2\" style=\"stroke: #A80036; stroke-width: 1.0;\"/></a><!--MD5=[bfa3c8b0d15052fdf50ae9310b491027]\n",
       "link E8 to E7--><a href=\"psysml:88eb6ab6-f030-4136-96c6-6d1b75343c8c\" target=\"_top\" title=\"psysml:88eb6ab6-f030-4136-96c6-6d1b75343c8c\" xlink:actuate=\"onRequest\" xlink:href=\"psysml:88eb6ab6-f030-4136-96c6-6d1b75343c8c\" xlink:show=\"new\" xlink:title=\"psysml:88eb6ab6-f030-4136-96c6-6d1b75343c8c\" xlink:type=\"simple\"><path d=\"M120.01,90.51 C115.39,103.25 109.42,119.7 103.96,134.76 \" fill=\"none\" id=\"E8-&gt;E7\" style=\"stroke: #A80036; stroke-width: 1.0;\"/><polygon fill=\"#FFFFFF\" points=\"97.11,153.65,97.0036,133.4018,110.1656,138.1726,97.11,153.65\" style=\"stroke: #A80036; stroke-width: 1.0;\"/><ellipse cx=\"100.8262\" cy=\"128.7245\" fill=\"#A80036\" rx=\"2\" ry=\"2\" style=\"stroke: #A80036; stroke-width: 1.0;\"/><ellipse cx=\"110.2277\" cy=\"132.1322\" fill=\"#A80036\" rx=\"2\" ry=\"2\" style=\"stroke: #A80036; stroke-width: 1.0;\"/></a><!--MD5=[046d673b1cb371975f05796fef03039c]\n",
       "@startuml\r\n",
       "skinparam wrapWidth 300\r\n",
       "hide circle\r\n",
       "\r\n",
       "package \"PrivateImportTest\" as E1  [[psysml:a19fc987-58b9-4365-8e05-8e082939198f ]]  {\r\n",
       "package \"P1\" as E2  [[psysml:0afae52f-013a-41db-84e1-dbe02c327088 ]]  {\r\n",
       "comp def \"A\" as E3  <<(T,blue)part def>> [[psysml:414aecf4-cab0-4d0d-b5e9-0bd22012706a ]] {\r\n",
       "}\r\n",
       "}\r\n",
       "package \"P2\" as E4  [[psysml:e62181a2-aa41-44c6-a86b-ee96628d0c50 ]]  {\r\n",
       "}\r\n",
       "comp usage \"x: A\" as E5  <<(T,blue)part>> [[psysml:0adc1dcd-eba4-4b19-b824-866ee03ed7de ]] {\r\n",
       "}\r\n",
       "package \"P3\" as E6  [[psysml:1d9d662c-22cb-416c-b8ab-bb9944386c4a ]]  {\r\n",
       "comp def \"B\" as E7  <<(T,blue)part def>> [[psysml:f619ebc7-1ca1-4b7d-a8d3-68584975adae ]] {\r\n",
       "}\r\n",
       "E5 - -:|> E3 [[psysml:e8148481-e1af-4d30-a20f-345018eb1da9 ]] \r\n",
       "}\r\n",
       "comp usage \"z: B\" as E8  <<(T,blue)part>> [[psysml:b076f02a-ad00-46e0-858a-3e2f54feec2a ]] {\r\n",
       "}\r\n",
       "E8 - -:|> E7 [[psysml:88eb6ab6-f030-4136-96c6-6d1b75343c8c ]] \r\n",
       "}\r\n",
       "@enduml\r\n",
       "\n",
       "PlantUML version 1.2020.13(Sat Jun 13 12:26:38 UTC 2020)\n",
       "(EPL source distribution)\n",
       "Java Runtime: OpenJDK Runtime Environment\n",
       "JVM: OpenJDK 64-Bit Server VM\n",
       "Default Encoding: UTF-8\n",
       "Language: en\n",
       "Country: null\n",
       "--></g></svg>"
      ]
     },
     "execution_count": 28,
     "metadata": {},
     "output_type": "execute_result"
    }
   ],
   "source": [
    "%viz --style=\"STDCOLOR\" --view=\"Sequence\" \"PrivateImportTest\""
   ]
  },
  {
   "cell_type": "code",
   "execution_count": 29,
   "id": "certified-investigator",
   "metadata": {
    "execution": {
     "iopub.execute_input": "2021-03-25T09:26:39.845015Z",
     "iopub.status.busy": "2021-03-25T09:26:39.844484Z",
     "iopub.status.idle": "2021-03-25T09:26:39.909168Z",
     "shell.execute_reply": "2021-03-25T09:26:39.908816Z"
    }
   },
   "outputs": [
    {
     "data": {
      "image/svg+xml": [
       "<?xml version=\"1.0\" encoding=\"UTF-8\" standalone=\"no\"?><svg xmlns=\"http://www.w3.org/2000/svg\" xmlns:xlink=\"http://www.w3.org/1999/xlink\" contentScriptType=\"application/ecmascript\" contentStyleType=\"text/css\" height=\"252px\" preserveAspectRatio=\"none\" style=\"width:306px;height:252px;\" version=\"1.1\" viewBox=\"0 0 306 252\" width=\"306px\" zoomAndPan=\"magnify\"><defs><filter height=\"300%\" id=\"fog35nt4w2f9s\" width=\"300%\" x=\"-1\" y=\"-1\"><feGaussianBlur result=\"blurOut\" stdDeviation=\"2.0\"/><feColorMatrix in=\"blurOut\" result=\"blurOut2\" type=\"matrix\" values=\"0 0 0 0 0 0 0 0 0 0 0 0 0 0 0 0 0 0 .4 0\"/><feOffset dx=\"4.0\" dy=\"4.0\" in=\"blurOut2\" result=\"blurOut3\"/><feBlend in=\"SourceGraphic\" in2=\"blurOut3\" mode=\"normal\"/></filter></defs><g><!--MD5=[fbc87193dbaf4d95561dea2c320d4a47]\n",
       "cluster E1--><a href=\"psysml:a19fc987-58b9-4365-8e05-8e082939198f\" target=\"_top\" title=\"psysml:a19fc987-58b9-4365-8e05-8e082939198f\" xlink:actuate=\"onRequest\" xlink:href=\"psysml:a19fc987-58b9-4365-8e05-8e082939198f\" xlink:show=\"new\" xlink:title=\"psysml:a19fc987-58b9-4365-8e05-8e082939198f\" xlink:type=\"simple\"><polygon fill=\"#FFFFFF\" filter=\"url(#fog35nt4w2f9s)\" points=\"16,6,163,6,170,28.2969,284,28.2969,284,240,16,240,16,6\" style=\"stroke: #000000; stroke-width: 1.5;\"/><line style=\"stroke: #000000; stroke-width: 1.5;\" x1=\"16\" x2=\"170\" y1=\"28.2969\" y2=\"28.2969\"/><text fill=\"#000000\" font-family=\"sans-serif\" font-size=\"14\" font-weight=\"bold\" lengthAdjust=\"spacingAndGlyphs\" textLength=\"141\" x=\"20\" y=\"20.9951\">PrivateImportTest</text></a><!--MD5=[e4f7fae6ed58524ba242bb0b0d3be6b7]\n",
       "cluster E2--><a href=\"psysml:0afae52f-013a-41db-84e1-dbe02c327088\" target=\"_top\" title=\"psysml:0afae52f-013a-41db-84e1-dbe02c327088\" xlink:actuate=\"onRequest\" xlink:href=\"psysml:0afae52f-013a-41db-84e1-dbe02c327088\" xlink:show=\"new\" xlink:title=\"psysml:0afae52f-013a-41db-84e1-dbe02c327088\" xlink:type=\"simple\"><polygon fill=\"#FFFFFF\" filter=\"url(#fog35nt4w2f9s)\" points=\"162,119,188,119,195,141.2969,260,141.2969,260,216,162,216,162,119\" style=\"stroke: #000000; stroke-width: 1.5;\"/><line style=\"stroke: #000000; stroke-width: 1.5;\" x1=\"162\" x2=\"195\" y1=\"141.2969\" y2=\"141.2969\"/><text fill=\"#000000\" font-family=\"sans-serif\" font-size=\"14\" font-weight=\"bold\" lengthAdjust=\"spacingAndGlyphs\" textLength=\"20\" x=\"166\" y=\"133.9951\">P1</text></a><!--MD5=[14e3b0961a2654348d326746436168a1]\n",
       "cluster E6--><a href=\"psysml:1d9d662c-22cb-416c-b8ab-bb9944386c4a\" target=\"_top\" title=\"psysml:1d9d662c-22cb-416c-b8ab-bb9944386c4a\" xlink:actuate=\"onRequest\" xlink:href=\"psysml:1d9d662c-22cb-416c-b8ab-bb9944386c4a\" xlink:show=\"new\" xlink:title=\"psysml:1d9d662c-22cb-416c-b8ab-bb9944386c4a\" xlink:type=\"simple\"><polygon fill=\"#FFFFFF\" filter=\"url(#fog35nt4w2f9s)\" points=\"40,119,66,119,73,141.2969,138,141.2969,138,216,40,216,40,119\" style=\"stroke: #000000; stroke-width: 1.5;\"/><line style=\"stroke: #000000; stroke-width: 1.5;\" x1=\"40\" x2=\"73\" y1=\"141.2969\" y2=\"141.2969\"/><text fill=\"#000000\" font-family=\"sans-serif\" font-size=\"14\" font-weight=\"bold\" lengthAdjust=\"spacingAndGlyphs\" textLength=\"20\" x=\"44\" y=\"133.9951\">P3</text></a><!--MD5=[270fce915f116d4de14055a7c1d9a0f3]\n",
       "class E5--><a href=\"psysml:0adc1dcd-eba4-4b19-b824-866ee03ed7de\" target=\"_top\" title=\"psysml:0adc1dcd-eba4-4b19-b824-866ee03ed7de\" xlink:actuate=\"onRequest\" xlink:href=\"psysml:0adc1dcd-eba4-4b19-b824-866ee03ed7de\" xlink:show=\"new\" xlink:title=\"psysml:0adc1dcd-eba4-4b19-b824-866ee03ed7de\" xlink:type=\"simple\"><rect fill=\"#FEFECE\" filter=\"url(#fog35nt4w2f9s)\" height=\"45.9375\" id=\"E5\" rx=\"10\" ry=\"10\" style=\"stroke: #A80036; stroke-width: 1.5;\" width=\"42\" x=\"190\" y=\"44.5\"/><text fill=\"#000000\" font-family=\"sans-serif\" font-size=\"12\" font-style=\"italic\" lengthAdjust=\"spacingAndGlyphs\" textLength=\"40\" x=\"191\" y=\"60.6387\">«part»</text><text fill=\"#000000\" font-family=\"sans-serif\" font-size=\"12\" lengthAdjust=\"spacingAndGlyphs\" textLength=\"22\" x=\"200\" y=\"74.6074\">x: A</text><line style=\"stroke: #A80036; stroke-width: 1.5;\" x1=\"191\" x2=\"231\" y1=\"82.4375\" y2=\"82.4375\"/></a><!--MD5=[b9389687b975829384b498ac4b7476b2]\n",
       "class E8--><a href=\"psysml:b076f02a-ad00-46e0-858a-3e2f54feec2a\" target=\"_top\" title=\"psysml:b076f02a-ad00-46e0-858a-3e2f54feec2a\" xlink:actuate=\"onRequest\" xlink:href=\"psysml:b076f02a-ad00-46e0-858a-3e2f54feec2a\" xlink:show=\"new\" xlink:title=\"psysml:b076f02a-ad00-46e0-858a-3e2f54feec2a\" xlink:type=\"simple\"><rect fill=\"#FEFECE\" filter=\"url(#fog35nt4w2f9s)\" height=\"45.9375\" id=\"E8\" rx=\"10\" ry=\"10\" style=\"stroke: #A80036; stroke-width: 1.5;\" width=\"42\" x=\"107\" y=\"44.5\"/><text fill=\"#000000\" font-family=\"sans-serif\" font-size=\"12\" font-style=\"italic\" lengthAdjust=\"spacingAndGlyphs\" textLength=\"40\" x=\"108\" y=\"60.6387\">«part»</text><text fill=\"#000000\" font-family=\"sans-serif\" font-size=\"12\" lengthAdjust=\"spacingAndGlyphs\" textLength=\"21\" x=\"117.5\" y=\"74.6074\">z: B</text><line style=\"stroke: #A80036; stroke-width: 1.5;\" x1=\"108\" x2=\"148\" y1=\"82.4375\" y2=\"82.4375\"/></a><!--MD5=[09b614a08d8cba4a07c9adeb5e0fee81]\n",
       "class E3--><a href=\"psysml:414aecf4-cab0-4d0d-b5e9-0bd22012706a\" target=\"_top\" title=\"psysml:414aecf4-cab0-4d0d-b5e9-0bd22012706a\" xlink:actuate=\"onRequest\" xlink:href=\"psysml:414aecf4-cab0-4d0d-b5e9-0bd22012706a\" xlink:show=\"new\" xlink:title=\"psysml:414aecf4-cab0-4d0d-b5e9-0bd22012706a\" xlink:type=\"simple\"><rect fill=\"#FEFECE\" filter=\"url(#fog35nt4w2f9s)\" height=\"45.9375\" id=\"E3\" style=\"stroke: #A80036; stroke-width: 1.5;\" width=\"66\" x=\"178\" y=\"154\"/><text fill=\"#000000\" font-family=\"sans-serif\" font-size=\"12\" font-style=\"italic\" lengthAdjust=\"spacingAndGlyphs\" textLength=\"64\" x=\"179\" y=\"170.1387\">«part def»</text><text fill=\"#000000\" font-family=\"sans-serif\" font-size=\"12\" lengthAdjust=\"spacingAndGlyphs\" textLength=\"8\" x=\"207\" y=\"184.1074\">A</text><line style=\"stroke: #A80036; stroke-width: 1.5;\" x1=\"179\" x2=\"243\" y1=\"191.9375\" y2=\"191.9375\"/></a><a href=\"psysml:e62181a2-aa41-44c6-a86b-ee96628d0c50\" target=\"_top\" title=\"psysml:e62181a2-aa41-44c6-a86b-ee96628d0c50\" xlink:actuate=\"onRequest\" xlink:href=\"psysml:e62181a2-aa41-44c6-a86b-ee96628d0c50\" xlink:show=\"new\" xlink:title=\"psysml:e62181a2-aa41-44c6-a86b-ee96628d0c50\" xlink:type=\"simple\"><polygon fill=\"#FFFFFF\" filter=\"url(#fog35nt4w2f9s)\" points=\"32,41,58,41,65,63.2969,72,63.2969,72,93.5938,32,93.5938,32,41\" style=\"stroke: #000000; stroke-width: 1.5;\"/><line style=\"stroke: #000000; stroke-width: 1.5;\" x1=\"32\" x2=\"65\" y1=\"63.2969\" y2=\"63.2969\"/><text fill=\"#000000\" font-family=\"sans-serif\" font-size=\"14\" font-weight=\"bold\" lengthAdjust=\"spacingAndGlyphs\" textLength=\"20\" x=\"36\" y=\"55.9951\">P2</text></a><!--MD5=[2156ba9850f5573cc1fc38a6a4b2f02b]\n",
       "class E7--><a href=\"psysml:f619ebc7-1ca1-4b7d-a8d3-68584975adae\" target=\"_top\" title=\"psysml:f619ebc7-1ca1-4b7d-a8d3-68584975adae\" xlink:actuate=\"onRequest\" xlink:href=\"psysml:f619ebc7-1ca1-4b7d-a8d3-68584975adae\" xlink:show=\"new\" xlink:title=\"psysml:f619ebc7-1ca1-4b7d-a8d3-68584975adae\" xlink:type=\"simple\"><rect fill=\"#FEFECE\" filter=\"url(#fog35nt4w2f9s)\" height=\"45.9375\" id=\"E7\" style=\"stroke: #A80036; stroke-width: 1.5;\" width=\"66\" x=\"56\" y=\"154\"/><text fill=\"#000000\" font-family=\"sans-serif\" font-size=\"12\" font-style=\"italic\" lengthAdjust=\"spacingAndGlyphs\" textLength=\"64\" x=\"57\" y=\"170.1387\">«part def»</text><text fill=\"#000000\" font-family=\"sans-serif\" font-size=\"12\" lengthAdjust=\"spacingAndGlyphs\" textLength=\"8\" x=\"85\" y=\"184.1074\">B</text><line style=\"stroke: #A80036; stroke-width: 1.5;\" x1=\"57\" x2=\"121\" y1=\"191.9375\" y2=\"191.9375\"/></a><!--MD5=[e9be52314489bd878ff4c7144b63c9e1]\n",
       "link E5 to E3--><a href=\"psysml:e8148481-e1af-4d30-a20f-345018eb1da9\" target=\"_top\" title=\"psysml:e8148481-e1af-4d30-a20f-345018eb1da9\" xlink:actuate=\"onRequest\" xlink:href=\"psysml:e8148481-e1af-4d30-a20f-345018eb1da9\" xlink:show=\"new\" xlink:title=\"psysml:e8148481-e1af-4d30-a20f-345018eb1da9\" xlink:type=\"simple\"><path d=\"M211,90.51 C211,102.89 211,118.78 211,133.48 \" fill=\"none\" id=\"E5-&gt;E3\" style=\"stroke: #A80036; stroke-width: 1.0;\"/><polygon fill=\"#FFFFFF\" points=\"211,153.65,204,134.65,218,134.65,211,153.65\" style=\"stroke: #A80036; stroke-width: 1.0;\"/><ellipse cx=\"206\" cy=\"128.95\" fill=\"#A80036\" rx=\"2\" ry=\"2\" style=\"stroke: #A80036; stroke-width: 1.0;\"/><ellipse cx=\"216\" cy=\"128.95\" fill=\"#A80036\" rx=\"2\" ry=\"2\" style=\"stroke: #A80036; stroke-width: 1.0;\"/></a><!--MD5=[bfa3c8b0d15052fdf50ae9310b491027]\n",
       "link E8 to E7--><a href=\"psysml:88eb6ab6-f030-4136-96c6-6d1b75343c8c\" target=\"_top\" title=\"psysml:88eb6ab6-f030-4136-96c6-6d1b75343c8c\" xlink:actuate=\"onRequest\" xlink:href=\"psysml:88eb6ab6-f030-4136-96c6-6d1b75343c8c\" xlink:show=\"new\" xlink:title=\"psysml:88eb6ab6-f030-4136-96c6-6d1b75343c8c\" xlink:type=\"simple\"><path d=\"M120.01,90.51 C115.39,103.25 109.42,119.7 103.96,134.76 \" fill=\"none\" id=\"E8-&gt;E7\" style=\"stroke: #A80036; stroke-width: 1.0;\"/><polygon fill=\"#FFFFFF\" points=\"97.11,153.65,97.0036,133.4018,110.1656,138.1726,97.11,153.65\" style=\"stroke: #A80036; stroke-width: 1.0;\"/><ellipse cx=\"100.8262\" cy=\"128.7245\" fill=\"#A80036\" rx=\"2\" ry=\"2\" style=\"stroke: #A80036; stroke-width: 1.0;\"/><ellipse cx=\"110.2277\" cy=\"132.1322\" fill=\"#A80036\" rx=\"2\" ry=\"2\" style=\"stroke: #A80036; stroke-width: 1.0;\"/></a><!--MD5=[046d673b1cb371975f05796fef03039c]\n",
       "@startuml\r\n",
       "skinparam wrapWidth 300\r\n",
       "hide circle\r\n",
       "\r\n",
       "package \"PrivateImportTest\" as E1  [[psysml:a19fc987-58b9-4365-8e05-8e082939198f ]]  {\r\n",
       "package \"P1\" as E2  [[psysml:0afae52f-013a-41db-84e1-dbe02c327088 ]]  {\r\n",
       "comp def \"A\" as E3  <<(T,blue)part def>> [[psysml:414aecf4-cab0-4d0d-b5e9-0bd22012706a ]] {\r\n",
       "}\r\n",
       "}\r\n",
       "package \"P2\" as E4  [[psysml:e62181a2-aa41-44c6-a86b-ee96628d0c50 ]]  {\r\n",
       "}\r\n",
       "comp usage \"x: A\" as E5  <<(T,blue)part>> [[psysml:0adc1dcd-eba4-4b19-b824-866ee03ed7de ]] {\r\n",
       "}\r\n",
       "package \"P3\" as E6  [[psysml:1d9d662c-22cb-416c-b8ab-bb9944386c4a ]]  {\r\n",
       "comp def \"B\" as E7  <<(T,blue)part def>> [[psysml:f619ebc7-1ca1-4b7d-a8d3-68584975adae ]] {\r\n",
       "}\r\n",
       "E5 - -:|> E3 [[psysml:e8148481-e1af-4d30-a20f-345018eb1da9 ]] \r\n",
       "}\r\n",
       "comp usage \"z: B\" as E8  <<(T,blue)part>> [[psysml:b076f02a-ad00-46e0-858a-3e2f54feec2a ]] {\r\n",
       "}\r\n",
       "E8 - -:|> E7 [[psysml:88eb6ab6-f030-4136-96c6-6d1b75343c8c ]] \r\n",
       "}\r\n",
       "@enduml\r\n",
       "\n",
       "PlantUML version 1.2020.13(Sat Jun 13 12:26:38 UTC 2020)\n",
       "(EPL source distribution)\n",
       "Java Runtime: OpenJDK Runtime Environment\n",
       "JVM: OpenJDK 64-Bit Server VM\n",
       "Default Encoding: UTF-8\n",
       "Language: en\n",
       "Country: null\n",
       "--></g></svg>"
      ]
     },
     "execution_count": 29,
     "metadata": {},
     "output_type": "execute_result"
    }
   ],
   "source": [
    "%viz --style=\"STDCOLOR\" --view=\"MIXED\" \"PrivateImportTest\""
   ]
  },
  {
   "cell_type": "code",
   "execution_count": 30,
   "id": "secondary-anthropology",
   "metadata": {
    "execution": {
     "iopub.execute_input": "2021-03-25T09:26:39.959817Z",
     "iopub.status.busy": "2021-03-25T09:26:39.959232Z",
     "iopub.status.idle": "2021-03-25T09:26:40.035792Z",
     "shell.execute_reply": "2021-03-25T09:26:40.035388Z"
    }
   },
   "outputs": [
    {
     "data": {
      "image/svg+xml": [
       "<?xml version=\"1.0\" encoding=\"UTF-8\" standalone=\"no\"?><svg xmlns=\"http://www.w3.org/2000/svg\" xmlns:xlink=\"http://www.w3.org/1999/xlink\" contentScriptType=\"application/ecmascript\" contentStyleType=\"text/css\" height=\"246px\" preserveAspectRatio=\"none\" style=\"width:316px;height:246px;\" version=\"1.1\" viewBox=\"0 0 316 246\" width=\"316px\" zoomAndPan=\"magnify\"><defs><filter height=\"300%\" id=\"f2xxfftx24b8v\" width=\"300%\" x=\"-1\" y=\"-1\"><feGaussianBlur result=\"blurOut\" stdDeviation=\"2.0\"/><feColorMatrix in=\"blurOut\" result=\"blurOut2\" type=\"matrix\" values=\"0 0 0 0 0 0 0 0 0 0 0 0 0 0 0 0 0 0 .4 0\"/><feOffset dx=\"4.0\" dy=\"4.0\" in=\"blurOut2\" result=\"blurOut3\"/><feBlend in=\"SourceGraphic\" in2=\"blurOut3\" mode=\"normal\"/></filter></defs><g><!--MD5=[fbc87193dbaf4d95561dea2c320d4a47]\n",
       "cluster E1--><a href=\"psysml:a19fc987-58b9-4365-8e05-8e082939198f\" target=\"_top\" title=\"psysml:a19fc987-58b9-4365-8e05-8e082939198f\" xlink:actuate=\"onRequest\" xlink:href=\"psysml:a19fc987-58b9-4365-8e05-8e082939198f\" xlink:show=\"new\" xlink:title=\"psysml:a19fc987-58b9-4365-8e05-8e082939198f\" xlink:type=\"simple\"><polygon fill=\"#FFFFFF\" filter=\"url(#f2xxfftx24b8v)\" points=\"16,6,163,6,170,28.2969,294,28.2969,294,234,16,234,16,6\" style=\"stroke: #000000; stroke-width: 1.5;\"/><line style=\"stroke: #000000; stroke-width: 1.5;\" x1=\"16\" x2=\"170\" y1=\"28.2969\" y2=\"28.2969\"/><text fill=\"#000000\" font-family=\"sans-serif\" font-size=\"14\" font-weight=\"bold\" lengthAdjust=\"spacingAndGlyphs\" textLength=\"141\" x=\"20\" y=\"20.9951\">PrivateImportTest</text></a><!--MD5=[e4f7fae6ed58524ba242bb0b0d3be6b7]\n",
       "cluster E2--><a href=\"psysml:0afae52f-013a-41db-84e1-dbe02c327088\" target=\"_top\" title=\"psysml:0afae52f-013a-41db-84e1-dbe02c327088\" xlink:actuate=\"onRequest\" xlink:href=\"psysml:0afae52f-013a-41db-84e1-dbe02c327088\" xlink:show=\"new\" xlink:title=\"psysml:0afae52f-013a-41db-84e1-dbe02c327088\" xlink:type=\"simple\"><polygon fill=\"#FFFFFF\" filter=\"url(#f2xxfftx24b8v)\" points=\"198,119,224,119,231,141.2969,270,141.2969,270,210,198,210,198,119\" style=\"stroke: #000000; stroke-width: 1.5;\"/><line style=\"stroke: #000000; stroke-width: 1.5;\" x1=\"198\" x2=\"231\" y1=\"141.2969\" y2=\"141.2969\"/><text fill=\"#000000\" font-family=\"sans-serif\" font-size=\"14\" font-weight=\"bold\" lengthAdjust=\"spacingAndGlyphs\" textLength=\"20\" x=\"202\" y=\"133.9951\">P1</text></a><!--MD5=[14e3b0961a2654348d326746436168a1]\n",
       "cluster E6--><a href=\"psysml:1d9d662c-22cb-416c-b8ab-bb9944386c4a\" target=\"_top\" title=\"psysml:1d9d662c-22cb-416c-b8ab-bb9944386c4a\" xlink:actuate=\"onRequest\" xlink:href=\"psysml:1d9d662c-22cb-416c-b8ab-bb9944386c4a\" xlink:show=\"new\" xlink:title=\"psysml:1d9d662c-22cb-416c-b8ab-bb9944386c4a\" xlink:type=\"simple\"><polygon fill=\"#FFFFFF\" filter=\"url(#f2xxfftx24b8v)\" points=\"102,119,128,119,135,141.2969,174,141.2969,174,210,102,210,102,119\" style=\"stroke: #000000; stroke-width: 1.5;\"/><line style=\"stroke: #000000; stroke-width: 1.5;\" x1=\"102\" x2=\"135\" y1=\"141.2969\" y2=\"141.2969\"/><text fill=\"#000000\" font-family=\"sans-serif\" font-size=\"14\" font-weight=\"bold\" lengthAdjust=\"spacingAndGlyphs\" textLength=\"20\" x=\"106\" y=\"133.9951\">P3</text></a><!--MD5=[270fce915f116d4de14055a7c1d9a0f3]\n",
       "class E5--><a href=\"psysml:0adc1dcd-eba4-4b19-b824-866ee03ed7de\" target=\"_top\" title=\"psysml:0adc1dcd-eba4-4b19-b824-866ee03ed7de\" xlink:actuate=\"onRequest\" xlink:href=\"psysml:0adc1dcd-eba4-4b19-b824-866ee03ed7de\" xlink:show=\"new\" xlink:title=\"psysml:0adc1dcd-eba4-4b19-b824-866ee03ed7de\" xlink:type=\"simple\"><rect fill=\"#FEFECE\" filter=\"url(#f2xxfftx24b8v)\" height=\"45.9375\" id=\"E5\" rx=\"10\" ry=\"10\" style=\"stroke: #A80036; stroke-width: 1.5;\" width=\"68\" x=\"210\" y=\"44.5\"/><ellipse cx=\"225\" cy=\"63.4688\" fill=\"#32CD32\" rx=\"11\" ry=\"11\" style=\"stroke: #A80036; stroke-width: 1.0;\"/><path d=\"M224.7969,59.1406 L224.7969,62.7656 L225.7969,62.7656 Q227,62.7656 227.4844,62.3594 Q227.9688,61.9531 227.9688,60.9531 Q227.9688,59.9531 227.4844,59.5469 Q227,59.1406 225.7969,59.1406 L224.7969,59.1406 Z M222.3438,57.0781 L225.7031,57.0781 Q228.2656,57.0781 229.3906,58 Q230.5156,58.9063 230.5156,60.9531 Q230.5156,63 229.3906,63.9219 Q228.2656,64.8281 225.7031,64.8281 L224.7969,64.8281 L224.7969,69.4688 L222.3438,69.4688 L222.3438,57.0781 Z \"/><text fill=\"#000000\" font-family=\"sans-serif\" font-size=\"12\" font-style=\"italic\" lengthAdjust=\"spacingAndGlyphs\" textLength=\"40\" x=\"237\" y=\"60.6387\">«part»</text><text fill=\"#000000\" font-family=\"sans-serif\" font-size=\"12\" lengthAdjust=\"spacingAndGlyphs\" textLength=\"22\" x=\"246\" y=\"74.6074\">x: A</text><line style=\"stroke: #A80036; stroke-width: 1.5;\" x1=\"211\" x2=\"277\" y1=\"82.4375\" y2=\"82.4375\"/></a><!--MD5=[b9389687b975829384b498ac4b7476b2]\n",
       "class E8--><a href=\"psysml:b076f02a-ad00-46e0-858a-3e2f54feec2a\" target=\"_top\" title=\"psysml:b076f02a-ad00-46e0-858a-3e2f54feec2a\" xlink:actuate=\"onRequest\" xlink:href=\"psysml:b076f02a-ad00-46e0-858a-3e2f54feec2a\" xlink:show=\"new\" xlink:title=\"psysml:b076f02a-ad00-46e0-858a-3e2f54feec2a\" xlink:type=\"simple\"><rect fill=\"#FEFECE\" filter=\"url(#f2xxfftx24b8v)\" height=\"45.9375\" id=\"E8\" rx=\"10\" ry=\"10\" style=\"stroke: #A80036; stroke-width: 1.5;\" width=\"68\" x=\"107\" y=\"44.5\"/><ellipse cx=\"122\" cy=\"63.4688\" fill=\"#32CD32\" rx=\"11\" ry=\"11\" style=\"stroke: #A80036; stroke-width: 1.0;\"/><path d=\"M121.7969,59.1406 L121.7969,62.7656 L122.7969,62.7656 Q124,62.7656 124.4844,62.3594 Q124.9688,61.9531 124.9688,60.9531 Q124.9688,59.9531 124.4844,59.5469 Q124,59.1406 122.7969,59.1406 L121.7969,59.1406 Z M119.3438,57.0781 L122.7031,57.0781 Q125.2656,57.0781 126.3906,58 Q127.5156,58.9063 127.5156,60.9531 Q127.5156,63 126.3906,63.9219 Q125.2656,64.8281 122.7031,64.8281 L121.7969,64.8281 L121.7969,69.4688 L119.3438,69.4688 L119.3438,57.0781 Z \"/><text fill=\"#000000\" font-family=\"sans-serif\" font-size=\"12\" font-style=\"italic\" lengthAdjust=\"spacingAndGlyphs\" textLength=\"40\" x=\"134\" y=\"60.6387\">«part»</text><text fill=\"#000000\" font-family=\"sans-serif\" font-size=\"12\" lengthAdjust=\"spacingAndGlyphs\" textLength=\"21\" x=\"143.5\" y=\"74.6074\">z: B</text><line style=\"stroke: #A80036; stroke-width: 1.5;\" x1=\"108\" x2=\"174\" y1=\"82.4375\" y2=\"82.4375\"/></a><!--MD5=[09b614a08d8cba4a07c9adeb5e0fee81]\n",
       "class E3--><a href=\"psysml:414aecf4-cab0-4d0d-b5e9-0bd22012706a\" target=\"_top\" title=\"psysml:414aecf4-cab0-4d0d-b5e9-0bd22012706a\" xlink:actuate=\"onRequest\" xlink:href=\"psysml:414aecf4-cab0-4d0d-b5e9-0bd22012706a\" xlink:show=\"new\" xlink:title=\"psysml:414aecf4-cab0-4d0d-b5e9-0bd22012706a\" xlink:type=\"simple\"><rect fill=\"#FEFECE\" filter=\"url(#f2xxfftx24b8v)\" height=\"40\" id=\"E3\" style=\"stroke: #A80036; stroke-width: 1.5;\" width=\"40\" x=\"214\" y=\"154\"/><ellipse cx=\"229\" cy=\"170\" fill=\"#008000\" rx=\"11\" ry=\"11\" style=\"stroke: #A80036; stroke-width: 1.0;\"/><path d=\"M227.9063,170.375 L227.9063,174.0469 L229.5313,174.0469 Q230.7031,174.0469 231.1719,173.6563 Q231.6406,173.25 231.6406,172.25 Q231.6406,171.25 231.1406,170.8125 Q230.6563,170.375 229.5313,170.375 L227.9063,170.375 Z M227.9063,165.5469 L227.9063,168.4219 L229.5313,168.4219 Q230.4531,168.4219 230.8438,168.0938 Q231.25,167.75 231.25,167 Q231.25,166.2344 230.8438,165.8906 Q230.4375,165.5469 229.5313,165.5469 L227.9063,165.5469 Z M225.5313,163.5938 L229.5313,163.5938 Q231.5938,163.5938 232.6406,164.375 Q233.6875,165.1563 233.6875,166.7188 Q233.6875,167.9219 233.0625,168.5938 Q232.4531,169.2656 231.2656,169.375 Q232.6875,169.5156 233.4063,170.3281 Q234.125,171.1406 234.125,172.5938 Q234.125,174.3906 233.0469,175.2031 Q231.9688,176 229.5313,176 L225.5313,176 L225.5313,163.5938 Z \"/><text fill=\"#000000\" font-family=\"sans-serif\" font-size=\"12\" lengthAdjust=\"spacingAndGlyphs\" textLength=\"8\" x=\"243\" y=\"174.1543\">A</text><line style=\"stroke: #A80036; stroke-width: 1.5;\" x1=\"215\" x2=\"253\" y1=\"186\" y2=\"186\"/></a><a href=\"psysml:e62181a2-aa41-44c6-a86b-ee96628d0c50\" target=\"_top\" title=\"psysml:e62181a2-aa41-44c6-a86b-ee96628d0c50\" xlink:actuate=\"onRequest\" xlink:href=\"psysml:e62181a2-aa41-44c6-a86b-ee96628d0c50\" xlink:show=\"new\" xlink:title=\"psysml:e62181a2-aa41-44c6-a86b-ee96628d0c50\" xlink:type=\"simple\"><polygon fill=\"#FFFFFF\" filter=\"url(#f2xxfftx24b8v)\" points=\"32,41,58,41,65,63.2969,72,63.2969,72,93.5938,32,93.5938,32,41\" style=\"stroke: #000000; stroke-width: 1.5;\"/><line style=\"stroke: #000000; stroke-width: 1.5;\" x1=\"32\" x2=\"65\" y1=\"63.2969\" y2=\"63.2969\"/><text fill=\"#000000\" font-family=\"sans-serif\" font-size=\"14\" font-weight=\"bold\" lengthAdjust=\"spacingAndGlyphs\" textLength=\"20\" x=\"36\" y=\"55.9951\">P2</text></a><!--MD5=[2156ba9850f5573cc1fc38a6a4b2f02b]\n",
       "class E7--><a href=\"psysml:f619ebc7-1ca1-4b7d-a8d3-68584975adae\" target=\"_top\" title=\"psysml:f619ebc7-1ca1-4b7d-a8d3-68584975adae\" xlink:actuate=\"onRequest\" xlink:href=\"psysml:f619ebc7-1ca1-4b7d-a8d3-68584975adae\" xlink:show=\"new\" xlink:title=\"psysml:f619ebc7-1ca1-4b7d-a8d3-68584975adae\" xlink:type=\"simple\"><rect fill=\"#FEFECE\" filter=\"url(#f2xxfftx24b8v)\" height=\"40\" id=\"E7\" style=\"stroke: #A80036; stroke-width: 1.5;\" width=\"40\" x=\"118\" y=\"154\"/><ellipse cx=\"133\" cy=\"170\" fill=\"#008000\" rx=\"11\" ry=\"11\" style=\"stroke: #A80036; stroke-width: 1.0;\"/><path d=\"M131.9063,170.375 L131.9063,174.0469 L133.5313,174.0469 Q134.7031,174.0469 135.1719,173.6563 Q135.6406,173.25 135.6406,172.25 Q135.6406,171.25 135.1406,170.8125 Q134.6563,170.375 133.5313,170.375 L131.9063,170.375 Z M131.9063,165.5469 L131.9063,168.4219 L133.5313,168.4219 Q134.4531,168.4219 134.8438,168.0938 Q135.25,167.75 135.25,167 Q135.25,166.2344 134.8438,165.8906 Q134.4375,165.5469 133.5313,165.5469 L131.9063,165.5469 Z M129.5313,163.5938 L133.5313,163.5938 Q135.5938,163.5938 136.6406,164.375 Q137.6875,165.1563 137.6875,166.7188 Q137.6875,167.9219 137.0625,168.5938 Q136.4531,169.2656 135.2656,169.375 Q136.6875,169.5156 137.4063,170.3281 Q138.125,171.1406 138.125,172.5938 Q138.125,174.3906 137.0469,175.2031 Q135.9688,176 133.5313,176 L129.5313,176 L129.5313,163.5938 Z \"/><text fill=\"#000000\" font-family=\"sans-serif\" font-size=\"12\" lengthAdjust=\"spacingAndGlyphs\" textLength=\"8\" x=\"147\" y=\"174.1543\">B</text><line style=\"stroke: #A80036; stroke-width: 1.5;\" x1=\"119\" x2=\"157\" y1=\"186\" y2=\"186\"/></a><!--MD5=[e9be52314489bd878ff4c7144b63c9e1]\n",
       "link E5 to E3--><a href=\"psysml:e8148481-e1af-4d30-a20f-345018eb1da9\" target=\"_top\" title=\"psysml:e8148481-e1af-4d30-a20f-345018eb1da9\" xlink:actuate=\"onRequest\" xlink:href=\"psysml:e8148481-e1af-4d30-a20f-345018eb1da9\" xlink:show=\"new\" xlink:title=\"psysml:e8148481-e1af-4d30-a20f-345018eb1da9\" xlink:type=\"simple\"><path d=\"M241.88,90.66 C240.68,103.15 239.16,119.11 237.77,133.65 \" fill=\"none\" id=\"E5-&gt;E3\" style=\"stroke: #A80036; stroke-width: 1.0;\"/><polygon fill=\"#FFFFFF\" points=\"235.85,153.68,230.7015,134.097,244.6371,135.4376,235.85,153.68\" style=\"stroke: #A80036; stroke-width: 1.0;\"/><ellipse cx=\"233.2381\" cy=\"128.6147\" fill=\"#A80036\" rx=\"2\" ry=\"2\" style=\"stroke: #A80036; stroke-width: 1.0;\"/><ellipse cx=\"243.1921\" cy=\"129.5723\" fill=\"#A80036\" rx=\"2\" ry=\"2\" style=\"stroke: #A80036; stroke-width: 1.0;\"/></a><!--MD5=[bfa3c8b0d15052fdf50ae9310b491027]\n",
       "link E8 to E7--><a href=\"psysml:88eb6ab6-f030-4136-96c6-6d1b75343c8c\" target=\"_top\" title=\"psysml:88eb6ab6-f030-4136-96c6-6d1b75343c8c\" xlink:actuate=\"onRequest\" xlink:href=\"psysml:88eb6ab6-f030-4136-96c6-6d1b75343c8c\" xlink:show=\"new\" xlink:title=\"psysml:88eb6ab6-f030-4136-96c6-6d1b75343c8c\" xlink:type=\"simple\"><path d=\"M140.36,90.66 C140.01,103.15 139.55,119.11 139.13,133.65 \" fill=\"none\" id=\"E8-&gt;E7\" style=\"stroke: #A80036; stroke-width: 1.0;\"/><polygon fill=\"#FFFFFF\" points=\"138.55,153.68,132.0955,134.4878,146.0898,134.8877,138.55,153.68\" style=\"stroke: #A80036; stroke-width: 1.0;\"/><ellipse cx=\"134.2575\" cy=\"128.8473\" fill=\"#A80036\" rx=\"2\" ry=\"2\" style=\"stroke: #A80036; stroke-width: 1.0;\"/><ellipse cx=\"144.2534\" cy=\"129.1329\" fill=\"#A80036\" rx=\"2\" ry=\"2\" style=\"stroke: #A80036; stroke-width: 1.0;\"/></a><!--MD5=[b018dbbbb62fb4fb38f0c86b95a47362]\n",
       "@startuml\r\n",
       " \r\n",
       "package \"PrivateImportTest\" as E1  [[psysml:a19fc987-58b9-4365-8e05-8e082939198f ]]  {\r\n",
       "package \"P1\" as E2  [[psysml:0afae52f-013a-41db-84e1-dbe02c327088 ]]  {\r\n",
       "comp def \"A\" as E3  << (B,green) >> [[psysml:414aecf4-cab0-4d0d-b5e9-0bd22012706a ]] {\r\n",
       "}\r\n",
       "}\r\n",
       "package \"P2\" as E4  [[psysml:e62181a2-aa41-44c6-a86b-ee96628d0c50 ]]  {\r\n",
       "}\r\n",
       "comp usage \"x: A\" as E5  << (P,limegreen) part>> [[psysml:0adc1dcd-eba4-4b19-b824-866ee03ed7de ]] {\r\n",
       "}\r\n",
       "package \"P3\" as E6  [[psysml:1d9d662c-22cb-416c-b8ab-bb9944386c4a ]]  {\r\n",
       "comp def \"B\" as E7  << (B,green) >> [[psysml:f619ebc7-1ca1-4b7d-a8d3-68584975adae ]] {\r\n",
       "}\r\n",
       "E5 - -:|> E3 [[psysml:e8148481-e1af-4d30-a20f-345018eb1da9 ]] \r\n",
       "}\r\n",
       "comp usage \"z: B\" as E8  << (P,limegreen) part>> [[psysml:b076f02a-ad00-46e0-858a-3e2f54feec2a ]] {\r\n",
       "}\r\n",
       "E8 - -:|> E7 [[psysml:88eb6ab6-f030-4136-96c6-6d1b75343c8c ]] \r\n",
       "}\r\n",
       "@enduml\r\n",
       "\n",
       "PlantUML version 1.2020.13(Sat Jun 13 12:26:38 UTC 2020)\n",
       "(EPL source distribution)\n",
       "Java Runtime: OpenJDK Runtime Environment\n",
       "JVM: OpenJDK 64-Bit Server VM\n",
       "Default Encoding: UTF-8\n",
       "Language: en\n",
       "Country: null\n",
       "--></g></svg>"
      ]
     },
     "execution_count": 30,
     "metadata": {},
     "output_type": "execute_result"
    }
   ],
   "source": [
    "%viz --style=\"PLANTUML\" --view=\"Default\" \"PrivateImportTest\""
   ]
  },
  {
   "cell_type": "code",
   "execution_count": 31,
   "id": "organic-amplifier",
   "metadata": {
    "execution": {
     "iopub.execute_input": "2021-03-25T09:26:40.088931Z",
     "iopub.status.busy": "2021-03-25T09:26:40.087766Z",
     "iopub.status.idle": "2021-03-25T09:26:40.147687Z",
     "shell.execute_reply": "2021-03-25T09:26:40.146247Z"
    }
   },
   "outputs": [
    {
     "data": {
      "image/svg+xml": [
       "<?xml version=\"1.0\" encoding=\"UTF-8\" standalone=\"no\"?><svg xmlns=\"http://www.w3.org/2000/svg\" xmlns:xlink=\"http://www.w3.org/1999/xlink\" contentScriptType=\"application/ecmascript\" contentStyleType=\"text/css\" height=\"246px\" preserveAspectRatio=\"none\" style=\"width:316px;height:246px;\" version=\"1.1\" viewBox=\"0 0 316 246\" width=\"316px\" zoomAndPan=\"magnify\"><defs><filter height=\"300%\" id=\"f2xxfftx24b8v\" width=\"300%\" x=\"-1\" y=\"-1\"><feGaussianBlur result=\"blurOut\" stdDeviation=\"2.0\"/><feColorMatrix in=\"blurOut\" result=\"blurOut2\" type=\"matrix\" values=\"0 0 0 0 0 0 0 0 0 0 0 0 0 0 0 0 0 0 .4 0\"/><feOffset dx=\"4.0\" dy=\"4.0\" in=\"blurOut2\" result=\"blurOut3\"/><feBlend in=\"SourceGraphic\" in2=\"blurOut3\" mode=\"normal\"/></filter></defs><g><!--MD5=[fbc87193dbaf4d95561dea2c320d4a47]\n",
       "cluster E1--><a href=\"psysml:a19fc987-58b9-4365-8e05-8e082939198f\" target=\"_top\" title=\"psysml:a19fc987-58b9-4365-8e05-8e082939198f\" xlink:actuate=\"onRequest\" xlink:href=\"psysml:a19fc987-58b9-4365-8e05-8e082939198f\" xlink:show=\"new\" xlink:title=\"psysml:a19fc987-58b9-4365-8e05-8e082939198f\" xlink:type=\"simple\"><polygon fill=\"#FFFFFF\" filter=\"url(#f2xxfftx24b8v)\" points=\"16,6,163,6,170,28.2969,294,28.2969,294,234,16,234,16,6\" style=\"stroke: #000000; stroke-width: 1.5;\"/><line style=\"stroke: #000000; stroke-width: 1.5;\" x1=\"16\" x2=\"170\" y1=\"28.2969\" y2=\"28.2969\"/><text fill=\"#000000\" font-family=\"sans-serif\" font-size=\"14\" font-weight=\"bold\" lengthAdjust=\"spacingAndGlyphs\" textLength=\"141\" x=\"20\" y=\"20.9951\">PrivateImportTest</text></a><!--MD5=[e4f7fae6ed58524ba242bb0b0d3be6b7]\n",
       "cluster E2--><a href=\"psysml:0afae52f-013a-41db-84e1-dbe02c327088\" target=\"_top\" title=\"psysml:0afae52f-013a-41db-84e1-dbe02c327088\" xlink:actuate=\"onRequest\" xlink:href=\"psysml:0afae52f-013a-41db-84e1-dbe02c327088\" xlink:show=\"new\" xlink:title=\"psysml:0afae52f-013a-41db-84e1-dbe02c327088\" xlink:type=\"simple\"><polygon fill=\"#FFFFFF\" filter=\"url(#f2xxfftx24b8v)\" points=\"198,119,224,119,231,141.2969,270,141.2969,270,210,198,210,198,119\" style=\"stroke: #000000; stroke-width: 1.5;\"/><line style=\"stroke: #000000; stroke-width: 1.5;\" x1=\"198\" x2=\"231\" y1=\"141.2969\" y2=\"141.2969\"/><text fill=\"#000000\" font-family=\"sans-serif\" font-size=\"14\" font-weight=\"bold\" lengthAdjust=\"spacingAndGlyphs\" textLength=\"20\" x=\"202\" y=\"133.9951\">P1</text></a><!--MD5=[14e3b0961a2654348d326746436168a1]\n",
       "cluster E6--><a href=\"psysml:1d9d662c-22cb-416c-b8ab-bb9944386c4a\" target=\"_top\" title=\"psysml:1d9d662c-22cb-416c-b8ab-bb9944386c4a\" xlink:actuate=\"onRequest\" xlink:href=\"psysml:1d9d662c-22cb-416c-b8ab-bb9944386c4a\" xlink:show=\"new\" xlink:title=\"psysml:1d9d662c-22cb-416c-b8ab-bb9944386c4a\" xlink:type=\"simple\"><polygon fill=\"#FFFFFF\" filter=\"url(#f2xxfftx24b8v)\" points=\"102,119,128,119,135,141.2969,174,141.2969,174,210,102,210,102,119\" style=\"stroke: #000000; stroke-width: 1.5;\"/><line style=\"stroke: #000000; stroke-width: 1.5;\" x1=\"102\" x2=\"135\" y1=\"141.2969\" y2=\"141.2969\"/><text fill=\"#000000\" font-family=\"sans-serif\" font-size=\"14\" font-weight=\"bold\" lengthAdjust=\"spacingAndGlyphs\" textLength=\"20\" x=\"106\" y=\"133.9951\">P3</text></a><!--MD5=[270fce915f116d4de14055a7c1d9a0f3]\n",
       "class E5--><a href=\"psysml:0adc1dcd-eba4-4b19-b824-866ee03ed7de\" target=\"_top\" title=\"psysml:0adc1dcd-eba4-4b19-b824-866ee03ed7de\" xlink:actuate=\"onRequest\" xlink:href=\"psysml:0adc1dcd-eba4-4b19-b824-866ee03ed7de\" xlink:show=\"new\" xlink:title=\"psysml:0adc1dcd-eba4-4b19-b824-866ee03ed7de\" xlink:type=\"simple\"><rect fill=\"#FEFECE\" filter=\"url(#f2xxfftx24b8v)\" height=\"45.9375\" id=\"E5\" rx=\"10\" ry=\"10\" style=\"stroke: #A80036; stroke-width: 1.5;\" width=\"68\" x=\"210\" y=\"44.5\"/><ellipse cx=\"225\" cy=\"63.4688\" fill=\"#32CD32\" rx=\"11\" ry=\"11\" style=\"stroke: #A80036; stroke-width: 1.0;\"/><path d=\"M224.7969,59.1406 L224.7969,62.7656 L225.7969,62.7656 Q227,62.7656 227.4844,62.3594 Q227.9688,61.9531 227.9688,60.9531 Q227.9688,59.9531 227.4844,59.5469 Q227,59.1406 225.7969,59.1406 L224.7969,59.1406 Z M222.3438,57.0781 L225.7031,57.0781 Q228.2656,57.0781 229.3906,58 Q230.5156,58.9063 230.5156,60.9531 Q230.5156,63 229.3906,63.9219 Q228.2656,64.8281 225.7031,64.8281 L224.7969,64.8281 L224.7969,69.4688 L222.3438,69.4688 L222.3438,57.0781 Z \"/><text fill=\"#000000\" font-family=\"sans-serif\" font-size=\"12\" font-style=\"italic\" lengthAdjust=\"spacingAndGlyphs\" textLength=\"40\" x=\"237\" y=\"60.6387\">«part»</text><text fill=\"#000000\" font-family=\"sans-serif\" font-size=\"12\" lengthAdjust=\"spacingAndGlyphs\" textLength=\"22\" x=\"246\" y=\"74.6074\">x: A</text><line style=\"stroke: #A80036; stroke-width: 1.5;\" x1=\"211\" x2=\"277\" y1=\"82.4375\" y2=\"82.4375\"/></a><!--MD5=[b9389687b975829384b498ac4b7476b2]\n",
       "class E8--><a href=\"psysml:b076f02a-ad00-46e0-858a-3e2f54feec2a\" target=\"_top\" title=\"psysml:b076f02a-ad00-46e0-858a-3e2f54feec2a\" xlink:actuate=\"onRequest\" xlink:href=\"psysml:b076f02a-ad00-46e0-858a-3e2f54feec2a\" xlink:show=\"new\" xlink:title=\"psysml:b076f02a-ad00-46e0-858a-3e2f54feec2a\" xlink:type=\"simple\"><rect fill=\"#FEFECE\" filter=\"url(#f2xxfftx24b8v)\" height=\"45.9375\" id=\"E8\" rx=\"10\" ry=\"10\" style=\"stroke: #A80036; stroke-width: 1.5;\" width=\"68\" x=\"107\" y=\"44.5\"/><ellipse cx=\"122\" cy=\"63.4688\" fill=\"#32CD32\" rx=\"11\" ry=\"11\" style=\"stroke: #A80036; stroke-width: 1.0;\"/><path d=\"M121.7969,59.1406 L121.7969,62.7656 L122.7969,62.7656 Q124,62.7656 124.4844,62.3594 Q124.9688,61.9531 124.9688,60.9531 Q124.9688,59.9531 124.4844,59.5469 Q124,59.1406 122.7969,59.1406 L121.7969,59.1406 Z M119.3438,57.0781 L122.7031,57.0781 Q125.2656,57.0781 126.3906,58 Q127.5156,58.9063 127.5156,60.9531 Q127.5156,63 126.3906,63.9219 Q125.2656,64.8281 122.7031,64.8281 L121.7969,64.8281 L121.7969,69.4688 L119.3438,69.4688 L119.3438,57.0781 Z \"/><text fill=\"#000000\" font-family=\"sans-serif\" font-size=\"12\" font-style=\"italic\" lengthAdjust=\"spacingAndGlyphs\" textLength=\"40\" x=\"134\" y=\"60.6387\">«part»</text><text fill=\"#000000\" font-family=\"sans-serif\" font-size=\"12\" lengthAdjust=\"spacingAndGlyphs\" textLength=\"21\" x=\"143.5\" y=\"74.6074\">z: B</text><line style=\"stroke: #A80036; stroke-width: 1.5;\" x1=\"108\" x2=\"174\" y1=\"82.4375\" y2=\"82.4375\"/></a><!--MD5=[09b614a08d8cba4a07c9adeb5e0fee81]\n",
       "class E3--><a href=\"psysml:414aecf4-cab0-4d0d-b5e9-0bd22012706a\" target=\"_top\" title=\"psysml:414aecf4-cab0-4d0d-b5e9-0bd22012706a\" xlink:actuate=\"onRequest\" xlink:href=\"psysml:414aecf4-cab0-4d0d-b5e9-0bd22012706a\" xlink:show=\"new\" xlink:title=\"psysml:414aecf4-cab0-4d0d-b5e9-0bd22012706a\" xlink:type=\"simple\"><rect fill=\"#FEFECE\" filter=\"url(#f2xxfftx24b8v)\" height=\"40\" id=\"E3\" style=\"stroke: #A80036; stroke-width: 1.5;\" width=\"40\" x=\"214\" y=\"154\"/><ellipse cx=\"229\" cy=\"170\" fill=\"#008000\" rx=\"11\" ry=\"11\" style=\"stroke: #A80036; stroke-width: 1.0;\"/><path d=\"M227.9063,170.375 L227.9063,174.0469 L229.5313,174.0469 Q230.7031,174.0469 231.1719,173.6563 Q231.6406,173.25 231.6406,172.25 Q231.6406,171.25 231.1406,170.8125 Q230.6563,170.375 229.5313,170.375 L227.9063,170.375 Z M227.9063,165.5469 L227.9063,168.4219 L229.5313,168.4219 Q230.4531,168.4219 230.8438,168.0938 Q231.25,167.75 231.25,167 Q231.25,166.2344 230.8438,165.8906 Q230.4375,165.5469 229.5313,165.5469 L227.9063,165.5469 Z M225.5313,163.5938 L229.5313,163.5938 Q231.5938,163.5938 232.6406,164.375 Q233.6875,165.1563 233.6875,166.7188 Q233.6875,167.9219 233.0625,168.5938 Q232.4531,169.2656 231.2656,169.375 Q232.6875,169.5156 233.4063,170.3281 Q234.125,171.1406 234.125,172.5938 Q234.125,174.3906 233.0469,175.2031 Q231.9688,176 229.5313,176 L225.5313,176 L225.5313,163.5938 Z \"/><text fill=\"#000000\" font-family=\"sans-serif\" font-size=\"12\" lengthAdjust=\"spacingAndGlyphs\" textLength=\"8\" x=\"243\" y=\"174.1543\">A</text><line style=\"stroke: #A80036; stroke-width: 1.5;\" x1=\"215\" x2=\"253\" y1=\"186\" y2=\"186\"/></a><a href=\"psysml:e62181a2-aa41-44c6-a86b-ee96628d0c50\" target=\"_top\" title=\"psysml:e62181a2-aa41-44c6-a86b-ee96628d0c50\" xlink:actuate=\"onRequest\" xlink:href=\"psysml:e62181a2-aa41-44c6-a86b-ee96628d0c50\" xlink:show=\"new\" xlink:title=\"psysml:e62181a2-aa41-44c6-a86b-ee96628d0c50\" xlink:type=\"simple\"><polygon fill=\"#FFFFFF\" filter=\"url(#f2xxfftx24b8v)\" points=\"32,41,58,41,65,63.2969,72,63.2969,72,93.5938,32,93.5938,32,41\" style=\"stroke: #000000; stroke-width: 1.5;\"/><line style=\"stroke: #000000; stroke-width: 1.5;\" x1=\"32\" x2=\"65\" y1=\"63.2969\" y2=\"63.2969\"/><text fill=\"#000000\" font-family=\"sans-serif\" font-size=\"14\" font-weight=\"bold\" lengthAdjust=\"spacingAndGlyphs\" textLength=\"20\" x=\"36\" y=\"55.9951\">P2</text></a><!--MD5=[2156ba9850f5573cc1fc38a6a4b2f02b]\n",
       "class E7--><a href=\"psysml:f619ebc7-1ca1-4b7d-a8d3-68584975adae\" target=\"_top\" title=\"psysml:f619ebc7-1ca1-4b7d-a8d3-68584975adae\" xlink:actuate=\"onRequest\" xlink:href=\"psysml:f619ebc7-1ca1-4b7d-a8d3-68584975adae\" xlink:show=\"new\" xlink:title=\"psysml:f619ebc7-1ca1-4b7d-a8d3-68584975adae\" xlink:type=\"simple\"><rect fill=\"#FEFECE\" filter=\"url(#f2xxfftx24b8v)\" height=\"40\" id=\"E7\" style=\"stroke: #A80036; stroke-width: 1.5;\" width=\"40\" x=\"118\" y=\"154\"/><ellipse cx=\"133\" cy=\"170\" fill=\"#008000\" rx=\"11\" ry=\"11\" style=\"stroke: #A80036; stroke-width: 1.0;\"/><path d=\"M131.9063,170.375 L131.9063,174.0469 L133.5313,174.0469 Q134.7031,174.0469 135.1719,173.6563 Q135.6406,173.25 135.6406,172.25 Q135.6406,171.25 135.1406,170.8125 Q134.6563,170.375 133.5313,170.375 L131.9063,170.375 Z M131.9063,165.5469 L131.9063,168.4219 L133.5313,168.4219 Q134.4531,168.4219 134.8438,168.0938 Q135.25,167.75 135.25,167 Q135.25,166.2344 134.8438,165.8906 Q134.4375,165.5469 133.5313,165.5469 L131.9063,165.5469 Z M129.5313,163.5938 L133.5313,163.5938 Q135.5938,163.5938 136.6406,164.375 Q137.6875,165.1563 137.6875,166.7188 Q137.6875,167.9219 137.0625,168.5938 Q136.4531,169.2656 135.2656,169.375 Q136.6875,169.5156 137.4063,170.3281 Q138.125,171.1406 138.125,172.5938 Q138.125,174.3906 137.0469,175.2031 Q135.9688,176 133.5313,176 L129.5313,176 L129.5313,163.5938 Z \"/><text fill=\"#000000\" font-family=\"sans-serif\" font-size=\"12\" lengthAdjust=\"spacingAndGlyphs\" textLength=\"8\" x=\"147\" y=\"174.1543\">B</text><line style=\"stroke: #A80036; stroke-width: 1.5;\" x1=\"119\" x2=\"157\" y1=\"186\" y2=\"186\"/></a><!--MD5=[e9be52314489bd878ff4c7144b63c9e1]\n",
       "link E5 to E3--><a href=\"psysml:e8148481-e1af-4d30-a20f-345018eb1da9\" target=\"_top\" title=\"psysml:e8148481-e1af-4d30-a20f-345018eb1da9\" xlink:actuate=\"onRequest\" xlink:href=\"psysml:e8148481-e1af-4d30-a20f-345018eb1da9\" xlink:show=\"new\" xlink:title=\"psysml:e8148481-e1af-4d30-a20f-345018eb1da9\" xlink:type=\"simple\"><path d=\"M241.88,90.66 C240.68,103.15 239.16,119.11 237.77,133.65 \" fill=\"none\" id=\"E5-&gt;E3\" style=\"stroke: #A80036; stroke-width: 1.0;\"/><polygon fill=\"#FFFFFF\" points=\"235.85,153.68,230.7015,134.097,244.6371,135.4376,235.85,153.68\" style=\"stroke: #A80036; stroke-width: 1.0;\"/><ellipse cx=\"233.2381\" cy=\"128.6147\" fill=\"#A80036\" rx=\"2\" ry=\"2\" style=\"stroke: #A80036; stroke-width: 1.0;\"/><ellipse cx=\"243.1921\" cy=\"129.5723\" fill=\"#A80036\" rx=\"2\" ry=\"2\" style=\"stroke: #A80036; stroke-width: 1.0;\"/></a><!--MD5=[bfa3c8b0d15052fdf50ae9310b491027]\n",
       "link E8 to E7--><a href=\"psysml:88eb6ab6-f030-4136-96c6-6d1b75343c8c\" target=\"_top\" title=\"psysml:88eb6ab6-f030-4136-96c6-6d1b75343c8c\" xlink:actuate=\"onRequest\" xlink:href=\"psysml:88eb6ab6-f030-4136-96c6-6d1b75343c8c\" xlink:show=\"new\" xlink:title=\"psysml:88eb6ab6-f030-4136-96c6-6d1b75343c8c\" xlink:type=\"simple\"><path d=\"M140.36,90.66 C140.01,103.15 139.55,119.11 139.13,133.65 \" fill=\"none\" id=\"E8-&gt;E7\" style=\"stroke: #A80036; stroke-width: 1.0;\"/><polygon fill=\"#FFFFFF\" points=\"138.55,153.68,132.0955,134.4878,146.0898,134.8877,138.55,153.68\" style=\"stroke: #A80036; stroke-width: 1.0;\"/><ellipse cx=\"134.2575\" cy=\"128.8473\" fill=\"#A80036\" rx=\"2\" ry=\"2\" style=\"stroke: #A80036; stroke-width: 1.0;\"/><ellipse cx=\"144.2534\" cy=\"129.1329\" fill=\"#A80036\" rx=\"2\" ry=\"2\" style=\"stroke: #A80036; stroke-width: 1.0;\"/></a><!--MD5=[b018dbbbb62fb4fb38f0c86b95a47362]\n",
       "@startuml\r\n",
       " \r\n",
       "package \"PrivateImportTest\" as E1  [[psysml:a19fc987-58b9-4365-8e05-8e082939198f ]]  {\r\n",
       "package \"P1\" as E2  [[psysml:0afae52f-013a-41db-84e1-dbe02c327088 ]]  {\r\n",
       "comp def \"A\" as E3  << (B,green) >> [[psysml:414aecf4-cab0-4d0d-b5e9-0bd22012706a ]] {\r\n",
       "}\r\n",
       "}\r\n",
       "package \"P2\" as E4  [[psysml:e62181a2-aa41-44c6-a86b-ee96628d0c50 ]]  {\r\n",
       "}\r\n",
       "comp usage \"x: A\" as E5  << (P,limegreen) part>> [[psysml:0adc1dcd-eba4-4b19-b824-866ee03ed7de ]] {\r\n",
       "}\r\n",
       "package \"P3\" as E6  [[psysml:1d9d662c-22cb-416c-b8ab-bb9944386c4a ]]  {\r\n",
       "comp def \"B\" as E7  << (B,green) >> [[psysml:f619ebc7-1ca1-4b7d-a8d3-68584975adae ]] {\r\n",
       "}\r\n",
       "E5 - -:|> E3 [[psysml:e8148481-e1af-4d30-a20f-345018eb1da9 ]] \r\n",
       "}\r\n",
       "comp usage \"z: B\" as E8  << (P,limegreen) part>> [[psysml:b076f02a-ad00-46e0-858a-3e2f54feec2a ]] {\r\n",
       "}\r\n",
       "E8 - -:|> E7 [[psysml:88eb6ab6-f030-4136-96c6-6d1b75343c8c ]] \r\n",
       "}\r\n",
       "@enduml\r\n",
       "\n",
       "PlantUML version 1.2020.13(Sat Jun 13 12:26:38 UTC 2020)\n",
       "(EPL source distribution)\n",
       "Java Runtime: OpenJDK Runtime Environment\n",
       "JVM: OpenJDK 64-Bit Server VM\n",
       "Default Encoding: UTF-8\n",
       "Language: en\n",
       "Country: null\n",
       "--></g></svg>"
      ]
     },
     "execution_count": 31,
     "metadata": {},
     "output_type": "execute_result"
    }
   ],
   "source": [
    "%viz --style=\"PLANTUML\" --view=\"Tree\" \"PrivateImportTest\""
   ]
  },
  {
   "cell_type": "code",
   "execution_count": 32,
   "id": "subject-surprise",
   "metadata": {
    "execution": {
     "iopub.execute_input": "2021-03-25T09:26:40.202596Z",
     "iopub.status.busy": "2021-03-25T09:26:40.201683Z",
     "iopub.status.idle": "2021-03-25T09:26:41.099587Z",
     "shell.execute_reply": "2021-03-25T09:26:41.098436Z"
    }
   },
   "outputs": [
    {
     "data": {
      "image/svg+xml": [
       "<?xml version=\"1.0\" encoding=\"UTF-8\" standalone=\"no\"?><svg xmlns=\"http://www.w3.org/2000/svg\" xmlns:xlink=\"http://www.w3.org/1999/xlink\" contentScriptType=\"application/ecmascript\" contentStyleType=\"text/css\" height=\"303px\" preserveAspectRatio=\"none\" style=\"width:603px;height:303px;background:#000000;\" version=\"1.1\" viewBox=\"0 0 603 303\" width=\"603px\" zoomAndPan=\"magnify\"><defs/><g><rect fill=\"#032406\" height=\"1\" style=\"stroke: #032406; stroke-width: 1.0;\" width=\"1\" x=\"0\" y=\"0\"/><rect fill=\"#FFFFFF\" height=\"205.5625\" style=\"stroke: #FFFFFF; stroke-width: 1.0;\" width=\"602\" x=\"0\" y=\"0\"/><text fill=\"#000000\" font-family=\"sans-serif\" font-size=\"12\" font-weight=\"bold\" lengthAdjust=\"spacingAndGlyphs\" textLength=\"159\" x=\"5\" y=\"16.1387\">Welcome to PlantUML!</text><text fill=\"#000000\" font-family=\"sans-serif\" font-size=\"12\" lengthAdjust=\"spacingAndGlyphs\" textLength=\"0\" x=\"9\" y=\"30.1074\"/><text fill=\"#000000\" font-family=\"sans-serif\" font-size=\"12\" lengthAdjust=\"spacingAndGlyphs\" textLength=\"293\" x=\"5\" y=\"44.0762\">If you use this software, you accept its license.</text><text fill=\"#000000\" font-family=\"sans-serif\" font-size=\"12\" lengthAdjust=\"spacingAndGlyphs\" textLength=\"107\" x=\"5\" y=\"58.0449\">(details by typing</text><text fill=\"#000000\" font-family=\"monospace\" font-size=\"12\" lengthAdjust=\"spacingAndGlyphs\" textLength=\"49\" x=\"116\" y=\"58.0449\">license</text><text fill=\"#000000\" font-family=\"sans-serif\" font-size=\"12\" lengthAdjust=\"spacingAndGlyphs\" textLength=\"56\" x=\"169\" y=\"58.0449\">keyword)</text><text fill=\"#000000\" font-family=\"sans-serif\" font-size=\"12\" lengthAdjust=\"spacingAndGlyphs\" textLength=\"0\" x=\"9\" y=\"72.0137\"/><text fill=\"#000000\" font-family=\"sans-serif\" font-size=\"12\" lengthAdjust=\"spacingAndGlyphs\" textLength=\"283\" x=\"5\" y=\"85.9824\">You can start with a simple UML Diagram like:</text><text fill=\"#000000\" font-family=\"sans-serif\" font-size=\"12\" lengthAdjust=\"spacingAndGlyphs\" textLength=\"0\" x=\"9\" y=\"99.9512\"/><text fill=\"#000000\" font-family=\"monospace\" font-size=\"12\" lengthAdjust=\"spacingAndGlyphs\" textLength=\"119\" x=\"5\" y=\"113.9199\">Bob-&gt;Alice: Hello</text><text fill=\"#000000\" font-family=\"sans-serif\" font-size=\"12\" lengthAdjust=\"spacingAndGlyphs\" textLength=\"0\" x=\"9\" y=\"127.8887\"/><text fill=\"#000000\" font-family=\"sans-serif\" font-size=\"12\" lengthAdjust=\"spacingAndGlyphs\" textLength=\"14\" x=\"5\" y=\"141.8574\">Or</text><text fill=\"#000000\" font-family=\"sans-serif\" font-size=\"12\" lengthAdjust=\"spacingAndGlyphs\" textLength=\"0\" x=\"9\" y=\"155.8262\"/><text fill=\"#000000\" font-family=\"monospace\" font-size=\"12\" lengthAdjust=\"spacingAndGlyphs\" textLength=\"91\" x=\"5\" y=\"169.7949\">class Example</text><text fill=\"#000000\" font-family=\"sans-serif\" font-size=\"12\" lengthAdjust=\"spacingAndGlyphs\" textLength=\"0\" x=\"9\" y=\"183.7637\"/><text fill=\"#000000\" font-family=\"sans-serif\" font-size=\"12\" lengthAdjust=\"spacingAndGlyphs\" textLength=\"349\" x=\"5\" y=\"197.7324\">You will find more information about PlantUML syntax on</text><text fill=\"#000000\" font-family=\"sans-serif\" font-size=\"12\" lengthAdjust=\"spacingAndGlyphs\" text-decoration=\"underline\" textLength=\"129\" x=\"358\" y=\"197.7324\">https://plantuml.com</text><image height=\"71\" width=\"80\" x=\"516\" xlink:href=\"data:image/png;base64,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\" y=\"6\"/><rect fill=\"#000000\" height=\"96.4844\" style=\"stroke: #000000; stroke-width: 1.0;\" width=\"602\" x=\"0\" y=\"205.5625\"/><rect fill=\"#33FF02\" height=\"21.2969\" style=\"stroke: #33FF02; stroke-width: 1.0;\" width=\"170\" x=\"5\" y=\"210.5625\"/><text fill=\"#000000\" font-family=\"sans-serif\" font-size=\"14\" font-weight=\"bold\" lengthAdjust=\"spacingAndGlyphs\" textLength=\"168\" x=\"6\" y=\"225.5625\">[From string (line 2) ]</text><text fill=\"#33FF02\" font-family=\"sans-serif\" font-size=\"14\" font-weight=\"bold\" lengthAdjust=\"spacingAndGlyphs\" textLength=\"0\" x=\"10\" y=\"245.8594\"/><text fill=\"#33FF02\" font-family=\"sans-serif\" font-size=\"14\" font-weight=\"bold\" lengthAdjust=\"spacingAndGlyphs\" textLength=\"79\" x=\"5\" y=\"262.1563\">@startuml</text><text fill=\"#33FF02\" font-family=\"sans-serif\" font-size=\"14\" font-weight=\"bold\" lengthAdjust=\"spacingAndGlyphs\" textLength=\"0\" x=\"10\" y=\"278.4531\"/><text fill=\"#FF0000\" font-family=\"sans-serif\" font-size=\"14\" font-weight=\"bold\" lengthAdjust=\"spacingAndGlyphs\" textLength=\"142\" x=\"10\" y=\"294.75\">Empty description</text><!--MD5=[f59edd8218d337f74d0c332fc6737304]\n",
       "@startuml\r\n",
       " \r\n",
       "@enduml\r\n",
       "\n",
       "PlantUML version 1.2020.13(Sat Jun 13 12:26:38 UTC 2020)\n",
       "(EPL source distribution)\n",
       "Java Runtime: OpenJDK Runtime Environment\n",
       "JVM: OpenJDK 64-Bit Server VM\n",
       "Default Encoding: UTF-8\n",
       "Language: en\n",
       "Country: null\n",
       "--></g></svg>"
      ]
     },
     "execution_count": 32,
     "metadata": {},
     "output_type": "execute_result"
    }
   ],
   "source": [
    "%viz --style=\"PLANTUML\" --view=\"State\" \"PrivateImportTest\""
   ]
  },
  {
   "cell_type": "code",
   "execution_count": 33,
   "id": "fifth-rebecca",
   "metadata": {
    "execution": {
     "iopub.execute_input": "2021-03-25T09:26:41.153857Z",
     "iopub.status.busy": "2021-03-25T09:26:41.153034Z",
     "iopub.status.idle": "2021-03-25T09:26:41.206601Z",
     "shell.execute_reply": "2021-03-25T09:26:41.206069Z"
    }
   },
   "outputs": [
    {
     "data": {
      "image/svg+xml": [
       "<?xml version=\"1.0\" encoding=\"UTF-8\" standalone=\"no\"?><svg xmlns=\"http://www.w3.org/2000/svg\" xmlns:xlink=\"http://www.w3.org/1999/xlink\" contentScriptType=\"application/ecmascript\" contentStyleType=\"text/css\" height=\"176px\" preserveAspectRatio=\"none\" style=\"width:513px;height:176px;\" version=\"1.1\" viewBox=\"0 0 513 176\" width=\"513px\" zoomAndPan=\"magnify\"><defs><filter height=\"300%\" id=\"fsqrr6bcpb6m3\" width=\"300%\" x=\"-1\" y=\"-1\"><feGaussianBlur result=\"blurOut\" stdDeviation=\"2.0\"/><feColorMatrix in=\"blurOut\" result=\"blurOut2\" type=\"matrix\" values=\"0 0 0 0 0 0 0 0 0 0 0 0 0 0 0 0 0 0 .4 0\"/><feOffset dx=\"4.0\" dy=\"4.0\" in=\"blurOut2\" result=\"blurOut3\"/><feBlend in=\"SourceGraphic\" in2=\"blurOut3\" mode=\"normal\"/></filter></defs><g><!--MD5=[fbc87193dbaf4d95561dea2c320d4a47]\n",
       "cluster E1--><a href=\"psysml:a19fc987-58b9-4365-8e05-8e082939198f\" target=\"_top\" title=\"psysml:a19fc987-58b9-4365-8e05-8e082939198f\" xlink:actuate=\"onRequest\" xlink:href=\"psysml:a19fc987-58b9-4365-8e05-8e082939198f\" xlink:show=\"new\" xlink:title=\"psysml:a19fc987-58b9-4365-8e05-8e082939198f\" xlink:type=\"simple\"><polygon fill=\"#FFFFFF\" filter=\"url(#fsqrr6bcpb6m3)\" points=\"16,6,163,6,170,28.2969,491,28.2969,491,164,16,164,16,6\" style=\"stroke: #000000; stroke-width: 1.5;\"/><line style=\"stroke: #000000; stroke-width: 1.5;\" x1=\"16\" x2=\"170\" y1=\"28.2969\" y2=\"28.2969\"/><text fill=\"#000000\" font-family=\"sans-serif\" font-size=\"14\" font-weight=\"bold\" lengthAdjust=\"spacingAndGlyphs\" textLength=\"141\" x=\"20\" y=\"20.9951\">PrivateImportTest</text></a><!--MD5=[e4f7fae6ed58524ba242bb0b0d3be6b7]\n",
       "cluster E2--><a href=\"psysml:0afae52f-013a-41db-84e1-dbe02c327088\" target=\"_top\" title=\"psysml:0afae52f-013a-41db-84e1-dbe02c327088\" xlink:actuate=\"onRequest\" xlink:href=\"psysml:0afae52f-013a-41db-84e1-dbe02c327088\" xlink:show=\"new\" xlink:title=\"psysml:0afae52f-013a-41db-84e1-dbe02c327088\" xlink:type=\"simple\"><polygon fill=\"#FFFFFF\" filter=\"url(#fsqrr6bcpb6m3)\" points=\"385,49,411,49,418,71.2969,467,71.2969,467,140,385,140,385,49\" style=\"stroke: #000000; stroke-width: 1.5;\"/><line style=\"stroke: #000000; stroke-width: 1.5;\" x1=\"385\" x2=\"418\" y1=\"71.2969\" y2=\"71.2969\"/><text fill=\"#000000\" font-family=\"sans-serif\" font-size=\"14\" font-weight=\"bold\" lengthAdjust=\"spacingAndGlyphs\" textLength=\"20\" x=\"389\" y=\"63.9951\">P1</text></a><!--MD5=[14e3b0961a2654348d326746436168a1]\n",
       "cluster E6--><a href=\"psysml:1d9d662c-22cb-416c-b8ab-bb9944386c4a\" target=\"_top\" title=\"psysml:1d9d662c-22cb-416c-b8ab-bb9944386c4a\" xlink:actuate=\"onRequest\" xlink:href=\"psysml:1d9d662c-22cb-416c-b8ab-bb9944386c4a\" xlink:show=\"new\" xlink:title=\"psysml:1d9d662c-22cb-416c-b8ab-bb9944386c4a\" xlink:type=\"simple\"><polygon fill=\"#FFFFFF\" filter=\"url(#fsqrr6bcpb6m3)\" points=\"279,49,305,49,312,71.2969,361,71.2969,361,140,279,140,279,49\" style=\"stroke: #000000; stroke-width: 1.5;\"/><line style=\"stroke: #000000; stroke-width: 1.5;\" x1=\"279\" x2=\"312\" y1=\"71.2969\" y2=\"71.2969\"/><text fill=\"#000000\" font-family=\"sans-serif\" font-size=\"14\" font-weight=\"bold\" lengthAdjust=\"spacingAndGlyphs\" textLength=\"20\" x=\"283\" y=\"63.9951\">P3</text></a><g id=\"E1.E2.E3\"><a href=\"psysml:414aecf4-cab0-4d0d-b5e9-0bd22012706a\" target=\"_top\" title=\"psysml:414aecf4-cab0-4d0d-b5e9-0bd22012706a\" xlink:actuate=\"onRequest\" xlink:href=\"psysml:414aecf4-cab0-4d0d-b5e9-0bd22012706a\" xlink:show=\"new\" xlink:title=\"psysml:414aecf4-cab0-4d0d-b5e9-0bd22012706a\" xlink:type=\"simple\"><rect fill=\"#FEFECE\" filter=\"url(#fsqrr6bcpb6m3)\" height=\"40\" id=\"E3\" style=\"stroke: #A80036; stroke-width: 1.5;\" width=\"50\" x=\"401\" y=\"84\"/><ellipse cx=\"420.5\" cy=\"100\" fill=\"#008000\" rx=\"11\" ry=\"11\" style=\"stroke: #A80036; stroke-width: 1.0;\"/><path d=\"M419.4063,100.375 L419.4063,104.0469 L421.0313,104.0469 Q422.2031,104.0469 422.6719,103.6563 Q423.1406,103.25 423.1406,102.25 Q423.1406,101.25 422.6406,100.8125 Q422.1563,100.375 421.0313,100.375 L419.4063,100.375 Z M419.4063,95.5469 L419.4063,98.4219 L421.0313,98.4219 Q421.9531,98.4219 422.3438,98.0938 Q422.75,97.75 422.75,97 Q422.75,96.2344 422.3438,95.8906 Q421.9375,95.5469 421.0313,95.5469 L419.4063,95.5469 Z M417.0313,93.5938 L421.0313,93.5938 Q423.0938,93.5938 424.1406,94.375 Q425.1875,95.1563 425.1875,96.7188 Q425.1875,97.9219 424.5625,98.5938 Q423.9531,99.2656 422.7656,99.375 Q424.1875,99.5156 424.9063,100.3281 Q425.625,101.1406 425.625,102.5938 Q425.625,104.3906 424.5469,105.2031 Q423.4688,106 421.0313,106 L417.0313,106 L417.0313,93.5938 Z \"/><text fill=\"#000000\" font-family=\"sans-serif\" font-size=\"12\" lengthAdjust=\"spacingAndGlyphs\" textLength=\"8\" x=\"435.5\" y=\"104.1543\">A</text></a></g><a href=\"psysml:e62181a2-aa41-44c6-a86b-ee96628d0c50\" target=\"_top\" title=\"psysml:e62181a2-aa41-44c6-a86b-ee96628d0c50\" xlink:actuate=\"onRequest\" xlink:href=\"psysml:e62181a2-aa41-44c6-a86b-ee96628d0c50\" xlink:show=\"new\" xlink:title=\"psysml:e62181a2-aa41-44c6-a86b-ee96628d0c50\" xlink:type=\"simple\"><polygon fill=\"#FFFFFF\" filter=\"url(#fsqrr6bcpb6m3)\" points=\"220,77.5,246,77.5,253,99.7969,260,99.7969,260,130.0938,220,130.0938,220,77.5\" style=\"stroke: #000000; stroke-width: 1.5;\"/><line style=\"stroke: #000000; stroke-width: 1.5;\" x1=\"220\" x2=\"253\" y1=\"99.7969\" y2=\"99.7969\"/><text fill=\"#000000\" font-family=\"sans-serif\" font-size=\"14\" font-weight=\"bold\" lengthAdjust=\"spacingAndGlyphs\" textLength=\"20\" x=\"224\" y=\"92.4951\">P2</text></a><g id=\"E1.E5\"><a href=\"psysml:0adc1dcd-eba4-4b19-b824-866ee03ed7de\" target=\"_top\" title=\"psysml:0adc1dcd-eba4-4b19-b824-866ee03ed7de\" xlink:actuate=\"onRequest\" xlink:href=\"psysml:0adc1dcd-eba4-4b19-b824-866ee03ed7de\" xlink:show=\"new\" xlink:title=\"psysml:0adc1dcd-eba4-4b19-b824-866ee03ed7de\" xlink:type=\"simple\"><rect fill=\"#FEFECE\" filter=\"url(#fsqrr6bcpb6m3)\" height=\"40\" id=\"E5\" rx=\"10\" ry=\"10\" style=\"stroke: #A80036; stroke-width: 1.5;\" width=\"59\" x=\"125.5\" y=\"84\"/><ellipse cx=\"142.75\" cy=\"100\" fill=\"#B6DBBB\" rx=\"11\" ry=\"11\" style=\"stroke: #A80036; stroke-width: 1.0;\"/><path d=\"M138.625,101.9219 L138.625,94.1094 L141.0781,94.1094 L141.0781,102.5469 Q141.0781,103.4688 141.5469,104 Q142.0313,104.5313 142.8594,104.5313 Q143.7031,104.5313 144.1719,104 Q144.6406,103.4688 144.6406,102.5469 L144.6406,94.1094 L147.0938,94.1094 L147.0938,101.9219 Q147.0938,104.4531 146.0938,105.5938 Q145.0938,106.7344 142.8594,106.7344 Q140.6406,106.7344 139.625,105.5938 Q138.625,104.4531 138.625,101.9219 Z \"/><text fill=\"#000000\" font-family=\"sans-serif\" font-size=\"12\" lengthAdjust=\"spacingAndGlyphs\" textLength=\"22\" x=\"157.25\" y=\"104.1543\">x: A</text></a></g><g id=\"E1.E6.E7\"><a href=\"psysml:f619ebc7-1ca1-4b7d-a8d3-68584975adae\" target=\"_top\" title=\"psysml:f619ebc7-1ca1-4b7d-a8d3-68584975adae\" xlink:actuate=\"onRequest\" xlink:href=\"psysml:f619ebc7-1ca1-4b7d-a8d3-68584975adae\" xlink:show=\"new\" xlink:title=\"psysml:f619ebc7-1ca1-4b7d-a8d3-68584975adae\" xlink:type=\"simple\"><rect fill=\"#FEFECE\" filter=\"url(#fsqrr6bcpb6m3)\" height=\"40\" id=\"E7\" style=\"stroke: #A80036; stroke-width: 1.5;\" width=\"50\" x=\"295\" y=\"84\"/><ellipse cx=\"314.5\" cy=\"100\" fill=\"#008000\" rx=\"11\" ry=\"11\" style=\"stroke: #A80036; stroke-width: 1.0;\"/><path d=\"M313.4063,100.375 L313.4063,104.0469 L315.0313,104.0469 Q316.2031,104.0469 316.6719,103.6563 Q317.1406,103.25 317.1406,102.25 Q317.1406,101.25 316.6406,100.8125 Q316.1563,100.375 315.0313,100.375 L313.4063,100.375 Z M313.4063,95.5469 L313.4063,98.4219 L315.0313,98.4219 Q315.9531,98.4219 316.3438,98.0938 Q316.75,97.75 316.75,97 Q316.75,96.2344 316.3438,95.8906 Q315.9375,95.5469 315.0313,95.5469 L313.4063,95.5469 Z M311.0313,93.5938 L315.0313,93.5938 Q317.0938,93.5938 318.1406,94.375 Q319.1875,95.1563 319.1875,96.7188 Q319.1875,97.9219 318.5625,98.5938 Q317.9531,99.2656 316.7656,99.375 Q318.1875,99.5156 318.9063,100.3281 Q319.625,101.1406 319.625,102.5938 Q319.625,104.3906 318.5469,105.2031 Q317.4688,106 315.0313,106 L311.0313,106 L311.0313,93.5938 Z \"/><text fill=\"#000000\" font-family=\"sans-serif\" font-size=\"12\" lengthAdjust=\"spacingAndGlyphs\" textLength=\"8\" x=\"329.5\" y=\"104.1543\">B</text></a></g><g id=\"E1.E8\"><a href=\"psysml:b076f02a-ad00-46e0-858a-3e2f54feec2a\" target=\"_top\" title=\"psysml:b076f02a-ad00-46e0-858a-3e2f54feec2a\" xlink:actuate=\"onRequest\" xlink:href=\"psysml:b076f02a-ad00-46e0-858a-3e2f54feec2a\" xlink:show=\"new\" xlink:title=\"psysml:b076f02a-ad00-46e0-858a-3e2f54feec2a\" xlink:type=\"simple\"><rect fill=\"#FEFECE\" filter=\"url(#fsqrr6bcpb6m3)\" height=\"40\" id=\"E8\" rx=\"10\" ry=\"10\" style=\"stroke: #A80036; stroke-width: 1.5;\" width=\"58\" x=\"32\" y=\"84\"/><ellipse cx=\"49.25\" cy=\"100\" fill=\"#B6DBBB\" rx=\"11\" ry=\"11\" style=\"stroke: #A80036; stroke-width: 1.0;\"/><path d=\"M45.125,101.9219 L45.125,94.1094 L47.5781,94.1094 L47.5781,102.5469 Q47.5781,103.4688 48.0469,104 Q48.5313,104.5313 49.3594,104.5313 Q50.2031,104.5313 50.6719,104 Q51.1406,103.4688 51.1406,102.5469 L51.1406,94.1094 L53.5938,94.1094 L53.5938,101.9219 Q53.5938,104.4531 52.5938,105.5938 Q51.5938,106.7344 49.3594,106.7344 Q47.1406,106.7344 46.125,105.5938 Q45.125,104.4531 45.125,101.9219 Z \"/><text fill=\"#000000\" font-family=\"sans-serif\" font-size=\"12\" lengthAdjust=\"spacingAndGlyphs\" textLength=\"21\" x=\"63.75\" y=\"104.1543\">z: B</text></a></g><!--MD5=[8a12b681619286d752a73cf213d0bb3b]\n",
       "@startuml\r\n",
       "skinparam ranksep 8\r\n",
       "skinparam rectangle {\r\n",
       " backgroundColor<<block>> LightGreen\r\n",
       "}\r\n",
       " \r\n",
       "package \"PrivateImportTest\" as E1  [[psysml:a19fc987-58b9-4365-8e05-8e082939198f ]]  {\r\n",
       "package \"P1\" as E2  [[psysml:0afae52f-013a-41db-84e1-dbe02c327088 ]]  {\r\n",
       "rec def \"A\" as E3  << (B,green) >> [[psysml:414aecf4-cab0-4d0d-b5e9-0bd22012706a ]] {\r\n",
       "}\r\n",
       "}\r\n",
       "package \"P2\" as E4  [[psysml:e62181a2-aa41-44c6-a86b-ee96628d0c50 ]]  {\r\n",
       "}\r\n",
       "rec usage \"x: A\" as E5  [[psysml:0adc1dcd-eba4-4b19-b824-866ee03ed7de ]] {\r\n",
       "}\r\n",
       "package \"P3\" as E6  [[psysml:1d9d662c-22cb-416c-b8ab-bb9944386c4a ]]  {\r\n",
       "rec def \"B\" as E7  << (B,green) >> [[psysml:f619ebc7-1ca1-4b7d-a8d3-68584975adae ]] {\r\n",
       "}\r\n",
       "}\r\n",
       "rec usage \"z: B\" as E8  [[psysml:b076f02a-ad00-46e0-858a-3e2f54feec2a ]] {\r\n",
       "}\r\n",
       "}\r\n",
       "@enduml\r\n",
       "\n",
       "PlantUML version 1.2020.13(Sat Jun 13 12:26:38 UTC 2020)\n",
       "(EPL source distribution)\n",
       "Java Runtime: OpenJDK Runtime Environment\n",
       "JVM: OpenJDK 64-Bit Server VM\n",
       "Default Encoding: UTF-8\n",
       "Language: en\n",
       "Country: null\n",
       "--></g></svg>"
      ]
     },
     "execution_count": 33,
     "metadata": {},
     "output_type": "execute_result"
    }
   ],
   "source": [
    "%viz --style=\"PLANTUML\" --view=\"Interconnection\" \"PrivateImportTest\""
   ]
  },
  {
   "cell_type": "code",
   "execution_count": 34,
   "id": "chicken-money",
   "metadata": {
    "execution": {
     "iopub.execute_input": "2021-03-25T09:26:41.259933Z",
     "iopub.status.busy": "2021-03-25T09:26:41.259054Z",
     "iopub.status.idle": "2021-03-25T09:26:41.265201Z",
     "shell.execute_reply": "2021-03-25T09:26:41.264806Z"
    }
   },
   "outputs": [
    {
     "data": {
      "image/svg+xml": [
       "<?xml version=\"1.0\" encoding=\"UTF-8\" standalone=\"no\"?><svg xmlns=\"http://www.w3.org/2000/svg\" xmlns:xlink=\"http://www.w3.org/1999/xlink\" contentScriptType=\"application/ecmascript\" contentStyleType=\"text/css\" height=\"12px\" preserveAspectRatio=\"none\" style=\"width:12px;height:12px;\" version=\"1.1\" viewBox=\"0 0 12 12\" width=\"12px\" zoomAndPan=\"magnify\"><defs/><g><!--MD5=[6a4cb978cab31700e1ce5529f947a75d]\n",
       "@startuml\r\n",
       "skinparam ranksep 8\r\n",
       " \r\n",
       "@enduml\r\n",
       "\n",
       "PlantUML version 1.2020.13(Sat Jun 13 12:26:38 UTC 2020)\n",
       "(EPL source distribution)\n",
       "Java Runtime: OpenJDK Runtime Environment\n",
       "JVM: OpenJDK 64-Bit Server VM\n",
       "Default Encoding: UTF-8\n",
       "Language: en\n",
       "Country: null\n",
       "--></g></svg>"
      ]
     },
     "execution_count": 34,
     "metadata": {},
     "output_type": "execute_result"
    }
   ],
   "source": [
    "%viz --style=\"PLANTUML\" --view=\"Action\" \"PrivateImportTest\""
   ]
  },
  {
   "cell_type": "code",
   "execution_count": 35,
   "id": "educational-secondary",
   "metadata": {
    "execution": {
     "iopub.execute_input": "2021-03-25T09:26:41.317924Z",
     "iopub.status.busy": "2021-03-25T09:26:41.317015Z",
     "iopub.status.idle": "2021-03-25T09:26:41.375234Z",
     "shell.execute_reply": "2021-03-25T09:26:41.373429Z"
    }
   },
   "outputs": [
    {
     "data": {
      "image/svg+xml": [
       "<?xml version=\"1.0\" encoding=\"UTF-8\" standalone=\"no\"?><svg xmlns=\"http://www.w3.org/2000/svg\" xmlns:xlink=\"http://www.w3.org/1999/xlink\" contentScriptType=\"application/ecmascript\" contentStyleType=\"text/css\" height=\"246px\" preserveAspectRatio=\"none\" style=\"width:316px;height:246px;\" version=\"1.1\" viewBox=\"0 0 316 246\" width=\"316px\" zoomAndPan=\"magnify\"><defs><filter height=\"300%\" id=\"f2xxfftx24b8v\" width=\"300%\" x=\"-1\" y=\"-1\"><feGaussianBlur result=\"blurOut\" stdDeviation=\"2.0\"/><feColorMatrix in=\"blurOut\" result=\"blurOut2\" type=\"matrix\" values=\"0 0 0 0 0 0 0 0 0 0 0 0 0 0 0 0 0 0 .4 0\"/><feOffset dx=\"4.0\" dy=\"4.0\" in=\"blurOut2\" result=\"blurOut3\"/><feBlend in=\"SourceGraphic\" in2=\"blurOut3\" mode=\"normal\"/></filter></defs><g><!--MD5=[fbc87193dbaf4d95561dea2c320d4a47]\n",
       "cluster E1--><a href=\"psysml:a19fc987-58b9-4365-8e05-8e082939198f\" target=\"_top\" title=\"psysml:a19fc987-58b9-4365-8e05-8e082939198f\" xlink:actuate=\"onRequest\" xlink:href=\"psysml:a19fc987-58b9-4365-8e05-8e082939198f\" xlink:show=\"new\" xlink:title=\"psysml:a19fc987-58b9-4365-8e05-8e082939198f\" xlink:type=\"simple\"><polygon fill=\"#FFFFFF\" filter=\"url(#f2xxfftx24b8v)\" points=\"16,6,163,6,170,28.2969,294,28.2969,294,234,16,234,16,6\" style=\"stroke: #000000; stroke-width: 1.5;\"/><line style=\"stroke: #000000; stroke-width: 1.5;\" x1=\"16\" x2=\"170\" y1=\"28.2969\" y2=\"28.2969\"/><text fill=\"#000000\" font-family=\"sans-serif\" font-size=\"14\" font-weight=\"bold\" lengthAdjust=\"spacingAndGlyphs\" textLength=\"141\" x=\"20\" y=\"20.9951\">PrivateImportTest</text></a><!--MD5=[e4f7fae6ed58524ba242bb0b0d3be6b7]\n",
       "cluster E2--><a href=\"psysml:0afae52f-013a-41db-84e1-dbe02c327088\" target=\"_top\" title=\"psysml:0afae52f-013a-41db-84e1-dbe02c327088\" xlink:actuate=\"onRequest\" xlink:href=\"psysml:0afae52f-013a-41db-84e1-dbe02c327088\" xlink:show=\"new\" xlink:title=\"psysml:0afae52f-013a-41db-84e1-dbe02c327088\" xlink:type=\"simple\"><polygon fill=\"#FFFFFF\" filter=\"url(#f2xxfftx24b8v)\" points=\"198,119,224,119,231,141.2969,270,141.2969,270,210,198,210,198,119\" style=\"stroke: #000000; stroke-width: 1.5;\"/><line style=\"stroke: #000000; stroke-width: 1.5;\" x1=\"198\" x2=\"231\" y1=\"141.2969\" y2=\"141.2969\"/><text fill=\"#000000\" font-family=\"sans-serif\" font-size=\"14\" font-weight=\"bold\" lengthAdjust=\"spacingAndGlyphs\" textLength=\"20\" x=\"202\" y=\"133.9951\">P1</text></a><!--MD5=[14e3b0961a2654348d326746436168a1]\n",
       "cluster E6--><a href=\"psysml:1d9d662c-22cb-416c-b8ab-bb9944386c4a\" target=\"_top\" title=\"psysml:1d9d662c-22cb-416c-b8ab-bb9944386c4a\" xlink:actuate=\"onRequest\" xlink:href=\"psysml:1d9d662c-22cb-416c-b8ab-bb9944386c4a\" xlink:show=\"new\" xlink:title=\"psysml:1d9d662c-22cb-416c-b8ab-bb9944386c4a\" xlink:type=\"simple\"><polygon fill=\"#FFFFFF\" filter=\"url(#f2xxfftx24b8v)\" points=\"102,119,128,119,135,141.2969,174,141.2969,174,210,102,210,102,119\" style=\"stroke: #000000; stroke-width: 1.5;\"/><line style=\"stroke: #000000; stroke-width: 1.5;\" x1=\"102\" x2=\"135\" y1=\"141.2969\" y2=\"141.2969\"/><text fill=\"#000000\" font-family=\"sans-serif\" font-size=\"14\" font-weight=\"bold\" lengthAdjust=\"spacingAndGlyphs\" textLength=\"20\" x=\"106\" y=\"133.9951\">P3</text></a><!--MD5=[270fce915f116d4de14055a7c1d9a0f3]\n",
       "class E5--><a href=\"psysml:0adc1dcd-eba4-4b19-b824-866ee03ed7de\" target=\"_top\" title=\"psysml:0adc1dcd-eba4-4b19-b824-866ee03ed7de\" xlink:actuate=\"onRequest\" xlink:href=\"psysml:0adc1dcd-eba4-4b19-b824-866ee03ed7de\" xlink:show=\"new\" xlink:title=\"psysml:0adc1dcd-eba4-4b19-b824-866ee03ed7de\" xlink:type=\"simple\"><rect fill=\"#FEFECE\" filter=\"url(#f2xxfftx24b8v)\" height=\"45.9375\" id=\"E5\" rx=\"10\" ry=\"10\" style=\"stroke: #A80036; stroke-width: 1.5;\" width=\"68\" x=\"210\" y=\"44.5\"/><ellipse cx=\"225\" cy=\"63.4688\" fill=\"#32CD32\" rx=\"11\" ry=\"11\" style=\"stroke: #A80036; stroke-width: 1.0;\"/><path d=\"M224.7969,59.1406 L224.7969,62.7656 L225.7969,62.7656 Q227,62.7656 227.4844,62.3594 Q227.9688,61.9531 227.9688,60.9531 Q227.9688,59.9531 227.4844,59.5469 Q227,59.1406 225.7969,59.1406 L224.7969,59.1406 Z M222.3438,57.0781 L225.7031,57.0781 Q228.2656,57.0781 229.3906,58 Q230.5156,58.9063 230.5156,60.9531 Q230.5156,63 229.3906,63.9219 Q228.2656,64.8281 225.7031,64.8281 L224.7969,64.8281 L224.7969,69.4688 L222.3438,69.4688 L222.3438,57.0781 Z \"/><text fill=\"#000000\" font-family=\"sans-serif\" font-size=\"12\" font-style=\"italic\" lengthAdjust=\"spacingAndGlyphs\" textLength=\"40\" x=\"237\" y=\"60.6387\">«part»</text><text fill=\"#000000\" font-family=\"sans-serif\" font-size=\"12\" lengthAdjust=\"spacingAndGlyphs\" textLength=\"22\" x=\"246\" y=\"74.6074\">x: A</text><line style=\"stroke: #A80036; stroke-width: 1.5;\" x1=\"211\" x2=\"277\" y1=\"82.4375\" y2=\"82.4375\"/></a><!--MD5=[b9389687b975829384b498ac4b7476b2]\n",
       "class E8--><a href=\"psysml:b076f02a-ad00-46e0-858a-3e2f54feec2a\" target=\"_top\" title=\"psysml:b076f02a-ad00-46e0-858a-3e2f54feec2a\" xlink:actuate=\"onRequest\" xlink:href=\"psysml:b076f02a-ad00-46e0-858a-3e2f54feec2a\" xlink:show=\"new\" xlink:title=\"psysml:b076f02a-ad00-46e0-858a-3e2f54feec2a\" xlink:type=\"simple\"><rect fill=\"#FEFECE\" filter=\"url(#f2xxfftx24b8v)\" height=\"45.9375\" id=\"E8\" rx=\"10\" ry=\"10\" style=\"stroke: #A80036; stroke-width: 1.5;\" width=\"68\" x=\"107\" y=\"44.5\"/><ellipse cx=\"122\" cy=\"63.4688\" fill=\"#32CD32\" rx=\"11\" ry=\"11\" style=\"stroke: #A80036; stroke-width: 1.0;\"/><path d=\"M121.7969,59.1406 L121.7969,62.7656 L122.7969,62.7656 Q124,62.7656 124.4844,62.3594 Q124.9688,61.9531 124.9688,60.9531 Q124.9688,59.9531 124.4844,59.5469 Q124,59.1406 122.7969,59.1406 L121.7969,59.1406 Z M119.3438,57.0781 L122.7031,57.0781 Q125.2656,57.0781 126.3906,58 Q127.5156,58.9063 127.5156,60.9531 Q127.5156,63 126.3906,63.9219 Q125.2656,64.8281 122.7031,64.8281 L121.7969,64.8281 L121.7969,69.4688 L119.3438,69.4688 L119.3438,57.0781 Z \"/><text fill=\"#000000\" font-family=\"sans-serif\" font-size=\"12\" font-style=\"italic\" lengthAdjust=\"spacingAndGlyphs\" textLength=\"40\" x=\"134\" y=\"60.6387\">«part»</text><text fill=\"#000000\" font-family=\"sans-serif\" font-size=\"12\" lengthAdjust=\"spacingAndGlyphs\" textLength=\"21\" x=\"143.5\" y=\"74.6074\">z: B</text><line style=\"stroke: #A80036; stroke-width: 1.5;\" x1=\"108\" x2=\"174\" y1=\"82.4375\" y2=\"82.4375\"/></a><!--MD5=[09b614a08d8cba4a07c9adeb5e0fee81]\n",
       "class E3--><a href=\"psysml:414aecf4-cab0-4d0d-b5e9-0bd22012706a\" target=\"_top\" title=\"psysml:414aecf4-cab0-4d0d-b5e9-0bd22012706a\" xlink:actuate=\"onRequest\" xlink:href=\"psysml:414aecf4-cab0-4d0d-b5e9-0bd22012706a\" xlink:show=\"new\" xlink:title=\"psysml:414aecf4-cab0-4d0d-b5e9-0bd22012706a\" xlink:type=\"simple\"><rect fill=\"#FEFECE\" filter=\"url(#f2xxfftx24b8v)\" height=\"40\" id=\"E3\" style=\"stroke: #A80036; stroke-width: 1.5;\" width=\"40\" x=\"214\" y=\"154\"/><ellipse cx=\"229\" cy=\"170\" fill=\"#008000\" rx=\"11\" ry=\"11\" style=\"stroke: #A80036; stroke-width: 1.0;\"/><path d=\"M227.9063,170.375 L227.9063,174.0469 L229.5313,174.0469 Q230.7031,174.0469 231.1719,173.6563 Q231.6406,173.25 231.6406,172.25 Q231.6406,171.25 231.1406,170.8125 Q230.6563,170.375 229.5313,170.375 L227.9063,170.375 Z M227.9063,165.5469 L227.9063,168.4219 L229.5313,168.4219 Q230.4531,168.4219 230.8438,168.0938 Q231.25,167.75 231.25,167 Q231.25,166.2344 230.8438,165.8906 Q230.4375,165.5469 229.5313,165.5469 L227.9063,165.5469 Z M225.5313,163.5938 L229.5313,163.5938 Q231.5938,163.5938 232.6406,164.375 Q233.6875,165.1563 233.6875,166.7188 Q233.6875,167.9219 233.0625,168.5938 Q232.4531,169.2656 231.2656,169.375 Q232.6875,169.5156 233.4063,170.3281 Q234.125,171.1406 234.125,172.5938 Q234.125,174.3906 233.0469,175.2031 Q231.9688,176 229.5313,176 L225.5313,176 L225.5313,163.5938 Z \"/><text fill=\"#000000\" font-family=\"sans-serif\" font-size=\"12\" lengthAdjust=\"spacingAndGlyphs\" textLength=\"8\" x=\"243\" y=\"174.1543\">A</text><line style=\"stroke: #A80036; stroke-width: 1.5;\" x1=\"215\" x2=\"253\" y1=\"186\" y2=\"186\"/></a><a href=\"psysml:e62181a2-aa41-44c6-a86b-ee96628d0c50\" target=\"_top\" title=\"psysml:e62181a2-aa41-44c6-a86b-ee96628d0c50\" xlink:actuate=\"onRequest\" xlink:href=\"psysml:e62181a2-aa41-44c6-a86b-ee96628d0c50\" xlink:show=\"new\" xlink:title=\"psysml:e62181a2-aa41-44c6-a86b-ee96628d0c50\" xlink:type=\"simple\"><polygon fill=\"#FFFFFF\" filter=\"url(#f2xxfftx24b8v)\" points=\"32,41,58,41,65,63.2969,72,63.2969,72,93.5938,32,93.5938,32,41\" style=\"stroke: #000000; stroke-width: 1.5;\"/><line style=\"stroke: #000000; stroke-width: 1.5;\" x1=\"32\" x2=\"65\" y1=\"63.2969\" y2=\"63.2969\"/><text fill=\"#000000\" font-family=\"sans-serif\" font-size=\"14\" font-weight=\"bold\" lengthAdjust=\"spacingAndGlyphs\" textLength=\"20\" x=\"36\" y=\"55.9951\">P2</text></a><!--MD5=[2156ba9850f5573cc1fc38a6a4b2f02b]\n",
       "class E7--><a href=\"psysml:f619ebc7-1ca1-4b7d-a8d3-68584975adae\" target=\"_top\" title=\"psysml:f619ebc7-1ca1-4b7d-a8d3-68584975adae\" xlink:actuate=\"onRequest\" xlink:href=\"psysml:f619ebc7-1ca1-4b7d-a8d3-68584975adae\" xlink:show=\"new\" xlink:title=\"psysml:f619ebc7-1ca1-4b7d-a8d3-68584975adae\" xlink:type=\"simple\"><rect fill=\"#FEFECE\" filter=\"url(#f2xxfftx24b8v)\" height=\"40\" id=\"E7\" style=\"stroke: #A80036; stroke-width: 1.5;\" width=\"40\" x=\"118\" y=\"154\"/><ellipse cx=\"133\" cy=\"170\" fill=\"#008000\" rx=\"11\" ry=\"11\" style=\"stroke: #A80036; stroke-width: 1.0;\"/><path d=\"M131.9063,170.375 L131.9063,174.0469 L133.5313,174.0469 Q134.7031,174.0469 135.1719,173.6563 Q135.6406,173.25 135.6406,172.25 Q135.6406,171.25 135.1406,170.8125 Q134.6563,170.375 133.5313,170.375 L131.9063,170.375 Z M131.9063,165.5469 L131.9063,168.4219 L133.5313,168.4219 Q134.4531,168.4219 134.8438,168.0938 Q135.25,167.75 135.25,167 Q135.25,166.2344 134.8438,165.8906 Q134.4375,165.5469 133.5313,165.5469 L131.9063,165.5469 Z M129.5313,163.5938 L133.5313,163.5938 Q135.5938,163.5938 136.6406,164.375 Q137.6875,165.1563 137.6875,166.7188 Q137.6875,167.9219 137.0625,168.5938 Q136.4531,169.2656 135.2656,169.375 Q136.6875,169.5156 137.4063,170.3281 Q138.125,171.1406 138.125,172.5938 Q138.125,174.3906 137.0469,175.2031 Q135.9688,176 133.5313,176 L129.5313,176 L129.5313,163.5938 Z \"/><text fill=\"#000000\" font-family=\"sans-serif\" font-size=\"12\" lengthAdjust=\"spacingAndGlyphs\" textLength=\"8\" x=\"147\" y=\"174.1543\">B</text><line style=\"stroke: #A80036; stroke-width: 1.5;\" x1=\"119\" x2=\"157\" y1=\"186\" y2=\"186\"/></a><!--MD5=[e9be52314489bd878ff4c7144b63c9e1]\n",
       "link E5 to E3--><a href=\"psysml:e8148481-e1af-4d30-a20f-345018eb1da9\" target=\"_top\" title=\"psysml:e8148481-e1af-4d30-a20f-345018eb1da9\" xlink:actuate=\"onRequest\" xlink:href=\"psysml:e8148481-e1af-4d30-a20f-345018eb1da9\" xlink:show=\"new\" xlink:title=\"psysml:e8148481-e1af-4d30-a20f-345018eb1da9\" xlink:type=\"simple\"><path d=\"M241.88,90.66 C240.68,103.15 239.16,119.11 237.77,133.65 \" fill=\"none\" id=\"E5-&gt;E3\" style=\"stroke: #A80036; stroke-width: 1.0;\"/><polygon fill=\"#FFFFFF\" points=\"235.85,153.68,230.7015,134.097,244.6371,135.4376,235.85,153.68\" style=\"stroke: #A80036; stroke-width: 1.0;\"/><ellipse cx=\"233.2381\" cy=\"128.6147\" fill=\"#A80036\" rx=\"2\" ry=\"2\" style=\"stroke: #A80036; stroke-width: 1.0;\"/><ellipse cx=\"243.1921\" cy=\"129.5723\" fill=\"#A80036\" rx=\"2\" ry=\"2\" style=\"stroke: #A80036; stroke-width: 1.0;\"/></a><!--MD5=[bfa3c8b0d15052fdf50ae9310b491027]\n",
       "link E8 to E7--><a href=\"psysml:88eb6ab6-f030-4136-96c6-6d1b75343c8c\" target=\"_top\" title=\"psysml:88eb6ab6-f030-4136-96c6-6d1b75343c8c\" xlink:actuate=\"onRequest\" xlink:href=\"psysml:88eb6ab6-f030-4136-96c6-6d1b75343c8c\" xlink:show=\"new\" xlink:title=\"psysml:88eb6ab6-f030-4136-96c6-6d1b75343c8c\" xlink:type=\"simple\"><path d=\"M140.36,90.66 C140.01,103.15 139.55,119.11 139.13,133.65 \" fill=\"none\" id=\"E8-&gt;E7\" style=\"stroke: #A80036; stroke-width: 1.0;\"/><polygon fill=\"#FFFFFF\" points=\"138.55,153.68,132.0955,134.4878,146.0898,134.8877,138.55,153.68\" style=\"stroke: #A80036; stroke-width: 1.0;\"/><ellipse cx=\"134.2575\" cy=\"128.8473\" fill=\"#A80036\" rx=\"2\" ry=\"2\" style=\"stroke: #A80036; stroke-width: 1.0;\"/><ellipse cx=\"144.2534\" cy=\"129.1329\" fill=\"#A80036\" rx=\"2\" ry=\"2\" style=\"stroke: #A80036; stroke-width: 1.0;\"/></a><!--MD5=[b018dbbbb62fb4fb38f0c86b95a47362]\n",
       "@startuml\r\n",
       " \r\n",
       "package \"PrivateImportTest\" as E1  [[psysml:a19fc987-58b9-4365-8e05-8e082939198f ]]  {\r\n",
       "package \"P1\" as E2  [[psysml:0afae52f-013a-41db-84e1-dbe02c327088 ]]  {\r\n",
       "comp def \"A\" as E3  << (B,green) >> [[psysml:414aecf4-cab0-4d0d-b5e9-0bd22012706a ]] {\r\n",
       "}\r\n",
       "}\r\n",
       "package \"P2\" as E4  [[psysml:e62181a2-aa41-44c6-a86b-ee96628d0c50 ]]  {\r\n",
       "}\r\n",
       "comp usage \"x: A\" as E5  << (P,limegreen) part>> [[psysml:0adc1dcd-eba4-4b19-b824-866ee03ed7de ]] {\r\n",
       "}\r\n",
       "package \"P3\" as E6  [[psysml:1d9d662c-22cb-416c-b8ab-bb9944386c4a ]]  {\r\n",
       "comp def \"B\" as E7  << (B,green) >> [[psysml:f619ebc7-1ca1-4b7d-a8d3-68584975adae ]] {\r\n",
       "}\r\n",
       "E5 - -:|> E3 [[psysml:e8148481-e1af-4d30-a20f-345018eb1da9 ]] \r\n",
       "}\r\n",
       "comp usage \"z: B\" as E8  << (P,limegreen) part>> [[psysml:b076f02a-ad00-46e0-858a-3e2f54feec2a ]] {\r\n",
       "}\r\n",
       "E8 - -:|> E7 [[psysml:88eb6ab6-f030-4136-96c6-6d1b75343c8c ]] \r\n",
       "}\r\n",
       "@enduml\r\n",
       "\n",
       "PlantUML version 1.2020.13(Sat Jun 13 12:26:38 UTC 2020)\n",
       "(EPL source distribution)\n",
       "Java Runtime: OpenJDK Runtime Environment\n",
       "JVM: OpenJDK 64-Bit Server VM\n",
       "Default Encoding: UTF-8\n",
       "Language: en\n",
       "Country: null\n",
       "--></g></svg>"
      ]
     },
     "execution_count": 35,
     "metadata": {},
     "output_type": "execute_result"
    }
   ],
   "source": [
    "%viz --style=\"PLANTUML\" --view=\"Sequence\" \"PrivateImportTest\""
   ]
  },
  {
   "cell_type": "code",
   "execution_count": 36,
   "id": "solid-joining",
   "metadata": {
    "execution": {
     "iopub.execute_input": "2021-03-25T09:26:41.427956Z",
     "iopub.status.busy": "2021-03-25T09:26:41.427231Z",
     "iopub.status.idle": "2021-03-25T09:26:41.484984Z",
     "shell.execute_reply": "2021-03-25T09:26:41.483294Z"
    }
   },
   "outputs": [
    {
     "data": {
      "image/svg+xml": [
       "<?xml version=\"1.0\" encoding=\"UTF-8\" standalone=\"no\"?><svg xmlns=\"http://www.w3.org/2000/svg\" xmlns:xlink=\"http://www.w3.org/1999/xlink\" contentScriptType=\"application/ecmascript\" contentStyleType=\"text/css\" height=\"246px\" preserveAspectRatio=\"none\" style=\"width:316px;height:246px;\" version=\"1.1\" viewBox=\"0 0 316 246\" width=\"316px\" zoomAndPan=\"magnify\"><defs><filter height=\"300%\" id=\"f2xxfftx24b8v\" width=\"300%\" x=\"-1\" y=\"-1\"><feGaussianBlur result=\"blurOut\" stdDeviation=\"2.0\"/><feColorMatrix in=\"blurOut\" result=\"blurOut2\" type=\"matrix\" values=\"0 0 0 0 0 0 0 0 0 0 0 0 0 0 0 0 0 0 .4 0\"/><feOffset dx=\"4.0\" dy=\"4.0\" in=\"blurOut2\" result=\"blurOut3\"/><feBlend in=\"SourceGraphic\" in2=\"blurOut3\" mode=\"normal\"/></filter></defs><g><!--MD5=[fbc87193dbaf4d95561dea2c320d4a47]\n",
       "cluster E1--><a href=\"psysml:a19fc987-58b9-4365-8e05-8e082939198f\" target=\"_top\" title=\"psysml:a19fc987-58b9-4365-8e05-8e082939198f\" xlink:actuate=\"onRequest\" xlink:href=\"psysml:a19fc987-58b9-4365-8e05-8e082939198f\" xlink:show=\"new\" xlink:title=\"psysml:a19fc987-58b9-4365-8e05-8e082939198f\" xlink:type=\"simple\"><polygon fill=\"#FFFFFF\" filter=\"url(#f2xxfftx24b8v)\" points=\"16,6,163,6,170,28.2969,294,28.2969,294,234,16,234,16,6\" style=\"stroke: #000000; stroke-width: 1.5;\"/><line style=\"stroke: #000000; stroke-width: 1.5;\" x1=\"16\" x2=\"170\" y1=\"28.2969\" y2=\"28.2969\"/><text fill=\"#000000\" font-family=\"sans-serif\" font-size=\"14\" font-weight=\"bold\" lengthAdjust=\"spacingAndGlyphs\" textLength=\"141\" x=\"20\" y=\"20.9951\">PrivateImportTest</text></a><!--MD5=[e4f7fae6ed58524ba242bb0b0d3be6b7]\n",
       "cluster E2--><a href=\"psysml:0afae52f-013a-41db-84e1-dbe02c327088\" target=\"_top\" title=\"psysml:0afae52f-013a-41db-84e1-dbe02c327088\" xlink:actuate=\"onRequest\" xlink:href=\"psysml:0afae52f-013a-41db-84e1-dbe02c327088\" xlink:show=\"new\" xlink:title=\"psysml:0afae52f-013a-41db-84e1-dbe02c327088\" xlink:type=\"simple\"><polygon fill=\"#FFFFFF\" filter=\"url(#f2xxfftx24b8v)\" points=\"198,119,224,119,231,141.2969,270,141.2969,270,210,198,210,198,119\" style=\"stroke: #000000; stroke-width: 1.5;\"/><line style=\"stroke: #000000; stroke-width: 1.5;\" x1=\"198\" x2=\"231\" y1=\"141.2969\" y2=\"141.2969\"/><text fill=\"#000000\" font-family=\"sans-serif\" font-size=\"14\" font-weight=\"bold\" lengthAdjust=\"spacingAndGlyphs\" textLength=\"20\" x=\"202\" y=\"133.9951\">P1</text></a><!--MD5=[14e3b0961a2654348d326746436168a1]\n",
       "cluster E6--><a href=\"psysml:1d9d662c-22cb-416c-b8ab-bb9944386c4a\" target=\"_top\" title=\"psysml:1d9d662c-22cb-416c-b8ab-bb9944386c4a\" xlink:actuate=\"onRequest\" xlink:href=\"psysml:1d9d662c-22cb-416c-b8ab-bb9944386c4a\" xlink:show=\"new\" xlink:title=\"psysml:1d9d662c-22cb-416c-b8ab-bb9944386c4a\" xlink:type=\"simple\"><polygon fill=\"#FFFFFF\" filter=\"url(#f2xxfftx24b8v)\" points=\"102,119,128,119,135,141.2969,174,141.2969,174,210,102,210,102,119\" style=\"stroke: #000000; stroke-width: 1.5;\"/><line style=\"stroke: #000000; stroke-width: 1.5;\" x1=\"102\" x2=\"135\" y1=\"141.2969\" y2=\"141.2969\"/><text fill=\"#000000\" font-family=\"sans-serif\" font-size=\"14\" font-weight=\"bold\" lengthAdjust=\"spacingAndGlyphs\" textLength=\"20\" x=\"106\" y=\"133.9951\">P3</text></a><!--MD5=[270fce915f116d4de14055a7c1d9a0f3]\n",
       "class E5--><a href=\"psysml:0adc1dcd-eba4-4b19-b824-866ee03ed7de\" target=\"_top\" title=\"psysml:0adc1dcd-eba4-4b19-b824-866ee03ed7de\" xlink:actuate=\"onRequest\" xlink:href=\"psysml:0adc1dcd-eba4-4b19-b824-866ee03ed7de\" xlink:show=\"new\" xlink:title=\"psysml:0adc1dcd-eba4-4b19-b824-866ee03ed7de\" xlink:type=\"simple\"><rect fill=\"#FEFECE\" filter=\"url(#f2xxfftx24b8v)\" height=\"45.9375\" id=\"E5\" rx=\"10\" ry=\"10\" style=\"stroke: #A80036; stroke-width: 1.5;\" width=\"68\" x=\"210\" y=\"44.5\"/><ellipse cx=\"225\" cy=\"63.4688\" fill=\"#32CD32\" rx=\"11\" ry=\"11\" style=\"stroke: #A80036; stroke-width: 1.0;\"/><path d=\"M224.7969,59.1406 L224.7969,62.7656 L225.7969,62.7656 Q227,62.7656 227.4844,62.3594 Q227.9688,61.9531 227.9688,60.9531 Q227.9688,59.9531 227.4844,59.5469 Q227,59.1406 225.7969,59.1406 L224.7969,59.1406 Z M222.3438,57.0781 L225.7031,57.0781 Q228.2656,57.0781 229.3906,58 Q230.5156,58.9063 230.5156,60.9531 Q230.5156,63 229.3906,63.9219 Q228.2656,64.8281 225.7031,64.8281 L224.7969,64.8281 L224.7969,69.4688 L222.3438,69.4688 L222.3438,57.0781 Z \"/><text fill=\"#000000\" font-family=\"sans-serif\" font-size=\"12\" font-style=\"italic\" lengthAdjust=\"spacingAndGlyphs\" textLength=\"40\" x=\"237\" y=\"60.6387\">«part»</text><text fill=\"#000000\" font-family=\"sans-serif\" font-size=\"12\" lengthAdjust=\"spacingAndGlyphs\" textLength=\"22\" x=\"246\" y=\"74.6074\">x: A</text><line style=\"stroke: #A80036; stroke-width: 1.5;\" x1=\"211\" x2=\"277\" y1=\"82.4375\" y2=\"82.4375\"/></a><!--MD5=[b9389687b975829384b498ac4b7476b2]\n",
       "class E8--><a href=\"psysml:b076f02a-ad00-46e0-858a-3e2f54feec2a\" target=\"_top\" title=\"psysml:b076f02a-ad00-46e0-858a-3e2f54feec2a\" xlink:actuate=\"onRequest\" xlink:href=\"psysml:b076f02a-ad00-46e0-858a-3e2f54feec2a\" xlink:show=\"new\" xlink:title=\"psysml:b076f02a-ad00-46e0-858a-3e2f54feec2a\" xlink:type=\"simple\"><rect fill=\"#FEFECE\" filter=\"url(#f2xxfftx24b8v)\" height=\"45.9375\" id=\"E8\" rx=\"10\" ry=\"10\" style=\"stroke: #A80036; stroke-width: 1.5;\" width=\"68\" x=\"107\" y=\"44.5\"/><ellipse cx=\"122\" cy=\"63.4688\" fill=\"#32CD32\" rx=\"11\" ry=\"11\" style=\"stroke: #A80036; stroke-width: 1.0;\"/><path d=\"M121.7969,59.1406 L121.7969,62.7656 L122.7969,62.7656 Q124,62.7656 124.4844,62.3594 Q124.9688,61.9531 124.9688,60.9531 Q124.9688,59.9531 124.4844,59.5469 Q124,59.1406 122.7969,59.1406 L121.7969,59.1406 Z M119.3438,57.0781 L122.7031,57.0781 Q125.2656,57.0781 126.3906,58 Q127.5156,58.9063 127.5156,60.9531 Q127.5156,63 126.3906,63.9219 Q125.2656,64.8281 122.7031,64.8281 L121.7969,64.8281 L121.7969,69.4688 L119.3438,69.4688 L119.3438,57.0781 Z \"/><text fill=\"#000000\" font-family=\"sans-serif\" font-size=\"12\" font-style=\"italic\" lengthAdjust=\"spacingAndGlyphs\" textLength=\"40\" x=\"134\" y=\"60.6387\">«part»</text><text fill=\"#000000\" font-family=\"sans-serif\" font-size=\"12\" lengthAdjust=\"spacingAndGlyphs\" textLength=\"21\" x=\"143.5\" y=\"74.6074\">z: B</text><line style=\"stroke: #A80036; stroke-width: 1.5;\" x1=\"108\" x2=\"174\" y1=\"82.4375\" y2=\"82.4375\"/></a><!--MD5=[09b614a08d8cba4a07c9adeb5e0fee81]\n",
       "class E3--><a href=\"psysml:414aecf4-cab0-4d0d-b5e9-0bd22012706a\" target=\"_top\" title=\"psysml:414aecf4-cab0-4d0d-b5e9-0bd22012706a\" xlink:actuate=\"onRequest\" xlink:href=\"psysml:414aecf4-cab0-4d0d-b5e9-0bd22012706a\" xlink:show=\"new\" xlink:title=\"psysml:414aecf4-cab0-4d0d-b5e9-0bd22012706a\" xlink:type=\"simple\"><rect fill=\"#FEFECE\" filter=\"url(#f2xxfftx24b8v)\" height=\"40\" id=\"E3\" style=\"stroke: #A80036; stroke-width: 1.5;\" width=\"40\" x=\"214\" y=\"154\"/><ellipse cx=\"229\" cy=\"170\" fill=\"#008000\" rx=\"11\" ry=\"11\" style=\"stroke: #A80036; stroke-width: 1.0;\"/><path d=\"M227.9063,170.375 L227.9063,174.0469 L229.5313,174.0469 Q230.7031,174.0469 231.1719,173.6563 Q231.6406,173.25 231.6406,172.25 Q231.6406,171.25 231.1406,170.8125 Q230.6563,170.375 229.5313,170.375 L227.9063,170.375 Z M227.9063,165.5469 L227.9063,168.4219 L229.5313,168.4219 Q230.4531,168.4219 230.8438,168.0938 Q231.25,167.75 231.25,167 Q231.25,166.2344 230.8438,165.8906 Q230.4375,165.5469 229.5313,165.5469 L227.9063,165.5469 Z M225.5313,163.5938 L229.5313,163.5938 Q231.5938,163.5938 232.6406,164.375 Q233.6875,165.1563 233.6875,166.7188 Q233.6875,167.9219 233.0625,168.5938 Q232.4531,169.2656 231.2656,169.375 Q232.6875,169.5156 233.4063,170.3281 Q234.125,171.1406 234.125,172.5938 Q234.125,174.3906 233.0469,175.2031 Q231.9688,176 229.5313,176 L225.5313,176 L225.5313,163.5938 Z \"/><text fill=\"#000000\" font-family=\"sans-serif\" font-size=\"12\" lengthAdjust=\"spacingAndGlyphs\" textLength=\"8\" x=\"243\" y=\"174.1543\">A</text><line style=\"stroke: #A80036; stroke-width: 1.5;\" x1=\"215\" x2=\"253\" y1=\"186\" y2=\"186\"/></a><a href=\"psysml:e62181a2-aa41-44c6-a86b-ee96628d0c50\" target=\"_top\" title=\"psysml:e62181a2-aa41-44c6-a86b-ee96628d0c50\" xlink:actuate=\"onRequest\" xlink:href=\"psysml:e62181a2-aa41-44c6-a86b-ee96628d0c50\" xlink:show=\"new\" xlink:title=\"psysml:e62181a2-aa41-44c6-a86b-ee96628d0c50\" xlink:type=\"simple\"><polygon fill=\"#FFFFFF\" filter=\"url(#f2xxfftx24b8v)\" points=\"32,41,58,41,65,63.2969,72,63.2969,72,93.5938,32,93.5938,32,41\" style=\"stroke: #000000; stroke-width: 1.5;\"/><line style=\"stroke: #000000; stroke-width: 1.5;\" x1=\"32\" x2=\"65\" y1=\"63.2969\" y2=\"63.2969\"/><text fill=\"#000000\" font-family=\"sans-serif\" font-size=\"14\" font-weight=\"bold\" lengthAdjust=\"spacingAndGlyphs\" textLength=\"20\" x=\"36\" y=\"55.9951\">P2</text></a><!--MD5=[2156ba9850f5573cc1fc38a6a4b2f02b]\n",
       "class E7--><a href=\"psysml:f619ebc7-1ca1-4b7d-a8d3-68584975adae\" target=\"_top\" title=\"psysml:f619ebc7-1ca1-4b7d-a8d3-68584975adae\" xlink:actuate=\"onRequest\" xlink:href=\"psysml:f619ebc7-1ca1-4b7d-a8d3-68584975adae\" xlink:show=\"new\" xlink:title=\"psysml:f619ebc7-1ca1-4b7d-a8d3-68584975adae\" xlink:type=\"simple\"><rect fill=\"#FEFECE\" filter=\"url(#f2xxfftx24b8v)\" height=\"40\" id=\"E7\" style=\"stroke: #A80036; stroke-width: 1.5;\" width=\"40\" x=\"118\" y=\"154\"/><ellipse cx=\"133\" cy=\"170\" fill=\"#008000\" rx=\"11\" ry=\"11\" style=\"stroke: #A80036; stroke-width: 1.0;\"/><path d=\"M131.9063,170.375 L131.9063,174.0469 L133.5313,174.0469 Q134.7031,174.0469 135.1719,173.6563 Q135.6406,173.25 135.6406,172.25 Q135.6406,171.25 135.1406,170.8125 Q134.6563,170.375 133.5313,170.375 L131.9063,170.375 Z M131.9063,165.5469 L131.9063,168.4219 L133.5313,168.4219 Q134.4531,168.4219 134.8438,168.0938 Q135.25,167.75 135.25,167 Q135.25,166.2344 134.8438,165.8906 Q134.4375,165.5469 133.5313,165.5469 L131.9063,165.5469 Z M129.5313,163.5938 L133.5313,163.5938 Q135.5938,163.5938 136.6406,164.375 Q137.6875,165.1563 137.6875,166.7188 Q137.6875,167.9219 137.0625,168.5938 Q136.4531,169.2656 135.2656,169.375 Q136.6875,169.5156 137.4063,170.3281 Q138.125,171.1406 138.125,172.5938 Q138.125,174.3906 137.0469,175.2031 Q135.9688,176 133.5313,176 L129.5313,176 L129.5313,163.5938 Z \"/><text fill=\"#000000\" font-family=\"sans-serif\" font-size=\"12\" lengthAdjust=\"spacingAndGlyphs\" textLength=\"8\" x=\"147\" y=\"174.1543\">B</text><line style=\"stroke: #A80036; stroke-width: 1.5;\" x1=\"119\" x2=\"157\" y1=\"186\" y2=\"186\"/></a><!--MD5=[e9be52314489bd878ff4c7144b63c9e1]\n",
       "link E5 to E3--><a href=\"psysml:e8148481-e1af-4d30-a20f-345018eb1da9\" target=\"_top\" title=\"psysml:e8148481-e1af-4d30-a20f-345018eb1da9\" xlink:actuate=\"onRequest\" xlink:href=\"psysml:e8148481-e1af-4d30-a20f-345018eb1da9\" xlink:show=\"new\" xlink:title=\"psysml:e8148481-e1af-4d30-a20f-345018eb1da9\" xlink:type=\"simple\"><path d=\"M241.88,90.66 C240.68,103.15 239.16,119.11 237.77,133.65 \" fill=\"none\" id=\"E5-&gt;E3\" style=\"stroke: #A80036; stroke-width: 1.0;\"/><polygon fill=\"#FFFFFF\" points=\"235.85,153.68,230.7015,134.097,244.6371,135.4376,235.85,153.68\" style=\"stroke: #A80036; stroke-width: 1.0;\"/><ellipse cx=\"233.2381\" cy=\"128.6147\" fill=\"#A80036\" rx=\"2\" ry=\"2\" style=\"stroke: #A80036; stroke-width: 1.0;\"/><ellipse cx=\"243.1921\" cy=\"129.5723\" fill=\"#A80036\" rx=\"2\" ry=\"2\" style=\"stroke: #A80036; stroke-width: 1.0;\"/></a><!--MD5=[bfa3c8b0d15052fdf50ae9310b491027]\n",
       "link E8 to E7--><a href=\"psysml:88eb6ab6-f030-4136-96c6-6d1b75343c8c\" target=\"_top\" title=\"psysml:88eb6ab6-f030-4136-96c6-6d1b75343c8c\" xlink:actuate=\"onRequest\" xlink:href=\"psysml:88eb6ab6-f030-4136-96c6-6d1b75343c8c\" xlink:show=\"new\" xlink:title=\"psysml:88eb6ab6-f030-4136-96c6-6d1b75343c8c\" xlink:type=\"simple\"><path d=\"M140.36,90.66 C140.01,103.15 139.55,119.11 139.13,133.65 \" fill=\"none\" id=\"E8-&gt;E7\" style=\"stroke: #A80036; stroke-width: 1.0;\"/><polygon fill=\"#FFFFFF\" points=\"138.55,153.68,132.0955,134.4878,146.0898,134.8877,138.55,153.68\" style=\"stroke: #A80036; stroke-width: 1.0;\"/><ellipse cx=\"134.2575\" cy=\"128.8473\" fill=\"#A80036\" rx=\"2\" ry=\"2\" style=\"stroke: #A80036; stroke-width: 1.0;\"/><ellipse cx=\"144.2534\" cy=\"129.1329\" fill=\"#A80036\" rx=\"2\" ry=\"2\" style=\"stroke: #A80036; stroke-width: 1.0;\"/></a><!--MD5=[b018dbbbb62fb4fb38f0c86b95a47362]\n",
       "@startuml\r\n",
       " \r\n",
       "package \"PrivateImportTest\" as E1  [[psysml:a19fc987-58b9-4365-8e05-8e082939198f ]]  {\r\n",
       "package \"P1\" as E2  [[psysml:0afae52f-013a-41db-84e1-dbe02c327088 ]]  {\r\n",
       "comp def \"A\" as E3  << (B,green) >> [[psysml:414aecf4-cab0-4d0d-b5e9-0bd22012706a ]] {\r\n",
       "}\r\n",
       "}\r\n",
       "package \"P2\" as E4  [[psysml:e62181a2-aa41-44c6-a86b-ee96628d0c50 ]]  {\r\n",
       "}\r\n",
       "comp usage \"x: A\" as E5  << (P,limegreen) part>> [[psysml:0adc1dcd-eba4-4b19-b824-866ee03ed7de ]] {\r\n",
       "}\r\n",
       "package \"P3\" as E6  [[psysml:1d9d662c-22cb-416c-b8ab-bb9944386c4a ]]  {\r\n",
       "comp def \"B\" as E7  << (B,green) >> [[psysml:f619ebc7-1ca1-4b7d-a8d3-68584975adae ]] {\r\n",
       "}\r\n",
       "E5 - -:|> E3 [[psysml:e8148481-e1af-4d30-a20f-345018eb1da9 ]] \r\n",
       "}\r\n",
       "comp usage \"z: B\" as E8  << (P,limegreen) part>> [[psysml:b076f02a-ad00-46e0-858a-3e2f54feec2a ]] {\r\n",
       "}\r\n",
       "E8 - -:|> E7 [[psysml:88eb6ab6-f030-4136-96c6-6d1b75343c8c ]] \r\n",
       "}\r\n",
       "@enduml\r\n",
       "\n",
       "PlantUML version 1.2020.13(Sat Jun 13 12:26:38 UTC 2020)\n",
       "(EPL source distribution)\n",
       "Java Runtime: OpenJDK Runtime Environment\n",
       "JVM: OpenJDK 64-Bit Server VM\n",
       "Default Encoding: UTF-8\n",
       "Language: en\n",
       "Country: null\n",
       "--></g></svg>"
      ]
     },
     "execution_count": 36,
     "metadata": {},
     "output_type": "execute_result"
    }
   ],
   "source": [
    "%viz --style=\"PLANTUML\" --view=\"MIXED\" \"PrivateImportTest\""
   ]
  },
  {
   "cell_type": "code",
   "execution_count": 37,
   "id": "later-forward",
   "metadata": {
    "execution": {
     "iopub.execute_input": "2021-03-25T09:26:41.536591Z",
     "iopub.status.busy": "2021-03-25T09:26:41.536036Z",
     "iopub.status.idle": "2021-03-25T09:26:41.602853Z",
     "shell.execute_reply": "2021-03-25T09:26:41.601259Z"
    }
   },
   "outputs": [
    {
     "data": {
      "image/svg+xml": [
       "<?xml version=\"1.0\" encoding=\"UTF-8\" standalone=\"no\"?><svg xmlns=\"http://www.w3.org/2000/svg\" xmlns:xlink=\"http://www.w3.org/1999/xlink\" contentScriptType=\"application/ecmascript\" contentStyleType=\"text/css\" height=\"252px\" preserveAspectRatio=\"none\" style=\"width:306px;height:252px;\" version=\"1.1\" viewBox=\"0 0 306 252\" width=\"306px\" zoomAndPan=\"magnify\"><defs/><g><!--MD5=[fbc87193dbaf4d95561dea2c320d4a47]\n",
       "cluster E1--><a href=\"psysml:a19fc987-58b9-4365-8e05-8e082939198f\" target=\"_top\" title=\"psysml:a19fc987-58b9-4365-8e05-8e082939198f\" xlink:actuate=\"onRequest\" xlink:href=\"psysml:a19fc987-58b9-4365-8e05-8e082939198f\" xlink:show=\"new\" xlink:title=\"psysml:a19fc987-58b9-4365-8e05-8e082939198f\" xlink:type=\"simple\"><polygon fill=\"#FFFFFF\" points=\"16,6,163,6,170,28.2969,284,28.2969,284,240,16,240,16,6\" style=\"stroke: #000000; stroke-width: 1.5;\"/><line style=\"stroke: #000000; stroke-width: 1.5;\" x1=\"16\" x2=\"170\" y1=\"28.2969\" y2=\"28.2969\"/><text fill=\"#000000\" font-family=\"sans-serif\" font-size=\"14\" font-weight=\"bold\" lengthAdjust=\"spacingAndGlyphs\" textLength=\"141\" x=\"20\" y=\"20.9951\">PrivateImportTest</text></a><!--MD5=[e4f7fae6ed58524ba242bb0b0d3be6b7]\n",
       "cluster E2--><a href=\"psysml:0afae52f-013a-41db-84e1-dbe02c327088\" target=\"_top\" title=\"psysml:0afae52f-013a-41db-84e1-dbe02c327088\" xlink:actuate=\"onRequest\" xlink:href=\"psysml:0afae52f-013a-41db-84e1-dbe02c327088\" xlink:show=\"new\" xlink:title=\"psysml:0afae52f-013a-41db-84e1-dbe02c327088\" xlink:type=\"simple\"><polygon fill=\"#FFFFFF\" points=\"162,119,188,119,195,141.2969,260,141.2969,260,216,162,216,162,119\" style=\"stroke: #000000; stroke-width: 1.5;\"/><line style=\"stroke: #000000; stroke-width: 1.5;\" x1=\"162\" x2=\"195\" y1=\"141.2969\" y2=\"141.2969\"/><text fill=\"#000000\" font-family=\"sans-serif\" font-size=\"14\" font-weight=\"bold\" lengthAdjust=\"spacingAndGlyphs\" textLength=\"20\" x=\"166\" y=\"133.9951\">P1</text></a><!--MD5=[14e3b0961a2654348d326746436168a1]\n",
       "cluster E6--><a href=\"psysml:1d9d662c-22cb-416c-b8ab-bb9944386c4a\" target=\"_top\" title=\"psysml:1d9d662c-22cb-416c-b8ab-bb9944386c4a\" xlink:actuate=\"onRequest\" xlink:href=\"psysml:1d9d662c-22cb-416c-b8ab-bb9944386c4a\" xlink:show=\"new\" xlink:title=\"psysml:1d9d662c-22cb-416c-b8ab-bb9944386c4a\" xlink:type=\"simple\"><polygon fill=\"#FFFFFF\" points=\"40,119,66,119,73,141.2969,138,141.2969,138,216,40,216,40,119\" style=\"stroke: #000000; stroke-width: 1.5;\"/><line style=\"stroke: #000000; stroke-width: 1.5;\" x1=\"40\" x2=\"73\" y1=\"141.2969\" y2=\"141.2969\"/><text fill=\"#000000\" font-family=\"sans-serif\" font-size=\"14\" font-weight=\"bold\" lengthAdjust=\"spacingAndGlyphs\" textLength=\"20\" x=\"44\" y=\"133.9951\">P3</text></a><!--MD5=[270fce915f116d4de14055a7c1d9a0f3]\n",
       "class E5--><a href=\"psysml:0adc1dcd-eba4-4b19-b824-866ee03ed7de\" target=\"_top\" title=\"psysml:0adc1dcd-eba4-4b19-b824-866ee03ed7de\" xlink:actuate=\"onRequest\" xlink:href=\"psysml:0adc1dcd-eba4-4b19-b824-866ee03ed7de\" xlink:show=\"new\" xlink:title=\"psysml:0adc1dcd-eba4-4b19-b824-866ee03ed7de\" xlink:type=\"simple\"><rect fill=\"#FFFFFF\" height=\"45.9375\" id=\"E5\" rx=\"10\" ry=\"10\" style=\"stroke: #383838; stroke-width: 1.5;\" width=\"42\" x=\"190\" y=\"44.5\"/><text fill=\"#000000\" font-family=\"sans-serif\" font-size=\"12\" font-style=\"italic\" lengthAdjust=\"spacingAndGlyphs\" textLength=\"40\" x=\"191\" y=\"60.6387\">«part»</text><text fill=\"#000000\" font-family=\"sans-serif\" font-size=\"12\" lengthAdjust=\"spacingAndGlyphs\" textLength=\"22\" x=\"200\" y=\"74.6074\">x: A</text><line style=\"stroke: #383838; stroke-width: 1.5;\" x1=\"191\" x2=\"231\" y1=\"82.4375\" y2=\"82.4375\"/></a><!--MD5=[b9389687b975829384b498ac4b7476b2]\n",
       "class E8--><a href=\"psysml:b076f02a-ad00-46e0-858a-3e2f54feec2a\" target=\"_top\" title=\"psysml:b076f02a-ad00-46e0-858a-3e2f54feec2a\" xlink:actuate=\"onRequest\" xlink:href=\"psysml:b076f02a-ad00-46e0-858a-3e2f54feec2a\" xlink:show=\"new\" xlink:title=\"psysml:b076f02a-ad00-46e0-858a-3e2f54feec2a\" xlink:type=\"simple\"><rect fill=\"#FFFFFF\" height=\"45.9375\" id=\"E8\" rx=\"10\" ry=\"10\" style=\"stroke: #383838; stroke-width: 1.5;\" width=\"42\" x=\"107\" y=\"44.5\"/><text fill=\"#000000\" font-family=\"sans-serif\" font-size=\"12\" font-style=\"italic\" lengthAdjust=\"spacingAndGlyphs\" textLength=\"40\" x=\"108\" y=\"60.6387\">«part»</text><text fill=\"#000000\" font-family=\"sans-serif\" font-size=\"12\" lengthAdjust=\"spacingAndGlyphs\" textLength=\"21\" x=\"117.5\" y=\"74.6074\">z: B</text><line style=\"stroke: #383838; stroke-width: 1.5;\" x1=\"108\" x2=\"148\" y1=\"82.4375\" y2=\"82.4375\"/></a><!--MD5=[09b614a08d8cba4a07c9adeb5e0fee81]\n",
       "class E3--><a href=\"psysml:414aecf4-cab0-4d0d-b5e9-0bd22012706a\" target=\"_top\" title=\"psysml:414aecf4-cab0-4d0d-b5e9-0bd22012706a\" xlink:actuate=\"onRequest\" xlink:href=\"psysml:414aecf4-cab0-4d0d-b5e9-0bd22012706a\" xlink:show=\"new\" xlink:title=\"psysml:414aecf4-cab0-4d0d-b5e9-0bd22012706a\" xlink:type=\"simple\"><rect fill=\"#FFFFFF\" height=\"45.9375\" id=\"E3\" style=\"stroke: #383838; stroke-width: 1.5;\" width=\"66\" x=\"178\" y=\"154\"/><text fill=\"#000000\" font-family=\"sans-serif\" font-size=\"12\" font-style=\"italic\" lengthAdjust=\"spacingAndGlyphs\" textLength=\"64\" x=\"179\" y=\"170.1387\">«part def»</text><text fill=\"#000000\" font-family=\"sans-serif\" font-size=\"12\" lengthAdjust=\"spacingAndGlyphs\" textLength=\"8\" x=\"207\" y=\"184.1074\">A</text><line style=\"stroke: #383838; stroke-width: 1.5;\" x1=\"179\" x2=\"243\" y1=\"191.9375\" y2=\"191.9375\"/></a><a href=\"psysml:e62181a2-aa41-44c6-a86b-ee96628d0c50\" target=\"_top\" title=\"psysml:e62181a2-aa41-44c6-a86b-ee96628d0c50\" xlink:actuate=\"onRequest\" xlink:href=\"psysml:e62181a2-aa41-44c6-a86b-ee96628d0c50\" xlink:show=\"new\" xlink:title=\"psysml:e62181a2-aa41-44c6-a86b-ee96628d0c50\" xlink:type=\"simple\"><polygon fill=\"#FFFFFF\" points=\"32,41,58,41,65,63.2969,72,63.2969,72,93.5938,32,93.5938,32,41\" style=\"stroke: #000000; stroke-width: 1.5;\"/><line style=\"stroke: #000000; stroke-width: 1.5;\" x1=\"32\" x2=\"65\" y1=\"63.2969\" y2=\"63.2969\"/><text fill=\"#000000\" font-family=\"sans-serif\" font-size=\"14\" font-weight=\"bold\" lengthAdjust=\"spacingAndGlyphs\" textLength=\"20\" x=\"36\" y=\"55.9951\">P2</text></a><!--MD5=[2156ba9850f5573cc1fc38a6a4b2f02b]\n",
       "class E7--><a href=\"psysml:f619ebc7-1ca1-4b7d-a8d3-68584975adae\" target=\"_top\" title=\"psysml:f619ebc7-1ca1-4b7d-a8d3-68584975adae\" xlink:actuate=\"onRequest\" xlink:href=\"psysml:f619ebc7-1ca1-4b7d-a8d3-68584975adae\" xlink:show=\"new\" xlink:title=\"psysml:f619ebc7-1ca1-4b7d-a8d3-68584975adae\" xlink:type=\"simple\"><rect fill=\"#FFFFFF\" height=\"45.9375\" id=\"E7\" style=\"stroke: #383838; stroke-width: 1.5;\" width=\"66\" x=\"56\" y=\"154\"/><text fill=\"#000000\" font-family=\"sans-serif\" font-size=\"12\" font-style=\"italic\" lengthAdjust=\"spacingAndGlyphs\" textLength=\"64\" x=\"57\" y=\"170.1387\">«part def»</text><text fill=\"#000000\" font-family=\"sans-serif\" font-size=\"12\" lengthAdjust=\"spacingAndGlyphs\" textLength=\"8\" x=\"85\" y=\"184.1074\">B</text><line style=\"stroke: #383838; stroke-width: 1.5;\" x1=\"57\" x2=\"121\" y1=\"191.9375\" y2=\"191.9375\"/></a><!--MD5=[e9be52314489bd878ff4c7144b63c9e1]\n",
       "link E5 to E3--><a href=\"psysml:e8148481-e1af-4d30-a20f-345018eb1da9\" target=\"_top\" title=\"psysml:e8148481-e1af-4d30-a20f-345018eb1da9\" xlink:actuate=\"onRequest\" xlink:href=\"psysml:e8148481-e1af-4d30-a20f-345018eb1da9\" xlink:show=\"new\" xlink:title=\"psysml:e8148481-e1af-4d30-a20f-345018eb1da9\" xlink:type=\"simple\"><path d=\"M211,90.51 C211,102.89 211,118.78 211,133.48 \" fill=\"none\" id=\"E5-&gt;E3\" style=\"stroke: #383838; stroke-width: 1.0;\"/><polygon fill=\"#FFFFFF\" points=\"211,153.65,204,134.65,218,134.65,211,153.65\" style=\"stroke: #383838; stroke-width: 1.0;\"/><ellipse cx=\"206\" cy=\"128.95\" fill=\"#383838\" rx=\"2\" ry=\"2\" style=\"stroke: #383838; stroke-width: 1.0;\"/><ellipse cx=\"216\" cy=\"128.95\" fill=\"#383838\" rx=\"2\" ry=\"2\" style=\"stroke: #383838; stroke-width: 1.0;\"/></a><!--MD5=[bfa3c8b0d15052fdf50ae9310b491027]\n",
       "link E8 to E7--><a href=\"psysml:88eb6ab6-f030-4136-96c6-6d1b75343c8c\" target=\"_top\" title=\"psysml:88eb6ab6-f030-4136-96c6-6d1b75343c8c\" xlink:actuate=\"onRequest\" xlink:href=\"psysml:88eb6ab6-f030-4136-96c6-6d1b75343c8c\" xlink:show=\"new\" xlink:title=\"psysml:88eb6ab6-f030-4136-96c6-6d1b75343c8c\" xlink:type=\"simple\"><path d=\"M120.01,90.51 C115.39,103.25 109.42,119.7 103.96,134.76 \" fill=\"none\" id=\"E8-&gt;E7\" style=\"stroke: #383838; stroke-width: 1.0;\"/><polygon fill=\"#FFFFFF\" points=\"97.11,153.65,97.0036,133.4018,110.1656,138.1726,97.11,153.65\" style=\"stroke: #383838; stroke-width: 1.0;\"/><ellipse cx=\"100.8262\" cy=\"128.7245\" fill=\"#383838\" rx=\"2\" ry=\"2\" style=\"stroke: #383838; stroke-width: 1.0;\"/><ellipse cx=\"110.2277\" cy=\"132.1322\" fill=\"#383838\" rx=\"2\" ry=\"2\" style=\"stroke: #383838; stroke-width: 1.0;\"/></a><!--MD5=[4383ea91fe62e06c8bbe2c53159cccab]\n",
       "@startuml\r\n",
       "skinparam monochrome true\r\n",
       "skinparam classbackgroundcolor white\r\n",
       "skinparam shadowing false\r\n",
       "skinparam wrapWidth 300\r\n",
       "hide circle\r\n",
       "\r\n",
       "package \"PrivateImportTest\" as E1  [[psysml:a19fc987-58b9-4365-8e05-8e082939198f ]]  {\r\n",
       "package \"P1\" as E2  [[psysml:0afae52f-013a-41db-84e1-dbe02c327088 ]]  {\r\n",
       "comp def \"A\" as E3  <<(T,blue)part def>> [[psysml:414aecf4-cab0-4d0d-b5e9-0bd22012706a ]] {\r\n",
       "}\r\n",
       "}\r\n",
       "package \"P2\" as E4  [[psysml:e62181a2-aa41-44c6-a86b-ee96628d0c50 ]]  {\r\n",
       "}\r\n",
       "comp usage \"x: A\" as E5  <<(T,blue)part>> [[psysml:0adc1dcd-eba4-4b19-b824-866ee03ed7de ]] {\r\n",
       "}\r\n",
       "package \"P3\" as E6  [[psysml:1d9d662c-22cb-416c-b8ab-bb9944386c4a ]]  {\r\n",
       "comp def \"B\" as E7  <<(T,blue)part def>> [[psysml:f619ebc7-1ca1-4b7d-a8d3-68584975adae ]] {\r\n",
       "}\r\n",
       "E5 - -:|> E3 [[psysml:e8148481-e1af-4d30-a20f-345018eb1da9 ]] \r\n",
       "}\r\n",
       "comp usage \"z: B\" as E8  <<(T,blue)part>> [[psysml:b076f02a-ad00-46e0-858a-3e2f54feec2a ]] {\r\n",
       "}\r\n",
       "E8 - -:|> E7 [[psysml:88eb6ab6-f030-4136-96c6-6d1b75343c8c ]] \r\n",
       "}\r\n",
       "@enduml\r\n",
       "\n",
       "PlantUML version 1.2020.13(Sat Jun 13 12:26:38 UTC 2020)\n",
       "(EPL source distribution)\n",
       "Java Runtime: OpenJDK Runtime Environment\n",
       "JVM: OpenJDK 64-Bit Server VM\n",
       "Default Encoding: UTF-8\n",
       "Language: en\n",
       "Country: null\n",
       "--></g></svg>"
      ]
     },
     "execution_count": 37,
     "metadata": {},
     "output_type": "execute_result"
    }
   ],
   "source": [
    "%viz --style=\"DEFAULT\" --view=\"Default\" \"PrivateImportTest\""
   ]
  },
  {
   "cell_type": "code",
   "execution_count": 38,
   "id": "bacterial-statistics",
   "metadata": {
    "execution": {
     "iopub.execute_input": "2021-03-25T09:26:41.653330Z",
     "iopub.status.busy": "2021-03-25T09:26:41.652912Z",
     "iopub.status.idle": "2021-03-25T09:26:41.720728Z",
     "shell.execute_reply": "2021-03-25T09:26:41.720312Z"
    }
   },
   "outputs": [
    {
     "data": {
      "image/svg+xml": [
       "<?xml version=\"1.0\" encoding=\"UTF-8\" standalone=\"no\"?><svg xmlns=\"http://www.w3.org/2000/svg\" xmlns:xlink=\"http://www.w3.org/1999/xlink\" contentScriptType=\"application/ecmascript\" contentStyleType=\"text/css\" height=\"252px\" preserveAspectRatio=\"none\" style=\"width:306px;height:252px;\" version=\"1.1\" viewBox=\"0 0 306 252\" width=\"306px\" zoomAndPan=\"magnify\"><defs/><g><!--MD5=[fbc87193dbaf4d95561dea2c320d4a47]\n",
       "cluster E1--><a href=\"psysml:a19fc987-58b9-4365-8e05-8e082939198f\" target=\"_top\" title=\"psysml:a19fc987-58b9-4365-8e05-8e082939198f\" xlink:actuate=\"onRequest\" xlink:href=\"psysml:a19fc987-58b9-4365-8e05-8e082939198f\" xlink:show=\"new\" xlink:title=\"psysml:a19fc987-58b9-4365-8e05-8e082939198f\" xlink:type=\"simple\"><polygon fill=\"#FFFFFF\" points=\"16,6,163,6,170,28.2969,284,28.2969,284,240,16,240,16,6\" style=\"stroke: #000000; stroke-width: 1.5;\"/><line style=\"stroke: #000000; stroke-width: 1.5;\" x1=\"16\" x2=\"170\" y1=\"28.2969\" y2=\"28.2969\"/><text fill=\"#000000\" font-family=\"sans-serif\" font-size=\"14\" font-weight=\"bold\" lengthAdjust=\"spacingAndGlyphs\" textLength=\"141\" x=\"20\" y=\"20.9951\">PrivateImportTest</text></a><!--MD5=[e4f7fae6ed58524ba242bb0b0d3be6b7]\n",
       "cluster E2--><a href=\"psysml:0afae52f-013a-41db-84e1-dbe02c327088\" target=\"_top\" title=\"psysml:0afae52f-013a-41db-84e1-dbe02c327088\" xlink:actuate=\"onRequest\" xlink:href=\"psysml:0afae52f-013a-41db-84e1-dbe02c327088\" xlink:show=\"new\" xlink:title=\"psysml:0afae52f-013a-41db-84e1-dbe02c327088\" xlink:type=\"simple\"><polygon fill=\"#FFFFFF\" points=\"162,119,188,119,195,141.2969,260,141.2969,260,216,162,216,162,119\" style=\"stroke: #000000; stroke-width: 1.5;\"/><line style=\"stroke: #000000; stroke-width: 1.5;\" x1=\"162\" x2=\"195\" y1=\"141.2969\" y2=\"141.2969\"/><text fill=\"#000000\" font-family=\"sans-serif\" font-size=\"14\" font-weight=\"bold\" lengthAdjust=\"spacingAndGlyphs\" textLength=\"20\" x=\"166\" y=\"133.9951\">P1</text></a><!--MD5=[14e3b0961a2654348d326746436168a1]\n",
       "cluster E6--><a href=\"psysml:1d9d662c-22cb-416c-b8ab-bb9944386c4a\" target=\"_top\" title=\"psysml:1d9d662c-22cb-416c-b8ab-bb9944386c4a\" xlink:actuate=\"onRequest\" xlink:href=\"psysml:1d9d662c-22cb-416c-b8ab-bb9944386c4a\" xlink:show=\"new\" xlink:title=\"psysml:1d9d662c-22cb-416c-b8ab-bb9944386c4a\" xlink:type=\"simple\"><polygon fill=\"#FFFFFF\" points=\"40,119,66,119,73,141.2969,138,141.2969,138,216,40,216,40,119\" style=\"stroke: #000000; stroke-width: 1.5;\"/><line style=\"stroke: #000000; stroke-width: 1.5;\" x1=\"40\" x2=\"73\" y1=\"141.2969\" y2=\"141.2969\"/><text fill=\"#000000\" font-family=\"sans-serif\" font-size=\"14\" font-weight=\"bold\" lengthAdjust=\"spacingAndGlyphs\" textLength=\"20\" x=\"44\" y=\"133.9951\">P3</text></a><!--MD5=[270fce915f116d4de14055a7c1d9a0f3]\n",
       "class E5--><a href=\"psysml:0adc1dcd-eba4-4b19-b824-866ee03ed7de\" target=\"_top\" title=\"psysml:0adc1dcd-eba4-4b19-b824-866ee03ed7de\" xlink:actuate=\"onRequest\" xlink:href=\"psysml:0adc1dcd-eba4-4b19-b824-866ee03ed7de\" xlink:show=\"new\" xlink:title=\"psysml:0adc1dcd-eba4-4b19-b824-866ee03ed7de\" xlink:type=\"simple\"><rect fill=\"#FFFFFF\" height=\"45.9375\" id=\"E5\" rx=\"10\" ry=\"10\" style=\"stroke: #383838; stroke-width: 1.5;\" width=\"42\" x=\"190\" y=\"44.5\"/><text fill=\"#000000\" font-family=\"sans-serif\" font-size=\"12\" font-style=\"italic\" lengthAdjust=\"spacingAndGlyphs\" textLength=\"40\" x=\"191\" y=\"60.6387\">«part»</text><text fill=\"#000000\" font-family=\"sans-serif\" font-size=\"12\" lengthAdjust=\"spacingAndGlyphs\" textLength=\"22\" x=\"200\" y=\"74.6074\">x: A</text><line style=\"stroke: #383838; stroke-width: 1.5;\" x1=\"191\" x2=\"231\" y1=\"82.4375\" y2=\"82.4375\"/></a><!--MD5=[b9389687b975829384b498ac4b7476b2]\n",
       "class E8--><a href=\"psysml:b076f02a-ad00-46e0-858a-3e2f54feec2a\" target=\"_top\" title=\"psysml:b076f02a-ad00-46e0-858a-3e2f54feec2a\" xlink:actuate=\"onRequest\" xlink:href=\"psysml:b076f02a-ad00-46e0-858a-3e2f54feec2a\" xlink:show=\"new\" xlink:title=\"psysml:b076f02a-ad00-46e0-858a-3e2f54feec2a\" xlink:type=\"simple\"><rect fill=\"#FFFFFF\" height=\"45.9375\" id=\"E8\" rx=\"10\" ry=\"10\" style=\"stroke: #383838; stroke-width: 1.5;\" width=\"42\" x=\"107\" y=\"44.5\"/><text fill=\"#000000\" font-family=\"sans-serif\" font-size=\"12\" font-style=\"italic\" lengthAdjust=\"spacingAndGlyphs\" textLength=\"40\" x=\"108\" y=\"60.6387\">«part»</text><text fill=\"#000000\" font-family=\"sans-serif\" font-size=\"12\" lengthAdjust=\"spacingAndGlyphs\" textLength=\"21\" x=\"117.5\" y=\"74.6074\">z: B</text><line style=\"stroke: #383838; stroke-width: 1.5;\" x1=\"108\" x2=\"148\" y1=\"82.4375\" y2=\"82.4375\"/></a><!--MD5=[09b614a08d8cba4a07c9adeb5e0fee81]\n",
       "class E3--><a href=\"psysml:414aecf4-cab0-4d0d-b5e9-0bd22012706a\" target=\"_top\" title=\"psysml:414aecf4-cab0-4d0d-b5e9-0bd22012706a\" xlink:actuate=\"onRequest\" xlink:href=\"psysml:414aecf4-cab0-4d0d-b5e9-0bd22012706a\" xlink:show=\"new\" xlink:title=\"psysml:414aecf4-cab0-4d0d-b5e9-0bd22012706a\" xlink:type=\"simple\"><rect fill=\"#FFFFFF\" height=\"45.9375\" id=\"E3\" style=\"stroke: #383838; stroke-width: 1.5;\" width=\"66\" x=\"178\" y=\"154\"/><text fill=\"#000000\" font-family=\"sans-serif\" font-size=\"12\" font-style=\"italic\" lengthAdjust=\"spacingAndGlyphs\" textLength=\"64\" x=\"179\" y=\"170.1387\">«part def»</text><text fill=\"#000000\" font-family=\"sans-serif\" font-size=\"12\" lengthAdjust=\"spacingAndGlyphs\" textLength=\"8\" x=\"207\" y=\"184.1074\">A</text><line style=\"stroke: #383838; stroke-width: 1.5;\" x1=\"179\" x2=\"243\" y1=\"191.9375\" y2=\"191.9375\"/></a><a href=\"psysml:e62181a2-aa41-44c6-a86b-ee96628d0c50\" target=\"_top\" title=\"psysml:e62181a2-aa41-44c6-a86b-ee96628d0c50\" xlink:actuate=\"onRequest\" xlink:href=\"psysml:e62181a2-aa41-44c6-a86b-ee96628d0c50\" xlink:show=\"new\" xlink:title=\"psysml:e62181a2-aa41-44c6-a86b-ee96628d0c50\" xlink:type=\"simple\"><polygon fill=\"#FFFFFF\" points=\"32,41,58,41,65,63.2969,72,63.2969,72,93.5938,32,93.5938,32,41\" style=\"stroke: #000000; stroke-width: 1.5;\"/><line style=\"stroke: #000000; stroke-width: 1.5;\" x1=\"32\" x2=\"65\" y1=\"63.2969\" y2=\"63.2969\"/><text fill=\"#000000\" font-family=\"sans-serif\" font-size=\"14\" font-weight=\"bold\" lengthAdjust=\"spacingAndGlyphs\" textLength=\"20\" x=\"36\" y=\"55.9951\">P2</text></a><!--MD5=[2156ba9850f5573cc1fc38a6a4b2f02b]\n",
       "class E7--><a href=\"psysml:f619ebc7-1ca1-4b7d-a8d3-68584975adae\" target=\"_top\" title=\"psysml:f619ebc7-1ca1-4b7d-a8d3-68584975adae\" xlink:actuate=\"onRequest\" xlink:href=\"psysml:f619ebc7-1ca1-4b7d-a8d3-68584975adae\" xlink:show=\"new\" xlink:title=\"psysml:f619ebc7-1ca1-4b7d-a8d3-68584975adae\" xlink:type=\"simple\"><rect fill=\"#FFFFFF\" height=\"45.9375\" id=\"E7\" style=\"stroke: #383838; stroke-width: 1.5;\" width=\"66\" x=\"56\" y=\"154\"/><text fill=\"#000000\" font-family=\"sans-serif\" font-size=\"12\" font-style=\"italic\" lengthAdjust=\"spacingAndGlyphs\" textLength=\"64\" x=\"57\" y=\"170.1387\">«part def»</text><text fill=\"#000000\" font-family=\"sans-serif\" font-size=\"12\" lengthAdjust=\"spacingAndGlyphs\" textLength=\"8\" x=\"85\" y=\"184.1074\">B</text><line style=\"stroke: #383838; stroke-width: 1.5;\" x1=\"57\" x2=\"121\" y1=\"191.9375\" y2=\"191.9375\"/></a><!--MD5=[e9be52314489bd878ff4c7144b63c9e1]\n",
       "link E5 to E3--><a href=\"psysml:e8148481-e1af-4d30-a20f-345018eb1da9\" target=\"_top\" title=\"psysml:e8148481-e1af-4d30-a20f-345018eb1da9\" xlink:actuate=\"onRequest\" xlink:href=\"psysml:e8148481-e1af-4d30-a20f-345018eb1da9\" xlink:show=\"new\" xlink:title=\"psysml:e8148481-e1af-4d30-a20f-345018eb1da9\" xlink:type=\"simple\"><path d=\"M211,90.51 C211,102.89 211,118.78 211,133.48 \" fill=\"none\" id=\"E5-&gt;E3\" style=\"stroke: #383838; stroke-width: 1.0;\"/><polygon fill=\"#FFFFFF\" points=\"211,153.65,204,134.65,218,134.65,211,153.65\" style=\"stroke: #383838; stroke-width: 1.0;\"/><ellipse cx=\"206\" cy=\"128.95\" fill=\"#383838\" rx=\"2\" ry=\"2\" style=\"stroke: #383838; stroke-width: 1.0;\"/><ellipse cx=\"216\" cy=\"128.95\" fill=\"#383838\" rx=\"2\" ry=\"2\" style=\"stroke: #383838; stroke-width: 1.0;\"/></a><!--MD5=[bfa3c8b0d15052fdf50ae9310b491027]\n",
       "link E8 to E7--><a href=\"psysml:88eb6ab6-f030-4136-96c6-6d1b75343c8c\" target=\"_top\" title=\"psysml:88eb6ab6-f030-4136-96c6-6d1b75343c8c\" xlink:actuate=\"onRequest\" xlink:href=\"psysml:88eb6ab6-f030-4136-96c6-6d1b75343c8c\" xlink:show=\"new\" xlink:title=\"psysml:88eb6ab6-f030-4136-96c6-6d1b75343c8c\" xlink:type=\"simple\"><path d=\"M120.01,90.51 C115.39,103.25 109.42,119.7 103.96,134.76 \" fill=\"none\" id=\"E8-&gt;E7\" style=\"stroke: #383838; stroke-width: 1.0;\"/><polygon fill=\"#FFFFFF\" points=\"97.11,153.65,97.0036,133.4018,110.1656,138.1726,97.11,153.65\" style=\"stroke: #383838; stroke-width: 1.0;\"/><ellipse cx=\"100.8262\" cy=\"128.7245\" fill=\"#383838\" rx=\"2\" ry=\"2\" style=\"stroke: #383838; stroke-width: 1.0;\"/><ellipse cx=\"110.2277\" cy=\"132.1322\" fill=\"#383838\" rx=\"2\" ry=\"2\" style=\"stroke: #383838; stroke-width: 1.0;\"/></a><!--MD5=[4383ea91fe62e06c8bbe2c53159cccab]\n",
       "@startuml\r\n",
       "skinparam monochrome true\r\n",
       "skinparam classbackgroundcolor white\r\n",
       "skinparam shadowing false\r\n",
       "skinparam wrapWidth 300\r\n",
       "hide circle\r\n",
       "\r\n",
       "package \"PrivateImportTest\" as E1  [[psysml:a19fc987-58b9-4365-8e05-8e082939198f ]]  {\r\n",
       "package \"P1\" as E2  [[psysml:0afae52f-013a-41db-84e1-dbe02c327088 ]]  {\r\n",
       "comp def \"A\" as E3  <<(T,blue)part def>> [[psysml:414aecf4-cab0-4d0d-b5e9-0bd22012706a ]] {\r\n",
       "}\r\n",
       "}\r\n",
       "package \"P2\" as E4  [[psysml:e62181a2-aa41-44c6-a86b-ee96628d0c50 ]]  {\r\n",
       "}\r\n",
       "comp usage \"x: A\" as E5  <<(T,blue)part>> [[psysml:0adc1dcd-eba4-4b19-b824-866ee03ed7de ]] {\r\n",
       "}\r\n",
       "package \"P3\" as E6  [[psysml:1d9d662c-22cb-416c-b8ab-bb9944386c4a ]]  {\r\n",
       "comp def \"B\" as E7  <<(T,blue)part def>> [[psysml:f619ebc7-1ca1-4b7d-a8d3-68584975adae ]] {\r\n",
       "}\r\n",
       "E5 - -:|> E3 [[psysml:e8148481-e1af-4d30-a20f-345018eb1da9 ]] \r\n",
       "}\r\n",
       "comp usage \"z: B\" as E8  <<(T,blue)part>> [[psysml:b076f02a-ad00-46e0-858a-3e2f54feec2a ]] {\r\n",
       "}\r\n",
       "E8 - -:|> E7 [[psysml:88eb6ab6-f030-4136-96c6-6d1b75343c8c ]] \r\n",
       "}\r\n",
       "@enduml\r\n",
       "\n",
       "PlantUML version 1.2020.13(Sat Jun 13 12:26:38 UTC 2020)\n",
       "(EPL source distribution)\n",
       "Java Runtime: OpenJDK Runtime Environment\n",
       "JVM: OpenJDK 64-Bit Server VM\n",
       "Default Encoding: UTF-8\n",
       "Language: en\n",
       "Country: null\n",
       "--></g></svg>"
      ]
     },
     "execution_count": 38,
     "metadata": {},
     "output_type": "execute_result"
    }
   ],
   "source": [
    "%viz --style=\"DEFAULT\" --view=\"Tree\" \"PrivateImportTest\""
   ]
  },
  {
   "cell_type": "code",
   "execution_count": 39,
   "id": "legal-brooks",
   "metadata": {
    "execution": {
     "iopub.execute_input": "2021-03-25T09:26:41.771033Z",
     "iopub.status.busy": "2021-03-25T09:26:41.770635Z",
     "iopub.status.idle": "2021-03-25T09:26:41.777297Z",
     "shell.execute_reply": "2021-03-25T09:26:41.777720Z"
    }
   },
   "outputs": [
    {
     "data": {
      "image/svg+xml": [
       "<?xml version=\"1.0\" encoding=\"UTF-8\" standalone=\"no\"?><svg xmlns=\"http://www.w3.org/2000/svg\" xmlns:xlink=\"http://www.w3.org/1999/xlink\" contentScriptType=\"application/ecmascript\" contentStyleType=\"text/css\" height=\"12px\" preserveAspectRatio=\"none\" style=\"width:12px;height:12px;\" version=\"1.1\" viewBox=\"0 0 12 12\" width=\"12px\" zoomAndPan=\"magnify\"><defs/><g><!--MD5=[c5f280e076d0d61ccf4b0f27871bda1d]\n",
       "@startuml\r\n",
       "skinparam monochrome true\r\n",
       "skinparam classbackgroundcolor white\r\n",
       "skinparam shadowing false\r\n",
       "skinparam wrapWidth 300\r\n",
       "hide circle\r\n",
       "\r\n",
       "@enduml\r\n",
       "\n",
       "PlantUML version 1.2020.13(Sat Jun 13 12:26:38 UTC 2020)\n",
       "(EPL source distribution)\n",
       "Java Runtime: OpenJDK Runtime Environment\n",
       "JVM: OpenJDK 64-Bit Server VM\n",
       "Default Encoding: UTF-8\n",
       "Language: en\n",
       "Country: null\n",
       "--></g></svg>"
      ]
     },
     "execution_count": 39,
     "metadata": {},
     "output_type": "execute_result"
    }
   ],
   "source": [
    "%viz --style=\"DEFAULT\" --view=\"State\" \"PrivateImportTest\""
   ]
  },
  {
   "cell_type": "code",
   "execution_count": 40,
   "id": "right-grain",
   "metadata": {
    "execution": {
     "iopub.execute_input": "2021-03-25T09:26:41.828282Z",
     "iopub.status.busy": "2021-03-25T09:26:41.827645Z",
     "iopub.status.idle": "2021-03-25T09:26:41.889341Z",
     "shell.execute_reply": "2021-03-25T09:26:41.888937Z"
    }
   },
   "outputs": [
    {
     "data": {
      "image/svg+xml": [
       "<?xml version=\"1.0\" encoding=\"UTF-8\" standalone=\"no\"?><svg xmlns=\"http://www.w3.org/2000/svg\" xmlns:xlink=\"http://www.w3.org/1999/xlink\" contentScriptType=\"application/ecmascript\" contentStyleType=\"text/css\" height=\"179px\" preserveAspectRatio=\"none\" style=\"width:539px;height:179px;\" version=\"1.1\" viewBox=\"0 0 539 179\" width=\"539px\" zoomAndPan=\"magnify\"><defs/><g><!--MD5=[fbc87193dbaf4d95561dea2c320d4a47]\n",
       "cluster E1--><a href=\"psysml:a19fc987-58b9-4365-8e05-8e082939198f\" target=\"_top\" title=\"psysml:a19fc987-58b9-4365-8e05-8e082939198f\" xlink:actuate=\"onRequest\" xlink:href=\"psysml:a19fc987-58b9-4365-8e05-8e082939198f\" xlink:show=\"new\" xlink:title=\"psysml:a19fc987-58b9-4365-8e05-8e082939198f\" xlink:type=\"simple\"><polygon fill=\"#FFFFFF\" points=\"16,6,163,6,170,28.2969,517,28.2969,517,167,16,167,16,6\" style=\"stroke: #000000; stroke-width: 1.5;\"/><line style=\"stroke: #000000; stroke-width: 1.5;\" x1=\"16\" x2=\"170\" y1=\"28.2969\" y2=\"28.2969\"/><text fill=\"#000000\" font-family=\"sans-serif\" font-size=\"14\" font-weight=\"bold\" lengthAdjust=\"spacingAndGlyphs\" textLength=\"141\" x=\"20\" y=\"20.9951\">PrivateImportTest</text></a><!--MD5=[e4f7fae6ed58524ba242bb0b0d3be6b7]\n",
       "cluster E2--><a href=\"psysml:0afae52f-013a-41db-84e1-dbe02c327088\" target=\"_top\" title=\"psysml:0afae52f-013a-41db-84e1-dbe02c327088\" xlink:actuate=\"onRequest\" xlink:href=\"psysml:0afae52f-013a-41db-84e1-dbe02c327088\" xlink:show=\"new\" xlink:title=\"psysml:0afae52f-013a-41db-84e1-dbe02c327088\" xlink:type=\"simple\"><polygon fill=\"#FFFFFF\" points=\"389,49,415,49,422,71.2969,493,71.2969,493,143,389,143,389,49\" style=\"stroke: #000000; stroke-width: 1.5;\"/><line style=\"stroke: #000000; stroke-width: 1.5;\" x1=\"389\" x2=\"422\" y1=\"71.2969\" y2=\"71.2969\"/><text fill=\"#000000\" font-family=\"sans-serif\" font-size=\"14\" font-weight=\"bold\" lengthAdjust=\"spacingAndGlyphs\" textLength=\"20\" x=\"393\" y=\"63.9951\">P1</text></a><!--MD5=[14e3b0961a2654348d326746436168a1]\n",
       "cluster E6--><a href=\"psysml:1d9d662c-22cb-416c-b8ab-bb9944386c4a\" target=\"_top\" title=\"psysml:1d9d662c-22cb-416c-b8ab-bb9944386c4a\" xlink:actuate=\"onRequest\" xlink:href=\"psysml:1d9d662c-22cb-416c-b8ab-bb9944386c4a\" xlink:show=\"new\" xlink:title=\"psysml:1d9d662c-22cb-416c-b8ab-bb9944386c4a\" xlink:type=\"simple\"><polygon fill=\"#FFFFFF\" points=\"261,49,287,49,294,71.2969,365,71.2969,365,143,261,143,261,49\" style=\"stroke: #000000; stroke-width: 1.5;\"/><line style=\"stroke: #000000; stroke-width: 1.5;\" x1=\"261\" x2=\"294\" y1=\"71.2969\" y2=\"71.2969\"/><text fill=\"#000000\" font-family=\"sans-serif\" font-size=\"14\" font-weight=\"bold\" lengthAdjust=\"spacingAndGlyphs\" textLength=\"20\" x=\"265\" y=\"63.9951\">P3</text></a><g id=\"E1.E2.E3\"><a href=\"psysml:414aecf4-cab0-4d0d-b5e9-0bd22012706a\" target=\"_top\" title=\"psysml:414aecf4-cab0-4d0d-b5e9-0bd22012706a\" xlink:actuate=\"onRequest\" xlink:href=\"psysml:414aecf4-cab0-4d0d-b5e9-0bd22012706a\" xlink:show=\"new\" xlink:title=\"psysml:414aecf4-cab0-4d0d-b5e9-0bd22012706a\" xlink:type=\"simple\"><rect fill=\"#FFFFFF\" height=\"42.9375\" id=\"E3\" style=\"stroke: #383838; stroke-width: 1.5;\" width=\"71\" x=\"405.5\" y=\"84\"/><rect fill=\"#F8F8F8\" height=\"37.9375\" style=\"stroke: #383838; stroke-width: 1.5;\" width=\"71\" x=\"405.5\" y=\"84\"/><text fill=\"#000000\" font-family=\"sans-serif\" font-size=\"12\" font-style=\"italic\" lengthAdjust=\"spacingAndGlyphs\" textLength=\"64\" x=\"409\" y=\"100.1387\">«part def»</text><text fill=\"#000000\" font-family=\"sans-serif\" font-size=\"12\" lengthAdjust=\"spacingAndGlyphs\" textLength=\"8\" x=\"437\" y=\"114.1074\">A</text></a></g><a href=\"psysml:e62181a2-aa41-44c6-a86b-ee96628d0c50\" target=\"_top\" title=\"psysml:e62181a2-aa41-44c6-a86b-ee96628d0c50\" xlink:actuate=\"onRequest\" xlink:href=\"psysml:e62181a2-aa41-44c6-a86b-ee96628d0c50\" xlink:show=\"new\" xlink:title=\"psysml:e62181a2-aa41-44c6-a86b-ee96628d0c50\" xlink:type=\"simple\"><polygon fill=\"#FFFFFF\" points=\"202,79,228,79,235,101.2969,242,101.2969,242,131.5938,202,131.5938,202,79\" style=\"stroke: #000000; stroke-width: 1.5;\"/><line style=\"stroke: #000000; stroke-width: 1.5;\" x1=\"202\" x2=\"235\" y1=\"101.2969\" y2=\"101.2969\"/><text fill=\"#000000\" font-family=\"sans-serif\" font-size=\"14\" font-weight=\"bold\" lengthAdjust=\"spacingAndGlyphs\" textLength=\"20\" x=\"206\" y=\"93.9951\">P2</text></a><g id=\"E1.E5\"><a href=\"psysml:0adc1dcd-eba4-4b19-b824-866ee03ed7de\" target=\"_top\" title=\"psysml:0adc1dcd-eba4-4b19-b824-866ee03ed7de\" xlink:actuate=\"onRequest\" xlink:href=\"psysml:0adc1dcd-eba4-4b19-b824-866ee03ed7de\" xlink:show=\"new\" xlink:title=\"psysml:0adc1dcd-eba4-4b19-b824-866ee03ed7de\" xlink:type=\"simple\"><rect fill=\"#FFFFFF\" height=\"40\" id=\"E5\" rx=\"10\" ry=\"10\" style=\"stroke: #383838; stroke-width: 1.5;\" width=\"50\" x=\"117\" y=\"85.5\"/><rect fill=\"#F8F8F8\" height=\"23.9688\" rx=\"10\" ry=\"10\" style=\"stroke: #F8F8F8; stroke-width: 1.5;\" width=\"50\" x=\"117\" y=\"85.5\"/><rect fill=\"#F8F8F8\" height=\"10\" style=\"stroke: #F8F8F8; stroke-width: 1.5;\" width=\"50\" x=\"117\" y=\"99.4688\"/><rect fill=\"none\" height=\"40\" id=\"E5\" rx=\"10\" ry=\"10\" style=\"stroke: #383838; stroke-width: 1.5;\" width=\"50\" x=\"117\" y=\"85.5\"/><text fill=\"#000000\" font-family=\"sans-serif\" font-size=\"12\" lengthAdjust=\"spacingAndGlyphs\" textLength=\"22\" x=\"131\" y=\"101.6387\">x: A</text></a></g><g id=\"E1.E6.E7\"><a href=\"psysml:f619ebc7-1ca1-4b7d-a8d3-68584975adae\" target=\"_top\" title=\"psysml:f619ebc7-1ca1-4b7d-a8d3-68584975adae\" xlink:actuate=\"onRequest\" xlink:href=\"psysml:f619ebc7-1ca1-4b7d-a8d3-68584975adae\" xlink:show=\"new\" xlink:title=\"psysml:f619ebc7-1ca1-4b7d-a8d3-68584975adae\" xlink:type=\"simple\"><rect fill=\"#FFFFFF\" height=\"42.9375\" id=\"E7\" style=\"stroke: #383838; stroke-width: 1.5;\" width=\"71\" x=\"277.5\" y=\"84\"/><rect fill=\"#F8F8F8\" height=\"37.9375\" style=\"stroke: #383838; stroke-width: 1.5;\" width=\"71\" x=\"277.5\" y=\"84\"/><text fill=\"#000000\" font-family=\"sans-serif\" font-size=\"12\" font-style=\"italic\" lengthAdjust=\"spacingAndGlyphs\" textLength=\"64\" x=\"281\" y=\"100.1387\">«part def»</text><text fill=\"#000000\" font-family=\"sans-serif\" font-size=\"12\" lengthAdjust=\"spacingAndGlyphs\" textLength=\"8\" x=\"309\" y=\"114.1074\">B</text></a></g><g id=\"E1.E8\"><a href=\"psysml:b076f02a-ad00-46e0-858a-3e2f54feec2a\" target=\"_top\" title=\"psysml:b076f02a-ad00-46e0-858a-3e2f54feec2a\" xlink:actuate=\"onRequest\" xlink:href=\"psysml:b076f02a-ad00-46e0-858a-3e2f54feec2a\" xlink:show=\"new\" xlink:title=\"psysml:b076f02a-ad00-46e0-858a-3e2f54feec2a\" xlink:type=\"simple\"><rect fill=\"#FFFFFF\" height=\"40\" id=\"E8\" rx=\"10\" ry=\"10\" style=\"stroke: #383838; stroke-width: 1.5;\" width=\"50\" x=\"32\" y=\"85.5\"/><rect fill=\"#F8F8F8\" height=\"23.9688\" rx=\"10\" ry=\"10\" style=\"stroke: #F8F8F8; stroke-width: 1.5;\" width=\"50\" x=\"32\" y=\"85.5\"/><rect fill=\"#F8F8F8\" height=\"10\" style=\"stroke: #F8F8F8; stroke-width: 1.5;\" width=\"50\" x=\"32\" y=\"99.4688\"/><rect fill=\"none\" height=\"40\" id=\"E8\" rx=\"10\" ry=\"10\" style=\"stroke: #383838; stroke-width: 1.5;\" width=\"50\" x=\"32\" y=\"85.5\"/><text fill=\"#000000\" font-family=\"sans-serif\" font-size=\"12\" lengthAdjust=\"spacingAndGlyphs\" textLength=\"21\" x=\"46.5\" y=\"101.6387\">z: B</text></a></g><!--MD5=[36f3686fa8f37d4d8954593b277f20b8]\n",
       "@startuml\r\n",
       "skinparam ranksep 8\r\n",
       "skinparam rectangle {\r\n",
       " backgroundColor<<block>> LightGreen\r\n",
       "}\r\n",
       "skinparam monochrome true\r\n",
       "skinparam classbackgroundcolor white\r\n",
       "skinparam shadowing false\r\n",
       "skinparam wrapWidth 300\r\n",
       "hide circle\r\n",
       "\r\n",
       "package \"PrivateImportTest\" as E1  [[psysml:a19fc987-58b9-4365-8e05-8e082939198f ]]  {\r\n",
       "package \"P1\" as E2  [[psysml:0afae52f-013a-41db-84e1-dbe02c327088 ]]  {\r\n",
       "rec def \"A\" as E3  <<(T,blue)part def>> [[psysml:414aecf4-cab0-4d0d-b5e9-0bd22012706a ]] {\r\n",
       "}\r\n",
       "}\r\n",
       "package \"P2\" as E4  [[psysml:e62181a2-aa41-44c6-a86b-ee96628d0c50 ]]  {\r\n",
       "}\r\n",
       "rec usage \"x: A\" as E5  [[psysml:0adc1dcd-eba4-4b19-b824-866ee03ed7de ]] {\r\n",
       "}\r\n",
       "package \"P3\" as E6  [[psysml:1d9d662c-22cb-416c-b8ab-bb9944386c4a ]]  {\r\n",
       "rec def \"B\" as E7  <<(T,blue)part def>> [[psysml:f619ebc7-1ca1-4b7d-a8d3-68584975adae ]] {\r\n",
       "}\r\n",
       "}\r\n",
       "rec usage \"z: B\" as E8  [[psysml:b076f02a-ad00-46e0-858a-3e2f54feec2a ]] {\r\n",
       "}\r\n",
       "}\r\n",
       "@enduml\r\n",
       "\n",
       "PlantUML version 1.2020.13(Sat Jun 13 12:26:38 UTC 2020)\n",
       "(EPL source distribution)\n",
       "Java Runtime: OpenJDK Runtime Environment\n",
       "JVM: OpenJDK 64-Bit Server VM\n",
       "Default Encoding: UTF-8\n",
       "Language: en\n",
       "Country: null\n",
       "--></g></svg>"
      ]
     },
     "execution_count": 40,
     "metadata": {},
     "output_type": "execute_result"
    }
   ],
   "source": [
    "%viz --style=\"DEFAULT\" --view=\"Interconnection\" \"PrivateImportTest\""
   ]
  },
  {
   "cell_type": "code",
   "execution_count": 41,
   "id": "seven-smell",
   "metadata": {
    "execution": {
     "iopub.execute_input": "2021-03-25T09:26:41.939548Z",
     "iopub.status.busy": "2021-03-25T09:26:41.939089Z",
     "iopub.status.idle": "2021-03-25T09:26:41.947416Z",
     "shell.execute_reply": "2021-03-25T09:26:41.946804Z"
    }
   },
   "outputs": [
    {
     "data": {
      "image/svg+xml": [
       "<?xml version=\"1.0\" encoding=\"UTF-8\" standalone=\"no\"?><svg xmlns=\"http://www.w3.org/2000/svg\" xmlns:xlink=\"http://www.w3.org/1999/xlink\" contentScriptType=\"application/ecmascript\" contentStyleType=\"text/css\" height=\"12px\" preserveAspectRatio=\"none\" style=\"width:12px;height:12px;\" version=\"1.1\" viewBox=\"0 0 12 12\" width=\"12px\" zoomAndPan=\"magnify\"><defs/><g><!--MD5=[388f21188e31bfdd97050473b19af356]\n",
       "@startuml\r\n",
       "skinparam ranksep 8\r\n",
       "skinparam monochrome true\r\n",
       "skinparam classbackgroundcolor white\r\n",
       "skinparam shadowing false\r\n",
       "skinparam wrapWidth 300\r\n",
       "hide circle\r\n",
       "\r\n",
       "@enduml\r\n",
       "\n",
       "PlantUML version 1.2020.13(Sat Jun 13 12:26:38 UTC 2020)\n",
       "(EPL source distribution)\n",
       "Java Runtime: OpenJDK Runtime Environment\n",
       "JVM: OpenJDK 64-Bit Server VM\n",
       "Default Encoding: UTF-8\n",
       "Language: en\n",
       "Country: null\n",
       "--></g></svg>"
      ]
     },
     "execution_count": 41,
     "metadata": {},
     "output_type": "execute_result"
    }
   ],
   "source": [
    "%viz --style=\"DEFAULT\" --view=\"Action\" \"PrivateImportTest\""
   ]
  },
  {
   "cell_type": "code",
   "execution_count": 42,
   "id": "configured-albuquerque",
   "metadata": {
    "execution": {
     "iopub.execute_input": "2021-03-25T09:26:41.998453Z",
     "iopub.status.busy": "2021-03-25T09:26:41.997843Z",
     "iopub.status.idle": "2021-03-25T09:26:42.065399Z",
     "shell.execute_reply": "2021-03-25T09:26:42.062278Z"
    }
   },
   "outputs": [
    {
     "data": {
      "image/svg+xml": [
       "<?xml version=\"1.0\" encoding=\"UTF-8\" standalone=\"no\"?><svg xmlns=\"http://www.w3.org/2000/svg\" xmlns:xlink=\"http://www.w3.org/1999/xlink\" contentScriptType=\"application/ecmascript\" contentStyleType=\"text/css\" height=\"252px\" preserveAspectRatio=\"none\" style=\"width:306px;height:252px;\" version=\"1.1\" viewBox=\"0 0 306 252\" width=\"306px\" zoomAndPan=\"magnify\"><defs/><g><!--MD5=[fbc87193dbaf4d95561dea2c320d4a47]\n",
       "cluster E1--><a href=\"psysml:a19fc987-58b9-4365-8e05-8e082939198f\" target=\"_top\" title=\"psysml:a19fc987-58b9-4365-8e05-8e082939198f\" xlink:actuate=\"onRequest\" xlink:href=\"psysml:a19fc987-58b9-4365-8e05-8e082939198f\" xlink:show=\"new\" xlink:title=\"psysml:a19fc987-58b9-4365-8e05-8e082939198f\" xlink:type=\"simple\"><polygon fill=\"#FFFFFF\" points=\"16,6,163,6,170,28.2969,284,28.2969,284,240,16,240,16,6\" style=\"stroke: #000000; stroke-width: 1.5;\"/><line style=\"stroke: #000000; stroke-width: 1.5;\" x1=\"16\" x2=\"170\" y1=\"28.2969\" y2=\"28.2969\"/><text fill=\"#000000\" font-family=\"sans-serif\" font-size=\"14\" font-weight=\"bold\" lengthAdjust=\"spacingAndGlyphs\" textLength=\"141\" x=\"20\" y=\"20.9951\">PrivateImportTest</text></a><!--MD5=[e4f7fae6ed58524ba242bb0b0d3be6b7]\n",
       "cluster E2--><a href=\"psysml:0afae52f-013a-41db-84e1-dbe02c327088\" target=\"_top\" title=\"psysml:0afae52f-013a-41db-84e1-dbe02c327088\" xlink:actuate=\"onRequest\" xlink:href=\"psysml:0afae52f-013a-41db-84e1-dbe02c327088\" xlink:show=\"new\" xlink:title=\"psysml:0afae52f-013a-41db-84e1-dbe02c327088\" xlink:type=\"simple\"><polygon fill=\"#FFFFFF\" points=\"162,119,188,119,195,141.2969,260,141.2969,260,216,162,216,162,119\" style=\"stroke: #000000; stroke-width: 1.5;\"/><line style=\"stroke: #000000; stroke-width: 1.5;\" x1=\"162\" x2=\"195\" y1=\"141.2969\" y2=\"141.2969\"/><text fill=\"#000000\" font-family=\"sans-serif\" font-size=\"14\" font-weight=\"bold\" lengthAdjust=\"spacingAndGlyphs\" textLength=\"20\" x=\"166\" y=\"133.9951\">P1</text></a><!--MD5=[14e3b0961a2654348d326746436168a1]\n",
       "cluster E6--><a href=\"psysml:1d9d662c-22cb-416c-b8ab-bb9944386c4a\" target=\"_top\" title=\"psysml:1d9d662c-22cb-416c-b8ab-bb9944386c4a\" xlink:actuate=\"onRequest\" xlink:href=\"psysml:1d9d662c-22cb-416c-b8ab-bb9944386c4a\" xlink:show=\"new\" xlink:title=\"psysml:1d9d662c-22cb-416c-b8ab-bb9944386c4a\" xlink:type=\"simple\"><polygon fill=\"#FFFFFF\" points=\"40,119,66,119,73,141.2969,138,141.2969,138,216,40,216,40,119\" style=\"stroke: #000000; stroke-width: 1.5;\"/><line style=\"stroke: #000000; stroke-width: 1.5;\" x1=\"40\" x2=\"73\" y1=\"141.2969\" y2=\"141.2969\"/><text fill=\"#000000\" font-family=\"sans-serif\" font-size=\"14\" font-weight=\"bold\" lengthAdjust=\"spacingAndGlyphs\" textLength=\"20\" x=\"44\" y=\"133.9951\">P3</text></a><!--MD5=[270fce915f116d4de14055a7c1d9a0f3]\n",
       "class E5--><a href=\"psysml:0adc1dcd-eba4-4b19-b824-866ee03ed7de\" target=\"_top\" title=\"psysml:0adc1dcd-eba4-4b19-b824-866ee03ed7de\" xlink:actuate=\"onRequest\" xlink:href=\"psysml:0adc1dcd-eba4-4b19-b824-866ee03ed7de\" xlink:show=\"new\" xlink:title=\"psysml:0adc1dcd-eba4-4b19-b824-866ee03ed7de\" xlink:type=\"simple\"><rect fill=\"#FFFFFF\" height=\"45.9375\" id=\"E5\" rx=\"10\" ry=\"10\" style=\"stroke: #383838; stroke-width: 1.5;\" width=\"42\" x=\"190\" y=\"44.5\"/><text fill=\"#000000\" font-family=\"sans-serif\" font-size=\"12\" font-style=\"italic\" lengthAdjust=\"spacingAndGlyphs\" textLength=\"40\" x=\"191\" y=\"60.6387\">«part»</text><text fill=\"#000000\" font-family=\"sans-serif\" font-size=\"12\" lengthAdjust=\"spacingAndGlyphs\" textLength=\"22\" x=\"200\" y=\"74.6074\">x: A</text><line style=\"stroke: #383838; stroke-width: 1.5;\" x1=\"191\" x2=\"231\" y1=\"82.4375\" y2=\"82.4375\"/></a><!--MD5=[b9389687b975829384b498ac4b7476b2]\n",
       "class E8--><a href=\"psysml:b076f02a-ad00-46e0-858a-3e2f54feec2a\" target=\"_top\" title=\"psysml:b076f02a-ad00-46e0-858a-3e2f54feec2a\" xlink:actuate=\"onRequest\" xlink:href=\"psysml:b076f02a-ad00-46e0-858a-3e2f54feec2a\" xlink:show=\"new\" xlink:title=\"psysml:b076f02a-ad00-46e0-858a-3e2f54feec2a\" xlink:type=\"simple\"><rect fill=\"#FFFFFF\" height=\"45.9375\" id=\"E8\" rx=\"10\" ry=\"10\" style=\"stroke: #383838; stroke-width: 1.5;\" width=\"42\" x=\"107\" y=\"44.5\"/><text fill=\"#000000\" font-family=\"sans-serif\" font-size=\"12\" font-style=\"italic\" lengthAdjust=\"spacingAndGlyphs\" textLength=\"40\" x=\"108\" y=\"60.6387\">«part»</text><text fill=\"#000000\" font-family=\"sans-serif\" font-size=\"12\" lengthAdjust=\"spacingAndGlyphs\" textLength=\"21\" x=\"117.5\" y=\"74.6074\">z: B</text><line style=\"stroke: #383838; stroke-width: 1.5;\" x1=\"108\" x2=\"148\" y1=\"82.4375\" y2=\"82.4375\"/></a><!--MD5=[09b614a08d8cba4a07c9adeb5e0fee81]\n",
       "class E3--><a href=\"psysml:414aecf4-cab0-4d0d-b5e9-0bd22012706a\" target=\"_top\" title=\"psysml:414aecf4-cab0-4d0d-b5e9-0bd22012706a\" xlink:actuate=\"onRequest\" xlink:href=\"psysml:414aecf4-cab0-4d0d-b5e9-0bd22012706a\" xlink:show=\"new\" xlink:title=\"psysml:414aecf4-cab0-4d0d-b5e9-0bd22012706a\" xlink:type=\"simple\"><rect fill=\"#FFFFFF\" height=\"45.9375\" id=\"E3\" style=\"stroke: #383838; stroke-width: 1.5;\" width=\"66\" x=\"178\" y=\"154\"/><text fill=\"#000000\" font-family=\"sans-serif\" font-size=\"12\" font-style=\"italic\" lengthAdjust=\"spacingAndGlyphs\" textLength=\"64\" x=\"179\" y=\"170.1387\">«part def»</text><text fill=\"#000000\" font-family=\"sans-serif\" font-size=\"12\" lengthAdjust=\"spacingAndGlyphs\" textLength=\"8\" x=\"207\" y=\"184.1074\">A</text><line style=\"stroke: #383838; stroke-width: 1.5;\" x1=\"179\" x2=\"243\" y1=\"191.9375\" y2=\"191.9375\"/></a><a href=\"psysml:e62181a2-aa41-44c6-a86b-ee96628d0c50\" target=\"_top\" title=\"psysml:e62181a2-aa41-44c6-a86b-ee96628d0c50\" xlink:actuate=\"onRequest\" xlink:href=\"psysml:e62181a2-aa41-44c6-a86b-ee96628d0c50\" xlink:show=\"new\" xlink:title=\"psysml:e62181a2-aa41-44c6-a86b-ee96628d0c50\" xlink:type=\"simple\"><polygon fill=\"#FFFFFF\" points=\"32,41,58,41,65,63.2969,72,63.2969,72,93.5938,32,93.5938,32,41\" style=\"stroke: #000000; stroke-width: 1.5;\"/><line style=\"stroke: #000000; stroke-width: 1.5;\" x1=\"32\" x2=\"65\" y1=\"63.2969\" y2=\"63.2969\"/><text fill=\"#000000\" font-family=\"sans-serif\" font-size=\"14\" font-weight=\"bold\" lengthAdjust=\"spacingAndGlyphs\" textLength=\"20\" x=\"36\" y=\"55.9951\">P2</text></a><!--MD5=[2156ba9850f5573cc1fc38a6a4b2f02b]\n",
       "class E7--><a href=\"psysml:f619ebc7-1ca1-4b7d-a8d3-68584975adae\" target=\"_top\" title=\"psysml:f619ebc7-1ca1-4b7d-a8d3-68584975adae\" xlink:actuate=\"onRequest\" xlink:href=\"psysml:f619ebc7-1ca1-4b7d-a8d3-68584975adae\" xlink:show=\"new\" xlink:title=\"psysml:f619ebc7-1ca1-4b7d-a8d3-68584975adae\" xlink:type=\"simple\"><rect fill=\"#FFFFFF\" height=\"45.9375\" id=\"E7\" style=\"stroke: #383838; stroke-width: 1.5;\" width=\"66\" x=\"56\" y=\"154\"/><text fill=\"#000000\" font-family=\"sans-serif\" font-size=\"12\" font-style=\"italic\" lengthAdjust=\"spacingAndGlyphs\" textLength=\"64\" x=\"57\" y=\"170.1387\">«part def»</text><text fill=\"#000000\" font-family=\"sans-serif\" font-size=\"12\" lengthAdjust=\"spacingAndGlyphs\" textLength=\"8\" x=\"85\" y=\"184.1074\">B</text><line style=\"stroke: #383838; stroke-width: 1.5;\" x1=\"57\" x2=\"121\" y1=\"191.9375\" y2=\"191.9375\"/></a><!--MD5=[e9be52314489bd878ff4c7144b63c9e1]\n",
       "link E5 to E3--><a href=\"psysml:e8148481-e1af-4d30-a20f-345018eb1da9\" target=\"_top\" title=\"psysml:e8148481-e1af-4d30-a20f-345018eb1da9\" xlink:actuate=\"onRequest\" xlink:href=\"psysml:e8148481-e1af-4d30-a20f-345018eb1da9\" xlink:show=\"new\" xlink:title=\"psysml:e8148481-e1af-4d30-a20f-345018eb1da9\" xlink:type=\"simple\"><path d=\"M211,90.51 C211,102.89 211,118.78 211,133.48 \" fill=\"none\" id=\"E5-&gt;E3\" style=\"stroke: #383838; stroke-width: 1.0;\"/><polygon fill=\"#FFFFFF\" points=\"211,153.65,204,134.65,218,134.65,211,153.65\" style=\"stroke: #383838; stroke-width: 1.0;\"/><ellipse cx=\"206\" cy=\"128.95\" fill=\"#383838\" rx=\"2\" ry=\"2\" style=\"stroke: #383838; stroke-width: 1.0;\"/><ellipse cx=\"216\" cy=\"128.95\" fill=\"#383838\" rx=\"2\" ry=\"2\" style=\"stroke: #383838; stroke-width: 1.0;\"/></a><!--MD5=[bfa3c8b0d15052fdf50ae9310b491027]\n",
       "link E8 to E7--><a href=\"psysml:88eb6ab6-f030-4136-96c6-6d1b75343c8c\" target=\"_top\" title=\"psysml:88eb6ab6-f030-4136-96c6-6d1b75343c8c\" xlink:actuate=\"onRequest\" xlink:href=\"psysml:88eb6ab6-f030-4136-96c6-6d1b75343c8c\" xlink:show=\"new\" xlink:title=\"psysml:88eb6ab6-f030-4136-96c6-6d1b75343c8c\" xlink:type=\"simple\"><path d=\"M120.01,90.51 C115.39,103.25 109.42,119.7 103.96,134.76 \" fill=\"none\" id=\"E8-&gt;E7\" style=\"stroke: #383838; stroke-width: 1.0;\"/><polygon fill=\"#FFFFFF\" points=\"97.11,153.65,97.0036,133.4018,110.1656,138.1726,97.11,153.65\" style=\"stroke: #383838; stroke-width: 1.0;\"/><ellipse cx=\"100.8262\" cy=\"128.7245\" fill=\"#383838\" rx=\"2\" ry=\"2\" style=\"stroke: #383838; stroke-width: 1.0;\"/><ellipse cx=\"110.2277\" cy=\"132.1322\" fill=\"#383838\" rx=\"2\" ry=\"2\" style=\"stroke: #383838; stroke-width: 1.0;\"/></a><!--MD5=[4383ea91fe62e06c8bbe2c53159cccab]\n",
       "@startuml\r\n",
       "skinparam monochrome true\r\n",
       "skinparam classbackgroundcolor white\r\n",
       "skinparam shadowing false\r\n",
       "skinparam wrapWidth 300\r\n",
       "hide circle\r\n",
       "\r\n",
       "package \"PrivateImportTest\" as E1  [[psysml:a19fc987-58b9-4365-8e05-8e082939198f ]]  {\r\n",
       "package \"P1\" as E2  [[psysml:0afae52f-013a-41db-84e1-dbe02c327088 ]]  {\r\n",
       "comp def \"A\" as E3  <<(T,blue)part def>> [[psysml:414aecf4-cab0-4d0d-b5e9-0bd22012706a ]] {\r\n",
       "}\r\n",
       "}\r\n",
       "package \"P2\" as E4  [[psysml:e62181a2-aa41-44c6-a86b-ee96628d0c50 ]]  {\r\n",
       "}\r\n",
       "comp usage \"x: A\" as E5  <<(T,blue)part>> [[psysml:0adc1dcd-eba4-4b19-b824-866ee03ed7de ]] {\r\n",
       "}\r\n",
       "package \"P3\" as E6  [[psysml:1d9d662c-22cb-416c-b8ab-bb9944386c4a ]]  {\r\n",
       "comp def \"B\" as E7  <<(T,blue)part def>> [[psysml:f619ebc7-1ca1-4b7d-a8d3-68584975adae ]] {\r\n",
       "}\r\n",
       "E5 - -:|> E3 [[psysml:e8148481-e1af-4d30-a20f-345018eb1da9 ]] \r\n",
       "}\r\n",
       "comp usage \"z: B\" as E8  <<(T,blue)part>> [[psysml:b076f02a-ad00-46e0-858a-3e2f54feec2a ]] {\r\n",
       "}\r\n",
       "E8 - -:|> E7 [[psysml:88eb6ab6-f030-4136-96c6-6d1b75343c8c ]] \r\n",
       "}\r\n",
       "@enduml\r\n",
       "\n",
       "PlantUML version 1.2020.13(Sat Jun 13 12:26:38 UTC 2020)\n",
       "(EPL source distribution)\n",
       "Java Runtime: OpenJDK Runtime Environment\n",
       "JVM: OpenJDK 64-Bit Server VM\n",
       "Default Encoding: UTF-8\n",
       "Language: en\n",
       "Country: null\n",
       "--></g></svg>"
      ]
     },
     "execution_count": 42,
     "metadata": {},
     "output_type": "execute_result"
    }
   ],
   "source": [
    "%viz --style=\"DEFAULT\" --view=\"Sequence\" \"PrivateImportTest\""
   ]
  },
  {
   "cell_type": "code",
   "execution_count": 43,
   "id": "norwegian-powell",
   "metadata": {
    "execution": {
     "iopub.execute_input": "2021-03-25T09:26:42.114677Z",
     "iopub.status.busy": "2021-03-25T09:26:42.113951Z",
     "iopub.status.idle": "2021-03-25T09:26:42.180714Z",
     "shell.execute_reply": "2021-03-25T09:26:42.178979Z"
    }
   },
   "outputs": [
    {
     "data": {
      "image/svg+xml": [
       "<?xml version=\"1.0\" encoding=\"UTF-8\" standalone=\"no\"?><svg xmlns=\"http://www.w3.org/2000/svg\" xmlns:xlink=\"http://www.w3.org/1999/xlink\" contentScriptType=\"application/ecmascript\" contentStyleType=\"text/css\" height=\"252px\" preserveAspectRatio=\"none\" style=\"width:306px;height:252px;\" version=\"1.1\" viewBox=\"0 0 306 252\" width=\"306px\" zoomAndPan=\"magnify\"><defs/><g><!--MD5=[fbc87193dbaf4d95561dea2c320d4a47]\n",
       "cluster E1--><a href=\"psysml:a19fc987-58b9-4365-8e05-8e082939198f\" target=\"_top\" title=\"psysml:a19fc987-58b9-4365-8e05-8e082939198f\" xlink:actuate=\"onRequest\" xlink:href=\"psysml:a19fc987-58b9-4365-8e05-8e082939198f\" xlink:show=\"new\" xlink:title=\"psysml:a19fc987-58b9-4365-8e05-8e082939198f\" xlink:type=\"simple\"><polygon fill=\"#FFFFFF\" points=\"16,6,163,6,170,28.2969,284,28.2969,284,240,16,240,16,6\" style=\"stroke: #000000; stroke-width: 1.5;\"/><line style=\"stroke: #000000; stroke-width: 1.5;\" x1=\"16\" x2=\"170\" y1=\"28.2969\" y2=\"28.2969\"/><text fill=\"#000000\" font-family=\"sans-serif\" font-size=\"14\" font-weight=\"bold\" lengthAdjust=\"spacingAndGlyphs\" textLength=\"141\" x=\"20\" y=\"20.9951\">PrivateImportTest</text></a><!--MD5=[e4f7fae6ed58524ba242bb0b0d3be6b7]\n",
       "cluster E2--><a href=\"psysml:0afae52f-013a-41db-84e1-dbe02c327088\" target=\"_top\" title=\"psysml:0afae52f-013a-41db-84e1-dbe02c327088\" xlink:actuate=\"onRequest\" xlink:href=\"psysml:0afae52f-013a-41db-84e1-dbe02c327088\" xlink:show=\"new\" xlink:title=\"psysml:0afae52f-013a-41db-84e1-dbe02c327088\" xlink:type=\"simple\"><polygon fill=\"#FFFFFF\" points=\"162,119,188,119,195,141.2969,260,141.2969,260,216,162,216,162,119\" style=\"stroke: #000000; stroke-width: 1.5;\"/><line style=\"stroke: #000000; stroke-width: 1.5;\" x1=\"162\" x2=\"195\" y1=\"141.2969\" y2=\"141.2969\"/><text fill=\"#000000\" font-family=\"sans-serif\" font-size=\"14\" font-weight=\"bold\" lengthAdjust=\"spacingAndGlyphs\" textLength=\"20\" x=\"166\" y=\"133.9951\">P1</text></a><!--MD5=[14e3b0961a2654348d326746436168a1]\n",
       "cluster E6--><a href=\"psysml:1d9d662c-22cb-416c-b8ab-bb9944386c4a\" target=\"_top\" title=\"psysml:1d9d662c-22cb-416c-b8ab-bb9944386c4a\" xlink:actuate=\"onRequest\" xlink:href=\"psysml:1d9d662c-22cb-416c-b8ab-bb9944386c4a\" xlink:show=\"new\" xlink:title=\"psysml:1d9d662c-22cb-416c-b8ab-bb9944386c4a\" xlink:type=\"simple\"><polygon fill=\"#FFFFFF\" points=\"40,119,66,119,73,141.2969,138,141.2969,138,216,40,216,40,119\" style=\"stroke: #000000; stroke-width: 1.5;\"/><line style=\"stroke: #000000; stroke-width: 1.5;\" x1=\"40\" x2=\"73\" y1=\"141.2969\" y2=\"141.2969\"/><text fill=\"#000000\" font-family=\"sans-serif\" font-size=\"14\" font-weight=\"bold\" lengthAdjust=\"spacingAndGlyphs\" textLength=\"20\" x=\"44\" y=\"133.9951\">P3</text></a><!--MD5=[270fce915f116d4de14055a7c1d9a0f3]\n",
       "class E5--><a href=\"psysml:0adc1dcd-eba4-4b19-b824-866ee03ed7de\" target=\"_top\" title=\"psysml:0adc1dcd-eba4-4b19-b824-866ee03ed7de\" xlink:actuate=\"onRequest\" xlink:href=\"psysml:0adc1dcd-eba4-4b19-b824-866ee03ed7de\" xlink:show=\"new\" xlink:title=\"psysml:0adc1dcd-eba4-4b19-b824-866ee03ed7de\" xlink:type=\"simple\"><rect fill=\"#FFFFFF\" height=\"45.9375\" id=\"E5\" rx=\"10\" ry=\"10\" style=\"stroke: #383838; stroke-width: 1.5;\" width=\"42\" x=\"190\" y=\"44.5\"/><text fill=\"#000000\" font-family=\"sans-serif\" font-size=\"12\" font-style=\"italic\" lengthAdjust=\"spacingAndGlyphs\" textLength=\"40\" x=\"191\" y=\"60.6387\">«part»</text><text fill=\"#000000\" font-family=\"sans-serif\" font-size=\"12\" lengthAdjust=\"spacingAndGlyphs\" textLength=\"22\" x=\"200\" y=\"74.6074\">x: A</text><line style=\"stroke: #383838; stroke-width: 1.5;\" x1=\"191\" x2=\"231\" y1=\"82.4375\" y2=\"82.4375\"/></a><!--MD5=[b9389687b975829384b498ac4b7476b2]\n",
       "class E8--><a href=\"psysml:b076f02a-ad00-46e0-858a-3e2f54feec2a\" target=\"_top\" title=\"psysml:b076f02a-ad00-46e0-858a-3e2f54feec2a\" xlink:actuate=\"onRequest\" xlink:href=\"psysml:b076f02a-ad00-46e0-858a-3e2f54feec2a\" xlink:show=\"new\" xlink:title=\"psysml:b076f02a-ad00-46e0-858a-3e2f54feec2a\" xlink:type=\"simple\"><rect fill=\"#FFFFFF\" height=\"45.9375\" id=\"E8\" rx=\"10\" ry=\"10\" style=\"stroke: #383838; stroke-width: 1.5;\" width=\"42\" x=\"107\" y=\"44.5\"/><text fill=\"#000000\" font-family=\"sans-serif\" font-size=\"12\" font-style=\"italic\" lengthAdjust=\"spacingAndGlyphs\" textLength=\"40\" x=\"108\" y=\"60.6387\">«part»</text><text fill=\"#000000\" font-family=\"sans-serif\" font-size=\"12\" lengthAdjust=\"spacingAndGlyphs\" textLength=\"21\" x=\"117.5\" y=\"74.6074\">z: B</text><line style=\"stroke: #383838; stroke-width: 1.5;\" x1=\"108\" x2=\"148\" y1=\"82.4375\" y2=\"82.4375\"/></a><!--MD5=[09b614a08d8cba4a07c9adeb5e0fee81]\n",
       "class E3--><a href=\"psysml:414aecf4-cab0-4d0d-b5e9-0bd22012706a\" target=\"_top\" title=\"psysml:414aecf4-cab0-4d0d-b5e9-0bd22012706a\" xlink:actuate=\"onRequest\" xlink:href=\"psysml:414aecf4-cab0-4d0d-b5e9-0bd22012706a\" xlink:show=\"new\" xlink:title=\"psysml:414aecf4-cab0-4d0d-b5e9-0bd22012706a\" xlink:type=\"simple\"><rect fill=\"#FFFFFF\" height=\"45.9375\" id=\"E3\" style=\"stroke: #383838; stroke-width: 1.5;\" width=\"66\" x=\"178\" y=\"154\"/><text fill=\"#000000\" font-family=\"sans-serif\" font-size=\"12\" font-style=\"italic\" lengthAdjust=\"spacingAndGlyphs\" textLength=\"64\" x=\"179\" y=\"170.1387\">«part def»</text><text fill=\"#000000\" font-family=\"sans-serif\" font-size=\"12\" lengthAdjust=\"spacingAndGlyphs\" textLength=\"8\" x=\"207\" y=\"184.1074\">A</text><line style=\"stroke: #383838; stroke-width: 1.5;\" x1=\"179\" x2=\"243\" y1=\"191.9375\" y2=\"191.9375\"/></a><a href=\"psysml:e62181a2-aa41-44c6-a86b-ee96628d0c50\" target=\"_top\" title=\"psysml:e62181a2-aa41-44c6-a86b-ee96628d0c50\" xlink:actuate=\"onRequest\" xlink:href=\"psysml:e62181a2-aa41-44c6-a86b-ee96628d0c50\" xlink:show=\"new\" xlink:title=\"psysml:e62181a2-aa41-44c6-a86b-ee96628d0c50\" xlink:type=\"simple\"><polygon fill=\"#FFFFFF\" points=\"32,41,58,41,65,63.2969,72,63.2969,72,93.5938,32,93.5938,32,41\" style=\"stroke: #000000; stroke-width: 1.5;\"/><line style=\"stroke: #000000; stroke-width: 1.5;\" x1=\"32\" x2=\"65\" y1=\"63.2969\" y2=\"63.2969\"/><text fill=\"#000000\" font-family=\"sans-serif\" font-size=\"14\" font-weight=\"bold\" lengthAdjust=\"spacingAndGlyphs\" textLength=\"20\" x=\"36\" y=\"55.9951\">P2</text></a><!--MD5=[2156ba9850f5573cc1fc38a6a4b2f02b]\n",
       "class E7--><a href=\"psysml:f619ebc7-1ca1-4b7d-a8d3-68584975adae\" target=\"_top\" title=\"psysml:f619ebc7-1ca1-4b7d-a8d3-68584975adae\" xlink:actuate=\"onRequest\" xlink:href=\"psysml:f619ebc7-1ca1-4b7d-a8d3-68584975adae\" xlink:show=\"new\" xlink:title=\"psysml:f619ebc7-1ca1-4b7d-a8d3-68584975adae\" xlink:type=\"simple\"><rect fill=\"#FFFFFF\" height=\"45.9375\" id=\"E7\" style=\"stroke: #383838; stroke-width: 1.5;\" width=\"66\" x=\"56\" y=\"154\"/><text fill=\"#000000\" font-family=\"sans-serif\" font-size=\"12\" font-style=\"italic\" lengthAdjust=\"spacingAndGlyphs\" textLength=\"64\" x=\"57\" y=\"170.1387\">«part def»</text><text fill=\"#000000\" font-family=\"sans-serif\" font-size=\"12\" lengthAdjust=\"spacingAndGlyphs\" textLength=\"8\" x=\"85\" y=\"184.1074\">B</text><line style=\"stroke: #383838; stroke-width: 1.5;\" x1=\"57\" x2=\"121\" y1=\"191.9375\" y2=\"191.9375\"/></a><!--MD5=[e9be52314489bd878ff4c7144b63c9e1]\n",
       "link E5 to E3--><a href=\"psysml:e8148481-e1af-4d30-a20f-345018eb1da9\" target=\"_top\" title=\"psysml:e8148481-e1af-4d30-a20f-345018eb1da9\" xlink:actuate=\"onRequest\" xlink:href=\"psysml:e8148481-e1af-4d30-a20f-345018eb1da9\" xlink:show=\"new\" xlink:title=\"psysml:e8148481-e1af-4d30-a20f-345018eb1da9\" xlink:type=\"simple\"><path d=\"M211,90.51 C211,102.89 211,118.78 211,133.48 \" fill=\"none\" id=\"E5-&gt;E3\" style=\"stroke: #383838; stroke-width: 1.0;\"/><polygon fill=\"#FFFFFF\" points=\"211,153.65,204,134.65,218,134.65,211,153.65\" style=\"stroke: #383838; stroke-width: 1.0;\"/><ellipse cx=\"206\" cy=\"128.95\" fill=\"#383838\" rx=\"2\" ry=\"2\" style=\"stroke: #383838; stroke-width: 1.0;\"/><ellipse cx=\"216\" cy=\"128.95\" fill=\"#383838\" rx=\"2\" ry=\"2\" style=\"stroke: #383838; stroke-width: 1.0;\"/></a><!--MD5=[bfa3c8b0d15052fdf50ae9310b491027]\n",
       "link E8 to E7--><a href=\"psysml:88eb6ab6-f030-4136-96c6-6d1b75343c8c\" target=\"_top\" title=\"psysml:88eb6ab6-f030-4136-96c6-6d1b75343c8c\" xlink:actuate=\"onRequest\" xlink:href=\"psysml:88eb6ab6-f030-4136-96c6-6d1b75343c8c\" xlink:show=\"new\" xlink:title=\"psysml:88eb6ab6-f030-4136-96c6-6d1b75343c8c\" xlink:type=\"simple\"><path d=\"M120.01,90.51 C115.39,103.25 109.42,119.7 103.96,134.76 \" fill=\"none\" id=\"E8-&gt;E7\" style=\"stroke: #383838; stroke-width: 1.0;\"/><polygon fill=\"#FFFFFF\" points=\"97.11,153.65,97.0036,133.4018,110.1656,138.1726,97.11,153.65\" style=\"stroke: #383838; stroke-width: 1.0;\"/><ellipse cx=\"100.8262\" cy=\"128.7245\" fill=\"#383838\" rx=\"2\" ry=\"2\" style=\"stroke: #383838; stroke-width: 1.0;\"/><ellipse cx=\"110.2277\" cy=\"132.1322\" fill=\"#383838\" rx=\"2\" ry=\"2\" style=\"stroke: #383838; stroke-width: 1.0;\"/></a><!--MD5=[4383ea91fe62e06c8bbe2c53159cccab]\n",
       "@startuml\r\n",
       "skinparam monochrome true\r\n",
       "skinparam classbackgroundcolor white\r\n",
       "skinparam shadowing false\r\n",
       "skinparam wrapWidth 300\r\n",
       "hide circle\r\n",
       "\r\n",
       "package \"PrivateImportTest\" as E1  [[psysml:a19fc987-58b9-4365-8e05-8e082939198f ]]  {\r\n",
       "package \"P1\" as E2  [[psysml:0afae52f-013a-41db-84e1-dbe02c327088 ]]  {\r\n",
       "comp def \"A\" as E3  <<(T,blue)part def>> [[psysml:414aecf4-cab0-4d0d-b5e9-0bd22012706a ]] {\r\n",
       "}\r\n",
       "}\r\n",
       "package \"P2\" as E4  [[psysml:e62181a2-aa41-44c6-a86b-ee96628d0c50 ]]  {\r\n",
       "}\r\n",
       "comp usage \"x: A\" as E5  <<(T,blue)part>> [[psysml:0adc1dcd-eba4-4b19-b824-866ee03ed7de ]] {\r\n",
       "}\r\n",
       "package \"P3\" as E6  [[psysml:1d9d662c-22cb-416c-b8ab-bb9944386c4a ]]  {\r\n",
       "comp def \"B\" as E7  <<(T,blue)part def>> [[psysml:f619ebc7-1ca1-4b7d-a8d3-68584975adae ]] {\r\n",
       "}\r\n",
       "E5 - -:|> E3 [[psysml:e8148481-e1af-4d30-a20f-345018eb1da9 ]] \r\n",
       "}\r\n",
       "comp usage \"z: B\" as E8  <<(T,blue)part>> [[psysml:b076f02a-ad00-46e0-858a-3e2f54feec2a ]] {\r\n",
       "}\r\n",
       "E8 - -:|> E7 [[psysml:88eb6ab6-f030-4136-96c6-6d1b75343c8c ]] \r\n",
       "}\r\n",
       "@enduml\r\n",
       "\n",
       "PlantUML version 1.2020.13(Sat Jun 13 12:26:38 UTC 2020)\n",
       "(EPL source distribution)\n",
       "Java Runtime: OpenJDK Runtime Environment\n",
       "JVM: OpenJDK 64-Bit Server VM\n",
       "Default Encoding: UTF-8\n",
       "Language: en\n",
       "Country: null\n",
       "--></g></svg>"
      ]
     },
     "execution_count": 43,
     "metadata": {},
     "output_type": "execute_result"
    }
   ],
   "source": [
    "%viz --style=\"DEFAULT\" --view=\"MIXED\" \"PrivateImportTest\""
   ]
  },
  {
   "cell_type": "code",
   "execution_count": 44,
   "id": "instructional-superior",
   "metadata": {
    "execution": {
     "iopub.execute_input": "2021-03-25T09:26:42.231367Z",
     "iopub.status.busy": "2021-03-25T09:26:42.230767Z",
     "iopub.status.idle": "2021-03-25T09:26:42.303466Z",
     "shell.execute_reply": "2021-03-25T09:26:42.301297Z"
    }
   },
   "outputs": [
    {
     "data": {
      "image/svg+xml": [
       "<?xml version=\"1.0\" encoding=\"UTF-8\" standalone=\"no\"?><svg xmlns=\"http://www.w3.org/2000/svg\" xmlns:xlink=\"http://www.w3.org/1999/xlink\" contentScriptType=\"application/ecmascript\" contentStyleType=\"text/css\" height=\"252px\" preserveAspectRatio=\"none\" style=\"width:306px;height:252px;\" version=\"1.1\" viewBox=\"0 0 306 252\" width=\"306px\" zoomAndPan=\"magnify\"><defs/><g><!--MD5=[fbc87193dbaf4d95561dea2c320d4a47]\n",
       "cluster E1--><a href=\"psysml:a19fc987-58b9-4365-8e05-8e082939198f\" target=\"_top\" title=\"psysml:a19fc987-58b9-4365-8e05-8e082939198f\" xlink:actuate=\"onRequest\" xlink:href=\"psysml:a19fc987-58b9-4365-8e05-8e082939198f\" xlink:show=\"new\" xlink:title=\"psysml:a19fc987-58b9-4365-8e05-8e082939198f\" xlink:type=\"simple\"><polygon fill=\"#FFFFFF\" points=\"16,6,163,6,170,28.2969,284,28.2969,284,240,16,240,16,6\" style=\"stroke: #000000; stroke-width: 1.5;\"/><line style=\"stroke: #000000; stroke-width: 1.5;\" x1=\"16\" x2=\"170\" y1=\"28.2969\" y2=\"28.2969\"/><text fill=\"#000000\" font-family=\"sans-serif\" font-size=\"14\" font-weight=\"bold\" lengthAdjust=\"spacingAndGlyphs\" textLength=\"141\" x=\"20\" y=\"20.9951\">PrivateImportTest</text></a><!--MD5=[e4f7fae6ed58524ba242bb0b0d3be6b7]\n",
       "cluster E2--><a href=\"psysml:0afae52f-013a-41db-84e1-dbe02c327088\" target=\"_top\" title=\"psysml:0afae52f-013a-41db-84e1-dbe02c327088\" xlink:actuate=\"onRequest\" xlink:href=\"psysml:0afae52f-013a-41db-84e1-dbe02c327088\" xlink:show=\"new\" xlink:title=\"psysml:0afae52f-013a-41db-84e1-dbe02c327088\" xlink:type=\"simple\"><polygon fill=\"#FFFFFF\" points=\"162,119,188,119,195,141.2969,260,141.2969,260,216,162,216,162,119\" style=\"stroke: #000000; stroke-width: 1.5;\"/><line style=\"stroke: #000000; stroke-width: 1.5;\" x1=\"162\" x2=\"195\" y1=\"141.2969\" y2=\"141.2969\"/><text fill=\"#000000\" font-family=\"sans-serif\" font-size=\"14\" font-weight=\"bold\" lengthAdjust=\"spacingAndGlyphs\" textLength=\"20\" x=\"166\" y=\"133.9951\">P1</text></a><!--MD5=[14e3b0961a2654348d326746436168a1]\n",
       "cluster E6--><a href=\"psysml:1d9d662c-22cb-416c-b8ab-bb9944386c4a\" target=\"_top\" title=\"psysml:1d9d662c-22cb-416c-b8ab-bb9944386c4a\" xlink:actuate=\"onRequest\" xlink:href=\"psysml:1d9d662c-22cb-416c-b8ab-bb9944386c4a\" xlink:show=\"new\" xlink:title=\"psysml:1d9d662c-22cb-416c-b8ab-bb9944386c4a\" xlink:type=\"simple\"><polygon fill=\"#FFFFFF\" points=\"40,119,66,119,73,141.2969,138,141.2969,138,216,40,216,40,119\" style=\"stroke: #000000; stroke-width: 1.5;\"/><line style=\"stroke: #000000; stroke-width: 1.5;\" x1=\"40\" x2=\"73\" y1=\"141.2969\" y2=\"141.2969\"/><text fill=\"#000000\" font-family=\"sans-serif\" font-size=\"14\" font-weight=\"bold\" lengthAdjust=\"spacingAndGlyphs\" textLength=\"20\" x=\"44\" y=\"133.9951\">P3</text></a><!--MD5=[270fce915f116d4de14055a7c1d9a0f3]\n",
       "class E5--><a href=\"psysml:0adc1dcd-eba4-4b19-b824-866ee03ed7de\" target=\"_top\" title=\"psysml:0adc1dcd-eba4-4b19-b824-866ee03ed7de\" xlink:actuate=\"onRequest\" xlink:href=\"psysml:0adc1dcd-eba4-4b19-b824-866ee03ed7de\" xlink:show=\"new\" xlink:title=\"psysml:0adc1dcd-eba4-4b19-b824-866ee03ed7de\" xlink:type=\"simple\"><rect fill=\"#FFFFFF\" height=\"45.9375\" id=\"E5\" rx=\"10\" ry=\"10\" style=\"stroke: #383838; stroke-width: 1.5;\" width=\"42\" x=\"190\" y=\"44.5\"/><text fill=\"#000000\" font-family=\"sans-serif\" font-size=\"12\" font-style=\"italic\" lengthAdjust=\"spacingAndGlyphs\" textLength=\"40\" x=\"191\" y=\"60.6387\">«part»</text><text fill=\"#000000\" font-family=\"sans-serif\" font-size=\"12\" lengthAdjust=\"spacingAndGlyphs\" textLength=\"22\" x=\"200\" y=\"74.6074\">x: A</text><line style=\"stroke: #383838; stroke-width: 1.5;\" x1=\"191\" x2=\"231\" y1=\"82.4375\" y2=\"82.4375\"/></a><!--MD5=[b9389687b975829384b498ac4b7476b2]\n",
       "class E8--><a href=\"psysml:b076f02a-ad00-46e0-858a-3e2f54feec2a\" target=\"_top\" title=\"psysml:b076f02a-ad00-46e0-858a-3e2f54feec2a\" xlink:actuate=\"onRequest\" xlink:href=\"psysml:b076f02a-ad00-46e0-858a-3e2f54feec2a\" xlink:show=\"new\" xlink:title=\"psysml:b076f02a-ad00-46e0-858a-3e2f54feec2a\" xlink:type=\"simple\"><rect fill=\"#FFFFFF\" height=\"45.9375\" id=\"E8\" rx=\"10\" ry=\"10\" style=\"stroke: #383838; stroke-width: 1.5;\" width=\"42\" x=\"107\" y=\"44.5\"/><text fill=\"#000000\" font-family=\"sans-serif\" font-size=\"12\" font-style=\"italic\" lengthAdjust=\"spacingAndGlyphs\" textLength=\"40\" x=\"108\" y=\"60.6387\">«part»</text><text fill=\"#000000\" font-family=\"sans-serif\" font-size=\"12\" lengthAdjust=\"spacingAndGlyphs\" textLength=\"21\" x=\"117.5\" y=\"74.6074\">z: B</text><line style=\"stroke: #383838; stroke-width: 1.5;\" x1=\"108\" x2=\"148\" y1=\"82.4375\" y2=\"82.4375\"/></a><!--MD5=[09b614a08d8cba4a07c9adeb5e0fee81]\n",
       "class E3--><a href=\"psysml:414aecf4-cab0-4d0d-b5e9-0bd22012706a\" target=\"_top\" title=\"psysml:414aecf4-cab0-4d0d-b5e9-0bd22012706a\" xlink:actuate=\"onRequest\" xlink:href=\"psysml:414aecf4-cab0-4d0d-b5e9-0bd22012706a\" xlink:show=\"new\" xlink:title=\"psysml:414aecf4-cab0-4d0d-b5e9-0bd22012706a\" xlink:type=\"simple\"><rect fill=\"#FFFFFF\" height=\"45.9375\" id=\"E3\" style=\"stroke: #383838; stroke-width: 1.5;\" width=\"66\" x=\"178\" y=\"154\"/><text fill=\"#000000\" font-family=\"sans-serif\" font-size=\"12\" font-style=\"italic\" lengthAdjust=\"spacingAndGlyphs\" textLength=\"64\" x=\"179\" y=\"170.1387\">«part def»</text><text fill=\"#000000\" font-family=\"sans-serif\" font-size=\"12\" lengthAdjust=\"spacingAndGlyphs\" textLength=\"8\" x=\"207\" y=\"184.1074\">A</text><line style=\"stroke: #383838; stroke-width: 1.5;\" x1=\"179\" x2=\"243\" y1=\"191.9375\" y2=\"191.9375\"/></a><a href=\"psysml:e62181a2-aa41-44c6-a86b-ee96628d0c50\" target=\"_top\" title=\"psysml:e62181a2-aa41-44c6-a86b-ee96628d0c50\" xlink:actuate=\"onRequest\" xlink:href=\"psysml:e62181a2-aa41-44c6-a86b-ee96628d0c50\" xlink:show=\"new\" xlink:title=\"psysml:e62181a2-aa41-44c6-a86b-ee96628d0c50\" xlink:type=\"simple\"><polygon fill=\"#FFFFFF\" points=\"32,41,58,41,65,63.2969,72,63.2969,72,93.5938,32,93.5938,32,41\" style=\"stroke: #000000; stroke-width: 1.5;\"/><line style=\"stroke: #000000; stroke-width: 1.5;\" x1=\"32\" x2=\"65\" y1=\"63.2969\" y2=\"63.2969\"/><text fill=\"#000000\" font-family=\"sans-serif\" font-size=\"14\" font-weight=\"bold\" lengthAdjust=\"spacingAndGlyphs\" textLength=\"20\" x=\"36\" y=\"55.9951\">P2</text></a><!--MD5=[2156ba9850f5573cc1fc38a6a4b2f02b]\n",
       "class E7--><a href=\"psysml:f619ebc7-1ca1-4b7d-a8d3-68584975adae\" target=\"_top\" title=\"psysml:f619ebc7-1ca1-4b7d-a8d3-68584975adae\" xlink:actuate=\"onRequest\" xlink:href=\"psysml:f619ebc7-1ca1-4b7d-a8d3-68584975adae\" xlink:show=\"new\" xlink:title=\"psysml:f619ebc7-1ca1-4b7d-a8d3-68584975adae\" xlink:type=\"simple\"><rect fill=\"#FFFFFF\" height=\"45.9375\" id=\"E7\" style=\"stroke: #383838; stroke-width: 1.5;\" width=\"66\" x=\"56\" y=\"154\"/><text fill=\"#000000\" font-family=\"sans-serif\" font-size=\"12\" font-style=\"italic\" lengthAdjust=\"spacingAndGlyphs\" textLength=\"64\" x=\"57\" y=\"170.1387\">«part def»</text><text fill=\"#000000\" font-family=\"sans-serif\" font-size=\"12\" lengthAdjust=\"spacingAndGlyphs\" textLength=\"8\" x=\"85\" y=\"184.1074\">B</text><line style=\"stroke: #383838; stroke-width: 1.5;\" x1=\"57\" x2=\"121\" y1=\"191.9375\" y2=\"191.9375\"/></a><!--MD5=[e9be52314489bd878ff4c7144b63c9e1]\n",
       "link E5 to E3--><a href=\"psysml:e8148481-e1af-4d30-a20f-345018eb1da9\" target=\"_top\" title=\"psysml:e8148481-e1af-4d30-a20f-345018eb1da9\" xlink:actuate=\"onRequest\" xlink:href=\"psysml:e8148481-e1af-4d30-a20f-345018eb1da9\" xlink:show=\"new\" xlink:title=\"psysml:e8148481-e1af-4d30-a20f-345018eb1da9\" xlink:type=\"simple\"><path d=\"M211,90.51 C211,102.89 211,118.78 211,133.48 \" fill=\"none\" id=\"E5-&gt;E3\" style=\"stroke: #383838; stroke-width: 1.0;\"/><polygon fill=\"#FFFFFF\" points=\"211,153.65,204,134.65,218,134.65,211,153.65\" style=\"stroke: #383838; stroke-width: 1.0;\"/><ellipse cx=\"206\" cy=\"128.95\" fill=\"#383838\" rx=\"2\" ry=\"2\" style=\"stroke: #383838; stroke-width: 1.0;\"/><ellipse cx=\"216\" cy=\"128.95\" fill=\"#383838\" rx=\"2\" ry=\"2\" style=\"stroke: #383838; stroke-width: 1.0;\"/></a><!--MD5=[bfa3c8b0d15052fdf50ae9310b491027]\n",
       "link E8 to E7--><a href=\"psysml:88eb6ab6-f030-4136-96c6-6d1b75343c8c\" target=\"_top\" title=\"psysml:88eb6ab6-f030-4136-96c6-6d1b75343c8c\" xlink:actuate=\"onRequest\" xlink:href=\"psysml:88eb6ab6-f030-4136-96c6-6d1b75343c8c\" xlink:show=\"new\" xlink:title=\"psysml:88eb6ab6-f030-4136-96c6-6d1b75343c8c\" xlink:type=\"simple\"><path d=\"M120.01,90.51 C115.39,103.25 109.42,119.7 103.96,134.76 \" fill=\"none\" id=\"E8-&gt;E7\" style=\"stroke: #383838; stroke-width: 1.0;\"/><polygon fill=\"#FFFFFF\" points=\"97.11,153.65,97.0036,133.4018,110.1656,138.1726,97.11,153.65\" style=\"stroke: #383838; stroke-width: 1.0;\"/><ellipse cx=\"100.8262\" cy=\"128.7245\" fill=\"#383838\" rx=\"2\" ry=\"2\" style=\"stroke: #383838; stroke-width: 1.0;\"/><ellipse cx=\"110.2277\" cy=\"132.1322\" fill=\"#383838\" rx=\"2\" ry=\"2\" style=\"stroke: #383838; stroke-width: 1.0;\"/></a><!--MD5=[023c66622875ad41994a02a36ba5b835]\n",
       "@startuml\r\n",
       "top to bottom direction\r\n",
       "skinparam monochrome true\r\n",
       "skinparam classbackgroundcolor white\r\n",
       "skinparam shadowing false\r\n",
       "skinparam wrapWidth 300\r\n",
       "hide circle\r\n",
       "\r\n",
       "package \"PrivateImportTest\" as E1  [[psysml:a19fc987-58b9-4365-8e05-8e082939198f ]]  {\r\n",
       "package \"P1\" as E2  [[psysml:0afae52f-013a-41db-84e1-dbe02c327088 ]]  {\r\n",
       "comp def \"A\" as E3  <<(T,blue)part def>> [[psysml:414aecf4-cab0-4d0d-b5e9-0bd22012706a ]] {\r\n",
       "}\r\n",
       "}\r\n",
       "package \"P2\" as E4  [[psysml:e62181a2-aa41-44c6-a86b-ee96628d0c50 ]]  {\r\n",
       "}\r\n",
       "comp usage \"x: A\" as E5  <<(T,blue)part>> [[psysml:0adc1dcd-eba4-4b19-b824-866ee03ed7de ]] {\r\n",
       "}\r\n",
       "package \"P3\" as E6  [[psysml:1d9d662c-22cb-416c-b8ab-bb9944386c4a ]]  {\r\n",
       "comp def \"B\" as E7  <<(T,blue)part def>> [[psysml:f619ebc7-1ca1-4b7d-a8d3-68584975adae ]] {\r\n",
       "}\r\n",
       "E5 - -:|> E3 [[psysml:e8148481-e1af-4d30-a20f-345018eb1da9 ]] \r\n",
       "}\r\n",
       "comp usage \"z: B\" as E8  <<(T,blue)part>> [[psysml:b076f02a-ad00-46e0-858a-3e2f54feec2a ]] {\r\n",
       "}\r\n",
       "E8 - -:|> E7 [[psysml:88eb6ab6-f030-4136-96c6-6d1b75343c8c ]] \r\n",
       "}\r\n",
       "@enduml\r\n",
       "\n",
       "PlantUML version 1.2020.13(Sat Jun 13 12:26:38 UTC 2020)\n",
       "(EPL source distribution)\n",
       "Java Runtime: OpenJDK Runtime Environment\n",
       "JVM: OpenJDK 64-Bit Server VM\n",
       "Default Encoding: UTF-8\n",
       "Language: en\n",
       "Country: null\n",
       "--></g></svg>"
      ]
     },
     "execution_count": 44,
     "metadata": {},
     "output_type": "execute_result"
    }
   ],
   "source": [
    "%viz --style=\"TB\" --view=\"Default\" \"PrivateImportTest\""
   ]
  },
  {
   "cell_type": "code",
   "execution_count": 45,
   "id": "pressed-motivation",
   "metadata": {
    "execution": {
     "iopub.execute_input": "2021-03-25T09:26:42.356827Z",
     "iopub.status.busy": "2021-03-25T09:26:42.356041Z",
     "iopub.status.idle": "2021-03-25T09:26:42.431581Z",
     "shell.execute_reply": "2021-03-25T09:26:42.429423Z"
    }
   },
   "outputs": [
    {
     "data": {
      "image/svg+xml": [
       "<?xml version=\"1.0\" encoding=\"UTF-8\" standalone=\"no\"?><svg xmlns=\"http://www.w3.org/2000/svg\" xmlns:xlink=\"http://www.w3.org/1999/xlink\" contentScriptType=\"application/ecmascript\" contentStyleType=\"text/css\" height=\"252px\" preserveAspectRatio=\"none\" style=\"width:306px;height:252px;\" version=\"1.1\" viewBox=\"0 0 306 252\" width=\"306px\" zoomAndPan=\"magnify\"><defs/><g><!--MD5=[fbc87193dbaf4d95561dea2c320d4a47]\n",
       "cluster E1--><a href=\"psysml:a19fc987-58b9-4365-8e05-8e082939198f\" target=\"_top\" title=\"psysml:a19fc987-58b9-4365-8e05-8e082939198f\" xlink:actuate=\"onRequest\" xlink:href=\"psysml:a19fc987-58b9-4365-8e05-8e082939198f\" xlink:show=\"new\" xlink:title=\"psysml:a19fc987-58b9-4365-8e05-8e082939198f\" xlink:type=\"simple\"><polygon fill=\"#FFFFFF\" points=\"16,6,163,6,170,28.2969,284,28.2969,284,240,16,240,16,6\" style=\"stroke: #000000; stroke-width: 1.5;\"/><line style=\"stroke: #000000; stroke-width: 1.5;\" x1=\"16\" x2=\"170\" y1=\"28.2969\" y2=\"28.2969\"/><text fill=\"#000000\" font-family=\"sans-serif\" font-size=\"14\" font-weight=\"bold\" lengthAdjust=\"spacingAndGlyphs\" textLength=\"141\" x=\"20\" y=\"20.9951\">PrivateImportTest</text></a><!--MD5=[e4f7fae6ed58524ba242bb0b0d3be6b7]\n",
       "cluster E2--><a href=\"psysml:0afae52f-013a-41db-84e1-dbe02c327088\" target=\"_top\" title=\"psysml:0afae52f-013a-41db-84e1-dbe02c327088\" xlink:actuate=\"onRequest\" xlink:href=\"psysml:0afae52f-013a-41db-84e1-dbe02c327088\" xlink:show=\"new\" xlink:title=\"psysml:0afae52f-013a-41db-84e1-dbe02c327088\" xlink:type=\"simple\"><polygon fill=\"#FFFFFF\" points=\"162,119,188,119,195,141.2969,260,141.2969,260,216,162,216,162,119\" style=\"stroke: #000000; stroke-width: 1.5;\"/><line style=\"stroke: #000000; stroke-width: 1.5;\" x1=\"162\" x2=\"195\" y1=\"141.2969\" y2=\"141.2969\"/><text fill=\"#000000\" font-family=\"sans-serif\" font-size=\"14\" font-weight=\"bold\" lengthAdjust=\"spacingAndGlyphs\" textLength=\"20\" x=\"166\" y=\"133.9951\">P1</text></a><!--MD5=[14e3b0961a2654348d326746436168a1]\n",
       "cluster E6--><a href=\"psysml:1d9d662c-22cb-416c-b8ab-bb9944386c4a\" target=\"_top\" title=\"psysml:1d9d662c-22cb-416c-b8ab-bb9944386c4a\" xlink:actuate=\"onRequest\" xlink:href=\"psysml:1d9d662c-22cb-416c-b8ab-bb9944386c4a\" xlink:show=\"new\" xlink:title=\"psysml:1d9d662c-22cb-416c-b8ab-bb9944386c4a\" xlink:type=\"simple\"><polygon fill=\"#FFFFFF\" points=\"40,119,66,119,73,141.2969,138,141.2969,138,216,40,216,40,119\" style=\"stroke: #000000; stroke-width: 1.5;\"/><line style=\"stroke: #000000; stroke-width: 1.5;\" x1=\"40\" x2=\"73\" y1=\"141.2969\" y2=\"141.2969\"/><text fill=\"#000000\" font-family=\"sans-serif\" font-size=\"14\" font-weight=\"bold\" lengthAdjust=\"spacingAndGlyphs\" textLength=\"20\" x=\"44\" y=\"133.9951\">P3</text></a><!--MD5=[270fce915f116d4de14055a7c1d9a0f3]\n",
       "class E5--><a href=\"psysml:0adc1dcd-eba4-4b19-b824-866ee03ed7de\" target=\"_top\" title=\"psysml:0adc1dcd-eba4-4b19-b824-866ee03ed7de\" xlink:actuate=\"onRequest\" xlink:href=\"psysml:0adc1dcd-eba4-4b19-b824-866ee03ed7de\" xlink:show=\"new\" xlink:title=\"psysml:0adc1dcd-eba4-4b19-b824-866ee03ed7de\" xlink:type=\"simple\"><rect fill=\"#FFFFFF\" height=\"45.9375\" id=\"E5\" rx=\"10\" ry=\"10\" style=\"stroke: #383838; stroke-width: 1.5;\" width=\"42\" x=\"190\" y=\"44.5\"/><text fill=\"#000000\" font-family=\"sans-serif\" font-size=\"12\" font-style=\"italic\" lengthAdjust=\"spacingAndGlyphs\" textLength=\"40\" x=\"191\" y=\"60.6387\">«part»</text><text fill=\"#000000\" font-family=\"sans-serif\" font-size=\"12\" lengthAdjust=\"spacingAndGlyphs\" textLength=\"22\" x=\"200\" y=\"74.6074\">x: A</text><line style=\"stroke: #383838; stroke-width: 1.5;\" x1=\"191\" x2=\"231\" y1=\"82.4375\" y2=\"82.4375\"/></a><!--MD5=[b9389687b975829384b498ac4b7476b2]\n",
       "class E8--><a href=\"psysml:b076f02a-ad00-46e0-858a-3e2f54feec2a\" target=\"_top\" title=\"psysml:b076f02a-ad00-46e0-858a-3e2f54feec2a\" xlink:actuate=\"onRequest\" xlink:href=\"psysml:b076f02a-ad00-46e0-858a-3e2f54feec2a\" xlink:show=\"new\" xlink:title=\"psysml:b076f02a-ad00-46e0-858a-3e2f54feec2a\" xlink:type=\"simple\"><rect fill=\"#FFFFFF\" height=\"45.9375\" id=\"E8\" rx=\"10\" ry=\"10\" style=\"stroke: #383838; stroke-width: 1.5;\" width=\"42\" x=\"107\" y=\"44.5\"/><text fill=\"#000000\" font-family=\"sans-serif\" font-size=\"12\" font-style=\"italic\" lengthAdjust=\"spacingAndGlyphs\" textLength=\"40\" x=\"108\" y=\"60.6387\">«part»</text><text fill=\"#000000\" font-family=\"sans-serif\" font-size=\"12\" lengthAdjust=\"spacingAndGlyphs\" textLength=\"21\" x=\"117.5\" y=\"74.6074\">z: B</text><line style=\"stroke: #383838; stroke-width: 1.5;\" x1=\"108\" x2=\"148\" y1=\"82.4375\" y2=\"82.4375\"/></a><!--MD5=[09b614a08d8cba4a07c9adeb5e0fee81]\n",
       "class E3--><a href=\"psysml:414aecf4-cab0-4d0d-b5e9-0bd22012706a\" target=\"_top\" title=\"psysml:414aecf4-cab0-4d0d-b5e9-0bd22012706a\" xlink:actuate=\"onRequest\" xlink:href=\"psysml:414aecf4-cab0-4d0d-b5e9-0bd22012706a\" xlink:show=\"new\" xlink:title=\"psysml:414aecf4-cab0-4d0d-b5e9-0bd22012706a\" xlink:type=\"simple\"><rect fill=\"#FFFFFF\" height=\"45.9375\" id=\"E3\" style=\"stroke: #383838; stroke-width: 1.5;\" width=\"66\" x=\"178\" y=\"154\"/><text fill=\"#000000\" font-family=\"sans-serif\" font-size=\"12\" font-style=\"italic\" lengthAdjust=\"spacingAndGlyphs\" textLength=\"64\" x=\"179\" y=\"170.1387\">«part def»</text><text fill=\"#000000\" font-family=\"sans-serif\" font-size=\"12\" lengthAdjust=\"spacingAndGlyphs\" textLength=\"8\" x=\"207\" y=\"184.1074\">A</text><line style=\"stroke: #383838; stroke-width: 1.5;\" x1=\"179\" x2=\"243\" y1=\"191.9375\" y2=\"191.9375\"/></a><a href=\"psysml:e62181a2-aa41-44c6-a86b-ee96628d0c50\" target=\"_top\" title=\"psysml:e62181a2-aa41-44c6-a86b-ee96628d0c50\" xlink:actuate=\"onRequest\" xlink:href=\"psysml:e62181a2-aa41-44c6-a86b-ee96628d0c50\" xlink:show=\"new\" xlink:title=\"psysml:e62181a2-aa41-44c6-a86b-ee96628d0c50\" xlink:type=\"simple\"><polygon fill=\"#FFFFFF\" points=\"32,41,58,41,65,63.2969,72,63.2969,72,93.5938,32,93.5938,32,41\" style=\"stroke: #000000; stroke-width: 1.5;\"/><line style=\"stroke: #000000; stroke-width: 1.5;\" x1=\"32\" x2=\"65\" y1=\"63.2969\" y2=\"63.2969\"/><text fill=\"#000000\" font-family=\"sans-serif\" font-size=\"14\" font-weight=\"bold\" lengthAdjust=\"spacingAndGlyphs\" textLength=\"20\" x=\"36\" y=\"55.9951\">P2</text></a><!--MD5=[2156ba9850f5573cc1fc38a6a4b2f02b]\n",
       "class E7--><a href=\"psysml:f619ebc7-1ca1-4b7d-a8d3-68584975adae\" target=\"_top\" title=\"psysml:f619ebc7-1ca1-4b7d-a8d3-68584975adae\" xlink:actuate=\"onRequest\" xlink:href=\"psysml:f619ebc7-1ca1-4b7d-a8d3-68584975adae\" xlink:show=\"new\" xlink:title=\"psysml:f619ebc7-1ca1-4b7d-a8d3-68584975adae\" xlink:type=\"simple\"><rect fill=\"#FFFFFF\" height=\"45.9375\" id=\"E7\" style=\"stroke: #383838; stroke-width: 1.5;\" width=\"66\" x=\"56\" y=\"154\"/><text fill=\"#000000\" font-family=\"sans-serif\" font-size=\"12\" font-style=\"italic\" lengthAdjust=\"spacingAndGlyphs\" textLength=\"64\" x=\"57\" y=\"170.1387\">«part def»</text><text fill=\"#000000\" font-family=\"sans-serif\" font-size=\"12\" lengthAdjust=\"spacingAndGlyphs\" textLength=\"8\" x=\"85\" y=\"184.1074\">B</text><line style=\"stroke: #383838; stroke-width: 1.5;\" x1=\"57\" x2=\"121\" y1=\"191.9375\" y2=\"191.9375\"/></a><!--MD5=[e9be52314489bd878ff4c7144b63c9e1]\n",
       "link E5 to E3--><a href=\"psysml:e8148481-e1af-4d30-a20f-345018eb1da9\" target=\"_top\" title=\"psysml:e8148481-e1af-4d30-a20f-345018eb1da9\" xlink:actuate=\"onRequest\" xlink:href=\"psysml:e8148481-e1af-4d30-a20f-345018eb1da9\" xlink:show=\"new\" xlink:title=\"psysml:e8148481-e1af-4d30-a20f-345018eb1da9\" xlink:type=\"simple\"><path d=\"M211,90.51 C211,102.89 211,118.78 211,133.48 \" fill=\"none\" id=\"E5-&gt;E3\" style=\"stroke: #383838; stroke-width: 1.0;\"/><polygon fill=\"#FFFFFF\" points=\"211,153.65,204,134.65,218,134.65,211,153.65\" style=\"stroke: #383838; stroke-width: 1.0;\"/><ellipse cx=\"206\" cy=\"128.95\" fill=\"#383838\" rx=\"2\" ry=\"2\" style=\"stroke: #383838; stroke-width: 1.0;\"/><ellipse cx=\"216\" cy=\"128.95\" fill=\"#383838\" rx=\"2\" ry=\"2\" style=\"stroke: #383838; stroke-width: 1.0;\"/></a><!--MD5=[bfa3c8b0d15052fdf50ae9310b491027]\n",
       "link E8 to E7--><a href=\"psysml:88eb6ab6-f030-4136-96c6-6d1b75343c8c\" target=\"_top\" title=\"psysml:88eb6ab6-f030-4136-96c6-6d1b75343c8c\" xlink:actuate=\"onRequest\" xlink:href=\"psysml:88eb6ab6-f030-4136-96c6-6d1b75343c8c\" xlink:show=\"new\" xlink:title=\"psysml:88eb6ab6-f030-4136-96c6-6d1b75343c8c\" xlink:type=\"simple\"><path d=\"M120.01,90.51 C115.39,103.25 109.42,119.7 103.96,134.76 \" fill=\"none\" id=\"E8-&gt;E7\" style=\"stroke: #383838; stroke-width: 1.0;\"/><polygon fill=\"#FFFFFF\" points=\"97.11,153.65,97.0036,133.4018,110.1656,138.1726,97.11,153.65\" style=\"stroke: #383838; stroke-width: 1.0;\"/><ellipse cx=\"100.8262\" cy=\"128.7245\" fill=\"#383838\" rx=\"2\" ry=\"2\" style=\"stroke: #383838; stroke-width: 1.0;\"/><ellipse cx=\"110.2277\" cy=\"132.1322\" fill=\"#383838\" rx=\"2\" ry=\"2\" style=\"stroke: #383838; stroke-width: 1.0;\"/></a><!--MD5=[023c66622875ad41994a02a36ba5b835]\n",
       "@startuml\r\n",
       "top to bottom direction\r\n",
       "skinparam monochrome true\r\n",
       "skinparam classbackgroundcolor white\r\n",
       "skinparam shadowing false\r\n",
       "skinparam wrapWidth 300\r\n",
       "hide circle\r\n",
       "\r\n",
       "package \"PrivateImportTest\" as E1  [[psysml:a19fc987-58b9-4365-8e05-8e082939198f ]]  {\r\n",
       "package \"P1\" as E2  [[psysml:0afae52f-013a-41db-84e1-dbe02c327088 ]]  {\r\n",
       "comp def \"A\" as E3  <<(T,blue)part def>> [[psysml:414aecf4-cab0-4d0d-b5e9-0bd22012706a ]] {\r\n",
       "}\r\n",
       "}\r\n",
       "package \"P2\" as E4  [[psysml:e62181a2-aa41-44c6-a86b-ee96628d0c50 ]]  {\r\n",
       "}\r\n",
       "comp usage \"x: A\" as E5  <<(T,blue)part>> [[psysml:0adc1dcd-eba4-4b19-b824-866ee03ed7de ]] {\r\n",
       "}\r\n",
       "package \"P3\" as E6  [[psysml:1d9d662c-22cb-416c-b8ab-bb9944386c4a ]]  {\r\n",
       "comp def \"B\" as E7  <<(T,blue)part def>> [[psysml:f619ebc7-1ca1-4b7d-a8d3-68584975adae ]] {\r\n",
       "}\r\n",
       "E5 - -:|> E3 [[psysml:e8148481-e1af-4d30-a20f-345018eb1da9 ]] \r\n",
       "}\r\n",
       "comp usage \"z: B\" as E8  <<(T,blue)part>> [[psysml:b076f02a-ad00-46e0-858a-3e2f54feec2a ]] {\r\n",
       "}\r\n",
       "E8 - -:|> E7 [[psysml:88eb6ab6-f030-4136-96c6-6d1b75343c8c ]] \r\n",
       "}\r\n",
       "@enduml\r\n",
       "\n",
       "PlantUML version 1.2020.13(Sat Jun 13 12:26:38 UTC 2020)\n",
       "(EPL source distribution)\n",
       "Java Runtime: OpenJDK Runtime Environment\n",
       "JVM: OpenJDK 64-Bit Server VM\n",
       "Default Encoding: UTF-8\n",
       "Language: en\n",
       "Country: null\n",
       "--></g></svg>"
      ]
     },
     "execution_count": 45,
     "metadata": {},
     "output_type": "execute_result"
    }
   ],
   "source": [
    "%viz --style=\"TB\" --view=\"Tree\" \"PrivateImportTest\""
   ]
  },
  {
   "cell_type": "code",
   "execution_count": 46,
   "id": "welcome-classification",
   "metadata": {
    "execution": {
     "iopub.execute_input": "2021-03-25T09:26:42.483394Z",
     "iopub.status.busy": "2021-03-25T09:26:42.482942Z",
     "iopub.status.idle": "2021-03-25T09:26:42.491043Z",
     "shell.execute_reply": "2021-03-25T09:26:42.490214Z"
    }
   },
   "outputs": [
    {
     "data": {
      "image/svg+xml": [
       "<?xml version=\"1.0\" encoding=\"UTF-8\" standalone=\"no\"?><svg xmlns=\"http://www.w3.org/2000/svg\" xmlns:xlink=\"http://www.w3.org/1999/xlink\" contentScriptType=\"application/ecmascript\" contentStyleType=\"text/css\" height=\"12px\" preserveAspectRatio=\"none\" style=\"width:12px;height:12px;\" version=\"1.1\" viewBox=\"0 0 12 12\" width=\"12px\" zoomAndPan=\"magnify\"><defs/><g><!--MD5=[f4ee21bc66e489b5061b7c3e9601fdef]\n",
       "@startuml\r\n",
       "top to bottom direction\r\n",
       "skinparam monochrome true\r\n",
       "skinparam classbackgroundcolor white\r\n",
       "skinparam shadowing false\r\n",
       "skinparam wrapWidth 300\r\n",
       "hide circle\r\n",
       "\r\n",
       "@enduml\r\n",
       "\n",
       "PlantUML version 1.2020.13(Sat Jun 13 12:26:38 UTC 2020)\n",
       "(EPL source distribution)\n",
       "Java Runtime: OpenJDK Runtime Environment\n",
       "JVM: OpenJDK 64-Bit Server VM\n",
       "Default Encoding: UTF-8\n",
       "Language: en\n",
       "Country: null\n",
       "--></g></svg>"
      ]
     },
     "execution_count": 46,
     "metadata": {},
     "output_type": "execute_result"
    }
   ],
   "source": [
    "%viz --style=\"TB\" --view=\"State\" \"PrivateImportTest\""
   ]
  },
  {
   "cell_type": "code",
   "execution_count": 47,
   "id": "disabled-union",
   "metadata": {
    "execution": {
     "iopub.execute_input": "2021-03-25T09:26:42.543560Z",
     "iopub.status.busy": "2021-03-25T09:26:42.542837Z",
     "iopub.status.idle": "2021-03-25T09:26:42.603647Z",
     "shell.execute_reply": "2021-03-25T09:26:42.603197Z"
    }
   },
   "outputs": [
    {
     "data": {
      "image/svg+xml": [
       "<?xml version=\"1.0\" encoding=\"UTF-8\" standalone=\"no\"?><svg xmlns=\"http://www.w3.org/2000/svg\" xmlns:xlink=\"http://www.w3.org/1999/xlink\" contentScriptType=\"application/ecmascript\" contentStyleType=\"text/css\" height=\"179px\" preserveAspectRatio=\"none\" style=\"width:539px;height:179px;\" version=\"1.1\" viewBox=\"0 0 539 179\" width=\"539px\" zoomAndPan=\"magnify\"><defs/><g><!--MD5=[fbc87193dbaf4d95561dea2c320d4a47]\n",
       "cluster E1--><a href=\"psysml:a19fc987-58b9-4365-8e05-8e082939198f\" target=\"_top\" title=\"psysml:a19fc987-58b9-4365-8e05-8e082939198f\" xlink:actuate=\"onRequest\" xlink:href=\"psysml:a19fc987-58b9-4365-8e05-8e082939198f\" xlink:show=\"new\" xlink:title=\"psysml:a19fc987-58b9-4365-8e05-8e082939198f\" xlink:type=\"simple\"><polygon fill=\"#FFFFFF\" points=\"16,6,163,6,170,28.2969,517,28.2969,517,167,16,167,16,6\" style=\"stroke: #000000; stroke-width: 1.5;\"/><line style=\"stroke: #000000; stroke-width: 1.5;\" x1=\"16\" x2=\"170\" y1=\"28.2969\" y2=\"28.2969\"/><text fill=\"#000000\" font-family=\"sans-serif\" font-size=\"14\" font-weight=\"bold\" lengthAdjust=\"spacingAndGlyphs\" textLength=\"141\" x=\"20\" y=\"20.9951\">PrivateImportTest</text></a><!--MD5=[e4f7fae6ed58524ba242bb0b0d3be6b7]\n",
       "cluster E2--><a href=\"psysml:0afae52f-013a-41db-84e1-dbe02c327088\" target=\"_top\" title=\"psysml:0afae52f-013a-41db-84e1-dbe02c327088\" xlink:actuate=\"onRequest\" xlink:href=\"psysml:0afae52f-013a-41db-84e1-dbe02c327088\" xlink:show=\"new\" xlink:title=\"psysml:0afae52f-013a-41db-84e1-dbe02c327088\" xlink:type=\"simple\"><polygon fill=\"#FFFFFF\" points=\"389,49,415,49,422,71.2969,493,71.2969,493,143,389,143,389,49\" style=\"stroke: #000000; stroke-width: 1.5;\"/><line style=\"stroke: #000000; stroke-width: 1.5;\" x1=\"389\" x2=\"422\" y1=\"71.2969\" y2=\"71.2969\"/><text fill=\"#000000\" font-family=\"sans-serif\" font-size=\"14\" font-weight=\"bold\" lengthAdjust=\"spacingAndGlyphs\" textLength=\"20\" x=\"393\" y=\"63.9951\">P1</text></a><!--MD5=[14e3b0961a2654348d326746436168a1]\n",
       "cluster E6--><a href=\"psysml:1d9d662c-22cb-416c-b8ab-bb9944386c4a\" target=\"_top\" title=\"psysml:1d9d662c-22cb-416c-b8ab-bb9944386c4a\" xlink:actuate=\"onRequest\" xlink:href=\"psysml:1d9d662c-22cb-416c-b8ab-bb9944386c4a\" xlink:show=\"new\" xlink:title=\"psysml:1d9d662c-22cb-416c-b8ab-bb9944386c4a\" xlink:type=\"simple\"><polygon fill=\"#FFFFFF\" points=\"261,49,287,49,294,71.2969,365,71.2969,365,143,261,143,261,49\" style=\"stroke: #000000; stroke-width: 1.5;\"/><line style=\"stroke: #000000; stroke-width: 1.5;\" x1=\"261\" x2=\"294\" y1=\"71.2969\" y2=\"71.2969\"/><text fill=\"#000000\" font-family=\"sans-serif\" font-size=\"14\" font-weight=\"bold\" lengthAdjust=\"spacingAndGlyphs\" textLength=\"20\" x=\"265\" y=\"63.9951\">P3</text></a><g id=\"E1.E2.E3\"><a href=\"psysml:414aecf4-cab0-4d0d-b5e9-0bd22012706a\" target=\"_top\" title=\"psysml:414aecf4-cab0-4d0d-b5e9-0bd22012706a\" xlink:actuate=\"onRequest\" xlink:href=\"psysml:414aecf4-cab0-4d0d-b5e9-0bd22012706a\" xlink:show=\"new\" xlink:title=\"psysml:414aecf4-cab0-4d0d-b5e9-0bd22012706a\" xlink:type=\"simple\"><rect fill=\"#FFFFFF\" height=\"42.9375\" id=\"E3\" style=\"stroke: #383838; stroke-width: 1.5;\" width=\"71\" x=\"405.5\" y=\"84\"/><rect fill=\"#F8F8F8\" height=\"37.9375\" style=\"stroke: #383838; stroke-width: 1.5;\" width=\"71\" x=\"405.5\" y=\"84\"/><text fill=\"#000000\" font-family=\"sans-serif\" font-size=\"12\" font-style=\"italic\" lengthAdjust=\"spacingAndGlyphs\" textLength=\"64\" x=\"409\" y=\"100.1387\">«part def»</text><text fill=\"#000000\" font-family=\"sans-serif\" font-size=\"12\" lengthAdjust=\"spacingAndGlyphs\" textLength=\"8\" x=\"437\" y=\"114.1074\">A</text></a></g><a href=\"psysml:e62181a2-aa41-44c6-a86b-ee96628d0c50\" target=\"_top\" title=\"psysml:e62181a2-aa41-44c6-a86b-ee96628d0c50\" xlink:actuate=\"onRequest\" xlink:href=\"psysml:e62181a2-aa41-44c6-a86b-ee96628d0c50\" xlink:show=\"new\" xlink:title=\"psysml:e62181a2-aa41-44c6-a86b-ee96628d0c50\" xlink:type=\"simple\"><polygon fill=\"#FFFFFF\" points=\"202,79,228,79,235,101.2969,242,101.2969,242,131.5938,202,131.5938,202,79\" style=\"stroke: #000000; stroke-width: 1.5;\"/><line style=\"stroke: #000000; stroke-width: 1.5;\" x1=\"202\" x2=\"235\" y1=\"101.2969\" y2=\"101.2969\"/><text fill=\"#000000\" font-family=\"sans-serif\" font-size=\"14\" font-weight=\"bold\" lengthAdjust=\"spacingAndGlyphs\" textLength=\"20\" x=\"206\" y=\"93.9951\">P2</text></a><g id=\"E1.E5\"><a href=\"psysml:0adc1dcd-eba4-4b19-b824-866ee03ed7de\" target=\"_top\" title=\"psysml:0adc1dcd-eba4-4b19-b824-866ee03ed7de\" xlink:actuate=\"onRequest\" xlink:href=\"psysml:0adc1dcd-eba4-4b19-b824-866ee03ed7de\" xlink:show=\"new\" xlink:title=\"psysml:0adc1dcd-eba4-4b19-b824-866ee03ed7de\" xlink:type=\"simple\"><rect fill=\"#FFFFFF\" height=\"40\" id=\"E5\" rx=\"10\" ry=\"10\" style=\"stroke: #383838; stroke-width: 1.5;\" width=\"50\" x=\"117\" y=\"85.5\"/><rect fill=\"#F8F8F8\" height=\"23.9688\" rx=\"10\" ry=\"10\" style=\"stroke: #F8F8F8; stroke-width: 1.5;\" width=\"50\" x=\"117\" y=\"85.5\"/><rect fill=\"#F8F8F8\" height=\"10\" style=\"stroke: #F8F8F8; stroke-width: 1.5;\" width=\"50\" x=\"117\" y=\"99.4688\"/><rect fill=\"none\" height=\"40\" id=\"E5\" rx=\"10\" ry=\"10\" style=\"stroke: #383838; stroke-width: 1.5;\" width=\"50\" x=\"117\" y=\"85.5\"/><text fill=\"#000000\" font-family=\"sans-serif\" font-size=\"12\" lengthAdjust=\"spacingAndGlyphs\" textLength=\"22\" x=\"131\" y=\"101.6387\">x: A</text></a></g><g id=\"E1.E6.E7\"><a href=\"psysml:f619ebc7-1ca1-4b7d-a8d3-68584975adae\" target=\"_top\" title=\"psysml:f619ebc7-1ca1-4b7d-a8d3-68584975adae\" xlink:actuate=\"onRequest\" xlink:href=\"psysml:f619ebc7-1ca1-4b7d-a8d3-68584975adae\" xlink:show=\"new\" xlink:title=\"psysml:f619ebc7-1ca1-4b7d-a8d3-68584975adae\" xlink:type=\"simple\"><rect fill=\"#FFFFFF\" height=\"42.9375\" id=\"E7\" style=\"stroke: #383838; stroke-width: 1.5;\" width=\"71\" x=\"277.5\" y=\"84\"/><rect fill=\"#F8F8F8\" height=\"37.9375\" style=\"stroke: #383838; stroke-width: 1.5;\" width=\"71\" x=\"277.5\" y=\"84\"/><text fill=\"#000000\" font-family=\"sans-serif\" font-size=\"12\" font-style=\"italic\" lengthAdjust=\"spacingAndGlyphs\" textLength=\"64\" x=\"281\" y=\"100.1387\">«part def»</text><text fill=\"#000000\" font-family=\"sans-serif\" font-size=\"12\" lengthAdjust=\"spacingAndGlyphs\" textLength=\"8\" x=\"309\" y=\"114.1074\">B</text></a></g><g id=\"E1.E8\"><a href=\"psysml:b076f02a-ad00-46e0-858a-3e2f54feec2a\" target=\"_top\" title=\"psysml:b076f02a-ad00-46e0-858a-3e2f54feec2a\" xlink:actuate=\"onRequest\" xlink:href=\"psysml:b076f02a-ad00-46e0-858a-3e2f54feec2a\" xlink:show=\"new\" xlink:title=\"psysml:b076f02a-ad00-46e0-858a-3e2f54feec2a\" xlink:type=\"simple\"><rect fill=\"#FFFFFF\" height=\"40\" id=\"E8\" rx=\"10\" ry=\"10\" style=\"stroke: #383838; stroke-width: 1.5;\" width=\"50\" x=\"32\" y=\"85.5\"/><rect fill=\"#F8F8F8\" height=\"23.9688\" rx=\"10\" ry=\"10\" style=\"stroke: #F8F8F8; stroke-width: 1.5;\" width=\"50\" x=\"32\" y=\"85.5\"/><rect fill=\"#F8F8F8\" height=\"10\" style=\"stroke: #F8F8F8; stroke-width: 1.5;\" width=\"50\" x=\"32\" y=\"99.4688\"/><rect fill=\"none\" height=\"40\" id=\"E8\" rx=\"10\" ry=\"10\" style=\"stroke: #383838; stroke-width: 1.5;\" width=\"50\" x=\"32\" y=\"85.5\"/><text fill=\"#000000\" font-family=\"sans-serif\" font-size=\"12\" lengthAdjust=\"spacingAndGlyphs\" textLength=\"21\" x=\"46.5\" y=\"101.6387\">z: B</text></a></g><!--MD5=[d37c5f69c9328907330b9961e1f2fda5]\n",
       "@startuml\r\n",
       "skinparam ranksep 8\r\n",
       "skinparam rectangle {\r\n",
       " backgroundColor<<block>> LightGreen\r\n",
       "}\r\n",
       "top to bottom direction\r\n",
       "skinparam monochrome true\r\n",
       "skinparam classbackgroundcolor white\r\n",
       "skinparam shadowing false\r\n",
       "skinparam wrapWidth 300\r\n",
       "hide circle\r\n",
       "\r\n",
       "package \"PrivateImportTest\" as E1  [[psysml:a19fc987-58b9-4365-8e05-8e082939198f ]]  {\r\n",
       "package \"P1\" as E2  [[psysml:0afae52f-013a-41db-84e1-dbe02c327088 ]]  {\r\n",
       "rec def \"A\" as E3  <<(T,blue)part def>> [[psysml:414aecf4-cab0-4d0d-b5e9-0bd22012706a ]] {\r\n",
       "}\r\n",
       "}\r\n",
       "package \"P2\" as E4  [[psysml:e62181a2-aa41-44c6-a86b-ee96628d0c50 ]]  {\r\n",
       "}\r\n",
       "rec usage \"x: A\" as E5  [[psysml:0adc1dcd-eba4-4b19-b824-866ee03ed7de ]] {\r\n",
       "}\r\n",
       "package \"P3\" as E6  [[psysml:1d9d662c-22cb-416c-b8ab-bb9944386c4a ]]  {\r\n",
       "rec def \"B\" as E7  <<(T,blue)part def>> [[psysml:f619ebc7-1ca1-4b7d-a8d3-68584975adae ]] {\r\n",
       "}\r\n",
       "}\r\n",
       "rec usage \"z: B\" as E8  [[psysml:b076f02a-ad00-46e0-858a-3e2f54feec2a ]] {\r\n",
       "}\r\n",
       "}\r\n",
       "@enduml\r\n",
       "\n",
       "PlantUML version 1.2020.13(Sat Jun 13 12:26:38 UTC 2020)\n",
       "(EPL source distribution)\n",
       "Java Runtime: OpenJDK Runtime Environment\n",
       "JVM: OpenJDK 64-Bit Server VM\n",
       "Default Encoding: UTF-8\n",
       "Language: en\n",
       "Country: null\n",
       "--></g></svg>"
      ]
     },
     "execution_count": 47,
     "metadata": {},
     "output_type": "execute_result"
    }
   ],
   "source": [
    "%viz --style=\"TB\" --view=\"Interconnection\" \"PrivateImportTest\""
   ]
  },
  {
   "cell_type": "code",
   "execution_count": 48,
   "id": "norman-discharge",
   "metadata": {
    "execution": {
     "iopub.execute_input": "2021-03-25T09:26:42.654568Z",
     "iopub.status.busy": "2021-03-25T09:26:42.654010Z",
     "iopub.status.idle": "2021-03-25T09:26:42.661501Z",
     "shell.execute_reply": "2021-03-25T09:26:42.661135Z"
    }
   },
   "outputs": [
    {
     "data": {
      "image/svg+xml": [
       "<?xml version=\"1.0\" encoding=\"UTF-8\" standalone=\"no\"?><svg xmlns=\"http://www.w3.org/2000/svg\" xmlns:xlink=\"http://www.w3.org/1999/xlink\" contentScriptType=\"application/ecmascript\" contentStyleType=\"text/css\" height=\"12px\" preserveAspectRatio=\"none\" style=\"width:12px;height:12px;\" version=\"1.1\" viewBox=\"0 0 12 12\" width=\"12px\" zoomAndPan=\"magnify\"><defs/><g><!--MD5=[06afc254b03ac5e9d9fb7773b07d0800]\n",
       "@startuml\r\n",
       "skinparam ranksep 8\r\n",
       "top to bottom direction\r\n",
       "skinparam monochrome true\r\n",
       "skinparam classbackgroundcolor white\r\n",
       "skinparam shadowing false\r\n",
       "skinparam wrapWidth 300\r\n",
       "hide circle\r\n",
       "\r\n",
       "@enduml\r\n",
       "\n",
       "PlantUML version 1.2020.13(Sat Jun 13 12:26:38 UTC 2020)\n",
       "(EPL source distribution)\n",
       "Java Runtime: OpenJDK Runtime Environment\n",
       "JVM: OpenJDK 64-Bit Server VM\n",
       "Default Encoding: UTF-8\n",
       "Language: en\n",
       "Country: null\n",
       "--></g></svg>"
      ]
     },
     "execution_count": 48,
     "metadata": {},
     "output_type": "execute_result"
    }
   ],
   "source": [
    "%viz --style=\"TB\" --view=\"Action\" \"PrivateImportTest\""
   ]
  },
  {
   "cell_type": "code",
   "execution_count": 49,
   "id": "designed-farming",
   "metadata": {
    "execution": {
     "iopub.execute_input": "2021-03-25T09:26:42.712601Z",
     "iopub.status.busy": "2021-03-25T09:26:42.712166Z",
     "iopub.status.idle": "2021-03-25T09:26:42.778155Z",
     "shell.execute_reply": "2021-03-25T09:26:42.777812Z"
    }
   },
   "outputs": [
    {
     "data": {
      "image/svg+xml": [
       "<?xml version=\"1.0\" encoding=\"UTF-8\" standalone=\"no\"?><svg xmlns=\"http://www.w3.org/2000/svg\" xmlns:xlink=\"http://www.w3.org/1999/xlink\" contentScriptType=\"application/ecmascript\" contentStyleType=\"text/css\" height=\"252px\" preserveAspectRatio=\"none\" style=\"width:306px;height:252px;\" version=\"1.1\" viewBox=\"0 0 306 252\" width=\"306px\" zoomAndPan=\"magnify\"><defs/><g><!--MD5=[fbc87193dbaf4d95561dea2c320d4a47]\n",
       "cluster E1--><a href=\"psysml:a19fc987-58b9-4365-8e05-8e082939198f\" target=\"_top\" title=\"psysml:a19fc987-58b9-4365-8e05-8e082939198f\" xlink:actuate=\"onRequest\" xlink:href=\"psysml:a19fc987-58b9-4365-8e05-8e082939198f\" xlink:show=\"new\" xlink:title=\"psysml:a19fc987-58b9-4365-8e05-8e082939198f\" xlink:type=\"simple\"><polygon fill=\"#FFFFFF\" points=\"16,6,163,6,170,28.2969,284,28.2969,284,240,16,240,16,6\" style=\"stroke: #000000; stroke-width: 1.5;\"/><line style=\"stroke: #000000; stroke-width: 1.5;\" x1=\"16\" x2=\"170\" y1=\"28.2969\" y2=\"28.2969\"/><text fill=\"#000000\" font-family=\"sans-serif\" font-size=\"14\" font-weight=\"bold\" lengthAdjust=\"spacingAndGlyphs\" textLength=\"141\" x=\"20\" y=\"20.9951\">PrivateImportTest</text></a><!--MD5=[e4f7fae6ed58524ba242bb0b0d3be6b7]\n",
       "cluster E2--><a href=\"psysml:0afae52f-013a-41db-84e1-dbe02c327088\" target=\"_top\" title=\"psysml:0afae52f-013a-41db-84e1-dbe02c327088\" xlink:actuate=\"onRequest\" xlink:href=\"psysml:0afae52f-013a-41db-84e1-dbe02c327088\" xlink:show=\"new\" xlink:title=\"psysml:0afae52f-013a-41db-84e1-dbe02c327088\" xlink:type=\"simple\"><polygon fill=\"#FFFFFF\" points=\"162,119,188,119,195,141.2969,260,141.2969,260,216,162,216,162,119\" style=\"stroke: #000000; stroke-width: 1.5;\"/><line style=\"stroke: #000000; stroke-width: 1.5;\" x1=\"162\" x2=\"195\" y1=\"141.2969\" y2=\"141.2969\"/><text fill=\"#000000\" font-family=\"sans-serif\" font-size=\"14\" font-weight=\"bold\" lengthAdjust=\"spacingAndGlyphs\" textLength=\"20\" x=\"166\" y=\"133.9951\">P1</text></a><!--MD5=[14e3b0961a2654348d326746436168a1]\n",
       "cluster E6--><a href=\"psysml:1d9d662c-22cb-416c-b8ab-bb9944386c4a\" target=\"_top\" title=\"psysml:1d9d662c-22cb-416c-b8ab-bb9944386c4a\" xlink:actuate=\"onRequest\" xlink:href=\"psysml:1d9d662c-22cb-416c-b8ab-bb9944386c4a\" xlink:show=\"new\" xlink:title=\"psysml:1d9d662c-22cb-416c-b8ab-bb9944386c4a\" xlink:type=\"simple\"><polygon fill=\"#FFFFFF\" points=\"40,119,66,119,73,141.2969,138,141.2969,138,216,40,216,40,119\" style=\"stroke: #000000; stroke-width: 1.5;\"/><line style=\"stroke: #000000; stroke-width: 1.5;\" x1=\"40\" x2=\"73\" y1=\"141.2969\" y2=\"141.2969\"/><text fill=\"#000000\" font-family=\"sans-serif\" font-size=\"14\" font-weight=\"bold\" lengthAdjust=\"spacingAndGlyphs\" textLength=\"20\" x=\"44\" y=\"133.9951\">P3</text></a><!--MD5=[270fce915f116d4de14055a7c1d9a0f3]\n",
       "class E5--><a href=\"psysml:0adc1dcd-eba4-4b19-b824-866ee03ed7de\" target=\"_top\" title=\"psysml:0adc1dcd-eba4-4b19-b824-866ee03ed7de\" xlink:actuate=\"onRequest\" xlink:href=\"psysml:0adc1dcd-eba4-4b19-b824-866ee03ed7de\" xlink:show=\"new\" xlink:title=\"psysml:0adc1dcd-eba4-4b19-b824-866ee03ed7de\" xlink:type=\"simple\"><rect fill=\"#FFFFFF\" height=\"45.9375\" id=\"E5\" rx=\"10\" ry=\"10\" style=\"stroke: #383838; stroke-width: 1.5;\" width=\"42\" x=\"190\" y=\"44.5\"/><text fill=\"#000000\" font-family=\"sans-serif\" font-size=\"12\" font-style=\"italic\" lengthAdjust=\"spacingAndGlyphs\" textLength=\"40\" x=\"191\" y=\"60.6387\">«part»</text><text fill=\"#000000\" font-family=\"sans-serif\" font-size=\"12\" lengthAdjust=\"spacingAndGlyphs\" textLength=\"22\" x=\"200\" y=\"74.6074\">x: A</text><line style=\"stroke: #383838; stroke-width: 1.5;\" x1=\"191\" x2=\"231\" y1=\"82.4375\" y2=\"82.4375\"/></a><!--MD5=[b9389687b975829384b498ac4b7476b2]\n",
       "class E8--><a href=\"psysml:b076f02a-ad00-46e0-858a-3e2f54feec2a\" target=\"_top\" title=\"psysml:b076f02a-ad00-46e0-858a-3e2f54feec2a\" xlink:actuate=\"onRequest\" xlink:href=\"psysml:b076f02a-ad00-46e0-858a-3e2f54feec2a\" xlink:show=\"new\" xlink:title=\"psysml:b076f02a-ad00-46e0-858a-3e2f54feec2a\" xlink:type=\"simple\"><rect fill=\"#FFFFFF\" height=\"45.9375\" id=\"E8\" rx=\"10\" ry=\"10\" style=\"stroke: #383838; stroke-width: 1.5;\" width=\"42\" x=\"107\" y=\"44.5\"/><text fill=\"#000000\" font-family=\"sans-serif\" font-size=\"12\" font-style=\"italic\" lengthAdjust=\"spacingAndGlyphs\" textLength=\"40\" x=\"108\" y=\"60.6387\">«part»</text><text fill=\"#000000\" font-family=\"sans-serif\" font-size=\"12\" lengthAdjust=\"spacingAndGlyphs\" textLength=\"21\" x=\"117.5\" y=\"74.6074\">z: B</text><line style=\"stroke: #383838; stroke-width: 1.5;\" x1=\"108\" x2=\"148\" y1=\"82.4375\" y2=\"82.4375\"/></a><!--MD5=[09b614a08d8cba4a07c9adeb5e0fee81]\n",
       "class E3--><a href=\"psysml:414aecf4-cab0-4d0d-b5e9-0bd22012706a\" target=\"_top\" title=\"psysml:414aecf4-cab0-4d0d-b5e9-0bd22012706a\" xlink:actuate=\"onRequest\" xlink:href=\"psysml:414aecf4-cab0-4d0d-b5e9-0bd22012706a\" xlink:show=\"new\" xlink:title=\"psysml:414aecf4-cab0-4d0d-b5e9-0bd22012706a\" xlink:type=\"simple\"><rect fill=\"#FFFFFF\" height=\"45.9375\" id=\"E3\" style=\"stroke: #383838; stroke-width: 1.5;\" width=\"66\" x=\"178\" y=\"154\"/><text fill=\"#000000\" font-family=\"sans-serif\" font-size=\"12\" font-style=\"italic\" lengthAdjust=\"spacingAndGlyphs\" textLength=\"64\" x=\"179\" y=\"170.1387\">«part def»</text><text fill=\"#000000\" font-family=\"sans-serif\" font-size=\"12\" lengthAdjust=\"spacingAndGlyphs\" textLength=\"8\" x=\"207\" y=\"184.1074\">A</text><line style=\"stroke: #383838; stroke-width: 1.5;\" x1=\"179\" x2=\"243\" y1=\"191.9375\" y2=\"191.9375\"/></a><a href=\"psysml:e62181a2-aa41-44c6-a86b-ee96628d0c50\" target=\"_top\" title=\"psysml:e62181a2-aa41-44c6-a86b-ee96628d0c50\" xlink:actuate=\"onRequest\" xlink:href=\"psysml:e62181a2-aa41-44c6-a86b-ee96628d0c50\" xlink:show=\"new\" xlink:title=\"psysml:e62181a2-aa41-44c6-a86b-ee96628d0c50\" xlink:type=\"simple\"><polygon fill=\"#FFFFFF\" points=\"32,41,58,41,65,63.2969,72,63.2969,72,93.5938,32,93.5938,32,41\" style=\"stroke: #000000; stroke-width: 1.5;\"/><line style=\"stroke: #000000; stroke-width: 1.5;\" x1=\"32\" x2=\"65\" y1=\"63.2969\" y2=\"63.2969\"/><text fill=\"#000000\" font-family=\"sans-serif\" font-size=\"14\" font-weight=\"bold\" lengthAdjust=\"spacingAndGlyphs\" textLength=\"20\" x=\"36\" y=\"55.9951\">P2</text></a><!--MD5=[2156ba9850f5573cc1fc38a6a4b2f02b]\n",
       "class E7--><a href=\"psysml:f619ebc7-1ca1-4b7d-a8d3-68584975adae\" target=\"_top\" title=\"psysml:f619ebc7-1ca1-4b7d-a8d3-68584975adae\" xlink:actuate=\"onRequest\" xlink:href=\"psysml:f619ebc7-1ca1-4b7d-a8d3-68584975adae\" xlink:show=\"new\" xlink:title=\"psysml:f619ebc7-1ca1-4b7d-a8d3-68584975adae\" xlink:type=\"simple\"><rect fill=\"#FFFFFF\" height=\"45.9375\" id=\"E7\" style=\"stroke: #383838; stroke-width: 1.5;\" width=\"66\" x=\"56\" y=\"154\"/><text fill=\"#000000\" font-family=\"sans-serif\" font-size=\"12\" font-style=\"italic\" lengthAdjust=\"spacingAndGlyphs\" textLength=\"64\" x=\"57\" y=\"170.1387\">«part def»</text><text fill=\"#000000\" font-family=\"sans-serif\" font-size=\"12\" lengthAdjust=\"spacingAndGlyphs\" textLength=\"8\" x=\"85\" y=\"184.1074\">B</text><line style=\"stroke: #383838; stroke-width: 1.5;\" x1=\"57\" x2=\"121\" y1=\"191.9375\" y2=\"191.9375\"/></a><!--MD5=[e9be52314489bd878ff4c7144b63c9e1]\n",
       "link E5 to E3--><a href=\"psysml:e8148481-e1af-4d30-a20f-345018eb1da9\" target=\"_top\" title=\"psysml:e8148481-e1af-4d30-a20f-345018eb1da9\" xlink:actuate=\"onRequest\" xlink:href=\"psysml:e8148481-e1af-4d30-a20f-345018eb1da9\" xlink:show=\"new\" xlink:title=\"psysml:e8148481-e1af-4d30-a20f-345018eb1da9\" xlink:type=\"simple\"><path d=\"M211,90.51 C211,102.89 211,118.78 211,133.48 \" fill=\"none\" id=\"E5-&gt;E3\" style=\"stroke: #383838; stroke-width: 1.0;\"/><polygon fill=\"#FFFFFF\" points=\"211,153.65,204,134.65,218,134.65,211,153.65\" style=\"stroke: #383838; stroke-width: 1.0;\"/><ellipse cx=\"206\" cy=\"128.95\" fill=\"#383838\" rx=\"2\" ry=\"2\" style=\"stroke: #383838; stroke-width: 1.0;\"/><ellipse cx=\"216\" cy=\"128.95\" fill=\"#383838\" rx=\"2\" ry=\"2\" style=\"stroke: #383838; stroke-width: 1.0;\"/></a><!--MD5=[bfa3c8b0d15052fdf50ae9310b491027]\n",
       "link E8 to E7--><a href=\"psysml:88eb6ab6-f030-4136-96c6-6d1b75343c8c\" target=\"_top\" title=\"psysml:88eb6ab6-f030-4136-96c6-6d1b75343c8c\" xlink:actuate=\"onRequest\" xlink:href=\"psysml:88eb6ab6-f030-4136-96c6-6d1b75343c8c\" xlink:show=\"new\" xlink:title=\"psysml:88eb6ab6-f030-4136-96c6-6d1b75343c8c\" xlink:type=\"simple\"><path d=\"M120.01,90.51 C115.39,103.25 109.42,119.7 103.96,134.76 \" fill=\"none\" id=\"E8-&gt;E7\" style=\"stroke: #383838; stroke-width: 1.0;\"/><polygon fill=\"#FFFFFF\" points=\"97.11,153.65,97.0036,133.4018,110.1656,138.1726,97.11,153.65\" style=\"stroke: #383838; stroke-width: 1.0;\"/><ellipse cx=\"100.8262\" cy=\"128.7245\" fill=\"#383838\" rx=\"2\" ry=\"2\" style=\"stroke: #383838; stroke-width: 1.0;\"/><ellipse cx=\"110.2277\" cy=\"132.1322\" fill=\"#383838\" rx=\"2\" ry=\"2\" style=\"stroke: #383838; stroke-width: 1.0;\"/></a><!--MD5=[023c66622875ad41994a02a36ba5b835]\n",
       "@startuml\r\n",
       "top to bottom direction\r\n",
       "skinparam monochrome true\r\n",
       "skinparam classbackgroundcolor white\r\n",
       "skinparam shadowing false\r\n",
       "skinparam wrapWidth 300\r\n",
       "hide circle\r\n",
       "\r\n",
       "package \"PrivateImportTest\" as E1  [[psysml:a19fc987-58b9-4365-8e05-8e082939198f ]]  {\r\n",
       "package \"P1\" as E2  [[psysml:0afae52f-013a-41db-84e1-dbe02c327088 ]]  {\r\n",
       "comp def \"A\" as E3  <<(T,blue)part def>> [[psysml:414aecf4-cab0-4d0d-b5e9-0bd22012706a ]] {\r\n",
       "}\r\n",
       "}\r\n",
       "package \"P2\" as E4  [[psysml:e62181a2-aa41-44c6-a86b-ee96628d0c50 ]]  {\r\n",
       "}\r\n",
       "comp usage \"x: A\" as E5  <<(T,blue)part>> [[psysml:0adc1dcd-eba4-4b19-b824-866ee03ed7de ]] {\r\n",
       "}\r\n",
       "package \"P3\" as E6  [[psysml:1d9d662c-22cb-416c-b8ab-bb9944386c4a ]]  {\r\n",
       "comp def \"B\" as E7  <<(T,blue)part def>> [[psysml:f619ebc7-1ca1-4b7d-a8d3-68584975adae ]] {\r\n",
       "}\r\n",
       "E5 - -:|> E3 [[psysml:e8148481-e1af-4d30-a20f-345018eb1da9 ]] \r\n",
       "}\r\n",
       "comp usage \"z: B\" as E8  <<(T,blue)part>> [[psysml:b076f02a-ad00-46e0-858a-3e2f54feec2a ]] {\r\n",
       "}\r\n",
       "E8 - -:|> E7 [[psysml:88eb6ab6-f030-4136-96c6-6d1b75343c8c ]] \r\n",
       "}\r\n",
       "@enduml\r\n",
       "\n",
       "PlantUML version 1.2020.13(Sat Jun 13 12:26:38 UTC 2020)\n",
       "(EPL source distribution)\n",
       "Java Runtime: OpenJDK Runtime Environment\n",
       "JVM: OpenJDK 64-Bit Server VM\n",
       "Default Encoding: UTF-8\n",
       "Language: en\n",
       "Country: null\n",
       "--></g></svg>"
      ]
     },
     "execution_count": 49,
     "metadata": {},
     "output_type": "execute_result"
    }
   ],
   "source": [
    "%viz --style=\"TB\" --view=\"Sequence\" \"PrivateImportTest\""
   ]
  },
  {
   "cell_type": "code",
   "execution_count": 50,
   "id": "sporting-suggestion",
   "metadata": {
    "execution": {
     "iopub.execute_input": "2021-03-25T09:26:42.828973Z",
     "iopub.status.busy": "2021-03-25T09:26:42.828567Z",
     "iopub.status.idle": "2021-03-25T09:26:42.893736Z",
     "shell.execute_reply": "2021-03-25T09:26:42.891837Z"
    }
   },
   "outputs": [
    {
     "data": {
      "image/svg+xml": [
       "<?xml version=\"1.0\" encoding=\"UTF-8\" standalone=\"no\"?><svg xmlns=\"http://www.w3.org/2000/svg\" xmlns:xlink=\"http://www.w3.org/1999/xlink\" contentScriptType=\"application/ecmascript\" contentStyleType=\"text/css\" height=\"252px\" preserveAspectRatio=\"none\" style=\"width:306px;height:252px;\" version=\"1.1\" viewBox=\"0 0 306 252\" width=\"306px\" zoomAndPan=\"magnify\"><defs/><g><!--MD5=[fbc87193dbaf4d95561dea2c320d4a47]\n",
       "cluster E1--><a href=\"psysml:a19fc987-58b9-4365-8e05-8e082939198f\" target=\"_top\" title=\"psysml:a19fc987-58b9-4365-8e05-8e082939198f\" xlink:actuate=\"onRequest\" xlink:href=\"psysml:a19fc987-58b9-4365-8e05-8e082939198f\" xlink:show=\"new\" xlink:title=\"psysml:a19fc987-58b9-4365-8e05-8e082939198f\" xlink:type=\"simple\"><polygon fill=\"#FFFFFF\" points=\"16,6,163,6,170,28.2969,284,28.2969,284,240,16,240,16,6\" style=\"stroke: #000000; stroke-width: 1.5;\"/><line style=\"stroke: #000000; stroke-width: 1.5;\" x1=\"16\" x2=\"170\" y1=\"28.2969\" y2=\"28.2969\"/><text fill=\"#000000\" font-family=\"sans-serif\" font-size=\"14\" font-weight=\"bold\" lengthAdjust=\"spacingAndGlyphs\" textLength=\"141\" x=\"20\" y=\"20.9951\">PrivateImportTest</text></a><!--MD5=[e4f7fae6ed58524ba242bb0b0d3be6b7]\n",
       "cluster E2--><a href=\"psysml:0afae52f-013a-41db-84e1-dbe02c327088\" target=\"_top\" title=\"psysml:0afae52f-013a-41db-84e1-dbe02c327088\" xlink:actuate=\"onRequest\" xlink:href=\"psysml:0afae52f-013a-41db-84e1-dbe02c327088\" xlink:show=\"new\" xlink:title=\"psysml:0afae52f-013a-41db-84e1-dbe02c327088\" xlink:type=\"simple\"><polygon fill=\"#FFFFFF\" points=\"162,119,188,119,195,141.2969,260,141.2969,260,216,162,216,162,119\" style=\"stroke: #000000; stroke-width: 1.5;\"/><line style=\"stroke: #000000; stroke-width: 1.5;\" x1=\"162\" x2=\"195\" y1=\"141.2969\" y2=\"141.2969\"/><text fill=\"#000000\" font-family=\"sans-serif\" font-size=\"14\" font-weight=\"bold\" lengthAdjust=\"spacingAndGlyphs\" textLength=\"20\" x=\"166\" y=\"133.9951\">P1</text></a><!--MD5=[14e3b0961a2654348d326746436168a1]\n",
       "cluster E6--><a href=\"psysml:1d9d662c-22cb-416c-b8ab-bb9944386c4a\" target=\"_top\" title=\"psysml:1d9d662c-22cb-416c-b8ab-bb9944386c4a\" xlink:actuate=\"onRequest\" xlink:href=\"psysml:1d9d662c-22cb-416c-b8ab-bb9944386c4a\" xlink:show=\"new\" xlink:title=\"psysml:1d9d662c-22cb-416c-b8ab-bb9944386c4a\" xlink:type=\"simple\"><polygon fill=\"#FFFFFF\" points=\"40,119,66,119,73,141.2969,138,141.2969,138,216,40,216,40,119\" style=\"stroke: #000000; stroke-width: 1.5;\"/><line style=\"stroke: #000000; stroke-width: 1.5;\" x1=\"40\" x2=\"73\" y1=\"141.2969\" y2=\"141.2969\"/><text fill=\"#000000\" font-family=\"sans-serif\" font-size=\"14\" font-weight=\"bold\" lengthAdjust=\"spacingAndGlyphs\" textLength=\"20\" x=\"44\" y=\"133.9951\">P3</text></a><!--MD5=[270fce915f116d4de14055a7c1d9a0f3]\n",
       "class E5--><a href=\"psysml:0adc1dcd-eba4-4b19-b824-866ee03ed7de\" target=\"_top\" title=\"psysml:0adc1dcd-eba4-4b19-b824-866ee03ed7de\" xlink:actuate=\"onRequest\" xlink:href=\"psysml:0adc1dcd-eba4-4b19-b824-866ee03ed7de\" xlink:show=\"new\" xlink:title=\"psysml:0adc1dcd-eba4-4b19-b824-866ee03ed7de\" xlink:type=\"simple\"><rect fill=\"#FFFFFF\" height=\"45.9375\" id=\"E5\" rx=\"10\" ry=\"10\" style=\"stroke: #383838; stroke-width: 1.5;\" width=\"42\" x=\"190\" y=\"44.5\"/><text fill=\"#000000\" font-family=\"sans-serif\" font-size=\"12\" font-style=\"italic\" lengthAdjust=\"spacingAndGlyphs\" textLength=\"40\" x=\"191\" y=\"60.6387\">«part»</text><text fill=\"#000000\" font-family=\"sans-serif\" font-size=\"12\" lengthAdjust=\"spacingAndGlyphs\" textLength=\"22\" x=\"200\" y=\"74.6074\">x: A</text><line style=\"stroke: #383838; stroke-width: 1.5;\" x1=\"191\" x2=\"231\" y1=\"82.4375\" y2=\"82.4375\"/></a><!--MD5=[b9389687b975829384b498ac4b7476b2]\n",
       "class E8--><a href=\"psysml:b076f02a-ad00-46e0-858a-3e2f54feec2a\" target=\"_top\" title=\"psysml:b076f02a-ad00-46e0-858a-3e2f54feec2a\" xlink:actuate=\"onRequest\" xlink:href=\"psysml:b076f02a-ad00-46e0-858a-3e2f54feec2a\" xlink:show=\"new\" xlink:title=\"psysml:b076f02a-ad00-46e0-858a-3e2f54feec2a\" xlink:type=\"simple\"><rect fill=\"#FFFFFF\" height=\"45.9375\" id=\"E8\" rx=\"10\" ry=\"10\" style=\"stroke: #383838; stroke-width: 1.5;\" width=\"42\" x=\"107\" y=\"44.5\"/><text fill=\"#000000\" font-family=\"sans-serif\" font-size=\"12\" font-style=\"italic\" lengthAdjust=\"spacingAndGlyphs\" textLength=\"40\" x=\"108\" y=\"60.6387\">«part»</text><text fill=\"#000000\" font-family=\"sans-serif\" font-size=\"12\" lengthAdjust=\"spacingAndGlyphs\" textLength=\"21\" x=\"117.5\" y=\"74.6074\">z: B</text><line style=\"stroke: #383838; stroke-width: 1.5;\" x1=\"108\" x2=\"148\" y1=\"82.4375\" y2=\"82.4375\"/></a><!--MD5=[09b614a08d8cba4a07c9adeb5e0fee81]\n",
       "class E3--><a href=\"psysml:414aecf4-cab0-4d0d-b5e9-0bd22012706a\" target=\"_top\" title=\"psysml:414aecf4-cab0-4d0d-b5e9-0bd22012706a\" xlink:actuate=\"onRequest\" xlink:href=\"psysml:414aecf4-cab0-4d0d-b5e9-0bd22012706a\" xlink:show=\"new\" xlink:title=\"psysml:414aecf4-cab0-4d0d-b5e9-0bd22012706a\" xlink:type=\"simple\"><rect fill=\"#FFFFFF\" height=\"45.9375\" id=\"E3\" style=\"stroke: #383838; stroke-width: 1.5;\" width=\"66\" x=\"178\" y=\"154\"/><text fill=\"#000000\" font-family=\"sans-serif\" font-size=\"12\" font-style=\"italic\" lengthAdjust=\"spacingAndGlyphs\" textLength=\"64\" x=\"179\" y=\"170.1387\">«part def»</text><text fill=\"#000000\" font-family=\"sans-serif\" font-size=\"12\" lengthAdjust=\"spacingAndGlyphs\" textLength=\"8\" x=\"207\" y=\"184.1074\">A</text><line style=\"stroke: #383838; stroke-width: 1.5;\" x1=\"179\" x2=\"243\" y1=\"191.9375\" y2=\"191.9375\"/></a><a href=\"psysml:e62181a2-aa41-44c6-a86b-ee96628d0c50\" target=\"_top\" title=\"psysml:e62181a2-aa41-44c6-a86b-ee96628d0c50\" xlink:actuate=\"onRequest\" xlink:href=\"psysml:e62181a2-aa41-44c6-a86b-ee96628d0c50\" xlink:show=\"new\" xlink:title=\"psysml:e62181a2-aa41-44c6-a86b-ee96628d0c50\" xlink:type=\"simple\"><polygon fill=\"#FFFFFF\" points=\"32,41,58,41,65,63.2969,72,63.2969,72,93.5938,32,93.5938,32,41\" style=\"stroke: #000000; stroke-width: 1.5;\"/><line style=\"stroke: #000000; stroke-width: 1.5;\" x1=\"32\" x2=\"65\" y1=\"63.2969\" y2=\"63.2969\"/><text fill=\"#000000\" font-family=\"sans-serif\" font-size=\"14\" font-weight=\"bold\" lengthAdjust=\"spacingAndGlyphs\" textLength=\"20\" x=\"36\" y=\"55.9951\">P2</text></a><!--MD5=[2156ba9850f5573cc1fc38a6a4b2f02b]\n",
       "class E7--><a href=\"psysml:f619ebc7-1ca1-4b7d-a8d3-68584975adae\" target=\"_top\" title=\"psysml:f619ebc7-1ca1-4b7d-a8d3-68584975adae\" xlink:actuate=\"onRequest\" xlink:href=\"psysml:f619ebc7-1ca1-4b7d-a8d3-68584975adae\" xlink:show=\"new\" xlink:title=\"psysml:f619ebc7-1ca1-4b7d-a8d3-68584975adae\" xlink:type=\"simple\"><rect fill=\"#FFFFFF\" height=\"45.9375\" id=\"E7\" style=\"stroke: #383838; stroke-width: 1.5;\" width=\"66\" x=\"56\" y=\"154\"/><text fill=\"#000000\" font-family=\"sans-serif\" font-size=\"12\" font-style=\"italic\" lengthAdjust=\"spacingAndGlyphs\" textLength=\"64\" x=\"57\" y=\"170.1387\">«part def»</text><text fill=\"#000000\" font-family=\"sans-serif\" font-size=\"12\" lengthAdjust=\"spacingAndGlyphs\" textLength=\"8\" x=\"85\" y=\"184.1074\">B</text><line style=\"stroke: #383838; stroke-width: 1.5;\" x1=\"57\" x2=\"121\" y1=\"191.9375\" y2=\"191.9375\"/></a><!--MD5=[e9be52314489bd878ff4c7144b63c9e1]\n",
       "link E5 to E3--><a href=\"psysml:e8148481-e1af-4d30-a20f-345018eb1da9\" target=\"_top\" title=\"psysml:e8148481-e1af-4d30-a20f-345018eb1da9\" xlink:actuate=\"onRequest\" xlink:href=\"psysml:e8148481-e1af-4d30-a20f-345018eb1da9\" xlink:show=\"new\" xlink:title=\"psysml:e8148481-e1af-4d30-a20f-345018eb1da9\" xlink:type=\"simple\"><path d=\"M211,90.51 C211,102.89 211,118.78 211,133.48 \" fill=\"none\" id=\"E5-&gt;E3\" style=\"stroke: #383838; stroke-width: 1.0;\"/><polygon fill=\"#FFFFFF\" points=\"211,153.65,204,134.65,218,134.65,211,153.65\" style=\"stroke: #383838; stroke-width: 1.0;\"/><ellipse cx=\"206\" cy=\"128.95\" fill=\"#383838\" rx=\"2\" ry=\"2\" style=\"stroke: #383838; stroke-width: 1.0;\"/><ellipse cx=\"216\" cy=\"128.95\" fill=\"#383838\" rx=\"2\" ry=\"2\" style=\"stroke: #383838; stroke-width: 1.0;\"/></a><!--MD5=[bfa3c8b0d15052fdf50ae9310b491027]\n",
       "link E8 to E7--><a href=\"psysml:88eb6ab6-f030-4136-96c6-6d1b75343c8c\" target=\"_top\" title=\"psysml:88eb6ab6-f030-4136-96c6-6d1b75343c8c\" xlink:actuate=\"onRequest\" xlink:href=\"psysml:88eb6ab6-f030-4136-96c6-6d1b75343c8c\" xlink:show=\"new\" xlink:title=\"psysml:88eb6ab6-f030-4136-96c6-6d1b75343c8c\" xlink:type=\"simple\"><path d=\"M120.01,90.51 C115.39,103.25 109.42,119.7 103.96,134.76 \" fill=\"none\" id=\"E8-&gt;E7\" style=\"stroke: #383838; stroke-width: 1.0;\"/><polygon fill=\"#FFFFFF\" points=\"97.11,153.65,97.0036,133.4018,110.1656,138.1726,97.11,153.65\" style=\"stroke: #383838; stroke-width: 1.0;\"/><ellipse cx=\"100.8262\" cy=\"128.7245\" fill=\"#383838\" rx=\"2\" ry=\"2\" style=\"stroke: #383838; stroke-width: 1.0;\"/><ellipse cx=\"110.2277\" cy=\"132.1322\" fill=\"#383838\" rx=\"2\" ry=\"2\" style=\"stroke: #383838; stroke-width: 1.0;\"/></a><!--MD5=[023c66622875ad41994a02a36ba5b835]\n",
       "@startuml\r\n",
       "top to bottom direction\r\n",
       "skinparam monochrome true\r\n",
       "skinparam classbackgroundcolor white\r\n",
       "skinparam shadowing false\r\n",
       "skinparam wrapWidth 300\r\n",
       "hide circle\r\n",
       "\r\n",
       "package \"PrivateImportTest\" as E1  [[psysml:a19fc987-58b9-4365-8e05-8e082939198f ]]  {\r\n",
       "package \"P1\" as E2  [[psysml:0afae52f-013a-41db-84e1-dbe02c327088 ]]  {\r\n",
       "comp def \"A\" as E3  <<(T,blue)part def>> [[psysml:414aecf4-cab0-4d0d-b5e9-0bd22012706a ]] {\r\n",
       "}\r\n",
       "}\r\n",
       "package \"P2\" as E4  [[psysml:e62181a2-aa41-44c6-a86b-ee96628d0c50 ]]  {\r\n",
       "}\r\n",
       "comp usage \"x: A\" as E5  <<(T,blue)part>> [[psysml:0adc1dcd-eba4-4b19-b824-866ee03ed7de ]] {\r\n",
       "}\r\n",
       "package \"P3\" as E6  [[psysml:1d9d662c-22cb-416c-b8ab-bb9944386c4a ]]  {\r\n",
       "comp def \"B\" as E7  <<(T,blue)part def>> [[psysml:f619ebc7-1ca1-4b7d-a8d3-68584975adae ]] {\r\n",
       "}\r\n",
       "E5 - -:|> E3 [[psysml:e8148481-e1af-4d30-a20f-345018eb1da9 ]] \r\n",
       "}\r\n",
       "comp usage \"z: B\" as E8  <<(T,blue)part>> [[psysml:b076f02a-ad00-46e0-858a-3e2f54feec2a ]] {\r\n",
       "}\r\n",
       "E8 - -:|> E7 [[psysml:88eb6ab6-f030-4136-96c6-6d1b75343c8c ]] \r\n",
       "}\r\n",
       "@enduml\r\n",
       "\n",
       "PlantUML version 1.2020.13(Sat Jun 13 12:26:38 UTC 2020)\n",
       "(EPL source distribution)\n",
       "Java Runtime: OpenJDK Runtime Environment\n",
       "JVM: OpenJDK 64-Bit Server VM\n",
       "Default Encoding: UTF-8\n",
       "Language: en\n",
       "Country: null\n",
       "--></g></svg>"
      ]
     },
     "execution_count": 50,
     "metadata": {},
     "output_type": "execute_result"
    }
   ],
   "source": [
    "%viz --style=\"TB\" --view=\"MIXED\" \"PrivateImportTest\""
   ]
  },
  {
   "cell_type": "code",
   "execution_count": 51,
   "id": "activated-drill",
   "metadata": {
    "execution": {
     "iopub.execute_input": "2021-03-25T09:26:42.943493Z",
     "iopub.status.busy": "2021-03-25T09:26:42.943050Z",
     "iopub.status.idle": "2021-03-25T09:26:43.012153Z",
     "shell.execute_reply": "2021-03-25T09:26:43.010764Z"
    }
   },
   "outputs": [
    {
     "data": {
      "image/svg+xml": [
       "<?xml version=\"1.0\" encoding=\"UTF-8\" standalone=\"no\"?><svg xmlns=\"http://www.w3.org/2000/svg\" xmlns:xlink=\"http://www.w3.org/1999/xlink\" contentScriptType=\"application/ecmascript\" contentStyleType=\"text/css\" height=\"252px\" preserveAspectRatio=\"none\" style=\"width:306px;height:252px;\" version=\"1.1\" viewBox=\"0 0 306 252\" width=\"306px\" zoomAndPan=\"magnify\"><defs/><g><!--MD5=[fbc87193dbaf4d95561dea2c320d4a47]\n",
       "cluster E1--><a href=\"psysml:a19fc987-58b9-4365-8e05-8e082939198f\" target=\"_top\" title=\"psysml:a19fc987-58b9-4365-8e05-8e082939198f\" xlink:actuate=\"onRequest\" xlink:href=\"psysml:a19fc987-58b9-4365-8e05-8e082939198f\" xlink:show=\"new\" xlink:title=\"psysml:a19fc987-58b9-4365-8e05-8e082939198f\" xlink:type=\"simple\"><polygon fill=\"#FFFFFF\" points=\"16,6,163,6,170,28.2969,284,28.2969,284,240,16,240,16,6\" style=\"stroke: #000000; stroke-width: 1.5;\"/><line style=\"stroke: #000000; stroke-width: 1.5;\" x1=\"16\" x2=\"170\" y1=\"28.2969\" y2=\"28.2969\"/><text fill=\"#000000\" font-family=\"sans-serif\" font-size=\"14\" font-weight=\"bold\" lengthAdjust=\"spacingAndGlyphs\" textLength=\"141\" x=\"20\" y=\"20.9951\">PrivateImportTest</text></a><!--MD5=[e4f7fae6ed58524ba242bb0b0d3be6b7]\n",
       "cluster E2--><a href=\"psysml:0afae52f-013a-41db-84e1-dbe02c327088\" target=\"_top\" title=\"psysml:0afae52f-013a-41db-84e1-dbe02c327088\" xlink:actuate=\"onRequest\" xlink:href=\"psysml:0afae52f-013a-41db-84e1-dbe02c327088\" xlink:show=\"new\" xlink:title=\"psysml:0afae52f-013a-41db-84e1-dbe02c327088\" xlink:type=\"simple\"><polygon fill=\"#FFFFFF\" points=\"162,119,188,119,195,141.2969,260,141.2969,260,216,162,216,162,119\" style=\"stroke: #000000; stroke-width: 1.5;\"/><line style=\"stroke: #000000; stroke-width: 1.5;\" x1=\"162\" x2=\"195\" y1=\"141.2969\" y2=\"141.2969\"/><text fill=\"#000000\" font-family=\"sans-serif\" font-size=\"14\" font-weight=\"bold\" lengthAdjust=\"spacingAndGlyphs\" textLength=\"20\" x=\"166\" y=\"133.9951\">P1</text></a><!--MD5=[14e3b0961a2654348d326746436168a1]\n",
       "cluster E6--><a href=\"psysml:1d9d662c-22cb-416c-b8ab-bb9944386c4a\" target=\"_top\" title=\"psysml:1d9d662c-22cb-416c-b8ab-bb9944386c4a\" xlink:actuate=\"onRequest\" xlink:href=\"psysml:1d9d662c-22cb-416c-b8ab-bb9944386c4a\" xlink:show=\"new\" xlink:title=\"psysml:1d9d662c-22cb-416c-b8ab-bb9944386c4a\" xlink:type=\"simple\"><polygon fill=\"#FFFFFF\" points=\"40,119,66,119,73,141.2969,138,141.2969,138,216,40,216,40,119\" style=\"stroke: #000000; stroke-width: 1.5;\"/><line style=\"stroke: #000000; stroke-width: 1.5;\" x1=\"40\" x2=\"73\" y1=\"141.2969\" y2=\"141.2969\"/><text fill=\"#000000\" font-family=\"sans-serif\" font-size=\"14\" font-weight=\"bold\" lengthAdjust=\"spacingAndGlyphs\" textLength=\"20\" x=\"44\" y=\"133.9951\">P3</text></a><!--MD5=[270fce915f116d4de14055a7c1d9a0f3]\n",
       "class E5--><a href=\"psysml:0adc1dcd-eba4-4b19-b824-866ee03ed7de\" target=\"_top\" title=\"psysml:0adc1dcd-eba4-4b19-b824-866ee03ed7de\" xlink:actuate=\"onRequest\" xlink:href=\"psysml:0adc1dcd-eba4-4b19-b824-866ee03ed7de\" xlink:show=\"new\" xlink:title=\"psysml:0adc1dcd-eba4-4b19-b824-866ee03ed7de\" xlink:type=\"simple\"><rect fill=\"#FFFFFF\" height=\"45.9375\" id=\"E5\" rx=\"10\" ry=\"10\" style=\"stroke: #383838; stroke-width: 1.5;\" width=\"42\" x=\"190\" y=\"44.5\"/><text fill=\"#000000\" font-family=\"sans-serif\" font-size=\"12\" font-style=\"italic\" lengthAdjust=\"spacingAndGlyphs\" textLength=\"40\" x=\"191\" y=\"60.6387\">«part»</text><text fill=\"#000000\" font-family=\"sans-serif\" font-size=\"12\" lengthAdjust=\"spacingAndGlyphs\" textLength=\"22\" x=\"200\" y=\"74.6074\">x: A</text><line style=\"stroke: #383838; stroke-width: 1.5;\" x1=\"191\" x2=\"231\" y1=\"82.4375\" y2=\"82.4375\"/></a><!--MD5=[b9389687b975829384b498ac4b7476b2]\n",
       "class E8--><a href=\"psysml:b076f02a-ad00-46e0-858a-3e2f54feec2a\" target=\"_top\" title=\"psysml:b076f02a-ad00-46e0-858a-3e2f54feec2a\" xlink:actuate=\"onRequest\" xlink:href=\"psysml:b076f02a-ad00-46e0-858a-3e2f54feec2a\" xlink:show=\"new\" xlink:title=\"psysml:b076f02a-ad00-46e0-858a-3e2f54feec2a\" xlink:type=\"simple\"><rect fill=\"#FFFFFF\" height=\"45.9375\" id=\"E8\" rx=\"10\" ry=\"10\" style=\"stroke: #383838; stroke-width: 1.5;\" width=\"42\" x=\"107\" y=\"44.5\"/><text fill=\"#000000\" font-family=\"sans-serif\" font-size=\"12\" font-style=\"italic\" lengthAdjust=\"spacingAndGlyphs\" textLength=\"40\" x=\"108\" y=\"60.6387\">«part»</text><text fill=\"#000000\" font-family=\"sans-serif\" font-size=\"12\" lengthAdjust=\"spacingAndGlyphs\" textLength=\"21\" x=\"117.5\" y=\"74.6074\">z: B</text><line style=\"stroke: #383838; stroke-width: 1.5;\" x1=\"108\" x2=\"148\" y1=\"82.4375\" y2=\"82.4375\"/></a><!--MD5=[09b614a08d8cba4a07c9adeb5e0fee81]\n",
       "class E3--><a href=\"psysml:414aecf4-cab0-4d0d-b5e9-0bd22012706a\" target=\"_top\" title=\"psysml:414aecf4-cab0-4d0d-b5e9-0bd22012706a\" xlink:actuate=\"onRequest\" xlink:href=\"psysml:414aecf4-cab0-4d0d-b5e9-0bd22012706a\" xlink:show=\"new\" xlink:title=\"psysml:414aecf4-cab0-4d0d-b5e9-0bd22012706a\" xlink:type=\"simple\"><rect fill=\"#FFFFFF\" height=\"45.9375\" id=\"E3\" style=\"stroke: #383838; stroke-width: 1.5;\" width=\"66\" x=\"178\" y=\"154\"/><text fill=\"#000000\" font-family=\"sans-serif\" font-size=\"12\" font-style=\"italic\" lengthAdjust=\"spacingAndGlyphs\" textLength=\"64\" x=\"179\" y=\"170.1387\">«part def»</text><text fill=\"#000000\" font-family=\"sans-serif\" font-size=\"12\" lengthAdjust=\"spacingAndGlyphs\" textLength=\"8\" x=\"207\" y=\"184.1074\">A</text><line style=\"stroke: #383838; stroke-width: 1.5;\" x1=\"179\" x2=\"243\" y1=\"191.9375\" y2=\"191.9375\"/></a><a href=\"psysml:e62181a2-aa41-44c6-a86b-ee96628d0c50\" target=\"_top\" title=\"psysml:e62181a2-aa41-44c6-a86b-ee96628d0c50\" xlink:actuate=\"onRequest\" xlink:href=\"psysml:e62181a2-aa41-44c6-a86b-ee96628d0c50\" xlink:show=\"new\" xlink:title=\"psysml:e62181a2-aa41-44c6-a86b-ee96628d0c50\" xlink:type=\"simple\"><polygon fill=\"#FFFFFF\" points=\"32,41,58,41,65,63.2969,72,63.2969,72,93.5938,32,93.5938,32,41\" style=\"stroke: #000000; stroke-width: 1.5;\"/><line style=\"stroke: #000000; stroke-width: 1.5;\" x1=\"32\" x2=\"65\" y1=\"63.2969\" y2=\"63.2969\"/><text fill=\"#000000\" font-family=\"sans-serif\" font-size=\"14\" font-weight=\"bold\" lengthAdjust=\"spacingAndGlyphs\" textLength=\"20\" x=\"36\" y=\"55.9951\">P2</text></a><!--MD5=[2156ba9850f5573cc1fc38a6a4b2f02b]\n",
       "class E7--><a href=\"psysml:f619ebc7-1ca1-4b7d-a8d3-68584975adae\" target=\"_top\" title=\"psysml:f619ebc7-1ca1-4b7d-a8d3-68584975adae\" xlink:actuate=\"onRequest\" xlink:href=\"psysml:f619ebc7-1ca1-4b7d-a8d3-68584975adae\" xlink:show=\"new\" xlink:title=\"psysml:f619ebc7-1ca1-4b7d-a8d3-68584975adae\" xlink:type=\"simple\"><rect fill=\"#FFFFFF\" height=\"45.9375\" id=\"E7\" style=\"stroke: #383838; stroke-width: 1.5;\" width=\"66\" x=\"56\" y=\"154\"/><text fill=\"#000000\" font-family=\"sans-serif\" font-size=\"12\" font-style=\"italic\" lengthAdjust=\"spacingAndGlyphs\" textLength=\"64\" x=\"57\" y=\"170.1387\">«part def»</text><text fill=\"#000000\" font-family=\"sans-serif\" font-size=\"12\" lengthAdjust=\"spacingAndGlyphs\" textLength=\"8\" x=\"85\" y=\"184.1074\">B</text><line style=\"stroke: #383838; stroke-width: 1.5;\" x1=\"57\" x2=\"121\" y1=\"191.9375\" y2=\"191.9375\"/></a><!--MD5=[e9be52314489bd878ff4c7144b63c9e1]\n",
       "link E5 to E3--><a href=\"psysml:e8148481-e1af-4d30-a20f-345018eb1da9\" target=\"_top\" title=\"psysml:e8148481-e1af-4d30-a20f-345018eb1da9\" xlink:actuate=\"onRequest\" xlink:href=\"psysml:e8148481-e1af-4d30-a20f-345018eb1da9\" xlink:show=\"new\" xlink:title=\"psysml:e8148481-e1af-4d30-a20f-345018eb1da9\" xlink:type=\"simple\"><path d=\"M211,90.72 C211,90.72 211,133.81 211,133.81 \" fill=\"none\" id=\"E5-&gt;E3\" style=\"stroke: #383838; stroke-width: 1.0;\"/><polygon fill=\"#FFFFFF\" points=\"211,153.81,204,134.81,218,134.81,211,153.81\" style=\"stroke: #383838; stroke-width: 1.0;\"/><ellipse cx=\"206\" cy=\"129.11\" fill=\"#383838\" rx=\"2\" ry=\"2\" style=\"stroke: #383838; stroke-width: 1.0;\"/><ellipse cx=\"216\" cy=\"129.11\" fill=\"#383838\" rx=\"2\" ry=\"2\" style=\"stroke: #383838; stroke-width: 1.0;\"/></a><!--MD5=[bfa3c8b0d15052fdf50ae9310b491027]\n",
       "link E8 to E7--><a href=\"psysml:88eb6ab6-f030-4136-96c6-6d1b75343c8c\" target=\"_top\" title=\"psysml:88eb6ab6-f030-4136-96c6-6d1b75343c8c\" xlink:actuate=\"onRequest\" xlink:href=\"psysml:88eb6ab6-f030-4136-96c6-6d1b75343c8c\" xlink:show=\"new\" xlink:title=\"psysml:88eb6ab6-f030-4136-96c6-6d1b75343c8c\" xlink:type=\"simple\"><path d=\"M114.5,90.72 C114.5,90.72 114.5,133.81 114.5,133.81 \" fill=\"none\" id=\"E8-&gt;E7\" style=\"stroke: #383838; stroke-width: 1.0;\"/><polygon fill=\"#FFFFFF\" points=\"114.5,153.81,107.5,134.81,121.5,134.81,114.5,153.81\" style=\"stroke: #383838; stroke-width: 1.0;\"/><ellipse cx=\"109.5\" cy=\"129.11\" fill=\"#383838\" rx=\"2\" ry=\"2\" style=\"stroke: #383838; stroke-width: 1.0;\"/><ellipse cx=\"119.5\" cy=\"129.11\" fill=\"#383838\" rx=\"2\" ry=\"2\" style=\"stroke: #383838; stroke-width: 1.0;\"/></a><!--MD5=[77fc615f68df709539dd2c97c2db1217]\n",
       "@startuml\r\n",
       "skinparam linetype ortho\r\n",
       "skinparam monochrome true\r\n",
       "skinparam classbackgroundcolor white\r\n",
       "skinparam shadowing false\r\n",
       "skinparam wrapWidth 300\r\n",
       "hide circle\r\n",
       "\r\n",
       "package \"PrivateImportTest\" as E1  [[psysml:a19fc987-58b9-4365-8e05-8e082939198f ]]  {\r\n",
       "package \"P1\" as E2  [[psysml:0afae52f-013a-41db-84e1-dbe02c327088 ]]  {\r\n",
       "comp def \"A\" as E3  <<(T,blue)part def>> [[psysml:414aecf4-cab0-4d0d-b5e9-0bd22012706a ]] {\r\n",
       "}\r\n",
       "}\r\n",
       "package \"P2\" as E4  [[psysml:e62181a2-aa41-44c6-a86b-ee96628d0c50 ]]  {\r\n",
       "}\r\n",
       "comp usage \"x: A\" as E5  <<(T,blue)part>> [[psysml:0adc1dcd-eba4-4b19-b824-866ee03ed7de ]] {\r\n",
       "}\r\n",
       "package \"P3\" as E6  [[psysml:1d9d662c-22cb-416c-b8ab-bb9944386c4a ]]  {\r\n",
       "comp def \"B\" as E7  <<(T,blue)part def>> [[psysml:f619ebc7-1ca1-4b7d-a8d3-68584975adae ]] {\r\n",
       "}\r\n",
       "E5 - -:|> E3 [[psysml:e8148481-e1af-4d30-a20f-345018eb1da9 ]] \r\n",
       "}\r\n",
       "comp usage \"z: B\" as E8  <<(T,blue)part>> [[psysml:b076f02a-ad00-46e0-858a-3e2f54feec2a ]] {\r\n",
       "}\r\n",
       "E8 - -:|> E7 [[psysml:88eb6ab6-f030-4136-96c6-6d1b75343c8c ]] \r\n",
       "}\r\n",
       "@enduml\r\n",
       "\n",
       "PlantUML version 1.2020.13(Sat Jun 13 12:26:38 UTC 2020)\n",
       "(EPL source distribution)\n",
       "Java Runtime: OpenJDK Runtime Environment\n",
       "JVM: OpenJDK 64-Bit Server VM\n",
       "Default Encoding: UTF-8\n",
       "Language: en\n",
       "Country: null\n",
       "--></g></svg>"
      ]
     },
     "execution_count": 51,
     "metadata": {},
     "output_type": "execute_result"
    }
   ],
   "source": [
    "%viz --style=\"ORTHOLINE\" --view=\"Default\" \"PrivateImportTest\""
   ]
  },
  {
   "cell_type": "code",
   "execution_count": 52,
   "id": "wanted-blame",
   "metadata": {
    "execution": {
     "iopub.execute_input": "2021-03-25T09:26:43.061213Z",
     "iopub.status.busy": "2021-03-25T09:26:43.060809Z",
     "iopub.status.idle": "2021-03-25T09:26:43.125861Z",
     "shell.execute_reply": "2021-03-25T09:26:43.123637Z"
    }
   },
   "outputs": [
    {
     "data": {
      "image/svg+xml": [
       "<?xml version=\"1.0\" encoding=\"UTF-8\" standalone=\"no\"?><svg xmlns=\"http://www.w3.org/2000/svg\" xmlns:xlink=\"http://www.w3.org/1999/xlink\" contentScriptType=\"application/ecmascript\" contentStyleType=\"text/css\" height=\"252px\" preserveAspectRatio=\"none\" style=\"width:306px;height:252px;\" version=\"1.1\" viewBox=\"0 0 306 252\" width=\"306px\" zoomAndPan=\"magnify\"><defs/><g><!--MD5=[fbc87193dbaf4d95561dea2c320d4a47]\n",
       "cluster E1--><a href=\"psysml:a19fc987-58b9-4365-8e05-8e082939198f\" target=\"_top\" title=\"psysml:a19fc987-58b9-4365-8e05-8e082939198f\" xlink:actuate=\"onRequest\" xlink:href=\"psysml:a19fc987-58b9-4365-8e05-8e082939198f\" xlink:show=\"new\" xlink:title=\"psysml:a19fc987-58b9-4365-8e05-8e082939198f\" xlink:type=\"simple\"><polygon fill=\"#FFFFFF\" points=\"16,6,163,6,170,28.2969,284,28.2969,284,240,16,240,16,6\" style=\"stroke: #000000; stroke-width: 1.5;\"/><line style=\"stroke: #000000; stroke-width: 1.5;\" x1=\"16\" x2=\"170\" y1=\"28.2969\" y2=\"28.2969\"/><text fill=\"#000000\" font-family=\"sans-serif\" font-size=\"14\" font-weight=\"bold\" lengthAdjust=\"spacingAndGlyphs\" textLength=\"141\" x=\"20\" y=\"20.9951\">PrivateImportTest</text></a><!--MD5=[e4f7fae6ed58524ba242bb0b0d3be6b7]\n",
       "cluster E2--><a href=\"psysml:0afae52f-013a-41db-84e1-dbe02c327088\" target=\"_top\" title=\"psysml:0afae52f-013a-41db-84e1-dbe02c327088\" xlink:actuate=\"onRequest\" xlink:href=\"psysml:0afae52f-013a-41db-84e1-dbe02c327088\" xlink:show=\"new\" xlink:title=\"psysml:0afae52f-013a-41db-84e1-dbe02c327088\" xlink:type=\"simple\"><polygon fill=\"#FFFFFF\" points=\"162,119,188,119,195,141.2969,260,141.2969,260,216,162,216,162,119\" style=\"stroke: #000000; stroke-width: 1.5;\"/><line style=\"stroke: #000000; stroke-width: 1.5;\" x1=\"162\" x2=\"195\" y1=\"141.2969\" y2=\"141.2969\"/><text fill=\"#000000\" font-family=\"sans-serif\" font-size=\"14\" font-weight=\"bold\" lengthAdjust=\"spacingAndGlyphs\" textLength=\"20\" x=\"166\" y=\"133.9951\">P1</text></a><!--MD5=[14e3b0961a2654348d326746436168a1]\n",
       "cluster E6--><a href=\"psysml:1d9d662c-22cb-416c-b8ab-bb9944386c4a\" target=\"_top\" title=\"psysml:1d9d662c-22cb-416c-b8ab-bb9944386c4a\" xlink:actuate=\"onRequest\" xlink:href=\"psysml:1d9d662c-22cb-416c-b8ab-bb9944386c4a\" xlink:show=\"new\" xlink:title=\"psysml:1d9d662c-22cb-416c-b8ab-bb9944386c4a\" xlink:type=\"simple\"><polygon fill=\"#FFFFFF\" points=\"40,119,66,119,73,141.2969,138,141.2969,138,216,40,216,40,119\" style=\"stroke: #000000; stroke-width: 1.5;\"/><line style=\"stroke: #000000; stroke-width: 1.5;\" x1=\"40\" x2=\"73\" y1=\"141.2969\" y2=\"141.2969\"/><text fill=\"#000000\" font-family=\"sans-serif\" font-size=\"14\" font-weight=\"bold\" lengthAdjust=\"spacingAndGlyphs\" textLength=\"20\" x=\"44\" y=\"133.9951\">P3</text></a><!--MD5=[270fce915f116d4de14055a7c1d9a0f3]\n",
       "class E5--><a href=\"psysml:0adc1dcd-eba4-4b19-b824-866ee03ed7de\" target=\"_top\" title=\"psysml:0adc1dcd-eba4-4b19-b824-866ee03ed7de\" xlink:actuate=\"onRequest\" xlink:href=\"psysml:0adc1dcd-eba4-4b19-b824-866ee03ed7de\" xlink:show=\"new\" xlink:title=\"psysml:0adc1dcd-eba4-4b19-b824-866ee03ed7de\" xlink:type=\"simple\"><rect fill=\"#FFFFFF\" height=\"45.9375\" id=\"E5\" rx=\"10\" ry=\"10\" style=\"stroke: #383838; stroke-width: 1.5;\" width=\"42\" x=\"190\" y=\"44.5\"/><text fill=\"#000000\" font-family=\"sans-serif\" font-size=\"12\" font-style=\"italic\" lengthAdjust=\"spacingAndGlyphs\" textLength=\"40\" x=\"191\" y=\"60.6387\">«part»</text><text fill=\"#000000\" font-family=\"sans-serif\" font-size=\"12\" lengthAdjust=\"spacingAndGlyphs\" textLength=\"22\" x=\"200\" y=\"74.6074\">x: A</text><line style=\"stroke: #383838; stroke-width: 1.5;\" x1=\"191\" x2=\"231\" y1=\"82.4375\" y2=\"82.4375\"/></a><!--MD5=[b9389687b975829384b498ac4b7476b2]\n",
       "class E8--><a href=\"psysml:b076f02a-ad00-46e0-858a-3e2f54feec2a\" target=\"_top\" title=\"psysml:b076f02a-ad00-46e0-858a-3e2f54feec2a\" xlink:actuate=\"onRequest\" xlink:href=\"psysml:b076f02a-ad00-46e0-858a-3e2f54feec2a\" xlink:show=\"new\" xlink:title=\"psysml:b076f02a-ad00-46e0-858a-3e2f54feec2a\" xlink:type=\"simple\"><rect fill=\"#FFFFFF\" height=\"45.9375\" id=\"E8\" rx=\"10\" ry=\"10\" style=\"stroke: #383838; stroke-width: 1.5;\" width=\"42\" x=\"107\" y=\"44.5\"/><text fill=\"#000000\" font-family=\"sans-serif\" font-size=\"12\" font-style=\"italic\" lengthAdjust=\"spacingAndGlyphs\" textLength=\"40\" x=\"108\" y=\"60.6387\">«part»</text><text fill=\"#000000\" font-family=\"sans-serif\" font-size=\"12\" lengthAdjust=\"spacingAndGlyphs\" textLength=\"21\" x=\"117.5\" y=\"74.6074\">z: B</text><line style=\"stroke: #383838; stroke-width: 1.5;\" x1=\"108\" x2=\"148\" y1=\"82.4375\" y2=\"82.4375\"/></a><!--MD5=[09b614a08d8cba4a07c9adeb5e0fee81]\n",
       "class E3--><a href=\"psysml:414aecf4-cab0-4d0d-b5e9-0bd22012706a\" target=\"_top\" title=\"psysml:414aecf4-cab0-4d0d-b5e9-0bd22012706a\" xlink:actuate=\"onRequest\" xlink:href=\"psysml:414aecf4-cab0-4d0d-b5e9-0bd22012706a\" xlink:show=\"new\" xlink:title=\"psysml:414aecf4-cab0-4d0d-b5e9-0bd22012706a\" xlink:type=\"simple\"><rect fill=\"#FFFFFF\" height=\"45.9375\" id=\"E3\" style=\"stroke: #383838; stroke-width: 1.5;\" width=\"66\" x=\"178\" y=\"154\"/><text fill=\"#000000\" font-family=\"sans-serif\" font-size=\"12\" font-style=\"italic\" lengthAdjust=\"spacingAndGlyphs\" textLength=\"64\" x=\"179\" y=\"170.1387\">«part def»</text><text fill=\"#000000\" font-family=\"sans-serif\" font-size=\"12\" lengthAdjust=\"spacingAndGlyphs\" textLength=\"8\" x=\"207\" y=\"184.1074\">A</text><line style=\"stroke: #383838; stroke-width: 1.5;\" x1=\"179\" x2=\"243\" y1=\"191.9375\" y2=\"191.9375\"/></a><a href=\"psysml:e62181a2-aa41-44c6-a86b-ee96628d0c50\" target=\"_top\" title=\"psysml:e62181a2-aa41-44c6-a86b-ee96628d0c50\" xlink:actuate=\"onRequest\" xlink:href=\"psysml:e62181a2-aa41-44c6-a86b-ee96628d0c50\" xlink:show=\"new\" xlink:title=\"psysml:e62181a2-aa41-44c6-a86b-ee96628d0c50\" xlink:type=\"simple\"><polygon fill=\"#FFFFFF\" points=\"32,41,58,41,65,63.2969,72,63.2969,72,93.5938,32,93.5938,32,41\" style=\"stroke: #000000; stroke-width: 1.5;\"/><line style=\"stroke: #000000; stroke-width: 1.5;\" x1=\"32\" x2=\"65\" y1=\"63.2969\" y2=\"63.2969\"/><text fill=\"#000000\" font-family=\"sans-serif\" font-size=\"14\" font-weight=\"bold\" lengthAdjust=\"spacingAndGlyphs\" textLength=\"20\" x=\"36\" y=\"55.9951\">P2</text></a><!--MD5=[2156ba9850f5573cc1fc38a6a4b2f02b]\n",
       "class E7--><a href=\"psysml:f619ebc7-1ca1-4b7d-a8d3-68584975adae\" target=\"_top\" title=\"psysml:f619ebc7-1ca1-4b7d-a8d3-68584975adae\" xlink:actuate=\"onRequest\" xlink:href=\"psysml:f619ebc7-1ca1-4b7d-a8d3-68584975adae\" xlink:show=\"new\" xlink:title=\"psysml:f619ebc7-1ca1-4b7d-a8d3-68584975adae\" xlink:type=\"simple\"><rect fill=\"#FFFFFF\" height=\"45.9375\" id=\"E7\" style=\"stroke: #383838; stroke-width: 1.5;\" width=\"66\" x=\"56\" y=\"154\"/><text fill=\"#000000\" font-family=\"sans-serif\" font-size=\"12\" font-style=\"italic\" lengthAdjust=\"spacingAndGlyphs\" textLength=\"64\" x=\"57\" y=\"170.1387\">«part def»</text><text fill=\"#000000\" font-family=\"sans-serif\" font-size=\"12\" lengthAdjust=\"spacingAndGlyphs\" textLength=\"8\" x=\"85\" y=\"184.1074\">B</text><line style=\"stroke: #383838; stroke-width: 1.5;\" x1=\"57\" x2=\"121\" y1=\"191.9375\" y2=\"191.9375\"/></a><!--MD5=[e9be52314489bd878ff4c7144b63c9e1]\n",
       "link E5 to E3--><a href=\"psysml:e8148481-e1af-4d30-a20f-345018eb1da9\" target=\"_top\" title=\"psysml:e8148481-e1af-4d30-a20f-345018eb1da9\" xlink:actuate=\"onRequest\" xlink:href=\"psysml:e8148481-e1af-4d30-a20f-345018eb1da9\" xlink:show=\"new\" xlink:title=\"psysml:e8148481-e1af-4d30-a20f-345018eb1da9\" xlink:type=\"simple\"><path d=\"M211,90.72 C211,90.72 211,133.81 211,133.81 \" fill=\"none\" id=\"E5-&gt;E3\" style=\"stroke: #383838; stroke-width: 1.0;\"/><polygon fill=\"#FFFFFF\" points=\"211,153.81,204,134.81,218,134.81,211,153.81\" style=\"stroke: #383838; stroke-width: 1.0;\"/><ellipse cx=\"206\" cy=\"129.11\" fill=\"#383838\" rx=\"2\" ry=\"2\" style=\"stroke: #383838; stroke-width: 1.0;\"/><ellipse cx=\"216\" cy=\"129.11\" fill=\"#383838\" rx=\"2\" ry=\"2\" style=\"stroke: #383838; stroke-width: 1.0;\"/></a><!--MD5=[bfa3c8b0d15052fdf50ae9310b491027]\n",
       "link E8 to E7--><a href=\"psysml:88eb6ab6-f030-4136-96c6-6d1b75343c8c\" target=\"_top\" title=\"psysml:88eb6ab6-f030-4136-96c6-6d1b75343c8c\" xlink:actuate=\"onRequest\" xlink:href=\"psysml:88eb6ab6-f030-4136-96c6-6d1b75343c8c\" xlink:show=\"new\" xlink:title=\"psysml:88eb6ab6-f030-4136-96c6-6d1b75343c8c\" xlink:type=\"simple\"><path d=\"M114.5,90.72 C114.5,90.72 114.5,133.81 114.5,133.81 \" fill=\"none\" id=\"E8-&gt;E7\" style=\"stroke: #383838; stroke-width: 1.0;\"/><polygon fill=\"#FFFFFF\" points=\"114.5,153.81,107.5,134.81,121.5,134.81,114.5,153.81\" style=\"stroke: #383838; stroke-width: 1.0;\"/><ellipse cx=\"109.5\" cy=\"129.11\" fill=\"#383838\" rx=\"2\" ry=\"2\" style=\"stroke: #383838; stroke-width: 1.0;\"/><ellipse cx=\"119.5\" cy=\"129.11\" fill=\"#383838\" rx=\"2\" ry=\"2\" style=\"stroke: #383838; stroke-width: 1.0;\"/></a><!--MD5=[77fc615f68df709539dd2c97c2db1217]\n",
       "@startuml\r\n",
       "skinparam linetype ortho\r\n",
       "skinparam monochrome true\r\n",
       "skinparam classbackgroundcolor white\r\n",
       "skinparam shadowing false\r\n",
       "skinparam wrapWidth 300\r\n",
       "hide circle\r\n",
       "\r\n",
       "package \"PrivateImportTest\" as E1  [[psysml:a19fc987-58b9-4365-8e05-8e082939198f ]]  {\r\n",
       "package \"P1\" as E2  [[psysml:0afae52f-013a-41db-84e1-dbe02c327088 ]]  {\r\n",
       "comp def \"A\" as E3  <<(T,blue)part def>> [[psysml:414aecf4-cab0-4d0d-b5e9-0bd22012706a ]] {\r\n",
       "}\r\n",
       "}\r\n",
       "package \"P2\" as E4  [[psysml:e62181a2-aa41-44c6-a86b-ee96628d0c50 ]]  {\r\n",
       "}\r\n",
       "comp usage \"x: A\" as E5  <<(T,blue)part>> [[psysml:0adc1dcd-eba4-4b19-b824-866ee03ed7de ]] {\r\n",
       "}\r\n",
       "package \"P3\" as E6  [[psysml:1d9d662c-22cb-416c-b8ab-bb9944386c4a ]]  {\r\n",
       "comp def \"B\" as E7  <<(T,blue)part def>> [[psysml:f619ebc7-1ca1-4b7d-a8d3-68584975adae ]] {\r\n",
       "}\r\n",
       "E5 - -:|> E3 [[psysml:e8148481-e1af-4d30-a20f-345018eb1da9 ]] \r\n",
       "}\r\n",
       "comp usage \"z: B\" as E8  <<(T,blue)part>> [[psysml:b076f02a-ad00-46e0-858a-3e2f54feec2a ]] {\r\n",
       "}\r\n",
       "E8 - -:|> E7 [[psysml:88eb6ab6-f030-4136-96c6-6d1b75343c8c ]] \r\n",
       "}\r\n",
       "@enduml\r\n",
       "\n",
       "PlantUML version 1.2020.13(Sat Jun 13 12:26:38 UTC 2020)\n",
       "(EPL source distribution)\n",
       "Java Runtime: OpenJDK Runtime Environment\n",
       "JVM: OpenJDK 64-Bit Server VM\n",
       "Default Encoding: UTF-8\n",
       "Language: en\n",
       "Country: null\n",
       "--></g></svg>"
      ]
     },
     "execution_count": 52,
     "metadata": {},
     "output_type": "execute_result"
    }
   ],
   "source": [
    "%viz --style=\"ORTHOLINE\" --view=\"Tree\" \"PrivateImportTest\""
   ]
  },
  {
   "cell_type": "code",
   "execution_count": 53,
   "id": "seventh-staff",
   "metadata": {
    "execution": {
     "iopub.execute_input": "2021-03-25T09:26:43.176807Z",
     "iopub.status.busy": "2021-03-25T09:26:43.176218Z",
     "iopub.status.idle": "2021-03-25T09:26:43.185400Z",
     "shell.execute_reply": "2021-03-25T09:26:43.185058Z"
    }
   },
   "outputs": [
    {
     "data": {
      "image/svg+xml": [
       "<?xml version=\"1.0\" encoding=\"UTF-8\" standalone=\"no\"?><svg xmlns=\"http://www.w3.org/2000/svg\" xmlns:xlink=\"http://www.w3.org/1999/xlink\" contentScriptType=\"application/ecmascript\" contentStyleType=\"text/css\" height=\"12px\" preserveAspectRatio=\"none\" style=\"width:12px;height:12px;\" version=\"1.1\" viewBox=\"0 0 12 12\" width=\"12px\" zoomAndPan=\"magnify\"><defs/><g><!--MD5=[97d6f38768b311333d388e66b2b27985]\n",
       "@startuml\r\n",
       "skinparam linetype ortho\r\n",
       "skinparam monochrome true\r\n",
       "skinparam classbackgroundcolor white\r\n",
       "skinparam shadowing false\r\n",
       "skinparam wrapWidth 300\r\n",
       "hide circle\r\n",
       "\r\n",
       "@enduml\r\n",
       "\n",
       "PlantUML version 1.2020.13(Sat Jun 13 12:26:38 UTC 2020)\n",
       "(EPL source distribution)\n",
       "Java Runtime: OpenJDK Runtime Environment\n",
       "JVM: OpenJDK 64-Bit Server VM\n",
       "Default Encoding: UTF-8\n",
       "Language: en\n",
       "Country: null\n",
       "--></g></svg>"
      ]
     },
     "execution_count": 53,
     "metadata": {},
     "output_type": "execute_result"
    }
   ],
   "source": [
    "%viz --style=\"ORTHOLINE\" --view=\"State\" \"PrivateImportTest\""
   ]
  },
  {
   "cell_type": "code",
   "execution_count": 54,
   "id": "difficult-butler",
   "metadata": {
    "execution": {
     "iopub.execute_input": "2021-03-25T09:26:43.237582Z",
     "iopub.status.busy": "2021-03-25T09:26:43.236903Z",
     "iopub.status.idle": "2021-03-25T09:26:43.299586Z",
     "shell.execute_reply": "2021-03-25T09:26:43.298200Z"
    }
   },
   "outputs": [
    {
     "data": {
      "image/svg+xml": [
       "<?xml version=\"1.0\" encoding=\"UTF-8\" standalone=\"no\"?><svg xmlns=\"http://www.w3.org/2000/svg\" xmlns:xlink=\"http://www.w3.org/1999/xlink\" contentScriptType=\"application/ecmascript\" contentStyleType=\"text/css\" height=\"179px\" preserveAspectRatio=\"none\" style=\"width:539px;height:179px;\" version=\"1.1\" viewBox=\"0 0 539 179\" width=\"539px\" zoomAndPan=\"magnify\"><defs/><g><!--MD5=[fbc87193dbaf4d95561dea2c320d4a47]\n",
       "cluster E1--><a href=\"psysml:a19fc987-58b9-4365-8e05-8e082939198f\" target=\"_top\" title=\"psysml:a19fc987-58b9-4365-8e05-8e082939198f\" xlink:actuate=\"onRequest\" xlink:href=\"psysml:a19fc987-58b9-4365-8e05-8e082939198f\" xlink:show=\"new\" xlink:title=\"psysml:a19fc987-58b9-4365-8e05-8e082939198f\" xlink:type=\"simple\"><polygon fill=\"#FFFFFF\" points=\"16,6,163,6,170,28.2969,517,28.2969,517,167,16,167,16,6\" style=\"stroke: #000000; stroke-width: 1.5;\"/><line style=\"stroke: #000000; stroke-width: 1.5;\" x1=\"16\" x2=\"170\" y1=\"28.2969\" y2=\"28.2969\"/><text fill=\"#000000\" font-family=\"sans-serif\" font-size=\"14\" font-weight=\"bold\" lengthAdjust=\"spacingAndGlyphs\" textLength=\"141\" x=\"20\" y=\"20.9951\">PrivateImportTest</text></a><!--MD5=[e4f7fae6ed58524ba242bb0b0d3be6b7]\n",
       "cluster E2--><a href=\"psysml:0afae52f-013a-41db-84e1-dbe02c327088\" target=\"_top\" title=\"psysml:0afae52f-013a-41db-84e1-dbe02c327088\" xlink:actuate=\"onRequest\" xlink:href=\"psysml:0afae52f-013a-41db-84e1-dbe02c327088\" xlink:show=\"new\" xlink:title=\"psysml:0afae52f-013a-41db-84e1-dbe02c327088\" xlink:type=\"simple\"><polygon fill=\"#FFFFFF\" points=\"389,49,415,49,422,71.2969,493,71.2969,493,143,389,143,389,49\" style=\"stroke: #000000; stroke-width: 1.5;\"/><line style=\"stroke: #000000; stroke-width: 1.5;\" x1=\"389\" x2=\"422\" y1=\"71.2969\" y2=\"71.2969\"/><text fill=\"#000000\" font-family=\"sans-serif\" font-size=\"14\" font-weight=\"bold\" lengthAdjust=\"spacingAndGlyphs\" textLength=\"20\" x=\"393\" y=\"63.9951\">P1</text></a><!--MD5=[14e3b0961a2654348d326746436168a1]\n",
       "cluster E6--><a href=\"psysml:1d9d662c-22cb-416c-b8ab-bb9944386c4a\" target=\"_top\" title=\"psysml:1d9d662c-22cb-416c-b8ab-bb9944386c4a\" xlink:actuate=\"onRequest\" xlink:href=\"psysml:1d9d662c-22cb-416c-b8ab-bb9944386c4a\" xlink:show=\"new\" xlink:title=\"psysml:1d9d662c-22cb-416c-b8ab-bb9944386c4a\" xlink:type=\"simple\"><polygon fill=\"#FFFFFF\" points=\"261,49,287,49,294,71.2969,365,71.2969,365,143,261,143,261,49\" style=\"stroke: #000000; stroke-width: 1.5;\"/><line style=\"stroke: #000000; stroke-width: 1.5;\" x1=\"261\" x2=\"294\" y1=\"71.2969\" y2=\"71.2969\"/><text fill=\"#000000\" font-family=\"sans-serif\" font-size=\"14\" font-weight=\"bold\" lengthAdjust=\"spacingAndGlyphs\" textLength=\"20\" x=\"265\" y=\"63.9951\">P3</text></a><g id=\"E1.E2.E3\"><a href=\"psysml:414aecf4-cab0-4d0d-b5e9-0bd22012706a\" target=\"_top\" title=\"psysml:414aecf4-cab0-4d0d-b5e9-0bd22012706a\" xlink:actuate=\"onRequest\" xlink:href=\"psysml:414aecf4-cab0-4d0d-b5e9-0bd22012706a\" xlink:show=\"new\" xlink:title=\"psysml:414aecf4-cab0-4d0d-b5e9-0bd22012706a\" xlink:type=\"simple\"><rect fill=\"#FFFFFF\" height=\"42.9375\" id=\"E3\" style=\"stroke: #383838; stroke-width: 1.5;\" width=\"71\" x=\"405.5\" y=\"84\"/><rect fill=\"#F8F8F8\" height=\"37.9375\" style=\"stroke: #383838; stroke-width: 1.5;\" width=\"71\" x=\"405.5\" y=\"84\"/><text fill=\"#000000\" font-family=\"sans-serif\" font-size=\"12\" font-style=\"italic\" lengthAdjust=\"spacingAndGlyphs\" textLength=\"64\" x=\"409\" y=\"100.1387\">«part def»</text><text fill=\"#000000\" font-family=\"sans-serif\" font-size=\"12\" lengthAdjust=\"spacingAndGlyphs\" textLength=\"8\" x=\"437\" y=\"114.1074\">A</text></a></g><a href=\"psysml:e62181a2-aa41-44c6-a86b-ee96628d0c50\" target=\"_top\" title=\"psysml:e62181a2-aa41-44c6-a86b-ee96628d0c50\" xlink:actuate=\"onRequest\" xlink:href=\"psysml:e62181a2-aa41-44c6-a86b-ee96628d0c50\" xlink:show=\"new\" xlink:title=\"psysml:e62181a2-aa41-44c6-a86b-ee96628d0c50\" xlink:type=\"simple\"><polygon fill=\"#FFFFFF\" points=\"202,79,228,79,235,101.2969,242,101.2969,242,131.5938,202,131.5938,202,79\" style=\"stroke: #000000; stroke-width: 1.5;\"/><line style=\"stroke: #000000; stroke-width: 1.5;\" x1=\"202\" x2=\"235\" y1=\"101.2969\" y2=\"101.2969\"/><text fill=\"#000000\" font-family=\"sans-serif\" font-size=\"14\" font-weight=\"bold\" lengthAdjust=\"spacingAndGlyphs\" textLength=\"20\" x=\"206\" y=\"93.9951\">P2</text></a><g id=\"E1.E5\"><a href=\"psysml:0adc1dcd-eba4-4b19-b824-866ee03ed7de\" target=\"_top\" title=\"psysml:0adc1dcd-eba4-4b19-b824-866ee03ed7de\" xlink:actuate=\"onRequest\" xlink:href=\"psysml:0adc1dcd-eba4-4b19-b824-866ee03ed7de\" xlink:show=\"new\" xlink:title=\"psysml:0adc1dcd-eba4-4b19-b824-866ee03ed7de\" xlink:type=\"simple\"><rect fill=\"#FFFFFF\" height=\"40\" id=\"E5\" rx=\"10\" ry=\"10\" style=\"stroke: #383838; stroke-width: 1.5;\" width=\"50\" x=\"117\" y=\"85.5\"/><rect fill=\"#F8F8F8\" height=\"23.9688\" rx=\"10\" ry=\"10\" style=\"stroke: #F8F8F8; stroke-width: 1.5;\" width=\"50\" x=\"117\" y=\"85.5\"/><rect fill=\"#F8F8F8\" height=\"10\" style=\"stroke: #F8F8F8; stroke-width: 1.5;\" width=\"50\" x=\"117\" y=\"99.4688\"/><rect fill=\"none\" height=\"40\" id=\"E5\" rx=\"10\" ry=\"10\" style=\"stroke: #383838; stroke-width: 1.5;\" width=\"50\" x=\"117\" y=\"85.5\"/><text fill=\"#000000\" font-family=\"sans-serif\" font-size=\"12\" lengthAdjust=\"spacingAndGlyphs\" textLength=\"22\" x=\"131\" y=\"101.6387\">x: A</text></a></g><g id=\"E1.E6.E7\"><a href=\"psysml:f619ebc7-1ca1-4b7d-a8d3-68584975adae\" target=\"_top\" title=\"psysml:f619ebc7-1ca1-4b7d-a8d3-68584975adae\" xlink:actuate=\"onRequest\" xlink:href=\"psysml:f619ebc7-1ca1-4b7d-a8d3-68584975adae\" xlink:show=\"new\" xlink:title=\"psysml:f619ebc7-1ca1-4b7d-a8d3-68584975adae\" xlink:type=\"simple\"><rect fill=\"#FFFFFF\" height=\"42.9375\" id=\"E7\" style=\"stroke: #383838; stroke-width: 1.5;\" width=\"71\" x=\"277.5\" y=\"84\"/><rect fill=\"#F8F8F8\" height=\"37.9375\" style=\"stroke: #383838; stroke-width: 1.5;\" width=\"71\" x=\"277.5\" y=\"84\"/><text fill=\"#000000\" font-family=\"sans-serif\" font-size=\"12\" font-style=\"italic\" lengthAdjust=\"spacingAndGlyphs\" textLength=\"64\" x=\"281\" y=\"100.1387\">«part def»</text><text fill=\"#000000\" font-family=\"sans-serif\" font-size=\"12\" lengthAdjust=\"spacingAndGlyphs\" textLength=\"8\" x=\"309\" y=\"114.1074\">B</text></a></g><g id=\"E1.E8\"><a href=\"psysml:b076f02a-ad00-46e0-858a-3e2f54feec2a\" target=\"_top\" title=\"psysml:b076f02a-ad00-46e0-858a-3e2f54feec2a\" xlink:actuate=\"onRequest\" xlink:href=\"psysml:b076f02a-ad00-46e0-858a-3e2f54feec2a\" xlink:show=\"new\" xlink:title=\"psysml:b076f02a-ad00-46e0-858a-3e2f54feec2a\" xlink:type=\"simple\"><rect fill=\"#FFFFFF\" height=\"40\" id=\"E8\" rx=\"10\" ry=\"10\" style=\"stroke: #383838; stroke-width: 1.5;\" width=\"50\" x=\"32\" y=\"85.5\"/><rect fill=\"#F8F8F8\" height=\"23.9688\" rx=\"10\" ry=\"10\" style=\"stroke: #F8F8F8; stroke-width: 1.5;\" width=\"50\" x=\"32\" y=\"85.5\"/><rect fill=\"#F8F8F8\" height=\"10\" style=\"stroke: #F8F8F8; stroke-width: 1.5;\" width=\"50\" x=\"32\" y=\"99.4688\"/><rect fill=\"none\" height=\"40\" id=\"E8\" rx=\"10\" ry=\"10\" style=\"stroke: #383838; stroke-width: 1.5;\" width=\"50\" x=\"32\" y=\"85.5\"/><text fill=\"#000000\" font-family=\"sans-serif\" font-size=\"12\" lengthAdjust=\"spacingAndGlyphs\" textLength=\"21\" x=\"46.5\" y=\"101.6387\">z: B</text></a></g><!--MD5=[8f89afb9745a702c2ab2fc47975e9bfe]\n",
       "@startuml\r\n",
       "skinparam ranksep 8\r\n",
       "skinparam rectangle {\r\n",
       " backgroundColor<<block>> LightGreen\r\n",
       "}\r\n",
       "skinparam linetype ortho\r\n",
       "skinparam monochrome true\r\n",
       "skinparam classbackgroundcolor white\r\n",
       "skinparam shadowing false\r\n",
       "skinparam wrapWidth 300\r\n",
       "hide circle\r\n",
       "\r\n",
       "package \"PrivateImportTest\" as E1  [[psysml:a19fc987-58b9-4365-8e05-8e082939198f ]]  {\r\n",
       "package \"P1\" as E2  [[psysml:0afae52f-013a-41db-84e1-dbe02c327088 ]]  {\r\n",
       "rec def \"A\" as E3  <<(T,blue)part def>> [[psysml:414aecf4-cab0-4d0d-b5e9-0bd22012706a ]] {\r\n",
       "}\r\n",
       "}\r\n",
       "package \"P2\" as E4  [[psysml:e62181a2-aa41-44c6-a86b-ee96628d0c50 ]]  {\r\n",
       "}\r\n",
       "rec usage \"x: A\" as E5  [[psysml:0adc1dcd-eba4-4b19-b824-866ee03ed7de ]] {\r\n",
       "}\r\n",
       "package \"P3\" as E6  [[psysml:1d9d662c-22cb-416c-b8ab-bb9944386c4a ]]  {\r\n",
       "rec def \"B\" as E7  <<(T,blue)part def>> [[psysml:f619ebc7-1ca1-4b7d-a8d3-68584975adae ]] {\r\n",
       "}\r\n",
       "}\r\n",
       "rec usage \"z: B\" as E8  [[psysml:b076f02a-ad00-46e0-858a-3e2f54feec2a ]] {\r\n",
       "}\r\n",
       "}\r\n",
       "@enduml\r\n",
       "\n",
       "PlantUML version 1.2020.13(Sat Jun 13 12:26:38 UTC 2020)\n",
       "(EPL source distribution)\n",
       "Java Runtime: OpenJDK Runtime Environment\n",
       "JVM: OpenJDK 64-Bit Server VM\n",
       "Default Encoding: UTF-8\n",
       "Language: en\n",
       "Country: null\n",
       "--></g></svg>"
      ]
     },
     "execution_count": 54,
     "metadata": {},
     "output_type": "execute_result"
    }
   ],
   "source": [
    "%viz --style=\"ORTHOLINE\" --view=\"Interconnection\" \"PrivateImportTest\""
   ]
  },
  {
   "cell_type": "code",
   "execution_count": 55,
   "id": "matched-mention",
   "metadata": {
    "execution": {
     "iopub.execute_input": "2021-03-25T09:26:43.350335Z",
     "iopub.status.busy": "2021-03-25T09:26:43.349861Z",
     "iopub.status.idle": "2021-03-25T09:26:43.358121Z",
     "shell.execute_reply": "2021-03-25T09:26:43.357725Z"
    }
   },
   "outputs": [
    {
     "data": {
      "image/svg+xml": [
       "<?xml version=\"1.0\" encoding=\"UTF-8\" standalone=\"no\"?><svg xmlns=\"http://www.w3.org/2000/svg\" xmlns:xlink=\"http://www.w3.org/1999/xlink\" contentScriptType=\"application/ecmascript\" contentStyleType=\"text/css\" height=\"12px\" preserveAspectRatio=\"none\" style=\"width:12px;height:12px;\" version=\"1.1\" viewBox=\"0 0 12 12\" width=\"12px\" zoomAndPan=\"magnify\"><defs/><g><!--MD5=[72934c63077099a26744516a776b4749]\n",
       "@startuml\r\n",
       "skinparam ranksep 8\r\n",
       "skinparam linetype ortho\r\n",
       "skinparam monochrome true\r\n",
       "skinparam classbackgroundcolor white\r\n",
       "skinparam shadowing false\r\n",
       "skinparam wrapWidth 300\r\n",
       "hide circle\r\n",
       "\r\n",
       "@enduml\r\n",
       "\n",
       "PlantUML version 1.2020.13(Sat Jun 13 12:26:38 UTC 2020)\n",
       "(EPL source distribution)\n",
       "Java Runtime: OpenJDK Runtime Environment\n",
       "JVM: OpenJDK 64-Bit Server VM\n",
       "Default Encoding: UTF-8\n",
       "Language: en\n",
       "Country: null\n",
       "--></g></svg>"
      ]
     },
     "execution_count": 55,
     "metadata": {},
     "output_type": "execute_result"
    }
   ],
   "source": [
    "%viz --style=\"ORTHOLINE\" --view=\"Action\" \"PrivateImportTest\""
   ]
  },
  {
   "cell_type": "code",
   "execution_count": 56,
   "id": "binary-arizona",
   "metadata": {
    "execution": {
     "iopub.execute_input": "2021-03-25T09:26:43.409558Z",
     "iopub.status.busy": "2021-03-25T09:26:43.408928Z",
     "iopub.status.idle": "2021-03-25T09:26:43.472940Z",
     "shell.execute_reply": "2021-03-25T09:26:43.471636Z"
    }
   },
   "outputs": [
    {
     "data": {
      "image/svg+xml": [
       "<?xml version=\"1.0\" encoding=\"UTF-8\" standalone=\"no\"?><svg xmlns=\"http://www.w3.org/2000/svg\" xmlns:xlink=\"http://www.w3.org/1999/xlink\" contentScriptType=\"application/ecmascript\" contentStyleType=\"text/css\" height=\"252px\" preserveAspectRatio=\"none\" style=\"width:306px;height:252px;\" version=\"1.1\" viewBox=\"0 0 306 252\" width=\"306px\" zoomAndPan=\"magnify\"><defs/><g><!--MD5=[fbc87193dbaf4d95561dea2c320d4a47]\n",
       "cluster E1--><a href=\"psysml:a19fc987-58b9-4365-8e05-8e082939198f\" target=\"_top\" title=\"psysml:a19fc987-58b9-4365-8e05-8e082939198f\" xlink:actuate=\"onRequest\" xlink:href=\"psysml:a19fc987-58b9-4365-8e05-8e082939198f\" xlink:show=\"new\" xlink:title=\"psysml:a19fc987-58b9-4365-8e05-8e082939198f\" xlink:type=\"simple\"><polygon fill=\"#FFFFFF\" points=\"16,6,163,6,170,28.2969,284,28.2969,284,240,16,240,16,6\" style=\"stroke: #000000; stroke-width: 1.5;\"/><line style=\"stroke: #000000; stroke-width: 1.5;\" x1=\"16\" x2=\"170\" y1=\"28.2969\" y2=\"28.2969\"/><text fill=\"#000000\" font-family=\"sans-serif\" font-size=\"14\" font-weight=\"bold\" lengthAdjust=\"spacingAndGlyphs\" textLength=\"141\" x=\"20\" y=\"20.9951\">PrivateImportTest</text></a><!--MD5=[e4f7fae6ed58524ba242bb0b0d3be6b7]\n",
       "cluster E2--><a href=\"psysml:0afae52f-013a-41db-84e1-dbe02c327088\" target=\"_top\" title=\"psysml:0afae52f-013a-41db-84e1-dbe02c327088\" xlink:actuate=\"onRequest\" xlink:href=\"psysml:0afae52f-013a-41db-84e1-dbe02c327088\" xlink:show=\"new\" xlink:title=\"psysml:0afae52f-013a-41db-84e1-dbe02c327088\" xlink:type=\"simple\"><polygon fill=\"#FFFFFF\" points=\"162,119,188,119,195,141.2969,260,141.2969,260,216,162,216,162,119\" style=\"stroke: #000000; stroke-width: 1.5;\"/><line style=\"stroke: #000000; stroke-width: 1.5;\" x1=\"162\" x2=\"195\" y1=\"141.2969\" y2=\"141.2969\"/><text fill=\"#000000\" font-family=\"sans-serif\" font-size=\"14\" font-weight=\"bold\" lengthAdjust=\"spacingAndGlyphs\" textLength=\"20\" x=\"166\" y=\"133.9951\">P1</text></a><!--MD5=[14e3b0961a2654348d326746436168a1]\n",
       "cluster E6--><a href=\"psysml:1d9d662c-22cb-416c-b8ab-bb9944386c4a\" target=\"_top\" title=\"psysml:1d9d662c-22cb-416c-b8ab-bb9944386c4a\" xlink:actuate=\"onRequest\" xlink:href=\"psysml:1d9d662c-22cb-416c-b8ab-bb9944386c4a\" xlink:show=\"new\" xlink:title=\"psysml:1d9d662c-22cb-416c-b8ab-bb9944386c4a\" xlink:type=\"simple\"><polygon fill=\"#FFFFFF\" points=\"40,119,66,119,73,141.2969,138,141.2969,138,216,40,216,40,119\" style=\"stroke: #000000; stroke-width: 1.5;\"/><line style=\"stroke: #000000; stroke-width: 1.5;\" x1=\"40\" x2=\"73\" y1=\"141.2969\" y2=\"141.2969\"/><text fill=\"#000000\" font-family=\"sans-serif\" font-size=\"14\" font-weight=\"bold\" lengthAdjust=\"spacingAndGlyphs\" textLength=\"20\" x=\"44\" y=\"133.9951\">P3</text></a><!--MD5=[270fce915f116d4de14055a7c1d9a0f3]\n",
       "class E5--><a href=\"psysml:0adc1dcd-eba4-4b19-b824-866ee03ed7de\" target=\"_top\" title=\"psysml:0adc1dcd-eba4-4b19-b824-866ee03ed7de\" xlink:actuate=\"onRequest\" xlink:href=\"psysml:0adc1dcd-eba4-4b19-b824-866ee03ed7de\" xlink:show=\"new\" xlink:title=\"psysml:0adc1dcd-eba4-4b19-b824-866ee03ed7de\" xlink:type=\"simple\"><rect fill=\"#FFFFFF\" height=\"45.9375\" id=\"E5\" rx=\"10\" ry=\"10\" style=\"stroke: #383838; stroke-width: 1.5;\" width=\"42\" x=\"190\" y=\"44.5\"/><text fill=\"#000000\" font-family=\"sans-serif\" font-size=\"12\" font-style=\"italic\" lengthAdjust=\"spacingAndGlyphs\" textLength=\"40\" x=\"191\" y=\"60.6387\">«part»</text><text fill=\"#000000\" font-family=\"sans-serif\" font-size=\"12\" lengthAdjust=\"spacingAndGlyphs\" textLength=\"22\" x=\"200\" y=\"74.6074\">x: A</text><line style=\"stroke: #383838; stroke-width: 1.5;\" x1=\"191\" x2=\"231\" y1=\"82.4375\" y2=\"82.4375\"/></a><!--MD5=[b9389687b975829384b498ac4b7476b2]\n",
       "class E8--><a href=\"psysml:b076f02a-ad00-46e0-858a-3e2f54feec2a\" target=\"_top\" title=\"psysml:b076f02a-ad00-46e0-858a-3e2f54feec2a\" xlink:actuate=\"onRequest\" xlink:href=\"psysml:b076f02a-ad00-46e0-858a-3e2f54feec2a\" xlink:show=\"new\" xlink:title=\"psysml:b076f02a-ad00-46e0-858a-3e2f54feec2a\" xlink:type=\"simple\"><rect fill=\"#FFFFFF\" height=\"45.9375\" id=\"E8\" rx=\"10\" ry=\"10\" style=\"stroke: #383838; stroke-width: 1.5;\" width=\"42\" x=\"107\" y=\"44.5\"/><text fill=\"#000000\" font-family=\"sans-serif\" font-size=\"12\" font-style=\"italic\" lengthAdjust=\"spacingAndGlyphs\" textLength=\"40\" x=\"108\" y=\"60.6387\">«part»</text><text fill=\"#000000\" font-family=\"sans-serif\" font-size=\"12\" lengthAdjust=\"spacingAndGlyphs\" textLength=\"21\" x=\"117.5\" y=\"74.6074\">z: B</text><line style=\"stroke: #383838; stroke-width: 1.5;\" x1=\"108\" x2=\"148\" y1=\"82.4375\" y2=\"82.4375\"/></a><!--MD5=[09b614a08d8cba4a07c9adeb5e0fee81]\n",
       "class E3--><a href=\"psysml:414aecf4-cab0-4d0d-b5e9-0bd22012706a\" target=\"_top\" title=\"psysml:414aecf4-cab0-4d0d-b5e9-0bd22012706a\" xlink:actuate=\"onRequest\" xlink:href=\"psysml:414aecf4-cab0-4d0d-b5e9-0bd22012706a\" xlink:show=\"new\" xlink:title=\"psysml:414aecf4-cab0-4d0d-b5e9-0bd22012706a\" xlink:type=\"simple\"><rect fill=\"#FFFFFF\" height=\"45.9375\" id=\"E3\" style=\"stroke: #383838; stroke-width: 1.5;\" width=\"66\" x=\"178\" y=\"154\"/><text fill=\"#000000\" font-family=\"sans-serif\" font-size=\"12\" font-style=\"italic\" lengthAdjust=\"spacingAndGlyphs\" textLength=\"64\" x=\"179\" y=\"170.1387\">«part def»</text><text fill=\"#000000\" font-family=\"sans-serif\" font-size=\"12\" lengthAdjust=\"spacingAndGlyphs\" textLength=\"8\" x=\"207\" y=\"184.1074\">A</text><line style=\"stroke: #383838; stroke-width: 1.5;\" x1=\"179\" x2=\"243\" y1=\"191.9375\" y2=\"191.9375\"/></a><a href=\"psysml:e62181a2-aa41-44c6-a86b-ee96628d0c50\" target=\"_top\" title=\"psysml:e62181a2-aa41-44c6-a86b-ee96628d0c50\" xlink:actuate=\"onRequest\" xlink:href=\"psysml:e62181a2-aa41-44c6-a86b-ee96628d0c50\" xlink:show=\"new\" xlink:title=\"psysml:e62181a2-aa41-44c6-a86b-ee96628d0c50\" xlink:type=\"simple\"><polygon fill=\"#FFFFFF\" points=\"32,41,58,41,65,63.2969,72,63.2969,72,93.5938,32,93.5938,32,41\" style=\"stroke: #000000; stroke-width: 1.5;\"/><line style=\"stroke: #000000; stroke-width: 1.5;\" x1=\"32\" x2=\"65\" y1=\"63.2969\" y2=\"63.2969\"/><text fill=\"#000000\" font-family=\"sans-serif\" font-size=\"14\" font-weight=\"bold\" lengthAdjust=\"spacingAndGlyphs\" textLength=\"20\" x=\"36\" y=\"55.9951\">P2</text></a><!--MD5=[2156ba9850f5573cc1fc38a6a4b2f02b]\n",
       "class E7--><a href=\"psysml:f619ebc7-1ca1-4b7d-a8d3-68584975adae\" target=\"_top\" title=\"psysml:f619ebc7-1ca1-4b7d-a8d3-68584975adae\" xlink:actuate=\"onRequest\" xlink:href=\"psysml:f619ebc7-1ca1-4b7d-a8d3-68584975adae\" xlink:show=\"new\" xlink:title=\"psysml:f619ebc7-1ca1-4b7d-a8d3-68584975adae\" xlink:type=\"simple\"><rect fill=\"#FFFFFF\" height=\"45.9375\" id=\"E7\" style=\"stroke: #383838; stroke-width: 1.5;\" width=\"66\" x=\"56\" y=\"154\"/><text fill=\"#000000\" font-family=\"sans-serif\" font-size=\"12\" font-style=\"italic\" lengthAdjust=\"spacingAndGlyphs\" textLength=\"64\" x=\"57\" y=\"170.1387\">«part def»</text><text fill=\"#000000\" font-family=\"sans-serif\" font-size=\"12\" lengthAdjust=\"spacingAndGlyphs\" textLength=\"8\" x=\"85\" y=\"184.1074\">B</text><line style=\"stroke: #383838; stroke-width: 1.5;\" x1=\"57\" x2=\"121\" y1=\"191.9375\" y2=\"191.9375\"/></a><!--MD5=[e9be52314489bd878ff4c7144b63c9e1]\n",
       "link E5 to E3--><a href=\"psysml:e8148481-e1af-4d30-a20f-345018eb1da9\" target=\"_top\" title=\"psysml:e8148481-e1af-4d30-a20f-345018eb1da9\" xlink:actuate=\"onRequest\" xlink:href=\"psysml:e8148481-e1af-4d30-a20f-345018eb1da9\" xlink:show=\"new\" xlink:title=\"psysml:e8148481-e1af-4d30-a20f-345018eb1da9\" xlink:type=\"simple\"><path d=\"M211,90.72 C211,90.72 211,133.81 211,133.81 \" fill=\"none\" id=\"E5-&gt;E3\" style=\"stroke: #383838; stroke-width: 1.0;\"/><polygon fill=\"#FFFFFF\" points=\"211,153.81,204,134.81,218,134.81,211,153.81\" style=\"stroke: #383838; stroke-width: 1.0;\"/><ellipse cx=\"206\" cy=\"129.11\" fill=\"#383838\" rx=\"2\" ry=\"2\" style=\"stroke: #383838; stroke-width: 1.0;\"/><ellipse cx=\"216\" cy=\"129.11\" fill=\"#383838\" rx=\"2\" ry=\"2\" style=\"stroke: #383838; stroke-width: 1.0;\"/></a><!--MD5=[bfa3c8b0d15052fdf50ae9310b491027]\n",
       "link E8 to E7--><a href=\"psysml:88eb6ab6-f030-4136-96c6-6d1b75343c8c\" target=\"_top\" title=\"psysml:88eb6ab6-f030-4136-96c6-6d1b75343c8c\" xlink:actuate=\"onRequest\" xlink:href=\"psysml:88eb6ab6-f030-4136-96c6-6d1b75343c8c\" xlink:show=\"new\" xlink:title=\"psysml:88eb6ab6-f030-4136-96c6-6d1b75343c8c\" xlink:type=\"simple\"><path d=\"M114.5,90.72 C114.5,90.72 114.5,133.81 114.5,133.81 \" fill=\"none\" id=\"E8-&gt;E7\" style=\"stroke: #383838; stroke-width: 1.0;\"/><polygon fill=\"#FFFFFF\" points=\"114.5,153.81,107.5,134.81,121.5,134.81,114.5,153.81\" style=\"stroke: #383838; stroke-width: 1.0;\"/><ellipse cx=\"109.5\" cy=\"129.11\" fill=\"#383838\" rx=\"2\" ry=\"2\" style=\"stroke: #383838; stroke-width: 1.0;\"/><ellipse cx=\"119.5\" cy=\"129.11\" fill=\"#383838\" rx=\"2\" ry=\"2\" style=\"stroke: #383838; stroke-width: 1.0;\"/></a><!--MD5=[77fc615f68df709539dd2c97c2db1217]\n",
       "@startuml\r\n",
       "skinparam linetype ortho\r\n",
       "skinparam monochrome true\r\n",
       "skinparam classbackgroundcolor white\r\n",
       "skinparam shadowing false\r\n",
       "skinparam wrapWidth 300\r\n",
       "hide circle\r\n",
       "\r\n",
       "package \"PrivateImportTest\" as E1  [[psysml:a19fc987-58b9-4365-8e05-8e082939198f ]]  {\r\n",
       "package \"P1\" as E2  [[psysml:0afae52f-013a-41db-84e1-dbe02c327088 ]]  {\r\n",
       "comp def \"A\" as E3  <<(T,blue)part def>> [[psysml:414aecf4-cab0-4d0d-b5e9-0bd22012706a ]] {\r\n",
       "}\r\n",
       "}\r\n",
       "package \"P2\" as E4  [[psysml:e62181a2-aa41-44c6-a86b-ee96628d0c50 ]]  {\r\n",
       "}\r\n",
       "comp usage \"x: A\" as E5  <<(T,blue)part>> [[psysml:0adc1dcd-eba4-4b19-b824-866ee03ed7de ]] {\r\n",
       "}\r\n",
       "package \"P3\" as E6  [[psysml:1d9d662c-22cb-416c-b8ab-bb9944386c4a ]]  {\r\n",
       "comp def \"B\" as E7  <<(T,blue)part def>> [[psysml:f619ebc7-1ca1-4b7d-a8d3-68584975adae ]] {\r\n",
       "}\r\n",
       "E5 - -:|> E3 [[psysml:e8148481-e1af-4d30-a20f-345018eb1da9 ]] \r\n",
       "}\r\n",
       "comp usage \"z: B\" as E8  <<(T,blue)part>> [[psysml:b076f02a-ad00-46e0-858a-3e2f54feec2a ]] {\r\n",
       "}\r\n",
       "E8 - -:|> E7 [[psysml:88eb6ab6-f030-4136-96c6-6d1b75343c8c ]] \r\n",
       "}\r\n",
       "@enduml\r\n",
       "\n",
       "PlantUML version 1.2020.13(Sat Jun 13 12:26:38 UTC 2020)\n",
       "(EPL source distribution)\n",
       "Java Runtime: OpenJDK Runtime Environment\n",
       "JVM: OpenJDK 64-Bit Server VM\n",
       "Default Encoding: UTF-8\n",
       "Language: en\n",
       "Country: null\n",
       "--></g></svg>"
      ]
     },
     "execution_count": 56,
     "metadata": {},
     "output_type": "execute_result"
    }
   ],
   "source": [
    "%viz --style=\"ORTHOLINE\" --view=\"Sequence\" \"PrivateImportTest\""
   ]
  },
  {
   "cell_type": "code",
   "execution_count": 57,
   "id": "handy-albuquerque",
   "metadata": {
    "execution": {
     "iopub.execute_input": "2021-03-25T09:26:43.525108Z",
     "iopub.status.busy": "2021-03-25T09:26:43.524258Z",
     "iopub.status.idle": "2021-03-25T09:26:43.596921Z",
     "shell.execute_reply": "2021-03-25T09:26:43.595644Z"
    }
   },
   "outputs": [
    {
     "data": {
      "image/svg+xml": [
       "<?xml version=\"1.0\" encoding=\"UTF-8\" standalone=\"no\"?><svg xmlns=\"http://www.w3.org/2000/svg\" xmlns:xlink=\"http://www.w3.org/1999/xlink\" contentScriptType=\"application/ecmascript\" contentStyleType=\"text/css\" height=\"252px\" preserveAspectRatio=\"none\" style=\"width:306px;height:252px;\" version=\"1.1\" viewBox=\"0 0 306 252\" width=\"306px\" zoomAndPan=\"magnify\"><defs/><g><!--MD5=[fbc87193dbaf4d95561dea2c320d4a47]\n",
       "cluster E1--><a href=\"psysml:a19fc987-58b9-4365-8e05-8e082939198f\" target=\"_top\" title=\"psysml:a19fc987-58b9-4365-8e05-8e082939198f\" xlink:actuate=\"onRequest\" xlink:href=\"psysml:a19fc987-58b9-4365-8e05-8e082939198f\" xlink:show=\"new\" xlink:title=\"psysml:a19fc987-58b9-4365-8e05-8e082939198f\" xlink:type=\"simple\"><polygon fill=\"#FFFFFF\" points=\"16,6,163,6,170,28.2969,284,28.2969,284,240,16,240,16,6\" style=\"stroke: #000000; stroke-width: 1.5;\"/><line style=\"stroke: #000000; stroke-width: 1.5;\" x1=\"16\" x2=\"170\" y1=\"28.2969\" y2=\"28.2969\"/><text fill=\"#000000\" font-family=\"sans-serif\" font-size=\"14\" font-weight=\"bold\" lengthAdjust=\"spacingAndGlyphs\" textLength=\"141\" x=\"20\" y=\"20.9951\">PrivateImportTest</text></a><!--MD5=[e4f7fae6ed58524ba242bb0b0d3be6b7]\n",
       "cluster E2--><a href=\"psysml:0afae52f-013a-41db-84e1-dbe02c327088\" target=\"_top\" title=\"psysml:0afae52f-013a-41db-84e1-dbe02c327088\" xlink:actuate=\"onRequest\" xlink:href=\"psysml:0afae52f-013a-41db-84e1-dbe02c327088\" xlink:show=\"new\" xlink:title=\"psysml:0afae52f-013a-41db-84e1-dbe02c327088\" xlink:type=\"simple\"><polygon fill=\"#FFFFFF\" points=\"162,119,188,119,195,141.2969,260,141.2969,260,216,162,216,162,119\" style=\"stroke: #000000; stroke-width: 1.5;\"/><line style=\"stroke: #000000; stroke-width: 1.5;\" x1=\"162\" x2=\"195\" y1=\"141.2969\" y2=\"141.2969\"/><text fill=\"#000000\" font-family=\"sans-serif\" font-size=\"14\" font-weight=\"bold\" lengthAdjust=\"spacingAndGlyphs\" textLength=\"20\" x=\"166\" y=\"133.9951\">P1</text></a><!--MD5=[14e3b0961a2654348d326746436168a1]\n",
       "cluster E6--><a href=\"psysml:1d9d662c-22cb-416c-b8ab-bb9944386c4a\" target=\"_top\" title=\"psysml:1d9d662c-22cb-416c-b8ab-bb9944386c4a\" xlink:actuate=\"onRequest\" xlink:href=\"psysml:1d9d662c-22cb-416c-b8ab-bb9944386c4a\" xlink:show=\"new\" xlink:title=\"psysml:1d9d662c-22cb-416c-b8ab-bb9944386c4a\" xlink:type=\"simple\"><polygon fill=\"#FFFFFF\" points=\"40,119,66,119,73,141.2969,138,141.2969,138,216,40,216,40,119\" style=\"stroke: #000000; stroke-width: 1.5;\"/><line style=\"stroke: #000000; stroke-width: 1.5;\" x1=\"40\" x2=\"73\" y1=\"141.2969\" y2=\"141.2969\"/><text fill=\"#000000\" font-family=\"sans-serif\" font-size=\"14\" font-weight=\"bold\" lengthAdjust=\"spacingAndGlyphs\" textLength=\"20\" x=\"44\" y=\"133.9951\">P3</text></a><!--MD5=[270fce915f116d4de14055a7c1d9a0f3]\n",
       "class E5--><a href=\"psysml:0adc1dcd-eba4-4b19-b824-866ee03ed7de\" target=\"_top\" title=\"psysml:0adc1dcd-eba4-4b19-b824-866ee03ed7de\" xlink:actuate=\"onRequest\" xlink:href=\"psysml:0adc1dcd-eba4-4b19-b824-866ee03ed7de\" xlink:show=\"new\" xlink:title=\"psysml:0adc1dcd-eba4-4b19-b824-866ee03ed7de\" xlink:type=\"simple\"><rect fill=\"#FFFFFF\" height=\"45.9375\" id=\"E5\" rx=\"10\" ry=\"10\" style=\"stroke: #383838; stroke-width: 1.5;\" width=\"42\" x=\"190\" y=\"44.5\"/><text fill=\"#000000\" font-family=\"sans-serif\" font-size=\"12\" font-style=\"italic\" lengthAdjust=\"spacingAndGlyphs\" textLength=\"40\" x=\"191\" y=\"60.6387\">«part»</text><text fill=\"#000000\" font-family=\"sans-serif\" font-size=\"12\" lengthAdjust=\"spacingAndGlyphs\" textLength=\"22\" x=\"200\" y=\"74.6074\">x: A</text><line style=\"stroke: #383838; stroke-width: 1.5;\" x1=\"191\" x2=\"231\" y1=\"82.4375\" y2=\"82.4375\"/></a><!--MD5=[b9389687b975829384b498ac4b7476b2]\n",
       "class E8--><a href=\"psysml:b076f02a-ad00-46e0-858a-3e2f54feec2a\" target=\"_top\" title=\"psysml:b076f02a-ad00-46e0-858a-3e2f54feec2a\" xlink:actuate=\"onRequest\" xlink:href=\"psysml:b076f02a-ad00-46e0-858a-3e2f54feec2a\" xlink:show=\"new\" xlink:title=\"psysml:b076f02a-ad00-46e0-858a-3e2f54feec2a\" xlink:type=\"simple\"><rect fill=\"#FFFFFF\" height=\"45.9375\" id=\"E8\" rx=\"10\" ry=\"10\" style=\"stroke: #383838; stroke-width: 1.5;\" width=\"42\" x=\"107\" y=\"44.5\"/><text fill=\"#000000\" font-family=\"sans-serif\" font-size=\"12\" font-style=\"italic\" lengthAdjust=\"spacingAndGlyphs\" textLength=\"40\" x=\"108\" y=\"60.6387\">«part»</text><text fill=\"#000000\" font-family=\"sans-serif\" font-size=\"12\" lengthAdjust=\"spacingAndGlyphs\" textLength=\"21\" x=\"117.5\" y=\"74.6074\">z: B</text><line style=\"stroke: #383838; stroke-width: 1.5;\" x1=\"108\" x2=\"148\" y1=\"82.4375\" y2=\"82.4375\"/></a><!--MD5=[09b614a08d8cba4a07c9adeb5e0fee81]\n",
       "class E3--><a href=\"psysml:414aecf4-cab0-4d0d-b5e9-0bd22012706a\" target=\"_top\" title=\"psysml:414aecf4-cab0-4d0d-b5e9-0bd22012706a\" xlink:actuate=\"onRequest\" xlink:href=\"psysml:414aecf4-cab0-4d0d-b5e9-0bd22012706a\" xlink:show=\"new\" xlink:title=\"psysml:414aecf4-cab0-4d0d-b5e9-0bd22012706a\" xlink:type=\"simple\"><rect fill=\"#FFFFFF\" height=\"45.9375\" id=\"E3\" style=\"stroke: #383838; stroke-width: 1.5;\" width=\"66\" x=\"178\" y=\"154\"/><text fill=\"#000000\" font-family=\"sans-serif\" font-size=\"12\" font-style=\"italic\" lengthAdjust=\"spacingAndGlyphs\" textLength=\"64\" x=\"179\" y=\"170.1387\">«part def»</text><text fill=\"#000000\" font-family=\"sans-serif\" font-size=\"12\" lengthAdjust=\"spacingAndGlyphs\" textLength=\"8\" x=\"207\" y=\"184.1074\">A</text><line style=\"stroke: #383838; stroke-width: 1.5;\" x1=\"179\" x2=\"243\" y1=\"191.9375\" y2=\"191.9375\"/></a><a href=\"psysml:e62181a2-aa41-44c6-a86b-ee96628d0c50\" target=\"_top\" title=\"psysml:e62181a2-aa41-44c6-a86b-ee96628d0c50\" xlink:actuate=\"onRequest\" xlink:href=\"psysml:e62181a2-aa41-44c6-a86b-ee96628d0c50\" xlink:show=\"new\" xlink:title=\"psysml:e62181a2-aa41-44c6-a86b-ee96628d0c50\" xlink:type=\"simple\"><polygon fill=\"#FFFFFF\" points=\"32,41,58,41,65,63.2969,72,63.2969,72,93.5938,32,93.5938,32,41\" style=\"stroke: #000000; stroke-width: 1.5;\"/><line style=\"stroke: #000000; stroke-width: 1.5;\" x1=\"32\" x2=\"65\" y1=\"63.2969\" y2=\"63.2969\"/><text fill=\"#000000\" font-family=\"sans-serif\" font-size=\"14\" font-weight=\"bold\" lengthAdjust=\"spacingAndGlyphs\" textLength=\"20\" x=\"36\" y=\"55.9951\">P2</text></a><!--MD5=[2156ba9850f5573cc1fc38a6a4b2f02b]\n",
       "class E7--><a href=\"psysml:f619ebc7-1ca1-4b7d-a8d3-68584975adae\" target=\"_top\" title=\"psysml:f619ebc7-1ca1-4b7d-a8d3-68584975adae\" xlink:actuate=\"onRequest\" xlink:href=\"psysml:f619ebc7-1ca1-4b7d-a8d3-68584975adae\" xlink:show=\"new\" xlink:title=\"psysml:f619ebc7-1ca1-4b7d-a8d3-68584975adae\" xlink:type=\"simple\"><rect fill=\"#FFFFFF\" height=\"45.9375\" id=\"E7\" style=\"stroke: #383838; stroke-width: 1.5;\" width=\"66\" x=\"56\" y=\"154\"/><text fill=\"#000000\" font-family=\"sans-serif\" font-size=\"12\" font-style=\"italic\" lengthAdjust=\"spacingAndGlyphs\" textLength=\"64\" x=\"57\" y=\"170.1387\">«part def»</text><text fill=\"#000000\" font-family=\"sans-serif\" font-size=\"12\" lengthAdjust=\"spacingAndGlyphs\" textLength=\"8\" x=\"85\" y=\"184.1074\">B</text><line style=\"stroke: #383838; stroke-width: 1.5;\" x1=\"57\" x2=\"121\" y1=\"191.9375\" y2=\"191.9375\"/></a><!--MD5=[e9be52314489bd878ff4c7144b63c9e1]\n",
       "link E5 to E3--><a href=\"psysml:e8148481-e1af-4d30-a20f-345018eb1da9\" target=\"_top\" title=\"psysml:e8148481-e1af-4d30-a20f-345018eb1da9\" xlink:actuate=\"onRequest\" xlink:href=\"psysml:e8148481-e1af-4d30-a20f-345018eb1da9\" xlink:show=\"new\" xlink:title=\"psysml:e8148481-e1af-4d30-a20f-345018eb1da9\" xlink:type=\"simple\"><path d=\"M211,90.72 C211,90.72 211,133.81 211,133.81 \" fill=\"none\" id=\"E5-&gt;E3\" style=\"stroke: #383838; stroke-width: 1.0;\"/><polygon fill=\"#FFFFFF\" points=\"211,153.81,204,134.81,218,134.81,211,153.81\" style=\"stroke: #383838; stroke-width: 1.0;\"/><ellipse cx=\"206\" cy=\"129.11\" fill=\"#383838\" rx=\"2\" ry=\"2\" style=\"stroke: #383838; stroke-width: 1.0;\"/><ellipse cx=\"216\" cy=\"129.11\" fill=\"#383838\" rx=\"2\" ry=\"2\" style=\"stroke: #383838; stroke-width: 1.0;\"/></a><!--MD5=[bfa3c8b0d15052fdf50ae9310b491027]\n",
       "link E8 to E7--><a href=\"psysml:88eb6ab6-f030-4136-96c6-6d1b75343c8c\" target=\"_top\" title=\"psysml:88eb6ab6-f030-4136-96c6-6d1b75343c8c\" xlink:actuate=\"onRequest\" xlink:href=\"psysml:88eb6ab6-f030-4136-96c6-6d1b75343c8c\" xlink:show=\"new\" xlink:title=\"psysml:88eb6ab6-f030-4136-96c6-6d1b75343c8c\" xlink:type=\"simple\"><path d=\"M114.5,90.72 C114.5,90.72 114.5,133.81 114.5,133.81 \" fill=\"none\" id=\"E8-&gt;E7\" style=\"stroke: #383838; stroke-width: 1.0;\"/><polygon fill=\"#FFFFFF\" points=\"114.5,153.81,107.5,134.81,121.5,134.81,114.5,153.81\" style=\"stroke: #383838; stroke-width: 1.0;\"/><ellipse cx=\"109.5\" cy=\"129.11\" fill=\"#383838\" rx=\"2\" ry=\"2\" style=\"stroke: #383838; stroke-width: 1.0;\"/><ellipse cx=\"119.5\" cy=\"129.11\" fill=\"#383838\" rx=\"2\" ry=\"2\" style=\"stroke: #383838; stroke-width: 1.0;\"/></a><!--MD5=[77fc615f68df709539dd2c97c2db1217]\n",
       "@startuml\r\n",
       "skinparam linetype ortho\r\n",
       "skinparam monochrome true\r\n",
       "skinparam classbackgroundcolor white\r\n",
       "skinparam shadowing false\r\n",
       "skinparam wrapWidth 300\r\n",
       "hide circle\r\n",
       "\r\n",
       "package \"PrivateImportTest\" as E1  [[psysml:a19fc987-58b9-4365-8e05-8e082939198f ]]  {\r\n",
       "package \"P1\" as E2  [[psysml:0afae52f-013a-41db-84e1-dbe02c327088 ]]  {\r\n",
       "comp def \"A\" as E3  <<(T,blue)part def>> [[psysml:414aecf4-cab0-4d0d-b5e9-0bd22012706a ]] {\r\n",
       "}\r\n",
       "}\r\n",
       "package \"P2\" as E4  [[psysml:e62181a2-aa41-44c6-a86b-ee96628d0c50 ]]  {\r\n",
       "}\r\n",
       "comp usage \"x: A\" as E5  <<(T,blue)part>> [[psysml:0adc1dcd-eba4-4b19-b824-866ee03ed7de ]] {\r\n",
       "}\r\n",
       "package \"P3\" as E6  [[psysml:1d9d662c-22cb-416c-b8ab-bb9944386c4a ]]  {\r\n",
       "comp def \"B\" as E7  <<(T,blue)part def>> [[psysml:f619ebc7-1ca1-4b7d-a8d3-68584975adae ]] {\r\n",
       "}\r\n",
       "E5 - -:|> E3 [[psysml:e8148481-e1af-4d30-a20f-345018eb1da9 ]] \r\n",
       "}\r\n",
       "comp usage \"z: B\" as E8  <<(T,blue)part>> [[psysml:b076f02a-ad00-46e0-858a-3e2f54feec2a ]] {\r\n",
       "}\r\n",
       "E8 - -:|> E7 [[psysml:88eb6ab6-f030-4136-96c6-6d1b75343c8c ]] \r\n",
       "}\r\n",
       "@enduml\r\n",
       "\n",
       "PlantUML version 1.2020.13(Sat Jun 13 12:26:38 UTC 2020)\n",
       "(EPL source distribution)\n",
       "Java Runtime: OpenJDK Runtime Environment\n",
       "JVM: OpenJDK 64-Bit Server VM\n",
       "Default Encoding: UTF-8\n",
       "Language: en\n",
       "Country: null\n",
       "--></g></svg>"
      ]
     },
     "execution_count": 57,
     "metadata": {},
     "output_type": "execute_result"
    }
   ],
   "source": [
    "%viz --style=\"ORTHOLINE\" --view=\"MIXED\" \"PrivateImportTest\""
   ]
  }
 ],
 "metadata": {
  "kernelspec": {
   "display_name": "SysML",
   "language": "sysml",
   "name": "sysml"
  },
  "language_info": {
   "codemirror_mode": "sysml",
   "file_extension": ".sysml",
   "mimetype": "text/x-sysml",
   "name": "SysML",
   "pygments_lexer": "java",
   "version": "1.0.0"
  }
 },
 "nbformat": 4,
 "nbformat_minor": 5
}
