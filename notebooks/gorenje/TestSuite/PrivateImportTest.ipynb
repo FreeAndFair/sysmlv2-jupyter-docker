{
 "cells": [
  {
   "cell_type": "markdown",
   "id": "awful-diamond",
   "metadata": {},
   "source": [
    "# SysML v2 Test Suite\n",
    "\n",
    "This can notebook can be cleared using menu `Edit --> Clear All Outputs` and then all cells can be\n",
    "run using menu `Run --> Run All Cells`.\n",
    "\n",
    "**WARNING**: This file is generated, all modifications here will be ignored.\n"
   ]
  },
  {
   "cell_type": "markdown",
   "id": "viral-replacement",
   "metadata": {},
   "source": [
    "## File: ../../sysml/src/examples/Import Tests/PrivateImportTest.sysml"
   ]
  },
  {
   "cell_type": "code",
   "execution_count": 1,
   "id": "loose-thirty",
   "metadata": {
    "execution": {
     "iopub.execute_input": "2021-03-26T12:08:09.110366Z",
     "iopub.status.busy": "2021-03-26T12:08:09.109340Z",
     "iopub.status.idle": "2021-03-26T12:08:09.196182Z",
     "shell.execute_reply": "2021-03-26T12:08:09.195670Z"
    }
   },
   "outputs": [
    {
     "data": {
      "text/plain": [
       "Package PrivateImportTest (1b7fba9e-7ca4-4a56-a412-2bb58dfe5baf)\n"
      ]
     },
     "execution_count": 1,
     "metadata": {},
     "output_type": "execute_result"
    }
   ],
   "source": [
    "package PrivateImportTest {\n",
    "\tpackage P1 {\n",
    "\t\tpart def A;\n",
    "\t}\n",
    "\tpackage P2 {\n",
    "\t\tprivate import P1::*;\n",
    "\t}\n",
    "\tpart x: P1::A;\n",
    "\t\n",
    "\timport P2::*;\n",
    "\t// This should fail.\n",
    "\t// A is not visible, because the import in P2 is private.\n",
    "\t// y: A;\n",
    "\t\n",
    "\tpackage P3 {\n",
    "\t\tpart def B;\n",
    "\t}\n",
    "\t\n",
    "\tprivate import P3::*;\n",
    "\t\n",
    "\t// This should not fail.\n",
    "\t// Private import only restricts visibility outside the package.\n",
    "\tpart z: B;\n",
    "\t\n",
    "}"
   ]
  },
  {
   "cell_type": "code",
   "execution_count": 2,
   "id": "seven-gallery",
   "metadata": {
    "execution": {
     "iopub.execute_input": "2021-03-26T12:08:09.248749Z",
     "iopub.status.busy": "2021-03-26T12:08:09.248188Z",
     "iopub.status.idle": "2021-03-26T12:08:09.774789Z",
     "shell.execute_reply": "2021-03-26T12:08:09.775144Z"
    }
   },
   "outputs": [
    {
     "data": {
      "image/svg+xml": [
       "<?xml version=\"1.0\" encoding=\"UTF-8\" standalone=\"no\"?><svg xmlns=\"http://www.w3.org/2000/svg\" xmlns:xlink=\"http://www.w3.org/1999/xlink\" contentScriptType=\"application/ecmascript\" contentStyleType=\"text/css\" height=\"252px\" preserveAspectRatio=\"none\" style=\"width:306px;height:252px;\" version=\"1.1\" viewBox=\"0 0 306 252\" width=\"306px\" zoomAndPan=\"magnify\"><defs/><g><!--MD5=[fbc87193dbaf4d95561dea2c320d4a47]\n",
       "cluster E1--><a href=\"psysml:fd8049a9-22d6-4d05-bbeb-ce76116dc6d9\" target=\"_top\" title=\"psysml:fd8049a9-22d6-4d05-bbeb-ce76116dc6d9\" xlink:actuate=\"onRequest\" xlink:href=\"psysml:fd8049a9-22d6-4d05-bbeb-ce76116dc6d9\" xlink:show=\"new\" xlink:title=\"psysml:fd8049a9-22d6-4d05-bbeb-ce76116dc6d9\" xlink:type=\"simple\"><polygon fill=\"#FFFFFF\" points=\"16,6,163,6,170,28.2969,284,28.2969,284,240,16,240,16,6\" style=\"stroke: #000000; stroke-width: 1.5;\"/><line style=\"stroke: #000000; stroke-width: 1.5;\" x1=\"16\" x2=\"170\" y1=\"28.2969\" y2=\"28.2969\"/><text fill=\"#000000\" font-family=\"sans-serif\" font-size=\"14\" font-weight=\"bold\" lengthAdjust=\"spacingAndGlyphs\" textLength=\"141\" x=\"20\" y=\"20.9951\">PrivateImportTest</text></a><!--MD5=[e4f7fae6ed58524ba242bb0b0d3be6b7]\n",
       "cluster E2--><a href=\"psysml:b8db80a7-5996-4df4-9976-dc6864828b46\" target=\"_top\" title=\"psysml:b8db80a7-5996-4df4-9976-dc6864828b46\" xlink:actuate=\"onRequest\" xlink:href=\"psysml:b8db80a7-5996-4df4-9976-dc6864828b46\" xlink:show=\"new\" xlink:title=\"psysml:b8db80a7-5996-4df4-9976-dc6864828b46\" xlink:type=\"simple\"><polygon fill=\"#FFFFFF\" points=\"162,119,188,119,195,141.2969,260,141.2969,260,216,162,216,162,119\" style=\"stroke: #000000; stroke-width: 1.5;\"/><line style=\"stroke: #000000; stroke-width: 1.5;\" x1=\"162\" x2=\"195\" y1=\"141.2969\" y2=\"141.2969\"/><text fill=\"#000000\" font-family=\"sans-serif\" font-size=\"14\" font-weight=\"bold\" lengthAdjust=\"spacingAndGlyphs\" textLength=\"20\" x=\"166\" y=\"133.9951\">P1</text></a><!--MD5=[14e3b0961a2654348d326746436168a1]\n",
       "cluster E6--><a href=\"psysml:5bfd0c7b-a7f5-42f3-81fc-e346e4c74519\" target=\"_top\" title=\"psysml:5bfd0c7b-a7f5-42f3-81fc-e346e4c74519\" xlink:actuate=\"onRequest\" xlink:href=\"psysml:5bfd0c7b-a7f5-42f3-81fc-e346e4c74519\" xlink:show=\"new\" xlink:title=\"psysml:5bfd0c7b-a7f5-42f3-81fc-e346e4c74519\" xlink:type=\"simple\"><polygon fill=\"#FFFFFF\" points=\"40,119,66,119,73,141.2969,138,141.2969,138,216,40,216,40,119\" style=\"stroke: #000000; stroke-width: 1.5;\"/><line style=\"stroke: #000000; stroke-width: 1.5;\" x1=\"40\" x2=\"73\" y1=\"141.2969\" y2=\"141.2969\"/><text fill=\"#000000\" font-family=\"sans-serif\" font-size=\"14\" font-weight=\"bold\" lengthAdjust=\"spacingAndGlyphs\" textLength=\"20\" x=\"44\" y=\"133.9951\">P3</text></a><!--MD5=[270fce915f116d4de14055a7c1d9a0f3]\n",
       "class E5--><a href=\"psysml:79fb998f-896a-4642-b1f0-d66dfbec55d7\" target=\"_top\" title=\"psysml:79fb998f-896a-4642-b1f0-d66dfbec55d7\" xlink:actuate=\"onRequest\" xlink:href=\"psysml:79fb998f-896a-4642-b1f0-d66dfbec55d7\" xlink:show=\"new\" xlink:title=\"psysml:79fb998f-896a-4642-b1f0-d66dfbec55d7\" xlink:type=\"simple\"><rect fill=\"#FFFFFF\" height=\"45.9375\" id=\"E5\" rx=\"10\" ry=\"10\" style=\"stroke: #383838; stroke-width: 1.5;\" width=\"42\" x=\"190\" y=\"44.5\"/><text fill=\"#000000\" font-family=\"sans-serif\" font-size=\"12\" font-style=\"italic\" lengthAdjust=\"spacingAndGlyphs\" textLength=\"40\" x=\"191\" y=\"60.6387\">«part»</text><text fill=\"#000000\" font-family=\"sans-serif\" font-size=\"12\" lengthAdjust=\"spacingAndGlyphs\" textLength=\"22\" x=\"200\" y=\"74.6074\">x: A</text><line style=\"stroke: #383838; stroke-width: 1.5;\" x1=\"191\" x2=\"231\" y1=\"82.4375\" y2=\"82.4375\"/></a><!--MD5=[b9389687b975829384b498ac4b7476b2]\n",
       "class E8--><a href=\"psysml:c8045a6d-f018-4e86-976c-73e06620aa4c\" target=\"_top\" title=\"psysml:c8045a6d-f018-4e86-976c-73e06620aa4c\" xlink:actuate=\"onRequest\" xlink:href=\"psysml:c8045a6d-f018-4e86-976c-73e06620aa4c\" xlink:show=\"new\" xlink:title=\"psysml:c8045a6d-f018-4e86-976c-73e06620aa4c\" xlink:type=\"simple\"><rect fill=\"#FFFFFF\" height=\"45.9375\" id=\"E8\" rx=\"10\" ry=\"10\" style=\"stroke: #383838; stroke-width: 1.5;\" width=\"42\" x=\"107\" y=\"44.5\"/><text fill=\"#000000\" font-family=\"sans-serif\" font-size=\"12\" font-style=\"italic\" lengthAdjust=\"spacingAndGlyphs\" textLength=\"40\" x=\"108\" y=\"60.6387\">«part»</text><text fill=\"#000000\" font-family=\"sans-serif\" font-size=\"12\" lengthAdjust=\"spacingAndGlyphs\" textLength=\"21\" x=\"117.5\" y=\"74.6074\">z: B</text><line style=\"stroke: #383838; stroke-width: 1.5;\" x1=\"108\" x2=\"148\" y1=\"82.4375\" y2=\"82.4375\"/></a><!--MD5=[09b614a08d8cba4a07c9adeb5e0fee81]\n",
       "class E3--><a href=\"psysml:06ccdf6b-7fde-40d2-9d83-7c71c3aaf391\" target=\"_top\" title=\"psysml:06ccdf6b-7fde-40d2-9d83-7c71c3aaf391\" xlink:actuate=\"onRequest\" xlink:href=\"psysml:06ccdf6b-7fde-40d2-9d83-7c71c3aaf391\" xlink:show=\"new\" xlink:title=\"psysml:06ccdf6b-7fde-40d2-9d83-7c71c3aaf391\" xlink:type=\"simple\"><rect fill=\"#FFFFFF\" height=\"45.9375\" id=\"E3\" style=\"stroke: #383838; stroke-width: 1.5;\" width=\"66\" x=\"178\" y=\"154\"/><text fill=\"#000000\" font-family=\"sans-serif\" font-size=\"12\" font-style=\"italic\" lengthAdjust=\"spacingAndGlyphs\" textLength=\"64\" x=\"179\" y=\"170.1387\">«part def»</text><text fill=\"#000000\" font-family=\"sans-serif\" font-size=\"12\" lengthAdjust=\"spacingAndGlyphs\" textLength=\"8\" x=\"207\" y=\"184.1074\">A</text><line style=\"stroke: #383838; stroke-width: 1.5;\" x1=\"179\" x2=\"243\" y1=\"191.9375\" y2=\"191.9375\"/></a><a href=\"psysml:524b97f3-dd10-444b-a6f8-a87f295610fc\" target=\"_top\" title=\"psysml:524b97f3-dd10-444b-a6f8-a87f295610fc\" xlink:actuate=\"onRequest\" xlink:href=\"psysml:524b97f3-dd10-444b-a6f8-a87f295610fc\" xlink:show=\"new\" xlink:title=\"psysml:524b97f3-dd10-444b-a6f8-a87f295610fc\" xlink:type=\"simple\"><polygon fill=\"#FFFFFF\" points=\"32,41,58,41,65,63.2969,72,63.2969,72,93.5938,32,93.5938,32,41\" style=\"stroke: #000000; stroke-width: 1.5;\"/><line style=\"stroke: #000000; stroke-width: 1.5;\" x1=\"32\" x2=\"65\" y1=\"63.2969\" y2=\"63.2969\"/><text fill=\"#000000\" font-family=\"sans-serif\" font-size=\"14\" font-weight=\"bold\" lengthAdjust=\"spacingAndGlyphs\" textLength=\"20\" x=\"36\" y=\"55.9951\">P2</text></a><!--MD5=[2156ba9850f5573cc1fc38a6a4b2f02b]\n",
       "class E7--><a href=\"psysml:e6b11995-178a-4abf-b303-bbf3be6d894d\" target=\"_top\" title=\"psysml:e6b11995-178a-4abf-b303-bbf3be6d894d\" xlink:actuate=\"onRequest\" xlink:href=\"psysml:e6b11995-178a-4abf-b303-bbf3be6d894d\" xlink:show=\"new\" xlink:title=\"psysml:e6b11995-178a-4abf-b303-bbf3be6d894d\" xlink:type=\"simple\"><rect fill=\"#FFFFFF\" height=\"45.9375\" id=\"E7\" style=\"stroke: #383838; stroke-width: 1.5;\" width=\"66\" x=\"56\" y=\"154\"/><text fill=\"#000000\" font-family=\"sans-serif\" font-size=\"12\" font-style=\"italic\" lengthAdjust=\"spacingAndGlyphs\" textLength=\"64\" x=\"57\" y=\"170.1387\">«part def»</text><text fill=\"#000000\" font-family=\"sans-serif\" font-size=\"12\" lengthAdjust=\"spacingAndGlyphs\" textLength=\"8\" x=\"85\" y=\"184.1074\">B</text><line style=\"stroke: #383838; stroke-width: 1.5;\" x1=\"57\" x2=\"121\" y1=\"191.9375\" y2=\"191.9375\"/></a><!--MD5=[e9be52314489bd878ff4c7144b63c9e1]\n",
       "link E5 to E3--><a href=\"psysml:88440252-e8a6-408e-b428-64e589ea9f3d\" target=\"_top\" title=\"psysml:88440252-e8a6-408e-b428-64e589ea9f3d\" xlink:actuate=\"onRequest\" xlink:href=\"psysml:88440252-e8a6-408e-b428-64e589ea9f3d\" xlink:show=\"new\" xlink:title=\"psysml:88440252-e8a6-408e-b428-64e589ea9f3d\" xlink:type=\"simple\"><path d=\"M211,90.51 C211,102.89 211,118.78 211,133.48 \" fill=\"none\" id=\"E5-&gt;E3\" style=\"stroke: #383838; stroke-width: 1.0;\"/><polygon fill=\"#FFFFFF\" points=\"211,153.65,204,134.65,218,134.65,211,153.65\" style=\"stroke: #383838; stroke-width: 1.0;\"/><ellipse cx=\"206\" cy=\"128.95\" fill=\"#383838\" rx=\"2\" ry=\"2\" style=\"stroke: #383838; stroke-width: 1.0;\"/><ellipse cx=\"216\" cy=\"128.95\" fill=\"#383838\" rx=\"2\" ry=\"2\" style=\"stroke: #383838; stroke-width: 1.0;\"/></a><!--MD5=[bfa3c8b0d15052fdf50ae9310b491027]\n",
       "link E8 to E7--><a href=\"psysml:a33b0610-5a8d-429b-bbd7-f981cc70bcb5\" target=\"_top\" title=\"psysml:a33b0610-5a8d-429b-bbd7-f981cc70bcb5\" xlink:actuate=\"onRequest\" xlink:href=\"psysml:a33b0610-5a8d-429b-bbd7-f981cc70bcb5\" xlink:show=\"new\" xlink:title=\"psysml:a33b0610-5a8d-429b-bbd7-f981cc70bcb5\" xlink:type=\"simple\"><path d=\"M120.01,90.51 C115.39,103.25 109.42,119.7 103.96,134.76 \" fill=\"none\" id=\"E8-&gt;E7\" style=\"stroke: #383838; stroke-width: 1.0;\"/><polygon fill=\"#FFFFFF\" points=\"97.11,153.65,97.0036,133.4018,110.1656,138.1726,97.11,153.65\" style=\"stroke: #383838; stroke-width: 1.0;\"/><ellipse cx=\"100.8262\" cy=\"128.7245\" fill=\"#383838\" rx=\"2\" ry=\"2\" style=\"stroke: #383838; stroke-width: 1.0;\"/><ellipse cx=\"110.2277\" cy=\"132.1322\" fill=\"#383838\" rx=\"2\" ry=\"2\" style=\"stroke: #383838; stroke-width: 1.0;\"/></a><!--MD5=[1ba317f1025a6371853a2b2290b251d6]\n",
       "@startuml\r\n",
       " skinparam monochrome true\r\n",
       "skinparam classbackgroundcolor white\r\n",
       "skinparam shadowing false\r\n",
       "skinparam wrapWidth 300\r\n",
       "hide circle\r\n",
       "\r\n",
       "package \"PrivateImportTest\" as E1  [[psysml:fd8049a9-22d6-4d05-bbeb-ce76116dc6d9 ]]  {\r\n",
       "package \"P1\" as E2  [[psysml:b8db80a7-5996-4df4-9976-dc6864828b46 ]]  {\r\n",
       "comp def \"A\" as E3  <<(T,blue)part def>> [[psysml:06ccdf6b-7fde-40d2-9d83-7c71c3aaf391 ]] {\r\n",
       "}\r\n",
       "}\r\n",
       "package \"P2\" as E4  [[psysml:524b97f3-dd10-444b-a6f8-a87f295610fc ]]  {\r\n",
       "}\r\n",
       "comp usage \"x: A\" as E5  <<(T,blue)part>> [[psysml:79fb998f-896a-4642-b1f0-d66dfbec55d7 ]] {\r\n",
       "}\r\n",
       "package \"P3\" as E6  [[psysml:5bfd0c7b-a7f5-42f3-81fc-e346e4c74519 ]]  {\r\n",
       "comp def \"B\" as E7  <<(T,blue)part def>> [[psysml:e6b11995-178a-4abf-b303-bbf3be6d894d ]] {\r\n",
       "}\r\n",
       "E5 - -:|> E3 [[psysml:88440252-e8a6-408e-b428-64e589ea9f3d ]] \r\n",
       "}\r\n",
       "comp usage \"z: B\" as E8  <<(T,blue)part>> [[psysml:c8045a6d-f018-4e86-976c-73e06620aa4c ]] {\r\n",
       "}\r\n",
       "E8 - -:|> E7 [[psysml:a33b0610-5a8d-429b-bbd7-f981cc70bcb5 ]] \r\n",
       "}\r\n",
       "@enduml\r\n",
       "\n",
       "PlantUML version 1.2020.13(Sat Jun 13 12:26:38 UTC 2020)\n",
       "(EPL source distribution)\n",
       "Java Runtime: OpenJDK Runtime Environment\n",
       "JVM: OpenJDK 64-Bit Server VM\n",
       "Default Encoding: UTF-8\n",
       "Language: en\n",
       "Country: null\n",
       "--></g></svg>"
      ]
     },
     "execution_count": 2,
     "metadata": {},
     "output_type": "execute_result"
    }
   ],
   "source": [
    "%viz --style=\"COMPTREE\" --view=\"Default\" \"PrivateImportTest\""
   ]
  },
  {
   "cell_type": "code",
   "execution_count": 3,
   "id": "bored-links",
   "metadata": {
    "execution": {
     "iopub.execute_input": "2021-03-26T12:08:09.825414Z",
     "iopub.status.busy": "2021-03-26T12:08:09.825087Z",
     "iopub.status.idle": "2021-03-26T12:08:09.881889Z",
     "shell.execute_reply": "2021-03-26T12:08:09.882251Z"
    }
   },
   "outputs": [
    {
     "data": {
      "image/svg+xml": [
       "<?xml version=\"1.0\" encoding=\"UTF-8\" standalone=\"no\"?><svg xmlns=\"http://www.w3.org/2000/svg\" xmlns:xlink=\"http://www.w3.org/1999/xlink\" contentScriptType=\"application/ecmascript\" contentStyleType=\"text/css\" height=\"252px\" preserveAspectRatio=\"none\" style=\"width:306px;height:252px;\" version=\"1.1\" viewBox=\"0 0 306 252\" width=\"306px\" zoomAndPan=\"magnify\"><defs/><g><!--MD5=[fbc87193dbaf4d95561dea2c320d4a47]\n",
       "cluster E1--><a href=\"psysml:fd8049a9-22d6-4d05-bbeb-ce76116dc6d9\" target=\"_top\" title=\"psysml:fd8049a9-22d6-4d05-bbeb-ce76116dc6d9\" xlink:actuate=\"onRequest\" xlink:href=\"psysml:fd8049a9-22d6-4d05-bbeb-ce76116dc6d9\" xlink:show=\"new\" xlink:title=\"psysml:fd8049a9-22d6-4d05-bbeb-ce76116dc6d9\" xlink:type=\"simple\"><polygon fill=\"#FFFFFF\" points=\"16,6,163,6,170,28.2969,284,28.2969,284,240,16,240,16,6\" style=\"stroke: #000000; stroke-width: 1.5;\"/><line style=\"stroke: #000000; stroke-width: 1.5;\" x1=\"16\" x2=\"170\" y1=\"28.2969\" y2=\"28.2969\"/><text fill=\"#000000\" font-family=\"sans-serif\" font-size=\"14\" font-weight=\"bold\" lengthAdjust=\"spacingAndGlyphs\" textLength=\"141\" x=\"20\" y=\"20.9951\">PrivateImportTest</text></a><!--MD5=[e4f7fae6ed58524ba242bb0b0d3be6b7]\n",
       "cluster E2--><a href=\"psysml:b8db80a7-5996-4df4-9976-dc6864828b46\" target=\"_top\" title=\"psysml:b8db80a7-5996-4df4-9976-dc6864828b46\" xlink:actuate=\"onRequest\" xlink:href=\"psysml:b8db80a7-5996-4df4-9976-dc6864828b46\" xlink:show=\"new\" xlink:title=\"psysml:b8db80a7-5996-4df4-9976-dc6864828b46\" xlink:type=\"simple\"><polygon fill=\"#FFFFFF\" points=\"162,119,188,119,195,141.2969,260,141.2969,260,216,162,216,162,119\" style=\"stroke: #000000; stroke-width: 1.5;\"/><line style=\"stroke: #000000; stroke-width: 1.5;\" x1=\"162\" x2=\"195\" y1=\"141.2969\" y2=\"141.2969\"/><text fill=\"#000000\" font-family=\"sans-serif\" font-size=\"14\" font-weight=\"bold\" lengthAdjust=\"spacingAndGlyphs\" textLength=\"20\" x=\"166\" y=\"133.9951\">P1</text></a><!--MD5=[14e3b0961a2654348d326746436168a1]\n",
       "cluster E6--><a href=\"psysml:5bfd0c7b-a7f5-42f3-81fc-e346e4c74519\" target=\"_top\" title=\"psysml:5bfd0c7b-a7f5-42f3-81fc-e346e4c74519\" xlink:actuate=\"onRequest\" xlink:href=\"psysml:5bfd0c7b-a7f5-42f3-81fc-e346e4c74519\" xlink:show=\"new\" xlink:title=\"psysml:5bfd0c7b-a7f5-42f3-81fc-e346e4c74519\" xlink:type=\"simple\"><polygon fill=\"#FFFFFF\" points=\"40,119,66,119,73,141.2969,138,141.2969,138,216,40,216,40,119\" style=\"stroke: #000000; stroke-width: 1.5;\"/><line style=\"stroke: #000000; stroke-width: 1.5;\" x1=\"40\" x2=\"73\" y1=\"141.2969\" y2=\"141.2969\"/><text fill=\"#000000\" font-family=\"sans-serif\" font-size=\"14\" font-weight=\"bold\" lengthAdjust=\"spacingAndGlyphs\" textLength=\"20\" x=\"44\" y=\"133.9951\">P3</text></a><!--MD5=[270fce915f116d4de14055a7c1d9a0f3]\n",
       "class E5--><a href=\"psysml:79fb998f-896a-4642-b1f0-d66dfbec55d7\" target=\"_top\" title=\"psysml:79fb998f-896a-4642-b1f0-d66dfbec55d7\" xlink:actuate=\"onRequest\" xlink:href=\"psysml:79fb998f-896a-4642-b1f0-d66dfbec55d7\" xlink:show=\"new\" xlink:title=\"psysml:79fb998f-896a-4642-b1f0-d66dfbec55d7\" xlink:type=\"simple\"><rect fill=\"#FFFFFF\" height=\"45.9375\" id=\"E5\" rx=\"10\" ry=\"10\" style=\"stroke: #383838; stroke-width: 1.5;\" width=\"42\" x=\"190\" y=\"44.5\"/><text fill=\"#000000\" font-family=\"sans-serif\" font-size=\"12\" font-style=\"italic\" lengthAdjust=\"spacingAndGlyphs\" textLength=\"40\" x=\"191\" y=\"60.6387\">«part»</text><text fill=\"#000000\" font-family=\"sans-serif\" font-size=\"12\" lengthAdjust=\"spacingAndGlyphs\" textLength=\"22\" x=\"200\" y=\"74.6074\">x: A</text><line style=\"stroke: #383838; stroke-width: 1.5;\" x1=\"191\" x2=\"231\" y1=\"82.4375\" y2=\"82.4375\"/></a><!--MD5=[b9389687b975829384b498ac4b7476b2]\n",
       "class E8--><a href=\"psysml:c8045a6d-f018-4e86-976c-73e06620aa4c\" target=\"_top\" title=\"psysml:c8045a6d-f018-4e86-976c-73e06620aa4c\" xlink:actuate=\"onRequest\" xlink:href=\"psysml:c8045a6d-f018-4e86-976c-73e06620aa4c\" xlink:show=\"new\" xlink:title=\"psysml:c8045a6d-f018-4e86-976c-73e06620aa4c\" xlink:type=\"simple\"><rect fill=\"#FFFFFF\" height=\"45.9375\" id=\"E8\" rx=\"10\" ry=\"10\" style=\"stroke: #383838; stroke-width: 1.5;\" width=\"42\" x=\"107\" y=\"44.5\"/><text fill=\"#000000\" font-family=\"sans-serif\" font-size=\"12\" font-style=\"italic\" lengthAdjust=\"spacingAndGlyphs\" textLength=\"40\" x=\"108\" y=\"60.6387\">«part»</text><text fill=\"#000000\" font-family=\"sans-serif\" font-size=\"12\" lengthAdjust=\"spacingAndGlyphs\" textLength=\"21\" x=\"117.5\" y=\"74.6074\">z: B</text><line style=\"stroke: #383838; stroke-width: 1.5;\" x1=\"108\" x2=\"148\" y1=\"82.4375\" y2=\"82.4375\"/></a><!--MD5=[09b614a08d8cba4a07c9adeb5e0fee81]\n",
       "class E3--><a href=\"psysml:06ccdf6b-7fde-40d2-9d83-7c71c3aaf391\" target=\"_top\" title=\"psysml:06ccdf6b-7fde-40d2-9d83-7c71c3aaf391\" xlink:actuate=\"onRequest\" xlink:href=\"psysml:06ccdf6b-7fde-40d2-9d83-7c71c3aaf391\" xlink:show=\"new\" xlink:title=\"psysml:06ccdf6b-7fde-40d2-9d83-7c71c3aaf391\" xlink:type=\"simple\"><rect fill=\"#FFFFFF\" height=\"45.9375\" id=\"E3\" style=\"stroke: #383838; stroke-width: 1.5;\" width=\"66\" x=\"178\" y=\"154\"/><text fill=\"#000000\" font-family=\"sans-serif\" font-size=\"12\" font-style=\"italic\" lengthAdjust=\"spacingAndGlyphs\" textLength=\"64\" x=\"179\" y=\"170.1387\">«part def»</text><text fill=\"#000000\" font-family=\"sans-serif\" font-size=\"12\" lengthAdjust=\"spacingAndGlyphs\" textLength=\"8\" x=\"207\" y=\"184.1074\">A</text><line style=\"stroke: #383838; stroke-width: 1.5;\" x1=\"179\" x2=\"243\" y1=\"191.9375\" y2=\"191.9375\"/></a><a href=\"psysml:524b97f3-dd10-444b-a6f8-a87f295610fc\" target=\"_top\" title=\"psysml:524b97f3-dd10-444b-a6f8-a87f295610fc\" xlink:actuate=\"onRequest\" xlink:href=\"psysml:524b97f3-dd10-444b-a6f8-a87f295610fc\" xlink:show=\"new\" xlink:title=\"psysml:524b97f3-dd10-444b-a6f8-a87f295610fc\" xlink:type=\"simple\"><polygon fill=\"#FFFFFF\" points=\"32,41,58,41,65,63.2969,72,63.2969,72,93.5938,32,93.5938,32,41\" style=\"stroke: #000000; stroke-width: 1.5;\"/><line style=\"stroke: #000000; stroke-width: 1.5;\" x1=\"32\" x2=\"65\" y1=\"63.2969\" y2=\"63.2969\"/><text fill=\"#000000\" font-family=\"sans-serif\" font-size=\"14\" font-weight=\"bold\" lengthAdjust=\"spacingAndGlyphs\" textLength=\"20\" x=\"36\" y=\"55.9951\">P2</text></a><!--MD5=[2156ba9850f5573cc1fc38a6a4b2f02b]\n",
       "class E7--><a href=\"psysml:e6b11995-178a-4abf-b303-bbf3be6d894d\" target=\"_top\" title=\"psysml:e6b11995-178a-4abf-b303-bbf3be6d894d\" xlink:actuate=\"onRequest\" xlink:href=\"psysml:e6b11995-178a-4abf-b303-bbf3be6d894d\" xlink:show=\"new\" xlink:title=\"psysml:e6b11995-178a-4abf-b303-bbf3be6d894d\" xlink:type=\"simple\"><rect fill=\"#FFFFFF\" height=\"45.9375\" id=\"E7\" style=\"stroke: #383838; stroke-width: 1.5;\" width=\"66\" x=\"56\" y=\"154\"/><text fill=\"#000000\" font-family=\"sans-serif\" font-size=\"12\" font-style=\"italic\" lengthAdjust=\"spacingAndGlyphs\" textLength=\"64\" x=\"57\" y=\"170.1387\">«part def»</text><text fill=\"#000000\" font-family=\"sans-serif\" font-size=\"12\" lengthAdjust=\"spacingAndGlyphs\" textLength=\"8\" x=\"85\" y=\"184.1074\">B</text><line style=\"stroke: #383838; stroke-width: 1.5;\" x1=\"57\" x2=\"121\" y1=\"191.9375\" y2=\"191.9375\"/></a><!--MD5=[e9be52314489bd878ff4c7144b63c9e1]\n",
       "link E5 to E3--><a href=\"psysml:88440252-e8a6-408e-b428-64e589ea9f3d\" target=\"_top\" title=\"psysml:88440252-e8a6-408e-b428-64e589ea9f3d\" xlink:actuate=\"onRequest\" xlink:href=\"psysml:88440252-e8a6-408e-b428-64e589ea9f3d\" xlink:show=\"new\" xlink:title=\"psysml:88440252-e8a6-408e-b428-64e589ea9f3d\" xlink:type=\"simple\"><path d=\"M211,90.51 C211,102.89 211,118.78 211,133.48 \" fill=\"none\" id=\"E5-&gt;E3\" style=\"stroke: #383838; stroke-width: 1.0;\"/><polygon fill=\"#FFFFFF\" points=\"211,153.65,204,134.65,218,134.65,211,153.65\" style=\"stroke: #383838; stroke-width: 1.0;\"/><ellipse cx=\"206\" cy=\"128.95\" fill=\"#383838\" rx=\"2\" ry=\"2\" style=\"stroke: #383838; stroke-width: 1.0;\"/><ellipse cx=\"216\" cy=\"128.95\" fill=\"#383838\" rx=\"2\" ry=\"2\" style=\"stroke: #383838; stroke-width: 1.0;\"/></a><!--MD5=[bfa3c8b0d15052fdf50ae9310b491027]\n",
       "link E8 to E7--><a href=\"psysml:a33b0610-5a8d-429b-bbd7-f981cc70bcb5\" target=\"_top\" title=\"psysml:a33b0610-5a8d-429b-bbd7-f981cc70bcb5\" xlink:actuate=\"onRequest\" xlink:href=\"psysml:a33b0610-5a8d-429b-bbd7-f981cc70bcb5\" xlink:show=\"new\" xlink:title=\"psysml:a33b0610-5a8d-429b-bbd7-f981cc70bcb5\" xlink:type=\"simple\"><path d=\"M120.01,90.51 C115.39,103.25 109.42,119.7 103.96,134.76 \" fill=\"none\" id=\"E8-&gt;E7\" style=\"stroke: #383838; stroke-width: 1.0;\"/><polygon fill=\"#FFFFFF\" points=\"97.11,153.65,97.0036,133.4018,110.1656,138.1726,97.11,153.65\" style=\"stroke: #383838; stroke-width: 1.0;\"/><ellipse cx=\"100.8262\" cy=\"128.7245\" fill=\"#383838\" rx=\"2\" ry=\"2\" style=\"stroke: #383838; stroke-width: 1.0;\"/><ellipse cx=\"110.2277\" cy=\"132.1322\" fill=\"#383838\" rx=\"2\" ry=\"2\" style=\"stroke: #383838; stroke-width: 1.0;\"/></a><!--MD5=[1ba317f1025a6371853a2b2290b251d6]\n",
       "@startuml\r\n",
       " skinparam monochrome true\r\n",
       "skinparam classbackgroundcolor white\r\n",
       "skinparam shadowing false\r\n",
       "skinparam wrapWidth 300\r\n",
       "hide circle\r\n",
       "\r\n",
       "package \"PrivateImportTest\" as E1  [[psysml:fd8049a9-22d6-4d05-bbeb-ce76116dc6d9 ]]  {\r\n",
       "package \"P1\" as E2  [[psysml:b8db80a7-5996-4df4-9976-dc6864828b46 ]]  {\r\n",
       "comp def \"A\" as E3  <<(T,blue)part def>> [[psysml:06ccdf6b-7fde-40d2-9d83-7c71c3aaf391 ]] {\r\n",
       "}\r\n",
       "}\r\n",
       "package \"P2\" as E4  [[psysml:524b97f3-dd10-444b-a6f8-a87f295610fc ]]  {\r\n",
       "}\r\n",
       "comp usage \"x: A\" as E5  <<(T,blue)part>> [[psysml:79fb998f-896a-4642-b1f0-d66dfbec55d7 ]] {\r\n",
       "}\r\n",
       "package \"P3\" as E6  [[psysml:5bfd0c7b-a7f5-42f3-81fc-e346e4c74519 ]]  {\r\n",
       "comp def \"B\" as E7  <<(T,blue)part def>> [[psysml:e6b11995-178a-4abf-b303-bbf3be6d894d ]] {\r\n",
       "}\r\n",
       "E5 - -:|> E3 [[psysml:88440252-e8a6-408e-b428-64e589ea9f3d ]] \r\n",
       "}\r\n",
       "comp usage \"z: B\" as E8  <<(T,blue)part>> [[psysml:c8045a6d-f018-4e86-976c-73e06620aa4c ]] {\r\n",
       "}\r\n",
       "E8 - -:|> E7 [[psysml:a33b0610-5a8d-429b-bbd7-f981cc70bcb5 ]] \r\n",
       "}\r\n",
       "@enduml\r\n",
       "\n",
       "PlantUML version 1.2020.13(Sat Jun 13 12:26:38 UTC 2020)\n",
       "(EPL source distribution)\n",
       "Java Runtime: OpenJDK Runtime Environment\n",
       "JVM: OpenJDK 64-Bit Server VM\n",
       "Default Encoding: UTF-8\n",
       "Language: en\n",
       "Country: null\n",
       "--></g></svg>"
      ]
     },
     "execution_count": 3,
     "metadata": {},
     "output_type": "execute_result"
    }
   ],
   "source": [
    "%viz --style=\"COMPTREE\" --view=\"Tree\" \"PrivateImportTest\""
   ]
  },
  {
   "cell_type": "code",
   "execution_count": 4,
   "id": "extraordinary-aside",
   "metadata": {
    "execution": {
     "iopub.execute_input": "2021-03-26T12:08:09.935053Z",
     "iopub.status.busy": "2021-03-26T12:08:09.934356Z",
     "iopub.status.idle": "2021-03-26T12:08:09.944128Z",
     "shell.execute_reply": "2021-03-26T12:08:09.944494Z"
    }
   },
   "outputs": [
    {
     "data": {
      "image/svg+xml": [
       "<?xml version=\"1.0\" encoding=\"UTF-8\" standalone=\"no\"?><svg xmlns=\"http://www.w3.org/2000/svg\" xmlns:xlink=\"http://www.w3.org/1999/xlink\" contentScriptType=\"application/ecmascript\" contentStyleType=\"text/css\" height=\"12px\" preserveAspectRatio=\"none\" style=\"width:12px;height:12px;\" version=\"1.1\" viewBox=\"0 0 12 12\" width=\"12px\" zoomAndPan=\"magnify\"><defs/><g><!--MD5=[f19188ef49e11757b5c46753f95d9edc]\n",
       "@startuml\r\n",
       " skinparam monochrome true\r\n",
       "skinparam classbackgroundcolor white\r\n",
       "skinparam shadowing false\r\n",
       "skinparam wrapWidth 300\r\n",
       "hide circle\r\n",
       "\r\n",
       "@enduml\r\n",
       "\n",
       "PlantUML version 1.2020.13(Sat Jun 13 12:26:38 UTC 2020)\n",
       "(EPL source distribution)\n",
       "Java Runtime: OpenJDK Runtime Environment\n",
       "JVM: OpenJDK 64-Bit Server VM\n",
       "Default Encoding: UTF-8\n",
       "Language: en\n",
       "Country: null\n",
       "--></g></svg>"
      ]
     },
     "execution_count": 4,
     "metadata": {},
     "output_type": "execute_result"
    }
   ],
   "source": [
    "%viz --style=\"COMPTREE\" --view=\"State\" \"PrivateImportTest\""
   ]
  },
  {
   "cell_type": "code",
   "execution_count": 5,
   "id": "female-think",
   "metadata": {
    "execution": {
     "iopub.execute_input": "2021-03-26T12:08:09.997644Z",
     "iopub.status.busy": "2021-03-26T12:08:09.997213Z",
     "iopub.status.idle": "2021-03-26T12:08:10.048385Z",
     "shell.execute_reply": "2021-03-26T12:08:10.048769Z"
    }
   },
   "outputs": [
    {
     "data": {
      "image/svg+xml": [
       "<?xml version=\"1.0\" encoding=\"UTF-8\" standalone=\"no\"?><svg xmlns=\"http://www.w3.org/2000/svg\" xmlns:xlink=\"http://www.w3.org/1999/xlink\" contentScriptType=\"application/ecmascript\" contentStyleType=\"text/css\" height=\"179px\" preserveAspectRatio=\"none\" style=\"width:539px;height:179px;\" version=\"1.1\" viewBox=\"0 0 539 179\" width=\"539px\" zoomAndPan=\"magnify\"><defs/><g><!--MD5=[fbc87193dbaf4d95561dea2c320d4a47]\n",
       "cluster E1--><a href=\"psysml:fd8049a9-22d6-4d05-bbeb-ce76116dc6d9\" target=\"_top\" title=\"psysml:fd8049a9-22d6-4d05-bbeb-ce76116dc6d9\" xlink:actuate=\"onRequest\" xlink:href=\"psysml:fd8049a9-22d6-4d05-bbeb-ce76116dc6d9\" xlink:show=\"new\" xlink:title=\"psysml:fd8049a9-22d6-4d05-bbeb-ce76116dc6d9\" xlink:type=\"simple\"><polygon fill=\"#FFFFFF\" points=\"16,6,163,6,170,28.2969,517,28.2969,517,167,16,167,16,6\" style=\"stroke: #000000; stroke-width: 1.5;\"/><line style=\"stroke: #000000; stroke-width: 1.5;\" x1=\"16\" x2=\"170\" y1=\"28.2969\" y2=\"28.2969\"/><text fill=\"#000000\" font-family=\"sans-serif\" font-size=\"14\" font-weight=\"bold\" lengthAdjust=\"spacingAndGlyphs\" textLength=\"141\" x=\"20\" y=\"20.9951\">PrivateImportTest</text></a><!--MD5=[e4f7fae6ed58524ba242bb0b0d3be6b7]\n",
       "cluster E2--><a href=\"psysml:b8db80a7-5996-4df4-9976-dc6864828b46\" target=\"_top\" title=\"psysml:b8db80a7-5996-4df4-9976-dc6864828b46\" xlink:actuate=\"onRequest\" xlink:href=\"psysml:b8db80a7-5996-4df4-9976-dc6864828b46\" xlink:show=\"new\" xlink:title=\"psysml:b8db80a7-5996-4df4-9976-dc6864828b46\" xlink:type=\"simple\"><polygon fill=\"#FFFFFF\" points=\"389,49,415,49,422,71.2969,493,71.2969,493,143,389,143,389,49\" style=\"stroke: #000000; stroke-width: 1.5;\"/><line style=\"stroke: #000000; stroke-width: 1.5;\" x1=\"389\" x2=\"422\" y1=\"71.2969\" y2=\"71.2969\"/><text fill=\"#000000\" font-family=\"sans-serif\" font-size=\"14\" font-weight=\"bold\" lengthAdjust=\"spacingAndGlyphs\" textLength=\"20\" x=\"393\" y=\"63.9951\">P1</text></a><!--MD5=[14e3b0961a2654348d326746436168a1]\n",
       "cluster E6--><a href=\"psysml:5bfd0c7b-a7f5-42f3-81fc-e346e4c74519\" target=\"_top\" title=\"psysml:5bfd0c7b-a7f5-42f3-81fc-e346e4c74519\" xlink:actuate=\"onRequest\" xlink:href=\"psysml:5bfd0c7b-a7f5-42f3-81fc-e346e4c74519\" xlink:show=\"new\" xlink:title=\"psysml:5bfd0c7b-a7f5-42f3-81fc-e346e4c74519\" xlink:type=\"simple\"><polygon fill=\"#FFFFFF\" points=\"261,49,287,49,294,71.2969,365,71.2969,365,143,261,143,261,49\" style=\"stroke: #000000; stroke-width: 1.5;\"/><line style=\"stroke: #000000; stroke-width: 1.5;\" x1=\"261\" x2=\"294\" y1=\"71.2969\" y2=\"71.2969\"/><text fill=\"#000000\" font-family=\"sans-serif\" font-size=\"14\" font-weight=\"bold\" lengthAdjust=\"spacingAndGlyphs\" textLength=\"20\" x=\"265\" y=\"63.9951\">P3</text></a><g id=\"E1.E2.E3\"><a href=\"psysml:06ccdf6b-7fde-40d2-9d83-7c71c3aaf391\" target=\"_top\" title=\"psysml:06ccdf6b-7fde-40d2-9d83-7c71c3aaf391\" xlink:actuate=\"onRequest\" xlink:href=\"psysml:06ccdf6b-7fde-40d2-9d83-7c71c3aaf391\" xlink:show=\"new\" xlink:title=\"psysml:06ccdf6b-7fde-40d2-9d83-7c71c3aaf391\" xlink:type=\"simple\"><rect fill=\"#FFFFFF\" height=\"42.9375\" id=\"E3\" style=\"stroke: #383838; stroke-width: 1.5;\" width=\"71\" x=\"405.5\" y=\"84\"/><rect fill=\"#F8F8F8\" height=\"37.9375\" style=\"stroke: #383838; stroke-width: 1.5;\" width=\"71\" x=\"405.5\" y=\"84\"/><text fill=\"#000000\" font-family=\"sans-serif\" font-size=\"12\" font-style=\"italic\" lengthAdjust=\"spacingAndGlyphs\" textLength=\"64\" x=\"409\" y=\"100.1387\">«part def»</text><text fill=\"#000000\" font-family=\"sans-serif\" font-size=\"12\" lengthAdjust=\"spacingAndGlyphs\" textLength=\"8\" x=\"437\" y=\"114.1074\">A</text></a></g><a href=\"psysml:524b97f3-dd10-444b-a6f8-a87f295610fc\" target=\"_top\" title=\"psysml:524b97f3-dd10-444b-a6f8-a87f295610fc\" xlink:actuate=\"onRequest\" xlink:href=\"psysml:524b97f3-dd10-444b-a6f8-a87f295610fc\" xlink:show=\"new\" xlink:title=\"psysml:524b97f3-dd10-444b-a6f8-a87f295610fc\" xlink:type=\"simple\"><polygon fill=\"#FFFFFF\" points=\"202,79,228,79,235,101.2969,242,101.2969,242,131.5938,202,131.5938,202,79\" style=\"stroke: #000000; stroke-width: 1.5;\"/><line style=\"stroke: #000000; stroke-width: 1.5;\" x1=\"202\" x2=\"235\" y1=\"101.2969\" y2=\"101.2969\"/><text fill=\"#000000\" font-family=\"sans-serif\" font-size=\"14\" font-weight=\"bold\" lengthAdjust=\"spacingAndGlyphs\" textLength=\"20\" x=\"206\" y=\"93.9951\">P2</text></a><g id=\"E1.E5\"><a href=\"psysml:79fb998f-896a-4642-b1f0-d66dfbec55d7\" target=\"_top\" title=\"psysml:79fb998f-896a-4642-b1f0-d66dfbec55d7\" xlink:actuate=\"onRequest\" xlink:href=\"psysml:79fb998f-896a-4642-b1f0-d66dfbec55d7\" xlink:show=\"new\" xlink:title=\"psysml:79fb998f-896a-4642-b1f0-d66dfbec55d7\" xlink:type=\"simple\"><rect fill=\"#FFFFFF\" height=\"40\" id=\"E5\" rx=\"10\" ry=\"10\" style=\"stroke: #383838; stroke-width: 1.5;\" width=\"50\" x=\"117\" y=\"85.5\"/><rect fill=\"#F8F8F8\" height=\"23.9688\" rx=\"10\" ry=\"10\" style=\"stroke: #F8F8F8; stroke-width: 1.5;\" width=\"50\" x=\"117\" y=\"85.5\"/><rect fill=\"#F8F8F8\" height=\"10\" style=\"stroke: #F8F8F8; stroke-width: 1.5;\" width=\"50\" x=\"117\" y=\"99.4688\"/><rect fill=\"none\" height=\"40\" id=\"E5\" rx=\"10\" ry=\"10\" style=\"stroke: #383838; stroke-width: 1.5;\" width=\"50\" x=\"117\" y=\"85.5\"/><text fill=\"#000000\" font-family=\"sans-serif\" font-size=\"12\" lengthAdjust=\"spacingAndGlyphs\" textLength=\"22\" x=\"131\" y=\"101.6387\">x: A</text></a></g><g id=\"E1.E6.E7\"><a href=\"psysml:e6b11995-178a-4abf-b303-bbf3be6d894d\" target=\"_top\" title=\"psysml:e6b11995-178a-4abf-b303-bbf3be6d894d\" xlink:actuate=\"onRequest\" xlink:href=\"psysml:e6b11995-178a-4abf-b303-bbf3be6d894d\" xlink:show=\"new\" xlink:title=\"psysml:e6b11995-178a-4abf-b303-bbf3be6d894d\" xlink:type=\"simple\"><rect fill=\"#FFFFFF\" height=\"42.9375\" id=\"E7\" style=\"stroke: #383838; stroke-width: 1.5;\" width=\"71\" x=\"277.5\" y=\"84\"/><rect fill=\"#F8F8F8\" height=\"37.9375\" style=\"stroke: #383838; stroke-width: 1.5;\" width=\"71\" x=\"277.5\" y=\"84\"/><text fill=\"#000000\" font-family=\"sans-serif\" font-size=\"12\" font-style=\"italic\" lengthAdjust=\"spacingAndGlyphs\" textLength=\"64\" x=\"281\" y=\"100.1387\">«part def»</text><text fill=\"#000000\" font-family=\"sans-serif\" font-size=\"12\" lengthAdjust=\"spacingAndGlyphs\" textLength=\"8\" x=\"309\" y=\"114.1074\">B</text></a></g><g id=\"E1.E8\"><a href=\"psysml:c8045a6d-f018-4e86-976c-73e06620aa4c\" target=\"_top\" title=\"psysml:c8045a6d-f018-4e86-976c-73e06620aa4c\" xlink:actuate=\"onRequest\" xlink:href=\"psysml:c8045a6d-f018-4e86-976c-73e06620aa4c\" xlink:show=\"new\" xlink:title=\"psysml:c8045a6d-f018-4e86-976c-73e06620aa4c\" xlink:type=\"simple\"><rect fill=\"#FFFFFF\" height=\"40\" id=\"E8\" rx=\"10\" ry=\"10\" style=\"stroke: #383838; stroke-width: 1.5;\" width=\"50\" x=\"32\" y=\"85.5\"/><rect fill=\"#F8F8F8\" height=\"23.9688\" rx=\"10\" ry=\"10\" style=\"stroke: #F8F8F8; stroke-width: 1.5;\" width=\"50\" x=\"32\" y=\"85.5\"/><rect fill=\"#F8F8F8\" height=\"10\" style=\"stroke: #F8F8F8; stroke-width: 1.5;\" width=\"50\" x=\"32\" y=\"99.4688\"/><rect fill=\"none\" height=\"40\" id=\"E8\" rx=\"10\" ry=\"10\" style=\"stroke: #383838; stroke-width: 1.5;\" width=\"50\" x=\"32\" y=\"85.5\"/><text fill=\"#000000\" font-family=\"sans-serif\" font-size=\"12\" lengthAdjust=\"spacingAndGlyphs\" textLength=\"21\" x=\"46.5\" y=\"101.6387\">z: B</text></a></g><!--MD5=[e96acae4c0ae31061d086916ee250bcf]\n",
       "@startuml\r\n",
       "skinparam ranksep 8\r\n",
       "skinparam rectangle {\r\n",
       " backgroundColor<<block>> LightGreen\r\n",
       "}\r\n",
       " skinparam monochrome true\r\n",
       "skinparam classbackgroundcolor white\r\n",
       "skinparam shadowing false\r\n",
       "skinparam wrapWidth 300\r\n",
       "hide circle\r\n",
       "\r\n",
       "package \"PrivateImportTest\" as E1  [[psysml:fd8049a9-22d6-4d05-bbeb-ce76116dc6d9 ]]  {\r\n",
       "package \"P1\" as E2  [[psysml:b8db80a7-5996-4df4-9976-dc6864828b46 ]]  {\r\n",
       "rec def \"A\" as E3  <<(T,blue)part def>> [[psysml:06ccdf6b-7fde-40d2-9d83-7c71c3aaf391 ]] {\r\n",
       "}\r\n",
       "}\r\n",
       "package \"P2\" as E4  [[psysml:524b97f3-dd10-444b-a6f8-a87f295610fc ]]  {\r\n",
       "}\r\n",
       "rec usage \"x: A\" as E5  [[psysml:79fb998f-896a-4642-b1f0-d66dfbec55d7 ]] {\r\n",
       "}\r\n",
       "package \"P3\" as E6  [[psysml:5bfd0c7b-a7f5-42f3-81fc-e346e4c74519 ]]  {\r\n",
       "rec def \"B\" as E7  <<(T,blue)part def>> [[psysml:e6b11995-178a-4abf-b303-bbf3be6d894d ]] {\r\n",
       "}\r\n",
       "}\r\n",
       "rec usage \"z: B\" as E8  [[psysml:c8045a6d-f018-4e86-976c-73e06620aa4c ]] {\r\n",
       "}\r\n",
       "}\r\n",
       "@enduml\r\n",
       "\n",
       "PlantUML version 1.2020.13(Sat Jun 13 12:26:38 UTC 2020)\n",
       "(EPL source distribution)\n",
       "Java Runtime: OpenJDK Runtime Environment\n",
       "JVM: OpenJDK 64-Bit Server VM\n",
       "Default Encoding: UTF-8\n",
       "Language: en\n",
       "Country: null\n",
       "--></g></svg>"
      ]
     },
     "execution_count": 5,
     "metadata": {},
     "output_type": "execute_result"
    }
   ],
   "source": [
    "%viz --style=\"COMPTREE\" --view=\"Interconnection\" \"PrivateImportTest\""
   ]
  },
  {
   "cell_type": "code",
   "execution_count": 6,
   "id": "spare-adolescent",
   "metadata": {
    "execution": {
     "iopub.execute_input": "2021-03-26T12:08:10.099701Z",
     "iopub.status.busy": "2021-03-26T12:08:10.099316Z",
     "iopub.status.idle": "2021-03-26T12:08:10.105351Z",
     "shell.execute_reply": "2021-03-26T12:08:10.105700Z"
    }
   },
   "outputs": [
    {
     "data": {
      "image/svg+xml": [
       "<?xml version=\"1.0\" encoding=\"UTF-8\" standalone=\"no\"?><svg xmlns=\"http://www.w3.org/2000/svg\" xmlns:xlink=\"http://www.w3.org/1999/xlink\" contentScriptType=\"application/ecmascript\" contentStyleType=\"text/css\" height=\"12px\" preserveAspectRatio=\"none\" style=\"width:12px;height:12px;\" version=\"1.1\" viewBox=\"0 0 12 12\" width=\"12px\" zoomAndPan=\"magnify\"><defs/><g><!--MD5=[655b888544ca4751ea36af1068543f84]\n",
       "@startuml\r\n",
       "skinparam ranksep 8\r\n",
       " skinparam monochrome true\r\n",
       "skinparam classbackgroundcolor white\r\n",
       "skinparam shadowing false\r\n",
       "skinparam wrapWidth 300\r\n",
       "hide circle\r\n",
       "\r\n",
       "@enduml\r\n",
       "\n",
       "PlantUML version 1.2020.13(Sat Jun 13 12:26:38 UTC 2020)\n",
       "(EPL source distribution)\n",
       "Java Runtime: OpenJDK Runtime Environment\n",
       "JVM: OpenJDK 64-Bit Server VM\n",
       "Default Encoding: UTF-8\n",
       "Language: en\n",
       "Country: null\n",
       "--></g></svg>"
      ]
     },
     "execution_count": 6,
     "metadata": {},
     "output_type": "execute_result"
    }
   ],
   "source": [
    "%viz --style=\"COMPTREE\" --view=\"Action\" \"PrivateImportTest\""
   ]
  },
  {
   "cell_type": "code",
   "execution_count": 7,
   "id": "proud-battlefield",
   "metadata": {
    "execution": {
     "iopub.execute_input": "2021-03-26T12:08:10.157753Z",
     "iopub.status.busy": "2021-03-26T12:08:10.157140Z",
     "iopub.status.idle": "2021-03-26T12:08:10.199566Z",
     "shell.execute_reply": "2021-03-26T12:08:10.200043Z"
    }
   },
   "outputs": [
    {
     "data": {
      "image/svg+xml": [
       "<?xml version=\"1.0\" encoding=\"UTF-8\" standalone=\"no\"?><svg xmlns=\"http://www.w3.org/2000/svg\" xmlns:xlink=\"http://www.w3.org/1999/xlink\" contentScriptType=\"application/ecmascript\" contentStyleType=\"text/css\" height=\"252px\" preserveAspectRatio=\"none\" style=\"width:306px;height:252px;\" version=\"1.1\" viewBox=\"0 0 306 252\" width=\"306px\" zoomAndPan=\"magnify\"><defs/><g><!--MD5=[fbc87193dbaf4d95561dea2c320d4a47]\n",
       "cluster E1--><a href=\"psysml:fd8049a9-22d6-4d05-bbeb-ce76116dc6d9\" target=\"_top\" title=\"psysml:fd8049a9-22d6-4d05-bbeb-ce76116dc6d9\" xlink:actuate=\"onRequest\" xlink:href=\"psysml:fd8049a9-22d6-4d05-bbeb-ce76116dc6d9\" xlink:show=\"new\" xlink:title=\"psysml:fd8049a9-22d6-4d05-bbeb-ce76116dc6d9\" xlink:type=\"simple\"><polygon fill=\"#FFFFFF\" points=\"16,6,163,6,170,28.2969,284,28.2969,284,240,16,240,16,6\" style=\"stroke: #000000; stroke-width: 1.5;\"/><line style=\"stroke: #000000; stroke-width: 1.5;\" x1=\"16\" x2=\"170\" y1=\"28.2969\" y2=\"28.2969\"/><text fill=\"#000000\" font-family=\"sans-serif\" font-size=\"14\" font-weight=\"bold\" lengthAdjust=\"spacingAndGlyphs\" textLength=\"141\" x=\"20\" y=\"20.9951\">PrivateImportTest</text></a><!--MD5=[e4f7fae6ed58524ba242bb0b0d3be6b7]\n",
       "cluster E2--><a href=\"psysml:b8db80a7-5996-4df4-9976-dc6864828b46\" target=\"_top\" title=\"psysml:b8db80a7-5996-4df4-9976-dc6864828b46\" xlink:actuate=\"onRequest\" xlink:href=\"psysml:b8db80a7-5996-4df4-9976-dc6864828b46\" xlink:show=\"new\" xlink:title=\"psysml:b8db80a7-5996-4df4-9976-dc6864828b46\" xlink:type=\"simple\"><polygon fill=\"#FFFFFF\" points=\"162,119,188,119,195,141.2969,260,141.2969,260,216,162,216,162,119\" style=\"stroke: #000000; stroke-width: 1.5;\"/><line style=\"stroke: #000000; stroke-width: 1.5;\" x1=\"162\" x2=\"195\" y1=\"141.2969\" y2=\"141.2969\"/><text fill=\"#000000\" font-family=\"sans-serif\" font-size=\"14\" font-weight=\"bold\" lengthAdjust=\"spacingAndGlyphs\" textLength=\"20\" x=\"166\" y=\"133.9951\">P1</text></a><!--MD5=[14e3b0961a2654348d326746436168a1]\n",
       "cluster E6--><a href=\"psysml:5bfd0c7b-a7f5-42f3-81fc-e346e4c74519\" target=\"_top\" title=\"psysml:5bfd0c7b-a7f5-42f3-81fc-e346e4c74519\" xlink:actuate=\"onRequest\" xlink:href=\"psysml:5bfd0c7b-a7f5-42f3-81fc-e346e4c74519\" xlink:show=\"new\" xlink:title=\"psysml:5bfd0c7b-a7f5-42f3-81fc-e346e4c74519\" xlink:type=\"simple\"><polygon fill=\"#FFFFFF\" points=\"40,119,66,119,73,141.2969,138,141.2969,138,216,40,216,40,119\" style=\"stroke: #000000; stroke-width: 1.5;\"/><line style=\"stroke: #000000; stroke-width: 1.5;\" x1=\"40\" x2=\"73\" y1=\"141.2969\" y2=\"141.2969\"/><text fill=\"#000000\" font-family=\"sans-serif\" font-size=\"14\" font-weight=\"bold\" lengthAdjust=\"spacingAndGlyphs\" textLength=\"20\" x=\"44\" y=\"133.9951\">P3</text></a><!--MD5=[270fce915f116d4de14055a7c1d9a0f3]\n",
       "class E5--><a href=\"psysml:79fb998f-896a-4642-b1f0-d66dfbec55d7\" target=\"_top\" title=\"psysml:79fb998f-896a-4642-b1f0-d66dfbec55d7\" xlink:actuate=\"onRequest\" xlink:href=\"psysml:79fb998f-896a-4642-b1f0-d66dfbec55d7\" xlink:show=\"new\" xlink:title=\"psysml:79fb998f-896a-4642-b1f0-d66dfbec55d7\" xlink:type=\"simple\"><rect fill=\"#FFFFFF\" height=\"45.9375\" id=\"E5\" rx=\"10\" ry=\"10\" style=\"stroke: #383838; stroke-width: 1.5;\" width=\"42\" x=\"190\" y=\"44.5\"/><text fill=\"#000000\" font-family=\"sans-serif\" font-size=\"12\" font-style=\"italic\" lengthAdjust=\"spacingAndGlyphs\" textLength=\"40\" x=\"191\" y=\"60.6387\">«part»</text><text fill=\"#000000\" font-family=\"sans-serif\" font-size=\"12\" lengthAdjust=\"spacingAndGlyphs\" textLength=\"22\" x=\"200\" y=\"74.6074\">x: A</text><line style=\"stroke: #383838; stroke-width: 1.5;\" x1=\"191\" x2=\"231\" y1=\"82.4375\" y2=\"82.4375\"/></a><!--MD5=[b9389687b975829384b498ac4b7476b2]\n",
       "class E8--><a href=\"psysml:c8045a6d-f018-4e86-976c-73e06620aa4c\" target=\"_top\" title=\"psysml:c8045a6d-f018-4e86-976c-73e06620aa4c\" xlink:actuate=\"onRequest\" xlink:href=\"psysml:c8045a6d-f018-4e86-976c-73e06620aa4c\" xlink:show=\"new\" xlink:title=\"psysml:c8045a6d-f018-4e86-976c-73e06620aa4c\" xlink:type=\"simple\"><rect fill=\"#FFFFFF\" height=\"45.9375\" id=\"E8\" rx=\"10\" ry=\"10\" style=\"stroke: #383838; stroke-width: 1.5;\" width=\"42\" x=\"107\" y=\"44.5\"/><text fill=\"#000000\" font-family=\"sans-serif\" font-size=\"12\" font-style=\"italic\" lengthAdjust=\"spacingAndGlyphs\" textLength=\"40\" x=\"108\" y=\"60.6387\">«part»</text><text fill=\"#000000\" font-family=\"sans-serif\" font-size=\"12\" lengthAdjust=\"spacingAndGlyphs\" textLength=\"21\" x=\"117.5\" y=\"74.6074\">z: B</text><line style=\"stroke: #383838; stroke-width: 1.5;\" x1=\"108\" x2=\"148\" y1=\"82.4375\" y2=\"82.4375\"/></a><!--MD5=[09b614a08d8cba4a07c9adeb5e0fee81]\n",
       "class E3--><a href=\"psysml:06ccdf6b-7fde-40d2-9d83-7c71c3aaf391\" target=\"_top\" title=\"psysml:06ccdf6b-7fde-40d2-9d83-7c71c3aaf391\" xlink:actuate=\"onRequest\" xlink:href=\"psysml:06ccdf6b-7fde-40d2-9d83-7c71c3aaf391\" xlink:show=\"new\" xlink:title=\"psysml:06ccdf6b-7fde-40d2-9d83-7c71c3aaf391\" xlink:type=\"simple\"><rect fill=\"#FFFFFF\" height=\"45.9375\" id=\"E3\" style=\"stroke: #383838; stroke-width: 1.5;\" width=\"66\" x=\"178\" y=\"154\"/><text fill=\"#000000\" font-family=\"sans-serif\" font-size=\"12\" font-style=\"italic\" lengthAdjust=\"spacingAndGlyphs\" textLength=\"64\" x=\"179\" y=\"170.1387\">«part def»</text><text fill=\"#000000\" font-family=\"sans-serif\" font-size=\"12\" lengthAdjust=\"spacingAndGlyphs\" textLength=\"8\" x=\"207\" y=\"184.1074\">A</text><line style=\"stroke: #383838; stroke-width: 1.5;\" x1=\"179\" x2=\"243\" y1=\"191.9375\" y2=\"191.9375\"/></a><a href=\"psysml:524b97f3-dd10-444b-a6f8-a87f295610fc\" target=\"_top\" title=\"psysml:524b97f3-dd10-444b-a6f8-a87f295610fc\" xlink:actuate=\"onRequest\" xlink:href=\"psysml:524b97f3-dd10-444b-a6f8-a87f295610fc\" xlink:show=\"new\" xlink:title=\"psysml:524b97f3-dd10-444b-a6f8-a87f295610fc\" xlink:type=\"simple\"><polygon fill=\"#FFFFFF\" points=\"32,41,58,41,65,63.2969,72,63.2969,72,93.5938,32,93.5938,32,41\" style=\"stroke: #000000; stroke-width: 1.5;\"/><line style=\"stroke: #000000; stroke-width: 1.5;\" x1=\"32\" x2=\"65\" y1=\"63.2969\" y2=\"63.2969\"/><text fill=\"#000000\" font-family=\"sans-serif\" font-size=\"14\" font-weight=\"bold\" lengthAdjust=\"spacingAndGlyphs\" textLength=\"20\" x=\"36\" y=\"55.9951\">P2</text></a><!--MD5=[2156ba9850f5573cc1fc38a6a4b2f02b]\n",
       "class E7--><a href=\"psysml:e6b11995-178a-4abf-b303-bbf3be6d894d\" target=\"_top\" title=\"psysml:e6b11995-178a-4abf-b303-bbf3be6d894d\" xlink:actuate=\"onRequest\" xlink:href=\"psysml:e6b11995-178a-4abf-b303-bbf3be6d894d\" xlink:show=\"new\" xlink:title=\"psysml:e6b11995-178a-4abf-b303-bbf3be6d894d\" xlink:type=\"simple\"><rect fill=\"#FFFFFF\" height=\"45.9375\" id=\"E7\" style=\"stroke: #383838; stroke-width: 1.5;\" width=\"66\" x=\"56\" y=\"154\"/><text fill=\"#000000\" font-family=\"sans-serif\" font-size=\"12\" font-style=\"italic\" lengthAdjust=\"spacingAndGlyphs\" textLength=\"64\" x=\"57\" y=\"170.1387\">«part def»</text><text fill=\"#000000\" font-family=\"sans-serif\" font-size=\"12\" lengthAdjust=\"spacingAndGlyphs\" textLength=\"8\" x=\"85\" y=\"184.1074\">B</text><line style=\"stroke: #383838; stroke-width: 1.5;\" x1=\"57\" x2=\"121\" y1=\"191.9375\" y2=\"191.9375\"/></a><!--MD5=[e9be52314489bd878ff4c7144b63c9e1]\n",
       "link E5 to E3--><a href=\"psysml:88440252-e8a6-408e-b428-64e589ea9f3d\" target=\"_top\" title=\"psysml:88440252-e8a6-408e-b428-64e589ea9f3d\" xlink:actuate=\"onRequest\" xlink:href=\"psysml:88440252-e8a6-408e-b428-64e589ea9f3d\" xlink:show=\"new\" xlink:title=\"psysml:88440252-e8a6-408e-b428-64e589ea9f3d\" xlink:type=\"simple\"><path d=\"M211,90.51 C211,102.89 211,118.78 211,133.48 \" fill=\"none\" id=\"E5-&gt;E3\" style=\"stroke: #383838; stroke-width: 1.0;\"/><polygon fill=\"#FFFFFF\" points=\"211,153.65,204,134.65,218,134.65,211,153.65\" style=\"stroke: #383838; stroke-width: 1.0;\"/><ellipse cx=\"206\" cy=\"128.95\" fill=\"#383838\" rx=\"2\" ry=\"2\" style=\"stroke: #383838; stroke-width: 1.0;\"/><ellipse cx=\"216\" cy=\"128.95\" fill=\"#383838\" rx=\"2\" ry=\"2\" style=\"stroke: #383838; stroke-width: 1.0;\"/></a><!--MD5=[bfa3c8b0d15052fdf50ae9310b491027]\n",
       "link E8 to E7--><a href=\"psysml:a33b0610-5a8d-429b-bbd7-f981cc70bcb5\" target=\"_top\" title=\"psysml:a33b0610-5a8d-429b-bbd7-f981cc70bcb5\" xlink:actuate=\"onRequest\" xlink:href=\"psysml:a33b0610-5a8d-429b-bbd7-f981cc70bcb5\" xlink:show=\"new\" xlink:title=\"psysml:a33b0610-5a8d-429b-bbd7-f981cc70bcb5\" xlink:type=\"simple\"><path d=\"M120.01,90.51 C115.39,103.25 109.42,119.7 103.96,134.76 \" fill=\"none\" id=\"E8-&gt;E7\" style=\"stroke: #383838; stroke-width: 1.0;\"/><polygon fill=\"#FFFFFF\" points=\"97.11,153.65,97.0036,133.4018,110.1656,138.1726,97.11,153.65\" style=\"stroke: #383838; stroke-width: 1.0;\"/><ellipse cx=\"100.8262\" cy=\"128.7245\" fill=\"#383838\" rx=\"2\" ry=\"2\" style=\"stroke: #383838; stroke-width: 1.0;\"/><ellipse cx=\"110.2277\" cy=\"132.1322\" fill=\"#383838\" rx=\"2\" ry=\"2\" style=\"stroke: #383838; stroke-width: 1.0;\"/></a><!--MD5=[1ba317f1025a6371853a2b2290b251d6]\n",
       "@startuml\r\n",
       " skinparam monochrome true\r\n",
       "skinparam classbackgroundcolor white\r\n",
       "skinparam shadowing false\r\n",
       "skinparam wrapWidth 300\r\n",
       "hide circle\r\n",
       "\r\n",
       "package \"PrivateImportTest\" as E1  [[psysml:fd8049a9-22d6-4d05-bbeb-ce76116dc6d9 ]]  {\r\n",
       "package \"P1\" as E2  [[psysml:b8db80a7-5996-4df4-9976-dc6864828b46 ]]  {\r\n",
       "comp def \"A\" as E3  <<(T,blue)part def>> [[psysml:06ccdf6b-7fde-40d2-9d83-7c71c3aaf391 ]] {\r\n",
       "}\r\n",
       "}\r\n",
       "package \"P2\" as E4  [[psysml:524b97f3-dd10-444b-a6f8-a87f295610fc ]]  {\r\n",
       "}\r\n",
       "comp usage \"x: A\" as E5  <<(T,blue)part>> [[psysml:79fb998f-896a-4642-b1f0-d66dfbec55d7 ]] {\r\n",
       "}\r\n",
       "package \"P3\" as E6  [[psysml:5bfd0c7b-a7f5-42f3-81fc-e346e4c74519 ]]  {\r\n",
       "comp def \"B\" as E7  <<(T,blue)part def>> [[psysml:e6b11995-178a-4abf-b303-bbf3be6d894d ]] {\r\n",
       "}\r\n",
       "E5 - -:|> E3 [[psysml:88440252-e8a6-408e-b428-64e589ea9f3d ]] \r\n",
       "}\r\n",
       "comp usage \"z: B\" as E8  <<(T,blue)part>> [[psysml:c8045a6d-f018-4e86-976c-73e06620aa4c ]] {\r\n",
       "}\r\n",
       "E8 - -:|> E7 [[psysml:a33b0610-5a8d-429b-bbd7-f981cc70bcb5 ]] \r\n",
       "}\r\n",
       "@enduml\r\n",
       "\n",
       "PlantUML version 1.2020.13(Sat Jun 13 12:26:38 UTC 2020)\n",
       "(EPL source distribution)\n",
       "Java Runtime: OpenJDK Runtime Environment\n",
       "JVM: OpenJDK 64-Bit Server VM\n",
       "Default Encoding: UTF-8\n",
       "Language: en\n",
       "Country: null\n",
       "--></g></svg>"
      ]
     },
     "execution_count": 7,
     "metadata": {},
     "output_type": "execute_result"
    }
   ],
   "source": [
    "%viz --style=\"COMPTREE\" --view=\"Sequence\" \"PrivateImportTest\""
   ]
  },
  {
   "cell_type": "code",
   "execution_count": 8,
   "id": "official-tiger",
   "metadata": {
    "execution": {
     "iopub.execute_input": "2021-03-26T12:08:10.251407Z",
     "iopub.status.busy": "2021-03-26T12:08:10.250967Z",
     "iopub.status.idle": "2021-03-26T12:08:10.299031Z",
     "shell.execute_reply": "2021-03-26T12:08:10.299338Z"
    }
   },
   "outputs": [
    {
     "data": {
      "image/svg+xml": [
       "<?xml version=\"1.0\" encoding=\"UTF-8\" standalone=\"no\"?><svg xmlns=\"http://www.w3.org/2000/svg\" xmlns:xlink=\"http://www.w3.org/1999/xlink\" contentScriptType=\"application/ecmascript\" contentStyleType=\"text/css\" height=\"252px\" preserveAspectRatio=\"none\" style=\"width:306px;height:252px;\" version=\"1.1\" viewBox=\"0 0 306 252\" width=\"306px\" zoomAndPan=\"magnify\"><defs/><g><!--MD5=[fbc87193dbaf4d95561dea2c320d4a47]\n",
       "cluster E1--><a href=\"psysml:fd8049a9-22d6-4d05-bbeb-ce76116dc6d9\" target=\"_top\" title=\"psysml:fd8049a9-22d6-4d05-bbeb-ce76116dc6d9\" xlink:actuate=\"onRequest\" xlink:href=\"psysml:fd8049a9-22d6-4d05-bbeb-ce76116dc6d9\" xlink:show=\"new\" xlink:title=\"psysml:fd8049a9-22d6-4d05-bbeb-ce76116dc6d9\" xlink:type=\"simple\"><polygon fill=\"#FFFFFF\" points=\"16,6,163,6,170,28.2969,284,28.2969,284,240,16,240,16,6\" style=\"stroke: #000000; stroke-width: 1.5;\"/><line style=\"stroke: #000000; stroke-width: 1.5;\" x1=\"16\" x2=\"170\" y1=\"28.2969\" y2=\"28.2969\"/><text fill=\"#000000\" font-family=\"sans-serif\" font-size=\"14\" font-weight=\"bold\" lengthAdjust=\"spacingAndGlyphs\" textLength=\"141\" x=\"20\" y=\"20.9951\">PrivateImportTest</text></a><!--MD5=[e4f7fae6ed58524ba242bb0b0d3be6b7]\n",
       "cluster E2--><a href=\"psysml:b8db80a7-5996-4df4-9976-dc6864828b46\" target=\"_top\" title=\"psysml:b8db80a7-5996-4df4-9976-dc6864828b46\" xlink:actuate=\"onRequest\" xlink:href=\"psysml:b8db80a7-5996-4df4-9976-dc6864828b46\" xlink:show=\"new\" xlink:title=\"psysml:b8db80a7-5996-4df4-9976-dc6864828b46\" xlink:type=\"simple\"><polygon fill=\"#FFFFFF\" points=\"162,119,188,119,195,141.2969,260,141.2969,260,216,162,216,162,119\" style=\"stroke: #000000; stroke-width: 1.5;\"/><line style=\"stroke: #000000; stroke-width: 1.5;\" x1=\"162\" x2=\"195\" y1=\"141.2969\" y2=\"141.2969\"/><text fill=\"#000000\" font-family=\"sans-serif\" font-size=\"14\" font-weight=\"bold\" lengthAdjust=\"spacingAndGlyphs\" textLength=\"20\" x=\"166\" y=\"133.9951\">P1</text></a><!--MD5=[14e3b0961a2654348d326746436168a1]\n",
       "cluster E6--><a href=\"psysml:5bfd0c7b-a7f5-42f3-81fc-e346e4c74519\" target=\"_top\" title=\"psysml:5bfd0c7b-a7f5-42f3-81fc-e346e4c74519\" xlink:actuate=\"onRequest\" xlink:href=\"psysml:5bfd0c7b-a7f5-42f3-81fc-e346e4c74519\" xlink:show=\"new\" xlink:title=\"psysml:5bfd0c7b-a7f5-42f3-81fc-e346e4c74519\" xlink:type=\"simple\"><polygon fill=\"#FFFFFF\" points=\"40,119,66,119,73,141.2969,138,141.2969,138,216,40,216,40,119\" style=\"stroke: #000000; stroke-width: 1.5;\"/><line style=\"stroke: #000000; stroke-width: 1.5;\" x1=\"40\" x2=\"73\" y1=\"141.2969\" y2=\"141.2969\"/><text fill=\"#000000\" font-family=\"sans-serif\" font-size=\"14\" font-weight=\"bold\" lengthAdjust=\"spacingAndGlyphs\" textLength=\"20\" x=\"44\" y=\"133.9951\">P3</text></a><!--MD5=[270fce915f116d4de14055a7c1d9a0f3]\n",
       "class E5--><a href=\"psysml:79fb998f-896a-4642-b1f0-d66dfbec55d7\" target=\"_top\" title=\"psysml:79fb998f-896a-4642-b1f0-d66dfbec55d7\" xlink:actuate=\"onRequest\" xlink:href=\"psysml:79fb998f-896a-4642-b1f0-d66dfbec55d7\" xlink:show=\"new\" xlink:title=\"psysml:79fb998f-896a-4642-b1f0-d66dfbec55d7\" xlink:type=\"simple\"><rect fill=\"#FFFFFF\" height=\"45.9375\" id=\"E5\" rx=\"10\" ry=\"10\" style=\"stroke: #383838; stroke-width: 1.5;\" width=\"42\" x=\"190\" y=\"44.5\"/><text fill=\"#000000\" font-family=\"sans-serif\" font-size=\"12\" font-style=\"italic\" lengthAdjust=\"spacingAndGlyphs\" textLength=\"40\" x=\"191\" y=\"60.6387\">«part»</text><text fill=\"#000000\" font-family=\"sans-serif\" font-size=\"12\" lengthAdjust=\"spacingAndGlyphs\" textLength=\"22\" x=\"200\" y=\"74.6074\">x: A</text><line style=\"stroke: #383838; stroke-width: 1.5;\" x1=\"191\" x2=\"231\" y1=\"82.4375\" y2=\"82.4375\"/></a><!--MD5=[b9389687b975829384b498ac4b7476b2]\n",
       "class E8--><a href=\"psysml:c8045a6d-f018-4e86-976c-73e06620aa4c\" target=\"_top\" title=\"psysml:c8045a6d-f018-4e86-976c-73e06620aa4c\" xlink:actuate=\"onRequest\" xlink:href=\"psysml:c8045a6d-f018-4e86-976c-73e06620aa4c\" xlink:show=\"new\" xlink:title=\"psysml:c8045a6d-f018-4e86-976c-73e06620aa4c\" xlink:type=\"simple\"><rect fill=\"#FFFFFF\" height=\"45.9375\" id=\"E8\" rx=\"10\" ry=\"10\" style=\"stroke: #383838; stroke-width: 1.5;\" width=\"42\" x=\"107\" y=\"44.5\"/><text fill=\"#000000\" font-family=\"sans-serif\" font-size=\"12\" font-style=\"italic\" lengthAdjust=\"spacingAndGlyphs\" textLength=\"40\" x=\"108\" y=\"60.6387\">«part»</text><text fill=\"#000000\" font-family=\"sans-serif\" font-size=\"12\" lengthAdjust=\"spacingAndGlyphs\" textLength=\"21\" x=\"117.5\" y=\"74.6074\">z: B</text><line style=\"stroke: #383838; stroke-width: 1.5;\" x1=\"108\" x2=\"148\" y1=\"82.4375\" y2=\"82.4375\"/></a><!--MD5=[09b614a08d8cba4a07c9adeb5e0fee81]\n",
       "class E3--><a href=\"psysml:06ccdf6b-7fde-40d2-9d83-7c71c3aaf391\" target=\"_top\" title=\"psysml:06ccdf6b-7fde-40d2-9d83-7c71c3aaf391\" xlink:actuate=\"onRequest\" xlink:href=\"psysml:06ccdf6b-7fde-40d2-9d83-7c71c3aaf391\" xlink:show=\"new\" xlink:title=\"psysml:06ccdf6b-7fde-40d2-9d83-7c71c3aaf391\" xlink:type=\"simple\"><rect fill=\"#FFFFFF\" height=\"45.9375\" id=\"E3\" style=\"stroke: #383838; stroke-width: 1.5;\" width=\"66\" x=\"178\" y=\"154\"/><text fill=\"#000000\" font-family=\"sans-serif\" font-size=\"12\" font-style=\"italic\" lengthAdjust=\"spacingAndGlyphs\" textLength=\"64\" x=\"179\" y=\"170.1387\">«part def»</text><text fill=\"#000000\" font-family=\"sans-serif\" font-size=\"12\" lengthAdjust=\"spacingAndGlyphs\" textLength=\"8\" x=\"207\" y=\"184.1074\">A</text><line style=\"stroke: #383838; stroke-width: 1.5;\" x1=\"179\" x2=\"243\" y1=\"191.9375\" y2=\"191.9375\"/></a><a href=\"psysml:524b97f3-dd10-444b-a6f8-a87f295610fc\" target=\"_top\" title=\"psysml:524b97f3-dd10-444b-a6f8-a87f295610fc\" xlink:actuate=\"onRequest\" xlink:href=\"psysml:524b97f3-dd10-444b-a6f8-a87f295610fc\" xlink:show=\"new\" xlink:title=\"psysml:524b97f3-dd10-444b-a6f8-a87f295610fc\" xlink:type=\"simple\"><polygon fill=\"#FFFFFF\" points=\"32,41,58,41,65,63.2969,72,63.2969,72,93.5938,32,93.5938,32,41\" style=\"stroke: #000000; stroke-width: 1.5;\"/><line style=\"stroke: #000000; stroke-width: 1.5;\" x1=\"32\" x2=\"65\" y1=\"63.2969\" y2=\"63.2969\"/><text fill=\"#000000\" font-family=\"sans-serif\" font-size=\"14\" font-weight=\"bold\" lengthAdjust=\"spacingAndGlyphs\" textLength=\"20\" x=\"36\" y=\"55.9951\">P2</text></a><!--MD5=[2156ba9850f5573cc1fc38a6a4b2f02b]\n",
       "class E7--><a href=\"psysml:e6b11995-178a-4abf-b303-bbf3be6d894d\" target=\"_top\" title=\"psysml:e6b11995-178a-4abf-b303-bbf3be6d894d\" xlink:actuate=\"onRequest\" xlink:href=\"psysml:e6b11995-178a-4abf-b303-bbf3be6d894d\" xlink:show=\"new\" xlink:title=\"psysml:e6b11995-178a-4abf-b303-bbf3be6d894d\" xlink:type=\"simple\"><rect fill=\"#FFFFFF\" height=\"45.9375\" id=\"E7\" style=\"stroke: #383838; stroke-width: 1.5;\" width=\"66\" x=\"56\" y=\"154\"/><text fill=\"#000000\" font-family=\"sans-serif\" font-size=\"12\" font-style=\"italic\" lengthAdjust=\"spacingAndGlyphs\" textLength=\"64\" x=\"57\" y=\"170.1387\">«part def»</text><text fill=\"#000000\" font-family=\"sans-serif\" font-size=\"12\" lengthAdjust=\"spacingAndGlyphs\" textLength=\"8\" x=\"85\" y=\"184.1074\">B</text><line style=\"stroke: #383838; stroke-width: 1.5;\" x1=\"57\" x2=\"121\" y1=\"191.9375\" y2=\"191.9375\"/></a><!--MD5=[e9be52314489bd878ff4c7144b63c9e1]\n",
       "link E5 to E3--><a href=\"psysml:88440252-e8a6-408e-b428-64e589ea9f3d\" target=\"_top\" title=\"psysml:88440252-e8a6-408e-b428-64e589ea9f3d\" xlink:actuate=\"onRequest\" xlink:href=\"psysml:88440252-e8a6-408e-b428-64e589ea9f3d\" xlink:show=\"new\" xlink:title=\"psysml:88440252-e8a6-408e-b428-64e589ea9f3d\" xlink:type=\"simple\"><path d=\"M211,90.51 C211,102.89 211,118.78 211,133.48 \" fill=\"none\" id=\"E5-&gt;E3\" style=\"stroke: #383838; stroke-width: 1.0;\"/><polygon fill=\"#FFFFFF\" points=\"211,153.65,204,134.65,218,134.65,211,153.65\" style=\"stroke: #383838; stroke-width: 1.0;\"/><ellipse cx=\"206\" cy=\"128.95\" fill=\"#383838\" rx=\"2\" ry=\"2\" style=\"stroke: #383838; stroke-width: 1.0;\"/><ellipse cx=\"216\" cy=\"128.95\" fill=\"#383838\" rx=\"2\" ry=\"2\" style=\"stroke: #383838; stroke-width: 1.0;\"/></a><!--MD5=[bfa3c8b0d15052fdf50ae9310b491027]\n",
       "link E8 to E7--><a href=\"psysml:a33b0610-5a8d-429b-bbd7-f981cc70bcb5\" target=\"_top\" title=\"psysml:a33b0610-5a8d-429b-bbd7-f981cc70bcb5\" xlink:actuate=\"onRequest\" xlink:href=\"psysml:a33b0610-5a8d-429b-bbd7-f981cc70bcb5\" xlink:show=\"new\" xlink:title=\"psysml:a33b0610-5a8d-429b-bbd7-f981cc70bcb5\" xlink:type=\"simple\"><path d=\"M120.01,90.51 C115.39,103.25 109.42,119.7 103.96,134.76 \" fill=\"none\" id=\"E8-&gt;E7\" style=\"stroke: #383838; stroke-width: 1.0;\"/><polygon fill=\"#FFFFFF\" points=\"97.11,153.65,97.0036,133.4018,110.1656,138.1726,97.11,153.65\" style=\"stroke: #383838; stroke-width: 1.0;\"/><ellipse cx=\"100.8262\" cy=\"128.7245\" fill=\"#383838\" rx=\"2\" ry=\"2\" style=\"stroke: #383838; stroke-width: 1.0;\"/><ellipse cx=\"110.2277\" cy=\"132.1322\" fill=\"#383838\" rx=\"2\" ry=\"2\" style=\"stroke: #383838; stroke-width: 1.0;\"/></a><!--MD5=[1ba317f1025a6371853a2b2290b251d6]\n",
       "@startuml\r\n",
       " skinparam monochrome true\r\n",
       "skinparam classbackgroundcolor white\r\n",
       "skinparam shadowing false\r\n",
       "skinparam wrapWidth 300\r\n",
       "hide circle\r\n",
       "\r\n",
       "package \"PrivateImportTest\" as E1  [[psysml:fd8049a9-22d6-4d05-bbeb-ce76116dc6d9 ]]  {\r\n",
       "package \"P1\" as E2  [[psysml:b8db80a7-5996-4df4-9976-dc6864828b46 ]]  {\r\n",
       "comp def \"A\" as E3  <<(T,blue)part def>> [[psysml:06ccdf6b-7fde-40d2-9d83-7c71c3aaf391 ]] {\r\n",
       "}\r\n",
       "}\r\n",
       "package \"P2\" as E4  [[psysml:524b97f3-dd10-444b-a6f8-a87f295610fc ]]  {\r\n",
       "}\r\n",
       "comp usage \"x: A\" as E5  <<(T,blue)part>> [[psysml:79fb998f-896a-4642-b1f0-d66dfbec55d7 ]] {\r\n",
       "}\r\n",
       "package \"P3\" as E6  [[psysml:5bfd0c7b-a7f5-42f3-81fc-e346e4c74519 ]]  {\r\n",
       "comp def \"B\" as E7  <<(T,blue)part def>> [[psysml:e6b11995-178a-4abf-b303-bbf3be6d894d ]] {\r\n",
       "}\r\n",
       "E5 - -:|> E3 [[psysml:88440252-e8a6-408e-b428-64e589ea9f3d ]] \r\n",
       "}\r\n",
       "comp usage \"z: B\" as E8  <<(T,blue)part>> [[psysml:c8045a6d-f018-4e86-976c-73e06620aa4c ]] {\r\n",
       "}\r\n",
       "E8 - -:|> E7 [[psysml:a33b0610-5a8d-429b-bbd7-f981cc70bcb5 ]] \r\n",
       "}\r\n",
       "@enduml\r\n",
       "\n",
       "PlantUML version 1.2020.13(Sat Jun 13 12:26:38 UTC 2020)\n",
       "(EPL source distribution)\n",
       "Java Runtime: OpenJDK Runtime Environment\n",
       "JVM: OpenJDK 64-Bit Server VM\n",
       "Default Encoding: UTF-8\n",
       "Language: en\n",
       "Country: null\n",
       "--></g></svg>"
      ]
     },
     "execution_count": 8,
     "metadata": {},
     "output_type": "execute_result"
    }
   ],
   "source": [
    "%viz --style=\"COMPTREE\" --view=\"MIXED\" \"PrivateImportTest\""
   ]
  },
  {
   "cell_type": "code",
   "execution_count": 9,
   "id": "intermediate-arctic",
   "metadata": {
    "execution": {
     "iopub.execute_input": "2021-03-26T12:08:10.349693Z",
     "iopub.status.busy": "2021-03-26T12:08:10.349348Z",
     "iopub.status.idle": "2021-03-26T12:08:10.391234Z",
     "shell.execute_reply": "2021-03-26T12:08:10.390902Z"
    }
   },
   "outputs": [
    {
     "data": {
      "image/svg+xml": [
       "<?xml version=\"1.0\" encoding=\"UTF-8\" standalone=\"no\"?><svg xmlns=\"http://www.w3.org/2000/svg\" xmlns:xlink=\"http://www.w3.org/1999/xlink\" contentScriptType=\"application/ecmascript\" contentStyleType=\"text/css\" height=\"252px\" preserveAspectRatio=\"none\" style=\"width:306px;height:252px;\" version=\"1.1\" viewBox=\"0 0 306 252\" width=\"306px\" zoomAndPan=\"magnify\"><defs/><g><!--MD5=[fbc87193dbaf4d95561dea2c320d4a47]\n",
       "cluster E1--><a href=\"psysml:fd8049a9-22d6-4d05-bbeb-ce76116dc6d9\" target=\"_top\" title=\"psysml:fd8049a9-22d6-4d05-bbeb-ce76116dc6d9\" xlink:actuate=\"onRequest\" xlink:href=\"psysml:fd8049a9-22d6-4d05-bbeb-ce76116dc6d9\" xlink:show=\"new\" xlink:title=\"psysml:fd8049a9-22d6-4d05-bbeb-ce76116dc6d9\" xlink:type=\"simple\"><polygon fill=\"#FFFFFF\" points=\"16,6,163,6,170,28.2969,284,28.2969,284,240,16,240,16,6\" style=\"stroke: #000000; stroke-width: 1.5;\"/><line style=\"stroke: #000000; stroke-width: 1.5;\" x1=\"16\" x2=\"170\" y1=\"28.2969\" y2=\"28.2969\"/><text fill=\"#000000\" font-family=\"sans-serif\" font-size=\"14\" font-weight=\"bold\" lengthAdjust=\"spacingAndGlyphs\" textLength=\"141\" x=\"20\" y=\"20.9951\">PrivateImportTest</text></a><!--MD5=[e4f7fae6ed58524ba242bb0b0d3be6b7]\n",
       "cluster E2--><a href=\"psysml:b8db80a7-5996-4df4-9976-dc6864828b46\" target=\"_top\" title=\"psysml:b8db80a7-5996-4df4-9976-dc6864828b46\" xlink:actuate=\"onRequest\" xlink:href=\"psysml:b8db80a7-5996-4df4-9976-dc6864828b46\" xlink:show=\"new\" xlink:title=\"psysml:b8db80a7-5996-4df4-9976-dc6864828b46\" xlink:type=\"simple\"><polygon fill=\"#FFFFFF\" points=\"162,119,188,119,195,141.2969,260,141.2969,260,216,162,216,162,119\" style=\"stroke: #000000; stroke-width: 1.5;\"/><line style=\"stroke: #000000; stroke-width: 1.5;\" x1=\"162\" x2=\"195\" y1=\"141.2969\" y2=\"141.2969\"/><text fill=\"#000000\" font-family=\"sans-serif\" font-size=\"14\" font-weight=\"bold\" lengthAdjust=\"spacingAndGlyphs\" textLength=\"20\" x=\"166\" y=\"133.9951\">P1</text></a><!--MD5=[14e3b0961a2654348d326746436168a1]\n",
       "cluster E6--><a href=\"psysml:5bfd0c7b-a7f5-42f3-81fc-e346e4c74519\" target=\"_top\" title=\"psysml:5bfd0c7b-a7f5-42f3-81fc-e346e4c74519\" xlink:actuate=\"onRequest\" xlink:href=\"psysml:5bfd0c7b-a7f5-42f3-81fc-e346e4c74519\" xlink:show=\"new\" xlink:title=\"psysml:5bfd0c7b-a7f5-42f3-81fc-e346e4c74519\" xlink:type=\"simple\"><polygon fill=\"#FFFFFF\" points=\"40,119,66,119,73,141.2969,138,141.2969,138,216,40,216,40,119\" style=\"stroke: #000000; stroke-width: 1.5;\"/><line style=\"stroke: #000000; stroke-width: 1.5;\" x1=\"40\" x2=\"73\" y1=\"141.2969\" y2=\"141.2969\"/><text fill=\"#000000\" font-family=\"sans-serif\" font-size=\"14\" font-weight=\"bold\" lengthAdjust=\"spacingAndGlyphs\" textLength=\"20\" x=\"44\" y=\"133.9951\">P3</text></a><!--MD5=[270fce915f116d4de14055a7c1d9a0f3]\n",
       "class E5--><a href=\"psysml:79fb998f-896a-4642-b1f0-d66dfbec55d7\" target=\"_top\" title=\"psysml:79fb998f-896a-4642-b1f0-d66dfbec55d7\" xlink:actuate=\"onRequest\" xlink:href=\"psysml:79fb998f-896a-4642-b1f0-d66dfbec55d7\" xlink:show=\"new\" xlink:title=\"psysml:79fb998f-896a-4642-b1f0-d66dfbec55d7\" xlink:type=\"simple\"><rect fill=\"#FFFFFF\" height=\"45.9375\" id=\"E5\" rx=\"10\" ry=\"10\" style=\"stroke: #383838; stroke-width: 1.5;\" width=\"42\" x=\"190\" y=\"44.5\"/><text fill=\"#000000\" font-family=\"sans-serif\" font-size=\"12\" font-style=\"italic\" lengthAdjust=\"spacingAndGlyphs\" textLength=\"40\" x=\"191\" y=\"60.6387\">«part»</text><text fill=\"#000000\" font-family=\"sans-serif\" font-size=\"12\" lengthAdjust=\"spacingAndGlyphs\" textLength=\"22\" x=\"200\" y=\"74.6074\">x: A</text><line style=\"stroke: #383838; stroke-width: 1.5;\" x1=\"191\" x2=\"231\" y1=\"82.4375\" y2=\"82.4375\"/></a><!--MD5=[b9389687b975829384b498ac4b7476b2]\n",
       "class E8--><a href=\"psysml:c8045a6d-f018-4e86-976c-73e06620aa4c\" target=\"_top\" title=\"psysml:c8045a6d-f018-4e86-976c-73e06620aa4c\" xlink:actuate=\"onRequest\" xlink:href=\"psysml:c8045a6d-f018-4e86-976c-73e06620aa4c\" xlink:show=\"new\" xlink:title=\"psysml:c8045a6d-f018-4e86-976c-73e06620aa4c\" xlink:type=\"simple\"><rect fill=\"#FFFFFF\" height=\"45.9375\" id=\"E8\" rx=\"10\" ry=\"10\" style=\"stroke: #383838; stroke-width: 1.5;\" width=\"42\" x=\"107\" y=\"44.5\"/><text fill=\"#000000\" font-family=\"sans-serif\" font-size=\"12\" font-style=\"italic\" lengthAdjust=\"spacingAndGlyphs\" textLength=\"40\" x=\"108\" y=\"60.6387\">«part»</text><text fill=\"#000000\" font-family=\"sans-serif\" font-size=\"12\" lengthAdjust=\"spacingAndGlyphs\" textLength=\"21\" x=\"117.5\" y=\"74.6074\">z: B</text><line style=\"stroke: #383838; stroke-width: 1.5;\" x1=\"108\" x2=\"148\" y1=\"82.4375\" y2=\"82.4375\"/></a><!--MD5=[09b614a08d8cba4a07c9adeb5e0fee81]\n",
       "class E3--><a href=\"psysml:06ccdf6b-7fde-40d2-9d83-7c71c3aaf391\" target=\"_top\" title=\"psysml:06ccdf6b-7fde-40d2-9d83-7c71c3aaf391\" xlink:actuate=\"onRequest\" xlink:href=\"psysml:06ccdf6b-7fde-40d2-9d83-7c71c3aaf391\" xlink:show=\"new\" xlink:title=\"psysml:06ccdf6b-7fde-40d2-9d83-7c71c3aaf391\" xlink:type=\"simple\"><rect fill=\"#FFFFFF\" height=\"45.9375\" id=\"E3\" style=\"stroke: #383838; stroke-width: 1.5;\" width=\"66\" x=\"178\" y=\"154\"/><text fill=\"#000000\" font-family=\"sans-serif\" font-size=\"12\" font-style=\"italic\" lengthAdjust=\"spacingAndGlyphs\" textLength=\"64\" x=\"179\" y=\"170.1387\">«part def»</text><text fill=\"#000000\" font-family=\"sans-serif\" font-size=\"12\" lengthAdjust=\"spacingAndGlyphs\" textLength=\"8\" x=\"207\" y=\"184.1074\">A</text><line style=\"stroke: #383838; stroke-width: 1.5;\" x1=\"179\" x2=\"243\" y1=\"191.9375\" y2=\"191.9375\"/></a><a href=\"psysml:524b97f3-dd10-444b-a6f8-a87f295610fc\" target=\"_top\" title=\"psysml:524b97f3-dd10-444b-a6f8-a87f295610fc\" xlink:actuate=\"onRequest\" xlink:href=\"psysml:524b97f3-dd10-444b-a6f8-a87f295610fc\" xlink:show=\"new\" xlink:title=\"psysml:524b97f3-dd10-444b-a6f8-a87f295610fc\" xlink:type=\"simple\"><polygon fill=\"#FFFFFF\" points=\"32,41,58,41,65,63.2969,72,63.2969,72,93.5938,32,93.5938,32,41\" style=\"stroke: #000000; stroke-width: 1.5;\"/><line style=\"stroke: #000000; stroke-width: 1.5;\" x1=\"32\" x2=\"65\" y1=\"63.2969\" y2=\"63.2969\"/><text fill=\"#000000\" font-family=\"sans-serif\" font-size=\"14\" font-weight=\"bold\" lengthAdjust=\"spacingAndGlyphs\" textLength=\"20\" x=\"36\" y=\"55.9951\">P2</text></a><!--MD5=[2156ba9850f5573cc1fc38a6a4b2f02b]\n",
       "class E7--><a href=\"psysml:e6b11995-178a-4abf-b303-bbf3be6d894d\" target=\"_top\" title=\"psysml:e6b11995-178a-4abf-b303-bbf3be6d894d\" xlink:actuate=\"onRequest\" xlink:href=\"psysml:e6b11995-178a-4abf-b303-bbf3be6d894d\" xlink:show=\"new\" xlink:title=\"psysml:e6b11995-178a-4abf-b303-bbf3be6d894d\" xlink:type=\"simple\"><rect fill=\"#FFFFFF\" height=\"45.9375\" id=\"E7\" style=\"stroke: #383838; stroke-width: 1.5;\" width=\"66\" x=\"56\" y=\"154\"/><text fill=\"#000000\" font-family=\"sans-serif\" font-size=\"12\" font-style=\"italic\" lengthAdjust=\"spacingAndGlyphs\" textLength=\"64\" x=\"57\" y=\"170.1387\">«part def»</text><text fill=\"#000000\" font-family=\"sans-serif\" font-size=\"12\" lengthAdjust=\"spacingAndGlyphs\" textLength=\"8\" x=\"85\" y=\"184.1074\">B</text><line style=\"stroke: #383838; stroke-width: 1.5;\" x1=\"57\" x2=\"121\" y1=\"191.9375\" y2=\"191.9375\"/></a><!--MD5=[e9be52314489bd878ff4c7144b63c9e1]\n",
       "link E5 to E3--><a href=\"psysml:88440252-e8a6-408e-b428-64e589ea9f3d\" target=\"_top\" title=\"psysml:88440252-e8a6-408e-b428-64e589ea9f3d\" xlink:actuate=\"onRequest\" xlink:href=\"psysml:88440252-e8a6-408e-b428-64e589ea9f3d\" xlink:show=\"new\" xlink:title=\"psysml:88440252-e8a6-408e-b428-64e589ea9f3d\" xlink:type=\"simple\"><path d=\"M211,90.51 C211,102.89 211,118.78 211,133.48 \" fill=\"none\" id=\"E5-&gt;E3\" style=\"stroke: #383838; stroke-width: 1.0;\"/><polygon fill=\"#FFFFFF\" points=\"211,153.65,204,134.65,218,134.65,211,153.65\" style=\"stroke: #383838; stroke-width: 1.0;\"/><ellipse cx=\"206\" cy=\"128.95\" fill=\"#383838\" rx=\"2\" ry=\"2\" style=\"stroke: #383838; stroke-width: 1.0;\"/><ellipse cx=\"216\" cy=\"128.95\" fill=\"#383838\" rx=\"2\" ry=\"2\" style=\"stroke: #383838; stroke-width: 1.0;\"/></a><!--MD5=[bfa3c8b0d15052fdf50ae9310b491027]\n",
       "link E8 to E7--><a href=\"psysml:a33b0610-5a8d-429b-bbd7-f981cc70bcb5\" target=\"_top\" title=\"psysml:a33b0610-5a8d-429b-bbd7-f981cc70bcb5\" xlink:actuate=\"onRequest\" xlink:href=\"psysml:a33b0610-5a8d-429b-bbd7-f981cc70bcb5\" xlink:show=\"new\" xlink:title=\"psysml:a33b0610-5a8d-429b-bbd7-f981cc70bcb5\" xlink:type=\"simple\"><path d=\"M120.01,90.51 C115.39,103.25 109.42,119.7 103.96,134.76 \" fill=\"none\" id=\"E8-&gt;E7\" style=\"stroke: #383838; stroke-width: 1.0;\"/><polygon fill=\"#FFFFFF\" points=\"97.11,153.65,97.0036,133.4018,110.1656,138.1726,97.11,153.65\" style=\"stroke: #383838; stroke-width: 1.0;\"/><ellipse cx=\"100.8262\" cy=\"128.7245\" fill=\"#383838\" rx=\"2\" ry=\"2\" style=\"stroke: #383838; stroke-width: 1.0;\"/><ellipse cx=\"110.2277\" cy=\"132.1322\" fill=\"#383838\" rx=\"2\" ry=\"2\" style=\"stroke: #383838; stroke-width: 1.0;\"/></a><!--MD5=[6c44285c9f063a89ec20777a1958476c]\n",
       "@startuml\r\n",
       "skinparam linetype polyline\r\n",
       "skinparam monochrome true\r\n",
       "skinparam classbackgroundcolor white\r\n",
       "skinparam shadowing false\r\n",
       "skinparam wrapWidth 300\r\n",
       "hide circle\r\n",
       "\r\n",
       "package \"PrivateImportTest\" as E1  [[psysml:fd8049a9-22d6-4d05-bbeb-ce76116dc6d9 ]]  {\r\n",
       "package \"P1\" as E2  [[psysml:b8db80a7-5996-4df4-9976-dc6864828b46 ]]  {\r\n",
       "comp def \"A\" as E3  <<(T,blue)part def>> [[psysml:06ccdf6b-7fde-40d2-9d83-7c71c3aaf391 ]] {\r\n",
       "}\r\n",
       "}\r\n",
       "package \"P2\" as E4  [[psysml:524b97f3-dd10-444b-a6f8-a87f295610fc ]]  {\r\n",
       "}\r\n",
       "comp usage \"x: A\" as E5  <<(T,blue)part>> [[psysml:79fb998f-896a-4642-b1f0-d66dfbec55d7 ]] {\r\n",
       "}\r\n",
       "package \"P3\" as E6  [[psysml:5bfd0c7b-a7f5-42f3-81fc-e346e4c74519 ]]  {\r\n",
       "comp def \"B\" as E7  <<(T,blue)part def>> [[psysml:e6b11995-178a-4abf-b303-bbf3be6d894d ]] {\r\n",
       "}\r\n",
       "E5 - -:|> E3 [[psysml:88440252-e8a6-408e-b428-64e589ea9f3d ]] \r\n",
       "}\r\n",
       "comp usage \"z: B\" as E8  <<(T,blue)part>> [[psysml:c8045a6d-f018-4e86-976c-73e06620aa4c ]] {\r\n",
       "}\r\n",
       "E8 - -:|> E7 [[psysml:a33b0610-5a8d-429b-bbd7-f981cc70bcb5 ]] \r\n",
       "}\r\n",
       "@enduml\r\n",
       "\n",
       "PlantUML version 1.2020.13(Sat Jun 13 12:26:38 UTC 2020)\n",
       "(EPL source distribution)\n",
       "Java Runtime: OpenJDK Runtime Environment\n",
       "JVM: OpenJDK 64-Bit Server VM\n",
       "Default Encoding: UTF-8\n",
       "Language: en\n",
       "Country: null\n",
       "--></g></svg>"
      ]
     },
     "execution_count": 9,
     "metadata": {},
     "output_type": "execute_result"
    }
   ],
   "source": [
    "%viz --style=\"POLYLINE\" --view=\"Default\" \"PrivateImportTest\""
   ]
  },
  {
   "cell_type": "code",
   "execution_count": 10,
   "id": "vertical-gateway",
   "metadata": {
    "execution": {
     "iopub.execute_input": "2021-03-26T12:08:10.443232Z",
     "iopub.status.busy": "2021-03-26T12:08:10.442590Z",
     "iopub.status.idle": "2021-03-26T12:08:10.481480Z",
     "shell.execute_reply": "2021-03-26T12:08:10.480888Z"
    }
   },
   "outputs": [
    {
     "data": {
      "image/svg+xml": [
       "<?xml version=\"1.0\" encoding=\"UTF-8\" standalone=\"no\"?><svg xmlns=\"http://www.w3.org/2000/svg\" xmlns:xlink=\"http://www.w3.org/1999/xlink\" contentScriptType=\"application/ecmascript\" contentStyleType=\"text/css\" height=\"252px\" preserveAspectRatio=\"none\" style=\"width:306px;height:252px;\" version=\"1.1\" viewBox=\"0 0 306 252\" width=\"306px\" zoomAndPan=\"magnify\"><defs/><g><!--MD5=[fbc87193dbaf4d95561dea2c320d4a47]\n",
       "cluster E1--><a href=\"psysml:fd8049a9-22d6-4d05-bbeb-ce76116dc6d9\" target=\"_top\" title=\"psysml:fd8049a9-22d6-4d05-bbeb-ce76116dc6d9\" xlink:actuate=\"onRequest\" xlink:href=\"psysml:fd8049a9-22d6-4d05-bbeb-ce76116dc6d9\" xlink:show=\"new\" xlink:title=\"psysml:fd8049a9-22d6-4d05-bbeb-ce76116dc6d9\" xlink:type=\"simple\"><polygon fill=\"#FFFFFF\" points=\"16,6,163,6,170,28.2969,284,28.2969,284,240,16,240,16,6\" style=\"stroke: #000000; stroke-width: 1.5;\"/><line style=\"stroke: #000000; stroke-width: 1.5;\" x1=\"16\" x2=\"170\" y1=\"28.2969\" y2=\"28.2969\"/><text fill=\"#000000\" font-family=\"sans-serif\" font-size=\"14\" font-weight=\"bold\" lengthAdjust=\"spacingAndGlyphs\" textLength=\"141\" x=\"20\" y=\"20.9951\">PrivateImportTest</text></a><!--MD5=[e4f7fae6ed58524ba242bb0b0d3be6b7]\n",
       "cluster E2--><a href=\"psysml:b8db80a7-5996-4df4-9976-dc6864828b46\" target=\"_top\" title=\"psysml:b8db80a7-5996-4df4-9976-dc6864828b46\" xlink:actuate=\"onRequest\" xlink:href=\"psysml:b8db80a7-5996-4df4-9976-dc6864828b46\" xlink:show=\"new\" xlink:title=\"psysml:b8db80a7-5996-4df4-9976-dc6864828b46\" xlink:type=\"simple\"><polygon fill=\"#FFFFFF\" points=\"162,119,188,119,195,141.2969,260,141.2969,260,216,162,216,162,119\" style=\"stroke: #000000; stroke-width: 1.5;\"/><line style=\"stroke: #000000; stroke-width: 1.5;\" x1=\"162\" x2=\"195\" y1=\"141.2969\" y2=\"141.2969\"/><text fill=\"#000000\" font-family=\"sans-serif\" font-size=\"14\" font-weight=\"bold\" lengthAdjust=\"spacingAndGlyphs\" textLength=\"20\" x=\"166\" y=\"133.9951\">P1</text></a><!--MD5=[14e3b0961a2654348d326746436168a1]\n",
       "cluster E6--><a href=\"psysml:5bfd0c7b-a7f5-42f3-81fc-e346e4c74519\" target=\"_top\" title=\"psysml:5bfd0c7b-a7f5-42f3-81fc-e346e4c74519\" xlink:actuate=\"onRequest\" xlink:href=\"psysml:5bfd0c7b-a7f5-42f3-81fc-e346e4c74519\" xlink:show=\"new\" xlink:title=\"psysml:5bfd0c7b-a7f5-42f3-81fc-e346e4c74519\" xlink:type=\"simple\"><polygon fill=\"#FFFFFF\" points=\"40,119,66,119,73,141.2969,138,141.2969,138,216,40,216,40,119\" style=\"stroke: #000000; stroke-width: 1.5;\"/><line style=\"stroke: #000000; stroke-width: 1.5;\" x1=\"40\" x2=\"73\" y1=\"141.2969\" y2=\"141.2969\"/><text fill=\"#000000\" font-family=\"sans-serif\" font-size=\"14\" font-weight=\"bold\" lengthAdjust=\"spacingAndGlyphs\" textLength=\"20\" x=\"44\" y=\"133.9951\">P3</text></a><!--MD5=[270fce915f116d4de14055a7c1d9a0f3]\n",
       "class E5--><a href=\"psysml:79fb998f-896a-4642-b1f0-d66dfbec55d7\" target=\"_top\" title=\"psysml:79fb998f-896a-4642-b1f0-d66dfbec55d7\" xlink:actuate=\"onRequest\" xlink:href=\"psysml:79fb998f-896a-4642-b1f0-d66dfbec55d7\" xlink:show=\"new\" xlink:title=\"psysml:79fb998f-896a-4642-b1f0-d66dfbec55d7\" xlink:type=\"simple\"><rect fill=\"#FFFFFF\" height=\"45.9375\" id=\"E5\" rx=\"10\" ry=\"10\" style=\"stroke: #383838; stroke-width: 1.5;\" width=\"42\" x=\"190\" y=\"44.5\"/><text fill=\"#000000\" font-family=\"sans-serif\" font-size=\"12\" font-style=\"italic\" lengthAdjust=\"spacingAndGlyphs\" textLength=\"40\" x=\"191\" y=\"60.6387\">«part»</text><text fill=\"#000000\" font-family=\"sans-serif\" font-size=\"12\" lengthAdjust=\"spacingAndGlyphs\" textLength=\"22\" x=\"200\" y=\"74.6074\">x: A</text><line style=\"stroke: #383838; stroke-width: 1.5;\" x1=\"191\" x2=\"231\" y1=\"82.4375\" y2=\"82.4375\"/></a><!--MD5=[b9389687b975829384b498ac4b7476b2]\n",
       "class E8--><a href=\"psysml:c8045a6d-f018-4e86-976c-73e06620aa4c\" target=\"_top\" title=\"psysml:c8045a6d-f018-4e86-976c-73e06620aa4c\" xlink:actuate=\"onRequest\" xlink:href=\"psysml:c8045a6d-f018-4e86-976c-73e06620aa4c\" xlink:show=\"new\" xlink:title=\"psysml:c8045a6d-f018-4e86-976c-73e06620aa4c\" xlink:type=\"simple\"><rect fill=\"#FFFFFF\" height=\"45.9375\" id=\"E8\" rx=\"10\" ry=\"10\" style=\"stroke: #383838; stroke-width: 1.5;\" width=\"42\" x=\"107\" y=\"44.5\"/><text fill=\"#000000\" font-family=\"sans-serif\" font-size=\"12\" font-style=\"italic\" lengthAdjust=\"spacingAndGlyphs\" textLength=\"40\" x=\"108\" y=\"60.6387\">«part»</text><text fill=\"#000000\" font-family=\"sans-serif\" font-size=\"12\" lengthAdjust=\"spacingAndGlyphs\" textLength=\"21\" x=\"117.5\" y=\"74.6074\">z: B</text><line style=\"stroke: #383838; stroke-width: 1.5;\" x1=\"108\" x2=\"148\" y1=\"82.4375\" y2=\"82.4375\"/></a><!--MD5=[09b614a08d8cba4a07c9adeb5e0fee81]\n",
       "class E3--><a href=\"psysml:06ccdf6b-7fde-40d2-9d83-7c71c3aaf391\" target=\"_top\" title=\"psysml:06ccdf6b-7fde-40d2-9d83-7c71c3aaf391\" xlink:actuate=\"onRequest\" xlink:href=\"psysml:06ccdf6b-7fde-40d2-9d83-7c71c3aaf391\" xlink:show=\"new\" xlink:title=\"psysml:06ccdf6b-7fde-40d2-9d83-7c71c3aaf391\" xlink:type=\"simple\"><rect fill=\"#FFFFFF\" height=\"45.9375\" id=\"E3\" style=\"stroke: #383838; stroke-width: 1.5;\" width=\"66\" x=\"178\" y=\"154\"/><text fill=\"#000000\" font-family=\"sans-serif\" font-size=\"12\" font-style=\"italic\" lengthAdjust=\"spacingAndGlyphs\" textLength=\"64\" x=\"179\" y=\"170.1387\">«part def»</text><text fill=\"#000000\" font-family=\"sans-serif\" font-size=\"12\" lengthAdjust=\"spacingAndGlyphs\" textLength=\"8\" x=\"207\" y=\"184.1074\">A</text><line style=\"stroke: #383838; stroke-width: 1.5;\" x1=\"179\" x2=\"243\" y1=\"191.9375\" y2=\"191.9375\"/></a><a href=\"psysml:524b97f3-dd10-444b-a6f8-a87f295610fc\" target=\"_top\" title=\"psysml:524b97f3-dd10-444b-a6f8-a87f295610fc\" xlink:actuate=\"onRequest\" xlink:href=\"psysml:524b97f3-dd10-444b-a6f8-a87f295610fc\" xlink:show=\"new\" xlink:title=\"psysml:524b97f3-dd10-444b-a6f8-a87f295610fc\" xlink:type=\"simple\"><polygon fill=\"#FFFFFF\" points=\"32,41,58,41,65,63.2969,72,63.2969,72,93.5938,32,93.5938,32,41\" style=\"stroke: #000000; stroke-width: 1.5;\"/><line style=\"stroke: #000000; stroke-width: 1.5;\" x1=\"32\" x2=\"65\" y1=\"63.2969\" y2=\"63.2969\"/><text fill=\"#000000\" font-family=\"sans-serif\" font-size=\"14\" font-weight=\"bold\" lengthAdjust=\"spacingAndGlyphs\" textLength=\"20\" x=\"36\" y=\"55.9951\">P2</text></a><!--MD5=[2156ba9850f5573cc1fc38a6a4b2f02b]\n",
       "class E7--><a href=\"psysml:e6b11995-178a-4abf-b303-bbf3be6d894d\" target=\"_top\" title=\"psysml:e6b11995-178a-4abf-b303-bbf3be6d894d\" xlink:actuate=\"onRequest\" xlink:href=\"psysml:e6b11995-178a-4abf-b303-bbf3be6d894d\" xlink:show=\"new\" xlink:title=\"psysml:e6b11995-178a-4abf-b303-bbf3be6d894d\" xlink:type=\"simple\"><rect fill=\"#FFFFFF\" height=\"45.9375\" id=\"E7\" style=\"stroke: #383838; stroke-width: 1.5;\" width=\"66\" x=\"56\" y=\"154\"/><text fill=\"#000000\" font-family=\"sans-serif\" font-size=\"12\" font-style=\"italic\" lengthAdjust=\"spacingAndGlyphs\" textLength=\"64\" x=\"57\" y=\"170.1387\">«part def»</text><text fill=\"#000000\" font-family=\"sans-serif\" font-size=\"12\" lengthAdjust=\"spacingAndGlyphs\" textLength=\"8\" x=\"85\" y=\"184.1074\">B</text><line style=\"stroke: #383838; stroke-width: 1.5;\" x1=\"57\" x2=\"121\" y1=\"191.9375\" y2=\"191.9375\"/></a><!--MD5=[e9be52314489bd878ff4c7144b63c9e1]\n",
       "link E5 to E3--><a href=\"psysml:88440252-e8a6-408e-b428-64e589ea9f3d\" target=\"_top\" title=\"psysml:88440252-e8a6-408e-b428-64e589ea9f3d\" xlink:actuate=\"onRequest\" xlink:href=\"psysml:88440252-e8a6-408e-b428-64e589ea9f3d\" xlink:show=\"new\" xlink:title=\"psysml:88440252-e8a6-408e-b428-64e589ea9f3d\" xlink:type=\"simple\"><path d=\"M211,90.51 C211,102.89 211,118.78 211,133.48 \" fill=\"none\" id=\"E5-&gt;E3\" style=\"stroke: #383838; stroke-width: 1.0;\"/><polygon fill=\"#FFFFFF\" points=\"211,153.65,204,134.65,218,134.65,211,153.65\" style=\"stroke: #383838; stroke-width: 1.0;\"/><ellipse cx=\"206\" cy=\"128.95\" fill=\"#383838\" rx=\"2\" ry=\"2\" style=\"stroke: #383838; stroke-width: 1.0;\"/><ellipse cx=\"216\" cy=\"128.95\" fill=\"#383838\" rx=\"2\" ry=\"2\" style=\"stroke: #383838; stroke-width: 1.0;\"/></a><!--MD5=[bfa3c8b0d15052fdf50ae9310b491027]\n",
       "link E8 to E7--><a href=\"psysml:a33b0610-5a8d-429b-bbd7-f981cc70bcb5\" target=\"_top\" title=\"psysml:a33b0610-5a8d-429b-bbd7-f981cc70bcb5\" xlink:actuate=\"onRequest\" xlink:href=\"psysml:a33b0610-5a8d-429b-bbd7-f981cc70bcb5\" xlink:show=\"new\" xlink:title=\"psysml:a33b0610-5a8d-429b-bbd7-f981cc70bcb5\" xlink:type=\"simple\"><path d=\"M120.01,90.51 C115.39,103.25 109.42,119.7 103.96,134.76 \" fill=\"none\" id=\"E8-&gt;E7\" style=\"stroke: #383838; stroke-width: 1.0;\"/><polygon fill=\"#FFFFFF\" points=\"97.11,153.65,97.0036,133.4018,110.1656,138.1726,97.11,153.65\" style=\"stroke: #383838; stroke-width: 1.0;\"/><ellipse cx=\"100.8262\" cy=\"128.7245\" fill=\"#383838\" rx=\"2\" ry=\"2\" style=\"stroke: #383838; stroke-width: 1.0;\"/><ellipse cx=\"110.2277\" cy=\"132.1322\" fill=\"#383838\" rx=\"2\" ry=\"2\" style=\"stroke: #383838; stroke-width: 1.0;\"/></a><!--MD5=[6c44285c9f063a89ec20777a1958476c]\n",
       "@startuml\r\n",
       "skinparam linetype polyline\r\n",
       "skinparam monochrome true\r\n",
       "skinparam classbackgroundcolor white\r\n",
       "skinparam shadowing false\r\n",
       "skinparam wrapWidth 300\r\n",
       "hide circle\r\n",
       "\r\n",
       "package \"PrivateImportTest\" as E1  [[psysml:fd8049a9-22d6-4d05-bbeb-ce76116dc6d9 ]]  {\r\n",
       "package \"P1\" as E2  [[psysml:b8db80a7-5996-4df4-9976-dc6864828b46 ]]  {\r\n",
       "comp def \"A\" as E3  <<(T,blue)part def>> [[psysml:06ccdf6b-7fde-40d2-9d83-7c71c3aaf391 ]] {\r\n",
       "}\r\n",
       "}\r\n",
       "package \"P2\" as E4  [[psysml:524b97f3-dd10-444b-a6f8-a87f295610fc ]]  {\r\n",
       "}\r\n",
       "comp usage \"x: A\" as E5  <<(T,blue)part>> [[psysml:79fb998f-896a-4642-b1f0-d66dfbec55d7 ]] {\r\n",
       "}\r\n",
       "package \"P3\" as E6  [[psysml:5bfd0c7b-a7f5-42f3-81fc-e346e4c74519 ]]  {\r\n",
       "comp def \"B\" as E7  <<(T,blue)part def>> [[psysml:e6b11995-178a-4abf-b303-bbf3be6d894d ]] {\r\n",
       "}\r\n",
       "E5 - -:|> E3 [[psysml:88440252-e8a6-408e-b428-64e589ea9f3d ]] \r\n",
       "}\r\n",
       "comp usage \"z: B\" as E8  <<(T,blue)part>> [[psysml:c8045a6d-f018-4e86-976c-73e06620aa4c ]] {\r\n",
       "}\r\n",
       "E8 - -:|> E7 [[psysml:a33b0610-5a8d-429b-bbd7-f981cc70bcb5 ]] \r\n",
       "}\r\n",
       "@enduml\r\n",
       "\n",
       "PlantUML version 1.2020.13(Sat Jun 13 12:26:38 UTC 2020)\n",
       "(EPL source distribution)\n",
       "Java Runtime: OpenJDK Runtime Environment\n",
       "JVM: OpenJDK 64-Bit Server VM\n",
       "Default Encoding: UTF-8\n",
       "Language: en\n",
       "Country: null\n",
       "--></g></svg>"
      ]
     },
     "execution_count": 10,
     "metadata": {},
     "output_type": "execute_result"
    }
   ],
   "source": [
    "%viz --style=\"POLYLINE\" --view=\"Tree\" \"PrivateImportTest\""
   ]
  },
  {
   "cell_type": "code",
   "execution_count": 11,
   "id": "respective-layer",
   "metadata": {
    "execution": {
     "iopub.execute_input": "2021-03-26T12:08:10.532339Z",
     "iopub.status.busy": "2021-03-26T12:08:10.531439Z",
     "iopub.status.idle": "2021-03-26T12:08:10.537858Z",
     "shell.execute_reply": "2021-03-26T12:08:10.537468Z"
    }
   },
   "outputs": [
    {
     "data": {
      "image/svg+xml": [
       "<?xml version=\"1.0\" encoding=\"UTF-8\" standalone=\"no\"?><svg xmlns=\"http://www.w3.org/2000/svg\" xmlns:xlink=\"http://www.w3.org/1999/xlink\" contentScriptType=\"application/ecmascript\" contentStyleType=\"text/css\" height=\"12px\" preserveAspectRatio=\"none\" style=\"width:12px;height:12px;\" version=\"1.1\" viewBox=\"0 0 12 12\" width=\"12px\" zoomAndPan=\"magnify\"><defs/><g><!--MD5=[896ac0e7a515d8dd7765a661cb4ee08b]\n",
       "@startuml\r\n",
       "skinparam linetype polyline\r\n",
       "skinparam monochrome true\r\n",
       "skinparam classbackgroundcolor white\r\n",
       "skinparam shadowing false\r\n",
       "skinparam wrapWidth 300\r\n",
       "hide circle\r\n",
       "\r\n",
       "@enduml\r\n",
       "\n",
       "PlantUML version 1.2020.13(Sat Jun 13 12:26:38 UTC 2020)\n",
       "(EPL source distribution)\n",
       "Java Runtime: OpenJDK Runtime Environment\n",
       "JVM: OpenJDK 64-Bit Server VM\n",
       "Default Encoding: UTF-8\n",
       "Language: en\n",
       "Country: null\n",
       "--></g></svg>"
      ]
     },
     "execution_count": 11,
     "metadata": {},
     "output_type": "execute_result"
    }
   ],
   "source": [
    "%viz --style=\"POLYLINE\" --view=\"State\" \"PrivateImportTest\""
   ]
  },
  {
   "cell_type": "code",
   "execution_count": 12,
   "id": "accompanied-defendant",
   "metadata": {
    "execution": {
     "iopub.execute_input": "2021-03-26T12:08:10.591045Z",
     "iopub.status.busy": "2021-03-26T12:08:10.589617Z",
     "iopub.status.idle": "2021-03-26T12:08:10.625526Z",
     "shell.execute_reply": "2021-03-26T12:08:10.624974Z"
    }
   },
   "outputs": [
    {
     "data": {
      "image/svg+xml": [
       "<?xml version=\"1.0\" encoding=\"UTF-8\" standalone=\"no\"?><svg xmlns=\"http://www.w3.org/2000/svg\" xmlns:xlink=\"http://www.w3.org/1999/xlink\" contentScriptType=\"application/ecmascript\" contentStyleType=\"text/css\" height=\"179px\" preserveAspectRatio=\"none\" style=\"width:539px;height:179px;\" version=\"1.1\" viewBox=\"0 0 539 179\" width=\"539px\" zoomAndPan=\"magnify\"><defs/><g><!--MD5=[fbc87193dbaf4d95561dea2c320d4a47]\n",
       "cluster E1--><a href=\"psysml:fd8049a9-22d6-4d05-bbeb-ce76116dc6d9\" target=\"_top\" title=\"psysml:fd8049a9-22d6-4d05-bbeb-ce76116dc6d9\" xlink:actuate=\"onRequest\" xlink:href=\"psysml:fd8049a9-22d6-4d05-bbeb-ce76116dc6d9\" xlink:show=\"new\" xlink:title=\"psysml:fd8049a9-22d6-4d05-bbeb-ce76116dc6d9\" xlink:type=\"simple\"><polygon fill=\"#FFFFFF\" points=\"16,6,163,6,170,28.2969,517,28.2969,517,167,16,167,16,6\" style=\"stroke: #000000; stroke-width: 1.5;\"/><line style=\"stroke: #000000; stroke-width: 1.5;\" x1=\"16\" x2=\"170\" y1=\"28.2969\" y2=\"28.2969\"/><text fill=\"#000000\" font-family=\"sans-serif\" font-size=\"14\" font-weight=\"bold\" lengthAdjust=\"spacingAndGlyphs\" textLength=\"141\" x=\"20\" y=\"20.9951\">PrivateImportTest</text></a><!--MD5=[e4f7fae6ed58524ba242bb0b0d3be6b7]\n",
       "cluster E2--><a href=\"psysml:b8db80a7-5996-4df4-9976-dc6864828b46\" target=\"_top\" title=\"psysml:b8db80a7-5996-4df4-9976-dc6864828b46\" xlink:actuate=\"onRequest\" xlink:href=\"psysml:b8db80a7-5996-4df4-9976-dc6864828b46\" xlink:show=\"new\" xlink:title=\"psysml:b8db80a7-5996-4df4-9976-dc6864828b46\" xlink:type=\"simple\"><polygon fill=\"#FFFFFF\" points=\"389,49,415,49,422,71.2969,493,71.2969,493,143,389,143,389,49\" style=\"stroke: #000000; stroke-width: 1.5;\"/><line style=\"stroke: #000000; stroke-width: 1.5;\" x1=\"389\" x2=\"422\" y1=\"71.2969\" y2=\"71.2969\"/><text fill=\"#000000\" font-family=\"sans-serif\" font-size=\"14\" font-weight=\"bold\" lengthAdjust=\"spacingAndGlyphs\" textLength=\"20\" x=\"393\" y=\"63.9951\">P1</text></a><!--MD5=[14e3b0961a2654348d326746436168a1]\n",
       "cluster E6--><a href=\"psysml:5bfd0c7b-a7f5-42f3-81fc-e346e4c74519\" target=\"_top\" title=\"psysml:5bfd0c7b-a7f5-42f3-81fc-e346e4c74519\" xlink:actuate=\"onRequest\" xlink:href=\"psysml:5bfd0c7b-a7f5-42f3-81fc-e346e4c74519\" xlink:show=\"new\" xlink:title=\"psysml:5bfd0c7b-a7f5-42f3-81fc-e346e4c74519\" xlink:type=\"simple\"><polygon fill=\"#FFFFFF\" points=\"261,49,287,49,294,71.2969,365,71.2969,365,143,261,143,261,49\" style=\"stroke: #000000; stroke-width: 1.5;\"/><line style=\"stroke: #000000; stroke-width: 1.5;\" x1=\"261\" x2=\"294\" y1=\"71.2969\" y2=\"71.2969\"/><text fill=\"#000000\" font-family=\"sans-serif\" font-size=\"14\" font-weight=\"bold\" lengthAdjust=\"spacingAndGlyphs\" textLength=\"20\" x=\"265\" y=\"63.9951\">P3</text></a><g id=\"E1.E2.E3\"><a href=\"psysml:06ccdf6b-7fde-40d2-9d83-7c71c3aaf391\" target=\"_top\" title=\"psysml:06ccdf6b-7fde-40d2-9d83-7c71c3aaf391\" xlink:actuate=\"onRequest\" xlink:href=\"psysml:06ccdf6b-7fde-40d2-9d83-7c71c3aaf391\" xlink:show=\"new\" xlink:title=\"psysml:06ccdf6b-7fde-40d2-9d83-7c71c3aaf391\" xlink:type=\"simple\"><rect fill=\"#FFFFFF\" height=\"42.9375\" id=\"E3\" style=\"stroke: #383838; stroke-width: 1.5;\" width=\"71\" x=\"405.5\" y=\"84\"/><rect fill=\"#F8F8F8\" height=\"37.9375\" style=\"stroke: #383838; stroke-width: 1.5;\" width=\"71\" x=\"405.5\" y=\"84\"/><text fill=\"#000000\" font-family=\"sans-serif\" font-size=\"12\" font-style=\"italic\" lengthAdjust=\"spacingAndGlyphs\" textLength=\"64\" x=\"409\" y=\"100.1387\">«part def»</text><text fill=\"#000000\" font-family=\"sans-serif\" font-size=\"12\" lengthAdjust=\"spacingAndGlyphs\" textLength=\"8\" x=\"437\" y=\"114.1074\">A</text></a></g><a href=\"psysml:524b97f3-dd10-444b-a6f8-a87f295610fc\" target=\"_top\" title=\"psysml:524b97f3-dd10-444b-a6f8-a87f295610fc\" xlink:actuate=\"onRequest\" xlink:href=\"psysml:524b97f3-dd10-444b-a6f8-a87f295610fc\" xlink:show=\"new\" xlink:title=\"psysml:524b97f3-dd10-444b-a6f8-a87f295610fc\" xlink:type=\"simple\"><polygon fill=\"#FFFFFF\" points=\"202,79,228,79,235,101.2969,242,101.2969,242,131.5938,202,131.5938,202,79\" style=\"stroke: #000000; stroke-width: 1.5;\"/><line style=\"stroke: #000000; stroke-width: 1.5;\" x1=\"202\" x2=\"235\" y1=\"101.2969\" y2=\"101.2969\"/><text fill=\"#000000\" font-family=\"sans-serif\" font-size=\"14\" font-weight=\"bold\" lengthAdjust=\"spacingAndGlyphs\" textLength=\"20\" x=\"206\" y=\"93.9951\">P2</text></a><g id=\"E1.E5\"><a href=\"psysml:79fb998f-896a-4642-b1f0-d66dfbec55d7\" target=\"_top\" title=\"psysml:79fb998f-896a-4642-b1f0-d66dfbec55d7\" xlink:actuate=\"onRequest\" xlink:href=\"psysml:79fb998f-896a-4642-b1f0-d66dfbec55d7\" xlink:show=\"new\" xlink:title=\"psysml:79fb998f-896a-4642-b1f0-d66dfbec55d7\" xlink:type=\"simple\"><rect fill=\"#FFFFFF\" height=\"40\" id=\"E5\" rx=\"10\" ry=\"10\" style=\"stroke: #383838; stroke-width: 1.5;\" width=\"50\" x=\"117\" y=\"85.5\"/><rect fill=\"#F8F8F8\" height=\"23.9688\" rx=\"10\" ry=\"10\" style=\"stroke: #F8F8F8; stroke-width: 1.5;\" width=\"50\" x=\"117\" y=\"85.5\"/><rect fill=\"#F8F8F8\" height=\"10\" style=\"stroke: #F8F8F8; stroke-width: 1.5;\" width=\"50\" x=\"117\" y=\"99.4688\"/><rect fill=\"none\" height=\"40\" id=\"E5\" rx=\"10\" ry=\"10\" style=\"stroke: #383838; stroke-width: 1.5;\" width=\"50\" x=\"117\" y=\"85.5\"/><text fill=\"#000000\" font-family=\"sans-serif\" font-size=\"12\" lengthAdjust=\"spacingAndGlyphs\" textLength=\"22\" x=\"131\" y=\"101.6387\">x: A</text></a></g><g id=\"E1.E6.E7\"><a href=\"psysml:e6b11995-178a-4abf-b303-bbf3be6d894d\" target=\"_top\" title=\"psysml:e6b11995-178a-4abf-b303-bbf3be6d894d\" xlink:actuate=\"onRequest\" xlink:href=\"psysml:e6b11995-178a-4abf-b303-bbf3be6d894d\" xlink:show=\"new\" xlink:title=\"psysml:e6b11995-178a-4abf-b303-bbf3be6d894d\" xlink:type=\"simple\"><rect fill=\"#FFFFFF\" height=\"42.9375\" id=\"E7\" style=\"stroke: #383838; stroke-width: 1.5;\" width=\"71\" x=\"277.5\" y=\"84\"/><rect fill=\"#F8F8F8\" height=\"37.9375\" style=\"stroke: #383838; stroke-width: 1.5;\" width=\"71\" x=\"277.5\" y=\"84\"/><text fill=\"#000000\" font-family=\"sans-serif\" font-size=\"12\" font-style=\"italic\" lengthAdjust=\"spacingAndGlyphs\" textLength=\"64\" x=\"281\" y=\"100.1387\">«part def»</text><text fill=\"#000000\" font-family=\"sans-serif\" font-size=\"12\" lengthAdjust=\"spacingAndGlyphs\" textLength=\"8\" x=\"309\" y=\"114.1074\">B</text></a></g><g id=\"E1.E8\"><a href=\"psysml:c8045a6d-f018-4e86-976c-73e06620aa4c\" target=\"_top\" title=\"psysml:c8045a6d-f018-4e86-976c-73e06620aa4c\" xlink:actuate=\"onRequest\" xlink:href=\"psysml:c8045a6d-f018-4e86-976c-73e06620aa4c\" xlink:show=\"new\" xlink:title=\"psysml:c8045a6d-f018-4e86-976c-73e06620aa4c\" xlink:type=\"simple\"><rect fill=\"#FFFFFF\" height=\"40\" id=\"E8\" rx=\"10\" ry=\"10\" style=\"stroke: #383838; stroke-width: 1.5;\" width=\"50\" x=\"32\" y=\"85.5\"/><rect fill=\"#F8F8F8\" height=\"23.9688\" rx=\"10\" ry=\"10\" style=\"stroke: #F8F8F8; stroke-width: 1.5;\" width=\"50\" x=\"32\" y=\"85.5\"/><rect fill=\"#F8F8F8\" height=\"10\" style=\"stroke: #F8F8F8; stroke-width: 1.5;\" width=\"50\" x=\"32\" y=\"99.4688\"/><rect fill=\"none\" height=\"40\" id=\"E8\" rx=\"10\" ry=\"10\" style=\"stroke: #383838; stroke-width: 1.5;\" width=\"50\" x=\"32\" y=\"85.5\"/><text fill=\"#000000\" font-family=\"sans-serif\" font-size=\"12\" lengthAdjust=\"spacingAndGlyphs\" textLength=\"21\" x=\"46.5\" y=\"101.6387\">z: B</text></a></g><!--MD5=[fbacb2126a5b4e2cb4c3eb6b6fb0066e]\n",
       "@startuml\r\n",
       "skinparam ranksep 8\r\n",
       "skinparam rectangle {\r\n",
       " backgroundColor<<block>> LightGreen\r\n",
       "}\r\n",
       "skinparam linetype polyline\r\n",
       "skinparam monochrome true\r\n",
       "skinparam classbackgroundcolor white\r\n",
       "skinparam shadowing false\r\n",
       "skinparam wrapWidth 300\r\n",
       "hide circle\r\n",
       "\r\n",
       "package \"PrivateImportTest\" as E1  [[psysml:fd8049a9-22d6-4d05-bbeb-ce76116dc6d9 ]]  {\r\n",
       "package \"P1\" as E2  [[psysml:b8db80a7-5996-4df4-9976-dc6864828b46 ]]  {\r\n",
       "rec def \"A\" as E3  <<(T,blue)part def>> [[psysml:06ccdf6b-7fde-40d2-9d83-7c71c3aaf391 ]] {\r\n",
       "}\r\n",
       "}\r\n",
       "package \"P2\" as E4  [[psysml:524b97f3-dd10-444b-a6f8-a87f295610fc ]]  {\r\n",
       "}\r\n",
       "rec usage \"x: A\" as E5  [[psysml:79fb998f-896a-4642-b1f0-d66dfbec55d7 ]] {\r\n",
       "}\r\n",
       "package \"P3\" as E6  [[psysml:5bfd0c7b-a7f5-42f3-81fc-e346e4c74519 ]]  {\r\n",
       "rec def \"B\" as E7  <<(T,blue)part def>> [[psysml:e6b11995-178a-4abf-b303-bbf3be6d894d ]] {\r\n",
       "}\r\n",
       "}\r\n",
       "rec usage \"z: B\" as E8  [[psysml:c8045a6d-f018-4e86-976c-73e06620aa4c ]] {\r\n",
       "}\r\n",
       "}\r\n",
       "@enduml\r\n",
       "\n",
       "PlantUML version 1.2020.13(Sat Jun 13 12:26:38 UTC 2020)\n",
       "(EPL source distribution)\n",
       "Java Runtime: OpenJDK Runtime Environment\n",
       "JVM: OpenJDK 64-Bit Server VM\n",
       "Default Encoding: UTF-8\n",
       "Language: en\n",
       "Country: null\n",
       "--></g></svg>"
      ]
     },
     "execution_count": 12,
     "metadata": {},
     "output_type": "execute_result"
    }
   ],
   "source": [
    "%viz --style=\"POLYLINE\" --view=\"Interconnection\" \"PrivateImportTest\""
   ]
  },
  {
   "cell_type": "code",
   "execution_count": 13,
   "id": "congressional-phenomenon",
   "metadata": {
    "execution": {
     "iopub.execute_input": "2021-03-26T12:08:10.675695Z",
     "iopub.status.busy": "2021-03-26T12:08:10.675343Z",
     "iopub.status.idle": "2021-03-26T12:08:10.680890Z",
     "shell.execute_reply": "2021-03-26T12:08:10.680306Z"
    }
   },
   "outputs": [
    {
     "data": {
      "image/svg+xml": [
       "<?xml version=\"1.0\" encoding=\"UTF-8\" standalone=\"no\"?><svg xmlns=\"http://www.w3.org/2000/svg\" xmlns:xlink=\"http://www.w3.org/1999/xlink\" contentScriptType=\"application/ecmascript\" contentStyleType=\"text/css\" height=\"12px\" preserveAspectRatio=\"none\" style=\"width:12px;height:12px;\" version=\"1.1\" viewBox=\"0 0 12 12\" width=\"12px\" zoomAndPan=\"magnify\"><defs/><g><!--MD5=[97bbf32f66ccd50cbc40d92ea8f5a65e]\n",
       "@startuml\r\n",
       "skinparam ranksep 8\r\n",
       "skinparam linetype polyline\r\n",
       "skinparam monochrome true\r\n",
       "skinparam classbackgroundcolor white\r\n",
       "skinparam shadowing false\r\n",
       "skinparam wrapWidth 300\r\n",
       "hide circle\r\n",
       "\r\n",
       "@enduml\r\n",
       "\n",
       "PlantUML version 1.2020.13(Sat Jun 13 12:26:38 UTC 2020)\n",
       "(EPL source distribution)\n",
       "Java Runtime: OpenJDK Runtime Environment\n",
       "JVM: OpenJDK 64-Bit Server VM\n",
       "Default Encoding: UTF-8\n",
       "Language: en\n",
       "Country: null\n",
       "--></g></svg>"
      ]
     },
     "execution_count": 13,
     "metadata": {},
     "output_type": "execute_result"
    }
   ],
   "source": [
    "%viz --style=\"POLYLINE\" --view=\"Action\" \"PrivateImportTest\""
   ]
  },
  {
   "cell_type": "code",
   "execution_count": 14,
   "id": "sustainable-inside",
   "metadata": {
    "execution": {
     "iopub.execute_input": "2021-03-26T12:08:10.732542Z",
     "iopub.status.busy": "2021-03-26T12:08:10.731469Z",
     "iopub.status.idle": "2021-03-26T12:08:10.766563Z",
     "shell.execute_reply": "2021-03-26T12:08:10.766270Z"
    }
   },
   "outputs": [
    {
     "data": {
      "image/svg+xml": [
       "<?xml version=\"1.0\" encoding=\"UTF-8\" standalone=\"no\"?><svg xmlns=\"http://www.w3.org/2000/svg\" xmlns:xlink=\"http://www.w3.org/1999/xlink\" contentScriptType=\"application/ecmascript\" contentStyleType=\"text/css\" height=\"252px\" preserveAspectRatio=\"none\" style=\"width:306px;height:252px;\" version=\"1.1\" viewBox=\"0 0 306 252\" width=\"306px\" zoomAndPan=\"magnify\"><defs/><g><!--MD5=[fbc87193dbaf4d95561dea2c320d4a47]\n",
       "cluster E1--><a href=\"psysml:fd8049a9-22d6-4d05-bbeb-ce76116dc6d9\" target=\"_top\" title=\"psysml:fd8049a9-22d6-4d05-bbeb-ce76116dc6d9\" xlink:actuate=\"onRequest\" xlink:href=\"psysml:fd8049a9-22d6-4d05-bbeb-ce76116dc6d9\" xlink:show=\"new\" xlink:title=\"psysml:fd8049a9-22d6-4d05-bbeb-ce76116dc6d9\" xlink:type=\"simple\"><polygon fill=\"#FFFFFF\" points=\"16,6,163,6,170,28.2969,284,28.2969,284,240,16,240,16,6\" style=\"stroke: #000000; stroke-width: 1.5;\"/><line style=\"stroke: #000000; stroke-width: 1.5;\" x1=\"16\" x2=\"170\" y1=\"28.2969\" y2=\"28.2969\"/><text fill=\"#000000\" font-family=\"sans-serif\" font-size=\"14\" font-weight=\"bold\" lengthAdjust=\"spacingAndGlyphs\" textLength=\"141\" x=\"20\" y=\"20.9951\">PrivateImportTest</text></a><!--MD5=[e4f7fae6ed58524ba242bb0b0d3be6b7]\n",
       "cluster E2--><a href=\"psysml:b8db80a7-5996-4df4-9976-dc6864828b46\" target=\"_top\" title=\"psysml:b8db80a7-5996-4df4-9976-dc6864828b46\" xlink:actuate=\"onRequest\" xlink:href=\"psysml:b8db80a7-5996-4df4-9976-dc6864828b46\" xlink:show=\"new\" xlink:title=\"psysml:b8db80a7-5996-4df4-9976-dc6864828b46\" xlink:type=\"simple\"><polygon fill=\"#FFFFFF\" points=\"162,119,188,119,195,141.2969,260,141.2969,260,216,162,216,162,119\" style=\"stroke: #000000; stroke-width: 1.5;\"/><line style=\"stroke: #000000; stroke-width: 1.5;\" x1=\"162\" x2=\"195\" y1=\"141.2969\" y2=\"141.2969\"/><text fill=\"#000000\" font-family=\"sans-serif\" font-size=\"14\" font-weight=\"bold\" lengthAdjust=\"spacingAndGlyphs\" textLength=\"20\" x=\"166\" y=\"133.9951\">P1</text></a><!--MD5=[14e3b0961a2654348d326746436168a1]\n",
       "cluster E6--><a href=\"psysml:5bfd0c7b-a7f5-42f3-81fc-e346e4c74519\" target=\"_top\" title=\"psysml:5bfd0c7b-a7f5-42f3-81fc-e346e4c74519\" xlink:actuate=\"onRequest\" xlink:href=\"psysml:5bfd0c7b-a7f5-42f3-81fc-e346e4c74519\" xlink:show=\"new\" xlink:title=\"psysml:5bfd0c7b-a7f5-42f3-81fc-e346e4c74519\" xlink:type=\"simple\"><polygon fill=\"#FFFFFF\" points=\"40,119,66,119,73,141.2969,138,141.2969,138,216,40,216,40,119\" style=\"stroke: #000000; stroke-width: 1.5;\"/><line style=\"stroke: #000000; stroke-width: 1.5;\" x1=\"40\" x2=\"73\" y1=\"141.2969\" y2=\"141.2969\"/><text fill=\"#000000\" font-family=\"sans-serif\" font-size=\"14\" font-weight=\"bold\" lengthAdjust=\"spacingAndGlyphs\" textLength=\"20\" x=\"44\" y=\"133.9951\">P3</text></a><!--MD5=[270fce915f116d4de14055a7c1d9a0f3]\n",
       "class E5--><a href=\"psysml:79fb998f-896a-4642-b1f0-d66dfbec55d7\" target=\"_top\" title=\"psysml:79fb998f-896a-4642-b1f0-d66dfbec55d7\" xlink:actuate=\"onRequest\" xlink:href=\"psysml:79fb998f-896a-4642-b1f0-d66dfbec55d7\" xlink:show=\"new\" xlink:title=\"psysml:79fb998f-896a-4642-b1f0-d66dfbec55d7\" xlink:type=\"simple\"><rect fill=\"#FFFFFF\" height=\"45.9375\" id=\"E5\" rx=\"10\" ry=\"10\" style=\"stroke: #383838; stroke-width: 1.5;\" width=\"42\" x=\"190\" y=\"44.5\"/><text fill=\"#000000\" font-family=\"sans-serif\" font-size=\"12\" font-style=\"italic\" lengthAdjust=\"spacingAndGlyphs\" textLength=\"40\" x=\"191\" y=\"60.6387\">«part»</text><text fill=\"#000000\" font-family=\"sans-serif\" font-size=\"12\" lengthAdjust=\"spacingAndGlyphs\" textLength=\"22\" x=\"200\" y=\"74.6074\">x: A</text><line style=\"stroke: #383838; stroke-width: 1.5;\" x1=\"191\" x2=\"231\" y1=\"82.4375\" y2=\"82.4375\"/></a><!--MD5=[b9389687b975829384b498ac4b7476b2]\n",
       "class E8--><a href=\"psysml:c8045a6d-f018-4e86-976c-73e06620aa4c\" target=\"_top\" title=\"psysml:c8045a6d-f018-4e86-976c-73e06620aa4c\" xlink:actuate=\"onRequest\" xlink:href=\"psysml:c8045a6d-f018-4e86-976c-73e06620aa4c\" xlink:show=\"new\" xlink:title=\"psysml:c8045a6d-f018-4e86-976c-73e06620aa4c\" xlink:type=\"simple\"><rect fill=\"#FFFFFF\" height=\"45.9375\" id=\"E8\" rx=\"10\" ry=\"10\" style=\"stroke: #383838; stroke-width: 1.5;\" width=\"42\" x=\"107\" y=\"44.5\"/><text fill=\"#000000\" font-family=\"sans-serif\" font-size=\"12\" font-style=\"italic\" lengthAdjust=\"spacingAndGlyphs\" textLength=\"40\" x=\"108\" y=\"60.6387\">«part»</text><text fill=\"#000000\" font-family=\"sans-serif\" font-size=\"12\" lengthAdjust=\"spacingAndGlyphs\" textLength=\"21\" x=\"117.5\" y=\"74.6074\">z: B</text><line style=\"stroke: #383838; stroke-width: 1.5;\" x1=\"108\" x2=\"148\" y1=\"82.4375\" y2=\"82.4375\"/></a><!--MD5=[09b614a08d8cba4a07c9adeb5e0fee81]\n",
       "class E3--><a href=\"psysml:06ccdf6b-7fde-40d2-9d83-7c71c3aaf391\" target=\"_top\" title=\"psysml:06ccdf6b-7fde-40d2-9d83-7c71c3aaf391\" xlink:actuate=\"onRequest\" xlink:href=\"psysml:06ccdf6b-7fde-40d2-9d83-7c71c3aaf391\" xlink:show=\"new\" xlink:title=\"psysml:06ccdf6b-7fde-40d2-9d83-7c71c3aaf391\" xlink:type=\"simple\"><rect fill=\"#FFFFFF\" height=\"45.9375\" id=\"E3\" style=\"stroke: #383838; stroke-width: 1.5;\" width=\"66\" x=\"178\" y=\"154\"/><text fill=\"#000000\" font-family=\"sans-serif\" font-size=\"12\" font-style=\"italic\" lengthAdjust=\"spacingAndGlyphs\" textLength=\"64\" x=\"179\" y=\"170.1387\">«part def»</text><text fill=\"#000000\" font-family=\"sans-serif\" font-size=\"12\" lengthAdjust=\"spacingAndGlyphs\" textLength=\"8\" x=\"207\" y=\"184.1074\">A</text><line style=\"stroke: #383838; stroke-width: 1.5;\" x1=\"179\" x2=\"243\" y1=\"191.9375\" y2=\"191.9375\"/></a><a href=\"psysml:524b97f3-dd10-444b-a6f8-a87f295610fc\" target=\"_top\" title=\"psysml:524b97f3-dd10-444b-a6f8-a87f295610fc\" xlink:actuate=\"onRequest\" xlink:href=\"psysml:524b97f3-dd10-444b-a6f8-a87f295610fc\" xlink:show=\"new\" xlink:title=\"psysml:524b97f3-dd10-444b-a6f8-a87f295610fc\" xlink:type=\"simple\"><polygon fill=\"#FFFFFF\" points=\"32,41,58,41,65,63.2969,72,63.2969,72,93.5938,32,93.5938,32,41\" style=\"stroke: #000000; stroke-width: 1.5;\"/><line style=\"stroke: #000000; stroke-width: 1.5;\" x1=\"32\" x2=\"65\" y1=\"63.2969\" y2=\"63.2969\"/><text fill=\"#000000\" font-family=\"sans-serif\" font-size=\"14\" font-weight=\"bold\" lengthAdjust=\"spacingAndGlyphs\" textLength=\"20\" x=\"36\" y=\"55.9951\">P2</text></a><!--MD5=[2156ba9850f5573cc1fc38a6a4b2f02b]\n",
       "class E7--><a href=\"psysml:e6b11995-178a-4abf-b303-bbf3be6d894d\" target=\"_top\" title=\"psysml:e6b11995-178a-4abf-b303-bbf3be6d894d\" xlink:actuate=\"onRequest\" xlink:href=\"psysml:e6b11995-178a-4abf-b303-bbf3be6d894d\" xlink:show=\"new\" xlink:title=\"psysml:e6b11995-178a-4abf-b303-bbf3be6d894d\" xlink:type=\"simple\"><rect fill=\"#FFFFFF\" height=\"45.9375\" id=\"E7\" style=\"stroke: #383838; stroke-width: 1.5;\" width=\"66\" x=\"56\" y=\"154\"/><text fill=\"#000000\" font-family=\"sans-serif\" font-size=\"12\" font-style=\"italic\" lengthAdjust=\"spacingAndGlyphs\" textLength=\"64\" x=\"57\" y=\"170.1387\">«part def»</text><text fill=\"#000000\" font-family=\"sans-serif\" font-size=\"12\" lengthAdjust=\"spacingAndGlyphs\" textLength=\"8\" x=\"85\" y=\"184.1074\">B</text><line style=\"stroke: #383838; stroke-width: 1.5;\" x1=\"57\" x2=\"121\" y1=\"191.9375\" y2=\"191.9375\"/></a><!--MD5=[e9be52314489bd878ff4c7144b63c9e1]\n",
       "link E5 to E3--><a href=\"psysml:88440252-e8a6-408e-b428-64e589ea9f3d\" target=\"_top\" title=\"psysml:88440252-e8a6-408e-b428-64e589ea9f3d\" xlink:actuate=\"onRequest\" xlink:href=\"psysml:88440252-e8a6-408e-b428-64e589ea9f3d\" xlink:show=\"new\" xlink:title=\"psysml:88440252-e8a6-408e-b428-64e589ea9f3d\" xlink:type=\"simple\"><path d=\"M211,90.51 C211,102.89 211,118.78 211,133.48 \" fill=\"none\" id=\"E5-&gt;E3\" style=\"stroke: #383838; stroke-width: 1.0;\"/><polygon fill=\"#FFFFFF\" points=\"211,153.65,204,134.65,218,134.65,211,153.65\" style=\"stroke: #383838; stroke-width: 1.0;\"/><ellipse cx=\"206\" cy=\"128.95\" fill=\"#383838\" rx=\"2\" ry=\"2\" style=\"stroke: #383838; stroke-width: 1.0;\"/><ellipse cx=\"216\" cy=\"128.95\" fill=\"#383838\" rx=\"2\" ry=\"2\" style=\"stroke: #383838; stroke-width: 1.0;\"/></a><!--MD5=[bfa3c8b0d15052fdf50ae9310b491027]\n",
       "link E8 to E7--><a href=\"psysml:a33b0610-5a8d-429b-bbd7-f981cc70bcb5\" target=\"_top\" title=\"psysml:a33b0610-5a8d-429b-bbd7-f981cc70bcb5\" xlink:actuate=\"onRequest\" xlink:href=\"psysml:a33b0610-5a8d-429b-bbd7-f981cc70bcb5\" xlink:show=\"new\" xlink:title=\"psysml:a33b0610-5a8d-429b-bbd7-f981cc70bcb5\" xlink:type=\"simple\"><path d=\"M120.01,90.51 C115.39,103.25 109.42,119.7 103.96,134.76 \" fill=\"none\" id=\"E8-&gt;E7\" style=\"stroke: #383838; stroke-width: 1.0;\"/><polygon fill=\"#FFFFFF\" points=\"97.11,153.65,97.0036,133.4018,110.1656,138.1726,97.11,153.65\" style=\"stroke: #383838; stroke-width: 1.0;\"/><ellipse cx=\"100.8262\" cy=\"128.7245\" fill=\"#383838\" rx=\"2\" ry=\"2\" style=\"stroke: #383838; stroke-width: 1.0;\"/><ellipse cx=\"110.2277\" cy=\"132.1322\" fill=\"#383838\" rx=\"2\" ry=\"2\" style=\"stroke: #383838; stroke-width: 1.0;\"/></a><!--MD5=[6c44285c9f063a89ec20777a1958476c]\n",
       "@startuml\r\n",
       "skinparam linetype polyline\r\n",
       "skinparam monochrome true\r\n",
       "skinparam classbackgroundcolor white\r\n",
       "skinparam shadowing false\r\n",
       "skinparam wrapWidth 300\r\n",
       "hide circle\r\n",
       "\r\n",
       "package \"PrivateImportTest\" as E1  [[psysml:fd8049a9-22d6-4d05-bbeb-ce76116dc6d9 ]]  {\r\n",
       "package \"P1\" as E2  [[psysml:b8db80a7-5996-4df4-9976-dc6864828b46 ]]  {\r\n",
       "comp def \"A\" as E3  <<(T,blue)part def>> [[psysml:06ccdf6b-7fde-40d2-9d83-7c71c3aaf391 ]] {\r\n",
       "}\r\n",
       "}\r\n",
       "package \"P2\" as E4  [[psysml:524b97f3-dd10-444b-a6f8-a87f295610fc ]]  {\r\n",
       "}\r\n",
       "comp usage \"x: A\" as E5  <<(T,blue)part>> [[psysml:79fb998f-896a-4642-b1f0-d66dfbec55d7 ]] {\r\n",
       "}\r\n",
       "package \"P3\" as E6  [[psysml:5bfd0c7b-a7f5-42f3-81fc-e346e4c74519 ]]  {\r\n",
       "comp def \"B\" as E7  <<(T,blue)part def>> [[psysml:e6b11995-178a-4abf-b303-bbf3be6d894d ]] {\r\n",
       "}\r\n",
       "E5 - -:|> E3 [[psysml:88440252-e8a6-408e-b428-64e589ea9f3d ]] \r\n",
       "}\r\n",
       "comp usage \"z: B\" as E8  <<(T,blue)part>> [[psysml:c8045a6d-f018-4e86-976c-73e06620aa4c ]] {\r\n",
       "}\r\n",
       "E8 - -:|> E7 [[psysml:a33b0610-5a8d-429b-bbd7-f981cc70bcb5 ]] \r\n",
       "}\r\n",
       "@enduml\r\n",
       "\n",
       "PlantUML version 1.2020.13(Sat Jun 13 12:26:38 UTC 2020)\n",
       "(EPL source distribution)\n",
       "Java Runtime: OpenJDK Runtime Environment\n",
       "JVM: OpenJDK 64-Bit Server VM\n",
       "Default Encoding: UTF-8\n",
       "Language: en\n",
       "Country: null\n",
       "--></g></svg>"
      ]
     },
     "execution_count": 14,
     "metadata": {},
     "output_type": "execute_result"
    }
   ],
   "source": [
    "%viz --style=\"POLYLINE\" --view=\"Sequence\" \"PrivateImportTest\""
   ]
  },
  {
   "cell_type": "code",
   "execution_count": 15,
   "id": "micro-rouge",
   "metadata": {
    "execution": {
     "iopub.execute_input": "2021-03-26T12:08:10.819146Z",
     "iopub.status.busy": "2021-03-26T12:08:10.818586Z",
     "iopub.status.idle": "2021-03-26T12:08:10.859060Z",
     "shell.execute_reply": "2021-03-26T12:08:10.858407Z"
    }
   },
   "outputs": [
    {
     "data": {
      "image/svg+xml": [
       "<?xml version=\"1.0\" encoding=\"UTF-8\" standalone=\"no\"?><svg xmlns=\"http://www.w3.org/2000/svg\" xmlns:xlink=\"http://www.w3.org/1999/xlink\" contentScriptType=\"application/ecmascript\" contentStyleType=\"text/css\" height=\"252px\" preserveAspectRatio=\"none\" style=\"width:306px;height:252px;\" version=\"1.1\" viewBox=\"0 0 306 252\" width=\"306px\" zoomAndPan=\"magnify\"><defs/><g><!--MD5=[fbc87193dbaf4d95561dea2c320d4a47]\n",
       "cluster E1--><a href=\"psysml:fd8049a9-22d6-4d05-bbeb-ce76116dc6d9\" target=\"_top\" title=\"psysml:fd8049a9-22d6-4d05-bbeb-ce76116dc6d9\" xlink:actuate=\"onRequest\" xlink:href=\"psysml:fd8049a9-22d6-4d05-bbeb-ce76116dc6d9\" xlink:show=\"new\" xlink:title=\"psysml:fd8049a9-22d6-4d05-bbeb-ce76116dc6d9\" xlink:type=\"simple\"><polygon fill=\"#FFFFFF\" points=\"16,6,163,6,170,28.2969,284,28.2969,284,240,16,240,16,6\" style=\"stroke: #000000; stroke-width: 1.5;\"/><line style=\"stroke: #000000; stroke-width: 1.5;\" x1=\"16\" x2=\"170\" y1=\"28.2969\" y2=\"28.2969\"/><text fill=\"#000000\" font-family=\"sans-serif\" font-size=\"14\" font-weight=\"bold\" lengthAdjust=\"spacingAndGlyphs\" textLength=\"141\" x=\"20\" y=\"20.9951\">PrivateImportTest</text></a><!--MD5=[e4f7fae6ed58524ba242bb0b0d3be6b7]\n",
       "cluster E2--><a href=\"psysml:b8db80a7-5996-4df4-9976-dc6864828b46\" target=\"_top\" title=\"psysml:b8db80a7-5996-4df4-9976-dc6864828b46\" xlink:actuate=\"onRequest\" xlink:href=\"psysml:b8db80a7-5996-4df4-9976-dc6864828b46\" xlink:show=\"new\" xlink:title=\"psysml:b8db80a7-5996-4df4-9976-dc6864828b46\" xlink:type=\"simple\"><polygon fill=\"#FFFFFF\" points=\"162,119,188,119,195,141.2969,260,141.2969,260,216,162,216,162,119\" style=\"stroke: #000000; stroke-width: 1.5;\"/><line style=\"stroke: #000000; stroke-width: 1.5;\" x1=\"162\" x2=\"195\" y1=\"141.2969\" y2=\"141.2969\"/><text fill=\"#000000\" font-family=\"sans-serif\" font-size=\"14\" font-weight=\"bold\" lengthAdjust=\"spacingAndGlyphs\" textLength=\"20\" x=\"166\" y=\"133.9951\">P1</text></a><!--MD5=[14e3b0961a2654348d326746436168a1]\n",
       "cluster E6--><a href=\"psysml:5bfd0c7b-a7f5-42f3-81fc-e346e4c74519\" target=\"_top\" title=\"psysml:5bfd0c7b-a7f5-42f3-81fc-e346e4c74519\" xlink:actuate=\"onRequest\" xlink:href=\"psysml:5bfd0c7b-a7f5-42f3-81fc-e346e4c74519\" xlink:show=\"new\" xlink:title=\"psysml:5bfd0c7b-a7f5-42f3-81fc-e346e4c74519\" xlink:type=\"simple\"><polygon fill=\"#FFFFFF\" points=\"40,119,66,119,73,141.2969,138,141.2969,138,216,40,216,40,119\" style=\"stroke: #000000; stroke-width: 1.5;\"/><line style=\"stroke: #000000; stroke-width: 1.5;\" x1=\"40\" x2=\"73\" y1=\"141.2969\" y2=\"141.2969\"/><text fill=\"#000000\" font-family=\"sans-serif\" font-size=\"14\" font-weight=\"bold\" lengthAdjust=\"spacingAndGlyphs\" textLength=\"20\" x=\"44\" y=\"133.9951\">P3</text></a><!--MD5=[270fce915f116d4de14055a7c1d9a0f3]\n",
       "class E5--><a href=\"psysml:79fb998f-896a-4642-b1f0-d66dfbec55d7\" target=\"_top\" title=\"psysml:79fb998f-896a-4642-b1f0-d66dfbec55d7\" xlink:actuate=\"onRequest\" xlink:href=\"psysml:79fb998f-896a-4642-b1f0-d66dfbec55d7\" xlink:show=\"new\" xlink:title=\"psysml:79fb998f-896a-4642-b1f0-d66dfbec55d7\" xlink:type=\"simple\"><rect fill=\"#FFFFFF\" height=\"45.9375\" id=\"E5\" rx=\"10\" ry=\"10\" style=\"stroke: #383838; stroke-width: 1.5;\" width=\"42\" x=\"190\" y=\"44.5\"/><text fill=\"#000000\" font-family=\"sans-serif\" font-size=\"12\" font-style=\"italic\" lengthAdjust=\"spacingAndGlyphs\" textLength=\"40\" x=\"191\" y=\"60.6387\">«part»</text><text fill=\"#000000\" font-family=\"sans-serif\" font-size=\"12\" lengthAdjust=\"spacingAndGlyphs\" textLength=\"22\" x=\"200\" y=\"74.6074\">x: A</text><line style=\"stroke: #383838; stroke-width: 1.5;\" x1=\"191\" x2=\"231\" y1=\"82.4375\" y2=\"82.4375\"/></a><!--MD5=[b9389687b975829384b498ac4b7476b2]\n",
       "class E8--><a href=\"psysml:c8045a6d-f018-4e86-976c-73e06620aa4c\" target=\"_top\" title=\"psysml:c8045a6d-f018-4e86-976c-73e06620aa4c\" xlink:actuate=\"onRequest\" xlink:href=\"psysml:c8045a6d-f018-4e86-976c-73e06620aa4c\" xlink:show=\"new\" xlink:title=\"psysml:c8045a6d-f018-4e86-976c-73e06620aa4c\" xlink:type=\"simple\"><rect fill=\"#FFFFFF\" height=\"45.9375\" id=\"E8\" rx=\"10\" ry=\"10\" style=\"stroke: #383838; stroke-width: 1.5;\" width=\"42\" x=\"107\" y=\"44.5\"/><text fill=\"#000000\" font-family=\"sans-serif\" font-size=\"12\" font-style=\"italic\" lengthAdjust=\"spacingAndGlyphs\" textLength=\"40\" x=\"108\" y=\"60.6387\">«part»</text><text fill=\"#000000\" font-family=\"sans-serif\" font-size=\"12\" lengthAdjust=\"spacingAndGlyphs\" textLength=\"21\" x=\"117.5\" y=\"74.6074\">z: B</text><line style=\"stroke: #383838; stroke-width: 1.5;\" x1=\"108\" x2=\"148\" y1=\"82.4375\" y2=\"82.4375\"/></a><!--MD5=[09b614a08d8cba4a07c9adeb5e0fee81]\n",
       "class E3--><a href=\"psysml:06ccdf6b-7fde-40d2-9d83-7c71c3aaf391\" target=\"_top\" title=\"psysml:06ccdf6b-7fde-40d2-9d83-7c71c3aaf391\" xlink:actuate=\"onRequest\" xlink:href=\"psysml:06ccdf6b-7fde-40d2-9d83-7c71c3aaf391\" xlink:show=\"new\" xlink:title=\"psysml:06ccdf6b-7fde-40d2-9d83-7c71c3aaf391\" xlink:type=\"simple\"><rect fill=\"#FFFFFF\" height=\"45.9375\" id=\"E3\" style=\"stroke: #383838; stroke-width: 1.5;\" width=\"66\" x=\"178\" y=\"154\"/><text fill=\"#000000\" font-family=\"sans-serif\" font-size=\"12\" font-style=\"italic\" lengthAdjust=\"spacingAndGlyphs\" textLength=\"64\" x=\"179\" y=\"170.1387\">«part def»</text><text fill=\"#000000\" font-family=\"sans-serif\" font-size=\"12\" lengthAdjust=\"spacingAndGlyphs\" textLength=\"8\" x=\"207\" y=\"184.1074\">A</text><line style=\"stroke: #383838; stroke-width: 1.5;\" x1=\"179\" x2=\"243\" y1=\"191.9375\" y2=\"191.9375\"/></a><a href=\"psysml:524b97f3-dd10-444b-a6f8-a87f295610fc\" target=\"_top\" title=\"psysml:524b97f3-dd10-444b-a6f8-a87f295610fc\" xlink:actuate=\"onRequest\" xlink:href=\"psysml:524b97f3-dd10-444b-a6f8-a87f295610fc\" xlink:show=\"new\" xlink:title=\"psysml:524b97f3-dd10-444b-a6f8-a87f295610fc\" xlink:type=\"simple\"><polygon fill=\"#FFFFFF\" points=\"32,41,58,41,65,63.2969,72,63.2969,72,93.5938,32,93.5938,32,41\" style=\"stroke: #000000; stroke-width: 1.5;\"/><line style=\"stroke: #000000; stroke-width: 1.5;\" x1=\"32\" x2=\"65\" y1=\"63.2969\" y2=\"63.2969\"/><text fill=\"#000000\" font-family=\"sans-serif\" font-size=\"14\" font-weight=\"bold\" lengthAdjust=\"spacingAndGlyphs\" textLength=\"20\" x=\"36\" y=\"55.9951\">P2</text></a><!--MD5=[2156ba9850f5573cc1fc38a6a4b2f02b]\n",
       "class E7--><a href=\"psysml:e6b11995-178a-4abf-b303-bbf3be6d894d\" target=\"_top\" title=\"psysml:e6b11995-178a-4abf-b303-bbf3be6d894d\" xlink:actuate=\"onRequest\" xlink:href=\"psysml:e6b11995-178a-4abf-b303-bbf3be6d894d\" xlink:show=\"new\" xlink:title=\"psysml:e6b11995-178a-4abf-b303-bbf3be6d894d\" xlink:type=\"simple\"><rect fill=\"#FFFFFF\" height=\"45.9375\" id=\"E7\" style=\"stroke: #383838; stroke-width: 1.5;\" width=\"66\" x=\"56\" y=\"154\"/><text fill=\"#000000\" font-family=\"sans-serif\" font-size=\"12\" font-style=\"italic\" lengthAdjust=\"spacingAndGlyphs\" textLength=\"64\" x=\"57\" y=\"170.1387\">«part def»</text><text fill=\"#000000\" font-family=\"sans-serif\" font-size=\"12\" lengthAdjust=\"spacingAndGlyphs\" textLength=\"8\" x=\"85\" y=\"184.1074\">B</text><line style=\"stroke: #383838; stroke-width: 1.5;\" x1=\"57\" x2=\"121\" y1=\"191.9375\" y2=\"191.9375\"/></a><!--MD5=[e9be52314489bd878ff4c7144b63c9e1]\n",
       "link E5 to E3--><a href=\"psysml:88440252-e8a6-408e-b428-64e589ea9f3d\" target=\"_top\" title=\"psysml:88440252-e8a6-408e-b428-64e589ea9f3d\" xlink:actuate=\"onRequest\" xlink:href=\"psysml:88440252-e8a6-408e-b428-64e589ea9f3d\" xlink:show=\"new\" xlink:title=\"psysml:88440252-e8a6-408e-b428-64e589ea9f3d\" xlink:type=\"simple\"><path d=\"M211,90.51 C211,102.89 211,118.78 211,133.48 \" fill=\"none\" id=\"E5-&gt;E3\" style=\"stroke: #383838; stroke-width: 1.0;\"/><polygon fill=\"#FFFFFF\" points=\"211,153.65,204,134.65,218,134.65,211,153.65\" style=\"stroke: #383838; stroke-width: 1.0;\"/><ellipse cx=\"206\" cy=\"128.95\" fill=\"#383838\" rx=\"2\" ry=\"2\" style=\"stroke: #383838; stroke-width: 1.0;\"/><ellipse cx=\"216\" cy=\"128.95\" fill=\"#383838\" rx=\"2\" ry=\"2\" style=\"stroke: #383838; stroke-width: 1.0;\"/></a><!--MD5=[bfa3c8b0d15052fdf50ae9310b491027]\n",
       "link E8 to E7--><a href=\"psysml:a33b0610-5a8d-429b-bbd7-f981cc70bcb5\" target=\"_top\" title=\"psysml:a33b0610-5a8d-429b-bbd7-f981cc70bcb5\" xlink:actuate=\"onRequest\" xlink:href=\"psysml:a33b0610-5a8d-429b-bbd7-f981cc70bcb5\" xlink:show=\"new\" xlink:title=\"psysml:a33b0610-5a8d-429b-bbd7-f981cc70bcb5\" xlink:type=\"simple\"><path d=\"M120.01,90.51 C115.39,103.25 109.42,119.7 103.96,134.76 \" fill=\"none\" id=\"E8-&gt;E7\" style=\"stroke: #383838; stroke-width: 1.0;\"/><polygon fill=\"#FFFFFF\" points=\"97.11,153.65,97.0036,133.4018,110.1656,138.1726,97.11,153.65\" style=\"stroke: #383838; stroke-width: 1.0;\"/><ellipse cx=\"100.8262\" cy=\"128.7245\" fill=\"#383838\" rx=\"2\" ry=\"2\" style=\"stroke: #383838; stroke-width: 1.0;\"/><ellipse cx=\"110.2277\" cy=\"132.1322\" fill=\"#383838\" rx=\"2\" ry=\"2\" style=\"stroke: #383838; stroke-width: 1.0;\"/></a><!--MD5=[6c44285c9f063a89ec20777a1958476c]\n",
       "@startuml\r\n",
       "skinparam linetype polyline\r\n",
       "skinparam monochrome true\r\n",
       "skinparam classbackgroundcolor white\r\n",
       "skinparam shadowing false\r\n",
       "skinparam wrapWidth 300\r\n",
       "hide circle\r\n",
       "\r\n",
       "package \"PrivateImportTest\" as E1  [[psysml:fd8049a9-22d6-4d05-bbeb-ce76116dc6d9 ]]  {\r\n",
       "package \"P1\" as E2  [[psysml:b8db80a7-5996-4df4-9976-dc6864828b46 ]]  {\r\n",
       "comp def \"A\" as E3  <<(T,blue)part def>> [[psysml:06ccdf6b-7fde-40d2-9d83-7c71c3aaf391 ]] {\r\n",
       "}\r\n",
       "}\r\n",
       "package \"P2\" as E4  [[psysml:524b97f3-dd10-444b-a6f8-a87f295610fc ]]  {\r\n",
       "}\r\n",
       "comp usage \"x: A\" as E5  <<(T,blue)part>> [[psysml:79fb998f-896a-4642-b1f0-d66dfbec55d7 ]] {\r\n",
       "}\r\n",
       "package \"P3\" as E6  [[psysml:5bfd0c7b-a7f5-42f3-81fc-e346e4c74519 ]]  {\r\n",
       "comp def \"B\" as E7  <<(T,blue)part def>> [[psysml:e6b11995-178a-4abf-b303-bbf3be6d894d ]] {\r\n",
       "}\r\n",
       "E5 - -:|> E3 [[psysml:88440252-e8a6-408e-b428-64e589ea9f3d ]] \r\n",
       "}\r\n",
       "comp usage \"z: B\" as E8  <<(T,blue)part>> [[psysml:c8045a6d-f018-4e86-976c-73e06620aa4c ]] {\r\n",
       "}\r\n",
       "E8 - -:|> E7 [[psysml:a33b0610-5a8d-429b-bbd7-f981cc70bcb5 ]] \r\n",
       "}\r\n",
       "@enduml\r\n",
       "\n",
       "PlantUML version 1.2020.13(Sat Jun 13 12:26:38 UTC 2020)\n",
       "(EPL source distribution)\n",
       "Java Runtime: OpenJDK Runtime Environment\n",
       "JVM: OpenJDK 64-Bit Server VM\n",
       "Default Encoding: UTF-8\n",
       "Language: en\n",
       "Country: null\n",
       "--></g></svg>"
      ]
     },
     "execution_count": 15,
     "metadata": {},
     "output_type": "execute_result"
    }
   ],
   "source": [
    "%viz --style=\"POLYLINE\" --view=\"MIXED\" \"PrivateImportTest\""
   ]
  },
  {
   "cell_type": "code",
   "execution_count": 16,
   "id": "after-chest",
   "metadata": {
    "execution": {
     "iopub.execute_input": "2021-03-26T12:08:10.911967Z",
     "iopub.status.busy": "2021-03-26T12:08:10.911419Z",
     "iopub.status.idle": "2021-03-26T12:08:10.948593Z",
     "shell.execute_reply": "2021-03-26T12:08:10.948060Z"
    }
   },
   "outputs": [
    {
     "data": {
      "image/svg+xml": [
       "<?xml version=\"1.0\" encoding=\"UTF-8\" standalone=\"no\"?><svg xmlns=\"http://www.w3.org/2000/svg\" xmlns:xlink=\"http://www.w3.org/1999/xlink\" contentScriptType=\"application/ecmascript\" contentStyleType=\"text/css\" height=\"303px\" preserveAspectRatio=\"none\" style=\"width:262px;height:303px;\" version=\"1.1\" viewBox=\"0 0 262 303\" width=\"262px\" zoomAndPan=\"magnify\"><defs/><g><!--MD5=[fbc87193dbaf4d95561dea2c320d4a47]\n",
       "cluster E1--><a href=\"psysml:fd8049a9-22d6-4d05-bbeb-ce76116dc6d9\" target=\"_top\" title=\"psysml:fd8049a9-22d6-4d05-bbeb-ce76116dc6d9\" xlink:actuate=\"onRequest\" xlink:href=\"psysml:fd8049a9-22d6-4d05-bbeb-ce76116dc6d9\" xlink:show=\"new\" xlink:title=\"psysml:fd8049a9-22d6-4d05-bbeb-ce76116dc6d9\" xlink:type=\"simple\"><polygon fill=\"#FFFFFF\" points=\"16,6,163,6,170,28.2969,240,28.2969,240,291,16,291,16,6\" style=\"stroke: #000000; stroke-width: 1.5;\"/><line style=\"stroke: #000000; stroke-width: 1.5;\" x1=\"16\" x2=\"170\" y1=\"28.2969\" y2=\"28.2969\"/><text fill=\"#000000\" font-family=\"sans-serif\" font-size=\"14\" font-weight=\"bold\" lengthAdjust=\"spacingAndGlyphs\" textLength=\"141\" x=\"20\" y=\"20.9951\">PrivateImportTest</text></a><!--MD5=[e4f7fae6ed58524ba242bb0b0d3be6b7]\n",
       "cluster E2--><a href=\"psysml:b8db80a7-5996-4df4-9976-dc6864828b46\" target=\"_top\" title=\"psysml:b8db80a7-5996-4df4-9976-dc6864828b46\" xlink:actuate=\"onRequest\" xlink:href=\"psysml:b8db80a7-5996-4df4-9976-dc6864828b46\" xlink:show=\"new\" xlink:title=\"psysml:b8db80a7-5996-4df4-9976-dc6864828b46\" xlink:type=\"simple\"><polygon fill=\"#FFFFFF\" points=\"118,49,144,49,151,71.2969,216,71.2969,216,146,118,146,118,49\" style=\"stroke: #000000; stroke-width: 1.5;\"/><line style=\"stroke: #000000; stroke-width: 1.5;\" x1=\"118\" x2=\"151\" y1=\"71.2969\" y2=\"71.2969\"/><text fill=\"#000000\" font-family=\"sans-serif\" font-size=\"14\" font-weight=\"bold\" lengthAdjust=\"spacingAndGlyphs\" textLength=\"20\" x=\"122\" y=\"63.9951\">P1</text></a><!--MD5=[14e3b0961a2654348d326746436168a1]\n",
       "cluster E6--><a href=\"psysml:5bfd0c7b-a7f5-42f3-81fc-e346e4c74519\" target=\"_top\" title=\"psysml:5bfd0c7b-a7f5-42f3-81fc-e346e4c74519\" xlink:actuate=\"onRequest\" xlink:href=\"psysml:5bfd0c7b-a7f5-42f3-81fc-e346e4c74519\" xlink:show=\"new\" xlink:title=\"psysml:5bfd0c7b-a7f5-42f3-81fc-e346e4c74519\" xlink:type=\"simple\"><polygon fill=\"#FFFFFF\" points=\"118,170,144,170,151,192.2969,216,192.2969,216,267,118,267,118,170\" style=\"stroke: #000000; stroke-width: 1.5;\"/><line style=\"stroke: #000000; stroke-width: 1.5;\" x1=\"118\" x2=\"151\" y1=\"192.2969\" y2=\"192.2969\"/><text fill=\"#000000\" font-family=\"sans-serif\" font-size=\"14\" font-weight=\"bold\" lengthAdjust=\"spacingAndGlyphs\" textLength=\"20\" x=\"122\" y=\"184.9951\">P3</text></a><!--MD5=[270fce915f116d4de14055a7c1d9a0f3]\n",
       "class E5--><a href=\"psysml:79fb998f-896a-4642-b1f0-d66dfbec55d7\" target=\"_top\" title=\"psysml:79fb998f-896a-4642-b1f0-d66dfbec55d7\" xlink:actuate=\"onRequest\" xlink:href=\"psysml:79fb998f-896a-4642-b1f0-d66dfbec55d7\" xlink:show=\"new\" xlink:title=\"psysml:79fb998f-896a-4642-b1f0-d66dfbec55d7\" xlink:type=\"simple\"><rect fill=\"#FFFFFF\" height=\"45.9375\" id=\"E5\" rx=\"10\" ry=\"10\" style=\"stroke: #383838; stroke-width: 1.5;\" width=\"42\" x=\"32\" y=\"59\"/><text fill=\"#000000\" font-family=\"sans-serif\" font-size=\"12\" font-style=\"italic\" lengthAdjust=\"spacingAndGlyphs\" textLength=\"40\" x=\"33\" y=\"75.1387\">«part»</text><text fill=\"#000000\" font-family=\"sans-serif\" font-size=\"12\" lengthAdjust=\"spacingAndGlyphs\" textLength=\"22\" x=\"42\" y=\"89.1074\">x: A</text><line style=\"stroke: #383838; stroke-width: 1.5;\" x1=\"33\" x2=\"73\" y1=\"96.9375\" y2=\"96.9375\"/></a><!--MD5=[b9389687b975829384b498ac4b7476b2]\n",
       "class E8--><a href=\"psysml:c8045a6d-f018-4e86-976c-73e06620aa4c\" target=\"_top\" title=\"psysml:c8045a6d-f018-4e86-976c-73e06620aa4c\" xlink:actuate=\"onRequest\" xlink:href=\"psysml:c8045a6d-f018-4e86-976c-73e06620aa4c\" xlink:show=\"new\" xlink:title=\"psysml:c8045a6d-f018-4e86-976c-73e06620aa4c\" xlink:type=\"simple\"><rect fill=\"#FFFFFF\" height=\"45.9375\" id=\"E8\" rx=\"10\" ry=\"10\" style=\"stroke: #383838; stroke-width: 1.5;\" width=\"42\" x=\"32\" y=\"140\"/><text fill=\"#000000\" font-family=\"sans-serif\" font-size=\"12\" font-style=\"italic\" lengthAdjust=\"spacingAndGlyphs\" textLength=\"40\" x=\"33\" y=\"156.1387\">«part»</text><text fill=\"#000000\" font-family=\"sans-serif\" font-size=\"12\" lengthAdjust=\"spacingAndGlyphs\" textLength=\"21\" x=\"42.5\" y=\"170.1074\">z: B</text><line style=\"stroke: #383838; stroke-width: 1.5;\" x1=\"33\" x2=\"73\" y1=\"177.9375\" y2=\"177.9375\"/></a><!--MD5=[09b614a08d8cba4a07c9adeb5e0fee81]\n",
       "class E3--><a href=\"psysml:06ccdf6b-7fde-40d2-9d83-7c71c3aaf391\" target=\"_top\" title=\"psysml:06ccdf6b-7fde-40d2-9d83-7c71c3aaf391\" xlink:actuate=\"onRequest\" xlink:href=\"psysml:06ccdf6b-7fde-40d2-9d83-7c71c3aaf391\" xlink:show=\"new\" xlink:title=\"psysml:06ccdf6b-7fde-40d2-9d83-7c71c3aaf391\" xlink:type=\"simple\"><rect fill=\"#FFFFFF\" height=\"45.9375\" id=\"E3\" style=\"stroke: #383838; stroke-width: 1.5;\" width=\"66\" x=\"134\" y=\"84\"/><text fill=\"#000000\" font-family=\"sans-serif\" font-size=\"12\" font-style=\"italic\" lengthAdjust=\"spacingAndGlyphs\" textLength=\"64\" x=\"135\" y=\"100.1387\">«part def»</text><text fill=\"#000000\" font-family=\"sans-serif\" font-size=\"12\" lengthAdjust=\"spacingAndGlyphs\" textLength=\"8\" x=\"163\" y=\"114.1074\">A</text><line style=\"stroke: #383838; stroke-width: 1.5;\" x1=\"135\" x2=\"199\" y1=\"121.9375\" y2=\"121.9375\"/></a><a href=\"psysml:524b97f3-dd10-444b-a6f8-a87f295610fc\" target=\"_top\" title=\"psysml:524b97f3-dd10-444b-a6f8-a87f295610fc\" xlink:actuate=\"onRequest\" xlink:href=\"psysml:524b97f3-dd10-444b-a6f8-a87f295610fc\" xlink:show=\"new\" xlink:title=\"psysml:524b97f3-dd10-444b-a6f8-a87f295610fc\" xlink:type=\"simple\"><polygon fill=\"#FFFFFF\" points=\"33,221.5,59,221.5,66,243.7969,73,243.7969,73,274.0938,33,274.0938,33,221.5\" style=\"stroke: #000000; stroke-width: 1.5;\"/><line style=\"stroke: #000000; stroke-width: 1.5;\" x1=\"33\" x2=\"66\" y1=\"243.7969\" y2=\"243.7969\"/><text fill=\"#000000\" font-family=\"sans-serif\" font-size=\"14\" font-weight=\"bold\" lengthAdjust=\"spacingAndGlyphs\" textLength=\"20\" x=\"37\" y=\"236.4951\">P2</text></a><!--MD5=[2156ba9850f5573cc1fc38a6a4b2f02b]\n",
       "class E7--><a href=\"psysml:e6b11995-178a-4abf-b303-bbf3be6d894d\" target=\"_top\" title=\"psysml:e6b11995-178a-4abf-b303-bbf3be6d894d\" xlink:actuate=\"onRequest\" xlink:href=\"psysml:e6b11995-178a-4abf-b303-bbf3be6d894d\" xlink:show=\"new\" xlink:title=\"psysml:e6b11995-178a-4abf-b303-bbf3be6d894d\" xlink:type=\"simple\"><rect fill=\"#FFFFFF\" height=\"45.9375\" id=\"E7\" style=\"stroke: #383838; stroke-width: 1.5;\" width=\"66\" x=\"134\" y=\"205\"/><text fill=\"#000000\" font-family=\"sans-serif\" font-size=\"12\" font-style=\"italic\" lengthAdjust=\"spacingAndGlyphs\" textLength=\"64\" x=\"135\" y=\"221.1387\">«part def»</text><text fill=\"#000000\" font-family=\"sans-serif\" font-size=\"12\" lengthAdjust=\"spacingAndGlyphs\" textLength=\"8\" x=\"163\" y=\"235.1074\">B</text><line style=\"stroke: #383838; stroke-width: 1.5;\" x1=\"135\" x2=\"199\" y1=\"242.9375\" y2=\"242.9375\"/></a><!--MD5=[e9be52314489bd878ff4c7144b63c9e1]\n",
       "link E5 to E3--><a href=\"psysml:88440252-e8a6-408e-b428-64e589ea9f3d\" target=\"_top\" title=\"psysml:88440252-e8a6-408e-b428-64e589ea9f3d\" xlink:actuate=\"onRequest\" xlink:href=\"psysml:88440252-e8a6-408e-b428-64e589ea9f3d\" xlink:show=\"new\" xlink:title=\"psysml:88440252-e8a6-408e-b428-64e589ea9f3d\" xlink:type=\"simple\"><path d=\"M74.02,86.47 C85.31,88.99 99.99,92.27 114.29,95.46 \" fill=\"none\" id=\"E5-&gt;E3\" style=\"stroke: #383838; stroke-width: 1.0;\"/><polygon fill=\"#FFFFFF\" points=\"133.86,99.83,113.7912,102.5214,116.842,88.8579,133.86,99.83\" style=\"stroke: #383838; stroke-width: 1.0;\"/><ellipse cx=\"108.664\" cy=\"99.3274\" fill=\"#383838\" rx=\"2\" ry=\"2\" style=\"stroke: #383838; stroke-width: 1.0;\"/><ellipse cx=\"110.8432\" cy=\"89.5677\" fill=\"#383838\" rx=\"2\" ry=\"2\" style=\"stroke: #383838; stroke-width: 1.0;\"/></a><!--MD5=[bfa3c8b0d15052fdf50ae9310b491027]\n",
       "link E8 to E7--><a href=\"psysml:a33b0610-5a8d-429b-bbd7-f981cc70bcb5\" target=\"_top\" title=\"psysml:a33b0610-5a8d-429b-bbd7-f981cc70bcb5\" xlink:actuate=\"onRequest\" xlink:href=\"psysml:a33b0610-5a8d-429b-bbd7-f981cc70bcb5\" xlink:show=\"new\" xlink:title=\"psysml:a33b0610-5a8d-429b-bbd7-f981cc70bcb5\" xlink:type=\"simple\"><path d=\"M74.02,174.62 C85.83,181.47 101.34,190.48 116.26,199.13 \" fill=\"none\" id=\"E8-&gt;E7\" style=\"stroke: #383838; stroke-width: 1.0;\"/><polygon fill=\"#FFFFFF\" points=\"133.86,209.35,113.9116,205.8773,120.9328,193.7652,133.86,209.35\" style=\"stroke: #383838; stroke-width: 1.0;\"/><ellipse cx=\"109.9832\" cy=\"201.2883\" fill=\"#383838\" rx=\"2\" ry=\"2\" style=\"stroke: #383838; stroke-width: 1.0;\"/><ellipse cx=\"114.9984\" cy=\"192.6368\" fill=\"#383838\" rx=\"2\" ry=\"2\" style=\"stroke: #383838; stroke-width: 1.0;\"/></a><!--MD5=[363c8d297afc991bc2efd1184fad89a5]\n",
       "@startuml\r\n",
       "left to right direction\r\n",
       "skinparam monochrome true\r\n",
       "skinparam classbackgroundcolor white\r\n",
       "skinparam shadowing false\r\n",
       "skinparam wrapWidth 300\r\n",
       "hide circle\r\n",
       "\r\n",
       "package \"PrivateImportTest\" as E1  [[psysml:fd8049a9-22d6-4d05-bbeb-ce76116dc6d9 ]]  {\r\n",
       "package \"P1\" as E2  [[psysml:b8db80a7-5996-4df4-9976-dc6864828b46 ]]  {\r\n",
       "comp def \"A\" as E3  <<(T,blue)part def>> [[psysml:06ccdf6b-7fde-40d2-9d83-7c71c3aaf391 ]] {\r\n",
       "}\r\n",
       "}\r\n",
       "package \"P2\" as E4  [[psysml:524b97f3-dd10-444b-a6f8-a87f295610fc ]]  {\r\n",
       "}\r\n",
       "comp usage \"x: A\" as E5  <<(T,blue)part>> [[psysml:79fb998f-896a-4642-b1f0-d66dfbec55d7 ]] {\r\n",
       "}\r\n",
       "package \"P3\" as E6  [[psysml:5bfd0c7b-a7f5-42f3-81fc-e346e4c74519 ]]  {\r\n",
       "comp def \"B\" as E7  <<(T,blue)part def>> [[psysml:e6b11995-178a-4abf-b303-bbf3be6d894d ]] {\r\n",
       "}\r\n",
       "E5 - -:|> E3 [[psysml:88440252-e8a6-408e-b428-64e589ea9f3d ]] \r\n",
       "}\r\n",
       "comp usage \"z: B\" as E8  <<(T,blue)part>> [[psysml:c8045a6d-f018-4e86-976c-73e06620aa4c ]] {\r\n",
       "}\r\n",
       "E8 - -:|> E7 [[psysml:a33b0610-5a8d-429b-bbd7-f981cc70bcb5 ]] \r\n",
       "}\r\n",
       "@enduml\r\n",
       "\n",
       "PlantUML version 1.2020.13(Sat Jun 13 12:26:38 UTC 2020)\n",
       "(EPL source distribution)\n",
       "Java Runtime: OpenJDK Runtime Environment\n",
       "JVM: OpenJDK 64-Bit Server VM\n",
       "Default Encoding: UTF-8\n",
       "Language: en\n",
       "Country: null\n",
       "--></g></svg>"
      ]
     },
     "execution_count": 16,
     "metadata": {},
     "output_type": "execute_result"
    }
   ],
   "source": [
    "%viz --style=\"LR\" --view=\"Default\" \"PrivateImportTest\""
   ]
  },
  {
   "cell_type": "code",
   "execution_count": 17,
   "id": "certified-payroll",
   "metadata": {
    "execution": {
     "iopub.execute_input": "2021-03-26T12:08:11.001144Z",
     "iopub.status.busy": "2021-03-26T12:08:11.000453Z",
     "iopub.status.idle": "2021-03-26T12:08:11.036804Z",
     "shell.execute_reply": "2021-03-26T12:08:11.035317Z"
    }
   },
   "outputs": [
    {
     "data": {
      "image/svg+xml": [
       "<?xml version=\"1.0\" encoding=\"UTF-8\" standalone=\"no\"?><svg xmlns=\"http://www.w3.org/2000/svg\" xmlns:xlink=\"http://www.w3.org/1999/xlink\" contentScriptType=\"application/ecmascript\" contentStyleType=\"text/css\" height=\"303px\" preserveAspectRatio=\"none\" style=\"width:262px;height:303px;\" version=\"1.1\" viewBox=\"0 0 262 303\" width=\"262px\" zoomAndPan=\"magnify\"><defs/><g><!--MD5=[fbc87193dbaf4d95561dea2c320d4a47]\n",
       "cluster E1--><a href=\"psysml:fd8049a9-22d6-4d05-bbeb-ce76116dc6d9\" target=\"_top\" title=\"psysml:fd8049a9-22d6-4d05-bbeb-ce76116dc6d9\" xlink:actuate=\"onRequest\" xlink:href=\"psysml:fd8049a9-22d6-4d05-bbeb-ce76116dc6d9\" xlink:show=\"new\" xlink:title=\"psysml:fd8049a9-22d6-4d05-bbeb-ce76116dc6d9\" xlink:type=\"simple\"><polygon fill=\"#FFFFFF\" points=\"16,6,163,6,170,28.2969,240,28.2969,240,291,16,291,16,6\" style=\"stroke: #000000; stroke-width: 1.5;\"/><line style=\"stroke: #000000; stroke-width: 1.5;\" x1=\"16\" x2=\"170\" y1=\"28.2969\" y2=\"28.2969\"/><text fill=\"#000000\" font-family=\"sans-serif\" font-size=\"14\" font-weight=\"bold\" lengthAdjust=\"spacingAndGlyphs\" textLength=\"141\" x=\"20\" y=\"20.9951\">PrivateImportTest</text></a><!--MD5=[e4f7fae6ed58524ba242bb0b0d3be6b7]\n",
       "cluster E2--><a href=\"psysml:b8db80a7-5996-4df4-9976-dc6864828b46\" target=\"_top\" title=\"psysml:b8db80a7-5996-4df4-9976-dc6864828b46\" xlink:actuate=\"onRequest\" xlink:href=\"psysml:b8db80a7-5996-4df4-9976-dc6864828b46\" xlink:show=\"new\" xlink:title=\"psysml:b8db80a7-5996-4df4-9976-dc6864828b46\" xlink:type=\"simple\"><polygon fill=\"#FFFFFF\" points=\"118,49,144,49,151,71.2969,216,71.2969,216,146,118,146,118,49\" style=\"stroke: #000000; stroke-width: 1.5;\"/><line style=\"stroke: #000000; stroke-width: 1.5;\" x1=\"118\" x2=\"151\" y1=\"71.2969\" y2=\"71.2969\"/><text fill=\"#000000\" font-family=\"sans-serif\" font-size=\"14\" font-weight=\"bold\" lengthAdjust=\"spacingAndGlyphs\" textLength=\"20\" x=\"122\" y=\"63.9951\">P1</text></a><!--MD5=[14e3b0961a2654348d326746436168a1]\n",
       "cluster E6--><a href=\"psysml:5bfd0c7b-a7f5-42f3-81fc-e346e4c74519\" target=\"_top\" title=\"psysml:5bfd0c7b-a7f5-42f3-81fc-e346e4c74519\" xlink:actuate=\"onRequest\" xlink:href=\"psysml:5bfd0c7b-a7f5-42f3-81fc-e346e4c74519\" xlink:show=\"new\" xlink:title=\"psysml:5bfd0c7b-a7f5-42f3-81fc-e346e4c74519\" xlink:type=\"simple\"><polygon fill=\"#FFFFFF\" points=\"118,170,144,170,151,192.2969,216,192.2969,216,267,118,267,118,170\" style=\"stroke: #000000; stroke-width: 1.5;\"/><line style=\"stroke: #000000; stroke-width: 1.5;\" x1=\"118\" x2=\"151\" y1=\"192.2969\" y2=\"192.2969\"/><text fill=\"#000000\" font-family=\"sans-serif\" font-size=\"14\" font-weight=\"bold\" lengthAdjust=\"spacingAndGlyphs\" textLength=\"20\" x=\"122\" y=\"184.9951\">P3</text></a><!--MD5=[270fce915f116d4de14055a7c1d9a0f3]\n",
       "class E5--><a href=\"psysml:79fb998f-896a-4642-b1f0-d66dfbec55d7\" target=\"_top\" title=\"psysml:79fb998f-896a-4642-b1f0-d66dfbec55d7\" xlink:actuate=\"onRequest\" xlink:href=\"psysml:79fb998f-896a-4642-b1f0-d66dfbec55d7\" xlink:show=\"new\" xlink:title=\"psysml:79fb998f-896a-4642-b1f0-d66dfbec55d7\" xlink:type=\"simple\"><rect fill=\"#FFFFFF\" height=\"45.9375\" id=\"E5\" rx=\"10\" ry=\"10\" style=\"stroke: #383838; stroke-width: 1.5;\" width=\"42\" x=\"32\" y=\"59\"/><text fill=\"#000000\" font-family=\"sans-serif\" font-size=\"12\" font-style=\"italic\" lengthAdjust=\"spacingAndGlyphs\" textLength=\"40\" x=\"33\" y=\"75.1387\">«part»</text><text fill=\"#000000\" font-family=\"sans-serif\" font-size=\"12\" lengthAdjust=\"spacingAndGlyphs\" textLength=\"22\" x=\"42\" y=\"89.1074\">x: A</text><line style=\"stroke: #383838; stroke-width: 1.5;\" x1=\"33\" x2=\"73\" y1=\"96.9375\" y2=\"96.9375\"/></a><!--MD5=[b9389687b975829384b498ac4b7476b2]\n",
       "class E8--><a href=\"psysml:c8045a6d-f018-4e86-976c-73e06620aa4c\" target=\"_top\" title=\"psysml:c8045a6d-f018-4e86-976c-73e06620aa4c\" xlink:actuate=\"onRequest\" xlink:href=\"psysml:c8045a6d-f018-4e86-976c-73e06620aa4c\" xlink:show=\"new\" xlink:title=\"psysml:c8045a6d-f018-4e86-976c-73e06620aa4c\" xlink:type=\"simple\"><rect fill=\"#FFFFFF\" height=\"45.9375\" id=\"E8\" rx=\"10\" ry=\"10\" style=\"stroke: #383838; stroke-width: 1.5;\" width=\"42\" x=\"32\" y=\"140\"/><text fill=\"#000000\" font-family=\"sans-serif\" font-size=\"12\" font-style=\"italic\" lengthAdjust=\"spacingAndGlyphs\" textLength=\"40\" x=\"33\" y=\"156.1387\">«part»</text><text fill=\"#000000\" font-family=\"sans-serif\" font-size=\"12\" lengthAdjust=\"spacingAndGlyphs\" textLength=\"21\" x=\"42.5\" y=\"170.1074\">z: B</text><line style=\"stroke: #383838; stroke-width: 1.5;\" x1=\"33\" x2=\"73\" y1=\"177.9375\" y2=\"177.9375\"/></a><!--MD5=[09b614a08d8cba4a07c9adeb5e0fee81]\n",
       "class E3--><a href=\"psysml:06ccdf6b-7fde-40d2-9d83-7c71c3aaf391\" target=\"_top\" title=\"psysml:06ccdf6b-7fde-40d2-9d83-7c71c3aaf391\" xlink:actuate=\"onRequest\" xlink:href=\"psysml:06ccdf6b-7fde-40d2-9d83-7c71c3aaf391\" xlink:show=\"new\" xlink:title=\"psysml:06ccdf6b-7fde-40d2-9d83-7c71c3aaf391\" xlink:type=\"simple\"><rect fill=\"#FFFFFF\" height=\"45.9375\" id=\"E3\" style=\"stroke: #383838; stroke-width: 1.5;\" width=\"66\" x=\"134\" y=\"84\"/><text fill=\"#000000\" font-family=\"sans-serif\" font-size=\"12\" font-style=\"italic\" lengthAdjust=\"spacingAndGlyphs\" textLength=\"64\" x=\"135\" y=\"100.1387\">«part def»</text><text fill=\"#000000\" font-family=\"sans-serif\" font-size=\"12\" lengthAdjust=\"spacingAndGlyphs\" textLength=\"8\" x=\"163\" y=\"114.1074\">A</text><line style=\"stroke: #383838; stroke-width: 1.5;\" x1=\"135\" x2=\"199\" y1=\"121.9375\" y2=\"121.9375\"/></a><a href=\"psysml:524b97f3-dd10-444b-a6f8-a87f295610fc\" target=\"_top\" title=\"psysml:524b97f3-dd10-444b-a6f8-a87f295610fc\" xlink:actuate=\"onRequest\" xlink:href=\"psysml:524b97f3-dd10-444b-a6f8-a87f295610fc\" xlink:show=\"new\" xlink:title=\"psysml:524b97f3-dd10-444b-a6f8-a87f295610fc\" xlink:type=\"simple\"><polygon fill=\"#FFFFFF\" points=\"33,221.5,59,221.5,66,243.7969,73,243.7969,73,274.0938,33,274.0938,33,221.5\" style=\"stroke: #000000; stroke-width: 1.5;\"/><line style=\"stroke: #000000; stroke-width: 1.5;\" x1=\"33\" x2=\"66\" y1=\"243.7969\" y2=\"243.7969\"/><text fill=\"#000000\" font-family=\"sans-serif\" font-size=\"14\" font-weight=\"bold\" lengthAdjust=\"spacingAndGlyphs\" textLength=\"20\" x=\"37\" y=\"236.4951\">P2</text></a><!--MD5=[2156ba9850f5573cc1fc38a6a4b2f02b]\n",
       "class E7--><a href=\"psysml:e6b11995-178a-4abf-b303-bbf3be6d894d\" target=\"_top\" title=\"psysml:e6b11995-178a-4abf-b303-bbf3be6d894d\" xlink:actuate=\"onRequest\" xlink:href=\"psysml:e6b11995-178a-4abf-b303-bbf3be6d894d\" xlink:show=\"new\" xlink:title=\"psysml:e6b11995-178a-4abf-b303-bbf3be6d894d\" xlink:type=\"simple\"><rect fill=\"#FFFFFF\" height=\"45.9375\" id=\"E7\" style=\"stroke: #383838; stroke-width: 1.5;\" width=\"66\" x=\"134\" y=\"205\"/><text fill=\"#000000\" font-family=\"sans-serif\" font-size=\"12\" font-style=\"italic\" lengthAdjust=\"spacingAndGlyphs\" textLength=\"64\" x=\"135\" y=\"221.1387\">«part def»</text><text fill=\"#000000\" font-family=\"sans-serif\" font-size=\"12\" lengthAdjust=\"spacingAndGlyphs\" textLength=\"8\" x=\"163\" y=\"235.1074\">B</text><line style=\"stroke: #383838; stroke-width: 1.5;\" x1=\"135\" x2=\"199\" y1=\"242.9375\" y2=\"242.9375\"/></a><!--MD5=[e9be52314489bd878ff4c7144b63c9e1]\n",
       "link E5 to E3--><a href=\"psysml:88440252-e8a6-408e-b428-64e589ea9f3d\" target=\"_top\" title=\"psysml:88440252-e8a6-408e-b428-64e589ea9f3d\" xlink:actuate=\"onRequest\" xlink:href=\"psysml:88440252-e8a6-408e-b428-64e589ea9f3d\" xlink:show=\"new\" xlink:title=\"psysml:88440252-e8a6-408e-b428-64e589ea9f3d\" xlink:type=\"simple\"><path d=\"M74.02,86.47 C85.31,88.99 99.99,92.27 114.29,95.46 \" fill=\"none\" id=\"E5-&gt;E3\" style=\"stroke: #383838; stroke-width: 1.0;\"/><polygon fill=\"#FFFFFF\" points=\"133.86,99.83,113.7912,102.5214,116.842,88.8579,133.86,99.83\" style=\"stroke: #383838; stroke-width: 1.0;\"/><ellipse cx=\"108.664\" cy=\"99.3274\" fill=\"#383838\" rx=\"2\" ry=\"2\" style=\"stroke: #383838; stroke-width: 1.0;\"/><ellipse cx=\"110.8432\" cy=\"89.5677\" fill=\"#383838\" rx=\"2\" ry=\"2\" style=\"stroke: #383838; stroke-width: 1.0;\"/></a><!--MD5=[bfa3c8b0d15052fdf50ae9310b491027]\n",
       "link E8 to E7--><a href=\"psysml:a33b0610-5a8d-429b-bbd7-f981cc70bcb5\" target=\"_top\" title=\"psysml:a33b0610-5a8d-429b-bbd7-f981cc70bcb5\" xlink:actuate=\"onRequest\" xlink:href=\"psysml:a33b0610-5a8d-429b-bbd7-f981cc70bcb5\" xlink:show=\"new\" xlink:title=\"psysml:a33b0610-5a8d-429b-bbd7-f981cc70bcb5\" xlink:type=\"simple\"><path d=\"M74.02,174.62 C85.83,181.47 101.34,190.48 116.26,199.13 \" fill=\"none\" id=\"E8-&gt;E7\" style=\"stroke: #383838; stroke-width: 1.0;\"/><polygon fill=\"#FFFFFF\" points=\"133.86,209.35,113.9116,205.8773,120.9328,193.7652,133.86,209.35\" style=\"stroke: #383838; stroke-width: 1.0;\"/><ellipse cx=\"109.9832\" cy=\"201.2883\" fill=\"#383838\" rx=\"2\" ry=\"2\" style=\"stroke: #383838; stroke-width: 1.0;\"/><ellipse cx=\"114.9984\" cy=\"192.6368\" fill=\"#383838\" rx=\"2\" ry=\"2\" style=\"stroke: #383838; stroke-width: 1.0;\"/></a><!--MD5=[363c8d297afc991bc2efd1184fad89a5]\n",
       "@startuml\r\n",
       "left to right direction\r\n",
       "skinparam monochrome true\r\n",
       "skinparam classbackgroundcolor white\r\n",
       "skinparam shadowing false\r\n",
       "skinparam wrapWidth 300\r\n",
       "hide circle\r\n",
       "\r\n",
       "package \"PrivateImportTest\" as E1  [[psysml:fd8049a9-22d6-4d05-bbeb-ce76116dc6d9 ]]  {\r\n",
       "package \"P1\" as E2  [[psysml:b8db80a7-5996-4df4-9976-dc6864828b46 ]]  {\r\n",
       "comp def \"A\" as E3  <<(T,blue)part def>> [[psysml:06ccdf6b-7fde-40d2-9d83-7c71c3aaf391 ]] {\r\n",
       "}\r\n",
       "}\r\n",
       "package \"P2\" as E4  [[psysml:524b97f3-dd10-444b-a6f8-a87f295610fc ]]  {\r\n",
       "}\r\n",
       "comp usage \"x: A\" as E5  <<(T,blue)part>> [[psysml:79fb998f-896a-4642-b1f0-d66dfbec55d7 ]] {\r\n",
       "}\r\n",
       "package \"P3\" as E6  [[psysml:5bfd0c7b-a7f5-42f3-81fc-e346e4c74519 ]]  {\r\n",
       "comp def \"B\" as E7  <<(T,blue)part def>> [[psysml:e6b11995-178a-4abf-b303-bbf3be6d894d ]] {\r\n",
       "}\r\n",
       "E5 - -:|> E3 [[psysml:88440252-e8a6-408e-b428-64e589ea9f3d ]] \r\n",
       "}\r\n",
       "comp usage \"z: B\" as E8  <<(T,blue)part>> [[psysml:c8045a6d-f018-4e86-976c-73e06620aa4c ]] {\r\n",
       "}\r\n",
       "E8 - -:|> E7 [[psysml:a33b0610-5a8d-429b-bbd7-f981cc70bcb5 ]] \r\n",
       "}\r\n",
       "@enduml\r\n",
       "\n",
       "PlantUML version 1.2020.13(Sat Jun 13 12:26:38 UTC 2020)\n",
       "(EPL source distribution)\n",
       "Java Runtime: OpenJDK Runtime Environment\n",
       "JVM: OpenJDK 64-Bit Server VM\n",
       "Default Encoding: UTF-8\n",
       "Language: en\n",
       "Country: null\n",
       "--></g></svg>"
      ]
     },
     "execution_count": 17,
     "metadata": {},
     "output_type": "execute_result"
    }
   ],
   "source": [
    "%viz --style=\"LR\" --view=\"Tree\" \"PrivateImportTest\""
   ]
  },
  {
   "cell_type": "code",
   "execution_count": 18,
   "id": "outstanding-feature",
   "metadata": {
    "execution": {
     "iopub.execute_input": "2021-03-26T12:08:11.088761Z",
     "iopub.status.busy": "2021-03-26T12:08:11.088158Z",
     "iopub.status.idle": "2021-03-26T12:08:11.094114Z",
     "shell.execute_reply": "2021-03-26T12:08:11.094398Z"
    }
   },
   "outputs": [
    {
     "data": {
      "image/svg+xml": [
       "<?xml version=\"1.0\" encoding=\"UTF-8\" standalone=\"no\"?><svg xmlns=\"http://www.w3.org/2000/svg\" xmlns:xlink=\"http://www.w3.org/1999/xlink\" contentScriptType=\"application/ecmascript\" contentStyleType=\"text/css\" height=\"12px\" preserveAspectRatio=\"none\" style=\"width:12px;height:12px;\" version=\"1.1\" viewBox=\"0 0 12 12\" width=\"12px\" zoomAndPan=\"magnify\"><defs/><g><!--MD5=[19d285c9d72a204eba4e2cd117d745e8]\n",
       "@startuml\r\n",
       "left to right direction\r\n",
       "skinparam monochrome true\r\n",
       "skinparam classbackgroundcolor white\r\n",
       "skinparam shadowing false\r\n",
       "skinparam wrapWidth 300\r\n",
       "hide circle\r\n",
       "\r\n",
       "@enduml\r\n",
       "\n",
       "PlantUML version 1.2020.13(Sat Jun 13 12:26:38 UTC 2020)\n",
       "(EPL source distribution)\n",
       "Java Runtime: OpenJDK Runtime Environment\n",
       "JVM: OpenJDK 64-Bit Server VM\n",
       "Default Encoding: UTF-8\n",
       "Language: en\n",
       "Country: null\n",
       "--></g></svg>"
      ]
     },
     "execution_count": 18,
     "metadata": {},
     "output_type": "execute_result"
    }
   ],
   "source": [
    "%viz --style=\"LR\" --view=\"State\" \"PrivateImportTest\""
   ]
  },
  {
   "cell_type": "code",
   "execution_count": 19,
   "id": "egyptian-strand",
   "metadata": {
    "execution": {
     "iopub.execute_input": "2021-03-26T12:08:11.148490Z",
     "iopub.status.busy": "2021-03-26T12:08:11.147978Z",
     "iopub.status.idle": "2021-03-26T12:08:11.181714Z",
     "shell.execute_reply": "2021-03-26T12:08:11.181383Z"
    }
   },
   "outputs": [
    {
     "data": {
      "image/svg+xml": [
       "<?xml version=\"1.0\" encoding=\"UTF-8\" standalone=\"no\"?><svg xmlns=\"http://www.w3.org/2000/svg\" xmlns:xlink=\"http://www.w3.org/1999/xlink\" contentScriptType=\"application/ecmascript\" contentStyleType=\"text/css\" height=\"513px\" preserveAspectRatio=\"none\" style=\"width:195px;height:513px;\" version=\"1.1\" viewBox=\"0 0 195 513\" width=\"195px\" zoomAndPan=\"magnify\"><defs/><g><!--MD5=[fbc87193dbaf4d95561dea2c320d4a47]\n",
       "cluster E1--><a href=\"psysml:fd8049a9-22d6-4d05-bbeb-ce76116dc6d9\" target=\"_top\" title=\"psysml:fd8049a9-22d6-4d05-bbeb-ce76116dc6d9\" xlink:actuate=\"onRequest\" xlink:href=\"psysml:fd8049a9-22d6-4d05-bbeb-ce76116dc6d9\" xlink:show=\"new\" xlink:title=\"psysml:fd8049a9-22d6-4d05-bbeb-ce76116dc6d9\" xlink:type=\"simple\"><polygon fill=\"#FFFFFF\" points=\"16,6,163,6,170,28.2969,173,28.2969,173,501,16,501,16,6\" style=\"stroke: #000000; stroke-width: 1.5;\"/><line style=\"stroke: #000000; stroke-width: 1.5;\" x1=\"16\" x2=\"170\" y1=\"28.2969\" y2=\"28.2969\"/><text fill=\"#000000\" font-family=\"sans-serif\" font-size=\"14\" font-weight=\"bold\" lengthAdjust=\"spacingAndGlyphs\" textLength=\"141\" x=\"20\" y=\"20.9951\">PrivateImportTest</text></a><!--MD5=[e4f7fae6ed58524ba242bb0b0d3be6b7]\n",
       "cluster E2--><a href=\"psysml:b8db80a7-5996-4df4-9976-dc6864828b46\" target=\"_top\" title=\"psysml:b8db80a7-5996-4df4-9976-dc6864828b46\" xlink:actuate=\"onRequest\" xlink:href=\"psysml:b8db80a7-5996-4df4-9976-dc6864828b46\" xlink:show=\"new\" xlink:title=\"psysml:b8db80a7-5996-4df4-9976-dc6864828b46\" xlink:type=\"simple\"><polygon fill=\"#FFFFFF\" points=\"43,49,69,49,76,71.2969,146,71.2969,146,144,43,144,43,49\" style=\"stroke: #000000; stroke-width: 1.5;\"/><line style=\"stroke: #000000; stroke-width: 1.5;\" x1=\"43\" x2=\"76\" y1=\"71.2969\" y2=\"71.2969\"/><text fill=\"#000000\" font-family=\"sans-serif\" font-size=\"14\" font-weight=\"bold\" lengthAdjust=\"spacingAndGlyphs\" textLength=\"20\" x=\"47\" y=\"63.9951\">P1</text></a><!--MD5=[14e3b0961a2654348d326746436168a1]\n",
       "cluster E6--><a href=\"psysml:5bfd0c7b-a7f5-42f3-81fc-e346e4c74519\" target=\"_top\" title=\"psysml:5bfd0c7b-a7f5-42f3-81fc-e346e4c74519\" xlink:actuate=\"onRequest\" xlink:href=\"psysml:5bfd0c7b-a7f5-42f3-81fc-e346e4c74519\" xlink:show=\"new\" xlink:title=\"psysml:5bfd0c7b-a7f5-42f3-81fc-e346e4c74519\" xlink:type=\"simple\"><polygon fill=\"#FFFFFF\" points=\"43,168,69,168,76,190.2969,146,190.2969,146,263,43,263,43,168\" style=\"stroke: #000000; stroke-width: 1.5;\"/><line style=\"stroke: #000000; stroke-width: 1.5;\" x1=\"43\" x2=\"76\" y1=\"190.2969\" y2=\"190.2969\"/><text fill=\"#000000\" font-family=\"sans-serif\" font-size=\"14\" font-weight=\"bold\" lengthAdjust=\"spacingAndGlyphs\" textLength=\"20\" x=\"47\" y=\"182.9951\">P3</text></a><g id=\"E1.E2.E3\"><a href=\"psysml:06ccdf6b-7fde-40d2-9d83-7c71c3aaf391\" target=\"_top\" title=\"psysml:06ccdf6b-7fde-40d2-9d83-7c71c3aaf391\" xlink:actuate=\"onRequest\" xlink:href=\"psysml:06ccdf6b-7fde-40d2-9d83-7c71c3aaf391\" xlink:show=\"new\" xlink:title=\"psysml:06ccdf6b-7fde-40d2-9d83-7c71c3aaf391\" xlink:type=\"simple\"><rect fill=\"#FFFFFF\" height=\"42.9375\" id=\"E3\" style=\"stroke: #383838; stroke-width: 1.5;\" width=\"71\" x=\"59\" y=\"84.5\"/><rect fill=\"#F8F8F8\" height=\"37.9375\" style=\"stroke: #383838; stroke-width: 1.5;\" width=\"71\" x=\"59\" y=\"84.5\"/><text fill=\"#000000\" font-family=\"sans-serif\" font-size=\"12\" font-style=\"italic\" lengthAdjust=\"spacingAndGlyphs\" textLength=\"64\" x=\"62.5\" y=\"100.6387\">«part def»</text><text fill=\"#000000\" font-family=\"sans-serif\" font-size=\"12\" lengthAdjust=\"spacingAndGlyphs\" textLength=\"8\" x=\"90.5\" y=\"114.6074\">A</text></a></g><a href=\"psysml:524b97f3-dd10-444b-a6f8-a87f295610fc\" target=\"_top\" title=\"psysml:524b97f3-dd10-444b-a6f8-a87f295610fc\" xlink:actuate=\"onRequest\" xlink:href=\"psysml:524b97f3-dd10-444b-a6f8-a87f295610fc\" xlink:show=\"new\" xlink:title=\"psysml:524b97f3-dd10-444b-a6f8-a87f295610fc\" xlink:type=\"simple\"><polygon fill=\"#FFFFFF\" points=\"74.5,281.5,100.5,281.5,107.5,303.7969,114.5,303.7969,114.5,334.0938,74.5,334.0938,74.5,281.5\" style=\"stroke: #000000; stroke-width: 1.5;\"/><line style=\"stroke: #000000; stroke-width: 1.5;\" x1=\"74.5\" x2=\"107.5\" y1=\"303.7969\" y2=\"303.7969\"/><text fill=\"#000000\" font-family=\"sans-serif\" font-size=\"14\" font-weight=\"bold\" lengthAdjust=\"spacingAndGlyphs\" textLength=\"20\" x=\"78.5\" y=\"296.4951\">P2</text></a><g id=\"E1.E5\"><a href=\"psysml:79fb998f-896a-4642-b1f0-d66dfbec55d7\" target=\"_top\" title=\"psysml:79fb998f-896a-4642-b1f0-d66dfbec55d7\" xlink:actuate=\"onRequest\" xlink:href=\"psysml:79fb998f-896a-4642-b1f0-d66dfbec55d7\" xlink:show=\"new\" xlink:title=\"psysml:79fb998f-896a-4642-b1f0-d66dfbec55d7\" xlink:type=\"simple\"><rect fill=\"#FFFFFF\" height=\"40\" id=\"E5\" rx=\"10\" ry=\"10\" style=\"stroke: #383838; stroke-width: 1.5;\" width=\"50\" x=\"69.5\" y=\"370\"/><rect fill=\"#F8F8F8\" height=\"23.9688\" rx=\"10\" ry=\"10\" style=\"stroke: #F8F8F8; stroke-width: 1.5;\" width=\"50\" x=\"69.5\" y=\"370\"/><rect fill=\"#F8F8F8\" height=\"10\" style=\"stroke: #F8F8F8; stroke-width: 1.5;\" width=\"50\" x=\"69.5\" y=\"383.9688\"/><rect fill=\"none\" height=\"40\" id=\"E5\" rx=\"10\" ry=\"10\" style=\"stroke: #383838; stroke-width: 1.5;\" width=\"50\" x=\"69.5\" y=\"370\"/><text fill=\"#000000\" font-family=\"sans-serif\" font-size=\"12\" lengthAdjust=\"spacingAndGlyphs\" textLength=\"22\" x=\"83.5\" y=\"386.1387\">x: A</text></a></g><g id=\"E1.E6.E7\"><a href=\"psysml:e6b11995-178a-4abf-b303-bbf3be6d894d\" target=\"_top\" title=\"psysml:e6b11995-178a-4abf-b303-bbf3be6d894d\" xlink:actuate=\"onRequest\" xlink:href=\"psysml:e6b11995-178a-4abf-b303-bbf3be6d894d\" xlink:show=\"new\" xlink:title=\"psysml:e6b11995-178a-4abf-b303-bbf3be6d894d\" xlink:type=\"simple\"><rect fill=\"#FFFFFF\" height=\"42.9375\" id=\"E7\" style=\"stroke: #383838; stroke-width: 1.5;\" width=\"71\" x=\"59\" y=\"203.5\"/><rect fill=\"#F8F8F8\" height=\"37.9375\" style=\"stroke: #383838; stroke-width: 1.5;\" width=\"71\" x=\"59\" y=\"203.5\"/><text fill=\"#000000\" font-family=\"sans-serif\" font-size=\"12\" font-style=\"italic\" lengthAdjust=\"spacingAndGlyphs\" textLength=\"64\" x=\"62.5\" y=\"219.6387\">«part def»</text><text fill=\"#000000\" font-family=\"sans-serif\" font-size=\"12\" lengthAdjust=\"spacingAndGlyphs\" textLength=\"8\" x=\"90.5\" y=\"233.6074\">B</text></a></g><g id=\"E1.E8\"><a href=\"psysml:c8045a6d-f018-4e86-976c-73e06620aa4c\" target=\"_top\" title=\"psysml:c8045a6d-f018-4e86-976c-73e06620aa4c\" xlink:actuate=\"onRequest\" xlink:href=\"psysml:c8045a6d-f018-4e86-976c-73e06620aa4c\" xlink:show=\"new\" xlink:title=\"psysml:c8045a6d-f018-4e86-976c-73e06620aa4c\" xlink:type=\"simple\"><rect fill=\"#FFFFFF\" height=\"40\" id=\"E8\" rx=\"10\" ry=\"10\" style=\"stroke: #383838; stroke-width: 1.5;\" width=\"50\" x=\"69.5\" y=\"445\"/><rect fill=\"#F8F8F8\" height=\"23.9688\" rx=\"10\" ry=\"10\" style=\"stroke: #F8F8F8; stroke-width: 1.5;\" width=\"50\" x=\"69.5\" y=\"445\"/><rect fill=\"#F8F8F8\" height=\"10\" style=\"stroke: #F8F8F8; stroke-width: 1.5;\" width=\"50\" x=\"69.5\" y=\"458.9688\"/><rect fill=\"none\" height=\"40\" id=\"E8\" rx=\"10\" ry=\"10\" style=\"stroke: #383838; stroke-width: 1.5;\" width=\"50\" x=\"69.5\" y=\"445\"/><text fill=\"#000000\" font-family=\"sans-serif\" font-size=\"12\" lengthAdjust=\"spacingAndGlyphs\" textLength=\"21\" x=\"84\" y=\"461.1387\">z: B</text></a></g><!--MD5=[f86984626480b4b791c9e43fab7bad67]\n",
       "@startuml\r\n",
       "skinparam ranksep 8\r\n",
       "skinparam rectangle {\r\n",
       " backgroundColor<<block>> LightGreen\r\n",
       "}\r\n",
       "left to right direction\r\n",
       "skinparam monochrome true\r\n",
       "skinparam classbackgroundcolor white\r\n",
       "skinparam shadowing false\r\n",
       "skinparam wrapWidth 300\r\n",
       "hide circle\r\n",
       "\r\n",
       "package \"PrivateImportTest\" as E1  [[psysml:fd8049a9-22d6-4d05-bbeb-ce76116dc6d9 ]]  {\r\n",
       "package \"P1\" as E2  [[psysml:b8db80a7-5996-4df4-9976-dc6864828b46 ]]  {\r\n",
       "rec def \"A\" as E3  <<(T,blue)part def>> [[psysml:06ccdf6b-7fde-40d2-9d83-7c71c3aaf391 ]] {\r\n",
       "}\r\n",
       "}\r\n",
       "package \"P2\" as E4  [[psysml:524b97f3-dd10-444b-a6f8-a87f295610fc ]]  {\r\n",
       "}\r\n",
       "rec usage \"x: A\" as E5  [[psysml:79fb998f-896a-4642-b1f0-d66dfbec55d7 ]] {\r\n",
       "}\r\n",
       "package \"P3\" as E6  [[psysml:5bfd0c7b-a7f5-42f3-81fc-e346e4c74519 ]]  {\r\n",
       "rec def \"B\" as E7  <<(T,blue)part def>> [[psysml:e6b11995-178a-4abf-b303-bbf3be6d894d ]] {\r\n",
       "}\r\n",
       "}\r\n",
       "rec usage \"z: B\" as E8  [[psysml:c8045a6d-f018-4e86-976c-73e06620aa4c ]] {\r\n",
       "}\r\n",
       "}\r\n",
       "@enduml\r\n",
       "\n",
       "PlantUML version 1.2020.13(Sat Jun 13 12:26:38 UTC 2020)\n",
       "(EPL source distribution)\n",
       "Java Runtime: OpenJDK Runtime Environment\n",
       "JVM: OpenJDK 64-Bit Server VM\n",
       "Default Encoding: UTF-8\n",
       "Language: en\n",
       "Country: null\n",
       "--></g></svg>"
      ]
     },
     "execution_count": 19,
     "metadata": {},
     "output_type": "execute_result"
    }
   ],
   "source": [
    "%viz --style=\"LR\" --view=\"Interconnection\" \"PrivateImportTest\""
   ]
  },
  {
   "cell_type": "code",
   "execution_count": 20,
   "id": "curious-springfield",
   "metadata": {
    "execution": {
     "iopub.execute_input": "2021-03-26T12:08:11.232303Z",
     "iopub.status.busy": "2021-03-26T12:08:11.231844Z",
     "iopub.status.idle": "2021-03-26T12:08:11.237942Z",
     "shell.execute_reply": "2021-03-26T12:08:11.238351Z"
    }
   },
   "outputs": [
    {
     "data": {
      "image/svg+xml": [
       "<?xml version=\"1.0\" encoding=\"UTF-8\" standalone=\"no\"?><svg xmlns=\"http://www.w3.org/2000/svg\" xmlns:xlink=\"http://www.w3.org/1999/xlink\" contentScriptType=\"application/ecmascript\" contentStyleType=\"text/css\" height=\"12px\" preserveAspectRatio=\"none\" style=\"width:12px;height:12px;\" version=\"1.1\" viewBox=\"0 0 12 12\" width=\"12px\" zoomAndPan=\"magnify\"><defs/><g><!--MD5=[7aeb398939421629f6affaa4a1a7b125]\n",
       "@startuml\r\n",
       "skinparam ranksep 8\r\n",
       "left to right direction\r\n",
       "skinparam monochrome true\r\n",
       "skinparam classbackgroundcolor white\r\n",
       "skinparam shadowing false\r\n",
       "skinparam wrapWidth 300\r\n",
       "hide circle\r\n",
       "\r\n",
       "@enduml\r\n",
       "\n",
       "PlantUML version 1.2020.13(Sat Jun 13 12:26:38 UTC 2020)\n",
       "(EPL source distribution)\n",
       "Java Runtime: OpenJDK Runtime Environment\n",
       "JVM: OpenJDK 64-Bit Server VM\n",
       "Default Encoding: UTF-8\n",
       "Language: en\n",
       "Country: null\n",
       "--></g></svg>"
      ]
     },
     "execution_count": 20,
     "metadata": {},
     "output_type": "execute_result"
    }
   ],
   "source": [
    "%viz --style=\"LR\" --view=\"Action\" \"PrivateImportTest\""
   ]
  },
  {
   "cell_type": "code",
   "execution_count": 21,
   "id": "miniature-bhutan",
   "metadata": {
    "execution": {
     "iopub.execute_input": "2021-03-26T12:08:11.291169Z",
     "iopub.status.busy": "2021-03-26T12:08:11.290488Z",
     "iopub.status.idle": "2021-03-26T12:08:11.325262Z",
     "shell.execute_reply": "2021-03-26T12:08:11.324928Z"
    }
   },
   "outputs": [
    {
     "data": {
      "image/svg+xml": [
       "<?xml version=\"1.0\" encoding=\"UTF-8\" standalone=\"no\"?><svg xmlns=\"http://www.w3.org/2000/svg\" xmlns:xlink=\"http://www.w3.org/1999/xlink\" contentScriptType=\"application/ecmascript\" contentStyleType=\"text/css\" height=\"303px\" preserveAspectRatio=\"none\" style=\"width:262px;height:303px;\" version=\"1.1\" viewBox=\"0 0 262 303\" width=\"262px\" zoomAndPan=\"magnify\"><defs/><g><!--MD5=[fbc87193dbaf4d95561dea2c320d4a47]\n",
       "cluster E1--><a href=\"psysml:fd8049a9-22d6-4d05-bbeb-ce76116dc6d9\" target=\"_top\" title=\"psysml:fd8049a9-22d6-4d05-bbeb-ce76116dc6d9\" xlink:actuate=\"onRequest\" xlink:href=\"psysml:fd8049a9-22d6-4d05-bbeb-ce76116dc6d9\" xlink:show=\"new\" xlink:title=\"psysml:fd8049a9-22d6-4d05-bbeb-ce76116dc6d9\" xlink:type=\"simple\"><polygon fill=\"#FFFFFF\" points=\"16,6,163,6,170,28.2969,240,28.2969,240,291,16,291,16,6\" style=\"stroke: #000000; stroke-width: 1.5;\"/><line style=\"stroke: #000000; stroke-width: 1.5;\" x1=\"16\" x2=\"170\" y1=\"28.2969\" y2=\"28.2969\"/><text fill=\"#000000\" font-family=\"sans-serif\" font-size=\"14\" font-weight=\"bold\" lengthAdjust=\"spacingAndGlyphs\" textLength=\"141\" x=\"20\" y=\"20.9951\">PrivateImportTest</text></a><!--MD5=[e4f7fae6ed58524ba242bb0b0d3be6b7]\n",
       "cluster E2--><a href=\"psysml:b8db80a7-5996-4df4-9976-dc6864828b46\" target=\"_top\" title=\"psysml:b8db80a7-5996-4df4-9976-dc6864828b46\" xlink:actuate=\"onRequest\" xlink:href=\"psysml:b8db80a7-5996-4df4-9976-dc6864828b46\" xlink:show=\"new\" xlink:title=\"psysml:b8db80a7-5996-4df4-9976-dc6864828b46\" xlink:type=\"simple\"><polygon fill=\"#FFFFFF\" points=\"118,49,144,49,151,71.2969,216,71.2969,216,146,118,146,118,49\" style=\"stroke: #000000; stroke-width: 1.5;\"/><line style=\"stroke: #000000; stroke-width: 1.5;\" x1=\"118\" x2=\"151\" y1=\"71.2969\" y2=\"71.2969\"/><text fill=\"#000000\" font-family=\"sans-serif\" font-size=\"14\" font-weight=\"bold\" lengthAdjust=\"spacingAndGlyphs\" textLength=\"20\" x=\"122\" y=\"63.9951\">P1</text></a><!--MD5=[14e3b0961a2654348d326746436168a1]\n",
       "cluster E6--><a href=\"psysml:5bfd0c7b-a7f5-42f3-81fc-e346e4c74519\" target=\"_top\" title=\"psysml:5bfd0c7b-a7f5-42f3-81fc-e346e4c74519\" xlink:actuate=\"onRequest\" xlink:href=\"psysml:5bfd0c7b-a7f5-42f3-81fc-e346e4c74519\" xlink:show=\"new\" xlink:title=\"psysml:5bfd0c7b-a7f5-42f3-81fc-e346e4c74519\" xlink:type=\"simple\"><polygon fill=\"#FFFFFF\" points=\"118,170,144,170,151,192.2969,216,192.2969,216,267,118,267,118,170\" style=\"stroke: #000000; stroke-width: 1.5;\"/><line style=\"stroke: #000000; stroke-width: 1.5;\" x1=\"118\" x2=\"151\" y1=\"192.2969\" y2=\"192.2969\"/><text fill=\"#000000\" font-family=\"sans-serif\" font-size=\"14\" font-weight=\"bold\" lengthAdjust=\"spacingAndGlyphs\" textLength=\"20\" x=\"122\" y=\"184.9951\">P3</text></a><!--MD5=[270fce915f116d4de14055a7c1d9a0f3]\n",
       "class E5--><a href=\"psysml:79fb998f-896a-4642-b1f0-d66dfbec55d7\" target=\"_top\" title=\"psysml:79fb998f-896a-4642-b1f0-d66dfbec55d7\" xlink:actuate=\"onRequest\" xlink:href=\"psysml:79fb998f-896a-4642-b1f0-d66dfbec55d7\" xlink:show=\"new\" xlink:title=\"psysml:79fb998f-896a-4642-b1f0-d66dfbec55d7\" xlink:type=\"simple\"><rect fill=\"#FFFFFF\" height=\"45.9375\" id=\"E5\" rx=\"10\" ry=\"10\" style=\"stroke: #383838; stroke-width: 1.5;\" width=\"42\" x=\"32\" y=\"59\"/><text fill=\"#000000\" font-family=\"sans-serif\" font-size=\"12\" font-style=\"italic\" lengthAdjust=\"spacingAndGlyphs\" textLength=\"40\" x=\"33\" y=\"75.1387\">«part»</text><text fill=\"#000000\" font-family=\"sans-serif\" font-size=\"12\" lengthAdjust=\"spacingAndGlyphs\" textLength=\"22\" x=\"42\" y=\"89.1074\">x: A</text><line style=\"stroke: #383838; stroke-width: 1.5;\" x1=\"33\" x2=\"73\" y1=\"96.9375\" y2=\"96.9375\"/></a><!--MD5=[b9389687b975829384b498ac4b7476b2]\n",
       "class E8--><a href=\"psysml:c8045a6d-f018-4e86-976c-73e06620aa4c\" target=\"_top\" title=\"psysml:c8045a6d-f018-4e86-976c-73e06620aa4c\" xlink:actuate=\"onRequest\" xlink:href=\"psysml:c8045a6d-f018-4e86-976c-73e06620aa4c\" xlink:show=\"new\" xlink:title=\"psysml:c8045a6d-f018-4e86-976c-73e06620aa4c\" xlink:type=\"simple\"><rect fill=\"#FFFFFF\" height=\"45.9375\" id=\"E8\" rx=\"10\" ry=\"10\" style=\"stroke: #383838; stroke-width: 1.5;\" width=\"42\" x=\"32\" y=\"140\"/><text fill=\"#000000\" font-family=\"sans-serif\" font-size=\"12\" font-style=\"italic\" lengthAdjust=\"spacingAndGlyphs\" textLength=\"40\" x=\"33\" y=\"156.1387\">«part»</text><text fill=\"#000000\" font-family=\"sans-serif\" font-size=\"12\" lengthAdjust=\"spacingAndGlyphs\" textLength=\"21\" x=\"42.5\" y=\"170.1074\">z: B</text><line style=\"stroke: #383838; stroke-width: 1.5;\" x1=\"33\" x2=\"73\" y1=\"177.9375\" y2=\"177.9375\"/></a><!--MD5=[09b614a08d8cba4a07c9adeb5e0fee81]\n",
       "class E3--><a href=\"psysml:06ccdf6b-7fde-40d2-9d83-7c71c3aaf391\" target=\"_top\" title=\"psysml:06ccdf6b-7fde-40d2-9d83-7c71c3aaf391\" xlink:actuate=\"onRequest\" xlink:href=\"psysml:06ccdf6b-7fde-40d2-9d83-7c71c3aaf391\" xlink:show=\"new\" xlink:title=\"psysml:06ccdf6b-7fde-40d2-9d83-7c71c3aaf391\" xlink:type=\"simple\"><rect fill=\"#FFFFFF\" height=\"45.9375\" id=\"E3\" style=\"stroke: #383838; stroke-width: 1.5;\" width=\"66\" x=\"134\" y=\"84\"/><text fill=\"#000000\" font-family=\"sans-serif\" font-size=\"12\" font-style=\"italic\" lengthAdjust=\"spacingAndGlyphs\" textLength=\"64\" x=\"135\" y=\"100.1387\">«part def»</text><text fill=\"#000000\" font-family=\"sans-serif\" font-size=\"12\" lengthAdjust=\"spacingAndGlyphs\" textLength=\"8\" x=\"163\" y=\"114.1074\">A</text><line style=\"stroke: #383838; stroke-width: 1.5;\" x1=\"135\" x2=\"199\" y1=\"121.9375\" y2=\"121.9375\"/></a><a href=\"psysml:524b97f3-dd10-444b-a6f8-a87f295610fc\" target=\"_top\" title=\"psysml:524b97f3-dd10-444b-a6f8-a87f295610fc\" xlink:actuate=\"onRequest\" xlink:href=\"psysml:524b97f3-dd10-444b-a6f8-a87f295610fc\" xlink:show=\"new\" xlink:title=\"psysml:524b97f3-dd10-444b-a6f8-a87f295610fc\" xlink:type=\"simple\"><polygon fill=\"#FFFFFF\" points=\"33,221.5,59,221.5,66,243.7969,73,243.7969,73,274.0938,33,274.0938,33,221.5\" style=\"stroke: #000000; stroke-width: 1.5;\"/><line style=\"stroke: #000000; stroke-width: 1.5;\" x1=\"33\" x2=\"66\" y1=\"243.7969\" y2=\"243.7969\"/><text fill=\"#000000\" font-family=\"sans-serif\" font-size=\"14\" font-weight=\"bold\" lengthAdjust=\"spacingAndGlyphs\" textLength=\"20\" x=\"37\" y=\"236.4951\">P2</text></a><!--MD5=[2156ba9850f5573cc1fc38a6a4b2f02b]\n",
       "class E7--><a href=\"psysml:e6b11995-178a-4abf-b303-bbf3be6d894d\" target=\"_top\" title=\"psysml:e6b11995-178a-4abf-b303-bbf3be6d894d\" xlink:actuate=\"onRequest\" xlink:href=\"psysml:e6b11995-178a-4abf-b303-bbf3be6d894d\" xlink:show=\"new\" xlink:title=\"psysml:e6b11995-178a-4abf-b303-bbf3be6d894d\" xlink:type=\"simple\"><rect fill=\"#FFFFFF\" height=\"45.9375\" id=\"E7\" style=\"stroke: #383838; stroke-width: 1.5;\" width=\"66\" x=\"134\" y=\"205\"/><text fill=\"#000000\" font-family=\"sans-serif\" font-size=\"12\" font-style=\"italic\" lengthAdjust=\"spacingAndGlyphs\" textLength=\"64\" x=\"135\" y=\"221.1387\">«part def»</text><text fill=\"#000000\" font-family=\"sans-serif\" font-size=\"12\" lengthAdjust=\"spacingAndGlyphs\" textLength=\"8\" x=\"163\" y=\"235.1074\">B</text><line style=\"stroke: #383838; stroke-width: 1.5;\" x1=\"135\" x2=\"199\" y1=\"242.9375\" y2=\"242.9375\"/></a><!--MD5=[e9be52314489bd878ff4c7144b63c9e1]\n",
       "link E5 to E3--><a href=\"psysml:88440252-e8a6-408e-b428-64e589ea9f3d\" target=\"_top\" title=\"psysml:88440252-e8a6-408e-b428-64e589ea9f3d\" xlink:actuate=\"onRequest\" xlink:href=\"psysml:88440252-e8a6-408e-b428-64e589ea9f3d\" xlink:show=\"new\" xlink:title=\"psysml:88440252-e8a6-408e-b428-64e589ea9f3d\" xlink:type=\"simple\"><path d=\"M74.02,86.47 C85.31,88.99 99.99,92.27 114.29,95.46 \" fill=\"none\" id=\"E5-&gt;E3\" style=\"stroke: #383838; stroke-width: 1.0;\"/><polygon fill=\"#FFFFFF\" points=\"133.86,99.83,113.7912,102.5214,116.842,88.8579,133.86,99.83\" style=\"stroke: #383838; stroke-width: 1.0;\"/><ellipse cx=\"108.664\" cy=\"99.3274\" fill=\"#383838\" rx=\"2\" ry=\"2\" style=\"stroke: #383838; stroke-width: 1.0;\"/><ellipse cx=\"110.8432\" cy=\"89.5677\" fill=\"#383838\" rx=\"2\" ry=\"2\" style=\"stroke: #383838; stroke-width: 1.0;\"/></a><!--MD5=[bfa3c8b0d15052fdf50ae9310b491027]\n",
       "link E8 to E7--><a href=\"psysml:a33b0610-5a8d-429b-bbd7-f981cc70bcb5\" target=\"_top\" title=\"psysml:a33b0610-5a8d-429b-bbd7-f981cc70bcb5\" xlink:actuate=\"onRequest\" xlink:href=\"psysml:a33b0610-5a8d-429b-bbd7-f981cc70bcb5\" xlink:show=\"new\" xlink:title=\"psysml:a33b0610-5a8d-429b-bbd7-f981cc70bcb5\" xlink:type=\"simple\"><path d=\"M74.02,174.62 C85.83,181.47 101.34,190.48 116.26,199.13 \" fill=\"none\" id=\"E8-&gt;E7\" style=\"stroke: #383838; stroke-width: 1.0;\"/><polygon fill=\"#FFFFFF\" points=\"133.86,209.35,113.9116,205.8773,120.9328,193.7652,133.86,209.35\" style=\"stroke: #383838; stroke-width: 1.0;\"/><ellipse cx=\"109.9832\" cy=\"201.2883\" fill=\"#383838\" rx=\"2\" ry=\"2\" style=\"stroke: #383838; stroke-width: 1.0;\"/><ellipse cx=\"114.9984\" cy=\"192.6368\" fill=\"#383838\" rx=\"2\" ry=\"2\" style=\"stroke: #383838; stroke-width: 1.0;\"/></a><!--MD5=[363c8d297afc991bc2efd1184fad89a5]\n",
       "@startuml\r\n",
       "left to right direction\r\n",
       "skinparam monochrome true\r\n",
       "skinparam classbackgroundcolor white\r\n",
       "skinparam shadowing false\r\n",
       "skinparam wrapWidth 300\r\n",
       "hide circle\r\n",
       "\r\n",
       "package \"PrivateImportTest\" as E1  [[psysml:fd8049a9-22d6-4d05-bbeb-ce76116dc6d9 ]]  {\r\n",
       "package \"P1\" as E2  [[psysml:b8db80a7-5996-4df4-9976-dc6864828b46 ]]  {\r\n",
       "comp def \"A\" as E3  <<(T,blue)part def>> [[psysml:06ccdf6b-7fde-40d2-9d83-7c71c3aaf391 ]] {\r\n",
       "}\r\n",
       "}\r\n",
       "package \"P2\" as E4  [[psysml:524b97f3-dd10-444b-a6f8-a87f295610fc ]]  {\r\n",
       "}\r\n",
       "comp usage \"x: A\" as E5  <<(T,blue)part>> [[psysml:79fb998f-896a-4642-b1f0-d66dfbec55d7 ]] {\r\n",
       "}\r\n",
       "package \"P3\" as E6  [[psysml:5bfd0c7b-a7f5-42f3-81fc-e346e4c74519 ]]  {\r\n",
       "comp def \"B\" as E7  <<(T,blue)part def>> [[psysml:e6b11995-178a-4abf-b303-bbf3be6d894d ]] {\r\n",
       "}\r\n",
       "E5 - -:|> E3 [[psysml:88440252-e8a6-408e-b428-64e589ea9f3d ]] \r\n",
       "}\r\n",
       "comp usage \"z: B\" as E8  <<(T,blue)part>> [[psysml:c8045a6d-f018-4e86-976c-73e06620aa4c ]] {\r\n",
       "}\r\n",
       "E8 - -:|> E7 [[psysml:a33b0610-5a8d-429b-bbd7-f981cc70bcb5 ]] \r\n",
       "}\r\n",
       "@enduml\r\n",
       "\n",
       "PlantUML version 1.2020.13(Sat Jun 13 12:26:38 UTC 2020)\n",
       "(EPL source distribution)\n",
       "Java Runtime: OpenJDK Runtime Environment\n",
       "JVM: OpenJDK 64-Bit Server VM\n",
       "Default Encoding: UTF-8\n",
       "Language: en\n",
       "Country: null\n",
       "--></g></svg>"
      ]
     },
     "execution_count": 21,
     "metadata": {},
     "output_type": "execute_result"
    }
   ],
   "source": [
    "%viz --style=\"LR\" --view=\"Sequence\" \"PrivateImportTest\""
   ]
  },
  {
   "cell_type": "code",
   "execution_count": 22,
   "id": "standing-recommendation",
   "metadata": {
    "execution": {
     "iopub.execute_input": "2021-03-26T12:08:11.376550Z",
     "iopub.status.busy": "2021-03-26T12:08:11.376130Z",
     "iopub.status.idle": "2021-03-26T12:08:11.412818Z",
     "shell.execute_reply": "2021-03-26T12:08:11.411922Z"
    }
   },
   "outputs": [
    {
     "data": {
      "image/svg+xml": [
       "<?xml version=\"1.0\" encoding=\"UTF-8\" standalone=\"no\"?><svg xmlns=\"http://www.w3.org/2000/svg\" xmlns:xlink=\"http://www.w3.org/1999/xlink\" contentScriptType=\"application/ecmascript\" contentStyleType=\"text/css\" height=\"303px\" preserveAspectRatio=\"none\" style=\"width:262px;height:303px;\" version=\"1.1\" viewBox=\"0 0 262 303\" width=\"262px\" zoomAndPan=\"magnify\"><defs/><g><!--MD5=[fbc87193dbaf4d95561dea2c320d4a47]\n",
       "cluster E1--><a href=\"psysml:fd8049a9-22d6-4d05-bbeb-ce76116dc6d9\" target=\"_top\" title=\"psysml:fd8049a9-22d6-4d05-bbeb-ce76116dc6d9\" xlink:actuate=\"onRequest\" xlink:href=\"psysml:fd8049a9-22d6-4d05-bbeb-ce76116dc6d9\" xlink:show=\"new\" xlink:title=\"psysml:fd8049a9-22d6-4d05-bbeb-ce76116dc6d9\" xlink:type=\"simple\"><polygon fill=\"#FFFFFF\" points=\"16,6,163,6,170,28.2969,240,28.2969,240,291,16,291,16,6\" style=\"stroke: #000000; stroke-width: 1.5;\"/><line style=\"stroke: #000000; stroke-width: 1.5;\" x1=\"16\" x2=\"170\" y1=\"28.2969\" y2=\"28.2969\"/><text fill=\"#000000\" font-family=\"sans-serif\" font-size=\"14\" font-weight=\"bold\" lengthAdjust=\"spacingAndGlyphs\" textLength=\"141\" x=\"20\" y=\"20.9951\">PrivateImportTest</text></a><!--MD5=[e4f7fae6ed58524ba242bb0b0d3be6b7]\n",
       "cluster E2--><a href=\"psysml:b8db80a7-5996-4df4-9976-dc6864828b46\" target=\"_top\" title=\"psysml:b8db80a7-5996-4df4-9976-dc6864828b46\" xlink:actuate=\"onRequest\" xlink:href=\"psysml:b8db80a7-5996-4df4-9976-dc6864828b46\" xlink:show=\"new\" xlink:title=\"psysml:b8db80a7-5996-4df4-9976-dc6864828b46\" xlink:type=\"simple\"><polygon fill=\"#FFFFFF\" points=\"118,49,144,49,151,71.2969,216,71.2969,216,146,118,146,118,49\" style=\"stroke: #000000; stroke-width: 1.5;\"/><line style=\"stroke: #000000; stroke-width: 1.5;\" x1=\"118\" x2=\"151\" y1=\"71.2969\" y2=\"71.2969\"/><text fill=\"#000000\" font-family=\"sans-serif\" font-size=\"14\" font-weight=\"bold\" lengthAdjust=\"spacingAndGlyphs\" textLength=\"20\" x=\"122\" y=\"63.9951\">P1</text></a><!--MD5=[14e3b0961a2654348d326746436168a1]\n",
       "cluster E6--><a href=\"psysml:5bfd0c7b-a7f5-42f3-81fc-e346e4c74519\" target=\"_top\" title=\"psysml:5bfd0c7b-a7f5-42f3-81fc-e346e4c74519\" xlink:actuate=\"onRequest\" xlink:href=\"psysml:5bfd0c7b-a7f5-42f3-81fc-e346e4c74519\" xlink:show=\"new\" xlink:title=\"psysml:5bfd0c7b-a7f5-42f3-81fc-e346e4c74519\" xlink:type=\"simple\"><polygon fill=\"#FFFFFF\" points=\"118,170,144,170,151,192.2969,216,192.2969,216,267,118,267,118,170\" style=\"stroke: #000000; stroke-width: 1.5;\"/><line style=\"stroke: #000000; stroke-width: 1.5;\" x1=\"118\" x2=\"151\" y1=\"192.2969\" y2=\"192.2969\"/><text fill=\"#000000\" font-family=\"sans-serif\" font-size=\"14\" font-weight=\"bold\" lengthAdjust=\"spacingAndGlyphs\" textLength=\"20\" x=\"122\" y=\"184.9951\">P3</text></a><!--MD5=[270fce915f116d4de14055a7c1d9a0f3]\n",
       "class E5--><a href=\"psysml:79fb998f-896a-4642-b1f0-d66dfbec55d7\" target=\"_top\" title=\"psysml:79fb998f-896a-4642-b1f0-d66dfbec55d7\" xlink:actuate=\"onRequest\" xlink:href=\"psysml:79fb998f-896a-4642-b1f0-d66dfbec55d7\" xlink:show=\"new\" xlink:title=\"psysml:79fb998f-896a-4642-b1f0-d66dfbec55d7\" xlink:type=\"simple\"><rect fill=\"#FFFFFF\" height=\"45.9375\" id=\"E5\" rx=\"10\" ry=\"10\" style=\"stroke: #383838; stroke-width: 1.5;\" width=\"42\" x=\"32\" y=\"59\"/><text fill=\"#000000\" font-family=\"sans-serif\" font-size=\"12\" font-style=\"italic\" lengthAdjust=\"spacingAndGlyphs\" textLength=\"40\" x=\"33\" y=\"75.1387\">«part»</text><text fill=\"#000000\" font-family=\"sans-serif\" font-size=\"12\" lengthAdjust=\"spacingAndGlyphs\" textLength=\"22\" x=\"42\" y=\"89.1074\">x: A</text><line style=\"stroke: #383838; stroke-width: 1.5;\" x1=\"33\" x2=\"73\" y1=\"96.9375\" y2=\"96.9375\"/></a><!--MD5=[b9389687b975829384b498ac4b7476b2]\n",
       "class E8--><a href=\"psysml:c8045a6d-f018-4e86-976c-73e06620aa4c\" target=\"_top\" title=\"psysml:c8045a6d-f018-4e86-976c-73e06620aa4c\" xlink:actuate=\"onRequest\" xlink:href=\"psysml:c8045a6d-f018-4e86-976c-73e06620aa4c\" xlink:show=\"new\" xlink:title=\"psysml:c8045a6d-f018-4e86-976c-73e06620aa4c\" xlink:type=\"simple\"><rect fill=\"#FFFFFF\" height=\"45.9375\" id=\"E8\" rx=\"10\" ry=\"10\" style=\"stroke: #383838; stroke-width: 1.5;\" width=\"42\" x=\"32\" y=\"140\"/><text fill=\"#000000\" font-family=\"sans-serif\" font-size=\"12\" font-style=\"italic\" lengthAdjust=\"spacingAndGlyphs\" textLength=\"40\" x=\"33\" y=\"156.1387\">«part»</text><text fill=\"#000000\" font-family=\"sans-serif\" font-size=\"12\" lengthAdjust=\"spacingAndGlyphs\" textLength=\"21\" x=\"42.5\" y=\"170.1074\">z: B</text><line style=\"stroke: #383838; stroke-width: 1.5;\" x1=\"33\" x2=\"73\" y1=\"177.9375\" y2=\"177.9375\"/></a><!--MD5=[09b614a08d8cba4a07c9adeb5e0fee81]\n",
       "class E3--><a href=\"psysml:06ccdf6b-7fde-40d2-9d83-7c71c3aaf391\" target=\"_top\" title=\"psysml:06ccdf6b-7fde-40d2-9d83-7c71c3aaf391\" xlink:actuate=\"onRequest\" xlink:href=\"psysml:06ccdf6b-7fde-40d2-9d83-7c71c3aaf391\" xlink:show=\"new\" xlink:title=\"psysml:06ccdf6b-7fde-40d2-9d83-7c71c3aaf391\" xlink:type=\"simple\"><rect fill=\"#FFFFFF\" height=\"45.9375\" id=\"E3\" style=\"stroke: #383838; stroke-width: 1.5;\" width=\"66\" x=\"134\" y=\"84\"/><text fill=\"#000000\" font-family=\"sans-serif\" font-size=\"12\" font-style=\"italic\" lengthAdjust=\"spacingAndGlyphs\" textLength=\"64\" x=\"135\" y=\"100.1387\">«part def»</text><text fill=\"#000000\" font-family=\"sans-serif\" font-size=\"12\" lengthAdjust=\"spacingAndGlyphs\" textLength=\"8\" x=\"163\" y=\"114.1074\">A</text><line style=\"stroke: #383838; stroke-width: 1.5;\" x1=\"135\" x2=\"199\" y1=\"121.9375\" y2=\"121.9375\"/></a><a href=\"psysml:524b97f3-dd10-444b-a6f8-a87f295610fc\" target=\"_top\" title=\"psysml:524b97f3-dd10-444b-a6f8-a87f295610fc\" xlink:actuate=\"onRequest\" xlink:href=\"psysml:524b97f3-dd10-444b-a6f8-a87f295610fc\" xlink:show=\"new\" xlink:title=\"psysml:524b97f3-dd10-444b-a6f8-a87f295610fc\" xlink:type=\"simple\"><polygon fill=\"#FFFFFF\" points=\"33,221.5,59,221.5,66,243.7969,73,243.7969,73,274.0938,33,274.0938,33,221.5\" style=\"stroke: #000000; stroke-width: 1.5;\"/><line style=\"stroke: #000000; stroke-width: 1.5;\" x1=\"33\" x2=\"66\" y1=\"243.7969\" y2=\"243.7969\"/><text fill=\"#000000\" font-family=\"sans-serif\" font-size=\"14\" font-weight=\"bold\" lengthAdjust=\"spacingAndGlyphs\" textLength=\"20\" x=\"37\" y=\"236.4951\">P2</text></a><!--MD5=[2156ba9850f5573cc1fc38a6a4b2f02b]\n",
       "class E7--><a href=\"psysml:e6b11995-178a-4abf-b303-bbf3be6d894d\" target=\"_top\" title=\"psysml:e6b11995-178a-4abf-b303-bbf3be6d894d\" xlink:actuate=\"onRequest\" xlink:href=\"psysml:e6b11995-178a-4abf-b303-bbf3be6d894d\" xlink:show=\"new\" xlink:title=\"psysml:e6b11995-178a-4abf-b303-bbf3be6d894d\" xlink:type=\"simple\"><rect fill=\"#FFFFFF\" height=\"45.9375\" id=\"E7\" style=\"stroke: #383838; stroke-width: 1.5;\" width=\"66\" x=\"134\" y=\"205\"/><text fill=\"#000000\" font-family=\"sans-serif\" font-size=\"12\" font-style=\"italic\" lengthAdjust=\"spacingAndGlyphs\" textLength=\"64\" x=\"135\" y=\"221.1387\">«part def»</text><text fill=\"#000000\" font-family=\"sans-serif\" font-size=\"12\" lengthAdjust=\"spacingAndGlyphs\" textLength=\"8\" x=\"163\" y=\"235.1074\">B</text><line style=\"stroke: #383838; stroke-width: 1.5;\" x1=\"135\" x2=\"199\" y1=\"242.9375\" y2=\"242.9375\"/></a><!--MD5=[e9be52314489bd878ff4c7144b63c9e1]\n",
       "link E5 to E3--><a href=\"psysml:88440252-e8a6-408e-b428-64e589ea9f3d\" target=\"_top\" title=\"psysml:88440252-e8a6-408e-b428-64e589ea9f3d\" xlink:actuate=\"onRequest\" xlink:href=\"psysml:88440252-e8a6-408e-b428-64e589ea9f3d\" xlink:show=\"new\" xlink:title=\"psysml:88440252-e8a6-408e-b428-64e589ea9f3d\" xlink:type=\"simple\"><path d=\"M74.02,86.47 C85.31,88.99 99.99,92.27 114.29,95.46 \" fill=\"none\" id=\"E5-&gt;E3\" style=\"stroke: #383838; stroke-width: 1.0;\"/><polygon fill=\"#FFFFFF\" points=\"133.86,99.83,113.7912,102.5214,116.842,88.8579,133.86,99.83\" style=\"stroke: #383838; stroke-width: 1.0;\"/><ellipse cx=\"108.664\" cy=\"99.3274\" fill=\"#383838\" rx=\"2\" ry=\"2\" style=\"stroke: #383838; stroke-width: 1.0;\"/><ellipse cx=\"110.8432\" cy=\"89.5677\" fill=\"#383838\" rx=\"2\" ry=\"2\" style=\"stroke: #383838; stroke-width: 1.0;\"/></a><!--MD5=[bfa3c8b0d15052fdf50ae9310b491027]\n",
       "link E8 to E7--><a href=\"psysml:a33b0610-5a8d-429b-bbd7-f981cc70bcb5\" target=\"_top\" title=\"psysml:a33b0610-5a8d-429b-bbd7-f981cc70bcb5\" xlink:actuate=\"onRequest\" xlink:href=\"psysml:a33b0610-5a8d-429b-bbd7-f981cc70bcb5\" xlink:show=\"new\" xlink:title=\"psysml:a33b0610-5a8d-429b-bbd7-f981cc70bcb5\" xlink:type=\"simple\"><path d=\"M74.02,174.62 C85.83,181.47 101.34,190.48 116.26,199.13 \" fill=\"none\" id=\"E8-&gt;E7\" style=\"stroke: #383838; stroke-width: 1.0;\"/><polygon fill=\"#FFFFFF\" points=\"133.86,209.35,113.9116,205.8773,120.9328,193.7652,133.86,209.35\" style=\"stroke: #383838; stroke-width: 1.0;\"/><ellipse cx=\"109.9832\" cy=\"201.2883\" fill=\"#383838\" rx=\"2\" ry=\"2\" style=\"stroke: #383838; stroke-width: 1.0;\"/><ellipse cx=\"114.9984\" cy=\"192.6368\" fill=\"#383838\" rx=\"2\" ry=\"2\" style=\"stroke: #383838; stroke-width: 1.0;\"/></a><!--MD5=[363c8d297afc991bc2efd1184fad89a5]\n",
       "@startuml\r\n",
       "left to right direction\r\n",
       "skinparam monochrome true\r\n",
       "skinparam classbackgroundcolor white\r\n",
       "skinparam shadowing false\r\n",
       "skinparam wrapWidth 300\r\n",
       "hide circle\r\n",
       "\r\n",
       "package \"PrivateImportTest\" as E1  [[psysml:fd8049a9-22d6-4d05-bbeb-ce76116dc6d9 ]]  {\r\n",
       "package \"P1\" as E2  [[psysml:b8db80a7-5996-4df4-9976-dc6864828b46 ]]  {\r\n",
       "comp def \"A\" as E3  <<(T,blue)part def>> [[psysml:06ccdf6b-7fde-40d2-9d83-7c71c3aaf391 ]] {\r\n",
       "}\r\n",
       "}\r\n",
       "package \"P2\" as E4  [[psysml:524b97f3-dd10-444b-a6f8-a87f295610fc ]]  {\r\n",
       "}\r\n",
       "comp usage \"x: A\" as E5  <<(T,blue)part>> [[psysml:79fb998f-896a-4642-b1f0-d66dfbec55d7 ]] {\r\n",
       "}\r\n",
       "package \"P3\" as E6  [[psysml:5bfd0c7b-a7f5-42f3-81fc-e346e4c74519 ]]  {\r\n",
       "comp def \"B\" as E7  <<(T,blue)part def>> [[psysml:e6b11995-178a-4abf-b303-bbf3be6d894d ]] {\r\n",
       "}\r\n",
       "E5 - -:|> E3 [[psysml:88440252-e8a6-408e-b428-64e589ea9f3d ]] \r\n",
       "}\r\n",
       "comp usage \"z: B\" as E8  <<(T,blue)part>> [[psysml:c8045a6d-f018-4e86-976c-73e06620aa4c ]] {\r\n",
       "}\r\n",
       "E8 - -:|> E7 [[psysml:a33b0610-5a8d-429b-bbd7-f981cc70bcb5 ]] \r\n",
       "}\r\n",
       "@enduml\r\n",
       "\n",
       "PlantUML version 1.2020.13(Sat Jun 13 12:26:38 UTC 2020)\n",
       "(EPL source distribution)\n",
       "Java Runtime: OpenJDK Runtime Environment\n",
       "JVM: OpenJDK 64-Bit Server VM\n",
       "Default Encoding: UTF-8\n",
       "Language: en\n",
       "Country: null\n",
       "--></g></svg>"
      ]
     },
     "execution_count": 22,
     "metadata": {},
     "output_type": "execute_result"
    }
   ],
   "source": [
    "%viz --style=\"LR\" --view=\"MIXED\" \"PrivateImportTest\""
   ]
  },
  {
   "cell_type": "code",
   "execution_count": 23,
   "id": "confused-begin",
   "metadata": {
    "execution": {
     "iopub.execute_input": "2021-03-26T12:08:11.469566Z",
     "iopub.status.busy": "2021-03-26T12:08:11.466789Z",
     "iopub.status.idle": "2021-03-26T12:08:11.504571Z",
     "shell.execute_reply": "2021-03-26T12:08:11.503350Z"
    }
   },
   "outputs": [
    {
     "data": {
      "image/svg+xml": [
       "<?xml version=\"1.0\" encoding=\"UTF-8\" standalone=\"no\"?><svg xmlns=\"http://www.w3.org/2000/svg\" xmlns:xlink=\"http://www.w3.org/1999/xlink\" contentScriptType=\"application/ecmascript\" contentStyleType=\"text/css\" height=\"252px\" preserveAspectRatio=\"none\" style=\"width:306px;height:252px;\" version=\"1.1\" viewBox=\"0 0 306 252\" width=\"306px\" zoomAndPan=\"magnify\"><defs><filter height=\"300%\" id=\"fmtvtziwrb0w1\" width=\"300%\" x=\"-1\" y=\"-1\"><feGaussianBlur result=\"blurOut\" stdDeviation=\"2.0\"/><feColorMatrix in=\"blurOut\" result=\"blurOut2\" type=\"matrix\" values=\"0 0 0 0 0 0 0 0 0 0 0 0 0 0 0 0 0 0 .4 0\"/><feOffset dx=\"4.0\" dy=\"4.0\" in=\"blurOut2\" result=\"blurOut3\"/><feBlend in=\"SourceGraphic\" in2=\"blurOut3\" mode=\"normal\"/></filter></defs><g><!--MD5=[fbc87193dbaf4d95561dea2c320d4a47]\n",
       "cluster E1--><a href=\"psysml:fd8049a9-22d6-4d05-bbeb-ce76116dc6d9\" target=\"_top\" title=\"psysml:fd8049a9-22d6-4d05-bbeb-ce76116dc6d9\" xlink:actuate=\"onRequest\" xlink:href=\"psysml:fd8049a9-22d6-4d05-bbeb-ce76116dc6d9\" xlink:show=\"new\" xlink:title=\"psysml:fd8049a9-22d6-4d05-bbeb-ce76116dc6d9\" xlink:type=\"simple\"><polygon fill=\"#FFFFFF\" filter=\"url(#fmtvtziwrb0w1)\" points=\"16,6,163,6,170,28.2969,284,28.2969,284,240,16,240,16,6\" style=\"stroke: #000000; stroke-width: 1.5;\"/><line style=\"stroke: #000000; stroke-width: 1.5;\" x1=\"16\" x2=\"170\" y1=\"28.2969\" y2=\"28.2969\"/><text fill=\"#000000\" font-family=\"sans-serif\" font-size=\"14\" font-weight=\"bold\" lengthAdjust=\"spacingAndGlyphs\" textLength=\"141\" x=\"20\" y=\"20.9951\">PrivateImportTest</text></a><!--MD5=[e4f7fae6ed58524ba242bb0b0d3be6b7]\n",
       "cluster E2--><a href=\"psysml:b8db80a7-5996-4df4-9976-dc6864828b46\" target=\"_top\" title=\"psysml:b8db80a7-5996-4df4-9976-dc6864828b46\" xlink:actuate=\"onRequest\" xlink:href=\"psysml:b8db80a7-5996-4df4-9976-dc6864828b46\" xlink:show=\"new\" xlink:title=\"psysml:b8db80a7-5996-4df4-9976-dc6864828b46\" xlink:type=\"simple\"><polygon fill=\"#FFFFFF\" filter=\"url(#fmtvtziwrb0w1)\" points=\"162,119,188,119,195,141.2969,260,141.2969,260,216,162,216,162,119\" style=\"stroke: #000000; stroke-width: 1.5;\"/><line style=\"stroke: #000000; stroke-width: 1.5;\" x1=\"162\" x2=\"195\" y1=\"141.2969\" y2=\"141.2969\"/><text fill=\"#000000\" font-family=\"sans-serif\" font-size=\"14\" font-weight=\"bold\" lengthAdjust=\"spacingAndGlyphs\" textLength=\"20\" x=\"166\" y=\"133.9951\">P1</text></a><!--MD5=[14e3b0961a2654348d326746436168a1]\n",
       "cluster E6--><a href=\"psysml:5bfd0c7b-a7f5-42f3-81fc-e346e4c74519\" target=\"_top\" title=\"psysml:5bfd0c7b-a7f5-42f3-81fc-e346e4c74519\" xlink:actuate=\"onRequest\" xlink:href=\"psysml:5bfd0c7b-a7f5-42f3-81fc-e346e4c74519\" xlink:show=\"new\" xlink:title=\"psysml:5bfd0c7b-a7f5-42f3-81fc-e346e4c74519\" xlink:type=\"simple\"><polygon fill=\"#FFFFFF\" filter=\"url(#fmtvtziwrb0w1)\" points=\"40,119,66,119,73,141.2969,138,141.2969,138,216,40,216,40,119\" style=\"stroke: #000000; stroke-width: 1.5;\"/><line style=\"stroke: #000000; stroke-width: 1.5;\" x1=\"40\" x2=\"73\" y1=\"141.2969\" y2=\"141.2969\"/><text fill=\"#000000\" font-family=\"sans-serif\" font-size=\"14\" font-weight=\"bold\" lengthAdjust=\"spacingAndGlyphs\" textLength=\"20\" x=\"44\" y=\"133.9951\">P3</text></a><!--MD5=[270fce915f116d4de14055a7c1d9a0f3]\n",
       "class E5--><a href=\"psysml:79fb998f-896a-4642-b1f0-d66dfbec55d7\" target=\"_top\" title=\"psysml:79fb998f-896a-4642-b1f0-d66dfbec55d7\" xlink:actuate=\"onRequest\" xlink:href=\"psysml:79fb998f-896a-4642-b1f0-d66dfbec55d7\" xlink:show=\"new\" xlink:title=\"psysml:79fb998f-896a-4642-b1f0-d66dfbec55d7\" xlink:type=\"simple\"><rect fill=\"#FEFECE\" filter=\"url(#fmtvtziwrb0w1)\" height=\"45.9375\" id=\"E5\" rx=\"10\" ry=\"10\" style=\"stroke: #A80036; stroke-width: 1.5;\" width=\"42\" x=\"190\" y=\"44.5\"/><text fill=\"#000000\" font-family=\"sans-serif\" font-size=\"12\" font-style=\"italic\" lengthAdjust=\"spacingAndGlyphs\" textLength=\"40\" x=\"191\" y=\"60.6387\">«part»</text><text fill=\"#000000\" font-family=\"sans-serif\" font-size=\"12\" lengthAdjust=\"spacingAndGlyphs\" textLength=\"22\" x=\"200\" y=\"74.6074\">x: A</text><line style=\"stroke: #A80036; stroke-width: 1.5;\" x1=\"191\" x2=\"231\" y1=\"82.4375\" y2=\"82.4375\"/></a><!--MD5=[b9389687b975829384b498ac4b7476b2]\n",
       "class E8--><a href=\"psysml:c8045a6d-f018-4e86-976c-73e06620aa4c\" target=\"_top\" title=\"psysml:c8045a6d-f018-4e86-976c-73e06620aa4c\" xlink:actuate=\"onRequest\" xlink:href=\"psysml:c8045a6d-f018-4e86-976c-73e06620aa4c\" xlink:show=\"new\" xlink:title=\"psysml:c8045a6d-f018-4e86-976c-73e06620aa4c\" xlink:type=\"simple\"><rect fill=\"#FEFECE\" filter=\"url(#fmtvtziwrb0w1)\" height=\"45.9375\" id=\"E8\" rx=\"10\" ry=\"10\" style=\"stroke: #A80036; stroke-width: 1.5;\" width=\"42\" x=\"107\" y=\"44.5\"/><text fill=\"#000000\" font-family=\"sans-serif\" font-size=\"12\" font-style=\"italic\" lengthAdjust=\"spacingAndGlyphs\" textLength=\"40\" x=\"108\" y=\"60.6387\">«part»</text><text fill=\"#000000\" font-family=\"sans-serif\" font-size=\"12\" lengthAdjust=\"spacingAndGlyphs\" textLength=\"21\" x=\"117.5\" y=\"74.6074\">z: B</text><line style=\"stroke: #A80036; stroke-width: 1.5;\" x1=\"108\" x2=\"148\" y1=\"82.4375\" y2=\"82.4375\"/></a><!--MD5=[09b614a08d8cba4a07c9adeb5e0fee81]\n",
       "class E3--><a href=\"psysml:06ccdf6b-7fde-40d2-9d83-7c71c3aaf391\" target=\"_top\" title=\"psysml:06ccdf6b-7fde-40d2-9d83-7c71c3aaf391\" xlink:actuate=\"onRequest\" xlink:href=\"psysml:06ccdf6b-7fde-40d2-9d83-7c71c3aaf391\" xlink:show=\"new\" xlink:title=\"psysml:06ccdf6b-7fde-40d2-9d83-7c71c3aaf391\" xlink:type=\"simple\"><rect fill=\"#FEFECE\" filter=\"url(#fmtvtziwrb0w1)\" height=\"45.9375\" id=\"E3\" style=\"stroke: #A80036; stroke-width: 1.5;\" width=\"66\" x=\"178\" y=\"154\"/><text fill=\"#000000\" font-family=\"sans-serif\" font-size=\"12\" font-style=\"italic\" lengthAdjust=\"spacingAndGlyphs\" textLength=\"64\" x=\"179\" y=\"170.1387\">«part def»</text><text fill=\"#000000\" font-family=\"sans-serif\" font-size=\"12\" lengthAdjust=\"spacingAndGlyphs\" textLength=\"8\" x=\"207\" y=\"184.1074\">A</text><line style=\"stroke: #A80036; stroke-width: 1.5;\" x1=\"179\" x2=\"243\" y1=\"191.9375\" y2=\"191.9375\"/></a><a href=\"psysml:524b97f3-dd10-444b-a6f8-a87f295610fc\" target=\"_top\" title=\"psysml:524b97f3-dd10-444b-a6f8-a87f295610fc\" xlink:actuate=\"onRequest\" xlink:href=\"psysml:524b97f3-dd10-444b-a6f8-a87f295610fc\" xlink:show=\"new\" xlink:title=\"psysml:524b97f3-dd10-444b-a6f8-a87f295610fc\" xlink:type=\"simple\"><polygon fill=\"#FFFFFF\" filter=\"url(#fmtvtziwrb0w1)\" points=\"32,41,58,41,65,63.2969,72,63.2969,72,93.5938,32,93.5938,32,41\" style=\"stroke: #000000; stroke-width: 1.5;\"/><line style=\"stroke: #000000; stroke-width: 1.5;\" x1=\"32\" x2=\"65\" y1=\"63.2969\" y2=\"63.2969\"/><text fill=\"#000000\" font-family=\"sans-serif\" font-size=\"14\" font-weight=\"bold\" lengthAdjust=\"spacingAndGlyphs\" textLength=\"20\" x=\"36\" y=\"55.9951\">P2</text></a><!--MD5=[2156ba9850f5573cc1fc38a6a4b2f02b]\n",
       "class E7--><a href=\"psysml:e6b11995-178a-4abf-b303-bbf3be6d894d\" target=\"_top\" title=\"psysml:e6b11995-178a-4abf-b303-bbf3be6d894d\" xlink:actuate=\"onRequest\" xlink:href=\"psysml:e6b11995-178a-4abf-b303-bbf3be6d894d\" xlink:show=\"new\" xlink:title=\"psysml:e6b11995-178a-4abf-b303-bbf3be6d894d\" xlink:type=\"simple\"><rect fill=\"#FEFECE\" filter=\"url(#fmtvtziwrb0w1)\" height=\"45.9375\" id=\"E7\" style=\"stroke: #A80036; stroke-width: 1.5;\" width=\"66\" x=\"56\" y=\"154\"/><text fill=\"#000000\" font-family=\"sans-serif\" font-size=\"12\" font-style=\"italic\" lengthAdjust=\"spacingAndGlyphs\" textLength=\"64\" x=\"57\" y=\"170.1387\">«part def»</text><text fill=\"#000000\" font-family=\"sans-serif\" font-size=\"12\" lengthAdjust=\"spacingAndGlyphs\" textLength=\"8\" x=\"85\" y=\"184.1074\">B</text><line style=\"stroke: #A80036; stroke-width: 1.5;\" x1=\"57\" x2=\"121\" y1=\"191.9375\" y2=\"191.9375\"/></a><!--MD5=[e9be52314489bd878ff4c7144b63c9e1]\n",
       "link E5 to E3--><a href=\"psysml:88440252-e8a6-408e-b428-64e589ea9f3d\" target=\"_top\" title=\"psysml:88440252-e8a6-408e-b428-64e589ea9f3d\" xlink:actuate=\"onRequest\" xlink:href=\"psysml:88440252-e8a6-408e-b428-64e589ea9f3d\" xlink:show=\"new\" xlink:title=\"psysml:88440252-e8a6-408e-b428-64e589ea9f3d\" xlink:type=\"simple\"><path d=\"M211,90.51 C211,102.89 211,118.78 211,133.48 \" fill=\"none\" id=\"E5-&gt;E3\" style=\"stroke: #A80036; stroke-width: 1.0;\"/><polygon fill=\"#FFFFFF\" points=\"211,153.65,204,134.65,218,134.65,211,153.65\" style=\"stroke: #A80036; stroke-width: 1.0;\"/><ellipse cx=\"206\" cy=\"128.95\" fill=\"#A80036\" rx=\"2\" ry=\"2\" style=\"stroke: #A80036; stroke-width: 1.0;\"/><ellipse cx=\"216\" cy=\"128.95\" fill=\"#A80036\" rx=\"2\" ry=\"2\" style=\"stroke: #A80036; stroke-width: 1.0;\"/></a><!--MD5=[bfa3c8b0d15052fdf50ae9310b491027]\n",
       "link E8 to E7--><a href=\"psysml:a33b0610-5a8d-429b-bbd7-f981cc70bcb5\" target=\"_top\" title=\"psysml:a33b0610-5a8d-429b-bbd7-f981cc70bcb5\" xlink:actuate=\"onRequest\" xlink:href=\"psysml:a33b0610-5a8d-429b-bbd7-f981cc70bcb5\" xlink:show=\"new\" xlink:title=\"psysml:a33b0610-5a8d-429b-bbd7-f981cc70bcb5\" xlink:type=\"simple\"><path d=\"M120.01,90.51 C115.39,103.25 109.42,119.7 103.96,134.76 \" fill=\"none\" id=\"E8-&gt;E7\" style=\"stroke: #A80036; stroke-width: 1.0;\"/><polygon fill=\"#FFFFFF\" points=\"97.11,153.65,97.0036,133.4018,110.1656,138.1726,97.11,153.65\" style=\"stroke: #A80036; stroke-width: 1.0;\"/><ellipse cx=\"100.8262\" cy=\"128.7245\" fill=\"#A80036\" rx=\"2\" ry=\"2\" style=\"stroke: #A80036; stroke-width: 1.0;\"/><ellipse cx=\"110.2277\" cy=\"132.1322\" fill=\"#A80036\" rx=\"2\" ry=\"2\" style=\"stroke: #A80036; stroke-width: 1.0;\"/></a><!--MD5=[a66d624436cb2f84170a4f3c3d54318a]\n",
       "@startuml\r\n",
       "skinparam wrapWidth 300\r\n",
       "hide circle\r\n",
       "\r\n",
       "package \"PrivateImportTest\" as E1  [[psysml:fd8049a9-22d6-4d05-bbeb-ce76116dc6d9 ]]  {\r\n",
       "package \"P1\" as E2  [[psysml:b8db80a7-5996-4df4-9976-dc6864828b46 ]]  {\r\n",
       "comp def \"A\" as E3  <<(T,blue)part def>> [[psysml:06ccdf6b-7fde-40d2-9d83-7c71c3aaf391 ]] {\r\n",
       "}\r\n",
       "}\r\n",
       "package \"P2\" as E4  [[psysml:524b97f3-dd10-444b-a6f8-a87f295610fc ]]  {\r\n",
       "}\r\n",
       "comp usage \"x: A\" as E5  <<(T,blue)part>> [[psysml:79fb998f-896a-4642-b1f0-d66dfbec55d7 ]] {\r\n",
       "}\r\n",
       "package \"P3\" as E6  [[psysml:5bfd0c7b-a7f5-42f3-81fc-e346e4c74519 ]]  {\r\n",
       "comp def \"B\" as E7  <<(T,blue)part def>> [[psysml:e6b11995-178a-4abf-b303-bbf3be6d894d ]] {\r\n",
       "}\r\n",
       "E5 - -:|> E3 [[psysml:88440252-e8a6-408e-b428-64e589ea9f3d ]] \r\n",
       "}\r\n",
       "comp usage \"z: B\" as E8  <<(T,blue)part>> [[psysml:c8045a6d-f018-4e86-976c-73e06620aa4c ]] {\r\n",
       "}\r\n",
       "E8 - -:|> E7 [[psysml:a33b0610-5a8d-429b-bbd7-f981cc70bcb5 ]] \r\n",
       "}\r\n",
       "@enduml\r\n",
       "\n",
       "PlantUML version 1.2020.13(Sat Jun 13 12:26:38 UTC 2020)\n",
       "(EPL source distribution)\n",
       "Java Runtime: OpenJDK Runtime Environment\n",
       "JVM: OpenJDK 64-Bit Server VM\n",
       "Default Encoding: UTF-8\n",
       "Language: en\n",
       "Country: null\n",
       "--></g></svg>"
      ]
     },
     "execution_count": 23,
     "metadata": {},
     "output_type": "execute_result"
    }
   ],
   "source": [
    "%viz --style=\"STDCOLOR\" --view=\"Default\" \"PrivateImportTest\""
   ]
  },
  {
   "cell_type": "code",
   "execution_count": 24,
   "id": "associate-portfolio",
   "metadata": {
    "execution": {
     "iopub.execute_input": "2021-03-26T12:08:11.555579Z",
     "iopub.status.busy": "2021-03-26T12:08:11.555076Z",
     "iopub.status.idle": "2021-03-26T12:08:11.593102Z",
     "shell.execute_reply": "2021-03-26T12:08:11.592729Z"
    }
   },
   "outputs": [
    {
     "data": {
      "image/svg+xml": [
       "<?xml version=\"1.0\" encoding=\"UTF-8\" standalone=\"no\"?><svg xmlns=\"http://www.w3.org/2000/svg\" xmlns:xlink=\"http://www.w3.org/1999/xlink\" contentScriptType=\"application/ecmascript\" contentStyleType=\"text/css\" height=\"252px\" preserveAspectRatio=\"none\" style=\"width:306px;height:252px;\" version=\"1.1\" viewBox=\"0 0 306 252\" width=\"306px\" zoomAndPan=\"magnify\"><defs><filter height=\"300%\" id=\"fmtvtziwrb0w1\" width=\"300%\" x=\"-1\" y=\"-1\"><feGaussianBlur result=\"blurOut\" stdDeviation=\"2.0\"/><feColorMatrix in=\"blurOut\" result=\"blurOut2\" type=\"matrix\" values=\"0 0 0 0 0 0 0 0 0 0 0 0 0 0 0 0 0 0 .4 0\"/><feOffset dx=\"4.0\" dy=\"4.0\" in=\"blurOut2\" result=\"blurOut3\"/><feBlend in=\"SourceGraphic\" in2=\"blurOut3\" mode=\"normal\"/></filter></defs><g><!--MD5=[fbc87193dbaf4d95561dea2c320d4a47]\n",
       "cluster E1--><a href=\"psysml:fd8049a9-22d6-4d05-bbeb-ce76116dc6d9\" target=\"_top\" title=\"psysml:fd8049a9-22d6-4d05-bbeb-ce76116dc6d9\" xlink:actuate=\"onRequest\" xlink:href=\"psysml:fd8049a9-22d6-4d05-bbeb-ce76116dc6d9\" xlink:show=\"new\" xlink:title=\"psysml:fd8049a9-22d6-4d05-bbeb-ce76116dc6d9\" xlink:type=\"simple\"><polygon fill=\"#FFFFFF\" filter=\"url(#fmtvtziwrb0w1)\" points=\"16,6,163,6,170,28.2969,284,28.2969,284,240,16,240,16,6\" style=\"stroke: #000000; stroke-width: 1.5;\"/><line style=\"stroke: #000000; stroke-width: 1.5;\" x1=\"16\" x2=\"170\" y1=\"28.2969\" y2=\"28.2969\"/><text fill=\"#000000\" font-family=\"sans-serif\" font-size=\"14\" font-weight=\"bold\" lengthAdjust=\"spacingAndGlyphs\" textLength=\"141\" x=\"20\" y=\"20.9951\">PrivateImportTest</text></a><!--MD5=[e4f7fae6ed58524ba242bb0b0d3be6b7]\n",
       "cluster E2--><a href=\"psysml:b8db80a7-5996-4df4-9976-dc6864828b46\" target=\"_top\" title=\"psysml:b8db80a7-5996-4df4-9976-dc6864828b46\" xlink:actuate=\"onRequest\" xlink:href=\"psysml:b8db80a7-5996-4df4-9976-dc6864828b46\" xlink:show=\"new\" xlink:title=\"psysml:b8db80a7-5996-4df4-9976-dc6864828b46\" xlink:type=\"simple\"><polygon fill=\"#FFFFFF\" filter=\"url(#fmtvtziwrb0w1)\" points=\"162,119,188,119,195,141.2969,260,141.2969,260,216,162,216,162,119\" style=\"stroke: #000000; stroke-width: 1.5;\"/><line style=\"stroke: #000000; stroke-width: 1.5;\" x1=\"162\" x2=\"195\" y1=\"141.2969\" y2=\"141.2969\"/><text fill=\"#000000\" font-family=\"sans-serif\" font-size=\"14\" font-weight=\"bold\" lengthAdjust=\"spacingAndGlyphs\" textLength=\"20\" x=\"166\" y=\"133.9951\">P1</text></a><!--MD5=[14e3b0961a2654348d326746436168a1]\n",
       "cluster E6--><a href=\"psysml:5bfd0c7b-a7f5-42f3-81fc-e346e4c74519\" target=\"_top\" title=\"psysml:5bfd0c7b-a7f5-42f3-81fc-e346e4c74519\" xlink:actuate=\"onRequest\" xlink:href=\"psysml:5bfd0c7b-a7f5-42f3-81fc-e346e4c74519\" xlink:show=\"new\" xlink:title=\"psysml:5bfd0c7b-a7f5-42f3-81fc-e346e4c74519\" xlink:type=\"simple\"><polygon fill=\"#FFFFFF\" filter=\"url(#fmtvtziwrb0w1)\" points=\"40,119,66,119,73,141.2969,138,141.2969,138,216,40,216,40,119\" style=\"stroke: #000000; stroke-width: 1.5;\"/><line style=\"stroke: #000000; stroke-width: 1.5;\" x1=\"40\" x2=\"73\" y1=\"141.2969\" y2=\"141.2969\"/><text fill=\"#000000\" font-family=\"sans-serif\" font-size=\"14\" font-weight=\"bold\" lengthAdjust=\"spacingAndGlyphs\" textLength=\"20\" x=\"44\" y=\"133.9951\">P3</text></a><!--MD5=[270fce915f116d4de14055a7c1d9a0f3]\n",
       "class E5--><a href=\"psysml:79fb998f-896a-4642-b1f0-d66dfbec55d7\" target=\"_top\" title=\"psysml:79fb998f-896a-4642-b1f0-d66dfbec55d7\" xlink:actuate=\"onRequest\" xlink:href=\"psysml:79fb998f-896a-4642-b1f0-d66dfbec55d7\" xlink:show=\"new\" xlink:title=\"psysml:79fb998f-896a-4642-b1f0-d66dfbec55d7\" xlink:type=\"simple\"><rect fill=\"#FEFECE\" filter=\"url(#fmtvtziwrb0w1)\" height=\"45.9375\" id=\"E5\" rx=\"10\" ry=\"10\" style=\"stroke: #A80036; stroke-width: 1.5;\" width=\"42\" x=\"190\" y=\"44.5\"/><text fill=\"#000000\" font-family=\"sans-serif\" font-size=\"12\" font-style=\"italic\" lengthAdjust=\"spacingAndGlyphs\" textLength=\"40\" x=\"191\" y=\"60.6387\">«part»</text><text fill=\"#000000\" font-family=\"sans-serif\" font-size=\"12\" lengthAdjust=\"spacingAndGlyphs\" textLength=\"22\" x=\"200\" y=\"74.6074\">x: A</text><line style=\"stroke: #A80036; stroke-width: 1.5;\" x1=\"191\" x2=\"231\" y1=\"82.4375\" y2=\"82.4375\"/></a><!--MD5=[b9389687b975829384b498ac4b7476b2]\n",
       "class E8--><a href=\"psysml:c8045a6d-f018-4e86-976c-73e06620aa4c\" target=\"_top\" title=\"psysml:c8045a6d-f018-4e86-976c-73e06620aa4c\" xlink:actuate=\"onRequest\" xlink:href=\"psysml:c8045a6d-f018-4e86-976c-73e06620aa4c\" xlink:show=\"new\" xlink:title=\"psysml:c8045a6d-f018-4e86-976c-73e06620aa4c\" xlink:type=\"simple\"><rect fill=\"#FEFECE\" filter=\"url(#fmtvtziwrb0w1)\" height=\"45.9375\" id=\"E8\" rx=\"10\" ry=\"10\" style=\"stroke: #A80036; stroke-width: 1.5;\" width=\"42\" x=\"107\" y=\"44.5\"/><text fill=\"#000000\" font-family=\"sans-serif\" font-size=\"12\" font-style=\"italic\" lengthAdjust=\"spacingAndGlyphs\" textLength=\"40\" x=\"108\" y=\"60.6387\">«part»</text><text fill=\"#000000\" font-family=\"sans-serif\" font-size=\"12\" lengthAdjust=\"spacingAndGlyphs\" textLength=\"21\" x=\"117.5\" y=\"74.6074\">z: B</text><line style=\"stroke: #A80036; stroke-width: 1.5;\" x1=\"108\" x2=\"148\" y1=\"82.4375\" y2=\"82.4375\"/></a><!--MD5=[09b614a08d8cba4a07c9adeb5e0fee81]\n",
       "class E3--><a href=\"psysml:06ccdf6b-7fde-40d2-9d83-7c71c3aaf391\" target=\"_top\" title=\"psysml:06ccdf6b-7fde-40d2-9d83-7c71c3aaf391\" xlink:actuate=\"onRequest\" xlink:href=\"psysml:06ccdf6b-7fde-40d2-9d83-7c71c3aaf391\" xlink:show=\"new\" xlink:title=\"psysml:06ccdf6b-7fde-40d2-9d83-7c71c3aaf391\" xlink:type=\"simple\"><rect fill=\"#FEFECE\" filter=\"url(#fmtvtziwrb0w1)\" height=\"45.9375\" id=\"E3\" style=\"stroke: #A80036; stroke-width: 1.5;\" width=\"66\" x=\"178\" y=\"154\"/><text fill=\"#000000\" font-family=\"sans-serif\" font-size=\"12\" font-style=\"italic\" lengthAdjust=\"spacingAndGlyphs\" textLength=\"64\" x=\"179\" y=\"170.1387\">«part def»</text><text fill=\"#000000\" font-family=\"sans-serif\" font-size=\"12\" lengthAdjust=\"spacingAndGlyphs\" textLength=\"8\" x=\"207\" y=\"184.1074\">A</text><line style=\"stroke: #A80036; stroke-width: 1.5;\" x1=\"179\" x2=\"243\" y1=\"191.9375\" y2=\"191.9375\"/></a><a href=\"psysml:524b97f3-dd10-444b-a6f8-a87f295610fc\" target=\"_top\" title=\"psysml:524b97f3-dd10-444b-a6f8-a87f295610fc\" xlink:actuate=\"onRequest\" xlink:href=\"psysml:524b97f3-dd10-444b-a6f8-a87f295610fc\" xlink:show=\"new\" xlink:title=\"psysml:524b97f3-dd10-444b-a6f8-a87f295610fc\" xlink:type=\"simple\"><polygon fill=\"#FFFFFF\" filter=\"url(#fmtvtziwrb0w1)\" points=\"32,41,58,41,65,63.2969,72,63.2969,72,93.5938,32,93.5938,32,41\" style=\"stroke: #000000; stroke-width: 1.5;\"/><line style=\"stroke: #000000; stroke-width: 1.5;\" x1=\"32\" x2=\"65\" y1=\"63.2969\" y2=\"63.2969\"/><text fill=\"#000000\" font-family=\"sans-serif\" font-size=\"14\" font-weight=\"bold\" lengthAdjust=\"spacingAndGlyphs\" textLength=\"20\" x=\"36\" y=\"55.9951\">P2</text></a><!--MD5=[2156ba9850f5573cc1fc38a6a4b2f02b]\n",
       "class E7--><a href=\"psysml:e6b11995-178a-4abf-b303-bbf3be6d894d\" target=\"_top\" title=\"psysml:e6b11995-178a-4abf-b303-bbf3be6d894d\" xlink:actuate=\"onRequest\" xlink:href=\"psysml:e6b11995-178a-4abf-b303-bbf3be6d894d\" xlink:show=\"new\" xlink:title=\"psysml:e6b11995-178a-4abf-b303-bbf3be6d894d\" xlink:type=\"simple\"><rect fill=\"#FEFECE\" filter=\"url(#fmtvtziwrb0w1)\" height=\"45.9375\" id=\"E7\" style=\"stroke: #A80036; stroke-width: 1.5;\" width=\"66\" x=\"56\" y=\"154\"/><text fill=\"#000000\" font-family=\"sans-serif\" font-size=\"12\" font-style=\"italic\" lengthAdjust=\"spacingAndGlyphs\" textLength=\"64\" x=\"57\" y=\"170.1387\">«part def»</text><text fill=\"#000000\" font-family=\"sans-serif\" font-size=\"12\" lengthAdjust=\"spacingAndGlyphs\" textLength=\"8\" x=\"85\" y=\"184.1074\">B</text><line style=\"stroke: #A80036; stroke-width: 1.5;\" x1=\"57\" x2=\"121\" y1=\"191.9375\" y2=\"191.9375\"/></a><!--MD5=[e9be52314489bd878ff4c7144b63c9e1]\n",
       "link E5 to E3--><a href=\"psysml:88440252-e8a6-408e-b428-64e589ea9f3d\" target=\"_top\" title=\"psysml:88440252-e8a6-408e-b428-64e589ea9f3d\" xlink:actuate=\"onRequest\" xlink:href=\"psysml:88440252-e8a6-408e-b428-64e589ea9f3d\" xlink:show=\"new\" xlink:title=\"psysml:88440252-e8a6-408e-b428-64e589ea9f3d\" xlink:type=\"simple\"><path d=\"M211,90.51 C211,102.89 211,118.78 211,133.48 \" fill=\"none\" id=\"E5-&gt;E3\" style=\"stroke: #A80036; stroke-width: 1.0;\"/><polygon fill=\"#FFFFFF\" points=\"211,153.65,204,134.65,218,134.65,211,153.65\" style=\"stroke: #A80036; stroke-width: 1.0;\"/><ellipse cx=\"206\" cy=\"128.95\" fill=\"#A80036\" rx=\"2\" ry=\"2\" style=\"stroke: #A80036; stroke-width: 1.0;\"/><ellipse cx=\"216\" cy=\"128.95\" fill=\"#A80036\" rx=\"2\" ry=\"2\" style=\"stroke: #A80036; stroke-width: 1.0;\"/></a><!--MD5=[bfa3c8b0d15052fdf50ae9310b491027]\n",
       "link E8 to E7--><a href=\"psysml:a33b0610-5a8d-429b-bbd7-f981cc70bcb5\" target=\"_top\" title=\"psysml:a33b0610-5a8d-429b-bbd7-f981cc70bcb5\" xlink:actuate=\"onRequest\" xlink:href=\"psysml:a33b0610-5a8d-429b-bbd7-f981cc70bcb5\" xlink:show=\"new\" xlink:title=\"psysml:a33b0610-5a8d-429b-bbd7-f981cc70bcb5\" xlink:type=\"simple\"><path d=\"M120.01,90.51 C115.39,103.25 109.42,119.7 103.96,134.76 \" fill=\"none\" id=\"E8-&gt;E7\" style=\"stroke: #A80036; stroke-width: 1.0;\"/><polygon fill=\"#FFFFFF\" points=\"97.11,153.65,97.0036,133.4018,110.1656,138.1726,97.11,153.65\" style=\"stroke: #A80036; stroke-width: 1.0;\"/><ellipse cx=\"100.8262\" cy=\"128.7245\" fill=\"#A80036\" rx=\"2\" ry=\"2\" style=\"stroke: #A80036; stroke-width: 1.0;\"/><ellipse cx=\"110.2277\" cy=\"132.1322\" fill=\"#A80036\" rx=\"2\" ry=\"2\" style=\"stroke: #A80036; stroke-width: 1.0;\"/></a><!--MD5=[a66d624436cb2f84170a4f3c3d54318a]\n",
       "@startuml\r\n",
       "skinparam wrapWidth 300\r\n",
       "hide circle\r\n",
       "\r\n",
       "package \"PrivateImportTest\" as E1  [[psysml:fd8049a9-22d6-4d05-bbeb-ce76116dc6d9 ]]  {\r\n",
       "package \"P1\" as E2  [[psysml:b8db80a7-5996-4df4-9976-dc6864828b46 ]]  {\r\n",
       "comp def \"A\" as E3  <<(T,blue)part def>> [[psysml:06ccdf6b-7fde-40d2-9d83-7c71c3aaf391 ]] {\r\n",
       "}\r\n",
       "}\r\n",
       "package \"P2\" as E4  [[psysml:524b97f3-dd10-444b-a6f8-a87f295610fc ]]  {\r\n",
       "}\r\n",
       "comp usage \"x: A\" as E5  <<(T,blue)part>> [[psysml:79fb998f-896a-4642-b1f0-d66dfbec55d7 ]] {\r\n",
       "}\r\n",
       "package \"P3\" as E6  [[psysml:5bfd0c7b-a7f5-42f3-81fc-e346e4c74519 ]]  {\r\n",
       "comp def \"B\" as E7  <<(T,blue)part def>> [[psysml:e6b11995-178a-4abf-b303-bbf3be6d894d ]] {\r\n",
       "}\r\n",
       "E5 - -:|> E3 [[psysml:88440252-e8a6-408e-b428-64e589ea9f3d ]] \r\n",
       "}\r\n",
       "comp usage \"z: B\" as E8  <<(T,blue)part>> [[psysml:c8045a6d-f018-4e86-976c-73e06620aa4c ]] {\r\n",
       "}\r\n",
       "E8 - -:|> E7 [[psysml:a33b0610-5a8d-429b-bbd7-f981cc70bcb5 ]] \r\n",
       "}\r\n",
       "@enduml\r\n",
       "\n",
       "PlantUML version 1.2020.13(Sat Jun 13 12:26:38 UTC 2020)\n",
       "(EPL source distribution)\n",
       "Java Runtime: OpenJDK Runtime Environment\n",
       "JVM: OpenJDK 64-Bit Server VM\n",
       "Default Encoding: UTF-8\n",
       "Language: en\n",
       "Country: null\n",
       "--></g></svg>"
      ]
     },
     "execution_count": 24,
     "metadata": {},
     "output_type": "execute_result"
    }
   ],
   "source": [
    "%viz --style=\"STDCOLOR\" --view=\"Tree\" \"PrivateImportTest\""
   ]
  },
  {
   "cell_type": "code",
   "execution_count": 25,
   "id": "simple-piano",
   "metadata": {
    "execution": {
     "iopub.execute_input": "2021-03-26T12:08:11.644609Z",
     "iopub.status.busy": "2021-03-26T12:08:11.644252Z",
     "iopub.status.idle": "2021-03-26T12:08:11.649414Z",
     "shell.execute_reply": "2021-03-26T12:08:11.649724Z"
    }
   },
   "outputs": [
    {
     "data": {
      "image/svg+xml": [
       "<?xml version=\"1.0\" encoding=\"UTF-8\" standalone=\"no\"?><svg xmlns=\"http://www.w3.org/2000/svg\" xmlns:xlink=\"http://www.w3.org/1999/xlink\" contentScriptType=\"application/ecmascript\" contentStyleType=\"text/css\" height=\"12px\" preserveAspectRatio=\"none\" style=\"width:12px;height:12px;\" version=\"1.1\" viewBox=\"0 0 12 12\" width=\"12px\" zoomAndPan=\"magnify\"><defs/><g><!--MD5=[aeeef50f102b80d730deb6443d14f702]\n",
       "@startuml\r\n",
       "skinparam wrapWidth 300\r\n",
       "hide circle\r\n",
       "\r\n",
       "@enduml\r\n",
       "\n",
       "PlantUML version 1.2020.13(Sat Jun 13 12:26:38 UTC 2020)\n",
       "(EPL source distribution)\n",
       "Java Runtime: OpenJDK Runtime Environment\n",
       "JVM: OpenJDK 64-Bit Server VM\n",
       "Default Encoding: UTF-8\n",
       "Language: en\n",
       "Country: null\n",
       "--></g></svg>"
      ]
     },
     "execution_count": 25,
     "metadata": {},
     "output_type": "execute_result"
    }
   ],
   "source": [
    "%viz --style=\"STDCOLOR\" --view=\"State\" \"PrivateImportTest\""
   ]
  },
  {
   "cell_type": "code",
   "execution_count": 26,
   "id": "close-start",
   "metadata": {
    "execution": {
     "iopub.execute_input": "2021-03-26T12:08:11.702704Z",
     "iopub.status.busy": "2021-03-26T12:08:11.701698Z",
     "iopub.status.idle": "2021-03-26T12:08:11.731725Z",
     "shell.execute_reply": "2021-03-26T12:08:11.730530Z"
    }
   },
   "outputs": [
    {
     "data": {
      "image/svg+xml": [
       "<?xml version=\"1.0\" encoding=\"UTF-8\" standalone=\"no\"?><svg xmlns=\"http://www.w3.org/2000/svg\" xmlns:xlink=\"http://www.w3.org/1999/xlink\" contentScriptType=\"application/ecmascript\" contentStyleType=\"text/css\" height=\"179px\" preserveAspectRatio=\"none\" style=\"width:539px;height:179px;\" version=\"1.1\" viewBox=\"0 0 539 179\" width=\"539px\" zoomAndPan=\"magnify\"><defs><filter height=\"300%\" id=\"fxtv6p09m8lzg\" width=\"300%\" x=\"-1\" y=\"-1\"><feGaussianBlur result=\"blurOut\" stdDeviation=\"2.0\"/><feColorMatrix in=\"blurOut\" result=\"blurOut2\" type=\"matrix\" values=\"0 0 0 0 0 0 0 0 0 0 0 0 0 0 0 0 0 0 .4 0\"/><feOffset dx=\"4.0\" dy=\"4.0\" in=\"blurOut2\" result=\"blurOut3\"/><feBlend in=\"SourceGraphic\" in2=\"blurOut3\" mode=\"normal\"/></filter></defs><g><!--MD5=[fbc87193dbaf4d95561dea2c320d4a47]\n",
       "cluster E1--><a href=\"psysml:fd8049a9-22d6-4d05-bbeb-ce76116dc6d9\" target=\"_top\" title=\"psysml:fd8049a9-22d6-4d05-bbeb-ce76116dc6d9\" xlink:actuate=\"onRequest\" xlink:href=\"psysml:fd8049a9-22d6-4d05-bbeb-ce76116dc6d9\" xlink:show=\"new\" xlink:title=\"psysml:fd8049a9-22d6-4d05-bbeb-ce76116dc6d9\" xlink:type=\"simple\"><polygon fill=\"#FFFFFF\" filter=\"url(#fxtv6p09m8lzg)\" points=\"16,6,163,6,170,28.2969,517,28.2969,517,167,16,167,16,6\" style=\"stroke: #000000; stroke-width: 1.5;\"/><line style=\"stroke: #000000; stroke-width: 1.5;\" x1=\"16\" x2=\"170\" y1=\"28.2969\" y2=\"28.2969\"/><text fill=\"#000000\" font-family=\"sans-serif\" font-size=\"14\" font-weight=\"bold\" lengthAdjust=\"spacingAndGlyphs\" textLength=\"141\" x=\"20\" y=\"20.9951\">PrivateImportTest</text></a><!--MD5=[e4f7fae6ed58524ba242bb0b0d3be6b7]\n",
       "cluster E2--><a href=\"psysml:b8db80a7-5996-4df4-9976-dc6864828b46\" target=\"_top\" title=\"psysml:b8db80a7-5996-4df4-9976-dc6864828b46\" xlink:actuate=\"onRequest\" xlink:href=\"psysml:b8db80a7-5996-4df4-9976-dc6864828b46\" xlink:show=\"new\" xlink:title=\"psysml:b8db80a7-5996-4df4-9976-dc6864828b46\" xlink:type=\"simple\"><polygon fill=\"#FFFFFF\" filter=\"url(#fxtv6p09m8lzg)\" points=\"389,49,415,49,422,71.2969,493,71.2969,493,143,389,143,389,49\" style=\"stroke: #000000; stroke-width: 1.5;\"/><line style=\"stroke: #000000; stroke-width: 1.5;\" x1=\"389\" x2=\"422\" y1=\"71.2969\" y2=\"71.2969\"/><text fill=\"#000000\" font-family=\"sans-serif\" font-size=\"14\" font-weight=\"bold\" lengthAdjust=\"spacingAndGlyphs\" textLength=\"20\" x=\"393\" y=\"63.9951\">P1</text></a><!--MD5=[14e3b0961a2654348d326746436168a1]\n",
       "cluster E6--><a href=\"psysml:5bfd0c7b-a7f5-42f3-81fc-e346e4c74519\" target=\"_top\" title=\"psysml:5bfd0c7b-a7f5-42f3-81fc-e346e4c74519\" xlink:actuate=\"onRequest\" xlink:href=\"psysml:5bfd0c7b-a7f5-42f3-81fc-e346e4c74519\" xlink:show=\"new\" xlink:title=\"psysml:5bfd0c7b-a7f5-42f3-81fc-e346e4c74519\" xlink:type=\"simple\"><polygon fill=\"#FFFFFF\" filter=\"url(#fxtv6p09m8lzg)\" points=\"261,49,287,49,294,71.2969,365,71.2969,365,143,261,143,261,49\" style=\"stroke: #000000; stroke-width: 1.5;\"/><line style=\"stroke: #000000; stroke-width: 1.5;\" x1=\"261\" x2=\"294\" y1=\"71.2969\" y2=\"71.2969\"/><text fill=\"#000000\" font-family=\"sans-serif\" font-size=\"14\" font-weight=\"bold\" lengthAdjust=\"spacingAndGlyphs\" textLength=\"20\" x=\"265\" y=\"63.9951\">P3</text></a><g id=\"E1.E2.E3\"><a href=\"psysml:06ccdf6b-7fde-40d2-9d83-7c71c3aaf391\" target=\"_top\" title=\"psysml:06ccdf6b-7fde-40d2-9d83-7c71c3aaf391\" xlink:actuate=\"onRequest\" xlink:href=\"psysml:06ccdf6b-7fde-40d2-9d83-7c71c3aaf391\" xlink:show=\"new\" xlink:title=\"psysml:06ccdf6b-7fde-40d2-9d83-7c71c3aaf391\" xlink:type=\"simple\"><rect fill=\"#FEFECE\" filter=\"url(#fxtv6p09m8lzg)\" height=\"42.9375\" id=\"E3\" style=\"stroke: #A80036; stroke-width: 1.5;\" width=\"71\" x=\"405.5\" y=\"84\"/><text fill=\"#000000\" font-family=\"sans-serif\" font-size=\"12\" font-style=\"italic\" lengthAdjust=\"spacingAndGlyphs\" textLength=\"64\" x=\"409\" y=\"100.1387\">«part def»</text><text fill=\"#000000\" font-family=\"sans-serif\" font-size=\"12\" lengthAdjust=\"spacingAndGlyphs\" textLength=\"8\" x=\"437\" y=\"114.1074\">A</text></a></g><a href=\"psysml:524b97f3-dd10-444b-a6f8-a87f295610fc\" target=\"_top\" title=\"psysml:524b97f3-dd10-444b-a6f8-a87f295610fc\" xlink:actuate=\"onRequest\" xlink:href=\"psysml:524b97f3-dd10-444b-a6f8-a87f295610fc\" xlink:show=\"new\" xlink:title=\"psysml:524b97f3-dd10-444b-a6f8-a87f295610fc\" xlink:type=\"simple\"><polygon fill=\"#FFFFFF\" filter=\"url(#fxtv6p09m8lzg)\" points=\"202,79,228,79,235,101.2969,242,101.2969,242,131.5938,202,131.5938,202,79\" style=\"stroke: #000000; stroke-width: 1.5;\"/><line style=\"stroke: #000000; stroke-width: 1.5;\" x1=\"202\" x2=\"235\" y1=\"101.2969\" y2=\"101.2969\"/><text fill=\"#000000\" font-family=\"sans-serif\" font-size=\"14\" font-weight=\"bold\" lengthAdjust=\"spacingAndGlyphs\" textLength=\"20\" x=\"206\" y=\"93.9951\">P2</text></a><g id=\"E1.E5\"><a href=\"psysml:79fb998f-896a-4642-b1f0-d66dfbec55d7\" target=\"_top\" title=\"psysml:79fb998f-896a-4642-b1f0-d66dfbec55d7\" xlink:actuate=\"onRequest\" xlink:href=\"psysml:79fb998f-896a-4642-b1f0-d66dfbec55d7\" xlink:show=\"new\" xlink:title=\"psysml:79fb998f-896a-4642-b1f0-d66dfbec55d7\" xlink:type=\"simple\"><rect fill=\"#FEFECE\" filter=\"url(#fxtv6p09m8lzg)\" height=\"40\" id=\"E5\" rx=\"10\" ry=\"10\" style=\"stroke: #A80036; stroke-width: 1.5;\" width=\"50\" x=\"117\" y=\"85.5\"/><text fill=\"#000000\" font-family=\"sans-serif\" font-size=\"12\" lengthAdjust=\"spacingAndGlyphs\" textLength=\"22\" x=\"131\" y=\"101.6387\">x: A</text></a></g><g id=\"E1.E6.E7\"><a href=\"psysml:e6b11995-178a-4abf-b303-bbf3be6d894d\" target=\"_top\" title=\"psysml:e6b11995-178a-4abf-b303-bbf3be6d894d\" xlink:actuate=\"onRequest\" xlink:href=\"psysml:e6b11995-178a-4abf-b303-bbf3be6d894d\" xlink:show=\"new\" xlink:title=\"psysml:e6b11995-178a-4abf-b303-bbf3be6d894d\" xlink:type=\"simple\"><rect fill=\"#FEFECE\" filter=\"url(#fxtv6p09m8lzg)\" height=\"42.9375\" id=\"E7\" style=\"stroke: #A80036; stroke-width: 1.5;\" width=\"71\" x=\"277.5\" y=\"84\"/><text fill=\"#000000\" font-family=\"sans-serif\" font-size=\"12\" font-style=\"italic\" lengthAdjust=\"spacingAndGlyphs\" textLength=\"64\" x=\"281\" y=\"100.1387\">«part def»</text><text fill=\"#000000\" font-family=\"sans-serif\" font-size=\"12\" lengthAdjust=\"spacingAndGlyphs\" textLength=\"8\" x=\"309\" y=\"114.1074\">B</text></a></g><g id=\"E1.E8\"><a href=\"psysml:c8045a6d-f018-4e86-976c-73e06620aa4c\" target=\"_top\" title=\"psysml:c8045a6d-f018-4e86-976c-73e06620aa4c\" xlink:actuate=\"onRequest\" xlink:href=\"psysml:c8045a6d-f018-4e86-976c-73e06620aa4c\" xlink:show=\"new\" xlink:title=\"psysml:c8045a6d-f018-4e86-976c-73e06620aa4c\" xlink:type=\"simple\"><rect fill=\"#FEFECE\" filter=\"url(#fxtv6p09m8lzg)\" height=\"40\" id=\"E8\" rx=\"10\" ry=\"10\" style=\"stroke: #A80036; stroke-width: 1.5;\" width=\"50\" x=\"32\" y=\"85.5\"/><text fill=\"#000000\" font-family=\"sans-serif\" font-size=\"12\" lengthAdjust=\"spacingAndGlyphs\" textLength=\"21\" x=\"46.5\" y=\"101.6387\">z: B</text></a></g><!--MD5=[4297ec335c0003fa706e37ccd62d2401]\n",
       "@startuml\r\n",
       "skinparam ranksep 8\r\n",
       "skinparam rectangle {\r\n",
       " backgroundColor<<block>> LightGreen\r\n",
       "}\r\n",
       "skinparam wrapWidth 300\r\n",
       "hide circle\r\n",
       "\r\n",
       "package \"PrivateImportTest\" as E1  [[psysml:fd8049a9-22d6-4d05-bbeb-ce76116dc6d9 ]]  {\r\n",
       "package \"P1\" as E2  [[psysml:b8db80a7-5996-4df4-9976-dc6864828b46 ]]  {\r\n",
       "rec def \"A\" as E3  <<(T,blue)part def>> [[psysml:06ccdf6b-7fde-40d2-9d83-7c71c3aaf391 ]] {\r\n",
       "}\r\n",
       "}\r\n",
       "package \"P2\" as E4  [[psysml:524b97f3-dd10-444b-a6f8-a87f295610fc ]]  {\r\n",
       "}\r\n",
       "rec usage \"x: A\" as E5  [[psysml:79fb998f-896a-4642-b1f0-d66dfbec55d7 ]] {\r\n",
       "}\r\n",
       "package \"P3\" as E6  [[psysml:5bfd0c7b-a7f5-42f3-81fc-e346e4c74519 ]]  {\r\n",
       "rec def \"B\" as E7  <<(T,blue)part def>> [[psysml:e6b11995-178a-4abf-b303-bbf3be6d894d ]] {\r\n",
       "}\r\n",
       "}\r\n",
       "rec usage \"z: B\" as E8  [[psysml:c8045a6d-f018-4e86-976c-73e06620aa4c ]] {\r\n",
       "}\r\n",
       "}\r\n",
       "@enduml\r\n",
       "\n",
       "PlantUML version 1.2020.13(Sat Jun 13 12:26:38 UTC 2020)\n",
       "(EPL source distribution)\n",
       "Java Runtime: OpenJDK Runtime Environment\n",
       "JVM: OpenJDK 64-Bit Server VM\n",
       "Default Encoding: UTF-8\n",
       "Language: en\n",
       "Country: null\n",
       "--></g></svg>"
      ]
     },
     "execution_count": 26,
     "metadata": {},
     "output_type": "execute_result"
    }
   ],
   "source": [
    "%viz --style=\"STDCOLOR\" --view=\"Interconnection\" \"PrivateImportTest\""
   ]
  },
  {
   "cell_type": "code",
   "execution_count": 27,
   "id": "individual-seafood",
   "metadata": {
    "execution": {
     "iopub.execute_input": "2021-03-26T12:08:11.782530Z",
     "iopub.status.busy": "2021-03-26T12:08:11.782125Z",
     "iopub.status.idle": "2021-03-26T12:08:11.785706Z",
     "shell.execute_reply": "2021-03-26T12:08:11.785362Z"
    }
   },
   "outputs": [
    {
     "data": {
      "image/svg+xml": [
       "<?xml version=\"1.0\" encoding=\"UTF-8\" standalone=\"no\"?><svg xmlns=\"http://www.w3.org/2000/svg\" xmlns:xlink=\"http://www.w3.org/1999/xlink\" contentScriptType=\"application/ecmascript\" contentStyleType=\"text/css\" height=\"12px\" preserveAspectRatio=\"none\" style=\"width:12px;height:12px;\" version=\"1.1\" viewBox=\"0 0 12 12\" width=\"12px\" zoomAndPan=\"magnify\"><defs/><g><!--MD5=[9863325348a96a77dacc89509d8ee65e]\n",
       "@startuml\r\n",
       "skinparam ranksep 8\r\n",
       "skinparam wrapWidth 300\r\n",
       "hide circle\r\n",
       "\r\n",
       "@enduml\r\n",
       "\n",
       "PlantUML version 1.2020.13(Sat Jun 13 12:26:38 UTC 2020)\n",
       "(EPL source distribution)\n",
       "Java Runtime: OpenJDK Runtime Environment\n",
       "JVM: OpenJDK 64-Bit Server VM\n",
       "Default Encoding: UTF-8\n",
       "Language: en\n",
       "Country: null\n",
       "--></g></svg>"
      ]
     },
     "execution_count": 27,
     "metadata": {},
     "output_type": "execute_result"
    }
   ],
   "source": [
    "%viz --style=\"STDCOLOR\" --view=\"Action\" \"PrivateImportTest\""
   ]
  },
  {
   "cell_type": "code",
   "execution_count": 28,
   "id": "refined-music",
   "metadata": {
    "execution": {
     "iopub.execute_input": "2021-03-26T12:08:11.836632Z",
     "iopub.status.busy": "2021-03-26T12:08:11.836220Z",
     "iopub.status.idle": "2021-03-26T12:08:11.867524Z",
     "shell.execute_reply": "2021-03-26T12:08:11.866326Z"
    }
   },
   "outputs": [
    {
     "data": {
      "image/svg+xml": [
       "<?xml version=\"1.0\" encoding=\"UTF-8\" standalone=\"no\"?><svg xmlns=\"http://www.w3.org/2000/svg\" xmlns:xlink=\"http://www.w3.org/1999/xlink\" contentScriptType=\"application/ecmascript\" contentStyleType=\"text/css\" height=\"252px\" preserveAspectRatio=\"none\" style=\"width:306px;height:252px;\" version=\"1.1\" viewBox=\"0 0 306 252\" width=\"306px\" zoomAndPan=\"magnify\"><defs><filter height=\"300%\" id=\"fmtvtziwrb0w1\" width=\"300%\" x=\"-1\" y=\"-1\"><feGaussianBlur result=\"blurOut\" stdDeviation=\"2.0\"/><feColorMatrix in=\"blurOut\" result=\"blurOut2\" type=\"matrix\" values=\"0 0 0 0 0 0 0 0 0 0 0 0 0 0 0 0 0 0 .4 0\"/><feOffset dx=\"4.0\" dy=\"4.0\" in=\"blurOut2\" result=\"blurOut3\"/><feBlend in=\"SourceGraphic\" in2=\"blurOut3\" mode=\"normal\"/></filter></defs><g><!--MD5=[fbc87193dbaf4d95561dea2c320d4a47]\n",
       "cluster E1--><a href=\"psysml:fd8049a9-22d6-4d05-bbeb-ce76116dc6d9\" target=\"_top\" title=\"psysml:fd8049a9-22d6-4d05-bbeb-ce76116dc6d9\" xlink:actuate=\"onRequest\" xlink:href=\"psysml:fd8049a9-22d6-4d05-bbeb-ce76116dc6d9\" xlink:show=\"new\" xlink:title=\"psysml:fd8049a9-22d6-4d05-bbeb-ce76116dc6d9\" xlink:type=\"simple\"><polygon fill=\"#FFFFFF\" filter=\"url(#fmtvtziwrb0w1)\" points=\"16,6,163,6,170,28.2969,284,28.2969,284,240,16,240,16,6\" style=\"stroke: #000000; stroke-width: 1.5;\"/><line style=\"stroke: #000000; stroke-width: 1.5;\" x1=\"16\" x2=\"170\" y1=\"28.2969\" y2=\"28.2969\"/><text fill=\"#000000\" font-family=\"sans-serif\" font-size=\"14\" font-weight=\"bold\" lengthAdjust=\"spacingAndGlyphs\" textLength=\"141\" x=\"20\" y=\"20.9951\">PrivateImportTest</text></a><!--MD5=[e4f7fae6ed58524ba242bb0b0d3be6b7]\n",
       "cluster E2--><a href=\"psysml:b8db80a7-5996-4df4-9976-dc6864828b46\" target=\"_top\" title=\"psysml:b8db80a7-5996-4df4-9976-dc6864828b46\" xlink:actuate=\"onRequest\" xlink:href=\"psysml:b8db80a7-5996-4df4-9976-dc6864828b46\" xlink:show=\"new\" xlink:title=\"psysml:b8db80a7-5996-4df4-9976-dc6864828b46\" xlink:type=\"simple\"><polygon fill=\"#FFFFFF\" filter=\"url(#fmtvtziwrb0w1)\" points=\"162,119,188,119,195,141.2969,260,141.2969,260,216,162,216,162,119\" style=\"stroke: #000000; stroke-width: 1.5;\"/><line style=\"stroke: #000000; stroke-width: 1.5;\" x1=\"162\" x2=\"195\" y1=\"141.2969\" y2=\"141.2969\"/><text fill=\"#000000\" font-family=\"sans-serif\" font-size=\"14\" font-weight=\"bold\" lengthAdjust=\"spacingAndGlyphs\" textLength=\"20\" x=\"166\" y=\"133.9951\">P1</text></a><!--MD5=[14e3b0961a2654348d326746436168a1]\n",
       "cluster E6--><a href=\"psysml:5bfd0c7b-a7f5-42f3-81fc-e346e4c74519\" target=\"_top\" title=\"psysml:5bfd0c7b-a7f5-42f3-81fc-e346e4c74519\" xlink:actuate=\"onRequest\" xlink:href=\"psysml:5bfd0c7b-a7f5-42f3-81fc-e346e4c74519\" xlink:show=\"new\" xlink:title=\"psysml:5bfd0c7b-a7f5-42f3-81fc-e346e4c74519\" xlink:type=\"simple\"><polygon fill=\"#FFFFFF\" filter=\"url(#fmtvtziwrb0w1)\" points=\"40,119,66,119,73,141.2969,138,141.2969,138,216,40,216,40,119\" style=\"stroke: #000000; stroke-width: 1.5;\"/><line style=\"stroke: #000000; stroke-width: 1.5;\" x1=\"40\" x2=\"73\" y1=\"141.2969\" y2=\"141.2969\"/><text fill=\"#000000\" font-family=\"sans-serif\" font-size=\"14\" font-weight=\"bold\" lengthAdjust=\"spacingAndGlyphs\" textLength=\"20\" x=\"44\" y=\"133.9951\">P3</text></a><!--MD5=[270fce915f116d4de14055a7c1d9a0f3]\n",
       "class E5--><a href=\"psysml:79fb998f-896a-4642-b1f0-d66dfbec55d7\" target=\"_top\" title=\"psysml:79fb998f-896a-4642-b1f0-d66dfbec55d7\" xlink:actuate=\"onRequest\" xlink:href=\"psysml:79fb998f-896a-4642-b1f0-d66dfbec55d7\" xlink:show=\"new\" xlink:title=\"psysml:79fb998f-896a-4642-b1f0-d66dfbec55d7\" xlink:type=\"simple\"><rect fill=\"#FEFECE\" filter=\"url(#fmtvtziwrb0w1)\" height=\"45.9375\" id=\"E5\" rx=\"10\" ry=\"10\" style=\"stroke: #A80036; stroke-width: 1.5;\" width=\"42\" x=\"190\" y=\"44.5\"/><text fill=\"#000000\" font-family=\"sans-serif\" font-size=\"12\" font-style=\"italic\" lengthAdjust=\"spacingAndGlyphs\" textLength=\"40\" x=\"191\" y=\"60.6387\">«part»</text><text fill=\"#000000\" font-family=\"sans-serif\" font-size=\"12\" lengthAdjust=\"spacingAndGlyphs\" textLength=\"22\" x=\"200\" y=\"74.6074\">x: A</text><line style=\"stroke: #A80036; stroke-width: 1.5;\" x1=\"191\" x2=\"231\" y1=\"82.4375\" y2=\"82.4375\"/></a><!--MD5=[b9389687b975829384b498ac4b7476b2]\n",
       "class E8--><a href=\"psysml:c8045a6d-f018-4e86-976c-73e06620aa4c\" target=\"_top\" title=\"psysml:c8045a6d-f018-4e86-976c-73e06620aa4c\" xlink:actuate=\"onRequest\" xlink:href=\"psysml:c8045a6d-f018-4e86-976c-73e06620aa4c\" xlink:show=\"new\" xlink:title=\"psysml:c8045a6d-f018-4e86-976c-73e06620aa4c\" xlink:type=\"simple\"><rect fill=\"#FEFECE\" filter=\"url(#fmtvtziwrb0w1)\" height=\"45.9375\" id=\"E8\" rx=\"10\" ry=\"10\" style=\"stroke: #A80036; stroke-width: 1.5;\" width=\"42\" x=\"107\" y=\"44.5\"/><text fill=\"#000000\" font-family=\"sans-serif\" font-size=\"12\" font-style=\"italic\" lengthAdjust=\"spacingAndGlyphs\" textLength=\"40\" x=\"108\" y=\"60.6387\">«part»</text><text fill=\"#000000\" font-family=\"sans-serif\" font-size=\"12\" lengthAdjust=\"spacingAndGlyphs\" textLength=\"21\" x=\"117.5\" y=\"74.6074\">z: B</text><line style=\"stroke: #A80036; stroke-width: 1.5;\" x1=\"108\" x2=\"148\" y1=\"82.4375\" y2=\"82.4375\"/></a><!--MD5=[09b614a08d8cba4a07c9adeb5e0fee81]\n",
       "class E3--><a href=\"psysml:06ccdf6b-7fde-40d2-9d83-7c71c3aaf391\" target=\"_top\" title=\"psysml:06ccdf6b-7fde-40d2-9d83-7c71c3aaf391\" xlink:actuate=\"onRequest\" xlink:href=\"psysml:06ccdf6b-7fde-40d2-9d83-7c71c3aaf391\" xlink:show=\"new\" xlink:title=\"psysml:06ccdf6b-7fde-40d2-9d83-7c71c3aaf391\" xlink:type=\"simple\"><rect fill=\"#FEFECE\" filter=\"url(#fmtvtziwrb0w1)\" height=\"45.9375\" id=\"E3\" style=\"stroke: #A80036; stroke-width: 1.5;\" width=\"66\" x=\"178\" y=\"154\"/><text fill=\"#000000\" font-family=\"sans-serif\" font-size=\"12\" font-style=\"italic\" lengthAdjust=\"spacingAndGlyphs\" textLength=\"64\" x=\"179\" y=\"170.1387\">«part def»</text><text fill=\"#000000\" font-family=\"sans-serif\" font-size=\"12\" lengthAdjust=\"spacingAndGlyphs\" textLength=\"8\" x=\"207\" y=\"184.1074\">A</text><line style=\"stroke: #A80036; stroke-width: 1.5;\" x1=\"179\" x2=\"243\" y1=\"191.9375\" y2=\"191.9375\"/></a><a href=\"psysml:524b97f3-dd10-444b-a6f8-a87f295610fc\" target=\"_top\" title=\"psysml:524b97f3-dd10-444b-a6f8-a87f295610fc\" xlink:actuate=\"onRequest\" xlink:href=\"psysml:524b97f3-dd10-444b-a6f8-a87f295610fc\" xlink:show=\"new\" xlink:title=\"psysml:524b97f3-dd10-444b-a6f8-a87f295610fc\" xlink:type=\"simple\"><polygon fill=\"#FFFFFF\" filter=\"url(#fmtvtziwrb0w1)\" points=\"32,41,58,41,65,63.2969,72,63.2969,72,93.5938,32,93.5938,32,41\" style=\"stroke: #000000; stroke-width: 1.5;\"/><line style=\"stroke: #000000; stroke-width: 1.5;\" x1=\"32\" x2=\"65\" y1=\"63.2969\" y2=\"63.2969\"/><text fill=\"#000000\" font-family=\"sans-serif\" font-size=\"14\" font-weight=\"bold\" lengthAdjust=\"spacingAndGlyphs\" textLength=\"20\" x=\"36\" y=\"55.9951\">P2</text></a><!--MD5=[2156ba9850f5573cc1fc38a6a4b2f02b]\n",
       "class E7--><a href=\"psysml:e6b11995-178a-4abf-b303-bbf3be6d894d\" target=\"_top\" title=\"psysml:e6b11995-178a-4abf-b303-bbf3be6d894d\" xlink:actuate=\"onRequest\" xlink:href=\"psysml:e6b11995-178a-4abf-b303-bbf3be6d894d\" xlink:show=\"new\" xlink:title=\"psysml:e6b11995-178a-4abf-b303-bbf3be6d894d\" xlink:type=\"simple\"><rect fill=\"#FEFECE\" filter=\"url(#fmtvtziwrb0w1)\" height=\"45.9375\" id=\"E7\" style=\"stroke: #A80036; stroke-width: 1.5;\" width=\"66\" x=\"56\" y=\"154\"/><text fill=\"#000000\" font-family=\"sans-serif\" font-size=\"12\" font-style=\"italic\" lengthAdjust=\"spacingAndGlyphs\" textLength=\"64\" x=\"57\" y=\"170.1387\">«part def»</text><text fill=\"#000000\" font-family=\"sans-serif\" font-size=\"12\" lengthAdjust=\"spacingAndGlyphs\" textLength=\"8\" x=\"85\" y=\"184.1074\">B</text><line style=\"stroke: #A80036; stroke-width: 1.5;\" x1=\"57\" x2=\"121\" y1=\"191.9375\" y2=\"191.9375\"/></a><!--MD5=[e9be52314489bd878ff4c7144b63c9e1]\n",
       "link E5 to E3--><a href=\"psysml:88440252-e8a6-408e-b428-64e589ea9f3d\" target=\"_top\" title=\"psysml:88440252-e8a6-408e-b428-64e589ea9f3d\" xlink:actuate=\"onRequest\" xlink:href=\"psysml:88440252-e8a6-408e-b428-64e589ea9f3d\" xlink:show=\"new\" xlink:title=\"psysml:88440252-e8a6-408e-b428-64e589ea9f3d\" xlink:type=\"simple\"><path d=\"M211,90.51 C211,102.89 211,118.78 211,133.48 \" fill=\"none\" id=\"E5-&gt;E3\" style=\"stroke: #A80036; stroke-width: 1.0;\"/><polygon fill=\"#FFFFFF\" points=\"211,153.65,204,134.65,218,134.65,211,153.65\" style=\"stroke: #A80036; stroke-width: 1.0;\"/><ellipse cx=\"206\" cy=\"128.95\" fill=\"#A80036\" rx=\"2\" ry=\"2\" style=\"stroke: #A80036; stroke-width: 1.0;\"/><ellipse cx=\"216\" cy=\"128.95\" fill=\"#A80036\" rx=\"2\" ry=\"2\" style=\"stroke: #A80036; stroke-width: 1.0;\"/></a><!--MD5=[bfa3c8b0d15052fdf50ae9310b491027]\n",
       "link E8 to E7--><a href=\"psysml:a33b0610-5a8d-429b-bbd7-f981cc70bcb5\" target=\"_top\" title=\"psysml:a33b0610-5a8d-429b-bbd7-f981cc70bcb5\" xlink:actuate=\"onRequest\" xlink:href=\"psysml:a33b0610-5a8d-429b-bbd7-f981cc70bcb5\" xlink:show=\"new\" xlink:title=\"psysml:a33b0610-5a8d-429b-bbd7-f981cc70bcb5\" xlink:type=\"simple\"><path d=\"M120.01,90.51 C115.39,103.25 109.42,119.7 103.96,134.76 \" fill=\"none\" id=\"E8-&gt;E7\" style=\"stroke: #A80036; stroke-width: 1.0;\"/><polygon fill=\"#FFFFFF\" points=\"97.11,153.65,97.0036,133.4018,110.1656,138.1726,97.11,153.65\" style=\"stroke: #A80036; stroke-width: 1.0;\"/><ellipse cx=\"100.8262\" cy=\"128.7245\" fill=\"#A80036\" rx=\"2\" ry=\"2\" style=\"stroke: #A80036; stroke-width: 1.0;\"/><ellipse cx=\"110.2277\" cy=\"132.1322\" fill=\"#A80036\" rx=\"2\" ry=\"2\" style=\"stroke: #A80036; stroke-width: 1.0;\"/></a><!--MD5=[a66d624436cb2f84170a4f3c3d54318a]\n",
       "@startuml\r\n",
       "skinparam wrapWidth 300\r\n",
       "hide circle\r\n",
       "\r\n",
       "package \"PrivateImportTest\" as E1  [[psysml:fd8049a9-22d6-4d05-bbeb-ce76116dc6d9 ]]  {\r\n",
       "package \"P1\" as E2  [[psysml:b8db80a7-5996-4df4-9976-dc6864828b46 ]]  {\r\n",
       "comp def \"A\" as E3  <<(T,blue)part def>> [[psysml:06ccdf6b-7fde-40d2-9d83-7c71c3aaf391 ]] {\r\n",
       "}\r\n",
       "}\r\n",
       "package \"P2\" as E4  [[psysml:524b97f3-dd10-444b-a6f8-a87f295610fc ]]  {\r\n",
       "}\r\n",
       "comp usage \"x: A\" as E5  <<(T,blue)part>> [[psysml:79fb998f-896a-4642-b1f0-d66dfbec55d7 ]] {\r\n",
       "}\r\n",
       "package \"P3\" as E6  [[psysml:5bfd0c7b-a7f5-42f3-81fc-e346e4c74519 ]]  {\r\n",
       "comp def \"B\" as E7  <<(T,blue)part def>> [[psysml:e6b11995-178a-4abf-b303-bbf3be6d894d ]] {\r\n",
       "}\r\n",
       "E5 - -:|> E3 [[psysml:88440252-e8a6-408e-b428-64e589ea9f3d ]] \r\n",
       "}\r\n",
       "comp usage \"z: B\" as E8  <<(T,blue)part>> [[psysml:c8045a6d-f018-4e86-976c-73e06620aa4c ]] {\r\n",
       "}\r\n",
       "E8 - -:|> E7 [[psysml:a33b0610-5a8d-429b-bbd7-f981cc70bcb5 ]] \r\n",
       "}\r\n",
       "@enduml\r\n",
       "\n",
       "PlantUML version 1.2020.13(Sat Jun 13 12:26:38 UTC 2020)\n",
       "(EPL source distribution)\n",
       "Java Runtime: OpenJDK Runtime Environment\n",
       "JVM: OpenJDK 64-Bit Server VM\n",
       "Default Encoding: UTF-8\n",
       "Language: en\n",
       "Country: null\n",
       "--></g></svg>"
      ]
     },
     "execution_count": 28,
     "metadata": {},
     "output_type": "execute_result"
    }
   ],
   "source": [
    "%viz --style=\"STDCOLOR\" --view=\"Sequence\" \"PrivateImportTest\""
   ]
  },
  {
   "cell_type": "code",
   "execution_count": 29,
   "id": "lyric-timber",
   "metadata": {
    "execution": {
     "iopub.execute_input": "2021-03-26T12:08:11.918176Z",
     "iopub.status.busy": "2021-03-26T12:08:11.917768Z",
     "iopub.status.idle": "2021-03-26T12:08:11.948386Z",
     "shell.execute_reply": "2021-03-26T12:08:11.947187Z"
    }
   },
   "outputs": [
    {
     "data": {
      "image/svg+xml": [
       "<?xml version=\"1.0\" encoding=\"UTF-8\" standalone=\"no\"?><svg xmlns=\"http://www.w3.org/2000/svg\" xmlns:xlink=\"http://www.w3.org/1999/xlink\" contentScriptType=\"application/ecmascript\" contentStyleType=\"text/css\" height=\"252px\" preserveAspectRatio=\"none\" style=\"width:306px;height:252px;\" version=\"1.1\" viewBox=\"0 0 306 252\" width=\"306px\" zoomAndPan=\"magnify\"><defs><filter height=\"300%\" id=\"fmtvtziwrb0w1\" width=\"300%\" x=\"-1\" y=\"-1\"><feGaussianBlur result=\"blurOut\" stdDeviation=\"2.0\"/><feColorMatrix in=\"blurOut\" result=\"blurOut2\" type=\"matrix\" values=\"0 0 0 0 0 0 0 0 0 0 0 0 0 0 0 0 0 0 .4 0\"/><feOffset dx=\"4.0\" dy=\"4.0\" in=\"blurOut2\" result=\"blurOut3\"/><feBlend in=\"SourceGraphic\" in2=\"blurOut3\" mode=\"normal\"/></filter></defs><g><!--MD5=[fbc87193dbaf4d95561dea2c320d4a47]\n",
       "cluster E1--><a href=\"psysml:fd8049a9-22d6-4d05-bbeb-ce76116dc6d9\" target=\"_top\" title=\"psysml:fd8049a9-22d6-4d05-bbeb-ce76116dc6d9\" xlink:actuate=\"onRequest\" xlink:href=\"psysml:fd8049a9-22d6-4d05-bbeb-ce76116dc6d9\" xlink:show=\"new\" xlink:title=\"psysml:fd8049a9-22d6-4d05-bbeb-ce76116dc6d9\" xlink:type=\"simple\"><polygon fill=\"#FFFFFF\" filter=\"url(#fmtvtziwrb0w1)\" points=\"16,6,163,6,170,28.2969,284,28.2969,284,240,16,240,16,6\" style=\"stroke: #000000; stroke-width: 1.5;\"/><line style=\"stroke: #000000; stroke-width: 1.5;\" x1=\"16\" x2=\"170\" y1=\"28.2969\" y2=\"28.2969\"/><text fill=\"#000000\" font-family=\"sans-serif\" font-size=\"14\" font-weight=\"bold\" lengthAdjust=\"spacingAndGlyphs\" textLength=\"141\" x=\"20\" y=\"20.9951\">PrivateImportTest</text></a><!--MD5=[e4f7fae6ed58524ba242bb0b0d3be6b7]\n",
       "cluster E2--><a href=\"psysml:b8db80a7-5996-4df4-9976-dc6864828b46\" target=\"_top\" title=\"psysml:b8db80a7-5996-4df4-9976-dc6864828b46\" xlink:actuate=\"onRequest\" xlink:href=\"psysml:b8db80a7-5996-4df4-9976-dc6864828b46\" xlink:show=\"new\" xlink:title=\"psysml:b8db80a7-5996-4df4-9976-dc6864828b46\" xlink:type=\"simple\"><polygon fill=\"#FFFFFF\" filter=\"url(#fmtvtziwrb0w1)\" points=\"162,119,188,119,195,141.2969,260,141.2969,260,216,162,216,162,119\" style=\"stroke: #000000; stroke-width: 1.5;\"/><line style=\"stroke: #000000; stroke-width: 1.5;\" x1=\"162\" x2=\"195\" y1=\"141.2969\" y2=\"141.2969\"/><text fill=\"#000000\" font-family=\"sans-serif\" font-size=\"14\" font-weight=\"bold\" lengthAdjust=\"spacingAndGlyphs\" textLength=\"20\" x=\"166\" y=\"133.9951\">P1</text></a><!--MD5=[14e3b0961a2654348d326746436168a1]\n",
       "cluster E6--><a href=\"psysml:5bfd0c7b-a7f5-42f3-81fc-e346e4c74519\" target=\"_top\" title=\"psysml:5bfd0c7b-a7f5-42f3-81fc-e346e4c74519\" xlink:actuate=\"onRequest\" xlink:href=\"psysml:5bfd0c7b-a7f5-42f3-81fc-e346e4c74519\" xlink:show=\"new\" xlink:title=\"psysml:5bfd0c7b-a7f5-42f3-81fc-e346e4c74519\" xlink:type=\"simple\"><polygon fill=\"#FFFFFF\" filter=\"url(#fmtvtziwrb0w1)\" points=\"40,119,66,119,73,141.2969,138,141.2969,138,216,40,216,40,119\" style=\"stroke: #000000; stroke-width: 1.5;\"/><line style=\"stroke: #000000; stroke-width: 1.5;\" x1=\"40\" x2=\"73\" y1=\"141.2969\" y2=\"141.2969\"/><text fill=\"#000000\" font-family=\"sans-serif\" font-size=\"14\" font-weight=\"bold\" lengthAdjust=\"spacingAndGlyphs\" textLength=\"20\" x=\"44\" y=\"133.9951\">P3</text></a><!--MD5=[270fce915f116d4de14055a7c1d9a0f3]\n",
       "class E5--><a href=\"psysml:79fb998f-896a-4642-b1f0-d66dfbec55d7\" target=\"_top\" title=\"psysml:79fb998f-896a-4642-b1f0-d66dfbec55d7\" xlink:actuate=\"onRequest\" xlink:href=\"psysml:79fb998f-896a-4642-b1f0-d66dfbec55d7\" xlink:show=\"new\" xlink:title=\"psysml:79fb998f-896a-4642-b1f0-d66dfbec55d7\" xlink:type=\"simple\"><rect fill=\"#FEFECE\" filter=\"url(#fmtvtziwrb0w1)\" height=\"45.9375\" id=\"E5\" rx=\"10\" ry=\"10\" style=\"stroke: #A80036; stroke-width: 1.5;\" width=\"42\" x=\"190\" y=\"44.5\"/><text fill=\"#000000\" font-family=\"sans-serif\" font-size=\"12\" font-style=\"italic\" lengthAdjust=\"spacingAndGlyphs\" textLength=\"40\" x=\"191\" y=\"60.6387\">«part»</text><text fill=\"#000000\" font-family=\"sans-serif\" font-size=\"12\" lengthAdjust=\"spacingAndGlyphs\" textLength=\"22\" x=\"200\" y=\"74.6074\">x: A</text><line style=\"stroke: #A80036; stroke-width: 1.5;\" x1=\"191\" x2=\"231\" y1=\"82.4375\" y2=\"82.4375\"/></a><!--MD5=[b9389687b975829384b498ac4b7476b2]\n",
       "class E8--><a href=\"psysml:c8045a6d-f018-4e86-976c-73e06620aa4c\" target=\"_top\" title=\"psysml:c8045a6d-f018-4e86-976c-73e06620aa4c\" xlink:actuate=\"onRequest\" xlink:href=\"psysml:c8045a6d-f018-4e86-976c-73e06620aa4c\" xlink:show=\"new\" xlink:title=\"psysml:c8045a6d-f018-4e86-976c-73e06620aa4c\" xlink:type=\"simple\"><rect fill=\"#FEFECE\" filter=\"url(#fmtvtziwrb0w1)\" height=\"45.9375\" id=\"E8\" rx=\"10\" ry=\"10\" style=\"stroke: #A80036; stroke-width: 1.5;\" width=\"42\" x=\"107\" y=\"44.5\"/><text fill=\"#000000\" font-family=\"sans-serif\" font-size=\"12\" font-style=\"italic\" lengthAdjust=\"spacingAndGlyphs\" textLength=\"40\" x=\"108\" y=\"60.6387\">«part»</text><text fill=\"#000000\" font-family=\"sans-serif\" font-size=\"12\" lengthAdjust=\"spacingAndGlyphs\" textLength=\"21\" x=\"117.5\" y=\"74.6074\">z: B</text><line style=\"stroke: #A80036; stroke-width: 1.5;\" x1=\"108\" x2=\"148\" y1=\"82.4375\" y2=\"82.4375\"/></a><!--MD5=[09b614a08d8cba4a07c9adeb5e0fee81]\n",
       "class E3--><a href=\"psysml:06ccdf6b-7fde-40d2-9d83-7c71c3aaf391\" target=\"_top\" title=\"psysml:06ccdf6b-7fde-40d2-9d83-7c71c3aaf391\" xlink:actuate=\"onRequest\" xlink:href=\"psysml:06ccdf6b-7fde-40d2-9d83-7c71c3aaf391\" xlink:show=\"new\" xlink:title=\"psysml:06ccdf6b-7fde-40d2-9d83-7c71c3aaf391\" xlink:type=\"simple\"><rect fill=\"#FEFECE\" filter=\"url(#fmtvtziwrb0w1)\" height=\"45.9375\" id=\"E3\" style=\"stroke: #A80036; stroke-width: 1.5;\" width=\"66\" x=\"178\" y=\"154\"/><text fill=\"#000000\" font-family=\"sans-serif\" font-size=\"12\" font-style=\"italic\" lengthAdjust=\"spacingAndGlyphs\" textLength=\"64\" x=\"179\" y=\"170.1387\">«part def»</text><text fill=\"#000000\" font-family=\"sans-serif\" font-size=\"12\" lengthAdjust=\"spacingAndGlyphs\" textLength=\"8\" x=\"207\" y=\"184.1074\">A</text><line style=\"stroke: #A80036; stroke-width: 1.5;\" x1=\"179\" x2=\"243\" y1=\"191.9375\" y2=\"191.9375\"/></a><a href=\"psysml:524b97f3-dd10-444b-a6f8-a87f295610fc\" target=\"_top\" title=\"psysml:524b97f3-dd10-444b-a6f8-a87f295610fc\" xlink:actuate=\"onRequest\" xlink:href=\"psysml:524b97f3-dd10-444b-a6f8-a87f295610fc\" xlink:show=\"new\" xlink:title=\"psysml:524b97f3-dd10-444b-a6f8-a87f295610fc\" xlink:type=\"simple\"><polygon fill=\"#FFFFFF\" filter=\"url(#fmtvtziwrb0w1)\" points=\"32,41,58,41,65,63.2969,72,63.2969,72,93.5938,32,93.5938,32,41\" style=\"stroke: #000000; stroke-width: 1.5;\"/><line style=\"stroke: #000000; stroke-width: 1.5;\" x1=\"32\" x2=\"65\" y1=\"63.2969\" y2=\"63.2969\"/><text fill=\"#000000\" font-family=\"sans-serif\" font-size=\"14\" font-weight=\"bold\" lengthAdjust=\"spacingAndGlyphs\" textLength=\"20\" x=\"36\" y=\"55.9951\">P2</text></a><!--MD5=[2156ba9850f5573cc1fc38a6a4b2f02b]\n",
       "class E7--><a href=\"psysml:e6b11995-178a-4abf-b303-bbf3be6d894d\" target=\"_top\" title=\"psysml:e6b11995-178a-4abf-b303-bbf3be6d894d\" xlink:actuate=\"onRequest\" xlink:href=\"psysml:e6b11995-178a-4abf-b303-bbf3be6d894d\" xlink:show=\"new\" xlink:title=\"psysml:e6b11995-178a-4abf-b303-bbf3be6d894d\" xlink:type=\"simple\"><rect fill=\"#FEFECE\" filter=\"url(#fmtvtziwrb0w1)\" height=\"45.9375\" id=\"E7\" style=\"stroke: #A80036; stroke-width: 1.5;\" width=\"66\" x=\"56\" y=\"154\"/><text fill=\"#000000\" font-family=\"sans-serif\" font-size=\"12\" font-style=\"italic\" lengthAdjust=\"spacingAndGlyphs\" textLength=\"64\" x=\"57\" y=\"170.1387\">«part def»</text><text fill=\"#000000\" font-family=\"sans-serif\" font-size=\"12\" lengthAdjust=\"spacingAndGlyphs\" textLength=\"8\" x=\"85\" y=\"184.1074\">B</text><line style=\"stroke: #A80036; stroke-width: 1.5;\" x1=\"57\" x2=\"121\" y1=\"191.9375\" y2=\"191.9375\"/></a><!--MD5=[e9be52314489bd878ff4c7144b63c9e1]\n",
       "link E5 to E3--><a href=\"psysml:88440252-e8a6-408e-b428-64e589ea9f3d\" target=\"_top\" title=\"psysml:88440252-e8a6-408e-b428-64e589ea9f3d\" xlink:actuate=\"onRequest\" xlink:href=\"psysml:88440252-e8a6-408e-b428-64e589ea9f3d\" xlink:show=\"new\" xlink:title=\"psysml:88440252-e8a6-408e-b428-64e589ea9f3d\" xlink:type=\"simple\"><path d=\"M211,90.51 C211,102.89 211,118.78 211,133.48 \" fill=\"none\" id=\"E5-&gt;E3\" style=\"stroke: #A80036; stroke-width: 1.0;\"/><polygon fill=\"#FFFFFF\" points=\"211,153.65,204,134.65,218,134.65,211,153.65\" style=\"stroke: #A80036; stroke-width: 1.0;\"/><ellipse cx=\"206\" cy=\"128.95\" fill=\"#A80036\" rx=\"2\" ry=\"2\" style=\"stroke: #A80036; stroke-width: 1.0;\"/><ellipse cx=\"216\" cy=\"128.95\" fill=\"#A80036\" rx=\"2\" ry=\"2\" style=\"stroke: #A80036; stroke-width: 1.0;\"/></a><!--MD5=[bfa3c8b0d15052fdf50ae9310b491027]\n",
       "link E8 to E7--><a href=\"psysml:a33b0610-5a8d-429b-bbd7-f981cc70bcb5\" target=\"_top\" title=\"psysml:a33b0610-5a8d-429b-bbd7-f981cc70bcb5\" xlink:actuate=\"onRequest\" xlink:href=\"psysml:a33b0610-5a8d-429b-bbd7-f981cc70bcb5\" xlink:show=\"new\" xlink:title=\"psysml:a33b0610-5a8d-429b-bbd7-f981cc70bcb5\" xlink:type=\"simple\"><path d=\"M120.01,90.51 C115.39,103.25 109.42,119.7 103.96,134.76 \" fill=\"none\" id=\"E8-&gt;E7\" style=\"stroke: #A80036; stroke-width: 1.0;\"/><polygon fill=\"#FFFFFF\" points=\"97.11,153.65,97.0036,133.4018,110.1656,138.1726,97.11,153.65\" style=\"stroke: #A80036; stroke-width: 1.0;\"/><ellipse cx=\"100.8262\" cy=\"128.7245\" fill=\"#A80036\" rx=\"2\" ry=\"2\" style=\"stroke: #A80036; stroke-width: 1.0;\"/><ellipse cx=\"110.2277\" cy=\"132.1322\" fill=\"#A80036\" rx=\"2\" ry=\"2\" style=\"stroke: #A80036; stroke-width: 1.0;\"/></a><!--MD5=[a66d624436cb2f84170a4f3c3d54318a]\n",
       "@startuml\r\n",
       "skinparam wrapWidth 300\r\n",
       "hide circle\r\n",
       "\r\n",
       "package \"PrivateImportTest\" as E1  [[psysml:fd8049a9-22d6-4d05-bbeb-ce76116dc6d9 ]]  {\r\n",
       "package \"P1\" as E2  [[psysml:b8db80a7-5996-4df4-9976-dc6864828b46 ]]  {\r\n",
       "comp def \"A\" as E3  <<(T,blue)part def>> [[psysml:06ccdf6b-7fde-40d2-9d83-7c71c3aaf391 ]] {\r\n",
       "}\r\n",
       "}\r\n",
       "package \"P2\" as E4  [[psysml:524b97f3-dd10-444b-a6f8-a87f295610fc ]]  {\r\n",
       "}\r\n",
       "comp usage \"x: A\" as E5  <<(T,blue)part>> [[psysml:79fb998f-896a-4642-b1f0-d66dfbec55d7 ]] {\r\n",
       "}\r\n",
       "package \"P3\" as E6  [[psysml:5bfd0c7b-a7f5-42f3-81fc-e346e4c74519 ]]  {\r\n",
       "comp def \"B\" as E7  <<(T,blue)part def>> [[psysml:e6b11995-178a-4abf-b303-bbf3be6d894d ]] {\r\n",
       "}\r\n",
       "E5 - -:|> E3 [[psysml:88440252-e8a6-408e-b428-64e589ea9f3d ]] \r\n",
       "}\r\n",
       "comp usage \"z: B\" as E8  <<(T,blue)part>> [[psysml:c8045a6d-f018-4e86-976c-73e06620aa4c ]] {\r\n",
       "}\r\n",
       "E8 - -:|> E7 [[psysml:a33b0610-5a8d-429b-bbd7-f981cc70bcb5 ]] \r\n",
       "}\r\n",
       "@enduml\r\n",
       "\n",
       "PlantUML version 1.2020.13(Sat Jun 13 12:26:38 UTC 2020)\n",
       "(EPL source distribution)\n",
       "Java Runtime: OpenJDK Runtime Environment\n",
       "JVM: OpenJDK 64-Bit Server VM\n",
       "Default Encoding: UTF-8\n",
       "Language: en\n",
       "Country: null\n",
       "--></g></svg>"
      ]
     },
     "execution_count": 29,
     "metadata": {},
     "output_type": "execute_result"
    }
   ],
   "source": [
    "%viz --style=\"STDCOLOR\" --view=\"MIXED\" \"PrivateImportTest\""
   ]
  },
  {
   "cell_type": "code",
   "execution_count": 30,
   "id": "advised-original",
   "metadata": {
    "execution": {
     "iopub.execute_input": "2021-03-26T12:08:12.001067Z",
     "iopub.status.busy": "2021-03-26T12:08:12.000108Z",
     "iopub.status.idle": "2021-03-26T12:08:12.050884Z",
     "shell.execute_reply": "2021-03-26T12:08:12.049003Z"
    }
   },
   "outputs": [
    {
     "data": {
      "image/svg+xml": [
       "<?xml version=\"1.0\" encoding=\"UTF-8\" standalone=\"no\"?><svg xmlns=\"http://www.w3.org/2000/svg\" xmlns:xlink=\"http://www.w3.org/1999/xlink\" contentScriptType=\"application/ecmascript\" contentStyleType=\"text/css\" height=\"246px\" preserveAspectRatio=\"none\" style=\"width:316px;height:246px;\" version=\"1.1\" viewBox=\"0 0 316 246\" width=\"316px\" zoomAndPan=\"magnify\"><defs><filter height=\"300%\" id=\"f1u251r78yi7es\" width=\"300%\" x=\"-1\" y=\"-1\"><feGaussianBlur result=\"blurOut\" stdDeviation=\"2.0\"/><feColorMatrix in=\"blurOut\" result=\"blurOut2\" type=\"matrix\" values=\"0 0 0 0 0 0 0 0 0 0 0 0 0 0 0 0 0 0 .4 0\"/><feOffset dx=\"4.0\" dy=\"4.0\" in=\"blurOut2\" result=\"blurOut3\"/><feBlend in=\"SourceGraphic\" in2=\"blurOut3\" mode=\"normal\"/></filter></defs><g><!--MD5=[fbc87193dbaf4d95561dea2c320d4a47]\n",
       "cluster E1--><a href=\"psysml:fd8049a9-22d6-4d05-bbeb-ce76116dc6d9\" target=\"_top\" title=\"psysml:fd8049a9-22d6-4d05-bbeb-ce76116dc6d9\" xlink:actuate=\"onRequest\" xlink:href=\"psysml:fd8049a9-22d6-4d05-bbeb-ce76116dc6d9\" xlink:show=\"new\" xlink:title=\"psysml:fd8049a9-22d6-4d05-bbeb-ce76116dc6d9\" xlink:type=\"simple\"><polygon fill=\"#FFFFFF\" filter=\"url(#f1u251r78yi7es)\" points=\"16,6,163,6,170,28.2969,294,28.2969,294,234,16,234,16,6\" style=\"stroke: #000000; stroke-width: 1.5;\"/><line style=\"stroke: #000000; stroke-width: 1.5;\" x1=\"16\" x2=\"170\" y1=\"28.2969\" y2=\"28.2969\"/><text fill=\"#000000\" font-family=\"sans-serif\" font-size=\"14\" font-weight=\"bold\" lengthAdjust=\"spacingAndGlyphs\" textLength=\"141\" x=\"20\" y=\"20.9951\">PrivateImportTest</text></a><!--MD5=[e4f7fae6ed58524ba242bb0b0d3be6b7]\n",
       "cluster E2--><a href=\"psysml:b8db80a7-5996-4df4-9976-dc6864828b46\" target=\"_top\" title=\"psysml:b8db80a7-5996-4df4-9976-dc6864828b46\" xlink:actuate=\"onRequest\" xlink:href=\"psysml:b8db80a7-5996-4df4-9976-dc6864828b46\" xlink:show=\"new\" xlink:title=\"psysml:b8db80a7-5996-4df4-9976-dc6864828b46\" xlink:type=\"simple\"><polygon fill=\"#FFFFFF\" filter=\"url(#f1u251r78yi7es)\" points=\"198,119,224,119,231,141.2969,270,141.2969,270,210,198,210,198,119\" style=\"stroke: #000000; stroke-width: 1.5;\"/><line style=\"stroke: #000000; stroke-width: 1.5;\" x1=\"198\" x2=\"231\" y1=\"141.2969\" y2=\"141.2969\"/><text fill=\"#000000\" font-family=\"sans-serif\" font-size=\"14\" font-weight=\"bold\" lengthAdjust=\"spacingAndGlyphs\" textLength=\"20\" x=\"202\" y=\"133.9951\">P1</text></a><!--MD5=[14e3b0961a2654348d326746436168a1]\n",
       "cluster E6--><a href=\"psysml:5bfd0c7b-a7f5-42f3-81fc-e346e4c74519\" target=\"_top\" title=\"psysml:5bfd0c7b-a7f5-42f3-81fc-e346e4c74519\" xlink:actuate=\"onRequest\" xlink:href=\"psysml:5bfd0c7b-a7f5-42f3-81fc-e346e4c74519\" xlink:show=\"new\" xlink:title=\"psysml:5bfd0c7b-a7f5-42f3-81fc-e346e4c74519\" xlink:type=\"simple\"><polygon fill=\"#FFFFFF\" filter=\"url(#f1u251r78yi7es)\" points=\"102,119,128,119,135,141.2969,174,141.2969,174,210,102,210,102,119\" style=\"stroke: #000000; stroke-width: 1.5;\"/><line style=\"stroke: #000000; stroke-width: 1.5;\" x1=\"102\" x2=\"135\" y1=\"141.2969\" y2=\"141.2969\"/><text fill=\"#000000\" font-family=\"sans-serif\" font-size=\"14\" font-weight=\"bold\" lengthAdjust=\"spacingAndGlyphs\" textLength=\"20\" x=\"106\" y=\"133.9951\">P3</text></a><!--MD5=[270fce915f116d4de14055a7c1d9a0f3]\n",
       "class E5--><a href=\"psysml:79fb998f-896a-4642-b1f0-d66dfbec55d7\" target=\"_top\" title=\"psysml:79fb998f-896a-4642-b1f0-d66dfbec55d7\" xlink:actuate=\"onRequest\" xlink:href=\"psysml:79fb998f-896a-4642-b1f0-d66dfbec55d7\" xlink:show=\"new\" xlink:title=\"psysml:79fb998f-896a-4642-b1f0-d66dfbec55d7\" xlink:type=\"simple\"><rect fill=\"#FEFECE\" filter=\"url(#f1u251r78yi7es)\" height=\"45.9375\" id=\"E5\" rx=\"10\" ry=\"10\" style=\"stroke: #A80036; stroke-width: 1.5;\" width=\"68\" x=\"210\" y=\"44.5\"/><ellipse cx=\"225\" cy=\"63.4688\" fill=\"#32CD32\" rx=\"11\" ry=\"11\" style=\"stroke: #A80036; stroke-width: 1.0;\"/><path d=\"M224.7969,59.1406 L224.7969,62.7656 L225.7969,62.7656 Q227,62.7656 227.4844,62.3594 Q227.9688,61.9531 227.9688,60.9531 Q227.9688,59.9531 227.4844,59.5469 Q227,59.1406 225.7969,59.1406 L224.7969,59.1406 Z M222.3438,57.0781 L225.7031,57.0781 Q228.2656,57.0781 229.3906,58 Q230.5156,58.9063 230.5156,60.9531 Q230.5156,63 229.3906,63.9219 Q228.2656,64.8281 225.7031,64.8281 L224.7969,64.8281 L224.7969,69.4688 L222.3438,69.4688 L222.3438,57.0781 Z \"/><text fill=\"#000000\" font-family=\"sans-serif\" font-size=\"12\" font-style=\"italic\" lengthAdjust=\"spacingAndGlyphs\" textLength=\"40\" x=\"237\" y=\"60.6387\">«part»</text><text fill=\"#000000\" font-family=\"sans-serif\" font-size=\"12\" lengthAdjust=\"spacingAndGlyphs\" textLength=\"22\" x=\"246\" y=\"74.6074\">x: A</text><line style=\"stroke: #A80036; stroke-width: 1.5;\" x1=\"211\" x2=\"277\" y1=\"82.4375\" y2=\"82.4375\"/></a><!--MD5=[b9389687b975829384b498ac4b7476b2]\n",
       "class E8--><a href=\"psysml:c8045a6d-f018-4e86-976c-73e06620aa4c\" target=\"_top\" title=\"psysml:c8045a6d-f018-4e86-976c-73e06620aa4c\" xlink:actuate=\"onRequest\" xlink:href=\"psysml:c8045a6d-f018-4e86-976c-73e06620aa4c\" xlink:show=\"new\" xlink:title=\"psysml:c8045a6d-f018-4e86-976c-73e06620aa4c\" xlink:type=\"simple\"><rect fill=\"#FEFECE\" filter=\"url(#f1u251r78yi7es)\" height=\"45.9375\" id=\"E8\" rx=\"10\" ry=\"10\" style=\"stroke: #A80036; stroke-width: 1.5;\" width=\"68\" x=\"107\" y=\"44.5\"/><ellipse cx=\"122\" cy=\"63.4688\" fill=\"#32CD32\" rx=\"11\" ry=\"11\" style=\"stroke: #A80036; stroke-width: 1.0;\"/><path d=\"M121.7969,59.1406 L121.7969,62.7656 L122.7969,62.7656 Q124,62.7656 124.4844,62.3594 Q124.9688,61.9531 124.9688,60.9531 Q124.9688,59.9531 124.4844,59.5469 Q124,59.1406 122.7969,59.1406 L121.7969,59.1406 Z M119.3438,57.0781 L122.7031,57.0781 Q125.2656,57.0781 126.3906,58 Q127.5156,58.9063 127.5156,60.9531 Q127.5156,63 126.3906,63.9219 Q125.2656,64.8281 122.7031,64.8281 L121.7969,64.8281 L121.7969,69.4688 L119.3438,69.4688 L119.3438,57.0781 Z \"/><text fill=\"#000000\" font-family=\"sans-serif\" font-size=\"12\" font-style=\"italic\" lengthAdjust=\"spacingAndGlyphs\" textLength=\"40\" x=\"134\" y=\"60.6387\">«part»</text><text fill=\"#000000\" font-family=\"sans-serif\" font-size=\"12\" lengthAdjust=\"spacingAndGlyphs\" textLength=\"21\" x=\"143.5\" y=\"74.6074\">z: B</text><line style=\"stroke: #A80036; stroke-width: 1.5;\" x1=\"108\" x2=\"174\" y1=\"82.4375\" y2=\"82.4375\"/></a><!--MD5=[09b614a08d8cba4a07c9adeb5e0fee81]\n",
       "class E3--><a href=\"psysml:06ccdf6b-7fde-40d2-9d83-7c71c3aaf391\" target=\"_top\" title=\"psysml:06ccdf6b-7fde-40d2-9d83-7c71c3aaf391\" xlink:actuate=\"onRequest\" xlink:href=\"psysml:06ccdf6b-7fde-40d2-9d83-7c71c3aaf391\" xlink:show=\"new\" xlink:title=\"psysml:06ccdf6b-7fde-40d2-9d83-7c71c3aaf391\" xlink:type=\"simple\"><rect fill=\"#FEFECE\" filter=\"url(#f1u251r78yi7es)\" height=\"40\" id=\"E3\" style=\"stroke: #A80036; stroke-width: 1.5;\" width=\"40\" x=\"214\" y=\"154\"/><ellipse cx=\"229\" cy=\"170\" fill=\"#008000\" rx=\"11\" ry=\"11\" style=\"stroke: #A80036; stroke-width: 1.0;\"/><path d=\"M227.9063,170.375 L227.9063,174.0469 L229.5313,174.0469 Q230.7031,174.0469 231.1719,173.6563 Q231.6406,173.25 231.6406,172.25 Q231.6406,171.25 231.1406,170.8125 Q230.6563,170.375 229.5313,170.375 L227.9063,170.375 Z M227.9063,165.5469 L227.9063,168.4219 L229.5313,168.4219 Q230.4531,168.4219 230.8438,168.0938 Q231.25,167.75 231.25,167 Q231.25,166.2344 230.8438,165.8906 Q230.4375,165.5469 229.5313,165.5469 L227.9063,165.5469 Z M225.5313,163.5938 L229.5313,163.5938 Q231.5938,163.5938 232.6406,164.375 Q233.6875,165.1563 233.6875,166.7188 Q233.6875,167.9219 233.0625,168.5938 Q232.4531,169.2656 231.2656,169.375 Q232.6875,169.5156 233.4063,170.3281 Q234.125,171.1406 234.125,172.5938 Q234.125,174.3906 233.0469,175.2031 Q231.9688,176 229.5313,176 L225.5313,176 L225.5313,163.5938 Z \"/><text fill=\"#000000\" font-family=\"sans-serif\" font-size=\"12\" lengthAdjust=\"spacingAndGlyphs\" textLength=\"8\" x=\"243\" y=\"174.1543\">A</text><line style=\"stroke: #A80036; stroke-width: 1.5;\" x1=\"215\" x2=\"253\" y1=\"186\" y2=\"186\"/></a><a href=\"psysml:524b97f3-dd10-444b-a6f8-a87f295610fc\" target=\"_top\" title=\"psysml:524b97f3-dd10-444b-a6f8-a87f295610fc\" xlink:actuate=\"onRequest\" xlink:href=\"psysml:524b97f3-dd10-444b-a6f8-a87f295610fc\" xlink:show=\"new\" xlink:title=\"psysml:524b97f3-dd10-444b-a6f8-a87f295610fc\" xlink:type=\"simple\"><polygon fill=\"#FFFFFF\" filter=\"url(#f1u251r78yi7es)\" points=\"32,41,58,41,65,63.2969,72,63.2969,72,93.5938,32,93.5938,32,41\" style=\"stroke: #000000; stroke-width: 1.5;\"/><line style=\"stroke: #000000; stroke-width: 1.5;\" x1=\"32\" x2=\"65\" y1=\"63.2969\" y2=\"63.2969\"/><text fill=\"#000000\" font-family=\"sans-serif\" font-size=\"14\" font-weight=\"bold\" lengthAdjust=\"spacingAndGlyphs\" textLength=\"20\" x=\"36\" y=\"55.9951\">P2</text></a><!--MD5=[2156ba9850f5573cc1fc38a6a4b2f02b]\n",
       "class E7--><a href=\"psysml:e6b11995-178a-4abf-b303-bbf3be6d894d\" target=\"_top\" title=\"psysml:e6b11995-178a-4abf-b303-bbf3be6d894d\" xlink:actuate=\"onRequest\" xlink:href=\"psysml:e6b11995-178a-4abf-b303-bbf3be6d894d\" xlink:show=\"new\" xlink:title=\"psysml:e6b11995-178a-4abf-b303-bbf3be6d894d\" xlink:type=\"simple\"><rect fill=\"#FEFECE\" filter=\"url(#f1u251r78yi7es)\" height=\"40\" id=\"E7\" style=\"stroke: #A80036; stroke-width: 1.5;\" width=\"40\" x=\"118\" y=\"154\"/><ellipse cx=\"133\" cy=\"170\" fill=\"#008000\" rx=\"11\" ry=\"11\" style=\"stroke: #A80036; stroke-width: 1.0;\"/><path d=\"M131.9063,170.375 L131.9063,174.0469 L133.5313,174.0469 Q134.7031,174.0469 135.1719,173.6563 Q135.6406,173.25 135.6406,172.25 Q135.6406,171.25 135.1406,170.8125 Q134.6563,170.375 133.5313,170.375 L131.9063,170.375 Z M131.9063,165.5469 L131.9063,168.4219 L133.5313,168.4219 Q134.4531,168.4219 134.8438,168.0938 Q135.25,167.75 135.25,167 Q135.25,166.2344 134.8438,165.8906 Q134.4375,165.5469 133.5313,165.5469 L131.9063,165.5469 Z M129.5313,163.5938 L133.5313,163.5938 Q135.5938,163.5938 136.6406,164.375 Q137.6875,165.1563 137.6875,166.7188 Q137.6875,167.9219 137.0625,168.5938 Q136.4531,169.2656 135.2656,169.375 Q136.6875,169.5156 137.4063,170.3281 Q138.125,171.1406 138.125,172.5938 Q138.125,174.3906 137.0469,175.2031 Q135.9688,176 133.5313,176 L129.5313,176 L129.5313,163.5938 Z \"/><text fill=\"#000000\" font-family=\"sans-serif\" font-size=\"12\" lengthAdjust=\"spacingAndGlyphs\" textLength=\"8\" x=\"147\" y=\"174.1543\">B</text><line style=\"stroke: #A80036; stroke-width: 1.5;\" x1=\"119\" x2=\"157\" y1=\"186\" y2=\"186\"/></a><!--MD5=[e9be52314489bd878ff4c7144b63c9e1]\n",
       "link E5 to E3--><a href=\"psysml:88440252-e8a6-408e-b428-64e589ea9f3d\" target=\"_top\" title=\"psysml:88440252-e8a6-408e-b428-64e589ea9f3d\" xlink:actuate=\"onRequest\" xlink:href=\"psysml:88440252-e8a6-408e-b428-64e589ea9f3d\" xlink:show=\"new\" xlink:title=\"psysml:88440252-e8a6-408e-b428-64e589ea9f3d\" xlink:type=\"simple\"><path d=\"M241.88,90.66 C240.68,103.15 239.16,119.11 237.77,133.65 \" fill=\"none\" id=\"E5-&gt;E3\" style=\"stroke: #A80036; stroke-width: 1.0;\"/><polygon fill=\"#FFFFFF\" points=\"235.85,153.68,230.7015,134.097,244.6371,135.4376,235.85,153.68\" style=\"stroke: #A80036; stroke-width: 1.0;\"/><ellipse cx=\"233.2381\" cy=\"128.6147\" fill=\"#A80036\" rx=\"2\" ry=\"2\" style=\"stroke: #A80036; stroke-width: 1.0;\"/><ellipse cx=\"243.1921\" cy=\"129.5723\" fill=\"#A80036\" rx=\"2\" ry=\"2\" style=\"stroke: #A80036; stroke-width: 1.0;\"/></a><!--MD5=[bfa3c8b0d15052fdf50ae9310b491027]\n",
       "link E8 to E7--><a href=\"psysml:a33b0610-5a8d-429b-bbd7-f981cc70bcb5\" target=\"_top\" title=\"psysml:a33b0610-5a8d-429b-bbd7-f981cc70bcb5\" xlink:actuate=\"onRequest\" xlink:href=\"psysml:a33b0610-5a8d-429b-bbd7-f981cc70bcb5\" xlink:show=\"new\" xlink:title=\"psysml:a33b0610-5a8d-429b-bbd7-f981cc70bcb5\" xlink:type=\"simple\"><path d=\"M140.36,90.66 C140.01,103.15 139.55,119.11 139.13,133.65 \" fill=\"none\" id=\"E8-&gt;E7\" style=\"stroke: #A80036; stroke-width: 1.0;\"/><polygon fill=\"#FFFFFF\" points=\"138.55,153.68,132.0955,134.4878,146.0898,134.8877,138.55,153.68\" style=\"stroke: #A80036; stroke-width: 1.0;\"/><ellipse cx=\"134.2575\" cy=\"128.8473\" fill=\"#A80036\" rx=\"2\" ry=\"2\" style=\"stroke: #A80036; stroke-width: 1.0;\"/><ellipse cx=\"144.2534\" cy=\"129.1329\" fill=\"#A80036\" rx=\"2\" ry=\"2\" style=\"stroke: #A80036; stroke-width: 1.0;\"/></a><!--MD5=[231db11e53a2bdf60014a0191164e33e]\n",
       "@startuml\r\n",
       " \r\n",
       "package \"PrivateImportTest\" as E1  [[psysml:fd8049a9-22d6-4d05-bbeb-ce76116dc6d9 ]]  {\r\n",
       "package \"P1\" as E2  [[psysml:b8db80a7-5996-4df4-9976-dc6864828b46 ]]  {\r\n",
       "comp def \"A\" as E3  << (B,green) >> [[psysml:06ccdf6b-7fde-40d2-9d83-7c71c3aaf391 ]] {\r\n",
       "}\r\n",
       "}\r\n",
       "package \"P2\" as E4  [[psysml:524b97f3-dd10-444b-a6f8-a87f295610fc ]]  {\r\n",
       "}\r\n",
       "comp usage \"x: A\" as E5  << (P,limegreen) part>> [[psysml:79fb998f-896a-4642-b1f0-d66dfbec55d7 ]] {\r\n",
       "}\r\n",
       "package \"P3\" as E6  [[psysml:5bfd0c7b-a7f5-42f3-81fc-e346e4c74519 ]]  {\r\n",
       "comp def \"B\" as E7  << (B,green) >> [[psysml:e6b11995-178a-4abf-b303-bbf3be6d894d ]] {\r\n",
       "}\r\n",
       "E5 - -:|> E3 [[psysml:88440252-e8a6-408e-b428-64e589ea9f3d ]] \r\n",
       "}\r\n",
       "comp usage \"z: B\" as E8  << (P,limegreen) part>> [[psysml:c8045a6d-f018-4e86-976c-73e06620aa4c ]] {\r\n",
       "}\r\n",
       "E8 - -:|> E7 [[psysml:a33b0610-5a8d-429b-bbd7-f981cc70bcb5 ]] \r\n",
       "}\r\n",
       "@enduml\r\n",
       "\n",
       "PlantUML version 1.2020.13(Sat Jun 13 12:26:38 UTC 2020)\n",
       "(EPL source distribution)\n",
       "Java Runtime: OpenJDK Runtime Environment\n",
       "JVM: OpenJDK 64-Bit Server VM\n",
       "Default Encoding: UTF-8\n",
       "Language: en\n",
       "Country: null\n",
       "--></g></svg>"
      ]
     },
     "execution_count": 30,
     "metadata": {},
     "output_type": "execute_result"
    }
   ],
   "source": [
    "%viz --style=\"PLANTUML\" --view=\"Default\" \"PrivateImportTest\""
   ]
  },
  {
   "cell_type": "code",
   "execution_count": 31,
   "id": "marked-rapid",
   "metadata": {
    "execution": {
     "iopub.execute_input": "2021-03-26T12:08:12.104207Z",
     "iopub.status.busy": "2021-03-26T12:08:12.103421Z",
     "iopub.status.idle": "2021-03-26T12:08:12.137323Z",
     "shell.execute_reply": "2021-03-26T12:08:12.137636Z"
    }
   },
   "outputs": [
    {
     "data": {
      "image/svg+xml": [
       "<?xml version=\"1.0\" encoding=\"UTF-8\" standalone=\"no\"?><svg xmlns=\"http://www.w3.org/2000/svg\" xmlns:xlink=\"http://www.w3.org/1999/xlink\" contentScriptType=\"application/ecmascript\" contentStyleType=\"text/css\" height=\"246px\" preserveAspectRatio=\"none\" style=\"width:316px;height:246px;\" version=\"1.1\" viewBox=\"0 0 316 246\" width=\"316px\" zoomAndPan=\"magnify\"><defs><filter height=\"300%\" id=\"f1u251r78yi7es\" width=\"300%\" x=\"-1\" y=\"-1\"><feGaussianBlur result=\"blurOut\" stdDeviation=\"2.0\"/><feColorMatrix in=\"blurOut\" result=\"blurOut2\" type=\"matrix\" values=\"0 0 0 0 0 0 0 0 0 0 0 0 0 0 0 0 0 0 .4 0\"/><feOffset dx=\"4.0\" dy=\"4.0\" in=\"blurOut2\" result=\"blurOut3\"/><feBlend in=\"SourceGraphic\" in2=\"blurOut3\" mode=\"normal\"/></filter></defs><g><!--MD5=[fbc87193dbaf4d95561dea2c320d4a47]\n",
       "cluster E1--><a href=\"psysml:fd8049a9-22d6-4d05-bbeb-ce76116dc6d9\" target=\"_top\" title=\"psysml:fd8049a9-22d6-4d05-bbeb-ce76116dc6d9\" xlink:actuate=\"onRequest\" xlink:href=\"psysml:fd8049a9-22d6-4d05-bbeb-ce76116dc6d9\" xlink:show=\"new\" xlink:title=\"psysml:fd8049a9-22d6-4d05-bbeb-ce76116dc6d9\" xlink:type=\"simple\"><polygon fill=\"#FFFFFF\" filter=\"url(#f1u251r78yi7es)\" points=\"16,6,163,6,170,28.2969,294,28.2969,294,234,16,234,16,6\" style=\"stroke: #000000; stroke-width: 1.5;\"/><line style=\"stroke: #000000; stroke-width: 1.5;\" x1=\"16\" x2=\"170\" y1=\"28.2969\" y2=\"28.2969\"/><text fill=\"#000000\" font-family=\"sans-serif\" font-size=\"14\" font-weight=\"bold\" lengthAdjust=\"spacingAndGlyphs\" textLength=\"141\" x=\"20\" y=\"20.9951\">PrivateImportTest</text></a><!--MD5=[e4f7fae6ed58524ba242bb0b0d3be6b7]\n",
       "cluster E2--><a href=\"psysml:b8db80a7-5996-4df4-9976-dc6864828b46\" target=\"_top\" title=\"psysml:b8db80a7-5996-4df4-9976-dc6864828b46\" xlink:actuate=\"onRequest\" xlink:href=\"psysml:b8db80a7-5996-4df4-9976-dc6864828b46\" xlink:show=\"new\" xlink:title=\"psysml:b8db80a7-5996-4df4-9976-dc6864828b46\" xlink:type=\"simple\"><polygon fill=\"#FFFFFF\" filter=\"url(#f1u251r78yi7es)\" points=\"198,119,224,119,231,141.2969,270,141.2969,270,210,198,210,198,119\" style=\"stroke: #000000; stroke-width: 1.5;\"/><line style=\"stroke: #000000; stroke-width: 1.5;\" x1=\"198\" x2=\"231\" y1=\"141.2969\" y2=\"141.2969\"/><text fill=\"#000000\" font-family=\"sans-serif\" font-size=\"14\" font-weight=\"bold\" lengthAdjust=\"spacingAndGlyphs\" textLength=\"20\" x=\"202\" y=\"133.9951\">P1</text></a><!--MD5=[14e3b0961a2654348d326746436168a1]\n",
       "cluster E6--><a href=\"psysml:5bfd0c7b-a7f5-42f3-81fc-e346e4c74519\" target=\"_top\" title=\"psysml:5bfd0c7b-a7f5-42f3-81fc-e346e4c74519\" xlink:actuate=\"onRequest\" xlink:href=\"psysml:5bfd0c7b-a7f5-42f3-81fc-e346e4c74519\" xlink:show=\"new\" xlink:title=\"psysml:5bfd0c7b-a7f5-42f3-81fc-e346e4c74519\" xlink:type=\"simple\"><polygon fill=\"#FFFFFF\" filter=\"url(#f1u251r78yi7es)\" points=\"102,119,128,119,135,141.2969,174,141.2969,174,210,102,210,102,119\" style=\"stroke: #000000; stroke-width: 1.5;\"/><line style=\"stroke: #000000; stroke-width: 1.5;\" x1=\"102\" x2=\"135\" y1=\"141.2969\" y2=\"141.2969\"/><text fill=\"#000000\" font-family=\"sans-serif\" font-size=\"14\" font-weight=\"bold\" lengthAdjust=\"spacingAndGlyphs\" textLength=\"20\" x=\"106\" y=\"133.9951\">P3</text></a><!--MD5=[270fce915f116d4de14055a7c1d9a0f3]\n",
       "class E5--><a href=\"psysml:79fb998f-896a-4642-b1f0-d66dfbec55d7\" target=\"_top\" title=\"psysml:79fb998f-896a-4642-b1f0-d66dfbec55d7\" xlink:actuate=\"onRequest\" xlink:href=\"psysml:79fb998f-896a-4642-b1f0-d66dfbec55d7\" xlink:show=\"new\" xlink:title=\"psysml:79fb998f-896a-4642-b1f0-d66dfbec55d7\" xlink:type=\"simple\"><rect fill=\"#FEFECE\" filter=\"url(#f1u251r78yi7es)\" height=\"45.9375\" id=\"E5\" rx=\"10\" ry=\"10\" style=\"stroke: #A80036; stroke-width: 1.5;\" width=\"68\" x=\"210\" y=\"44.5\"/><ellipse cx=\"225\" cy=\"63.4688\" fill=\"#32CD32\" rx=\"11\" ry=\"11\" style=\"stroke: #A80036; stroke-width: 1.0;\"/><path d=\"M224.7969,59.1406 L224.7969,62.7656 L225.7969,62.7656 Q227,62.7656 227.4844,62.3594 Q227.9688,61.9531 227.9688,60.9531 Q227.9688,59.9531 227.4844,59.5469 Q227,59.1406 225.7969,59.1406 L224.7969,59.1406 Z M222.3438,57.0781 L225.7031,57.0781 Q228.2656,57.0781 229.3906,58 Q230.5156,58.9063 230.5156,60.9531 Q230.5156,63 229.3906,63.9219 Q228.2656,64.8281 225.7031,64.8281 L224.7969,64.8281 L224.7969,69.4688 L222.3438,69.4688 L222.3438,57.0781 Z \"/><text fill=\"#000000\" font-family=\"sans-serif\" font-size=\"12\" font-style=\"italic\" lengthAdjust=\"spacingAndGlyphs\" textLength=\"40\" x=\"237\" y=\"60.6387\">«part»</text><text fill=\"#000000\" font-family=\"sans-serif\" font-size=\"12\" lengthAdjust=\"spacingAndGlyphs\" textLength=\"22\" x=\"246\" y=\"74.6074\">x: A</text><line style=\"stroke: #A80036; stroke-width: 1.5;\" x1=\"211\" x2=\"277\" y1=\"82.4375\" y2=\"82.4375\"/></a><!--MD5=[b9389687b975829384b498ac4b7476b2]\n",
       "class E8--><a href=\"psysml:c8045a6d-f018-4e86-976c-73e06620aa4c\" target=\"_top\" title=\"psysml:c8045a6d-f018-4e86-976c-73e06620aa4c\" xlink:actuate=\"onRequest\" xlink:href=\"psysml:c8045a6d-f018-4e86-976c-73e06620aa4c\" xlink:show=\"new\" xlink:title=\"psysml:c8045a6d-f018-4e86-976c-73e06620aa4c\" xlink:type=\"simple\"><rect fill=\"#FEFECE\" filter=\"url(#f1u251r78yi7es)\" height=\"45.9375\" id=\"E8\" rx=\"10\" ry=\"10\" style=\"stroke: #A80036; stroke-width: 1.5;\" width=\"68\" x=\"107\" y=\"44.5\"/><ellipse cx=\"122\" cy=\"63.4688\" fill=\"#32CD32\" rx=\"11\" ry=\"11\" style=\"stroke: #A80036; stroke-width: 1.0;\"/><path d=\"M121.7969,59.1406 L121.7969,62.7656 L122.7969,62.7656 Q124,62.7656 124.4844,62.3594 Q124.9688,61.9531 124.9688,60.9531 Q124.9688,59.9531 124.4844,59.5469 Q124,59.1406 122.7969,59.1406 L121.7969,59.1406 Z M119.3438,57.0781 L122.7031,57.0781 Q125.2656,57.0781 126.3906,58 Q127.5156,58.9063 127.5156,60.9531 Q127.5156,63 126.3906,63.9219 Q125.2656,64.8281 122.7031,64.8281 L121.7969,64.8281 L121.7969,69.4688 L119.3438,69.4688 L119.3438,57.0781 Z \"/><text fill=\"#000000\" font-family=\"sans-serif\" font-size=\"12\" font-style=\"italic\" lengthAdjust=\"spacingAndGlyphs\" textLength=\"40\" x=\"134\" y=\"60.6387\">«part»</text><text fill=\"#000000\" font-family=\"sans-serif\" font-size=\"12\" lengthAdjust=\"spacingAndGlyphs\" textLength=\"21\" x=\"143.5\" y=\"74.6074\">z: B</text><line style=\"stroke: #A80036; stroke-width: 1.5;\" x1=\"108\" x2=\"174\" y1=\"82.4375\" y2=\"82.4375\"/></a><!--MD5=[09b614a08d8cba4a07c9adeb5e0fee81]\n",
       "class E3--><a href=\"psysml:06ccdf6b-7fde-40d2-9d83-7c71c3aaf391\" target=\"_top\" title=\"psysml:06ccdf6b-7fde-40d2-9d83-7c71c3aaf391\" xlink:actuate=\"onRequest\" xlink:href=\"psysml:06ccdf6b-7fde-40d2-9d83-7c71c3aaf391\" xlink:show=\"new\" xlink:title=\"psysml:06ccdf6b-7fde-40d2-9d83-7c71c3aaf391\" xlink:type=\"simple\"><rect fill=\"#FEFECE\" filter=\"url(#f1u251r78yi7es)\" height=\"40\" id=\"E3\" style=\"stroke: #A80036; stroke-width: 1.5;\" width=\"40\" x=\"214\" y=\"154\"/><ellipse cx=\"229\" cy=\"170\" fill=\"#008000\" rx=\"11\" ry=\"11\" style=\"stroke: #A80036; stroke-width: 1.0;\"/><path d=\"M227.9063,170.375 L227.9063,174.0469 L229.5313,174.0469 Q230.7031,174.0469 231.1719,173.6563 Q231.6406,173.25 231.6406,172.25 Q231.6406,171.25 231.1406,170.8125 Q230.6563,170.375 229.5313,170.375 L227.9063,170.375 Z M227.9063,165.5469 L227.9063,168.4219 L229.5313,168.4219 Q230.4531,168.4219 230.8438,168.0938 Q231.25,167.75 231.25,167 Q231.25,166.2344 230.8438,165.8906 Q230.4375,165.5469 229.5313,165.5469 L227.9063,165.5469 Z M225.5313,163.5938 L229.5313,163.5938 Q231.5938,163.5938 232.6406,164.375 Q233.6875,165.1563 233.6875,166.7188 Q233.6875,167.9219 233.0625,168.5938 Q232.4531,169.2656 231.2656,169.375 Q232.6875,169.5156 233.4063,170.3281 Q234.125,171.1406 234.125,172.5938 Q234.125,174.3906 233.0469,175.2031 Q231.9688,176 229.5313,176 L225.5313,176 L225.5313,163.5938 Z \"/><text fill=\"#000000\" font-family=\"sans-serif\" font-size=\"12\" lengthAdjust=\"spacingAndGlyphs\" textLength=\"8\" x=\"243\" y=\"174.1543\">A</text><line style=\"stroke: #A80036; stroke-width: 1.5;\" x1=\"215\" x2=\"253\" y1=\"186\" y2=\"186\"/></a><a href=\"psysml:524b97f3-dd10-444b-a6f8-a87f295610fc\" target=\"_top\" title=\"psysml:524b97f3-dd10-444b-a6f8-a87f295610fc\" xlink:actuate=\"onRequest\" xlink:href=\"psysml:524b97f3-dd10-444b-a6f8-a87f295610fc\" xlink:show=\"new\" xlink:title=\"psysml:524b97f3-dd10-444b-a6f8-a87f295610fc\" xlink:type=\"simple\"><polygon fill=\"#FFFFFF\" filter=\"url(#f1u251r78yi7es)\" points=\"32,41,58,41,65,63.2969,72,63.2969,72,93.5938,32,93.5938,32,41\" style=\"stroke: #000000; stroke-width: 1.5;\"/><line style=\"stroke: #000000; stroke-width: 1.5;\" x1=\"32\" x2=\"65\" y1=\"63.2969\" y2=\"63.2969\"/><text fill=\"#000000\" font-family=\"sans-serif\" font-size=\"14\" font-weight=\"bold\" lengthAdjust=\"spacingAndGlyphs\" textLength=\"20\" x=\"36\" y=\"55.9951\">P2</text></a><!--MD5=[2156ba9850f5573cc1fc38a6a4b2f02b]\n",
       "class E7--><a href=\"psysml:e6b11995-178a-4abf-b303-bbf3be6d894d\" target=\"_top\" title=\"psysml:e6b11995-178a-4abf-b303-bbf3be6d894d\" xlink:actuate=\"onRequest\" xlink:href=\"psysml:e6b11995-178a-4abf-b303-bbf3be6d894d\" xlink:show=\"new\" xlink:title=\"psysml:e6b11995-178a-4abf-b303-bbf3be6d894d\" xlink:type=\"simple\"><rect fill=\"#FEFECE\" filter=\"url(#f1u251r78yi7es)\" height=\"40\" id=\"E7\" style=\"stroke: #A80036; stroke-width: 1.5;\" width=\"40\" x=\"118\" y=\"154\"/><ellipse cx=\"133\" cy=\"170\" fill=\"#008000\" rx=\"11\" ry=\"11\" style=\"stroke: #A80036; stroke-width: 1.0;\"/><path d=\"M131.9063,170.375 L131.9063,174.0469 L133.5313,174.0469 Q134.7031,174.0469 135.1719,173.6563 Q135.6406,173.25 135.6406,172.25 Q135.6406,171.25 135.1406,170.8125 Q134.6563,170.375 133.5313,170.375 L131.9063,170.375 Z M131.9063,165.5469 L131.9063,168.4219 L133.5313,168.4219 Q134.4531,168.4219 134.8438,168.0938 Q135.25,167.75 135.25,167 Q135.25,166.2344 134.8438,165.8906 Q134.4375,165.5469 133.5313,165.5469 L131.9063,165.5469 Z M129.5313,163.5938 L133.5313,163.5938 Q135.5938,163.5938 136.6406,164.375 Q137.6875,165.1563 137.6875,166.7188 Q137.6875,167.9219 137.0625,168.5938 Q136.4531,169.2656 135.2656,169.375 Q136.6875,169.5156 137.4063,170.3281 Q138.125,171.1406 138.125,172.5938 Q138.125,174.3906 137.0469,175.2031 Q135.9688,176 133.5313,176 L129.5313,176 L129.5313,163.5938 Z \"/><text fill=\"#000000\" font-family=\"sans-serif\" font-size=\"12\" lengthAdjust=\"spacingAndGlyphs\" textLength=\"8\" x=\"147\" y=\"174.1543\">B</text><line style=\"stroke: #A80036; stroke-width: 1.5;\" x1=\"119\" x2=\"157\" y1=\"186\" y2=\"186\"/></a><!--MD5=[e9be52314489bd878ff4c7144b63c9e1]\n",
       "link E5 to E3--><a href=\"psysml:88440252-e8a6-408e-b428-64e589ea9f3d\" target=\"_top\" title=\"psysml:88440252-e8a6-408e-b428-64e589ea9f3d\" xlink:actuate=\"onRequest\" xlink:href=\"psysml:88440252-e8a6-408e-b428-64e589ea9f3d\" xlink:show=\"new\" xlink:title=\"psysml:88440252-e8a6-408e-b428-64e589ea9f3d\" xlink:type=\"simple\"><path d=\"M241.88,90.66 C240.68,103.15 239.16,119.11 237.77,133.65 \" fill=\"none\" id=\"E5-&gt;E3\" style=\"stroke: #A80036; stroke-width: 1.0;\"/><polygon fill=\"#FFFFFF\" points=\"235.85,153.68,230.7015,134.097,244.6371,135.4376,235.85,153.68\" style=\"stroke: #A80036; stroke-width: 1.0;\"/><ellipse cx=\"233.2381\" cy=\"128.6147\" fill=\"#A80036\" rx=\"2\" ry=\"2\" style=\"stroke: #A80036; stroke-width: 1.0;\"/><ellipse cx=\"243.1921\" cy=\"129.5723\" fill=\"#A80036\" rx=\"2\" ry=\"2\" style=\"stroke: #A80036; stroke-width: 1.0;\"/></a><!--MD5=[bfa3c8b0d15052fdf50ae9310b491027]\n",
       "link E8 to E7--><a href=\"psysml:a33b0610-5a8d-429b-bbd7-f981cc70bcb5\" target=\"_top\" title=\"psysml:a33b0610-5a8d-429b-bbd7-f981cc70bcb5\" xlink:actuate=\"onRequest\" xlink:href=\"psysml:a33b0610-5a8d-429b-bbd7-f981cc70bcb5\" xlink:show=\"new\" xlink:title=\"psysml:a33b0610-5a8d-429b-bbd7-f981cc70bcb5\" xlink:type=\"simple\"><path d=\"M140.36,90.66 C140.01,103.15 139.55,119.11 139.13,133.65 \" fill=\"none\" id=\"E8-&gt;E7\" style=\"stroke: #A80036; stroke-width: 1.0;\"/><polygon fill=\"#FFFFFF\" points=\"138.55,153.68,132.0955,134.4878,146.0898,134.8877,138.55,153.68\" style=\"stroke: #A80036; stroke-width: 1.0;\"/><ellipse cx=\"134.2575\" cy=\"128.8473\" fill=\"#A80036\" rx=\"2\" ry=\"2\" style=\"stroke: #A80036; stroke-width: 1.0;\"/><ellipse cx=\"144.2534\" cy=\"129.1329\" fill=\"#A80036\" rx=\"2\" ry=\"2\" style=\"stroke: #A80036; stroke-width: 1.0;\"/></a><!--MD5=[231db11e53a2bdf60014a0191164e33e]\n",
       "@startuml\r\n",
       " \r\n",
       "package \"PrivateImportTest\" as E1  [[psysml:fd8049a9-22d6-4d05-bbeb-ce76116dc6d9 ]]  {\r\n",
       "package \"P1\" as E2  [[psysml:b8db80a7-5996-4df4-9976-dc6864828b46 ]]  {\r\n",
       "comp def \"A\" as E3  << (B,green) >> [[psysml:06ccdf6b-7fde-40d2-9d83-7c71c3aaf391 ]] {\r\n",
       "}\r\n",
       "}\r\n",
       "package \"P2\" as E4  [[psysml:524b97f3-dd10-444b-a6f8-a87f295610fc ]]  {\r\n",
       "}\r\n",
       "comp usage \"x: A\" as E5  << (P,limegreen) part>> [[psysml:79fb998f-896a-4642-b1f0-d66dfbec55d7 ]] {\r\n",
       "}\r\n",
       "package \"P3\" as E6  [[psysml:5bfd0c7b-a7f5-42f3-81fc-e346e4c74519 ]]  {\r\n",
       "comp def \"B\" as E7  << (B,green) >> [[psysml:e6b11995-178a-4abf-b303-bbf3be6d894d ]] {\r\n",
       "}\r\n",
       "E5 - -:|> E3 [[psysml:88440252-e8a6-408e-b428-64e589ea9f3d ]] \r\n",
       "}\r\n",
       "comp usage \"z: B\" as E8  << (P,limegreen) part>> [[psysml:c8045a6d-f018-4e86-976c-73e06620aa4c ]] {\r\n",
       "}\r\n",
       "E8 - -:|> E7 [[psysml:a33b0610-5a8d-429b-bbd7-f981cc70bcb5 ]] \r\n",
       "}\r\n",
       "@enduml\r\n",
       "\n",
       "PlantUML version 1.2020.13(Sat Jun 13 12:26:38 UTC 2020)\n",
       "(EPL source distribution)\n",
       "Java Runtime: OpenJDK Runtime Environment\n",
       "JVM: OpenJDK 64-Bit Server VM\n",
       "Default Encoding: UTF-8\n",
       "Language: en\n",
       "Country: null\n",
       "--></g></svg>"
      ]
     },
     "execution_count": 31,
     "metadata": {},
     "output_type": "execute_result"
    }
   ],
   "source": [
    "%viz --style=\"PLANTUML\" --view=\"Tree\" \"PrivateImportTest\""
   ]
  },
  {
   "cell_type": "code",
   "execution_count": 32,
   "id": "duplicate-seattle",
   "metadata": {
    "execution": {
     "iopub.execute_input": "2021-03-26T12:08:12.188176Z",
     "iopub.status.busy": "2021-03-26T12:08:12.187625Z",
     "iopub.status.idle": "2021-03-26T12:08:12.340167Z",
     "shell.execute_reply": "2021-03-26T12:08:12.338924Z"
    }
   },
   "outputs": [
    {
     "data": {
      "image/svg+xml": [
       "<?xml version=\"1.0\" encoding=\"UTF-8\" standalone=\"no\"?><svg xmlns=\"http://www.w3.org/2000/svg\" xmlns:xlink=\"http://www.w3.org/1999/xlink\" contentScriptType=\"application/ecmascript\" contentStyleType=\"text/css\" height=\"410px\" preserveAspectRatio=\"none\" style=\"width:603px;height:410px;background:#000000;\" version=\"1.1\" viewBox=\"0 0 603 410\" width=\"603px\" zoomAndPan=\"magnify\"><defs/><g><rect fill=\"#052515\" height=\"1\" style=\"stroke: #052515; stroke-width: 1.0;\" width=\"1\" x=\"0\" y=\"0\"/><rect fill=\"#FFFFFF\" height=\"53\" style=\"stroke: #FFFFFF; stroke-width: 1.0;\" width=\"602\" x=\"0\" y=\"0\"/><image height=\"53\" width=\"450\" x=\"1\" xlink:href=\"data:image/png;base64,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\" y=\"1\"/><rect fill=\"#FFFFFF\" height=\"205.5625\" style=\"stroke: #FFFFFF; stroke-width: 1.0;\" width=\"602\" x=\"0\" y=\"53\"/><text fill=\"#000000\" font-family=\"sans-serif\" font-size=\"12\" font-weight=\"bold\" lengthAdjust=\"spacingAndGlyphs\" textLength=\"159\" x=\"5\" y=\"69.1387\">Welcome to PlantUML!</text><text fill=\"#000000\" font-family=\"sans-serif\" font-size=\"12\" lengthAdjust=\"spacingAndGlyphs\" textLength=\"0\" x=\"9\" y=\"83.1074\"/><text fill=\"#000000\" font-family=\"sans-serif\" font-size=\"12\" lengthAdjust=\"spacingAndGlyphs\" textLength=\"293\" x=\"5\" y=\"97.0762\">If you use this software, you accept its license.</text><text fill=\"#000000\" font-family=\"sans-serif\" font-size=\"12\" lengthAdjust=\"spacingAndGlyphs\" textLength=\"107\" x=\"5\" y=\"111.0449\">(details by typing</text><text fill=\"#000000\" font-family=\"monospace\" font-size=\"12\" lengthAdjust=\"spacingAndGlyphs\" textLength=\"49\" x=\"116\" y=\"111.0449\">license</text><text fill=\"#000000\" font-family=\"sans-serif\" font-size=\"12\" lengthAdjust=\"spacingAndGlyphs\" textLength=\"56\" x=\"169\" y=\"111.0449\">keyword)</text><text fill=\"#000000\" font-family=\"sans-serif\" font-size=\"12\" lengthAdjust=\"spacingAndGlyphs\" textLength=\"0\" x=\"9\" y=\"125.0137\"/><text fill=\"#000000\" font-family=\"sans-serif\" font-size=\"12\" lengthAdjust=\"spacingAndGlyphs\" textLength=\"283\" x=\"5\" y=\"138.9824\">You can start with a simple UML Diagram like:</text><text fill=\"#000000\" font-family=\"sans-serif\" font-size=\"12\" lengthAdjust=\"spacingAndGlyphs\" textLength=\"0\" x=\"9\" y=\"152.9512\"/><text fill=\"#000000\" font-family=\"monospace\" font-size=\"12\" lengthAdjust=\"spacingAndGlyphs\" textLength=\"119\" x=\"5\" y=\"166.9199\">Bob-&gt;Alice: Hello</text><text fill=\"#000000\" font-family=\"sans-serif\" font-size=\"12\" lengthAdjust=\"spacingAndGlyphs\" textLength=\"0\" x=\"9\" y=\"180.8887\"/><text fill=\"#000000\" font-family=\"sans-serif\" font-size=\"12\" lengthAdjust=\"spacingAndGlyphs\" textLength=\"14\" x=\"5\" y=\"194.8574\">Or</text><text fill=\"#000000\" font-family=\"sans-serif\" font-size=\"12\" lengthAdjust=\"spacingAndGlyphs\" textLength=\"0\" x=\"9\" y=\"208.8262\"/><text fill=\"#000000\" font-family=\"monospace\" font-size=\"12\" lengthAdjust=\"spacingAndGlyphs\" textLength=\"91\" x=\"5\" y=\"222.7949\">class Example</text><text fill=\"#000000\" font-family=\"sans-serif\" font-size=\"12\" lengthAdjust=\"spacingAndGlyphs\" textLength=\"0\" x=\"9\" y=\"236.7637\"/><text fill=\"#000000\" font-family=\"sans-serif\" font-size=\"12\" lengthAdjust=\"spacingAndGlyphs\" textLength=\"349\" x=\"5\" y=\"250.7324\">You will find more information about PlantUML syntax on</text><text fill=\"#000000\" font-family=\"sans-serif\" font-size=\"12\" lengthAdjust=\"spacingAndGlyphs\" text-decoration=\"underline\" textLength=\"129\" x=\"358\" y=\"250.7324\">https://plantuml.com</text><image height=\"71\" width=\"80\" x=\"516\" xlink:href=\"data:image/png;base64,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\" y=\"59\"/><rect fill=\"#000000\" height=\"96.4844\" style=\"stroke: #000000; stroke-width: 1.0;\" width=\"602\" x=\"0\" y=\"258.5625\"/><rect fill=\"#33FF02\" height=\"21.2969\" style=\"stroke: #33FF02; stroke-width: 1.0;\" width=\"170\" x=\"5\" y=\"263.5625\"/><text fill=\"#000000\" font-family=\"sans-serif\" font-size=\"14\" font-weight=\"bold\" lengthAdjust=\"spacingAndGlyphs\" textLength=\"168\" x=\"6\" y=\"278.5625\">[From string (line 2) ]</text><text fill=\"#33FF02\" font-family=\"sans-serif\" font-size=\"14\" font-weight=\"bold\" lengthAdjust=\"spacingAndGlyphs\" textLength=\"0\" x=\"10\" y=\"298.8594\"/><text fill=\"#33FF02\" font-family=\"sans-serif\" font-size=\"14\" font-weight=\"bold\" lengthAdjust=\"spacingAndGlyphs\" textLength=\"79\" x=\"5\" y=\"315.1563\">@startuml</text><text fill=\"#33FF02\" font-family=\"sans-serif\" font-size=\"14\" font-weight=\"bold\" lengthAdjust=\"spacingAndGlyphs\" textLength=\"0\" x=\"10\" y=\"331.4531\"/><text fill=\"#FF0000\" font-family=\"sans-serif\" font-size=\"14\" font-weight=\"bold\" lengthAdjust=\"spacingAndGlyphs\" textLength=\"142\" x=\"10\" y=\"347.75\">Empty description</text><rect fill=\"#FFFFFF\" height=\"53\" style=\"stroke: #FFFFFF; stroke-width: 1.0;\" width=\"602\" x=\"0\" y=\"355.0469\"/><image height=\"53\" width=\"450\" x=\"1\" xlink:href=\"data:image/png;base64,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\" y=\"356.0469\"/><!--MD5=[f59edd8218d337f74d0c332fc6737304]\n",
       "@startuml\r\n",
       " \r\n",
       "@enduml\r\n",
       "\n",
       "PlantUML version 1.2020.13(Sat Jun 13 12:26:38 UTC 2020)\n",
       "(EPL source distribution)\n",
       "Java Runtime: OpenJDK Runtime Environment\n",
       "JVM: OpenJDK 64-Bit Server VM\n",
       "Default Encoding: UTF-8\n",
       "Language: en\n",
       "Country: null\n",
       "--></g></svg>"
      ]
     },
     "execution_count": 32,
     "metadata": {},
     "output_type": "execute_result"
    }
   ],
   "source": [
    "%viz --style=\"PLANTUML\" --view=\"State\" \"PrivateImportTest\""
   ]
  },
  {
   "cell_type": "code",
   "execution_count": 33,
   "id": "infectious-commission",
   "metadata": {
    "execution": {
     "iopub.execute_input": "2021-03-26T12:08:12.393063Z",
     "iopub.status.busy": "2021-03-26T12:08:12.392239Z",
     "iopub.status.idle": "2021-03-26T12:08:12.421958Z",
     "shell.execute_reply": "2021-03-26T12:08:12.420707Z"
    }
   },
   "outputs": [
    {
     "data": {
      "image/svg+xml": [
       "<?xml version=\"1.0\" encoding=\"UTF-8\" standalone=\"no\"?><svg xmlns=\"http://www.w3.org/2000/svg\" xmlns:xlink=\"http://www.w3.org/1999/xlink\" contentScriptType=\"application/ecmascript\" contentStyleType=\"text/css\" height=\"176px\" preserveAspectRatio=\"none\" style=\"width:513px;height:176px;\" version=\"1.1\" viewBox=\"0 0 513 176\" width=\"513px\" zoomAndPan=\"magnify\"><defs><filter height=\"300%\" id=\"f16taph2hibxil\" width=\"300%\" x=\"-1\" y=\"-1\"><feGaussianBlur result=\"blurOut\" stdDeviation=\"2.0\"/><feColorMatrix in=\"blurOut\" result=\"blurOut2\" type=\"matrix\" values=\"0 0 0 0 0 0 0 0 0 0 0 0 0 0 0 0 0 0 .4 0\"/><feOffset dx=\"4.0\" dy=\"4.0\" in=\"blurOut2\" result=\"blurOut3\"/><feBlend in=\"SourceGraphic\" in2=\"blurOut3\" mode=\"normal\"/></filter></defs><g><!--MD5=[fbc87193dbaf4d95561dea2c320d4a47]\n",
       "cluster E1--><a href=\"psysml:fd8049a9-22d6-4d05-bbeb-ce76116dc6d9\" target=\"_top\" title=\"psysml:fd8049a9-22d6-4d05-bbeb-ce76116dc6d9\" xlink:actuate=\"onRequest\" xlink:href=\"psysml:fd8049a9-22d6-4d05-bbeb-ce76116dc6d9\" xlink:show=\"new\" xlink:title=\"psysml:fd8049a9-22d6-4d05-bbeb-ce76116dc6d9\" xlink:type=\"simple\"><polygon fill=\"#FFFFFF\" filter=\"url(#f16taph2hibxil)\" points=\"16,6,163,6,170,28.2969,491,28.2969,491,164,16,164,16,6\" style=\"stroke: #000000; stroke-width: 1.5;\"/><line style=\"stroke: #000000; stroke-width: 1.5;\" x1=\"16\" x2=\"170\" y1=\"28.2969\" y2=\"28.2969\"/><text fill=\"#000000\" font-family=\"sans-serif\" font-size=\"14\" font-weight=\"bold\" lengthAdjust=\"spacingAndGlyphs\" textLength=\"141\" x=\"20\" y=\"20.9951\">PrivateImportTest</text></a><!--MD5=[e4f7fae6ed58524ba242bb0b0d3be6b7]\n",
       "cluster E2--><a href=\"psysml:b8db80a7-5996-4df4-9976-dc6864828b46\" target=\"_top\" title=\"psysml:b8db80a7-5996-4df4-9976-dc6864828b46\" xlink:actuate=\"onRequest\" xlink:href=\"psysml:b8db80a7-5996-4df4-9976-dc6864828b46\" xlink:show=\"new\" xlink:title=\"psysml:b8db80a7-5996-4df4-9976-dc6864828b46\" xlink:type=\"simple\"><polygon fill=\"#FFFFFF\" filter=\"url(#f16taph2hibxil)\" points=\"385,49,411,49,418,71.2969,467,71.2969,467,140,385,140,385,49\" style=\"stroke: #000000; stroke-width: 1.5;\"/><line style=\"stroke: #000000; stroke-width: 1.5;\" x1=\"385\" x2=\"418\" y1=\"71.2969\" y2=\"71.2969\"/><text fill=\"#000000\" font-family=\"sans-serif\" font-size=\"14\" font-weight=\"bold\" lengthAdjust=\"spacingAndGlyphs\" textLength=\"20\" x=\"389\" y=\"63.9951\">P1</text></a><!--MD5=[14e3b0961a2654348d326746436168a1]\n",
       "cluster E6--><a href=\"psysml:5bfd0c7b-a7f5-42f3-81fc-e346e4c74519\" target=\"_top\" title=\"psysml:5bfd0c7b-a7f5-42f3-81fc-e346e4c74519\" xlink:actuate=\"onRequest\" xlink:href=\"psysml:5bfd0c7b-a7f5-42f3-81fc-e346e4c74519\" xlink:show=\"new\" xlink:title=\"psysml:5bfd0c7b-a7f5-42f3-81fc-e346e4c74519\" xlink:type=\"simple\"><polygon fill=\"#FFFFFF\" filter=\"url(#f16taph2hibxil)\" points=\"279,49,305,49,312,71.2969,361,71.2969,361,140,279,140,279,49\" style=\"stroke: #000000; stroke-width: 1.5;\"/><line style=\"stroke: #000000; stroke-width: 1.5;\" x1=\"279\" x2=\"312\" y1=\"71.2969\" y2=\"71.2969\"/><text fill=\"#000000\" font-family=\"sans-serif\" font-size=\"14\" font-weight=\"bold\" lengthAdjust=\"spacingAndGlyphs\" textLength=\"20\" x=\"283\" y=\"63.9951\">P3</text></a><g id=\"E1.E2.E3\"><a href=\"psysml:06ccdf6b-7fde-40d2-9d83-7c71c3aaf391\" target=\"_top\" title=\"psysml:06ccdf6b-7fde-40d2-9d83-7c71c3aaf391\" xlink:actuate=\"onRequest\" xlink:href=\"psysml:06ccdf6b-7fde-40d2-9d83-7c71c3aaf391\" xlink:show=\"new\" xlink:title=\"psysml:06ccdf6b-7fde-40d2-9d83-7c71c3aaf391\" xlink:type=\"simple\"><rect fill=\"#FEFECE\" filter=\"url(#f16taph2hibxil)\" height=\"40\" id=\"E3\" style=\"stroke: #A80036; stroke-width: 1.5;\" width=\"50\" x=\"401\" y=\"84\"/><ellipse cx=\"420.5\" cy=\"100\" fill=\"#008000\" rx=\"11\" ry=\"11\" style=\"stroke: #A80036; stroke-width: 1.0;\"/><path d=\"M419.4063,100.375 L419.4063,104.0469 L421.0313,104.0469 Q422.2031,104.0469 422.6719,103.6563 Q423.1406,103.25 423.1406,102.25 Q423.1406,101.25 422.6406,100.8125 Q422.1563,100.375 421.0313,100.375 L419.4063,100.375 Z M419.4063,95.5469 L419.4063,98.4219 L421.0313,98.4219 Q421.9531,98.4219 422.3438,98.0938 Q422.75,97.75 422.75,97 Q422.75,96.2344 422.3438,95.8906 Q421.9375,95.5469 421.0313,95.5469 L419.4063,95.5469 Z M417.0313,93.5938 L421.0313,93.5938 Q423.0938,93.5938 424.1406,94.375 Q425.1875,95.1563 425.1875,96.7188 Q425.1875,97.9219 424.5625,98.5938 Q423.9531,99.2656 422.7656,99.375 Q424.1875,99.5156 424.9063,100.3281 Q425.625,101.1406 425.625,102.5938 Q425.625,104.3906 424.5469,105.2031 Q423.4688,106 421.0313,106 L417.0313,106 L417.0313,93.5938 Z \"/><text fill=\"#000000\" font-family=\"sans-serif\" font-size=\"12\" lengthAdjust=\"spacingAndGlyphs\" textLength=\"8\" x=\"435.5\" y=\"104.1543\">A</text></a></g><a href=\"psysml:524b97f3-dd10-444b-a6f8-a87f295610fc\" target=\"_top\" title=\"psysml:524b97f3-dd10-444b-a6f8-a87f295610fc\" xlink:actuate=\"onRequest\" xlink:href=\"psysml:524b97f3-dd10-444b-a6f8-a87f295610fc\" xlink:show=\"new\" xlink:title=\"psysml:524b97f3-dd10-444b-a6f8-a87f295610fc\" xlink:type=\"simple\"><polygon fill=\"#FFFFFF\" filter=\"url(#f16taph2hibxil)\" points=\"220,77.5,246,77.5,253,99.7969,260,99.7969,260,130.0938,220,130.0938,220,77.5\" style=\"stroke: #000000; stroke-width: 1.5;\"/><line style=\"stroke: #000000; stroke-width: 1.5;\" x1=\"220\" x2=\"253\" y1=\"99.7969\" y2=\"99.7969\"/><text fill=\"#000000\" font-family=\"sans-serif\" font-size=\"14\" font-weight=\"bold\" lengthAdjust=\"spacingAndGlyphs\" textLength=\"20\" x=\"224\" y=\"92.4951\">P2</text></a><g id=\"E1.E5\"><a href=\"psysml:79fb998f-896a-4642-b1f0-d66dfbec55d7\" target=\"_top\" title=\"psysml:79fb998f-896a-4642-b1f0-d66dfbec55d7\" xlink:actuate=\"onRequest\" xlink:href=\"psysml:79fb998f-896a-4642-b1f0-d66dfbec55d7\" xlink:show=\"new\" xlink:title=\"psysml:79fb998f-896a-4642-b1f0-d66dfbec55d7\" xlink:type=\"simple\"><rect fill=\"#FEFECE\" filter=\"url(#f16taph2hibxil)\" height=\"40\" id=\"E5\" rx=\"10\" ry=\"10\" style=\"stroke: #A80036; stroke-width: 1.5;\" width=\"59\" x=\"125.5\" y=\"84\"/><ellipse cx=\"142.75\" cy=\"100\" fill=\"#B6DBBB\" rx=\"11\" ry=\"11\" style=\"stroke: #A80036; stroke-width: 1.0;\"/><path d=\"M138.625,101.9219 L138.625,94.1094 L141.0781,94.1094 L141.0781,102.5469 Q141.0781,103.4688 141.5469,104 Q142.0313,104.5313 142.8594,104.5313 Q143.7031,104.5313 144.1719,104 Q144.6406,103.4688 144.6406,102.5469 L144.6406,94.1094 L147.0938,94.1094 L147.0938,101.9219 Q147.0938,104.4531 146.0938,105.5938 Q145.0938,106.7344 142.8594,106.7344 Q140.6406,106.7344 139.625,105.5938 Q138.625,104.4531 138.625,101.9219 Z \"/><text fill=\"#000000\" font-family=\"sans-serif\" font-size=\"12\" lengthAdjust=\"spacingAndGlyphs\" textLength=\"22\" x=\"157.25\" y=\"104.1543\">x: A</text></a></g><g id=\"E1.E6.E7\"><a href=\"psysml:e6b11995-178a-4abf-b303-bbf3be6d894d\" target=\"_top\" title=\"psysml:e6b11995-178a-4abf-b303-bbf3be6d894d\" xlink:actuate=\"onRequest\" xlink:href=\"psysml:e6b11995-178a-4abf-b303-bbf3be6d894d\" xlink:show=\"new\" xlink:title=\"psysml:e6b11995-178a-4abf-b303-bbf3be6d894d\" xlink:type=\"simple\"><rect fill=\"#FEFECE\" filter=\"url(#f16taph2hibxil)\" height=\"40\" id=\"E7\" style=\"stroke: #A80036; stroke-width: 1.5;\" width=\"50\" x=\"295\" y=\"84\"/><ellipse cx=\"314.5\" cy=\"100\" fill=\"#008000\" rx=\"11\" ry=\"11\" style=\"stroke: #A80036; stroke-width: 1.0;\"/><path d=\"M313.4063,100.375 L313.4063,104.0469 L315.0313,104.0469 Q316.2031,104.0469 316.6719,103.6563 Q317.1406,103.25 317.1406,102.25 Q317.1406,101.25 316.6406,100.8125 Q316.1563,100.375 315.0313,100.375 L313.4063,100.375 Z M313.4063,95.5469 L313.4063,98.4219 L315.0313,98.4219 Q315.9531,98.4219 316.3438,98.0938 Q316.75,97.75 316.75,97 Q316.75,96.2344 316.3438,95.8906 Q315.9375,95.5469 315.0313,95.5469 L313.4063,95.5469 Z M311.0313,93.5938 L315.0313,93.5938 Q317.0938,93.5938 318.1406,94.375 Q319.1875,95.1563 319.1875,96.7188 Q319.1875,97.9219 318.5625,98.5938 Q317.9531,99.2656 316.7656,99.375 Q318.1875,99.5156 318.9063,100.3281 Q319.625,101.1406 319.625,102.5938 Q319.625,104.3906 318.5469,105.2031 Q317.4688,106 315.0313,106 L311.0313,106 L311.0313,93.5938 Z \"/><text fill=\"#000000\" font-family=\"sans-serif\" font-size=\"12\" lengthAdjust=\"spacingAndGlyphs\" textLength=\"8\" x=\"329.5\" y=\"104.1543\">B</text></a></g><g id=\"E1.E8\"><a href=\"psysml:c8045a6d-f018-4e86-976c-73e06620aa4c\" target=\"_top\" title=\"psysml:c8045a6d-f018-4e86-976c-73e06620aa4c\" xlink:actuate=\"onRequest\" xlink:href=\"psysml:c8045a6d-f018-4e86-976c-73e06620aa4c\" xlink:show=\"new\" xlink:title=\"psysml:c8045a6d-f018-4e86-976c-73e06620aa4c\" xlink:type=\"simple\"><rect fill=\"#FEFECE\" filter=\"url(#f16taph2hibxil)\" height=\"40\" id=\"E8\" rx=\"10\" ry=\"10\" style=\"stroke: #A80036; stroke-width: 1.5;\" width=\"58\" x=\"32\" y=\"84\"/><ellipse cx=\"49.25\" cy=\"100\" fill=\"#B6DBBB\" rx=\"11\" ry=\"11\" style=\"stroke: #A80036; stroke-width: 1.0;\"/><path d=\"M45.125,101.9219 L45.125,94.1094 L47.5781,94.1094 L47.5781,102.5469 Q47.5781,103.4688 48.0469,104 Q48.5313,104.5313 49.3594,104.5313 Q50.2031,104.5313 50.6719,104 Q51.1406,103.4688 51.1406,102.5469 L51.1406,94.1094 L53.5938,94.1094 L53.5938,101.9219 Q53.5938,104.4531 52.5938,105.5938 Q51.5938,106.7344 49.3594,106.7344 Q47.1406,106.7344 46.125,105.5938 Q45.125,104.4531 45.125,101.9219 Z \"/><text fill=\"#000000\" font-family=\"sans-serif\" font-size=\"12\" lengthAdjust=\"spacingAndGlyphs\" textLength=\"21\" x=\"63.75\" y=\"104.1543\">z: B</text></a></g><!--MD5=[b4a37fc3f659883d95f6294b785ea1d6]\n",
       "@startuml\r\n",
       "skinparam ranksep 8\r\n",
       "skinparam rectangle {\r\n",
       " backgroundColor<<block>> LightGreen\r\n",
       "}\r\n",
       " \r\n",
       "package \"PrivateImportTest\" as E1  [[psysml:fd8049a9-22d6-4d05-bbeb-ce76116dc6d9 ]]  {\r\n",
       "package \"P1\" as E2  [[psysml:b8db80a7-5996-4df4-9976-dc6864828b46 ]]  {\r\n",
       "rec def \"A\" as E3  << (B,green) >> [[psysml:06ccdf6b-7fde-40d2-9d83-7c71c3aaf391 ]] {\r\n",
       "}\r\n",
       "}\r\n",
       "package \"P2\" as E4  [[psysml:524b97f3-dd10-444b-a6f8-a87f295610fc ]]  {\r\n",
       "}\r\n",
       "rec usage \"x: A\" as E5  [[psysml:79fb998f-896a-4642-b1f0-d66dfbec55d7 ]] {\r\n",
       "}\r\n",
       "package \"P3\" as E6  [[psysml:5bfd0c7b-a7f5-42f3-81fc-e346e4c74519 ]]  {\r\n",
       "rec def \"B\" as E7  << (B,green) >> [[psysml:e6b11995-178a-4abf-b303-bbf3be6d894d ]] {\r\n",
       "}\r\n",
       "}\r\n",
       "rec usage \"z: B\" as E8  [[psysml:c8045a6d-f018-4e86-976c-73e06620aa4c ]] {\r\n",
       "}\r\n",
       "}\r\n",
       "@enduml\r\n",
       "\n",
       "PlantUML version 1.2020.13(Sat Jun 13 12:26:38 UTC 2020)\n",
       "(EPL source distribution)\n",
       "Java Runtime: OpenJDK Runtime Environment\n",
       "JVM: OpenJDK 64-Bit Server VM\n",
       "Default Encoding: UTF-8\n",
       "Language: en\n",
       "Country: null\n",
       "--></g></svg>"
      ]
     },
     "execution_count": 33,
     "metadata": {},
     "output_type": "execute_result"
    }
   ],
   "source": [
    "%viz --style=\"PLANTUML\" --view=\"Interconnection\" \"PrivateImportTest\""
   ]
  },
  {
   "cell_type": "code",
   "execution_count": 34,
   "id": "stunning-volume",
   "metadata": {
    "execution": {
     "iopub.execute_input": "2021-03-26T12:08:12.474078Z",
     "iopub.status.busy": "2021-03-26T12:08:12.472983Z",
     "iopub.status.idle": "2021-03-26T12:08:12.479212Z",
     "shell.execute_reply": "2021-03-26T12:08:12.478857Z"
    }
   },
   "outputs": [
    {
     "data": {
      "image/svg+xml": [
       "<?xml version=\"1.0\" encoding=\"UTF-8\" standalone=\"no\"?><svg xmlns=\"http://www.w3.org/2000/svg\" xmlns:xlink=\"http://www.w3.org/1999/xlink\" contentScriptType=\"application/ecmascript\" contentStyleType=\"text/css\" height=\"12px\" preserveAspectRatio=\"none\" style=\"width:12px;height:12px;\" version=\"1.1\" viewBox=\"0 0 12 12\" width=\"12px\" zoomAndPan=\"magnify\"><defs/><g><!--MD5=[6a4cb978cab31700e1ce5529f947a75d]\n",
       "@startuml\r\n",
       "skinparam ranksep 8\r\n",
       " \r\n",
       "@enduml\r\n",
       "\n",
       "PlantUML version 1.2020.13(Sat Jun 13 12:26:38 UTC 2020)\n",
       "(EPL source distribution)\n",
       "Java Runtime: OpenJDK Runtime Environment\n",
       "JVM: OpenJDK 64-Bit Server VM\n",
       "Default Encoding: UTF-8\n",
       "Language: en\n",
       "Country: null\n",
       "--></g></svg>"
      ]
     },
     "execution_count": 34,
     "metadata": {},
     "output_type": "execute_result"
    }
   ],
   "source": [
    "%viz --style=\"PLANTUML\" --view=\"Action\" \"PrivateImportTest\""
   ]
  },
  {
   "cell_type": "code",
   "execution_count": 35,
   "id": "rolled-ownership",
   "metadata": {
    "execution": {
     "iopub.execute_input": "2021-03-26T12:08:12.531431Z",
     "iopub.status.busy": "2021-03-26T12:08:12.530612Z",
     "iopub.status.idle": "2021-03-26T12:08:12.561644Z",
     "shell.execute_reply": "2021-03-26T12:08:12.560407Z"
    }
   },
   "outputs": [
    {
     "data": {
      "image/svg+xml": [
       "<?xml version=\"1.0\" encoding=\"UTF-8\" standalone=\"no\"?><svg xmlns=\"http://www.w3.org/2000/svg\" xmlns:xlink=\"http://www.w3.org/1999/xlink\" contentScriptType=\"application/ecmascript\" contentStyleType=\"text/css\" height=\"246px\" preserveAspectRatio=\"none\" style=\"width:316px;height:246px;\" version=\"1.1\" viewBox=\"0 0 316 246\" width=\"316px\" zoomAndPan=\"magnify\"><defs><filter height=\"300%\" id=\"f1u251r78yi7es\" width=\"300%\" x=\"-1\" y=\"-1\"><feGaussianBlur result=\"blurOut\" stdDeviation=\"2.0\"/><feColorMatrix in=\"blurOut\" result=\"blurOut2\" type=\"matrix\" values=\"0 0 0 0 0 0 0 0 0 0 0 0 0 0 0 0 0 0 .4 0\"/><feOffset dx=\"4.0\" dy=\"4.0\" in=\"blurOut2\" result=\"blurOut3\"/><feBlend in=\"SourceGraphic\" in2=\"blurOut3\" mode=\"normal\"/></filter></defs><g><!--MD5=[fbc87193dbaf4d95561dea2c320d4a47]\n",
       "cluster E1--><a href=\"psysml:fd8049a9-22d6-4d05-bbeb-ce76116dc6d9\" target=\"_top\" title=\"psysml:fd8049a9-22d6-4d05-bbeb-ce76116dc6d9\" xlink:actuate=\"onRequest\" xlink:href=\"psysml:fd8049a9-22d6-4d05-bbeb-ce76116dc6d9\" xlink:show=\"new\" xlink:title=\"psysml:fd8049a9-22d6-4d05-bbeb-ce76116dc6d9\" xlink:type=\"simple\"><polygon fill=\"#FFFFFF\" filter=\"url(#f1u251r78yi7es)\" points=\"16,6,163,6,170,28.2969,294,28.2969,294,234,16,234,16,6\" style=\"stroke: #000000; stroke-width: 1.5;\"/><line style=\"stroke: #000000; stroke-width: 1.5;\" x1=\"16\" x2=\"170\" y1=\"28.2969\" y2=\"28.2969\"/><text fill=\"#000000\" font-family=\"sans-serif\" font-size=\"14\" font-weight=\"bold\" lengthAdjust=\"spacingAndGlyphs\" textLength=\"141\" x=\"20\" y=\"20.9951\">PrivateImportTest</text></a><!--MD5=[e4f7fae6ed58524ba242bb0b0d3be6b7]\n",
       "cluster E2--><a href=\"psysml:b8db80a7-5996-4df4-9976-dc6864828b46\" target=\"_top\" title=\"psysml:b8db80a7-5996-4df4-9976-dc6864828b46\" xlink:actuate=\"onRequest\" xlink:href=\"psysml:b8db80a7-5996-4df4-9976-dc6864828b46\" xlink:show=\"new\" xlink:title=\"psysml:b8db80a7-5996-4df4-9976-dc6864828b46\" xlink:type=\"simple\"><polygon fill=\"#FFFFFF\" filter=\"url(#f1u251r78yi7es)\" points=\"198,119,224,119,231,141.2969,270,141.2969,270,210,198,210,198,119\" style=\"stroke: #000000; stroke-width: 1.5;\"/><line style=\"stroke: #000000; stroke-width: 1.5;\" x1=\"198\" x2=\"231\" y1=\"141.2969\" y2=\"141.2969\"/><text fill=\"#000000\" font-family=\"sans-serif\" font-size=\"14\" font-weight=\"bold\" lengthAdjust=\"spacingAndGlyphs\" textLength=\"20\" x=\"202\" y=\"133.9951\">P1</text></a><!--MD5=[14e3b0961a2654348d326746436168a1]\n",
       "cluster E6--><a href=\"psysml:5bfd0c7b-a7f5-42f3-81fc-e346e4c74519\" target=\"_top\" title=\"psysml:5bfd0c7b-a7f5-42f3-81fc-e346e4c74519\" xlink:actuate=\"onRequest\" xlink:href=\"psysml:5bfd0c7b-a7f5-42f3-81fc-e346e4c74519\" xlink:show=\"new\" xlink:title=\"psysml:5bfd0c7b-a7f5-42f3-81fc-e346e4c74519\" xlink:type=\"simple\"><polygon fill=\"#FFFFFF\" filter=\"url(#f1u251r78yi7es)\" points=\"102,119,128,119,135,141.2969,174,141.2969,174,210,102,210,102,119\" style=\"stroke: #000000; stroke-width: 1.5;\"/><line style=\"stroke: #000000; stroke-width: 1.5;\" x1=\"102\" x2=\"135\" y1=\"141.2969\" y2=\"141.2969\"/><text fill=\"#000000\" font-family=\"sans-serif\" font-size=\"14\" font-weight=\"bold\" lengthAdjust=\"spacingAndGlyphs\" textLength=\"20\" x=\"106\" y=\"133.9951\">P3</text></a><!--MD5=[270fce915f116d4de14055a7c1d9a0f3]\n",
       "class E5--><a href=\"psysml:79fb998f-896a-4642-b1f0-d66dfbec55d7\" target=\"_top\" title=\"psysml:79fb998f-896a-4642-b1f0-d66dfbec55d7\" xlink:actuate=\"onRequest\" xlink:href=\"psysml:79fb998f-896a-4642-b1f0-d66dfbec55d7\" xlink:show=\"new\" xlink:title=\"psysml:79fb998f-896a-4642-b1f0-d66dfbec55d7\" xlink:type=\"simple\"><rect fill=\"#FEFECE\" filter=\"url(#f1u251r78yi7es)\" height=\"45.9375\" id=\"E5\" rx=\"10\" ry=\"10\" style=\"stroke: #A80036; stroke-width: 1.5;\" width=\"68\" x=\"210\" y=\"44.5\"/><ellipse cx=\"225\" cy=\"63.4688\" fill=\"#32CD32\" rx=\"11\" ry=\"11\" style=\"stroke: #A80036; stroke-width: 1.0;\"/><path d=\"M224.7969,59.1406 L224.7969,62.7656 L225.7969,62.7656 Q227,62.7656 227.4844,62.3594 Q227.9688,61.9531 227.9688,60.9531 Q227.9688,59.9531 227.4844,59.5469 Q227,59.1406 225.7969,59.1406 L224.7969,59.1406 Z M222.3438,57.0781 L225.7031,57.0781 Q228.2656,57.0781 229.3906,58 Q230.5156,58.9063 230.5156,60.9531 Q230.5156,63 229.3906,63.9219 Q228.2656,64.8281 225.7031,64.8281 L224.7969,64.8281 L224.7969,69.4688 L222.3438,69.4688 L222.3438,57.0781 Z \"/><text fill=\"#000000\" font-family=\"sans-serif\" font-size=\"12\" font-style=\"italic\" lengthAdjust=\"spacingAndGlyphs\" textLength=\"40\" x=\"237\" y=\"60.6387\">«part»</text><text fill=\"#000000\" font-family=\"sans-serif\" font-size=\"12\" lengthAdjust=\"spacingAndGlyphs\" textLength=\"22\" x=\"246\" y=\"74.6074\">x: A</text><line style=\"stroke: #A80036; stroke-width: 1.5;\" x1=\"211\" x2=\"277\" y1=\"82.4375\" y2=\"82.4375\"/></a><!--MD5=[b9389687b975829384b498ac4b7476b2]\n",
       "class E8--><a href=\"psysml:c8045a6d-f018-4e86-976c-73e06620aa4c\" target=\"_top\" title=\"psysml:c8045a6d-f018-4e86-976c-73e06620aa4c\" xlink:actuate=\"onRequest\" xlink:href=\"psysml:c8045a6d-f018-4e86-976c-73e06620aa4c\" xlink:show=\"new\" xlink:title=\"psysml:c8045a6d-f018-4e86-976c-73e06620aa4c\" xlink:type=\"simple\"><rect fill=\"#FEFECE\" filter=\"url(#f1u251r78yi7es)\" height=\"45.9375\" id=\"E8\" rx=\"10\" ry=\"10\" style=\"stroke: #A80036; stroke-width: 1.5;\" width=\"68\" x=\"107\" y=\"44.5\"/><ellipse cx=\"122\" cy=\"63.4688\" fill=\"#32CD32\" rx=\"11\" ry=\"11\" style=\"stroke: #A80036; stroke-width: 1.0;\"/><path d=\"M121.7969,59.1406 L121.7969,62.7656 L122.7969,62.7656 Q124,62.7656 124.4844,62.3594 Q124.9688,61.9531 124.9688,60.9531 Q124.9688,59.9531 124.4844,59.5469 Q124,59.1406 122.7969,59.1406 L121.7969,59.1406 Z M119.3438,57.0781 L122.7031,57.0781 Q125.2656,57.0781 126.3906,58 Q127.5156,58.9063 127.5156,60.9531 Q127.5156,63 126.3906,63.9219 Q125.2656,64.8281 122.7031,64.8281 L121.7969,64.8281 L121.7969,69.4688 L119.3438,69.4688 L119.3438,57.0781 Z \"/><text fill=\"#000000\" font-family=\"sans-serif\" font-size=\"12\" font-style=\"italic\" lengthAdjust=\"spacingAndGlyphs\" textLength=\"40\" x=\"134\" y=\"60.6387\">«part»</text><text fill=\"#000000\" font-family=\"sans-serif\" font-size=\"12\" lengthAdjust=\"spacingAndGlyphs\" textLength=\"21\" x=\"143.5\" y=\"74.6074\">z: B</text><line style=\"stroke: #A80036; stroke-width: 1.5;\" x1=\"108\" x2=\"174\" y1=\"82.4375\" y2=\"82.4375\"/></a><!--MD5=[09b614a08d8cba4a07c9adeb5e0fee81]\n",
       "class E3--><a href=\"psysml:06ccdf6b-7fde-40d2-9d83-7c71c3aaf391\" target=\"_top\" title=\"psysml:06ccdf6b-7fde-40d2-9d83-7c71c3aaf391\" xlink:actuate=\"onRequest\" xlink:href=\"psysml:06ccdf6b-7fde-40d2-9d83-7c71c3aaf391\" xlink:show=\"new\" xlink:title=\"psysml:06ccdf6b-7fde-40d2-9d83-7c71c3aaf391\" xlink:type=\"simple\"><rect fill=\"#FEFECE\" filter=\"url(#f1u251r78yi7es)\" height=\"40\" id=\"E3\" style=\"stroke: #A80036; stroke-width: 1.5;\" width=\"40\" x=\"214\" y=\"154\"/><ellipse cx=\"229\" cy=\"170\" fill=\"#008000\" rx=\"11\" ry=\"11\" style=\"stroke: #A80036; stroke-width: 1.0;\"/><path d=\"M227.9063,170.375 L227.9063,174.0469 L229.5313,174.0469 Q230.7031,174.0469 231.1719,173.6563 Q231.6406,173.25 231.6406,172.25 Q231.6406,171.25 231.1406,170.8125 Q230.6563,170.375 229.5313,170.375 L227.9063,170.375 Z M227.9063,165.5469 L227.9063,168.4219 L229.5313,168.4219 Q230.4531,168.4219 230.8438,168.0938 Q231.25,167.75 231.25,167 Q231.25,166.2344 230.8438,165.8906 Q230.4375,165.5469 229.5313,165.5469 L227.9063,165.5469 Z M225.5313,163.5938 L229.5313,163.5938 Q231.5938,163.5938 232.6406,164.375 Q233.6875,165.1563 233.6875,166.7188 Q233.6875,167.9219 233.0625,168.5938 Q232.4531,169.2656 231.2656,169.375 Q232.6875,169.5156 233.4063,170.3281 Q234.125,171.1406 234.125,172.5938 Q234.125,174.3906 233.0469,175.2031 Q231.9688,176 229.5313,176 L225.5313,176 L225.5313,163.5938 Z \"/><text fill=\"#000000\" font-family=\"sans-serif\" font-size=\"12\" lengthAdjust=\"spacingAndGlyphs\" textLength=\"8\" x=\"243\" y=\"174.1543\">A</text><line style=\"stroke: #A80036; stroke-width: 1.5;\" x1=\"215\" x2=\"253\" y1=\"186\" y2=\"186\"/></a><a href=\"psysml:524b97f3-dd10-444b-a6f8-a87f295610fc\" target=\"_top\" title=\"psysml:524b97f3-dd10-444b-a6f8-a87f295610fc\" xlink:actuate=\"onRequest\" xlink:href=\"psysml:524b97f3-dd10-444b-a6f8-a87f295610fc\" xlink:show=\"new\" xlink:title=\"psysml:524b97f3-dd10-444b-a6f8-a87f295610fc\" xlink:type=\"simple\"><polygon fill=\"#FFFFFF\" filter=\"url(#f1u251r78yi7es)\" points=\"32,41,58,41,65,63.2969,72,63.2969,72,93.5938,32,93.5938,32,41\" style=\"stroke: #000000; stroke-width: 1.5;\"/><line style=\"stroke: #000000; stroke-width: 1.5;\" x1=\"32\" x2=\"65\" y1=\"63.2969\" y2=\"63.2969\"/><text fill=\"#000000\" font-family=\"sans-serif\" font-size=\"14\" font-weight=\"bold\" lengthAdjust=\"spacingAndGlyphs\" textLength=\"20\" x=\"36\" y=\"55.9951\">P2</text></a><!--MD5=[2156ba9850f5573cc1fc38a6a4b2f02b]\n",
       "class E7--><a href=\"psysml:e6b11995-178a-4abf-b303-bbf3be6d894d\" target=\"_top\" title=\"psysml:e6b11995-178a-4abf-b303-bbf3be6d894d\" xlink:actuate=\"onRequest\" xlink:href=\"psysml:e6b11995-178a-4abf-b303-bbf3be6d894d\" xlink:show=\"new\" xlink:title=\"psysml:e6b11995-178a-4abf-b303-bbf3be6d894d\" xlink:type=\"simple\"><rect fill=\"#FEFECE\" filter=\"url(#f1u251r78yi7es)\" height=\"40\" id=\"E7\" style=\"stroke: #A80036; stroke-width: 1.5;\" width=\"40\" x=\"118\" y=\"154\"/><ellipse cx=\"133\" cy=\"170\" fill=\"#008000\" rx=\"11\" ry=\"11\" style=\"stroke: #A80036; stroke-width: 1.0;\"/><path d=\"M131.9063,170.375 L131.9063,174.0469 L133.5313,174.0469 Q134.7031,174.0469 135.1719,173.6563 Q135.6406,173.25 135.6406,172.25 Q135.6406,171.25 135.1406,170.8125 Q134.6563,170.375 133.5313,170.375 L131.9063,170.375 Z M131.9063,165.5469 L131.9063,168.4219 L133.5313,168.4219 Q134.4531,168.4219 134.8438,168.0938 Q135.25,167.75 135.25,167 Q135.25,166.2344 134.8438,165.8906 Q134.4375,165.5469 133.5313,165.5469 L131.9063,165.5469 Z M129.5313,163.5938 L133.5313,163.5938 Q135.5938,163.5938 136.6406,164.375 Q137.6875,165.1563 137.6875,166.7188 Q137.6875,167.9219 137.0625,168.5938 Q136.4531,169.2656 135.2656,169.375 Q136.6875,169.5156 137.4063,170.3281 Q138.125,171.1406 138.125,172.5938 Q138.125,174.3906 137.0469,175.2031 Q135.9688,176 133.5313,176 L129.5313,176 L129.5313,163.5938 Z \"/><text fill=\"#000000\" font-family=\"sans-serif\" font-size=\"12\" lengthAdjust=\"spacingAndGlyphs\" textLength=\"8\" x=\"147\" y=\"174.1543\">B</text><line style=\"stroke: #A80036; stroke-width: 1.5;\" x1=\"119\" x2=\"157\" y1=\"186\" y2=\"186\"/></a><!--MD5=[e9be52314489bd878ff4c7144b63c9e1]\n",
       "link E5 to E3--><a href=\"psysml:88440252-e8a6-408e-b428-64e589ea9f3d\" target=\"_top\" title=\"psysml:88440252-e8a6-408e-b428-64e589ea9f3d\" xlink:actuate=\"onRequest\" xlink:href=\"psysml:88440252-e8a6-408e-b428-64e589ea9f3d\" xlink:show=\"new\" xlink:title=\"psysml:88440252-e8a6-408e-b428-64e589ea9f3d\" xlink:type=\"simple\"><path d=\"M241.88,90.66 C240.68,103.15 239.16,119.11 237.77,133.65 \" fill=\"none\" id=\"E5-&gt;E3\" style=\"stroke: #A80036; stroke-width: 1.0;\"/><polygon fill=\"#FFFFFF\" points=\"235.85,153.68,230.7015,134.097,244.6371,135.4376,235.85,153.68\" style=\"stroke: #A80036; stroke-width: 1.0;\"/><ellipse cx=\"233.2381\" cy=\"128.6147\" fill=\"#A80036\" rx=\"2\" ry=\"2\" style=\"stroke: #A80036; stroke-width: 1.0;\"/><ellipse cx=\"243.1921\" cy=\"129.5723\" fill=\"#A80036\" rx=\"2\" ry=\"2\" style=\"stroke: #A80036; stroke-width: 1.0;\"/></a><!--MD5=[bfa3c8b0d15052fdf50ae9310b491027]\n",
       "link E8 to E7--><a href=\"psysml:a33b0610-5a8d-429b-bbd7-f981cc70bcb5\" target=\"_top\" title=\"psysml:a33b0610-5a8d-429b-bbd7-f981cc70bcb5\" xlink:actuate=\"onRequest\" xlink:href=\"psysml:a33b0610-5a8d-429b-bbd7-f981cc70bcb5\" xlink:show=\"new\" xlink:title=\"psysml:a33b0610-5a8d-429b-bbd7-f981cc70bcb5\" xlink:type=\"simple\"><path d=\"M140.36,90.66 C140.01,103.15 139.55,119.11 139.13,133.65 \" fill=\"none\" id=\"E8-&gt;E7\" style=\"stroke: #A80036; stroke-width: 1.0;\"/><polygon fill=\"#FFFFFF\" points=\"138.55,153.68,132.0955,134.4878,146.0898,134.8877,138.55,153.68\" style=\"stroke: #A80036; stroke-width: 1.0;\"/><ellipse cx=\"134.2575\" cy=\"128.8473\" fill=\"#A80036\" rx=\"2\" ry=\"2\" style=\"stroke: #A80036; stroke-width: 1.0;\"/><ellipse cx=\"144.2534\" cy=\"129.1329\" fill=\"#A80036\" rx=\"2\" ry=\"2\" style=\"stroke: #A80036; stroke-width: 1.0;\"/></a><!--MD5=[231db11e53a2bdf60014a0191164e33e]\n",
       "@startuml\r\n",
       " \r\n",
       "package \"PrivateImportTest\" as E1  [[psysml:fd8049a9-22d6-4d05-bbeb-ce76116dc6d9 ]]  {\r\n",
       "package \"P1\" as E2  [[psysml:b8db80a7-5996-4df4-9976-dc6864828b46 ]]  {\r\n",
       "comp def \"A\" as E3  << (B,green) >> [[psysml:06ccdf6b-7fde-40d2-9d83-7c71c3aaf391 ]] {\r\n",
       "}\r\n",
       "}\r\n",
       "package \"P2\" as E4  [[psysml:524b97f3-dd10-444b-a6f8-a87f295610fc ]]  {\r\n",
       "}\r\n",
       "comp usage \"x: A\" as E5  << (P,limegreen) part>> [[psysml:79fb998f-896a-4642-b1f0-d66dfbec55d7 ]] {\r\n",
       "}\r\n",
       "package \"P3\" as E6  [[psysml:5bfd0c7b-a7f5-42f3-81fc-e346e4c74519 ]]  {\r\n",
       "comp def \"B\" as E7  << (B,green) >> [[psysml:e6b11995-178a-4abf-b303-bbf3be6d894d ]] {\r\n",
       "}\r\n",
       "E5 - -:|> E3 [[psysml:88440252-e8a6-408e-b428-64e589ea9f3d ]] \r\n",
       "}\r\n",
       "comp usage \"z: B\" as E8  << (P,limegreen) part>> [[psysml:c8045a6d-f018-4e86-976c-73e06620aa4c ]] {\r\n",
       "}\r\n",
       "E8 - -:|> E7 [[psysml:a33b0610-5a8d-429b-bbd7-f981cc70bcb5 ]] \r\n",
       "}\r\n",
       "@enduml\r\n",
       "\n",
       "PlantUML version 1.2020.13(Sat Jun 13 12:26:38 UTC 2020)\n",
       "(EPL source distribution)\n",
       "Java Runtime: OpenJDK Runtime Environment\n",
       "JVM: OpenJDK 64-Bit Server VM\n",
       "Default Encoding: UTF-8\n",
       "Language: en\n",
       "Country: null\n",
       "--></g></svg>"
      ]
     },
     "execution_count": 35,
     "metadata": {},
     "output_type": "execute_result"
    }
   ],
   "source": [
    "%viz --style=\"PLANTUML\" --view=\"Sequence\" \"PrivateImportTest\""
   ]
  },
  {
   "cell_type": "code",
   "execution_count": 36,
   "id": "structural-specialist",
   "metadata": {
    "execution": {
     "iopub.execute_input": "2021-03-26T12:08:12.611876Z",
     "iopub.status.busy": "2021-03-26T12:08:12.611475Z",
     "iopub.status.idle": "2021-03-26T12:08:12.638640Z",
     "shell.execute_reply": "2021-03-26T12:08:12.637430Z"
    }
   },
   "outputs": [
    {
     "data": {
      "image/svg+xml": [
       "<?xml version=\"1.0\" encoding=\"UTF-8\" standalone=\"no\"?><svg xmlns=\"http://www.w3.org/2000/svg\" xmlns:xlink=\"http://www.w3.org/1999/xlink\" contentScriptType=\"application/ecmascript\" contentStyleType=\"text/css\" height=\"246px\" preserveAspectRatio=\"none\" style=\"width:316px;height:246px;\" version=\"1.1\" viewBox=\"0 0 316 246\" width=\"316px\" zoomAndPan=\"magnify\"><defs><filter height=\"300%\" id=\"f1u251r78yi7es\" width=\"300%\" x=\"-1\" y=\"-1\"><feGaussianBlur result=\"blurOut\" stdDeviation=\"2.0\"/><feColorMatrix in=\"blurOut\" result=\"blurOut2\" type=\"matrix\" values=\"0 0 0 0 0 0 0 0 0 0 0 0 0 0 0 0 0 0 .4 0\"/><feOffset dx=\"4.0\" dy=\"4.0\" in=\"blurOut2\" result=\"blurOut3\"/><feBlend in=\"SourceGraphic\" in2=\"blurOut3\" mode=\"normal\"/></filter></defs><g><!--MD5=[fbc87193dbaf4d95561dea2c320d4a47]\n",
       "cluster E1--><a href=\"psysml:fd8049a9-22d6-4d05-bbeb-ce76116dc6d9\" target=\"_top\" title=\"psysml:fd8049a9-22d6-4d05-bbeb-ce76116dc6d9\" xlink:actuate=\"onRequest\" xlink:href=\"psysml:fd8049a9-22d6-4d05-bbeb-ce76116dc6d9\" xlink:show=\"new\" xlink:title=\"psysml:fd8049a9-22d6-4d05-bbeb-ce76116dc6d9\" xlink:type=\"simple\"><polygon fill=\"#FFFFFF\" filter=\"url(#f1u251r78yi7es)\" points=\"16,6,163,6,170,28.2969,294,28.2969,294,234,16,234,16,6\" style=\"stroke: #000000; stroke-width: 1.5;\"/><line style=\"stroke: #000000; stroke-width: 1.5;\" x1=\"16\" x2=\"170\" y1=\"28.2969\" y2=\"28.2969\"/><text fill=\"#000000\" font-family=\"sans-serif\" font-size=\"14\" font-weight=\"bold\" lengthAdjust=\"spacingAndGlyphs\" textLength=\"141\" x=\"20\" y=\"20.9951\">PrivateImportTest</text></a><!--MD5=[e4f7fae6ed58524ba242bb0b0d3be6b7]\n",
       "cluster E2--><a href=\"psysml:b8db80a7-5996-4df4-9976-dc6864828b46\" target=\"_top\" title=\"psysml:b8db80a7-5996-4df4-9976-dc6864828b46\" xlink:actuate=\"onRequest\" xlink:href=\"psysml:b8db80a7-5996-4df4-9976-dc6864828b46\" xlink:show=\"new\" xlink:title=\"psysml:b8db80a7-5996-4df4-9976-dc6864828b46\" xlink:type=\"simple\"><polygon fill=\"#FFFFFF\" filter=\"url(#f1u251r78yi7es)\" points=\"198,119,224,119,231,141.2969,270,141.2969,270,210,198,210,198,119\" style=\"stroke: #000000; stroke-width: 1.5;\"/><line style=\"stroke: #000000; stroke-width: 1.5;\" x1=\"198\" x2=\"231\" y1=\"141.2969\" y2=\"141.2969\"/><text fill=\"#000000\" font-family=\"sans-serif\" font-size=\"14\" font-weight=\"bold\" lengthAdjust=\"spacingAndGlyphs\" textLength=\"20\" x=\"202\" y=\"133.9951\">P1</text></a><!--MD5=[14e3b0961a2654348d326746436168a1]\n",
       "cluster E6--><a href=\"psysml:5bfd0c7b-a7f5-42f3-81fc-e346e4c74519\" target=\"_top\" title=\"psysml:5bfd0c7b-a7f5-42f3-81fc-e346e4c74519\" xlink:actuate=\"onRequest\" xlink:href=\"psysml:5bfd0c7b-a7f5-42f3-81fc-e346e4c74519\" xlink:show=\"new\" xlink:title=\"psysml:5bfd0c7b-a7f5-42f3-81fc-e346e4c74519\" xlink:type=\"simple\"><polygon fill=\"#FFFFFF\" filter=\"url(#f1u251r78yi7es)\" points=\"102,119,128,119,135,141.2969,174,141.2969,174,210,102,210,102,119\" style=\"stroke: #000000; stroke-width: 1.5;\"/><line style=\"stroke: #000000; stroke-width: 1.5;\" x1=\"102\" x2=\"135\" y1=\"141.2969\" y2=\"141.2969\"/><text fill=\"#000000\" font-family=\"sans-serif\" font-size=\"14\" font-weight=\"bold\" lengthAdjust=\"spacingAndGlyphs\" textLength=\"20\" x=\"106\" y=\"133.9951\">P3</text></a><!--MD5=[270fce915f116d4de14055a7c1d9a0f3]\n",
       "class E5--><a href=\"psysml:79fb998f-896a-4642-b1f0-d66dfbec55d7\" target=\"_top\" title=\"psysml:79fb998f-896a-4642-b1f0-d66dfbec55d7\" xlink:actuate=\"onRequest\" xlink:href=\"psysml:79fb998f-896a-4642-b1f0-d66dfbec55d7\" xlink:show=\"new\" xlink:title=\"psysml:79fb998f-896a-4642-b1f0-d66dfbec55d7\" xlink:type=\"simple\"><rect fill=\"#FEFECE\" filter=\"url(#f1u251r78yi7es)\" height=\"45.9375\" id=\"E5\" rx=\"10\" ry=\"10\" style=\"stroke: #A80036; stroke-width: 1.5;\" width=\"68\" x=\"210\" y=\"44.5\"/><ellipse cx=\"225\" cy=\"63.4688\" fill=\"#32CD32\" rx=\"11\" ry=\"11\" style=\"stroke: #A80036; stroke-width: 1.0;\"/><path d=\"M224.7969,59.1406 L224.7969,62.7656 L225.7969,62.7656 Q227,62.7656 227.4844,62.3594 Q227.9688,61.9531 227.9688,60.9531 Q227.9688,59.9531 227.4844,59.5469 Q227,59.1406 225.7969,59.1406 L224.7969,59.1406 Z M222.3438,57.0781 L225.7031,57.0781 Q228.2656,57.0781 229.3906,58 Q230.5156,58.9063 230.5156,60.9531 Q230.5156,63 229.3906,63.9219 Q228.2656,64.8281 225.7031,64.8281 L224.7969,64.8281 L224.7969,69.4688 L222.3438,69.4688 L222.3438,57.0781 Z \"/><text fill=\"#000000\" font-family=\"sans-serif\" font-size=\"12\" font-style=\"italic\" lengthAdjust=\"spacingAndGlyphs\" textLength=\"40\" x=\"237\" y=\"60.6387\">«part»</text><text fill=\"#000000\" font-family=\"sans-serif\" font-size=\"12\" lengthAdjust=\"spacingAndGlyphs\" textLength=\"22\" x=\"246\" y=\"74.6074\">x: A</text><line style=\"stroke: #A80036; stroke-width: 1.5;\" x1=\"211\" x2=\"277\" y1=\"82.4375\" y2=\"82.4375\"/></a><!--MD5=[b9389687b975829384b498ac4b7476b2]\n",
       "class E8--><a href=\"psysml:c8045a6d-f018-4e86-976c-73e06620aa4c\" target=\"_top\" title=\"psysml:c8045a6d-f018-4e86-976c-73e06620aa4c\" xlink:actuate=\"onRequest\" xlink:href=\"psysml:c8045a6d-f018-4e86-976c-73e06620aa4c\" xlink:show=\"new\" xlink:title=\"psysml:c8045a6d-f018-4e86-976c-73e06620aa4c\" xlink:type=\"simple\"><rect fill=\"#FEFECE\" filter=\"url(#f1u251r78yi7es)\" height=\"45.9375\" id=\"E8\" rx=\"10\" ry=\"10\" style=\"stroke: #A80036; stroke-width: 1.5;\" width=\"68\" x=\"107\" y=\"44.5\"/><ellipse cx=\"122\" cy=\"63.4688\" fill=\"#32CD32\" rx=\"11\" ry=\"11\" style=\"stroke: #A80036; stroke-width: 1.0;\"/><path d=\"M121.7969,59.1406 L121.7969,62.7656 L122.7969,62.7656 Q124,62.7656 124.4844,62.3594 Q124.9688,61.9531 124.9688,60.9531 Q124.9688,59.9531 124.4844,59.5469 Q124,59.1406 122.7969,59.1406 L121.7969,59.1406 Z M119.3438,57.0781 L122.7031,57.0781 Q125.2656,57.0781 126.3906,58 Q127.5156,58.9063 127.5156,60.9531 Q127.5156,63 126.3906,63.9219 Q125.2656,64.8281 122.7031,64.8281 L121.7969,64.8281 L121.7969,69.4688 L119.3438,69.4688 L119.3438,57.0781 Z \"/><text fill=\"#000000\" font-family=\"sans-serif\" font-size=\"12\" font-style=\"italic\" lengthAdjust=\"spacingAndGlyphs\" textLength=\"40\" x=\"134\" y=\"60.6387\">«part»</text><text fill=\"#000000\" font-family=\"sans-serif\" font-size=\"12\" lengthAdjust=\"spacingAndGlyphs\" textLength=\"21\" x=\"143.5\" y=\"74.6074\">z: B</text><line style=\"stroke: #A80036; stroke-width: 1.5;\" x1=\"108\" x2=\"174\" y1=\"82.4375\" y2=\"82.4375\"/></a><!--MD5=[09b614a08d8cba4a07c9adeb5e0fee81]\n",
       "class E3--><a href=\"psysml:06ccdf6b-7fde-40d2-9d83-7c71c3aaf391\" target=\"_top\" title=\"psysml:06ccdf6b-7fde-40d2-9d83-7c71c3aaf391\" xlink:actuate=\"onRequest\" xlink:href=\"psysml:06ccdf6b-7fde-40d2-9d83-7c71c3aaf391\" xlink:show=\"new\" xlink:title=\"psysml:06ccdf6b-7fde-40d2-9d83-7c71c3aaf391\" xlink:type=\"simple\"><rect fill=\"#FEFECE\" filter=\"url(#f1u251r78yi7es)\" height=\"40\" id=\"E3\" style=\"stroke: #A80036; stroke-width: 1.5;\" width=\"40\" x=\"214\" y=\"154\"/><ellipse cx=\"229\" cy=\"170\" fill=\"#008000\" rx=\"11\" ry=\"11\" style=\"stroke: #A80036; stroke-width: 1.0;\"/><path d=\"M227.9063,170.375 L227.9063,174.0469 L229.5313,174.0469 Q230.7031,174.0469 231.1719,173.6563 Q231.6406,173.25 231.6406,172.25 Q231.6406,171.25 231.1406,170.8125 Q230.6563,170.375 229.5313,170.375 L227.9063,170.375 Z M227.9063,165.5469 L227.9063,168.4219 L229.5313,168.4219 Q230.4531,168.4219 230.8438,168.0938 Q231.25,167.75 231.25,167 Q231.25,166.2344 230.8438,165.8906 Q230.4375,165.5469 229.5313,165.5469 L227.9063,165.5469 Z M225.5313,163.5938 L229.5313,163.5938 Q231.5938,163.5938 232.6406,164.375 Q233.6875,165.1563 233.6875,166.7188 Q233.6875,167.9219 233.0625,168.5938 Q232.4531,169.2656 231.2656,169.375 Q232.6875,169.5156 233.4063,170.3281 Q234.125,171.1406 234.125,172.5938 Q234.125,174.3906 233.0469,175.2031 Q231.9688,176 229.5313,176 L225.5313,176 L225.5313,163.5938 Z \"/><text fill=\"#000000\" font-family=\"sans-serif\" font-size=\"12\" lengthAdjust=\"spacingAndGlyphs\" textLength=\"8\" x=\"243\" y=\"174.1543\">A</text><line style=\"stroke: #A80036; stroke-width: 1.5;\" x1=\"215\" x2=\"253\" y1=\"186\" y2=\"186\"/></a><a href=\"psysml:524b97f3-dd10-444b-a6f8-a87f295610fc\" target=\"_top\" title=\"psysml:524b97f3-dd10-444b-a6f8-a87f295610fc\" xlink:actuate=\"onRequest\" xlink:href=\"psysml:524b97f3-dd10-444b-a6f8-a87f295610fc\" xlink:show=\"new\" xlink:title=\"psysml:524b97f3-dd10-444b-a6f8-a87f295610fc\" xlink:type=\"simple\"><polygon fill=\"#FFFFFF\" filter=\"url(#f1u251r78yi7es)\" points=\"32,41,58,41,65,63.2969,72,63.2969,72,93.5938,32,93.5938,32,41\" style=\"stroke: #000000; stroke-width: 1.5;\"/><line style=\"stroke: #000000; stroke-width: 1.5;\" x1=\"32\" x2=\"65\" y1=\"63.2969\" y2=\"63.2969\"/><text fill=\"#000000\" font-family=\"sans-serif\" font-size=\"14\" font-weight=\"bold\" lengthAdjust=\"spacingAndGlyphs\" textLength=\"20\" x=\"36\" y=\"55.9951\">P2</text></a><!--MD5=[2156ba9850f5573cc1fc38a6a4b2f02b]\n",
       "class E7--><a href=\"psysml:e6b11995-178a-4abf-b303-bbf3be6d894d\" target=\"_top\" title=\"psysml:e6b11995-178a-4abf-b303-bbf3be6d894d\" xlink:actuate=\"onRequest\" xlink:href=\"psysml:e6b11995-178a-4abf-b303-bbf3be6d894d\" xlink:show=\"new\" xlink:title=\"psysml:e6b11995-178a-4abf-b303-bbf3be6d894d\" xlink:type=\"simple\"><rect fill=\"#FEFECE\" filter=\"url(#f1u251r78yi7es)\" height=\"40\" id=\"E7\" style=\"stroke: #A80036; stroke-width: 1.5;\" width=\"40\" x=\"118\" y=\"154\"/><ellipse cx=\"133\" cy=\"170\" fill=\"#008000\" rx=\"11\" ry=\"11\" style=\"stroke: #A80036; stroke-width: 1.0;\"/><path d=\"M131.9063,170.375 L131.9063,174.0469 L133.5313,174.0469 Q134.7031,174.0469 135.1719,173.6563 Q135.6406,173.25 135.6406,172.25 Q135.6406,171.25 135.1406,170.8125 Q134.6563,170.375 133.5313,170.375 L131.9063,170.375 Z M131.9063,165.5469 L131.9063,168.4219 L133.5313,168.4219 Q134.4531,168.4219 134.8438,168.0938 Q135.25,167.75 135.25,167 Q135.25,166.2344 134.8438,165.8906 Q134.4375,165.5469 133.5313,165.5469 L131.9063,165.5469 Z M129.5313,163.5938 L133.5313,163.5938 Q135.5938,163.5938 136.6406,164.375 Q137.6875,165.1563 137.6875,166.7188 Q137.6875,167.9219 137.0625,168.5938 Q136.4531,169.2656 135.2656,169.375 Q136.6875,169.5156 137.4063,170.3281 Q138.125,171.1406 138.125,172.5938 Q138.125,174.3906 137.0469,175.2031 Q135.9688,176 133.5313,176 L129.5313,176 L129.5313,163.5938 Z \"/><text fill=\"#000000\" font-family=\"sans-serif\" font-size=\"12\" lengthAdjust=\"spacingAndGlyphs\" textLength=\"8\" x=\"147\" y=\"174.1543\">B</text><line style=\"stroke: #A80036; stroke-width: 1.5;\" x1=\"119\" x2=\"157\" y1=\"186\" y2=\"186\"/></a><!--MD5=[e9be52314489bd878ff4c7144b63c9e1]\n",
       "link E5 to E3--><a href=\"psysml:88440252-e8a6-408e-b428-64e589ea9f3d\" target=\"_top\" title=\"psysml:88440252-e8a6-408e-b428-64e589ea9f3d\" xlink:actuate=\"onRequest\" xlink:href=\"psysml:88440252-e8a6-408e-b428-64e589ea9f3d\" xlink:show=\"new\" xlink:title=\"psysml:88440252-e8a6-408e-b428-64e589ea9f3d\" xlink:type=\"simple\"><path d=\"M241.88,90.66 C240.68,103.15 239.16,119.11 237.77,133.65 \" fill=\"none\" id=\"E5-&gt;E3\" style=\"stroke: #A80036; stroke-width: 1.0;\"/><polygon fill=\"#FFFFFF\" points=\"235.85,153.68,230.7015,134.097,244.6371,135.4376,235.85,153.68\" style=\"stroke: #A80036; stroke-width: 1.0;\"/><ellipse cx=\"233.2381\" cy=\"128.6147\" fill=\"#A80036\" rx=\"2\" ry=\"2\" style=\"stroke: #A80036; stroke-width: 1.0;\"/><ellipse cx=\"243.1921\" cy=\"129.5723\" fill=\"#A80036\" rx=\"2\" ry=\"2\" style=\"stroke: #A80036; stroke-width: 1.0;\"/></a><!--MD5=[bfa3c8b0d15052fdf50ae9310b491027]\n",
       "link E8 to E7--><a href=\"psysml:a33b0610-5a8d-429b-bbd7-f981cc70bcb5\" target=\"_top\" title=\"psysml:a33b0610-5a8d-429b-bbd7-f981cc70bcb5\" xlink:actuate=\"onRequest\" xlink:href=\"psysml:a33b0610-5a8d-429b-bbd7-f981cc70bcb5\" xlink:show=\"new\" xlink:title=\"psysml:a33b0610-5a8d-429b-bbd7-f981cc70bcb5\" xlink:type=\"simple\"><path d=\"M140.36,90.66 C140.01,103.15 139.55,119.11 139.13,133.65 \" fill=\"none\" id=\"E8-&gt;E7\" style=\"stroke: #A80036; stroke-width: 1.0;\"/><polygon fill=\"#FFFFFF\" points=\"138.55,153.68,132.0955,134.4878,146.0898,134.8877,138.55,153.68\" style=\"stroke: #A80036; stroke-width: 1.0;\"/><ellipse cx=\"134.2575\" cy=\"128.8473\" fill=\"#A80036\" rx=\"2\" ry=\"2\" style=\"stroke: #A80036; stroke-width: 1.0;\"/><ellipse cx=\"144.2534\" cy=\"129.1329\" fill=\"#A80036\" rx=\"2\" ry=\"2\" style=\"stroke: #A80036; stroke-width: 1.0;\"/></a><!--MD5=[231db11e53a2bdf60014a0191164e33e]\n",
       "@startuml\r\n",
       " \r\n",
       "package \"PrivateImportTest\" as E1  [[psysml:fd8049a9-22d6-4d05-bbeb-ce76116dc6d9 ]]  {\r\n",
       "package \"P1\" as E2  [[psysml:b8db80a7-5996-4df4-9976-dc6864828b46 ]]  {\r\n",
       "comp def \"A\" as E3  << (B,green) >> [[psysml:06ccdf6b-7fde-40d2-9d83-7c71c3aaf391 ]] {\r\n",
       "}\r\n",
       "}\r\n",
       "package \"P2\" as E4  [[psysml:524b97f3-dd10-444b-a6f8-a87f295610fc ]]  {\r\n",
       "}\r\n",
       "comp usage \"x: A\" as E5  << (P,limegreen) part>> [[psysml:79fb998f-896a-4642-b1f0-d66dfbec55d7 ]] {\r\n",
       "}\r\n",
       "package \"P3\" as E6  [[psysml:5bfd0c7b-a7f5-42f3-81fc-e346e4c74519 ]]  {\r\n",
       "comp def \"B\" as E7  << (B,green) >> [[psysml:e6b11995-178a-4abf-b303-bbf3be6d894d ]] {\r\n",
       "}\r\n",
       "E5 - -:|> E3 [[psysml:88440252-e8a6-408e-b428-64e589ea9f3d ]] \r\n",
       "}\r\n",
       "comp usage \"z: B\" as E8  << (P,limegreen) part>> [[psysml:c8045a6d-f018-4e86-976c-73e06620aa4c ]] {\r\n",
       "}\r\n",
       "E8 - -:|> E7 [[psysml:a33b0610-5a8d-429b-bbd7-f981cc70bcb5 ]] \r\n",
       "}\r\n",
       "@enduml\r\n",
       "\n",
       "PlantUML version 1.2020.13(Sat Jun 13 12:26:38 UTC 2020)\n",
       "(EPL source distribution)\n",
       "Java Runtime: OpenJDK Runtime Environment\n",
       "JVM: OpenJDK 64-Bit Server VM\n",
       "Default Encoding: UTF-8\n",
       "Language: en\n",
       "Country: null\n",
       "--></g></svg>"
      ]
     },
     "execution_count": 36,
     "metadata": {},
     "output_type": "execute_result"
    }
   ],
   "source": [
    "%viz --style=\"PLANTUML\" --view=\"MIXED\" \"PrivateImportTest\""
   ]
  },
  {
   "cell_type": "code",
   "execution_count": 37,
   "id": "liberal-coordinate",
   "metadata": {
    "execution": {
     "iopub.execute_input": "2021-03-26T12:08:12.689167Z",
     "iopub.status.busy": "2021-03-26T12:08:12.688758Z",
     "iopub.status.idle": "2021-03-26T12:08:12.727087Z",
     "shell.execute_reply": "2021-03-26T12:08:12.725231Z"
    }
   },
   "outputs": [
    {
     "data": {
      "image/svg+xml": [
       "<?xml version=\"1.0\" encoding=\"UTF-8\" standalone=\"no\"?><svg xmlns=\"http://www.w3.org/2000/svg\" xmlns:xlink=\"http://www.w3.org/1999/xlink\" contentScriptType=\"application/ecmascript\" contentStyleType=\"text/css\" height=\"252px\" preserveAspectRatio=\"none\" style=\"width:306px;height:252px;\" version=\"1.1\" viewBox=\"0 0 306 252\" width=\"306px\" zoomAndPan=\"magnify\"><defs/><g><!--MD5=[fbc87193dbaf4d95561dea2c320d4a47]\n",
       "cluster E1--><a href=\"psysml:fd8049a9-22d6-4d05-bbeb-ce76116dc6d9\" target=\"_top\" title=\"psysml:fd8049a9-22d6-4d05-bbeb-ce76116dc6d9\" xlink:actuate=\"onRequest\" xlink:href=\"psysml:fd8049a9-22d6-4d05-bbeb-ce76116dc6d9\" xlink:show=\"new\" xlink:title=\"psysml:fd8049a9-22d6-4d05-bbeb-ce76116dc6d9\" xlink:type=\"simple\"><polygon fill=\"#FFFFFF\" points=\"16,6,163,6,170,28.2969,284,28.2969,284,240,16,240,16,6\" style=\"stroke: #000000; stroke-width: 1.5;\"/><line style=\"stroke: #000000; stroke-width: 1.5;\" x1=\"16\" x2=\"170\" y1=\"28.2969\" y2=\"28.2969\"/><text fill=\"#000000\" font-family=\"sans-serif\" font-size=\"14\" font-weight=\"bold\" lengthAdjust=\"spacingAndGlyphs\" textLength=\"141\" x=\"20\" y=\"20.9951\">PrivateImportTest</text></a><!--MD5=[e4f7fae6ed58524ba242bb0b0d3be6b7]\n",
       "cluster E2--><a href=\"psysml:b8db80a7-5996-4df4-9976-dc6864828b46\" target=\"_top\" title=\"psysml:b8db80a7-5996-4df4-9976-dc6864828b46\" xlink:actuate=\"onRequest\" xlink:href=\"psysml:b8db80a7-5996-4df4-9976-dc6864828b46\" xlink:show=\"new\" xlink:title=\"psysml:b8db80a7-5996-4df4-9976-dc6864828b46\" xlink:type=\"simple\"><polygon fill=\"#FFFFFF\" points=\"162,119,188,119,195,141.2969,260,141.2969,260,216,162,216,162,119\" style=\"stroke: #000000; stroke-width: 1.5;\"/><line style=\"stroke: #000000; stroke-width: 1.5;\" x1=\"162\" x2=\"195\" y1=\"141.2969\" y2=\"141.2969\"/><text fill=\"#000000\" font-family=\"sans-serif\" font-size=\"14\" font-weight=\"bold\" lengthAdjust=\"spacingAndGlyphs\" textLength=\"20\" x=\"166\" y=\"133.9951\">P1</text></a><!--MD5=[14e3b0961a2654348d326746436168a1]\n",
       "cluster E6--><a href=\"psysml:5bfd0c7b-a7f5-42f3-81fc-e346e4c74519\" target=\"_top\" title=\"psysml:5bfd0c7b-a7f5-42f3-81fc-e346e4c74519\" xlink:actuate=\"onRequest\" xlink:href=\"psysml:5bfd0c7b-a7f5-42f3-81fc-e346e4c74519\" xlink:show=\"new\" xlink:title=\"psysml:5bfd0c7b-a7f5-42f3-81fc-e346e4c74519\" xlink:type=\"simple\"><polygon fill=\"#FFFFFF\" points=\"40,119,66,119,73,141.2969,138,141.2969,138,216,40,216,40,119\" style=\"stroke: #000000; stroke-width: 1.5;\"/><line style=\"stroke: #000000; stroke-width: 1.5;\" x1=\"40\" x2=\"73\" y1=\"141.2969\" y2=\"141.2969\"/><text fill=\"#000000\" font-family=\"sans-serif\" font-size=\"14\" font-weight=\"bold\" lengthAdjust=\"spacingAndGlyphs\" textLength=\"20\" x=\"44\" y=\"133.9951\">P3</text></a><!--MD5=[270fce915f116d4de14055a7c1d9a0f3]\n",
       "class E5--><a href=\"psysml:79fb998f-896a-4642-b1f0-d66dfbec55d7\" target=\"_top\" title=\"psysml:79fb998f-896a-4642-b1f0-d66dfbec55d7\" xlink:actuate=\"onRequest\" xlink:href=\"psysml:79fb998f-896a-4642-b1f0-d66dfbec55d7\" xlink:show=\"new\" xlink:title=\"psysml:79fb998f-896a-4642-b1f0-d66dfbec55d7\" xlink:type=\"simple\"><rect fill=\"#FFFFFF\" height=\"45.9375\" id=\"E5\" rx=\"10\" ry=\"10\" style=\"stroke: #383838; stroke-width: 1.5;\" width=\"42\" x=\"190\" y=\"44.5\"/><text fill=\"#000000\" font-family=\"sans-serif\" font-size=\"12\" font-style=\"italic\" lengthAdjust=\"spacingAndGlyphs\" textLength=\"40\" x=\"191\" y=\"60.6387\">«part»</text><text fill=\"#000000\" font-family=\"sans-serif\" font-size=\"12\" lengthAdjust=\"spacingAndGlyphs\" textLength=\"22\" x=\"200\" y=\"74.6074\">x: A</text><line style=\"stroke: #383838; stroke-width: 1.5;\" x1=\"191\" x2=\"231\" y1=\"82.4375\" y2=\"82.4375\"/></a><!--MD5=[b9389687b975829384b498ac4b7476b2]\n",
       "class E8--><a href=\"psysml:c8045a6d-f018-4e86-976c-73e06620aa4c\" target=\"_top\" title=\"psysml:c8045a6d-f018-4e86-976c-73e06620aa4c\" xlink:actuate=\"onRequest\" xlink:href=\"psysml:c8045a6d-f018-4e86-976c-73e06620aa4c\" xlink:show=\"new\" xlink:title=\"psysml:c8045a6d-f018-4e86-976c-73e06620aa4c\" xlink:type=\"simple\"><rect fill=\"#FFFFFF\" height=\"45.9375\" id=\"E8\" rx=\"10\" ry=\"10\" style=\"stroke: #383838; stroke-width: 1.5;\" width=\"42\" x=\"107\" y=\"44.5\"/><text fill=\"#000000\" font-family=\"sans-serif\" font-size=\"12\" font-style=\"italic\" lengthAdjust=\"spacingAndGlyphs\" textLength=\"40\" x=\"108\" y=\"60.6387\">«part»</text><text fill=\"#000000\" font-family=\"sans-serif\" font-size=\"12\" lengthAdjust=\"spacingAndGlyphs\" textLength=\"21\" x=\"117.5\" y=\"74.6074\">z: B</text><line style=\"stroke: #383838; stroke-width: 1.5;\" x1=\"108\" x2=\"148\" y1=\"82.4375\" y2=\"82.4375\"/></a><!--MD5=[09b614a08d8cba4a07c9adeb5e0fee81]\n",
       "class E3--><a href=\"psysml:06ccdf6b-7fde-40d2-9d83-7c71c3aaf391\" target=\"_top\" title=\"psysml:06ccdf6b-7fde-40d2-9d83-7c71c3aaf391\" xlink:actuate=\"onRequest\" xlink:href=\"psysml:06ccdf6b-7fde-40d2-9d83-7c71c3aaf391\" xlink:show=\"new\" xlink:title=\"psysml:06ccdf6b-7fde-40d2-9d83-7c71c3aaf391\" xlink:type=\"simple\"><rect fill=\"#FFFFFF\" height=\"45.9375\" id=\"E3\" style=\"stroke: #383838; stroke-width: 1.5;\" width=\"66\" x=\"178\" y=\"154\"/><text fill=\"#000000\" font-family=\"sans-serif\" font-size=\"12\" font-style=\"italic\" lengthAdjust=\"spacingAndGlyphs\" textLength=\"64\" x=\"179\" y=\"170.1387\">«part def»</text><text fill=\"#000000\" font-family=\"sans-serif\" font-size=\"12\" lengthAdjust=\"spacingAndGlyphs\" textLength=\"8\" x=\"207\" y=\"184.1074\">A</text><line style=\"stroke: #383838; stroke-width: 1.5;\" x1=\"179\" x2=\"243\" y1=\"191.9375\" y2=\"191.9375\"/></a><a href=\"psysml:524b97f3-dd10-444b-a6f8-a87f295610fc\" target=\"_top\" title=\"psysml:524b97f3-dd10-444b-a6f8-a87f295610fc\" xlink:actuate=\"onRequest\" xlink:href=\"psysml:524b97f3-dd10-444b-a6f8-a87f295610fc\" xlink:show=\"new\" xlink:title=\"psysml:524b97f3-dd10-444b-a6f8-a87f295610fc\" xlink:type=\"simple\"><polygon fill=\"#FFFFFF\" points=\"32,41,58,41,65,63.2969,72,63.2969,72,93.5938,32,93.5938,32,41\" style=\"stroke: #000000; stroke-width: 1.5;\"/><line style=\"stroke: #000000; stroke-width: 1.5;\" x1=\"32\" x2=\"65\" y1=\"63.2969\" y2=\"63.2969\"/><text fill=\"#000000\" font-family=\"sans-serif\" font-size=\"14\" font-weight=\"bold\" lengthAdjust=\"spacingAndGlyphs\" textLength=\"20\" x=\"36\" y=\"55.9951\">P2</text></a><!--MD5=[2156ba9850f5573cc1fc38a6a4b2f02b]\n",
       "class E7--><a href=\"psysml:e6b11995-178a-4abf-b303-bbf3be6d894d\" target=\"_top\" title=\"psysml:e6b11995-178a-4abf-b303-bbf3be6d894d\" xlink:actuate=\"onRequest\" xlink:href=\"psysml:e6b11995-178a-4abf-b303-bbf3be6d894d\" xlink:show=\"new\" xlink:title=\"psysml:e6b11995-178a-4abf-b303-bbf3be6d894d\" xlink:type=\"simple\"><rect fill=\"#FFFFFF\" height=\"45.9375\" id=\"E7\" style=\"stroke: #383838; stroke-width: 1.5;\" width=\"66\" x=\"56\" y=\"154\"/><text fill=\"#000000\" font-family=\"sans-serif\" font-size=\"12\" font-style=\"italic\" lengthAdjust=\"spacingAndGlyphs\" textLength=\"64\" x=\"57\" y=\"170.1387\">«part def»</text><text fill=\"#000000\" font-family=\"sans-serif\" font-size=\"12\" lengthAdjust=\"spacingAndGlyphs\" textLength=\"8\" x=\"85\" y=\"184.1074\">B</text><line style=\"stroke: #383838; stroke-width: 1.5;\" x1=\"57\" x2=\"121\" y1=\"191.9375\" y2=\"191.9375\"/></a><!--MD5=[e9be52314489bd878ff4c7144b63c9e1]\n",
       "link E5 to E3--><a href=\"psysml:88440252-e8a6-408e-b428-64e589ea9f3d\" target=\"_top\" title=\"psysml:88440252-e8a6-408e-b428-64e589ea9f3d\" xlink:actuate=\"onRequest\" xlink:href=\"psysml:88440252-e8a6-408e-b428-64e589ea9f3d\" xlink:show=\"new\" xlink:title=\"psysml:88440252-e8a6-408e-b428-64e589ea9f3d\" xlink:type=\"simple\"><path d=\"M211,90.51 C211,102.89 211,118.78 211,133.48 \" fill=\"none\" id=\"E5-&gt;E3\" style=\"stroke: #383838; stroke-width: 1.0;\"/><polygon fill=\"#FFFFFF\" points=\"211,153.65,204,134.65,218,134.65,211,153.65\" style=\"stroke: #383838; stroke-width: 1.0;\"/><ellipse cx=\"206\" cy=\"128.95\" fill=\"#383838\" rx=\"2\" ry=\"2\" style=\"stroke: #383838; stroke-width: 1.0;\"/><ellipse cx=\"216\" cy=\"128.95\" fill=\"#383838\" rx=\"2\" ry=\"2\" style=\"stroke: #383838; stroke-width: 1.0;\"/></a><!--MD5=[bfa3c8b0d15052fdf50ae9310b491027]\n",
       "link E8 to E7--><a href=\"psysml:a33b0610-5a8d-429b-bbd7-f981cc70bcb5\" target=\"_top\" title=\"psysml:a33b0610-5a8d-429b-bbd7-f981cc70bcb5\" xlink:actuate=\"onRequest\" xlink:href=\"psysml:a33b0610-5a8d-429b-bbd7-f981cc70bcb5\" xlink:show=\"new\" xlink:title=\"psysml:a33b0610-5a8d-429b-bbd7-f981cc70bcb5\" xlink:type=\"simple\"><path d=\"M120.01,90.51 C115.39,103.25 109.42,119.7 103.96,134.76 \" fill=\"none\" id=\"E8-&gt;E7\" style=\"stroke: #383838; stroke-width: 1.0;\"/><polygon fill=\"#FFFFFF\" points=\"97.11,153.65,97.0036,133.4018,110.1656,138.1726,97.11,153.65\" style=\"stroke: #383838; stroke-width: 1.0;\"/><ellipse cx=\"100.8262\" cy=\"128.7245\" fill=\"#383838\" rx=\"2\" ry=\"2\" style=\"stroke: #383838; stroke-width: 1.0;\"/><ellipse cx=\"110.2277\" cy=\"132.1322\" fill=\"#383838\" rx=\"2\" ry=\"2\" style=\"stroke: #383838; stroke-width: 1.0;\"/></a><!--MD5=[7609fc4cfbea8385a6eae88f46160179]\n",
       "@startuml\r\n",
       "skinparam monochrome true\r\n",
       "skinparam classbackgroundcolor white\r\n",
       "skinparam shadowing false\r\n",
       "skinparam wrapWidth 300\r\n",
       "hide circle\r\n",
       "\r\n",
       "package \"PrivateImportTest\" as E1  [[psysml:fd8049a9-22d6-4d05-bbeb-ce76116dc6d9 ]]  {\r\n",
       "package \"P1\" as E2  [[psysml:b8db80a7-5996-4df4-9976-dc6864828b46 ]]  {\r\n",
       "comp def \"A\" as E3  <<(T,blue)part def>> [[psysml:06ccdf6b-7fde-40d2-9d83-7c71c3aaf391 ]] {\r\n",
       "}\r\n",
       "}\r\n",
       "package \"P2\" as E4  [[psysml:524b97f3-dd10-444b-a6f8-a87f295610fc ]]  {\r\n",
       "}\r\n",
       "comp usage \"x: A\" as E5  <<(T,blue)part>> [[psysml:79fb998f-896a-4642-b1f0-d66dfbec55d7 ]] {\r\n",
       "}\r\n",
       "package \"P3\" as E6  [[psysml:5bfd0c7b-a7f5-42f3-81fc-e346e4c74519 ]]  {\r\n",
       "comp def \"B\" as E7  <<(T,blue)part def>> [[psysml:e6b11995-178a-4abf-b303-bbf3be6d894d ]] {\r\n",
       "}\r\n",
       "E5 - -:|> E3 [[psysml:88440252-e8a6-408e-b428-64e589ea9f3d ]] \r\n",
       "}\r\n",
       "comp usage \"z: B\" as E8  <<(T,blue)part>> [[psysml:c8045a6d-f018-4e86-976c-73e06620aa4c ]] {\r\n",
       "}\r\n",
       "E8 - -:|> E7 [[psysml:a33b0610-5a8d-429b-bbd7-f981cc70bcb5 ]] \r\n",
       "}\r\n",
       "@enduml\r\n",
       "\n",
       "PlantUML version 1.2020.13(Sat Jun 13 12:26:38 UTC 2020)\n",
       "(EPL source distribution)\n",
       "Java Runtime: OpenJDK Runtime Environment\n",
       "JVM: OpenJDK 64-Bit Server VM\n",
       "Default Encoding: UTF-8\n",
       "Language: en\n",
       "Country: null\n",
       "--></g></svg>"
      ]
     },
     "execution_count": 37,
     "metadata": {},
     "output_type": "execute_result"
    }
   ],
   "source": [
    "%viz --style=\"DEFAULT\" --view=\"Default\" \"PrivateImportTest\""
   ]
  },
  {
   "cell_type": "code",
   "execution_count": 38,
   "id": "powerful-processing",
   "metadata": {
    "execution": {
     "iopub.execute_input": "2021-03-26T12:08:12.780575Z",
     "iopub.status.busy": "2021-03-26T12:08:12.779594Z",
     "iopub.status.idle": "2021-03-26T12:08:12.813639Z",
     "shell.execute_reply": "2021-03-26T12:08:12.811530Z"
    }
   },
   "outputs": [
    {
     "data": {
      "image/svg+xml": [
       "<?xml version=\"1.0\" encoding=\"UTF-8\" standalone=\"no\"?><svg xmlns=\"http://www.w3.org/2000/svg\" xmlns:xlink=\"http://www.w3.org/1999/xlink\" contentScriptType=\"application/ecmascript\" contentStyleType=\"text/css\" height=\"252px\" preserveAspectRatio=\"none\" style=\"width:306px;height:252px;\" version=\"1.1\" viewBox=\"0 0 306 252\" width=\"306px\" zoomAndPan=\"magnify\"><defs/><g><!--MD5=[fbc87193dbaf4d95561dea2c320d4a47]\n",
       "cluster E1--><a href=\"psysml:fd8049a9-22d6-4d05-bbeb-ce76116dc6d9\" target=\"_top\" title=\"psysml:fd8049a9-22d6-4d05-bbeb-ce76116dc6d9\" xlink:actuate=\"onRequest\" xlink:href=\"psysml:fd8049a9-22d6-4d05-bbeb-ce76116dc6d9\" xlink:show=\"new\" xlink:title=\"psysml:fd8049a9-22d6-4d05-bbeb-ce76116dc6d9\" xlink:type=\"simple\"><polygon fill=\"#FFFFFF\" points=\"16,6,163,6,170,28.2969,284,28.2969,284,240,16,240,16,6\" style=\"stroke: #000000; stroke-width: 1.5;\"/><line style=\"stroke: #000000; stroke-width: 1.5;\" x1=\"16\" x2=\"170\" y1=\"28.2969\" y2=\"28.2969\"/><text fill=\"#000000\" font-family=\"sans-serif\" font-size=\"14\" font-weight=\"bold\" lengthAdjust=\"spacingAndGlyphs\" textLength=\"141\" x=\"20\" y=\"20.9951\">PrivateImportTest</text></a><!--MD5=[e4f7fae6ed58524ba242bb0b0d3be6b7]\n",
       "cluster E2--><a href=\"psysml:b8db80a7-5996-4df4-9976-dc6864828b46\" target=\"_top\" title=\"psysml:b8db80a7-5996-4df4-9976-dc6864828b46\" xlink:actuate=\"onRequest\" xlink:href=\"psysml:b8db80a7-5996-4df4-9976-dc6864828b46\" xlink:show=\"new\" xlink:title=\"psysml:b8db80a7-5996-4df4-9976-dc6864828b46\" xlink:type=\"simple\"><polygon fill=\"#FFFFFF\" points=\"162,119,188,119,195,141.2969,260,141.2969,260,216,162,216,162,119\" style=\"stroke: #000000; stroke-width: 1.5;\"/><line style=\"stroke: #000000; stroke-width: 1.5;\" x1=\"162\" x2=\"195\" y1=\"141.2969\" y2=\"141.2969\"/><text fill=\"#000000\" font-family=\"sans-serif\" font-size=\"14\" font-weight=\"bold\" lengthAdjust=\"spacingAndGlyphs\" textLength=\"20\" x=\"166\" y=\"133.9951\">P1</text></a><!--MD5=[14e3b0961a2654348d326746436168a1]\n",
       "cluster E6--><a href=\"psysml:5bfd0c7b-a7f5-42f3-81fc-e346e4c74519\" target=\"_top\" title=\"psysml:5bfd0c7b-a7f5-42f3-81fc-e346e4c74519\" xlink:actuate=\"onRequest\" xlink:href=\"psysml:5bfd0c7b-a7f5-42f3-81fc-e346e4c74519\" xlink:show=\"new\" xlink:title=\"psysml:5bfd0c7b-a7f5-42f3-81fc-e346e4c74519\" xlink:type=\"simple\"><polygon fill=\"#FFFFFF\" points=\"40,119,66,119,73,141.2969,138,141.2969,138,216,40,216,40,119\" style=\"stroke: #000000; stroke-width: 1.5;\"/><line style=\"stroke: #000000; stroke-width: 1.5;\" x1=\"40\" x2=\"73\" y1=\"141.2969\" y2=\"141.2969\"/><text fill=\"#000000\" font-family=\"sans-serif\" font-size=\"14\" font-weight=\"bold\" lengthAdjust=\"spacingAndGlyphs\" textLength=\"20\" x=\"44\" y=\"133.9951\">P3</text></a><!--MD5=[270fce915f116d4de14055a7c1d9a0f3]\n",
       "class E5--><a href=\"psysml:79fb998f-896a-4642-b1f0-d66dfbec55d7\" target=\"_top\" title=\"psysml:79fb998f-896a-4642-b1f0-d66dfbec55d7\" xlink:actuate=\"onRequest\" xlink:href=\"psysml:79fb998f-896a-4642-b1f0-d66dfbec55d7\" xlink:show=\"new\" xlink:title=\"psysml:79fb998f-896a-4642-b1f0-d66dfbec55d7\" xlink:type=\"simple\"><rect fill=\"#FFFFFF\" height=\"45.9375\" id=\"E5\" rx=\"10\" ry=\"10\" style=\"stroke: #383838; stroke-width: 1.5;\" width=\"42\" x=\"190\" y=\"44.5\"/><text fill=\"#000000\" font-family=\"sans-serif\" font-size=\"12\" font-style=\"italic\" lengthAdjust=\"spacingAndGlyphs\" textLength=\"40\" x=\"191\" y=\"60.6387\">«part»</text><text fill=\"#000000\" font-family=\"sans-serif\" font-size=\"12\" lengthAdjust=\"spacingAndGlyphs\" textLength=\"22\" x=\"200\" y=\"74.6074\">x: A</text><line style=\"stroke: #383838; stroke-width: 1.5;\" x1=\"191\" x2=\"231\" y1=\"82.4375\" y2=\"82.4375\"/></a><!--MD5=[b9389687b975829384b498ac4b7476b2]\n",
       "class E8--><a href=\"psysml:c8045a6d-f018-4e86-976c-73e06620aa4c\" target=\"_top\" title=\"psysml:c8045a6d-f018-4e86-976c-73e06620aa4c\" xlink:actuate=\"onRequest\" xlink:href=\"psysml:c8045a6d-f018-4e86-976c-73e06620aa4c\" xlink:show=\"new\" xlink:title=\"psysml:c8045a6d-f018-4e86-976c-73e06620aa4c\" xlink:type=\"simple\"><rect fill=\"#FFFFFF\" height=\"45.9375\" id=\"E8\" rx=\"10\" ry=\"10\" style=\"stroke: #383838; stroke-width: 1.5;\" width=\"42\" x=\"107\" y=\"44.5\"/><text fill=\"#000000\" font-family=\"sans-serif\" font-size=\"12\" font-style=\"italic\" lengthAdjust=\"spacingAndGlyphs\" textLength=\"40\" x=\"108\" y=\"60.6387\">«part»</text><text fill=\"#000000\" font-family=\"sans-serif\" font-size=\"12\" lengthAdjust=\"spacingAndGlyphs\" textLength=\"21\" x=\"117.5\" y=\"74.6074\">z: B</text><line style=\"stroke: #383838; stroke-width: 1.5;\" x1=\"108\" x2=\"148\" y1=\"82.4375\" y2=\"82.4375\"/></a><!--MD5=[09b614a08d8cba4a07c9adeb5e0fee81]\n",
       "class E3--><a href=\"psysml:06ccdf6b-7fde-40d2-9d83-7c71c3aaf391\" target=\"_top\" title=\"psysml:06ccdf6b-7fde-40d2-9d83-7c71c3aaf391\" xlink:actuate=\"onRequest\" xlink:href=\"psysml:06ccdf6b-7fde-40d2-9d83-7c71c3aaf391\" xlink:show=\"new\" xlink:title=\"psysml:06ccdf6b-7fde-40d2-9d83-7c71c3aaf391\" xlink:type=\"simple\"><rect fill=\"#FFFFFF\" height=\"45.9375\" id=\"E3\" style=\"stroke: #383838; stroke-width: 1.5;\" width=\"66\" x=\"178\" y=\"154\"/><text fill=\"#000000\" font-family=\"sans-serif\" font-size=\"12\" font-style=\"italic\" lengthAdjust=\"spacingAndGlyphs\" textLength=\"64\" x=\"179\" y=\"170.1387\">«part def»</text><text fill=\"#000000\" font-family=\"sans-serif\" font-size=\"12\" lengthAdjust=\"spacingAndGlyphs\" textLength=\"8\" x=\"207\" y=\"184.1074\">A</text><line style=\"stroke: #383838; stroke-width: 1.5;\" x1=\"179\" x2=\"243\" y1=\"191.9375\" y2=\"191.9375\"/></a><a href=\"psysml:524b97f3-dd10-444b-a6f8-a87f295610fc\" target=\"_top\" title=\"psysml:524b97f3-dd10-444b-a6f8-a87f295610fc\" xlink:actuate=\"onRequest\" xlink:href=\"psysml:524b97f3-dd10-444b-a6f8-a87f295610fc\" xlink:show=\"new\" xlink:title=\"psysml:524b97f3-dd10-444b-a6f8-a87f295610fc\" xlink:type=\"simple\"><polygon fill=\"#FFFFFF\" points=\"32,41,58,41,65,63.2969,72,63.2969,72,93.5938,32,93.5938,32,41\" style=\"stroke: #000000; stroke-width: 1.5;\"/><line style=\"stroke: #000000; stroke-width: 1.5;\" x1=\"32\" x2=\"65\" y1=\"63.2969\" y2=\"63.2969\"/><text fill=\"#000000\" font-family=\"sans-serif\" font-size=\"14\" font-weight=\"bold\" lengthAdjust=\"spacingAndGlyphs\" textLength=\"20\" x=\"36\" y=\"55.9951\">P2</text></a><!--MD5=[2156ba9850f5573cc1fc38a6a4b2f02b]\n",
       "class E7--><a href=\"psysml:e6b11995-178a-4abf-b303-bbf3be6d894d\" target=\"_top\" title=\"psysml:e6b11995-178a-4abf-b303-bbf3be6d894d\" xlink:actuate=\"onRequest\" xlink:href=\"psysml:e6b11995-178a-4abf-b303-bbf3be6d894d\" xlink:show=\"new\" xlink:title=\"psysml:e6b11995-178a-4abf-b303-bbf3be6d894d\" xlink:type=\"simple\"><rect fill=\"#FFFFFF\" height=\"45.9375\" id=\"E7\" style=\"stroke: #383838; stroke-width: 1.5;\" width=\"66\" x=\"56\" y=\"154\"/><text fill=\"#000000\" font-family=\"sans-serif\" font-size=\"12\" font-style=\"italic\" lengthAdjust=\"spacingAndGlyphs\" textLength=\"64\" x=\"57\" y=\"170.1387\">«part def»</text><text fill=\"#000000\" font-family=\"sans-serif\" font-size=\"12\" lengthAdjust=\"spacingAndGlyphs\" textLength=\"8\" x=\"85\" y=\"184.1074\">B</text><line style=\"stroke: #383838; stroke-width: 1.5;\" x1=\"57\" x2=\"121\" y1=\"191.9375\" y2=\"191.9375\"/></a><!--MD5=[e9be52314489bd878ff4c7144b63c9e1]\n",
       "link E5 to E3--><a href=\"psysml:88440252-e8a6-408e-b428-64e589ea9f3d\" target=\"_top\" title=\"psysml:88440252-e8a6-408e-b428-64e589ea9f3d\" xlink:actuate=\"onRequest\" xlink:href=\"psysml:88440252-e8a6-408e-b428-64e589ea9f3d\" xlink:show=\"new\" xlink:title=\"psysml:88440252-e8a6-408e-b428-64e589ea9f3d\" xlink:type=\"simple\"><path d=\"M211,90.51 C211,102.89 211,118.78 211,133.48 \" fill=\"none\" id=\"E5-&gt;E3\" style=\"stroke: #383838; stroke-width: 1.0;\"/><polygon fill=\"#FFFFFF\" points=\"211,153.65,204,134.65,218,134.65,211,153.65\" style=\"stroke: #383838; stroke-width: 1.0;\"/><ellipse cx=\"206\" cy=\"128.95\" fill=\"#383838\" rx=\"2\" ry=\"2\" style=\"stroke: #383838; stroke-width: 1.0;\"/><ellipse cx=\"216\" cy=\"128.95\" fill=\"#383838\" rx=\"2\" ry=\"2\" style=\"stroke: #383838; stroke-width: 1.0;\"/></a><!--MD5=[bfa3c8b0d15052fdf50ae9310b491027]\n",
       "link E8 to E7--><a href=\"psysml:a33b0610-5a8d-429b-bbd7-f981cc70bcb5\" target=\"_top\" title=\"psysml:a33b0610-5a8d-429b-bbd7-f981cc70bcb5\" xlink:actuate=\"onRequest\" xlink:href=\"psysml:a33b0610-5a8d-429b-bbd7-f981cc70bcb5\" xlink:show=\"new\" xlink:title=\"psysml:a33b0610-5a8d-429b-bbd7-f981cc70bcb5\" xlink:type=\"simple\"><path d=\"M120.01,90.51 C115.39,103.25 109.42,119.7 103.96,134.76 \" fill=\"none\" id=\"E8-&gt;E7\" style=\"stroke: #383838; stroke-width: 1.0;\"/><polygon fill=\"#FFFFFF\" points=\"97.11,153.65,97.0036,133.4018,110.1656,138.1726,97.11,153.65\" style=\"stroke: #383838; stroke-width: 1.0;\"/><ellipse cx=\"100.8262\" cy=\"128.7245\" fill=\"#383838\" rx=\"2\" ry=\"2\" style=\"stroke: #383838; stroke-width: 1.0;\"/><ellipse cx=\"110.2277\" cy=\"132.1322\" fill=\"#383838\" rx=\"2\" ry=\"2\" style=\"stroke: #383838; stroke-width: 1.0;\"/></a><!--MD5=[7609fc4cfbea8385a6eae88f46160179]\n",
       "@startuml\r\n",
       "skinparam monochrome true\r\n",
       "skinparam classbackgroundcolor white\r\n",
       "skinparam shadowing false\r\n",
       "skinparam wrapWidth 300\r\n",
       "hide circle\r\n",
       "\r\n",
       "package \"PrivateImportTest\" as E1  [[psysml:fd8049a9-22d6-4d05-bbeb-ce76116dc6d9 ]]  {\r\n",
       "package \"P1\" as E2  [[psysml:b8db80a7-5996-4df4-9976-dc6864828b46 ]]  {\r\n",
       "comp def \"A\" as E3  <<(T,blue)part def>> [[psysml:06ccdf6b-7fde-40d2-9d83-7c71c3aaf391 ]] {\r\n",
       "}\r\n",
       "}\r\n",
       "package \"P2\" as E4  [[psysml:524b97f3-dd10-444b-a6f8-a87f295610fc ]]  {\r\n",
       "}\r\n",
       "comp usage \"x: A\" as E5  <<(T,blue)part>> [[psysml:79fb998f-896a-4642-b1f0-d66dfbec55d7 ]] {\r\n",
       "}\r\n",
       "package \"P3\" as E6  [[psysml:5bfd0c7b-a7f5-42f3-81fc-e346e4c74519 ]]  {\r\n",
       "comp def \"B\" as E7  <<(T,blue)part def>> [[psysml:e6b11995-178a-4abf-b303-bbf3be6d894d ]] {\r\n",
       "}\r\n",
       "E5 - -:|> E3 [[psysml:88440252-e8a6-408e-b428-64e589ea9f3d ]] \r\n",
       "}\r\n",
       "comp usage \"z: B\" as E8  <<(T,blue)part>> [[psysml:c8045a6d-f018-4e86-976c-73e06620aa4c ]] {\r\n",
       "}\r\n",
       "E8 - -:|> E7 [[psysml:a33b0610-5a8d-429b-bbd7-f981cc70bcb5 ]] \r\n",
       "}\r\n",
       "@enduml\r\n",
       "\n",
       "PlantUML version 1.2020.13(Sat Jun 13 12:26:38 UTC 2020)\n",
       "(EPL source distribution)\n",
       "Java Runtime: OpenJDK Runtime Environment\n",
       "JVM: OpenJDK 64-Bit Server VM\n",
       "Default Encoding: UTF-8\n",
       "Language: en\n",
       "Country: null\n",
       "--></g></svg>"
      ]
     },
     "execution_count": 38,
     "metadata": {},
     "output_type": "execute_result"
    }
   ],
   "source": [
    "%viz --style=\"DEFAULT\" --view=\"Tree\" \"PrivateImportTest\""
   ]
  },
  {
   "cell_type": "code",
   "execution_count": 39,
   "id": "reserved-turtle",
   "metadata": {
    "execution": {
     "iopub.execute_input": "2021-03-26T12:08:12.866454Z",
     "iopub.status.busy": "2021-03-26T12:08:12.865980Z",
     "iopub.status.idle": "2021-03-26T12:08:12.872669Z",
     "shell.execute_reply": "2021-03-26T12:08:12.872311Z"
    }
   },
   "outputs": [
    {
     "data": {
      "image/svg+xml": [
       "<?xml version=\"1.0\" encoding=\"UTF-8\" standalone=\"no\"?><svg xmlns=\"http://www.w3.org/2000/svg\" xmlns:xlink=\"http://www.w3.org/1999/xlink\" contentScriptType=\"application/ecmascript\" contentStyleType=\"text/css\" height=\"12px\" preserveAspectRatio=\"none\" style=\"width:12px;height:12px;\" version=\"1.1\" viewBox=\"0 0 12 12\" width=\"12px\" zoomAndPan=\"magnify\"><defs/><g><!--MD5=[c5f280e076d0d61ccf4b0f27871bda1d]\n",
       "@startuml\r\n",
       "skinparam monochrome true\r\n",
       "skinparam classbackgroundcolor white\r\n",
       "skinparam shadowing false\r\n",
       "skinparam wrapWidth 300\r\n",
       "hide circle\r\n",
       "\r\n",
       "@enduml\r\n",
       "\n",
       "PlantUML version 1.2020.13(Sat Jun 13 12:26:38 UTC 2020)\n",
       "(EPL source distribution)\n",
       "Java Runtime: OpenJDK Runtime Environment\n",
       "JVM: OpenJDK 64-Bit Server VM\n",
       "Default Encoding: UTF-8\n",
       "Language: en\n",
       "Country: null\n",
       "--></g></svg>"
      ]
     },
     "execution_count": 39,
     "metadata": {},
     "output_type": "execute_result"
    }
   ],
   "source": [
    "%viz --style=\"DEFAULT\" --view=\"State\" \"PrivateImportTest\""
   ]
  },
  {
   "cell_type": "code",
   "execution_count": 40,
   "id": "female-johns",
   "metadata": {
    "execution": {
     "iopub.execute_input": "2021-03-26T12:08:12.925399Z",
     "iopub.status.busy": "2021-03-26T12:08:12.924435Z",
     "iopub.status.idle": "2021-03-26T12:08:12.955587Z",
     "shell.execute_reply": "2021-03-26T12:08:12.954010Z"
    }
   },
   "outputs": [
    {
     "data": {
      "image/svg+xml": [
       "<?xml version=\"1.0\" encoding=\"UTF-8\" standalone=\"no\"?><svg xmlns=\"http://www.w3.org/2000/svg\" xmlns:xlink=\"http://www.w3.org/1999/xlink\" contentScriptType=\"application/ecmascript\" contentStyleType=\"text/css\" height=\"179px\" preserveAspectRatio=\"none\" style=\"width:539px;height:179px;\" version=\"1.1\" viewBox=\"0 0 539 179\" width=\"539px\" zoomAndPan=\"magnify\"><defs/><g><!--MD5=[fbc87193dbaf4d95561dea2c320d4a47]\n",
       "cluster E1--><a href=\"psysml:fd8049a9-22d6-4d05-bbeb-ce76116dc6d9\" target=\"_top\" title=\"psysml:fd8049a9-22d6-4d05-bbeb-ce76116dc6d9\" xlink:actuate=\"onRequest\" xlink:href=\"psysml:fd8049a9-22d6-4d05-bbeb-ce76116dc6d9\" xlink:show=\"new\" xlink:title=\"psysml:fd8049a9-22d6-4d05-bbeb-ce76116dc6d9\" xlink:type=\"simple\"><polygon fill=\"#FFFFFF\" points=\"16,6,163,6,170,28.2969,517,28.2969,517,167,16,167,16,6\" style=\"stroke: #000000; stroke-width: 1.5;\"/><line style=\"stroke: #000000; stroke-width: 1.5;\" x1=\"16\" x2=\"170\" y1=\"28.2969\" y2=\"28.2969\"/><text fill=\"#000000\" font-family=\"sans-serif\" font-size=\"14\" font-weight=\"bold\" lengthAdjust=\"spacingAndGlyphs\" textLength=\"141\" x=\"20\" y=\"20.9951\">PrivateImportTest</text></a><!--MD5=[e4f7fae6ed58524ba242bb0b0d3be6b7]\n",
       "cluster E2--><a href=\"psysml:b8db80a7-5996-4df4-9976-dc6864828b46\" target=\"_top\" title=\"psysml:b8db80a7-5996-4df4-9976-dc6864828b46\" xlink:actuate=\"onRequest\" xlink:href=\"psysml:b8db80a7-5996-4df4-9976-dc6864828b46\" xlink:show=\"new\" xlink:title=\"psysml:b8db80a7-5996-4df4-9976-dc6864828b46\" xlink:type=\"simple\"><polygon fill=\"#FFFFFF\" points=\"389,49,415,49,422,71.2969,493,71.2969,493,143,389,143,389,49\" style=\"stroke: #000000; stroke-width: 1.5;\"/><line style=\"stroke: #000000; stroke-width: 1.5;\" x1=\"389\" x2=\"422\" y1=\"71.2969\" y2=\"71.2969\"/><text fill=\"#000000\" font-family=\"sans-serif\" font-size=\"14\" font-weight=\"bold\" lengthAdjust=\"spacingAndGlyphs\" textLength=\"20\" x=\"393\" y=\"63.9951\">P1</text></a><!--MD5=[14e3b0961a2654348d326746436168a1]\n",
       "cluster E6--><a href=\"psysml:5bfd0c7b-a7f5-42f3-81fc-e346e4c74519\" target=\"_top\" title=\"psysml:5bfd0c7b-a7f5-42f3-81fc-e346e4c74519\" xlink:actuate=\"onRequest\" xlink:href=\"psysml:5bfd0c7b-a7f5-42f3-81fc-e346e4c74519\" xlink:show=\"new\" xlink:title=\"psysml:5bfd0c7b-a7f5-42f3-81fc-e346e4c74519\" xlink:type=\"simple\"><polygon fill=\"#FFFFFF\" points=\"261,49,287,49,294,71.2969,365,71.2969,365,143,261,143,261,49\" style=\"stroke: #000000; stroke-width: 1.5;\"/><line style=\"stroke: #000000; stroke-width: 1.5;\" x1=\"261\" x2=\"294\" y1=\"71.2969\" y2=\"71.2969\"/><text fill=\"#000000\" font-family=\"sans-serif\" font-size=\"14\" font-weight=\"bold\" lengthAdjust=\"spacingAndGlyphs\" textLength=\"20\" x=\"265\" y=\"63.9951\">P3</text></a><g id=\"E1.E2.E3\"><a href=\"psysml:06ccdf6b-7fde-40d2-9d83-7c71c3aaf391\" target=\"_top\" title=\"psysml:06ccdf6b-7fde-40d2-9d83-7c71c3aaf391\" xlink:actuate=\"onRequest\" xlink:href=\"psysml:06ccdf6b-7fde-40d2-9d83-7c71c3aaf391\" xlink:show=\"new\" xlink:title=\"psysml:06ccdf6b-7fde-40d2-9d83-7c71c3aaf391\" xlink:type=\"simple\"><rect fill=\"#FFFFFF\" height=\"42.9375\" id=\"E3\" style=\"stroke: #383838; stroke-width: 1.5;\" width=\"71\" x=\"405.5\" y=\"84\"/><rect fill=\"#F8F8F8\" height=\"37.9375\" style=\"stroke: #383838; stroke-width: 1.5;\" width=\"71\" x=\"405.5\" y=\"84\"/><text fill=\"#000000\" font-family=\"sans-serif\" font-size=\"12\" font-style=\"italic\" lengthAdjust=\"spacingAndGlyphs\" textLength=\"64\" x=\"409\" y=\"100.1387\">«part def»</text><text fill=\"#000000\" font-family=\"sans-serif\" font-size=\"12\" lengthAdjust=\"spacingAndGlyphs\" textLength=\"8\" x=\"437\" y=\"114.1074\">A</text></a></g><a href=\"psysml:524b97f3-dd10-444b-a6f8-a87f295610fc\" target=\"_top\" title=\"psysml:524b97f3-dd10-444b-a6f8-a87f295610fc\" xlink:actuate=\"onRequest\" xlink:href=\"psysml:524b97f3-dd10-444b-a6f8-a87f295610fc\" xlink:show=\"new\" xlink:title=\"psysml:524b97f3-dd10-444b-a6f8-a87f295610fc\" xlink:type=\"simple\"><polygon fill=\"#FFFFFF\" points=\"202,79,228,79,235,101.2969,242,101.2969,242,131.5938,202,131.5938,202,79\" style=\"stroke: #000000; stroke-width: 1.5;\"/><line style=\"stroke: #000000; stroke-width: 1.5;\" x1=\"202\" x2=\"235\" y1=\"101.2969\" y2=\"101.2969\"/><text fill=\"#000000\" font-family=\"sans-serif\" font-size=\"14\" font-weight=\"bold\" lengthAdjust=\"spacingAndGlyphs\" textLength=\"20\" x=\"206\" y=\"93.9951\">P2</text></a><g id=\"E1.E5\"><a href=\"psysml:79fb998f-896a-4642-b1f0-d66dfbec55d7\" target=\"_top\" title=\"psysml:79fb998f-896a-4642-b1f0-d66dfbec55d7\" xlink:actuate=\"onRequest\" xlink:href=\"psysml:79fb998f-896a-4642-b1f0-d66dfbec55d7\" xlink:show=\"new\" xlink:title=\"psysml:79fb998f-896a-4642-b1f0-d66dfbec55d7\" xlink:type=\"simple\"><rect fill=\"#FFFFFF\" height=\"40\" id=\"E5\" rx=\"10\" ry=\"10\" style=\"stroke: #383838; stroke-width: 1.5;\" width=\"50\" x=\"117\" y=\"85.5\"/><rect fill=\"#F8F8F8\" height=\"23.9688\" rx=\"10\" ry=\"10\" style=\"stroke: #F8F8F8; stroke-width: 1.5;\" width=\"50\" x=\"117\" y=\"85.5\"/><rect fill=\"#F8F8F8\" height=\"10\" style=\"stroke: #F8F8F8; stroke-width: 1.5;\" width=\"50\" x=\"117\" y=\"99.4688\"/><rect fill=\"none\" height=\"40\" id=\"E5\" rx=\"10\" ry=\"10\" style=\"stroke: #383838; stroke-width: 1.5;\" width=\"50\" x=\"117\" y=\"85.5\"/><text fill=\"#000000\" font-family=\"sans-serif\" font-size=\"12\" lengthAdjust=\"spacingAndGlyphs\" textLength=\"22\" x=\"131\" y=\"101.6387\">x: A</text></a></g><g id=\"E1.E6.E7\"><a href=\"psysml:e6b11995-178a-4abf-b303-bbf3be6d894d\" target=\"_top\" title=\"psysml:e6b11995-178a-4abf-b303-bbf3be6d894d\" xlink:actuate=\"onRequest\" xlink:href=\"psysml:e6b11995-178a-4abf-b303-bbf3be6d894d\" xlink:show=\"new\" xlink:title=\"psysml:e6b11995-178a-4abf-b303-bbf3be6d894d\" xlink:type=\"simple\"><rect fill=\"#FFFFFF\" height=\"42.9375\" id=\"E7\" style=\"stroke: #383838; stroke-width: 1.5;\" width=\"71\" x=\"277.5\" y=\"84\"/><rect fill=\"#F8F8F8\" height=\"37.9375\" style=\"stroke: #383838; stroke-width: 1.5;\" width=\"71\" x=\"277.5\" y=\"84\"/><text fill=\"#000000\" font-family=\"sans-serif\" font-size=\"12\" font-style=\"italic\" lengthAdjust=\"spacingAndGlyphs\" textLength=\"64\" x=\"281\" y=\"100.1387\">«part def»</text><text fill=\"#000000\" font-family=\"sans-serif\" font-size=\"12\" lengthAdjust=\"spacingAndGlyphs\" textLength=\"8\" x=\"309\" y=\"114.1074\">B</text></a></g><g id=\"E1.E8\"><a href=\"psysml:c8045a6d-f018-4e86-976c-73e06620aa4c\" target=\"_top\" title=\"psysml:c8045a6d-f018-4e86-976c-73e06620aa4c\" xlink:actuate=\"onRequest\" xlink:href=\"psysml:c8045a6d-f018-4e86-976c-73e06620aa4c\" xlink:show=\"new\" xlink:title=\"psysml:c8045a6d-f018-4e86-976c-73e06620aa4c\" xlink:type=\"simple\"><rect fill=\"#FFFFFF\" height=\"40\" id=\"E8\" rx=\"10\" ry=\"10\" style=\"stroke: #383838; stroke-width: 1.5;\" width=\"50\" x=\"32\" y=\"85.5\"/><rect fill=\"#F8F8F8\" height=\"23.9688\" rx=\"10\" ry=\"10\" style=\"stroke: #F8F8F8; stroke-width: 1.5;\" width=\"50\" x=\"32\" y=\"85.5\"/><rect fill=\"#F8F8F8\" height=\"10\" style=\"stroke: #F8F8F8; stroke-width: 1.5;\" width=\"50\" x=\"32\" y=\"99.4688\"/><rect fill=\"none\" height=\"40\" id=\"E8\" rx=\"10\" ry=\"10\" style=\"stroke: #383838; stroke-width: 1.5;\" width=\"50\" x=\"32\" y=\"85.5\"/><text fill=\"#000000\" font-family=\"sans-serif\" font-size=\"12\" lengthAdjust=\"spacingAndGlyphs\" textLength=\"21\" x=\"46.5\" y=\"101.6387\">z: B</text></a></g><!--MD5=[3e6955aac90ab71394dad61aa905ee21]\n",
       "@startuml\r\n",
       "skinparam ranksep 8\r\n",
       "skinparam rectangle {\r\n",
       " backgroundColor<<block>> LightGreen\r\n",
       "}\r\n",
       "skinparam monochrome true\r\n",
       "skinparam classbackgroundcolor white\r\n",
       "skinparam shadowing false\r\n",
       "skinparam wrapWidth 300\r\n",
       "hide circle\r\n",
       "\r\n",
       "package \"PrivateImportTest\" as E1  [[psysml:fd8049a9-22d6-4d05-bbeb-ce76116dc6d9 ]]  {\r\n",
       "package \"P1\" as E2  [[psysml:b8db80a7-5996-4df4-9976-dc6864828b46 ]]  {\r\n",
       "rec def \"A\" as E3  <<(T,blue)part def>> [[psysml:06ccdf6b-7fde-40d2-9d83-7c71c3aaf391 ]] {\r\n",
       "}\r\n",
       "}\r\n",
       "package \"P2\" as E4  [[psysml:524b97f3-dd10-444b-a6f8-a87f295610fc ]]  {\r\n",
       "}\r\n",
       "rec usage \"x: A\" as E5  [[psysml:79fb998f-896a-4642-b1f0-d66dfbec55d7 ]] {\r\n",
       "}\r\n",
       "package \"P3\" as E6  [[psysml:5bfd0c7b-a7f5-42f3-81fc-e346e4c74519 ]]  {\r\n",
       "rec def \"B\" as E7  <<(T,blue)part def>> [[psysml:e6b11995-178a-4abf-b303-bbf3be6d894d ]] {\r\n",
       "}\r\n",
       "}\r\n",
       "rec usage \"z: B\" as E8  [[psysml:c8045a6d-f018-4e86-976c-73e06620aa4c ]] {\r\n",
       "}\r\n",
       "}\r\n",
       "@enduml\r\n",
       "\n",
       "PlantUML version 1.2020.13(Sat Jun 13 12:26:38 UTC 2020)\n",
       "(EPL source distribution)\n",
       "Java Runtime: OpenJDK Runtime Environment\n",
       "JVM: OpenJDK 64-Bit Server VM\n",
       "Default Encoding: UTF-8\n",
       "Language: en\n",
       "Country: null\n",
       "--></g></svg>"
      ]
     },
     "execution_count": 40,
     "metadata": {},
     "output_type": "execute_result"
    }
   ],
   "source": [
    "%viz --style=\"DEFAULT\" --view=\"Interconnection\" \"PrivateImportTest\""
   ]
  },
  {
   "cell_type": "code",
   "execution_count": 41,
   "id": "connected-classics",
   "metadata": {
    "execution": {
     "iopub.execute_input": "2021-03-26T12:08:13.008475Z",
     "iopub.status.busy": "2021-03-26T12:08:13.007390Z",
     "iopub.status.idle": "2021-03-26T12:08:13.013863Z",
     "shell.execute_reply": "2021-03-26T12:08:13.013325Z"
    }
   },
   "outputs": [
    {
     "data": {
      "image/svg+xml": [
       "<?xml version=\"1.0\" encoding=\"UTF-8\" standalone=\"no\"?><svg xmlns=\"http://www.w3.org/2000/svg\" xmlns:xlink=\"http://www.w3.org/1999/xlink\" contentScriptType=\"application/ecmascript\" contentStyleType=\"text/css\" height=\"12px\" preserveAspectRatio=\"none\" style=\"width:12px;height:12px;\" version=\"1.1\" viewBox=\"0 0 12 12\" width=\"12px\" zoomAndPan=\"magnify\"><defs/><g><!--MD5=[388f21188e31bfdd97050473b19af356]\n",
       "@startuml\r\n",
       "skinparam ranksep 8\r\n",
       "skinparam monochrome true\r\n",
       "skinparam classbackgroundcolor white\r\n",
       "skinparam shadowing false\r\n",
       "skinparam wrapWidth 300\r\n",
       "hide circle\r\n",
       "\r\n",
       "@enduml\r\n",
       "\n",
       "PlantUML version 1.2020.13(Sat Jun 13 12:26:38 UTC 2020)\n",
       "(EPL source distribution)\n",
       "Java Runtime: OpenJDK Runtime Environment\n",
       "JVM: OpenJDK 64-Bit Server VM\n",
       "Default Encoding: UTF-8\n",
       "Language: en\n",
       "Country: null\n",
       "--></g></svg>"
      ]
     },
     "execution_count": 41,
     "metadata": {},
     "output_type": "execute_result"
    }
   ],
   "source": [
    "%viz --style=\"DEFAULT\" --view=\"Action\" \"PrivateImportTest\""
   ]
  },
  {
   "cell_type": "code",
   "execution_count": 42,
   "id": "resistant-integration",
   "metadata": {
    "execution": {
     "iopub.execute_input": "2021-03-26T12:08:13.065669Z",
     "iopub.status.busy": "2021-03-26T12:08:13.064970Z",
     "iopub.status.idle": "2021-03-26T12:08:13.098126Z",
     "shell.execute_reply": "2021-03-26T12:08:13.096608Z"
    }
   },
   "outputs": [
    {
     "data": {
      "image/svg+xml": [
       "<?xml version=\"1.0\" encoding=\"UTF-8\" standalone=\"no\"?><svg xmlns=\"http://www.w3.org/2000/svg\" xmlns:xlink=\"http://www.w3.org/1999/xlink\" contentScriptType=\"application/ecmascript\" contentStyleType=\"text/css\" height=\"252px\" preserveAspectRatio=\"none\" style=\"width:306px;height:252px;\" version=\"1.1\" viewBox=\"0 0 306 252\" width=\"306px\" zoomAndPan=\"magnify\"><defs/><g><!--MD5=[fbc87193dbaf4d95561dea2c320d4a47]\n",
       "cluster E1--><a href=\"psysml:fd8049a9-22d6-4d05-bbeb-ce76116dc6d9\" target=\"_top\" title=\"psysml:fd8049a9-22d6-4d05-bbeb-ce76116dc6d9\" xlink:actuate=\"onRequest\" xlink:href=\"psysml:fd8049a9-22d6-4d05-bbeb-ce76116dc6d9\" xlink:show=\"new\" xlink:title=\"psysml:fd8049a9-22d6-4d05-bbeb-ce76116dc6d9\" xlink:type=\"simple\"><polygon fill=\"#FFFFFF\" points=\"16,6,163,6,170,28.2969,284,28.2969,284,240,16,240,16,6\" style=\"stroke: #000000; stroke-width: 1.5;\"/><line style=\"stroke: #000000; stroke-width: 1.5;\" x1=\"16\" x2=\"170\" y1=\"28.2969\" y2=\"28.2969\"/><text fill=\"#000000\" font-family=\"sans-serif\" font-size=\"14\" font-weight=\"bold\" lengthAdjust=\"spacingAndGlyphs\" textLength=\"141\" x=\"20\" y=\"20.9951\">PrivateImportTest</text></a><!--MD5=[e4f7fae6ed58524ba242bb0b0d3be6b7]\n",
       "cluster E2--><a href=\"psysml:b8db80a7-5996-4df4-9976-dc6864828b46\" target=\"_top\" title=\"psysml:b8db80a7-5996-4df4-9976-dc6864828b46\" xlink:actuate=\"onRequest\" xlink:href=\"psysml:b8db80a7-5996-4df4-9976-dc6864828b46\" xlink:show=\"new\" xlink:title=\"psysml:b8db80a7-5996-4df4-9976-dc6864828b46\" xlink:type=\"simple\"><polygon fill=\"#FFFFFF\" points=\"162,119,188,119,195,141.2969,260,141.2969,260,216,162,216,162,119\" style=\"stroke: #000000; stroke-width: 1.5;\"/><line style=\"stroke: #000000; stroke-width: 1.5;\" x1=\"162\" x2=\"195\" y1=\"141.2969\" y2=\"141.2969\"/><text fill=\"#000000\" font-family=\"sans-serif\" font-size=\"14\" font-weight=\"bold\" lengthAdjust=\"spacingAndGlyphs\" textLength=\"20\" x=\"166\" y=\"133.9951\">P1</text></a><!--MD5=[14e3b0961a2654348d326746436168a1]\n",
       "cluster E6--><a href=\"psysml:5bfd0c7b-a7f5-42f3-81fc-e346e4c74519\" target=\"_top\" title=\"psysml:5bfd0c7b-a7f5-42f3-81fc-e346e4c74519\" xlink:actuate=\"onRequest\" xlink:href=\"psysml:5bfd0c7b-a7f5-42f3-81fc-e346e4c74519\" xlink:show=\"new\" xlink:title=\"psysml:5bfd0c7b-a7f5-42f3-81fc-e346e4c74519\" xlink:type=\"simple\"><polygon fill=\"#FFFFFF\" points=\"40,119,66,119,73,141.2969,138,141.2969,138,216,40,216,40,119\" style=\"stroke: #000000; stroke-width: 1.5;\"/><line style=\"stroke: #000000; stroke-width: 1.5;\" x1=\"40\" x2=\"73\" y1=\"141.2969\" y2=\"141.2969\"/><text fill=\"#000000\" font-family=\"sans-serif\" font-size=\"14\" font-weight=\"bold\" lengthAdjust=\"spacingAndGlyphs\" textLength=\"20\" x=\"44\" y=\"133.9951\">P3</text></a><!--MD5=[270fce915f116d4de14055a7c1d9a0f3]\n",
       "class E5--><a href=\"psysml:79fb998f-896a-4642-b1f0-d66dfbec55d7\" target=\"_top\" title=\"psysml:79fb998f-896a-4642-b1f0-d66dfbec55d7\" xlink:actuate=\"onRequest\" xlink:href=\"psysml:79fb998f-896a-4642-b1f0-d66dfbec55d7\" xlink:show=\"new\" xlink:title=\"psysml:79fb998f-896a-4642-b1f0-d66dfbec55d7\" xlink:type=\"simple\"><rect fill=\"#FFFFFF\" height=\"45.9375\" id=\"E5\" rx=\"10\" ry=\"10\" style=\"stroke: #383838; stroke-width: 1.5;\" width=\"42\" x=\"190\" y=\"44.5\"/><text fill=\"#000000\" font-family=\"sans-serif\" font-size=\"12\" font-style=\"italic\" lengthAdjust=\"spacingAndGlyphs\" textLength=\"40\" x=\"191\" y=\"60.6387\">«part»</text><text fill=\"#000000\" font-family=\"sans-serif\" font-size=\"12\" lengthAdjust=\"spacingAndGlyphs\" textLength=\"22\" x=\"200\" y=\"74.6074\">x: A</text><line style=\"stroke: #383838; stroke-width: 1.5;\" x1=\"191\" x2=\"231\" y1=\"82.4375\" y2=\"82.4375\"/></a><!--MD5=[b9389687b975829384b498ac4b7476b2]\n",
       "class E8--><a href=\"psysml:c8045a6d-f018-4e86-976c-73e06620aa4c\" target=\"_top\" title=\"psysml:c8045a6d-f018-4e86-976c-73e06620aa4c\" xlink:actuate=\"onRequest\" xlink:href=\"psysml:c8045a6d-f018-4e86-976c-73e06620aa4c\" xlink:show=\"new\" xlink:title=\"psysml:c8045a6d-f018-4e86-976c-73e06620aa4c\" xlink:type=\"simple\"><rect fill=\"#FFFFFF\" height=\"45.9375\" id=\"E8\" rx=\"10\" ry=\"10\" style=\"stroke: #383838; stroke-width: 1.5;\" width=\"42\" x=\"107\" y=\"44.5\"/><text fill=\"#000000\" font-family=\"sans-serif\" font-size=\"12\" font-style=\"italic\" lengthAdjust=\"spacingAndGlyphs\" textLength=\"40\" x=\"108\" y=\"60.6387\">«part»</text><text fill=\"#000000\" font-family=\"sans-serif\" font-size=\"12\" lengthAdjust=\"spacingAndGlyphs\" textLength=\"21\" x=\"117.5\" y=\"74.6074\">z: B</text><line style=\"stroke: #383838; stroke-width: 1.5;\" x1=\"108\" x2=\"148\" y1=\"82.4375\" y2=\"82.4375\"/></a><!--MD5=[09b614a08d8cba4a07c9adeb5e0fee81]\n",
       "class E3--><a href=\"psysml:06ccdf6b-7fde-40d2-9d83-7c71c3aaf391\" target=\"_top\" title=\"psysml:06ccdf6b-7fde-40d2-9d83-7c71c3aaf391\" xlink:actuate=\"onRequest\" xlink:href=\"psysml:06ccdf6b-7fde-40d2-9d83-7c71c3aaf391\" xlink:show=\"new\" xlink:title=\"psysml:06ccdf6b-7fde-40d2-9d83-7c71c3aaf391\" xlink:type=\"simple\"><rect fill=\"#FFFFFF\" height=\"45.9375\" id=\"E3\" style=\"stroke: #383838; stroke-width: 1.5;\" width=\"66\" x=\"178\" y=\"154\"/><text fill=\"#000000\" font-family=\"sans-serif\" font-size=\"12\" font-style=\"italic\" lengthAdjust=\"spacingAndGlyphs\" textLength=\"64\" x=\"179\" y=\"170.1387\">«part def»</text><text fill=\"#000000\" font-family=\"sans-serif\" font-size=\"12\" lengthAdjust=\"spacingAndGlyphs\" textLength=\"8\" x=\"207\" y=\"184.1074\">A</text><line style=\"stroke: #383838; stroke-width: 1.5;\" x1=\"179\" x2=\"243\" y1=\"191.9375\" y2=\"191.9375\"/></a><a href=\"psysml:524b97f3-dd10-444b-a6f8-a87f295610fc\" target=\"_top\" title=\"psysml:524b97f3-dd10-444b-a6f8-a87f295610fc\" xlink:actuate=\"onRequest\" xlink:href=\"psysml:524b97f3-dd10-444b-a6f8-a87f295610fc\" xlink:show=\"new\" xlink:title=\"psysml:524b97f3-dd10-444b-a6f8-a87f295610fc\" xlink:type=\"simple\"><polygon fill=\"#FFFFFF\" points=\"32,41,58,41,65,63.2969,72,63.2969,72,93.5938,32,93.5938,32,41\" style=\"stroke: #000000; stroke-width: 1.5;\"/><line style=\"stroke: #000000; stroke-width: 1.5;\" x1=\"32\" x2=\"65\" y1=\"63.2969\" y2=\"63.2969\"/><text fill=\"#000000\" font-family=\"sans-serif\" font-size=\"14\" font-weight=\"bold\" lengthAdjust=\"spacingAndGlyphs\" textLength=\"20\" x=\"36\" y=\"55.9951\">P2</text></a><!--MD5=[2156ba9850f5573cc1fc38a6a4b2f02b]\n",
       "class E7--><a href=\"psysml:e6b11995-178a-4abf-b303-bbf3be6d894d\" target=\"_top\" title=\"psysml:e6b11995-178a-4abf-b303-bbf3be6d894d\" xlink:actuate=\"onRequest\" xlink:href=\"psysml:e6b11995-178a-4abf-b303-bbf3be6d894d\" xlink:show=\"new\" xlink:title=\"psysml:e6b11995-178a-4abf-b303-bbf3be6d894d\" xlink:type=\"simple\"><rect fill=\"#FFFFFF\" height=\"45.9375\" id=\"E7\" style=\"stroke: #383838; stroke-width: 1.5;\" width=\"66\" x=\"56\" y=\"154\"/><text fill=\"#000000\" font-family=\"sans-serif\" font-size=\"12\" font-style=\"italic\" lengthAdjust=\"spacingAndGlyphs\" textLength=\"64\" x=\"57\" y=\"170.1387\">«part def»</text><text fill=\"#000000\" font-family=\"sans-serif\" font-size=\"12\" lengthAdjust=\"spacingAndGlyphs\" textLength=\"8\" x=\"85\" y=\"184.1074\">B</text><line style=\"stroke: #383838; stroke-width: 1.5;\" x1=\"57\" x2=\"121\" y1=\"191.9375\" y2=\"191.9375\"/></a><!--MD5=[e9be52314489bd878ff4c7144b63c9e1]\n",
       "link E5 to E3--><a href=\"psysml:88440252-e8a6-408e-b428-64e589ea9f3d\" target=\"_top\" title=\"psysml:88440252-e8a6-408e-b428-64e589ea9f3d\" xlink:actuate=\"onRequest\" xlink:href=\"psysml:88440252-e8a6-408e-b428-64e589ea9f3d\" xlink:show=\"new\" xlink:title=\"psysml:88440252-e8a6-408e-b428-64e589ea9f3d\" xlink:type=\"simple\"><path d=\"M211,90.51 C211,102.89 211,118.78 211,133.48 \" fill=\"none\" id=\"E5-&gt;E3\" style=\"stroke: #383838; stroke-width: 1.0;\"/><polygon fill=\"#FFFFFF\" points=\"211,153.65,204,134.65,218,134.65,211,153.65\" style=\"stroke: #383838; stroke-width: 1.0;\"/><ellipse cx=\"206\" cy=\"128.95\" fill=\"#383838\" rx=\"2\" ry=\"2\" style=\"stroke: #383838; stroke-width: 1.0;\"/><ellipse cx=\"216\" cy=\"128.95\" fill=\"#383838\" rx=\"2\" ry=\"2\" style=\"stroke: #383838; stroke-width: 1.0;\"/></a><!--MD5=[bfa3c8b0d15052fdf50ae9310b491027]\n",
       "link E8 to E7--><a href=\"psysml:a33b0610-5a8d-429b-bbd7-f981cc70bcb5\" target=\"_top\" title=\"psysml:a33b0610-5a8d-429b-bbd7-f981cc70bcb5\" xlink:actuate=\"onRequest\" xlink:href=\"psysml:a33b0610-5a8d-429b-bbd7-f981cc70bcb5\" xlink:show=\"new\" xlink:title=\"psysml:a33b0610-5a8d-429b-bbd7-f981cc70bcb5\" xlink:type=\"simple\"><path d=\"M120.01,90.51 C115.39,103.25 109.42,119.7 103.96,134.76 \" fill=\"none\" id=\"E8-&gt;E7\" style=\"stroke: #383838; stroke-width: 1.0;\"/><polygon fill=\"#FFFFFF\" points=\"97.11,153.65,97.0036,133.4018,110.1656,138.1726,97.11,153.65\" style=\"stroke: #383838; stroke-width: 1.0;\"/><ellipse cx=\"100.8262\" cy=\"128.7245\" fill=\"#383838\" rx=\"2\" ry=\"2\" style=\"stroke: #383838; stroke-width: 1.0;\"/><ellipse cx=\"110.2277\" cy=\"132.1322\" fill=\"#383838\" rx=\"2\" ry=\"2\" style=\"stroke: #383838; stroke-width: 1.0;\"/></a><!--MD5=[7609fc4cfbea8385a6eae88f46160179]\n",
       "@startuml\r\n",
       "skinparam monochrome true\r\n",
       "skinparam classbackgroundcolor white\r\n",
       "skinparam shadowing false\r\n",
       "skinparam wrapWidth 300\r\n",
       "hide circle\r\n",
       "\r\n",
       "package \"PrivateImportTest\" as E1  [[psysml:fd8049a9-22d6-4d05-bbeb-ce76116dc6d9 ]]  {\r\n",
       "package \"P1\" as E2  [[psysml:b8db80a7-5996-4df4-9976-dc6864828b46 ]]  {\r\n",
       "comp def \"A\" as E3  <<(T,blue)part def>> [[psysml:06ccdf6b-7fde-40d2-9d83-7c71c3aaf391 ]] {\r\n",
       "}\r\n",
       "}\r\n",
       "package \"P2\" as E4  [[psysml:524b97f3-dd10-444b-a6f8-a87f295610fc ]]  {\r\n",
       "}\r\n",
       "comp usage \"x: A\" as E5  <<(T,blue)part>> [[psysml:79fb998f-896a-4642-b1f0-d66dfbec55d7 ]] {\r\n",
       "}\r\n",
       "package \"P3\" as E6  [[psysml:5bfd0c7b-a7f5-42f3-81fc-e346e4c74519 ]]  {\r\n",
       "comp def \"B\" as E7  <<(T,blue)part def>> [[psysml:e6b11995-178a-4abf-b303-bbf3be6d894d ]] {\r\n",
       "}\r\n",
       "E5 - -:|> E3 [[psysml:88440252-e8a6-408e-b428-64e589ea9f3d ]] \r\n",
       "}\r\n",
       "comp usage \"z: B\" as E8  <<(T,blue)part>> [[psysml:c8045a6d-f018-4e86-976c-73e06620aa4c ]] {\r\n",
       "}\r\n",
       "E8 - -:|> E7 [[psysml:a33b0610-5a8d-429b-bbd7-f981cc70bcb5 ]] \r\n",
       "}\r\n",
       "@enduml\r\n",
       "\n",
       "PlantUML version 1.2020.13(Sat Jun 13 12:26:38 UTC 2020)\n",
       "(EPL source distribution)\n",
       "Java Runtime: OpenJDK Runtime Environment\n",
       "JVM: OpenJDK 64-Bit Server VM\n",
       "Default Encoding: UTF-8\n",
       "Language: en\n",
       "Country: null\n",
       "--></g></svg>"
      ]
     },
     "execution_count": 42,
     "metadata": {},
     "output_type": "execute_result"
    }
   ],
   "source": [
    "%viz --style=\"DEFAULT\" --view=\"Sequence\" \"PrivateImportTest\""
   ]
  },
  {
   "cell_type": "code",
   "execution_count": 43,
   "id": "spread-bullet",
   "metadata": {
    "execution": {
     "iopub.execute_input": "2021-03-26T12:08:13.148244Z",
     "iopub.status.busy": "2021-03-26T12:08:13.147837Z",
     "iopub.status.idle": "2021-03-26T12:08:13.176456Z",
     "shell.execute_reply": "2021-03-26T12:08:13.175128Z"
    }
   },
   "outputs": [
    {
     "data": {
      "image/svg+xml": [
       "<?xml version=\"1.0\" encoding=\"UTF-8\" standalone=\"no\"?><svg xmlns=\"http://www.w3.org/2000/svg\" xmlns:xlink=\"http://www.w3.org/1999/xlink\" contentScriptType=\"application/ecmascript\" contentStyleType=\"text/css\" height=\"252px\" preserveAspectRatio=\"none\" style=\"width:306px;height:252px;\" version=\"1.1\" viewBox=\"0 0 306 252\" width=\"306px\" zoomAndPan=\"magnify\"><defs/><g><!--MD5=[fbc87193dbaf4d95561dea2c320d4a47]\n",
       "cluster E1--><a href=\"psysml:fd8049a9-22d6-4d05-bbeb-ce76116dc6d9\" target=\"_top\" title=\"psysml:fd8049a9-22d6-4d05-bbeb-ce76116dc6d9\" xlink:actuate=\"onRequest\" xlink:href=\"psysml:fd8049a9-22d6-4d05-bbeb-ce76116dc6d9\" xlink:show=\"new\" xlink:title=\"psysml:fd8049a9-22d6-4d05-bbeb-ce76116dc6d9\" xlink:type=\"simple\"><polygon fill=\"#FFFFFF\" points=\"16,6,163,6,170,28.2969,284,28.2969,284,240,16,240,16,6\" style=\"stroke: #000000; stroke-width: 1.5;\"/><line style=\"stroke: #000000; stroke-width: 1.5;\" x1=\"16\" x2=\"170\" y1=\"28.2969\" y2=\"28.2969\"/><text fill=\"#000000\" font-family=\"sans-serif\" font-size=\"14\" font-weight=\"bold\" lengthAdjust=\"spacingAndGlyphs\" textLength=\"141\" x=\"20\" y=\"20.9951\">PrivateImportTest</text></a><!--MD5=[e4f7fae6ed58524ba242bb0b0d3be6b7]\n",
       "cluster E2--><a href=\"psysml:b8db80a7-5996-4df4-9976-dc6864828b46\" target=\"_top\" title=\"psysml:b8db80a7-5996-4df4-9976-dc6864828b46\" xlink:actuate=\"onRequest\" xlink:href=\"psysml:b8db80a7-5996-4df4-9976-dc6864828b46\" xlink:show=\"new\" xlink:title=\"psysml:b8db80a7-5996-4df4-9976-dc6864828b46\" xlink:type=\"simple\"><polygon fill=\"#FFFFFF\" points=\"162,119,188,119,195,141.2969,260,141.2969,260,216,162,216,162,119\" style=\"stroke: #000000; stroke-width: 1.5;\"/><line style=\"stroke: #000000; stroke-width: 1.5;\" x1=\"162\" x2=\"195\" y1=\"141.2969\" y2=\"141.2969\"/><text fill=\"#000000\" font-family=\"sans-serif\" font-size=\"14\" font-weight=\"bold\" lengthAdjust=\"spacingAndGlyphs\" textLength=\"20\" x=\"166\" y=\"133.9951\">P1</text></a><!--MD5=[14e3b0961a2654348d326746436168a1]\n",
       "cluster E6--><a href=\"psysml:5bfd0c7b-a7f5-42f3-81fc-e346e4c74519\" target=\"_top\" title=\"psysml:5bfd0c7b-a7f5-42f3-81fc-e346e4c74519\" xlink:actuate=\"onRequest\" xlink:href=\"psysml:5bfd0c7b-a7f5-42f3-81fc-e346e4c74519\" xlink:show=\"new\" xlink:title=\"psysml:5bfd0c7b-a7f5-42f3-81fc-e346e4c74519\" xlink:type=\"simple\"><polygon fill=\"#FFFFFF\" points=\"40,119,66,119,73,141.2969,138,141.2969,138,216,40,216,40,119\" style=\"stroke: #000000; stroke-width: 1.5;\"/><line style=\"stroke: #000000; stroke-width: 1.5;\" x1=\"40\" x2=\"73\" y1=\"141.2969\" y2=\"141.2969\"/><text fill=\"#000000\" font-family=\"sans-serif\" font-size=\"14\" font-weight=\"bold\" lengthAdjust=\"spacingAndGlyphs\" textLength=\"20\" x=\"44\" y=\"133.9951\">P3</text></a><!--MD5=[270fce915f116d4de14055a7c1d9a0f3]\n",
       "class E5--><a href=\"psysml:79fb998f-896a-4642-b1f0-d66dfbec55d7\" target=\"_top\" title=\"psysml:79fb998f-896a-4642-b1f0-d66dfbec55d7\" xlink:actuate=\"onRequest\" xlink:href=\"psysml:79fb998f-896a-4642-b1f0-d66dfbec55d7\" xlink:show=\"new\" xlink:title=\"psysml:79fb998f-896a-4642-b1f0-d66dfbec55d7\" xlink:type=\"simple\"><rect fill=\"#FFFFFF\" height=\"45.9375\" id=\"E5\" rx=\"10\" ry=\"10\" style=\"stroke: #383838; stroke-width: 1.5;\" width=\"42\" x=\"190\" y=\"44.5\"/><text fill=\"#000000\" font-family=\"sans-serif\" font-size=\"12\" font-style=\"italic\" lengthAdjust=\"spacingAndGlyphs\" textLength=\"40\" x=\"191\" y=\"60.6387\">«part»</text><text fill=\"#000000\" font-family=\"sans-serif\" font-size=\"12\" lengthAdjust=\"spacingAndGlyphs\" textLength=\"22\" x=\"200\" y=\"74.6074\">x: A</text><line style=\"stroke: #383838; stroke-width: 1.5;\" x1=\"191\" x2=\"231\" y1=\"82.4375\" y2=\"82.4375\"/></a><!--MD5=[b9389687b975829384b498ac4b7476b2]\n",
       "class E8--><a href=\"psysml:c8045a6d-f018-4e86-976c-73e06620aa4c\" target=\"_top\" title=\"psysml:c8045a6d-f018-4e86-976c-73e06620aa4c\" xlink:actuate=\"onRequest\" xlink:href=\"psysml:c8045a6d-f018-4e86-976c-73e06620aa4c\" xlink:show=\"new\" xlink:title=\"psysml:c8045a6d-f018-4e86-976c-73e06620aa4c\" xlink:type=\"simple\"><rect fill=\"#FFFFFF\" height=\"45.9375\" id=\"E8\" rx=\"10\" ry=\"10\" style=\"stroke: #383838; stroke-width: 1.5;\" width=\"42\" x=\"107\" y=\"44.5\"/><text fill=\"#000000\" font-family=\"sans-serif\" font-size=\"12\" font-style=\"italic\" lengthAdjust=\"spacingAndGlyphs\" textLength=\"40\" x=\"108\" y=\"60.6387\">«part»</text><text fill=\"#000000\" font-family=\"sans-serif\" font-size=\"12\" lengthAdjust=\"spacingAndGlyphs\" textLength=\"21\" x=\"117.5\" y=\"74.6074\">z: B</text><line style=\"stroke: #383838; stroke-width: 1.5;\" x1=\"108\" x2=\"148\" y1=\"82.4375\" y2=\"82.4375\"/></a><!--MD5=[09b614a08d8cba4a07c9adeb5e0fee81]\n",
       "class E3--><a href=\"psysml:06ccdf6b-7fde-40d2-9d83-7c71c3aaf391\" target=\"_top\" title=\"psysml:06ccdf6b-7fde-40d2-9d83-7c71c3aaf391\" xlink:actuate=\"onRequest\" xlink:href=\"psysml:06ccdf6b-7fde-40d2-9d83-7c71c3aaf391\" xlink:show=\"new\" xlink:title=\"psysml:06ccdf6b-7fde-40d2-9d83-7c71c3aaf391\" xlink:type=\"simple\"><rect fill=\"#FFFFFF\" height=\"45.9375\" id=\"E3\" style=\"stroke: #383838; stroke-width: 1.5;\" width=\"66\" x=\"178\" y=\"154\"/><text fill=\"#000000\" font-family=\"sans-serif\" font-size=\"12\" font-style=\"italic\" lengthAdjust=\"spacingAndGlyphs\" textLength=\"64\" x=\"179\" y=\"170.1387\">«part def»</text><text fill=\"#000000\" font-family=\"sans-serif\" font-size=\"12\" lengthAdjust=\"spacingAndGlyphs\" textLength=\"8\" x=\"207\" y=\"184.1074\">A</text><line style=\"stroke: #383838; stroke-width: 1.5;\" x1=\"179\" x2=\"243\" y1=\"191.9375\" y2=\"191.9375\"/></a><a href=\"psysml:524b97f3-dd10-444b-a6f8-a87f295610fc\" target=\"_top\" title=\"psysml:524b97f3-dd10-444b-a6f8-a87f295610fc\" xlink:actuate=\"onRequest\" xlink:href=\"psysml:524b97f3-dd10-444b-a6f8-a87f295610fc\" xlink:show=\"new\" xlink:title=\"psysml:524b97f3-dd10-444b-a6f8-a87f295610fc\" xlink:type=\"simple\"><polygon fill=\"#FFFFFF\" points=\"32,41,58,41,65,63.2969,72,63.2969,72,93.5938,32,93.5938,32,41\" style=\"stroke: #000000; stroke-width: 1.5;\"/><line style=\"stroke: #000000; stroke-width: 1.5;\" x1=\"32\" x2=\"65\" y1=\"63.2969\" y2=\"63.2969\"/><text fill=\"#000000\" font-family=\"sans-serif\" font-size=\"14\" font-weight=\"bold\" lengthAdjust=\"spacingAndGlyphs\" textLength=\"20\" x=\"36\" y=\"55.9951\">P2</text></a><!--MD5=[2156ba9850f5573cc1fc38a6a4b2f02b]\n",
       "class E7--><a href=\"psysml:e6b11995-178a-4abf-b303-bbf3be6d894d\" target=\"_top\" title=\"psysml:e6b11995-178a-4abf-b303-bbf3be6d894d\" xlink:actuate=\"onRequest\" xlink:href=\"psysml:e6b11995-178a-4abf-b303-bbf3be6d894d\" xlink:show=\"new\" xlink:title=\"psysml:e6b11995-178a-4abf-b303-bbf3be6d894d\" xlink:type=\"simple\"><rect fill=\"#FFFFFF\" height=\"45.9375\" id=\"E7\" style=\"stroke: #383838; stroke-width: 1.5;\" width=\"66\" x=\"56\" y=\"154\"/><text fill=\"#000000\" font-family=\"sans-serif\" font-size=\"12\" font-style=\"italic\" lengthAdjust=\"spacingAndGlyphs\" textLength=\"64\" x=\"57\" y=\"170.1387\">«part def»</text><text fill=\"#000000\" font-family=\"sans-serif\" font-size=\"12\" lengthAdjust=\"spacingAndGlyphs\" textLength=\"8\" x=\"85\" y=\"184.1074\">B</text><line style=\"stroke: #383838; stroke-width: 1.5;\" x1=\"57\" x2=\"121\" y1=\"191.9375\" y2=\"191.9375\"/></a><!--MD5=[e9be52314489bd878ff4c7144b63c9e1]\n",
       "link E5 to E3--><a href=\"psysml:88440252-e8a6-408e-b428-64e589ea9f3d\" target=\"_top\" title=\"psysml:88440252-e8a6-408e-b428-64e589ea9f3d\" xlink:actuate=\"onRequest\" xlink:href=\"psysml:88440252-e8a6-408e-b428-64e589ea9f3d\" xlink:show=\"new\" xlink:title=\"psysml:88440252-e8a6-408e-b428-64e589ea9f3d\" xlink:type=\"simple\"><path d=\"M211,90.51 C211,102.89 211,118.78 211,133.48 \" fill=\"none\" id=\"E5-&gt;E3\" style=\"stroke: #383838; stroke-width: 1.0;\"/><polygon fill=\"#FFFFFF\" points=\"211,153.65,204,134.65,218,134.65,211,153.65\" style=\"stroke: #383838; stroke-width: 1.0;\"/><ellipse cx=\"206\" cy=\"128.95\" fill=\"#383838\" rx=\"2\" ry=\"2\" style=\"stroke: #383838; stroke-width: 1.0;\"/><ellipse cx=\"216\" cy=\"128.95\" fill=\"#383838\" rx=\"2\" ry=\"2\" style=\"stroke: #383838; stroke-width: 1.0;\"/></a><!--MD5=[bfa3c8b0d15052fdf50ae9310b491027]\n",
       "link E8 to E7--><a href=\"psysml:a33b0610-5a8d-429b-bbd7-f981cc70bcb5\" target=\"_top\" title=\"psysml:a33b0610-5a8d-429b-bbd7-f981cc70bcb5\" xlink:actuate=\"onRequest\" xlink:href=\"psysml:a33b0610-5a8d-429b-bbd7-f981cc70bcb5\" xlink:show=\"new\" xlink:title=\"psysml:a33b0610-5a8d-429b-bbd7-f981cc70bcb5\" xlink:type=\"simple\"><path d=\"M120.01,90.51 C115.39,103.25 109.42,119.7 103.96,134.76 \" fill=\"none\" id=\"E8-&gt;E7\" style=\"stroke: #383838; stroke-width: 1.0;\"/><polygon fill=\"#FFFFFF\" points=\"97.11,153.65,97.0036,133.4018,110.1656,138.1726,97.11,153.65\" style=\"stroke: #383838; stroke-width: 1.0;\"/><ellipse cx=\"100.8262\" cy=\"128.7245\" fill=\"#383838\" rx=\"2\" ry=\"2\" style=\"stroke: #383838; stroke-width: 1.0;\"/><ellipse cx=\"110.2277\" cy=\"132.1322\" fill=\"#383838\" rx=\"2\" ry=\"2\" style=\"stroke: #383838; stroke-width: 1.0;\"/></a><!--MD5=[7609fc4cfbea8385a6eae88f46160179]\n",
       "@startuml\r\n",
       "skinparam monochrome true\r\n",
       "skinparam classbackgroundcolor white\r\n",
       "skinparam shadowing false\r\n",
       "skinparam wrapWidth 300\r\n",
       "hide circle\r\n",
       "\r\n",
       "package \"PrivateImportTest\" as E1  [[psysml:fd8049a9-22d6-4d05-bbeb-ce76116dc6d9 ]]  {\r\n",
       "package \"P1\" as E2  [[psysml:b8db80a7-5996-4df4-9976-dc6864828b46 ]]  {\r\n",
       "comp def \"A\" as E3  <<(T,blue)part def>> [[psysml:06ccdf6b-7fde-40d2-9d83-7c71c3aaf391 ]] {\r\n",
       "}\r\n",
       "}\r\n",
       "package \"P2\" as E4  [[psysml:524b97f3-dd10-444b-a6f8-a87f295610fc ]]  {\r\n",
       "}\r\n",
       "comp usage \"x: A\" as E5  <<(T,blue)part>> [[psysml:79fb998f-896a-4642-b1f0-d66dfbec55d7 ]] {\r\n",
       "}\r\n",
       "package \"P3\" as E6  [[psysml:5bfd0c7b-a7f5-42f3-81fc-e346e4c74519 ]]  {\r\n",
       "comp def \"B\" as E7  <<(T,blue)part def>> [[psysml:e6b11995-178a-4abf-b303-bbf3be6d894d ]] {\r\n",
       "}\r\n",
       "E5 - -:|> E3 [[psysml:88440252-e8a6-408e-b428-64e589ea9f3d ]] \r\n",
       "}\r\n",
       "comp usage \"z: B\" as E8  <<(T,blue)part>> [[psysml:c8045a6d-f018-4e86-976c-73e06620aa4c ]] {\r\n",
       "}\r\n",
       "E8 - -:|> E7 [[psysml:a33b0610-5a8d-429b-bbd7-f981cc70bcb5 ]] \r\n",
       "}\r\n",
       "@enduml\r\n",
       "\n",
       "PlantUML version 1.2020.13(Sat Jun 13 12:26:38 UTC 2020)\n",
       "(EPL source distribution)\n",
       "Java Runtime: OpenJDK Runtime Environment\n",
       "JVM: OpenJDK 64-Bit Server VM\n",
       "Default Encoding: UTF-8\n",
       "Language: en\n",
       "Country: null\n",
       "--></g></svg>"
      ]
     },
     "execution_count": 43,
     "metadata": {},
     "output_type": "execute_result"
    }
   ],
   "source": [
    "%viz --style=\"DEFAULT\" --view=\"MIXED\" \"PrivateImportTest\""
   ]
  },
  {
   "cell_type": "code",
   "execution_count": 44,
   "id": "immune-projection",
   "metadata": {
    "execution": {
     "iopub.execute_input": "2021-03-26T12:08:13.226509Z",
     "iopub.status.busy": "2021-03-26T12:08:13.226155Z",
     "iopub.status.idle": "2021-03-26T12:08:13.253044Z",
     "shell.execute_reply": "2021-03-26T12:08:13.251431Z"
    }
   },
   "outputs": [
    {
     "data": {
      "image/svg+xml": [
       "<?xml version=\"1.0\" encoding=\"UTF-8\" standalone=\"no\"?><svg xmlns=\"http://www.w3.org/2000/svg\" xmlns:xlink=\"http://www.w3.org/1999/xlink\" contentScriptType=\"application/ecmascript\" contentStyleType=\"text/css\" height=\"252px\" preserveAspectRatio=\"none\" style=\"width:306px;height:252px;\" version=\"1.1\" viewBox=\"0 0 306 252\" width=\"306px\" zoomAndPan=\"magnify\"><defs/><g><!--MD5=[fbc87193dbaf4d95561dea2c320d4a47]\n",
       "cluster E1--><a href=\"psysml:fd8049a9-22d6-4d05-bbeb-ce76116dc6d9\" target=\"_top\" title=\"psysml:fd8049a9-22d6-4d05-bbeb-ce76116dc6d9\" xlink:actuate=\"onRequest\" xlink:href=\"psysml:fd8049a9-22d6-4d05-bbeb-ce76116dc6d9\" xlink:show=\"new\" xlink:title=\"psysml:fd8049a9-22d6-4d05-bbeb-ce76116dc6d9\" xlink:type=\"simple\"><polygon fill=\"#FFFFFF\" points=\"16,6,163,6,170,28.2969,284,28.2969,284,240,16,240,16,6\" style=\"stroke: #000000; stroke-width: 1.5;\"/><line style=\"stroke: #000000; stroke-width: 1.5;\" x1=\"16\" x2=\"170\" y1=\"28.2969\" y2=\"28.2969\"/><text fill=\"#000000\" font-family=\"sans-serif\" font-size=\"14\" font-weight=\"bold\" lengthAdjust=\"spacingAndGlyphs\" textLength=\"141\" x=\"20\" y=\"20.9951\">PrivateImportTest</text></a><!--MD5=[e4f7fae6ed58524ba242bb0b0d3be6b7]\n",
       "cluster E2--><a href=\"psysml:b8db80a7-5996-4df4-9976-dc6864828b46\" target=\"_top\" title=\"psysml:b8db80a7-5996-4df4-9976-dc6864828b46\" xlink:actuate=\"onRequest\" xlink:href=\"psysml:b8db80a7-5996-4df4-9976-dc6864828b46\" xlink:show=\"new\" xlink:title=\"psysml:b8db80a7-5996-4df4-9976-dc6864828b46\" xlink:type=\"simple\"><polygon fill=\"#FFFFFF\" points=\"162,119,188,119,195,141.2969,260,141.2969,260,216,162,216,162,119\" style=\"stroke: #000000; stroke-width: 1.5;\"/><line style=\"stroke: #000000; stroke-width: 1.5;\" x1=\"162\" x2=\"195\" y1=\"141.2969\" y2=\"141.2969\"/><text fill=\"#000000\" font-family=\"sans-serif\" font-size=\"14\" font-weight=\"bold\" lengthAdjust=\"spacingAndGlyphs\" textLength=\"20\" x=\"166\" y=\"133.9951\">P1</text></a><!--MD5=[14e3b0961a2654348d326746436168a1]\n",
       "cluster E6--><a href=\"psysml:5bfd0c7b-a7f5-42f3-81fc-e346e4c74519\" target=\"_top\" title=\"psysml:5bfd0c7b-a7f5-42f3-81fc-e346e4c74519\" xlink:actuate=\"onRequest\" xlink:href=\"psysml:5bfd0c7b-a7f5-42f3-81fc-e346e4c74519\" xlink:show=\"new\" xlink:title=\"psysml:5bfd0c7b-a7f5-42f3-81fc-e346e4c74519\" xlink:type=\"simple\"><polygon fill=\"#FFFFFF\" points=\"40,119,66,119,73,141.2969,138,141.2969,138,216,40,216,40,119\" style=\"stroke: #000000; stroke-width: 1.5;\"/><line style=\"stroke: #000000; stroke-width: 1.5;\" x1=\"40\" x2=\"73\" y1=\"141.2969\" y2=\"141.2969\"/><text fill=\"#000000\" font-family=\"sans-serif\" font-size=\"14\" font-weight=\"bold\" lengthAdjust=\"spacingAndGlyphs\" textLength=\"20\" x=\"44\" y=\"133.9951\">P3</text></a><!--MD5=[270fce915f116d4de14055a7c1d9a0f3]\n",
       "class E5--><a href=\"psysml:79fb998f-896a-4642-b1f0-d66dfbec55d7\" target=\"_top\" title=\"psysml:79fb998f-896a-4642-b1f0-d66dfbec55d7\" xlink:actuate=\"onRequest\" xlink:href=\"psysml:79fb998f-896a-4642-b1f0-d66dfbec55d7\" xlink:show=\"new\" xlink:title=\"psysml:79fb998f-896a-4642-b1f0-d66dfbec55d7\" xlink:type=\"simple\"><rect fill=\"#FFFFFF\" height=\"45.9375\" id=\"E5\" rx=\"10\" ry=\"10\" style=\"stroke: #383838; stroke-width: 1.5;\" width=\"42\" x=\"190\" y=\"44.5\"/><text fill=\"#000000\" font-family=\"sans-serif\" font-size=\"12\" font-style=\"italic\" lengthAdjust=\"spacingAndGlyphs\" textLength=\"40\" x=\"191\" y=\"60.6387\">«part»</text><text fill=\"#000000\" font-family=\"sans-serif\" font-size=\"12\" lengthAdjust=\"spacingAndGlyphs\" textLength=\"22\" x=\"200\" y=\"74.6074\">x: A</text><line style=\"stroke: #383838; stroke-width: 1.5;\" x1=\"191\" x2=\"231\" y1=\"82.4375\" y2=\"82.4375\"/></a><!--MD5=[b9389687b975829384b498ac4b7476b2]\n",
       "class E8--><a href=\"psysml:c8045a6d-f018-4e86-976c-73e06620aa4c\" target=\"_top\" title=\"psysml:c8045a6d-f018-4e86-976c-73e06620aa4c\" xlink:actuate=\"onRequest\" xlink:href=\"psysml:c8045a6d-f018-4e86-976c-73e06620aa4c\" xlink:show=\"new\" xlink:title=\"psysml:c8045a6d-f018-4e86-976c-73e06620aa4c\" xlink:type=\"simple\"><rect fill=\"#FFFFFF\" height=\"45.9375\" id=\"E8\" rx=\"10\" ry=\"10\" style=\"stroke: #383838; stroke-width: 1.5;\" width=\"42\" x=\"107\" y=\"44.5\"/><text fill=\"#000000\" font-family=\"sans-serif\" font-size=\"12\" font-style=\"italic\" lengthAdjust=\"spacingAndGlyphs\" textLength=\"40\" x=\"108\" y=\"60.6387\">«part»</text><text fill=\"#000000\" font-family=\"sans-serif\" font-size=\"12\" lengthAdjust=\"spacingAndGlyphs\" textLength=\"21\" x=\"117.5\" y=\"74.6074\">z: B</text><line style=\"stroke: #383838; stroke-width: 1.5;\" x1=\"108\" x2=\"148\" y1=\"82.4375\" y2=\"82.4375\"/></a><!--MD5=[09b614a08d8cba4a07c9adeb5e0fee81]\n",
       "class E3--><a href=\"psysml:06ccdf6b-7fde-40d2-9d83-7c71c3aaf391\" target=\"_top\" title=\"psysml:06ccdf6b-7fde-40d2-9d83-7c71c3aaf391\" xlink:actuate=\"onRequest\" xlink:href=\"psysml:06ccdf6b-7fde-40d2-9d83-7c71c3aaf391\" xlink:show=\"new\" xlink:title=\"psysml:06ccdf6b-7fde-40d2-9d83-7c71c3aaf391\" xlink:type=\"simple\"><rect fill=\"#FFFFFF\" height=\"45.9375\" id=\"E3\" style=\"stroke: #383838; stroke-width: 1.5;\" width=\"66\" x=\"178\" y=\"154\"/><text fill=\"#000000\" font-family=\"sans-serif\" font-size=\"12\" font-style=\"italic\" lengthAdjust=\"spacingAndGlyphs\" textLength=\"64\" x=\"179\" y=\"170.1387\">«part def»</text><text fill=\"#000000\" font-family=\"sans-serif\" font-size=\"12\" lengthAdjust=\"spacingAndGlyphs\" textLength=\"8\" x=\"207\" y=\"184.1074\">A</text><line style=\"stroke: #383838; stroke-width: 1.5;\" x1=\"179\" x2=\"243\" y1=\"191.9375\" y2=\"191.9375\"/></a><a href=\"psysml:524b97f3-dd10-444b-a6f8-a87f295610fc\" target=\"_top\" title=\"psysml:524b97f3-dd10-444b-a6f8-a87f295610fc\" xlink:actuate=\"onRequest\" xlink:href=\"psysml:524b97f3-dd10-444b-a6f8-a87f295610fc\" xlink:show=\"new\" xlink:title=\"psysml:524b97f3-dd10-444b-a6f8-a87f295610fc\" xlink:type=\"simple\"><polygon fill=\"#FFFFFF\" points=\"32,41,58,41,65,63.2969,72,63.2969,72,93.5938,32,93.5938,32,41\" style=\"stroke: #000000; stroke-width: 1.5;\"/><line style=\"stroke: #000000; stroke-width: 1.5;\" x1=\"32\" x2=\"65\" y1=\"63.2969\" y2=\"63.2969\"/><text fill=\"#000000\" font-family=\"sans-serif\" font-size=\"14\" font-weight=\"bold\" lengthAdjust=\"spacingAndGlyphs\" textLength=\"20\" x=\"36\" y=\"55.9951\">P2</text></a><!--MD5=[2156ba9850f5573cc1fc38a6a4b2f02b]\n",
       "class E7--><a href=\"psysml:e6b11995-178a-4abf-b303-bbf3be6d894d\" target=\"_top\" title=\"psysml:e6b11995-178a-4abf-b303-bbf3be6d894d\" xlink:actuate=\"onRequest\" xlink:href=\"psysml:e6b11995-178a-4abf-b303-bbf3be6d894d\" xlink:show=\"new\" xlink:title=\"psysml:e6b11995-178a-4abf-b303-bbf3be6d894d\" xlink:type=\"simple\"><rect fill=\"#FFFFFF\" height=\"45.9375\" id=\"E7\" style=\"stroke: #383838; stroke-width: 1.5;\" width=\"66\" x=\"56\" y=\"154\"/><text fill=\"#000000\" font-family=\"sans-serif\" font-size=\"12\" font-style=\"italic\" lengthAdjust=\"spacingAndGlyphs\" textLength=\"64\" x=\"57\" y=\"170.1387\">«part def»</text><text fill=\"#000000\" font-family=\"sans-serif\" font-size=\"12\" lengthAdjust=\"spacingAndGlyphs\" textLength=\"8\" x=\"85\" y=\"184.1074\">B</text><line style=\"stroke: #383838; stroke-width: 1.5;\" x1=\"57\" x2=\"121\" y1=\"191.9375\" y2=\"191.9375\"/></a><!--MD5=[e9be52314489bd878ff4c7144b63c9e1]\n",
       "link E5 to E3--><a href=\"psysml:88440252-e8a6-408e-b428-64e589ea9f3d\" target=\"_top\" title=\"psysml:88440252-e8a6-408e-b428-64e589ea9f3d\" xlink:actuate=\"onRequest\" xlink:href=\"psysml:88440252-e8a6-408e-b428-64e589ea9f3d\" xlink:show=\"new\" xlink:title=\"psysml:88440252-e8a6-408e-b428-64e589ea9f3d\" xlink:type=\"simple\"><path d=\"M211,90.51 C211,102.89 211,118.78 211,133.48 \" fill=\"none\" id=\"E5-&gt;E3\" style=\"stroke: #383838; stroke-width: 1.0;\"/><polygon fill=\"#FFFFFF\" points=\"211,153.65,204,134.65,218,134.65,211,153.65\" style=\"stroke: #383838; stroke-width: 1.0;\"/><ellipse cx=\"206\" cy=\"128.95\" fill=\"#383838\" rx=\"2\" ry=\"2\" style=\"stroke: #383838; stroke-width: 1.0;\"/><ellipse cx=\"216\" cy=\"128.95\" fill=\"#383838\" rx=\"2\" ry=\"2\" style=\"stroke: #383838; stroke-width: 1.0;\"/></a><!--MD5=[bfa3c8b0d15052fdf50ae9310b491027]\n",
       "link E8 to E7--><a href=\"psysml:a33b0610-5a8d-429b-bbd7-f981cc70bcb5\" target=\"_top\" title=\"psysml:a33b0610-5a8d-429b-bbd7-f981cc70bcb5\" xlink:actuate=\"onRequest\" xlink:href=\"psysml:a33b0610-5a8d-429b-bbd7-f981cc70bcb5\" xlink:show=\"new\" xlink:title=\"psysml:a33b0610-5a8d-429b-bbd7-f981cc70bcb5\" xlink:type=\"simple\"><path d=\"M120.01,90.51 C115.39,103.25 109.42,119.7 103.96,134.76 \" fill=\"none\" id=\"E8-&gt;E7\" style=\"stroke: #383838; stroke-width: 1.0;\"/><polygon fill=\"#FFFFFF\" points=\"97.11,153.65,97.0036,133.4018,110.1656,138.1726,97.11,153.65\" style=\"stroke: #383838; stroke-width: 1.0;\"/><ellipse cx=\"100.8262\" cy=\"128.7245\" fill=\"#383838\" rx=\"2\" ry=\"2\" style=\"stroke: #383838; stroke-width: 1.0;\"/><ellipse cx=\"110.2277\" cy=\"132.1322\" fill=\"#383838\" rx=\"2\" ry=\"2\" style=\"stroke: #383838; stroke-width: 1.0;\"/></a><!--MD5=[f0e26d4ee82d795e8e5e94862a78d6ce]\n",
       "@startuml\r\n",
       "top to bottom direction\r\n",
       "skinparam monochrome true\r\n",
       "skinparam classbackgroundcolor white\r\n",
       "skinparam shadowing false\r\n",
       "skinparam wrapWidth 300\r\n",
       "hide circle\r\n",
       "\r\n",
       "package \"PrivateImportTest\" as E1  [[psysml:fd8049a9-22d6-4d05-bbeb-ce76116dc6d9 ]]  {\r\n",
       "package \"P1\" as E2  [[psysml:b8db80a7-5996-4df4-9976-dc6864828b46 ]]  {\r\n",
       "comp def \"A\" as E3  <<(T,blue)part def>> [[psysml:06ccdf6b-7fde-40d2-9d83-7c71c3aaf391 ]] {\r\n",
       "}\r\n",
       "}\r\n",
       "package \"P2\" as E4  [[psysml:524b97f3-dd10-444b-a6f8-a87f295610fc ]]  {\r\n",
       "}\r\n",
       "comp usage \"x: A\" as E5  <<(T,blue)part>> [[psysml:79fb998f-896a-4642-b1f0-d66dfbec55d7 ]] {\r\n",
       "}\r\n",
       "package \"P3\" as E6  [[psysml:5bfd0c7b-a7f5-42f3-81fc-e346e4c74519 ]]  {\r\n",
       "comp def \"B\" as E7  <<(T,blue)part def>> [[psysml:e6b11995-178a-4abf-b303-bbf3be6d894d ]] {\r\n",
       "}\r\n",
       "E5 - -:|> E3 [[psysml:88440252-e8a6-408e-b428-64e589ea9f3d ]] \r\n",
       "}\r\n",
       "comp usage \"z: B\" as E8  <<(T,blue)part>> [[psysml:c8045a6d-f018-4e86-976c-73e06620aa4c ]] {\r\n",
       "}\r\n",
       "E8 - -:|> E7 [[psysml:a33b0610-5a8d-429b-bbd7-f981cc70bcb5 ]] \r\n",
       "}\r\n",
       "@enduml\r\n",
       "\n",
       "PlantUML version 1.2020.13(Sat Jun 13 12:26:38 UTC 2020)\n",
       "(EPL source distribution)\n",
       "Java Runtime: OpenJDK Runtime Environment\n",
       "JVM: OpenJDK 64-Bit Server VM\n",
       "Default Encoding: UTF-8\n",
       "Language: en\n",
       "Country: null\n",
       "--></g></svg>"
      ]
     },
     "execution_count": 44,
     "metadata": {},
     "output_type": "execute_result"
    }
   ],
   "source": [
    "%viz --style=\"TB\" --view=\"Default\" \"PrivateImportTest\""
   ]
  },
  {
   "cell_type": "code",
   "execution_count": 45,
   "id": "hungarian-interaction",
   "metadata": {
    "execution": {
     "iopub.execute_input": "2021-03-26T12:08:13.302320Z",
     "iopub.status.busy": "2021-03-26T12:08:13.301854Z",
     "iopub.status.idle": "2021-03-26T12:08:13.328283Z",
     "shell.execute_reply": "2021-03-26T12:08:13.327110Z"
    }
   },
   "outputs": [
    {
     "data": {
      "image/svg+xml": [
       "<?xml version=\"1.0\" encoding=\"UTF-8\" standalone=\"no\"?><svg xmlns=\"http://www.w3.org/2000/svg\" xmlns:xlink=\"http://www.w3.org/1999/xlink\" contentScriptType=\"application/ecmascript\" contentStyleType=\"text/css\" height=\"252px\" preserveAspectRatio=\"none\" style=\"width:306px;height:252px;\" version=\"1.1\" viewBox=\"0 0 306 252\" width=\"306px\" zoomAndPan=\"magnify\"><defs/><g><!--MD5=[fbc87193dbaf4d95561dea2c320d4a47]\n",
       "cluster E1--><a href=\"psysml:fd8049a9-22d6-4d05-bbeb-ce76116dc6d9\" target=\"_top\" title=\"psysml:fd8049a9-22d6-4d05-bbeb-ce76116dc6d9\" xlink:actuate=\"onRequest\" xlink:href=\"psysml:fd8049a9-22d6-4d05-bbeb-ce76116dc6d9\" xlink:show=\"new\" xlink:title=\"psysml:fd8049a9-22d6-4d05-bbeb-ce76116dc6d9\" xlink:type=\"simple\"><polygon fill=\"#FFFFFF\" points=\"16,6,163,6,170,28.2969,284,28.2969,284,240,16,240,16,6\" style=\"stroke: #000000; stroke-width: 1.5;\"/><line style=\"stroke: #000000; stroke-width: 1.5;\" x1=\"16\" x2=\"170\" y1=\"28.2969\" y2=\"28.2969\"/><text fill=\"#000000\" font-family=\"sans-serif\" font-size=\"14\" font-weight=\"bold\" lengthAdjust=\"spacingAndGlyphs\" textLength=\"141\" x=\"20\" y=\"20.9951\">PrivateImportTest</text></a><!--MD5=[e4f7fae6ed58524ba242bb0b0d3be6b7]\n",
       "cluster E2--><a href=\"psysml:b8db80a7-5996-4df4-9976-dc6864828b46\" target=\"_top\" title=\"psysml:b8db80a7-5996-4df4-9976-dc6864828b46\" xlink:actuate=\"onRequest\" xlink:href=\"psysml:b8db80a7-5996-4df4-9976-dc6864828b46\" xlink:show=\"new\" xlink:title=\"psysml:b8db80a7-5996-4df4-9976-dc6864828b46\" xlink:type=\"simple\"><polygon fill=\"#FFFFFF\" points=\"162,119,188,119,195,141.2969,260,141.2969,260,216,162,216,162,119\" style=\"stroke: #000000; stroke-width: 1.5;\"/><line style=\"stroke: #000000; stroke-width: 1.5;\" x1=\"162\" x2=\"195\" y1=\"141.2969\" y2=\"141.2969\"/><text fill=\"#000000\" font-family=\"sans-serif\" font-size=\"14\" font-weight=\"bold\" lengthAdjust=\"spacingAndGlyphs\" textLength=\"20\" x=\"166\" y=\"133.9951\">P1</text></a><!--MD5=[14e3b0961a2654348d326746436168a1]\n",
       "cluster E6--><a href=\"psysml:5bfd0c7b-a7f5-42f3-81fc-e346e4c74519\" target=\"_top\" title=\"psysml:5bfd0c7b-a7f5-42f3-81fc-e346e4c74519\" xlink:actuate=\"onRequest\" xlink:href=\"psysml:5bfd0c7b-a7f5-42f3-81fc-e346e4c74519\" xlink:show=\"new\" xlink:title=\"psysml:5bfd0c7b-a7f5-42f3-81fc-e346e4c74519\" xlink:type=\"simple\"><polygon fill=\"#FFFFFF\" points=\"40,119,66,119,73,141.2969,138,141.2969,138,216,40,216,40,119\" style=\"stroke: #000000; stroke-width: 1.5;\"/><line style=\"stroke: #000000; stroke-width: 1.5;\" x1=\"40\" x2=\"73\" y1=\"141.2969\" y2=\"141.2969\"/><text fill=\"#000000\" font-family=\"sans-serif\" font-size=\"14\" font-weight=\"bold\" lengthAdjust=\"spacingAndGlyphs\" textLength=\"20\" x=\"44\" y=\"133.9951\">P3</text></a><!--MD5=[270fce915f116d4de14055a7c1d9a0f3]\n",
       "class E5--><a href=\"psysml:79fb998f-896a-4642-b1f0-d66dfbec55d7\" target=\"_top\" title=\"psysml:79fb998f-896a-4642-b1f0-d66dfbec55d7\" xlink:actuate=\"onRequest\" xlink:href=\"psysml:79fb998f-896a-4642-b1f0-d66dfbec55d7\" xlink:show=\"new\" xlink:title=\"psysml:79fb998f-896a-4642-b1f0-d66dfbec55d7\" xlink:type=\"simple\"><rect fill=\"#FFFFFF\" height=\"45.9375\" id=\"E5\" rx=\"10\" ry=\"10\" style=\"stroke: #383838; stroke-width: 1.5;\" width=\"42\" x=\"190\" y=\"44.5\"/><text fill=\"#000000\" font-family=\"sans-serif\" font-size=\"12\" font-style=\"italic\" lengthAdjust=\"spacingAndGlyphs\" textLength=\"40\" x=\"191\" y=\"60.6387\">«part»</text><text fill=\"#000000\" font-family=\"sans-serif\" font-size=\"12\" lengthAdjust=\"spacingAndGlyphs\" textLength=\"22\" x=\"200\" y=\"74.6074\">x: A</text><line style=\"stroke: #383838; stroke-width: 1.5;\" x1=\"191\" x2=\"231\" y1=\"82.4375\" y2=\"82.4375\"/></a><!--MD5=[b9389687b975829384b498ac4b7476b2]\n",
       "class E8--><a href=\"psysml:c8045a6d-f018-4e86-976c-73e06620aa4c\" target=\"_top\" title=\"psysml:c8045a6d-f018-4e86-976c-73e06620aa4c\" xlink:actuate=\"onRequest\" xlink:href=\"psysml:c8045a6d-f018-4e86-976c-73e06620aa4c\" xlink:show=\"new\" xlink:title=\"psysml:c8045a6d-f018-4e86-976c-73e06620aa4c\" xlink:type=\"simple\"><rect fill=\"#FFFFFF\" height=\"45.9375\" id=\"E8\" rx=\"10\" ry=\"10\" style=\"stroke: #383838; stroke-width: 1.5;\" width=\"42\" x=\"107\" y=\"44.5\"/><text fill=\"#000000\" font-family=\"sans-serif\" font-size=\"12\" font-style=\"italic\" lengthAdjust=\"spacingAndGlyphs\" textLength=\"40\" x=\"108\" y=\"60.6387\">«part»</text><text fill=\"#000000\" font-family=\"sans-serif\" font-size=\"12\" lengthAdjust=\"spacingAndGlyphs\" textLength=\"21\" x=\"117.5\" y=\"74.6074\">z: B</text><line style=\"stroke: #383838; stroke-width: 1.5;\" x1=\"108\" x2=\"148\" y1=\"82.4375\" y2=\"82.4375\"/></a><!--MD5=[09b614a08d8cba4a07c9adeb5e0fee81]\n",
       "class E3--><a href=\"psysml:06ccdf6b-7fde-40d2-9d83-7c71c3aaf391\" target=\"_top\" title=\"psysml:06ccdf6b-7fde-40d2-9d83-7c71c3aaf391\" xlink:actuate=\"onRequest\" xlink:href=\"psysml:06ccdf6b-7fde-40d2-9d83-7c71c3aaf391\" xlink:show=\"new\" xlink:title=\"psysml:06ccdf6b-7fde-40d2-9d83-7c71c3aaf391\" xlink:type=\"simple\"><rect fill=\"#FFFFFF\" height=\"45.9375\" id=\"E3\" style=\"stroke: #383838; stroke-width: 1.5;\" width=\"66\" x=\"178\" y=\"154\"/><text fill=\"#000000\" font-family=\"sans-serif\" font-size=\"12\" font-style=\"italic\" lengthAdjust=\"spacingAndGlyphs\" textLength=\"64\" x=\"179\" y=\"170.1387\">«part def»</text><text fill=\"#000000\" font-family=\"sans-serif\" font-size=\"12\" lengthAdjust=\"spacingAndGlyphs\" textLength=\"8\" x=\"207\" y=\"184.1074\">A</text><line style=\"stroke: #383838; stroke-width: 1.5;\" x1=\"179\" x2=\"243\" y1=\"191.9375\" y2=\"191.9375\"/></a><a href=\"psysml:524b97f3-dd10-444b-a6f8-a87f295610fc\" target=\"_top\" title=\"psysml:524b97f3-dd10-444b-a6f8-a87f295610fc\" xlink:actuate=\"onRequest\" xlink:href=\"psysml:524b97f3-dd10-444b-a6f8-a87f295610fc\" xlink:show=\"new\" xlink:title=\"psysml:524b97f3-dd10-444b-a6f8-a87f295610fc\" xlink:type=\"simple\"><polygon fill=\"#FFFFFF\" points=\"32,41,58,41,65,63.2969,72,63.2969,72,93.5938,32,93.5938,32,41\" style=\"stroke: #000000; stroke-width: 1.5;\"/><line style=\"stroke: #000000; stroke-width: 1.5;\" x1=\"32\" x2=\"65\" y1=\"63.2969\" y2=\"63.2969\"/><text fill=\"#000000\" font-family=\"sans-serif\" font-size=\"14\" font-weight=\"bold\" lengthAdjust=\"spacingAndGlyphs\" textLength=\"20\" x=\"36\" y=\"55.9951\">P2</text></a><!--MD5=[2156ba9850f5573cc1fc38a6a4b2f02b]\n",
       "class E7--><a href=\"psysml:e6b11995-178a-4abf-b303-bbf3be6d894d\" target=\"_top\" title=\"psysml:e6b11995-178a-4abf-b303-bbf3be6d894d\" xlink:actuate=\"onRequest\" xlink:href=\"psysml:e6b11995-178a-4abf-b303-bbf3be6d894d\" xlink:show=\"new\" xlink:title=\"psysml:e6b11995-178a-4abf-b303-bbf3be6d894d\" xlink:type=\"simple\"><rect fill=\"#FFFFFF\" height=\"45.9375\" id=\"E7\" style=\"stroke: #383838; stroke-width: 1.5;\" width=\"66\" x=\"56\" y=\"154\"/><text fill=\"#000000\" font-family=\"sans-serif\" font-size=\"12\" font-style=\"italic\" lengthAdjust=\"spacingAndGlyphs\" textLength=\"64\" x=\"57\" y=\"170.1387\">«part def»</text><text fill=\"#000000\" font-family=\"sans-serif\" font-size=\"12\" lengthAdjust=\"spacingAndGlyphs\" textLength=\"8\" x=\"85\" y=\"184.1074\">B</text><line style=\"stroke: #383838; stroke-width: 1.5;\" x1=\"57\" x2=\"121\" y1=\"191.9375\" y2=\"191.9375\"/></a><!--MD5=[e9be52314489bd878ff4c7144b63c9e1]\n",
       "link E5 to E3--><a href=\"psysml:88440252-e8a6-408e-b428-64e589ea9f3d\" target=\"_top\" title=\"psysml:88440252-e8a6-408e-b428-64e589ea9f3d\" xlink:actuate=\"onRequest\" xlink:href=\"psysml:88440252-e8a6-408e-b428-64e589ea9f3d\" xlink:show=\"new\" xlink:title=\"psysml:88440252-e8a6-408e-b428-64e589ea9f3d\" xlink:type=\"simple\"><path d=\"M211,90.51 C211,102.89 211,118.78 211,133.48 \" fill=\"none\" id=\"E5-&gt;E3\" style=\"stroke: #383838; stroke-width: 1.0;\"/><polygon fill=\"#FFFFFF\" points=\"211,153.65,204,134.65,218,134.65,211,153.65\" style=\"stroke: #383838; stroke-width: 1.0;\"/><ellipse cx=\"206\" cy=\"128.95\" fill=\"#383838\" rx=\"2\" ry=\"2\" style=\"stroke: #383838; stroke-width: 1.0;\"/><ellipse cx=\"216\" cy=\"128.95\" fill=\"#383838\" rx=\"2\" ry=\"2\" style=\"stroke: #383838; stroke-width: 1.0;\"/></a><!--MD5=[bfa3c8b0d15052fdf50ae9310b491027]\n",
       "link E8 to E7--><a href=\"psysml:a33b0610-5a8d-429b-bbd7-f981cc70bcb5\" target=\"_top\" title=\"psysml:a33b0610-5a8d-429b-bbd7-f981cc70bcb5\" xlink:actuate=\"onRequest\" xlink:href=\"psysml:a33b0610-5a8d-429b-bbd7-f981cc70bcb5\" xlink:show=\"new\" xlink:title=\"psysml:a33b0610-5a8d-429b-bbd7-f981cc70bcb5\" xlink:type=\"simple\"><path d=\"M120.01,90.51 C115.39,103.25 109.42,119.7 103.96,134.76 \" fill=\"none\" id=\"E8-&gt;E7\" style=\"stroke: #383838; stroke-width: 1.0;\"/><polygon fill=\"#FFFFFF\" points=\"97.11,153.65,97.0036,133.4018,110.1656,138.1726,97.11,153.65\" style=\"stroke: #383838; stroke-width: 1.0;\"/><ellipse cx=\"100.8262\" cy=\"128.7245\" fill=\"#383838\" rx=\"2\" ry=\"2\" style=\"stroke: #383838; stroke-width: 1.0;\"/><ellipse cx=\"110.2277\" cy=\"132.1322\" fill=\"#383838\" rx=\"2\" ry=\"2\" style=\"stroke: #383838; stroke-width: 1.0;\"/></a><!--MD5=[f0e26d4ee82d795e8e5e94862a78d6ce]\n",
       "@startuml\r\n",
       "top to bottom direction\r\n",
       "skinparam monochrome true\r\n",
       "skinparam classbackgroundcolor white\r\n",
       "skinparam shadowing false\r\n",
       "skinparam wrapWidth 300\r\n",
       "hide circle\r\n",
       "\r\n",
       "package \"PrivateImportTest\" as E1  [[psysml:fd8049a9-22d6-4d05-bbeb-ce76116dc6d9 ]]  {\r\n",
       "package \"P1\" as E2  [[psysml:b8db80a7-5996-4df4-9976-dc6864828b46 ]]  {\r\n",
       "comp def \"A\" as E3  <<(T,blue)part def>> [[psysml:06ccdf6b-7fde-40d2-9d83-7c71c3aaf391 ]] {\r\n",
       "}\r\n",
       "}\r\n",
       "package \"P2\" as E4  [[psysml:524b97f3-dd10-444b-a6f8-a87f295610fc ]]  {\r\n",
       "}\r\n",
       "comp usage \"x: A\" as E5  <<(T,blue)part>> [[psysml:79fb998f-896a-4642-b1f0-d66dfbec55d7 ]] {\r\n",
       "}\r\n",
       "package \"P3\" as E6  [[psysml:5bfd0c7b-a7f5-42f3-81fc-e346e4c74519 ]]  {\r\n",
       "comp def \"B\" as E7  <<(T,blue)part def>> [[psysml:e6b11995-178a-4abf-b303-bbf3be6d894d ]] {\r\n",
       "}\r\n",
       "E5 - -:|> E3 [[psysml:88440252-e8a6-408e-b428-64e589ea9f3d ]] \r\n",
       "}\r\n",
       "comp usage \"z: B\" as E8  <<(T,blue)part>> [[psysml:c8045a6d-f018-4e86-976c-73e06620aa4c ]] {\r\n",
       "}\r\n",
       "E8 - -:|> E7 [[psysml:a33b0610-5a8d-429b-bbd7-f981cc70bcb5 ]] \r\n",
       "}\r\n",
       "@enduml\r\n",
       "\n",
       "PlantUML version 1.2020.13(Sat Jun 13 12:26:38 UTC 2020)\n",
       "(EPL source distribution)\n",
       "Java Runtime: OpenJDK Runtime Environment\n",
       "JVM: OpenJDK 64-Bit Server VM\n",
       "Default Encoding: UTF-8\n",
       "Language: en\n",
       "Country: null\n",
       "--></g></svg>"
      ]
     },
     "execution_count": 45,
     "metadata": {},
     "output_type": "execute_result"
    }
   ],
   "source": [
    "%viz --style=\"TB\" --view=\"Tree\" \"PrivateImportTest\""
   ]
  },
  {
   "cell_type": "code",
   "execution_count": 46,
   "id": "conditional-meter",
   "metadata": {
    "execution": {
     "iopub.execute_input": "2021-03-26T12:08:13.381030Z",
     "iopub.status.busy": "2021-03-26T12:08:13.380159Z",
     "iopub.status.idle": "2021-03-26T12:08:13.385562Z",
     "shell.execute_reply": "2021-03-26T12:08:13.385211Z"
    }
   },
   "outputs": [
    {
     "data": {
      "image/svg+xml": [
       "<?xml version=\"1.0\" encoding=\"UTF-8\" standalone=\"no\"?><svg xmlns=\"http://www.w3.org/2000/svg\" xmlns:xlink=\"http://www.w3.org/1999/xlink\" contentScriptType=\"application/ecmascript\" contentStyleType=\"text/css\" height=\"12px\" preserveAspectRatio=\"none\" style=\"width:12px;height:12px;\" version=\"1.1\" viewBox=\"0 0 12 12\" width=\"12px\" zoomAndPan=\"magnify\"><defs/><g><!--MD5=[f4ee21bc66e489b5061b7c3e9601fdef]\n",
       "@startuml\r\n",
       "top to bottom direction\r\n",
       "skinparam monochrome true\r\n",
       "skinparam classbackgroundcolor white\r\n",
       "skinparam shadowing false\r\n",
       "skinparam wrapWidth 300\r\n",
       "hide circle\r\n",
       "\r\n",
       "@enduml\r\n",
       "\n",
       "PlantUML version 1.2020.13(Sat Jun 13 12:26:38 UTC 2020)\n",
       "(EPL source distribution)\n",
       "Java Runtime: OpenJDK Runtime Environment\n",
       "JVM: OpenJDK 64-Bit Server VM\n",
       "Default Encoding: UTF-8\n",
       "Language: en\n",
       "Country: null\n",
       "--></g></svg>"
      ]
     },
     "execution_count": 46,
     "metadata": {},
     "output_type": "execute_result"
    }
   ],
   "source": [
    "%viz --style=\"TB\" --view=\"State\" \"PrivateImportTest\""
   ]
  },
  {
   "cell_type": "code",
   "execution_count": 47,
   "id": "hazardous-logan",
   "metadata": {
    "execution": {
     "iopub.execute_input": "2021-03-26T12:08:13.438595Z",
     "iopub.status.busy": "2021-03-26T12:08:13.437855Z",
     "iopub.status.idle": "2021-03-26T12:08:13.466920Z",
     "shell.execute_reply": "2021-03-26T12:08:13.465742Z"
    }
   },
   "outputs": [
    {
     "data": {
      "image/svg+xml": [
       "<?xml version=\"1.0\" encoding=\"UTF-8\" standalone=\"no\"?><svg xmlns=\"http://www.w3.org/2000/svg\" xmlns:xlink=\"http://www.w3.org/1999/xlink\" contentScriptType=\"application/ecmascript\" contentStyleType=\"text/css\" height=\"179px\" preserveAspectRatio=\"none\" style=\"width:539px;height:179px;\" version=\"1.1\" viewBox=\"0 0 539 179\" width=\"539px\" zoomAndPan=\"magnify\"><defs/><g><!--MD5=[fbc87193dbaf4d95561dea2c320d4a47]\n",
       "cluster E1--><a href=\"psysml:fd8049a9-22d6-4d05-bbeb-ce76116dc6d9\" target=\"_top\" title=\"psysml:fd8049a9-22d6-4d05-bbeb-ce76116dc6d9\" xlink:actuate=\"onRequest\" xlink:href=\"psysml:fd8049a9-22d6-4d05-bbeb-ce76116dc6d9\" xlink:show=\"new\" xlink:title=\"psysml:fd8049a9-22d6-4d05-bbeb-ce76116dc6d9\" xlink:type=\"simple\"><polygon fill=\"#FFFFFF\" points=\"16,6,163,6,170,28.2969,517,28.2969,517,167,16,167,16,6\" style=\"stroke: #000000; stroke-width: 1.5;\"/><line style=\"stroke: #000000; stroke-width: 1.5;\" x1=\"16\" x2=\"170\" y1=\"28.2969\" y2=\"28.2969\"/><text fill=\"#000000\" font-family=\"sans-serif\" font-size=\"14\" font-weight=\"bold\" lengthAdjust=\"spacingAndGlyphs\" textLength=\"141\" x=\"20\" y=\"20.9951\">PrivateImportTest</text></a><!--MD5=[e4f7fae6ed58524ba242bb0b0d3be6b7]\n",
       "cluster E2--><a href=\"psysml:b8db80a7-5996-4df4-9976-dc6864828b46\" target=\"_top\" title=\"psysml:b8db80a7-5996-4df4-9976-dc6864828b46\" xlink:actuate=\"onRequest\" xlink:href=\"psysml:b8db80a7-5996-4df4-9976-dc6864828b46\" xlink:show=\"new\" xlink:title=\"psysml:b8db80a7-5996-4df4-9976-dc6864828b46\" xlink:type=\"simple\"><polygon fill=\"#FFFFFF\" points=\"389,49,415,49,422,71.2969,493,71.2969,493,143,389,143,389,49\" style=\"stroke: #000000; stroke-width: 1.5;\"/><line style=\"stroke: #000000; stroke-width: 1.5;\" x1=\"389\" x2=\"422\" y1=\"71.2969\" y2=\"71.2969\"/><text fill=\"#000000\" font-family=\"sans-serif\" font-size=\"14\" font-weight=\"bold\" lengthAdjust=\"spacingAndGlyphs\" textLength=\"20\" x=\"393\" y=\"63.9951\">P1</text></a><!--MD5=[14e3b0961a2654348d326746436168a1]\n",
       "cluster E6--><a href=\"psysml:5bfd0c7b-a7f5-42f3-81fc-e346e4c74519\" target=\"_top\" title=\"psysml:5bfd0c7b-a7f5-42f3-81fc-e346e4c74519\" xlink:actuate=\"onRequest\" xlink:href=\"psysml:5bfd0c7b-a7f5-42f3-81fc-e346e4c74519\" xlink:show=\"new\" xlink:title=\"psysml:5bfd0c7b-a7f5-42f3-81fc-e346e4c74519\" xlink:type=\"simple\"><polygon fill=\"#FFFFFF\" points=\"261,49,287,49,294,71.2969,365,71.2969,365,143,261,143,261,49\" style=\"stroke: #000000; stroke-width: 1.5;\"/><line style=\"stroke: #000000; stroke-width: 1.5;\" x1=\"261\" x2=\"294\" y1=\"71.2969\" y2=\"71.2969\"/><text fill=\"#000000\" font-family=\"sans-serif\" font-size=\"14\" font-weight=\"bold\" lengthAdjust=\"spacingAndGlyphs\" textLength=\"20\" x=\"265\" y=\"63.9951\">P3</text></a><g id=\"E1.E2.E3\"><a href=\"psysml:06ccdf6b-7fde-40d2-9d83-7c71c3aaf391\" target=\"_top\" title=\"psysml:06ccdf6b-7fde-40d2-9d83-7c71c3aaf391\" xlink:actuate=\"onRequest\" xlink:href=\"psysml:06ccdf6b-7fde-40d2-9d83-7c71c3aaf391\" xlink:show=\"new\" xlink:title=\"psysml:06ccdf6b-7fde-40d2-9d83-7c71c3aaf391\" xlink:type=\"simple\"><rect fill=\"#FFFFFF\" height=\"42.9375\" id=\"E3\" style=\"stroke: #383838; stroke-width: 1.5;\" width=\"71\" x=\"405.5\" y=\"84\"/><rect fill=\"#F8F8F8\" height=\"37.9375\" style=\"stroke: #383838; stroke-width: 1.5;\" width=\"71\" x=\"405.5\" y=\"84\"/><text fill=\"#000000\" font-family=\"sans-serif\" font-size=\"12\" font-style=\"italic\" lengthAdjust=\"spacingAndGlyphs\" textLength=\"64\" x=\"409\" y=\"100.1387\">«part def»</text><text fill=\"#000000\" font-family=\"sans-serif\" font-size=\"12\" lengthAdjust=\"spacingAndGlyphs\" textLength=\"8\" x=\"437\" y=\"114.1074\">A</text></a></g><a href=\"psysml:524b97f3-dd10-444b-a6f8-a87f295610fc\" target=\"_top\" title=\"psysml:524b97f3-dd10-444b-a6f8-a87f295610fc\" xlink:actuate=\"onRequest\" xlink:href=\"psysml:524b97f3-dd10-444b-a6f8-a87f295610fc\" xlink:show=\"new\" xlink:title=\"psysml:524b97f3-dd10-444b-a6f8-a87f295610fc\" xlink:type=\"simple\"><polygon fill=\"#FFFFFF\" points=\"202,79,228,79,235,101.2969,242,101.2969,242,131.5938,202,131.5938,202,79\" style=\"stroke: #000000; stroke-width: 1.5;\"/><line style=\"stroke: #000000; stroke-width: 1.5;\" x1=\"202\" x2=\"235\" y1=\"101.2969\" y2=\"101.2969\"/><text fill=\"#000000\" font-family=\"sans-serif\" font-size=\"14\" font-weight=\"bold\" lengthAdjust=\"spacingAndGlyphs\" textLength=\"20\" x=\"206\" y=\"93.9951\">P2</text></a><g id=\"E1.E5\"><a href=\"psysml:79fb998f-896a-4642-b1f0-d66dfbec55d7\" target=\"_top\" title=\"psysml:79fb998f-896a-4642-b1f0-d66dfbec55d7\" xlink:actuate=\"onRequest\" xlink:href=\"psysml:79fb998f-896a-4642-b1f0-d66dfbec55d7\" xlink:show=\"new\" xlink:title=\"psysml:79fb998f-896a-4642-b1f0-d66dfbec55d7\" xlink:type=\"simple\"><rect fill=\"#FFFFFF\" height=\"40\" id=\"E5\" rx=\"10\" ry=\"10\" style=\"stroke: #383838; stroke-width: 1.5;\" width=\"50\" x=\"117\" y=\"85.5\"/><rect fill=\"#F8F8F8\" height=\"23.9688\" rx=\"10\" ry=\"10\" style=\"stroke: #F8F8F8; stroke-width: 1.5;\" width=\"50\" x=\"117\" y=\"85.5\"/><rect fill=\"#F8F8F8\" height=\"10\" style=\"stroke: #F8F8F8; stroke-width: 1.5;\" width=\"50\" x=\"117\" y=\"99.4688\"/><rect fill=\"none\" height=\"40\" id=\"E5\" rx=\"10\" ry=\"10\" style=\"stroke: #383838; stroke-width: 1.5;\" width=\"50\" x=\"117\" y=\"85.5\"/><text fill=\"#000000\" font-family=\"sans-serif\" font-size=\"12\" lengthAdjust=\"spacingAndGlyphs\" textLength=\"22\" x=\"131\" y=\"101.6387\">x: A</text></a></g><g id=\"E1.E6.E7\"><a href=\"psysml:e6b11995-178a-4abf-b303-bbf3be6d894d\" target=\"_top\" title=\"psysml:e6b11995-178a-4abf-b303-bbf3be6d894d\" xlink:actuate=\"onRequest\" xlink:href=\"psysml:e6b11995-178a-4abf-b303-bbf3be6d894d\" xlink:show=\"new\" xlink:title=\"psysml:e6b11995-178a-4abf-b303-bbf3be6d894d\" xlink:type=\"simple\"><rect fill=\"#FFFFFF\" height=\"42.9375\" id=\"E7\" style=\"stroke: #383838; stroke-width: 1.5;\" width=\"71\" x=\"277.5\" y=\"84\"/><rect fill=\"#F8F8F8\" height=\"37.9375\" style=\"stroke: #383838; stroke-width: 1.5;\" width=\"71\" x=\"277.5\" y=\"84\"/><text fill=\"#000000\" font-family=\"sans-serif\" font-size=\"12\" font-style=\"italic\" lengthAdjust=\"spacingAndGlyphs\" textLength=\"64\" x=\"281\" y=\"100.1387\">«part def»</text><text fill=\"#000000\" font-family=\"sans-serif\" font-size=\"12\" lengthAdjust=\"spacingAndGlyphs\" textLength=\"8\" x=\"309\" y=\"114.1074\">B</text></a></g><g id=\"E1.E8\"><a href=\"psysml:c8045a6d-f018-4e86-976c-73e06620aa4c\" target=\"_top\" title=\"psysml:c8045a6d-f018-4e86-976c-73e06620aa4c\" xlink:actuate=\"onRequest\" xlink:href=\"psysml:c8045a6d-f018-4e86-976c-73e06620aa4c\" xlink:show=\"new\" xlink:title=\"psysml:c8045a6d-f018-4e86-976c-73e06620aa4c\" xlink:type=\"simple\"><rect fill=\"#FFFFFF\" height=\"40\" id=\"E8\" rx=\"10\" ry=\"10\" style=\"stroke: #383838; stroke-width: 1.5;\" width=\"50\" x=\"32\" y=\"85.5\"/><rect fill=\"#F8F8F8\" height=\"23.9688\" rx=\"10\" ry=\"10\" style=\"stroke: #F8F8F8; stroke-width: 1.5;\" width=\"50\" x=\"32\" y=\"85.5\"/><rect fill=\"#F8F8F8\" height=\"10\" style=\"stroke: #F8F8F8; stroke-width: 1.5;\" width=\"50\" x=\"32\" y=\"99.4688\"/><rect fill=\"none\" height=\"40\" id=\"E8\" rx=\"10\" ry=\"10\" style=\"stroke: #383838; stroke-width: 1.5;\" width=\"50\" x=\"32\" y=\"85.5\"/><text fill=\"#000000\" font-family=\"sans-serif\" font-size=\"12\" lengthAdjust=\"spacingAndGlyphs\" textLength=\"21\" x=\"46.5\" y=\"101.6387\">z: B</text></a></g><!--MD5=[59b47cf3509bf12139243d0ba9722fdf]\n",
       "@startuml\r\n",
       "skinparam ranksep 8\r\n",
       "skinparam rectangle {\r\n",
       " backgroundColor<<block>> LightGreen\r\n",
       "}\r\n",
       "top to bottom direction\r\n",
       "skinparam monochrome true\r\n",
       "skinparam classbackgroundcolor white\r\n",
       "skinparam shadowing false\r\n",
       "skinparam wrapWidth 300\r\n",
       "hide circle\r\n",
       "\r\n",
       "package \"PrivateImportTest\" as E1  [[psysml:fd8049a9-22d6-4d05-bbeb-ce76116dc6d9 ]]  {\r\n",
       "package \"P1\" as E2  [[psysml:b8db80a7-5996-4df4-9976-dc6864828b46 ]]  {\r\n",
       "rec def \"A\" as E3  <<(T,blue)part def>> [[psysml:06ccdf6b-7fde-40d2-9d83-7c71c3aaf391 ]] {\r\n",
       "}\r\n",
       "}\r\n",
       "package \"P2\" as E4  [[psysml:524b97f3-dd10-444b-a6f8-a87f295610fc ]]  {\r\n",
       "}\r\n",
       "rec usage \"x: A\" as E5  [[psysml:79fb998f-896a-4642-b1f0-d66dfbec55d7 ]] {\r\n",
       "}\r\n",
       "package \"P3\" as E6  [[psysml:5bfd0c7b-a7f5-42f3-81fc-e346e4c74519 ]]  {\r\n",
       "rec def \"B\" as E7  <<(T,blue)part def>> [[psysml:e6b11995-178a-4abf-b303-bbf3be6d894d ]] {\r\n",
       "}\r\n",
       "}\r\n",
       "rec usage \"z: B\" as E8  [[psysml:c8045a6d-f018-4e86-976c-73e06620aa4c ]] {\r\n",
       "}\r\n",
       "}\r\n",
       "@enduml\r\n",
       "\n",
       "PlantUML version 1.2020.13(Sat Jun 13 12:26:38 UTC 2020)\n",
       "(EPL source distribution)\n",
       "Java Runtime: OpenJDK Runtime Environment\n",
       "JVM: OpenJDK 64-Bit Server VM\n",
       "Default Encoding: UTF-8\n",
       "Language: en\n",
       "Country: null\n",
       "--></g></svg>"
      ]
     },
     "execution_count": 47,
     "metadata": {},
     "output_type": "execute_result"
    }
   ],
   "source": [
    "%viz --style=\"TB\" --view=\"Interconnection\" \"PrivateImportTest\""
   ]
  },
  {
   "cell_type": "code",
   "execution_count": 48,
   "id": "realistic-respondent",
   "metadata": {
    "execution": {
     "iopub.execute_input": "2021-03-26T12:08:13.517613Z",
     "iopub.status.busy": "2021-03-26T12:08:13.517128Z",
     "iopub.status.idle": "2021-03-26T12:08:13.521867Z",
     "shell.execute_reply": "2021-03-26T12:08:13.521455Z"
    }
   },
   "outputs": [
    {
     "data": {
      "image/svg+xml": [
       "<?xml version=\"1.0\" encoding=\"UTF-8\" standalone=\"no\"?><svg xmlns=\"http://www.w3.org/2000/svg\" xmlns:xlink=\"http://www.w3.org/1999/xlink\" contentScriptType=\"application/ecmascript\" contentStyleType=\"text/css\" height=\"12px\" preserveAspectRatio=\"none\" style=\"width:12px;height:12px;\" version=\"1.1\" viewBox=\"0 0 12 12\" width=\"12px\" zoomAndPan=\"magnify\"><defs/><g><!--MD5=[06afc254b03ac5e9d9fb7773b07d0800]\n",
       "@startuml\r\n",
       "skinparam ranksep 8\r\n",
       "top to bottom direction\r\n",
       "skinparam monochrome true\r\n",
       "skinparam classbackgroundcolor white\r\n",
       "skinparam shadowing false\r\n",
       "skinparam wrapWidth 300\r\n",
       "hide circle\r\n",
       "\r\n",
       "@enduml\r\n",
       "\n",
       "PlantUML version 1.2020.13(Sat Jun 13 12:26:38 UTC 2020)\n",
       "(EPL source distribution)\n",
       "Java Runtime: OpenJDK Runtime Environment\n",
       "JVM: OpenJDK 64-Bit Server VM\n",
       "Default Encoding: UTF-8\n",
       "Language: en\n",
       "Country: null\n",
       "--></g></svg>"
      ]
     },
     "execution_count": 48,
     "metadata": {},
     "output_type": "execute_result"
    }
   ],
   "source": [
    "%viz --style=\"TB\" --view=\"Action\" \"PrivateImportTest\""
   ]
  },
  {
   "cell_type": "code",
   "execution_count": 49,
   "id": "simple-glenn",
   "metadata": {
    "execution": {
     "iopub.execute_input": "2021-03-26T12:08:13.574165Z",
     "iopub.status.busy": "2021-03-26T12:08:13.573206Z",
     "iopub.status.idle": "2021-03-26T12:08:13.602251Z",
     "shell.execute_reply": "2021-03-26T12:08:13.601076Z"
    }
   },
   "outputs": [
    {
     "data": {
      "image/svg+xml": [
       "<?xml version=\"1.0\" encoding=\"UTF-8\" standalone=\"no\"?><svg xmlns=\"http://www.w3.org/2000/svg\" xmlns:xlink=\"http://www.w3.org/1999/xlink\" contentScriptType=\"application/ecmascript\" contentStyleType=\"text/css\" height=\"252px\" preserveAspectRatio=\"none\" style=\"width:306px;height:252px;\" version=\"1.1\" viewBox=\"0 0 306 252\" width=\"306px\" zoomAndPan=\"magnify\"><defs/><g><!--MD5=[fbc87193dbaf4d95561dea2c320d4a47]\n",
       "cluster E1--><a href=\"psysml:fd8049a9-22d6-4d05-bbeb-ce76116dc6d9\" target=\"_top\" title=\"psysml:fd8049a9-22d6-4d05-bbeb-ce76116dc6d9\" xlink:actuate=\"onRequest\" xlink:href=\"psysml:fd8049a9-22d6-4d05-bbeb-ce76116dc6d9\" xlink:show=\"new\" xlink:title=\"psysml:fd8049a9-22d6-4d05-bbeb-ce76116dc6d9\" xlink:type=\"simple\"><polygon fill=\"#FFFFFF\" points=\"16,6,163,6,170,28.2969,284,28.2969,284,240,16,240,16,6\" style=\"stroke: #000000; stroke-width: 1.5;\"/><line style=\"stroke: #000000; stroke-width: 1.5;\" x1=\"16\" x2=\"170\" y1=\"28.2969\" y2=\"28.2969\"/><text fill=\"#000000\" font-family=\"sans-serif\" font-size=\"14\" font-weight=\"bold\" lengthAdjust=\"spacingAndGlyphs\" textLength=\"141\" x=\"20\" y=\"20.9951\">PrivateImportTest</text></a><!--MD5=[e4f7fae6ed58524ba242bb0b0d3be6b7]\n",
       "cluster E2--><a href=\"psysml:b8db80a7-5996-4df4-9976-dc6864828b46\" target=\"_top\" title=\"psysml:b8db80a7-5996-4df4-9976-dc6864828b46\" xlink:actuate=\"onRequest\" xlink:href=\"psysml:b8db80a7-5996-4df4-9976-dc6864828b46\" xlink:show=\"new\" xlink:title=\"psysml:b8db80a7-5996-4df4-9976-dc6864828b46\" xlink:type=\"simple\"><polygon fill=\"#FFFFFF\" points=\"162,119,188,119,195,141.2969,260,141.2969,260,216,162,216,162,119\" style=\"stroke: #000000; stroke-width: 1.5;\"/><line style=\"stroke: #000000; stroke-width: 1.5;\" x1=\"162\" x2=\"195\" y1=\"141.2969\" y2=\"141.2969\"/><text fill=\"#000000\" font-family=\"sans-serif\" font-size=\"14\" font-weight=\"bold\" lengthAdjust=\"spacingAndGlyphs\" textLength=\"20\" x=\"166\" y=\"133.9951\">P1</text></a><!--MD5=[14e3b0961a2654348d326746436168a1]\n",
       "cluster E6--><a href=\"psysml:5bfd0c7b-a7f5-42f3-81fc-e346e4c74519\" target=\"_top\" title=\"psysml:5bfd0c7b-a7f5-42f3-81fc-e346e4c74519\" xlink:actuate=\"onRequest\" xlink:href=\"psysml:5bfd0c7b-a7f5-42f3-81fc-e346e4c74519\" xlink:show=\"new\" xlink:title=\"psysml:5bfd0c7b-a7f5-42f3-81fc-e346e4c74519\" xlink:type=\"simple\"><polygon fill=\"#FFFFFF\" points=\"40,119,66,119,73,141.2969,138,141.2969,138,216,40,216,40,119\" style=\"stroke: #000000; stroke-width: 1.5;\"/><line style=\"stroke: #000000; stroke-width: 1.5;\" x1=\"40\" x2=\"73\" y1=\"141.2969\" y2=\"141.2969\"/><text fill=\"#000000\" font-family=\"sans-serif\" font-size=\"14\" font-weight=\"bold\" lengthAdjust=\"spacingAndGlyphs\" textLength=\"20\" x=\"44\" y=\"133.9951\">P3</text></a><!--MD5=[270fce915f116d4de14055a7c1d9a0f3]\n",
       "class E5--><a href=\"psysml:79fb998f-896a-4642-b1f0-d66dfbec55d7\" target=\"_top\" title=\"psysml:79fb998f-896a-4642-b1f0-d66dfbec55d7\" xlink:actuate=\"onRequest\" xlink:href=\"psysml:79fb998f-896a-4642-b1f0-d66dfbec55d7\" xlink:show=\"new\" xlink:title=\"psysml:79fb998f-896a-4642-b1f0-d66dfbec55d7\" xlink:type=\"simple\"><rect fill=\"#FFFFFF\" height=\"45.9375\" id=\"E5\" rx=\"10\" ry=\"10\" style=\"stroke: #383838; stroke-width: 1.5;\" width=\"42\" x=\"190\" y=\"44.5\"/><text fill=\"#000000\" font-family=\"sans-serif\" font-size=\"12\" font-style=\"italic\" lengthAdjust=\"spacingAndGlyphs\" textLength=\"40\" x=\"191\" y=\"60.6387\">«part»</text><text fill=\"#000000\" font-family=\"sans-serif\" font-size=\"12\" lengthAdjust=\"spacingAndGlyphs\" textLength=\"22\" x=\"200\" y=\"74.6074\">x: A</text><line style=\"stroke: #383838; stroke-width: 1.5;\" x1=\"191\" x2=\"231\" y1=\"82.4375\" y2=\"82.4375\"/></a><!--MD5=[b9389687b975829384b498ac4b7476b2]\n",
       "class E8--><a href=\"psysml:c8045a6d-f018-4e86-976c-73e06620aa4c\" target=\"_top\" title=\"psysml:c8045a6d-f018-4e86-976c-73e06620aa4c\" xlink:actuate=\"onRequest\" xlink:href=\"psysml:c8045a6d-f018-4e86-976c-73e06620aa4c\" xlink:show=\"new\" xlink:title=\"psysml:c8045a6d-f018-4e86-976c-73e06620aa4c\" xlink:type=\"simple\"><rect fill=\"#FFFFFF\" height=\"45.9375\" id=\"E8\" rx=\"10\" ry=\"10\" style=\"stroke: #383838; stroke-width: 1.5;\" width=\"42\" x=\"107\" y=\"44.5\"/><text fill=\"#000000\" font-family=\"sans-serif\" font-size=\"12\" font-style=\"italic\" lengthAdjust=\"spacingAndGlyphs\" textLength=\"40\" x=\"108\" y=\"60.6387\">«part»</text><text fill=\"#000000\" font-family=\"sans-serif\" font-size=\"12\" lengthAdjust=\"spacingAndGlyphs\" textLength=\"21\" x=\"117.5\" y=\"74.6074\">z: B</text><line style=\"stroke: #383838; stroke-width: 1.5;\" x1=\"108\" x2=\"148\" y1=\"82.4375\" y2=\"82.4375\"/></a><!--MD5=[09b614a08d8cba4a07c9adeb5e0fee81]\n",
       "class E3--><a href=\"psysml:06ccdf6b-7fde-40d2-9d83-7c71c3aaf391\" target=\"_top\" title=\"psysml:06ccdf6b-7fde-40d2-9d83-7c71c3aaf391\" xlink:actuate=\"onRequest\" xlink:href=\"psysml:06ccdf6b-7fde-40d2-9d83-7c71c3aaf391\" xlink:show=\"new\" xlink:title=\"psysml:06ccdf6b-7fde-40d2-9d83-7c71c3aaf391\" xlink:type=\"simple\"><rect fill=\"#FFFFFF\" height=\"45.9375\" id=\"E3\" style=\"stroke: #383838; stroke-width: 1.5;\" width=\"66\" x=\"178\" y=\"154\"/><text fill=\"#000000\" font-family=\"sans-serif\" font-size=\"12\" font-style=\"italic\" lengthAdjust=\"spacingAndGlyphs\" textLength=\"64\" x=\"179\" y=\"170.1387\">«part def»</text><text fill=\"#000000\" font-family=\"sans-serif\" font-size=\"12\" lengthAdjust=\"spacingAndGlyphs\" textLength=\"8\" x=\"207\" y=\"184.1074\">A</text><line style=\"stroke: #383838; stroke-width: 1.5;\" x1=\"179\" x2=\"243\" y1=\"191.9375\" y2=\"191.9375\"/></a><a href=\"psysml:524b97f3-dd10-444b-a6f8-a87f295610fc\" target=\"_top\" title=\"psysml:524b97f3-dd10-444b-a6f8-a87f295610fc\" xlink:actuate=\"onRequest\" xlink:href=\"psysml:524b97f3-dd10-444b-a6f8-a87f295610fc\" xlink:show=\"new\" xlink:title=\"psysml:524b97f3-dd10-444b-a6f8-a87f295610fc\" xlink:type=\"simple\"><polygon fill=\"#FFFFFF\" points=\"32,41,58,41,65,63.2969,72,63.2969,72,93.5938,32,93.5938,32,41\" style=\"stroke: #000000; stroke-width: 1.5;\"/><line style=\"stroke: #000000; stroke-width: 1.5;\" x1=\"32\" x2=\"65\" y1=\"63.2969\" y2=\"63.2969\"/><text fill=\"#000000\" font-family=\"sans-serif\" font-size=\"14\" font-weight=\"bold\" lengthAdjust=\"spacingAndGlyphs\" textLength=\"20\" x=\"36\" y=\"55.9951\">P2</text></a><!--MD5=[2156ba9850f5573cc1fc38a6a4b2f02b]\n",
       "class E7--><a href=\"psysml:e6b11995-178a-4abf-b303-bbf3be6d894d\" target=\"_top\" title=\"psysml:e6b11995-178a-4abf-b303-bbf3be6d894d\" xlink:actuate=\"onRequest\" xlink:href=\"psysml:e6b11995-178a-4abf-b303-bbf3be6d894d\" xlink:show=\"new\" xlink:title=\"psysml:e6b11995-178a-4abf-b303-bbf3be6d894d\" xlink:type=\"simple\"><rect fill=\"#FFFFFF\" height=\"45.9375\" id=\"E7\" style=\"stroke: #383838; stroke-width: 1.5;\" width=\"66\" x=\"56\" y=\"154\"/><text fill=\"#000000\" font-family=\"sans-serif\" font-size=\"12\" font-style=\"italic\" lengthAdjust=\"spacingAndGlyphs\" textLength=\"64\" x=\"57\" y=\"170.1387\">«part def»</text><text fill=\"#000000\" font-family=\"sans-serif\" font-size=\"12\" lengthAdjust=\"spacingAndGlyphs\" textLength=\"8\" x=\"85\" y=\"184.1074\">B</text><line style=\"stroke: #383838; stroke-width: 1.5;\" x1=\"57\" x2=\"121\" y1=\"191.9375\" y2=\"191.9375\"/></a><!--MD5=[e9be52314489bd878ff4c7144b63c9e1]\n",
       "link E5 to E3--><a href=\"psysml:88440252-e8a6-408e-b428-64e589ea9f3d\" target=\"_top\" title=\"psysml:88440252-e8a6-408e-b428-64e589ea9f3d\" xlink:actuate=\"onRequest\" xlink:href=\"psysml:88440252-e8a6-408e-b428-64e589ea9f3d\" xlink:show=\"new\" xlink:title=\"psysml:88440252-e8a6-408e-b428-64e589ea9f3d\" xlink:type=\"simple\"><path d=\"M211,90.51 C211,102.89 211,118.78 211,133.48 \" fill=\"none\" id=\"E5-&gt;E3\" style=\"stroke: #383838; stroke-width: 1.0;\"/><polygon fill=\"#FFFFFF\" points=\"211,153.65,204,134.65,218,134.65,211,153.65\" style=\"stroke: #383838; stroke-width: 1.0;\"/><ellipse cx=\"206\" cy=\"128.95\" fill=\"#383838\" rx=\"2\" ry=\"2\" style=\"stroke: #383838; stroke-width: 1.0;\"/><ellipse cx=\"216\" cy=\"128.95\" fill=\"#383838\" rx=\"2\" ry=\"2\" style=\"stroke: #383838; stroke-width: 1.0;\"/></a><!--MD5=[bfa3c8b0d15052fdf50ae9310b491027]\n",
       "link E8 to E7--><a href=\"psysml:a33b0610-5a8d-429b-bbd7-f981cc70bcb5\" target=\"_top\" title=\"psysml:a33b0610-5a8d-429b-bbd7-f981cc70bcb5\" xlink:actuate=\"onRequest\" xlink:href=\"psysml:a33b0610-5a8d-429b-bbd7-f981cc70bcb5\" xlink:show=\"new\" xlink:title=\"psysml:a33b0610-5a8d-429b-bbd7-f981cc70bcb5\" xlink:type=\"simple\"><path d=\"M120.01,90.51 C115.39,103.25 109.42,119.7 103.96,134.76 \" fill=\"none\" id=\"E8-&gt;E7\" style=\"stroke: #383838; stroke-width: 1.0;\"/><polygon fill=\"#FFFFFF\" points=\"97.11,153.65,97.0036,133.4018,110.1656,138.1726,97.11,153.65\" style=\"stroke: #383838; stroke-width: 1.0;\"/><ellipse cx=\"100.8262\" cy=\"128.7245\" fill=\"#383838\" rx=\"2\" ry=\"2\" style=\"stroke: #383838; stroke-width: 1.0;\"/><ellipse cx=\"110.2277\" cy=\"132.1322\" fill=\"#383838\" rx=\"2\" ry=\"2\" style=\"stroke: #383838; stroke-width: 1.0;\"/></a><!--MD5=[f0e26d4ee82d795e8e5e94862a78d6ce]\n",
       "@startuml\r\n",
       "top to bottom direction\r\n",
       "skinparam monochrome true\r\n",
       "skinparam classbackgroundcolor white\r\n",
       "skinparam shadowing false\r\n",
       "skinparam wrapWidth 300\r\n",
       "hide circle\r\n",
       "\r\n",
       "package \"PrivateImportTest\" as E1  [[psysml:fd8049a9-22d6-4d05-bbeb-ce76116dc6d9 ]]  {\r\n",
       "package \"P1\" as E2  [[psysml:b8db80a7-5996-4df4-9976-dc6864828b46 ]]  {\r\n",
       "comp def \"A\" as E3  <<(T,blue)part def>> [[psysml:06ccdf6b-7fde-40d2-9d83-7c71c3aaf391 ]] {\r\n",
       "}\r\n",
       "}\r\n",
       "package \"P2\" as E4  [[psysml:524b97f3-dd10-444b-a6f8-a87f295610fc ]]  {\r\n",
       "}\r\n",
       "comp usage \"x: A\" as E5  <<(T,blue)part>> [[psysml:79fb998f-896a-4642-b1f0-d66dfbec55d7 ]] {\r\n",
       "}\r\n",
       "package \"P3\" as E6  [[psysml:5bfd0c7b-a7f5-42f3-81fc-e346e4c74519 ]]  {\r\n",
       "comp def \"B\" as E7  <<(T,blue)part def>> [[psysml:e6b11995-178a-4abf-b303-bbf3be6d894d ]] {\r\n",
       "}\r\n",
       "E5 - -:|> E3 [[psysml:88440252-e8a6-408e-b428-64e589ea9f3d ]] \r\n",
       "}\r\n",
       "comp usage \"z: B\" as E8  <<(T,blue)part>> [[psysml:c8045a6d-f018-4e86-976c-73e06620aa4c ]] {\r\n",
       "}\r\n",
       "E8 - -:|> E7 [[psysml:a33b0610-5a8d-429b-bbd7-f981cc70bcb5 ]] \r\n",
       "}\r\n",
       "@enduml\r\n",
       "\n",
       "PlantUML version 1.2020.13(Sat Jun 13 12:26:38 UTC 2020)\n",
       "(EPL source distribution)\n",
       "Java Runtime: OpenJDK Runtime Environment\n",
       "JVM: OpenJDK 64-Bit Server VM\n",
       "Default Encoding: UTF-8\n",
       "Language: en\n",
       "Country: null\n",
       "--></g></svg>"
      ]
     },
     "execution_count": 49,
     "metadata": {},
     "output_type": "execute_result"
    }
   ],
   "source": [
    "%viz --style=\"TB\" --view=\"Sequence\" \"PrivateImportTest\""
   ]
  },
  {
   "cell_type": "code",
   "execution_count": 50,
   "id": "coral-pathology",
   "metadata": {
    "execution": {
     "iopub.execute_input": "2021-03-26T12:08:13.654376Z",
     "iopub.status.busy": "2021-03-26T12:08:13.653619Z",
     "iopub.status.idle": "2021-03-26T12:08:13.682597Z",
     "shell.execute_reply": "2021-03-26T12:08:13.681429Z"
    }
   },
   "outputs": [
    {
     "data": {
      "image/svg+xml": [
       "<?xml version=\"1.0\" encoding=\"UTF-8\" standalone=\"no\"?><svg xmlns=\"http://www.w3.org/2000/svg\" xmlns:xlink=\"http://www.w3.org/1999/xlink\" contentScriptType=\"application/ecmascript\" contentStyleType=\"text/css\" height=\"252px\" preserveAspectRatio=\"none\" style=\"width:306px;height:252px;\" version=\"1.1\" viewBox=\"0 0 306 252\" width=\"306px\" zoomAndPan=\"magnify\"><defs/><g><!--MD5=[fbc87193dbaf4d95561dea2c320d4a47]\n",
       "cluster E1--><a href=\"psysml:fd8049a9-22d6-4d05-bbeb-ce76116dc6d9\" target=\"_top\" title=\"psysml:fd8049a9-22d6-4d05-bbeb-ce76116dc6d9\" xlink:actuate=\"onRequest\" xlink:href=\"psysml:fd8049a9-22d6-4d05-bbeb-ce76116dc6d9\" xlink:show=\"new\" xlink:title=\"psysml:fd8049a9-22d6-4d05-bbeb-ce76116dc6d9\" xlink:type=\"simple\"><polygon fill=\"#FFFFFF\" points=\"16,6,163,6,170,28.2969,284,28.2969,284,240,16,240,16,6\" style=\"stroke: #000000; stroke-width: 1.5;\"/><line style=\"stroke: #000000; stroke-width: 1.5;\" x1=\"16\" x2=\"170\" y1=\"28.2969\" y2=\"28.2969\"/><text fill=\"#000000\" font-family=\"sans-serif\" font-size=\"14\" font-weight=\"bold\" lengthAdjust=\"spacingAndGlyphs\" textLength=\"141\" x=\"20\" y=\"20.9951\">PrivateImportTest</text></a><!--MD5=[e4f7fae6ed58524ba242bb0b0d3be6b7]\n",
       "cluster E2--><a href=\"psysml:b8db80a7-5996-4df4-9976-dc6864828b46\" target=\"_top\" title=\"psysml:b8db80a7-5996-4df4-9976-dc6864828b46\" xlink:actuate=\"onRequest\" xlink:href=\"psysml:b8db80a7-5996-4df4-9976-dc6864828b46\" xlink:show=\"new\" xlink:title=\"psysml:b8db80a7-5996-4df4-9976-dc6864828b46\" xlink:type=\"simple\"><polygon fill=\"#FFFFFF\" points=\"162,119,188,119,195,141.2969,260,141.2969,260,216,162,216,162,119\" style=\"stroke: #000000; stroke-width: 1.5;\"/><line style=\"stroke: #000000; stroke-width: 1.5;\" x1=\"162\" x2=\"195\" y1=\"141.2969\" y2=\"141.2969\"/><text fill=\"#000000\" font-family=\"sans-serif\" font-size=\"14\" font-weight=\"bold\" lengthAdjust=\"spacingAndGlyphs\" textLength=\"20\" x=\"166\" y=\"133.9951\">P1</text></a><!--MD5=[14e3b0961a2654348d326746436168a1]\n",
       "cluster E6--><a href=\"psysml:5bfd0c7b-a7f5-42f3-81fc-e346e4c74519\" target=\"_top\" title=\"psysml:5bfd0c7b-a7f5-42f3-81fc-e346e4c74519\" xlink:actuate=\"onRequest\" xlink:href=\"psysml:5bfd0c7b-a7f5-42f3-81fc-e346e4c74519\" xlink:show=\"new\" xlink:title=\"psysml:5bfd0c7b-a7f5-42f3-81fc-e346e4c74519\" xlink:type=\"simple\"><polygon fill=\"#FFFFFF\" points=\"40,119,66,119,73,141.2969,138,141.2969,138,216,40,216,40,119\" style=\"stroke: #000000; stroke-width: 1.5;\"/><line style=\"stroke: #000000; stroke-width: 1.5;\" x1=\"40\" x2=\"73\" y1=\"141.2969\" y2=\"141.2969\"/><text fill=\"#000000\" font-family=\"sans-serif\" font-size=\"14\" font-weight=\"bold\" lengthAdjust=\"spacingAndGlyphs\" textLength=\"20\" x=\"44\" y=\"133.9951\">P3</text></a><!--MD5=[270fce915f116d4de14055a7c1d9a0f3]\n",
       "class E5--><a href=\"psysml:79fb998f-896a-4642-b1f0-d66dfbec55d7\" target=\"_top\" title=\"psysml:79fb998f-896a-4642-b1f0-d66dfbec55d7\" xlink:actuate=\"onRequest\" xlink:href=\"psysml:79fb998f-896a-4642-b1f0-d66dfbec55d7\" xlink:show=\"new\" xlink:title=\"psysml:79fb998f-896a-4642-b1f0-d66dfbec55d7\" xlink:type=\"simple\"><rect fill=\"#FFFFFF\" height=\"45.9375\" id=\"E5\" rx=\"10\" ry=\"10\" style=\"stroke: #383838; stroke-width: 1.5;\" width=\"42\" x=\"190\" y=\"44.5\"/><text fill=\"#000000\" font-family=\"sans-serif\" font-size=\"12\" font-style=\"italic\" lengthAdjust=\"spacingAndGlyphs\" textLength=\"40\" x=\"191\" y=\"60.6387\">«part»</text><text fill=\"#000000\" font-family=\"sans-serif\" font-size=\"12\" lengthAdjust=\"spacingAndGlyphs\" textLength=\"22\" x=\"200\" y=\"74.6074\">x: A</text><line style=\"stroke: #383838; stroke-width: 1.5;\" x1=\"191\" x2=\"231\" y1=\"82.4375\" y2=\"82.4375\"/></a><!--MD5=[b9389687b975829384b498ac4b7476b2]\n",
       "class E8--><a href=\"psysml:c8045a6d-f018-4e86-976c-73e06620aa4c\" target=\"_top\" title=\"psysml:c8045a6d-f018-4e86-976c-73e06620aa4c\" xlink:actuate=\"onRequest\" xlink:href=\"psysml:c8045a6d-f018-4e86-976c-73e06620aa4c\" xlink:show=\"new\" xlink:title=\"psysml:c8045a6d-f018-4e86-976c-73e06620aa4c\" xlink:type=\"simple\"><rect fill=\"#FFFFFF\" height=\"45.9375\" id=\"E8\" rx=\"10\" ry=\"10\" style=\"stroke: #383838; stroke-width: 1.5;\" width=\"42\" x=\"107\" y=\"44.5\"/><text fill=\"#000000\" font-family=\"sans-serif\" font-size=\"12\" font-style=\"italic\" lengthAdjust=\"spacingAndGlyphs\" textLength=\"40\" x=\"108\" y=\"60.6387\">«part»</text><text fill=\"#000000\" font-family=\"sans-serif\" font-size=\"12\" lengthAdjust=\"spacingAndGlyphs\" textLength=\"21\" x=\"117.5\" y=\"74.6074\">z: B</text><line style=\"stroke: #383838; stroke-width: 1.5;\" x1=\"108\" x2=\"148\" y1=\"82.4375\" y2=\"82.4375\"/></a><!--MD5=[09b614a08d8cba4a07c9adeb5e0fee81]\n",
       "class E3--><a href=\"psysml:06ccdf6b-7fde-40d2-9d83-7c71c3aaf391\" target=\"_top\" title=\"psysml:06ccdf6b-7fde-40d2-9d83-7c71c3aaf391\" xlink:actuate=\"onRequest\" xlink:href=\"psysml:06ccdf6b-7fde-40d2-9d83-7c71c3aaf391\" xlink:show=\"new\" xlink:title=\"psysml:06ccdf6b-7fde-40d2-9d83-7c71c3aaf391\" xlink:type=\"simple\"><rect fill=\"#FFFFFF\" height=\"45.9375\" id=\"E3\" style=\"stroke: #383838; stroke-width: 1.5;\" width=\"66\" x=\"178\" y=\"154\"/><text fill=\"#000000\" font-family=\"sans-serif\" font-size=\"12\" font-style=\"italic\" lengthAdjust=\"spacingAndGlyphs\" textLength=\"64\" x=\"179\" y=\"170.1387\">«part def»</text><text fill=\"#000000\" font-family=\"sans-serif\" font-size=\"12\" lengthAdjust=\"spacingAndGlyphs\" textLength=\"8\" x=\"207\" y=\"184.1074\">A</text><line style=\"stroke: #383838; stroke-width: 1.5;\" x1=\"179\" x2=\"243\" y1=\"191.9375\" y2=\"191.9375\"/></a><a href=\"psysml:524b97f3-dd10-444b-a6f8-a87f295610fc\" target=\"_top\" title=\"psysml:524b97f3-dd10-444b-a6f8-a87f295610fc\" xlink:actuate=\"onRequest\" xlink:href=\"psysml:524b97f3-dd10-444b-a6f8-a87f295610fc\" xlink:show=\"new\" xlink:title=\"psysml:524b97f3-dd10-444b-a6f8-a87f295610fc\" xlink:type=\"simple\"><polygon fill=\"#FFFFFF\" points=\"32,41,58,41,65,63.2969,72,63.2969,72,93.5938,32,93.5938,32,41\" style=\"stroke: #000000; stroke-width: 1.5;\"/><line style=\"stroke: #000000; stroke-width: 1.5;\" x1=\"32\" x2=\"65\" y1=\"63.2969\" y2=\"63.2969\"/><text fill=\"#000000\" font-family=\"sans-serif\" font-size=\"14\" font-weight=\"bold\" lengthAdjust=\"spacingAndGlyphs\" textLength=\"20\" x=\"36\" y=\"55.9951\">P2</text></a><!--MD5=[2156ba9850f5573cc1fc38a6a4b2f02b]\n",
       "class E7--><a href=\"psysml:e6b11995-178a-4abf-b303-bbf3be6d894d\" target=\"_top\" title=\"psysml:e6b11995-178a-4abf-b303-bbf3be6d894d\" xlink:actuate=\"onRequest\" xlink:href=\"psysml:e6b11995-178a-4abf-b303-bbf3be6d894d\" xlink:show=\"new\" xlink:title=\"psysml:e6b11995-178a-4abf-b303-bbf3be6d894d\" xlink:type=\"simple\"><rect fill=\"#FFFFFF\" height=\"45.9375\" id=\"E7\" style=\"stroke: #383838; stroke-width: 1.5;\" width=\"66\" x=\"56\" y=\"154\"/><text fill=\"#000000\" font-family=\"sans-serif\" font-size=\"12\" font-style=\"italic\" lengthAdjust=\"spacingAndGlyphs\" textLength=\"64\" x=\"57\" y=\"170.1387\">«part def»</text><text fill=\"#000000\" font-family=\"sans-serif\" font-size=\"12\" lengthAdjust=\"spacingAndGlyphs\" textLength=\"8\" x=\"85\" y=\"184.1074\">B</text><line style=\"stroke: #383838; stroke-width: 1.5;\" x1=\"57\" x2=\"121\" y1=\"191.9375\" y2=\"191.9375\"/></a><!--MD5=[e9be52314489bd878ff4c7144b63c9e1]\n",
       "link E5 to E3--><a href=\"psysml:88440252-e8a6-408e-b428-64e589ea9f3d\" target=\"_top\" title=\"psysml:88440252-e8a6-408e-b428-64e589ea9f3d\" xlink:actuate=\"onRequest\" xlink:href=\"psysml:88440252-e8a6-408e-b428-64e589ea9f3d\" xlink:show=\"new\" xlink:title=\"psysml:88440252-e8a6-408e-b428-64e589ea9f3d\" xlink:type=\"simple\"><path d=\"M211,90.51 C211,102.89 211,118.78 211,133.48 \" fill=\"none\" id=\"E5-&gt;E3\" style=\"stroke: #383838; stroke-width: 1.0;\"/><polygon fill=\"#FFFFFF\" points=\"211,153.65,204,134.65,218,134.65,211,153.65\" style=\"stroke: #383838; stroke-width: 1.0;\"/><ellipse cx=\"206\" cy=\"128.95\" fill=\"#383838\" rx=\"2\" ry=\"2\" style=\"stroke: #383838; stroke-width: 1.0;\"/><ellipse cx=\"216\" cy=\"128.95\" fill=\"#383838\" rx=\"2\" ry=\"2\" style=\"stroke: #383838; stroke-width: 1.0;\"/></a><!--MD5=[bfa3c8b0d15052fdf50ae9310b491027]\n",
       "link E8 to E7--><a href=\"psysml:a33b0610-5a8d-429b-bbd7-f981cc70bcb5\" target=\"_top\" title=\"psysml:a33b0610-5a8d-429b-bbd7-f981cc70bcb5\" xlink:actuate=\"onRequest\" xlink:href=\"psysml:a33b0610-5a8d-429b-bbd7-f981cc70bcb5\" xlink:show=\"new\" xlink:title=\"psysml:a33b0610-5a8d-429b-bbd7-f981cc70bcb5\" xlink:type=\"simple\"><path d=\"M120.01,90.51 C115.39,103.25 109.42,119.7 103.96,134.76 \" fill=\"none\" id=\"E8-&gt;E7\" style=\"stroke: #383838; stroke-width: 1.0;\"/><polygon fill=\"#FFFFFF\" points=\"97.11,153.65,97.0036,133.4018,110.1656,138.1726,97.11,153.65\" style=\"stroke: #383838; stroke-width: 1.0;\"/><ellipse cx=\"100.8262\" cy=\"128.7245\" fill=\"#383838\" rx=\"2\" ry=\"2\" style=\"stroke: #383838; stroke-width: 1.0;\"/><ellipse cx=\"110.2277\" cy=\"132.1322\" fill=\"#383838\" rx=\"2\" ry=\"2\" style=\"stroke: #383838; stroke-width: 1.0;\"/></a><!--MD5=[f0e26d4ee82d795e8e5e94862a78d6ce]\n",
       "@startuml\r\n",
       "top to bottom direction\r\n",
       "skinparam monochrome true\r\n",
       "skinparam classbackgroundcolor white\r\n",
       "skinparam shadowing false\r\n",
       "skinparam wrapWidth 300\r\n",
       "hide circle\r\n",
       "\r\n",
       "package \"PrivateImportTest\" as E1  [[psysml:fd8049a9-22d6-4d05-bbeb-ce76116dc6d9 ]]  {\r\n",
       "package \"P1\" as E2  [[psysml:b8db80a7-5996-4df4-9976-dc6864828b46 ]]  {\r\n",
       "comp def \"A\" as E3  <<(T,blue)part def>> [[psysml:06ccdf6b-7fde-40d2-9d83-7c71c3aaf391 ]] {\r\n",
       "}\r\n",
       "}\r\n",
       "package \"P2\" as E4  [[psysml:524b97f3-dd10-444b-a6f8-a87f295610fc ]]  {\r\n",
       "}\r\n",
       "comp usage \"x: A\" as E5  <<(T,blue)part>> [[psysml:79fb998f-896a-4642-b1f0-d66dfbec55d7 ]] {\r\n",
       "}\r\n",
       "package \"P3\" as E6  [[psysml:5bfd0c7b-a7f5-42f3-81fc-e346e4c74519 ]]  {\r\n",
       "comp def \"B\" as E7  <<(T,blue)part def>> [[psysml:e6b11995-178a-4abf-b303-bbf3be6d894d ]] {\r\n",
       "}\r\n",
       "E5 - -:|> E3 [[psysml:88440252-e8a6-408e-b428-64e589ea9f3d ]] \r\n",
       "}\r\n",
       "comp usage \"z: B\" as E8  <<(T,blue)part>> [[psysml:c8045a6d-f018-4e86-976c-73e06620aa4c ]] {\r\n",
       "}\r\n",
       "E8 - -:|> E7 [[psysml:a33b0610-5a8d-429b-bbd7-f981cc70bcb5 ]] \r\n",
       "}\r\n",
       "@enduml\r\n",
       "\n",
       "PlantUML version 1.2020.13(Sat Jun 13 12:26:38 UTC 2020)\n",
       "(EPL source distribution)\n",
       "Java Runtime: OpenJDK Runtime Environment\n",
       "JVM: OpenJDK 64-Bit Server VM\n",
       "Default Encoding: UTF-8\n",
       "Language: en\n",
       "Country: null\n",
       "--></g></svg>"
      ]
     },
     "execution_count": 50,
     "metadata": {},
     "output_type": "execute_result"
    }
   ],
   "source": [
    "%viz --style=\"TB\" --view=\"MIXED\" \"PrivateImportTest\""
   ]
  },
  {
   "cell_type": "code",
   "execution_count": 51,
   "id": "unnecessary-principle",
   "metadata": {
    "execution": {
     "iopub.execute_input": "2021-03-26T12:08:13.735154Z",
     "iopub.status.busy": "2021-03-26T12:08:13.734242Z",
     "iopub.status.idle": "2021-03-26T12:08:13.761552Z",
     "shell.execute_reply": "2021-03-26T12:08:13.760379Z"
    }
   },
   "outputs": [
    {
     "data": {
      "image/svg+xml": [
       "<?xml version=\"1.0\" encoding=\"UTF-8\" standalone=\"no\"?><svg xmlns=\"http://www.w3.org/2000/svg\" xmlns:xlink=\"http://www.w3.org/1999/xlink\" contentScriptType=\"application/ecmascript\" contentStyleType=\"text/css\" height=\"252px\" preserveAspectRatio=\"none\" style=\"width:306px;height:252px;\" version=\"1.1\" viewBox=\"0 0 306 252\" width=\"306px\" zoomAndPan=\"magnify\"><defs/><g><!--MD5=[fbc87193dbaf4d95561dea2c320d4a47]\n",
       "cluster E1--><a href=\"psysml:fd8049a9-22d6-4d05-bbeb-ce76116dc6d9\" target=\"_top\" title=\"psysml:fd8049a9-22d6-4d05-bbeb-ce76116dc6d9\" xlink:actuate=\"onRequest\" xlink:href=\"psysml:fd8049a9-22d6-4d05-bbeb-ce76116dc6d9\" xlink:show=\"new\" xlink:title=\"psysml:fd8049a9-22d6-4d05-bbeb-ce76116dc6d9\" xlink:type=\"simple\"><polygon fill=\"#FFFFFF\" points=\"16,6,163,6,170,28.2969,284,28.2969,284,240,16,240,16,6\" style=\"stroke: #000000; stroke-width: 1.5;\"/><line style=\"stroke: #000000; stroke-width: 1.5;\" x1=\"16\" x2=\"170\" y1=\"28.2969\" y2=\"28.2969\"/><text fill=\"#000000\" font-family=\"sans-serif\" font-size=\"14\" font-weight=\"bold\" lengthAdjust=\"spacingAndGlyphs\" textLength=\"141\" x=\"20\" y=\"20.9951\">PrivateImportTest</text></a><!--MD5=[e4f7fae6ed58524ba242bb0b0d3be6b7]\n",
       "cluster E2--><a href=\"psysml:b8db80a7-5996-4df4-9976-dc6864828b46\" target=\"_top\" title=\"psysml:b8db80a7-5996-4df4-9976-dc6864828b46\" xlink:actuate=\"onRequest\" xlink:href=\"psysml:b8db80a7-5996-4df4-9976-dc6864828b46\" xlink:show=\"new\" xlink:title=\"psysml:b8db80a7-5996-4df4-9976-dc6864828b46\" xlink:type=\"simple\"><polygon fill=\"#FFFFFF\" points=\"162,119,188,119,195,141.2969,260,141.2969,260,216,162,216,162,119\" style=\"stroke: #000000; stroke-width: 1.5;\"/><line style=\"stroke: #000000; stroke-width: 1.5;\" x1=\"162\" x2=\"195\" y1=\"141.2969\" y2=\"141.2969\"/><text fill=\"#000000\" font-family=\"sans-serif\" font-size=\"14\" font-weight=\"bold\" lengthAdjust=\"spacingAndGlyphs\" textLength=\"20\" x=\"166\" y=\"133.9951\">P1</text></a><!--MD5=[14e3b0961a2654348d326746436168a1]\n",
       "cluster E6--><a href=\"psysml:5bfd0c7b-a7f5-42f3-81fc-e346e4c74519\" target=\"_top\" title=\"psysml:5bfd0c7b-a7f5-42f3-81fc-e346e4c74519\" xlink:actuate=\"onRequest\" xlink:href=\"psysml:5bfd0c7b-a7f5-42f3-81fc-e346e4c74519\" xlink:show=\"new\" xlink:title=\"psysml:5bfd0c7b-a7f5-42f3-81fc-e346e4c74519\" xlink:type=\"simple\"><polygon fill=\"#FFFFFF\" points=\"40,119,66,119,73,141.2969,138,141.2969,138,216,40,216,40,119\" style=\"stroke: #000000; stroke-width: 1.5;\"/><line style=\"stroke: #000000; stroke-width: 1.5;\" x1=\"40\" x2=\"73\" y1=\"141.2969\" y2=\"141.2969\"/><text fill=\"#000000\" font-family=\"sans-serif\" font-size=\"14\" font-weight=\"bold\" lengthAdjust=\"spacingAndGlyphs\" textLength=\"20\" x=\"44\" y=\"133.9951\">P3</text></a><!--MD5=[270fce915f116d4de14055a7c1d9a0f3]\n",
       "class E5--><a href=\"psysml:79fb998f-896a-4642-b1f0-d66dfbec55d7\" target=\"_top\" title=\"psysml:79fb998f-896a-4642-b1f0-d66dfbec55d7\" xlink:actuate=\"onRequest\" xlink:href=\"psysml:79fb998f-896a-4642-b1f0-d66dfbec55d7\" xlink:show=\"new\" xlink:title=\"psysml:79fb998f-896a-4642-b1f0-d66dfbec55d7\" xlink:type=\"simple\"><rect fill=\"#FFFFFF\" height=\"45.9375\" id=\"E5\" rx=\"10\" ry=\"10\" style=\"stroke: #383838; stroke-width: 1.5;\" width=\"42\" x=\"190\" y=\"44.5\"/><text fill=\"#000000\" font-family=\"sans-serif\" font-size=\"12\" font-style=\"italic\" lengthAdjust=\"spacingAndGlyphs\" textLength=\"40\" x=\"191\" y=\"60.6387\">«part»</text><text fill=\"#000000\" font-family=\"sans-serif\" font-size=\"12\" lengthAdjust=\"spacingAndGlyphs\" textLength=\"22\" x=\"200\" y=\"74.6074\">x: A</text><line style=\"stroke: #383838; stroke-width: 1.5;\" x1=\"191\" x2=\"231\" y1=\"82.4375\" y2=\"82.4375\"/></a><!--MD5=[b9389687b975829384b498ac4b7476b2]\n",
       "class E8--><a href=\"psysml:c8045a6d-f018-4e86-976c-73e06620aa4c\" target=\"_top\" title=\"psysml:c8045a6d-f018-4e86-976c-73e06620aa4c\" xlink:actuate=\"onRequest\" xlink:href=\"psysml:c8045a6d-f018-4e86-976c-73e06620aa4c\" xlink:show=\"new\" xlink:title=\"psysml:c8045a6d-f018-4e86-976c-73e06620aa4c\" xlink:type=\"simple\"><rect fill=\"#FFFFFF\" height=\"45.9375\" id=\"E8\" rx=\"10\" ry=\"10\" style=\"stroke: #383838; stroke-width: 1.5;\" width=\"42\" x=\"107\" y=\"44.5\"/><text fill=\"#000000\" font-family=\"sans-serif\" font-size=\"12\" font-style=\"italic\" lengthAdjust=\"spacingAndGlyphs\" textLength=\"40\" x=\"108\" y=\"60.6387\">«part»</text><text fill=\"#000000\" font-family=\"sans-serif\" font-size=\"12\" lengthAdjust=\"spacingAndGlyphs\" textLength=\"21\" x=\"117.5\" y=\"74.6074\">z: B</text><line style=\"stroke: #383838; stroke-width: 1.5;\" x1=\"108\" x2=\"148\" y1=\"82.4375\" y2=\"82.4375\"/></a><!--MD5=[09b614a08d8cba4a07c9adeb5e0fee81]\n",
       "class E3--><a href=\"psysml:06ccdf6b-7fde-40d2-9d83-7c71c3aaf391\" target=\"_top\" title=\"psysml:06ccdf6b-7fde-40d2-9d83-7c71c3aaf391\" xlink:actuate=\"onRequest\" xlink:href=\"psysml:06ccdf6b-7fde-40d2-9d83-7c71c3aaf391\" xlink:show=\"new\" xlink:title=\"psysml:06ccdf6b-7fde-40d2-9d83-7c71c3aaf391\" xlink:type=\"simple\"><rect fill=\"#FFFFFF\" height=\"45.9375\" id=\"E3\" style=\"stroke: #383838; stroke-width: 1.5;\" width=\"66\" x=\"178\" y=\"154\"/><text fill=\"#000000\" font-family=\"sans-serif\" font-size=\"12\" font-style=\"italic\" lengthAdjust=\"spacingAndGlyphs\" textLength=\"64\" x=\"179\" y=\"170.1387\">«part def»</text><text fill=\"#000000\" font-family=\"sans-serif\" font-size=\"12\" lengthAdjust=\"spacingAndGlyphs\" textLength=\"8\" x=\"207\" y=\"184.1074\">A</text><line style=\"stroke: #383838; stroke-width: 1.5;\" x1=\"179\" x2=\"243\" y1=\"191.9375\" y2=\"191.9375\"/></a><a href=\"psysml:524b97f3-dd10-444b-a6f8-a87f295610fc\" target=\"_top\" title=\"psysml:524b97f3-dd10-444b-a6f8-a87f295610fc\" xlink:actuate=\"onRequest\" xlink:href=\"psysml:524b97f3-dd10-444b-a6f8-a87f295610fc\" xlink:show=\"new\" xlink:title=\"psysml:524b97f3-dd10-444b-a6f8-a87f295610fc\" xlink:type=\"simple\"><polygon fill=\"#FFFFFF\" points=\"32,41,58,41,65,63.2969,72,63.2969,72,93.5938,32,93.5938,32,41\" style=\"stroke: #000000; stroke-width: 1.5;\"/><line style=\"stroke: #000000; stroke-width: 1.5;\" x1=\"32\" x2=\"65\" y1=\"63.2969\" y2=\"63.2969\"/><text fill=\"#000000\" font-family=\"sans-serif\" font-size=\"14\" font-weight=\"bold\" lengthAdjust=\"spacingAndGlyphs\" textLength=\"20\" x=\"36\" y=\"55.9951\">P2</text></a><!--MD5=[2156ba9850f5573cc1fc38a6a4b2f02b]\n",
       "class E7--><a href=\"psysml:e6b11995-178a-4abf-b303-bbf3be6d894d\" target=\"_top\" title=\"psysml:e6b11995-178a-4abf-b303-bbf3be6d894d\" xlink:actuate=\"onRequest\" xlink:href=\"psysml:e6b11995-178a-4abf-b303-bbf3be6d894d\" xlink:show=\"new\" xlink:title=\"psysml:e6b11995-178a-4abf-b303-bbf3be6d894d\" xlink:type=\"simple\"><rect fill=\"#FFFFFF\" height=\"45.9375\" id=\"E7\" style=\"stroke: #383838; stroke-width: 1.5;\" width=\"66\" x=\"56\" y=\"154\"/><text fill=\"#000000\" font-family=\"sans-serif\" font-size=\"12\" font-style=\"italic\" lengthAdjust=\"spacingAndGlyphs\" textLength=\"64\" x=\"57\" y=\"170.1387\">«part def»</text><text fill=\"#000000\" font-family=\"sans-serif\" font-size=\"12\" lengthAdjust=\"spacingAndGlyphs\" textLength=\"8\" x=\"85\" y=\"184.1074\">B</text><line style=\"stroke: #383838; stroke-width: 1.5;\" x1=\"57\" x2=\"121\" y1=\"191.9375\" y2=\"191.9375\"/></a><!--MD5=[e9be52314489bd878ff4c7144b63c9e1]\n",
       "link E5 to E3--><a href=\"psysml:88440252-e8a6-408e-b428-64e589ea9f3d\" target=\"_top\" title=\"psysml:88440252-e8a6-408e-b428-64e589ea9f3d\" xlink:actuate=\"onRequest\" xlink:href=\"psysml:88440252-e8a6-408e-b428-64e589ea9f3d\" xlink:show=\"new\" xlink:title=\"psysml:88440252-e8a6-408e-b428-64e589ea9f3d\" xlink:type=\"simple\"><path d=\"M211,90.72 C211,90.72 211,133.81 211,133.81 \" fill=\"none\" id=\"E5-&gt;E3\" style=\"stroke: #383838; stroke-width: 1.0;\"/><polygon fill=\"#FFFFFF\" points=\"211,153.81,204,134.81,218,134.81,211,153.81\" style=\"stroke: #383838; stroke-width: 1.0;\"/><ellipse cx=\"206\" cy=\"129.11\" fill=\"#383838\" rx=\"2\" ry=\"2\" style=\"stroke: #383838; stroke-width: 1.0;\"/><ellipse cx=\"216\" cy=\"129.11\" fill=\"#383838\" rx=\"2\" ry=\"2\" style=\"stroke: #383838; stroke-width: 1.0;\"/></a><!--MD5=[bfa3c8b0d15052fdf50ae9310b491027]\n",
       "link E8 to E7--><a href=\"psysml:a33b0610-5a8d-429b-bbd7-f981cc70bcb5\" target=\"_top\" title=\"psysml:a33b0610-5a8d-429b-bbd7-f981cc70bcb5\" xlink:actuate=\"onRequest\" xlink:href=\"psysml:a33b0610-5a8d-429b-bbd7-f981cc70bcb5\" xlink:show=\"new\" xlink:title=\"psysml:a33b0610-5a8d-429b-bbd7-f981cc70bcb5\" xlink:type=\"simple\"><path d=\"M114.5,90.72 C114.5,90.72 114.5,133.81 114.5,133.81 \" fill=\"none\" id=\"E8-&gt;E7\" style=\"stroke: #383838; stroke-width: 1.0;\"/><polygon fill=\"#FFFFFF\" points=\"114.5,153.81,107.5,134.81,121.5,134.81,114.5,153.81\" style=\"stroke: #383838; stroke-width: 1.0;\"/><ellipse cx=\"109.5\" cy=\"129.11\" fill=\"#383838\" rx=\"2\" ry=\"2\" style=\"stroke: #383838; stroke-width: 1.0;\"/><ellipse cx=\"119.5\" cy=\"129.11\" fill=\"#383838\" rx=\"2\" ry=\"2\" style=\"stroke: #383838; stroke-width: 1.0;\"/></a><!--MD5=[13c2354b7d98b0147df1a1ab3cca0ea7]\n",
       "@startuml\r\n",
       "skinparam linetype ortho\r\n",
       "skinparam monochrome true\r\n",
       "skinparam classbackgroundcolor white\r\n",
       "skinparam shadowing false\r\n",
       "skinparam wrapWidth 300\r\n",
       "hide circle\r\n",
       "\r\n",
       "package \"PrivateImportTest\" as E1  [[psysml:fd8049a9-22d6-4d05-bbeb-ce76116dc6d9 ]]  {\r\n",
       "package \"P1\" as E2  [[psysml:b8db80a7-5996-4df4-9976-dc6864828b46 ]]  {\r\n",
       "comp def \"A\" as E3  <<(T,blue)part def>> [[psysml:06ccdf6b-7fde-40d2-9d83-7c71c3aaf391 ]] {\r\n",
       "}\r\n",
       "}\r\n",
       "package \"P2\" as E4  [[psysml:524b97f3-dd10-444b-a6f8-a87f295610fc ]]  {\r\n",
       "}\r\n",
       "comp usage \"x: A\" as E5  <<(T,blue)part>> [[psysml:79fb998f-896a-4642-b1f0-d66dfbec55d7 ]] {\r\n",
       "}\r\n",
       "package \"P3\" as E6  [[psysml:5bfd0c7b-a7f5-42f3-81fc-e346e4c74519 ]]  {\r\n",
       "comp def \"B\" as E7  <<(T,blue)part def>> [[psysml:e6b11995-178a-4abf-b303-bbf3be6d894d ]] {\r\n",
       "}\r\n",
       "E5 - -:|> E3 [[psysml:88440252-e8a6-408e-b428-64e589ea9f3d ]] \r\n",
       "}\r\n",
       "comp usage \"z: B\" as E8  <<(T,blue)part>> [[psysml:c8045a6d-f018-4e86-976c-73e06620aa4c ]] {\r\n",
       "}\r\n",
       "E8 - -:|> E7 [[psysml:a33b0610-5a8d-429b-bbd7-f981cc70bcb5 ]] \r\n",
       "}\r\n",
       "@enduml\r\n",
       "\n",
       "PlantUML version 1.2020.13(Sat Jun 13 12:26:38 UTC 2020)\n",
       "(EPL source distribution)\n",
       "Java Runtime: OpenJDK Runtime Environment\n",
       "JVM: OpenJDK 64-Bit Server VM\n",
       "Default Encoding: UTF-8\n",
       "Language: en\n",
       "Country: null\n",
       "--></g></svg>"
      ]
     },
     "execution_count": 51,
     "metadata": {},
     "output_type": "execute_result"
    }
   ],
   "source": [
    "%viz --style=\"ORTHOLINE\" --view=\"Default\" \"PrivateImportTest\""
   ]
  },
  {
   "cell_type": "code",
   "execution_count": 52,
   "id": "identical-monaco",
   "metadata": {
    "execution": {
     "iopub.execute_input": "2021-03-26T12:08:13.812164Z",
     "iopub.status.busy": "2021-03-26T12:08:13.811640Z",
     "iopub.status.idle": "2021-03-26T12:08:13.837516Z",
     "shell.execute_reply": "2021-03-26T12:08:13.836319Z"
    }
   },
   "outputs": [
    {
     "data": {
      "image/svg+xml": [
       "<?xml version=\"1.0\" encoding=\"UTF-8\" standalone=\"no\"?><svg xmlns=\"http://www.w3.org/2000/svg\" xmlns:xlink=\"http://www.w3.org/1999/xlink\" contentScriptType=\"application/ecmascript\" contentStyleType=\"text/css\" height=\"252px\" preserveAspectRatio=\"none\" style=\"width:306px;height:252px;\" version=\"1.1\" viewBox=\"0 0 306 252\" width=\"306px\" zoomAndPan=\"magnify\"><defs/><g><!--MD5=[fbc87193dbaf4d95561dea2c320d4a47]\n",
       "cluster E1--><a href=\"psysml:fd8049a9-22d6-4d05-bbeb-ce76116dc6d9\" target=\"_top\" title=\"psysml:fd8049a9-22d6-4d05-bbeb-ce76116dc6d9\" xlink:actuate=\"onRequest\" xlink:href=\"psysml:fd8049a9-22d6-4d05-bbeb-ce76116dc6d9\" xlink:show=\"new\" xlink:title=\"psysml:fd8049a9-22d6-4d05-bbeb-ce76116dc6d9\" xlink:type=\"simple\"><polygon fill=\"#FFFFFF\" points=\"16,6,163,6,170,28.2969,284,28.2969,284,240,16,240,16,6\" style=\"stroke: #000000; stroke-width: 1.5;\"/><line style=\"stroke: #000000; stroke-width: 1.5;\" x1=\"16\" x2=\"170\" y1=\"28.2969\" y2=\"28.2969\"/><text fill=\"#000000\" font-family=\"sans-serif\" font-size=\"14\" font-weight=\"bold\" lengthAdjust=\"spacingAndGlyphs\" textLength=\"141\" x=\"20\" y=\"20.9951\">PrivateImportTest</text></a><!--MD5=[e4f7fae6ed58524ba242bb0b0d3be6b7]\n",
       "cluster E2--><a href=\"psysml:b8db80a7-5996-4df4-9976-dc6864828b46\" target=\"_top\" title=\"psysml:b8db80a7-5996-4df4-9976-dc6864828b46\" xlink:actuate=\"onRequest\" xlink:href=\"psysml:b8db80a7-5996-4df4-9976-dc6864828b46\" xlink:show=\"new\" xlink:title=\"psysml:b8db80a7-5996-4df4-9976-dc6864828b46\" xlink:type=\"simple\"><polygon fill=\"#FFFFFF\" points=\"162,119,188,119,195,141.2969,260,141.2969,260,216,162,216,162,119\" style=\"stroke: #000000; stroke-width: 1.5;\"/><line style=\"stroke: #000000; stroke-width: 1.5;\" x1=\"162\" x2=\"195\" y1=\"141.2969\" y2=\"141.2969\"/><text fill=\"#000000\" font-family=\"sans-serif\" font-size=\"14\" font-weight=\"bold\" lengthAdjust=\"spacingAndGlyphs\" textLength=\"20\" x=\"166\" y=\"133.9951\">P1</text></a><!--MD5=[14e3b0961a2654348d326746436168a1]\n",
       "cluster E6--><a href=\"psysml:5bfd0c7b-a7f5-42f3-81fc-e346e4c74519\" target=\"_top\" title=\"psysml:5bfd0c7b-a7f5-42f3-81fc-e346e4c74519\" xlink:actuate=\"onRequest\" xlink:href=\"psysml:5bfd0c7b-a7f5-42f3-81fc-e346e4c74519\" xlink:show=\"new\" xlink:title=\"psysml:5bfd0c7b-a7f5-42f3-81fc-e346e4c74519\" xlink:type=\"simple\"><polygon fill=\"#FFFFFF\" points=\"40,119,66,119,73,141.2969,138,141.2969,138,216,40,216,40,119\" style=\"stroke: #000000; stroke-width: 1.5;\"/><line style=\"stroke: #000000; stroke-width: 1.5;\" x1=\"40\" x2=\"73\" y1=\"141.2969\" y2=\"141.2969\"/><text fill=\"#000000\" font-family=\"sans-serif\" font-size=\"14\" font-weight=\"bold\" lengthAdjust=\"spacingAndGlyphs\" textLength=\"20\" x=\"44\" y=\"133.9951\">P3</text></a><!--MD5=[270fce915f116d4de14055a7c1d9a0f3]\n",
       "class E5--><a href=\"psysml:79fb998f-896a-4642-b1f0-d66dfbec55d7\" target=\"_top\" title=\"psysml:79fb998f-896a-4642-b1f0-d66dfbec55d7\" xlink:actuate=\"onRequest\" xlink:href=\"psysml:79fb998f-896a-4642-b1f0-d66dfbec55d7\" xlink:show=\"new\" xlink:title=\"psysml:79fb998f-896a-4642-b1f0-d66dfbec55d7\" xlink:type=\"simple\"><rect fill=\"#FFFFFF\" height=\"45.9375\" id=\"E5\" rx=\"10\" ry=\"10\" style=\"stroke: #383838; stroke-width: 1.5;\" width=\"42\" x=\"190\" y=\"44.5\"/><text fill=\"#000000\" font-family=\"sans-serif\" font-size=\"12\" font-style=\"italic\" lengthAdjust=\"spacingAndGlyphs\" textLength=\"40\" x=\"191\" y=\"60.6387\">«part»</text><text fill=\"#000000\" font-family=\"sans-serif\" font-size=\"12\" lengthAdjust=\"spacingAndGlyphs\" textLength=\"22\" x=\"200\" y=\"74.6074\">x: A</text><line style=\"stroke: #383838; stroke-width: 1.5;\" x1=\"191\" x2=\"231\" y1=\"82.4375\" y2=\"82.4375\"/></a><!--MD5=[b9389687b975829384b498ac4b7476b2]\n",
       "class E8--><a href=\"psysml:c8045a6d-f018-4e86-976c-73e06620aa4c\" target=\"_top\" title=\"psysml:c8045a6d-f018-4e86-976c-73e06620aa4c\" xlink:actuate=\"onRequest\" xlink:href=\"psysml:c8045a6d-f018-4e86-976c-73e06620aa4c\" xlink:show=\"new\" xlink:title=\"psysml:c8045a6d-f018-4e86-976c-73e06620aa4c\" xlink:type=\"simple\"><rect fill=\"#FFFFFF\" height=\"45.9375\" id=\"E8\" rx=\"10\" ry=\"10\" style=\"stroke: #383838; stroke-width: 1.5;\" width=\"42\" x=\"107\" y=\"44.5\"/><text fill=\"#000000\" font-family=\"sans-serif\" font-size=\"12\" font-style=\"italic\" lengthAdjust=\"spacingAndGlyphs\" textLength=\"40\" x=\"108\" y=\"60.6387\">«part»</text><text fill=\"#000000\" font-family=\"sans-serif\" font-size=\"12\" lengthAdjust=\"spacingAndGlyphs\" textLength=\"21\" x=\"117.5\" y=\"74.6074\">z: B</text><line style=\"stroke: #383838; stroke-width: 1.5;\" x1=\"108\" x2=\"148\" y1=\"82.4375\" y2=\"82.4375\"/></a><!--MD5=[09b614a08d8cba4a07c9adeb5e0fee81]\n",
       "class E3--><a href=\"psysml:06ccdf6b-7fde-40d2-9d83-7c71c3aaf391\" target=\"_top\" title=\"psysml:06ccdf6b-7fde-40d2-9d83-7c71c3aaf391\" xlink:actuate=\"onRequest\" xlink:href=\"psysml:06ccdf6b-7fde-40d2-9d83-7c71c3aaf391\" xlink:show=\"new\" xlink:title=\"psysml:06ccdf6b-7fde-40d2-9d83-7c71c3aaf391\" xlink:type=\"simple\"><rect fill=\"#FFFFFF\" height=\"45.9375\" id=\"E3\" style=\"stroke: #383838; stroke-width: 1.5;\" width=\"66\" x=\"178\" y=\"154\"/><text fill=\"#000000\" font-family=\"sans-serif\" font-size=\"12\" font-style=\"italic\" lengthAdjust=\"spacingAndGlyphs\" textLength=\"64\" x=\"179\" y=\"170.1387\">«part def»</text><text fill=\"#000000\" font-family=\"sans-serif\" font-size=\"12\" lengthAdjust=\"spacingAndGlyphs\" textLength=\"8\" x=\"207\" y=\"184.1074\">A</text><line style=\"stroke: #383838; stroke-width: 1.5;\" x1=\"179\" x2=\"243\" y1=\"191.9375\" y2=\"191.9375\"/></a><a href=\"psysml:524b97f3-dd10-444b-a6f8-a87f295610fc\" target=\"_top\" title=\"psysml:524b97f3-dd10-444b-a6f8-a87f295610fc\" xlink:actuate=\"onRequest\" xlink:href=\"psysml:524b97f3-dd10-444b-a6f8-a87f295610fc\" xlink:show=\"new\" xlink:title=\"psysml:524b97f3-dd10-444b-a6f8-a87f295610fc\" xlink:type=\"simple\"><polygon fill=\"#FFFFFF\" points=\"32,41,58,41,65,63.2969,72,63.2969,72,93.5938,32,93.5938,32,41\" style=\"stroke: #000000; stroke-width: 1.5;\"/><line style=\"stroke: #000000; stroke-width: 1.5;\" x1=\"32\" x2=\"65\" y1=\"63.2969\" y2=\"63.2969\"/><text fill=\"#000000\" font-family=\"sans-serif\" font-size=\"14\" font-weight=\"bold\" lengthAdjust=\"spacingAndGlyphs\" textLength=\"20\" x=\"36\" y=\"55.9951\">P2</text></a><!--MD5=[2156ba9850f5573cc1fc38a6a4b2f02b]\n",
       "class E7--><a href=\"psysml:e6b11995-178a-4abf-b303-bbf3be6d894d\" target=\"_top\" title=\"psysml:e6b11995-178a-4abf-b303-bbf3be6d894d\" xlink:actuate=\"onRequest\" xlink:href=\"psysml:e6b11995-178a-4abf-b303-bbf3be6d894d\" xlink:show=\"new\" xlink:title=\"psysml:e6b11995-178a-4abf-b303-bbf3be6d894d\" xlink:type=\"simple\"><rect fill=\"#FFFFFF\" height=\"45.9375\" id=\"E7\" style=\"stroke: #383838; stroke-width: 1.5;\" width=\"66\" x=\"56\" y=\"154\"/><text fill=\"#000000\" font-family=\"sans-serif\" font-size=\"12\" font-style=\"italic\" lengthAdjust=\"spacingAndGlyphs\" textLength=\"64\" x=\"57\" y=\"170.1387\">«part def»</text><text fill=\"#000000\" font-family=\"sans-serif\" font-size=\"12\" lengthAdjust=\"spacingAndGlyphs\" textLength=\"8\" x=\"85\" y=\"184.1074\">B</text><line style=\"stroke: #383838; stroke-width: 1.5;\" x1=\"57\" x2=\"121\" y1=\"191.9375\" y2=\"191.9375\"/></a><!--MD5=[e9be52314489bd878ff4c7144b63c9e1]\n",
       "link E5 to E3--><a href=\"psysml:88440252-e8a6-408e-b428-64e589ea9f3d\" target=\"_top\" title=\"psysml:88440252-e8a6-408e-b428-64e589ea9f3d\" xlink:actuate=\"onRequest\" xlink:href=\"psysml:88440252-e8a6-408e-b428-64e589ea9f3d\" xlink:show=\"new\" xlink:title=\"psysml:88440252-e8a6-408e-b428-64e589ea9f3d\" xlink:type=\"simple\"><path d=\"M211,90.72 C211,90.72 211,133.81 211,133.81 \" fill=\"none\" id=\"E5-&gt;E3\" style=\"stroke: #383838; stroke-width: 1.0;\"/><polygon fill=\"#FFFFFF\" points=\"211,153.81,204,134.81,218,134.81,211,153.81\" style=\"stroke: #383838; stroke-width: 1.0;\"/><ellipse cx=\"206\" cy=\"129.11\" fill=\"#383838\" rx=\"2\" ry=\"2\" style=\"stroke: #383838; stroke-width: 1.0;\"/><ellipse cx=\"216\" cy=\"129.11\" fill=\"#383838\" rx=\"2\" ry=\"2\" style=\"stroke: #383838; stroke-width: 1.0;\"/></a><!--MD5=[bfa3c8b0d15052fdf50ae9310b491027]\n",
       "link E8 to E7--><a href=\"psysml:a33b0610-5a8d-429b-bbd7-f981cc70bcb5\" target=\"_top\" title=\"psysml:a33b0610-5a8d-429b-bbd7-f981cc70bcb5\" xlink:actuate=\"onRequest\" xlink:href=\"psysml:a33b0610-5a8d-429b-bbd7-f981cc70bcb5\" xlink:show=\"new\" xlink:title=\"psysml:a33b0610-5a8d-429b-bbd7-f981cc70bcb5\" xlink:type=\"simple\"><path d=\"M114.5,90.72 C114.5,90.72 114.5,133.81 114.5,133.81 \" fill=\"none\" id=\"E8-&gt;E7\" style=\"stroke: #383838; stroke-width: 1.0;\"/><polygon fill=\"#FFFFFF\" points=\"114.5,153.81,107.5,134.81,121.5,134.81,114.5,153.81\" style=\"stroke: #383838; stroke-width: 1.0;\"/><ellipse cx=\"109.5\" cy=\"129.11\" fill=\"#383838\" rx=\"2\" ry=\"2\" style=\"stroke: #383838; stroke-width: 1.0;\"/><ellipse cx=\"119.5\" cy=\"129.11\" fill=\"#383838\" rx=\"2\" ry=\"2\" style=\"stroke: #383838; stroke-width: 1.0;\"/></a><!--MD5=[13c2354b7d98b0147df1a1ab3cca0ea7]\n",
       "@startuml\r\n",
       "skinparam linetype ortho\r\n",
       "skinparam monochrome true\r\n",
       "skinparam classbackgroundcolor white\r\n",
       "skinparam shadowing false\r\n",
       "skinparam wrapWidth 300\r\n",
       "hide circle\r\n",
       "\r\n",
       "package \"PrivateImportTest\" as E1  [[psysml:fd8049a9-22d6-4d05-bbeb-ce76116dc6d9 ]]  {\r\n",
       "package \"P1\" as E2  [[psysml:b8db80a7-5996-4df4-9976-dc6864828b46 ]]  {\r\n",
       "comp def \"A\" as E3  <<(T,blue)part def>> [[psysml:06ccdf6b-7fde-40d2-9d83-7c71c3aaf391 ]] {\r\n",
       "}\r\n",
       "}\r\n",
       "package \"P2\" as E4  [[psysml:524b97f3-dd10-444b-a6f8-a87f295610fc ]]  {\r\n",
       "}\r\n",
       "comp usage \"x: A\" as E5  <<(T,blue)part>> [[psysml:79fb998f-896a-4642-b1f0-d66dfbec55d7 ]] {\r\n",
       "}\r\n",
       "package \"P3\" as E6  [[psysml:5bfd0c7b-a7f5-42f3-81fc-e346e4c74519 ]]  {\r\n",
       "comp def \"B\" as E7  <<(T,blue)part def>> [[psysml:e6b11995-178a-4abf-b303-bbf3be6d894d ]] {\r\n",
       "}\r\n",
       "E5 - -:|> E3 [[psysml:88440252-e8a6-408e-b428-64e589ea9f3d ]] \r\n",
       "}\r\n",
       "comp usage \"z: B\" as E8  <<(T,blue)part>> [[psysml:c8045a6d-f018-4e86-976c-73e06620aa4c ]] {\r\n",
       "}\r\n",
       "E8 - -:|> E7 [[psysml:a33b0610-5a8d-429b-bbd7-f981cc70bcb5 ]] \r\n",
       "}\r\n",
       "@enduml\r\n",
       "\n",
       "PlantUML version 1.2020.13(Sat Jun 13 12:26:38 UTC 2020)\n",
       "(EPL source distribution)\n",
       "Java Runtime: OpenJDK Runtime Environment\n",
       "JVM: OpenJDK 64-Bit Server VM\n",
       "Default Encoding: UTF-8\n",
       "Language: en\n",
       "Country: null\n",
       "--></g></svg>"
      ]
     },
     "execution_count": 52,
     "metadata": {},
     "output_type": "execute_result"
    }
   ],
   "source": [
    "%viz --style=\"ORTHOLINE\" --view=\"Tree\" \"PrivateImportTest\""
   ]
  },
  {
   "cell_type": "code",
   "execution_count": 53,
   "id": "stuck-cooler",
   "metadata": {
    "execution": {
     "iopub.execute_input": "2021-03-26T12:08:13.887964Z",
     "iopub.status.busy": "2021-03-26T12:08:13.887511Z",
     "iopub.status.idle": "2021-03-26T12:08:13.891913Z",
     "shell.execute_reply": "2021-03-26T12:08:13.891518Z"
    }
   },
   "outputs": [
    {
     "data": {
      "image/svg+xml": [
       "<?xml version=\"1.0\" encoding=\"UTF-8\" standalone=\"no\"?><svg xmlns=\"http://www.w3.org/2000/svg\" xmlns:xlink=\"http://www.w3.org/1999/xlink\" contentScriptType=\"application/ecmascript\" contentStyleType=\"text/css\" height=\"12px\" preserveAspectRatio=\"none\" style=\"width:12px;height:12px;\" version=\"1.1\" viewBox=\"0 0 12 12\" width=\"12px\" zoomAndPan=\"magnify\"><defs/><g><!--MD5=[97d6f38768b311333d388e66b2b27985]\n",
       "@startuml\r\n",
       "skinparam linetype ortho\r\n",
       "skinparam monochrome true\r\n",
       "skinparam classbackgroundcolor white\r\n",
       "skinparam shadowing false\r\n",
       "skinparam wrapWidth 300\r\n",
       "hide circle\r\n",
       "\r\n",
       "@enduml\r\n",
       "\n",
       "PlantUML version 1.2020.13(Sat Jun 13 12:26:38 UTC 2020)\n",
       "(EPL source distribution)\n",
       "Java Runtime: OpenJDK Runtime Environment\n",
       "JVM: OpenJDK 64-Bit Server VM\n",
       "Default Encoding: UTF-8\n",
       "Language: en\n",
       "Country: null\n",
       "--></g></svg>"
      ]
     },
     "execution_count": 53,
     "metadata": {},
     "output_type": "execute_result"
    }
   ],
   "source": [
    "%viz --style=\"ORTHOLINE\" --view=\"State\" \"PrivateImportTest\""
   ]
  },
  {
   "cell_type": "code",
   "execution_count": 54,
   "id": "divine-penny",
   "metadata": {
    "execution": {
     "iopub.execute_input": "2021-03-26T12:08:13.944100Z",
     "iopub.status.busy": "2021-03-26T12:08:13.943314Z",
     "iopub.status.idle": "2021-03-26T12:08:13.970014Z",
     "shell.execute_reply": "2021-03-26T12:08:13.968699Z"
    }
   },
   "outputs": [
    {
     "data": {
      "image/svg+xml": [
       "<?xml version=\"1.0\" encoding=\"UTF-8\" standalone=\"no\"?><svg xmlns=\"http://www.w3.org/2000/svg\" xmlns:xlink=\"http://www.w3.org/1999/xlink\" contentScriptType=\"application/ecmascript\" contentStyleType=\"text/css\" height=\"179px\" preserveAspectRatio=\"none\" style=\"width:539px;height:179px;\" version=\"1.1\" viewBox=\"0 0 539 179\" width=\"539px\" zoomAndPan=\"magnify\"><defs/><g><!--MD5=[fbc87193dbaf4d95561dea2c320d4a47]\n",
       "cluster E1--><a href=\"psysml:fd8049a9-22d6-4d05-bbeb-ce76116dc6d9\" target=\"_top\" title=\"psysml:fd8049a9-22d6-4d05-bbeb-ce76116dc6d9\" xlink:actuate=\"onRequest\" xlink:href=\"psysml:fd8049a9-22d6-4d05-bbeb-ce76116dc6d9\" xlink:show=\"new\" xlink:title=\"psysml:fd8049a9-22d6-4d05-bbeb-ce76116dc6d9\" xlink:type=\"simple\"><polygon fill=\"#FFFFFF\" points=\"16,6,163,6,170,28.2969,517,28.2969,517,167,16,167,16,6\" style=\"stroke: #000000; stroke-width: 1.5;\"/><line style=\"stroke: #000000; stroke-width: 1.5;\" x1=\"16\" x2=\"170\" y1=\"28.2969\" y2=\"28.2969\"/><text fill=\"#000000\" font-family=\"sans-serif\" font-size=\"14\" font-weight=\"bold\" lengthAdjust=\"spacingAndGlyphs\" textLength=\"141\" x=\"20\" y=\"20.9951\">PrivateImportTest</text></a><!--MD5=[e4f7fae6ed58524ba242bb0b0d3be6b7]\n",
       "cluster E2--><a href=\"psysml:b8db80a7-5996-4df4-9976-dc6864828b46\" target=\"_top\" title=\"psysml:b8db80a7-5996-4df4-9976-dc6864828b46\" xlink:actuate=\"onRequest\" xlink:href=\"psysml:b8db80a7-5996-4df4-9976-dc6864828b46\" xlink:show=\"new\" xlink:title=\"psysml:b8db80a7-5996-4df4-9976-dc6864828b46\" xlink:type=\"simple\"><polygon fill=\"#FFFFFF\" points=\"389,49,415,49,422,71.2969,493,71.2969,493,143,389,143,389,49\" style=\"stroke: #000000; stroke-width: 1.5;\"/><line style=\"stroke: #000000; stroke-width: 1.5;\" x1=\"389\" x2=\"422\" y1=\"71.2969\" y2=\"71.2969\"/><text fill=\"#000000\" font-family=\"sans-serif\" font-size=\"14\" font-weight=\"bold\" lengthAdjust=\"spacingAndGlyphs\" textLength=\"20\" x=\"393\" y=\"63.9951\">P1</text></a><!--MD5=[14e3b0961a2654348d326746436168a1]\n",
       "cluster E6--><a href=\"psysml:5bfd0c7b-a7f5-42f3-81fc-e346e4c74519\" target=\"_top\" title=\"psysml:5bfd0c7b-a7f5-42f3-81fc-e346e4c74519\" xlink:actuate=\"onRequest\" xlink:href=\"psysml:5bfd0c7b-a7f5-42f3-81fc-e346e4c74519\" xlink:show=\"new\" xlink:title=\"psysml:5bfd0c7b-a7f5-42f3-81fc-e346e4c74519\" xlink:type=\"simple\"><polygon fill=\"#FFFFFF\" points=\"261,49,287,49,294,71.2969,365,71.2969,365,143,261,143,261,49\" style=\"stroke: #000000; stroke-width: 1.5;\"/><line style=\"stroke: #000000; stroke-width: 1.5;\" x1=\"261\" x2=\"294\" y1=\"71.2969\" y2=\"71.2969\"/><text fill=\"#000000\" font-family=\"sans-serif\" font-size=\"14\" font-weight=\"bold\" lengthAdjust=\"spacingAndGlyphs\" textLength=\"20\" x=\"265\" y=\"63.9951\">P3</text></a><g id=\"E1.E2.E3\"><a href=\"psysml:06ccdf6b-7fde-40d2-9d83-7c71c3aaf391\" target=\"_top\" title=\"psysml:06ccdf6b-7fde-40d2-9d83-7c71c3aaf391\" xlink:actuate=\"onRequest\" xlink:href=\"psysml:06ccdf6b-7fde-40d2-9d83-7c71c3aaf391\" xlink:show=\"new\" xlink:title=\"psysml:06ccdf6b-7fde-40d2-9d83-7c71c3aaf391\" xlink:type=\"simple\"><rect fill=\"#FFFFFF\" height=\"42.9375\" id=\"E3\" style=\"stroke: #383838; stroke-width: 1.5;\" width=\"71\" x=\"405.5\" y=\"84\"/><rect fill=\"#F8F8F8\" height=\"37.9375\" style=\"stroke: #383838; stroke-width: 1.5;\" width=\"71\" x=\"405.5\" y=\"84\"/><text fill=\"#000000\" font-family=\"sans-serif\" font-size=\"12\" font-style=\"italic\" lengthAdjust=\"spacingAndGlyphs\" textLength=\"64\" x=\"409\" y=\"100.1387\">«part def»</text><text fill=\"#000000\" font-family=\"sans-serif\" font-size=\"12\" lengthAdjust=\"spacingAndGlyphs\" textLength=\"8\" x=\"437\" y=\"114.1074\">A</text></a></g><a href=\"psysml:524b97f3-dd10-444b-a6f8-a87f295610fc\" target=\"_top\" title=\"psysml:524b97f3-dd10-444b-a6f8-a87f295610fc\" xlink:actuate=\"onRequest\" xlink:href=\"psysml:524b97f3-dd10-444b-a6f8-a87f295610fc\" xlink:show=\"new\" xlink:title=\"psysml:524b97f3-dd10-444b-a6f8-a87f295610fc\" xlink:type=\"simple\"><polygon fill=\"#FFFFFF\" points=\"202,79,228,79,235,101.2969,242,101.2969,242,131.5938,202,131.5938,202,79\" style=\"stroke: #000000; stroke-width: 1.5;\"/><line style=\"stroke: #000000; stroke-width: 1.5;\" x1=\"202\" x2=\"235\" y1=\"101.2969\" y2=\"101.2969\"/><text fill=\"#000000\" font-family=\"sans-serif\" font-size=\"14\" font-weight=\"bold\" lengthAdjust=\"spacingAndGlyphs\" textLength=\"20\" x=\"206\" y=\"93.9951\">P2</text></a><g id=\"E1.E5\"><a href=\"psysml:79fb998f-896a-4642-b1f0-d66dfbec55d7\" target=\"_top\" title=\"psysml:79fb998f-896a-4642-b1f0-d66dfbec55d7\" xlink:actuate=\"onRequest\" xlink:href=\"psysml:79fb998f-896a-4642-b1f0-d66dfbec55d7\" xlink:show=\"new\" xlink:title=\"psysml:79fb998f-896a-4642-b1f0-d66dfbec55d7\" xlink:type=\"simple\"><rect fill=\"#FFFFFF\" height=\"40\" id=\"E5\" rx=\"10\" ry=\"10\" style=\"stroke: #383838; stroke-width: 1.5;\" width=\"50\" x=\"117\" y=\"85.5\"/><rect fill=\"#F8F8F8\" height=\"23.9688\" rx=\"10\" ry=\"10\" style=\"stroke: #F8F8F8; stroke-width: 1.5;\" width=\"50\" x=\"117\" y=\"85.5\"/><rect fill=\"#F8F8F8\" height=\"10\" style=\"stroke: #F8F8F8; stroke-width: 1.5;\" width=\"50\" x=\"117\" y=\"99.4688\"/><rect fill=\"none\" height=\"40\" id=\"E5\" rx=\"10\" ry=\"10\" style=\"stroke: #383838; stroke-width: 1.5;\" width=\"50\" x=\"117\" y=\"85.5\"/><text fill=\"#000000\" font-family=\"sans-serif\" font-size=\"12\" lengthAdjust=\"spacingAndGlyphs\" textLength=\"22\" x=\"131\" y=\"101.6387\">x: A</text></a></g><g id=\"E1.E6.E7\"><a href=\"psysml:e6b11995-178a-4abf-b303-bbf3be6d894d\" target=\"_top\" title=\"psysml:e6b11995-178a-4abf-b303-bbf3be6d894d\" xlink:actuate=\"onRequest\" xlink:href=\"psysml:e6b11995-178a-4abf-b303-bbf3be6d894d\" xlink:show=\"new\" xlink:title=\"psysml:e6b11995-178a-4abf-b303-bbf3be6d894d\" xlink:type=\"simple\"><rect fill=\"#FFFFFF\" height=\"42.9375\" id=\"E7\" style=\"stroke: #383838; stroke-width: 1.5;\" width=\"71\" x=\"277.5\" y=\"84\"/><rect fill=\"#F8F8F8\" height=\"37.9375\" style=\"stroke: #383838; stroke-width: 1.5;\" width=\"71\" x=\"277.5\" y=\"84\"/><text fill=\"#000000\" font-family=\"sans-serif\" font-size=\"12\" font-style=\"italic\" lengthAdjust=\"spacingAndGlyphs\" textLength=\"64\" x=\"281\" y=\"100.1387\">«part def»</text><text fill=\"#000000\" font-family=\"sans-serif\" font-size=\"12\" lengthAdjust=\"spacingAndGlyphs\" textLength=\"8\" x=\"309\" y=\"114.1074\">B</text></a></g><g id=\"E1.E8\"><a href=\"psysml:c8045a6d-f018-4e86-976c-73e06620aa4c\" target=\"_top\" title=\"psysml:c8045a6d-f018-4e86-976c-73e06620aa4c\" xlink:actuate=\"onRequest\" xlink:href=\"psysml:c8045a6d-f018-4e86-976c-73e06620aa4c\" xlink:show=\"new\" xlink:title=\"psysml:c8045a6d-f018-4e86-976c-73e06620aa4c\" xlink:type=\"simple\"><rect fill=\"#FFFFFF\" height=\"40\" id=\"E8\" rx=\"10\" ry=\"10\" style=\"stroke: #383838; stroke-width: 1.5;\" width=\"50\" x=\"32\" y=\"85.5\"/><rect fill=\"#F8F8F8\" height=\"23.9688\" rx=\"10\" ry=\"10\" style=\"stroke: #F8F8F8; stroke-width: 1.5;\" width=\"50\" x=\"32\" y=\"85.5\"/><rect fill=\"#F8F8F8\" height=\"10\" style=\"stroke: #F8F8F8; stroke-width: 1.5;\" width=\"50\" x=\"32\" y=\"99.4688\"/><rect fill=\"none\" height=\"40\" id=\"E8\" rx=\"10\" ry=\"10\" style=\"stroke: #383838; stroke-width: 1.5;\" width=\"50\" x=\"32\" y=\"85.5\"/><text fill=\"#000000\" font-family=\"sans-serif\" font-size=\"12\" lengthAdjust=\"spacingAndGlyphs\" textLength=\"21\" x=\"46.5\" y=\"101.6387\">z: B</text></a></g><!--MD5=[f4a8b6bc6d98926be7808d06b18f3aa4]\n",
       "@startuml\r\n",
       "skinparam ranksep 8\r\n",
       "skinparam rectangle {\r\n",
       " backgroundColor<<block>> LightGreen\r\n",
       "}\r\n",
       "skinparam linetype ortho\r\n",
       "skinparam monochrome true\r\n",
       "skinparam classbackgroundcolor white\r\n",
       "skinparam shadowing false\r\n",
       "skinparam wrapWidth 300\r\n",
       "hide circle\r\n",
       "\r\n",
       "package \"PrivateImportTest\" as E1  [[psysml:fd8049a9-22d6-4d05-bbeb-ce76116dc6d9 ]]  {\r\n",
       "package \"P1\" as E2  [[psysml:b8db80a7-5996-4df4-9976-dc6864828b46 ]]  {\r\n",
       "rec def \"A\" as E3  <<(T,blue)part def>> [[psysml:06ccdf6b-7fde-40d2-9d83-7c71c3aaf391 ]] {\r\n",
       "}\r\n",
       "}\r\n",
       "package \"P2\" as E4  [[psysml:524b97f3-dd10-444b-a6f8-a87f295610fc ]]  {\r\n",
       "}\r\n",
       "rec usage \"x: A\" as E5  [[psysml:79fb998f-896a-4642-b1f0-d66dfbec55d7 ]] {\r\n",
       "}\r\n",
       "package \"P3\" as E6  [[psysml:5bfd0c7b-a7f5-42f3-81fc-e346e4c74519 ]]  {\r\n",
       "rec def \"B\" as E7  <<(T,blue)part def>> [[psysml:e6b11995-178a-4abf-b303-bbf3be6d894d ]] {\r\n",
       "}\r\n",
       "}\r\n",
       "rec usage \"z: B\" as E8  [[psysml:c8045a6d-f018-4e86-976c-73e06620aa4c ]] {\r\n",
       "}\r\n",
       "}\r\n",
       "@enduml\r\n",
       "\n",
       "PlantUML version 1.2020.13(Sat Jun 13 12:26:38 UTC 2020)\n",
       "(EPL source distribution)\n",
       "Java Runtime: OpenJDK Runtime Environment\n",
       "JVM: OpenJDK 64-Bit Server VM\n",
       "Default Encoding: UTF-8\n",
       "Language: en\n",
       "Country: null\n",
       "--></g></svg>"
      ]
     },
     "execution_count": 54,
     "metadata": {},
     "output_type": "execute_result"
    }
   ],
   "source": [
    "%viz --style=\"ORTHOLINE\" --view=\"Interconnection\" \"PrivateImportTest\""
   ]
  },
  {
   "cell_type": "code",
   "execution_count": 55,
   "id": "plain-guess",
   "metadata": {
    "execution": {
     "iopub.execute_input": "2021-03-26T12:08:14.021587Z",
     "iopub.status.busy": "2021-03-26T12:08:14.020743Z",
     "iopub.status.idle": "2021-03-26T12:08:14.026841Z",
     "shell.execute_reply": "2021-03-26T12:08:14.026417Z"
    }
   },
   "outputs": [
    {
     "data": {
      "image/svg+xml": [
       "<?xml version=\"1.0\" encoding=\"UTF-8\" standalone=\"no\"?><svg xmlns=\"http://www.w3.org/2000/svg\" xmlns:xlink=\"http://www.w3.org/1999/xlink\" contentScriptType=\"application/ecmascript\" contentStyleType=\"text/css\" height=\"12px\" preserveAspectRatio=\"none\" style=\"width:12px;height:12px;\" version=\"1.1\" viewBox=\"0 0 12 12\" width=\"12px\" zoomAndPan=\"magnify\"><defs/><g><!--MD5=[72934c63077099a26744516a776b4749]\n",
       "@startuml\r\n",
       "skinparam ranksep 8\r\n",
       "skinparam linetype ortho\r\n",
       "skinparam monochrome true\r\n",
       "skinparam classbackgroundcolor white\r\n",
       "skinparam shadowing false\r\n",
       "skinparam wrapWidth 300\r\n",
       "hide circle\r\n",
       "\r\n",
       "@enduml\r\n",
       "\n",
       "PlantUML version 1.2020.13(Sat Jun 13 12:26:38 UTC 2020)\n",
       "(EPL source distribution)\n",
       "Java Runtime: OpenJDK Runtime Environment\n",
       "JVM: OpenJDK 64-Bit Server VM\n",
       "Default Encoding: UTF-8\n",
       "Language: en\n",
       "Country: null\n",
       "--></g></svg>"
      ]
     },
     "execution_count": 55,
     "metadata": {},
     "output_type": "execute_result"
    }
   ],
   "source": [
    "%viz --style=\"ORTHOLINE\" --view=\"Action\" \"PrivateImportTest\""
   ]
  },
  {
   "cell_type": "code",
   "execution_count": 56,
   "id": "deadly-description",
   "metadata": {
    "execution": {
     "iopub.execute_input": "2021-03-26T12:08:14.079045Z",
     "iopub.status.busy": "2021-03-26T12:08:14.078418Z",
     "iopub.status.idle": "2021-03-26T12:08:14.108281Z",
     "shell.execute_reply": "2021-03-26T12:08:14.106578Z"
    }
   },
   "outputs": [
    {
     "data": {
      "image/svg+xml": [
       "<?xml version=\"1.0\" encoding=\"UTF-8\" standalone=\"no\"?><svg xmlns=\"http://www.w3.org/2000/svg\" xmlns:xlink=\"http://www.w3.org/1999/xlink\" contentScriptType=\"application/ecmascript\" contentStyleType=\"text/css\" height=\"252px\" preserveAspectRatio=\"none\" style=\"width:306px;height:252px;\" version=\"1.1\" viewBox=\"0 0 306 252\" width=\"306px\" zoomAndPan=\"magnify\"><defs/><g><!--MD5=[fbc87193dbaf4d95561dea2c320d4a47]\n",
       "cluster E1--><a href=\"psysml:fd8049a9-22d6-4d05-bbeb-ce76116dc6d9\" target=\"_top\" title=\"psysml:fd8049a9-22d6-4d05-bbeb-ce76116dc6d9\" xlink:actuate=\"onRequest\" xlink:href=\"psysml:fd8049a9-22d6-4d05-bbeb-ce76116dc6d9\" xlink:show=\"new\" xlink:title=\"psysml:fd8049a9-22d6-4d05-bbeb-ce76116dc6d9\" xlink:type=\"simple\"><polygon fill=\"#FFFFFF\" points=\"16,6,163,6,170,28.2969,284,28.2969,284,240,16,240,16,6\" style=\"stroke: #000000; stroke-width: 1.5;\"/><line style=\"stroke: #000000; stroke-width: 1.5;\" x1=\"16\" x2=\"170\" y1=\"28.2969\" y2=\"28.2969\"/><text fill=\"#000000\" font-family=\"sans-serif\" font-size=\"14\" font-weight=\"bold\" lengthAdjust=\"spacingAndGlyphs\" textLength=\"141\" x=\"20\" y=\"20.9951\">PrivateImportTest</text></a><!--MD5=[e4f7fae6ed58524ba242bb0b0d3be6b7]\n",
       "cluster E2--><a href=\"psysml:b8db80a7-5996-4df4-9976-dc6864828b46\" target=\"_top\" title=\"psysml:b8db80a7-5996-4df4-9976-dc6864828b46\" xlink:actuate=\"onRequest\" xlink:href=\"psysml:b8db80a7-5996-4df4-9976-dc6864828b46\" xlink:show=\"new\" xlink:title=\"psysml:b8db80a7-5996-4df4-9976-dc6864828b46\" xlink:type=\"simple\"><polygon fill=\"#FFFFFF\" points=\"162,119,188,119,195,141.2969,260,141.2969,260,216,162,216,162,119\" style=\"stroke: #000000; stroke-width: 1.5;\"/><line style=\"stroke: #000000; stroke-width: 1.5;\" x1=\"162\" x2=\"195\" y1=\"141.2969\" y2=\"141.2969\"/><text fill=\"#000000\" font-family=\"sans-serif\" font-size=\"14\" font-weight=\"bold\" lengthAdjust=\"spacingAndGlyphs\" textLength=\"20\" x=\"166\" y=\"133.9951\">P1</text></a><!--MD5=[14e3b0961a2654348d326746436168a1]\n",
       "cluster E6--><a href=\"psysml:5bfd0c7b-a7f5-42f3-81fc-e346e4c74519\" target=\"_top\" title=\"psysml:5bfd0c7b-a7f5-42f3-81fc-e346e4c74519\" xlink:actuate=\"onRequest\" xlink:href=\"psysml:5bfd0c7b-a7f5-42f3-81fc-e346e4c74519\" xlink:show=\"new\" xlink:title=\"psysml:5bfd0c7b-a7f5-42f3-81fc-e346e4c74519\" xlink:type=\"simple\"><polygon fill=\"#FFFFFF\" points=\"40,119,66,119,73,141.2969,138,141.2969,138,216,40,216,40,119\" style=\"stroke: #000000; stroke-width: 1.5;\"/><line style=\"stroke: #000000; stroke-width: 1.5;\" x1=\"40\" x2=\"73\" y1=\"141.2969\" y2=\"141.2969\"/><text fill=\"#000000\" font-family=\"sans-serif\" font-size=\"14\" font-weight=\"bold\" lengthAdjust=\"spacingAndGlyphs\" textLength=\"20\" x=\"44\" y=\"133.9951\">P3</text></a><!--MD5=[270fce915f116d4de14055a7c1d9a0f3]\n",
       "class E5--><a href=\"psysml:79fb998f-896a-4642-b1f0-d66dfbec55d7\" target=\"_top\" title=\"psysml:79fb998f-896a-4642-b1f0-d66dfbec55d7\" xlink:actuate=\"onRequest\" xlink:href=\"psysml:79fb998f-896a-4642-b1f0-d66dfbec55d7\" xlink:show=\"new\" xlink:title=\"psysml:79fb998f-896a-4642-b1f0-d66dfbec55d7\" xlink:type=\"simple\"><rect fill=\"#FFFFFF\" height=\"45.9375\" id=\"E5\" rx=\"10\" ry=\"10\" style=\"stroke: #383838; stroke-width: 1.5;\" width=\"42\" x=\"190\" y=\"44.5\"/><text fill=\"#000000\" font-family=\"sans-serif\" font-size=\"12\" font-style=\"italic\" lengthAdjust=\"spacingAndGlyphs\" textLength=\"40\" x=\"191\" y=\"60.6387\">«part»</text><text fill=\"#000000\" font-family=\"sans-serif\" font-size=\"12\" lengthAdjust=\"spacingAndGlyphs\" textLength=\"22\" x=\"200\" y=\"74.6074\">x: A</text><line style=\"stroke: #383838; stroke-width: 1.5;\" x1=\"191\" x2=\"231\" y1=\"82.4375\" y2=\"82.4375\"/></a><!--MD5=[b9389687b975829384b498ac4b7476b2]\n",
       "class E8--><a href=\"psysml:c8045a6d-f018-4e86-976c-73e06620aa4c\" target=\"_top\" title=\"psysml:c8045a6d-f018-4e86-976c-73e06620aa4c\" xlink:actuate=\"onRequest\" xlink:href=\"psysml:c8045a6d-f018-4e86-976c-73e06620aa4c\" xlink:show=\"new\" xlink:title=\"psysml:c8045a6d-f018-4e86-976c-73e06620aa4c\" xlink:type=\"simple\"><rect fill=\"#FFFFFF\" height=\"45.9375\" id=\"E8\" rx=\"10\" ry=\"10\" style=\"stroke: #383838; stroke-width: 1.5;\" width=\"42\" x=\"107\" y=\"44.5\"/><text fill=\"#000000\" font-family=\"sans-serif\" font-size=\"12\" font-style=\"italic\" lengthAdjust=\"spacingAndGlyphs\" textLength=\"40\" x=\"108\" y=\"60.6387\">«part»</text><text fill=\"#000000\" font-family=\"sans-serif\" font-size=\"12\" lengthAdjust=\"spacingAndGlyphs\" textLength=\"21\" x=\"117.5\" y=\"74.6074\">z: B</text><line style=\"stroke: #383838; stroke-width: 1.5;\" x1=\"108\" x2=\"148\" y1=\"82.4375\" y2=\"82.4375\"/></a><!--MD5=[09b614a08d8cba4a07c9adeb5e0fee81]\n",
       "class E3--><a href=\"psysml:06ccdf6b-7fde-40d2-9d83-7c71c3aaf391\" target=\"_top\" title=\"psysml:06ccdf6b-7fde-40d2-9d83-7c71c3aaf391\" xlink:actuate=\"onRequest\" xlink:href=\"psysml:06ccdf6b-7fde-40d2-9d83-7c71c3aaf391\" xlink:show=\"new\" xlink:title=\"psysml:06ccdf6b-7fde-40d2-9d83-7c71c3aaf391\" xlink:type=\"simple\"><rect fill=\"#FFFFFF\" height=\"45.9375\" id=\"E3\" style=\"stroke: #383838; stroke-width: 1.5;\" width=\"66\" x=\"178\" y=\"154\"/><text fill=\"#000000\" font-family=\"sans-serif\" font-size=\"12\" font-style=\"italic\" lengthAdjust=\"spacingAndGlyphs\" textLength=\"64\" x=\"179\" y=\"170.1387\">«part def»</text><text fill=\"#000000\" font-family=\"sans-serif\" font-size=\"12\" lengthAdjust=\"spacingAndGlyphs\" textLength=\"8\" x=\"207\" y=\"184.1074\">A</text><line style=\"stroke: #383838; stroke-width: 1.5;\" x1=\"179\" x2=\"243\" y1=\"191.9375\" y2=\"191.9375\"/></a><a href=\"psysml:524b97f3-dd10-444b-a6f8-a87f295610fc\" target=\"_top\" title=\"psysml:524b97f3-dd10-444b-a6f8-a87f295610fc\" xlink:actuate=\"onRequest\" xlink:href=\"psysml:524b97f3-dd10-444b-a6f8-a87f295610fc\" xlink:show=\"new\" xlink:title=\"psysml:524b97f3-dd10-444b-a6f8-a87f295610fc\" xlink:type=\"simple\"><polygon fill=\"#FFFFFF\" points=\"32,41,58,41,65,63.2969,72,63.2969,72,93.5938,32,93.5938,32,41\" style=\"stroke: #000000; stroke-width: 1.5;\"/><line style=\"stroke: #000000; stroke-width: 1.5;\" x1=\"32\" x2=\"65\" y1=\"63.2969\" y2=\"63.2969\"/><text fill=\"#000000\" font-family=\"sans-serif\" font-size=\"14\" font-weight=\"bold\" lengthAdjust=\"spacingAndGlyphs\" textLength=\"20\" x=\"36\" y=\"55.9951\">P2</text></a><!--MD5=[2156ba9850f5573cc1fc38a6a4b2f02b]\n",
       "class E7--><a href=\"psysml:e6b11995-178a-4abf-b303-bbf3be6d894d\" target=\"_top\" title=\"psysml:e6b11995-178a-4abf-b303-bbf3be6d894d\" xlink:actuate=\"onRequest\" xlink:href=\"psysml:e6b11995-178a-4abf-b303-bbf3be6d894d\" xlink:show=\"new\" xlink:title=\"psysml:e6b11995-178a-4abf-b303-bbf3be6d894d\" xlink:type=\"simple\"><rect fill=\"#FFFFFF\" height=\"45.9375\" id=\"E7\" style=\"stroke: #383838; stroke-width: 1.5;\" width=\"66\" x=\"56\" y=\"154\"/><text fill=\"#000000\" font-family=\"sans-serif\" font-size=\"12\" font-style=\"italic\" lengthAdjust=\"spacingAndGlyphs\" textLength=\"64\" x=\"57\" y=\"170.1387\">«part def»</text><text fill=\"#000000\" font-family=\"sans-serif\" font-size=\"12\" lengthAdjust=\"spacingAndGlyphs\" textLength=\"8\" x=\"85\" y=\"184.1074\">B</text><line style=\"stroke: #383838; stroke-width: 1.5;\" x1=\"57\" x2=\"121\" y1=\"191.9375\" y2=\"191.9375\"/></a><!--MD5=[e9be52314489bd878ff4c7144b63c9e1]\n",
       "link E5 to E3--><a href=\"psysml:88440252-e8a6-408e-b428-64e589ea9f3d\" target=\"_top\" title=\"psysml:88440252-e8a6-408e-b428-64e589ea9f3d\" xlink:actuate=\"onRequest\" xlink:href=\"psysml:88440252-e8a6-408e-b428-64e589ea9f3d\" xlink:show=\"new\" xlink:title=\"psysml:88440252-e8a6-408e-b428-64e589ea9f3d\" xlink:type=\"simple\"><path d=\"M211,90.72 C211,90.72 211,133.81 211,133.81 \" fill=\"none\" id=\"E5-&gt;E3\" style=\"stroke: #383838; stroke-width: 1.0;\"/><polygon fill=\"#FFFFFF\" points=\"211,153.81,204,134.81,218,134.81,211,153.81\" style=\"stroke: #383838; stroke-width: 1.0;\"/><ellipse cx=\"206\" cy=\"129.11\" fill=\"#383838\" rx=\"2\" ry=\"2\" style=\"stroke: #383838; stroke-width: 1.0;\"/><ellipse cx=\"216\" cy=\"129.11\" fill=\"#383838\" rx=\"2\" ry=\"2\" style=\"stroke: #383838; stroke-width: 1.0;\"/></a><!--MD5=[bfa3c8b0d15052fdf50ae9310b491027]\n",
       "link E8 to E7--><a href=\"psysml:a33b0610-5a8d-429b-bbd7-f981cc70bcb5\" target=\"_top\" title=\"psysml:a33b0610-5a8d-429b-bbd7-f981cc70bcb5\" xlink:actuate=\"onRequest\" xlink:href=\"psysml:a33b0610-5a8d-429b-bbd7-f981cc70bcb5\" xlink:show=\"new\" xlink:title=\"psysml:a33b0610-5a8d-429b-bbd7-f981cc70bcb5\" xlink:type=\"simple\"><path d=\"M114.5,90.72 C114.5,90.72 114.5,133.81 114.5,133.81 \" fill=\"none\" id=\"E8-&gt;E7\" style=\"stroke: #383838; stroke-width: 1.0;\"/><polygon fill=\"#FFFFFF\" points=\"114.5,153.81,107.5,134.81,121.5,134.81,114.5,153.81\" style=\"stroke: #383838; stroke-width: 1.0;\"/><ellipse cx=\"109.5\" cy=\"129.11\" fill=\"#383838\" rx=\"2\" ry=\"2\" style=\"stroke: #383838; stroke-width: 1.0;\"/><ellipse cx=\"119.5\" cy=\"129.11\" fill=\"#383838\" rx=\"2\" ry=\"2\" style=\"stroke: #383838; stroke-width: 1.0;\"/></a><!--MD5=[13c2354b7d98b0147df1a1ab3cca0ea7]\n",
       "@startuml\r\n",
       "skinparam linetype ortho\r\n",
       "skinparam monochrome true\r\n",
       "skinparam classbackgroundcolor white\r\n",
       "skinparam shadowing false\r\n",
       "skinparam wrapWidth 300\r\n",
       "hide circle\r\n",
       "\r\n",
       "package \"PrivateImportTest\" as E1  [[psysml:fd8049a9-22d6-4d05-bbeb-ce76116dc6d9 ]]  {\r\n",
       "package \"P1\" as E2  [[psysml:b8db80a7-5996-4df4-9976-dc6864828b46 ]]  {\r\n",
       "comp def \"A\" as E3  <<(T,blue)part def>> [[psysml:06ccdf6b-7fde-40d2-9d83-7c71c3aaf391 ]] {\r\n",
       "}\r\n",
       "}\r\n",
       "package \"P2\" as E4  [[psysml:524b97f3-dd10-444b-a6f8-a87f295610fc ]]  {\r\n",
       "}\r\n",
       "comp usage \"x: A\" as E5  <<(T,blue)part>> [[psysml:79fb998f-896a-4642-b1f0-d66dfbec55d7 ]] {\r\n",
       "}\r\n",
       "package \"P3\" as E6  [[psysml:5bfd0c7b-a7f5-42f3-81fc-e346e4c74519 ]]  {\r\n",
       "comp def \"B\" as E7  <<(T,blue)part def>> [[psysml:e6b11995-178a-4abf-b303-bbf3be6d894d ]] {\r\n",
       "}\r\n",
       "E5 - -:|> E3 [[psysml:88440252-e8a6-408e-b428-64e589ea9f3d ]] \r\n",
       "}\r\n",
       "comp usage \"z: B\" as E8  <<(T,blue)part>> [[psysml:c8045a6d-f018-4e86-976c-73e06620aa4c ]] {\r\n",
       "}\r\n",
       "E8 - -:|> E7 [[psysml:a33b0610-5a8d-429b-bbd7-f981cc70bcb5 ]] \r\n",
       "}\r\n",
       "@enduml\r\n",
       "\n",
       "PlantUML version 1.2020.13(Sat Jun 13 12:26:38 UTC 2020)\n",
       "(EPL source distribution)\n",
       "Java Runtime: OpenJDK Runtime Environment\n",
       "JVM: OpenJDK 64-Bit Server VM\n",
       "Default Encoding: UTF-8\n",
       "Language: en\n",
       "Country: null\n",
       "--></g></svg>"
      ]
     },
     "execution_count": 56,
     "metadata": {},
     "output_type": "execute_result"
    }
   ],
   "source": [
    "%viz --style=\"ORTHOLINE\" --view=\"Sequence\" \"PrivateImportTest\""
   ]
  },
  {
   "cell_type": "code",
   "execution_count": 57,
   "id": "literary-bhutan",
   "metadata": {
    "execution": {
     "iopub.execute_input": "2021-03-26T12:08:14.160224Z",
     "iopub.status.busy": "2021-03-26T12:08:14.159287Z",
     "iopub.status.idle": "2021-03-26T12:08:14.189288Z",
     "shell.execute_reply": "2021-03-26T12:08:14.189702Z"
    }
   },
   "outputs": [
    {
     "data": {
      "image/svg+xml": [
       "<?xml version=\"1.0\" encoding=\"UTF-8\" standalone=\"no\"?><svg xmlns=\"http://www.w3.org/2000/svg\" xmlns:xlink=\"http://www.w3.org/1999/xlink\" contentScriptType=\"application/ecmascript\" contentStyleType=\"text/css\" height=\"252px\" preserveAspectRatio=\"none\" style=\"width:306px;height:252px;\" version=\"1.1\" viewBox=\"0 0 306 252\" width=\"306px\" zoomAndPan=\"magnify\"><defs/><g><!--MD5=[fbc87193dbaf4d95561dea2c320d4a47]\n",
       "cluster E1--><a href=\"psysml:fd8049a9-22d6-4d05-bbeb-ce76116dc6d9\" target=\"_top\" title=\"psysml:fd8049a9-22d6-4d05-bbeb-ce76116dc6d9\" xlink:actuate=\"onRequest\" xlink:href=\"psysml:fd8049a9-22d6-4d05-bbeb-ce76116dc6d9\" xlink:show=\"new\" xlink:title=\"psysml:fd8049a9-22d6-4d05-bbeb-ce76116dc6d9\" xlink:type=\"simple\"><polygon fill=\"#FFFFFF\" points=\"16,6,163,6,170,28.2969,284,28.2969,284,240,16,240,16,6\" style=\"stroke: #000000; stroke-width: 1.5;\"/><line style=\"stroke: #000000; stroke-width: 1.5;\" x1=\"16\" x2=\"170\" y1=\"28.2969\" y2=\"28.2969\"/><text fill=\"#000000\" font-family=\"sans-serif\" font-size=\"14\" font-weight=\"bold\" lengthAdjust=\"spacingAndGlyphs\" textLength=\"141\" x=\"20\" y=\"20.9951\">PrivateImportTest</text></a><!--MD5=[e4f7fae6ed58524ba242bb0b0d3be6b7]\n",
       "cluster E2--><a href=\"psysml:b8db80a7-5996-4df4-9976-dc6864828b46\" target=\"_top\" title=\"psysml:b8db80a7-5996-4df4-9976-dc6864828b46\" xlink:actuate=\"onRequest\" xlink:href=\"psysml:b8db80a7-5996-4df4-9976-dc6864828b46\" xlink:show=\"new\" xlink:title=\"psysml:b8db80a7-5996-4df4-9976-dc6864828b46\" xlink:type=\"simple\"><polygon fill=\"#FFFFFF\" points=\"162,119,188,119,195,141.2969,260,141.2969,260,216,162,216,162,119\" style=\"stroke: #000000; stroke-width: 1.5;\"/><line style=\"stroke: #000000; stroke-width: 1.5;\" x1=\"162\" x2=\"195\" y1=\"141.2969\" y2=\"141.2969\"/><text fill=\"#000000\" font-family=\"sans-serif\" font-size=\"14\" font-weight=\"bold\" lengthAdjust=\"spacingAndGlyphs\" textLength=\"20\" x=\"166\" y=\"133.9951\">P1</text></a><!--MD5=[14e3b0961a2654348d326746436168a1]\n",
       "cluster E6--><a href=\"psysml:5bfd0c7b-a7f5-42f3-81fc-e346e4c74519\" target=\"_top\" title=\"psysml:5bfd0c7b-a7f5-42f3-81fc-e346e4c74519\" xlink:actuate=\"onRequest\" xlink:href=\"psysml:5bfd0c7b-a7f5-42f3-81fc-e346e4c74519\" xlink:show=\"new\" xlink:title=\"psysml:5bfd0c7b-a7f5-42f3-81fc-e346e4c74519\" xlink:type=\"simple\"><polygon fill=\"#FFFFFF\" points=\"40,119,66,119,73,141.2969,138,141.2969,138,216,40,216,40,119\" style=\"stroke: #000000; stroke-width: 1.5;\"/><line style=\"stroke: #000000; stroke-width: 1.5;\" x1=\"40\" x2=\"73\" y1=\"141.2969\" y2=\"141.2969\"/><text fill=\"#000000\" font-family=\"sans-serif\" font-size=\"14\" font-weight=\"bold\" lengthAdjust=\"spacingAndGlyphs\" textLength=\"20\" x=\"44\" y=\"133.9951\">P3</text></a><!--MD5=[270fce915f116d4de14055a7c1d9a0f3]\n",
       "class E5--><a href=\"psysml:79fb998f-896a-4642-b1f0-d66dfbec55d7\" target=\"_top\" title=\"psysml:79fb998f-896a-4642-b1f0-d66dfbec55d7\" xlink:actuate=\"onRequest\" xlink:href=\"psysml:79fb998f-896a-4642-b1f0-d66dfbec55d7\" xlink:show=\"new\" xlink:title=\"psysml:79fb998f-896a-4642-b1f0-d66dfbec55d7\" xlink:type=\"simple\"><rect fill=\"#FFFFFF\" height=\"45.9375\" id=\"E5\" rx=\"10\" ry=\"10\" style=\"stroke: #383838; stroke-width: 1.5;\" width=\"42\" x=\"190\" y=\"44.5\"/><text fill=\"#000000\" font-family=\"sans-serif\" font-size=\"12\" font-style=\"italic\" lengthAdjust=\"spacingAndGlyphs\" textLength=\"40\" x=\"191\" y=\"60.6387\">«part»</text><text fill=\"#000000\" font-family=\"sans-serif\" font-size=\"12\" lengthAdjust=\"spacingAndGlyphs\" textLength=\"22\" x=\"200\" y=\"74.6074\">x: A</text><line style=\"stroke: #383838; stroke-width: 1.5;\" x1=\"191\" x2=\"231\" y1=\"82.4375\" y2=\"82.4375\"/></a><!--MD5=[b9389687b975829384b498ac4b7476b2]\n",
       "class E8--><a href=\"psysml:c8045a6d-f018-4e86-976c-73e06620aa4c\" target=\"_top\" title=\"psysml:c8045a6d-f018-4e86-976c-73e06620aa4c\" xlink:actuate=\"onRequest\" xlink:href=\"psysml:c8045a6d-f018-4e86-976c-73e06620aa4c\" xlink:show=\"new\" xlink:title=\"psysml:c8045a6d-f018-4e86-976c-73e06620aa4c\" xlink:type=\"simple\"><rect fill=\"#FFFFFF\" height=\"45.9375\" id=\"E8\" rx=\"10\" ry=\"10\" style=\"stroke: #383838; stroke-width: 1.5;\" width=\"42\" x=\"107\" y=\"44.5\"/><text fill=\"#000000\" font-family=\"sans-serif\" font-size=\"12\" font-style=\"italic\" lengthAdjust=\"spacingAndGlyphs\" textLength=\"40\" x=\"108\" y=\"60.6387\">«part»</text><text fill=\"#000000\" font-family=\"sans-serif\" font-size=\"12\" lengthAdjust=\"spacingAndGlyphs\" textLength=\"21\" x=\"117.5\" y=\"74.6074\">z: B</text><line style=\"stroke: #383838; stroke-width: 1.5;\" x1=\"108\" x2=\"148\" y1=\"82.4375\" y2=\"82.4375\"/></a><!--MD5=[09b614a08d8cba4a07c9adeb5e0fee81]\n",
       "class E3--><a href=\"psysml:06ccdf6b-7fde-40d2-9d83-7c71c3aaf391\" target=\"_top\" title=\"psysml:06ccdf6b-7fde-40d2-9d83-7c71c3aaf391\" xlink:actuate=\"onRequest\" xlink:href=\"psysml:06ccdf6b-7fde-40d2-9d83-7c71c3aaf391\" xlink:show=\"new\" xlink:title=\"psysml:06ccdf6b-7fde-40d2-9d83-7c71c3aaf391\" xlink:type=\"simple\"><rect fill=\"#FFFFFF\" height=\"45.9375\" id=\"E3\" style=\"stroke: #383838; stroke-width: 1.5;\" width=\"66\" x=\"178\" y=\"154\"/><text fill=\"#000000\" font-family=\"sans-serif\" font-size=\"12\" font-style=\"italic\" lengthAdjust=\"spacingAndGlyphs\" textLength=\"64\" x=\"179\" y=\"170.1387\">«part def»</text><text fill=\"#000000\" font-family=\"sans-serif\" font-size=\"12\" lengthAdjust=\"spacingAndGlyphs\" textLength=\"8\" x=\"207\" y=\"184.1074\">A</text><line style=\"stroke: #383838; stroke-width: 1.5;\" x1=\"179\" x2=\"243\" y1=\"191.9375\" y2=\"191.9375\"/></a><a href=\"psysml:524b97f3-dd10-444b-a6f8-a87f295610fc\" target=\"_top\" title=\"psysml:524b97f3-dd10-444b-a6f8-a87f295610fc\" xlink:actuate=\"onRequest\" xlink:href=\"psysml:524b97f3-dd10-444b-a6f8-a87f295610fc\" xlink:show=\"new\" xlink:title=\"psysml:524b97f3-dd10-444b-a6f8-a87f295610fc\" xlink:type=\"simple\"><polygon fill=\"#FFFFFF\" points=\"32,41,58,41,65,63.2969,72,63.2969,72,93.5938,32,93.5938,32,41\" style=\"stroke: #000000; stroke-width: 1.5;\"/><line style=\"stroke: #000000; stroke-width: 1.5;\" x1=\"32\" x2=\"65\" y1=\"63.2969\" y2=\"63.2969\"/><text fill=\"#000000\" font-family=\"sans-serif\" font-size=\"14\" font-weight=\"bold\" lengthAdjust=\"spacingAndGlyphs\" textLength=\"20\" x=\"36\" y=\"55.9951\">P2</text></a><!--MD5=[2156ba9850f5573cc1fc38a6a4b2f02b]\n",
       "class E7--><a href=\"psysml:e6b11995-178a-4abf-b303-bbf3be6d894d\" target=\"_top\" title=\"psysml:e6b11995-178a-4abf-b303-bbf3be6d894d\" xlink:actuate=\"onRequest\" xlink:href=\"psysml:e6b11995-178a-4abf-b303-bbf3be6d894d\" xlink:show=\"new\" xlink:title=\"psysml:e6b11995-178a-4abf-b303-bbf3be6d894d\" xlink:type=\"simple\"><rect fill=\"#FFFFFF\" height=\"45.9375\" id=\"E7\" style=\"stroke: #383838; stroke-width: 1.5;\" width=\"66\" x=\"56\" y=\"154\"/><text fill=\"#000000\" font-family=\"sans-serif\" font-size=\"12\" font-style=\"italic\" lengthAdjust=\"spacingAndGlyphs\" textLength=\"64\" x=\"57\" y=\"170.1387\">«part def»</text><text fill=\"#000000\" font-family=\"sans-serif\" font-size=\"12\" lengthAdjust=\"spacingAndGlyphs\" textLength=\"8\" x=\"85\" y=\"184.1074\">B</text><line style=\"stroke: #383838; stroke-width: 1.5;\" x1=\"57\" x2=\"121\" y1=\"191.9375\" y2=\"191.9375\"/></a><!--MD5=[e9be52314489bd878ff4c7144b63c9e1]\n",
       "link E5 to E3--><a href=\"psysml:88440252-e8a6-408e-b428-64e589ea9f3d\" target=\"_top\" title=\"psysml:88440252-e8a6-408e-b428-64e589ea9f3d\" xlink:actuate=\"onRequest\" xlink:href=\"psysml:88440252-e8a6-408e-b428-64e589ea9f3d\" xlink:show=\"new\" xlink:title=\"psysml:88440252-e8a6-408e-b428-64e589ea9f3d\" xlink:type=\"simple\"><path d=\"M211,90.72 C211,90.72 211,133.81 211,133.81 \" fill=\"none\" id=\"E5-&gt;E3\" style=\"stroke: #383838; stroke-width: 1.0;\"/><polygon fill=\"#FFFFFF\" points=\"211,153.81,204,134.81,218,134.81,211,153.81\" style=\"stroke: #383838; stroke-width: 1.0;\"/><ellipse cx=\"206\" cy=\"129.11\" fill=\"#383838\" rx=\"2\" ry=\"2\" style=\"stroke: #383838; stroke-width: 1.0;\"/><ellipse cx=\"216\" cy=\"129.11\" fill=\"#383838\" rx=\"2\" ry=\"2\" style=\"stroke: #383838; stroke-width: 1.0;\"/></a><!--MD5=[bfa3c8b0d15052fdf50ae9310b491027]\n",
       "link E8 to E7--><a href=\"psysml:a33b0610-5a8d-429b-bbd7-f981cc70bcb5\" target=\"_top\" title=\"psysml:a33b0610-5a8d-429b-bbd7-f981cc70bcb5\" xlink:actuate=\"onRequest\" xlink:href=\"psysml:a33b0610-5a8d-429b-bbd7-f981cc70bcb5\" xlink:show=\"new\" xlink:title=\"psysml:a33b0610-5a8d-429b-bbd7-f981cc70bcb5\" xlink:type=\"simple\"><path d=\"M114.5,90.72 C114.5,90.72 114.5,133.81 114.5,133.81 \" fill=\"none\" id=\"E8-&gt;E7\" style=\"stroke: #383838; stroke-width: 1.0;\"/><polygon fill=\"#FFFFFF\" points=\"114.5,153.81,107.5,134.81,121.5,134.81,114.5,153.81\" style=\"stroke: #383838; stroke-width: 1.0;\"/><ellipse cx=\"109.5\" cy=\"129.11\" fill=\"#383838\" rx=\"2\" ry=\"2\" style=\"stroke: #383838; stroke-width: 1.0;\"/><ellipse cx=\"119.5\" cy=\"129.11\" fill=\"#383838\" rx=\"2\" ry=\"2\" style=\"stroke: #383838; stroke-width: 1.0;\"/></a><!--MD5=[13c2354b7d98b0147df1a1ab3cca0ea7]\n",
       "@startuml\r\n",
       "skinparam linetype ortho\r\n",
       "skinparam monochrome true\r\n",
       "skinparam classbackgroundcolor white\r\n",
       "skinparam shadowing false\r\n",
       "skinparam wrapWidth 300\r\n",
       "hide circle\r\n",
       "\r\n",
       "package \"PrivateImportTest\" as E1  [[psysml:fd8049a9-22d6-4d05-bbeb-ce76116dc6d9 ]]  {\r\n",
       "package \"P1\" as E2  [[psysml:b8db80a7-5996-4df4-9976-dc6864828b46 ]]  {\r\n",
       "comp def \"A\" as E3  <<(T,blue)part def>> [[psysml:06ccdf6b-7fde-40d2-9d83-7c71c3aaf391 ]] {\r\n",
       "}\r\n",
       "}\r\n",
       "package \"P2\" as E4  [[psysml:524b97f3-dd10-444b-a6f8-a87f295610fc ]]  {\r\n",
       "}\r\n",
       "comp usage \"x: A\" as E5  <<(T,blue)part>> [[psysml:79fb998f-896a-4642-b1f0-d66dfbec55d7 ]] {\r\n",
       "}\r\n",
       "package \"P3\" as E6  [[psysml:5bfd0c7b-a7f5-42f3-81fc-e346e4c74519 ]]  {\r\n",
       "comp def \"B\" as E7  <<(T,blue)part def>> [[psysml:e6b11995-178a-4abf-b303-bbf3be6d894d ]] {\r\n",
       "}\r\n",
       "E5 - -:|> E3 [[psysml:88440252-e8a6-408e-b428-64e589ea9f3d ]] \r\n",
       "}\r\n",
       "comp usage \"z: B\" as E8  <<(T,blue)part>> [[psysml:c8045a6d-f018-4e86-976c-73e06620aa4c ]] {\r\n",
       "}\r\n",
       "E8 - -:|> E7 [[psysml:a33b0610-5a8d-429b-bbd7-f981cc70bcb5 ]] \r\n",
       "}\r\n",
       "@enduml\r\n",
       "\n",
       "PlantUML version 1.2020.13(Sat Jun 13 12:26:38 UTC 2020)\n",
       "(EPL source distribution)\n",
       "Java Runtime: OpenJDK Runtime Environment\n",
       "JVM: OpenJDK 64-Bit Server VM\n",
       "Default Encoding: UTF-8\n",
       "Language: en\n",
       "Country: null\n",
       "--></g></svg>"
      ]
     },
     "execution_count": 57,
     "metadata": {},
     "output_type": "execute_result"
    }
   ],
   "source": [
    "%viz --style=\"ORTHOLINE\" --view=\"MIXED\" \"PrivateImportTest\""
   ]
  }
 ],
 "metadata": {
  "kernelspec": {
   "display_name": "SysML",
   "language": "sysml",
   "name": "sysml"
  },
  "language_info": {
   "codemirror_mode": "sysml",
   "file_extension": ".sysml",
   "mimetype": "text/x-sysml",
   "name": "SysML",
   "pygments_lexer": "java",
   "version": "1.0.0"
  }
 },
 "nbformat": 4,
 "nbformat_minor": 5
}
