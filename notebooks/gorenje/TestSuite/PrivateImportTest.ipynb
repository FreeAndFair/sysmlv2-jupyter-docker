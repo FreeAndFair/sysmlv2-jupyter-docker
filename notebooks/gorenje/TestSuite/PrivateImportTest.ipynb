{
 "cells": [
  {
   "cell_type": "markdown",
   "id": "1647021a",
   "metadata": {},
   "source": [
    "# SysML v2 Test Suite\n",
    "\n",
    "This can notebook can be cleared using menu `Edit --> Clear All Outputs` and then all cells can be\n",
    "run using menu `Run --> Run All Cells`.\n",
    "\n",
    "**WARNING**: This file is generated, all modifications here will be ignored.\n"
   ]
  },
  {
   "cell_type": "markdown",
   "id": "efa7bb36",
   "metadata": {},
   "source": [
    "## File: ../../sysml/src/examples/Import Tests/PrivateImportTest.sysml"
   ]
  },
  {
   "cell_type": "code",
   "execution_count": 1,
   "id": "f7b05164",
   "metadata": {
    "execution": {
     "iopub.execute_input": "2024-12-16T14:17:01.921804Z",
     "iopub.status.busy": "2024-12-16T14:17:01.921356Z",
     "iopub.status.idle": "2024-12-16T14:17:02.134548Z",
     "shell.execute_reply": "2024-12-16T14:17:02.134686Z"
    }
   },
   "outputs": [
    {
     "data": {
      "text/plain": [
       "Package PrivateImportTest (11a30fa2-fbeb-4b2d-a071-2781e63d5a12)\n"
      ]
     },
     "execution_count": 1,
     "metadata": {},
     "output_type": "execute_result"
    }
   ],
   "source": [
    "package PrivateImportTest {\n",
    "\tpackage P1 {\n",
    "\t\tpart def A;\n",
    "\t}\n",
    "\tpackage P2 {\n",
    "\t\tprivate import P1::*;\n",
    "\t}\n",
    "\n",
    "\tpart x: P1::A;\n",
    "\t\n",
    "\tpublic import P2::*;\n",
    "\t// This should fail.\n",
    "\t// A is not visible, because the import in P2 is private.\n",
    "\t// part y: A;\n",
    "\t// part y1: P2::A;\n",
    "\t\n",
    "\tpackage P3 {\n",
    "\t\tpart def B;\n",
    "\t}\n",
    "\t\n",
    "\tprivate import P3::*;\n",
    "\t\n",
    "\t// This should not fail.\n",
    "\t// Private import only restricts visibility outside the package.\n",
    "\tpart z: B;\n",
    "\t\n",
    "\tpackage P4 {\n",
    "\t\tpublic import all P2::*;\n",
    "\t\t\n",
    "\t\t// This should not fail because \"import all\" overrides private import.\n",
    "\t\tpart z1: A;\n",
    "\t}\t\n",
    "}"
   ]
  },
  {
   "cell_type": "code",
   "execution_count": 2,
   "id": "1707e92f",
   "metadata": {
    "execution": {
     "iopub.execute_input": "2024-12-16T14:17:02.190640Z",
     "iopub.status.busy": "2024-12-16T14:17:02.190431Z",
     "iopub.status.idle": "2024-12-16T14:17:02.590628Z",
     "shell.execute_reply": "2024-12-16T14:17:02.589772Z"
    }
   },
   "outputs": [
    {
     "data": {
      "image/svg+xml": [
       "<?xml version=\"1.0\" encoding=\"UTF-8\" standalone=\"no\"?><svg xmlns=\"http://www.w3.org/2000/svg\" xmlns:xlink=\"http://www.w3.org/1999/xlink\" contentStyleType=\"text/css\" height=\"587px\" preserveAspectRatio=\"none\" style=\"width:428px;height:587px;background:#FFFFFF;\" version=\"1.1\" viewBox=\"0 0 428 587\" width=\"428px\" zoomAndPan=\"magnify\"><defs/><g><!--MD5=[fbc87193dbaf4d95561dea2c320d4a47]\n",
       "cluster E1--><g id=\"cluster_E1\"><a href=\"psysml:11a30fa2-fbeb-4b2d-a071-2781e63d5a12\" target=\"_top\" title=\"psysml:11a30fa2-fbeb-4b2d-a071-2781e63d5a12\" xlink:actuate=\"onRequest\" xlink:href=\"psysml:11a30fa2-fbeb-4b2d-a071-2781e63d5a12\" xlink:show=\"new\" xlink:title=\"psysml:11a30fa2-fbeb-4b2d-a071-2781e63d5a12\" xlink:type=\"simple\"><polygon fill=\"none\" points=\"26.335,6,160.7725,6,167.7725,28.2969,411.335,28.2969,411.335,580,26.335,580,26.335,6\" style=\"stroke:#000000;stroke-width:1.5;\"/><line style=\"stroke:#000000;stroke-width:1.5;\" x1=\"26.335\" x2=\"167.7725\" y1=\"28.2969\" y2=\"28.2969\"/><text fill=\"#000000\" font-family=\"sans-serif\" font-size=\"14\" font-weight=\"bold\" lengthAdjust=\"spacing\" textLength=\"128.4375\" x=\"30.335\" y=\"20.9951\">PrivateImportTest</text></a></g><!--MD5=[e4f7fae6ed58524ba242bb0b0d3be6b7]\n",
       "cluster E2--><g id=\"cluster_E2\"><a href=\"psysml:29bb8ef7-a50f-48a8-b243-dfabeed2550d\" target=\"_top\" title=\"psysml:29bb8ef7-a50f-48a8-b243-dfabeed2550d\" xlink:actuate=\"onRequest\" xlink:href=\"psysml:29bb8ef7-a50f-48a8-b243-dfabeed2550d\" xlink:show=\"new\" xlink:title=\"psysml:29bb8ef7-a50f-48a8-b243-dfabeed2550d\" xlink:type=\"simple\"><polygon fill=\"none\" points=\"231.335,425,256.21,425,263.21,447.2969,368.335,447.2969,368.335,540,231.335,540,231.335,425\" style=\"stroke:#000000;stroke-width:1.5;\"/><line style=\"stroke:#000000;stroke-width:1.5;\" x1=\"231.335\" x2=\"263.21\" y1=\"447.2969\" y2=\"447.2969\"/><text fill=\"#000000\" font-family=\"sans-serif\" font-size=\"14\" font-weight=\"bold\" lengthAdjust=\"spacing\" textLength=\"18.875\" x=\"235.335\" y=\"439.9951\">P1</text></a></g><!--MD5=[14e3b0961a2654348d326746436168a1]\n",
       "cluster E6--><g id=\"cluster_E6\"><a href=\"psysml:3afe7580-df30-4ff0-95e6-ec63d3638055\" target=\"_top\" title=\"psysml:3afe7580-df30-4ff0-95e6-ec63d3638055\" xlink:actuate=\"onRequest\" xlink:href=\"psysml:3afe7580-df30-4ff0-95e6-ec63d3638055\" xlink:show=\"new\" xlink:title=\"psysml:3afe7580-df30-4ff0-95e6-ec63d3638055\" xlink:type=\"simple\"><polygon fill=\"none\" points=\"74.335,245,99.21,245,106.21,267.2969,211.335,267.2969,211.335,360,74.335,360,74.335,245\" style=\"stroke:#000000;stroke-width:1.5;\"/><line style=\"stroke:#000000;stroke-width:1.5;\" x1=\"74.335\" x2=\"106.21\" y1=\"267.2969\" y2=\"267.2969\"/><text fill=\"#000000\" font-family=\"sans-serif\" font-size=\"14\" font-weight=\"bold\" lengthAdjust=\"spacing\" textLength=\"18.875\" x=\"78.335\" y=\"259.9951\">P3</text></a></g><!--MD5=[7f149f147074ac12df2cb0a7728a5fb0]\n",
       "cluster E9--><g id=\"cluster_E9\"><a href=\"psysml:a1b56716-f996-4480-88b0-3733f2d7733c\" target=\"_top\" title=\"psysml:a1b56716-f996-4480-88b0-3733f2d7733c\" xlink:actuate=\"onRequest\" xlink:href=\"psysml:a1b56716-f996-4480-88b0-3733f2d7733c\" xlink:show=\"new\" xlink:title=\"psysml:a1b56716-f996-4480-88b0-3733f2d7733c\" xlink:type=\"simple\"><polygon fill=\"none\" points=\"254.335,65,279.21,65,286.21,87.2969,371.335,87.2969,371.335,180,254.335,180,254.335,65\" style=\"stroke:#000000;stroke-width:1.5;\"/><line style=\"stroke:#000000;stroke-width:1.5;\" x1=\"254.335\" x2=\"286.21\" y1=\"87.2969\" y2=\"87.2969\"/><text fill=\"#000000\" font-family=\"sans-serif\" font-size=\"14\" font-weight=\"bold\" lengthAdjust=\"spacing\" textLength=\"18.875\" x=\"258.335\" y=\"79.9951\">P4</text></a></g><!--MD5=[270fce915f116d4de14055a7c1d9a0f3]\n",
       "class E5--><a href=\"psysml:fd0b961b-4bae-44e8-b09a-9c87fac280e3\" target=\"_top\" title=\"psysml:fd0b961b-4bae-44e8-b09a-9c87fac280e3\" xlink:actuate=\"onRequest\" xlink:href=\"psysml:fd0b961b-4bae-44e8-b09a-9c87fac280e3\" xlink:show=\"new\" xlink:title=\"psysml:fd0b961b-4bae-44e8-b09a-9c87fac280e3\" xlink:type=\"simple\"><g id=\"elem_E5\"><rect fill=\"#FFFFFF\" height=\"48.2656\" id=\"E5\" rx=\"10\" ry=\"10\" style=\"stroke:#181818;stroke-width:0.5;\" width=\"42\" x=\"345.335\" y=\"288\"/><text fill=\"#000000\" font-family=\"sans-serif\" font-size=\"12\" font-style=\"italic\" lengthAdjust=\"spacing\" textLength=\"40\" x=\"346.335\" y=\"304.1387\">«part»</text><text fill=\"#000000\" font-family=\"sans-serif\" font-size=\"14\" lengthAdjust=\"spacing\" textLength=\"25\" x=\"349.835\" y=\"319.9639\">x: A</text><line style=\"stroke:#181818;stroke-width:0.5;\" x1=\"346.335\" x2=\"386.335\" y1=\"328.2656\" y2=\"328.2656\"/></g></a><!--MD5=[b9389687b975829384b498ac4b7476b2]\n",
       "class E8--><a href=\"psysml:87e3ce51-5094-4f5d-8d11-feac4ad1e872\" target=\"_top\" title=\"psysml:87e3ce51-5094-4f5d-8d11-feac4ad1e872\" xlink:actuate=\"onRequest\" xlink:href=\"psysml:87e3ce51-5094-4f5d-8d11-feac4ad1e872\" xlink:show=\"new\" xlink:title=\"psysml:87e3ce51-5094-4f5d-8d11-feac4ad1e872\" xlink:type=\"simple\"><g id=\"elem_E8\"><rect fill=\"#FFFFFF\" height=\"48.2656\" id=\"E8\" rx=\"10\" ry=\"10\" style=\"stroke:#181818;stroke-width:0.5;\" width=\"42\" x=\"185.335\" y=\"108\"/><text fill=\"#000000\" font-family=\"sans-serif\" font-size=\"12\" font-style=\"italic\" lengthAdjust=\"spacing\" textLength=\"40\" x=\"186.335\" y=\"124.1387\">«part»</text><text fill=\"#000000\" font-family=\"sans-serif\" font-size=\"14\" lengthAdjust=\"spacing\" textLength=\"27\" x=\"188.835\" y=\"139.9639\">z: B</text><line style=\"stroke:#181818;stroke-width:0.5;\" x1=\"186.335\" x2=\"226.335\" y1=\"148.2656\" y2=\"148.2656\"/></g></a><!--MD5=[09b614a08d8cba4a07c9adeb5e0fee81]\n",
       "class E3--><a href=\"psysml:5dfb8e4e-b010-43d6-9ea6-8d8096aa0cbd\" target=\"_top\" title=\"psysml:5dfb8e4e-b010-43d6-9ea6-8d8096aa0cbd\" xlink:actuate=\"onRequest\" xlink:href=\"psysml:5dfb8e4e-b010-43d6-9ea6-8d8096aa0cbd\" xlink:show=\"new\" xlink:title=\"psysml:5dfb8e4e-b010-43d6-9ea6-8d8096aa0cbd\" xlink:type=\"simple\"><g id=\"elem_E3\"><rect fill=\"#FFFFFF\" height=\"48.2656\" id=\"E3\" style=\"stroke:#181818;stroke-width:0.5;\" width=\"70\" x=\"274.335\" y=\"468\"/><text fill=\"#000000\" font-family=\"sans-serif\" font-size=\"12\" font-style=\"italic\" lengthAdjust=\"spacing\" textLength=\"68\" x=\"275.335\" y=\"484.1387\">«part  def»</text><text fill=\"#000000\" font-family=\"sans-serif\" font-size=\"14\" lengthAdjust=\"spacing\" textLength=\"9\" x=\"304.835\" y=\"499.9639\">A</text><line style=\"stroke:#181818;stroke-width:0.5;\" x1=\"275.335\" x2=\"343.335\" y1=\"508.2656\" y2=\"508.2656\"/></g></a><a href=\"psysml:6d745f5d-a6bd-48d3-bb38-b4db6224b450\" target=\"_top\" title=\"psysml:6d745f5d-a6bd-48d3-bb38-b4db6224b450\" xlink:actuate=\"onRequest\" xlink:href=\"psysml:6d745f5d-a6bd-48d3-bb38-b4db6224b450\" xlink:show=\"new\" xlink:title=\"psysml:6d745f5d-a6bd-48d3-bb38-b4db6224b450\" xlink:type=\"simple\"><polygon fill=\"#FFFFFF\" points=\"235.335,285.5,259.335,285.5,266.335,307.7969,273.335,307.7969,273.335,338.0938,235.335,338.0938,235.335,285.5\" style=\"stroke:#181818;stroke-width:0.5;\"/><line style=\"stroke:#181818;stroke-width:0.5;\" x1=\"235.335\" x2=\"266.335\" y1=\"307.7969\" y2=\"307.7969\"/><text fill=\"#000000\" font-family=\"sans-serif\" font-size=\"14\" lengthAdjust=\"spacing\" textLength=\"18\" x=\"239.335\" y=\"300.4951\">P2</text></a><!--MD5=[2156ba9850f5573cc1fc38a6a4b2f02b]\n",
       "class E7--><a href=\"psysml:05031283-db67-47ce-b074-a753e1e8519b\" target=\"_top\" title=\"psysml:05031283-db67-47ce-b074-a753e1e8519b\" xlink:actuate=\"onRequest\" xlink:href=\"psysml:05031283-db67-47ce-b074-a753e1e8519b\" xlink:show=\"new\" xlink:title=\"psysml:05031283-db67-47ce-b074-a753e1e8519b\" xlink:type=\"simple\"><g id=\"elem_E7\"><rect fill=\"#FFFFFF\" height=\"48.2656\" id=\"E7\" style=\"stroke:#181818;stroke-width:0.5;\" width=\"70\" x=\"117.335\" y=\"288\"/><text fill=\"#000000\" font-family=\"sans-serif\" font-size=\"12\" font-style=\"italic\" lengthAdjust=\"spacing\" textLength=\"68\" x=\"118.335\" y=\"304.1387\">«part  def»</text><text fill=\"#000000\" font-family=\"sans-serif\" font-size=\"14\" lengthAdjust=\"spacing\" textLength=\"10\" x=\"147.335\" y=\"319.9639\">B</text><line style=\"stroke:#181818;stroke-width:0.5;\" x1=\"118.335\" x2=\"186.335\" y1=\"328.2656\" y2=\"328.2656\"/></g></a><!--MD5=[96f4274e9e20536e775497830990834d]\n",
       "class E10--><a href=\"psysml:630baa2a-121f-4da7-a3fd-6c76e707d010\" target=\"_top\" title=\"psysml:630baa2a-121f-4da7-a3fd-6c76e707d010\" xlink:actuate=\"onRequest\" xlink:href=\"psysml:630baa2a-121f-4da7-a3fd-6c76e707d010\" xlink:show=\"new\" xlink:title=\"psysml:630baa2a-121f-4da7-a3fd-6c76e707d010\" xlink:type=\"simple\"><g id=\"elem_E10\"><rect fill=\"#FFFFFF\" height=\"48.2656\" id=\"E10\" rx=\"10\" ry=\"10\" style=\"stroke:#181818;stroke-width:0.5;\" width=\"49\" x=\"297.835\" y=\"108\"/><text fill=\"#000000\" font-family=\"sans-serif\" font-size=\"12\" font-style=\"italic\" lengthAdjust=\"spacing\" textLength=\"40\" x=\"302.335\" y=\"124.1387\">«part»</text><text fill=\"#000000\" font-family=\"sans-serif\" font-size=\"14\" lengthAdjust=\"spacing\" textLength=\"35\" x=\"300.835\" y=\"139.9639\">z1: A</text><line style=\"stroke:#181818;stroke-width:0.5;\" x1=\"298.835\" x2=\"345.835\" y1=\"148.2656\" y2=\"148.2656\"/></g></a><!--MD5=[185131fc0dcab0a4505a2ebe144e961b]\n",
       "link E4 to E2--><g id=\"link_E4_E2\"><a href=\"psysml:0487f209-9870-4837-a273-e80eaf0041e3\" target=\"_top\" title=\"psysml:0487f209-9870-4837-a273-e80eaf0041e3\" xlink:actuate=\"onRequest\" xlink:href=\"psysml:0487f209-9870-4837-a273-e80eaf0041e3\" xlink:show=\"new\" xlink:title=\"psysml:0487f209-9870-4837-a273-e80eaf0041e3\" xlink:type=\"simple\"><path d=\"M244.835,338.57 C240.375,351.9 235.565,368.61 233.335,384 C231.655,395.6 231.165,407.9706 231.3811,420.0302 C231.4081,421.5376 231.4461,423.0402 231.4943,424.5358 \" fill=\"none\" id=\"E4-to-E2\" style=\"stroke:#181818;stroke-width:1.0;stroke-dasharray:7.0,7.0;\"/><polygon fill=\"#181818\" points=\"231.4943,424.5358,235.2027,415.4118,231.3335,419.5384,227.2069,415.6691,231.4943,424.5358\" style=\"stroke:#181818;stroke-width:1.0;\"/><text fill=\"#000000\" font-family=\"sans-serif\" font-size=\"13\" lengthAdjust=\"spacing\" textLength=\"65\" x=\"234.335\" y=\"397.0669\">«import»*</text></a></g><!--MD5=[e9be52314489bd878ff4c7144b63c9e1]\n",
       "link E5 to E3--><g id=\"link_E5_E3\"><a href=\"psysml:fdb905ca-fd31-45b2-b41e-28dfb09dbd5e\" target=\"_top\" title=\"psysml:fdb905ca-fd31-45b2-b41e-28dfb09dbd5e\" xlink:actuate=\"onRequest\" xlink:href=\"psysml:fdb905ca-fd31-45b2-b41e-28dfb09dbd5e\" xlink:show=\"new\" xlink:title=\"psysml:fdb905ca-fd31-45b2-b41e-28dfb09dbd5e\" xlink:type=\"simple\"><path d=\"M358.885,336.27 C349.795,364.65 334.255,413.19 322.995,448.34 \" fill=\"none\" id=\"E5-to-E3\" style=\"stroke:#181818;stroke-width:1.0;\"/><polygon fill=\"#FFFFFF\" points=\"316.785,467.72,315.9148,447.4902,329.2475,451.7611,316.785,467.72\" style=\"stroke:#181818;stroke-width:1.0;\"/><ellipse cx=\"319.5583\" cy=\"442.6721\" fill=\"#181818\" rx=\"2\" ry=\"2\" style=\"stroke:#181818;stroke-width:1.0;\"/><ellipse cx=\"329.0817\" cy=\"445.7227\" fill=\"#181818\" rx=\"2\" ry=\"2\" style=\"stroke:#181818;stroke-width:1.0;\"/></a></g><!--MD5=[ee384bb554873b72f85793eae40e290c]\n",
       "link E1 to E4--><g id=\"link_E1_E4\"><a href=\"psysml:60fcb482-826b-48b1-b5dc-27f8a317149a\" target=\"_top\" title=\"psysml:60fcb482-826b-48b1-b5dc-27f8a317149a\" xlink:actuate=\"onRequest\" xlink:href=\"psysml:60fcb482-826b-48b1-b5dc-27f8a317149a\" xlink:show=\"new\" xlink:title=\"psysml:60fcb482-826b-48b1-b5dc-27f8a317149a\" xlink:type=\"simple\"><path d=\"M34.305,133.12 C33.645,135.64 23.485,176.19 42.335,196 C49.335,203.36 77.365,202.04 87.335,204 C100.275,206.54 192.555,221.41 203.335,229 C221.255,241.61 234.175,262.72 242.525,280.37 \" fill=\"none\" id=\"E1-to-E4\" style=\"stroke:#181818;stroke-width:1.0;stroke-dasharray:7.0,7.0;\"/><polygon fill=\"#181818\" points=\"244.755,285.24,244.6606,275.3916,242.6806,280.6906,237.3816,278.7106,244.755,285.24\" style=\"stroke:#181818;stroke-width:1.0;\"/><text fill=\"#000000\" font-family=\"sans-serif\" font-size=\"13\" lengthAdjust=\"spacing\" textLength=\"65\" x=\"176.335\" y=\"217.0669\">«import»*</text></a></g><!--MD5=[ccbd3af71bf83df0ec2a2db62d6d7130]\n",
       "link E1 to E6--><g id=\"link_E1_E6\"><a href=\"psysml:37c9a4c7-80e6-494a-a65a-d8ec35cca65c\" target=\"_top\" title=\"psysml:37c9a4c7-80e6-494a-a65a-d8ec35cca65c\" xlink:actuate=\"onRequest\" xlink:href=\"psysml:37c9a4c7-80e6-494a-a65a-d8ec35cca65c\" xlink:show=\"new\" xlink:title=\"psysml:37c9a4c7-80e6-494a-a65a-d8ec35cca65c\" xlink:type=\"simple\"><path d=\"M26.3325,146.2131 C26.1219,146.5997 25.9095,146.9932 25.6953,147.3934 C24.8388,148.9944 23.9555,150.7026 23.0641,152.5046 C21.2813,156.1085 19.4656,160.0872 17.765,164.3313 C10.9625,181.3075 6,202.53 12.335,221 C20.3,244.215 36.9725,266.0575 52.0488,282.41 C59.5869,290.5862 66.7259,297.39 72.178,302.3066 C72.8595,302.9211 73.5146,303.5062 74.1409,304.0608 \" fill=\"none\" id=\"E1-to-E6\" style=\"stroke:#181818;stroke-width:1.0;stroke-dasharray:7.0,7.0;\"/><polygon fill=\"#181818\" points=\"74.1409,304.0608,70.0549,295.0995,70.3976,300.746,64.7512,301.0887,74.1409,304.0608\" style=\"stroke:#181818;stroke-width:1.0;\"/><text fill=\"#000000\" font-family=\"sans-serif\" font-size=\"13\" lengthAdjust=\"spacing\" textLength=\"65\" x=\"13.335\" y=\"217.0669\">«import»*</text></a></g><!--MD5=[bfa3c8b0d15052fdf50ae9310b491027]\n",
       "link E8 to E7--><g id=\"link_E8_E7\"><a href=\"psysml:f605a3b7-992a-46f2-9cbf-567dae0e656e\" target=\"_top\" title=\"psysml:f605a3b7-992a-46f2-9cbf-567dae0e656e\" xlink:actuate=\"onRequest\" xlink:href=\"psysml:f605a3b7-992a-46f2-9cbf-567dae0e656e\" xlink:show=\"new\" xlink:title=\"psysml:f605a3b7-992a-46f2-9cbf-567dae0e656e\" xlink:type=\"simple\"><path d=\"M221.755,156.17 C235.785,178.66 253.075,210.85 244.335,221 C228.795,239.06 210.465,214.81 191.335,229 C178.275,238.69 169.415,253.88 163.485,268.56 \" fill=\"none\" id=\"E8-to-E7\" style=\"stroke:#181818;stroke-width:1.0;\"/><polygon fill=\"#FFFFFF\" points=\"157.085,287.71,156.4571,267.4713,169.7377,271.9015,157.085,287.71\" style=\"stroke:#181818;stroke-width:1.0;\"/><ellipse cx=\"160.1581\" cy=\"262.6971\" fill=\"#181818\" rx=\"2\" ry=\"2\" style=\"stroke:#181818;stroke-width:1.0;\"/><ellipse cx=\"169.6442\" cy=\"265.8615\" fill=\"#181818\" rx=\"2\" ry=\"2\" style=\"stroke:#181818;stroke-width:1.0;\"/></a></g><!--MD5=[c2be97adba6ddfe1c8f349fab141c927]\n",
       "link E9 to E4--><g id=\"link_E9_E4\"><a href=\"psysml:f74e7f7d-bc69-4c36-9a7b-616abfb119b1\" target=\"_top\" title=\"psysml:f74e7f7d-bc69-4c36-9a7b-616abfb119b1\" xlink:actuate=\"onRequest\" xlink:href=\"psysml:f74e7f7d-bc69-4c36-9a7b-616abfb119b1\" xlink:show=\"new\" xlink:title=\"psysml:f74e7f7d-bc69-4c36-9a7b-616abfb119b1\" xlink:type=\"simple\"><path d=\"M260.2025,180.4864 C260.1924,180.7107 260.1823,180.9354 260.1722,181.1606 C260.1318,182.0612 260.091,182.969 260.0499,183.8833 C259.9677,185.7121 259.8844,187.5673 259.8,189.445 C258.45,219.4875 256.84,255.27 255.715,280.2 \" fill=\"none\" id=\"E9-to-E4\" style=\"stroke:#181818;stroke-width:1.0;stroke-dasharray:7.0,7.0;\"/><polygon fill=\"#181818\" points=\"255.485,285.47,259.8918,276.6621,255.7133,280.4752,251.9002,276.2967,255.485,285.47\" style=\"stroke:#181818;stroke-width:1.0;\"/><text fill=\"#000000\" font-family=\"sans-serif\" font-size=\"13\" lengthAdjust=\"spacing\" textLength=\"65\" x=\"259.335\" y=\"217.0669\">«import»*</text></a></g><!--MD5=[feeac5eb423634930294aa81f2d25a4c]\n",
       "link E10 to E3--><g id=\"link_E10_E3\"><a href=\"psysml:7688159c-03f6-437a-9242-bafcaad292a9\" target=\"_top\" title=\"psysml:7688159c-03f6-437a-9242-bafcaad292a9\" xlink:actuate=\"onRequest\" xlink:href=\"psysml:7688159c-03f6-437a-9242-bafcaad292a9\" xlink:show=\"new\" xlink:title=\"psysml:7688159c-03f6-437a-9242-bafcaad292a9\" xlink:type=\"simple\"><path d=\"M344.205,156.37 C359.315,175.4 374.095,202.12 358.335,221 C345.595,236.26 327.215,213.86 314.335,229 C300.565,245.18 304.225,377.23 307.215,447.45 \" fill=\"none\" id=\"E10-to-E3\" style=\"stroke:#181818;stroke-width:1.0;\"/><polygon fill=\"#FFFFFF\" points=\"308.135,467.85,300.2734,449.19,314.2588,448.5498,308.135,467.85\" style=\"stroke:#181818;stroke-width:1.0;\"/><ellipse cx=\"302.0107\" cy=\"443.4045\" fill=\"#181818\" rx=\"2\" ry=\"2\" style=\"stroke:#181818;stroke-width:1.0;\"/><ellipse cx=\"312.0002\" cy=\"442.9472\" fill=\"#181818\" rx=\"2\" ry=\"2\" style=\"stroke:#181818;stroke-width:1.0;\"/></a></g><!--MD5=[919b3f7a086d95345a6cd4201295ac5b]\n",
       "@startuml\r\n",
       "skin sysmlbw\r\n",
       "skinparam monochrome true\r\n",
       "skinparam wrapWidth 300\r\n",
       "hide circle\r\n",
       " \r\n",
       "package \"PrivateImportTest\" as E1  [[psysml:11a30fa2-fbeb-4b2d-a071-2781e63d5a12 ]]  {\r\n",
       "package \"P1\" as E2  [[psysml:29bb8ef7-a50f-48a8-b243-dfabeed2550d ]]  {\r\n",
       "comp def \"A\" as E3  <<(T,blue) part  def>> [[psysml:5dfb8e4e-b010-43d6-9ea6-8d8096aa0cbd ]] {\r\n",
       "}\r\n",
       "}\r\n",
       "package \"P2\" as E4  [[psysml:6d745f5d-a6bd-48d3-bb38-b4db6224b450 ]]  {\r\n",
       "}\r\n",
       "comp usage \"x: A  \" as E5  <<(T,blue) part>> [[psysml:fd0b961b-4bae-44e8-b09a-9c87fac280e3 ]] {\r\n",
       "}\r\n",
       "package \"P3\" as E6  [[psysml:3afe7580-df30-4ff0-95e6-ec63d3638055 ]]  {\r\n",
       "comp def \"B\" as E7  <<(T,blue) part  def>> [[psysml:05031283-db67-47ce-b074-a753e1e8519b ]] {\r\n",
       "}\r\n",
       "}\r\n",
       "comp usage \"z: B  \" as E8  <<(T,blue) part>> [[psysml:87e3ce51-5094-4f5d-8d11-feac4ad1e872 ]] {\r\n",
       "}\r\n",
       "package \"P4\" as E9  [[psysml:a1b56716-f996-4480-88b0-3733f2d7733c ]]  {\r\n",
       "comp usage \"z1: A  \" as E10  <<(T,blue) part>> [[psysml:630baa2a-121f-4da7-a3fd-6c76e707d010 ]] {\r\n",
       "}\r\n",
       "}\r\n",
       "}\r\n",
       "E4 ..> E2 [[psysml:0487f209-9870-4837-a273-e80eaf0041e3 ]] : <<import>>*\r\n",
       "E5 - -:|> E3 [[psysml:fdb905ca-fd31-45b2-b41e-28dfb09dbd5e ]] \r\n",
       "E1 ..> E4 [[psysml:60fcb482-826b-48b1-b5dc-27f8a317149a ]] : <<import>>*\r\n",
       "E1 ..> E6 [[psysml:37c9a4c7-80e6-494a-a65a-d8ec35cca65c ]] : <<import>>*\r\n",
       "E8 - -:|> E7 [[psysml:f605a3b7-992a-46f2-9cbf-567dae0e656e ]] \r\n",
       "E9 ..> E4 [[psysml:f74e7f7d-bc69-4c36-9a7b-616abfb119b1 ]] : <<import>>*\r\n",
       "E10 - -:|> E3 [[psysml:7688159c-03f6-437a-9242-bafcaad292a9 ]] \r\n",
       "@enduml\r\n",
       "\n",
       "PlantUML version 1.2022.7(Mon Aug 22 17:01:30 UTC 2022)\n",
       "(EPL source distribution)\n",
       "Java Runtime: OpenJDK Runtime Environment\n",
       "JVM: OpenJDK 64-Bit Server VM\n",
       "Default Encoding: UTF-8\n",
       "Language: en\n",
       "Country: null\n",
       "--></g></svg>"
      ]
     },
     "execution_count": 2,
     "metadata": {},
     "output_type": "execute_result"
    }
   ],
   "source": [
    "%viz --style=\"COMPTREE\" --view=\"Default\" \"PrivateImportTest\""
   ]
  },
  {
   "cell_type": "code",
   "execution_count": 3,
   "id": "897993f4",
   "metadata": {
    "execution": {
     "iopub.execute_input": "2024-12-16T14:17:02.646730Z",
     "iopub.status.busy": "2024-12-16T14:17:02.646511Z",
     "iopub.status.idle": "2024-12-16T14:17:02.693705Z",
     "shell.execute_reply": "2024-12-16T14:17:02.693850Z"
    }
   },
   "outputs": [
    {
     "data": {
      "image/svg+xml": [
       "<?xml version=\"1.0\" encoding=\"UTF-8\" standalone=\"no\"?><svg xmlns=\"http://www.w3.org/2000/svg\" xmlns:xlink=\"http://www.w3.org/1999/xlink\" contentStyleType=\"text/css\" height=\"587px\" preserveAspectRatio=\"none\" style=\"width:428px;height:587px;background:#FFFFFF;\" version=\"1.1\" viewBox=\"0 0 428 587\" width=\"428px\" zoomAndPan=\"magnify\"><defs/><g><!--MD5=[fbc87193dbaf4d95561dea2c320d4a47]\n",
       "cluster E1--><g id=\"cluster_E1\"><a href=\"psysml:11a30fa2-fbeb-4b2d-a071-2781e63d5a12\" target=\"_top\" title=\"psysml:11a30fa2-fbeb-4b2d-a071-2781e63d5a12\" xlink:actuate=\"onRequest\" xlink:href=\"psysml:11a30fa2-fbeb-4b2d-a071-2781e63d5a12\" xlink:show=\"new\" xlink:title=\"psysml:11a30fa2-fbeb-4b2d-a071-2781e63d5a12\" xlink:type=\"simple\"><polygon fill=\"none\" points=\"26.335,6,160.7725,6,167.7725,28.2969,411.335,28.2969,411.335,580,26.335,580,26.335,6\" style=\"stroke:#000000;stroke-width:1.5;\"/><line style=\"stroke:#000000;stroke-width:1.5;\" x1=\"26.335\" x2=\"167.7725\" y1=\"28.2969\" y2=\"28.2969\"/><text fill=\"#000000\" font-family=\"sans-serif\" font-size=\"14\" font-weight=\"bold\" lengthAdjust=\"spacing\" textLength=\"128.4375\" x=\"30.335\" y=\"20.9951\">PrivateImportTest</text></a></g><!--MD5=[e4f7fae6ed58524ba242bb0b0d3be6b7]\n",
       "cluster E2--><g id=\"cluster_E2\"><a href=\"psysml:29bb8ef7-a50f-48a8-b243-dfabeed2550d\" target=\"_top\" title=\"psysml:29bb8ef7-a50f-48a8-b243-dfabeed2550d\" xlink:actuate=\"onRequest\" xlink:href=\"psysml:29bb8ef7-a50f-48a8-b243-dfabeed2550d\" xlink:show=\"new\" xlink:title=\"psysml:29bb8ef7-a50f-48a8-b243-dfabeed2550d\" xlink:type=\"simple\"><polygon fill=\"none\" points=\"231.335,425,256.21,425,263.21,447.2969,368.335,447.2969,368.335,540,231.335,540,231.335,425\" style=\"stroke:#000000;stroke-width:1.5;\"/><line style=\"stroke:#000000;stroke-width:1.5;\" x1=\"231.335\" x2=\"263.21\" y1=\"447.2969\" y2=\"447.2969\"/><text fill=\"#000000\" font-family=\"sans-serif\" font-size=\"14\" font-weight=\"bold\" lengthAdjust=\"spacing\" textLength=\"18.875\" x=\"235.335\" y=\"439.9951\">P1</text></a></g><!--MD5=[14e3b0961a2654348d326746436168a1]\n",
       "cluster E6--><g id=\"cluster_E6\"><a href=\"psysml:3afe7580-df30-4ff0-95e6-ec63d3638055\" target=\"_top\" title=\"psysml:3afe7580-df30-4ff0-95e6-ec63d3638055\" xlink:actuate=\"onRequest\" xlink:href=\"psysml:3afe7580-df30-4ff0-95e6-ec63d3638055\" xlink:show=\"new\" xlink:title=\"psysml:3afe7580-df30-4ff0-95e6-ec63d3638055\" xlink:type=\"simple\"><polygon fill=\"none\" points=\"74.335,245,99.21,245,106.21,267.2969,211.335,267.2969,211.335,360,74.335,360,74.335,245\" style=\"stroke:#000000;stroke-width:1.5;\"/><line style=\"stroke:#000000;stroke-width:1.5;\" x1=\"74.335\" x2=\"106.21\" y1=\"267.2969\" y2=\"267.2969\"/><text fill=\"#000000\" font-family=\"sans-serif\" font-size=\"14\" font-weight=\"bold\" lengthAdjust=\"spacing\" textLength=\"18.875\" x=\"78.335\" y=\"259.9951\">P3</text></a></g><!--MD5=[7f149f147074ac12df2cb0a7728a5fb0]\n",
       "cluster E9--><g id=\"cluster_E9\"><a href=\"psysml:a1b56716-f996-4480-88b0-3733f2d7733c\" target=\"_top\" title=\"psysml:a1b56716-f996-4480-88b0-3733f2d7733c\" xlink:actuate=\"onRequest\" xlink:href=\"psysml:a1b56716-f996-4480-88b0-3733f2d7733c\" xlink:show=\"new\" xlink:title=\"psysml:a1b56716-f996-4480-88b0-3733f2d7733c\" xlink:type=\"simple\"><polygon fill=\"none\" points=\"254.335,65,279.21,65,286.21,87.2969,371.335,87.2969,371.335,180,254.335,180,254.335,65\" style=\"stroke:#000000;stroke-width:1.5;\"/><line style=\"stroke:#000000;stroke-width:1.5;\" x1=\"254.335\" x2=\"286.21\" y1=\"87.2969\" y2=\"87.2969\"/><text fill=\"#000000\" font-family=\"sans-serif\" font-size=\"14\" font-weight=\"bold\" lengthAdjust=\"spacing\" textLength=\"18.875\" x=\"258.335\" y=\"79.9951\">P4</text></a></g><!--MD5=[270fce915f116d4de14055a7c1d9a0f3]\n",
       "class E5--><a href=\"psysml:fd0b961b-4bae-44e8-b09a-9c87fac280e3\" target=\"_top\" title=\"psysml:fd0b961b-4bae-44e8-b09a-9c87fac280e3\" xlink:actuate=\"onRequest\" xlink:href=\"psysml:fd0b961b-4bae-44e8-b09a-9c87fac280e3\" xlink:show=\"new\" xlink:title=\"psysml:fd0b961b-4bae-44e8-b09a-9c87fac280e3\" xlink:type=\"simple\"><g id=\"elem_E5\"><rect fill=\"#FFFFFF\" height=\"48.2656\" id=\"E5\" rx=\"10\" ry=\"10\" style=\"stroke:#181818;stroke-width:0.5;\" width=\"42\" x=\"345.335\" y=\"288\"/><text fill=\"#000000\" font-family=\"sans-serif\" font-size=\"12\" font-style=\"italic\" lengthAdjust=\"spacing\" textLength=\"40\" x=\"346.335\" y=\"304.1387\">«part»</text><text fill=\"#000000\" font-family=\"sans-serif\" font-size=\"14\" lengthAdjust=\"spacing\" textLength=\"25\" x=\"349.835\" y=\"319.9639\">x: A</text><line style=\"stroke:#181818;stroke-width:0.5;\" x1=\"346.335\" x2=\"386.335\" y1=\"328.2656\" y2=\"328.2656\"/></g></a><!--MD5=[b9389687b975829384b498ac4b7476b2]\n",
       "class E8--><a href=\"psysml:87e3ce51-5094-4f5d-8d11-feac4ad1e872\" target=\"_top\" title=\"psysml:87e3ce51-5094-4f5d-8d11-feac4ad1e872\" xlink:actuate=\"onRequest\" xlink:href=\"psysml:87e3ce51-5094-4f5d-8d11-feac4ad1e872\" xlink:show=\"new\" xlink:title=\"psysml:87e3ce51-5094-4f5d-8d11-feac4ad1e872\" xlink:type=\"simple\"><g id=\"elem_E8\"><rect fill=\"#FFFFFF\" height=\"48.2656\" id=\"E8\" rx=\"10\" ry=\"10\" style=\"stroke:#181818;stroke-width:0.5;\" width=\"42\" x=\"185.335\" y=\"108\"/><text fill=\"#000000\" font-family=\"sans-serif\" font-size=\"12\" font-style=\"italic\" lengthAdjust=\"spacing\" textLength=\"40\" x=\"186.335\" y=\"124.1387\">«part»</text><text fill=\"#000000\" font-family=\"sans-serif\" font-size=\"14\" lengthAdjust=\"spacing\" textLength=\"27\" x=\"188.835\" y=\"139.9639\">z: B</text><line style=\"stroke:#181818;stroke-width:0.5;\" x1=\"186.335\" x2=\"226.335\" y1=\"148.2656\" y2=\"148.2656\"/></g></a><!--MD5=[09b614a08d8cba4a07c9adeb5e0fee81]\n",
       "class E3--><a href=\"psysml:5dfb8e4e-b010-43d6-9ea6-8d8096aa0cbd\" target=\"_top\" title=\"psysml:5dfb8e4e-b010-43d6-9ea6-8d8096aa0cbd\" xlink:actuate=\"onRequest\" xlink:href=\"psysml:5dfb8e4e-b010-43d6-9ea6-8d8096aa0cbd\" xlink:show=\"new\" xlink:title=\"psysml:5dfb8e4e-b010-43d6-9ea6-8d8096aa0cbd\" xlink:type=\"simple\"><g id=\"elem_E3\"><rect fill=\"#FFFFFF\" height=\"48.2656\" id=\"E3\" style=\"stroke:#181818;stroke-width:0.5;\" width=\"70\" x=\"274.335\" y=\"468\"/><text fill=\"#000000\" font-family=\"sans-serif\" font-size=\"12\" font-style=\"italic\" lengthAdjust=\"spacing\" textLength=\"68\" x=\"275.335\" y=\"484.1387\">«part  def»</text><text fill=\"#000000\" font-family=\"sans-serif\" font-size=\"14\" lengthAdjust=\"spacing\" textLength=\"9\" x=\"304.835\" y=\"499.9639\">A</text><line style=\"stroke:#181818;stroke-width:0.5;\" x1=\"275.335\" x2=\"343.335\" y1=\"508.2656\" y2=\"508.2656\"/></g></a><a href=\"psysml:6d745f5d-a6bd-48d3-bb38-b4db6224b450\" target=\"_top\" title=\"psysml:6d745f5d-a6bd-48d3-bb38-b4db6224b450\" xlink:actuate=\"onRequest\" xlink:href=\"psysml:6d745f5d-a6bd-48d3-bb38-b4db6224b450\" xlink:show=\"new\" xlink:title=\"psysml:6d745f5d-a6bd-48d3-bb38-b4db6224b450\" xlink:type=\"simple\"><polygon fill=\"#FFFFFF\" points=\"235.335,285.5,259.335,285.5,266.335,307.7969,273.335,307.7969,273.335,338.0938,235.335,338.0938,235.335,285.5\" style=\"stroke:#181818;stroke-width:0.5;\"/><line style=\"stroke:#181818;stroke-width:0.5;\" x1=\"235.335\" x2=\"266.335\" y1=\"307.7969\" y2=\"307.7969\"/><text fill=\"#000000\" font-family=\"sans-serif\" font-size=\"14\" lengthAdjust=\"spacing\" textLength=\"18\" x=\"239.335\" y=\"300.4951\">P2</text></a><!--MD5=[2156ba9850f5573cc1fc38a6a4b2f02b]\n",
       "class E7--><a href=\"psysml:05031283-db67-47ce-b074-a753e1e8519b\" target=\"_top\" title=\"psysml:05031283-db67-47ce-b074-a753e1e8519b\" xlink:actuate=\"onRequest\" xlink:href=\"psysml:05031283-db67-47ce-b074-a753e1e8519b\" xlink:show=\"new\" xlink:title=\"psysml:05031283-db67-47ce-b074-a753e1e8519b\" xlink:type=\"simple\"><g id=\"elem_E7\"><rect fill=\"#FFFFFF\" height=\"48.2656\" id=\"E7\" style=\"stroke:#181818;stroke-width:0.5;\" width=\"70\" x=\"117.335\" y=\"288\"/><text fill=\"#000000\" font-family=\"sans-serif\" font-size=\"12\" font-style=\"italic\" lengthAdjust=\"spacing\" textLength=\"68\" x=\"118.335\" y=\"304.1387\">«part  def»</text><text fill=\"#000000\" font-family=\"sans-serif\" font-size=\"14\" lengthAdjust=\"spacing\" textLength=\"10\" x=\"147.335\" y=\"319.9639\">B</text><line style=\"stroke:#181818;stroke-width:0.5;\" x1=\"118.335\" x2=\"186.335\" y1=\"328.2656\" y2=\"328.2656\"/></g></a><!--MD5=[96f4274e9e20536e775497830990834d]\n",
       "class E10--><a href=\"psysml:630baa2a-121f-4da7-a3fd-6c76e707d010\" target=\"_top\" title=\"psysml:630baa2a-121f-4da7-a3fd-6c76e707d010\" xlink:actuate=\"onRequest\" xlink:href=\"psysml:630baa2a-121f-4da7-a3fd-6c76e707d010\" xlink:show=\"new\" xlink:title=\"psysml:630baa2a-121f-4da7-a3fd-6c76e707d010\" xlink:type=\"simple\"><g id=\"elem_E10\"><rect fill=\"#FFFFFF\" height=\"48.2656\" id=\"E10\" rx=\"10\" ry=\"10\" style=\"stroke:#181818;stroke-width:0.5;\" width=\"49\" x=\"297.835\" y=\"108\"/><text fill=\"#000000\" font-family=\"sans-serif\" font-size=\"12\" font-style=\"italic\" lengthAdjust=\"spacing\" textLength=\"40\" x=\"302.335\" y=\"124.1387\">«part»</text><text fill=\"#000000\" font-family=\"sans-serif\" font-size=\"14\" lengthAdjust=\"spacing\" textLength=\"35\" x=\"300.835\" y=\"139.9639\">z1: A</text><line style=\"stroke:#181818;stroke-width:0.5;\" x1=\"298.835\" x2=\"345.835\" y1=\"148.2656\" y2=\"148.2656\"/></g></a><!--MD5=[185131fc0dcab0a4505a2ebe144e961b]\n",
       "link E4 to E2--><g id=\"link_E4_E2\"><a href=\"psysml:0487f209-9870-4837-a273-e80eaf0041e3\" target=\"_top\" title=\"psysml:0487f209-9870-4837-a273-e80eaf0041e3\" xlink:actuate=\"onRequest\" xlink:href=\"psysml:0487f209-9870-4837-a273-e80eaf0041e3\" xlink:show=\"new\" xlink:title=\"psysml:0487f209-9870-4837-a273-e80eaf0041e3\" xlink:type=\"simple\"><path d=\"M244.835,338.57 C240.375,351.9 235.565,368.61 233.335,384 C231.655,395.6 231.165,407.9706 231.3811,420.0302 C231.4081,421.5376 231.4461,423.0402 231.4943,424.5358 \" fill=\"none\" id=\"E4-to-E2\" style=\"stroke:#181818;stroke-width:1.0;stroke-dasharray:7.0,7.0;\"/><polygon fill=\"#181818\" points=\"231.4943,424.5358,235.2027,415.4118,231.3335,419.5384,227.2069,415.6691,231.4943,424.5358\" style=\"stroke:#181818;stroke-width:1.0;\"/><text fill=\"#000000\" font-family=\"sans-serif\" font-size=\"13\" lengthAdjust=\"spacing\" textLength=\"65\" x=\"234.335\" y=\"397.0669\">«import»*</text></a></g><!--MD5=[e9be52314489bd878ff4c7144b63c9e1]\n",
       "link E5 to E3--><g id=\"link_E5_E3\"><a href=\"psysml:fdb905ca-fd31-45b2-b41e-28dfb09dbd5e\" target=\"_top\" title=\"psysml:fdb905ca-fd31-45b2-b41e-28dfb09dbd5e\" xlink:actuate=\"onRequest\" xlink:href=\"psysml:fdb905ca-fd31-45b2-b41e-28dfb09dbd5e\" xlink:show=\"new\" xlink:title=\"psysml:fdb905ca-fd31-45b2-b41e-28dfb09dbd5e\" xlink:type=\"simple\"><path d=\"M358.885,336.27 C349.795,364.65 334.255,413.19 322.995,448.34 \" fill=\"none\" id=\"E5-to-E3\" style=\"stroke:#181818;stroke-width:1.0;\"/><polygon fill=\"#FFFFFF\" points=\"316.785,467.72,315.9148,447.4902,329.2475,451.7611,316.785,467.72\" style=\"stroke:#181818;stroke-width:1.0;\"/><ellipse cx=\"319.5583\" cy=\"442.6721\" fill=\"#181818\" rx=\"2\" ry=\"2\" style=\"stroke:#181818;stroke-width:1.0;\"/><ellipse cx=\"329.0817\" cy=\"445.7227\" fill=\"#181818\" rx=\"2\" ry=\"2\" style=\"stroke:#181818;stroke-width:1.0;\"/></a></g><!--MD5=[ee384bb554873b72f85793eae40e290c]\n",
       "link E1 to E4--><g id=\"link_E1_E4\"><a href=\"psysml:60fcb482-826b-48b1-b5dc-27f8a317149a\" target=\"_top\" title=\"psysml:60fcb482-826b-48b1-b5dc-27f8a317149a\" xlink:actuate=\"onRequest\" xlink:href=\"psysml:60fcb482-826b-48b1-b5dc-27f8a317149a\" xlink:show=\"new\" xlink:title=\"psysml:60fcb482-826b-48b1-b5dc-27f8a317149a\" xlink:type=\"simple\"><path d=\"M34.305,133.12 C33.645,135.64 23.485,176.19 42.335,196 C49.335,203.36 77.365,202.04 87.335,204 C100.275,206.54 192.555,221.41 203.335,229 C221.255,241.61 234.175,262.72 242.525,280.37 \" fill=\"none\" id=\"E1-to-E4\" style=\"stroke:#181818;stroke-width:1.0;stroke-dasharray:7.0,7.0;\"/><polygon fill=\"#181818\" points=\"244.755,285.24,244.6606,275.3916,242.6806,280.6906,237.3816,278.7106,244.755,285.24\" style=\"stroke:#181818;stroke-width:1.0;\"/><text fill=\"#000000\" font-family=\"sans-serif\" font-size=\"13\" lengthAdjust=\"spacing\" textLength=\"65\" x=\"176.335\" y=\"217.0669\">«import»*</text></a></g><!--MD5=[ccbd3af71bf83df0ec2a2db62d6d7130]\n",
       "link E1 to E6--><g id=\"link_E1_E6\"><a href=\"psysml:37c9a4c7-80e6-494a-a65a-d8ec35cca65c\" target=\"_top\" title=\"psysml:37c9a4c7-80e6-494a-a65a-d8ec35cca65c\" xlink:actuate=\"onRequest\" xlink:href=\"psysml:37c9a4c7-80e6-494a-a65a-d8ec35cca65c\" xlink:show=\"new\" xlink:title=\"psysml:37c9a4c7-80e6-494a-a65a-d8ec35cca65c\" xlink:type=\"simple\"><path d=\"M26.3325,146.2131 C26.1219,146.5997 25.9095,146.9932 25.6953,147.3934 C24.8388,148.9944 23.9555,150.7026 23.0641,152.5046 C21.2813,156.1085 19.4656,160.0872 17.765,164.3313 C10.9625,181.3075 6,202.53 12.335,221 C20.3,244.215 36.9725,266.0575 52.0488,282.41 C59.5869,290.5862 66.7259,297.39 72.178,302.3066 C72.8595,302.9211 73.5146,303.5062 74.1409,304.0608 \" fill=\"none\" id=\"E1-to-E6\" style=\"stroke:#181818;stroke-width:1.0;stroke-dasharray:7.0,7.0;\"/><polygon fill=\"#181818\" points=\"74.1409,304.0608,70.0549,295.0995,70.3976,300.746,64.7512,301.0887,74.1409,304.0608\" style=\"stroke:#181818;stroke-width:1.0;\"/><text fill=\"#000000\" font-family=\"sans-serif\" font-size=\"13\" lengthAdjust=\"spacing\" textLength=\"65\" x=\"13.335\" y=\"217.0669\">«import»*</text></a></g><!--MD5=[bfa3c8b0d15052fdf50ae9310b491027]\n",
       "link E8 to E7--><g id=\"link_E8_E7\"><a href=\"psysml:f605a3b7-992a-46f2-9cbf-567dae0e656e\" target=\"_top\" title=\"psysml:f605a3b7-992a-46f2-9cbf-567dae0e656e\" xlink:actuate=\"onRequest\" xlink:href=\"psysml:f605a3b7-992a-46f2-9cbf-567dae0e656e\" xlink:show=\"new\" xlink:title=\"psysml:f605a3b7-992a-46f2-9cbf-567dae0e656e\" xlink:type=\"simple\"><path d=\"M221.755,156.17 C235.785,178.66 253.075,210.85 244.335,221 C228.795,239.06 210.465,214.81 191.335,229 C178.275,238.69 169.415,253.88 163.485,268.56 \" fill=\"none\" id=\"E8-to-E7\" style=\"stroke:#181818;stroke-width:1.0;\"/><polygon fill=\"#FFFFFF\" points=\"157.085,287.71,156.4571,267.4713,169.7377,271.9015,157.085,287.71\" style=\"stroke:#181818;stroke-width:1.0;\"/><ellipse cx=\"160.1581\" cy=\"262.6971\" fill=\"#181818\" rx=\"2\" ry=\"2\" style=\"stroke:#181818;stroke-width:1.0;\"/><ellipse cx=\"169.6442\" cy=\"265.8615\" fill=\"#181818\" rx=\"2\" ry=\"2\" style=\"stroke:#181818;stroke-width:1.0;\"/></a></g><!--MD5=[c2be97adba6ddfe1c8f349fab141c927]\n",
       "link E9 to E4--><g id=\"link_E9_E4\"><a href=\"psysml:f74e7f7d-bc69-4c36-9a7b-616abfb119b1\" target=\"_top\" title=\"psysml:f74e7f7d-bc69-4c36-9a7b-616abfb119b1\" xlink:actuate=\"onRequest\" xlink:href=\"psysml:f74e7f7d-bc69-4c36-9a7b-616abfb119b1\" xlink:show=\"new\" xlink:title=\"psysml:f74e7f7d-bc69-4c36-9a7b-616abfb119b1\" xlink:type=\"simple\"><path d=\"M260.2025,180.4864 C260.1924,180.7107 260.1823,180.9354 260.1722,181.1606 C260.1318,182.0612 260.091,182.969 260.0499,183.8833 C259.9677,185.7121 259.8844,187.5673 259.8,189.445 C258.45,219.4875 256.84,255.27 255.715,280.2 \" fill=\"none\" id=\"E9-to-E4\" style=\"stroke:#181818;stroke-width:1.0;stroke-dasharray:7.0,7.0;\"/><polygon fill=\"#181818\" points=\"255.485,285.47,259.8918,276.6621,255.7133,280.4752,251.9002,276.2967,255.485,285.47\" style=\"stroke:#181818;stroke-width:1.0;\"/><text fill=\"#000000\" font-family=\"sans-serif\" font-size=\"13\" lengthAdjust=\"spacing\" textLength=\"65\" x=\"259.335\" y=\"217.0669\">«import»*</text></a></g><!--MD5=[feeac5eb423634930294aa81f2d25a4c]\n",
       "link E10 to E3--><g id=\"link_E10_E3\"><a href=\"psysml:7688159c-03f6-437a-9242-bafcaad292a9\" target=\"_top\" title=\"psysml:7688159c-03f6-437a-9242-bafcaad292a9\" xlink:actuate=\"onRequest\" xlink:href=\"psysml:7688159c-03f6-437a-9242-bafcaad292a9\" xlink:show=\"new\" xlink:title=\"psysml:7688159c-03f6-437a-9242-bafcaad292a9\" xlink:type=\"simple\"><path d=\"M344.205,156.37 C359.315,175.4 374.095,202.12 358.335,221 C345.595,236.26 327.215,213.86 314.335,229 C300.565,245.18 304.225,377.23 307.215,447.45 \" fill=\"none\" id=\"E10-to-E3\" style=\"stroke:#181818;stroke-width:1.0;\"/><polygon fill=\"#FFFFFF\" points=\"308.135,467.85,300.2734,449.19,314.2588,448.5498,308.135,467.85\" style=\"stroke:#181818;stroke-width:1.0;\"/><ellipse cx=\"302.0107\" cy=\"443.4045\" fill=\"#181818\" rx=\"2\" ry=\"2\" style=\"stroke:#181818;stroke-width:1.0;\"/><ellipse cx=\"312.0002\" cy=\"442.9472\" fill=\"#181818\" rx=\"2\" ry=\"2\" style=\"stroke:#181818;stroke-width:1.0;\"/></a></g><!--MD5=[919b3f7a086d95345a6cd4201295ac5b]\n",
       "@startuml\r\n",
       "skin sysmlbw\r\n",
       "skinparam monochrome true\r\n",
       "skinparam wrapWidth 300\r\n",
       "hide circle\r\n",
       " \r\n",
       "package \"PrivateImportTest\" as E1  [[psysml:11a30fa2-fbeb-4b2d-a071-2781e63d5a12 ]]  {\r\n",
       "package \"P1\" as E2  [[psysml:29bb8ef7-a50f-48a8-b243-dfabeed2550d ]]  {\r\n",
       "comp def \"A\" as E3  <<(T,blue) part  def>> [[psysml:5dfb8e4e-b010-43d6-9ea6-8d8096aa0cbd ]] {\r\n",
       "}\r\n",
       "}\r\n",
       "package \"P2\" as E4  [[psysml:6d745f5d-a6bd-48d3-bb38-b4db6224b450 ]]  {\r\n",
       "}\r\n",
       "comp usage \"x: A  \" as E5  <<(T,blue) part>> [[psysml:fd0b961b-4bae-44e8-b09a-9c87fac280e3 ]] {\r\n",
       "}\r\n",
       "package \"P3\" as E6  [[psysml:3afe7580-df30-4ff0-95e6-ec63d3638055 ]]  {\r\n",
       "comp def \"B\" as E7  <<(T,blue) part  def>> [[psysml:05031283-db67-47ce-b074-a753e1e8519b ]] {\r\n",
       "}\r\n",
       "}\r\n",
       "comp usage \"z: B  \" as E8  <<(T,blue) part>> [[psysml:87e3ce51-5094-4f5d-8d11-feac4ad1e872 ]] {\r\n",
       "}\r\n",
       "package \"P4\" as E9  [[psysml:a1b56716-f996-4480-88b0-3733f2d7733c ]]  {\r\n",
       "comp usage \"z1: A  \" as E10  <<(T,blue) part>> [[psysml:630baa2a-121f-4da7-a3fd-6c76e707d010 ]] {\r\n",
       "}\r\n",
       "}\r\n",
       "}\r\n",
       "E4 ..> E2 [[psysml:0487f209-9870-4837-a273-e80eaf0041e3 ]] : <<import>>*\r\n",
       "E5 - -:|> E3 [[psysml:fdb905ca-fd31-45b2-b41e-28dfb09dbd5e ]] \r\n",
       "E1 ..> E4 [[psysml:60fcb482-826b-48b1-b5dc-27f8a317149a ]] : <<import>>*\r\n",
       "E1 ..> E6 [[psysml:37c9a4c7-80e6-494a-a65a-d8ec35cca65c ]] : <<import>>*\r\n",
       "E8 - -:|> E7 [[psysml:f605a3b7-992a-46f2-9cbf-567dae0e656e ]] \r\n",
       "E9 ..> E4 [[psysml:f74e7f7d-bc69-4c36-9a7b-616abfb119b1 ]] : <<import>>*\r\n",
       "E10 - -:|> E3 [[psysml:7688159c-03f6-437a-9242-bafcaad292a9 ]] \r\n",
       "@enduml\r\n",
       "\n",
       "PlantUML version 1.2022.7(Mon Aug 22 17:01:30 UTC 2022)\n",
       "(EPL source distribution)\n",
       "Java Runtime: OpenJDK Runtime Environment\n",
       "JVM: OpenJDK 64-Bit Server VM\n",
       "Default Encoding: UTF-8\n",
       "Language: en\n",
       "Country: null\n",
       "--></g></svg>"
      ]
     },
     "execution_count": 3,
     "metadata": {},
     "output_type": "execute_result"
    }
   ],
   "source": [
    "%viz --style=\"COMPTREE\" --view=\"Tree\" \"PrivateImportTest\""
   ]
  },
  {
   "cell_type": "code",
   "execution_count": 4,
   "id": "b2728cff",
   "metadata": {
    "execution": {
     "iopub.execute_input": "2024-12-16T14:17:02.749589Z",
     "iopub.status.busy": "2024-12-16T14:17:02.749376Z",
     "iopub.status.idle": "2024-12-16T14:17:02.757109Z",
     "shell.execute_reply": "2024-12-16T14:17:02.756931Z"
    }
   },
   "outputs": [
    {
     "data": {
      "image/svg+xml": [
       "<?xml version=\"1.0\" encoding=\"UTF-8\" standalone=\"no\"?><svg xmlns=\"http://www.w3.org/2000/svg\" xmlns:xlink=\"http://www.w3.org/1999/xlink\" contentStyleType=\"text/css\" height=\"10px\" preserveAspectRatio=\"none\" style=\"width:10px;height:10px;background:#FFFFFF;\" version=\"1.1\" viewBox=\"0 0 10 10\" width=\"10px\" zoomAndPan=\"magnify\"><defs/><g><!--MD5=[ee07d3037018df61283447c7fdb4a44f]\n",
       "@startuml\r\n",
       "skin sysmlbw\r\n",
       "skinparam monochrome true\r\n",
       "skinparam wrapWidth 300\r\n",
       "hide circle\r\n",
       " \r\n",
       "@enduml\r\n",
       "\n",
       "PlantUML version 1.2022.7(Mon Aug 22 17:01:30 UTC 2022)\n",
       "(EPL source distribution)\n",
       "Java Runtime: OpenJDK Runtime Environment\n",
       "JVM: OpenJDK 64-Bit Server VM\n",
       "Default Encoding: UTF-8\n",
       "Language: en\n",
       "Country: null\n",
       "--></g></svg>"
      ]
     },
     "execution_count": 4,
     "metadata": {},
     "output_type": "execute_result"
    }
   ],
   "source": [
    "%viz --style=\"COMPTREE\" --view=\"State\" \"PrivateImportTest\""
   ]
  },
  {
   "cell_type": "code",
   "execution_count": 5,
   "id": "937547c2",
   "metadata": {
    "execution": {
     "iopub.execute_input": "2024-12-16T14:17:02.813380Z",
     "iopub.status.busy": "2024-12-16T14:17:02.813188Z",
     "iopub.status.idle": "2024-12-16T14:17:02.850154Z",
     "shell.execute_reply": "2024-12-16T14:17:02.849986Z"
    }
   },
   "outputs": [
    {
     "data": {
      "image/svg+xml": [
       "<?xml version=\"1.0\" encoding=\"UTF-8\" standalone=\"no\"?><svg xmlns=\"http://www.w3.org/2000/svg\" xmlns:xlink=\"http://www.w3.org/1999/xlink\" contentStyleType=\"text/css\" height=\"573px\" preserveAspectRatio=\"none\" style=\"width:441px;height:573px;background:#FFFFFF;\" version=\"1.1\" viewBox=\"0 0 441 573\" width=\"441px\" zoomAndPan=\"magnify\"><defs/><g><!--MD5=[fbc87193dbaf4d95561dea2c320d4a47]\n",
       "cluster E1--><g id=\"cluster_E1\"><a href=\"psysml:11a30fa2-fbeb-4b2d-a071-2781e63d5a12\" target=\"_top\" title=\"psysml:11a30fa2-fbeb-4b2d-a071-2781e63d5a12\" xlink:actuate=\"onRequest\" xlink:href=\"psysml:11a30fa2-fbeb-4b2d-a071-2781e63d5a12\" xlink:show=\"new\" xlink:title=\"psysml:11a30fa2-fbeb-4b2d-a071-2781e63d5a12\" xlink:type=\"simple\"><polygon fill=\"none\" points=\"26.14,6,160.5775,6,167.5775,28.2969,424.14,28.2969,424.14,566,26.14,566,26.14,6\" style=\"stroke:#000000;stroke-width:1.5;\"/><line style=\"stroke:#000000;stroke-width:1.5;\" x1=\"26.14\" x2=\"167.5775\" y1=\"28.2969\" y2=\"28.2969\"/><text fill=\"#000000\" font-family=\"sans-serif\" font-size=\"14\" font-weight=\"bold\" lengthAdjust=\"spacing\" textLength=\"128.4375\" x=\"30.14\" y=\"20.9951\">PrivateImportTest</text></a></g><!--MD5=[e4f7fae6ed58524ba242bb0b0d3be6b7]\n",
       "cluster E2--><g id=\"cluster_E2\"><a href=\"psysml:29bb8ef7-a50f-48a8-b243-dfabeed2550d\" target=\"_top\" title=\"psysml:29bb8ef7-a50f-48a8-b243-dfabeed2550d\" xlink:actuate=\"onRequest\" xlink:href=\"psysml:29bb8ef7-a50f-48a8-b243-dfabeed2550d\" xlink:show=\"new\" xlink:title=\"psysml:29bb8ef7-a50f-48a8-b243-dfabeed2550d\" xlink:type=\"simple\"><polygon fill=\"none\" points=\"233.14,414,258.015,414,265.015,436.2969,375.14,436.2969,375.14,526,233.14,526,233.14,414\" style=\"stroke:#000000;stroke-width:1.5;\"/><line style=\"stroke:#000000;stroke-width:1.5;\" x1=\"233.14\" x2=\"265.015\" y1=\"436.2969\" y2=\"436.2969\"/><text fill=\"#000000\" font-family=\"sans-serif\" font-size=\"14\" font-weight=\"bold\" lengthAdjust=\"spacing\" textLength=\"18.875\" x=\"237.14\" y=\"428.9951\">P1</text></a></g><!--MD5=[14e3b0961a2654348d326746436168a1]\n",
       "cluster E6--><g id=\"cluster_E6\"><a href=\"psysml:3afe7580-df30-4ff0-95e6-ec63d3638055\" target=\"_top\" title=\"psysml:3afe7580-df30-4ff0-95e6-ec63d3638055\" xlink:actuate=\"onRequest\" xlink:href=\"psysml:3afe7580-df30-4ff0-95e6-ec63d3638055\" xlink:show=\"new\" xlink:title=\"psysml:3afe7580-df30-4ff0-95e6-ec63d3638055\" xlink:type=\"simple\"><polygon fill=\"none\" points=\"74.14,237,99.015,237,106.015,259.2969,216.14,259.2969,216.14,349,74.14,349,74.14,237\" style=\"stroke:#000000;stroke-width:1.5;\"/><line style=\"stroke:#000000;stroke-width:1.5;\" x1=\"74.14\" x2=\"106.015\" y1=\"259.2969\" y2=\"259.2969\"/><text fill=\"#000000\" font-family=\"sans-serif\" font-size=\"14\" font-weight=\"bold\" lengthAdjust=\"spacing\" textLength=\"18.875\" x=\"78.14\" y=\"251.9951\">P3</text></a></g><!--MD5=[7f149f147074ac12df2cb0a7728a5fb0]\n",
       "cluster E9--><g id=\"cluster_E9\"><a href=\"psysml:a1b56716-f996-4480-88b0-3733f2d7733c\" target=\"_top\" title=\"psysml:a1b56716-f996-4480-88b0-3733f2d7733c\" xlink:actuate=\"onRequest\" xlink:href=\"psysml:a1b56716-f996-4480-88b0-3733f2d7733c\" xlink:show=\"new\" xlink:title=\"psysml:a1b56716-f996-4480-88b0-3733f2d7733c\" xlink:type=\"simple\"><polygon fill=\"none\" points=\"267.14,65,292.015,65,299.015,87.2969,384.14,87.2969,384.14,172,267.14,172,267.14,65\" style=\"stroke:#000000;stroke-width:1.5;\"/><line style=\"stroke:#000000;stroke-width:1.5;\" x1=\"267.14\" x2=\"299.015\" y1=\"87.2969\" y2=\"87.2969\"/><text fill=\"#000000\" font-family=\"sans-serif\" font-size=\"14\" font-weight=\"bold\" lengthAdjust=\"spacing\" textLength=\"18.875\" x=\"271.14\" y=\"79.9951\">P4</text></a></g><g><a href=\"psysml:5dfb8e4e-b010-43d6-9ea6-8d8096aa0cbd\" target=\"_top\" title=\"psysml:5dfb8e4e-b010-43d6-9ea6-8d8096aa0cbd\" xlink:actuate=\"onRequest\" xlink:href=\"psysml:5dfb8e4e-b010-43d6-9ea6-8d8096aa0cbd\" xlink:show=\"new\" xlink:title=\"psysml:5dfb8e4e-b010-43d6-9ea6-8d8096aa0cbd\" xlink:type=\"simple\"><rect fill=\"#FFFFFF\" height=\"45.2656\" id=\"E3\" style=\"stroke:#383838;stroke-width:1.5;\" width=\"75\" x=\"276.64\" y=\"457\"/><text fill=\"#000000\" font-family=\"sans-serif\" font-size=\"12\" font-style=\"italic\" lengthAdjust=\"spacing\" textLength=\"68\" x=\"280.14\" y=\"473.1387\">«part  def»</text><text fill=\"#000000\" font-family=\"sans-serif\" font-size=\"14\" lengthAdjust=\"spacing\" textLength=\"9\" x=\"309.64\" y=\"488.9639\">A</text></a></g><a href=\"psysml:6d745f5d-a6bd-48d3-bb38-b4db6224b450\" target=\"_top\" title=\"psysml:6d745f5d-a6bd-48d3-bb38-b4db6224b450\" xlink:actuate=\"onRequest\" xlink:href=\"psysml:6d745f5d-a6bd-48d3-bb38-b4db6224b450\" xlink:show=\"new\" xlink:title=\"psysml:6d745f5d-a6bd-48d3-bb38-b4db6224b450\" xlink:type=\"simple\"><polygon fill=\"#FFFFFF\" points=\"240.14,276,264.14,276,271.14,298.2969,278.14,298.2969,278.14,328.5938,240.14,328.5938,240.14,276\" style=\"stroke:#181818;stroke-width:0.5;\"/><line style=\"stroke:#181818;stroke-width:0.5;\" x1=\"240.14\" x2=\"271.14\" y1=\"298.2969\" y2=\"298.2969\"/><text fill=\"#000000\" font-family=\"sans-serif\" font-size=\"14\" lengthAdjust=\"spacing\" textLength=\"18\" x=\"244.14\" y=\"290.9951\">P2</text></a><g><a href=\"psysml:fd0b961b-4bae-44e8-b09a-9c87fac280e3\" target=\"_top\" title=\"psysml:fd0b961b-4bae-44e8-b09a-9c87fac280e3\" xlink:actuate=\"onRequest\" xlink:href=\"psysml:fd0b961b-4bae-44e8-b09a-9c87fac280e3\" xlink:show=\"new\" xlink:title=\"psysml:fd0b961b-4bae-44e8-b09a-9c87fac280e3\" xlink:type=\"simple\"><rect fill=\"#FFFFFF\" height=\"40\" id=\"E5\" rx=\"10\" ry=\"10\" style=\"stroke:#383838;stroke-width:1.5;\" width=\"50\" x=\"350.14\" y=\"282.5\"/><text fill=\"#000000\" font-family=\"sans-serif\" font-size=\"14\" lengthAdjust=\"spacing\" textLength=\"25\" x=\"362.64\" y=\"300.4951\">x: A</text></a></g><g><a href=\"psysml:05031283-db67-47ce-b074-a753e1e8519b\" target=\"_top\" title=\"psysml:05031283-db67-47ce-b074-a753e1e8519b\" xlink:actuate=\"onRequest\" xlink:href=\"psysml:05031283-db67-47ce-b074-a753e1e8519b\" xlink:show=\"new\" xlink:title=\"psysml:05031283-db67-47ce-b074-a753e1e8519b\" xlink:type=\"simple\"><rect fill=\"#FFFFFF\" height=\"45.2656\" id=\"E7\" style=\"stroke:#383838;stroke-width:1.5;\" width=\"75\" x=\"117.64\" y=\"280\"/><text fill=\"#000000\" font-family=\"sans-serif\" font-size=\"12\" font-style=\"italic\" lengthAdjust=\"spacing\" textLength=\"68\" x=\"121.14\" y=\"296.1387\">«part  def»</text><text fill=\"#000000\" font-family=\"sans-serif\" font-size=\"14\" lengthAdjust=\"spacing\" textLength=\"10\" x=\"150.14\" y=\"311.9639\">B</text></a></g><g><a href=\"psysml:87e3ce51-5094-4f5d-8d11-feac4ad1e872\" target=\"_top\" title=\"psysml:87e3ce51-5094-4f5d-8d11-feac4ad1e872\" xlink:actuate=\"onRequest\" xlink:href=\"psysml:87e3ce51-5094-4f5d-8d11-feac4ad1e872\" xlink:show=\"new\" xlink:title=\"psysml:87e3ce51-5094-4f5d-8d11-feac4ad1e872\" xlink:type=\"simple\"><rect fill=\"#FFFFFF\" height=\"40\" id=\"E8\" rx=\"10\" ry=\"10\" style=\"stroke:#383838;stroke-width:1.5;\" width=\"50\" x=\"190.14\" y=\"108\"/><text fill=\"#000000\" font-family=\"sans-serif\" font-size=\"14\" lengthAdjust=\"spacing\" textLength=\"27\" x=\"201.64\" y=\"125.9951\">z: B</text></a></g><g><a href=\"psysml:630baa2a-121f-4da7-a3fd-6c76e707d010\" target=\"_top\" title=\"psysml:630baa2a-121f-4da7-a3fd-6c76e707d010\" xlink:actuate=\"onRequest\" xlink:href=\"psysml:630baa2a-121f-4da7-a3fd-6c76e707d010\" xlink:show=\"new\" xlink:title=\"psysml:630baa2a-121f-4da7-a3fd-6c76e707d010\" xlink:type=\"simple\"><rect fill=\"#FFFFFF\" height=\"40\" id=\"E10\" rx=\"10\" ry=\"10\" style=\"stroke:#383838;stroke-width:1.5;\" width=\"50\" x=\"310.14\" y=\"108\"/><text fill=\"#000000\" font-family=\"sans-serif\" font-size=\"14\" lengthAdjust=\"spacing\" textLength=\"35\" x=\"317.64\" y=\"125.9951\">z1: A</text></a></g><!--MD5=[185131fc0dcab0a4505a2ebe144e961b]\n",
       "link E4 to E2--><g id=\"link_E4_E2\"><a href=\"psysml:0487f209-9870-4837-a273-e80eaf0041e3\" target=\"_top\" title=\"psysml:0487f209-9870-4837-a273-e80eaf0041e3\" xlink:actuate=\"onRequest\" xlink:href=\"psysml:0487f209-9870-4837-a273-e80eaf0041e3\" xlink:show=\"new\" xlink:title=\"psysml:0487f209-9870-4837-a273-e80eaf0041e3\" xlink:type=\"simple\"><path d=\"M249.42,329.16 C245.02,342.1 240.33,358.16 238.14,373 C236.4525,384.42 235.7775,396.6088 235.7188,408.4963 C235.7114,409.9822 235.7137,411.4634 235.7248,412.9379 C235.7262,413.1222 235.7278,413.3064 235.7294,413.4904 \" fill=\"none\" id=\"E4-to-E2\" style=\"stroke:#181818;stroke-width:1.0;stroke-dasharray:7.0,7.0;\"/><polygon fill=\"#181818\" points=\"235.7294,413.4904,239.6477,404.4546,235.6841,408.4906,231.6481,404.527,235.7294,413.4904\" style=\"stroke:#181818;stroke-width:1.0;\"/><text fill=\"#000000\" font-family=\"sans-serif\" font-size=\"13\" lengthAdjust=\"spacing\" textLength=\"65\" x=\"239.14\" y=\"386.0669\">«import»*</text></a></g><!--MD5=[e9be52314489bd878ff4c7144b63c9e1]\n",
       "link E5 to E3--><g id=\"link_E5_E3\"><a href=\"psysml:fdb905ca-fd31-45b2-b41e-28dfb09dbd5e\" target=\"_top\" title=\"psysml:fdb905ca-fd31-45b2-b41e-28dfb09dbd5e\" xlink:actuate=\"onRequest\" xlink:href=\"psysml:fdb905ca-fd31-45b2-b41e-28dfb09dbd5e\" xlink:show=\"new\" xlink:title=\"psysml:fdb905ca-fd31-45b2-b41e-28dfb09dbd5e\" xlink:type=\"simple\"><path d=\"M368.5,322.56 C358.92,350.02 341.01,401.4 328.37,437.67 \" fill=\"none\" id=\"E5-to-E3\" style=\"stroke:#181818;stroke-width:1.0;\"/><polygon fill=\"#FFFFFF\" points=\"321.73,456.73,321.3764,436.4846,334.5958,441.0944,321.73,456.73\" style=\"stroke:#181818;stroke-width:1.0;\"/><ellipse cx=\"325.1418\" cy=\"431.761\" fill=\"#181818\" rx=\"2\" ry=\"2\" style=\"stroke:#181818;stroke-width:1.0;\"/><ellipse cx=\"334.5841\" cy=\"435.0537\" fill=\"#181818\" rx=\"2\" ry=\"2\" style=\"stroke:#181818;stroke-width:1.0;\"/></a></g><!--MD5=[ee384bb554873b72f85793eae40e290c]\n",
       "link E1 to E4--><g id=\"link_E1_E4\"><a href=\"psysml:60fcb482-826b-48b1-b5dc-27f8a317149a\" target=\"_top\" title=\"psysml:60fcb482-826b-48b1-b5dc-27f8a317149a\" xlink:actuate=\"onRequest\" xlink:href=\"psysml:60fcb482-826b-48b1-b5dc-27f8a317149a\" xlink:show=\"new\" xlink:title=\"psysml:60fcb482-826b-48b1-b5dc-27f8a317149a\" xlink:type=\"simple\"><path d=\"M34.11,129.12 C33.52,131.47 24.39,169.5 42.14,188 C49.17,195.33 77.17,194.08 87.14,196 C114.1,201.18 185.56,205.39 208.14,221 C225.8,233.21 238.67,253.73 247.06,271 \" fill=\"none\" id=\"E1-to-E4\" style=\"stroke:#181818;stroke-width:1.0;stroke-dasharray:7.0,7.0;\"/><polygon fill=\"#181818\" points=\"249.3,275.78,249.0916,265.9333,247.1731,271.2549,241.8515,269.3364,249.3,275.78\" style=\"stroke:#181818;stroke-width:1.0;\"/><text fill=\"#000000\" font-family=\"sans-serif\" font-size=\"13\" lengthAdjust=\"spacing\" textLength=\"65\" x=\"190.14\" y=\"209.0669\">«import»*</text></a></g><!--MD5=[ccbd3af71bf83df0ec2a2db62d6d7130]\n",
       "link E1 to E6--><g id=\"link_E1_E6\"><a href=\"psysml:37c9a4c7-80e6-494a-a65a-d8ec35cca65c\" target=\"_top\" title=\"psysml:37c9a4c7-80e6-494a-a65a-d8ec35cca65c\" xlink:actuate=\"onRequest\" xlink:href=\"psysml:37c9a4c7-80e6-494a-a65a-d8ec35cca65c\" xlink:show=\"new\" xlink:title=\"psysml:37c9a4c7-80e6-494a-a65a-d8ec35cca65c\" xlink:type=\"simple\"><path d=\"M26.0665,141.8795 C26.0141,141.9725 25.9616,142.066 25.909,142.1598 C25.8039,142.3474 25.6982,142.5367 25.5922,142.7275 C24.7438,144.2545 23.8687,145.8839 22.9851,147.6028 C21.218,151.0407 19.4169,154.8366 17.7275,158.8863 C10.97,175.085 6,195.345 12.14,213 C20.115,235.945 36.7875,257.425 51.8613,273.4762 C59.3981,281.5019 66.5353,288.1703 71.9858,292.9861 C72.6671,293.5881 73.322,294.1611 73.9481,294.7042 \" fill=\"none\" id=\"E1-to-E6\" style=\"stroke:#181818;stroke-width:1.0;stroke-dasharray:7.0,7.0;\"/><polygon fill=\"#181818\" points=\"73.9481,294.7042,69.7707,285.7852,70.1712,291.4278,64.5285,291.8283,73.9481,294.7042\" style=\"stroke:#181818;stroke-width:1.0;\"/><text fill=\"#000000\" font-family=\"sans-serif\" font-size=\"13\" lengthAdjust=\"spacing\" textLength=\"65\" x=\"13.14\" y=\"209.0669\">«import»*</text></a></g><!--MD5=[bfa3c8b0d15052fdf50ae9310b491027]\n",
       "link E8 to E7--><g id=\"link_E8_E7\"><a href=\"psysml:f605a3b7-992a-46f2-9cbf-567dae0e656e\" target=\"_top\" title=\"psysml:f605a3b7-992a-46f2-9cbf-567dae0e656e\" xlink:actuate=\"onRequest\" xlink:href=\"psysml:f605a3b7-992a-46f2-9cbf-567dae0e656e\" xlink:show=\"new\" xlink:title=\"psysml:f605a3b7-992a-46f2-9cbf-567dae0e656e\" xlink:type=\"simple\"><path d=\"M231.55,148.32 C245.13,166.74 259.86,194.37 244.14,213 C230.47,229.19 214.27,208.53 197.14,221 C183.73,230.76 174.25,246.09 167.74,260.76 \" fill=\"none\" id=\"E8-to-E7\" style=\"stroke:#181818;stroke-width:1.0;\"/><polygon fill=\"#FFFFFF\" points=\"160.6,279.79,160.7221,259.5419,173.8295,264.4609,160.6,279.79\" style=\"stroke:#181818;stroke-width:1.0;\"/><ellipse cx=\"164.5973\" cy=\"254.9081\" fill=\"#181818\" rx=\"2\" ry=\"2\" style=\"stroke:#181818;stroke-width:1.0;\"/><ellipse cx=\"173.9598\" cy=\"258.4216\" fill=\"#181818\" rx=\"2\" ry=\"2\" style=\"stroke:#181818;stroke-width:1.0;\"/></a></g><!--MD5=[c2be97adba6ddfe1c8f349fab141c927]\n",
       "link E9 to E4--><g id=\"link_E9_E4\"><a href=\"psysml:f74e7f7d-bc69-4c36-9a7b-616abfb119b1\" target=\"_top\" title=\"psysml:f74e7f7d-bc69-4c36-9a7b-616abfb119b1\" xlink:actuate=\"onRequest\" xlink:href=\"psysml:f74e7f7d-bc69-4c36-9a7b-616abfb119b1\" xlink:show=\"new\" xlink:title=\"psysml:f74e7f7d-bc69-4c36-9a7b-616abfb119b1\" xlink:type=\"simple\"><path d=\"M272.4084,172.0708 C272.378,172.4836 272.3474,172.8966 272.3166,173.3097 C272.1934,174.9624 272.0675,176.6169 271.939,178.2647 C271.682,181.5603 271.415,184.8288 271.14,188 C268.7,216.08 265.27,248 262.7,270.82 \" fill=\"none\" id=\"E9-to-E4\" style=\"stroke:#181818;stroke-width:1.0;stroke-dasharray:7.0,7.0;\"/><polygon fill=\"#181818\" points=\"262.13,275.83,267.1102,267.3331,262.6884,270.8613,259.1602,266.4396,262.13,275.83\" style=\"stroke:#181818;stroke-width:1.0;\"/><text fill=\"#000000\" font-family=\"sans-serif\" font-size=\"13\" lengthAdjust=\"spacing\" textLength=\"65\" x=\"271.14\" y=\"209.0669\">«import»*</text></a></g><!--MD5=[feeac5eb423634930294aa81f2d25a4c]\n",
       "link E10 to E3--><g id=\"link_E10_E3\"><a href=\"psysml:7688159c-03f6-437a-9242-bafcaad292a9\" target=\"_top\" title=\"psysml:7688159c-03f6-437a-9242-bafcaad292a9\" xlink:actuate=\"onRequest\" xlink:href=\"psysml:7688159c-03f6-437a-9242-bafcaad292a9\" xlink:show=\"new\" xlink:title=\"psysml:7688159c-03f6-437a-9242-bafcaad292a9\" xlink:type=\"simple\"><path d=\"M349.09,148.02 C360.78,166.48 373.34,194.37 358.14,213 C346.96,226.71 330.46,207.4 319.14,221 C305.75,237.09 309.28,367.45 312.13,436.28 \" fill=\"none\" id=\"E10-to-E3\" style=\"stroke:#181818;stroke-width:1.0;\"/><polygon fill=\"#FFFFFF\" points=\"313.03,456.62,305.1951,437.9488,319.1813,437.3285,313.03,456.62\" style=\"stroke:#181818;stroke-width:1.0;\"/><ellipse cx=\"306.9406\" cy=\"432.1658\" fill=\"#181818\" rx=\"2\" ry=\"2\" style=\"stroke:#181818;stroke-width:1.0;\"/><ellipse cx=\"316.9307\" cy=\"431.7227\" fill=\"#181818\" rx=\"2\" ry=\"2\" style=\"stroke:#181818;stroke-width:1.0;\"/></a></g><!--MD5=[a198cc773d4881356d6f1877989c5e7a]\n",
       "@startuml\r\n",
       "skin sysmlbw\r\n",
       "skinparam monochrome true\r\n",
       "skinparam wrapWidth 300\r\n",
       "hide circle\r\n",
       " skinparam ranksep 10\r\n",
       "skinparam rectangle {\r\n",
       " backgroundColor<<block>> LightGreen\r\n",
       "}\r\n",
       "\r\n",
       "package \"PrivateImportTest\" as E1  [[psysml:11a30fa2-fbeb-4b2d-a071-2781e63d5a12 ]]  {\r\n",
       "package \"P1\" as E2  [[psysml:29bb8ef7-a50f-48a8-b243-dfabeed2550d ]]  {\r\n",
       "rec def \"A\" as E3  <<(T,blue) part  def>> [[psysml:5dfb8e4e-b010-43d6-9ea6-8d8096aa0cbd ]] {\r\n",
       "}\r\n",
       "}\r\n",
       "package \"P2\" as E4  [[psysml:6d745f5d-a6bd-48d3-bb38-b4db6224b450 ]]  {\r\n",
       "}\r\n",
       "rec usage \"x: A\" as E5 [[psysml:fd0b961b-4bae-44e8-b09a-9c87fac280e3 ]] {\r\n",
       "}\r\n",
       "package \"P3\" as E6  [[psysml:3afe7580-df30-4ff0-95e6-ec63d3638055 ]]  {\r\n",
       "rec def \"B\" as E7  <<(T,blue) part  def>> [[psysml:05031283-db67-47ce-b074-a753e1e8519b ]] {\r\n",
       "}\r\n",
       "}\r\n",
       "rec usage \"z: B\" as E8 [[psysml:87e3ce51-5094-4f5d-8d11-feac4ad1e872 ]] {\r\n",
       "}\r\n",
       "package \"P4\" as E9  [[psysml:a1b56716-f996-4480-88b0-3733f2d7733c ]]  {\r\n",
       "rec usage \"z1: A\" as E10 [[psysml:630baa2a-121f-4da7-a3fd-6c76e707d010 ]] {\r\n",
       "}\r\n",
       "}\r\n",
       "}\r\n",
       "E4 ..> E2 [[psysml:0487f209-9870-4837-a273-e80eaf0041e3 ]] : <<import>>*\r\n",
       "E5 - -:|> E3 [[psysml:fdb905ca-fd31-45b2-b41e-28dfb09dbd5e ]] \r\n",
       "E1 ..> E4 [[psysml:60fcb482-826b-48b1-b5dc-27f8a317149a ]] : <<import>>*\r\n",
       "E1 ..> E6 [[psysml:37c9a4c7-80e6-494a-a65a-d8ec35cca65c ]] : <<import>>*\r\n",
       "E8 - -:|> E7 [[psysml:f605a3b7-992a-46f2-9cbf-567dae0e656e ]] \r\n",
       "E9 ..> E4 [[psysml:f74e7f7d-bc69-4c36-9a7b-616abfb119b1 ]] : <<import>>*\r\n",
       "E10 - -:|> E3 [[psysml:7688159c-03f6-437a-9242-bafcaad292a9 ]] \r\n",
       "@enduml\r\n",
       "\n",
       "PlantUML version 1.2022.7(Mon Aug 22 17:01:30 UTC 2022)\n",
       "(EPL source distribution)\n",
       "Java Runtime: OpenJDK Runtime Environment\n",
       "JVM: OpenJDK 64-Bit Server VM\n",
       "Default Encoding: UTF-8\n",
       "Language: en\n",
       "Country: null\n",
       "--></g></svg>"
      ]
     },
     "execution_count": 5,
     "metadata": {},
     "output_type": "execute_result"
    }
   ],
   "source": [
    "%viz --style=\"COMPTREE\" --view=\"Interconnection\" \"PrivateImportTest\""
   ]
  },
  {
   "cell_type": "code",
   "execution_count": 6,
   "id": "0c5bb3ee",
   "metadata": {
    "execution": {
     "iopub.execute_input": "2024-12-16T14:17:02.906524Z",
     "iopub.status.busy": "2024-12-16T14:17:02.906297Z",
     "iopub.status.idle": "2024-12-16T14:17:02.913138Z",
     "shell.execute_reply": "2024-12-16T14:17:02.912947Z"
    }
   },
   "outputs": [
    {
     "data": {
      "image/svg+xml": [
       "<?xml version=\"1.0\" encoding=\"UTF-8\" standalone=\"no\"?><svg xmlns=\"http://www.w3.org/2000/svg\" xmlns:xlink=\"http://www.w3.org/1999/xlink\" contentStyleType=\"text/css\" height=\"10px\" preserveAspectRatio=\"none\" style=\"width:10px;height:10px;background:#FFFFFF;\" version=\"1.1\" viewBox=\"0 0 10 10\" width=\"10px\" zoomAndPan=\"magnify\"><defs/><g><!--MD5=[042b5323e4810735e2315f6f99dad39e]\n",
       "@startuml\r\n",
       "skin sysmlbw\r\n",
       "skinparam monochrome true\r\n",
       "skinparam wrapWidth 300\r\n",
       "hide circle\r\n",
       " skinparam ranksep 8\r\n",
       "\r\n",
       "@enduml\r\n",
       "\n",
       "PlantUML version 1.2022.7(Mon Aug 22 17:01:30 UTC 2022)\n",
       "(EPL source distribution)\n",
       "Java Runtime: OpenJDK Runtime Environment\n",
       "JVM: OpenJDK 64-Bit Server VM\n",
       "Default Encoding: UTF-8\n",
       "Language: en\n",
       "Country: null\n",
       "--></g></svg>"
      ]
     },
     "execution_count": 6,
     "metadata": {},
     "output_type": "execute_result"
    }
   ],
   "source": [
    "%viz --style=\"COMPTREE\" --view=\"Action\" \"PrivateImportTest\""
   ]
  },
  {
   "cell_type": "code",
   "execution_count": 7,
   "id": "b66fe459",
   "metadata": {
    "execution": {
     "iopub.execute_input": "2024-12-16T14:17:02.965903Z",
     "iopub.status.busy": "2024-12-16T14:17:02.965689Z",
     "iopub.status.idle": "2024-12-16T14:17:02.977933Z",
     "shell.execute_reply": "2024-12-16T14:17:02.977651Z"
    }
   },
   "outputs": [
    {
     "data": {
      "image/svg+xml": [
       "<?xml version=\"1.0\" encoding=\"UTF-8\" standalone=\"no\"?><svg xmlns=\"http://www.w3.org/2000/svg\" xmlns:xlink=\"http://www.w3.org/1999/xlink\" contentStyleType=\"text/css\" height=\"10px\" preserveAspectRatio=\"none\" style=\"width:10px;height:10px;background:#FFFFFF;\" version=\"1.1\" viewBox=\"0 0 10 10\" width=\"10px\" zoomAndPan=\"magnify\"><defs/><g><!--MD5=[f5e9abf0a6c8dccaf40d0172f495ca0b]\n",
       "@startuml\r\n",
       "skin sysmlbw\r\n",
       "skinparam monochrome true\r\n",
       "skinparam wrapWidth 300\r\n",
       "hide circle\r\n",
       " skinparam roundcorner 20\r\n",
       "skinparam BoxPadding 20\r\n",
       "skinparam SequenceBoxBackgroundColor #white\r\n",
       "skinparam style strictuml\r\n",
       "skinparam maxMessageSize 100\r\n",
       "\r\n",
       "@enduml\r\n",
       "\n",
       "PlantUML version 1.2022.7(Mon Aug 22 17:01:30 UTC 2022)\n",
       "(EPL source distribution)\n",
       "Java Runtime: OpenJDK Runtime Environment\n",
       "JVM: OpenJDK 64-Bit Server VM\n",
       "Default Encoding: UTF-8\n",
       "Language: en\n",
       "Country: null\n",
       "--></g></svg>"
      ]
     },
     "execution_count": 7,
     "metadata": {},
     "output_type": "execute_result"
    }
   ],
   "source": [
    "%viz --style=\"COMPTREE\" --view=\"Sequence\" \"PrivateImportTest\""
   ]
  },
  {
   "cell_type": "code",
   "execution_count": 8,
   "id": "88963146",
   "metadata": {
    "execution": {
     "iopub.execute_input": "2024-12-16T14:17:03.033950Z",
     "iopub.status.busy": "2024-12-16T14:17:03.033720Z",
     "iopub.status.idle": "2024-12-16T14:17:03.068507Z",
     "shell.execute_reply": "2024-12-16T14:17:03.067371Z"
    }
   },
   "outputs": [
    {
     "data": {
      "image/svg+xml": [
       "<?xml version=\"1.0\" encoding=\"UTF-8\" standalone=\"no\"?><svg xmlns=\"http://www.w3.org/2000/svg\" xmlns:xlink=\"http://www.w3.org/1999/xlink\" contentStyleType=\"text/css\" height=\"587px\" preserveAspectRatio=\"none\" style=\"width:428px;height:587px;background:#FFFFFF;\" version=\"1.1\" viewBox=\"0 0 428 587\" width=\"428px\" zoomAndPan=\"magnify\"><defs/><g><!--MD5=[fbc87193dbaf4d95561dea2c320d4a47]\n",
       "cluster E1--><g id=\"cluster_E1\"><a href=\"psysml:11a30fa2-fbeb-4b2d-a071-2781e63d5a12\" target=\"_top\" title=\"psysml:11a30fa2-fbeb-4b2d-a071-2781e63d5a12\" xlink:actuate=\"onRequest\" xlink:href=\"psysml:11a30fa2-fbeb-4b2d-a071-2781e63d5a12\" xlink:show=\"new\" xlink:title=\"psysml:11a30fa2-fbeb-4b2d-a071-2781e63d5a12\" xlink:type=\"simple\"><polygon fill=\"none\" points=\"26.335,6,160.7725,6,167.7725,28.2969,411.335,28.2969,411.335,580,26.335,580,26.335,6\" style=\"stroke:#000000;stroke-width:1.5;\"/><line style=\"stroke:#000000;stroke-width:1.5;\" x1=\"26.335\" x2=\"167.7725\" y1=\"28.2969\" y2=\"28.2969\"/><text fill=\"#000000\" font-family=\"sans-serif\" font-size=\"14\" font-weight=\"bold\" lengthAdjust=\"spacing\" textLength=\"128.4375\" x=\"30.335\" y=\"20.9951\">PrivateImportTest</text></a></g><!--MD5=[e4f7fae6ed58524ba242bb0b0d3be6b7]\n",
       "cluster E2--><g id=\"cluster_E2\"><a href=\"psysml:29bb8ef7-a50f-48a8-b243-dfabeed2550d\" target=\"_top\" title=\"psysml:29bb8ef7-a50f-48a8-b243-dfabeed2550d\" xlink:actuate=\"onRequest\" xlink:href=\"psysml:29bb8ef7-a50f-48a8-b243-dfabeed2550d\" xlink:show=\"new\" xlink:title=\"psysml:29bb8ef7-a50f-48a8-b243-dfabeed2550d\" xlink:type=\"simple\"><polygon fill=\"none\" points=\"231.335,425,256.21,425,263.21,447.2969,368.335,447.2969,368.335,540,231.335,540,231.335,425\" style=\"stroke:#000000;stroke-width:1.5;\"/><line style=\"stroke:#000000;stroke-width:1.5;\" x1=\"231.335\" x2=\"263.21\" y1=\"447.2969\" y2=\"447.2969\"/><text fill=\"#000000\" font-family=\"sans-serif\" font-size=\"14\" font-weight=\"bold\" lengthAdjust=\"spacing\" textLength=\"18.875\" x=\"235.335\" y=\"439.9951\">P1</text></a></g><!--MD5=[14e3b0961a2654348d326746436168a1]\n",
       "cluster E6--><g id=\"cluster_E6\"><a href=\"psysml:3afe7580-df30-4ff0-95e6-ec63d3638055\" target=\"_top\" title=\"psysml:3afe7580-df30-4ff0-95e6-ec63d3638055\" xlink:actuate=\"onRequest\" xlink:href=\"psysml:3afe7580-df30-4ff0-95e6-ec63d3638055\" xlink:show=\"new\" xlink:title=\"psysml:3afe7580-df30-4ff0-95e6-ec63d3638055\" xlink:type=\"simple\"><polygon fill=\"none\" points=\"74.335,245,99.21,245,106.21,267.2969,211.335,267.2969,211.335,360,74.335,360,74.335,245\" style=\"stroke:#000000;stroke-width:1.5;\"/><line style=\"stroke:#000000;stroke-width:1.5;\" x1=\"74.335\" x2=\"106.21\" y1=\"267.2969\" y2=\"267.2969\"/><text fill=\"#000000\" font-family=\"sans-serif\" font-size=\"14\" font-weight=\"bold\" lengthAdjust=\"spacing\" textLength=\"18.875\" x=\"78.335\" y=\"259.9951\">P3</text></a></g><!--MD5=[7f149f147074ac12df2cb0a7728a5fb0]\n",
       "cluster E9--><g id=\"cluster_E9\"><a href=\"psysml:a1b56716-f996-4480-88b0-3733f2d7733c\" target=\"_top\" title=\"psysml:a1b56716-f996-4480-88b0-3733f2d7733c\" xlink:actuate=\"onRequest\" xlink:href=\"psysml:a1b56716-f996-4480-88b0-3733f2d7733c\" xlink:show=\"new\" xlink:title=\"psysml:a1b56716-f996-4480-88b0-3733f2d7733c\" xlink:type=\"simple\"><polygon fill=\"none\" points=\"254.335,65,279.21,65,286.21,87.2969,371.335,87.2969,371.335,180,254.335,180,254.335,65\" style=\"stroke:#000000;stroke-width:1.5;\"/><line style=\"stroke:#000000;stroke-width:1.5;\" x1=\"254.335\" x2=\"286.21\" y1=\"87.2969\" y2=\"87.2969\"/><text fill=\"#000000\" font-family=\"sans-serif\" font-size=\"14\" font-weight=\"bold\" lengthAdjust=\"spacing\" textLength=\"18.875\" x=\"258.335\" y=\"79.9951\">P4</text></a></g><!--MD5=[270fce915f116d4de14055a7c1d9a0f3]\n",
       "class E5--><a href=\"psysml:fd0b961b-4bae-44e8-b09a-9c87fac280e3\" target=\"_top\" title=\"psysml:fd0b961b-4bae-44e8-b09a-9c87fac280e3\" xlink:actuate=\"onRequest\" xlink:href=\"psysml:fd0b961b-4bae-44e8-b09a-9c87fac280e3\" xlink:show=\"new\" xlink:title=\"psysml:fd0b961b-4bae-44e8-b09a-9c87fac280e3\" xlink:type=\"simple\"><g id=\"elem_E5\"><rect fill=\"#FFFFFF\" height=\"48.2656\" id=\"E5\" rx=\"10\" ry=\"10\" style=\"stroke:#181818;stroke-width:0.5;\" width=\"42\" x=\"345.335\" y=\"288\"/><text fill=\"#000000\" font-family=\"sans-serif\" font-size=\"12\" font-style=\"italic\" lengthAdjust=\"spacing\" textLength=\"40\" x=\"346.335\" y=\"304.1387\">«part»</text><text fill=\"#000000\" font-family=\"sans-serif\" font-size=\"14\" lengthAdjust=\"spacing\" textLength=\"25\" x=\"349.835\" y=\"319.9639\">x: A</text><line style=\"stroke:#181818;stroke-width:0.5;\" x1=\"346.335\" x2=\"386.335\" y1=\"328.2656\" y2=\"328.2656\"/></g></a><!--MD5=[b9389687b975829384b498ac4b7476b2]\n",
       "class E8--><a href=\"psysml:87e3ce51-5094-4f5d-8d11-feac4ad1e872\" target=\"_top\" title=\"psysml:87e3ce51-5094-4f5d-8d11-feac4ad1e872\" xlink:actuate=\"onRequest\" xlink:href=\"psysml:87e3ce51-5094-4f5d-8d11-feac4ad1e872\" xlink:show=\"new\" xlink:title=\"psysml:87e3ce51-5094-4f5d-8d11-feac4ad1e872\" xlink:type=\"simple\"><g id=\"elem_E8\"><rect fill=\"#FFFFFF\" height=\"48.2656\" id=\"E8\" rx=\"10\" ry=\"10\" style=\"stroke:#181818;stroke-width:0.5;\" width=\"42\" x=\"185.335\" y=\"108\"/><text fill=\"#000000\" font-family=\"sans-serif\" font-size=\"12\" font-style=\"italic\" lengthAdjust=\"spacing\" textLength=\"40\" x=\"186.335\" y=\"124.1387\">«part»</text><text fill=\"#000000\" font-family=\"sans-serif\" font-size=\"14\" lengthAdjust=\"spacing\" textLength=\"27\" x=\"188.835\" y=\"139.9639\">z: B</text><line style=\"stroke:#181818;stroke-width:0.5;\" x1=\"186.335\" x2=\"226.335\" y1=\"148.2656\" y2=\"148.2656\"/></g></a><!--MD5=[09b614a08d8cba4a07c9adeb5e0fee81]\n",
       "class E3--><a href=\"psysml:5dfb8e4e-b010-43d6-9ea6-8d8096aa0cbd\" target=\"_top\" title=\"psysml:5dfb8e4e-b010-43d6-9ea6-8d8096aa0cbd\" xlink:actuate=\"onRequest\" xlink:href=\"psysml:5dfb8e4e-b010-43d6-9ea6-8d8096aa0cbd\" xlink:show=\"new\" xlink:title=\"psysml:5dfb8e4e-b010-43d6-9ea6-8d8096aa0cbd\" xlink:type=\"simple\"><g id=\"elem_E3\"><rect fill=\"#FFFFFF\" height=\"48.2656\" id=\"E3\" style=\"stroke:#181818;stroke-width:0.5;\" width=\"70\" x=\"274.335\" y=\"468\"/><text fill=\"#000000\" font-family=\"sans-serif\" font-size=\"12\" font-style=\"italic\" lengthAdjust=\"spacing\" textLength=\"68\" x=\"275.335\" y=\"484.1387\">«part  def»</text><text fill=\"#000000\" font-family=\"sans-serif\" font-size=\"14\" lengthAdjust=\"spacing\" textLength=\"9\" x=\"304.835\" y=\"499.9639\">A</text><line style=\"stroke:#181818;stroke-width:0.5;\" x1=\"275.335\" x2=\"343.335\" y1=\"508.2656\" y2=\"508.2656\"/></g></a><a href=\"psysml:6d745f5d-a6bd-48d3-bb38-b4db6224b450\" target=\"_top\" title=\"psysml:6d745f5d-a6bd-48d3-bb38-b4db6224b450\" xlink:actuate=\"onRequest\" xlink:href=\"psysml:6d745f5d-a6bd-48d3-bb38-b4db6224b450\" xlink:show=\"new\" xlink:title=\"psysml:6d745f5d-a6bd-48d3-bb38-b4db6224b450\" xlink:type=\"simple\"><polygon fill=\"#FFFFFF\" points=\"235.335,285.5,259.335,285.5,266.335,307.7969,273.335,307.7969,273.335,338.0938,235.335,338.0938,235.335,285.5\" style=\"stroke:#181818;stroke-width:0.5;\"/><line style=\"stroke:#181818;stroke-width:0.5;\" x1=\"235.335\" x2=\"266.335\" y1=\"307.7969\" y2=\"307.7969\"/><text fill=\"#000000\" font-family=\"sans-serif\" font-size=\"14\" lengthAdjust=\"spacing\" textLength=\"18\" x=\"239.335\" y=\"300.4951\">P2</text></a><!--MD5=[2156ba9850f5573cc1fc38a6a4b2f02b]\n",
       "class E7--><a href=\"psysml:05031283-db67-47ce-b074-a753e1e8519b\" target=\"_top\" title=\"psysml:05031283-db67-47ce-b074-a753e1e8519b\" xlink:actuate=\"onRequest\" xlink:href=\"psysml:05031283-db67-47ce-b074-a753e1e8519b\" xlink:show=\"new\" xlink:title=\"psysml:05031283-db67-47ce-b074-a753e1e8519b\" xlink:type=\"simple\"><g id=\"elem_E7\"><rect fill=\"#FFFFFF\" height=\"48.2656\" id=\"E7\" style=\"stroke:#181818;stroke-width:0.5;\" width=\"70\" x=\"117.335\" y=\"288\"/><text fill=\"#000000\" font-family=\"sans-serif\" font-size=\"12\" font-style=\"italic\" lengthAdjust=\"spacing\" textLength=\"68\" x=\"118.335\" y=\"304.1387\">«part  def»</text><text fill=\"#000000\" font-family=\"sans-serif\" font-size=\"14\" lengthAdjust=\"spacing\" textLength=\"10\" x=\"147.335\" y=\"319.9639\">B</text><line style=\"stroke:#181818;stroke-width:0.5;\" x1=\"118.335\" x2=\"186.335\" y1=\"328.2656\" y2=\"328.2656\"/></g></a><!--MD5=[96f4274e9e20536e775497830990834d]\n",
       "class E10--><a href=\"psysml:630baa2a-121f-4da7-a3fd-6c76e707d010\" target=\"_top\" title=\"psysml:630baa2a-121f-4da7-a3fd-6c76e707d010\" xlink:actuate=\"onRequest\" xlink:href=\"psysml:630baa2a-121f-4da7-a3fd-6c76e707d010\" xlink:show=\"new\" xlink:title=\"psysml:630baa2a-121f-4da7-a3fd-6c76e707d010\" xlink:type=\"simple\"><g id=\"elem_E10\"><rect fill=\"#FFFFFF\" height=\"48.2656\" id=\"E10\" rx=\"10\" ry=\"10\" style=\"stroke:#181818;stroke-width:0.5;\" width=\"49\" x=\"297.835\" y=\"108\"/><text fill=\"#000000\" font-family=\"sans-serif\" font-size=\"12\" font-style=\"italic\" lengthAdjust=\"spacing\" textLength=\"40\" x=\"302.335\" y=\"124.1387\">«part»</text><text fill=\"#000000\" font-family=\"sans-serif\" font-size=\"14\" lengthAdjust=\"spacing\" textLength=\"35\" x=\"300.835\" y=\"139.9639\">z1: A</text><line style=\"stroke:#181818;stroke-width:0.5;\" x1=\"298.835\" x2=\"345.835\" y1=\"148.2656\" y2=\"148.2656\"/></g></a><!--MD5=[185131fc0dcab0a4505a2ebe144e961b]\n",
       "link E4 to E2--><g id=\"link_E4_E2\"><a href=\"psysml:0487f209-9870-4837-a273-e80eaf0041e3\" target=\"_top\" title=\"psysml:0487f209-9870-4837-a273-e80eaf0041e3\" xlink:actuate=\"onRequest\" xlink:href=\"psysml:0487f209-9870-4837-a273-e80eaf0041e3\" xlink:show=\"new\" xlink:title=\"psysml:0487f209-9870-4837-a273-e80eaf0041e3\" xlink:type=\"simple\"><path d=\"M244.835,338.57 C240.375,351.9 235.565,368.61 233.335,384 C231.655,395.6 231.165,407.9706 231.3811,420.0302 C231.4081,421.5376 231.4461,423.0402 231.4943,424.5358 \" fill=\"none\" id=\"E4-to-E2\" style=\"stroke:#181818;stroke-width:1.0;stroke-dasharray:7.0,7.0;\"/><polygon fill=\"#181818\" points=\"231.4943,424.5358,235.2027,415.4118,231.3335,419.5384,227.2069,415.6691,231.4943,424.5358\" style=\"stroke:#181818;stroke-width:1.0;\"/><text fill=\"#000000\" font-family=\"sans-serif\" font-size=\"13\" lengthAdjust=\"spacing\" textLength=\"65\" x=\"234.335\" y=\"397.0669\">«import»*</text></a></g><!--MD5=[e9be52314489bd878ff4c7144b63c9e1]\n",
       "link E5 to E3--><g id=\"link_E5_E3\"><a href=\"psysml:fdb905ca-fd31-45b2-b41e-28dfb09dbd5e\" target=\"_top\" title=\"psysml:fdb905ca-fd31-45b2-b41e-28dfb09dbd5e\" xlink:actuate=\"onRequest\" xlink:href=\"psysml:fdb905ca-fd31-45b2-b41e-28dfb09dbd5e\" xlink:show=\"new\" xlink:title=\"psysml:fdb905ca-fd31-45b2-b41e-28dfb09dbd5e\" xlink:type=\"simple\"><path d=\"M358.885,336.27 C349.795,364.65 334.255,413.19 322.995,448.34 \" fill=\"none\" id=\"E5-to-E3\" style=\"stroke:#181818;stroke-width:1.0;\"/><polygon fill=\"#FFFFFF\" points=\"316.785,467.72,315.9148,447.4902,329.2475,451.7611,316.785,467.72\" style=\"stroke:#181818;stroke-width:1.0;\"/><ellipse cx=\"319.5583\" cy=\"442.6721\" fill=\"#181818\" rx=\"2\" ry=\"2\" style=\"stroke:#181818;stroke-width:1.0;\"/><ellipse cx=\"329.0817\" cy=\"445.7227\" fill=\"#181818\" rx=\"2\" ry=\"2\" style=\"stroke:#181818;stroke-width:1.0;\"/></a></g><!--MD5=[ee384bb554873b72f85793eae40e290c]\n",
       "link E1 to E4--><g id=\"link_E1_E4\"><a href=\"psysml:60fcb482-826b-48b1-b5dc-27f8a317149a\" target=\"_top\" title=\"psysml:60fcb482-826b-48b1-b5dc-27f8a317149a\" xlink:actuate=\"onRequest\" xlink:href=\"psysml:60fcb482-826b-48b1-b5dc-27f8a317149a\" xlink:show=\"new\" xlink:title=\"psysml:60fcb482-826b-48b1-b5dc-27f8a317149a\" xlink:type=\"simple\"><path d=\"M34.305,133.12 C33.645,135.64 23.485,176.19 42.335,196 C49.335,203.36 77.365,202.04 87.335,204 C100.275,206.54 192.555,221.41 203.335,229 C221.255,241.61 234.175,262.72 242.525,280.37 \" fill=\"none\" id=\"E1-to-E4\" style=\"stroke:#181818;stroke-width:1.0;stroke-dasharray:7.0,7.0;\"/><polygon fill=\"#181818\" points=\"244.755,285.24,244.6606,275.3916,242.6806,280.6906,237.3816,278.7106,244.755,285.24\" style=\"stroke:#181818;stroke-width:1.0;\"/><text fill=\"#000000\" font-family=\"sans-serif\" font-size=\"13\" lengthAdjust=\"spacing\" textLength=\"65\" x=\"176.335\" y=\"217.0669\">«import»*</text></a></g><!--MD5=[ccbd3af71bf83df0ec2a2db62d6d7130]\n",
       "link E1 to E6--><g id=\"link_E1_E6\"><a href=\"psysml:37c9a4c7-80e6-494a-a65a-d8ec35cca65c\" target=\"_top\" title=\"psysml:37c9a4c7-80e6-494a-a65a-d8ec35cca65c\" xlink:actuate=\"onRequest\" xlink:href=\"psysml:37c9a4c7-80e6-494a-a65a-d8ec35cca65c\" xlink:show=\"new\" xlink:title=\"psysml:37c9a4c7-80e6-494a-a65a-d8ec35cca65c\" xlink:type=\"simple\"><path d=\"M26.3325,146.2131 C26.1219,146.5997 25.9095,146.9932 25.6953,147.3934 C24.8388,148.9944 23.9555,150.7026 23.0641,152.5046 C21.2813,156.1085 19.4656,160.0872 17.765,164.3313 C10.9625,181.3075 6,202.53 12.335,221 C20.3,244.215 36.9725,266.0575 52.0488,282.41 C59.5869,290.5862 66.7259,297.39 72.178,302.3066 C72.8595,302.9211 73.5146,303.5062 74.1409,304.0608 \" fill=\"none\" id=\"E1-to-E6\" style=\"stroke:#181818;stroke-width:1.0;stroke-dasharray:7.0,7.0;\"/><polygon fill=\"#181818\" points=\"74.1409,304.0608,70.0549,295.0995,70.3976,300.746,64.7512,301.0887,74.1409,304.0608\" style=\"stroke:#181818;stroke-width:1.0;\"/><text fill=\"#000000\" font-family=\"sans-serif\" font-size=\"13\" lengthAdjust=\"spacing\" textLength=\"65\" x=\"13.335\" y=\"217.0669\">«import»*</text></a></g><!--MD5=[bfa3c8b0d15052fdf50ae9310b491027]\n",
       "link E8 to E7--><g id=\"link_E8_E7\"><a href=\"psysml:f605a3b7-992a-46f2-9cbf-567dae0e656e\" target=\"_top\" title=\"psysml:f605a3b7-992a-46f2-9cbf-567dae0e656e\" xlink:actuate=\"onRequest\" xlink:href=\"psysml:f605a3b7-992a-46f2-9cbf-567dae0e656e\" xlink:show=\"new\" xlink:title=\"psysml:f605a3b7-992a-46f2-9cbf-567dae0e656e\" xlink:type=\"simple\"><path d=\"M221.755,156.17 C235.785,178.66 253.075,210.85 244.335,221 C228.795,239.06 210.465,214.81 191.335,229 C178.275,238.69 169.415,253.88 163.485,268.56 \" fill=\"none\" id=\"E8-to-E7\" style=\"stroke:#181818;stroke-width:1.0;\"/><polygon fill=\"#FFFFFF\" points=\"157.085,287.71,156.4571,267.4713,169.7377,271.9015,157.085,287.71\" style=\"stroke:#181818;stroke-width:1.0;\"/><ellipse cx=\"160.1581\" cy=\"262.6971\" fill=\"#181818\" rx=\"2\" ry=\"2\" style=\"stroke:#181818;stroke-width:1.0;\"/><ellipse cx=\"169.6442\" cy=\"265.8615\" fill=\"#181818\" rx=\"2\" ry=\"2\" style=\"stroke:#181818;stroke-width:1.0;\"/></a></g><!--MD5=[c2be97adba6ddfe1c8f349fab141c927]\n",
       "link E9 to E4--><g id=\"link_E9_E4\"><a href=\"psysml:f74e7f7d-bc69-4c36-9a7b-616abfb119b1\" target=\"_top\" title=\"psysml:f74e7f7d-bc69-4c36-9a7b-616abfb119b1\" xlink:actuate=\"onRequest\" xlink:href=\"psysml:f74e7f7d-bc69-4c36-9a7b-616abfb119b1\" xlink:show=\"new\" xlink:title=\"psysml:f74e7f7d-bc69-4c36-9a7b-616abfb119b1\" xlink:type=\"simple\"><path d=\"M260.2025,180.4864 C260.1924,180.7107 260.1823,180.9354 260.1722,181.1606 C260.1318,182.0612 260.091,182.969 260.0499,183.8833 C259.9677,185.7121 259.8844,187.5673 259.8,189.445 C258.45,219.4875 256.84,255.27 255.715,280.2 \" fill=\"none\" id=\"E9-to-E4\" style=\"stroke:#181818;stroke-width:1.0;stroke-dasharray:7.0,7.0;\"/><polygon fill=\"#181818\" points=\"255.485,285.47,259.8918,276.6621,255.7133,280.4752,251.9002,276.2967,255.485,285.47\" style=\"stroke:#181818;stroke-width:1.0;\"/><text fill=\"#000000\" font-family=\"sans-serif\" font-size=\"13\" lengthAdjust=\"spacing\" textLength=\"65\" x=\"259.335\" y=\"217.0669\">«import»*</text></a></g><!--MD5=[feeac5eb423634930294aa81f2d25a4c]\n",
       "link E10 to E3--><g id=\"link_E10_E3\"><a href=\"psysml:7688159c-03f6-437a-9242-bafcaad292a9\" target=\"_top\" title=\"psysml:7688159c-03f6-437a-9242-bafcaad292a9\" xlink:actuate=\"onRequest\" xlink:href=\"psysml:7688159c-03f6-437a-9242-bafcaad292a9\" xlink:show=\"new\" xlink:title=\"psysml:7688159c-03f6-437a-9242-bafcaad292a9\" xlink:type=\"simple\"><path d=\"M344.205,156.37 C359.315,175.4 374.095,202.12 358.335,221 C345.595,236.26 327.215,213.86 314.335,229 C300.565,245.18 304.225,377.23 307.215,447.45 \" fill=\"none\" id=\"E10-to-E3\" style=\"stroke:#181818;stroke-width:1.0;\"/><polygon fill=\"#FFFFFF\" points=\"308.135,467.85,300.2734,449.19,314.2588,448.5498,308.135,467.85\" style=\"stroke:#181818;stroke-width:1.0;\"/><ellipse cx=\"302.0107\" cy=\"443.4045\" fill=\"#181818\" rx=\"2\" ry=\"2\" style=\"stroke:#181818;stroke-width:1.0;\"/><ellipse cx=\"312.0002\" cy=\"442.9472\" fill=\"#181818\" rx=\"2\" ry=\"2\" style=\"stroke:#181818;stroke-width:1.0;\"/></a></g><!--MD5=[919b3f7a086d95345a6cd4201295ac5b]\n",
       "@startuml\r\n",
       "skin sysmlbw\r\n",
       "skinparam monochrome true\r\n",
       "skinparam wrapWidth 300\r\n",
       "hide circle\r\n",
       " \r\n",
       "package \"PrivateImportTest\" as E1  [[psysml:11a30fa2-fbeb-4b2d-a071-2781e63d5a12 ]]  {\r\n",
       "package \"P1\" as E2  [[psysml:29bb8ef7-a50f-48a8-b243-dfabeed2550d ]]  {\r\n",
       "comp def \"A\" as E3  <<(T,blue) part  def>> [[psysml:5dfb8e4e-b010-43d6-9ea6-8d8096aa0cbd ]] {\r\n",
       "}\r\n",
       "}\r\n",
       "package \"P2\" as E4  [[psysml:6d745f5d-a6bd-48d3-bb38-b4db6224b450 ]]  {\r\n",
       "}\r\n",
       "comp usage \"x: A  \" as E5  <<(T,blue) part>> [[psysml:fd0b961b-4bae-44e8-b09a-9c87fac280e3 ]] {\r\n",
       "}\r\n",
       "package \"P3\" as E6  [[psysml:3afe7580-df30-4ff0-95e6-ec63d3638055 ]]  {\r\n",
       "comp def \"B\" as E7  <<(T,blue) part  def>> [[psysml:05031283-db67-47ce-b074-a753e1e8519b ]] {\r\n",
       "}\r\n",
       "}\r\n",
       "comp usage \"z: B  \" as E8  <<(T,blue) part>> [[psysml:87e3ce51-5094-4f5d-8d11-feac4ad1e872 ]] {\r\n",
       "}\r\n",
       "package \"P4\" as E9  [[psysml:a1b56716-f996-4480-88b0-3733f2d7733c ]]  {\r\n",
       "comp usage \"z1: A  \" as E10  <<(T,blue) part>> [[psysml:630baa2a-121f-4da7-a3fd-6c76e707d010 ]] {\r\n",
       "}\r\n",
       "}\r\n",
       "}\r\n",
       "E4 ..> E2 [[psysml:0487f209-9870-4837-a273-e80eaf0041e3 ]] : <<import>>*\r\n",
       "E5 - -:|> E3 [[psysml:fdb905ca-fd31-45b2-b41e-28dfb09dbd5e ]] \r\n",
       "E1 ..> E4 [[psysml:60fcb482-826b-48b1-b5dc-27f8a317149a ]] : <<import>>*\r\n",
       "E1 ..> E6 [[psysml:37c9a4c7-80e6-494a-a65a-d8ec35cca65c ]] : <<import>>*\r\n",
       "E8 - -:|> E7 [[psysml:f605a3b7-992a-46f2-9cbf-567dae0e656e ]] \r\n",
       "E9 ..> E4 [[psysml:f74e7f7d-bc69-4c36-9a7b-616abfb119b1 ]] : <<import>>*\r\n",
       "E10 - -:|> E3 [[psysml:7688159c-03f6-437a-9242-bafcaad292a9 ]] \r\n",
       "@enduml\r\n",
       "\n",
       "PlantUML version 1.2022.7(Mon Aug 22 17:01:30 UTC 2022)\n",
       "(EPL source distribution)\n",
       "Java Runtime: OpenJDK Runtime Environment\n",
       "JVM: OpenJDK 64-Bit Server VM\n",
       "Default Encoding: UTF-8\n",
       "Language: en\n",
       "Country: null\n",
       "--></g></svg>"
      ]
     },
     "execution_count": 8,
     "metadata": {},
     "output_type": "execute_result"
    }
   ],
   "source": [
    "%viz --style=\"COMPTREE\" --view=\"MIXED\" \"PrivateImportTest\""
   ]
  },
  {
   "cell_type": "code",
   "execution_count": 9,
   "id": "e02a278b",
   "metadata": {
    "execution": {
     "iopub.execute_input": "2024-12-16T14:17:03.123823Z",
     "iopub.status.busy": "2024-12-16T14:17:03.123381Z",
     "iopub.status.idle": "2024-12-16T14:17:03.165314Z",
     "shell.execute_reply": "2024-12-16T14:17:03.164399Z"
    }
   },
   "outputs": [
    {
     "data": {
      "image/svg+xml": [
       "<?xml version=\"1.0\" encoding=\"UTF-8\" standalone=\"no\"?><svg xmlns=\"http://www.w3.org/2000/svg\" xmlns:xlink=\"http://www.w3.org/1999/xlink\" contentStyleType=\"text/css\" height=\"587px\" preserveAspectRatio=\"none\" style=\"width:422px;height:587px;background:#FFFFFF;\" version=\"1.1\" viewBox=\"0 0 422 587\" width=\"422px\" zoomAndPan=\"magnify\"><defs/><g><!--MD5=[fbc87193dbaf4d95561dea2c320d4a47]\n",
       "cluster E1--><g id=\"cluster_E1\"><a href=\"psysml:11a30fa2-fbeb-4b2d-a071-2781e63d5a12\" target=\"_top\" title=\"psysml:11a30fa2-fbeb-4b2d-a071-2781e63d5a12\" xlink:actuate=\"onRequest\" xlink:href=\"psysml:11a30fa2-fbeb-4b2d-a071-2781e63d5a12\" xlink:show=\"new\" xlink:title=\"psysml:11a30fa2-fbeb-4b2d-a071-2781e63d5a12\" xlink:type=\"simple\"><polygon fill=\"none\" points=\"20,6,154.4375,6,161.4375,28.2969,405,28.2969,405,580,20,580,20,6\" style=\"stroke:#000000;stroke-width:1.5;\"/><line style=\"stroke:#000000;stroke-width:1.5;\" x1=\"20\" x2=\"161.4375\" y1=\"28.2969\" y2=\"28.2969\"/><text fill=\"#000000\" font-family=\"sans-serif\" font-size=\"14\" font-weight=\"bold\" lengthAdjust=\"spacing\" textLength=\"128.4375\" x=\"24\" y=\"20.9951\">PrivateImportTest</text></a></g><!--MD5=[e4f7fae6ed58524ba242bb0b0d3be6b7]\n",
       "cluster E2--><g id=\"cluster_E2\"><a href=\"psysml:29bb8ef7-a50f-48a8-b243-dfabeed2550d\" target=\"_top\" title=\"psysml:29bb8ef7-a50f-48a8-b243-dfabeed2550d\" xlink:actuate=\"onRequest\" xlink:href=\"psysml:29bb8ef7-a50f-48a8-b243-dfabeed2550d\" xlink:show=\"new\" xlink:title=\"psysml:29bb8ef7-a50f-48a8-b243-dfabeed2550d\" xlink:type=\"simple\"><polygon fill=\"none\" points=\"225,425,249.875,425,256.875,447.2969,362,447.2969,362,540,225,540,225,425\" style=\"stroke:#000000;stroke-width:1.5;\"/><line style=\"stroke:#000000;stroke-width:1.5;\" x1=\"225\" x2=\"256.875\" y1=\"447.2969\" y2=\"447.2969\"/><text fill=\"#000000\" font-family=\"sans-serif\" font-size=\"14\" font-weight=\"bold\" lengthAdjust=\"spacing\" textLength=\"18.875\" x=\"229\" y=\"439.9951\">P1</text></a></g><!--MD5=[14e3b0961a2654348d326746436168a1]\n",
       "cluster E6--><g id=\"cluster_E6\"><a href=\"psysml:3afe7580-df30-4ff0-95e6-ec63d3638055\" target=\"_top\" title=\"psysml:3afe7580-df30-4ff0-95e6-ec63d3638055\" xlink:actuate=\"onRequest\" xlink:href=\"psysml:3afe7580-df30-4ff0-95e6-ec63d3638055\" xlink:show=\"new\" xlink:title=\"psysml:3afe7580-df30-4ff0-95e6-ec63d3638055\" xlink:type=\"simple\"><polygon fill=\"none\" points=\"68,245,92.875,245,99.875,267.2969,205,267.2969,205,360,68,360,68,245\" style=\"stroke:#000000;stroke-width:1.5;\"/><line style=\"stroke:#000000;stroke-width:1.5;\" x1=\"68\" x2=\"99.875\" y1=\"267.2969\" y2=\"267.2969\"/><text fill=\"#000000\" font-family=\"sans-serif\" font-size=\"14\" font-weight=\"bold\" lengthAdjust=\"spacing\" textLength=\"18.875\" x=\"72\" y=\"259.9951\">P3</text></a></g><!--MD5=[7f149f147074ac12df2cb0a7728a5fb0]\n",
       "cluster E9--><g id=\"cluster_E9\"><a href=\"psysml:a1b56716-f996-4480-88b0-3733f2d7733c\" target=\"_top\" title=\"psysml:a1b56716-f996-4480-88b0-3733f2d7733c\" xlink:actuate=\"onRequest\" xlink:href=\"psysml:a1b56716-f996-4480-88b0-3733f2d7733c\" xlink:show=\"new\" xlink:title=\"psysml:a1b56716-f996-4480-88b0-3733f2d7733c\" xlink:type=\"simple\"><polygon fill=\"none\" points=\"248,65,272.875,65,279.875,87.2969,365,87.2969,365,180,248,180,248,65\" style=\"stroke:#000000;stroke-width:1.5;\"/><line style=\"stroke:#000000;stroke-width:1.5;\" x1=\"248\" x2=\"279.875\" y1=\"87.2969\" y2=\"87.2969\"/><text fill=\"#000000\" font-family=\"sans-serif\" font-size=\"14\" font-weight=\"bold\" lengthAdjust=\"spacing\" textLength=\"18.875\" x=\"252\" y=\"79.9951\">P4</text></a></g><!--MD5=[270fce915f116d4de14055a7c1d9a0f3]\n",
       "class E5--><a href=\"psysml:fd0b961b-4bae-44e8-b09a-9c87fac280e3\" target=\"_top\" title=\"psysml:fd0b961b-4bae-44e8-b09a-9c87fac280e3\" xlink:actuate=\"onRequest\" xlink:href=\"psysml:fd0b961b-4bae-44e8-b09a-9c87fac280e3\" xlink:show=\"new\" xlink:title=\"psysml:fd0b961b-4bae-44e8-b09a-9c87fac280e3\" xlink:type=\"simple\"><g id=\"elem_E5\"><rect fill=\"#FFFFFF\" height=\"48.2656\" id=\"E5\" rx=\"10\" ry=\"10\" style=\"stroke:#181818;stroke-width:0.5;\" width=\"42\" x=\"339\" y=\"288\"/><text fill=\"#000000\" font-family=\"sans-serif\" font-size=\"12\" font-style=\"italic\" lengthAdjust=\"spacing\" textLength=\"40\" x=\"340\" y=\"304.1387\">«part»</text><text fill=\"#000000\" font-family=\"sans-serif\" font-size=\"14\" lengthAdjust=\"spacing\" textLength=\"25\" x=\"343.5\" y=\"319.9639\">x: A</text><line style=\"stroke:#181818;stroke-width:0.5;\" x1=\"340\" x2=\"380\" y1=\"328.2656\" y2=\"328.2656\"/></g></a><!--MD5=[b9389687b975829384b498ac4b7476b2]\n",
       "class E8--><a href=\"psysml:87e3ce51-5094-4f5d-8d11-feac4ad1e872\" target=\"_top\" title=\"psysml:87e3ce51-5094-4f5d-8d11-feac4ad1e872\" xlink:actuate=\"onRequest\" xlink:href=\"psysml:87e3ce51-5094-4f5d-8d11-feac4ad1e872\" xlink:show=\"new\" xlink:title=\"psysml:87e3ce51-5094-4f5d-8d11-feac4ad1e872\" xlink:type=\"simple\"><g id=\"elem_E8\"><rect fill=\"#FFFFFF\" height=\"48.2656\" id=\"E8\" rx=\"10\" ry=\"10\" style=\"stroke:#181818;stroke-width:0.5;\" width=\"42\" x=\"179\" y=\"108\"/><text fill=\"#000000\" font-family=\"sans-serif\" font-size=\"12\" font-style=\"italic\" lengthAdjust=\"spacing\" textLength=\"40\" x=\"180\" y=\"124.1387\">«part»</text><text fill=\"#000000\" font-family=\"sans-serif\" font-size=\"14\" lengthAdjust=\"spacing\" textLength=\"27\" x=\"182.5\" y=\"139.9639\">z: B</text><line style=\"stroke:#181818;stroke-width:0.5;\" x1=\"180\" x2=\"220\" y1=\"148.2656\" y2=\"148.2656\"/></g></a><!--MD5=[09b614a08d8cba4a07c9adeb5e0fee81]\n",
       "class E3--><a href=\"psysml:5dfb8e4e-b010-43d6-9ea6-8d8096aa0cbd\" target=\"_top\" title=\"psysml:5dfb8e4e-b010-43d6-9ea6-8d8096aa0cbd\" xlink:actuate=\"onRequest\" xlink:href=\"psysml:5dfb8e4e-b010-43d6-9ea6-8d8096aa0cbd\" xlink:show=\"new\" xlink:title=\"psysml:5dfb8e4e-b010-43d6-9ea6-8d8096aa0cbd\" xlink:type=\"simple\"><g id=\"elem_E3\"><rect fill=\"#FFFFFF\" height=\"48.2656\" id=\"E3\" style=\"stroke:#181818;stroke-width:0.5;\" width=\"70\" x=\"268\" y=\"468\"/><text fill=\"#000000\" font-family=\"sans-serif\" font-size=\"12\" font-style=\"italic\" lengthAdjust=\"spacing\" textLength=\"68\" x=\"269\" y=\"484.1387\">«part  def»</text><text fill=\"#000000\" font-family=\"sans-serif\" font-size=\"14\" lengthAdjust=\"spacing\" textLength=\"9\" x=\"298.5\" y=\"499.9639\">A</text><line style=\"stroke:#181818;stroke-width:0.5;\" x1=\"269\" x2=\"337\" y1=\"508.2656\" y2=\"508.2656\"/></g></a><a href=\"psysml:6d745f5d-a6bd-48d3-bb38-b4db6224b450\" target=\"_top\" title=\"psysml:6d745f5d-a6bd-48d3-bb38-b4db6224b450\" xlink:actuate=\"onRequest\" xlink:href=\"psysml:6d745f5d-a6bd-48d3-bb38-b4db6224b450\" xlink:show=\"new\" xlink:title=\"psysml:6d745f5d-a6bd-48d3-bb38-b4db6224b450\" xlink:type=\"simple\"><polygon fill=\"#FFFFFF\" points=\"229,285.5,253,285.5,260,307.7969,267,307.7969,267,338.0938,229,338.0938,229,285.5\" style=\"stroke:#181818;stroke-width:0.5;\"/><line style=\"stroke:#181818;stroke-width:0.5;\" x1=\"229\" x2=\"260\" y1=\"307.7969\" y2=\"307.7969\"/><text fill=\"#000000\" font-family=\"sans-serif\" font-size=\"14\" lengthAdjust=\"spacing\" textLength=\"18\" x=\"233\" y=\"300.4951\">P2</text></a><!--MD5=[2156ba9850f5573cc1fc38a6a4b2f02b]\n",
       "class E7--><a href=\"psysml:05031283-db67-47ce-b074-a753e1e8519b\" target=\"_top\" title=\"psysml:05031283-db67-47ce-b074-a753e1e8519b\" xlink:actuate=\"onRequest\" xlink:href=\"psysml:05031283-db67-47ce-b074-a753e1e8519b\" xlink:show=\"new\" xlink:title=\"psysml:05031283-db67-47ce-b074-a753e1e8519b\" xlink:type=\"simple\"><g id=\"elem_E7\"><rect fill=\"#FFFFFF\" height=\"48.2656\" id=\"E7\" style=\"stroke:#181818;stroke-width:0.5;\" width=\"70\" x=\"111\" y=\"288\"/><text fill=\"#000000\" font-family=\"sans-serif\" font-size=\"12\" font-style=\"italic\" lengthAdjust=\"spacing\" textLength=\"68\" x=\"112\" y=\"304.1387\">«part  def»</text><text fill=\"#000000\" font-family=\"sans-serif\" font-size=\"14\" lengthAdjust=\"spacing\" textLength=\"10\" x=\"141\" y=\"319.9639\">B</text><line style=\"stroke:#181818;stroke-width:0.5;\" x1=\"112\" x2=\"180\" y1=\"328.2656\" y2=\"328.2656\"/></g></a><!--MD5=[96f4274e9e20536e775497830990834d]\n",
       "class E10--><a href=\"psysml:630baa2a-121f-4da7-a3fd-6c76e707d010\" target=\"_top\" title=\"psysml:630baa2a-121f-4da7-a3fd-6c76e707d010\" xlink:actuate=\"onRequest\" xlink:href=\"psysml:630baa2a-121f-4da7-a3fd-6c76e707d010\" xlink:show=\"new\" xlink:title=\"psysml:630baa2a-121f-4da7-a3fd-6c76e707d010\" xlink:type=\"simple\"><g id=\"elem_E10\"><rect fill=\"#FFFFFF\" height=\"48.2656\" id=\"E10\" rx=\"10\" ry=\"10\" style=\"stroke:#181818;stroke-width:0.5;\" width=\"49\" x=\"291.5\" y=\"108\"/><text fill=\"#000000\" font-family=\"sans-serif\" font-size=\"12\" font-style=\"italic\" lengthAdjust=\"spacing\" textLength=\"40\" x=\"296\" y=\"124.1387\">«part»</text><text fill=\"#000000\" font-family=\"sans-serif\" font-size=\"14\" lengthAdjust=\"spacing\" textLength=\"35\" x=\"294.5\" y=\"139.9639\">z1: A</text><line style=\"stroke:#181818;stroke-width:0.5;\" x1=\"292.5\" x2=\"339.5\" y1=\"148.2656\" y2=\"148.2656\"/></g></a><!--MD5=[185131fc0dcab0a4505a2ebe144e961b]\n",
       "link E4 to E2--><g id=\"link_E4_E2\"><a href=\"psysml:0487f209-9870-4837-a273-e80eaf0041e3\" target=\"_top\" title=\"psysml:0487f209-9870-4837-a273-e80eaf0041e3\" xlink:actuate=\"onRequest\" xlink:href=\"psysml:0487f209-9870-4837-a273-e80eaf0041e3\" xlink:show=\"new\" xlink:title=\"psysml:0487f209-9870-4837-a273-e80eaf0041e3\" xlink:type=\"simple\"><path d=\"M240.42,338.63 C234.4,358.97 227,384 227,384 C227,384 227,401 227,401 C227,401 227.3631,406.4506 227.9108,414.6691 C228.0477,416.7237 228.1961,418.9513 228.3533,421.3099 C228.4319,422.4893 228.5127,423.7014 228.5953,424.941 \" fill=\"none\" id=\"E4-to-E2\" style=\"stroke:#181818;stroke-width:1.0;stroke-dasharray:7.0,7.0;\"/><polygon fill=\"#181818\" points=\"228.5953,424.941,231.988,415.6949,228.2628,419.9521,224.0057,416.2269,228.5953,424.941\" style=\"stroke:#181818;stroke-width:1.0;\"/><text fill=\"#000000\" font-family=\"sans-serif\" font-size=\"13\" lengthAdjust=\"spacing\" textLength=\"65\" x=\"228\" y=\"397.0669\">«import»*</text></a></g><!--MD5=[e9be52314489bd878ff4c7144b63c9e1]\n",
       "link E5 to E3--><g id=\"link_E5_E3\"><a href=\"psysml:fdb905ca-fd31-45b2-b41e-28dfb09dbd5e\" target=\"_top\" title=\"psysml:fdb905ca-fd31-45b2-b41e-28dfb09dbd5e\" xlink:actuate=\"onRequest\" xlink:href=\"psysml:fdb905ca-fd31-45b2-b41e-28dfb09dbd5e\" xlink:show=\"new\" xlink:title=\"psysml:fdb905ca-fd31-45b2-b41e-28dfb09dbd5e\" xlink:type=\"simple\"><path d=\"M352.55,336.27 C343.46,364.65 327.92,413.19 316.66,448.34 \" fill=\"none\" id=\"E5-to-E3\" style=\"stroke:#181818;stroke-width:1.0;\"/><polygon fill=\"#FFFFFF\" points=\"310.45,467.72,309.5798,447.4902,322.9125,451.7611,310.45,467.72\" style=\"stroke:#181818;stroke-width:1.0;\"/><ellipse cx=\"313.2233\" cy=\"442.6721\" fill=\"#181818\" rx=\"2\" ry=\"2\" style=\"stroke:#181818;stroke-width:1.0;\"/><ellipse cx=\"322.7467\" cy=\"445.7227\" fill=\"#181818\" rx=\"2\" ry=\"2\" style=\"stroke:#181818;stroke-width:1.0;\"/></a></g><!--MD5=[ee384bb554873b72f85793eae40e290c]\n",
       "link E1 to E4--><g id=\"link_E1_E4\"><a href=\"psysml:60fcb482-826b-48b1-b5dc-27f8a317149a\" target=\"_top\" title=\"psysml:60fcb482-826b-48b1-b5dc-27f8a317149a\" xlink:actuate=\"onRequest\" xlink:href=\"psysml:60fcb482-826b-48b1-b5dc-27f8a317149a\" xlink:show=\"new\" xlink:title=\"psysml:60fcb482-826b-48b1-b5dc-27f8a317149a\" xlink:type=\"simple\"><path d=\"M28.01,133.05 C28.25,134.95 36,196 36,196 C36,196 81,204 81,204 C81,204 197,229 197,229 C197,229 214.66,257.39 229.19,280.76 \" fill=\"none\" id=\"E1-to-E4\" style=\"stroke:#181818;stroke-width:1.0;stroke-dasharray:7.0,7.0;\"/><polygon fill=\"#181818\" points=\"231.86,285.05,230.4968,275.2959,229.2164,280.806,223.7064,279.5257,231.86,285.05\" style=\"stroke:#181818;stroke-width:1.0;\"/><text fill=\"#000000\" font-family=\"sans-serif\" font-size=\"13\" lengthAdjust=\"spacing\" textLength=\"65\" x=\"160\" y=\"217.0669\">«import»*</text></a></g><!--MD5=[ccbd3af71bf83df0ec2a2db62d6d7130]\n",
       "link E1 to E6--><g id=\"link_E1_E6\"><a href=\"psysml:37c9a4c7-80e6-494a-a65a-d8ec35cca65c\" target=\"_top\" title=\"psysml:37c9a4c7-80e6-494a-a65a-d8ec35cca65c\" xlink:actuate=\"onRequest\" xlink:href=\"psysml:37c9a4c7-80e6-494a-a65a-d8ec35cca65c\" xlink:show=\"new\" xlink:title=\"psysml:37c9a4c7-80e6-494a-a65a-d8ec35cca65c\" xlink:type=\"simple\"><path d=\"M19.8842,159.191 C19.8433,159.3233 19.8022,159.4557 19.7611,159.5883 C19.4325,160.6492 19.1003,161.7215 18.7658,162.8009 C18.0969,164.9599 17.4191,167.1477 16.7425,169.3313 C11.33,186.8 6,204 6,204 C6,204 6,221 6,221 C6,221 22.9575,242.8025 40.18,264.945 C48.7913,276.0163 57.4688,287.1725 64.1259,295.7309 C64.9581,296.8007 65.7587,297.83 66.5236,298.8133 C66.9061,299.305 67.2796,299.7853 67.6438,300.2534 C67.7348,300.3704 67.8253,300.4867 67.9151,300.6022 \" fill=\"none\" id=\"E1-to-E6\" style=\"stroke:#181818;stroke-width:1.0;stroke-dasharray:7.0,7.0;\"/><polygon fill=\"#181818\" points=\"67.9151,300.6022,65.5465,291.0424,64.8452,296.6556,59.2319,295.9543,67.9151,300.6022\" style=\"stroke:#181818;stroke-width:1.0;\"/><text fill=\"#000000\" font-family=\"sans-serif\" font-size=\"13\" lengthAdjust=\"spacing\" textLength=\"65\" x=\"7\" y=\"217.0669\">«import»*</text></a></g><!--MD5=[bfa3c8b0d15052fdf50ae9310b491027]\n",
       "link E8 to E7--><g id=\"link_E8_E7\"><a href=\"psysml:f605a3b7-992a-46f2-9cbf-567dae0e656e\" target=\"_top\" title=\"psysml:f605a3b7-992a-46f2-9cbf-567dae0e656e\" xlink:actuate=\"onRequest\" xlink:href=\"psysml:f605a3b7-992a-46f2-9cbf-567dae0e656e\" xlink:show=\"new\" xlink:title=\"psysml:f605a3b7-992a-46f2-9cbf-567dae0e656e\" xlink:type=\"simple\"><path d=\"M212.44,156.25 C223.53,176.95 238,204 238,204 C238,204 238,221 238,221 C238,221 185,229 185,229 C185,229 175.39,249.21 165.71,269.56 \" fill=\"none\" id=\"E8-to-E7\" style=\"stroke:#181818;stroke-width:1.0;\"/><polygon fill=\"#FFFFFF\" points=\"157.07,287.72,158.92,267.5562,171.5596,273.5761,157.07,287.72\" style=\"stroke:#181818;stroke-width:1.0;\"/><ellipse cx=\"163.1766\" cy=\"263.2701\" fill=\"#181818\" rx=\"2\" ry=\"2\" style=\"stroke:#181818;stroke-width:1.0;\"/><ellipse cx=\"172.2049\" cy=\"267.5699\" fill=\"#181818\" rx=\"2\" ry=\"2\" style=\"stroke:#181818;stroke-width:1.0;\"/></a></g><!--MD5=[c2be97adba6ddfe1c8f349fab141c927]\n",
       "link E9 to E4--><g id=\"link_E9_E4\"><a href=\"psysml:f74e7f7d-bc69-4c36-9a7b-616abfb119b1\" target=\"_top\" title=\"psysml:f74e7f7d-bc69-4c36-9a7b-616abfb119b1\" xlink:actuate=\"onRequest\" xlink:href=\"psysml:f74e7f7d-bc69-4c36-9a7b-616abfb119b1\" xlink:show=\"new\" xlink:title=\"psysml:f74e7f7d-bc69-4c36-9a7b-616abfb119b1\" xlink:type=\"simple\"><path d=\"M253.8675,180.4864 C253.8574,180.7107 253.8473,180.9354 253.8372,181.1606 C253.7968,182.0612 253.756,182.969 253.7149,183.8833 C253.6327,185.7121 253.5494,187.5673 253.465,189.445 C252.115,219.4875 250.505,255.27 249.38,280.2 \" fill=\"none\" id=\"E9-to-E4\" style=\"stroke:#181818;stroke-width:1.0;stroke-dasharray:7.0,7.0;\"/><polygon fill=\"#181818\" points=\"249.15,285.47,253.5568,276.6621,249.3783,280.4752,245.5652,276.2967,249.15,285.47\" style=\"stroke:#181818;stroke-width:1.0;\"/><text fill=\"#000000\" font-family=\"sans-serif\" font-size=\"13\" lengthAdjust=\"spacing\" textLength=\"65\" x=\"253\" y=\"217.0669\">«import»*</text></a></g><!--MD5=[feeac5eb423634930294aa81f2d25a4c]\n",
       "link E10 to E3--><g id=\"link_E10_E3\"><a href=\"psysml:7688159c-03f6-437a-9242-bafcaad292a9\" target=\"_top\" title=\"psysml:7688159c-03f6-437a-9242-bafcaad292a9\" xlink:actuate=\"onRequest\" xlink:href=\"psysml:7688159c-03f6-437a-9242-bafcaad292a9\" xlink:show=\"new\" xlink:title=\"psysml:7688159c-03f6-437a-9242-bafcaad292a9\" xlink:type=\"simple\"><path d=\"M327.79,156.25 C338.29,176.95 352,204 352,204 C352,204 352,221 352,221 C352,221 308,229 308,229 C308,229 305.25,373.04 303.83,447.52 \" fill=\"none\" id=\"E10-to-E3\" style=\"stroke:#181818;stroke-width:1.0;\"/><polygon fill=\"#FFFFFF\" points=\"303.44,467.75,296.8079,448.6185,310.8053,448.8886,303.44,467.75\" style=\"stroke:#181818;stroke-width:1.0;\"/><ellipse cx=\"298.9175\" cy=\"442.9581\" fill=\"#181818\" rx=\"2\" ry=\"2\" style=\"stroke:#181818;stroke-width:1.0;\"/><ellipse cx=\"308.9157\" cy=\"443.1511\" fill=\"#181818\" rx=\"2\" ry=\"2\" style=\"stroke:#181818;stroke-width:1.0;\"/></a></g><!--MD5=[80fa87c9e8acfb3766ccc15eed6d9d62]\n",
       "@startuml\r\n",
       "skin sysmlbw\r\n",
       "skinparam monochrome true\r\n",
       "skinparam wrapWidth 300\r\n",
       "hide circle\r\n",
       "skinparam linetype polyline\r\n",
       "\r\n",
       "package \"PrivateImportTest\" as E1  [[psysml:11a30fa2-fbeb-4b2d-a071-2781e63d5a12 ]]  {\r\n",
       "package \"P1\" as E2  [[psysml:29bb8ef7-a50f-48a8-b243-dfabeed2550d ]]  {\r\n",
       "comp def \"A\" as E3  <<(T,blue) part  def>> [[psysml:5dfb8e4e-b010-43d6-9ea6-8d8096aa0cbd ]] {\r\n",
       "}\r\n",
       "}\r\n",
       "package \"P2\" as E4  [[psysml:6d745f5d-a6bd-48d3-bb38-b4db6224b450 ]]  {\r\n",
       "}\r\n",
       "comp usage \"x: A  \" as E5  <<(T,blue) part>> [[psysml:fd0b961b-4bae-44e8-b09a-9c87fac280e3 ]] {\r\n",
       "}\r\n",
       "package \"P3\" as E6  [[psysml:3afe7580-df30-4ff0-95e6-ec63d3638055 ]]  {\r\n",
       "comp def \"B\" as E7  <<(T,blue) part  def>> [[psysml:05031283-db67-47ce-b074-a753e1e8519b ]] {\r\n",
       "}\r\n",
       "}\r\n",
       "comp usage \"z: B  \" as E8  <<(T,blue) part>> [[psysml:87e3ce51-5094-4f5d-8d11-feac4ad1e872 ]] {\r\n",
       "}\r\n",
       "package \"P4\" as E9  [[psysml:a1b56716-f996-4480-88b0-3733f2d7733c ]]  {\r\n",
       "comp usage \"z1: A  \" as E10  <<(T,blue) part>> [[psysml:630baa2a-121f-4da7-a3fd-6c76e707d010 ]] {\r\n",
       "}\r\n",
       "}\r\n",
       "}\r\n",
       "E4 ..> E2 [[psysml:0487f209-9870-4837-a273-e80eaf0041e3 ]] : <<import>>*\r\n",
       "E5 - -:|> E3 [[psysml:fdb905ca-fd31-45b2-b41e-28dfb09dbd5e ]] \r\n",
       "E1 ..> E4 [[psysml:60fcb482-826b-48b1-b5dc-27f8a317149a ]] : <<import>>*\r\n",
       "E1 ..> E6 [[psysml:37c9a4c7-80e6-494a-a65a-d8ec35cca65c ]] : <<import>>*\r\n",
       "E8 - -:|> E7 [[psysml:f605a3b7-992a-46f2-9cbf-567dae0e656e ]] \r\n",
       "E9 ..> E4 [[psysml:f74e7f7d-bc69-4c36-9a7b-616abfb119b1 ]] : <<import>>*\r\n",
       "E10 - -:|> E3 [[psysml:7688159c-03f6-437a-9242-bafcaad292a9 ]] \r\n",
       "@enduml\r\n",
       "\n",
       "PlantUML version 1.2022.7(Mon Aug 22 17:01:30 UTC 2022)\n",
       "(EPL source distribution)\n",
       "Java Runtime: OpenJDK Runtime Environment\n",
       "JVM: OpenJDK 64-Bit Server VM\n",
       "Default Encoding: UTF-8\n",
       "Language: en\n",
       "Country: null\n",
       "--></g></svg>"
      ]
     },
     "execution_count": 9,
     "metadata": {},
     "output_type": "execute_result"
    }
   ],
   "source": [
    "%viz --style=\"POLYLINE\" --view=\"Default\" \"PrivateImportTest\""
   ]
  },
  {
   "cell_type": "code",
   "execution_count": 10,
   "id": "fcbb1a7a",
   "metadata": {
    "execution": {
     "iopub.execute_input": "2024-12-16T14:17:03.218366Z",
     "iopub.status.busy": "2024-12-16T14:17:03.218133Z",
     "iopub.status.idle": "2024-12-16T14:17:03.245632Z",
     "shell.execute_reply": "2024-12-16T14:17:03.245453Z"
    }
   },
   "outputs": [
    {
     "data": {
      "image/svg+xml": [
       "<?xml version=\"1.0\" encoding=\"UTF-8\" standalone=\"no\"?><svg xmlns=\"http://www.w3.org/2000/svg\" xmlns:xlink=\"http://www.w3.org/1999/xlink\" contentStyleType=\"text/css\" height=\"587px\" preserveAspectRatio=\"none\" style=\"width:422px;height:587px;background:#FFFFFF;\" version=\"1.1\" viewBox=\"0 0 422 587\" width=\"422px\" zoomAndPan=\"magnify\"><defs/><g><!--MD5=[fbc87193dbaf4d95561dea2c320d4a47]\n",
       "cluster E1--><g id=\"cluster_E1\"><a href=\"psysml:11a30fa2-fbeb-4b2d-a071-2781e63d5a12\" target=\"_top\" title=\"psysml:11a30fa2-fbeb-4b2d-a071-2781e63d5a12\" xlink:actuate=\"onRequest\" xlink:href=\"psysml:11a30fa2-fbeb-4b2d-a071-2781e63d5a12\" xlink:show=\"new\" xlink:title=\"psysml:11a30fa2-fbeb-4b2d-a071-2781e63d5a12\" xlink:type=\"simple\"><polygon fill=\"none\" points=\"20,6,154.4375,6,161.4375,28.2969,405,28.2969,405,580,20,580,20,6\" style=\"stroke:#000000;stroke-width:1.5;\"/><line style=\"stroke:#000000;stroke-width:1.5;\" x1=\"20\" x2=\"161.4375\" y1=\"28.2969\" y2=\"28.2969\"/><text fill=\"#000000\" font-family=\"sans-serif\" font-size=\"14\" font-weight=\"bold\" lengthAdjust=\"spacing\" textLength=\"128.4375\" x=\"24\" y=\"20.9951\">PrivateImportTest</text></a></g><!--MD5=[e4f7fae6ed58524ba242bb0b0d3be6b7]\n",
       "cluster E2--><g id=\"cluster_E2\"><a href=\"psysml:29bb8ef7-a50f-48a8-b243-dfabeed2550d\" target=\"_top\" title=\"psysml:29bb8ef7-a50f-48a8-b243-dfabeed2550d\" xlink:actuate=\"onRequest\" xlink:href=\"psysml:29bb8ef7-a50f-48a8-b243-dfabeed2550d\" xlink:show=\"new\" xlink:title=\"psysml:29bb8ef7-a50f-48a8-b243-dfabeed2550d\" xlink:type=\"simple\"><polygon fill=\"none\" points=\"225,425,249.875,425,256.875,447.2969,362,447.2969,362,540,225,540,225,425\" style=\"stroke:#000000;stroke-width:1.5;\"/><line style=\"stroke:#000000;stroke-width:1.5;\" x1=\"225\" x2=\"256.875\" y1=\"447.2969\" y2=\"447.2969\"/><text fill=\"#000000\" font-family=\"sans-serif\" font-size=\"14\" font-weight=\"bold\" lengthAdjust=\"spacing\" textLength=\"18.875\" x=\"229\" y=\"439.9951\">P1</text></a></g><!--MD5=[14e3b0961a2654348d326746436168a1]\n",
       "cluster E6--><g id=\"cluster_E6\"><a href=\"psysml:3afe7580-df30-4ff0-95e6-ec63d3638055\" target=\"_top\" title=\"psysml:3afe7580-df30-4ff0-95e6-ec63d3638055\" xlink:actuate=\"onRequest\" xlink:href=\"psysml:3afe7580-df30-4ff0-95e6-ec63d3638055\" xlink:show=\"new\" xlink:title=\"psysml:3afe7580-df30-4ff0-95e6-ec63d3638055\" xlink:type=\"simple\"><polygon fill=\"none\" points=\"68,245,92.875,245,99.875,267.2969,205,267.2969,205,360,68,360,68,245\" style=\"stroke:#000000;stroke-width:1.5;\"/><line style=\"stroke:#000000;stroke-width:1.5;\" x1=\"68\" x2=\"99.875\" y1=\"267.2969\" y2=\"267.2969\"/><text fill=\"#000000\" font-family=\"sans-serif\" font-size=\"14\" font-weight=\"bold\" lengthAdjust=\"spacing\" textLength=\"18.875\" x=\"72\" y=\"259.9951\">P3</text></a></g><!--MD5=[7f149f147074ac12df2cb0a7728a5fb0]\n",
       "cluster E9--><g id=\"cluster_E9\"><a href=\"psysml:a1b56716-f996-4480-88b0-3733f2d7733c\" target=\"_top\" title=\"psysml:a1b56716-f996-4480-88b0-3733f2d7733c\" xlink:actuate=\"onRequest\" xlink:href=\"psysml:a1b56716-f996-4480-88b0-3733f2d7733c\" xlink:show=\"new\" xlink:title=\"psysml:a1b56716-f996-4480-88b0-3733f2d7733c\" xlink:type=\"simple\"><polygon fill=\"none\" points=\"248,65,272.875,65,279.875,87.2969,365,87.2969,365,180,248,180,248,65\" style=\"stroke:#000000;stroke-width:1.5;\"/><line style=\"stroke:#000000;stroke-width:1.5;\" x1=\"248\" x2=\"279.875\" y1=\"87.2969\" y2=\"87.2969\"/><text fill=\"#000000\" font-family=\"sans-serif\" font-size=\"14\" font-weight=\"bold\" lengthAdjust=\"spacing\" textLength=\"18.875\" x=\"252\" y=\"79.9951\">P4</text></a></g><!--MD5=[270fce915f116d4de14055a7c1d9a0f3]\n",
       "class E5--><a href=\"psysml:fd0b961b-4bae-44e8-b09a-9c87fac280e3\" target=\"_top\" title=\"psysml:fd0b961b-4bae-44e8-b09a-9c87fac280e3\" xlink:actuate=\"onRequest\" xlink:href=\"psysml:fd0b961b-4bae-44e8-b09a-9c87fac280e3\" xlink:show=\"new\" xlink:title=\"psysml:fd0b961b-4bae-44e8-b09a-9c87fac280e3\" xlink:type=\"simple\"><g id=\"elem_E5\"><rect fill=\"#FFFFFF\" height=\"48.2656\" id=\"E5\" rx=\"10\" ry=\"10\" style=\"stroke:#181818;stroke-width:0.5;\" width=\"42\" x=\"339\" y=\"288\"/><text fill=\"#000000\" font-family=\"sans-serif\" font-size=\"12\" font-style=\"italic\" lengthAdjust=\"spacing\" textLength=\"40\" x=\"340\" y=\"304.1387\">«part»</text><text fill=\"#000000\" font-family=\"sans-serif\" font-size=\"14\" lengthAdjust=\"spacing\" textLength=\"25\" x=\"343.5\" y=\"319.9639\">x: A</text><line style=\"stroke:#181818;stroke-width:0.5;\" x1=\"340\" x2=\"380\" y1=\"328.2656\" y2=\"328.2656\"/></g></a><!--MD5=[b9389687b975829384b498ac4b7476b2]\n",
       "class E8--><a href=\"psysml:87e3ce51-5094-4f5d-8d11-feac4ad1e872\" target=\"_top\" title=\"psysml:87e3ce51-5094-4f5d-8d11-feac4ad1e872\" xlink:actuate=\"onRequest\" xlink:href=\"psysml:87e3ce51-5094-4f5d-8d11-feac4ad1e872\" xlink:show=\"new\" xlink:title=\"psysml:87e3ce51-5094-4f5d-8d11-feac4ad1e872\" xlink:type=\"simple\"><g id=\"elem_E8\"><rect fill=\"#FFFFFF\" height=\"48.2656\" id=\"E8\" rx=\"10\" ry=\"10\" style=\"stroke:#181818;stroke-width:0.5;\" width=\"42\" x=\"179\" y=\"108\"/><text fill=\"#000000\" font-family=\"sans-serif\" font-size=\"12\" font-style=\"italic\" lengthAdjust=\"spacing\" textLength=\"40\" x=\"180\" y=\"124.1387\">«part»</text><text fill=\"#000000\" font-family=\"sans-serif\" font-size=\"14\" lengthAdjust=\"spacing\" textLength=\"27\" x=\"182.5\" y=\"139.9639\">z: B</text><line style=\"stroke:#181818;stroke-width:0.5;\" x1=\"180\" x2=\"220\" y1=\"148.2656\" y2=\"148.2656\"/></g></a><!--MD5=[09b614a08d8cba4a07c9adeb5e0fee81]\n",
       "class E3--><a href=\"psysml:5dfb8e4e-b010-43d6-9ea6-8d8096aa0cbd\" target=\"_top\" title=\"psysml:5dfb8e4e-b010-43d6-9ea6-8d8096aa0cbd\" xlink:actuate=\"onRequest\" xlink:href=\"psysml:5dfb8e4e-b010-43d6-9ea6-8d8096aa0cbd\" xlink:show=\"new\" xlink:title=\"psysml:5dfb8e4e-b010-43d6-9ea6-8d8096aa0cbd\" xlink:type=\"simple\"><g id=\"elem_E3\"><rect fill=\"#FFFFFF\" height=\"48.2656\" id=\"E3\" style=\"stroke:#181818;stroke-width:0.5;\" width=\"70\" x=\"268\" y=\"468\"/><text fill=\"#000000\" font-family=\"sans-serif\" font-size=\"12\" font-style=\"italic\" lengthAdjust=\"spacing\" textLength=\"68\" x=\"269\" y=\"484.1387\">«part  def»</text><text fill=\"#000000\" font-family=\"sans-serif\" font-size=\"14\" lengthAdjust=\"spacing\" textLength=\"9\" x=\"298.5\" y=\"499.9639\">A</text><line style=\"stroke:#181818;stroke-width:0.5;\" x1=\"269\" x2=\"337\" y1=\"508.2656\" y2=\"508.2656\"/></g></a><a href=\"psysml:6d745f5d-a6bd-48d3-bb38-b4db6224b450\" target=\"_top\" title=\"psysml:6d745f5d-a6bd-48d3-bb38-b4db6224b450\" xlink:actuate=\"onRequest\" xlink:href=\"psysml:6d745f5d-a6bd-48d3-bb38-b4db6224b450\" xlink:show=\"new\" xlink:title=\"psysml:6d745f5d-a6bd-48d3-bb38-b4db6224b450\" xlink:type=\"simple\"><polygon fill=\"#FFFFFF\" points=\"229,285.5,253,285.5,260,307.7969,267,307.7969,267,338.0938,229,338.0938,229,285.5\" style=\"stroke:#181818;stroke-width:0.5;\"/><line style=\"stroke:#181818;stroke-width:0.5;\" x1=\"229\" x2=\"260\" y1=\"307.7969\" y2=\"307.7969\"/><text fill=\"#000000\" font-family=\"sans-serif\" font-size=\"14\" lengthAdjust=\"spacing\" textLength=\"18\" x=\"233\" y=\"300.4951\">P2</text></a><!--MD5=[2156ba9850f5573cc1fc38a6a4b2f02b]\n",
       "class E7--><a href=\"psysml:05031283-db67-47ce-b074-a753e1e8519b\" target=\"_top\" title=\"psysml:05031283-db67-47ce-b074-a753e1e8519b\" xlink:actuate=\"onRequest\" xlink:href=\"psysml:05031283-db67-47ce-b074-a753e1e8519b\" xlink:show=\"new\" xlink:title=\"psysml:05031283-db67-47ce-b074-a753e1e8519b\" xlink:type=\"simple\"><g id=\"elem_E7\"><rect fill=\"#FFFFFF\" height=\"48.2656\" id=\"E7\" style=\"stroke:#181818;stroke-width:0.5;\" width=\"70\" x=\"111\" y=\"288\"/><text fill=\"#000000\" font-family=\"sans-serif\" font-size=\"12\" font-style=\"italic\" lengthAdjust=\"spacing\" textLength=\"68\" x=\"112\" y=\"304.1387\">«part  def»</text><text fill=\"#000000\" font-family=\"sans-serif\" font-size=\"14\" lengthAdjust=\"spacing\" textLength=\"10\" x=\"141\" y=\"319.9639\">B</text><line style=\"stroke:#181818;stroke-width:0.5;\" x1=\"112\" x2=\"180\" y1=\"328.2656\" y2=\"328.2656\"/></g></a><!--MD5=[96f4274e9e20536e775497830990834d]\n",
       "class E10--><a href=\"psysml:630baa2a-121f-4da7-a3fd-6c76e707d010\" target=\"_top\" title=\"psysml:630baa2a-121f-4da7-a3fd-6c76e707d010\" xlink:actuate=\"onRequest\" xlink:href=\"psysml:630baa2a-121f-4da7-a3fd-6c76e707d010\" xlink:show=\"new\" xlink:title=\"psysml:630baa2a-121f-4da7-a3fd-6c76e707d010\" xlink:type=\"simple\"><g id=\"elem_E10\"><rect fill=\"#FFFFFF\" height=\"48.2656\" id=\"E10\" rx=\"10\" ry=\"10\" style=\"stroke:#181818;stroke-width:0.5;\" width=\"49\" x=\"291.5\" y=\"108\"/><text fill=\"#000000\" font-family=\"sans-serif\" font-size=\"12\" font-style=\"italic\" lengthAdjust=\"spacing\" textLength=\"40\" x=\"296\" y=\"124.1387\">«part»</text><text fill=\"#000000\" font-family=\"sans-serif\" font-size=\"14\" lengthAdjust=\"spacing\" textLength=\"35\" x=\"294.5\" y=\"139.9639\">z1: A</text><line style=\"stroke:#181818;stroke-width:0.5;\" x1=\"292.5\" x2=\"339.5\" y1=\"148.2656\" y2=\"148.2656\"/></g></a><!--MD5=[185131fc0dcab0a4505a2ebe144e961b]\n",
       "link E4 to E2--><g id=\"link_E4_E2\"><a href=\"psysml:0487f209-9870-4837-a273-e80eaf0041e3\" target=\"_top\" title=\"psysml:0487f209-9870-4837-a273-e80eaf0041e3\" xlink:actuate=\"onRequest\" xlink:href=\"psysml:0487f209-9870-4837-a273-e80eaf0041e3\" xlink:show=\"new\" xlink:title=\"psysml:0487f209-9870-4837-a273-e80eaf0041e3\" xlink:type=\"simple\"><path d=\"M240.42,338.63 C234.4,358.97 227,384 227,384 C227,384 227,401 227,401 C227,401 227.3631,406.4506 227.9108,414.6691 C228.0477,416.7237 228.1961,418.9513 228.3533,421.3099 C228.4319,422.4893 228.5127,423.7014 228.5953,424.941 \" fill=\"none\" id=\"E4-to-E2\" style=\"stroke:#181818;stroke-width:1.0;stroke-dasharray:7.0,7.0;\"/><polygon fill=\"#181818\" points=\"228.5953,424.941,231.988,415.6949,228.2628,419.9521,224.0057,416.2269,228.5953,424.941\" style=\"stroke:#181818;stroke-width:1.0;\"/><text fill=\"#000000\" font-family=\"sans-serif\" font-size=\"13\" lengthAdjust=\"spacing\" textLength=\"65\" x=\"228\" y=\"397.0669\">«import»*</text></a></g><!--MD5=[e9be52314489bd878ff4c7144b63c9e1]\n",
       "link E5 to E3--><g id=\"link_E5_E3\"><a href=\"psysml:fdb905ca-fd31-45b2-b41e-28dfb09dbd5e\" target=\"_top\" title=\"psysml:fdb905ca-fd31-45b2-b41e-28dfb09dbd5e\" xlink:actuate=\"onRequest\" xlink:href=\"psysml:fdb905ca-fd31-45b2-b41e-28dfb09dbd5e\" xlink:show=\"new\" xlink:title=\"psysml:fdb905ca-fd31-45b2-b41e-28dfb09dbd5e\" xlink:type=\"simple\"><path d=\"M352.55,336.27 C343.46,364.65 327.92,413.19 316.66,448.34 \" fill=\"none\" id=\"E5-to-E3\" style=\"stroke:#181818;stroke-width:1.0;\"/><polygon fill=\"#FFFFFF\" points=\"310.45,467.72,309.5798,447.4902,322.9125,451.7611,310.45,467.72\" style=\"stroke:#181818;stroke-width:1.0;\"/><ellipse cx=\"313.2233\" cy=\"442.6721\" fill=\"#181818\" rx=\"2\" ry=\"2\" style=\"stroke:#181818;stroke-width:1.0;\"/><ellipse cx=\"322.7467\" cy=\"445.7227\" fill=\"#181818\" rx=\"2\" ry=\"2\" style=\"stroke:#181818;stroke-width:1.0;\"/></a></g><!--MD5=[ee384bb554873b72f85793eae40e290c]\n",
       "link E1 to E4--><g id=\"link_E1_E4\"><a href=\"psysml:60fcb482-826b-48b1-b5dc-27f8a317149a\" target=\"_top\" title=\"psysml:60fcb482-826b-48b1-b5dc-27f8a317149a\" xlink:actuate=\"onRequest\" xlink:href=\"psysml:60fcb482-826b-48b1-b5dc-27f8a317149a\" xlink:show=\"new\" xlink:title=\"psysml:60fcb482-826b-48b1-b5dc-27f8a317149a\" xlink:type=\"simple\"><path d=\"M28.01,133.05 C28.25,134.95 36,196 36,196 C36,196 81,204 81,204 C81,204 197,229 197,229 C197,229 214.66,257.39 229.19,280.76 \" fill=\"none\" id=\"E1-to-E4\" style=\"stroke:#181818;stroke-width:1.0;stroke-dasharray:7.0,7.0;\"/><polygon fill=\"#181818\" points=\"231.86,285.05,230.4968,275.2959,229.2164,280.806,223.7064,279.5257,231.86,285.05\" style=\"stroke:#181818;stroke-width:1.0;\"/><text fill=\"#000000\" font-family=\"sans-serif\" font-size=\"13\" lengthAdjust=\"spacing\" textLength=\"65\" x=\"160\" y=\"217.0669\">«import»*</text></a></g><!--MD5=[ccbd3af71bf83df0ec2a2db62d6d7130]\n",
       "link E1 to E6--><g id=\"link_E1_E6\"><a href=\"psysml:37c9a4c7-80e6-494a-a65a-d8ec35cca65c\" target=\"_top\" title=\"psysml:37c9a4c7-80e6-494a-a65a-d8ec35cca65c\" xlink:actuate=\"onRequest\" xlink:href=\"psysml:37c9a4c7-80e6-494a-a65a-d8ec35cca65c\" xlink:show=\"new\" xlink:title=\"psysml:37c9a4c7-80e6-494a-a65a-d8ec35cca65c\" xlink:type=\"simple\"><path d=\"M19.8842,159.191 C19.8433,159.3233 19.8022,159.4557 19.7611,159.5883 C19.4325,160.6492 19.1003,161.7215 18.7658,162.8009 C18.0969,164.9599 17.4191,167.1477 16.7425,169.3313 C11.33,186.8 6,204 6,204 C6,204 6,221 6,221 C6,221 22.9575,242.8025 40.18,264.945 C48.7913,276.0163 57.4688,287.1725 64.1259,295.7309 C64.9581,296.8007 65.7587,297.83 66.5236,298.8133 C66.9061,299.305 67.2796,299.7853 67.6438,300.2534 C67.7348,300.3704 67.8253,300.4867 67.9151,300.6022 \" fill=\"none\" id=\"E1-to-E6\" style=\"stroke:#181818;stroke-width:1.0;stroke-dasharray:7.0,7.0;\"/><polygon fill=\"#181818\" points=\"67.9151,300.6022,65.5465,291.0424,64.8452,296.6556,59.2319,295.9543,67.9151,300.6022\" style=\"stroke:#181818;stroke-width:1.0;\"/><text fill=\"#000000\" font-family=\"sans-serif\" font-size=\"13\" lengthAdjust=\"spacing\" textLength=\"65\" x=\"7\" y=\"217.0669\">«import»*</text></a></g><!--MD5=[bfa3c8b0d15052fdf50ae9310b491027]\n",
       "link E8 to E7--><g id=\"link_E8_E7\"><a href=\"psysml:f605a3b7-992a-46f2-9cbf-567dae0e656e\" target=\"_top\" title=\"psysml:f605a3b7-992a-46f2-9cbf-567dae0e656e\" xlink:actuate=\"onRequest\" xlink:href=\"psysml:f605a3b7-992a-46f2-9cbf-567dae0e656e\" xlink:show=\"new\" xlink:title=\"psysml:f605a3b7-992a-46f2-9cbf-567dae0e656e\" xlink:type=\"simple\"><path d=\"M212.44,156.25 C223.53,176.95 238,204 238,204 C238,204 238,221 238,221 C238,221 185,229 185,229 C185,229 175.39,249.21 165.71,269.56 \" fill=\"none\" id=\"E8-to-E7\" style=\"stroke:#181818;stroke-width:1.0;\"/><polygon fill=\"#FFFFFF\" points=\"157.07,287.72,158.92,267.5562,171.5596,273.5761,157.07,287.72\" style=\"stroke:#181818;stroke-width:1.0;\"/><ellipse cx=\"163.1766\" cy=\"263.2701\" fill=\"#181818\" rx=\"2\" ry=\"2\" style=\"stroke:#181818;stroke-width:1.0;\"/><ellipse cx=\"172.2049\" cy=\"267.5699\" fill=\"#181818\" rx=\"2\" ry=\"2\" style=\"stroke:#181818;stroke-width:1.0;\"/></a></g><!--MD5=[c2be97adba6ddfe1c8f349fab141c927]\n",
       "link E9 to E4--><g id=\"link_E9_E4\"><a href=\"psysml:f74e7f7d-bc69-4c36-9a7b-616abfb119b1\" target=\"_top\" title=\"psysml:f74e7f7d-bc69-4c36-9a7b-616abfb119b1\" xlink:actuate=\"onRequest\" xlink:href=\"psysml:f74e7f7d-bc69-4c36-9a7b-616abfb119b1\" xlink:show=\"new\" xlink:title=\"psysml:f74e7f7d-bc69-4c36-9a7b-616abfb119b1\" xlink:type=\"simple\"><path d=\"M253.8675,180.4864 C253.8574,180.7107 253.8473,180.9354 253.8372,181.1606 C253.7968,182.0612 253.756,182.969 253.7149,183.8833 C253.6327,185.7121 253.5494,187.5673 253.465,189.445 C252.115,219.4875 250.505,255.27 249.38,280.2 \" fill=\"none\" id=\"E9-to-E4\" style=\"stroke:#181818;stroke-width:1.0;stroke-dasharray:7.0,7.0;\"/><polygon fill=\"#181818\" points=\"249.15,285.47,253.5568,276.6621,249.3783,280.4752,245.5652,276.2967,249.15,285.47\" style=\"stroke:#181818;stroke-width:1.0;\"/><text fill=\"#000000\" font-family=\"sans-serif\" font-size=\"13\" lengthAdjust=\"spacing\" textLength=\"65\" x=\"253\" y=\"217.0669\">«import»*</text></a></g><!--MD5=[feeac5eb423634930294aa81f2d25a4c]\n",
       "link E10 to E3--><g id=\"link_E10_E3\"><a href=\"psysml:7688159c-03f6-437a-9242-bafcaad292a9\" target=\"_top\" title=\"psysml:7688159c-03f6-437a-9242-bafcaad292a9\" xlink:actuate=\"onRequest\" xlink:href=\"psysml:7688159c-03f6-437a-9242-bafcaad292a9\" xlink:show=\"new\" xlink:title=\"psysml:7688159c-03f6-437a-9242-bafcaad292a9\" xlink:type=\"simple\"><path d=\"M327.79,156.25 C338.29,176.95 352,204 352,204 C352,204 352,221 352,221 C352,221 308,229 308,229 C308,229 305.25,373.04 303.83,447.52 \" fill=\"none\" id=\"E10-to-E3\" style=\"stroke:#181818;stroke-width:1.0;\"/><polygon fill=\"#FFFFFF\" points=\"303.44,467.75,296.8079,448.6185,310.8053,448.8886,303.44,467.75\" style=\"stroke:#181818;stroke-width:1.0;\"/><ellipse cx=\"298.9175\" cy=\"442.9581\" fill=\"#181818\" rx=\"2\" ry=\"2\" style=\"stroke:#181818;stroke-width:1.0;\"/><ellipse cx=\"308.9157\" cy=\"443.1511\" fill=\"#181818\" rx=\"2\" ry=\"2\" style=\"stroke:#181818;stroke-width:1.0;\"/></a></g><!--MD5=[80fa87c9e8acfb3766ccc15eed6d9d62]\n",
       "@startuml\r\n",
       "skin sysmlbw\r\n",
       "skinparam monochrome true\r\n",
       "skinparam wrapWidth 300\r\n",
       "hide circle\r\n",
       "skinparam linetype polyline\r\n",
       "\r\n",
       "package \"PrivateImportTest\" as E1  [[psysml:11a30fa2-fbeb-4b2d-a071-2781e63d5a12 ]]  {\r\n",
       "package \"P1\" as E2  [[psysml:29bb8ef7-a50f-48a8-b243-dfabeed2550d ]]  {\r\n",
       "comp def \"A\" as E3  <<(T,blue) part  def>> [[psysml:5dfb8e4e-b010-43d6-9ea6-8d8096aa0cbd ]] {\r\n",
       "}\r\n",
       "}\r\n",
       "package \"P2\" as E4  [[psysml:6d745f5d-a6bd-48d3-bb38-b4db6224b450 ]]  {\r\n",
       "}\r\n",
       "comp usage \"x: A  \" as E5  <<(T,blue) part>> [[psysml:fd0b961b-4bae-44e8-b09a-9c87fac280e3 ]] {\r\n",
       "}\r\n",
       "package \"P3\" as E6  [[psysml:3afe7580-df30-4ff0-95e6-ec63d3638055 ]]  {\r\n",
       "comp def \"B\" as E7  <<(T,blue) part  def>> [[psysml:05031283-db67-47ce-b074-a753e1e8519b ]] {\r\n",
       "}\r\n",
       "}\r\n",
       "comp usage \"z: B  \" as E8  <<(T,blue) part>> [[psysml:87e3ce51-5094-4f5d-8d11-feac4ad1e872 ]] {\r\n",
       "}\r\n",
       "package \"P4\" as E9  [[psysml:a1b56716-f996-4480-88b0-3733f2d7733c ]]  {\r\n",
       "comp usage \"z1: A  \" as E10  <<(T,blue) part>> [[psysml:630baa2a-121f-4da7-a3fd-6c76e707d010 ]] {\r\n",
       "}\r\n",
       "}\r\n",
       "}\r\n",
       "E4 ..> E2 [[psysml:0487f209-9870-4837-a273-e80eaf0041e3 ]] : <<import>>*\r\n",
       "E5 - -:|> E3 [[psysml:fdb905ca-fd31-45b2-b41e-28dfb09dbd5e ]] \r\n",
       "E1 ..> E4 [[psysml:60fcb482-826b-48b1-b5dc-27f8a317149a ]] : <<import>>*\r\n",
       "E1 ..> E6 [[psysml:37c9a4c7-80e6-494a-a65a-d8ec35cca65c ]] : <<import>>*\r\n",
       "E8 - -:|> E7 [[psysml:f605a3b7-992a-46f2-9cbf-567dae0e656e ]] \r\n",
       "E9 ..> E4 [[psysml:f74e7f7d-bc69-4c36-9a7b-616abfb119b1 ]] : <<import>>*\r\n",
       "E10 - -:|> E3 [[psysml:7688159c-03f6-437a-9242-bafcaad292a9 ]] \r\n",
       "@enduml\r\n",
       "\n",
       "PlantUML version 1.2022.7(Mon Aug 22 17:01:30 UTC 2022)\n",
       "(EPL source distribution)\n",
       "Java Runtime: OpenJDK Runtime Environment\n",
       "JVM: OpenJDK 64-Bit Server VM\n",
       "Default Encoding: UTF-8\n",
       "Language: en\n",
       "Country: null\n",
       "--></g></svg>"
      ]
     },
     "execution_count": 10,
     "metadata": {},
     "output_type": "execute_result"
    }
   ],
   "source": [
    "%viz --style=\"POLYLINE\" --view=\"Tree\" \"PrivateImportTest\""
   ]
  },
  {
   "cell_type": "code",
   "execution_count": 11,
   "id": "99be6aae",
   "metadata": {
    "execution": {
     "iopub.execute_input": "2024-12-16T14:17:03.297848Z",
     "iopub.status.busy": "2024-12-16T14:17:03.297630Z",
     "iopub.status.idle": "2024-12-16T14:17:03.304662Z",
     "shell.execute_reply": "2024-12-16T14:17:03.304472Z"
    }
   },
   "outputs": [
    {
     "data": {
      "image/svg+xml": [
       "<?xml version=\"1.0\" encoding=\"UTF-8\" standalone=\"no\"?><svg xmlns=\"http://www.w3.org/2000/svg\" xmlns:xlink=\"http://www.w3.org/1999/xlink\" contentStyleType=\"text/css\" height=\"10px\" preserveAspectRatio=\"none\" style=\"width:10px;height:10px;background:#FFFFFF;\" version=\"1.1\" viewBox=\"0 0 10 10\" width=\"10px\" zoomAndPan=\"magnify\"><defs/><g><!--MD5=[20bed88d98f2aabbefdc8661420d403d]\n",
       "@startuml\r\n",
       "skin sysmlbw\r\n",
       "skinparam monochrome true\r\n",
       "skinparam wrapWidth 300\r\n",
       "hide circle\r\n",
       "skinparam linetype polyline\r\n",
       "\r\n",
       "@enduml\r\n",
       "\n",
       "PlantUML version 1.2022.7(Mon Aug 22 17:01:30 UTC 2022)\n",
       "(EPL source distribution)\n",
       "Java Runtime: OpenJDK Runtime Environment\n",
       "JVM: OpenJDK 64-Bit Server VM\n",
       "Default Encoding: UTF-8\n",
       "Language: en\n",
       "Country: null\n",
       "--></g></svg>"
      ]
     },
     "execution_count": 11,
     "metadata": {},
     "output_type": "execute_result"
    }
   ],
   "source": [
    "%viz --style=\"POLYLINE\" --view=\"State\" \"PrivateImportTest\""
   ]
  },
  {
   "cell_type": "code",
   "execution_count": 12,
   "id": "0e9a92e8",
   "metadata": {
    "execution": {
     "iopub.execute_input": "2024-12-16T14:17:03.357174Z",
     "iopub.status.busy": "2024-12-16T14:17:03.356656Z",
     "iopub.status.idle": "2024-12-16T14:17:03.383632Z",
     "shell.execute_reply": "2024-12-16T14:17:03.383459Z"
    }
   },
   "outputs": [
    {
     "data": {
      "image/svg+xml": [
       "<?xml version=\"1.0\" encoding=\"UTF-8\" standalone=\"no\"?><svg xmlns=\"http://www.w3.org/2000/svg\" xmlns:xlink=\"http://www.w3.org/1999/xlink\" contentStyleType=\"text/css\" height=\"573px\" preserveAspectRatio=\"none\" style=\"width:435px;height:573px;background:#FFFFFF;\" version=\"1.1\" viewBox=\"0 0 435 573\" width=\"435px\" zoomAndPan=\"magnify\"><defs/><g><!--MD5=[fbc87193dbaf4d95561dea2c320d4a47]\n",
       "cluster E1--><g id=\"cluster_E1\"><a href=\"psysml:11a30fa2-fbeb-4b2d-a071-2781e63d5a12\" target=\"_top\" title=\"psysml:11a30fa2-fbeb-4b2d-a071-2781e63d5a12\" xlink:actuate=\"onRequest\" xlink:href=\"psysml:11a30fa2-fbeb-4b2d-a071-2781e63d5a12\" xlink:show=\"new\" xlink:title=\"psysml:11a30fa2-fbeb-4b2d-a071-2781e63d5a12\" xlink:type=\"simple\"><polygon fill=\"none\" points=\"20,6,154.4375,6,161.4375,28.2969,418,28.2969,418,566,20,566,20,6\" style=\"stroke:#000000;stroke-width:1.5;\"/><line style=\"stroke:#000000;stroke-width:1.5;\" x1=\"20\" x2=\"161.4375\" y1=\"28.2969\" y2=\"28.2969\"/><text fill=\"#000000\" font-family=\"sans-serif\" font-size=\"14\" font-weight=\"bold\" lengthAdjust=\"spacing\" textLength=\"128.4375\" x=\"24\" y=\"20.9951\">PrivateImportTest</text></a></g><!--MD5=[e4f7fae6ed58524ba242bb0b0d3be6b7]\n",
       "cluster E2--><g id=\"cluster_E2\"><a href=\"psysml:29bb8ef7-a50f-48a8-b243-dfabeed2550d\" target=\"_top\" title=\"psysml:29bb8ef7-a50f-48a8-b243-dfabeed2550d\" xlink:actuate=\"onRequest\" xlink:href=\"psysml:29bb8ef7-a50f-48a8-b243-dfabeed2550d\" xlink:show=\"new\" xlink:title=\"psysml:29bb8ef7-a50f-48a8-b243-dfabeed2550d\" xlink:type=\"simple\"><polygon fill=\"none\" points=\"227,414,251.875,414,258.875,436.2969,369,436.2969,369,526,227,526,227,414\" style=\"stroke:#000000;stroke-width:1.5;\"/><line style=\"stroke:#000000;stroke-width:1.5;\" x1=\"227\" x2=\"258.875\" y1=\"436.2969\" y2=\"436.2969\"/><text fill=\"#000000\" font-family=\"sans-serif\" font-size=\"14\" font-weight=\"bold\" lengthAdjust=\"spacing\" textLength=\"18.875\" x=\"231\" y=\"428.9951\">P1</text></a></g><!--MD5=[14e3b0961a2654348d326746436168a1]\n",
       "cluster E6--><g id=\"cluster_E6\"><a href=\"psysml:3afe7580-df30-4ff0-95e6-ec63d3638055\" target=\"_top\" title=\"psysml:3afe7580-df30-4ff0-95e6-ec63d3638055\" xlink:actuate=\"onRequest\" xlink:href=\"psysml:3afe7580-df30-4ff0-95e6-ec63d3638055\" xlink:show=\"new\" xlink:title=\"psysml:3afe7580-df30-4ff0-95e6-ec63d3638055\" xlink:type=\"simple\"><polygon fill=\"none\" points=\"68,237,92.875,237,99.875,259.2969,210,259.2969,210,349,68,349,68,237\" style=\"stroke:#000000;stroke-width:1.5;\"/><line style=\"stroke:#000000;stroke-width:1.5;\" x1=\"68\" x2=\"99.875\" y1=\"259.2969\" y2=\"259.2969\"/><text fill=\"#000000\" font-family=\"sans-serif\" font-size=\"14\" font-weight=\"bold\" lengthAdjust=\"spacing\" textLength=\"18.875\" x=\"72\" y=\"251.9951\">P3</text></a></g><!--MD5=[7f149f147074ac12df2cb0a7728a5fb0]\n",
       "cluster E9--><g id=\"cluster_E9\"><a href=\"psysml:a1b56716-f996-4480-88b0-3733f2d7733c\" target=\"_top\" title=\"psysml:a1b56716-f996-4480-88b0-3733f2d7733c\" xlink:actuate=\"onRequest\" xlink:href=\"psysml:a1b56716-f996-4480-88b0-3733f2d7733c\" xlink:show=\"new\" xlink:title=\"psysml:a1b56716-f996-4480-88b0-3733f2d7733c\" xlink:type=\"simple\"><polygon fill=\"none\" points=\"261,65,285.875,65,292.875,87.2969,378,87.2969,378,172,261,172,261,65\" style=\"stroke:#000000;stroke-width:1.5;\"/><line style=\"stroke:#000000;stroke-width:1.5;\" x1=\"261\" x2=\"292.875\" y1=\"87.2969\" y2=\"87.2969\"/><text fill=\"#000000\" font-family=\"sans-serif\" font-size=\"14\" font-weight=\"bold\" lengthAdjust=\"spacing\" textLength=\"18.875\" x=\"265\" y=\"79.9951\">P4</text></a></g><g><a href=\"psysml:5dfb8e4e-b010-43d6-9ea6-8d8096aa0cbd\" target=\"_top\" title=\"psysml:5dfb8e4e-b010-43d6-9ea6-8d8096aa0cbd\" xlink:actuate=\"onRequest\" xlink:href=\"psysml:5dfb8e4e-b010-43d6-9ea6-8d8096aa0cbd\" xlink:show=\"new\" xlink:title=\"psysml:5dfb8e4e-b010-43d6-9ea6-8d8096aa0cbd\" xlink:type=\"simple\"><rect fill=\"#FFFFFF\" height=\"45.2656\" id=\"E3\" style=\"stroke:#383838;stroke-width:1.5;\" width=\"75\" x=\"270.5\" y=\"457\"/><text fill=\"#000000\" font-family=\"sans-serif\" font-size=\"12\" font-style=\"italic\" lengthAdjust=\"spacing\" textLength=\"68\" x=\"274\" y=\"473.1387\">«part  def»</text><text fill=\"#000000\" font-family=\"sans-serif\" font-size=\"14\" lengthAdjust=\"spacing\" textLength=\"9\" x=\"303.5\" y=\"488.9639\">A</text></a></g><a href=\"psysml:6d745f5d-a6bd-48d3-bb38-b4db6224b450\" target=\"_top\" title=\"psysml:6d745f5d-a6bd-48d3-bb38-b4db6224b450\" xlink:actuate=\"onRequest\" xlink:href=\"psysml:6d745f5d-a6bd-48d3-bb38-b4db6224b450\" xlink:show=\"new\" xlink:title=\"psysml:6d745f5d-a6bd-48d3-bb38-b4db6224b450\" xlink:type=\"simple\"><polygon fill=\"#FFFFFF\" points=\"234,276,258,276,265,298.2969,272,298.2969,272,328.5938,234,328.5938,234,276\" style=\"stroke:#181818;stroke-width:0.5;\"/><line style=\"stroke:#181818;stroke-width:0.5;\" x1=\"234\" x2=\"265\" y1=\"298.2969\" y2=\"298.2969\"/><text fill=\"#000000\" font-family=\"sans-serif\" font-size=\"14\" lengthAdjust=\"spacing\" textLength=\"18\" x=\"238\" y=\"290.9951\">P2</text></a><g><a href=\"psysml:fd0b961b-4bae-44e8-b09a-9c87fac280e3\" target=\"_top\" title=\"psysml:fd0b961b-4bae-44e8-b09a-9c87fac280e3\" xlink:actuate=\"onRequest\" xlink:href=\"psysml:fd0b961b-4bae-44e8-b09a-9c87fac280e3\" xlink:show=\"new\" xlink:title=\"psysml:fd0b961b-4bae-44e8-b09a-9c87fac280e3\" xlink:type=\"simple\"><rect fill=\"#FFFFFF\" height=\"40\" id=\"E5\" rx=\"10\" ry=\"10\" style=\"stroke:#383838;stroke-width:1.5;\" width=\"50\" x=\"344\" y=\"282.5\"/><text fill=\"#000000\" font-family=\"sans-serif\" font-size=\"14\" lengthAdjust=\"spacing\" textLength=\"25\" x=\"356.5\" y=\"300.4951\">x: A</text></a></g><g><a href=\"psysml:05031283-db67-47ce-b074-a753e1e8519b\" target=\"_top\" title=\"psysml:05031283-db67-47ce-b074-a753e1e8519b\" xlink:actuate=\"onRequest\" xlink:href=\"psysml:05031283-db67-47ce-b074-a753e1e8519b\" xlink:show=\"new\" xlink:title=\"psysml:05031283-db67-47ce-b074-a753e1e8519b\" xlink:type=\"simple\"><rect fill=\"#FFFFFF\" height=\"45.2656\" id=\"E7\" style=\"stroke:#383838;stroke-width:1.5;\" width=\"75\" x=\"111.5\" y=\"280\"/><text fill=\"#000000\" font-family=\"sans-serif\" font-size=\"12\" font-style=\"italic\" lengthAdjust=\"spacing\" textLength=\"68\" x=\"115\" y=\"296.1387\">«part  def»</text><text fill=\"#000000\" font-family=\"sans-serif\" font-size=\"14\" lengthAdjust=\"spacing\" textLength=\"10\" x=\"144\" y=\"311.9639\">B</text></a></g><g><a href=\"psysml:87e3ce51-5094-4f5d-8d11-feac4ad1e872\" target=\"_top\" title=\"psysml:87e3ce51-5094-4f5d-8d11-feac4ad1e872\" xlink:actuate=\"onRequest\" xlink:href=\"psysml:87e3ce51-5094-4f5d-8d11-feac4ad1e872\" xlink:show=\"new\" xlink:title=\"psysml:87e3ce51-5094-4f5d-8d11-feac4ad1e872\" xlink:type=\"simple\"><rect fill=\"#FFFFFF\" height=\"40\" id=\"E8\" rx=\"10\" ry=\"10\" style=\"stroke:#383838;stroke-width:1.5;\" width=\"50\" x=\"184\" y=\"108\"/><text fill=\"#000000\" font-family=\"sans-serif\" font-size=\"14\" lengthAdjust=\"spacing\" textLength=\"27\" x=\"195.5\" y=\"125.9951\">z: B</text></a></g><g><a href=\"psysml:630baa2a-121f-4da7-a3fd-6c76e707d010\" target=\"_top\" title=\"psysml:630baa2a-121f-4da7-a3fd-6c76e707d010\" xlink:actuate=\"onRequest\" xlink:href=\"psysml:630baa2a-121f-4da7-a3fd-6c76e707d010\" xlink:show=\"new\" xlink:title=\"psysml:630baa2a-121f-4da7-a3fd-6c76e707d010\" xlink:type=\"simple\"><rect fill=\"#FFFFFF\" height=\"40\" id=\"E10\" rx=\"10\" ry=\"10\" style=\"stroke:#383838;stroke-width:1.5;\" width=\"50\" x=\"304\" y=\"108\"/><text fill=\"#000000\" font-family=\"sans-serif\" font-size=\"14\" lengthAdjust=\"spacing\" textLength=\"35\" x=\"311.5\" y=\"125.9951\">z1: A</text></a></g><!--MD5=[185131fc0dcab0a4505a2ebe144e961b]\n",
       "link E4 to E2--><g id=\"link_E4_E2\"><a href=\"psysml:0487f209-9870-4837-a273-e80eaf0041e3\" target=\"_top\" title=\"psysml:0487f209-9870-4837-a273-e80eaf0041e3\" xlink:actuate=\"onRequest\" xlink:href=\"psysml:0487f209-9870-4837-a273-e80eaf0041e3\" xlink:show=\"new\" xlink:title=\"psysml:0487f209-9870-4837-a273-e80eaf0041e3\" xlink:type=\"simple\"><path d=\"M245.18,329.38 C239.21,349.14 232,373 232,373 C232,373 232,390 232,390 C232,390 232.1819,395.36 232.4561,403.4419 C232.5246,405.4623 232.599,407.6529 232.6777,409.9724 C232.717,411.1322 232.7575,412.3241 232.7988,413.5432 \" fill=\"none\" id=\"E4-to-E2\" style=\"stroke:#181818;stroke-width:1.0;stroke-dasharray:7.0,7.0;\"/><polygon fill=\"#181818\" points=\"232.7988,413.5432,236.4913,404.4127,232.6293,408.546,228.4959,404.684,232.7988,413.5432\" style=\"stroke:#181818;stroke-width:1.0;\"/><text fill=\"#000000\" font-family=\"sans-serif\" font-size=\"13\" lengthAdjust=\"spacing\" textLength=\"65\" x=\"233\" y=\"386.0669\">«import»*</text></a></g><!--MD5=[e9be52314489bd878ff4c7144b63c9e1]\n",
       "link E5 to E3--><g id=\"link_E5_E3\"><a href=\"psysml:fdb905ca-fd31-45b2-b41e-28dfb09dbd5e\" target=\"_top\" title=\"psysml:fdb905ca-fd31-45b2-b41e-28dfb09dbd5e\" xlink:actuate=\"onRequest\" xlink:href=\"psysml:fdb905ca-fd31-45b2-b41e-28dfb09dbd5e\" xlink:show=\"new\" xlink:title=\"psysml:fdb905ca-fd31-45b2-b41e-28dfb09dbd5e\" xlink:type=\"simple\"><path d=\"M362.36,322.56 C352.78,350.02 334.87,401.4 322.23,437.67 \" fill=\"none\" id=\"E5-to-E3\" style=\"stroke:#181818;stroke-width:1.0;\"/><polygon fill=\"#FFFFFF\" points=\"315.59,456.73,315.2364,436.4846,328.4558,441.0944,315.59,456.73\" style=\"stroke:#181818;stroke-width:1.0;\"/><ellipse cx=\"319.0018\" cy=\"431.761\" fill=\"#181818\" rx=\"2\" ry=\"2\" style=\"stroke:#181818;stroke-width:1.0;\"/><ellipse cx=\"328.4441\" cy=\"435.0537\" fill=\"#181818\" rx=\"2\" ry=\"2\" style=\"stroke:#181818;stroke-width:1.0;\"/></a></g><!--MD5=[ee384bb554873b72f85793eae40e290c]\n",
       "link E1 to E4--><g id=\"link_E1_E4\"><a href=\"psysml:60fcb482-826b-48b1-b5dc-27f8a317149a\" target=\"_top\" title=\"psysml:60fcb482-826b-48b1-b5dc-27f8a317149a\" xlink:actuate=\"onRequest\" xlink:href=\"psysml:60fcb482-826b-48b1-b5dc-27f8a317149a\" xlink:show=\"new\" xlink:title=\"psysml:60fcb482-826b-48b1-b5dc-27f8a317149a\" xlink:type=\"simple\"><path d=\"M28.02,129.17 C28.49,132.63 36,188 36,188 C36,188 81,196 81,196 C81,196 202,221 202,221 C202,221 219.29,248.29 233.74,271.1 \" fill=\"none\" id=\"E1-to-E4\" style=\"stroke:#181818;stroke-width:1.0;stroke-dasharray:7.0,7.0;\"/><polygon fill=\"#181818\" points=\"236.58,275.59,235.1399,265.847,233.903,271.367,228.3831,270.1301,236.58,275.59\" style=\"stroke:#181818;stroke-width:1.0;\"/><text fill=\"#000000\" font-family=\"sans-serif\" font-size=\"13\" lengthAdjust=\"spacing\" textLength=\"65\" x=\"163\" y=\"209.0669\">«import»*</text></a></g><!--MD5=[ccbd3af71bf83df0ec2a2db62d6d7130]\n",
       "link E1 to E6--><g id=\"link_E1_E6\"><a href=\"psysml:37c9a4c7-80e6-494a-a65a-d8ec35cca65c\" target=\"_top\" title=\"psysml:37c9a4c7-80e6-494a-a65a-d8ec35cca65c\" xlink:actuate=\"onRequest\" xlink:href=\"psysml:37c9a4c7-80e6-494a-a65a-d8ec35cca65c\" xlink:show=\"new\" xlink:title=\"psysml:37c9a4c7-80e6-494a-a65a-d8ec35cca65c\" xlink:type=\"simple\"><path d=\"M19.8842,153.7178 C19.8433,153.8426 19.8022,153.9676 19.7611,154.0927 C19.4325,155.0938 19.1003,156.1056 18.7658,157.1242 C18.0969,159.1613 17.4191,161.2258 16.7425,163.2863 C11.33,179.77 6,196 6,196 C6,196 6,213 6,213 C6,213 22.9575,234.44 40.18,256.215 C48.7913,267.1025 57.4688,278.0738 64.1259,286.4906 C64.9581,287.5427 65.7587,288.5549 66.5236,289.5221 C66.9061,290.0056 67.2796,290.4779 67.6438,290.9383 C67.7348,291.0534 67.8253,291.1678 67.9151,291.2814 \" fill=\"none\" id=\"E1-to-E6\" style=\"stroke:#181818;stroke-width:1.0;stroke-dasharray:7.0,7.0;\"/><polygon fill=\"#181818\" points=\"67.9151,291.2814,65.4692,281.741,64.8134,287.3597,59.1946,286.7038,67.9151,291.2814\" style=\"stroke:#181818;stroke-width:1.0;\"/><text fill=\"#000000\" font-family=\"sans-serif\" font-size=\"13\" lengthAdjust=\"spacing\" textLength=\"65\" x=\"7\" y=\"209.0669\">«import»*</text></a></g><!--MD5=[bfa3c8b0d15052fdf50ae9310b491027]\n",
       "link E8 to E7--><g id=\"link_E8_E7\"><a href=\"psysml:f605a3b7-992a-46f2-9cbf-567dae0e656e\" target=\"_top\" title=\"psysml:f605a3b7-992a-46f2-9cbf-567dae0e656e\" xlink:actuate=\"onRequest\" xlink:href=\"psysml:f605a3b7-992a-46f2-9cbf-567dae0e656e\" xlink:show=\"new\" xlink:title=\"psysml:f605a3b7-992a-46f2-9cbf-567dae0e656e\" xlink:type=\"simple\"><path d=\"M217.23,148.02 C225.81,167.83 238,196 238,196 C238,196 238,213 238,213 C238,213 191,221 191,221 C191,221 180.27,241.56 169.66,261.91 \" fill=\"none\" id=\"E8-to-E7\" style=\"stroke:#181818;stroke-width:1.0;\"/><polygon fill=\"#FFFFFF\" points=\"160.26,279.93,162.8366,259.8461,175.2507,266.3183,160.26,279.93\" style=\"stroke:#181818;stroke-width:1.0;\"/><ellipse cx=\"167.2451\" cy=\"255.7164\" fill=\"#181818\" rx=\"2\" ry=\"2\" style=\"stroke:#181818;stroke-width:1.0;\"/><ellipse cx=\"176.1124\" cy=\"260.3394\" fill=\"#181818\" rx=\"2\" ry=\"2\" style=\"stroke:#181818;stroke-width:1.0;\"/></a></g><!--MD5=[c2be97adba6ddfe1c8f349fab141c927]\n",
       "link E9 to E4--><g id=\"link_E9_E4\"><a href=\"psysml:f74e7f7d-bc69-4c36-9a7b-616abfb119b1\" target=\"_top\" title=\"psysml:f74e7f7d-bc69-4c36-9a7b-616abfb119b1\" xlink:actuate=\"onRequest\" xlink:href=\"psysml:f74e7f7d-bc69-4c36-9a7b-616abfb119b1\" xlink:show=\"new\" xlink:title=\"psysml:f74e7f7d-bc69-4c36-9a7b-616abfb119b1\" xlink:type=\"simple\"><path d=\"M266.075,172.1309 C266.0614,172.3315 266.0479,172.531 266.0345,172.7294 C265.9807,173.5228 265.9282,174.2982 265.8771,175.0522 C265.7749,176.5604 265.6785,177.9831 265.5897,179.2944 C265.2344,184.5394 265,188 265,188 C265,188 259.83,236.89 256.28,270.49 \" fill=\"none\" id=\"E9-to-E4\" style=\"stroke:#181818;stroke-width:1.0;stroke-dasharray:7.0,7.0;\"/><polygon fill=\"#181818\" points=\"255.72,275.75,260.6491,267.2233,256.2486,270.778,252.694,266.3775,255.72,275.75\" style=\"stroke:#181818;stroke-width:1.0;\"/><text fill=\"#000000\" font-family=\"sans-serif\" font-size=\"13\" lengthAdjust=\"spacing\" textLength=\"65\" x=\"264\" y=\"209.0669\">«import»*</text></a></g><!--MD5=[feeac5eb423634930294aa81f2d25a4c]\n",
       "link E10 to E3--><g id=\"link_E10_E3\"><a href=\"psysml:7688159c-03f6-437a-9242-bafcaad292a9\" target=\"_top\" title=\"psysml:7688159c-03f6-437a-9242-bafcaad292a9\" xlink:actuate=\"onRequest\" xlink:href=\"psysml:7688159c-03f6-437a-9242-bafcaad292a9\" xlink:show=\"new\" xlink:title=\"psysml:7688159c-03f6-437a-9242-bafcaad292a9\" xlink:type=\"simple\"><path d=\"M335.53,148.02 C342.33,167.83 352,196 352,196 C352,196 352,213 352,213 C352,213 313,221 313,221 C313,221 310.22,363.99 308.81,436.86 \" fill=\"none\" id=\"E10-to-E3\" style=\"stroke:#181818;stroke-width:1.0;\"/><polygon fill=\"#FFFFFF\" points=\"308.42,456.99,301.7879,437.8585,315.7853,438.1286,308.42,456.99\" style=\"stroke:#181818;stroke-width:1.0;\"/><ellipse cx=\"303.8975\" cy=\"432.1981\" fill=\"#181818\" rx=\"2\" ry=\"2\" style=\"stroke:#181818;stroke-width:1.0;\"/><ellipse cx=\"313.8957\" cy=\"432.3911\" fill=\"#181818\" rx=\"2\" ry=\"2\" style=\"stroke:#181818;stroke-width:1.0;\"/></a></g><!--MD5=[cd2c4463eacefbfcc18eef0395a00eea]\n",
       "@startuml\r\n",
       "skin sysmlbw\r\n",
       "skinparam monochrome true\r\n",
       "skinparam wrapWidth 300\r\n",
       "hide circle\r\n",
       "skinparam linetype polyline\r\n",
       "skinparam ranksep 10\r\n",
       "skinparam rectangle {\r\n",
       " backgroundColor<<block>> LightGreen\r\n",
       "}\r\n",
       "\r\n",
       "package \"PrivateImportTest\" as E1  [[psysml:11a30fa2-fbeb-4b2d-a071-2781e63d5a12 ]]  {\r\n",
       "package \"P1\" as E2  [[psysml:29bb8ef7-a50f-48a8-b243-dfabeed2550d ]]  {\r\n",
       "rec def \"A\" as E3  <<(T,blue) part  def>> [[psysml:5dfb8e4e-b010-43d6-9ea6-8d8096aa0cbd ]] {\r\n",
       "}\r\n",
       "}\r\n",
       "package \"P2\" as E4  [[psysml:6d745f5d-a6bd-48d3-bb38-b4db6224b450 ]]  {\r\n",
       "}\r\n",
       "rec usage \"x: A\" as E5 [[psysml:fd0b961b-4bae-44e8-b09a-9c87fac280e3 ]] {\r\n",
       "}\r\n",
       "package \"P3\" as E6  [[psysml:3afe7580-df30-4ff0-95e6-ec63d3638055 ]]  {\r\n",
       "rec def \"B\" as E7  <<(T,blue) part  def>> [[psysml:05031283-db67-47ce-b074-a753e1e8519b ]] {\r\n",
       "}\r\n",
       "}\r\n",
       "rec usage \"z: B\" as E8 [[psysml:87e3ce51-5094-4f5d-8d11-feac4ad1e872 ]] {\r\n",
       "}\r\n",
       "package \"P4\" as E9  [[psysml:a1b56716-f996-4480-88b0-3733f2d7733c ]]  {\r\n",
       "rec usage \"z1: A\" as E10 [[psysml:630baa2a-121f-4da7-a3fd-6c76e707d010 ]] {\r\n",
       "}\r\n",
       "}\r\n",
       "}\r\n",
       "E4 ..> E2 [[psysml:0487f209-9870-4837-a273-e80eaf0041e3 ]] : <<import>>*\r\n",
       "E5 - -:|> E3 [[psysml:fdb905ca-fd31-45b2-b41e-28dfb09dbd5e ]] \r\n",
       "E1 ..> E4 [[psysml:60fcb482-826b-48b1-b5dc-27f8a317149a ]] : <<import>>*\r\n",
       "E1 ..> E6 [[psysml:37c9a4c7-80e6-494a-a65a-d8ec35cca65c ]] : <<import>>*\r\n",
       "E8 - -:|> E7 [[psysml:f605a3b7-992a-46f2-9cbf-567dae0e656e ]] \r\n",
       "E9 ..> E4 [[psysml:f74e7f7d-bc69-4c36-9a7b-616abfb119b1 ]] : <<import>>*\r\n",
       "E10 - -:|> E3 [[psysml:7688159c-03f6-437a-9242-bafcaad292a9 ]] \r\n",
       "@enduml\r\n",
       "\n",
       "PlantUML version 1.2022.7(Mon Aug 22 17:01:30 UTC 2022)\n",
       "(EPL source distribution)\n",
       "Java Runtime: OpenJDK Runtime Environment\n",
       "JVM: OpenJDK 64-Bit Server VM\n",
       "Default Encoding: UTF-8\n",
       "Language: en\n",
       "Country: null\n",
       "--></g></svg>"
      ]
     },
     "execution_count": 12,
     "metadata": {},
     "output_type": "execute_result"
    }
   ],
   "source": [
    "%viz --style=\"POLYLINE\" --view=\"Interconnection\" \"PrivateImportTest\""
   ]
  },
  {
   "cell_type": "code",
   "execution_count": 13,
   "id": "f2d797f8",
   "metadata": {
    "execution": {
     "iopub.execute_input": "2024-12-16T14:17:03.438957Z",
     "iopub.status.busy": "2024-12-16T14:17:03.438617Z",
     "iopub.status.idle": "2024-12-16T14:17:03.445212Z",
     "shell.execute_reply": "2024-12-16T14:17:03.445008Z"
    }
   },
   "outputs": [
    {
     "data": {
      "image/svg+xml": [
       "<?xml version=\"1.0\" encoding=\"UTF-8\" standalone=\"no\"?><svg xmlns=\"http://www.w3.org/2000/svg\" xmlns:xlink=\"http://www.w3.org/1999/xlink\" contentStyleType=\"text/css\" height=\"10px\" preserveAspectRatio=\"none\" style=\"width:10px;height:10px;background:#FFFFFF;\" version=\"1.1\" viewBox=\"0 0 10 10\" width=\"10px\" zoomAndPan=\"magnify\"><defs/><g><!--MD5=[ff8e7c24accf200c4355ceeab022c402]\n",
       "@startuml\r\n",
       "skin sysmlbw\r\n",
       "skinparam monochrome true\r\n",
       "skinparam wrapWidth 300\r\n",
       "hide circle\r\n",
       "skinparam linetype polyline\r\n",
       "skinparam ranksep 8\r\n",
       "\r\n",
       "@enduml\r\n",
       "\n",
       "PlantUML version 1.2022.7(Mon Aug 22 17:01:30 UTC 2022)\n",
       "(EPL source distribution)\n",
       "Java Runtime: OpenJDK Runtime Environment\n",
       "JVM: OpenJDK 64-Bit Server VM\n",
       "Default Encoding: UTF-8\n",
       "Language: en\n",
       "Country: null\n",
       "--></g></svg>"
      ]
     },
     "execution_count": 13,
     "metadata": {},
     "output_type": "execute_result"
    }
   ],
   "source": [
    "%viz --style=\"POLYLINE\" --view=\"Action\" \"PrivateImportTest\""
   ]
  },
  {
   "cell_type": "code",
   "execution_count": 14,
   "id": "24907ba6",
   "metadata": {
    "execution": {
     "iopub.execute_input": "2024-12-16T14:17:03.500078Z",
     "iopub.status.busy": "2024-12-16T14:17:03.499852Z",
     "iopub.status.idle": "2024-12-16T14:17:03.506268Z",
     "shell.execute_reply": "2024-12-16T14:17:03.506394Z"
    }
   },
   "outputs": [
    {
     "data": {
      "image/svg+xml": [
       "<?xml version=\"1.0\" encoding=\"UTF-8\" standalone=\"no\"?><svg xmlns=\"http://www.w3.org/2000/svg\" xmlns:xlink=\"http://www.w3.org/1999/xlink\" contentStyleType=\"text/css\" height=\"10px\" preserveAspectRatio=\"none\" style=\"width:10px;height:10px;background:#FFFFFF;\" version=\"1.1\" viewBox=\"0 0 10 10\" width=\"10px\" zoomAndPan=\"magnify\"><defs/><g><!--MD5=[efefafbf36b45173e0355713d9054f90]\n",
       "@startuml\r\n",
       "skin sysmlbw\r\n",
       "skinparam monochrome true\r\n",
       "skinparam wrapWidth 300\r\n",
       "hide circle\r\n",
       "skinparam linetype polyline\r\n",
       "skinparam roundcorner 20\r\n",
       "skinparam BoxPadding 20\r\n",
       "skinparam SequenceBoxBackgroundColor #white\r\n",
       "skinparam style strictuml\r\n",
       "skinparam maxMessageSize 100\r\n",
       "\r\n",
       "@enduml\r\n",
       "\n",
       "PlantUML version 1.2022.7(Mon Aug 22 17:01:30 UTC 2022)\n",
       "(EPL source distribution)\n",
       "Java Runtime: OpenJDK Runtime Environment\n",
       "JVM: OpenJDK 64-Bit Server VM\n",
       "Default Encoding: UTF-8\n",
       "Language: en\n",
       "Country: null\n",
       "--></g></svg>"
      ]
     },
     "execution_count": 14,
     "metadata": {},
     "output_type": "execute_result"
    }
   ],
   "source": [
    "%viz --style=\"POLYLINE\" --view=\"Sequence\" \"PrivateImportTest\""
   ]
  },
  {
   "cell_type": "code",
   "execution_count": 15,
   "id": "3068c441",
   "metadata": {
    "execution": {
     "iopub.execute_input": "2024-12-16T14:17:03.563226Z",
     "iopub.status.busy": "2024-12-16T14:17:03.562849Z",
     "iopub.status.idle": "2024-12-16T14:17:03.601368Z",
     "shell.execute_reply": "2024-12-16T14:17:03.600112Z"
    }
   },
   "outputs": [
    {
     "data": {
      "image/svg+xml": [
       "<?xml version=\"1.0\" encoding=\"UTF-8\" standalone=\"no\"?><svg xmlns=\"http://www.w3.org/2000/svg\" xmlns:xlink=\"http://www.w3.org/1999/xlink\" contentStyleType=\"text/css\" height=\"587px\" preserveAspectRatio=\"none\" style=\"width:422px;height:587px;background:#FFFFFF;\" version=\"1.1\" viewBox=\"0 0 422 587\" width=\"422px\" zoomAndPan=\"magnify\"><defs/><g><!--MD5=[fbc87193dbaf4d95561dea2c320d4a47]\n",
       "cluster E1--><g id=\"cluster_E1\"><a href=\"psysml:11a30fa2-fbeb-4b2d-a071-2781e63d5a12\" target=\"_top\" title=\"psysml:11a30fa2-fbeb-4b2d-a071-2781e63d5a12\" xlink:actuate=\"onRequest\" xlink:href=\"psysml:11a30fa2-fbeb-4b2d-a071-2781e63d5a12\" xlink:show=\"new\" xlink:title=\"psysml:11a30fa2-fbeb-4b2d-a071-2781e63d5a12\" xlink:type=\"simple\"><polygon fill=\"none\" points=\"20,6,154.4375,6,161.4375,28.2969,405,28.2969,405,580,20,580,20,6\" style=\"stroke:#000000;stroke-width:1.5;\"/><line style=\"stroke:#000000;stroke-width:1.5;\" x1=\"20\" x2=\"161.4375\" y1=\"28.2969\" y2=\"28.2969\"/><text fill=\"#000000\" font-family=\"sans-serif\" font-size=\"14\" font-weight=\"bold\" lengthAdjust=\"spacing\" textLength=\"128.4375\" x=\"24\" y=\"20.9951\">PrivateImportTest</text></a></g><!--MD5=[e4f7fae6ed58524ba242bb0b0d3be6b7]\n",
       "cluster E2--><g id=\"cluster_E2\"><a href=\"psysml:29bb8ef7-a50f-48a8-b243-dfabeed2550d\" target=\"_top\" title=\"psysml:29bb8ef7-a50f-48a8-b243-dfabeed2550d\" xlink:actuate=\"onRequest\" xlink:href=\"psysml:29bb8ef7-a50f-48a8-b243-dfabeed2550d\" xlink:show=\"new\" xlink:title=\"psysml:29bb8ef7-a50f-48a8-b243-dfabeed2550d\" xlink:type=\"simple\"><polygon fill=\"none\" points=\"225,425,249.875,425,256.875,447.2969,362,447.2969,362,540,225,540,225,425\" style=\"stroke:#000000;stroke-width:1.5;\"/><line style=\"stroke:#000000;stroke-width:1.5;\" x1=\"225\" x2=\"256.875\" y1=\"447.2969\" y2=\"447.2969\"/><text fill=\"#000000\" font-family=\"sans-serif\" font-size=\"14\" font-weight=\"bold\" lengthAdjust=\"spacing\" textLength=\"18.875\" x=\"229\" y=\"439.9951\">P1</text></a></g><!--MD5=[14e3b0961a2654348d326746436168a1]\n",
       "cluster E6--><g id=\"cluster_E6\"><a href=\"psysml:3afe7580-df30-4ff0-95e6-ec63d3638055\" target=\"_top\" title=\"psysml:3afe7580-df30-4ff0-95e6-ec63d3638055\" xlink:actuate=\"onRequest\" xlink:href=\"psysml:3afe7580-df30-4ff0-95e6-ec63d3638055\" xlink:show=\"new\" xlink:title=\"psysml:3afe7580-df30-4ff0-95e6-ec63d3638055\" xlink:type=\"simple\"><polygon fill=\"none\" points=\"68,245,92.875,245,99.875,267.2969,205,267.2969,205,360,68,360,68,245\" style=\"stroke:#000000;stroke-width:1.5;\"/><line style=\"stroke:#000000;stroke-width:1.5;\" x1=\"68\" x2=\"99.875\" y1=\"267.2969\" y2=\"267.2969\"/><text fill=\"#000000\" font-family=\"sans-serif\" font-size=\"14\" font-weight=\"bold\" lengthAdjust=\"spacing\" textLength=\"18.875\" x=\"72\" y=\"259.9951\">P3</text></a></g><!--MD5=[7f149f147074ac12df2cb0a7728a5fb0]\n",
       "cluster E9--><g id=\"cluster_E9\"><a href=\"psysml:a1b56716-f996-4480-88b0-3733f2d7733c\" target=\"_top\" title=\"psysml:a1b56716-f996-4480-88b0-3733f2d7733c\" xlink:actuate=\"onRequest\" xlink:href=\"psysml:a1b56716-f996-4480-88b0-3733f2d7733c\" xlink:show=\"new\" xlink:title=\"psysml:a1b56716-f996-4480-88b0-3733f2d7733c\" xlink:type=\"simple\"><polygon fill=\"none\" points=\"248,65,272.875,65,279.875,87.2969,365,87.2969,365,180,248,180,248,65\" style=\"stroke:#000000;stroke-width:1.5;\"/><line style=\"stroke:#000000;stroke-width:1.5;\" x1=\"248\" x2=\"279.875\" y1=\"87.2969\" y2=\"87.2969\"/><text fill=\"#000000\" font-family=\"sans-serif\" font-size=\"14\" font-weight=\"bold\" lengthAdjust=\"spacing\" textLength=\"18.875\" x=\"252\" y=\"79.9951\">P4</text></a></g><!--MD5=[270fce915f116d4de14055a7c1d9a0f3]\n",
       "class E5--><a href=\"psysml:fd0b961b-4bae-44e8-b09a-9c87fac280e3\" target=\"_top\" title=\"psysml:fd0b961b-4bae-44e8-b09a-9c87fac280e3\" xlink:actuate=\"onRequest\" xlink:href=\"psysml:fd0b961b-4bae-44e8-b09a-9c87fac280e3\" xlink:show=\"new\" xlink:title=\"psysml:fd0b961b-4bae-44e8-b09a-9c87fac280e3\" xlink:type=\"simple\"><g id=\"elem_E5\"><rect fill=\"#FFFFFF\" height=\"48.2656\" id=\"E5\" rx=\"10\" ry=\"10\" style=\"stroke:#181818;stroke-width:0.5;\" width=\"42\" x=\"339\" y=\"288\"/><text fill=\"#000000\" font-family=\"sans-serif\" font-size=\"12\" font-style=\"italic\" lengthAdjust=\"spacing\" textLength=\"40\" x=\"340\" y=\"304.1387\">«part»</text><text fill=\"#000000\" font-family=\"sans-serif\" font-size=\"14\" lengthAdjust=\"spacing\" textLength=\"25\" x=\"343.5\" y=\"319.9639\">x: A</text><line style=\"stroke:#181818;stroke-width:0.5;\" x1=\"340\" x2=\"380\" y1=\"328.2656\" y2=\"328.2656\"/></g></a><!--MD5=[b9389687b975829384b498ac4b7476b2]\n",
       "class E8--><a href=\"psysml:87e3ce51-5094-4f5d-8d11-feac4ad1e872\" target=\"_top\" title=\"psysml:87e3ce51-5094-4f5d-8d11-feac4ad1e872\" xlink:actuate=\"onRequest\" xlink:href=\"psysml:87e3ce51-5094-4f5d-8d11-feac4ad1e872\" xlink:show=\"new\" xlink:title=\"psysml:87e3ce51-5094-4f5d-8d11-feac4ad1e872\" xlink:type=\"simple\"><g id=\"elem_E8\"><rect fill=\"#FFFFFF\" height=\"48.2656\" id=\"E8\" rx=\"10\" ry=\"10\" style=\"stroke:#181818;stroke-width:0.5;\" width=\"42\" x=\"179\" y=\"108\"/><text fill=\"#000000\" font-family=\"sans-serif\" font-size=\"12\" font-style=\"italic\" lengthAdjust=\"spacing\" textLength=\"40\" x=\"180\" y=\"124.1387\">«part»</text><text fill=\"#000000\" font-family=\"sans-serif\" font-size=\"14\" lengthAdjust=\"spacing\" textLength=\"27\" x=\"182.5\" y=\"139.9639\">z: B</text><line style=\"stroke:#181818;stroke-width:0.5;\" x1=\"180\" x2=\"220\" y1=\"148.2656\" y2=\"148.2656\"/></g></a><!--MD5=[09b614a08d8cba4a07c9adeb5e0fee81]\n",
       "class E3--><a href=\"psysml:5dfb8e4e-b010-43d6-9ea6-8d8096aa0cbd\" target=\"_top\" title=\"psysml:5dfb8e4e-b010-43d6-9ea6-8d8096aa0cbd\" xlink:actuate=\"onRequest\" xlink:href=\"psysml:5dfb8e4e-b010-43d6-9ea6-8d8096aa0cbd\" xlink:show=\"new\" xlink:title=\"psysml:5dfb8e4e-b010-43d6-9ea6-8d8096aa0cbd\" xlink:type=\"simple\"><g id=\"elem_E3\"><rect fill=\"#FFFFFF\" height=\"48.2656\" id=\"E3\" style=\"stroke:#181818;stroke-width:0.5;\" width=\"70\" x=\"268\" y=\"468\"/><text fill=\"#000000\" font-family=\"sans-serif\" font-size=\"12\" font-style=\"italic\" lengthAdjust=\"spacing\" textLength=\"68\" x=\"269\" y=\"484.1387\">«part  def»</text><text fill=\"#000000\" font-family=\"sans-serif\" font-size=\"14\" lengthAdjust=\"spacing\" textLength=\"9\" x=\"298.5\" y=\"499.9639\">A</text><line style=\"stroke:#181818;stroke-width:0.5;\" x1=\"269\" x2=\"337\" y1=\"508.2656\" y2=\"508.2656\"/></g></a><a href=\"psysml:6d745f5d-a6bd-48d3-bb38-b4db6224b450\" target=\"_top\" title=\"psysml:6d745f5d-a6bd-48d3-bb38-b4db6224b450\" xlink:actuate=\"onRequest\" xlink:href=\"psysml:6d745f5d-a6bd-48d3-bb38-b4db6224b450\" xlink:show=\"new\" xlink:title=\"psysml:6d745f5d-a6bd-48d3-bb38-b4db6224b450\" xlink:type=\"simple\"><polygon fill=\"#FFFFFF\" points=\"229,285.5,253,285.5,260,307.7969,267,307.7969,267,338.0938,229,338.0938,229,285.5\" style=\"stroke:#181818;stroke-width:0.5;\"/><line style=\"stroke:#181818;stroke-width:0.5;\" x1=\"229\" x2=\"260\" y1=\"307.7969\" y2=\"307.7969\"/><text fill=\"#000000\" font-family=\"sans-serif\" font-size=\"14\" lengthAdjust=\"spacing\" textLength=\"18\" x=\"233\" y=\"300.4951\">P2</text></a><!--MD5=[2156ba9850f5573cc1fc38a6a4b2f02b]\n",
       "class E7--><a href=\"psysml:05031283-db67-47ce-b074-a753e1e8519b\" target=\"_top\" title=\"psysml:05031283-db67-47ce-b074-a753e1e8519b\" xlink:actuate=\"onRequest\" xlink:href=\"psysml:05031283-db67-47ce-b074-a753e1e8519b\" xlink:show=\"new\" xlink:title=\"psysml:05031283-db67-47ce-b074-a753e1e8519b\" xlink:type=\"simple\"><g id=\"elem_E7\"><rect fill=\"#FFFFFF\" height=\"48.2656\" id=\"E7\" style=\"stroke:#181818;stroke-width:0.5;\" width=\"70\" x=\"111\" y=\"288\"/><text fill=\"#000000\" font-family=\"sans-serif\" font-size=\"12\" font-style=\"italic\" lengthAdjust=\"spacing\" textLength=\"68\" x=\"112\" y=\"304.1387\">«part  def»</text><text fill=\"#000000\" font-family=\"sans-serif\" font-size=\"14\" lengthAdjust=\"spacing\" textLength=\"10\" x=\"141\" y=\"319.9639\">B</text><line style=\"stroke:#181818;stroke-width:0.5;\" x1=\"112\" x2=\"180\" y1=\"328.2656\" y2=\"328.2656\"/></g></a><!--MD5=[96f4274e9e20536e775497830990834d]\n",
       "class E10--><a href=\"psysml:630baa2a-121f-4da7-a3fd-6c76e707d010\" target=\"_top\" title=\"psysml:630baa2a-121f-4da7-a3fd-6c76e707d010\" xlink:actuate=\"onRequest\" xlink:href=\"psysml:630baa2a-121f-4da7-a3fd-6c76e707d010\" xlink:show=\"new\" xlink:title=\"psysml:630baa2a-121f-4da7-a3fd-6c76e707d010\" xlink:type=\"simple\"><g id=\"elem_E10\"><rect fill=\"#FFFFFF\" height=\"48.2656\" id=\"E10\" rx=\"10\" ry=\"10\" style=\"stroke:#181818;stroke-width:0.5;\" width=\"49\" x=\"291.5\" y=\"108\"/><text fill=\"#000000\" font-family=\"sans-serif\" font-size=\"12\" font-style=\"italic\" lengthAdjust=\"spacing\" textLength=\"40\" x=\"296\" y=\"124.1387\">«part»</text><text fill=\"#000000\" font-family=\"sans-serif\" font-size=\"14\" lengthAdjust=\"spacing\" textLength=\"35\" x=\"294.5\" y=\"139.9639\">z1: A</text><line style=\"stroke:#181818;stroke-width:0.5;\" x1=\"292.5\" x2=\"339.5\" y1=\"148.2656\" y2=\"148.2656\"/></g></a><!--MD5=[185131fc0dcab0a4505a2ebe144e961b]\n",
       "link E4 to E2--><g id=\"link_E4_E2\"><a href=\"psysml:0487f209-9870-4837-a273-e80eaf0041e3\" target=\"_top\" title=\"psysml:0487f209-9870-4837-a273-e80eaf0041e3\" xlink:actuate=\"onRequest\" xlink:href=\"psysml:0487f209-9870-4837-a273-e80eaf0041e3\" xlink:show=\"new\" xlink:title=\"psysml:0487f209-9870-4837-a273-e80eaf0041e3\" xlink:type=\"simple\"><path d=\"M240.42,338.63 C234.4,358.97 227,384 227,384 C227,384 227,401 227,401 C227,401 227.3631,406.4506 227.9108,414.6691 C228.0477,416.7237 228.1961,418.9513 228.3533,421.3099 C228.4319,422.4893 228.5127,423.7014 228.5953,424.941 \" fill=\"none\" id=\"E4-to-E2\" style=\"stroke:#181818;stroke-width:1.0;stroke-dasharray:7.0,7.0;\"/><polygon fill=\"#181818\" points=\"228.5953,424.941,231.988,415.6949,228.2628,419.9521,224.0057,416.2269,228.5953,424.941\" style=\"stroke:#181818;stroke-width:1.0;\"/><text fill=\"#000000\" font-family=\"sans-serif\" font-size=\"13\" lengthAdjust=\"spacing\" textLength=\"65\" x=\"228\" y=\"397.0669\">«import»*</text></a></g><!--MD5=[e9be52314489bd878ff4c7144b63c9e1]\n",
       "link E5 to E3--><g id=\"link_E5_E3\"><a href=\"psysml:fdb905ca-fd31-45b2-b41e-28dfb09dbd5e\" target=\"_top\" title=\"psysml:fdb905ca-fd31-45b2-b41e-28dfb09dbd5e\" xlink:actuate=\"onRequest\" xlink:href=\"psysml:fdb905ca-fd31-45b2-b41e-28dfb09dbd5e\" xlink:show=\"new\" xlink:title=\"psysml:fdb905ca-fd31-45b2-b41e-28dfb09dbd5e\" xlink:type=\"simple\"><path d=\"M352.55,336.27 C343.46,364.65 327.92,413.19 316.66,448.34 \" fill=\"none\" id=\"E5-to-E3\" style=\"stroke:#181818;stroke-width:1.0;\"/><polygon fill=\"#FFFFFF\" points=\"310.45,467.72,309.5798,447.4902,322.9125,451.7611,310.45,467.72\" style=\"stroke:#181818;stroke-width:1.0;\"/><ellipse cx=\"313.2233\" cy=\"442.6721\" fill=\"#181818\" rx=\"2\" ry=\"2\" style=\"stroke:#181818;stroke-width:1.0;\"/><ellipse cx=\"322.7467\" cy=\"445.7227\" fill=\"#181818\" rx=\"2\" ry=\"2\" style=\"stroke:#181818;stroke-width:1.0;\"/></a></g><!--MD5=[ee384bb554873b72f85793eae40e290c]\n",
       "link E1 to E4--><g id=\"link_E1_E4\"><a href=\"psysml:60fcb482-826b-48b1-b5dc-27f8a317149a\" target=\"_top\" title=\"psysml:60fcb482-826b-48b1-b5dc-27f8a317149a\" xlink:actuate=\"onRequest\" xlink:href=\"psysml:60fcb482-826b-48b1-b5dc-27f8a317149a\" xlink:show=\"new\" xlink:title=\"psysml:60fcb482-826b-48b1-b5dc-27f8a317149a\" xlink:type=\"simple\"><path d=\"M28.01,133.05 C28.25,134.95 36,196 36,196 C36,196 81,204 81,204 C81,204 197,229 197,229 C197,229 214.66,257.39 229.19,280.76 \" fill=\"none\" id=\"E1-to-E4\" style=\"stroke:#181818;stroke-width:1.0;stroke-dasharray:7.0,7.0;\"/><polygon fill=\"#181818\" points=\"231.86,285.05,230.4968,275.2959,229.2164,280.806,223.7064,279.5257,231.86,285.05\" style=\"stroke:#181818;stroke-width:1.0;\"/><text fill=\"#000000\" font-family=\"sans-serif\" font-size=\"13\" lengthAdjust=\"spacing\" textLength=\"65\" x=\"160\" y=\"217.0669\">«import»*</text></a></g><!--MD5=[ccbd3af71bf83df0ec2a2db62d6d7130]\n",
       "link E1 to E6--><g id=\"link_E1_E6\"><a href=\"psysml:37c9a4c7-80e6-494a-a65a-d8ec35cca65c\" target=\"_top\" title=\"psysml:37c9a4c7-80e6-494a-a65a-d8ec35cca65c\" xlink:actuate=\"onRequest\" xlink:href=\"psysml:37c9a4c7-80e6-494a-a65a-d8ec35cca65c\" xlink:show=\"new\" xlink:title=\"psysml:37c9a4c7-80e6-494a-a65a-d8ec35cca65c\" xlink:type=\"simple\"><path d=\"M19.8842,159.191 C19.8433,159.3233 19.8022,159.4557 19.7611,159.5883 C19.4325,160.6492 19.1003,161.7215 18.7658,162.8009 C18.0969,164.9599 17.4191,167.1477 16.7425,169.3313 C11.33,186.8 6,204 6,204 C6,204 6,221 6,221 C6,221 22.9575,242.8025 40.18,264.945 C48.7913,276.0163 57.4688,287.1725 64.1259,295.7309 C64.9581,296.8007 65.7587,297.83 66.5236,298.8133 C66.9061,299.305 67.2796,299.7853 67.6438,300.2534 C67.7348,300.3704 67.8253,300.4867 67.9151,300.6022 \" fill=\"none\" id=\"E1-to-E6\" style=\"stroke:#181818;stroke-width:1.0;stroke-dasharray:7.0,7.0;\"/><polygon fill=\"#181818\" points=\"67.9151,300.6022,65.5465,291.0424,64.8452,296.6556,59.2319,295.9543,67.9151,300.6022\" style=\"stroke:#181818;stroke-width:1.0;\"/><text fill=\"#000000\" font-family=\"sans-serif\" font-size=\"13\" lengthAdjust=\"spacing\" textLength=\"65\" x=\"7\" y=\"217.0669\">«import»*</text></a></g><!--MD5=[bfa3c8b0d15052fdf50ae9310b491027]\n",
       "link E8 to E7--><g id=\"link_E8_E7\"><a href=\"psysml:f605a3b7-992a-46f2-9cbf-567dae0e656e\" target=\"_top\" title=\"psysml:f605a3b7-992a-46f2-9cbf-567dae0e656e\" xlink:actuate=\"onRequest\" xlink:href=\"psysml:f605a3b7-992a-46f2-9cbf-567dae0e656e\" xlink:show=\"new\" xlink:title=\"psysml:f605a3b7-992a-46f2-9cbf-567dae0e656e\" xlink:type=\"simple\"><path d=\"M212.44,156.25 C223.53,176.95 238,204 238,204 C238,204 238,221 238,221 C238,221 185,229 185,229 C185,229 175.39,249.21 165.71,269.56 \" fill=\"none\" id=\"E8-to-E7\" style=\"stroke:#181818;stroke-width:1.0;\"/><polygon fill=\"#FFFFFF\" points=\"157.07,287.72,158.92,267.5562,171.5596,273.5761,157.07,287.72\" style=\"stroke:#181818;stroke-width:1.0;\"/><ellipse cx=\"163.1766\" cy=\"263.2701\" fill=\"#181818\" rx=\"2\" ry=\"2\" style=\"stroke:#181818;stroke-width:1.0;\"/><ellipse cx=\"172.2049\" cy=\"267.5699\" fill=\"#181818\" rx=\"2\" ry=\"2\" style=\"stroke:#181818;stroke-width:1.0;\"/></a></g><!--MD5=[c2be97adba6ddfe1c8f349fab141c927]\n",
       "link E9 to E4--><g id=\"link_E9_E4\"><a href=\"psysml:f74e7f7d-bc69-4c36-9a7b-616abfb119b1\" target=\"_top\" title=\"psysml:f74e7f7d-bc69-4c36-9a7b-616abfb119b1\" xlink:actuate=\"onRequest\" xlink:href=\"psysml:f74e7f7d-bc69-4c36-9a7b-616abfb119b1\" xlink:show=\"new\" xlink:title=\"psysml:f74e7f7d-bc69-4c36-9a7b-616abfb119b1\" xlink:type=\"simple\"><path d=\"M253.8675,180.4864 C253.8574,180.7107 253.8473,180.9354 253.8372,181.1606 C253.7968,182.0612 253.756,182.969 253.7149,183.8833 C253.6327,185.7121 253.5494,187.5673 253.465,189.445 C252.115,219.4875 250.505,255.27 249.38,280.2 \" fill=\"none\" id=\"E9-to-E4\" style=\"stroke:#181818;stroke-width:1.0;stroke-dasharray:7.0,7.0;\"/><polygon fill=\"#181818\" points=\"249.15,285.47,253.5568,276.6621,249.3783,280.4752,245.5652,276.2967,249.15,285.47\" style=\"stroke:#181818;stroke-width:1.0;\"/><text fill=\"#000000\" font-family=\"sans-serif\" font-size=\"13\" lengthAdjust=\"spacing\" textLength=\"65\" x=\"253\" y=\"217.0669\">«import»*</text></a></g><!--MD5=[feeac5eb423634930294aa81f2d25a4c]\n",
       "link E10 to E3--><g id=\"link_E10_E3\"><a href=\"psysml:7688159c-03f6-437a-9242-bafcaad292a9\" target=\"_top\" title=\"psysml:7688159c-03f6-437a-9242-bafcaad292a9\" xlink:actuate=\"onRequest\" xlink:href=\"psysml:7688159c-03f6-437a-9242-bafcaad292a9\" xlink:show=\"new\" xlink:title=\"psysml:7688159c-03f6-437a-9242-bafcaad292a9\" xlink:type=\"simple\"><path d=\"M327.79,156.25 C338.29,176.95 352,204 352,204 C352,204 352,221 352,221 C352,221 308,229 308,229 C308,229 305.25,373.04 303.83,447.52 \" fill=\"none\" id=\"E10-to-E3\" style=\"stroke:#181818;stroke-width:1.0;\"/><polygon fill=\"#FFFFFF\" points=\"303.44,467.75,296.8079,448.6185,310.8053,448.8886,303.44,467.75\" style=\"stroke:#181818;stroke-width:1.0;\"/><ellipse cx=\"298.9175\" cy=\"442.9581\" fill=\"#181818\" rx=\"2\" ry=\"2\" style=\"stroke:#181818;stroke-width:1.0;\"/><ellipse cx=\"308.9157\" cy=\"443.1511\" fill=\"#181818\" rx=\"2\" ry=\"2\" style=\"stroke:#181818;stroke-width:1.0;\"/></a></g><!--MD5=[80fa87c9e8acfb3766ccc15eed6d9d62]\n",
       "@startuml\r\n",
       "skin sysmlbw\r\n",
       "skinparam monochrome true\r\n",
       "skinparam wrapWidth 300\r\n",
       "hide circle\r\n",
       "skinparam linetype polyline\r\n",
       "\r\n",
       "package \"PrivateImportTest\" as E1  [[psysml:11a30fa2-fbeb-4b2d-a071-2781e63d5a12 ]]  {\r\n",
       "package \"P1\" as E2  [[psysml:29bb8ef7-a50f-48a8-b243-dfabeed2550d ]]  {\r\n",
       "comp def \"A\" as E3  <<(T,blue) part  def>> [[psysml:5dfb8e4e-b010-43d6-9ea6-8d8096aa0cbd ]] {\r\n",
       "}\r\n",
       "}\r\n",
       "package \"P2\" as E4  [[psysml:6d745f5d-a6bd-48d3-bb38-b4db6224b450 ]]  {\r\n",
       "}\r\n",
       "comp usage \"x: A  \" as E5  <<(T,blue) part>> [[psysml:fd0b961b-4bae-44e8-b09a-9c87fac280e3 ]] {\r\n",
       "}\r\n",
       "package \"P3\" as E6  [[psysml:3afe7580-df30-4ff0-95e6-ec63d3638055 ]]  {\r\n",
       "comp def \"B\" as E7  <<(T,blue) part  def>> [[psysml:05031283-db67-47ce-b074-a753e1e8519b ]] {\r\n",
       "}\r\n",
       "}\r\n",
       "comp usage \"z: B  \" as E8  <<(T,blue) part>> [[psysml:87e3ce51-5094-4f5d-8d11-feac4ad1e872 ]] {\r\n",
       "}\r\n",
       "package \"P4\" as E9  [[psysml:a1b56716-f996-4480-88b0-3733f2d7733c ]]  {\r\n",
       "comp usage \"z1: A  \" as E10  <<(T,blue) part>> [[psysml:630baa2a-121f-4da7-a3fd-6c76e707d010 ]] {\r\n",
       "}\r\n",
       "}\r\n",
       "}\r\n",
       "E4 ..> E2 [[psysml:0487f209-9870-4837-a273-e80eaf0041e3 ]] : <<import>>*\r\n",
       "E5 - -:|> E3 [[psysml:fdb905ca-fd31-45b2-b41e-28dfb09dbd5e ]] \r\n",
       "E1 ..> E4 [[psysml:60fcb482-826b-48b1-b5dc-27f8a317149a ]] : <<import>>*\r\n",
       "E1 ..> E6 [[psysml:37c9a4c7-80e6-494a-a65a-d8ec35cca65c ]] : <<import>>*\r\n",
       "E8 - -:|> E7 [[psysml:f605a3b7-992a-46f2-9cbf-567dae0e656e ]] \r\n",
       "E9 ..> E4 [[psysml:f74e7f7d-bc69-4c36-9a7b-616abfb119b1 ]] : <<import>>*\r\n",
       "E10 - -:|> E3 [[psysml:7688159c-03f6-437a-9242-bafcaad292a9 ]] \r\n",
       "@enduml\r\n",
       "\n",
       "PlantUML version 1.2022.7(Mon Aug 22 17:01:30 UTC 2022)\n",
       "(EPL source distribution)\n",
       "Java Runtime: OpenJDK Runtime Environment\n",
       "JVM: OpenJDK 64-Bit Server VM\n",
       "Default Encoding: UTF-8\n",
       "Language: en\n",
       "Country: null\n",
       "--></g></svg>"
      ]
     },
     "execution_count": 15,
     "metadata": {},
     "output_type": "execute_result"
    }
   ],
   "source": [
    "%viz --style=\"POLYLINE\" --view=\"MIXED\" \"PrivateImportTest\""
   ]
  },
  {
   "cell_type": "code",
   "execution_count": 16,
   "id": "70b10dba",
   "metadata": {
    "execution": {
     "iopub.execute_input": "2024-12-16T14:17:03.656611Z",
     "iopub.status.busy": "2024-12-16T14:17:03.656391Z",
     "iopub.status.idle": "2024-12-16T14:17:03.682631Z",
     "shell.execute_reply": "2024-12-16T14:17:03.682443Z"
    }
   },
   "outputs": [
    {
     "data": {
      "image/svg+xml": [
       "<?xml version=\"1.0\" encoding=\"UTF-8\" standalone=\"no\"?><svg xmlns=\"http://www.w3.org/2000/svg\" xmlns:xlink=\"http://www.w3.org/1999/xlink\" contentStyleType=\"text/css\" height=\"438px\" preserveAspectRatio=\"none\" style=\"width:676px;height:438px;background:#FFFFFF;\" version=\"1.1\" viewBox=\"0 0 676 438\" width=\"676px\" zoomAndPan=\"magnify\"><defs/><g><!--MD5=[fbc87193dbaf4d95561dea2c320d4a47]\n",
       "cluster E1--><g id=\"cluster_E1\"><a href=\"psysml:11a30fa2-fbeb-4b2d-a071-2781e63d5a12\" target=\"_top\" title=\"psysml:11a30fa2-fbeb-4b2d-a071-2781e63d5a12\" xlink:actuate=\"onRequest\" xlink:href=\"psysml:11a30fa2-fbeb-4b2d-a071-2781e63d5a12\" xlink:show=\"new\" xlink:title=\"psysml:11a30fa2-fbeb-4b2d-a071-2781e63d5a12\" xlink:type=\"simple\"><polygon fill=\"none\" points=\"16,6,150.4375,6,157.4375,28.2969,659,28.2969,659,429,16,429,16,6\" style=\"stroke:#000000;stroke-width:1.5;\"/><line style=\"stroke:#000000;stroke-width:1.5;\" x1=\"16\" x2=\"157.4375\" y1=\"28.2969\" y2=\"28.2969\"/><text fill=\"#000000\" font-family=\"sans-serif\" font-size=\"14\" font-weight=\"bold\" lengthAdjust=\"spacing\" textLength=\"128.4375\" x=\"20\" y=\"20.9951\">PrivateImportTest</text></a></g><!--MD5=[e4f7fae6ed58524ba242bb0b0d3be6b7]\n",
       "cluster E2--><g id=\"cluster_E2\"><a href=\"psysml:29bb8ef7-a50f-48a8-b243-dfabeed2550d\" target=\"_top\" title=\"psysml:29bb8ef7-a50f-48a8-b243-dfabeed2550d\" xlink:actuate=\"onRequest\" xlink:href=\"psysml:29bb8ef7-a50f-48a8-b243-dfabeed2550d\" xlink:show=\"new\" xlink:title=\"psysml:29bb8ef7-a50f-48a8-b243-dfabeed2550d\" xlink:type=\"simple\"><polygon fill=\"none\" points=\"501,66,525.875,66,532.875,88.2969,619,88.2969,619,200,501,200,501,66\" style=\"stroke:#000000;stroke-width:1.5;\"/><line style=\"stroke:#000000;stroke-width:1.5;\" x1=\"501\" x2=\"532.875\" y1=\"88.2969\" y2=\"88.2969\"/><text fill=\"#000000\" font-family=\"sans-serif\" font-size=\"14\" font-weight=\"bold\" lengthAdjust=\"spacing\" textLength=\"18.875\" x=\"505\" y=\"80.9951\">P1</text></a></g><!--MD5=[14e3b0961a2654348d326746436168a1]\n",
       "cluster E6--><g id=\"cluster_E6\"><a href=\"psysml:3afe7580-df30-4ff0-95e6-ec63d3638055\" target=\"_top\" title=\"psysml:3afe7580-df30-4ff0-95e6-ec63d3638055\" xlink:actuate=\"onRequest\" xlink:href=\"psysml:3afe7580-df30-4ff0-95e6-ec63d3638055\" xlink:show=\"new\" xlink:title=\"psysml:3afe7580-df30-4ff0-95e6-ec63d3638055\" xlink:type=\"simple\"><polygon fill=\"none\" points=\"268,247,292.875,247,299.875,269.2969,386,269.2969,386,381,268,381,268,247\" style=\"stroke:#000000;stroke-width:1.5;\"/><line style=\"stroke:#000000;stroke-width:1.5;\" x1=\"268\" x2=\"299.875\" y1=\"269.2969\" y2=\"269.2969\"/><text fill=\"#000000\" font-family=\"sans-serif\" font-size=\"14\" font-weight=\"bold\" lengthAdjust=\"spacing\" textLength=\"18.875\" x=\"272\" y=\"261.9951\">P3</text></a></g><!--MD5=[7f149f147074ac12df2cb0a7728a5fb0]\n",
       "cluster E9--><g id=\"cluster_E9\"><a href=\"psysml:a1b56716-f996-4480-88b0-3733f2d7733c\" target=\"_top\" title=\"psysml:a1b56716-f996-4480-88b0-3733f2d7733c\" xlink:actuate=\"onRequest\" xlink:href=\"psysml:a1b56716-f996-4480-88b0-3733f2d7733c\" xlink:show=\"new\" xlink:title=\"psysml:a1b56716-f996-4480-88b0-3733f2d7733c\" xlink:type=\"simple\"><polygon fill=\"none\" points=\"56,67,80.875,67,87.875,89.2969,153,89.2969,153,201,56,201,56,67\" style=\"stroke:#000000;stroke-width:1.5;\"/><line style=\"stroke:#000000;stroke-width:1.5;\" x1=\"56\" x2=\"87.875\" y1=\"89.2969\" y2=\"89.2969\"/><text fill=\"#000000\" font-family=\"sans-serif\" font-size=\"14\" font-weight=\"bold\" lengthAdjust=\"spacing\" textLength=\"18.875\" x=\"60\" y=\"81.9951\">P4</text></a></g><!--MD5=[270fce915f116d4de14055a7c1d9a0f3]\n",
       "class E5--><a href=\"psysml:fd0b961b-4bae-44e8-b09a-9c87fac280e3\" target=\"_top\" title=\"psysml:fd0b961b-4bae-44e8-b09a-9c87fac280e3\" xlink:actuate=\"onRequest\" xlink:href=\"psysml:fd0b961b-4bae-44e8-b09a-9c87fac280e3\" xlink:show=\"new\" xlink:title=\"psysml:fd0b961b-4bae-44e8-b09a-9c87fac280e3\" xlink:type=\"simple\"><g id=\"elem_E5\"><rect fill=\"#FFFFFF\" height=\"48.2656\" id=\"E5\" rx=\"10\" ry=\"10\" style=\"stroke:#181818;stroke-width:0.5;\" width=\"42\" x=\"306\" y=\"49\"/><text fill=\"#000000\" font-family=\"sans-serif\" font-size=\"12\" font-style=\"italic\" lengthAdjust=\"spacing\" textLength=\"40\" x=\"307\" y=\"65.1387\">«part»</text><text fill=\"#000000\" font-family=\"sans-serif\" font-size=\"14\" lengthAdjust=\"spacing\" textLength=\"25\" x=\"310.5\" y=\"80.9639\">x: A</text><line style=\"stroke:#181818;stroke-width:0.5;\" x1=\"307\" x2=\"347\" y1=\"89.2656\" y2=\"89.2656\"/></g></a><!--MD5=[b9389687b975829384b498ac4b7476b2]\n",
       "class E8--><a href=\"psysml:87e3ce51-5094-4f5d-8d11-feac4ad1e872\" target=\"_top\" title=\"psysml:87e3ce51-5094-4f5d-8d11-feac4ad1e872\" xlink:actuate=\"onRequest\" xlink:href=\"psysml:87e3ce51-5094-4f5d-8d11-feac4ad1e872\" xlink:show=\"new\" xlink:title=\"psysml:87e3ce51-5094-4f5d-8d11-feac4ad1e872\" xlink:type=\"simple\"><g id=\"elem_E8\"><rect fill=\"#FFFFFF\" height=\"48.2656\" id=\"E8\" rx=\"10\" ry=\"10\" style=\"stroke:#181818;stroke-width:0.5;\" width=\"42\" x=\"83.5\" y=\"282\"/><text fill=\"#000000\" font-family=\"sans-serif\" font-size=\"12\" font-style=\"italic\" lengthAdjust=\"spacing\" textLength=\"40\" x=\"84.5\" y=\"298.1387\">«part»</text><text fill=\"#000000\" font-family=\"sans-serif\" font-size=\"14\" lengthAdjust=\"spacing\" textLength=\"27\" x=\"87\" y=\"313.9639\">z: B</text><line style=\"stroke:#181818;stroke-width:0.5;\" x1=\"84.5\" x2=\"124.5\" y1=\"322.2656\" y2=\"322.2656\"/></g></a><!--MD5=[09b614a08d8cba4a07c9adeb5e0fee81]\n",
       "class E3--><a href=\"psysml:5dfb8e4e-b010-43d6-9ea6-8d8096aa0cbd\" target=\"_top\" title=\"psysml:5dfb8e4e-b010-43d6-9ea6-8d8096aa0cbd\" xlink:actuate=\"onRequest\" xlink:href=\"psysml:5dfb8e4e-b010-43d6-9ea6-8d8096aa0cbd\" xlink:show=\"new\" xlink:title=\"psysml:5dfb8e4e-b010-43d6-9ea6-8d8096aa0cbd\" xlink:type=\"simple\"><g id=\"elem_E3\"><rect fill=\"#FFFFFF\" height=\"48.2656\" id=\"E3\" style=\"stroke:#181818;stroke-width:0.5;\" width=\"70\" x=\"525\" y=\"109\"/><text fill=\"#000000\" font-family=\"sans-serif\" font-size=\"12\" font-style=\"italic\" lengthAdjust=\"spacing\" textLength=\"68\" x=\"526\" y=\"125.1387\">«part  def»</text><text fill=\"#000000\" font-family=\"sans-serif\" font-size=\"14\" lengthAdjust=\"spacing\" textLength=\"9\" x=\"555.5\" y=\"140.9639\">A</text><line style=\"stroke:#181818;stroke-width:0.5;\" x1=\"526\" x2=\"594\" y1=\"149.2656\" y2=\"149.2656\"/></g></a><a href=\"psysml:6d745f5d-a6bd-48d3-bb38-b4db6224b450\" target=\"_top\" title=\"psysml:6d745f5d-a6bd-48d3-bb38-b4db6224b450\" xlink:actuate=\"onRequest\" xlink:href=\"psysml:6d745f5d-a6bd-48d3-bb38-b4db6224b450\" xlink:show=\"new\" xlink:title=\"psysml:6d745f5d-a6bd-48d3-bb38-b4db6224b450\" xlink:type=\"simple\"><polygon fill=\"#FFFFFF\" points=\"308,169.5,332,169.5,339,191.7969,346,191.7969,346,222.0938,308,222.0938,308,169.5\" style=\"stroke:#181818;stroke-width:0.5;\"/><line style=\"stroke:#181818;stroke-width:0.5;\" x1=\"308\" x2=\"339\" y1=\"191.7969\" y2=\"191.7969\"/><text fill=\"#000000\" font-family=\"sans-serif\" font-size=\"14\" lengthAdjust=\"spacing\" textLength=\"18\" x=\"312\" y=\"184.4951\">P2</text></a><!--MD5=[2156ba9850f5573cc1fc38a6a4b2f02b]\n",
       "class E7--><a href=\"psysml:05031283-db67-47ce-b074-a753e1e8519b\" target=\"_top\" title=\"psysml:05031283-db67-47ce-b074-a753e1e8519b\" xlink:actuate=\"onRequest\" xlink:href=\"psysml:05031283-db67-47ce-b074-a753e1e8519b\" xlink:show=\"new\" xlink:title=\"psysml:05031283-db67-47ce-b074-a753e1e8519b\" xlink:type=\"simple\"><g id=\"elem_E7\"><rect fill=\"#FFFFFF\" height=\"48.2656\" id=\"E7\" style=\"stroke:#181818;stroke-width:0.5;\" width=\"70\" x=\"292\" y=\"290\"/><text fill=\"#000000\" font-family=\"sans-serif\" font-size=\"12\" font-style=\"italic\" lengthAdjust=\"spacing\" textLength=\"68\" x=\"293\" y=\"306.1387\">«part  def»</text><text fill=\"#000000\" font-family=\"sans-serif\" font-size=\"14\" lengthAdjust=\"spacing\" textLength=\"10\" x=\"322\" y=\"321.9639\">B</text><line style=\"stroke:#181818;stroke-width:0.5;\" x1=\"293\" x2=\"361\" y1=\"330.2656\" y2=\"330.2656\"/></g></a><!--MD5=[96f4274e9e20536e775497830990834d]\n",
       "class E10--><a href=\"psysml:630baa2a-121f-4da7-a3fd-6c76e707d010\" target=\"_top\" title=\"psysml:630baa2a-121f-4da7-a3fd-6c76e707d010\" xlink:actuate=\"onRequest\" xlink:href=\"psysml:630baa2a-121f-4da7-a3fd-6c76e707d010\" xlink:show=\"new\" xlink:title=\"psysml:630baa2a-121f-4da7-a3fd-6c76e707d010\" xlink:type=\"simple\"><g id=\"elem_E10\"><rect fill=\"#FFFFFF\" height=\"48.2656\" id=\"E10\" rx=\"10\" ry=\"10\" style=\"stroke:#181818;stroke-width:0.5;\" width=\"49\" x=\"80\" y=\"110\"/><text fill=\"#000000\" font-family=\"sans-serif\" font-size=\"12\" font-style=\"italic\" lengthAdjust=\"spacing\" textLength=\"40\" x=\"84.5\" y=\"126.1387\">«part»</text><text fill=\"#000000\" font-family=\"sans-serif\" font-size=\"14\" lengthAdjust=\"spacing\" textLength=\"35\" x=\"83\" y=\"141.9639\">z1: A</text><line style=\"stroke:#181818;stroke-width:0.5;\" x1=\"81\" x2=\"128\" y1=\"150.2656\" y2=\"150.2656\"/></g></a><!--MD5=[185131fc0dcab0a4505a2ebe144e961b]\n",
       "link E4 to E2--><g id=\"link_E4_E2\"><a href=\"psysml:0487f209-9870-4837-a273-e80eaf0041e3\" target=\"_top\" title=\"psysml:0487f209-9870-4837-a273-e80eaf0041e3\" xlink:actuate=\"onRequest\" xlink:href=\"psysml:0487f209-9870-4837-a273-e80eaf0041e3\" xlink:show=\"new\" xlink:title=\"psysml:0487f209-9870-4837-a273-e80eaf0041e3\" xlink:type=\"simple\"><path d=\"M346.13,195.69 C372.93,195.225 424.915,194.325 470.8013,193.53 C476.537,193.4306 482.1775,193.3329 487.6616,193.2379 C490.4037,193.1903 493.1066,193.1435 495.7628,193.0974 C497.0909,193.0744 498.4074,193.0516 499.7111,193.029 C500.0371,193.0234 500.3622,193.0177 500.6866,193.0121 \" fill=\"none\" id=\"E4-to-E2\" style=\"stroke:#181818;stroke-width:1.0;stroke-dasharray:7.0,7.0;\"/><polygon fill=\"#181818\" points=\"500.6866,193.0121,491.6186,189.1687,495.6873,193.0988,491.7573,197.1675,500.6866,193.0121\" style=\"stroke:#181818;stroke-width:1.0;\"/><text fill=\"#000000\" font-family=\"sans-serif\" font-size=\"13\" lengthAdjust=\"spacing\" textLength=\"65\" x=\"411\" y=\"190.0669\">«import»*</text></a></g><!--MD5=[e9be52314489bd878ff4c7144b63c9e1]\n",
       "link E5 to E3--><g id=\"link_E5_E3\"><a href=\"psysml:fdb905ca-fd31-45b2-b41e-28dfb09dbd5e\" target=\"_top\" title=\"psysml:fdb905ca-fd31-45b2-b41e-28dfb09dbd5e\" xlink:actuate=\"onRequest\" xlink:href=\"psysml:fdb905ca-fd31-45b2-b41e-28dfb09dbd5e\" xlink:show=\"new\" xlink:title=\"psysml:fdb905ca-fd31-45b2-b41e-28dfb09dbd5e\" xlink:type=\"simple\"><path d=\"M348.1,78.22 C382.75,87.22 454.85,105.95 505.05,118.99 \" fill=\"none\" id=\"E5-to-E3\" style=\"stroke:#181818;stroke-width:1.0;\"/><polygon fill=\"#FFFFFF\" points=\"524.72,124.1,504.5703,126.0979,508.0904,112.5476,524.72,124.1\" style=\"stroke:#181818;stroke-width:1.0;\"/><ellipse cx=\"499.5563\" cy=\"122.729\" fill=\"#181818\" rx=\"2\" ry=\"2\" style=\"stroke:#181818;stroke-width:1.0;\"/><ellipse cx=\"502.0707\" cy=\"113.0502\" fill=\"#181818\" rx=\"2\" ry=\"2\" style=\"stroke:#181818;stroke-width:1.0;\"/></a></g><!--MD5=[ee384bb554873b72f85793eae40e290c]\n",
       "link E1 to E4--><g id=\"link_E1_E4\"><a href=\"psysml:60fcb482-826b-48b1-b5dc-27f8a317149a\" target=\"_top\" title=\"psysml:60fcb482-826b-48b1-b5dc-27f8a317149a\" xlink:actuate=\"onRequest\" xlink:href=\"psysml:60fcb482-826b-48b1-b5dc-27f8a317149a\" xlink:show=\"new\" xlink:title=\"psysml:60fcb482-826b-48b1-b5dc-27f8a317149a\" xlink:type=\"simple\"><path d=\"M105.62,421.03 C108.15,421.68 148.87,431.82 169,413 C182.56,400.32 169.38,388.93 177,372 C199.51,321.99 216.41,315.73 252,274 C268.75,254.36 289,233.18 304.07,217.85 \" fill=\"none\" id=\"E1-to-E4\" style=\"stroke:#181818;stroke-width:1.0;stroke-dasharray:7.0,7.0;\"/><polygon fill=\"#181818\" points=\"307.79,214.09,298.6265,217.6998,304.2832,217.654,304.329,223.3107,307.79,214.09\" style=\"stroke:#181818;stroke-width:1.0;\"/><text fill=\"#000000\" font-family=\"sans-serif\" font-size=\"13\" lengthAdjust=\"spacing\" textLength=\"65\" x=\"178\" y=\"280.0669\">«import»*</text></a></g><!--MD5=[ccbd3af71bf83df0ec2a2db62d6d7130]\n",
       "link E1 to E6--><g id=\"link_E1_E6\"><a href=\"psysml:37c9a4c7-80e6-494a-a65a-d8ec35cca65c\" target=\"_top\" title=\"psysml:37c9a4c7-80e6-494a-a65a-d8ec35cca65c\" xlink:actuate=\"onRequest\" xlink:href=\"psysml:37c9a4c7-80e6-494a-a65a-d8ec35cca65c\" xlink:show=\"new\" xlink:title=\"psysml:37c9a4c7-80e6-494a-a65a-d8ec35cca65c\" xlink:type=\"simple\"><path d=\"M105.6,420.99 C107.71,420.83 141.93,418.13 169,413 C203.82,406.395 242.3975,396.6025 272.5988,388.36 C280.1491,386.2994 287.1759,384.3356 293.4896,382.5428 C295.068,382.0946 296.6018,381.657 298.0881,381.2313 C298.2739,381.1781 298.459,381.1251 298.6433,381.0723 \" fill=\"none\" id=\"E1-to-E6\" style=\"stroke:#181818;stroke-width:1.0;stroke-dasharray:7.0,7.0;\"/><polygon fill=\"#181818\" points=\"298.6433,381.0723,288.8894,379.7076,293.8369,382.4503,291.0942,387.3978,298.6433,381.0723\" style=\"stroke:#181818;stroke-width:1.0;\"/><text fill=\"#000000\" font-family=\"sans-serif\" font-size=\"13\" lengthAdjust=\"spacing\" textLength=\"65\" x=\"178\" y=\"393.0669\">«import»*</text></a></g><!--MD5=[bfa3c8b0d15052fdf50ae9310b491027]\n",
       "link E8 to E7--><g id=\"link_E8_E7\"><a href=\"psysml:f605a3b7-992a-46f2-9cbf-567dae0e656e\" target=\"_top\" title=\"psysml:f605a3b7-992a-46f2-9cbf-567dae0e656e\" xlink:actuate=\"onRequest\" xlink:href=\"psysml:f605a3b7-992a-46f2-9cbf-567dae0e656e\" xlink:show=\"new\" xlink:title=\"psysml:f605a3b7-992a-46f2-9cbf-567dae0e656e\" xlink:type=\"simple\"><path d=\"M125.68,306.73 C152.65,307.7 201.92,309.47 244,311 C252.93,311.32 262.41,311.67 271.63,312.01 \" fill=\"none\" id=\"E8-to-E7\" style=\"stroke:#181818;stroke-width:1.0;\"/><polygon fill=\"#FFFFFF\" points=\"291.69,312.74,272.4478,319.0437,272.9574,305.053,291.69,312.74\" style=\"stroke:#181818;stroke-width:1.0;\"/><ellipse cx=\"266.8244\" cy=\"316.8375\" fill=\"#181818\" rx=\"2\" ry=\"2\" style=\"stroke:#181818;stroke-width:1.0;\"/><ellipse cx=\"267.1884\" cy=\"306.8441\" fill=\"#181818\" rx=\"2\" ry=\"2\" style=\"stroke:#181818;stroke-width:1.0;\"/></a></g><!--MD5=[c2be97adba6ddfe1c8f349fab141c927]\n",
       "link E9 to E4--><g id=\"link_E9_E4\"><a href=\"psysml:f74e7f7d-bc69-4c36-9a7b-616abfb119b1\" target=\"_top\" title=\"psysml:f74e7f7d-bc69-4c36-9a7b-616abfb119b1\" xlink:actuate=\"onRequest\" xlink:href=\"psysml:f74e7f7d-bc69-4c36-9a7b-616abfb119b1\" xlink:show=\"new\" xlink:title=\"psysml:f74e7f7d-bc69-4c36-9a7b-616abfb119b1\" xlink:type=\"simple\"><path d=\"M153.0769,193.6434 C153.3598,193.6473 153.6435,193.6511 153.928,193.655 C154.4971,193.6627 155.0694,193.6705 155.6448,193.6783 C164.8519,193.8035 174.8644,193.9397 185.27,194.0813 C226.8925,194.6475 274.805,195.3 302.62,195.68 \" fill=\"none\" id=\"E9-to-E4\" style=\"stroke:#181818;stroke-width:1.0;stroke-dasharray:7.0,7.0;\"/><polygon fill=\"#181818\" points=\"307.74,195.75,298.7981,191.6218,302.7405,195.6786,298.6838,199.621,307.74,195.75\" style=\"stroke:#181818;stroke-width:1.0;\"/><text fill=\"#000000\" font-family=\"sans-serif\" font-size=\"13\" lengthAdjust=\"spacing\" textLength=\"65\" x=\"178\" y=\"191.0669\">«import»*</text></a></g><!--MD5=[feeac5eb423634930294aa81f2d25a4c]\n",
       "link E10 to E3--><g id=\"link_E10_E3\"><a href=\"psysml:7688159c-03f6-437a-9242-bafcaad292a9\" target=\"_top\" title=\"psysml:7688159c-03f6-437a-9242-bafcaad292a9\" xlink:actuate=\"onRequest\" xlink:href=\"psysml:7688159c-03f6-437a-9242-bafcaad292a9\" xlink:show=\"new\" xlink:title=\"psysml:7688159c-03f6-437a-9242-bafcaad292a9\" xlink:type=\"simple\"><path d=\"M129.24,133.95 C199.12,133.79 405.36,133.34 504.53,133.12 \" fill=\"none\" id=\"E10-to-E3\" style=\"stroke:#181818;stroke-width:1.0;\"/><polygon fill=\"#FFFFFF\" points=\"524.82,133.08,505.835,140.1207,505.805,126.1207,524.82,133.08\" style=\"stroke:#181818;stroke-width:1.0;\"/><ellipse cx=\"500.1308\" cy=\"138.1329\" fill=\"#181818\" rx=\"2\" ry=\"2\" style=\"stroke:#181818;stroke-width:1.0;\"/><ellipse cx=\"500.1093\" cy=\"128.1329\" fill=\"#181818\" rx=\"2\" ry=\"2\" style=\"stroke:#181818;stroke-width:1.0;\"/></a></g><!--MD5=[0ae8c63f9e336444e3a147b596e3bd57]\n",
       "@startuml\r\n",
       "skin sysmlbw\r\n",
       "skinparam monochrome true\r\n",
       "skinparam wrapWidth 300\r\n",
       "hide circle\r\n",
       "left to right direction\r\n",
       "\r\n",
       "package \"PrivateImportTest\" as E1  [[psysml:11a30fa2-fbeb-4b2d-a071-2781e63d5a12 ]]  {\r\n",
       "package \"P1\" as E2  [[psysml:29bb8ef7-a50f-48a8-b243-dfabeed2550d ]]  {\r\n",
       "comp def \"A\" as E3  <<(T,blue) part  def>> [[psysml:5dfb8e4e-b010-43d6-9ea6-8d8096aa0cbd ]] {\r\n",
       "}\r\n",
       "}\r\n",
       "package \"P2\" as E4  [[psysml:6d745f5d-a6bd-48d3-bb38-b4db6224b450 ]]  {\r\n",
       "}\r\n",
       "comp usage \"x: A  \" as E5  <<(T,blue) part>> [[psysml:fd0b961b-4bae-44e8-b09a-9c87fac280e3 ]] {\r\n",
       "}\r\n",
       "package \"P3\" as E6  [[psysml:3afe7580-df30-4ff0-95e6-ec63d3638055 ]]  {\r\n",
       "comp def \"B\" as E7  <<(T,blue) part  def>> [[psysml:05031283-db67-47ce-b074-a753e1e8519b ]] {\r\n",
       "}\r\n",
       "}\r\n",
       "comp usage \"z: B  \" as E8  <<(T,blue) part>> [[psysml:87e3ce51-5094-4f5d-8d11-feac4ad1e872 ]] {\r\n",
       "}\r\n",
       "package \"P4\" as E9  [[psysml:a1b56716-f996-4480-88b0-3733f2d7733c ]]  {\r\n",
       "comp usage \"z1: A  \" as E10  <<(T,blue) part>> [[psysml:630baa2a-121f-4da7-a3fd-6c76e707d010 ]] {\r\n",
       "}\r\n",
       "}\r\n",
       "}\r\n",
       "E4 ..> E2 [[psysml:0487f209-9870-4837-a273-e80eaf0041e3 ]] : <<import>>*\r\n",
       "E5 - -:|> E3 [[psysml:fdb905ca-fd31-45b2-b41e-28dfb09dbd5e ]] \r\n",
       "E1 ..> E4 [[psysml:60fcb482-826b-48b1-b5dc-27f8a317149a ]] : <<import>>*\r\n",
       "E1 ..> E6 [[psysml:37c9a4c7-80e6-494a-a65a-d8ec35cca65c ]] : <<import>>*\r\n",
       "E8 - -:|> E7 [[psysml:f605a3b7-992a-46f2-9cbf-567dae0e656e ]] \r\n",
       "E9 ..> E4 [[psysml:f74e7f7d-bc69-4c36-9a7b-616abfb119b1 ]] : <<import>>*\r\n",
       "E10 - -:|> E3 [[psysml:7688159c-03f6-437a-9242-bafcaad292a9 ]] \r\n",
       "@enduml\r\n",
       "\n",
       "PlantUML version 1.2022.7(Mon Aug 22 17:01:30 UTC 2022)\n",
       "(EPL source distribution)\n",
       "Java Runtime: OpenJDK Runtime Environment\n",
       "JVM: OpenJDK 64-Bit Server VM\n",
       "Default Encoding: UTF-8\n",
       "Language: en\n",
       "Country: null\n",
       "--></g></svg>"
      ]
     },
     "execution_count": 16,
     "metadata": {},
     "output_type": "execute_result"
    }
   ],
   "source": [
    "%viz --style=\"LR\" --view=\"Default\" \"PrivateImportTest\""
   ]
  },
  {
   "cell_type": "code",
   "execution_count": 17,
   "id": "604be76d",
   "metadata": {
    "execution": {
     "iopub.execute_input": "2024-12-16T14:17:03.733859Z",
     "iopub.status.busy": "2024-12-16T14:17:03.733633Z",
     "iopub.status.idle": "2024-12-16T14:17:03.758833Z",
     "shell.execute_reply": "2024-12-16T14:17:03.758637Z"
    }
   },
   "outputs": [
    {
     "data": {
      "image/svg+xml": [
       "<?xml version=\"1.0\" encoding=\"UTF-8\" standalone=\"no\"?><svg xmlns=\"http://www.w3.org/2000/svg\" xmlns:xlink=\"http://www.w3.org/1999/xlink\" contentStyleType=\"text/css\" height=\"438px\" preserveAspectRatio=\"none\" style=\"width:676px;height:438px;background:#FFFFFF;\" version=\"1.1\" viewBox=\"0 0 676 438\" width=\"676px\" zoomAndPan=\"magnify\"><defs/><g><!--MD5=[fbc87193dbaf4d95561dea2c320d4a47]\n",
       "cluster E1--><g id=\"cluster_E1\"><a href=\"psysml:11a30fa2-fbeb-4b2d-a071-2781e63d5a12\" target=\"_top\" title=\"psysml:11a30fa2-fbeb-4b2d-a071-2781e63d5a12\" xlink:actuate=\"onRequest\" xlink:href=\"psysml:11a30fa2-fbeb-4b2d-a071-2781e63d5a12\" xlink:show=\"new\" xlink:title=\"psysml:11a30fa2-fbeb-4b2d-a071-2781e63d5a12\" xlink:type=\"simple\"><polygon fill=\"none\" points=\"16,6,150.4375,6,157.4375,28.2969,659,28.2969,659,429,16,429,16,6\" style=\"stroke:#000000;stroke-width:1.5;\"/><line style=\"stroke:#000000;stroke-width:1.5;\" x1=\"16\" x2=\"157.4375\" y1=\"28.2969\" y2=\"28.2969\"/><text fill=\"#000000\" font-family=\"sans-serif\" font-size=\"14\" font-weight=\"bold\" lengthAdjust=\"spacing\" textLength=\"128.4375\" x=\"20\" y=\"20.9951\">PrivateImportTest</text></a></g><!--MD5=[e4f7fae6ed58524ba242bb0b0d3be6b7]\n",
       "cluster E2--><g id=\"cluster_E2\"><a href=\"psysml:29bb8ef7-a50f-48a8-b243-dfabeed2550d\" target=\"_top\" title=\"psysml:29bb8ef7-a50f-48a8-b243-dfabeed2550d\" xlink:actuate=\"onRequest\" xlink:href=\"psysml:29bb8ef7-a50f-48a8-b243-dfabeed2550d\" xlink:show=\"new\" xlink:title=\"psysml:29bb8ef7-a50f-48a8-b243-dfabeed2550d\" xlink:type=\"simple\"><polygon fill=\"none\" points=\"501,66,525.875,66,532.875,88.2969,619,88.2969,619,200,501,200,501,66\" style=\"stroke:#000000;stroke-width:1.5;\"/><line style=\"stroke:#000000;stroke-width:1.5;\" x1=\"501\" x2=\"532.875\" y1=\"88.2969\" y2=\"88.2969\"/><text fill=\"#000000\" font-family=\"sans-serif\" font-size=\"14\" font-weight=\"bold\" lengthAdjust=\"spacing\" textLength=\"18.875\" x=\"505\" y=\"80.9951\">P1</text></a></g><!--MD5=[14e3b0961a2654348d326746436168a1]\n",
       "cluster E6--><g id=\"cluster_E6\"><a href=\"psysml:3afe7580-df30-4ff0-95e6-ec63d3638055\" target=\"_top\" title=\"psysml:3afe7580-df30-4ff0-95e6-ec63d3638055\" xlink:actuate=\"onRequest\" xlink:href=\"psysml:3afe7580-df30-4ff0-95e6-ec63d3638055\" xlink:show=\"new\" xlink:title=\"psysml:3afe7580-df30-4ff0-95e6-ec63d3638055\" xlink:type=\"simple\"><polygon fill=\"none\" points=\"268,247,292.875,247,299.875,269.2969,386,269.2969,386,381,268,381,268,247\" style=\"stroke:#000000;stroke-width:1.5;\"/><line style=\"stroke:#000000;stroke-width:1.5;\" x1=\"268\" x2=\"299.875\" y1=\"269.2969\" y2=\"269.2969\"/><text fill=\"#000000\" font-family=\"sans-serif\" font-size=\"14\" font-weight=\"bold\" lengthAdjust=\"spacing\" textLength=\"18.875\" x=\"272\" y=\"261.9951\">P3</text></a></g><!--MD5=[7f149f147074ac12df2cb0a7728a5fb0]\n",
       "cluster E9--><g id=\"cluster_E9\"><a href=\"psysml:a1b56716-f996-4480-88b0-3733f2d7733c\" target=\"_top\" title=\"psysml:a1b56716-f996-4480-88b0-3733f2d7733c\" xlink:actuate=\"onRequest\" xlink:href=\"psysml:a1b56716-f996-4480-88b0-3733f2d7733c\" xlink:show=\"new\" xlink:title=\"psysml:a1b56716-f996-4480-88b0-3733f2d7733c\" xlink:type=\"simple\"><polygon fill=\"none\" points=\"56,67,80.875,67,87.875,89.2969,153,89.2969,153,201,56,201,56,67\" style=\"stroke:#000000;stroke-width:1.5;\"/><line style=\"stroke:#000000;stroke-width:1.5;\" x1=\"56\" x2=\"87.875\" y1=\"89.2969\" y2=\"89.2969\"/><text fill=\"#000000\" font-family=\"sans-serif\" font-size=\"14\" font-weight=\"bold\" lengthAdjust=\"spacing\" textLength=\"18.875\" x=\"60\" y=\"81.9951\">P4</text></a></g><!--MD5=[270fce915f116d4de14055a7c1d9a0f3]\n",
       "class E5--><a href=\"psysml:fd0b961b-4bae-44e8-b09a-9c87fac280e3\" target=\"_top\" title=\"psysml:fd0b961b-4bae-44e8-b09a-9c87fac280e3\" xlink:actuate=\"onRequest\" xlink:href=\"psysml:fd0b961b-4bae-44e8-b09a-9c87fac280e3\" xlink:show=\"new\" xlink:title=\"psysml:fd0b961b-4bae-44e8-b09a-9c87fac280e3\" xlink:type=\"simple\"><g id=\"elem_E5\"><rect fill=\"#FFFFFF\" height=\"48.2656\" id=\"E5\" rx=\"10\" ry=\"10\" style=\"stroke:#181818;stroke-width:0.5;\" width=\"42\" x=\"306\" y=\"49\"/><text fill=\"#000000\" font-family=\"sans-serif\" font-size=\"12\" font-style=\"italic\" lengthAdjust=\"spacing\" textLength=\"40\" x=\"307\" y=\"65.1387\">«part»</text><text fill=\"#000000\" font-family=\"sans-serif\" font-size=\"14\" lengthAdjust=\"spacing\" textLength=\"25\" x=\"310.5\" y=\"80.9639\">x: A</text><line style=\"stroke:#181818;stroke-width:0.5;\" x1=\"307\" x2=\"347\" y1=\"89.2656\" y2=\"89.2656\"/></g></a><!--MD5=[b9389687b975829384b498ac4b7476b2]\n",
       "class E8--><a href=\"psysml:87e3ce51-5094-4f5d-8d11-feac4ad1e872\" target=\"_top\" title=\"psysml:87e3ce51-5094-4f5d-8d11-feac4ad1e872\" xlink:actuate=\"onRequest\" xlink:href=\"psysml:87e3ce51-5094-4f5d-8d11-feac4ad1e872\" xlink:show=\"new\" xlink:title=\"psysml:87e3ce51-5094-4f5d-8d11-feac4ad1e872\" xlink:type=\"simple\"><g id=\"elem_E8\"><rect fill=\"#FFFFFF\" height=\"48.2656\" id=\"E8\" rx=\"10\" ry=\"10\" style=\"stroke:#181818;stroke-width:0.5;\" width=\"42\" x=\"83.5\" y=\"282\"/><text fill=\"#000000\" font-family=\"sans-serif\" font-size=\"12\" font-style=\"italic\" lengthAdjust=\"spacing\" textLength=\"40\" x=\"84.5\" y=\"298.1387\">«part»</text><text fill=\"#000000\" font-family=\"sans-serif\" font-size=\"14\" lengthAdjust=\"spacing\" textLength=\"27\" x=\"87\" y=\"313.9639\">z: B</text><line style=\"stroke:#181818;stroke-width:0.5;\" x1=\"84.5\" x2=\"124.5\" y1=\"322.2656\" y2=\"322.2656\"/></g></a><!--MD5=[09b614a08d8cba4a07c9adeb5e0fee81]\n",
       "class E3--><a href=\"psysml:5dfb8e4e-b010-43d6-9ea6-8d8096aa0cbd\" target=\"_top\" title=\"psysml:5dfb8e4e-b010-43d6-9ea6-8d8096aa0cbd\" xlink:actuate=\"onRequest\" xlink:href=\"psysml:5dfb8e4e-b010-43d6-9ea6-8d8096aa0cbd\" xlink:show=\"new\" xlink:title=\"psysml:5dfb8e4e-b010-43d6-9ea6-8d8096aa0cbd\" xlink:type=\"simple\"><g id=\"elem_E3\"><rect fill=\"#FFFFFF\" height=\"48.2656\" id=\"E3\" style=\"stroke:#181818;stroke-width:0.5;\" width=\"70\" x=\"525\" y=\"109\"/><text fill=\"#000000\" font-family=\"sans-serif\" font-size=\"12\" font-style=\"italic\" lengthAdjust=\"spacing\" textLength=\"68\" x=\"526\" y=\"125.1387\">«part  def»</text><text fill=\"#000000\" font-family=\"sans-serif\" font-size=\"14\" lengthAdjust=\"spacing\" textLength=\"9\" x=\"555.5\" y=\"140.9639\">A</text><line style=\"stroke:#181818;stroke-width:0.5;\" x1=\"526\" x2=\"594\" y1=\"149.2656\" y2=\"149.2656\"/></g></a><a href=\"psysml:6d745f5d-a6bd-48d3-bb38-b4db6224b450\" target=\"_top\" title=\"psysml:6d745f5d-a6bd-48d3-bb38-b4db6224b450\" xlink:actuate=\"onRequest\" xlink:href=\"psysml:6d745f5d-a6bd-48d3-bb38-b4db6224b450\" xlink:show=\"new\" xlink:title=\"psysml:6d745f5d-a6bd-48d3-bb38-b4db6224b450\" xlink:type=\"simple\"><polygon fill=\"#FFFFFF\" points=\"308,169.5,332,169.5,339,191.7969,346,191.7969,346,222.0938,308,222.0938,308,169.5\" style=\"stroke:#181818;stroke-width:0.5;\"/><line style=\"stroke:#181818;stroke-width:0.5;\" x1=\"308\" x2=\"339\" y1=\"191.7969\" y2=\"191.7969\"/><text fill=\"#000000\" font-family=\"sans-serif\" font-size=\"14\" lengthAdjust=\"spacing\" textLength=\"18\" x=\"312\" y=\"184.4951\">P2</text></a><!--MD5=[2156ba9850f5573cc1fc38a6a4b2f02b]\n",
       "class E7--><a href=\"psysml:05031283-db67-47ce-b074-a753e1e8519b\" target=\"_top\" title=\"psysml:05031283-db67-47ce-b074-a753e1e8519b\" xlink:actuate=\"onRequest\" xlink:href=\"psysml:05031283-db67-47ce-b074-a753e1e8519b\" xlink:show=\"new\" xlink:title=\"psysml:05031283-db67-47ce-b074-a753e1e8519b\" xlink:type=\"simple\"><g id=\"elem_E7\"><rect fill=\"#FFFFFF\" height=\"48.2656\" id=\"E7\" style=\"stroke:#181818;stroke-width:0.5;\" width=\"70\" x=\"292\" y=\"290\"/><text fill=\"#000000\" font-family=\"sans-serif\" font-size=\"12\" font-style=\"italic\" lengthAdjust=\"spacing\" textLength=\"68\" x=\"293\" y=\"306.1387\">«part  def»</text><text fill=\"#000000\" font-family=\"sans-serif\" font-size=\"14\" lengthAdjust=\"spacing\" textLength=\"10\" x=\"322\" y=\"321.9639\">B</text><line style=\"stroke:#181818;stroke-width:0.5;\" x1=\"293\" x2=\"361\" y1=\"330.2656\" y2=\"330.2656\"/></g></a><!--MD5=[96f4274e9e20536e775497830990834d]\n",
       "class E10--><a href=\"psysml:630baa2a-121f-4da7-a3fd-6c76e707d010\" target=\"_top\" title=\"psysml:630baa2a-121f-4da7-a3fd-6c76e707d010\" xlink:actuate=\"onRequest\" xlink:href=\"psysml:630baa2a-121f-4da7-a3fd-6c76e707d010\" xlink:show=\"new\" xlink:title=\"psysml:630baa2a-121f-4da7-a3fd-6c76e707d010\" xlink:type=\"simple\"><g id=\"elem_E10\"><rect fill=\"#FFFFFF\" height=\"48.2656\" id=\"E10\" rx=\"10\" ry=\"10\" style=\"stroke:#181818;stroke-width:0.5;\" width=\"49\" x=\"80\" y=\"110\"/><text fill=\"#000000\" font-family=\"sans-serif\" font-size=\"12\" font-style=\"italic\" lengthAdjust=\"spacing\" textLength=\"40\" x=\"84.5\" y=\"126.1387\">«part»</text><text fill=\"#000000\" font-family=\"sans-serif\" font-size=\"14\" lengthAdjust=\"spacing\" textLength=\"35\" x=\"83\" y=\"141.9639\">z1: A</text><line style=\"stroke:#181818;stroke-width:0.5;\" x1=\"81\" x2=\"128\" y1=\"150.2656\" y2=\"150.2656\"/></g></a><!--MD5=[185131fc0dcab0a4505a2ebe144e961b]\n",
       "link E4 to E2--><g id=\"link_E4_E2\"><a href=\"psysml:0487f209-9870-4837-a273-e80eaf0041e3\" target=\"_top\" title=\"psysml:0487f209-9870-4837-a273-e80eaf0041e3\" xlink:actuate=\"onRequest\" xlink:href=\"psysml:0487f209-9870-4837-a273-e80eaf0041e3\" xlink:show=\"new\" xlink:title=\"psysml:0487f209-9870-4837-a273-e80eaf0041e3\" xlink:type=\"simple\"><path d=\"M346.13,195.69 C372.93,195.225 424.915,194.325 470.8013,193.53 C476.537,193.4306 482.1775,193.3329 487.6616,193.2379 C490.4037,193.1903 493.1066,193.1435 495.7628,193.0974 C497.0909,193.0744 498.4074,193.0516 499.7111,193.029 C500.0371,193.0234 500.3622,193.0177 500.6866,193.0121 \" fill=\"none\" id=\"E4-to-E2\" style=\"stroke:#181818;stroke-width:1.0;stroke-dasharray:7.0,7.0;\"/><polygon fill=\"#181818\" points=\"500.6866,193.0121,491.6186,189.1687,495.6873,193.0988,491.7573,197.1675,500.6866,193.0121\" style=\"stroke:#181818;stroke-width:1.0;\"/><text fill=\"#000000\" font-family=\"sans-serif\" font-size=\"13\" lengthAdjust=\"spacing\" textLength=\"65\" x=\"411\" y=\"190.0669\">«import»*</text></a></g><!--MD5=[e9be52314489bd878ff4c7144b63c9e1]\n",
       "link E5 to E3--><g id=\"link_E5_E3\"><a href=\"psysml:fdb905ca-fd31-45b2-b41e-28dfb09dbd5e\" target=\"_top\" title=\"psysml:fdb905ca-fd31-45b2-b41e-28dfb09dbd5e\" xlink:actuate=\"onRequest\" xlink:href=\"psysml:fdb905ca-fd31-45b2-b41e-28dfb09dbd5e\" xlink:show=\"new\" xlink:title=\"psysml:fdb905ca-fd31-45b2-b41e-28dfb09dbd5e\" xlink:type=\"simple\"><path d=\"M348.1,78.22 C382.75,87.22 454.85,105.95 505.05,118.99 \" fill=\"none\" id=\"E5-to-E3\" style=\"stroke:#181818;stroke-width:1.0;\"/><polygon fill=\"#FFFFFF\" points=\"524.72,124.1,504.5703,126.0979,508.0904,112.5476,524.72,124.1\" style=\"stroke:#181818;stroke-width:1.0;\"/><ellipse cx=\"499.5563\" cy=\"122.729\" fill=\"#181818\" rx=\"2\" ry=\"2\" style=\"stroke:#181818;stroke-width:1.0;\"/><ellipse cx=\"502.0707\" cy=\"113.0502\" fill=\"#181818\" rx=\"2\" ry=\"2\" style=\"stroke:#181818;stroke-width:1.0;\"/></a></g><!--MD5=[ee384bb554873b72f85793eae40e290c]\n",
       "link E1 to E4--><g id=\"link_E1_E4\"><a href=\"psysml:60fcb482-826b-48b1-b5dc-27f8a317149a\" target=\"_top\" title=\"psysml:60fcb482-826b-48b1-b5dc-27f8a317149a\" xlink:actuate=\"onRequest\" xlink:href=\"psysml:60fcb482-826b-48b1-b5dc-27f8a317149a\" xlink:show=\"new\" xlink:title=\"psysml:60fcb482-826b-48b1-b5dc-27f8a317149a\" xlink:type=\"simple\"><path d=\"M105.62,421.03 C108.15,421.68 148.87,431.82 169,413 C182.56,400.32 169.38,388.93 177,372 C199.51,321.99 216.41,315.73 252,274 C268.75,254.36 289,233.18 304.07,217.85 \" fill=\"none\" id=\"E1-to-E4\" style=\"stroke:#181818;stroke-width:1.0;stroke-dasharray:7.0,7.0;\"/><polygon fill=\"#181818\" points=\"307.79,214.09,298.6265,217.6998,304.2832,217.654,304.329,223.3107,307.79,214.09\" style=\"stroke:#181818;stroke-width:1.0;\"/><text fill=\"#000000\" font-family=\"sans-serif\" font-size=\"13\" lengthAdjust=\"spacing\" textLength=\"65\" x=\"178\" y=\"280.0669\">«import»*</text></a></g><!--MD5=[ccbd3af71bf83df0ec2a2db62d6d7130]\n",
       "link E1 to E6--><g id=\"link_E1_E6\"><a href=\"psysml:37c9a4c7-80e6-494a-a65a-d8ec35cca65c\" target=\"_top\" title=\"psysml:37c9a4c7-80e6-494a-a65a-d8ec35cca65c\" xlink:actuate=\"onRequest\" xlink:href=\"psysml:37c9a4c7-80e6-494a-a65a-d8ec35cca65c\" xlink:show=\"new\" xlink:title=\"psysml:37c9a4c7-80e6-494a-a65a-d8ec35cca65c\" xlink:type=\"simple\"><path d=\"M105.6,420.99 C107.71,420.83 141.93,418.13 169,413 C203.82,406.395 242.3975,396.6025 272.5988,388.36 C280.1491,386.2994 287.1759,384.3356 293.4896,382.5428 C295.068,382.0946 296.6018,381.657 298.0881,381.2313 C298.2739,381.1781 298.459,381.1251 298.6433,381.0723 \" fill=\"none\" id=\"E1-to-E6\" style=\"stroke:#181818;stroke-width:1.0;stroke-dasharray:7.0,7.0;\"/><polygon fill=\"#181818\" points=\"298.6433,381.0723,288.8894,379.7076,293.8369,382.4503,291.0942,387.3978,298.6433,381.0723\" style=\"stroke:#181818;stroke-width:1.0;\"/><text fill=\"#000000\" font-family=\"sans-serif\" font-size=\"13\" lengthAdjust=\"spacing\" textLength=\"65\" x=\"178\" y=\"393.0669\">«import»*</text></a></g><!--MD5=[bfa3c8b0d15052fdf50ae9310b491027]\n",
       "link E8 to E7--><g id=\"link_E8_E7\"><a href=\"psysml:f605a3b7-992a-46f2-9cbf-567dae0e656e\" target=\"_top\" title=\"psysml:f605a3b7-992a-46f2-9cbf-567dae0e656e\" xlink:actuate=\"onRequest\" xlink:href=\"psysml:f605a3b7-992a-46f2-9cbf-567dae0e656e\" xlink:show=\"new\" xlink:title=\"psysml:f605a3b7-992a-46f2-9cbf-567dae0e656e\" xlink:type=\"simple\"><path d=\"M125.68,306.73 C152.65,307.7 201.92,309.47 244,311 C252.93,311.32 262.41,311.67 271.63,312.01 \" fill=\"none\" id=\"E8-to-E7\" style=\"stroke:#181818;stroke-width:1.0;\"/><polygon fill=\"#FFFFFF\" points=\"291.69,312.74,272.4478,319.0437,272.9574,305.053,291.69,312.74\" style=\"stroke:#181818;stroke-width:1.0;\"/><ellipse cx=\"266.8244\" cy=\"316.8375\" fill=\"#181818\" rx=\"2\" ry=\"2\" style=\"stroke:#181818;stroke-width:1.0;\"/><ellipse cx=\"267.1884\" cy=\"306.8441\" fill=\"#181818\" rx=\"2\" ry=\"2\" style=\"stroke:#181818;stroke-width:1.0;\"/></a></g><!--MD5=[c2be97adba6ddfe1c8f349fab141c927]\n",
       "link E9 to E4--><g id=\"link_E9_E4\"><a href=\"psysml:f74e7f7d-bc69-4c36-9a7b-616abfb119b1\" target=\"_top\" title=\"psysml:f74e7f7d-bc69-4c36-9a7b-616abfb119b1\" xlink:actuate=\"onRequest\" xlink:href=\"psysml:f74e7f7d-bc69-4c36-9a7b-616abfb119b1\" xlink:show=\"new\" xlink:title=\"psysml:f74e7f7d-bc69-4c36-9a7b-616abfb119b1\" xlink:type=\"simple\"><path d=\"M153.0769,193.6434 C153.3598,193.6473 153.6435,193.6511 153.928,193.655 C154.4971,193.6627 155.0694,193.6705 155.6448,193.6783 C164.8519,193.8035 174.8644,193.9397 185.27,194.0813 C226.8925,194.6475 274.805,195.3 302.62,195.68 \" fill=\"none\" id=\"E9-to-E4\" style=\"stroke:#181818;stroke-width:1.0;stroke-dasharray:7.0,7.0;\"/><polygon fill=\"#181818\" points=\"307.74,195.75,298.7981,191.6218,302.7405,195.6786,298.6838,199.621,307.74,195.75\" style=\"stroke:#181818;stroke-width:1.0;\"/><text fill=\"#000000\" font-family=\"sans-serif\" font-size=\"13\" lengthAdjust=\"spacing\" textLength=\"65\" x=\"178\" y=\"191.0669\">«import»*</text></a></g><!--MD5=[feeac5eb423634930294aa81f2d25a4c]\n",
       "link E10 to E3--><g id=\"link_E10_E3\"><a href=\"psysml:7688159c-03f6-437a-9242-bafcaad292a9\" target=\"_top\" title=\"psysml:7688159c-03f6-437a-9242-bafcaad292a9\" xlink:actuate=\"onRequest\" xlink:href=\"psysml:7688159c-03f6-437a-9242-bafcaad292a9\" xlink:show=\"new\" xlink:title=\"psysml:7688159c-03f6-437a-9242-bafcaad292a9\" xlink:type=\"simple\"><path d=\"M129.24,133.95 C199.12,133.79 405.36,133.34 504.53,133.12 \" fill=\"none\" id=\"E10-to-E3\" style=\"stroke:#181818;stroke-width:1.0;\"/><polygon fill=\"#FFFFFF\" points=\"524.82,133.08,505.835,140.1207,505.805,126.1207,524.82,133.08\" style=\"stroke:#181818;stroke-width:1.0;\"/><ellipse cx=\"500.1308\" cy=\"138.1329\" fill=\"#181818\" rx=\"2\" ry=\"2\" style=\"stroke:#181818;stroke-width:1.0;\"/><ellipse cx=\"500.1093\" cy=\"128.1329\" fill=\"#181818\" rx=\"2\" ry=\"2\" style=\"stroke:#181818;stroke-width:1.0;\"/></a></g><!--MD5=[0ae8c63f9e336444e3a147b596e3bd57]\n",
       "@startuml\r\n",
       "skin sysmlbw\r\n",
       "skinparam monochrome true\r\n",
       "skinparam wrapWidth 300\r\n",
       "hide circle\r\n",
       "left to right direction\r\n",
       "\r\n",
       "package \"PrivateImportTest\" as E1  [[psysml:11a30fa2-fbeb-4b2d-a071-2781e63d5a12 ]]  {\r\n",
       "package \"P1\" as E2  [[psysml:29bb8ef7-a50f-48a8-b243-dfabeed2550d ]]  {\r\n",
       "comp def \"A\" as E3  <<(T,blue) part  def>> [[psysml:5dfb8e4e-b010-43d6-9ea6-8d8096aa0cbd ]] {\r\n",
       "}\r\n",
       "}\r\n",
       "package \"P2\" as E4  [[psysml:6d745f5d-a6bd-48d3-bb38-b4db6224b450 ]]  {\r\n",
       "}\r\n",
       "comp usage \"x: A  \" as E5  <<(T,blue) part>> [[psysml:fd0b961b-4bae-44e8-b09a-9c87fac280e3 ]] {\r\n",
       "}\r\n",
       "package \"P3\" as E6  [[psysml:3afe7580-df30-4ff0-95e6-ec63d3638055 ]]  {\r\n",
       "comp def \"B\" as E7  <<(T,blue) part  def>> [[psysml:05031283-db67-47ce-b074-a753e1e8519b ]] {\r\n",
       "}\r\n",
       "}\r\n",
       "comp usage \"z: B  \" as E8  <<(T,blue) part>> [[psysml:87e3ce51-5094-4f5d-8d11-feac4ad1e872 ]] {\r\n",
       "}\r\n",
       "package \"P4\" as E9  [[psysml:a1b56716-f996-4480-88b0-3733f2d7733c ]]  {\r\n",
       "comp usage \"z1: A  \" as E10  <<(T,blue) part>> [[psysml:630baa2a-121f-4da7-a3fd-6c76e707d010 ]] {\r\n",
       "}\r\n",
       "}\r\n",
       "}\r\n",
       "E4 ..> E2 [[psysml:0487f209-9870-4837-a273-e80eaf0041e3 ]] : <<import>>*\r\n",
       "E5 - -:|> E3 [[psysml:fdb905ca-fd31-45b2-b41e-28dfb09dbd5e ]] \r\n",
       "E1 ..> E4 [[psysml:60fcb482-826b-48b1-b5dc-27f8a317149a ]] : <<import>>*\r\n",
       "E1 ..> E6 [[psysml:37c9a4c7-80e6-494a-a65a-d8ec35cca65c ]] : <<import>>*\r\n",
       "E8 - -:|> E7 [[psysml:f605a3b7-992a-46f2-9cbf-567dae0e656e ]] \r\n",
       "E9 ..> E4 [[psysml:f74e7f7d-bc69-4c36-9a7b-616abfb119b1 ]] : <<import>>*\r\n",
       "E10 - -:|> E3 [[psysml:7688159c-03f6-437a-9242-bafcaad292a9 ]] \r\n",
       "@enduml\r\n",
       "\n",
       "PlantUML version 1.2022.7(Mon Aug 22 17:01:30 UTC 2022)\n",
       "(EPL source distribution)\n",
       "Java Runtime: OpenJDK Runtime Environment\n",
       "JVM: OpenJDK 64-Bit Server VM\n",
       "Default Encoding: UTF-8\n",
       "Language: en\n",
       "Country: null\n",
       "--></g></svg>"
      ]
     },
     "execution_count": 17,
     "metadata": {},
     "output_type": "execute_result"
    }
   ],
   "source": [
    "%viz --style=\"LR\" --view=\"Tree\" \"PrivateImportTest\""
   ]
  },
  {
   "cell_type": "code",
   "execution_count": 18,
   "id": "9943bf9a",
   "metadata": {
    "execution": {
     "iopub.execute_input": "2024-12-16T14:17:03.815411Z",
     "iopub.status.busy": "2024-12-16T14:17:03.815162Z",
     "iopub.status.idle": "2024-12-16T14:17:03.820522Z",
     "shell.execute_reply": "2024-12-16T14:17:03.820335Z"
    }
   },
   "outputs": [
    {
     "data": {
      "image/svg+xml": [
       "<?xml version=\"1.0\" encoding=\"UTF-8\" standalone=\"no\"?><svg xmlns=\"http://www.w3.org/2000/svg\" xmlns:xlink=\"http://www.w3.org/1999/xlink\" contentStyleType=\"text/css\" height=\"10px\" preserveAspectRatio=\"none\" style=\"width:10px;height:10px;background:#FFFFFF;\" version=\"1.1\" viewBox=\"0 0 10 10\" width=\"10px\" zoomAndPan=\"magnify\"><defs/><g><!--MD5=[fb420fbd7a91d32138f4344b927a323c]\n",
       "@startuml\r\n",
       "skin sysmlbw\r\n",
       "skinparam monochrome true\r\n",
       "skinparam wrapWidth 300\r\n",
       "hide circle\r\n",
       "left to right direction\r\n",
       "\r\n",
       "@enduml\r\n",
       "\n",
       "PlantUML version 1.2022.7(Mon Aug 22 17:01:30 UTC 2022)\n",
       "(EPL source distribution)\n",
       "Java Runtime: OpenJDK Runtime Environment\n",
       "JVM: OpenJDK 64-Bit Server VM\n",
       "Default Encoding: UTF-8\n",
       "Language: en\n",
       "Country: null\n",
       "--></g></svg>"
      ]
     },
     "execution_count": 18,
     "metadata": {},
     "output_type": "execute_result"
    }
   ],
   "source": [
    "%viz --style=\"LR\" --view=\"State\" \"PrivateImportTest\""
   ]
  },
  {
   "cell_type": "code",
   "execution_count": 19,
   "id": "db4f2f29",
   "metadata": {
    "execution": {
     "iopub.execute_input": "2024-12-16T14:17:03.872969Z",
     "iopub.status.busy": "2024-12-16T14:17:03.872759Z",
     "iopub.status.idle": "2024-12-16T14:17:03.898800Z",
     "shell.execute_reply": "2024-12-16T14:17:03.898615Z"
    }
   },
   "outputs": [
    {
     "data": {
      "image/svg+xml": [
       "<?xml version=\"1.0\" encoding=\"UTF-8\" standalone=\"no\"?><svg xmlns=\"http://www.w3.org/2000/svg\" xmlns:xlink=\"http://www.w3.org/1999/xlink\" contentStyleType=\"text/css\" height=\"428px\" preserveAspectRatio=\"none\" style=\"width:687px;height:428px;background:#FFFFFF;\" version=\"1.1\" viewBox=\"0 0 687 428\" width=\"687px\" zoomAndPan=\"magnify\"><defs/><g><!--MD5=[fbc87193dbaf4d95561dea2c320d4a47]\n",
       "cluster E1--><g id=\"cluster_E1\"><a href=\"psysml:11a30fa2-fbeb-4b2d-a071-2781e63d5a12\" target=\"_top\" title=\"psysml:11a30fa2-fbeb-4b2d-a071-2781e63d5a12\" xlink:actuate=\"onRequest\" xlink:href=\"psysml:11a30fa2-fbeb-4b2d-a071-2781e63d5a12\" xlink:show=\"new\" xlink:title=\"psysml:11a30fa2-fbeb-4b2d-a071-2781e63d5a12\" xlink:type=\"simple\"><polygon fill=\"none\" points=\"16,6,150.4375,6,157.4375,28.2969,670,28.2969,670,419,16,419,16,6\" style=\"stroke:#000000;stroke-width:1.5;\"/><line style=\"stroke:#000000;stroke-width:1.5;\" x1=\"16\" x2=\"157.4375\" y1=\"28.2969\" y2=\"28.2969\"/><text fill=\"#000000\" font-family=\"sans-serif\" font-size=\"14\" font-weight=\"bold\" lengthAdjust=\"spacing\" textLength=\"128.4375\" x=\"20\" y=\"20.9951\">PrivateImportTest</text></a></g><!--MD5=[e4f7fae6ed58524ba242bb0b0d3be6b7]\n",
       "cluster E2--><g id=\"cluster_E2\"><a href=\"psysml:29bb8ef7-a50f-48a8-b243-dfabeed2550d\" target=\"_top\" title=\"psysml:29bb8ef7-a50f-48a8-b243-dfabeed2550d\" xlink:actuate=\"onRequest\" xlink:href=\"psysml:29bb8ef7-a50f-48a8-b243-dfabeed2550d\" xlink:show=\"new\" xlink:title=\"psysml:29bb8ef7-a50f-48a8-b243-dfabeed2550d\" xlink:type=\"simple\"><polygon fill=\"none\" points=\"507,65,531.875,65,538.875,87.2969,630,87.2969,630,197,507,197,507,65\" style=\"stroke:#000000;stroke-width:1.5;\"/><line style=\"stroke:#000000;stroke-width:1.5;\" x1=\"507\" x2=\"538.875\" y1=\"87.2969\" y2=\"87.2969\"/><text fill=\"#000000\" font-family=\"sans-serif\" font-size=\"14\" font-weight=\"bold\" lengthAdjust=\"spacing\" textLength=\"18.875\" x=\"511\" y=\"79.9951\">P1</text></a></g><!--MD5=[14e3b0961a2654348d326746436168a1]\n",
       "cluster E6--><g id=\"cluster_E6\"><a href=\"psysml:3afe7580-df30-4ff0-95e6-ec63d3638055\" target=\"_top\" title=\"psysml:3afe7580-df30-4ff0-95e6-ec63d3638055\" xlink:actuate=\"onRequest\" xlink:href=\"psysml:3afe7580-df30-4ff0-95e6-ec63d3638055\" xlink:show=\"new\" xlink:title=\"psysml:3afe7580-df30-4ff0-95e6-ec63d3638055\" xlink:type=\"simple\"><polygon fill=\"none\" points=\"269,239,293.875,239,300.875,261.2969,392,261.2969,392,371,269,371,269,239\" style=\"stroke:#000000;stroke-width:1.5;\"/><line style=\"stroke:#000000;stroke-width:1.5;\" x1=\"269\" x2=\"300.875\" y1=\"261.2969\" y2=\"261.2969\"/><text fill=\"#000000\" font-family=\"sans-serif\" font-size=\"14\" font-weight=\"bold\" lengthAdjust=\"spacing\" textLength=\"18.875\" x=\"273\" y=\"253.9951\">P3</text></a></g><!--MD5=[7f149f147074ac12df2cb0a7728a5fb0]\n",
       "cluster E9--><g id=\"cluster_E9\"><a href=\"psysml:a1b56716-f996-4480-88b0-3733f2d7733c\" target=\"_top\" title=\"psysml:a1b56716-f996-4480-88b0-3733f2d7733c\" xlink:actuate=\"onRequest\" xlink:href=\"psysml:a1b56716-f996-4480-88b0-3733f2d7733c\" xlink:show=\"new\" xlink:title=\"psysml:a1b56716-f996-4480-88b0-3733f2d7733c\" xlink:type=\"simple\"><polygon fill=\"none\" points=\"56,67,80.875,67,87.875,89.2969,154,89.2969,154,193,56,193,56,67\" style=\"stroke:#000000;stroke-width:1.5;\"/><line style=\"stroke:#000000;stroke-width:1.5;\" x1=\"56\" x2=\"87.875\" y1=\"89.2969\" y2=\"89.2969\"/><text fill=\"#000000\" font-family=\"sans-serif\" font-size=\"14\" font-weight=\"bold\" lengthAdjust=\"spacing\" textLength=\"18.875\" x=\"60\" y=\"81.9951\">P4</text></a></g><g><a href=\"psysml:5dfb8e4e-b010-43d6-9ea6-8d8096aa0cbd\" target=\"_top\" title=\"psysml:5dfb8e4e-b010-43d6-9ea6-8d8096aa0cbd\" xlink:actuate=\"onRequest\" xlink:href=\"psysml:5dfb8e4e-b010-43d6-9ea6-8d8096aa0cbd\" xlink:show=\"new\" xlink:title=\"psysml:5dfb8e4e-b010-43d6-9ea6-8d8096aa0cbd\" xlink:type=\"simple\"><rect fill=\"#FFFFFF\" height=\"45.2656\" id=\"E3\" style=\"stroke:#383838;stroke-width:1.5;\" width=\"75\" x=\"531\" y=\"108.5\"/><text fill=\"#000000\" font-family=\"sans-serif\" font-size=\"12\" font-style=\"italic\" lengthAdjust=\"spacing\" textLength=\"68\" x=\"534.5\" y=\"124.6387\">«part  def»</text><text fill=\"#000000\" font-family=\"sans-serif\" font-size=\"14\" lengthAdjust=\"spacing\" textLength=\"9\" x=\"564\" y=\"140.4639\">A</text></a></g><a href=\"psysml:6d745f5d-a6bd-48d3-bb38-b4db6224b450\" target=\"_top\" title=\"psysml:6d745f5d-a6bd-48d3-bb38-b4db6224b450\" xlink:actuate=\"onRequest\" xlink:href=\"psysml:6d745f5d-a6bd-48d3-bb38-b4db6224b450\" xlink:show=\"new\" xlink:title=\"psysml:6d745f5d-a6bd-48d3-bb38-b4db6224b450\" xlink:type=\"simple\"><polygon fill=\"#FFFFFF\" points=\"311.5,161.5,335.5,161.5,342.5,183.7969,349.5,183.7969,349.5,214.0938,311.5,214.0938,311.5,161.5\" style=\"stroke:#181818;stroke-width:0.5;\"/><line style=\"stroke:#181818;stroke-width:0.5;\" x1=\"311.5\" x2=\"342.5\" y1=\"183.7969\" y2=\"183.7969\"/><text fill=\"#000000\" font-family=\"sans-serif\" font-size=\"14\" lengthAdjust=\"spacing\" textLength=\"18\" x=\"315.5\" y=\"176.4951\">P2</text></a><g><a href=\"psysml:fd0b961b-4bae-44e8-b09a-9c87fac280e3\" target=\"_top\" title=\"psysml:fd0b961b-4bae-44e8-b09a-9c87fac280e3\" xlink:actuate=\"onRequest\" xlink:href=\"psysml:fd0b961b-4bae-44e8-b09a-9c87fac280e3\" xlink:show=\"new\" xlink:title=\"psysml:fd0b961b-4bae-44e8-b09a-9c87fac280e3\" xlink:type=\"simple\"><rect fill=\"#FFFFFF\" height=\"40\" id=\"E5\" rx=\"10\" ry=\"10\" style=\"stroke:#383838;stroke-width:1.5;\" width=\"50\" x=\"305.5\" y=\"49\"/><text fill=\"#000000\" font-family=\"sans-serif\" font-size=\"14\" lengthAdjust=\"spacing\" textLength=\"25\" x=\"318\" y=\"66.9951\">x: A</text></a></g><g><a href=\"psysml:05031283-db67-47ce-b074-a753e1e8519b\" target=\"_top\" title=\"psysml:05031283-db67-47ce-b074-a753e1e8519b\" xlink:actuate=\"onRequest\" xlink:href=\"psysml:05031283-db67-47ce-b074-a753e1e8519b\" xlink:show=\"new\" xlink:title=\"psysml:05031283-db67-47ce-b074-a753e1e8519b\" xlink:type=\"simple\"><rect fill=\"#FFFFFF\" height=\"45.2656\" id=\"E7\" style=\"stroke:#383838;stroke-width:1.5;\" width=\"75\" x=\"293\" y=\"282.5\"/><text fill=\"#000000\" font-family=\"sans-serif\" font-size=\"12\" font-style=\"italic\" lengthAdjust=\"spacing\" textLength=\"68\" x=\"296.5\" y=\"298.6387\">«part  def»</text><text fill=\"#000000\" font-family=\"sans-serif\" font-size=\"14\" lengthAdjust=\"spacing\" textLength=\"10\" x=\"325.5\" y=\"314.4639\">B</text></a></g><g><a href=\"psysml:87e3ce51-5094-4f5d-8d11-feac4ad1e872\" target=\"_top\" title=\"psysml:87e3ce51-5094-4f5d-8d11-feac4ad1e872\" xlink:actuate=\"onRequest\" xlink:href=\"psysml:87e3ce51-5094-4f5d-8d11-feac4ad1e872\" xlink:show=\"new\" xlink:title=\"psysml:87e3ce51-5094-4f5d-8d11-feac4ad1e872\" xlink:type=\"simple\"><rect fill=\"#FFFFFF\" height=\"40\" id=\"E8\" rx=\"10\" ry=\"10\" style=\"stroke:#383838;stroke-width:1.5;\" width=\"50\" x=\"80\" y=\"276\"/><text fill=\"#000000\" font-family=\"sans-serif\" font-size=\"14\" lengthAdjust=\"spacing\" textLength=\"27\" x=\"91.5\" y=\"293.9951\">z: B</text></a></g><g><a href=\"psysml:630baa2a-121f-4da7-a3fd-6c76e707d010\" target=\"_top\" title=\"psysml:630baa2a-121f-4da7-a3fd-6c76e707d010\" xlink:actuate=\"onRequest\" xlink:href=\"psysml:630baa2a-121f-4da7-a3fd-6c76e707d010\" xlink:show=\"new\" xlink:title=\"psysml:630baa2a-121f-4da7-a3fd-6c76e707d010\" xlink:type=\"simple\"><rect fill=\"#FFFFFF\" height=\"40\" id=\"E10\" rx=\"10\" ry=\"10\" style=\"stroke:#383838;stroke-width:1.5;\" width=\"50\" x=\"80\" y=\"110\"/><text fill=\"#000000\" font-family=\"sans-serif\" font-size=\"14\" lengthAdjust=\"spacing\" textLength=\"35\" x=\"87.5\" y=\"127.9951\">z1: A</text></a></g><!--MD5=[185131fc0dcab0a4505a2ebe144e961b]\n",
       "link E4 to E2--><g id=\"link_E4_E2\"><a href=\"psysml:0487f209-9870-4837-a273-e80eaf0041e3\" target=\"_top\" title=\"psysml:0487f209-9870-4837-a273-e80eaf0041e3\" xlink:actuate=\"onRequest\" xlink:href=\"psysml:0487f209-9870-4837-a273-e80eaf0041e3\" xlink:show=\"new\" xlink:title=\"psysml:0487f209-9870-4837-a273-e80eaf0041e3\" xlink:type=\"simple\"><path d=\"M349.63,188.08 C376.83,188.195 430.0325,188.42 477.0525,188.6187 C482.93,188.6436 488.7109,188.668 494.3323,188.6918 C497.1431,188.7037 499.9139,188.7154 502.637,188.7269 C503.9986,188.7326 505.3482,188.7383 506.685,188.744 \" fill=\"none\" id=\"E4-to-E2\" style=\"stroke:#181818;stroke-width:1.0;stroke-dasharray:7.0,7.0;\"/><polygon fill=\"#181818\" points=\"506.685,188.744,497.7019,184.706,501.685,188.7229,497.6681,192.7059,506.685,188.744\" style=\"stroke:#181818;stroke-width:1.0;\"/><text fill=\"#000000\" font-family=\"sans-serif\" font-size=\"13\" lengthAdjust=\"spacing\" textLength=\"65\" x=\"417\" y=\"185.0669\">«import»*</text></a></g><!--MD5=[e9be52314489bd878ff4c7144b63c9e1]\n",
       "link E5 to E3--><g id=\"link_E5_E3\"><a href=\"psysml:fdb905ca-fd31-45b2-b41e-28dfb09dbd5e\" target=\"_top\" title=\"psysml:fdb905ca-fd31-45b2-b41e-28dfb09dbd5e\" xlink:actuate=\"onRequest\" xlink:href=\"psysml:fdb905ca-fd31-45b2-b41e-28dfb09dbd5e\" xlink:show=\"new\" xlink:title=\"psysml:fdb905ca-fd31-45b2-b41e-28dfb09dbd5e\" xlink:type=\"simple\"><path d=\"M355.87,75.4 C392.32,84.98 462.06,103.3 511.51,116.29 \" fill=\"none\" id=\"E5-to-E3\" style=\"stroke:#181818;stroke-width:1.0;\"/><polygon fill=\"#FFFFFF\" points=\"530.97,121.4,510.8146,123.3385,514.3745,109.7987,530.97,121.4\" style=\"stroke:#181818;stroke-width:1.0;\"/><ellipse cx=\"505.8105\" cy=\"119.9549\" fill=\"#181818\" rx=\"2\" ry=\"2\" style=\"stroke:#181818;stroke-width:1.0;\"/><ellipse cx=\"508.3533\" cy=\"110.2836\" fill=\"#181818\" rx=\"2\" ry=\"2\" style=\"stroke:#181818;stroke-width:1.0;\"/></a></g><!--MD5=[ee384bb554873b72f85793eae40e290c]\n",
       "link E1 to E4--><g id=\"link_E1_E4\"><a href=\"psysml:60fcb482-826b-48b1-b5dc-27f8a317149a\" target=\"_top\" title=\"psysml:60fcb482-826b-48b1-b5dc-27f8a317149a\" xlink:actuate=\"onRequest\" xlink:href=\"psysml:60fcb482-826b-48b1-b5dc-27f8a317149a\" xlink:show=\"new\" xlink:title=\"psysml:60fcb482-826b-48b1-b5dc-27f8a317149a\" xlink:type=\"simple\"><path d=\"M106.12,411.03 C108.67,411.69 149.7,421.95 170,403 C183.57,390.33 170.3,378.89 178,362 C200.47,312.74 217.32,306.73 253,266 C270.51,246.01 291.78,224.53 307.43,209.19 \" fill=\"none\" id=\"E1-to-E4\" style=\"stroke:#181818;stroke-width:1.0;stroke-dasharray:7.0,7.0;\"/><polygon fill=\"#181818\" points=\"311.29,205.42,302.0485,208.8252,307.7048,208.9052,307.6248,214.5615,311.29,205.42\" style=\"stroke:#181818;stroke-width:1.0;\"/><text fill=\"#000000\" font-family=\"sans-serif\" font-size=\"13\" lengthAdjust=\"spacing\" textLength=\"65\" x=\"179\" y=\"272.0669\">«import»*</text></a></g><!--MD5=[ccbd3af71bf83df0ec2a2db62d6d7130]\n",
       "link E1 to E6--><g id=\"link_E1_E6\"><a href=\"psysml:37c9a4c7-80e6-494a-a65a-d8ec35cca65c\" target=\"_top\" title=\"psysml:37c9a4c7-80e6-494a-a65a-d8ec35cca65c\" xlink:actuate=\"onRequest\" xlink:href=\"psysml:37c9a4c7-80e6-494a-a65a-d8ec35cca65c\" xlink:show=\"new\" xlink:title=\"psysml:37c9a4c7-80e6-494a-a65a-d8ec35cca65c\" xlink:type=\"simple\"><path d=\"M106.1,410.99 C108.23,410.83 142.7,408.11 170,403 C205.355,396.38 244.545,386.5875 275.2313,378.3488 C282.9028,376.2891 290.0429,374.3265 296.4587,372.5349 C298.0626,372.087 299.6213,371.6497 301.1317,371.2244 C301.3205,371.1712 301.5086,371.1182 301.6959,371.0654 \" fill=\"none\" id=\"E1-to-E6\" style=\"stroke:#181818;stroke-width:1.0;stroke-dasharray:7.0,7.0;\"/><polygon fill=\"#181818\" points=\"301.6959,371.0654,291.9481,369.6576,296.8835,372.4221,294.1189,377.3574,301.6959,371.0654\" style=\"stroke:#181818;stroke-width:1.0;\"/><text fill=\"#000000\" font-family=\"sans-serif\" font-size=\"13\" lengthAdjust=\"spacing\" textLength=\"65\" x=\"179\" y=\"383.0669\">«import»*</text></a></g><!--MD5=[bfa3c8b0d15052fdf50ae9310b491027]\n",
       "link E8 to E7--><g id=\"link_E8_E7\"><a href=\"psysml:f605a3b7-992a-46f2-9cbf-567dae0e656e\" target=\"_top\" title=\"psysml:f605a3b7-992a-46f2-9cbf-567dae0e656e\" xlink:actuate=\"onRequest\" xlink:href=\"psysml:f605a3b7-992a-46f2-9cbf-567dae0e656e\" xlink:show=\"new\" xlink:title=\"psysml:f605a3b7-992a-46f2-9cbf-567dae0e656e\" xlink:type=\"simple\"><path d=\"M130.11,296.78 C157.83,297.71 204.71,299.32 245,301 C253.95,301.37 263.44,301.8 272.7,302.22 \" fill=\"none\" id=\"E8-to-E7\" style=\"stroke:#181818;stroke-width:1.0;\"/><polygon fill=\"#FFFFFF\" points=\"292.9,303.18,273.5869,309.2631,274.2566,295.2791,292.9,303.18\" style=\"stroke:#181818;stroke-width:1.0;\"/><ellipse cx=\"267.9891\" cy=\"306.9927\" fill=\"#181818\" rx=\"2\" ry=\"2\" style=\"stroke:#181818;stroke-width:1.0;\"/><ellipse cx=\"268.4675\" cy=\"297.0042\" fill=\"#181818\" rx=\"2\" ry=\"2\" style=\"stroke:#181818;stroke-width:1.0;\"/></a></g><!--MD5=[c2be97adba6ddfe1c8f349fab141c927]\n",
       "link E9 to E4--><g id=\"link_E9_E4\"><a href=\"psysml:f74e7f7d-bc69-4c36-9a7b-616abfb119b1\" target=\"_top\" title=\"psysml:f74e7f7d-bc69-4c36-9a7b-616abfb119b1\" xlink:actuate=\"onRequest\" xlink:href=\"psysml:f74e7f7d-bc69-4c36-9a7b-616abfb119b1\" xlink:show=\"new\" xlink:title=\"psysml:f74e7f7d-bc69-4c36-9a7b-616abfb119b1\" xlink:type=\"simple\"><path d=\"M154.4103,185.6464 C154.6981,185.6503 154.9867,185.6542 155.2762,185.6581 C155.8551,185.6658 156.4373,185.6736 157.0227,185.6815 C166.3889,185.8073 176.5725,185.9441 187.1525,186.0863 C229.4725,186.655 278.135,187.31 306.2,187.69 \" fill=\"none\" id=\"E9-to-E4\" style=\"stroke:#181818;stroke-width:1.0;stroke-dasharray:7.0,7.0;\"/><polygon fill=\"#181818\" points=\"311.37,187.76,302.4163,183.6574,306.3703,187.7029,302.3249,191.6569,311.37,187.76\" style=\"stroke:#181818;stroke-width:1.0;\"/><text fill=\"#000000\" font-family=\"sans-serif\" font-size=\"13\" lengthAdjust=\"spacing\" textLength=\"65\" x=\"179\" y=\"182.0669\">«import»*</text></a></g><!--MD5=[feeac5eb423634930294aa81f2d25a4c]\n",
       "link E10 to E3--><g id=\"link_E10_E3\"><a href=\"psysml:7688159c-03f6-437a-9242-bafcaad292a9\" target=\"_top\" title=\"psysml:7688159c-03f6-437a-9242-bafcaad292a9\" xlink:actuate=\"onRequest\" xlink:href=\"psysml:7688159c-03f6-437a-9242-bafcaad292a9\" xlink:show=\"new\" xlink:title=\"psysml:7688159c-03f6-437a-9242-bafcaad292a9\" xlink:type=\"simple\"><path d=\"M130.26,129.9 C190.14,129.68 349.81,129.21 483,130 C491.95,130.05 501.44,130.14 510.69,130.24 \" fill=\"none\" id=\"E10-to-E3\" style=\"stroke:#181818;stroke-width:1.0;\"/><polygon fill=\"#FFFFFF\" points=\"530.9,130.47,511.8212,137.2524,511.9812,123.2533,530.9,130.47\" style=\"stroke:#181818;stroke-width:1.0;\"/><ellipse cx=\"506.1445\" cy=\"135.1874\" fill=\"#181818\" rx=\"2\" ry=\"2\" style=\"stroke:#181818;stroke-width:1.0;\"/><ellipse cx=\"506.2588\" cy=\"125.1881\" fill=\"#181818\" rx=\"2\" ry=\"2\" style=\"stroke:#181818;stroke-width:1.0;\"/></a></g><!--MD5=[906a990ed4d8b3d0928986e9204dd000]\n",
       "@startuml\r\n",
       "skin sysmlbw\r\n",
       "skinparam monochrome true\r\n",
       "skinparam wrapWidth 300\r\n",
       "hide circle\r\n",
       "left to right direction\r\n",
       "skinparam ranksep 10\r\n",
       "skinparam rectangle {\r\n",
       " backgroundColor<<block>> LightGreen\r\n",
       "}\r\n",
       "\r\n",
       "package \"PrivateImportTest\" as E1  [[psysml:11a30fa2-fbeb-4b2d-a071-2781e63d5a12 ]]  {\r\n",
       "package \"P1\" as E2  [[psysml:29bb8ef7-a50f-48a8-b243-dfabeed2550d ]]  {\r\n",
       "rec def \"A\" as E3  <<(T,blue) part  def>> [[psysml:5dfb8e4e-b010-43d6-9ea6-8d8096aa0cbd ]] {\r\n",
       "}\r\n",
       "}\r\n",
       "package \"P2\" as E4  [[psysml:6d745f5d-a6bd-48d3-bb38-b4db6224b450 ]]  {\r\n",
       "}\r\n",
       "rec usage \"x: A\" as E5 [[psysml:fd0b961b-4bae-44e8-b09a-9c87fac280e3 ]] {\r\n",
       "}\r\n",
       "package \"P3\" as E6  [[psysml:3afe7580-df30-4ff0-95e6-ec63d3638055 ]]  {\r\n",
       "rec def \"B\" as E7  <<(T,blue) part  def>> [[psysml:05031283-db67-47ce-b074-a753e1e8519b ]] {\r\n",
       "}\r\n",
       "}\r\n",
       "rec usage \"z: B\" as E8 [[psysml:87e3ce51-5094-4f5d-8d11-feac4ad1e872 ]] {\r\n",
       "}\r\n",
       "package \"P4\" as E9  [[psysml:a1b56716-f996-4480-88b0-3733f2d7733c ]]  {\r\n",
       "rec usage \"z1: A\" as E10 [[psysml:630baa2a-121f-4da7-a3fd-6c76e707d010 ]] {\r\n",
       "}\r\n",
       "}\r\n",
       "}\r\n",
       "E4 ..> E2 [[psysml:0487f209-9870-4837-a273-e80eaf0041e3 ]] : <<import>>*\r\n",
       "E5 - -:|> E3 [[psysml:fdb905ca-fd31-45b2-b41e-28dfb09dbd5e ]] \r\n",
       "E1 ..> E4 [[psysml:60fcb482-826b-48b1-b5dc-27f8a317149a ]] : <<import>>*\r\n",
       "E1 ..> E6 [[psysml:37c9a4c7-80e6-494a-a65a-d8ec35cca65c ]] : <<import>>*\r\n",
       "E8 - -:|> E7 [[psysml:f605a3b7-992a-46f2-9cbf-567dae0e656e ]] \r\n",
       "E9 ..> E4 [[psysml:f74e7f7d-bc69-4c36-9a7b-616abfb119b1 ]] : <<import>>*\r\n",
       "E10 - -:|> E3 [[psysml:7688159c-03f6-437a-9242-bafcaad292a9 ]] \r\n",
       "@enduml\r\n",
       "\n",
       "PlantUML version 1.2022.7(Mon Aug 22 17:01:30 UTC 2022)\n",
       "(EPL source distribution)\n",
       "Java Runtime: OpenJDK Runtime Environment\n",
       "JVM: OpenJDK 64-Bit Server VM\n",
       "Default Encoding: UTF-8\n",
       "Language: en\n",
       "Country: null\n",
       "--></g></svg>"
      ]
     },
     "execution_count": 19,
     "metadata": {},
     "output_type": "execute_result"
    }
   ],
   "source": [
    "%viz --style=\"LR\" --view=\"Interconnection\" \"PrivateImportTest\""
   ]
  },
  {
   "cell_type": "code",
   "execution_count": 20,
   "id": "68a95a72",
   "metadata": {
    "execution": {
     "iopub.execute_input": "2024-12-16T14:17:03.951311Z",
     "iopub.status.busy": "2024-12-16T14:17:03.951118Z",
     "iopub.status.idle": "2024-12-16T14:17:03.957179Z",
     "shell.execute_reply": "2024-12-16T14:17:03.956948Z"
    }
   },
   "outputs": [
    {
     "data": {
      "image/svg+xml": [
       "<?xml version=\"1.0\" encoding=\"UTF-8\" standalone=\"no\"?><svg xmlns=\"http://www.w3.org/2000/svg\" xmlns:xlink=\"http://www.w3.org/1999/xlink\" contentStyleType=\"text/css\" height=\"10px\" preserveAspectRatio=\"none\" style=\"width:10px;height:10px;background:#FFFFFF;\" version=\"1.1\" viewBox=\"0 0 10 10\" width=\"10px\" zoomAndPan=\"magnify\"><defs/><g><!--MD5=[a45826aa31d3f335355a0e6fe4d8f867]\n",
       "@startuml\r\n",
       "skin sysmlbw\r\n",
       "skinparam monochrome true\r\n",
       "skinparam wrapWidth 300\r\n",
       "hide circle\r\n",
       "left to right direction\r\n",
       "skinparam ranksep 8\r\n",
       "\r\n",
       "@enduml\r\n",
       "\n",
       "PlantUML version 1.2022.7(Mon Aug 22 17:01:30 UTC 2022)\n",
       "(EPL source distribution)\n",
       "Java Runtime: OpenJDK Runtime Environment\n",
       "JVM: OpenJDK 64-Bit Server VM\n",
       "Default Encoding: UTF-8\n",
       "Language: en\n",
       "Country: null\n",
       "--></g></svg>"
      ]
     },
     "execution_count": 20,
     "metadata": {},
     "output_type": "execute_result"
    }
   ],
   "source": [
    "%viz --style=\"LR\" --view=\"Action\" \"PrivateImportTest\""
   ]
  },
  {
   "cell_type": "code",
   "execution_count": 21,
   "id": "d08c8b9b",
   "metadata": {
    "execution": {
     "iopub.execute_input": "2024-12-16T14:17:04.012708Z",
     "iopub.status.busy": "2024-12-16T14:17:04.012461Z",
     "iopub.status.idle": "2024-12-16T14:17:04.018890Z",
     "shell.execute_reply": "2024-12-16T14:17:04.018705Z"
    }
   },
   "outputs": [
    {
     "data": {
      "image/svg+xml": [
       "<?xml version=\"1.0\" encoding=\"UTF-8\" standalone=\"no\"?><svg xmlns=\"http://www.w3.org/2000/svg\" xmlns:xlink=\"http://www.w3.org/1999/xlink\" contentStyleType=\"text/css\" height=\"10px\" preserveAspectRatio=\"none\" style=\"width:10px;height:10px;background:#FFFFFF;\" version=\"1.1\" viewBox=\"0 0 10 10\" width=\"10px\" zoomAndPan=\"magnify\"><defs/><g><!--MD5=[3d7abb46b795db4c9d99c7acf425de78]\n",
       "@startuml\r\n",
       "skin sysmlbw\r\n",
       "skinparam monochrome true\r\n",
       "skinparam wrapWidth 300\r\n",
       "hide circle\r\n",
       "left to right direction\r\n",
       "skinparam roundcorner 20\r\n",
       "skinparam BoxPadding 20\r\n",
       "skinparam SequenceBoxBackgroundColor #white\r\n",
       "skinparam style strictuml\r\n",
       "skinparam maxMessageSize 100\r\n",
       "\r\n",
       "@enduml\r\n",
       "\n",
       "PlantUML version 1.2022.7(Mon Aug 22 17:01:30 UTC 2022)\n",
       "(EPL source distribution)\n",
       "Java Runtime: OpenJDK Runtime Environment\n",
       "JVM: OpenJDK 64-Bit Server VM\n",
       "Default Encoding: UTF-8\n",
       "Language: en\n",
       "Country: null\n",
       "--></g></svg>"
      ]
     },
     "execution_count": 21,
     "metadata": {},
     "output_type": "execute_result"
    }
   ],
   "source": [
    "%viz --style=\"LR\" --view=\"Sequence\" \"PrivateImportTest\""
   ]
  },
  {
   "cell_type": "code",
   "execution_count": 22,
   "id": "0fa01a0a",
   "metadata": {
    "execution": {
     "iopub.execute_input": "2024-12-16T14:17:04.075016Z",
     "iopub.status.busy": "2024-12-16T14:17:04.074749Z",
     "iopub.status.idle": "2024-12-16T14:17:04.102078Z",
     "shell.execute_reply": "2024-12-16T14:17:04.101869Z"
    }
   },
   "outputs": [
    {
     "data": {
      "image/svg+xml": [
       "<?xml version=\"1.0\" encoding=\"UTF-8\" standalone=\"no\"?><svg xmlns=\"http://www.w3.org/2000/svg\" xmlns:xlink=\"http://www.w3.org/1999/xlink\" contentStyleType=\"text/css\" height=\"438px\" preserveAspectRatio=\"none\" style=\"width:676px;height:438px;background:#FFFFFF;\" version=\"1.1\" viewBox=\"0 0 676 438\" width=\"676px\" zoomAndPan=\"magnify\"><defs/><g><!--MD5=[fbc87193dbaf4d95561dea2c320d4a47]\n",
       "cluster E1--><g id=\"cluster_E1\"><a href=\"psysml:11a30fa2-fbeb-4b2d-a071-2781e63d5a12\" target=\"_top\" title=\"psysml:11a30fa2-fbeb-4b2d-a071-2781e63d5a12\" xlink:actuate=\"onRequest\" xlink:href=\"psysml:11a30fa2-fbeb-4b2d-a071-2781e63d5a12\" xlink:show=\"new\" xlink:title=\"psysml:11a30fa2-fbeb-4b2d-a071-2781e63d5a12\" xlink:type=\"simple\"><polygon fill=\"none\" points=\"16,6,150.4375,6,157.4375,28.2969,659,28.2969,659,429,16,429,16,6\" style=\"stroke:#000000;stroke-width:1.5;\"/><line style=\"stroke:#000000;stroke-width:1.5;\" x1=\"16\" x2=\"157.4375\" y1=\"28.2969\" y2=\"28.2969\"/><text fill=\"#000000\" font-family=\"sans-serif\" font-size=\"14\" font-weight=\"bold\" lengthAdjust=\"spacing\" textLength=\"128.4375\" x=\"20\" y=\"20.9951\">PrivateImportTest</text></a></g><!--MD5=[e4f7fae6ed58524ba242bb0b0d3be6b7]\n",
       "cluster E2--><g id=\"cluster_E2\"><a href=\"psysml:29bb8ef7-a50f-48a8-b243-dfabeed2550d\" target=\"_top\" title=\"psysml:29bb8ef7-a50f-48a8-b243-dfabeed2550d\" xlink:actuate=\"onRequest\" xlink:href=\"psysml:29bb8ef7-a50f-48a8-b243-dfabeed2550d\" xlink:show=\"new\" xlink:title=\"psysml:29bb8ef7-a50f-48a8-b243-dfabeed2550d\" xlink:type=\"simple\"><polygon fill=\"none\" points=\"501,66,525.875,66,532.875,88.2969,619,88.2969,619,200,501,200,501,66\" style=\"stroke:#000000;stroke-width:1.5;\"/><line style=\"stroke:#000000;stroke-width:1.5;\" x1=\"501\" x2=\"532.875\" y1=\"88.2969\" y2=\"88.2969\"/><text fill=\"#000000\" font-family=\"sans-serif\" font-size=\"14\" font-weight=\"bold\" lengthAdjust=\"spacing\" textLength=\"18.875\" x=\"505\" y=\"80.9951\">P1</text></a></g><!--MD5=[14e3b0961a2654348d326746436168a1]\n",
       "cluster E6--><g id=\"cluster_E6\"><a href=\"psysml:3afe7580-df30-4ff0-95e6-ec63d3638055\" target=\"_top\" title=\"psysml:3afe7580-df30-4ff0-95e6-ec63d3638055\" xlink:actuate=\"onRequest\" xlink:href=\"psysml:3afe7580-df30-4ff0-95e6-ec63d3638055\" xlink:show=\"new\" xlink:title=\"psysml:3afe7580-df30-4ff0-95e6-ec63d3638055\" xlink:type=\"simple\"><polygon fill=\"none\" points=\"268,247,292.875,247,299.875,269.2969,386,269.2969,386,381,268,381,268,247\" style=\"stroke:#000000;stroke-width:1.5;\"/><line style=\"stroke:#000000;stroke-width:1.5;\" x1=\"268\" x2=\"299.875\" y1=\"269.2969\" y2=\"269.2969\"/><text fill=\"#000000\" font-family=\"sans-serif\" font-size=\"14\" font-weight=\"bold\" lengthAdjust=\"spacing\" textLength=\"18.875\" x=\"272\" y=\"261.9951\">P3</text></a></g><!--MD5=[7f149f147074ac12df2cb0a7728a5fb0]\n",
       "cluster E9--><g id=\"cluster_E9\"><a href=\"psysml:a1b56716-f996-4480-88b0-3733f2d7733c\" target=\"_top\" title=\"psysml:a1b56716-f996-4480-88b0-3733f2d7733c\" xlink:actuate=\"onRequest\" xlink:href=\"psysml:a1b56716-f996-4480-88b0-3733f2d7733c\" xlink:show=\"new\" xlink:title=\"psysml:a1b56716-f996-4480-88b0-3733f2d7733c\" xlink:type=\"simple\"><polygon fill=\"none\" points=\"56,67,80.875,67,87.875,89.2969,153,89.2969,153,201,56,201,56,67\" style=\"stroke:#000000;stroke-width:1.5;\"/><line style=\"stroke:#000000;stroke-width:1.5;\" x1=\"56\" x2=\"87.875\" y1=\"89.2969\" y2=\"89.2969\"/><text fill=\"#000000\" font-family=\"sans-serif\" font-size=\"14\" font-weight=\"bold\" lengthAdjust=\"spacing\" textLength=\"18.875\" x=\"60\" y=\"81.9951\">P4</text></a></g><!--MD5=[270fce915f116d4de14055a7c1d9a0f3]\n",
       "class E5--><a href=\"psysml:fd0b961b-4bae-44e8-b09a-9c87fac280e3\" target=\"_top\" title=\"psysml:fd0b961b-4bae-44e8-b09a-9c87fac280e3\" xlink:actuate=\"onRequest\" xlink:href=\"psysml:fd0b961b-4bae-44e8-b09a-9c87fac280e3\" xlink:show=\"new\" xlink:title=\"psysml:fd0b961b-4bae-44e8-b09a-9c87fac280e3\" xlink:type=\"simple\"><g id=\"elem_E5\"><rect fill=\"#FFFFFF\" height=\"48.2656\" id=\"E5\" rx=\"10\" ry=\"10\" style=\"stroke:#181818;stroke-width:0.5;\" width=\"42\" x=\"306\" y=\"49\"/><text fill=\"#000000\" font-family=\"sans-serif\" font-size=\"12\" font-style=\"italic\" lengthAdjust=\"spacing\" textLength=\"40\" x=\"307\" y=\"65.1387\">«part»</text><text fill=\"#000000\" font-family=\"sans-serif\" font-size=\"14\" lengthAdjust=\"spacing\" textLength=\"25\" x=\"310.5\" y=\"80.9639\">x: A</text><line style=\"stroke:#181818;stroke-width:0.5;\" x1=\"307\" x2=\"347\" y1=\"89.2656\" y2=\"89.2656\"/></g></a><!--MD5=[b9389687b975829384b498ac4b7476b2]\n",
       "class E8--><a href=\"psysml:87e3ce51-5094-4f5d-8d11-feac4ad1e872\" target=\"_top\" title=\"psysml:87e3ce51-5094-4f5d-8d11-feac4ad1e872\" xlink:actuate=\"onRequest\" xlink:href=\"psysml:87e3ce51-5094-4f5d-8d11-feac4ad1e872\" xlink:show=\"new\" xlink:title=\"psysml:87e3ce51-5094-4f5d-8d11-feac4ad1e872\" xlink:type=\"simple\"><g id=\"elem_E8\"><rect fill=\"#FFFFFF\" height=\"48.2656\" id=\"E8\" rx=\"10\" ry=\"10\" style=\"stroke:#181818;stroke-width:0.5;\" width=\"42\" x=\"83.5\" y=\"282\"/><text fill=\"#000000\" font-family=\"sans-serif\" font-size=\"12\" font-style=\"italic\" lengthAdjust=\"spacing\" textLength=\"40\" x=\"84.5\" y=\"298.1387\">«part»</text><text fill=\"#000000\" font-family=\"sans-serif\" font-size=\"14\" lengthAdjust=\"spacing\" textLength=\"27\" x=\"87\" y=\"313.9639\">z: B</text><line style=\"stroke:#181818;stroke-width:0.5;\" x1=\"84.5\" x2=\"124.5\" y1=\"322.2656\" y2=\"322.2656\"/></g></a><!--MD5=[09b614a08d8cba4a07c9adeb5e0fee81]\n",
       "class E3--><a href=\"psysml:5dfb8e4e-b010-43d6-9ea6-8d8096aa0cbd\" target=\"_top\" title=\"psysml:5dfb8e4e-b010-43d6-9ea6-8d8096aa0cbd\" xlink:actuate=\"onRequest\" xlink:href=\"psysml:5dfb8e4e-b010-43d6-9ea6-8d8096aa0cbd\" xlink:show=\"new\" xlink:title=\"psysml:5dfb8e4e-b010-43d6-9ea6-8d8096aa0cbd\" xlink:type=\"simple\"><g id=\"elem_E3\"><rect fill=\"#FFFFFF\" height=\"48.2656\" id=\"E3\" style=\"stroke:#181818;stroke-width:0.5;\" width=\"70\" x=\"525\" y=\"109\"/><text fill=\"#000000\" font-family=\"sans-serif\" font-size=\"12\" font-style=\"italic\" lengthAdjust=\"spacing\" textLength=\"68\" x=\"526\" y=\"125.1387\">«part  def»</text><text fill=\"#000000\" font-family=\"sans-serif\" font-size=\"14\" lengthAdjust=\"spacing\" textLength=\"9\" x=\"555.5\" y=\"140.9639\">A</text><line style=\"stroke:#181818;stroke-width:0.5;\" x1=\"526\" x2=\"594\" y1=\"149.2656\" y2=\"149.2656\"/></g></a><a href=\"psysml:6d745f5d-a6bd-48d3-bb38-b4db6224b450\" target=\"_top\" title=\"psysml:6d745f5d-a6bd-48d3-bb38-b4db6224b450\" xlink:actuate=\"onRequest\" xlink:href=\"psysml:6d745f5d-a6bd-48d3-bb38-b4db6224b450\" xlink:show=\"new\" xlink:title=\"psysml:6d745f5d-a6bd-48d3-bb38-b4db6224b450\" xlink:type=\"simple\"><polygon fill=\"#FFFFFF\" points=\"308,169.5,332,169.5,339,191.7969,346,191.7969,346,222.0938,308,222.0938,308,169.5\" style=\"stroke:#181818;stroke-width:0.5;\"/><line style=\"stroke:#181818;stroke-width:0.5;\" x1=\"308\" x2=\"339\" y1=\"191.7969\" y2=\"191.7969\"/><text fill=\"#000000\" font-family=\"sans-serif\" font-size=\"14\" lengthAdjust=\"spacing\" textLength=\"18\" x=\"312\" y=\"184.4951\">P2</text></a><!--MD5=[2156ba9850f5573cc1fc38a6a4b2f02b]\n",
       "class E7--><a href=\"psysml:05031283-db67-47ce-b074-a753e1e8519b\" target=\"_top\" title=\"psysml:05031283-db67-47ce-b074-a753e1e8519b\" xlink:actuate=\"onRequest\" xlink:href=\"psysml:05031283-db67-47ce-b074-a753e1e8519b\" xlink:show=\"new\" xlink:title=\"psysml:05031283-db67-47ce-b074-a753e1e8519b\" xlink:type=\"simple\"><g id=\"elem_E7\"><rect fill=\"#FFFFFF\" height=\"48.2656\" id=\"E7\" style=\"stroke:#181818;stroke-width:0.5;\" width=\"70\" x=\"292\" y=\"290\"/><text fill=\"#000000\" font-family=\"sans-serif\" font-size=\"12\" font-style=\"italic\" lengthAdjust=\"spacing\" textLength=\"68\" x=\"293\" y=\"306.1387\">«part  def»</text><text fill=\"#000000\" font-family=\"sans-serif\" font-size=\"14\" lengthAdjust=\"spacing\" textLength=\"10\" x=\"322\" y=\"321.9639\">B</text><line style=\"stroke:#181818;stroke-width:0.5;\" x1=\"293\" x2=\"361\" y1=\"330.2656\" y2=\"330.2656\"/></g></a><!--MD5=[96f4274e9e20536e775497830990834d]\n",
       "class E10--><a href=\"psysml:630baa2a-121f-4da7-a3fd-6c76e707d010\" target=\"_top\" title=\"psysml:630baa2a-121f-4da7-a3fd-6c76e707d010\" xlink:actuate=\"onRequest\" xlink:href=\"psysml:630baa2a-121f-4da7-a3fd-6c76e707d010\" xlink:show=\"new\" xlink:title=\"psysml:630baa2a-121f-4da7-a3fd-6c76e707d010\" xlink:type=\"simple\"><g id=\"elem_E10\"><rect fill=\"#FFFFFF\" height=\"48.2656\" id=\"E10\" rx=\"10\" ry=\"10\" style=\"stroke:#181818;stroke-width:0.5;\" width=\"49\" x=\"80\" y=\"110\"/><text fill=\"#000000\" font-family=\"sans-serif\" font-size=\"12\" font-style=\"italic\" lengthAdjust=\"spacing\" textLength=\"40\" x=\"84.5\" y=\"126.1387\">«part»</text><text fill=\"#000000\" font-family=\"sans-serif\" font-size=\"14\" lengthAdjust=\"spacing\" textLength=\"35\" x=\"83\" y=\"141.9639\">z1: A</text><line style=\"stroke:#181818;stroke-width:0.5;\" x1=\"81\" x2=\"128\" y1=\"150.2656\" y2=\"150.2656\"/></g></a><!--MD5=[185131fc0dcab0a4505a2ebe144e961b]\n",
       "link E4 to E2--><g id=\"link_E4_E2\"><a href=\"psysml:0487f209-9870-4837-a273-e80eaf0041e3\" target=\"_top\" title=\"psysml:0487f209-9870-4837-a273-e80eaf0041e3\" xlink:actuate=\"onRequest\" xlink:href=\"psysml:0487f209-9870-4837-a273-e80eaf0041e3\" xlink:show=\"new\" xlink:title=\"psysml:0487f209-9870-4837-a273-e80eaf0041e3\" xlink:type=\"simple\"><path d=\"M346.13,195.69 C372.93,195.225 424.915,194.325 470.8013,193.53 C476.537,193.4306 482.1775,193.3329 487.6616,193.2379 C490.4037,193.1903 493.1066,193.1435 495.7628,193.0974 C497.0909,193.0744 498.4074,193.0516 499.7111,193.029 C500.0371,193.0234 500.3622,193.0177 500.6866,193.0121 \" fill=\"none\" id=\"E4-to-E2\" style=\"stroke:#181818;stroke-width:1.0;stroke-dasharray:7.0,7.0;\"/><polygon fill=\"#181818\" points=\"500.6866,193.0121,491.6186,189.1687,495.6873,193.0988,491.7573,197.1675,500.6866,193.0121\" style=\"stroke:#181818;stroke-width:1.0;\"/><text fill=\"#000000\" font-family=\"sans-serif\" font-size=\"13\" lengthAdjust=\"spacing\" textLength=\"65\" x=\"411\" y=\"190.0669\">«import»*</text></a></g><!--MD5=[e9be52314489bd878ff4c7144b63c9e1]\n",
       "link E5 to E3--><g id=\"link_E5_E3\"><a href=\"psysml:fdb905ca-fd31-45b2-b41e-28dfb09dbd5e\" target=\"_top\" title=\"psysml:fdb905ca-fd31-45b2-b41e-28dfb09dbd5e\" xlink:actuate=\"onRequest\" xlink:href=\"psysml:fdb905ca-fd31-45b2-b41e-28dfb09dbd5e\" xlink:show=\"new\" xlink:title=\"psysml:fdb905ca-fd31-45b2-b41e-28dfb09dbd5e\" xlink:type=\"simple\"><path d=\"M348.1,78.22 C382.75,87.22 454.85,105.95 505.05,118.99 \" fill=\"none\" id=\"E5-to-E3\" style=\"stroke:#181818;stroke-width:1.0;\"/><polygon fill=\"#FFFFFF\" points=\"524.72,124.1,504.5703,126.0979,508.0904,112.5476,524.72,124.1\" style=\"stroke:#181818;stroke-width:1.0;\"/><ellipse cx=\"499.5563\" cy=\"122.729\" fill=\"#181818\" rx=\"2\" ry=\"2\" style=\"stroke:#181818;stroke-width:1.0;\"/><ellipse cx=\"502.0707\" cy=\"113.0502\" fill=\"#181818\" rx=\"2\" ry=\"2\" style=\"stroke:#181818;stroke-width:1.0;\"/></a></g><!--MD5=[ee384bb554873b72f85793eae40e290c]\n",
       "link E1 to E4--><g id=\"link_E1_E4\"><a href=\"psysml:60fcb482-826b-48b1-b5dc-27f8a317149a\" target=\"_top\" title=\"psysml:60fcb482-826b-48b1-b5dc-27f8a317149a\" xlink:actuate=\"onRequest\" xlink:href=\"psysml:60fcb482-826b-48b1-b5dc-27f8a317149a\" xlink:show=\"new\" xlink:title=\"psysml:60fcb482-826b-48b1-b5dc-27f8a317149a\" xlink:type=\"simple\"><path d=\"M105.62,421.03 C108.15,421.68 148.87,431.82 169,413 C182.56,400.32 169.38,388.93 177,372 C199.51,321.99 216.41,315.73 252,274 C268.75,254.36 289,233.18 304.07,217.85 \" fill=\"none\" id=\"E1-to-E4\" style=\"stroke:#181818;stroke-width:1.0;stroke-dasharray:7.0,7.0;\"/><polygon fill=\"#181818\" points=\"307.79,214.09,298.6265,217.6998,304.2832,217.654,304.329,223.3107,307.79,214.09\" style=\"stroke:#181818;stroke-width:1.0;\"/><text fill=\"#000000\" font-family=\"sans-serif\" font-size=\"13\" lengthAdjust=\"spacing\" textLength=\"65\" x=\"178\" y=\"280.0669\">«import»*</text></a></g><!--MD5=[ccbd3af71bf83df0ec2a2db62d6d7130]\n",
       "link E1 to E6--><g id=\"link_E1_E6\"><a href=\"psysml:37c9a4c7-80e6-494a-a65a-d8ec35cca65c\" target=\"_top\" title=\"psysml:37c9a4c7-80e6-494a-a65a-d8ec35cca65c\" xlink:actuate=\"onRequest\" xlink:href=\"psysml:37c9a4c7-80e6-494a-a65a-d8ec35cca65c\" xlink:show=\"new\" xlink:title=\"psysml:37c9a4c7-80e6-494a-a65a-d8ec35cca65c\" xlink:type=\"simple\"><path d=\"M105.6,420.99 C107.71,420.83 141.93,418.13 169,413 C203.82,406.395 242.3975,396.6025 272.5988,388.36 C280.1491,386.2994 287.1759,384.3356 293.4896,382.5428 C295.068,382.0946 296.6018,381.657 298.0881,381.2313 C298.2739,381.1781 298.459,381.1251 298.6433,381.0723 \" fill=\"none\" id=\"E1-to-E6\" style=\"stroke:#181818;stroke-width:1.0;stroke-dasharray:7.0,7.0;\"/><polygon fill=\"#181818\" points=\"298.6433,381.0723,288.8894,379.7076,293.8369,382.4503,291.0942,387.3978,298.6433,381.0723\" style=\"stroke:#181818;stroke-width:1.0;\"/><text fill=\"#000000\" font-family=\"sans-serif\" font-size=\"13\" lengthAdjust=\"spacing\" textLength=\"65\" x=\"178\" y=\"393.0669\">«import»*</text></a></g><!--MD5=[bfa3c8b0d15052fdf50ae9310b491027]\n",
       "link E8 to E7--><g id=\"link_E8_E7\"><a href=\"psysml:f605a3b7-992a-46f2-9cbf-567dae0e656e\" target=\"_top\" title=\"psysml:f605a3b7-992a-46f2-9cbf-567dae0e656e\" xlink:actuate=\"onRequest\" xlink:href=\"psysml:f605a3b7-992a-46f2-9cbf-567dae0e656e\" xlink:show=\"new\" xlink:title=\"psysml:f605a3b7-992a-46f2-9cbf-567dae0e656e\" xlink:type=\"simple\"><path d=\"M125.68,306.73 C152.65,307.7 201.92,309.47 244,311 C252.93,311.32 262.41,311.67 271.63,312.01 \" fill=\"none\" id=\"E8-to-E7\" style=\"stroke:#181818;stroke-width:1.0;\"/><polygon fill=\"#FFFFFF\" points=\"291.69,312.74,272.4478,319.0437,272.9574,305.053,291.69,312.74\" style=\"stroke:#181818;stroke-width:1.0;\"/><ellipse cx=\"266.8244\" cy=\"316.8375\" fill=\"#181818\" rx=\"2\" ry=\"2\" style=\"stroke:#181818;stroke-width:1.0;\"/><ellipse cx=\"267.1884\" cy=\"306.8441\" fill=\"#181818\" rx=\"2\" ry=\"2\" style=\"stroke:#181818;stroke-width:1.0;\"/></a></g><!--MD5=[c2be97adba6ddfe1c8f349fab141c927]\n",
       "link E9 to E4--><g id=\"link_E9_E4\"><a href=\"psysml:f74e7f7d-bc69-4c36-9a7b-616abfb119b1\" target=\"_top\" title=\"psysml:f74e7f7d-bc69-4c36-9a7b-616abfb119b1\" xlink:actuate=\"onRequest\" xlink:href=\"psysml:f74e7f7d-bc69-4c36-9a7b-616abfb119b1\" xlink:show=\"new\" xlink:title=\"psysml:f74e7f7d-bc69-4c36-9a7b-616abfb119b1\" xlink:type=\"simple\"><path d=\"M153.0769,193.6434 C153.3598,193.6473 153.6435,193.6511 153.928,193.655 C154.4971,193.6627 155.0694,193.6705 155.6448,193.6783 C164.8519,193.8035 174.8644,193.9397 185.27,194.0813 C226.8925,194.6475 274.805,195.3 302.62,195.68 \" fill=\"none\" id=\"E9-to-E4\" style=\"stroke:#181818;stroke-width:1.0;stroke-dasharray:7.0,7.0;\"/><polygon fill=\"#181818\" points=\"307.74,195.75,298.7981,191.6218,302.7405,195.6786,298.6838,199.621,307.74,195.75\" style=\"stroke:#181818;stroke-width:1.0;\"/><text fill=\"#000000\" font-family=\"sans-serif\" font-size=\"13\" lengthAdjust=\"spacing\" textLength=\"65\" x=\"178\" y=\"191.0669\">«import»*</text></a></g><!--MD5=[feeac5eb423634930294aa81f2d25a4c]\n",
       "link E10 to E3--><g id=\"link_E10_E3\"><a href=\"psysml:7688159c-03f6-437a-9242-bafcaad292a9\" target=\"_top\" title=\"psysml:7688159c-03f6-437a-9242-bafcaad292a9\" xlink:actuate=\"onRequest\" xlink:href=\"psysml:7688159c-03f6-437a-9242-bafcaad292a9\" xlink:show=\"new\" xlink:title=\"psysml:7688159c-03f6-437a-9242-bafcaad292a9\" xlink:type=\"simple\"><path d=\"M129.24,133.95 C199.12,133.79 405.36,133.34 504.53,133.12 \" fill=\"none\" id=\"E10-to-E3\" style=\"stroke:#181818;stroke-width:1.0;\"/><polygon fill=\"#FFFFFF\" points=\"524.82,133.08,505.835,140.1207,505.805,126.1207,524.82,133.08\" style=\"stroke:#181818;stroke-width:1.0;\"/><ellipse cx=\"500.1308\" cy=\"138.1329\" fill=\"#181818\" rx=\"2\" ry=\"2\" style=\"stroke:#181818;stroke-width:1.0;\"/><ellipse cx=\"500.1093\" cy=\"128.1329\" fill=\"#181818\" rx=\"2\" ry=\"2\" style=\"stroke:#181818;stroke-width:1.0;\"/></a></g><!--MD5=[0ae8c63f9e336444e3a147b596e3bd57]\n",
       "@startuml\r\n",
       "skin sysmlbw\r\n",
       "skinparam monochrome true\r\n",
       "skinparam wrapWidth 300\r\n",
       "hide circle\r\n",
       "left to right direction\r\n",
       "\r\n",
       "package \"PrivateImportTest\" as E1  [[psysml:11a30fa2-fbeb-4b2d-a071-2781e63d5a12 ]]  {\r\n",
       "package \"P1\" as E2  [[psysml:29bb8ef7-a50f-48a8-b243-dfabeed2550d ]]  {\r\n",
       "comp def \"A\" as E3  <<(T,blue) part  def>> [[psysml:5dfb8e4e-b010-43d6-9ea6-8d8096aa0cbd ]] {\r\n",
       "}\r\n",
       "}\r\n",
       "package \"P2\" as E4  [[psysml:6d745f5d-a6bd-48d3-bb38-b4db6224b450 ]]  {\r\n",
       "}\r\n",
       "comp usage \"x: A  \" as E5  <<(T,blue) part>> [[psysml:fd0b961b-4bae-44e8-b09a-9c87fac280e3 ]] {\r\n",
       "}\r\n",
       "package \"P3\" as E6  [[psysml:3afe7580-df30-4ff0-95e6-ec63d3638055 ]]  {\r\n",
       "comp def \"B\" as E7  <<(T,blue) part  def>> [[psysml:05031283-db67-47ce-b074-a753e1e8519b ]] {\r\n",
       "}\r\n",
       "}\r\n",
       "comp usage \"z: B  \" as E8  <<(T,blue) part>> [[psysml:87e3ce51-5094-4f5d-8d11-feac4ad1e872 ]] {\r\n",
       "}\r\n",
       "package \"P4\" as E9  [[psysml:a1b56716-f996-4480-88b0-3733f2d7733c ]]  {\r\n",
       "comp usage \"z1: A  \" as E10  <<(T,blue) part>> [[psysml:630baa2a-121f-4da7-a3fd-6c76e707d010 ]] {\r\n",
       "}\r\n",
       "}\r\n",
       "}\r\n",
       "E4 ..> E2 [[psysml:0487f209-9870-4837-a273-e80eaf0041e3 ]] : <<import>>*\r\n",
       "E5 - -:|> E3 [[psysml:fdb905ca-fd31-45b2-b41e-28dfb09dbd5e ]] \r\n",
       "E1 ..> E4 [[psysml:60fcb482-826b-48b1-b5dc-27f8a317149a ]] : <<import>>*\r\n",
       "E1 ..> E6 [[psysml:37c9a4c7-80e6-494a-a65a-d8ec35cca65c ]] : <<import>>*\r\n",
       "E8 - -:|> E7 [[psysml:f605a3b7-992a-46f2-9cbf-567dae0e656e ]] \r\n",
       "E9 ..> E4 [[psysml:f74e7f7d-bc69-4c36-9a7b-616abfb119b1 ]] : <<import>>*\r\n",
       "E10 - -:|> E3 [[psysml:7688159c-03f6-437a-9242-bafcaad292a9 ]] \r\n",
       "@enduml\r\n",
       "\n",
       "PlantUML version 1.2022.7(Mon Aug 22 17:01:30 UTC 2022)\n",
       "(EPL source distribution)\n",
       "Java Runtime: OpenJDK Runtime Environment\n",
       "JVM: OpenJDK 64-Bit Server VM\n",
       "Default Encoding: UTF-8\n",
       "Language: en\n",
       "Country: null\n",
       "--></g></svg>"
      ]
     },
     "execution_count": 22,
     "metadata": {},
     "output_type": "execute_result"
    }
   ],
   "source": [
    "%viz --style=\"LR\" --view=\"MIXED\" \"PrivateImportTest\""
   ]
  },
  {
   "cell_type": "code",
   "execution_count": 23,
   "id": "9fa2b210",
   "metadata": {
    "execution": {
     "iopub.execute_input": "2024-12-16T14:17:04.155265Z",
     "iopub.status.busy": "2024-12-16T14:17:04.155052Z",
     "iopub.status.idle": "2024-12-16T14:17:04.179742Z",
     "shell.execute_reply": "2024-12-16T14:17:04.178784Z"
    }
   },
   "outputs": [
    {
     "data": {
      "image/svg+xml": [
       "<?xml version=\"1.0\" encoding=\"UTF-8\" standalone=\"no\"?><svg xmlns=\"http://www.w3.org/2000/svg\" xmlns:xlink=\"http://www.w3.org/1999/xlink\" contentStyleType=\"text/css\" height=\"587px\" preserveAspectRatio=\"none\" style=\"width:428px;height:587px;background:#FFFFFF;\" version=\"1.1\" viewBox=\"0 0 428 587\" width=\"428px\" zoomAndPan=\"magnify\"><defs><filter height=\"300%\" id=\"f1s6qzxsyn3yky\" width=\"300%\" x=\"-1\" y=\"-1\"><feGaussianBlur result=\"blurOut\" stdDeviation=\"2.0\"/><feColorMatrix in=\"blurOut\" result=\"blurOut2\" type=\"matrix\" values=\"0 0 0 0 0 0 0 0 0 0 0 0 0 0 0 0 0 0 .4 0\"/><feOffset dx=\"4.0\" dy=\"4.0\" in=\"blurOut2\" result=\"blurOut3\"/><feBlend in=\"SourceGraphic\" in2=\"blurOut3\" mode=\"normal\"/></filter></defs><g><!--MD5=[fbc87193dbaf4d95561dea2c320d4a47]\n",
       "cluster E1--><g id=\"cluster_E1\"><a href=\"psysml:11a30fa2-fbeb-4b2d-a071-2781e63d5a12\" target=\"_top\" title=\"psysml:11a30fa2-fbeb-4b2d-a071-2781e63d5a12\" xlink:actuate=\"onRequest\" xlink:href=\"psysml:11a30fa2-fbeb-4b2d-a071-2781e63d5a12\" xlink:show=\"new\" xlink:title=\"psysml:11a30fa2-fbeb-4b2d-a071-2781e63d5a12\" xlink:type=\"simple\"><polygon fill=\"none\" filter=\"url(#f1s6qzxsyn3yky)\" points=\"26.335,6,160.7725,6,167.7725,28.2969,411.335,28.2969,411.335,580,26.335,580,26.335,6\" style=\"stroke:#000000;stroke-width:1.5;\"/><line style=\"stroke:#000000;stroke-width:1.5;\" x1=\"26.335\" x2=\"167.7725\" y1=\"28.2969\" y2=\"28.2969\"/><text fill=\"#000000\" font-family=\"sans-serif\" font-size=\"14\" font-weight=\"bold\" lengthAdjust=\"spacing\" textLength=\"128.4375\" x=\"30.335\" y=\"20.9951\">PrivateImportTest</text></a></g><!--MD5=[e4f7fae6ed58524ba242bb0b0d3be6b7]\n",
       "cluster E2--><g id=\"cluster_E2\"><a href=\"psysml:29bb8ef7-a50f-48a8-b243-dfabeed2550d\" target=\"_top\" title=\"psysml:29bb8ef7-a50f-48a8-b243-dfabeed2550d\" xlink:actuate=\"onRequest\" xlink:href=\"psysml:29bb8ef7-a50f-48a8-b243-dfabeed2550d\" xlink:show=\"new\" xlink:title=\"psysml:29bb8ef7-a50f-48a8-b243-dfabeed2550d\" xlink:type=\"simple\"><polygon fill=\"none\" filter=\"url(#f1s6qzxsyn3yky)\" points=\"231.335,425,256.21,425,263.21,447.2969,368.335,447.2969,368.335,540,231.335,540,231.335,425\" style=\"stroke:#000000;stroke-width:1.5;\"/><line style=\"stroke:#000000;stroke-width:1.5;\" x1=\"231.335\" x2=\"263.21\" y1=\"447.2969\" y2=\"447.2969\"/><text fill=\"#000000\" font-family=\"sans-serif\" font-size=\"14\" font-weight=\"bold\" lengthAdjust=\"spacing\" textLength=\"18.875\" x=\"235.335\" y=\"439.9951\">P1</text></a></g><!--MD5=[14e3b0961a2654348d326746436168a1]\n",
       "cluster E6--><g id=\"cluster_E6\"><a href=\"psysml:3afe7580-df30-4ff0-95e6-ec63d3638055\" target=\"_top\" title=\"psysml:3afe7580-df30-4ff0-95e6-ec63d3638055\" xlink:actuate=\"onRequest\" xlink:href=\"psysml:3afe7580-df30-4ff0-95e6-ec63d3638055\" xlink:show=\"new\" xlink:title=\"psysml:3afe7580-df30-4ff0-95e6-ec63d3638055\" xlink:type=\"simple\"><polygon fill=\"none\" filter=\"url(#f1s6qzxsyn3yky)\" points=\"74.335,245,99.21,245,106.21,267.2969,211.335,267.2969,211.335,360,74.335,360,74.335,245\" style=\"stroke:#000000;stroke-width:1.5;\"/><line style=\"stroke:#000000;stroke-width:1.5;\" x1=\"74.335\" x2=\"106.21\" y1=\"267.2969\" y2=\"267.2969\"/><text fill=\"#000000\" font-family=\"sans-serif\" font-size=\"14\" font-weight=\"bold\" lengthAdjust=\"spacing\" textLength=\"18.875\" x=\"78.335\" y=\"259.9951\">P3</text></a></g><!--MD5=[7f149f147074ac12df2cb0a7728a5fb0]\n",
       "cluster E9--><g id=\"cluster_E9\"><a href=\"psysml:a1b56716-f996-4480-88b0-3733f2d7733c\" target=\"_top\" title=\"psysml:a1b56716-f996-4480-88b0-3733f2d7733c\" xlink:actuate=\"onRequest\" xlink:href=\"psysml:a1b56716-f996-4480-88b0-3733f2d7733c\" xlink:show=\"new\" xlink:title=\"psysml:a1b56716-f996-4480-88b0-3733f2d7733c\" xlink:type=\"simple\"><polygon fill=\"none\" filter=\"url(#f1s6qzxsyn3yky)\" points=\"254.335,65,279.21,65,286.21,87.2969,371.335,87.2969,371.335,180,254.335,180,254.335,65\" style=\"stroke:#000000;stroke-width:1.5;\"/><line style=\"stroke:#000000;stroke-width:1.5;\" x1=\"254.335\" x2=\"286.21\" y1=\"87.2969\" y2=\"87.2969\"/><text fill=\"#000000\" font-family=\"sans-serif\" font-size=\"14\" font-weight=\"bold\" lengthAdjust=\"spacing\" textLength=\"18.875\" x=\"258.335\" y=\"79.9951\">P4</text></a></g><!--MD5=[270fce915f116d4de14055a7c1d9a0f3]\n",
       "class E5--><a href=\"psysml:fd0b961b-4bae-44e8-b09a-9c87fac280e3\" target=\"_top\" title=\"psysml:fd0b961b-4bae-44e8-b09a-9c87fac280e3\" xlink:actuate=\"onRequest\" xlink:href=\"psysml:fd0b961b-4bae-44e8-b09a-9c87fac280e3\" xlink:show=\"new\" xlink:title=\"psysml:fd0b961b-4bae-44e8-b09a-9c87fac280e3\" xlink:type=\"simple\"><g id=\"elem_E5\"><rect fill=\"#FFFACD\" filter=\"url(#f1s6qzxsyn3yky)\" height=\"48.2656\" id=\"E5\" rx=\"10\" ry=\"10\" style=\"stroke:#181818;stroke-width:0.5;\" width=\"42\" x=\"345.335\" y=\"288\"/><text fill=\"#000000\" font-family=\"sans-serif\" font-size=\"12\" font-style=\"italic\" lengthAdjust=\"spacing\" textLength=\"40\" x=\"346.335\" y=\"304.1387\">«part»</text><text fill=\"#000000\" font-family=\"sans-serif\" font-size=\"14\" lengthAdjust=\"spacing\" textLength=\"25\" x=\"349.835\" y=\"319.9639\">x: A</text><line style=\"stroke:#181818;stroke-width:0.5;\" x1=\"346.335\" x2=\"386.335\" y1=\"328.2656\" y2=\"328.2656\"/></g></a><!--MD5=[b9389687b975829384b498ac4b7476b2]\n",
       "class E8--><a href=\"psysml:87e3ce51-5094-4f5d-8d11-feac4ad1e872\" target=\"_top\" title=\"psysml:87e3ce51-5094-4f5d-8d11-feac4ad1e872\" xlink:actuate=\"onRequest\" xlink:href=\"psysml:87e3ce51-5094-4f5d-8d11-feac4ad1e872\" xlink:show=\"new\" xlink:title=\"psysml:87e3ce51-5094-4f5d-8d11-feac4ad1e872\" xlink:type=\"simple\"><g id=\"elem_E8\"><rect fill=\"#FFFACD\" filter=\"url(#f1s6qzxsyn3yky)\" height=\"48.2656\" id=\"E8\" rx=\"10\" ry=\"10\" style=\"stroke:#181818;stroke-width:0.5;\" width=\"42\" x=\"185.335\" y=\"108\"/><text fill=\"#000000\" font-family=\"sans-serif\" font-size=\"12\" font-style=\"italic\" lengthAdjust=\"spacing\" textLength=\"40\" x=\"186.335\" y=\"124.1387\">«part»</text><text fill=\"#000000\" font-family=\"sans-serif\" font-size=\"14\" lengthAdjust=\"spacing\" textLength=\"27\" x=\"188.835\" y=\"139.9639\">z: B</text><line style=\"stroke:#181818;stroke-width:0.5;\" x1=\"186.335\" x2=\"226.335\" y1=\"148.2656\" y2=\"148.2656\"/></g></a><!--MD5=[09b614a08d8cba4a07c9adeb5e0fee81]\n",
       "class E3--><a href=\"psysml:5dfb8e4e-b010-43d6-9ea6-8d8096aa0cbd\" target=\"_top\" title=\"psysml:5dfb8e4e-b010-43d6-9ea6-8d8096aa0cbd\" xlink:actuate=\"onRequest\" xlink:href=\"psysml:5dfb8e4e-b010-43d6-9ea6-8d8096aa0cbd\" xlink:show=\"new\" xlink:title=\"psysml:5dfb8e4e-b010-43d6-9ea6-8d8096aa0cbd\" xlink:type=\"simple\"><g id=\"elem_E3\"><rect fill=\"#FFFACD\" filter=\"url(#f1s6qzxsyn3yky)\" height=\"48.2656\" id=\"E3\" style=\"stroke:#181818;stroke-width:0.5;\" width=\"70\" x=\"274.335\" y=\"468\"/><text fill=\"#000000\" font-family=\"sans-serif\" font-size=\"12\" font-style=\"italic\" lengthAdjust=\"spacing\" textLength=\"68\" x=\"275.335\" y=\"484.1387\">«part  def»</text><text fill=\"#000000\" font-family=\"sans-serif\" font-size=\"14\" lengthAdjust=\"spacing\" textLength=\"9\" x=\"304.835\" y=\"499.9639\">A</text><line style=\"stroke:#181818;stroke-width:0.5;\" x1=\"275.335\" x2=\"343.335\" y1=\"508.2656\" y2=\"508.2656\"/></g></a><a href=\"psysml:6d745f5d-a6bd-48d3-bb38-b4db6224b450\" target=\"_top\" title=\"psysml:6d745f5d-a6bd-48d3-bb38-b4db6224b450\" xlink:actuate=\"onRequest\" xlink:href=\"psysml:6d745f5d-a6bd-48d3-bb38-b4db6224b450\" xlink:show=\"new\" xlink:title=\"psysml:6d745f5d-a6bd-48d3-bb38-b4db6224b450\" xlink:type=\"simple\"><polygon fill=\"#FFFACD\" filter=\"url(#f1s6qzxsyn3yky)\" points=\"235.335,285.5,259.335,285.5,266.335,307.7969,273.335,307.7969,273.335,338.0938,235.335,338.0938,235.335,285.5\" style=\"stroke:#181818;stroke-width:0.5;\"/><line style=\"stroke:#181818;stroke-width:0.5;\" x1=\"235.335\" x2=\"266.335\" y1=\"307.7969\" y2=\"307.7969\"/><text fill=\"#000000\" font-family=\"sans-serif\" font-size=\"14\" lengthAdjust=\"spacing\" textLength=\"18\" x=\"239.335\" y=\"300.4951\">P2</text></a><!--MD5=[2156ba9850f5573cc1fc38a6a4b2f02b]\n",
       "class E7--><a href=\"psysml:05031283-db67-47ce-b074-a753e1e8519b\" target=\"_top\" title=\"psysml:05031283-db67-47ce-b074-a753e1e8519b\" xlink:actuate=\"onRequest\" xlink:href=\"psysml:05031283-db67-47ce-b074-a753e1e8519b\" xlink:show=\"new\" xlink:title=\"psysml:05031283-db67-47ce-b074-a753e1e8519b\" xlink:type=\"simple\"><g id=\"elem_E7\"><rect fill=\"#FFFACD\" filter=\"url(#f1s6qzxsyn3yky)\" height=\"48.2656\" id=\"E7\" style=\"stroke:#181818;stroke-width:0.5;\" width=\"70\" x=\"117.335\" y=\"288\"/><text fill=\"#000000\" font-family=\"sans-serif\" font-size=\"12\" font-style=\"italic\" lengthAdjust=\"spacing\" textLength=\"68\" x=\"118.335\" y=\"304.1387\">«part  def»</text><text fill=\"#000000\" font-family=\"sans-serif\" font-size=\"14\" lengthAdjust=\"spacing\" textLength=\"10\" x=\"147.335\" y=\"319.9639\">B</text><line style=\"stroke:#181818;stroke-width:0.5;\" x1=\"118.335\" x2=\"186.335\" y1=\"328.2656\" y2=\"328.2656\"/></g></a><!--MD5=[96f4274e9e20536e775497830990834d]\n",
       "class E10--><a href=\"psysml:630baa2a-121f-4da7-a3fd-6c76e707d010\" target=\"_top\" title=\"psysml:630baa2a-121f-4da7-a3fd-6c76e707d010\" xlink:actuate=\"onRequest\" xlink:href=\"psysml:630baa2a-121f-4da7-a3fd-6c76e707d010\" xlink:show=\"new\" xlink:title=\"psysml:630baa2a-121f-4da7-a3fd-6c76e707d010\" xlink:type=\"simple\"><g id=\"elem_E10\"><rect fill=\"#FFFACD\" filter=\"url(#f1s6qzxsyn3yky)\" height=\"48.2656\" id=\"E10\" rx=\"10\" ry=\"10\" style=\"stroke:#181818;stroke-width:0.5;\" width=\"49\" x=\"297.835\" y=\"108\"/><text fill=\"#000000\" font-family=\"sans-serif\" font-size=\"12\" font-style=\"italic\" lengthAdjust=\"spacing\" textLength=\"40\" x=\"302.335\" y=\"124.1387\">«part»</text><text fill=\"#000000\" font-family=\"sans-serif\" font-size=\"14\" lengthAdjust=\"spacing\" textLength=\"35\" x=\"300.835\" y=\"139.9639\">z1: A</text><line style=\"stroke:#181818;stroke-width:0.5;\" x1=\"298.835\" x2=\"345.835\" y1=\"148.2656\" y2=\"148.2656\"/></g></a><!--MD5=[185131fc0dcab0a4505a2ebe144e961b]\n",
       "link E4 to E2--><g id=\"link_E4_E2\"><a href=\"psysml:0487f209-9870-4837-a273-e80eaf0041e3\" target=\"_top\" title=\"psysml:0487f209-9870-4837-a273-e80eaf0041e3\" xlink:actuate=\"onRequest\" xlink:href=\"psysml:0487f209-9870-4837-a273-e80eaf0041e3\" xlink:show=\"new\" xlink:title=\"psysml:0487f209-9870-4837-a273-e80eaf0041e3\" xlink:type=\"simple\"><path d=\"M244.835,338.57 C240.375,351.9 235.565,368.61 233.335,384 C231.655,395.6 231.165,407.9706 231.3811,420.0302 C231.4081,421.5376 231.4461,423.0402 231.4943,424.5358 \" fill=\"none\" id=\"E4-to-E2\" style=\"stroke:#181818;stroke-width:1.0;stroke-dasharray:7.0,7.0;\"/><polygon fill=\"#181818\" points=\"231.4943,424.5358,235.2027,415.4118,231.3335,419.5384,227.2069,415.6691,231.4943,424.5358\" style=\"stroke:#181818;stroke-width:1.0;\"/><text fill=\"#000000\" font-family=\"sans-serif\" font-size=\"13\" lengthAdjust=\"spacing\" textLength=\"65\" x=\"234.335\" y=\"397.0669\">«import»*</text></a></g><!--MD5=[e9be52314489bd878ff4c7144b63c9e1]\n",
       "link E5 to E3--><g id=\"link_E5_E3\"><a href=\"psysml:fdb905ca-fd31-45b2-b41e-28dfb09dbd5e\" target=\"_top\" title=\"psysml:fdb905ca-fd31-45b2-b41e-28dfb09dbd5e\" xlink:actuate=\"onRequest\" xlink:href=\"psysml:fdb905ca-fd31-45b2-b41e-28dfb09dbd5e\" xlink:show=\"new\" xlink:title=\"psysml:fdb905ca-fd31-45b2-b41e-28dfb09dbd5e\" xlink:type=\"simple\"><path d=\"M358.885,336.27 C349.795,364.65 334.255,413.19 322.995,448.34 \" fill=\"none\" id=\"E5-to-E3\" style=\"stroke:#181818;stroke-width:1.0;\"/><polygon fill=\"#FFFFFF\" points=\"316.785,467.72,315.9148,447.4902,329.2475,451.7611,316.785,467.72\" style=\"stroke:#181818;stroke-width:1.0;\"/><ellipse cx=\"319.5583\" cy=\"442.6721\" fill=\"#181818\" rx=\"2\" ry=\"2\" style=\"stroke:#181818;stroke-width:1.0;\"/><ellipse cx=\"329.0817\" cy=\"445.7227\" fill=\"#181818\" rx=\"2\" ry=\"2\" style=\"stroke:#181818;stroke-width:1.0;\"/></a></g><!--MD5=[ee384bb554873b72f85793eae40e290c]\n",
       "link E1 to E4--><g id=\"link_E1_E4\"><a href=\"psysml:60fcb482-826b-48b1-b5dc-27f8a317149a\" target=\"_top\" title=\"psysml:60fcb482-826b-48b1-b5dc-27f8a317149a\" xlink:actuate=\"onRequest\" xlink:href=\"psysml:60fcb482-826b-48b1-b5dc-27f8a317149a\" xlink:show=\"new\" xlink:title=\"psysml:60fcb482-826b-48b1-b5dc-27f8a317149a\" xlink:type=\"simple\"><path d=\"M34.305,133.12 C33.645,135.64 23.485,176.19 42.335,196 C49.335,203.36 77.365,202.04 87.335,204 C100.275,206.54 192.555,221.41 203.335,229 C221.255,241.61 234.175,262.72 242.525,280.37 \" fill=\"none\" id=\"E1-to-E4\" style=\"stroke:#181818;stroke-width:1.0;stroke-dasharray:7.0,7.0;\"/><polygon fill=\"#181818\" points=\"244.755,285.24,244.6606,275.3916,242.6806,280.6906,237.3816,278.7106,244.755,285.24\" style=\"stroke:#181818;stroke-width:1.0;\"/><text fill=\"#000000\" font-family=\"sans-serif\" font-size=\"13\" lengthAdjust=\"spacing\" textLength=\"65\" x=\"176.335\" y=\"217.0669\">«import»*</text></a></g><!--MD5=[ccbd3af71bf83df0ec2a2db62d6d7130]\n",
       "link E1 to E6--><g id=\"link_E1_E6\"><a href=\"psysml:37c9a4c7-80e6-494a-a65a-d8ec35cca65c\" target=\"_top\" title=\"psysml:37c9a4c7-80e6-494a-a65a-d8ec35cca65c\" xlink:actuate=\"onRequest\" xlink:href=\"psysml:37c9a4c7-80e6-494a-a65a-d8ec35cca65c\" xlink:show=\"new\" xlink:title=\"psysml:37c9a4c7-80e6-494a-a65a-d8ec35cca65c\" xlink:type=\"simple\"><path d=\"M26.3325,146.2131 C26.1219,146.5997 25.9095,146.9932 25.6953,147.3934 C24.8388,148.9944 23.9555,150.7026 23.0641,152.5046 C21.2813,156.1085 19.4656,160.0872 17.765,164.3313 C10.9625,181.3075 6,202.53 12.335,221 C20.3,244.215 36.9725,266.0575 52.0488,282.41 C59.5869,290.5862 66.7259,297.39 72.178,302.3066 C72.8595,302.9211 73.5146,303.5062 74.1409,304.0608 \" fill=\"none\" id=\"E1-to-E6\" style=\"stroke:#181818;stroke-width:1.0;stroke-dasharray:7.0,7.0;\"/><polygon fill=\"#181818\" points=\"74.1409,304.0608,70.0549,295.0995,70.3976,300.746,64.7512,301.0887,74.1409,304.0608\" style=\"stroke:#181818;stroke-width:1.0;\"/><text fill=\"#000000\" font-family=\"sans-serif\" font-size=\"13\" lengthAdjust=\"spacing\" textLength=\"65\" x=\"13.335\" y=\"217.0669\">«import»*</text></a></g><!--MD5=[bfa3c8b0d15052fdf50ae9310b491027]\n",
       "link E8 to E7--><g id=\"link_E8_E7\"><a href=\"psysml:f605a3b7-992a-46f2-9cbf-567dae0e656e\" target=\"_top\" title=\"psysml:f605a3b7-992a-46f2-9cbf-567dae0e656e\" xlink:actuate=\"onRequest\" xlink:href=\"psysml:f605a3b7-992a-46f2-9cbf-567dae0e656e\" xlink:show=\"new\" xlink:title=\"psysml:f605a3b7-992a-46f2-9cbf-567dae0e656e\" xlink:type=\"simple\"><path d=\"M221.755,156.17 C235.785,178.66 253.075,210.85 244.335,221 C228.795,239.06 210.465,214.81 191.335,229 C178.275,238.69 169.415,253.88 163.485,268.56 \" fill=\"none\" id=\"E8-to-E7\" style=\"stroke:#181818;stroke-width:1.0;\"/><polygon fill=\"#FFFFFF\" points=\"157.085,287.71,156.4571,267.4713,169.7377,271.9015,157.085,287.71\" style=\"stroke:#181818;stroke-width:1.0;\"/><ellipse cx=\"160.1581\" cy=\"262.6971\" fill=\"#181818\" rx=\"2\" ry=\"2\" style=\"stroke:#181818;stroke-width:1.0;\"/><ellipse cx=\"169.6442\" cy=\"265.8615\" fill=\"#181818\" rx=\"2\" ry=\"2\" style=\"stroke:#181818;stroke-width:1.0;\"/></a></g><!--MD5=[c2be97adba6ddfe1c8f349fab141c927]\n",
       "link E9 to E4--><g id=\"link_E9_E4\"><a href=\"psysml:f74e7f7d-bc69-4c36-9a7b-616abfb119b1\" target=\"_top\" title=\"psysml:f74e7f7d-bc69-4c36-9a7b-616abfb119b1\" xlink:actuate=\"onRequest\" xlink:href=\"psysml:f74e7f7d-bc69-4c36-9a7b-616abfb119b1\" xlink:show=\"new\" xlink:title=\"psysml:f74e7f7d-bc69-4c36-9a7b-616abfb119b1\" xlink:type=\"simple\"><path d=\"M260.2025,180.4864 C260.1924,180.7107 260.1823,180.9354 260.1722,181.1606 C260.1318,182.0612 260.091,182.969 260.0499,183.8833 C259.9677,185.7121 259.8844,187.5673 259.8,189.445 C258.45,219.4875 256.84,255.27 255.715,280.2 \" fill=\"none\" id=\"E9-to-E4\" style=\"stroke:#181818;stroke-width:1.0;stroke-dasharray:7.0,7.0;\"/><polygon fill=\"#181818\" points=\"255.485,285.47,259.8918,276.6621,255.7133,280.4752,251.9002,276.2967,255.485,285.47\" style=\"stroke:#181818;stroke-width:1.0;\"/><text fill=\"#000000\" font-family=\"sans-serif\" font-size=\"13\" lengthAdjust=\"spacing\" textLength=\"65\" x=\"259.335\" y=\"217.0669\">«import»*</text></a></g><!--MD5=[feeac5eb423634930294aa81f2d25a4c]\n",
       "link E10 to E3--><g id=\"link_E10_E3\"><a href=\"psysml:7688159c-03f6-437a-9242-bafcaad292a9\" target=\"_top\" title=\"psysml:7688159c-03f6-437a-9242-bafcaad292a9\" xlink:actuate=\"onRequest\" xlink:href=\"psysml:7688159c-03f6-437a-9242-bafcaad292a9\" xlink:show=\"new\" xlink:title=\"psysml:7688159c-03f6-437a-9242-bafcaad292a9\" xlink:type=\"simple\"><path d=\"M344.205,156.37 C359.315,175.4 374.095,202.12 358.335,221 C345.595,236.26 327.215,213.86 314.335,229 C300.565,245.18 304.225,377.23 307.215,447.45 \" fill=\"none\" id=\"E10-to-E3\" style=\"stroke:#181818;stroke-width:1.0;\"/><polygon fill=\"#FFFFFF\" points=\"308.135,467.85,300.2734,449.19,314.2588,448.5498,308.135,467.85\" style=\"stroke:#181818;stroke-width:1.0;\"/><ellipse cx=\"302.0107\" cy=\"443.4045\" fill=\"#181818\" rx=\"2\" ry=\"2\" style=\"stroke:#181818;stroke-width:1.0;\"/><ellipse cx=\"312.0002\" cy=\"442.9472\" fill=\"#181818\" rx=\"2\" ry=\"2\" style=\"stroke:#181818;stroke-width:1.0;\"/></a></g><!--MD5=[ec48924bc2497c3fba38eab93023b726]\n",
       "@startuml\r\n",
       "skin sysmlc\r\n",
       "skinparam wrapWidth 300\r\n",
       "hide circle\r\n",
       "\r\n",
       "package \"PrivateImportTest\" as E1  [[psysml:11a30fa2-fbeb-4b2d-a071-2781e63d5a12 ]]  {\r\n",
       "package \"P1\" as E2  [[psysml:29bb8ef7-a50f-48a8-b243-dfabeed2550d ]]  {\r\n",
       "comp def \"A\" as E3  <<(T,blue) part  def>> [[psysml:5dfb8e4e-b010-43d6-9ea6-8d8096aa0cbd ]] {\r\n",
       "}\r\n",
       "}\r\n",
       "package \"P2\" as E4  [[psysml:6d745f5d-a6bd-48d3-bb38-b4db6224b450 ]]  {\r\n",
       "}\r\n",
       "comp usage \"x: A  \" as E5  <<(T,blue) part>> [[psysml:fd0b961b-4bae-44e8-b09a-9c87fac280e3 ]] {\r\n",
       "}\r\n",
       "package \"P3\" as E6  [[psysml:3afe7580-df30-4ff0-95e6-ec63d3638055 ]]  {\r\n",
       "comp def \"B\" as E7  <<(T,blue) part  def>> [[psysml:05031283-db67-47ce-b074-a753e1e8519b ]] {\r\n",
       "}\r\n",
       "}\r\n",
       "comp usage \"z: B  \" as E8  <<(T,blue) part>> [[psysml:87e3ce51-5094-4f5d-8d11-feac4ad1e872 ]] {\r\n",
       "}\r\n",
       "package \"P4\" as E9  [[psysml:a1b56716-f996-4480-88b0-3733f2d7733c ]]  {\r\n",
       "comp usage \"z1: A  \" as E10  <<(T,blue) part>> [[psysml:630baa2a-121f-4da7-a3fd-6c76e707d010 ]] {\r\n",
       "}\r\n",
       "}\r\n",
       "}\r\n",
       "E4 ..> E2 [[psysml:0487f209-9870-4837-a273-e80eaf0041e3 ]] : <<import>>*\r\n",
       "E5 - -:|> E3 [[psysml:fdb905ca-fd31-45b2-b41e-28dfb09dbd5e ]] \r\n",
       "E1 ..> E4 [[psysml:60fcb482-826b-48b1-b5dc-27f8a317149a ]] : <<import>>*\r\n",
       "E1 ..> E6 [[psysml:37c9a4c7-80e6-494a-a65a-d8ec35cca65c ]] : <<import>>*\r\n",
       "E8 - -:|> E7 [[psysml:f605a3b7-992a-46f2-9cbf-567dae0e656e ]] \r\n",
       "E9 ..> E4 [[psysml:f74e7f7d-bc69-4c36-9a7b-616abfb119b1 ]] : <<import>>*\r\n",
       "E10 - -:|> E3 [[psysml:7688159c-03f6-437a-9242-bafcaad292a9 ]] \r\n",
       "@enduml\r\n",
       "\n",
       "PlantUML version 1.2022.7(Mon Aug 22 17:01:30 UTC 2022)\n",
       "(EPL source distribution)\n",
       "Java Runtime: OpenJDK Runtime Environment\n",
       "JVM: OpenJDK 64-Bit Server VM\n",
       "Default Encoding: UTF-8\n",
       "Language: en\n",
       "Country: null\n",
       "--></g></svg>"
      ]
     },
     "execution_count": 23,
     "metadata": {},
     "output_type": "execute_result"
    }
   ],
   "source": [
    "%viz --style=\"STDCOLOR\" --view=\"Default\" \"PrivateImportTest\""
   ]
  },
  {
   "cell_type": "code",
   "execution_count": 24,
   "id": "36b8710f",
   "metadata": {
    "execution": {
     "iopub.execute_input": "2024-12-16T14:17:04.233717Z",
     "iopub.status.busy": "2024-12-16T14:17:04.233488Z",
     "iopub.status.idle": "2024-12-16T14:17:04.264711Z",
     "shell.execute_reply": "2024-12-16T14:17:04.264530Z"
    }
   },
   "outputs": [
    {
     "data": {
      "image/svg+xml": [
       "<?xml version=\"1.0\" encoding=\"UTF-8\" standalone=\"no\"?><svg xmlns=\"http://www.w3.org/2000/svg\" xmlns:xlink=\"http://www.w3.org/1999/xlink\" contentStyleType=\"text/css\" height=\"587px\" preserveAspectRatio=\"none\" style=\"width:428px;height:587px;background:#FFFFFF;\" version=\"1.1\" viewBox=\"0 0 428 587\" width=\"428px\" zoomAndPan=\"magnify\"><defs><filter height=\"300%\" id=\"f1s6qzxsyn3yky\" width=\"300%\" x=\"-1\" y=\"-1\"><feGaussianBlur result=\"blurOut\" stdDeviation=\"2.0\"/><feColorMatrix in=\"blurOut\" result=\"blurOut2\" type=\"matrix\" values=\"0 0 0 0 0 0 0 0 0 0 0 0 0 0 0 0 0 0 .4 0\"/><feOffset dx=\"4.0\" dy=\"4.0\" in=\"blurOut2\" result=\"blurOut3\"/><feBlend in=\"SourceGraphic\" in2=\"blurOut3\" mode=\"normal\"/></filter></defs><g><!--MD5=[fbc87193dbaf4d95561dea2c320d4a47]\n",
       "cluster E1--><g id=\"cluster_E1\"><a href=\"psysml:11a30fa2-fbeb-4b2d-a071-2781e63d5a12\" target=\"_top\" title=\"psysml:11a30fa2-fbeb-4b2d-a071-2781e63d5a12\" xlink:actuate=\"onRequest\" xlink:href=\"psysml:11a30fa2-fbeb-4b2d-a071-2781e63d5a12\" xlink:show=\"new\" xlink:title=\"psysml:11a30fa2-fbeb-4b2d-a071-2781e63d5a12\" xlink:type=\"simple\"><polygon fill=\"none\" filter=\"url(#f1s6qzxsyn3yky)\" points=\"26.335,6,160.7725,6,167.7725,28.2969,411.335,28.2969,411.335,580,26.335,580,26.335,6\" style=\"stroke:#000000;stroke-width:1.5;\"/><line style=\"stroke:#000000;stroke-width:1.5;\" x1=\"26.335\" x2=\"167.7725\" y1=\"28.2969\" y2=\"28.2969\"/><text fill=\"#000000\" font-family=\"sans-serif\" font-size=\"14\" font-weight=\"bold\" lengthAdjust=\"spacing\" textLength=\"128.4375\" x=\"30.335\" y=\"20.9951\">PrivateImportTest</text></a></g><!--MD5=[e4f7fae6ed58524ba242bb0b0d3be6b7]\n",
       "cluster E2--><g id=\"cluster_E2\"><a href=\"psysml:29bb8ef7-a50f-48a8-b243-dfabeed2550d\" target=\"_top\" title=\"psysml:29bb8ef7-a50f-48a8-b243-dfabeed2550d\" xlink:actuate=\"onRequest\" xlink:href=\"psysml:29bb8ef7-a50f-48a8-b243-dfabeed2550d\" xlink:show=\"new\" xlink:title=\"psysml:29bb8ef7-a50f-48a8-b243-dfabeed2550d\" xlink:type=\"simple\"><polygon fill=\"none\" filter=\"url(#f1s6qzxsyn3yky)\" points=\"231.335,425,256.21,425,263.21,447.2969,368.335,447.2969,368.335,540,231.335,540,231.335,425\" style=\"stroke:#000000;stroke-width:1.5;\"/><line style=\"stroke:#000000;stroke-width:1.5;\" x1=\"231.335\" x2=\"263.21\" y1=\"447.2969\" y2=\"447.2969\"/><text fill=\"#000000\" font-family=\"sans-serif\" font-size=\"14\" font-weight=\"bold\" lengthAdjust=\"spacing\" textLength=\"18.875\" x=\"235.335\" y=\"439.9951\">P1</text></a></g><!--MD5=[14e3b0961a2654348d326746436168a1]\n",
       "cluster E6--><g id=\"cluster_E6\"><a href=\"psysml:3afe7580-df30-4ff0-95e6-ec63d3638055\" target=\"_top\" title=\"psysml:3afe7580-df30-4ff0-95e6-ec63d3638055\" xlink:actuate=\"onRequest\" xlink:href=\"psysml:3afe7580-df30-4ff0-95e6-ec63d3638055\" xlink:show=\"new\" xlink:title=\"psysml:3afe7580-df30-4ff0-95e6-ec63d3638055\" xlink:type=\"simple\"><polygon fill=\"none\" filter=\"url(#f1s6qzxsyn3yky)\" points=\"74.335,245,99.21,245,106.21,267.2969,211.335,267.2969,211.335,360,74.335,360,74.335,245\" style=\"stroke:#000000;stroke-width:1.5;\"/><line style=\"stroke:#000000;stroke-width:1.5;\" x1=\"74.335\" x2=\"106.21\" y1=\"267.2969\" y2=\"267.2969\"/><text fill=\"#000000\" font-family=\"sans-serif\" font-size=\"14\" font-weight=\"bold\" lengthAdjust=\"spacing\" textLength=\"18.875\" x=\"78.335\" y=\"259.9951\">P3</text></a></g><!--MD5=[7f149f147074ac12df2cb0a7728a5fb0]\n",
       "cluster E9--><g id=\"cluster_E9\"><a href=\"psysml:a1b56716-f996-4480-88b0-3733f2d7733c\" target=\"_top\" title=\"psysml:a1b56716-f996-4480-88b0-3733f2d7733c\" xlink:actuate=\"onRequest\" xlink:href=\"psysml:a1b56716-f996-4480-88b0-3733f2d7733c\" xlink:show=\"new\" xlink:title=\"psysml:a1b56716-f996-4480-88b0-3733f2d7733c\" xlink:type=\"simple\"><polygon fill=\"none\" filter=\"url(#f1s6qzxsyn3yky)\" points=\"254.335,65,279.21,65,286.21,87.2969,371.335,87.2969,371.335,180,254.335,180,254.335,65\" style=\"stroke:#000000;stroke-width:1.5;\"/><line style=\"stroke:#000000;stroke-width:1.5;\" x1=\"254.335\" x2=\"286.21\" y1=\"87.2969\" y2=\"87.2969\"/><text fill=\"#000000\" font-family=\"sans-serif\" font-size=\"14\" font-weight=\"bold\" lengthAdjust=\"spacing\" textLength=\"18.875\" x=\"258.335\" y=\"79.9951\">P4</text></a></g><!--MD5=[270fce915f116d4de14055a7c1d9a0f3]\n",
       "class E5--><a href=\"psysml:fd0b961b-4bae-44e8-b09a-9c87fac280e3\" target=\"_top\" title=\"psysml:fd0b961b-4bae-44e8-b09a-9c87fac280e3\" xlink:actuate=\"onRequest\" xlink:href=\"psysml:fd0b961b-4bae-44e8-b09a-9c87fac280e3\" xlink:show=\"new\" xlink:title=\"psysml:fd0b961b-4bae-44e8-b09a-9c87fac280e3\" xlink:type=\"simple\"><g id=\"elem_E5\"><rect fill=\"#FFFACD\" filter=\"url(#f1s6qzxsyn3yky)\" height=\"48.2656\" id=\"E5\" rx=\"10\" ry=\"10\" style=\"stroke:#181818;stroke-width:0.5;\" width=\"42\" x=\"345.335\" y=\"288\"/><text fill=\"#000000\" font-family=\"sans-serif\" font-size=\"12\" font-style=\"italic\" lengthAdjust=\"spacing\" textLength=\"40\" x=\"346.335\" y=\"304.1387\">«part»</text><text fill=\"#000000\" font-family=\"sans-serif\" font-size=\"14\" lengthAdjust=\"spacing\" textLength=\"25\" x=\"349.835\" y=\"319.9639\">x: A</text><line style=\"stroke:#181818;stroke-width:0.5;\" x1=\"346.335\" x2=\"386.335\" y1=\"328.2656\" y2=\"328.2656\"/></g></a><!--MD5=[b9389687b975829384b498ac4b7476b2]\n",
       "class E8--><a href=\"psysml:87e3ce51-5094-4f5d-8d11-feac4ad1e872\" target=\"_top\" title=\"psysml:87e3ce51-5094-4f5d-8d11-feac4ad1e872\" xlink:actuate=\"onRequest\" xlink:href=\"psysml:87e3ce51-5094-4f5d-8d11-feac4ad1e872\" xlink:show=\"new\" xlink:title=\"psysml:87e3ce51-5094-4f5d-8d11-feac4ad1e872\" xlink:type=\"simple\"><g id=\"elem_E8\"><rect fill=\"#FFFACD\" filter=\"url(#f1s6qzxsyn3yky)\" height=\"48.2656\" id=\"E8\" rx=\"10\" ry=\"10\" style=\"stroke:#181818;stroke-width:0.5;\" width=\"42\" x=\"185.335\" y=\"108\"/><text fill=\"#000000\" font-family=\"sans-serif\" font-size=\"12\" font-style=\"italic\" lengthAdjust=\"spacing\" textLength=\"40\" x=\"186.335\" y=\"124.1387\">«part»</text><text fill=\"#000000\" font-family=\"sans-serif\" font-size=\"14\" lengthAdjust=\"spacing\" textLength=\"27\" x=\"188.835\" y=\"139.9639\">z: B</text><line style=\"stroke:#181818;stroke-width:0.5;\" x1=\"186.335\" x2=\"226.335\" y1=\"148.2656\" y2=\"148.2656\"/></g></a><!--MD5=[09b614a08d8cba4a07c9adeb5e0fee81]\n",
       "class E3--><a href=\"psysml:5dfb8e4e-b010-43d6-9ea6-8d8096aa0cbd\" target=\"_top\" title=\"psysml:5dfb8e4e-b010-43d6-9ea6-8d8096aa0cbd\" xlink:actuate=\"onRequest\" xlink:href=\"psysml:5dfb8e4e-b010-43d6-9ea6-8d8096aa0cbd\" xlink:show=\"new\" xlink:title=\"psysml:5dfb8e4e-b010-43d6-9ea6-8d8096aa0cbd\" xlink:type=\"simple\"><g id=\"elem_E3\"><rect fill=\"#FFFACD\" filter=\"url(#f1s6qzxsyn3yky)\" height=\"48.2656\" id=\"E3\" style=\"stroke:#181818;stroke-width:0.5;\" width=\"70\" x=\"274.335\" y=\"468\"/><text fill=\"#000000\" font-family=\"sans-serif\" font-size=\"12\" font-style=\"italic\" lengthAdjust=\"spacing\" textLength=\"68\" x=\"275.335\" y=\"484.1387\">«part  def»</text><text fill=\"#000000\" font-family=\"sans-serif\" font-size=\"14\" lengthAdjust=\"spacing\" textLength=\"9\" x=\"304.835\" y=\"499.9639\">A</text><line style=\"stroke:#181818;stroke-width:0.5;\" x1=\"275.335\" x2=\"343.335\" y1=\"508.2656\" y2=\"508.2656\"/></g></a><a href=\"psysml:6d745f5d-a6bd-48d3-bb38-b4db6224b450\" target=\"_top\" title=\"psysml:6d745f5d-a6bd-48d3-bb38-b4db6224b450\" xlink:actuate=\"onRequest\" xlink:href=\"psysml:6d745f5d-a6bd-48d3-bb38-b4db6224b450\" xlink:show=\"new\" xlink:title=\"psysml:6d745f5d-a6bd-48d3-bb38-b4db6224b450\" xlink:type=\"simple\"><polygon fill=\"#FFFACD\" filter=\"url(#f1s6qzxsyn3yky)\" points=\"235.335,285.5,259.335,285.5,266.335,307.7969,273.335,307.7969,273.335,338.0938,235.335,338.0938,235.335,285.5\" style=\"stroke:#181818;stroke-width:0.5;\"/><line style=\"stroke:#181818;stroke-width:0.5;\" x1=\"235.335\" x2=\"266.335\" y1=\"307.7969\" y2=\"307.7969\"/><text fill=\"#000000\" font-family=\"sans-serif\" font-size=\"14\" lengthAdjust=\"spacing\" textLength=\"18\" x=\"239.335\" y=\"300.4951\">P2</text></a><!--MD5=[2156ba9850f5573cc1fc38a6a4b2f02b]\n",
       "class E7--><a href=\"psysml:05031283-db67-47ce-b074-a753e1e8519b\" target=\"_top\" title=\"psysml:05031283-db67-47ce-b074-a753e1e8519b\" xlink:actuate=\"onRequest\" xlink:href=\"psysml:05031283-db67-47ce-b074-a753e1e8519b\" xlink:show=\"new\" xlink:title=\"psysml:05031283-db67-47ce-b074-a753e1e8519b\" xlink:type=\"simple\"><g id=\"elem_E7\"><rect fill=\"#FFFACD\" filter=\"url(#f1s6qzxsyn3yky)\" height=\"48.2656\" id=\"E7\" style=\"stroke:#181818;stroke-width:0.5;\" width=\"70\" x=\"117.335\" y=\"288\"/><text fill=\"#000000\" font-family=\"sans-serif\" font-size=\"12\" font-style=\"italic\" lengthAdjust=\"spacing\" textLength=\"68\" x=\"118.335\" y=\"304.1387\">«part  def»</text><text fill=\"#000000\" font-family=\"sans-serif\" font-size=\"14\" lengthAdjust=\"spacing\" textLength=\"10\" x=\"147.335\" y=\"319.9639\">B</text><line style=\"stroke:#181818;stroke-width:0.5;\" x1=\"118.335\" x2=\"186.335\" y1=\"328.2656\" y2=\"328.2656\"/></g></a><!--MD5=[96f4274e9e20536e775497830990834d]\n",
       "class E10--><a href=\"psysml:630baa2a-121f-4da7-a3fd-6c76e707d010\" target=\"_top\" title=\"psysml:630baa2a-121f-4da7-a3fd-6c76e707d010\" xlink:actuate=\"onRequest\" xlink:href=\"psysml:630baa2a-121f-4da7-a3fd-6c76e707d010\" xlink:show=\"new\" xlink:title=\"psysml:630baa2a-121f-4da7-a3fd-6c76e707d010\" xlink:type=\"simple\"><g id=\"elem_E10\"><rect fill=\"#FFFACD\" filter=\"url(#f1s6qzxsyn3yky)\" height=\"48.2656\" id=\"E10\" rx=\"10\" ry=\"10\" style=\"stroke:#181818;stroke-width:0.5;\" width=\"49\" x=\"297.835\" y=\"108\"/><text fill=\"#000000\" font-family=\"sans-serif\" font-size=\"12\" font-style=\"italic\" lengthAdjust=\"spacing\" textLength=\"40\" x=\"302.335\" y=\"124.1387\">«part»</text><text fill=\"#000000\" font-family=\"sans-serif\" font-size=\"14\" lengthAdjust=\"spacing\" textLength=\"35\" x=\"300.835\" y=\"139.9639\">z1: A</text><line style=\"stroke:#181818;stroke-width:0.5;\" x1=\"298.835\" x2=\"345.835\" y1=\"148.2656\" y2=\"148.2656\"/></g></a><!--MD5=[185131fc0dcab0a4505a2ebe144e961b]\n",
       "link E4 to E2--><g id=\"link_E4_E2\"><a href=\"psysml:0487f209-9870-4837-a273-e80eaf0041e3\" target=\"_top\" title=\"psysml:0487f209-9870-4837-a273-e80eaf0041e3\" xlink:actuate=\"onRequest\" xlink:href=\"psysml:0487f209-9870-4837-a273-e80eaf0041e3\" xlink:show=\"new\" xlink:title=\"psysml:0487f209-9870-4837-a273-e80eaf0041e3\" xlink:type=\"simple\"><path d=\"M244.835,338.57 C240.375,351.9 235.565,368.61 233.335,384 C231.655,395.6 231.165,407.9706 231.3811,420.0302 C231.4081,421.5376 231.4461,423.0402 231.4943,424.5358 \" fill=\"none\" id=\"E4-to-E2\" style=\"stroke:#181818;stroke-width:1.0;stroke-dasharray:7.0,7.0;\"/><polygon fill=\"#181818\" points=\"231.4943,424.5358,235.2027,415.4118,231.3335,419.5384,227.2069,415.6691,231.4943,424.5358\" style=\"stroke:#181818;stroke-width:1.0;\"/><text fill=\"#000000\" font-family=\"sans-serif\" font-size=\"13\" lengthAdjust=\"spacing\" textLength=\"65\" x=\"234.335\" y=\"397.0669\">«import»*</text></a></g><!--MD5=[e9be52314489bd878ff4c7144b63c9e1]\n",
       "link E5 to E3--><g id=\"link_E5_E3\"><a href=\"psysml:fdb905ca-fd31-45b2-b41e-28dfb09dbd5e\" target=\"_top\" title=\"psysml:fdb905ca-fd31-45b2-b41e-28dfb09dbd5e\" xlink:actuate=\"onRequest\" xlink:href=\"psysml:fdb905ca-fd31-45b2-b41e-28dfb09dbd5e\" xlink:show=\"new\" xlink:title=\"psysml:fdb905ca-fd31-45b2-b41e-28dfb09dbd5e\" xlink:type=\"simple\"><path d=\"M358.885,336.27 C349.795,364.65 334.255,413.19 322.995,448.34 \" fill=\"none\" id=\"E5-to-E3\" style=\"stroke:#181818;stroke-width:1.0;\"/><polygon fill=\"#FFFFFF\" points=\"316.785,467.72,315.9148,447.4902,329.2475,451.7611,316.785,467.72\" style=\"stroke:#181818;stroke-width:1.0;\"/><ellipse cx=\"319.5583\" cy=\"442.6721\" fill=\"#181818\" rx=\"2\" ry=\"2\" style=\"stroke:#181818;stroke-width:1.0;\"/><ellipse cx=\"329.0817\" cy=\"445.7227\" fill=\"#181818\" rx=\"2\" ry=\"2\" style=\"stroke:#181818;stroke-width:1.0;\"/></a></g><!--MD5=[ee384bb554873b72f85793eae40e290c]\n",
       "link E1 to E4--><g id=\"link_E1_E4\"><a href=\"psysml:60fcb482-826b-48b1-b5dc-27f8a317149a\" target=\"_top\" title=\"psysml:60fcb482-826b-48b1-b5dc-27f8a317149a\" xlink:actuate=\"onRequest\" xlink:href=\"psysml:60fcb482-826b-48b1-b5dc-27f8a317149a\" xlink:show=\"new\" xlink:title=\"psysml:60fcb482-826b-48b1-b5dc-27f8a317149a\" xlink:type=\"simple\"><path d=\"M34.305,133.12 C33.645,135.64 23.485,176.19 42.335,196 C49.335,203.36 77.365,202.04 87.335,204 C100.275,206.54 192.555,221.41 203.335,229 C221.255,241.61 234.175,262.72 242.525,280.37 \" fill=\"none\" id=\"E1-to-E4\" style=\"stroke:#181818;stroke-width:1.0;stroke-dasharray:7.0,7.0;\"/><polygon fill=\"#181818\" points=\"244.755,285.24,244.6606,275.3916,242.6806,280.6906,237.3816,278.7106,244.755,285.24\" style=\"stroke:#181818;stroke-width:1.0;\"/><text fill=\"#000000\" font-family=\"sans-serif\" font-size=\"13\" lengthAdjust=\"spacing\" textLength=\"65\" x=\"176.335\" y=\"217.0669\">«import»*</text></a></g><!--MD5=[ccbd3af71bf83df0ec2a2db62d6d7130]\n",
       "link E1 to E6--><g id=\"link_E1_E6\"><a href=\"psysml:37c9a4c7-80e6-494a-a65a-d8ec35cca65c\" target=\"_top\" title=\"psysml:37c9a4c7-80e6-494a-a65a-d8ec35cca65c\" xlink:actuate=\"onRequest\" xlink:href=\"psysml:37c9a4c7-80e6-494a-a65a-d8ec35cca65c\" xlink:show=\"new\" xlink:title=\"psysml:37c9a4c7-80e6-494a-a65a-d8ec35cca65c\" xlink:type=\"simple\"><path d=\"M26.3325,146.2131 C26.1219,146.5997 25.9095,146.9932 25.6953,147.3934 C24.8388,148.9944 23.9555,150.7026 23.0641,152.5046 C21.2813,156.1085 19.4656,160.0872 17.765,164.3313 C10.9625,181.3075 6,202.53 12.335,221 C20.3,244.215 36.9725,266.0575 52.0488,282.41 C59.5869,290.5862 66.7259,297.39 72.178,302.3066 C72.8595,302.9211 73.5146,303.5062 74.1409,304.0608 \" fill=\"none\" id=\"E1-to-E6\" style=\"stroke:#181818;stroke-width:1.0;stroke-dasharray:7.0,7.0;\"/><polygon fill=\"#181818\" points=\"74.1409,304.0608,70.0549,295.0995,70.3976,300.746,64.7512,301.0887,74.1409,304.0608\" style=\"stroke:#181818;stroke-width:1.0;\"/><text fill=\"#000000\" font-family=\"sans-serif\" font-size=\"13\" lengthAdjust=\"spacing\" textLength=\"65\" x=\"13.335\" y=\"217.0669\">«import»*</text></a></g><!--MD5=[bfa3c8b0d15052fdf50ae9310b491027]\n",
       "link E8 to E7--><g id=\"link_E8_E7\"><a href=\"psysml:f605a3b7-992a-46f2-9cbf-567dae0e656e\" target=\"_top\" title=\"psysml:f605a3b7-992a-46f2-9cbf-567dae0e656e\" xlink:actuate=\"onRequest\" xlink:href=\"psysml:f605a3b7-992a-46f2-9cbf-567dae0e656e\" xlink:show=\"new\" xlink:title=\"psysml:f605a3b7-992a-46f2-9cbf-567dae0e656e\" xlink:type=\"simple\"><path d=\"M221.755,156.17 C235.785,178.66 253.075,210.85 244.335,221 C228.795,239.06 210.465,214.81 191.335,229 C178.275,238.69 169.415,253.88 163.485,268.56 \" fill=\"none\" id=\"E8-to-E7\" style=\"stroke:#181818;stroke-width:1.0;\"/><polygon fill=\"#FFFFFF\" points=\"157.085,287.71,156.4571,267.4713,169.7377,271.9015,157.085,287.71\" style=\"stroke:#181818;stroke-width:1.0;\"/><ellipse cx=\"160.1581\" cy=\"262.6971\" fill=\"#181818\" rx=\"2\" ry=\"2\" style=\"stroke:#181818;stroke-width:1.0;\"/><ellipse cx=\"169.6442\" cy=\"265.8615\" fill=\"#181818\" rx=\"2\" ry=\"2\" style=\"stroke:#181818;stroke-width:1.0;\"/></a></g><!--MD5=[c2be97adba6ddfe1c8f349fab141c927]\n",
       "link E9 to E4--><g id=\"link_E9_E4\"><a href=\"psysml:f74e7f7d-bc69-4c36-9a7b-616abfb119b1\" target=\"_top\" title=\"psysml:f74e7f7d-bc69-4c36-9a7b-616abfb119b1\" xlink:actuate=\"onRequest\" xlink:href=\"psysml:f74e7f7d-bc69-4c36-9a7b-616abfb119b1\" xlink:show=\"new\" xlink:title=\"psysml:f74e7f7d-bc69-4c36-9a7b-616abfb119b1\" xlink:type=\"simple\"><path d=\"M260.2025,180.4864 C260.1924,180.7107 260.1823,180.9354 260.1722,181.1606 C260.1318,182.0612 260.091,182.969 260.0499,183.8833 C259.9677,185.7121 259.8844,187.5673 259.8,189.445 C258.45,219.4875 256.84,255.27 255.715,280.2 \" fill=\"none\" id=\"E9-to-E4\" style=\"stroke:#181818;stroke-width:1.0;stroke-dasharray:7.0,7.0;\"/><polygon fill=\"#181818\" points=\"255.485,285.47,259.8918,276.6621,255.7133,280.4752,251.9002,276.2967,255.485,285.47\" style=\"stroke:#181818;stroke-width:1.0;\"/><text fill=\"#000000\" font-family=\"sans-serif\" font-size=\"13\" lengthAdjust=\"spacing\" textLength=\"65\" x=\"259.335\" y=\"217.0669\">«import»*</text></a></g><!--MD5=[feeac5eb423634930294aa81f2d25a4c]\n",
       "link E10 to E3--><g id=\"link_E10_E3\"><a href=\"psysml:7688159c-03f6-437a-9242-bafcaad292a9\" target=\"_top\" title=\"psysml:7688159c-03f6-437a-9242-bafcaad292a9\" xlink:actuate=\"onRequest\" xlink:href=\"psysml:7688159c-03f6-437a-9242-bafcaad292a9\" xlink:show=\"new\" xlink:title=\"psysml:7688159c-03f6-437a-9242-bafcaad292a9\" xlink:type=\"simple\"><path d=\"M344.205,156.37 C359.315,175.4 374.095,202.12 358.335,221 C345.595,236.26 327.215,213.86 314.335,229 C300.565,245.18 304.225,377.23 307.215,447.45 \" fill=\"none\" id=\"E10-to-E3\" style=\"stroke:#181818;stroke-width:1.0;\"/><polygon fill=\"#FFFFFF\" points=\"308.135,467.85,300.2734,449.19,314.2588,448.5498,308.135,467.85\" style=\"stroke:#181818;stroke-width:1.0;\"/><ellipse cx=\"302.0107\" cy=\"443.4045\" fill=\"#181818\" rx=\"2\" ry=\"2\" style=\"stroke:#181818;stroke-width:1.0;\"/><ellipse cx=\"312.0002\" cy=\"442.9472\" fill=\"#181818\" rx=\"2\" ry=\"2\" style=\"stroke:#181818;stroke-width:1.0;\"/></a></g><!--MD5=[ec48924bc2497c3fba38eab93023b726]\n",
       "@startuml\r\n",
       "skin sysmlc\r\n",
       "skinparam wrapWidth 300\r\n",
       "hide circle\r\n",
       "\r\n",
       "package \"PrivateImportTest\" as E1  [[psysml:11a30fa2-fbeb-4b2d-a071-2781e63d5a12 ]]  {\r\n",
       "package \"P1\" as E2  [[psysml:29bb8ef7-a50f-48a8-b243-dfabeed2550d ]]  {\r\n",
       "comp def \"A\" as E3  <<(T,blue) part  def>> [[psysml:5dfb8e4e-b010-43d6-9ea6-8d8096aa0cbd ]] {\r\n",
       "}\r\n",
       "}\r\n",
       "package \"P2\" as E4  [[psysml:6d745f5d-a6bd-48d3-bb38-b4db6224b450 ]]  {\r\n",
       "}\r\n",
       "comp usage \"x: A  \" as E5  <<(T,blue) part>> [[psysml:fd0b961b-4bae-44e8-b09a-9c87fac280e3 ]] {\r\n",
       "}\r\n",
       "package \"P3\" as E6  [[psysml:3afe7580-df30-4ff0-95e6-ec63d3638055 ]]  {\r\n",
       "comp def \"B\" as E7  <<(T,blue) part  def>> [[psysml:05031283-db67-47ce-b074-a753e1e8519b ]] {\r\n",
       "}\r\n",
       "}\r\n",
       "comp usage \"z: B  \" as E8  <<(T,blue) part>> [[psysml:87e3ce51-5094-4f5d-8d11-feac4ad1e872 ]] {\r\n",
       "}\r\n",
       "package \"P4\" as E9  [[psysml:a1b56716-f996-4480-88b0-3733f2d7733c ]]  {\r\n",
       "comp usage \"z1: A  \" as E10  <<(T,blue) part>> [[psysml:630baa2a-121f-4da7-a3fd-6c76e707d010 ]] {\r\n",
       "}\r\n",
       "}\r\n",
       "}\r\n",
       "E4 ..> E2 [[psysml:0487f209-9870-4837-a273-e80eaf0041e3 ]] : <<import>>*\r\n",
       "E5 - -:|> E3 [[psysml:fdb905ca-fd31-45b2-b41e-28dfb09dbd5e ]] \r\n",
       "E1 ..> E4 [[psysml:60fcb482-826b-48b1-b5dc-27f8a317149a ]] : <<import>>*\r\n",
       "E1 ..> E6 [[psysml:37c9a4c7-80e6-494a-a65a-d8ec35cca65c ]] : <<import>>*\r\n",
       "E8 - -:|> E7 [[psysml:f605a3b7-992a-46f2-9cbf-567dae0e656e ]] \r\n",
       "E9 ..> E4 [[psysml:f74e7f7d-bc69-4c36-9a7b-616abfb119b1 ]] : <<import>>*\r\n",
       "E10 - -:|> E3 [[psysml:7688159c-03f6-437a-9242-bafcaad292a9 ]] \r\n",
       "@enduml\r\n",
       "\n",
       "PlantUML version 1.2022.7(Mon Aug 22 17:01:30 UTC 2022)\n",
       "(EPL source distribution)\n",
       "Java Runtime: OpenJDK Runtime Environment\n",
       "JVM: OpenJDK 64-Bit Server VM\n",
       "Default Encoding: UTF-8\n",
       "Language: en\n",
       "Country: null\n",
       "--></g></svg>"
      ]
     },
     "execution_count": 24,
     "metadata": {},
     "output_type": "execute_result"
    }
   ],
   "source": [
    "%viz --style=\"STDCOLOR\" --view=\"Tree\" \"PrivateImportTest\""
   ]
  },
  {
   "cell_type": "code",
   "execution_count": 25,
   "id": "607f537d",
   "metadata": {
    "execution": {
     "iopub.execute_input": "2024-12-16T14:17:04.315785Z",
     "iopub.status.busy": "2024-12-16T14:17:04.315572Z",
     "iopub.status.idle": "2024-12-16T14:17:04.321484Z",
     "shell.execute_reply": "2024-12-16T14:17:04.321281Z"
    }
   },
   "outputs": [
    {
     "data": {
      "image/svg+xml": [
       "<?xml version=\"1.0\" encoding=\"UTF-8\" standalone=\"no\"?><svg xmlns=\"http://www.w3.org/2000/svg\" xmlns:xlink=\"http://www.w3.org/1999/xlink\" contentStyleType=\"text/css\" height=\"10px\" preserveAspectRatio=\"none\" style=\"width:10px;height:10px;background:#FFFFFF;\" version=\"1.1\" viewBox=\"0 0 10 10\" width=\"10px\" zoomAndPan=\"magnify\"><defs/><g><!--MD5=[a1048f16c75022af837d4b7065e6f600]\n",
       "@startuml\r\n",
       "skin sysmlc\r\n",
       "skinparam wrapWidth 300\r\n",
       "hide circle\r\n",
       "\r\n",
       "@enduml\r\n",
       "\n",
       "PlantUML version 1.2022.7(Mon Aug 22 17:01:30 UTC 2022)\n",
       "(EPL source distribution)\n",
       "Java Runtime: OpenJDK Runtime Environment\n",
       "JVM: OpenJDK 64-Bit Server VM\n",
       "Default Encoding: UTF-8\n",
       "Language: en\n",
       "Country: null\n",
       "--></g></svg>"
      ]
     },
     "execution_count": 25,
     "metadata": {},
     "output_type": "execute_result"
    }
   ],
   "source": [
    "%viz --style=\"STDCOLOR\" --view=\"State\" \"PrivateImportTest\""
   ]
  },
  {
   "cell_type": "code",
   "execution_count": 26,
   "id": "4e1e5ff9",
   "metadata": {
    "execution": {
     "iopub.execute_input": "2024-12-16T14:17:04.376322Z",
     "iopub.status.busy": "2024-12-16T14:17:04.376042Z",
     "iopub.status.idle": "2024-12-16T14:17:04.401716Z",
     "shell.execute_reply": "2024-12-16T14:17:04.400639Z"
    }
   },
   "outputs": [
    {
     "data": {
      "image/svg+xml": [
       "<?xml version=\"1.0\" encoding=\"UTF-8\" standalone=\"no\"?><svg xmlns=\"http://www.w3.org/2000/svg\" xmlns:xlink=\"http://www.w3.org/1999/xlink\" contentStyleType=\"text/css\" height=\"573px\" preserveAspectRatio=\"none\" style=\"width:441px;height:573px;background:#FFFFFF;\" version=\"1.1\" viewBox=\"0 0 441 573\" width=\"441px\" zoomAndPan=\"magnify\"><defs><filter height=\"300%\" id=\"f1i7w1yy1dble0\" width=\"300%\" x=\"-1\" y=\"-1\"><feGaussianBlur result=\"blurOut\" stdDeviation=\"2.0\"/><feColorMatrix in=\"blurOut\" result=\"blurOut2\" type=\"matrix\" values=\"0 0 0 0 0 0 0 0 0 0 0 0 0 0 0 0 0 0 .4 0\"/><feOffset dx=\"4.0\" dy=\"4.0\" in=\"blurOut2\" result=\"blurOut3\"/><feBlend in=\"SourceGraphic\" in2=\"blurOut3\" mode=\"normal\"/></filter></defs><g><!--MD5=[fbc87193dbaf4d95561dea2c320d4a47]\n",
       "cluster E1--><g id=\"cluster_E1\"><a href=\"psysml:11a30fa2-fbeb-4b2d-a071-2781e63d5a12\" target=\"_top\" title=\"psysml:11a30fa2-fbeb-4b2d-a071-2781e63d5a12\" xlink:actuate=\"onRequest\" xlink:href=\"psysml:11a30fa2-fbeb-4b2d-a071-2781e63d5a12\" xlink:show=\"new\" xlink:title=\"psysml:11a30fa2-fbeb-4b2d-a071-2781e63d5a12\" xlink:type=\"simple\"><polygon fill=\"none\" filter=\"url(#f1i7w1yy1dble0)\" points=\"26.14,6,160.5775,6,167.5775,28.2969,424.14,28.2969,424.14,566,26.14,566,26.14,6\" style=\"stroke:#000000;stroke-width:1.5;\"/><line style=\"stroke:#000000;stroke-width:1.5;\" x1=\"26.14\" x2=\"167.5775\" y1=\"28.2969\" y2=\"28.2969\"/><text fill=\"#000000\" font-family=\"sans-serif\" font-size=\"14\" font-weight=\"bold\" lengthAdjust=\"spacing\" textLength=\"128.4375\" x=\"30.14\" y=\"20.9951\">PrivateImportTest</text></a></g><!--MD5=[e4f7fae6ed58524ba242bb0b0d3be6b7]\n",
       "cluster E2--><g id=\"cluster_E2\"><a href=\"psysml:29bb8ef7-a50f-48a8-b243-dfabeed2550d\" target=\"_top\" title=\"psysml:29bb8ef7-a50f-48a8-b243-dfabeed2550d\" xlink:actuate=\"onRequest\" xlink:href=\"psysml:29bb8ef7-a50f-48a8-b243-dfabeed2550d\" xlink:show=\"new\" xlink:title=\"psysml:29bb8ef7-a50f-48a8-b243-dfabeed2550d\" xlink:type=\"simple\"><polygon fill=\"none\" filter=\"url(#f1i7w1yy1dble0)\" points=\"233.14,414,258.015,414,265.015,436.2969,375.14,436.2969,375.14,526,233.14,526,233.14,414\" style=\"stroke:#000000;stroke-width:1.5;\"/><line style=\"stroke:#000000;stroke-width:1.5;\" x1=\"233.14\" x2=\"265.015\" y1=\"436.2969\" y2=\"436.2969\"/><text fill=\"#000000\" font-family=\"sans-serif\" font-size=\"14\" font-weight=\"bold\" lengthAdjust=\"spacing\" textLength=\"18.875\" x=\"237.14\" y=\"428.9951\">P1</text></a></g><!--MD5=[14e3b0961a2654348d326746436168a1]\n",
       "cluster E6--><g id=\"cluster_E6\"><a href=\"psysml:3afe7580-df30-4ff0-95e6-ec63d3638055\" target=\"_top\" title=\"psysml:3afe7580-df30-4ff0-95e6-ec63d3638055\" xlink:actuate=\"onRequest\" xlink:href=\"psysml:3afe7580-df30-4ff0-95e6-ec63d3638055\" xlink:show=\"new\" xlink:title=\"psysml:3afe7580-df30-4ff0-95e6-ec63d3638055\" xlink:type=\"simple\"><polygon fill=\"none\" filter=\"url(#f1i7w1yy1dble0)\" points=\"74.14,237,99.015,237,106.015,259.2969,216.14,259.2969,216.14,349,74.14,349,74.14,237\" style=\"stroke:#000000;stroke-width:1.5;\"/><line style=\"stroke:#000000;stroke-width:1.5;\" x1=\"74.14\" x2=\"106.015\" y1=\"259.2969\" y2=\"259.2969\"/><text fill=\"#000000\" font-family=\"sans-serif\" font-size=\"14\" font-weight=\"bold\" lengthAdjust=\"spacing\" textLength=\"18.875\" x=\"78.14\" y=\"251.9951\">P3</text></a></g><!--MD5=[7f149f147074ac12df2cb0a7728a5fb0]\n",
       "cluster E9--><g id=\"cluster_E9\"><a href=\"psysml:a1b56716-f996-4480-88b0-3733f2d7733c\" target=\"_top\" title=\"psysml:a1b56716-f996-4480-88b0-3733f2d7733c\" xlink:actuate=\"onRequest\" xlink:href=\"psysml:a1b56716-f996-4480-88b0-3733f2d7733c\" xlink:show=\"new\" xlink:title=\"psysml:a1b56716-f996-4480-88b0-3733f2d7733c\" xlink:type=\"simple\"><polygon fill=\"none\" filter=\"url(#f1i7w1yy1dble0)\" points=\"267.14,65,292.015,65,299.015,87.2969,384.14,87.2969,384.14,172,267.14,172,267.14,65\" style=\"stroke:#000000;stroke-width:1.5;\"/><line style=\"stroke:#000000;stroke-width:1.5;\" x1=\"267.14\" x2=\"299.015\" y1=\"87.2969\" y2=\"87.2969\"/><text fill=\"#000000\" font-family=\"sans-serif\" font-size=\"14\" font-weight=\"bold\" lengthAdjust=\"spacing\" textLength=\"18.875\" x=\"271.14\" y=\"79.9951\">P4</text></a></g><g><a href=\"psysml:5dfb8e4e-b010-43d6-9ea6-8d8096aa0cbd\" target=\"_top\" title=\"psysml:5dfb8e4e-b010-43d6-9ea6-8d8096aa0cbd\" xlink:actuate=\"onRequest\" xlink:href=\"psysml:5dfb8e4e-b010-43d6-9ea6-8d8096aa0cbd\" xlink:show=\"new\" xlink:title=\"psysml:5dfb8e4e-b010-43d6-9ea6-8d8096aa0cbd\" xlink:type=\"simple\"><rect fill=\"#FFFACD\" filter=\"url(#f1i7w1yy1dble0)\" height=\"45.2656\" id=\"E3\" style=\"stroke:#A80036;stroke-width:1.5;\" width=\"75\" x=\"276.64\" y=\"457\"/><text fill=\"#000000\" font-family=\"sans-serif\" font-size=\"12\" font-style=\"italic\" lengthAdjust=\"spacing\" textLength=\"68\" x=\"280.14\" y=\"473.1387\">«part  def»</text><text fill=\"#000000\" font-family=\"sans-serif\" font-size=\"14\" lengthAdjust=\"spacing\" textLength=\"9\" x=\"309.64\" y=\"488.9639\">A</text></a></g><a href=\"psysml:6d745f5d-a6bd-48d3-bb38-b4db6224b450\" target=\"_top\" title=\"psysml:6d745f5d-a6bd-48d3-bb38-b4db6224b450\" xlink:actuate=\"onRequest\" xlink:href=\"psysml:6d745f5d-a6bd-48d3-bb38-b4db6224b450\" xlink:show=\"new\" xlink:title=\"psysml:6d745f5d-a6bd-48d3-bb38-b4db6224b450\" xlink:type=\"simple\"><polygon fill=\"#FFFACD\" filter=\"url(#f1i7w1yy1dble0)\" points=\"240.14,276,264.14,276,271.14,298.2969,278.14,298.2969,278.14,328.5938,240.14,328.5938,240.14,276\" style=\"stroke:#181818;stroke-width:0.5;\"/><line style=\"stroke:#181818;stroke-width:0.5;\" x1=\"240.14\" x2=\"271.14\" y1=\"298.2969\" y2=\"298.2969\"/><text fill=\"#000000\" font-family=\"sans-serif\" font-size=\"14\" lengthAdjust=\"spacing\" textLength=\"18\" x=\"244.14\" y=\"290.9951\">P2</text></a><g><a href=\"psysml:fd0b961b-4bae-44e8-b09a-9c87fac280e3\" target=\"_top\" title=\"psysml:fd0b961b-4bae-44e8-b09a-9c87fac280e3\" xlink:actuate=\"onRequest\" xlink:href=\"psysml:fd0b961b-4bae-44e8-b09a-9c87fac280e3\" xlink:show=\"new\" xlink:title=\"psysml:fd0b961b-4bae-44e8-b09a-9c87fac280e3\" xlink:type=\"simple\"><rect fill=\"#FFFACD\" filter=\"url(#f1i7w1yy1dble0)\" height=\"40\" id=\"E5\" rx=\"10\" ry=\"10\" style=\"stroke:#A80036;stroke-width:1.5;\" width=\"50\" x=\"350.14\" y=\"282.5\"/><text fill=\"#000000\" font-family=\"sans-serif\" font-size=\"14\" lengthAdjust=\"spacing\" textLength=\"25\" x=\"362.64\" y=\"300.4951\">x: A</text></a></g><g><a href=\"psysml:05031283-db67-47ce-b074-a753e1e8519b\" target=\"_top\" title=\"psysml:05031283-db67-47ce-b074-a753e1e8519b\" xlink:actuate=\"onRequest\" xlink:href=\"psysml:05031283-db67-47ce-b074-a753e1e8519b\" xlink:show=\"new\" xlink:title=\"psysml:05031283-db67-47ce-b074-a753e1e8519b\" xlink:type=\"simple\"><rect fill=\"#FFFACD\" filter=\"url(#f1i7w1yy1dble0)\" height=\"45.2656\" id=\"E7\" style=\"stroke:#A80036;stroke-width:1.5;\" width=\"75\" x=\"117.64\" y=\"280\"/><text fill=\"#000000\" font-family=\"sans-serif\" font-size=\"12\" font-style=\"italic\" lengthAdjust=\"spacing\" textLength=\"68\" x=\"121.14\" y=\"296.1387\">«part  def»</text><text fill=\"#000000\" font-family=\"sans-serif\" font-size=\"14\" lengthAdjust=\"spacing\" textLength=\"10\" x=\"150.14\" y=\"311.9639\">B</text></a></g><g><a href=\"psysml:87e3ce51-5094-4f5d-8d11-feac4ad1e872\" target=\"_top\" title=\"psysml:87e3ce51-5094-4f5d-8d11-feac4ad1e872\" xlink:actuate=\"onRequest\" xlink:href=\"psysml:87e3ce51-5094-4f5d-8d11-feac4ad1e872\" xlink:show=\"new\" xlink:title=\"psysml:87e3ce51-5094-4f5d-8d11-feac4ad1e872\" xlink:type=\"simple\"><rect fill=\"#FFFACD\" filter=\"url(#f1i7w1yy1dble0)\" height=\"40\" id=\"E8\" rx=\"10\" ry=\"10\" style=\"stroke:#A80036;stroke-width:1.5;\" width=\"50\" x=\"190.14\" y=\"108\"/><text fill=\"#000000\" font-family=\"sans-serif\" font-size=\"14\" lengthAdjust=\"spacing\" textLength=\"27\" x=\"201.64\" y=\"125.9951\">z: B</text></a></g><g><a href=\"psysml:630baa2a-121f-4da7-a3fd-6c76e707d010\" target=\"_top\" title=\"psysml:630baa2a-121f-4da7-a3fd-6c76e707d010\" xlink:actuate=\"onRequest\" xlink:href=\"psysml:630baa2a-121f-4da7-a3fd-6c76e707d010\" xlink:show=\"new\" xlink:title=\"psysml:630baa2a-121f-4da7-a3fd-6c76e707d010\" xlink:type=\"simple\"><rect fill=\"#FFFACD\" filter=\"url(#f1i7w1yy1dble0)\" height=\"40\" id=\"E10\" rx=\"10\" ry=\"10\" style=\"stroke:#A80036;stroke-width:1.5;\" width=\"50\" x=\"310.14\" y=\"108\"/><text fill=\"#000000\" font-family=\"sans-serif\" font-size=\"14\" lengthAdjust=\"spacing\" textLength=\"35\" x=\"317.64\" y=\"125.9951\">z1: A</text></a></g><!--MD5=[185131fc0dcab0a4505a2ebe144e961b]\n",
       "link E4 to E2--><g id=\"link_E4_E2\"><a href=\"psysml:0487f209-9870-4837-a273-e80eaf0041e3\" target=\"_top\" title=\"psysml:0487f209-9870-4837-a273-e80eaf0041e3\" xlink:actuate=\"onRequest\" xlink:href=\"psysml:0487f209-9870-4837-a273-e80eaf0041e3\" xlink:show=\"new\" xlink:title=\"psysml:0487f209-9870-4837-a273-e80eaf0041e3\" xlink:type=\"simple\"><path d=\"M249.42,329.16 C245.02,342.1 240.33,358.16 238.14,373 C236.4525,384.42 235.7775,396.6088 235.7188,408.4963 C235.7114,409.9822 235.7137,411.4634 235.7248,412.9379 C235.7262,413.1222 235.7278,413.3064 235.7294,413.4904 \" fill=\"none\" id=\"E4-to-E2\" style=\"stroke:#181818;stroke-width:1.0;stroke-dasharray:7.0,7.0;\"/><polygon fill=\"#181818\" points=\"235.7294,413.4904,239.6477,404.4546,235.6841,408.4906,231.6481,404.527,235.7294,413.4904\" style=\"stroke:#181818;stroke-width:1.0;\"/><text fill=\"#000000\" font-family=\"sans-serif\" font-size=\"13\" lengthAdjust=\"spacing\" textLength=\"65\" x=\"239.14\" y=\"386.0669\">«import»*</text></a></g><!--MD5=[e9be52314489bd878ff4c7144b63c9e1]\n",
       "link E5 to E3--><g id=\"link_E5_E3\"><a href=\"psysml:fdb905ca-fd31-45b2-b41e-28dfb09dbd5e\" target=\"_top\" title=\"psysml:fdb905ca-fd31-45b2-b41e-28dfb09dbd5e\" xlink:actuate=\"onRequest\" xlink:href=\"psysml:fdb905ca-fd31-45b2-b41e-28dfb09dbd5e\" xlink:show=\"new\" xlink:title=\"psysml:fdb905ca-fd31-45b2-b41e-28dfb09dbd5e\" xlink:type=\"simple\"><path d=\"M368.5,322.56 C358.92,350.02 341.01,401.4 328.37,437.67 \" fill=\"none\" id=\"E5-to-E3\" style=\"stroke:#181818;stroke-width:1.0;\"/><polygon fill=\"#FFFFFF\" points=\"321.73,456.73,321.3764,436.4846,334.5958,441.0944,321.73,456.73\" style=\"stroke:#181818;stroke-width:1.0;\"/><ellipse cx=\"325.1418\" cy=\"431.761\" fill=\"#181818\" rx=\"2\" ry=\"2\" style=\"stroke:#181818;stroke-width:1.0;\"/><ellipse cx=\"334.5841\" cy=\"435.0537\" fill=\"#181818\" rx=\"2\" ry=\"2\" style=\"stroke:#181818;stroke-width:1.0;\"/></a></g><!--MD5=[ee384bb554873b72f85793eae40e290c]\n",
       "link E1 to E4--><g id=\"link_E1_E4\"><a href=\"psysml:60fcb482-826b-48b1-b5dc-27f8a317149a\" target=\"_top\" title=\"psysml:60fcb482-826b-48b1-b5dc-27f8a317149a\" xlink:actuate=\"onRequest\" xlink:href=\"psysml:60fcb482-826b-48b1-b5dc-27f8a317149a\" xlink:show=\"new\" xlink:title=\"psysml:60fcb482-826b-48b1-b5dc-27f8a317149a\" xlink:type=\"simple\"><path d=\"M34.11,129.12 C33.52,131.47 24.39,169.5 42.14,188 C49.17,195.33 77.17,194.08 87.14,196 C114.1,201.18 185.56,205.39 208.14,221 C225.8,233.21 238.67,253.73 247.06,271 \" fill=\"none\" id=\"E1-to-E4\" style=\"stroke:#181818;stroke-width:1.0;stroke-dasharray:7.0,7.0;\"/><polygon fill=\"#181818\" points=\"249.3,275.78,249.0916,265.9333,247.1731,271.2549,241.8515,269.3364,249.3,275.78\" style=\"stroke:#181818;stroke-width:1.0;\"/><text fill=\"#000000\" font-family=\"sans-serif\" font-size=\"13\" lengthAdjust=\"spacing\" textLength=\"65\" x=\"190.14\" y=\"209.0669\">«import»*</text></a></g><!--MD5=[ccbd3af71bf83df0ec2a2db62d6d7130]\n",
       "link E1 to E6--><g id=\"link_E1_E6\"><a href=\"psysml:37c9a4c7-80e6-494a-a65a-d8ec35cca65c\" target=\"_top\" title=\"psysml:37c9a4c7-80e6-494a-a65a-d8ec35cca65c\" xlink:actuate=\"onRequest\" xlink:href=\"psysml:37c9a4c7-80e6-494a-a65a-d8ec35cca65c\" xlink:show=\"new\" xlink:title=\"psysml:37c9a4c7-80e6-494a-a65a-d8ec35cca65c\" xlink:type=\"simple\"><path d=\"M26.0665,141.8795 C26.0141,141.9725 25.9616,142.066 25.909,142.1598 C25.8039,142.3474 25.6982,142.5367 25.5922,142.7275 C24.7438,144.2545 23.8687,145.8839 22.9851,147.6028 C21.218,151.0407 19.4169,154.8366 17.7275,158.8863 C10.97,175.085 6,195.345 12.14,213 C20.115,235.945 36.7875,257.425 51.8613,273.4762 C59.3981,281.5019 66.5353,288.1703 71.9858,292.9861 C72.6671,293.5881 73.322,294.1611 73.9481,294.7042 \" fill=\"none\" id=\"E1-to-E6\" style=\"stroke:#181818;stroke-width:1.0;stroke-dasharray:7.0,7.0;\"/><polygon fill=\"#181818\" points=\"73.9481,294.7042,69.7707,285.7852,70.1712,291.4278,64.5285,291.8283,73.9481,294.7042\" style=\"stroke:#181818;stroke-width:1.0;\"/><text fill=\"#000000\" font-family=\"sans-serif\" font-size=\"13\" lengthAdjust=\"spacing\" textLength=\"65\" x=\"13.14\" y=\"209.0669\">«import»*</text></a></g><!--MD5=[bfa3c8b0d15052fdf50ae9310b491027]\n",
       "link E8 to E7--><g id=\"link_E8_E7\"><a href=\"psysml:f605a3b7-992a-46f2-9cbf-567dae0e656e\" target=\"_top\" title=\"psysml:f605a3b7-992a-46f2-9cbf-567dae0e656e\" xlink:actuate=\"onRequest\" xlink:href=\"psysml:f605a3b7-992a-46f2-9cbf-567dae0e656e\" xlink:show=\"new\" xlink:title=\"psysml:f605a3b7-992a-46f2-9cbf-567dae0e656e\" xlink:type=\"simple\"><path d=\"M231.55,148.32 C245.13,166.74 259.86,194.37 244.14,213 C230.47,229.19 214.27,208.53 197.14,221 C183.73,230.76 174.25,246.09 167.74,260.76 \" fill=\"none\" id=\"E8-to-E7\" style=\"stroke:#181818;stroke-width:1.0;\"/><polygon fill=\"#FFFFFF\" points=\"160.6,279.79,160.7221,259.5419,173.8295,264.4609,160.6,279.79\" style=\"stroke:#181818;stroke-width:1.0;\"/><ellipse cx=\"164.5973\" cy=\"254.9081\" fill=\"#181818\" rx=\"2\" ry=\"2\" style=\"stroke:#181818;stroke-width:1.0;\"/><ellipse cx=\"173.9598\" cy=\"258.4216\" fill=\"#181818\" rx=\"2\" ry=\"2\" style=\"stroke:#181818;stroke-width:1.0;\"/></a></g><!--MD5=[c2be97adba6ddfe1c8f349fab141c927]\n",
       "link E9 to E4--><g id=\"link_E9_E4\"><a href=\"psysml:f74e7f7d-bc69-4c36-9a7b-616abfb119b1\" target=\"_top\" title=\"psysml:f74e7f7d-bc69-4c36-9a7b-616abfb119b1\" xlink:actuate=\"onRequest\" xlink:href=\"psysml:f74e7f7d-bc69-4c36-9a7b-616abfb119b1\" xlink:show=\"new\" xlink:title=\"psysml:f74e7f7d-bc69-4c36-9a7b-616abfb119b1\" xlink:type=\"simple\"><path d=\"M272.4084,172.0708 C272.378,172.4836 272.3474,172.8966 272.3166,173.3097 C272.1934,174.9624 272.0675,176.6169 271.939,178.2647 C271.682,181.5603 271.415,184.8288 271.14,188 C268.7,216.08 265.27,248 262.7,270.82 \" fill=\"none\" id=\"E9-to-E4\" style=\"stroke:#181818;stroke-width:1.0;stroke-dasharray:7.0,7.0;\"/><polygon fill=\"#181818\" points=\"262.13,275.83,267.1102,267.3331,262.6884,270.8613,259.1602,266.4396,262.13,275.83\" style=\"stroke:#181818;stroke-width:1.0;\"/><text fill=\"#000000\" font-family=\"sans-serif\" font-size=\"13\" lengthAdjust=\"spacing\" textLength=\"65\" x=\"271.14\" y=\"209.0669\">«import»*</text></a></g><!--MD5=[feeac5eb423634930294aa81f2d25a4c]\n",
       "link E10 to E3--><g id=\"link_E10_E3\"><a href=\"psysml:7688159c-03f6-437a-9242-bafcaad292a9\" target=\"_top\" title=\"psysml:7688159c-03f6-437a-9242-bafcaad292a9\" xlink:actuate=\"onRequest\" xlink:href=\"psysml:7688159c-03f6-437a-9242-bafcaad292a9\" xlink:show=\"new\" xlink:title=\"psysml:7688159c-03f6-437a-9242-bafcaad292a9\" xlink:type=\"simple\"><path d=\"M349.09,148.02 C360.78,166.48 373.34,194.37 358.14,213 C346.96,226.71 330.46,207.4 319.14,221 C305.75,237.09 309.28,367.45 312.13,436.28 \" fill=\"none\" id=\"E10-to-E3\" style=\"stroke:#181818;stroke-width:1.0;\"/><polygon fill=\"#FFFFFF\" points=\"313.03,456.62,305.1951,437.9488,319.1813,437.3285,313.03,456.62\" style=\"stroke:#181818;stroke-width:1.0;\"/><ellipse cx=\"306.9406\" cy=\"432.1658\" fill=\"#181818\" rx=\"2\" ry=\"2\" style=\"stroke:#181818;stroke-width:1.0;\"/><ellipse cx=\"316.9307\" cy=\"431.7227\" fill=\"#181818\" rx=\"2\" ry=\"2\" style=\"stroke:#181818;stroke-width:1.0;\"/></a></g><!--MD5=[6ba3ad9da41c5ed8582ee1823904621a]\n",
       "@startuml\r\n",
       "skin sysmlc\r\n",
       "skinparam wrapWidth 300\r\n",
       "hide circle\r\n",
       "skinparam ranksep 10\r\n",
       "skinparam rectangle {\r\n",
       " backgroundColor<<block>> LightGreen\r\n",
       "}\r\n",
       "\r\n",
       "package \"PrivateImportTest\" as E1  [[psysml:11a30fa2-fbeb-4b2d-a071-2781e63d5a12 ]]  {\r\n",
       "package \"P1\" as E2  [[psysml:29bb8ef7-a50f-48a8-b243-dfabeed2550d ]]  {\r\n",
       "rec def \"A\" as E3  <<(T,blue) part  def>> [[psysml:5dfb8e4e-b010-43d6-9ea6-8d8096aa0cbd ]] {\r\n",
       "}\r\n",
       "}\r\n",
       "package \"P2\" as E4  [[psysml:6d745f5d-a6bd-48d3-bb38-b4db6224b450 ]]  {\r\n",
       "}\r\n",
       "rec usage \"x: A\" as E5 [[psysml:fd0b961b-4bae-44e8-b09a-9c87fac280e3 ]] {\r\n",
       "}\r\n",
       "package \"P3\" as E6  [[psysml:3afe7580-df30-4ff0-95e6-ec63d3638055 ]]  {\r\n",
       "rec def \"B\" as E7  <<(T,blue) part  def>> [[psysml:05031283-db67-47ce-b074-a753e1e8519b ]] {\r\n",
       "}\r\n",
       "}\r\n",
       "rec usage \"z: B\" as E8 [[psysml:87e3ce51-5094-4f5d-8d11-feac4ad1e872 ]] {\r\n",
       "}\r\n",
       "package \"P4\" as E9  [[psysml:a1b56716-f996-4480-88b0-3733f2d7733c ]]  {\r\n",
       "rec usage \"z1: A\" as E10 [[psysml:630baa2a-121f-4da7-a3fd-6c76e707d010 ]] {\r\n",
       "}\r\n",
       "}\r\n",
       "}\r\n",
       "E4 ..> E2 [[psysml:0487f209-9870-4837-a273-e80eaf0041e3 ]] : <<import>>*\r\n",
       "E5 - -:|> E3 [[psysml:fdb905ca-fd31-45b2-b41e-28dfb09dbd5e ]] \r\n",
       "E1 ..> E4 [[psysml:60fcb482-826b-48b1-b5dc-27f8a317149a ]] : <<import>>*\r\n",
       "E1 ..> E6 [[psysml:37c9a4c7-80e6-494a-a65a-d8ec35cca65c ]] : <<import>>*\r\n",
       "E8 - -:|> E7 [[psysml:f605a3b7-992a-46f2-9cbf-567dae0e656e ]] \r\n",
       "E9 ..> E4 [[psysml:f74e7f7d-bc69-4c36-9a7b-616abfb119b1 ]] : <<import>>*\r\n",
       "E10 - -:|> E3 [[psysml:7688159c-03f6-437a-9242-bafcaad292a9 ]] \r\n",
       "@enduml\r\n",
       "\n",
       "PlantUML version 1.2022.7(Mon Aug 22 17:01:30 UTC 2022)\n",
       "(EPL source distribution)\n",
       "Java Runtime: OpenJDK Runtime Environment\n",
       "JVM: OpenJDK 64-Bit Server VM\n",
       "Default Encoding: UTF-8\n",
       "Language: en\n",
       "Country: null\n",
       "--></g></svg>"
      ]
     },
     "execution_count": 26,
     "metadata": {},
     "output_type": "execute_result"
    }
   ],
   "source": [
    "%viz --style=\"STDCOLOR\" --view=\"Interconnection\" \"PrivateImportTest\""
   ]
  },
  {
   "cell_type": "code",
   "execution_count": 27,
   "id": "1ba6402c",
   "metadata": {
    "execution": {
     "iopub.execute_input": "2024-12-16T14:17:04.456581Z",
     "iopub.status.busy": "2024-12-16T14:17:04.456330Z",
     "iopub.status.idle": "2024-12-16T14:17:04.462779Z",
     "shell.execute_reply": "2024-12-16T14:17:04.462599Z"
    }
   },
   "outputs": [
    {
     "data": {
      "image/svg+xml": [
       "<?xml version=\"1.0\" encoding=\"UTF-8\" standalone=\"no\"?><svg xmlns=\"http://www.w3.org/2000/svg\" xmlns:xlink=\"http://www.w3.org/1999/xlink\" contentStyleType=\"text/css\" height=\"10px\" preserveAspectRatio=\"none\" style=\"width:10px;height:10px;background:#FFFFFF;\" version=\"1.1\" viewBox=\"0 0 10 10\" width=\"10px\" zoomAndPan=\"magnify\"><defs/><g><!--MD5=[f1e15a62785563bad28e840d677c8e75]\n",
       "@startuml\r\n",
       "skin sysmlc\r\n",
       "skinparam wrapWidth 300\r\n",
       "hide circle\r\n",
       "skinparam ranksep 8\r\n",
       "\r\n",
       "@enduml\r\n",
       "\n",
       "PlantUML version 1.2022.7(Mon Aug 22 17:01:30 UTC 2022)\n",
       "(EPL source distribution)\n",
       "Java Runtime: OpenJDK Runtime Environment\n",
       "JVM: OpenJDK 64-Bit Server VM\n",
       "Default Encoding: UTF-8\n",
       "Language: en\n",
       "Country: null\n",
       "--></g></svg>"
      ]
     },
     "execution_count": 27,
     "metadata": {},
     "output_type": "execute_result"
    }
   ],
   "source": [
    "%viz --style=\"STDCOLOR\" --view=\"Action\" \"PrivateImportTest\""
   ]
  },
  {
   "cell_type": "code",
   "execution_count": 28,
   "id": "541a1b12",
   "metadata": {
    "execution": {
     "iopub.execute_input": "2024-12-16T14:17:04.518942Z",
     "iopub.status.busy": "2024-12-16T14:17:04.518417Z",
     "iopub.status.idle": "2024-12-16T14:17:04.527076Z",
     "shell.execute_reply": "2024-12-16T14:17:04.526700Z"
    }
   },
   "outputs": [
    {
     "data": {
      "image/svg+xml": [
       "<?xml version=\"1.0\" encoding=\"UTF-8\" standalone=\"no\"?><svg xmlns=\"http://www.w3.org/2000/svg\" xmlns:xlink=\"http://www.w3.org/1999/xlink\" contentStyleType=\"text/css\" height=\"10px\" preserveAspectRatio=\"none\" style=\"width:10px;height:10px;background:#FFFFFF;\" version=\"1.1\" viewBox=\"0 0 10 10\" width=\"10px\" zoomAndPan=\"magnify\"><defs/><g><!--MD5=[e54413e611bf323face5c486cd3a32bb]\n",
       "@startuml\r\n",
       "skin sysmlc\r\n",
       "skinparam wrapWidth 300\r\n",
       "hide circle\r\n",
       "skinparam roundcorner 20\r\n",
       "skinparam BoxPadding 20\r\n",
       "skinparam SequenceBoxBackgroundColor #white\r\n",
       "skinparam style strictuml\r\n",
       "skinparam maxMessageSize 100\r\n",
       "\r\n",
       "@enduml\r\n",
       "\n",
       "PlantUML version 1.2022.7(Mon Aug 22 17:01:30 UTC 2022)\n",
       "(EPL source distribution)\n",
       "Java Runtime: OpenJDK Runtime Environment\n",
       "JVM: OpenJDK 64-Bit Server VM\n",
       "Default Encoding: UTF-8\n",
       "Language: en\n",
       "Country: null\n",
       "--></g></svg>"
      ]
     },
     "execution_count": 28,
     "metadata": {},
     "output_type": "execute_result"
    }
   ],
   "source": [
    "%viz --style=\"STDCOLOR\" --view=\"Sequence\" \"PrivateImportTest\""
   ]
  },
  {
   "cell_type": "code",
   "execution_count": 29,
   "id": "0e494689",
   "metadata": {
    "execution": {
     "iopub.execute_input": "2024-12-16T14:17:04.583256Z",
     "iopub.status.busy": "2024-12-16T14:17:04.582898Z",
     "iopub.status.idle": "2024-12-16T14:17:04.612426Z",
     "shell.execute_reply": "2024-12-16T14:17:04.611279Z"
    }
   },
   "outputs": [
    {
     "data": {
      "image/svg+xml": [
       "<?xml version=\"1.0\" encoding=\"UTF-8\" standalone=\"no\"?><svg xmlns=\"http://www.w3.org/2000/svg\" xmlns:xlink=\"http://www.w3.org/1999/xlink\" contentStyleType=\"text/css\" height=\"587px\" preserveAspectRatio=\"none\" style=\"width:428px;height:587px;background:#FFFFFF;\" version=\"1.1\" viewBox=\"0 0 428 587\" width=\"428px\" zoomAndPan=\"magnify\"><defs><filter height=\"300%\" id=\"f1s6qzxsyn3yky\" width=\"300%\" x=\"-1\" y=\"-1\"><feGaussianBlur result=\"blurOut\" stdDeviation=\"2.0\"/><feColorMatrix in=\"blurOut\" result=\"blurOut2\" type=\"matrix\" values=\"0 0 0 0 0 0 0 0 0 0 0 0 0 0 0 0 0 0 .4 0\"/><feOffset dx=\"4.0\" dy=\"4.0\" in=\"blurOut2\" result=\"blurOut3\"/><feBlend in=\"SourceGraphic\" in2=\"blurOut3\" mode=\"normal\"/></filter></defs><g><!--MD5=[fbc87193dbaf4d95561dea2c320d4a47]\n",
       "cluster E1--><g id=\"cluster_E1\"><a href=\"psysml:11a30fa2-fbeb-4b2d-a071-2781e63d5a12\" target=\"_top\" title=\"psysml:11a30fa2-fbeb-4b2d-a071-2781e63d5a12\" xlink:actuate=\"onRequest\" xlink:href=\"psysml:11a30fa2-fbeb-4b2d-a071-2781e63d5a12\" xlink:show=\"new\" xlink:title=\"psysml:11a30fa2-fbeb-4b2d-a071-2781e63d5a12\" xlink:type=\"simple\"><polygon fill=\"none\" filter=\"url(#f1s6qzxsyn3yky)\" points=\"26.335,6,160.7725,6,167.7725,28.2969,411.335,28.2969,411.335,580,26.335,580,26.335,6\" style=\"stroke:#000000;stroke-width:1.5;\"/><line style=\"stroke:#000000;stroke-width:1.5;\" x1=\"26.335\" x2=\"167.7725\" y1=\"28.2969\" y2=\"28.2969\"/><text fill=\"#000000\" font-family=\"sans-serif\" font-size=\"14\" font-weight=\"bold\" lengthAdjust=\"spacing\" textLength=\"128.4375\" x=\"30.335\" y=\"20.9951\">PrivateImportTest</text></a></g><!--MD5=[e4f7fae6ed58524ba242bb0b0d3be6b7]\n",
       "cluster E2--><g id=\"cluster_E2\"><a href=\"psysml:29bb8ef7-a50f-48a8-b243-dfabeed2550d\" target=\"_top\" title=\"psysml:29bb8ef7-a50f-48a8-b243-dfabeed2550d\" xlink:actuate=\"onRequest\" xlink:href=\"psysml:29bb8ef7-a50f-48a8-b243-dfabeed2550d\" xlink:show=\"new\" xlink:title=\"psysml:29bb8ef7-a50f-48a8-b243-dfabeed2550d\" xlink:type=\"simple\"><polygon fill=\"none\" filter=\"url(#f1s6qzxsyn3yky)\" points=\"231.335,425,256.21,425,263.21,447.2969,368.335,447.2969,368.335,540,231.335,540,231.335,425\" style=\"stroke:#000000;stroke-width:1.5;\"/><line style=\"stroke:#000000;stroke-width:1.5;\" x1=\"231.335\" x2=\"263.21\" y1=\"447.2969\" y2=\"447.2969\"/><text fill=\"#000000\" font-family=\"sans-serif\" font-size=\"14\" font-weight=\"bold\" lengthAdjust=\"spacing\" textLength=\"18.875\" x=\"235.335\" y=\"439.9951\">P1</text></a></g><!--MD5=[14e3b0961a2654348d326746436168a1]\n",
       "cluster E6--><g id=\"cluster_E6\"><a href=\"psysml:3afe7580-df30-4ff0-95e6-ec63d3638055\" target=\"_top\" title=\"psysml:3afe7580-df30-4ff0-95e6-ec63d3638055\" xlink:actuate=\"onRequest\" xlink:href=\"psysml:3afe7580-df30-4ff0-95e6-ec63d3638055\" xlink:show=\"new\" xlink:title=\"psysml:3afe7580-df30-4ff0-95e6-ec63d3638055\" xlink:type=\"simple\"><polygon fill=\"none\" filter=\"url(#f1s6qzxsyn3yky)\" points=\"74.335,245,99.21,245,106.21,267.2969,211.335,267.2969,211.335,360,74.335,360,74.335,245\" style=\"stroke:#000000;stroke-width:1.5;\"/><line style=\"stroke:#000000;stroke-width:1.5;\" x1=\"74.335\" x2=\"106.21\" y1=\"267.2969\" y2=\"267.2969\"/><text fill=\"#000000\" font-family=\"sans-serif\" font-size=\"14\" font-weight=\"bold\" lengthAdjust=\"spacing\" textLength=\"18.875\" x=\"78.335\" y=\"259.9951\">P3</text></a></g><!--MD5=[7f149f147074ac12df2cb0a7728a5fb0]\n",
       "cluster E9--><g id=\"cluster_E9\"><a href=\"psysml:a1b56716-f996-4480-88b0-3733f2d7733c\" target=\"_top\" title=\"psysml:a1b56716-f996-4480-88b0-3733f2d7733c\" xlink:actuate=\"onRequest\" xlink:href=\"psysml:a1b56716-f996-4480-88b0-3733f2d7733c\" xlink:show=\"new\" xlink:title=\"psysml:a1b56716-f996-4480-88b0-3733f2d7733c\" xlink:type=\"simple\"><polygon fill=\"none\" filter=\"url(#f1s6qzxsyn3yky)\" points=\"254.335,65,279.21,65,286.21,87.2969,371.335,87.2969,371.335,180,254.335,180,254.335,65\" style=\"stroke:#000000;stroke-width:1.5;\"/><line style=\"stroke:#000000;stroke-width:1.5;\" x1=\"254.335\" x2=\"286.21\" y1=\"87.2969\" y2=\"87.2969\"/><text fill=\"#000000\" font-family=\"sans-serif\" font-size=\"14\" font-weight=\"bold\" lengthAdjust=\"spacing\" textLength=\"18.875\" x=\"258.335\" y=\"79.9951\">P4</text></a></g><!--MD5=[270fce915f116d4de14055a7c1d9a0f3]\n",
       "class E5--><a href=\"psysml:fd0b961b-4bae-44e8-b09a-9c87fac280e3\" target=\"_top\" title=\"psysml:fd0b961b-4bae-44e8-b09a-9c87fac280e3\" xlink:actuate=\"onRequest\" xlink:href=\"psysml:fd0b961b-4bae-44e8-b09a-9c87fac280e3\" xlink:show=\"new\" xlink:title=\"psysml:fd0b961b-4bae-44e8-b09a-9c87fac280e3\" xlink:type=\"simple\"><g id=\"elem_E5\"><rect fill=\"#FFFACD\" filter=\"url(#f1s6qzxsyn3yky)\" height=\"48.2656\" id=\"E5\" rx=\"10\" ry=\"10\" style=\"stroke:#181818;stroke-width:0.5;\" width=\"42\" x=\"345.335\" y=\"288\"/><text fill=\"#000000\" font-family=\"sans-serif\" font-size=\"12\" font-style=\"italic\" lengthAdjust=\"spacing\" textLength=\"40\" x=\"346.335\" y=\"304.1387\">«part»</text><text fill=\"#000000\" font-family=\"sans-serif\" font-size=\"14\" lengthAdjust=\"spacing\" textLength=\"25\" x=\"349.835\" y=\"319.9639\">x: A</text><line style=\"stroke:#181818;stroke-width:0.5;\" x1=\"346.335\" x2=\"386.335\" y1=\"328.2656\" y2=\"328.2656\"/></g></a><!--MD5=[b9389687b975829384b498ac4b7476b2]\n",
       "class E8--><a href=\"psysml:87e3ce51-5094-4f5d-8d11-feac4ad1e872\" target=\"_top\" title=\"psysml:87e3ce51-5094-4f5d-8d11-feac4ad1e872\" xlink:actuate=\"onRequest\" xlink:href=\"psysml:87e3ce51-5094-4f5d-8d11-feac4ad1e872\" xlink:show=\"new\" xlink:title=\"psysml:87e3ce51-5094-4f5d-8d11-feac4ad1e872\" xlink:type=\"simple\"><g id=\"elem_E8\"><rect fill=\"#FFFACD\" filter=\"url(#f1s6qzxsyn3yky)\" height=\"48.2656\" id=\"E8\" rx=\"10\" ry=\"10\" style=\"stroke:#181818;stroke-width:0.5;\" width=\"42\" x=\"185.335\" y=\"108\"/><text fill=\"#000000\" font-family=\"sans-serif\" font-size=\"12\" font-style=\"italic\" lengthAdjust=\"spacing\" textLength=\"40\" x=\"186.335\" y=\"124.1387\">«part»</text><text fill=\"#000000\" font-family=\"sans-serif\" font-size=\"14\" lengthAdjust=\"spacing\" textLength=\"27\" x=\"188.835\" y=\"139.9639\">z: B</text><line style=\"stroke:#181818;stroke-width:0.5;\" x1=\"186.335\" x2=\"226.335\" y1=\"148.2656\" y2=\"148.2656\"/></g></a><!--MD5=[09b614a08d8cba4a07c9adeb5e0fee81]\n",
       "class E3--><a href=\"psysml:5dfb8e4e-b010-43d6-9ea6-8d8096aa0cbd\" target=\"_top\" title=\"psysml:5dfb8e4e-b010-43d6-9ea6-8d8096aa0cbd\" xlink:actuate=\"onRequest\" xlink:href=\"psysml:5dfb8e4e-b010-43d6-9ea6-8d8096aa0cbd\" xlink:show=\"new\" xlink:title=\"psysml:5dfb8e4e-b010-43d6-9ea6-8d8096aa0cbd\" xlink:type=\"simple\"><g id=\"elem_E3\"><rect fill=\"#FFFACD\" filter=\"url(#f1s6qzxsyn3yky)\" height=\"48.2656\" id=\"E3\" style=\"stroke:#181818;stroke-width:0.5;\" width=\"70\" x=\"274.335\" y=\"468\"/><text fill=\"#000000\" font-family=\"sans-serif\" font-size=\"12\" font-style=\"italic\" lengthAdjust=\"spacing\" textLength=\"68\" x=\"275.335\" y=\"484.1387\">«part  def»</text><text fill=\"#000000\" font-family=\"sans-serif\" font-size=\"14\" lengthAdjust=\"spacing\" textLength=\"9\" x=\"304.835\" y=\"499.9639\">A</text><line style=\"stroke:#181818;stroke-width:0.5;\" x1=\"275.335\" x2=\"343.335\" y1=\"508.2656\" y2=\"508.2656\"/></g></a><a href=\"psysml:6d745f5d-a6bd-48d3-bb38-b4db6224b450\" target=\"_top\" title=\"psysml:6d745f5d-a6bd-48d3-bb38-b4db6224b450\" xlink:actuate=\"onRequest\" xlink:href=\"psysml:6d745f5d-a6bd-48d3-bb38-b4db6224b450\" xlink:show=\"new\" xlink:title=\"psysml:6d745f5d-a6bd-48d3-bb38-b4db6224b450\" xlink:type=\"simple\"><polygon fill=\"#FFFACD\" filter=\"url(#f1s6qzxsyn3yky)\" points=\"235.335,285.5,259.335,285.5,266.335,307.7969,273.335,307.7969,273.335,338.0938,235.335,338.0938,235.335,285.5\" style=\"stroke:#181818;stroke-width:0.5;\"/><line style=\"stroke:#181818;stroke-width:0.5;\" x1=\"235.335\" x2=\"266.335\" y1=\"307.7969\" y2=\"307.7969\"/><text fill=\"#000000\" font-family=\"sans-serif\" font-size=\"14\" lengthAdjust=\"spacing\" textLength=\"18\" x=\"239.335\" y=\"300.4951\">P2</text></a><!--MD5=[2156ba9850f5573cc1fc38a6a4b2f02b]\n",
       "class E7--><a href=\"psysml:05031283-db67-47ce-b074-a753e1e8519b\" target=\"_top\" title=\"psysml:05031283-db67-47ce-b074-a753e1e8519b\" xlink:actuate=\"onRequest\" xlink:href=\"psysml:05031283-db67-47ce-b074-a753e1e8519b\" xlink:show=\"new\" xlink:title=\"psysml:05031283-db67-47ce-b074-a753e1e8519b\" xlink:type=\"simple\"><g id=\"elem_E7\"><rect fill=\"#FFFACD\" filter=\"url(#f1s6qzxsyn3yky)\" height=\"48.2656\" id=\"E7\" style=\"stroke:#181818;stroke-width:0.5;\" width=\"70\" x=\"117.335\" y=\"288\"/><text fill=\"#000000\" font-family=\"sans-serif\" font-size=\"12\" font-style=\"italic\" lengthAdjust=\"spacing\" textLength=\"68\" x=\"118.335\" y=\"304.1387\">«part  def»</text><text fill=\"#000000\" font-family=\"sans-serif\" font-size=\"14\" lengthAdjust=\"spacing\" textLength=\"10\" x=\"147.335\" y=\"319.9639\">B</text><line style=\"stroke:#181818;stroke-width:0.5;\" x1=\"118.335\" x2=\"186.335\" y1=\"328.2656\" y2=\"328.2656\"/></g></a><!--MD5=[96f4274e9e20536e775497830990834d]\n",
       "class E10--><a href=\"psysml:630baa2a-121f-4da7-a3fd-6c76e707d010\" target=\"_top\" title=\"psysml:630baa2a-121f-4da7-a3fd-6c76e707d010\" xlink:actuate=\"onRequest\" xlink:href=\"psysml:630baa2a-121f-4da7-a3fd-6c76e707d010\" xlink:show=\"new\" xlink:title=\"psysml:630baa2a-121f-4da7-a3fd-6c76e707d010\" xlink:type=\"simple\"><g id=\"elem_E10\"><rect fill=\"#FFFACD\" filter=\"url(#f1s6qzxsyn3yky)\" height=\"48.2656\" id=\"E10\" rx=\"10\" ry=\"10\" style=\"stroke:#181818;stroke-width:0.5;\" width=\"49\" x=\"297.835\" y=\"108\"/><text fill=\"#000000\" font-family=\"sans-serif\" font-size=\"12\" font-style=\"italic\" lengthAdjust=\"spacing\" textLength=\"40\" x=\"302.335\" y=\"124.1387\">«part»</text><text fill=\"#000000\" font-family=\"sans-serif\" font-size=\"14\" lengthAdjust=\"spacing\" textLength=\"35\" x=\"300.835\" y=\"139.9639\">z1: A</text><line style=\"stroke:#181818;stroke-width:0.5;\" x1=\"298.835\" x2=\"345.835\" y1=\"148.2656\" y2=\"148.2656\"/></g></a><!--MD5=[185131fc0dcab0a4505a2ebe144e961b]\n",
       "link E4 to E2--><g id=\"link_E4_E2\"><a href=\"psysml:0487f209-9870-4837-a273-e80eaf0041e3\" target=\"_top\" title=\"psysml:0487f209-9870-4837-a273-e80eaf0041e3\" xlink:actuate=\"onRequest\" xlink:href=\"psysml:0487f209-9870-4837-a273-e80eaf0041e3\" xlink:show=\"new\" xlink:title=\"psysml:0487f209-9870-4837-a273-e80eaf0041e3\" xlink:type=\"simple\"><path d=\"M244.835,338.57 C240.375,351.9 235.565,368.61 233.335,384 C231.655,395.6 231.165,407.9706 231.3811,420.0302 C231.4081,421.5376 231.4461,423.0402 231.4943,424.5358 \" fill=\"none\" id=\"E4-to-E2\" style=\"stroke:#181818;stroke-width:1.0;stroke-dasharray:7.0,7.0;\"/><polygon fill=\"#181818\" points=\"231.4943,424.5358,235.2027,415.4118,231.3335,419.5384,227.2069,415.6691,231.4943,424.5358\" style=\"stroke:#181818;stroke-width:1.0;\"/><text fill=\"#000000\" font-family=\"sans-serif\" font-size=\"13\" lengthAdjust=\"spacing\" textLength=\"65\" x=\"234.335\" y=\"397.0669\">«import»*</text></a></g><!--MD5=[e9be52314489bd878ff4c7144b63c9e1]\n",
       "link E5 to E3--><g id=\"link_E5_E3\"><a href=\"psysml:fdb905ca-fd31-45b2-b41e-28dfb09dbd5e\" target=\"_top\" title=\"psysml:fdb905ca-fd31-45b2-b41e-28dfb09dbd5e\" xlink:actuate=\"onRequest\" xlink:href=\"psysml:fdb905ca-fd31-45b2-b41e-28dfb09dbd5e\" xlink:show=\"new\" xlink:title=\"psysml:fdb905ca-fd31-45b2-b41e-28dfb09dbd5e\" xlink:type=\"simple\"><path d=\"M358.885,336.27 C349.795,364.65 334.255,413.19 322.995,448.34 \" fill=\"none\" id=\"E5-to-E3\" style=\"stroke:#181818;stroke-width:1.0;\"/><polygon fill=\"#FFFFFF\" points=\"316.785,467.72,315.9148,447.4902,329.2475,451.7611,316.785,467.72\" style=\"stroke:#181818;stroke-width:1.0;\"/><ellipse cx=\"319.5583\" cy=\"442.6721\" fill=\"#181818\" rx=\"2\" ry=\"2\" style=\"stroke:#181818;stroke-width:1.0;\"/><ellipse cx=\"329.0817\" cy=\"445.7227\" fill=\"#181818\" rx=\"2\" ry=\"2\" style=\"stroke:#181818;stroke-width:1.0;\"/></a></g><!--MD5=[ee384bb554873b72f85793eae40e290c]\n",
       "link E1 to E4--><g id=\"link_E1_E4\"><a href=\"psysml:60fcb482-826b-48b1-b5dc-27f8a317149a\" target=\"_top\" title=\"psysml:60fcb482-826b-48b1-b5dc-27f8a317149a\" xlink:actuate=\"onRequest\" xlink:href=\"psysml:60fcb482-826b-48b1-b5dc-27f8a317149a\" xlink:show=\"new\" xlink:title=\"psysml:60fcb482-826b-48b1-b5dc-27f8a317149a\" xlink:type=\"simple\"><path d=\"M34.305,133.12 C33.645,135.64 23.485,176.19 42.335,196 C49.335,203.36 77.365,202.04 87.335,204 C100.275,206.54 192.555,221.41 203.335,229 C221.255,241.61 234.175,262.72 242.525,280.37 \" fill=\"none\" id=\"E1-to-E4\" style=\"stroke:#181818;stroke-width:1.0;stroke-dasharray:7.0,7.0;\"/><polygon fill=\"#181818\" points=\"244.755,285.24,244.6606,275.3916,242.6806,280.6906,237.3816,278.7106,244.755,285.24\" style=\"stroke:#181818;stroke-width:1.0;\"/><text fill=\"#000000\" font-family=\"sans-serif\" font-size=\"13\" lengthAdjust=\"spacing\" textLength=\"65\" x=\"176.335\" y=\"217.0669\">«import»*</text></a></g><!--MD5=[ccbd3af71bf83df0ec2a2db62d6d7130]\n",
       "link E1 to E6--><g id=\"link_E1_E6\"><a href=\"psysml:37c9a4c7-80e6-494a-a65a-d8ec35cca65c\" target=\"_top\" title=\"psysml:37c9a4c7-80e6-494a-a65a-d8ec35cca65c\" xlink:actuate=\"onRequest\" xlink:href=\"psysml:37c9a4c7-80e6-494a-a65a-d8ec35cca65c\" xlink:show=\"new\" xlink:title=\"psysml:37c9a4c7-80e6-494a-a65a-d8ec35cca65c\" xlink:type=\"simple\"><path d=\"M26.3325,146.2131 C26.1219,146.5997 25.9095,146.9932 25.6953,147.3934 C24.8388,148.9944 23.9555,150.7026 23.0641,152.5046 C21.2813,156.1085 19.4656,160.0872 17.765,164.3313 C10.9625,181.3075 6,202.53 12.335,221 C20.3,244.215 36.9725,266.0575 52.0488,282.41 C59.5869,290.5862 66.7259,297.39 72.178,302.3066 C72.8595,302.9211 73.5146,303.5062 74.1409,304.0608 \" fill=\"none\" id=\"E1-to-E6\" style=\"stroke:#181818;stroke-width:1.0;stroke-dasharray:7.0,7.0;\"/><polygon fill=\"#181818\" points=\"74.1409,304.0608,70.0549,295.0995,70.3976,300.746,64.7512,301.0887,74.1409,304.0608\" style=\"stroke:#181818;stroke-width:1.0;\"/><text fill=\"#000000\" font-family=\"sans-serif\" font-size=\"13\" lengthAdjust=\"spacing\" textLength=\"65\" x=\"13.335\" y=\"217.0669\">«import»*</text></a></g><!--MD5=[bfa3c8b0d15052fdf50ae9310b491027]\n",
       "link E8 to E7--><g id=\"link_E8_E7\"><a href=\"psysml:f605a3b7-992a-46f2-9cbf-567dae0e656e\" target=\"_top\" title=\"psysml:f605a3b7-992a-46f2-9cbf-567dae0e656e\" xlink:actuate=\"onRequest\" xlink:href=\"psysml:f605a3b7-992a-46f2-9cbf-567dae0e656e\" xlink:show=\"new\" xlink:title=\"psysml:f605a3b7-992a-46f2-9cbf-567dae0e656e\" xlink:type=\"simple\"><path d=\"M221.755,156.17 C235.785,178.66 253.075,210.85 244.335,221 C228.795,239.06 210.465,214.81 191.335,229 C178.275,238.69 169.415,253.88 163.485,268.56 \" fill=\"none\" id=\"E8-to-E7\" style=\"stroke:#181818;stroke-width:1.0;\"/><polygon fill=\"#FFFFFF\" points=\"157.085,287.71,156.4571,267.4713,169.7377,271.9015,157.085,287.71\" style=\"stroke:#181818;stroke-width:1.0;\"/><ellipse cx=\"160.1581\" cy=\"262.6971\" fill=\"#181818\" rx=\"2\" ry=\"2\" style=\"stroke:#181818;stroke-width:1.0;\"/><ellipse cx=\"169.6442\" cy=\"265.8615\" fill=\"#181818\" rx=\"2\" ry=\"2\" style=\"stroke:#181818;stroke-width:1.0;\"/></a></g><!--MD5=[c2be97adba6ddfe1c8f349fab141c927]\n",
       "link E9 to E4--><g id=\"link_E9_E4\"><a href=\"psysml:f74e7f7d-bc69-4c36-9a7b-616abfb119b1\" target=\"_top\" title=\"psysml:f74e7f7d-bc69-4c36-9a7b-616abfb119b1\" xlink:actuate=\"onRequest\" xlink:href=\"psysml:f74e7f7d-bc69-4c36-9a7b-616abfb119b1\" xlink:show=\"new\" xlink:title=\"psysml:f74e7f7d-bc69-4c36-9a7b-616abfb119b1\" xlink:type=\"simple\"><path d=\"M260.2025,180.4864 C260.1924,180.7107 260.1823,180.9354 260.1722,181.1606 C260.1318,182.0612 260.091,182.969 260.0499,183.8833 C259.9677,185.7121 259.8844,187.5673 259.8,189.445 C258.45,219.4875 256.84,255.27 255.715,280.2 \" fill=\"none\" id=\"E9-to-E4\" style=\"stroke:#181818;stroke-width:1.0;stroke-dasharray:7.0,7.0;\"/><polygon fill=\"#181818\" points=\"255.485,285.47,259.8918,276.6621,255.7133,280.4752,251.9002,276.2967,255.485,285.47\" style=\"stroke:#181818;stroke-width:1.0;\"/><text fill=\"#000000\" font-family=\"sans-serif\" font-size=\"13\" lengthAdjust=\"spacing\" textLength=\"65\" x=\"259.335\" y=\"217.0669\">«import»*</text></a></g><!--MD5=[feeac5eb423634930294aa81f2d25a4c]\n",
       "link E10 to E3--><g id=\"link_E10_E3\"><a href=\"psysml:7688159c-03f6-437a-9242-bafcaad292a9\" target=\"_top\" title=\"psysml:7688159c-03f6-437a-9242-bafcaad292a9\" xlink:actuate=\"onRequest\" xlink:href=\"psysml:7688159c-03f6-437a-9242-bafcaad292a9\" xlink:show=\"new\" xlink:title=\"psysml:7688159c-03f6-437a-9242-bafcaad292a9\" xlink:type=\"simple\"><path d=\"M344.205,156.37 C359.315,175.4 374.095,202.12 358.335,221 C345.595,236.26 327.215,213.86 314.335,229 C300.565,245.18 304.225,377.23 307.215,447.45 \" fill=\"none\" id=\"E10-to-E3\" style=\"stroke:#181818;stroke-width:1.0;\"/><polygon fill=\"#FFFFFF\" points=\"308.135,467.85,300.2734,449.19,314.2588,448.5498,308.135,467.85\" style=\"stroke:#181818;stroke-width:1.0;\"/><ellipse cx=\"302.0107\" cy=\"443.4045\" fill=\"#181818\" rx=\"2\" ry=\"2\" style=\"stroke:#181818;stroke-width:1.0;\"/><ellipse cx=\"312.0002\" cy=\"442.9472\" fill=\"#181818\" rx=\"2\" ry=\"2\" style=\"stroke:#181818;stroke-width:1.0;\"/></a></g><!--MD5=[ec48924bc2497c3fba38eab93023b726]\n",
       "@startuml\r\n",
       "skin sysmlc\r\n",
       "skinparam wrapWidth 300\r\n",
       "hide circle\r\n",
       "\r\n",
       "package \"PrivateImportTest\" as E1  [[psysml:11a30fa2-fbeb-4b2d-a071-2781e63d5a12 ]]  {\r\n",
       "package \"P1\" as E2  [[psysml:29bb8ef7-a50f-48a8-b243-dfabeed2550d ]]  {\r\n",
       "comp def \"A\" as E3  <<(T,blue) part  def>> [[psysml:5dfb8e4e-b010-43d6-9ea6-8d8096aa0cbd ]] {\r\n",
       "}\r\n",
       "}\r\n",
       "package \"P2\" as E4  [[psysml:6d745f5d-a6bd-48d3-bb38-b4db6224b450 ]]  {\r\n",
       "}\r\n",
       "comp usage \"x: A  \" as E5  <<(T,blue) part>> [[psysml:fd0b961b-4bae-44e8-b09a-9c87fac280e3 ]] {\r\n",
       "}\r\n",
       "package \"P3\" as E6  [[psysml:3afe7580-df30-4ff0-95e6-ec63d3638055 ]]  {\r\n",
       "comp def \"B\" as E7  <<(T,blue) part  def>> [[psysml:05031283-db67-47ce-b074-a753e1e8519b ]] {\r\n",
       "}\r\n",
       "}\r\n",
       "comp usage \"z: B  \" as E8  <<(T,blue) part>> [[psysml:87e3ce51-5094-4f5d-8d11-feac4ad1e872 ]] {\r\n",
       "}\r\n",
       "package \"P4\" as E9  [[psysml:a1b56716-f996-4480-88b0-3733f2d7733c ]]  {\r\n",
       "comp usage \"z1: A  \" as E10  <<(T,blue) part>> [[psysml:630baa2a-121f-4da7-a3fd-6c76e707d010 ]] {\r\n",
       "}\r\n",
       "}\r\n",
       "}\r\n",
       "E4 ..> E2 [[psysml:0487f209-9870-4837-a273-e80eaf0041e3 ]] : <<import>>*\r\n",
       "E5 - -:|> E3 [[psysml:fdb905ca-fd31-45b2-b41e-28dfb09dbd5e ]] \r\n",
       "E1 ..> E4 [[psysml:60fcb482-826b-48b1-b5dc-27f8a317149a ]] : <<import>>*\r\n",
       "E1 ..> E6 [[psysml:37c9a4c7-80e6-494a-a65a-d8ec35cca65c ]] : <<import>>*\r\n",
       "E8 - -:|> E7 [[psysml:f605a3b7-992a-46f2-9cbf-567dae0e656e ]] \r\n",
       "E9 ..> E4 [[psysml:f74e7f7d-bc69-4c36-9a7b-616abfb119b1 ]] : <<import>>*\r\n",
       "E10 - -:|> E3 [[psysml:7688159c-03f6-437a-9242-bafcaad292a9 ]] \r\n",
       "@enduml\r\n",
       "\n",
       "PlantUML version 1.2022.7(Mon Aug 22 17:01:30 UTC 2022)\n",
       "(EPL source distribution)\n",
       "Java Runtime: OpenJDK Runtime Environment\n",
       "JVM: OpenJDK 64-Bit Server VM\n",
       "Default Encoding: UTF-8\n",
       "Language: en\n",
       "Country: null\n",
       "--></g></svg>"
      ]
     },
     "execution_count": 29,
     "metadata": {},
     "output_type": "execute_result"
    }
   ],
   "source": [
    "%viz --style=\"STDCOLOR\" --view=\"MIXED\" \"PrivateImportTest\""
   ]
  },
  {
   "cell_type": "code",
   "execution_count": 30,
   "id": "4c67d94f",
   "metadata": {
    "execution": {
     "iopub.execute_input": "2024-12-16T14:17:04.667447Z",
     "iopub.status.busy": "2024-12-16T14:17:04.667216Z",
     "iopub.status.idle": "2024-12-16T14:17:04.799292Z",
     "shell.execute_reply": "2024-12-16T14:17:04.799128Z"
    }
   },
   "outputs": [
    {
     "data": {
      "image/svg+xml": [
       "<?xml version=\"1.0\" encoding=\"UTF-8\" standalone=\"no\"?><svg xmlns=\"http://www.w3.org/2000/svg\" xmlns:xlink=\"http://www.w3.org/1999/xlink\" contentStyleType=\"text/css\" height=\"571px\" preserveAspectRatio=\"none\" style=\"width:416px;height:571px;background:#FFFFFF;\" version=\"1.1\" viewBox=\"0 0 416 571\" width=\"416px\" zoomAndPan=\"magnify\"><defs/><g><!--MD5=[fbc87193dbaf4d95561dea2c320d4a47]\n",
       "cluster E1--><g id=\"cluster_E1\"><a href=\"psysml:11a30fa2-fbeb-4b2d-a071-2781e63d5a12\" target=\"_top\" title=\"psysml:11a30fa2-fbeb-4b2d-a071-2781e63d5a12\" xlink:actuate=\"onRequest\" xlink:href=\"psysml:11a30fa2-fbeb-4b2d-a071-2781e63d5a12\" xlink:show=\"new\" xlink:title=\"psysml:11a30fa2-fbeb-4b2d-a071-2781e63d5a12\" xlink:type=\"simple\"><path d=\"M29.04,6 L158.4775,6 A3.75,3.75 0 0 1 160.9775,8.5 L167.9775,28.2969 L407.04,28.2969 A2.5,2.5 0 0 1 409.54,30.7969 L409.54,561.5 A2.5,2.5 0 0 1 407.04,564 L29.04,564 A2.5,2.5 0 0 1 26.54,561.5 L26.54,8.5 A2.5,2.5 0 0 1 29.04,6 \" fill=\"none\" style=\"stroke:#000000;stroke-width:1.5;\"/><line style=\"stroke:#000000;stroke-width:1.5;\" x1=\"26.54\" x2=\"167.9775\" y1=\"28.2969\" y2=\"28.2969\"/><text fill=\"#000000\" font-family=\"sans-serif\" font-size=\"14\" font-weight=\"bold\" lengthAdjust=\"spacing\" textLength=\"128.4375\" x=\"30.54\" y=\"20.9951\">PrivateImportTest</text></a></g><!--MD5=[e4f7fae6ed58524ba242bb0b0d3be6b7]\n",
       "cluster E2--><g id=\"cluster_E2\"><a href=\"psysml:29bb8ef7-a50f-48a8-b243-dfabeed2550d\" target=\"_top\" title=\"psysml:29bb8ef7-a50f-48a8-b243-dfabeed2550d\" xlink:actuate=\"onRequest\" xlink:href=\"psysml:29bb8ef7-a50f-48a8-b243-dfabeed2550d\" xlink:show=\"new\" xlink:title=\"psysml:29bb8ef7-a50f-48a8-b243-dfabeed2550d\" xlink:type=\"simple\"><path d=\"M220.04,417 L239.915,417 A3.75,3.75 0 0 1 242.415,419.5 L249.415,439.2969 L324.04,439.2969 A2.5,2.5 0 0 1 326.54,441.7969 L326.54,521.5 A2.5,2.5 0 0 1 324.04,524 L220.04,524 A2.5,2.5 0 0 1 217.54,521.5 L217.54,419.5 A2.5,2.5 0 0 1 220.04,417 \" fill=\"none\" style=\"stroke:#000000;stroke-width:1.5;\"/><line style=\"stroke:#000000;stroke-width:1.5;\" x1=\"217.54\" x2=\"249.415\" y1=\"439.2969\" y2=\"439.2969\"/><text fill=\"#000000\" font-family=\"sans-serif\" font-size=\"14\" font-weight=\"bold\" lengthAdjust=\"spacing\" textLength=\"18.875\" x=\"221.54\" y=\"431.9951\">P1</text></a></g><!--MD5=[14e3b0961a2654348d326746436168a1]\n",
       "cluster E6--><g id=\"cluster_E6\"><a href=\"psysml:3afe7580-df30-4ff0-95e6-ec63d3638055\" target=\"_top\" title=\"psysml:3afe7580-df30-4ff0-95e6-ec63d3638055\" xlink:actuate=\"onRequest\" xlink:href=\"psysml:3afe7580-df30-4ff0-95e6-ec63d3638055\" xlink:show=\"new\" xlink:title=\"psysml:3afe7580-df30-4ff0-95e6-ec63d3638055\" xlink:type=\"simple\"><path d=\"M77.04,245 L96.915,245 A3.75,3.75 0 0 1 99.415,247.5 L106.415,267.2969 L181.04,267.2969 A2.5,2.5 0 0 1 183.54,269.7969 L183.54,349.5 A2.5,2.5 0 0 1 181.04,352 L77.04,352 A2.5,2.5 0 0 1 74.54,349.5 L74.54,247.5 A2.5,2.5 0 0 1 77.04,245 \" fill=\"none\" style=\"stroke:#000000;stroke-width:1.5;\"/><line style=\"stroke:#000000;stroke-width:1.5;\" x1=\"74.54\" x2=\"106.415\" y1=\"267.2969\" y2=\"267.2969\"/><text fill=\"#000000\" font-family=\"sans-serif\" font-size=\"14\" font-weight=\"bold\" lengthAdjust=\"spacing\" textLength=\"18.875\" x=\"78.54\" y=\"259.9951\">P3</text></a></g><!--MD5=[7f149f147074ac12df2cb0a7728a5fb0]\n",
       "cluster E9--><g id=\"cluster_E9\"><a href=\"psysml:a1b56716-f996-4480-88b0-3733f2d7733c\" target=\"_top\" title=\"psysml:a1b56716-f996-4480-88b0-3733f2d7733c\" xlink:actuate=\"onRequest\" xlink:href=\"psysml:a1b56716-f996-4480-88b0-3733f2d7733c\" xlink:show=\"new\" xlink:title=\"psysml:a1b56716-f996-4480-88b0-3733f2d7733c\" xlink:type=\"simple\"><path d=\"M230.04,65 L249.915,65 A3.75,3.75 0 0 1 252.415,67.5 L259.415,87.2969 L367.04,87.2969 A2.5,2.5 0 0 1 369.54,89.7969 L369.54,177.5 A2.5,2.5 0 0 1 367.04,180 L230.04,180 A2.5,2.5 0 0 1 227.54,177.5 L227.54,67.5 A2.5,2.5 0 0 1 230.04,65 \" fill=\"none\" style=\"stroke:#000000;stroke-width:1.5;\"/><line style=\"stroke:#000000;stroke-width:1.5;\" x1=\"227.54\" x2=\"259.415\" y1=\"87.2969\" y2=\"87.2969\"/><text fill=\"#000000\" font-family=\"sans-serif\" font-size=\"14\" font-weight=\"bold\" lengthAdjust=\"spacing\" textLength=\"18.875\" x=\"231.54\" y=\"79.9951\">P4</text></a></g><!--MD5=[270fce915f116d4de14055a7c1d9a0f3]\n",
       "class E5--><a href=\"psysml:fd0b961b-4bae-44e8-b09a-9c87fac280e3\" target=\"_top\" title=\"psysml:fd0b961b-4bae-44e8-b09a-9c87fac280e3\" xlink:actuate=\"onRequest\" xlink:href=\"psysml:fd0b961b-4bae-44e8-b09a-9c87fac280e3\" xlink:show=\"new\" xlink:title=\"psysml:fd0b961b-4bae-44e8-b09a-9c87fac280e3\" xlink:type=\"simple\"><g id=\"elem_E5\"><rect fill=\"#F1F1F1\" height=\"48.2656\" id=\"E5\" rx=\"10\" ry=\"10\" style=\"stroke:#181818;stroke-width:0.5;\" width=\"68\" x=\"317.54\" y=\"284\"/><ellipse cx=\"332.54\" cy=\"304.1328\" fill=\"#32CD32\" rx=\"11\" ry=\"11\" style=\"stroke:#181818;stroke-width:1.0;\"/><path d=\"M329.3994,310.6328 L329.3994,298.4922 L333.4306,298.4922 Q335.5244,298.4922 336.54,299.4766 Q337.5556,300.4453 337.5556,302.2734 Q337.5556,303.4766 337.1181,304.3828 Q336.6963,305.2891 335.7431,305.8047 Q334.8056,306.3203 333.2744,306.3203 L331.7744,306.3203 L331.7744,310.6328 L329.3994,310.6328 Z M333.0244,304.2266 Q334.0713,304.2266 334.5869,303.7422 Q335.1181,303.2578 335.1181,302.3672 Q335.1181,301.4766 334.6806,301.0391 Q334.2588,300.5859 333.3369,300.5859 L331.7744,300.5859 L331.7744,304.2266 L333.0244,304.2266 Z \" fill=\"#000000\"/><text fill=\"#000000\" font-family=\"sans-serif\" font-size=\"12\" font-style=\"italic\" lengthAdjust=\"spacing\" textLength=\"40\" x=\"344.54\" y=\"300.1387\">«part»</text><text fill=\"#000000\" font-family=\"sans-serif\" font-size=\"14\" lengthAdjust=\"spacing\" textLength=\"25\" x=\"348.04\" y=\"315.9639\">x: A</text><line style=\"stroke:#181818;stroke-width:0.5;\" x1=\"318.54\" x2=\"384.54\" y1=\"324.2656\" y2=\"324.2656\"/></g></a><!--MD5=[b9389687b975829384b498ac4b7476b2]\n",
       "class E8--><a href=\"psysml:87e3ce51-5094-4f5d-8d11-feac4ad1e872\" target=\"_top\" title=\"psysml:87e3ce51-5094-4f5d-8d11-feac4ad1e872\" xlink:actuate=\"onRequest\" xlink:href=\"psysml:87e3ce51-5094-4f5d-8d11-feac4ad1e872\" xlink:show=\"new\" xlink:title=\"psysml:87e3ce51-5094-4f5d-8d11-feac4ad1e872\" xlink:type=\"simple\"><g id=\"elem_E8\"><rect fill=\"#F1F1F1\" height=\"48.2656\" id=\"E8\" rx=\"10\" ry=\"10\" style=\"stroke:#181818;stroke-width:0.5;\" width=\"68\" x=\"132.54\" y=\"108\"/><ellipse cx=\"147.54\" cy=\"128.1328\" fill=\"#32CD32\" rx=\"11\" ry=\"11\" style=\"stroke:#181818;stroke-width:1.0;\"/><path d=\"M144.3994,134.6328 L144.3994,122.4922 L148.4306,122.4922 Q150.5244,122.4922 151.54,123.4766 Q152.5556,124.4453 152.5556,126.2734 Q152.5556,127.4766 152.1181,128.3828 Q151.6963,129.2891 150.7431,129.8047 Q149.8056,130.3203 148.2744,130.3203 L146.7744,130.3203 L146.7744,134.6328 L144.3994,134.6328 Z M148.0244,128.2266 Q149.0713,128.2266 149.5869,127.7422 Q150.1181,127.2578 150.1181,126.3672 Q150.1181,125.4766 149.6806,125.0391 Q149.2588,124.5859 148.3369,124.5859 L146.7744,124.5859 L146.7744,128.2266 L148.0244,128.2266 Z \" fill=\"#000000\"/><text fill=\"#000000\" font-family=\"sans-serif\" font-size=\"12\" font-style=\"italic\" lengthAdjust=\"spacing\" textLength=\"40\" x=\"159.54\" y=\"124.1387\">«part»</text><text fill=\"#000000\" font-family=\"sans-serif\" font-size=\"14\" lengthAdjust=\"spacing\" textLength=\"27\" x=\"162.04\" y=\"139.9639\">z: B</text><line style=\"stroke:#181818;stroke-width:0.5;\" x1=\"133.54\" x2=\"199.54\" y1=\"148.2656\" y2=\"148.2656\"/></g></a><!--MD5=[09b614a08d8cba4a07c9adeb5e0fee81]\n",
       "class E3--><a href=\"psysml:5dfb8e4e-b010-43d6-9ea6-8d8096aa0cbd\" target=\"_top\" title=\"psysml:5dfb8e4e-b010-43d6-9ea6-8d8096aa0cbd\" xlink:actuate=\"onRequest\" xlink:href=\"psysml:5dfb8e4e-b010-43d6-9ea6-8d8096aa0cbd\" xlink:show=\"new\" xlink:title=\"psysml:5dfb8e4e-b010-43d6-9ea6-8d8096aa0cbd\" xlink:type=\"simple\"><g id=\"elem_E3\"><rect fill=\"#F1F1F1\" height=\"40\" id=\"E3\" rx=\"2.5\" ry=\"2.5\" style=\"stroke:#181818;stroke-width:0.5;\" width=\"41\" x=\"261.04\" y=\"460\"/><ellipse cx=\"276.04\" cy=\"476\" fill=\"#008000\" rx=\"11\" ry=\"11\" style=\"stroke:#181818;stroke-width:1.0;\"/><path d=\"M272.8994,482.5 L272.8994,470.3594 L276.6963,470.3594 Q278.6963,470.3594 279.7431,471.0625 Q280.8056,471.7656 280.8056,473.3438 Q280.8056,474.4375 280.3056,475.1563 Q279.8213,475.875 278.9931,476.0625 L278.9931,476.1406 Q279.915,476.3594 280.4775,477.0313 Q281.0556,477.6875 281.0556,478.9531 Q281.0556,480.6094 280.0088,481.5625 Q278.9619,482.5 277.1025,482.5 L272.8994,482.5 Z M276.6806,475.1406 Q277.5713,475.1406 277.9306,474.8125 Q278.3056,474.4688 278.3056,473.7656 Q278.3056,473.0313 277.915,472.7188 Q277.5244,472.3906 276.5869,472.3906 L275.1963,472.3906 L275.1963,475.1406 L276.6806,475.1406 Z M276.8681,480.4844 Q277.7744,480.4844 278.1338,480.0469 Q278.4931,479.5938 278.4931,478.8125 Q278.4931,478.0313 278.1181,477.6406 Q277.7588,477.2344 276.7744,477.2344 L275.1963,477.2344 L275.1963,480.4844 L276.8681,480.4844 Z \" fill=\"#000000\"/><text fill=\"#000000\" font-family=\"sans-serif\" font-size=\"14\" lengthAdjust=\"spacing\" textLength=\"9\" x=\"290.04\" y=\"480.8467\">A</text><line style=\"stroke:#181818;stroke-width:0.5;\" x1=\"262.04\" x2=\"301.04\" y1=\"492\" y2=\"492\"/></g></a><a href=\"psysml:6d745f5d-a6bd-48d3-bb38-b4db6224b450\" target=\"_top\" title=\"psysml:6d745f5d-a6bd-48d3-bb38-b4db6224b450\" xlink:actuate=\"onRequest\" xlink:href=\"psysml:6d745f5d-a6bd-48d3-bb38-b4db6224b450\" xlink:show=\"new\" xlink:title=\"psysml:6d745f5d-a6bd-48d3-bb38-b4db6224b450\" xlink:type=\"simple\"><path d=\"M210.04,281.5 L229.04,281.5 A3.75,3.75 0 0 1 231.54,284 L238.54,303.7969 L243.04,303.7969 A2.5,2.5 0 0 1 245.54,306.2969 L245.54,331.5938 A2.5,2.5 0 0 1 243.04,334.0938 L210.04,334.0938 A2.5,2.5 0 0 1 207.54,331.5938 L207.54,284 A2.5,2.5 0 0 1 210.04,281.5 \" fill=\"#F1F1F1\" style=\"stroke:#181818;stroke-width:0.5;\"/><line style=\"stroke:#181818;stroke-width:0.5;\" x1=\"207.54\" x2=\"238.54\" y1=\"303.7969\" y2=\"303.7969\"/><text fill=\"#000000\" font-family=\"sans-serif\" font-size=\"14\" lengthAdjust=\"spacing\" textLength=\"18\" x=\"211.54\" y=\"296.4951\">P2</text></a><!--MD5=[2156ba9850f5573cc1fc38a6a4b2f02b]\n",
       "class E7--><a href=\"psysml:05031283-db67-47ce-b074-a753e1e8519b\" target=\"_top\" title=\"psysml:05031283-db67-47ce-b074-a753e1e8519b\" xlink:actuate=\"onRequest\" xlink:href=\"psysml:05031283-db67-47ce-b074-a753e1e8519b\" xlink:show=\"new\" xlink:title=\"psysml:05031283-db67-47ce-b074-a753e1e8519b\" xlink:type=\"simple\"><g id=\"elem_E7\"><rect fill=\"#F1F1F1\" height=\"40\" id=\"E7\" rx=\"2.5\" ry=\"2.5\" style=\"stroke:#181818;stroke-width:0.5;\" width=\"42\" x=\"117.54\" y=\"288\"/><ellipse cx=\"132.54\" cy=\"304\" fill=\"#008000\" rx=\"11\" ry=\"11\" style=\"stroke:#181818;stroke-width:1.0;\"/><path d=\"M129.3994,310.5 L129.3994,298.3594 L133.1963,298.3594 Q135.1963,298.3594 136.2431,299.0625 Q137.3056,299.7656 137.3056,301.3438 Q137.3056,302.4375 136.8056,303.1563 Q136.3213,303.875 135.4931,304.0625 L135.4931,304.1406 Q136.415,304.3594 136.9775,305.0313 Q137.5556,305.6875 137.5556,306.9531 Q137.5556,308.6094 136.5088,309.5625 Q135.4619,310.5 133.6025,310.5 L129.3994,310.5 Z M133.1806,303.1406 Q134.0713,303.1406 134.4306,302.8125 Q134.8056,302.4688 134.8056,301.7656 Q134.8056,301.0313 134.415,300.7188 Q134.0244,300.3906 133.0869,300.3906 L131.6963,300.3906 L131.6963,303.1406 L133.1806,303.1406 Z M133.3681,308.4844 Q134.2744,308.4844 134.6338,308.0469 Q134.9931,307.5938 134.9931,306.8125 Q134.9931,306.0313 134.6181,305.6406 Q134.2588,305.2344 133.2744,305.2344 L131.6963,305.2344 L131.6963,308.4844 L133.3681,308.4844 Z \" fill=\"#000000\"/><text fill=\"#000000\" font-family=\"sans-serif\" font-size=\"14\" lengthAdjust=\"spacing\" textLength=\"10\" x=\"146.54\" y=\"308.8467\">B</text><line style=\"stroke:#181818;stroke-width:0.5;\" x1=\"118.54\" x2=\"158.54\" y1=\"320\" y2=\"320\"/></g></a><!--MD5=[96f4274e9e20536e775497830990834d]\n",
       "class E10--><a href=\"psysml:630baa2a-121f-4da7-a3fd-6c76e707d010\" target=\"_top\" title=\"psysml:630baa2a-121f-4da7-a3fd-6c76e707d010\" xlink:actuate=\"onRequest\" xlink:href=\"psysml:630baa2a-121f-4da7-a3fd-6c76e707d010\" xlink:show=\"new\" xlink:title=\"psysml:630baa2a-121f-4da7-a3fd-6c76e707d010\" xlink:type=\"simple\"><g id=\"elem_E10\"><rect fill=\"#F1F1F1\" height=\"48.2656\" id=\"E10\" rx=\"10\" ry=\"10\" style=\"stroke:#181818;stroke-width:0.5;\" width=\"75\" x=\"271.04\" y=\"108\"/><ellipse cx=\"286.04\" cy=\"128.1328\" fill=\"#32CD32\" rx=\"11\" ry=\"11\" style=\"stroke:#181818;stroke-width:1.0;\"/><path d=\"M282.8994,134.6328 L282.8994,122.4922 L286.9306,122.4922 Q289.0244,122.4922 290.04,123.4766 Q291.0556,124.4453 291.0556,126.2734 Q291.0556,127.4766 290.6181,128.3828 Q290.1963,129.2891 289.2431,129.8047 Q288.3056,130.3203 286.7744,130.3203 L285.2744,130.3203 L285.2744,134.6328 L282.8994,134.6328 Z M286.5244,128.2266 Q287.5713,128.2266 288.0869,127.7422 Q288.6181,127.2578 288.6181,126.3672 Q288.6181,125.4766 288.1806,125.0391 Q287.7588,124.5859 286.8369,124.5859 L285.2744,124.5859 L285.2744,128.2266 L286.5244,128.2266 Z \" fill=\"#000000\"/><text fill=\"#000000\" font-family=\"sans-serif\" font-size=\"12\" font-style=\"italic\" lengthAdjust=\"spacing\" textLength=\"40\" x=\"301.54\" y=\"124.1387\">«part»</text><text fill=\"#000000\" font-family=\"sans-serif\" font-size=\"14\" lengthAdjust=\"spacing\" textLength=\"35\" x=\"300.04\" y=\"139.9639\">z1: A</text><line style=\"stroke:#181818;stroke-width:0.5;\" x1=\"272.04\" x2=\"345.04\" y1=\"148.2656\" y2=\"148.2656\"/></g></a><!--MD5=[185131fc0dcab0a4505a2ebe144e961b]\n",
       "link E4 to E2--><g id=\"link_E4_E2\"><a href=\"psysml:0487f209-9870-4837-a273-e80eaf0041e3\" target=\"_top\" title=\"psysml:0487f209-9870-4837-a273-e80eaf0041e3\" xlink:actuate=\"onRequest\" xlink:href=\"psysml:0487f209-9870-4837-a273-e80eaf0041e3\" xlink:show=\"new\" xlink:title=\"psysml:0487f209-9870-4837-a273-e80eaf0041e3\" xlink:type=\"simple\"><path d=\"M216.49,334.66 C212.19,346.96 207.68,362.02 205.54,376 C202.125,398.33 206.71,423.1925 212.3462,442.8963 C213.7553,447.8222 215.2301,452.4257 216.662,456.5866 C216.841,457.1067 217.0193,457.6199 217.1967,458.126 C217.2854,458.379 217.3739,458.6302 217.4622,458.8797 \" fill=\"none\" id=\"E4-to-E2\" style=\"stroke:#181818;stroke-width:1.0;stroke-dasharray:7.0,7.0;\"/><polygon fill=\"#181818\" points=\"217.4622,458.8797,218.2311,449.0609,215.7944,454.166,210.6892,451.7293,217.4622,458.8797\" style=\"stroke:#181818;stroke-width:1.0;\"/><text fill=\"#000000\" font-family=\"sans-serif\" font-size=\"13\" lengthAdjust=\"spacing\" textLength=\"65\" x=\"206.54\" y=\"389.0669\">«import»*</text></a></g><!--MD5=[e9be52314489bd878ff4c7144b63c9e1]\n",
       "link E5 to E3--><g id=\"link_E5_E3\"><a href=\"psysml:fdb905ca-fd31-45b2-b41e-28dfb09dbd5e\" target=\"_top\" title=\"psysml:fdb905ca-fd31-45b2-b41e-28dfb09dbd5e\" xlink:actuate=\"onRequest\" xlink:href=\"psysml:fdb905ca-fd31-45b2-b41e-28dfb09dbd5e\" xlink:show=\"new\" xlink:title=\"psysml:fdb905ca-fd31-45b2-b41e-28dfb09dbd5e\" xlink:type=\"simple\"><path d=\"M341.95,332.28 C330.39,360.37 310.79,407.97 297.06,441.31 \" fill=\"none\" id=\"E5-to-E3\" style=\"stroke:#181818;stroke-width:1.0;\"/><polygon fill=\"#FFFFFF\" points=\"289.39,459.93,290.1484,439.6957,303.0947,445.0242,289.39,459.93\" style=\"stroke:#181818;stroke-width:1.0;\"/><ellipse cx=\"294.1673\" cy=\"435.186\" fill=\"#181818\" rx=\"2\" ry=\"2\" style=\"stroke:#181818;stroke-width:1.0;\"/><ellipse cx=\"303.4147\" cy=\"438.992\" fill=\"#181818\" rx=\"2\" ry=\"2\" style=\"stroke:#181818;stroke-width:1.0;\"/></a></g><!--MD5=[ee384bb554873b72f85793eae40e290c]\n",
       "link E1 to E4--><g id=\"link_E1_E4\"><a href=\"psysml:60fcb482-826b-48b1-b5dc-27f8a317149a\" target=\"_top\" title=\"psysml:60fcb482-826b-48b1-b5dc-27f8a317149a\" xlink:actuate=\"onRequest\" xlink:href=\"psysml:60fcb482-826b-48b1-b5dc-27f8a317149a\" xlink:show=\"new\" xlink:title=\"psysml:60fcb482-826b-48b1-b5dc-27f8a317149a\" xlink:type=\"simple\"><path d=\"M34.51,133.12 C33.85,135.64 23.69,176.19 42.54,196 C56.54,210.72 67.74,199.44 87.54,204 C127.16,213.13 142.79,204.91 175.54,229 C192.1,241.18 204.78,260.48 213.36,276.84 \" fill=\"none\" id=\"E1-to-E4\" style=\"stroke:#181818;stroke-width:1.0;stroke-dasharray:7.0,7.0;\"/><polygon fill=\"#181818\" points=\"215.67,281.37,215.1474,271.535,213.3997,276.9151,208.0196,275.1674,215.67,281.37\" style=\"stroke:#181818;stroke-width:1.0;\"/><text fill=\"#000000\" font-family=\"sans-serif\" font-size=\"13\" lengthAdjust=\"spacing\" textLength=\"65\" x=\"163.54\" y=\"217.0669\">«import»*</text></a></g><!--MD5=[ccbd3af71bf83df0ec2a2db62d6d7130]\n",
       "link E1 to E6--><g id=\"link_E1_E6\"><a href=\"psysml:37c9a4c7-80e6-494a-a65a-d8ec35cca65c\" target=\"_top\" title=\"psysml:37c9a4c7-80e6-494a-a65a-d8ec35cca65c\" xlink:actuate=\"onRequest\" xlink:href=\"psysml:37c9a4c7-80e6-494a-a65a-d8ec35cca65c\" xlink:show=\"new\" xlink:title=\"psysml:37c9a4c7-80e6-494a-a65a-d8ec35cca65c\" xlink:type=\"simple\"><path d=\"M26.4524,146.2391 C26.2398,146.6264 26.0252,147.0207 25.8089,147.4216 C24.9438,149.0255 24.0519,150.7367 23.1522,152.5415 C21.3527,156.1512 19.5216,160.1353 17.8088,164.3838 C10.9575,181.3775 6,202.6 12.54,221 C20.535,243.49 37.2075,264.37 52.2763,279.9238 C59.8106,287.7006 66.9441,294.1459 72.3914,298.7952 C73.0723,299.3763 73.7269,299.9294 74.3526,300.4535 \" fill=\"none\" id=\"E1-to-E6\" style=\"stroke:#181818;stroke-width:1.0;stroke-dasharray:7.0,7.0;\"/><polygon fill=\"#181818\" points=\"74.3526,300.4535,70.0217,291.608,70.5196,297.2429,64.8847,297.7408,74.3526,300.4535\" style=\"stroke:#181818;stroke-width:1.0;\"/><text fill=\"#000000\" font-family=\"sans-serif\" font-size=\"13\" lengthAdjust=\"spacing\" textLength=\"65\" x=\"13.54\" y=\"217.0669\">«import»*</text></a></g><!--MD5=[bfa3c8b0d15052fdf50ae9310b491027]\n",
       "link E8 to E7--><g id=\"link_E8_E7\"><a href=\"psysml:f605a3b7-992a-46f2-9cbf-567dae0e656e\" target=\"_top\" title=\"psysml:f605a3b7-992a-46f2-9cbf-567dae0e656e\" xlink:actuate=\"onRequest\" xlink:href=\"psysml:f605a3b7-992a-46f2-9cbf-567dae0e656e\" xlink:show=\"new\" xlink:title=\"psysml:f605a3b7-992a-46f2-9cbf-567dae0e656e\" xlink:type=\"simple\"><path d=\"M181.2,156.24 C190.68,169.57 204.11,185.65 219.54,196 C229.23,202.5 237.66,194.58 244.54,204 C248.99,210.1 249.61,215.4 244.54,221 C232.39,234.4 177.61,217.63 163.54,229 C151.8,238.49 145.49,253.52 142.14,267.86 \" fill=\"none\" id=\"E8-to-E7\" style=\"stroke:#181818;stroke-width:1.0;\"/><polygon fill=\"#FFFFFF\" points=\"139.04,287.67,135.0558,267.8174,148.8881,269.9778,139.04,287.67\" style=\"stroke:#181818;stroke-width:1.0;\"/><ellipse cx=\"137.9114\" cy=\"262.4943\" fill=\"#181818\" rx=\"2\" ry=\"2\" style=\"stroke:#181818;stroke-width:1.0;\"/><ellipse cx=\"147.7916\" cy=\"264.0374\" fill=\"#181818\" rx=\"2\" ry=\"2\" style=\"stroke:#181818;stroke-width:1.0;\"/></a></g><!--MD5=[c2be97adba6ddfe1c8f349fab141c927]\n",
       "link E9 to E4--><g id=\"link_E9_E4\"><a href=\"psysml:f74e7f7d-bc69-4c36-9a7b-616abfb119b1\" target=\"_top\" title=\"psysml:f74e7f7d-bc69-4c36-9a7b-616abfb119b1\" xlink:actuate=\"onRequest\" xlink:href=\"psysml:f74e7f7d-bc69-4c36-9a7b-616abfb119b1\" xlink:show=\"new\" xlink:title=\"psysml:f74e7f7d-bc69-4c36-9a7b-616abfb119b1\" xlink:type=\"simple\"><path d=\"M247.685,180.1111 C249.2869,188.0363 250.6725,196.215 251.54,204 C254.29,228.72 247.17,256.05 239.83,276.34 \" fill=\"none\" id=\"E9-to-E4\" style=\"stroke:#181818;stroke-width:1.0;stroke-dasharray:7.0,7.0;\"/><polygon fill=\"#181818\" points=\"238.07,281.08,244.9754,274.0575,239.8256,276.3984,237.4848,271.2485,238.07,281.08\" style=\"stroke:#181818;stroke-width:1.0;\"/><text fill=\"#000000\" font-family=\"sans-serif\" font-size=\"13\" lengthAdjust=\"spacing\" textLength=\"65\" x=\"252.54\" y=\"217.0669\">«import»*</text></a></g><!--MD5=[feeac5eb423634930294aa81f2d25a4c]\n",
       "link E10 to E3--><g id=\"link_E10_E3\"><a href=\"psysml:7688159c-03f6-437a-9242-bafcaad292a9\" target=\"_top\" title=\"psysml:7688159c-03f6-437a-9242-bafcaad292a9\" xlink:actuate=\"onRequest\" xlink:href=\"psysml:7688159c-03f6-437a-9242-bafcaad292a9\" xlink:show=\"new\" xlink:title=\"psysml:7688159c-03f6-437a-9242-bafcaad292a9\" xlink:type=\"simple\"><path d=\"M336.59,156.04 C356.2,174.88 376,201.49 358.54,221 C347.8,233 297.4,217.11 286.54,229 C272.73,244.12 276.56,372.8 279.53,439.4 \" fill=\"none\" id=\"E10-to-E3\" style=\"stroke:#181818;stroke-width:1.0;\"/><polygon fill=\"#FFFFFF\" points=\"280.5,459.71,272.5985,441.0669,286.5824,440.3967,280.5,459.71\" style=\"stroke:#181818;stroke-width:1.0;\"/><ellipse cx=\"274.3233\" cy=\"435.2777\" fill=\"#181818\" rx=\"2\" ry=\"2\" style=\"stroke:#181818;stroke-width:1.0;\"/><ellipse cx=\"284.3119\" cy=\"434.799\" fill=\"#181818\" rx=\"2\" ry=\"2\" style=\"stroke:#181818;stroke-width:1.0;\"/></a></g><!--MD5=[5e05b5d620f38ccc431bbb34933c5d25]\n",
       "@startuml\r\n",
       " \r\n",
       "package \"PrivateImportTest\" as E1  [[psysml:11a30fa2-fbeb-4b2d-a071-2781e63d5a12 ]]  {\r\n",
       "package \"P1\" as E2  [[psysml:29bb8ef7-a50f-48a8-b243-dfabeed2550d ]]  {\r\n",
       "comp def \"A\" as E3  << << (B,green) >> [[psysml:5dfb8e4e-b010-43d6-9ea6-8d8096aa0cbd ]] {\r\n",
       "}\r\n",
       "}\r\n",
       "package \"P2\" as E4  [[psysml:6d745f5d-a6bd-48d3-bb38-b4db6224b450 ]]  {\r\n",
       "}\r\n",
       "comp usage \"x: A  \" as E5  << << (P,limegreen) part>> [[psysml:fd0b961b-4bae-44e8-b09a-9c87fac280e3 ]] {\r\n",
       "}\r\n",
       "package \"P3\" as E6  [[psysml:3afe7580-df30-4ff0-95e6-ec63d3638055 ]]  {\r\n",
       "comp def \"B\" as E7  << << (B,green) >> [[psysml:05031283-db67-47ce-b074-a753e1e8519b ]] {\r\n",
       "}\r\n",
       "}\r\n",
       "comp usage \"z: B  \" as E8  << << (P,limegreen) part>> [[psysml:87e3ce51-5094-4f5d-8d11-feac4ad1e872 ]] {\r\n",
       "}\r\n",
       "package \"P4\" as E9  [[psysml:a1b56716-f996-4480-88b0-3733f2d7733c ]]  {\r\n",
       "comp usage \"z1: A  \" as E10  << << (P,limegreen) part>> [[psysml:630baa2a-121f-4da7-a3fd-6c76e707d010 ]] {\r\n",
       "}\r\n",
       "}\r\n",
       "}\r\n",
       "E4 ..> E2 [[psysml:0487f209-9870-4837-a273-e80eaf0041e3 ]] : <<import>>*\r\n",
       "E5 - -:|> E3 [[psysml:fdb905ca-fd31-45b2-b41e-28dfb09dbd5e ]] \r\n",
       "E1 ..> E4 [[psysml:60fcb482-826b-48b1-b5dc-27f8a317149a ]] : <<import>>*\r\n",
       "E1 ..> E6 [[psysml:37c9a4c7-80e6-494a-a65a-d8ec35cca65c ]] : <<import>>*\r\n",
       "E8 - -:|> E7 [[psysml:f605a3b7-992a-46f2-9cbf-567dae0e656e ]] \r\n",
       "E9 ..> E4 [[psysml:f74e7f7d-bc69-4c36-9a7b-616abfb119b1 ]] : <<import>>*\r\n",
       "E10 - -:|> E3 [[psysml:7688159c-03f6-437a-9242-bafcaad292a9 ]] \r\n",
       "@enduml\r\n",
       "\n",
       "PlantUML version 1.2022.7(Mon Aug 22 17:01:30 UTC 2022)\n",
       "(EPL source distribution)\n",
       "Java Runtime: OpenJDK Runtime Environment\n",
       "JVM: OpenJDK 64-Bit Server VM\n",
       "Default Encoding: UTF-8\n",
       "Language: en\n",
       "Country: null\n",
       "--></g></svg>"
      ]
     },
     "execution_count": 30,
     "metadata": {},
     "output_type": "execute_result"
    }
   ],
   "source": [
    "%viz --style=\"PLANTUML\" --view=\"Default\" \"PrivateImportTest\""
   ]
  },
  {
   "cell_type": "code",
   "execution_count": 31,
   "id": "ea7c58a9",
   "metadata": {
    "execution": {
     "iopub.execute_input": "2024-12-16T14:17:04.855905Z",
     "iopub.status.busy": "2024-12-16T14:17:04.855646Z",
     "iopub.status.idle": "2024-12-16T14:17:04.884995Z",
     "shell.execute_reply": "2024-12-16T14:17:04.883866Z"
    }
   },
   "outputs": [
    {
     "data": {
      "image/svg+xml": [
       "<?xml version=\"1.0\" encoding=\"UTF-8\" standalone=\"no\"?><svg xmlns=\"http://www.w3.org/2000/svg\" xmlns:xlink=\"http://www.w3.org/1999/xlink\" contentStyleType=\"text/css\" height=\"571px\" preserveAspectRatio=\"none\" style=\"width:416px;height:571px;background:#FFFFFF;\" version=\"1.1\" viewBox=\"0 0 416 571\" width=\"416px\" zoomAndPan=\"magnify\"><defs/><g><!--MD5=[fbc87193dbaf4d95561dea2c320d4a47]\n",
       "cluster E1--><g id=\"cluster_E1\"><a href=\"psysml:11a30fa2-fbeb-4b2d-a071-2781e63d5a12\" target=\"_top\" title=\"psysml:11a30fa2-fbeb-4b2d-a071-2781e63d5a12\" xlink:actuate=\"onRequest\" xlink:href=\"psysml:11a30fa2-fbeb-4b2d-a071-2781e63d5a12\" xlink:show=\"new\" xlink:title=\"psysml:11a30fa2-fbeb-4b2d-a071-2781e63d5a12\" xlink:type=\"simple\"><path d=\"M29.04,6 L158.4775,6 A3.75,3.75 0 0 1 160.9775,8.5 L167.9775,28.2969 L407.04,28.2969 A2.5,2.5 0 0 1 409.54,30.7969 L409.54,561.5 A2.5,2.5 0 0 1 407.04,564 L29.04,564 A2.5,2.5 0 0 1 26.54,561.5 L26.54,8.5 A2.5,2.5 0 0 1 29.04,6 \" fill=\"none\" style=\"stroke:#000000;stroke-width:1.5;\"/><line style=\"stroke:#000000;stroke-width:1.5;\" x1=\"26.54\" x2=\"167.9775\" y1=\"28.2969\" y2=\"28.2969\"/><text fill=\"#000000\" font-family=\"sans-serif\" font-size=\"14\" font-weight=\"bold\" lengthAdjust=\"spacing\" textLength=\"128.4375\" x=\"30.54\" y=\"20.9951\">PrivateImportTest</text></a></g><!--MD5=[e4f7fae6ed58524ba242bb0b0d3be6b7]\n",
       "cluster E2--><g id=\"cluster_E2\"><a href=\"psysml:29bb8ef7-a50f-48a8-b243-dfabeed2550d\" target=\"_top\" title=\"psysml:29bb8ef7-a50f-48a8-b243-dfabeed2550d\" xlink:actuate=\"onRequest\" xlink:href=\"psysml:29bb8ef7-a50f-48a8-b243-dfabeed2550d\" xlink:show=\"new\" xlink:title=\"psysml:29bb8ef7-a50f-48a8-b243-dfabeed2550d\" xlink:type=\"simple\"><path d=\"M220.04,417 L239.915,417 A3.75,3.75 0 0 1 242.415,419.5 L249.415,439.2969 L324.04,439.2969 A2.5,2.5 0 0 1 326.54,441.7969 L326.54,521.5 A2.5,2.5 0 0 1 324.04,524 L220.04,524 A2.5,2.5 0 0 1 217.54,521.5 L217.54,419.5 A2.5,2.5 0 0 1 220.04,417 \" fill=\"none\" style=\"stroke:#000000;stroke-width:1.5;\"/><line style=\"stroke:#000000;stroke-width:1.5;\" x1=\"217.54\" x2=\"249.415\" y1=\"439.2969\" y2=\"439.2969\"/><text fill=\"#000000\" font-family=\"sans-serif\" font-size=\"14\" font-weight=\"bold\" lengthAdjust=\"spacing\" textLength=\"18.875\" x=\"221.54\" y=\"431.9951\">P1</text></a></g><!--MD5=[14e3b0961a2654348d326746436168a1]\n",
       "cluster E6--><g id=\"cluster_E6\"><a href=\"psysml:3afe7580-df30-4ff0-95e6-ec63d3638055\" target=\"_top\" title=\"psysml:3afe7580-df30-4ff0-95e6-ec63d3638055\" xlink:actuate=\"onRequest\" xlink:href=\"psysml:3afe7580-df30-4ff0-95e6-ec63d3638055\" xlink:show=\"new\" xlink:title=\"psysml:3afe7580-df30-4ff0-95e6-ec63d3638055\" xlink:type=\"simple\"><path d=\"M77.04,245 L96.915,245 A3.75,3.75 0 0 1 99.415,247.5 L106.415,267.2969 L181.04,267.2969 A2.5,2.5 0 0 1 183.54,269.7969 L183.54,349.5 A2.5,2.5 0 0 1 181.04,352 L77.04,352 A2.5,2.5 0 0 1 74.54,349.5 L74.54,247.5 A2.5,2.5 0 0 1 77.04,245 \" fill=\"none\" style=\"stroke:#000000;stroke-width:1.5;\"/><line style=\"stroke:#000000;stroke-width:1.5;\" x1=\"74.54\" x2=\"106.415\" y1=\"267.2969\" y2=\"267.2969\"/><text fill=\"#000000\" font-family=\"sans-serif\" font-size=\"14\" font-weight=\"bold\" lengthAdjust=\"spacing\" textLength=\"18.875\" x=\"78.54\" y=\"259.9951\">P3</text></a></g><!--MD5=[7f149f147074ac12df2cb0a7728a5fb0]\n",
       "cluster E9--><g id=\"cluster_E9\"><a href=\"psysml:a1b56716-f996-4480-88b0-3733f2d7733c\" target=\"_top\" title=\"psysml:a1b56716-f996-4480-88b0-3733f2d7733c\" xlink:actuate=\"onRequest\" xlink:href=\"psysml:a1b56716-f996-4480-88b0-3733f2d7733c\" xlink:show=\"new\" xlink:title=\"psysml:a1b56716-f996-4480-88b0-3733f2d7733c\" xlink:type=\"simple\"><path d=\"M230.04,65 L249.915,65 A3.75,3.75 0 0 1 252.415,67.5 L259.415,87.2969 L367.04,87.2969 A2.5,2.5 0 0 1 369.54,89.7969 L369.54,177.5 A2.5,2.5 0 0 1 367.04,180 L230.04,180 A2.5,2.5 0 0 1 227.54,177.5 L227.54,67.5 A2.5,2.5 0 0 1 230.04,65 \" fill=\"none\" style=\"stroke:#000000;stroke-width:1.5;\"/><line style=\"stroke:#000000;stroke-width:1.5;\" x1=\"227.54\" x2=\"259.415\" y1=\"87.2969\" y2=\"87.2969\"/><text fill=\"#000000\" font-family=\"sans-serif\" font-size=\"14\" font-weight=\"bold\" lengthAdjust=\"spacing\" textLength=\"18.875\" x=\"231.54\" y=\"79.9951\">P4</text></a></g><!--MD5=[270fce915f116d4de14055a7c1d9a0f3]\n",
       "class E5--><a href=\"psysml:fd0b961b-4bae-44e8-b09a-9c87fac280e3\" target=\"_top\" title=\"psysml:fd0b961b-4bae-44e8-b09a-9c87fac280e3\" xlink:actuate=\"onRequest\" xlink:href=\"psysml:fd0b961b-4bae-44e8-b09a-9c87fac280e3\" xlink:show=\"new\" xlink:title=\"psysml:fd0b961b-4bae-44e8-b09a-9c87fac280e3\" xlink:type=\"simple\"><g id=\"elem_E5\"><rect fill=\"#F1F1F1\" height=\"48.2656\" id=\"E5\" rx=\"10\" ry=\"10\" style=\"stroke:#181818;stroke-width:0.5;\" width=\"68\" x=\"317.54\" y=\"284\"/><ellipse cx=\"332.54\" cy=\"304.1328\" fill=\"#32CD32\" rx=\"11\" ry=\"11\" style=\"stroke:#181818;stroke-width:1.0;\"/><path d=\"M329.3994,310.6328 L329.3994,298.4922 L333.4306,298.4922 Q335.5244,298.4922 336.54,299.4766 Q337.5556,300.4453 337.5556,302.2734 Q337.5556,303.4766 337.1181,304.3828 Q336.6963,305.2891 335.7431,305.8047 Q334.8056,306.3203 333.2744,306.3203 L331.7744,306.3203 L331.7744,310.6328 L329.3994,310.6328 Z M333.0244,304.2266 Q334.0713,304.2266 334.5869,303.7422 Q335.1181,303.2578 335.1181,302.3672 Q335.1181,301.4766 334.6806,301.0391 Q334.2588,300.5859 333.3369,300.5859 L331.7744,300.5859 L331.7744,304.2266 L333.0244,304.2266 Z \" fill=\"#000000\"/><text fill=\"#000000\" font-family=\"sans-serif\" font-size=\"12\" font-style=\"italic\" lengthAdjust=\"spacing\" textLength=\"40\" x=\"344.54\" y=\"300.1387\">«part»</text><text fill=\"#000000\" font-family=\"sans-serif\" font-size=\"14\" lengthAdjust=\"spacing\" textLength=\"25\" x=\"348.04\" y=\"315.9639\">x: A</text><line style=\"stroke:#181818;stroke-width:0.5;\" x1=\"318.54\" x2=\"384.54\" y1=\"324.2656\" y2=\"324.2656\"/></g></a><!--MD5=[b9389687b975829384b498ac4b7476b2]\n",
       "class E8--><a href=\"psysml:87e3ce51-5094-4f5d-8d11-feac4ad1e872\" target=\"_top\" title=\"psysml:87e3ce51-5094-4f5d-8d11-feac4ad1e872\" xlink:actuate=\"onRequest\" xlink:href=\"psysml:87e3ce51-5094-4f5d-8d11-feac4ad1e872\" xlink:show=\"new\" xlink:title=\"psysml:87e3ce51-5094-4f5d-8d11-feac4ad1e872\" xlink:type=\"simple\"><g id=\"elem_E8\"><rect fill=\"#F1F1F1\" height=\"48.2656\" id=\"E8\" rx=\"10\" ry=\"10\" style=\"stroke:#181818;stroke-width:0.5;\" width=\"68\" x=\"132.54\" y=\"108\"/><ellipse cx=\"147.54\" cy=\"128.1328\" fill=\"#32CD32\" rx=\"11\" ry=\"11\" style=\"stroke:#181818;stroke-width:1.0;\"/><path d=\"M144.3994,134.6328 L144.3994,122.4922 L148.4306,122.4922 Q150.5244,122.4922 151.54,123.4766 Q152.5556,124.4453 152.5556,126.2734 Q152.5556,127.4766 152.1181,128.3828 Q151.6963,129.2891 150.7431,129.8047 Q149.8056,130.3203 148.2744,130.3203 L146.7744,130.3203 L146.7744,134.6328 L144.3994,134.6328 Z M148.0244,128.2266 Q149.0713,128.2266 149.5869,127.7422 Q150.1181,127.2578 150.1181,126.3672 Q150.1181,125.4766 149.6806,125.0391 Q149.2588,124.5859 148.3369,124.5859 L146.7744,124.5859 L146.7744,128.2266 L148.0244,128.2266 Z \" fill=\"#000000\"/><text fill=\"#000000\" font-family=\"sans-serif\" font-size=\"12\" font-style=\"italic\" lengthAdjust=\"spacing\" textLength=\"40\" x=\"159.54\" y=\"124.1387\">«part»</text><text fill=\"#000000\" font-family=\"sans-serif\" font-size=\"14\" lengthAdjust=\"spacing\" textLength=\"27\" x=\"162.04\" y=\"139.9639\">z: B</text><line style=\"stroke:#181818;stroke-width:0.5;\" x1=\"133.54\" x2=\"199.54\" y1=\"148.2656\" y2=\"148.2656\"/></g></a><!--MD5=[09b614a08d8cba4a07c9adeb5e0fee81]\n",
       "class E3--><a href=\"psysml:5dfb8e4e-b010-43d6-9ea6-8d8096aa0cbd\" target=\"_top\" title=\"psysml:5dfb8e4e-b010-43d6-9ea6-8d8096aa0cbd\" xlink:actuate=\"onRequest\" xlink:href=\"psysml:5dfb8e4e-b010-43d6-9ea6-8d8096aa0cbd\" xlink:show=\"new\" xlink:title=\"psysml:5dfb8e4e-b010-43d6-9ea6-8d8096aa0cbd\" xlink:type=\"simple\"><g id=\"elem_E3\"><rect fill=\"#F1F1F1\" height=\"40\" id=\"E3\" rx=\"2.5\" ry=\"2.5\" style=\"stroke:#181818;stroke-width:0.5;\" width=\"41\" x=\"261.04\" y=\"460\"/><ellipse cx=\"276.04\" cy=\"476\" fill=\"#008000\" rx=\"11\" ry=\"11\" style=\"stroke:#181818;stroke-width:1.0;\"/><path d=\"M272.8994,482.5 L272.8994,470.3594 L276.6963,470.3594 Q278.6963,470.3594 279.7431,471.0625 Q280.8056,471.7656 280.8056,473.3438 Q280.8056,474.4375 280.3056,475.1563 Q279.8213,475.875 278.9931,476.0625 L278.9931,476.1406 Q279.915,476.3594 280.4775,477.0313 Q281.0556,477.6875 281.0556,478.9531 Q281.0556,480.6094 280.0088,481.5625 Q278.9619,482.5 277.1025,482.5 L272.8994,482.5 Z M276.6806,475.1406 Q277.5713,475.1406 277.9306,474.8125 Q278.3056,474.4688 278.3056,473.7656 Q278.3056,473.0313 277.915,472.7188 Q277.5244,472.3906 276.5869,472.3906 L275.1963,472.3906 L275.1963,475.1406 L276.6806,475.1406 Z M276.8681,480.4844 Q277.7744,480.4844 278.1338,480.0469 Q278.4931,479.5938 278.4931,478.8125 Q278.4931,478.0313 278.1181,477.6406 Q277.7588,477.2344 276.7744,477.2344 L275.1963,477.2344 L275.1963,480.4844 L276.8681,480.4844 Z \" fill=\"#000000\"/><text fill=\"#000000\" font-family=\"sans-serif\" font-size=\"14\" lengthAdjust=\"spacing\" textLength=\"9\" x=\"290.04\" y=\"480.8467\">A</text><line style=\"stroke:#181818;stroke-width:0.5;\" x1=\"262.04\" x2=\"301.04\" y1=\"492\" y2=\"492\"/></g></a><a href=\"psysml:6d745f5d-a6bd-48d3-bb38-b4db6224b450\" target=\"_top\" title=\"psysml:6d745f5d-a6bd-48d3-bb38-b4db6224b450\" xlink:actuate=\"onRequest\" xlink:href=\"psysml:6d745f5d-a6bd-48d3-bb38-b4db6224b450\" xlink:show=\"new\" xlink:title=\"psysml:6d745f5d-a6bd-48d3-bb38-b4db6224b450\" xlink:type=\"simple\"><path d=\"M210.04,281.5 L229.04,281.5 A3.75,3.75 0 0 1 231.54,284 L238.54,303.7969 L243.04,303.7969 A2.5,2.5 0 0 1 245.54,306.2969 L245.54,331.5938 A2.5,2.5 0 0 1 243.04,334.0938 L210.04,334.0938 A2.5,2.5 0 0 1 207.54,331.5938 L207.54,284 A2.5,2.5 0 0 1 210.04,281.5 \" fill=\"#F1F1F1\" style=\"stroke:#181818;stroke-width:0.5;\"/><line style=\"stroke:#181818;stroke-width:0.5;\" x1=\"207.54\" x2=\"238.54\" y1=\"303.7969\" y2=\"303.7969\"/><text fill=\"#000000\" font-family=\"sans-serif\" font-size=\"14\" lengthAdjust=\"spacing\" textLength=\"18\" x=\"211.54\" y=\"296.4951\">P2</text></a><!--MD5=[2156ba9850f5573cc1fc38a6a4b2f02b]\n",
       "class E7--><a href=\"psysml:05031283-db67-47ce-b074-a753e1e8519b\" target=\"_top\" title=\"psysml:05031283-db67-47ce-b074-a753e1e8519b\" xlink:actuate=\"onRequest\" xlink:href=\"psysml:05031283-db67-47ce-b074-a753e1e8519b\" xlink:show=\"new\" xlink:title=\"psysml:05031283-db67-47ce-b074-a753e1e8519b\" xlink:type=\"simple\"><g id=\"elem_E7\"><rect fill=\"#F1F1F1\" height=\"40\" id=\"E7\" rx=\"2.5\" ry=\"2.5\" style=\"stroke:#181818;stroke-width:0.5;\" width=\"42\" x=\"117.54\" y=\"288\"/><ellipse cx=\"132.54\" cy=\"304\" fill=\"#008000\" rx=\"11\" ry=\"11\" style=\"stroke:#181818;stroke-width:1.0;\"/><path d=\"M129.3994,310.5 L129.3994,298.3594 L133.1963,298.3594 Q135.1963,298.3594 136.2431,299.0625 Q137.3056,299.7656 137.3056,301.3438 Q137.3056,302.4375 136.8056,303.1563 Q136.3213,303.875 135.4931,304.0625 L135.4931,304.1406 Q136.415,304.3594 136.9775,305.0313 Q137.5556,305.6875 137.5556,306.9531 Q137.5556,308.6094 136.5088,309.5625 Q135.4619,310.5 133.6025,310.5 L129.3994,310.5 Z M133.1806,303.1406 Q134.0713,303.1406 134.4306,302.8125 Q134.8056,302.4688 134.8056,301.7656 Q134.8056,301.0313 134.415,300.7188 Q134.0244,300.3906 133.0869,300.3906 L131.6963,300.3906 L131.6963,303.1406 L133.1806,303.1406 Z M133.3681,308.4844 Q134.2744,308.4844 134.6338,308.0469 Q134.9931,307.5938 134.9931,306.8125 Q134.9931,306.0313 134.6181,305.6406 Q134.2588,305.2344 133.2744,305.2344 L131.6963,305.2344 L131.6963,308.4844 L133.3681,308.4844 Z \" fill=\"#000000\"/><text fill=\"#000000\" font-family=\"sans-serif\" font-size=\"14\" lengthAdjust=\"spacing\" textLength=\"10\" x=\"146.54\" y=\"308.8467\">B</text><line style=\"stroke:#181818;stroke-width:0.5;\" x1=\"118.54\" x2=\"158.54\" y1=\"320\" y2=\"320\"/></g></a><!--MD5=[96f4274e9e20536e775497830990834d]\n",
       "class E10--><a href=\"psysml:630baa2a-121f-4da7-a3fd-6c76e707d010\" target=\"_top\" title=\"psysml:630baa2a-121f-4da7-a3fd-6c76e707d010\" xlink:actuate=\"onRequest\" xlink:href=\"psysml:630baa2a-121f-4da7-a3fd-6c76e707d010\" xlink:show=\"new\" xlink:title=\"psysml:630baa2a-121f-4da7-a3fd-6c76e707d010\" xlink:type=\"simple\"><g id=\"elem_E10\"><rect fill=\"#F1F1F1\" height=\"48.2656\" id=\"E10\" rx=\"10\" ry=\"10\" style=\"stroke:#181818;stroke-width:0.5;\" width=\"75\" x=\"271.04\" y=\"108\"/><ellipse cx=\"286.04\" cy=\"128.1328\" fill=\"#32CD32\" rx=\"11\" ry=\"11\" style=\"stroke:#181818;stroke-width:1.0;\"/><path d=\"M282.8994,134.6328 L282.8994,122.4922 L286.9306,122.4922 Q289.0244,122.4922 290.04,123.4766 Q291.0556,124.4453 291.0556,126.2734 Q291.0556,127.4766 290.6181,128.3828 Q290.1963,129.2891 289.2431,129.8047 Q288.3056,130.3203 286.7744,130.3203 L285.2744,130.3203 L285.2744,134.6328 L282.8994,134.6328 Z M286.5244,128.2266 Q287.5713,128.2266 288.0869,127.7422 Q288.6181,127.2578 288.6181,126.3672 Q288.6181,125.4766 288.1806,125.0391 Q287.7588,124.5859 286.8369,124.5859 L285.2744,124.5859 L285.2744,128.2266 L286.5244,128.2266 Z \" fill=\"#000000\"/><text fill=\"#000000\" font-family=\"sans-serif\" font-size=\"12\" font-style=\"italic\" lengthAdjust=\"spacing\" textLength=\"40\" x=\"301.54\" y=\"124.1387\">«part»</text><text fill=\"#000000\" font-family=\"sans-serif\" font-size=\"14\" lengthAdjust=\"spacing\" textLength=\"35\" x=\"300.04\" y=\"139.9639\">z1: A</text><line style=\"stroke:#181818;stroke-width:0.5;\" x1=\"272.04\" x2=\"345.04\" y1=\"148.2656\" y2=\"148.2656\"/></g></a><!--MD5=[185131fc0dcab0a4505a2ebe144e961b]\n",
       "link E4 to E2--><g id=\"link_E4_E2\"><a href=\"psysml:0487f209-9870-4837-a273-e80eaf0041e3\" target=\"_top\" title=\"psysml:0487f209-9870-4837-a273-e80eaf0041e3\" xlink:actuate=\"onRequest\" xlink:href=\"psysml:0487f209-9870-4837-a273-e80eaf0041e3\" xlink:show=\"new\" xlink:title=\"psysml:0487f209-9870-4837-a273-e80eaf0041e3\" xlink:type=\"simple\"><path d=\"M216.49,334.66 C212.19,346.96 207.68,362.02 205.54,376 C202.125,398.33 206.71,423.1925 212.3462,442.8963 C213.7553,447.8222 215.2301,452.4257 216.662,456.5866 C216.841,457.1067 217.0193,457.6199 217.1967,458.126 C217.2854,458.379 217.3739,458.6302 217.4622,458.8797 \" fill=\"none\" id=\"E4-to-E2\" style=\"stroke:#181818;stroke-width:1.0;stroke-dasharray:7.0,7.0;\"/><polygon fill=\"#181818\" points=\"217.4622,458.8797,218.2311,449.0609,215.7944,454.166,210.6892,451.7293,217.4622,458.8797\" style=\"stroke:#181818;stroke-width:1.0;\"/><text fill=\"#000000\" font-family=\"sans-serif\" font-size=\"13\" lengthAdjust=\"spacing\" textLength=\"65\" x=\"206.54\" y=\"389.0669\">«import»*</text></a></g><!--MD5=[e9be52314489bd878ff4c7144b63c9e1]\n",
       "link E5 to E3--><g id=\"link_E5_E3\"><a href=\"psysml:fdb905ca-fd31-45b2-b41e-28dfb09dbd5e\" target=\"_top\" title=\"psysml:fdb905ca-fd31-45b2-b41e-28dfb09dbd5e\" xlink:actuate=\"onRequest\" xlink:href=\"psysml:fdb905ca-fd31-45b2-b41e-28dfb09dbd5e\" xlink:show=\"new\" xlink:title=\"psysml:fdb905ca-fd31-45b2-b41e-28dfb09dbd5e\" xlink:type=\"simple\"><path d=\"M341.95,332.28 C330.39,360.37 310.79,407.97 297.06,441.31 \" fill=\"none\" id=\"E5-to-E3\" style=\"stroke:#181818;stroke-width:1.0;\"/><polygon fill=\"#FFFFFF\" points=\"289.39,459.93,290.1484,439.6957,303.0947,445.0242,289.39,459.93\" style=\"stroke:#181818;stroke-width:1.0;\"/><ellipse cx=\"294.1673\" cy=\"435.186\" fill=\"#181818\" rx=\"2\" ry=\"2\" style=\"stroke:#181818;stroke-width:1.0;\"/><ellipse cx=\"303.4147\" cy=\"438.992\" fill=\"#181818\" rx=\"2\" ry=\"2\" style=\"stroke:#181818;stroke-width:1.0;\"/></a></g><!--MD5=[ee384bb554873b72f85793eae40e290c]\n",
       "link E1 to E4--><g id=\"link_E1_E4\"><a href=\"psysml:60fcb482-826b-48b1-b5dc-27f8a317149a\" target=\"_top\" title=\"psysml:60fcb482-826b-48b1-b5dc-27f8a317149a\" xlink:actuate=\"onRequest\" xlink:href=\"psysml:60fcb482-826b-48b1-b5dc-27f8a317149a\" xlink:show=\"new\" xlink:title=\"psysml:60fcb482-826b-48b1-b5dc-27f8a317149a\" xlink:type=\"simple\"><path d=\"M34.51,133.12 C33.85,135.64 23.69,176.19 42.54,196 C56.54,210.72 67.74,199.44 87.54,204 C127.16,213.13 142.79,204.91 175.54,229 C192.1,241.18 204.78,260.48 213.36,276.84 \" fill=\"none\" id=\"E1-to-E4\" style=\"stroke:#181818;stroke-width:1.0;stroke-dasharray:7.0,7.0;\"/><polygon fill=\"#181818\" points=\"215.67,281.37,215.1474,271.535,213.3997,276.9151,208.0196,275.1674,215.67,281.37\" style=\"stroke:#181818;stroke-width:1.0;\"/><text fill=\"#000000\" font-family=\"sans-serif\" font-size=\"13\" lengthAdjust=\"spacing\" textLength=\"65\" x=\"163.54\" y=\"217.0669\">«import»*</text></a></g><!--MD5=[ccbd3af71bf83df0ec2a2db62d6d7130]\n",
       "link E1 to E6--><g id=\"link_E1_E6\"><a href=\"psysml:37c9a4c7-80e6-494a-a65a-d8ec35cca65c\" target=\"_top\" title=\"psysml:37c9a4c7-80e6-494a-a65a-d8ec35cca65c\" xlink:actuate=\"onRequest\" xlink:href=\"psysml:37c9a4c7-80e6-494a-a65a-d8ec35cca65c\" xlink:show=\"new\" xlink:title=\"psysml:37c9a4c7-80e6-494a-a65a-d8ec35cca65c\" xlink:type=\"simple\"><path d=\"M26.4524,146.2391 C26.2398,146.6264 26.0252,147.0207 25.8089,147.4216 C24.9438,149.0255 24.0519,150.7367 23.1522,152.5415 C21.3527,156.1512 19.5216,160.1353 17.8088,164.3838 C10.9575,181.3775 6,202.6 12.54,221 C20.535,243.49 37.2075,264.37 52.2763,279.9238 C59.8106,287.7006 66.9441,294.1459 72.3914,298.7952 C73.0723,299.3763 73.7269,299.9294 74.3526,300.4535 \" fill=\"none\" id=\"E1-to-E6\" style=\"stroke:#181818;stroke-width:1.0;stroke-dasharray:7.0,7.0;\"/><polygon fill=\"#181818\" points=\"74.3526,300.4535,70.0217,291.608,70.5196,297.2429,64.8847,297.7408,74.3526,300.4535\" style=\"stroke:#181818;stroke-width:1.0;\"/><text fill=\"#000000\" font-family=\"sans-serif\" font-size=\"13\" lengthAdjust=\"spacing\" textLength=\"65\" x=\"13.54\" y=\"217.0669\">«import»*</text></a></g><!--MD5=[bfa3c8b0d15052fdf50ae9310b491027]\n",
       "link E8 to E7--><g id=\"link_E8_E7\"><a href=\"psysml:f605a3b7-992a-46f2-9cbf-567dae0e656e\" target=\"_top\" title=\"psysml:f605a3b7-992a-46f2-9cbf-567dae0e656e\" xlink:actuate=\"onRequest\" xlink:href=\"psysml:f605a3b7-992a-46f2-9cbf-567dae0e656e\" xlink:show=\"new\" xlink:title=\"psysml:f605a3b7-992a-46f2-9cbf-567dae0e656e\" xlink:type=\"simple\"><path d=\"M181.2,156.24 C190.68,169.57 204.11,185.65 219.54,196 C229.23,202.5 237.66,194.58 244.54,204 C248.99,210.1 249.61,215.4 244.54,221 C232.39,234.4 177.61,217.63 163.54,229 C151.8,238.49 145.49,253.52 142.14,267.86 \" fill=\"none\" id=\"E8-to-E7\" style=\"stroke:#181818;stroke-width:1.0;\"/><polygon fill=\"#FFFFFF\" points=\"139.04,287.67,135.0558,267.8174,148.8881,269.9778,139.04,287.67\" style=\"stroke:#181818;stroke-width:1.0;\"/><ellipse cx=\"137.9114\" cy=\"262.4943\" fill=\"#181818\" rx=\"2\" ry=\"2\" style=\"stroke:#181818;stroke-width:1.0;\"/><ellipse cx=\"147.7916\" cy=\"264.0374\" fill=\"#181818\" rx=\"2\" ry=\"2\" style=\"stroke:#181818;stroke-width:1.0;\"/></a></g><!--MD5=[c2be97adba6ddfe1c8f349fab141c927]\n",
       "link E9 to E4--><g id=\"link_E9_E4\"><a href=\"psysml:f74e7f7d-bc69-4c36-9a7b-616abfb119b1\" target=\"_top\" title=\"psysml:f74e7f7d-bc69-4c36-9a7b-616abfb119b1\" xlink:actuate=\"onRequest\" xlink:href=\"psysml:f74e7f7d-bc69-4c36-9a7b-616abfb119b1\" xlink:show=\"new\" xlink:title=\"psysml:f74e7f7d-bc69-4c36-9a7b-616abfb119b1\" xlink:type=\"simple\"><path d=\"M247.685,180.1111 C249.2869,188.0363 250.6725,196.215 251.54,204 C254.29,228.72 247.17,256.05 239.83,276.34 \" fill=\"none\" id=\"E9-to-E4\" style=\"stroke:#181818;stroke-width:1.0;stroke-dasharray:7.0,7.0;\"/><polygon fill=\"#181818\" points=\"238.07,281.08,244.9754,274.0575,239.8256,276.3984,237.4848,271.2485,238.07,281.08\" style=\"stroke:#181818;stroke-width:1.0;\"/><text fill=\"#000000\" font-family=\"sans-serif\" font-size=\"13\" lengthAdjust=\"spacing\" textLength=\"65\" x=\"252.54\" y=\"217.0669\">«import»*</text></a></g><!--MD5=[feeac5eb423634930294aa81f2d25a4c]\n",
       "link E10 to E3--><g id=\"link_E10_E3\"><a href=\"psysml:7688159c-03f6-437a-9242-bafcaad292a9\" target=\"_top\" title=\"psysml:7688159c-03f6-437a-9242-bafcaad292a9\" xlink:actuate=\"onRequest\" xlink:href=\"psysml:7688159c-03f6-437a-9242-bafcaad292a9\" xlink:show=\"new\" xlink:title=\"psysml:7688159c-03f6-437a-9242-bafcaad292a9\" xlink:type=\"simple\"><path d=\"M336.59,156.04 C356.2,174.88 376,201.49 358.54,221 C347.8,233 297.4,217.11 286.54,229 C272.73,244.12 276.56,372.8 279.53,439.4 \" fill=\"none\" id=\"E10-to-E3\" style=\"stroke:#181818;stroke-width:1.0;\"/><polygon fill=\"#FFFFFF\" points=\"280.5,459.71,272.5985,441.0669,286.5824,440.3967,280.5,459.71\" style=\"stroke:#181818;stroke-width:1.0;\"/><ellipse cx=\"274.3233\" cy=\"435.2777\" fill=\"#181818\" rx=\"2\" ry=\"2\" style=\"stroke:#181818;stroke-width:1.0;\"/><ellipse cx=\"284.3119\" cy=\"434.799\" fill=\"#181818\" rx=\"2\" ry=\"2\" style=\"stroke:#181818;stroke-width:1.0;\"/></a></g><!--MD5=[5e05b5d620f38ccc431bbb34933c5d25]\n",
       "@startuml\r\n",
       " \r\n",
       "package \"PrivateImportTest\" as E1  [[psysml:11a30fa2-fbeb-4b2d-a071-2781e63d5a12 ]]  {\r\n",
       "package \"P1\" as E2  [[psysml:29bb8ef7-a50f-48a8-b243-dfabeed2550d ]]  {\r\n",
       "comp def \"A\" as E3  << << (B,green) >> [[psysml:5dfb8e4e-b010-43d6-9ea6-8d8096aa0cbd ]] {\r\n",
       "}\r\n",
       "}\r\n",
       "package \"P2\" as E4  [[psysml:6d745f5d-a6bd-48d3-bb38-b4db6224b450 ]]  {\r\n",
       "}\r\n",
       "comp usage \"x: A  \" as E5  << << (P,limegreen) part>> [[psysml:fd0b961b-4bae-44e8-b09a-9c87fac280e3 ]] {\r\n",
       "}\r\n",
       "package \"P3\" as E6  [[psysml:3afe7580-df30-4ff0-95e6-ec63d3638055 ]]  {\r\n",
       "comp def \"B\" as E7  << << (B,green) >> [[psysml:05031283-db67-47ce-b074-a753e1e8519b ]] {\r\n",
       "}\r\n",
       "}\r\n",
       "comp usage \"z: B  \" as E8  << << (P,limegreen) part>> [[psysml:87e3ce51-5094-4f5d-8d11-feac4ad1e872 ]] {\r\n",
       "}\r\n",
       "package \"P4\" as E9  [[psysml:a1b56716-f996-4480-88b0-3733f2d7733c ]]  {\r\n",
       "comp usage \"z1: A  \" as E10  << << (P,limegreen) part>> [[psysml:630baa2a-121f-4da7-a3fd-6c76e707d010 ]] {\r\n",
       "}\r\n",
       "}\r\n",
       "}\r\n",
       "E4 ..> E2 [[psysml:0487f209-9870-4837-a273-e80eaf0041e3 ]] : <<import>>*\r\n",
       "E5 - -:|> E3 [[psysml:fdb905ca-fd31-45b2-b41e-28dfb09dbd5e ]] \r\n",
       "E1 ..> E4 [[psysml:60fcb482-826b-48b1-b5dc-27f8a317149a ]] : <<import>>*\r\n",
       "E1 ..> E6 [[psysml:37c9a4c7-80e6-494a-a65a-d8ec35cca65c ]] : <<import>>*\r\n",
       "E8 - -:|> E7 [[psysml:f605a3b7-992a-46f2-9cbf-567dae0e656e ]] \r\n",
       "E9 ..> E4 [[psysml:f74e7f7d-bc69-4c36-9a7b-616abfb119b1 ]] : <<import>>*\r\n",
       "E10 - -:|> E3 [[psysml:7688159c-03f6-437a-9242-bafcaad292a9 ]] \r\n",
       "@enduml\r\n",
       "\n",
       "PlantUML version 1.2022.7(Mon Aug 22 17:01:30 UTC 2022)\n",
       "(EPL source distribution)\n",
       "Java Runtime: OpenJDK Runtime Environment\n",
       "JVM: OpenJDK 64-Bit Server VM\n",
       "Default Encoding: UTF-8\n",
       "Language: en\n",
       "Country: null\n",
       "--></g></svg>"
      ]
     },
     "execution_count": 31,
     "metadata": {},
     "output_type": "execute_result"
    }
   ],
   "source": [
    "%viz --style=\"PLANTUML\" --view=\"Tree\" \"PrivateImportTest\""
   ]
  },
  {
   "cell_type": "code",
   "execution_count": 32,
   "id": "8a86c195",
   "metadata": {
    "execution": {
     "iopub.execute_input": "2024-12-16T14:17:04.938116Z",
     "iopub.status.busy": "2024-12-16T14:17:04.937823Z",
     "iopub.status.idle": "2024-12-16T14:17:04.984341Z",
     "shell.execute_reply": "2024-12-16T14:17:04.983534Z"
    }
   },
   "outputs": [
    {
     "data": {
      "image/svg+xml": [
       "<?xml version=\"1.0\" encoding=\"UTF-8\" standalone=\"no\"?><svg xmlns=\"http://www.w3.org/2000/svg\" xmlns:xlink=\"http://www.w3.org/1999/xlink\" contentStyleType=\"text/css\" height=\"389px\" preserveAspectRatio=\"none\" style=\"width:603px;height:389px;background:#000000;\" version=\"1.1\" viewBox=\"0 0 603 389\" width=\"603px\" zoomAndPan=\"magnify\"><defs/><g><rect fill=\"#032426\" height=\"1\" style=\"stroke:#032426;stroke-width:1.0;\" width=\"1\" x=\"0\" y=\"0\"/><rect fill=\"#FFFFFF\" height=\"226.6573\" style=\"stroke:#FFFFFF;stroke-width:1.0;\" width=\"602\" x=\"0\" y=\"0\"/><text fill=\"#000000\" font-family=\"sans-serif\" font-size=\"12\" font-weight=\"bold\" lengthAdjust=\"spacing\" textLength=\"145.75\" x=\"5\" y=\"16.1387\">Welcome to PlantUML!</text><text fill=\"#000000\" font-family=\"sans-serif\" font-size=\"12\" lengthAdjust=\"spacing\" textLength=\"4\" x=\"5\" y=\"30.1074\"> </text><text fill=\"#000000\" font-family=\"sans-serif\" font-size=\"12\" lengthAdjust=\"spacing\" textLength=\"283\" x=\"5\" y=\"44.0762\">You can start with a simple UML Diagram like:</text><text fill=\"#000000\" font-family=\"sans-serif\" font-size=\"12\" lengthAdjust=\"spacing\" textLength=\"4\" x=\"5\" y=\"58.0449\"> </text><text fill=\"#000000\" font-family=\"monospace\" font-size=\"12\" lengthAdjust=\"spacing\" textLength=\"119\" x=\"5\" y=\"73.7031\">Bob-&gt;Alice: Hello</text><text fill=\"#000000\" font-family=\"sans-serif\" font-size=\"12\" lengthAdjust=\"spacing\" textLength=\"4\" x=\"5\" y=\"88.3578\"> </text><text fill=\"#000000\" font-family=\"sans-serif\" font-size=\"12\" lengthAdjust=\"spacing\" textLength=\"14\" x=\"5\" y=\"102.3265\">Or</text><text fill=\"#000000\" font-family=\"sans-serif\" font-size=\"12\" lengthAdjust=\"spacing\" textLength=\"4\" x=\"5\" y=\"116.2953\"> </text><text fill=\"#000000\" font-family=\"monospace\" font-size=\"12\" lengthAdjust=\"spacing\" textLength=\"91\" x=\"5\" y=\"131.9535\">class Example</text><text fill=\"#000000\" font-family=\"sans-serif\" font-size=\"12\" lengthAdjust=\"spacing\" textLength=\"4\" x=\"5\" y=\"146.6082\"> </text><text fill=\"#000000\" font-family=\"sans-serif\" font-size=\"12\" lengthAdjust=\"spacing\" textLength=\"349\" x=\"5\" y=\"160.5769\">You will find more information about PlantUML syntax on</text><text fill=\"#000000\" font-family=\"sans-serif\" font-size=\"12\" lengthAdjust=\"spacing\" text-decoration=\"underline\" textLength=\"129\" x=\"358\" y=\"160.5769\">https://plantuml.com</text><text fill=\"#000000\" font-family=\"sans-serif\" font-size=\"12\" lengthAdjust=\"spacing\" textLength=\"4\" x=\"5\" y=\"174.5457\"> </text><text fill=\"#000000\" font-family=\"sans-serif\" font-size=\"12\" lengthAdjust=\"spacing\" textLength=\"299\" x=\"5\" y=\"188.5144\">(If you use this software, you accept its license)</text><text fill=\"#000000\" font-family=\"sans-serif\" font-size=\"12\" lengthAdjust=\"spacing\" textLength=\"108\" x=\"5\" y=\"204.8585\">(Details by typing</text><text fill=\"#000000\" font-family=\"monospace\" font-size=\"12\" lengthAdjust=\"spacing\" textLength=\"49\" x=\"117\" y=\"204.1726\">license</text><text fill=\"#000000\" font-family=\"sans-serif\" font-size=\"12\" lengthAdjust=\"spacing\" textLength=\"56\" x=\"170\" y=\"204.8585\">keyword)</text><text fill=\"#000000\" font-family=\"sans-serif\" font-size=\"12\" lengthAdjust=\"spacing\" textLength=\"4\" x=\"5\" y=\"218.8273\"> </text><image height=\"71\" width=\"80\" x=\"516\" xlink:href=\"data:image/png;base64,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\" y=\"6\"/><rect fill=\"#000000\" height=\"160.3594\" style=\"stroke:#000000;stroke-width:1.0;\" width=\"602\" x=\"0\" y=\"226.6573\"/><text fill=\"#33FF02\" font-family=\"sans-serif\" font-size=\"12\" font-style=\"italic\" font-weight=\"bold\" lengthAdjust=\"spacing\" textLength=\"123\" x=\"5\" y=\"243.6573\">PlantUML 1.2022.7</text><text fill=\"#33FF02\" font-family=\"sans-serif\" font-size=\"12\" font-style=\"italic\" font-weight=\"bold\" lengthAdjust=\"spacing\" textLength=\"4\" x=\"5\" y=\"257.6261\"> </text><text fill=\"#33FF02\" font-family=\"sans-serif\" font-size=\"12\" font-style=\"italic\" font-weight=\"bold\" lengthAdjust=\"spacing\" textLength=\"390\" x=\"5\" y=\"271.5948\">&lt;b&gt;This version of PlantUML is 846 days old, so you should</text><text fill=\"#33FF02\" font-family=\"sans-serif\" font-size=\"12\" font-style=\"italic\" font-weight=\"bold\" lengthAdjust=\"spacing\" textLength=\"398.875\" x=\"5\" y=\"285.5636\">&lt;b&gt;consider upgrading from https://plantuml.com/download</text><rect fill=\"#33FF02\" height=\"21.2969\" style=\"stroke:#33FF02;stroke-width:1.0;\" width=\"153.3125\" x=\"5\" y=\"295.5323\"/><text fill=\"#000000\" font-family=\"sans-serif\" font-size=\"14\" font-weight=\"bold\" lengthAdjust=\"spacing\" textLength=\"151.3125\" x=\"6\" y=\"310.5323\">[From string (line 2) ]</text><text fill=\"#33FF02\" font-family=\"sans-serif\" font-size=\"14\" font-weight=\"bold\" lengthAdjust=\"spacing\" textLength=\"4\" x=\"5\" y=\"330.8292\"> </text><text fill=\"#33FF02\" font-family=\"sans-serif\" font-size=\"14\" font-weight=\"bold\" lengthAdjust=\"spacing\" textLength=\"73.9375\" x=\"5\" y=\"347.1261\">@startuml</text><text fill=\"#33FF02\" font-family=\"sans-serif\" font-size=\"14\" font-weight=\"bold\" lengthAdjust=\"spacing\" text-decoration=\"wavy underline\" textLength=\"4\" x=\"5\" y=\"363.423\"> </text><text fill=\"#FF0000\" font-family=\"sans-serif\" font-size=\"14\" font-weight=\"bold\" lengthAdjust=\"spacing\" textLength=\"131\" x=\"9\" y=\"379.7198\">Empty description</text><!--MD5=[5b6570bdd48fecdb4121f0162c378f28]\n",
       "@startuml\r\n",
       " \r\n",
       "@enduml\r\n",
       "\n",
       "PlantUML version 1.2022.7(Mon Aug 22 17:01:30 UTC 2022)\n",
       "(EPL source distribution)\n",
       "Java Runtime: OpenJDK Runtime Environment\n",
       "JVM: OpenJDK 64-Bit Server VM\n",
       "Default Encoding: UTF-8\n",
       "Language: en\n",
       "Country: null\n",
       "--></g></svg>"
      ]
     },
     "execution_count": 32,
     "metadata": {},
     "output_type": "execute_result"
    }
   ],
   "source": [
    "%viz --style=\"PLANTUML\" --view=\"State\" \"PrivateImportTest\""
   ]
  },
  {
   "cell_type": "code",
   "execution_count": 33,
   "id": "4587e9d4",
   "metadata": {
    "execution": {
     "iopub.execute_input": "2024-12-16T14:17:05.037385Z",
     "iopub.status.busy": "2024-12-16T14:17:05.037106Z",
     "iopub.status.idle": "2024-12-16T14:17:05.066149Z",
     "shell.execute_reply": "2024-12-16T14:17:05.065119Z"
    }
   },
   "outputs": [
    {
     "data": {
      "image/svg+xml": [
       "<?xml version=\"1.0\" encoding=\"UTF-8\" standalone=\"no\"?><svg xmlns=\"http://www.w3.org/2000/svg\" xmlns:xlink=\"http://www.w3.org/1999/xlink\" contentStyleType=\"text/css\" height=\"563px\" preserveAspectRatio=\"none\" style=\"width:418px;height:563px;background:#FFFFFF;\" version=\"1.1\" viewBox=\"0 0 418 563\" width=\"418px\" zoomAndPan=\"magnify\"><defs/><g><!--MD5=[fbc87193dbaf4d95561dea2c320d4a47]\n",
       "cluster E1--><g id=\"cluster_E1\"><a href=\"psysml:11a30fa2-fbeb-4b2d-a071-2781e63d5a12\" target=\"_top\" title=\"psysml:11a30fa2-fbeb-4b2d-a071-2781e63d5a12\" xlink:actuate=\"onRequest\" xlink:href=\"psysml:11a30fa2-fbeb-4b2d-a071-2781e63d5a12\" xlink:show=\"new\" xlink:title=\"psysml:11a30fa2-fbeb-4b2d-a071-2781e63d5a12\" xlink:type=\"simple\"><path d=\"M28.76,6 L158.1975,6 A3.75,3.75 0 0 1 160.6975,8.5 L167.6975,28.2969 L408.76,28.2969 A2.5,2.5 0 0 1 411.26,30.7969 L411.26,553.5 A2.5,2.5 0 0 1 408.76,556 L28.76,556 A2.5,2.5 0 0 1 26.26,553.5 L26.26,8.5 A2.5,2.5 0 0 1 28.76,6 \" fill=\"none\" style=\"stroke:#000000;stroke-width:1.5;\"/><line style=\"stroke:#000000;stroke-width:1.5;\" x1=\"26.26\" x2=\"167.6975\" y1=\"28.2969\" y2=\"28.2969\"/><text fill=\"#000000\" font-family=\"sans-serif\" font-size=\"14\" font-weight=\"bold\" lengthAdjust=\"spacing\" textLength=\"128.4375\" x=\"30.26\" y=\"20.9951\">PrivateImportTest</text></a></g><!--MD5=[e4f7fae6ed58524ba242bb0b0d3be6b7]\n",
       "cluster E2--><g id=\"cluster_E2\"><a href=\"psysml:29bb8ef7-a50f-48a8-b243-dfabeed2550d\" target=\"_top\" title=\"psysml:29bb8ef7-a50f-48a8-b243-dfabeed2550d\" xlink:actuate=\"onRequest\" xlink:href=\"psysml:29bb8ef7-a50f-48a8-b243-dfabeed2550d\" xlink:show=\"new\" xlink:title=\"psysml:29bb8ef7-a50f-48a8-b243-dfabeed2550d\" xlink:type=\"simple\"><path d=\"M223.76,409 L243.635,409 A3.75,3.75 0 0 1 246.135,411.5 L253.135,431.2969 L335.76,431.2969 A2.5,2.5 0 0 1 338.26,433.7969 L338.26,513.5 A2.5,2.5 0 0 1 335.76,516 L223.76,516 A2.5,2.5 0 0 1 221.26,513.5 L221.26,411.5 A2.5,2.5 0 0 1 223.76,409 \" fill=\"none\" style=\"stroke:#000000;stroke-width:1.5;\"/><line style=\"stroke:#000000;stroke-width:1.5;\" x1=\"221.26\" x2=\"253.135\" y1=\"431.2969\" y2=\"431.2969\"/><text fill=\"#000000\" font-family=\"sans-serif\" font-size=\"14\" font-weight=\"bold\" lengthAdjust=\"spacing\" textLength=\"18.875\" x=\"225.26\" y=\"423.9951\">P1</text></a></g><!--MD5=[14e3b0961a2654348d326746436168a1]\n",
       "cluster E6--><g id=\"cluster_E6\"><a href=\"psysml:3afe7580-df30-4ff0-95e6-ec63d3638055\" target=\"_top\" title=\"psysml:3afe7580-df30-4ff0-95e6-ec63d3638055\" xlink:actuate=\"onRequest\" xlink:href=\"psysml:3afe7580-df30-4ff0-95e6-ec63d3638055\" xlink:show=\"new\" xlink:title=\"psysml:3afe7580-df30-4ff0-95e6-ec63d3638055\" xlink:type=\"simple\"><path d=\"M76.76,237 L96.635,237 A3.75,3.75 0 0 1 99.135,239.5 L106.135,259.2969 L188.76,259.2969 A2.5,2.5 0 0 1 191.26,261.7969 L191.26,341.5 A2.5,2.5 0 0 1 188.76,344 L76.76,344 A2.5,2.5 0 0 1 74.26,341.5 L74.26,239.5 A2.5,2.5 0 0 1 76.76,237 \" fill=\"none\" style=\"stroke:#000000;stroke-width:1.5;\"/><line style=\"stroke:#000000;stroke-width:1.5;\" x1=\"74.26\" x2=\"106.135\" y1=\"259.2969\" y2=\"259.2969\"/><text fill=\"#000000\" font-family=\"sans-serif\" font-size=\"14\" font-weight=\"bold\" lengthAdjust=\"spacing\" textLength=\"18.875\" x=\"78.26\" y=\"251.9951\">P3</text></a></g><!--MD5=[7f149f147074ac12df2cb0a7728a5fb0]\n",
       "cluster E9--><g id=\"cluster_E9\"><a href=\"psysml:a1b56716-f996-4480-88b0-3733f2d7733c\" target=\"_top\" title=\"psysml:a1b56716-f996-4480-88b0-3733f2d7733c\" xlink:actuate=\"onRequest\" xlink:href=\"psysml:a1b56716-f996-4480-88b0-3733f2d7733c\" xlink:show=\"new\" xlink:title=\"psysml:a1b56716-f996-4480-88b0-3733f2d7733c\" xlink:type=\"simple\"><path d=\"M234.76,65 L254.635,65 A3.75,3.75 0 0 1 257.135,67.5 L264.135,87.2969 L368.76,87.2969 A2.5,2.5 0 0 1 371.26,89.7969 L371.26,169.5 A2.5,2.5 0 0 1 368.76,172 L234.76,172 A2.5,2.5 0 0 1 232.26,169.5 L232.26,67.5 A2.5,2.5 0 0 1 234.76,65 \" fill=\"none\" style=\"stroke:#000000;stroke-width:1.5;\"/><line style=\"stroke:#000000;stroke-width:1.5;\" x1=\"232.26\" x2=\"264.135\" y1=\"87.2969\" y2=\"87.2969\"/><text fill=\"#000000\" font-family=\"sans-serif\" font-size=\"14\" font-weight=\"bold\" lengthAdjust=\"spacing\" textLength=\"18.875\" x=\"236.26\" y=\"79.9951\">P4</text></a></g><g><a href=\"psysml:5dfb8e4e-b010-43d6-9ea6-8d8096aa0cbd\" target=\"_top\" title=\"psysml:5dfb8e4e-b010-43d6-9ea6-8d8096aa0cbd\" xlink:actuate=\"onRequest\" xlink:href=\"psysml:5dfb8e4e-b010-43d6-9ea6-8d8096aa0cbd\" xlink:show=\"new\" xlink:title=\"psysml:5dfb8e4e-b010-43d6-9ea6-8d8096aa0cbd\" xlink:type=\"simple\"><rect fill=\"#F1F1F1\" height=\"40\" id=\"E3\" style=\"stroke:#A80036;stroke-width:1.5;\" width=\"50\" x=\"264.26\" y=\"452\"/><ellipse cx=\"283.31\" cy=\"468\" fill=\"#008000\" rx=\"11\" ry=\"11\" style=\"stroke:#181818;stroke-width:1.0;\"/><path d=\"M280.1694,474.5 L280.1694,462.3594 L283.9663,462.3594 Q285.9663,462.3594 287.0131,463.0625 Q288.0756,463.7656 288.0756,465.3438 Q288.0756,466.4375 287.5756,467.1563 Q287.0913,467.875 286.2631,468.0625 L286.2631,468.1406 Q287.185,468.3594 287.7475,469.0313 Q288.3256,469.6875 288.3256,470.9531 Q288.3256,472.6094 287.2788,473.5625 Q286.2319,474.5 284.3725,474.5 L280.1694,474.5 Z M283.9506,467.1406 Q284.8413,467.1406 285.2006,466.8125 Q285.5756,466.4688 285.5756,465.7656 Q285.5756,465.0313 285.185,464.7188 Q284.7944,464.3906 283.8569,464.3906 L282.4663,464.3906 L282.4663,467.1406 L283.9506,467.1406 Z M284.1381,472.4844 Q285.0444,472.4844 285.4038,472.0469 Q285.7631,471.5938 285.7631,470.8125 Q285.7631,470.0313 285.3881,469.6406 Q285.0288,469.2344 284.0444,469.2344 L282.4663,469.2344 L282.4663,472.4844 L284.1381,472.4844 Z \" fill=\"#000000\"/><text fill=\"#000000\" font-family=\"sans-serif\" font-size=\"14\" lengthAdjust=\"spacing\" textLength=\"9\" x=\"298.21\" y=\"472.8467\">A</text></a></g><a href=\"psysml:6d745f5d-a6bd-48d3-bb38-b4db6224b450\" target=\"_top\" title=\"psysml:6d745f5d-a6bd-48d3-bb38-b4db6224b450\" xlink:actuate=\"onRequest\" xlink:href=\"psysml:6d745f5d-a6bd-48d3-bb38-b4db6224b450\" xlink:show=\"new\" xlink:title=\"psysml:6d745f5d-a6bd-48d3-bb38-b4db6224b450\" xlink:type=\"simple\"><path d=\"M217.76,273.5 L236.76,273.5 A3.75,3.75 0 0 1 239.26,276 L246.26,295.7969 L250.76,295.7969 A2.5,2.5 0 0 1 253.26,298.2969 L253.26,323.5938 A2.5,2.5 0 0 1 250.76,326.0938 L217.76,326.0938 A2.5,2.5 0 0 1 215.26,323.5938 L215.26,276 A2.5,2.5 0 0 1 217.76,273.5 \" fill=\"#F1F1F1\" style=\"stroke:#181818;stroke-width:0.5;\"/><line style=\"stroke:#181818;stroke-width:0.5;\" x1=\"215.26\" x2=\"246.26\" y1=\"295.7969\" y2=\"295.7969\"/><text fill=\"#000000\" font-family=\"sans-serif\" font-size=\"14\" lengthAdjust=\"spacing\" textLength=\"18\" x=\"219.26\" y=\"288.4951\">P2</text></a><g><a href=\"psysml:fd0b961b-4bae-44e8-b09a-9c87fac280e3\" target=\"_top\" title=\"psysml:fd0b961b-4bae-44e8-b09a-9c87fac280e3\" xlink:actuate=\"onRequest\" xlink:href=\"psysml:fd0b961b-4bae-44e8-b09a-9c87fac280e3\" xlink:show=\"new\" xlink:title=\"psysml:fd0b961b-4bae-44e8-b09a-9c87fac280e3\" xlink:type=\"simple\"><rect fill=\"#F1F1F1\" height=\"40\" id=\"E5\" rx=\"10\" ry=\"10\" style=\"stroke:#A80036;stroke-width:1.5;\" width=\"62\" x=\"325.26\" y=\"280\"/><ellipse cx=\"342.51\" cy=\"296\" fill=\"#F1F1F1\" rx=\"11\" ry=\"11\" style=\"stroke:#181818;stroke-width:1.0;\"/><path d=\"M342.5725,303.1719 Q340.4631,303.1719 339.3694,302.0469 Q338.2756,300.9219 338.2756,298.875 L338.2756,290.8594 L340.7444,290.8594 L340.7444,298.4375 Q340.7444,299.875 341.1975,300.4688 Q341.6506,301.0469 342.6038,301.0469 Q343.6194,301.0469 344.0413,300.4375 Q344.4788,299.8281 344.4788,298.4219 L344.4788,290.8594 L346.9475,290.8594 L346.9475,298.8594 Q346.9475,300.8438 345.8538,302.0156 Q344.7756,303.1719 342.5725,303.1719 Z \" fill=\"#000000\"/><text fill=\"#000000\" font-family=\"sans-serif\" font-size=\"14\" lengthAdjust=\"spacing\" textLength=\"25\" x=\"357.01\" y=\"300.8467\">x: A</text></a></g><g><a href=\"psysml:05031283-db67-47ce-b074-a753e1e8519b\" target=\"_top\" title=\"psysml:05031283-db67-47ce-b074-a753e1e8519b\" xlink:actuate=\"onRequest\" xlink:href=\"psysml:05031283-db67-47ce-b074-a753e1e8519b\" xlink:show=\"new\" xlink:title=\"psysml:05031283-db67-47ce-b074-a753e1e8519b\" xlink:type=\"simple\"><rect fill=\"#F1F1F1\" height=\"40\" id=\"E7\" style=\"stroke:#A80036;stroke-width:1.5;\" width=\"50\" x=\"117.26\" y=\"280\"/><ellipse cx=\"135.86\" cy=\"296\" fill=\"#008000\" rx=\"11\" ry=\"11\" style=\"stroke:#181818;stroke-width:1.0;\"/><path d=\"M132.7194,302.5 L132.7194,290.3594 L136.5163,290.3594 Q138.5163,290.3594 139.5631,291.0625 Q140.6256,291.7656 140.6256,293.3438 Q140.6256,294.4375 140.1256,295.1563 Q139.6413,295.875 138.8131,296.0625 L138.8131,296.1406 Q139.735,296.3594 140.2975,297.0313 Q140.8756,297.6875 140.8756,298.9531 Q140.8756,300.6094 139.8288,301.5625 Q138.7819,302.5 136.9225,302.5 L132.7194,302.5 Z M136.5006,295.1406 Q137.3913,295.1406 137.7506,294.8125 Q138.1256,294.4688 138.1256,293.7656 Q138.1256,293.0313 137.735,292.7188 Q137.3444,292.3906 136.4069,292.3906 L135.0163,292.3906 L135.0163,295.1406 L136.5006,295.1406 Z M136.6881,300.4844 Q137.5944,300.4844 137.9538,300.0469 Q138.3131,299.5938 138.3131,298.8125 Q138.3131,298.0313 137.9381,297.6406 Q137.5788,297.2344 136.5944,297.2344 L135.0163,297.2344 L135.0163,300.4844 L136.6881,300.4844 Z \" fill=\"#000000\"/><text fill=\"#000000\" font-family=\"sans-serif\" font-size=\"14\" lengthAdjust=\"spacing\" textLength=\"10\" x=\"150.66\" y=\"300.8467\">B</text></a></g><g><a href=\"psysml:87e3ce51-5094-4f5d-8d11-feac4ad1e872\" target=\"_top\" title=\"psysml:87e3ce51-5094-4f5d-8d11-feac4ad1e872\" xlink:actuate=\"onRequest\" xlink:href=\"psysml:87e3ce51-5094-4f5d-8d11-feac4ad1e872\" xlink:show=\"new\" xlink:title=\"psysml:87e3ce51-5094-4f5d-8d11-feac4ad1e872\" xlink:type=\"simple\"><rect fill=\"#F1F1F1\" height=\"40\" id=\"E8\" rx=\"10\" ry=\"10\" style=\"stroke:#A80036;stroke-width:1.5;\" width=\"64\" x=\"141.26\" y=\"108\"/><ellipse cx=\"158.51\" cy=\"124\" fill=\"#F1F1F1\" rx=\"11\" ry=\"11\" style=\"stroke:#181818;stroke-width:1.0;\"/><path d=\"M158.5725,131.1719 Q156.4631,131.1719 155.3694,130.0469 Q154.2756,128.9219 154.2756,126.875 L154.2756,118.8594 L156.7444,118.8594 L156.7444,126.4375 Q156.7444,127.875 157.1975,128.4688 Q157.6506,129.0469 158.6038,129.0469 Q159.6194,129.0469 160.0413,128.4375 Q160.4788,127.8281 160.4788,126.4219 L160.4788,118.8594 L162.9475,118.8594 L162.9475,126.8594 Q162.9475,128.8438 161.8538,130.0156 Q160.7756,131.1719 158.5725,131.1719 Z \" fill=\"#000000\"/><text fill=\"#000000\" font-family=\"sans-serif\" font-size=\"14\" lengthAdjust=\"spacing\" textLength=\"27\" x=\"173.01\" y=\"128.8467\">z: B</text></a></g><g><a href=\"psysml:630baa2a-121f-4da7-a3fd-6c76e707d010\" target=\"_top\" title=\"psysml:630baa2a-121f-4da7-a3fd-6c76e707d010\" xlink:actuate=\"onRequest\" xlink:href=\"psysml:630baa2a-121f-4da7-a3fd-6c76e707d010\" xlink:show=\"new\" xlink:title=\"psysml:630baa2a-121f-4da7-a3fd-6c76e707d010\" xlink:type=\"simple\"><rect fill=\"#F1F1F1\" height=\"40\" id=\"E10\" rx=\"10\" ry=\"10\" style=\"stroke:#A80036;stroke-width:1.5;\" width=\"72\" x=\"275.26\" y=\"108\"/><ellipse cx=\"292.51\" cy=\"124\" fill=\"#F1F1F1\" rx=\"11\" ry=\"11\" style=\"stroke:#181818;stroke-width:1.0;\"/><path d=\"M292.5725,131.1719 Q290.4631,131.1719 289.3694,130.0469 Q288.2756,128.9219 288.2756,126.875 L288.2756,118.8594 L290.7444,118.8594 L290.7444,126.4375 Q290.7444,127.875 291.1975,128.4688 Q291.6506,129.0469 292.6038,129.0469 Q293.6194,129.0469 294.0413,128.4375 Q294.4788,127.8281 294.4788,126.4219 L294.4788,118.8594 L296.9475,118.8594 L296.9475,126.8594 Q296.9475,128.8438 295.8538,130.0156 Q294.7756,131.1719 292.5725,131.1719 Z \" fill=\"#000000\"/><text fill=\"#000000\" font-family=\"sans-serif\" font-size=\"14\" lengthAdjust=\"spacing\" textLength=\"35\" x=\"307.01\" y=\"128.8467\">z1: A</text></a></g><!--MD5=[185131fc0dcab0a4505a2ebe144e961b]\n",
       "link E4 to E2--><g id=\"link_E4_E2\"><a href=\"psysml:0487f209-9870-4837-a273-e80eaf0041e3\" target=\"_top\" title=\"psysml:0487f209-9870-4837-a273-e80eaf0041e3\" xlink:actuate=\"onRequest\" xlink:href=\"psysml:0487f209-9870-4837-a273-e80eaf0041e3\" xlink:show=\"new\" xlink:title=\"psysml:0487f209-9870-4837-a273-e80eaf0041e3\" xlink:type=\"simple\"><path d=\"M224.21,326.66 C219.91,338.96 215.4,354.02 213.26,368 C209.865,390.18 213.5125,415.04 218.1762,434.7787 C218.7592,437.2461 219.3581,439.6334 219.961,441.9255 C220.2625,443.0715 220.565,444.1937 220.8671,445.2902 C220.9426,445.5644 221.0181,445.8369 221.0935,446.1078 C221.1312,446.2432 221.1689,446.3782 221.2066,446.5129 \" fill=\"none\" id=\"E4-to-E2\" style=\"stroke:#181818;stroke-width:1.0;stroke-dasharray:7.0,7.0;\"/><polygon fill=\"#181818\" points=\"221.2066,446.5129,222.632,436.7677,219.8586,441.698,214.9282,438.9246,221.2066,446.5129\" style=\"stroke:#181818;stroke-width:1.0;\"/><text fill=\"#000000\" font-family=\"sans-serif\" font-size=\"13\" lengthAdjust=\"spacing\" textLength=\"65\" x=\"214.26\" y=\"381.0669\">«import»*</text></a></g><!--MD5=[e9be52314489bd878ff4c7144b63c9e1]\n",
       "link E5 to E3--><g id=\"link_E5_E3\"><a href=\"psysml:fdb905ca-fd31-45b2-b41e-28dfb09dbd5e\" target=\"_top\" title=\"psysml:fdb905ca-fd31-45b2-b41e-28dfb09dbd5e\" xlink:actuate=\"onRequest\" xlink:href=\"psysml:fdb905ca-fd31-45b2-b41e-28dfb09dbd5e\" xlink:show=\"new\" xlink:title=\"psysml:fdb905ca-fd31-45b2-b41e-28dfb09dbd5e\" xlink:type=\"simple\"><path d=\"M348.7,320.17 C337.97,347.41 318.08,397.88 304.28,432.9 \" fill=\"none\" id=\"E5-to-E3\" style=\"stroke:#181818;stroke-width:1.0;\"/><polygon fill=\"#FFFFFF\" points=\"296.79,451.9,297.2423,431.6566,310.2677,436.7887,296.79,451.9\" style=\"stroke:#181818;stroke-width:1.0;\"/><ellipse cx=\"301.1926\" cy=\"427.0866\" fill=\"#181818\" rx=\"2\" ry=\"2\" style=\"stroke:#181818;stroke-width:1.0;\"/><ellipse cx=\"310.4965\" cy=\"430.7524\" fill=\"#181818\" rx=\"2\" ry=\"2\" style=\"stroke:#181818;stroke-width:1.0;\"/></a></g><!--MD5=[ee384bb554873b72f85793eae40e290c]\n",
       "link E1 to E4--><g id=\"link_E1_E4\"><a href=\"psysml:60fcb482-826b-48b1-b5dc-27f8a317149a\" target=\"_top\" title=\"psysml:60fcb482-826b-48b1-b5dc-27f8a317149a\" xlink:actuate=\"onRequest\" xlink:href=\"psysml:60fcb482-826b-48b1-b5dc-27f8a317149a\" xlink:show=\"new\" xlink:title=\"psysml:60fcb482-826b-48b1-b5dc-27f8a317149a\" xlink:type=\"simple\"><path d=\"M34.23,129.12 C33.64,131.47 24.51,169.5 42.26,188 C56.33,202.66 67.42,191.66 87.26,196 C130.33,205.42 147.46,195.27 183.26,221 C199.95,233 212.64,252.3 221.18,268.7 \" fill=\"none\" id=\"E1-to-E4\" style=\"stroke:#181818;stroke-width:1.0;stroke-dasharray:7.0,7.0;\"/><polygon fill=\"#181818\" points=\"223.48,273.24,222.9825,263.4037,221.2211,268.7794,215.8454,267.018,223.48,273.24\" style=\"stroke:#181818;stroke-width:1.0;\"/><text fill=\"#000000\" font-family=\"sans-serif\" font-size=\"13\" lengthAdjust=\"spacing\" textLength=\"65\" x=\"169.26\" y=\"209.0669\">«import»*</text></a></g><!--MD5=[ccbd3af71bf83df0ec2a2db62d6d7130]\n",
       "link E1 to E6--><g id=\"link_E1_E6\"><a href=\"psysml:37c9a4c7-80e6-494a-a65a-d8ec35cca65c\" target=\"_top\" title=\"psysml:37c9a4c7-80e6-494a-a65a-d8ec35cca65c\" xlink:actuate=\"onRequest\" xlink:href=\"psysml:37c9a4c7-80e6-494a-a65a-d8ec35cca65c\" xlink:show=\"new\" xlink:title=\"psysml:37c9a4c7-80e6-494a-a65a-d8ec35cca65c\" xlink:type=\"simple\"><path d=\"M26.1321,141.8991 C26.0794,141.9922 26.0266,142.0858 25.9737,142.1797 C25.8679,142.3675 25.7616,142.557 25.655,142.7481 C24.8015,144.2767 23.9214,145.9078 23.033,147.6283 C21.2563,151.0694 19.4463,154.8681 17.75,158.92 C10.965,175.1275 6,195.385 12.26,213 C20.255,235.49 36.9275,256.37 51.9962,271.9238 C59.5306,279.7006 66.6641,286.1459 72.1114,290.7952 C72.7923,291.3763 73.4469,291.9294 74.0726,292.4535 \" fill=\"none\" id=\"E1-to-E6\" style=\"stroke:#181818;stroke-width:1.0;stroke-dasharray:7.0,7.0;\"/><polygon fill=\"#181818\" points=\"74.0726,292.4535,69.7417,283.608,70.2396,289.2429,64.6047,289.7408,74.0726,292.4535\" style=\"stroke:#181818;stroke-width:1.0;\"/><text fill=\"#000000\" font-family=\"sans-serif\" font-size=\"13\" lengthAdjust=\"spacing\" textLength=\"65\" x=\"13.26\" y=\"209.0669\">«import»*</text></a></g><!--MD5=[bfa3c8b0d15052fdf50ae9310b491027]\n",
       "link E8 to E7--><g id=\"link_E8_E7\"><a href=\"psysml:f605a3b7-992a-46f2-9cbf-567dae0e656e\" target=\"_top\" title=\"psysml:f605a3b7-992a-46f2-9cbf-567dae0e656e\" xlink:actuate=\"onRequest\" xlink:href=\"psysml:f605a3b7-992a-46f2-9cbf-567dae0e656e\" xlink:show=\"new\" xlink:title=\"psysml:f605a3b7-992a-46f2-9cbf-567dae0e656e\" xlink:type=\"simple\"><path d=\"M186.08,148.14 C195.41,160.86 209.05,177.16 224.26,188 C232.06,193.56 238.89,188.07 244.26,196 C248.5,202.26 249.3,207.37 244.26,213 C233.37,225.15 184.13,210.97 171.26,221 C159.02,230.54 151.94,245.82 147.85,260.33 \" fill=\"none\" id=\"E8-to-E7\" style=\"stroke:#181818;stroke-width:1.0;\"/><polygon fill=\"#FFFFFF\" points=\"143.79,279.97,140.7755,259.9472,154.4865,262.7774,143.79,279.97\" style=\"stroke:#181818;stroke-width:1.0;\"/><ellipse cx=\"143.8865\" cy=\"254.7692\" fill=\"#181818\" rx=\"2\" ry=\"2\" style=\"stroke:#181818;stroke-width:1.0;\"/><ellipse cx=\"153.68\" cy=\"256.7908\" fill=\"#181818\" rx=\"2\" ry=\"2\" style=\"stroke:#181818;stroke-width:1.0;\"/></a></g><!--MD5=[c2be97adba6ddfe1c8f349fab141c927]\n",
       "link E9 to E4--><g id=\"link_E9_E4\"><a href=\"psysml:f74e7f7d-bc69-4c36-9a7b-616abfb119b1\" target=\"_top\" title=\"psysml:f74e7f7d-bc69-4c36-9a7b-616abfb119b1\" xlink:actuate=\"onRequest\" xlink:href=\"psysml:f74e7f7d-bc69-4c36-9a7b-616abfb119b1\" xlink:show=\"new\" xlink:title=\"psysml:f74e7f7d-bc69-4c36-9a7b-616abfb119b1\" xlink:type=\"simple\"><path d=\"M248.4039,172.1659 C248.4738,172.6306 248.5432,173.0964 248.612,173.563 C249.7131,181.0288 250.665,188.715 251.26,196 C253.26,220.48 248.38,247.9 243.34,268.3 \" fill=\"none\" id=\"E9-to-E4\" style=\"stroke:#181818;stroke-width:1.0;stroke-dasharray:7.0,7.0;\"/><polygon fill=\"#181818\" points=\"242.06,273.32,248.1503,265.5799,243.2895,268.4735,240.3959,263.6127,242.06,273.32\" style=\"stroke:#181818;stroke-width:1.0;\"/><text fill=\"#000000\" font-family=\"sans-serif\" font-size=\"13\" lengthAdjust=\"spacing\" textLength=\"65\" x=\"252.26\" y=\"209.0669\">«import»*</text></a></g><!--MD5=[feeac5eb423634930294aa81f2d25a4c]\n",
       "link E10 to E3--><g id=\"link_E10_E3\"><a href=\"psysml:7688159c-03f6-437a-9242-bafcaad292a9\" target=\"_top\" title=\"psysml:7688159c-03f6-437a-9242-bafcaad292a9\" xlink:actuate=\"onRequest\" xlink:href=\"psysml:7688159c-03f6-437a-9242-bafcaad292a9\" xlink:show=\"new\" xlink:title=\"psysml:7688159c-03f6-437a-9242-bafcaad292a9\" xlink:type=\"simple\"><path d=\"M334.7,148.15 C354.01,166.19 375.62,193.33 358.26,213 C339.29,234.49 313.45,199.7 294.26,221 C280.55,236.22 284.34,364.85 287.27,431.42 \" fill=\"none\" id=\"E10-to-E3\" style=\"stroke:#181818;stroke-width:1.0;\"/><polygon fill=\"#FFFFFF\" points=\"288.23,451.72,280.3551,433.0656,294.34,432.4154,288.23,451.72\" style=\"stroke:#181818;stroke-width:1.0;\"/><ellipse cx=\"282.0882\" cy=\"427.2789\" fill=\"#181818\" rx=\"2\" ry=\"2\" style=\"stroke:#181818;stroke-width:1.0;\"/><ellipse cx=\"292.0774\" cy=\"426.8144\" fill=\"#181818\" rx=\"2\" ry=\"2\" style=\"stroke:#181818;stroke-width:1.0;\"/></a></g><!--MD5=[c4df4e447b8589c16ab8c2f58ba61711]\n",
       "@startuml\r\n",
       " skinparam ranksep 10\r\n",
       "skinparam rectangle {\r\n",
       " backgroundColor<<block>> LightGreen\r\n",
       "}\r\n",
       "\r\n",
       "package \"PrivateImportTest\" as E1  [[psysml:11a30fa2-fbeb-4b2d-a071-2781e63d5a12 ]]  {\r\n",
       "package \"P1\" as E2  [[psysml:29bb8ef7-a50f-48a8-b243-dfabeed2550d ]]  {\r\n",
       "rec def \"A\" as E3  << << (B,green) >> [[psysml:5dfb8e4e-b010-43d6-9ea6-8d8096aa0cbd ]] {\r\n",
       "}\r\n",
       "}\r\n",
       "package \"P2\" as E4  [[psysml:6d745f5d-a6bd-48d3-bb38-b4db6224b450 ]]  {\r\n",
       "}\r\n",
       "rec usage \"x: A\" as E5 [[psysml:fd0b961b-4bae-44e8-b09a-9c87fac280e3 ]] {\r\n",
       "}\r\n",
       "package \"P3\" as E6  [[psysml:3afe7580-df30-4ff0-95e6-ec63d3638055 ]]  {\r\n",
       "rec def \"B\" as E7  << << (B,green) >> [[psysml:05031283-db67-47ce-b074-a753e1e8519b ]] {\r\n",
       "}\r\n",
       "}\r\n",
       "rec usage \"z: B\" as E8 [[psysml:87e3ce51-5094-4f5d-8d11-feac4ad1e872 ]] {\r\n",
       "}\r\n",
       "package \"P4\" as E9  [[psysml:a1b56716-f996-4480-88b0-3733f2d7733c ]]  {\r\n",
       "rec usage \"z1: A\" as E10 [[psysml:630baa2a-121f-4da7-a3fd-6c76e707d010 ]] {\r\n",
       "}\r\n",
       "}\r\n",
       "}\r\n",
       "E4 ..> E2 [[psysml:0487f209-9870-4837-a273-e80eaf0041e3 ]] : <<import>>*\r\n",
       "E5 - -:|> E3 [[psysml:fdb905ca-fd31-45b2-b41e-28dfb09dbd5e ]] \r\n",
       "E1 ..> E4 [[psysml:60fcb482-826b-48b1-b5dc-27f8a317149a ]] : <<import>>*\r\n",
       "E1 ..> E6 [[psysml:37c9a4c7-80e6-494a-a65a-d8ec35cca65c ]] : <<import>>*\r\n",
       "E8 - -:|> E7 [[psysml:f605a3b7-992a-46f2-9cbf-567dae0e656e ]] \r\n",
       "E9 ..> E4 [[psysml:f74e7f7d-bc69-4c36-9a7b-616abfb119b1 ]] : <<import>>*\r\n",
       "E10 - -:|> E3 [[psysml:7688159c-03f6-437a-9242-bafcaad292a9 ]] \r\n",
       "@enduml\r\n",
       "\n",
       "PlantUML version 1.2022.7(Mon Aug 22 17:01:30 UTC 2022)\n",
       "(EPL source distribution)\n",
       "Java Runtime: OpenJDK Runtime Environment\n",
       "JVM: OpenJDK 64-Bit Server VM\n",
       "Default Encoding: UTF-8\n",
       "Language: en\n",
       "Country: null\n",
       "--></g></svg>"
      ]
     },
     "execution_count": 33,
     "metadata": {},
     "output_type": "execute_result"
    }
   ],
   "source": [
    "%viz --style=\"PLANTUML\" --view=\"Interconnection\" \"PrivateImportTest\""
   ]
  },
  {
   "cell_type": "code",
   "execution_count": 34,
   "id": "0b4f2bb2",
   "metadata": {
    "execution": {
     "iopub.execute_input": "2024-12-16T14:17:05.117359Z",
     "iopub.status.busy": "2024-12-16T14:17:05.117072Z",
     "iopub.status.idle": "2024-12-16T14:17:05.121678Z",
     "shell.execute_reply": "2024-12-16T14:17:05.121497Z"
    }
   },
   "outputs": [
    {
     "data": {
      "image/svg+xml": [
       "<?xml version=\"1.0\" encoding=\"UTF-8\" standalone=\"no\"?><svg xmlns=\"http://www.w3.org/2000/svg\" xmlns:xlink=\"http://www.w3.org/1999/xlink\" contentStyleType=\"text/css\" height=\"10px\" preserveAspectRatio=\"none\" style=\"width:10px;height:10px;background:#FFFFFF;\" version=\"1.1\" viewBox=\"0 0 10 10\" width=\"10px\" zoomAndPan=\"magnify\"><defs/><g><!--MD5=[5b85ed15c012f432344d03f88cdcf85b]\n",
       "@startuml\r\n",
       " skinparam ranksep 8\r\n",
       "\r\n",
       "@enduml\r\n",
       "\n",
       "PlantUML version 1.2022.7(Mon Aug 22 17:01:30 UTC 2022)\n",
       "(EPL source distribution)\n",
       "Java Runtime: OpenJDK Runtime Environment\n",
       "JVM: OpenJDK 64-Bit Server VM\n",
       "Default Encoding: UTF-8\n",
       "Language: en\n",
       "Country: null\n",
       "--></g></svg>"
      ]
     },
     "execution_count": 34,
     "metadata": {},
     "output_type": "execute_result"
    }
   ],
   "source": [
    "%viz --style=\"PLANTUML\" --view=\"Action\" \"PrivateImportTest\""
   ]
  },
  {
   "cell_type": "code",
   "execution_count": 35,
   "id": "e4bc5e5e",
   "metadata": {
    "execution": {
     "iopub.execute_input": "2024-12-16T14:17:05.172696Z",
     "iopub.status.busy": "2024-12-16T14:17:05.172469Z",
     "iopub.status.idle": "2024-12-16T14:17:05.177486Z",
     "shell.execute_reply": "2024-12-16T14:17:05.177308Z"
    }
   },
   "outputs": [
    {
     "data": {
      "image/svg+xml": [
       "<?xml version=\"1.0\" encoding=\"UTF-8\" standalone=\"no\"?><svg xmlns=\"http://www.w3.org/2000/svg\" xmlns:xlink=\"http://www.w3.org/1999/xlink\" contentStyleType=\"text/css\" height=\"10px\" preserveAspectRatio=\"none\" style=\"width:10px;height:10px;background:#FFFFFF;\" version=\"1.1\" viewBox=\"0 0 10 10\" width=\"10px\" zoomAndPan=\"magnify\"><defs/><g><!--MD5=[395e82ba475bd2e80052467b56fa0251]\n",
       "@startuml\r\n",
       " skinparam roundcorner 20\r\n",
       "skinparam BoxPadding 20\r\n",
       "skinparam SequenceBoxBackgroundColor #white\r\n",
       "skinparam style strictuml\r\n",
       "skinparam maxMessageSize 100\r\n",
       "\r\n",
       "@enduml\r\n",
       "\n",
       "PlantUML version 1.2022.7(Mon Aug 22 17:01:30 UTC 2022)\n",
       "(EPL source distribution)\n",
       "Java Runtime: OpenJDK Runtime Environment\n",
       "JVM: OpenJDK 64-Bit Server VM\n",
       "Default Encoding: UTF-8\n",
       "Language: en\n",
       "Country: null\n",
       "--></g></svg>"
      ]
     },
     "execution_count": 35,
     "metadata": {},
     "output_type": "execute_result"
    }
   ],
   "source": [
    "%viz --style=\"PLANTUML\" --view=\"Sequence\" \"PrivateImportTest\""
   ]
  },
  {
   "cell_type": "code",
   "execution_count": 36,
   "id": "bcade67c",
   "metadata": {
    "execution": {
     "iopub.execute_input": "2024-12-16T14:17:05.234383Z",
     "iopub.status.busy": "2024-12-16T14:17:05.234135Z",
     "iopub.status.idle": "2024-12-16T14:17:05.263433Z",
     "shell.execute_reply": "2024-12-16T14:17:05.263209Z"
    }
   },
   "outputs": [
    {
     "data": {
      "image/svg+xml": [
       "<?xml version=\"1.0\" encoding=\"UTF-8\" standalone=\"no\"?><svg xmlns=\"http://www.w3.org/2000/svg\" xmlns:xlink=\"http://www.w3.org/1999/xlink\" contentStyleType=\"text/css\" height=\"571px\" preserveAspectRatio=\"none\" style=\"width:416px;height:571px;background:#FFFFFF;\" version=\"1.1\" viewBox=\"0 0 416 571\" width=\"416px\" zoomAndPan=\"magnify\"><defs/><g><!--MD5=[fbc87193dbaf4d95561dea2c320d4a47]\n",
       "cluster E1--><g id=\"cluster_E1\"><a href=\"psysml:11a30fa2-fbeb-4b2d-a071-2781e63d5a12\" target=\"_top\" title=\"psysml:11a30fa2-fbeb-4b2d-a071-2781e63d5a12\" xlink:actuate=\"onRequest\" xlink:href=\"psysml:11a30fa2-fbeb-4b2d-a071-2781e63d5a12\" xlink:show=\"new\" xlink:title=\"psysml:11a30fa2-fbeb-4b2d-a071-2781e63d5a12\" xlink:type=\"simple\"><path d=\"M29.04,6 L158.4775,6 A3.75,3.75 0 0 1 160.9775,8.5 L167.9775,28.2969 L407.04,28.2969 A2.5,2.5 0 0 1 409.54,30.7969 L409.54,561.5 A2.5,2.5 0 0 1 407.04,564 L29.04,564 A2.5,2.5 0 0 1 26.54,561.5 L26.54,8.5 A2.5,2.5 0 0 1 29.04,6 \" fill=\"none\" style=\"stroke:#000000;stroke-width:1.5;\"/><line style=\"stroke:#000000;stroke-width:1.5;\" x1=\"26.54\" x2=\"167.9775\" y1=\"28.2969\" y2=\"28.2969\"/><text fill=\"#000000\" font-family=\"sans-serif\" font-size=\"14\" font-weight=\"bold\" lengthAdjust=\"spacing\" textLength=\"128.4375\" x=\"30.54\" y=\"20.9951\">PrivateImportTest</text></a></g><!--MD5=[e4f7fae6ed58524ba242bb0b0d3be6b7]\n",
       "cluster E2--><g id=\"cluster_E2\"><a href=\"psysml:29bb8ef7-a50f-48a8-b243-dfabeed2550d\" target=\"_top\" title=\"psysml:29bb8ef7-a50f-48a8-b243-dfabeed2550d\" xlink:actuate=\"onRequest\" xlink:href=\"psysml:29bb8ef7-a50f-48a8-b243-dfabeed2550d\" xlink:show=\"new\" xlink:title=\"psysml:29bb8ef7-a50f-48a8-b243-dfabeed2550d\" xlink:type=\"simple\"><path d=\"M220.04,417 L239.915,417 A3.75,3.75 0 0 1 242.415,419.5 L249.415,439.2969 L324.04,439.2969 A2.5,2.5 0 0 1 326.54,441.7969 L326.54,521.5 A2.5,2.5 0 0 1 324.04,524 L220.04,524 A2.5,2.5 0 0 1 217.54,521.5 L217.54,419.5 A2.5,2.5 0 0 1 220.04,417 \" fill=\"none\" style=\"stroke:#000000;stroke-width:1.5;\"/><line style=\"stroke:#000000;stroke-width:1.5;\" x1=\"217.54\" x2=\"249.415\" y1=\"439.2969\" y2=\"439.2969\"/><text fill=\"#000000\" font-family=\"sans-serif\" font-size=\"14\" font-weight=\"bold\" lengthAdjust=\"spacing\" textLength=\"18.875\" x=\"221.54\" y=\"431.9951\">P1</text></a></g><!--MD5=[14e3b0961a2654348d326746436168a1]\n",
       "cluster E6--><g id=\"cluster_E6\"><a href=\"psysml:3afe7580-df30-4ff0-95e6-ec63d3638055\" target=\"_top\" title=\"psysml:3afe7580-df30-4ff0-95e6-ec63d3638055\" xlink:actuate=\"onRequest\" xlink:href=\"psysml:3afe7580-df30-4ff0-95e6-ec63d3638055\" xlink:show=\"new\" xlink:title=\"psysml:3afe7580-df30-4ff0-95e6-ec63d3638055\" xlink:type=\"simple\"><path d=\"M77.04,245 L96.915,245 A3.75,3.75 0 0 1 99.415,247.5 L106.415,267.2969 L181.04,267.2969 A2.5,2.5 0 0 1 183.54,269.7969 L183.54,349.5 A2.5,2.5 0 0 1 181.04,352 L77.04,352 A2.5,2.5 0 0 1 74.54,349.5 L74.54,247.5 A2.5,2.5 0 0 1 77.04,245 \" fill=\"none\" style=\"stroke:#000000;stroke-width:1.5;\"/><line style=\"stroke:#000000;stroke-width:1.5;\" x1=\"74.54\" x2=\"106.415\" y1=\"267.2969\" y2=\"267.2969\"/><text fill=\"#000000\" font-family=\"sans-serif\" font-size=\"14\" font-weight=\"bold\" lengthAdjust=\"spacing\" textLength=\"18.875\" x=\"78.54\" y=\"259.9951\">P3</text></a></g><!--MD5=[7f149f147074ac12df2cb0a7728a5fb0]\n",
       "cluster E9--><g id=\"cluster_E9\"><a href=\"psysml:a1b56716-f996-4480-88b0-3733f2d7733c\" target=\"_top\" title=\"psysml:a1b56716-f996-4480-88b0-3733f2d7733c\" xlink:actuate=\"onRequest\" xlink:href=\"psysml:a1b56716-f996-4480-88b0-3733f2d7733c\" xlink:show=\"new\" xlink:title=\"psysml:a1b56716-f996-4480-88b0-3733f2d7733c\" xlink:type=\"simple\"><path d=\"M230.04,65 L249.915,65 A3.75,3.75 0 0 1 252.415,67.5 L259.415,87.2969 L367.04,87.2969 A2.5,2.5 0 0 1 369.54,89.7969 L369.54,177.5 A2.5,2.5 0 0 1 367.04,180 L230.04,180 A2.5,2.5 0 0 1 227.54,177.5 L227.54,67.5 A2.5,2.5 0 0 1 230.04,65 \" fill=\"none\" style=\"stroke:#000000;stroke-width:1.5;\"/><line style=\"stroke:#000000;stroke-width:1.5;\" x1=\"227.54\" x2=\"259.415\" y1=\"87.2969\" y2=\"87.2969\"/><text fill=\"#000000\" font-family=\"sans-serif\" font-size=\"14\" font-weight=\"bold\" lengthAdjust=\"spacing\" textLength=\"18.875\" x=\"231.54\" y=\"79.9951\">P4</text></a></g><!--MD5=[270fce915f116d4de14055a7c1d9a0f3]\n",
       "class E5--><a href=\"psysml:fd0b961b-4bae-44e8-b09a-9c87fac280e3\" target=\"_top\" title=\"psysml:fd0b961b-4bae-44e8-b09a-9c87fac280e3\" xlink:actuate=\"onRequest\" xlink:href=\"psysml:fd0b961b-4bae-44e8-b09a-9c87fac280e3\" xlink:show=\"new\" xlink:title=\"psysml:fd0b961b-4bae-44e8-b09a-9c87fac280e3\" xlink:type=\"simple\"><g id=\"elem_E5\"><rect fill=\"#F1F1F1\" height=\"48.2656\" id=\"E5\" rx=\"10\" ry=\"10\" style=\"stroke:#181818;stroke-width:0.5;\" width=\"68\" x=\"317.54\" y=\"284\"/><ellipse cx=\"332.54\" cy=\"304.1328\" fill=\"#32CD32\" rx=\"11\" ry=\"11\" style=\"stroke:#181818;stroke-width:1.0;\"/><path d=\"M329.3994,310.6328 L329.3994,298.4922 L333.4306,298.4922 Q335.5244,298.4922 336.54,299.4766 Q337.5556,300.4453 337.5556,302.2734 Q337.5556,303.4766 337.1181,304.3828 Q336.6963,305.2891 335.7431,305.8047 Q334.8056,306.3203 333.2744,306.3203 L331.7744,306.3203 L331.7744,310.6328 L329.3994,310.6328 Z M333.0244,304.2266 Q334.0713,304.2266 334.5869,303.7422 Q335.1181,303.2578 335.1181,302.3672 Q335.1181,301.4766 334.6806,301.0391 Q334.2588,300.5859 333.3369,300.5859 L331.7744,300.5859 L331.7744,304.2266 L333.0244,304.2266 Z \" fill=\"#000000\"/><text fill=\"#000000\" font-family=\"sans-serif\" font-size=\"12\" font-style=\"italic\" lengthAdjust=\"spacing\" textLength=\"40\" x=\"344.54\" y=\"300.1387\">«part»</text><text fill=\"#000000\" font-family=\"sans-serif\" font-size=\"14\" lengthAdjust=\"spacing\" textLength=\"25\" x=\"348.04\" y=\"315.9639\">x: A</text><line style=\"stroke:#181818;stroke-width:0.5;\" x1=\"318.54\" x2=\"384.54\" y1=\"324.2656\" y2=\"324.2656\"/></g></a><!--MD5=[b9389687b975829384b498ac4b7476b2]\n",
       "class E8--><a href=\"psysml:87e3ce51-5094-4f5d-8d11-feac4ad1e872\" target=\"_top\" title=\"psysml:87e3ce51-5094-4f5d-8d11-feac4ad1e872\" xlink:actuate=\"onRequest\" xlink:href=\"psysml:87e3ce51-5094-4f5d-8d11-feac4ad1e872\" xlink:show=\"new\" xlink:title=\"psysml:87e3ce51-5094-4f5d-8d11-feac4ad1e872\" xlink:type=\"simple\"><g id=\"elem_E8\"><rect fill=\"#F1F1F1\" height=\"48.2656\" id=\"E8\" rx=\"10\" ry=\"10\" style=\"stroke:#181818;stroke-width:0.5;\" width=\"68\" x=\"132.54\" y=\"108\"/><ellipse cx=\"147.54\" cy=\"128.1328\" fill=\"#32CD32\" rx=\"11\" ry=\"11\" style=\"stroke:#181818;stroke-width:1.0;\"/><path d=\"M144.3994,134.6328 L144.3994,122.4922 L148.4306,122.4922 Q150.5244,122.4922 151.54,123.4766 Q152.5556,124.4453 152.5556,126.2734 Q152.5556,127.4766 152.1181,128.3828 Q151.6963,129.2891 150.7431,129.8047 Q149.8056,130.3203 148.2744,130.3203 L146.7744,130.3203 L146.7744,134.6328 L144.3994,134.6328 Z M148.0244,128.2266 Q149.0713,128.2266 149.5869,127.7422 Q150.1181,127.2578 150.1181,126.3672 Q150.1181,125.4766 149.6806,125.0391 Q149.2588,124.5859 148.3369,124.5859 L146.7744,124.5859 L146.7744,128.2266 L148.0244,128.2266 Z \" fill=\"#000000\"/><text fill=\"#000000\" font-family=\"sans-serif\" font-size=\"12\" font-style=\"italic\" lengthAdjust=\"spacing\" textLength=\"40\" x=\"159.54\" y=\"124.1387\">«part»</text><text fill=\"#000000\" font-family=\"sans-serif\" font-size=\"14\" lengthAdjust=\"spacing\" textLength=\"27\" x=\"162.04\" y=\"139.9639\">z: B</text><line style=\"stroke:#181818;stroke-width:0.5;\" x1=\"133.54\" x2=\"199.54\" y1=\"148.2656\" y2=\"148.2656\"/></g></a><!--MD5=[09b614a08d8cba4a07c9adeb5e0fee81]\n",
       "class E3--><a href=\"psysml:5dfb8e4e-b010-43d6-9ea6-8d8096aa0cbd\" target=\"_top\" title=\"psysml:5dfb8e4e-b010-43d6-9ea6-8d8096aa0cbd\" xlink:actuate=\"onRequest\" xlink:href=\"psysml:5dfb8e4e-b010-43d6-9ea6-8d8096aa0cbd\" xlink:show=\"new\" xlink:title=\"psysml:5dfb8e4e-b010-43d6-9ea6-8d8096aa0cbd\" xlink:type=\"simple\"><g id=\"elem_E3\"><rect fill=\"#F1F1F1\" height=\"40\" id=\"E3\" rx=\"2.5\" ry=\"2.5\" style=\"stroke:#181818;stroke-width:0.5;\" width=\"41\" x=\"261.04\" y=\"460\"/><ellipse cx=\"276.04\" cy=\"476\" fill=\"#008000\" rx=\"11\" ry=\"11\" style=\"stroke:#181818;stroke-width:1.0;\"/><path d=\"M272.8994,482.5 L272.8994,470.3594 L276.6963,470.3594 Q278.6963,470.3594 279.7431,471.0625 Q280.8056,471.7656 280.8056,473.3438 Q280.8056,474.4375 280.3056,475.1563 Q279.8213,475.875 278.9931,476.0625 L278.9931,476.1406 Q279.915,476.3594 280.4775,477.0313 Q281.0556,477.6875 281.0556,478.9531 Q281.0556,480.6094 280.0088,481.5625 Q278.9619,482.5 277.1025,482.5 L272.8994,482.5 Z M276.6806,475.1406 Q277.5713,475.1406 277.9306,474.8125 Q278.3056,474.4688 278.3056,473.7656 Q278.3056,473.0313 277.915,472.7188 Q277.5244,472.3906 276.5869,472.3906 L275.1963,472.3906 L275.1963,475.1406 L276.6806,475.1406 Z M276.8681,480.4844 Q277.7744,480.4844 278.1338,480.0469 Q278.4931,479.5938 278.4931,478.8125 Q278.4931,478.0313 278.1181,477.6406 Q277.7588,477.2344 276.7744,477.2344 L275.1963,477.2344 L275.1963,480.4844 L276.8681,480.4844 Z \" fill=\"#000000\"/><text fill=\"#000000\" font-family=\"sans-serif\" font-size=\"14\" lengthAdjust=\"spacing\" textLength=\"9\" x=\"290.04\" y=\"480.8467\">A</text><line style=\"stroke:#181818;stroke-width:0.5;\" x1=\"262.04\" x2=\"301.04\" y1=\"492\" y2=\"492\"/></g></a><a href=\"psysml:6d745f5d-a6bd-48d3-bb38-b4db6224b450\" target=\"_top\" title=\"psysml:6d745f5d-a6bd-48d3-bb38-b4db6224b450\" xlink:actuate=\"onRequest\" xlink:href=\"psysml:6d745f5d-a6bd-48d3-bb38-b4db6224b450\" xlink:show=\"new\" xlink:title=\"psysml:6d745f5d-a6bd-48d3-bb38-b4db6224b450\" xlink:type=\"simple\"><path d=\"M210.04,281.5 L229.04,281.5 A3.75,3.75 0 0 1 231.54,284 L238.54,303.7969 L243.04,303.7969 A2.5,2.5 0 0 1 245.54,306.2969 L245.54,331.5938 A2.5,2.5 0 0 1 243.04,334.0938 L210.04,334.0938 A2.5,2.5 0 0 1 207.54,331.5938 L207.54,284 A2.5,2.5 0 0 1 210.04,281.5 \" fill=\"#F1F1F1\" style=\"stroke:#181818;stroke-width:0.5;\"/><line style=\"stroke:#181818;stroke-width:0.5;\" x1=\"207.54\" x2=\"238.54\" y1=\"303.7969\" y2=\"303.7969\"/><text fill=\"#000000\" font-family=\"sans-serif\" font-size=\"14\" lengthAdjust=\"spacing\" textLength=\"18\" x=\"211.54\" y=\"296.4951\">P2</text></a><!--MD5=[2156ba9850f5573cc1fc38a6a4b2f02b]\n",
       "class E7--><a href=\"psysml:05031283-db67-47ce-b074-a753e1e8519b\" target=\"_top\" title=\"psysml:05031283-db67-47ce-b074-a753e1e8519b\" xlink:actuate=\"onRequest\" xlink:href=\"psysml:05031283-db67-47ce-b074-a753e1e8519b\" xlink:show=\"new\" xlink:title=\"psysml:05031283-db67-47ce-b074-a753e1e8519b\" xlink:type=\"simple\"><g id=\"elem_E7\"><rect fill=\"#F1F1F1\" height=\"40\" id=\"E7\" rx=\"2.5\" ry=\"2.5\" style=\"stroke:#181818;stroke-width:0.5;\" width=\"42\" x=\"117.54\" y=\"288\"/><ellipse cx=\"132.54\" cy=\"304\" fill=\"#008000\" rx=\"11\" ry=\"11\" style=\"stroke:#181818;stroke-width:1.0;\"/><path d=\"M129.3994,310.5 L129.3994,298.3594 L133.1963,298.3594 Q135.1963,298.3594 136.2431,299.0625 Q137.3056,299.7656 137.3056,301.3438 Q137.3056,302.4375 136.8056,303.1563 Q136.3213,303.875 135.4931,304.0625 L135.4931,304.1406 Q136.415,304.3594 136.9775,305.0313 Q137.5556,305.6875 137.5556,306.9531 Q137.5556,308.6094 136.5088,309.5625 Q135.4619,310.5 133.6025,310.5 L129.3994,310.5 Z M133.1806,303.1406 Q134.0713,303.1406 134.4306,302.8125 Q134.8056,302.4688 134.8056,301.7656 Q134.8056,301.0313 134.415,300.7188 Q134.0244,300.3906 133.0869,300.3906 L131.6963,300.3906 L131.6963,303.1406 L133.1806,303.1406 Z M133.3681,308.4844 Q134.2744,308.4844 134.6338,308.0469 Q134.9931,307.5938 134.9931,306.8125 Q134.9931,306.0313 134.6181,305.6406 Q134.2588,305.2344 133.2744,305.2344 L131.6963,305.2344 L131.6963,308.4844 L133.3681,308.4844 Z \" fill=\"#000000\"/><text fill=\"#000000\" font-family=\"sans-serif\" font-size=\"14\" lengthAdjust=\"spacing\" textLength=\"10\" x=\"146.54\" y=\"308.8467\">B</text><line style=\"stroke:#181818;stroke-width:0.5;\" x1=\"118.54\" x2=\"158.54\" y1=\"320\" y2=\"320\"/></g></a><!--MD5=[96f4274e9e20536e775497830990834d]\n",
       "class E10--><a href=\"psysml:630baa2a-121f-4da7-a3fd-6c76e707d010\" target=\"_top\" title=\"psysml:630baa2a-121f-4da7-a3fd-6c76e707d010\" xlink:actuate=\"onRequest\" xlink:href=\"psysml:630baa2a-121f-4da7-a3fd-6c76e707d010\" xlink:show=\"new\" xlink:title=\"psysml:630baa2a-121f-4da7-a3fd-6c76e707d010\" xlink:type=\"simple\"><g id=\"elem_E10\"><rect fill=\"#F1F1F1\" height=\"48.2656\" id=\"E10\" rx=\"10\" ry=\"10\" style=\"stroke:#181818;stroke-width:0.5;\" width=\"75\" x=\"271.04\" y=\"108\"/><ellipse cx=\"286.04\" cy=\"128.1328\" fill=\"#32CD32\" rx=\"11\" ry=\"11\" style=\"stroke:#181818;stroke-width:1.0;\"/><path d=\"M282.8994,134.6328 L282.8994,122.4922 L286.9306,122.4922 Q289.0244,122.4922 290.04,123.4766 Q291.0556,124.4453 291.0556,126.2734 Q291.0556,127.4766 290.6181,128.3828 Q290.1963,129.2891 289.2431,129.8047 Q288.3056,130.3203 286.7744,130.3203 L285.2744,130.3203 L285.2744,134.6328 L282.8994,134.6328 Z M286.5244,128.2266 Q287.5713,128.2266 288.0869,127.7422 Q288.6181,127.2578 288.6181,126.3672 Q288.6181,125.4766 288.1806,125.0391 Q287.7588,124.5859 286.8369,124.5859 L285.2744,124.5859 L285.2744,128.2266 L286.5244,128.2266 Z \" fill=\"#000000\"/><text fill=\"#000000\" font-family=\"sans-serif\" font-size=\"12\" font-style=\"italic\" lengthAdjust=\"spacing\" textLength=\"40\" x=\"301.54\" y=\"124.1387\">«part»</text><text fill=\"#000000\" font-family=\"sans-serif\" font-size=\"14\" lengthAdjust=\"spacing\" textLength=\"35\" x=\"300.04\" y=\"139.9639\">z1: A</text><line style=\"stroke:#181818;stroke-width:0.5;\" x1=\"272.04\" x2=\"345.04\" y1=\"148.2656\" y2=\"148.2656\"/></g></a><!--MD5=[185131fc0dcab0a4505a2ebe144e961b]\n",
       "link E4 to E2--><g id=\"link_E4_E2\"><a href=\"psysml:0487f209-9870-4837-a273-e80eaf0041e3\" target=\"_top\" title=\"psysml:0487f209-9870-4837-a273-e80eaf0041e3\" xlink:actuate=\"onRequest\" xlink:href=\"psysml:0487f209-9870-4837-a273-e80eaf0041e3\" xlink:show=\"new\" xlink:title=\"psysml:0487f209-9870-4837-a273-e80eaf0041e3\" xlink:type=\"simple\"><path d=\"M216.49,334.66 C212.19,346.96 207.68,362.02 205.54,376 C202.125,398.33 206.71,423.1925 212.3462,442.8963 C213.7553,447.8222 215.2301,452.4257 216.662,456.5866 C216.841,457.1067 217.0193,457.6199 217.1967,458.126 C217.2854,458.379 217.3739,458.6302 217.4622,458.8797 \" fill=\"none\" id=\"E4-to-E2\" style=\"stroke:#181818;stroke-width:1.0;stroke-dasharray:7.0,7.0;\"/><polygon fill=\"#181818\" points=\"217.4622,458.8797,218.2311,449.0609,215.7944,454.166,210.6892,451.7293,217.4622,458.8797\" style=\"stroke:#181818;stroke-width:1.0;\"/><text fill=\"#000000\" font-family=\"sans-serif\" font-size=\"13\" lengthAdjust=\"spacing\" textLength=\"65\" x=\"206.54\" y=\"389.0669\">«import»*</text></a></g><!--MD5=[e9be52314489bd878ff4c7144b63c9e1]\n",
       "link E5 to E3--><g id=\"link_E5_E3\"><a href=\"psysml:fdb905ca-fd31-45b2-b41e-28dfb09dbd5e\" target=\"_top\" title=\"psysml:fdb905ca-fd31-45b2-b41e-28dfb09dbd5e\" xlink:actuate=\"onRequest\" xlink:href=\"psysml:fdb905ca-fd31-45b2-b41e-28dfb09dbd5e\" xlink:show=\"new\" xlink:title=\"psysml:fdb905ca-fd31-45b2-b41e-28dfb09dbd5e\" xlink:type=\"simple\"><path d=\"M341.95,332.28 C330.39,360.37 310.79,407.97 297.06,441.31 \" fill=\"none\" id=\"E5-to-E3\" style=\"stroke:#181818;stroke-width:1.0;\"/><polygon fill=\"#FFFFFF\" points=\"289.39,459.93,290.1484,439.6957,303.0947,445.0242,289.39,459.93\" style=\"stroke:#181818;stroke-width:1.0;\"/><ellipse cx=\"294.1673\" cy=\"435.186\" fill=\"#181818\" rx=\"2\" ry=\"2\" style=\"stroke:#181818;stroke-width:1.0;\"/><ellipse cx=\"303.4147\" cy=\"438.992\" fill=\"#181818\" rx=\"2\" ry=\"2\" style=\"stroke:#181818;stroke-width:1.0;\"/></a></g><!--MD5=[ee384bb554873b72f85793eae40e290c]\n",
       "link E1 to E4--><g id=\"link_E1_E4\"><a href=\"psysml:60fcb482-826b-48b1-b5dc-27f8a317149a\" target=\"_top\" title=\"psysml:60fcb482-826b-48b1-b5dc-27f8a317149a\" xlink:actuate=\"onRequest\" xlink:href=\"psysml:60fcb482-826b-48b1-b5dc-27f8a317149a\" xlink:show=\"new\" xlink:title=\"psysml:60fcb482-826b-48b1-b5dc-27f8a317149a\" xlink:type=\"simple\"><path d=\"M34.51,133.12 C33.85,135.64 23.69,176.19 42.54,196 C56.54,210.72 67.74,199.44 87.54,204 C127.16,213.13 142.79,204.91 175.54,229 C192.1,241.18 204.78,260.48 213.36,276.84 \" fill=\"none\" id=\"E1-to-E4\" style=\"stroke:#181818;stroke-width:1.0;stroke-dasharray:7.0,7.0;\"/><polygon fill=\"#181818\" points=\"215.67,281.37,215.1474,271.535,213.3997,276.9151,208.0196,275.1674,215.67,281.37\" style=\"stroke:#181818;stroke-width:1.0;\"/><text fill=\"#000000\" font-family=\"sans-serif\" font-size=\"13\" lengthAdjust=\"spacing\" textLength=\"65\" x=\"163.54\" y=\"217.0669\">«import»*</text></a></g><!--MD5=[ccbd3af71bf83df0ec2a2db62d6d7130]\n",
       "link E1 to E6--><g id=\"link_E1_E6\"><a href=\"psysml:37c9a4c7-80e6-494a-a65a-d8ec35cca65c\" target=\"_top\" title=\"psysml:37c9a4c7-80e6-494a-a65a-d8ec35cca65c\" xlink:actuate=\"onRequest\" xlink:href=\"psysml:37c9a4c7-80e6-494a-a65a-d8ec35cca65c\" xlink:show=\"new\" xlink:title=\"psysml:37c9a4c7-80e6-494a-a65a-d8ec35cca65c\" xlink:type=\"simple\"><path d=\"M26.4524,146.2391 C26.2398,146.6264 26.0252,147.0207 25.8089,147.4216 C24.9438,149.0255 24.0519,150.7367 23.1522,152.5415 C21.3527,156.1512 19.5216,160.1353 17.8088,164.3838 C10.9575,181.3775 6,202.6 12.54,221 C20.535,243.49 37.2075,264.37 52.2763,279.9238 C59.8106,287.7006 66.9441,294.1459 72.3914,298.7952 C73.0723,299.3763 73.7269,299.9294 74.3526,300.4535 \" fill=\"none\" id=\"E1-to-E6\" style=\"stroke:#181818;stroke-width:1.0;stroke-dasharray:7.0,7.0;\"/><polygon fill=\"#181818\" points=\"74.3526,300.4535,70.0217,291.608,70.5196,297.2429,64.8847,297.7408,74.3526,300.4535\" style=\"stroke:#181818;stroke-width:1.0;\"/><text fill=\"#000000\" font-family=\"sans-serif\" font-size=\"13\" lengthAdjust=\"spacing\" textLength=\"65\" x=\"13.54\" y=\"217.0669\">«import»*</text></a></g><!--MD5=[bfa3c8b0d15052fdf50ae9310b491027]\n",
       "link E8 to E7--><g id=\"link_E8_E7\"><a href=\"psysml:f605a3b7-992a-46f2-9cbf-567dae0e656e\" target=\"_top\" title=\"psysml:f605a3b7-992a-46f2-9cbf-567dae0e656e\" xlink:actuate=\"onRequest\" xlink:href=\"psysml:f605a3b7-992a-46f2-9cbf-567dae0e656e\" xlink:show=\"new\" xlink:title=\"psysml:f605a3b7-992a-46f2-9cbf-567dae0e656e\" xlink:type=\"simple\"><path d=\"M181.2,156.24 C190.68,169.57 204.11,185.65 219.54,196 C229.23,202.5 237.66,194.58 244.54,204 C248.99,210.1 249.61,215.4 244.54,221 C232.39,234.4 177.61,217.63 163.54,229 C151.8,238.49 145.49,253.52 142.14,267.86 \" fill=\"none\" id=\"E8-to-E7\" style=\"stroke:#181818;stroke-width:1.0;\"/><polygon fill=\"#FFFFFF\" points=\"139.04,287.67,135.0558,267.8174,148.8881,269.9778,139.04,287.67\" style=\"stroke:#181818;stroke-width:1.0;\"/><ellipse cx=\"137.9114\" cy=\"262.4943\" fill=\"#181818\" rx=\"2\" ry=\"2\" style=\"stroke:#181818;stroke-width:1.0;\"/><ellipse cx=\"147.7916\" cy=\"264.0374\" fill=\"#181818\" rx=\"2\" ry=\"2\" style=\"stroke:#181818;stroke-width:1.0;\"/></a></g><!--MD5=[c2be97adba6ddfe1c8f349fab141c927]\n",
       "link E9 to E4--><g id=\"link_E9_E4\"><a href=\"psysml:f74e7f7d-bc69-4c36-9a7b-616abfb119b1\" target=\"_top\" title=\"psysml:f74e7f7d-bc69-4c36-9a7b-616abfb119b1\" xlink:actuate=\"onRequest\" xlink:href=\"psysml:f74e7f7d-bc69-4c36-9a7b-616abfb119b1\" xlink:show=\"new\" xlink:title=\"psysml:f74e7f7d-bc69-4c36-9a7b-616abfb119b1\" xlink:type=\"simple\"><path d=\"M247.685,180.1111 C249.2869,188.0363 250.6725,196.215 251.54,204 C254.29,228.72 247.17,256.05 239.83,276.34 \" fill=\"none\" id=\"E9-to-E4\" style=\"stroke:#181818;stroke-width:1.0;stroke-dasharray:7.0,7.0;\"/><polygon fill=\"#181818\" points=\"238.07,281.08,244.9754,274.0575,239.8256,276.3984,237.4848,271.2485,238.07,281.08\" style=\"stroke:#181818;stroke-width:1.0;\"/><text fill=\"#000000\" font-family=\"sans-serif\" font-size=\"13\" lengthAdjust=\"spacing\" textLength=\"65\" x=\"252.54\" y=\"217.0669\">«import»*</text></a></g><!--MD5=[feeac5eb423634930294aa81f2d25a4c]\n",
       "link E10 to E3--><g id=\"link_E10_E3\"><a href=\"psysml:7688159c-03f6-437a-9242-bafcaad292a9\" target=\"_top\" title=\"psysml:7688159c-03f6-437a-9242-bafcaad292a9\" xlink:actuate=\"onRequest\" xlink:href=\"psysml:7688159c-03f6-437a-9242-bafcaad292a9\" xlink:show=\"new\" xlink:title=\"psysml:7688159c-03f6-437a-9242-bafcaad292a9\" xlink:type=\"simple\"><path d=\"M336.59,156.04 C356.2,174.88 376,201.49 358.54,221 C347.8,233 297.4,217.11 286.54,229 C272.73,244.12 276.56,372.8 279.53,439.4 \" fill=\"none\" id=\"E10-to-E3\" style=\"stroke:#181818;stroke-width:1.0;\"/><polygon fill=\"#FFFFFF\" points=\"280.5,459.71,272.5985,441.0669,286.5824,440.3967,280.5,459.71\" style=\"stroke:#181818;stroke-width:1.0;\"/><ellipse cx=\"274.3233\" cy=\"435.2777\" fill=\"#181818\" rx=\"2\" ry=\"2\" style=\"stroke:#181818;stroke-width:1.0;\"/><ellipse cx=\"284.3119\" cy=\"434.799\" fill=\"#181818\" rx=\"2\" ry=\"2\" style=\"stroke:#181818;stroke-width:1.0;\"/></a></g><!--MD5=[5e05b5d620f38ccc431bbb34933c5d25]\n",
       "@startuml\r\n",
       " \r\n",
       "package \"PrivateImportTest\" as E1  [[psysml:11a30fa2-fbeb-4b2d-a071-2781e63d5a12 ]]  {\r\n",
       "package \"P1\" as E2  [[psysml:29bb8ef7-a50f-48a8-b243-dfabeed2550d ]]  {\r\n",
       "comp def \"A\" as E3  << << (B,green) >> [[psysml:5dfb8e4e-b010-43d6-9ea6-8d8096aa0cbd ]] {\r\n",
       "}\r\n",
       "}\r\n",
       "package \"P2\" as E4  [[psysml:6d745f5d-a6bd-48d3-bb38-b4db6224b450 ]]  {\r\n",
       "}\r\n",
       "comp usage \"x: A  \" as E5  << << (P,limegreen) part>> [[psysml:fd0b961b-4bae-44e8-b09a-9c87fac280e3 ]] {\r\n",
       "}\r\n",
       "package \"P3\" as E6  [[psysml:3afe7580-df30-4ff0-95e6-ec63d3638055 ]]  {\r\n",
       "comp def \"B\" as E7  << << (B,green) >> [[psysml:05031283-db67-47ce-b074-a753e1e8519b ]] {\r\n",
       "}\r\n",
       "}\r\n",
       "comp usage \"z: B  \" as E8  << << (P,limegreen) part>> [[psysml:87e3ce51-5094-4f5d-8d11-feac4ad1e872 ]] {\r\n",
       "}\r\n",
       "package \"P4\" as E9  [[psysml:a1b56716-f996-4480-88b0-3733f2d7733c ]]  {\r\n",
       "comp usage \"z1: A  \" as E10  << << (P,limegreen) part>> [[psysml:630baa2a-121f-4da7-a3fd-6c76e707d010 ]] {\r\n",
       "}\r\n",
       "}\r\n",
       "}\r\n",
       "E4 ..> E2 [[psysml:0487f209-9870-4837-a273-e80eaf0041e3 ]] : <<import>>*\r\n",
       "E5 - -:|> E3 [[psysml:fdb905ca-fd31-45b2-b41e-28dfb09dbd5e ]] \r\n",
       "E1 ..> E4 [[psysml:60fcb482-826b-48b1-b5dc-27f8a317149a ]] : <<import>>*\r\n",
       "E1 ..> E6 [[psysml:37c9a4c7-80e6-494a-a65a-d8ec35cca65c ]] : <<import>>*\r\n",
       "E8 - -:|> E7 [[psysml:f605a3b7-992a-46f2-9cbf-567dae0e656e ]] \r\n",
       "E9 ..> E4 [[psysml:f74e7f7d-bc69-4c36-9a7b-616abfb119b1 ]] : <<import>>*\r\n",
       "E10 - -:|> E3 [[psysml:7688159c-03f6-437a-9242-bafcaad292a9 ]] \r\n",
       "@enduml\r\n",
       "\n",
       "PlantUML version 1.2022.7(Mon Aug 22 17:01:30 UTC 2022)\n",
       "(EPL source distribution)\n",
       "Java Runtime: OpenJDK Runtime Environment\n",
       "JVM: OpenJDK 64-Bit Server VM\n",
       "Default Encoding: UTF-8\n",
       "Language: en\n",
       "Country: null\n",
       "--></g></svg>"
      ]
     },
     "execution_count": 36,
     "metadata": {},
     "output_type": "execute_result"
    }
   ],
   "source": [
    "%viz --style=\"PLANTUML\" --view=\"MIXED\" \"PrivateImportTest\""
   ]
  },
  {
   "cell_type": "code",
   "execution_count": 37,
   "id": "f4edbdf7",
   "metadata": {
    "execution": {
     "iopub.execute_input": "2024-12-16T14:17:05.317026Z",
     "iopub.status.busy": "2024-12-16T14:17:05.316755Z",
     "iopub.status.idle": "2024-12-16T14:17:05.338143Z",
     "shell.execute_reply": "2024-12-16T14:17:05.337239Z"
    }
   },
   "outputs": [
    {
     "data": {
      "image/svg+xml": [
       "<?xml version=\"1.0\" encoding=\"UTF-8\" standalone=\"no\"?><svg xmlns=\"http://www.w3.org/2000/svg\" xmlns:xlink=\"http://www.w3.org/1999/xlink\" contentStyleType=\"text/css\" height=\"587px\" preserveAspectRatio=\"none\" style=\"width:428px;height:587px;background:#FFFFFF;\" version=\"1.1\" viewBox=\"0 0 428 587\" width=\"428px\" zoomAndPan=\"magnify\"><defs/><g><!--MD5=[fbc87193dbaf4d95561dea2c320d4a47]\n",
       "cluster E1--><g id=\"cluster_E1\"><a href=\"psysml:11a30fa2-fbeb-4b2d-a071-2781e63d5a12\" target=\"_top\" title=\"psysml:11a30fa2-fbeb-4b2d-a071-2781e63d5a12\" xlink:actuate=\"onRequest\" xlink:href=\"psysml:11a30fa2-fbeb-4b2d-a071-2781e63d5a12\" xlink:show=\"new\" xlink:title=\"psysml:11a30fa2-fbeb-4b2d-a071-2781e63d5a12\" xlink:type=\"simple\"><polygon fill=\"none\" points=\"26.335,6,160.7725,6,167.7725,28.2969,411.335,28.2969,411.335,580,26.335,580,26.335,6\" style=\"stroke:#000000;stroke-width:1.5;\"/><line style=\"stroke:#000000;stroke-width:1.5;\" x1=\"26.335\" x2=\"167.7725\" y1=\"28.2969\" y2=\"28.2969\"/><text fill=\"#000000\" font-family=\"sans-serif\" font-size=\"14\" font-weight=\"bold\" lengthAdjust=\"spacing\" textLength=\"128.4375\" x=\"30.335\" y=\"20.9951\">PrivateImportTest</text></a></g><!--MD5=[e4f7fae6ed58524ba242bb0b0d3be6b7]\n",
       "cluster E2--><g id=\"cluster_E2\"><a href=\"psysml:29bb8ef7-a50f-48a8-b243-dfabeed2550d\" target=\"_top\" title=\"psysml:29bb8ef7-a50f-48a8-b243-dfabeed2550d\" xlink:actuate=\"onRequest\" xlink:href=\"psysml:29bb8ef7-a50f-48a8-b243-dfabeed2550d\" xlink:show=\"new\" xlink:title=\"psysml:29bb8ef7-a50f-48a8-b243-dfabeed2550d\" xlink:type=\"simple\"><polygon fill=\"none\" points=\"231.335,425,256.21,425,263.21,447.2969,368.335,447.2969,368.335,540,231.335,540,231.335,425\" style=\"stroke:#000000;stroke-width:1.5;\"/><line style=\"stroke:#000000;stroke-width:1.5;\" x1=\"231.335\" x2=\"263.21\" y1=\"447.2969\" y2=\"447.2969\"/><text fill=\"#000000\" font-family=\"sans-serif\" font-size=\"14\" font-weight=\"bold\" lengthAdjust=\"spacing\" textLength=\"18.875\" x=\"235.335\" y=\"439.9951\">P1</text></a></g><!--MD5=[14e3b0961a2654348d326746436168a1]\n",
       "cluster E6--><g id=\"cluster_E6\"><a href=\"psysml:3afe7580-df30-4ff0-95e6-ec63d3638055\" target=\"_top\" title=\"psysml:3afe7580-df30-4ff0-95e6-ec63d3638055\" xlink:actuate=\"onRequest\" xlink:href=\"psysml:3afe7580-df30-4ff0-95e6-ec63d3638055\" xlink:show=\"new\" xlink:title=\"psysml:3afe7580-df30-4ff0-95e6-ec63d3638055\" xlink:type=\"simple\"><polygon fill=\"none\" points=\"74.335,245,99.21,245,106.21,267.2969,211.335,267.2969,211.335,360,74.335,360,74.335,245\" style=\"stroke:#000000;stroke-width:1.5;\"/><line style=\"stroke:#000000;stroke-width:1.5;\" x1=\"74.335\" x2=\"106.21\" y1=\"267.2969\" y2=\"267.2969\"/><text fill=\"#000000\" font-family=\"sans-serif\" font-size=\"14\" font-weight=\"bold\" lengthAdjust=\"spacing\" textLength=\"18.875\" x=\"78.335\" y=\"259.9951\">P3</text></a></g><!--MD5=[7f149f147074ac12df2cb0a7728a5fb0]\n",
       "cluster E9--><g id=\"cluster_E9\"><a href=\"psysml:a1b56716-f996-4480-88b0-3733f2d7733c\" target=\"_top\" title=\"psysml:a1b56716-f996-4480-88b0-3733f2d7733c\" xlink:actuate=\"onRequest\" xlink:href=\"psysml:a1b56716-f996-4480-88b0-3733f2d7733c\" xlink:show=\"new\" xlink:title=\"psysml:a1b56716-f996-4480-88b0-3733f2d7733c\" xlink:type=\"simple\"><polygon fill=\"none\" points=\"254.335,65,279.21,65,286.21,87.2969,371.335,87.2969,371.335,180,254.335,180,254.335,65\" style=\"stroke:#000000;stroke-width:1.5;\"/><line style=\"stroke:#000000;stroke-width:1.5;\" x1=\"254.335\" x2=\"286.21\" y1=\"87.2969\" y2=\"87.2969\"/><text fill=\"#000000\" font-family=\"sans-serif\" font-size=\"14\" font-weight=\"bold\" lengthAdjust=\"spacing\" textLength=\"18.875\" x=\"258.335\" y=\"79.9951\">P4</text></a></g><!--MD5=[270fce915f116d4de14055a7c1d9a0f3]\n",
       "class E5--><a href=\"psysml:fd0b961b-4bae-44e8-b09a-9c87fac280e3\" target=\"_top\" title=\"psysml:fd0b961b-4bae-44e8-b09a-9c87fac280e3\" xlink:actuate=\"onRequest\" xlink:href=\"psysml:fd0b961b-4bae-44e8-b09a-9c87fac280e3\" xlink:show=\"new\" xlink:title=\"psysml:fd0b961b-4bae-44e8-b09a-9c87fac280e3\" xlink:type=\"simple\"><g id=\"elem_E5\"><rect fill=\"#FFFFFF\" height=\"48.2656\" id=\"E5\" rx=\"10\" ry=\"10\" style=\"stroke:#181818;stroke-width:0.5;\" width=\"42\" x=\"345.335\" y=\"288\"/><text fill=\"#000000\" font-family=\"sans-serif\" font-size=\"12\" font-style=\"italic\" lengthAdjust=\"spacing\" textLength=\"40\" x=\"346.335\" y=\"304.1387\">«part»</text><text fill=\"#000000\" font-family=\"sans-serif\" font-size=\"14\" lengthAdjust=\"spacing\" textLength=\"25\" x=\"349.835\" y=\"319.9639\">x: A</text><line style=\"stroke:#181818;stroke-width:0.5;\" x1=\"346.335\" x2=\"386.335\" y1=\"328.2656\" y2=\"328.2656\"/></g></a><!--MD5=[b9389687b975829384b498ac4b7476b2]\n",
       "class E8--><a href=\"psysml:87e3ce51-5094-4f5d-8d11-feac4ad1e872\" target=\"_top\" title=\"psysml:87e3ce51-5094-4f5d-8d11-feac4ad1e872\" xlink:actuate=\"onRequest\" xlink:href=\"psysml:87e3ce51-5094-4f5d-8d11-feac4ad1e872\" xlink:show=\"new\" xlink:title=\"psysml:87e3ce51-5094-4f5d-8d11-feac4ad1e872\" xlink:type=\"simple\"><g id=\"elem_E8\"><rect fill=\"#FFFFFF\" height=\"48.2656\" id=\"E8\" rx=\"10\" ry=\"10\" style=\"stroke:#181818;stroke-width:0.5;\" width=\"42\" x=\"185.335\" y=\"108\"/><text fill=\"#000000\" font-family=\"sans-serif\" font-size=\"12\" font-style=\"italic\" lengthAdjust=\"spacing\" textLength=\"40\" x=\"186.335\" y=\"124.1387\">«part»</text><text fill=\"#000000\" font-family=\"sans-serif\" font-size=\"14\" lengthAdjust=\"spacing\" textLength=\"27\" x=\"188.835\" y=\"139.9639\">z: B</text><line style=\"stroke:#181818;stroke-width:0.5;\" x1=\"186.335\" x2=\"226.335\" y1=\"148.2656\" y2=\"148.2656\"/></g></a><!--MD5=[09b614a08d8cba4a07c9adeb5e0fee81]\n",
       "class E3--><a href=\"psysml:5dfb8e4e-b010-43d6-9ea6-8d8096aa0cbd\" target=\"_top\" title=\"psysml:5dfb8e4e-b010-43d6-9ea6-8d8096aa0cbd\" xlink:actuate=\"onRequest\" xlink:href=\"psysml:5dfb8e4e-b010-43d6-9ea6-8d8096aa0cbd\" xlink:show=\"new\" xlink:title=\"psysml:5dfb8e4e-b010-43d6-9ea6-8d8096aa0cbd\" xlink:type=\"simple\"><g id=\"elem_E3\"><rect fill=\"#FFFFFF\" height=\"48.2656\" id=\"E3\" style=\"stroke:#181818;stroke-width:0.5;\" width=\"70\" x=\"274.335\" y=\"468\"/><text fill=\"#000000\" font-family=\"sans-serif\" font-size=\"12\" font-style=\"italic\" lengthAdjust=\"spacing\" textLength=\"68\" x=\"275.335\" y=\"484.1387\">«part  def»</text><text fill=\"#000000\" font-family=\"sans-serif\" font-size=\"14\" lengthAdjust=\"spacing\" textLength=\"9\" x=\"304.835\" y=\"499.9639\">A</text><line style=\"stroke:#181818;stroke-width:0.5;\" x1=\"275.335\" x2=\"343.335\" y1=\"508.2656\" y2=\"508.2656\"/></g></a><a href=\"psysml:6d745f5d-a6bd-48d3-bb38-b4db6224b450\" target=\"_top\" title=\"psysml:6d745f5d-a6bd-48d3-bb38-b4db6224b450\" xlink:actuate=\"onRequest\" xlink:href=\"psysml:6d745f5d-a6bd-48d3-bb38-b4db6224b450\" xlink:show=\"new\" xlink:title=\"psysml:6d745f5d-a6bd-48d3-bb38-b4db6224b450\" xlink:type=\"simple\"><polygon fill=\"#FFFFFF\" points=\"235.335,285.5,259.335,285.5,266.335,307.7969,273.335,307.7969,273.335,338.0938,235.335,338.0938,235.335,285.5\" style=\"stroke:#181818;stroke-width:0.5;\"/><line style=\"stroke:#181818;stroke-width:0.5;\" x1=\"235.335\" x2=\"266.335\" y1=\"307.7969\" y2=\"307.7969\"/><text fill=\"#000000\" font-family=\"sans-serif\" font-size=\"14\" lengthAdjust=\"spacing\" textLength=\"18\" x=\"239.335\" y=\"300.4951\">P2</text></a><!--MD5=[2156ba9850f5573cc1fc38a6a4b2f02b]\n",
       "class E7--><a href=\"psysml:05031283-db67-47ce-b074-a753e1e8519b\" target=\"_top\" title=\"psysml:05031283-db67-47ce-b074-a753e1e8519b\" xlink:actuate=\"onRequest\" xlink:href=\"psysml:05031283-db67-47ce-b074-a753e1e8519b\" xlink:show=\"new\" xlink:title=\"psysml:05031283-db67-47ce-b074-a753e1e8519b\" xlink:type=\"simple\"><g id=\"elem_E7\"><rect fill=\"#FFFFFF\" height=\"48.2656\" id=\"E7\" style=\"stroke:#181818;stroke-width:0.5;\" width=\"70\" x=\"117.335\" y=\"288\"/><text fill=\"#000000\" font-family=\"sans-serif\" font-size=\"12\" font-style=\"italic\" lengthAdjust=\"spacing\" textLength=\"68\" x=\"118.335\" y=\"304.1387\">«part  def»</text><text fill=\"#000000\" font-family=\"sans-serif\" font-size=\"14\" lengthAdjust=\"spacing\" textLength=\"10\" x=\"147.335\" y=\"319.9639\">B</text><line style=\"stroke:#181818;stroke-width:0.5;\" x1=\"118.335\" x2=\"186.335\" y1=\"328.2656\" y2=\"328.2656\"/></g></a><!--MD5=[96f4274e9e20536e775497830990834d]\n",
       "class E10--><a href=\"psysml:630baa2a-121f-4da7-a3fd-6c76e707d010\" target=\"_top\" title=\"psysml:630baa2a-121f-4da7-a3fd-6c76e707d010\" xlink:actuate=\"onRequest\" xlink:href=\"psysml:630baa2a-121f-4da7-a3fd-6c76e707d010\" xlink:show=\"new\" xlink:title=\"psysml:630baa2a-121f-4da7-a3fd-6c76e707d010\" xlink:type=\"simple\"><g id=\"elem_E10\"><rect fill=\"#FFFFFF\" height=\"48.2656\" id=\"E10\" rx=\"10\" ry=\"10\" style=\"stroke:#181818;stroke-width:0.5;\" width=\"49\" x=\"297.835\" y=\"108\"/><text fill=\"#000000\" font-family=\"sans-serif\" font-size=\"12\" font-style=\"italic\" lengthAdjust=\"spacing\" textLength=\"40\" x=\"302.335\" y=\"124.1387\">«part»</text><text fill=\"#000000\" font-family=\"sans-serif\" font-size=\"14\" lengthAdjust=\"spacing\" textLength=\"35\" x=\"300.835\" y=\"139.9639\">z1: A</text><line style=\"stroke:#181818;stroke-width:0.5;\" x1=\"298.835\" x2=\"345.835\" y1=\"148.2656\" y2=\"148.2656\"/></g></a><!--MD5=[185131fc0dcab0a4505a2ebe144e961b]\n",
       "link E4 to E2--><g id=\"link_E4_E2\"><a href=\"psysml:0487f209-9870-4837-a273-e80eaf0041e3\" target=\"_top\" title=\"psysml:0487f209-9870-4837-a273-e80eaf0041e3\" xlink:actuate=\"onRequest\" xlink:href=\"psysml:0487f209-9870-4837-a273-e80eaf0041e3\" xlink:show=\"new\" xlink:title=\"psysml:0487f209-9870-4837-a273-e80eaf0041e3\" xlink:type=\"simple\"><path d=\"M244.835,338.57 C240.375,351.9 235.565,368.61 233.335,384 C231.655,395.6 231.165,407.9706 231.3811,420.0302 C231.4081,421.5376 231.4461,423.0402 231.4943,424.5358 \" fill=\"none\" id=\"E4-to-E2\" style=\"stroke:#181818;stroke-width:1.0;stroke-dasharray:7.0,7.0;\"/><polygon fill=\"#181818\" points=\"231.4943,424.5358,235.2027,415.4118,231.3335,419.5384,227.2069,415.6691,231.4943,424.5358\" style=\"stroke:#181818;stroke-width:1.0;\"/><text fill=\"#000000\" font-family=\"sans-serif\" font-size=\"13\" lengthAdjust=\"spacing\" textLength=\"65\" x=\"234.335\" y=\"397.0669\">«import»*</text></a></g><!--MD5=[e9be52314489bd878ff4c7144b63c9e1]\n",
       "link E5 to E3--><g id=\"link_E5_E3\"><a href=\"psysml:fdb905ca-fd31-45b2-b41e-28dfb09dbd5e\" target=\"_top\" title=\"psysml:fdb905ca-fd31-45b2-b41e-28dfb09dbd5e\" xlink:actuate=\"onRequest\" xlink:href=\"psysml:fdb905ca-fd31-45b2-b41e-28dfb09dbd5e\" xlink:show=\"new\" xlink:title=\"psysml:fdb905ca-fd31-45b2-b41e-28dfb09dbd5e\" xlink:type=\"simple\"><path d=\"M358.885,336.27 C349.795,364.65 334.255,413.19 322.995,448.34 \" fill=\"none\" id=\"E5-to-E3\" style=\"stroke:#181818;stroke-width:1.0;\"/><polygon fill=\"#FFFFFF\" points=\"316.785,467.72,315.9148,447.4902,329.2475,451.7611,316.785,467.72\" style=\"stroke:#181818;stroke-width:1.0;\"/><ellipse cx=\"319.5583\" cy=\"442.6721\" fill=\"#181818\" rx=\"2\" ry=\"2\" style=\"stroke:#181818;stroke-width:1.0;\"/><ellipse cx=\"329.0817\" cy=\"445.7227\" fill=\"#181818\" rx=\"2\" ry=\"2\" style=\"stroke:#181818;stroke-width:1.0;\"/></a></g><!--MD5=[ee384bb554873b72f85793eae40e290c]\n",
       "link E1 to E4--><g id=\"link_E1_E4\"><a href=\"psysml:60fcb482-826b-48b1-b5dc-27f8a317149a\" target=\"_top\" title=\"psysml:60fcb482-826b-48b1-b5dc-27f8a317149a\" xlink:actuate=\"onRequest\" xlink:href=\"psysml:60fcb482-826b-48b1-b5dc-27f8a317149a\" xlink:show=\"new\" xlink:title=\"psysml:60fcb482-826b-48b1-b5dc-27f8a317149a\" xlink:type=\"simple\"><path d=\"M34.305,133.12 C33.645,135.64 23.485,176.19 42.335,196 C49.335,203.36 77.365,202.04 87.335,204 C100.275,206.54 192.555,221.41 203.335,229 C221.255,241.61 234.175,262.72 242.525,280.37 \" fill=\"none\" id=\"E1-to-E4\" style=\"stroke:#181818;stroke-width:1.0;stroke-dasharray:7.0,7.0;\"/><polygon fill=\"#181818\" points=\"244.755,285.24,244.6606,275.3916,242.6806,280.6906,237.3816,278.7106,244.755,285.24\" style=\"stroke:#181818;stroke-width:1.0;\"/><text fill=\"#000000\" font-family=\"sans-serif\" font-size=\"13\" lengthAdjust=\"spacing\" textLength=\"65\" x=\"176.335\" y=\"217.0669\">«import»*</text></a></g><!--MD5=[ccbd3af71bf83df0ec2a2db62d6d7130]\n",
       "link E1 to E6--><g id=\"link_E1_E6\"><a href=\"psysml:37c9a4c7-80e6-494a-a65a-d8ec35cca65c\" target=\"_top\" title=\"psysml:37c9a4c7-80e6-494a-a65a-d8ec35cca65c\" xlink:actuate=\"onRequest\" xlink:href=\"psysml:37c9a4c7-80e6-494a-a65a-d8ec35cca65c\" xlink:show=\"new\" xlink:title=\"psysml:37c9a4c7-80e6-494a-a65a-d8ec35cca65c\" xlink:type=\"simple\"><path d=\"M26.3325,146.2131 C26.1219,146.5997 25.9095,146.9932 25.6953,147.3934 C24.8388,148.9944 23.9555,150.7026 23.0641,152.5046 C21.2813,156.1085 19.4656,160.0872 17.765,164.3313 C10.9625,181.3075 6,202.53 12.335,221 C20.3,244.215 36.9725,266.0575 52.0488,282.41 C59.5869,290.5862 66.7259,297.39 72.178,302.3066 C72.8595,302.9211 73.5146,303.5062 74.1409,304.0608 \" fill=\"none\" id=\"E1-to-E6\" style=\"stroke:#181818;stroke-width:1.0;stroke-dasharray:7.0,7.0;\"/><polygon fill=\"#181818\" points=\"74.1409,304.0608,70.0549,295.0995,70.3976,300.746,64.7512,301.0887,74.1409,304.0608\" style=\"stroke:#181818;stroke-width:1.0;\"/><text fill=\"#000000\" font-family=\"sans-serif\" font-size=\"13\" lengthAdjust=\"spacing\" textLength=\"65\" x=\"13.335\" y=\"217.0669\">«import»*</text></a></g><!--MD5=[bfa3c8b0d15052fdf50ae9310b491027]\n",
       "link E8 to E7--><g id=\"link_E8_E7\"><a href=\"psysml:f605a3b7-992a-46f2-9cbf-567dae0e656e\" target=\"_top\" title=\"psysml:f605a3b7-992a-46f2-9cbf-567dae0e656e\" xlink:actuate=\"onRequest\" xlink:href=\"psysml:f605a3b7-992a-46f2-9cbf-567dae0e656e\" xlink:show=\"new\" xlink:title=\"psysml:f605a3b7-992a-46f2-9cbf-567dae0e656e\" xlink:type=\"simple\"><path d=\"M221.755,156.17 C235.785,178.66 253.075,210.85 244.335,221 C228.795,239.06 210.465,214.81 191.335,229 C178.275,238.69 169.415,253.88 163.485,268.56 \" fill=\"none\" id=\"E8-to-E7\" style=\"stroke:#181818;stroke-width:1.0;\"/><polygon fill=\"#FFFFFF\" points=\"157.085,287.71,156.4571,267.4713,169.7377,271.9015,157.085,287.71\" style=\"stroke:#181818;stroke-width:1.0;\"/><ellipse cx=\"160.1581\" cy=\"262.6971\" fill=\"#181818\" rx=\"2\" ry=\"2\" style=\"stroke:#181818;stroke-width:1.0;\"/><ellipse cx=\"169.6442\" cy=\"265.8615\" fill=\"#181818\" rx=\"2\" ry=\"2\" style=\"stroke:#181818;stroke-width:1.0;\"/></a></g><!--MD5=[c2be97adba6ddfe1c8f349fab141c927]\n",
       "link E9 to E4--><g id=\"link_E9_E4\"><a href=\"psysml:f74e7f7d-bc69-4c36-9a7b-616abfb119b1\" target=\"_top\" title=\"psysml:f74e7f7d-bc69-4c36-9a7b-616abfb119b1\" xlink:actuate=\"onRequest\" xlink:href=\"psysml:f74e7f7d-bc69-4c36-9a7b-616abfb119b1\" xlink:show=\"new\" xlink:title=\"psysml:f74e7f7d-bc69-4c36-9a7b-616abfb119b1\" xlink:type=\"simple\"><path d=\"M260.2025,180.4864 C260.1924,180.7107 260.1823,180.9354 260.1722,181.1606 C260.1318,182.0612 260.091,182.969 260.0499,183.8833 C259.9677,185.7121 259.8844,187.5673 259.8,189.445 C258.45,219.4875 256.84,255.27 255.715,280.2 \" fill=\"none\" id=\"E9-to-E4\" style=\"stroke:#181818;stroke-width:1.0;stroke-dasharray:7.0,7.0;\"/><polygon fill=\"#181818\" points=\"255.485,285.47,259.8918,276.6621,255.7133,280.4752,251.9002,276.2967,255.485,285.47\" style=\"stroke:#181818;stroke-width:1.0;\"/><text fill=\"#000000\" font-family=\"sans-serif\" font-size=\"13\" lengthAdjust=\"spacing\" textLength=\"65\" x=\"259.335\" y=\"217.0669\">«import»*</text></a></g><!--MD5=[feeac5eb423634930294aa81f2d25a4c]\n",
       "link E10 to E3--><g id=\"link_E10_E3\"><a href=\"psysml:7688159c-03f6-437a-9242-bafcaad292a9\" target=\"_top\" title=\"psysml:7688159c-03f6-437a-9242-bafcaad292a9\" xlink:actuate=\"onRequest\" xlink:href=\"psysml:7688159c-03f6-437a-9242-bafcaad292a9\" xlink:show=\"new\" xlink:title=\"psysml:7688159c-03f6-437a-9242-bafcaad292a9\" xlink:type=\"simple\"><path d=\"M344.205,156.37 C359.315,175.4 374.095,202.12 358.335,221 C345.595,236.26 327.215,213.86 314.335,229 C300.565,245.18 304.225,377.23 307.215,447.45 \" fill=\"none\" id=\"E10-to-E3\" style=\"stroke:#181818;stroke-width:1.0;\"/><polygon fill=\"#FFFFFF\" points=\"308.135,467.85,300.2734,449.19,314.2588,448.5498,308.135,467.85\" style=\"stroke:#181818;stroke-width:1.0;\"/><ellipse cx=\"302.0107\" cy=\"443.4045\" fill=\"#181818\" rx=\"2\" ry=\"2\" style=\"stroke:#181818;stroke-width:1.0;\"/><ellipse cx=\"312.0002\" cy=\"442.9472\" fill=\"#181818\" rx=\"2\" ry=\"2\" style=\"stroke:#181818;stroke-width:1.0;\"/></a></g><!--MD5=[0f706d552220d9e1ec232fd71571dbfd]\n",
       "@startuml\r\n",
       "skin sysmlbw\r\n",
       "skinparam monochrome true\r\n",
       "skinparam wrapWidth 300\r\n",
       "hide circle\r\n",
       "\r\n",
       "package \"PrivateImportTest\" as E1  [[psysml:11a30fa2-fbeb-4b2d-a071-2781e63d5a12 ]]  {\r\n",
       "package \"P1\" as E2  [[psysml:29bb8ef7-a50f-48a8-b243-dfabeed2550d ]]  {\r\n",
       "comp def \"A\" as E3  <<(T,blue) part  def>> [[psysml:5dfb8e4e-b010-43d6-9ea6-8d8096aa0cbd ]] {\r\n",
       "}\r\n",
       "}\r\n",
       "package \"P2\" as E4  [[psysml:6d745f5d-a6bd-48d3-bb38-b4db6224b450 ]]  {\r\n",
       "}\r\n",
       "comp usage \"x: A  \" as E5  <<(T,blue) part>> [[psysml:fd0b961b-4bae-44e8-b09a-9c87fac280e3 ]] {\r\n",
       "}\r\n",
       "package \"P3\" as E6  [[psysml:3afe7580-df30-4ff0-95e6-ec63d3638055 ]]  {\r\n",
       "comp def \"B\" as E7  <<(T,blue) part  def>> [[psysml:05031283-db67-47ce-b074-a753e1e8519b ]] {\r\n",
       "}\r\n",
       "}\r\n",
       "comp usage \"z: B  \" as E8  <<(T,blue) part>> [[psysml:87e3ce51-5094-4f5d-8d11-feac4ad1e872 ]] {\r\n",
       "}\r\n",
       "package \"P4\" as E9  [[psysml:a1b56716-f996-4480-88b0-3733f2d7733c ]]  {\r\n",
       "comp usage \"z1: A  \" as E10  <<(T,blue) part>> [[psysml:630baa2a-121f-4da7-a3fd-6c76e707d010 ]] {\r\n",
       "}\r\n",
       "}\r\n",
       "}\r\n",
       "E4 ..> E2 [[psysml:0487f209-9870-4837-a273-e80eaf0041e3 ]] : <<import>>*\r\n",
       "E5 - -:|> E3 [[psysml:fdb905ca-fd31-45b2-b41e-28dfb09dbd5e ]] \r\n",
       "E1 ..> E4 [[psysml:60fcb482-826b-48b1-b5dc-27f8a317149a ]] : <<import>>*\r\n",
       "E1 ..> E6 [[psysml:37c9a4c7-80e6-494a-a65a-d8ec35cca65c ]] : <<import>>*\r\n",
       "E8 - -:|> E7 [[psysml:f605a3b7-992a-46f2-9cbf-567dae0e656e ]] \r\n",
       "E9 ..> E4 [[psysml:f74e7f7d-bc69-4c36-9a7b-616abfb119b1 ]] : <<import>>*\r\n",
       "E10 - -:|> E3 [[psysml:7688159c-03f6-437a-9242-bafcaad292a9 ]] \r\n",
       "@enduml\r\n",
       "\n",
       "PlantUML version 1.2022.7(Mon Aug 22 17:01:30 UTC 2022)\n",
       "(EPL source distribution)\n",
       "Java Runtime: OpenJDK Runtime Environment\n",
       "JVM: OpenJDK 64-Bit Server VM\n",
       "Default Encoding: UTF-8\n",
       "Language: en\n",
       "Country: null\n",
       "--></g></svg>"
      ]
     },
     "execution_count": 37,
     "metadata": {},
     "output_type": "execute_result"
    }
   ],
   "source": [
    "%viz --style=\"DEFAULT\" --view=\"Default\" \"PrivateImportTest\""
   ]
  },
  {
   "cell_type": "code",
   "execution_count": 38,
   "id": "70fdbf84",
   "metadata": {
    "execution": {
     "iopub.execute_input": "2024-12-16T14:17:05.391246Z",
     "iopub.status.busy": "2024-12-16T14:17:05.391032Z",
     "iopub.status.idle": "2024-12-16T14:17:05.410816Z",
     "shell.execute_reply": "2024-12-16T14:17:05.409732Z"
    }
   },
   "outputs": [
    {
     "data": {
      "image/svg+xml": [
       "<?xml version=\"1.0\" encoding=\"UTF-8\" standalone=\"no\"?><svg xmlns=\"http://www.w3.org/2000/svg\" xmlns:xlink=\"http://www.w3.org/1999/xlink\" contentStyleType=\"text/css\" height=\"587px\" preserveAspectRatio=\"none\" style=\"width:428px;height:587px;background:#FFFFFF;\" version=\"1.1\" viewBox=\"0 0 428 587\" width=\"428px\" zoomAndPan=\"magnify\"><defs/><g><!--MD5=[fbc87193dbaf4d95561dea2c320d4a47]\n",
       "cluster E1--><g id=\"cluster_E1\"><a href=\"psysml:11a30fa2-fbeb-4b2d-a071-2781e63d5a12\" target=\"_top\" title=\"psysml:11a30fa2-fbeb-4b2d-a071-2781e63d5a12\" xlink:actuate=\"onRequest\" xlink:href=\"psysml:11a30fa2-fbeb-4b2d-a071-2781e63d5a12\" xlink:show=\"new\" xlink:title=\"psysml:11a30fa2-fbeb-4b2d-a071-2781e63d5a12\" xlink:type=\"simple\"><polygon fill=\"none\" points=\"26.335,6,160.7725,6,167.7725,28.2969,411.335,28.2969,411.335,580,26.335,580,26.335,6\" style=\"stroke:#000000;stroke-width:1.5;\"/><line style=\"stroke:#000000;stroke-width:1.5;\" x1=\"26.335\" x2=\"167.7725\" y1=\"28.2969\" y2=\"28.2969\"/><text fill=\"#000000\" font-family=\"sans-serif\" font-size=\"14\" font-weight=\"bold\" lengthAdjust=\"spacing\" textLength=\"128.4375\" x=\"30.335\" y=\"20.9951\">PrivateImportTest</text></a></g><!--MD5=[e4f7fae6ed58524ba242bb0b0d3be6b7]\n",
       "cluster E2--><g id=\"cluster_E2\"><a href=\"psysml:29bb8ef7-a50f-48a8-b243-dfabeed2550d\" target=\"_top\" title=\"psysml:29bb8ef7-a50f-48a8-b243-dfabeed2550d\" xlink:actuate=\"onRequest\" xlink:href=\"psysml:29bb8ef7-a50f-48a8-b243-dfabeed2550d\" xlink:show=\"new\" xlink:title=\"psysml:29bb8ef7-a50f-48a8-b243-dfabeed2550d\" xlink:type=\"simple\"><polygon fill=\"none\" points=\"231.335,425,256.21,425,263.21,447.2969,368.335,447.2969,368.335,540,231.335,540,231.335,425\" style=\"stroke:#000000;stroke-width:1.5;\"/><line style=\"stroke:#000000;stroke-width:1.5;\" x1=\"231.335\" x2=\"263.21\" y1=\"447.2969\" y2=\"447.2969\"/><text fill=\"#000000\" font-family=\"sans-serif\" font-size=\"14\" font-weight=\"bold\" lengthAdjust=\"spacing\" textLength=\"18.875\" x=\"235.335\" y=\"439.9951\">P1</text></a></g><!--MD5=[14e3b0961a2654348d326746436168a1]\n",
       "cluster E6--><g id=\"cluster_E6\"><a href=\"psysml:3afe7580-df30-4ff0-95e6-ec63d3638055\" target=\"_top\" title=\"psysml:3afe7580-df30-4ff0-95e6-ec63d3638055\" xlink:actuate=\"onRequest\" xlink:href=\"psysml:3afe7580-df30-4ff0-95e6-ec63d3638055\" xlink:show=\"new\" xlink:title=\"psysml:3afe7580-df30-4ff0-95e6-ec63d3638055\" xlink:type=\"simple\"><polygon fill=\"none\" points=\"74.335,245,99.21,245,106.21,267.2969,211.335,267.2969,211.335,360,74.335,360,74.335,245\" style=\"stroke:#000000;stroke-width:1.5;\"/><line style=\"stroke:#000000;stroke-width:1.5;\" x1=\"74.335\" x2=\"106.21\" y1=\"267.2969\" y2=\"267.2969\"/><text fill=\"#000000\" font-family=\"sans-serif\" font-size=\"14\" font-weight=\"bold\" lengthAdjust=\"spacing\" textLength=\"18.875\" x=\"78.335\" y=\"259.9951\">P3</text></a></g><!--MD5=[7f149f147074ac12df2cb0a7728a5fb0]\n",
       "cluster E9--><g id=\"cluster_E9\"><a href=\"psysml:a1b56716-f996-4480-88b0-3733f2d7733c\" target=\"_top\" title=\"psysml:a1b56716-f996-4480-88b0-3733f2d7733c\" xlink:actuate=\"onRequest\" xlink:href=\"psysml:a1b56716-f996-4480-88b0-3733f2d7733c\" xlink:show=\"new\" xlink:title=\"psysml:a1b56716-f996-4480-88b0-3733f2d7733c\" xlink:type=\"simple\"><polygon fill=\"none\" points=\"254.335,65,279.21,65,286.21,87.2969,371.335,87.2969,371.335,180,254.335,180,254.335,65\" style=\"stroke:#000000;stroke-width:1.5;\"/><line style=\"stroke:#000000;stroke-width:1.5;\" x1=\"254.335\" x2=\"286.21\" y1=\"87.2969\" y2=\"87.2969\"/><text fill=\"#000000\" font-family=\"sans-serif\" font-size=\"14\" font-weight=\"bold\" lengthAdjust=\"spacing\" textLength=\"18.875\" x=\"258.335\" y=\"79.9951\">P4</text></a></g><!--MD5=[270fce915f116d4de14055a7c1d9a0f3]\n",
       "class E5--><a href=\"psysml:fd0b961b-4bae-44e8-b09a-9c87fac280e3\" target=\"_top\" title=\"psysml:fd0b961b-4bae-44e8-b09a-9c87fac280e3\" xlink:actuate=\"onRequest\" xlink:href=\"psysml:fd0b961b-4bae-44e8-b09a-9c87fac280e3\" xlink:show=\"new\" xlink:title=\"psysml:fd0b961b-4bae-44e8-b09a-9c87fac280e3\" xlink:type=\"simple\"><g id=\"elem_E5\"><rect fill=\"#FFFFFF\" height=\"48.2656\" id=\"E5\" rx=\"10\" ry=\"10\" style=\"stroke:#181818;stroke-width:0.5;\" width=\"42\" x=\"345.335\" y=\"288\"/><text fill=\"#000000\" font-family=\"sans-serif\" font-size=\"12\" font-style=\"italic\" lengthAdjust=\"spacing\" textLength=\"40\" x=\"346.335\" y=\"304.1387\">«part»</text><text fill=\"#000000\" font-family=\"sans-serif\" font-size=\"14\" lengthAdjust=\"spacing\" textLength=\"25\" x=\"349.835\" y=\"319.9639\">x: A</text><line style=\"stroke:#181818;stroke-width:0.5;\" x1=\"346.335\" x2=\"386.335\" y1=\"328.2656\" y2=\"328.2656\"/></g></a><!--MD5=[b9389687b975829384b498ac4b7476b2]\n",
       "class E8--><a href=\"psysml:87e3ce51-5094-4f5d-8d11-feac4ad1e872\" target=\"_top\" title=\"psysml:87e3ce51-5094-4f5d-8d11-feac4ad1e872\" xlink:actuate=\"onRequest\" xlink:href=\"psysml:87e3ce51-5094-4f5d-8d11-feac4ad1e872\" xlink:show=\"new\" xlink:title=\"psysml:87e3ce51-5094-4f5d-8d11-feac4ad1e872\" xlink:type=\"simple\"><g id=\"elem_E8\"><rect fill=\"#FFFFFF\" height=\"48.2656\" id=\"E8\" rx=\"10\" ry=\"10\" style=\"stroke:#181818;stroke-width:0.5;\" width=\"42\" x=\"185.335\" y=\"108\"/><text fill=\"#000000\" font-family=\"sans-serif\" font-size=\"12\" font-style=\"italic\" lengthAdjust=\"spacing\" textLength=\"40\" x=\"186.335\" y=\"124.1387\">«part»</text><text fill=\"#000000\" font-family=\"sans-serif\" font-size=\"14\" lengthAdjust=\"spacing\" textLength=\"27\" x=\"188.835\" y=\"139.9639\">z: B</text><line style=\"stroke:#181818;stroke-width:0.5;\" x1=\"186.335\" x2=\"226.335\" y1=\"148.2656\" y2=\"148.2656\"/></g></a><!--MD5=[09b614a08d8cba4a07c9adeb5e0fee81]\n",
       "class E3--><a href=\"psysml:5dfb8e4e-b010-43d6-9ea6-8d8096aa0cbd\" target=\"_top\" title=\"psysml:5dfb8e4e-b010-43d6-9ea6-8d8096aa0cbd\" xlink:actuate=\"onRequest\" xlink:href=\"psysml:5dfb8e4e-b010-43d6-9ea6-8d8096aa0cbd\" xlink:show=\"new\" xlink:title=\"psysml:5dfb8e4e-b010-43d6-9ea6-8d8096aa0cbd\" xlink:type=\"simple\"><g id=\"elem_E3\"><rect fill=\"#FFFFFF\" height=\"48.2656\" id=\"E3\" style=\"stroke:#181818;stroke-width:0.5;\" width=\"70\" x=\"274.335\" y=\"468\"/><text fill=\"#000000\" font-family=\"sans-serif\" font-size=\"12\" font-style=\"italic\" lengthAdjust=\"spacing\" textLength=\"68\" x=\"275.335\" y=\"484.1387\">«part  def»</text><text fill=\"#000000\" font-family=\"sans-serif\" font-size=\"14\" lengthAdjust=\"spacing\" textLength=\"9\" x=\"304.835\" y=\"499.9639\">A</text><line style=\"stroke:#181818;stroke-width:0.5;\" x1=\"275.335\" x2=\"343.335\" y1=\"508.2656\" y2=\"508.2656\"/></g></a><a href=\"psysml:6d745f5d-a6bd-48d3-bb38-b4db6224b450\" target=\"_top\" title=\"psysml:6d745f5d-a6bd-48d3-bb38-b4db6224b450\" xlink:actuate=\"onRequest\" xlink:href=\"psysml:6d745f5d-a6bd-48d3-bb38-b4db6224b450\" xlink:show=\"new\" xlink:title=\"psysml:6d745f5d-a6bd-48d3-bb38-b4db6224b450\" xlink:type=\"simple\"><polygon fill=\"#FFFFFF\" points=\"235.335,285.5,259.335,285.5,266.335,307.7969,273.335,307.7969,273.335,338.0938,235.335,338.0938,235.335,285.5\" style=\"stroke:#181818;stroke-width:0.5;\"/><line style=\"stroke:#181818;stroke-width:0.5;\" x1=\"235.335\" x2=\"266.335\" y1=\"307.7969\" y2=\"307.7969\"/><text fill=\"#000000\" font-family=\"sans-serif\" font-size=\"14\" lengthAdjust=\"spacing\" textLength=\"18\" x=\"239.335\" y=\"300.4951\">P2</text></a><!--MD5=[2156ba9850f5573cc1fc38a6a4b2f02b]\n",
       "class E7--><a href=\"psysml:05031283-db67-47ce-b074-a753e1e8519b\" target=\"_top\" title=\"psysml:05031283-db67-47ce-b074-a753e1e8519b\" xlink:actuate=\"onRequest\" xlink:href=\"psysml:05031283-db67-47ce-b074-a753e1e8519b\" xlink:show=\"new\" xlink:title=\"psysml:05031283-db67-47ce-b074-a753e1e8519b\" xlink:type=\"simple\"><g id=\"elem_E7\"><rect fill=\"#FFFFFF\" height=\"48.2656\" id=\"E7\" style=\"stroke:#181818;stroke-width:0.5;\" width=\"70\" x=\"117.335\" y=\"288\"/><text fill=\"#000000\" font-family=\"sans-serif\" font-size=\"12\" font-style=\"italic\" lengthAdjust=\"spacing\" textLength=\"68\" x=\"118.335\" y=\"304.1387\">«part  def»</text><text fill=\"#000000\" font-family=\"sans-serif\" font-size=\"14\" lengthAdjust=\"spacing\" textLength=\"10\" x=\"147.335\" y=\"319.9639\">B</text><line style=\"stroke:#181818;stroke-width:0.5;\" x1=\"118.335\" x2=\"186.335\" y1=\"328.2656\" y2=\"328.2656\"/></g></a><!--MD5=[96f4274e9e20536e775497830990834d]\n",
       "class E10--><a href=\"psysml:630baa2a-121f-4da7-a3fd-6c76e707d010\" target=\"_top\" title=\"psysml:630baa2a-121f-4da7-a3fd-6c76e707d010\" xlink:actuate=\"onRequest\" xlink:href=\"psysml:630baa2a-121f-4da7-a3fd-6c76e707d010\" xlink:show=\"new\" xlink:title=\"psysml:630baa2a-121f-4da7-a3fd-6c76e707d010\" xlink:type=\"simple\"><g id=\"elem_E10\"><rect fill=\"#FFFFFF\" height=\"48.2656\" id=\"E10\" rx=\"10\" ry=\"10\" style=\"stroke:#181818;stroke-width:0.5;\" width=\"49\" x=\"297.835\" y=\"108\"/><text fill=\"#000000\" font-family=\"sans-serif\" font-size=\"12\" font-style=\"italic\" lengthAdjust=\"spacing\" textLength=\"40\" x=\"302.335\" y=\"124.1387\">«part»</text><text fill=\"#000000\" font-family=\"sans-serif\" font-size=\"14\" lengthAdjust=\"spacing\" textLength=\"35\" x=\"300.835\" y=\"139.9639\">z1: A</text><line style=\"stroke:#181818;stroke-width:0.5;\" x1=\"298.835\" x2=\"345.835\" y1=\"148.2656\" y2=\"148.2656\"/></g></a><!--MD5=[185131fc0dcab0a4505a2ebe144e961b]\n",
       "link E4 to E2--><g id=\"link_E4_E2\"><a href=\"psysml:0487f209-9870-4837-a273-e80eaf0041e3\" target=\"_top\" title=\"psysml:0487f209-9870-4837-a273-e80eaf0041e3\" xlink:actuate=\"onRequest\" xlink:href=\"psysml:0487f209-9870-4837-a273-e80eaf0041e3\" xlink:show=\"new\" xlink:title=\"psysml:0487f209-9870-4837-a273-e80eaf0041e3\" xlink:type=\"simple\"><path d=\"M244.835,338.57 C240.375,351.9 235.565,368.61 233.335,384 C231.655,395.6 231.165,407.9706 231.3811,420.0302 C231.4081,421.5376 231.4461,423.0402 231.4943,424.5358 \" fill=\"none\" id=\"E4-to-E2\" style=\"stroke:#181818;stroke-width:1.0;stroke-dasharray:7.0,7.0;\"/><polygon fill=\"#181818\" points=\"231.4943,424.5358,235.2027,415.4118,231.3335,419.5384,227.2069,415.6691,231.4943,424.5358\" style=\"stroke:#181818;stroke-width:1.0;\"/><text fill=\"#000000\" font-family=\"sans-serif\" font-size=\"13\" lengthAdjust=\"spacing\" textLength=\"65\" x=\"234.335\" y=\"397.0669\">«import»*</text></a></g><!--MD5=[e9be52314489bd878ff4c7144b63c9e1]\n",
       "link E5 to E3--><g id=\"link_E5_E3\"><a href=\"psysml:fdb905ca-fd31-45b2-b41e-28dfb09dbd5e\" target=\"_top\" title=\"psysml:fdb905ca-fd31-45b2-b41e-28dfb09dbd5e\" xlink:actuate=\"onRequest\" xlink:href=\"psysml:fdb905ca-fd31-45b2-b41e-28dfb09dbd5e\" xlink:show=\"new\" xlink:title=\"psysml:fdb905ca-fd31-45b2-b41e-28dfb09dbd5e\" xlink:type=\"simple\"><path d=\"M358.885,336.27 C349.795,364.65 334.255,413.19 322.995,448.34 \" fill=\"none\" id=\"E5-to-E3\" style=\"stroke:#181818;stroke-width:1.0;\"/><polygon fill=\"#FFFFFF\" points=\"316.785,467.72,315.9148,447.4902,329.2475,451.7611,316.785,467.72\" style=\"stroke:#181818;stroke-width:1.0;\"/><ellipse cx=\"319.5583\" cy=\"442.6721\" fill=\"#181818\" rx=\"2\" ry=\"2\" style=\"stroke:#181818;stroke-width:1.0;\"/><ellipse cx=\"329.0817\" cy=\"445.7227\" fill=\"#181818\" rx=\"2\" ry=\"2\" style=\"stroke:#181818;stroke-width:1.0;\"/></a></g><!--MD5=[ee384bb554873b72f85793eae40e290c]\n",
       "link E1 to E4--><g id=\"link_E1_E4\"><a href=\"psysml:60fcb482-826b-48b1-b5dc-27f8a317149a\" target=\"_top\" title=\"psysml:60fcb482-826b-48b1-b5dc-27f8a317149a\" xlink:actuate=\"onRequest\" xlink:href=\"psysml:60fcb482-826b-48b1-b5dc-27f8a317149a\" xlink:show=\"new\" xlink:title=\"psysml:60fcb482-826b-48b1-b5dc-27f8a317149a\" xlink:type=\"simple\"><path d=\"M34.305,133.12 C33.645,135.64 23.485,176.19 42.335,196 C49.335,203.36 77.365,202.04 87.335,204 C100.275,206.54 192.555,221.41 203.335,229 C221.255,241.61 234.175,262.72 242.525,280.37 \" fill=\"none\" id=\"E1-to-E4\" style=\"stroke:#181818;stroke-width:1.0;stroke-dasharray:7.0,7.0;\"/><polygon fill=\"#181818\" points=\"244.755,285.24,244.6606,275.3916,242.6806,280.6906,237.3816,278.7106,244.755,285.24\" style=\"stroke:#181818;stroke-width:1.0;\"/><text fill=\"#000000\" font-family=\"sans-serif\" font-size=\"13\" lengthAdjust=\"spacing\" textLength=\"65\" x=\"176.335\" y=\"217.0669\">«import»*</text></a></g><!--MD5=[ccbd3af71bf83df0ec2a2db62d6d7130]\n",
       "link E1 to E6--><g id=\"link_E1_E6\"><a href=\"psysml:37c9a4c7-80e6-494a-a65a-d8ec35cca65c\" target=\"_top\" title=\"psysml:37c9a4c7-80e6-494a-a65a-d8ec35cca65c\" xlink:actuate=\"onRequest\" xlink:href=\"psysml:37c9a4c7-80e6-494a-a65a-d8ec35cca65c\" xlink:show=\"new\" xlink:title=\"psysml:37c9a4c7-80e6-494a-a65a-d8ec35cca65c\" xlink:type=\"simple\"><path d=\"M26.3325,146.2131 C26.1219,146.5997 25.9095,146.9932 25.6953,147.3934 C24.8388,148.9944 23.9555,150.7026 23.0641,152.5046 C21.2813,156.1085 19.4656,160.0872 17.765,164.3313 C10.9625,181.3075 6,202.53 12.335,221 C20.3,244.215 36.9725,266.0575 52.0488,282.41 C59.5869,290.5862 66.7259,297.39 72.178,302.3066 C72.8595,302.9211 73.5146,303.5062 74.1409,304.0608 \" fill=\"none\" id=\"E1-to-E6\" style=\"stroke:#181818;stroke-width:1.0;stroke-dasharray:7.0,7.0;\"/><polygon fill=\"#181818\" points=\"74.1409,304.0608,70.0549,295.0995,70.3976,300.746,64.7512,301.0887,74.1409,304.0608\" style=\"stroke:#181818;stroke-width:1.0;\"/><text fill=\"#000000\" font-family=\"sans-serif\" font-size=\"13\" lengthAdjust=\"spacing\" textLength=\"65\" x=\"13.335\" y=\"217.0669\">«import»*</text></a></g><!--MD5=[bfa3c8b0d15052fdf50ae9310b491027]\n",
       "link E8 to E7--><g id=\"link_E8_E7\"><a href=\"psysml:f605a3b7-992a-46f2-9cbf-567dae0e656e\" target=\"_top\" title=\"psysml:f605a3b7-992a-46f2-9cbf-567dae0e656e\" xlink:actuate=\"onRequest\" xlink:href=\"psysml:f605a3b7-992a-46f2-9cbf-567dae0e656e\" xlink:show=\"new\" xlink:title=\"psysml:f605a3b7-992a-46f2-9cbf-567dae0e656e\" xlink:type=\"simple\"><path d=\"M221.755,156.17 C235.785,178.66 253.075,210.85 244.335,221 C228.795,239.06 210.465,214.81 191.335,229 C178.275,238.69 169.415,253.88 163.485,268.56 \" fill=\"none\" id=\"E8-to-E7\" style=\"stroke:#181818;stroke-width:1.0;\"/><polygon fill=\"#FFFFFF\" points=\"157.085,287.71,156.4571,267.4713,169.7377,271.9015,157.085,287.71\" style=\"stroke:#181818;stroke-width:1.0;\"/><ellipse cx=\"160.1581\" cy=\"262.6971\" fill=\"#181818\" rx=\"2\" ry=\"2\" style=\"stroke:#181818;stroke-width:1.0;\"/><ellipse cx=\"169.6442\" cy=\"265.8615\" fill=\"#181818\" rx=\"2\" ry=\"2\" style=\"stroke:#181818;stroke-width:1.0;\"/></a></g><!--MD5=[c2be97adba6ddfe1c8f349fab141c927]\n",
       "link E9 to E4--><g id=\"link_E9_E4\"><a href=\"psysml:f74e7f7d-bc69-4c36-9a7b-616abfb119b1\" target=\"_top\" title=\"psysml:f74e7f7d-bc69-4c36-9a7b-616abfb119b1\" xlink:actuate=\"onRequest\" xlink:href=\"psysml:f74e7f7d-bc69-4c36-9a7b-616abfb119b1\" xlink:show=\"new\" xlink:title=\"psysml:f74e7f7d-bc69-4c36-9a7b-616abfb119b1\" xlink:type=\"simple\"><path d=\"M260.2025,180.4864 C260.1924,180.7107 260.1823,180.9354 260.1722,181.1606 C260.1318,182.0612 260.091,182.969 260.0499,183.8833 C259.9677,185.7121 259.8844,187.5673 259.8,189.445 C258.45,219.4875 256.84,255.27 255.715,280.2 \" fill=\"none\" id=\"E9-to-E4\" style=\"stroke:#181818;stroke-width:1.0;stroke-dasharray:7.0,7.0;\"/><polygon fill=\"#181818\" points=\"255.485,285.47,259.8918,276.6621,255.7133,280.4752,251.9002,276.2967,255.485,285.47\" style=\"stroke:#181818;stroke-width:1.0;\"/><text fill=\"#000000\" font-family=\"sans-serif\" font-size=\"13\" lengthAdjust=\"spacing\" textLength=\"65\" x=\"259.335\" y=\"217.0669\">«import»*</text></a></g><!--MD5=[feeac5eb423634930294aa81f2d25a4c]\n",
       "link E10 to E3--><g id=\"link_E10_E3\"><a href=\"psysml:7688159c-03f6-437a-9242-bafcaad292a9\" target=\"_top\" title=\"psysml:7688159c-03f6-437a-9242-bafcaad292a9\" xlink:actuate=\"onRequest\" xlink:href=\"psysml:7688159c-03f6-437a-9242-bafcaad292a9\" xlink:show=\"new\" xlink:title=\"psysml:7688159c-03f6-437a-9242-bafcaad292a9\" xlink:type=\"simple\"><path d=\"M344.205,156.37 C359.315,175.4 374.095,202.12 358.335,221 C345.595,236.26 327.215,213.86 314.335,229 C300.565,245.18 304.225,377.23 307.215,447.45 \" fill=\"none\" id=\"E10-to-E3\" style=\"stroke:#181818;stroke-width:1.0;\"/><polygon fill=\"#FFFFFF\" points=\"308.135,467.85,300.2734,449.19,314.2588,448.5498,308.135,467.85\" style=\"stroke:#181818;stroke-width:1.0;\"/><ellipse cx=\"302.0107\" cy=\"443.4045\" fill=\"#181818\" rx=\"2\" ry=\"2\" style=\"stroke:#181818;stroke-width:1.0;\"/><ellipse cx=\"312.0002\" cy=\"442.9472\" fill=\"#181818\" rx=\"2\" ry=\"2\" style=\"stroke:#181818;stroke-width:1.0;\"/></a></g><!--MD5=[0f706d552220d9e1ec232fd71571dbfd]\n",
       "@startuml\r\n",
       "skin sysmlbw\r\n",
       "skinparam monochrome true\r\n",
       "skinparam wrapWidth 300\r\n",
       "hide circle\r\n",
       "\r\n",
       "package \"PrivateImportTest\" as E1  [[psysml:11a30fa2-fbeb-4b2d-a071-2781e63d5a12 ]]  {\r\n",
       "package \"P1\" as E2  [[psysml:29bb8ef7-a50f-48a8-b243-dfabeed2550d ]]  {\r\n",
       "comp def \"A\" as E3  <<(T,blue) part  def>> [[psysml:5dfb8e4e-b010-43d6-9ea6-8d8096aa0cbd ]] {\r\n",
       "}\r\n",
       "}\r\n",
       "package \"P2\" as E4  [[psysml:6d745f5d-a6bd-48d3-bb38-b4db6224b450 ]]  {\r\n",
       "}\r\n",
       "comp usage \"x: A  \" as E5  <<(T,blue) part>> [[psysml:fd0b961b-4bae-44e8-b09a-9c87fac280e3 ]] {\r\n",
       "}\r\n",
       "package \"P3\" as E6  [[psysml:3afe7580-df30-4ff0-95e6-ec63d3638055 ]]  {\r\n",
       "comp def \"B\" as E7  <<(T,blue) part  def>> [[psysml:05031283-db67-47ce-b074-a753e1e8519b ]] {\r\n",
       "}\r\n",
       "}\r\n",
       "comp usage \"z: B  \" as E8  <<(T,blue) part>> [[psysml:87e3ce51-5094-4f5d-8d11-feac4ad1e872 ]] {\r\n",
       "}\r\n",
       "package \"P4\" as E9  [[psysml:a1b56716-f996-4480-88b0-3733f2d7733c ]]  {\r\n",
       "comp usage \"z1: A  \" as E10  <<(T,blue) part>> [[psysml:630baa2a-121f-4da7-a3fd-6c76e707d010 ]] {\r\n",
       "}\r\n",
       "}\r\n",
       "}\r\n",
       "E4 ..> E2 [[psysml:0487f209-9870-4837-a273-e80eaf0041e3 ]] : <<import>>*\r\n",
       "E5 - -:|> E3 [[psysml:fdb905ca-fd31-45b2-b41e-28dfb09dbd5e ]] \r\n",
       "E1 ..> E4 [[psysml:60fcb482-826b-48b1-b5dc-27f8a317149a ]] : <<import>>*\r\n",
       "E1 ..> E6 [[psysml:37c9a4c7-80e6-494a-a65a-d8ec35cca65c ]] : <<import>>*\r\n",
       "E8 - -:|> E7 [[psysml:f605a3b7-992a-46f2-9cbf-567dae0e656e ]] \r\n",
       "E9 ..> E4 [[psysml:f74e7f7d-bc69-4c36-9a7b-616abfb119b1 ]] : <<import>>*\r\n",
       "E10 - -:|> E3 [[psysml:7688159c-03f6-437a-9242-bafcaad292a9 ]] \r\n",
       "@enduml\r\n",
       "\n",
       "PlantUML version 1.2022.7(Mon Aug 22 17:01:30 UTC 2022)\n",
       "(EPL source distribution)\n",
       "Java Runtime: OpenJDK Runtime Environment\n",
       "JVM: OpenJDK 64-Bit Server VM\n",
       "Default Encoding: UTF-8\n",
       "Language: en\n",
       "Country: null\n",
       "--></g></svg>"
      ]
     },
     "execution_count": 38,
     "metadata": {},
     "output_type": "execute_result"
    }
   ],
   "source": [
    "%viz --style=\"DEFAULT\" --view=\"Tree\" \"PrivateImportTest\""
   ]
  },
  {
   "cell_type": "code",
   "execution_count": 39,
   "id": "01155cd8",
   "metadata": {
    "execution": {
     "iopub.execute_input": "2024-12-16T14:17:05.464042Z",
     "iopub.status.busy": "2024-12-16T14:17:05.463787Z",
     "iopub.status.idle": "2024-12-16T14:17:05.468796Z",
     "shell.execute_reply": "2024-12-16T14:17:05.468548Z"
    }
   },
   "outputs": [
    {
     "data": {
      "image/svg+xml": [
       "<?xml version=\"1.0\" encoding=\"UTF-8\" standalone=\"no\"?><svg xmlns=\"http://www.w3.org/2000/svg\" xmlns:xlink=\"http://www.w3.org/1999/xlink\" contentStyleType=\"text/css\" height=\"10px\" preserveAspectRatio=\"none\" style=\"width:10px;height:10px;background:#FFFFFF;\" version=\"1.1\" viewBox=\"0 0 10 10\" width=\"10px\" zoomAndPan=\"magnify\"><defs/><g><!--MD5=[ac12e6954f3af68464267ee74ddf8a9f]\n",
       "@startuml\r\n",
       "skin sysmlbw\r\n",
       "skinparam monochrome true\r\n",
       "skinparam wrapWidth 300\r\n",
       "hide circle\r\n",
       "\r\n",
       "@enduml\r\n",
       "\n",
       "PlantUML version 1.2022.7(Mon Aug 22 17:01:30 UTC 2022)\n",
       "(EPL source distribution)\n",
       "Java Runtime: OpenJDK Runtime Environment\n",
       "JVM: OpenJDK 64-Bit Server VM\n",
       "Default Encoding: UTF-8\n",
       "Language: en\n",
       "Country: null\n",
       "--></g></svg>"
      ]
     },
     "execution_count": 39,
     "metadata": {},
     "output_type": "execute_result"
    }
   ],
   "source": [
    "%viz --style=\"DEFAULT\" --view=\"State\" \"PrivateImportTest\""
   ]
  },
  {
   "cell_type": "code",
   "execution_count": 40,
   "id": "77721180",
   "metadata": {
    "execution": {
     "iopub.execute_input": "2024-12-16T14:17:05.520558Z",
     "iopub.status.busy": "2024-12-16T14:17:05.520319Z",
     "iopub.status.idle": "2024-12-16T14:17:05.540868Z",
     "shell.execute_reply": "2024-12-16T14:17:05.539857Z"
    }
   },
   "outputs": [
    {
     "data": {
      "image/svg+xml": [
       "<?xml version=\"1.0\" encoding=\"UTF-8\" standalone=\"no\"?><svg xmlns=\"http://www.w3.org/2000/svg\" xmlns:xlink=\"http://www.w3.org/1999/xlink\" contentStyleType=\"text/css\" height=\"573px\" preserveAspectRatio=\"none\" style=\"width:441px;height:573px;background:#FFFFFF;\" version=\"1.1\" viewBox=\"0 0 441 573\" width=\"441px\" zoomAndPan=\"magnify\"><defs/><g><!--MD5=[fbc87193dbaf4d95561dea2c320d4a47]\n",
       "cluster E1--><g id=\"cluster_E1\"><a href=\"psysml:11a30fa2-fbeb-4b2d-a071-2781e63d5a12\" target=\"_top\" title=\"psysml:11a30fa2-fbeb-4b2d-a071-2781e63d5a12\" xlink:actuate=\"onRequest\" xlink:href=\"psysml:11a30fa2-fbeb-4b2d-a071-2781e63d5a12\" xlink:show=\"new\" xlink:title=\"psysml:11a30fa2-fbeb-4b2d-a071-2781e63d5a12\" xlink:type=\"simple\"><polygon fill=\"none\" points=\"26.14,6,160.5775,6,167.5775,28.2969,424.14,28.2969,424.14,566,26.14,566,26.14,6\" style=\"stroke:#000000;stroke-width:1.5;\"/><line style=\"stroke:#000000;stroke-width:1.5;\" x1=\"26.14\" x2=\"167.5775\" y1=\"28.2969\" y2=\"28.2969\"/><text fill=\"#000000\" font-family=\"sans-serif\" font-size=\"14\" font-weight=\"bold\" lengthAdjust=\"spacing\" textLength=\"128.4375\" x=\"30.14\" y=\"20.9951\">PrivateImportTest</text></a></g><!--MD5=[e4f7fae6ed58524ba242bb0b0d3be6b7]\n",
       "cluster E2--><g id=\"cluster_E2\"><a href=\"psysml:29bb8ef7-a50f-48a8-b243-dfabeed2550d\" target=\"_top\" title=\"psysml:29bb8ef7-a50f-48a8-b243-dfabeed2550d\" xlink:actuate=\"onRequest\" xlink:href=\"psysml:29bb8ef7-a50f-48a8-b243-dfabeed2550d\" xlink:show=\"new\" xlink:title=\"psysml:29bb8ef7-a50f-48a8-b243-dfabeed2550d\" xlink:type=\"simple\"><polygon fill=\"none\" points=\"233.14,414,258.015,414,265.015,436.2969,375.14,436.2969,375.14,526,233.14,526,233.14,414\" style=\"stroke:#000000;stroke-width:1.5;\"/><line style=\"stroke:#000000;stroke-width:1.5;\" x1=\"233.14\" x2=\"265.015\" y1=\"436.2969\" y2=\"436.2969\"/><text fill=\"#000000\" font-family=\"sans-serif\" font-size=\"14\" font-weight=\"bold\" lengthAdjust=\"spacing\" textLength=\"18.875\" x=\"237.14\" y=\"428.9951\">P1</text></a></g><!--MD5=[14e3b0961a2654348d326746436168a1]\n",
       "cluster E6--><g id=\"cluster_E6\"><a href=\"psysml:3afe7580-df30-4ff0-95e6-ec63d3638055\" target=\"_top\" title=\"psysml:3afe7580-df30-4ff0-95e6-ec63d3638055\" xlink:actuate=\"onRequest\" xlink:href=\"psysml:3afe7580-df30-4ff0-95e6-ec63d3638055\" xlink:show=\"new\" xlink:title=\"psysml:3afe7580-df30-4ff0-95e6-ec63d3638055\" xlink:type=\"simple\"><polygon fill=\"none\" points=\"74.14,237,99.015,237,106.015,259.2969,216.14,259.2969,216.14,349,74.14,349,74.14,237\" style=\"stroke:#000000;stroke-width:1.5;\"/><line style=\"stroke:#000000;stroke-width:1.5;\" x1=\"74.14\" x2=\"106.015\" y1=\"259.2969\" y2=\"259.2969\"/><text fill=\"#000000\" font-family=\"sans-serif\" font-size=\"14\" font-weight=\"bold\" lengthAdjust=\"spacing\" textLength=\"18.875\" x=\"78.14\" y=\"251.9951\">P3</text></a></g><!--MD5=[7f149f147074ac12df2cb0a7728a5fb0]\n",
       "cluster E9--><g id=\"cluster_E9\"><a href=\"psysml:a1b56716-f996-4480-88b0-3733f2d7733c\" target=\"_top\" title=\"psysml:a1b56716-f996-4480-88b0-3733f2d7733c\" xlink:actuate=\"onRequest\" xlink:href=\"psysml:a1b56716-f996-4480-88b0-3733f2d7733c\" xlink:show=\"new\" xlink:title=\"psysml:a1b56716-f996-4480-88b0-3733f2d7733c\" xlink:type=\"simple\"><polygon fill=\"none\" points=\"267.14,65,292.015,65,299.015,87.2969,384.14,87.2969,384.14,172,267.14,172,267.14,65\" style=\"stroke:#000000;stroke-width:1.5;\"/><line style=\"stroke:#000000;stroke-width:1.5;\" x1=\"267.14\" x2=\"299.015\" y1=\"87.2969\" y2=\"87.2969\"/><text fill=\"#000000\" font-family=\"sans-serif\" font-size=\"14\" font-weight=\"bold\" lengthAdjust=\"spacing\" textLength=\"18.875\" x=\"271.14\" y=\"79.9951\">P4</text></a></g><g><a href=\"psysml:5dfb8e4e-b010-43d6-9ea6-8d8096aa0cbd\" target=\"_top\" title=\"psysml:5dfb8e4e-b010-43d6-9ea6-8d8096aa0cbd\" xlink:actuate=\"onRequest\" xlink:href=\"psysml:5dfb8e4e-b010-43d6-9ea6-8d8096aa0cbd\" xlink:show=\"new\" xlink:title=\"psysml:5dfb8e4e-b010-43d6-9ea6-8d8096aa0cbd\" xlink:type=\"simple\"><rect fill=\"#FFFFFF\" height=\"45.2656\" id=\"E3\" style=\"stroke:#383838;stroke-width:1.5;\" width=\"75\" x=\"276.64\" y=\"457\"/><text fill=\"#000000\" font-family=\"sans-serif\" font-size=\"12\" font-style=\"italic\" lengthAdjust=\"spacing\" textLength=\"68\" x=\"280.14\" y=\"473.1387\">«part  def»</text><text fill=\"#000000\" font-family=\"sans-serif\" font-size=\"14\" lengthAdjust=\"spacing\" textLength=\"9\" x=\"309.64\" y=\"488.9639\">A</text></a></g><a href=\"psysml:6d745f5d-a6bd-48d3-bb38-b4db6224b450\" target=\"_top\" title=\"psysml:6d745f5d-a6bd-48d3-bb38-b4db6224b450\" xlink:actuate=\"onRequest\" xlink:href=\"psysml:6d745f5d-a6bd-48d3-bb38-b4db6224b450\" xlink:show=\"new\" xlink:title=\"psysml:6d745f5d-a6bd-48d3-bb38-b4db6224b450\" xlink:type=\"simple\"><polygon fill=\"#FFFFFF\" points=\"240.14,276,264.14,276,271.14,298.2969,278.14,298.2969,278.14,328.5938,240.14,328.5938,240.14,276\" style=\"stroke:#181818;stroke-width:0.5;\"/><line style=\"stroke:#181818;stroke-width:0.5;\" x1=\"240.14\" x2=\"271.14\" y1=\"298.2969\" y2=\"298.2969\"/><text fill=\"#000000\" font-family=\"sans-serif\" font-size=\"14\" lengthAdjust=\"spacing\" textLength=\"18\" x=\"244.14\" y=\"290.9951\">P2</text></a><g><a href=\"psysml:fd0b961b-4bae-44e8-b09a-9c87fac280e3\" target=\"_top\" title=\"psysml:fd0b961b-4bae-44e8-b09a-9c87fac280e3\" xlink:actuate=\"onRequest\" xlink:href=\"psysml:fd0b961b-4bae-44e8-b09a-9c87fac280e3\" xlink:show=\"new\" xlink:title=\"psysml:fd0b961b-4bae-44e8-b09a-9c87fac280e3\" xlink:type=\"simple\"><rect fill=\"#FFFFFF\" height=\"40\" id=\"E5\" rx=\"10\" ry=\"10\" style=\"stroke:#383838;stroke-width:1.5;\" width=\"50\" x=\"350.14\" y=\"282.5\"/><text fill=\"#000000\" font-family=\"sans-serif\" font-size=\"14\" lengthAdjust=\"spacing\" textLength=\"25\" x=\"362.64\" y=\"300.4951\">x: A</text></a></g><g><a href=\"psysml:05031283-db67-47ce-b074-a753e1e8519b\" target=\"_top\" title=\"psysml:05031283-db67-47ce-b074-a753e1e8519b\" xlink:actuate=\"onRequest\" xlink:href=\"psysml:05031283-db67-47ce-b074-a753e1e8519b\" xlink:show=\"new\" xlink:title=\"psysml:05031283-db67-47ce-b074-a753e1e8519b\" xlink:type=\"simple\"><rect fill=\"#FFFFFF\" height=\"45.2656\" id=\"E7\" style=\"stroke:#383838;stroke-width:1.5;\" width=\"75\" x=\"117.64\" y=\"280\"/><text fill=\"#000000\" font-family=\"sans-serif\" font-size=\"12\" font-style=\"italic\" lengthAdjust=\"spacing\" textLength=\"68\" x=\"121.14\" y=\"296.1387\">«part  def»</text><text fill=\"#000000\" font-family=\"sans-serif\" font-size=\"14\" lengthAdjust=\"spacing\" textLength=\"10\" x=\"150.14\" y=\"311.9639\">B</text></a></g><g><a href=\"psysml:87e3ce51-5094-4f5d-8d11-feac4ad1e872\" target=\"_top\" title=\"psysml:87e3ce51-5094-4f5d-8d11-feac4ad1e872\" xlink:actuate=\"onRequest\" xlink:href=\"psysml:87e3ce51-5094-4f5d-8d11-feac4ad1e872\" xlink:show=\"new\" xlink:title=\"psysml:87e3ce51-5094-4f5d-8d11-feac4ad1e872\" xlink:type=\"simple\"><rect fill=\"#FFFFFF\" height=\"40\" id=\"E8\" rx=\"10\" ry=\"10\" style=\"stroke:#383838;stroke-width:1.5;\" width=\"50\" x=\"190.14\" y=\"108\"/><text fill=\"#000000\" font-family=\"sans-serif\" font-size=\"14\" lengthAdjust=\"spacing\" textLength=\"27\" x=\"201.64\" y=\"125.9951\">z: B</text></a></g><g><a href=\"psysml:630baa2a-121f-4da7-a3fd-6c76e707d010\" target=\"_top\" title=\"psysml:630baa2a-121f-4da7-a3fd-6c76e707d010\" xlink:actuate=\"onRequest\" xlink:href=\"psysml:630baa2a-121f-4da7-a3fd-6c76e707d010\" xlink:show=\"new\" xlink:title=\"psysml:630baa2a-121f-4da7-a3fd-6c76e707d010\" xlink:type=\"simple\"><rect fill=\"#FFFFFF\" height=\"40\" id=\"E10\" rx=\"10\" ry=\"10\" style=\"stroke:#383838;stroke-width:1.5;\" width=\"50\" x=\"310.14\" y=\"108\"/><text fill=\"#000000\" font-family=\"sans-serif\" font-size=\"14\" lengthAdjust=\"spacing\" textLength=\"35\" x=\"317.64\" y=\"125.9951\">z1: A</text></a></g><!--MD5=[185131fc0dcab0a4505a2ebe144e961b]\n",
       "link E4 to E2--><g id=\"link_E4_E2\"><a href=\"psysml:0487f209-9870-4837-a273-e80eaf0041e3\" target=\"_top\" title=\"psysml:0487f209-9870-4837-a273-e80eaf0041e3\" xlink:actuate=\"onRequest\" xlink:href=\"psysml:0487f209-9870-4837-a273-e80eaf0041e3\" xlink:show=\"new\" xlink:title=\"psysml:0487f209-9870-4837-a273-e80eaf0041e3\" xlink:type=\"simple\"><path d=\"M249.42,329.16 C245.02,342.1 240.33,358.16 238.14,373 C236.4525,384.42 235.7775,396.6088 235.7188,408.4963 C235.7114,409.9822 235.7137,411.4634 235.7248,412.9379 C235.7262,413.1222 235.7278,413.3064 235.7294,413.4904 \" fill=\"none\" id=\"E4-to-E2\" style=\"stroke:#181818;stroke-width:1.0;stroke-dasharray:7.0,7.0;\"/><polygon fill=\"#181818\" points=\"235.7294,413.4904,239.6477,404.4546,235.6841,408.4906,231.6481,404.527,235.7294,413.4904\" style=\"stroke:#181818;stroke-width:1.0;\"/><text fill=\"#000000\" font-family=\"sans-serif\" font-size=\"13\" lengthAdjust=\"spacing\" textLength=\"65\" x=\"239.14\" y=\"386.0669\">«import»*</text></a></g><!--MD5=[e9be52314489bd878ff4c7144b63c9e1]\n",
       "link E5 to E3--><g id=\"link_E5_E3\"><a href=\"psysml:fdb905ca-fd31-45b2-b41e-28dfb09dbd5e\" target=\"_top\" title=\"psysml:fdb905ca-fd31-45b2-b41e-28dfb09dbd5e\" xlink:actuate=\"onRequest\" xlink:href=\"psysml:fdb905ca-fd31-45b2-b41e-28dfb09dbd5e\" xlink:show=\"new\" xlink:title=\"psysml:fdb905ca-fd31-45b2-b41e-28dfb09dbd5e\" xlink:type=\"simple\"><path d=\"M368.5,322.56 C358.92,350.02 341.01,401.4 328.37,437.67 \" fill=\"none\" id=\"E5-to-E3\" style=\"stroke:#181818;stroke-width:1.0;\"/><polygon fill=\"#FFFFFF\" points=\"321.73,456.73,321.3764,436.4846,334.5958,441.0944,321.73,456.73\" style=\"stroke:#181818;stroke-width:1.0;\"/><ellipse cx=\"325.1418\" cy=\"431.761\" fill=\"#181818\" rx=\"2\" ry=\"2\" style=\"stroke:#181818;stroke-width:1.0;\"/><ellipse cx=\"334.5841\" cy=\"435.0537\" fill=\"#181818\" rx=\"2\" ry=\"2\" style=\"stroke:#181818;stroke-width:1.0;\"/></a></g><!--MD5=[ee384bb554873b72f85793eae40e290c]\n",
       "link E1 to E4--><g id=\"link_E1_E4\"><a href=\"psysml:60fcb482-826b-48b1-b5dc-27f8a317149a\" target=\"_top\" title=\"psysml:60fcb482-826b-48b1-b5dc-27f8a317149a\" xlink:actuate=\"onRequest\" xlink:href=\"psysml:60fcb482-826b-48b1-b5dc-27f8a317149a\" xlink:show=\"new\" xlink:title=\"psysml:60fcb482-826b-48b1-b5dc-27f8a317149a\" xlink:type=\"simple\"><path d=\"M34.11,129.12 C33.52,131.47 24.39,169.5 42.14,188 C49.17,195.33 77.17,194.08 87.14,196 C114.1,201.18 185.56,205.39 208.14,221 C225.8,233.21 238.67,253.73 247.06,271 \" fill=\"none\" id=\"E1-to-E4\" style=\"stroke:#181818;stroke-width:1.0;stroke-dasharray:7.0,7.0;\"/><polygon fill=\"#181818\" points=\"249.3,275.78,249.0916,265.9333,247.1731,271.2549,241.8515,269.3364,249.3,275.78\" style=\"stroke:#181818;stroke-width:1.0;\"/><text fill=\"#000000\" font-family=\"sans-serif\" font-size=\"13\" lengthAdjust=\"spacing\" textLength=\"65\" x=\"190.14\" y=\"209.0669\">«import»*</text></a></g><!--MD5=[ccbd3af71bf83df0ec2a2db62d6d7130]\n",
       "link E1 to E6--><g id=\"link_E1_E6\"><a href=\"psysml:37c9a4c7-80e6-494a-a65a-d8ec35cca65c\" target=\"_top\" title=\"psysml:37c9a4c7-80e6-494a-a65a-d8ec35cca65c\" xlink:actuate=\"onRequest\" xlink:href=\"psysml:37c9a4c7-80e6-494a-a65a-d8ec35cca65c\" xlink:show=\"new\" xlink:title=\"psysml:37c9a4c7-80e6-494a-a65a-d8ec35cca65c\" xlink:type=\"simple\"><path d=\"M26.0665,141.8795 C26.0141,141.9725 25.9616,142.066 25.909,142.1598 C25.8039,142.3474 25.6982,142.5367 25.5922,142.7275 C24.7438,144.2545 23.8687,145.8839 22.9851,147.6028 C21.218,151.0407 19.4169,154.8366 17.7275,158.8863 C10.97,175.085 6,195.345 12.14,213 C20.115,235.945 36.7875,257.425 51.8613,273.4762 C59.3981,281.5019 66.5353,288.1703 71.9858,292.9861 C72.6671,293.5881 73.322,294.1611 73.9481,294.7042 \" fill=\"none\" id=\"E1-to-E6\" style=\"stroke:#181818;stroke-width:1.0;stroke-dasharray:7.0,7.0;\"/><polygon fill=\"#181818\" points=\"73.9481,294.7042,69.7707,285.7852,70.1712,291.4278,64.5285,291.8283,73.9481,294.7042\" style=\"stroke:#181818;stroke-width:1.0;\"/><text fill=\"#000000\" font-family=\"sans-serif\" font-size=\"13\" lengthAdjust=\"spacing\" textLength=\"65\" x=\"13.14\" y=\"209.0669\">«import»*</text></a></g><!--MD5=[bfa3c8b0d15052fdf50ae9310b491027]\n",
       "link E8 to E7--><g id=\"link_E8_E7\"><a href=\"psysml:f605a3b7-992a-46f2-9cbf-567dae0e656e\" target=\"_top\" title=\"psysml:f605a3b7-992a-46f2-9cbf-567dae0e656e\" xlink:actuate=\"onRequest\" xlink:href=\"psysml:f605a3b7-992a-46f2-9cbf-567dae0e656e\" xlink:show=\"new\" xlink:title=\"psysml:f605a3b7-992a-46f2-9cbf-567dae0e656e\" xlink:type=\"simple\"><path d=\"M231.55,148.32 C245.13,166.74 259.86,194.37 244.14,213 C230.47,229.19 214.27,208.53 197.14,221 C183.73,230.76 174.25,246.09 167.74,260.76 \" fill=\"none\" id=\"E8-to-E7\" style=\"stroke:#181818;stroke-width:1.0;\"/><polygon fill=\"#FFFFFF\" points=\"160.6,279.79,160.7221,259.5419,173.8295,264.4609,160.6,279.79\" style=\"stroke:#181818;stroke-width:1.0;\"/><ellipse cx=\"164.5973\" cy=\"254.9081\" fill=\"#181818\" rx=\"2\" ry=\"2\" style=\"stroke:#181818;stroke-width:1.0;\"/><ellipse cx=\"173.9598\" cy=\"258.4216\" fill=\"#181818\" rx=\"2\" ry=\"2\" style=\"stroke:#181818;stroke-width:1.0;\"/></a></g><!--MD5=[c2be97adba6ddfe1c8f349fab141c927]\n",
       "link E9 to E4--><g id=\"link_E9_E4\"><a href=\"psysml:f74e7f7d-bc69-4c36-9a7b-616abfb119b1\" target=\"_top\" title=\"psysml:f74e7f7d-bc69-4c36-9a7b-616abfb119b1\" xlink:actuate=\"onRequest\" xlink:href=\"psysml:f74e7f7d-bc69-4c36-9a7b-616abfb119b1\" xlink:show=\"new\" xlink:title=\"psysml:f74e7f7d-bc69-4c36-9a7b-616abfb119b1\" xlink:type=\"simple\"><path d=\"M272.4084,172.0708 C272.378,172.4836 272.3474,172.8966 272.3166,173.3097 C272.1934,174.9624 272.0675,176.6169 271.939,178.2647 C271.682,181.5603 271.415,184.8288 271.14,188 C268.7,216.08 265.27,248 262.7,270.82 \" fill=\"none\" id=\"E9-to-E4\" style=\"stroke:#181818;stroke-width:1.0;stroke-dasharray:7.0,7.0;\"/><polygon fill=\"#181818\" points=\"262.13,275.83,267.1102,267.3331,262.6884,270.8613,259.1602,266.4396,262.13,275.83\" style=\"stroke:#181818;stroke-width:1.0;\"/><text fill=\"#000000\" font-family=\"sans-serif\" font-size=\"13\" lengthAdjust=\"spacing\" textLength=\"65\" x=\"271.14\" y=\"209.0669\">«import»*</text></a></g><!--MD5=[feeac5eb423634930294aa81f2d25a4c]\n",
       "link E10 to E3--><g id=\"link_E10_E3\"><a href=\"psysml:7688159c-03f6-437a-9242-bafcaad292a9\" target=\"_top\" title=\"psysml:7688159c-03f6-437a-9242-bafcaad292a9\" xlink:actuate=\"onRequest\" xlink:href=\"psysml:7688159c-03f6-437a-9242-bafcaad292a9\" xlink:show=\"new\" xlink:title=\"psysml:7688159c-03f6-437a-9242-bafcaad292a9\" xlink:type=\"simple\"><path d=\"M349.09,148.02 C360.78,166.48 373.34,194.37 358.14,213 C346.96,226.71 330.46,207.4 319.14,221 C305.75,237.09 309.28,367.45 312.13,436.28 \" fill=\"none\" id=\"E10-to-E3\" style=\"stroke:#181818;stroke-width:1.0;\"/><polygon fill=\"#FFFFFF\" points=\"313.03,456.62,305.1951,437.9488,319.1813,437.3285,313.03,456.62\" style=\"stroke:#181818;stroke-width:1.0;\"/><ellipse cx=\"306.9406\" cy=\"432.1658\" fill=\"#181818\" rx=\"2\" ry=\"2\" style=\"stroke:#181818;stroke-width:1.0;\"/><ellipse cx=\"316.9307\" cy=\"431.7227\" fill=\"#181818\" rx=\"2\" ry=\"2\" style=\"stroke:#181818;stroke-width:1.0;\"/></a></g><!--MD5=[2158e2e02132a8a4e6bde3f3773e6373]\n",
       "@startuml\r\n",
       "skin sysmlbw\r\n",
       "skinparam monochrome true\r\n",
       "skinparam wrapWidth 300\r\n",
       "hide circle\r\n",
       "skinparam ranksep 10\r\n",
       "skinparam rectangle {\r\n",
       " backgroundColor<<block>> LightGreen\r\n",
       "}\r\n",
       "\r\n",
       "package \"PrivateImportTest\" as E1  [[psysml:11a30fa2-fbeb-4b2d-a071-2781e63d5a12 ]]  {\r\n",
       "package \"P1\" as E2  [[psysml:29bb8ef7-a50f-48a8-b243-dfabeed2550d ]]  {\r\n",
       "rec def \"A\" as E3  <<(T,blue) part  def>> [[psysml:5dfb8e4e-b010-43d6-9ea6-8d8096aa0cbd ]] {\r\n",
       "}\r\n",
       "}\r\n",
       "package \"P2\" as E4  [[psysml:6d745f5d-a6bd-48d3-bb38-b4db6224b450 ]]  {\r\n",
       "}\r\n",
       "rec usage \"x: A\" as E5 [[psysml:fd0b961b-4bae-44e8-b09a-9c87fac280e3 ]] {\r\n",
       "}\r\n",
       "package \"P3\" as E6  [[psysml:3afe7580-df30-4ff0-95e6-ec63d3638055 ]]  {\r\n",
       "rec def \"B\" as E7  <<(T,blue) part  def>> [[psysml:05031283-db67-47ce-b074-a753e1e8519b ]] {\r\n",
       "}\r\n",
       "}\r\n",
       "rec usage \"z: B\" as E8 [[psysml:87e3ce51-5094-4f5d-8d11-feac4ad1e872 ]] {\r\n",
       "}\r\n",
       "package \"P4\" as E9  [[psysml:a1b56716-f996-4480-88b0-3733f2d7733c ]]  {\r\n",
       "rec usage \"z1: A\" as E10 [[psysml:630baa2a-121f-4da7-a3fd-6c76e707d010 ]] {\r\n",
       "}\r\n",
       "}\r\n",
       "}\r\n",
       "E4 ..> E2 [[psysml:0487f209-9870-4837-a273-e80eaf0041e3 ]] : <<import>>*\r\n",
       "E5 - -:|> E3 [[psysml:fdb905ca-fd31-45b2-b41e-28dfb09dbd5e ]] \r\n",
       "E1 ..> E4 [[psysml:60fcb482-826b-48b1-b5dc-27f8a317149a ]] : <<import>>*\r\n",
       "E1 ..> E6 [[psysml:37c9a4c7-80e6-494a-a65a-d8ec35cca65c ]] : <<import>>*\r\n",
       "E8 - -:|> E7 [[psysml:f605a3b7-992a-46f2-9cbf-567dae0e656e ]] \r\n",
       "E9 ..> E4 [[psysml:f74e7f7d-bc69-4c36-9a7b-616abfb119b1 ]] : <<import>>*\r\n",
       "E10 - -:|> E3 [[psysml:7688159c-03f6-437a-9242-bafcaad292a9 ]] \r\n",
       "@enduml\r\n",
       "\n",
       "PlantUML version 1.2022.7(Mon Aug 22 17:01:30 UTC 2022)\n",
       "(EPL source distribution)\n",
       "Java Runtime: OpenJDK Runtime Environment\n",
       "JVM: OpenJDK 64-Bit Server VM\n",
       "Default Encoding: UTF-8\n",
       "Language: en\n",
       "Country: null\n",
       "--></g></svg>"
      ]
     },
     "execution_count": 40,
     "metadata": {},
     "output_type": "execute_result"
    }
   ],
   "source": [
    "%viz --style=\"DEFAULT\" --view=\"Interconnection\" \"PrivateImportTest\""
   ]
  },
  {
   "cell_type": "code",
   "execution_count": 41,
   "id": "5b8f3768",
   "metadata": {
    "execution": {
     "iopub.execute_input": "2024-12-16T14:17:05.593679Z",
     "iopub.status.busy": "2024-12-16T14:17:05.593430Z",
     "iopub.status.idle": "2024-12-16T14:17:05.598021Z",
     "shell.execute_reply": "2024-12-16T14:17:05.598150Z"
    }
   },
   "outputs": [
    {
     "data": {
      "image/svg+xml": [
       "<?xml version=\"1.0\" encoding=\"UTF-8\" standalone=\"no\"?><svg xmlns=\"http://www.w3.org/2000/svg\" xmlns:xlink=\"http://www.w3.org/1999/xlink\" contentStyleType=\"text/css\" height=\"10px\" preserveAspectRatio=\"none\" style=\"width:10px;height:10px;background:#FFFFFF;\" version=\"1.1\" viewBox=\"0 0 10 10\" width=\"10px\" zoomAndPan=\"magnify\"><defs/><g><!--MD5=[3d9597b1575ffc4802b0d6ba40297a8d]\n",
       "@startuml\r\n",
       "skin sysmlbw\r\n",
       "skinparam monochrome true\r\n",
       "skinparam wrapWidth 300\r\n",
       "hide circle\r\n",
       "skinparam ranksep 8\r\n",
       "\r\n",
       "@enduml\r\n",
       "\n",
       "PlantUML version 1.2022.7(Mon Aug 22 17:01:30 UTC 2022)\n",
       "(EPL source distribution)\n",
       "Java Runtime: OpenJDK Runtime Environment\n",
       "JVM: OpenJDK 64-Bit Server VM\n",
       "Default Encoding: UTF-8\n",
       "Language: en\n",
       "Country: null\n",
       "--></g></svg>"
      ]
     },
     "execution_count": 41,
     "metadata": {},
     "output_type": "execute_result"
    }
   ],
   "source": [
    "%viz --style=\"DEFAULT\" --view=\"Action\" \"PrivateImportTest\""
   ]
  },
  {
   "cell_type": "code",
   "execution_count": 42,
   "id": "1a1ad4c0",
   "metadata": {
    "execution": {
     "iopub.execute_input": "2024-12-16T14:17:05.652661Z",
     "iopub.status.busy": "2024-12-16T14:17:05.652418Z",
     "iopub.status.idle": "2024-12-16T14:17:05.657668Z",
     "shell.execute_reply": "2024-12-16T14:17:05.657465Z"
    }
   },
   "outputs": [
    {
     "data": {
      "image/svg+xml": [
       "<?xml version=\"1.0\" encoding=\"UTF-8\" standalone=\"no\"?><svg xmlns=\"http://www.w3.org/2000/svg\" xmlns:xlink=\"http://www.w3.org/1999/xlink\" contentStyleType=\"text/css\" height=\"10px\" preserveAspectRatio=\"none\" style=\"width:10px;height:10px;background:#FFFFFF;\" version=\"1.1\" viewBox=\"0 0 10 10\" width=\"10px\" zoomAndPan=\"magnify\"><defs/><g><!--MD5=[075159388321915a295a256e9638f934]\n",
       "@startuml\r\n",
       "skin sysmlbw\r\n",
       "skinparam monochrome true\r\n",
       "skinparam wrapWidth 300\r\n",
       "hide circle\r\n",
       "skinparam roundcorner 20\r\n",
       "skinparam BoxPadding 20\r\n",
       "skinparam SequenceBoxBackgroundColor #white\r\n",
       "skinparam style strictuml\r\n",
       "skinparam maxMessageSize 100\r\n",
       "\r\n",
       "@enduml\r\n",
       "\n",
       "PlantUML version 1.2022.7(Mon Aug 22 17:01:30 UTC 2022)\n",
       "(EPL source distribution)\n",
       "Java Runtime: OpenJDK Runtime Environment\n",
       "JVM: OpenJDK 64-Bit Server VM\n",
       "Default Encoding: UTF-8\n",
       "Language: en\n",
       "Country: null\n",
       "--></g></svg>"
      ]
     },
     "execution_count": 42,
     "metadata": {},
     "output_type": "execute_result"
    }
   ],
   "source": [
    "%viz --style=\"DEFAULT\" --view=\"Sequence\" \"PrivateImportTest\""
   ]
  },
  {
   "cell_type": "code",
   "execution_count": 43,
   "id": "efb6e576",
   "metadata": {
    "execution": {
     "iopub.execute_input": "2024-12-16T14:17:05.713585Z",
     "iopub.status.busy": "2024-12-16T14:17:05.713380Z",
     "iopub.status.idle": "2024-12-16T14:17:05.741230Z",
     "shell.execute_reply": "2024-12-16T14:17:05.740196Z"
    }
   },
   "outputs": [
    {
     "data": {
      "image/svg+xml": [
       "<?xml version=\"1.0\" encoding=\"UTF-8\" standalone=\"no\"?><svg xmlns=\"http://www.w3.org/2000/svg\" xmlns:xlink=\"http://www.w3.org/1999/xlink\" contentStyleType=\"text/css\" height=\"587px\" preserveAspectRatio=\"none\" style=\"width:428px;height:587px;background:#FFFFFF;\" version=\"1.1\" viewBox=\"0 0 428 587\" width=\"428px\" zoomAndPan=\"magnify\"><defs/><g><!--MD5=[fbc87193dbaf4d95561dea2c320d4a47]\n",
       "cluster E1--><g id=\"cluster_E1\"><a href=\"psysml:11a30fa2-fbeb-4b2d-a071-2781e63d5a12\" target=\"_top\" title=\"psysml:11a30fa2-fbeb-4b2d-a071-2781e63d5a12\" xlink:actuate=\"onRequest\" xlink:href=\"psysml:11a30fa2-fbeb-4b2d-a071-2781e63d5a12\" xlink:show=\"new\" xlink:title=\"psysml:11a30fa2-fbeb-4b2d-a071-2781e63d5a12\" xlink:type=\"simple\"><polygon fill=\"none\" points=\"26.335,6,160.7725,6,167.7725,28.2969,411.335,28.2969,411.335,580,26.335,580,26.335,6\" style=\"stroke:#000000;stroke-width:1.5;\"/><line style=\"stroke:#000000;stroke-width:1.5;\" x1=\"26.335\" x2=\"167.7725\" y1=\"28.2969\" y2=\"28.2969\"/><text fill=\"#000000\" font-family=\"sans-serif\" font-size=\"14\" font-weight=\"bold\" lengthAdjust=\"spacing\" textLength=\"128.4375\" x=\"30.335\" y=\"20.9951\">PrivateImportTest</text></a></g><!--MD5=[e4f7fae6ed58524ba242bb0b0d3be6b7]\n",
       "cluster E2--><g id=\"cluster_E2\"><a href=\"psysml:29bb8ef7-a50f-48a8-b243-dfabeed2550d\" target=\"_top\" title=\"psysml:29bb8ef7-a50f-48a8-b243-dfabeed2550d\" xlink:actuate=\"onRequest\" xlink:href=\"psysml:29bb8ef7-a50f-48a8-b243-dfabeed2550d\" xlink:show=\"new\" xlink:title=\"psysml:29bb8ef7-a50f-48a8-b243-dfabeed2550d\" xlink:type=\"simple\"><polygon fill=\"none\" points=\"231.335,425,256.21,425,263.21,447.2969,368.335,447.2969,368.335,540,231.335,540,231.335,425\" style=\"stroke:#000000;stroke-width:1.5;\"/><line style=\"stroke:#000000;stroke-width:1.5;\" x1=\"231.335\" x2=\"263.21\" y1=\"447.2969\" y2=\"447.2969\"/><text fill=\"#000000\" font-family=\"sans-serif\" font-size=\"14\" font-weight=\"bold\" lengthAdjust=\"spacing\" textLength=\"18.875\" x=\"235.335\" y=\"439.9951\">P1</text></a></g><!--MD5=[14e3b0961a2654348d326746436168a1]\n",
       "cluster E6--><g id=\"cluster_E6\"><a href=\"psysml:3afe7580-df30-4ff0-95e6-ec63d3638055\" target=\"_top\" title=\"psysml:3afe7580-df30-4ff0-95e6-ec63d3638055\" xlink:actuate=\"onRequest\" xlink:href=\"psysml:3afe7580-df30-4ff0-95e6-ec63d3638055\" xlink:show=\"new\" xlink:title=\"psysml:3afe7580-df30-4ff0-95e6-ec63d3638055\" xlink:type=\"simple\"><polygon fill=\"none\" points=\"74.335,245,99.21,245,106.21,267.2969,211.335,267.2969,211.335,360,74.335,360,74.335,245\" style=\"stroke:#000000;stroke-width:1.5;\"/><line style=\"stroke:#000000;stroke-width:1.5;\" x1=\"74.335\" x2=\"106.21\" y1=\"267.2969\" y2=\"267.2969\"/><text fill=\"#000000\" font-family=\"sans-serif\" font-size=\"14\" font-weight=\"bold\" lengthAdjust=\"spacing\" textLength=\"18.875\" x=\"78.335\" y=\"259.9951\">P3</text></a></g><!--MD5=[7f149f147074ac12df2cb0a7728a5fb0]\n",
       "cluster E9--><g id=\"cluster_E9\"><a href=\"psysml:a1b56716-f996-4480-88b0-3733f2d7733c\" target=\"_top\" title=\"psysml:a1b56716-f996-4480-88b0-3733f2d7733c\" xlink:actuate=\"onRequest\" xlink:href=\"psysml:a1b56716-f996-4480-88b0-3733f2d7733c\" xlink:show=\"new\" xlink:title=\"psysml:a1b56716-f996-4480-88b0-3733f2d7733c\" xlink:type=\"simple\"><polygon fill=\"none\" points=\"254.335,65,279.21,65,286.21,87.2969,371.335,87.2969,371.335,180,254.335,180,254.335,65\" style=\"stroke:#000000;stroke-width:1.5;\"/><line style=\"stroke:#000000;stroke-width:1.5;\" x1=\"254.335\" x2=\"286.21\" y1=\"87.2969\" y2=\"87.2969\"/><text fill=\"#000000\" font-family=\"sans-serif\" font-size=\"14\" font-weight=\"bold\" lengthAdjust=\"spacing\" textLength=\"18.875\" x=\"258.335\" y=\"79.9951\">P4</text></a></g><!--MD5=[270fce915f116d4de14055a7c1d9a0f3]\n",
       "class E5--><a href=\"psysml:fd0b961b-4bae-44e8-b09a-9c87fac280e3\" target=\"_top\" title=\"psysml:fd0b961b-4bae-44e8-b09a-9c87fac280e3\" xlink:actuate=\"onRequest\" xlink:href=\"psysml:fd0b961b-4bae-44e8-b09a-9c87fac280e3\" xlink:show=\"new\" xlink:title=\"psysml:fd0b961b-4bae-44e8-b09a-9c87fac280e3\" xlink:type=\"simple\"><g id=\"elem_E5\"><rect fill=\"#FFFFFF\" height=\"48.2656\" id=\"E5\" rx=\"10\" ry=\"10\" style=\"stroke:#181818;stroke-width:0.5;\" width=\"42\" x=\"345.335\" y=\"288\"/><text fill=\"#000000\" font-family=\"sans-serif\" font-size=\"12\" font-style=\"italic\" lengthAdjust=\"spacing\" textLength=\"40\" x=\"346.335\" y=\"304.1387\">«part»</text><text fill=\"#000000\" font-family=\"sans-serif\" font-size=\"14\" lengthAdjust=\"spacing\" textLength=\"25\" x=\"349.835\" y=\"319.9639\">x: A</text><line style=\"stroke:#181818;stroke-width:0.5;\" x1=\"346.335\" x2=\"386.335\" y1=\"328.2656\" y2=\"328.2656\"/></g></a><!--MD5=[b9389687b975829384b498ac4b7476b2]\n",
       "class E8--><a href=\"psysml:87e3ce51-5094-4f5d-8d11-feac4ad1e872\" target=\"_top\" title=\"psysml:87e3ce51-5094-4f5d-8d11-feac4ad1e872\" xlink:actuate=\"onRequest\" xlink:href=\"psysml:87e3ce51-5094-4f5d-8d11-feac4ad1e872\" xlink:show=\"new\" xlink:title=\"psysml:87e3ce51-5094-4f5d-8d11-feac4ad1e872\" xlink:type=\"simple\"><g id=\"elem_E8\"><rect fill=\"#FFFFFF\" height=\"48.2656\" id=\"E8\" rx=\"10\" ry=\"10\" style=\"stroke:#181818;stroke-width:0.5;\" width=\"42\" x=\"185.335\" y=\"108\"/><text fill=\"#000000\" font-family=\"sans-serif\" font-size=\"12\" font-style=\"italic\" lengthAdjust=\"spacing\" textLength=\"40\" x=\"186.335\" y=\"124.1387\">«part»</text><text fill=\"#000000\" font-family=\"sans-serif\" font-size=\"14\" lengthAdjust=\"spacing\" textLength=\"27\" x=\"188.835\" y=\"139.9639\">z: B</text><line style=\"stroke:#181818;stroke-width:0.5;\" x1=\"186.335\" x2=\"226.335\" y1=\"148.2656\" y2=\"148.2656\"/></g></a><!--MD5=[09b614a08d8cba4a07c9adeb5e0fee81]\n",
       "class E3--><a href=\"psysml:5dfb8e4e-b010-43d6-9ea6-8d8096aa0cbd\" target=\"_top\" title=\"psysml:5dfb8e4e-b010-43d6-9ea6-8d8096aa0cbd\" xlink:actuate=\"onRequest\" xlink:href=\"psysml:5dfb8e4e-b010-43d6-9ea6-8d8096aa0cbd\" xlink:show=\"new\" xlink:title=\"psysml:5dfb8e4e-b010-43d6-9ea6-8d8096aa0cbd\" xlink:type=\"simple\"><g id=\"elem_E3\"><rect fill=\"#FFFFFF\" height=\"48.2656\" id=\"E3\" style=\"stroke:#181818;stroke-width:0.5;\" width=\"70\" x=\"274.335\" y=\"468\"/><text fill=\"#000000\" font-family=\"sans-serif\" font-size=\"12\" font-style=\"italic\" lengthAdjust=\"spacing\" textLength=\"68\" x=\"275.335\" y=\"484.1387\">«part  def»</text><text fill=\"#000000\" font-family=\"sans-serif\" font-size=\"14\" lengthAdjust=\"spacing\" textLength=\"9\" x=\"304.835\" y=\"499.9639\">A</text><line style=\"stroke:#181818;stroke-width:0.5;\" x1=\"275.335\" x2=\"343.335\" y1=\"508.2656\" y2=\"508.2656\"/></g></a><a href=\"psysml:6d745f5d-a6bd-48d3-bb38-b4db6224b450\" target=\"_top\" title=\"psysml:6d745f5d-a6bd-48d3-bb38-b4db6224b450\" xlink:actuate=\"onRequest\" xlink:href=\"psysml:6d745f5d-a6bd-48d3-bb38-b4db6224b450\" xlink:show=\"new\" xlink:title=\"psysml:6d745f5d-a6bd-48d3-bb38-b4db6224b450\" xlink:type=\"simple\"><polygon fill=\"#FFFFFF\" points=\"235.335,285.5,259.335,285.5,266.335,307.7969,273.335,307.7969,273.335,338.0938,235.335,338.0938,235.335,285.5\" style=\"stroke:#181818;stroke-width:0.5;\"/><line style=\"stroke:#181818;stroke-width:0.5;\" x1=\"235.335\" x2=\"266.335\" y1=\"307.7969\" y2=\"307.7969\"/><text fill=\"#000000\" font-family=\"sans-serif\" font-size=\"14\" lengthAdjust=\"spacing\" textLength=\"18\" x=\"239.335\" y=\"300.4951\">P2</text></a><!--MD5=[2156ba9850f5573cc1fc38a6a4b2f02b]\n",
       "class E7--><a href=\"psysml:05031283-db67-47ce-b074-a753e1e8519b\" target=\"_top\" title=\"psysml:05031283-db67-47ce-b074-a753e1e8519b\" xlink:actuate=\"onRequest\" xlink:href=\"psysml:05031283-db67-47ce-b074-a753e1e8519b\" xlink:show=\"new\" xlink:title=\"psysml:05031283-db67-47ce-b074-a753e1e8519b\" xlink:type=\"simple\"><g id=\"elem_E7\"><rect fill=\"#FFFFFF\" height=\"48.2656\" id=\"E7\" style=\"stroke:#181818;stroke-width:0.5;\" width=\"70\" x=\"117.335\" y=\"288\"/><text fill=\"#000000\" font-family=\"sans-serif\" font-size=\"12\" font-style=\"italic\" lengthAdjust=\"spacing\" textLength=\"68\" x=\"118.335\" y=\"304.1387\">«part  def»</text><text fill=\"#000000\" font-family=\"sans-serif\" font-size=\"14\" lengthAdjust=\"spacing\" textLength=\"10\" x=\"147.335\" y=\"319.9639\">B</text><line style=\"stroke:#181818;stroke-width:0.5;\" x1=\"118.335\" x2=\"186.335\" y1=\"328.2656\" y2=\"328.2656\"/></g></a><!--MD5=[96f4274e9e20536e775497830990834d]\n",
       "class E10--><a href=\"psysml:630baa2a-121f-4da7-a3fd-6c76e707d010\" target=\"_top\" title=\"psysml:630baa2a-121f-4da7-a3fd-6c76e707d010\" xlink:actuate=\"onRequest\" xlink:href=\"psysml:630baa2a-121f-4da7-a3fd-6c76e707d010\" xlink:show=\"new\" xlink:title=\"psysml:630baa2a-121f-4da7-a3fd-6c76e707d010\" xlink:type=\"simple\"><g id=\"elem_E10\"><rect fill=\"#FFFFFF\" height=\"48.2656\" id=\"E10\" rx=\"10\" ry=\"10\" style=\"stroke:#181818;stroke-width:0.5;\" width=\"49\" x=\"297.835\" y=\"108\"/><text fill=\"#000000\" font-family=\"sans-serif\" font-size=\"12\" font-style=\"italic\" lengthAdjust=\"spacing\" textLength=\"40\" x=\"302.335\" y=\"124.1387\">«part»</text><text fill=\"#000000\" font-family=\"sans-serif\" font-size=\"14\" lengthAdjust=\"spacing\" textLength=\"35\" x=\"300.835\" y=\"139.9639\">z1: A</text><line style=\"stroke:#181818;stroke-width:0.5;\" x1=\"298.835\" x2=\"345.835\" y1=\"148.2656\" y2=\"148.2656\"/></g></a><!--MD5=[185131fc0dcab0a4505a2ebe144e961b]\n",
       "link E4 to E2--><g id=\"link_E4_E2\"><a href=\"psysml:0487f209-9870-4837-a273-e80eaf0041e3\" target=\"_top\" title=\"psysml:0487f209-9870-4837-a273-e80eaf0041e3\" xlink:actuate=\"onRequest\" xlink:href=\"psysml:0487f209-9870-4837-a273-e80eaf0041e3\" xlink:show=\"new\" xlink:title=\"psysml:0487f209-9870-4837-a273-e80eaf0041e3\" xlink:type=\"simple\"><path d=\"M244.835,338.57 C240.375,351.9 235.565,368.61 233.335,384 C231.655,395.6 231.165,407.9706 231.3811,420.0302 C231.4081,421.5376 231.4461,423.0402 231.4943,424.5358 \" fill=\"none\" id=\"E4-to-E2\" style=\"stroke:#181818;stroke-width:1.0;stroke-dasharray:7.0,7.0;\"/><polygon fill=\"#181818\" points=\"231.4943,424.5358,235.2027,415.4118,231.3335,419.5384,227.2069,415.6691,231.4943,424.5358\" style=\"stroke:#181818;stroke-width:1.0;\"/><text fill=\"#000000\" font-family=\"sans-serif\" font-size=\"13\" lengthAdjust=\"spacing\" textLength=\"65\" x=\"234.335\" y=\"397.0669\">«import»*</text></a></g><!--MD5=[e9be52314489bd878ff4c7144b63c9e1]\n",
       "link E5 to E3--><g id=\"link_E5_E3\"><a href=\"psysml:fdb905ca-fd31-45b2-b41e-28dfb09dbd5e\" target=\"_top\" title=\"psysml:fdb905ca-fd31-45b2-b41e-28dfb09dbd5e\" xlink:actuate=\"onRequest\" xlink:href=\"psysml:fdb905ca-fd31-45b2-b41e-28dfb09dbd5e\" xlink:show=\"new\" xlink:title=\"psysml:fdb905ca-fd31-45b2-b41e-28dfb09dbd5e\" xlink:type=\"simple\"><path d=\"M358.885,336.27 C349.795,364.65 334.255,413.19 322.995,448.34 \" fill=\"none\" id=\"E5-to-E3\" style=\"stroke:#181818;stroke-width:1.0;\"/><polygon fill=\"#FFFFFF\" points=\"316.785,467.72,315.9148,447.4902,329.2475,451.7611,316.785,467.72\" style=\"stroke:#181818;stroke-width:1.0;\"/><ellipse cx=\"319.5583\" cy=\"442.6721\" fill=\"#181818\" rx=\"2\" ry=\"2\" style=\"stroke:#181818;stroke-width:1.0;\"/><ellipse cx=\"329.0817\" cy=\"445.7227\" fill=\"#181818\" rx=\"2\" ry=\"2\" style=\"stroke:#181818;stroke-width:1.0;\"/></a></g><!--MD5=[ee384bb554873b72f85793eae40e290c]\n",
       "link E1 to E4--><g id=\"link_E1_E4\"><a href=\"psysml:60fcb482-826b-48b1-b5dc-27f8a317149a\" target=\"_top\" title=\"psysml:60fcb482-826b-48b1-b5dc-27f8a317149a\" xlink:actuate=\"onRequest\" xlink:href=\"psysml:60fcb482-826b-48b1-b5dc-27f8a317149a\" xlink:show=\"new\" xlink:title=\"psysml:60fcb482-826b-48b1-b5dc-27f8a317149a\" xlink:type=\"simple\"><path d=\"M34.305,133.12 C33.645,135.64 23.485,176.19 42.335,196 C49.335,203.36 77.365,202.04 87.335,204 C100.275,206.54 192.555,221.41 203.335,229 C221.255,241.61 234.175,262.72 242.525,280.37 \" fill=\"none\" id=\"E1-to-E4\" style=\"stroke:#181818;stroke-width:1.0;stroke-dasharray:7.0,7.0;\"/><polygon fill=\"#181818\" points=\"244.755,285.24,244.6606,275.3916,242.6806,280.6906,237.3816,278.7106,244.755,285.24\" style=\"stroke:#181818;stroke-width:1.0;\"/><text fill=\"#000000\" font-family=\"sans-serif\" font-size=\"13\" lengthAdjust=\"spacing\" textLength=\"65\" x=\"176.335\" y=\"217.0669\">«import»*</text></a></g><!--MD5=[ccbd3af71bf83df0ec2a2db62d6d7130]\n",
       "link E1 to E6--><g id=\"link_E1_E6\"><a href=\"psysml:37c9a4c7-80e6-494a-a65a-d8ec35cca65c\" target=\"_top\" title=\"psysml:37c9a4c7-80e6-494a-a65a-d8ec35cca65c\" xlink:actuate=\"onRequest\" xlink:href=\"psysml:37c9a4c7-80e6-494a-a65a-d8ec35cca65c\" xlink:show=\"new\" xlink:title=\"psysml:37c9a4c7-80e6-494a-a65a-d8ec35cca65c\" xlink:type=\"simple\"><path d=\"M26.3325,146.2131 C26.1219,146.5997 25.9095,146.9932 25.6953,147.3934 C24.8388,148.9944 23.9555,150.7026 23.0641,152.5046 C21.2813,156.1085 19.4656,160.0872 17.765,164.3313 C10.9625,181.3075 6,202.53 12.335,221 C20.3,244.215 36.9725,266.0575 52.0488,282.41 C59.5869,290.5862 66.7259,297.39 72.178,302.3066 C72.8595,302.9211 73.5146,303.5062 74.1409,304.0608 \" fill=\"none\" id=\"E1-to-E6\" style=\"stroke:#181818;stroke-width:1.0;stroke-dasharray:7.0,7.0;\"/><polygon fill=\"#181818\" points=\"74.1409,304.0608,70.0549,295.0995,70.3976,300.746,64.7512,301.0887,74.1409,304.0608\" style=\"stroke:#181818;stroke-width:1.0;\"/><text fill=\"#000000\" font-family=\"sans-serif\" font-size=\"13\" lengthAdjust=\"spacing\" textLength=\"65\" x=\"13.335\" y=\"217.0669\">«import»*</text></a></g><!--MD5=[bfa3c8b0d15052fdf50ae9310b491027]\n",
       "link E8 to E7--><g id=\"link_E8_E7\"><a href=\"psysml:f605a3b7-992a-46f2-9cbf-567dae0e656e\" target=\"_top\" title=\"psysml:f605a3b7-992a-46f2-9cbf-567dae0e656e\" xlink:actuate=\"onRequest\" xlink:href=\"psysml:f605a3b7-992a-46f2-9cbf-567dae0e656e\" xlink:show=\"new\" xlink:title=\"psysml:f605a3b7-992a-46f2-9cbf-567dae0e656e\" xlink:type=\"simple\"><path d=\"M221.755,156.17 C235.785,178.66 253.075,210.85 244.335,221 C228.795,239.06 210.465,214.81 191.335,229 C178.275,238.69 169.415,253.88 163.485,268.56 \" fill=\"none\" id=\"E8-to-E7\" style=\"stroke:#181818;stroke-width:1.0;\"/><polygon fill=\"#FFFFFF\" points=\"157.085,287.71,156.4571,267.4713,169.7377,271.9015,157.085,287.71\" style=\"stroke:#181818;stroke-width:1.0;\"/><ellipse cx=\"160.1581\" cy=\"262.6971\" fill=\"#181818\" rx=\"2\" ry=\"2\" style=\"stroke:#181818;stroke-width:1.0;\"/><ellipse cx=\"169.6442\" cy=\"265.8615\" fill=\"#181818\" rx=\"2\" ry=\"2\" style=\"stroke:#181818;stroke-width:1.0;\"/></a></g><!--MD5=[c2be97adba6ddfe1c8f349fab141c927]\n",
       "link E9 to E4--><g id=\"link_E9_E4\"><a href=\"psysml:f74e7f7d-bc69-4c36-9a7b-616abfb119b1\" target=\"_top\" title=\"psysml:f74e7f7d-bc69-4c36-9a7b-616abfb119b1\" xlink:actuate=\"onRequest\" xlink:href=\"psysml:f74e7f7d-bc69-4c36-9a7b-616abfb119b1\" xlink:show=\"new\" xlink:title=\"psysml:f74e7f7d-bc69-4c36-9a7b-616abfb119b1\" xlink:type=\"simple\"><path d=\"M260.2025,180.4864 C260.1924,180.7107 260.1823,180.9354 260.1722,181.1606 C260.1318,182.0612 260.091,182.969 260.0499,183.8833 C259.9677,185.7121 259.8844,187.5673 259.8,189.445 C258.45,219.4875 256.84,255.27 255.715,280.2 \" fill=\"none\" id=\"E9-to-E4\" style=\"stroke:#181818;stroke-width:1.0;stroke-dasharray:7.0,7.0;\"/><polygon fill=\"#181818\" points=\"255.485,285.47,259.8918,276.6621,255.7133,280.4752,251.9002,276.2967,255.485,285.47\" style=\"stroke:#181818;stroke-width:1.0;\"/><text fill=\"#000000\" font-family=\"sans-serif\" font-size=\"13\" lengthAdjust=\"spacing\" textLength=\"65\" x=\"259.335\" y=\"217.0669\">«import»*</text></a></g><!--MD5=[feeac5eb423634930294aa81f2d25a4c]\n",
       "link E10 to E3--><g id=\"link_E10_E3\"><a href=\"psysml:7688159c-03f6-437a-9242-bafcaad292a9\" target=\"_top\" title=\"psysml:7688159c-03f6-437a-9242-bafcaad292a9\" xlink:actuate=\"onRequest\" xlink:href=\"psysml:7688159c-03f6-437a-9242-bafcaad292a9\" xlink:show=\"new\" xlink:title=\"psysml:7688159c-03f6-437a-9242-bafcaad292a9\" xlink:type=\"simple\"><path d=\"M344.205,156.37 C359.315,175.4 374.095,202.12 358.335,221 C345.595,236.26 327.215,213.86 314.335,229 C300.565,245.18 304.225,377.23 307.215,447.45 \" fill=\"none\" id=\"E10-to-E3\" style=\"stroke:#181818;stroke-width:1.0;\"/><polygon fill=\"#FFFFFF\" points=\"308.135,467.85,300.2734,449.19,314.2588,448.5498,308.135,467.85\" style=\"stroke:#181818;stroke-width:1.0;\"/><ellipse cx=\"302.0107\" cy=\"443.4045\" fill=\"#181818\" rx=\"2\" ry=\"2\" style=\"stroke:#181818;stroke-width:1.0;\"/><ellipse cx=\"312.0002\" cy=\"442.9472\" fill=\"#181818\" rx=\"2\" ry=\"2\" style=\"stroke:#181818;stroke-width:1.0;\"/></a></g><!--MD5=[0f706d552220d9e1ec232fd71571dbfd]\n",
       "@startuml\r\n",
       "skin sysmlbw\r\n",
       "skinparam monochrome true\r\n",
       "skinparam wrapWidth 300\r\n",
       "hide circle\r\n",
       "\r\n",
       "package \"PrivateImportTest\" as E1  [[psysml:11a30fa2-fbeb-4b2d-a071-2781e63d5a12 ]]  {\r\n",
       "package \"P1\" as E2  [[psysml:29bb8ef7-a50f-48a8-b243-dfabeed2550d ]]  {\r\n",
       "comp def \"A\" as E3  <<(T,blue) part  def>> [[psysml:5dfb8e4e-b010-43d6-9ea6-8d8096aa0cbd ]] {\r\n",
       "}\r\n",
       "}\r\n",
       "package \"P2\" as E4  [[psysml:6d745f5d-a6bd-48d3-bb38-b4db6224b450 ]]  {\r\n",
       "}\r\n",
       "comp usage \"x: A  \" as E5  <<(T,blue) part>> [[psysml:fd0b961b-4bae-44e8-b09a-9c87fac280e3 ]] {\r\n",
       "}\r\n",
       "package \"P3\" as E6  [[psysml:3afe7580-df30-4ff0-95e6-ec63d3638055 ]]  {\r\n",
       "comp def \"B\" as E7  <<(T,blue) part  def>> [[psysml:05031283-db67-47ce-b074-a753e1e8519b ]] {\r\n",
       "}\r\n",
       "}\r\n",
       "comp usage \"z: B  \" as E8  <<(T,blue) part>> [[psysml:87e3ce51-5094-4f5d-8d11-feac4ad1e872 ]] {\r\n",
       "}\r\n",
       "package \"P4\" as E9  [[psysml:a1b56716-f996-4480-88b0-3733f2d7733c ]]  {\r\n",
       "comp usage \"z1: A  \" as E10  <<(T,blue) part>> [[psysml:630baa2a-121f-4da7-a3fd-6c76e707d010 ]] {\r\n",
       "}\r\n",
       "}\r\n",
       "}\r\n",
       "E4 ..> E2 [[psysml:0487f209-9870-4837-a273-e80eaf0041e3 ]] : <<import>>*\r\n",
       "E5 - -:|> E3 [[psysml:fdb905ca-fd31-45b2-b41e-28dfb09dbd5e ]] \r\n",
       "E1 ..> E4 [[psysml:60fcb482-826b-48b1-b5dc-27f8a317149a ]] : <<import>>*\r\n",
       "E1 ..> E6 [[psysml:37c9a4c7-80e6-494a-a65a-d8ec35cca65c ]] : <<import>>*\r\n",
       "E8 - -:|> E7 [[psysml:f605a3b7-992a-46f2-9cbf-567dae0e656e ]] \r\n",
       "E9 ..> E4 [[psysml:f74e7f7d-bc69-4c36-9a7b-616abfb119b1 ]] : <<import>>*\r\n",
       "E10 - -:|> E3 [[psysml:7688159c-03f6-437a-9242-bafcaad292a9 ]] \r\n",
       "@enduml\r\n",
       "\n",
       "PlantUML version 1.2022.7(Mon Aug 22 17:01:30 UTC 2022)\n",
       "(EPL source distribution)\n",
       "Java Runtime: OpenJDK Runtime Environment\n",
       "JVM: OpenJDK 64-Bit Server VM\n",
       "Default Encoding: UTF-8\n",
       "Language: en\n",
       "Country: null\n",
       "--></g></svg>"
      ]
     },
     "execution_count": 43,
     "metadata": {},
     "output_type": "execute_result"
    }
   ],
   "source": [
    "%viz --style=\"DEFAULT\" --view=\"MIXED\" \"PrivateImportTest\""
   ]
  },
  {
   "cell_type": "code",
   "execution_count": 44,
   "id": "2d4ab960",
   "metadata": {
    "execution": {
     "iopub.execute_input": "2024-12-16T14:17:05.793560Z",
     "iopub.status.busy": "2024-12-16T14:17:05.793325Z",
     "iopub.status.idle": "2024-12-16T14:17:05.814165Z",
     "shell.execute_reply": "2024-12-16T14:17:05.813994Z"
    }
   },
   "outputs": [
    {
     "data": {
      "image/svg+xml": [
       "<?xml version=\"1.0\" encoding=\"UTF-8\" standalone=\"no\"?><svg xmlns=\"http://www.w3.org/2000/svg\" xmlns:xlink=\"http://www.w3.org/1999/xlink\" contentStyleType=\"text/css\" height=\"587px\" preserveAspectRatio=\"none\" style=\"width:428px;height:587px;background:#FFFFFF;\" version=\"1.1\" viewBox=\"0 0 428 587\" width=\"428px\" zoomAndPan=\"magnify\"><defs/><g><!--MD5=[fbc87193dbaf4d95561dea2c320d4a47]\n",
       "cluster E1--><g id=\"cluster_E1\"><a href=\"psysml:11a30fa2-fbeb-4b2d-a071-2781e63d5a12\" target=\"_top\" title=\"psysml:11a30fa2-fbeb-4b2d-a071-2781e63d5a12\" xlink:actuate=\"onRequest\" xlink:href=\"psysml:11a30fa2-fbeb-4b2d-a071-2781e63d5a12\" xlink:show=\"new\" xlink:title=\"psysml:11a30fa2-fbeb-4b2d-a071-2781e63d5a12\" xlink:type=\"simple\"><polygon fill=\"none\" points=\"26.335,6,160.7725,6,167.7725,28.2969,411.335,28.2969,411.335,580,26.335,580,26.335,6\" style=\"stroke:#000000;stroke-width:1.5;\"/><line style=\"stroke:#000000;stroke-width:1.5;\" x1=\"26.335\" x2=\"167.7725\" y1=\"28.2969\" y2=\"28.2969\"/><text fill=\"#000000\" font-family=\"sans-serif\" font-size=\"14\" font-weight=\"bold\" lengthAdjust=\"spacing\" textLength=\"128.4375\" x=\"30.335\" y=\"20.9951\">PrivateImportTest</text></a></g><!--MD5=[e4f7fae6ed58524ba242bb0b0d3be6b7]\n",
       "cluster E2--><g id=\"cluster_E2\"><a href=\"psysml:29bb8ef7-a50f-48a8-b243-dfabeed2550d\" target=\"_top\" title=\"psysml:29bb8ef7-a50f-48a8-b243-dfabeed2550d\" xlink:actuate=\"onRequest\" xlink:href=\"psysml:29bb8ef7-a50f-48a8-b243-dfabeed2550d\" xlink:show=\"new\" xlink:title=\"psysml:29bb8ef7-a50f-48a8-b243-dfabeed2550d\" xlink:type=\"simple\"><polygon fill=\"none\" points=\"231.335,425,256.21,425,263.21,447.2969,368.335,447.2969,368.335,540,231.335,540,231.335,425\" style=\"stroke:#000000;stroke-width:1.5;\"/><line style=\"stroke:#000000;stroke-width:1.5;\" x1=\"231.335\" x2=\"263.21\" y1=\"447.2969\" y2=\"447.2969\"/><text fill=\"#000000\" font-family=\"sans-serif\" font-size=\"14\" font-weight=\"bold\" lengthAdjust=\"spacing\" textLength=\"18.875\" x=\"235.335\" y=\"439.9951\">P1</text></a></g><!--MD5=[14e3b0961a2654348d326746436168a1]\n",
       "cluster E6--><g id=\"cluster_E6\"><a href=\"psysml:3afe7580-df30-4ff0-95e6-ec63d3638055\" target=\"_top\" title=\"psysml:3afe7580-df30-4ff0-95e6-ec63d3638055\" xlink:actuate=\"onRequest\" xlink:href=\"psysml:3afe7580-df30-4ff0-95e6-ec63d3638055\" xlink:show=\"new\" xlink:title=\"psysml:3afe7580-df30-4ff0-95e6-ec63d3638055\" xlink:type=\"simple\"><polygon fill=\"none\" points=\"74.335,245,99.21,245,106.21,267.2969,211.335,267.2969,211.335,360,74.335,360,74.335,245\" style=\"stroke:#000000;stroke-width:1.5;\"/><line style=\"stroke:#000000;stroke-width:1.5;\" x1=\"74.335\" x2=\"106.21\" y1=\"267.2969\" y2=\"267.2969\"/><text fill=\"#000000\" font-family=\"sans-serif\" font-size=\"14\" font-weight=\"bold\" lengthAdjust=\"spacing\" textLength=\"18.875\" x=\"78.335\" y=\"259.9951\">P3</text></a></g><!--MD5=[7f149f147074ac12df2cb0a7728a5fb0]\n",
       "cluster E9--><g id=\"cluster_E9\"><a href=\"psysml:a1b56716-f996-4480-88b0-3733f2d7733c\" target=\"_top\" title=\"psysml:a1b56716-f996-4480-88b0-3733f2d7733c\" xlink:actuate=\"onRequest\" xlink:href=\"psysml:a1b56716-f996-4480-88b0-3733f2d7733c\" xlink:show=\"new\" xlink:title=\"psysml:a1b56716-f996-4480-88b0-3733f2d7733c\" xlink:type=\"simple\"><polygon fill=\"none\" points=\"254.335,65,279.21,65,286.21,87.2969,371.335,87.2969,371.335,180,254.335,180,254.335,65\" style=\"stroke:#000000;stroke-width:1.5;\"/><line style=\"stroke:#000000;stroke-width:1.5;\" x1=\"254.335\" x2=\"286.21\" y1=\"87.2969\" y2=\"87.2969\"/><text fill=\"#000000\" font-family=\"sans-serif\" font-size=\"14\" font-weight=\"bold\" lengthAdjust=\"spacing\" textLength=\"18.875\" x=\"258.335\" y=\"79.9951\">P4</text></a></g><!--MD5=[270fce915f116d4de14055a7c1d9a0f3]\n",
       "class E5--><a href=\"psysml:fd0b961b-4bae-44e8-b09a-9c87fac280e3\" target=\"_top\" title=\"psysml:fd0b961b-4bae-44e8-b09a-9c87fac280e3\" xlink:actuate=\"onRequest\" xlink:href=\"psysml:fd0b961b-4bae-44e8-b09a-9c87fac280e3\" xlink:show=\"new\" xlink:title=\"psysml:fd0b961b-4bae-44e8-b09a-9c87fac280e3\" xlink:type=\"simple\"><g id=\"elem_E5\"><rect fill=\"#FFFFFF\" height=\"48.2656\" id=\"E5\" rx=\"10\" ry=\"10\" style=\"stroke:#181818;stroke-width:0.5;\" width=\"42\" x=\"345.335\" y=\"288\"/><text fill=\"#000000\" font-family=\"sans-serif\" font-size=\"12\" font-style=\"italic\" lengthAdjust=\"spacing\" textLength=\"40\" x=\"346.335\" y=\"304.1387\">«part»</text><text fill=\"#000000\" font-family=\"sans-serif\" font-size=\"14\" lengthAdjust=\"spacing\" textLength=\"25\" x=\"349.835\" y=\"319.9639\">x: A</text><line style=\"stroke:#181818;stroke-width:0.5;\" x1=\"346.335\" x2=\"386.335\" y1=\"328.2656\" y2=\"328.2656\"/></g></a><!--MD5=[b9389687b975829384b498ac4b7476b2]\n",
       "class E8--><a href=\"psysml:87e3ce51-5094-4f5d-8d11-feac4ad1e872\" target=\"_top\" title=\"psysml:87e3ce51-5094-4f5d-8d11-feac4ad1e872\" xlink:actuate=\"onRequest\" xlink:href=\"psysml:87e3ce51-5094-4f5d-8d11-feac4ad1e872\" xlink:show=\"new\" xlink:title=\"psysml:87e3ce51-5094-4f5d-8d11-feac4ad1e872\" xlink:type=\"simple\"><g id=\"elem_E8\"><rect fill=\"#FFFFFF\" height=\"48.2656\" id=\"E8\" rx=\"10\" ry=\"10\" style=\"stroke:#181818;stroke-width:0.5;\" width=\"42\" x=\"185.335\" y=\"108\"/><text fill=\"#000000\" font-family=\"sans-serif\" font-size=\"12\" font-style=\"italic\" lengthAdjust=\"spacing\" textLength=\"40\" x=\"186.335\" y=\"124.1387\">«part»</text><text fill=\"#000000\" font-family=\"sans-serif\" font-size=\"14\" lengthAdjust=\"spacing\" textLength=\"27\" x=\"188.835\" y=\"139.9639\">z: B</text><line style=\"stroke:#181818;stroke-width:0.5;\" x1=\"186.335\" x2=\"226.335\" y1=\"148.2656\" y2=\"148.2656\"/></g></a><!--MD5=[09b614a08d8cba4a07c9adeb5e0fee81]\n",
       "class E3--><a href=\"psysml:5dfb8e4e-b010-43d6-9ea6-8d8096aa0cbd\" target=\"_top\" title=\"psysml:5dfb8e4e-b010-43d6-9ea6-8d8096aa0cbd\" xlink:actuate=\"onRequest\" xlink:href=\"psysml:5dfb8e4e-b010-43d6-9ea6-8d8096aa0cbd\" xlink:show=\"new\" xlink:title=\"psysml:5dfb8e4e-b010-43d6-9ea6-8d8096aa0cbd\" xlink:type=\"simple\"><g id=\"elem_E3\"><rect fill=\"#FFFFFF\" height=\"48.2656\" id=\"E3\" style=\"stroke:#181818;stroke-width:0.5;\" width=\"70\" x=\"274.335\" y=\"468\"/><text fill=\"#000000\" font-family=\"sans-serif\" font-size=\"12\" font-style=\"italic\" lengthAdjust=\"spacing\" textLength=\"68\" x=\"275.335\" y=\"484.1387\">«part  def»</text><text fill=\"#000000\" font-family=\"sans-serif\" font-size=\"14\" lengthAdjust=\"spacing\" textLength=\"9\" x=\"304.835\" y=\"499.9639\">A</text><line style=\"stroke:#181818;stroke-width:0.5;\" x1=\"275.335\" x2=\"343.335\" y1=\"508.2656\" y2=\"508.2656\"/></g></a><a href=\"psysml:6d745f5d-a6bd-48d3-bb38-b4db6224b450\" target=\"_top\" title=\"psysml:6d745f5d-a6bd-48d3-bb38-b4db6224b450\" xlink:actuate=\"onRequest\" xlink:href=\"psysml:6d745f5d-a6bd-48d3-bb38-b4db6224b450\" xlink:show=\"new\" xlink:title=\"psysml:6d745f5d-a6bd-48d3-bb38-b4db6224b450\" xlink:type=\"simple\"><polygon fill=\"#FFFFFF\" points=\"235.335,285.5,259.335,285.5,266.335,307.7969,273.335,307.7969,273.335,338.0938,235.335,338.0938,235.335,285.5\" style=\"stroke:#181818;stroke-width:0.5;\"/><line style=\"stroke:#181818;stroke-width:0.5;\" x1=\"235.335\" x2=\"266.335\" y1=\"307.7969\" y2=\"307.7969\"/><text fill=\"#000000\" font-family=\"sans-serif\" font-size=\"14\" lengthAdjust=\"spacing\" textLength=\"18\" x=\"239.335\" y=\"300.4951\">P2</text></a><!--MD5=[2156ba9850f5573cc1fc38a6a4b2f02b]\n",
       "class E7--><a href=\"psysml:05031283-db67-47ce-b074-a753e1e8519b\" target=\"_top\" title=\"psysml:05031283-db67-47ce-b074-a753e1e8519b\" xlink:actuate=\"onRequest\" xlink:href=\"psysml:05031283-db67-47ce-b074-a753e1e8519b\" xlink:show=\"new\" xlink:title=\"psysml:05031283-db67-47ce-b074-a753e1e8519b\" xlink:type=\"simple\"><g id=\"elem_E7\"><rect fill=\"#FFFFFF\" height=\"48.2656\" id=\"E7\" style=\"stroke:#181818;stroke-width:0.5;\" width=\"70\" x=\"117.335\" y=\"288\"/><text fill=\"#000000\" font-family=\"sans-serif\" font-size=\"12\" font-style=\"italic\" lengthAdjust=\"spacing\" textLength=\"68\" x=\"118.335\" y=\"304.1387\">«part  def»</text><text fill=\"#000000\" font-family=\"sans-serif\" font-size=\"14\" lengthAdjust=\"spacing\" textLength=\"10\" x=\"147.335\" y=\"319.9639\">B</text><line style=\"stroke:#181818;stroke-width:0.5;\" x1=\"118.335\" x2=\"186.335\" y1=\"328.2656\" y2=\"328.2656\"/></g></a><!--MD5=[96f4274e9e20536e775497830990834d]\n",
       "class E10--><a href=\"psysml:630baa2a-121f-4da7-a3fd-6c76e707d010\" target=\"_top\" title=\"psysml:630baa2a-121f-4da7-a3fd-6c76e707d010\" xlink:actuate=\"onRequest\" xlink:href=\"psysml:630baa2a-121f-4da7-a3fd-6c76e707d010\" xlink:show=\"new\" xlink:title=\"psysml:630baa2a-121f-4da7-a3fd-6c76e707d010\" xlink:type=\"simple\"><g id=\"elem_E10\"><rect fill=\"#FFFFFF\" height=\"48.2656\" id=\"E10\" rx=\"10\" ry=\"10\" style=\"stroke:#181818;stroke-width:0.5;\" width=\"49\" x=\"297.835\" y=\"108\"/><text fill=\"#000000\" font-family=\"sans-serif\" font-size=\"12\" font-style=\"italic\" lengthAdjust=\"spacing\" textLength=\"40\" x=\"302.335\" y=\"124.1387\">«part»</text><text fill=\"#000000\" font-family=\"sans-serif\" font-size=\"14\" lengthAdjust=\"spacing\" textLength=\"35\" x=\"300.835\" y=\"139.9639\">z1: A</text><line style=\"stroke:#181818;stroke-width:0.5;\" x1=\"298.835\" x2=\"345.835\" y1=\"148.2656\" y2=\"148.2656\"/></g></a><!--MD5=[185131fc0dcab0a4505a2ebe144e961b]\n",
       "link E4 to E2--><g id=\"link_E4_E2\"><a href=\"psysml:0487f209-9870-4837-a273-e80eaf0041e3\" target=\"_top\" title=\"psysml:0487f209-9870-4837-a273-e80eaf0041e3\" xlink:actuate=\"onRequest\" xlink:href=\"psysml:0487f209-9870-4837-a273-e80eaf0041e3\" xlink:show=\"new\" xlink:title=\"psysml:0487f209-9870-4837-a273-e80eaf0041e3\" xlink:type=\"simple\"><path d=\"M244.835,338.57 C240.375,351.9 235.565,368.61 233.335,384 C231.655,395.6 231.165,407.9706 231.3811,420.0302 C231.4081,421.5376 231.4461,423.0402 231.4943,424.5358 \" fill=\"none\" id=\"E4-to-E2\" style=\"stroke:#181818;stroke-width:1.0;stroke-dasharray:7.0,7.0;\"/><polygon fill=\"#181818\" points=\"231.4943,424.5358,235.2027,415.4118,231.3335,419.5384,227.2069,415.6691,231.4943,424.5358\" style=\"stroke:#181818;stroke-width:1.0;\"/><text fill=\"#000000\" font-family=\"sans-serif\" font-size=\"13\" lengthAdjust=\"spacing\" textLength=\"65\" x=\"234.335\" y=\"397.0669\">«import»*</text></a></g><!--MD5=[e9be52314489bd878ff4c7144b63c9e1]\n",
       "link E5 to E3--><g id=\"link_E5_E3\"><a href=\"psysml:fdb905ca-fd31-45b2-b41e-28dfb09dbd5e\" target=\"_top\" title=\"psysml:fdb905ca-fd31-45b2-b41e-28dfb09dbd5e\" xlink:actuate=\"onRequest\" xlink:href=\"psysml:fdb905ca-fd31-45b2-b41e-28dfb09dbd5e\" xlink:show=\"new\" xlink:title=\"psysml:fdb905ca-fd31-45b2-b41e-28dfb09dbd5e\" xlink:type=\"simple\"><path d=\"M358.885,336.27 C349.795,364.65 334.255,413.19 322.995,448.34 \" fill=\"none\" id=\"E5-to-E3\" style=\"stroke:#181818;stroke-width:1.0;\"/><polygon fill=\"#FFFFFF\" points=\"316.785,467.72,315.9148,447.4902,329.2475,451.7611,316.785,467.72\" style=\"stroke:#181818;stroke-width:1.0;\"/><ellipse cx=\"319.5583\" cy=\"442.6721\" fill=\"#181818\" rx=\"2\" ry=\"2\" style=\"stroke:#181818;stroke-width:1.0;\"/><ellipse cx=\"329.0817\" cy=\"445.7227\" fill=\"#181818\" rx=\"2\" ry=\"2\" style=\"stroke:#181818;stroke-width:1.0;\"/></a></g><!--MD5=[ee384bb554873b72f85793eae40e290c]\n",
       "link E1 to E4--><g id=\"link_E1_E4\"><a href=\"psysml:60fcb482-826b-48b1-b5dc-27f8a317149a\" target=\"_top\" title=\"psysml:60fcb482-826b-48b1-b5dc-27f8a317149a\" xlink:actuate=\"onRequest\" xlink:href=\"psysml:60fcb482-826b-48b1-b5dc-27f8a317149a\" xlink:show=\"new\" xlink:title=\"psysml:60fcb482-826b-48b1-b5dc-27f8a317149a\" xlink:type=\"simple\"><path d=\"M34.305,133.12 C33.645,135.64 23.485,176.19 42.335,196 C49.335,203.36 77.365,202.04 87.335,204 C100.275,206.54 192.555,221.41 203.335,229 C221.255,241.61 234.175,262.72 242.525,280.37 \" fill=\"none\" id=\"E1-to-E4\" style=\"stroke:#181818;stroke-width:1.0;stroke-dasharray:7.0,7.0;\"/><polygon fill=\"#181818\" points=\"244.755,285.24,244.6606,275.3916,242.6806,280.6906,237.3816,278.7106,244.755,285.24\" style=\"stroke:#181818;stroke-width:1.0;\"/><text fill=\"#000000\" font-family=\"sans-serif\" font-size=\"13\" lengthAdjust=\"spacing\" textLength=\"65\" x=\"176.335\" y=\"217.0669\">«import»*</text></a></g><!--MD5=[ccbd3af71bf83df0ec2a2db62d6d7130]\n",
       "link E1 to E6--><g id=\"link_E1_E6\"><a href=\"psysml:37c9a4c7-80e6-494a-a65a-d8ec35cca65c\" target=\"_top\" title=\"psysml:37c9a4c7-80e6-494a-a65a-d8ec35cca65c\" xlink:actuate=\"onRequest\" xlink:href=\"psysml:37c9a4c7-80e6-494a-a65a-d8ec35cca65c\" xlink:show=\"new\" xlink:title=\"psysml:37c9a4c7-80e6-494a-a65a-d8ec35cca65c\" xlink:type=\"simple\"><path d=\"M26.3325,146.2131 C26.1219,146.5997 25.9095,146.9932 25.6953,147.3934 C24.8388,148.9944 23.9555,150.7026 23.0641,152.5046 C21.2813,156.1085 19.4656,160.0872 17.765,164.3313 C10.9625,181.3075 6,202.53 12.335,221 C20.3,244.215 36.9725,266.0575 52.0488,282.41 C59.5869,290.5862 66.7259,297.39 72.178,302.3066 C72.8595,302.9211 73.5146,303.5062 74.1409,304.0608 \" fill=\"none\" id=\"E1-to-E6\" style=\"stroke:#181818;stroke-width:1.0;stroke-dasharray:7.0,7.0;\"/><polygon fill=\"#181818\" points=\"74.1409,304.0608,70.0549,295.0995,70.3976,300.746,64.7512,301.0887,74.1409,304.0608\" style=\"stroke:#181818;stroke-width:1.0;\"/><text fill=\"#000000\" font-family=\"sans-serif\" font-size=\"13\" lengthAdjust=\"spacing\" textLength=\"65\" x=\"13.335\" y=\"217.0669\">«import»*</text></a></g><!--MD5=[bfa3c8b0d15052fdf50ae9310b491027]\n",
       "link E8 to E7--><g id=\"link_E8_E7\"><a href=\"psysml:f605a3b7-992a-46f2-9cbf-567dae0e656e\" target=\"_top\" title=\"psysml:f605a3b7-992a-46f2-9cbf-567dae0e656e\" xlink:actuate=\"onRequest\" xlink:href=\"psysml:f605a3b7-992a-46f2-9cbf-567dae0e656e\" xlink:show=\"new\" xlink:title=\"psysml:f605a3b7-992a-46f2-9cbf-567dae0e656e\" xlink:type=\"simple\"><path d=\"M221.755,156.17 C235.785,178.66 253.075,210.85 244.335,221 C228.795,239.06 210.465,214.81 191.335,229 C178.275,238.69 169.415,253.88 163.485,268.56 \" fill=\"none\" id=\"E8-to-E7\" style=\"stroke:#181818;stroke-width:1.0;\"/><polygon fill=\"#FFFFFF\" points=\"157.085,287.71,156.4571,267.4713,169.7377,271.9015,157.085,287.71\" style=\"stroke:#181818;stroke-width:1.0;\"/><ellipse cx=\"160.1581\" cy=\"262.6971\" fill=\"#181818\" rx=\"2\" ry=\"2\" style=\"stroke:#181818;stroke-width:1.0;\"/><ellipse cx=\"169.6442\" cy=\"265.8615\" fill=\"#181818\" rx=\"2\" ry=\"2\" style=\"stroke:#181818;stroke-width:1.0;\"/></a></g><!--MD5=[c2be97adba6ddfe1c8f349fab141c927]\n",
       "link E9 to E4--><g id=\"link_E9_E4\"><a href=\"psysml:f74e7f7d-bc69-4c36-9a7b-616abfb119b1\" target=\"_top\" title=\"psysml:f74e7f7d-bc69-4c36-9a7b-616abfb119b1\" xlink:actuate=\"onRequest\" xlink:href=\"psysml:f74e7f7d-bc69-4c36-9a7b-616abfb119b1\" xlink:show=\"new\" xlink:title=\"psysml:f74e7f7d-bc69-4c36-9a7b-616abfb119b1\" xlink:type=\"simple\"><path d=\"M260.2025,180.4864 C260.1924,180.7107 260.1823,180.9354 260.1722,181.1606 C260.1318,182.0612 260.091,182.969 260.0499,183.8833 C259.9677,185.7121 259.8844,187.5673 259.8,189.445 C258.45,219.4875 256.84,255.27 255.715,280.2 \" fill=\"none\" id=\"E9-to-E4\" style=\"stroke:#181818;stroke-width:1.0;stroke-dasharray:7.0,7.0;\"/><polygon fill=\"#181818\" points=\"255.485,285.47,259.8918,276.6621,255.7133,280.4752,251.9002,276.2967,255.485,285.47\" style=\"stroke:#181818;stroke-width:1.0;\"/><text fill=\"#000000\" font-family=\"sans-serif\" font-size=\"13\" lengthAdjust=\"spacing\" textLength=\"65\" x=\"259.335\" y=\"217.0669\">«import»*</text></a></g><!--MD5=[feeac5eb423634930294aa81f2d25a4c]\n",
       "link E10 to E3--><g id=\"link_E10_E3\"><a href=\"psysml:7688159c-03f6-437a-9242-bafcaad292a9\" target=\"_top\" title=\"psysml:7688159c-03f6-437a-9242-bafcaad292a9\" xlink:actuate=\"onRequest\" xlink:href=\"psysml:7688159c-03f6-437a-9242-bafcaad292a9\" xlink:show=\"new\" xlink:title=\"psysml:7688159c-03f6-437a-9242-bafcaad292a9\" xlink:type=\"simple\"><path d=\"M344.205,156.37 C359.315,175.4 374.095,202.12 358.335,221 C345.595,236.26 327.215,213.86 314.335,229 C300.565,245.18 304.225,377.23 307.215,447.45 \" fill=\"none\" id=\"E10-to-E3\" style=\"stroke:#181818;stroke-width:1.0;\"/><polygon fill=\"#FFFFFF\" points=\"308.135,467.85,300.2734,449.19,314.2588,448.5498,308.135,467.85\" style=\"stroke:#181818;stroke-width:1.0;\"/><ellipse cx=\"302.0107\" cy=\"443.4045\" fill=\"#181818\" rx=\"2\" ry=\"2\" style=\"stroke:#181818;stroke-width:1.0;\"/><ellipse cx=\"312.0002\" cy=\"442.9472\" fill=\"#181818\" rx=\"2\" ry=\"2\" style=\"stroke:#181818;stroke-width:1.0;\"/></a></g><!--MD5=[fd1010292455a92903f29bfd3ae7f8ac]\n",
       "@startuml\r\n",
       "skin sysmlbw\r\n",
       "skinparam monochrome true\r\n",
       "skinparam wrapWidth 300\r\n",
       "hide circle\r\n",
       "top to bottom direction\r\n",
       "\r\n",
       "package \"PrivateImportTest\" as E1  [[psysml:11a30fa2-fbeb-4b2d-a071-2781e63d5a12 ]]  {\r\n",
       "package \"P1\" as E2  [[psysml:29bb8ef7-a50f-48a8-b243-dfabeed2550d ]]  {\r\n",
       "comp def \"A\" as E3  <<(T,blue) part  def>> [[psysml:5dfb8e4e-b010-43d6-9ea6-8d8096aa0cbd ]] {\r\n",
       "}\r\n",
       "}\r\n",
       "package \"P2\" as E4  [[psysml:6d745f5d-a6bd-48d3-bb38-b4db6224b450 ]]  {\r\n",
       "}\r\n",
       "comp usage \"x: A  \" as E5  <<(T,blue) part>> [[psysml:fd0b961b-4bae-44e8-b09a-9c87fac280e3 ]] {\r\n",
       "}\r\n",
       "package \"P3\" as E6  [[psysml:3afe7580-df30-4ff0-95e6-ec63d3638055 ]]  {\r\n",
       "comp def \"B\" as E7  <<(T,blue) part  def>> [[psysml:05031283-db67-47ce-b074-a753e1e8519b ]] {\r\n",
       "}\r\n",
       "}\r\n",
       "comp usage \"z: B  \" as E8  <<(T,blue) part>> [[psysml:87e3ce51-5094-4f5d-8d11-feac4ad1e872 ]] {\r\n",
       "}\r\n",
       "package \"P4\" as E9  [[psysml:a1b56716-f996-4480-88b0-3733f2d7733c ]]  {\r\n",
       "comp usage \"z1: A  \" as E10  <<(T,blue) part>> [[psysml:630baa2a-121f-4da7-a3fd-6c76e707d010 ]] {\r\n",
       "}\r\n",
       "}\r\n",
       "}\r\n",
       "E4 ..> E2 [[psysml:0487f209-9870-4837-a273-e80eaf0041e3 ]] : <<import>>*\r\n",
       "E5 - -:|> E3 [[psysml:fdb905ca-fd31-45b2-b41e-28dfb09dbd5e ]] \r\n",
       "E1 ..> E4 [[psysml:60fcb482-826b-48b1-b5dc-27f8a317149a ]] : <<import>>*\r\n",
       "E1 ..> E6 [[psysml:37c9a4c7-80e6-494a-a65a-d8ec35cca65c ]] : <<import>>*\r\n",
       "E8 - -:|> E7 [[psysml:f605a3b7-992a-46f2-9cbf-567dae0e656e ]] \r\n",
       "E9 ..> E4 [[psysml:f74e7f7d-bc69-4c36-9a7b-616abfb119b1 ]] : <<import>>*\r\n",
       "E10 - -:|> E3 [[psysml:7688159c-03f6-437a-9242-bafcaad292a9 ]] \r\n",
       "@enduml\r\n",
       "\n",
       "PlantUML version 1.2022.7(Mon Aug 22 17:01:30 UTC 2022)\n",
       "(EPL source distribution)\n",
       "Java Runtime: OpenJDK Runtime Environment\n",
       "JVM: OpenJDK 64-Bit Server VM\n",
       "Default Encoding: UTF-8\n",
       "Language: en\n",
       "Country: null\n",
       "--></g></svg>"
      ]
     },
     "execution_count": 44,
     "metadata": {},
     "output_type": "execute_result"
    }
   ],
   "source": [
    "%viz --style=\"TB\" --view=\"Default\" \"PrivateImportTest\""
   ]
  },
  {
   "cell_type": "code",
   "execution_count": 45,
   "id": "fa4c3925",
   "metadata": {
    "execution": {
     "iopub.execute_input": "2024-12-16T14:17:05.869688Z",
     "iopub.status.busy": "2024-12-16T14:17:05.869500Z",
     "iopub.status.idle": "2024-12-16T14:17:05.891486Z",
     "shell.execute_reply": "2024-12-16T14:17:05.890422Z"
    }
   },
   "outputs": [
    {
     "data": {
      "image/svg+xml": [
       "<?xml version=\"1.0\" encoding=\"UTF-8\" standalone=\"no\"?><svg xmlns=\"http://www.w3.org/2000/svg\" xmlns:xlink=\"http://www.w3.org/1999/xlink\" contentStyleType=\"text/css\" height=\"587px\" preserveAspectRatio=\"none\" style=\"width:428px;height:587px;background:#FFFFFF;\" version=\"1.1\" viewBox=\"0 0 428 587\" width=\"428px\" zoomAndPan=\"magnify\"><defs/><g><!--MD5=[fbc87193dbaf4d95561dea2c320d4a47]\n",
       "cluster E1--><g id=\"cluster_E1\"><a href=\"psysml:11a30fa2-fbeb-4b2d-a071-2781e63d5a12\" target=\"_top\" title=\"psysml:11a30fa2-fbeb-4b2d-a071-2781e63d5a12\" xlink:actuate=\"onRequest\" xlink:href=\"psysml:11a30fa2-fbeb-4b2d-a071-2781e63d5a12\" xlink:show=\"new\" xlink:title=\"psysml:11a30fa2-fbeb-4b2d-a071-2781e63d5a12\" xlink:type=\"simple\"><polygon fill=\"none\" points=\"26.335,6,160.7725,6,167.7725,28.2969,411.335,28.2969,411.335,580,26.335,580,26.335,6\" style=\"stroke:#000000;stroke-width:1.5;\"/><line style=\"stroke:#000000;stroke-width:1.5;\" x1=\"26.335\" x2=\"167.7725\" y1=\"28.2969\" y2=\"28.2969\"/><text fill=\"#000000\" font-family=\"sans-serif\" font-size=\"14\" font-weight=\"bold\" lengthAdjust=\"spacing\" textLength=\"128.4375\" x=\"30.335\" y=\"20.9951\">PrivateImportTest</text></a></g><!--MD5=[e4f7fae6ed58524ba242bb0b0d3be6b7]\n",
       "cluster E2--><g id=\"cluster_E2\"><a href=\"psysml:29bb8ef7-a50f-48a8-b243-dfabeed2550d\" target=\"_top\" title=\"psysml:29bb8ef7-a50f-48a8-b243-dfabeed2550d\" xlink:actuate=\"onRequest\" xlink:href=\"psysml:29bb8ef7-a50f-48a8-b243-dfabeed2550d\" xlink:show=\"new\" xlink:title=\"psysml:29bb8ef7-a50f-48a8-b243-dfabeed2550d\" xlink:type=\"simple\"><polygon fill=\"none\" points=\"231.335,425,256.21,425,263.21,447.2969,368.335,447.2969,368.335,540,231.335,540,231.335,425\" style=\"stroke:#000000;stroke-width:1.5;\"/><line style=\"stroke:#000000;stroke-width:1.5;\" x1=\"231.335\" x2=\"263.21\" y1=\"447.2969\" y2=\"447.2969\"/><text fill=\"#000000\" font-family=\"sans-serif\" font-size=\"14\" font-weight=\"bold\" lengthAdjust=\"spacing\" textLength=\"18.875\" x=\"235.335\" y=\"439.9951\">P1</text></a></g><!--MD5=[14e3b0961a2654348d326746436168a1]\n",
       "cluster E6--><g id=\"cluster_E6\"><a href=\"psysml:3afe7580-df30-4ff0-95e6-ec63d3638055\" target=\"_top\" title=\"psysml:3afe7580-df30-4ff0-95e6-ec63d3638055\" xlink:actuate=\"onRequest\" xlink:href=\"psysml:3afe7580-df30-4ff0-95e6-ec63d3638055\" xlink:show=\"new\" xlink:title=\"psysml:3afe7580-df30-4ff0-95e6-ec63d3638055\" xlink:type=\"simple\"><polygon fill=\"none\" points=\"74.335,245,99.21,245,106.21,267.2969,211.335,267.2969,211.335,360,74.335,360,74.335,245\" style=\"stroke:#000000;stroke-width:1.5;\"/><line style=\"stroke:#000000;stroke-width:1.5;\" x1=\"74.335\" x2=\"106.21\" y1=\"267.2969\" y2=\"267.2969\"/><text fill=\"#000000\" font-family=\"sans-serif\" font-size=\"14\" font-weight=\"bold\" lengthAdjust=\"spacing\" textLength=\"18.875\" x=\"78.335\" y=\"259.9951\">P3</text></a></g><!--MD5=[7f149f147074ac12df2cb0a7728a5fb0]\n",
       "cluster E9--><g id=\"cluster_E9\"><a href=\"psysml:a1b56716-f996-4480-88b0-3733f2d7733c\" target=\"_top\" title=\"psysml:a1b56716-f996-4480-88b0-3733f2d7733c\" xlink:actuate=\"onRequest\" xlink:href=\"psysml:a1b56716-f996-4480-88b0-3733f2d7733c\" xlink:show=\"new\" xlink:title=\"psysml:a1b56716-f996-4480-88b0-3733f2d7733c\" xlink:type=\"simple\"><polygon fill=\"none\" points=\"254.335,65,279.21,65,286.21,87.2969,371.335,87.2969,371.335,180,254.335,180,254.335,65\" style=\"stroke:#000000;stroke-width:1.5;\"/><line style=\"stroke:#000000;stroke-width:1.5;\" x1=\"254.335\" x2=\"286.21\" y1=\"87.2969\" y2=\"87.2969\"/><text fill=\"#000000\" font-family=\"sans-serif\" font-size=\"14\" font-weight=\"bold\" lengthAdjust=\"spacing\" textLength=\"18.875\" x=\"258.335\" y=\"79.9951\">P4</text></a></g><!--MD5=[270fce915f116d4de14055a7c1d9a0f3]\n",
       "class E5--><a href=\"psysml:fd0b961b-4bae-44e8-b09a-9c87fac280e3\" target=\"_top\" title=\"psysml:fd0b961b-4bae-44e8-b09a-9c87fac280e3\" xlink:actuate=\"onRequest\" xlink:href=\"psysml:fd0b961b-4bae-44e8-b09a-9c87fac280e3\" xlink:show=\"new\" xlink:title=\"psysml:fd0b961b-4bae-44e8-b09a-9c87fac280e3\" xlink:type=\"simple\"><g id=\"elem_E5\"><rect fill=\"#FFFFFF\" height=\"48.2656\" id=\"E5\" rx=\"10\" ry=\"10\" style=\"stroke:#181818;stroke-width:0.5;\" width=\"42\" x=\"345.335\" y=\"288\"/><text fill=\"#000000\" font-family=\"sans-serif\" font-size=\"12\" font-style=\"italic\" lengthAdjust=\"spacing\" textLength=\"40\" x=\"346.335\" y=\"304.1387\">«part»</text><text fill=\"#000000\" font-family=\"sans-serif\" font-size=\"14\" lengthAdjust=\"spacing\" textLength=\"25\" x=\"349.835\" y=\"319.9639\">x: A</text><line style=\"stroke:#181818;stroke-width:0.5;\" x1=\"346.335\" x2=\"386.335\" y1=\"328.2656\" y2=\"328.2656\"/></g></a><!--MD5=[b9389687b975829384b498ac4b7476b2]\n",
       "class E8--><a href=\"psysml:87e3ce51-5094-4f5d-8d11-feac4ad1e872\" target=\"_top\" title=\"psysml:87e3ce51-5094-4f5d-8d11-feac4ad1e872\" xlink:actuate=\"onRequest\" xlink:href=\"psysml:87e3ce51-5094-4f5d-8d11-feac4ad1e872\" xlink:show=\"new\" xlink:title=\"psysml:87e3ce51-5094-4f5d-8d11-feac4ad1e872\" xlink:type=\"simple\"><g id=\"elem_E8\"><rect fill=\"#FFFFFF\" height=\"48.2656\" id=\"E8\" rx=\"10\" ry=\"10\" style=\"stroke:#181818;stroke-width:0.5;\" width=\"42\" x=\"185.335\" y=\"108\"/><text fill=\"#000000\" font-family=\"sans-serif\" font-size=\"12\" font-style=\"italic\" lengthAdjust=\"spacing\" textLength=\"40\" x=\"186.335\" y=\"124.1387\">«part»</text><text fill=\"#000000\" font-family=\"sans-serif\" font-size=\"14\" lengthAdjust=\"spacing\" textLength=\"27\" x=\"188.835\" y=\"139.9639\">z: B</text><line style=\"stroke:#181818;stroke-width:0.5;\" x1=\"186.335\" x2=\"226.335\" y1=\"148.2656\" y2=\"148.2656\"/></g></a><!--MD5=[09b614a08d8cba4a07c9adeb5e0fee81]\n",
       "class E3--><a href=\"psysml:5dfb8e4e-b010-43d6-9ea6-8d8096aa0cbd\" target=\"_top\" title=\"psysml:5dfb8e4e-b010-43d6-9ea6-8d8096aa0cbd\" xlink:actuate=\"onRequest\" xlink:href=\"psysml:5dfb8e4e-b010-43d6-9ea6-8d8096aa0cbd\" xlink:show=\"new\" xlink:title=\"psysml:5dfb8e4e-b010-43d6-9ea6-8d8096aa0cbd\" xlink:type=\"simple\"><g id=\"elem_E3\"><rect fill=\"#FFFFFF\" height=\"48.2656\" id=\"E3\" style=\"stroke:#181818;stroke-width:0.5;\" width=\"70\" x=\"274.335\" y=\"468\"/><text fill=\"#000000\" font-family=\"sans-serif\" font-size=\"12\" font-style=\"italic\" lengthAdjust=\"spacing\" textLength=\"68\" x=\"275.335\" y=\"484.1387\">«part  def»</text><text fill=\"#000000\" font-family=\"sans-serif\" font-size=\"14\" lengthAdjust=\"spacing\" textLength=\"9\" x=\"304.835\" y=\"499.9639\">A</text><line style=\"stroke:#181818;stroke-width:0.5;\" x1=\"275.335\" x2=\"343.335\" y1=\"508.2656\" y2=\"508.2656\"/></g></a><a href=\"psysml:6d745f5d-a6bd-48d3-bb38-b4db6224b450\" target=\"_top\" title=\"psysml:6d745f5d-a6bd-48d3-bb38-b4db6224b450\" xlink:actuate=\"onRequest\" xlink:href=\"psysml:6d745f5d-a6bd-48d3-bb38-b4db6224b450\" xlink:show=\"new\" xlink:title=\"psysml:6d745f5d-a6bd-48d3-bb38-b4db6224b450\" xlink:type=\"simple\"><polygon fill=\"#FFFFFF\" points=\"235.335,285.5,259.335,285.5,266.335,307.7969,273.335,307.7969,273.335,338.0938,235.335,338.0938,235.335,285.5\" style=\"stroke:#181818;stroke-width:0.5;\"/><line style=\"stroke:#181818;stroke-width:0.5;\" x1=\"235.335\" x2=\"266.335\" y1=\"307.7969\" y2=\"307.7969\"/><text fill=\"#000000\" font-family=\"sans-serif\" font-size=\"14\" lengthAdjust=\"spacing\" textLength=\"18\" x=\"239.335\" y=\"300.4951\">P2</text></a><!--MD5=[2156ba9850f5573cc1fc38a6a4b2f02b]\n",
       "class E7--><a href=\"psysml:05031283-db67-47ce-b074-a753e1e8519b\" target=\"_top\" title=\"psysml:05031283-db67-47ce-b074-a753e1e8519b\" xlink:actuate=\"onRequest\" xlink:href=\"psysml:05031283-db67-47ce-b074-a753e1e8519b\" xlink:show=\"new\" xlink:title=\"psysml:05031283-db67-47ce-b074-a753e1e8519b\" xlink:type=\"simple\"><g id=\"elem_E7\"><rect fill=\"#FFFFFF\" height=\"48.2656\" id=\"E7\" style=\"stroke:#181818;stroke-width:0.5;\" width=\"70\" x=\"117.335\" y=\"288\"/><text fill=\"#000000\" font-family=\"sans-serif\" font-size=\"12\" font-style=\"italic\" lengthAdjust=\"spacing\" textLength=\"68\" x=\"118.335\" y=\"304.1387\">«part  def»</text><text fill=\"#000000\" font-family=\"sans-serif\" font-size=\"14\" lengthAdjust=\"spacing\" textLength=\"10\" x=\"147.335\" y=\"319.9639\">B</text><line style=\"stroke:#181818;stroke-width:0.5;\" x1=\"118.335\" x2=\"186.335\" y1=\"328.2656\" y2=\"328.2656\"/></g></a><!--MD5=[96f4274e9e20536e775497830990834d]\n",
       "class E10--><a href=\"psysml:630baa2a-121f-4da7-a3fd-6c76e707d010\" target=\"_top\" title=\"psysml:630baa2a-121f-4da7-a3fd-6c76e707d010\" xlink:actuate=\"onRequest\" xlink:href=\"psysml:630baa2a-121f-4da7-a3fd-6c76e707d010\" xlink:show=\"new\" xlink:title=\"psysml:630baa2a-121f-4da7-a3fd-6c76e707d010\" xlink:type=\"simple\"><g id=\"elem_E10\"><rect fill=\"#FFFFFF\" height=\"48.2656\" id=\"E10\" rx=\"10\" ry=\"10\" style=\"stroke:#181818;stroke-width:0.5;\" width=\"49\" x=\"297.835\" y=\"108\"/><text fill=\"#000000\" font-family=\"sans-serif\" font-size=\"12\" font-style=\"italic\" lengthAdjust=\"spacing\" textLength=\"40\" x=\"302.335\" y=\"124.1387\">«part»</text><text fill=\"#000000\" font-family=\"sans-serif\" font-size=\"14\" lengthAdjust=\"spacing\" textLength=\"35\" x=\"300.835\" y=\"139.9639\">z1: A</text><line style=\"stroke:#181818;stroke-width:0.5;\" x1=\"298.835\" x2=\"345.835\" y1=\"148.2656\" y2=\"148.2656\"/></g></a><!--MD5=[185131fc0dcab0a4505a2ebe144e961b]\n",
       "link E4 to E2--><g id=\"link_E4_E2\"><a href=\"psysml:0487f209-9870-4837-a273-e80eaf0041e3\" target=\"_top\" title=\"psysml:0487f209-9870-4837-a273-e80eaf0041e3\" xlink:actuate=\"onRequest\" xlink:href=\"psysml:0487f209-9870-4837-a273-e80eaf0041e3\" xlink:show=\"new\" xlink:title=\"psysml:0487f209-9870-4837-a273-e80eaf0041e3\" xlink:type=\"simple\"><path d=\"M244.835,338.57 C240.375,351.9 235.565,368.61 233.335,384 C231.655,395.6 231.165,407.9706 231.3811,420.0302 C231.4081,421.5376 231.4461,423.0402 231.4943,424.5358 \" fill=\"none\" id=\"E4-to-E2\" style=\"stroke:#181818;stroke-width:1.0;stroke-dasharray:7.0,7.0;\"/><polygon fill=\"#181818\" points=\"231.4943,424.5358,235.2027,415.4118,231.3335,419.5384,227.2069,415.6691,231.4943,424.5358\" style=\"stroke:#181818;stroke-width:1.0;\"/><text fill=\"#000000\" font-family=\"sans-serif\" font-size=\"13\" lengthAdjust=\"spacing\" textLength=\"65\" x=\"234.335\" y=\"397.0669\">«import»*</text></a></g><!--MD5=[e9be52314489bd878ff4c7144b63c9e1]\n",
       "link E5 to E3--><g id=\"link_E5_E3\"><a href=\"psysml:fdb905ca-fd31-45b2-b41e-28dfb09dbd5e\" target=\"_top\" title=\"psysml:fdb905ca-fd31-45b2-b41e-28dfb09dbd5e\" xlink:actuate=\"onRequest\" xlink:href=\"psysml:fdb905ca-fd31-45b2-b41e-28dfb09dbd5e\" xlink:show=\"new\" xlink:title=\"psysml:fdb905ca-fd31-45b2-b41e-28dfb09dbd5e\" xlink:type=\"simple\"><path d=\"M358.885,336.27 C349.795,364.65 334.255,413.19 322.995,448.34 \" fill=\"none\" id=\"E5-to-E3\" style=\"stroke:#181818;stroke-width:1.0;\"/><polygon fill=\"#FFFFFF\" points=\"316.785,467.72,315.9148,447.4902,329.2475,451.7611,316.785,467.72\" style=\"stroke:#181818;stroke-width:1.0;\"/><ellipse cx=\"319.5583\" cy=\"442.6721\" fill=\"#181818\" rx=\"2\" ry=\"2\" style=\"stroke:#181818;stroke-width:1.0;\"/><ellipse cx=\"329.0817\" cy=\"445.7227\" fill=\"#181818\" rx=\"2\" ry=\"2\" style=\"stroke:#181818;stroke-width:1.0;\"/></a></g><!--MD5=[ee384bb554873b72f85793eae40e290c]\n",
       "link E1 to E4--><g id=\"link_E1_E4\"><a href=\"psysml:60fcb482-826b-48b1-b5dc-27f8a317149a\" target=\"_top\" title=\"psysml:60fcb482-826b-48b1-b5dc-27f8a317149a\" xlink:actuate=\"onRequest\" xlink:href=\"psysml:60fcb482-826b-48b1-b5dc-27f8a317149a\" xlink:show=\"new\" xlink:title=\"psysml:60fcb482-826b-48b1-b5dc-27f8a317149a\" xlink:type=\"simple\"><path d=\"M34.305,133.12 C33.645,135.64 23.485,176.19 42.335,196 C49.335,203.36 77.365,202.04 87.335,204 C100.275,206.54 192.555,221.41 203.335,229 C221.255,241.61 234.175,262.72 242.525,280.37 \" fill=\"none\" id=\"E1-to-E4\" style=\"stroke:#181818;stroke-width:1.0;stroke-dasharray:7.0,7.0;\"/><polygon fill=\"#181818\" points=\"244.755,285.24,244.6606,275.3916,242.6806,280.6906,237.3816,278.7106,244.755,285.24\" style=\"stroke:#181818;stroke-width:1.0;\"/><text fill=\"#000000\" font-family=\"sans-serif\" font-size=\"13\" lengthAdjust=\"spacing\" textLength=\"65\" x=\"176.335\" y=\"217.0669\">«import»*</text></a></g><!--MD5=[ccbd3af71bf83df0ec2a2db62d6d7130]\n",
       "link E1 to E6--><g id=\"link_E1_E6\"><a href=\"psysml:37c9a4c7-80e6-494a-a65a-d8ec35cca65c\" target=\"_top\" title=\"psysml:37c9a4c7-80e6-494a-a65a-d8ec35cca65c\" xlink:actuate=\"onRequest\" xlink:href=\"psysml:37c9a4c7-80e6-494a-a65a-d8ec35cca65c\" xlink:show=\"new\" xlink:title=\"psysml:37c9a4c7-80e6-494a-a65a-d8ec35cca65c\" xlink:type=\"simple\"><path d=\"M26.3325,146.2131 C26.1219,146.5997 25.9095,146.9932 25.6953,147.3934 C24.8388,148.9944 23.9555,150.7026 23.0641,152.5046 C21.2813,156.1085 19.4656,160.0872 17.765,164.3313 C10.9625,181.3075 6,202.53 12.335,221 C20.3,244.215 36.9725,266.0575 52.0488,282.41 C59.5869,290.5862 66.7259,297.39 72.178,302.3066 C72.8595,302.9211 73.5146,303.5062 74.1409,304.0608 \" fill=\"none\" id=\"E1-to-E6\" style=\"stroke:#181818;stroke-width:1.0;stroke-dasharray:7.0,7.0;\"/><polygon fill=\"#181818\" points=\"74.1409,304.0608,70.0549,295.0995,70.3976,300.746,64.7512,301.0887,74.1409,304.0608\" style=\"stroke:#181818;stroke-width:1.0;\"/><text fill=\"#000000\" font-family=\"sans-serif\" font-size=\"13\" lengthAdjust=\"spacing\" textLength=\"65\" x=\"13.335\" y=\"217.0669\">«import»*</text></a></g><!--MD5=[bfa3c8b0d15052fdf50ae9310b491027]\n",
       "link E8 to E7--><g id=\"link_E8_E7\"><a href=\"psysml:f605a3b7-992a-46f2-9cbf-567dae0e656e\" target=\"_top\" title=\"psysml:f605a3b7-992a-46f2-9cbf-567dae0e656e\" xlink:actuate=\"onRequest\" xlink:href=\"psysml:f605a3b7-992a-46f2-9cbf-567dae0e656e\" xlink:show=\"new\" xlink:title=\"psysml:f605a3b7-992a-46f2-9cbf-567dae0e656e\" xlink:type=\"simple\"><path d=\"M221.755,156.17 C235.785,178.66 253.075,210.85 244.335,221 C228.795,239.06 210.465,214.81 191.335,229 C178.275,238.69 169.415,253.88 163.485,268.56 \" fill=\"none\" id=\"E8-to-E7\" style=\"stroke:#181818;stroke-width:1.0;\"/><polygon fill=\"#FFFFFF\" points=\"157.085,287.71,156.4571,267.4713,169.7377,271.9015,157.085,287.71\" style=\"stroke:#181818;stroke-width:1.0;\"/><ellipse cx=\"160.1581\" cy=\"262.6971\" fill=\"#181818\" rx=\"2\" ry=\"2\" style=\"stroke:#181818;stroke-width:1.0;\"/><ellipse cx=\"169.6442\" cy=\"265.8615\" fill=\"#181818\" rx=\"2\" ry=\"2\" style=\"stroke:#181818;stroke-width:1.0;\"/></a></g><!--MD5=[c2be97adba6ddfe1c8f349fab141c927]\n",
       "link E9 to E4--><g id=\"link_E9_E4\"><a href=\"psysml:f74e7f7d-bc69-4c36-9a7b-616abfb119b1\" target=\"_top\" title=\"psysml:f74e7f7d-bc69-4c36-9a7b-616abfb119b1\" xlink:actuate=\"onRequest\" xlink:href=\"psysml:f74e7f7d-bc69-4c36-9a7b-616abfb119b1\" xlink:show=\"new\" xlink:title=\"psysml:f74e7f7d-bc69-4c36-9a7b-616abfb119b1\" xlink:type=\"simple\"><path d=\"M260.2025,180.4864 C260.1924,180.7107 260.1823,180.9354 260.1722,181.1606 C260.1318,182.0612 260.091,182.969 260.0499,183.8833 C259.9677,185.7121 259.8844,187.5673 259.8,189.445 C258.45,219.4875 256.84,255.27 255.715,280.2 \" fill=\"none\" id=\"E9-to-E4\" style=\"stroke:#181818;stroke-width:1.0;stroke-dasharray:7.0,7.0;\"/><polygon fill=\"#181818\" points=\"255.485,285.47,259.8918,276.6621,255.7133,280.4752,251.9002,276.2967,255.485,285.47\" style=\"stroke:#181818;stroke-width:1.0;\"/><text fill=\"#000000\" font-family=\"sans-serif\" font-size=\"13\" lengthAdjust=\"spacing\" textLength=\"65\" x=\"259.335\" y=\"217.0669\">«import»*</text></a></g><!--MD5=[feeac5eb423634930294aa81f2d25a4c]\n",
       "link E10 to E3--><g id=\"link_E10_E3\"><a href=\"psysml:7688159c-03f6-437a-9242-bafcaad292a9\" target=\"_top\" title=\"psysml:7688159c-03f6-437a-9242-bafcaad292a9\" xlink:actuate=\"onRequest\" xlink:href=\"psysml:7688159c-03f6-437a-9242-bafcaad292a9\" xlink:show=\"new\" xlink:title=\"psysml:7688159c-03f6-437a-9242-bafcaad292a9\" xlink:type=\"simple\"><path d=\"M344.205,156.37 C359.315,175.4 374.095,202.12 358.335,221 C345.595,236.26 327.215,213.86 314.335,229 C300.565,245.18 304.225,377.23 307.215,447.45 \" fill=\"none\" id=\"E10-to-E3\" style=\"stroke:#181818;stroke-width:1.0;\"/><polygon fill=\"#FFFFFF\" points=\"308.135,467.85,300.2734,449.19,314.2588,448.5498,308.135,467.85\" style=\"stroke:#181818;stroke-width:1.0;\"/><ellipse cx=\"302.0107\" cy=\"443.4045\" fill=\"#181818\" rx=\"2\" ry=\"2\" style=\"stroke:#181818;stroke-width:1.0;\"/><ellipse cx=\"312.0002\" cy=\"442.9472\" fill=\"#181818\" rx=\"2\" ry=\"2\" style=\"stroke:#181818;stroke-width:1.0;\"/></a></g><!--MD5=[fd1010292455a92903f29bfd3ae7f8ac]\n",
       "@startuml\r\n",
       "skin sysmlbw\r\n",
       "skinparam monochrome true\r\n",
       "skinparam wrapWidth 300\r\n",
       "hide circle\r\n",
       "top to bottom direction\r\n",
       "\r\n",
       "package \"PrivateImportTest\" as E1  [[psysml:11a30fa2-fbeb-4b2d-a071-2781e63d5a12 ]]  {\r\n",
       "package \"P1\" as E2  [[psysml:29bb8ef7-a50f-48a8-b243-dfabeed2550d ]]  {\r\n",
       "comp def \"A\" as E3  <<(T,blue) part  def>> [[psysml:5dfb8e4e-b010-43d6-9ea6-8d8096aa0cbd ]] {\r\n",
       "}\r\n",
       "}\r\n",
       "package \"P2\" as E4  [[psysml:6d745f5d-a6bd-48d3-bb38-b4db6224b450 ]]  {\r\n",
       "}\r\n",
       "comp usage \"x: A  \" as E5  <<(T,blue) part>> [[psysml:fd0b961b-4bae-44e8-b09a-9c87fac280e3 ]] {\r\n",
       "}\r\n",
       "package \"P3\" as E6  [[psysml:3afe7580-df30-4ff0-95e6-ec63d3638055 ]]  {\r\n",
       "comp def \"B\" as E7  <<(T,blue) part  def>> [[psysml:05031283-db67-47ce-b074-a753e1e8519b ]] {\r\n",
       "}\r\n",
       "}\r\n",
       "comp usage \"z: B  \" as E8  <<(T,blue) part>> [[psysml:87e3ce51-5094-4f5d-8d11-feac4ad1e872 ]] {\r\n",
       "}\r\n",
       "package \"P4\" as E9  [[psysml:a1b56716-f996-4480-88b0-3733f2d7733c ]]  {\r\n",
       "comp usage \"z1: A  \" as E10  <<(T,blue) part>> [[psysml:630baa2a-121f-4da7-a3fd-6c76e707d010 ]] {\r\n",
       "}\r\n",
       "}\r\n",
       "}\r\n",
       "E4 ..> E2 [[psysml:0487f209-9870-4837-a273-e80eaf0041e3 ]] : <<import>>*\r\n",
       "E5 - -:|> E3 [[psysml:fdb905ca-fd31-45b2-b41e-28dfb09dbd5e ]] \r\n",
       "E1 ..> E4 [[psysml:60fcb482-826b-48b1-b5dc-27f8a317149a ]] : <<import>>*\r\n",
       "E1 ..> E6 [[psysml:37c9a4c7-80e6-494a-a65a-d8ec35cca65c ]] : <<import>>*\r\n",
       "E8 - -:|> E7 [[psysml:f605a3b7-992a-46f2-9cbf-567dae0e656e ]] \r\n",
       "E9 ..> E4 [[psysml:f74e7f7d-bc69-4c36-9a7b-616abfb119b1 ]] : <<import>>*\r\n",
       "E10 - -:|> E3 [[psysml:7688159c-03f6-437a-9242-bafcaad292a9 ]] \r\n",
       "@enduml\r\n",
       "\n",
       "PlantUML version 1.2022.7(Mon Aug 22 17:01:30 UTC 2022)\n",
       "(EPL source distribution)\n",
       "Java Runtime: OpenJDK Runtime Environment\n",
       "JVM: OpenJDK 64-Bit Server VM\n",
       "Default Encoding: UTF-8\n",
       "Language: en\n",
       "Country: null\n",
       "--></g></svg>"
      ]
     },
     "execution_count": 45,
     "metadata": {},
     "output_type": "execute_result"
    }
   ],
   "source": [
    "%viz --style=\"TB\" --view=\"Tree\" \"PrivateImportTest\""
   ]
  },
  {
   "cell_type": "code",
   "execution_count": 46,
   "id": "707d2a03",
   "metadata": {
    "execution": {
     "iopub.execute_input": "2024-12-16T14:17:05.946776Z",
     "iopub.status.busy": "2024-12-16T14:17:05.946517Z",
     "iopub.status.idle": "2024-12-16T14:17:05.951621Z",
     "shell.execute_reply": "2024-12-16T14:17:05.951439Z"
    }
   },
   "outputs": [
    {
     "data": {
      "image/svg+xml": [
       "<?xml version=\"1.0\" encoding=\"UTF-8\" standalone=\"no\"?><svg xmlns=\"http://www.w3.org/2000/svg\" xmlns:xlink=\"http://www.w3.org/1999/xlink\" contentStyleType=\"text/css\" height=\"10px\" preserveAspectRatio=\"none\" style=\"width:10px;height:10px;background:#FFFFFF;\" version=\"1.1\" viewBox=\"0 0 10 10\" width=\"10px\" zoomAndPan=\"magnify\"><defs/><g><!--MD5=[457d54036ad86991b1ebb71db2c9a3b1]\n",
       "@startuml\r\n",
       "skin sysmlbw\r\n",
       "skinparam monochrome true\r\n",
       "skinparam wrapWidth 300\r\n",
       "hide circle\r\n",
       "top to bottom direction\r\n",
       "\r\n",
       "@enduml\r\n",
       "\n",
       "PlantUML version 1.2022.7(Mon Aug 22 17:01:30 UTC 2022)\n",
       "(EPL source distribution)\n",
       "Java Runtime: OpenJDK Runtime Environment\n",
       "JVM: OpenJDK 64-Bit Server VM\n",
       "Default Encoding: UTF-8\n",
       "Language: en\n",
       "Country: null\n",
       "--></g></svg>"
      ]
     },
     "execution_count": 46,
     "metadata": {},
     "output_type": "execute_result"
    }
   ],
   "source": [
    "%viz --style=\"TB\" --view=\"State\" \"PrivateImportTest\""
   ]
  },
  {
   "cell_type": "code",
   "execution_count": 47,
   "id": "9a63486a",
   "metadata": {
    "execution": {
     "iopub.execute_input": "2024-12-16T14:17:06.008434Z",
     "iopub.status.busy": "2024-12-16T14:17:06.008153Z",
     "iopub.status.idle": "2024-12-16T14:17:06.028360Z",
     "shell.execute_reply": "2024-12-16T14:17:06.027457Z"
    }
   },
   "outputs": [
    {
     "data": {
      "image/svg+xml": [
       "<?xml version=\"1.0\" encoding=\"UTF-8\" standalone=\"no\"?><svg xmlns=\"http://www.w3.org/2000/svg\" xmlns:xlink=\"http://www.w3.org/1999/xlink\" contentStyleType=\"text/css\" height=\"573px\" preserveAspectRatio=\"none\" style=\"width:441px;height:573px;background:#FFFFFF;\" version=\"1.1\" viewBox=\"0 0 441 573\" width=\"441px\" zoomAndPan=\"magnify\"><defs/><g><!--MD5=[fbc87193dbaf4d95561dea2c320d4a47]\n",
       "cluster E1--><g id=\"cluster_E1\"><a href=\"psysml:11a30fa2-fbeb-4b2d-a071-2781e63d5a12\" target=\"_top\" title=\"psysml:11a30fa2-fbeb-4b2d-a071-2781e63d5a12\" xlink:actuate=\"onRequest\" xlink:href=\"psysml:11a30fa2-fbeb-4b2d-a071-2781e63d5a12\" xlink:show=\"new\" xlink:title=\"psysml:11a30fa2-fbeb-4b2d-a071-2781e63d5a12\" xlink:type=\"simple\"><polygon fill=\"none\" points=\"26.14,6,160.5775,6,167.5775,28.2969,424.14,28.2969,424.14,566,26.14,566,26.14,6\" style=\"stroke:#000000;stroke-width:1.5;\"/><line style=\"stroke:#000000;stroke-width:1.5;\" x1=\"26.14\" x2=\"167.5775\" y1=\"28.2969\" y2=\"28.2969\"/><text fill=\"#000000\" font-family=\"sans-serif\" font-size=\"14\" font-weight=\"bold\" lengthAdjust=\"spacing\" textLength=\"128.4375\" x=\"30.14\" y=\"20.9951\">PrivateImportTest</text></a></g><!--MD5=[e4f7fae6ed58524ba242bb0b0d3be6b7]\n",
       "cluster E2--><g id=\"cluster_E2\"><a href=\"psysml:29bb8ef7-a50f-48a8-b243-dfabeed2550d\" target=\"_top\" title=\"psysml:29bb8ef7-a50f-48a8-b243-dfabeed2550d\" xlink:actuate=\"onRequest\" xlink:href=\"psysml:29bb8ef7-a50f-48a8-b243-dfabeed2550d\" xlink:show=\"new\" xlink:title=\"psysml:29bb8ef7-a50f-48a8-b243-dfabeed2550d\" xlink:type=\"simple\"><polygon fill=\"none\" points=\"233.14,414,258.015,414,265.015,436.2969,375.14,436.2969,375.14,526,233.14,526,233.14,414\" style=\"stroke:#000000;stroke-width:1.5;\"/><line style=\"stroke:#000000;stroke-width:1.5;\" x1=\"233.14\" x2=\"265.015\" y1=\"436.2969\" y2=\"436.2969\"/><text fill=\"#000000\" font-family=\"sans-serif\" font-size=\"14\" font-weight=\"bold\" lengthAdjust=\"spacing\" textLength=\"18.875\" x=\"237.14\" y=\"428.9951\">P1</text></a></g><!--MD5=[14e3b0961a2654348d326746436168a1]\n",
       "cluster E6--><g id=\"cluster_E6\"><a href=\"psysml:3afe7580-df30-4ff0-95e6-ec63d3638055\" target=\"_top\" title=\"psysml:3afe7580-df30-4ff0-95e6-ec63d3638055\" xlink:actuate=\"onRequest\" xlink:href=\"psysml:3afe7580-df30-4ff0-95e6-ec63d3638055\" xlink:show=\"new\" xlink:title=\"psysml:3afe7580-df30-4ff0-95e6-ec63d3638055\" xlink:type=\"simple\"><polygon fill=\"none\" points=\"74.14,237,99.015,237,106.015,259.2969,216.14,259.2969,216.14,349,74.14,349,74.14,237\" style=\"stroke:#000000;stroke-width:1.5;\"/><line style=\"stroke:#000000;stroke-width:1.5;\" x1=\"74.14\" x2=\"106.015\" y1=\"259.2969\" y2=\"259.2969\"/><text fill=\"#000000\" font-family=\"sans-serif\" font-size=\"14\" font-weight=\"bold\" lengthAdjust=\"spacing\" textLength=\"18.875\" x=\"78.14\" y=\"251.9951\">P3</text></a></g><!--MD5=[7f149f147074ac12df2cb0a7728a5fb0]\n",
       "cluster E9--><g id=\"cluster_E9\"><a href=\"psysml:a1b56716-f996-4480-88b0-3733f2d7733c\" target=\"_top\" title=\"psysml:a1b56716-f996-4480-88b0-3733f2d7733c\" xlink:actuate=\"onRequest\" xlink:href=\"psysml:a1b56716-f996-4480-88b0-3733f2d7733c\" xlink:show=\"new\" xlink:title=\"psysml:a1b56716-f996-4480-88b0-3733f2d7733c\" xlink:type=\"simple\"><polygon fill=\"none\" points=\"267.14,65,292.015,65,299.015,87.2969,384.14,87.2969,384.14,172,267.14,172,267.14,65\" style=\"stroke:#000000;stroke-width:1.5;\"/><line style=\"stroke:#000000;stroke-width:1.5;\" x1=\"267.14\" x2=\"299.015\" y1=\"87.2969\" y2=\"87.2969\"/><text fill=\"#000000\" font-family=\"sans-serif\" font-size=\"14\" font-weight=\"bold\" lengthAdjust=\"spacing\" textLength=\"18.875\" x=\"271.14\" y=\"79.9951\">P4</text></a></g><g><a href=\"psysml:5dfb8e4e-b010-43d6-9ea6-8d8096aa0cbd\" target=\"_top\" title=\"psysml:5dfb8e4e-b010-43d6-9ea6-8d8096aa0cbd\" xlink:actuate=\"onRequest\" xlink:href=\"psysml:5dfb8e4e-b010-43d6-9ea6-8d8096aa0cbd\" xlink:show=\"new\" xlink:title=\"psysml:5dfb8e4e-b010-43d6-9ea6-8d8096aa0cbd\" xlink:type=\"simple\"><rect fill=\"#FFFFFF\" height=\"45.2656\" id=\"E3\" style=\"stroke:#383838;stroke-width:1.5;\" width=\"75\" x=\"276.64\" y=\"457\"/><text fill=\"#000000\" font-family=\"sans-serif\" font-size=\"12\" font-style=\"italic\" lengthAdjust=\"spacing\" textLength=\"68\" x=\"280.14\" y=\"473.1387\">«part  def»</text><text fill=\"#000000\" font-family=\"sans-serif\" font-size=\"14\" lengthAdjust=\"spacing\" textLength=\"9\" x=\"309.64\" y=\"488.9639\">A</text></a></g><a href=\"psysml:6d745f5d-a6bd-48d3-bb38-b4db6224b450\" target=\"_top\" title=\"psysml:6d745f5d-a6bd-48d3-bb38-b4db6224b450\" xlink:actuate=\"onRequest\" xlink:href=\"psysml:6d745f5d-a6bd-48d3-bb38-b4db6224b450\" xlink:show=\"new\" xlink:title=\"psysml:6d745f5d-a6bd-48d3-bb38-b4db6224b450\" xlink:type=\"simple\"><polygon fill=\"#FFFFFF\" points=\"240.14,276,264.14,276,271.14,298.2969,278.14,298.2969,278.14,328.5938,240.14,328.5938,240.14,276\" style=\"stroke:#181818;stroke-width:0.5;\"/><line style=\"stroke:#181818;stroke-width:0.5;\" x1=\"240.14\" x2=\"271.14\" y1=\"298.2969\" y2=\"298.2969\"/><text fill=\"#000000\" font-family=\"sans-serif\" font-size=\"14\" lengthAdjust=\"spacing\" textLength=\"18\" x=\"244.14\" y=\"290.9951\">P2</text></a><g><a href=\"psysml:fd0b961b-4bae-44e8-b09a-9c87fac280e3\" target=\"_top\" title=\"psysml:fd0b961b-4bae-44e8-b09a-9c87fac280e3\" xlink:actuate=\"onRequest\" xlink:href=\"psysml:fd0b961b-4bae-44e8-b09a-9c87fac280e3\" xlink:show=\"new\" xlink:title=\"psysml:fd0b961b-4bae-44e8-b09a-9c87fac280e3\" xlink:type=\"simple\"><rect fill=\"#FFFFFF\" height=\"40\" id=\"E5\" rx=\"10\" ry=\"10\" style=\"stroke:#383838;stroke-width:1.5;\" width=\"50\" x=\"350.14\" y=\"282.5\"/><text fill=\"#000000\" font-family=\"sans-serif\" font-size=\"14\" lengthAdjust=\"spacing\" textLength=\"25\" x=\"362.64\" y=\"300.4951\">x: A</text></a></g><g><a href=\"psysml:05031283-db67-47ce-b074-a753e1e8519b\" target=\"_top\" title=\"psysml:05031283-db67-47ce-b074-a753e1e8519b\" xlink:actuate=\"onRequest\" xlink:href=\"psysml:05031283-db67-47ce-b074-a753e1e8519b\" xlink:show=\"new\" xlink:title=\"psysml:05031283-db67-47ce-b074-a753e1e8519b\" xlink:type=\"simple\"><rect fill=\"#FFFFFF\" height=\"45.2656\" id=\"E7\" style=\"stroke:#383838;stroke-width:1.5;\" width=\"75\" x=\"117.64\" y=\"280\"/><text fill=\"#000000\" font-family=\"sans-serif\" font-size=\"12\" font-style=\"italic\" lengthAdjust=\"spacing\" textLength=\"68\" x=\"121.14\" y=\"296.1387\">«part  def»</text><text fill=\"#000000\" font-family=\"sans-serif\" font-size=\"14\" lengthAdjust=\"spacing\" textLength=\"10\" x=\"150.14\" y=\"311.9639\">B</text></a></g><g><a href=\"psysml:87e3ce51-5094-4f5d-8d11-feac4ad1e872\" target=\"_top\" title=\"psysml:87e3ce51-5094-4f5d-8d11-feac4ad1e872\" xlink:actuate=\"onRequest\" xlink:href=\"psysml:87e3ce51-5094-4f5d-8d11-feac4ad1e872\" xlink:show=\"new\" xlink:title=\"psysml:87e3ce51-5094-4f5d-8d11-feac4ad1e872\" xlink:type=\"simple\"><rect fill=\"#FFFFFF\" height=\"40\" id=\"E8\" rx=\"10\" ry=\"10\" style=\"stroke:#383838;stroke-width:1.5;\" width=\"50\" x=\"190.14\" y=\"108\"/><text fill=\"#000000\" font-family=\"sans-serif\" font-size=\"14\" lengthAdjust=\"spacing\" textLength=\"27\" x=\"201.64\" y=\"125.9951\">z: B</text></a></g><g><a href=\"psysml:630baa2a-121f-4da7-a3fd-6c76e707d010\" target=\"_top\" title=\"psysml:630baa2a-121f-4da7-a3fd-6c76e707d010\" xlink:actuate=\"onRequest\" xlink:href=\"psysml:630baa2a-121f-4da7-a3fd-6c76e707d010\" xlink:show=\"new\" xlink:title=\"psysml:630baa2a-121f-4da7-a3fd-6c76e707d010\" xlink:type=\"simple\"><rect fill=\"#FFFFFF\" height=\"40\" id=\"E10\" rx=\"10\" ry=\"10\" style=\"stroke:#383838;stroke-width:1.5;\" width=\"50\" x=\"310.14\" y=\"108\"/><text fill=\"#000000\" font-family=\"sans-serif\" font-size=\"14\" lengthAdjust=\"spacing\" textLength=\"35\" x=\"317.64\" y=\"125.9951\">z1: A</text></a></g><!--MD5=[185131fc0dcab0a4505a2ebe144e961b]\n",
       "link E4 to E2--><g id=\"link_E4_E2\"><a href=\"psysml:0487f209-9870-4837-a273-e80eaf0041e3\" target=\"_top\" title=\"psysml:0487f209-9870-4837-a273-e80eaf0041e3\" xlink:actuate=\"onRequest\" xlink:href=\"psysml:0487f209-9870-4837-a273-e80eaf0041e3\" xlink:show=\"new\" xlink:title=\"psysml:0487f209-9870-4837-a273-e80eaf0041e3\" xlink:type=\"simple\"><path d=\"M249.42,329.16 C245.02,342.1 240.33,358.16 238.14,373 C236.4525,384.42 235.7775,396.6088 235.7188,408.4963 C235.7114,409.9822 235.7137,411.4634 235.7248,412.9379 C235.7262,413.1222 235.7278,413.3064 235.7294,413.4904 \" fill=\"none\" id=\"E4-to-E2\" style=\"stroke:#181818;stroke-width:1.0;stroke-dasharray:7.0,7.0;\"/><polygon fill=\"#181818\" points=\"235.7294,413.4904,239.6477,404.4546,235.6841,408.4906,231.6481,404.527,235.7294,413.4904\" style=\"stroke:#181818;stroke-width:1.0;\"/><text fill=\"#000000\" font-family=\"sans-serif\" font-size=\"13\" lengthAdjust=\"spacing\" textLength=\"65\" x=\"239.14\" y=\"386.0669\">«import»*</text></a></g><!--MD5=[e9be52314489bd878ff4c7144b63c9e1]\n",
       "link E5 to E3--><g id=\"link_E5_E3\"><a href=\"psysml:fdb905ca-fd31-45b2-b41e-28dfb09dbd5e\" target=\"_top\" title=\"psysml:fdb905ca-fd31-45b2-b41e-28dfb09dbd5e\" xlink:actuate=\"onRequest\" xlink:href=\"psysml:fdb905ca-fd31-45b2-b41e-28dfb09dbd5e\" xlink:show=\"new\" xlink:title=\"psysml:fdb905ca-fd31-45b2-b41e-28dfb09dbd5e\" xlink:type=\"simple\"><path d=\"M368.5,322.56 C358.92,350.02 341.01,401.4 328.37,437.67 \" fill=\"none\" id=\"E5-to-E3\" style=\"stroke:#181818;stroke-width:1.0;\"/><polygon fill=\"#FFFFFF\" points=\"321.73,456.73,321.3764,436.4846,334.5958,441.0944,321.73,456.73\" style=\"stroke:#181818;stroke-width:1.0;\"/><ellipse cx=\"325.1418\" cy=\"431.761\" fill=\"#181818\" rx=\"2\" ry=\"2\" style=\"stroke:#181818;stroke-width:1.0;\"/><ellipse cx=\"334.5841\" cy=\"435.0537\" fill=\"#181818\" rx=\"2\" ry=\"2\" style=\"stroke:#181818;stroke-width:1.0;\"/></a></g><!--MD5=[ee384bb554873b72f85793eae40e290c]\n",
       "link E1 to E4--><g id=\"link_E1_E4\"><a href=\"psysml:60fcb482-826b-48b1-b5dc-27f8a317149a\" target=\"_top\" title=\"psysml:60fcb482-826b-48b1-b5dc-27f8a317149a\" xlink:actuate=\"onRequest\" xlink:href=\"psysml:60fcb482-826b-48b1-b5dc-27f8a317149a\" xlink:show=\"new\" xlink:title=\"psysml:60fcb482-826b-48b1-b5dc-27f8a317149a\" xlink:type=\"simple\"><path d=\"M34.11,129.12 C33.52,131.47 24.39,169.5 42.14,188 C49.17,195.33 77.17,194.08 87.14,196 C114.1,201.18 185.56,205.39 208.14,221 C225.8,233.21 238.67,253.73 247.06,271 \" fill=\"none\" id=\"E1-to-E4\" style=\"stroke:#181818;stroke-width:1.0;stroke-dasharray:7.0,7.0;\"/><polygon fill=\"#181818\" points=\"249.3,275.78,249.0916,265.9333,247.1731,271.2549,241.8515,269.3364,249.3,275.78\" style=\"stroke:#181818;stroke-width:1.0;\"/><text fill=\"#000000\" font-family=\"sans-serif\" font-size=\"13\" lengthAdjust=\"spacing\" textLength=\"65\" x=\"190.14\" y=\"209.0669\">«import»*</text></a></g><!--MD5=[ccbd3af71bf83df0ec2a2db62d6d7130]\n",
       "link E1 to E6--><g id=\"link_E1_E6\"><a href=\"psysml:37c9a4c7-80e6-494a-a65a-d8ec35cca65c\" target=\"_top\" title=\"psysml:37c9a4c7-80e6-494a-a65a-d8ec35cca65c\" xlink:actuate=\"onRequest\" xlink:href=\"psysml:37c9a4c7-80e6-494a-a65a-d8ec35cca65c\" xlink:show=\"new\" xlink:title=\"psysml:37c9a4c7-80e6-494a-a65a-d8ec35cca65c\" xlink:type=\"simple\"><path d=\"M26.0665,141.8795 C26.0141,141.9725 25.9616,142.066 25.909,142.1598 C25.8039,142.3474 25.6982,142.5367 25.5922,142.7275 C24.7438,144.2545 23.8687,145.8839 22.9851,147.6028 C21.218,151.0407 19.4169,154.8366 17.7275,158.8863 C10.97,175.085 6,195.345 12.14,213 C20.115,235.945 36.7875,257.425 51.8613,273.4762 C59.3981,281.5019 66.5353,288.1703 71.9858,292.9861 C72.6671,293.5881 73.322,294.1611 73.9481,294.7042 \" fill=\"none\" id=\"E1-to-E6\" style=\"stroke:#181818;stroke-width:1.0;stroke-dasharray:7.0,7.0;\"/><polygon fill=\"#181818\" points=\"73.9481,294.7042,69.7707,285.7852,70.1712,291.4278,64.5285,291.8283,73.9481,294.7042\" style=\"stroke:#181818;stroke-width:1.0;\"/><text fill=\"#000000\" font-family=\"sans-serif\" font-size=\"13\" lengthAdjust=\"spacing\" textLength=\"65\" x=\"13.14\" y=\"209.0669\">«import»*</text></a></g><!--MD5=[bfa3c8b0d15052fdf50ae9310b491027]\n",
       "link E8 to E7--><g id=\"link_E8_E7\"><a href=\"psysml:f605a3b7-992a-46f2-9cbf-567dae0e656e\" target=\"_top\" title=\"psysml:f605a3b7-992a-46f2-9cbf-567dae0e656e\" xlink:actuate=\"onRequest\" xlink:href=\"psysml:f605a3b7-992a-46f2-9cbf-567dae0e656e\" xlink:show=\"new\" xlink:title=\"psysml:f605a3b7-992a-46f2-9cbf-567dae0e656e\" xlink:type=\"simple\"><path d=\"M231.55,148.32 C245.13,166.74 259.86,194.37 244.14,213 C230.47,229.19 214.27,208.53 197.14,221 C183.73,230.76 174.25,246.09 167.74,260.76 \" fill=\"none\" id=\"E8-to-E7\" style=\"stroke:#181818;stroke-width:1.0;\"/><polygon fill=\"#FFFFFF\" points=\"160.6,279.79,160.7221,259.5419,173.8295,264.4609,160.6,279.79\" style=\"stroke:#181818;stroke-width:1.0;\"/><ellipse cx=\"164.5973\" cy=\"254.9081\" fill=\"#181818\" rx=\"2\" ry=\"2\" style=\"stroke:#181818;stroke-width:1.0;\"/><ellipse cx=\"173.9598\" cy=\"258.4216\" fill=\"#181818\" rx=\"2\" ry=\"2\" style=\"stroke:#181818;stroke-width:1.0;\"/></a></g><!--MD5=[c2be97adba6ddfe1c8f349fab141c927]\n",
       "link E9 to E4--><g id=\"link_E9_E4\"><a href=\"psysml:f74e7f7d-bc69-4c36-9a7b-616abfb119b1\" target=\"_top\" title=\"psysml:f74e7f7d-bc69-4c36-9a7b-616abfb119b1\" xlink:actuate=\"onRequest\" xlink:href=\"psysml:f74e7f7d-bc69-4c36-9a7b-616abfb119b1\" xlink:show=\"new\" xlink:title=\"psysml:f74e7f7d-bc69-4c36-9a7b-616abfb119b1\" xlink:type=\"simple\"><path d=\"M272.4084,172.0708 C272.378,172.4836 272.3474,172.8966 272.3166,173.3097 C272.1934,174.9624 272.0675,176.6169 271.939,178.2647 C271.682,181.5603 271.415,184.8288 271.14,188 C268.7,216.08 265.27,248 262.7,270.82 \" fill=\"none\" id=\"E9-to-E4\" style=\"stroke:#181818;stroke-width:1.0;stroke-dasharray:7.0,7.0;\"/><polygon fill=\"#181818\" points=\"262.13,275.83,267.1102,267.3331,262.6884,270.8613,259.1602,266.4396,262.13,275.83\" style=\"stroke:#181818;stroke-width:1.0;\"/><text fill=\"#000000\" font-family=\"sans-serif\" font-size=\"13\" lengthAdjust=\"spacing\" textLength=\"65\" x=\"271.14\" y=\"209.0669\">«import»*</text></a></g><!--MD5=[feeac5eb423634930294aa81f2d25a4c]\n",
       "link E10 to E3--><g id=\"link_E10_E3\"><a href=\"psysml:7688159c-03f6-437a-9242-bafcaad292a9\" target=\"_top\" title=\"psysml:7688159c-03f6-437a-9242-bafcaad292a9\" xlink:actuate=\"onRequest\" xlink:href=\"psysml:7688159c-03f6-437a-9242-bafcaad292a9\" xlink:show=\"new\" xlink:title=\"psysml:7688159c-03f6-437a-9242-bafcaad292a9\" xlink:type=\"simple\"><path d=\"M349.09,148.02 C360.78,166.48 373.34,194.37 358.14,213 C346.96,226.71 330.46,207.4 319.14,221 C305.75,237.09 309.28,367.45 312.13,436.28 \" fill=\"none\" id=\"E10-to-E3\" style=\"stroke:#181818;stroke-width:1.0;\"/><polygon fill=\"#FFFFFF\" points=\"313.03,456.62,305.1951,437.9488,319.1813,437.3285,313.03,456.62\" style=\"stroke:#181818;stroke-width:1.0;\"/><ellipse cx=\"306.9406\" cy=\"432.1658\" fill=\"#181818\" rx=\"2\" ry=\"2\" style=\"stroke:#181818;stroke-width:1.0;\"/><ellipse cx=\"316.9307\" cy=\"431.7227\" fill=\"#181818\" rx=\"2\" ry=\"2\" style=\"stroke:#181818;stroke-width:1.0;\"/></a></g><!--MD5=[360330bad0e0507867cddf64b70e90de]\n",
       "@startuml\r\n",
       "skin sysmlbw\r\n",
       "skinparam monochrome true\r\n",
       "skinparam wrapWidth 300\r\n",
       "hide circle\r\n",
       "top to bottom direction\r\n",
       "skinparam ranksep 10\r\n",
       "skinparam rectangle {\r\n",
       " backgroundColor<<block>> LightGreen\r\n",
       "}\r\n",
       "\r\n",
       "package \"PrivateImportTest\" as E1  [[psysml:11a30fa2-fbeb-4b2d-a071-2781e63d5a12 ]]  {\r\n",
       "package \"P1\" as E2  [[psysml:29bb8ef7-a50f-48a8-b243-dfabeed2550d ]]  {\r\n",
       "rec def \"A\" as E3  <<(T,blue) part  def>> [[psysml:5dfb8e4e-b010-43d6-9ea6-8d8096aa0cbd ]] {\r\n",
       "}\r\n",
       "}\r\n",
       "package \"P2\" as E4  [[psysml:6d745f5d-a6bd-48d3-bb38-b4db6224b450 ]]  {\r\n",
       "}\r\n",
       "rec usage \"x: A\" as E5 [[psysml:fd0b961b-4bae-44e8-b09a-9c87fac280e3 ]] {\r\n",
       "}\r\n",
       "package \"P3\" as E6  [[psysml:3afe7580-df30-4ff0-95e6-ec63d3638055 ]]  {\r\n",
       "rec def \"B\" as E7  <<(T,blue) part  def>> [[psysml:05031283-db67-47ce-b074-a753e1e8519b ]] {\r\n",
       "}\r\n",
       "}\r\n",
       "rec usage \"z: B\" as E8 [[psysml:87e3ce51-5094-4f5d-8d11-feac4ad1e872 ]] {\r\n",
       "}\r\n",
       "package \"P4\" as E9  [[psysml:a1b56716-f996-4480-88b0-3733f2d7733c ]]  {\r\n",
       "rec usage \"z1: A\" as E10 [[psysml:630baa2a-121f-4da7-a3fd-6c76e707d010 ]] {\r\n",
       "}\r\n",
       "}\r\n",
       "}\r\n",
       "E4 ..> E2 [[psysml:0487f209-9870-4837-a273-e80eaf0041e3 ]] : <<import>>*\r\n",
       "E5 - -:|> E3 [[psysml:fdb905ca-fd31-45b2-b41e-28dfb09dbd5e ]] \r\n",
       "E1 ..> E4 [[psysml:60fcb482-826b-48b1-b5dc-27f8a317149a ]] : <<import>>*\r\n",
       "E1 ..> E6 [[psysml:37c9a4c7-80e6-494a-a65a-d8ec35cca65c ]] : <<import>>*\r\n",
       "E8 - -:|> E7 [[psysml:f605a3b7-992a-46f2-9cbf-567dae0e656e ]] \r\n",
       "E9 ..> E4 [[psysml:f74e7f7d-bc69-4c36-9a7b-616abfb119b1 ]] : <<import>>*\r\n",
       "E10 - -:|> E3 [[psysml:7688159c-03f6-437a-9242-bafcaad292a9 ]] \r\n",
       "@enduml\r\n",
       "\n",
       "PlantUML version 1.2022.7(Mon Aug 22 17:01:30 UTC 2022)\n",
       "(EPL source distribution)\n",
       "Java Runtime: OpenJDK Runtime Environment\n",
       "JVM: OpenJDK 64-Bit Server VM\n",
       "Default Encoding: UTF-8\n",
       "Language: en\n",
       "Country: null\n",
       "--></g></svg>"
      ]
     },
     "execution_count": 47,
     "metadata": {},
     "output_type": "execute_result"
    }
   ],
   "source": [
    "%viz --style=\"TB\" --view=\"Interconnection\" \"PrivateImportTest\""
   ]
  },
  {
   "cell_type": "code",
   "execution_count": 48,
   "id": "63b164a3",
   "metadata": {
    "execution": {
     "iopub.execute_input": "2024-12-16T14:17:06.080141Z",
     "iopub.status.busy": "2024-12-16T14:17:06.079828Z",
     "iopub.status.idle": "2024-12-16T14:17:06.085804Z",
     "shell.execute_reply": "2024-12-16T14:17:06.085614Z"
    }
   },
   "outputs": [
    {
     "data": {
      "image/svg+xml": [
       "<?xml version=\"1.0\" encoding=\"UTF-8\" standalone=\"no\"?><svg xmlns=\"http://www.w3.org/2000/svg\" xmlns:xlink=\"http://www.w3.org/1999/xlink\" contentStyleType=\"text/css\" height=\"10px\" preserveAspectRatio=\"none\" style=\"width:10px;height:10px;background:#FFFFFF;\" version=\"1.1\" viewBox=\"0 0 10 10\" width=\"10px\" zoomAndPan=\"magnify\"><defs/><g><!--MD5=[c8dde5d066d102a500cd081cce1d9948]\n",
       "@startuml\r\n",
       "skin sysmlbw\r\n",
       "skinparam monochrome true\r\n",
       "skinparam wrapWidth 300\r\n",
       "hide circle\r\n",
       "top to bottom direction\r\n",
       "skinparam ranksep 8\r\n",
       "\r\n",
       "@enduml\r\n",
       "\n",
       "PlantUML version 1.2022.7(Mon Aug 22 17:01:30 UTC 2022)\n",
       "(EPL source distribution)\n",
       "Java Runtime: OpenJDK Runtime Environment\n",
       "JVM: OpenJDK 64-Bit Server VM\n",
       "Default Encoding: UTF-8\n",
       "Language: en\n",
       "Country: null\n",
       "--></g></svg>"
      ]
     },
     "execution_count": 48,
     "metadata": {},
     "output_type": "execute_result"
    }
   ],
   "source": [
    "%viz --style=\"TB\" --view=\"Action\" \"PrivateImportTest\""
   ]
  },
  {
   "cell_type": "code",
   "execution_count": 49,
   "id": "dd3dfda8",
   "metadata": {
    "execution": {
     "iopub.execute_input": "2024-12-16T14:17:06.141679Z",
     "iopub.status.busy": "2024-12-16T14:17:06.141470Z",
     "iopub.status.idle": "2024-12-16T14:17:06.147903Z",
     "shell.execute_reply": "2024-12-16T14:17:06.147667Z"
    }
   },
   "outputs": [
    {
     "data": {
      "image/svg+xml": [
       "<?xml version=\"1.0\" encoding=\"UTF-8\" standalone=\"no\"?><svg xmlns=\"http://www.w3.org/2000/svg\" xmlns:xlink=\"http://www.w3.org/1999/xlink\" contentStyleType=\"text/css\" height=\"10px\" preserveAspectRatio=\"none\" style=\"width:10px;height:10px;background:#FFFFFF;\" version=\"1.1\" viewBox=\"0 0 10 10\" width=\"10px\" zoomAndPan=\"magnify\"><defs/><g><!--MD5=[228a58293b408a2cee091b1559da5a28]\n",
       "@startuml\r\n",
       "skin sysmlbw\r\n",
       "skinparam monochrome true\r\n",
       "skinparam wrapWidth 300\r\n",
       "hide circle\r\n",
       "top to bottom direction\r\n",
       "skinparam roundcorner 20\r\n",
       "skinparam BoxPadding 20\r\n",
       "skinparam SequenceBoxBackgroundColor #white\r\n",
       "skinparam style strictuml\r\n",
       "skinparam maxMessageSize 100\r\n",
       "\r\n",
       "@enduml\r\n",
       "\n",
       "PlantUML version 1.2022.7(Mon Aug 22 17:01:30 UTC 2022)\n",
       "(EPL source distribution)\n",
       "Java Runtime: OpenJDK Runtime Environment\n",
       "JVM: OpenJDK 64-Bit Server VM\n",
       "Default Encoding: UTF-8\n",
       "Language: en\n",
       "Country: null\n",
       "--></g></svg>"
      ]
     },
     "execution_count": 49,
     "metadata": {},
     "output_type": "execute_result"
    }
   ],
   "source": [
    "%viz --style=\"TB\" --view=\"Sequence\" \"PrivateImportTest\""
   ]
  },
  {
   "cell_type": "code",
   "execution_count": 50,
   "id": "a8099ac7",
   "metadata": {
    "execution": {
     "iopub.execute_input": "2024-12-16T14:17:06.200932Z",
     "iopub.status.busy": "2024-12-16T14:17:06.200645Z",
     "iopub.status.idle": "2024-12-16T14:17:06.220913Z",
     "shell.execute_reply": "2024-12-16T14:17:06.219916Z"
    }
   },
   "outputs": [
    {
     "data": {
      "image/svg+xml": [
       "<?xml version=\"1.0\" encoding=\"UTF-8\" standalone=\"no\"?><svg xmlns=\"http://www.w3.org/2000/svg\" xmlns:xlink=\"http://www.w3.org/1999/xlink\" contentStyleType=\"text/css\" height=\"587px\" preserveAspectRatio=\"none\" style=\"width:428px;height:587px;background:#FFFFFF;\" version=\"1.1\" viewBox=\"0 0 428 587\" width=\"428px\" zoomAndPan=\"magnify\"><defs/><g><!--MD5=[fbc87193dbaf4d95561dea2c320d4a47]\n",
       "cluster E1--><g id=\"cluster_E1\"><a href=\"psysml:11a30fa2-fbeb-4b2d-a071-2781e63d5a12\" target=\"_top\" title=\"psysml:11a30fa2-fbeb-4b2d-a071-2781e63d5a12\" xlink:actuate=\"onRequest\" xlink:href=\"psysml:11a30fa2-fbeb-4b2d-a071-2781e63d5a12\" xlink:show=\"new\" xlink:title=\"psysml:11a30fa2-fbeb-4b2d-a071-2781e63d5a12\" xlink:type=\"simple\"><polygon fill=\"none\" points=\"26.335,6,160.7725,6,167.7725,28.2969,411.335,28.2969,411.335,580,26.335,580,26.335,6\" style=\"stroke:#000000;stroke-width:1.5;\"/><line style=\"stroke:#000000;stroke-width:1.5;\" x1=\"26.335\" x2=\"167.7725\" y1=\"28.2969\" y2=\"28.2969\"/><text fill=\"#000000\" font-family=\"sans-serif\" font-size=\"14\" font-weight=\"bold\" lengthAdjust=\"spacing\" textLength=\"128.4375\" x=\"30.335\" y=\"20.9951\">PrivateImportTest</text></a></g><!--MD5=[e4f7fae6ed58524ba242bb0b0d3be6b7]\n",
       "cluster E2--><g id=\"cluster_E2\"><a href=\"psysml:29bb8ef7-a50f-48a8-b243-dfabeed2550d\" target=\"_top\" title=\"psysml:29bb8ef7-a50f-48a8-b243-dfabeed2550d\" xlink:actuate=\"onRequest\" xlink:href=\"psysml:29bb8ef7-a50f-48a8-b243-dfabeed2550d\" xlink:show=\"new\" xlink:title=\"psysml:29bb8ef7-a50f-48a8-b243-dfabeed2550d\" xlink:type=\"simple\"><polygon fill=\"none\" points=\"231.335,425,256.21,425,263.21,447.2969,368.335,447.2969,368.335,540,231.335,540,231.335,425\" style=\"stroke:#000000;stroke-width:1.5;\"/><line style=\"stroke:#000000;stroke-width:1.5;\" x1=\"231.335\" x2=\"263.21\" y1=\"447.2969\" y2=\"447.2969\"/><text fill=\"#000000\" font-family=\"sans-serif\" font-size=\"14\" font-weight=\"bold\" lengthAdjust=\"spacing\" textLength=\"18.875\" x=\"235.335\" y=\"439.9951\">P1</text></a></g><!--MD5=[14e3b0961a2654348d326746436168a1]\n",
       "cluster E6--><g id=\"cluster_E6\"><a href=\"psysml:3afe7580-df30-4ff0-95e6-ec63d3638055\" target=\"_top\" title=\"psysml:3afe7580-df30-4ff0-95e6-ec63d3638055\" xlink:actuate=\"onRequest\" xlink:href=\"psysml:3afe7580-df30-4ff0-95e6-ec63d3638055\" xlink:show=\"new\" xlink:title=\"psysml:3afe7580-df30-4ff0-95e6-ec63d3638055\" xlink:type=\"simple\"><polygon fill=\"none\" points=\"74.335,245,99.21,245,106.21,267.2969,211.335,267.2969,211.335,360,74.335,360,74.335,245\" style=\"stroke:#000000;stroke-width:1.5;\"/><line style=\"stroke:#000000;stroke-width:1.5;\" x1=\"74.335\" x2=\"106.21\" y1=\"267.2969\" y2=\"267.2969\"/><text fill=\"#000000\" font-family=\"sans-serif\" font-size=\"14\" font-weight=\"bold\" lengthAdjust=\"spacing\" textLength=\"18.875\" x=\"78.335\" y=\"259.9951\">P3</text></a></g><!--MD5=[7f149f147074ac12df2cb0a7728a5fb0]\n",
       "cluster E9--><g id=\"cluster_E9\"><a href=\"psysml:a1b56716-f996-4480-88b0-3733f2d7733c\" target=\"_top\" title=\"psysml:a1b56716-f996-4480-88b0-3733f2d7733c\" xlink:actuate=\"onRequest\" xlink:href=\"psysml:a1b56716-f996-4480-88b0-3733f2d7733c\" xlink:show=\"new\" xlink:title=\"psysml:a1b56716-f996-4480-88b0-3733f2d7733c\" xlink:type=\"simple\"><polygon fill=\"none\" points=\"254.335,65,279.21,65,286.21,87.2969,371.335,87.2969,371.335,180,254.335,180,254.335,65\" style=\"stroke:#000000;stroke-width:1.5;\"/><line style=\"stroke:#000000;stroke-width:1.5;\" x1=\"254.335\" x2=\"286.21\" y1=\"87.2969\" y2=\"87.2969\"/><text fill=\"#000000\" font-family=\"sans-serif\" font-size=\"14\" font-weight=\"bold\" lengthAdjust=\"spacing\" textLength=\"18.875\" x=\"258.335\" y=\"79.9951\">P4</text></a></g><!--MD5=[270fce915f116d4de14055a7c1d9a0f3]\n",
       "class E5--><a href=\"psysml:fd0b961b-4bae-44e8-b09a-9c87fac280e3\" target=\"_top\" title=\"psysml:fd0b961b-4bae-44e8-b09a-9c87fac280e3\" xlink:actuate=\"onRequest\" xlink:href=\"psysml:fd0b961b-4bae-44e8-b09a-9c87fac280e3\" xlink:show=\"new\" xlink:title=\"psysml:fd0b961b-4bae-44e8-b09a-9c87fac280e3\" xlink:type=\"simple\"><g id=\"elem_E5\"><rect fill=\"#FFFFFF\" height=\"48.2656\" id=\"E5\" rx=\"10\" ry=\"10\" style=\"stroke:#181818;stroke-width:0.5;\" width=\"42\" x=\"345.335\" y=\"288\"/><text fill=\"#000000\" font-family=\"sans-serif\" font-size=\"12\" font-style=\"italic\" lengthAdjust=\"spacing\" textLength=\"40\" x=\"346.335\" y=\"304.1387\">«part»</text><text fill=\"#000000\" font-family=\"sans-serif\" font-size=\"14\" lengthAdjust=\"spacing\" textLength=\"25\" x=\"349.835\" y=\"319.9639\">x: A</text><line style=\"stroke:#181818;stroke-width:0.5;\" x1=\"346.335\" x2=\"386.335\" y1=\"328.2656\" y2=\"328.2656\"/></g></a><!--MD5=[b9389687b975829384b498ac4b7476b2]\n",
       "class E8--><a href=\"psysml:87e3ce51-5094-4f5d-8d11-feac4ad1e872\" target=\"_top\" title=\"psysml:87e3ce51-5094-4f5d-8d11-feac4ad1e872\" xlink:actuate=\"onRequest\" xlink:href=\"psysml:87e3ce51-5094-4f5d-8d11-feac4ad1e872\" xlink:show=\"new\" xlink:title=\"psysml:87e3ce51-5094-4f5d-8d11-feac4ad1e872\" xlink:type=\"simple\"><g id=\"elem_E8\"><rect fill=\"#FFFFFF\" height=\"48.2656\" id=\"E8\" rx=\"10\" ry=\"10\" style=\"stroke:#181818;stroke-width:0.5;\" width=\"42\" x=\"185.335\" y=\"108\"/><text fill=\"#000000\" font-family=\"sans-serif\" font-size=\"12\" font-style=\"italic\" lengthAdjust=\"spacing\" textLength=\"40\" x=\"186.335\" y=\"124.1387\">«part»</text><text fill=\"#000000\" font-family=\"sans-serif\" font-size=\"14\" lengthAdjust=\"spacing\" textLength=\"27\" x=\"188.835\" y=\"139.9639\">z: B</text><line style=\"stroke:#181818;stroke-width:0.5;\" x1=\"186.335\" x2=\"226.335\" y1=\"148.2656\" y2=\"148.2656\"/></g></a><!--MD5=[09b614a08d8cba4a07c9adeb5e0fee81]\n",
       "class E3--><a href=\"psysml:5dfb8e4e-b010-43d6-9ea6-8d8096aa0cbd\" target=\"_top\" title=\"psysml:5dfb8e4e-b010-43d6-9ea6-8d8096aa0cbd\" xlink:actuate=\"onRequest\" xlink:href=\"psysml:5dfb8e4e-b010-43d6-9ea6-8d8096aa0cbd\" xlink:show=\"new\" xlink:title=\"psysml:5dfb8e4e-b010-43d6-9ea6-8d8096aa0cbd\" xlink:type=\"simple\"><g id=\"elem_E3\"><rect fill=\"#FFFFFF\" height=\"48.2656\" id=\"E3\" style=\"stroke:#181818;stroke-width:0.5;\" width=\"70\" x=\"274.335\" y=\"468\"/><text fill=\"#000000\" font-family=\"sans-serif\" font-size=\"12\" font-style=\"italic\" lengthAdjust=\"spacing\" textLength=\"68\" x=\"275.335\" y=\"484.1387\">«part  def»</text><text fill=\"#000000\" font-family=\"sans-serif\" font-size=\"14\" lengthAdjust=\"spacing\" textLength=\"9\" x=\"304.835\" y=\"499.9639\">A</text><line style=\"stroke:#181818;stroke-width:0.5;\" x1=\"275.335\" x2=\"343.335\" y1=\"508.2656\" y2=\"508.2656\"/></g></a><a href=\"psysml:6d745f5d-a6bd-48d3-bb38-b4db6224b450\" target=\"_top\" title=\"psysml:6d745f5d-a6bd-48d3-bb38-b4db6224b450\" xlink:actuate=\"onRequest\" xlink:href=\"psysml:6d745f5d-a6bd-48d3-bb38-b4db6224b450\" xlink:show=\"new\" xlink:title=\"psysml:6d745f5d-a6bd-48d3-bb38-b4db6224b450\" xlink:type=\"simple\"><polygon fill=\"#FFFFFF\" points=\"235.335,285.5,259.335,285.5,266.335,307.7969,273.335,307.7969,273.335,338.0938,235.335,338.0938,235.335,285.5\" style=\"stroke:#181818;stroke-width:0.5;\"/><line style=\"stroke:#181818;stroke-width:0.5;\" x1=\"235.335\" x2=\"266.335\" y1=\"307.7969\" y2=\"307.7969\"/><text fill=\"#000000\" font-family=\"sans-serif\" font-size=\"14\" lengthAdjust=\"spacing\" textLength=\"18\" x=\"239.335\" y=\"300.4951\">P2</text></a><!--MD5=[2156ba9850f5573cc1fc38a6a4b2f02b]\n",
       "class E7--><a href=\"psysml:05031283-db67-47ce-b074-a753e1e8519b\" target=\"_top\" title=\"psysml:05031283-db67-47ce-b074-a753e1e8519b\" xlink:actuate=\"onRequest\" xlink:href=\"psysml:05031283-db67-47ce-b074-a753e1e8519b\" xlink:show=\"new\" xlink:title=\"psysml:05031283-db67-47ce-b074-a753e1e8519b\" xlink:type=\"simple\"><g id=\"elem_E7\"><rect fill=\"#FFFFFF\" height=\"48.2656\" id=\"E7\" style=\"stroke:#181818;stroke-width:0.5;\" width=\"70\" x=\"117.335\" y=\"288\"/><text fill=\"#000000\" font-family=\"sans-serif\" font-size=\"12\" font-style=\"italic\" lengthAdjust=\"spacing\" textLength=\"68\" x=\"118.335\" y=\"304.1387\">«part  def»</text><text fill=\"#000000\" font-family=\"sans-serif\" font-size=\"14\" lengthAdjust=\"spacing\" textLength=\"10\" x=\"147.335\" y=\"319.9639\">B</text><line style=\"stroke:#181818;stroke-width:0.5;\" x1=\"118.335\" x2=\"186.335\" y1=\"328.2656\" y2=\"328.2656\"/></g></a><!--MD5=[96f4274e9e20536e775497830990834d]\n",
       "class E10--><a href=\"psysml:630baa2a-121f-4da7-a3fd-6c76e707d010\" target=\"_top\" title=\"psysml:630baa2a-121f-4da7-a3fd-6c76e707d010\" xlink:actuate=\"onRequest\" xlink:href=\"psysml:630baa2a-121f-4da7-a3fd-6c76e707d010\" xlink:show=\"new\" xlink:title=\"psysml:630baa2a-121f-4da7-a3fd-6c76e707d010\" xlink:type=\"simple\"><g id=\"elem_E10\"><rect fill=\"#FFFFFF\" height=\"48.2656\" id=\"E10\" rx=\"10\" ry=\"10\" style=\"stroke:#181818;stroke-width:0.5;\" width=\"49\" x=\"297.835\" y=\"108\"/><text fill=\"#000000\" font-family=\"sans-serif\" font-size=\"12\" font-style=\"italic\" lengthAdjust=\"spacing\" textLength=\"40\" x=\"302.335\" y=\"124.1387\">«part»</text><text fill=\"#000000\" font-family=\"sans-serif\" font-size=\"14\" lengthAdjust=\"spacing\" textLength=\"35\" x=\"300.835\" y=\"139.9639\">z1: A</text><line style=\"stroke:#181818;stroke-width:0.5;\" x1=\"298.835\" x2=\"345.835\" y1=\"148.2656\" y2=\"148.2656\"/></g></a><!--MD5=[185131fc0dcab0a4505a2ebe144e961b]\n",
       "link E4 to E2--><g id=\"link_E4_E2\"><a href=\"psysml:0487f209-9870-4837-a273-e80eaf0041e3\" target=\"_top\" title=\"psysml:0487f209-9870-4837-a273-e80eaf0041e3\" xlink:actuate=\"onRequest\" xlink:href=\"psysml:0487f209-9870-4837-a273-e80eaf0041e3\" xlink:show=\"new\" xlink:title=\"psysml:0487f209-9870-4837-a273-e80eaf0041e3\" xlink:type=\"simple\"><path d=\"M244.835,338.57 C240.375,351.9 235.565,368.61 233.335,384 C231.655,395.6 231.165,407.9706 231.3811,420.0302 C231.4081,421.5376 231.4461,423.0402 231.4943,424.5358 \" fill=\"none\" id=\"E4-to-E2\" style=\"stroke:#181818;stroke-width:1.0;stroke-dasharray:7.0,7.0;\"/><polygon fill=\"#181818\" points=\"231.4943,424.5358,235.2027,415.4118,231.3335,419.5384,227.2069,415.6691,231.4943,424.5358\" style=\"stroke:#181818;stroke-width:1.0;\"/><text fill=\"#000000\" font-family=\"sans-serif\" font-size=\"13\" lengthAdjust=\"spacing\" textLength=\"65\" x=\"234.335\" y=\"397.0669\">«import»*</text></a></g><!--MD5=[e9be52314489bd878ff4c7144b63c9e1]\n",
       "link E5 to E3--><g id=\"link_E5_E3\"><a href=\"psysml:fdb905ca-fd31-45b2-b41e-28dfb09dbd5e\" target=\"_top\" title=\"psysml:fdb905ca-fd31-45b2-b41e-28dfb09dbd5e\" xlink:actuate=\"onRequest\" xlink:href=\"psysml:fdb905ca-fd31-45b2-b41e-28dfb09dbd5e\" xlink:show=\"new\" xlink:title=\"psysml:fdb905ca-fd31-45b2-b41e-28dfb09dbd5e\" xlink:type=\"simple\"><path d=\"M358.885,336.27 C349.795,364.65 334.255,413.19 322.995,448.34 \" fill=\"none\" id=\"E5-to-E3\" style=\"stroke:#181818;stroke-width:1.0;\"/><polygon fill=\"#FFFFFF\" points=\"316.785,467.72,315.9148,447.4902,329.2475,451.7611,316.785,467.72\" style=\"stroke:#181818;stroke-width:1.0;\"/><ellipse cx=\"319.5583\" cy=\"442.6721\" fill=\"#181818\" rx=\"2\" ry=\"2\" style=\"stroke:#181818;stroke-width:1.0;\"/><ellipse cx=\"329.0817\" cy=\"445.7227\" fill=\"#181818\" rx=\"2\" ry=\"2\" style=\"stroke:#181818;stroke-width:1.0;\"/></a></g><!--MD5=[ee384bb554873b72f85793eae40e290c]\n",
       "link E1 to E4--><g id=\"link_E1_E4\"><a href=\"psysml:60fcb482-826b-48b1-b5dc-27f8a317149a\" target=\"_top\" title=\"psysml:60fcb482-826b-48b1-b5dc-27f8a317149a\" xlink:actuate=\"onRequest\" xlink:href=\"psysml:60fcb482-826b-48b1-b5dc-27f8a317149a\" xlink:show=\"new\" xlink:title=\"psysml:60fcb482-826b-48b1-b5dc-27f8a317149a\" xlink:type=\"simple\"><path d=\"M34.305,133.12 C33.645,135.64 23.485,176.19 42.335,196 C49.335,203.36 77.365,202.04 87.335,204 C100.275,206.54 192.555,221.41 203.335,229 C221.255,241.61 234.175,262.72 242.525,280.37 \" fill=\"none\" id=\"E1-to-E4\" style=\"stroke:#181818;stroke-width:1.0;stroke-dasharray:7.0,7.0;\"/><polygon fill=\"#181818\" points=\"244.755,285.24,244.6606,275.3916,242.6806,280.6906,237.3816,278.7106,244.755,285.24\" style=\"stroke:#181818;stroke-width:1.0;\"/><text fill=\"#000000\" font-family=\"sans-serif\" font-size=\"13\" lengthAdjust=\"spacing\" textLength=\"65\" x=\"176.335\" y=\"217.0669\">«import»*</text></a></g><!--MD5=[ccbd3af71bf83df0ec2a2db62d6d7130]\n",
       "link E1 to E6--><g id=\"link_E1_E6\"><a href=\"psysml:37c9a4c7-80e6-494a-a65a-d8ec35cca65c\" target=\"_top\" title=\"psysml:37c9a4c7-80e6-494a-a65a-d8ec35cca65c\" xlink:actuate=\"onRequest\" xlink:href=\"psysml:37c9a4c7-80e6-494a-a65a-d8ec35cca65c\" xlink:show=\"new\" xlink:title=\"psysml:37c9a4c7-80e6-494a-a65a-d8ec35cca65c\" xlink:type=\"simple\"><path d=\"M26.3325,146.2131 C26.1219,146.5997 25.9095,146.9932 25.6953,147.3934 C24.8388,148.9944 23.9555,150.7026 23.0641,152.5046 C21.2813,156.1085 19.4656,160.0872 17.765,164.3313 C10.9625,181.3075 6,202.53 12.335,221 C20.3,244.215 36.9725,266.0575 52.0488,282.41 C59.5869,290.5862 66.7259,297.39 72.178,302.3066 C72.8595,302.9211 73.5146,303.5062 74.1409,304.0608 \" fill=\"none\" id=\"E1-to-E6\" style=\"stroke:#181818;stroke-width:1.0;stroke-dasharray:7.0,7.0;\"/><polygon fill=\"#181818\" points=\"74.1409,304.0608,70.0549,295.0995,70.3976,300.746,64.7512,301.0887,74.1409,304.0608\" style=\"stroke:#181818;stroke-width:1.0;\"/><text fill=\"#000000\" font-family=\"sans-serif\" font-size=\"13\" lengthAdjust=\"spacing\" textLength=\"65\" x=\"13.335\" y=\"217.0669\">«import»*</text></a></g><!--MD5=[bfa3c8b0d15052fdf50ae9310b491027]\n",
       "link E8 to E7--><g id=\"link_E8_E7\"><a href=\"psysml:f605a3b7-992a-46f2-9cbf-567dae0e656e\" target=\"_top\" title=\"psysml:f605a3b7-992a-46f2-9cbf-567dae0e656e\" xlink:actuate=\"onRequest\" xlink:href=\"psysml:f605a3b7-992a-46f2-9cbf-567dae0e656e\" xlink:show=\"new\" xlink:title=\"psysml:f605a3b7-992a-46f2-9cbf-567dae0e656e\" xlink:type=\"simple\"><path d=\"M221.755,156.17 C235.785,178.66 253.075,210.85 244.335,221 C228.795,239.06 210.465,214.81 191.335,229 C178.275,238.69 169.415,253.88 163.485,268.56 \" fill=\"none\" id=\"E8-to-E7\" style=\"stroke:#181818;stroke-width:1.0;\"/><polygon fill=\"#FFFFFF\" points=\"157.085,287.71,156.4571,267.4713,169.7377,271.9015,157.085,287.71\" style=\"stroke:#181818;stroke-width:1.0;\"/><ellipse cx=\"160.1581\" cy=\"262.6971\" fill=\"#181818\" rx=\"2\" ry=\"2\" style=\"stroke:#181818;stroke-width:1.0;\"/><ellipse cx=\"169.6442\" cy=\"265.8615\" fill=\"#181818\" rx=\"2\" ry=\"2\" style=\"stroke:#181818;stroke-width:1.0;\"/></a></g><!--MD5=[c2be97adba6ddfe1c8f349fab141c927]\n",
       "link E9 to E4--><g id=\"link_E9_E4\"><a href=\"psysml:f74e7f7d-bc69-4c36-9a7b-616abfb119b1\" target=\"_top\" title=\"psysml:f74e7f7d-bc69-4c36-9a7b-616abfb119b1\" xlink:actuate=\"onRequest\" xlink:href=\"psysml:f74e7f7d-bc69-4c36-9a7b-616abfb119b1\" xlink:show=\"new\" xlink:title=\"psysml:f74e7f7d-bc69-4c36-9a7b-616abfb119b1\" xlink:type=\"simple\"><path d=\"M260.2025,180.4864 C260.1924,180.7107 260.1823,180.9354 260.1722,181.1606 C260.1318,182.0612 260.091,182.969 260.0499,183.8833 C259.9677,185.7121 259.8844,187.5673 259.8,189.445 C258.45,219.4875 256.84,255.27 255.715,280.2 \" fill=\"none\" id=\"E9-to-E4\" style=\"stroke:#181818;stroke-width:1.0;stroke-dasharray:7.0,7.0;\"/><polygon fill=\"#181818\" points=\"255.485,285.47,259.8918,276.6621,255.7133,280.4752,251.9002,276.2967,255.485,285.47\" style=\"stroke:#181818;stroke-width:1.0;\"/><text fill=\"#000000\" font-family=\"sans-serif\" font-size=\"13\" lengthAdjust=\"spacing\" textLength=\"65\" x=\"259.335\" y=\"217.0669\">«import»*</text></a></g><!--MD5=[feeac5eb423634930294aa81f2d25a4c]\n",
       "link E10 to E3--><g id=\"link_E10_E3\"><a href=\"psysml:7688159c-03f6-437a-9242-bafcaad292a9\" target=\"_top\" title=\"psysml:7688159c-03f6-437a-9242-bafcaad292a9\" xlink:actuate=\"onRequest\" xlink:href=\"psysml:7688159c-03f6-437a-9242-bafcaad292a9\" xlink:show=\"new\" xlink:title=\"psysml:7688159c-03f6-437a-9242-bafcaad292a9\" xlink:type=\"simple\"><path d=\"M344.205,156.37 C359.315,175.4 374.095,202.12 358.335,221 C345.595,236.26 327.215,213.86 314.335,229 C300.565,245.18 304.225,377.23 307.215,447.45 \" fill=\"none\" id=\"E10-to-E3\" style=\"stroke:#181818;stroke-width:1.0;\"/><polygon fill=\"#FFFFFF\" points=\"308.135,467.85,300.2734,449.19,314.2588,448.5498,308.135,467.85\" style=\"stroke:#181818;stroke-width:1.0;\"/><ellipse cx=\"302.0107\" cy=\"443.4045\" fill=\"#181818\" rx=\"2\" ry=\"2\" style=\"stroke:#181818;stroke-width:1.0;\"/><ellipse cx=\"312.0002\" cy=\"442.9472\" fill=\"#181818\" rx=\"2\" ry=\"2\" style=\"stroke:#181818;stroke-width:1.0;\"/></a></g><!--MD5=[fd1010292455a92903f29bfd3ae7f8ac]\n",
       "@startuml\r\n",
       "skin sysmlbw\r\n",
       "skinparam monochrome true\r\n",
       "skinparam wrapWidth 300\r\n",
       "hide circle\r\n",
       "top to bottom direction\r\n",
       "\r\n",
       "package \"PrivateImportTest\" as E1  [[psysml:11a30fa2-fbeb-4b2d-a071-2781e63d5a12 ]]  {\r\n",
       "package \"P1\" as E2  [[psysml:29bb8ef7-a50f-48a8-b243-dfabeed2550d ]]  {\r\n",
       "comp def \"A\" as E3  <<(T,blue) part  def>> [[psysml:5dfb8e4e-b010-43d6-9ea6-8d8096aa0cbd ]] {\r\n",
       "}\r\n",
       "}\r\n",
       "package \"P2\" as E4  [[psysml:6d745f5d-a6bd-48d3-bb38-b4db6224b450 ]]  {\r\n",
       "}\r\n",
       "comp usage \"x: A  \" as E5  <<(T,blue) part>> [[psysml:fd0b961b-4bae-44e8-b09a-9c87fac280e3 ]] {\r\n",
       "}\r\n",
       "package \"P3\" as E6  [[psysml:3afe7580-df30-4ff0-95e6-ec63d3638055 ]]  {\r\n",
       "comp def \"B\" as E7  <<(T,blue) part  def>> [[psysml:05031283-db67-47ce-b074-a753e1e8519b ]] {\r\n",
       "}\r\n",
       "}\r\n",
       "comp usage \"z: B  \" as E8  <<(T,blue) part>> [[psysml:87e3ce51-5094-4f5d-8d11-feac4ad1e872 ]] {\r\n",
       "}\r\n",
       "package \"P4\" as E9  [[psysml:a1b56716-f996-4480-88b0-3733f2d7733c ]]  {\r\n",
       "comp usage \"z1: A  \" as E10  <<(T,blue) part>> [[psysml:630baa2a-121f-4da7-a3fd-6c76e707d010 ]] {\r\n",
       "}\r\n",
       "}\r\n",
       "}\r\n",
       "E4 ..> E2 [[psysml:0487f209-9870-4837-a273-e80eaf0041e3 ]] : <<import>>*\r\n",
       "E5 - -:|> E3 [[psysml:fdb905ca-fd31-45b2-b41e-28dfb09dbd5e ]] \r\n",
       "E1 ..> E4 [[psysml:60fcb482-826b-48b1-b5dc-27f8a317149a ]] : <<import>>*\r\n",
       "E1 ..> E6 [[psysml:37c9a4c7-80e6-494a-a65a-d8ec35cca65c ]] : <<import>>*\r\n",
       "E8 - -:|> E7 [[psysml:f605a3b7-992a-46f2-9cbf-567dae0e656e ]] \r\n",
       "E9 ..> E4 [[psysml:f74e7f7d-bc69-4c36-9a7b-616abfb119b1 ]] : <<import>>*\r\n",
       "E10 - -:|> E3 [[psysml:7688159c-03f6-437a-9242-bafcaad292a9 ]] \r\n",
       "@enduml\r\n",
       "\n",
       "PlantUML version 1.2022.7(Mon Aug 22 17:01:30 UTC 2022)\n",
       "(EPL source distribution)\n",
       "Java Runtime: OpenJDK Runtime Environment\n",
       "JVM: OpenJDK 64-Bit Server VM\n",
       "Default Encoding: UTF-8\n",
       "Language: en\n",
       "Country: null\n",
       "--></g></svg>"
      ]
     },
     "execution_count": 50,
     "metadata": {},
     "output_type": "execute_result"
    }
   ],
   "source": [
    "%viz --style=\"TB\" --view=\"MIXED\" \"PrivateImportTest\""
   ]
  },
  {
   "cell_type": "code",
   "execution_count": 51,
   "id": "837c55da",
   "metadata": {
    "execution": {
     "iopub.execute_input": "2024-12-16T14:17:06.276317Z",
     "iopub.status.busy": "2024-12-16T14:17:06.276092Z",
     "iopub.status.idle": "2024-12-16T14:17:06.293736Z",
     "shell.execute_reply": "2024-12-16T14:17:06.292835Z"
    }
   },
   "outputs": [
    {
     "data": {
      "image/svg+xml": [
       "<?xml version=\"1.0\" encoding=\"UTF-8\" standalone=\"no\"?><svg xmlns=\"http://www.w3.org/2000/svg\" xmlns:xlink=\"http://www.w3.org/1999/xlink\" contentStyleType=\"text/css\" height=\"537px\" preserveAspectRatio=\"none\" style=\"width:419px;height:537px;background:#FFFFFF;\" version=\"1.1\" viewBox=\"0 0 419 537\" width=\"419px\" zoomAndPan=\"magnify\"><defs/><g><!--MD5=[fbc87193dbaf4d95561dea2c320d4a47]\n",
       "cluster E1--><g id=\"cluster_E1\"><a href=\"psysml:11a30fa2-fbeb-4b2d-a071-2781e63d5a12\" target=\"_top\" title=\"psysml:11a30fa2-fbeb-4b2d-a071-2781e63d5a12\" xlink:actuate=\"onRequest\" xlink:href=\"psysml:11a30fa2-fbeb-4b2d-a071-2781e63d5a12\" xlink:show=\"new\" xlink:title=\"psysml:11a30fa2-fbeb-4b2d-a071-2781e63d5a12\" xlink:type=\"simple\"><polygon fill=\"none\" points=\"17,6,151.4375,6,158.4375,28.2969,402,28.2969,402,530,17,530,17,6\" style=\"stroke:#000000;stroke-width:1.5;\"/><line style=\"stroke:#000000;stroke-width:1.5;\" x1=\"17\" x2=\"158.4375\" y1=\"28.2969\" y2=\"28.2969\"/><text fill=\"#000000\" font-family=\"sans-serif\" font-size=\"14\" font-weight=\"bold\" lengthAdjust=\"spacing\" textLength=\"128.4375\" x=\"21\" y=\"20.9951\">PrivateImportTest</text></a></g><!--MD5=[e4f7fae6ed58524ba242bb0b0d3be6b7]\n",
       "cluster E2--><g id=\"cluster_E2\"><a href=\"psysml:29bb8ef7-a50f-48a8-b243-dfabeed2550d\" target=\"_top\" title=\"psysml:29bb8ef7-a50f-48a8-b243-dfabeed2550d\" xlink:actuate=\"onRequest\" xlink:href=\"psysml:29bb8ef7-a50f-48a8-b243-dfabeed2550d\" xlink:show=\"new\" xlink:title=\"psysml:29bb8ef7-a50f-48a8-b243-dfabeed2550d\" xlink:type=\"simple\"><polygon fill=\"none\" points=\"225,375,249.875,375,256.875,397.2969,362,397.2969,362,490,225,490,225,375\" style=\"stroke:#000000;stroke-width:1.5;\"/><line style=\"stroke:#000000;stroke-width:1.5;\" x1=\"225\" x2=\"256.875\" y1=\"397.2969\" y2=\"397.2969\"/><text fill=\"#000000\" font-family=\"sans-serif\" font-size=\"14\" font-weight=\"bold\" lengthAdjust=\"spacing\" textLength=\"18.875\" x=\"229\" y=\"389.9951\">P1</text></a></g><!--MD5=[14e3b0961a2654348d326746436168a1]\n",
       "cluster E6--><g id=\"cluster_E6\"><a href=\"psysml:3afe7580-df30-4ff0-95e6-ec63d3638055\" target=\"_top\" title=\"psysml:3afe7580-df30-4ff0-95e6-ec63d3638055\" xlink:actuate=\"onRequest\" xlink:href=\"psysml:3afe7580-df30-4ff0-95e6-ec63d3638055\" xlink:show=\"new\" xlink:title=\"psysml:3afe7580-df30-4ff0-95e6-ec63d3638055\" xlink:type=\"simple\"><polygon fill=\"none\" points=\"65,220,89.875,220,96.875,242.2969,202,242.2969,202,335,65,335,65,220\" style=\"stroke:#000000;stroke-width:1.5;\"/><line style=\"stroke:#000000;stroke-width:1.5;\" x1=\"65\" x2=\"96.875\" y1=\"242.2969\" y2=\"242.2969\"/><text fill=\"#000000\" font-family=\"sans-serif\" font-size=\"14\" font-weight=\"bold\" lengthAdjust=\"spacing\" textLength=\"18.875\" x=\"69\" y=\"234.9951\">P3</text></a></g><!--MD5=[7f149f147074ac12df2cb0a7728a5fb0]\n",
       "cluster E9--><g id=\"cluster_E9\"><a href=\"psysml:a1b56716-f996-4480-88b0-3733f2d7733c\" target=\"_top\" title=\"psysml:a1b56716-f996-4480-88b0-3733f2d7733c\" xlink:actuate=\"onRequest\" xlink:href=\"psysml:a1b56716-f996-4480-88b0-3733f2d7733c\" xlink:show=\"new\" xlink:title=\"psysml:a1b56716-f996-4480-88b0-3733f2d7733c\" xlink:type=\"simple\"><polygon fill=\"none\" points=\"241,65,265.875,65,272.875,87.2969,358,87.2969,358,180,241,180,241,65\" style=\"stroke:#000000;stroke-width:1.5;\"/><line style=\"stroke:#000000;stroke-width:1.5;\" x1=\"241\" x2=\"272.875\" y1=\"87.2969\" y2=\"87.2969\"/><text fill=\"#000000\" font-family=\"sans-serif\" font-size=\"14\" font-weight=\"bold\" lengthAdjust=\"spacing\" textLength=\"18.875\" x=\"245\" y=\"79.9951\">P4</text></a></g><!--MD5=[270fce915f116d4de14055a7c1d9a0f3]\n",
       "class E5--><a href=\"psysml:fd0b961b-4bae-44e8-b09a-9c87fac280e3\" target=\"_top\" title=\"psysml:fd0b961b-4bae-44e8-b09a-9c87fac280e3\" xlink:actuate=\"onRequest\" xlink:href=\"psysml:fd0b961b-4bae-44e8-b09a-9c87fac280e3\" xlink:show=\"new\" xlink:title=\"psysml:fd0b961b-4bae-44e8-b09a-9c87fac280e3\" xlink:type=\"simple\"><g id=\"elem_E5\"><rect fill=\"#FFFFFF\" height=\"48.2656\" id=\"E5\" rx=\"10\" ry=\"10\" style=\"stroke:#181818;stroke-width:0.5;\" width=\"42\" x=\"299\" y=\"263\"/><text fill=\"#000000\" font-family=\"sans-serif\" font-size=\"12\" font-style=\"italic\" lengthAdjust=\"spacing\" textLength=\"40\" x=\"300\" y=\"279.1387\">«part»</text><text fill=\"#000000\" font-family=\"sans-serif\" font-size=\"14\" lengthAdjust=\"spacing\" textLength=\"25\" x=\"303.5\" y=\"294.9639\">x: A</text><line style=\"stroke:#181818;stroke-width:0.5;\" x1=\"300\" x2=\"340\" y1=\"303.2656\" y2=\"303.2656\"/></g></a><!--MD5=[b9389687b975829384b498ac4b7476b2]\n",
       "class E8--><a href=\"psysml:87e3ce51-5094-4f5d-8d11-feac4ad1e872\" target=\"_top\" title=\"psysml:87e3ce51-5094-4f5d-8d11-feac4ad1e872\" xlink:actuate=\"onRequest\" xlink:href=\"psysml:87e3ce51-5094-4f5d-8d11-feac4ad1e872\" xlink:show=\"new\" xlink:title=\"psysml:87e3ce51-5094-4f5d-8d11-feac4ad1e872\" xlink:type=\"simple\"><g id=\"elem_E8\"><rect fill=\"#FFFFFF\" height=\"48.2656\" id=\"E8\" rx=\"10\" ry=\"10\" style=\"stroke:#181818;stroke-width:0.5;\" width=\"42\" x=\"122\" y=\"108\"/><text fill=\"#000000\" font-family=\"sans-serif\" font-size=\"12\" font-style=\"italic\" lengthAdjust=\"spacing\" textLength=\"40\" x=\"123\" y=\"124.1387\">«part»</text><text fill=\"#000000\" font-family=\"sans-serif\" font-size=\"14\" lengthAdjust=\"spacing\" textLength=\"27\" x=\"125.5\" y=\"139.9639\">z: B</text><line style=\"stroke:#181818;stroke-width:0.5;\" x1=\"123\" x2=\"163\" y1=\"148.2656\" y2=\"148.2656\"/></g></a><!--MD5=[09b614a08d8cba4a07c9adeb5e0fee81]\n",
       "class E3--><a href=\"psysml:5dfb8e4e-b010-43d6-9ea6-8d8096aa0cbd\" target=\"_top\" title=\"psysml:5dfb8e4e-b010-43d6-9ea6-8d8096aa0cbd\" xlink:actuate=\"onRequest\" xlink:href=\"psysml:5dfb8e4e-b010-43d6-9ea6-8d8096aa0cbd\" xlink:show=\"new\" xlink:title=\"psysml:5dfb8e4e-b010-43d6-9ea6-8d8096aa0cbd\" xlink:type=\"simple\"><g id=\"elem_E3\"><rect fill=\"#FFFFFF\" height=\"48.2656\" id=\"E3\" style=\"stroke:#181818;stroke-width:0.5;\" width=\"70\" x=\"268\" y=\"418\"/><text fill=\"#000000\" font-family=\"sans-serif\" font-size=\"12\" font-style=\"italic\" lengthAdjust=\"spacing\" textLength=\"68\" x=\"269\" y=\"434.1387\">«part  def»</text><text fill=\"#000000\" font-family=\"sans-serif\" font-size=\"14\" lengthAdjust=\"spacing\" textLength=\"9\" x=\"298.5\" y=\"449.9639\">A</text><line style=\"stroke:#181818;stroke-width:0.5;\" x1=\"269\" x2=\"337\" y1=\"458.2656\" y2=\"458.2656\"/></g></a><a href=\"psysml:6d745f5d-a6bd-48d3-bb38-b4db6224b450\" target=\"_top\" title=\"psysml:6d745f5d-a6bd-48d3-bb38-b4db6224b450\" xlink:actuate=\"onRequest\" xlink:href=\"psysml:6d745f5d-a6bd-48d3-bb38-b4db6224b450\" xlink:show=\"new\" xlink:title=\"psysml:6d745f5d-a6bd-48d3-bb38-b4db6224b450\" xlink:type=\"simple\"><polygon fill=\"#FFFFFF\" points=\"226,260.5,250,260.5,257,282.7969,264,282.7969,264,313.0938,226,313.0938,226,260.5\" style=\"stroke:#181818;stroke-width:0.5;\"/><line style=\"stroke:#181818;stroke-width:0.5;\" x1=\"226\" x2=\"257\" y1=\"282.7969\" y2=\"282.7969\"/><text fill=\"#000000\" font-family=\"sans-serif\" font-size=\"14\" lengthAdjust=\"spacing\" textLength=\"18\" x=\"230\" y=\"275.4951\">P2</text></a><!--MD5=[2156ba9850f5573cc1fc38a6a4b2f02b]\n",
       "class E7--><a href=\"psysml:05031283-db67-47ce-b074-a753e1e8519b\" target=\"_top\" title=\"psysml:05031283-db67-47ce-b074-a753e1e8519b\" xlink:actuate=\"onRequest\" xlink:href=\"psysml:05031283-db67-47ce-b074-a753e1e8519b\" xlink:show=\"new\" xlink:title=\"psysml:05031283-db67-47ce-b074-a753e1e8519b\" xlink:type=\"simple\"><g id=\"elem_E7\"><rect fill=\"#FFFFFF\" height=\"48.2656\" id=\"E7\" style=\"stroke:#181818;stroke-width:0.5;\" width=\"70\" x=\"108\" y=\"263\"/><text fill=\"#000000\" font-family=\"sans-serif\" font-size=\"12\" font-style=\"italic\" lengthAdjust=\"spacing\" textLength=\"68\" x=\"109\" y=\"279.1387\">«part  def»</text><text fill=\"#000000\" font-family=\"sans-serif\" font-size=\"14\" lengthAdjust=\"spacing\" textLength=\"10\" x=\"138\" y=\"294.9639\">B</text><line style=\"stroke:#181818;stroke-width:0.5;\" x1=\"109\" x2=\"177\" y1=\"303.2656\" y2=\"303.2656\"/></g></a><!--MD5=[96f4274e9e20536e775497830990834d]\n",
       "class E10--><a href=\"psysml:630baa2a-121f-4da7-a3fd-6c76e707d010\" target=\"_top\" title=\"psysml:630baa2a-121f-4da7-a3fd-6c76e707d010\" xlink:actuate=\"onRequest\" xlink:href=\"psysml:630baa2a-121f-4da7-a3fd-6c76e707d010\" xlink:show=\"new\" xlink:title=\"psysml:630baa2a-121f-4da7-a3fd-6c76e707d010\" xlink:type=\"simple\"><g id=\"elem_E10\"><rect fill=\"#FFFFFF\" height=\"48.2656\" id=\"E10\" rx=\"10\" ry=\"10\" style=\"stroke:#181818;stroke-width:0.5;\" width=\"49\" x=\"284.5\" y=\"108\"/><text fill=\"#000000\" font-family=\"sans-serif\" font-size=\"12\" font-style=\"italic\" lengthAdjust=\"spacing\" textLength=\"40\" x=\"289\" y=\"124.1387\">«part»</text><text fill=\"#000000\" font-family=\"sans-serif\" font-size=\"14\" lengthAdjust=\"spacing\" textLength=\"35\" x=\"287.5\" y=\"139.9639\">z1: A</text><line style=\"stroke:#181818;stroke-width:0.5;\" x1=\"285.5\" x2=\"332.5\" y1=\"148.2656\" y2=\"148.2656\"/></g></a><!--MD5=[185131fc0dcab0a4505a2ebe144e961b]\n",
       "link E4 to E2--><g id=\"link_E4_E2\"><a href=\"psysml:0487f209-9870-4837-a273-e80eaf0041e3\" target=\"_top\" title=\"psysml:0487f209-9870-4837-a273-e80eaf0041e3\" xlink:actuate=\"onRequest\" xlink:href=\"psysml:0487f209-9870-4837-a273-e80eaf0041e3\" xlink:show=\"new\" xlink:title=\"psysml:0487f209-9870-4837-a273-e80eaf0041e3\" xlink:type=\"simple\"><path d=\"M233,313.65 C233,324.2075 233,337.0213 233,350.4166 C233,357.1142 233,363.9573 233,370.7364 C233,371.5838 233,372.4301 233,373.2751 C233,373.6976 233,374.1198 233,374.5415 \" fill=\"none\" id=\"E4-to-E2\" style=\"stroke:#181818;stroke-width:1.0;stroke-dasharray:7.0,7.0;\"/><polygon fill=\"#181818\" points=\"233,374.5415,237,365.5415,233,369.5415,229,365.5415,233,374.5415\" style=\"stroke:#181818;stroke-width:1.0;\"/><text fill=\"#000000\" font-family=\"sans-serif\" font-size=\"13\" lengthAdjust=\"spacing\" textLength=\"65\" x=\"167\" y=\"373.6169\">«import»*</text></a></g><!--MD5=[e9be52314489bd878ff4c7144b63c9e1]\n",
       "link E5 to E3--><g id=\"link_E5_E3\"><a href=\"psysml:fdb905ca-fd31-45b2-b41e-28dfb09dbd5e\" target=\"_top\" title=\"psysml:fdb905ca-fd31-45b2-b41e-28dfb09dbd5e\" xlink:actuate=\"onRequest\" xlink:href=\"psysml:fdb905ca-fd31-45b2-b41e-28dfb09dbd5e\" xlink:show=\"new\" xlink:title=\"psysml:fdb905ca-fd31-45b2-b41e-28dfb09dbd5e\" xlink:type=\"simple\"><path d=\"M318.5,311.22 C318.5,311.22 318.5,397.95 318.5,397.95 \" fill=\"none\" id=\"E5-to-E3\" style=\"stroke:#181818;stroke-width:1.0;\"/><polygon fill=\"#FFFFFF\" points=\"318.5,417.95,311.5,398.95,325.5,398.95,318.5,417.95\" style=\"stroke:#181818;stroke-width:1.0;\"/><ellipse cx=\"313.5\" cy=\"393.25\" fill=\"#181818\" rx=\"2\" ry=\"2\" style=\"stroke:#181818;stroke-width:1.0;\"/><ellipse cx=\"323.5\" cy=\"393.25\" fill=\"#181818\" rx=\"2\" ry=\"2\" style=\"stroke:#181818;stroke-width:1.0;\"/></a></g><!--MD5=[ee384bb554873b72f85793eae40e290c]\n",
       "link E1 to E4--><g id=\"link_E1_E4\"><a href=\"psysml:60fcb482-826b-48b1-b5dc-27f8a317149a\" target=\"_top\" title=\"psysml:60fcb482-826b-48b1-b5dc-27f8a317149a\" xlink:actuate=\"onRequest\" xlink:href=\"psysml:60fcb482-826b-48b1-b5dc-27f8a317149a\" xlink:show=\"new\" xlink:title=\"psysml:60fcb482-826b-48b1-b5dc-27f8a317149a\" xlink:type=\"simple\"><path d=\"M25,132.49 C25,139.05 25,209 25,209 C25,209 237,209 237,209 C237,209 237,255.16 237,255.16 \" fill=\"none\" id=\"E1-to-E4\" style=\"stroke:#181818;stroke-width:1.0;stroke-dasharray:7.0,7.0;\"/><polygon fill=\"#181818\" points=\"237,260.16,241,251.16,237,255.16,233,251.16,237,260.16\" style=\"stroke:#181818;stroke-width:1.0;\"/><text fill=\"#000000\" font-family=\"sans-serif\" font-size=\"13\" lengthAdjust=\"spacing\" textLength=\"65\" x=\"49.82\" y=\"205.0669\">«import»*</text></a></g><!--MD5=[ccbd3af71bf83df0ec2a2db62d6d7130]\n",
       "link E1 to E6--><g id=\"link_E1_E6\"><a href=\"psysml:37c9a4c7-80e6-494a-a65a-d8ec35cca65c\" target=\"_top\" title=\"psysml:37c9a4c7-80e6-494a-a65a-d8ec35cca65c\" xlink:actuate=\"onRequest\" xlink:href=\"psysml:37c9a4c7-80e6-494a-a65a-d8ec35cca65c\" xlink:show=\"new\" xlink:title=\"psysml:37c9a4c7-80e6-494a-a65a-d8ec35cca65c\" xlink:type=\"simple\"><path d=\"M25.54,132 C30.81,132 73,132 73,132 C73,132 73,168.365 73,205.8675 C73,210.5553 73,215.2609 73,219.9155 \" fill=\"none\" id=\"E1-to-E6\" style=\"stroke:#181818;stroke-width:1.0;stroke-dasharray:7.0,7.0;\"/><polygon fill=\"#181818\" points=\"73,219.9155,77,210.9155,73,214.9155,69,210.9155,73,219.9155\" style=\"stroke:#181818;stroke-width:1.0;\"/><text fill=\"#000000\" font-family=\"sans-serif\" font-size=\"13\" lengthAdjust=\"spacing\" textLength=\"65\" x=\"7\" y=\"181.6169\">«import»*</text></a></g><!--MD5=[bfa3c8b0d15052fdf50ae9310b491027]\n",
       "link E8 to E7--><g id=\"link_E8_E7\"><a href=\"psysml:f605a3b7-992a-46f2-9cbf-567dae0e656e\" target=\"_top\" title=\"psysml:f605a3b7-992a-46f2-9cbf-567dae0e656e\" xlink:actuate=\"onRequest\" xlink:href=\"psysml:f605a3b7-992a-46f2-9cbf-567dae0e656e\" xlink:show=\"new\" xlink:title=\"psysml:f605a3b7-992a-46f2-9cbf-567dae0e656e\" xlink:type=\"simple\"><path d=\"M143,156.22 C143,156.22 143,242.95 143,242.95 \" fill=\"none\" id=\"E8-to-E7\" style=\"stroke:#181818;stroke-width:1.0;\"/><polygon fill=\"#FFFFFF\" points=\"143,262.95,136,243.95,150,243.95,143,262.95\" style=\"stroke:#181818;stroke-width:1.0;\"/><ellipse cx=\"138\" cy=\"238.25\" fill=\"#181818\" rx=\"2\" ry=\"2\" style=\"stroke:#181818;stroke-width:1.0;\"/><ellipse cx=\"148\" cy=\"238.25\" fill=\"#181818\" rx=\"2\" ry=\"2\" style=\"stroke:#181818;stroke-width:1.0;\"/></a></g><!--MD5=[c2be97adba6ddfe1c8f349fab141c927]\n",
       "link E9 to E4--><g id=\"link_E9_E4\"><a href=\"psysml:f74e7f7d-bc69-4c36-9a7b-616abfb119b1\" target=\"_top\" title=\"psysml:f74e7f7d-bc69-4c36-9a7b-616abfb119b1\" xlink:actuate=\"onRequest\" xlink:href=\"psysml:f74e7f7d-bc69-4c36-9a7b-616abfb119b1\" xlink:show=\"new\" xlink:title=\"psysml:f74e7f7d-bc69-4c36-9a7b-616abfb119b1\" xlink:type=\"simple\"><path d=\"M249,180.3628 C249,180.5978 249,180.8331 249,181.0687 C249,181.5398 249,182.012 249,182.4851 C249,186.27 249,190.115 249,193.96 C249,224.72 249,255.48 249,255.48 \" fill=\"none\" id=\"E9-to-E4\" style=\"stroke:#181818;stroke-width:1.0;stroke-dasharray:7.0,7.0;\"/><polygon fill=\"#181818\" points=\"249,260.48,253,251.48,249,255.48,245,251.48,249,260.48\" style=\"stroke:#181818;stroke-width:1.0;\"/><text fill=\"#000000\" font-family=\"sans-serif\" font-size=\"13\" lengthAdjust=\"spacing\" textLength=\"65\" x=\"183\" y=\"190.0269\">«import»*</text></a></g><!--MD5=[feeac5eb423634930294aa81f2d25a4c]\n",
       "link E10 to E3--><g id=\"link_E10_E3\"><a href=\"psysml:7688159c-03f6-437a-9242-bafcaad292a9\" target=\"_top\" title=\"psysml:7688159c-03f6-437a-9242-bafcaad292a9\" xlink:actuate=\"onRequest\" xlink:href=\"psysml:7688159c-03f6-437a-9242-bafcaad292a9\" xlink:show=\"new\" xlink:title=\"psysml:7688159c-03f6-437a-9242-bafcaad292a9\" xlink:type=\"simple\"><path d=\"M291.75,156.07 C291.75,156.07 291.75,397.73 291.75,397.73 \" fill=\"none\" id=\"E10-to-E3\" style=\"stroke:#181818;stroke-width:1.0;\"/><polygon fill=\"#FFFFFF\" points=\"291.75,417.73,284.75,398.73,298.75,398.73,291.75,417.73\" style=\"stroke:#181818;stroke-width:1.0;\"/><ellipse cx=\"286.75\" cy=\"393.03\" fill=\"#181818\" rx=\"2\" ry=\"2\" style=\"stroke:#181818;stroke-width:1.0;\"/><ellipse cx=\"296.75\" cy=\"393.03\" fill=\"#181818\" rx=\"2\" ry=\"2\" style=\"stroke:#181818;stroke-width:1.0;\"/></a></g><!--MD5=[0362972c96dea89ee93b2ee6b00cb18e]\n",
       "@startuml\r\n",
       "skin sysmlbw\r\n",
       "skinparam monochrome true\r\n",
       "skinparam wrapWidth 300\r\n",
       "hide circle\r\n",
       "skinparam linetype ortho\r\n",
       "\r\n",
       "package \"PrivateImportTest\" as E1  [[psysml:11a30fa2-fbeb-4b2d-a071-2781e63d5a12 ]]  {\r\n",
       "package \"P1\" as E2  [[psysml:29bb8ef7-a50f-48a8-b243-dfabeed2550d ]]  {\r\n",
       "comp def \"A\" as E3  <<(T,blue) part  def>> [[psysml:5dfb8e4e-b010-43d6-9ea6-8d8096aa0cbd ]] {\r\n",
       "}\r\n",
       "}\r\n",
       "package \"P2\" as E4  [[psysml:6d745f5d-a6bd-48d3-bb38-b4db6224b450 ]]  {\r\n",
       "}\r\n",
       "comp usage \"x: A  \" as E5  <<(T,blue) part>> [[psysml:fd0b961b-4bae-44e8-b09a-9c87fac280e3 ]] {\r\n",
       "}\r\n",
       "package \"P3\" as E6  [[psysml:3afe7580-df30-4ff0-95e6-ec63d3638055 ]]  {\r\n",
       "comp def \"B\" as E7  <<(T,blue) part  def>> [[psysml:05031283-db67-47ce-b074-a753e1e8519b ]] {\r\n",
       "}\r\n",
       "}\r\n",
       "comp usage \"z: B  \" as E8  <<(T,blue) part>> [[psysml:87e3ce51-5094-4f5d-8d11-feac4ad1e872 ]] {\r\n",
       "}\r\n",
       "package \"P4\" as E9  [[psysml:a1b56716-f996-4480-88b0-3733f2d7733c ]]  {\r\n",
       "comp usage \"z1: A  \" as E10  <<(T,blue) part>> [[psysml:630baa2a-121f-4da7-a3fd-6c76e707d010 ]] {\r\n",
       "}\r\n",
       "}\r\n",
       "}\r\n",
       "E4 ..> E2 [[psysml:0487f209-9870-4837-a273-e80eaf0041e3 ]] : <<import>>*\r\n",
       "E5 - -:|> E3 [[psysml:fdb905ca-fd31-45b2-b41e-28dfb09dbd5e ]] \r\n",
       "E1 ..> E4 [[psysml:60fcb482-826b-48b1-b5dc-27f8a317149a ]] : <<import>>*\r\n",
       "E1 ..> E6 [[psysml:37c9a4c7-80e6-494a-a65a-d8ec35cca65c ]] : <<import>>*\r\n",
       "E8 - -:|> E7 [[psysml:f605a3b7-992a-46f2-9cbf-567dae0e656e ]] \r\n",
       "E9 ..> E4 [[psysml:f74e7f7d-bc69-4c36-9a7b-616abfb119b1 ]] : <<import>>*\r\n",
       "E10 - -:|> E3 [[psysml:7688159c-03f6-437a-9242-bafcaad292a9 ]] \r\n",
       "@enduml\r\n",
       "\n",
       "PlantUML version 1.2022.7(Mon Aug 22 17:01:30 UTC 2022)\n",
       "(EPL source distribution)\n",
       "Java Runtime: OpenJDK Runtime Environment\n",
       "JVM: OpenJDK 64-Bit Server VM\n",
       "Default Encoding: UTF-8\n",
       "Language: en\n",
       "Country: null\n",
       "--></g></svg>"
      ]
     },
     "execution_count": 51,
     "metadata": {},
     "output_type": "execute_result"
    }
   ],
   "source": [
    "%viz --style=\"ORTHOLINE\" --view=\"Default\" \"PrivateImportTest\""
   ]
  },
  {
   "cell_type": "code",
   "execution_count": 52,
   "id": "bfe34b30",
   "metadata": {
    "execution": {
     "iopub.execute_input": "2024-12-16T14:17:06.349957Z",
     "iopub.status.busy": "2024-12-16T14:17:06.349726Z",
     "iopub.status.idle": "2024-12-16T14:17:06.369754Z",
     "shell.execute_reply": "2024-12-16T14:17:06.368694Z"
    }
   },
   "outputs": [
    {
     "data": {
      "image/svg+xml": [
       "<?xml version=\"1.0\" encoding=\"UTF-8\" standalone=\"no\"?><svg xmlns=\"http://www.w3.org/2000/svg\" xmlns:xlink=\"http://www.w3.org/1999/xlink\" contentStyleType=\"text/css\" height=\"537px\" preserveAspectRatio=\"none\" style=\"width:419px;height:537px;background:#FFFFFF;\" version=\"1.1\" viewBox=\"0 0 419 537\" width=\"419px\" zoomAndPan=\"magnify\"><defs/><g><!--MD5=[fbc87193dbaf4d95561dea2c320d4a47]\n",
       "cluster E1--><g id=\"cluster_E1\"><a href=\"psysml:11a30fa2-fbeb-4b2d-a071-2781e63d5a12\" target=\"_top\" title=\"psysml:11a30fa2-fbeb-4b2d-a071-2781e63d5a12\" xlink:actuate=\"onRequest\" xlink:href=\"psysml:11a30fa2-fbeb-4b2d-a071-2781e63d5a12\" xlink:show=\"new\" xlink:title=\"psysml:11a30fa2-fbeb-4b2d-a071-2781e63d5a12\" xlink:type=\"simple\"><polygon fill=\"none\" points=\"17,6,151.4375,6,158.4375,28.2969,402,28.2969,402,530,17,530,17,6\" style=\"stroke:#000000;stroke-width:1.5;\"/><line style=\"stroke:#000000;stroke-width:1.5;\" x1=\"17\" x2=\"158.4375\" y1=\"28.2969\" y2=\"28.2969\"/><text fill=\"#000000\" font-family=\"sans-serif\" font-size=\"14\" font-weight=\"bold\" lengthAdjust=\"spacing\" textLength=\"128.4375\" x=\"21\" y=\"20.9951\">PrivateImportTest</text></a></g><!--MD5=[e4f7fae6ed58524ba242bb0b0d3be6b7]\n",
       "cluster E2--><g id=\"cluster_E2\"><a href=\"psysml:29bb8ef7-a50f-48a8-b243-dfabeed2550d\" target=\"_top\" title=\"psysml:29bb8ef7-a50f-48a8-b243-dfabeed2550d\" xlink:actuate=\"onRequest\" xlink:href=\"psysml:29bb8ef7-a50f-48a8-b243-dfabeed2550d\" xlink:show=\"new\" xlink:title=\"psysml:29bb8ef7-a50f-48a8-b243-dfabeed2550d\" xlink:type=\"simple\"><polygon fill=\"none\" points=\"225,375,249.875,375,256.875,397.2969,362,397.2969,362,490,225,490,225,375\" style=\"stroke:#000000;stroke-width:1.5;\"/><line style=\"stroke:#000000;stroke-width:1.5;\" x1=\"225\" x2=\"256.875\" y1=\"397.2969\" y2=\"397.2969\"/><text fill=\"#000000\" font-family=\"sans-serif\" font-size=\"14\" font-weight=\"bold\" lengthAdjust=\"spacing\" textLength=\"18.875\" x=\"229\" y=\"389.9951\">P1</text></a></g><!--MD5=[14e3b0961a2654348d326746436168a1]\n",
       "cluster E6--><g id=\"cluster_E6\"><a href=\"psysml:3afe7580-df30-4ff0-95e6-ec63d3638055\" target=\"_top\" title=\"psysml:3afe7580-df30-4ff0-95e6-ec63d3638055\" xlink:actuate=\"onRequest\" xlink:href=\"psysml:3afe7580-df30-4ff0-95e6-ec63d3638055\" xlink:show=\"new\" xlink:title=\"psysml:3afe7580-df30-4ff0-95e6-ec63d3638055\" xlink:type=\"simple\"><polygon fill=\"none\" points=\"65,220,89.875,220,96.875,242.2969,202,242.2969,202,335,65,335,65,220\" style=\"stroke:#000000;stroke-width:1.5;\"/><line style=\"stroke:#000000;stroke-width:1.5;\" x1=\"65\" x2=\"96.875\" y1=\"242.2969\" y2=\"242.2969\"/><text fill=\"#000000\" font-family=\"sans-serif\" font-size=\"14\" font-weight=\"bold\" lengthAdjust=\"spacing\" textLength=\"18.875\" x=\"69\" y=\"234.9951\">P3</text></a></g><!--MD5=[7f149f147074ac12df2cb0a7728a5fb0]\n",
       "cluster E9--><g id=\"cluster_E9\"><a href=\"psysml:a1b56716-f996-4480-88b0-3733f2d7733c\" target=\"_top\" title=\"psysml:a1b56716-f996-4480-88b0-3733f2d7733c\" xlink:actuate=\"onRequest\" xlink:href=\"psysml:a1b56716-f996-4480-88b0-3733f2d7733c\" xlink:show=\"new\" xlink:title=\"psysml:a1b56716-f996-4480-88b0-3733f2d7733c\" xlink:type=\"simple\"><polygon fill=\"none\" points=\"241,65,265.875,65,272.875,87.2969,358,87.2969,358,180,241,180,241,65\" style=\"stroke:#000000;stroke-width:1.5;\"/><line style=\"stroke:#000000;stroke-width:1.5;\" x1=\"241\" x2=\"272.875\" y1=\"87.2969\" y2=\"87.2969\"/><text fill=\"#000000\" font-family=\"sans-serif\" font-size=\"14\" font-weight=\"bold\" lengthAdjust=\"spacing\" textLength=\"18.875\" x=\"245\" y=\"79.9951\">P4</text></a></g><!--MD5=[270fce915f116d4de14055a7c1d9a0f3]\n",
       "class E5--><a href=\"psysml:fd0b961b-4bae-44e8-b09a-9c87fac280e3\" target=\"_top\" title=\"psysml:fd0b961b-4bae-44e8-b09a-9c87fac280e3\" xlink:actuate=\"onRequest\" xlink:href=\"psysml:fd0b961b-4bae-44e8-b09a-9c87fac280e3\" xlink:show=\"new\" xlink:title=\"psysml:fd0b961b-4bae-44e8-b09a-9c87fac280e3\" xlink:type=\"simple\"><g id=\"elem_E5\"><rect fill=\"#FFFFFF\" height=\"48.2656\" id=\"E5\" rx=\"10\" ry=\"10\" style=\"stroke:#181818;stroke-width:0.5;\" width=\"42\" x=\"299\" y=\"263\"/><text fill=\"#000000\" font-family=\"sans-serif\" font-size=\"12\" font-style=\"italic\" lengthAdjust=\"spacing\" textLength=\"40\" x=\"300\" y=\"279.1387\">«part»</text><text fill=\"#000000\" font-family=\"sans-serif\" font-size=\"14\" lengthAdjust=\"spacing\" textLength=\"25\" x=\"303.5\" y=\"294.9639\">x: A</text><line style=\"stroke:#181818;stroke-width:0.5;\" x1=\"300\" x2=\"340\" y1=\"303.2656\" y2=\"303.2656\"/></g></a><!--MD5=[b9389687b975829384b498ac4b7476b2]\n",
       "class E8--><a href=\"psysml:87e3ce51-5094-4f5d-8d11-feac4ad1e872\" target=\"_top\" title=\"psysml:87e3ce51-5094-4f5d-8d11-feac4ad1e872\" xlink:actuate=\"onRequest\" xlink:href=\"psysml:87e3ce51-5094-4f5d-8d11-feac4ad1e872\" xlink:show=\"new\" xlink:title=\"psysml:87e3ce51-5094-4f5d-8d11-feac4ad1e872\" xlink:type=\"simple\"><g id=\"elem_E8\"><rect fill=\"#FFFFFF\" height=\"48.2656\" id=\"E8\" rx=\"10\" ry=\"10\" style=\"stroke:#181818;stroke-width:0.5;\" width=\"42\" x=\"122\" y=\"108\"/><text fill=\"#000000\" font-family=\"sans-serif\" font-size=\"12\" font-style=\"italic\" lengthAdjust=\"spacing\" textLength=\"40\" x=\"123\" y=\"124.1387\">«part»</text><text fill=\"#000000\" font-family=\"sans-serif\" font-size=\"14\" lengthAdjust=\"spacing\" textLength=\"27\" x=\"125.5\" y=\"139.9639\">z: B</text><line style=\"stroke:#181818;stroke-width:0.5;\" x1=\"123\" x2=\"163\" y1=\"148.2656\" y2=\"148.2656\"/></g></a><!--MD5=[09b614a08d8cba4a07c9adeb5e0fee81]\n",
       "class E3--><a href=\"psysml:5dfb8e4e-b010-43d6-9ea6-8d8096aa0cbd\" target=\"_top\" title=\"psysml:5dfb8e4e-b010-43d6-9ea6-8d8096aa0cbd\" xlink:actuate=\"onRequest\" xlink:href=\"psysml:5dfb8e4e-b010-43d6-9ea6-8d8096aa0cbd\" xlink:show=\"new\" xlink:title=\"psysml:5dfb8e4e-b010-43d6-9ea6-8d8096aa0cbd\" xlink:type=\"simple\"><g id=\"elem_E3\"><rect fill=\"#FFFFFF\" height=\"48.2656\" id=\"E3\" style=\"stroke:#181818;stroke-width:0.5;\" width=\"70\" x=\"268\" y=\"418\"/><text fill=\"#000000\" font-family=\"sans-serif\" font-size=\"12\" font-style=\"italic\" lengthAdjust=\"spacing\" textLength=\"68\" x=\"269\" y=\"434.1387\">«part  def»</text><text fill=\"#000000\" font-family=\"sans-serif\" font-size=\"14\" lengthAdjust=\"spacing\" textLength=\"9\" x=\"298.5\" y=\"449.9639\">A</text><line style=\"stroke:#181818;stroke-width:0.5;\" x1=\"269\" x2=\"337\" y1=\"458.2656\" y2=\"458.2656\"/></g></a><a href=\"psysml:6d745f5d-a6bd-48d3-bb38-b4db6224b450\" target=\"_top\" title=\"psysml:6d745f5d-a6bd-48d3-bb38-b4db6224b450\" xlink:actuate=\"onRequest\" xlink:href=\"psysml:6d745f5d-a6bd-48d3-bb38-b4db6224b450\" xlink:show=\"new\" xlink:title=\"psysml:6d745f5d-a6bd-48d3-bb38-b4db6224b450\" xlink:type=\"simple\"><polygon fill=\"#FFFFFF\" points=\"226,260.5,250,260.5,257,282.7969,264,282.7969,264,313.0938,226,313.0938,226,260.5\" style=\"stroke:#181818;stroke-width:0.5;\"/><line style=\"stroke:#181818;stroke-width:0.5;\" x1=\"226\" x2=\"257\" y1=\"282.7969\" y2=\"282.7969\"/><text fill=\"#000000\" font-family=\"sans-serif\" font-size=\"14\" lengthAdjust=\"spacing\" textLength=\"18\" x=\"230\" y=\"275.4951\">P2</text></a><!--MD5=[2156ba9850f5573cc1fc38a6a4b2f02b]\n",
       "class E7--><a href=\"psysml:05031283-db67-47ce-b074-a753e1e8519b\" target=\"_top\" title=\"psysml:05031283-db67-47ce-b074-a753e1e8519b\" xlink:actuate=\"onRequest\" xlink:href=\"psysml:05031283-db67-47ce-b074-a753e1e8519b\" xlink:show=\"new\" xlink:title=\"psysml:05031283-db67-47ce-b074-a753e1e8519b\" xlink:type=\"simple\"><g id=\"elem_E7\"><rect fill=\"#FFFFFF\" height=\"48.2656\" id=\"E7\" style=\"stroke:#181818;stroke-width:0.5;\" width=\"70\" x=\"108\" y=\"263\"/><text fill=\"#000000\" font-family=\"sans-serif\" font-size=\"12\" font-style=\"italic\" lengthAdjust=\"spacing\" textLength=\"68\" x=\"109\" y=\"279.1387\">«part  def»</text><text fill=\"#000000\" font-family=\"sans-serif\" font-size=\"14\" lengthAdjust=\"spacing\" textLength=\"10\" x=\"138\" y=\"294.9639\">B</text><line style=\"stroke:#181818;stroke-width:0.5;\" x1=\"109\" x2=\"177\" y1=\"303.2656\" y2=\"303.2656\"/></g></a><!--MD5=[96f4274e9e20536e775497830990834d]\n",
       "class E10--><a href=\"psysml:630baa2a-121f-4da7-a3fd-6c76e707d010\" target=\"_top\" title=\"psysml:630baa2a-121f-4da7-a3fd-6c76e707d010\" xlink:actuate=\"onRequest\" xlink:href=\"psysml:630baa2a-121f-4da7-a3fd-6c76e707d010\" xlink:show=\"new\" xlink:title=\"psysml:630baa2a-121f-4da7-a3fd-6c76e707d010\" xlink:type=\"simple\"><g id=\"elem_E10\"><rect fill=\"#FFFFFF\" height=\"48.2656\" id=\"E10\" rx=\"10\" ry=\"10\" style=\"stroke:#181818;stroke-width:0.5;\" width=\"49\" x=\"284.5\" y=\"108\"/><text fill=\"#000000\" font-family=\"sans-serif\" font-size=\"12\" font-style=\"italic\" lengthAdjust=\"spacing\" textLength=\"40\" x=\"289\" y=\"124.1387\">«part»</text><text fill=\"#000000\" font-family=\"sans-serif\" font-size=\"14\" lengthAdjust=\"spacing\" textLength=\"35\" x=\"287.5\" y=\"139.9639\">z1: A</text><line style=\"stroke:#181818;stroke-width:0.5;\" x1=\"285.5\" x2=\"332.5\" y1=\"148.2656\" y2=\"148.2656\"/></g></a><!--MD5=[185131fc0dcab0a4505a2ebe144e961b]\n",
       "link E4 to E2--><g id=\"link_E4_E2\"><a href=\"psysml:0487f209-9870-4837-a273-e80eaf0041e3\" target=\"_top\" title=\"psysml:0487f209-9870-4837-a273-e80eaf0041e3\" xlink:actuate=\"onRequest\" xlink:href=\"psysml:0487f209-9870-4837-a273-e80eaf0041e3\" xlink:show=\"new\" xlink:title=\"psysml:0487f209-9870-4837-a273-e80eaf0041e3\" xlink:type=\"simple\"><path d=\"M233,313.65 C233,324.2075 233,337.0213 233,350.4166 C233,357.1142 233,363.9573 233,370.7364 C233,371.5838 233,372.4301 233,373.2751 C233,373.6976 233,374.1198 233,374.5415 \" fill=\"none\" id=\"E4-to-E2\" style=\"stroke:#181818;stroke-width:1.0;stroke-dasharray:7.0,7.0;\"/><polygon fill=\"#181818\" points=\"233,374.5415,237,365.5415,233,369.5415,229,365.5415,233,374.5415\" style=\"stroke:#181818;stroke-width:1.0;\"/><text fill=\"#000000\" font-family=\"sans-serif\" font-size=\"13\" lengthAdjust=\"spacing\" textLength=\"65\" x=\"167\" y=\"373.6169\">«import»*</text></a></g><!--MD5=[e9be52314489bd878ff4c7144b63c9e1]\n",
       "link E5 to E3--><g id=\"link_E5_E3\"><a href=\"psysml:fdb905ca-fd31-45b2-b41e-28dfb09dbd5e\" target=\"_top\" title=\"psysml:fdb905ca-fd31-45b2-b41e-28dfb09dbd5e\" xlink:actuate=\"onRequest\" xlink:href=\"psysml:fdb905ca-fd31-45b2-b41e-28dfb09dbd5e\" xlink:show=\"new\" xlink:title=\"psysml:fdb905ca-fd31-45b2-b41e-28dfb09dbd5e\" xlink:type=\"simple\"><path d=\"M318.5,311.22 C318.5,311.22 318.5,397.95 318.5,397.95 \" fill=\"none\" id=\"E5-to-E3\" style=\"stroke:#181818;stroke-width:1.0;\"/><polygon fill=\"#FFFFFF\" points=\"318.5,417.95,311.5,398.95,325.5,398.95,318.5,417.95\" style=\"stroke:#181818;stroke-width:1.0;\"/><ellipse cx=\"313.5\" cy=\"393.25\" fill=\"#181818\" rx=\"2\" ry=\"2\" style=\"stroke:#181818;stroke-width:1.0;\"/><ellipse cx=\"323.5\" cy=\"393.25\" fill=\"#181818\" rx=\"2\" ry=\"2\" style=\"stroke:#181818;stroke-width:1.0;\"/></a></g><!--MD5=[ee384bb554873b72f85793eae40e290c]\n",
       "link E1 to E4--><g id=\"link_E1_E4\"><a href=\"psysml:60fcb482-826b-48b1-b5dc-27f8a317149a\" target=\"_top\" title=\"psysml:60fcb482-826b-48b1-b5dc-27f8a317149a\" xlink:actuate=\"onRequest\" xlink:href=\"psysml:60fcb482-826b-48b1-b5dc-27f8a317149a\" xlink:show=\"new\" xlink:title=\"psysml:60fcb482-826b-48b1-b5dc-27f8a317149a\" xlink:type=\"simple\"><path d=\"M25,132.49 C25,139.05 25,209 25,209 C25,209 237,209 237,209 C237,209 237,255.16 237,255.16 \" fill=\"none\" id=\"E1-to-E4\" style=\"stroke:#181818;stroke-width:1.0;stroke-dasharray:7.0,7.0;\"/><polygon fill=\"#181818\" points=\"237,260.16,241,251.16,237,255.16,233,251.16,237,260.16\" style=\"stroke:#181818;stroke-width:1.0;\"/><text fill=\"#000000\" font-family=\"sans-serif\" font-size=\"13\" lengthAdjust=\"spacing\" textLength=\"65\" x=\"49.82\" y=\"205.0669\">«import»*</text></a></g><!--MD5=[ccbd3af71bf83df0ec2a2db62d6d7130]\n",
       "link E1 to E6--><g id=\"link_E1_E6\"><a href=\"psysml:37c9a4c7-80e6-494a-a65a-d8ec35cca65c\" target=\"_top\" title=\"psysml:37c9a4c7-80e6-494a-a65a-d8ec35cca65c\" xlink:actuate=\"onRequest\" xlink:href=\"psysml:37c9a4c7-80e6-494a-a65a-d8ec35cca65c\" xlink:show=\"new\" xlink:title=\"psysml:37c9a4c7-80e6-494a-a65a-d8ec35cca65c\" xlink:type=\"simple\"><path d=\"M25.54,132 C30.81,132 73,132 73,132 C73,132 73,168.365 73,205.8675 C73,210.5553 73,215.2609 73,219.9155 \" fill=\"none\" id=\"E1-to-E6\" style=\"stroke:#181818;stroke-width:1.0;stroke-dasharray:7.0,7.0;\"/><polygon fill=\"#181818\" points=\"73,219.9155,77,210.9155,73,214.9155,69,210.9155,73,219.9155\" style=\"stroke:#181818;stroke-width:1.0;\"/><text fill=\"#000000\" font-family=\"sans-serif\" font-size=\"13\" lengthAdjust=\"spacing\" textLength=\"65\" x=\"7\" y=\"181.6169\">«import»*</text></a></g><!--MD5=[bfa3c8b0d15052fdf50ae9310b491027]\n",
       "link E8 to E7--><g id=\"link_E8_E7\"><a href=\"psysml:f605a3b7-992a-46f2-9cbf-567dae0e656e\" target=\"_top\" title=\"psysml:f605a3b7-992a-46f2-9cbf-567dae0e656e\" xlink:actuate=\"onRequest\" xlink:href=\"psysml:f605a3b7-992a-46f2-9cbf-567dae0e656e\" xlink:show=\"new\" xlink:title=\"psysml:f605a3b7-992a-46f2-9cbf-567dae0e656e\" xlink:type=\"simple\"><path d=\"M143,156.22 C143,156.22 143,242.95 143,242.95 \" fill=\"none\" id=\"E8-to-E7\" style=\"stroke:#181818;stroke-width:1.0;\"/><polygon fill=\"#FFFFFF\" points=\"143,262.95,136,243.95,150,243.95,143,262.95\" style=\"stroke:#181818;stroke-width:1.0;\"/><ellipse cx=\"138\" cy=\"238.25\" fill=\"#181818\" rx=\"2\" ry=\"2\" style=\"stroke:#181818;stroke-width:1.0;\"/><ellipse cx=\"148\" cy=\"238.25\" fill=\"#181818\" rx=\"2\" ry=\"2\" style=\"stroke:#181818;stroke-width:1.0;\"/></a></g><!--MD5=[c2be97adba6ddfe1c8f349fab141c927]\n",
       "link E9 to E4--><g id=\"link_E9_E4\"><a href=\"psysml:f74e7f7d-bc69-4c36-9a7b-616abfb119b1\" target=\"_top\" title=\"psysml:f74e7f7d-bc69-4c36-9a7b-616abfb119b1\" xlink:actuate=\"onRequest\" xlink:href=\"psysml:f74e7f7d-bc69-4c36-9a7b-616abfb119b1\" xlink:show=\"new\" xlink:title=\"psysml:f74e7f7d-bc69-4c36-9a7b-616abfb119b1\" xlink:type=\"simple\"><path d=\"M249,180.3628 C249,180.5978 249,180.8331 249,181.0687 C249,181.5398 249,182.012 249,182.4851 C249,186.27 249,190.115 249,193.96 C249,224.72 249,255.48 249,255.48 \" fill=\"none\" id=\"E9-to-E4\" style=\"stroke:#181818;stroke-width:1.0;stroke-dasharray:7.0,7.0;\"/><polygon fill=\"#181818\" points=\"249,260.48,253,251.48,249,255.48,245,251.48,249,260.48\" style=\"stroke:#181818;stroke-width:1.0;\"/><text fill=\"#000000\" font-family=\"sans-serif\" font-size=\"13\" lengthAdjust=\"spacing\" textLength=\"65\" x=\"183\" y=\"190.0269\">«import»*</text></a></g><!--MD5=[feeac5eb423634930294aa81f2d25a4c]\n",
       "link E10 to E3--><g id=\"link_E10_E3\"><a href=\"psysml:7688159c-03f6-437a-9242-bafcaad292a9\" target=\"_top\" title=\"psysml:7688159c-03f6-437a-9242-bafcaad292a9\" xlink:actuate=\"onRequest\" xlink:href=\"psysml:7688159c-03f6-437a-9242-bafcaad292a9\" xlink:show=\"new\" xlink:title=\"psysml:7688159c-03f6-437a-9242-bafcaad292a9\" xlink:type=\"simple\"><path d=\"M291.75,156.07 C291.75,156.07 291.75,397.73 291.75,397.73 \" fill=\"none\" id=\"E10-to-E3\" style=\"stroke:#181818;stroke-width:1.0;\"/><polygon fill=\"#FFFFFF\" points=\"291.75,417.73,284.75,398.73,298.75,398.73,291.75,417.73\" style=\"stroke:#181818;stroke-width:1.0;\"/><ellipse cx=\"286.75\" cy=\"393.03\" fill=\"#181818\" rx=\"2\" ry=\"2\" style=\"stroke:#181818;stroke-width:1.0;\"/><ellipse cx=\"296.75\" cy=\"393.03\" fill=\"#181818\" rx=\"2\" ry=\"2\" style=\"stroke:#181818;stroke-width:1.0;\"/></a></g><!--MD5=[0362972c96dea89ee93b2ee6b00cb18e]\n",
       "@startuml\r\n",
       "skin sysmlbw\r\n",
       "skinparam monochrome true\r\n",
       "skinparam wrapWidth 300\r\n",
       "hide circle\r\n",
       "skinparam linetype ortho\r\n",
       "\r\n",
       "package \"PrivateImportTest\" as E1  [[psysml:11a30fa2-fbeb-4b2d-a071-2781e63d5a12 ]]  {\r\n",
       "package \"P1\" as E2  [[psysml:29bb8ef7-a50f-48a8-b243-dfabeed2550d ]]  {\r\n",
       "comp def \"A\" as E3  <<(T,blue) part  def>> [[psysml:5dfb8e4e-b010-43d6-9ea6-8d8096aa0cbd ]] {\r\n",
       "}\r\n",
       "}\r\n",
       "package \"P2\" as E4  [[psysml:6d745f5d-a6bd-48d3-bb38-b4db6224b450 ]]  {\r\n",
       "}\r\n",
       "comp usage \"x: A  \" as E5  <<(T,blue) part>> [[psysml:fd0b961b-4bae-44e8-b09a-9c87fac280e3 ]] {\r\n",
       "}\r\n",
       "package \"P3\" as E6  [[psysml:3afe7580-df30-4ff0-95e6-ec63d3638055 ]]  {\r\n",
       "comp def \"B\" as E7  <<(T,blue) part  def>> [[psysml:05031283-db67-47ce-b074-a753e1e8519b ]] {\r\n",
       "}\r\n",
       "}\r\n",
       "comp usage \"z: B  \" as E8  <<(T,blue) part>> [[psysml:87e3ce51-5094-4f5d-8d11-feac4ad1e872 ]] {\r\n",
       "}\r\n",
       "package \"P4\" as E9  [[psysml:a1b56716-f996-4480-88b0-3733f2d7733c ]]  {\r\n",
       "comp usage \"z1: A  \" as E10  <<(T,blue) part>> [[psysml:630baa2a-121f-4da7-a3fd-6c76e707d010 ]] {\r\n",
       "}\r\n",
       "}\r\n",
       "}\r\n",
       "E4 ..> E2 [[psysml:0487f209-9870-4837-a273-e80eaf0041e3 ]] : <<import>>*\r\n",
       "E5 - -:|> E3 [[psysml:fdb905ca-fd31-45b2-b41e-28dfb09dbd5e ]] \r\n",
       "E1 ..> E4 [[psysml:60fcb482-826b-48b1-b5dc-27f8a317149a ]] : <<import>>*\r\n",
       "E1 ..> E6 [[psysml:37c9a4c7-80e6-494a-a65a-d8ec35cca65c ]] : <<import>>*\r\n",
       "E8 - -:|> E7 [[psysml:f605a3b7-992a-46f2-9cbf-567dae0e656e ]] \r\n",
       "E9 ..> E4 [[psysml:f74e7f7d-bc69-4c36-9a7b-616abfb119b1 ]] : <<import>>*\r\n",
       "E10 - -:|> E3 [[psysml:7688159c-03f6-437a-9242-bafcaad292a9 ]] \r\n",
       "@enduml\r\n",
       "\n",
       "PlantUML version 1.2022.7(Mon Aug 22 17:01:30 UTC 2022)\n",
       "(EPL source distribution)\n",
       "Java Runtime: OpenJDK Runtime Environment\n",
       "JVM: OpenJDK 64-Bit Server VM\n",
       "Default Encoding: UTF-8\n",
       "Language: en\n",
       "Country: null\n",
       "--></g></svg>"
      ]
     },
     "execution_count": 52,
     "metadata": {},
     "output_type": "execute_result"
    }
   ],
   "source": [
    "%viz --style=\"ORTHOLINE\" --view=\"Tree\" \"PrivateImportTest\""
   ]
  },
  {
   "cell_type": "code",
   "execution_count": 53,
   "id": "1ef31ed9",
   "metadata": {
    "execution": {
     "iopub.execute_input": "2024-12-16T14:17:06.423716Z",
     "iopub.status.busy": "2024-12-16T14:17:06.423432Z",
     "iopub.status.idle": "2024-12-16T14:17:06.427363Z",
     "shell.execute_reply": "2024-12-16T14:17:06.427192Z"
    }
   },
   "outputs": [
    {
     "data": {
      "image/svg+xml": [
       "<?xml version=\"1.0\" encoding=\"UTF-8\" standalone=\"no\"?><svg xmlns=\"http://www.w3.org/2000/svg\" xmlns:xlink=\"http://www.w3.org/1999/xlink\" contentStyleType=\"text/css\" height=\"10px\" preserveAspectRatio=\"none\" style=\"width:10px;height:10px;background:#FFFFFF;\" version=\"1.1\" viewBox=\"0 0 10 10\" width=\"10px\" zoomAndPan=\"magnify\"><defs/><g><!--MD5=[db5337d1ba6fd3a35e07e04988169323]\n",
       "@startuml\r\n",
       "skin sysmlbw\r\n",
       "skinparam monochrome true\r\n",
       "skinparam wrapWidth 300\r\n",
       "hide circle\r\n",
       "skinparam linetype ortho\r\n",
       "\r\n",
       "@enduml\r\n",
       "\n",
       "PlantUML version 1.2022.7(Mon Aug 22 17:01:30 UTC 2022)\n",
       "(EPL source distribution)\n",
       "Java Runtime: OpenJDK Runtime Environment\n",
       "JVM: OpenJDK 64-Bit Server VM\n",
       "Default Encoding: UTF-8\n",
       "Language: en\n",
       "Country: null\n",
       "--></g></svg>"
      ]
     },
     "execution_count": 53,
     "metadata": {},
     "output_type": "execute_result"
    }
   ],
   "source": [
    "%viz --style=\"ORTHOLINE\" --view=\"State\" \"PrivateImportTest\""
   ]
  },
  {
   "cell_type": "code",
   "execution_count": 54,
   "id": "2ca6d9b9",
   "metadata": {
    "execution": {
     "iopub.execute_input": "2024-12-16T14:17:06.483321Z",
     "iopub.status.busy": "2024-12-16T14:17:06.482919Z",
     "iopub.status.idle": "2024-12-16T14:17:06.507722Z",
     "shell.execute_reply": "2024-12-16T14:17:06.506559Z"
    }
   },
   "outputs": [
    {
     "data": {
      "image/svg+xml": [
       "<?xml version=\"1.0\" encoding=\"UTF-8\" standalone=\"no\"?><svg xmlns=\"http://www.w3.org/2000/svg\" xmlns:xlink=\"http://www.w3.org/1999/xlink\" contentStyleType=\"text/css\" height=\"523px\" preserveAspectRatio=\"none\" style=\"width:480px;height:523px;background:#FFFFFF;\" version=\"1.1\" viewBox=\"0 0 480 523\" width=\"480px\" zoomAndPan=\"magnify\"><defs/><g><!--MD5=[fbc87193dbaf4d95561dea2c320d4a47]\n",
       "cluster E1--><g id=\"cluster_E1\"><a href=\"psysml:11a30fa2-fbeb-4b2d-a071-2781e63d5a12\" target=\"_top\" title=\"psysml:11a30fa2-fbeb-4b2d-a071-2781e63d5a12\" xlink:actuate=\"onRequest\" xlink:href=\"psysml:11a30fa2-fbeb-4b2d-a071-2781e63d5a12\" xlink:show=\"new\" xlink:title=\"psysml:11a30fa2-fbeb-4b2d-a071-2781e63d5a12\" xlink:type=\"simple\"><polygon fill=\"none\" points=\"65,6,199.4375,6,206.4375,28.2969,463,28.2969,463,516,65,516,65,6\" style=\"stroke:#000000;stroke-width:1.5;\"/><line style=\"stroke:#000000;stroke-width:1.5;\" x1=\"65\" x2=\"206.4375\" y1=\"28.2969\" y2=\"28.2969\"/><text fill=\"#000000\" font-family=\"sans-serif\" font-size=\"14\" font-weight=\"bold\" lengthAdjust=\"spacing\" textLength=\"128.4375\" x=\"69\" y=\"20.9951\">PrivateImportTest</text></a></g><!--MD5=[e4f7fae6ed58524ba242bb0b0d3be6b7]\n",
       "cluster E2--><g id=\"cluster_E2\"><a href=\"psysml:29bb8ef7-a50f-48a8-b243-dfabeed2550d\" target=\"_top\" title=\"psysml:29bb8ef7-a50f-48a8-b243-dfabeed2550d\" xlink:actuate=\"onRequest\" xlink:href=\"psysml:29bb8ef7-a50f-48a8-b243-dfabeed2550d\" xlink:show=\"new\" xlink:title=\"psysml:29bb8ef7-a50f-48a8-b243-dfabeed2550d\" xlink:type=\"simple\"><polygon fill=\"none\" points=\"281,364,305.875,364,312.875,386.2969,423,386.2969,423,476,281,476,281,364\" style=\"stroke:#000000;stroke-width:1.5;\"/><line style=\"stroke:#000000;stroke-width:1.5;\" x1=\"281\" x2=\"312.875\" y1=\"386.2969\" y2=\"386.2969\"/><text fill=\"#000000\" font-family=\"sans-serif\" font-size=\"14\" font-weight=\"bold\" lengthAdjust=\"spacing\" textLength=\"18.875\" x=\"285\" y=\"378.9951\">P1</text></a></g><!--MD5=[14e3b0961a2654348d326746436168a1]\n",
       "cluster E6--><g id=\"cluster_E6\"><a href=\"psysml:3afe7580-df30-4ff0-95e6-ec63d3638055\" target=\"_top\" title=\"psysml:3afe7580-df30-4ff0-95e6-ec63d3638055\" xlink:actuate=\"onRequest\" xlink:href=\"psysml:3afe7580-df30-4ff0-95e6-ec63d3638055\" xlink:show=\"new\" xlink:title=\"psysml:3afe7580-df30-4ff0-95e6-ec63d3638055\" xlink:type=\"simple\"><polygon fill=\"none\" points=\"113,212,137.875,212,144.875,234.2969,255,234.2969,255,324,113,324,113,212\" style=\"stroke:#000000;stroke-width:1.5;\"/><line style=\"stroke:#000000;stroke-width:1.5;\" x1=\"113\" x2=\"144.875\" y1=\"234.2969\" y2=\"234.2969\"/><text fill=\"#000000\" font-family=\"sans-serif\" font-size=\"14\" font-weight=\"bold\" lengthAdjust=\"spacing\" textLength=\"18.875\" x=\"117\" y=\"226.9951\">P3</text></a></g><!--MD5=[7f149f147074ac12df2cb0a7728a5fb0]\n",
       "cluster E9--><g id=\"cluster_E9\"><a href=\"psysml:a1b56716-f996-4480-88b0-3733f2d7733c\" target=\"_top\" title=\"psysml:a1b56716-f996-4480-88b0-3733f2d7733c\" xlink:actuate=\"onRequest\" xlink:href=\"psysml:a1b56716-f996-4480-88b0-3733f2d7733c\" xlink:show=\"new\" xlink:title=\"psysml:a1b56716-f996-4480-88b0-3733f2d7733c\" xlink:type=\"simple\"><polygon fill=\"none\" points=\"298,65,322.875,65,329.875,87.2969,415,87.2969,415,172,298,172,298,65\" style=\"stroke:#000000;stroke-width:1.5;\"/><line style=\"stroke:#000000;stroke-width:1.5;\" x1=\"298\" x2=\"329.875\" y1=\"87.2969\" y2=\"87.2969\"/><text fill=\"#000000\" font-family=\"sans-serif\" font-size=\"14\" font-weight=\"bold\" lengthAdjust=\"spacing\" textLength=\"18.875\" x=\"302\" y=\"79.9951\">P4</text></a></g><g><a href=\"psysml:5dfb8e4e-b010-43d6-9ea6-8d8096aa0cbd\" target=\"_top\" title=\"psysml:5dfb8e4e-b010-43d6-9ea6-8d8096aa0cbd\" xlink:actuate=\"onRequest\" xlink:href=\"psysml:5dfb8e4e-b010-43d6-9ea6-8d8096aa0cbd\" xlink:show=\"new\" xlink:title=\"psysml:5dfb8e4e-b010-43d6-9ea6-8d8096aa0cbd\" xlink:type=\"simple\"><rect fill=\"#FFFFFF\" height=\"45.2656\" id=\"E3\" style=\"stroke:#383838;stroke-width:1.5;\" width=\"75\" x=\"324.5\" y=\"407\"/><text fill=\"#000000\" font-family=\"sans-serif\" font-size=\"12\" font-style=\"italic\" lengthAdjust=\"spacing\" textLength=\"68\" x=\"328\" y=\"423.1387\">«part  def»</text><text fill=\"#000000\" font-family=\"sans-serif\" font-size=\"14\" lengthAdjust=\"spacing\" textLength=\"9\" x=\"357.5\" y=\"438.9639\">A</text></a></g><a href=\"psysml:6d745f5d-a6bd-48d3-bb38-b4db6224b450\" target=\"_top\" title=\"psysml:6d745f5d-a6bd-48d3-bb38-b4db6224b450\" xlink:actuate=\"onRequest\" xlink:href=\"psysml:6d745f5d-a6bd-48d3-bb38-b4db6224b450\" xlink:show=\"new\" xlink:title=\"psysml:6d745f5d-a6bd-48d3-bb38-b4db6224b450\" xlink:type=\"simple\"><polygon fill=\"#FFFFFF\" points=\"279,251,303,251,310,273.2969,317,273.2969,317,303.5938,279,303.5938,279,251\" style=\"stroke:#181818;stroke-width:0.5;\"/><line style=\"stroke:#181818;stroke-width:0.5;\" x1=\"279\" x2=\"310\" y1=\"273.2969\" y2=\"273.2969\"/><text fill=\"#000000\" font-family=\"sans-serif\" font-size=\"14\" lengthAdjust=\"spacing\" textLength=\"18\" x=\"283\" y=\"265.9951\">P2</text></a><g><a href=\"psysml:fd0b961b-4bae-44e8-b09a-9c87fac280e3\" target=\"_top\" title=\"psysml:fd0b961b-4bae-44e8-b09a-9c87fac280e3\" xlink:actuate=\"onRequest\" xlink:href=\"psysml:fd0b961b-4bae-44e8-b09a-9c87fac280e3\" xlink:show=\"new\" xlink:title=\"psysml:fd0b961b-4bae-44e8-b09a-9c87fac280e3\" xlink:type=\"simple\"><rect fill=\"#FFFFFF\" height=\"40\" id=\"E5\" rx=\"10\" ry=\"10\" style=\"stroke:#383838;stroke-width:1.5;\" width=\"50\" x=\"352\" y=\"257.5\"/><text fill=\"#000000\" font-family=\"sans-serif\" font-size=\"14\" lengthAdjust=\"spacing\" textLength=\"25\" x=\"364.5\" y=\"275.4951\">x: A</text></a></g><g><a href=\"psysml:05031283-db67-47ce-b074-a753e1e8519b\" target=\"_top\" title=\"psysml:05031283-db67-47ce-b074-a753e1e8519b\" xlink:actuate=\"onRequest\" xlink:href=\"psysml:05031283-db67-47ce-b074-a753e1e8519b\" xlink:show=\"new\" xlink:title=\"psysml:05031283-db67-47ce-b074-a753e1e8519b\" xlink:type=\"simple\"><rect fill=\"#FFFFFF\" height=\"45.2656\" id=\"E7\" style=\"stroke:#383838;stroke-width:1.5;\" width=\"75\" x=\"156.5\" y=\"255\"/><text fill=\"#000000\" font-family=\"sans-serif\" font-size=\"12\" font-style=\"italic\" lengthAdjust=\"spacing\" textLength=\"68\" x=\"160\" y=\"271.1387\">«part  def»</text><text fill=\"#000000\" font-family=\"sans-serif\" font-size=\"14\" lengthAdjust=\"spacing\" textLength=\"10\" x=\"189\" y=\"286.9639\">B</text></a></g><g><a href=\"psysml:87e3ce51-5094-4f5d-8d11-feac4ad1e872\" target=\"_top\" title=\"psysml:87e3ce51-5094-4f5d-8d11-feac4ad1e872\" xlink:actuate=\"onRequest\" xlink:href=\"psysml:87e3ce51-5094-4f5d-8d11-feac4ad1e872\" xlink:show=\"new\" xlink:title=\"psysml:87e3ce51-5094-4f5d-8d11-feac4ad1e872\" xlink:type=\"simple\"><rect fill=\"#FFFFFF\" height=\"40\" id=\"E8\" rx=\"10\" ry=\"10\" style=\"stroke:#383838;stroke-width:1.5;\" width=\"50\" x=\"169\" y=\"108\"/><text fill=\"#000000\" font-family=\"sans-serif\" font-size=\"14\" lengthAdjust=\"spacing\" textLength=\"27\" x=\"180.5\" y=\"125.9951\">z: B</text></a></g><g><a href=\"psysml:630baa2a-121f-4da7-a3fd-6c76e707d010\" target=\"_top\" title=\"psysml:630baa2a-121f-4da7-a3fd-6c76e707d010\" xlink:actuate=\"onRequest\" xlink:href=\"psysml:630baa2a-121f-4da7-a3fd-6c76e707d010\" xlink:show=\"new\" xlink:title=\"psysml:630baa2a-121f-4da7-a3fd-6c76e707d010\" xlink:type=\"simple\"><rect fill=\"#FFFFFF\" height=\"40\" id=\"E10\" rx=\"10\" ry=\"10\" style=\"stroke:#383838;stroke-width:1.5;\" width=\"50\" x=\"341\" y=\"108\"/><text fill=\"#000000\" font-family=\"sans-serif\" font-size=\"14\" lengthAdjust=\"spacing\" textLength=\"35\" x=\"348.5\" y=\"125.9951\">z1: A</text></a></g><!--MD5=[185131fc0dcab0a4505a2ebe144e961b]\n",
       "link E4 to E2--><g id=\"link_E4_E2\"><a href=\"psysml:0487f209-9870-4837-a273-e80eaf0041e3\" target=\"_top\" title=\"psysml:0487f209-9870-4837-a273-e80eaf0041e3\" xlink:actuate=\"onRequest\" xlink:href=\"psysml:0487f209-9870-4837-a273-e80eaf0041e3\" xlink:show=\"new\" xlink:title=\"psysml:0487f209-9870-4837-a273-e80eaf0041e3\" xlink:type=\"simple\"><path d=\"M289,304.32 C289,314.72 289,327.2713 289,340.358 C289,346.9013 289,353.5786 289,360.1877 C289,361.0138 289,361.8389 289,362.6625 C289,363.0743 289,363.4858 289,363.8968 \" fill=\"none\" id=\"E4-to-E2\" style=\"stroke:#181818;stroke-width:1.0;stroke-dasharray:7.0,7.0;\"/><polygon fill=\"#181818\" points=\"289,363.8968,293,354.8968,289,358.8968,285,354.8968,289,363.8968\" style=\"stroke:#181818;stroke-width:1.0;\"/><text fill=\"#000000\" font-family=\"sans-serif\" font-size=\"13\" lengthAdjust=\"spacing\" textLength=\"65\" x=\"223\" y=\"362.7169\">«import»*</text></a></g><!--MD5=[e9be52314489bd878ff4c7144b63c9e1]\n",
       "link E5 to E3--><g id=\"link_E5_E3\"><a href=\"psysml:fdb905ca-fd31-45b2-b41e-28dfb09dbd5e\" target=\"_top\" title=\"psysml:fdb905ca-fd31-45b2-b41e-28dfb09dbd5e\" xlink:actuate=\"onRequest\" xlink:href=\"psysml:fdb905ca-fd31-45b2-b41e-28dfb09dbd5e\" xlink:show=\"new\" xlink:title=\"psysml:fdb905ca-fd31-45b2-b41e-28dfb09dbd5e\" xlink:type=\"simple\"><path d=\"M375.75,297.68 C375.75,297.68 375.75,386.75 375.75,386.75 \" fill=\"none\" id=\"E5-to-E3\" style=\"stroke:#181818;stroke-width:1.0;\"/><polygon fill=\"#FFFFFF\" points=\"375.75,406.75,368.75,387.75,382.75,387.75,375.75,406.75\" style=\"stroke:#181818;stroke-width:1.0;\"/><ellipse cx=\"370.75\" cy=\"382.05\" fill=\"#181818\" rx=\"2\" ry=\"2\" style=\"stroke:#181818;stroke-width:1.0;\"/><ellipse cx=\"380.75\" cy=\"382.05\" fill=\"#181818\" rx=\"2\" ry=\"2\" style=\"stroke:#181818;stroke-width:1.0;\"/></a></g><!--MD5=[ee384bb554873b72f85793eae40e290c]\n",
       "link E1 to E4--><g id=\"link_E1_E4\"><a href=\"psysml:60fcb482-826b-48b1-b5dc-27f8a317149a\" target=\"_top\" title=\"psysml:60fcb482-826b-48b1-b5dc-27f8a317149a\" xlink:actuate=\"onRequest\" xlink:href=\"psysml:60fcb482-826b-48b1-b5dc-27f8a317149a\" xlink:show=\"new\" xlink:title=\"psysml:60fcb482-826b-48b1-b5dc-27f8a317149a\" xlink:type=\"simple\"><path d=\"M73,127.57 C73,123.4 73,90 73,90 C73,90 292,90 292,90 C292,90 292,245.64 292,245.64 \" fill=\"none\" id=\"E1-to-E4\" style=\"stroke:#181818;stroke-width:1.0;stroke-dasharray:7.0,7.0;\"/><polygon fill=\"#181818\" points=\"292,250.64,296,241.64,292,245.64,288,241.64,292,250.64\" style=\"stroke:#181818;stroke-width:1.0;\"/><text fill=\"#000000\" font-family=\"sans-serif\" font-size=\"13\" lengthAdjust=\"spacing\" textLength=\"65\" x=\"175.53\" y=\"86.0669\">«import»*</text></a></g><!--MD5=[ccbd3af71bf83df0ec2a2db62d6d7130]\n",
       "link E1 to E6--><g id=\"link_E1_E6\"><a href=\"psysml:37c9a4c7-80e6-494a-a65a-d8ec35cca65c\" target=\"_top\" title=\"psysml:37c9a4c7-80e6-494a-a65a-d8ec35cca65c\" xlink:actuate=\"onRequest\" xlink:href=\"psysml:37c9a4c7-80e6-494a-a65a-d8ec35cca65c\" xlink:show=\"new\" xlink:title=\"psysml:37c9a4c7-80e6-494a-a65a-d8ec35cca65c\" xlink:type=\"simple\"><path d=\"M73,128.43 C73,137.23 73,278 73,278 C73,278 84.2625,278 95.8763,278 C101.6831,278 107.5778,278 112.1964,278 C112.3407,278 112.4838,278 112.6256,278 C112.6965,278 112.7671,278 112.8373,278 \" fill=\"none\" id=\"E1-to-E6\" style=\"stroke:#181818;stroke-width:1.0;stroke-dasharray:7.0,7.0;\"/><polygon fill=\"#181818\" points=\"112.8373,278,103.8373,274,107.8373,278,103.8373,282,112.8373,278\" style=\"stroke:#181818;stroke-width:1.0;\"/><text fill=\"#000000\" font-family=\"sans-serif\" font-size=\"13\" lengthAdjust=\"spacing\" textLength=\"65\" x=\"7\" y=\"223.2169\">«import»*</text></a></g><!--MD5=[bfa3c8b0d15052fdf50ae9310b491027]\n",
       "link E8 to E7--><g id=\"link_E8_E7\"><a href=\"psysml:f605a3b7-992a-46f2-9cbf-567dae0e656e\" target=\"_top\" title=\"psysml:f605a3b7-992a-46f2-9cbf-567dae0e656e\" xlink:actuate=\"onRequest\" xlink:href=\"psysml:f605a3b7-992a-46f2-9cbf-567dae0e656e\" xlink:show=\"new\" xlink:title=\"psysml:f605a3b7-992a-46f2-9cbf-567dae0e656e\" xlink:type=\"simple\"><path d=\"M194,148.16 C194,148.16 194,234.73 194,234.73 \" fill=\"none\" id=\"E8-to-E7\" style=\"stroke:#181818;stroke-width:1.0;\"/><polygon fill=\"#FFFFFF\" points=\"194,254.73,187,235.73,201,235.73,194,254.73\" style=\"stroke:#181818;stroke-width:1.0;\"/><ellipse cx=\"189\" cy=\"230.03\" fill=\"#181818\" rx=\"2\" ry=\"2\" style=\"stroke:#181818;stroke-width:1.0;\"/><ellipse cx=\"199\" cy=\"230.03\" fill=\"#181818\" rx=\"2\" ry=\"2\" style=\"stroke:#181818;stroke-width:1.0;\"/></a></g><!--MD5=[c2be97adba6ddfe1c8f349fab141c927]\n",
       "link E9 to E4--><g id=\"link_E9_E4\"><a href=\"psysml:f74e7f7d-bc69-4c36-9a7b-616abfb119b1\" target=\"_top\" title=\"psysml:f74e7f7d-bc69-4c36-9a7b-616abfb119b1\" xlink:actuate=\"onRequest\" xlink:href=\"psysml:f74e7f7d-bc69-4c36-9a7b-616abfb119b1\" xlink:show=\"new\" xlink:title=\"psysml:f74e7f7d-bc69-4c36-9a7b-616abfb119b1\" xlink:type=\"simple\"><path d=\"M306,172.1789 C306,172.6243 306,173.0709 306,173.5187 C306,174.4142 306,175.3141 306,176.2177 C306,179.8319 306,183.5034 306,187.175 C306,216.5475 306,245.92 306,245.92 \" fill=\"none\" id=\"E9-to-E4\" style=\"stroke:#181818;stroke-width:1.0;stroke-dasharray:7.0,7.0;\"/><polygon fill=\"#181818\" points=\"306,250.92,310,241.92,306,245.92,302,241.92,306,250.92\" style=\"stroke:#181818;stroke-width:1.0;\"/><text fill=\"#000000\" font-family=\"sans-serif\" font-size=\"13\" lengthAdjust=\"spacing\" textLength=\"65\" x=\"240\" y=\"183.2469\">«import»*</text></a></g><!--MD5=[feeac5eb423634930294aa81f2d25a4c]\n",
       "link E10 to E3--><g id=\"link_E10_E3\"><a href=\"psysml:7688159c-03f6-437a-9242-bafcaad292a9\" target=\"_top\" title=\"psysml:7688159c-03f6-437a-9242-bafcaad292a9\" xlink:actuate=\"onRequest\" xlink:href=\"psysml:7688159c-03f6-437a-9242-bafcaad292a9\" xlink:show=\"new\" xlink:title=\"psysml:7688159c-03f6-437a-9242-bafcaad292a9\" xlink:type=\"simple\"><path d=\"M346.5,148.25 C346.5,148.25 346.5,386.91 346.5,386.91 \" fill=\"none\" id=\"E10-to-E3\" style=\"stroke:#181818;stroke-width:1.0;\"/><polygon fill=\"#FFFFFF\" points=\"346.5,406.91,339.5,387.91,353.5,387.91,346.5,406.91\" style=\"stroke:#181818;stroke-width:1.0;\"/><ellipse cx=\"341.5\" cy=\"382.21\" fill=\"#181818\" rx=\"2\" ry=\"2\" style=\"stroke:#181818;stroke-width:1.0;\"/><ellipse cx=\"351.5\" cy=\"382.21\" fill=\"#181818\" rx=\"2\" ry=\"2\" style=\"stroke:#181818;stroke-width:1.0;\"/></a></g><!--MD5=[4f2f88217982dc5a910b09883cf6d64a]\n",
       "@startuml\r\n",
       "skin sysmlbw\r\n",
       "skinparam monochrome true\r\n",
       "skinparam wrapWidth 300\r\n",
       "hide circle\r\n",
       "skinparam linetype ortho\r\n",
       "skinparam ranksep 10\r\n",
       "skinparam rectangle {\r\n",
       " backgroundColor<<block>> LightGreen\r\n",
       "}\r\n",
       "\r\n",
       "package \"PrivateImportTest\" as E1  [[psysml:11a30fa2-fbeb-4b2d-a071-2781e63d5a12 ]]  {\r\n",
       "package \"P1\" as E2  [[psysml:29bb8ef7-a50f-48a8-b243-dfabeed2550d ]]  {\r\n",
       "rec def \"A\" as E3  <<(T,blue) part  def>> [[psysml:5dfb8e4e-b010-43d6-9ea6-8d8096aa0cbd ]] {\r\n",
       "}\r\n",
       "}\r\n",
       "package \"P2\" as E4  [[psysml:6d745f5d-a6bd-48d3-bb38-b4db6224b450 ]]  {\r\n",
       "}\r\n",
       "rec usage \"x: A\" as E5 [[psysml:fd0b961b-4bae-44e8-b09a-9c87fac280e3 ]] {\r\n",
       "}\r\n",
       "package \"P3\" as E6  [[psysml:3afe7580-df30-4ff0-95e6-ec63d3638055 ]]  {\r\n",
       "rec def \"B\" as E7  <<(T,blue) part  def>> [[psysml:05031283-db67-47ce-b074-a753e1e8519b ]] {\r\n",
       "}\r\n",
       "}\r\n",
       "rec usage \"z: B\" as E8 [[psysml:87e3ce51-5094-4f5d-8d11-feac4ad1e872 ]] {\r\n",
       "}\r\n",
       "package \"P4\" as E9  [[psysml:a1b56716-f996-4480-88b0-3733f2d7733c ]]  {\r\n",
       "rec usage \"z1: A\" as E10 [[psysml:630baa2a-121f-4da7-a3fd-6c76e707d010 ]] {\r\n",
       "}\r\n",
       "}\r\n",
       "}\r\n",
       "E4 ..> E2 [[psysml:0487f209-9870-4837-a273-e80eaf0041e3 ]] : <<import>>*\r\n",
       "E5 - -:|> E3 [[psysml:fdb905ca-fd31-45b2-b41e-28dfb09dbd5e ]] \r\n",
       "E1 ..> E4 [[psysml:60fcb482-826b-48b1-b5dc-27f8a317149a ]] : <<import>>*\r\n",
       "E1 ..> E6 [[psysml:37c9a4c7-80e6-494a-a65a-d8ec35cca65c ]] : <<import>>*\r\n",
       "E8 - -:|> E7 [[psysml:f605a3b7-992a-46f2-9cbf-567dae0e656e ]] \r\n",
       "E9 ..> E4 [[psysml:f74e7f7d-bc69-4c36-9a7b-616abfb119b1 ]] : <<import>>*\r\n",
       "E10 - -:|> E3 [[psysml:7688159c-03f6-437a-9242-bafcaad292a9 ]] \r\n",
       "@enduml\r\n",
       "\n",
       "PlantUML version 1.2022.7(Mon Aug 22 17:01:30 UTC 2022)\n",
       "(EPL source distribution)\n",
       "Java Runtime: OpenJDK Runtime Environment\n",
       "JVM: OpenJDK 64-Bit Server VM\n",
       "Default Encoding: UTF-8\n",
       "Language: en\n",
       "Country: null\n",
       "--></g></svg>"
      ]
     },
     "execution_count": 54,
     "metadata": {},
     "output_type": "execute_result"
    }
   ],
   "source": [
    "%viz --style=\"ORTHOLINE\" --view=\"Interconnection\" \"PrivateImportTest\""
   ]
  },
  {
   "cell_type": "code",
   "execution_count": 55,
   "id": "f5330894",
   "metadata": {
    "execution": {
     "iopub.execute_input": "2024-12-16T14:17:06.558544Z",
     "iopub.status.busy": "2024-12-16T14:17:06.558315Z",
     "iopub.status.idle": "2024-12-16T14:17:06.563677Z",
     "shell.execute_reply": "2024-12-16T14:17:06.563372Z"
    }
   },
   "outputs": [
    {
     "data": {
      "image/svg+xml": [
       "<?xml version=\"1.0\" encoding=\"UTF-8\" standalone=\"no\"?><svg xmlns=\"http://www.w3.org/2000/svg\" xmlns:xlink=\"http://www.w3.org/1999/xlink\" contentStyleType=\"text/css\" height=\"10px\" preserveAspectRatio=\"none\" style=\"width:10px;height:10px;background:#FFFFFF;\" version=\"1.1\" viewBox=\"0 0 10 10\" width=\"10px\" zoomAndPan=\"magnify\"><defs/><g><!--MD5=[13654d10b9e2b79db36f00fd31e63fb2]\n",
       "@startuml\r\n",
       "skin sysmlbw\r\n",
       "skinparam monochrome true\r\n",
       "skinparam wrapWidth 300\r\n",
       "hide circle\r\n",
       "skinparam linetype ortho\r\n",
       "skinparam ranksep 8\r\n",
       "\r\n",
       "@enduml\r\n",
       "\n",
       "PlantUML version 1.2022.7(Mon Aug 22 17:01:30 UTC 2022)\n",
       "(EPL source distribution)\n",
       "Java Runtime: OpenJDK Runtime Environment\n",
       "JVM: OpenJDK 64-Bit Server VM\n",
       "Default Encoding: UTF-8\n",
       "Language: en\n",
       "Country: null\n",
       "--></g></svg>"
      ]
     },
     "execution_count": 55,
     "metadata": {},
     "output_type": "execute_result"
    }
   ],
   "source": [
    "%viz --style=\"ORTHOLINE\" --view=\"Action\" \"PrivateImportTest\""
   ]
  },
  {
   "cell_type": "code",
   "execution_count": 56,
   "id": "946f5b73",
   "metadata": {
    "execution": {
     "iopub.execute_input": "2024-12-16T14:17:06.620227Z",
     "iopub.status.busy": "2024-12-16T14:17:06.619961Z",
     "iopub.status.idle": "2024-12-16T14:17:06.624694Z",
     "shell.execute_reply": "2024-12-16T14:17:06.624493Z"
    }
   },
   "outputs": [
    {
     "data": {
      "image/svg+xml": [
       "<?xml version=\"1.0\" encoding=\"UTF-8\" standalone=\"no\"?><svg xmlns=\"http://www.w3.org/2000/svg\" xmlns:xlink=\"http://www.w3.org/1999/xlink\" contentStyleType=\"text/css\" height=\"10px\" preserveAspectRatio=\"none\" style=\"width:10px;height:10px;background:#FFFFFF;\" version=\"1.1\" viewBox=\"0 0 10 10\" width=\"10px\" zoomAndPan=\"magnify\"><defs/><g><!--MD5=[5b6eb85285460e34b0e63326afe72cc5]\n",
       "@startuml\r\n",
       "skin sysmlbw\r\n",
       "skinparam monochrome true\r\n",
       "skinparam wrapWidth 300\r\n",
       "hide circle\r\n",
       "skinparam linetype ortho\r\n",
       "skinparam roundcorner 20\r\n",
       "skinparam BoxPadding 20\r\n",
       "skinparam SequenceBoxBackgroundColor #white\r\n",
       "skinparam style strictuml\r\n",
       "skinparam maxMessageSize 100\r\n",
       "\r\n",
       "@enduml\r\n",
       "\n",
       "PlantUML version 1.2022.7(Mon Aug 22 17:01:30 UTC 2022)\n",
       "(EPL source distribution)\n",
       "Java Runtime: OpenJDK Runtime Environment\n",
       "JVM: OpenJDK 64-Bit Server VM\n",
       "Default Encoding: UTF-8\n",
       "Language: en\n",
       "Country: null\n",
       "--></g></svg>"
      ]
     },
     "execution_count": 56,
     "metadata": {},
     "output_type": "execute_result"
    }
   ],
   "source": [
    "%viz --style=\"ORTHOLINE\" --view=\"Sequence\" \"PrivateImportTest\""
   ]
  },
  {
   "cell_type": "code",
   "execution_count": 57,
   "id": "5b2d85a0",
   "metadata": {
    "execution": {
     "iopub.execute_input": "2024-12-16T14:17:06.678711Z",
     "iopub.status.busy": "2024-12-16T14:17:06.678466Z",
     "iopub.status.idle": "2024-12-16T14:17:06.697155Z",
     "shell.execute_reply": "2024-12-16T14:17:06.696099Z"
    }
   },
   "outputs": [
    {
     "data": {
      "image/svg+xml": [
       "<?xml version=\"1.0\" encoding=\"UTF-8\" standalone=\"no\"?><svg xmlns=\"http://www.w3.org/2000/svg\" xmlns:xlink=\"http://www.w3.org/1999/xlink\" contentStyleType=\"text/css\" height=\"537px\" preserveAspectRatio=\"none\" style=\"width:419px;height:537px;background:#FFFFFF;\" version=\"1.1\" viewBox=\"0 0 419 537\" width=\"419px\" zoomAndPan=\"magnify\"><defs/><g><!--MD5=[fbc87193dbaf4d95561dea2c320d4a47]\n",
       "cluster E1--><g id=\"cluster_E1\"><a href=\"psysml:11a30fa2-fbeb-4b2d-a071-2781e63d5a12\" target=\"_top\" title=\"psysml:11a30fa2-fbeb-4b2d-a071-2781e63d5a12\" xlink:actuate=\"onRequest\" xlink:href=\"psysml:11a30fa2-fbeb-4b2d-a071-2781e63d5a12\" xlink:show=\"new\" xlink:title=\"psysml:11a30fa2-fbeb-4b2d-a071-2781e63d5a12\" xlink:type=\"simple\"><polygon fill=\"none\" points=\"17,6,151.4375,6,158.4375,28.2969,402,28.2969,402,530,17,530,17,6\" style=\"stroke:#000000;stroke-width:1.5;\"/><line style=\"stroke:#000000;stroke-width:1.5;\" x1=\"17\" x2=\"158.4375\" y1=\"28.2969\" y2=\"28.2969\"/><text fill=\"#000000\" font-family=\"sans-serif\" font-size=\"14\" font-weight=\"bold\" lengthAdjust=\"spacing\" textLength=\"128.4375\" x=\"21\" y=\"20.9951\">PrivateImportTest</text></a></g><!--MD5=[e4f7fae6ed58524ba242bb0b0d3be6b7]\n",
       "cluster E2--><g id=\"cluster_E2\"><a href=\"psysml:29bb8ef7-a50f-48a8-b243-dfabeed2550d\" target=\"_top\" title=\"psysml:29bb8ef7-a50f-48a8-b243-dfabeed2550d\" xlink:actuate=\"onRequest\" xlink:href=\"psysml:29bb8ef7-a50f-48a8-b243-dfabeed2550d\" xlink:show=\"new\" xlink:title=\"psysml:29bb8ef7-a50f-48a8-b243-dfabeed2550d\" xlink:type=\"simple\"><polygon fill=\"none\" points=\"225,375,249.875,375,256.875,397.2969,362,397.2969,362,490,225,490,225,375\" style=\"stroke:#000000;stroke-width:1.5;\"/><line style=\"stroke:#000000;stroke-width:1.5;\" x1=\"225\" x2=\"256.875\" y1=\"397.2969\" y2=\"397.2969\"/><text fill=\"#000000\" font-family=\"sans-serif\" font-size=\"14\" font-weight=\"bold\" lengthAdjust=\"spacing\" textLength=\"18.875\" x=\"229\" y=\"389.9951\">P1</text></a></g><!--MD5=[14e3b0961a2654348d326746436168a1]\n",
       "cluster E6--><g id=\"cluster_E6\"><a href=\"psysml:3afe7580-df30-4ff0-95e6-ec63d3638055\" target=\"_top\" title=\"psysml:3afe7580-df30-4ff0-95e6-ec63d3638055\" xlink:actuate=\"onRequest\" xlink:href=\"psysml:3afe7580-df30-4ff0-95e6-ec63d3638055\" xlink:show=\"new\" xlink:title=\"psysml:3afe7580-df30-4ff0-95e6-ec63d3638055\" xlink:type=\"simple\"><polygon fill=\"none\" points=\"65,220,89.875,220,96.875,242.2969,202,242.2969,202,335,65,335,65,220\" style=\"stroke:#000000;stroke-width:1.5;\"/><line style=\"stroke:#000000;stroke-width:1.5;\" x1=\"65\" x2=\"96.875\" y1=\"242.2969\" y2=\"242.2969\"/><text fill=\"#000000\" font-family=\"sans-serif\" font-size=\"14\" font-weight=\"bold\" lengthAdjust=\"spacing\" textLength=\"18.875\" x=\"69\" y=\"234.9951\">P3</text></a></g><!--MD5=[7f149f147074ac12df2cb0a7728a5fb0]\n",
       "cluster E9--><g id=\"cluster_E9\"><a href=\"psysml:a1b56716-f996-4480-88b0-3733f2d7733c\" target=\"_top\" title=\"psysml:a1b56716-f996-4480-88b0-3733f2d7733c\" xlink:actuate=\"onRequest\" xlink:href=\"psysml:a1b56716-f996-4480-88b0-3733f2d7733c\" xlink:show=\"new\" xlink:title=\"psysml:a1b56716-f996-4480-88b0-3733f2d7733c\" xlink:type=\"simple\"><polygon fill=\"none\" points=\"241,65,265.875,65,272.875,87.2969,358,87.2969,358,180,241,180,241,65\" style=\"stroke:#000000;stroke-width:1.5;\"/><line style=\"stroke:#000000;stroke-width:1.5;\" x1=\"241\" x2=\"272.875\" y1=\"87.2969\" y2=\"87.2969\"/><text fill=\"#000000\" font-family=\"sans-serif\" font-size=\"14\" font-weight=\"bold\" lengthAdjust=\"spacing\" textLength=\"18.875\" x=\"245\" y=\"79.9951\">P4</text></a></g><!--MD5=[270fce915f116d4de14055a7c1d9a0f3]\n",
       "class E5--><a href=\"psysml:fd0b961b-4bae-44e8-b09a-9c87fac280e3\" target=\"_top\" title=\"psysml:fd0b961b-4bae-44e8-b09a-9c87fac280e3\" xlink:actuate=\"onRequest\" xlink:href=\"psysml:fd0b961b-4bae-44e8-b09a-9c87fac280e3\" xlink:show=\"new\" xlink:title=\"psysml:fd0b961b-4bae-44e8-b09a-9c87fac280e3\" xlink:type=\"simple\"><g id=\"elem_E5\"><rect fill=\"#FFFFFF\" height=\"48.2656\" id=\"E5\" rx=\"10\" ry=\"10\" style=\"stroke:#181818;stroke-width:0.5;\" width=\"42\" x=\"299\" y=\"263\"/><text fill=\"#000000\" font-family=\"sans-serif\" font-size=\"12\" font-style=\"italic\" lengthAdjust=\"spacing\" textLength=\"40\" x=\"300\" y=\"279.1387\">«part»</text><text fill=\"#000000\" font-family=\"sans-serif\" font-size=\"14\" lengthAdjust=\"spacing\" textLength=\"25\" x=\"303.5\" y=\"294.9639\">x: A</text><line style=\"stroke:#181818;stroke-width:0.5;\" x1=\"300\" x2=\"340\" y1=\"303.2656\" y2=\"303.2656\"/></g></a><!--MD5=[b9389687b975829384b498ac4b7476b2]\n",
       "class E8--><a href=\"psysml:87e3ce51-5094-4f5d-8d11-feac4ad1e872\" target=\"_top\" title=\"psysml:87e3ce51-5094-4f5d-8d11-feac4ad1e872\" xlink:actuate=\"onRequest\" xlink:href=\"psysml:87e3ce51-5094-4f5d-8d11-feac4ad1e872\" xlink:show=\"new\" xlink:title=\"psysml:87e3ce51-5094-4f5d-8d11-feac4ad1e872\" xlink:type=\"simple\"><g id=\"elem_E8\"><rect fill=\"#FFFFFF\" height=\"48.2656\" id=\"E8\" rx=\"10\" ry=\"10\" style=\"stroke:#181818;stroke-width:0.5;\" width=\"42\" x=\"122\" y=\"108\"/><text fill=\"#000000\" font-family=\"sans-serif\" font-size=\"12\" font-style=\"italic\" lengthAdjust=\"spacing\" textLength=\"40\" x=\"123\" y=\"124.1387\">«part»</text><text fill=\"#000000\" font-family=\"sans-serif\" font-size=\"14\" lengthAdjust=\"spacing\" textLength=\"27\" x=\"125.5\" y=\"139.9639\">z: B</text><line style=\"stroke:#181818;stroke-width:0.5;\" x1=\"123\" x2=\"163\" y1=\"148.2656\" y2=\"148.2656\"/></g></a><!--MD5=[09b614a08d8cba4a07c9adeb5e0fee81]\n",
       "class E3--><a href=\"psysml:5dfb8e4e-b010-43d6-9ea6-8d8096aa0cbd\" target=\"_top\" title=\"psysml:5dfb8e4e-b010-43d6-9ea6-8d8096aa0cbd\" xlink:actuate=\"onRequest\" xlink:href=\"psysml:5dfb8e4e-b010-43d6-9ea6-8d8096aa0cbd\" xlink:show=\"new\" xlink:title=\"psysml:5dfb8e4e-b010-43d6-9ea6-8d8096aa0cbd\" xlink:type=\"simple\"><g id=\"elem_E3\"><rect fill=\"#FFFFFF\" height=\"48.2656\" id=\"E3\" style=\"stroke:#181818;stroke-width:0.5;\" width=\"70\" x=\"268\" y=\"418\"/><text fill=\"#000000\" font-family=\"sans-serif\" font-size=\"12\" font-style=\"italic\" lengthAdjust=\"spacing\" textLength=\"68\" x=\"269\" y=\"434.1387\">«part  def»</text><text fill=\"#000000\" font-family=\"sans-serif\" font-size=\"14\" lengthAdjust=\"spacing\" textLength=\"9\" x=\"298.5\" y=\"449.9639\">A</text><line style=\"stroke:#181818;stroke-width:0.5;\" x1=\"269\" x2=\"337\" y1=\"458.2656\" y2=\"458.2656\"/></g></a><a href=\"psysml:6d745f5d-a6bd-48d3-bb38-b4db6224b450\" target=\"_top\" title=\"psysml:6d745f5d-a6bd-48d3-bb38-b4db6224b450\" xlink:actuate=\"onRequest\" xlink:href=\"psysml:6d745f5d-a6bd-48d3-bb38-b4db6224b450\" xlink:show=\"new\" xlink:title=\"psysml:6d745f5d-a6bd-48d3-bb38-b4db6224b450\" xlink:type=\"simple\"><polygon fill=\"#FFFFFF\" points=\"226,260.5,250,260.5,257,282.7969,264,282.7969,264,313.0938,226,313.0938,226,260.5\" style=\"stroke:#181818;stroke-width:0.5;\"/><line style=\"stroke:#181818;stroke-width:0.5;\" x1=\"226\" x2=\"257\" y1=\"282.7969\" y2=\"282.7969\"/><text fill=\"#000000\" font-family=\"sans-serif\" font-size=\"14\" lengthAdjust=\"spacing\" textLength=\"18\" x=\"230\" y=\"275.4951\">P2</text></a><!--MD5=[2156ba9850f5573cc1fc38a6a4b2f02b]\n",
       "class E7--><a href=\"psysml:05031283-db67-47ce-b074-a753e1e8519b\" target=\"_top\" title=\"psysml:05031283-db67-47ce-b074-a753e1e8519b\" xlink:actuate=\"onRequest\" xlink:href=\"psysml:05031283-db67-47ce-b074-a753e1e8519b\" xlink:show=\"new\" xlink:title=\"psysml:05031283-db67-47ce-b074-a753e1e8519b\" xlink:type=\"simple\"><g id=\"elem_E7\"><rect fill=\"#FFFFFF\" height=\"48.2656\" id=\"E7\" style=\"stroke:#181818;stroke-width:0.5;\" width=\"70\" x=\"108\" y=\"263\"/><text fill=\"#000000\" font-family=\"sans-serif\" font-size=\"12\" font-style=\"italic\" lengthAdjust=\"spacing\" textLength=\"68\" x=\"109\" y=\"279.1387\">«part  def»</text><text fill=\"#000000\" font-family=\"sans-serif\" font-size=\"14\" lengthAdjust=\"spacing\" textLength=\"10\" x=\"138\" y=\"294.9639\">B</text><line style=\"stroke:#181818;stroke-width:0.5;\" x1=\"109\" x2=\"177\" y1=\"303.2656\" y2=\"303.2656\"/></g></a><!--MD5=[96f4274e9e20536e775497830990834d]\n",
       "class E10--><a href=\"psysml:630baa2a-121f-4da7-a3fd-6c76e707d010\" target=\"_top\" title=\"psysml:630baa2a-121f-4da7-a3fd-6c76e707d010\" xlink:actuate=\"onRequest\" xlink:href=\"psysml:630baa2a-121f-4da7-a3fd-6c76e707d010\" xlink:show=\"new\" xlink:title=\"psysml:630baa2a-121f-4da7-a3fd-6c76e707d010\" xlink:type=\"simple\"><g id=\"elem_E10\"><rect fill=\"#FFFFFF\" height=\"48.2656\" id=\"E10\" rx=\"10\" ry=\"10\" style=\"stroke:#181818;stroke-width:0.5;\" width=\"49\" x=\"284.5\" y=\"108\"/><text fill=\"#000000\" font-family=\"sans-serif\" font-size=\"12\" font-style=\"italic\" lengthAdjust=\"spacing\" textLength=\"40\" x=\"289\" y=\"124.1387\">«part»</text><text fill=\"#000000\" font-family=\"sans-serif\" font-size=\"14\" lengthAdjust=\"spacing\" textLength=\"35\" x=\"287.5\" y=\"139.9639\">z1: A</text><line style=\"stroke:#181818;stroke-width:0.5;\" x1=\"285.5\" x2=\"332.5\" y1=\"148.2656\" y2=\"148.2656\"/></g></a><!--MD5=[185131fc0dcab0a4505a2ebe144e961b]\n",
       "link E4 to E2--><g id=\"link_E4_E2\"><a href=\"psysml:0487f209-9870-4837-a273-e80eaf0041e3\" target=\"_top\" title=\"psysml:0487f209-9870-4837-a273-e80eaf0041e3\" xlink:actuate=\"onRequest\" xlink:href=\"psysml:0487f209-9870-4837-a273-e80eaf0041e3\" xlink:show=\"new\" xlink:title=\"psysml:0487f209-9870-4837-a273-e80eaf0041e3\" xlink:type=\"simple\"><path d=\"M233,313.65 C233,324.2075 233,337.0213 233,350.4166 C233,357.1142 233,363.9573 233,370.7364 C233,371.5838 233,372.4301 233,373.2751 C233,373.6976 233,374.1198 233,374.5415 \" fill=\"none\" id=\"E4-to-E2\" style=\"stroke:#181818;stroke-width:1.0;stroke-dasharray:7.0,7.0;\"/><polygon fill=\"#181818\" points=\"233,374.5415,237,365.5415,233,369.5415,229,365.5415,233,374.5415\" style=\"stroke:#181818;stroke-width:1.0;\"/><text fill=\"#000000\" font-family=\"sans-serif\" font-size=\"13\" lengthAdjust=\"spacing\" textLength=\"65\" x=\"167\" y=\"373.6169\">«import»*</text></a></g><!--MD5=[e9be52314489bd878ff4c7144b63c9e1]\n",
       "link E5 to E3--><g id=\"link_E5_E3\"><a href=\"psysml:fdb905ca-fd31-45b2-b41e-28dfb09dbd5e\" target=\"_top\" title=\"psysml:fdb905ca-fd31-45b2-b41e-28dfb09dbd5e\" xlink:actuate=\"onRequest\" xlink:href=\"psysml:fdb905ca-fd31-45b2-b41e-28dfb09dbd5e\" xlink:show=\"new\" xlink:title=\"psysml:fdb905ca-fd31-45b2-b41e-28dfb09dbd5e\" xlink:type=\"simple\"><path d=\"M318.5,311.22 C318.5,311.22 318.5,397.95 318.5,397.95 \" fill=\"none\" id=\"E5-to-E3\" style=\"stroke:#181818;stroke-width:1.0;\"/><polygon fill=\"#FFFFFF\" points=\"318.5,417.95,311.5,398.95,325.5,398.95,318.5,417.95\" style=\"stroke:#181818;stroke-width:1.0;\"/><ellipse cx=\"313.5\" cy=\"393.25\" fill=\"#181818\" rx=\"2\" ry=\"2\" style=\"stroke:#181818;stroke-width:1.0;\"/><ellipse cx=\"323.5\" cy=\"393.25\" fill=\"#181818\" rx=\"2\" ry=\"2\" style=\"stroke:#181818;stroke-width:1.0;\"/></a></g><!--MD5=[ee384bb554873b72f85793eae40e290c]\n",
       "link E1 to E4--><g id=\"link_E1_E4\"><a href=\"psysml:60fcb482-826b-48b1-b5dc-27f8a317149a\" target=\"_top\" title=\"psysml:60fcb482-826b-48b1-b5dc-27f8a317149a\" xlink:actuate=\"onRequest\" xlink:href=\"psysml:60fcb482-826b-48b1-b5dc-27f8a317149a\" xlink:show=\"new\" xlink:title=\"psysml:60fcb482-826b-48b1-b5dc-27f8a317149a\" xlink:type=\"simple\"><path d=\"M25,132.49 C25,139.05 25,209 25,209 C25,209 237,209 237,209 C237,209 237,255.16 237,255.16 \" fill=\"none\" id=\"E1-to-E4\" style=\"stroke:#181818;stroke-width:1.0;stroke-dasharray:7.0,7.0;\"/><polygon fill=\"#181818\" points=\"237,260.16,241,251.16,237,255.16,233,251.16,237,260.16\" style=\"stroke:#181818;stroke-width:1.0;\"/><text fill=\"#000000\" font-family=\"sans-serif\" font-size=\"13\" lengthAdjust=\"spacing\" textLength=\"65\" x=\"49.82\" y=\"205.0669\">«import»*</text></a></g><!--MD5=[ccbd3af71bf83df0ec2a2db62d6d7130]\n",
       "link E1 to E6--><g id=\"link_E1_E6\"><a href=\"psysml:37c9a4c7-80e6-494a-a65a-d8ec35cca65c\" target=\"_top\" title=\"psysml:37c9a4c7-80e6-494a-a65a-d8ec35cca65c\" xlink:actuate=\"onRequest\" xlink:href=\"psysml:37c9a4c7-80e6-494a-a65a-d8ec35cca65c\" xlink:show=\"new\" xlink:title=\"psysml:37c9a4c7-80e6-494a-a65a-d8ec35cca65c\" xlink:type=\"simple\"><path d=\"M25.54,132 C30.81,132 73,132 73,132 C73,132 73,168.365 73,205.8675 C73,210.5553 73,215.2609 73,219.9155 \" fill=\"none\" id=\"E1-to-E6\" style=\"stroke:#181818;stroke-width:1.0;stroke-dasharray:7.0,7.0;\"/><polygon fill=\"#181818\" points=\"73,219.9155,77,210.9155,73,214.9155,69,210.9155,73,219.9155\" style=\"stroke:#181818;stroke-width:1.0;\"/><text fill=\"#000000\" font-family=\"sans-serif\" font-size=\"13\" lengthAdjust=\"spacing\" textLength=\"65\" x=\"7\" y=\"181.6169\">«import»*</text></a></g><!--MD5=[bfa3c8b0d15052fdf50ae9310b491027]\n",
       "link E8 to E7--><g id=\"link_E8_E7\"><a href=\"psysml:f605a3b7-992a-46f2-9cbf-567dae0e656e\" target=\"_top\" title=\"psysml:f605a3b7-992a-46f2-9cbf-567dae0e656e\" xlink:actuate=\"onRequest\" xlink:href=\"psysml:f605a3b7-992a-46f2-9cbf-567dae0e656e\" xlink:show=\"new\" xlink:title=\"psysml:f605a3b7-992a-46f2-9cbf-567dae0e656e\" xlink:type=\"simple\"><path d=\"M143,156.22 C143,156.22 143,242.95 143,242.95 \" fill=\"none\" id=\"E8-to-E7\" style=\"stroke:#181818;stroke-width:1.0;\"/><polygon fill=\"#FFFFFF\" points=\"143,262.95,136,243.95,150,243.95,143,262.95\" style=\"stroke:#181818;stroke-width:1.0;\"/><ellipse cx=\"138\" cy=\"238.25\" fill=\"#181818\" rx=\"2\" ry=\"2\" style=\"stroke:#181818;stroke-width:1.0;\"/><ellipse cx=\"148\" cy=\"238.25\" fill=\"#181818\" rx=\"2\" ry=\"2\" style=\"stroke:#181818;stroke-width:1.0;\"/></a></g><!--MD5=[c2be97adba6ddfe1c8f349fab141c927]\n",
       "link E9 to E4--><g id=\"link_E9_E4\"><a href=\"psysml:f74e7f7d-bc69-4c36-9a7b-616abfb119b1\" target=\"_top\" title=\"psysml:f74e7f7d-bc69-4c36-9a7b-616abfb119b1\" xlink:actuate=\"onRequest\" xlink:href=\"psysml:f74e7f7d-bc69-4c36-9a7b-616abfb119b1\" xlink:show=\"new\" xlink:title=\"psysml:f74e7f7d-bc69-4c36-9a7b-616abfb119b1\" xlink:type=\"simple\"><path d=\"M249,180.3628 C249,180.5978 249,180.8331 249,181.0687 C249,181.5398 249,182.012 249,182.4851 C249,186.27 249,190.115 249,193.96 C249,224.72 249,255.48 249,255.48 \" fill=\"none\" id=\"E9-to-E4\" style=\"stroke:#181818;stroke-width:1.0;stroke-dasharray:7.0,7.0;\"/><polygon fill=\"#181818\" points=\"249,260.48,253,251.48,249,255.48,245,251.48,249,260.48\" style=\"stroke:#181818;stroke-width:1.0;\"/><text fill=\"#000000\" font-family=\"sans-serif\" font-size=\"13\" lengthAdjust=\"spacing\" textLength=\"65\" x=\"183\" y=\"190.0269\">«import»*</text></a></g><!--MD5=[feeac5eb423634930294aa81f2d25a4c]\n",
       "link E10 to E3--><g id=\"link_E10_E3\"><a href=\"psysml:7688159c-03f6-437a-9242-bafcaad292a9\" target=\"_top\" title=\"psysml:7688159c-03f6-437a-9242-bafcaad292a9\" xlink:actuate=\"onRequest\" xlink:href=\"psysml:7688159c-03f6-437a-9242-bafcaad292a9\" xlink:show=\"new\" xlink:title=\"psysml:7688159c-03f6-437a-9242-bafcaad292a9\" xlink:type=\"simple\"><path d=\"M291.75,156.07 C291.75,156.07 291.75,397.73 291.75,397.73 \" fill=\"none\" id=\"E10-to-E3\" style=\"stroke:#181818;stroke-width:1.0;\"/><polygon fill=\"#FFFFFF\" points=\"291.75,417.73,284.75,398.73,298.75,398.73,291.75,417.73\" style=\"stroke:#181818;stroke-width:1.0;\"/><ellipse cx=\"286.75\" cy=\"393.03\" fill=\"#181818\" rx=\"2\" ry=\"2\" style=\"stroke:#181818;stroke-width:1.0;\"/><ellipse cx=\"296.75\" cy=\"393.03\" fill=\"#181818\" rx=\"2\" ry=\"2\" style=\"stroke:#181818;stroke-width:1.0;\"/></a></g><!--MD5=[0362972c96dea89ee93b2ee6b00cb18e]\n",
       "@startuml\r\n",
       "skin sysmlbw\r\n",
       "skinparam monochrome true\r\n",
       "skinparam wrapWidth 300\r\n",
       "hide circle\r\n",
       "skinparam linetype ortho\r\n",
       "\r\n",
       "package \"PrivateImportTest\" as E1  [[psysml:11a30fa2-fbeb-4b2d-a071-2781e63d5a12 ]]  {\r\n",
       "package \"P1\" as E2  [[psysml:29bb8ef7-a50f-48a8-b243-dfabeed2550d ]]  {\r\n",
       "comp def \"A\" as E3  <<(T,blue) part  def>> [[psysml:5dfb8e4e-b010-43d6-9ea6-8d8096aa0cbd ]] {\r\n",
       "}\r\n",
       "}\r\n",
       "package \"P2\" as E4  [[psysml:6d745f5d-a6bd-48d3-bb38-b4db6224b450 ]]  {\r\n",
       "}\r\n",
       "comp usage \"x: A  \" as E5  <<(T,blue) part>> [[psysml:fd0b961b-4bae-44e8-b09a-9c87fac280e3 ]] {\r\n",
       "}\r\n",
       "package \"P3\" as E6  [[psysml:3afe7580-df30-4ff0-95e6-ec63d3638055 ]]  {\r\n",
       "comp def \"B\" as E7  <<(T,blue) part  def>> [[psysml:05031283-db67-47ce-b074-a753e1e8519b ]] {\r\n",
       "}\r\n",
       "}\r\n",
       "comp usage \"z: B  \" as E8  <<(T,blue) part>> [[psysml:87e3ce51-5094-4f5d-8d11-feac4ad1e872 ]] {\r\n",
       "}\r\n",
       "package \"P4\" as E9  [[psysml:a1b56716-f996-4480-88b0-3733f2d7733c ]]  {\r\n",
       "comp usage \"z1: A  \" as E10  <<(T,blue) part>> [[psysml:630baa2a-121f-4da7-a3fd-6c76e707d010 ]] {\r\n",
       "}\r\n",
       "}\r\n",
       "}\r\n",
       "E4 ..> E2 [[psysml:0487f209-9870-4837-a273-e80eaf0041e3 ]] : <<import>>*\r\n",
       "E5 - -:|> E3 [[psysml:fdb905ca-fd31-45b2-b41e-28dfb09dbd5e ]] \r\n",
       "E1 ..> E4 [[psysml:60fcb482-826b-48b1-b5dc-27f8a317149a ]] : <<import>>*\r\n",
       "E1 ..> E6 [[psysml:37c9a4c7-80e6-494a-a65a-d8ec35cca65c ]] : <<import>>*\r\n",
       "E8 - -:|> E7 [[psysml:f605a3b7-992a-46f2-9cbf-567dae0e656e ]] \r\n",
       "E9 ..> E4 [[psysml:f74e7f7d-bc69-4c36-9a7b-616abfb119b1 ]] : <<import>>*\r\n",
       "E10 - -:|> E3 [[psysml:7688159c-03f6-437a-9242-bafcaad292a9 ]] \r\n",
       "@enduml\r\n",
       "\n",
       "PlantUML version 1.2022.7(Mon Aug 22 17:01:30 UTC 2022)\n",
       "(EPL source distribution)\n",
       "Java Runtime: OpenJDK Runtime Environment\n",
       "JVM: OpenJDK 64-Bit Server VM\n",
       "Default Encoding: UTF-8\n",
       "Language: en\n",
       "Country: null\n",
       "--></g></svg>"
      ]
     },
     "execution_count": 57,
     "metadata": {},
     "output_type": "execute_result"
    }
   ],
   "source": [
    "%viz --style=\"ORTHOLINE\" --view=\"MIXED\" \"PrivateImportTest\""
   ]
  }
 ],
 "metadata": {
  "kernelspec": {
   "display_name": "SysML",
   "language": "sysml",
   "name": "sysml"
  },
  "language_info": {
   "codemirror_mode": "sysml",
   "file_extension": ".sysml",
   "mimetype": "text/x-sysml",
   "name": "SysML",
   "pygments_lexer": "java",
   "version": "1.0.0"
  }
 },
 "nbformat": 4,
 "nbformat_minor": 5
}
