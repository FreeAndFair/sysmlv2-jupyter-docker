{
 "cells": [
  {
   "cell_type": "markdown",
   "id": "friendly-uruguay",
   "metadata": {},
   "source": [
    "# SysML v2 Test Suite\n",
    "\n",
    "This can notebook can be cleared using menu `Edit --> Clear All Outputs` and then all cells can be\n",
    "run using menu `Run --> Run All Cells`.\n",
    "\n",
    "**WARNING**: This file is generated, all modifications here will be ignored.\n"
   ]
  },
  {
   "cell_type": "markdown",
   "id": "average-cabin",
   "metadata": {},
   "source": [
    "## File: ../../sysml/src/examples/Import Tests/PrivateImportTest.sysml"
   ]
  },
  {
   "cell_type": "code",
   "execution_count": 1,
   "id": "martial-pressing",
   "metadata": {
    "execution": {
     "iopub.execute_input": "2021-03-25T14:10:35.924420Z",
     "iopub.status.busy": "2021-03-25T14:10:35.923036Z",
     "iopub.status.idle": "2021-03-25T14:10:36.047607Z",
     "shell.execute_reply": "2021-03-25T14:10:36.046986Z"
    }
   },
   "outputs": [
    {
     "data": {
      "text/plain": [
       "Package PrivateImportTest (18c7227a-6e36-4afe-96fb-b1cfb4c2bfff)\n"
      ]
     },
     "execution_count": 1,
     "metadata": {},
     "output_type": "execute_result"
    }
   ],
   "source": [
    "package PrivateImportTest {\n",
    "\tpackage P1 {\n",
    "\t\tpart def A;\n",
    "\t}\n",
    "\tpackage P2 {\n",
    "\t\tprivate import P1::*;\n",
    "\t}\n",
    "\tpart x: P1::A;\n",
    "\t\n",
    "\timport P2::*;\n",
    "\t// This should fail.\n",
    "\t// A is not visible, because the import in P2 is private.\n",
    "\t// y: A;\n",
    "\t\n",
    "\tpackage P3 {\n",
    "\t\tpart def B;\n",
    "\t}\n",
    "\t\n",
    "\tprivate import P3::*;\n",
    "\t\n",
    "\t// This should not fail.\n",
    "\t// Private import only restricts visibility outside the package.\n",
    "\tpart z: B;\n",
    "\t\n",
    "}"
   ]
  },
  {
   "cell_type": "code",
   "execution_count": 2,
   "id": "governing-technician",
   "metadata": {
    "execution": {
     "iopub.execute_input": "2021-03-25T14:10:36.099891Z",
     "iopub.status.busy": "2021-03-25T14:10:36.099478Z",
     "iopub.status.idle": "2021-03-25T14:10:36.804959Z",
     "shell.execute_reply": "2021-03-25T14:10:36.803623Z"
    }
   },
   "outputs": [
    {
     "data": {
      "image/svg+xml": [
       "<?xml version=\"1.0\" encoding=\"UTF-8\" standalone=\"no\"?><svg xmlns=\"http://www.w3.org/2000/svg\" xmlns:xlink=\"http://www.w3.org/1999/xlink\" contentScriptType=\"application/ecmascript\" contentStyleType=\"text/css\" height=\"252px\" preserveAspectRatio=\"none\" style=\"width:306px;height:252px;\" version=\"1.1\" viewBox=\"0 0 306 252\" width=\"306px\" zoomAndPan=\"magnify\"><defs/><g><!--MD5=[fbc87193dbaf4d95561dea2c320d4a47]\n",
       "cluster E1--><a href=\"psysml:04be3c0a-f069-4f88-9dd0-1488cf078b60\" target=\"_top\" title=\"psysml:04be3c0a-f069-4f88-9dd0-1488cf078b60\" xlink:actuate=\"onRequest\" xlink:href=\"psysml:04be3c0a-f069-4f88-9dd0-1488cf078b60\" xlink:show=\"new\" xlink:title=\"psysml:04be3c0a-f069-4f88-9dd0-1488cf078b60\" xlink:type=\"simple\"><polygon fill=\"#FFFFFF\" points=\"16,6,163,6,170,28.2969,284,28.2969,284,240,16,240,16,6\" style=\"stroke: #000000; stroke-width: 1.5;\"/><line style=\"stroke: #000000; stroke-width: 1.5;\" x1=\"16\" x2=\"170\" y1=\"28.2969\" y2=\"28.2969\"/><text fill=\"#000000\" font-family=\"sans-serif\" font-size=\"14\" font-weight=\"bold\" lengthAdjust=\"spacingAndGlyphs\" textLength=\"141\" x=\"20\" y=\"20.9951\">PrivateImportTest</text></a><!--MD5=[e4f7fae6ed58524ba242bb0b0d3be6b7]\n",
       "cluster E2--><a href=\"psysml:2d8a57d2-00aa-4c24-bcf4-c6f0dba3a85a\" target=\"_top\" title=\"psysml:2d8a57d2-00aa-4c24-bcf4-c6f0dba3a85a\" xlink:actuate=\"onRequest\" xlink:href=\"psysml:2d8a57d2-00aa-4c24-bcf4-c6f0dba3a85a\" xlink:show=\"new\" xlink:title=\"psysml:2d8a57d2-00aa-4c24-bcf4-c6f0dba3a85a\" xlink:type=\"simple\"><polygon fill=\"#FFFFFF\" points=\"162,119,188,119,195,141.2969,260,141.2969,260,216,162,216,162,119\" style=\"stroke: #000000; stroke-width: 1.5;\"/><line style=\"stroke: #000000; stroke-width: 1.5;\" x1=\"162\" x2=\"195\" y1=\"141.2969\" y2=\"141.2969\"/><text fill=\"#000000\" font-family=\"sans-serif\" font-size=\"14\" font-weight=\"bold\" lengthAdjust=\"spacingAndGlyphs\" textLength=\"20\" x=\"166\" y=\"133.9951\">P1</text></a><!--MD5=[14e3b0961a2654348d326746436168a1]\n",
       "cluster E6--><a href=\"psysml:0a65db1a-6ec3-4140-b73e-0c5567d9dbea\" target=\"_top\" title=\"psysml:0a65db1a-6ec3-4140-b73e-0c5567d9dbea\" xlink:actuate=\"onRequest\" xlink:href=\"psysml:0a65db1a-6ec3-4140-b73e-0c5567d9dbea\" xlink:show=\"new\" xlink:title=\"psysml:0a65db1a-6ec3-4140-b73e-0c5567d9dbea\" xlink:type=\"simple\"><polygon fill=\"#FFFFFF\" points=\"40,119,66,119,73,141.2969,138,141.2969,138,216,40,216,40,119\" style=\"stroke: #000000; stroke-width: 1.5;\"/><line style=\"stroke: #000000; stroke-width: 1.5;\" x1=\"40\" x2=\"73\" y1=\"141.2969\" y2=\"141.2969\"/><text fill=\"#000000\" font-family=\"sans-serif\" font-size=\"14\" font-weight=\"bold\" lengthAdjust=\"spacingAndGlyphs\" textLength=\"20\" x=\"44\" y=\"133.9951\">P3</text></a><!--MD5=[270fce915f116d4de14055a7c1d9a0f3]\n",
       "class E5--><a href=\"psysml:43785f75-2189-42e8-ba89-9f38d7235e69\" target=\"_top\" title=\"psysml:43785f75-2189-42e8-ba89-9f38d7235e69\" xlink:actuate=\"onRequest\" xlink:href=\"psysml:43785f75-2189-42e8-ba89-9f38d7235e69\" xlink:show=\"new\" xlink:title=\"psysml:43785f75-2189-42e8-ba89-9f38d7235e69\" xlink:type=\"simple\"><rect fill=\"#FFFFFF\" height=\"45.9375\" id=\"E5\" rx=\"10\" ry=\"10\" style=\"stroke: #383838; stroke-width: 1.5;\" width=\"42\" x=\"190\" y=\"44.5\"/><text fill=\"#000000\" font-family=\"sans-serif\" font-size=\"12\" font-style=\"italic\" lengthAdjust=\"spacingAndGlyphs\" textLength=\"40\" x=\"191\" y=\"60.6387\">«part»</text><text fill=\"#000000\" font-family=\"sans-serif\" font-size=\"12\" lengthAdjust=\"spacingAndGlyphs\" textLength=\"22\" x=\"200\" y=\"74.6074\">x: A</text><line style=\"stroke: #383838; stroke-width: 1.5;\" x1=\"191\" x2=\"231\" y1=\"82.4375\" y2=\"82.4375\"/></a><!--MD5=[b9389687b975829384b498ac4b7476b2]\n",
       "class E8--><a href=\"psysml:ceec508b-c3a9-4167-8e78-7da3e35ca489\" target=\"_top\" title=\"psysml:ceec508b-c3a9-4167-8e78-7da3e35ca489\" xlink:actuate=\"onRequest\" xlink:href=\"psysml:ceec508b-c3a9-4167-8e78-7da3e35ca489\" xlink:show=\"new\" xlink:title=\"psysml:ceec508b-c3a9-4167-8e78-7da3e35ca489\" xlink:type=\"simple\"><rect fill=\"#FFFFFF\" height=\"45.9375\" id=\"E8\" rx=\"10\" ry=\"10\" style=\"stroke: #383838; stroke-width: 1.5;\" width=\"42\" x=\"107\" y=\"44.5\"/><text fill=\"#000000\" font-family=\"sans-serif\" font-size=\"12\" font-style=\"italic\" lengthAdjust=\"spacingAndGlyphs\" textLength=\"40\" x=\"108\" y=\"60.6387\">«part»</text><text fill=\"#000000\" font-family=\"sans-serif\" font-size=\"12\" lengthAdjust=\"spacingAndGlyphs\" textLength=\"21\" x=\"117.5\" y=\"74.6074\">z: B</text><line style=\"stroke: #383838; stroke-width: 1.5;\" x1=\"108\" x2=\"148\" y1=\"82.4375\" y2=\"82.4375\"/></a><!--MD5=[09b614a08d8cba4a07c9adeb5e0fee81]\n",
       "class E3--><a href=\"psysml:8088eca0-f00f-4a1f-9db3-28df87f45186\" target=\"_top\" title=\"psysml:8088eca0-f00f-4a1f-9db3-28df87f45186\" xlink:actuate=\"onRequest\" xlink:href=\"psysml:8088eca0-f00f-4a1f-9db3-28df87f45186\" xlink:show=\"new\" xlink:title=\"psysml:8088eca0-f00f-4a1f-9db3-28df87f45186\" xlink:type=\"simple\"><rect fill=\"#FFFFFF\" height=\"45.9375\" id=\"E3\" style=\"stroke: #383838; stroke-width: 1.5;\" width=\"66\" x=\"178\" y=\"154\"/><text fill=\"#000000\" font-family=\"sans-serif\" font-size=\"12\" font-style=\"italic\" lengthAdjust=\"spacingAndGlyphs\" textLength=\"64\" x=\"179\" y=\"170.1387\">«part def»</text><text fill=\"#000000\" font-family=\"sans-serif\" font-size=\"12\" lengthAdjust=\"spacingAndGlyphs\" textLength=\"8\" x=\"207\" y=\"184.1074\">A</text><line style=\"stroke: #383838; stroke-width: 1.5;\" x1=\"179\" x2=\"243\" y1=\"191.9375\" y2=\"191.9375\"/></a><a href=\"psysml:f5fce4b6-35f4-4f46-9b6d-d151b55baece\" target=\"_top\" title=\"psysml:f5fce4b6-35f4-4f46-9b6d-d151b55baece\" xlink:actuate=\"onRequest\" xlink:href=\"psysml:f5fce4b6-35f4-4f46-9b6d-d151b55baece\" xlink:show=\"new\" xlink:title=\"psysml:f5fce4b6-35f4-4f46-9b6d-d151b55baece\" xlink:type=\"simple\"><polygon fill=\"#FFFFFF\" points=\"32,41,58,41,65,63.2969,72,63.2969,72,93.5938,32,93.5938,32,41\" style=\"stroke: #000000; stroke-width: 1.5;\"/><line style=\"stroke: #000000; stroke-width: 1.5;\" x1=\"32\" x2=\"65\" y1=\"63.2969\" y2=\"63.2969\"/><text fill=\"#000000\" font-family=\"sans-serif\" font-size=\"14\" font-weight=\"bold\" lengthAdjust=\"spacingAndGlyphs\" textLength=\"20\" x=\"36\" y=\"55.9951\">P2</text></a><!--MD5=[2156ba9850f5573cc1fc38a6a4b2f02b]\n",
       "class E7--><a href=\"psysml:a9488239-9884-4bc6-98b3-04bdbcc46eca\" target=\"_top\" title=\"psysml:a9488239-9884-4bc6-98b3-04bdbcc46eca\" xlink:actuate=\"onRequest\" xlink:href=\"psysml:a9488239-9884-4bc6-98b3-04bdbcc46eca\" xlink:show=\"new\" xlink:title=\"psysml:a9488239-9884-4bc6-98b3-04bdbcc46eca\" xlink:type=\"simple\"><rect fill=\"#FFFFFF\" height=\"45.9375\" id=\"E7\" style=\"stroke: #383838; stroke-width: 1.5;\" width=\"66\" x=\"56\" y=\"154\"/><text fill=\"#000000\" font-family=\"sans-serif\" font-size=\"12\" font-style=\"italic\" lengthAdjust=\"spacingAndGlyphs\" textLength=\"64\" x=\"57\" y=\"170.1387\">«part def»</text><text fill=\"#000000\" font-family=\"sans-serif\" font-size=\"12\" lengthAdjust=\"spacingAndGlyphs\" textLength=\"8\" x=\"85\" y=\"184.1074\">B</text><line style=\"stroke: #383838; stroke-width: 1.5;\" x1=\"57\" x2=\"121\" y1=\"191.9375\" y2=\"191.9375\"/></a><!--MD5=[e9be52314489bd878ff4c7144b63c9e1]\n",
       "link E5 to E3--><a href=\"psysml:25d642ee-de35-43b5-ac2f-29504efb7d68\" target=\"_top\" title=\"psysml:25d642ee-de35-43b5-ac2f-29504efb7d68\" xlink:actuate=\"onRequest\" xlink:href=\"psysml:25d642ee-de35-43b5-ac2f-29504efb7d68\" xlink:show=\"new\" xlink:title=\"psysml:25d642ee-de35-43b5-ac2f-29504efb7d68\" xlink:type=\"simple\"><path d=\"M211,90.51 C211,102.89 211,118.78 211,133.48 \" fill=\"none\" id=\"E5-&gt;E3\" style=\"stroke: #383838; stroke-width: 1.0;\"/><polygon fill=\"#FFFFFF\" points=\"211,153.65,204,134.65,218,134.65,211,153.65\" style=\"stroke: #383838; stroke-width: 1.0;\"/><ellipse cx=\"206\" cy=\"128.95\" fill=\"#383838\" rx=\"2\" ry=\"2\" style=\"stroke: #383838; stroke-width: 1.0;\"/><ellipse cx=\"216\" cy=\"128.95\" fill=\"#383838\" rx=\"2\" ry=\"2\" style=\"stroke: #383838; stroke-width: 1.0;\"/></a><!--MD5=[bfa3c8b0d15052fdf50ae9310b491027]\n",
       "link E8 to E7--><a href=\"psysml:d89216b2-7e18-408a-b614-d8caef1c47ec\" target=\"_top\" title=\"psysml:d89216b2-7e18-408a-b614-d8caef1c47ec\" xlink:actuate=\"onRequest\" xlink:href=\"psysml:d89216b2-7e18-408a-b614-d8caef1c47ec\" xlink:show=\"new\" xlink:title=\"psysml:d89216b2-7e18-408a-b614-d8caef1c47ec\" xlink:type=\"simple\"><path d=\"M120.01,90.51 C115.39,103.25 109.42,119.7 103.96,134.76 \" fill=\"none\" id=\"E8-&gt;E7\" style=\"stroke: #383838; stroke-width: 1.0;\"/><polygon fill=\"#FFFFFF\" points=\"97.11,153.65,97.0036,133.4018,110.1656,138.1726,97.11,153.65\" style=\"stroke: #383838; stroke-width: 1.0;\"/><ellipse cx=\"100.8262\" cy=\"128.7245\" fill=\"#383838\" rx=\"2\" ry=\"2\" style=\"stroke: #383838; stroke-width: 1.0;\"/><ellipse cx=\"110.2277\" cy=\"132.1322\" fill=\"#383838\" rx=\"2\" ry=\"2\" style=\"stroke: #383838; stroke-width: 1.0;\"/></a><!--MD5=[1164d7bc334d31dafde73f19ac08b05e]\n",
       "@startuml\r\n",
       " skinparam monochrome true\r\n",
       "skinparam classbackgroundcolor white\r\n",
       "skinparam shadowing false\r\n",
       "skinparam wrapWidth 300\r\n",
       "hide circle\r\n",
       "\r\n",
       "package \"PrivateImportTest\" as E1  [[psysml:04be3c0a-f069-4f88-9dd0-1488cf078b60 ]]  {\r\n",
       "package \"P1\" as E2  [[psysml:2d8a57d2-00aa-4c24-bcf4-c6f0dba3a85a ]]  {\r\n",
       "comp def \"A\" as E3  <<(T,blue)part def>> [[psysml:8088eca0-f00f-4a1f-9db3-28df87f45186 ]] {\r\n",
       "}\r\n",
       "}\r\n",
       "package \"P2\" as E4  [[psysml:f5fce4b6-35f4-4f46-9b6d-d151b55baece ]]  {\r\n",
       "}\r\n",
       "comp usage \"x: A\" as E5  <<(T,blue)part>> [[psysml:43785f75-2189-42e8-ba89-9f38d7235e69 ]] {\r\n",
       "}\r\n",
       "package \"P3\" as E6  [[psysml:0a65db1a-6ec3-4140-b73e-0c5567d9dbea ]]  {\r\n",
       "comp def \"B\" as E7  <<(T,blue)part def>> [[psysml:a9488239-9884-4bc6-98b3-04bdbcc46eca ]] {\r\n",
       "}\r\n",
       "E5 - -:|> E3 [[psysml:25d642ee-de35-43b5-ac2f-29504efb7d68 ]] \r\n",
       "}\r\n",
       "comp usage \"z: B\" as E8  <<(T,blue)part>> [[psysml:ceec508b-c3a9-4167-8e78-7da3e35ca489 ]] {\r\n",
       "}\r\n",
       "E8 - -:|> E7 [[psysml:d89216b2-7e18-408a-b614-d8caef1c47ec ]] \r\n",
       "}\r\n",
       "@enduml\r\n",
       "\n",
       "PlantUML version 1.2020.13(Sat Jun 13 12:26:38 UTC 2020)\n",
       "(EPL source distribution)\n",
       "Java Runtime: OpenJDK Runtime Environment\n",
       "JVM: OpenJDK 64-Bit Server VM\n",
       "Default Encoding: UTF-8\n",
       "Language: en\n",
       "Country: null\n",
       "--></g></svg>"
      ]
     },
     "execution_count": 2,
     "metadata": {},
     "output_type": "execute_result"
    }
   ],
   "source": [
    "%viz --style=\"COMPTREE\" --view=\"Default\" \"PrivateImportTest\""
   ]
  },
  {
   "cell_type": "code",
   "execution_count": 3,
   "id": "requested-boxing",
   "metadata": {
    "execution": {
     "iopub.execute_input": "2021-03-25T14:10:36.858515Z",
     "iopub.status.busy": "2021-03-25T14:10:36.857318Z",
     "iopub.status.idle": "2021-03-25T14:10:36.964352Z",
     "shell.execute_reply": "2021-03-25T14:10:36.963539Z"
    }
   },
   "outputs": [
    {
     "data": {
      "image/svg+xml": [
       "<?xml version=\"1.0\" encoding=\"UTF-8\" standalone=\"no\"?><svg xmlns=\"http://www.w3.org/2000/svg\" xmlns:xlink=\"http://www.w3.org/1999/xlink\" contentScriptType=\"application/ecmascript\" contentStyleType=\"text/css\" height=\"252px\" preserveAspectRatio=\"none\" style=\"width:306px;height:252px;\" version=\"1.1\" viewBox=\"0 0 306 252\" width=\"306px\" zoomAndPan=\"magnify\"><defs/><g><!--MD5=[fbc87193dbaf4d95561dea2c320d4a47]\n",
       "cluster E1--><a href=\"psysml:04be3c0a-f069-4f88-9dd0-1488cf078b60\" target=\"_top\" title=\"psysml:04be3c0a-f069-4f88-9dd0-1488cf078b60\" xlink:actuate=\"onRequest\" xlink:href=\"psysml:04be3c0a-f069-4f88-9dd0-1488cf078b60\" xlink:show=\"new\" xlink:title=\"psysml:04be3c0a-f069-4f88-9dd0-1488cf078b60\" xlink:type=\"simple\"><polygon fill=\"#FFFFFF\" points=\"16,6,163,6,170,28.2969,284,28.2969,284,240,16,240,16,6\" style=\"stroke: #000000; stroke-width: 1.5;\"/><line style=\"stroke: #000000; stroke-width: 1.5;\" x1=\"16\" x2=\"170\" y1=\"28.2969\" y2=\"28.2969\"/><text fill=\"#000000\" font-family=\"sans-serif\" font-size=\"14\" font-weight=\"bold\" lengthAdjust=\"spacingAndGlyphs\" textLength=\"141\" x=\"20\" y=\"20.9951\">PrivateImportTest</text></a><!--MD5=[e4f7fae6ed58524ba242bb0b0d3be6b7]\n",
       "cluster E2--><a href=\"psysml:2d8a57d2-00aa-4c24-bcf4-c6f0dba3a85a\" target=\"_top\" title=\"psysml:2d8a57d2-00aa-4c24-bcf4-c6f0dba3a85a\" xlink:actuate=\"onRequest\" xlink:href=\"psysml:2d8a57d2-00aa-4c24-bcf4-c6f0dba3a85a\" xlink:show=\"new\" xlink:title=\"psysml:2d8a57d2-00aa-4c24-bcf4-c6f0dba3a85a\" xlink:type=\"simple\"><polygon fill=\"#FFFFFF\" points=\"162,119,188,119,195,141.2969,260,141.2969,260,216,162,216,162,119\" style=\"stroke: #000000; stroke-width: 1.5;\"/><line style=\"stroke: #000000; stroke-width: 1.5;\" x1=\"162\" x2=\"195\" y1=\"141.2969\" y2=\"141.2969\"/><text fill=\"#000000\" font-family=\"sans-serif\" font-size=\"14\" font-weight=\"bold\" lengthAdjust=\"spacingAndGlyphs\" textLength=\"20\" x=\"166\" y=\"133.9951\">P1</text></a><!--MD5=[14e3b0961a2654348d326746436168a1]\n",
       "cluster E6--><a href=\"psysml:0a65db1a-6ec3-4140-b73e-0c5567d9dbea\" target=\"_top\" title=\"psysml:0a65db1a-6ec3-4140-b73e-0c5567d9dbea\" xlink:actuate=\"onRequest\" xlink:href=\"psysml:0a65db1a-6ec3-4140-b73e-0c5567d9dbea\" xlink:show=\"new\" xlink:title=\"psysml:0a65db1a-6ec3-4140-b73e-0c5567d9dbea\" xlink:type=\"simple\"><polygon fill=\"#FFFFFF\" points=\"40,119,66,119,73,141.2969,138,141.2969,138,216,40,216,40,119\" style=\"stroke: #000000; stroke-width: 1.5;\"/><line style=\"stroke: #000000; stroke-width: 1.5;\" x1=\"40\" x2=\"73\" y1=\"141.2969\" y2=\"141.2969\"/><text fill=\"#000000\" font-family=\"sans-serif\" font-size=\"14\" font-weight=\"bold\" lengthAdjust=\"spacingAndGlyphs\" textLength=\"20\" x=\"44\" y=\"133.9951\">P3</text></a><!--MD5=[270fce915f116d4de14055a7c1d9a0f3]\n",
       "class E5--><a href=\"psysml:43785f75-2189-42e8-ba89-9f38d7235e69\" target=\"_top\" title=\"psysml:43785f75-2189-42e8-ba89-9f38d7235e69\" xlink:actuate=\"onRequest\" xlink:href=\"psysml:43785f75-2189-42e8-ba89-9f38d7235e69\" xlink:show=\"new\" xlink:title=\"psysml:43785f75-2189-42e8-ba89-9f38d7235e69\" xlink:type=\"simple\"><rect fill=\"#FFFFFF\" height=\"45.9375\" id=\"E5\" rx=\"10\" ry=\"10\" style=\"stroke: #383838; stroke-width: 1.5;\" width=\"42\" x=\"190\" y=\"44.5\"/><text fill=\"#000000\" font-family=\"sans-serif\" font-size=\"12\" font-style=\"italic\" lengthAdjust=\"spacingAndGlyphs\" textLength=\"40\" x=\"191\" y=\"60.6387\">«part»</text><text fill=\"#000000\" font-family=\"sans-serif\" font-size=\"12\" lengthAdjust=\"spacingAndGlyphs\" textLength=\"22\" x=\"200\" y=\"74.6074\">x: A</text><line style=\"stroke: #383838; stroke-width: 1.5;\" x1=\"191\" x2=\"231\" y1=\"82.4375\" y2=\"82.4375\"/></a><!--MD5=[b9389687b975829384b498ac4b7476b2]\n",
       "class E8--><a href=\"psysml:ceec508b-c3a9-4167-8e78-7da3e35ca489\" target=\"_top\" title=\"psysml:ceec508b-c3a9-4167-8e78-7da3e35ca489\" xlink:actuate=\"onRequest\" xlink:href=\"psysml:ceec508b-c3a9-4167-8e78-7da3e35ca489\" xlink:show=\"new\" xlink:title=\"psysml:ceec508b-c3a9-4167-8e78-7da3e35ca489\" xlink:type=\"simple\"><rect fill=\"#FFFFFF\" height=\"45.9375\" id=\"E8\" rx=\"10\" ry=\"10\" style=\"stroke: #383838; stroke-width: 1.5;\" width=\"42\" x=\"107\" y=\"44.5\"/><text fill=\"#000000\" font-family=\"sans-serif\" font-size=\"12\" font-style=\"italic\" lengthAdjust=\"spacingAndGlyphs\" textLength=\"40\" x=\"108\" y=\"60.6387\">«part»</text><text fill=\"#000000\" font-family=\"sans-serif\" font-size=\"12\" lengthAdjust=\"spacingAndGlyphs\" textLength=\"21\" x=\"117.5\" y=\"74.6074\">z: B</text><line style=\"stroke: #383838; stroke-width: 1.5;\" x1=\"108\" x2=\"148\" y1=\"82.4375\" y2=\"82.4375\"/></a><!--MD5=[09b614a08d8cba4a07c9adeb5e0fee81]\n",
       "class E3--><a href=\"psysml:8088eca0-f00f-4a1f-9db3-28df87f45186\" target=\"_top\" title=\"psysml:8088eca0-f00f-4a1f-9db3-28df87f45186\" xlink:actuate=\"onRequest\" xlink:href=\"psysml:8088eca0-f00f-4a1f-9db3-28df87f45186\" xlink:show=\"new\" xlink:title=\"psysml:8088eca0-f00f-4a1f-9db3-28df87f45186\" xlink:type=\"simple\"><rect fill=\"#FFFFFF\" height=\"45.9375\" id=\"E3\" style=\"stroke: #383838; stroke-width: 1.5;\" width=\"66\" x=\"178\" y=\"154\"/><text fill=\"#000000\" font-family=\"sans-serif\" font-size=\"12\" font-style=\"italic\" lengthAdjust=\"spacingAndGlyphs\" textLength=\"64\" x=\"179\" y=\"170.1387\">«part def»</text><text fill=\"#000000\" font-family=\"sans-serif\" font-size=\"12\" lengthAdjust=\"spacingAndGlyphs\" textLength=\"8\" x=\"207\" y=\"184.1074\">A</text><line style=\"stroke: #383838; stroke-width: 1.5;\" x1=\"179\" x2=\"243\" y1=\"191.9375\" y2=\"191.9375\"/></a><a href=\"psysml:f5fce4b6-35f4-4f46-9b6d-d151b55baece\" target=\"_top\" title=\"psysml:f5fce4b6-35f4-4f46-9b6d-d151b55baece\" xlink:actuate=\"onRequest\" xlink:href=\"psysml:f5fce4b6-35f4-4f46-9b6d-d151b55baece\" xlink:show=\"new\" xlink:title=\"psysml:f5fce4b6-35f4-4f46-9b6d-d151b55baece\" xlink:type=\"simple\"><polygon fill=\"#FFFFFF\" points=\"32,41,58,41,65,63.2969,72,63.2969,72,93.5938,32,93.5938,32,41\" style=\"stroke: #000000; stroke-width: 1.5;\"/><line style=\"stroke: #000000; stroke-width: 1.5;\" x1=\"32\" x2=\"65\" y1=\"63.2969\" y2=\"63.2969\"/><text fill=\"#000000\" font-family=\"sans-serif\" font-size=\"14\" font-weight=\"bold\" lengthAdjust=\"spacingAndGlyphs\" textLength=\"20\" x=\"36\" y=\"55.9951\">P2</text></a><!--MD5=[2156ba9850f5573cc1fc38a6a4b2f02b]\n",
       "class E7--><a href=\"psysml:a9488239-9884-4bc6-98b3-04bdbcc46eca\" target=\"_top\" title=\"psysml:a9488239-9884-4bc6-98b3-04bdbcc46eca\" xlink:actuate=\"onRequest\" xlink:href=\"psysml:a9488239-9884-4bc6-98b3-04bdbcc46eca\" xlink:show=\"new\" xlink:title=\"psysml:a9488239-9884-4bc6-98b3-04bdbcc46eca\" xlink:type=\"simple\"><rect fill=\"#FFFFFF\" height=\"45.9375\" id=\"E7\" style=\"stroke: #383838; stroke-width: 1.5;\" width=\"66\" x=\"56\" y=\"154\"/><text fill=\"#000000\" font-family=\"sans-serif\" font-size=\"12\" font-style=\"italic\" lengthAdjust=\"spacingAndGlyphs\" textLength=\"64\" x=\"57\" y=\"170.1387\">«part def»</text><text fill=\"#000000\" font-family=\"sans-serif\" font-size=\"12\" lengthAdjust=\"spacingAndGlyphs\" textLength=\"8\" x=\"85\" y=\"184.1074\">B</text><line style=\"stroke: #383838; stroke-width: 1.5;\" x1=\"57\" x2=\"121\" y1=\"191.9375\" y2=\"191.9375\"/></a><!--MD5=[e9be52314489bd878ff4c7144b63c9e1]\n",
       "link E5 to E3--><a href=\"psysml:25d642ee-de35-43b5-ac2f-29504efb7d68\" target=\"_top\" title=\"psysml:25d642ee-de35-43b5-ac2f-29504efb7d68\" xlink:actuate=\"onRequest\" xlink:href=\"psysml:25d642ee-de35-43b5-ac2f-29504efb7d68\" xlink:show=\"new\" xlink:title=\"psysml:25d642ee-de35-43b5-ac2f-29504efb7d68\" xlink:type=\"simple\"><path d=\"M211,90.51 C211,102.89 211,118.78 211,133.48 \" fill=\"none\" id=\"E5-&gt;E3\" style=\"stroke: #383838; stroke-width: 1.0;\"/><polygon fill=\"#FFFFFF\" points=\"211,153.65,204,134.65,218,134.65,211,153.65\" style=\"stroke: #383838; stroke-width: 1.0;\"/><ellipse cx=\"206\" cy=\"128.95\" fill=\"#383838\" rx=\"2\" ry=\"2\" style=\"stroke: #383838; stroke-width: 1.0;\"/><ellipse cx=\"216\" cy=\"128.95\" fill=\"#383838\" rx=\"2\" ry=\"2\" style=\"stroke: #383838; stroke-width: 1.0;\"/></a><!--MD5=[bfa3c8b0d15052fdf50ae9310b491027]\n",
       "link E8 to E7--><a href=\"psysml:d89216b2-7e18-408a-b614-d8caef1c47ec\" target=\"_top\" title=\"psysml:d89216b2-7e18-408a-b614-d8caef1c47ec\" xlink:actuate=\"onRequest\" xlink:href=\"psysml:d89216b2-7e18-408a-b614-d8caef1c47ec\" xlink:show=\"new\" xlink:title=\"psysml:d89216b2-7e18-408a-b614-d8caef1c47ec\" xlink:type=\"simple\"><path d=\"M120.01,90.51 C115.39,103.25 109.42,119.7 103.96,134.76 \" fill=\"none\" id=\"E8-&gt;E7\" style=\"stroke: #383838; stroke-width: 1.0;\"/><polygon fill=\"#FFFFFF\" points=\"97.11,153.65,97.0036,133.4018,110.1656,138.1726,97.11,153.65\" style=\"stroke: #383838; stroke-width: 1.0;\"/><ellipse cx=\"100.8262\" cy=\"128.7245\" fill=\"#383838\" rx=\"2\" ry=\"2\" style=\"stroke: #383838; stroke-width: 1.0;\"/><ellipse cx=\"110.2277\" cy=\"132.1322\" fill=\"#383838\" rx=\"2\" ry=\"2\" style=\"stroke: #383838; stroke-width: 1.0;\"/></a><!--MD5=[1164d7bc334d31dafde73f19ac08b05e]\n",
       "@startuml\r\n",
       " skinparam monochrome true\r\n",
       "skinparam classbackgroundcolor white\r\n",
       "skinparam shadowing false\r\n",
       "skinparam wrapWidth 300\r\n",
       "hide circle\r\n",
       "\r\n",
       "package \"PrivateImportTest\" as E1  [[psysml:04be3c0a-f069-4f88-9dd0-1488cf078b60 ]]  {\r\n",
       "package \"P1\" as E2  [[psysml:2d8a57d2-00aa-4c24-bcf4-c6f0dba3a85a ]]  {\r\n",
       "comp def \"A\" as E3  <<(T,blue)part def>> [[psysml:8088eca0-f00f-4a1f-9db3-28df87f45186 ]] {\r\n",
       "}\r\n",
       "}\r\n",
       "package \"P2\" as E4  [[psysml:f5fce4b6-35f4-4f46-9b6d-d151b55baece ]]  {\r\n",
       "}\r\n",
       "comp usage \"x: A\" as E5  <<(T,blue)part>> [[psysml:43785f75-2189-42e8-ba89-9f38d7235e69 ]] {\r\n",
       "}\r\n",
       "package \"P3\" as E6  [[psysml:0a65db1a-6ec3-4140-b73e-0c5567d9dbea ]]  {\r\n",
       "comp def \"B\" as E7  <<(T,blue)part def>> [[psysml:a9488239-9884-4bc6-98b3-04bdbcc46eca ]] {\r\n",
       "}\r\n",
       "E5 - -:|> E3 [[psysml:25d642ee-de35-43b5-ac2f-29504efb7d68 ]] \r\n",
       "}\r\n",
       "comp usage \"z: B\" as E8  <<(T,blue)part>> [[psysml:ceec508b-c3a9-4167-8e78-7da3e35ca489 ]] {\r\n",
       "}\r\n",
       "E8 - -:|> E7 [[psysml:d89216b2-7e18-408a-b614-d8caef1c47ec ]] \r\n",
       "}\r\n",
       "@enduml\r\n",
       "\n",
       "PlantUML version 1.2020.13(Sat Jun 13 12:26:38 UTC 2020)\n",
       "(EPL source distribution)\n",
       "Java Runtime: OpenJDK Runtime Environment\n",
       "JVM: OpenJDK 64-Bit Server VM\n",
       "Default Encoding: UTF-8\n",
       "Language: en\n",
       "Country: null\n",
       "--></g></svg>"
      ]
     },
     "execution_count": 3,
     "metadata": {},
     "output_type": "execute_result"
    }
   ],
   "source": [
    "%viz --style=\"COMPTREE\" --view=\"Tree\" \"PrivateImportTest\""
   ]
  },
  {
   "cell_type": "code",
   "execution_count": 4,
   "id": "adopted-technique",
   "metadata": {
    "execution": {
     "iopub.execute_input": "2021-03-25T14:10:37.016715Z",
     "iopub.status.busy": "2021-03-25T14:10:37.015519Z",
     "iopub.status.idle": "2021-03-25T14:10:37.028620Z",
     "shell.execute_reply": "2021-03-25T14:10:37.027654Z"
    }
   },
   "outputs": [
    {
     "data": {
      "image/svg+xml": [
       "<?xml version=\"1.0\" encoding=\"UTF-8\" standalone=\"no\"?><svg xmlns=\"http://www.w3.org/2000/svg\" xmlns:xlink=\"http://www.w3.org/1999/xlink\" contentScriptType=\"application/ecmascript\" contentStyleType=\"text/css\" height=\"12px\" preserveAspectRatio=\"none\" style=\"width:12px;height:12px;\" version=\"1.1\" viewBox=\"0 0 12 12\" width=\"12px\" zoomAndPan=\"magnify\"><defs/><g><!--MD5=[f19188ef49e11757b5c46753f95d9edc]\n",
       "@startuml\r\n",
       " skinparam monochrome true\r\n",
       "skinparam classbackgroundcolor white\r\n",
       "skinparam shadowing false\r\n",
       "skinparam wrapWidth 300\r\n",
       "hide circle\r\n",
       "\r\n",
       "@enduml\r\n",
       "\n",
       "PlantUML version 1.2020.13(Sat Jun 13 12:26:38 UTC 2020)\n",
       "(EPL source distribution)\n",
       "Java Runtime: OpenJDK Runtime Environment\n",
       "JVM: OpenJDK 64-Bit Server VM\n",
       "Default Encoding: UTF-8\n",
       "Language: en\n",
       "Country: null\n",
       "--></g></svg>"
      ]
     },
     "execution_count": 4,
     "metadata": {},
     "output_type": "execute_result"
    }
   ],
   "source": [
    "%viz --style=\"COMPTREE\" --view=\"State\" \"PrivateImportTest\""
   ]
  },
  {
   "cell_type": "code",
   "execution_count": 5,
   "id": "resident-montana",
   "metadata": {
    "execution": {
     "iopub.execute_input": "2021-03-25T14:10:37.082064Z",
     "iopub.status.busy": "2021-03-25T14:10:37.081060Z",
     "iopub.status.idle": "2021-03-25T14:10:37.169694Z",
     "shell.execute_reply": "2021-03-25T14:10:37.170159Z"
    }
   },
   "outputs": [
    {
     "data": {
      "image/svg+xml": [
       "<?xml version=\"1.0\" encoding=\"UTF-8\" standalone=\"no\"?><svg xmlns=\"http://www.w3.org/2000/svg\" xmlns:xlink=\"http://www.w3.org/1999/xlink\" contentScriptType=\"application/ecmascript\" contentStyleType=\"text/css\" height=\"179px\" preserveAspectRatio=\"none\" style=\"width:539px;height:179px;\" version=\"1.1\" viewBox=\"0 0 539 179\" width=\"539px\" zoomAndPan=\"magnify\"><defs/><g><!--MD5=[fbc87193dbaf4d95561dea2c320d4a47]\n",
       "cluster E1--><a href=\"psysml:04be3c0a-f069-4f88-9dd0-1488cf078b60\" target=\"_top\" title=\"psysml:04be3c0a-f069-4f88-9dd0-1488cf078b60\" xlink:actuate=\"onRequest\" xlink:href=\"psysml:04be3c0a-f069-4f88-9dd0-1488cf078b60\" xlink:show=\"new\" xlink:title=\"psysml:04be3c0a-f069-4f88-9dd0-1488cf078b60\" xlink:type=\"simple\"><polygon fill=\"#FFFFFF\" points=\"16,6,163,6,170,28.2969,517,28.2969,517,167,16,167,16,6\" style=\"stroke: #000000; stroke-width: 1.5;\"/><line style=\"stroke: #000000; stroke-width: 1.5;\" x1=\"16\" x2=\"170\" y1=\"28.2969\" y2=\"28.2969\"/><text fill=\"#000000\" font-family=\"sans-serif\" font-size=\"14\" font-weight=\"bold\" lengthAdjust=\"spacingAndGlyphs\" textLength=\"141\" x=\"20\" y=\"20.9951\">PrivateImportTest</text></a><!--MD5=[e4f7fae6ed58524ba242bb0b0d3be6b7]\n",
       "cluster E2--><a href=\"psysml:2d8a57d2-00aa-4c24-bcf4-c6f0dba3a85a\" target=\"_top\" title=\"psysml:2d8a57d2-00aa-4c24-bcf4-c6f0dba3a85a\" xlink:actuate=\"onRequest\" xlink:href=\"psysml:2d8a57d2-00aa-4c24-bcf4-c6f0dba3a85a\" xlink:show=\"new\" xlink:title=\"psysml:2d8a57d2-00aa-4c24-bcf4-c6f0dba3a85a\" xlink:type=\"simple\"><polygon fill=\"#FFFFFF\" points=\"389,49,415,49,422,71.2969,493,71.2969,493,143,389,143,389,49\" style=\"stroke: #000000; stroke-width: 1.5;\"/><line style=\"stroke: #000000; stroke-width: 1.5;\" x1=\"389\" x2=\"422\" y1=\"71.2969\" y2=\"71.2969\"/><text fill=\"#000000\" font-family=\"sans-serif\" font-size=\"14\" font-weight=\"bold\" lengthAdjust=\"spacingAndGlyphs\" textLength=\"20\" x=\"393\" y=\"63.9951\">P1</text></a><!--MD5=[14e3b0961a2654348d326746436168a1]\n",
       "cluster E6--><a href=\"psysml:0a65db1a-6ec3-4140-b73e-0c5567d9dbea\" target=\"_top\" title=\"psysml:0a65db1a-6ec3-4140-b73e-0c5567d9dbea\" xlink:actuate=\"onRequest\" xlink:href=\"psysml:0a65db1a-6ec3-4140-b73e-0c5567d9dbea\" xlink:show=\"new\" xlink:title=\"psysml:0a65db1a-6ec3-4140-b73e-0c5567d9dbea\" xlink:type=\"simple\"><polygon fill=\"#FFFFFF\" points=\"261,49,287,49,294,71.2969,365,71.2969,365,143,261,143,261,49\" style=\"stroke: #000000; stroke-width: 1.5;\"/><line style=\"stroke: #000000; stroke-width: 1.5;\" x1=\"261\" x2=\"294\" y1=\"71.2969\" y2=\"71.2969\"/><text fill=\"#000000\" font-family=\"sans-serif\" font-size=\"14\" font-weight=\"bold\" lengthAdjust=\"spacingAndGlyphs\" textLength=\"20\" x=\"265\" y=\"63.9951\">P3</text></a><g id=\"E1.E2.E3\"><a href=\"psysml:8088eca0-f00f-4a1f-9db3-28df87f45186\" target=\"_top\" title=\"psysml:8088eca0-f00f-4a1f-9db3-28df87f45186\" xlink:actuate=\"onRequest\" xlink:href=\"psysml:8088eca0-f00f-4a1f-9db3-28df87f45186\" xlink:show=\"new\" xlink:title=\"psysml:8088eca0-f00f-4a1f-9db3-28df87f45186\" xlink:type=\"simple\"><rect fill=\"#FFFFFF\" height=\"42.9375\" id=\"E3\" style=\"stroke: #383838; stroke-width: 1.5;\" width=\"71\" x=\"405.5\" y=\"84\"/><rect fill=\"#F8F8F8\" height=\"37.9375\" style=\"stroke: #383838; stroke-width: 1.5;\" width=\"71\" x=\"405.5\" y=\"84\"/><text fill=\"#000000\" font-family=\"sans-serif\" font-size=\"12\" font-style=\"italic\" lengthAdjust=\"spacingAndGlyphs\" textLength=\"64\" x=\"409\" y=\"100.1387\">«part def»</text><text fill=\"#000000\" font-family=\"sans-serif\" font-size=\"12\" lengthAdjust=\"spacingAndGlyphs\" textLength=\"8\" x=\"437\" y=\"114.1074\">A</text></a></g><a href=\"psysml:f5fce4b6-35f4-4f46-9b6d-d151b55baece\" target=\"_top\" title=\"psysml:f5fce4b6-35f4-4f46-9b6d-d151b55baece\" xlink:actuate=\"onRequest\" xlink:href=\"psysml:f5fce4b6-35f4-4f46-9b6d-d151b55baece\" xlink:show=\"new\" xlink:title=\"psysml:f5fce4b6-35f4-4f46-9b6d-d151b55baece\" xlink:type=\"simple\"><polygon fill=\"#FFFFFF\" points=\"202,79,228,79,235,101.2969,242,101.2969,242,131.5938,202,131.5938,202,79\" style=\"stroke: #000000; stroke-width: 1.5;\"/><line style=\"stroke: #000000; stroke-width: 1.5;\" x1=\"202\" x2=\"235\" y1=\"101.2969\" y2=\"101.2969\"/><text fill=\"#000000\" font-family=\"sans-serif\" font-size=\"14\" font-weight=\"bold\" lengthAdjust=\"spacingAndGlyphs\" textLength=\"20\" x=\"206\" y=\"93.9951\">P2</text></a><g id=\"E1.E5\"><a href=\"psysml:43785f75-2189-42e8-ba89-9f38d7235e69\" target=\"_top\" title=\"psysml:43785f75-2189-42e8-ba89-9f38d7235e69\" xlink:actuate=\"onRequest\" xlink:href=\"psysml:43785f75-2189-42e8-ba89-9f38d7235e69\" xlink:show=\"new\" xlink:title=\"psysml:43785f75-2189-42e8-ba89-9f38d7235e69\" xlink:type=\"simple\"><rect fill=\"#FFFFFF\" height=\"40\" id=\"E5\" rx=\"10\" ry=\"10\" style=\"stroke: #383838; stroke-width: 1.5;\" width=\"50\" x=\"117\" y=\"85.5\"/><rect fill=\"#F8F8F8\" height=\"23.9688\" rx=\"10\" ry=\"10\" style=\"stroke: #F8F8F8; stroke-width: 1.5;\" width=\"50\" x=\"117\" y=\"85.5\"/><rect fill=\"#F8F8F8\" height=\"10\" style=\"stroke: #F8F8F8; stroke-width: 1.5;\" width=\"50\" x=\"117\" y=\"99.4688\"/><rect fill=\"none\" height=\"40\" id=\"E5\" rx=\"10\" ry=\"10\" style=\"stroke: #383838; stroke-width: 1.5;\" width=\"50\" x=\"117\" y=\"85.5\"/><text fill=\"#000000\" font-family=\"sans-serif\" font-size=\"12\" lengthAdjust=\"spacingAndGlyphs\" textLength=\"22\" x=\"131\" y=\"101.6387\">x: A</text></a></g><g id=\"E1.E6.E7\"><a href=\"psysml:a9488239-9884-4bc6-98b3-04bdbcc46eca\" target=\"_top\" title=\"psysml:a9488239-9884-4bc6-98b3-04bdbcc46eca\" xlink:actuate=\"onRequest\" xlink:href=\"psysml:a9488239-9884-4bc6-98b3-04bdbcc46eca\" xlink:show=\"new\" xlink:title=\"psysml:a9488239-9884-4bc6-98b3-04bdbcc46eca\" xlink:type=\"simple\"><rect fill=\"#FFFFFF\" height=\"42.9375\" id=\"E7\" style=\"stroke: #383838; stroke-width: 1.5;\" width=\"71\" x=\"277.5\" y=\"84\"/><rect fill=\"#F8F8F8\" height=\"37.9375\" style=\"stroke: #383838; stroke-width: 1.5;\" width=\"71\" x=\"277.5\" y=\"84\"/><text fill=\"#000000\" font-family=\"sans-serif\" font-size=\"12\" font-style=\"italic\" lengthAdjust=\"spacingAndGlyphs\" textLength=\"64\" x=\"281\" y=\"100.1387\">«part def»</text><text fill=\"#000000\" font-family=\"sans-serif\" font-size=\"12\" lengthAdjust=\"spacingAndGlyphs\" textLength=\"8\" x=\"309\" y=\"114.1074\">B</text></a></g><g id=\"E1.E8\"><a href=\"psysml:ceec508b-c3a9-4167-8e78-7da3e35ca489\" target=\"_top\" title=\"psysml:ceec508b-c3a9-4167-8e78-7da3e35ca489\" xlink:actuate=\"onRequest\" xlink:href=\"psysml:ceec508b-c3a9-4167-8e78-7da3e35ca489\" xlink:show=\"new\" xlink:title=\"psysml:ceec508b-c3a9-4167-8e78-7da3e35ca489\" xlink:type=\"simple\"><rect fill=\"#FFFFFF\" height=\"40\" id=\"E8\" rx=\"10\" ry=\"10\" style=\"stroke: #383838; stroke-width: 1.5;\" width=\"50\" x=\"32\" y=\"85.5\"/><rect fill=\"#F8F8F8\" height=\"23.9688\" rx=\"10\" ry=\"10\" style=\"stroke: #F8F8F8; stroke-width: 1.5;\" width=\"50\" x=\"32\" y=\"85.5\"/><rect fill=\"#F8F8F8\" height=\"10\" style=\"stroke: #F8F8F8; stroke-width: 1.5;\" width=\"50\" x=\"32\" y=\"99.4688\"/><rect fill=\"none\" height=\"40\" id=\"E8\" rx=\"10\" ry=\"10\" style=\"stroke: #383838; stroke-width: 1.5;\" width=\"50\" x=\"32\" y=\"85.5\"/><text fill=\"#000000\" font-family=\"sans-serif\" font-size=\"12\" lengthAdjust=\"spacingAndGlyphs\" textLength=\"21\" x=\"46.5\" y=\"101.6387\">z: B</text></a></g><!--MD5=[1a1670348e2b4b60941cb9c02dce48de]\n",
       "@startuml\r\n",
       "skinparam ranksep 10\r\n",
       "skinparam rectangle {\r\n",
       " backgroundColor<<block>> LightGreen\r\n",
       "}\r\n",
       " skinparam monochrome true\r\n",
       "skinparam classbackgroundcolor white\r\n",
       "skinparam shadowing false\r\n",
       "skinparam wrapWidth 300\r\n",
       "hide circle\r\n",
       "\r\n",
       "package \"PrivateImportTest\" as E1  [[psysml:04be3c0a-f069-4f88-9dd0-1488cf078b60 ]]  {\r\n",
       "package \"P1\" as E2  [[psysml:2d8a57d2-00aa-4c24-bcf4-c6f0dba3a85a ]]  {\r\n",
       "rec def \"A\" as E3  <<(T,blue)part def>> [[psysml:8088eca0-f00f-4a1f-9db3-28df87f45186 ]] {\r\n",
       "}\r\n",
       "}\r\n",
       "package \"P2\" as E4  [[psysml:f5fce4b6-35f4-4f46-9b6d-d151b55baece ]]  {\r\n",
       "}\r\n",
       "rec usage \"x: A\" as E5  [[psysml:43785f75-2189-42e8-ba89-9f38d7235e69 ]] {\r\n",
       "}\r\n",
       "package \"P3\" as E6  [[psysml:0a65db1a-6ec3-4140-b73e-0c5567d9dbea ]]  {\r\n",
       "rec def \"B\" as E7  <<(T,blue)part def>> [[psysml:a9488239-9884-4bc6-98b3-04bdbcc46eca ]] {\r\n",
       "}\r\n",
       "}\r\n",
       "rec usage \"z: B\" as E8  [[psysml:ceec508b-c3a9-4167-8e78-7da3e35ca489 ]] {\r\n",
       "}\r\n",
       "}\r\n",
       "@enduml\r\n",
       "\n",
       "PlantUML version 1.2020.13(Sat Jun 13 12:26:38 UTC 2020)\n",
       "(EPL source distribution)\n",
       "Java Runtime: OpenJDK Runtime Environment\n",
       "JVM: OpenJDK 64-Bit Server VM\n",
       "Default Encoding: UTF-8\n",
       "Language: en\n",
       "Country: null\n",
       "--></g></svg>"
      ]
     },
     "execution_count": 5,
     "metadata": {},
     "output_type": "execute_result"
    }
   ],
   "source": [
    "%viz --style=\"COMPTREE\" --view=\"Interconnection\" \"PrivateImportTest\""
   ]
  },
  {
   "cell_type": "code",
   "execution_count": 6,
   "id": "vanilla-roots",
   "metadata": {
    "execution": {
     "iopub.execute_input": "2021-03-25T14:10:37.220451Z",
     "iopub.status.busy": "2021-03-25T14:10:37.220086Z",
     "iopub.status.idle": "2021-03-25T14:10:37.230791Z",
     "shell.execute_reply": "2021-03-25T14:10:37.231307Z"
    }
   },
   "outputs": [
    {
     "data": {
      "image/svg+xml": [
       "<?xml version=\"1.0\" encoding=\"UTF-8\" standalone=\"no\"?><svg xmlns=\"http://www.w3.org/2000/svg\" xmlns:xlink=\"http://www.w3.org/1999/xlink\" contentScriptType=\"application/ecmascript\" contentStyleType=\"text/css\" height=\"12px\" preserveAspectRatio=\"none\" style=\"width:12px;height:12px;\" version=\"1.1\" viewBox=\"0 0 12 12\" width=\"12px\" zoomAndPan=\"magnify\"><defs/><g><!--MD5=[655b888544ca4751ea36af1068543f84]\n",
       "@startuml\r\n",
       "skinparam ranksep 8\r\n",
       " skinparam monochrome true\r\n",
       "skinparam classbackgroundcolor white\r\n",
       "skinparam shadowing false\r\n",
       "skinparam wrapWidth 300\r\n",
       "hide circle\r\n",
       "\r\n",
       "@enduml\r\n",
       "\n",
       "PlantUML version 1.2020.13(Sat Jun 13 12:26:38 UTC 2020)\n",
       "(EPL source distribution)\n",
       "Java Runtime: OpenJDK Runtime Environment\n",
       "JVM: OpenJDK 64-Bit Server VM\n",
       "Default Encoding: UTF-8\n",
       "Language: en\n",
       "Country: null\n",
       "--></g></svg>"
      ]
     },
     "execution_count": 6,
     "metadata": {},
     "output_type": "execute_result"
    }
   ],
   "source": [
    "%viz --style=\"COMPTREE\" --view=\"Action\" \"PrivateImportTest\""
   ]
  },
  {
   "cell_type": "code",
   "execution_count": 7,
   "id": "thorough-disability",
   "metadata": {
    "execution": {
     "iopub.execute_input": "2021-03-25T14:10:37.285818Z",
     "iopub.status.busy": "2021-03-25T14:10:37.285313Z",
     "iopub.status.idle": "2021-03-25T14:10:37.376125Z",
     "shell.execute_reply": "2021-03-25T14:10:37.376572Z"
    }
   },
   "outputs": [
    {
     "data": {
      "image/svg+xml": [
       "<?xml version=\"1.0\" encoding=\"UTF-8\" standalone=\"no\"?><svg xmlns=\"http://www.w3.org/2000/svg\" xmlns:xlink=\"http://www.w3.org/1999/xlink\" contentScriptType=\"application/ecmascript\" contentStyleType=\"text/css\" height=\"252px\" preserveAspectRatio=\"none\" style=\"width:306px;height:252px;\" version=\"1.1\" viewBox=\"0 0 306 252\" width=\"306px\" zoomAndPan=\"magnify\"><defs/><g><!--MD5=[fbc87193dbaf4d95561dea2c320d4a47]\n",
       "cluster E1--><a href=\"psysml:04be3c0a-f069-4f88-9dd0-1488cf078b60\" target=\"_top\" title=\"psysml:04be3c0a-f069-4f88-9dd0-1488cf078b60\" xlink:actuate=\"onRequest\" xlink:href=\"psysml:04be3c0a-f069-4f88-9dd0-1488cf078b60\" xlink:show=\"new\" xlink:title=\"psysml:04be3c0a-f069-4f88-9dd0-1488cf078b60\" xlink:type=\"simple\"><polygon fill=\"#FFFFFF\" points=\"16,6,163,6,170,28.2969,284,28.2969,284,240,16,240,16,6\" style=\"stroke: #000000; stroke-width: 1.5;\"/><line style=\"stroke: #000000; stroke-width: 1.5;\" x1=\"16\" x2=\"170\" y1=\"28.2969\" y2=\"28.2969\"/><text fill=\"#000000\" font-family=\"sans-serif\" font-size=\"14\" font-weight=\"bold\" lengthAdjust=\"spacingAndGlyphs\" textLength=\"141\" x=\"20\" y=\"20.9951\">PrivateImportTest</text></a><!--MD5=[e4f7fae6ed58524ba242bb0b0d3be6b7]\n",
       "cluster E2--><a href=\"psysml:2d8a57d2-00aa-4c24-bcf4-c6f0dba3a85a\" target=\"_top\" title=\"psysml:2d8a57d2-00aa-4c24-bcf4-c6f0dba3a85a\" xlink:actuate=\"onRequest\" xlink:href=\"psysml:2d8a57d2-00aa-4c24-bcf4-c6f0dba3a85a\" xlink:show=\"new\" xlink:title=\"psysml:2d8a57d2-00aa-4c24-bcf4-c6f0dba3a85a\" xlink:type=\"simple\"><polygon fill=\"#FFFFFF\" points=\"162,119,188,119,195,141.2969,260,141.2969,260,216,162,216,162,119\" style=\"stroke: #000000; stroke-width: 1.5;\"/><line style=\"stroke: #000000; stroke-width: 1.5;\" x1=\"162\" x2=\"195\" y1=\"141.2969\" y2=\"141.2969\"/><text fill=\"#000000\" font-family=\"sans-serif\" font-size=\"14\" font-weight=\"bold\" lengthAdjust=\"spacingAndGlyphs\" textLength=\"20\" x=\"166\" y=\"133.9951\">P1</text></a><!--MD5=[14e3b0961a2654348d326746436168a1]\n",
       "cluster E6--><a href=\"psysml:0a65db1a-6ec3-4140-b73e-0c5567d9dbea\" target=\"_top\" title=\"psysml:0a65db1a-6ec3-4140-b73e-0c5567d9dbea\" xlink:actuate=\"onRequest\" xlink:href=\"psysml:0a65db1a-6ec3-4140-b73e-0c5567d9dbea\" xlink:show=\"new\" xlink:title=\"psysml:0a65db1a-6ec3-4140-b73e-0c5567d9dbea\" xlink:type=\"simple\"><polygon fill=\"#FFFFFF\" points=\"40,119,66,119,73,141.2969,138,141.2969,138,216,40,216,40,119\" style=\"stroke: #000000; stroke-width: 1.5;\"/><line style=\"stroke: #000000; stroke-width: 1.5;\" x1=\"40\" x2=\"73\" y1=\"141.2969\" y2=\"141.2969\"/><text fill=\"#000000\" font-family=\"sans-serif\" font-size=\"14\" font-weight=\"bold\" lengthAdjust=\"spacingAndGlyphs\" textLength=\"20\" x=\"44\" y=\"133.9951\">P3</text></a><!--MD5=[270fce915f116d4de14055a7c1d9a0f3]\n",
       "class E5--><a href=\"psysml:43785f75-2189-42e8-ba89-9f38d7235e69\" target=\"_top\" title=\"psysml:43785f75-2189-42e8-ba89-9f38d7235e69\" xlink:actuate=\"onRequest\" xlink:href=\"psysml:43785f75-2189-42e8-ba89-9f38d7235e69\" xlink:show=\"new\" xlink:title=\"psysml:43785f75-2189-42e8-ba89-9f38d7235e69\" xlink:type=\"simple\"><rect fill=\"#FFFFFF\" height=\"45.9375\" id=\"E5\" rx=\"10\" ry=\"10\" style=\"stroke: #383838; stroke-width: 1.5;\" width=\"42\" x=\"190\" y=\"44.5\"/><text fill=\"#000000\" font-family=\"sans-serif\" font-size=\"12\" font-style=\"italic\" lengthAdjust=\"spacingAndGlyphs\" textLength=\"40\" x=\"191\" y=\"60.6387\">«part»</text><text fill=\"#000000\" font-family=\"sans-serif\" font-size=\"12\" lengthAdjust=\"spacingAndGlyphs\" textLength=\"22\" x=\"200\" y=\"74.6074\">x: A</text><line style=\"stroke: #383838; stroke-width: 1.5;\" x1=\"191\" x2=\"231\" y1=\"82.4375\" y2=\"82.4375\"/></a><!--MD5=[b9389687b975829384b498ac4b7476b2]\n",
       "class E8--><a href=\"psysml:ceec508b-c3a9-4167-8e78-7da3e35ca489\" target=\"_top\" title=\"psysml:ceec508b-c3a9-4167-8e78-7da3e35ca489\" xlink:actuate=\"onRequest\" xlink:href=\"psysml:ceec508b-c3a9-4167-8e78-7da3e35ca489\" xlink:show=\"new\" xlink:title=\"psysml:ceec508b-c3a9-4167-8e78-7da3e35ca489\" xlink:type=\"simple\"><rect fill=\"#FFFFFF\" height=\"45.9375\" id=\"E8\" rx=\"10\" ry=\"10\" style=\"stroke: #383838; stroke-width: 1.5;\" width=\"42\" x=\"107\" y=\"44.5\"/><text fill=\"#000000\" font-family=\"sans-serif\" font-size=\"12\" font-style=\"italic\" lengthAdjust=\"spacingAndGlyphs\" textLength=\"40\" x=\"108\" y=\"60.6387\">«part»</text><text fill=\"#000000\" font-family=\"sans-serif\" font-size=\"12\" lengthAdjust=\"spacingAndGlyphs\" textLength=\"21\" x=\"117.5\" y=\"74.6074\">z: B</text><line style=\"stroke: #383838; stroke-width: 1.5;\" x1=\"108\" x2=\"148\" y1=\"82.4375\" y2=\"82.4375\"/></a><!--MD5=[09b614a08d8cba4a07c9adeb5e0fee81]\n",
       "class E3--><a href=\"psysml:8088eca0-f00f-4a1f-9db3-28df87f45186\" target=\"_top\" title=\"psysml:8088eca0-f00f-4a1f-9db3-28df87f45186\" xlink:actuate=\"onRequest\" xlink:href=\"psysml:8088eca0-f00f-4a1f-9db3-28df87f45186\" xlink:show=\"new\" xlink:title=\"psysml:8088eca0-f00f-4a1f-9db3-28df87f45186\" xlink:type=\"simple\"><rect fill=\"#FFFFFF\" height=\"45.9375\" id=\"E3\" style=\"stroke: #383838; stroke-width: 1.5;\" width=\"66\" x=\"178\" y=\"154\"/><text fill=\"#000000\" font-family=\"sans-serif\" font-size=\"12\" font-style=\"italic\" lengthAdjust=\"spacingAndGlyphs\" textLength=\"64\" x=\"179\" y=\"170.1387\">«part def»</text><text fill=\"#000000\" font-family=\"sans-serif\" font-size=\"12\" lengthAdjust=\"spacingAndGlyphs\" textLength=\"8\" x=\"207\" y=\"184.1074\">A</text><line style=\"stroke: #383838; stroke-width: 1.5;\" x1=\"179\" x2=\"243\" y1=\"191.9375\" y2=\"191.9375\"/></a><a href=\"psysml:f5fce4b6-35f4-4f46-9b6d-d151b55baece\" target=\"_top\" title=\"psysml:f5fce4b6-35f4-4f46-9b6d-d151b55baece\" xlink:actuate=\"onRequest\" xlink:href=\"psysml:f5fce4b6-35f4-4f46-9b6d-d151b55baece\" xlink:show=\"new\" xlink:title=\"psysml:f5fce4b6-35f4-4f46-9b6d-d151b55baece\" xlink:type=\"simple\"><polygon fill=\"#FFFFFF\" points=\"32,41,58,41,65,63.2969,72,63.2969,72,93.5938,32,93.5938,32,41\" style=\"stroke: #000000; stroke-width: 1.5;\"/><line style=\"stroke: #000000; stroke-width: 1.5;\" x1=\"32\" x2=\"65\" y1=\"63.2969\" y2=\"63.2969\"/><text fill=\"#000000\" font-family=\"sans-serif\" font-size=\"14\" font-weight=\"bold\" lengthAdjust=\"spacingAndGlyphs\" textLength=\"20\" x=\"36\" y=\"55.9951\">P2</text></a><!--MD5=[2156ba9850f5573cc1fc38a6a4b2f02b]\n",
       "class E7--><a href=\"psysml:a9488239-9884-4bc6-98b3-04bdbcc46eca\" target=\"_top\" title=\"psysml:a9488239-9884-4bc6-98b3-04bdbcc46eca\" xlink:actuate=\"onRequest\" xlink:href=\"psysml:a9488239-9884-4bc6-98b3-04bdbcc46eca\" xlink:show=\"new\" xlink:title=\"psysml:a9488239-9884-4bc6-98b3-04bdbcc46eca\" xlink:type=\"simple\"><rect fill=\"#FFFFFF\" height=\"45.9375\" id=\"E7\" style=\"stroke: #383838; stroke-width: 1.5;\" width=\"66\" x=\"56\" y=\"154\"/><text fill=\"#000000\" font-family=\"sans-serif\" font-size=\"12\" font-style=\"italic\" lengthAdjust=\"spacingAndGlyphs\" textLength=\"64\" x=\"57\" y=\"170.1387\">«part def»</text><text fill=\"#000000\" font-family=\"sans-serif\" font-size=\"12\" lengthAdjust=\"spacingAndGlyphs\" textLength=\"8\" x=\"85\" y=\"184.1074\">B</text><line style=\"stroke: #383838; stroke-width: 1.5;\" x1=\"57\" x2=\"121\" y1=\"191.9375\" y2=\"191.9375\"/></a><!--MD5=[e9be52314489bd878ff4c7144b63c9e1]\n",
       "link E5 to E3--><a href=\"psysml:25d642ee-de35-43b5-ac2f-29504efb7d68\" target=\"_top\" title=\"psysml:25d642ee-de35-43b5-ac2f-29504efb7d68\" xlink:actuate=\"onRequest\" xlink:href=\"psysml:25d642ee-de35-43b5-ac2f-29504efb7d68\" xlink:show=\"new\" xlink:title=\"psysml:25d642ee-de35-43b5-ac2f-29504efb7d68\" xlink:type=\"simple\"><path d=\"M211,90.51 C211,102.89 211,118.78 211,133.48 \" fill=\"none\" id=\"E5-&gt;E3\" style=\"stroke: #383838; stroke-width: 1.0;\"/><polygon fill=\"#FFFFFF\" points=\"211,153.65,204,134.65,218,134.65,211,153.65\" style=\"stroke: #383838; stroke-width: 1.0;\"/><ellipse cx=\"206\" cy=\"128.95\" fill=\"#383838\" rx=\"2\" ry=\"2\" style=\"stroke: #383838; stroke-width: 1.0;\"/><ellipse cx=\"216\" cy=\"128.95\" fill=\"#383838\" rx=\"2\" ry=\"2\" style=\"stroke: #383838; stroke-width: 1.0;\"/></a><!--MD5=[bfa3c8b0d15052fdf50ae9310b491027]\n",
       "link E8 to E7--><a href=\"psysml:d89216b2-7e18-408a-b614-d8caef1c47ec\" target=\"_top\" title=\"psysml:d89216b2-7e18-408a-b614-d8caef1c47ec\" xlink:actuate=\"onRequest\" xlink:href=\"psysml:d89216b2-7e18-408a-b614-d8caef1c47ec\" xlink:show=\"new\" xlink:title=\"psysml:d89216b2-7e18-408a-b614-d8caef1c47ec\" xlink:type=\"simple\"><path d=\"M120.01,90.51 C115.39,103.25 109.42,119.7 103.96,134.76 \" fill=\"none\" id=\"E8-&gt;E7\" style=\"stroke: #383838; stroke-width: 1.0;\"/><polygon fill=\"#FFFFFF\" points=\"97.11,153.65,97.0036,133.4018,110.1656,138.1726,97.11,153.65\" style=\"stroke: #383838; stroke-width: 1.0;\"/><ellipse cx=\"100.8262\" cy=\"128.7245\" fill=\"#383838\" rx=\"2\" ry=\"2\" style=\"stroke: #383838; stroke-width: 1.0;\"/><ellipse cx=\"110.2277\" cy=\"132.1322\" fill=\"#383838\" rx=\"2\" ry=\"2\" style=\"stroke: #383838; stroke-width: 1.0;\"/></a><!--MD5=[1164d7bc334d31dafde73f19ac08b05e]\n",
       "@startuml\r\n",
       " skinparam monochrome true\r\n",
       "skinparam classbackgroundcolor white\r\n",
       "skinparam shadowing false\r\n",
       "skinparam wrapWidth 300\r\n",
       "hide circle\r\n",
       "\r\n",
       "package \"PrivateImportTest\" as E1  [[psysml:04be3c0a-f069-4f88-9dd0-1488cf078b60 ]]  {\r\n",
       "package \"P1\" as E2  [[psysml:2d8a57d2-00aa-4c24-bcf4-c6f0dba3a85a ]]  {\r\n",
       "comp def \"A\" as E3  <<(T,blue)part def>> [[psysml:8088eca0-f00f-4a1f-9db3-28df87f45186 ]] {\r\n",
       "}\r\n",
       "}\r\n",
       "package \"P2\" as E4  [[psysml:f5fce4b6-35f4-4f46-9b6d-d151b55baece ]]  {\r\n",
       "}\r\n",
       "comp usage \"x: A\" as E5  <<(T,blue)part>> [[psysml:43785f75-2189-42e8-ba89-9f38d7235e69 ]] {\r\n",
       "}\r\n",
       "package \"P3\" as E6  [[psysml:0a65db1a-6ec3-4140-b73e-0c5567d9dbea ]]  {\r\n",
       "comp def \"B\" as E7  <<(T,blue)part def>> [[psysml:a9488239-9884-4bc6-98b3-04bdbcc46eca ]] {\r\n",
       "}\r\n",
       "E5 - -:|> E3 [[psysml:25d642ee-de35-43b5-ac2f-29504efb7d68 ]] \r\n",
       "}\r\n",
       "comp usage \"z: B\" as E8  <<(T,blue)part>> [[psysml:ceec508b-c3a9-4167-8e78-7da3e35ca489 ]] {\r\n",
       "}\r\n",
       "E8 - -:|> E7 [[psysml:d89216b2-7e18-408a-b614-d8caef1c47ec ]] \r\n",
       "}\r\n",
       "@enduml\r\n",
       "\n",
       "PlantUML version 1.2020.13(Sat Jun 13 12:26:38 UTC 2020)\n",
       "(EPL source distribution)\n",
       "Java Runtime: OpenJDK Runtime Environment\n",
       "JVM: OpenJDK 64-Bit Server VM\n",
       "Default Encoding: UTF-8\n",
       "Language: en\n",
       "Country: null\n",
       "--></g></svg>"
      ]
     },
     "execution_count": 7,
     "metadata": {},
     "output_type": "execute_result"
    }
   ],
   "source": [
    "%viz --style=\"COMPTREE\" --view=\"Sequence\" \"PrivateImportTest\""
   ]
  },
  {
   "cell_type": "code",
   "execution_count": 8,
   "id": "sonic-mediterranean",
   "metadata": {
    "execution": {
     "iopub.execute_input": "2021-03-25T14:10:37.428102Z",
     "iopub.status.busy": "2021-03-25T14:10:37.427452Z",
     "iopub.status.idle": "2021-03-25T14:10:37.510831Z",
     "shell.execute_reply": "2021-03-25T14:10:37.511337Z"
    }
   },
   "outputs": [
    {
     "data": {
      "image/svg+xml": [
       "<?xml version=\"1.0\" encoding=\"UTF-8\" standalone=\"no\"?><svg xmlns=\"http://www.w3.org/2000/svg\" xmlns:xlink=\"http://www.w3.org/1999/xlink\" contentScriptType=\"application/ecmascript\" contentStyleType=\"text/css\" height=\"252px\" preserveAspectRatio=\"none\" style=\"width:306px;height:252px;\" version=\"1.1\" viewBox=\"0 0 306 252\" width=\"306px\" zoomAndPan=\"magnify\"><defs/><g><!--MD5=[fbc87193dbaf4d95561dea2c320d4a47]\n",
       "cluster E1--><a href=\"psysml:04be3c0a-f069-4f88-9dd0-1488cf078b60\" target=\"_top\" title=\"psysml:04be3c0a-f069-4f88-9dd0-1488cf078b60\" xlink:actuate=\"onRequest\" xlink:href=\"psysml:04be3c0a-f069-4f88-9dd0-1488cf078b60\" xlink:show=\"new\" xlink:title=\"psysml:04be3c0a-f069-4f88-9dd0-1488cf078b60\" xlink:type=\"simple\"><polygon fill=\"#FFFFFF\" points=\"16,6,163,6,170,28.2969,284,28.2969,284,240,16,240,16,6\" style=\"stroke: #000000; stroke-width: 1.5;\"/><line style=\"stroke: #000000; stroke-width: 1.5;\" x1=\"16\" x2=\"170\" y1=\"28.2969\" y2=\"28.2969\"/><text fill=\"#000000\" font-family=\"sans-serif\" font-size=\"14\" font-weight=\"bold\" lengthAdjust=\"spacingAndGlyphs\" textLength=\"141\" x=\"20\" y=\"20.9951\">PrivateImportTest</text></a><!--MD5=[e4f7fae6ed58524ba242bb0b0d3be6b7]\n",
       "cluster E2--><a href=\"psysml:2d8a57d2-00aa-4c24-bcf4-c6f0dba3a85a\" target=\"_top\" title=\"psysml:2d8a57d2-00aa-4c24-bcf4-c6f0dba3a85a\" xlink:actuate=\"onRequest\" xlink:href=\"psysml:2d8a57d2-00aa-4c24-bcf4-c6f0dba3a85a\" xlink:show=\"new\" xlink:title=\"psysml:2d8a57d2-00aa-4c24-bcf4-c6f0dba3a85a\" xlink:type=\"simple\"><polygon fill=\"#FFFFFF\" points=\"162,119,188,119,195,141.2969,260,141.2969,260,216,162,216,162,119\" style=\"stroke: #000000; stroke-width: 1.5;\"/><line style=\"stroke: #000000; stroke-width: 1.5;\" x1=\"162\" x2=\"195\" y1=\"141.2969\" y2=\"141.2969\"/><text fill=\"#000000\" font-family=\"sans-serif\" font-size=\"14\" font-weight=\"bold\" lengthAdjust=\"spacingAndGlyphs\" textLength=\"20\" x=\"166\" y=\"133.9951\">P1</text></a><!--MD5=[14e3b0961a2654348d326746436168a1]\n",
       "cluster E6--><a href=\"psysml:0a65db1a-6ec3-4140-b73e-0c5567d9dbea\" target=\"_top\" title=\"psysml:0a65db1a-6ec3-4140-b73e-0c5567d9dbea\" xlink:actuate=\"onRequest\" xlink:href=\"psysml:0a65db1a-6ec3-4140-b73e-0c5567d9dbea\" xlink:show=\"new\" xlink:title=\"psysml:0a65db1a-6ec3-4140-b73e-0c5567d9dbea\" xlink:type=\"simple\"><polygon fill=\"#FFFFFF\" points=\"40,119,66,119,73,141.2969,138,141.2969,138,216,40,216,40,119\" style=\"stroke: #000000; stroke-width: 1.5;\"/><line style=\"stroke: #000000; stroke-width: 1.5;\" x1=\"40\" x2=\"73\" y1=\"141.2969\" y2=\"141.2969\"/><text fill=\"#000000\" font-family=\"sans-serif\" font-size=\"14\" font-weight=\"bold\" lengthAdjust=\"spacingAndGlyphs\" textLength=\"20\" x=\"44\" y=\"133.9951\">P3</text></a><!--MD5=[270fce915f116d4de14055a7c1d9a0f3]\n",
       "class E5--><a href=\"psysml:43785f75-2189-42e8-ba89-9f38d7235e69\" target=\"_top\" title=\"psysml:43785f75-2189-42e8-ba89-9f38d7235e69\" xlink:actuate=\"onRequest\" xlink:href=\"psysml:43785f75-2189-42e8-ba89-9f38d7235e69\" xlink:show=\"new\" xlink:title=\"psysml:43785f75-2189-42e8-ba89-9f38d7235e69\" xlink:type=\"simple\"><rect fill=\"#FFFFFF\" height=\"45.9375\" id=\"E5\" rx=\"10\" ry=\"10\" style=\"stroke: #383838; stroke-width: 1.5;\" width=\"42\" x=\"190\" y=\"44.5\"/><text fill=\"#000000\" font-family=\"sans-serif\" font-size=\"12\" font-style=\"italic\" lengthAdjust=\"spacingAndGlyphs\" textLength=\"40\" x=\"191\" y=\"60.6387\">«part»</text><text fill=\"#000000\" font-family=\"sans-serif\" font-size=\"12\" lengthAdjust=\"spacingAndGlyphs\" textLength=\"22\" x=\"200\" y=\"74.6074\">x: A</text><line style=\"stroke: #383838; stroke-width: 1.5;\" x1=\"191\" x2=\"231\" y1=\"82.4375\" y2=\"82.4375\"/></a><!--MD5=[b9389687b975829384b498ac4b7476b2]\n",
       "class E8--><a href=\"psysml:ceec508b-c3a9-4167-8e78-7da3e35ca489\" target=\"_top\" title=\"psysml:ceec508b-c3a9-4167-8e78-7da3e35ca489\" xlink:actuate=\"onRequest\" xlink:href=\"psysml:ceec508b-c3a9-4167-8e78-7da3e35ca489\" xlink:show=\"new\" xlink:title=\"psysml:ceec508b-c3a9-4167-8e78-7da3e35ca489\" xlink:type=\"simple\"><rect fill=\"#FFFFFF\" height=\"45.9375\" id=\"E8\" rx=\"10\" ry=\"10\" style=\"stroke: #383838; stroke-width: 1.5;\" width=\"42\" x=\"107\" y=\"44.5\"/><text fill=\"#000000\" font-family=\"sans-serif\" font-size=\"12\" font-style=\"italic\" lengthAdjust=\"spacingAndGlyphs\" textLength=\"40\" x=\"108\" y=\"60.6387\">«part»</text><text fill=\"#000000\" font-family=\"sans-serif\" font-size=\"12\" lengthAdjust=\"spacingAndGlyphs\" textLength=\"21\" x=\"117.5\" y=\"74.6074\">z: B</text><line style=\"stroke: #383838; stroke-width: 1.5;\" x1=\"108\" x2=\"148\" y1=\"82.4375\" y2=\"82.4375\"/></a><!--MD5=[09b614a08d8cba4a07c9adeb5e0fee81]\n",
       "class E3--><a href=\"psysml:8088eca0-f00f-4a1f-9db3-28df87f45186\" target=\"_top\" title=\"psysml:8088eca0-f00f-4a1f-9db3-28df87f45186\" xlink:actuate=\"onRequest\" xlink:href=\"psysml:8088eca0-f00f-4a1f-9db3-28df87f45186\" xlink:show=\"new\" xlink:title=\"psysml:8088eca0-f00f-4a1f-9db3-28df87f45186\" xlink:type=\"simple\"><rect fill=\"#FFFFFF\" height=\"45.9375\" id=\"E3\" style=\"stroke: #383838; stroke-width: 1.5;\" width=\"66\" x=\"178\" y=\"154\"/><text fill=\"#000000\" font-family=\"sans-serif\" font-size=\"12\" font-style=\"italic\" lengthAdjust=\"spacingAndGlyphs\" textLength=\"64\" x=\"179\" y=\"170.1387\">«part def»</text><text fill=\"#000000\" font-family=\"sans-serif\" font-size=\"12\" lengthAdjust=\"spacingAndGlyphs\" textLength=\"8\" x=\"207\" y=\"184.1074\">A</text><line style=\"stroke: #383838; stroke-width: 1.5;\" x1=\"179\" x2=\"243\" y1=\"191.9375\" y2=\"191.9375\"/></a><a href=\"psysml:f5fce4b6-35f4-4f46-9b6d-d151b55baece\" target=\"_top\" title=\"psysml:f5fce4b6-35f4-4f46-9b6d-d151b55baece\" xlink:actuate=\"onRequest\" xlink:href=\"psysml:f5fce4b6-35f4-4f46-9b6d-d151b55baece\" xlink:show=\"new\" xlink:title=\"psysml:f5fce4b6-35f4-4f46-9b6d-d151b55baece\" xlink:type=\"simple\"><polygon fill=\"#FFFFFF\" points=\"32,41,58,41,65,63.2969,72,63.2969,72,93.5938,32,93.5938,32,41\" style=\"stroke: #000000; stroke-width: 1.5;\"/><line style=\"stroke: #000000; stroke-width: 1.5;\" x1=\"32\" x2=\"65\" y1=\"63.2969\" y2=\"63.2969\"/><text fill=\"#000000\" font-family=\"sans-serif\" font-size=\"14\" font-weight=\"bold\" lengthAdjust=\"spacingAndGlyphs\" textLength=\"20\" x=\"36\" y=\"55.9951\">P2</text></a><!--MD5=[2156ba9850f5573cc1fc38a6a4b2f02b]\n",
       "class E7--><a href=\"psysml:a9488239-9884-4bc6-98b3-04bdbcc46eca\" target=\"_top\" title=\"psysml:a9488239-9884-4bc6-98b3-04bdbcc46eca\" xlink:actuate=\"onRequest\" xlink:href=\"psysml:a9488239-9884-4bc6-98b3-04bdbcc46eca\" xlink:show=\"new\" xlink:title=\"psysml:a9488239-9884-4bc6-98b3-04bdbcc46eca\" xlink:type=\"simple\"><rect fill=\"#FFFFFF\" height=\"45.9375\" id=\"E7\" style=\"stroke: #383838; stroke-width: 1.5;\" width=\"66\" x=\"56\" y=\"154\"/><text fill=\"#000000\" font-family=\"sans-serif\" font-size=\"12\" font-style=\"italic\" lengthAdjust=\"spacingAndGlyphs\" textLength=\"64\" x=\"57\" y=\"170.1387\">«part def»</text><text fill=\"#000000\" font-family=\"sans-serif\" font-size=\"12\" lengthAdjust=\"spacingAndGlyphs\" textLength=\"8\" x=\"85\" y=\"184.1074\">B</text><line style=\"stroke: #383838; stroke-width: 1.5;\" x1=\"57\" x2=\"121\" y1=\"191.9375\" y2=\"191.9375\"/></a><!--MD5=[e9be52314489bd878ff4c7144b63c9e1]\n",
       "link E5 to E3--><a href=\"psysml:25d642ee-de35-43b5-ac2f-29504efb7d68\" target=\"_top\" title=\"psysml:25d642ee-de35-43b5-ac2f-29504efb7d68\" xlink:actuate=\"onRequest\" xlink:href=\"psysml:25d642ee-de35-43b5-ac2f-29504efb7d68\" xlink:show=\"new\" xlink:title=\"psysml:25d642ee-de35-43b5-ac2f-29504efb7d68\" xlink:type=\"simple\"><path d=\"M211,90.51 C211,102.89 211,118.78 211,133.48 \" fill=\"none\" id=\"E5-&gt;E3\" style=\"stroke: #383838; stroke-width: 1.0;\"/><polygon fill=\"#FFFFFF\" points=\"211,153.65,204,134.65,218,134.65,211,153.65\" style=\"stroke: #383838; stroke-width: 1.0;\"/><ellipse cx=\"206\" cy=\"128.95\" fill=\"#383838\" rx=\"2\" ry=\"2\" style=\"stroke: #383838; stroke-width: 1.0;\"/><ellipse cx=\"216\" cy=\"128.95\" fill=\"#383838\" rx=\"2\" ry=\"2\" style=\"stroke: #383838; stroke-width: 1.0;\"/></a><!--MD5=[bfa3c8b0d15052fdf50ae9310b491027]\n",
       "link E8 to E7--><a href=\"psysml:d89216b2-7e18-408a-b614-d8caef1c47ec\" target=\"_top\" title=\"psysml:d89216b2-7e18-408a-b614-d8caef1c47ec\" xlink:actuate=\"onRequest\" xlink:href=\"psysml:d89216b2-7e18-408a-b614-d8caef1c47ec\" xlink:show=\"new\" xlink:title=\"psysml:d89216b2-7e18-408a-b614-d8caef1c47ec\" xlink:type=\"simple\"><path d=\"M120.01,90.51 C115.39,103.25 109.42,119.7 103.96,134.76 \" fill=\"none\" id=\"E8-&gt;E7\" style=\"stroke: #383838; stroke-width: 1.0;\"/><polygon fill=\"#FFFFFF\" points=\"97.11,153.65,97.0036,133.4018,110.1656,138.1726,97.11,153.65\" style=\"stroke: #383838; stroke-width: 1.0;\"/><ellipse cx=\"100.8262\" cy=\"128.7245\" fill=\"#383838\" rx=\"2\" ry=\"2\" style=\"stroke: #383838; stroke-width: 1.0;\"/><ellipse cx=\"110.2277\" cy=\"132.1322\" fill=\"#383838\" rx=\"2\" ry=\"2\" style=\"stroke: #383838; stroke-width: 1.0;\"/></a><!--MD5=[1164d7bc334d31dafde73f19ac08b05e]\n",
       "@startuml\r\n",
       " skinparam monochrome true\r\n",
       "skinparam classbackgroundcolor white\r\n",
       "skinparam shadowing false\r\n",
       "skinparam wrapWidth 300\r\n",
       "hide circle\r\n",
       "\r\n",
       "package \"PrivateImportTest\" as E1  [[psysml:04be3c0a-f069-4f88-9dd0-1488cf078b60 ]]  {\r\n",
       "package \"P1\" as E2  [[psysml:2d8a57d2-00aa-4c24-bcf4-c6f0dba3a85a ]]  {\r\n",
       "comp def \"A\" as E3  <<(T,blue)part def>> [[psysml:8088eca0-f00f-4a1f-9db3-28df87f45186 ]] {\r\n",
       "}\r\n",
       "}\r\n",
       "package \"P2\" as E4  [[psysml:f5fce4b6-35f4-4f46-9b6d-d151b55baece ]]  {\r\n",
       "}\r\n",
       "comp usage \"x: A\" as E5  <<(T,blue)part>> [[psysml:43785f75-2189-42e8-ba89-9f38d7235e69 ]] {\r\n",
       "}\r\n",
       "package \"P3\" as E6  [[psysml:0a65db1a-6ec3-4140-b73e-0c5567d9dbea ]]  {\r\n",
       "comp def \"B\" as E7  <<(T,blue)part def>> [[psysml:a9488239-9884-4bc6-98b3-04bdbcc46eca ]] {\r\n",
       "}\r\n",
       "E5 - -:|> E3 [[psysml:25d642ee-de35-43b5-ac2f-29504efb7d68 ]] \r\n",
       "}\r\n",
       "comp usage \"z: B\" as E8  <<(T,blue)part>> [[psysml:ceec508b-c3a9-4167-8e78-7da3e35ca489 ]] {\r\n",
       "}\r\n",
       "E8 - -:|> E7 [[psysml:d89216b2-7e18-408a-b614-d8caef1c47ec ]] \r\n",
       "}\r\n",
       "@enduml\r\n",
       "\n",
       "PlantUML version 1.2020.13(Sat Jun 13 12:26:38 UTC 2020)\n",
       "(EPL source distribution)\n",
       "Java Runtime: OpenJDK Runtime Environment\n",
       "JVM: OpenJDK 64-Bit Server VM\n",
       "Default Encoding: UTF-8\n",
       "Language: en\n",
       "Country: null\n",
       "--></g></svg>"
      ]
     },
     "execution_count": 8,
     "metadata": {},
     "output_type": "execute_result"
    }
   ],
   "source": [
    "%viz --style=\"COMPTREE\" --view=\"MIXED\" \"PrivateImportTest\""
   ]
  },
  {
   "cell_type": "code",
   "execution_count": 9,
   "id": "brilliant-purchase",
   "metadata": {
    "execution": {
     "iopub.execute_input": "2021-03-25T14:10:37.565015Z",
     "iopub.status.busy": "2021-03-25T14:10:37.564361Z",
     "iopub.status.idle": "2021-03-25T14:10:37.651753Z",
     "shell.execute_reply": "2021-03-25T14:10:37.652252Z"
    }
   },
   "outputs": [
    {
     "data": {
      "image/svg+xml": [
       "<?xml version=\"1.0\" encoding=\"UTF-8\" standalone=\"no\"?><svg xmlns=\"http://www.w3.org/2000/svg\" xmlns:xlink=\"http://www.w3.org/1999/xlink\" contentScriptType=\"application/ecmascript\" contentStyleType=\"text/css\" height=\"252px\" preserveAspectRatio=\"none\" style=\"width:306px;height:252px;\" version=\"1.1\" viewBox=\"0 0 306 252\" width=\"306px\" zoomAndPan=\"magnify\"><defs/><g><!--MD5=[fbc87193dbaf4d95561dea2c320d4a47]\n",
       "cluster E1--><a href=\"psysml:04be3c0a-f069-4f88-9dd0-1488cf078b60\" target=\"_top\" title=\"psysml:04be3c0a-f069-4f88-9dd0-1488cf078b60\" xlink:actuate=\"onRequest\" xlink:href=\"psysml:04be3c0a-f069-4f88-9dd0-1488cf078b60\" xlink:show=\"new\" xlink:title=\"psysml:04be3c0a-f069-4f88-9dd0-1488cf078b60\" xlink:type=\"simple\"><polygon fill=\"#FFFFFF\" points=\"16,6,163,6,170,28.2969,284,28.2969,284,240,16,240,16,6\" style=\"stroke: #000000; stroke-width: 1.5;\"/><line style=\"stroke: #000000; stroke-width: 1.5;\" x1=\"16\" x2=\"170\" y1=\"28.2969\" y2=\"28.2969\"/><text fill=\"#000000\" font-family=\"sans-serif\" font-size=\"14\" font-weight=\"bold\" lengthAdjust=\"spacingAndGlyphs\" textLength=\"141\" x=\"20\" y=\"20.9951\">PrivateImportTest</text></a><!--MD5=[e4f7fae6ed58524ba242bb0b0d3be6b7]\n",
       "cluster E2--><a href=\"psysml:2d8a57d2-00aa-4c24-bcf4-c6f0dba3a85a\" target=\"_top\" title=\"psysml:2d8a57d2-00aa-4c24-bcf4-c6f0dba3a85a\" xlink:actuate=\"onRequest\" xlink:href=\"psysml:2d8a57d2-00aa-4c24-bcf4-c6f0dba3a85a\" xlink:show=\"new\" xlink:title=\"psysml:2d8a57d2-00aa-4c24-bcf4-c6f0dba3a85a\" xlink:type=\"simple\"><polygon fill=\"#FFFFFF\" points=\"162,119,188,119,195,141.2969,260,141.2969,260,216,162,216,162,119\" style=\"stroke: #000000; stroke-width: 1.5;\"/><line style=\"stroke: #000000; stroke-width: 1.5;\" x1=\"162\" x2=\"195\" y1=\"141.2969\" y2=\"141.2969\"/><text fill=\"#000000\" font-family=\"sans-serif\" font-size=\"14\" font-weight=\"bold\" lengthAdjust=\"spacingAndGlyphs\" textLength=\"20\" x=\"166\" y=\"133.9951\">P1</text></a><!--MD5=[14e3b0961a2654348d326746436168a1]\n",
       "cluster E6--><a href=\"psysml:0a65db1a-6ec3-4140-b73e-0c5567d9dbea\" target=\"_top\" title=\"psysml:0a65db1a-6ec3-4140-b73e-0c5567d9dbea\" xlink:actuate=\"onRequest\" xlink:href=\"psysml:0a65db1a-6ec3-4140-b73e-0c5567d9dbea\" xlink:show=\"new\" xlink:title=\"psysml:0a65db1a-6ec3-4140-b73e-0c5567d9dbea\" xlink:type=\"simple\"><polygon fill=\"#FFFFFF\" points=\"40,119,66,119,73,141.2969,138,141.2969,138,216,40,216,40,119\" style=\"stroke: #000000; stroke-width: 1.5;\"/><line style=\"stroke: #000000; stroke-width: 1.5;\" x1=\"40\" x2=\"73\" y1=\"141.2969\" y2=\"141.2969\"/><text fill=\"#000000\" font-family=\"sans-serif\" font-size=\"14\" font-weight=\"bold\" lengthAdjust=\"spacingAndGlyphs\" textLength=\"20\" x=\"44\" y=\"133.9951\">P3</text></a><!--MD5=[270fce915f116d4de14055a7c1d9a0f3]\n",
       "class E5--><a href=\"psysml:43785f75-2189-42e8-ba89-9f38d7235e69\" target=\"_top\" title=\"psysml:43785f75-2189-42e8-ba89-9f38d7235e69\" xlink:actuate=\"onRequest\" xlink:href=\"psysml:43785f75-2189-42e8-ba89-9f38d7235e69\" xlink:show=\"new\" xlink:title=\"psysml:43785f75-2189-42e8-ba89-9f38d7235e69\" xlink:type=\"simple\"><rect fill=\"#FFFFFF\" height=\"45.9375\" id=\"E5\" rx=\"10\" ry=\"10\" style=\"stroke: #383838; stroke-width: 1.5;\" width=\"42\" x=\"190\" y=\"44.5\"/><text fill=\"#000000\" font-family=\"sans-serif\" font-size=\"12\" font-style=\"italic\" lengthAdjust=\"spacingAndGlyphs\" textLength=\"40\" x=\"191\" y=\"60.6387\">«part»</text><text fill=\"#000000\" font-family=\"sans-serif\" font-size=\"12\" lengthAdjust=\"spacingAndGlyphs\" textLength=\"22\" x=\"200\" y=\"74.6074\">x: A</text><line style=\"stroke: #383838; stroke-width: 1.5;\" x1=\"191\" x2=\"231\" y1=\"82.4375\" y2=\"82.4375\"/></a><!--MD5=[b9389687b975829384b498ac4b7476b2]\n",
       "class E8--><a href=\"psysml:ceec508b-c3a9-4167-8e78-7da3e35ca489\" target=\"_top\" title=\"psysml:ceec508b-c3a9-4167-8e78-7da3e35ca489\" xlink:actuate=\"onRequest\" xlink:href=\"psysml:ceec508b-c3a9-4167-8e78-7da3e35ca489\" xlink:show=\"new\" xlink:title=\"psysml:ceec508b-c3a9-4167-8e78-7da3e35ca489\" xlink:type=\"simple\"><rect fill=\"#FFFFFF\" height=\"45.9375\" id=\"E8\" rx=\"10\" ry=\"10\" style=\"stroke: #383838; stroke-width: 1.5;\" width=\"42\" x=\"107\" y=\"44.5\"/><text fill=\"#000000\" font-family=\"sans-serif\" font-size=\"12\" font-style=\"italic\" lengthAdjust=\"spacingAndGlyphs\" textLength=\"40\" x=\"108\" y=\"60.6387\">«part»</text><text fill=\"#000000\" font-family=\"sans-serif\" font-size=\"12\" lengthAdjust=\"spacingAndGlyphs\" textLength=\"21\" x=\"117.5\" y=\"74.6074\">z: B</text><line style=\"stroke: #383838; stroke-width: 1.5;\" x1=\"108\" x2=\"148\" y1=\"82.4375\" y2=\"82.4375\"/></a><!--MD5=[09b614a08d8cba4a07c9adeb5e0fee81]\n",
       "class E3--><a href=\"psysml:8088eca0-f00f-4a1f-9db3-28df87f45186\" target=\"_top\" title=\"psysml:8088eca0-f00f-4a1f-9db3-28df87f45186\" xlink:actuate=\"onRequest\" xlink:href=\"psysml:8088eca0-f00f-4a1f-9db3-28df87f45186\" xlink:show=\"new\" xlink:title=\"psysml:8088eca0-f00f-4a1f-9db3-28df87f45186\" xlink:type=\"simple\"><rect fill=\"#FFFFFF\" height=\"45.9375\" id=\"E3\" style=\"stroke: #383838; stroke-width: 1.5;\" width=\"66\" x=\"178\" y=\"154\"/><text fill=\"#000000\" font-family=\"sans-serif\" font-size=\"12\" font-style=\"italic\" lengthAdjust=\"spacingAndGlyphs\" textLength=\"64\" x=\"179\" y=\"170.1387\">«part def»</text><text fill=\"#000000\" font-family=\"sans-serif\" font-size=\"12\" lengthAdjust=\"spacingAndGlyphs\" textLength=\"8\" x=\"207\" y=\"184.1074\">A</text><line style=\"stroke: #383838; stroke-width: 1.5;\" x1=\"179\" x2=\"243\" y1=\"191.9375\" y2=\"191.9375\"/></a><a href=\"psysml:f5fce4b6-35f4-4f46-9b6d-d151b55baece\" target=\"_top\" title=\"psysml:f5fce4b6-35f4-4f46-9b6d-d151b55baece\" xlink:actuate=\"onRequest\" xlink:href=\"psysml:f5fce4b6-35f4-4f46-9b6d-d151b55baece\" xlink:show=\"new\" xlink:title=\"psysml:f5fce4b6-35f4-4f46-9b6d-d151b55baece\" xlink:type=\"simple\"><polygon fill=\"#FFFFFF\" points=\"32,41,58,41,65,63.2969,72,63.2969,72,93.5938,32,93.5938,32,41\" style=\"stroke: #000000; stroke-width: 1.5;\"/><line style=\"stroke: #000000; stroke-width: 1.5;\" x1=\"32\" x2=\"65\" y1=\"63.2969\" y2=\"63.2969\"/><text fill=\"#000000\" font-family=\"sans-serif\" font-size=\"14\" font-weight=\"bold\" lengthAdjust=\"spacingAndGlyphs\" textLength=\"20\" x=\"36\" y=\"55.9951\">P2</text></a><!--MD5=[2156ba9850f5573cc1fc38a6a4b2f02b]\n",
       "class E7--><a href=\"psysml:a9488239-9884-4bc6-98b3-04bdbcc46eca\" target=\"_top\" title=\"psysml:a9488239-9884-4bc6-98b3-04bdbcc46eca\" xlink:actuate=\"onRequest\" xlink:href=\"psysml:a9488239-9884-4bc6-98b3-04bdbcc46eca\" xlink:show=\"new\" xlink:title=\"psysml:a9488239-9884-4bc6-98b3-04bdbcc46eca\" xlink:type=\"simple\"><rect fill=\"#FFFFFF\" height=\"45.9375\" id=\"E7\" style=\"stroke: #383838; stroke-width: 1.5;\" width=\"66\" x=\"56\" y=\"154\"/><text fill=\"#000000\" font-family=\"sans-serif\" font-size=\"12\" font-style=\"italic\" lengthAdjust=\"spacingAndGlyphs\" textLength=\"64\" x=\"57\" y=\"170.1387\">«part def»</text><text fill=\"#000000\" font-family=\"sans-serif\" font-size=\"12\" lengthAdjust=\"spacingAndGlyphs\" textLength=\"8\" x=\"85\" y=\"184.1074\">B</text><line style=\"stroke: #383838; stroke-width: 1.5;\" x1=\"57\" x2=\"121\" y1=\"191.9375\" y2=\"191.9375\"/></a><!--MD5=[e9be52314489bd878ff4c7144b63c9e1]\n",
       "link E5 to E3--><a href=\"psysml:25d642ee-de35-43b5-ac2f-29504efb7d68\" target=\"_top\" title=\"psysml:25d642ee-de35-43b5-ac2f-29504efb7d68\" xlink:actuate=\"onRequest\" xlink:href=\"psysml:25d642ee-de35-43b5-ac2f-29504efb7d68\" xlink:show=\"new\" xlink:title=\"psysml:25d642ee-de35-43b5-ac2f-29504efb7d68\" xlink:type=\"simple\"><path d=\"M211,90.51 C211,102.89 211,118.78 211,133.48 \" fill=\"none\" id=\"E5-&gt;E3\" style=\"stroke: #383838; stroke-width: 1.0;\"/><polygon fill=\"#FFFFFF\" points=\"211,153.65,204,134.65,218,134.65,211,153.65\" style=\"stroke: #383838; stroke-width: 1.0;\"/><ellipse cx=\"206\" cy=\"128.95\" fill=\"#383838\" rx=\"2\" ry=\"2\" style=\"stroke: #383838; stroke-width: 1.0;\"/><ellipse cx=\"216\" cy=\"128.95\" fill=\"#383838\" rx=\"2\" ry=\"2\" style=\"stroke: #383838; stroke-width: 1.0;\"/></a><!--MD5=[bfa3c8b0d15052fdf50ae9310b491027]\n",
       "link E8 to E7--><a href=\"psysml:d89216b2-7e18-408a-b614-d8caef1c47ec\" target=\"_top\" title=\"psysml:d89216b2-7e18-408a-b614-d8caef1c47ec\" xlink:actuate=\"onRequest\" xlink:href=\"psysml:d89216b2-7e18-408a-b614-d8caef1c47ec\" xlink:show=\"new\" xlink:title=\"psysml:d89216b2-7e18-408a-b614-d8caef1c47ec\" xlink:type=\"simple\"><path d=\"M120.01,90.51 C115.39,103.25 109.42,119.7 103.96,134.76 \" fill=\"none\" id=\"E8-&gt;E7\" style=\"stroke: #383838; stroke-width: 1.0;\"/><polygon fill=\"#FFFFFF\" points=\"97.11,153.65,97.0036,133.4018,110.1656,138.1726,97.11,153.65\" style=\"stroke: #383838; stroke-width: 1.0;\"/><ellipse cx=\"100.8262\" cy=\"128.7245\" fill=\"#383838\" rx=\"2\" ry=\"2\" style=\"stroke: #383838; stroke-width: 1.0;\"/><ellipse cx=\"110.2277\" cy=\"132.1322\" fill=\"#383838\" rx=\"2\" ry=\"2\" style=\"stroke: #383838; stroke-width: 1.0;\"/></a><!--MD5=[671dc94054eca6435cc47dd7e889f12d]\n",
       "@startuml\r\n",
       "skinparam linetype polyline\r\n",
       "skinparam monochrome true\r\n",
       "skinparam classbackgroundcolor white\r\n",
       "skinparam shadowing false\r\n",
       "skinparam wrapWidth 300\r\n",
       "hide circle\r\n",
       "\r\n",
       "package \"PrivateImportTest\" as E1  [[psysml:04be3c0a-f069-4f88-9dd0-1488cf078b60 ]]  {\r\n",
       "package \"P1\" as E2  [[psysml:2d8a57d2-00aa-4c24-bcf4-c6f0dba3a85a ]]  {\r\n",
       "comp def \"A\" as E3  <<(T,blue)part def>> [[psysml:8088eca0-f00f-4a1f-9db3-28df87f45186 ]] {\r\n",
       "}\r\n",
       "}\r\n",
       "package \"P2\" as E4  [[psysml:f5fce4b6-35f4-4f46-9b6d-d151b55baece ]]  {\r\n",
       "}\r\n",
       "comp usage \"x: A\" as E5  <<(T,blue)part>> [[psysml:43785f75-2189-42e8-ba89-9f38d7235e69 ]] {\r\n",
       "}\r\n",
       "package \"P3\" as E6  [[psysml:0a65db1a-6ec3-4140-b73e-0c5567d9dbea ]]  {\r\n",
       "comp def \"B\" as E7  <<(T,blue)part def>> [[psysml:a9488239-9884-4bc6-98b3-04bdbcc46eca ]] {\r\n",
       "}\r\n",
       "E5 - -:|> E3 [[psysml:25d642ee-de35-43b5-ac2f-29504efb7d68 ]] \r\n",
       "}\r\n",
       "comp usage \"z: B\" as E8  <<(T,blue)part>> [[psysml:ceec508b-c3a9-4167-8e78-7da3e35ca489 ]] {\r\n",
       "}\r\n",
       "E8 - -:|> E7 [[psysml:d89216b2-7e18-408a-b614-d8caef1c47ec ]] \r\n",
       "}\r\n",
       "@enduml\r\n",
       "\n",
       "PlantUML version 1.2020.13(Sat Jun 13 12:26:38 UTC 2020)\n",
       "(EPL source distribution)\n",
       "Java Runtime: OpenJDK Runtime Environment\n",
       "JVM: OpenJDK 64-Bit Server VM\n",
       "Default Encoding: UTF-8\n",
       "Language: en\n",
       "Country: null\n",
       "--></g></svg>"
      ]
     },
     "execution_count": 9,
     "metadata": {},
     "output_type": "execute_result"
    }
   ],
   "source": [
    "%viz --style=\"POLYLINE\" --view=\"Default\" \"PrivateImportTest\""
   ]
  },
  {
   "cell_type": "code",
   "execution_count": 10,
   "id": "million-marijuana",
   "metadata": {
    "execution": {
     "iopub.execute_input": "2021-03-25T14:10:37.704553Z",
     "iopub.status.busy": "2021-03-25T14:10:37.703649Z",
     "iopub.status.idle": "2021-03-25T14:10:37.783870Z",
     "shell.execute_reply": "2021-03-25T14:10:37.784351Z"
    }
   },
   "outputs": [
    {
     "data": {
      "image/svg+xml": [
       "<?xml version=\"1.0\" encoding=\"UTF-8\" standalone=\"no\"?><svg xmlns=\"http://www.w3.org/2000/svg\" xmlns:xlink=\"http://www.w3.org/1999/xlink\" contentScriptType=\"application/ecmascript\" contentStyleType=\"text/css\" height=\"252px\" preserveAspectRatio=\"none\" style=\"width:306px;height:252px;\" version=\"1.1\" viewBox=\"0 0 306 252\" width=\"306px\" zoomAndPan=\"magnify\"><defs/><g><!--MD5=[fbc87193dbaf4d95561dea2c320d4a47]\n",
       "cluster E1--><a href=\"psysml:04be3c0a-f069-4f88-9dd0-1488cf078b60\" target=\"_top\" title=\"psysml:04be3c0a-f069-4f88-9dd0-1488cf078b60\" xlink:actuate=\"onRequest\" xlink:href=\"psysml:04be3c0a-f069-4f88-9dd0-1488cf078b60\" xlink:show=\"new\" xlink:title=\"psysml:04be3c0a-f069-4f88-9dd0-1488cf078b60\" xlink:type=\"simple\"><polygon fill=\"#FFFFFF\" points=\"16,6,163,6,170,28.2969,284,28.2969,284,240,16,240,16,6\" style=\"stroke: #000000; stroke-width: 1.5;\"/><line style=\"stroke: #000000; stroke-width: 1.5;\" x1=\"16\" x2=\"170\" y1=\"28.2969\" y2=\"28.2969\"/><text fill=\"#000000\" font-family=\"sans-serif\" font-size=\"14\" font-weight=\"bold\" lengthAdjust=\"spacingAndGlyphs\" textLength=\"141\" x=\"20\" y=\"20.9951\">PrivateImportTest</text></a><!--MD5=[e4f7fae6ed58524ba242bb0b0d3be6b7]\n",
       "cluster E2--><a href=\"psysml:2d8a57d2-00aa-4c24-bcf4-c6f0dba3a85a\" target=\"_top\" title=\"psysml:2d8a57d2-00aa-4c24-bcf4-c6f0dba3a85a\" xlink:actuate=\"onRequest\" xlink:href=\"psysml:2d8a57d2-00aa-4c24-bcf4-c6f0dba3a85a\" xlink:show=\"new\" xlink:title=\"psysml:2d8a57d2-00aa-4c24-bcf4-c6f0dba3a85a\" xlink:type=\"simple\"><polygon fill=\"#FFFFFF\" points=\"162,119,188,119,195,141.2969,260,141.2969,260,216,162,216,162,119\" style=\"stroke: #000000; stroke-width: 1.5;\"/><line style=\"stroke: #000000; stroke-width: 1.5;\" x1=\"162\" x2=\"195\" y1=\"141.2969\" y2=\"141.2969\"/><text fill=\"#000000\" font-family=\"sans-serif\" font-size=\"14\" font-weight=\"bold\" lengthAdjust=\"spacingAndGlyphs\" textLength=\"20\" x=\"166\" y=\"133.9951\">P1</text></a><!--MD5=[14e3b0961a2654348d326746436168a1]\n",
       "cluster E6--><a href=\"psysml:0a65db1a-6ec3-4140-b73e-0c5567d9dbea\" target=\"_top\" title=\"psysml:0a65db1a-6ec3-4140-b73e-0c5567d9dbea\" xlink:actuate=\"onRequest\" xlink:href=\"psysml:0a65db1a-6ec3-4140-b73e-0c5567d9dbea\" xlink:show=\"new\" xlink:title=\"psysml:0a65db1a-6ec3-4140-b73e-0c5567d9dbea\" xlink:type=\"simple\"><polygon fill=\"#FFFFFF\" points=\"40,119,66,119,73,141.2969,138,141.2969,138,216,40,216,40,119\" style=\"stroke: #000000; stroke-width: 1.5;\"/><line style=\"stroke: #000000; stroke-width: 1.5;\" x1=\"40\" x2=\"73\" y1=\"141.2969\" y2=\"141.2969\"/><text fill=\"#000000\" font-family=\"sans-serif\" font-size=\"14\" font-weight=\"bold\" lengthAdjust=\"spacingAndGlyphs\" textLength=\"20\" x=\"44\" y=\"133.9951\">P3</text></a><!--MD5=[270fce915f116d4de14055a7c1d9a0f3]\n",
       "class E5--><a href=\"psysml:43785f75-2189-42e8-ba89-9f38d7235e69\" target=\"_top\" title=\"psysml:43785f75-2189-42e8-ba89-9f38d7235e69\" xlink:actuate=\"onRequest\" xlink:href=\"psysml:43785f75-2189-42e8-ba89-9f38d7235e69\" xlink:show=\"new\" xlink:title=\"psysml:43785f75-2189-42e8-ba89-9f38d7235e69\" xlink:type=\"simple\"><rect fill=\"#FFFFFF\" height=\"45.9375\" id=\"E5\" rx=\"10\" ry=\"10\" style=\"stroke: #383838; stroke-width: 1.5;\" width=\"42\" x=\"190\" y=\"44.5\"/><text fill=\"#000000\" font-family=\"sans-serif\" font-size=\"12\" font-style=\"italic\" lengthAdjust=\"spacingAndGlyphs\" textLength=\"40\" x=\"191\" y=\"60.6387\">«part»</text><text fill=\"#000000\" font-family=\"sans-serif\" font-size=\"12\" lengthAdjust=\"spacingAndGlyphs\" textLength=\"22\" x=\"200\" y=\"74.6074\">x: A</text><line style=\"stroke: #383838; stroke-width: 1.5;\" x1=\"191\" x2=\"231\" y1=\"82.4375\" y2=\"82.4375\"/></a><!--MD5=[b9389687b975829384b498ac4b7476b2]\n",
       "class E8--><a href=\"psysml:ceec508b-c3a9-4167-8e78-7da3e35ca489\" target=\"_top\" title=\"psysml:ceec508b-c3a9-4167-8e78-7da3e35ca489\" xlink:actuate=\"onRequest\" xlink:href=\"psysml:ceec508b-c3a9-4167-8e78-7da3e35ca489\" xlink:show=\"new\" xlink:title=\"psysml:ceec508b-c3a9-4167-8e78-7da3e35ca489\" xlink:type=\"simple\"><rect fill=\"#FFFFFF\" height=\"45.9375\" id=\"E8\" rx=\"10\" ry=\"10\" style=\"stroke: #383838; stroke-width: 1.5;\" width=\"42\" x=\"107\" y=\"44.5\"/><text fill=\"#000000\" font-family=\"sans-serif\" font-size=\"12\" font-style=\"italic\" lengthAdjust=\"spacingAndGlyphs\" textLength=\"40\" x=\"108\" y=\"60.6387\">«part»</text><text fill=\"#000000\" font-family=\"sans-serif\" font-size=\"12\" lengthAdjust=\"spacingAndGlyphs\" textLength=\"21\" x=\"117.5\" y=\"74.6074\">z: B</text><line style=\"stroke: #383838; stroke-width: 1.5;\" x1=\"108\" x2=\"148\" y1=\"82.4375\" y2=\"82.4375\"/></a><!--MD5=[09b614a08d8cba4a07c9adeb5e0fee81]\n",
       "class E3--><a href=\"psysml:8088eca0-f00f-4a1f-9db3-28df87f45186\" target=\"_top\" title=\"psysml:8088eca0-f00f-4a1f-9db3-28df87f45186\" xlink:actuate=\"onRequest\" xlink:href=\"psysml:8088eca0-f00f-4a1f-9db3-28df87f45186\" xlink:show=\"new\" xlink:title=\"psysml:8088eca0-f00f-4a1f-9db3-28df87f45186\" xlink:type=\"simple\"><rect fill=\"#FFFFFF\" height=\"45.9375\" id=\"E3\" style=\"stroke: #383838; stroke-width: 1.5;\" width=\"66\" x=\"178\" y=\"154\"/><text fill=\"#000000\" font-family=\"sans-serif\" font-size=\"12\" font-style=\"italic\" lengthAdjust=\"spacingAndGlyphs\" textLength=\"64\" x=\"179\" y=\"170.1387\">«part def»</text><text fill=\"#000000\" font-family=\"sans-serif\" font-size=\"12\" lengthAdjust=\"spacingAndGlyphs\" textLength=\"8\" x=\"207\" y=\"184.1074\">A</text><line style=\"stroke: #383838; stroke-width: 1.5;\" x1=\"179\" x2=\"243\" y1=\"191.9375\" y2=\"191.9375\"/></a><a href=\"psysml:f5fce4b6-35f4-4f46-9b6d-d151b55baece\" target=\"_top\" title=\"psysml:f5fce4b6-35f4-4f46-9b6d-d151b55baece\" xlink:actuate=\"onRequest\" xlink:href=\"psysml:f5fce4b6-35f4-4f46-9b6d-d151b55baece\" xlink:show=\"new\" xlink:title=\"psysml:f5fce4b6-35f4-4f46-9b6d-d151b55baece\" xlink:type=\"simple\"><polygon fill=\"#FFFFFF\" points=\"32,41,58,41,65,63.2969,72,63.2969,72,93.5938,32,93.5938,32,41\" style=\"stroke: #000000; stroke-width: 1.5;\"/><line style=\"stroke: #000000; stroke-width: 1.5;\" x1=\"32\" x2=\"65\" y1=\"63.2969\" y2=\"63.2969\"/><text fill=\"#000000\" font-family=\"sans-serif\" font-size=\"14\" font-weight=\"bold\" lengthAdjust=\"spacingAndGlyphs\" textLength=\"20\" x=\"36\" y=\"55.9951\">P2</text></a><!--MD5=[2156ba9850f5573cc1fc38a6a4b2f02b]\n",
       "class E7--><a href=\"psysml:a9488239-9884-4bc6-98b3-04bdbcc46eca\" target=\"_top\" title=\"psysml:a9488239-9884-4bc6-98b3-04bdbcc46eca\" xlink:actuate=\"onRequest\" xlink:href=\"psysml:a9488239-9884-4bc6-98b3-04bdbcc46eca\" xlink:show=\"new\" xlink:title=\"psysml:a9488239-9884-4bc6-98b3-04bdbcc46eca\" xlink:type=\"simple\"><rect fill=\"#FFFFFF\" height=\"45.9375\" id=\"E7\" style=\"stroke: #383838; stroke-width: 1.5;\" width=\"66\" x=\"56\" y=\"154\"/><text fill=\"#000000\" font-family=\"sans-serif\" font-size=\"12\" font-style=\"italic\" lengthAdjust=\"spacingAndGlyphs\" textLength=\"64\" x=\"57\" y=\"170.1387\">«part def»</text><text fill=\"#000000\" font-family=\"sans-serif\" font-size=\"12\" lengthAdjust=\"spacingAndGlyphs\" textLength=\"8\" x=\"85\" y=\"184.1074\">B</text><line style=\"stroke: #383838; stroke-width: 1.5;\" x1=\"57\" x2=\"121\" y1=\"191.9375\" y2=\"191.9375\"/></a><!--MD5=[e9be52314489bd878ff4c7144b63c9e1]\n",
       "link E5 to E3--><a href=\"psysml:25d642ee-de35-43b5-ac2f-29504efb7d68\" target=\"_top\" title=\"psysml:25d642ee-de35-43b5-ac2f-29504efb7d68\" xlink:actuate=\"onRequest\" xlink:href=\"psysml:25d642ee-de35-43b5-ac2f-29504efb7d68\" xlink:show=\"new\" xlink:title=\"psysml:25d642ee-de35-43b5-ac2f-29504efb7d68\" xlink:type=\"simple\"><path d=\"M211,90.51 C211,102.89 211,118.78 211,133.48 \" fill=\"none\" id=\"E5-&gt;E3\" style=\"stroke: #383838; stroke-width: 1.0;\"/><polygon fill=\"#FFFFFF\" points=\"211,153.65,204,134.65,218,134.65,211,153.65\" style=\"stroke: #383838; stroke-width: 1.0;\"/><ellipse cx=\"206\" cy=\"128.95\" fill=\"#383838\" rx=\"2\" ry=\"2\" style=\"stroke: #383838; stroke-width: 1.0;\"/><ellipse cx=\"216\" cy=\"128.95\" fill=\"#383838\" rx=\"2\" ry=\"2\" style=\"stroke: #383838; stroke-width: 1.0;\"/></a><!--MD5=[bfa3c8b0d15052fdf50ae9310b491027]\n",
       "link E8 to E7--><a href=\"psysml:d89216b2-7e18-408a-b614-d8caef1c47ec\" target=\"_top\" title=\"psysml:d89216b2-7e18-408a-b614-d8caef1c47ec\" xlink:actuate=\"onRequest\" xlink:href=\"psysml:d89216b2-7e18-408a-b614-d8caef1c47ec\" xlink:show=\"new\" xlink:title=\"psysml:d89216b2-7e18-408a-b614-d8caef1c47ec\" xlink:type=\"simple\"><path d=\"M120.01,90.51 C115.39,103.25 109.42,119.7 103.96,134.76 \" fill=\"none\" id=\"E8-&gt;E7\" style=\"stroke: #383838; stroke-width: 1.0;\"/><polygon fill=\"#FFFFFF\" points=\"97.11,153.65,97.0036,133.4018,110.1656,138.1726,97.11,153.65\" style=\"stroke: #383838; stroke-width: 1.0;\"/><ellipse cx=\"100.8262\" cy=\"128.7245\" fill=\"#383838\" rx=\"2\" ry=\"2\" style=\"stroke: #383838; stroke-width: 1.0;\"/><ellipse cx=\"110.2277\" cy=\"132.1322\" fill=\"#383838\" rx=\"2\" ry=\"2\" style=\"stroke: #383838; stroke-width: 1.0;\"/></a><!--MD5=[671dc94054eca6435cc47dd7e889f12d]\n",
       "@startuml\r\n",
       "skinparam linetype polyline\r\n",
       "skinparam monochrome true\r\n",
       "skinparam classbackgroundcolor white\r\n",
       "skinparam shadowing false\r\n",
       "skinparam wrapWidth 300\r\n",
       "hide circle\r\n",
       "\r\n",
       "package \"PrivateImportTest\" as E1  [[psysml:04be3c0a-f069-4f88-9dd0-1488cf078b60 ]]  {\r\n",
       "package \"P1\" as E2  [[psysml:2d8a57d2-00aa-4c24-bcf4-c6f0dba3a85a ]]  {\r\n",
       "comp def \"A\" as E3  <<(T,blue)part def>> [[psysml:8088eca0-f00f-4a1f-9db3-28df87f45186 ]] {\r\n",
       "}\r\n",
       "}\r\n",
       "package \"P2\" as E4  [[psysml:f5fce4b6-35f4-4f46-9b6d-d151b55baece ]]  {\r\n",
       "}\r\n",
       "comp usage \"x: A\" as E5  <<(T,blue)part>> [[psysml:43785f75-2189-42e8-ba89-9f38d7235e69 ]] {\r\n",
       "}\r\n",
       "package \"P3\" as E6  [[psysml:0a65db1a-6ec3-4140-b73e-0c5567d9dbea ]]  {\r\n",
       "comp def \"B\" as E7  <<(T,blue)part def>> [[psysml:a9488239-9884-4bc6-98b3-04bdbcc46eca ]] {\r\n",
       "}\r\n",
       "E5 - -:|> E3 [[psysml:25d642ee-de35-43b5-ac2f-29504efb7d68 ]] \r\n",
       "}\r\n",
       "comp usage \"z: B\" as E8  <<(T,blue)part>> [[psysml:ceec508b-c3a9-4167-8e78-7da3e35ca489 ]] {\r\n",
       "}\r\n",
       "E8 - -:|> E7 [[psysml:d89216b2-7e18-408a-b614-d8caef1c47ec ]] \r\n",
       "}\r\n",
       "@enduml\r\n",
       "\n",
       "PlantUML version 1.2020.13(Sat Jun 13 12:26:38 UTC 2020)\n",
       "(EPL source distribution)\n",
       "Java Runtime: OpenJDK Runtime Environment\n",
       "JVM: OpenJDK 64-Bit Server VM\n",
       "Default Encoding: UTF-8\n",
       "Language: en\n",
       "Country: null\n",
       "--></g></svg>"
      ]
     },
     "execution_count": 10,
     "metadata": {},
     "output_type": "execute_result"
    }
   ],
   "source": [
    "%viz --style=\"POLYLINE\" --view=\"Tree\" \"PrivateImportTest\""
   ]
  },
  {
   "cell_type": "code",
   "execution_count": 11,
   "id": "agricultural-mailman",
   "metadata": {
    "execution": {
     "iopub.execute_input": "2021-03-25T14:10:37.835157Z",
     "iopub.status.busy": "2021-03-25T14:10:37.834549Z",
     "iopub.status.idle": "2021-03-25T14:10:37.842613Z",
     "shell.execute_reply": "2021-03-25T14:10:37.842997Z"
    }
   },
   "outputs": [
    {
     "data": {
      "image/svg+xml": [
       "<?xml version=\"1.0\" encoding=\"UTF-8\" standalone=\"no\"?><svg xmlns=\"http://www.w3.org/2000/svg\" xmlns:xlink=\"http://www.w3.org/1999/xlink\" contentScriptType=\"application/ecmascript\" contentStyleType=\"text/css\" height=\"12px\" preserveAspectRatio=\"none\" style=\"width:12px;height:12px;\" version=\"1.1\" viewBox=\"0 0 12 12\" width=\"12px\" zoomAndPan=\"magnify\"><defs/><g><!--MD5=[896ac0e7a515d8dd7765a661cb4ee08b]\n",
       "@startuml\r\n",
       "skinparam linetype polyline\r\n",
       "skinparam monochrome true\r\n",
       "skinparam classbackgroundcolor white\r\n",
       "skinparam shadowing false\r\n",
       "skinparam wrapWidth 300\r\n",
       "hide circle\r\n",
       "\r\n",
       "@enduml\r\n",
       "\n",
       "PlantUML version 1.2020.13(Sat Jun 13 12:26:38 UTC 2020)\n",
       "(EPL source distribution)\n",
       "Java Runtime: OpenJDK Runtime Environment\n",
       "JVM: OpenJDK 64-Bit Server VM\n",
       "Default Encoding: UTF-8\n",
       "Language: en\n",
       "Country: null\n",
       "--></g></svg>"
      ]
     },
     "execution_count": 11,
     "metadata": {},
     "output_type": "execute_result"
    }
   ],
   "source": [
    "%viz --style=\"POLYLINE\" --view=\"State\" \"PrivateImportTest\""
   ]
  },
  {
   "cell_type": "code",
   "execution_count": 12,
   "id": "acoustic-contributor",
   "metadata": {
    "execution": {
     "iopub.execute_input": "2021-03-25T14:10:37.896714Z",
     "iopub.status.busy": "2021-03-25T14:10:37.895552Z",
     "iopub.status.idle": "2021-03-25T14:10:37.970167Z",
     "shell.execute_reply": "2021-03-25T14:10:37.970703Z"
    }
   },
   "outputs": [
    {
     "data": {
      "image/svg+xml": [
       "<?xml version=\"1.0\" encoding=\"UTF-8\" standalone=\"no\"?><svg xmlns=\"http://www.w3.org/2000/svg\" xmlns:xlink=\"http://www.w3.org/1999/xlink\" contentScriptType=\"application/ecmascript\" contentStyleType=\"text/css\" height=\"179px\" preserveAspectRatio=\"none\" style=\"width:539px;height:179px;\" version=\"1.1\" viewBox=\"0 0 539 179\" width=\"539px\" zoomAndPan=\"magnify\"><defs/><g><!--MD5=[fbc87193dbaf4d95561dea2c320d4a47]\n",
       "cluster E1--><a href=\"psysml:04be3c0a-f069-4f88-9dd0-1488cf078b60\" target=\"_top\" title=\"psysml:04be3c0a-f069-4f88-9dd0-1488cf078b60\" xlink:actuate=\"onRequest\" xlink:href=\"psysml:04be3c0a-f069-4f88-9dd0-1488cf078b60\" xlink:show=\"new\" xlink:title=\"psysml:04be3c0a-f069-4f88-9dd0-1488cf078b60\" xlink:type=\"simple\"><polygon fill=\"#FFFFFF\" points=\"16,6,163,6,170,28.2969,517,28.2969,517,167,16,167,16,6\" style=\"stroke: #000000; stroke-width: 1.5;\"/><line style=\"stroke: #000000; stroke-width: 1.5;\" x1=\"16\" x2=\"170\" y1=\"28.2969\" y2=\"28.2969\"/><text fill=\"#000000\" font-family=\"sans-serif\" font-size=\"14\" font-weight=\"bold\" lengthAdjust=\"spacingAndGlyphs\" textLength=\"141\" x=\"20\" y=\"20.9951\">PrivateImportTest</text></a><!--MD5=[e4f7fae6ed58524ba242bb0b0d3be6b7]\n",
       "cluster E2--><a href=\"psysml:2d8a57d2-00aa-4c24-bcf4-c6f0dba3a85a\" target=\"_top\" title=\"psysml:2d8a57d2-00aa-4c24-bcf4-c6f0dba3a85a\" xlink:actuate=\"onRequest\" xlink:href=\"psysml:2d8a57d2-00aa-4c24-bcf4-c6f0dba3a85a\" xlink:show=\"new\" xlink:title=\"psysml:2d8a57d2-00aa-4c24-bcf4-c6f0dba3a85a\" xlink:type=\"simple\"><polygon fill=\"#FFFFFF\" points=\"389,49,415,49,422,71.2969,493,71.2969,493,143,389,143,389,49\" style=\"stroke: #000000; stroke-width: 1.5;\"/><line style=\"stroke: #000000; stroke-width: 1.5;\" x1=\"389\" x2=\"422\" y1=\"71.2969\" y2=\"71.2969\"/><text fill=\"#000000\" font-family=\"sans-serif\" font-size=\"14\" font-weight=\"bold\" lengthAdjust=\"spacingAndGlyphs\" textLength=\"20\" x=\"393\" y=\"63.9951\">P1</text></a><!--MD5=[14e3b0961a2654348d326746436168a1]\n",
       "cluster E6--><a href=\"psysml:0a65db1a-6ec3-4140-b73e-0c5567d9dbea\" target=\"_top\" title=\"psysml:0a65db1a-6ec3-4140-b73e-0c5567d9dbea\" xlink:actuate=\"onRequest\" xlink:href=\"psysml:0a65db1a-6ec3-4140-b73e-0c5567d9dbea\" xlink:show=\"new\" xlink:title=\"psysml:0a65db1a-6ec3-4140-b73e-0c5567d9dbea\" xlink:type=\"simple\"><polygon fill=\"#FFFFFF\" points=\"261,49,287,49,294,71.2969,365,71.2969,365,143,261,143,261,49\" style=\"stroke: #000000; stroke-width: 1.5;\"/><line style=\"stroke: #000000; stroke-width: 1.5;\" x1=\"261\" x2=\"294\" y1=\"71.2969\" y2=\"71.2969\"/><text fill=\"#000000\" font-family=\"sans-serif\" font-size=\"14\" font-weight=\"bold\" lengthAdjust=\"spacingAndGlyphs\" textLength=\"20\" x=\"265\" y=\"63.9951\">P3</text></a><g id=\"E1.E2.E3\"><a href=\"psysml:8088eca0-f00f-4a1f-9db3-28df87f45186\" target=\"_top\" title=\"psysml:8088eca0-f00f-4a1f-9db3-28df87f45186\" xlink:actuate=\"onRequest\" xlink:href=\"psysml:8088eca0-f00f-4a1f-9db3-28df87f45186\" xlink:show=\"new\" xlink:title=\"psysml:8088eca0-f00f-4a1f-9db3-28df87f45186\" xlink:type=\"simple\"><rect fill=\"#FFFFFF\" height=\"42.9375\" id=\"E3\" style=\"stroke: #383838; stroke-width: 1.5;\" width=\"71\" x=\"405.5\" y=\"84\"/><rect fill=\"#F8F8F8\" height=\"37.9375\" style=\"stroke: #383838; stroke-width: 1.5;\" width=\"71\" x=\"405.5\" y=\"84\"/><text fill=\"#000000\" font-family=\"sans-serif\" font-size=\"12\" font-style=\"italic\" lengthAdjust=\"spacingAndGlyphs\" textLength=\"64\" x=\"409\" y=\"100.1387\">«part def»</text><text fill=\"#000000\" font-family=\"sans-serif\" font-size=\"12\" lengthAdjust=\"spacingAndGlyphs\" textLength=\"8\" x=\"437\" y=\"114.1074\">A</text></a></g><a href=\"psysml:f5fce4b6-35f4-4f46-9b6d-d151b55baece\" target=\"_top\" title=\"psysml:f5fce4b6-35f4-4f46-9b6d-d151b55baece\" xlink:actuate=\"onRequest\" xlink:href=\"psysml:f5fce4b6-35f4-4f46-9b6d-d151b55baece\" xlink:show=\"new\" xlink:title=\"psysml:f5fce4b6-35f4-4f46-9b6d-d151b55baece\" xlink:type=\"simple\"><polygon fill=\"#FFFFFF\" points=\"202,79,228,79,235,101.2969,242,101.2969,242,131.5938,202,131.5938,202,79\" style=\"stroke: #000000; stroke-width: 1.5;\"/><line style=\"stroke: #000000; stroke-width: 1.5;\" x1=\"202\" x2=\"235\" y1=\"101.2969\" y2=\"101.2969\"/><text fill=\"#000000\" font-family=\"sans-serif\" font-size=\"14\" font-weight=\"bold\" lengthAdjust=\"spacingAndGlyphs\" textLength=\"20\" x=\"206\" y=\"93.9951\">P2</text></a><g id=\"E1.E5\"><a href=\"psysml:43785f75-2189-42e8-ba89-9f38d7235e69\" target=\"_top\" title=\"psysml:43785f75-2189-42e8-ba89-9f38d7235e69\" xlink:actuate=\"onRequest\" xlink:href=\"psysml:43785f75-2189-42e8-ba89-9f38d7235e69\" xlink:show=\"new\" xlink:title=\"psysml:43785f75-2189-42e8-ba89-9f38d7235e69\" xlink:type=\"simple\"><rect fill=\"#FFFFFF\" height=\"40\" id=\"E5\" rx=\"10\" ry=\"10\" style=\"stroke: #383838; stroke-width: 1.5;\" width=\"50\" x=\"117\" y=\"85.5\"/><rect fill=\"#F8F8F8\" height=\"23.9688\" rx=\"10\" ry=\"10\" style=\"stroke: #F8F8F8; stroke-width: 1.5;\" width=\"50\" x=\"117\" y=\"85.5\"/><rect fill=\"#F8F8F8\" height=\"10\" style=\"stroke: #F8F8F8; stroke-width: 1.5;\" width=\"50\" x=\"117\" y=\"99.4688\"/><rect fill=\"none\" height=\"40\" id=\"E5\" rx=\"10\" ry=\"10\" style=\"stroke: #383838; stroke-width: 1.5;\" width=\"50\" x=\"117\" y=\"85.5\"/><text fill=\"#000000\" font-family=\"sans-serif\" font-size=\"12\" lengthAdjust=\"spacingAndGlyphs\" textLength=\"22\" x=\"131\" y=\"101.6387\">x: A</text></a></g><g id=\"E1.E6.E7\"><a href=\"psysml:a9488239-9884-4bc6-98b3-04bdbcc46eca\" target=\"_top\" title=\"psysml:a9488239-9884-4bc6-98b3-04bdbcc46eca\" xlink:actuate=\"onRequest\" xlink:href=\"psysml:a9488239-9884-4bc6-98b3-04bdbcc46eca\" xlink:show=\"new\" xlink:title=\"psysml:a9488239-9884-4bc6-98b3-04bdbcc46eca\" xlink:type=\"simple\"><rect fill=\"#FFFFFF\" height=\"42.9375\" id=\"E7\" style=\"stroke: #383838; stroke-width: 1.5;\" width=\"71\" x=\"277.5\" y=\"84\"/><rect fill=\"#F8F8F8\" height=\"37.9375\" style=\"stroke: #383838; stroke-width: 1.5;\" width=\"71\" x=\"277.5\" y=\"84\"/><text fill=\"#000000\" font-family=\"sans-serif\" font-size=\"12\" font-style=\"italic\" lengthAdjust=\"spacingAndGlyphs\" textLength=\"64\" x=\"281\" y=\"100.1387\">«part def»</text><text fill=\"#000000\" font-family=\"sans-serif\" font-size=\"12\" lengthAdjust=\"spacingAndGlyphs\" textLength=\"8\" x=\"309\" y=\"114.1074\">B</text></a></g><g id=\"E1.E8\"><a href=\"psysml:ceec508b-c3a9-4167-8e78-7da3e35ca489\" target=\"_top\" title=\"psysml:ceec508b-c3a9-4167-8e78-7da3e35ca489\" xlink:actuate=\"onRequest\" xlink:href=\"psysml:ceec508b-c3a9-4167-8e78-7da3e35ca489\" xlink:show=\"new\" xlink:title=\"psysml:ceec508b-c3a9-4167-8e78-7da3e35ca489\" xlink:type=\"simple\"><rect fill=\"#FFFFFF\" height=\"40\" id=\"E8\" rx=\"10\" ry=\"10\" style=\"stroke: #383838; stroke-width: 1.5;\" width=\"50\" x=\"32\" y=\"85.5\"/><rect fill=\"#F8F8F8\" height=\"23.9688\" rx=\"10\" ry=\"10\" style=\"stroke: #F8F8F8; stroke-width: 1.5;\" width=\"50\" x=\"32\" y=\"85.5\"/><rect fill=\"#F8F8F8\" height=\"10\" style=\"stroke: #F8F8F8; stroke-width: 1.5;\" width=\"50\" x=\"32\" y=\"99.4688\"/><rect fill=\"none\" height=\"40\" id=\"E8\" rx=\"10\" ry=\"10\" style=\"stroke: #383838; stroke-width: 1.5;\" width=\"50\" x=\"32\" y=\"85.5\"/><text fill=\"#000000\" font-family=\"sans-serif\" font-size=\"12\" lengthAdjust=\"spacingAndGlyphs\" textLength=\"21\" x=\"46.5\" y=\"101.6387\">z: B</text></a></g><!--MD5=[d7f3aef0308b04647c33ea614ef25347]\n",
       "@startuml\r\n",
       "skinparam ranksep 10\r\n",
       "skinparam rectangle {\r\n",
       " backgroundColor<<block>> LightGreen\r\n",
       "}\r\n",
       "skinparam linetype polyline\r\n",
       "skinparam monochrome true\r\n",
       "skinparam classbackgroundcolor white\r\n",
       "skinparam shadowing false\r\n",
       "skinparam wrapWidth 300\r\n",
       "hide circle\r\n",
       "\r\n",
       "package \"PrivateImportTest\" as E1  [[psysml:04be3c0a-f069-4f88-9dd0-1488cf078b60 ]]  {\r\n",
       "package \"P1\" as E2  [[psysml:2d8a57d2-00aa-4c24-bcf4-c6f0dba3a85a ]]  {\r\n",
       "rec def \"A\" as E3  <<(T,blue)part def>> [[psysml:8088eca0-f00f-4a1f-9db3-28df87f45186 ]] {\r\n",
       "}\r\n",
       "}\r\n",
       "package \"P2\" as E4  [[psysml:f5fce4b6-35f4-4f46-9b6d-d151b55baece ]]  {\r\n",
       "}\r\n",
       "rec usage \"x: A\" as E5  [[psysml:43785f75-2189-42e8-ba89-9f38d7235e69 ]] {\r\n",
       "}\r\n",
       "package \"P3\" as E6  [[psysml:0a65db1a-6ec3-4140-b73e-0c5567d9dbea ]]  {\r\n",
       "rec def \"B\" as E7  <<(T,blue)part def>> [[psysml:a9488239-9884-4bc6-98b3-04bdbcc46eca ]] {\r\n",
       "}\r\n",
       "}\r\n",
       "rec usage \"z: B\" as E8  [[psysml:ceec508b-c3a9-4167-8e78-7da3e35ca489 ]] {\r\n",
       "}\r\n",
       "}\r\n",
       "@enduml\r\n",
       "\n",
       "PlantUML version 1.2020.13(Sat Jun 13 12:26:38 UTC 2020)\n",
       "(EPL source distribution)\n",
       "Java Runtime: OpenJDK Runtime Environment\n",
       "JVM: OpenJDK 64-Bit Server VM\n",
       "Default Encoding: UTF-8\n",
       "Language: en\n",
       "Country: null\n",
       "--></g></svg>"
      ]
     },
     "execution_count": 12,
     "metadata": {},
     "output_type": "execute_result"
    }
   ],
   "source": [
    "%viz --style=\"POLYLINE\" --view=\"Interconnection\" \"PrivateImportTest\""
   ]
  },
  {
   "cell_type": "code",
   "execution_count": 13,
   "id": "human-jamaica",
   "metadata": {
    "execution": {
     "iopub.execute_input": "2021-03-25T14:10:38.025449Z",
     "iopub.status.busy": "2021-03-25T14:10:38.024416Z",
     "iopub.status.idle": "2021-03-25T14:10:38.033977Z",
     "shell.execute_reply": "2021-03-25T14:10:38.034411Z"
    }
   },
   "outputs": [
    {
     "data": {
      "image/svg+xml": [
       "<?xml version=\"1.0\" encoding=\"UTF-8\" standalone=\"no\"?><svg xmlns=\"http://www.w3.org/2000/svg\" xmlns:xlink=\"http://www.w3.org/1999/xlink\" contentScriptType=\"application/ecmascript\" contentStyleType=\"text/css\" height=\"12px\" preserveAspectRatio=\"none\" style=\"width:12px;height:12px;\" version=\"1.1\" viewBox=\"0 0 12 12\" width=\"12px\" zoomAndPan=\"magnify\"><defs/><g><!--MD5=[97bbf32f66ccd50cbc40d92ea8f5a65e]\n",
       "@startuml\r\n",
       "skinparam ranksep 8\r\n",
       "skinparam linetype polyline\r\n",
       "skinparam monochrome true\r\n",
       "skinparam classbackgroundcolor white\r\n",
       "skinparam shadowing false\r\n",
       "skinparam wrapWidth 300\r\n",
       "hide circle\r\n",
       "\r\n",
       "@enduml\r\n",
       "\n",
       "PlantUML version 1.2020.13(Sat Jun 13 12:26:38 UTC 2020)\n",
       "(EPL source distribution)\n",
       "Java Runtime: OpenJDK Runtime Environment\n",
       "JVM: OpenJDK 64-Bit Server VM\n",
       "Default Encoding: UTF-8\n",
       "Language: en\n",
       "Country: null\n",
       "--></g></svg>"
      ]
     },
     "execution_count": 13,
     "metadata": {},
     "output_type": "execute_result"
    }
   ],
   "source": [
    "%viz --style=\"POLYLINE\" --view=\"Action\" \"PrivateImportTest\""
   ]
  },
  {
   "cell_type": "code",
   "execution_count": 14,
   "id": "secure-cooler",
   "metadata": {
    "execution": {
     "iopub.execute_input": "2021-03-25T14:10:38.087449Z",
     "iopub.status.busy": "2021-03-25T14:10:38.086675Z",
     "iopub.status.idle": "2021-03-25T14:10:38.174142Z",
     "shell.execute_reply": "2021-03-25T14:10:38.173776Z"
    }
   },
   "outputs": [
    {
     "data": {
      "image/svg+xml": [
       "<?xml version=\"1.0\" encoding=\"UTF-8\" standalone=\"no\"?><svg xmlns=\"http://www.w3.org/2000/svg\" xmlns:xlink=\"http://www.w3.org/1999/xlink\" contentScriptType=\"application/ecmascript\" contentStyleType=\"text/css\" height=\"252px\" preserveAspectRatio=\"none\" style=\"width:306px;height:252px;\" version=\"1.1\" viewBox=\"0 0 306 252\" width=\"306px\" zoomAndPan=\"magnify\"><defs/><g><!--MD5=[fbc87193dbaf4d95561dea2c320d4a47]\n",
       "cluster E1--><a href=\"psysml:04be3c0a-f069-4f88-9dd0-1488cf078b60\" target=\"_top\" title=\"psysml:04be3c0a-f069-4f88-9dd0-1488cf078b60\" xlink:actuate=\"onRequest\" xlink:href=\"psysml:04be3c0a-f069-4f88-9dd0-1488cf078b60\" xlink:show=\"new\" xlink:title=\"psysml:04be3c0a-f069-4f88-9dd0-1488cf078b60\" xlink:type=\"simple\"><polygon fill=\"#FFFFFF\" points=\"16,6,163,6,170,28.2969,284,28.2969,284,240,16,240,16,6\" style=\"stroke: #000000; stroke-width: 1.5;\"/><line style=\"stroke: #000000; stroke-width: 1.5;\" x1=\"16\" x2=\"170\" y1=\"28.2969\" y2=\"28.2969\"/><text fill=\"#000000\" font-family=\"sans-serif\" font-size=\"14\" font-weight=\"bold\" lengthAdjust=\"spacingAndGlyphs\" textLength=\"141\" x=\"20\" y=\"20.9951\">PrivateImportTest</text></a><!--MD5=[e4f7fae6ed58524ba242bb0b0d3be6b7]\n",
       "cluster E2--><a href=\"psysml:2d8a57d2-00aa-4c24-bcf4-c6f0dba3a85a\" target=\"_top\" title=\"psysml:2d8a57d2-00aa-4c24-bcf4-c6f0dba3a85a\" xlink:actuate=\"onRequest\" xlink:href=\"psysml:2d8a57d2-00aa-4c24-bcf4-c6f0dba3a85a\" xlink:show=\"new\" xlink:title=\"psysml:2d8a57d2-00aa-4c24-bcf4-c6f0dba3a85a\" xlink:type=\"simple\"><polygon fill=\"#FFFFFF\" points=\"162,119,188,119,195,141.2969,260,141.2969,260,216,162,216,162,119\" style=\"stroke: #000000; stroke-width: 1.5;\"/><line style=\"stroke: #000000; stroke-width: 1.5;\" x1=\"162\" x2=\"195\" y1=\"141.2969\" y2=\"141.2969\"/><text fill=\"#000000\" font-family=\"sans-serif\" font-size=\"14\" font-weight=\"bold\" lengthAdjust=\"spacingAndGlyphs\" textLength=\"20\" x=\"166\" y=\"133.9951\">P1</text></a><!--MD5=[14e3b0961a2654348d326746436168a1]\n",
       "cluster E6--><a href=\"psysml:0a65db1a-6ec3-4140-b73e-0c5567d9dbea\" target=\"_top\" title=\"psysml:0a65db1a-6ec3-4140-b73e-0c5567d9dbea\" xlink:actuate=\"onRequest\" xlink:href=\"psysml:0a65db1a-6ec3-4140-b73e-0c5567d9dbea\" xlink:show=\"new\" xlink:title=\"psysml:0a65db1a-6ec3-4140-b73e-0c5567d9dbea\" xlink:type=\"simple\"><polygon fill=\"#FFFFFF\" points=\"40,119,66,119,73,141.2969,138,141.2969,138,216,40,216,40,119\" style=\"stroke: #000000; stroke-width: 1.5;\"/><line style=\"stroke: #000000; stroke-width: 1.5;\" x1=\"40\" x2=\"73\" y1=\"141.2969\" y2=\"141.2969\"/><text fill=\"#000000\" font-family=\"sans-serif\" font-size=\"14\" font-weight=\"bold\" lengthAdjust=\"spacingAndGlyphs\" textLength=\"20\" x=\"44\" y=\"133.9951\">P3</text></a><!--MD5=[270fce915f116d4de14055a7c1d9a0f3]\n",
       "class E5--><a href=\"psysml:43785f75-2189-42e8-ba89-9f38d7235e69\" target=\"_top\" title=\"psysml:43785f75-2189-42e8-ba89-9f38d7235e69\" xlink:actuate=\"onRequest\" xlink:href=\"psysml:43785f75-2189-42e8-ba89-9f38d7235e69\" xlink:show=\"new\" xlink:title=\"psysml:43785f75-2189-42e8-ba89-9f38d7235e69\" xlink:type=\"simple\"><rect fill=\"#FFFFFF\" height=\"45.9375\" id=\"E5\" rx=\"10\" ry=\"10\" style=\"stroke: #383838; stroke-width: 1.5;\" width=\"42\" x=\"190\" y=\"44.5\"/><text fill=\"#000000\" font-family=\"sans-serif\" font-size=\"12\" font-style=\"italic\" lengthAdjust=\"spacingAndGlyphs\" textLength=\"40\" x=\"191\" y=\"60.6387\">«part»</text><text fill=\"#000000\" font-family=\"sans-serif\" font-size=\"12\" lengthAdjust=\"spacingAndGlyphs\" textLength=\"22\" x=\"200\" y=\"74.6074\">x: A</text><line style=\"stroke: #383838; stroke-width: 1.5;\" x1=\"191\" x2=\"231\" y1=\"82.4375\" y2=\"82.4375\"/></a><!--MD5=[b9389687b975829384b498ac4b7476b2]\n",
       "class E8--><a href=\"psysml:ceec508b-c3a9-4167-8e78-7da3e35ca489\" target=\"_top\" title=\"psysml:ceec508b-c3a9-4167-8e78-7da3e35ca489\" xlink:actuate=\"onRequest\" xlink:href=\"psysml:ceec508b-c3a9-4167-8e78-7da3e35ca489\" xlink:show=\"new\" xlink:title=\"psysml:ceec508b-c3a9-4167-8e78-7da3e35ca489\" xlink:type=\"simple\"><rect fill=\"#FFFFFF\" height=\"45.9375\" id=\"E8\" rx=\"10\" ry=\"10\" style=\"stroke: #383838; stroke-width: 1.5;\" width=\"42\" x=\"107\" y=\"44.5\"/><text fill=\"#000000\" font-family=\"sans-serif\" font-size=\"12\" font-style=\"italic\" lengthAdjust=\"spacingAndGlyphs\" textLength=\"40\" x=\"108\" y=\"60.6387\">«part»</text><text fill=\"#000000\" font-family=\"sans-serif\" font-size=\"12\" lengthAdjust=\"spacingAndGlyphs\" textLength=\"21\" x=\"117.5\" y=\"74.6074\">z: B</text><line style=\"stroke: #383838; stroke-width: 1.5;\" x1=\"108\" x2=\"148\" y1=\"82.4375\" y2=\"82.4375\"/></a><!--MD5=[09b614a08d8cba4a07c9adeb5e0fee81]\n",
       "class E3--><a href=\"psysml:8088eca0-f00f-4a1f-9db3-28df87f45186\" target=\"_top\" title=\"psysml:8088eca0-f00f-4a1f-9db3-28df87f45186\" xlink:actuate=\"onRequest\" xlink:href=\"psysml:8088eca0-f00f-4a1f-9db3-28df87f45186\" xlink:show=\"new\" xlink:title=\"psysml:8088eca0-f00f-4a1f-9db3-28df87f45186\" xlink:type=\"simple\"><rect fill=\"#FFFFFF\" height=\"45.9375\" id=\"E3\" style=\"stroke: #383838; stroke-width: 1.5;\" width=\"66\" x=\"178\" y=\"154\"/><text fill=\"#000000\" font-family=\"sans-serif\" font-size=\"12\" font-style=\"italic\" lengthAdjust=\"spacingAndGlyphs\" textLength=\"64\" x=\"179\" y=\"170.1387\">«part def»</text><text fill=\"#000000\" font-family=\"sans-serif\" font-size=\"12\" lengthAdjust=\"spacingAndGlyphs\" textLength=\"8\" x=\"207\" y=\"184.1074\">A</text><line style=\"stroke: #383838; stroke-width: 1.5;\" x1=\"179\" x2=\"243\" y1=\"191.9375\" y2=\"191.9375\"/></a><a href=\"psysml:f5fce4b6-35f4-4f46-9b6d-d151b55baece\" target=\"_top\" title=\"psysml:f5fce4b6-35f4-4f46-9b6d-d151b55baece\" xlink:actuate=\"onRequest\" xlink:href=\"psysml:f5fce4b6-35f4-4f46-9b6d-d151b55baece\" xlink:show=\"new\" xlink:title=\"psysml:f5fce4b6-35f4-4f46-9b6d-d151b55baece\" xlink:type=\"simple\"><polygon fill=\"#FFFFFF\" points=\"32,41,58,41,65,63.2969,72,63.2969,72,93.5938,32,93.5938,32,41\" style=\"stroke: #000000; stroke-width: 1.5;\"/><line style=\"stroke: #000000; stroke-width: 1.5;\" x1=\"32\" x2=\"65\" y1=\"63.2969\" y2=\"63.2969\"/><text fill=\"#000000\" font-family=\"sans-serif\" font-size=\"14\" font-weight=\"bold\" lengthAdjust=\"spacingAndGlyphs\" textLength=\"20\" x=\"36\" y=\"55.9951\">P2</text></a><!--MD5=[2156ba9850f5573cc1fc38a6a4b2f02b]\n",
       "class E7--><a href=\"psysml:a9488239-9884-4bc6-98b3-04bdbcc46eca\" target=\"_top\" title=\"psysml:a9488239-9884-4bc6-98b3-04bdbcc46eca\" xlink:actuate=\"onRequest\" xlink:href=\"psysml:a9488239-9884-4bc6-98b3-04bdbcc46eca\" xlink:show=\"new\" xlink:title=\"psysml:a9488239-9884-4bc6-98b3-04bdbcc46eca\" xlink:type=\"simple\"><rect fill=\"#FFFFFF\" height=\"45.9375\" id=\"E7\" style=\"stroke: #383838; stroke-width: 1.5;\" width=\"66\" x=\"56\" y=\"154\"/><text fill=\"#000000\" font-family=\"sans-serif\" font-size=\"12\" font-style=\"italic\" lengthAdjust=\"spacingAndGlyphs\" textLength=\"64\" x=\"57\" y=\"170.1387\">«part def»</text><text fill=\"#000000\" font-family=\"sans-serif\" font-size=\"12\" lengthAdjust=\"spacingAndGlyphs\" textLength=\"8\" x=\"85\" y=\"184.1074\">B</text><line style=\"stroke: #383838; stroke-width: 1.5;\" x1=\"57\" x2=\"121\" y1=\"191.9375\" y2=\"191.9375\"/></a><!--MD5=[e9be52314489bd878ff4c7144b63c9e1]\n",
       "link E5 to E3--><a href=\"psysml:25d642ee-de35-43b5-ac2f-29504efb7d68\" target=\"_top\" title=\"psysml:25d642ee-de35-43b5-ac2f-29504efb7d68\" xlink:actuate=\"onRequest\" xlink:href=\"psysml:25d642ee-de35-43b5-ac2f-29504efb7d68\" xlink:show=\"new\" xlink:title=\"psysml:25d642ee-de35-43b5-ac2f-29504efb7d68\" xlink:type=\"simple\"><path d=\"M211,90.51 C211,102.89 211,118.78 211,133.48 \" fill=\"none\" id=\"E5-&gt;E3\" style=\"stroke: #383838; stroke-width: 1.0;\"/><polygon fill=\"#FFFFFF\" points=\"211,153.65,204,134.65,218,134.65,211,153.65\" style=\"stroke: #383838; stroke-width: 1.0;\"/><ellipse cx=\"206\" cy=\"128.95\" fill=\"#383838\" rx=\"2\" ry=\"2\" style=\"stroke: #383838; stroke-width: 1.0;\"/><ellipse cx=\"216\" cy=\"128.95\" fill=\"#383838\" rx=\"2\" ry=\"2\" style=\"stroke: #383838; stroke-width: 1.0;\"/></a><!--MD5=[bfa3c8b0d15052fdf50ae9310b491027]\n",
       "link E8 to E7--><a href=\"psysml:d89216b2-7e18-408a-b614-d8caef1c47ec\" target=\"_top\" title=\"psysml:d89216b2-7e18-408a-b614-d8caef1c47ec\" xlink:actuate=\"onRequest\" xlink:href=\"psysml:d89216b2-7e18-408a-b614-d8caef1c47ec\" xlink:show=\"new\" xlink:title=\"psysml:d89216b2-7e18-408a-b614-d8caef1c47ec\" xlink:type=\"simple\"><path d=\"M120.01,90.51 C115.39,103.25 109.42,119.7 103.96,134.76 \" fill=\"none\" id=\"E8-&gt;E7\" style=\"stroke: #383838; stroke-width: 1.0;\"/><polygon fill=\"#FFFFFF\" points=\"97.11,153.65,97.0036,133.4018,110.1656,138.1726,97.11,153.65\" style=\"stroke: #383838; stroke-width: 1.0;\"/><ellipse cx=\"100.8262\" cy=\"128.7245\" fill=\"#383838\" rx=\"2\" ry=\"2\" style=\"stroke: #383838; stroke-width: 1.0;\"/><ellipse cx=\"110.2277\" cy=\"132.1322\" fill=\"#383838\" rx=\"2\" ry=\"2\" style=\"stroke: #383838; stroke-width: 1.0;\"/></a><!--MD5=[671dc94054eca6435cc47dd7e889f12d]\n",
       "@startuml\r\n",
       "skinparam linetype polyline\r\n",
       "skinparam monochrome true\r\n",
       "skinparam classbackgroundcolor white\r\n",
       "skinparam shadowing false\r\n",
       "skinparam wrapWidth 300\r\n",
       "hide circle\r\n",
       "\r\n",
       "package \"PrivateImportTest\" as E1  [[psysml:04be3c0a-f069-4f88-9dd0-1488cf078b60 ]]  {\r\n",
       "package \"P1\" as E2  [[psysml:2d8a57d2-00aa-4c24-bcf4-c6f0dba3a85a ]]  {\r\n",
       "comp def \"A\" as E3  <<(T,blue)part def>> [[psysml:8088eca0-f00f-4a1f-9db3-28df87f45186 ]] {\r\n",
       "}\r\n",
       "}\r\n",
       "package \"P2\" as E4  [[psysml:f5fce4b6-35f4-4f46-9b6d-d151b55baece ]]  {\r\n",
       "}\r\n",
       "comp usage \"x: A\" as E5  <<(T,blue)part>> [[psysml:43785f75-2189-42e8-ba89-9f38d7235e69 ]] {\r\n",
       "}\r\n",
       "package \"P3\" as E6  [[psysml:0a65db1a-6ec3-4140-b73e-0c5567d9dbea ]]  {\r\n",
       "comp def \"B\" as E7  <<(T,blue)part def>> [[psysml:a9488239-9884-4bc6-98b3-04bdbcc46eca ]] {\r\n",
       "}\r\n",
       "E5 - -:|> E3 [[psysml:25d642ee-de35-43b5-ac2f-29504efb7d68 ]] \r\n",
       "}\r\n",
       "comp usage \"z: B\" as E8  <<(T,blue)part>> [[psysml:ceec508b-c3a9-4167-8e78-7da3e35ca489 ]] {\r\n",
       "}\r\n",
       "E8 - -:|> E7 [[psysml:d89216b2-7e18-408a-b614-d8caef1c47ec ]] \r\n",
       "}\r\n",
       "@enduml\r\n",
       "\n",
       "PlantUML version 1.2020.13(Sat Jun 13 12:26:38 UTC 2020)\n",
       "(EPL source distribution)\n",
       "Java Runtime: OpenJDK Runtime Environment\n",
       "JVM: OpenJDK 64-Bit Server VM\n",
       "Default Encoding: UTF-8\n",
       "Language: en\n",
       "Country: null\n",
       "--></g></svg>"
      ]
     },
     "execution_count": 14,
     "metadata": {},
     "output_type": "execute_result"
    }
   ],
   "source": [
    "%viz --style=\"POLYLINE\" --view=\"Sequence\" \"PrivateImportTest\""
   ]
  },
  {
   "cell_type": "code",
   "execution_count": 15,
   "id": "tracked-corps",
   "metadata": {
    "execution": {
     "iopub.execute_input": "2021-03-25T14:10:38.227304Z",
     "iopub.status.busy": "2021-03-25T14:10:38.226487Z",
     "iopub.status.idle": "2021-03-25T14:10:38.305854Z",
     "shell.execute_reply": "2021-03-25T14:10:38.305475Z"
    }
   },
   "outputs": [
    {
     "data": {
      "image/svg+xml": [
       "<?xml version=\"1.0\" encoding=\"UTF-8\" standalone=\"no\"?><svg xmlns=\"http://www.w3.org/2000/svg\" xmlns:xlink=\"http://www.w3.org/1999/xlink\" contentScriptType=\"application/ecmascript\" contentStyleType=\"text/css\" height=\"252px\" preserveAspectRatio=\"none\" style=\"width:306px;height:252px;\" version=\"1.1\" viewBox=\"0 0 306 252\" width=\"306px\" zoomAndPan=\"magnify\"><defs/><g><!--MD5=[fbc87193dbaf4d95561dea2c320d4a47]\n",
       "cluster E1--><a href=\"psysml:04be3c0a-f069-4f88-9dd0-1488cf078b60\" target=\"_top\" title=\"psysml:04be3c0a-f069-4f88-9dd0-1488cf078b60\" xlink:actuate=\"onRequest\" xlink:href=\"psysml:04be3c0a-f069-4f88-9dd0-1488cf078b60\" xlink:show=\"new\" xlink:title=\"psysml:04be3c0a-f069-4f88-9dd0-1488cf078b60\" xlink:type=\"simple\"><polygon fill=\"#FFFFFF\" points=\"16,6,163,6,170,28.2969,284,28.2969,284,240,16,240,16,6\" style=\"stroke: #000000; stroke-width: 1.5;\"/><line style=\"stroke: #000000; stroke-width: 1.5;\" x1=\"16\" x2=\"170\" y1=\"28.2969\" y2=\"28.2969\"/><text fill=\"#000000\" font-family=\"sans-serif\" font-size=\"14\" font-weight=\"bold\" lengthAdjust=\"spacingAndGlyphs\" textLength=\"141\" x=\"20\" y=\"20.9951\">PrivateImportTest</text></a><!--MD5=[e4f7fae6ed58524ba242bb0b0d3be6b7]\n",
       "cluster E2--><a href=\"psysml:2d8a57d2-00aa-4c24-bcf4-c6f0dba3a85a\" target=\"_top\" title=\"psysml:2d8a57d2-00aa-4c24-bcf4-c6f0dba3a85a\" xlink:actuate=\"onRequest\" xlink:href=\"psysml:2d8a57d2-00aa-4c24-bcf4-c6f0dba3a85a\" xlink:show=\"new\" xlink:title=\"psysml:2d8a57d2-00aa-4c24-bcf4-c6f0dba3a85a\" xlink:type=\"simple\"><polygon fill=\"#FFFFFF\" points=\"162,119,188,119,195,141.2969,260,141.2969,260,216,162,216,162,119\" style=\"stroke: #000000; stroke-width: 1.5;\"/><line style=\"stroke: #000000; stroke-width: 1.5;\" x1=\"162\" x2=\"195\" y1=\"141.2969\" y2=\"141.2969\"/><text fill=\"#000000\" font-family=\"sans-serif\" font-size=\"14\" font-weight=\"bold\" lengthAdjust=\"spacingAndGlyphs\" textLength=\"20\" x=\"166\" y=\"133.9951\">P1</text></a><!--MD5=[14e3b0961a2654348d326746436168a1]\n",
       "cluster E6--><a href=\"psysml:0a65db1a-6ec3-4140-b73e-0c5567d9dbea\" target=\"_top\" title=\"psysml:0a65db1a-6ec3-4140-b73e-0c5567d9dbea\" xlink:actuate=\"onRequest\" xlink:href=\"psysml:0a65db1a-6ec3-4140-b73e-0c5567d9dbea\" xlink:show=\"new\" xlink:title=\"psysml:0a65db1a-6ec3-4140-b73e-0c5567d9dbea\" xlink:type=\"simple\"><polygon fill=\"#FFFFFF\" points=\"40,119,66,119,73,141.2969,138,141.2969,138,216,40,216,40,119\" style=\"stroke: #000000; stroke-width: 1.5;\"/><line style=\"stroke: #000000; stroke-width: 1.5;\" x1=\"40\" x2=\"73\" y1=\"141.2969\" y2=\"141.2969\"/><text fill=\"#000000\" font-family=\"sans-serif\" font-size=\"14\" font-weight=\"bold\" lengthAdjust=\"spacingAndGlyphs\" textLength=\"20\" x=\"44\" y=\"133.9951\">P3</text></a><!--MD5=[270fce915f116d4de14055a7c1d9a0f3]\n",
       "class E5--><a href=\"psysml:43785f75-2189-42e8-ba89-9f38d7235e69\" target=\"_top\" title=\"psysml:43785f75-2189-42e8-ba89-9f38d7235e69\" xlink:actuate=\"onRequest\" xlink:href=\"psysml:43785f75-2189-42e8-ba89-9f38d7235e69\" xlink:show=\"new\" xlink:title=\"psysml:43785f75-2189-42e8-ba89-9f38d7235e69\" xlink:type=\"simple\"><rect fill=\"#FFFFFF\" height=\"45.9375\" id=\"E5\" rx=\"10\" ry=\"10\" style=\"stroke: #383838; stroke-width: 1.5;\" width=\"42\" x=\"190\" y=\"44.5\"/><text fill=\"#000000\" font-family=\"sans-serif\" font-size=\"12\" font-style=\"italic\" lengthAdjust=\"spacingAndGlyphs\" textLength=\"40\" x=\"191\" y=\"60.6387\">«part»</text><text fill=\"#000000\" font-family=\"sans-serif\" font-size=\"12\" lengthAdjust=\"spacingAndGlyphs\" textLength=\"22\" x=\"200\" y=\"74.6074\">x: A</text><line style=\"stroke: #383838; stroke-width: 1.5;\" x1=\"191\" x2=\"231\" y1=\"82.4375\" y2=\"82.4375\"/></a><!--MD5=[b9389687b975829384b498ac4b7476b2]\n",
       "class E8--><a href=\"psysml:ceec508b-c3a9-4167-8e78-7da3e35ca489\" target=\"_top\" title=\"psysml:ceec508b-c3a9-4167-8e78-7da3e35ca489\" xlink:actuate=\"onRequest\" xlink:href=\"psysml:ceec508b-c3a9-4167-8e78-7da3e35ca489\" xlink:show=\"new\" xlink:title=\"psysml:ceec508b-c3a9-4167-8e78-7da3e35ca489\" xlink:type=\"simple\"><rect fill=\"#FFFFFF\" height=\"45.9375\" id=\"E8\" rx=\"10\" ry=\"10\" style=\"stroke: #383838; stroke-width: 1.5;\" width=\"42\" x=\"107\" y=\"44.5\"/><text fill=\"#000000\" font-family=\"sans-serif\" font-size=\"12\" font-style=\"italic\" lengthAdjust=\"spacingAndGlyphs\" textLength=\"40\" x=\"108\" y=\"60.6387\">«part»</text><text fill=\"#000000\" font-family=\"sans-serif\" font-size=\"12\" lengthAdjust=\"spacingAndGlyphs\" textLength=\"21\" x=\"117.5\" y=\"74.6074\">z: B</text><line style=\"stroke: #383838; stroke-width: 1.5;\" x1=\"108\" x2=\"148\" y1=\"82.4375\" y2=\"82.4375\"/></a><!--MD5=[09b614a08d8cba4a07c9adeb5e0fee81]\n",
       "class E3--><a href=\"psysml:8088eca0-f00f-4a1f-9db3-28df87f45186\" target=\"_top\" title=\"psysml:8088eca0-f00f-4a1f-9db3-28df87f45186\" xlink:actuate=\"onRequest\" xlink:href=\"psysml:8088eca0-f00f-4a1f-9db3-28df87f45186\" xlink:show=\"new\" xlink:title=\"psysml:8088eca0-f00f-4a1f-9db3-28df87f45186\" xlink:type=\"simple\"><rect fill=\"#FFFFFF\" height=\"45.9375\" id=\"E3\" style=\"stroke: #383838; stroke-width: 1.5;\" width=\"66\" x=\"178\" y=\"154\"/><text fill=\"#000000\" font-family=\"sans-serif\" font-size=\"12\" font-style=\"italic\" lengthAdjust=\"spacingAndGlyphs\" textLength=\"64\" x=\"179\" y=\"170.1387\">«part def»</text><text fill=\"#000000\" font-family=\"sans-serif\" font-size=\"12\" lengthAdjust=\"spacingAndGlyphs\" textLength=\"8\" x=\"207\" y=\"184.1074\">A</text><line style=\"stroke: #383838; stroke-width: 1.5;\" x1=\"179\" x2=\"243\" y1=\"191.9375\" y2=\"191.9375\"/></a><a href=\"psysml:f5fce4b6-35f4-4f46-9b6d-d151b55baece\" target=\"_top\" title=\"psysml:f5fce4b6-35f4-4f46-9b6d-d151b55baece\" xlink:actuate=\"onRequest\" xlink:href=\"psysml:f5fce4b6-35f4-4f46-9b6d-d151b55baece\" xlink:show=\"new\" xlink:title=\"psysml:f5fce4b6-35f4-4f46-9b6d-d151b55baece\" xlink:type=\"simple\"><polygon fill=\"#FFFFFF\" points=\"32,41,58,41,65,63.2969,72,63.2969,72,93.5938,32,93.5938,32,41\" style=\"stroke: #000000; stroke-width: 1.5;\"/><line style=\"stroke: #000000; stroke-width: 1.5;\" x1=\"32\" x2=\"65\" y1=\"63.2969\" y2=\"63.2969\"/><text fill=\"#000000\" font-family=\"sans-serif\" font-size=\"14\" font-weight=\"bold\" lengthAdjust=\"spacingAndGlyphs\" textLength=\"20\" x=\"36\" y=\"55.9951\">P2</text></a><!--MD5=[2156ba9850f5573cc1fc38a6a4b2f02b]\n",
       "class E7--><a href=\"psysml:a9488239-9884-4bc6-98b3-04bdbcc46eca\" target=\"_top\" title=\"psysml:a9488239-9884-4bc6-98b3-04bdbcc46eca\" xlink:actuate=\"onRequest\" xlink:href=\"psysml:a9488239-9884-4bc6-98b3-04bdbcc46eca\" xlink:show=\"new\" xlink:title=\"psysml:a9488239-9884-4bc6-98b3-04bdbcc46eca\" xlink:type=\"simple\"><rect fill=\"#FFFFFF\" height=\"45.9375\" id=\"E7\" style=\"stroke: #383838; stroke-width: 1.5;\" width=\"66\" x=\"56\" y=\"154\"/><text fill=\"#000000\" font-family=\"sans-serif\" font-size=\"12\" font-style=\"italic\" lengthAdjust=\"spacingAndGlyphs\" textLength=\"64\" x=\"57\" y=\"170.1387\">«part def»</text><text fill=\"#000000\" font-family=\"sans-serif\" font-size=\"12\" lengthAdjust=\"spacingAndGlyphs\" textLength=\"8\" x=\"85\" y=\"184.1074\">B</text><line style=\"stroke: #383838; stroke-width: 1.5;\" x1=\"57\" x2=\"121\" y1=\"191.9375\" y2=\"191.9375\"/></a><!--MD5=[e9be52314489bd878ff4c7144b63c9e1]\n",
       "link E5 to E3--><a href=\"psysml:25d642ee-de35-43b5-ac2f-29504efb7d68\" target=\"_top\" title=\"psysml:25d642ee-de35-43b5-ac2f-29504efb7d68\" xlink:actuate=\"onRequest\" xlink:href=\"psysml:25d642ee-de35-43b5-ac2f-29504efb7d68\" xlink:show=\"new\" xlink:title=\"psysml:25d642ee-de35-43b5-ac2f-29504efb7d68\" xlink:type=\"simple\"><path d=\"M211,90.51 C211,102.89 211,118.78 211,133.48 \" fill=\"none\" id=\"E5-&gt;E3\" style=\"stroke: #383838; stroke-width: 1.0;\"/><polygon fill=\"#FFFFFF\" points=\"211,153.65,204,134.65,218,134.65,211,153.65\" style=\"stroke: #383838; stroke-width: 1.0;\"/><ellipse cx=\"206\" cy=\"128.95\" fill=\"#383838\" rx=\"2\" ry=\"2\" style=\"stroke: #383838; stroke-width: 1.0;\"/><ellipse cx=\"216\" cy=\"128.95\" fill=\"#383838\" rx=\"2\" ry=\"2\" style=\"stroke: #383838; stroke-width: 1.0;\"/></a><!--MD5=[bfa3c8b0d15052fdf50ae9310b491027]\n",
       "link E8 to E7--><a href=\"psysml:d89216b2-7e18-408a-b614-d8caef1c47ec\" target=\"_top\" title=\"psysml:d89216b2-7e18-408a-b614-d8caef1c47ec\" xlink:actuate=\"onRequest\" xlink:href=\"psysml:d89216b2-7e18-408a-b614-d8caef1c47ec\" xlink:show=\"new\" xlink:title=\"psysml:d89216b2-7e18-408a-b614-d8caef1c47ec\" xlink:type=\"simple\"><path d=\"M120.01,90.51 C115.39,103.25 109.42,119.7 103.96,134.76 \" fill=\"none\" id=\"E8-&gt;E7\" style=\"stroke: #383838; stroke-width: 1.0;\"/><polygon fill=\"#FFFFFF\" points=\"97.11,153.65,97.0036,133.4018,110.1656,138.1726,97.11,153.65\" style=\"stroke: #383838; stroke-width: 1.0;\"/><ellipse cx=\"100.8262\" cy=\"128.7245\" fill=\"#383838\" rx=\"2\" ry=\"2\" style=\"stroke: #383838; stroke-width: 1.0;\"/><ellipse cx=\"110.2277\" cy=\"132.1322\" fill=\"#383838\" rx=\"2\" ry=\"2\" style=\"stroke: #383838; stroke-width: 1.0;\"/></a><!--MD5=[671dc94054eca6435cc47dd7e889f12d]\n",
       "@startuml\r\n",
       "skinparam linetype polyline\r\n",
       "skinparam monochrome true\r\n",
       "skinparam classbackgroundcolor white\r\n",
       "skinparam shadowing false\r\n",
       "skinparam wrapWidth 300\r\n",
       "hide circle\r\n",
       "\r\n",
       "package \"PrivateImportTest\" as E1  [[psysml:04be3c0a-f069-4f88-9dd0-1488cf078b60 ]]  {\r\n",
       "package \"P1\" as E2  [[psysml:2d8a57d2-00aa-4c24-bcf4-c6f0dba3a85a ]]  {\r\n",
       "comp def \"A\" as E3  <<(T,blue)part def>> [[psysml:8088eca0-f00f-4a1f-9db3-28df87f45186 ]] {\r\n",
       "}\r\n",
       "}\r\n",
       "package \"P2\" as E4  [[psysml:f5fce4b6-35f4-4f46-9b6d-d151b55baece ]]  {\r\n",
       "}\r\n",
       "comp usage \"x: A\" as E5  <<(T,blue)part>> [[psysml:43785f75-2189-42e8-ba89-9f38d7235e69 ]] {\r\n",
       "}\r\n",
       "package \"P3\" as E6  [[psysml:0a65db1a-6ec3-4140-b73e-0c5567d9dbea ]]  {\r\n",
       "comp def \"B\" as E7  <<(T,blue)part def>> [[psysml:a9488239-9884-4bc6-98b3-04bdbcc46eca ]] {\r\n",
       "}\r\n",
       "E5 - -:|> E3 [[psysml:25d642ee-de35-43b5-ac2f-29504efb7d68 ]] \r\n",
       "}\r\n",
       "comp usage \"z: B\" as E8  <<(T,blue)part>> [[psysml:ceec508b-c3a9-4167-8e78-7da3e35ca489 ]] {\r\n",
       "}\r\n",
       "E8 - -:|> E7 [[psysml:d89216b2-7e18-408a-b614-d8caef1c47ec ]] \r\n",
       "}\r\n",
       "@enduml\r\n",
       "\n",
       "PlantUML version 1.2020.13(Sat Jun 13 12:26:38 UTC 2020)\n",
       "(EPL source distribution)\n",
       "Java Runtime: OpenJDK Runtime Environment\n",
       "JVM: OpenJDK 64-Bit Server VM\n",
       "Default Encoding: UTF-8\n",
       "Language: en\n",
       "Country: null\n",
       "--></g></svg>"
      ]
     },
     "execution_count": 15,
     "metadata": {},
     "output_type": "execute_result"
    }
   ],
   "source": [
    "%viz --style=\"POLYLINE\" --view=\"MIXED\" \"PrivateImportTest\""
   ]
  },
  {
   "cell_type": "code",
   "execution_count": 16,
   "id": "adjusted-quest",
   "metadata": {
    "execution": {
     "iopub.execute_input": "2021-03-25T14:10:38.358779Z",
     "iopub.status.busy": "2021-03-25T14:10:38.358001Z",
     "iopub.status.idle": "2021-03-25T14:10:38.430908Z",
     "shell.execute_reply": "2021-03-25T14:10:38.431448Z"
    }
   },
   "outputs": [
    {
     "data": {
      "image/svg+xml": [
       "<?xml version=\"1.0\" encoding=\"UTF-8\" standalone=\"no\"?><svg xmlns=\"http://www.w3.org/2000/svg\" xmlns:xlink=\"http://www.w3.org/1999/xlink\" contentScriptType=\"application/ecmascript\" contentStyleType=\"text/css\" height=\"303px\" preserveAspectRatio=\"none\" style=\"width:262px;height:303px;\" version=\"1.1\" viewBox=\"0 0 262 303\" width=\"262px\" zoomAndPan=\"magnify\"><defs/><g><!--MD5=[fbc87193dbaf4d95561dea2c320d4a47]\n",
       "cluster E1--><a href=\"psysml:04be3c0a-f069-4f88-9dd0-1488cf078b60\" target=\"_top\" title=\"psysml:04be3c0a-f069-4f88-9dd0-1488cf078b60\" xlink:actuate=\"onRequest\" xlink:href=\"psysml:04be3c0a-f069-4f88-9dd0-1488cf078b60\" xlink:show=\"new\" xlink:title=\"psysml:04be3c0a-f069-4f88-9dd0-1488cf078b60\" xlink:type=\"simple\"><polygon fill=\"#FFFFFF\" points=\"16,6,163,6,170,28.2969,240,28.2969,240,291,16,291,16,6\" style=\"stroke: #000000; stroke-width: 1.5;\"/><line style=\"stroke: #000000; stroke-width: 1.5;\" x1=\"16\" x2=\"170\" y1=\"28.2969\" y2=\"28.2969\"/><text fill=\"#000000\" font-family=\"sans-serif\" font-size=\"14\" font-weight=\"bold\" lengthAdjust=\"spacingAndGlyphs\" textLength=\"141\" x=\"20\" y=\"20.9951\">PrivateImportTest</text></a><!--MD5=[e4f7fae6ed58524ba242bb0b0d3be6b7]\n",
       "cluster E2--><a href=\"psysml:2d8a57d2-00aa-4c24-bcf4-c6f0dba3a85a\" target=\"_top\" title=\"psysml:2d8a57d2-00aa-4c24-bcf4-c6f0dba3a85a\" xlink:actuate=\"onRequest\" xlink:href=\"psysml:2d8a57d2-00aa-4c24-bcf4-c6f0dba3a85a\" xlink:show=\"new\" xlink:title=\"psysml:2d8a57d2-00aa-4c24-bcf4-c6f0dba3a85a\" xlink:type=\"simple\"><polygon fill=\"#FFFFFF\" points=\"118,49,144,49,151,71.2969,216,71.2969,216,146,118,146,118,49\" style=\"stroke: #000000; stroke-width: 1.5;\"/><line style=\"stroke: #000000; stroke-width: 1.5;\" x1=\"118\" x2=\"151\" y1=\"71.2969\" y2=\"71.2969\"/><text fill=\"#000000\" font-family=\"sans-serif\" font-size=\"14\" font-weight=\"bold\" lengthAdjust=\"spacingAndGlyphs\" textLength=\"20\" x=\"122\" y=\"63.9951\">P1</text></a><!--MD5=[14e3b0961a2654348d326746436168a1]\n",
       "cluster E6--><a href=\"psysml:0a65db1a-6ec3-4140-b73e-0c5567d9dbea\" target=\"_top\" title=\"psysml:0a65db1a-6ec3-4140-b73e-0c5567d9dbea\" xlink:actuate=\"onRequest\" xlink:href=\"psysml:0a65db1a-6ec3-4140-b73e-0c5567d9dbea\" xlink:show=\"new\" xlink:title=\"psysml:0a65db1a-6ec3-4140-b73e-0c5567d9dbea\" xlink:type=\"simple\"><polygon fill=\"#FFFFFF\" points=\"118,170,144,170,151,192.2969,216,192.2969,216,267,118,267,118,170\" style=\"stroke: #000000; stroke-width: 1.5;\"/><line style=\"stroke: #000000; stroke-width: 1.5;\" x1=\"118\" x2=\"151\" y1=\"192.2969\" y2=\"192.2969\"/><text fill=\"#000000\" font-family=\"sans-serif\" font-size=\"14\" font-weight=\"bold\" lengthAdjust=\"spacingAndGlyphs\" textLength=\"20\" x=\"122\" y=\"184.9951\">P3</text></a><!--MD5=[270fce915f116d4de14055a7c1d9a0f3]\n",
       "class E5--><a href=\"psysml:43785f75-2189-42e8-ba89-9f38d7235e69\" target=\"_top\" title=\"psysml:43785f75-2189-42e8-ba89-9f38d7235e69\" xlink:actuate=\"onRequest\" xlink:href=\"psysml:43785f75-2189-42e8-ba89-9f38d7235e69\" xlink:show=\"new\" xlink:title=\"psysml:43785f75-2189-42e8-ba89-9f38d7235e69\" xlink:type=\"simple\"><rect fill=\"#FFFFFF\" height=\"45.9375\" id=\"E5\" rx=\"10\" ry=\"10\" style=\"stroke: #383838; stroke-width: 1.5;\" width=\"42\" x=\"32\" y=\"59\"/><text fill=\"#000000\" font-family=\"sans-serif\" font-size=\"12\" font-style=\"italic\" lengthAdjust=\"spacingAndGlyphs\" textLength=\"40\" x=\"33\" y=\"75.1387\">«part»</text><text fill=\"#000000\" font-family=\"sans-serif\" font-size=\"12\" lengthAdjust=\"spacingAndGlyphs\" textLength=\"22\" x=\"42\" y=\"89.1074\">x: A</text><line style=\"stroke: #383838; stroke-width: 1.5;\" x1=\"33\" x2=\"73\" y1=\"96.9375\" y2=\"96.9375\"/></a><!--MD5=[b9389687b975829384b498ac4b7476b2]\n",
       "class E8--><a href=\"psysml:ceec508b-c3a9-4167-8e78-7da3e35ca489\" target=\"_top\" title=\"psysml:ceec508b-c3a9-4167-8e78-7da3e35ca489\" xlink:actuate=\"onRequest\" xlink:href=\"psysml:ceec508b-c3a9-4167-8e78-7da3e35ca489\" xlink:show=\"new\" xlink:title=\"psysml:ceec508b-c3a9-4167-8e78-7da3e35ca489\" xlink:type=\"simple\"><rect fill=\"#FFFFFF\" height=\"45.9375\" id=\"E8\" rx=\"10\" ry=\"10\" style=\"stroke: #383838; stroke-width: 1.5;\" width=\"42\" x=\"32\" y=\"140\"/><text fill=\"#000000\" font-family=\"sans-serif\" font-size=\"12\" font-style=\"italic\" lengthAdjust=\"spacingAndGlyphs\" textLength=\"40\" x=\"33\" y=\"156.1387\">«part»</text><text fill=\"#000000\" font-family=\"sans-serif\" font-size=\"12\" lengthAdjust=\"spacingAndGlyphs\" textLength=\"21\" x=\"42.5\" y=\"170.1074\">z: B</text><line style=\"stroke: #383838; stroke-width: 1.5;\" x1=\"33\" x2=\"73\" y1=\"177.9375\" y2=\"177.9375\"/></a><!--MD5=[09b614a08d8cba4a07c9adeb5e0fee81]\n",
       "class E3--><a href=\"psysml:8088eca0-f00f-4a1f-9db3-28df87f45186\" target=\"_top\" title=\"psysml:8088eca0-f00f-4a1f-9db3-28df87f45186\" xlink:actuate=\"onRequest\" xlink:href=\"psysml:8088eca0-f00f-4a1f-9db3-28df87f45186\" xlink:show=\"new\" xlink:title=\"psysml:8088eca0-f00f-4a1f-9db3-28df87f45186\" xlink:type=\"simple\"><rect fill=\"#FFFFFF\" height=\"45.9375\" id=\"E3\" style=\"stroke: #383838; stroke-width: 1.5;\" width=\"66\" x=\"134\" y=\"84\"/><text fill=\"#000000\" font-family=\"sans-serif\" font-size=\"12\" font-style=\"italic\" lengthAdjust=\"spacingAndGlyphs\" textLength=\"64\" x=\"135\" y=\"100.1387\">«part def»</text><text fill=\"#000000\" font-family=\"sans-serif\" font-size=\"12\" lengthAdjust=\"spacingAndGlyphs\" textLength=\"8\" x=\"163\" y=\"114.1074\">A</text><line style=\"stroke: #383838; stroke-width: 1.5;\" x1=\"135\" x2=\"199\" y1=\"121.9375\" y2=\"121.9375\"/></a><a href=\"psysml:f5fce4b6-35f4-4f46-9b6d-d151b55baece\" target=\"_top\" title=\"psysml:f5fce4b6-35f4-4f46-9b6d-d151b55baece\" xlink:actuate=\"onRequest\" xlink:href=\"psysml:f5fce4b6-35f4-4f46-9b6d-d151b55baece\" xlink:show=\"new\" xlink:title=\"psysml:f5fce4b6-35f4-4f46-9b6d-d151b55baece\" xlink:type=\"simple\"><polygon fill=\"#FFFFFF\" points=\"33,221.5,59,221.5,66,243.7969,73,243.7969,73,274.0938,33,274.0938,33,221.5\" style=\"stroke: #000000; stroke-width: 1.5;\"/><line style=\"stroke: #000000; stroke-width: 1.5;\" x1=\"33\" x2=\"66\" y1=\"243.7969\" y2=\"243.7969\"/><text fill=\"#000000\" font-family=\"sans-serif\" font-size=\"14\" font-weight=\"bold\" lengthAdjust=\"spacingAndGlyphs\" textLength=\"20\" x=\"37\" y=\"236.4951\">P2</text></a><!--MD5=[2156ba9850f5573cc1fc38a6a4b2f02b]\n",
       "class E7--><a href=\"psysml:a9488239-9884-4bc6-98b3-04bdbcc46eca\" target=\"_top\" title=\"psysml:a9488239-9884-4bc6-98b3-04bdbcc46eca\" xlink:actuate=\"onRequest\" xlink:href=\"psysml:a9488239-9884-4bc6-98b3-04bdbcc46eca\" xlink:show=\"new\" xlink:title=\"psysml:a9488239-9884-4bc6-98b3-04bdbcc46eca\" xlink:type=\"simple\"><rect fill=\"#FFFFFF\" height=\"45.9375\" id=\"E7\" style=\"stroke: #383838; stroke-width: 1.5;\" width=\"66\" x=\"134\" y=\"205\"/><text fill=\"#000000\" font-family=\"sans-serif\" font-size=\"12\" font-style=\"italic\" lengthAdjust=\"spacingAndGlyphs\" textLength=\"64\" x=\"135\" y=\"221.1387\">«part def»</text><text fill=\"#000000\" font-family=\"sans-serif\" font-size=\"12\" lengthAdjust=\"spacingAndGlyphs\" textLength=\"8\" x=\"163\" y=\"235.1074\">B</text><line style=\"stroke: #383838; stroke-width: 1.5;\" x1=\"135\" x2=\"199\" y1=\"242.9375\" y2=\"242.9375\"/></a><!--MD5=[e9be52314489bd878ff4c7144b63c9e1]\n",
       "link E5 to E3--><a href=\"psysml:25d642ee-de35-43b5-ac2f-29504efb7d68\" target=\"_top\" title=\"psysml:25d642ee-de35-43b5-ac2f-29504efb7d68\" xlink:actuate=\"onRequest\" xlink:href=\"psysml:25d642ee-de35-43b5-ac2f-29504efb7d68\" xlink:show=\"new\" xlink:title=\"psysml:25d642ee-de35-43b5-ac2f-29504efb7d68\" xlink:type=\"simple\"><path d=\"M74.02,86.47 C85.31,88.99 99.99,92.27 114.29,95.46 \" fill=\"none\" id=\"E5-&gt;E3\" style=\"stroke: #383838; stroke-width: 1.0;\"/><polygon fill=\"#FFFFFF\" points=\"133.86,99.83,113.7912,102.5214,116.842,88.8579,133.86,99.83\" style=\"stroke: #383838; stroke-width: 1.0;\"/><ellipse cx=\"108.664\" cy=\"99.3274\" fill=\"#383838\" rx=\"2\" ry=\"2\" style=\"stroke: #383838; stroke-width: 1.0;\"/><ellipse cx=\"110.8432\" cy=\"89.5677\" fill=\"#383838\" rx=\"2\" ry=\"2\" style=\"stroke: #383838; stroke-width: 1.0;\"/></a><!--MD5=[bfa3c8b0d15052fdf50ae9310b491027]\n",
       "link E8 to E7--><a href=\"psysml:d89216b2-7e18-408a-b614-d8caef1c47ec\" target=\"_top\" title=\"psysml:d89216b2-7e18-408a-b614-d8caef1c47ec\" xlink:actuate=\"onRequest\" xlink:href=\"psysml:d89216b2-7e18-408a-b614-d8caef1c47ec\" xlink:show=\"new\" xlink:title=\"psysml:d89216b2-7e18-408a-b614-d8caef1c47ec\" xlink:type=\"simple\"><path d=\"M74.02,174.62 C85.83,181.47 101.34,190.48 116.26,199.13 \" fill=\"none\" id=\"E8-&gt;E7\" style=\"stroke: #383838; stroke-width: 1.0;\"/><polygon fill=\"#FFFFFF\" points=\"133.86,209.35,113.9116,205.8773,120.9328,193.7652,133.86,209.35\" style=\"stroke: #383838; stroke-width: 1.0;\"/><ellipse cx=\"109.9832\" cy=\"201.2883\" fill=\"#383838\" rx=\"2\" ry=\"2\" style=\"stroke: #383838; stroke-width: 1.0;\"/><ellipse cx=\"114.9984\" cy=\"192.6368\" fill=\"#383838\" rx=\"2\" ry=\"2\" style=\"stroke: #383838; stroke-width: 1.0;\"/></a><!--MD5=[c540a4fe98560825f4f68a560fed708a]\n",
       "@startuml\r\n",
       "left to right direction\r\n",
       "skinparam monochrome true\r\n",
       "skinparam classbackgroundcolor white\r\n",
       "skinparam shadowing false\r\n",
       "skinparam wrapWidth 300\r\n",
       "hide circle\r\n",
       "\r\n",
       "package \"PrivateImportTest\" as E1  [[psysml:04be3c0a-f069-4f88-9dd0-1488cf078b60 ]]  {\r\n",
       "package \"P1\" as E2  [[psysml:2d8a57d2-00aa-4c24-bcf4-c6f0dba3a85a ]]  {\r\n",
       "comp def \"A\" as E3  <<(T,blue)part def>> [[psysml:8088eca0-f00f-4a1f-9db3-28df87f45186 ]] {\r\n",
       "}\r\n",
       "}\r\n",
       "package \"P2\" as E4  [[psysml:f5fce4b6-35f4-4f46-9b6d-d151b55baece ]]  {\r\n",
       "}\r\n",
       "comp usage \"x: A\" as E5  <<(T,blue)part>> [[psysml:43785f75-2189-42e8-ba89-9f38d7235e69 ]] {\r\n",
       "}\r\n",
       "package \"P3\" as E6  [[psysml:0a65db1a-6ec3-4140-b73e-0c5567d9dbea ]]  {\r\n",
       "comp def \"B\" as E7  <<(T,blue)part def>> [[psysml:a9488239-9884-4bc6-98b3-04bdbcc46eca ]] {\r\n",
       "}\r\n",
       "E5 - -:|> E3 [[psysml:25d642ee-de35-43b5-ac2f-29504efb7d68 ]] \r\n",
       "}\r\n",
       "comp usage \"z: B\" as E8  <<(T,blue)part>> [[psysml:ceec508b-c3a9-4167-8e78-7da3e35ca489 ]] {\r\n",
       "}\r\n",
       "E8 - -:|> E7 [[psysml:d89216b2-7e18-408a-b614-d8caef1c47ec ]] \r\n",
       "}\r\n",
       "@enduml\r\n",
       "\n",
       "PlantUML version 1.2020.13(Sat Jun 13 12:26:38 UTC 2020)\n",
       "(EPL source distribution)\n",
       "Java Runtime: OpenJDK Runtime Environment\n",
       "JVM: OpenJDK 64-Bit Server VM\n",
       "Default Encoding: UTF-8\n",
       "Language: en\n",
       "Country: null\n",
       "--></g></svg>"
      ]
     },
     "execution_count": 16,
     "metadata": {},
     "output_type": "execute_result"
    }
   ],
   "source": [
    "%viz --style=\"LR\" --view=\"Default\" \"PrivateImportTest\""
   ]
  },
  {
   "cell_type": "code",
   "execution_count": 17,
   "id": "spare-cartridge",
   "metadata": {
    "execution": {
     "iopub.execute_input": "2021-03-25T14:10:38.482160Z",
     "iopub.status.busy": "2021-03-25T14:10:38.481523Z",
     "iopub.status.idle": "2021-03-25T14:10:38.553784Z",
     "shell.execute_reply": "2021-03-25T14:10:38.553406Z"
    }
   },
   "outputs": [
    {
     "data": {
      "image/svg+xml": [
       "<?xml version=\"1.0\" encoding=\"UTF-8\" standalone=\"no\"?><svg xmlns=\"http://www.w3.org/2000/svg\" xmlns:xlink=\"http://www.w3.org/1999/xlink\" contentScriptType=\"application/ecmascript\" contentStyleType=\"text/css\" height=\"303px\" preserveAspectRatio=\"none\" style=\"width:262px;height:303px;\" version=\"1.1\" viewBox=\"0 0 262 303\" width=\"262px\" zoomAndPan=\"magnify\"><defs/><g><!--MD5=[fbc87193dbaf4d95561dea2c320d4a47]\n",
       "cluster E1--><a href=\"psysml:04be3c0a-f069-4f88-9dd0-1488cf078b60\" target=\"_top\" title=\"psysml:04be3c0a-f069-4f88-9dd0-1488cf078b60\" xlink:actuate=\"onRequest\" xlink:href=\"psysml:04be3c0a-f069-4f88-9dd0-1488cf078b60\" xlink:show=\"new\" xlink:title=\"psysml:04be3c0a-f069-4f88-9dd0-1488cf078b60\" xlink:type=\"simple\"><polygon fill=\"#FFFFFF\" points=\"16,6,163,6,170,28.2969,240,28.2969,240,291,16,291,16,6\" style=\"stroke: #000000; stroke-width: 1.5;\"/><line style=\"stroke: #000000; stroke-width: 1.5;\" x1=\"16\" x2=\"170\" y1=\"28.2969\" y2=\"28.2969\"/><text fill=\"#000000\" font-family=\"sans-serif\" font-size=\"14\" font-weight=\"bold\" lengthAdjust=\"spacingAndGlyphs\" textLength=\"141\" x=\"20\" y=\"20.9951\">PrivateImportTest</text></a><!--MD5=[e4f7fae6ed58524ba242bb0b0d3be6b7]\n",
       "cluster E2--><a href=\"psysml:2d8a57d2-00aa-4c24-bcf4-c6f0dba3a85a\" target=\"_top\" title=\"psysml:2d8a57d2-00aa-4c24-bcf4-c6f0dba3a85a\" xlink:actuate=\"onRequest\" xlink:href=\"psysml:2d8a57d2-00aa-4c24-bcf4-c6f0dba3a85a\" xlink:show=\"new\" xlink:title=\"psysml:2d8a57d2-00aa-4c24-bcf4-c6f0dba3a85a\" xlink:type=\"simple\"><polygon fill=\"#FFFFFF\" points=\"118,49,144,49,151,71.2969,216,71.2969,216,146,118,146,118,49\" style=\"stroke: #000000; stroke-width: 1.5;\"/><line style=\"stroke: #000000; stroke-width: 1.5;\" x1=\"118\" x2=\"151\" y1=\"71.2969\" y2=\"71.2969\"/><text fill=\"#000000\" font-family=\"sans-serif\" font-size=\"14\" font-weight=\"bold\" lengthAdjust=\"spacingAndGlyphs\" textLength=\"20\" x=\"122\" y=\"63.9951\">P1</text></a><!--MD5=[14e3b0961a2654348d326746436168a1]\n",
       "cluster E6--><a href=\"psysml:0a65db1a-6ec3-4140-b73e-0c5567d9dbea\" target=\"_top\" title=\"psysml:0a65db1a-6ec3-4140-b73e-0c5567d9dbea\" xlink:actuate=\"onRequest\" xlink:href=\"psysml:0a65db1a-6ec3-4140-b73e-0c5567d9dbea\" xlink:show=\"new\" xlink:title=\"psysml:0a65db1a-6ec3-4140-b73e-0c5567d9dbea\" xlink:type=\"simple\"><polygon fill=\"#FFFFFF\" points=\"118,170,144,170,151,192.2969,216,192.2969,216,267,118,267,118,170\" style=\"stroke: #000000; stroke-width: 1.5;\"/><line style=\"stroke: #000000; stroke-width: 1.5;\" x1=\"118\" x2=\"151\" y1=\"192.2969\" y2=\"192.2969\"/><text fill=\"#000000\" font-family=\"sans-serif\" font-size=\"14\" font-weight=\"bold\" lengthAdjust=\"spacingAndGlyphs\" textLength=\"20\" x=\"122\" y=\"184.9951\">P3</text></a><!--MD5=[270fce915f116d4de14055a7c1d9a0f3]\n",
       "class E5--><a href=\"psysml:43785f75-2189-42e8-ba89-9f38d7235e69\" target=\"_top\" title=\"psysml:43785f75-2189-42e8-ba89-9f38d7235e69\" xlink:actuate=\"onRequest\" xlink:href=\"psysml:43785f75-2189-42e8-ba89-9f38d7235e69\" xlink:show=\"new\" xlink:title=\"psysml:43785f75-2189-42e8-ba89-9f38d7235e69\" xlink:type=\"simple\"><rect fill=\"#FFFFFF\" height=\"45.9375\" id=\"E5\" rx=\"10\" ry=\"10\" style=\"stroke: #383838; stroke-width: 1.5;\" width=\"42\" x=\"32\" y=\"59\"/><text fill=\"#000000\" font-family=\"sans-serif\" font-size=\"12\" font-style=\"italic\" lengthAdjust=\"spacingAndGlyphs\" textLength=\"40\" x=\"33\" y=\"75.1387\">«part»</text><text fill=\"#000000\" font-family=\"sans-serif\" font-size=\"12\" lengthAdjust=\"spacingAndGlyphs\" textLength=\"22\" x=\"42\" y=\"89.1074\">x: A</text><line style=\"stroke: #383838; stroke-width: 1.5;\" x1=\"33\" x2=\"73\" y1=\"96.9375\" y2=\"96.9375\"/></a><!--MD5=[b9389687b975829384b498ac4b7476b2]\n",
       "class E8--><a href=\"psysml:ceec508b-c3a9-4167-8e78-7da3e35ca489\" target=\"_top\" title=\"psysml:ceec508b-c3a9-4167-8e78-7da3e35ca489\" xlink:actuate=\"onRequest\" xlink:href=\"psysml:ceec508b-c3a9-4167-8e78-7da3e35ca489\" xlink:show=\"new\" xlink:title=\"psysml:ceec508b-c3a9-4167-8e78-7da3e35ca489\" xlink:type=\"simple\"><rect fill=\"#FFFFFF\" height=\"45.9375\" id=\"E8\" rx=\"10\" ry=\"10\" style=\"stroke: #383838; stroke-width: 1.5;\" width=\"42\" x=\"32\" y=\"140\"/><text fill=\"#000000\" font-family=\"sans-serif\" font-size=\"12\" font-style=\"italic\" lengthAdjust=\"spacingAndGlyphs\" textLength=\"40\" x=\"33\" y=\"156.1387\">«part»</text><text fill=\"#000000\" font-family=\"sans-serif\" font-size=\"12\" lengthAdjust=\"spacingAndGlyphs\" textLength=\"21\" x=\"42.5\" y=\"170.1074\">z: B</text><line style=\"stroke: #383838; stroke-width: 1.5;\" x1=\"33\" x2=\"73\" y1=\"177.9375\" y2=\"177.9375\"/></a><!--MD5=[09b614a08d8cba4a07c9adeb5e0fee81]\n",
       "class E3--><a href=\"psysml:8088eca0-f00f-4a1f-9db3-28df87f45186\" target=\"_top\" title=\"psysml:8088eca0-f00f-4a1f-9db3-28df87f45186\" xlink:actuate=\"onRequest\" xlink:href=\"psysml:8088eca0-f00f-4a1f-9db3-28df87f45186\" xlink:show=\"new\" xlink:title=\"psysml:8088eca0-f00f-4a1f-9db3-28df87f45186\" xlink:type=\"simple\"><rect fill=\"#FFFFFF\" height=\"45.9375\" id=\"E3\" style=\"stroke: #383838; stroke-width: 1.5;\" width=\"66\" x=\"134\" y=\"84\"/><text fill=\"#000000\" font-family=\"sans-serif\" font-size=\"12\" font-style=\"italic\" lengthAdjust=\"spacingAndGlyphs\" textLength=\"64\" x=\"135\" y=\"100.1387\">«part def»</text><text fill=\"#000000\" font-family=\"sans-serif\" font-size=\"12\" lengthAdjust=\"spacingAndGlyphs\" textLength=\"8\" x=\"163\" y=\"114.1074\">A</text><line style=\"stroke: #383838; stroke-width: 1.5;\" x1=\"135\" x2=\"199\" y1=\"121.9375\" y2=\"121.9375\"/></a><a href=\"psysml:f5fce4b6-35f4-4f46-9b6d-d151b55baece\" target=\"_top\" title=\"psysml:f5fce4b6-35f4-4f46-9b6d-d151b55baece\" xlink:actuate=\"onRequest\" xlink:href=\"psysml:f5fce4b6-35f4-4f46-9b6d-d151b55baece\" xlink:show=\"new\" xlink:title=\"psysml:f5fce4b6-35f4-4f46-9b6d-d151b55baece\" xlink:type=\"simple\"><polygon fill=\"#FFFFFF\" points=\"33,221.5,59,221.5,66,243.7969,73,243.7969,73,274.0938,33,274.0938,33,221.5\" style=\"stroke: #000000; stroke-width: 1.5;\"/><line style=\"stroke: #000000; stroke-width: 1.5;\" x1=\"33\" x2=\"66\" y1=\"243.7969\" y2=\"243.7969\"/><text fill=\"#000000\" font-family=\"sans-serif\" font-size=\"14\" font-weight=\"bold\" lengthAdjust=\"spacingAndGlyphs\" textLength=\"20\" x=\"37\" y=\"236.4951\">P2</text></a><!--MD5=[2156ba9850f5573cc1fc38a6a4b2f02b]\n",
       "class E7--><a href=\"psysml:a9488239-9884-4bc6-98b3-04bdbcc46eca\" target=\"_top\" title=\"psysml:a9488239-9884-4bc6-98b3-04bdbcc46eca\" xlink:actuate=\"onRequest\" xlink:href=\"psysml:a9488239-9884-4bc6-98b3-04bdbcc46eca\" xlink:show=\"new\" xlink:title=\"psysml:a9488239-9884-4bc6-98b3-04bdbcc46eca\" xlink:type=\"simple\"><rect fill=\"#FFFFFF\" height=\"45.9375\" id=\"E7\" style=\"stroke: #383838; stroke-width: 1.5;\" width=\"66\" x=\"134\" y=\"205\"/><text fill=\"#000000\" font-family=\"sans-serif\" font-size=\"12\" font-style=\"italic\" lengthAdjust=\"spacingAndGlyphs\" textLength=\"64\" x=\"135\" y=\"221.1387\">«part def»</text><text fill=\"#000000\" font-family=\"sans-serif\" font-size=\"12\" lengthAdjust=\"spacingAndGlyphs\" textLength=\"8\" x=\"163\" y=\"235.1074\">B</text><line style=\"stroke: #383838; stroke-width: 1.5;\" x1=\"135\" x2=\"199\" y1=\"242.9375\" y2=\"242.9375\"/></a><!--MD5=[e9be52314489bd878ff4c7144b63c9e1]\n",
       "link E5 to E3--><a href=\"psysml:25d642ee-de35-43b5-ac2f-29504efb7d68\" target=\"_top\" title=\"psysml:25d642ee-de35-43b5-ac2f-29504efb7d68\" xlink:actuate=\"onRequest\" xlink:href=\"psysml:25d642ee-de35-43b5-ac2f-29504efb7d68\" xlink:show=\"new\" xlink:title=\"psysml:25d642ee-de35-43b5-ac2f-29504efb7d68\" xlink:type=\"simple\"><path d=\"M74.02,86.47 C85.31,88.99 99.99,92.27 114.29,95.46 \" fill=\"none\" id=\"E5-&gt;E3\" style=\"stroke: #383838; stroke-width: 1.0;\"/><polygon fill=\"#FFFFFF\" points=\"133.86,99.83,113.7912,102.5214,116.842,88.8579,133.86,99.83\" style=\"stroke: #383838; stroke-width: 1.0;\"/><ellipse cx=\"108.664\" cy=\"99.3274\" fill=\"#383838\" rx=\"2\" ry=\"2\" style=\"stroke: #383838; stroke-width: 1.0;\"/><ellipse cx=\"110.8432\" cy=\"89.5677\" fill=\"#383838\" rx=\"2\" ry=\"2\" style=\"stroke: #383838; stroke-width: 1.0;\"/></a><!--MD5=[bfa3c8b0d15052fdf50ae9310b491027]\n",
       "link E8 to E7--><a href=\"psysml:d89216b2-7e18-408a-b614-d8caef1c47ec\" target=\"_top\" title=\"psysml:d89216b2-7e18-408a-b614-d8caef1c47ec\" xlink:actuate=\"onRequest\" xlink:href=\"psysml:d89216b2-7e18-408a-b614-d8caef1c47ec\" xlink:show=\"new\" xlink:title=\"psysml:d89216b2-7e18-408a-b614-d8caef1c47ec\" xlink:type=\"simple\"><path d=\"M74.02,174.62 C85.83,181.47 101.34,190.48 116.26,199.13 \" fill=\"none\" id=\"E8-&gt;E7\" style=\"stroke: #383838; stroke-width: 1.0;\"/><polygon fill=\"#FFFFFF\" points=\"133.86,209.35,113.9116,205.8773,120.9328,193.7652,133.86,209.35\" style=\"stroke: #383838; stroke-width: 1.0;\"/><ellipse cx=\"109.9832\" cy=\"201.2883\" fill=\"#383838\" rx=\"2\" ry=\"2\" style=\"stroke: #383838; stroke-width: 1.0;\"/><ellipse cx=\"114.9984\" cy=\"192.6368\" fill=\"#383838\" rx=\"2\" ry=\"2\" style=\"stroke: #383838; stroke-width: 1.0;\"/></a><!--MD5=[c540a4fe98560825f4f68a560fed708a]\n",
       "@startuml\r\n",
       "left to right direction\r\n",
       "skinparam monochrome true\r\n",
       "skinparam classbackgroundcolor white\r\n",
       "skinparam shadowing false\r\n",
       "skinparam wrapWidth 300\r\n",
       "hide circle\r\n",
       "\r\n",
       "package \"PrivateImportTest\" as E1  [[psysml:04be3c0a-f069-4f88-9dd0-1488cf078b60 ]]  {\r\n",
       "package \"P1\" as E2  [[psysml:2d8a57d2-00aa-4c24-bcf4-c6f0dba3a85a ]]  {\r\n",
       "comp def \"A\" as E3  <<(T,blue)part def>> [[psysml:8088eca0-f00f-4a1f-9db3-28df87f45186 ]] {\r\n",
       "}\r\n",
       "}\r\n",
       "package \"P2\" as E4  [[psysml:f5fce4b6-35f4-4f46-9b6d-d151b55baece ]]  {\r\n",
       "}\r\n",
       "comp usage \"x: A\" as E5  <<(T,blue)part>> [[psysml:43785f75-2189-42e8-ba89-9f38d7235e69 ]] {\r\n",
       "}\r\n",
       "package \"P3\" as E6  [[psysml:0a65db1a-6ec3-4140-b73e-0c5567d9dbea ]]  {\r\n",
       "comp def \"B\" as E7  <<(T,blue)part def>> [[psysml:a9488239-9884-4bc6-98b3-04bdbcc46eca ]] {\r\n",
       "}\r\n",
       "E5 - -:|> E3 [[psysml:25d642ee-de35-43b5-ac2f-29504efb7d68 ]] \r\n",
       "}\r\n",
       "comp usage \"z: B\" as E8  <<(T,blue)part>> [[psysml:ceec508b-c3a9-4167-8e78-7da3e35ca489 ]] {\r\n",
       "}\r\n",
       "E8 - -:|> E7 [[psysml:d89216b2-7e18-408a-b614-d8caef1c47ec ]] \r\n",
       "}\r\n",
       "@enduml\r\n",
       "\n",
       "PlantUML version 1.2020.13(Sat Jun 13 12:26:38 UTC 2020)\n",
       "(EPL source distribution)\n",
       "Java Runtime: OpenJDK Runtime Environment\n",
       "JVM: OpenJDK 64-Bit Server VM\n",
       "Default Encoding: UTF-8\n",
       "Language: en\n",
       "Country: null\n",
       "--></g></svg>"
      ]
     },
     "execution_count": 17,
     "metadata": {},
     "output_type": "execute_result"
    }
   ],
   "source": [
    "%viz --style=\"LR\" --view=\"Tree\" \"PrivateImportTest\""
   ]
  },
  {
   "cell_type": "code",
   "execution_count": 18,
   "id": "growing-courage",
   "metadata": {
    "execution": {
     "iopub.execute_input": "2021-03-25T14:10:38.605232Z",
     "iopub.status.busy": "2021-03-25T14:10:38.604583Z",
     "iopub.status.idle": "2021-03-25T14:10:38.613460Z",
     "shell.execute_reply": "2021-03-25T14:10:38.613044Z"
    }
   },
   "outputs": [
    {
     "data": {
      "image/svg+xml": [
       "<?xml version=\"1.0\" encoding=\"UTF-8\" standalone=\"no\"?><svg xmlns=\"http://www.w3.org/2000/svg\" xmlns:xlink=\"http://www.w3.org/1999/xlink\" contentScriptType=\"application/ecmascript\" contentStyleType=\"text/css\" height=\"12px\" preserveAspectRatio=\"none\" style=\"width:12px;height:12px;\" version=\"1.1\" viewBox=\"0 0 12 12\" width=\"12px\" zoomAndPan=\"magnify\"><defs/><g><!--MD5=[19d285c9d72a204eba4e2cd117d745e8]\n",
       "@startuml\r\n",
       "left to right direction\r\n",
       "skinparam monochrome true\r\n",
       "skinparam classbackgroundcolor white\r\n",
       "skinparam shadowing false\r\n",
       "skinparam wrapWidth 300\r\n",
       "hide circle\r\n",
       "\r\n",
       "@enduml\r\n",
       "\n",
       "PlantUML version 1.2020.13(Sat Jun 13 12:26:38 UTC 2020)\n",
       "(EPL source distribution)\n",
       "Java Runtime: OpenJDK Runtime Environment\n",
       "JVM: OpenJDK 64-Bit Server VM\n",
       "Default Encoding: UTF-8\n",
       "Language: en\n",
       "Country: null\n",
       "--></g></svg>"
      ]
     },
     "execution_count": 18,
     "metadata": {},
     "output_type": "execute_result"
    }
   ],
   "source": [
    "%viz --style=\"LR\" --view=\"State\" \"PrivateImportTest\""
   ]
  },
  {
   "cell_type": "code",
   "execution_count": 19,
   "id": "bibliographic-spray",
   "metadata": {
    "execution": {
     "iopub.execute_input": "2021-03-25T14:10:38.666633Z",
     "iopub.status.busy": "2021-03-25T14:10:38.665848Z",
     "iopub.status.idle": "2021-03-25T14:10:38.730710Z",
     "shell.execute_reply": "2021-03-25T14:10:38.729346Z"
    }
   },
   "outputs": [
    {
     "data": {
      "image/svg+xml": [
       "<?xml version=\"1.0\" encoding=\"UTF-8\" standalone=\"no\"?><svg xmlns=\"http://www.w3.org/2000/svg\" xmlns:xlink=\"http://www.w3.org/1999/xlink\" contentScriptType=\"application/ecmascript\" contentStyleType=\"text/css\" height=\"513px\" preserveAspectRatio=\"none\" style=\"width:195px;height:513px;\" version=\"1.1\" viewBox=\"0 0 195 513\" width=\"195px\" zoomAndPan=\"magnify\"><defs/><g><!--MD5=[fbc87193dbaf4d95561dea2c320d4a47]\n",
       "cluster E1--><a href=\"psysml:04be3c0a-f069-4f88-9dd0-1488cf078b60\" target=\"_top\" title=\"psysml:04be3c0a-f069-4f88-9dd0-1488cf078b60\" xlink:actuate=\"onRequest\" xlink:href=\"psysml:04be3c0a-f069-4f88-9dd0-1488cf078b60\" xlink:show=\"new\" xlink:title=\"psysml:04be3c0a-f069-4f88-9dd0-1488cf078b60\" xlink:type=\"simple\"><polygon fill=\"#FFFFFF\" points=\"16,6,163,6,170,28.2969,173,28.2969,173,501,16,501,16,6\" style=\"stroke: #000000; stroke-width: 1.5;\"/><line style=\"stroke: #000000; stroke-width: 1.5;\" x1=\"16\" x2=\"170\" y1=\"28.2969\" y2=\"28.2969\"/><text fill=\"#000000\" font-family=\"sans-serif\" font-size=\"14\" font-weight=\"bold\" lengthAdjust=\"spacingAndGlyphs\" textLength=\"141\" x=\"20\" y=\"20.9951\">PrivateImportTest</text></a><!--MD5=[e4f7fae6ed58524ba242bb0b0d3be6b7]\n",
       "cluster E2--><a href=\"psysml:2d8a57d2-00aa-4c24-bcf4-c6f0dba3a85a\" target=\"_top\" title=\"psysml:2d8a57d2-00aa-4c24-bcf4-c6f0dba3a85a\" xlink:actuate=\"onRequest\" xlink:href=\"psysml:2d8a57d2-00aa-4c24-bcf4-c6f0dba3a85a\" xlink:show=\"new\" xlink:title=\"psysml:2d8a57d2-00aa-4c24-bcf4-c6f0dba3a85a\" xlink:type=\"simple\"><polygon fill=\"#FFFFFF\" points=\"43,49,69,49,76,71.2969,146,71.2969,146,144,43,144,43,49\" style=\"stroke: #000000; stroke-width: 1.5;\"/><line style=\"stroke: #000000; stroke-width: 1.5;\" x1=\"43\" x2=\"76\" y1=\"71.2969\" y2=\"71.2969\"/><text fill=\"#000000\" font-family=\"sans-serif\" font-size=\"14\" font-weight=\"bold\" lengthAdjust=\"spacingAndGlyphs\" textLength=\"20\" x=\"47\" y=\"63.9951\">P1</text></a><!--MD5=[14e3b0961a2654348d326746436168a1]\n",
       "cluster E6--><a href=\"psysml:0a65db1a-6ec3-4140-b73e-0c5567d9dbea\" target=\"_top\" title=\"psysml:0a65db1a-6ec3-4140-b73e-0c5567d9dbea\" xlink:actuate=\"onRequest\" xlink:href=\"psysml:0a65db1a-6ec3-4140-b73e-0c5567d9dbea\" xlink:show=\"new\" xlink:title=\"psysml:0a65db1a-6ec3-4140-b73e-0c5567d9dbea\" xlink:type=\"simple\"><polygon fill=\"#FFFFFF\" points=\"43,168,69,168,76,190.2969,146,190.2969,146,263,43,263,43,168\" style=\"stroke: #000000; stroke-width: 1.5;\"/><line style=\"stroke: #000000; stroke-width: 1.5;\" x1=\"43\" x2=\"76\" y1=\"190.2969\" y2=\"190.2969\"/><text fill=\"#000000\" font-family=\"sans-serif\" font-size=\"14\" font-weight=\"bold\" lengthAdjust=\"spacingAndGlyphs\" textLength=\"20\" x=\"47\" y=\"182.9951\">P3</text></a><g id=\"E1.E2.E3\"><a href=\"psysml:8088eca0-f00f-4a1f-9db3-28df87f45186\" target=\"_top\" title=\"psysml:8088eca0-f00f-4a1f-9db3-28df87f45186\" xlink:actuate=\"onRequest\" xlink:href=\"psysml:8088eca0-f00f-4a1f-9db3-28df87f45186\" xlink:show=\"new\" xlink:title=\"psysml:8088eca0-f00f-4a1f-9db3-28df87f45186\" xlink:type=\"simple\"><rect fill=\"#FFFFFF\" height=\"42.9375\" id=\"E3\" style=\"stroke: #383838; stroke-width: 1.5;\" width=\"71\" x=\"59\" y=\"84.5\"/><rect fill=\"#F8F8F8\" height=\"37.9375\" style=\"stroke: #383838; stroke-width: 1.5;\" width=\"71\" x=\"59\" y=\"84.5\"/><text fill=\"#000000\" font-family=\"sans-serif\" font-size=\"12\" font-style=\"italic\" lengthAdjust=\"spacingAndGlyphs\" textLength=\"64\" x=\"62.5\" y=\"100.6387\">«part def»</text><text fill=\"#000000\" font-family=\"sans-serif\" font-size=\"12\" lengthAdjust=\"spacingAndGlyphs\" textLength=\"8\" x=\"90.5\" y=\"114.6074\">A</text></a></g><a href=\"psysml:f5fce4b6-35f4-4f46-9b6d-d151b55baece\" target=\"_top\" title=\"psysml:f5fce4b6-35f4-4f46-9b6d-d151b55baece\" xlink:actuate=\"onRequest\" xlink:href=\"psysml:f5fce4b6-35f4-4f46-9b6d-d151b55baece\" xlink:show=\"new\" xlink:title=\"psysml:f5fce4b6-35f4-4f46-9b6d-d151b55baece\" xlink:type=\"simple\"><polygon fill=\"#FFFFFF\" points=\"74.5,281.5,100.5,281.5,107.5,303.7969,114.5,303.7969,114.5,334.0938,74.5,334.0938,74.5,281.5\" style=\"stroke: #000000; stroke-width: 1.5;\"/><line style=\"stroke: #000000; stroke-width: 1.5;\" x1=\"74.5\" x2=\"107.5\" y1=\"303.7969\" y2=\"303.7969\"/><text fill=\"#000000\" font-family=\"sans-serif\" font-size=\"14\" font-weight=\"bold\" lengthAdjust=\"spacingAndGlyphs\" textLength=\"20\" x=\"78.5\" y=\"296.4951\">P2</text></a><g id=\"E1.E5\"><a href=\"psysml:43785f75-2189-42e8-ba89-9f38d7235e69\" target=\"_top\" title=\"psysml:43785f75-2189-42e8-ba89-9f38d7235e69\" xlink:actuate=\"onRequest\" xlink:href=\"psysml:43785f75-2189-42e8-ba89-9f38d7235e69\" xlink:show=\"new\" xlink:title=\"psysml:43785f75-2189-42e8-ba89-9f38d7235e69\" xlink:type=\"simple\"><rect fill=\"#FFFFFF\" height=\"40\" id=\"E5\" rx=\"10\" ry=\"10\" style=\"stroke: #383838; stroke-width: 1.5;\" width=\"50\" x=\"69.5\" y=\"370\"/><rect fill=\"#F8F8F8\" height=\"23.9688\" rx=\"10\" ry=\"10\" style=\"stroke: #F8F8F8; stroke-width: 1.5;\" width=\"50\" x=\"69.5\" y=\"370\"/><rect fill=\"#F8F8F8\" height=\"10\" style=\"stroke: #F8F8F8; stroke-width: 1.5;\" width=\"50\" x=\"69.5\" y=\"383.9688\"/><rect fill=\"none\" height=\"40\" id=\"E5\" rx=\"10\" ry=\"10\" style=\"stroke: #383838; stroke-width: 1.5;\" width=\"50\" x=\"69.5\" y=\"370\"/><text fill=\"#000000\" font-family=\"sans-serif\" font-size=\"12\" lengthAdjust=\"spacingAndGlyphs\" textLength=\"22\" x=\"83.5\" y=\"386.1387\">x: A</text></a></g><g id=\"E1.E6.E7\"><a href=\"psysml:a9488239-9884-4bc6-98b3-04bdbcc46eca\" target=\"_top\" title=\"psysml:a9488239-9884-4bc6-98b3-04bdbcc46eca\" xlink:actuate=\"onRequest\" xlink:href=\"psysml:a9488239-9884-4bc6-98b3-04bdbcc46eca\" xlink:show=\"new\" xlink:title=\"psysml:a9488239-9884-4bc6-98b3-04bdbcc46eca\" xlink:type=\"simple\"><rect fill=\"#FFFFFF\" height=\"42.9375\" id=\"E7\" style=\"stroke: #383838; stroke-width: 1.5;\" width=\"71\" x=\"59\" y=\"203.5\"/><rect fill=\"#F8F8F8\" height=\"37.9375\" style=\"stroke: #383838; stroke-width: 1.5;\" width=\"71\" x=\"59\" y=\"203.5\"/><text fill=\"#000000\" font-family=\"sans-serif\" font-size=\"12\" font-style=\"italic\" lengthAdjust=\"spacingAndGlyphs\" textLength=\"64\" x=\"62.5\" y=\"219.6387\">«part def»</text><text fill=\"#000000\" font-family=\"sans-serif\" font-size=\"12\" lengthAdjust=\"spacingAndGlyphs\" textLength=\"8\" x=\"90.5\" y=\"233.6074\">B</text></a></g><g id=\"E1.E8\"><a href=\"psysml:ceec508b-c3a9-4167-8e78-7da3e35ca489\" target=\"_top\" title=\"psysml:ceec508b-c3a9-4167-8e78-7da3e35ca489\" xlink:actuate=\"onRequest\" xlink:href=\"psysml:ceec508b-c3a9-4167-8e78-7da3e35ca489\" xlink:show=\"new\" xlink:title=\"psysml:ceec508b-c3a9-4167-8e78-7da3e35ca489\" xlink:type=\"simple\"><rect fill=\"#FFFFFF\" height=\"40\" id=\"E8\" rx=\"10\" ry=\"10\" style=\"stroke: #383838; stroke-width: 1.5;\" width=\"50\" x=\"69.5\" y=\"445\"/><rect fill=\"#F8F8F8\" height=\"23.9688\" rx=\"10\" ry=\"10\" style=\"stroke: #F8F8F8; stroke-width: 1.5;\" width=\"50\" x=\"69.5\" y=\"445\"/><rect fill=\"#F8F8F8\" height=\"10\" style=\"stroke: #F8F8F8; stroke-width: 1.5;\" width=\"50\" x=\"69.5\" y=\"458.9688\"/><rect fill=\"none\" height=\"40\" id=\"E8\" rx=\"10\" ry=\"10\" style=\"stroke: #383838; stroke-width: 1.5;\" width=\"50\" x=\"69.5\" y=\"445\"/><text fill=\"#000000\" font-family=\"sans-serif\" font-size=\"12\" lengthAdjust=\"spacingAndGlyphs\" textLength=\"21\" x=\"84\" y=\"461.1387\">z: B</text></a></g><!--MD5=[a4c5a9fc65e810056461d67f8375bc41]\n",
       "@startuml\r\n",
       "skinparam ranksep 10\r\n",
       "skinparam rectangle {\r\n",
       " backgroundColor<<block>> LightGreen\r\n",
       "}\r\n",
       "left to right direction\r\n",
       "skinparam monochrome true\r\n",
       "skinparam classbackgroundcolor white\r\n",
       "skinparam shadowing false\r\n",
       "skinparam wrapWidth 300\r\n",
       "hide circle\r\n",
       "\r\n",
       "package \"PrivateImportTest\" as E1  [[psysml:04be3c0a-f069-4f88-9dd0-1488cf078b60 ]]  {\r\n",
       "package \"P1\" as E2  [[psysml:2d8a57d2-00aa-4c24-bcf4-c6f0dba3a85a ]]  {\r\n",
       "rec def \"A\" as E3  <<(T,blue)part def>> [[psysml:8088eca0-f00f-4a1f-9db3-28df87f45186 ]] {\r\n",
       "}\r\n",
       "}\r\n",
       "package \"P2\" as E4  [[psysml:f5fce4b6-35f4-4f46-9b6d-d151b55baece ]]  {\r\n",
       "}\r\n",
       "rec usage \"x: A\" as E5  [[psysml:43785f75-2189-42e8-ba89-9f38d7235e69 ]] {\r\n",
       "}\r\n",
       "package \"P3\" as E6  [[psysml:0a65db1a-6ec3-4140-b73e-0c5567d9dbea ]]  {\r\n",
       "rec def \"B\" as E7  <<(T,blue)part def>> [[psysml:a9488239-9884-4bc6-98b3-04bdbcc46eca ]] {\r\n",
       "}\r\n",
       "}\r\n",
       "rec usage \"z: B\" as E8  [[psysml:ceec508b-c3a9-4167-8e78-7da3e35ca489 ]] {\r\n",
       "}\r\n",
       "}\r\n",
       "@enduml\r\n",
       "\n",
       "PlantUML version 1.2020.13(Sat Jun 13 12:26:38 UTC 2020)\n",
       "(EPL source distribution)\n",
       "Java Runtime: OpenJDK Runtime Environment\n",
       "JVM: OpenJDK 64-Bit Server VM\n",
       "Default Encoding: UTF-8\n",
       "Language: en\n",
       "Country: null\n",
       "--></g></svg>"
      ]
     },
     "execution_count": 19,
     "metadata": {},
     "output_type": "execute_result"
    }
   ],
   "source": [
    "%viz --style=\"LR\" --view=\"Interconnection\" \"PrivateImportTest\""
   ]
  },
  {
   "cell_type": "code",
   "execution_count": 20,
   "id": "experimental-texture",
   "metadata": {
    "execution": {
     "iopub.execute_input": "2021-03-25T14:10:38.784212Z",
     "iopub.status.busy": "2021-03-25T14:10:38.783484Z",
     "iopub.status.idle": "2021-03-25T14:10:38.793906Z",
     "shell.execute_reply": "2021-03-25T14:10:38.793536Z"
    }
   },
   "outputs": [
    {
     "data": {
      "image/svg+xml": [
       "<?xml version=\"1.0\" encoding=\"UTF-8\" standalone=\"no\"?><svg xmlns=\"http://www.w3.org/2000/svg\" xmlns:xlink=\"http://www.w3.org/1999/xlink\" contentScriptType=\"application/ecmascript\" contentStyleType=\"text/css\" height=\"12px\" preserveAspectRatio=\"none\" style=\"width:12px;height:12px;\" version=\"1.1\" viewBox=\"0 0 12 12\" width=\"12px\" zoomAndPan=\"magnify\"><defs/><g><!--MD5=[7aeb398939421629f6affaa4a1a7b125]\n",
       "@startuml\r\n",
       "skinparam ranksep 8\r\n",
       "left to right direction\r\n",
       "skinparam monochrome true\r\n",
       "skinparam classbackgroundcolor white\r\n",
       "skinparam shadowing false\r\n",
       "skinparam wrapWidth 300\r\n",
       "hide circle\r\n",
       "\r\n",
       "@enduml\r\n",
       "\n",
       "PlantUML version 1.2020.13(Sat Jun 13 12:26:38 UTC 2020)\n",
       "(EPL source distribution)\n",
       "Java Runtime: OpenJDK Runtime Environment\n",
       "JVM: OpenJDK 64-Bit Server VM\n",
       "Default Encoding: UTF-8\n",
       "Language: en\n",
       "Country: null\n",
       "--></g></svg>"
      ]
     },
     "execution_count": 20,
     "metadata": {},
     "output_type": "execute_result"
    }
   ],
   "source": [
    "%viz --style=\"LR\" --view=\"Action\" \"PrivateImportTest\""
   ]
  },
  {
   "cell_type": "code",
   "execution_count": 21,
   "id": "female-revolution",
   "metadata": {
    "execution": {
     "iopub.execute_input": "2021-03-25T14:10:38.845832Z",
     "iopub.status.busy": "2021-03-25T14:10:38.845126Z",
     "iopub.status.idle": "2021-03-25T14:10:38.917975Z",
     "shell.execute_reply": "2021-03-25T14:10:38.917611Z"
    }
   },
   "outputs": [
    {
     "data": {
      "image/svg+xml": [
       "<?xml version=\"1.0\" encoding=\"UTF-8\" standalone=\"no\"?><svg xmlns=\"http://www.w3.org/2000/svg\" xmlns:xlink=\"http://www.w3.org/1999/xlink\" contentScriptType=\"application/ecmascript\" contentStyleType=\"text/css\" height=\"303px\" preserveAspectRatio=\"none\" style=\"width:262px;height:303px;\" version=\"1.1\" viewBox=\"0 0 262 303\" width=\"262px\" zoomAndPan=\"magnify\"><defs/><g><!--MD5=[fbc87193dbaf4d95561dea2c320d4a47]\n",
       "cluster E1--><a href=\"psysml:04be3c0a-f069-4f88-9dd0-1488cf078b60\" target=\"_top\" title=\"psysml:04be3c0a-f069-4f88-9dd0-1488cf078b60\" xlink:actuate=\"onRequest\" xlink:href=\"psysml:04be3c0a-f069-4f88-9dd0-1488cf078b60\" xlink:show=\"new\" xlink:title=\"psysml:04be3c0a-f069-4f88-9dd0-1488cf078b60\" xlink:type=\"simple\"><polygon fill=\"#FFFFFF\" points=\"16,6,163,6,170,28.2969,240,28.2969,240,291,16,291,16,6\" style=\"stroke: #000000; stroke-width: 1.5;\"/><line style=\"stroke: #000000; stroke-width: 1.5;\" x1=\"16\" x2=\"170\" y1=\"28.2969\" y2=\"28.2969\"/><text fill=\"#000000\" font-family=\"sans-serif\" font-size=\"14\" font-weight=\"bold\" lengthAdjust=\"spacingAndGlyphs\" textLength=\"141\" x=\"20\" y=\"20.9951\">PrivateImportTest</text></a><!--MD5=[e4f7fae6ed58524ba242bb0b0d3be6b7]\n",
       "cluster E2--><a href=\"psysml:2d8a57d2-00aa-4c24-bcf4-c6f0dba3a85a\" target=\"_top\" title=\"psysml:2d8a57d2-00aa-4c24-bcf4-c6f0dba3a85a\" xlink:actuate=\"onRequest\" xlink:href=\"psysml:2d8a57d2-00aa-4c24-bcf4-c6f0dba3a85a\" xlink:show=\"new\" xlink:title=\"psysml:2d8a57d2-00aa-4c24-bcf4-c6f0dba3a85a\" xlink:type=\"simple\"><polygon fill=\"#FFFFFF\" points=\"118,49,144,49,151,71.2969,216,71.2969,216,146,118,146,118,49\" style=\"stroke: #000000; stroke-width: 1.5;\"/><line style=\"stroke: #000000; stroke-width: 1.5;\" x1=\"118\" x2=\"151\" y1=\"71.2969\" y2=\"71.2969\"/><text fill=\"#000000\" font-family=\"sans-serif\" font-size=\"14\" font-weight=\"bold\" lengthAdjust=\"spacingAndGlyphs\" textLength=\"20\" x=\"122\" y=\"63.9951\">P1</text></a><!--MD5=[14e3b0961a2654348d326746436168a1]\n",
       "cluster E6--><a href=\"psysml:0a65db1a-6ec3-4140-b73e-0c5567d9dbea\" target=\"_top\" title=\"psysml:0a65db1a-6ec3-4140-b73e-0c5567d9dbea\" xlink:actuate=\"onRequest\" xlink:href=\"psysml:0a65db1a-6ec3-4140-b73e-0c5567d9dbea\" xlink:show=\"new\" xlink:title=\"psysml:0a65db1a-6ec3-4140-b73e-0c5567d9dbea\" xlink:type=\"simple\"><polygon fill=\"#FFFFFF\" points=\"118,170,144,170,151,192.2969,216,192.2969,216,267,118,267,118,170\" style=\"stroke: #000000; stroke-width: 1.5;\"/><line style=\"stroke: #000000; stroke-width: 1.5;\" x1=\"118\" x2=\"151\" y1=\"192.2969\" y2=\"192.2969\"/><text fill=\"#000000\" font-family=\"sans-serif\" font-size=\"14\" font-weight=\"bold\" lengthAdjust=\"spacingAndGlyphs\" textLength=\"20\" x=\"122\" y=\"184.9951\">P3</text></a><!--MD5=[270fce915f116d4de14055a7c1d9a0f3]\n",
       "class E5--><a href=\"psysml:43785f75-2189-42e8-ba89-9f38d7235e69\" target=\"_top\" title=\"psysml:43785f75-2189-42e8-ba89-9f38d7235e69\" xlink:actuate=\"onRequest\" xlink:href=\"psysml:43785f75-2189-42e8-ba89-9f38d7235e69\" xlink:show=\"new\" xlink:title=\"psysml:43785f75-2189-42e8-ba89-9f38d7235e69\" xlink:type=\"simple\"><rect fill=\"#FFFFFF\" height=\"45.9375\" id=\"E5\" rx=\"10\" ry=\"10\" style=\"stroke: #383838; stroke-width: 1.5;\" width=\"42\" x=\"32\" y=\"59\"/><text fill=\"#000000\" font-family=\"sans-serif\" font-size=\"12\" font-style=\"italic\" lengthAdjust=\"spacingAndGlyphs\" textLength=\"40\" x=\"33\" y=\"75.1387\">«part»</text><text fill=\"#000000\" font-family=\"sans-serif\" font-size=\"12\" lengthAdjust=\"spacingAndGlyphs\" textLength=\"22\" x=\"42\" y=\"89.1074\">x: A</text><line style=\"stroke: #383838; stroke-width: 1.5;\" x1=\"33\" x2=\"73\" y1=\"96.9375\" y2=\"96.9375\"/></a><!--MD5=[b9389687b975829384b498ac4b7476b2]\n",
       "class E8--><a href=\"psysml:ceec508b-c3a9-4167-8e78-7da3e35ca489\" target=\"_top\" title=\"psysml:ceec508b-c3a9-4167-8e78-7da3e35ca489\" xlink:actuate=\"onRequest\" xlink:href=\"psysml:ceec508b-c3a9-4167-8e78-7da3e35ca489\" xlink:show=\"new\" xlink:title=\"psysml:ceec508b-c3a9-4167-8e78-7da3e35ca489\" xlink:type=\"simple\"><rect fill=\"#FFFFFF\" height=\"45.9375\" id=\"E8\" rx=\"10\" ry=\"10\" style=\"stroke: #383838; stroke-width: 1.5;\" width=\"42\" x=\"32\" y=\"140\"/><text fill=\"#000000\" font-family=\"sans-serif\" font-size=\"12\" font-style=\"italic\" lengthAdjust=\"spacingAndGlyphs\" textLength=\"40\" x=\"33\" y=\"156.1387\">«part»</text><text fill=\"#000000\" font-family=\"sans-serif\" font-size=\"12\" lengthAdjust=\"spacingAndGlyphs\" textLength=\"21\" x=\"42.5\" y=\"170.1074\">z: B</text><line style=\"stroke: #383838; stroke-width: 1.5;\" x1=\"33\" x2=\"73\" y1=\"177.9375\" y2=\"177.9375\"/></a><!--MD5=[09b614a08d8cba4a07c9adeb5e0fee81]\n",
       "class E3--><a href=\"psysml:8088eca0-f00f-4a1f-9db3-28df87f45186\" target=\"_top\" title=\"psysml:8088eca0-f00f-4a1f-9db3-28df87f45186\" xlink:actuate=\"onRequest\" xlink:href=\"psysml:8088eca0-f00f-4a1f-9db3-28df87f45186\" xlink:show=\"new\" xlink:title=\"psysml:8088eca0-f00f-4a1f-9db3-28df87f45186\" xlink:type=\"simple\"><rect fill=\"#FFFFFF\" height=\"45.9375\" id=\"E3\" style=\"stroke: #383838; stroke-width: 1.5;\" width=\"66\" x=\"134\" y=\"84\"/><text fill=\"#000000\" font-family=\"sans-serif\" font-size=\"12\" font-style=\"italic\" lengthAdjust=\"spacingAndGlyphs\" textLength=\"64\" x=\"135\" y=\"100.1387\">«part def»</text><text fill=\"#000000\" font-family=\"sans-serif\" font-size=\"12\" lengthAdjust=\"spacingAndGlyphs\" textLength=\"8\" x=\"163\" y=\"114.1074\">A</text><line style=\"stroke: #383838; stroke-width: 1.5;\" x1=\"135\" x2=\"199\" y1=\"121.9375\" y2=\"121.9375\"/></a><a href=\"psysml:f5fce4b6-35f4-4f46-9b6d-d151b55baece\" target=\"_top\" title=\"psysml:f5fce4b6-35f4-4f46-9b6d-d151b55baece\" xlink:actuate=\"onRequest\" xlink:href=\"psysml:f5fce4b6-35f4-4f46-9b6d-d151b55baece\" xlink:show=\"new\" xlink:title=\"psysml:f5fce4b6-35f4-4f46-9b6d-d151b55baece\" xlink:type=\"simple\"><polygon fill=\"#FFFFFF\" points=\"33,221.5,59,221.5,66,243.7969,73,243.7969,73,274.0938,33,274.0938,33,221.5\" style=\"stroke: #000000; stroke-width: 1.5;\"/><line style=\"stroke: #000000; stroke-width: 1.5;\" x1=\"33\" x2=\"66\" y1=\"243.7969\" y2=\"243.7969\"/><text fill=\"#000000\" font-family=\"sans-serif\" font-size=\"14\" font-weight=\"bold\" lengthAdjust=\"spacingAndGlyphs\" textLength=\"20\" x=\"37\" y=\"236.4951\">P2</text></a><!--MD5=[2156ba9850f5573cc1fc38a6a4b2f02b]\n",
       "class E7--><a href=\"psysml:a9488239-9884-4bc6-98b3-04bdbcc46eca\" target=\"_top\" title=\"psysml:a9488239-9884-4bc6-98b3-04bdbcc46eca\" xlink:actuate=\"onRequest\" xlink:href=\"psysml:a9488239-9884-4bc6-98b3-04bdbcc46eca\" xlink:show=\"new\" xlink:title=\"psysml:a9488239-9884-4bc6-98b3-04bdbcc46eca\" xlink:type=\"simple\"><rect fill=\"#FFFFFF\" height=\"45.9375\" id=\"E7\" style=\"stroke: #383838; stroke-width: 1.5;\" width=\"66\" x=\"134\" y=\"205\"/><text fill=\"#000000\" font-family=\"sans-serif\" font-size=\"12\" font-style=\"italic\" lengthAdjust=\"spacingAndGlyphs\" textLength=\"64\" x=\"135\" y=\"221.1387\">«part def»</text><text fill=\"#000000\" font-family=\"sans-serif\" font-size=\"12\" lengthAdjust=\"spacingAndGlyphs\" textLength=\"8\" x=\"163\" y=\"235.1074\">B</text><line style=\"stroke: #383838; stroke-width: 1.5;\" x1=\"135\" x2=\"199\" y1=\"242.9375\" y2=\"242.9375\"/></a><!--MD5=[e9be52314489bd878ff4c7144b63c9e1]\n",
       "link E5 to E3--><a href=\"psysml:25d642ee-de35-43b5-ac2f-29504efb7d68\" target=\"_top\" title=\"psysml:25d642ee-de35-43b5-ac2f-29504efb7d68\" xlink:actuate=\"onRequest\" xlink:href=\"psysml:25d642ee-de35-43b5-ac2f-29504efb7d68\" xlink:show=\"new\" xlink:title=\"psysml:25d642ee-de35-43b5-ac2f-29504efb7d68\" xlink:type=\"simple\"><path d=\"M74.02,86.47 C85.31,88.99 99.99,92.27 114.29,95.46 \" fill=\"none\" id=\"E5-&gt;E3\" style=\"stroke: #383838; stroke-width: 1.0;\"/><polygon fill=\"#FFFFFF\" points=\"133.86,99.83,113.7912,102.5214,116.842,88.8579,133.86,99.83\" style=\"stroke: #383838; stroke-width: 1.0;\"/><ellipse cx=\"108.664\" cy=\"99.3274\" fill=\"#383838\" rx=\"2\" ry=\"2\" style=\"stroke: #383838; stroke-width: 1.0;\"/><ellipse cx=\"110.8432\" cy=\"89.5677\" fill=\"#383838\" rx=\"2\" ry=\"2\" style=\"stroke: #383838; stroke-width: 1.0;\"/></a><!--MD5=[bfa3c8b0d15052fdf50ae9310b491027]\n",
       "link E8 to E7--><a href=\"psysml:d89216b2-7e18-408a-b614-d8caef1c47ec\" target=\"_top\" title=\"psysml:d89216b2-7e18-408a-b614-d8caef1c47ec\" xlink:actuate=\"onRequest\" xlink:href=\"psysml:d89216b2-7e18-408a-b614-d8caef1c47ec\" xlink:show=\"new\" xlink:title=\"psysml:d89216b2-7e18-408a-b614-d8caef1c47ec\" xlink:type=\"simple\"><path d=\"M74.02,174.62 C85.83,181.47 101.34,190.48 116.26,199.13 \" fill=\"none\" id=\"E8-&gt;E7\" style=\"stroke: #383838; stroke-width: 1.0;\"/><polygon fill=\"#FFFFFF\" points=\"133.86,209.35,113.9116,205.8773,120.9328,193.7652,133.86,209.35\" style=\"stroke: #383838; stroke-width: 1.0;\"/><ellipse cx=\"109.9832\" cy=\"201.2883\" fill=\"#383838\" rx=\"2\" ry=\"2\" style=\"stroke: #383838; stroke-width: 1.0;\"/><ellipse cx=\"114.9984\" cy=\"192.6368\" fill=\"#383838\" rx=\"2\" ry=\"2\" style=\"stroke: #383838; stroke-width: 1.0;\"/></a><!--MD5=[c540a4fe98560825f4f68a560fed708a]\n",
       "@startuml\r\n",
       "left to right direction\r\n",
       "skinparam monochrome true\r\n",
       "skinparam classbackgroundcolor white\r\n",
       "skinparam shadowing false\r\n",
       "skinparam wrapWidth 300\r\n",
       "hide circle\r\n",
       "\r\n",
       "package \"PrivateImportTest\" as E1  [[psysml:04be3c0a-f069-4f88-9dd0-1488cf078b60 ]]  {\r\n",
       "package \"P1\" as E2  [[psysml:2d8a57d2-00aa-4c24-bcf4-c6f0dba3a85a ]]  {\r\n",
       "comp def \"A\" as E3  <<(T,blue)part def>> [[psysml:8088eca0-f00f-4a1f-9db3-28df87f45186 ]] {\r\n",
       "}\r\n",
       "}\r\n",
       "package \"P2\" as E4  [[psysml:f5fce4b6-35f4-4f46-9b6d-d151b55baece ]]  {\r\n",
       "}\r\n",
       "comp usage \"x: A\" as E5  <<(T,blue)part>> [[psysml:43785f75-2189-42e8-ba89-9f38d7235e69 ]] {\r\n",
       "}\r\n",
       "package \"P3\" as E6  [[psysml:0a65db1a-6ec3-4140-b73e-0c5567d9dbea ]]  {\r\n",
       "comp def \"B\" as E7  <<(T,blue)part def>> [[psysml:a9488239-9884-4bc6-98b3-04bdbcc46eca ]] {\r\n",
       "}\r\n",
       "E5 - -:|> E3 [[psysml:25d642ee-de35-43b5-ac2f-29504efb7d68 ]] \r\n",
       "}\r\n",
       "comp usage \"z: B\" as E8  <<(T,blue)part>> [[psysml:ceec508b-c3a9-4167-8e78-7da3e35ca489 ]] {\r\n",
       "}\r\n",
       "E8 - -:|> E7 [[psysml:d89216b2-7e18-408a-b614-d8caef1c47ec ]] \r\n",
       "}\r\n",
       "@enduml\r\n",
       "\n",
       "PlantUML version 1.2020.13(Sat Jun 13 12:26:38 UTC 2020)\n",
       "(EPL source distribution)\n",
       "Java Runtime: OpenJDK Runtime Environment\n",
       "JVM: OpenJDK 64-Bit Server VM\n",
       "Default Encoding: UTF-8\n",
       "Language: en\n",
       "Country: null\n",
       "--></g></svg>"
      ]
     },
     "execution_count": 21,
     "metadata": {},
     "output_type": "execute_result"
    }
   ],
   "source": [
    "%viz --style=\"LR\" --view=\"Sequence\" \"PrivateImportTest\""
   ]
  },
  {
   "cell_type": "code",
   "execution_count": 22,
   "id": "dimensional-opportunity",
   "metadata": {
    "execution": {
     "iopub.execute_input": "2021-03-25T14:10:38.969701Z",
     "iopub.status.busy": "2021-03-25T14:10:38.969100Z",
     "iopub.status.idle": "2021-03-25T14:10:39.040729Z",
     "shell.execute_reply": "2021-03-25T14:10:39.040352Z"
    }
   },
   "outputs": [
    {
     "data": {
      "image/svg+xml": [
       "<?xml version=\"1.0\" encoding=\"UTF-8\" standalone=\"no\"?><svg xmlns=\"http://www.w3.org/2000/svg\" xmlns:xlink=\"http://www.w3.org/1999/xlink\" contentScriptType=\"application/ecmascript\" contentStyleType=\"text/css\" height=\"303px\" preserveAspectRatio=\"none\" style=\"width:262px;height:303px;\" version=\"1.1\" viewBox=\"0 0 262 303\" width=\"262px\" zoomAndPan=\"magnify\"><defs/><g><!--MD5=[fbc87193dbaf4d95561dea2c320d4a47]\n",
       "cluster E1--><a href=\"psysml:04be3c0a-f069-4f88-9dd0-1488cf078b60\" target=\"_top\" title=\"psysml:04be3c0a-f069-4f88-9dd0-1488cf078b60\" xlink:actuate=\"onRequest\" xlink:href=\"psysml:04be3c0a-f069-4f88-9dd0-1488cf078b60\" xlink:show=\"new\" xlink:title=\"psysml:04be3c0a-f069-4f88-9dd0-1488cf078b60\" xlink:type=\"simple\"><polygon fill=\"#FFFFFF\" points=\"16,6,163,6,170,28.2969,240,28.2969,240,291,16,291,16,6\" style=\"stroke: #000000; stroke-width: 1.5;\"/><line style=\"stroke: #000000; stroke-width: 1.5;\" x1=\"16\" x2=\"170\" y1=\"28.2969\" y2=\"28.2969\"/><text fill=\"#000000\" font-family=\"sans-serif\" font-size=\"14\" font-weight=\"bold\" lengthAdjust=\"spacingAndGlyphs\" textLength=\"141\" x=\"20\" y=\"20.9951\">PrivateImportTest</text></a><!--MD5=[e4f7fae6ed58524ba242bb0b0d3be6b7]\n",
       "cluster E2--><a href=\"psysml:2d8a57d2-00aa-4c24-bcf4-c6f0dba3a85a\" target=\"_top\" title=\"psysml:2d8a57d2-00aa-4c24-bcf4-c6f0dba3a85a\" xlink:actuate=\"onRequest\" xlink:href=\"psysml:2d8a57d2-00aa-4c24-bcf4-c6f0dba3a85a\" xlink:show=\"new\" xlink:title=\"psysml:2d8a57d2-00aa-4c24-bcf4-c6f0dba3a85a\" xlink:type=\"simple\"><polygon fill=\"#FFFFFF\" points=\"118,49,144,49,151,71.2969,216,71.2969,216,146,118,146,118,49\" style=\"stroke: #000000; stroke-width: 1.5;\"/><line style=\"stroke: #000000; stroke-width: 1.5;\" x1=\"118\" x2=\"151\" y1=\"71.2969\" y2=\"71.2969\"/><text fill=\"#000000\" font-family=\"sans-serif\" font-size=\"14\" font-weight=\"bold\" lengthAdjust=\"spacingAndGlyphs\" textLength=\"20\" x=\"122\" y=\"63.9951\">P1</text></a><!--MD5=[14e3b0961a2654348d326746436168a1]\n",
       "cluster E6--><a href=\"psysml:0a65db1a-6ec3-4140-b73e-0c5567d9dbea\" target=\"_top\" title=\"psysml:0a65db1a-6ec3-4140-b73e-0c5567d9dbea\" xlink:actuate=\"onRequest\" xlink:href=\"psysml:0a65db1a-6ec3-4140-b73e-0c5567d9dbea\" xlink:show=\"new\" xlink:title=\"psysml:0a65db1a-6ec3-4140-b73e-0c5567d9dbea\" xlink:type=\"simple\"><polygon fill=\"#FFFFFF\" points=\"118,170,144,170,151,192.2969,216,192.2969,216,267,118,267,118,170\" style=\"stroke: #000000; stroke-width: 1.5;\"/><line style=\"stroke: #000000; stroke-width: 1.5;\" x1=\"118\" x2=\"151\" y1=\"192.2969\" y2=\"192.2969\"/><text fill=\"#000000\" font-family=\"sans-serif\" font-size=\"14\" font-weight=\"bold\" lengthAdjust=\"spacingAndGlyphs\" textLength=\"20\" x=\"122\" y=\"184.9951\">P3</text></a><!--MD5=[270fce915f116d4de14055a7c1d9a0f3]\n",
       "class E5--><a href=\"psysml:43785f75-2189-42e8-ba89-9f38d7235e69\" target=\"_top\" title=\"psysml:43785f75-2189-42e8-ba89-9f38d7235e69\" xlink:actuate=\"onRequest\" xlink:href=\"psysml:43785f75-2189-42e8-ba89-9f38d7235e69\" xlink:show=\"new\" xlink:title=\"psysml:43785f75-2189-42e8-ba89-9f38d7235e69\" xlink:type=\"simple\"><rect fill=\"#FFFFFF\" height=\"45.9375\" id=\"E5\" rx=\"10\" ry=\"10\" style=\"stroke: #383838; stroke-width: 1.5;\" width=\"42\" x=\"32\" y=\"59\"/><text fill=\"#000000\" font-family=\"sans-serif\" font-size=\"12\" font-style=\"italic\" lengthAdjust=\"spacingAndGlyphs\" textLength=\"40\" x=\"33\" y=\"75.1387\">«part»</text><text fill=\"#000000\" font-family=\"sans-serif\" font-size=\"12\" lengthAdjust=\"spacingAndGlyphs\" textLength=\"22\" x=\"42\" y=\"89.1074\">x: A</text><line style=\"stroke: #383838; stroke-width: 1.5;\" x1=\"33\" x2=\"73\" y1=\"96.9375\" y2=\"96.9375\"/></a><!--MD5=[b9389687b975829384b498ac4b7476b2]\n",
       "class E8--><a href=\"psysml:ceec508b-c3a9-4167-8e78-7da3e35ca489\" target=\"_top\" title=\"psysml:ceec508b-c3a9-4167-8e78-7da3e35ca489\" xlink:actuate=\"onRequest\" xlink:href=\"psysml:ceec508b-c3a9-4167-8e78-7da3e35ca489\" xlink:show=\"new\" xlink:title=\"psysml:ceec508b-c3a9-4167-8e78-7da3e35ca489\" xlink:type=\"simple\"><rect fill=\"#FFFFFF\" height=\"45.9375\" id=\"E8\" rx=\"10\" ry=\"10\" style=\"stroke: #383838; stroke-width: 1.5;\" width=\"42\" x=\"32\" y=\"140\"/><text fill=\"#000000\" font-family=\"sans-serif\" font-size=\"12\" font-style=\"italic\" lengthAdjust=\"spacingAndGlyphs\" textLength=\"40\" x=\"33\" y=\"156.1387\">«part»</text><text fill=\"#000000\" font-family=\"sans-serif\" font-size=\"12\" lengthAdjust=\"spacingAndGlyphs\" textLength=\"21\" x=\"42.5\" y=\"170.1074\">z: B</text><line style=\"stroke: #383838; stroke-width: 1.5;\" x1=\"33\" x2=\"73\" y1=\"177.9375\" y2=\"177.9375\"/></a><!--MD5=[09b614a08d8cba4a07c9adeb5e0fee81]\n",
       "class E3--><a href=\"psysml:8088eca0-f00f-4a1f-9db3-28df87f45186\" target=\"_top\" title=\"psysml:8088eca0-f00f-4a1f-9db3-28df87f45186\" xlink:actuate=\"onRequest\" xlink:href=\"psysml:8088eca0-f00f-4a1f-9db3-28df87f45186\" xlink:show=\"new\" xlink:title=\"psysml:8088eca0-f00f-4a1f-9db3-28df87f45186\" xlink:type=\"simple\"><rect fill=\"#FFFFFF\" height=\"45.9375\" id=\"E3\" style=\"stroke: #383838; stroke-width: 1.5;\" width=\"66\" x=\"134\" y=\"84\"/><text fill=\"#000000\" font-family=\"sans-serif\" font-size=\"12\" font-style=\"italic\" lengthAdjust=\"spacingAndGlyphs\" textLength=\"64\" x=\"135\" y=\"100.1387\">«part def»</text><text fill=\"#000000\" font-family=\"sans-serif\" font-size=\"12\" lengthAdjust=\"spacingAndGlyphs\" textLength=\"8\" x=\"163\" y=\"114.1074\">A</text><line style=\"stroke: #383838; stroke-width: 1.5;\" x1=\"135\" x2=\"199\" y1=\"121.9375\" y2=\"121.9375\"/></a><a href=\"psysml:f5fce4b6-35f4-4f46-9b6d-d151b55baece\" target=\"_top\" title=\"psysml:f5fce4b6-35f4-4f46-9b6d-d151b55baece\" xlink:actuate=\"onRequest\" xlink:href=\"psysml:f5fce4b6-35f4-4f46-9b6d-d151b55baece\" xlink:show=\"new\" xlink:title=\"psysml:f5fce4b6-35f4-4f46-9b6d-d151b55baece\" xlink:type=\"simple\"><polygon fill=\"#FFFFFF\" points=\"33,221.5,59,221.5,66,243.7969,73,243.7969,73,274.0938,33,274.0938,33,221.5\" style=\"stroke: #000000; stroke-width: 1.5;\"/><line style=\"stroke: #000000; stroke-width: 1.5;\" x1=\"33\" x2=\"66\" y1=\"243.7969\" y2=\"243.7969\"/><text fill=\"#000000\" font-family=\"sans-serif\" font-size=\"14\" font-weight=\"bold\" lengthAdjust=\"spacingAndGlyphs\" textLength=\"20\" x=\"37\" y=\"236.4951\">P2</text></a><!--MD5=[2156ba9850f5573cc1fc38a6a4b2f02b]\n",
       "class E7--><a href=\"psysml:a9488239-9884-4bc6-98b3-04bdbcc46eca\" target=\"_top\" title=\"psysml:a9488239-9884-4bc6-98b3-04bdbcc46eca\" xlink:actuate=\"onRequest\" xlink:href=\"psysml:a9488239-9884-4bc6-98b3-04bdbcc46eca\" xlink:show=\"new\" xlink:title=\"psysml:a9488239-9884-4bc6-98b3-04bdbcc46eca\" xlink:type=\"simple\"><rect fill=\"#FFFFFF\" height=\"45.9375\" id=\"E7\" style=\"stroke: #383838; stroke-width: 1.5;\" width=\"66\" x=\"134\" y=\"205\"/><text fill=\"#000000\" font-family=\"sans-serif\" font-size=\"12\" font-style=\"italic\" lengthAdjust=\"spacingAndGlyphs\" textLength=\"64\" x=\"135\" y=\"221.1387\">«part def»</text><text fill=\"#000000\" font-family=\"sans-serif\" font-size=\"12\" lengthAdjust=\"spacingAndGlyphs\" textLength=\"8\" x=\"163\" y=\"235.1074\">B</text><line style=\"stroke: #383838; stroke-width: 1.5;\" x1=\"135\" x2=\"199\" y1=\"242.9375\" y2=\"242.9375\"/></a><!--MD5=[e9be52314489bd878ff4c7144b63c9e1]\n",
       "link E5 to E3--><a href=\"psysml:25d642ee-de35-43b5-ac2f-29504efb7d68\" target=\"_top\" title=\"psysml:25d642ee-de35-43b5-ac2f-29504efb7d68\" xlink:actuate=\"onRequest\" xlink:href=\"psysml:25d642ee-de35-43b5-ac2f-29504efb7d68\" xlink:show=\"new\" xlink:title=\"psysml:25d642ee-de35-43b5-ac2f-29504efb7d68\" xlink:type=\"simple\"><path d=\"M74.02,86.47 C85.31,88.99 99.99,92.27 114.29,95.46 \" fill=\"none\" id=\"E5-&gt;E3\" style=\"stroke: #383838; stroke-width: 1.0;\"/><polygon fill=\"#FFFFFF\" points=\"133.86,99.83,113.7912,102.5214,116.842,88.8579,133.86,99.83\" style=\"stroke: #383838; stroke-width: 1.0;\"/><ellipse cx=\"108.664\" cy=\"99.3274\" fill=\"#383838\" rx=\"2\" ry=\"2\" style=\"stroke: #383838; stroke-width: 1.0;\"/><ellipse cx=\"110.8432\" cy=\"89.5677\" fill=\"#383838\" rx=\"2\" ry=\"2\" style=\"stroke: #383838; stroke-width: 1.0;\"/></a><!--MD5=[bfa3c8b0d15052fdf50ae9310b491027]\n",
       "link E8 to E7--><a href=\"psysml:d89216b2-7e18-408a-b614-d8caef1c47ec\" target=\"_top\" title=\"psysml:d89216b2-7e18-408a-b614-d8caef1c47ec\" xlink:actuate=\"onRequest\" xlink:href=\"psysml:d89216b2-7e18-408a-b614-d8caef1c47ec\" xlink:show=\"new\" xlink:title=\"psysml:d89216b2-7e18-408a-b614-d8caef1c47ec\" xlink:type=\"simple\"><path d=\"M74.02,174.62 C85.83,181.47 101.34,190.48 116.26,199.13 \" fill=\"none\" id=\"E8-&gt;E7\" style=\"stroke: #383838; stroke-width: 1.0;\"/><polygon fill=\"#FFFFFF\" points=\"133.86,209.35,113.9116,205.8773,120.9328,193.7652,133.86,209.35\" style=\"stroke: #383838; stroke-width: 1.0;\"/><ellipse cx=\"109.9832\" cy=\"201.2883\" fill=\"#383838\" rx=\"2\" ry=\"2\" style=\"stroke: #383838; stroke-width: 1.0;\"/><ellipse cx=\"114.9984\" cy=\"192.6368\" fill=\"#383838\" rx=\"2\" ry=\"2\" style=\"stroke: #383838; stroke-width: 1.0;\"/></a><!--MD5=[c540a4fe98560825f4f68a560fed708a]\n",
       "@startuml\r\n",
       "left to right direction\r\n",
       "skinparam monochrome true\r\n",
       "skinparam classbackgroundcolor white\r\n",
       "skinparam shadowing false\r\n",
       "skinparam wrapWidth 300\r\n",
       "hide circle\r\n",
       "\r\n",
       "package \"PrivateImportTest\" as E1  [[psysml:04be3c0a-f069-4f88-9dd0-1488cf078b60 ]]  {\r\n",
       "package \"P1\" as E2  [[psysml:2d8a57d2-00aa-4c24-bcf4-c6f0dba3a85a ]]  {\r\n",
       "comp def \"A\" as E3  <<(T,blue)part def>> [[psysml:8088eca0-f00f-4a1f-9db3-28df87f45186 ]] {\r\n",
       "}\r\n",
       "}\r\n",
       "package \"P2\" as E4  [[psysml:f5fce4b6-35f4-4f46-9b6d-d151b55baece ]]  {\r\n",
       "}\r\n",
       "comp usage \"x: A\" as E5  <<(T,blue)part>> [[psysml:43785f75-2189-42e8-ba89-9f38d7235e69 ]] {\r\n",
       "}\r\n",
       "package \"P3\" as E6  [[psysml:0a65db1a-6ec3-4140-b73e-0c5567d9dbea ]]  {\r\n",
       "comp def \"B\" as E7  <<(T,blue)part def>> [[psysml:a9488239-9884-4bc6-98b3-04bdbcc46eca ]] {\r\n",
       "}\r\n",
       "E5 - -:|> E3 [[psysml:25d642ee-de35-43b5-ac2f-29504efb7d68 ]] \r\n",
       "}\r\n",
       "comp usage \"z: B\" as E8  <<(T,blue)part>> [[psysml:ceec508b-c3a9-4167-8e78-7da3e35ca489 ]] {\r\n",
       "}\r\n",
       "E8 - -:|> E7 [[psysml:d89216b2-7e18-408a-b614-d8caef1c47ec ]] \r\n",
       "}\r\n",
       "@enduml\r\n",
       "\n",
       "PlantUML version 1.2020.13(Sat Jun 13 12:26:38 UTC 2020)\n",
       "(EPL source distribution)\n",
       "Java Runtime: OpenJDK Runtime Environment\n",
       "JVM: OpenJDK 64-Bit Server VM\n",
       "Default Encoding: UTF-8\n",
       "Language: en\n",
       "Country: null\n",
       "--></g></svg>"
      ]
     },
     "execution_count": 22,
     "metadata": {},
     "output_type": "execute_result"
    }
   ],
   "source": [
    "%viz --style=\"LR\" --view=\"MIXED\" \"PrivateImportTest\""
   ]
  },
  {
   "cell_type": "code",
   "execution_count": 23,
   "id": "satisfactory-estonia",
   "metadata": {
    "execution": {
     "iopub.execute_input": "2021-03-25T14:10:39.091776Z",
     "iopub.status.busy": "2021-03-25T14:10:39.091256Z",
     "iopub.status.idle": "2021-03-25T14:10:39.157044Z",
     "shell.execute_reply": "2021-03-25T14:10:39.156664Z"
    }
   },
   "outputs": [
    {
     "data": {
      "image/svg+xml": [
       "<?xml version=\"1.0\" encoding=\"UTF-8\" standalone=\"no\"?><svg xmlns=\"http://www.w3.org/2000/svg\" xmlns:xlink=\"http://www.w3.org/1999/xlink\" contentScriptType=\"application/ecmascript\" contentStyleType=\"text/css\" height=\"252px\" preserveAspectRatio=\"none\" style=\"width:306px;height:252px;\" version=\"1.1\" viewBox=\"0 0 306 252\" width=\"306px\" zoomAndPan=\"magnify\"><defs><filter height=\"300%\" id=\"fcvghgt7e9xoh\" width=\"300%\" x=\"-1\" y=\"-1\"><feGaussianBlur result=\"blurOut\" stdDeviation=\"2.0\"/><feColorMatrix in=\"blurOut\" result=\"blurOut2\" type=\"matrix\" values=\"0 0 0 0 0 0 0 0 0 0 0 0 0 0 0 0 0 0 .4 0\"/><feOffset dx=\"4.0\" dy=\"4.0\" in=\"blurOut2\" result=\"blurOut3\"/><feBlend in=\"SourceGraphic\" in2=\"blurOut3\" mode=\"normal\"/></filter></defs><g><!--MD5=[fbc87193dbaf4d95561dea2c320d4a47]\n",
       "cluster E1--><a href=\"psysml:04be3c0a-f069-4f88-9dd0-1488cf078b60\" target=\"_top\" title=\"psysml:04be3c0a-f069-4f88-9dd0-1488cf078b60\" xlink:actuate=\"onRequest\" xlink:href=\"psysml:04be3c0a-f069-4f88-9dd0-1488cf078b60\" xlink:show=\"new\" xlink:title=\"psysml:04be3c0a-f069-4f88-9dd0-1488cf078b60\" xlink:type=\"simple\"><polygon fill=\"#FFFFFF\" filter=\"url(#fcvghgt7e9xoh)\" points=\"16,6,163,6,170,28.2969,284,28.2969,284,240,16,240,16,6\" style=\"stroke: #000000; stroke-width: 1.5;\"/><line style=\"stroke: #000000; stroke-width: 1.5;\" x1=\"16\" x2=\"170\" y1=\"28.2969\" y2=\"28.2969\"/><text fill=\"#000000\" font-family=\"sans-serif\" font-size=\"14\" font-weight=\"bold\" lengthAdjust=\"spacingAndGlyphs\" textLength=\"141\" x=\"20\" y=\"20.9951\">PrivateImportTest</text></a><!--MD5=[e4f7fae6ed58524ba242bb0b0d3be6b7]\n",
       "cluster E2--><a href=\"psysml:2d8a57d2-00aa-4c24-bcf4-c6f0dba3a85a\" target=\"_top\" title=\"psysml:2d8a57d2-00aa-4c24-bcf4-c6f0dba3a85a\" xlink:actuate=\"onRequest\" xlink:href=\"psysml:2d8a57d2-00aa-4c24-bcf4-c6f0dba3a85a\" xlink:show=\"new\" xlink:title=\"psysml:2d8a57d2-00aa-4c24-bcf4-c6f0dba3a85a\" xlink:type=\"simple\"><polygon fill=\"#FFFFFF\" filter=\"url(#fcvghgt7e9xoh)\" points=\"162,119,188,119,195,141.2969,260,141.2969,260,216,162,216,162,119\" style=\"stroke: #000000; stroke-width: 1.5;\"/><line style=\"stroke: #000000; stroke-width: 1.5;\" x1=\"162\" x2=\"195\" y1=\"141.2969\" y2=\"141.2969\"/><text fill=\"#000000\" font-family=\"sans-serif\" font-size=\"14\" font-weight=\"bold\" lengthAdjust=\"spacingAndGlyphs\" textLength=\"20\" x=\"166\" y=\"133.9951\">P1</text></a><!--MD5=[14e3b0961a2654348d326746436168a1]\n",
       "cluster E6--><a href=\"psysml:0a65db1a-6ec3-4140-b73e-0c5567d9dbea\" target=\"_top\" title=\"psysml:0a65db1a-6ec3-4140-b73e-0c5567d9dbea\" xlink:actuate=\"onRequest\" xlink:href=\"psysml:0a65db1a-6ec3-4140-b73e-0c5567d9dbea\" xlink:show=\"new\" xlink:title=\"psysml:0a65db1a-6ec3-4140-b73e-0c5567d9dbea\" xlink:type=\"simple\"><polygon fill=\"#FFFFFF\" filter=\"url(#fcvghgt7e9xoh)\" points=\"40,119,66,119,73,141.2969,138,141.2969,138,216,40,216,40,119\" style=\"stroke: #000000; stroke-width: 1.5;\"/><line style=\"stroke: #000000; stroke-width: 1.5;\" x1=\"40\" x2=\"73\" y1=\"141.2969\" y2=\"141.2969\"/><text fill=\"#000000\" font-family=\"sans-serif\" font-size=\"14\" font-weight=\"bold\" lengthAdjust=\"spacingAndGlyphs\" textLength=\"20\" x=\"44\" y=\"133.9951\">P3</text></a><!--MD5=[270fce915f116d4de14055a7c1d9a0f3]\n",
       "class E5--><a href=\"psysml:43785f75-2189-42e8-ba89-9f38d7235e69\" target=\"_top\" title=\"psysml:43785f75-2189-42e8-ba89-9f38d7235e69\" xlink:actuate=\"onRequest\" xlink:href=\"psysml:43785f75-2189-42e8-ba89-9f38d7235e69\" xlink:show=\"new\" xlink:title=\"psysml:43785f75-2189-42e8-ba89-9f38d7235e69\" xlink:type=\"simple\"><rect fill=\"#FEFECE\" filter=\"url(#fcvghgt7e9xoh)\" height=\"45.9375\" id=\"E5\" rx=\"10\" ry=\"10\" style=\"stroke: #A80036; stroke-width: 1.5;\" width=\"42\" x=\"190\" y=\"44.5\"/><text fill=\"#000000\" font-family=\"sans-serif\" font-size=\"12\" font-style=\"italic\" lengthAdjust=\"spacingAndGlyphs\" textLength=\"40\" x=\"191\" y=\"60.6387\">«part»</text><text fill=\"#000000\" font-family=\"sans-serif\" font-size=\"12\" lengthAdjust=\"spacingAndGlyphs\" textLength=\"22\" x=\"200\" y=\"74.6074\">x: A</text><line style=\"stroke: #A80036; stroke-width: 1.5;\" x1=\"191\" x2=\"231\" y1=\"82.4375\" y2=\"82.4375\"/></a><!--MD5=[b9389687b975829384b498ac4b7476b2]\n",
       "class E8--><a href=\"psysml:ceec508b-c3a9-4167-8e78-7da3e35ca489\" target=\"_top\" title=\"psysml:ceec508b-c3a9-4167-8e78-7da3e35ca489\" xlink:actuate=\"onRequest\" xlink:href=\"psysml:ceec508b-c3a9-4167-8e78-7da3e35ca489\" xlink:show=\"new\" xlink:title=\"psysml:ceec508b-c3a9-4167-8e78-7da3e35ca489\" xlink:type=\"simple\"><rect fill=\"#FEFECE\" filter=\"url(#fcvghgt7e9xoh)\" height=\"45.9375\" id=\"E8\" rx=\"10\" ry=\"10\" style=\"stroke: #A80036; stroke-width: 1.5;\" width=\"42\" x=\"107\" y=\"44.5\"/><text fill=\"#000000\" font-family=\"sans-serif\" font-size=\"12\" font-style=\"italic\" lengthAdjust=\"spacingAndGlyphs\" textLength=\"40\" x=\"108\" y=\"60.6387\">«part»</text><text fill=\"#000000\" font-family=\"sans-serif\" font-size=\"12\" lengthAdjust=\"spacingAndGlyphs\" textLength=\"21\" x=\"117.5\" y=\"74.6074\">z: B</text><line style=\"stroke: #A80036; stroke-width: 1.5;\" x1=\"108\" x2=\"148\" y1=\"82.4375\" y2=\"82.4375\"/></a><!--MD5=[09b614a08d8cba4a07c9adeb5e0fee81]\n",
       "class E3--><a href=\"psysml:8088eca0-f00f-4a1f-9db3-28df87f45186\" target=\"_top\" title=\"psysml:8088eca0-f00f-4a1f-9db3-28df87f45186\" xlink:actuate=\"onRequest\" xlink:href=\"psysml:8088eca0-f00f-4a1f-9db3-28df87f45186\" xlink:show=\"new\" xlink:title=\"psysml:8088eca0-f00f-4a1f-9db3-28df87f45186\" xlink:type=\"simple\"><rect fill=\"#FEFECE\" filter=\"url(#fcvghgt7e9xoh)\" height=\"45.9375\" id=\"E3\" style=\"stroke: #A80036; stroke-width: 1.5;\" width=\"66\" x=\"178\" y=\"154\"/><text fill=\"#000000\" font-family=\"sans-serif\" font-size=\"12\" font-style=\"italic\" lengthAdjust=\"spacingAndGlyphs\" textLength=\"64\" x=\"179\" y=\"170.1387\">«part def»</text><text fill=\"#000000\" font-family=\"sans-serif\" font-size=\"12\" lengthAdjust=\"spacingAndGlyphs\" textLength=\"8\" x=\"207\" y=\"184.1074\">A</text><line style=\"stroke: #A80036; stroke-width: 1.5;\" x1=\"179\" x2=\"243\" y1=\"191.9375\" y2=\"191.9375\"/></a><a href=\"psysml:f5fce4b6-35f4-4f46-9b6d-d151b55baece\" target=\"_top\" title=\"psysml:f5fce4b6-35f4-4f46-9b6d-d151b55baece\" xlink:actuate=\"onRequest\" xlink:href=\"psysml:f5fce4b6-35f4-4f46-9b6d-d151b55baece\" xlink:show=\"new\" xlink:title=\"psysml:f5fce4b6-35f4-4f46-9b6d-d151b55baece\" xlink:type=\"simple\"><polygon fill=\"#FFFFFF\" filter=\"url(#fcvghgt7e9xoh)\" points=\"32,41,58,41,65,63.2969,72,63.2969,72,93.5938,32,93.5938,32,41\" style=\"stroke: #000000; stroke-width: 1.5;\"/><line style=\"stroke: #000000; stroke-width: 1.5;\" x1=\"32\" x2=\"65\" y1=\"63.2969\" y2=\"63.2969\"/><text fill=\"#000000\" font-family=\"sans-serif\" font-size=\"14\" font-weight=\"bold\" lengthAdjust=\"spacingAndGlyphs\" textLength=\"20\" x=\"36\" y=\"55.9951\">P2</text></a><!--MD5=[2156ba9850f5573cc1fc38a6a4b2f02b]\n",
       "class E7--><a href=\"psysml:a9488239-9884-4bc6-98b3-04bdbcc46eca\" target=\"_top\" title=\"psysml:a9488239-9884-4bc6-98b3-04bdbcc46eca\" xlink:actuate=\"onRequest\" xlink:href=\"psysml:a9488239-9884-4bc6-98b3-04bdbcc46eca\" xlink:show=\"new\" xlink:title=\"psysml:a9488239-9884-4bc6-98b3-04bdbcc46eca\" xlink:type=\"simple\"><rect fill=\"#FEFECE\" filter=\"url(#fcvghgt7e9xoh)\" height=\"45.9375\" id=\"E7\" style=\"stroke: #A80036; stroke-width: 1.5;\" width=\"66\" x=\"56\" y=\"154\"/><text fill=\"#000000\" font-family=\"sans-serif\" font-size=\"12\" font-style=\"italic\" lengthAdjust=\"spacingAndGlyphs\" textLength=\"64\" x=\"57\" y=\"170.1387\">«part def»</text><text fill=\"#000000\" font-family=\"sans-serif\" font-size=\"12\" lengthAdjust=\"spacingAndGlyphs\" textLength=\"8\" x=\"85\" y=\"184.1074\">B</text><line style=\"stroke: #A80036; stroke-width: 1.5;\" x1=\"57\" x2=\"121\" y1=\"191.9375\" y2=\"191.9375\"/></a><!--MD5=[e9be52314489bd878ff4c7144b63c9e1]\n",
       "link E5 to E3--><a href=\"psysml:25d642ee-de35-43b5-ac2f-29504efb7d68\" target=\"_top\" title=\"psysml:25d642ee-de35-43b5-ac2f-29504efb7d68\" xlink:actuate=\"onRequest\" xlink:href=\"psysml:25d642ee-de35-43b5-ac2f-29504efb7d68\" xlink:show=\"new\" xlink:title=\"psysml:25d642ee-de35-43b5-ac2f-29504efb7d68\" xlink:type=\"simple\"><path d=\"M211,90.51 C211,102.89 211,118.78 211,133.48 \" fill=\"none\" id=\"E5-&gt;E3\" style=\"stroke: #A80036; stroke-width: 1.0;\"/><polygon fill=\"#FFFFFF\" points=\"211,153.65,204,134.65,218,134.65,211,153.65\" style=\"stroke: #A80036; stroke-width: 1.0;\"/><ellipse cx=\"206\" cy=\"128.95\" fill=\"#A80036\" rx=\"2\" ry=\"2\" style=\"stroke: #A80036; stroke-width: 1.0;\"/><ellipse cx=\"216\" cy=\"128.95\" fill=\"#A80036\" rx=\"2\" ry=\"2\" style=\"stroke: #A80036; stroke-width: 1.0;\"/></a><!--MD5=[bfa3c8b0d15052fdf50ae9310b491027]\n",
       "link E8 to E7--><a href=\"psysml:d89216b2-7e18-408a-b614-d8caef1c47ec\" target=\"_top\" title=\"psysml:d89216b2-7e18-408a-b614-d8caef1c47ec\" xlink:actuate=\"onRequest\" xlink:href=\"psysml:d89216b2-7e18-408a-b614-d8caef1c47ec\" xlink:show=\"new\" xlink:title=\"psysml:d89216b2-7e18-408a-b614-d8caef1c47ec\" xlink:type=\"simple\"><path d=\"M120.01,90.51 C115.39,103.25 109.42,119.7 103.96,134.76 \" fill=\"none\" id=\"E8-&gt;E7\" style=\"stroke: #A80036; stroke-width: 1.0;\"/><polygon fill=\"#FFFFFF\" points=\"97.11,153.65,97.0036,133.4018,110.1656,138.1726,97.11,153.65\" style=\"stroke: #A80036; stroke-width: 1.0;\"/><ellipse cx=\"100.8262\" cy=\"128.7245\" fill=\"#A80036\" rx=\"2\" ry=\"2\" style=\"stroke: #A80036; stroke-width: 1.0;\"/><ellipse cx=\"110.2277\" cy=\"132.1322\" fill=\"#A80036\" rx=\"2\" ry=\"2\" style=\"stroke: #A80036; stroke-width: 1.0;\"/></a><!--MD5=[9b808e70823da2b802765d219c1ec2f7]\n",
       "@startuml\r\n",
       "skinparam wrapWidth 300\r\n",
       "hide circle\r\n",
       "\r\n",
       "package \"PrivateImportTest\" as E1  [[psysml:04be3c0a-f069-4f88-9dd0-1488cf078b60 ]]  {\r\n",
       "package \"P1\" as E2  [[psysml:2d8a57d2-00aa-4c24-bcf4-c6f0dba3a85a ]]  {\r\n",
       "comp def \"A\" as E3  <<(T,blue)part def>> [[psysml:8088eca0-f00f-4a1f-9db3-28df87f45186 ]] {\r\n",
       "}\r\n",
       "}\r\n",
       "package \"P2\" as E4  [[psysml:f5fce4b6-35f4-4f46-9b6d-d151b55baece ]]  {\r\n",
       "}\r\n",
       "comp usage \"x: A\" as E5  <<(T,blue)part>> [[psysml:43785f75-2189-42e8-ba89-9f38d7235e69 ]] {\r\n",
       "}\r\n",
       "package \"P3\" as E6  [[psysml:0a65db1a-6ec3-4140-b73e-0c5567d9dbea ]]  {\r\n",
       "comp def \"B\" as E7  <<(T,blue)part def>> [[psysml:a9488239-9884-4bc6-98b3-04bdbcc46eca ]] {\r\n",
       "}\r\n",
       "E5 - -:|> E3 [[psysml:25d642ee-de35-43b5-ac2f-29504efb7d68 ]] \r\n",
       "}\r\n",
       "comp usage \"z: B\" as E8  <<(T,blue)part>> [[psysml:ceec508b-c3a9-4167-8e78-7da3e35ca489 ]] {\r\n",
       "}\r\n",
       "E8 - -:|> E7 [[psysml:d89216b2-7e18-408a-b614-d8caef1c47ec ]] \r\n",
       "}\r\n",
       "@enduml\r\n",
       "\n",
       "PlantUML version 1.2020.13(Sat Jun 13 12:26:38 UTC 2020)\n",
       "(EPL source distribution)\n",
       "Java Runtime: OpenJDK Runtime Environment\n",
       "JVM: OpenJDK 64-Bit Server VM\n",
       "Default Encoding: UTF-8\n",
       "Language: en\n",
       "Country: null\n",
       "--></g></svg>"
      ]
     },
     "execution_count": 23,
     "metadata": {},
     "output_type": "execute_result"
    }
   ],
   "source": [
    "%viz --style=\"STDCOLOR\" --view=\"Default\" \"PrivateImportTest\""
   ]
  },
  {
   "cell_type": "code",
   "execution_count": 24,
   "id": "hourly-bhutan",
   "metadata": {
    "execution": {
     "iopub.execute_input": "2021-03-25T14:10:39.207245Z",
     "iopub.status.busy": "2021-03-25T14:10:39.206821Z",
     "iopub.status.idle": "2021-03-25T14:10:39.272641Z",
     "shell.execute_reply": "2021-03-25T14:10:39.272233Z"
    }
   },
   "outputs": [
    {
     "data": {
      "image/svg+xml": [
       "<?xml version=\"1.0\" encoding=\"UTF-8\" standalone=\"no\"?><svg xmlns=\"http://www.w3.org/2000/svg\" xmlns:xlink=\"http://www.w3.org/1999/xlink\" contentScriptType=\"application/ecmascript\" contentStyleType=\"text/css\" height=\"252px\" preserveAspectRatio=\"none\" style=\"width:306px;height:252px;\" version=\"1.1\" viewBox=\"0 0 306 252\" width=\"306px\" zoomAndPan=\"magnify\"><defs><filter height=\"300%\" id=\"fcvghgt7e9xoh\" width=\"300%\" x=\"-1\" y=\"-1\"><feGaussianBlur result=\"blurOut\" stdDeviation=\"2.0\"/><feColorMatrix in=\"blurOut\" result=\"blurOut2\" type=\"matrix\" values=\"0 0 0 0 0 0 0 0 0 0 0 0 0 0 0 0 0 0 .4 0\"/><feOffset dx=\"4.0\" dy=\"4.0\" in=\"blurOut2\" result=\"blurOut3\"/><feBlend in=\"SourceGraphic\" in2=\"blurOut3\" mode=\"normal\"/></filter></defs><g><!--MD5=[fbc87193dbaf4d95561dea2c320d4a47]\n",
       "cluster E1--><a href=\"psysml:04be3c0a-f069-4f88-9dd0-1488cf078b60\" target=\"_top\" title=\"psysml:04be3c0a-f069-4f88-9dd0-1488cf078b60\" xlink:actuate=\"onRequest\" xlink:href=\"psysml:04be3c0a-f069-4f88-9dd0-1488cf078b60\" xlink:show=\"new\" xlink:title=\"psysml:04be3c0a-f069-4f88-9dd0-1488cf078b60\" xlink:type=\"simple\"><polygon fill=\"#FFFFFF\" filter=\"url(#fcvghgt7e9xoh)\" points=\"16,6,163,6,170,28.2969,284,28.2969,284,240,16,240,16,6\" style=\"stroke: #000000; stroke-width: 1.5;\"/><line style=\"stroke: #000000; stroke-width: 1.5;\" x1=\"16\" x2=\"170\" y1=\"28.2969\" y2=\"28.2969\"/><text fill=\"#000000\" font-family=\"sans-serif\" font-size=\"14\" font-weight=\"bold\" lengthAdjust=\"spacingAndGlyphs\" textLength=\"141\" x=\"20\" y=\"20.9951\">PrivateImportTest</text></a><!--MD5=[e4f7fae6ed58524ba242bb0b0d3be6b7]\n",
       "cluster E2--><a href=\"psysml:2d8a57d2-00aa-4c24-bcf4-c6f0dba3a85a\" target=\"_top\" title=\"psysml:2d8a57d2-00aa-4c24-bcf4-c6f0dba3a85a\" xlink:actuate=\"onRequest\" xlink:href=\"psysml:2d8a57d2-00aa-4c24-bcf4-c6f0dba3a85a\" xlink:show=\"new\" xlink:title=\"psysml:2d8a57d2-00aa-4c24-bcf4-c6f0dba3a85a\" xlink:type=\"simple\"><polygon fill=\"#FFFFFF\" filter=\"url(#fcvghgt7e9xoh)\" points=\"162,119,188,119,195,141.2969,260,141.2969,260,216,162,216,162,119\" style=\"stroke: #000000; stroke-width: 1.5;\"/><line style=\"stroke: #000000; stroke-width: 1.5;\" x1=\"162\" x2=\"195\" y1=\"141.2969\" y2=\"141.2969\"/><text fill=\"#000000\" font-family=\"sans-serif\" font-size=\"14\" font-weight=\"bold\" lengthAdjust=\"spacingAndGlyphs\" textLength=\"20\" x=\"166\" y=\"133.9951\">P1</text></a><!--MD5=[14e3b0961a2654348d326746436168a1]\n",
       "cluster E6--><a href=\"psysml:0a65db1a-6ec3-4140-b73e-0c5567d9dbea\" target=\"_top\" title=\"psysml:0a65db1a-6ec3-4140-b73e-0c5567d9dbea\" xlink:actuate=\"onRequest\" xlink:href=\"psysml:0a65db1a-6ec3-4140-b73e-0c5567d9dbea\" xlink:show=\"new\" xlink:title=\"psysml:0a65db1a-6ec3-4140-b73e-0c5567d9dbea\" xlink:type=\"simple\"><polygon fill=\"#FFFFFF\" filter=\"url(#fcvghgt7e9xoh)\" points=\"40,119,66,119,73,141.2969,138,141.2969,138,216,40,216,40,119\" style=\"stroke: #000000; stroke-width: 1.5;\"/><line style=\"stroke: #000000; stroke-width: 1.5;\" x1=\"40\" x2=\"73\" y1=\"141.2969\" y2=\"141.2969\"/><text fill=\"#000000\" font-family=\"sans-serif\" font-size=\"14\" font-weight=\"bold\" lengthAdjust=\"spacingAndGlyphs\" textLength=\"20\" x=\"44\" y=\"133.9951\">P3</text></a><!--MD5=[270fce915f116d4de14055a7c1d9a0f3]\n",
       "class E5--><a href=\"psysml:43785f75-2189-42e8-ba89-9f38d7235e69\" target=\"_top\" title=\"psysml:43785f75-2189-42e8-ba89-9f38d7235e69\" xlink:actuate=\"onRequest\" xlink:href=\"psysml:43785f75-2189-42e8-ba89-9f38d7235e69\" xlink:show=\"new\" xlink:title=\"psysml:43785f75-2189-42e8-ba89-9f38d7235e69\" xlink:type=\"simple\"><rect fill=\"#FEFECE\" filter=\"url(#fcvghgt7e9xoh)\" height=\"45.9375\" id=\"E5\" rx=\"10\" ry=\"10\" style=\"stroke: #A80036; stroke-width: 1.5;\" width=\"42\" x=\"190\" y=\"44.5\"/><text fill=\"#000000\" font-family=\"sans-serif\" font-size=\"12\" font-style=\"italic\" lengthAdjust=\"spacingAndGlyphs\" textLength=\"40\" x=\"191\" y=\"60.6387\">«part»</text><text fill=\"#000000\" font-family=\"sans-serif\" font-size=\"12\" lengthAdjust=\"spacingAndGlyphs\" textLength=\"22\" x=\"200\" y=\"74.6074\">x: A</text><line style=\"stroke: #A80036; stroke-width: 1.5;\" x1=\"191\" x2=\"231\" y1=\"82.4375\" y2=\"82.4375\"/></a><!--MD5=[b9389687b975829384b498ac4b7476b2]\n",
       "class E8--><a href=\"psysml:ceec508b-c3a9-4167-8e78-7da3e35ca489\" target=\"_top\" title=\"psysml:ceec508b-c3a9-4167-8e78-7da3e35ca489\" xlink:actuate=\"onRequest\" xlink:href=\"psysml:ceec508b-c3a9-4167-8e78-7da3e35ca489\" xlink:show=\"new\" xlink:title=\"psysml:ceec508b-c3a9-4167-8e78-7da3e35ca489\" xlink:type=\"simple\"><rect fill=\"#FEFECE\" filter=\"url(#fcvghgt7e9xoh)\" height=\"45.9375\" id=\"E8\" rx=\"10\" ry=\"10\" style=\"stroke: #A80036; stroke-width: 1.5;\" width=\"42\" x=\"107\" y=\"44.5\"/><text fill=\"#000000\" font-family=\"sans-serif\" font-size=\"12\" font-style=\"italic\" lengthAdjust=\"spacingAndGlyphs\" textLength=\"40\" x=\"108\" y=\"60.6387\">«part»</text><text fill=\"#000000\" font-family=\"sans-serif\" font-size=\"12\" lengthAdjust=\"spacingAndGlyphs\" textLength=\"21\" x=\"117.5\" y=\"74.6074\">z: B</text><line style=\"stroke: #A80036; stroke-width: 1.5;\" x1=\"108\" x2=\"148\" y1=\"82.4375\" y2=\"82.4375\"/></a><!--MD5=[09b614a08d8cba4a07c9adeb5e0fee81]\n",
       "class E3--><a href=\"psysml:8088eca0-f00f-4a1f-9db3-28df87f45186\" target=\"_top\" title=\"psysml:8088eca0-f00f-4a1f-9db3-28df87f45186\" xlink:actuate=\"onRequest\" xlink:href=\"psysml:8088eca0-f00f-4a1f-9db3-28df87f45186\" xlink:show=\"new\" xlink:title=\"psysml:8088eca0-f00f-4a1f-9db3-28df87f45186\" xlink:type=\"simple\"><rect fill=\"#FEFECE\" filter=\"url(#fcvghgt7e9xoh)\" height=\"45.9375\" id=\"E3\" style=\"stroke: #A80036; stroke-width: 1.5;\" width=\"66\" x=\"178\" y=\"154\"/><text fill=\"#000000\" font-family=\"sans-serif\" font-size=\"12\" font-style=\"italic\" lengthAdjust=\"spacingAndGlyphs\" textLength=\"64\" x=\"179\" y=\"170.1387\">«part def»</text><text fill=\"#000000\" font-family=\"sans-serif\" font-size=\"12\" lengthAdjust=\"spacingAndGlyphs\" textLength=\"8\" x=\"207\" y=\"184.1074\">A</text><line style=\"stroke: #A80036; stroke-width: 1.5;\" x1=\"179\" x2=\"243\" y1=\"191.9375\" y2=\"191.9375\"/></a><a href=\"psysml:f5fce4b6-35f4-4f46-9b6d-d151b55baece\" target=\"_top\" title=\"psysml:f5fce4b6-35f4-4f46-9b6d-d151b55baece\" xlink:actuate=\"onRequest\" xlink:href=\"psysml:f5fce4b6-35f4-4f46-9b6d-d151b55baece\" xlink:show=\"new\" xlink:title=\"psysml:f5fce4b6-35f4-4f46-9b6d-d151b55baece\" xlink:type=\"simple\"><polygon fill=\"#FFFFFF\" filter=\"url(#fcvghgt7e9xoh)\" points=\"32,41,58,41,65,63.2969,72,63.2969,72,93.5938,32,93.5938,32,41\" style=\"stroke: #000000; stroke-width: 1.5;\"/><line style=\"stroke: #000000; stroke-width: 1.5;\" x1=\"32\" x2=\"65\" y1=\"63.2969\" y2=\"63.2969\"/><text fill=\"#000000\" font-family=\"sans-serif\" font-size=\"14\" font-weight=\"bold\" lengthAdjust=\"spacingAndGlyphs\" textLength=\"20\" x=\"36\" y=\"55.9951\">P2</text></a><!--MD5=[2156ba9850f5573cc1fc38a6a4b2f02b]\n",
       "class E7--><a href=\"psysml:a9488239-9884-4bc6-98b3-04bdbcc46eca\" target=\"_top\" title=\"psysml:a9488239-9884-4bc6-98b3-04bdbcc46eca\" xlink:actuate=\"onRequest\" xlink:href=\"psysml:a9488239-9884-4bc6-98b3-04bdbcc46eca\" xlink:show=\"new\" xlink:title=\"psysml:a9488239-9884-4bc6-98b3-04bdbcc46eca\" xlink:type=\"simple\"><rect fill=\"#FEFECE\" filter=\"url(#fcvghgt7e9xoh)\" height=\"45.9375\" id=\"E7\" style=\"stroke: #A80036; stroke-width: 1.5;\" width=\"66\" x=\"56\" y=\"154\"/><text fill=\"#000000\" font-family=\"sans-serif\" font-size=\"12\" font-style=\"italic\" lengthAdjust=\"spacingAndGlyphs\" textLength=\"64\" x=\"57\" y=\"170.1387\">«part def»</text><text fill=\"#000000\" font-family=\"sans-serif\" font-size=\"12\" lengthAdjust=\"spacingAndGlyphs\" textLength=\"8\" x=\"85\" y=\"184.1074\">B</text><line style=\"stroke: #A80036; stroke-width: 1.5;\" x1=\"57\" x2=\"121\" y1=\"191.9375\" y2=\"191.9375\"/></a><!--MD5=[e9be52314489bd878ff4c7144b63c9e1]\n",
       "link E5 to E3--><a href=\"psysml:25d642ee-de35-43b5-ac2f-29504efb7d68\" target=\"_top\" title=\"psysml:25d642ee-de35-43b5-ac2f-29504efb7d68\" xlink:actuate=\"onRequest\" xlink:href=\"psysml:25d642ee-de35-43b5-ac2f-29504efb7d68\" xlink:show=\"new\" xlink:title=\"psysml:25d642ee-de35-43b5-ac2f-29504efb7d68\" xlink:type=\"simple\"><path d=\"M211,90.51 C211,102.89 211,118.78 211,133.48 \" fill=\"none\" id=\"E5-&gt;E3\" style=\"stroke: #A80036; stroke-width: 1.0;\"/><polygon fill=\"#FFFFFF\" points=\"211,153.65,204,134.65,218,134.65,211,153.65\" style=\"stroke: #A80036; stroke-width: 1.0;\"/><ellipse cx=\"206\" cy=\"128.95\" fill=\"#A80036\" rx=\"2\" ry=\"2\" style=\"stroke: #A80036; stroke-width: 1.0;\"/><ellipse cx=\"216\" cy=\"128.95\" fill=\"#A80036\" rx=\"2\" ry=\"2\" style=\"stroke: #A80036; stroke-width: 1.0;\"/></a><!--MD5=[bfa3c8b0d15052fdf50ae9310b491027]\n",
       "link E8 to E7--><a href=\"psysml:d89216b2-7e18-408a-b614-d8caef1c47ec\" target=\"_top\" title=\"psysml:d89216b2-7e18-408a-b614-d8caef1c47ec\" xlink:actuate=\"onRequest\" xlink:href=\"psysml:d89216b2-7e18-408a-b614-d8caef1c47ec\" xlink:show=\"new\" xlink:title=\"psysml:d89216b2-7e18-408a-b614-d8caef1c47ec\" xlink:type=\"simple\"><path d=\"M120.01,90.51 C115.39,103.25 109.42,119.7 103.96,134.76 \" fill=\"none\" id=\"E8-&gt;E7\" style=\"stroke: #A80036; stroke-width: 1.0;\"/><polygon fill=\"#FFFFFF\" points=\"97.11,153.65,97.0036,133.4018,110.1656,138.1726,97.11,153.65\" style=\"stroke: #A80036; stroke-width: 1.0;\"/><ellipse cx=\"100.8262\" cy=\"128.7245\" fill=\"#A80036\" rx=\"2\" ry=\"2\" style=\"stroke: #A80036; stroke-width: 1.0;\"/><ellipse cx=\"110.2277\" cy=\"132.1322\" fill=\"#A80036\" rx=\"2\" ry=\"2\" style=\"stroke: #A80036; stroke-width: 1.0;\"/></a><!--MD5=[9b808e70823da2b802765d219c1ec2f7]\n",
       "@startuml\r\n",
       "skinparam wrapWidth 300\r\n",
       "hide circle\r\n",
       "\r\n",
       "package \"PrivateImportTest\" as E1  [[psysml:04be3c0a-f069-4f88-9dd0-1488cf078b60 ]]  {\r\n",
       "package \"P1\" as E2  [[psysml:2d8a57d2-00aa-4c24-bcf4-c6f0dba3a85a ]]  {\r\n",
       "comp def \"A\" as E3  <<(T,blue)part def>> [[psysml:8088eca0-f00f-4a1f-9db3-28df87f45186 ]] {\r\n",
       "}\r\n",
       "}\r\n",
       "package \"P2\" as E4  [[psysml:f5fce4b6-35f4-4f46-9b6d-d151b55baece ]]  {\r\n",
       "}\r\n",
       "comp usage \"x: A\" as E5  <<(T,blue)part>> [[psysml:43785f75-2189-42e8-ba89-9f38d7235e69 ]] {\r\n",
       "}\r\n",
       "package \"P3\" as E6  [[psysml:0a65db1a-6ec3-4140-b73e-0c5567d9dbea ]]  {\r\n",
       "comp def \"B\" as E7  <<(T,blue)part def>> [[psysml:a9488239-9884-4bc6-98b3-04bdbcc46eca ]] {\r\n",
       "}\r\n",
       "E5 - -:|> E3 [[psysml:25d642ee-de35-43b5-ac2f-29504efb7d68 ]] \r\n",
       "}\r\n",
       "comp usage \"z: B\" as E8  <<(T,blue)part>> [[psysml:ceec508b-c3a9-4167-8e78-7da3e35ca489 ]] {\r\n",
       "}\r\n",
       "E8 - -:|> E7 [[psysml:d89216b2-7e18-408a-b614-d8caef1c47ec ]] \r\n",
       "}\r\n",
       "@enduml\r\n",
       "\n",
       "PlantUML version 1.2020.13(Sat Jun 13 12:26:38 UTC 2020)\n",
       "(EPL source distribution)\n",
       "Java Runtime: OpenJDK Runtime Environment\n",
       "JVM: OpenJDK 64-Bit Server VM\n",
       "Default Encoding: UTF-8\n",
       "Language: en\n",
       "Country: null\n",
       "--></g></svg>"
      ]
     },
     "execution_count": 24,
     "metadata": {},
     "output_type": "execute_result"
    }
   ],
   "source": [
    "%viz --style=\"STDCOLOR\" --view=\"Tree\" \"PrivateImportTest\""
   ]
  },
  {
   "cell_type": "code",
   "execution_count": 25,
   "id": "corporate-iceland",
   "metadata": {
    "execution": {
     "iopub.execute_input": "2021-03-25T14:10:39.324067Z",
     "iopub.status.busy": "2021-03-25T14:10:39.323368Z",
     "iopub.status.idle": "2021-03-25T14:10:39.330043Z",
     "shell.execute_reply": "2021-03-25T14:10:39.329694Z"
    }
   },
   "outputs": [
    {
     "data": {
      "image/svg+xml": [
       "<?xml version=\"1.0\" encoding=\"UTF-8\" standalone=\"no\"?><svg xmlns=\"http://www.w3.org/2000/svg\" xmlns:xlink=\"http://www.w3.org/1999/xlink\" contentScriptType=\"application/ecmascript\" contentStyleType=\"text/css\" height=\"12px\" preserveAspectRatio=\"none\" style=\"width:12px;height:12px;\" version=\"1.1\" viewBox=\"0 0 12 12\" width=\"12px\" zoomAndPan=\"magnify\"><defs/><g><!--MD5=[aeeef50f102b80d730deb6443d14f702]\n",
       "@startuml\r\n",
       "skinparam wrapWidth 300\r\n",
       "hide circle\r\n",
       "\r\n",
       "@enduml\r\n",
       "\n",
       "PlantUML version 1.2020.13(Sat Jun 13 12:26:38 UTC 2020)\n",
       "(EPL source distribution)\n",
       "Java Runtime: OpenJDK Runtime Environment\n",
       "JVM: OpenJDK 64-Bit Server VM\n",
       "Default Encoding: UTF-8\n",
       "Language: en\n",
       "Country: null\n",
       "--></g></svg>"
      ]
     },
     "execution_count": 25,
     "metadata": {},
     "output_type": "execute_result"
    }
   ],
   "source": [
    "%viz --style=\"STDCOLOR\" --view=\"State\" \"PrivateImportTest\""
   ]
  },
  {
   "cell_type": "code",
   "execution_count": 26,
   "id": "capable-marine",
   "metadata": {
    "execution": {
     "iopub.execute_input": "2021-03-25T14:10:39.381788Z",
     "iopub.status.busy": "2021-03-25T14:10:39.381119Z",
     "iopub.status.idle": "2021-03-25T14:10:39.443676Z",
     "shell.execute_reply": "2021-03-25T14:10:39.442180Z"
    }
   },
   "outputs": [
    {
     "data": {
      "image/svg+xml": [
       "<?xml version=\"1.0\" encoding=\"UTF-8\" standalone=\"no\"?><svg xmlns=\"http://www.w3.org/2000/svg\" xmlns:xlink=\"http://www.w3.org/1999/xlink\" contentScriptType=\"application/ecmascript\" contentStyleType=\"text/css\" height=\"179px\" preserveAspectRatio=\"none\" style=\"width:539px;height:179px;\" version=\"1.1\" viewBox=\"0 0 539 179\" width=\"539px\" zoomAndPan=\"magnify\"><defs><filter height=\"300%\" id=\"f7vfywrczhtwe\" width=\"300%\" x=\"-1\" y=\"-1\"><feGaussianBlur result=\"blurOut\" stdDeviation=\"2.0\"/><feColorMatrix in=\"blurOut\" result=\"blurOut2\" type=\"matrix\" values=\"0 0 0 0 0 0 0 0 0 0 0 0 0 0 0 0 0 0 .4 0\"/><feOffset dx=\"4.0\" dy=\"4.0\" in=\"blurOut2\" result=\"blurOut3\"/><feBlend in=\"SourceGraphic\" in2=\"blurOut3\" mode=\"normal\"/></filter></defs><g><!--MD5=[fbc87193dbaf4d95561dea2c320d4a47]\n",
       "cluster E1--><a href=\"psysml:04be3c0a-f069-4f88-9dd0-1488cf078b60\" target=\"_top\" title=\"psysml:04be3c0a-f069-4f88-9dd0-1488cf078b60\" xlink:actuate=\"onRequest\" xlink:href=\"psysml:04be3c0a-f069-4f88-9dd0-1488cf078b60\" xlink:show=\"new\" xlink:title=\"psysml:04be3c0a-f069-4f88-9dd0-1488cf078b60\" xlink:type=\"simple\"><polygon fill=\"#FFFFFF\" filter=\"url(#f7vfywrczhtwe)\" points=\"16,6,163,6,170,28.2969,517,28.2969,517,167,16,167,16,6\" style=\"stroke: #000000; stroke-width: 1.5;\"/><line style=\"stroke: #000000; stroke-width: 1.5;\" x1=\"16\" x2=\"170\" y1=\"28.2969\" y2=\"28.2969\"/><text fill=\"#000000\" font-family=\"sans-serif\" font-size=\"14\" font-weight=\"bold\" lengthAdjust=\"spacingAndGlyphs\" textLength=\"141\" x=\"20\" y=\"20.9951\">PrivateImportTest</text></a><!--MD5=[e4f7fae6ed58524ba242bb0b0d3be6b7]\n",
       "cluster E2--><a href=\"psysml:2d8a57d2-00aa-4c24-bcf4-c6f0dba3a85a\" target=\"_top\" title=\"psysml:2d8a57d2-00aa-4c24-bcf4-c6f0dba3a85a\" xlink:actuate=\"onRequest\" xlink:href=\"psysml:2d8a57d2-00aa-4c24-bcf4-c6f0dba3a85a\" xlink:show=\"new\" xlink:title=\"psysml:2d8a57d2-00aa-4c24-bcf4-c6f0dba3a85a\" xlink:type=\"simple\"><polygon fill=\"#FFFFFF\" filter=\"url(#f7vfywrczhtwe)\" points=\"389,49,415,49,422,71.2969,493,71.2969,493,143,389,143,389,49\" style=\"stroke: #000000; stroke-width: 1.5;\"/><line style=\"stroke: #000000; stroke-width: 1.5;\" x1=\"389\" x2=\"422\" y1=\"71.2969\" y2=\"71.2969\"/><text fill=\"#000000\" font-family=\"sans-serif\" font-size=\"14\" font-weight=\"bold\" lengthAdjust=\"spacingAndGlyphs\" textLength=\"20\" x=\"393\" y=\"63.9951\">P1</text></a><!--MD5=[14e3b0961a2654348d326746436168a1]\n",
       "cluster E6--><a href=\"psysml:0a65db1a-6ec3-4140-b73e-0c5567d9dbea\" target=\"_top\" title=\"psysml:0a65db1a-6ec3-4140-b73e-0c5567d9dbea\" xlink:actuate=\"onRequest\" xlink:href=\"psysml:0a65db1a-6ec3-4140-b73e-0c5567d9dbea\" xlink:show=\"new\" xlink:title=\"psysml:0a65db1a-6ec3-4140-b73e-0c5567d9dbea\" xlink:type=\"simple\"><polygon fill=\"#FFFFFF\" filter=\"url(#f7vfywrczhtwe)\" points=\"261,49,287,49,294,71.2969,365,71.2969,365,143,261,143,261,49\" style=\"stroke: #000000; stroke-width: 1.5;\"/><line style=\"stroke: #000000; stroke-width: 1.5;\" x1=\"261\" x2=\"294\" y1=\"71.2969\" y2=\"71.2969\"/><text fill=\"#000000\" font-family=\"sans-serif\" font-size=\"14\" font-weight=\"bold\" lengthAdjust=\"spacingAndGlyphs\" textLength=\"20\" x=\"265\" y=\"63.9951\">P3</text></a><g id=\"E1.E2.E3\"><a href=\"psysml:8088eca0-f00f-4a1f-9db3-28df87f45186\" target=\"_top\" title=\"psysml:8088eca0-f00f-4a1f-9db3-28df87f45186\" xlink:actuate=\"onRequest\" xlink:href=\"psysml:8088eca0-f00f-4a1f-9db3-28df87f45186\" xlink:show=\"new\" xlink:title=\"psysml:8088eca0-f00f-4a1f-9db3-28df87f45186\" xlink:type=\"simple\"><rect fill=\"#FEFECE\" filter=\"url(#f7vfywrczhtwe)\" height=\"42.9375\" id=\"E3\" style=\"stroke: #A80036; stroke-width: 1.5;\" width=\"71\" x=\"405.5\" y=\"84\"/><text fill=\"#000000\" font-family=\"sans-serif\" font-size=\"12\" font-style=\"italic\" lengthAdjust=\"spacingAndGlyphs\" textLength=\"64\" x=\"409\" y=\"100.1387\">«part def»</text><text fill=\"#000000\" font-family=\"sans-serif\" font-size=\"12\" lengthAdjust=\"spacingAndGlyphs\" textLength=\"8\" x=\"437\" y=\"114.1074\">A</text></a></g><a href=\"psysml:f5fce4b6-35f4-4f46-9b6d-d151b55baece\" target=\"_top\" title=\"psysml:f5fce4b6-35f4-4f46-9b6d-d151b55baece\" xlink:actuate=\"onRequest\" xlink:href=\"psysml:f5fce4b6-35f4-4f46-9b6d-d151b55baece\" xlink:show=\"new\" xlink:title=\"psysml:f5fce4b6-35f4-4f46-9b6d-d151b55baece\" xlink:type=\"simple\"><polygon fill=\"#FFFFFF\" filter=\"url(#f7vfywrczhtwe)\" points=\"202,79,228,79,235,101.2969,242,101.2969,242,131.5938,202,131.5938,202,79\" style=\"stroke: #000000; stroke-width: 1.5;\"/><line style=\"stroke: #000000; stroke-width: 1.5;\" x1=\"202\" x2=\"235\" y1=\"101.2969\" y2=\"101.2969\"/><text fill=\"#000000\" font-family=\"sans-serif\" font-size=\"14\" font-weight=\"bold\" lengthAdjust=\"spacingAndGlyphs\" textLength=\"20\" x=\"206\" y=\"93.9951\">P2</text></a><g id=\"E1.E5\"><a href=\"psysml:43785f75-2189-42e8-ba89-9f38d7235e69\" target=\"_top\" title=\"psysml:43785f75-2189-42e8-ba89-9f38d7235e69\" xlink:actuate=\"onRequest\" xlink:href=\"psysml:43785f75-2189-42e8-ba89-9f38d7235e69\" xlink:show=\"new\" xlink:title=\"psysml:43785f75-2189-42e8-ba89-9f38d7235e69\" xlink:type=\"simple\"><rect fill=\"#FEFECE\" filter=\"url(#f7vfywrczhtwe)\" height=\"40\" id=\"E5\" rx=\"10\" ry=\"10\" style=\"stroke: #A80036; stroke-width: 1.5;\" width=\"50\" x=\"117\" y=\"85.5\"/><text fill=\"#000000\" font-family=\"sans-serif\" font-size=\"12\" lengthAdjust=\"spacingAndGlyphs\" textLength=\"22\" x=\"131\" y=\"101.6387\">x: A</text></a></g><g id=\"E1.E6.E7\"><a href=\"psysml:a9488239-9884-4bc6-98b3-04bdbcc46eca\" target=\"_top\" title=\"psysml:a9488239-9884-4bc6-98b3-04bdbcc46eca\" xlink:actuate=\"onRequest\" xlink:href=\"psysml:a9488239-9884-4bc6-98b3-04bdbcc46eca\" xlink:show=\"new\" xlink:title=\"psysml:a9488239-9884-4bc6-98b3-04bdbcc46eca\" xlink:type=\"simple\"><rect fill=\"#FEFECE\" filter=\"url(#f7vfywrczhtwe)\" height=\"42.9375\" id=\"E7\" style=\"stroke: #A80036; stroke-width: 1.5;\" width=\"71\" x=\"277.5\" y=\"84\"/><text fill=\"#000000\" font-family=\"sans-serif\" font-size=\"12\" font-style=\"italic\" lengthAdjust=\"spacingAndGlyphs\" textLength=\"64\" x=\"281\" y=\"100.1387\">«part def»</text><text fill=\"#000000\" font-family=\"sans-serif\" font-size=\"12\" lengthAdjust=\"spacingAndGlyphs\" textLength=\"8\" x=\"309\" y=\"114.1074\">B</text></a></g><g id=\"E1.E8\"><a href=\"psysml:ceec508b-c3a9-4167-8e78-7da3e35ca489\" target=\"_top\" title=\"psysml:ceec508b-c3a9-4167-8e78-7da3e35ca489\" xlink:actuate=\"onRequest\" xlink:href=\"psysml:ceec508b-c3a9-4167-8e78-7da3e35ca489\" xlink:show=\"new\" xlink:title=\"psysml:ceec508b-c3a9-4167-8e78-7da3e35ca489\" xlink:type=\"simple\"><rect fill=\"#FEFECE\" filter=\"url(#f7vfywrczhtwe)\" height=\"40\" id=\"E8\" rx=\"10\" ry=\"10\" style=\"stroke: #A80036; stroke-width: 1.5;\" width=\"50\" x=\"32\" y=\"85.5\"/><text fill=\"#000000\" font-family=\"sans-serif\" font-size=\"12\" lengthAdjust=\"spacingAndGlyphs\" textLength=\"21\" x=\"46.5\" y=\"101.6387\">z: B</text></a></g><!--MD5=[a70db5692d027a9c27619e06b527dd3c]\n",
       "@startuml\r\n",
       "skinparam ranksep 10\r\n",
       "skinparam rectangle {\r\n",
       " backgroundColor<<block>> LightGreen\r\n",
       "}\r\n",
       "skinparam wrapWidth 300\r\n",
       "hide circle\r\n",
       "\r\n",
       "package \"PrivateImportTest\" as E1  [[psysml:04be3c0a-f069-4f88-9dd0-1488cf078b60 ]]  {\r\n",
       "package \"P1\" as E2  [[psysml:2d8a57d2-00aa-4c24-bcf4-c6f0dba3a85a ]]  {\r\n",
       "rec def \"A\" as E3  <<(T,blue)part def>> [[psysml:8088eca0-f00f-4a1f-9db3-28df87f45186 ]] {\r\n",
       "}\r\n",
       "}\r\n",
       "package \"P2\" as E4  [[psysml:f5fce4b6-35f4-4f46-9b6d-d151b55baece ]]  {\r\n",
       "}\r\n",
       "rec usage \"x: A\" as E5  [[psysml:43785f75-2189-42e8-ba89-9f38d7235e69 ]] {\r\n",
       "}\r\n",
       "package \"P3\" as E6  [[psysml:0a65db1a-6ec3-4140-b73e-0c5567d9dbea ]]  {\r\n",
       "rec def \"B\" as E7  <<(T,blue)part def>> [[psysml:a9488239-9884-4bc6-98b3-04bdbcc46eca ]] {\r\n",
       "}\r\n",
       "}\r\n",
       "rec usage \"z: B\" as E8  [[psysml:ceec508b-c3a9-4167-8e78-7da3e35ca489 ]] {\r\n",
       "}\r\n",
       "}\r\n",
       "@enduml\r\n",
       "\n",
       "PlantUML version 1.2020.13(Sat Jun 13 12:26:38 UTC 2020)\n",
       "(EPL source distribution)\n",
       "Java Runtime: OpenJDK Runtime Environment\n",
       "JVM: OpenJDK 64-Bit Server VM\n",
       "Default Encoding: UTF-8\n",
       "Language: en\n",
       "Country: null\n",
       "--></g></svg>"
      ]
     },
     "execution_count": 26,
     "metadata": {},
     "output_type": "execute_result"
    }
   ],
   "source": [
    "%viz --style=\"STDCOLOR\" --view=\"Interconnection\" \"PrivateImportTest\""
   ]
  },
  {
   "cell_type": "code",
   "execution_count": 27,
   "id": "federal-photograph",
   "metadata": {
    "execution": {
     "iopub.execute_input": "2021-03-25T14:10:39.494162Z",
     "iopub.status.busy": "2021-03-25T14:10:39.493723Z",
     "iopub.status.idle": "2021-03-25T14:10:39.499511Z",
     "shell.execute_reply": "2021-03-25T14:10:39.499153Z"
    }
   },
   "outputs": [
    {
     "data": {
      "image/svg+xml": [
       "<?xml version=\"1.0\" encoding=\"UTF-8\" standalone=\"no\"?><svg xmlns=\"http://www.w3.org/2000/svg\" xmlns:xlink=\"http://www.w3.org/1999/xlink\" contentScriptType=\"application/ecmascript\" contentStyleType=\"text/css\" height=\"12px\" preserveAspectRatio=\"none\" style=\"width:12px;height:12px;\" version=\"1.1\" viewBox=\"0 0 12 12\" width=\"12px\" zoomAndPan=\"magnify\"><defs/><g><!--MD5=[9863325348a96a77dacc89509d8ee65e]\n",
       "@startuml\r\n",
       "skinparam ranksep 8\r\n",
       "skinparam wrapWidth 300\r\n",
       "hide circle\r\n",
       "\r\n",
       "@enduml\r\n",
       "\n",
       "PlantUML version 1.2020.13(Sat Jun 13 12:26:38 UTC 2020)\n",
       "(EPL source distribution)\n",
       "Java Runtime: OpenJDK Runtime Environment\n",
       "JVM: OpenJDK 64-Bit Server VM\n",
       "Default Encoding: UTF-8\n",
       "Language: en\n",
       "Country: null\n",
       "--></g></svg>"
      ]
     },
     "execution_count": 27,
     "metadata": {},
     "output_type": "execute_result"
    }
   ],
   "source": [
    "%viz --style=\"STDCOLOR\" --view=\"Action\" \"PrivateImportTest\""
   ]
  },
  {
   "cell_type": "code",
   "execution_count": 28,
   "id": "consolidated-halifax",
   "metadata": {
    "execution": {
     "iopub.execute_input": "2021-03-25T14:10:39.551420Z",
     "iopub.status.busy": "2021-03-25T14:10:39.550639Z",
     "iopub.status.idle": "2021-03-25T14:10:39.618795Z",
     "shell.execute_reply": "2021-03-25T14:10:39.618352Z"
    }
   },
   "outputs": [
    {
     "data": {
      "image/svg+xml": [
       "<?xml version=\"1.0\" encoding=\"UTF-8\" standalone=\"no\"?><svg xmlns=\"http://www.w3.org/2000/svg\" xmlns:xlink=\"http://www.w3.org/1999/xlink\" contentScriptType=\"application/ecmascript\" contentStyleType=\"text/css\" height=\"252px\" preserveAspectRatio=\"none\" style=\"width:306px;height:252px;\" version=\"1.1\" viewBox=\"0 0 306 252\" width=\"306px\" zoomAndPan=\"magnify\"><defs><filter height=\"300%\" id=\"fcvghgt7e9xoh\" width=\"300%\" x=\"-1\" y=\"-1\"><feGaussianBlur result=\"blurOut\" stdDeviation=\"2.0\"/><feColorMatrix in=\"blurOut\" result=\"blurOut2\" type=\"matrix\" values=\"0 0 0 0 0 0 0 0 0 0 0 0 0 0 0 0 0 0 .4 0\"/><feOffset dx=\"4.0\" dy=\"4.0\" in=\"blurOut2\" result=\"blurOut3\"/><feBlend in=\"SourceGraphic\" in2=\"blurOut3\" mode=\"normal\"/></filter></defs><g><!--MD5=[fbc87193dbaf4d95561dea2c320d4a47]\n",
       "cluster E1--><a href=\"psysml:04be3c0a-f069-4f88-9dd0-1488cf078b60\" target=\"_top\" title=\"psysml:04be3c0a-f069-4f88-9dd0-1488cf078b60\" xlink:actuate=\"onRequest\" xlink:href=\"psysml:04be3c0a-f069-4f88-9dd0-1488cf078b60\" xlink:show=\"new\" xlink:title=\"psysml:04be3c0a-f069-4f88-9dd0-1488cf078b60\" xlink:type=\"simple\"><polygon fill=\"#FFFFFF\" filter=\"url(#fcvghgt7e9xoh)\" points=\"16,6,163,6,170,28.2969,284,28.2969,284,240,16,240,16,6\" style=\"stroke: #000000; stroke-width: 1.5;\"/><line style=\"stroke: #000000; stroke-width: 1.5;\" x1=\"16\" x2=\"170\" y1=\"28.2969\" y2=\"28.2969\"/><text fill=\"#000000\" font-family=\"sans-serif\" font-size=\"14\" font-weight=\"bold\" lengthAdjust=\"spacingAndGlyphs\" textLength=\"141\" x=\"20\" y=\"20.9951\">PrivateImportTest</text></a><!--MD5=[e4f7fae6ed58524ba242bb0b0d3be6b7]\n",
       "cluster E2--><a href=\"psysml:2d8a57d2-00aa-4c24-bcf4-c6f0dba3a85a\" target=\"_top\" title=\"psysml:2d8a57d2-00aa-4c24-bcf4-c6f0dba3a85a\" xlink:actuate=\"onRequest\" xlink:href=\"psysml:2d8a57d2-00aa-4c24-bcf4-c6f0dba3a85a\" xlink:show=\"new\" xlink:title=\"psysml:2d8a57d2-00aa-4c24-bcf4-c6f0dba3a85a\" xlink:type=\"simple\"><polygon fill=\"#FFFFFF\" filter=\"url(#fcvghgt7e9xoh)\" points=\"162,119,188,119,195,141.2969,260,141.2969,260,216,162,216,162,119\" style=\"stroke: #000000; stroke-width: 1.5;\"/><line style=\"stroke: #000000; stroke-width: 1.5;\" x1=\"162\" x2=\"195\" y1=\"141.2969\" y2=\"141.2969\"/><text fill=\"#000000\" font-family=\"sans-serif\" font-size=\"14\" font-weight=\"bold\" lengthAdjust=\"spacingAndGlyphs\" textLength=\"20\" x=\"166\" y=\"133.9951\">P1</text></a><!--MD5=[14e3b0961a2654348d326746436168a1]\n",
       "cluster E6--><a href=\"psysml:0a65db1a-6ec3-4140-b73e-0c5567d9dbea\" target=\"_top\" title=\"psysml:0a65db1a-6ec3-4140-b73e-0c5567d9dbea\" xlink:actuate=\"onRequest\" xlink:href=\"psysml:0a65db1a-6ec3-4140-b73e-0c5567d9dbea\" xlink:show=\"new\" xlink:title=\"psysml:0a65db1a-6ec3-4140-b73e-0c5567d9dbea\" xlink:type=\"simple\"><polygon fill=\"#FFFFFF\" filter=\"url(#fcvghgt7e9xoh)\" points=\"40,119,66,119,73,141.2969,138,141.2969,138,216,40,216,40,119\" style=\"stroke: #000000; stroke-width: 1.5;\"/><line style=\"stroke: #000000; stroke-width: 1.5;\" x1=\"40\" x2=\"73\" y1=\"141.2969\" y2=\"141.2969\"/><text fill=\"#000000\" font-family=\"sans-serif\" font-size=\"14\" font-weight=\"bold\" lengthAdjust=\"spacingAndGlyphs\" textLength=\"20\" x=\"44\" y=\"133.9951\">P3</text></a><!--MD5=[270fce915f116d4de14055a7c1d9a0f3]\n",
       "class E5--><a href=\"psysml:43785f75-2189-42e8-ba89-9f38d7235e69\" target=\"_top\" title=\"psysml:43785f75-2189-42e8-ba89-9f38d7235e69\" xlink:actuate=\"onRequest\" xlink:href=\"psysml:43785f75-2189-42e8-ba89-9f38d7235e69\" xlink:show=\"new\" xlink:title=\"psysml:43785f75-2189-42e8-ba89-9f38d7235e69\" xlink:type=\"simple\"><rect fill=\"#FEFECE\" filter=\"url(#fcvghgt7e9xoh)\" height=\"45.9375\" id=\"E5\" rx=\"10\" ry=\"10\" style=\"stroke: #A80036; stroke-width: 1.5;\" width=\"42\" x=\"190\" y=\"44.5\"/><text fill=\"#000000\" font-family=\"sans-serif\" font-size=\"12\" font-style=\"italic\" lengthAdjust=\"spacingAndGlyphs\" textLength=\"40\" x=\"191\" y=\"60.6387\">«part»</text><text fill=\"#000000\" font-family=\"sans-serif\" font-size=\"12\" lengthAdjust=\"spacingAndGlyphs\" textLength=\"22\" x=\"200\" y=\"74.6074\">x: A</text><line style=\"stroke: #A80036; stroke-width: 1.5;\" x1=\"191\" x2=\"231\" y1=\"82.4375\" y2=\"82.4375\"/></a><!--MD5=[b9389687b975829384b498ac4b7476b2]\n",
       "class E8--><a href=\"psysml:ceec508b-c3a9-4167-8e78-7da3e35ca489\" target=\"_top\" title=\"psysml:ceec508b-c3a9-4167-8e78-7da3e35ca489\" xlink:actuate=\"onRequest\" xlink:href=\"psysml:ceec508b-c3a9-4167-8e78-7da3e35ca489\" xlink:show=\"new\" xlink:title=\"psysml:ceec508b-c3a9-4167-8e78-7da3e35ca489\" xlink:type=\"simple\"><rect fill=\"#FEFECE\" filter=\"url(#fcvghgt7e9xoh)\" height=\"45.9375\" id=\"E8\" rx=\"10\" ry=\"10\" style=\"stroke: #A80036; stroke-width: 1.5;\" width=\"42\" x=\"107\" y=\"44.5\"/><text fill=\"#000000\" font-family=\"sans-serif\" font-size=\"12\" font-style=\"italic\" lengthAdjust=\"spacingAndGlyphs\" textLength=\"40\" x=\"108\" y=\"60.6387\">«part»</text><text fill=\"#000000\" font-family=\"sans-serif\" font-size=\"12\" lengthAdjust=\"spacingAndGlyphs\" textLength=\"21\" x=\"117.5\" y=\"74.6074\">z: B</text><line style=\"stroke: #A80036; stroke-width: 1.5;\" x1=\"108\" x2=\"148\" y1=\"82.4375\" y2=\"82.4375\"/></a><!--MD5=[09b614a08d8cba4a07c9adeb5e0fee81]\n",
       "class E3--><a href=\"psysml:8088eca0-f00f-4a1f-9db3-28df87f45186\" target=\"_top\" title=\"psysml:8088eca0-f00f-4a1f-9db3-28df87f45186\" xlink:actuate=\"onRequest\" xlink:href=\"psysml:8088eca0-f00f-4a1f-9db3-28df87f45186\" xlink:show=\"new\" xlink:title=\"psysml:8088eca0-f00f-4a1f-9db3-28df87f45186\" xlink:type=\"simple\"><rect fill=\"#FEFECE\" filter=\"url(#fcvghgt7e9xoh)\" height=\"45.9375\" id=\"E3\" style=\"stroke: #A80036; stroke-width: 1.5;\" width=\"66\" x=\"178\" y=\"154\"/><text fill=\"#000000\" font-family=\"sans-serif\" font-size=\"12\" font-style=\"italic\" lengthAdjust=\"spacingAndGlyphs\" textLength=\"64\" x=\"179\" y=\"170.1387\">«part def»</text><text fill=\"#000000\" font-family=\"sans-serif\" font-size=\"12\" lengthAdjust=\"spacingAndGlyphs\" textLength=\"8\" x=\"207\" y=\"184.1074\">A</text><line style=\"stroke: #A80036; stroke-width: 1.5;\" x1=\"179\" x2=\"243\" y1=\"191.9375\" y2=\"191.9375\"/></a><a href=\"psysml:f5fce4b6-35f4-4f46-9b6d-d151b55baece\" target=\"_top\" title=\"psysml:f5fce4b6-35f4-4f46-9b6d-d151b55baece\" xlink:actuate=\"onRequest\" xlink:href=\"psysml:f5fce4b6-35f4-4f46-9b6d-d151b55baece\" xlink:show=\"new\" xlink:title=\"psysml:f5fce4b6-35f4-4f46-9b6d-d151b55baece\" xlink:type=\"simple\"><polygon fill=\"#FFFFFF\" filter=\"url(#fcvghgt7e9xoh)\" points=\"32,41,58,41,65,63.2969,72,63.2969,72,93.5938,32,93.5938,32,41\" style=\"stroke: #000000; stroke-width: 1.5;\"/><line style=\"stroke: #000000; stroke-width: 1.5;\" x1=\"32\" x2=\"65\" y1=\"63.2969\" y2=\"63.2969\"/><text fill=\"#000000\" font-family=\"sans-serif\" font-size=\"14\" font-weight=\"bold\" lengthAdjust=\"spacingAndGlyphs\" textLength=\"20\" x=\"36\" y=\"55.9951\">P2</text></a><!--MD5=[2156ba9850f5573cc1fc38a6a4b2f02b]\n",
       "class E7--><a href=\"psysml:a9488239-9884-4bc6-98b3-04bdbcc46eca\" target=\"_top\" title=\"psysml:a9488239-9884-4bc6-98b3-04bdbcc46eca\" xlink:actuate=\"onRequest\" xlink:href=\"psysml:a9488239-9884-4bc6-98b3-04bdbcc46eca\" xlink:show=\"new\" xlink:title=\"psysml:a9488239-9884-4bc6-98b3-04bdbcc46eca\" xlink:type=\"simple\"><rect fill=\"#FEFECE\" filter=\"url(#fcvghgt7e9xoh)\" height=\"45.9375\" id=\"E7\" style=\"stroke: #A80036; stroke-width: 1.5;\" width=\"66\" x=\"56\" y=\"154\"/><text fill=\"#000000\" font-family=\"sans-serif\" font-size=\"12\" font-style=\"italic\" lengthAdjust=\"spacingAndGlyphs\" textLength=\"64\" x=\"57\" y=\"170.1387\">«part def»</text><text fill=\"#000000\" font-family=\"sans-serif\" font-size=\"12\" lengthAdjust=\"spacingAndGlyphs\" textLength=\"8\" x=\"85\" y=\"184.1074\">B</text><line style=\"stroke: #A80036; stroke-width: 1.5;\" x1=\"57\" x2=\"121\" y1=\"191.9375\" y2=\"191.9375\"/></a><!--MD5=[e9be52314489bd878ff4c7144b63c9e1]\n",
       "link E5 to E3--><a href=\"psysml:25d642ee-de35-43b5-ac2f-29504efb7d68\" target=\"_top\" title=\"psysml:25d642ee-de35-43b5-ac2f-29504efb7d68\" xlink:actuate=\"onRequest\" xlink:href=\"psysml:25d642ee-de35-43b5-ac2f-29504efb7d68\" xlink:show=\"new\" xlink:title=\"psysml:25d642ee-de35-43b5-ac2f-29504efb7d68\" xlink:type=\"simple\"><path d=\"M211,90.51 C211,102.89 211,118.78 211,133.48 \" fill=\"none\" id=\"E5-&gt;E3\" style=\"stroke: #A80036; stroke-width: 1.0;\"/><polygon fill=\"#FFFFFF\" points=\"211,153.65,204,134.65,218,134.65,211,153.65\" style=\"stroke: #A80036; stroke-width: 1.0;\"/><ellipse cx=\"206\" cy=\"128.95\" fill=\"#A80036\" rx=\"2\" ry=\"2\" style=\"stroke: #A80036; stroke-width: 1.0;\"/><ellipse cx=\"216\" cy=\"128.95\" fill=\"#A80036\" rx=\"2\" ry=\"2\" style=\"stroke: #A80036; stroke-width: 1.0;\"/></a><!--MD5=[bfa3c8b0d15052fdf50ae9310b491027]\n",
       "link E8 to E7--><a href=\"psysml:d89216b2-7e18-408a-b614-d8caef1c47ec\" target=\"_top\" title=\"psysml:d89216b2-7e18-408a-b614-d8caef1c47ec\" xlink:actuate=\"onRequest\" xlink:href=\"psysml:d89216b2-7e18-408a-b614-d8caef1c47ec\" xlink:show=\"new\" xlink:title=\"psysml:d89216b2-7e18-408a-b614-d8caef1c47ec\" xlink:type=\"simple\"><path d=\"M120.01,90.51 C115.39,103.25 109.42,119.7 103.96,134.76 \" fill=\"none\" id=\"E8-&gt;E7\" style=\"stroke: #A80036; stroke-width: 1.0;\"/><polygon fill=\"#FFFFFF\" points=\"97.11,153.65,97.0036,133.4018,110.1656,138.1726,97.11,153.65\" style=\"stroke: #A80036; stroke-width: 1.0;\"/><ellipse cx=\"100.8262\" cy=\"128.7245\" fill=\"#A80036\" rx=\"2\" ry=\"2\" style=\"stroke: #A80036; stroke-width: 1.0;\"/><ellipse cx=\"110.2277\" cy=\"132.1322\" fill=\"#A80036\" rx=\"2\" ry=\"2\" style=\"stroke: #A80036; stroke-width: 1.0;\"/></a><!--MD5=[9b808e70823da2b802765d219c1ec2f7]\n",
       "@startuml\r\n",
       "skinparam wrapWidth 300\r\n",
       "hide circle\r\n",
       "\r\n",
       "package \"PrivateImportTest\" as E1  [[psysml:04be3c0a-f069-4f88-9dd0-1488cf078b60 ]]  {\r\n",
       "package \"P1\" as E2  [[psysml:2d8a57d2-00aa-4c24-bcf4-c6f0dba3a85a ]]  {\r\n",
       "comp def \"A\" as E3  <<(T,blue)part def>> [[psysml:8088eca0-f00f-4a1f-9db3-28df87f45186 ]] {\r\n",
       "}\r\n",
       "}\r\n",
       "package \"P2\" as E4  [[psysml:f5fce4b6-35f4-4f46-9b6d-d151b55baece ]]  {\r\n",
       "}\r\n",
       "comp usage \"x: A\" as E5  <<(T,blue)part>> [[psysml:43785f75-2189-42e8-ba89-9f38d7235e69 ]] {\r\n",
       "}\r\n",
       "package \"P3\" as E6  [[psysml:0a65db1a-6ec3-4140-b73e-0c5567d9dbea ]]  {\r\n",
       "comp def \"B\" as E7  <<(T,blue)part def>> [[psysml:a9488239-9884-4bc6-98b3-04bdbcc46eca ]] {\r\n",
       "}\r\n",
       "E5 - -:|> E3 [[psysml:25d642ee-de35-43b5-ac2f-29504efb7d68 ]] \r\n",
       "}\r\n",
       "comp usage \"z: B\" as E8  <<(T,blue)part>> [[psysml:ceec508b-c3a9-4167-8e78-7da3e35ca489 ]] {\r\n",
       "}\r\n",
       "E8 - -:|> E7 [[psysml:d89216b2-7e18-408a-b614-d8caef1c47ec ]] \r\n",
       "}\r\n",
       "@enduml\r\n",
       "\n",
       "PlantUML version 1.2020.13(Sat Jun 13 12:26:38 UTC 2020)\n",
       "(EPL source distribution)\n",
       "Java Runtime: OpenJDK Runtime Environment\n",
       "JVM: OpenJDK 64-Bit Server VM\n",
       "Default Encoding: UTF-8\n",
       "Language: en\n",
       "Country: null\n",
       "--></g></svg>"
      ]
     },
     "execution_count": 28,
     "metadata": {},
     "output_type": "execute_result"
    }
   ],
   "source": [
    "%viz --style=\"STDCOLOR\" --view=\"Sequence\" \"PrivateImportTest\""
   ]
  },
  {
   "cell_type": "code",
   "execution_count": 29,
   "id": "single-nothing",
   "metadata": {
    "execution": {
     "iopub.execute_input": "2021-03-25T14:10:39.670764Z",
     "iopub.status.busy": "2021-03-25T14:10:39.669959Z",
     "iopub.status.idle": "2021-03-25T14:10:39.735645Z",
     "shell.execute_reply": "2021-03-25T14:10:39.736024Z"
    }
   },
   "outputs": [
    {
     "data": {
      "image/svg+xml": [
       "<?xml version=\"1.0\" encoding=\"UTF-8\" standalone=\"no\"?><svg xmlns=\"http://www.w3.org/2000/svg\" xmlns:xlink=\"http://www.w3.org/1999/xlink\" contentScriptType=\"application/ecmascript\" contentStyleType=\"text/css\" height=\"252px\" preserveAspectRatio=\"none\" style=\"width:306px;height:252px;\" version=\"1.1\" viewBox=\"0 0 306 252\" width=\"306px\" zoomAndPan=\"magnify\"><defs><filter height=\"300%\" id=\"fcvghgt7e9xoh\" width=\"300%\" x=\"-1\" y=\"-1\"><feGaussianBlur result=\"blurOut\" stdDeviation=\"2.0\"/><feColorMatrix in=\"blurOut\" result=\"blurOut2\" type=\"matrix\" values=\"0 0 0 0 0 0 0 0 0 0 0 0 0 0 0 0 0 0 .4 0\"/><feOffset dx=\"4.0\" dy=\"4.0\" in=\"blurOut2\" result=\"blurOut3\"/><feBlend in=\"SourceGraphic\" in2=\"blurOut3\" mode=\"normal\"/></filter></defs><g><!--MD5=[fbc87193dbaf4d95561dea2c320d4a47]\n",
       "cluster E1--><a href=\"psysml:04be3c0a-f069-4f88-9dd0-1488cf078b60\" target=\"_top\" title=\"psysml:04be3c0a-f069-4f88-9dd0-1488cf078b60\" xlink:actuate=\"onRequest\" xlink:href=\"psysml:04be3c0a-f069-4f88-9dd0-1488cf078b60\" xlink:show=\"new\" xlink:title=\"psysml:04be3c0a-f069-4f88-9dd0-1488cf078b60\" xlink:type=\"simple\"><polygon fill=\"#FFFFFF\" filter=\"url(#fcvghgt7e9xoh)\" points=\"16,6,163,6,170,28.2969,284,28.2969,284,240,16,240,16,6\" style=\"stroke: #000000; stroke-width: 1.5;\"/><line style=\"stroke: #000000; stroke-width: 1.5;\" x1=\"16\" x2=\"170\" y1=\"28.2969\" y2=\"28.2969\"/><text fill=\"#000000\" font-family=\"sans-serif\" font-size=\"14\" font-weight=\"bold\" lengthAdjust=\"spacingAndGlyphs\" textLength=\"141\" x=\"20\" y=\"20.9951\">PrivateImportTest</text></a><!--MD5=[e4f7fae6ed58524ba242bb0b0d3be6b7]\n",
       "cluster E2--><a href=\"psysml:2d8a57d2-00aa-4c24-bcf4-c6f0dba3a85a\" target=\"_top\" title=\"psysml:2d8a57d2-00aa-4c24-bcf4-c6f0dba3a85a\" xlink:actuate=\"onRequest\" xlink:href=\"psysml:2d8a57d2-00aa-4c24-bcf4-c6f0dba3a85a\" xlink:show=\"new\" xlink:title=\"psysml:2d8a57d2-00aa-4c24-bcf4-c6f0dba3a85a\" xlink:type=\"simple\"><polygon fill=\"#FFFFFF\" filter=\"url(#fcvghgt7e9xoh)\" points=\"162,119,188,119,195,141.2969,260,141.2969,260,216,162,216,162,119\" style=\"stroke: #000000; stroke-width: 1.5;\"/><line style=\"stroke: #000000; stroke-width: 1.5;\" x1=\"162\" x2=\"195\" y1=\"141.2969\" y2=\"141.2969\"/><text fill=\"#000000\" font-family=\"sans-serif\" font-size=\"14\" font-weight=\"bold\" lengthAdjust=\"spacingAndGlyphs\" textLength=\"20\" x=\"166\" y=\"133.9951\">P1</text></a><!--MD5=[14e3b0961a2654348d326746436168a1]\n",
       "cluster E6--><a href=\"psysml:0a65db1a-6ec3-4140-b73e-0c5567d9dbea\" target=\"_top\" title=\"psysml:0a65db1a-6ec3-4140-b73e-0c5567d9dbea\" xlink:actuate=\"onRequest\" xlink:href=\"psysml:0a65db1a-6ec3-4140-b73e-0c5567d9dbea\" xlink:show=\"new\" xlink:title=\"psysml:0a65db1a-6ec3-4140-b73e-0c5567d9dbea\" xlink:type=\"simple\"><polygon fill=\"#FFFFFF\" filter=\"url(#fcvghgt7e9xoh)\" points=\"40,119,66,119,73,141.2969,138,141.2969,138,216,40,216,40,119\" style=\"stroke: #000000; stroke-width: 1.5;\"/><line style=\"stroke: #000000; stroke-width: 1.5;\" x1=\"40\" x2=\"73\" y1=\"141.2969\" y2=\"141.2969\"/><text fill=\"#000000\" font-family=\"sans-serif\" font-size=\"14\" font-weight=\"bold\" lengthAdjust=\"spacingAndGlyphs\" textLength=\"20\" x=\"44\" y=\"133.9951\">P3</text></a><!--MD5=[270fce915f116d4de14055a7c1d9a0f3]\n",
       "class E5--><a href=\"psysml:43785f75-2189-42e8-ba89-9f38d7235e69\" target=\"_top\" title=\"psysml:43785f75-2189-42e8-ba89-9f38d7235e69\" xlink:actuate=\"onRequest\" xlink:href=\"psysml:43785f75-2189-42e8-ba89-9f38d7235e69\" xlink:show=\"new\" xlink:title=\"psysml:43785f75-2189-42e8-ba89-9f38d7235e69\" xlink:type=\"simple\"><rect fill=\"#FEFECE\" filter=\"url(#fcvghgt7e9xoh)\" height=\"45.9375\" id=\"E5\" rx=\"10\" ry=\"10\" style=\"stroke: #A80036; stroke-width: 1.5;\" width=\"42\" x=\"190\" y=\"44.5\"/><text fill=\"#000000\" font-family=\"sans-serif\" font-size=\"12\" font-style=\"italic\" lengthAdjust=\"spacingAndGlyphs\" textLength=\"40\" x=\"191\" y=\"60.6387\">«part»</text><text fill=\"#000000\" font-family=\"sans-serif\" font-size=\"12\" lengthAdjust=\"spacingAndGlyphs\" textLength=\"22\" x=\"200\" y=\"74.6074\">x: A</text><line style=\"stroke: #A80036; stroke-width: 1.5;\" x1=\"191\" x2=\"231\" y1=\"82.4375\" y2=\"82.4375\"/></a><!--MD5=[b9389687b975829384b498ac4b7476b2]\n",
       "class E8--><a href=\"psysml:ceec508b-c3a9-4167-8e78-7da3e35ca489\" target=\"_top\" title=\"psysml:ceec508b-c3a9-4167-8e78-7da3e35ca489\" xlink:actuate=\"onRequest\" xlink:href=\"psysml:ceec508b-c3a9-4167-8e78-7da3e35ca489\" xlink:show=\"new\" xlink:title=\"psysml:ceec508b-c3a9-4167-8e78-7da3e35ca489\" xlink:type=\"simple\"><rect fill=\"#FEFECE\" filter=\"url(#fcvghgt7e9xoh)\" height=\"45.9375\" id=\"E8\" rx=\"10\" ry=\"10\" style=\"stroke: #A80036; stroke-width: 1.5;\" width=\"42\" x=\"107\" y=\"44.5\"/><text fill=\"#000000\" font-family=\"sans-serif\" font-size=\"12\" font-style=\"italic\" lengthAdjust=\"spacingAndGlyphs\" textLength=\"40\" x=\"108\" y=\"60.6387\">«part»</text><text fill=\"#000000\" font-family=\"sans-serif\" font-size=\"12\" lengthAdjust=\"spacingAndGlyphs\" textLength=\"21\" x=\"117.5\" y=\"74.6074\">z: B</text><line style=\"stroke: #A80036; stroke-width: 1.5;\" x1=\"108\" x2=\"148\" y1=\"82.4375\" y2=\"82.4375\"/></a><!--MD5=[09b614a08d8cba4a07c9adeb5e0fee81]\n",
       "class E3--><a href=\"psysml:8088eca0-f00f-4a1f-9db3-28df87f45186\" target=\"_top\" title=\"psysml:8088eca0-f00f-4a1f-9db3-28df87f45186\" xlink:actuate=\"onRequest\" xlink:href=\"psysml:8088eca0-f00f-4a1f-9db3-28df87f45186\" xlink:show=\"new\" xlink:title=\"psysml:8088eca0-f00f-4a1f-9db3-28df87f45186\" xlink:type=\"simple\"><rect fill=\"#FEFECE\" filter=\"url(#fcvghgt7e9xoh)\" height=\"45.9375\" id=\"E3\" style=\"stroke: #A80036; stroke-width: 1.5;\" width=\"66\" x=\"178\" y=\"154\"/><text fill=\"#000000\" font-family=\"sans-serif\" font-size=\"12\" font-style=\"italic\" lengthAdjust=\"spacingAndGlyphs\" textLength=\"64\" x=\"179\" y=\"170.1387\">«part def»</text><text fill=\"#000000\" font-family=\"sans-serif\" font-size=\"12\" lengthAdjust=\"spacingAndGlyphs\" textLength=\"8\" x=\"207\" y=\"184.1074\">A</text><line style=\"stroke: #A80036; stroke-width: 1.5;\" x1=\"179\" x2=\"243\" y1=\"191.9375\" y2=\"191.9375\"/></a><a href=\"psysml:f5fce4b6-35f4-4f46-9b6d-d151b55baece\" target=\"_top\" title=\"psysml:f5fce4b6-35f4-4f46-9b6d-d151b55baece\" xlink:actuate=\"onRequest\" xlink:href=\"psysml:f5fce4b6-35f4-4f46-9b6d-d151b55baece\" xlink:show=\"new\" xlink:title=\"psysml:f5fce4b6-35f4-4f46-9b6d-d151b55baece\" xlink:type=\"simple\"><polygon fill=\"#FFFFFF\" filter=\"url(#fcvghgt7e9xoh)\" points=\"32,41,58,41,65,63.2969,72,63.2969,72,93.5938,32,93.5938,32,41\" style=\"stroke: #000000; stroke-width: 1.5;\"/><line style=\"stroke: #000000; stroke-width: 1.5;\" x1=\"32\" x2=\"65\" y1=\"63.2969\" y2=\"63.2969\"/><text fill=\"#000000\" font-family=\"sans-serif\" font-size=\"14\" font-weight=\"bold\" lengthAdjust=\"spacingAndGlyphs\" textLength=\"20\" x=\"36\" y=\"55.9951\">P2</text></a><!--MD5=[2156ba9850f5573cc1fc38a6a4b2f02b]\n",
       "class E7--><a href=\"psysml:a9488239-9884-4bc6-98b3-04bdbcc46eca\" target=\"_top\" title=\"psysml:a9488239-9884-4bc6-98b3-04bdbcc46eca\" xlink:actuate=\"onRequest\" xlink:href=\"psysml:a9488239-9884-4bc6-98b3-04bdbcc46eca\" xlink:show=\"new\" xlink:title=\"psysml:a9488239-9884-4bc6-98b3-04bdbcc46eca\" xlink:type=\"simple\"><rect fill=\"#FEFECE\" filter=\"url(#fcvghgt7e9xoh)\" height=\"45.9375\" id=\"E7\" style=\"stroke: #A80036; stroke-width: 1.5;\" width=\"66\" x=\"56\" y=\"154\"/><text fill=\"#000000\" font-family=\"sans-serif\" font-size=\"12\" font-style=\"italic\" lengthAdjust=\"spacingAndGlyphs\" textLength=\"64\" x=\"57\" y=\"170.1387\">«part def»</text><text fill=\"#000000\" font-family=\"sans-serif\" font-size=\"12\" lengthAdjust=\"spacingAndGlyphs\" textLength=\"8\" x=\"85\" y=\"184.1074\">B</text><line style=\"stroke: #A80036; stroke-width: 1.5;\" x1=\"57\" x2=\"121\" y1=\"191.9375\" y2=\"191.9375\"/></a><!--MD5=[e9be52314489bd878ff4c7144b63c9e1]\n",
       "link E5 to E3--><a href=\"psysml:25d642ee-de35-43b5-ac2f-29504efb7d68\" target=\"_top\" title=\"psysml:25d642ee-de35-43b5-ac2f-29504efb7d68\" xlink:actuate=\"onRequest\" xlink:href=\"psysml:25d642ee-de35-43b5-ac2f-29504efb7d68\" xlink:show=\"new\" xlink:title=\"psysml:25d642ee-de35-43b5-ac2f-29504efb7d68\" xlink:type=\"simple\"><path d=\"M211,90.51 C211,102.89 211,118.78 211,133.48 \" fill=\"none\" id=\"E5-&gt;E3\" style=\"stroke: #A80036; stroke-width: 1.0;\"/><polygon fill=\"#FFFFFF\" points=\"211,153.65,204,134.65,218,134.65,211,153.65\" style=\"stroke: #A80036; stroke-width: 1.0;\"/><ellipse cx=\"206\" cy=\"128.95\" fill=\"#A80036\" rx=\"2\" ry=\"2\" style=\"stroke: #A80036; stroke-width: 1.0;\"/><ellipse cx=\"216\" cy=\"128.95\" fill=\"#A80036\" rx=\"2\" ry=\"2\" style=\"stroke: #A80036; stroke-width: 1.0;\"/></a><!--MD5=[bfa3c8b0d15052fdf50ae9310b491027]\n",
       "link E8 to E7--><a href=\"psysml:d89216b2-7e18-408a-b614-d8caef1c47ec\" target=\"_top\" title=\"psysml:d89216b2-7e18-408a-b614-d8caef1c47ec\" xlink:actuate=\"onRequest\" xlink:href=\"psysml:d89216b2-7e18-408a-b614-d8caef1c47ec\" xlink:show=\"new\" xlink:title=\"psysml:d89216b2-7e18-408a-b614-d8caef1c47ec\" xlink:type=\"simple\"><path d=\"M120.01,90.51 C115.39,103.25 109.42,119.7 103.96,134.76 \" fill=\"none\" id=\"E8-&gt;E7\" style=\"stroke: #A80036; stroke-width: 1.0;\"/><polygon fill=\"#FFFFFF\" points=\"97.11,153.65,97.0036,133.4018,110.1656,138.1726,97.11,153.65\" style=\"stroke: #A80036; stroke-width: 1.0;\"/><ellipse cx=\"100.8262\" cy=\"128.7245\" fill=\"#A80036\" rx=\"2\" ry=\"2\" style=\"stroke: #A80036; stroke-width: 1.0;\"/><ellipse cx=\"110.2277\" cy=\"132.1322\" fill=\"#A80036\" rx=\"2\" ry=\"2\" style=\"stroke: #A80036; stroke-width: 1.0;\"/></a><!--MD5=[9b808e70823da2b802765d219c1ec2f7]\n",
       "@startuml\r\n",
       "skinparam wrapWidth 300\r\n",
       "hide circle\r\n",
       "\r\n",
       "package \"PrivateImportTest\" as E1  [[psysml:04be3c0a-f069-4f88-9dd0-1488cf078b60 ]]  {\r\n",
       "package \"P1\" as E2  [[psysml:2d8a57d2-00aa-4c24-bcf4-c6f0dba3a85a ]]  {\r\n",
       "comp def \"A\" as E3  <<(T,blue)part def>> [[psysml:8088eca0-f00f-4a1f-9db3-28df87f45186 ]] {\r\n",
       "}\r\n",
       "}\r\n",
       "package \"P2\" as E4  [[psysml:f5fce4b6-35f4-4f46-9b6d-d151b55baece ]]  {\r\n",
       "}\r\n",
       "comp usage \"x: A\" as E5  <<(T,blue)part>> [[psysml:43785f75-2189-42e8-ba89-9f38d7235e69 ]] {\r\n",
       "}\r\n",
       "package \"P3\" as E6  [[psysml:0a65db1a-6ec3-4140-b73e-0c5567d9dbea ]]  {\r\n",
       "comp def \"B\" as E7  <<(T,blue)part def>> [[psysml:a9488239-9884-4bc6-98b3-04bdbcc46eca ]] {\r\n",
       "}\r\n",
       "E5 - -:|> E3 [[psysml:25d642ee-de35-43b5-ac2f-29504efb7d68 ]] \r\n",
       "}\r\n",
       "comp usage \"z: B\" as E8  <<(T,blue)part>> [[psysml:ceec508b-c3a9-4167-8e78-7da3e35ca489 ]] {\r\n",
       "}\r\n",
       "E8 - -:|> E7 [[psysml:d89216b2-7e18-408a-b614-d8caef1c47ec ]] \r\n",
       "}\r\n",
       "@enduml\r\n",
       "\n",
       "PlantUML version 1.2020.13(Sat Jun 13 12:26:38 UTC 2020)\n",
       "(EPL source distribution)\n",
       "Java Runtime: OpenJDK Runtime Environment\n",
       "JVM: OpenJDK 64-Bit Server VM\n",
       "Default Encoding: UTF-8\n",
       "Language: en\n",
       "Country: null\n",
       "--></g></svg>"
      ]
     },
     "execution_count": 29,
     "metadata": {},
     "output_type": "execute_result"
    }
   ],
   "source": [
    "%viz --style=\"STDCOLOR\" --view=\"MIXED\" \"PrivateImportTest\""
   ]
  },
  {
   "cell_type": "code",
   "execution_count": 30,
   "id": "congressional-accused",
   "metadata": {
    "execution": {
     "iopub.execute_input": "2021-03-25T14:10:39.787543Z",
     "iopub.status.busy": "2021-03-25T14:10:39.786865Z",
     "iopub.status.idle": "2021-03-25T14:10:39.866804Z",
     "shell.execute_reply": "2021-03-25T14:10:39.866349Z"
    }
   },
   "outputs": [
    {
     "data": {
      "image/svg+xml": [
       "<?xml version=\"1.0\" encoding=\"UTF-8\" standalone=\"no\"?><svg xmlns=\"http://www.w3.org/2000/svg\" xmlns:xlink=\"http://www.w3.org/1999/xlink\" contentScriptType=\"application/ecmascript\" contentStyleType=\"text/css\" height=\"246px\" preserveAspectRatio=\"none\" style=\"width:316px;height:246px;\" version=\"1.1\" viewBox=\"0 0 316 246\" width=\"316px\" zoomAndPan=\"magnify\"><defs><filter height=\"300%\" id=\"f1e7pvwgzb5rj2\" width=\"300%\" x=\"-1\" y=\"-1\"><feGaussianBlur result=\"blurOut\" stdDeviation=\"2.0\"/><feColorMatrix in=\"blurOut\" result=\"blurOut2\" type=\"matrix\" values=\"0 0 0 0 0 0 0 0 0 0 0 0 0 0 0 0 0 0 .4 0\"/><feOffset dx=\"4.0\" dy=\"4.0\" in=\"blurOut2\" result=\"blurOut3\"/><feBlend in=\"SourceGraphic\" in2=\"blurOut3\" mode=\"normal\"/></filter></defs><g><!--MD5=[fbc87193dbaf4d95561dea2c320d4a47]\n",
       "cluster E1--><a href=\"psysml:04be3c0a-f069-4f88-9dd0-1488cf078b60\" target=\"_top\" title=\"psysml:04be3c0a-f069-4f88-9dd0-1488cf078b60\" xlink:actuate=\"onRequest\" xlink:href=\"psysml:04be3c0a-f069-4f88-9dd0-1488cf078b60\" xlink:show=\"new\" xlink:title=\"psysml:04be3c0a-f069-4f88-9dd0-1488cf078b60\" xlink:type=\"simple\"><polygon fill=\"#FFFFFF\" filter=\"url(#f1e7pvwgzb5rj2)\" points=\"16,6,163,6,170,28.2969,294,28.2969,294,234,16,234,16,6\" style=\"stroke: #000000; stroke-width: 1.5;\"/><line style=\"stroke: #000000; stroke-width: 1.5;\" x1=\"16\" x2=\"170\" y1=\"28.2969\" y2=\"28.2969\"/><text fill=\"#000000\" font-family=\"sans-serif\" font-size=\"14\" font-weight=\"bold\" lengthAdjust=\"spacingAndGlyphs\" textLength=\"141\" x=\"20\" y=\"20.9951\">PrivateImportTest</text></a><!--MD5=[e4f7fae6ed58524ba242bb0b0d3be6b7]\n",
       "cluster E2--><a href=\"psysml:2d8a57d2-00aa-4c24-bcf4-c6f0dba3a85a\" target=\"_top\" title=\"psysml:2d8a57d2-00aa-4c24-bcf4-c6f0dba3a85a\" xlink:actuate=\"onRequest\" xlink:href=\"psysml:2d8a57d2-00aa-4c24-bcf4-c6f0dba3a85a\" xlink:show=\"new\" xlink:title=\"psysml:2d8a57d2-00aa-4c24-bcf4-c6f0dba3a85a\" xlink:type=\"simple\"><polygon fill=\"#FFFFFF\" filter=\"url(#f1e7pvwgzb5rj2)\" points=\"198,119,224,119,231,141.2969,270,141.2969,270,210,198,210,198,119\" style=\"stroke: #000000; stroke-width: 1.5;\"/><line style=\"stroke: #000000; stroke-width: 1.5;\" x1=\"198\" x2=\"231\" y1=\"141.2969\" y2=\"141.2969\"/><text fill=\"#000000\" font-family=\"sans-serif\" font-size=\"14\" font-weight=\"bold\" lengthAdjust=\"spacingAndGlyphs\" textLength=\"20\" x=\"202\" y=\"133.9951\">P1</text></a><!--MD5=[14e3b0961a2654348d326746436168a1]\n",
       "cluster E6--><a href=\"psysml:0a65db1a-6ec3-4140-b73e-0c5567d9dbea\" target=\"_top\" title=\"psysml:0a65db1a-6ec3-4140-b73e-0c5567d9dbea\" xlink:actuate=\"onRequest\" xlink:href=\"psysml:0a65db1a-6ec3-4140-b73e-0c5567d9dbea\" xlink:show=\"new\" xlink:title=\"psysml:0a65db1a-6ec3-4140-b73e-0c5567d9dbea\" xlink:type=\"simple\"><polygon fill=\"#FFFFFF\" filter=\"url(#f1e7pvwgzb5rj2)\" points=\"102,119,128,119,135,141.2969,174,141.2969,174,210,102,210,102,119\" style=\"stroke: #000000; stroke-width: 1.5;\"/><line style=\"stroke: #000000; stroke-width: 1.5;\" x1=\"102\" x2=\"135\" y1=\"141.2969\" y2=\"141.2969\"/><text fill=\"#000000\" font-family=\"sans-serif\" font-size=\"14\" font-weight=\"bold\" lengthAdjust=\"spacingAndGlyphs\" textLength=\"20\" x=\"106\" y=\"133.9951\">P3</text></a><!--MD5=[270fce915f116d4de14055a7c1d9a0f3]\n",
       "class E5--><a href=\"psysml:43785f75-2189-42e8-ba89-9f38d7235e69\" target=\"_top\" title=\"psysml:43785f75-2189-42e8-ba89-9f38d7235e69\" xlink:actuate=\"onRequest\" xlink:href=\"psysml:43785f75-2189-42e8-ba89-9f38d7235e69\" xlink:show=\"new\" xlink:title=\"psysml:43785f75-2189-42e8-ba89-9f38d7235e69\" xlink:type=\"simple\"><rect fill=\"#FEFECE\" filter=\"url(#f1e7pvwgzb5rj2)\" height=\"45.9375\" id=\"E5\" rx=\"10\" ry=\"10\" style=\"stroke: #A80036; stroke-width: 1.5;\" width=\"68\" x=\"210\" y=\"44.5\"/><ellipse cx=\"225\" cy=\"63.4688\" fill=\"#32CD32\" rx=\"11\" ry=\"11\" style=\"stroke: #A80036; stroke-width: 1.0;\"/><path d=\"M224.7969,59.1406 L224.7969,62.7656 L225.7969,62.7656 Q227,62.7656 227.4844,62.3594 Q227.9688,61.9531 227.9688,60.9531 Q227.9688,59.9531 227.4844,59.5469 Q227,59.1406 225.7969,59.1406 L224.7969,59.1406 Z M222.3438,57.0781 L225.7031,57.0781 Q228.2656,57.0781 229.3906,58 Q230.5156,58.9063 230.5156,60.9531 Q230.5156,63 229.3906,63.9219 Q228.2656,64.8281 225.7031,64.8281 L224.7969,64.8281 L224.7969,69.4688 L222.3438,69.4688 L222.3438,57.0781 Z \"/><text fill=\"#000000\" font-family=\"sans-serif\" font-size=\"12\" font-style=\"italic\" lengthAdjust=\"spacingAndGlyphs\" textLength=\"40\" x=\"237\" y=\"60.6387\">«part»</text><text fill=\"#000000\" font-family=\"sans-serif\" font-size=\"12\" lengthAdjust=\"spacingAndGlyphs\" textLength=\"22\" x=\"246\" y=\"74.6074\">x: A</text><line style=\"stroke: #A80036; stroke-width: 1.5;\" x1=\"211\" x2=\"277\" y1=\"82.4375\" y2=\"82.4375\"/></a><!--MD5=[b9389687b975829384b498ac4b7476b2]\n",
       "class E8--><a href=\"psysml:ceec508b-c3a9-4167-8e78-7da3e35ca489\" target=\"_top\" title=\"psysml:ceec508b-c3a9-4167-8e78-7da3e35ca489\" xlink:actuate=\"onRequest\" xlink:href=\"psysml:ceec508b-c3a9-4167-8e78-7da3e35ca489\" xlink:show=\"new\" xlink:title=\"psysml:ceec508b-c3a9-4167-8e78-7da3e35ca489\" xlink:type=\"simple\"><rect fill=\"#FEFECE\" filter=\"url(#f1e7pvwgzb5rj2)\" height=\"45.9375\" id=\"E8\" rx=\"10\" ry=\"10\" style=\"stroke: #A80036; stroke-width: 1.5;\" width=\"68\" x=\"107\" y=\"44.5\"/><ellipse cx=\"122\" cy=\"63.4688\" fill=\"#32CD32\" rx=\"11\" ry=\"11\" style=\"stroke: #A80036; stroke-width: 1.0;\"/><path d=\"M121.7969,59.1406 L121.7969,62.7656 L122.7969,62.7656 Q124,62.7656 124.4844,62.3594 Q124.9688,61.9531 124.9688,60.9531 Q124.9688,59.9531 124.4844,59.5469 Q124,59.1406 122.7969,59.1406 L121.7969,59.1406 Z M119.3438,57.0781 L122.7031,57.0781 Q125.2656,57.0781 126.3906,58 Q127.5156,58.9063 127.5156,60.9531 Q127.5156,63 126.3906,63.9219 Q125.2656,64.8281 122.7031,64.8281 L121.7969,64.8281 L121.7969,69.4688 L119.3438,69.4688 L119.3438,57.0781 Z \"/><text fill=\"#000000\" font-family=\"sans-serif\" font-size=\"12\" font-style=\"italic\" lengthAdjust=\"spacingAndGlyphs\" textLength=\"40\" x=\"134\" y=\"60.6387\">«part»</text><text fill=\"#000000\" font-family=\"sans-serif\" font-size=\"12\" lengthAdjust=\"spacingAndGlyphs\" textLength=\"21\" x=\"143.5\" y=\"74.6074\">z: B</text><line style=\"stroke: #A80036; stroke-width: 1.5;\" x1=\"108\" x2=\"174\" y1=\"82.4375\" y2=\"82.4375\"/></a><!--MD5=[09b614a08d8cba4a07c9adeb5e0fee81]\n",
       "class E3--><a href=\"psysml:8088eca0-f00f-4a1f-9db3-28df87f45186\" target=\"_top\" title=\"psysml:8088eca0-f00f-4a1f-9db3-28df87f45186\" xlink:actuate=\"onRequest\" xlink:href=\"psysml:8088eca0-f00f-4a1f-9db3-28df87f45186\" xlink:show=\"new\" xlink:title=\"psysml:8088eca0-f00f-4a1f-9db3-28df87f45186\" xlink:type=\"simple\"><rect fill=\"#FEFECE\" filter=\"url(#f1e7pvwgzb5rj2)\" height=\"40\" id=\"E3\" style=\"stroke: #A80036; stroke-width: 1.5;\" width=\"40\" x=\"214\" y=\"154\"/><ellipse cx=\"229\" cy=\"170\" fill=\"#008000\" rx=\"11\" ry=\"11\" style=\"stroke: #A80036; stroke-width: 1.0;\"/><path d=\"M227.9063,170.375 L227.9063,174.0469 L229.5313,174.0469 Q230.7031,174.0469 231.1719,173.6563 Q231.6406,173.25 231.6406,172.25 Q231.6406,171.25 231.1406,170.8125 Q230.6563,170.375 229.5313,170.375 L227.9063,170.375 Z M227.9063,165.5469 L227.9063,168.4219 L229.5313,168.4219 Q230.4531,168.4219 230.8438,168.0938 Q231.25,167.75 231.25,167 Q231.25,166.2344 230.8438,165.8906 Q230.4375,165.5469 229.5313,165.5469 L227.9063,165.5469 Z M225.5313,163.5938 L229.5313,163.5938 Q231.5938,163.5938 232.6406,164.375 Q233.6875,165.1563 233.6875,166.7188 Q233.6875,167.9219 233.0625,168.5938 Q232.4531,169.2656 231.2656,169.375 Q232.6875,169.5156 233.4063,170.3281 Q234.125,171.1406 234.125,172.5938 Q234.125,174.3906 233.0469,175.2031 Q231.9688,176 229.5313,176 L225.5313,176 L225.5313,163.5938 Z \"/><text fill=\"#000000\" font-family=\"sans-serif\" font-size=\"12\" lengthAdjust=\"spacingAndGlyphs\" textLength=\"8\" x=\"243\" y=\"174.1543\">A</text><line style=\"stroke: #A80036; stroke-width: 1.5;\" x1=\"215\" x2=\"253\" y1=\"186\" y2=\"186\"/></a><a href=\"psysml:f5fce4b6-35f4-4f46-9b6d-d151b55baece\" target=\"_top\" title=\"psysml:f5fce4b6-35f4-4f46-9b6d-d151b55baece\" xlink:actuate=\"onRequest\" xlink:href=\"psysml:f5fce4b6-35f4-4f46-9b6d-d151b55baece\" xlink:show=\"new\" xlink:title=\"psysml:f5fce4b6-35f4-4f46-9b6d-d151b55baece\" xlink:type=\"simple\"><polygon fill=\"#FFFFFF\" filter=\"url(#f1e7pvwgzb5rj2)\" points=\"32,41,58,41,65,63.2969,72,63.2969,72,93.5938,32,93.5938,32,41\" style=\"stroke: #000000; stroke-width: 1.5;\"/><line style=\"stroke: #000000; stroke-width: 1.5;\" x1=\"32\" x2=\"65\" y1=\"63.2969\" y2=\"63.2969\"/><text fill=\"#000000\" font-family=\"sans-serif\" font-size=\"14\" font-weight=\"bold\" lengthAdjust=\"spacingAndGlyphs\" textLength=\"20\" x=\"36\" y=\"55.9951\">P2</text></a><!--MD5=[2156ba9850f5573cc1fc38a6a4b2f02b]\n",
       "class E7--><a href=\"psysml:a9488239-9884-4bc6-98b3-04bdbcc46eca\" target=\"_top\" title=\"psysml:a9488239-9884-4bc6-98b3-04bdbcc46eca\" xlink:actuate=\"onRequest\" xlink:href=\"psysml:a9488239-9884-4bc6-98b3-04bdbcc46eca\" xlink:show=\"new\" xlink:title=\"psysml:a9488239-9884-4bc6-98b3-04bdbcc46eca\" xlink:type=\"simple\"><rect fill=\"#FEFECE\" filter=\"url(#f1e7pvwgzb5rj2)\" height=\"40\" id=\"E7\" style=\"stroke: #A80036; stroke-width: 1.5;\" width=\"40\" x=\"118\" y=\"154\"/><ellipse cx=\"133\" cy=\"170\" fill=\"#008000\" rx=\"11\" ry=\"11\" style=\"stroke: #A80036; stroke-width: 1.0;\"/><path d=\"M131.9063,170.375 L131.9063,174.0469 L133.5313,174.0469 Q134.7031,174.0469 135.1719,173.6563 Q135.6406,173.25 135.6406,172.25 Q135.6406,171.25 135.1406,170.8125 Q134.6563,170.375 133.5313,170.375 L131.9063,170.375 Z M131.9063,165.5469 L131.9063,168.4219 L133.5313,168.4219 Q134.4531,168.4219 134.8438,168.0938 Q135.25,167.75 135.25,167 Q135.25,166.2344 134.8438,165.8906 Q134.4375,165.5469 133.5313,165.5469 L131.9063,165.5469 Z M129.5313,163.5938 L133.5313,163.5938 Q135.5938,163.5938 136.6406,164.375 Q137.6875,165.1563 137.6875,166.7188 Q137.6875,167.9219 137.0625,168.5938 Q136.4531,169.2656 135.2656,169.375 Q136.6875,169.5156 137.4063,170.3281 Q138.125,171.1406 138.125,172.5938 Q138.125,174.3906 137.0469,175.2031 Q135.9688,176 133.5313,176 L129.5313,176 L129.5313,163.5938 Z \"/><text fill=\"#000000\" font-family=\"sans-serif\" font-size=\"12\" lengthAdjust=\"spacingAndGlyphs\" textLength=\"8\" x=\"147\" y=\"174.1543\">B</text><line style=\"stroke: #A80036; stroke-width: 1.5;\" x1=\"119\" x2=\"157\" y1=\"186\" y2=\"186\"/></a><!--MD5=[e9be52314489bd878ff4c7144b63c9e1]\n",
       "link E5 to E3--><a href=\"psysml:25d642ee-de35-43b5-ac2f-29504efb7d68\" target=\"_top\" title=\"psysml:25d642ee-de35-43b5-ac2f-29504efb7d68\" xlink:actuate=\"onRequest\" xlink:href=\"psysml:25d642ee-de35-43b5-ac2f-29504efb7d68\" xlink:show=\"new\" xlink:title=\"psysml:25d642ee-de35-43b5-ac2f-29504efb7d68\" xlink:type=\"simple\"><path d=\"M241.88,90.66 C240.68,103.15 239.16,119.11 237.77,133.65 \" fill=\"none\" id=\"E5-&gt;E3\" style=\"stroke: #A80036; stroke-width: 1.0;\"/><polygon fill=\"#FFFFFF\" points=\"235.85,153.68,230.7015,134.097,244.6371,135.4376,235.85,153.68\" style=\"stroke: #A80036; stroke-width: 1.0;\"/><ellipse cx=\"233.2381\" cy=\"128.6147\" fill=\"#A80036\" rx=\"2\" ry=\"2\" style=\"stroke: #A80036; stroke-width: 1.0;\"/><ellipse cx=\"243.1921\" cy=\"129.5723\" fill=\"#A80036\" rx=\"2\" ry=\"2\" style=\"stroke: #A80036; stroke-width: 1.0;\"/></a><!--MD5=[bfa3c8b0d15052fdf50ae9310b491027]\n",
       "link E8 to E7--><a href=\"psysml:d89216b2-7e18-408a-b614-d8caef1c47ec\" target=\"_top\" title=\"psysml:d89216b2-7e18-408a-b614-d8caef1c47ec\" xlink:actuate=\"onRequest\" xlink:href=\"psysml:d89216b2-7e18-408a-b614-d8caef1c47ec\" xlink:show=\"new\" xlink:title=\"psysml:d89216b2-7e18-408a-b614-d8caef1c47ec\" xlink:type=\"simple\"><path d=\"M140.36,90.66 C140.01,103.15 139.55,119.11 139.13,133.65 \" fill=\"none\" id=\"E8-&gt;E7\" style=\"stroke: #A80036; stroke-width: 1.0;\"/><polygon fill=\"#FFFFFF\" points=\"138.55,153.68,132.0955,134.4878,146.0898,134.8877,138.55,153.68\" style=\"stroke: #A80036; stroke-width: 1.0;\"/><ellipse cx=\"134.2575\" cy=\"128.8473\" fill=\"#A80036\" rx=\"2\" ry=\"2\" style=\"stroke: #A80036; stroke-width: 1.0;\"/><ellipse cx=\"144.2534\" cy=\"129.1329\" fill=\"#A80036\" rx=\"2\" ry=\"2\" style=\"stroke: #A80036; stroke-width: 1.0;\"/></a><!--MD5=[41306c24305e0539a6c823b982bcd3e3]\n",
       "@startuml\r\n",
       " \r\n",
       "package \"PrivateImportTest\" as E1  [[psysml:04be3c0a-f069-4f88-9dd0-1488cf078b60 ]]  {\r\n",
       "package \"P1\" as E2  [[psysml:2d8a57d2-00aa-4c24-bcf4-c6f0dba3a85a ]]  {\r\n",
       "comp def \"A\" as E3  << (B,green) >> [[psysml:8088eca0-f00f-4a1f-9db3-28df87f45186 ]] {\r\n",
       "}\r\n",
       "}\r\n",
       "package \"P2\" as E4  [[psysml:f5fce4b6-35f4-4f46-9b6d-d151b55baece ]]  {\r\n",
       "}\r\n",
       "comp usage \"x: A\" as E5  << (P,limegreen) part>> [[psysml:43785f75-2189-42e8-ba89-9f38d7235e69 ]] {\r\n",
       "}\r\n",
       "package \"P3\" as E6  [[psysml:0a65db1a-6ec3-4140-b73e-0c5567d9dbea ]]  {\r\n",
       "comp def \"B\" as E7  << (B,green) >> [[psysml:a9488239-9884-4bc6-98b3-04bdbcc46eca ]] {\r\n",
       "}\r\n",
       "E5 - -:|> E3 [[psysml:25d642ee-de35-43b5-ac2f-29504efb7d68 ]] \r\n",
       "}\r\n",
       "comp usage \"z: B\" as E8  << (P,limegreen) part>> [[psysml:ceec508b-c3a9-4167-8e78-7da3e35ca489 ]] {\r\n",
       "}\r\n",
       "E8 - -:|> E7 [[psysml:d89216b2-7e18-408a-b614-d8caef1c47ec ]] \r\n",
       "}\r\n",
       "@enduml\r\n",
       "\n",
       "PlantUML version 1.2020.13(Sat Jun 13 12:26:38 UTC 2020)\n",
       "(EPL source distribution)\n",
       "Java Runtime: OpenJDK Runtime Environment\n",
       "JVM: OpenJDK 64-Bit Server VM\n",
       "Default Encoding: UTF-8\n",
       "Language: en\n",
       "Country: null\n",
       "--></g></svg>"
      ]
     },
     "execution_count": 30,
     "metadata": {},
     "output_type": "execute_result"
    }
   ],
   "source": [
    "%viz --style=\"PLANTUML\" --view=\"Default\" \"PrivateImportTest\""
   ]
  },
  {
   "cell_type": "code",
   "execution_count": 31,
   "id": "brief-federation",
   "metadata": {
    "execution": {
     "iopub.execute_input": "2021-03-25T14:10:39.917488Z",
     "iopub.status.busy": "2021-03-25T14:10:39.916800Z",
     "iopub.status.idle": "2021-03-25T14:10:39.973682Z",
     "shell.execute_reply": "2021-03-25T14:10:39.973098Z"
    }
   },
   "outputs": [
    {
     "data": {
      "image/svg+xml": [
       "<?xml version=\"1.0\" encoding=\"UTF-8\" standalone=\"no\"?><svg xmlns=\"http://www.w3.org/2000/svg\" xmlns:xlink=\"http://www.w3.org/1999/xlink\" contentScriptType=\"application/ecmascript\" contentStyleType=\"text/css\" height=\"246px\" preserveAspectRatio=\"none\" style=\"width:316px;height:246px;\" version=\"1.1\" viewBox=\"0 0 316 246\" width=\"316px\" zoomAndPan=\"magnify\"><defs><filter height=\"300%\" id=\"f1e7pvwgzb5rj2\" width=\"300%\" x=\"-1\" y=\"-1\"><feGaussianBlur result=\"blurOut\" stdDeviation=\"2.0\"/><feColorMatrix in=\"blurOut\" result=\"blurOut2\" type=\"matrix\" values=\"0 0 0 0 0 0 0 0 0 0 0 0 0 0 0 0 0 0 .4 0\"/><feOffset dx=\"4.0\" dy=\"4.0\" in=\"blurOut2\" result=\"blurOut3\"/><feBlend in=\"SourceGraphic\" in2=\"blurOut3\" mode=\"normal\"/></filter></defs><g><!--MD5=[fbc87193dbaf4d95561dea2c320d4a47]\n",
       "cluster E1--><a href=\"psysml:04be3c0a-f069-4f88-9dd0-1488cf078b60\" target=\"_top\" title=\"psysml:04be3c0a-f069-4f88-9dd0-1488cf078b60\" xlink:actuate=\"onRequest\" xlink:href=\"psysml:04be3c0a-f069-4f88-9dd0-1488cf078b60\" xlink:show=\"new\" xlink:title=\"psysml:04be3c0a-f069-4f88-9dd0-1488cf078b60\" xlink:type=\"simple\"><polygon fill=\"#FFFFFF\" filter=\"url(#f1e7pvwgzb5rj2)\" points=\"16,6,163,6,170,28.2969,294,28.2969,294,234,16,234,16,6\" style=\"stroke: #000000; stroke-width: 1.5;\"/><line style=\"stroke: #000000; stroke-width: 1.5;\" x1=\"16\" x2=\"170\" y1=\"28.2969\" y2=\"28.2969\"/><text fill=\"#000000\" font-family=\"sans-serif\" font-size=\"14\" font-weight=\"bold\" lengthAdjust=\"spacingAndGlyphs\" textLength=\"141\" x=\"20\" y=\"20.9951\">PrivateImportTest</text></a><!--MD5=[e4f7fae6ed58524ba242bb0b0d3be6b7]\n",
       "cluster E2--><a href=\"psysml:2d8a57d2-00aa-4c24-bcf4-c6f0dba3a85a\" target=\"_top\" title=\"psysml:2d8a57d2-00aa-4c24-bcf4-c6f0dba3a85a\" xlink:actuate=\"onRequest\" xlink:href=\"psysml:2d8a57d2-00aa-4c24-bcf4-c6f0dba3a85a\" xlink:show=\"new\" xlink:title=\"psysml:2d8a57d2-00aa-4c24-bcf4-c6f0dba3a85a\" xlink:type=\"simple\"><polygon fill=\"#FFFFFF\" filter=\"url(#f1e7pvwgzb5rj2)\" points=\"198,119,224,119,231,141.2969,270,141.2969,270,210,198,210,198,119\" style=\"stroke: #000000; stroke-width: 1.5;\"/><line style=\"stroke: #000000; stroke-width: 1.5;\" x1=\"198\" x2=\"231\" y1=\"141.2969\" y2=\"141.2969\"/><text fill=\"#000000\" font-family=\"sans-serif\" font-size=\"14\" font-weight=\"bold\" lengthAdjust=\"spacingAndGlyphs\" textLength=\"20\" x=\"202\" y=\"133.9951\">P1</text></a><!--MD5=[14e3b0961a2654348d326746436168a1]\n",
       "cluster E6--><a href=\"psysml:0a65db1a-6ec3-4140-b73e-0c5567d9dbea\" target=\"_top\" title=\"psysml:0a65db1a-6ec3-4140-b73e-0c5567d9dbea\" xlink:actuate=\"onRequest\" xlink:href=\"psysml:0a65db1a-6ec3-4140-b73e-0c5567d9dbea\" xlink:show=\"new\" xlink:title=\"psysml:0a65db1a-6ec3-4140-b73e-0c5567d9dbea\" xlink:type=\"simple\"><polygon fill=\"#FFFFFF\" filter=\"url(#f1e7pvwgzb5rj2)\" points=\"102,119,128,119,135,141.2969,174,141.2969,174,210,102,210,102,119\" style=\"stroke: #000000; stroke-width: 1.5;\"/><line style=\"stroke: #000000; stroke-width: 1.5;\" x1=\"102\" x2=\"135\" y1=\"141.2969\" y2=\"141.2969\"/><text fill=\"#000000\" font-family=\"sans-serif\" font-size=\"14\" font-weight=\"bold\" lengthAdjust=\"spacingAndGlyphs\" textLength=\"20\" x=\"106\" y=\"133.9951\">P3</text></a><!--MD5=[270fce915f116d4de14055a7c1d9a0f3]\n",
       "class E5--><a href=\"psysml:43785f75-2189-42e8-ba89-9f38d7235e69\" target=\"_top\" title=\"psysml:43785f75-2189-42e8-ba89-9f38d7235e69\" xlink:actuate=\"onRequest\" xlink:href=\"psysml:43785f75-2189-42e8-ba89-9f38d7235e69\" xlink:show=\"new\" xlink:title=\"psysml:43785f75-2189-42e8-ba89-9f38d7235e69\" xlink:type=\"simple\"><rect fill=\"#FEFECE\" filter=\"url(#f1e7pvwgzb5rj2)\" height=\"45.9375\" id=\"E5\" rx=\"10\" ry=\"10\" style=\"stroke: #A80036; stroke-width: 1.5;\" width=\"68\" x=\"210\" y=\"44.5\"/><ellipse cx=\"225\" cy=\"63.4688\" fill=\"#32CD32\" rx=\"11\" ry=\"11\" style=\"stroke: #A80036; stroke-width: 1.0;\"/><path d=\"M224.7969,59.1406 L224.7969,62.7656 L225.7969,62.7656 Q227,62.7656 227.4844,62.3594 Q227.9688,61.9531 227.9688,60.9531 Q227.9688,59.9531 227.4844,59.5469 Q227,59.1406 225.7969,59.1406 L224.7969,59.1406 Z M222.3438,57.0781 L225.7031,57.0781 Q228.2656,57.0781 229.3906,58 Q230.5156,58.9063 230.5156,60.9531 Q230.5156,63 229.3906,63.9219 Q228.2656,64.8281 225.7031,64.8281 L224.7969,64.8281 L224.7969,69.4688 L222.3438,69.4688 L222.3438,57.0781 Z \"/><text fill=\"#000000\" font-family=\"sans-serif\" font-size=\"12\" font-style=\"italic\" lengthAdjust=\"spacingAndGlyphs\" textLength=\"40\" x=\"237\" y=\"60.6387\">«part»</text><text fill=\"#000000\" font-family=\"sans-serif\" font-size=\"12\" lengthAdjust=\"spacingAndGlyphs\" textLength=\"22\" x=\"246\" y=\"74.6074\">x: A</text><line style=\"stroke: #A80036; stroke-width: 1.5;\" x1=\"211\" x2=\"277\" y1=\"82.4375\" y2=\"82.4375\"/></a><!--MD5=[b9389687b975829384b498ac4b7476b2]\n",
       "class E8--><a href=\"psysml:ceec508b-c3a9-4167-8e78-7da3e35ca489\" target=\"_top\" title=\"psysml:ceec508b-c3a9-4167-8e78-7da3e35ca489\" xlink:actuate=\"onRequest\" xlink:href=\"psysml:ceec508b-c3a9-4167-8e78-7da3e35ca489\" xlink:show=\"new\" xlink:title=\"psysml:ceec508b-c3a9-4167-8e78-7da3e35ca489\" xlink:type=\"simple\"><rect fill=\"#FEFECE\" filter=\"url(#f1e7pvwgzb5rj2)\" height=\"45.9375\" id=\"E8\" rx=\"10\" ry=\"10\" style=\"stroke: #A80036; stroke-width: 1.5;\" width=\"68\" x=\"107\" y=\"44.5\"/><ellipse cx=\"122\" cy=\"63.4688\" fill=\"#32CD32\" rx=\"11\" ry=\"11\" style=\"stroke: #A80036; stroke-width: 1.0;\"/><path d=\"M121.7969,59.1406 L121.7969,62.7656 L122.7969,62.7656 Q124,62.7656 124.4844,62.3594 Q124.9688,61.9531 124.9688,60.9531 Q124.9688,59.9531 124.4844,59.5469 Q124,59.1406 122.7969,59.1406 L121.7969,59.1406 Z M119.3438,57.0781 L122.7031,57.0781 Q125.2656,57.0781 126.3906,58 Q127.5156,58.9063 127.5156,60.9531 Q127.5156,63 126.3906,63.9219 Q125.2656,64.8281 122.7031,64.8281 L121.7969,64.8281 L121.7969,69.4688 L119.3438,69.4688 L119.3438,57.0781 Z \"/><text fill=\"#000000\" font-family=\"sans-serif\" font-size=\"12\" font-style=\"italic\" lengthAdjust=\"spacingAndGlyphs\" textLength=\"40\" x=\"134\" y=\"60.6387\">«part»</text><text fill=\"#000000\" font-family=\"sans-serif\" font-size=\"12\" lengthAdjust=\"spacingAndGlyphs\" textLength=\"21\" x=\"143.5\" y=\"74.6074\">z: B</text><line style=\"stroke: #A80036; stroke-width: 1.5;\" x1=\"108\" x2=\"174\" y1=\"82.4375\" y2=\"82.4375\"/></a><!--MD5=[09b614a08d8cba4a07c9adeb5e0fee81]\n",
       "class E3--><a href=\"psysml:8088eca0-f00f-4a1f-9db3-28df87f45186\" target=\"_top\" title=\"psysml:8088eca0-f00f-4a1f-9db3-28df87f45186\" xlink:actuate=\"onRequest\" xlink:href=\"psysml:8088eca0-f00f-4a1f-9db3-28df87f45186\" xlink:show=\"new\" xlink:title=\"psysml:8088eca0-f00f-4a1f-9db3-28df87f45186\" xlink:type=\"simple\"><rect fill=\"#FEFECE\" filter=\"url(#f1e7pvwgzb5rj2)\" height=\"40\" id=\"E3\" style=\"stroke: #A80036; stroke-width: 1.5;\" width=\"40\" x=\"214\" y=\"154\"/><ellipse cx=\"229\" cy=\"170\" fill=\"#008000\" rx=\"11\" ry=\"11\" style=\"stroke: #A80036; stroke-width: 1.0;\"/><path d=\"M227.9063,170.375 L227.9063,174.0469 L229.5313,174.0469 Q230.7031,174.0469 231.1719,173.6563 Q231.6406,173.25 231.6406,172.25 Q231.6406,171.25 231.1406,170.8125 Q230.6563,170.375 229.5313,170.375 L227.9063,170.375 Z M227.9063,165.5469 L227.9063,168.4219 L229.5313,168.4219 Q230.4531,168.4219 230.8438,168.0938 Q231.25,167.75 231.25,167 Q231.25,166.2344 230.8438,165.8906 Q230.4375,165.5469 229.5313,165.5469 L227.9063,165.5469 Z M225.5313,163.5938 L229.5313,163.5938 Q231.5938,163.5938 232.6406,164.375 Q233.6875,165.1563 233.6875,166.7188 Q233.6875,167.9219 233.0625,168.5938 Q232.4531,169.2656 231.2656,169.375 Q232.6875,169.5156 233.4063,170.3281 Q234.125,171.1406 234.125,172.5938 Q234.125,174.3906 233.0469,175.2031 Q231.9688,176 229.5313,176 L225.5313,176 L225.5313,163.5938 Z \"/><text fill=\"#000000\" font-family=\"sans-serif\" font-size=\"12\" lengthAdjust=\"spacingAndGlyphs\" textLength=\"8\" x=\"243\" y=\"174.1543\">A</text><line style=\"stroke: #A80036; stroke-width: 1.5;\" x1=\"215\" x2=\"253\" y1=\"186\" y2=\"186\"/></a><a href=\"psysml:f5fce4b6-35f4-4f46-9b6d-d151b55baece\" target=\"_top\" title=\"psysml:f5fce4b6-35f4-4f46-9b6d-d151b55baece\" xlink:actuate=\"onRequest\" xlink:href=\"psysml:f5fce4b6-35f4-4f46-9b6d-d151b55baece\" xlink:show=\"new\" xlink:title=\"psysml:f5fce4b6-35f4-4f46-9b6d-d151b55baece\" xlink:type=\"simple\"><polygon fill=\"#FFFFFF\" filter=\"url(#f1e7pvwgzb5rj2)\" points=\"32,41,58,41,65,63.2969,72,63.2969,72,93.5938,32,93.5938,32,41\" style=\"stroke: #000000; stroke-width: 1.5;\"/><line style=\"stroke: #000000; stroke-width: 1.5;\" x1=\"32\" x2=\"65\" y1=\"63.2969\" y2=\"63.2969\"/><text fill=\"#000000\" font-family=\"sans-serif\" font-size=\"14\" font-weight=\"bold\" lengthAdjust=\"spacingAndGlyphs\" textLength=\"20\" x=\"36\" y=\"55.9951\">P2</text></a><!--MD5=[2156ba9850f5573cc1fc38a6a4b2f02b]\n",
       "class E7--><a href=\"psysml:a9488239-9884-4bc6-98b3-04bdbcc46eca\" target=\"_top\" title=\"psysml:a9488239-9884-4bc6-98b3-04bdbcc46eca\" xlink:actuate=\"onRequest\" xlink:href=\"psysml:a9488239-9884-4bc6-98b3-04bdbcc46eca\" xlink:show=\"new\" xlink:title=\"psysml:a9488239-9884-4bc6-98b3-04bdbcc46eca\" xlink:type=\"simple\"><rect fill=\"#FEFECE\" filter=\"url(#f1e7pvwgzb5rj2)\" height=\"40\" id=\"E7\" style=\"stroke: #A80036; stroke-width: 1.5;\" width=\"40\" x=\"118\" y=\"154\"/><ellipse cx=\"133\" cy=\"170\" fill=\"#008000\" rx=\"11\" ry=\"11\" style=\"stroke: #A80036; stroke-width: 1.0;\"/><path d=\"M131.9063,170.375 L131.9063,174.0469 L133.5313,174.0469 Q134.7031,174.0469 135.1719,173.6563 Q135.6406,173.25 135.6406,172.25 Q135.6406,171.25 135.1406,170.8125 Q134.6563,170.375 133.5313,170.375 L131.9063,170.375 Z M131.9063,165.5469 L131.9063,168.4219 L133.5313,168.4219 Q134.4531,168.4219 134.8438,168.0938 Q135.25,167.75 135.25,167 Q135.25,166.2344 134.8438,165.8906 Q134.4375,165.5469 133.5313,165.5469 L131.9063,165.5469 Z M129.5313,163.5938 L133.5313,163.5938 Q135.5938,163.5938 136.6406,164.375 Q137.6875,165.1563 137.6875,166.7188 Q137.6875,167.9219 137.0625,168.5938 Q136.4531,169.2656 135.2656,169.375 Q136.6875,169.5156 137.4063,170.3281 Q138.125,171.1406 138.125,172.5938 Q138.125,174.3906 137.0469,175.2031 Q135.9688,176 133.5313,176 L129.5313,176 L129.5313,163.5938 Z \"/><text fill=\"#000000\" font-family=\"sans-serif\" font-size=\"12\" lengthAdjust=\"spacingAndGlyphs\" textLength=\"8\" x=\"147\" y=\"174.1543\">B</text><line style=\"stroke: #A80036; stroke-width: 1.5;\" x1=\"119\" x2=\"157\" y1=\"186\" y2=\"186\"/></a><!--MD5=[e9be52314489bd878ff4c7144b63c9e1]\n",
       "link E5 to E3--><a href=\"psysml:25d642ee-de35-43b5-ac2f-29504efb7d68\" target=\"_top\" title=\"psysml:25d642ee-de35-43b5-ac2f-29504efb7d68\" xlink:actuate=\"onRequest\" xlink:href=\"psysml:25d642ee-de35-43b5-ac2f-29504efb7d68\" xlink:show=\"new\" xlink:title=\"psysml:25d642ee-de35-43b5-ac2f-29504efb7d68\" xlink:type=\"simple\"><path d=\"M241.88,90.66 C240.68,103.15 239.16,119.11 237.77,133.65 \" fill=\"none\" id=\"E5-&gt;E3\" style=\"stroke: #A80036; stroke-width: 1.0;\"/><polygon fill=\"#FFFFFF\" points=\"235.85,153.68,230.7015,134.097,244.6371,135.4376,235.85,153.68\" style=\"stroke: #A80036; stroke-width: 1.0;\"/><ellipse cx=\"233.2381\" cy=\"128.6147\" fill=\"#A80036\" rx=\"2\" ry=\"2\" style=\"stroke: #A80036; stroke-width: 1.0;\"/><ellipse cx=\"243.1921\" cy=\"129.5723\" fill=\"#A80036\" rx=\"2\" ry=\"2\" style=\"stroke: #A80036; stroke-width: 1.0;\"/></a><!--MD5=[bfa3c8b0d15052fdf50ae9310b491027]\n",
       "link E8 to E7--><a href=\"psysml:d89216b2-7e18-408a-b614-d8caef1c47ec\" target=\"_top\" title=\"psysml:d89216b2-7e18-408a-b614-d8caef1c47ec\" xlink:actuate=\"onRequest\" xlink:href=\"psysml:d89216b2-7e18-408a-b614-d8caef1c47ec\" xlink:show=\"new\" xlink:title=\"psysml:d89216b2-7e18-408a-b614-d8caef1c47ec\" xlink:type=\"simple\"><path d=\"M140.36,90.66 C140.01,103.15 139.55,119.11 139.13,133.65 \" fill=\"none\" id=\"E8-&gt;E7\" style=\"stroke: #A80036; stroke-width: 1.0;\"/><polygon fill=\"#FFFFFF\" points=\"138.55,153.68,132.0955,134.4878,146.0898,134.8877,138.55,153.68\" style=\"stroke: #A80036; stroke-width: 1.0;\"/><ellipse cx=\"134.2575\" cy=\"128.8473\" fill=\"#A80036\" rx=\"2\" ry=\"2\" style=\"stroke: #A80036; stroke-width: 1.0;\"/><ellipse cx=\"144.2534\" cy=\"129.1329\" fill=\"#A80036\" rx=\"2\" ry=\"2\" style=\"stroke: #A80036; stroke-width: 1.0;\"/></a><!--MD5=[41306c24305e0539a6c823b982bcd3e3]\n",
       "@startuml\r\n",
       " \r\n",
       "package \"PrivateImportTest\" as E1  [[psysml:04be3c0a-f069-4f88-9dd0-1488cf078b60 ]]  {\r\n",
       "package \"P1\" as E2  [[psysml:2d8a57d2-00aa-4c24-bcf4-c6f0dba3a85a ]]  {\r\n",
       "comp def \"A\" as E3  << (B,green) >> [[psysml:8088eca0-f00f-4a1f-9db3-28df87f45186 ]] {\r\n",
       "}\r\n",
       "}\r\n",
       "package \"P2\" as E4  [[psysml:f5fce4b6-35f4-4f46-9b6d-d151b55baece ]]  {\r\n",
       "}\r\n",
       "comp usage \"x: A\" as E5  << (P,limegreen) part>> [[psysml:43785f75-2189-42e8-ba89-9f38d7235e69 ]] {\r\n",
       "}\r\n",
       "package \"P3\" as E6  [[psysml:0a65db1a-6ec3-4140-b73e-0c5567d9dbea ]]  {\r\n",
       "comp def \"B\" as E7  << (B,green) >> [[psysml:a9488239-9884-4bc6-98b3-04bdbcc46eca ]] {\r\n",
       "}\r\n",
       "E5 - -:|> E3 [[psysml:25d642ee-de35-43b5-ac2f-29504efb7d68 ]] \r\n",
       "}\r\n",
       "comp usage \"z: B\" as E8  << (P,limegreen) part>> [[psysml:ceec508b-c3a9-4167-8e78-7da3e35ca489 ]] {\r\n",
       "}\r\n",
       "E8 - -:|> E7 [[psysml:d89216b2-7e18-408a-b614-d8caef1c47ec ]] \r\n",
       "}\r\n",
       "@enduml\r\n",
       "\n",
       "PlantUML version 1.2020.13(Sat Jun 13 12:26:38 UTC 2020)\n",
       "(EPL source distribution)\n",
       "Java Runtime: OpenJDK Runtime Environment\n",
       "JVM: OpenJDK 64-Bit Server VM\n",
       "Default Encoding: UTF-8\n",
       "Language: en\n",
       "Country: null\n",
       "--></g></svg>"
      ]
     },
     "execution_count": 31,
     "metadata": {},
     "output_type": "execute_result"
    }
   ],
   "source": [
    "%viz --style=\"PLANTUML\" --view=\"Tree\" \"PrivateImportTest\""
   ]
  },
  {
   "cell_type": "code",
   "execution_count": 32,
   "id": "independent-shelter",
   "metadata": {
    "execution": {
     "iopub.execute_input": "2021-03-25T14:10:40.026986Z",
     "iopub.status.busy": "2021-03-25T14:10:40.025702Z",
     "iopub.status.idle": "2021-03-25T14:10:40.900585Z",
     "shell.execute_reply": "2021-03-25T14:10:40.901008Z"
    }
   },
   "outputs": [
    {
     "data": {
      "image/svg+xml": [
       "<?xml version=\"1.0\" encoding=\"UTF-8\" standalone=\"no\"?><svg xmlns=\"http://www.w3.org/2000/svg\" xmlns:xlink=\"http://www.w3.org/1999/xlink\" contentScriptType=\"application/ecmascript\" contentStyleType=\"text/css\" height=\"303px\" preserveAspectRatio=\"none\" style=\"width:603px;height:303px;background:#000000;\" version=\"1.1\" viewBox=\"0 0 603 303\" width=\"603px\" zoomAndPan=\"magnify\"><defs/><g><rect fill=\"#240703\" height=\"1\" style=\"stroke: #240703; stroke-width: 1.0;\" width=\"1\" x=\"0\" y=\"0\"/><rect fill=\"#FFFFFF\" height=\"205.5625\" style=\"stroke: #FFFFFF; stroke-width: 1.0;\" width=\"602\" x=\"0\" y=\"0\"/><text fill=\"#000000\" font-family=\"sans-serif\" font-size=\"12\" font-weight=\"bold\" lengthAdjust=\"spacingAndGlyphs\" textLength=\"159\" x=\"5\" y=\"16.1387\">Welcome to PlantUML!</text><text fill=\"#000000\" font-family=\"sans-serif\" font-size=\"12\" lengthAdjust=\"spacingAndGlyphs\" textLength=\"0\" x=\"9\" y=\"30.1074\"/><text fill=\"#000000\" font-family=\"sans-serif\" font-size=\"12\" lengthAdjust=\"spacingAndGlyphs\" textLength=\"293\" x=\"5\" y=\"44.0762\">If you use this software, you accept its license.</text><text fill=\"#000000\" font-family=\"sans-serif\" font-size=\"12\" lengthAdjust=\"spacingAndGlyphs\" textLength=\"107\" x=\"5\" y=\"58.0449\">(details by typing</text><text fill=\"#000000\" font-family=\"monospace\" font-size=\"12\" lengthAdjust=\"spacingAndGlyphs\" textLength=\"49\" x=\"116\" y=\"58.0449\">license</text><text fill=\"#000000\" font-family=\"sans-serif\" font-size=\"12\" lengthAdjust=\"spacingAndGlyphs\" textLength=\"56\" x=\"169\" y=\"58.0449\">keyword)</text><text fill=\"#000000\" font-family=\"sans-serif\" font-size=\"12\" lengthAdjust=\"spacingAndGlyphs\" textLength=\"0\" x=\"9\" y=\"72.0137\"/><text fill=\"#000000\" font-family=\"sans-serif\" font-size=\"12\" lengthAdjust=\"spacingAndGlyphs\" textLength=\"283\" x=\"5\" y=\"85.9824\">You can start with a simple UML Diagram like:</text><text fill=\"#000000\" font-family=\"sans-serif\" font-size=\"12\" lengthAdjust=\"spacingAndGlyphs\" textLength=\"0\" x=\"9\" y=\"99.9512\"/><text fill=\"#000000\" font-family=\"monospace\" font-size=\"12\" lengthAdjust=\"spacingAndGlyphs\" textLength=\"119\" x=\"5\" y=\"113.9199\">Bob-&gt;Alice: Hello</text><text fill=\"#000000\" font-family=\"sans-serif\" font-size=\"12\" lengthAdjust=\"spacingAndGlyphs\" textLength=\"0\" x=\"9\" y=\"127.8887\"/><text fill=\"#000000\" font-family=\"sans-serif\" font-size=\"12\" lengthAdjust=\"spacingAndGlyphs\" textLength=\"14\" x=\"5\" y=\"141.8574\">Or</text><text fill=\"#000000\" font-family=\"sans-serif\" font-size=\"12\" lengthAdjust=\"spacingAndGlyphs\" textLength=\"0\" x=\"9\" y=\"155.8262\"/><text fill=\"#000000\" font-family=\"monospace\" font-size=\"12\" lengthAdjust=\"spacingAndGlyphs\" textLength=\"91\" x=\"5\" y=\"169.7949\">class Example</text><text fill=\"#000000\" font-family=\"sans-serif\" font-size=\"12\" lengthAdjust=\"spacingAndGlyphs\" textLength=\"0\" x=\"9\" y=\"183.7637\"/><text fill=\"#000000\" font-family=\"sans-serif\" font-size=\"12\" lengthAdjust=\"spacingAndGlyphs\" textLength=\"349\" x=\"5\" y=\"197.7324\">You will find more information about PlantUML syntax on</text><text fill=\"#000000\" font-family=\"sans-serif\" font-size=\"12\" lengthAdjust=\"spacingAndGlyphs\" text-decoration=\"underline\" textLength=\"129\" x=\"358\" y=\"197.7324\">https://plantuml.com</text><image height=\"71\" width=\"80\" x=\"516\" xlink:href=\"data:image/png;base64,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\" y=\"6\"/><rect fill=\"#000000\" height=\"96.4844\" style=\"stroke: #000000; stroke-width: 1.0;\" width=\"602\" x=\"0\" y=\"205.5625\"/><rect fill=\"#33FF02\" height=\"21.2969\" style=\"stroke: #33FF02; stroke-width: 1.0;\" width=\"170\" x=\"5\" y=\"210.5625\"/><text fill=\"#000000\" font-family=\"sans-serif\" font-size=\"14\" font-weight=\"bold\" lengthAdjust=\"spacingAndGlyphs\" textLength=\"168\" x=\"6\" y=\"225.5625\">[From string (line 2) ]</text><text fill=\"#33FF02\" font-family=\"sans-serif\" font-size=\"14\" font-weight=\"bold\" lengthAdjust=\"spacingAndGlyphs\" textLength=\"0\" x=\"10\" y=\"245.8594\"/><text fill=\"#33FF02\" font-family=\"sans-serif\" font-size=\"14\" font-weight=\"bold\" lengthAdjust=\"spacingAndGlyphs\" textLength=\"79\" x=\"5\" y=\"262.1563\">@startuml</text><text fill=\"#33FF02\" font-family=\"sans-serif\" font-size=\"14\" font-weight=\"bold\" lengthAdjust=\"spacingAndGlyphs\" textLength=\"0\" x=\"10\" y=\"278.4531\"/><text fill=\"#FF0000\" font-family=\"sans-serif\" font-size=\"14\" font-weight=\"bold\" lengthAdjust=\"spacingAndGlyphs\" textLength=\"142\" x=\"10\" y=\"294.75\">Empty description</text><!--MD5=[f59edd8218d337f74d0c332fc6737304]\n",
       "@startuml\r\n",
       " \r\n",
       "@enduml\r\n",
       "\n",
       "PlantUML version 1.2020.13(Sat Jun 13 12:26:38 UTC 2020)\n",
       "(EPL source distribution)\n",
       "Java Runtime: OpenJDK Runtime Environment\n",
       "JVM: OpenJDK 64-Bit Server VM\n",
       "Default Encoding: UTF-8\n",
       "Language: en\n",
       "Country: null\n",
       "--></g></svg>"
      ]
     },
     "execution_count": 32,
     "metadata": {},
     "output_type": "execute_result"
    }
   ],
   "source": [
    "%viz --style=\"PLANTUML\" --view=\"State\" \"PrivateImportTest\""
   ]
  },
  {
   "cell_type": "code",
   "execution_count": 33,
   "id": "miniature-object",
   "metadata": {
    "execution": {
     "iopub.execute_input": "2021-03-25T14:10:40.952847Z",
     "iopub.status.busy": "2021-03-25T14:10:40.952146Z",
     "iopub.status.idle": "2021-03-25T14:10:41.003502Z",
     "shell.execute_reply": "2021-03-25T14:10:41.003127Z"
    }
   },
   "outputs": [
    {
     "data": {
      "image/svg+xml": [
       "<?xml version=\"1.0\" encoding=\"UTF-8\" standalone=\"no\"?><svg xmlns=\"http://www.w3.org/2000/svg\" xmlns:xlink=\"http://www.w3.org/1999/xlink\" contentScriptType=\"application/ecmascript\" contentStyleType=\"text/css\" height=\"176px\" preserveAspectRatio=\"none\" style=\"width:513px;height:176px;\" version=\"1.1\" viewBox=\"0 0 513 176\" width=\"513px\" zoomAndPan=\"magnify\"><defs><filter height=\"300%\" id=\"f188l6m4g2b6tp\" width=\"300%\" x=\"-1\" y=\"-1\"><feGaussianBlur result=\"blurOut\" stdDeviation=\"2.0\"/><feColorMatrix in=\"blurOut\" result=\"blurOut2\" type=\"matrix\" values=\"0 0 0 0 0 0 0 0 0 0 0 0 0 0 0 0 0 0 .4 0\"/><feOffset dx=\"4.0\" dy=\"4.0\" in=\"blurOut2\" result=\"blurOut3\"/><feBlend in=\"SourceGraphic\" in2=\"blurOut3\" mode=\"normal\"/></filter></defs><g><!--MD5=[fbc87193dbaf4d95561dea2c320d4a47]\n",
       "cluster E1--><a href=\"psysml:04be3c0a-f069-4f88-9dd0-1488cf078b60\" target=\"_top\" title=\"psysml:04be3c0a-f069-4f88-9dd0-1488cf078b60\" xlink:actuate=\"onRequest\" xlink:href=\"psysml:04be3c0a-f069-4f88-9dd0-1488cf078b60\" xlink:show=\"new\" xlink:title=\"psysml:04be3c0a-f069-4f88-9dd0-1488cf078b60\" xlink:type=\"simple\"><polygon fill=\"#FFFFFF\" filter=\"url(#f188l6m4g2b6tp)\" points=\"16,6,163,6,170,28.2969,491,28.2969,491,164,16,164,16,6\" style=\"stroke: #000000; stroke-width: 1.5;\"/><line style=\"stroke: #000000; stroke-width: 1.5;\" x1=\"16\" x2=\"170\" y1=\"28.2969\" y2=\"28.2969\"/><text fill=\"#000000\" font-family=\"sans-serif\" font-size=\"14\" font-weight=\"bold\" lengthAdjust=\"spacingAndGlyphs\" textLength=\"141\" x=\"20\" y=\"20.9951\">PrivateImportTest</text></a><!--MD5=[e4f7fae6ed58524ba242bb0b0d3be6b7]\n",
       "cluster E2--><a href=\"psysml:2d8a57d2-00aa-4c24-bcf4-c6f0dba3a85a\" target=\"_top\" title=\"psysml:2d8a57d2-00aa-4c24-bcf4-c6f0dba3a85a\" xlink:actuate=\"onRequest\" xlink:href=\"psysml:2d8a57d2-00aa-4c24-bcf4-c6f0dba3a85a\" xlink:show=\"new\" xlink:title=\"psysml:2d8a57d2-00aa-4c24-bcf4-c6f0dba3a85a\" xlink:type=\"simple\"><polygon fill=\"#FFFFFF\" filter=\"url(#f188l6m4g2b6tp)\" points=\"385,49,411,49,418,71.2969,467,71.2969,467,140,385,140,385,49\" style=\"stroke: #000000; stroke-width: 1.5;\"/><line style=\"stroke: #000000; stroke-width: 1.5;\" x1=\"385\" x2=\"418\" y1=\"71.2969\" y2=\"71.2969\"/><text fill=\"#000000\" font-family=\"sans-serif\" font-size=\"14\" font-weight=\"bold\" lengthAdjust=\"spacingAndGlyphs\" textLength=\"20\" x=\"389\" y=\"63.9951\">P1</text></a><!--MD5=[14e3b0961a2654348d326746436168a1]\n",
       "cluster E6--><a href=\"psysml:0a65db1a-6ec3-4140-b73e-0c5567d9dbea\" target=\"_top\" title=\"psysml:0a65db1a-6ec3-4140-b73e-0c5567d9dbea\" xlink:actuate=\"onRequest\" xlink:href=\"psysml:0a65db1a-6ec3-4140-b73e-0c5567d9dbea\" xlink:show=\"new\" xlink:title=\"psysml:0a65db1a-6ec3-4140-b73e-0c5567d9dbea\" xlink:type=\"simple\"><polygon fill=\"#FFFFFF\" filter=\"url(#f188l6m4g2b6tp)\" points=\"279,49,305,49,312,71.2969,361,71.2969,361,140,279,140,279,49\" style=\"stroke: #000000; stroke-width: 1.5;\"/><line style=\"stroke: #000000; stroke-width: 1.5;\" x1=\"279\" x2=\"312\" y1=\"71.2969\" y2=\"71.2969\"/><text fill=\"#000000\" font-family=\"sans-serif\" font-size=\"14\" font-weight=\"bold\" lengthAdjust=\"spacingAndGlyphs\" textLength=\"20\" x=\"283\" y=\"63.9951\">P3</text></a><g id=\"E1.E2.E3\"><a href=\"psysml:8088eca0-f00f-4a1f-9db3-28df87f45186\" target=\"_top\" title=\"psysml:8088eca0-f00f-4a1f-9db3-28df87f45186\" xlink:actuate=\"onRequest\" xlink:href=\"psysml:8088eca0-f00f-4a1f-9db3-28df87f45186\" xlink:show=\"new\" xlink:title=\"psysml:8088eca0-f00f-4a1f-9db3-28df87f45186\" xlink:type=\"simple\"><rect fill=\"#FEFECE\" filter=\"url(#f188l6m4g2b6tp)\" height=\"40\" id=\"E3\" style=\"stroke: #A80036; stroke-width: 1.5;\" width=\"50\" x=\"401\" y=\"84\"/><ellipse cx=\"420.5\" cy=\"100\" fill=\"#008000\" rx=\"11\" ry=\"11\" style=\"stroke: #A80036; stroke-width: 1.0;\"/><path d=\"M419.4063,100.375 L419.4063,104.0469 L421.0313,104.0469 Q422.2031,104.0469 422.6719,103.6563 Q423.1406,103.25 423.1406,102.25 Q423.1406,101.25 422.6406,100.8125 Q422.1563,100.375 421.0313,100.375 L419.4063,100.375 Z M419.4063,95.5469 L419.4063,98.4219 L421.0313,98.4219 Q421.9531,98.4219 422.3438,98.0938 Q422.75,97.75 422.75,97 Q422.75,96.2344 422.3438,95.8906 Q421.9375,95.5469 421.0313,95.5469 L419.4063,95.5469 Z M417.0313,93.5938 L421.0313,93.5938 Q423.0938,93.5938 424.1406,94.375 Q425.1875,95.1563 425.1875,96.7188 Q425.1875,97.9219 424.5625,98.5938 Q423.9531,99.2656 422.7656,99.375 Q424.1875,99.5156 424.9063,100.3281 Q425.625,101.1406 425.625,102.5938 Q425.625,104.3906 424.5469,105.2031 Q423.4688,106 421.0313,106 L417.0313,106 L417.0313,93.5938 Z \"/><text fill=\"#000000\" font-family=\"sans-serif\" font-size=\"12\" lengthAdjust=\"spacingAndGlyphs\" textLength=\"8\" x=\"435.5\" y=\"104.1543\">A</text></a></g><a href=\"psysml:f5fce4b6-35f4-4f46-9b6d-d151b55baece\" target=\"_top\" title=\"psysml:f5fce4b6-35f4-4f46-9b6d-d151b55baece\" xlink:actuate=\"onRequest\" xlink:href=\"psysml:f5fce4b6-35f4-4f46-9b6d-d151b55baece\" xlink:show=\"new\" xlink:title=\"psysml:f5fce4b6-35f4-4f46-9b6d-d151b55baece\" xlink:type=\"simple\"><polygon fill=\"#FFFFFF\" filter=\"url(#f188l6m4g2b6tp)\" points=\"220,77.5,246,77.5,253,99.7969,260,99.7969,260,130.0938,220,130.0938,220,77.5\" style=\"stroke: #000000; stroke-width: 1.5;\"/><line style=\"stroke: #000000; stroke-width: 1.5;\" x1=\"220\" x2=\"253\" y1=\"99.7969\" y2=\"99.7969\"/><text fill=\"#000000\" font-family=\"sans-serif\" font-size=\"14\" font-weight=\"bold\" lengthAdjust=\"spacingAndGlyphs\" textLength=\"20\" x=\"224\" y=\"92.4951\">P2</text></a><g id=\"E1.E5\"><a href=\"psysml:43785f75-2189-42e8-ba89-9f38d7235e69\" target=\"_top\" title=\"psysml:43785f75-2189-42e8-ba89-9f38d7235e69\" xlink:actuate=\"onRequest\" xlink:href=\"psysml:43785f75-2189-42e8-ba89-9f38d7235e69\" xlink:show=\"new\" xlink:title=\"psysml:43785f75-2189-42e8-ba89-9f38d7235e69\" xlink:type=\"simple\"><rect fill=\"#FEFECE\" filter=\"url(#f188l6m4g2b6tp)\" height=\"40\" id=\"E5\" rx=\"10\" ry=\"10\" style=\"stroke: #A80036; stroke-width: 1.5;\" width=\"59\" x=\"125.5\" y=\"84\"/><ellipse cx=\"142.75\" cy=\"100\" fill=\"#B6DBBB\" rx=\"11\" ry=\"11\" style=\"stroke: #A80036; stroke-width: 1.0;\"/><path d=\"M138.625,101.9219 L138.625,94.1094 L141.0781,94.1094 L141.0781,102.5469 Q141.0781,103.4688 141.5469,104 Q142.0313,104.5313 142.8594,104.5313 Q143.7031,104.5313 144.1719,104 Q144.6406,103.4688 144.6406,102.5469 L144.6406,94.1094 L147.0938,94.1094 L147.0938,101.9219 Q147.0938,104.4531 146.0938,105.5938 Q145.0938,106.7344 142.8594,106.7344 Q140.6406,106.7344 139.625,105.5938 Q138.625,104.4531 138.625,101.9219 Z \"/><text fill=\"#000000\" font-family=\"sans-serif\" font-size=\"12\" lengthAdjust=\"spacingAndGlyphs\" textLength=\"22\" x=\"157.25\" y=\"104.1543\">x: A</text></a></g><g id=\"E1.E6.E7\"><a href=\"psysml:a9488239-9884-4bc6-98b3-04bdbcc46eca\" target=\"_top\" title=\"psysml:a9488239-9884-4bc6-98b3-04bdbcc46eca\" xlink:actuate=\"onRequest\" xlink:href=\"psysml:a9488239-9884-4bc6-98b3-04bdbcc46eca\" xlink:show=\"new\" xlink:title=\"psysml:a9488239-9884-4bc6-98b3-04bdbcc46eca\" xlink:type=\"simple\"><rect fill=\"#FEFECE\" filter=\"url(#f188l6m4g2b6tp)\" height=\"40\" id=\"E7\" style=\"stroke: #A80036; stroke-width: 1.5;\" width=\"50\" x=\"295\" y=\"84\"/><ellipse cx=\"314.5\" cy=\"100\" fill=\"#008000\" rx=\"11\" ry=\"11\" style=\"stroke: #A80036; stroke-width: 1.0;\"/><path d=\"M313.4063,100.375 L313.4063,104.0469 L315.0313,104.0469 Q316.2031,104.0469 316.6719,103.6563 Q317.1406,103.25 317.1406,102.25 Q317.1406,101.25 316.6406,100.8125 Q316.1563,100.375 315.0313,100.375 L313.4063,100.375 Z M313.4063,95.5469 L313.4063,98.4219 L315.0313,98.4219 Q315.9531,98.4219 316.3438,98.0938 Q316.75,97.75 316.75,97 Q316.75,96.2344 316.3438,95.8906 Q315.9375,95.5469 315.0313,95.5469 L313.4063,95.5469 Z M311.0313,93.5938 L315.0313,93.5938 Q317.0938,93.5938 318.1406,94.375 Q319.1875,95.1563 319.1875,96.7188 Q319.1875,97.9219 318.5625,98.5938 Q317.9531,99.2656 316.7656,99.375 Q318.1875,99.5156 318.9063,100.3281 Q319.625,101.1406 319.625,102.5938 Q319.625,104.3906 318.5469,105.2031 Q317.4688,106 315.0313,106 L311.0313,106 L311.0313,93.5938 Z \"/><text fill=\"#000000\" font-family=\"sans-serif\" font-size=\"12\" lengthAdjust=\"spacingAndGlyphs\" textLength=\"8\" x=\"329.5\" y=\"104.1543\">B</text></a></g><g id=\"E1.E8\"><a href=\"psysml:ceec508b-c3a9-4167-8e78-7da3e35ca489\" target=\"_top\" title=\"psysml:ceec508b-c3a9-4167-8e78-7da3e35ca489\" xlink:actuate=\"onRequest\" xlink:href=\"psysml:ceec508b-c3a9-4167-8e78-7da3e35ca489\" xlink:show=\"new\" xlink:title=\"psysml:ceec508b-c3a9-4167-8e78-7da3e35ca489\" xlink:type=\"simple\"><rect fill=\"#FEFECE\" filter=\"url(#f188l6m4g2b6tp)\" height=\"40\" id=\"E8\" rx=\"10\" ry=\"10\" style=\"stroke: #A80036; stroke-width: 1.5;\" width=\"58\" x=\"32\" y=\"84\"/><ellipse cx=\"49.25\" cy=\"100\" fill=\"#B6DBBB\" rx=\"11\" ry=\"11\" style=\"stroke: #A80036; stroke-width: 1.0;\"/><path d=\"M45.125,101.9219 L45.125,94.1094 L47.5781,94.1094 L47.5781,102.5469 Q47.5781,103.4688 48.0469,104 Q48.5313,104.5313 49.3594,104.5313 Q50.2031,104.5313 50.6719,104 Q51.1406,103.4688 51.1406,102.5469 L51.1406,94.1094 L53.5938,94.1094 L53.5938,101.9219 Q53.5938,104.4531 52.5938,105.5938 Q51.5938,106.7344 49.3594,106.7344 Q47.1406,106.7344 46.125,105.5938 Q45.125,104.4531 45.125,101.9219 Z \"/><text fill=\"#000000\" font-family=\"sans-serif\" font-size=\"12\" lengthAdjust=\"spacingAndGlyphs\" textLength=\"21\" x=\"63.75\" y=\"104.1543\">z: B</text></a></g><!--MD5=[0560b1149c7e3841fd073bac69e6c26c]\n",
       "@startuml\r\n",
       "skinparam ranksep 10\r\n",
       "skinparam rectangle {\r\n",
       " backgroundColor<<block>> LightGreen\r\n",
       "}\r\n",
       " \r\n",
       "package \"PrivateImportTest\" as E1  [[psysml:04be3c0a-f069-4f88-9dd0-1488cf078b60 ]]  {\r\n",
       "package \"P1\" as E2  [[psysml:2d8a57d2-00aa-4c24-bcf4-c6f0dba3a85a ]]  {\r\n",
       "rec def \"A\" as E3  << (B,green) >> [[psysml:8088eca0-f00f-4a1f-9db3-28df87f45186 ]] {\r\n",
       "}\r\n",
       "}\r\n",
       "package \"P2\" as E4  [[psysml:f5fce4b6-35f4-4f46-9b6d-d151b55baece ]]  {\r\n",
       "}\r\n",
       "rec usage \"x: A\" as E5  [[psysml:43785f75-2189-42e8-ba89-9f38d7235e69 ]] {\r\n",
       "}\r\n",
       "package \"P3\" as E6  [[psysml:0a65db1a-6ec3-4140-b73e-0c5567d9dbea ]]  {\r\n",
       "rec def \"B\" as E7  << (B,green) >> [[psysml:a9488239-9884-4bc6-98b3-04bdbcc46eca ]] {\r\n",
       "}\r\n",
       "}\r\n",
       "rec usage \"z: B\" as E8  [[psysml:ceec508b-c3a9-4167-8e78-7da3e35ca489 ]] {\r\n",
       "}\r\n",
       "}\r\n",
       "@enduml\r\n",
       "\n",
       "PlantUML version 1.2020.13(Sat Jun 13 12:26:38 UTC 2020)\n",
       "(EPL source distribution)\n",
       "Java Runtime: OpenJDK Runtime Environment\n",
       "JVM: OpenJDK 64-Bit Server VM\n",
       "Default Encoding: UTF-8\n",
       "Language: en\n",
       "Country: null\n",
       "--></g></svg>"
      ]
     },
     "execution_count": 33,
     "metadata": {},
     "output_type": "execute_result"
    }
   ],
   "source": [
    "%viz --style=\"PLANTUML\" --view=\"Interconnection\" \"PrivateImportTest\""
   ]
  },
  {
   "cell_type": "code",
   "execution_count": 34,
   "id": "hybrid-scheme",
   "metadata": {
    "execution": {
     "iopub.execute_input": "2021-03-25T14:10:41.054340Z",
     "iopub.status.busy": "2021-03-25T14:10:41.053757Z",
     "iopub.status.idle": "2021-03-25T14:10:41.059191Z",
     "shell.execute_reply": "2021-03-25T14:10:41.058556Z"
    }
   },
   "outputs": [
    {
     "data": {
      "image/svg+xml": [
       "<?xml version=\"1.0\" encoding=\"UTF-8\" standalone=\"no\"?><svg xmlns=\"http://www.w3.org/2000/svg\" xmlns:xlink=\"http://www.w3.org/1999/xlink\" contentScriptType=\"application/ecmascript\" contentStyleType=\"text/css\" height=\"12px\" preserveAspectRatio=\"none\" style=\"width:12px;height:12px;\" version=\"1.1\" viewBox=\"0 0 12 12\" width=\"12px\" zoomAndPan=\"magnify\"><defs/><g><!--MD5=[6a4cb978cab31700e1ce5529f947a75d]\n",
       "@startuml\r\n",
       "skinparam ranksep 8\r\n",
       " \r\n",
       "@enduml\r\n",
       "\n",
       "PlantUML version 1.2020.13(Sat Jun 13 12:26:38 UTC 2020)\n",
       "(EPL source distribution)\n",
       "Java Runtime: OpenJDK Runtime Environment\n",
       "JVM: OpenJDK 64-Bit Server VM\n",
       "Default Encoding: UTF-8\n",
       "Language: en\n",
       "Country: null\n",
       "--></g></svg>"
      ]
     },
     "execution_count": 34,
     "metadata": {},
     "output_type": "execute_result"
    }
   ],
   "source": [
    "%viz --style=\"PLANTUML\" --view=\"Action\" \"PrivateImportTest\""
   ]
  },
  {
   "cell_type": "code",
   "execution_count": 35,
   "id": "dominant-desperate",
   "metadata": {
    "execution": {
     "iopub.execute_input": "2021-03-25T14:10:41.110330Z",
     "iopub.status.busy": "2021-03-25T14:10:41.109648Z",
     "iopub.status.idle": "2021-03-25T14:10:41.164105Z",
     "shell.execute_reply": "2021-03-25T14:10:41.162547Z"
    }
   },
   "outputs": [
    {
     "data": {
      "image/svg+xml": [
       "<?xml version=\"1.0\" encoding=\"UTF-8\" standalone=\"no\"?><svg xmlns=\"http://www.w3.org/2000/svg\" xmlns:xlink=\"http://www.w3.org/1999/xlink\" contentScriptType=\"application/ecmascript\" contentStyleType=\"text/css\" height=\"246px\" preserveAspectRatio=\"none\" style=\"width:316px;height:246px;\" version=\"1.1\" viewBox=\"0 0 316 246\" width=\"316px\" zoomAndPan=\"magnify\"><defs><filter height=\"300%\" id=\"f1e7pvwgzb5rj2\" width=\"300%\" x=\"-1\" y=\"-1\"><feGaussianBlur result=\"blurOut\" stdDeviation=\"2.0\"/><feColorMatrix in=\"blurOut\" result=\"blurOut2\" type=\"matrix\" values=\"0 0 0 0 0 0 0 0 0 0 0 0 0 0 0 0 0 0 .4 0\"/><feOffset dx=\"4.0\" dy=\"4.0\" in=\"blurOut2\" result=\"blurOut3\"/><feBlend in=\"SourceGraphic\" in2=\"blurOut3\" mode=\"normal\"/></filter></defs><g><!--MD5=[fbc87193dbaf4d95561dea2c320d4a47]\n",
       "cluster E1--><a href=\"psysml:04be3c0a-f069-4f88-9dd0-1488cf078b60\" target=\"_top\" title=\"psysml:04be3c0a-f069-4f88-9dd0-1488cf078b60\" xlink:actuate=\"onRequest\" xlink:href=\"psysml:04be3c0a-f069-4f88-9dd0-1488cf078b60\" xlink:show=\"new\" xlink:title=\"psysml:04be3c0a-f069-4f88-9dd0-1488cf078b60\" xlink:type=\"simple\"><polygon fill=\"#FFFFFF\" filter=\"url(#f1e7pvwgzb5rj2)\" points=\"16,6,163,6,170,28.2969,294,28.2969,294,234,16,234,16,6\" style=\"stroke: #000000; stroke-width: 1.5;\"/><line style=\"stroke: #000000; stroke-width: 1.5;\" x1=\"16\" x2=\"170\" y1=\"28.2969\" y2=\"28.2969\"/><text fill=\"#000000\" font-family=\"sans-serif\" font-size=\"14\" font-weight=\"bold\" lengthAdjust=\"spacingAndGlyphs\" textLength=\"141\" x=\"20\" y=\"20.9951\">PrivateImportTest</text></a><!--MD5=[e4f7fae6ed58524ba242bb0b0d3be6b7]\n",
       "cluster E2--><a href=\"psysml:2d8a57d2-00aa-4c24-bcf4-c6f0dba3a85a\" target=\"_top\" title=\"psysml:2d8a57d2-00aa-4c24-bcf4-c6f0dba3a85a\" xlink:actuate=\"onRequest\" xlink:href=\"psysml:2d8a57d2-00aa-4c24-bcf4-c6f0dba3a85a\" xlink:show=\"new\" xlink:title=\"psysml:2d8a57d2-00aa-4c24-bcf4-c6f0dba3a85a\" xlink:type=\"simple\"><polygon fill=\"#FFFFFF\" filter=\"url(#f1e7pvwgzb5rj2)\" points=\"198,119,224,119,231,141.2969,270,141.2969,270,210,198,210,198,119\" style=\"stroke: #000000; stroke-width: 1.5;\"/><line style=\"stroke: #000000; stroke-width: 1.5;\" x1=\"198\" x2=\"231\" y1=\"141.2969\" y2=\"141.2969\"/><text fill=\"#000000\" font-family=\"sans-serif\" font-size=\"14\" font-weight=\"bold\" lengthAdjust=\"spacingAndGlyphs\" textLength=\"20\" x=\"202\" y=\"133.9951\">P1</text></a><!--MD5=[14e3b0961a2654348d326746436168a1]\n",
       "cluster E6--><a href=\"psysml:0a65db1a-6ec3-4140-b73e-0c5567d9dbea\" target=\"_top\" title=\"psysml:0a65db1a-6ec3-4140-b73e-0c5567d9dbea\" xlink:actuate=\"onRequest\" xlink:href=\"psysml:0a65db1a-6ec3-4140-b73e-0c5567d9dbea\" xlink:show=\"new\" xlink:title=\"psysml:0a65db1a-6ec3-4140-b73e-0c5567d9dbea\" xlink:type=\"simple\"><polygon fill=\"#FFFFFF\" filter=\"url(#f1e7pvwgzb5rj2)\" points=\"102,119,128,119,135,141.2969,174,141.2969,174,210,102,210,102,119\" style=\"stroke: #000000; stroke-width: 1.5;\"/><line style=\"stroke: #000000; stroke-width: 1.5;\" x1=\"102\" x2=\"135\" y1=\"141.2969\" y2=\"141.2969\"/><text fill=\"#000000\" font-family=\"sans-serif\" font-size=\"14\" font-weight=\"bold\" lengthAdjust=\"spacingAndGlyphs\" textLength=\"20\" x=\"106\" y=\"133.9951\">P3</text></a><!--MD5=[270fce915f116d4de14055a7c1d9a0f3]\n",
       "class E5--><a href=\"psysml:43785f75-2189-42e8-ba89-9f38d7235e69\" target=\"_top\" title=\"psysml:43785f75-2189-42e8-ba89-9f38d7235e69\" xlink:actuate=\"onRequest\" xlink:href=\"psysml:43785f75-2189-42e8-ba89-9f38d7235e69\" xlink:show=\"new\" xlink:title=\"psysml:43785f75-2189-42e8-ba89-9f38d7235e69\" xlink:type=\"simple\"><rect fill=\"#FEFECE\" filter=\"url(#f1e7pvwgzb5rj2)\" height=\"45.9375\" id=\"E5\" rx=\"10\" ry=\"10\" style=\"stroke: #A80036; stroke-width: 1.5;\" width=\"68\" x=\"210\" y=\"44.5\"/><ellipse cx=\"225\" cy=\"63.4688\" fill=\"#32CD32\" rx=\"11\" ry=\"11\" style=\"stroke: #A80036; stroke-width: 1.0;\"/><path d=\"M224.7969,59.1406 L224.7969,62.7656 L225.7969,62.7656 Q227,62.7656 227.4844,62.3594 Q227.9688,61.9531 227.9688,60.9531 Q227.9688,59.9531 227.4844,59.5469 Q227,59.1406 225.7969,59.1406 L224.7969,59.1406 Z M222.3438,57.0781 L225.7031,57.0781 Q228.2656,57.0781 229.3906,58 Q230.5156,58.9063 230.5156,60.9531 Q230.5156,63 229.3906,63.9219 Q228.2656,64.8281 225.7031,64.8281 L224.7969,64.8281 L224.7969,69.4688 L222.3438,69.4688 L222.3438,57.0781 Z \"/><text fill=\"#000000\" font-family=\"sans-serif\" font-size=\"12\" font-style=\"italic\" lengthAdjust=\"spacingAndGlyphs\" textLength=\"40\" x=\"237\" y=\"60.6387\">«part»</text><text fill=\"#000000\" font-family=\"sans-serif\" font-size=\"12\" lengthAdjust=\"spacingAndGlyphs\" textLength=\"22\" x=\"246\" y=\"74.6074\">x: A</text><line style=\"stroke: #A80036; stroke-width: 1.5;\" x1=\"211\" x2=\"277\" y1=\"82.4375\" y2=\"82.4375\"/></a><!--MD5=[b9389687b975829384b498ac4b7476b2]\n",
       "class E8--><a href=\"psysml:ceec508b-c3a9-4167-8e78-7da3e35ca489\" target=\"_top\" title=\"psysml:ceec508b-c3a9-4167-8e78-7da3e35ca489\" xlink:actuate=\"onRequest\" xlink:href=\"psysml:ceec508b-c3a9-4167-8e78-7da3e35ca489\" xlink:show=\"new\" xlink:title=\"psysml:ceec508b-c3a9-4167-8e78-7da3e35ca489\" xlink:type=\"simple\"><rect fill=\"#FEFECE\" filter=\"url(#f1e7pvwgzb5rj2)\" height=\"45.9375\" id=\"E8\" rx=\"10\" ry=\"10\" style=\"stroke: #A80036; stroke-width: 1.5;\" width=\"68\" x=\"107\" y=\"44.5\"/><ellipse cx=\"122\" cy=\"63.4688\" fill=\"#32CD32\" rx=\"11\" ry=\"11\" style=\"stroke: #A80036; stroke-width: 1.0;\"/><path d=\"M121.7969,59.1406 L121.7969,62.7656 L122.7969,62.7656 Q124,62.7656 124.4844,62.3594 Q124.9688,61.9531 124.9688,60.9531 Q124.9688,59.9531 124.4844,59.5469 Q124,59.1406 122.7969,59.1406 L121.7969,59.1406 Z M119.3438,57.0781 L122.7031,57.0781 Q125.2656,57.0781 126.3906,58 Q127.5156,58.9063 127.5156,60.9531 Q127.5156,63 126.3906,63.9219 Q125.2656,64.8281 122.7031,64.8281 L121.7969,64.8281 L121.7969,69.4688 L119.3438,69.4688 L119.3438,57.0781 Z \"/><text fill=\"#000000\" font-family=\"sans-serif\" font-size=\"12\" font-style=\"italic\" lengthAdjust=\"spacingAndGlyphs\" textLength=\"40\" x=\"134\" y=\"60.6387\">«part»</text><text fill=\"#000000\" font-family=\"sans-serif\" font-size=\"12\" lengthAdjust=\"spacingAndGlyphs\" textLength=\"21\" x=\"143.5\" y=\"74.6074\">z: B</text><line style=\"stroke: #A80036; stroke-width: 1.5;\" x1=\"108\" x2=\"174\" y1=\"82.4375\" y2=\"82.4375\"/></a><!--MD5=[09b614a08d8cba4a07c9adeb5e0fee81]\n",
       "class E3--><a href=\"psysml:8088eca0-f00f-4a1f-9db3-28df87f45186\" target=\"_top\" title=\"psysml:8088eca0-f00f-4a1f-9db3-28df87f45186\" xlink:actuate=\"onRequest\" xlink:href=\"psysml:8088eca0-f00f-4a1f-9db3-28df87f45186\" xlink:show=\"new\" xlink:title=\"psysml:8088eca0-f00f-4a1f-9db3-28df87f45186\" xlink:type=\"simple\"><rect fill=\"#FEFECE\" filter=\"url(#f1e7pvwgzb5rj2)\" height=\"40\" id=\"E3\" style=\"stroke: #A80036; stroke-width: 1.5;\" width=\"40\" x=\"214\" y=\"154\"/><ellipse cx=\"229\" cy=\"170\" fill=\"#008000\" rx=\"11\" ry=\"11\" style=\"stroke: #A80036; stroke-width: 1.0;\"/><path d=\"M227.9063,170.375 L227.9063,174.0469 L229.5313,174.0469 Q230.7031,174.0469 231.1719,173.6563 Q231.6406,173.25 231.6406,172.25 Q231.6406,171.25 231.1406,170.8125 Q230.6563,170.375 229.5313,170.375 L227.9063,170.375 Z M227.9063,165.5469 L227.9063,168.4219 L229.5313,168.4219 Q230.4531,168.4219 230.8438,168.0938 Q231.25,167.75 231.25,167 Q231.25,166.2344 230.8438,165.8906 Q230.4375,165.5469 229.5313,165.5469 L227.9063,165.5469 Z M225.5313,163.5938 L229.5313,163.5938 Q231.5938,163.5938 232.6406,164.375 Q233.6875,165.1563 233.6875,166.7188 Q233.6875,167.9219 233.0625,168.5938 Q232.4531,169.2656 231.2656,169.375 Q232.6875,169.5156 233.4063,170.3281 Q234.125,171.1406 234.125,172.5938 Q234.125,174.3906 233.0469,175.2031 Q231.9688,176 229.5313,176 L225.5313,176 L225.5313,163.5938 Z \"/><text fill=\"#000000\" font-family=\"sans-serif\" font-size=\"12\" lengthAdjust=\"spacingAndGlyphs\" textLength=\"8\" x=\"243\" y=\"174.1543\">A</text><line style=\"stroke: #A80036; stroke-width: 1.5;\" x1=\"215\" x2=\"253\" y1=\"186\" y2=\"186\"/></a><a href=\"psysml:f5fce4b6-35f4-4f46-9b6d-d151b55baece\" target=\"_top\" title=\"psysml:f5fce4b6-35f4-4f46-9b6d-d151b55baece\" xlink:actuate=\"onRequest\" xlink:href=\"psysml:f5fce4b6-35f4-4f46-9b6d-d151b55baece\" xlink:show=\"new\" xlink:title=\"psysml:f5fce4b6-35f4-4f46-9b6d-d151b55baece\" xlink:type=\"simple\"><polygon fill=\"#FFFFFF\" filter=\"url(#f1e7pvwgzb5rj2)\" points=\"32,41,58,41,65,63.2969,72,63.2969,72,93.5938,32,93.5938,32,41\" style=\"stroke: #000000; stroke-width: 1.5;\"/><line style=\"stroke: #000000; stroke-width: 1.5;\" x1=\"32\" x2=\"65\" y1=\"63.2969\" y2=\"63.2969\"/><text fill=\"#000000\" font-family=\"sans-serif\" font-size=\"14\" font-weight=\"bold\" lengthAdjust=\"spacingAndGlyphs\" textLength=\"20\" x=\"36\" y=\"55.9951\">P2</text></a><!--MD5=[2156ba9850f5573cc1fc38a6a4b2f02b]\n",
       "class E7--><a href=\"psysml:a9488239-9884-4bc6-98b3-04bdbcc46eca\" target=\"_top\" title=\"psysml:a9488239-9884-4bc6-98b3-04bdbcc46eca\" xlink:actuate=\"onRequest\" xlink:href=\"psysml:a9488239-9884-4bc6-98b3-04bdbcc46eca\" xlink:show=\"new\" xlink:title=\"psysml:a9488239-9884-4bc6-98b3-04bdbcc46eca\" xlink:type=\"simple\"><rect fill=\"#FEFECE\" filter=\"url(#f1e7pvwgzb5rj2)\" height=\"40\" id=\"E7\" style=\"stroke: #A80036; stroke-width: 1.5;\" width=\"40\" x=\"118\" y=\"154\"/><ellipse cx=\"133\" cy=\"170\" fill=\"#008000\" rx=\"11\" ry=\"11\" style=\"stroke: #A80036; stroke-width: 1.0;\"/><path d=\"M131.9063,170.375 L131.9063,174.0469 L133.5313,174.0469 Q134.7031,174.0469 135.1719,173.6563 Q135.6406,173.25 135.6406,172.25 Q135.6406,171.25 135.1406,170.8125 Q134.6563,170.375 133.5313,170.375 L131.9063,170.375 Z M131.9063,165.5469 L131.9063,168.4219 L133.5313,168.4219 Q134.4531,168.4219 134.8438,168.0938 Q135.25,167.75 135.25,167 Q135.25,166.2344 134.8438,165.8906 Q134.4375,165.5469 133.5313,165.5469 L131.9063,165.5469 Z M129.5313,163.5938 L133.5313,163.5938 Q135.5938,163.5938 136.6406,164.375 Q137.6875,165.1563 137.6875,166.7188 Q137.6875,167.9219 137.0625,168.5938 Q136.4531,169.2656 135.2656,169.375 Q136.6875,169.5156 137.4063,170.3281 Q138.125,171.1406 138.125,172.5938 Q138.125,174.3906 137.0469,175.2031 Q135.9688,176 133.5313,176 L129.5313,176 L129.5313,163.5938 Z \"/><text fill=\"#000000\" font-family=\"sans-serif\" font-size=\"12\" lengthAdjust=\"spacingAndGlyphs\" textLength=\"8\" x=\"147\" y=\"174.1543\">B</text><line style=\"stroke: #A80036; stroke-width: 1.5;\" x1=\"119\" x2=\"157\" y1=\"186\" y2=\"186\"/></a><!--MD5=[e9be52314489bd878ff4c7144b63c9e1]\n",
       "link E5 to E3--><a href=\"psysml:25d642ee-de35-43b5-ac2f-29504efb7d68\" target=\"_top\" title=\"psysml:25d642ee-de35-43b5-ac2f-29504efb7d68\" xlink:actuate=\"onRequest\" xlink:href=\"psysml:25d642ee-de35-43b5-ac2f-29504efb7d68\" xlink:show=\"new\" xlink:title=\"psysml:25d642ee-de35-43b5-ac2f-29504efb7d68\" xlink:type=\"simple\"><path d=\"M241.88,90.66 C240.68,103.15 239.16,119.11 237.77,133.65 \" fill=\"none\" id=\"E5-&gt;E3\" style=\"stroke: #A80036; stroke-width: 1.0;\"/><polygon fill=\"#FFFFFF\" points=\"235.85,153.68,230.7015,134.097,244.6371,135.4376,235.85,153.68\" style=\"stroke: #A80036; stroke-width: 1.0;\"/><ellipse cx=\"233.2381\" cy=\"128.6147\" fill=\"#A80036\" rx=\"2\" ry=\"2\" style=\"stroke: #A80036; stroke-width: 1.0;\"/><ellipse cx=\"243.1921\" cy=\"129.5723\" fill=\"#A80036\" rx=\"2\" ry=\"2\" style=\"stroke: #A80036; stroke-width: 1.0;\"/></a><!--MD5=[bfa3c8b0d15052fdf50ae9310b491027]\n",
       "link E8 to E7--><a href=\"psysml:d89216b2-7e18-408a-b614-d8caef1c47ec\" target=\"_top\" title=\"psysml:d89216b2-7e18-408a-b614-d8caef1c47ec\" xlink:actuate=\"onRequest\" xlink:href=\"psysml:d89216b2-7e18-408a-b614-d8caef1c47ec\" xlink:show=\"new\" xlink:title=\"psysml:d89216b2-7e18-408a-b614-d8caef1c47ec\" xlink:type=\"simple\"><path d=\"M140.36,90.66 C140.01,103.15 139.55,119.11 139.13,133.65 \" fill=\"none\" id=\"E8-&gt;E7\" style=\"stroke: #A80036; stroke-width: 1.0;\"/><polygon fill=\"#FFFFFF\" points=\"138.55,153.68,132.0955,134.4878,146.0898,134.8877,138.55,153.68\" style=\"stroke: #A80036; stroke-width: 1.0;\"/><ellipse cx=\"134.2575\" cy=\"128.8473\" fill=\"#A80036\" rx=\"2\" ry=\"2\" style=\"stroke: #A80036; stroke-width: 1.0;\"/><ellipse cx=\"144.2534\" cy=\"129.1329\" fill=\"#A80036\" rx=\"2\" ry=\"2\" style=\"stroke: #A80036; stroke-width: 1.0;\"/></a><!--MD5=[41306c24305e0539a6c823b982bcd3e3]\n",
       "@startuml\r\n",
       " \r\n",
       "package \"PrivateImportTest\" as E1  [[psysml:04be3c0a-f069-4f88-9dd0-1488cf078b60 ]]  {\r\n",
       "package \"P1\" as E2  [[psysml:2d8a57d2-00aa-4c24-bcf4-c6f0dba3a85a ]]  {\r\n",
       "comp def \"A\" as E3  << (B,green) >> [[psysml:8088eca0-f00f-4a1f-9db3-28df87f45186 ]] {\r\n",
       "}\r\n",
       "}\r\n",
       "package \"P2\" as E4  [[psysml:f5fce4b6-35f4-4f46-9b6d-d151b55baece ]]  {\r\n",
       "}\r\n",
       "comp usage \"x: A\" as E5  << (P,limegreen) part>> [[psysml:43785f75-2189-42e8-ba89-9f38d7235e69 ]] {\r\n",
       "}\r\n",
       "package \"P3\" as E6  [[psysml:0a65db1a-6ec3-4140-b73e-0c5567d9dbea ]]  {\r\n",
       "comp def \"B\" as E7  << (B,green) >> [[psysml:a9488239-9884-4bc6-98b3-04bdbcc46eca ]] {\r\n",
       "}\r\n",
       "E5 - -:|> E3 [[psysml:25d642ee-de35-43b5-ac2f-29504efb7d68 ]] \r\n",
       "}\r\n",
       "comp usage \"z: B\" as E8  << (P,limegreen) part>> [[psysml:ceec508b-c3a9-4167-8e78-7da3e35ca489 ]] {\r\n",
       "}\r\n",
       "E8 - -:|> E7 [[psysml:d89216b2-7e18-408a-b614-d8caef1c47ec ]] \r\n",
       "}\r\n",
       "@enduml\r\n",
       "\n",
       "PlantUML version 1.2020.13(Sat Jun 13 12:26:38 UTC 2020)\n",
       "(EPL source distribution)\n",
       "Java Runtime: OpenJDK Runtime Environment\n",
       "JVM: OpenJDK 64-Bit Server VM\n",
       "Default Encoding: UTF-8\n",
       "Language: en\n",
       "Country: null\n",
       "--></g></svg>"
      ]
     },
     "execution_count": 35,
     "metadata": {},
     "output_type": "execute_result"
    }
   ],
   "source": [
    "%viz --style=\"PLANTUML\" --view=\"Sequence\" \"PrivateImportTest\""
   ]
  },
  {
   "cell_type": "code",
   "execution_count": 36,
   "id": "embedded-enclosure",
   "metadata": {
    "execution": {
     "iopub.execute_input": "2021-03-25T14:10:41.215655Z",
     "iopub.status.busy": "2021-03-25T14:10:41.215033Z",
     "iopub.status.idle": "2021-03-25T14:10:41.271112Z",
     "shell.execute_reply": "2021-03-25T14:10:41.269708Z"
    }
   },
   "outputs": [
    {
     "data": {
      "image/svg+xml": [
       "<?xml version=\"1.0\" encoding=\"UTF-8\" standalone=\"no\"?><svg xmlns=\"http://www.w3.org/2000/svg\" xmlns:xlink=\"http://www.w3.org/1999/xlink\" contentScriptType=\"application/ecmascript\" contentStyleType=\"text/css\" height=\"246px\" preserveAspectRatio=\"none\" style=\"width:316px;height:246px;\" version=\"1.1\" viewBox=\"0 0 316 246\" width=\"316px\" zoomAndPan=\"magnify\"><defs><filter height=\"300%\" id=\"f1e7pvwgzb5rj2\" width=\"300%\" x=\"-1\" y=\"-1\"><feGaussianBlur result=\"blurOut\" stdDeviation=\"2.0\"/><feColorMatrix in=\"blurOut\" result=\"blurOut2\" type=\"matrix\" values=\"0 0 0 0 0 0 0 0 0 0 0 0 0 0 0 0 0 0 .4 0\"/><feOffset dx=\"4.0\" dy=\"4.0\" in=\"blurOut2\" result=\"blurOut3\"/><feBlend in=\"SourceGraphic\" in2=\"blurOut3\" mode=\"normal\"/></filter></defs><g><!--MD5=[fbc87193dbaf4d95561dea2c320d4a47]\n",
       "cluster E1--><a href=\"psysml:04be3c0a-f069-4f88-9dd0-1488cf078b60\" target=\"_top\" title=\"psysml:04be3c0a-f069-4f88-9dd0-1488cf078b60\" xlink:actuate=\"onRequest\" xlink:href=\"psysml:04be3c0a-f069-4f88-9dd0-1488cf078b60\" xlink:show=\"new\" xlink:title=\"psysml:04be3c0a-f069-4f88-9dd0-1488cf078b60\" xlink:type=\"simple\"><polygon fill=\"#FFFFFF\" filter=\"url(#f1e7pvwgzb5rj2)\" points=\"16,6,163,6,170,28.2969,294,28.2969,294,234,16,234,16,6\" style=\"stroke: #000000; stroke-width: 1.5;\"/><line style=\"stroke: #000000; stroke-width: 1.5;\" x1=\"16\" x2=\"170\" y1=\"28.2969\" y2=\"28.2969\"/><text fill=\"#000000\" font-family=\"sans-serif\" font-size=\"14\" font-weight=\"bold\" lengthAdjust=\"spacingAndGlyphs\" textLength=\"141\" x=\"20\" y=\"20.9951\">PrivateImportTest</text></a><!--MD5=[e4f7fae6ed58524ba242bb0b0d3be6b7]\n",
       "cluster E2--><a href=\"psysml:2d8a57d2-00aa-4c24-bcf4-c6f0dba3a85a\" target=\"_top\" title=\"psysml:2d8a57d2-00aa-4c24-bcf4-c6f0dba3a85a\" xlink:actuate=\"onRequest\" xlink:href=\"psysml:2d8a57d2-00aa-4c24-bcf4-c6f0dba3a85a\" xlink:show=\"new\" xlink:title=\"psysml:2d8a57d2-00aa-4c24-bcf4-c6f0dba3a85a\" xlink:type=\"simple\"><polygon fill=\"#FFFFFF\" filter=\"url(#f1e7pvwgzb5rj2)\" points=\"198,119,224,119,231,141.2969,270,141.2969,270,210,198,210,198,119\" style=\"stroke: #000000; stroke-width: 1.5;\"/><line style=\"stroke: #000000; stroke-width: 1.5;\" x1=\"198\" x2=\"231\" y1=\"141.2969\" y2=\"141.2969\"/><text fill=\"#000000\" font-family=\"sans-serif\" font-size=\"14\" font-weight=\"bold\" lengthAdjust=\"spacingAndGlyphs\" textLength=\"20\" x=\"202\" y=\"133.9951\">P1</text></a><!--MD5=[14e3b0961a2654348d326746436168a1]\n",
       "cluster E6--><a href=\"psysml:0a65db1a-6ec3-4140-b73e-0c5567d9dbea\" target=\"_top\" title=\"psysml:0a65db1a-6ec3-4140-b73e-0c5567d9dbea\" xlink:actuate=\"onRequest\" xlink:href=\"psysml:0a65db1a-6ec3-4140-b73e-0c5567d9dbea\" xlink:show=\"new\" xlink:title=\"psysml:0a65db1a-6ec3-4140-b73e-0c5567d9dbea\" xlink:type=\"simple\"><polygon fill=\"#FFFFFF\" filter=\"url(#f1e7pvwgzb5rj2)\" points=\"102,119,128,119,135,141.2969,174,141.2969,174,210,102,210,102,119\" style=\"stroke: #000000; stroke-width: 1.5;\"/><line style=\"stroke: #000000; stroke-width: 1.5;\" x1=\"102\" x2=\"135\" y1=\"141.2969\" y2=\"141.2969\"/><text fill=\"#000000\" font-family=\"sans-serif\" font-size=\"14\" font-weight=\"bold\" lengthAdjust=\"spacingAndGlyphs\" textLength=\"20\" x=\"106\" y=\"133.9951\">P3</text></a><!--MD5=[270fce915f116d4de14055a7c1d9a0f3]\n",
       "class E5--><a href=\"psysml:43785f75-2189-42e8-ba89-9f38d7235e69\" target=\"_top\" title=\"psysml:43785f75-2189-42e8-ba89-9f38d7235e69\" xlink:actuate=\"onRequest\" xlink:href=\"psysml:43785f75-2189-42e8-ba89-9f38d7235e69\" xlink:show=\"new\" xlink:title=\"psysml:43785f75-2189-42e8-ba89-9f38d7235e69\" xlink:type=\"simple\"><rect fill=\"#FEFECE\" filter=\"url(#f1e7pvwgzb5rj2)\" height=\"45.9375\" id=\"E5\" rx=\"10\" ry=\"10\" style=\"stroke: #A80036; stroke-width: 1.5;\" width=\"68\" x=\"210\" y=\"44.5\"/><ellipse cx=\"225\" cy=\"63.4688\" fill=\"#32CD32\" rx=\"11\" ry=\"11\" style=\"stroke: #A80036; stroke-width: 1.0;\"/><path d=\"M224.7969,59.1406 L224.7969,62.7656 L225.7969,62.7656 Q227,62.7656 227.4844,62.3594 Q227.9688,61.9531 227.9688,60.9531 Q227.9688,59.9531 227.4844,59.5469 Q227,59.1406 225.7969,59.1406 L224.7969,59.1406 Z M222.3438,57.0781 L225.7031,57.0781 Q228.2656,57.0781 229.3906,58 Q230.5156,58.9063 230.5156,60.9531 Q230.5156,63 229.3906,63.9219 Q228.2656,64.8281 225.7031,64.8281 L224.7969,64.8281 L224.7969,69.4688 L222.3438,69.4688 L222.3438,57.0781 Z \"/><text fill=\"#000000\" font-family=\"sans-serif\" font-size=\"12\" font-style=\"italic\" lengthAdjust=\"spacingAndGlyphs\" textLength=\"40\" x=\"237\" y=\"60.6387\">«part»</text><text fill=\"#000000\" font-family=\"sans-serif\" font-size=\"12\" lengthAdjust=\"spacingAndGlyphs\" textLength=\"22\" x=\"246\" y=\"74.6074\">x: A</text><line style=\"stroke: #A80036; stroke-width: 1.5;\" x1=\"211\" x2=\"277\" y1=\"82.4375\" y2=\"82.4375\"/></a><!--MD5=[b9389687b975829384b498ac4b7476b2]\n",
       "class E8--><a href=\"psysml:ceec508b-c3a9-4167-8e78-7da3e35ca489\" target=\"_top\" title=\"psysml:ceec508b-c3a9-4167-8e78-7da3e35ca489\" xlink:actuate=\"onRequest\" xlink:href=\"psysml:ceec508b-c3a9-4167-8e78-7da3e35ca489\" xlink:show=\"new\" xlink:title=\"psysml:ceec508b-c3a9-4167-8e78-7da3e35ca489\" xlink:type=\"simple\"><rect fill=\"#FEFECE\" filter=\"url(#f1e7pvwgzb5rj2)\" height=\"45.9375\" id=\"E8\" rx=\"10\" ry=\"10\" style=\"stroke: #A80036; stroke-width: 1.5;\" width=\"68\" x=\"107\" y=\"44.5\"/><ellipse cx=\"122\" cy=\"63.4688\" fill=\"#32CD32\" rx=\"11\" ry=\"11\" style=\"stroke: #A80036; stroke-width: 1.0;\"/><path d=\"M121.7969,59.1406 L121.7969,62.7656 L122.7969,62.7656 Q124,62.7656 124.4844,62.3594 Q124.9688,61.9531 124.9688,60.9531 Q124.9688,59.9531 124.4844,59.5469 Q124,59.1406 122.7969,59.1406 L121.7969,59.1406 Z M119.3438,57.0781 L122.7031,57.0781 Q125.2656,57.0781 126.3906,58 Q127.5156,58.9063 127.5156,60.9531 Q127.5156,63 126.3906,63.9219 Q125.2656,64.8281 122.7031,64.8281 L121.7969,64.8281 L121.7969,69.4688 L119.3438,69.4688 L119.3438,57.0781 Z \"/><text fill=\"#000000\" font-family=\"sans-serif\" font-size=\"12\" font-style=\"italic\" lengthAdjust=\"spacingAndGlyphs\" textLength=\"40\" x=\"134\" y=\"60.6387\">«part»</text><text fill=\"#000000\" font-family=\"sans-serif\" font-size=\"12\" lengthAdjust=\"spacingAndGlyphs\" textLength=\"21\" x=\"143.5\" y=\"74.6074\">z: B</text><line style=\"stroke: #A80036; stroke-width: 1.5;\" x1=\"108\" x2=\"174\" y1=\"82.4375\" y2=\"82.4375\"/></a><!--MD5=[09b614a08d8cba4a07c9adeb5e0fee81]\n",
       "class E3--><a href=\"psysml:8088eca0-f00f-4a1f-9db3-28df87f45186\" target=\"_top\" title=\"psysml:8088eca0-f00f-4a1f-9db3-28df87f45186\" xlink:actuate=\"onRequest\" xlink:href=\"psysml:8088eca0-f00f-4a1f-9db3-28df87f45186\" xlink:show=\"new\" xlink:title=\"psysml:8088eca0-f00f-4a1f-9db3-28df87f45186\" xlink:type=\"simple\"><rect fill=\"#FEFECE\" filter=\"url(#f1e7pvwgzb5rj2)\" height=\"40\" id=\"E3\" style=\"stroke: #A80036; stroke-width: 1.5;\" width=\"40\" x=\"214\" y=\"154\"/><ellipse cx=\"229\" cy=\"170\" fill=\"#008000\" rx=\"11\" ry=\"11\" style=\"stroke: #A80036; stroke-width: 1.0;\"/><path d=\"M227.9063,170.375 L227.9063,174.0469 L229.5313,174.0469 Q230.7031,174.0469 231.1719,173.6563 Q231.6406,173.25 231.6406,172.25 Q231.6406,171.25 231.1406,170.8125 Q230.6563,170.375 229.5313,170.375 L227.9063,170.375 Z M227.9063,165.5469 L227.9063,168.4219 L229.5313,168.4219 Q230.4531,168.4219 230.8438,168.0938 Q231.25,167.75 231.25,167 Q231.25,166.2344 230.8438,165.8906 Q230.4375,165.5469 229.5313,165.5469 L227.9063,165.5469 Z M225.5313,163.5938 L229.5313,163.5938 Q231.5938,163.5938 232.6406,164.375 Q233.6875,165.1563 233.6875,166.7188 Q233.6875,167.9219 233.0625,168.5938 Q232.4531,169.2656 231.2656,169.375 Q232.6875,169.5156 233.4063,170.3281 Q234.125,171.1406 234.125,172.5938 Q234.125,174.3906 233.0469,175.2031 Q231.9688,176 229.5313,176 L225.5313,176 L225.5313,163.5938 Z \"/><text fill=\"#000000\" font-family=\"sans-serif\" font-size=\"12\" lengthAdjust=\"spacingAndGlyphs\" textLength=\"8\" x=\"243\" y=\"174.1543\">A</text><line style=\"stroke: #A80036; stroke-width: 1.5;\" x1=\"215\" x2=\"253\" y1=\"186\" y2=\"186\"/></a><a href=\"psysml:f5fce4b6-35f4-4f46-9b6d-d151b55baece\" target=\"_top\" title=\"psysml:f5fce4b6-35f4-4f46-9b6d-d151b55baece\" xlink:actuate=\"onRequest\" xlink:href=\"psysml:f5fce4b6-35f4-4f46-9b6d-d151b55baece\" xlink:show=\"new\" xlink:title=\"psysml:f5fce4b6-35f4-4f46-9b6d-d151b55baece\" xlink:type=\"simple\"><polygon fill=\"#FFFFFF\" filter=\"url(#f1e7pvwgzb5rj2)\" points=\"32,41,58,41,65,63.2969,72,63.2969,72,93.5938,32,93.5938,32,41\" style=\"stroke: #000000; stroke-width: 1.5;\"/><line style=\"stroke: #000000; stroke-width: 1.5;\" x1=\"32\" x2=\"65\" y1=\"63.2969\" y2=\"63.2969\"/><text fill=\"#000000\" font-family=\"sans-serif\" font-size=\"14\" font-weight=\"bold\" lengthAdjust=\"spacingAndGlyphs\" textLength=\"20\" x=\"36\" y=\"55.9951\">P2</text></a><!--MD5=[2156ba9850f5573cc1fc38a6a4b2f02b]\n",
       "class E7--><a href=\"psysml:a9488239-9884-4bc6-98b3-04bdbcc46eca\" target=\"_top\" title=\"psysml:a9488239-9884-4bc6-98b3-04bdbcc46eca\" xlink:actuate=\"onRequest\" xlink:href=\"psysml:a9488239-9884-4bc6-98b3-04bdbcc46eca\" xlink:show=\"new\" xlink:title=\"psysml:a9488239-9884-4bc6-98b3-04bdbcc46eca\" xlink:type=\"simple\"><rect fill=\"#FEFECE\" filter=\"url(#f1e7pvwgzb5rj2)\" height=\"40\" id=\"E7\" style=\"stroke: #A80036; stroke-width: 1.5;\" width=\"40\" x=\"118\" y=\"154\"/><ellipse cx=\"133\" cy=\"170\" fill=\"#008000\" rx=\"11\" ry=\"11\" style=\"stroke: #A80036; stroke-width: 1.0;\"/><path d=\"M131.9063,170.375 L131.9063,174.0469 L133.5313,174.0469 Q134.7031,174.0469 135.1719,173.6563 Q135.6406,173.25 135.6406,172.25 Q135.6406,171.25 135.1406,170.8125 Q134.6563,170.375 133.5313,170.375 L131.9063,170.375 Z M131.9063,165.5469 L131.9063,168.4219 L133.5313,168.4219 Q134.4531,168.4219 134.8438,168.0938 Q135.25,167.75 135.25,167 Q135.25,166.2344 134.8438,165.8906 Q134.4375,165.5469 133.5313,165.5469 L131.9063,165.5469 Z M129.5313,163.5938 L133.5313,163.5938 Q135.5938,163.5938 136.6406,164.375 Q137.6875,165.1563 137.6875,166.7188 Q137.6875,167.9219 137.0625,168.5938 Q136.4531,169.2656 135.2656,169.375 Q136.6875,169.5156 137.4063,170.3281 Q138.125,171.1406 138.125,172.5938 Q138.125,174.3906 137.0469,175.2031 Q135.9688,176 133.5313,176 L129.5313,176 L129.5313,163.5938 Z \"/><text fill=\"#000000\" font-family=\"sans-serif\" font-size=\"12\" lengthAdjust=\"spacingAndGlyphs\" textLength=\"8\" x=\"147\" y=\"174.1543\">B</text><line style=\"stroke: #A80036; stroke-width: 1.5;\" x1=\"119\" x2=\"157\" y1=\"186\" y2=\"186\"/></a><!--MD5=[e9be52314489bd878ff4c7144b63c9e1]\n",
       "link E5 to E3--><a href=\"psysml:25d642ee-de35-43b5-ac2f-29504efb7d68\" target=\"_top\" title=\"psysml:25d642ee-de35-43b5-ac2f-29504efb7d68\" xlink:actuate=\"onRequest\" xlink:href=\"psysml:25d642ee-de35-43b5-ac2f-29504efb7d68\" xlink:show=\"new\" xlink:title=\"psysml:25d642ee-de35-43b5-ac2f-29504efb7d68\" xlink:type=\"simple\"><path d=\"M241.88,90.66 C240.68,103.15 239.16,119.11 237.77,133.65 \" fill=\"none\" id=\"E5-&gt;E3\" style=\"stroke: #A80036; stroke-width: 1.0;\"/><polygon fill=\"#FFFFFF\" points=\"235.85,153.68,230.7015,134.097,244.6371,135.4376,235.85,153.68\" style=\"stroke: #A80036; stroke-width: 1.0;\"/><ellipse cx=\"233.2381\" cy=\"128.6147\" fill=\"#A80036\" rx=\"2\" ry=\"2\" style=\"stroke: #A80036; stroke-width: 1.0;\"/><ellipse cx=\"243.1921\" cy=\"129.5723\" fill=\"#A80036\" rx=\"2\" ry=\"2\" style=\"stroke: #A80036; stroke-width: 1.0;\"/></a><!--MD5=[bfa3c8b0d15052fdf50ae9310b491027]\n",
       "link E8 to E7--><a href=\"psysml:d89216b2-7e18-408a-b614-d8caef1c47ec\" target=\"_top\" title=\"psysml:d89216b2-7e18-408a-b614-d8caef1c47ec\" xlink:actuate=\"onRequest\" xlink:href=\"psysml:d89216b2-7e18-408a-b614-d8caef1c47ec\" xlink:show=\"new\" xlink:title=\"psysml:d89216b2-7e18-408a-b614-d8caef1c47ec\" xlink:type=\"simple\"><path d=\"M140.36,90.66 C140.01,103.15 139.55,119.11 139.13,133.65 \" fill=\"none\" id=\"E8-&gt;E7\" style=\"stroke: #A80036; stroke-width: 1.0;\"/><polygon fill=\"#FFFFFF\" points=\"138.55,153.68,132.0955,134.4878,146.0898,134.8877,138.55,153.68\" style=\"stroke: #A80036; stroke-width: 1.0;\"/><ellipse cx=\"134.2575\" cy=\"128.8473\" fill=\"#A80036\" rx=\"2\" ry=\"2\" style=\"stroke: #A80036; stroke-width: 1.0;\"/><ellipse cx=\"144.2534\" cy=\"129.1329\" fill=\"#A80036\" rx=\"2\" ry=\"2\" style=\"stroke: #A80036; stroke-width: 1.0;\"/></a><!--MD5=[41306c24305e0539a6c823b982bcd3e3]\n",
       "@startuml\r\n",
       " \r\n",
       "package \"PrivateImportTest\" as E1  [[psysml:04be3c0a-f069-4f88-9dd0-1488cf078b60 ]]  {\r\n",
       "package \"P1\" as E2  [[psysml:2d8a57d2-00aa-4c24-bcf4-c6f0dba3a85a ]]  {\r\n",
       "comp def \"A\" as E3  << (B,green) >> [[psysml:8088eca0-f00f-4a1f-9db3-28df87f45186 ]] {\r\n",
       "}\r\n",
       "}\r\n",
       "package \"P2\" as E4  [[psysml:f5fce4b6-35f4-4f46-9b6d-d151b55baece ]]  {\r\n",
       "}\r\n",
       "comp usage \"x: A\" as E5  << (P,limegreen) part>> [[psysml:43785f75-2189-42e8-ba89-9f38d7235e69 ]] {\r\n",
       "}\r\n",
       "package \"P3\" as E6  [[psysml:0a65db1a-6ec3-4140-b73e-0c5567d9dbea ]]  {\r\n",
       "comp def \"B\" as E7  << (B,green) >> [[psysml:a9488239-9884-4bc6-98b3-04bdbcc46eca ]] {\r\n",
       "}\r\n",
       "E5 - -:|> E3 [[psysml:25d642ee-de35-43b5-ac2f-29504efb7d68 ]] \r\n",
       "}\r\n",
       "comp usage \"z: B\" as E8  << (P,limegreen) part>> [[psysml:ceec508b-c3a9-4167-8e78-7da3e35ca489 ]] {\r\n",
       "}\r\n",
       "E8 - -:|> E7 [[psysml:d89216b2-7e18-408a-b614-d8caef1c47ec ]] \r\n",
       "}\r\n",
       "@enduml\r\n",
       "\n",
       "PlantUML version 1.2020.13(Sat Jun 13 12:26:38 UTC 2020)\n",
       "(EPL source distribution)\n",
       "Java Runtime: OpenJDK Runtime Environment\n",
       "JVM: OpenJDK 64-Bit Server VM\n",
       "Default Encoding: UTF-8\n",
       "Language: en\n",
       "Country: null\n",
       "--></g></svg>"
      ]
     },
     "execution_count": 36,
     "metadata": {},
     "output_type": "execute_result"
    }
   ],
   "source": [
    "%viz --style=\"PLANTUML\" --view=\"MIXED\" \"PrivateImportTest\""
   ]
  },
  {
   "cell_type": "code",
   "execution_count": 37,
   "id": "according-bradford",
   "metadata": {
    "execution": {
     "iopub.execute_input": "2021-03-25T14:10:41.324919Z",
     "iopub.status.busy": "2021-03-25T14:10:41.323915Z",
     "iopub.status.idle": "2021-03-25T14:10:41.391537Z",
     "shell.execute_reply": "2021-03-25T14:10:41.390034Z"
    }
   },
   "outputs": [
    {
     "data": {
      "image/svg+xml": [
       "<?xml version=\"1.0\" encoding=\"UTF-8\" standalone=\"no\"?><svg xmlns=\"http://www.w3.org/2000/svg\" xmlns:xlink=\"http://www.w3.org/1999/xlink\" contentScriptType=\"application/ecmascript\" contentStyleType=\"text/css\" height=\"252px\" preserveAspectRatio=\"none\" style=\"width:306px;height:252px;\" version=\"1.1\" viewBox=\"0 0 306 252\" width=\"306px\" zoomAndPan=\"magnify\"><defs/><g><!--MD5=[fbc87193dbaf4d95561dea2c320d4a47]\n",
       "cluster E1--><a href=\"psysml:04be3c0a-f069-4f88-9dd0-1488cf078b60\" target=\"_top\" title=\"psysml:04be3c0a-f069-4f88-9dd0-1488cf078b60\" xlink:actuate=\"onRequest\" xlink:href=\"psysml:04be3c0a-f069-4f88-9dd0-1488cf078b60\" xlink:show=\"new\" xlink:title=\"psysml:04be3c0a-f069-4f88-9dd0-1488cf078b60\" xlink:type=\"simple\"><polygon fill=\"#FFFFFF\" points=\"16,6,163,6,170,28.2969,284,28.2969,284,240,16,240,16,6\" style=\"stroke: #000000; stroke-width: 1.5;\"/><line style=\"stroke: #000000; stroke-width: 1.5;\" x1=\"16\" x2=\"170\" y1=\"28.2969\" y2=\"28.2969\"/><text fill=\"#000000\" font-family=\"sans-serif\" font-size=\"14\" font-weight=\"bold\" lengthAdjust=\"spacingAndGlyphs\" textLength=\"141\" x=\"20\" y=\"20.9951\">PrivateImportTest</text></a><!--MD5=[e4f7fae6ed58524ba242bb0b0d3be6b7]\n",
       "cluster E2--><a href=\"psysml:2d8a57d2-00aa-4c24-bcf4-c6f0dba3a85a\" target=\"_top\" title=\"psysml:2d8a57d2-00aa-4c24-bcf4-c6f0dba3a85a\" xlink:actuate=\"onRequest\" xlink:href=\"psysml:2d8a57d2-00aa-4c24-bcf4-c6f0dba3a85a\" xlink:show=\"new\" xlink:title=\"psysml:2d8a57d2-00aa-4c24-bcf4-c6f0dba3a85a\" xlink:type=\"simple\"><polygon fill=\"#FFFFFF\" points=\"162,119,188,119,195,141.2969,260,141.2969,260,216,162,216,162,119\" style=\"stroke: #000000; stroke-width: 1.5;\"/><line style=\"stroke: #000000; stroke-width: 1.5;\" x1=\"162\" x2=\"195\" y1=\"141.2969\" y2=\"141.2969\"/><text fill=\"#000000\" font-family=\"sans-serif\" font-size=\"14\" font-weight=\"bold\" lengthAdjust=\"spacingAndGlyphs\" textLength=\"20\" x=\"166\" y=\"133.9951\">P1</text></a><!--MD5=[14e3b0961a2654348d326746436168a1]\n",
       "cluster E6--><a href=\"psysml:0a65db1a-6ec3-4140-b73e-0c5567d9dbea\" target=\"_top\" title=\"psysml:0a65db1a-6ec3-4140-b73e-0c5567d9dbea\" xlink:actuate=\"onRequest\" xlink:href=\"psysml:0a65db1a-6ec3-4140-b73e-0c5567d9dbea\" xlink:show=\"new\" xlink:title=\"psysml:0a65db1a-6ec3-4140-b73e-0c5567d9dbea\" xlink:type=\"simple\"><polygon fill=\"#FFFFFF\" points=\"40,119,66,119,73,141.2969,138,141.2969,138,216,40,216,40,119\" style=\"stroke: #000000; stroke-width: 1.5;\"/><line style=\"stroke: #000000; stroke-width: 1.5;\" x1=\"40\" x2=\"73\" y1=\"141.2969\" y2=\"141.2969\"/><text fill=\"#000000\" font-family=\"sans-serif\" font-size=\"14\" font-weight=\"bold\" lengthAdjust=\"spacingAndGlyphs\" textLength=\"20\" x=\"44\" y=\"133.9951\">P3</text></a><!--MD5=[270fce915f116d4de14055a7c1d9a0f3]\n",
       "class E5--><a href=\"psysml:43785f75-2189-42e8-ba89-9f38d7235e69\" target=\"_top\" title=\"psysml:43785f75-2189-42e8-ba89-9f38d7235e69\" xlink:actuate=\"onRequest\" xlink:href=\"psysml:43785f75-2189-42e8-ba89-9f38d7235e69\" xlink:show=\"new\" xlink:title=\"psysml:43785f75-2189-42e8-ba89-9f38d7235e69\" xlink:type=\"simple\"><rect fill=\"#FFFFFF\" height=\"45.9375\" id=\"E5\" rx=\"10\" ry=\"10\" style=\"stroke: #383838; stroke-width: 1.5;\" width=\"42\" x=\"190\" y=\"44.5\"/><text fill=\"#000000\" font-family=\"sans-serif\" font-size=\"12\" font-style=\"italic\" lengthAdjust=\"spacingAndGlyphs\" textLength=\"40\" x=\"191\" y=\"60.6387\">«part»</text><text fill=\"#000000\" font-family=\"sans-serif\" font-size=\"12\" lengthAdjust=\"spacingAndGlyphs\" textLength=\"22\" x=\"200\" y=\"74.6074\">x: A</text><line style=\"stroke: #383838; stroke-width: 1.5;\" x1=\"191\" x2=\"231\" y1=\"82.4375\" y2=\"82.4375\"/></a><!--MD5=[b9389687b975829384b498ac4b7476b2]\n",
       "class E8--><a href=\"psysml:ceec508b-c3a9-4167-8e78-7da3e35ca489\" target=\"_top\" title=\"psysml:ceec508b-c3a9-4167-8e78-7da3e35ca489\" xlink:actuate=\"onRequest\" xlink:href=\"psysml:ceec508b-c3a9-4167-8e78-7da3e35ca489\" xlink:show=\"new\" xlink:title=\"psysml:ceec508b-c3a9-4167-8e78-7da3e35ca489\" xlink:type=\"simple\"><rect fill=\"#FFFFFF\" height=\"45.9375\" id=\"E8\" rx=\"10\" ry=\"10\" style=\"stroke: #383838; stroke-width: 1.5;\" width=\"42\" x=\"107\" y=\"44.5\"/><text fill=\"#000000\" font-family=\"sans-serif\" font-size=\"12\" font-style=\"italic\" lengthAdjust=\"spacingAndGlyphs\" textLength=\"40\" x=\"108\" y=\"60.6387\">«part»</text><text fill=\"#000000\" font-family=\"sans-serif\" font-size=\"12\" lengthAdjust=\"spacingAndGlyphs\" textLength=\"21\" x=\"117.5\" y=\"74.6074\">z: B</text><line style=\"stroke: #383838; stroke-width: 1.5;\" x1=\"108\" x2=\"148\" y1=\"82.4375\" y2=\"82.4375\"/></a><!--MD5=[09b614a08d8cba4a07c9adeb5e0fee81]\n",
       "class E3--><a href=\"psysml:8088eca0-f00f-4a1f-9db3-28df87f45186\" target=\"_top\" title=\"psysml:8088eca0-f00f-4a1f-9db3-28df87f45186\" xlink:actuate=\"onRequest\" xlink:href=\"psysml:8088eca0-f00f-4a1f-9db3-28df87f45186\" xlink:show=\"new\" xlink:title=\"psysml:8088eca0-f00f-4a1f-9db3-28df87f45186\" xlink:type=\"simple\"><rect fill=\"#FFFFFF\" height=\"45.9375\" id=\"E3\" style=\"stroke: #383838; stroke-width: 1.5;\" width=\"66\" x=\"178\" y=\"154\"/><text fill=\"#000000\" font-family=\"sans-serif\" font-size=\"12\" font-style=\"italic\" lengthAdjust=\"spacingAndGlyphs\" textLength=\"64\" x=\"179\" y=\"170.1387\">«part def»</text><text fill=\"#000000\" font-family=\"sans-serif\" font-size=\"12\" lengthAdjust=\"spacingAndGlyphs\" textLength=\"8\" x=\"207\" y=\"184.1074\">A</text><line style=\"stroke: #383838; stroke-width: 1.5;\" x1=\"179\" x2=\"243\" y1=\"191.9375\" y2=\"191.9375\"/></a><a href=\"psysml:f5fce4b6-35f4-4f46-9b6d-d151b55baece\" target=\"_top\" title=\"psysml:f5fce4b6-35f4-4f46-9b6d-d151b55baece\" xlink:actuate=\"onRequest\" xlink:href=\"psysml:f5fce4b6-35f4-4f46-9b6d-d151b55baece\" xlink:show=\"new\" xlink:title=\"psysml:f5fce4b6-35f4-4f46-9b6d-d151b55baece\" xlink:type=\"simple\"><polygon fill=\"#FFFFFF\" points=\"32,41,58,41,65,63.2969,72,63.2969,72,93.5938,32,93.5938,32,41\" style=\"stroke: #000000; stroke-width: 1.5;\"/><line style=\"stroke: #000000; stroke-width: 1.5;\" x1=\"32\" x2=\"65\" y1=\"63.2969\" y2=\"63.2969\"/><text fill=\"#000000\" font-family=\"sans-serif\" font-size=\"14\" font-weight=\"bold\" lengthAdjust=\"spacingAndGlyphs\" textLength=\"20\" x=\"36\" y=\"55.9951\">P2</text></a><!--MD5=[2156ba9850f5573cc1fc38a6a4b2f02b]\n",
       "class E7--><a href=\"psysml:a9488239-9884-4bc6-98b3-04bdbcc46eca\" target=\"_top\" title=\"psysml:a9488239-9884-4bc6-98b3-04bdbcc46eca\" xlink:actuate=\"onRequest\" xlink:href=\"psysml:a9488239-9884-4bc6-98b3-04bdbcc46eca\" xlink:show=\"new\" xlink:title=\"psysml:a9488239-9884-4bc6-98b3-04bdbcc46eca\" xlink:type=\"simple\"><rect fill=\"#FFFFFF\" height=\"45.9375\" id=\"E7\" style=\"stroke: #383838; stroke-width: 1.5;\" width=\"66\" x=\"56\" y=\"154\"/><text fill=\"#000000\" font-family=\"sans-serif\" font-size=\"12\" font-style=\"italic\" lengthAdjust=\"spacingAndGlyphs\" textLength=\"64\" x=\"57\" y=\"170.1387\">«part def»</text><text fill=\"#000000\" font-family=\"sans-serif\" font-size=\"12\" lengthAdjust=\"spacingAndGlyphs\" textLength=\"8\" x=\"85\" y=\"184.1074\">B</text><line style=\"stroke: #383838; stroke-width: 1.5;\" x1=\"57\" x2=\"121\" y1=\"191.9375\" y2=\"191.9375\"/></a><!--MD5=[e9be52314489bd878ff4c7144b63c9e1]\n",
       "link E5 to E3--><a href=\"psysml:25d642ee-de35-43b5-ac2f-29504efb7d68\" target=\"_top\" title=\"psysml:25d642ee-de35-43b5-ac2f-29504efb7d68\" xlink:actuate=\"onRequest\" xlink:href=\"psysml:25d642ee-de35-43b5-ac2f-29504efb7d68\" xlink:show=\"new\" xlink:title=\"psysml:25d642ee-de35-43b5-ac2f-29504efb7d68\" xlink:type=\"simple\"><path d=\"M211,90.51 C211,102.89 211,118.78 211,133.48 \" fill=\"none\" id=\"E5-&gt;E3\" style=\"stroke: #383838; stroke-width: 1.0;\"/><polygon fill=\"#FFFFFF\" points=\"211,153.65,204,134.65,218,134.65,211,153.65\" style=\"stroke: #383838; stroke-width: 1.0;\"/><ellipse cx=\"206\" cy=\"128.95\" fill=\"#383838\" rx=\"2\" ry=\"2\" style=\"stroke: #383838; stroke-width: 1.0;\"/><ellipse cx=\"216\" cy=\"128.95\" fill=\"#383838\" rx=\"2\" ry=\"2\" style=\"stroke: #383838; stroke-width: 1.0;\"/></a><!--MD5=[bfa3c8b0d15052fdf50ae9310b491027]\n",
       "link E8 to E7--><a href=\"psysml:d89216b2-7e18-408a-b614-d8caef1c47ec\" target=\"_top\" title=\"psysml:d89216b2-7e18-408a-b614-d8caef1c47ec\" xlink:actuate=\"onRequest\" xlink:href=\"psysml:d89216b2-7e18-408a-b614-d8caef1c47ec\" xlink:show=\"new\" xlink:title=\"psysml:d89216b2-7e18-408a-b614-d8caef1c47ec\" xlink:type=\"simple\"><path d=\"M120.01,90.51 C115.39,103.25 109.42,119.7 103.96,134.76 \" fill=\"none\" id=\"E8-&gt;E7\" style=\"stroke: #383838; stroke-width: 1.0;\"/><polygon fill=\"#FFFFFF\" points=\"97.11,153.65,97.0036,133.4018,110.1656,138.1726,97.11,153.65\" style=\"stroke: #383838; stroke-width: 1.0;\"/><ellipse cx=\"100.8262\" cy=\"128.7245\" fill=\"#383838\" rx=\"2\" ry=\"2\" style=\"stroke: #383838; stroke-width: 1.0;\"/><ellipse cx=\"110.2277\" cy=\"132.1322\" fill=\"#383838\" rx=\"2\" ry=\"2\" style=\"stroke: #383838; stroke-width: 1.0;\"/></a><!--MD5=[5c58f7d9f1da55d11238cb715d36e52e]\n",
       "@startuml\r\n",
       "skinparam monochrome true\r\n",
       "skinparam classbackgroundcolor white\r\n",
       "skinparam shadowing false\r\n",
       "skinparam wrapWidth 300\r\n",
       "hide circle\r\n",
       "\r\n",
       "package \"PrivateImportTest\" as E1  [[psysml:04be3c0a-f069-4f88-9dd0-1488cf078b60 ]]  {\r\n",
       "package \"P1\" as E2  [[psysml:2d8a57d2-00aa-4c24-bcf4-c6f0dba3a85a ]]  {\r\n",
       "comp def \"A\" as E3  <<(T,blue)part def>> [[psysml:8088eca0-f00f-4a1f-9db3-28df87f45186 ]] {\r\n",
       "}\r\n",
       "}\r\n",
       "package \"P2\" as E4  [[psysml:f5fce4b6-35f4-4f46-9b6d-d151b55baece ]]  {\r\n",
       "}\r\n",
       "comp usage \"x: A\" as E5  <<(T,blue)part>> [[psysml:43785f75-2189-42e8-ba89-9f38d7235e69 ]] {\r\n",
       "}\r\n",
       "package \"P3\" as E6  [[psysml:0a65db1a-6ec3-4140-b73e-0c5567d9dbea ]]  {\r\n",
       "comp def \"B\" as E7  <<(T,blue)part def>> [[psysml:a9488239-9884-4bc6-98b3-04bdbcc46eca ]] {\r\n",
       "}\r\n",
       "E5 - -:|> E3 [[psysml:25d642ee-de35-43b5-ac2f-29504efb7d68 ]] \r\n",
       "}\r\n",
       "comp usage \"z: B\" as E8  <<(T,blue)part>> [[psysml:ceec508b-c3a9-4167-8e78-7da3e35ca489 ]] {\r\n",
       "}\r\n",
       "E8 - -:|> E7 [[psysml:d89216b2-7e18-408a-b614-d8caef1c47ec ]] \r\n",
       "}\r\n",
       "@enduml\r\n",
       "\n",
       "PlantUML version 1.2020.13(Sat Jun 13 12:26:38 UTC 2020)\n",
       "(EPL source distribution)\n",
       "Java Runtime: OpenJDK Runtime Environment\n",
       "JVM: OpenJDK 64-Bit Server VM\n",
       "Default Encoding: UTF-8\n",
       "Language: en\n",
       "Country: null\n",
       "--></g></svg>"
      ]
     },
     "execution_count": 37,
     "metadata": {},
     "output_type": "execute_result"
    }
   ],
   "source": [
    "%viz --style=\"DEFAULT\" --view=\"Default\" \"PrivateImportTest\""
   ]
  },
  {
   "cell_type": "code",
   "execution_count": 38,
   "id": "rental-advantage",
   "metadata": {
    "execution": {
     "iopub.execute_input": "2021-03-25T14:10:41.442180Z",
     "iopub.status.busy": "2021-03-25T14:10:41.441648Z",
     "iopub.status.idle": "2021-03-25T14:10:41.507830Z",
     "shell.execute_reply": "2021-03-25T14:10:41.506414Z"
    }
   },
   "outputs": [
    {
     "data": {
      "image/svg+xml": [
       "<?xml version=\"1.0\" encoding=\"UTF-8\" standalone=\"no\"?><svg xmlns=\"http://www.w3.org/2000/svg\" xmlns:xlink=\"http://www.w3.org/1999/xlink\" contentScriptType=\"application/ecmascript\" contentStyleType=\"text/css\" height=\"252px\" preserveAspectRatio=\"none\" style=\"width:306px;height:252px;\" version=\"1.1\" viewBox=\"0 0 306 252\" width=\"306px\" zoomAndPan=\"magnify\"><defs/><g><!--MD5=[fbc87193dbaf4d95561dea2c320d4a47]\n",
       "cluster E1--><a href=\"psysml:04be3c0a-f069-4f88-9dd0-1488cf078b60\" target=\"_top\" title=\"psysml:04be3c0a-f069-4f88-9dd0-1488cf078b60\" xlink:actuate=\"onRequest\" xlink:href=\"psysml:04be3c0a-f069-4f88-9dd0-1488cf078b60\" xlink:show=\"new\" xlink:title=\"psysml:04be3c0a-f069-4f88-9dd0-1488cf078b60\" xlink:type=\"simple\"><polygon fill=\"#FFFFFF\" points=\"16,6,163,6,170,28.2969,284,28.2969,284,240,16,240,16,6\" style=\"stroke: #000000; stroke-width: 1.5;\"/><line style=\"stroke: #000000; stroke-width: 1.5;\" x1=\"16\" x2=\"170\" y1=\"28.2969\" y2=\"28.2969\"/><text fill=\"#000000\" font-family=\"sans-serif\" font-size=\"14\" font-weight=\"bold\" lengthAdjust=\"spacingAndGlyphs\" textLength=\"141\" x=\"20\" y=\"20.9951\">PrivateImportTest</text></a><!--MD5=[e4f7fae6ed58524ba242bb0b0d3be6b7]\n",
       "cluster E2--><a href=\"psysml:2d8a57d2-00aa-4c24-bcf4-c6f0dba3a85a\" target=\"_top\" title=\"psysml:2d8a57d2-00aa-4c24-bcf4-c6f0dba3a85a\" xlink:actuate=\"onRequest\" xlink:href=\"psysml:2d8a57d2-00aa-4c24-bcf4-c6f0dba3a85a\" xlink:show=\"new\" xlink:title=\"psysml:2d8a57d2-00aa-4c24-bcf4-c6f0dba3a85a\" xlink:type=\"simple\"><polygon fill=\"#FFFFFF\" points=\"162,119,188,119,195,141.2969,260,141.2969,260,216,162,216,162,119\" style=\"stroke: #000000; stroke-width: 1.5;\"/><line style=\"stroke: #000000; stroke-width: 1.5;\" x1=\"162\" x2=\"195\" y1=\"141.2969\" y2=\"141.2969\"/><text fill=\"#000000\" font-family=\"sans-serif\" font-size=\"14\" font-weight=\"bold\" lengthAdjust=\"spacingAndGlyphs\" textLength=\"20\" x=\"166\" y=\"133.9951\">P1</text></a><!--MD5=[14e3b0961a2654348d326746436168a1]\n",
       "cluster E6--><a href=\"psysml:0a65db1a-6ec3-4140-b73e-0c5567d9dbea\" target=\"_top\" title=\"psysml:0a65db1a-6ec3-4140-b73e-0c5567d9dbea\" xlink:actuate=\"onRequest\" xlink:href=\"psysml:0a65db1a-6ec3-4140-b73e-0c5567d9dbea\" xlink:show=\"new\" xlink:title=\"psysml:0a65db1a-6ec3-4140-b73e-0c5567d9dbea\" xlink:type=\"simple\"><polygon fill=\"#FFFFFF\" points=\"40,119,66,119,73,141.2969,138,141.2969,138,216,40,216,40,119\" style=\"stroke: #000000; stroke-width: 1.5;\"/><line style=\"stroke: #000000; stroke-width: 1.5;\" x1=\"40\" x2=\"73\" y1=\"141.2969\" y2=\"141.2969\"/><text fill=\"#000000\" font-family=\"sans-serif\" font-size=\"14\" font-weight=\"bold\" lengthAdjust=\"spacingAndGlyphs\" textLength=\"20\" x=\"44\" y=\"133.9951\">P3</text></a><!--MD5=[270fce915f116d4de14055a7c1d9a0f3]\n",
       "class E5--><a href=\"psysml:43785f75-2189-42e8-ba89-9f38d7235e69\" target=\"_top\" title=\"psysml:43785f75-2189-42e8-ba89-9f38d7235e69\" xlink:actuate=\"onRequest\" xlink:href=\"psysml:43785f75-2189-42e8-ba89-9f38d7235e69\" xlink:show=\"new\" xlink:title=\"psysml:43785f75-2189-42e8-ba89-9f38d7235e69\" xlink:type=\"simple\"><rect fill=\"#FFFFFF\" height=\"45.9375\" id=\"E5\" rx=\"10\" ry=\"10\" style=\"stroke: #383838; stroke-width: 1.5;\" width=\"42\" x=\"190\" y=\"44.5\"/><text fill=\"#000000\" font-family=\"sans-serif\" font-size=\"12\" font-style=\"italic\" lengthAdjust=\"spacingAndGlyphs\" textLength=\"40\" x=\"191\" y=\"60.6387\">«part»</text><text fill=\"#000000\" font-family=\"sans-serif\" font-size=\"12\" lengthAdjust=\"spacingAndGlyphs\" textLength=\"22\" x=\"200\" y=\"74.6074\">x: A</text><line style=\"stroke: #383838; stroke-width: 1.5;\" x1=\"191\" x2=\"231\" y1=\"82.4375\" y2=\"82.4375\"/></a><!--MD5=[b9389687b975829384b498ac4b7476b2]\n",
       "class E8--><a href=\"psysml:ceec508b-c3a9-4167-8e78-7da3e35ca489\" target=\"_top\" title=\"psysml:ceec508b-c3a9-4167-8e78-7da3e35ca489\" xlink:actuate=\"onRequest\" xlink:href=\"psysml:ceec508b-c3a9-4167-8e78-7da3e35ca489\" xlink:show=\"new\" xlink:title=\"psysml:ceec508b-c3a9-4167-8e78-7da3e35ca489\" xlink:type=\"simple\"><rect fill=\"#FFFFFF\" height=\"45.9375\" id=\"E8\" rx=\"10\" ry=\"10\" style=\"stroke: #383838; stroke-width: 1.5;\" width=\"42\" x=\"107\" y=\"44.5\"/><text fill=\"#000000\" font-family=\"sans-serif\" font-size=\"12\" font-style=\"italic\" lengthAdjust=\"spacingAndGlyphs\" textLength=\"40\" x=\"108\" y=\"60.6387\">«part»</text><text fill=\"#000000\" font-family=\"sans-serif\" font-size=\"12\" lengthAdjust=\"spacingAndGlyphs\" textLength=\"21\" x=\"117.5\" y=\"74.6074\">z: B</text><line style=\"stroke: #383838; stroke-width: 1.5;\" x1=\"108\" x2=\"148\" y1=\"82.4375\" y2=\"82.4375\"/></a><!--MD5=[09b614a08d8cba4a07c9adeb5e0fee81]\n",
       "class E3--><a href=\"psysml:8088eca0-f00f-4a1f-9db3-28df87f45186\" target=\"_top\" title=\"psysml:8088eca0-f00f-4a1f-9db3-28df87f45186\" xlink:actuate=\"onRequest\" xlink:href=\"psysml:8088eca0-f00f-4a1f-9db3-28df87f45186\" xlink:show=\"new\" xlink:title=\"psysml:8088eca0-f00f-4a1f-9db3-28df87f45186\" xlink:type=\"simple\"><rect fill=\"#FFFFFF\" height=\"45.9375\" id=\"E3\" style=\"stroke: #383838; stroke-width: 1.5;\" width=\"66\" x=\"178\" y=\"154\"/><text fill=\"#000000\" font-family=\"sans-serif\" font-size=\"12\" font-style=\"italic\" lengthAdjust=\"spacingAndGlyphs\" textLength=\"64\" x=\"179\" y=\"170.1387\">«part def»</text><text fill=\"#000000\" font-family=\"sans-serif\" font-size=\"12\" lengthAdjust=\"spacingAndGlyphs\" textLength=\"8\" x=\"207\" y=\"184.1074\">A</text><line style=\"stroke: #383838; stroke-width: 1.5;\" x1=\"179\" x2=\"243\" y1=\"191.9375\" y2=\"191.9375\"/></a><a href=\"psysml:f5fce4b6-35f4-4f46-9b6d-d151b55baece\" target=\"_top\" title=\"psysml:f5fce4b6-35f4-4f46-9b6d-d151b55baece\" xlink:actuate=\"onRequest\" xlink:href=\"psysml:f5fce4b6-35f4-4f46-9b6d-d151b55baece\" xlink:show=\"new\" xlink:title=\"psysml:f5fce4b6-35f4-4f46-9b6d-d151b55baece\" xlink:type=\"simple\"><polygon fill=\"#FFFFFF\" points=\"32,41,58,41,65,63.2969,72,63.2969,72,93.5938,32,93.5938,32,41\" style=\"stroke: #000000; stroke-width: 1.5;\"/><line style=\"stroke: #000000; stroke-width: 1.5;\" x1=\"32\" x2=\"65\" y1=\"63.2969\" y2=\"63.2969\"/><text fill=\"#000000\" font-family=\"sans-serif\" font-size=\"14\" font-weight=\"bold\" lengthAdjust=\"spacingAndGlyphs\" textLength=\"20\" x=\"36\" y=\"55.9951\">P2</text></a><!--MD5=[2156ba9850f5573cc1fc38a6a4b2f02b]\n",
       "class E7--><a href=\"psysml:a9488239-9884-4bc6-98b3-04bdbcc46eca\" target=\"_top\" title=\"psysml:a9488239-9884-4bc6-98b3-04bdbcc46eca\" xlink:actuate=\"onRequest\" xlink:href=\"psysml:a9488239-9884-4bc6-98b3-04bdbcc46eca\" xlink:show=\"new\" xlink:title=\"psysml:a9488239-9884-4bc6-98b3-04bdbcc46eca\" xlink:type=\"simple\"><rect fill=\"#FFFFFF\" height=\"45.9375\" id=\"E7\" style=\"stroke: #383838; stroke-width: 1.5;\" width=\"66\" x=\"56\" y=\"154\"/><text fill=\"#000000\" font-family=\"sans-serif\" font-size=\"12\" font-style=\"italic\" lengthAdjust=\"spacingAndGlyphs\" textLength=\"64\" x=\"57\" y=\"170.1387\">«part def»</text><text fill=\"#000000\" font-family=\"sans-serif\" font-size=\"12\" lengthAdjust=\"spacingAndGlyphs\" textLength=\"8\" x=\"85\" y=\"184.1074\">B</text><line style=\"stroke: #383838; stroke-width: 1.5;\" x1=\"57\" x2=\"121\" y1=\"191.9375\" y2=\"191.9375\"/></a><!--MD5=[e9be52314489bd878ff4c7144b63c9e1]\n",
       "link E5 to E3--><a href=\"psysml:25d642ee-de35-43b5-ac2f-29504efb7d68\" target=\"_top\" title=\"psysml:25d642ee-de35-43b5-ac2f-29504efb7d68\" xlink:actuate=\"onRequest\" xlink:href=\"psysml:25d642ee-de35-43b5-ac2f-29504efb7d68\" xlink:show=\"new\" xlink:title=\"psysml:25d642ee-de35-43b5-ac2f-29504efb7d68\" xlink:type=\"simple\"><path d=\"M211,90.51 C211,102.89 211,118.78 211,133.48 \" fill=\"none\" id=\"E5-&gt;E3\" style=\"stroke: #383838; stroke-width: 1.0;\"/><polygon fill=\"#FFFFFF\" points=\"211,153.65,204,134.65,218,134.65,211,153.65\" style=\"stroke: #383838; stroke-width: 1.0;\"/><ellipse cx=\"206\" cy=\"128.95\" fill=\"#383838\" rx=\"2\" ry=\"2\" style=\"stroke: #383838; stroke-width: 1.0;\"/><ellipse cx=\"216\" cy=\"128.95\" fill=\"#383838\" rx=\"2\" ry=\"2\" style=\"stroke: #383838; stroke-width: 1.0;\"/></a><!--MD5=[bfa3c8b0d15052fdf50ae9310b491027]\n",
       "link E8 to E7--><a href=\"psysml:d89216b2-7e18-408a-b614-d8caef1c47ec\" target=\"_top\" title=\"psysml:d89216b2-7e18-408a-b614-d8caef1c47ec\" xlink:actuate=\"onRequest\" xlink:href=\"psysml:d89216b2-7e18-408a-b614-d8caef1c47ec\" xlink:show=\"new\" xlink:title=\"psysml:d89216b2-7e18-408a-b614-d8caef1c47ec\" xlink:type=\"simple\"><path d=\"M120.01,90.51 C115.39,103.25 109.42,119.7 103.96,134.76 \" fill=\"none\" id=\"E8-&gt;E7\" style=\"stroke: #383838; stroke-width: 1.0;\"/><polygon fill=\"#FFFFFF\" points=\"97.11,153.65,97.0036,133.4018,110.1656,138.1726,97.11,153.65\" style=\"stroke: #383838; stroke-width: 1.0;\"/><ellipse cx=\"100.8262\" cy=\"128.7245\" fill=\"#383838\" rx=\"2\" ry=\"2\" style=\"stroke: #383838; stroke-width: 1.0;\"/><ellipse cx=\"110.2277\" cy=\"132.1322\" fill=\"#383838\" rx=\"2\" ry=\"2\" style=\"stroke: #383838; stroke-width: 1.0;\"/></a><!--MD5=[5c58f7d9f1da55d11238cb715d36e52e]\n",
       "@startuml\r\n",
       "skinparam monochrome true\r\n",
       "skinparam classbackgroundcolor white\r\n",
       "skinparam shadowing false\r\n",
       "skinparam wrapWidth 300\r\n",
       "hide circle\r\n",
       "\r\n",
       "package \"PrivateImportTest\" as E1  [[psysml:04be3c0a-f069-4f88-9dd0-1488cf078b60 ]]  {\r\n",
       "package \"P1\" as E2  [[psysml:2d8a57d2-00aa-4c24-bcf4-c6f0dba3a85a ]]  {\r\n",
       "comp def \"A\" as E3  <<(T,blue)part def>> [[psysml:8088eca0-f00f-4a1f-9db3-28df87f45186 ]] {\r\n",
       "}\r\n",
       "}\r\n",
       "package \"P2\" as E4  [[psysml:f5fce4b6-35f4-4f46-9b6d-d151b55baece ]]  {\r\n",
       "}\r\n",
       "comp usage \"x: A\" as E5  <<(T,blue)part>> [[psysml:43785f75-2189-42e8-ba89-9f38d7235e69 ]] {\r\n",
       "}\r\n",
       "package \"P3\" as E6  [[psysml:0a65db1a-6ec3-4140-b73e-0c5567d9dbea ]]  {\r\n",
       "comp def \"B\" as E7  <<(T,blue)part def>> [[psysml:a9488239-9884-4bc6-98b3-04bdbcc46eca ]] {\r\n",
       "}\r\n",
       "E5 - -:|> E3 [[psysml:25d642ee-de35-43b5-ac2f-29504efb7d68 ]] \r\n",
       "}\r\n",
       "comp usage \"z: B\" as E8  <<(T,blue)part>> [[psysml:ceec508b-c3a9-4167-8e78-7da3e35ca489 ]] {\r\n",
       "}\r\n",
       "E8 - -:|> E7 [[psysml:d89216b2-7e18-408a-b614-d8caef1c47ec ]] \r\n",
       "}\r\n",
       "@enduml\r\n",
       "\n",
       "PlantUML version 1.2020.13(Sat Jun 13 12:26:38 UTC 2020)\n",
       "(EPL source distribution)\n",
       "Java Runtime: OpenJDK Runtime Environment\n",
       "JVM: OpenJDK 64-Bit Server VM\n",
       "Default Encoding: UTF-8\n",
       "Language: en\n",
       "Country: null\n",
       "--></g></svg>"
      ]
     },
     "execution_count": 38,
     "metadata": {},
     "output_type": "execute_result"
    }
   ],
   "source": [
    "%viz --style=\"DEFAULT\" --view=\"Tree\" \"PrivateImportTest\""
   ]
  },
  {
   "cell_type": "code",
   "execution_count": 39,
   "id": "major-orbit",
   "metadata": {
    "execution": {
     "iopub.execute_input": "2021-03-25T14:10:41.558051Z",
     "iopub.status.busy": "2021-03-25T14:10:41.557633Z",
     "iopub.status.idle": "2021-03-25T14:10:41.565040Z",
     "shell.execute_reply": "2021-03-25T14:10:41.564691Z"
    }
   },
   "outputs": [
    {
     "data": {
      "image/svg+xml": [
       "<?xml version=\"1.0\" encoding=\"UTF-8\" standalone=\"no\"?><svg xmlns=\"http://www.w3.org/2000/svg\" xmlns:xlink=\"http://www.w3.org/1999/xlink\" contentScriptType=\"application/ecmascript\" contentStyleType=\"text/css\" height=\"12px\" preserveAspectRatio=\"none\" style=\"width:12px;height:12px;\" version=\"1.1\" viewBox=\"0 0 12 12\" width=\"12px\" zoomAndPan=\"magnify\"><defs/><g><!--MD5=[c5f280e076d0d61ccf4b0f27871bda1d]\n",
       "@startuml\r\n",
       "skinparam monochrome true\r\n",
       "skinparam classbackgroundcolor white\r\n",
       "skinparam shadowing false\r\n",
       "skinparam wrapWidth 300\r\n",
       "hide circle\r\n",
       "\r\n",
       "@enduml\r\n",
       "\n",
       "PlantUML version 1.2020.13(Sat Jun 13 12:26:38 UTC 2020)\n",
       "(EPL source distribution)\n",
       "Java Runtime: OpenJDK Runtime Environment\n",
       "JVM: OpenJDK 64-Bit Server VM\n",
       "Default Encoding: UTF-8\n",
       "Language: en\n",
       "Country: null\n",
       "--></g></svg>"
      ]
     },
     "execution_count": 39,
     "metadata": {},
     "output_type": "execute_result"
    }
   ],
   "source": [
    "%viz --style=\"DEFAULT\" --view=\"State\" \"PrivateImportTest\""
   ]
  },
  {
   "cell_type": "code",
   "execution_count": 40,
   "id": "prescribed-finland",
   "metadata": {
    "execution": {
     "iopub.execute_input": "2021-03-25T14:10:41.617728Z",
     "iopub.status.busy": "2021-03-25T14:10:41.616975Z",
     "iopub.status.idle": "2021-03-25T14:10:41.678933Z",
     "shell.execute_reply": "2021-03-25T14:10:41.677715Z"
    }
   },
   "outputs": [
    {
     "data": {
      "image/svg+xml": [
       "<?xml version=\"1.0\" encoding=\"UTF-8\" standalone=\"no\"?><svg xmlns=\"http://www.w3.org/2000/svg\" xmlns:xlink=\"http://www.w3.org/1999/xlink\" contentScriptType=\"application/ecmascript\" contentStyleType=\"text/css\" height=\"179px\" preserveAspectRatio=\"none\" style=\"width:539px;height:179px;\" version=\"1.1\" viewBox=\"0 0 539 179\" width=\"539px\" zoomAndPan=\"magnify\"><defs/><g><!--MD5=[fbc87193dbaf4d95561dea2c320d4a47]\n",
       "cluster E1--><a href=\"psysml:04be3c0a-f069-4f88-9dd0-1488cf078b60\" target=\"_top\" title=\"psysml:04be3c0a-f069-4f88-9dd0-1488cf078b60\" xlink:actuate=\"onRequest\" xlink:href=\"psysml:04be3c0a-f069-4f88-9dd0-1488cf078b60\" xlink:show=\"new\" xlink:title=\"psysml:04be3c0a-f069-4f88-9dd0-1488cf078b60\" xlink:type=\"simple\"><polygon fill=\"#FFFFFF\" points=\"16,6,163,6,170,28.2969,517,28.2969,517,167,16,167,16,6\" style=\"stroke: #000000; stroke-width: 1.5;\"/><line style=\"stroke: #000000; stroke-width: 1.5;\" x1=\"16\" x2=\"170\" y1=\"28.2969\" y2=\"28.2969\"/><text fill=\"#000000\" font-family=\"sans-serif\" font-size=\"14\" font-weight=\"bold\" lengthAdjust=\"spacingAndGlyphs\" textLength=\"141\" x=\"20\" y=\"20.9951\">PrivateImportTest</text></a><!--MD5=[e4f7fae6ed58524ba242bb0b0d3be6b7]\n",
       "cluster E2--><a href=\"psysml:2d8a57d2-00aa-4c24-bcf4-c6f0dba3a85a\" target=\"_top\" title=\"psysml:2d8a57d2-00aa-4c24-bcf4-c6f0dba3a85a\" xlink:actuate=\"onRequest\" xlink:href=\"psysml:2d8a57d2-00aa-4c24-bcf4-c6f0dba3a85a\" xlink:show=\"new\" xlink:title=\"psysml:2d8a57d2-00aa-4c24-bcf4-c6f0dba3a85a\" xlink:type=\"simple\"><polygon fill=\"#FFFFFF\" points=\"389,49,415,49,422,71.2969,493,71.2969,493,143,389,143,389,49\" style=\"stroke: #000000; stroke-width: 1.5;\"/><line style=\"stroke: #000000; stroke-width: 1.5;\" x1=\"389\" x2=\"422\" y1=\"71.2969\" y2=\"71.2969\"/><text fill=\"#000000\" font-family=\"sans-serif\" font-size=\"14\" font-weight=\"bold\" lengthAdjust=\"spacingAndGlyphs\" textLength=\"20\" x=\"393\" y=\"63.9951\">P1</text></a><!--MD5=[14e3b0961a2654348d326746436168a1]\n",
       "cluster E6--><a href=\"psysml:0a65db1a-6ec3-4140-b73e-0c5567d9dbea\" target=\"_top\" title=\"psysml:0a65db1a-6ec3-4140-b73e-0c5567d9dbea\" xlink:actuate=\"onRequest\" xlink:href=\"psysml:0a65db1a-6ec3-4140-b73e-0c5567d9dbea\" xlink:show=\"new\" xlink:title=\"psysml:0a65db1a-6ec3-4140-b73e-0c5567d9dbea\" xlink:type=\"simple\"><polygon fill=\"#FFFFFF\" points=\"261,49,287,49,294,71.2969,365,71.2969,365,143,261,143,261,49\" style=\"stroke: #000000; stroke-width: 1.5;\"/><line style=\"stroke: #000000; stroke-width: 1.5;\" x1=\"261\" x2=\"294\" y1=\"71.2969\" y2=\"71.2969\"/><text fill=\"#000000\" font-family=\"sans-serif\" font-size=\"14\" font-weight=\"bold\" lengthAdjust=\"spacingAndGlyphs\" textLength=\"20\" x=\"265\" y=\"63.9951\">P3</text></a><g id=\"E1.E2.E3\"><a href=\"psysml:8088eca0-f00f-4a1f-9db3-28df87f45186\" target=\"_top\" title=\"psysml:8088eca0-f00f-4a1f-9db3-28df87f45186\" xlink:actuate=\"onRequest\" xlink:href=\"psysml:8088eca0-f00f-4a1f-9db3-28df87f45186\" xlink:show=\"new\" xlink:title=\"psysml:8088eca0-f00f-4a1f-9db3-28df87f45186\" xlink:type=\"simple\"><rect fill=\"#FFFFFF\" height=\"42.9375\" id=\"E3\" style=\"stroke: #383838; stroke-width: 1.5;\" width=\"71\" x=\"405.5\" y=\"84\"/><rect fill=\"#F8F8F8\" height=\"37.9375\" style=\"stroke: #383838; stroke-width: 1.5;\" width=\"71\" x=\"405.5\" y=\"84\"/><text fill=\"#000000\" font-family=\"sans-serif\" font-size=\"12\" font-style=\"italic\" lengthAdjust=\"spacingAndGlyphs\" textLength=\"64\" x=\"409\" y=\"100.1387\">«part def»</text><text fill=\"#000000\" font-family=\"sans-serif\" font-size=\"12\" lengthAdjust=\"spacingAndGlyphs\" textLength=\"8\" x=\"437\" y=\"114.1074\">A</text></a></g><a href=\"psysml:f5fce4b6-35f4-4f46-9b6d-d151b55baece\" target=\"_top\" title=\"psysml:f5fce4b6-35f4-4f46-9b6d-d151b55baece\" xlink:actuate=\"onRequest\" xlink:href=\"psysml:f5fce4b6-35f4-4f46-9b6d-d151b55baece\" xlink:show=\"new\" xlink:title=\"psysml:f5fce4b6-35f4-4f46-9b6d-d151b55baece\" xlink:type=\"simple\"><polygon fill=\"#FFFFFF\" points=\"202,79,228,79,235,101.2969,242,101.2969,242,131.5938,202,131.5938,202,79\" style=\"stroke: #000000; stroke-width: 1.5;\"/><line style=\"stroke: #000000; stroke-width: 1.5;\" x1=\"202\" x2=\"235\" y1=\"101.2969\" y2=\"101.2969\"/><text fill=\"#000000\" font-family=\"sans-serif\" font-size=\"14\" font-weight=\"bold\" lengthAdjust=\"spacingAndGlyphs\" textLength=\"20\" x=\"206\" y=\"93.9951\">P2</text></a><g id=\"E1.E5\"><a href=\"psysml:43785f75-2189-42e8-ba89-9f38d7235e69\" target=\"_top\" title=\"psysml:43785f75-2189-42e8-ba89-9f38d7235e69\" xlink:actuate=\"onRequest\" xlink:href=\"psysml:43785f75-2189-42e8-ba89-9f38d7235e69\" xlink:show=\"new\" xlink:title=\"psysml:43785f75-2189-42e8-ba89-9f38d7235e69\" xlink:type=\"simple\"><rect fill=\"#FFFFFF\" height=\"40\" id=\"E5\" rx=\"10\" ry=\"10\" style=\"stroke: #383838; stroke-width: 1.5;\" width=\"50\" x=\"117\" y=\"85.5\"/><rect fill=\"#F8F8F8\" height=\"23.9688\" rx=\"10\" ry=\"10\" style=\"stroke: #F8F8F8; stroke-width: 1.5;\" width=\"50\" x=\"117\" y=\"85.5\"/><rect fill=\"#F8F8F8\" height=\"10\" style=\"stroke: #F8F8F8; stroke-width: 1.5;\" width=\"50\" x=\"117\" y=\"99.4688\"/><rect fill=\"none\" height=\"40\" id=\"E5\" rx=\"10\" ry=\"10\" style=\"stroke: #383838; stroke-width: 1.5;\" width=\"50\" x=\"117\" y=\"85.5\"/><text fill=\"#000000\" font-family=\"sans-serif\" font-size=\"12\" lengthAdjust=\"spacingAndGlyphs\" textLength=\"22\" x=\"131\" y=\"101.6387\">x: A</text></a></g><g id=\"E1.E6.E7\"><a href=\"psysml:a9488239-9884-4bc6-98b3-04bdbcc46eca\" target=\"_top\" title=\"psysml:a9488239-9884-4bc6-98b3-04bdbcc46eca\" xlink:actuate=\"onRequest\" xlink:href=\"psysml:a9488239-9884-4bc6-98b3-04bdbcc46eca\" xlink:show=\"new\" xlink:title=\"psysml:a9488239-9884-4bc6-98b3-04bdbcc46eca\" xlink:type=\"simple\"><rect fill=\"#FFFFFF\" height=\"42.9375\" id=\"E7\" style=\"stroke: #383838; stroke-width: 1.5;\" width=\"71\" x=\"277.5\" y=\"84\"/><rect fill=\"#F8F8F8\" height=\"37.9375\" style=\"stroke: #383838; stroke-width: 1.5;\" width=\"71\" x=\"277.5\" y=\"84\"/><text fill=\"#000000\" font-family=\"sans-serif\" font-size=\"12\" font-style=\"italic\" lengthAdjust=\"spacingAndGlyphs\" textLength=\"64\" x=\"281\" y=\"100.1387\">«part def»</text><text fill=\"#000000\" font-family=\"sans-serif\" font-size=\"12\" lengthAdjust=\"spacingAndGlyphs\" textLength=\"8\" x=\"309\" y=\"114.1074\">B</text></a></g><g id=\"E1.E8\"><a href=\"psysml:ceec508b-c3a9-4167-8e78-7da3e35ca489\" target=\"_top\" title=\"psysml:ceec508b-c3a9-4167-8e78-7da3e35ca489\" xlink:actuate=\"onRequest\" xlink:href=\"psysml:ceec508b-c3a9-4167-8e78-7da3e35ca489\" xlink:show=\"new\" xlink:title=\"psysml:ceec508b-c3a9-4167-8e78-7da3e35ca489\" xlink:type=\"simple\"><rect fill=\"#FFFFFF\" height=\"40\" id=\"E8\" rx=\"10\" ry=\"10\" style=\"stroke: #383838; stroke-width: 1.5;\" width=\"50\" x=\"32\" y=\"85.5\"/><rect fill=\"#F8F8F8\" height=\"23.9688\" rx=\"10\" ry=\"10\" style=\"stroke: #F8F8F8; stroke-width: 1.5;\" width=\"50\" x=\"32\" y=\"85.5\"/><rect fill=\"#F8F8F8\" height=\"10\" style=\"stroke: #F8F8F8; stroke-width: 1.5;\" width=\"50\" x=\"32\" y=\"99.4688\"/><rect fill=\"none\" height=\"40\" id=\"E8\" rx=\"10\" ry=\"10\" style=\"stroke: #383838; stroke-width: 1.5;\" width=\"50\" x=\"32\" y=\"85.5\"/><text fill=\"#000000\" font-family=\"sans-serif\" font-size=\"12\" lengthAdjust=\"spacingAndGlyphs\" textLength=\"21\" x=\"46.5\" y=\"101.6387\">z: B</text></a></g><!--MD5=[8c5c24255d91f6ca2f38011eff6b6b0f]\n",
       "@startuml\r\n",
       "skinparam ranksep 10\r\n",
       "skinparam rectangle {\r\n",
       " backgroundColor<<block>> LightGreen\r\n",
       "}\r\n",
       "skinparam monochrome true\r\n",
       "skinparam classbackgroundcolor white\r\n",
       "skinparam shadowing false\r\n",
       "skinparam wrapWidth 300\r\n",
       "hide circle\r\n",
       "\r\n",
       "package \"PrivateImportTest\" as E1  [[psysml:04be3c0a-f069-4f88-9dd0-1488cf078b60 ]]  {\r\n",
       "package \"P1\" as E2  [[psysml:2d8a57d2-00aa-4c24-bcf4-c6f0dba3a85a ]]  {\r\n",
       "rec def \"A\" as E3  <<(T,blue)part def>> [[psysml:8088eca0-f00f-4a1f-9db3-28df87f45186 ]] {\r\n",
       "}\r\n",
       "}\r\n",
       "package \"P2\" as E4  [[psysml:f5fce4b6-35f4-4f46-9b6d-d151b55baece ]]  {\r\n",
       "}\r\n",
       "rec usage \"x: A\" as E5  [[psysml:43785f75-2189-42e8-ba89-9f38d7235e69 ]] {\r\n",
       "}\r\n",
       "package \"P3\" as E6  [[psysml:0a65db1a-6ec3-4140-b73e-0c5567d9dbea ]]  {\r\n",
       "rec def \"B\" as E7  <<(T,blue)part def>> [[psysml:a9488239-9884-4bc6-98b3-04bdbcc46eca ]] {\r\n",
       "}\r\n",
       "}\r\n",
       "rec usage \"z: B\" as E8  [[psysml:ceec508b-c3a9-4167-8e78-7da3e35ca489 ]] {\r\n",
       "}\r\n",
       "}\r\n",
       "@enduml\r\n",
       "\n",
       "PlantUML version 1.2020.13(Sat Jun 13 12:26:38 UTC 2020)\n",
       "(EPL source distribution)\n",
       "Java Runtime: OpenJDK Runtime Environment\n",
       "JVM: OpenJDK 64-Bit Server VM\n",
       "Default Encoding: UTF-8\n",
       "Language: en\n",
       "Country: null\n",
       "--></g></svg>"
      ]
     },
     "execution_count": 40,
     "metadata": {},
     "output_type": "execute_result"
    }
   ],
   "source": [
    "%viz --style=\"DEFAULT\" --view=\"Interconnection\" \"PrivateImportTest\""
   ]
  },
  {
   "cell_type": "code",
   "execution_count": 41,
   "id": "arranged-retro",
   "metadata": {
    "execution": {
     "iopub.execute_input": "2021-03-25T14:10:41.730948Z",
     "iopub.status.busy": "2021-03-25T14:10:41.730240Z",
     "iopub.status.idle": "2021-03-25T14:10:41.739732Z",
     "shell.execute_reply": "2021-03-25T14:10:41.739336Z"
    }
   },
   "outputs": [
    {
     "data": {
      "image/svg+xml": [
       "<?xml version=\"1.0\" encoding=\"UTF-8\" standalone=\"no\"?><svg xmlns=\"http://www.w3.org/2000/svg\" xmlns:xlink=\"http://www.w3.org/1999/xlink\" contentScriptType=\"application/ecmascript\" contentStyleType=\"text/css\" height=\"12px\" preserveAspectRatio=\"none\" style=\"width:12px;height:12px;\" version=\"1.1\" viewBox=\"0 0 12 12\" width=\"12px\" zoomAndPan=\"magnify\"><defs/><g><!--MD5=[388f21188e31bfdd97050473b19af356]\n",
       "@startuml\r\n",
       "skinparam ranksep 8\r\n",
       "skinparam monochrome true\r\n",
       "skinparam classbackgroundcolor white\r\n",
       "skinparam shadowing false\r\n",
       "skinparam wrapWidth 300\r\n",
       "hide circle\r\n",
       "\r\n",
       "@enduml\r\n",
       "\n",
       "PlantUML version 1.2020.13(Sat Jun 13 12:26:38 UTC 2020)\n",
       "(EPL source distribution)\n",
       "Java Runtime: OpenJDK Runtime Environment\n",
       "JVM: OpenJDK 64-Bit Server VM\n",
       "Default Encoding: UTF-8\n",
       "Language: en\n",
       "Country: null\n",
       "--></g></svg>"
      ]
     },
     "execution_count": 41,
     "metadata": {},
     "output_type": "execute_result"
    }
   ],
   "source": [
    "%viz --style=\"DEFAULT\" --view=\"Action\" \"PrivateImportTest\""
   ]
  },
  {
   "cell_type": "code",
   "execution_count": 42,
   "id": "careful-metabolism",
   "metadata": {
    "execution": {
     "iopub.execute_input": "2021-03-25T14:10:41.791409Z",
     "iopub.status.busy": "2021-03-25T14:10:41.790765Z",
     "iopub.status.idle": "2021-03-25T14:10:41.857837Z",
     "shell.execute_reply": "2021-03-25T14:10:41.855851Z"
    }
   },
   "outputs": [
    {
     "data": {
      "image/svg+xml": [
       "<?xml version=\"1.0\" encoding=\"UTF-8\" standalone=\"no\"?><svg xmlns=\"http://www.w3.org/2000/svg\" xmlns:xlink=\"http://www.w3.org/1999/xlink\" contentScriptType=\"application/ecmascript\" contentStyleType=\"text/css\" height=\"252px\" preserveAspectRatio=\"none\" style=\"width:306px;height:252px;\" version=\"1.1\" viewBox=\"0 0 306 252\" width=\"306px\" zoomAndPan=\"magnify\"><defs/><g><!--MD5=[fbc87193dbaf4d95561dea2c320d4a47]\n",
       "cluster E1--><a href=\"psysml:04be3c0a-f069-4f88-9dd0-1488cf078b60\" target=\"_top\" title=\"psysml:04be3c0a-f069-4f88-9dd0-1488cf078b60\" xlink:actuate=\"onRequest\" xlink:href=\"psysml:04be3c0a-f069-4f88-9dd0-1488cf078b60\" xlink:show=\"new\" xlink:title=\"psysml:04be3c0a-f069-4f88-9dd0-1488cf078b60\" xlink:type=\"simple\"><polygon fill=\"#FFFFFF\" points=\"16,6,163,6,170,28.2969,284,28.2969,284,240,16,240,16,6\" style=\"stroke: #000000; stroke-width: 1.5;\"/><line style=\"stroke: #000000; stroke-width: 1.5;\" x1=\"16\" x2=\"170\" y1=\"28.2969\" y2=\"28.2969\"/><text fill=\"#000000\" font-family=\"sans-serif\" font-size=\"14\" font-weight=\"bold\" lengthAdjust=\"spacingAndGlyphs\" textLength=\"141\" x=\"20\" y=\"20.9951\">PrivateImportTest</text></a><!--MD5=[e4f7fae6ed58524ba242bb0b0d3be6b7]\n",
       "cluster E2--><a href=\"psysml:2d8a57d2-00aa-4c24-bcf4-c6f0dba3a85a\" target=\"_top\" title=\"psysml:2d8a57d2-00aa-4c24-bcf4-c6f0dba3a85a\" xlink:actuate=\"onRequest\" xlink:href=\"psysml:2d8a57d2-00aa-4c24-bcf4-c6f0dba3a85a\" xlink:show=\"new\" xlink:title=\"psysml:2d8a57d2-00aa-4c24-bcf4-c6f0dba3a85a\" xlink:type=\"simple\"><polygon fill=\"#FFFFFF\" points=\"162,119,188,119,195,141.2969,260,141.2969,260,216,162,216,162,119\" style=\"stroke: #000000; stroke-width: 1.5;\"/><line style=\"stroke: #000000; stroke-width: 1.5;\" x1=\"162\" x2=\"195\" y1=\"141.2969\" y2=\"141.2969\"/><text fill=\"#000000\" font-family=\"sans-serif\" font-size=\"14\" font-weight=\"bold\" lengthAdjust=\"spacingAndGlyphs\" textLength=\"20\" x=\"166\" y=\"133.9951\">P1</text></a><!--MD5=[14e3b0961a2654348d326746436168a1]\n",
       "cluster E6--><a href=\"psysml:0a65db1a-6ec3-4140-b73e-0c5567d9dbea\" target=\"_top\" title=\"psysml:0a65db1a-6ec3-4140-b73e-0c5567d9dbea\" xlink:actuate=\"onRequest\" xlink:href=\"psysml:0a65db1a-6ec3-4140-b73e-0c5567d9dbea\" xlink:show=\"new\" xlink:title=\"psysml:0a65db1a-6ec3-4140-b73e-0c5567d9dbea\" xlink:type=\"simple\"><polygon fill=\"#FFFFFF\" points=\"40,119,66,119,73,141.2969,138,141.2969,138,216,40,216,40,119\" style=\"stroke: #000000; stroke-width: 1.5;\"/><line style=\"stroke: #000000; stroke-width: 1.5;\" x1=\"40\" x2=\"73\" y1=\"141.2969\" y2=\"141.2969\"/><text fill=\"#000000\" font-family=\"sans-serif\" font-size=\"14\" font-weight=\"bold\" lengthAdjust=\"spacingAndGlyphs\" textLength=\"20\" x=\"44\" y=\"133.9951\">P3</text></a><!--MD5=[270fce915f116d4de14055a7c1d9a0f3]\n",
       "class E5--><a href=\"psysml:43785f75-2189-42e8-ba89-9f38d7235e69\" target=\"_top\" title=\"psysml:43785f75-2189-42e8-ba89-9f38d7235e69\" xlink:actuate=\"onRequest\" xlink:href=\"psysml:43785f75-2189-42e8-ba89-9f38d7235e69\" xlink:show=\"new\" xlink:title=\"psysml:43785f75-2189-42e8-ba89-9f38d7235e69\" xlink:type=\"simple\"><rect fill=\"#FFFFFF\" height=\"45.9375\" id=\"E5\" rx=\"10\" ry=\"10\" style=\"stroke: #383838; stroke-width: 1.5;\" width=\"42\" x=\"190\" y=\"44.5\"/><text fill=\"#000000\" font-family=\"sans-serif\" font-size=\"12\" font-style=\"italic\" lengthAdjust=\"spacingAndGlyphs\" textLength=\"40\" x=\"191\" y=\"60.6387\">«part»</text><text fill=\"#000000\" font-family=\"sans-serif\" font-size=\"12\" lengthAdjust=\"spacingAndGlyphs\" textLength=\"22\" x=\"200\" y=\"74.6074\">x: A</text><line style=\"stroke: #383838; stroke-width: 1.5;\" x1=\"191\" x2=\"231\" y1=\"82.4375\" y2=\"82.4375\"/></a><!--MD5=[b9389687b975829384b498ac4b7476b2]\n",
       "class E8--><a href=\"psysml:ceec508b-c3a9-4167-8e78-7da3e35ca489\" target=\"_top\" title=\"psysml:ceec508b-c3a9-4167-8e78-7da3e35ca489\" xlink:actuate=\"onRequest\" xlink:href=\"psysml:ceec508b-c3a9-4167-8e78-7da3e35ca489\" xlink:show=\"new\" xlink:title=\"psysml:ceec508b-c3a9-4167-8e78-7da3e35ca489\" xlink:type=\"simple\"><rect fill=\"#FFFFFF\" height=\"45.9375\" id=\"E8\" rx=\"10\" ry=\"10\" style=\"stroke: #383838; stroke-width: 1.5;\" width=\"42\" x=\"107\" y=\"44.5\"/><text fill=\"#000000\" font-family=\"sans-serif\" font-size=\"12\" font-style=\"italic\" lengthAdjust=\"spacingAndGlyphs\" textLength=\"40\" x=\"108\" y=\"60.6387\">«part»</text><text fill=\"#000000\" font-family=\"sans-serif\" font-size=\"12\" lengthAdjust=\"spacingAndGlyphs\" textLength=\"21\" x=\"117.5\" y=\"74.6074\">z: B</text><line style=\"stroke: #383838; stroke-width: 1.5;\" x1=\"108\" x2=\"148\" y1=\"82.4375\" y2=\"82.4375\"/></a><!--MD5=[09b614a08d8cba4a07c9adeb5e0fee81]\n",
       "class E3--><a href=\"psysml:8088eca0-f00f-4a1f-9db3-28df87f45186\" target=\"_top\" title=\"psysml:8088eca0-f00f-4a1f-9db3-28df87f45186\" xlink:actuate=\"onRequest\" xlink:href=\"psysml:8088eca0-f00f-4a1f-9db3-28df87f45186\" xlink:show=\"new\" xlink:title=\"psysml:8088eca0-f00f-4a1f-9db3-28df87f45186\" xlink:type=\"simple\"><rect fill=\"#FFFFFF\" height=\"45.9375\" id=\"E3\" style=\"stroke: #383838; stroke-width: 1.5;\" width=\"66\" x=\"178\" y=\"154\"/><text fill=\"#000000\" font-family=\"sans-serif\" font-size=\"12\" font-style=\"italic\" lengthAdjust=\"spacingAndGlyphs\" textLength=\"64\" x=\"179\" y=\"170.1387\">«part def»</text><text fill=\"#000000\" font-family=\"sans-serif\" font-size=\"12\" lengthAdjust=\"spacingAndGlyphs\" textLength=\"8\" x=\"207\" y=\"184.1074\">A</text><line style=\"stroke: #383838; stroke-width: 1.5;\" x1=\"179\" x2=\"243\" y1=\"191.9375\" y2=\"191.9375\"/></a><a href=\"psysml:f5fce4b6-35f4-4f46-9b6d-d151b55baece\" target=\"_top\" title=\"psysml:f5fce4b6-35f4-4f46-9b6d-d151b55baece\" xlink:actuate=\"onRequest\" xlink:href=\"psysml:f5fce4b6-35f4-4f46-9b6d-d151b55baece\" xlink:show=\"new\" xlink:title=\"psysml:f5fce4b6-35f4-4f46-9b6d-d151b55baece\" xlink:type=\"simple\"><polygon fill=\"#FFFFFF\" points=\"32,41,58,41,65,63.2969,72,63.2969,72,93.5938,32,93.5938,32,41\" style=\"stroke: #000000; stroke-width: 1.5;\"/><line style=\"stroke: #000000; stroke-width: 1.5;\" x1=\"32\" x2=\"65\" y1=\"63.2969\" y2=\"63.2969\"/><text fill=\"#000000\" font-family=\"sans-serif\" font-size=\"14\" font-weight=\"bold\" lengthAdjust=\"spacingAndGlyphs\" textLength=\"20\" x=\"36\" y=\"55.9951\">P2</text></a><!--MD5=[2156ba9850f5573cc1fc38a6a4b2f02b]\n",
       "class E7--><a href=\"psysml:a9488239-9884-4bc6-98b3-04bdbcc46eca\" target=\"_top\" title=\"psysml:a9488239-9884-4bc6-98b3-04bdbcc46eca\" xlink:actuate=\"onRequest\" xlink:href=\"psysml:a9488239-9884-4bc6-98b3-04bdbcc46eca\" xlink:show=\"new\" xlink:title=\"psysml:a9488239-9884-4bc6-98b3-04bdbcc46eca\" xlink:type=\"simple\"><rect fill=\"#FFFFFF\" height=\"45.9375\" id=\"E7\" style=\"stroke: #383838; stroke-width: 1.5;\" width=\"66\" x=\"56\" y=\"154\"/><text fill=\"#000000\" font-family=\"sans-serif\" font-size=\"12\" font-style=\"italic\" lengthAdjust=\"spacingAndGlyphs\" textLength=\"64\" x=\"57\" y=\"170.1387\">«part def»</text><text fill=\"#000000\" font-family=\"sans-serif\" font-size=\"12\" lengthAdjust=\"spacingAndGlyphs\" textLength=\"8\" x=\"85\" y=\"184.1074\">B</text><line style=\"stroke: #383838; stroke-width: 1.5;\" x1=\"57\" x2=\"121\" y1=\"191.9375\" y2=\"191.9375\"/></a><!--MD5=[e9be52314489bd878ff4c7144b63c9e1]\n",
       "link E5 to E3--><a href=\"psysml:25d642ee-de35-43b5-ac2f-29504efb7d68\" target=\"_top\" title=\"psysml:25d642ee-de35-43b5-ac2f-29504efb7d68\" xlink:actuate=\"onRequest\" xlink:href=\"psysml:25d642ee-de35-43b5-ac2f-29504efb7d68\" xlink:show=\"new\" xlink:title=\"psysml:25d642ee-de35-43b5-ac2f-29504efb7d68\" xlink:type=\"simple\"><path d=\"M211,90.51 C211,102.89 211,118.78 211,133.48 \" fill=\"none\" id=\"E5-&gt;E3\" style=\"stroke: #383838; stroke-width: 1.0;\"/><polygon fill=\"#FFFFFF\" points=\"211,153.65,204,134.65,218,134.65,211,153.65\" style=\"stroke: #383838; stroke-width: 1.0;\"/><ellipse cx=\"206\" cy=\"128.95\" fill=\"#383838\" rx=\"2\" ry=\"2\" style=\"stroke: #383838; stroke-width: 1.0;\"/><ellipse cx=\"216\" cy=\"128.95\" fill=\"#383838\" rx=\"2\" ry=\"2\" style=\"stroke: #383838; stroke-width: 1.0;\"/></a><!--MD5=[bfa3c8b0d15052fdf50ae9310b491027]\n",
       "link E8 to E7--><a href=\"psysml:d89216b2-7e18-408a-b614-d8caef1c47ec\" target=\"_top\" title=\"psysml:d89216b2-7e18-408a-b614-d8caef1c47ec\" xlink:actuate=\"onRequest\" xlink:href=\"psysml:d89216b2-7e18-408a-b614-d8caef1c47ec\" xlink:show=\"new\" xlink:title=\"psysml:d89216b2-7e18-408a-b614-d8caef1c47ec\" xlink:type=\"simple\"><path d=\"M120.01,90.51 C115.39,103.25 109.42,119.7 103.96,134.76 \" fill=\"none\" id=\"E8-&gt;E7\" style=\"stroke: #383838; stroke-width: 1.0;\"/><polygon fill=\"#FFFFFF\" points=\"97.11,153.65,97.0036,133.4018,110.1656,138.1726,97.11,153.65\" style=\"stroke: #383838; stroke-width: 1.0;\"/><ellipse cx=\"100.8262\" cy=\"128.7245\" fill=\"#383838\" rx=\"2\" ry=\"2\" style=\"stroke: #383838; stroke-width: 1.0;\"/><ellipse cx=\"110.2277\" cy=\"132.1322\" fill=\"#383838\" rx=\"2\" ry=\"2\" style=\"stroke: #383838; stroke-width: 1.0;\"/></a><!--MD5=[5c58f7d9f1da55d11238cb715d36e52e]\n",
       "@startuml\r\n",
       "skinparam monochrome true\r\n",
       "skinparam classbackgroundcolor white\r\n",
       "skinparam shadowing false\r\n",
       "skinparam wrapWidth 300\r\n",
       "hide circle\r\n",
       "\r\n",
       "package \"PrivateImportTest\" as E1  [[psysml:04be3c0a-f069-4f88-9dd0-1488cf078b60 ]]  {\r\n",
       "package \"P1\" as E2  [[psysml:2d8a57d2-00aa-4c24-bcf4-c6f0dba3a85a ]]  {\r\n",
       "comp def \"A\" as E3  <<(T,blue)part def>> [[psysml:8088eca0-f00f-4a1f-9db3-28df87f45186 ]] {\r\n",
       "}\r\n",
       "}\r\n",
       "package \"P2\" as E4  [[psysml:f5fce4b6-35f4-4f46-9b6d-d151b55baece ]]  {\r\n",
       "}\r\n",
       "comp usage \"x: A\" as E5  <<(T,blue)part>> [[psysml:43785f75-2189-42e8-ba89-9f38d7235e69 ]] {\r\n",
       "}\r\n",
       "package \"P3\" as E6  [[psysml:0a65db1a-6ec3-4140-b73e-0c5567d9dbea ]]  {\r\n",
       "comp def \"B\" as E7  <<(T,blue)part def>> [[psysml:a9488239-9884-4bc6-98b3-04bdbcc46eca ]] {\r\n",
       "}\r\n",
       "E5 - -:|> E3 [[psysml:25d642ee-de35-43b5-ac2f-29504efb7d68 ]] \r\n",
       "}\r\n",
       "comp usage \"z: B\" as E8  <<(T,blue)part>> [[psysml:ceec508b-c3a9-4167-8e78-7da3e35ca489 ]] {\r\n",
       "}\r\n",
       "E8 - -:|> E7 [[psysml:d89216b2-7e18-408a-b614-d8caef1c47ec ]] \r\n",
       "}\r\n",
       "@enduml\r\n",
       "\n",
       "PlantUML version 1.2020.13(Sat Jun 13 12:26:38 UTC 2020)\n",
       "(EPL source distribution)\n",
       "Java Runtime: OpenJDK Runtime Environment\n",
       "JVM: OpenJDK 64-Bit Server VM\n",
       "Default Encoding: UTF-8\n",
       "Language: en\n",
       "Country: null\n",
       "--></g></svg>"
      ]
     },
     "execution_count": 42,
     "metadata": {},
     "output_type": "execute_result"
    }
   ],
   "source": [
    "%viz --style=\"DEFAULT\" --view=\"Sequence\" \"PrivateImportTest\""
   ]
  },
  {
   "cell_type": "code",
   "execution_count": 43,
   "id": "environmental-accident",
   "metadata": {
    "execution": {
     "iopub.execute_input": "2021-03-25T14:10:41.908197Z",
     "iopub.status.busy": "2021-03-25T14:10:41.907301Z",
     "iopub.status.idle": "2021-03-25T14:10:41.973654Z",
     "shell.execute_reply": "2021-03-25T14:10:41.972374Z"
    }
   },
   "outputs": [
    {
     "data": {
      "image/svg+xml": [
       "<?xml version=\"1.0\" encoding=\"UTF-8\" standalone=\"no\"?><svg xmlns=\"http://www.w3.org/2000/svg\" xmlns:xlink=\"http://www.w3.org/1999/xlink\" contentScriptType=\"application/ecmascript\" contentStyleType=\"text/css\" height=\"252px\" preserveAspectRatio=\"none\" style=\"width:306px;height:252px;\" version=\"1.1\" viewBox=\"0 0 306 252\" width=\"306px\" zoomAndPan=\"magnify\"><defs/><g><!--MD5=[fbc87193dbaf4d95561dea2c320d4a47]\n",
       "cluster E1--><a href=\"psysml:04be3c0a-f069-4f88-9dd0-1488cf078b60\" target=\"_top\" title=\"psysml:04be3c0a-f069-4f88-9dd0-1488cf078b60\" xlink:actuate=\"onRequest\" xlink:href=\"psysml:04be3c0a-f069-4f88-9dd0-1488cf078b60\" xlink:show=\"new\" xlink:title=\"psysml:04be3c0a-f069-4f88-9dd0-1488cf078b60\" xlink:type=\"simple\"><polygon fill=\"#FFFFFF\" points=\"16,6,163,6,170,28.2969,284,28.2969,284,240,16,240,16,6\" style=\"stroke: #000000; stroke-width: 1.5;\"/><line style=\"stroke: #000000; stroke-width: 1.5;\" x1=\"16\" x2=\"170\" y1=\"28.2969\" y2=\"28.2969\"/><text fill=\"#000000\" font-family=\"sans-serif\" font-size=\"14\" font-weight=\"bold\" lengthAdjust=\"spacingAndGlyphs\" textLength=\"141\" x=\"20\" y=\"20.9951\">PrivateImportTest</text></a><!--MD5=[e4f7fae6ed58524ba242bb0b0d3be6b7]\n",
       "cluster E2--><a href=\"psysml:2d8a57d2-00aa-4c24-bcf4-c6f0dba3a85a\" target=\"_top\" title=\"psysml:2d8a57d2-00aa-4c24-bcf4-c6f0dba3a85a\" xlink:actuate=\"onRequest\" xlink:href=\"psysml:2d8a57d2-00aa-4c24-bcf4-c6f0dba3a85a\" xlink:show=\"new\" xlink:title=\"psysml:2d8a57d2-00aa-4c24-bcf4-c6f0dba3a85a\" xlink:type=\"simple\"><polygon fill=\"#FFFFFF\" points=\"162,119,188,119,195,141.2969,260,141.2969,260,216,162,216,162,119\" style=\"stroke: #000000; stroke-width: 1.5;\"/><line style=\"stroke: #000000; stroke-width: 1.5;\" x1=\"162\" x2=\"195\" y1=\"141.2969\" y2=\"141.2969\"/><text fill=\"#000000\" font-family=\"sans-serif\" font-size=\"14\" font-weight=\"bold\" lengthAdjust=\"spacingAndGlyphs\" textLength=\"20\" x=\"166\" y=\"133.9951\">P1</text></a><!--MD5=[14e3b0961a2654348d326746436168a1]\n",
       "cluster E6--><a href=\"psysml:0a65db1a-6ec3-4140-b73e-0c5567d9dbea\" target=\"_top\" title=\"psysml:0a65db1a-6ec3-4140-b73e-0c5567d9dbea\" xlink:actuate=\"onRequest\" xlink:href=\"psysml:0a65db1a-6ec3-4140-b73e-0c5567d9dbea\" xlink:show=\"new\" xlink:title=\"psysml:0a65db1a-6ec3-4140-b73e-0c5567d9dbea\" xlink:type=\"simple\"><polygon fill=\"#FFFFFF\" points=\"40,119,66,119,73,141.2969,138,141.2969,138,216,40,216,40,119\" style=\"stroke: #000000; stroke-width: 1.5;\"/><line style=\"stroke: #000000; stroke-width: 1.5;\" x1=\"40\" x2=\"73\" y1=\"141.2969\" y2=\"141.2969\"/><text fill=\"#000000\" font-family=\"sans-serif\" font-size=\"14\" font-weight=\"bold\" lengthAdjust=\"spacingAndGlyphs\" textLength=\"20\" x=\"44\" y=\"133.9951\">P3</text></a><!--MD5=[270fce915f116d4de14055a7c1d9a0f3]\n",
       "class E5--><a href=\"psysml:43785f75-2189-42e8-ba89-9f38d7235e69\" target=\"_top\" title=\"psysml:43785f75-2189-42e8-ba89-9f38d7235e69\" xlink:actuate=\"onRequest\" xlink:href=\"psysml:43785f75-2189-42e8-ba89-9f38d7235e69\" xlink:show=\"new\" xlink:title=\"psysml:43785f75-2189-42e8-ba89-9f38d7235e69\" xlink:type=\"simple\"><rect fill=\"#FFFFFF\" height=\"45.9375\" id=\"E5\" rx=\"10\" ry=\"10\" style=\"stroke: #383838; stroke-width: 1.5;\" width=\"42\" x=\"190\" y=\"44.5\"/><text fill=\"#000000\" font-family=\"sans-serif\" font-size=\"12\" font-style=\"italic\" lengthAdjust=\"spacingAndGlyphs\" textLength=\"40\" x=\"191\" y=\"60.6387\">«part»</text><text fill=\"#000000\" font-family=\"sans-serif\" font-size=\"12\" lengthAdjust=\"spacingAndGlyphs\" textLength=\"22\" x=\"200\" y=\"74.6074\">x: A</text><line style=\"stroke: #383838; stroke-width: 1.5;\" x1=\"191\" x2=\"231\" y1=\"82.4375\" y2=\"82.4375\"/></a><!--MD5=[b9389687b975829384b498ac4b7476b2]\n",
       "class E8--><a href=\"psysml:ceec508b-c3a9-4167-8e78-7da3e35ca489\" target=\"_top\" title=\"psysml:ceec508b-c3a9-4167-8e78-7da3e35ca489\" xlink:actuate=\"onRequest\" xlink:href=\"psysml:ceec508b-c3a9-4167-8e78-7da3e35ca489\" xlink:show=\"new\" xlink:title=\"psysml:ceec508b-c3a9-4167-8e78-7da3e35ca489\" xlink:type=\"simple\"><rect fill=\"#FFFFFF\" height=\"45.9375\" id=\"E8\" rx=\"10\" ry=\"10\" style=\"stroke: #383838; stroke-width: 1.5;\" width=\"42\" x=\"107\" y=\"44.5\"/><text fill=\"#000000\" font-family=\"sans-serif\" font-size=\"12\" font-style=\"italic\" lengthAdjust=\"spacingAndGlyphs\" textLength=\"40\" x=\"108\" y=\"60.6387\">«part»</text><text fill=\"#000000\" font-family=\"sans-serif\" font-size=\"12\" lengthAdjust=\"spacingAndGlyphs\" textLength=\"21\" x=\"117.5\" y=\"74.6074\">z: B</text><line style=\"stroke: #383838; stroke-width: 1.5;\" x1=\"108\" x2=\"148\" y1=\"82.4375\" y2=\"82.4375\"/></a><!--MD5=[09b614a08d8cba4a07c9adeb5e0fee81]\n",
       "class E3--><a href=\"psysml:8088eca0-f00f-4a1f-9db3-28df87f45186\" target=\"_top\" title=\"psysml:8088eca0-f00f-4a1f-9db3-28df87f45186\" xlink:actuate=\"onRequest\" xlink:href=\"psysml:8088eca0-f00f-4a1f-9db3-28df87f45186\" xlink:show=\"new\" xlink:title=\"psysml:8088eca0-f00f-4a1f-9db3-28df87f45186\" xlink:type=\"simple\"><rect fill=\"#FFFFFF\" height=\"45.9375\" id=\"E3\" style=\"stroke: #383838; stroke-width: 1.5;\" width=\"66\" x=\"178\" y=\"154\"/><text fill=\"#000000\" font-family=\"sans-serif\" font-size=\"12\" font-style=\"italic\" lengthAdjust=\"spacingAndGlyphs\" textLength=\"64\" x=\"179\" y=\"170.1387\">«part def»</text><text fill=\"#000000\" font-family=\"sans-serif\" font-size=\"12\" lengthAdjust=\"spacingAndGlyphs\" textLength=\"8\" x=\"207\" y=\"184.1074\">A</text><line style=\"stroke: #383838; stroke-width: 1.5;\" x1=\"179\" x2=\"243\" y1=\"191.9375\" y2=\"191.9375\"/></a><a href=\"psysml:f5fce4b6-35f4-4f46-9b6d-d151b55baece\" target=\"_top\" title=\"psysml:f5fce4b6-35f4-4f46-9b6d-d151b55baece\" xlink:actuate=\"onRequest\" xlink:href=\"psysml:f5fce4b6-35f4-4f46-9b6d-d151b55baece\" xlink:show=\"new\" xlink:title=\"psysml:f5fce4b6-35f4-4f46-9b6d-d151b55baece\" xlink:type=\"simple\"><polygon fill=\"#FFFFFF\" points=\"32,41,58,41,65,63.2969,72,63.2969,72,93.5938,32,93.5938,32,41\" style=\"stroke: #000000; stroke-width: 1.5;\"/><line style=\"stroke: #000000; stroke-width: 1.5;\" x1=\"32\" x2=\"65\" y1=\"63.2969\" y2=\"63.2969\"/><text fill=\"#000000\" font-family=\"sans-serif\" font-size=\"14\" font-weight=\"bold\" lengthAdjust=\"spacingAndGlyphs\" textLength=\"20\" x=\"36\" y=\"55.9951\">P2</text></a><!--MD5=[2156ba9850f5573cc1fc38a6a4b2f02b]\n",
       "class E7--><a href=\"psysml:a9488239-9884-4bc6-98b3-04bdbcc46eca\" target=\"_top\" title=\"psysml:a9488239-9884-4bc6-98b3-04bdbcc46eca\" xlink:actuate=\"onRequest\" xlink:href=\"psysml:a9488239-9884-4bc6-98b3-04bdbcc46eca\" xlink:show=\"new\" xlink:title=\"psysml:a9488239-9884-4bc6-98b3-04bdbcc46eca\" xlink:type=\"simple\"><rect fill=\"#FFFFFF\" height=\"45.9375\" id=\"E7\" style=\"stroke: #383838; stroke-width: 1.5;\" width=\"66\" x=\"56\" y=\"154\"/><text fill=\"#000000\" font-family=\"sans-serif\" font-size=\"12\" font-style=\"italic\" lengthAdjust=\"spacingAndGlyphs\" textLength=\"64\" x=\"57\" y=\"170.1387\">«part def»</text><text fill=\"#000000\" font-family=\"sans-serif\" font-size=\"12\" lengthAdjust=\"spacingAndGlyphs\" textLength=\"8\" x=\"85\" y=\"184.1074\">B</text><line style=\"stroke: #383838; stroke-width: 1.5;\" x1=\"57\" x2=\"121\" y1=\"191.9375\" y2=\"191.9375\"/></a><!--MD5=[e9be52314489bd878ff4c7144b63c9e1]\n",
       "link E5 to E3--><a href=\"psysml:25d642ee-de35-43b5-ac2f-29504efb7d68\" target=\"_top\" title=\"psysml:25d642ee-de35-43b5-ac2f-29504efb7d68\" xlink:actuate=\"onRequest\" xlink:href=\"psysml:25d642ee-de35-43b5-ac2f-29504efb7d68\" xlink:show=\"new\" xlink:title=\"psysml:25d642ee-de35-43b5-ac2f-29504efb7d68\" xlink:type=\"simple\"><path d=\"M211,90.51 C211,102.89 211,118.78 211,133.48 \" fill=\"none\" id=\"E5-&gt;E3\" style=\"stroke: #383838; stroke-width: 1.0;\"/><polygon fill=\"#FFFFFF\" points=\"211,153.65,204,134.65,218,134.65,211,153.65\" style=\"stroke: #383838; stroke-width: 1.0;\"/><ellipse cx=\"206\" cy=\"128.95\" fill=\"#383838\" rx=\"2\" ry=\"2\" style=\"stroke: #383838; stroke-width: 1.0;\"/><ellipse cx=\"216\" cy=\"128.95\" fill=\"#383838\" rx=\"2\" ry=\"2\" style=\"stroke: #383838; stroke-width: 1.0;\"/></a><!--MD5=[bfa3c8b0d15052fdf50ae9310b491027]\n",
       "link E8 to E7--><a href=\"psysml:d89216b2-7e18-408a-b614-d8caef1c47ec\" target=\"_top\" title=\"psysml:d89216b2-7e18-408a-b614-d8caef1c47ec\" xlink:actuate=\"onRequest\" xlink:href=\"psysml:d89216b2-7e18-408a-b614-d8caef1c47ec\" xlink:show=\"new\" xlink:title=\"psysml:d89216b2-7e18-408a-b614-d8caef1c47ec\" xlink:type=\"simple\"><path d=\"M120.01,90.51 C115.39,103.25 109.42,119.7 103.96,134.76 \" fill=\"none\" id=\"E8-&gt;E7\" style=\"stroke: #383838; stroke-width: 1.0;\"/><polygon fill=\"#FFFFFF\" points=\"97.11,153.65,97.0036,133.4018,110.1656,138.1726,97.11,153.65\" style=\"stroke: #383838; stroke-width: 1.0;\"/><ellipse cx=\"100.8262\" cy=\"128.7245\" fill=\"#383838\" rx=\"2\" ry=\"2\" style=\"stroke: #383838; stroke-width: 1.0;\"/><ellipse cx=\"110.2277\" cy=\"132.1322\" fill=\"#383838\" rx=\"2\" ry=\"2\" style=\"stroke: #383838; stroke-width: 1.0;\"/></a><!--MD5=[5c58f7d9f1da55d11238cb715d36e52e]\n",
       "@startuml\r\n",
       "skinparam monochrome true\r\n",
       "skinparam classbackgroundcolor white\r\n",
       "skinparam shadowing false\r\n",
       "skinparam wrapWidth 300\r\n",
       "hide circle\r\n",
       "\r\n",
       "package \"PrivateImportTest\" as E1  [[psysml:04be3c0a-f069-4f88-9dd0-1488cf078b60 ]]  {\r\n",
       "package \"P1\" as E2  [[psysml:2d8a57d2-00aa-4c24-bcf4-c6f0dba3a85a ]]  {\r\n",
       "comp def \"A\" as E3  <<(T,blue)part def>> [[psysml:8088eca0-f00f-4a1f-9db3-28df87f45186 ]] {\r\n",
       "}\r\n",
       "}\r\n",
       "package \"P2\" as E4  [[psysml:f5fce4b6-35f4-4f46-9b6d-d151b55baece ]]  {\r\n",
       "}\r\n",
       "comp usage \"x: A\" as E5  <<(T,blue)part>> [[psysml:43785f75-2189-42e8-ba89-9f38d7235e69 ]] {\r\n",
       "}\r\n",
       "package \"P3\" as E6  [[psysml:0a65db1a-6ec3-4140-b73e-0c5567d9dbea ]]  {\r\n",
       "comp def \"B\" as E7  <<(T,blue)part def>> [[psysml:a9488239-9884-4bc6-98b3-04bdbcc46eca ]] {\r\n",
       "}\r\n",
       "E5 - -:|> E3 [[psysml:25d642ee-de35-43b5-ac2f-29504efb7d68 ]] \r\n",
       "}\r\n",
       "comp usage \"z: B\" as E8  <<(T,blue)part>> [[psysml:ceec508b-c3a9-4167-8e78-7da3e35ca489 ]] {\r\n",
       "}\r\n",
       "E8 - -:|> E7 [[psysml:d89216b2-7e18-408a-b614-d8caef1c47ec ]] \r\n",
       "}\r\n",
       "@enduml\r\n",
       "\n",
       "PlantUML version 1.2020.13(Sat Jun 13 12:26:38 UTC 2020)\n",
       "(EPL source distribution)\n",
       "Java Runtime: OpenJDK Runtime Environment\n",
       "JVM: OpenJDK 64-Bit Server VM\n",
       "Default Encoding: UTF-8\n",
       "Language: en\n",
       "Country: null\n",
       "--></g></svg>"
      ]
     },
     "execution_count": 43,
     "metadata": {},
     "output_type": "execute_result"
    }
   ],
   "source": [
    "%viz --style=\"DEFAULT\" --view=\"MIXED\" \"PrivateImportTest\""
   ]
  },
  {
   "cell_type": "code",
   "execution_count": 44,
   "id": "textile-particle",
   "metadata": {
    "execution": {
     "iopub.execute_input": "2021-03-25T14:10:42.026269Z",
     "iopub.status.busy": "2021-03-25T14:10:42.023458Z",
     "iopub.status.idle": "2021-03-25T14:10:42.105401Z",
     "shell.execute_reply": "2021-03-25T14:10:42.103862Z"
    }
   },
   "outputs": [
    {
     "data": {
      "image/svg+xml": [
       "<?xml version=\"1.0\" encoding=\"UTF-8\" standalone=\"no\"?><svg xmlns=\"http://www.w3.org/2000/svg\" xmlns:xlink=\"http://www.w3.org/1999/xlink\" contentScriptType=\"application/ecmascript\" contentStyleType=\"text/css\" height=\"252px\" preserveAspectRatio=\"none\" style=\"width:306px;height:252px;\" version=\"1.1\" viewBox=\"0 0 306 252\" width=\"306px\" zoomAndPan=\"magnify\"><defs/><g><!--MD5=[fbc87193dbaf4d95561dea2c320d4a47]\n",
       "cluster E1--><a href=\"psysml:04be3c0a-f069-4f88-9dd0-1488cf078b60\" target=\"_top\" title=\"psysml:04be3c0a-f069-4f88-9dd0-1488cf078b60\" xlink:actuate=\"onRequest\" xlink:href=\"psysml:04be3c0a-f069-4f88-9dd0-1488cf078b60\" xlink:show=\"new\" xlink:title=\"psysml:04be3c0a-f069-4f88-9dd0-1488cf078b60\" xlink:type=\"simple\"><polygon fill=\"#FFFFFF\" points=\"16,6,163,6,170,28.2969,284,28.2969,284,240,16,240,16,6\" style=\"stroke: #000000; stroke-width: 1.5;\"/><line style=\"stroke: #000000; stroke-width: 1.5;\" x1=\"16\" x2=\"170\" y1=\"28.2969\" y2=\"28.2969\"/><text fill=\"#000000\" font-family=\"sans-serif\" font-size=\"14\" font-weight=\"bold\" lengthAdjust=\"spacingAndGlyphs\" textLength=\"141\" x=\"20\" y=\"20.9951\">PrivateImportTest</text></a><!--MD5=[e4f7fae6ed58524ba242bb0b0d3be6b7]\n",
       "cluster E2--><a href=\"psysml:2d8a57d2-00aa-4c24-bcf4-c6f0dba3a85a\" target=\"_top\" title=\"psysml:2d8a57d2-00aa-4c24-bcf4-c6f0dba3a85a\" xlink:actuate=\"onRequest\" xlink:href=\"psysml:2d8a57d2-00aa-4c24-bcf4-c6f0dba3a85a\" xlink:show=\"new\" xlink:title=\"psysml:2d8a57d2-00aa-4c24-bcf4-c6f0dba3a85a\" xlink:type=\"simple\"><polygon fill=\"#FFFFFF\" points=\"162,119,188,119,195,141.2969,260,141.2969,260,216,162,216,162,119\" style=\"stroke: #000000; stroke-width: 1.5;\"/><line style=\"stroke: #000000; stroke-width: 1.5;\" x1=\"162\" x2=\"195\" y1=\"141.2969\" y2=\"141.2969\"/><text fill=\"#000000\" font-family=\"sans-serif\" font-size=\"14\" font-weight=\"bold\" lengthAdjust=\"spacingAndGlyphs\" textLength=\"20\" x=\"166\" y=\"133.9951\">P1</text></a><!--MD5=[14e3b0961a2654348d326746436168a1]\n",
       "cluster E6--><a href=\"psysml:0a65db1a-6ec3-4140-b73e-0c5567d9dbea\" target=\"_top\" title=\"psysml:0a65db1a-6ec3-4140-b73e-0c5567d9dbea\" xlink:actuate=\"onRequest\" xlink:href=\"psysml:0a65db1a-6ec3-4140-b73e-0c5567d9dbea\" xlink:show=\"new\" xlink:title=\"psysml:0a65db1a-6ec3-4140-b73e-0c5567d9dbea\" xlink:type=\"simple\"><polygon fill=\"#FFFFFF\" points=\"40,119,66,119,73,141.2969,138,141.2969,138,216,40,216,40,119\" style=\"stroke: #000000; stroke-width: 1.5;\"/><line style=\"stroke: #000000; stroke-width: 1.5;\" x1=\"40\" x2=\"73\" y1=\"141.2969\" y2=\"141.2969\"/><text fill=\"#000000\" font-family=\"sans-serif\" font-size=\"14\" font-weight=\"bold\" lengthAdjust=\"spacingAndGlyphs\" textLength=\"20\" x=\"44\" y=\"133.9951\">P3</text></a><!--MD5=[270fce915f116d4de14055a7c1d9a0f3]\n",
       "class E5--><a href=\"psysml:43785f75-2189-42e8-ba89-9f38d7235e69\" target=\"_top\" title=\"psysml:43785f75-2189-42e8-ba89-9f38d7235e69\" xlink:actuate=\"onRequest\" xlink:href=\"psysml:43785f75-2189-42e8-ba89-9f38d7235e69\" xlink:show=\"new\" xlink:title=\"psysml:43785f75-2189-42e8-ba89-9f38d7235e69\" xlink:type=\"simple\"><rect fill=\"#FFFFFF\" height=\"45.9375\" id=\"E5\" rx=\"10\" ry=\"10\" style=\"stroke: #383838; stroke-width: 1.5;\" width=\"42\" x=\"190\" y=\"44.5\"/><text fill=\"#000000\" font-family=\"sans-serif\" font-size=\"12\" font-style=\"italic\" lengthAdjust=\"spacingAndGlyphs\" textLength=\"40\" x=\"191\" y=\"60.6387\">«part»</text><text fill=\"#000000\" font-family=\"sans-serif\" font-size=\"12\" lengthAdjust=\"spacingAndGlyphs\" textLength=\"22\" x=\"200\" y=\"74.6074\">x: A</text><line style=\"stroke: #383838; stroke-width: 1.5;\" x1=\"191\" x2=\"231\" y1=\"82.4375\" y2=\"82.4375\"/></a><!--MD5=[b9389687b975829384b498ac4b7476b2]\n",
       "class E8--><a href=\"psysml:ceec508b-c3a9-4167-8e78-7da3e35ca489\" target=\"_top\" title=\"psysml:ceec508b-c3a9-4167-8e78-7da3e35ca489\" xlink:actuate=\"onRequest\" xlink:href=\"psysml:ceec508b-c3a9-4167-8e78-7da3e35ca489\" xlink:show=\"new\" xlink:title=\"psysml:ceec508b-c3a9-4167-8e78-7da3e35ca489\" xlink:type=\"simple\"><rect fill=\"#FFFFFF\" height=\"45.9375\" id=\"E8\" rx=\"10\" ry=\"10\" style=\"stroke: #383838; stroke-width: 1.5;\" width=\"42\" x=\"107\" y=\"44.5\"/><text fill=\"#000000\" font-family=\"sans-serif\" font-size=\"12\" font-style=\"italic\" lengthAdjust=\"spacingAndGlyphs\" textLength=\"40\" x=\"108\" y=\"60.6387\">«part»</text><text fill=\"#000000\" font-family=\"sans-serif\" font-size=\"12\" lengthAdjust=\"spacingAndGlyphs\" textLength=\"21\" x=\"117.5\" y=\"74.6074\">z: B</text><line style=\"stroke: #383838; stroke-width: 1.5;\" x1=\"108\" x2=\"148\" y1=\"82.4375\" y2=\"82.4375\"/></a><!--MD5=[09b614a08d8cba4a07c9adeb5e0fee81]\n",
       "class E3--><a href=\"psysml:8088eca0-f00f-4a1f-9db3-28df87f45186\" target=\"_top\" title=\"psysml:8088eca0-f00f-4a1f-9db3-28df87f45186\" xlink:actuate=\"onRequest\" xlink:href=\"psysml:8088eca0-f00f-4a1f-9db3-28df87f45186\" xlink:show=\"new\" xlink:title=\"psysml:8088eca0-f00f-4a1f-9db3-28df87f45186\" xlink:type=\"simple\"><rect fill=\"#FFFFFF\" height=\"45.9375\" id=\"E3\" style=\"stroke: #383838; stroke-width: 1.5;\" width=\"66\" x=\"178\" y=\"154\"/><text fill=\"#000000\" font-family=\"sans-serif\" font-size=\"12\" font-style=\"italic\" lengthAdjust=\"spacingAndGlyphs\" textLength=\"64\" x=\"179\" y=\"170.1387\">«part def»</text><text fill=\"#000000\" font-family=\"sans-serif\" font-size=\"12\" lengthAdjust=\"spacingAndGlyphs\" textLength=\"8\" x=\"207\" y=\"184.1074\">A</text><line style=\"stroke: #383838; stroke-width: 1.5;\" x1=\"179\" x2=\"243\" y1=\"191.9375\" y2=\"191.9375\"/></a><a href=\"psysml:f5fce4b6-35f4-4f46-9b6d-d151b55baece\" target=\"_top\" title=\"psysml:f5fce4b6-35f4-4f46-9b6d-d151b55baece\" xlink:actuate=\"onRequest\" xlink:href=\"psysml:f5fce4b6-35f4-4f46-9b6d-d151b55baece\" xlink:show=\"new\" xlink:title=\"psysml:f5fce4b6-35f4-4f46-9b6d-d151b55baece\" xlink:type=\"simple\"><polygon fill=\"#FFFFFF\" points=\"32,41,58,41,65,63.2969,72,63.2969,72,93.5938,32,93.5938,32,41\" style=\"stroke: #000000; stroke-width: 1.5;\"/><line style=\"stroke: #000000; stroke-width: 1.5;\" x1=\"32\" x2=\"65\" y1=\"63.2969\" y2=\"63.2969\"/><text fill=\"#000000\" font-family=\"sans-serif\" font-size=\"14\" font-weight=\"bold\" lengthAdjust=\"spacingAndGlyphs\" textLength=\"20\" x=\"36\" y=\"55.9951\">P2</text></a><!--MD5=[2156ba9850f5573cc1fc38a6a4b2f02b]\n",
       "class E7--><a href=\"psysml:a9488239-9884-4bc6-98b3-04bdbcc46eca\" target=\"_top\" title=\"psysml:a9488239-9884-4bc6-98b3-04bdbcc46eca\" xlink:actuate=\"onRequest\" xlink:href=\"psysml:a9488239-9884-4bc6-98b3-04bdbcc46eca\" xlink:show=\"new\" xlink:title=\"psysml:a9488239-9884-4bc6-98b3-04bdbcc46eca\" xlink:type=\"simple\"><rect fill=\"#FFFFFF\" height=\"45.9375\" id=\"E7\" style=\"stroke: #383838; stroke-width: 1.5;\" width=\"66\" x=\"56\" y=\"154\"/><text fill=\"#000000\" font-family=\"sans-serif\" font-size=\"12\" font-style=\"italic\" lengthAdjust=\"spacingAndGlyphs\" textLength=\"64\" x=\"57\" y=\"170.1387\">«part def»</text><text fill=\"#000000\" font-family=\"sans-serif\" font-size=\"12\" lengthAdjust=\"spacingAndGlyphs\" textLength=\"8\" x=\"85\" y=\"184.1074\">B</text><line style=\"stroke: #383838; stroke-width: 1.5;\" x1=\"57\" x2=\"121\" y1=\"191.9375\" y2=\"191.9375\"/></a><!--MD5=[e9be52314489bd878ff4c7144b63c9e1]\n",
       "link E5 to E3--><a href=\"psysml:25d642ee-de35-43b5-ac2f-29504efb7d68\" target=\"_top\" title=\"psysml:25d642ee-de35-43b5-ac2f-29504efb7d68\" xlink:actuate=\"onRequest\" xlink:href=\"psysml:25d642ee-de35-43b5-ac2f-29504efb7d68\" xlink:show=\"new\" xlink:title=\"psysml:25d642ee-de35-43b5-ac2f-29504efb7d68\" xlink:type=\"simple\"><path d=\"M211,90.51 C211,102.89 211,118.78 211,133.48 \" fill=\"none\" id=\"E5-&gt;E3\" style=\"stroke: #383838; stroke-width: 1.0;\"/><polygon fill=\"#FFFFFF\" points=\"211,153.65,204,134.65,218,134.65,211,153.65\" style=\"stroke: #383838; stroke-width: 1.0;\"/><ellipse cx=\"206\" cy=\"128.95\" fill=\"#383838\" rx=\"2\" ry=\"2\" style=\"stroke: #383838; stroke-width: 1.0;\"/><ellipse cx=\"216\" cy=\"128.95\" fill=\"#383838\" rx=\"2\" ry=\"2\" style=\"stroke: #383838; stroke-width: 1.0;\"/></a><!--MD5=[bfa3c8b0d15052fdf50ae9310b491027]\n",
       "link E8 to E7--><a href=\"psysml:d89216b2-7e18-408a-b614-d8caef1c47ec\" target=\"_top\" title=\"psysml:d89216b2-7e18-408a-b614-d8caef1c47ec\" xlink:actuate=\"onRequest\" xlink:href=\"psysml:d89216b2-7e18-408a-b614-d8caef1c47ec\" xlink:show=\"new\" xlink:title=\"psysml:d89216b2-7e18-408a-b614-d8caef1c47ec\" xlink:type=\"simple\"><path d=\"M120.01,90.51 C115.39,103.25 109.42,119.7 103.96,134.76 \" fill=\"none\" id=\"E8-&gt;E7\" style=\"stroke: #383838; stroke-width: 1.0;\"/><polygon fill=\"#FFFFFF\" points=\"97.11,153.65,97.0036,133.4018,110.1656,138.1726,97.11,153.65\" style=\"stroke: #383838; stroke-width: 1.0;\"/><ellipse cx=\"100.8262\" cy=\"128.7245\" fill=\"#383838\" rx=\"2\" ry=\"2\" style=\"stroke: #383838; stroke-width: 1.0;\"/><ellipse cx=\"110.2277\" cy=\"132.1322\" fill=\"#383838\" rx=\"2\" ry=\"2\" style=\"stroke: #383838; stroke-width: 1.0;\"/></a><!--MD5=[62adc62e6231abed96c7350548ed30e3]\n",
       "@startuml\r\n",
       "top to bottom direction\r\n",
       "skinparam monochrome true\r\n",
       "skinparam classbackgroundcolor white\r\n",
       "skinparam shadowing false\r\n",
       "skinparam wrapWidth 300\r\n",
       "hide circle\r\n",
       "\r\n",
       "package \"PrivateImportTest\" as E1  [[psysml:04be3c0a-f069-4f88-9dd0-1488cf078b60 ]]  {\r\n",
       "package \"P1\" as E2  [[psysml:2d8a57d2-00aa-4c24-bcf4-c6f0dba3a85a ]]  {\r\n",
       "comp def \"A\" as E3  <<(T,blue)part def>> [[psysml:8088eca0-f00f-4a1f-9db3-28df87f45186 ]] {\r\n",
       "}\r\n",
       "}\r\n",
       "package \"P2\" as E4  [[psysml:f5fce4b6-35f4-4f46-9b6d-d151b55baece ]]  {\r\n",
       "}\r\n",
       "comp usage \"x: A\" as E5  <<(T,blue)part>> [[psysml:43785f75-2189-42e8-ba89-9f38d7235e69 ]] {\r\n",
       "}\r\n",
       "package \"P3\" as E6  [[psysml:0a65db1a-6ec3-4140-b73e-0c5567d9dbea ]]  {\r\n",
       "comp def \"B\" as E7  <<(T,blue)part def>> [[psysml:a9488239-9884-4bc6-98b3-04bdbcc46eca ]] {\r\n",
       "}\r\n",
       "E5 - -:|> E3 [[psysml:25d642ee-de35-43b5-ac2f-29504efb7d68 ]] \r\n",
       "}\r\n",
       "comp usage \"z: B\" as E8  <<(T,blue)part>> [[psysml:ceec508b-c3a9-4167-8e78-7da3e35ca489 ]] {\r\n",
       "}\r\n",
       "E8 - -:|> E7 [[psysml:d89216b2-7e18-408a-b614-d8caef1c47ec ]] \r\n",
       "}\r\n",
       "@enduml\r\n",
       "\n",
       "PlantUML version 1.2020.13(Sat Jun 13 12:26:38 UTC 2020)\n",
       "(EPL source distribution)\n",
       "Java Runtime: OpenJDK Runtime Environment\n",
       "JVM: OpenJDK 64-Bit Server VM\n",
       "Default Encoding: UTF-8\n",
       "Language: en\n",
       "Country: null\n",
       "--></g></svg>"
      ]
     },
     "execution_count": 44,
     "metadata": {},
     "output_type": "execute_result"
    }
   ],
   "source": [
    "%viz --style=\"TB\" --view=\"Default\" \"PrivateImportTest\""
   ]
  },
  {
   "cell_type": "code",
   "execution_count": 45,
   "id": "outstanding-bottle",
   "metadata": {
    "execution": {
     "iopub.execute_input": "2021-03-25T14:10:42.156427Z",
     "iopub.status.busy": "2021-03-25T14:10:42.155995Z",
     "iopub.status.idle": "2021-03-25T14:10:42.234404Z",
     "shell.execute_reply": "2021-03-25T14:10:42.234805Z"
    }
   },
   "outputs": [
    {
     "data": {
      "image/svg+xml": [
       "<?xml version=\"1.0\" encoding=\"UTF-8\" standalone=\"no\"?><svg xmlns=\"http://www.w3.org/2000/svg\" xmlns:xlink=\"http://www.w3.org/1999/xlink\" contentScriptType=\"application/ecmascript\" contentStyleType=\"text/css\" height=\"252px\" preserveAspectRatio=\"none\" style=\"width:306px;height:252px;\" version=\"1.1\" viewBox=\"0 0 306 252\" width=\"306px\" zoomAndPan=\"magnify\"><defs/><g><!--MD5=[fbc87193dbaf4d95561dea2c320d4a47]\n",
       "cluster E1--><a href=\"psysml:04be3c0a-f069-4f88-9dd0-1488cf078b60\" target=\"_top\" title=\"psysml:04be3c0a-f069-4f88-9dd0-1488cf078b60\" xlink:actuate=\"onRequest\" xlink:href=\"psysml:04be3c0a-f069-4f88-9dd0-1488cf078b60\" xlink:show=\"new\" xlink:title=\"psysml:04be3c0a-f069-4f88-9dd0-1488cf078b60\" xlink:type=\"simple\"><polygon fill=\"#FFFFFF\" points=\"16,6,163,6,170,28.2969,284,28.2969,284,240,16,240,16,6\" style=\"stroke: #000000; stroke-width: 1.5;\"/><line style=\"stroke: #000000; stroke-width: 1.5;\" x1=\"16\" x2=\"170\" y1=\"28.2969\" y2=\"28.2969\"/><text fill=\"#000000\" font-family=\"sans-serif\" font-size=\"14\" font-weight=\"bold\" lengthAdjust=\"spacingAndGlyphs\" textLength=\"141\" x=\"20\" y=\"20.9951\">PrivateImportTest</text></a><!--MD5=[e4f7fae6ed58524ba242bb0b0d3be6b7]\n",
       "cluster E2--><a href=\"psysml:2d8a57d2-00aa-4c24-bcf4-c6f0dba3a85a\" target=\"_top\" title=\"psysml:2d8a57d2-00aa-4c24-bcf4-c6f0dba3a85a\" xlink:actuate=\"onRequest\" xlink:href=\"psysml:2d8a57d2-00aa-4c24-bcf4-c6f0dba3a85a\" xlink:show=\"new\" xlink:title=\"psysml:2d8a57d2-00aa-4c24-bcf4-c6f0dba3a85a\" xlink:type=\"simple\"><polygon fill=\"#FFFFFF\" points=\"162,119,188,119,195,141.2969,260,141.2969,260,216,162,216,162,119\" style=\"stroke: #000000; stroke-width: 1.5;\"/><line style=\"stroke: #000000; stroke-width: 1.5;\" x1=\"162\" x2=\"195\" y1=\"141.2969\" y2=\"141.2969\"/><text fill=\"#000000\" font-family=\"sans-serif\" font-size=\"14\" font-weight=\"bold\" lengthAdjust=\"spacingAndGlyphs\" textLength=\"20\" x=\"166\" y=\"133.9951\">P1</text></a><!--MD5=[14e3b0961a2654348d326746436168a1]\n",
       "cluster E6--><a href=\"psysml:0a65db1a-6ec3-4140-b73e-0c5567d9dbea\" target=\"_top\" title=\"psysml:0a65db1a-6ec3-4140-b73e-0c5567d9dbea\" xlink:actuate=\"onRequest\" xlink:href=\"psysml:0a65db1a-6ec3-4140-b73e-0c5567d9dbea\" xlink:show=\"new\" xlink:title=\"psysml:0a65db1a-6ec3-4140-b73e-0c5567d9dbea\" xlink:type=\"simple\"><polygon fill=\"#FFFFFF\" points=\"40,119,66,119,73,141.2969,138,141.2969,138,216,40,216,40,119\" style=\"stroke: #000000; stroke-width: 1.5;\"/><line style=\"stroke: #000000; stroke-width: 1.5;\" x1=\"40\" x2=\"73\" y1=\"141.2969\" y2=\"141.2969\"/><text fill=\"#000000\" font-family=\"sans-serif\" font-size=\"14\" font-weight=\"bold\" lengthAdjust=\"spacingAndGlyphs\" textLength=\"20\" x=\"44\" y=\"133.9951\">P3</text></a><!--MD5=[270fce915f116d4de14055a7c1d9a0f3]\n",
       "class E5--><a href=\"psysml:43785f75-2189-42e8-ba89-9f38d7235e69\" target=\"_top\" title=\"psysml:43785f75-2189-42e8-ba89-9f38d7235e69\" xlink:actuate=\"onRequest\" xlink:href=\"psysml:43785f75-2189-42e8-ba89-9f38d7235e69\" xlink:show=\"new\" xlink:title=\"psysml:43785f75-2189-42e8-ba89-9f38d7235e69\" xlink:type=\"simple\"><rect fill=\"#FFFFFF\" height=\"45.9375\" id=\"E5\" rx=\"10\" ry=\"10\" style=\"stroke: #383838; stroke-width: 1.5;\" width=\"42\" x=\"190\" y=\"44.5\"/><text fill=\"#000000\" font-family=\"sans-serif\" font-size=\"12\" font-style=\"italic\" lengthAdjust=\"spacingAndGlyphs\" textLength=\"40\" x=\"191\" y=\"60.6387\">«part»</text><text fill=\"#000000\" font-family=\"sans-serif\" font-size=\"12\" lengthAdjust=\"spacingAndGlyphs\" textLength=\"22\" x=\"200\" y=\"74.6074\">x: A</text><line style=\"stroke: #383838; stroke-width: 1.5;\" x1=\"191\" x2=\"231\" y1=\"82.4375\" y2=\"82.4375\"/></a><!--MD5=[b9389687b975829384b498ac4b7476b2]\n",
       "class E8--><a href=\"psysml:ceec508b-c3a9-4167-8e78-7da3e35ca489\" target=\"_top\" title=\"psysml:ceec508b-c3a9-4167-8e78-7da3e35ca489\" xlink:actuate=\"onRequest\" xlink:href=\"psysml:ceec508b-c3a9-4167-8e78-7da3e35ca489\" xlink:show=\"new\" xlink:title=\"psysml:ceec508b-c3a9-4167-8e78-7da3e35ca489\" xlink:type=\"simple\"><rect fill=\"#FFFFFF\" height=\"45.9375\" id=\"E8\" rx=\"10\" ry=\"10\" style=\"stroke: #383838; stroke-width: 1.5;\" width=\"42\" x=\"107\" y=\"44.5\"/><text fill=\"#000000\" font-family=\"sans-serif\" font-size=\"12\" font-style=\"italic\" lengthAdjust=\"spacingAndGlyphs\" textLength=\"40\" x=\"108\" y=\"60.6387\">«part»</text><text fill=\"#000000\" font-family=\"sans-serif\" font-size=\"12\" lengthAdjust=\"spacingAndGlyphs\" textLength=\"21\" x=\"117.5\" y=\"74.6074\">z: B</text><line style=\"stroke: #383838; stroke-width: 1.5;\" x1=\"108\" x2=\"148\" y1=\"82.4375\" y2=\"82.4375\"/></a><!--MD5=[09b614a08d8cba4a07c9adeb5e0fee81]\n",
       "class E3--><a href=\"psysml:8088eca0-f00f-4a1f-9db3-28df87f45186\" target=\"_top\" title=\"psysml:8088eca0-f00f-4a1f-9db3-28df87f45186\" xlink:actuate=\"onRequest\" xlink:href=\"psysml:8088eca0-f00f-4a1f-9db3-28df87f45186\" xlink:show=\"new\" xlink:title=\"psysml:8088eca0-f00f-4a1f-9db3-28df87f45186\" xlink:type=\"simple\"><rect fill=\"#FFFFFF\" height=\"45.9375\" id=\"E3\" style=\"stroke: #383838; stroke-width: 1.5;\" width=\"66\" x=\"178\" y=\"154\"/><text fill=\"#000000\" font-family=\"sans-serif\" font-size=\"12\" font-style=\"italic\" lengthAdjust=\"spacingAndGlyphs\" textLength=\"64\" x=\"179\" y=\"170.1387\">«part def»</text><text fill=\"#000000\" font-family=\"sans-serif\" font-size=\"12\" lengthAdjust=\"spacingAndGlyphs\" textLength=\"8\" x=\"207\" y=\"184.1074\">A</text><line style=\"stroke: #383838; stroke-width: 1.5;\" x1=\"179\" x2=\"243\" y1=\"191.9375\" y2=\"191.9375\"/></a><a href=\"psysml:f5fce4b6-35f4-4f46-9b6d-d151b55baece\" target=\"_top\" title=\"psysml:f5fce4b6-35f4-4f46-9b6d-d151b55baece\" xlink:actuate=\"onRequest\" xlink:href=\"psysml:f5fce4b6-35f4-4f46-9b6d-d151b55baece\" xlink:show=\"new\" xlink:title=\"psysml:f5fce4b6-35f4-4f46-9b6d-d151b55baece\" xlink:type=\"simple\"><polygon fill=\"#FFFFFF\" points=\"32,41,58,41,65,63.2969,72,63.2969,72,93.5938,32,93.5938,32,41\" style=\"stroke: #000000; stroke-width: 1.5;\"/><line style=\"stroke: #000000; stroke-width: 1.5;\" x1=\"32\" x2=\"65\" y1=\"63.2969\" y2=\"63.2969\"/><text fill=\"#000000\" font-family=\"sans-serif\" font-size=\"14\" font-weight=\"bold\" lengthAdjust=\"spacingAndGlyphs\" textLength=\"20\" x=\"36\" y=\"55.9951\">P2</text></a><!--MD5=[2156ba9850f5573cc1fc38a6a4b2f02b]\n",
       "class E7--><a href=\"psysml:a9488239-9884-4bc6-98b3-04bdbcc46eca\" target=\"_top\" title=\"psysml:a9488239-9884-4bc6-98b3-04bdbcc46eca\" xlink:actuate=\"onRequest\" xlink:href=\"psysml:a9488239-9884-4bc6-98b3-04bdbcc46eca\" xlink:show=\"new\" xlink:title=\"psysml:a9488239-9884-4bc6-98b3-04bdbcc46eca\" xlink:type=\"simple\"><rect fill=\"#FFFFFF\" height=\"45.9375\" id=\"E7\" style=\"stroke: #383838; stroke-width: 1.5;\" width=\"66\" x=\"56\" y=\"154\"/><text fill=\"#000000\" font-family=\"sans-serif\" font-size=\"12\" font-style=\"italic\" lengthAdjust=\"spacingAndGlyphs\" textLength=\"64\" x=\"57\" y=\"170.1387\">«part def»</text><text fill=\"#000000\" font-family=\"sans-serif\" font-size=\"12\" lengthAdjust=\"spacingAndGlyphs\" textLength=\"8\" x=\"85\" y=\"184.1074\">B</text><line style=\"stroke: #383838; stroke-width: 1.5;\" x1=\"57\" x2=\"121\" y1=\"191.9375\" y2=\"191.9375\"/></a><!--MD5=[e9be52314489bd878ff4c7144b63c9e1]\n",
       "link E5 to E3--><a href=\"psysml:25d642ee-de35-43b5-ac2f-29504efb7d68\" target=\"_top\" title=\"psysml:25d642ee-de35-43b5-ac2f-29504efb7d68\" xlink:actuate=\"onRequest\" xlink:href=\"psysml:25d642ee-de35-43b5-ac2f-29504efb7d68\" xlink:show=\"new\" xlink:title=\"psysml:25d642ee-de35-43b5-ac2f-29504efb7d68\" xlink:type=\"simple\"><path d=\"M211,90.51 C211,102.89 211,118.78 211,133.48 \" fill=\"none\" id=\"E5-&gt;E3\" style=\"stroke: #383838; stroke-width: 1.0;\"/><polygon fill=\"#FFFFFF\" points=\"211,153.65,204,134.65,218,134.65,211,153.65\" style=\"stroke: #383838; stroke-width: 1.0;\"/><ellipse cx=\"206\" cy=\"128.95\" fill=\"#383838\" rx=\"2\" ry=\"2\" style=\"stroke: #383838; stroke-width: 1.0;\"/><ellipse cx=\"216\" cy=\"128.95\" fill=\"#383838\" rx=\"2\" ry=\"2\" style=\"stroke: #383838; stroke-width: 1.0;\"/></a><!--MD5=[bfa3c8b0d15052fdf50ae9310b491027]\n",
       "link E8 to E7--><a href=\"psysml:d89216b2-7e18-408a-b614-d8caef1c47ec\" target=\"_top\" title=\"psysml:d89216b2-7e18-408a-b614-d8caef1c47ec\" xlink:actuate=\"onRequest\" xlink:href=\"psysml:d89216b2-7e18-408a-b614-d8caef1c47ec\" xlink:show=\"new\" xlink:title=\"psysml:d89216b2-7e18-408a-b614-d8caef1c47ec\" xlink:type=\"simple\"><path d=\"M120.01,90.51 C115.39,103.25 109.42,119.7 103.96,134.76 \" fill=\"none\" id=\"E8-&gt;E7\" style=\"stroke: #383838; stroke-width: 1.0;\"/><polygon fill=\"#FFFFFF\" points=\"97.11,153.65,97.0036,133.4018,110.1656,138.1726,97.11,153.65\" style=\"stroke: #383838; stroke-width: 1.0;\"/><ellipse cx=\"100.8262\" cy=\"128.7245\" fill=\"#383838\" rx=\"2\" ry=\"2\" style=\"stroke: #383838; stroke-width: 1.0;\"/><ellipse cx=\"110.2277\" cy=\"132.1322\" fill=\"#383838\" rx=\"2\" ry=\"2\" style=\"stroke: #383838; stroke-width: 1.0;\"/></a><!--MD5=[62adc62e6231abed96c7350548ed30e3]\n",
       "@startuml\r\n",
       "top to bottom direction\r\n",
       "skinparam monochrome true\r\n",
       "skinparam classbackgroundcolor white\r\n",
       "skinparam shadowing false\r\n",
       "skinparam wrapWidth 300\r\n",
       "hide circle\r\n",
       "\r\n",
       "package \"PrivateImportTest\" as E1  [[psysml:04be3c0a-f069-4f88-9dd0-1488cf078b60 ]]  {\r\n",
       "package \"P1\" as E2  [[psysml:2d8a57d2-00aa-4c24-bcf4-c6f0dba3a85a ]]  {\r\n",
       "comp def \"A\" as E3  <<(T,blue)part def>> [[psysml:8088eca0-f00f-4a1f-9db3-28df87f45186 ]] {\r\n",
       "}\r\n",
       "}\r\n",
       "package \"P2\" as E4  [[psysml:f5fce4b6-35f4-4f46-9b6d-d151b55baece ]]  {\r\n",
       "}\r\n",
       "comp usage \"x: A\" as E5  <<(T,blue)part>> [[psysml:43785f75-2189-42e8-ba89-9f38d7235e69 ]] {\r\n",
       "}\r\n",
       "package \"P3\" as E6  [[psysml:0a65db1a-6ec3-4140-b73e-0c5567d9dbea ]]  {\r\n",
       "comp def \"B\" as E7  <<(T,blue)part def>> [[psysml:a9488239-9884-4bc6-98b3-04bdbcc46eca ]] {\r\n",
       "}\r\n",
       "E5 - -:|> E3 [[psysml:25d642ee-de35-43b5-ac2f-29504efb7d68 ]] \r\n",
       "}\r\n",
       "comp usage \"z: B\" as E8  <<(T,blue)part>> [[psysml:ceec508b-c3a9-4167-8e78-7da3e35ca489 ]] {\r\n",
       "}\r\n",
       "E8 - -:|> E7 [[psysml:d89216b2-7e18-408a-b614-d8caef1c47ec ]] \r\n",
       "}\r\n",
       "@enduml\r\n",
       "\n",
       "PlantUML version 1.2020.13(Sat Jun 13 12:26:38 UTC 2020)\n",
       "(EPL source distribution)\n",
       "Java Runtime: OpenJDK Runtime Environment\n",
       "JVM: OpenJDK 64-Bit Server VM\n",
       "Default Encoding: UTF-8\n",
       "Language: en\n",
       "Country: null\n",
       "--></g></svg>"
      ]
     },
     "execution_count": 45,
     "metadata": {},
     "output_type": "execute_result"
    }
   ],
   "source": [
    "%viz --style=\"TB\" --view=\"Tree\" \"PrivateImportTest\""
   ]
  },
  {
   "cell_type": "code",
   "execution_count": 46,
   "id": "former-funds",
   "metadata": {
    "execution": {
     "iopub.execute_input": "2021-03-25T14:10:42.287147Z",
     "iopub.status.busy": "2021-03-25T14:10:42.286191Z",
     "iopub.status.idle": "2021-03-25T14:10:42.293979Z",
     "shell.execute_reply": "2021-03-25T14:10:42.294510Z"
    }
   },
   "outputs": [
    {
     "data": {
      "image/svg+xml": [
       "<?xml version=\"1.0\" encoding=\"UTF-8\" standalone=\"no\"?><svg xmlns=\"http://www.w3.org/2000/svg\" xmlns:xlink=\"http://www.w3.org/1999/xlink\" contentScriptType=\"application/ecmascript\" contentStyleType=\"text/css\" height=\"12px\" preserveAspectRatio=\"none\" style=\"width:12px;height:12px;\" version=\"1.1\" viewBox=\"0 0 12 12\" width=\"12px\" zoomAndPan=\"magnify\"><defs/><g><!--MD5=[f4ee21bc66e489b5061b7c3e9601fdef]\n",
       "@startuml\r\n",
       "top to bottom direction\r\n",
       "skinparam monochrome true\r\n",
       "skinparam classbackgroundcolor white\r\n",
       "skinparam shadowing false\r\n",
       "skinparam wrapWidth 300\r\n",
       "hide circle\r\n",
       "\r\n",
       "@enduml\r\n",
       "\n",
       "PlantUML version 1.2020.13(Sat Jun 13 12:26:38 UTC 2020)\n",
       "(EPL source distribution)\n",
       "Java Runtime: OpenJDK Runtime Environment\n",
       "JVM: OpenJDK 64-Bit Server VM\n",
       "Default Encoding: UTF-8\n",
       "Language: en\n",
       "Country: null\n",
       "--></g></svg>"
      ]
     },
     "execution_count": 46,
     "metadata": {},
     "output_type": "execute_result"
    }
   ],
   "source": [
    "%viz --style=\"TB\" --view=\"State\" \"PrivateImportTest\""
   ]
  },
  {
   "cell_type": "code",
   "execution_count": 47,
   "id": "ranking-audience",
   "metadata": {
    "execution": {
     "iopub.execute_input": "2021-03-25T14:10:42.346728Z",
     "iopub.status.busy": "2021-03-25T14:10:42.345883Z",
     "iopub.status.idle": "2021-03-25T14:10:42.408632Z",
     "shell.execute_reply": "2021-03-25T14:10:42.407255Z"
    }
   },
   "outputs": [
    {
     "data": {
      "image/svg+xml": [
       "<?xml version=\"1.0\" encoding=\"UTF-8\" standalone=\"no\"?><svg xmlns=\"http://www.w3.org/2000/svg\" xmlns:xlink=\"http://www.w3.org/1999/xlink\" contentScriptType=\"application/ecmascript\" contentStyleType=\"text/css\" height=\"179px\" preserveAspectRatio=\"none\" style=\"width:539px;height:179px;\" version=\"1.1\" viewBox=\"0 0 539 179\" width=\"539px\" zoomAndPan=\"magnify\"><defs/><g><!--MD5=[fbc87193dbaf4d95561dea2c320d4a47]\n",
       "cluster E1--><a href=\"psysml:04be3c0a-f069-4f88-9dd0-1488cf078b60\" target=\"_top\" title=\"psysml:04be3c0a-f069-4f88-9dd0-1488cf078b60\" xlink:actuate=\"onRequest\" xlink:href=\"psysml:04be3c0a-f069-4f88-9dd0-1488cf078b60\" xlink:show=\"new\" xlink:title=\"psysml:04be3c0a-f069-4f88-9dd0-1488cf078b60\" xlink:type=\"simple\"><polygon fill=\"#FFFFFF\" points=\"16,6,163,6,170,28.2969,517,28.2969,517,167,16,167,16,6\" style=\"stroke: #000000; stroke-width: 1.5;\"/><line style=\"stroke: #000000; stroke-width: 1.5;\" x1=\"16\" x2=\"170\" y1=\"28.2969\" y2=\"28.2969\"/><text fill=\"#000000\" font-family=\"sans-serif\" font-size=\"14\" font-weight=\"bold\" lengthAdjust=\"spacingAndGlyphs\" textLength=\"141\" x=\"20\" y=\"20.9951\">PrivateImportTest</text></a><!--MD5=[e4f7fae6ed58524ba242bb0b0d3be6b7]\n",
       "cluster E2--><a href=\"psysml:2d8a57d2-00aa-4c24-bcf4-c6f0dba3a85a\" target=\"_top\" title=\"psysml:2d8a57d2-00aa-4c24-bcf4-c6f0dba3a85a\" xlink:actuate=\"onRequest\" xlink:href=\"psysml:2d8a57d2-00aa-4c24-bcf4-c6f0dba3a85a\" xlink:show=\"new\" xlink:title=\"psysml:2d8a57d2-00aa-4c24-bcf4-c6f0dba3a85a\" xlink:type=\"simple\"><polygon fill=\"#FFFFFF\" points=\"389,49,415,49,422,71.2969,493,71.2969,493,143,389,143,389,49\" style=\"stroke: #000000; stroke-width: 1.5;\"/><line style=\"stroke: #000000; stroke-width: 1.5;\" x1=\"389\" x2=\"422\" y1=\"71.2969\" y2=\"71.2969\"/><text fill=\"#000000\" font-family=\"sans-serif\" font-size=\"14\" font-weight=\"bold\" lengthAdjust=\"spacingAndGlyphs\" textLength=\"20\" x=\"393\" y=\"63.9951\">P1</text></a><!--MD5=[14e3b0961a2654348d326746436168a1]\n",
       "cluster E6--><a href=\"psysml:0a65db1a-6ec3-4140-b73e-0c5567d9dbea\" target=\"_top\" title=\"psysml:0a65db1a-6ec3-4140-b73e-0c5567d9dbea\" xlink:actuate=\"onRequest\" xlink:href=\"psysml:0a65db1a-6ec3-4140-b73e-0c5567d9dbea\" xlink:show=\"new\" xlink:title=\"psysml:0a65db1a-6ec3-4140-b73e-0c5567d9dbea\" xlink:type=\"simple\"><polygon fill=\"#FFFFFF\" points=\"261,49,287,49,294,71.2969,365,71.2969,365,143,261,143,261,49\" style=\"stroke: #000000; stroke-width: 1.5;\"/><line style=\"stroke: #000000; stroke-width: 1.5;\" x1=\"261\" x2=\"294\" y1=\"71.2969\" y2=\"71.2969\"/><text fill=\"#000000\" font-family=\"sans-serif\" font-size=\"14\" font-weight=\"bold\" lengthAdjust=\"spacingAndGlyphs\" textLength=\"20\" x=\"265\" y=\"63.9951\">P3</text></a><g id=\"E1.E2.E3\"><a href=\"psysml:8088eca0-f00f-4a1f-9db3-28df87f45186\" target=\"_top\" title=\"psysml:8088eca0-f00f-4a1f-9db3-28df87f45186\" xlink:actuate=\"onRequest\" xlink:href=\"psysml:8088eca0-f00f-4a1f-9db3-28df87f45186\" xlink:show=\"new\" xlink:title=\"psysml:8088eca0-f00f-4a1f-9db3-28df87f45186\" xlink:type=\"simple\"><rect fill=\"#FFFFFF\" height=\"42.9375\" id=\"E3\" style=\"stroke: #383838; stroke-width: 1.5;\" width=\"71\" x=\"405.5\" y=\"84\"/><rect fill=\"#F8F8F8\" height=\"37.9375\" style=\"stroke: #383838; stroke-width: 1.5;\" width=\"71\" x=\"405.5\" y=\"84\"/><text fill=\"#000000\" font-family=\"sans-serif\" font-size=\"12\" font-style=\"italic\" lengthAdjust=\"spacingAndGlyphs\" textLength=\"64\" x=\"409\" y=\"100.1387\">«part def»</text><text fill=\"#000000\" font-family=\"sans-serif\" font-size=\"12\" lengthAdjust=\"spacingAndGlyphs\" textLength=\"8\" x=\"437\" y=\"114.1074\">A</text></a></g><a href=\"psysml:f5fce4b6-35f4-4f46-9b6d-d151b55baece\" target=\"_top\" title=\"psysml:f5fce4b6-35f4-4f46-9b6d-d151b55baece\" xlink:actuate=\"onRequest\" xlink:href=\"psysml:f5fce4b6-35f4-4f46-9b6d-d151b55baece\" xlink:show=\"new\" xlink:title=\"psysml:f5fce4b6-35f4-4f46-9b6d-d151b55baece\" xlink:type=\"simple\"><polygon fill=\"#FFFFFF\" points=\"202,79,228,79,235,101.2969,242,101.2969,242,131.5938,202,131.5938,202,79\" style=\"stroke: #000000; stroke-width: 1.5;\"/><line style=\"stroke: #000000; stroke-width: 1.5;\" x1=\"202\" x2=\"235\" y1=\"101.2969\" y2=\"101.2969\"/><text fill=\"#000000\" font-family=\"sans-serif\" font-size=\"14\" font-weight=\"bold\" lengthAdjust=\"spacingAndGlyphs\" textLength=\"20\" x=\"206\" y=\"93.9951\">P2</text></a><g id=\"E1.E5\"><a href=\"psysml:43785f75-2189-42e8-ba89-9f38d7235e69\" target=\"_top\" title=\"psysml:43785f75-2189-42e8-ba89-9f38d7235e69\" xlink:actuate=\"onRequest\" xlink:href=\"psysml:43785f75-2189-42e8-ba89-9f38d7235e69\" xlink:show=\"new\" xlink:title=\"psysml:43785f75-2189-42e8-ba89-9f38d7235e69\" xlink:type=\"simple\"><rect fill=\"#FFFFFF\" height=\"40\" id=\"E5\" rx=\"10\" ry=\"10\" style=\"stroke: #383838; stroke-width: 1.5;\" width=\"50\" x=\"117\" y=\"85.5\"/><rect fill=\"#F8F8F8\" height=\"23.9688\" rx=\"10\" ry=\"10\" style=\"stroke: #F8F8F8; stroke-width: 1.5;\" width=\"50\" x=\"117\" y=\"85.5\"/><rect fill=\"#F8F8F8\" height=\"10\" style=\"stroke: #F8F8F8; stroke-width: 1.5;\" width=\"50\" x=\"117\" y=\"99.4688\"/><rect fill=\"none\" height=\"40\" id=\"E5\" rx=\"10\" ry=\"10\" style=\"stroke: #383838; stroke-width: 1.5;\" width=\"50\" x=\"117\" y=\"85.5\"/><text fill=\"#000000\" font-family=\"sans-serif\" font-size=\"12\" lengthAdjust=\"spacingAndGlyphs\" textLength=\"22\" x=\"131\" y=\"101.6387\">x: A</text></a></g><g id=\"E1.E6.E7\"><a href=\"psysml:a9488239-9884-4bc6-98b3-04bdbcc46eca\" target=\"_top\" title=\"psysml:a9488239-9884-4bc6-98b3-04bdbcc46eca\" xlink:actuate=\"onRequest\" xlink:href=\"psysml:a9488239-9884-4bc6-98b3-04bdbcc46eca\" xlink:show=\"new\" xlink:title=\"psysml:a9488239-9884-4bc6-98b3-04bdbcc46eca\" xlink:type=\"simple\"><rect fill=\"#FFFFFF\" height=\"42.9375\" id=\"E7\" style=\"stroke: #383838; stroke-width: 1.5;\" width=\"71\" x=\"277.5\" y=\"84\"/><rect fill=\"#F8F8F8\" height=\"37.9375\" style=\"stroke: #383838; stroke-width: 1.5;\" width=\"71\" x=\"277.5\" y=\"84\"/><text fill=\"#000000\" font-family=\"sans-serif\" font-size=\"12\" font-style=\"italic\" lengthAdjust=\"spacingAndGlyphs\" textLength=\"64\" x=\"281\" y=\"100.1387\">«part def»</text><text fill=\"#000000\" font-family=\"sans-serif\" font-size=\"12\" lengthAdjust=\"spacingAndGlyphs\" textLength=\"8\" x=\"309\" y=\"114.1074\">B</text></a></g><g id=\"E1.E8\"><a href=\"psysml:ceec508b-c3a9-4167-8e78-7da3e35ca489\" target=\"_top\" title=\"psysml:ceec508b-c3a9-4167-8e78-7da3e35ca489\" xlink:actuate=\"onRequest\" xlink:href=\"psysml:ceec508b-c3a9-4167-8e78-7da3e35ca489\" xlink:show=\"new\" xlink:title=\"psysml:ceec508b-c3a9-4167-8e78-7da3e35ca489\" xlink:type=\"simple\"><rect fill=\"#FFFFFF\" height=\"40\" id=\"E8\" rx=\"10\" ry=\"10\" style=\"stroke: #383838; stroke-width: 1.5;\" width=\"50\" x=\"32\" y=\"85.5\"/><rect fill=\"#F8F8F8\" height=\"23.9688\" rx=\"10\" ry=\"10\" style=\"stroke: #F8F8F8; stroke-width: 1.5;\" width=\"50\" x=\"32\" y=\"85.5\"/><rect fill=\"#F8F8F8\" height=\"10\" style=\"stroke: #F8F8F8; stroke-width: 1.5;\" width=\"50\" x=\"32\" y=\"99.4688\"/><rect fill=\"none\" height=\"40\" id=\"E8\" rx=\"10\" ry=\"10\" style=\"stroke: #383838; stroke-width: 1.5;\" width=\"50\" x=\"32\" y=\"85.5\"/><text fill=\"#000000\" font-family=\"sans-serif\" font-size=\"12\" lengthAdjust=\"spacingAndGlyphs\" textLength=\"21\" x=\"46.5\" y=\"101.6387\">z: B</text></a></g><!--MD5=[d7ff617d6cc1857bd9c613d7d49f303d]\n",
       "@startuml\r\n",
       "skinparam ranksep 10\r\n",
       "skinparam rectangle {\r\n",
       " backgroundColor<<block>> LightGreen\r\n",
       "}\r\n",
       "top to bottom direction\r\n",
       "skinparam monochrome true\r\n",
       "skinparam classbackgroundcolor white\r\n",
       "skinparam shadowing false\r\n",
       "skinparam wrapWidth 300\r\n",
       "hide circle\r\n",
       "\r\n",
       "package \"PrivateImportTest\" as E1  [[psysml:04be3c0a-f069-4f88-9dd0-1488cf078b60 ]]  {\r\n",
       "package \"P1\" as E2  [[psysml:2d8a57d2-00aa-4c24-bcf4-c6f0dba3a85a ]]  {\r\n",
       "rec def \"A\" as E3  <<(T,blue)part def>> [[psysml:8088eca0-f00f-4a1f-9db3-28df87f45186 ]] {\r\n",
       "}\r\n",
       "}\r\n",
       "package \"P2\" as E4  [[psysml:f5fce4b6-35f4-4f46-9b6d-d151b55baece ]]  {\r\n",
       "}\r\n",
       "rec usage \"x: A\" as E5  [[psysml:43785f75-2189-42e8-ba89-9f38d7235e69 ]] {\r\n",
       "}\r\n",
       "package \"P3\" as E6  [[psysml:0a65db1a-6ec3-4140-b73e-0c5567d9dbea ]]  {\r\n",
       "rec def \"B\" as E7  <<(T,blue)part def>> [[psysml:a9488239-9884-4bc6-98b3-04bdbcc46eca ]] {\r\n",
       "}\r\n",
       "}\r\n",
       "rec usage \"z: B\" as E8  [[psysml:ceec508b-c3a9-4167-8e78-7da3e35ca489 ]] {\r\n",
       "}\r\n",
       "}\r\n",
       "@enduml\r\n",
       "\n",
       "PlantUML version 1.2020.13(Sat Jun 13 12:26:38 UTC 2020)\n",
       "(EPL source distribution)\n",
       "Java Runtime: OpenJDK Runtime Environment\n",
       "JVM: OpenJDK 64-Bit Server VM\n",
       "Default Encoding: UTF-8\n",
       "Language: en\n",
       "Country: null\n",
       "--></g></svg>"
      ]
     },
     "execution_count": 47,
     "metadata": {},
     "output_type": "execute_result"
    }
   ],
   "source": [
    "%viz --style=\"TB\" --view=\"Interconnection\" \"PrivateImportTest\""
   ]
  },
  {
   "cell_type": "code",
   "execution_count": 48,
   "id": "requested-methodology",
   "metadata": {
    "execution": {
     "iopub.execute_input": "2021-03-25T14:10:42.462632Z",
     "iopub.status.busy": "2021-03-25T14:10:42.461917Z",
     "iopub.status.idle": "2021-03-25T14:10:42.470513Z",
     "shell.execute_reply": "2021-03-25T14:10:42.470950Z"
    }
   },
   "outputs": [
    {
     "data": {
      "image/svg+xml": [
       "<?xml version=\"1.0\" encoding=\"UTF-8\" standalone=\"no\"?><svg xmlns=\"http://www.w3.org/2000/svg\" xmlns:xlink=\"http://www.w3.org/1999/xlink\" contentScriptType=\"application/ecmascript\" contentStyleType=\"text/css\" height=\"12px\" preserveAspectRatio=\"none\" style=\"width:12px;height:12px;\" version=\"1.1\" viewBox=\"0 0 12 12\" width=\"12px\" zoomAndPan=\"magnify\"><defs/><g><!--MD5=[06afc254b03ac5e9d9fb7773b07d0800]\n",
       "@startuml\r\n",
       "skinparam ranksep 8\r\n",
       "top to bottom direction\r\n",
       "skinparam monochrome true\r\n",
       "skinparam classbackgroundcolor white\r\n",
       "skinparam shadowing false\r\n",
       "skinparam wrapWidth 300\r\n",
       "hide circle\r\n",
       "\r\n",
       "@enduml\r\n",
       "\n",
       "PlantUML version 1.2020.13(Sat Jun 13 12:26:38 UTC 2020)\n",
       "(EPL source distribution)\n",
       "Java Runtime: OpenJDK Runtime Environment\n",
       "JVM: OpenJDK 64-Bit Server VM\n",
       "Default Encoding: UTF-8\n",
       "Language: en\n",
       "Country: null\n",
       "--></g></svg>"
      ]
     },
     "execution_count": 48,
     "metadata": {},
     "output_type": "execute_result"
    }
   ],
   "source": [
    "%viz --style=\"TB\" --view=\"Action\" \"PrivateImportTest\""
   ]
  },
  {
   "cell_type": "code",
   "execution_count": 49,
   "id": "eight-macedonia",
   "metadata": {
    "execution": {
     "iopub.execute_input": "2021-03-25T14:10:42.521752Z",
     "iopub.status.busy": "2021-03-25T14:10:42.521156Z",
     "iopub.status.idle": "2021-03-25T14:10:42.586315Z",
     "shell.execute_reply": "2021-03-25T14:10:42.584995Z"
    }
   },
   "outputs": [
    {
     "data": {
      "image/svg+xml": [
       "<?xml version=\"1.0\" encoding=\"UTF-8\" standalone=\"no\"?><svg xmlns=\"http://www.w3.org/2000/svg\" xmlns:xlink=\"http://www.w3.org/1999/xlink\" contentScriptType=\"application/ecmascript\" contentStyleType=\"text/css\" height=\"252px\" preserveAspectRatio=\"none\" style=\"width:306px;height:252px;\" version=\"1.1\" viewBox=\"0 0 306 252\" width=\"306px\" zoomAndPan=\"magnify\"><defs/><g><!--MD5=[fbc87193dbaf4d95561dea2c320d4a47]\n",
       "cluster E1--><a href=\"psysml:04be3c0a-f069-4f88-9dd0-1488cf078b60\" target=\"_top\" title=\"psysml:04be3c0a-f069-4f88-9dd0-1488cf078b60\" xlink:actuate=\"onRequest\" xlink:href=\"psysml:04be3c0a-f069-4f88-9dd0-1488cf078b60\" xlink:show=\"new\" xlink:title=\"psysml:04be3c0a-f069-4f88-9dd0-1488cf078b60\" xlink:type=\"simple\"><polygon fill=\"#FFFFFF\" points=\"16,6,163,6,170,28.2969,284,28.2969,284,240,16,240,16,6\" style=\"stroke: #000000; stroke-width: 1.5;\"/><line style=\"stroke: #000000; stroke-width: 1.5;\" x1=\"16\" x2=\"170\" y1=\"28.2969\" y2=\"28.2969\"/><text fill=\"#000000\" font-family=\"sans-serif\" font-size=\"14\" font-weight=\"bold\" lengthAdjust=\"spacingAndGlyphs\" textLength=\"141\" x=\"20\" y=\"20.9951\">PrivateImportTest</text></a><!--MD5=[e4f7fae6ed58524ba242bb0b0d3be6b7]\n",
       "cluster E2--><a href=\"psysml:2d8a57d2-00aa-4c24-bcf4-c6f0dba3a85a\" target=\"_top\" title=\"psysml:2d8a57d2-00aa-4c24-bcf4-c6f0dba3a85a\" xlink:actuate=\"onRequest\" xlink:href=\"psysml:2d8a57d2-00aa-4c24-bcf4-c6f0dba3a85a\" xlink:show=\"new\" xlink:title=\"psysml:2d8a57d2-00aa-4c24-bcf4-c6f0dba3a85a\" xlink:type=\"simple\"><polygon fill=\"#FFFFFF\" points=\"162,119,188,119,195,141.2969,260,141.2969,260,216,162,216,162,119\" style=\"stroke: #000000; stroke-width: 1.5;\"/><line style=\"stroke: #000000; stroke-width: 1.5;\" x1=\"162\" x2=\"195\" y1=\"141.2969\" y2=\"141.2969\"/><text fill=\"#000000\" font-family=\"sans-serif\" font-size=\"14\" font-weight=\"bold\" lengthAdjust=\"spacingAndGlyphs\" textLength=\"20\" x=\"166\" y=\"133.9951\">P1</text></a><!--MD5=[14e3b0961a2654348d326746436168a1]\n",
       "cluster E6--><a href=\"psysml:0a65db1a-6ec3-4140-b73e-0c5567d9dbea\" target=\"_top\" title=\"psysml:0a65db1a-6ec3-4140-b73e-0c5567d9dbea\" xlink:actuate=\"onRequest\" xlink:href=\"psysml:0a65db1a-6ec3-4140-b73e-0c5567d9dbea\" xlink:show=\"new\" xlink:title=\"psysml:0a65db1a-6ec3-4140-b73e-0c5567d9dbea\" xlink:type=\"simple\"><polygon fill=\"#FFFFFF\" points=\"40,119,66,119,73,141.2969,138,141.2969,138,216,40,216,40,119\" style=\"stroke: #000000; stroke-width: 1.5;\"/><line style=\"stroke: #000000; stroke-width: 1.5;\" x1=\"40\" x2=\"73\" y1=\"141.2969\" y2=\"141.2969\"/><text fill=\"#000000\" font-family=\"sans-serif\" font-size=\"14\" font-weight=\"bold\" lengthAdjust=\"spacingAndGlyphs\" textLength=\"20\" x=\"44\" y=\"133.9951\">P3</text></a><!--MD5=[270fce915f116d4de14055a7c1d9a0f3]\n",
       "class E5--><a href=\"psysml:43785f75-2189-42e8-ba89-9f38d7235e69\" target=\"_top\" title=\"psysml:43785f75-2189-42e8-ba89-9f38d7235e69\" xlink:actuate=\"onRequest\" xlink:href=\"psysml:43785f75-2189-42e8-ba89-9f38d7235e69\" xlink:show=\"new\" xlink:title=\"psysml:43785f75-2189-42e8-ba89-9f38d7235e69\" xlink:type=\"simple\"><rect fill=\"#FFFFFF\" height=\"45.9375\" id=\"E5\" rx=\"10\" ry=\"10\" style=\"stroke: #383838; stroke-width: 1.5;\" width=\"42\" x=\"190\" y=\"44.5\"/><text fill=\"#000000\" font-family=\"sans-serif\" font-size=\"12\" font-style=\"italic\" lengthAdjust=\"spacingAndGlyphs\" textLength=\"40\" x=\"191\" y=\"60.6387\">«part»</text><text fill=\"#000000\" font-family=\"sans-serif\" font-size=\"12\" lengthAdjust=\"spacingAndGlyphs\" textLength=\"22\" x=\"200\" y=\"74.6074\">x: A</text><line style=\"stroke: #383838; stroke-width: 1.5;\" x1=\"191\" x2=\"231\" y1=\"82.4375\" y2=\"82.4375\"/></a><!--MD5=[b9389687b975829384b498ac4b7476b2]\n",
       "class E8--><a href=\"psysml:ceec508b-c3a9-4167-8e78-7da3e35ca489\" target=\"_top\" title=\"psysml:ceec508b-c3a9-4167-8e78-7da3e35ca489\" xlink:actuate=\"onRequest\" xlink:href=\"psysml:ceec508b-c3a9-4167-8e78-7da3e35ca489\" xlink:show=\"new\" xlink:title=\"psysml:ceec508b-c3a9-4167-8e78-7da3e35ca489\" xlink:type=\"simple\"><rect fill=\"#FFFFFF\" height=\"45.9375\" id=\"E8\" rx=\"10\" ry=\"10\" style=\"stroke: #383838; stroke-width: 1.5;\" width=\"42\" x=\"107\" y=\"44.5\"/><text fill=\"#000000\" font-family=\"sans-serif\" font-size=\"12\" font-style=\"italic\" lengthAdjust=\"spacingAndGlyphs\" textLength=\"40\" x=\"108\" y=\"60.6387\">«part»</text><text fill=\"#000000\" font-family=\"sans-serif\" font-size=\"12\" lengthAdjust=\"spacingAndGlyphs\" textLength=\"21\" x=\"117.5\" y=\"74.6074\">z: B</text><line style=\"stroke: #383838; stroke-width: 1.5;\" x1=\"108\" x2=\"148\" y1=\"82.4375\" y2=\"82.4375\"/></a><!--MD5=[09b614a08d8cba4a07c9adeb5e0fee81]\n",
       "class E3--><a href=\"psysml:8088eca0-f00f-4a1f-9db3-28df87f45186\" target=\"_top\" title=\"psysml:8088eca0-f00f-4a1f-9db3-28df87f45186\" xlink:actuate=\"onRequest\" xlink:href=\"psysml:8088eca0-f00f-4a1f-9db3-28df87f45186\" xlink:show=\"new\" xlink:title=\"psysml:8088eca0-f00f-4a1f-9db3-28df87f45186\" xlink:type=\"simple\"><rect fill=\"#FFFFFF\" height=\"45.9375\" id=\"E3\" style=\"stroke: #383838; stroke-width: 1.5;\" width=\"66\" x=\"178\" y=\"154\"/><text fill=\"#000000\" font-family=\"sans-serif\" font-size=\"12\" font-style=\"italic\" lengthAdjust=\"spacingAndGlyphs\" textLength=\"64\" x=\"179\" y=\"170.1387\">«part def»</text><text fill=\"#000000\" font-family=\"sans-serif\" font-size=\"12\" lengthAdjust=\"spacingAndGlyphs\" textLength=\"8\" x=\"207\" y=\"184.1074\">A</text><line style=\"stroke: #383838; stroke-width: 1.5;\" x1=\"179\" x2=\"243\" y1=\"191.9375\" y2=\"191.9375\"/></a><a href=\"psysml:f5fce4b6-35f4-4f46-9b6d-d151b55baece\" target=\"_top\" title=\"psysml:f5fce4b6-35f4-4f46-9b6d-d151b55baece\" xlink:actuate=\"onRequest\" xlink:href=\"psysml:f5fce4b6-35f4-4f46-9b6d-d151b55baece\" xlink:show=\"new\" xlink:title=\"psysml:f5fce4b6-35f4-4f46-9b6d-d151b55baece\" xlink:type=\"simple\"><polygon fill=\"#FFFFFF\" points=\"32,41,58,41,65,63.2969,72,63.2969,72,93.5938,32,93.5938,32,41\" style=\"stroke: #000000; stroke-width: 1.5;\"/><line style=\"stroke: #000000; stroke-width: 1.5;\" x1=\"32\" x2=\"65\" y1=\"63.2969\" y2=\"63.2969\"/><text fill=\"#000000\" font-family=\"sans-serif\" font-size=\"14\" font-weight=\"bold\" lengthAdjust=\"spacingAndGlyphs\" textLength=\"20\" x=\"36\" y=\"55.9951\">P2</text></a><!--MD5=[2156ba9850f5573cc1fc38a6a4b2f02b]\n",
       "class E7--><a href=\"psysml:a9488239-9884-4bc6-98b3-04bdbcc46eca\" target=\"_top\" title=\"psysml:a9488239-9884-4bc6-98b3-04bdbcc46eca\" xlink:actuate=\"onRequest\" xlink:href=\"psysml:a9488239-9884-4bc6-98b3-04bdbcc46eca\" xlink:show=\"new\" xlink:title=\"psysml:a9488239-9884-4bc6-98b3-04bdbcc46eca\" xlink:type=\"simple\"><rect fill=\"#FFFFFF\" height=\"45.9375\" id=\"E7\" style=\"stroke: #383838; stroke-width: 1.5;\" width=\"66\" x=\"56\" y=\"154\"/><text fill=\"#000000\" font-family=\"sans-serif\" font-size=\"12\" font-style=\"italic\" lengthAdjust=\"spacingAndGlyphs\" textLength=\"64\" x=\"57\" y=\"170.1387\">«part def»</text><text fill=\"#000000\" font-family=\"sans-serif\" font-size=\"12\" lengthAdjust=\"spacingAndGlyphs\" textLength=\"8\" x=\"85\" y=\"184.1074\">B</text><line style=\"stroke: #383838; stroke-width: 1.5;\" x1=\"57\" x2=\"121\" y1=\"191.9375\" y2=\"191.9375\"/></a><!--MD5=[e9be52314489bd878ff4c7144b63c9e1]\n",
       "link E5 to E3--><a href=\"psysml:25d642ee-de35-43b5-ac2f-29504efb7d68\" target=\"_top\" title=\"psysml:25d642ee-de35-43b5-ac2f-29504efb7d68\" xlink:actuate=\"onRequest\" xlink:href=\"psysml:25d642ee-de35-43b5-ac2f-29504efb7d68\" xlink:show=\"new\" xlink:title=\"psysml:25d642ee-de35-43b5-ac2f-29504efb7d68\" xlink:type=\"simple\"><path d=\"M211,90.51 C211,102.89 211,118.78 211,133.48 \" fill=\"none\" id=\"E5-&gt;E3\" style=\"stroke: #383838; stroke-width: 1.0;\"/><polygon fill=\"#FFFFFF\" points=\"211,153.65,204,134.65,218,134.65,211,153.65\" style=\"stroke: #383838; stroke-width: 1.0;\"/><ellipse cx=\"206\" cy=\"128.95\" fill=\"#383838\" rx=\"2\" ry=\"2\" style=\"stroke: #383838; stroke-width: 1.0;\"/><ellipse cx=\"216\" cy=\"128.95\" fill=\"#383838\" rx=\"2\" ry=\"2\" style=\"stroke: #383838; stroke-width: 1.0;\"/></a><!--MD5=[bfa3c8b0d15052fdf50ae9310b491027]\n",
       "link E8 to E7--><a href=\"psysml:d89216b2-7e18-408a-b614-d8caef1c47ec\" target=\"_top\" title=\"psysml:d89216b2-7e18-408a-b614-d8caef1c47ec\" xlink:actuate=\"onRequest\" xlink:href=\"psysml:d89216b2-7e18-408a-b614-d8caef1c47ec\" xlink:show=\"new\" xlink:title=\"psysml:d89216b2-7e18-408a-b614-d8caef1c47ec\" xlink:type=\"simple\"><path d=\"M120.01,90.51 C115.39,103.25 109.42,119.7 103.96,134.76 \" fill=\"none\" id=\"E8-&gt;E7\" style=\"stroke: #383838; stroke-width: 1.0;\"/><polygon fill=\"#FFFFFF\" points=\"97.11,153.65,97.0036,133.4018,110.1656,138.1726,97.11,153.65\" style=\"stroke: #383838; stroke-width: 1.0;\"/><ellipse cx=\"100.8262\" cy=\"128.7245\" fill=\"#383838\" rx=\"2\" ry=\"2\" style=\"stroke: #383838; stroke-width: 1.0;\"/><ellipse cx=\"110.2277\" cy=\"132.1322\" fill=\"#383838\" rx=\"2\" ry=\"2\" style=\"stroke: #383838; stroke-width: 1.0;\"/></a><!--MD5=[62adc62e6231abed96c7350548ed30e3]\n",
       "@startuml\r\n",
       "top to bottom direction\r\n",
       "skinparam monochrome true\r\n",
       "skinparam classbackgroundcolor white\r\n",
       "skinparam shadowing false\r\n",
       "skinparam wrapWidth 300\r\n",
       "hide circle\r\n",
       "\r\n",
       "package \"PrivateImportTest\" as E1  [[psysml:04be3c0a-f069-4f88-9dd0-1488cf078b60 ]]  {\r\n",
       "package \"P1\" as E2  [[psysml:2d8a57d2-00aa-4c24-bcf4-c6f0dba3a85a ]]  {\r\n",
       "comp def \"A\" as E3  <<(T,blue)part def>> [[psysml:8088eca0-f00f-4a1f-9db3-28df87f45186 ]] {\r\n",
       "}\r\n",
       "}\r\n",
       "package \"P2\" as E4  [[psysml:f5fce4b6-35f4-4f46-9b6d-d151b55baece ]]  {\r\n",
       "}\r\n",
       "comp usage \"x: A\" as E5  <<(T,blue)part>> [[psysml:43785f75-2189-42e8-ba89-9f38d7235e69 ]] {\r\n",
       "}\r\n",
       "package \"P3\" as E6  [[psysml:0a65db1a-6ec3-4140-b73e-0c5567d9dbea ]]  {\r\n",
       "comp def \"B\" as E7  <<(T,blue)part def>> [[psysml:a9488239-9884-4bc6-98b3-04bdbcc46eca ]] {\r\n",
       "}\r\n",
       "E5 - -:|> E3 [[psysml:25d642ee-de35-43b5-ac2f-29504efb7d68 ]] \r\n",
       "}\r\n",
       "comp usage \"z: B\" as E8  <<(T,blue)part>> [[psysml:ceec508b-c3a9-4167-8e78-7da3e35ca489 ]] {\r\n",
       "}\r\n",
       "E8 - -:|> E7 [[psysml:d89216b2-7e18-408a-b614-d8caef1c47ec ]] \r\n",
       "}\r\n",
       "@enduml\r\n",
       "\n",
       "PlantUML version 1.2020.13(Sat Jun 13 12:26:38 UTC 2020)\n",
       "(EPL source distribution)\n",
       "Java Runtime: OpenJDK Runtime Environment\n",
       "JVM: OpenJDK 64-Bit Server VM\n",
       "Default Encoding: UTF-8\n",
       "Language: en\n",
       "Country: null\n",
       "--></g></svg>"
      ]
     },
     "execution_count": 49,
     "metadata": {},
     "output_type": "execute_result"
    }
   ],
   "source": [
    "%viz --style=\"TB\" --view=\"Sequence\" \"PrivateImportTest\""
   ]
  },
  {
   "cell_type": "code",
   "execution_count": 50,
   "id": "preceding-integer",
   "metadata": {
    "execution": {
     "iopub.execute_input": "2021-03-25T14:10:42.639395Z",
     "iopub.status.busy": "2021-03-25T14:10:42.638609Z",
     "iopub.status.idle": "2021-03-25T14:10:42.702606Z",
     "shell.execute_reply": "2021-03-25T14:10:42.701305Z"
    }
   },
   "outputs": [
    {
     "data": {
      "image/svg+xml": [
       "<?xml version=\"1.0\" encoding=\"UTF-8\" standalone=\"no\"?><svg xmlns=\"http://www.w3.org/2000/svg\" xmlns:xlink=\"http://www.w3.org/1999/xlink\" contentScriptType=\"application/ecmascript\" contentStyleType=\"text/css\" height=\"252px\" preserveAspectRatio=\"none\" style=\"width:306px;height:252px;\" version=\"1.1\" viewBox=\"0 0 306 252\" width=\"306px\" zoomAndPan=\"magnify\"><defs/><g><!--MD5=[fbc87193dbaf4d95561dea2c320d4a47]\n",
       "cluster E1--><a href=\"psysml:04be3c0a-f069-4f88-9dd0-1488cf078b60\" target=\"_top\" title=\"psysml:04be3c0a-f069-4f88-9dd0-1488cf078b60\" xlink:actuate=\"onRequest\" xlink:href=\"psysml:04be3c0a-f069-4f88-9dd0-1488cf078b60\" xlink:show=\"new\" xlink:title=\"psysml:04be3c0a-f069-4f88-9dd0-1488cf078b60\" xlink:type=\"simple\"><polygon fill=\"#FFFFFF\" points=\"16,6,163,6,170,28.2969,284,28.2969,284,240,16,240,16,6\" style=\"stroke: #000000; stroke-width: 1.5;\"/><line style=\"stroke: #000000; stroke-width: 1.5;\" x1=\"16\" x2=\"170\" y1=\"28.2969\" y2=\"28.2969\"/><text fill=\"#000000\" font-family=\"sans-serif\" font-size=\"14\" font-weight=\"bold\" lengthAdjust=\"spacingAndGlyphs\" textLength=\"141\" x=\"20\" y=\"20.9951\">PrivateImportTest</text></a><!--MD5=[e4f7fae6ed58524ba242bb0b0d3be6b7]\n",
       "cluster E2--><a href=\"psysml:2d8a57d2-00aa-4c24-bcf4-c6f0dba3a85a\" target=\"_top\" title=\"psysml:2d8a57d2-00aa-4c24-bcf4-c6f0dba3a85a\" xlink:actuate=\"onRequest\" xlink:href=\"psysml:2d8a57d2-00aa-4c24-bcf4-c6f0dba3a85a\" xlink:show=\"new\" xlink:title=\"psysml:2d8a57d2-00aa-4c24-bcf4-c6f0dba3a85a\" xlink:type=\"simple\"><polygon fill=\"#FFFFFF\" points=\"162,119,188,119,195,141.2969,260,141.2969,260,216,162,216,162,119\" style=\"stroke: #000000; stroke-width: 1.5;\"/><line style=\"stroke: #000000; stroke-width: 1.5;\" x1=\"162\" x2=\"195\" y1=\"141.2969\" y2=\"141.2969\"/><text fill=\"#000000\" font-family=\"sans-serif\" font-size=\"14\" font-weight=\"bold\" lengthAdjust=\"spacingAndGlyphs\" textLength=\"20\" x=\"166\" y=\"133.9951\">P1</text></a><!--MD5=[14e3b0961a2654348d326746436168a1]\n",
       "cluster E6--><a href=\"psysml:0a65db1a-6ec3-4140-b73e-0c5567d9dbea\" target=\"_top\" title=\"psysml:0a65db1a-6ec3-4140-b73e-0c5567d9dbea\" xlink:actuate=\"onRequest\" xlink:href=\"psysml:0a65db1a-6ec3-4140-b73e-0c5567d9dbea\" xlink:show=\"new\" xlink:title=\"psysml:0a65db1a-6ec3-4140-b73e-0c5567d9dbea\" xlink:type=\"simple\"><polygon fill=\"#FFFFFF\" points=\"40,119,66,119,73,141.2969,138,141.2969,138,216,40,216,40,119\" style=\"stroke: #000000; stroke-width: 1.5;\"/><line style=\"stroke: #000000; stroke-width: 1.5;\" x1=\"40\" x2=\"73\" y1=\"141.2969\" y2=\"141.2969\"/><text fill=\"#000000\" font-family=\"sans-serif\" font-size=\"14\" font-weight=\"bold\" lengthAdjust=\"spacingAndGlyphs\" textLength=\"20\" x=\"44\" y=\"133.9951\">P3</text></a><!--MD5=[270fce915f116d4de14055a7c1d9a0f3]\n",
       "class E5--><a href=\"psysml:43785f75-2189-42e8-ba89-9f38d7235e69\" target=\"_top\" title=\"psysml:43785f75-2189-42e8-ba89-9f38d7235e69\" xlink:actuate=\"onRequest\" xlink:href=\"psysml:43785f75-2189-42e8-ba89-9f38d7235e69\" xlink:show=\"new\" xlink:title=\"psysml:43785f75-2189-42e8-ba89-9f38d7235e69\" xlink:type=\"simple\"><rect fill=\"#FFFFFF\" height=\"45.9375\" id=\"E5\" rx=\"10\" ry=\"10\" style=\"stroke: #383838; stroke-width: 1.5;\" width=\"42\" x=\"190\" y=\"44.5\"/><text fill=\"#000000\" font-family=\"sans-serif\" font-size=\"12\" font-style=\"italic\" lengthAdjust=\"spacingAndGlyphs\" textLength=\"40\" x=\"191\" y=\"60.6387\">«part»</text><text fill=\"#000000\" font-family=\"sans-serif\" font-size=\"12\" lengthAdjust=\"spacingAndGlyphs\" textLength=\"22\" x=\"200\" y=\"74.6074\">x: A</text><line style=\"stroke: #383838; stroke-width: 1.5;\" x1=\"191\" x2=\"231\" y1=\"82.4375\" y2=\"82.4375\"/></a><!--MD5=[b9389687b975829384b498ac4b7476b2]\n",
       "class E8--><a href=\"psysml:ceec508b-c3a9-4167-8e78-7da3e35ca489\" target=\"_top\" title=\"psysml:ceec508b-c3a9-4167-8e78-7da3e35ca489\" xlink:actuate=\"onRequest\" xlink:href=\"psysml:ceec508b-c3a9-4167-8e78-7da3e35ca489\" xlink:show=\"new\" xlink:title=\"psysml:ceec508b-c3a9-4167-8e78-7da3e35ca489\" xlink:type=\"simple\"><rect fill=\"#FFFFFF\" height=\"45.9375\" id=\"E8\" rx=\"10\" ry=\"10\" style=\"stroke: #383838; stroke-width: 1.5;\" width=\"42\" x=\"107\" y=\"44.5\"/><text fill=\"#000000\" font-family=\"sans-serif\" font-size=\"12\" font-style=\"italic\" lengthAdjust=\"spacingAndGlyphs\" textLength=\"40\" x=\"108\" y=\"60.6387\">«part»</text><text fill=\"#000000\" font-family=\"sans-serif\" font-size=\"12\" lengthAdjust=\"spacingAndGlyphs\" textLength=\"21\" x=\"117.5\" y=\"74.6074\">z: B</text><line style=\"stroke: #383838; stroke-width: 1.5;\" x1=\"108\" x2=\"148\" y1=\"82.4375\" y2=\"82.4375\"/></a><!--MD5=[09b614a08d8cba4a07c9adeb5e0fee81]\n",
       "class E3--><a href=\"psysml:8088eca0-f00f-4a1f-9db3-28df87f45186\" target=\"_top\" title=\"psysml:8088eca0-f00f-4a1f-9db3-28df87f45186\" xlink:actuate=\"onRequest\" xlink:href=\"psysml:8088eca0-f00f-4a1f-9db3-28df87f45186\" xlink:show=\"new\" xlink:title=\"psysml:8088eca0-f00f-4a1f-9db3-28df87f45186\" xlink:type=\"simple\"><rect fill=\"#FFFFFF\" height=\"45.9375\" id=\"E3\" style=\"stroke: #383838; stroke-width: 1.5;\" width=\"66\" x=\"178\" y=\"154\"/><text fill=\"#000000\" font-family=\"sans-serif\" font-size=\"12\" font-style=\"italic\" lengthAdjust=\"spacingAndGlyphs\" textLength=\"64\" x=\"179\" y=\"170.1387\">«part def»</text><text fill=\"#000000\" font-family=\"sans-serif\" font-size=\"12\" lengthAdjust=\"spacingAndGlyphs\" textLength=\"8\" x=\"207\" y=\"184.1074\">A</text><line style=\"stroke: #383838; stroke-width: 1.5;\" x1=\"179\" x2=\"243\" y1=\"191.9375\" y2=\"191.9375\"/></a><a href=\"psysml:f5fce4b6-35f4-4f46-9b6d-d151b55baece\" target=\"_top\" title=\"psysml:f5fce4b6-35f4-4f46-9b6d-d151b55baece\" xlink:actuate=\"onRequest\" xlink:href=\"psysml:f5fce4b6-35f4-4f46-9b6d-d151b55baece\" xlink:show=\"new\" xlink:title=\"psysml:f5fce4b6-35f4-4f46-9b6d-d151b55baece\" xlink:type=\"simple\"><polygon fill=\"#FFFFFF\" points=\"32,41,58,41,65,63.2969,72,63.2969,72,93.5938,32,93.5938,32,41\" style=\"stroke: #000000; stroke-width: 1.5;\"/><line style=\"stroke: #000000; stroke-width: 1.5;\" x1=\"32\" x2=\"65\" y1=\"63.2969\" y2=\"63.2969\"/><text fill=\"#000000\" font-family=\"sans-serif\" font-size=\"14\" font-weight=\"bold\" lengthAdjust=\"spacingAndGlyphs\" textLength=\"20\" x=\"36\" y=\"55.9951\">P2</text></a><!--MD5=[2156ba9850f5573cc1fc38a6a4b2f02b]\n",
       "class E7--><a href=\"psysml:a9488239-9884-4bc6-98b3-04bdbcc46eca\" target=\"_top\" title=\"psysml:a9488239-9884-4bc6-98b3-04bdbcc46eca\" xlink:actuate=\"onRequest\" xlink:href=\"psysml:a9488239-9884-4bc6-98b3-04bdbcc46eca\" xlink:show=\"new\" xlink:title=\"psysml:a9488239-9884-4bc6-98b3-04bdbcc46eca\" xlink:type=\"simple\"><rect fill=\"#FFFFFF\" height=\"45.9375\" id=\"E7\" style=\"stroke: #383838; stroke-width: 1.5;\" width=\"66\" x=\"56\" y=\"154\"/><text fill=\"#000000\" font-family=\"sans-serif\" font-size=\"12\" font-style=\"italic\" lengthAdjust=\"spacingAndGlyphs\" textLength=\"64\" x=\"57\" y=\"170.1387\">«part def»</text><text fill=\"#000000\" font-family=\"sans-serif\" font-size=\"12\" lengthAdjust=\"spacingAndGlyphs\" textLength=\"8\" x=\"85\" y=\"184.1074\">B</text><line style=\"stroke: #383838; stroke-width: 1.5;\" x1=\"57\" x2=\"121\" y1=\"191.9375\" y2=\"191.9375\"/></a><!--MD5=[e9be52314489bd878ff4c7144b63c9e1]\n",
       "link E5 to E3--><a href=\"psysml:25d642ee-de35-43b5-ac2f-29504efb7d68\" target=\"_top\" title=\"psysml:25d642ee-de35-43b5-ac2f-29504efb7d68\" xlink:actuate=\"onRequest\" xlink:href=\"psysml:25d642ee-de35-43b5-ac2f-29504efb7d68\" xlink:show=\"new\" xlink:title=\"psysml:25d642ee-de35-43b5-ac2f-29504efb7d68\" xlink:type=\"simple\"><path d=\"M211,90.51 C211,102.89 211,118.78 211,133.48 \" fill=\"none\" id=\"E5-&gt;E3\" style=\"stroke: #383838; stroke-width: 1.0;\"/><polygon fill=\"#FFFFFF\" points=\"211,153.65,204,134.65,218,134.65,211,153.65\" style=\"stroke: #383838; stroke-width: 1.0;\"/><ellipse cx=\"206\" cy=\"128.95\" fill=\"#383838\" rx=\"2\" ry=\"2\" style=\"stroke: #383838; stroke-width: 1.0;\"/><ellipse cx=\"216\" cy=\"128.95\" fill=\"#383838\" rx=\"2\" ry=\"2\" style=\"stroke: #383838; stroke-width: 1.0;\"/></a><!--MD5=[bfa3c8b0d15052fdf50ae9310b491027]\n",
       "link E8 to E7--><a href=\"psysml:d89216b2-7e18-408a-b614-d8caef1c47ec\" target=\"_top\" title=\"psysml:d89216b2-7e18-408a-b614-d8caef1c47ec\" xlink:actuate=\"onRequest\" xlink:href=\"psysml:d89216b2-7e18-408a-b614-d8caef1c47ec\" xlink:show=\"new\" xlink:title=\"psysml:d89216b2-7e18-408a-b614-d8caef1c47ec\" xlink:type=\"simple\"><path d=\"M120.01,90.51 C115.39,103.25 109.42,119.7 103.96,134.76 \" fill=\"none\" id=\"E8-&gt;E7\" style=\"stroke: #383838; stroke-width: 1.0;\"/><polygon fill=\"#FFFFFF\" points=\"97.11,153.65,97.0036,133.4018,110.1656,138.1726,97.11,153.65\" style=\"stroke: #383838; stroke-width: 1.0;\"/><ellipse cx=\"100.8262\" cy=\"128.7245\" fill=\"#383838\" rx=\"2\" ry=\"2\" style=\"stroke: #383838; stroke-width: 1.0;\"/><ellipse cx=\"110.2277\" cy=\"132.1322\" fill=\"#383838\" rx=\"2\" ry=\"2\" style=\"stroke: #383838; stroke-width: 1.0;\"/></a><!--MD5=[62adc62e6231abed96c7350548ed30e3]\n",
       "@startuml\r\n",
       "top to bottom direction\r\n",
       "skinparam monochrome true\r\n",
       "skinparam classbackgroundcolor white\r\n",
       "skinparam shadowing false\r\n",
       "skinparam wrapWidth 300\r\n",
       "hide circle\r\n",
       "\r\n",
       "package \"PrivateImportTest\" as E1  [[psysml:04be3c0a-f069-4f88-9dd0-1488cf078b60 ]]  {\r\n",
       "package \"P1\" as E2  [[psysml:2d8a57d2-00aa-4c24-bcf4-c6f0dba3a85a ]]  {\r\n",
       "comp def \"A\" as E3  <<(T,blue)part def>> [[psysml:8088eca0-f00f-4a1f-9db3-28df87f45186 ]] {\r\n",
       "}\r\n",
       "}\r\n",
       "package \"P2\" as E4  [[psysml:f5fce4b6-35f4-4f46-9b6d-d151b55baece ]]  {\r\n",
       "}\r\n",
       "comp usage \"x: A\" as E5  <<(T,blue)part>> [[psysml:43785f75-2189-42e8-ba89-9f38d7235e69 ]] {\r\n",
       "}\r\n",
       "package \"P3\" as E6  [[psysml:0a65db1a-6ec3-4140-b73e-0c5567d9dbea ]]  {\r\n",
       "comp def \"B\" as E7  <<(T,blue)part def>> [[psysml:a9488239-9884-4bc6-98b3-04bdbcc46eca ]] {\r\n",
       "}\r\n",
       "E5 - -:|> E3 [[psysml:25d642ee-de35-43b5-ac2f-29504efb7d68 ]] \r\n",
       "}\r\n",
       "comp usage \"z: B\" as E8  <<(T,blue)part>> [[psysml:ceec508b-c3a9-4167-8e78-7da3e35ca489 ]] {\r\n",
       "}\r\n",
       "E8 - -:|> E7 [[psysml:d89216b2-7e18-408a-b614-d8caef1c47ec ]] \r\n",
       "}\r\n",
       "@enduml\r\n",
       "\n",
       "PlantUML version 1.2020.13(Sat Jun 13 12:26:38 UTC 2020)\n",
       "(EPL source distribution)\n",
       "Java Runtime: OpenJDK Runtime Environment\n",
       "JVM: OpenJDK 64-Bit Server VM\n",
       "Default Encoding: UTF-8\n",
       "Language: en\n",
       "Country: null\n",
       "--></g></svg>"
      ]
     },
     "execution_count": 50,
     "metadata": {},
     "output_type": "execute_result"
    }
   ],
   "source": [
    "%viz --style=\"TB\" --view=\"MIXED\" \"PrivateImportTest\""
   ]
  },
  {
   "cell_type": "code",
   "execution_count": 51,
   "id": "collect-melissa",
   "metadata": {
    "execution": {
     "iopub.execute_input": "2021-03-25T14:10:42.755274Z",
     "iopub.status.busy": "2021-03-25T14:10:42.753843Z",
     "iopub.status.idle": "2021-03-25T14:10:42.825058Z",
     "shell.execute_reply": "2021-03-25T14:10:42.823764Z"
    }
   },
   "outputs": [
    {
     "data": {
      "image/svg+xml": [
       "<?xml version=\"1.0\" encoding=\"UTF-8\" standalone=\"no\"?><svg xmlns=\"http://www.w3.org/2000/svg\" xmlns:xlink=\"http://www.w3.org/1999/xlink\" contentScriptType=\"application/ecmascript\" contentStyleType=\"text/css\" height=\"252px\" preserveAspectRatio=\"none\" style=\"width:306px;height:252px;\" version=\"1.1\" viewBox=\"0 0 306 252\" width=\"306px\" zoomAndPan=\"magnify\"><defs/><g><!--MD5=[fbc87193dbaf4d95561dea2c320d4a47]\n",
       "cluster E1--><a href=\"psysml:04be3c0a-f069-4f88-9dd0-1488cf078b60\" target=\"_top\" title=\"psysml:04be3c0a-f069-4f88-9dd0-1488cf078b60\" xlink:actuate=\"onRequest\" xlink:href=\"psysml:04be3c0a-f069-4f88-9dd0-1488cf078b60\" xlink:show=\"new\" xlink:title=\"psysml:04be3c0a-f069-4f88-9dd0-1488cf078b60\" xlink:type=\"simple\"><polygon fill=\"#FFFFFF\" points=\"16,6,163,6,170,28.2969,284,28.2969,284,240,16,240,16,6\" style=\"stroke: #000000; stroke-width: 1.5;\"/><line style=\"stroke: #000000; stroke-width: 1.5;\" x1=\"16\" x2=\"170\" y1=\"28.2969\" y2=\"28.2969\"/><text fill=\"#000000\" font-family=\"sans-serif\" font-size=\"14\" font-weight=\"bold\" lengthAdjust=\"spacingAndGlyphs\" textLength=\"141\" x=\"20\" y=\"20.9951\">PrivateImportTest</text></a><!--MD5=[e4f7fae6ed58524ba242bb0b0d3be6b7]\n",
       "cluster E2--><a href=\"psysml:2d8a57d2-00aa-4c24-bcf4-c6f0dba3a85a\" target=\"_top\" title=\"psysml:2d8a57d2-00aa-4c24-bcf4-c6f0dba3a85a\" xlink:actuate=\"onRequest\" xlink:href=\"psysml:2d8a57d2-00aa-4c24-bcf4-c6f0dba3a85a\" xlink:show=\"new\" xlink:title=\"psysml:2d8a57d2-00aa-4c24-bcf4-c6f0dba3a85a\" xlink:type=\"simple\"><polygon fill=\"#FFFFFF\" points=\"162,119,188,119,195,141.2969,260,141.2969,260,216,162,216,162,119\" style=\"stroke: #000000; stroke-width: 1.5;\"/><line style=\"stroke: #000000; stroke-width: 1.5;\" x1=\"162\" x2=\"195\" y1=\"141.2969\" y2=\"141.2969\"/><text fill=\"#000000\" font-family=\"sans-serif\" font-size=\"14\" font-weight=\"bold\" lengthAdjust=\"spacingAndGlyphs\" textLength=\"20\" x=\"166\" y=\"133.9951\">P1</text></a><!--MD5=[14e3b0961a2654348d326746436168a1]\n",
       "cluster E6--><a href=\"psysml:0a65db1a-6ec3-4140-b73e-0c5567d9dbea\" target=\"_top\" title=\"psysml:0a65db1a-6ec3-4140-b73e-0c5567d9dbea\" xlink:actuate=\"onRequest\" xlink:href=\"psysml:0a65db1a-6ec3-4140-b73e-0c5567d9dbea\" xlink:show=\"new\" xlink:title=\"psysml:0a65db1a-6ec3-4140-b73e-0c5567d9dbea\" xlink:type=\"simple\"><polygon fill=\"#FFFFFF\" points=\"40,119,66,119,73,141.2969,138,141.2969,138,216,40,216,40,119\" style=\"stroke: #000000; stroke-width: 1.5;\"/><line style=\"stroke: #000000; stroke-width: 1.5;\" x1=\"40\" x2=\"73\" y1=\"141.2969\" y2=\"141.2969\"/><text fill=\"#000000\" font-family=\"sans-serif\" font-size=\"14\" font-weight=\"bold\" lengthAdjust=\"spacingAndGlyphs\" textLength=\"20\" x=\"44\" y=\"133.9951\">P3</text></a><!--MD5=[270fce915f116d4de14055a7c1d9a0f3]\n",
       "class E5--><a href=\"psysml:43785f75-2189-42e8-ba89-9f38d7235e69\" target=\"_top\" title=\"psysml:43785f75-2189-42e8-ba89-9f38d7235e69\" xlink:actuate=\"onRequest\" xlink:href=\"psysml:43785f75-2189-42e8-ba89-9f38d7235e69\" xlink:show=\"new\" xlink:title=\"psysml:43785f75-2189-42e8-ba89-9f38d7235e69\" xlink:type=\"simple\"><rect fill=\"#FFFFFF\" height=\"45.9375\" id=\"E5\" rx=\"10\" ry=\"10\" style=\"stroke: #383838; stroke-width: 1.5;\" width=\"42\" x=\"190\" y=\"44.5\"/><text fill=\"#000000\" font-family=\"sans-serif\" font-size=\"12\" font-style=\"italic\" lengthAdjust=\"spacingAndGlyphs\" textLength=\"40\" x=\"191\" y=\"60.6387\">«part»</text><text fill=\"#000000\" font-family=\"sans-serif\" font-size=\"12\" lengthAdjust=\"spacingAndGlyphs\" textLength=\"22\" x=\"200\" y=\"74.6074\">x: A</text><line style=\"stroke: #383838; stroke-width: 1.5;\" x1=\"191\" x2=\"231\" y1=\"82.4375\" y2=\"82.4375\"/></a><!--MD5=[b9389687b975829384b498ac4b7476b2]\n",
       "class E8--><a href=\"psysml:ceec508b-c3a9-4167-8e78-7da3e35ca489\" target=\"_top\" title=\"psysml:ceec508b-c3a9-4167-8e78-7da3e35ca489\" xlink:actuate=\"onRequest\" xlink:href=\"psysml:ceec508b-c3a9-4167-8e78-7da3e35ca489\" xlink:show=\"new\" xlink:title=\"psysml:ceec508b-c3a9-4167-8e78-7da3e35ca489\" xlink:type=\"simple\"><rect fill=\"#FFFFFF\" height=\"45.9375\" id=\"E8\" rx=\"10\" ry=\"10\" style=\"stroke: #383838; stroke-width: 1.5;\" width=\"42\" x=\"107\" y=\"44.5\"/><text fill=\"#000000\" font-family=\"sans-serif\" font-size=\"12\" font-style=\"italic\" lengthAdjust=\"spacingAndGlyphs\" textLength=\"40\" x=\"108\" y=\"60.6387\">«part»</text><text fill=\"#000000\" font-family=\"sans-serif\" font-size=\"12\" lengthAdjust=\"spacingAndGlyphs\" textLength=\"21\" x=\"117.5\" y=\"74.6074\">z: B</text><line style=\"stroke: #383838; stroke-width: 1.5;\" x1=\"108\" x2=\"148\" y1=\"82.4375\" y2=\"82.4375\"/></a><!--MD5=[09b614a08d8cba4a07c9adeb5e0fee81]\n",
       "class E3--><a href=\"psysml:8088eca0-f00f-4a1f-9db3-28df87f45186\" target=\"_top\" title=\"psysml:8088eca0-f00f-4a1f-9db3-28df87f45186\" xlink:actuate=\"onRequest\" xlink:href=\"psysml:8088eca0-f00f-4a1f-9db3-28df87f45186\" xlink:show=\"new\" xlink:title=\"psysml:8088eca0-f00f-4a1f-9db3-28df87f45186\" xlink:type=\"simple\"><rect fill=\"#FFFFFF\" height=\"45.9375\" id=\"E3\" style=\"stroke: #383838; stroke-width: 1.5;\" width=\"66\" x=\"178\" y=\"154\"/><text fill=\"#000000\" font-family=\"sans-serif\" font-size=\"12\" font-style=\"italic\" lengthAdjust=\"spacingAndGlyphs\" textLength=\"64\" x=\"179\" y=\"170.1387\">«part def»</text><text fill=\"#000000\" font-family=\"sans-serif\" font-size=\"12\" lengthAdjust=\"spacingAndGlyphs\" textLength=\"8\" x=\"207\" y=\"184.1074\">A</text><line style=\"stroke: #383838; stroke-width: 1.5;\" x1=\"179\" x2=\"243\" y1=\"191.9375\" y2=\"191.9375\"/></a><a href=\"psysml:f5fce4b6-35f4-4f46-9b6d-d151b55baece\" target=\"_top\" title=\"psysml:f5fce4b6-35f4-4f46-9b6d-d151b55baece\" xlink:actuate=\"onRequest\" xlink:href=\"psysml:f5fce4b6-35f4-4f46-9b6d-d151b55baece\" xlink:show=\"new\" xlink:title=\"psysml:f5fce4b6-35f4-4f46-9b6d-d151b55baece\" xlink:type=\"simple\"><polygon fill=\"#FFFFFF\" points=\"32,41,58,41,65,63.2969,72,63.2969,72,93.5938,32,93.5938,32,41\" style=\"stroke: #000000; stroke-width: 1.5;\"/><line style=\"stroke: #000000; stroke-width: 1.5;\" x1=\"32\" x2=\"65\" y1=\"63.2969\" y2=\"63.2969\"/><text fill=\"#000000\" font-family=\"sans-serif\" font-size=\"14\" font-weight=\"bold\" lengthAdjust=\"spacingAndGlyphs\" textLength=\"20\" x=\"36\" y=\"55.9951\">P2</text></a><!--MD5=[2156ba9850f5573cc1fc38a6a4b2f02b]\n",
       "class E7--><a href=\"psysml:a9488239-9884-4bc6-98b3-04bdbcc46eca\" target=\"_top\" title=\"psysml:a9488239-9884-4bc6-98b3-04bdbcc46eca\" xlink:actuate=\"onRequest\" xlink:href=\"psysml:a9488239-9884-4bc6-98b3-04bdbcc46eca\" xlink:show=\"new\" xlink:title=\"psysml:a9488239-9884-4bc6-98b3-04bdbcc46eca\" xlink:type=\"simple\"><rect fill=\"#FFFFFF\" height=\"45.9375\" id=\"E7\" style=\"stroke: #383838; stroke-width: 1.5;\" width=\"66\" x=\"56\" y=\"154\"/><text fill=\"#000000\" font-family=\"sans-serif\" font-size=\"12\" font-style=\"italic\" lengthAdjust=\"spacingAndGlyphs\" textLength=\"64\" x=\"57\" y=\"170.1387\">«part def»</text><text fill=\"#000000\" font-family=\"sans-serif\" font-size=\"12\" lengthAdjust=\"spacingAndGlyphs\" textLength=\"8\" x=\"85\" y=\"184.1074\">B</text><line style=\"stroke: #383838; stroke-width: 1.5;\" x1=\"57\" x2=\"121\" y1=\"191.9375\" y2=\"191.9375\"/></a><!--MD5=[e9be52314489bd878ff4c7144b63c9e1]\n",
       "link E5 to E3--><a href=\"psysml:25d642ee-de35-43b5-ac2f-29504efb7d68\" target=\"_top\" title=\"psysml:25d642ee-de35-43b5-ac2f-29504efb7d68\" xlink:actuate=\"onRequest\" xlink:href=\"psysml:25d642ee-de35-43b5-ac2f-29504efb7d68\" xlink:show=\"new\" xlink:title=\"psysml:25d642ee-de35-43b5-ac2f-29504efb7d68\" xlink:type=\"simple\"><path d=\"M211,90.72 C211,90.72 211,133.81 211,133.81 \" fill=\"none\" id=\"E5-&gt;E3\" style=\"stroke: #383838; stroke-width: 1.0;\"/><polygon fill=\"#FFFFFF\" points=\"211,153.81,204,134.81,218,134.81,211,153.81\" style=\"stroke: #383838; stroke-width: 1.0;\"/><ellipse cx=\"206\" cy=\"129.11\" fill=\"#383838\" rx=\"2\" ry=\"2\" style=\"stroke: #383838; stroke-width: 1.0;\"/><ellipse cx=\"216\" cy=\"129.11\" fill=\"#383838\" rx=\"2\" ry=\"2\" style=\"stroke: #383838; stroke-width: 1.0;\"/></a><!--MD5=[bfa3c8b0d15052fdf50ae9310b491027]\n",
       "link E8 to E7--><a href=\"psysml:d89216b2-7e18-408a-b614-d8caef1c47ec\" target=\"_top\" title=\"psysml:d89216b2-7e18-408a-b614-d8caef1c47ec\" xlink:actuate=\"onRequest\" xlink:href=\"psysml:d89216b2-7e18-408a-b614-d8caef1c47ec\" xlink:show=\"new\" xlink:title=\"psysml:d89216b2-7e18-408a-b614-d8caef1c47ec\" xlink:type=\"simple\"><path d=\"M114.5,90.72 C114.5,90.72 114.5,133.81 114.5,133.81 \" fill=\"none\" id=\"E8-&gt;E7\" style=\"stroke: #383838; stroke-width: 1.0;\"/><polygon fill=\"#FFFFFF\" points=\"114.5,153.81,107.5,134.81,121.5,134.81,114.5,153.81\" style=\"stroke: #383838; stroke-width: 1.0;\"/><ellipse cx=\"109.5\" cy=\"129.11\" fill=\"#383838\" rx=\"2\" ry=\"2\" style=\"stroke: #383838; stroke-width: 1.0;\"/><ellipse cx=\"119.5\" cy=\"129.11\" fill=\"#383838\" rx=\"2\" ry=\"2\" style=\"stroke: #383838; stroke-width: 1.0;\"/></a><!--MD5=[abe2296095155ac249907c8350080fcf]\n",
       "@startuml\r\n",
       "skinparam linetype ortho\r\n",
       "skinparam monochrome true\r\n",
       "skinparam classbackgroundcolor white\r\n",
       "skinparam shadowing false\r\n",
       "skinparam wrapWidth 300\r\n",
       "hide circle\r\n",
       "\r\n",
       "package \"PrivateImportTest\" as E1  [[psysml:04be3c0a-f069-4f88-9dd0-1488cf078b60 ]]  {\r\n",
       "package \"P1\" as E2  [[psysml:2d8a57d2-00aa-4c24-bcf4-c6f0dba3a85a ]]  {\r\n",
       "comp def \"A\" as E3  <<(T,blue)part def>> [[psysml:8088eca0-f00f-4a1f-9db3-28df87f45186 ]] {\r\n",
       "}\r\n",
       "}\r\n",
       "package \"P2\" as E4  [[psysml:f5fce4b6-35f4-4f46-9b6d-d151b55baece ]]  {\r\n",
       "}\r\n",
       "comp usage \"x: A\" as E5  <<(T,blue)part>> [[psysml:43785f75-2189-42e8-ba89-9f38d7235e69 ]] {\r\n",
       "}\r\n",
       "package \"P3\" as E6  [[psysml:0a65db1a-6ec3-4140-b73e-0c5567d9dbea ]]  {\r\n",
       "comp def \"B\" as E7  <<(T,blue)part def>> [[psysml:a9488239-9884-4bc6-98b3-04bdbcc46eca ]] {\r\n",
       "}\r\n",
       "E5 - -:|> E3 [[psysml:25d642ee-de35-43b5-ac2f-29504efb7d68 ]] \r\n",
       "}\r\n",
       "comp usage \"z: B\" as E8  <<(T,blue)part>> [[psysml:ceec508b-c3a9-4167-8e78-7da3e35ca489 ]] {\r\n",
       "}\r\n",
       "E8 - -:|> E7 [[psysml:d89216b2-7e18-408a-b614-d8caef1c47ec ]] \r\n",
       "}\r\n",
       "@enduml\r\n",
       "\n",
       "PlantUML version 1.2020.13(Sat Jun 13 12:26:38 UTC 2020)\n",
       "(EPL source distribution)\n",
       "Java Runtime: OpenJDK Runtime Environment\n",
       "JVM: OpenJDK 64-Bit Server VM\n",
       "Default Encoding: UTF-8\n",
       "Language: en\n",
       "Country: null\n",
       "--></g></svg>"
      ]
     },
     "execution_count": 51,
     "metadata": {},
     "output_type": "execute_result"
    }
   ],
   "source": [
    "%viz --style=\"ORTHOLINE\" --view=\"Default\" \"PrivateImportTest\""
   ]
  },
  {
   "cell_type": "code",
   "execution_count": 52,
   "id": "sustained-evanescence",
   "metadata": {
    "execution": {
     "iopub.execute_input": "2021-03-25T14:10:42.872961Z",
     "iopub.status.busy": "2021-03-25T14:10:42.872403Z",
     "iopub.status.idle": "2021-03-25T14:10:42.937046Z",
     "shell.execute_reply": "2021-03-25T14:10:42.935637Z"
    }
   },
   "outputs": [
    {
     "data": {
      "image/svg+xml": [
       "<?xml version=\"1.0\" encoding=\"UTF-8\" standalone=\"no\"?><svg xmlns=\"http://www.w3.org/2000/svg\" xmlns:xlink=\"http://www.w3.org/1999/xlink\" contentScriptType=\"application/ecmascript\" contentStyleType=\"text/css\" height=\"252px\" preserveAspectRatio=\"none\" style=\"width:306px;height:252px;\" version=\"1.1\" viewBox=\"0 0 306 252\" width=\"306px\" zoomAndPan=\"magnify\"><defs/><g><!--MD5=[fbc87193dbaf4d95561dea2c320d4a47]\n",
       "cluster E1--><a href=\"psysml:04be3c0a-f069-4f88-9dd0-1488cf078b60\" target=\"_top\" title=\"psysml:04be3c0a-f069-4f88-9dd0-1488cf078b60\" xlink:actuate=\"onRequest\" xlink:href=\"psysml:04be3c0a-f069-4f88-9dd0-1488cf078b60\" xlink:show=\"new\" xlink:title=\"psysml:04be3c0a-f069-4f88-9dd0-1488cf078b60\" xlink:type=\"simple\"><polygon fill=\"#FFFFFF\" points=\"16,6,163,6,170,28.2969,284,28.2969,284,240,16,240,16,6\" style=\"stroke: #000000; stroke-width: 1.5;\"/><line style=\"stroke: #000000; stroke-width: 1.5;\" x1=\"16\" x2=\"170\" y1=\"28.2969\" y2=\"28.2969\"/><text fill=\"#000000\" font-family=\"sans-serif\" font-size=\"14\" font-weight=\"bold\" lengthAdjust=\"spacingAndGlyphs\" textLength=\"141\" x=\"20\" y=\"20.9951\">PrivateImportTest</text></a><!--MD5=[e4f7fae6ed58524ba242bb0b0d3be6b7]\n",
       "cluster E2--><a href=\"psysml:2d8a57d2-00aa-4c24-bcf4-c6f0dba3a85a\" target=\"_top\" title=\"psysml:2d8a57d2-00aa-4c24-bcf4-c6f0dba3a85a\" xlink:actuate=\"onRequest\" xlink:href=\"psysml:2d8a57d2-00aa-4c24-bcf4-c6f0dba3a85a\" xlink:show=\"new\" xlink:title=\"psysml:2d8a57d2-00aa-4c24-bcf4-c6f0dba3a85a\" xlink:type=\"simple\"><polygon fill=\"#FFFFFF\" points=\"162,119,188,119,195,141.2969,260,141.2969,260,216,162,216,162,119\" style=\"stroke: #000000; stroke-width: 1.5;\"/><line style=\"stroke: #000000; stroke-width: 1.5;\" x1=\"162\" x2=\"195\" y1=\"141.2969\" y2=\"141.2969\"/><text fill=\"#000000\" font-family=\"sans-serif\" font-size=\"14\" font-weight=\"bold\" lengthAdjust=\"spacingAndGlyphs\" textLength=\"20\" x=\"166\" y=\"133.9951\">P1</text></a><!--MD5=[14e3b0961a2654348d326746436168a1]\n",
       "cluster E6--><a href=\"psysml:0a65db1a-6ec3-4140-b73e-0c5567d9dbea\" target=\"_top\" title=\"psysml:0a65db1a-6ec3-4140-b73e-0c5567d9dbea\" xlink:actuate=\"onRequest\" xlink:href=\"psysml:0a65db1a-6ec3-4140-b73e-0c5567d9dbea\" xlink:show=\"new\" xlink:title=\"psysml:0a65db1a-6ec3-4140-b73e-0c5567d9dbea\" xlink:type=\"simple\"><polygon fill=\"#FFFFFF\" points=\"40,119,66,119,73,141.2969,138,141.2969,138,216,40,216,40,119\" style=\"stroke: #000000; stroke-width: 1.5;\"/><line style=\"stroke: #000000; stroke-width: 1.5;\" x1=\"40\" x2=\"73\" y1=\"141.2969\" y2=\"141.2969\"/><text fill=\"#000000\" font-family=\"sans-serif\" font-size=\"14\" font-weight=\"bold\" lengthAdjust=\"spacingAndGlyphs\" textLength=\"20\" x=\"44\" y=\"133.9951\">P3</text></a><!--MD5=[270fce915f116d4de14055a7c1d9a0f3]\n",
       "class E5--><a href=\"psysml:43785f75-2189-42e8-ba89-9f38d7235e69\" target=\"_top\" title=\"psysml:43785f75-2189-42e8-ba89-9f38d7235e69\" xlink:actuate=\"onRequest\" xlink:href=\"psysml:43785f75-2189-42e8-ba89-9f38d7235e69\" xlink:show=\"new\" xlink:title=\"psysml:43785f75-2189-42e8-ba89-9f38d7235e69\" xlink:type=\"simple\"><rect fill=\"#FFFFFF\" height=\"45.9375\" id=\"E5\" rx=\"10\" ry=\"10\" style=\"stroke: #383838; stroke-width: 1.5;\" width=\"42\" x=\"190\" y=\"44.5\"/><text fill=\"#000000\" font-family=\"sans-serif\" font-size=\"12\" font-style=\"italic\" lengthAdjust=\"spacingAndGlyphs\" textLength=\"40\" x=\"191\" y=\"60.6387\">«part»</text><text fill=\"#000000\" font-family=\"sans-serif\" font-size=\"12\" lengthAdjust=\"spacingAndGlyphs\" textLength=\"22\" x=\"200\" y=\"74.6074\">x: A</text><line style=\"stroke: #383838; stroke-width: 1.5;\" x1=\"191\" x2=\"231\" y1=\"82.4375\" y2=\"82.4375\"/></a><!--MD5=[b9389687b975829384b498ac4b7476b2]\n",
       "class E8--><a href=\"psysml:ceec508b-c3a9-4167-8e78-7da3e35ca489\" target=\"_top\" title=\"psysml:ceec508b-c3a9-4167-8e78-7da3e35ca489\" xlink:actuate=\"onRequest\" xlink:href=\"psysml:ceec508b-c3a9-4167-8e78-7da3e35ca489\" xlink:show=\"new\" xlink:title=\"psysml:ceec508b-c3a9-4167-8e78-7da3e35ca489\" xlink:type=\"simple\"><rect fill=\"#FFFFFF\" height=\"45.9375\" id=\"E8\" rx=\"10\" ry=\"10\" style=\"stroke: #383838; stroke-width: 1.5;\" width=\"42\" x=\"107\" y=\"44.5\"/><text fill=\"#000000\" font-family=\"sans-serif\" font-size=\"12\" font-style=\"italic\" lengthAdjust=\"spacingAndGlyphs\" textLength=\"40\" x=\"108\" y=\"60.6387\">«part»</text><text fill=\"#000000\" font-family=\"sans-serif\" font-size=\"12\" lengthAdjust=\"spacingAndGlyphs\" textLength=\"21\" x=\"117.5\" y=\"74.6074\">z: B</text><line style=\"stroke: #383838; stroke-width: 1.5;\" x1=\"108\" x2=\"148\" y1=\"82.4375\" y2=\"82.4375\"/></a><!--MD5=[09b614a08d8cba4a07c9adeb5e0fee81]\n",
       "class E3--><a href=\"psysml:8088eca0-f00f-4a1f-9db3-28df87f45186\" target=\"_top\" title=\"psysml:8088eca0-f00f-4a1f-9db3-28df87f45186\" xlink:actuate=\"onRequest\" xlink:href=\"psysml:8088eca0-f00f-4a1f-9db3-28df87f45186\" xlink:show=\"new\" xlink:title=\"psysml:8088eca0-f00f-4a1f-9db3-28df87f45186\" xlink:type=\"simple\"><rect fill=\"#FFFFFF\" height=\"45.9375\" id=\"E3\" style=\"stroke: #383838; stroke-width: 1.5;\" width=\"66\" x=\"178\" y=\"154\"/><text fill=\"#000000\" font-family=\"sans-serif\" font-size=\"12\" font-style=\"italic\" lengthAdjust=\"spacingAndGlyphs\" textLength=\"64\" x=\"179\" y=\"170.1387\">«part def»</text><text fill=\"#000000\" font-family=\"sans-serif\" font-size=\"12\" lengthAdjust=\"spacingAndGlyphs\" textLength=\"8\" x=\"207\" y=\"184.1074\">A</text><line style=\"stroke: #383838; stroke-width: 1.5;\" x1=\"179\" x2=\"243\" y1=\"191.9375\" y2=\"191.9375\"/></a><a href=\"psysml:f5fce4b6-35f4-4f46-9b6d-d151b55baece\" target=\"_top\" title=\"psysml:f5fce4b6-35f4-4f46-9b6d-d151b55baece\" xlink:actuate=\"onRequest\" xlink:href=\"psysml:f5fce4b6-35f4-4f46-9b6d-d151b55baece\" xlink:show=\"new\" xlink:title=\"psysml:f5fce4b6-35f4-4f46-9b6d-d151b55baece\" xlink:type=\"simple\"><polygon fill=\"#FFFFFF\" points=\"32,41,58,41,65,63.2969,72,63.2969,72,93.5938,32,93.5938,32,41\" style=\"stroke: #000000; stroke-width: 1.5;\"/><line style=\"stroke: #000000; stroke-width: 1.5;\" x1=\"32\" x2=\"65\" y1=\"63.2969\" y2=\"63.2969\"/><text fill=\"#000000\" font-family=\"sans-serif\" font-size=\"14\" font-weight=\"bold\" lengthAdjust=\"spacingAndGlyphs\" textLength=\"20\" x=\"36\" y=\"55.9951\">P2</text></a><!--MD5=[2156ba9850f5573cc1fc38a6a4b2f02b]\n",
       "class E7--><a href=\"psysml:a9488239-9884-4bc6-98b3-04bdbcc46eca\" target=\"_top\" title=\"psysml:a9488239-9884-4bc6-98b3-04bdbcc46eca\" xlink:actuate=\"onRequest\" xlink:href=\"psysml:a9488239-9884-4bc6-98b3-04bdbcc46eca\" xlink:show=\"new\" xlink:title=\"psysml:a9488239-9884-4bc6-98b3-04bdbcc46eca\" xlink:type=\"simple\"><rect fill=\"#FFFFFF\" height=\"45.9375\" id=\"E7\" style=\"stroke: #383838; stroke-width: 1.5;\" width=\"66\" x=\"56\" y=\"154\"/><text fill=\"#000000\" font-family=\"sans-serif\" font-size=\"12\" font-style=\"italic\" lengthAdjust=\"spacingAndGlyphs\" textLength=\"64\" x=\"57\" y=\"170.1387\">«part def»</text><text fill=\"#000000\" font-family=\"sans-serif\" font-size=\"12\" lengthAdjust=\"spacingAndGlyphs\" textLength=\"8\" x=\"85\" y=\"184.1074\">B</text><line style=\"stroke: #383838; stroke-width: 1.5;\" x1=\"57\" x2=\"121\" y1=\"191.9375\" y2=\"191.9375\"/></a><!--MD5=[e9be52314489bd878ff4c7144b63c9e1]\n",
       "link E5 to E3--><a href=\"psysml:25d642ee-de35-43b5-ac2f-29504efb7d68\" target=\"_top\" title=\"psysml:25d642ee-de35-43b5-ac2f-29504efb7d68\" xlink:actuate=\"onRequest\" xlink:href=\"psysml:25d642ee-de35-43b5-ac2f-29504efb7d68\" xlink:show=\"new\" xlink:title=\"psysml:25d642ee-de35-43b5-ac2f-29504efb7d68\" xlink:type=\"simple\"><path d=\"M211,90.72 C211,90.72 211,133.81 211,133.81 \" fill=\"none\" id=\"E5-&gt;E3\" style=\"stroke: #383838; stroke-width: 1.0;\"/><polygon fill=\"#FFFFFF\" points=\"211,153.81,204,134.81,218,134.81,211,153.81\" style=\"stroke: #383838; stroke-width: 1.0;\"/><ellipse cx=\"206\" cy=\"129.11\" fill=\"#383838\" rx=\"2\" ry=\"2\" style=\"stroke: #383838; stroke-width: 1.0;\"/><ellipse cx=\"216\" cy=\"129.11\" fill=\"#383838\" rx=\"2\" ry=\"2\" style=\"stroke: #383838; stroke-width: 1.0;\"/></a><!--MD5=[bfa3c8b0d15052fdf50ae9310b491027]\n",
       "link E8 to E7--><a href=\"psysml:d89216b2-7e18-408a-b614-d8caef1c47ec\" target=\"_top\" title=\"psysml:d89216b2-7e18-408a-b614-d8caef1c47ec\" xlink:actuate=\"onRequest\" xlink:href=\"psysml:d89216b2-7e18-408a-b614-d8caef1c47ec\" xlink:show=\"new\" xlink:title=\"psysml:d89216b2-7e18-408a-b614-d8caef1c47ec\" xlink:type=\"simple\"><path d=\"M114.5,90.72 C114.5,90.72 114.5,133.81 114.5,133.81 \" fill=\"none\" id=\"E8-&gt;E7\" style=\"stroke: #383838; stroke-width: 1.0;\"/><polygon fill=\"#FFFFFF\" points=\"114.5,153.81,107.5,134.81,121.5,134.81,114.5,153.81\" style=\"stroke: #383838; stroke-width: 1.0;\"/><ellipse cx=\"109.5\" cy=\"129.11\" fill=\"#383838\" rx=\"2\" ry=\"2\" style=\"stroke: #383838; stroke-width: 1.0;\"/><ellipse cx=\"119.5\" cy=\"129.11\" fill=\"#383838\" rx=\"2\" ry=\"2\" style=\"stroke: #383838; stroke-width: 1.0;\"/></a><!--MD5=[abe2296095155ac249907c8350080fcf]\n",
       "@startuml\r\n",
       "skinparam linetype ortho\r\n",
       "skinparam monochrome true\r\n",
       "skinparam classbackgroundcolor white\r\n",
       "skinparam shadowing false\r\n",
       "skinparam wrapWidth 300\r\n",
       "hide circle\r\n",
       "\r\n",
       "package \"PrivateImportTest\" as E1  [[psysml:04be3c0a-f069-4f88-9dd0-1488cf078b60 ]]  {\r\n",
       "package \"P1\" as E2  [[psysml:2d8a57d2-00aa-4c24-bcf4-c6f0dba3a85a ]]  {\r\n",
       "comp def \"A\" as E3  <<(T,blue)part def>> [[psysml:8088eca0-f00f-4a1f-9db3-28df87f45186 ]] {\r\n",
       "}\r\n",
       "}\r\n",
       "package \"P2\" as E4  [[psysml:f5fce4b6-35f4-4f46-9b6d-d151b55baece ]]  {\r\n",
       "}\r\n",
       "comp usage \"x: A\" as E5  <<(T,blue)part>> [[psysml:43785f75-2189-42e8-ba89-9f38d7235e69 ]] {\r\n",
       "}\r\n",
       "package \"P3\" as E6  [[psysml:0a65db1a-6ec3-4140-b73e-0c5567d9dbea ]]  {\r\n",
       "comp def \"B\" as E7  <<(T,blue)part def>> [[psysml:a9488239-9884-4bc6-98b3-04bdbcc46eca ]] {\r\n",
       "}\r\n",
       "E5 - -:|> E3 [[psysml:25d642ee-de35-43b5-ac2f-29504efb7d68 ]] \r\n",
       "}\r\n",
       "comp usage \"z: B\" as E8  <<(T,blue)part>> [[psysml:ceec508b-c3a9-4167-8e78-7da3e35ca489 ]] {\r\n",
       "}\r\n",
       "E8 - -:|> E7 [[psysml:d89216b2-7e18-408a-b614-d8caef1c47ec ]] \r\n",
       "}\r\n",
       "@enduml\r\n",
       "\n",
       "PlantUML version 1.2020.13(Sat Jun 13 12:26:38 UTC 2020)\n",
       "(EPL source distribution)\n",
       "Java Runtime: OpenJDK Runtime Environment\n",
       "JVM: OpenJDK 64-Bit Server VM\n",
       "Default Encoding: UTF-8\n",
       "Language: en\n",
       "Country: null\n",
       "--></g></svg>"
      ]
     },
     "execution_count": 52,
     "metadata": {},
     "output_type": "execute_result"
    }
   ],
   "source": [
    "%viz --style=\"ORTHOLINE\" --view=\"Tree\" \"PrivateImportTest\""
   ]
  },
  {
   "cell_type": "code",
   "execution_count": 53,
   "id": "accredited-scratch",
   "metadata": {
    "execution": {
     "iopub.execute_input": "2021-03-25T14:10:42.987186Z",
     "iopub.status.busy": "2021-03-25T14:10:42.986821Z",
     "iopub.status.idle": "2021-03-25T14:10:42.993106Z",
     "shell.execute_reply": "2021-03-25T14:10:42.993547Z"
    }
   },
   "outputs": [
    {
     "data": {
      "image/svg+xml": [
       "<?xml version=\"1.0\" encoding=\"UTF-8\" standalone=\"no\"?><svg xmlns=\"http://www.w3.org/2000/svg\" xmlns:xlink=\"http://www.w3.org/1999/xlink\" contentScriptType=\"application/ecmascript\" contentStyleType=\"text/css\" height=\"12px\" preserveAspectRatio=\"none\" style=\"width:12px;height:12px;\" version=\"1.1\" viewBox=\"0 0 12 12\" width=\"12px\" zoomAndPan=\"magnify\"><defs/><g><!--MD5=[97d6f38768b311333d388e66b2b27985]\n",
       "@startuml\r\n",
       "skinparam linetype ortho\r\n",
       "skinparam monochrome true\r\n",
       "skinparam classbackgroundcolor white\r\n",
       "skinparam shadowing false\r\n",
       "skinparam wrapWidth 300\r\n",
       "hide circle\r\n",
       "\r\n",
       "@enduml\r\n",
       "\n",
       "PlantUML version 1.2020.13(Sat Jun 13 12:26:38 UTC 2020)\n",
       "(EPL source distribution)\n",
       "Java Runtime: OpenJDK Runtime Environment\n",
       "JVM: OpenJDK 64-Bit Server VM\n",
       "Default Encoding: UTF-8\n",
       "Language: en\n",
       "Country: null\n",
       "--></g></svg>"
      ]
     },
     "execution_count": 53,
     "metadata": {},
     "output_type": "execute_result"
    }
   ],
   "source": [
    "%viz --style=\"ORTHOLINE\" --view=\"State\" \"PrivateImportTest\""
   ]
  },
  {
   "cell_type": "code",
   "execution_count": 54,
   "id": "completed-marker",
   "metadata": {
    "execution": {
     "iopub.execute_input": "2021-03-25T14:10:43.044297Z",
     "iopub.status.busy": "2021-03-25T14:10:43.043906Z",
     "iopub.status.idle": "2021-03-25T14:10:43.100447Z",
     "shell.execute_reply": "2021-03-25T14:10:43.099169Z"
    }
   },
   "outputs": [
    {
     "data": {
      "image/svg+xml": [
       "<?xml version=\"1.0\" encoding=\"UTF-8\" standalone=\"no\"?><svg xmlns=\"http://www.w3.org/2000/svg\" xmlns:xlink=\"http://www.w3.org/1999/xlink\" contentScriptType=\"application/ecmascript\" contentStyleType=\"text/css\" height=\"179px\" preserveAspectRatio=\"none\" style=\"width:539px;height:179px;\" version=\"1.1\" viewBox=\"0 0 539 179\" width=\"539px\" zoomAndPan=\"magnify\"><defs/><g><!--MD5=[fbc87193dbaf4d95561dea2c320d4a47]\n",
       "cluster E1--><a href=\"psysml:04be3c0a-f069-4f88-9dd0-1488cf078b60\" target=\"_top\" title=\"psysml:04be3c0a-f069-4f88-9dd0-1488cf078b60\" xlink:actuate=\"onRequest\" xlink:href=\"psysml:04be3c0a-f069-4f88-9dd0-1488cf078b60\" xlink:show=\"new\" xlink:title=\"psysml:04be3c0a-f069-4f88-9dd0-1488cf078b60\" xlink:type=\"simple\"><polygon fill=\"#FFFFFF\" points=\"16,6,163,6,170,28.2969,517,28.2969,517,167,16,167,16,6\" style=\"stroke: #000000; stroke-width: 1.5;\"/><line style=\"stroke: #000000; stroke-width: 1.5;\" x1=\"16\" x2=\"170\" y1=\"28.2969\" y2=\"28.2969\"/><text fill=\"#000000\" font-family=\"sans-serif\" font-size=\"14\" font-weight=\"bold\" lengthAdjust=\"spacingAndGlyphs\" textLength=\"141\" x=\"20\" y=\"20.9951\">PrivateImportTest</text></a><!--MD5=[e4f7fae6ed58524ba242bb0b0d3be6b7]\n",
       "cluster E2--><a href=\"psysml:2d8a57d2-00aa-4c24-bcf4-c6f0dba3a85a\" target=\"_top\" title=\"psysml:2d8a57d2-00aa-4c24-bcf4-c6f0dba3a85a\" xlink:actuate=\"onRequest\" xlink:href=\"psysml:2d8a57d2-00aa-4c24-bcf4-c6f0dba3a85a\" xlink:show=\"new\" xlink:title=\"psysml:2d8a57d2-00aa-4c24-bcf4-c6f0dba3a85a\" xlink:type=\"simple\"><polygon fill=\"#FFFFFF\" points=\"389,49,415,49,422,71.2969,493,71.2969,493,143,389,143,389,49\" style=\"stroke: #000000; stroke-width: 1.5;\"/><line style=\"stroke: #000000; stroke-width: 1.5;\" x1=\"389\" x2=\"422\" y1=\"71.2969\" y2=\"71.2969\"/><text fill=\"#000000\" font-family=\"sans-serif\" font-size=\"14\" font-weight=\"bold\" lengthAdjust=\"spacingAndGlyphs\" textLength=\"20\" x=\"393\" y=\"63.9951\">P1</text></a><!--MD5=[14e3b0961a2654348d326746436168a1]\n",
       "cluster E6--><a href=\"psysml:0a65db1a-6ec3-4140-b73e-0c5567d9dbea\" target=\"_top\" title=\"psysml:0a65db1a-6ec3-4140-b73e-0c5567d9dbea\" xlink:actuate=\"onRequest\" xlink:href=\"psysml:0a65db1a-6ec3-4140-b73e-0c5567d9dbea\" xlink:show=\"new\" xlink:title=\"psysml:0a65db1a-6ec3-4140-b73e-0c5567d9dbea\" xlink:type=\"simple\"><polygon fill=\"#FFFFFF\" points=\"261,49,287,49,294,71.2969,365,71.2969,365,143,261,143,261,49\" style=\"stroke: #000000; stroke-width: 1.5;\"/><line style=\"stroke: #000000; stroke-width: 1.5;\" x1=\"261\" x2=\"294\" y1=\"71.2969\" y2=\"71.2969\"/><text fill=\"#000000\" font-family=\"sans-serif\" font-size=\"14\" font-weight=\"bold\" lengthAdjust=\"spacingAndGlyphs\" textLength=\"20\" x=\"265\" y=\"63.9951\">P3</text></a><g id=\"E1.E2.E3\"><a href=\"psysml:8088eca0-f00f-4a1f-9db3-28df87f45186\" target=\"_top\" title=\"psysml:8088eca0-f00f-4a1f-9db3-28df87f45186\" xlink:actuate=\"onRequest\" xlink:href=\"psysml:8088eca0-f00f-4a1f-9db3-28df87f45186\" xlink:show=\"new\" xlink:title=\"psysml:8088eca0-f00f-4a1f-9db3-28df87f45186\" xlink:type=\"simple\"><rect fill=\"#FFFFFF\" height=\"42.9375\" id=\"E3\" style=\"stroke: #383838; stroke-width: 1.5;\" width=\"71\" x=\"405.5\" y=\"84\"/><rect fill=\"#F8F8F8\" height=\"37.9375\" style=\"stroke: #383838; stroke-width: 1.5;\" width=\"71\" x=\"405.5\" y=\"84\"/><text fill=\"#000000\" font-family=\"sans-serif\" font-size=\"12\" font-style=\"italic\" lengthAdjust=\"spacingAndGlyphs\" textLength=\"64\" x=\"409\" y=\"100.1387\">«part def»</text><text fill=\"#000000\" font-family=\"sans-serif\" font-size=\"12\" lengthAdjust=\"spacingAndGlyphs\" textLength=\"8\" x=\"437\" y=\"114.1074\">A</text></a></g><a href=\"psysml:f5fce4b6-35f4-4f46-9b6d-d151b55baece\" target=\"_top\" title=\"psysml:f5fce4b6-35f4-4f46-9b6d-d151b55baece\" xlink:actuate=\"onRequest\" xlink:href=\"psysml:f5fce4b6-35f4-4f46-9b6d-d151b55baece\" xlink:show=\"new\" xlink:title=\"psysml:f5fce4b6-35f4-4f46-9b6d-d151b55baece\" xlink:type=\"simple\"><polygon fill=\"#FFFFFF\" points=\"202,79,228,79,235,101.2969,242,101.2969,242,131.5938,202,131.5938,202,79\" style=\"stroke: #000000; stroke-width: 1.5;\"/><line style=\"stroke: #000000; stroke-width: 1.5;\" x1=\"202\" x2=\"235\" y1=\"101.2969\" y2=\"101.2969\"/><text fill=\"#000000\" font-family=\"sans-serif\" font-size=\"14\" font-weight=\"bold\" lengthAdjust=\"spacingAndGlyphs\" textLength=\"20\" x=\"206\" y=\"93.9951\">P2</text></a><g id=\"E1.E5\"><a href=\"psysml:43785f75-2189-42e8-ba89-9f38d7235e69\" target=\"_top\" title=\"psysml:43785f75-2189-42e8-ba89-9f38d7235e69\" xlink:actuate=\"onRequest\" xlink:href=\"psysml:43785f75-2189-42e8-ba89-9f38d7235e69\" xlink:show=\"new\" xlink:title=\"psysml:43785f75-2189-42e8-ba89-9f38d7235e69\" xlink:type=\"simple\"><rect fill=\"#FFFFFF\" height=\"40\" id=\"E5\" rx=\"10\" ry=\"10\" style=\"stroke: #383838; stroke-width: 1.5;\" width=\"50\" x=\"117\" y=\"85.5\"/><rect fill=\"#F8F8F8\" height=\"23.9688\" rx=\"10\" ry=\"10\" style=\"stroke: #F8F8F8; stroke-width: 1.5;\" width=\"50\" x=\"117\" y=\"85.5\"/><rect fill=\"#F8F8F8\" height=\"10\" style=\"stroke: #F8F8F8; stroke-width: 1.5;\" width=\"50\" x=\"117\" y=\"99.4688\"/><rect fill=\"none\" height=\"40\" id=\"E5\" rx=\"10\" ry=\"10\" style=\"stroke: #383838; stroke-width: 1.5;\" width=\"50\" x=\"117\" y=\"85.5\"/><text fill=\"#000000\" font-family=\"sans-serif\" font-size=\"12\" lengthAdjust=\"spacingAndGlyphs\" textLength=\"22\" x=\"131\" y=\"101.6387\">x: A</text></a></g><g id=\"E1.E6.E7\"><a href=\"psysml:a9488239-9884-4bc6-98b3-04bdbcc46eca\" target=\"_top\" title=\"psysml:a9488239-9884-4bc6-98b3-04bdbcc46eca\" xlink:actuate=\"onRequest\" xlink:href=\"psysml:a9488239-9884-4bc6-98b3-04bdbcc46eca\" xlink:show=\"new\" xlink:title=\"psysml:a9488239-9884-4bc6-98b3-04bdbcc46eca\" xlink:type=\"simple\"><rect fill=\"#FFFFFF\" height=\"42.9375\" id=\"E7\" style=\"stroke: #383838; stroke-width: 1.5;\" width=\"71\" x=\"277.5\" y=\"84\"/><rect fill=\"#F8F8F8\" height=\"37.9375\" style=\"stroke: #383838; stroke-width: 1.5;\" width=\"71\" x=\"277.5\" y=\"84\"/><text fill=\"#000000\" font-family=\"sans-serif\" font-size=\"12\" font-style=\"italic\" lengthAdjust=\"spacingAndGlyphs\" textLength=\"64\" x=\"281\" y=\"100.1387\">«part def»</text><text fill=\"#000000\" font-family=\"sans-serif\" font-size=\"12\" lengthAdjust=\"spacingAndGlyphs\" textLength=\"8\" x=\"309\" y=\"114.1074\">B</text></a></g><g id=\"E1.E8\"><a href=\"psysml:ceec508b-c3a9-4167-8e78-7da3e35ca489\" target=\"_top\" title=\"psysml:ceec508b-c3a9-4167-8e78-7da3e35ca489\" xlink:actuate=\"onRequest\" xlink:href=\"psysml:ceec508b-c3a9-4167-8e78-7da3e35ca489\" xlink:show=\"new\" xlink:title=\"psysml:ceec508b-c3a9-4167-8e78-7da3e35ca489\" xlink:type=\"simple\"><rect fill=\"#FFFFFF\" height=\"40\" id=\"E8\" rx=\"10\" ry=\"10\" style=\"stroke: #383838; stroke-width: 1.5;\" width=\"50\" x=\"32\" y=\"85.5\"/><rect fill=\"#F8F8F8\" height=\"23.9688\" rx=\"10\" ry=\"10\" style=\"stroke: #F8F8F8; stroke-width: 1.5;\" width=\"50\" x=\"32\" y=\"85.5\"/><rect fill=\"#F8F8F8\" height=\"10\" style=\"stroke: #F8F8F8; stroke-width: 1.5;\" width=\"50\" x=\"32\" y=\"99.4688\"/><rect fill=\"none\" height=\"40\" id=\"E8\" rx=\"10\" ry=\"10\" style=\"stroke: #383838; stroke-width: 1.5;\" width=\"50\" x=\"32\" y=\"85.5\"/><text fill=\"#000000\" font-family=\"sans-serif\" font-size=\"12\" lengthAdjust=\"spacingAndGlyphs\" textLength=\"21\" x=\"46.5\" y=\"101.6387\">z: B</text></a></g><!--MD5=[c6ea26b1312d60195e7ed192999955df]\n",
       "@startuml\r\n",
       "skinparam ranksep 10\r\n",
       "skinparam rectangle {\r\n",
       " backgroundColor<<block>> LightGreen\r\n",
       "}\r\n",
       "skinparam linetype ortho\r\n",
       "skinparam monochrome true\r\n",
       "skinparam classbackgroundcolor white\r\n",
       "skinparam shadowing false\r\n",
       "skinparam wrapWidth 300\r\n",
       "hide circle\r\n",
       "\r\n",
       "package \"PrivateImportTest\" as E1  [[psysml:04be3c0a-f069-4f88-9dd0-1488cf078b60 ]]  {\r\n",
       "package \"P1\" as E2  [[psysml:2d8a57d2-00aa-4c24-bcf4-c6f0dba3a85a ]]  {\r\n",
       "rec def \"A\" as E3  <<(T,blue)part def>> [[psysml:8088eca0-f00f-4a1f-9db3-28df87f45186 ]] {\r\n",
       "}\r\n",
       "}\r\n",
       "package \"P2\" as E4  [[psysml:f5fce4b6-35f4-4f46-9b6d-d151b55baece ]]  {\r\n",
       "}\r\n",
       "rec usage \"x: A\" as E5  [[psysml:43785f75-2189-42e8-ba89-9f38d7235e69 ]] {\r\n",
       "}\r\n",
       "package \"P3\" as E6  [[psysml:0a65db1a-6ec3-4140-b73e-0c5567d9dbea ]]  {\r\n",
       "rec def \"B\" as E7  <<(T,blue)part def>> [[psysml:a9488239-9884-4bc6-98b3-04bdbcc46eca ]] {\r\n",
       "}\r\n",
       "}\r\n",
       "rec usage \"z: B\" as E8  [[psysml:ceec508b-c3a9-4167-8e78-7da3e35ca489 ]] {\r\n",
       "}\r\n",
       "}\r\n",
       "@enduml\r\n",
       "\n",
       "PlantUML version 1.2020.13(Sat Jun 13 12:26:38 UTC 2020)\n",
       "(EPL source distribution)\n",
       "Java Runtime: OpenJDK Runtime Environment\n",
       "JVM: OpenJDK 64-Bit Server VM\n",
       "Default Encoding: UTF-8\n",
       "Language: en\n",
       "Country: null\n",
       "--></g></svg>"
      ]
     },
     "execution_count": 54,
     "metadata": {},
     "output_type": "execute_result"
    }
   ],
   "source": [
    "%viz --style=\"ORTHOLINE\" --view=\"Interconnection\" \"PrivateImportTest\""
   ]
  },
  {
   "cell_type": "code",
   "execution_count": 55,
   "id": "emotional-observer",
   "metadata": {
    "execution": {
     "iopub.execute_input": "2021-03-25T14:10:43.153099Z",
     "iopub.status.busy": "2021-03-25T14:10:43.152060Z",
     "iopub.status.idle": "2021-03-25T14:10:43.161508Z",
     "shell.execute_reply": "2021-03-25T14:10:43.161115Z"
    }
   },
   "outputs": [
    {
     "data": {
      "image/svg+xml": [
       "<?xml version=\"1.0\" encoding=\"UTF-8\" standalone=\"no\"?><svg xmlns=\"http://www.w3.org/2000/svg\" xmlns:xlink=\"http://www.w3.org/1999/xlink\" contentScriptType=\"application/ecmascript\" contentStyleType=\"text/css\" height=\"12px\" preserveAspectRatio=\"none\" style=\"width:12px;height:12px;\" version=\"1.1\" viewBox=\"0 0 12 12\" width=\"12px\" zoomAndPan=\"magnify\"><defs/><g><!--MD5=[72934c63077099a26744516a776b4749]\n",
       "@startuml\r\n",
       "skinparam ranksep 8\r\n",
       "skinparam linetype ortho\r\n",
       "skinparam monochrome true\r\n",
       "skinparam classbackgroundcolor white\r\n",
       "skinparam shadowing false\r\n",
       "skinparam wrapWidth 300\r\n",
       "hide circle\r\n",
       "\r\n",
       "@enduml\r\n",
       "\n",
       "PlantUML version 1.2020.13(Sat Jun 13 12:26:38 UTC 2020)\n",
       "(EPL source distribution)\n",
       "Java Runtime: OpenJDK Runtime Environment\n",
       "JVM: OpenJDK 64-Bit Server VM\n",
       "Default Encoding: UTF-8\n",
       "Language: en\n",
       "Country: null\n",
       "--></g></svg>"
      ]
     },
     "execution_count": 55,
     "metadata": {},
     "output_type": "execute_result"
    }
   ],
   "source": [
    "%viz --style=\"ORTHOLINE\" --view=\"Action\" \"PrivateImportTest\""
   ]
  },
  {
   "cell_type": "code",
   "execution_count": 56,
   "id": "italian-republic",
   "metadata": {
    "execution": {
     "iopub.execute_input": "2021-03-25T14:10:43.213772Z",
     "iopub.status.busy": "2021-03-25T14:10:43.213168Z",
     "iopub.status.idle": "2021-03-25T14:10:43.280238Z",
     "shell.execute_reply": "2021-03-25T14:10:43.278473Z"
    }
   },
   "outputs": [
    {
     "data": {
      "image/svg+xml": [
       "<?xml version=\"1.0\" encoding=\"UTF-8\" standalone=\"no\"?><svg xmlns=\"http://www.w3.org/2000/svg\" xmlns:xlink=\"http://www.w3.org/1999/xlink\" contentScriptType=\"application/ecmascript\" contentStyleType=\"text/css\" height=\"252px\" preserveAspectRatio=\"none\" style=\"width:306px;height:252px;\" version=\"1.1\" viewBox=\"0 0 306 252\" width=\"306px\" zoomAndPan=\"magnify\"><defs/><g><!--MD5=[fbc87193dbaf4d95561dea2c320d4a47]\n",
       "cluster E1--><a href=\"psysml:04be3c0a-f069-4f88-9dd0-1488cf078b60\" target=\"_top\" title=\"psysml:04be3c0a-f069-4f88-9dd0-1488cf078b60\" xlink:actuate=\"onRequest\" xlink:href=\"psysml:04be3c0a-f069-4f88-9dd0-1488cf078b60\" xlink:show=\"new\" xlink:title=\"psysml:04be3c0a-f069-4f88-9dd0-1488cf078b60\" xlink:type=\"simple\"><polygon fill=\"#FFFFFF\" points=\"16,6,163,6,170,28.2969,284,28.2969,284,240,16,240,16,6\" style=\"stroke: #000000; stroke-width: 1.5;\"/><line style=\"stroke: #000000; stroke-width: 1.5;\" x1=\"16\" x2=\"170\" y1=\"28.2969\" y2=\"28.2969\"/><text fill=\"#000000\" font-family=\"sans-serif\" font-size=\"14\" font-weight=\"bold\" lengthAdjust=\"spacingAndGlyphs\" textLength=\"141\" x=\"20\" y=\"20.9951\">PrivateImportTest</text></a><!--MD5=[e4f7fae6ed58524ba242bb0b0d3be6b7]\n",
       "cluster E2--><a href=\"psysml:2d8a57d2-00aa-4c24-bcf4-c6f0dba3a85a\" target=\"_top\" title=\"psysml:2d8a57d2-00aa-4c24-bcf4-c6f0dba3a85a\" xlink:actuate=\"onRequest\" xlink:href=\"psysml:2d8a57d2-00aa-4c24-bcf4-c6f0dba3a85a\" xlink:show=\"new\" xlink:title=\"psysml:2d8a57d2-00aa-4c24-bcf4-c6f0dba3a85a\" xlink:type=\"simple\"><polygon fill=\"#FFFFFF\" points=\"162,119,188,119,195,141.2969,260,141.2969,260,216,162,216,162,119\" style=\"stroke: #000000; stroke-width: 1.5;\"/><line style=\"stroke: #000000; stroke-width: 1.5;\" x1=\"162\" x2=\"195\" y1=\"141.2969\" y2=\"141.2969\"/><text fill=\"#000000\" font-family=\"sans-serif\" font-size=\"14\" font-weight=\"bold\" lengthAdjust=\"spacingAndGlyphs\" textLength=\"20\" x=\"166\" y=\"133.9951\">P1</text></a><!--MD5=[14e3b0961a2654348d326746436168a1]\n",
       "cluster E6--><a href=\"psysml:0a65db1a-6ec3-4140-b73e-0c5567d9dbea\" target=\"_top\" title=\"psysml:0a65db1a-6ec3-4140-b73e-0c5567d9dbea\" xlink:actuate=\"onRequest\" xlink:href=\"psysml:0a65db1a-6ec3-4140-b73e-0c5567d9dbea\" xlink:show=\"new\" xlink:title=\"psysml:0a65db1a-6ec3-4140-b73e-0c5567d9dbea\" xlink:type=\"simple\"><polygon fill=\"#FFFFFF\" points=\"40,119,66,119,73,141.2969,138,141.2969,138,216,40,216,40,119\" style=\"stroke: #000000; stroke-width: 1.5;\"/><line style=\"stroke: #000000; stroke-width: 1.5;\" x1=\"40\" x2=\"73\" y1=\"141.2969\" y2=\"141.2969\"/><text fill=\"#000000\" font-family=\"sans-serif\" font-size=\"14\" font-weight=\"bold\" lengthAdjust=\"spacingAndGlyphs\" textLength=\"20\" x=\"44\" y=\"133.9951\">P3</text></a><!--MD5=[270fce915f116d4de14055a7c1d9a0f3]\n",
       "class E5--><a href=\"psysml:43785f75-2189-42e8-ba89-9f38d7235e69\" target=\"_top\" title=\"psysml:43785f75-2189-42e8-ba89-9f38d7235e69\" xlink:actuate=\"onRequest\" xlink:href=\"psysml:43785f75-2189-42e8-ba89-9f38d7235e69\" xlink:show=\"new\" xlink:title=\"psysml:43785f75-2189-42e8-ba89-9f38d7235e69\" xlink:type=\"simple\"><rect fill=\"#FFFFFF\" height=\"45.9375\" id=\"E5\" rx=\"10\" ry=\"10\" style=\"stroke: #383838; stroke-width: 1.5;\" width=\"42\" x=\"190\" y=\"44.5\"/><text fill=\"#000000\" font-family=\"sans-serif\" font-size=\"12\" font-style=\"italic\" lengthAdjust=\"spacingAndGlyphs\" textLength=\"40\" x=\"191\" y=\"60.6387\">«part»</text><text fill=\"#000000\" font-family=\"sans-serif\" font-size=\"12\" lengthAdjust=\"spacingAndGlyphs\" textLength=\"22\" x=\"200\" y=\"74.6074\">x: A</text><line style=\"stroke: #383838; stroke-width: 1.5;\" x1=\"191\" x2=\"231\" y1=\"82.4375\" y2=\"82.4375\"/></a><!--MD5=[b9389687b975829384b498ac4b7476b2]\n",
       "class E8--><a href=\"psysml:ceec508b-c3a9-4167-8e78-7da3e35ca489\" target=\"_top\" title=\"psysml:ceec508b-c3a9-4167-8e78-7da3e35ca489\" xlink:actuate=\"onRequest\" xlink:href=\"psysml:ceec508b-c3a9-4167-8e78-7da3e35ca489\" xlink:show=\"new\" xlink:title=\"psysml:ceec508b-c3a9-4167-8e78-7da3e35ca489\" xlink:type=\"simple\"><rect fill=\"#FFFFFF\" height=\"45.9375\" id=\"E8\" rx=\"10\" ry=\"10\" style=\"stroke: #383838; stroke-width: 1.5;\" width=\"42\" x=\"107\" y=\"44.5\"/><text fill=\"#000000\" font-family=\"sans-serif\" font-size=\"12\" font-style=\"italic\" lengthAdjust=\"spacingAndGlyphs\" textLength=\"40\" x=\"108\" y=\"60.6387\">«part»</text><text fill=\"#000000\" font-family=\"sans-serif\" font-size=\"12\" lengthAdjust=\"spacingAndGlyphs\" textLength=\"21\" x=\"117.5\" y=\"74.6074\">z: B</text><line style=\"stroke: #383838; stroke-width: 1.5;\" x1=\"108\" x2=\"148\" y1=\"82.4375\" y2=\"82.4375\"/></a><!--MD5=[09b614a08d8cba4a07c9adeb5e0fee81]\n",
       "class E3--><a href=\"psysml:8088eca0-f00f-4a1f-9db3-28df87f45186\" target=\"_top\" title=\"psysml:8088eca0-f00f-4a1f-9db3-28df87f45186\" xlink:actuate=\"onRequest\" xlink:href=\"psysml:8088eca0-f00f-4a1f-9db3-28df87f45186\" xlink:show=\"new\" xlink:title=\"psysml:8088eca0-f00f-4a1f-9db3-28df87f45186\" xlink:type=\"simple\"><rect fill=\"#FFFFFF\" height=\"45.9375\" id=\"E3\" style=\"stroke: #383838; stroke-width: 1.5;\" width=\"66\" x=\"178\" y=\"154\"/><text fill=\"#000000\" font-family=\"sans-serif\" font-size=\"12\" font-style=\"italic\" lengthAdjust=\"spacingAndGlyphs\" textLength=\"64\" x=\"179\" y=\"170.1387\">«part def»</text><text fill=\"#000000\" font-family=\"sans-serif\" font-size=\"12\" lengthAdjust=\"spacingAndGlyphs\" textLength=\"8\" x=\"207\" y=\"184.1074\">A</text><line style=\"stroke: #383838; stroke-width: 1.5;\" x1=\"179\" x2=\"243\" y1=\"191.9375\" y2=\"191.9375\"/></a><a href=\"psysml:f5fce4b6-35f4-4f46-9b6d-d151b55baece\" target=\"_top\" title=\"psysml:f5fce4b6-35f4-4f46-9b6d-d151b55baece\" xlink:actuate=\"onRequest\" xlink:href=\"psysml:f5fce4b6-35f4-4f46-9b6d-d151b55baece\" xlink:show=\"new\" xlink:title=\"psysml:f5fce4b6-35f4-4f46-9b6d-d151b55baece\" xlink:type=\"simple\"><polygon fill=\"#FFFFFF\" points=\"32,41,58,41,65,63.2969,72,63.2969,72,93.5938,32,93.5938,32,41\" style=\"stroke: #000000; stroke-width: 1.5;\"/><line style=\"stroke: #000000; stroke-width: 1.5;\" x1=\"32\" x2=\"65\" y1=\"63.2969\" y2=\"63.2969\"/><text fill=\"#000000\" font-family=\"sans-serif\" font-size=\"14\" font-weight=\"bold\" lengthAdjust=\"spacingAndGlyphs\" textLength=\"20\" x=\"36\" y=\"55.9951\">P2</text></a><!--MD5=[2156ba9850f5573cc1fc38a6a4b2f02b]\n",
       "class E7--><a href=\"psysml:a9488239-9884-4bc6-98b3-04bdbcc46eca\" target=\"_top\" title=\"psysml:a9488239-9884-4bc6-98b3-04bdbcc46eca\" xlink:actuate=\"onRequest\" xlink:href=\"psysml:a9488239-9884-4bc6-98b3-04bdbcc46eca\" xlink:show=\"new\" xlink:title=\"psysml:a9488239-9884-4bc6-98b3-04bdbcc46eca\" xlink:type=\"simple\"><rect fill=\"#FFFFFF\" height=\"45.9375\" id=\"E7\" style=\"stroke: #383838; stroke-width: 1.5;\" width=\"66\" x=\"56\" y=\"154\"/><text fill=\"#000000\" font-family=\"sans-serif\" font-size=\"12\" font-style=\"italic\" lengthAdjust=\"spacingAndGlyphs\" textLength=\"64\" x=\"57\" y=\"170.1387\">«part def»</text><text fill=\"#000000\" font-family=\"sans-serif\" font-size=\"12\" lengthAdjust=\"spacingAndGlyphs\" textLength=\"8\" x=\"85\" y=\"184.1074\">B</text><line style=\"stroke: #383838; stroke-width: 1.5;\" x1=\"57\" x2=\"121\" y1=\"191.9375\" y2=\"191.9375\"/></a><!--MD5=[e9be52314489bd878ff4c7144b63c9e1]\n",
       "link E5 to E3--><a href=\"psysml:25d642ee-de35-43b5-ac2f-29504efb7d68\" target=\"_top\" title=\"psysml:25d642ee-de35-43b5-ac2f-29504efb7d68\" xlink:actuate=\"onRequest\" xlink:href=\"psysml:25d642ee-de35-43b5-ac2f-29504efb7d68\" xlink:show=\"new\" xlink:title=\"psysml:25d642ee-de35-43b5-ac2f-29504efb7d68\" xlink:type=\"simple\"><path d=\"M211,90.72 C211,90.72 211,133.81 211,133.81 \" fill=\"none\" id=\"E5-&gt;E3\" style=\"stroke: #383838; stroke-width: 1.0;\"/><polygon fill=\"#FFFFFF\" points=\"211,153.81,204,134.81,218,134.81,211,153.81\" style=\"stroke: #383838; stroke-width: 1.0;\"/><ellipse cx=\"206\" cy=\"129.11\" fill=\"#383838\" rx=\"2\" ry=\"2\" style=\"stroke: #383838; stroke-width: 1.0;\"/><ellipse cx=\"216\" cy=\"129.11\" fill=\"#383838\" rx=\"2\" ry=\"2\" style=\"stroke: #383838; stroke-width: 1.0;\"/></a><!--MD5=[bfa3c8b0d15052fdf50ae9310b491027]\n",
       "link E8 to E7--><a href=\"psysml:d89216b2-7e18-408a-b614-d8caef1c47ec\" target=\"_top\" title=\"psysml:d89216b2-7e18-408a-b614-d8caef1c47ec\" xlink:actuate=\"onRequest\" xlink:href=\"psysml:d89216b2-7e18-408a-b614-d8caef1c47ec\" xlink:show=\"new\" xlink:title=\"psysml:d89216b2-7e18-408a-b614-d8caef1c47ec\" xlink:type=\"simple\"><path d=\"M114.5,90.72 C114.5,90.72 114.5,133.81 114.5,133.81 \" fill=\"none\" id=\"E8-&gt;E7\" style=\"stroke: #383838; stroke-width: 1.0;\"/><polygon fill=\"#FFFFFF\" points=\"114.5,153.81,107.5,134.81,121.5,134.81,114.5,153.81\" style=\"stroke: #383838; stroke-width: 1.0;\"/><ellipse cx=\"109.5\" cy=\"129.11\" fill=\"#383838\" rx=\"2\" ry=\"2\" style=\"stroke: #383838; stroke-width: 1.0;\"/><ellipse cx=\"119.5\" cy=\"129.11\" fill=\"#383838\" rx=\"2\" ry=\"2\" style=\"stroke: #383838; stroke-width: 1.0;\"/></a><!--MD5=[abe2296095155ac249907c8350080fcf]\n",
       "@startuml\r\n",
       "skinparam linetype ortho\r\n",
       "skinparam monochrome true\r\n",
       "skinparam classbackgroundcolor white\r\n",
       "skinparam shadowing false\r\n",
       "skinparam wrapWidth 300\r\n",
       "hide circle\r\n",
       "\r\n",
       "package \"PrivateImportTest\" as E1  [[psysml:04be3c0a-f069-4f88-9dd0-1488cf078b60 ]]  {\r\n",
       "package \"P1\" as E2  [[psysml:2d8a57d2-00aa-4c24-bcf4-c6f0dba3a85a ]]  {\r\n",
       "comp def \"A\" as E3  <<(T,blue)part def>> [[psysml:8088eca0-f00f-4a1f-9db3-28df87f45186 ]] {\r\n",
       "}\r\n",
       "}\r\n",
       "package \"P2\" as E4  [[psysml:f5fce4b6-35f4-4f46-9b6d-d151b55baece ]]  {\r\n",
       "}\r\n",
       "comp usage \"x: A\" as E5  <<(T,blue)part>> [[psysml:43785f75-2189-42e8-ba89-9f38d7235e69 ]] {\r\n",
       "}\r\n",
       "package \"P3\" as E6  [[psysml:0a65db1a-6ec3-4140-b73e-0c5567d9dbea ]]  {\r\n",
       "comp def \"B\" as E7  <<(T,blue)part def>> [[psysml:a9488239-9884-4bc6-98b3-04bdbcc46eca ]] {\r\n",
       "}\r\n",
       "E5 - -:|> E3 [[psysml:25d642ee-de35-43b5-ac2f-29504efb7d68 ]] \r\n",
       "}\r\n",
       "comp usage \"z: B\" as E8  <<(T,blue)part>> [[psysml:ceec508b-c3a9-4167-8e78-7da3e35ca489 ]] {\r\n",
       "}\r\n",
       "E8 - -:|> E7 [[psysml:d89216b2-7e18-408a-b614-d8caef1c47ec ]] \r\n",
       "}\r\n",
       "@enduml\r\n",
       "\n",
       "PlantUML version 1.2020.13(Sat Jun 13 12:26:38 UTC 2020)\n",
       "(EPL source distribution)\n",
       "Java Runtime: OpenJDK Runtime Environment\n",
       "JVM: OpenJDK 64-Bit Server VM\n",
       "Default Encoding: UTF-8\n",
       "Language: en\n",
       "Country: null\n",
       "--></g></svg>"
      ]
     },
     "execution_count": 56,
     "metadata": {},
     "output_type": "execute_result"
    }
   ],
   "source": [
    "%viz --style=\"ORTHOLINE\" --view=\"Sequence\" \"PrivateImportTest\""
   ]
  },
  {
   "cell_type": "code",
   "execution_count": 57,
   "id": "indie-gasoline",
   "metadata": {
    "execution": {
     "iopub.execute_input": "2021-03-25T14:10:43.330737Z",
     "iopub.status.busy": "2021-03-25T14:10:43.330149Z",
     "iopub.status.idle": "2021-03-25T14:10:43.398467Z",
     "shell.execute_reply": "2021-03-25T14:10:43.397091Z"
    }
   },
   "outputs": [
    {
     "data": {
      "image/svg+xml": [
       "<?xml version=\"1.0\" encoding=\"UTF-8\" standalone=\"no\"?><svg xmlns=\"http://www.w3.org/2000/svg\" xmlns:xlink=\"http://www.w3.org/1999/xlink\" contentScriptType=\"application/ecmascript\" contentStyleType=\"text/css\" height=\"252px\" preserveAspectRatio=\"none\" style=\"width:306px;height:252px;\" version=\"1.1\" viewBox=\"0 0 306 252\" width=\"306px\" zoomAndPan=\"magnify\"><defs/><g><!--MD5=[fbc87193dbaf4d95561dea2c320d4a47]\n",
       "cluster E1--><a href=\"psysml:04be3c0a-f069-4f88-9dd0-1488cf078b60\" target=\"_top\" title=\"psysml:04be3c0a-f069-4f88-9dd0-1488cf078b60\" xlink:actuate=\"onRequest\" xlink:href=\"psysml:04be3c0a-f069-4f88-9dd0-1488cf078b60\" xlink:show=\"new\" xlink:title=\"psysml:04be3c0a-f069-4f88-9dd0-1488cf078b60\" xlink:type=\"simple\"><polygon fill=\"#FFFFFF\" points=\"16,6,163,6,170,28.2969,284,28.2969,284,240,16,240,16,6\" style=\"stroke: #000000; stroke-width: 1.5;\"/><line style=\"stroke: #000000; stroke-width: 1.5;\" x1=\"16\" x2=\"170\" y1=\"28.2969\" y2=\"28.2969\"/><text fill=\"#000000\" font-family=\"sans-serif\" font-size=\"14\" font-weight=\"bold\" lengthAdjust=\"spacingAndGlyphs\" textLength=\"141\" x=\"20\" y=\"20.9951\">PrivateImportTest</text></a><!--MD5=[e4f7fae6ed58524ba242bb0b0d3be6b7]\n",
       "cluster E2--><a href=\"psysml:2d8a57d2-00aa-4c24-bcf4-c6f0dba3a85a\" target=\"_top\" title=\"psysml:2d8a57d2-00aa-4c24-bcf4-c6f0dba3a85a\" xlink:actuate=\"onRequest\" xlink:href=\"psysml:2d8a57d2-00aa-4c24-bcf4-c6f0dba3a85a\" xlink:show=\"new\" xlink:title=\"psysml:2d8a57d2-00aa-4c24-bcf4-c6f0dba3a85a\" xlink:type=\"simple\"><polygon fill=\"#FFFFFF\" points=\"162,119,188,119,195,141.2969,260,141.2969,260,216,162,216,162,119\" style=\"stroke: #000000; stroke-width: 1.5;\"/><line style=\"stroke: #000000; stroke-width: 1.5;\" x1=\"162\" x2=\"195\" y1=\"141.2969\" y2=\"141.2969\"/><text fill=\"#000000\" font-family=\"sans-serif\" font-size=\"14\" font-weight=\"bold\" lengthAdjust=\"spacingAndGlyphs\" textLength=\"20\" x=\"166\" y=\"133.9951\">P1</text></a><!--MD5=[14e3b0961a2654348d326746436168a1]\n",
       "cluster E6--><a href=\"psysml:0a65db1a-6ec3-4140-b73e-0c5567d9dbea\" target=\"_top\" title=\"psysml:0a65db1a-6ec3-4140-b73e-0c5567d9dbea\" xlink:actuate=\"onRequest\" xlink:href=\"psysml:0a65db1a-6ec3-4140-b73e-0c5567d9dbea\" xlink:show=\"new\" xlink:title=\"psysml:0a65db1a-6ec3-4140-b73e-0c5567d9dbea\" xlink:type=\"simple\"><polygon fill=\"#FFFFFF\" points=\"40,119,66,119,73,141.2969,138,141.2969,138,216,40,216,40,119\" style=\"stroke: #000000; stroke-width: 1.5;\"/><line style=\"stroke: #000000; stroke-width: 1.5;\" x1=\"40\" x2=\"73\" y1=\"141.2969\" y2=\"141.2969\"/><text fill=\"#000000\" font-family=\"sans-serif\" font-size=\"14\" font-weight=\"bold\" lengthAdjust=\"spacingAndGlyphs\" textLength=\"20\" x=\"44\" y=\"133.9951\">P3</text></a><!--MD5=[270fce915f116d4de14055a7c1d9a0f3]\n",
       "class E5--><a href=\"psysml:43785f75-2189-42e8-ba89-9f38d7235e69\" target=\"_top\" title=\"psysml:43785f75-2189-42e8-ba89-9f38d7235e69\" xlink:actuate=\"onRequest\" xlink:href=\"psysml:43785f75-2189-42e8-ba89-9f38d7235e69\" xlink:show=\"new\" xlink:title=\"psysml:43785f75-2189-42e8-ba89-9f38d7235e69\" xlink:type=\"simple\"><rect fill=\"#FFFFFF\" height=\"45.9375\" id=\"E5\" rx=\"10\" ry=\"10\" style=\"stroke: #383838; stroke-width: 1.5;\" width=\"42\" x=\"190\" y=\"44.5\"/><text fill=\"#000000\" font-family=\"sans-serif\" font-size=\"12\" font-style=\"italic\" lengthAdjust=\"spacingAndGlyphs\" textLength=\"40\" x=\"191\" y=\"60.6387\">«part»</text><text fill=\"#000000\" font-family=\"sans-serif\" font-size=\"12\" lengthAdjust=\"spacingAndGlyphs\" textLength=\"22\" x=\"200\" y=\"74.6074\">x: A</text><line style=\"stroke: #383838; stroke-width: 1.5;\" x1=\"191\" x2=\"231\" y1=\"82.4375\" y2=\"82.4375\"/></a><!--MD5=[b9389687b975829384b498ac4b7476b2]\n",
       "class E8--><a href=\"psysml:ceec508b-c3a9-4167-8e78-7da3e35ca489\" target=\"_top\" title=\"psysml:ceec508b-c3a9-4167-8e78-7da3e35ca489\" xlink:actuate=\"onRequest\" xlink:href=\"psysml:ceec508b-c3a9-4167-8e78-7da3e35ca489\" xlink:show=\"new\" xlink:title=\"psysml:ceec508b-c3a9-4167-8e78-7da3e35ca489\" xlink:type=\"simple\"><rect fill=\"#FFFFFF\" height=\"45.9375\" id=\"E8\" rx=\"10\" ry=\"10\" style=\"stroke: #383838; stroke-width: 1.5;\" width=\"42\" x=\"107\" y=\"44.5\"/><text fill=\"#000000\" font-family=\"sans-serif\" font-size=\"12\" font-style=\"italic\" lengthAdjust=\"spacingAndGlyphs\" textLength=\"40\" x=\"108\" y=\"60.6387\">«part»</text><text fill=\"#000000\" font-family=\"sans-serif\" font-size=\"12\" lengthAdjust=\"spacingAndGlyphs\" textLength=\"21\" x=\"117.5\" y=\"74.6074\">z: B</text><line style=\"stroke: #383838; stroke-width: 1.5;\" x1=\"108\" x2=\"148\" y1=\"82.4375\" y2=\"82.4375\"/></a><!--MD5=[09b614a08d8cba4a07c9adeb5e0fee81]\n",
       "class E3--><a href=\"psysml:8088eca0-f00f-4a1f-9db3-28df87f45186\" target=\"_top\" title=\"psysml:8088eca0-f00f-4a1f-9db3-28df87f45186\" xlink:actuate=\"onRequest\" xlink:href=\"psysml:8088eca0-f00f-4a1f-9db3-28df87f45186\" xlink:show=\"new\" xlink:title=\"psysml:8088eca0-f00f-4a1f-9db3-28df87f45186\" xlink:type=\"simple\"><rect fill=\"#FFFFFF\" height=\"45.9375\" id=\"E3\" style=\"stroke: #383838; stroke-width: 1.5;\" width=\"66\" x=\"178\" y=\"154\"/><text fill=\"#000000\" font-family=\"sans-serif\" font-size=\"12\" font-style=\"italic\" lengthAdjust=\"spacingAndGlyphs\" textLength=\"64\" x=\"179\" y=\"170.1387\">«part def»</text><text fill=\"#000000\" font-family=\"sans-serif\" font-size=\"12\" lengthAdjust=\"spacingAndGlyphs\" textLength=\"8\" x=\"207\" y=\"184.1074\">A</text><line style=\"stroke: #383838; stroke-width: 1.5;\" x1=\"179\" x2=\"243\" y1=\"191.9375\" y2=\"191.9375\"/></a><a href=\"psysml:f5fce4b6-35f4-4f46-9b6d-d151b55baece\" target=\"_top\" title=\"psysml:f5fce4b6-35f4-4f46-9b6d-d151b55baece\" xlink:actuate=\"onRequest\" xlink:href=\"psysml:f5fce4b6-35f4-4f46-9b6d-d151b55baece\" xlink:show=\"new\" xlink:title=\"psysml:f5fce4b6-35f4-4f46-9b6d-d151b55baece\" xlink:type=\"simple\"><polygon fill=\"#FFFFFF\" points=\"32,41,58,41,65,63.2969,72,63.2969,72,93.5938,32,93.5938,32,41\" style=\"stroke: #000000; stroke-width: 1.5;\"/><line style=\"stroke: #000000; stroke-width: 1.5;\" x1=\"32\" x2=\"65\" y1=\"63.2969\" y2=\"63.2969\"/><text fill=\"#000000\" font-family=\"sans-serif\" font-size=\"14\" font-weight=\"bold\" lengthAdjust=\"spacingAndGlyphs\" textLength=\"20\" x=\"36\" y=\"55.9951\">P2</text></a><!--MD5=[2156ba9850f5573cc1fc38a6a4b2f02b]\n",
       "class E7--><a href=\"psysml:a9488239-9884-4bc6-98b3-04bdbcc46eca\" target=\"_top\" title=\"psysml:a9488239-9884-4bc6-98b3-04bdbcc46eca\" xlink:actuate=\"onRequest\" xlink:href=\"psysml:a9488239-9884-4bc6-98b3-04bdbcc46eca\" xlink:show=\"new\" xlink:title=\"psysml:a9488239-9884-4bc6-98b3-04bdbcc46eca\" xlink:type=\"simple\"><rect fill=\"#FFFFFF\" height=\"45.9375\" id=\"E7\" style=\"stroke: #383838; stroke-width: 1.5;\" width=\"66\" x=\"56\" y=\"154\"/><text fill=\"#000000\" font-family=\"sans-serif\" font-size=\"12\" font-style=\"italic\" lengthAdjust=\"spacingAndGlyphs\" textLength=\"64\" x=\"57\" y=\"170.1387\">«part def»</text><text fill=\"#000000\" font-family=\"sans-serif\" font-size=\"12\" lengthAdjust=\"spacingAndGlyphs\" textLength=\"8\" x=\"85\" y=\"184.1074\">B</text><line style=\"stroke: #383838; stroke-width: 1.5;\" x1=\"57\" x2=\"121\" y1=\"191.9375\" y2=\"191.9375\"/></a><!--MD5=[e9be52314489bd878ff4c7144b63c9e1]\n",
       "link E5 to E3--><a href=\"psysml:25d642ee-de35-43b5-ac2f-29504efb7d68\" target=\"_top\" title=\"psysml:25d642ee-de35-43b5-ac2f-29504efb7d68\" xlink:actuate=\"onRequest\" xlink:href=\"psysml:25d642ee-de35-43b5-ac2f-29504efb7d68\" xlink:show=\"new\" xlink:title=\"psysml:25d642ee-de35-43b5-ac2f-29504efb7d68\" xlink:type=\"simple\"><path d=\"M211,90.72 C211,90.72 211,133.81 211,133.81 \" fill=\"none\" id=\"E5-&gt;E3\" style=\"stroke: #383838; stroke-width: 1.0;\"/><polygon fill=\"#FFFFFF\" points=\"211,153.81,204,134.81,218,134.81,211,153.81\" style=\"stroke: #383838; stroke-width: 1.0;\"/><ellipse cx=\"206\" cy=\"129.11\" fill=\"#383838\" rx=\"2\" ry=\"2\" style=\"stroke: #383838; stroke-width: 1.0;\"/><ellipse cx=\"216\" cy=\"129.11\" fill=\"#383838\" rx=\"2\" ry=\"2\" style=\"stroke: #383838; stroke-width: 1.0;\"/></a><!--MD5=[bfa3c8b0d15052fdf50ae9310b491027]\n",
       "link E8 to E7--><a href=\"psysml:d89216b2-7e18-408a-b614-d8caef1c47ec\" target=\"_top\" title=\"psysml:d89216b2-7e18-408a-b614-d8caef1c47ec\" xlink:actuate=\"onRequest\" xlink:href=\"psysml:d89216b2-7e18-408a-b614-d8caef1c47ec\" xlink:show=\"new\" xlink:title=\"psysml:d89216b2-7e18-408a-b614-d8caef1c47ec\" xlink:type=\"simple\"><path d=\"M114.5,90.72 C114.5,90.72 114.5,133.81 114.5,133.81 \" fill=\"none\" id=\"E8-&gt;E7\" style=\"stroke: #383838; stroke-width: 1.0;\"/><polygon fill=\"#FFFFFF\" points=\"114.5,153.81,107.5,134.81,121.5,134.81,114.5,153.81\" style=\"stroke: #383838; stroke-width: 1.0;\"/><ellipse cx=\"109.5\" cy=\"129.11\" fill=\"#383838\" rx=\"2\" ry=\"2\" style=\"stroke: #383838; stroke-width: 1.0;\"/><ellipse cx=\"119.5\" cy=\"129.11\" fill=\"#383838\" rx=\"2\" ry=\"2\" style=\"stroke: #383838; stroke-width: 1.0;\"/></a><!--MD5=[abe2296095155ac249907c8350080fcf]\n",
       "@startuml\r\n",
       "skinparam linetype ortho\r\n",
       "skinparam monochrome true\r\n",
       "skinparam classbackgroundcolor white\r\n",
       "skinparam shadowing false\r\n",
       "skinparam wrapWidth 300\r\n",
       "hide circle\r\n",
       "\r\n",
       "package \"PrivateImportTest\" as E1  [[psysml:04be3c0a-f069-4f88-9dd0-1488cf078b60 ]]  {\r\n",
       "package \"P1\" as E2  [[psysml:2d8a57d2-00aa-4c24-bcf4-c6f0dba3a85a ]]  {\r\n",
       "comp def \"A\" as E3  <<(T,blue)part def>> [[psysml:8088eca0-f00f-4a1f-9db3-28df87f45186 ]] {\r\n",
       "}\r\n",
       "}\r\n",
       "package \"P2\" as E4  [[psysml:f5fce4b6-35f4-4f46-9b6d-d151b55baece ]]  {\r\n",
       "}\r\n",
       "comp usage \"x: A\" as E5  <<(T,blue)part>> [[psysml:43785f75-2189-42e8-ba89-9f38d7235e69 ]] {\r\n",
       "}\r\n",
       "package \"P3\" as E6  [[psysml:0a65db1a-6ec3-4140-b73e-0c5567d9dbea ]]  {\r\n",
       "comp def \"B\" as E7  <<(T,blue)part def>> [[psysml:a9488239-9884-4bc6-98b3-04bdbcc46eca ]] {\r\n",
       "}\r\n",
       "E5 - -:|> E3 [[psysml:25d642ee-de35-43b5-ac2f-29504efb7d68 ]] \r\n",
       "}\r\n",
       "comp usage \"z: B\" as E8  <<(T,blue)part>> [[psysml:ceec508b-c3a9-4167-8e78-7da3e35ca489 ]] {\r\n",
       "}\r\n",
       "E8 - -:|> E7 [[psysml:d89216b2-7e18-408a-b614-d8caef1c47ec ]] \r\n",
       "}\r\n",
       "@enduml\r\n",
       "\n",
       "PlantUML version 1.2020.13(Sat Jun 13 12:26:38 UTC 2020)\n",
       "(EPL source distribution)\n",
       "Java Runtime: OpenJDK Runtime Environment\n",
       "JVM: OpenJDK 64-Bit Server VM\n",
       "Default Encoding: UTF-8\n",
       "Language: en\n",
       "Country: null\n",
       "--></g></svg>"
      ]
     },
     "execution_count": 57,
     "metadata": {},
     "output_type": "execute_result"
    }
   ],
   "source": [
    "%viz --style=\"ORTHOLINE\" --view=\"MIXED\" \"PrivateImportTest\""
   ]
  }
 ],
 "metadata": {
  "kernelspec": {
   "display_name": "SysML",
   "language": "sysml",
   "name": "sysml"
  },
  "language_info": {
   "codemirror_mode": "sysml",
   "file_extension": ".sysml",
   "mimetype": "text/x-sysml",
   "name": "SysML",
   "pygments_lexer": "java",
   "version": "1.0.0"
  }
 },
 "nbformat": 4,
 "nbformat_minor": 5
}
