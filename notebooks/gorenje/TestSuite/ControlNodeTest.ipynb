{
 "cells": [
  {
   "cell_type": "markdown",
   "id": "radical-boston",
   "metadata": {},
   "source": [
    "# SysML v2 Test Suite\n",
    "\n",
    "This can notebook can be cleared using menu `Edit --> Clear All Outputs` and then all cells can be\n",
    "run using menu `Run --> Run All Cells`.\n",
    "\n",
    "**WARNING**: This file is generated, all modifications here will be ignored.\n"
   ]
  },
  {
   "cell_type": "markdown",
   "id": "integrated-newport",
   "metadata": {},
   "source": [
    "## File: ../../sysml/src/examples/Simple Tests/ControlNodeTest.sysml"
   ]
  },
  {
   "cell_type": "code",
   "execution_count": 1,
   "id": "quantitative-neutral",
   "metadata": {
    "execution": {
     "iopub.execute_input": "2021-03-25T09:28:30.323261Z",
     "iopub.status.busy": "2021-03-25T09:28:30.322375Z",
     "iopub.status.idle": "2021-03-25T09:28:30.595411Z",
     "shell.execute_reply": "2021-03-25T09:28:30.594816Z"
    }
   },
   "outputs": [
    {
     "data": {
      "text/plain": [
       "ActionDefinition ControlNodeTest (601b6106-26e4-4937-8d01-1f8b3bb1c89c)\n"
      ]
     },
     "execution_count": 1,
     "metadata": {},
     "output_type": "execute_result"
    }
   ],
   "source": [
    "action def ControlNodeTest {\n",
    "\taction A1;\n",
    "\tthen J;\n",
    "\t\n",
    "\taction A2;\n",
    "\tthen J;\n",
    "\t\n",
    "\tjoin J;\n",
    "\tthen fork F;\n",
    "\tthen B1;\n",
    "\tthen B2;\n",
    "\t\t\n",
    "\taction B1;\n",
    "\taction B2;\n",
    "}"
   ]
  },
  {
   "cell_type": "code",
   "execution_count": 2,
   "id": "vocational-situation",
   "metadata": {
    "execution": {
     "iopub.execute_input": "2021-03-25T09:28:30.648441Z",
     "iopub.status.busy": "2021-03-25T09:28:30.647983Z",
     "iopub.status.idle": "2021-03-25T09:28:31.421967Z",
     "shell.execute_reply": "2021-03-25T09:28:31.422398Z"
    }
   },
   "outputs": [
    {
     "data": {
      "image/svg+xml": [
       "<?xml version=\"1.0\" encoding=\"UTF-8\" standalone=\"no\"?><svg xmlns=\"http://www.w3.org/2000/svg\" xmlns:xlink=\"http://www.w3.org/1999/xlink\" contentScriptType=\"application/ecmascript\" contentStyleType=\"text/css\" height=\"128px\" preserveAspectRatio=\"none\" style=\"width:625px;height:128px;\" version=\"1.1\" viewBox=\"0 0 625 128\" width=\"625px\" zoomAndPan=\"magnify\"><defs/><g><!--MD5=[fbc87193dbaf4d95561dea2c320d4a47]\n",
       "cluster E1--><a href=\"psysml:d45f0f17-f367-4b4e-a94c-d0cd962b9658\" target=\"_top\" title=\"psysml:d45f0f17-f367-4b4e-a94c-d0cd962b9658\" xlink:actuate=\"onRequest\" xlink:href=\"psysml:d45f0f17-f367-4b4e-a94c-d0cd962b9658\" xlink:show=\"new\" xlink:title=\"psysml:d45f0f17-f367-4b4e-a94c-d0cd962b9658\" xlink:type=\"simple\"><rect fill=\"#FFFFFF\" height=\"110\" id=\"E1\" style=\"stroke: #383838; stroke-width: 1.5;\" width=\"607\" x=\"7\" y=\"7\"/><rect fill=\"#F8F8F8\" height=\"37.9375\" style=\"stroke: #383838; stroke-width: 1.5;\" width=\"607\" x=\"7\" y=\"7\"/><text fill=\"#000000\" font-family=\"sans-serif\" font-size=\"12\" font-style=\"italic\" lengthAdjust=\"spacingAndGlyphs\" textLength=\"77\" x=\"272\" y=\"23.1387\">«action def»</text><text fill=\"#000000\" font-family=\"sans-serif\" font-size=\"12\" lengthAdjust=\"spacingAndGlyphs\" textLength=\"105\" x=\"258\" y=\"37.1074\">ControlNodeTest</text></a><rect fill=\"#000000\" height=\"8\" style=\"stroke: none; stroke-width: 1.0;\" width=\"80\" x=\"518\" y=\"75.5\"/><rect fill=\"#000000\" height=\"8\" style=\"stroke: none; stroke-width: 1.0;\" width=\"80\" x=\"403\" y=\"75.5\"/><g id=\"E1.E2\"><a href=\"psysml:fdc5aa3b-ed80-41e9-a98e-ce8c422e55eb\" target=\"_top\" title=\"psysml:fdc5aa3b-ed80-41e9-a98e-ce8c422e55eb\" xlink:actuate=\"onRequest\" xlink:href=\"psysml:fdc5aa3b-ed80-41e9-a98e-ce8c422e55eb\" xlink:show=\"new\" xlink:title=\"psysml:fdc5aa3b-ed80-41e9-a98e-ce8c422e55eb\" xlink:type=\"simple\"><rect fill=\"#FFFFFF\" height=\"42.9375\" id=\"E2\" rx=\"10\" ry=\"10\" style=\"stroke: #383838; stroke-width: 1.5;\" width=\"60\" x=\"308\" y=\"58\"/><rect fill=\"#F8F8F8\" height=\"37.9375\" rx=\"10\" ry=\"10\" style=\"stroke: #F8F8F8; stroke-width: 1.5;\" width=\"60\" x=\"308\" y=\"58\"/><rect fill=\"#F8F8F8\" height=\"10\" style=\"stroke: #F8F8F8; stroke-width: 1.5;\" width=\"60\" x=\"308\" y=\"85.9375\"/><rect fill=\"none\" height=\"42.9375\" id=\"E2\" rx=\"10\" ry=\"10\" style=\"stroke: #383838; stroke-width: 1.5;\" width=\"60\" x=\"308\" y=\"58\"/><text fill=\"#000000\" font-family=\"sans-serif\" font-size=\"12\" font-style=\"italic\" lengthAdjust=\"spacingAndGlyphs\" textLength=\"53\" x=\"311.5\" y=\"74.1387\">«action»</text><text fill=\"#000000\" font-family=\"sans-serif\" font-size=\"12\" lengthAdjust=\"spacingAndGlyphs\" textLength=\"16\" x=\"330\" y=\"88.1074\">A1</text></a></g><g id=\"E1.E3\"><a href=\"psysml:2c991ffe-75e4-475a-bb83-43f5c2feea80\" target=\"_top\" title=\"psysml:2c991ffe-75e4-475a-bb83-43f5c2feea80\" xlink:actuate=\"onRequest\" xlink:href=\"psysml:2c991ffe-75e4-475a-bb83-43f5c2feea80\" xlink:show=\"new\" xlink:title=\"psysml:2c991ffe-75e4-475a-bb83-43f5c2feea80\" xlink:type=\"simple\"><rect fill=\"#FFFFFF\" height=\"42.9375\" id=\"E3\" rx=\"10\" ry=\"10\" style=\"stroke: #383838; stroke-width: 1.5;\" width=\"60\" x=\"213\" y=\"58\"/><rect fill=\"#F8F8F8\" height=\"37.9375\" rx=\"10\" ry=\"10\" style=\"stroke: #F8F8F8; stroke-width: 1.5;\" width=\"60\" x=\"213\" y=\"58\"/><rect fill=\"#F8F8F8\" height=\"10\" style=\"stroke: #F8F8F8; stroke-width: 1.5;\" width=\"60\" x=\"213\" y=\"85.9375\"/><rect fill=\"none\" height=\"42.9375\" id=\"E3\" rx=\"10\" ry=\"10\" style=\"stroke: #383838; stroke-width: 1.5;\" width=\"60\" x=\"213\" y=\"58\"/><text fill=\"#000000\" font-family=\"sans-serif\" font-size=\"12\" font-style=\"italic\" lengthAdjust=\"spacingAndGlyphs\" textLength=\"53\" x=\"216.5\" y=\"74.1387\">«action»</text><text fill=\"#000000\" font-family=\"sans-serif\" font-size=\"12\" lengthAdjust=\"spacingAndGlyphs\" textLength=\"16\" x=\"235\" y=\"88.1074\">A2</text></a></g><g id=\"E1.E6\"><a href=\"psysml:f26d7e3d-b672-461c-aa14-0bbf3d4e7737\" target=\"_top\" title=\"psysml:f26d7e3d-b672-461c-aa14-0bbf3d4e7737\" xlink:actuate=\"onRequest\" xlink:href=\"psysml:f26d7e3d-b672-461c-aa14-0bbf3d4e7737\" xlink:show=\"new\" xlink:title=\"psysml:f26d7e3d-b672-461c-aa14-0bbf3d4e7737\" xlink:type=\"simple\"><rect fill=\"#FFFFFF\" height=\"42.9375\" id=\"E6\" rx=\"10\" ry=\"10\" style=\"stroke: #383838; stroke-width: 1.5;\" width=\"60\" x=\"118\" y=\"58\"/><rect fill=\"#F8F8F8\" height=\"37.9375\" rx=\"10\" ry=\"10\" style=\"stroke: #F8F8F8; stroke-width: 1.5;\" width=\"60\" x=\"118\" y=\"58\"/><rect fill=\"#F8F8F8\" height=\"10\" style=\"stroke: #F8F8F8; stroke-width: 1.5;\" width=\"60\" x=\"118\" y=\"85.9375\"/><rect fill=\"none\" height=\"42.9375\" id=\"E6\" rx=\"10\" ry=\"10\" style=\"stroke: #383838; stroke-width: 1.5;\" width=\"60\" x=\"118\" y=\"58\"/><text fill=\"#000000\" font-family=\"sans-serif\" font-size=\"12\" font-style=\"italic\" lengthAdjust=\"spacingAndGlyphs\" textLength=\"53\" x=\"121.5\" y=\"74.1387\">«action»</text><text fill=\"#000000\" font-family=\"sans-serif\" font-size=\"12\" lengthAdjust=\"spacingAndGlyphs\" textLength=\"16\" x=\"140\" y=\"88.1074\">B1</text></a></g><g id=\"E1.E7\"><a href=\"psysml:f6cf6959-d08a-437c-8e4b-96dd916f2436\" target=\"_top\" title=\"psysml:f6cf6959-d08a-437c-8e4b-96dd916f2436\" xlink:actuate=\"onRequest\" xlink:href=\"psysml:f6cf6959-d08a-437c-8e4b-96dd916f2436\" xlink:show=\"new\" xlink:title=\"psysml:f6cf6959-d08a-437c-8e4b-96dd916f2436\" xlink:type=\"simple\"><rect fill=\"#FFFFFF\" height=\"42.9375\" id=\"E7\" rx=\"10\" ry=\"10\" style=\"stroke: #383838; stroke-width: 1.5;\" width=\"60\" x=\"23\" y=\"58\"/><rect fill=\"#F8F8F8\" height=\"37.9375\" rx=\"10\" ry=\"10\" style=\"stroke: #F8F8F8; stroke-width: 1.5;\" width=\"60\" x=\"23\" y=\"58\"/><rect fill=\"#F8F8F8\" height=\"10\" style=\"stroke: #F8F8F8; stroke-width: 1.5;\" width=\"60\" x=\"23\" y=\"85.9375\"/><rect fill=\"none\" height=\"42.9375\" id=\"E7\" rx=\"10\" ry=\"10\" style=\"stroke: #383838; stroke-width: 1.5;\" width=\"60\" x=\"23\" y=\"58\"/><text fill=\"#000000\" font-family=\"sans-serif\" font-size=\"12\" font-style=\"italic\" lengthAdjust=\"spacingAndGlyphs\" textLength=\"53\" x=\"26.5\" y=\"74.1387\">«action»</text><text fill=\"#000000\" font-family=\"sans-serif\" font-size=\"12\" lengthAdjust=\"spacingAndGlyphs\" textLength=\"16\" x=\"45\" y=\"88.1074\">B2</text></a></g><!--MD5=[7923e7f03e0222480d553fcba8d222cf]\n",
       "@startuml\r\n",
       " skinparam monochrome true\r\n",
       "skinparam classbackgroundcolor white\r\n",
       "skinparam shadowing false\r\n",
       "skinparam wrapWidth 300\r\n",
       "hide circle\r\n",
       "\r\n",
       "rec def \"ControlNodeTest\" as E1  <<(T,blue)action def>> [[psysml:d45f0f17-f367-4b4e-a94c-d0cd962b9658 ]] {\r\n",
       "rec usage \"A1\" as E2  <<(T,blue)action>> [[psysml:fdc5aa3b-ed80-41e9-a98e-ce8c422e55eb ]] {\r\n",
       "}\r\n",
       "\r\n",
       "rec usage \"A2\" as E3  <<(T,blue)action>> [[psysml:2c991ffe-75e4-475a-bb83-43f5c2feea80 ]] {\r\n",
       "}\r\n",
       "\r\n",
       "join \"J\" as E4  [[psysml:5dc91872-c5b7-4d29-9265-55786a5f23d3 ]] \r\n",
       "fork \"F\" as E5  [[psysml:32073807-3d0f-4273-9610-bcad2a0739d7 ]] \r\n",
       "rec usage \"B1\" as E6  <<(T,blue)action>> [[psysml:f26d7e3d-b672-461c-aa14-0bbf3d4e7737 ]] {\r\n",
       "}\r\n",
       "\r\n",
       "rec usage \"B2\" as E7  <<(T,blue)action>> [[psysml:f6cf6959-d08a-437c-8e4b-96dd916f2436 ]] {\r\n",
       "}\r\n",
       "\r\n",
       "}\r\n",
       "\r\n",
       "@enduml\r\n",
       "\n",
       "PlantUML version 1.2020.13(Sat Jun 13 12:26:38 UTC 2020)\n",
       "(EPL source distribution)\n",
       "Java Runtime: OpenJDK Runtime Environment\n",
       "JVM: OpenJDK 64-Bit Server VM\n",
       "Default Encoding: UTF-8\n",
       "Language: en\n",
       "Country: null\n",
       "--></g></svg>"
      ]
     },
     "execution_count": 2,
     "metadata": {},
     "output_type": "execute_result"
    }
   ],
   "source": [
    "%viz --style=\"COMPTREE\" --view=\"Default\" \"ControlNodeTest\""
   ]
  },
  {
   "cell_type": "code",
   "execution_count": 3,
   "id": "adjustable-supply",
   "metadata": {
    "execution": {
     "iopub.execute_input": "2021-03-25T09:28:31.475064Z",
     "iopub.status.busy": "2021-03-25T09:28:31.474160Z",
     "iopub.status.idle": "2021-03-25T09:28:31.793600Z",
     "shell.execute_reply": "2021-03-25T09:28:31.794169Z"
    }
   },
   "outputs": [
    {
     "data": {
      "image/svg+xml": [
       "<?xml version=\"1.0\" encoding=\"UTF-8\" standalone=\"no\"?><svg xmlns=\"http://www.w3.org/2000/svg\" xmlns:xlink=\"http://www.w3.org/1999/xlink\" contentScriptType=\"application/ecmascript\" contentStyleType=\"text/css\" height=\"191px\" preserveAspectRatio=\"none\" style=\"width:129px;height:191px;\" version=\"1.1\" viewBox=\"0 0 129 191\" width=\"129px\" zoomAndPan=\"magnify\"><defs/><g><!--MD5=[43c9051892ef23e1a46a86907403d788]\n",
       "class E1--><a href=\"psysml:d45f0f17-f367-4b4e-a94c-d0cd962b9658\" target=\"_top\" title=\"psysml:d45f0f17-f367-4b4e-a94c-d0cd962b9658\" xlink:actuate=\"onRequest\" xlink:href=\"psysml:d45f0f17-f367-4b4e-a94c-d0cd962b9658\" xlink:show=\"new\" xlink:title=\"psysml:d45f0f17-f367-4b4e-a94c-d0cd962b9658\" xlink:type=\"simple\"><rect fill=\"#FFFFFF\" height=\"173.1797\" id=\"E1\" style=\"stroke: #383838; stroke-width: 1.5;\" width=\"111\" x=\"7\" y=\"7\"/><text fill=\"#000000\" font-family=\"sans-serif\" font-size=\"12\" font-style=\"italic\" lengthAdjust=\"spacingAndGlyphs\" textLength=\"77\" x=\"24\" y=\"23.1387\">«action def»</text><text fill=\"#000000\" font-family=\"sans-serif\" font-size=\"12\" lengthAdjust=\"spacingAndGlyphs\" textLength=\"105\" x=\"10\" y=\"37.1074\">ControlNodeTest</text><line style=\"stroke: #383838; stroke-width: 1.5;\" x1=\"8\" x2=\"117\" y1=\"44.9375\" y2=\"44.9375\"/><text fill=\"#000000\" font-family=\"sans-serif\" font-size=\"11\" lengthAdjust=\"spacingAndGlyphs\" textLength=\"14\" x=\"13\" y=\"75.9526\">A1</text><text fill=\"#000000\" font-family=\"sans-serif\" font-size=\"11\" lengthAdjust=\"spacingAndGlyphs\" textLength=\"14\" x=\"13\" y=\"88.7573\">A2</text><text fill=\"#000000\" font-family=\"sans-serif\" font-size=\"11\" lengthAdjust=\"spacingAndGlyphs\" textLength=\"15\" x=\"13\" y=\"101.562\">B1</text><text fill=\"#000000\" font-family=\"sans-serif\" font-size=\"11\" lengthAdjust=\"spacingAndGlyphs\" textLength=\"15\" x=\"13\" y=\"114.3667\">B2</text><line style=\"stroke: #383838; stroke-width: 1.0;\" x1=\"8\" x2=\"42\" y1=\"59.3398\" y2=\"59.3398\"/><text fill=\"#000000\" font-family=\"sans-serif\" font-size=\"11\" lengthAdjust=\"spacingAndGlyphs\" textLength=\"41\" x=\"42\" y=\"62.6479\">actions</text><line style=\"stroke: #383838; stroke-width: 1.0;\" x1=\"83\" x2=\"117\" y1=\"59.3398\" y2=\"59.3398\"/><text fill=\"#000000\" font-family=\"sans-serif\" font-size=\"11\" lengthAdjust=\"spacingAndGlyphs\" textLength=\"6\" x=\"13\" y=\"143.9761\">F</text><line style=\"stroke: #383838; stroke-width: 1.0;\" x1=\"8\" x2=\"33.5\" y1=\"127.3633\" y2=\"127.3633\"/><text fill=\"#000000\" font-family=\"sans-serif\" font-size=\"11\" lengthAdjust=\"spacingAndGlyphs\" textLength=\"58\" x=\"33.5\" y=\"130.6714\">forkNodes</text><line style=\"stroke: #383838; stroke-width: 1.0;\" x1=\"91.5\" x2=\"117\" y1=\"127.3633\" y2=\"127.3633\"/><text fill=\"#000000\" font-family=\"sans-serif\" font-size=\"11\" lengthAdjust=\"spacingAndGlyphs\" textLength=\"3\" x=\"13\" y=\"173.5854\">J</text><line style=\"stroke: #383838; stroke-width: 1.0;\" x1=\"8\" x2=\"34.5\" y1=\"156.9727\" y2=\"156.9727\"/><text fill=\"#000000\" font-family=\"sans-serif\" font-size=\"11\" lengthAdjust=\"spacingAndGlyphs\" textLength=\"56\" x=\"34.5\" y=\"160.2808\">joinNodes</text><line style=\"stroke: #383838; stroke-width: 1.0;\" x1=\"90.5\" x2=\"117\" y1=\"156.9727\" y2=\"156.9727\"/></a><!--MD5=[201fa6ab1bbca26a6ebbb4da1180ad6e]\n",
       "@startuml\r\n",
       " skinparam monochrome true\r\n",
       "skinparam classbackgroundcolor white\r\n",
       "skinparam shadowing false\r\n",
       "skinparam wrapWidth 300\r\n",
       "hide circle\r\n",
       "\r\n",
       "comp def \"ControlNodeTest\" as E1  <<(T,blue)action def>> [[psysml:d45f0f17-f367-4b4e-a94c-d0cd962b9658 ]] {\r\n",
       "- - actions - -\r\n",
       "A1\r\n",
       "A2\r\n",
       "B1\r\n",
       "B2\r\n",
       "- - forkNodes - -\r\n",
       "F\r\n",
       "- - joinNodes - -\r\n",
       "J\r\n",
       "}\r\n",
       "@enduml\r\n",
       "\n",
       "PlantUML version 1.2020.13(Sat Jun 13 12:26:38 UTC 2020)\n",
       "(EPL source distribution)\n",
       "Java Runtime: OpenJDK Runtime Environment\n",
       "JVM: OpenJDK 64-Bit Server VM\n",
       "Default Encoding: UTF-8\n",
       "Language: en\n",
       "Country: null\n",
       "--></g></svg>"
      ]
     },
     "execution_count": 3,
     "metadata": {},
     "output_type": "execute_result"
    }
   ],
   "source": [
    "%viz --style=\"COMPTREE\" --view=\"Tree\" \"ControlNodeTest\""
   ]
  },
  {
   "cell_type": "code",
   "execution_count": 4,
   "id": "intense-charge",
   "metadata": {
    "execution": {
     "iopub.execute_input": "2021-03-25T09:28:31.845709Z",
     "iopub.status.busy": "2021-03-25T09:28:31.845187Z",
     "iopub.status.idle": "2021-03-25T09:28:31.855921Z",
     "shell.execute_reply": "2021-03-25T09:28:31.856397Z"
    }
   },
   "outputs": [
    {
     "data": {
      "image/svg+xml": [
       "<?xml version=\"1.0\" encoding=\"UTF-8\" standalone=\"no\"?><svg xmlns=\"http://www.w3.org/2000/svg\" xmlns:xlink=\"http://www.w3.org/1999/xlink\" contentScriptType=\"application/ecmascript\" contentStyleType=\"text/css\" height=\"12px\" preserveAspectRatio=\"none\" style=\"width:12px;height:12px;\" version=\"1.1\" viewBox=\"0 0 12 12\" width=\"12px\" zoomAndPan=\"magnify\"><defs/><g><!--MD5=[f19188ef49e11757b5c46753f95d9edc]\n",
       "@startuml\r\n",
       " skinparam monochrome true\r\n",
       "skinparam classbackgroundcolor white\r\n",
       "skinparam shadowing false\r\n",
       "skinparam wrapWidth 300\r\n",
       "hide circle\r\n",
       "\r\n",
       "@enduml\r\n",
       "\n",
       "PlantUML version 1.2020.13(Sat Jun 13 12:26:38 UTC 2020)\n",
       "(EPL source distribution)\n",
       "Java Runtime: OpenJDK Runtime Environment\n",
       "JVM: OpenJDK 64-Bit Server VM\n",
       "Default Encoding: UTF-8\n",
       "Language: en\n",
       "Country: null\n",
       "--></g></svg>"
      ]
     },
     "execution_count": 4,
     "metadata": {},
     "output_type": "execute_result"
    }
   ],
   "source": [
    "%viz --style=\"COMPTREE\" --view=\"State\" \"ControlNodeTest\""
   ]
  },
  {
   "cell_type": "code",
   "execution_count": 5,
   "id": "retired-think",
   "metadata": {
    "execution": {
     "iopub.execute_input": "2021-03-25T09:28:31.911988Z",
     "iopub.status.busy": "2021-03-25T09:28:31.910712Z",
     "iopub.status.idle": "2021-03-25T09:28:31.956948Z",
     "shell.execute_reply": "2021-03-25T09:28:31.957409Z"
    }
   },
   "outputs": [
    {
     "data": {
      "image/svg+xml": [
       "<?xml version=\"1.0\" encoding=\"UTF-8\" standalone=\"no\"?><svg xmlns=\"http://www.w3.org/2000/svg\" xmlns:xlink=\"http://www.w3.org/1999/xlink\" contentScriptType=\"application/ecmascript\" contentStyleType=\"text/css\" height=\"60px\" preserveAspectRatio=\"none\" style=\"width:134px;height:60px;\" version=\"1.1\" viewBox=\"0 0 134 60\" width=\"134px\" zoomAndPan=\"magnify\"><defs/><g><g id=\"E1\"><a href=\"psysml:d45f0f17-f367-4b4e-a94c-d0cd962b9658\" target=\"_top\" title=\"psysml:d45f0f17-f367-4b4e-a94c-d0cd962b9658\" xlink:actuate=\"onRequest\" xlink:href=\"psysml:d45f0f17-f367-4b4e-a94c-d0cd962b9658\" xlink:show=\"new\" xlink:title=\"psysml:d45f0f17-f367-4b4e-a94c-d0cd962b9658\" xlink:type=\"simple\"><rect fill=\"#FFFFFF\" height=\"42.9375\" id=\"E1\" style=\"stroke: #383838; stroke-width: 1.5;\" width=\"116\" x=\"7\" y=\"7\"/><rect fill=\"#F8F8F8\" height=\"37.9375\" style=\"stroke: #383838; stroke-width: 1.5;\" width=\"116\" x=\"7\" y=\"7\"/><text fill=\"#000000\" font-family=\"sans-serif\" font-size=\"12\" font-style=\"italic\" lengthAdjust=\"spacingAndGlyphs\" textLength=\"77\" x=\"26.5\" y=\"23.1387\">«action def»</text><text fill=\"#000000\" font-family=\"sans-serif\" font-size=\"12\" lengthAdjust=\"spacingAndGlyphs\" textLength=\"105\" x=\"12.5\" y=\"37.1074\">ControlNodeTest</text></a></g><!--MD5=[9441c69cb71011d0d62de1c8ebb0b0d1]\n",
       "@startuml\r\n",
       "skinparam ranksep 8\r\n",
       "skinparam rectangle {\r\n",
       " backgroundColor<<block>> LightGreen\r\n",
       "}\r\n",
       " skinparam monochrome true\r\n",
       "skinparam classbackgroundcolor white\r\n",
       "skinparam shadowing false\r\n",
       "skinparam wrapWidth 300\r\n",
       "hide circle\r\n",
       "\r\n",
       "def \"ControlNodeTest\" as E1  <<(T,blue)action def>> [[psysml:d45f0f17-f367-4b4e-a94c-d0cd962b9658 ]] \r\n",
       "@enduml\r\n",
       "\n",
       "PlantUML version 1.2020.13(Sat Jun 13 12:26:38 UTC 2020)\n",
       "(EPL source distribution)\n",
       "Java Runtime: OpenJDK Runtime Environment\n",
       "JVM: OpenJDK 64-Bit Server VM\n",
       "Default Encoding: UTF-8\n",
       "Language: en\n",
       "Country: null\n",
       "--></g></svg>"
      ]
     },
     "execution_count": 5,
     "metadata": {},
     "output_type": "execute_result"
    }
   ],
   "source": [
    "%viz --style=\"COMPTREE\" --view=\"Interconnection\" \"ControlNodeTest\""
   ]
  },
  {
   "cell_type": "code",
   "execution_count": 6,
   "id": "further-desire",
   "metadata": {
    "execution": {
     "iopub.execute_input": "2021-03-25T09:28:32.010517Z",
     "iopub.status.busy": "2021-03-25T09:28:32.009643Z",
     "iopub.status.idle": "2021-03-25T09:28:32.145931Z",
     "shell.execute_reply": "2021-03-25T09:28:32.146680Z"
    }
   },
   "outputs": [
    {
     "data": {
      "image/svg+xml": [
       "<?xml version=\"1.0\" encoding=\"UTF-8\" standalone=\"no\"?><svg xmlns=\"http://www.w3.org/2000/svg\" xmlns:xlink=\"http://www.w3.org/1999/xlink\" contentScriptType=\"application/ecmascript\" contentStyleType=\"text/css\" height=\"128px\" preserveAspectRatio=\"none\" style=\"width:625px;height:128px;\" version=\"1.1\" viewBox=\"0 0 625 128\" width=\"625px\" zoomAndPan=\"magnify\"><defs/><g><!--MD5=[fbc87193dbaf4d95561dea2c320d4a47]\n",
       "cluster E1--><a href=\"psysml:d45f0f17-f367-4b4e-a94c-d0cd962b9658\" target=\"_top\" title=\"psysml:d45f0f17-f367-4b4e-a94c-d0cd962b9658\" xlink:actuate=\"onRequest\" xlink:href=\"psysml:d45f0f17-f367-4b4e-a94c-d0cd962b9658\" xlink:show=\"new\" xlink:title=\"psysml:d45f0f17-f367-4b4e-a94c-d0cd962b9658\" xlink:type=\"simple\"><rect fill=\"#FFFFFF\" height=\"110\" id=\"E1\" style=\"stroke: #383838; stroke-width: 1.5;\" width=\"607\" x=\"7\" y=\"7\"/><rect fill=\"#F8F8F8\" height=\"37.9375\" style=\"stroke: #383838; stroke-width: 1.5;\" width=\"607\" x=\"7\" y=\"7\"/><text fill=\"#000000\" font-family=\"sans-serif\" font-size=\"12\" font-style=\"italic\" lengthAdjust=\"spacingAndGlyphs\" textLength=\"77\" x=\"272\" y=\"23.1387\">«action def»</text><text fill=\"#000000\" font-family=\"sans-serif\" font-size=\"12\" lengthAdjust=\"spacingAndGlyphs\" textLength=\"105\" x=\"258\" y=\"37.1074\">ControlNodeTest</text></a><rect fill=\"#000000\" height=\"8\" style=\"stroke: none; stroke-width: 1.0;\" width=\"80\" x=\"518\" y=\"75.5\"/><rect fill=\"#000000\" height=\"8\" style=\"stroke: none; stroke-width: 1.0;\" width=\"80\" x=\"403\" y=\"75.5\"/><g id=\"E1.E2\"><a href=\"psysml:fdc5aa3b-ed80-41e9-a98e-ce8c422e55eb\" target=\"_top\" title=\"psysml:fdc5aa3b-ed80-41e9-a98e-ce8c422e55eb\" xlink:actuate=\"onRequest\" xlink:href=\"psysml:fdc5aa3b-ed80-41e9-a98e-ce8c422e55eb\" xlink:show=\"new\" xlink:title=\"psysml:fdc5aa3b-ed80-41e9-a98e-ce8c422e55eb\" xlink:type=\"simple\"><rect fill=\"#FFFFFF\" height=\"42.9375\" id=\"E2\" rx=\"10\" ry=\"10\" style=\"stroke: #383838; stroke-width: 1.5;\" width=\"60\" x=\"308\" y=\"58\"/><rect fill=\"#F8F8F8\" height=\"37.9375\" rx=\"10\" ry=\"10\" style=\"stroke: #F8F8F8; stroke-width: 1.5;\" width=\"60\" x=\"308\" y=\"58\"/><rect fill=\"#F8F8F8\" height=\"10\" style=\"stroke: #F8F8F8; stroke-width: 1.5;\" width=\"60\" x=\"308\" y=\"85.9375\"/><rect fill=\"none\" height=\"42.9375\" id=\"E2\" rx=\"10\" ry=\"10\" style=\"stroke: #383838; stroke-width: 1.5;\" width=\"60\" x=\"308\" y=\"58\"/><text fill=\"#000000\" font-family=\"sans-serif\" font-size=\"12\" font-style=\"italic\" lengthAdjust=\"spacingAndGlyphs\" textLength=\"53\" x=\"311.5\" y=\"74.1387\">«action»</text><text fill=\"#000000\" font-family=\"sans-serif\" font-size=\"12\" lengthAdjust=\"spacingAndGlyphs\" textLength=\"16\" x=\"330\" y=\"88.1074\">A1</text></a></g><g id=\"E1.E3\"><a href=\"psysml:2c991ffe-75e4-475a-bb83-43f5c2feea80\" target=\"_top\" title=\"psysml:2c991ffe-75e4-475a-bb83-43f5c2feea80\" xlink:actuate=\"onRequest\" xlink:href=\"psysml:2c991ffe-75e4-475a-bb83-43f5c2feea80\" xlink:show=\"new\" xlink:title=\"psysml:2c991ffe-75e4-475a-bb83-43f5c2feea80\" xlink:type=\"simple\"><rect fill=\"#FFFFFF\" height=\"42.9375\" id=\"E3\" rx=\"10\" ry=\"10\" style=\"stroke: #383838; stroke-width: 1.5;\" width=\"60\" x=\"213\" y=\"58\"/><rect fill=\"#F8F8F8\" height=\"37.9375\" rx=\"10\" ry=\"10\" style=\"stroke: #F8F8F8; stroke-width: 1.5;\" width=\"60\" x=\"213\" y=\"58\"/><rect fill=\"#F8F8F8\" height=\"10\" style=\"stroke: #F8F8F8; stroke-width: 1.5;\" width=\"60\" x=\"213\" y=\"85.9375\"/><rect fill=\"none\" height=\"42.9375\" id=\"E3\" rx=\"10\" ry=\"10\" style=\"stroke: #383838; stroke-width: 1.5;\" width=\"60\" x=\"213\" y=\"58\"/><text fill=\"#000000\" font-family=\"sans-serif\" font-size=\"12\" font-style=\"italic\" lengthAdjust=\"spacingAndGlyphs\" textLength=\"53\" x=\"216.5\" y=\"74.1387\">«action»</text><text fill=\"#000000\" font-family=\"sans-serif\" font-size=\"12\" lengthAdjust=\"spacingAndGlyphs\" textLength=\"16\" x=\"235\" y=\"88.1074\">A2</text></a></g><g id=\"E1.E6\"><a href=\"psysml:f26d7e3d-b672-461c-aa14-0bbf3d4e7737\" target=\"_top\" title=\"psysml:f26d7e3d-b672-461c-aa14-0bbf3d4e7737\" xlink:actuate=\"onRequest\" xlink:href=\"psysml:f26d7e3d-b672-461c-aa14-0bbf3d4e7737\" xlink:show=\"new\" xlink:title=\"psysml:f26d7e3d-b672-461c-aa14-0bbf3d4e7737\" xlink:type=\"simple\"><rect fill=\"#FFFFFF\" height=\"42.9375\" id=\"E6\" rx=\"10\" ry=\"10\" style=\"stroke: #383838; stroke-width: 1.5;\" width=\"60\" x=\"118\" y=\"58\"/><rect fill=\"#F8F8F8\" height=\"37.9375\" rx=\"10\" ry=\"10\" style=\"stroke: #F8F8F8; stroke-width: 1.5;\" width=\"60\" x=\"118\" y=\"58\"/><rect fill=\"#F8F8F8\" height=\"10\" style=\"stroke: #F8F8F8; stroke-width: 1.5;\" width=\"60\" x=\"118\" y=\"85.9375\"/><rect fill=\"none\" height=\"42.9375\" id=\"E6\" rx=\"10\" ry=\"10\" style=\"stroke: #383838; stroke-width: 1.5;\" width=\"60\" x=\"118\" y=\"58\"/><text fill=\"#000000\" font-family=\"sans-serif\" font-size=\"12\" font-style=\"italic\" lengthAdjust=\"spacingAndGlyphs\" textLength=\"53\" x=\"121.5\" y=\"74.1387\">«action»</text><text fill=\"#000000\" font-family=\"sans-serif\" font-size=\"12\" lengthAdjust=\"spacingAndGlyphs\" textLength=\"16\" x=\"140\" y=\"88.1074\">B1</text></a></g><g id=\"E1.E7\"><a href=\"psysml:f6cf6959-d08a-437c-8e4b-96dd916f2436\" target=\"_top\" title=\"psysml:f6cf6959-d08a-437c-8e4b-96dd916f2436\" xlink:actuate=\"onRequest\" xlink:href=\"psysml:f6cf6959-d08a-437c-8e4b-96dd916f2436\" xlink:show=\"new\" xlink:title=\"psysml:f6cf6959-d08a-437c-8e4b-96dd916f2436\" xlink:type=\"simple\"><rect fill=\"#FFFFFF\" height=\"42.9375\" id=\"E7\" rx=\"10\" ry=\"10\" style=\"stroke: #383838; stroke-width: 1.5;\" width=\"60\" x=\"23\" y=\"58\"/><rect fill=\"#F8F8F8\" height=\"37.9375\" rx=\"10\" ry=\"10\" style=\"stroke: #F8F8F8; stroke-width: 1.5;\" width=\"60\" x=\"23\" y=\"58\"/><rect fill=\"#F8F8F8\" height=\"10\" style=\"stroke: #F8F8F8; stroke-width: 1.5;\" width=\"60\" x=\"23\" y=\"85.9375\"/><rect fill=\"none\" height=\"42.9375\" id=\"E7\" rx=\"10\" ry=\"10\" style=\"stroke: #383838; stroke-width: 1.5;\" width=\"60\" x=\"23\" y=\"58\"/><text fill=\"#000000\" font-family=\"sans-serif\" font-size=\"12\" font-style=\"italic\" lengthAdjust=\"spacingAndGlyphs\" textLength=\"53\" x=\"26.5\" y=\"74.1387\">«action»</text><text fill=\"#000000\" font-family=\"sans-serif\" font-size=\"12\" lengthAdjust=\"spacingAndGlyphs\" textLength=\"16\" x=\"45\" y=\"88.1074\">B2</text></a></g><!--MD5=[b2b780d7ed5b9fb6abc15aa16abb024a]\n",
       "@startuml\r\n",
       "skinparam ranksep 8\r\n",
       " skinparam monochrome true\r\n",
       "skinparam classbackgroundcolor white\r\n",
       "skinparam shadowing false\r\n",
       "skinparam wrapWidth 300\r\n",
       "hide circle\r\n",
       "\r\n",
       "rec def \"ControlNodeTest\" as E1  <<(T,blue)action def>> [[psysml:d45f0f17-f367-4b4e-a94c-d0cd962b9658 ]] {\r\n",
       "rec usage \"A1\" as E2  <<(T,blue)action>> [[psysml:fdc5aa3b-ed80-41e9-a98e-ce8c422e55eb ]] {\r\n",
       "}\r\n",
       "\r\n",
       "rec usage \"A2\" as E3  <<(T,blue)action>> [[psysml:2c991ffe-75e4-475a-bb83-43f5c2feea80 ]] {\r\n",
       "}\r\n",
       "\r\n",
       "join \"J\" as E4  [[psysml:5dc91872-c5b7-4d29-9265-55786a5f23d3 ]] \r\n",
       "fork \"F\" as E5  [[psysml:32073807-3d0f-4273-9610-bcad2a0739d7 ]] \r\n",
       "rec usage \"B1\" as E6  <<(T,blue)action>> [[psysml:f26d7e3d-b672-461c-aa14-0bbf3d4e7737 ]] {\r\n",
       "}\r\n",
       "\r\n",
       "rec usage \"B2\" as E7  <<(T,blue)action>> [[psysml:f6cf6959-d08a-437c-8e4b-96dd916f2436 ]] {\r\n",
       "}\r\n",
       "\r\n",
       "}\r\n",
       "\r\n",
       "@enduml\r\n",
       "\n",
       "PlantUML version 1.2020.13(Sat Jun 13 12:26:38 UTC 2020)\n",
       "(EPL source distribution)\n",
       "Java Runtime: OpenJDK Runtime Environment\n",
       "JVM: OpenJDK 64-Bit Server VM\n",
       "Default Encoding: UTF-8\n",
       "Language: en\n",
       "Country: null\n",
       "--></g></svg>"
      ]
     },
     "execution_count": 6,
     "metadata": {},
     "output_type": "execute_result"
    }
   ],
   "source": [
    "%viz --style=\"COMPTREE\" --view=\"Action\" \"ControlNodeTest\""
   ]
  },
  {
   "cell_type": "code",
   "execution_count": 7,
   "id": "heard-smooth",
   "metadata": {
    "execution": {
     "iopub.execute_input": "2021-03-25T09:28:32.196123Z",
     "iopub.status.busy": "2021-03-25T09:28:32.195604Z",
     "iopub.status.idle": "2021-03-25T09:28:32.458788Z",
     "shell.execute_reply": "2021-03-25T09:28:32.459518Z"
    }
   },
   "outputs": [
    {
     "data": {
      "image/svg+xml": [
       "<?xml version=\"1.0\" encoding=\"UTF-8\" standalone=\"no\"?><svg xmlns=\"http://www.w3.org/2000/svg\" xmlns:xlink=\"http://www.w3.org/1999/xlink\" contentScriptType=\"application/ecmascript\" contentStyleType=\"text/css\" height=\"191px\" preserveAspectRatio=\"none\" style=\"width:129px;height:191px;\" version=\"1.1\" viewBox=\"0 0 129 191\" width=\"129px\" zoomAndPan=\"magnify\"><defs/><g><!--MD5=[43c9051892ef23e1a46a86907403d788]\n",
       "class E1--><a href=\"psysml:d45f0f17-f367-4b4e-a94c-d0cd962b9658\" target=\"_top\" title=\"psysml:d45f0f17-f367-4b4e-a94c-d0cd962b9658\" xlink:actuate=\"onRequest\" xlink:href=\"psysml:d45f0f17-f367-4b4e-a94c-d0cd962b9658\" xlink:show=\"new\" xlink:title=\"psysml:d45f0f17-f367-4b4e-a94c-d0cd962b9658\" xlink:type=\"simple\"><rect fill=\"#FFFFFF\" height=\"173.1797\" id=\"E1\" style=\"stroke: #383838; stroke-width: 1.5;\" width=\"111\" x=\"7\" y=\"7\"/><text fill=\"#000000\" font-family=\"sans-serif\" font-size=\"12\" font-style=\"italic\" lengthAdjust=\"spacingAndGlyphs\" textLength=\"77\" x=\"24\" y=\"23.1387\">«action def»</text><text fill=\"#000000\" font-family=\"sans-serif\" font-size=\"12\" lengthAdjust=\"spacingAndGlyphs\" textLength=\"105\" x=\"10\" y=\"37.1074\">ControlNodeTest</text><line style=\"stroke: #383838; stroke-width: 1.5;\" x1=\"8\" x2=\"117\" y1=\"44.9375\" y2=\"44.9375\"/><text fill=\"#000000\" font-family=\"sans-serif\" font-size=\"11\" lengthAdjust=\"spacingAndGlyphs\" textLength=\"14\" x=\"13\" y=\"75.9526\">A1</text><text fill=\"#000000\" font-family=\"sans-serif\" font-size=\"11\" lengthAdjust=\"spacingAndGlyphs\" textLength=\"14\" x=\"13\" y=\"88.7573\">A2</text><text fill=\"#000000\" font-family=\"sans-serif\" font-size=\"11\" lengthAdjust=\"spacingAndGlyphs\" textLength=\"15\" x=\"13\" y=\"101.562\">B1</text><text fill=\"#000000\" font-family=\"sans-serif\" font-size=\"11\" lengthAdjust=\"spacingAndGlyphs\" textLength=\"15\" x=\"13\" y=\"114.3667\">B2</text><line style=\"stroke: #383838; stroke-width: 1.0;\" x1=\"8\" x2=\"42\" y1=\"59.3398\" y2=\"59.3398\"/><text fill=\"#000000\" font-family=\"sans-serif\" font-size=\"11\" lengthAdjust=\"spacingAndGlyphs\" textLength=\"41\" x=\"42\" y=\"62.6479\">actions</text><line style=\"stroke: #383838; stroke-width: 1.0;\" x1=\"83\" x2=\"117\" y1=\"59.3398\" y2=\"59.3398\"/><text fill=\"#000000\" font-family=\"sans-serif\" font-size=\"11\" lengthAdjust=\"spacingAndGlyphs\" textLength=\"6\" x=\"13\" y=\"143.9761\">F</text><line style=\"stroke: #383838; stroke-width: 1.0;\" x1=\"8\" x2=\"33.5\" y1=\"127.3633\" y2=\"127.3633\"/><text fill=\"#000000\" font-family=\"sans-serif\" font-size=\"11\" lengthAdjust=\"spacingAndGlyphs\" textLength=\"58\" x=\"33.5\" y=\"130.6714\">forkNodes</text><line style=\"stroke: #383838; stroke-width: 1.0;\" x1=\"91.5\" x2=\"117\" y1=\"127.3633\" y2=\"127.3633\"/><text fill=\"#000000\" font-family=\"sans-serif\" font-size=\"11\" lengthAdjust=\"spacingAndGlyphs\" textLength=\"3\" x=\"13\" y=\"173.5854\">J</text><line style=\"stroke: #383838; stroke-width: 1.0;\" x1=\"8\" x2=\"34.5\" y1=\"156.9727\" y2=\"156.9727\"/><text fill=\"#000000\" font-family=\"sans-serif\" font-size=\"11\" lengthAdjust=\"spacingAndGlyphs\" textLength=\"56\" x=\"34.5\" y=\"160.2808\">joinNodes</text><line style=\"stroke: #383838; stroke-width: 1.0;\" x1=\"90.5\" x2=\"117\" y1=\"156.9727\" y2=\"156.9727\"/></a><!--MD5=[201fa6ab1bbca26a6ebbb4da1180ad6e]\n",
       "@startuml\r\n",
       " skinparam monochrome true\r\n",
       "skinparam classbackgroundcolor white\r\n",
       "skinparam shadowing false\r\n",
       "skinparam wrapWidth 300\r\n",
       "hide circle\r\n",
       "\r\n",
       "comp def \"ControlNodeTest\" as E1  <<(T,blue)action def>> [[psysml:d45f0f17-f367-4b4e-a94c-d0cd962b9658 ]] {\r\n",
       "- - actions - -\r\n",
       "A1\r\n",
       "A2\r\n",
       "B1\r\n",
       "B2\r\n",
       "- - forkNodes - -\r\n",
       "F\r\n",
       "- - joinNodes - -\r\n",
       "J\r\n",
       "}\r\n",
       "@enduml\r\n",
       "\n",
       "PlantUML version 1.2020.13(Sat Jun 13 12:26:38 UTC 2020)\n",
       "(EPL source distribution)\n",
       "Java Runtime: OpenJDK Runtime Environment\n",
       "JVM: OpenJDK 64-Bit Server VM\n",
       "Default Encoding: UTF-8\n",
       "Language: en\n",
       "Country: null\n",
       "--></g></svg>"
      ]
     },
     "execution_count": 7,
     "metadata": {},
     "output_type": "execute_result"
    }
   ],
   "source": [
    "%viz --style=\"COMPTREE\" --view=\"Sequence\" \"ControlNodeTest\""
   ]
  },
  {
   "cell_type": "code",
   "execution_count": 8,
   "id": "liquid-pulse",
   "metadata": {
    "execution": {
     "iopub.execute_input": "2021-03-25T09:28:32.512630Z",
     "iopub.status.busy": "2021-03-25T09:28:32.512112Z",
     "iopub.status.idle": "2021-03-25T09:28:32.625355Z",
     "shell.execute_reply": "2021-03-25T09:28:32.625984Z"
    }
   },
   "outputs": [
    {
     "data": {
      "image/svg+xml": [
       "<?xml version=\"1.0\" encoding=\"UTF-8\" standalone=\"no\"?><svg xmlns=\"http://www.w3.org/2000/svg\" xmlns:xlink=\"http://www.w3.org/1999/xlink\" contentScriptType=\"application/ecmascript\" contentStyleType=\"text/css\" height=\"128px\" preserveAspectRatio=\"none\" style=\"width:625px;height:128px;\" version=\"1.1\" viewBox=\"0 0 625 128\" width=\"625px\" zoomAndPan=\"magnify\"><defs/><g><!--MD5=[fbc87193dbaf4d95561dea2c320d4a47]\n",
       "cluster E1--><a href=\"psysml:d45f0f17-f367-4b4e-a94c-d0cd962b9658\" target=\"_top\" title=\"psysml:d45f0f17-f367-4b4e-a94c-d0cd962b9658\" xlink:actuate=\"onRequest\" xlink:href=\"psysml:d45f0f17-f367-4b4e-a94c-d0cd962b9658\" xlink:show=\"new\" xlink:title=\"psysml:d45f0f17-f367-4b4e-a94c-d0cd962b9658\" xlink:type=\"simple\"><rect fill=\"#FFFFFF\" height=\"110\" id=\"E1\" style=\"stroke: #383838; stroke-width: 1.5;\" width=\"607\" x=\"7\" y=\"7\"/><rect fill=\"#F8F8F8\" height=\"37.9375\" style=\"stroke: #383838; stroke-width: 1.5;\" width=\"607\" x=\"7\" y=\"7\"/><text fill=\"#000000\" font-family=\"sans-serif\" font-size=\"12\" font-style=\"italic\" lengthAdjust=\"spacingAndGlyphs\" textLength=\"77\" x=\"272\" y=\"23.1387\">«action def»</text><text fill=\"#000000\" font-family=\"sans-serif\" font-size=\"12\" lengthAdjust=\"spacingAndGlyphs\" textLength=\"105\" x=\"258\" y=\"37.1074\">ControlNodeTest</text></a><rect fill=\"#000000\" height=\"8\" style=\"stroke: none; stroke-width: 1.0;\" width=\"80\" x=\"518\" y=\"75.5\"/><rect fill=\"#000000\" height=\"8\" style=\"stroke: none; stroke-width: 1.0;\" width=\"80\" x=\"403\" y=\"75.5\"/><g id=\"E1.E2\"><a href=\"psysml:fdc5aa3b-ed80-41e9-a98e-ce8c422e55eb\" target=\"_top\" title=\"psysml:fdc5aa3b-ed80-41e9-a98e-ce8c422e55eb\" xlink:actuate=\"onRequest\" xlink:href=\"psysml:fdc5aa3b-ed80-41e9-a98e-ce8c422e55eb\" xlink:show=\"new\" xlink:title=\"psysml:fdc5aa3b-ed80-41e9-a98e-ce8c422e55eb\" xlink:type=\"simple\"><rect fill=\"#FFFFFF\" height=\"42.9375\" id=\"E2\" rx=\"10\" ry=\"10\" style=\"stroke: #383838; stroke-width: 1.5;\" width=\"60\" x=\"308\" y=\"58\"/><rect fill=\"#F8F8F8\" height=\"37.9375\" rx=\"10\" ry=\"10\" style=\"stroke: #F8F8F8; stroke-width: 1.5;\" width=\"60\" x=\"308\" y=\"58\"/><rect fill=\"#F8F8F8\" height=\"10\" style=\"stroke: #F8F8F8; stroke-width: 1.5;\" width=\"60\" x=\"308\" y=\"85.9375\"/><rect fill=\"none\" height=\"42.9375\" id=\"E2\" rx=\"10\" ry=\"10\" style=\"stroke: #383838; stroke-width: 1.5;\" width=\"60\" x=\"308\" y=\"58\"/><text fill=\"#000000\" font-family=\"sans-serif\" font-size=\"12\" font-style=\"italic\" lengthAdjust=\"spacingAndGlyphs\" textLength=\"53\" x=\"311.5\" y=\"74.1387\">«action»</text><text fill=\"#000000\" font-family=\"sans-serif\" font-size=\"12\" lengthAdjust=\"spacingAndGlyphs\" textLength=\"16\" x=\"330\" y=\"88.1074\">A1</text></a></g><g id=\"E1.E3\"><a href=\"psysml:2c991ffe-75e4-475a-bb83-43f5c2feea80\" target=\"_top\" title=\"psysml:2c991ffe-75e4-475a-bb83-43f5c2feea80\" xlink:actuate=\"onRequest\" xlink:href=\"psysml:2c991ffe-75e4-475a-bb83-43f5c2feea80\" xlink:show=\"new\" xlink:title=\"psysml:2c991ffe-75e4-475a-bb83-43f5c2feea80\" xlink:type=\"simple\"><rect fill=\"#FFFFFF\" height=\"42.9375\" id=\"E3\" rx=\"10\" ry=\"10\" style=\"stroke: #383838; stroke-width: 1.5;\" width=\"60\" x=\"213\" y=\"58\"/><rect fill=\"#F8F8F8\" height=\"37.9375\" rx=\"10\" ry=\"10\" style=\"stroke: #F8F8F8; stroke-width: 1.5;\" width=\"60\" x=\"213\" y=\"58\"/><rect fill=\"#F8F8F8\" height=\"10\" style=\"stroke: #F8F8F8; stroke-width: 1.5;\" width=\"60\" x=\"213\" y=\"85.9375\"/><rect fill=\"none\" height=\"42.9375\" id=\"E3\" rx=\"10\" ry=\"10\" style=\"stroke: #383838; stroke-width: 1.5;\" width=\"60\" x=\"213\" y=\"58\"/><text fill=\"#000000\" font-family=\"sans-serif\" font-size=\"12\" font-style=\"italic\" lengthAdjust=\"spacingAndGlyphs\" textLength=\"53\" x=\"216.5\" y=\"74.1387\">«action»</text><text fill=\"#000000\" font-family=\"sans-serif\" font-size=\"12\" lengthAdjust=\"spacingAndGlyphs\" textLength=\"16\" x=\"235\" y=\"88.1074\">A2</text></a></g><g id=\"E1.E6\"><a href=\"psysml:f26d7e3d-b672-461c-aa14-0bbf3d4e7737\" target=\"_top\" title=\"psysml:f26d7e3d-b672-461c-aa14-0bbf3d4e7737\" xlink:actuate=\"onRequest\" xlink:href=\"psysml:f26d7e3d-b672-461c-aa14-0bbf3d4e7737\" xlink:show=\"new\" xlink:title=\"psysml:f26d7e3d-b672-461c-aa14-0bbf3d4e7737\" xlink:type=\"simple\"><rect fill=\"#FFFFFF\" height=\"42.9375\" id=\"E6\" rx=\"10\" ry=\"10\" style=\"stroke: #383838; stroke-width: 1.5;\" width=\"60\" x=\"118\" y=\"58\"/><rect fill=\"#F8F8F8\" height=\"37.9375\" rx=\"10\" ry=\"10\" style=\"stroke: #F8F8F8; stroke-width: 1.5;\" width=\"60\" x=\"118\" y=\"58\"/><rect fill=\"#F8F8F8\" height=\"10\" style=\"stroke: #F8F8F8; stroke-width: 1.5;\" width=\"60\" x=\"118\" y=\"85.9375\"/><rect fill=\"none\" height=\"42.9375\" id=\"E6\" rx=\"10\" ry=\"10\" style=\"stroke: #383838; stroke-width: 1.5;\" width=\"60\" x=\"118\" y=\"58\"/><text fill=\"#000000\" font-family=\"sans-serif\" font-size=\"12\" font-style=\"italic\" lengthAdjust=\"spacingAndGlyphs\" textLength=\"53\" x=\"121.5\" y=\"74.1387\">«action»</text><text fill=\"#000000\" font-family=\"sans-serif\" font-size=\"12\" lengthAdjust=\"spacingAndGlyphs\" textLength=\"16\" x=\"140\" y=\"88.1074\">B1</text></a></g><g id=\"E1.E7\"><a href=\"psysml:f6cf6959-d08a-437c-8e4b-96dd916f2436\" target=\"_top\" title=\"psysml:f6cf6959-d08a-437c-8e4b-96dd916f2436\" xlink:actuate=\"onRequest\" xlink:href=\"psysml:f6cf6959-d08a-437c-8e4b-96dd916f2436\" xlink:show=\"new\" xlink:title=\"psysml:f6cf6959-d08a-437c-8e4b-96dd916f2436\" xlink:type=\"simple\"><rect fill=\"#FFFFFF\" height=\"42.9375\" id=\"E7\" rx=\"10\" ry=\"10\" style=\"stroke: #383838; stroke-width: 1.5;\" width=\"60\" x=\"23\" y=\"58\"/><rect fill=\"#F8F8F8\" height=\"37.9375\" rx=\"10\" ry=\"10\" style=\"stroke: #F8F8F8; stroke-width: 1.5;\" width=\"60\" x=\"23\" y=\"58\"/><rect fill=\"#F8F8F8\" height=\"10\" style=\"stroke: #F8F8F8; stroke-width: 1.5;\" width=\"60\" x=\"23\" y=\"85.9375\"/><rect fill=\"none\" height=\"42.9375\" id=\"E7\" rx=\"10\" ry=\"10\" style=\"stroke: #383838; stroke-width: 1.5;\" width=\"60\" x=\"23\" y=\"58\"/><text fill=\"#000000\" font-family=\"sans-serif\" font-size=\"12\" font-style=\"italic\" lengthAdjust=\"spacingAndGlyphs\" textLength=\"53\" x=\"26.5\" y=\"74.1387\">«action»</text><text fill=\"#000000\" font-family=\"sans-serif\" font-size=\"12\" lengthAdjust=\"spacingAndGlyphs\" textLength=\"16\" x=\"45\" y=\"88.1074\">B2</text></a></g><!--MD5=[7923e7f03e0222480d553fcba8d222cf]\n",
       "@startuml\r\n",
       " skinparam monochrome true\r\n",
       "skinparam classbackgroundcolor white\r\n",
       "skinparam shadowing false\r\n",
       "skinparam wrapWidth 300\r\n",
       "hide circle\r\n",
       "\r\n",
       "rec def \"ControlNodeTest\" as E1  <<(T,blue)action def>> [[psysml:d45f0f17-f367-4b4e-a94c-d0cd962b9658 ]] {\r\n",
       "rec usage \"A1\" as E2  <<(T,blue)action>> [[psysml:fdc5aa3b-ed80-41e9-a98e-ce8c422e55eb ]] {\r\n",
       "}\r\n",
       "\r\n",
       "rec usage \"A2\" as E3  <<(T,blue)action>> [[psysml:2c991ffe-75e4-475a-bb83-43f5c2feea80 ]] {\r\n",
       "}\r\n",
       "\r\n",
       "join \"J\" as E4  [[psysml:5dc91872-c5b7-4d29-9265-55786a5f23d3 ]] \r\n",
       "fork \"F\" as E5  [[psysml:32073807-3d0f-4273-9610-bcad2a0739d7 ]] \r\n",
       "rec usage \"B1\" as E6  <<(T,blue)action>> [[psysml:f26d7e3d-b672-461c-aa14-0bbf3d4e7737 ]] {\r\n",
       "}\r\n",
       "\r\n",
       "rec usage \"B2\" as E7  <<(T,blue)action>> [[psysml:f6cf6959-d08a-437c-8e4b-96dd916f2436 ]] {\r\n",
       "}\r\n",
       "\r\n",
       "}\r\n",
       "\r\n",
       "@enduml\r\n",
       "\n",
       "PlantUML version 1.2020.13(Sat Jun 13 12:26:38 UTC 2020)\n",
       "(EPL source distribution)\n",
       "Java Runtime: OpenJDK Runtime Environment\n",
       "JVM: OpenJDK 64-Bit Server VM\n",
       "Default Encoding: UTF-8\n",
       "Language: en\n",
       "Country: null\n",
       "--></g></svg>"
      ]
     },
     "execution_count": 8,
     "metadata": {},
     "output_type": "execute_result"
    }
   ],
   "source": [
    "%viz --style=\"COMPTREE\" --view=\"MIXED\" \"ControlNodeTest\""
   ]
  },
  {
   "cell_type": "code",
   "execution_count": 9,
   "id": "under-scott",
   "metadata": {
    "execution": {
     "iopub.execute_input": "2021-03-25T09:28:32.676924Z",
     "iopub.status.busy": "2021-03-25T09:28:32.676238Z",
     "iopub.status.idle": "2021-03-25T09:28:32.787690Z",
     "shell.execute_reply": "2021-03-25T09:28:32.788248Z"
    }
   },
   "outputs": [
    {
     "data": {
      "image/svg+xml": [
       "<?xml version=\"1.0\" encoding=\"UTF-8\" standalone=\"no\"?><svg xmlns=\"http://www.w3.org/2000/svg\" xmlns:xlink=\"http://www.w3.org/1999/xlink\" contentScriptType=\"application/ecmascript\" contentStyleType=\"text/css\" height=\"128px\" preserveAspectRatio=\"none\" style=\"width:625px;height:128px;\" version=\"1.1\" viewBox=\"0 0 625 128\" width=\"625px\" zoomAndPan=\"magnify\"><defs/><g><!--MD5=[fbc87193dbaf4d95561dea2c320d4a47]\n",
       "cluster E1--><a href=\"psysml:d45f0f17-f367-4b4e-a94c-d0cd962b9658\" target=\"_top\" title=\"psysml:d45f0f17-f367-4b4e-a94c-d0cd962b9658\" xlink:actuate=\"onRequest\" xlink:href=\"psysml:d45f0f17-f367-4b4e-a94c-d0cd962b9658\" xlink:show=\"new\" xlink:title=\"psysml:d45f0f17-f367-4b4e-a94c-d0cd962b9658\" xlink:type=\"simple\"><rect fill=\"#FFFFFF\" height=\"110\" id=\"E1\" style=\"stroke: #383838; stroke-width: 1.5;\" width=\"607\" x=\"7\" y=\"7\"/><rect fill=\"#F8F8F8\" height=\"37.9375\" style=\"stroke: #383838; stroke-width: 1.5;\" width=\"607\" x=\"7\" y=\"7\"/><text fill=\"#000000\" font-family=\"sans-serif\" font-size=\"12\" font-style=\"italic\" lengthAdjust=\"spacingAndGlyphs\" textLength=\"77\" x=\"272\" y=\"23.1387\">«action def»</text><text fill=\"#000000\" font-family=\"sans-serif\" font-size=\"12\" lengthAdjust=\"spacingAndGlyphs\" textLength=\"105\" x=\"258\" y=\"37.1074\">ControlNodeTest</text></a><rect fill=\"#000000\" height=\"8\" style=\"stroke: none; stroke-width: 1.0;\" width=\"80\" x=\"518\" y=\"75.5\"/><rect fill=\"#000000\" height=\"8\" style=\"stroke: none; stroke-width: 1.0;\" width=\"80\" x=\"403\" y=\"75.5\"/><g id=\"E1.E2\"><a href=\"psysml:fdc5aa3b-ed80-41e9-a98e-ce8c422e55eb\" target=\"_top\" title=\"psysml:fdc5aa3b-ed80-41e9-a98e-ce8c422e55eb\" xlink:actuate=\"onRequest\" xlink:href=\"psysml:fdc5aa3b-ed80-41e9-a98e-ce8c422e55eb\" xlink:show=\"new\" xlink:title=\"psysml:fdc5aa3b-ed80-41e9-a98e-ce8c422e55eb\" xlink:type=\"simple\"><rect fill=\"#FFFFFF\" height=\"42.9375\" id=\"E2\" rx=\"10\" ry=\"10\" style=\"stroke: #383838; stroke-width: 1.5;\" width=\"60\" x=\"308\" y=\"58\"/><rect fill=\"#F8F8F8\" height=\"37.9375\" rx=\"10\" ry=\"10\" style=\"stroke: #F8F8F8; stroke-width: 1.5;\" width=\"60\" x=\"308\" y=\"58\"/><rect fill=\"#F8F8F8\" height=\"10\" style=\"stroke: #F8F8F8; stroke-width: 1.5;\" width=\"60\" x=\"308\" y=\"85.9375\"/><rect fill=\"none\" height=\"42.9375\" id=\"E2\" rx=\"10\" ry=\"10\" style=\"stroke: #383838; stroke-width: 1.5;\" width=\"60\" x=\"308\" y=\"58\"/><text fill=\"#000000\" font-family=\"sans-serif\" font-size=\"12\" font-style=\"italic\" lengthAdjust=\"spacingAndGlyphs\" textLength=\"53\" x=\"311.5\" y=\"74.1387\">«action»</text><text fill=\"#000000\" font-family=\"sans-serif\" font-size=\"12\" lengthAdjust=\"spacingAndGlyphs\" textLength=\"16\" x=\"330\" y=\"88.1074\">A1</text></a></g><g id=\"E1.E3\"><a href=\"psysml:2c991ffe-75e4-475a-bb83-43f5c2feea80\" target=\"_top\" title=\"psysml:2c991ffe-75e4-475a-bb83-43f5c2feea80\" xlink:actuate=\"onRequest\" xlink:href=\"psysml:2c991ffe-75e4-475a-bb83-43f5c2feea80\" xlink:show=\"new\" xlink:title=\"psysml:2c991ffe-75e4-475a-bb83-43f5c2feea80\" xlink:type=\"simple\"><rect fill=\"#FFFFFF\" height=\"42.9375\" id=\"E3\" rx=\"10\" ry=\"10\" style=\"stroke: #383838; stroke-width: 1.5;\" width=\"60\" x=\"213\" y=\"58\"/><rect fill=\"#F8F8F8\" height=\"37.9375\" rx=\"10\" ry=\"10\" style=\"stroke: #F8F8F8; stroke-width: 1.5;\" width=\"60\" x=\"213\" y=\"58\"/><rect fill=\"#F8F8F8\" height=\"10\" style=\"stroke: #F8F8F8; stroke-width: 1.5;\" width=\"60\" x=\"213\" y=\"85.9375\"/><rect fill=\"none\" height=\"42.9375\" id=\"E3\" rx=\"10\" ry=\"10\" style=\"stroke: #383838; stroke-width: 1.5;\" width=\"60\" x=\"213\" y=\"58\"/><text fill=\"#000000\" font-family=\"sans-serif\" font-size=\"12\" font-style=\"italic\" lengthAdjust=\"spacingAndGlyphs\" textLength=\"53\" x=\"216.5\" y=\"74.1387\">«action»</text><text fill=\"#000000\" font-family=\"sans-serif\" font-size=\"12\" lengthAdjust=\"spacingAndGlyphs\" textLength=\"16\" x=\"235\" y=\"88.1074\">A2</text></a></g><g id=\"E1.E6\"><a href=\"psysml:f26d7e3d-b672-461c-aa14-0bbf3d4e7737\" target=\"_top\" title=\"psysml:f26d7e3d-b672-461c-aa14-0bbf3d4e7737\" xlink:actuate=\"onRequest\" xlink:href=\"psysml:f26d7e3d-b672-461c-aa14-0bbf3d4e7737\" xlink:show=\"new\" xlink:title=\"psysml:f26d7e3d-b672-461c-aa14-0bbf3d4e7737\" xlink:type=\"simple\"><rect fill=\"#FFFFFF\" height=\"42.9375\" id=\"E6\" rx=\"10\" ry=\"10\" style=\"stroke: #383838; stroke-width: 1.5;\" width=\"60\" x=\"118\" y=\"58\"/><rect fill=\"#F8F8F8\" height=\"37.9375\" rx=\"10\" ry=\"10\" style=\"stroke: #F8F8F8; stroke-width: 1.5;\" width=\"60\" x=\"118\" y=\"58\"/><rect fill=\"#F8F8F8\" height=\"10\" style=\"stroke: #F8F8F8; stroke-width: 1.5;\" width=\"60\" x=\"118\" y=\"85.9375\"/><rect fill=\"none\" height=\"42.9375\" id=\"E6\" rx=\"10\" ry=\"10\" style=\"stroke: #383838; stroke-width: 1.5;\" width=\"60\" x=\"118\" y=\"58\"/><text fill=\"#000000\" font-family=\"sans-serif\" font-size=\"12\" font-style=\"italic\" lengthAdjust=\"spacingAndGlyphs\" textLength=\"53\" x=\"121.5\" y=\"74.1387\">«action»</text><text fill=\"#000000\" font-family=\"sans-serif\" font-size=\"12\" lengthAdjust=\"spacingAndGlyphs\" textLength=\"16\" x=\"140\" y=\"88.1074\">B1</text></a></g><g id=\"E1.E7\"><a href=\"psysml:f6cf6959-d08a-437c-8e4b-96dd916f2436\" target=\"_top\" title=\"psysml:f6cf6959-d08a-437c-8e4b-96dd916f2436\" xlink:actuate=\"onRequest\" xlink:href=\"psysml:f6cf6959-d08a-437c-8e4b-96dd916f2436\" xlink:show=\"new\" xlink:title=\"psysml:f6cf6959-d08a-437c-8e4b-96dd916f2436\" xlink:type=\"simple\"><rect fill=\"#FFFFFF\" height=\"42.9375\" id=\"E7\" rx=\"10\" ry=\"10\" style=\"stroke: #383838; stroke-width: 1.5;\" width=\"60\" x=\"23\" y=\"58\"/><rect fill=\"#F8F8F8\" height=\"37.9375\" rx=\"10\" ry=\"10\" style=\"stroke: #F8F8F8; stroke-width: 1.5;\" width=\"60\" x=\"23\" y=\"58\"/><rect fill=\"#F8F8F8\" height=\"10\" style=\"stroke: #F8F8F8; stroke-width: 1.5;\" width=\"60\" x=\"23\" y=\"85.9375\"/><rect fill=\"none\" height=\"42.9375\" id=\"E7\" rx=\"10\" ry=\"10\" style=\"stroke: #383838; stroke-width: 1.5;\" width=\"60\" x=\"23\" y=\"58\"/><text fill=\"#000000\" font-family=\"sans-serif\" font-size=\"12\" font-style=\"italic\" lengthAdjust=\"spacingAndGlyphs\" textLength=\"53\" x=\"26.5\" y=\"74.1387\">«action»</text><text fill=\"#000000\" font-family=\"sans-serif\" font-size=\"12\" lengthAdjust=\"spacingAndGlyphs\" textLength=\"16\" x=\"45\" y=\"88.1074\">B2</text></a></g><!--MD5=[3b019dcea29e1c3cfe72394e0ed2f730]\n",
       "@startuml\r\n",
       "skinparam linetype polyline\r\n",
       "skinparam monochrome true\r\n",
       "skinparam classbackgroundcolor white\r\n",
       "skinparam shadowing false\r\n",
       "skinparam wrapWidth 300\r\n",
       "hide circle\r\n",
       "\r\n",
       "rec def \"ControlNodeTest\" as E1  <<(T,blue)action def>> [[psysml:d45f0f17-f367-4b4e-a94c-d0cd962b9658 ]] {\r\n",
       "rec usage \"A1\" as E2  <<(T,blue)action>> [[psysml:fdc5aa3b-ed80-41e9-a98e-ce8c422e55eb ]] {\r\n",
       "}\r\n",
       "\r\n",
       "rec usage \"A2\" as E3  <<(T,blue)action>> [[psysml:2c991ffe-75e4-475a-bb83-43f5c2feea80 ]] {\r\n",
       "}\r\n",
       "\r\n",
       "join \"J\" as E4  [[psysml:5dc91872-c5b7-4d29-9265-55786a5f23d3 ]] \r\n",
       "fork \"F\" as E5  [[psysml:32073807-3d0f-4273-9610-bcad2a0739d7 ]] \r\n",
       "rec usage \"B1\" as E6  <<(T,blue)action>> [[psysml:f26d7e3d-b672-461c-aa14-0bbf3d4e7737 ]] {\r\n",
       "}\r\n",
       "\r\n",
       "rec usage \"B2\" as E7  <<(T,blue)action>> [[psysml:f6cf6959-d08a-437c-8e4b-96dd916f2436 ]] {\r\n",
       "}\r\n",
       "\r\n",
       "}\r\n",
       "\r\n",
       "@enduml\r\n",
       "\n",
       "PlantUML version 1.2020.13(Sat Jun 13 12:26:38 UTC 2020)\n",
       "(EPL source distribution)\n",
       "Java Runtime: OpenJDK Runtime Environment\n",
       "JVM: OpenJDK 64-Bit Server VM\n",
       "Default Encoding: UTF-8\n",
       "Language: en\n",
       "Country: null\n",
       "--></g></svg>"
      ]
     },
     "execution_count": 9,
     "metadata": {},
     "output_type": "execute_result"
    }
   ],
   "source": [
    "%viz --style=\"POLYLINE\" --view=\"Default\" \"ControlNodeTest\""
   ]
  },
  {
   "cell_type": "code",
   "execution_count": 10,
   "id": "fundamental-smile",
   "metadata": {
    "execution": {
     "iopub.execute_input": "2021-03-25T09:28:32.840160Z",
     "iopub.status.busy": "2021-03-25T09:28:32.839437Z",
     "iopub.status.idle": "2021-03-25T09:28:33.086768Z",
     "shell.execute_reply": "2021-03-25T09:28:33.087149Z"
    }
   },
   "outputs": [
    {
     "data": {
      "image/svg+xml": [
       "<?xml version=\"1.0\" encoding=\"UTF-8\" standalone=\"no\"?><svg xmlns=\"http://www.w3.org/2000/svg\" xmlns:xlink=\"http://www.w3.org/1999/xlink\" contentScriptType=\"application/ecmascript\" contentStyleType=\"text/css\" height=\"191px\" preserveAspectRatio=\"none\" style=\"width:129px;height:191px;\" version=\"1.1\" viewBox=\"0 0 129 191\" width=\"129px\" zoomAndPan=\"magnify\"><defs/><g><!--MD5=[43c9051892ef23e1a46a86907403d788]\n",
       "class E1--><a href=\"psysml:d45f0f17-f367-4b4e-a94c-d0cd962b9658\" target=\"_top\" title=\"psysml:d45f0f17-f367-4b4e-a94c-d0cd962b9658\" xlink:actuate=\"onRequest\" xlink:href=\"psysml:d45f0f17-f367-4b4e-a94c-d0cd962b9658\" xlink:show=\"new\" xlink:title=\"psysml:d45f0f17-f367-4b4e-a94c-d0cd962b9658\" xlink:type=\"simple\"><rect fill=\"#FFFFFF\" height=\"173.1797\" id=\"E1\" style=\"stroke: #383838; stroke-width: 1.5;\" width=\"111\" x=\"7\" y=\"7\"/><text fill=\"#000000\" font-family=\"sans-serif\" font-size=\"12\" font-style=\"italic\" lengthAdjust=\"spacingAndGlyphs\" textLength=\"77\" x=\"24\" y=\"23.1387\">«action def»</text><text fill=\"#000000\" font-family=\"sans-serif\" font-size=\"12\" lengthAdjust=\"spacingAndGlyphs\" textLength=\"105\" x=\"10\" y=\"37.1074\">ControlNodeTest</text><line style=\"stroke: #383838; stroke-width: 1.5;\" x1=\"8\" x2=\"117\" y1=\"44.9375\" y2=\"44.9375\"/><text fill=\"#000000\" font-family=\"sans-serif\" font-size=\"11\" lengthAdjust=\"spacingAndGlyphs\" textLength=\"14\" x=\"13\" y=\"75.9526\">A1</text><text fill=\"#000000\" font-family=\"sans-serif\" font-size=\"11\" lengthAdjust=\"spacingAndGlyphs\" textLength=\"14\" x=\"13\" y=\"88.7573\">A2</text><text fill=\"#000000\" font-family=\"sans-serif\" font-size=\"11\" lengthAdjust=\"spacingAndGlyphs\" textLength=\"15\" x=\"13\" y=\"101.562\">B1</text><text fill=\"#000000\" font-family=\"sans-serif\" font-size=\"11\" lengthAdjust=\"spacingAndGlyphs\" textLength=\"15\" x=\"13\" y=\"114.3667\">B2</text><line style=\"stroke: #383838; stroke-width: 1.0;\" x1=\"8\" x2=\"42\" y1=\"59.3398\" y2=\"59.3398\"/><text fill=\"#000000\" font-family=\"sans-serif\" font-size=\"11\" lengthAdjust=\"spacingAndGlyphs\" textLength=\"41\" x=\"42\" y=\"62.6479\">actions</text><line style=\"stroke: #383838; stroke-width: 1.0;\" x1=\"83\" x2=\"117\" y1=\"59.3398\" y2=\"59.3398\"/><text fill=\"#000000\" font-family=\"sans-serif\" font-size=\"11\" lengthAdjust=\"spacingAndGlyphs\" textLength=\"6\" x=\"13\" y=\"143.9761\">F</text><line style=\"stroke: #383838; stroke-width: 1.0;\" x1=\"8\" x2=\"33.5\" y1=\"127.3633\" y2=\"127.3633\"/><text fill=\"#000000\" font-family=\"sans-serif\" font-size=\"11\" lengthAdjust=\"spacingAndGlyphs\" textLength=\"58\" x=\"33.5\" y=\"130.6714\">forkNodes</text><line style=\"stroke: #383838; stroke-width: 1.0;\" x1=\"91.5\" x2=\"117\" y1=\"127.3633\" y2=\"127.3633\"/><text fill=\"#000000\" font-family=\"sans-serif\" font-size=\"11\" lengthAdjust=\"spacingAndGlyphs\" textLength=\"3\" x=\"13\" y=\"173.5854\">J</text><line style=\"stroke: #383838; stroke-width: 1.0;\" x1=\"8\" x2=\"34.5\" y1=\"156.9727\" y2=\"156.9727\"/><text fill=\"#000000\" font-family=\"sans-serif\" font-size=\"11\" lengthAdjust=\"spacingAndGlyphs\" textLength=\"56\" x=\"34.5\" y=\"160.2808\">joinNodes</text><line style=\"stroke: #383838; stroke-width: 1.0;\" x1=\"90.5\" x2=\"117\" y1=\"156.9727\" y2=\"156.9727\"/></a><!--MD5=[d8520ec9030e54d89cc2f3aad4f567a3]\n",
       "@startuml\r\n",
       "skinparam linetype polyline\r\n",
       "skinparam monochrome true\r\n",
       "skinparam classbackgroundcolor white\r\n",
       "skinparam shadowing false\r\n",
       "skinparam wrapWidth 300\r\n",
       "hide circle\r\n",
       "\r\n",
       "comp def \"ControlNodeTest\" as E1  <<(T,blue)action def>> [[psysml:d45f0f17-f367-4b4e-a94c-d0cd962b9658 ]] {\r\n",
       "- - actions - -\r\n",
       "A1\r\n",
       "A2\r\n",
       "B1\r\n",
       "B2\r\n",
       "- - forkNodes - -\r\n",
       "F\r\n",
       "- - joinNodes - -\r\n",
       "J\r\n",
       "}\r\n",
       "@enduml\r\n",
       "\n",
       "PlantUML version 1.2020.13(Sat Jun 13 12:26:38 UTC 2020)\n",
       "(EPL source distribution)\n",
       "Java Runtime: OpenJDK Runtime Environment\n",
       "JVM: OpenJDK 64-Bit Server VM\n",
       "Default Encoding: UTF-8\n",
       "Language: en\n",
       "Country: null\n",
       "--></g></svg>"
      ]
     },
     "execution_count": 10,
     "metadata": {},
     "output_type": "execute_result"
    }
   ],
   "source": [
    "%viz --style=\"POLYLINE\" --view=\"Tree\" \"ControlNodeTest\""
   ]
  },
  {
   "cell_type": "code",
   "execution_count": 11,
   "id": "chinese-waste",
   "metadata": {
    "execution": {
     "iopub.execute_input": "2021-03-25T09:28:33.140672Z",
     "iopub.status.busy": "2021-03-25T09:28:33.140132Z",
     "iopub.status.idle": "2021-03-25T09:28:33.149584Z",
     "shell.execute_reply": "2021-03-25T09:28:33.149247Z"
    }
   },
   "outputs": [
    {
     "data": {
      "image/svg+xml": [
       "<?xml version=\"1.0\" encoding=\"UTF-8\" standalone=\"no\"?><svg xmlns=\"http://www.w3.org/2000/svg\" xmlns:xlink=\"http://www.w3.org/1999/xlink\" contentScriptType=\"application/ecmascript\" contentStyleType=\"text/css\" height=\"12px\" preserveAspectRatio=\"none\" style=\"width:12px;height:12px;\" version=\"1.1\" viewBox=\"0 0 12 12\" width=\"12px\" zoomAndPan=\"magnify\"><defs/><g><!--MD5=[896ac0e7a515d8dd7765a661cb4ee08b]\n",
       "@startuml\r\n",
       "skinparam linetype polyline\r\n",
       "skinparam monochrome true\r\n",
       "skinparam classbackgroundcolor white\r\n",
       "skinparam shadowing false\r\n",
       "skinparam wrapWidth 300\r\n",
       "hide circle\r\n",
       "\r\n",
       "@enduml\r\n",
       "\n",
       "PlantUML version 1.2020.13(Sat Jun 13 12:26:38 UTC 2020)\n",
       "(EPL source distribution)\n",
       "Java Runtime: OpenJDK Runtime Environment\n",
       "JVM: OpenJDK 64-Bit Server VM\n",
       "Default Encoding: UTF-8\n",
       "Language: en\n",
       "Country: null\n",
       "--></g></svg>"
      ]
     },
     "execution_count": 11,
     "metadata": {},
     "output_type": "execute_result"
    }
   ],
   "source": [
    "%viz --style=\"POLYLINE\" --view=\"State\" \"ControlNodeTest\""
   ]
  },
  {
   "cell_type": "code",
   "execution_count": 12,
   "id": "provincial-independence",
   "metadata": {
    "execution": {
     "iopub.execute_input": "2021-03-25T09:28:33.203870Z",
     "iopub.status.busy": "2021-03-25T09:28:33.203171Z",
     "iopub.status.idle": "2021-03-25T09:28:33.234279Z",
     "shell.execute_reply": "2021-03-25T09:28:33.234756Z"
    }
   },
   "outputs": [
    {
     "data": {
      "image/svg+xml": [
       "<?xml version=\"1.0\" encoding=\"UTF-8\" standalone=\"no\"?><svg xmlns=\"http://www.w3.org/2000/svg\" xmlns:xlink=\"http://www.w3.org/1999/xlink\" contentScriptType=\"application/ecmascript\" contentStyleType=\"text/css\" height=\"60px\" preserveAspectRatio=\"none\" style=\"width:134px;height:60px;\" version=\"1.1\" viewBox=\"0 0 134 60\" width=\"134px\" zoomAndPan=\"magnify\"><defs/><g><g id=\"E1\"><a href=\"psysml:d45f0f17-f367-4b4e-a94c-d0cd962b9658\" target=\"_top\" title=\"psysml:d45f0f17-f367-4b4e-a94c-d0cd962b9658\" xlink:actuate=\"onRequest\" xlink:href=\"psysml:d45f0f17-f367-4b4e-a94c-d0cd962b9658\" xlink:show=\"new\" xlink:title=\"psysml:d45f0f17-f367-4b4e-a94c-d0cd962b9658\" xlink:type=\"simple\"><rect fill=\"#FFFFFF\" height=\"42.9375\" id=\"E1\" style=\"stroke: #383838; stroke-width: 1.5;\" width=\"116\" x=\"7\" y=\"7\"/><rect fill=\"#F8F8F8\" height=\"37.9375\" style=\"stroke: #383838; stroke-width: 1.5;\" width=\"116\" x=\"7\" y=\"7\"/><text fill=\"#000000\" font-family=\"sans-serif\" font-size=\"12\" font-style=\"italic\" lengthAdjust=\"spacingAndGlyphs\" textLength=\"77\" x=\"26.5\" y=\"23.1387\">«action def»</text><text fill=\"#000000\" font-family=\"sans-serif\" font-size=\"12\" lengthAdjust=\"spacingAndGlyphs\" textLength=\"105\" x=\"12.5\" y=\"37.1074\">ControlNodeTest</text></a></g><!--MD5=[2dcd47a27e8ff77143641d4e2428e2ca]\n",
       "@startuml\r\n",
       "skinparam ranksep 8\r\n",
       "skinparam rectangle {\r\n",
       " backgroundColor<<block>> LightGreen\r\n",
       "}\r\n",
       "skinparam linetype polyline\r\n",
       "skinparam monochrome true\r\n",
       "skinparam classbackgroundcolor white\r\n",
       "skinparam shadowing false\r\n",
       "skinparam wrapWidth 300\r\n",
       "hide circle\r\n",
       "\r\n",
       "def \"ControlNodeTest\" as E1  <<(T,blue)action def>> [[psysml:d45f0f17-f367-4b4e-a94c-d0cd962b9658 ]] \r\n",
       "@enduml\r\n",
       "\n",
       "PlantUML version 1.2020.13(Sat Jun 13 12:26:38 UTC 2020)\n",
       "(EPL source distribution)\n",
       "Java Runtime: OpenJDK Runtime Environment\n",
       "JVM: OpenJDK 64-Bit Server VM\n",
       "Default Encoding: UTF-8\n",
       "Language: en\n",
       "Country: null\n",
       "--></g></svg>"
      ]
     },
     "execution_count": 12,
     "metadata": {},
     "output_type": "execute_result"
    }
   ],
   "source": [
    "%viz --style=\"POLYLINE\" --view=\"Interconnection\" \"ControlNodeTest\""
   ]
  },
  {
   "cell_type": "code",
   "execution_count": 13,
   "id": "cardiac-textbook",
   "metadata": {
    "execution": {
     "iopub.execute_input": "2021-03-25T09:28:33.287608Z",
     "iopub.status.busy": "2021-03-25T09:28:33.287065Z",
     "iopub.status.idle": "2021-03-25T09:28:33.391358Z",
     "shell.execute_reply": "2021-03-25T09:28:33.389983Z"
    }
   },
   "outputs": [
    {
     "data": {
      "image/svg+xml": [
       "<?xml version=\"1.0\" encoding=\"UTF-8\" standalone=\"no\"?><svg xmlns=\"http://www.w3.org/2000/svg\" xmlns:xlink=\"http://www.w3.org/1999/xlink\" contentScriptType=\"application/ecmascript\" contentStyleType=\"text/css\" height=\"128px\" preserveAspectRatio=\"none\" style=\"width:625px;height:128px;\" version=\"1.1\" viewBox=\"0 0 625 128\" width=\"625px\" zoomAndPan=\"magnify\"><defs/><g><!--MD5=[fbc87193dbaf4d95561dea2c320d4a47]\n",
       "cluster E1--><a href=\"psysml:d45f0f17-f367-4b4e-a94c-d0cd962b9658\" target=\"_top\" title=\"psysml:d45f0f17-f367-4b4e-a94c-d0cd962b9658\" xlink:actuate=\"onRequest\" xlink:href=\"psysml:d45f0f17-f367-4b4e-a94c-d0cd962b9658\" xlink:show=\"new\" xlink:title=\"psysml:d45f0f17-f367-4b4e-a94c-d0cd962b9658\" xlink:type=\"simple\"><rect fill=\"#FFFFFF\" height=\"110\" id=\"E1\" style=\"stroke: #383838; stroke-width: 1.5;\" width=\"607\" x=\"7\" y=\"7\"/><rect fill=\"#F8F8F8\" height=\"37.9375\" style=\"stroke: #383838; stroke-width: 1.5;\" width=\"607\" x=\"7\" y=\"7\"/><text fill=\"#000000\" font-family=\"sans-serif\" font-size=\"12\" font-style=\"italic\" lengthAdjust=\"spacingAndGlyphs\" textLength=\"77\" x=\"272\" y=\"23.1387\">«action def»</text><text fill=\"#000000\" font-family=\"sans-serif\" font-size=\"12\" lengthAdjust=\"spacingAndGlyphs\" textLength=\"105\" x=\"258\" y=\"37.1074\">ControlNodeTest</text></a><rect fill=\"#000000\" height=\"8\" style=\"stroke: none; stroke-width: 1.0;\" width=\"80\" x=\"518\" y=\"75.5\"/><rect fill=\"#000000\" height=\"8\" style=\"stroke: none; stroke-width: 1.0;\" width=\"80\" x=\"403\" y=\"75.5\"/><g id=\"E1.E2\"><a href=\"psysml:fdc5aa3b-ed80-41e9-a98e-ce8c422e55eb\" target=\"_top\" title=\"psysml:fdc5aa3b-ed80-41e9-a98e-ce8c422e55eb\" xlink:actuate=\"onRequest\" xlink:href=\"psysml:fdc5aa3b-ed80-41e9-a98e-ce8c422e55eb\" xlink:show=\"new\" xlink:title=\"psysml:fdc5aa3b-ed80-41e9-a98e-ce8c422e55eb\" xlink:type=\"simple\"><rect fill=\"#FFFFFF\" height=\"42.9375\" id=\"E2\" rx=\"10\" ry=\"10\" style=\"stroke: #383838; stroke-width: 1.5;\" width=\"60\" x=\"308\" y=\"58\"/><rect fill=\"#F8F8F8\" height=\"37.9375\" rx=\"10\" ry=\"10\" style=\"stroke: #F8F8F8; stroke-width: 1.5;\" width=\"60\" x=\"308\" y=\"58\"/><rect fill=\"#F8F8F8\" height=\"10\" style=\"stroke: #F8F8F8; stroke-width: 1.5;\" width=\"60\" x=\"308\" y=\"85.9375\"/><rect fill=\"none\" height=\"42.9375\" id=\"E2\" rx=\"10\" ry=\"10\" style=\"stroke: #383838; stroke-width: 1.5;\" width=\"60\" x=\"308\" y=\"58\"/><text fill=\"#000000\" font-family=\"sans-serif\" font-size=\"12\" font-style=\"italic\" lengthAdjust=\"spacingAndGlyphs\" textLength=\"53\" x=\"311.5\" y=\"74.1387\">«action»</text><text fill=\"#000000\" font-family=\"sans-serif\" font-size=\"12\" lengthAdjust=\"spacingAndGlyphs\" textLength=\"16\" x=\"330\" y=\"88.1074\">A1</text></a></g><g id=\"E1.E3\"><a href=\"psysml:2c991ffe-75e4-475a-bb83-43f5c2feea80\" target=\"_top\" title=\"psysml:2c991ffe-75e4-475a-bb83-43f5c2feea80\" xlink:actuate=\"onRequest\" xlink:href=\"psysml:2c991ffe-75e4-475a-bb83-43f5c2feea80\" xlink:show=\"new\" xlink:title=\"psysml:2c991ffe-75e4-475a-bb83-43f5c2feea80\" xlink:type=\"simple\"><rect fill=\"#FFFFFF\" height=\"42.9375\" id=\"E3\" rx=\"10\" ry=\"10\" style=\"stroke: #383838; stroke-width: 1.5;\" width=\"60\" x=\"213\" y=\"58\"/><rect fill=\"#F8F8F8\" height=\"37.9375\" rx=\"10\" ry=\"10\" style=\"stroke: #F8F8F8; stroke-width: 1.5;\" width=\"60\" x=\"213\" y=\"58\"/><rect fill=\"#F8F8F8\" height=\"10\" style=\"stroke: #F8F8F8; stroke-width: 1.5;\" width=\"60\" x=\"213\" y=\"85.9375\"/><rect fill=\"none\" height=\"42.9375\" id=\"E3\" rx=\"10\" ry=\"10\" style=\"stroke: #383838; stroke-width: 1.5;\" width=\"60\" x=\"213\" y=\"58\"/><text fill=\"#000000\" font-family=\"sans-serif\" font-size=\"12\" font-style=\"italic\" lengthAdjust=\"spacingAndGlyphs\" textLength=\"53\" x=\"216.5\" y=\"74.1387\">«action»</text><text fill=\"#000000\" font-family=\"sans-serif\" font-size=\"12\" lengthAdjust=\"spacingAndGlyphs\" textLength=\"16\" x=\"235\" y=\"88.1074\">A2</text></a></g><g id=\"E1.E6\"><a href=\"psysml:f26d7e3d-b672-461c-aa14-0bbf3d4e7737\" target=\"_top\" title=\"psysml:f26d7e3d-b672-461c-aa14-0bbf3d4e7737\" xlink:actuate=\"onRequest\" xlink:href=\"psysml:f26d7e3d-b672-461c-aa14-0bbf3d4e7737\" xlink:show=\"new\" xlink:title=\"psysml:f26d7e3d-b672-461c-aa14-0bbf3d4e7737\" xlink:type=\"simple\"><rect fill=\"#FFFFFF\" height=\"42.9375\" id=\"E6\" rx=\"10\" ry=\"10\" style=\"stroke: #383838; stroke-width: 1.5;\" width=\"60\" x=\"118\" y=\"58\"/><rect fill=\"#F8F8F8\" height=\"37.9375\" rx=\"10\" ry=\"10\" style=\"stroke: #F8F8F8; stroke-width: 1.5;\" width=\"60\" x=\"118\" y=\"58\"/><rect fill=\"#F8F8F8\" height=\"10\" style=\"stroke: #F8F8F8; stroke-width: 1.5;\" width=\"60\" x=\"118\" y=\"85.9375\"/><rect fill=\"none\" height=\"42.9375\" id=\"E6\" rx=\"10\" ry=\"10\" style=\"stroke: #383838; stroke-width: 1.5;\" width=\"60\" x=\"118\" y=\"58\"/><text fill=\"#000000\" font-family=\"sans-serif\" font-size=\"12\" font-style=\"italic\" lengthAdjust=\"spacingAndGlyphs\" textLength=\"53\" x=\"121.5\" y=\"74.1387\">«action»</text><text fill=\"#000000\" font-family=\"sans-serif\" font-size=\"12\" lengthAdjust=\"spacingAndGlyphs\" textLength=\"16\" x=\"140\" y=\"88.1074\">B1</text></a></g><g id=\"E1.E7\"><a href=\"psysml:f6cf6959-d08a-437c-8e4b-96dd916f2436\" target=\"_top\" title=\"psysml:f6cf6959-d08a-437c-8e4b-96dd916f2436\" xlink:actuate=\"onRequest\" xlink:href=\"psysml:f6cf6959-d08a-437c-8e4b-96dd916f2436\" xlink:show=\"new\" xlink:title=\"psysml:f6cf6959-d08a-437c-8e4b-96dd916f2436\" xlink:type=\"simple\"><rect fill=\"#FFFFFF\" height=\"42.9375\" id=\"E7\" rx=\"10\" ry=\"10\" style=\"stroke: #383838; stroke-width: 1.5;\" width=\"60\" x=\"23\" y=\"58\"/><rect fill=\"#F8F8F8\" height=\"37.9375\" rx=\"10\" ry=\"10\" style=\"stroke: #F8F8F8; stroke-width: 1.5;\" width=\"60\" x=\"23\" y=\"58\"/><rect fill=\"#F8F8F8\" height=\"10\" style=\"stroke: #F8F8F8; stroke-width: 1.5;\" width=\"60\" x=\"23\" y=\"85.9375\"/><rect fill=\"none\" height=\"42.9375\" id=\"E7\" rx=\"10\" ry=\"10\" style=\"stroke: #383838; stroke-width: 1.5;\" width=\"60\" x=\"23\" y=\"58\"/><text fill=\"#000000\" font-family=\"sans-serif\" font-size=\"12\" font-style=\"italic\" lengthAdjust=\"spacingAndGlyphs\" textLength=\"53\" x=\"26.5\" y=\"74.1387\">«action»</text><text fill=\"#000000\" font-family=\"sans-serif\" font-size=\"12\" lengthAdjust=\"spacingAndGlyphs\" textLength=\"16\" x=\"45\" y=\"88.1074\">B2</text></a></g><!--MD5=[d484325e458cf07a704e802cdb13be55]\n",
       "@startuml\r\n",
       "skinparam ranksep 8\r\n",
       "skinparam linetype polyline\r\n",
       "skinparam monochrome true\r\n",
       "skinparam classbackgroundcolor white\r\n",
       "skinparam shadowing false\r\n",
       "skinparam wrapWidth 300\r\n",
       "hide circle\r\n",
       "\r\n",
       "rec def \"ControlNodeTest\" as E1  <<(T,blue)action def>> [[psysml:d45f0f17-f367-4b4e-a94c-d0cd962b9658 ]] {\r\n",
       "rec usage \"A1\" as E2  <<(T,blue)action>> [[psysml:fdc5aa3b-ed80-41e9-a98e-ce8c422e55eb ]] {\r\n",
       "}\r\n",
       "\r\n",
       "rec usage \"A2\" as E3  <<(T,blue)action>> [[psysml:2c991ffe-75e4-475a-bb83-43f5c2feea80 ]] {\r\n",
       "}\r\n",
       "\r\n",
       "join \"J\" as E4  [[psysml:5dc91872-c5b7-4d29-9265-55786a5f23d3 ]] \r\n",
       "fork \"F\" as E5  [[psysml:32073807-3d0f-4273-9610-bcad2a0739d7 ]] \r\n",
       "rec usage \"B1\" as E6  <<(T,blue)action>> [[psysml:f26d7e3d-b672-461c-aa14-0bbf3d4e7737 ]] {\r\n",
       "}\r\n",
       "\r\n",
       "rec usage \"B2\" as E7  <<(T,blue)action>> [[psysml:f6cf6959-d08a-437c-8e4b-96dd916f2436 ]] {\r\n",
       "}\r\n",
       "\r\n",
       "}\r\n",
       "\r\n",
       "@enduml\r\n",
       "\n",
       "PlantUML version 1.2020.13(Sat Jun 13 12:26:38 UTC 2020)\n",
       "(EPL source distribution)\n",
       "Java Runtime: OpenJDK Runtime Environment\n",
       "JVM: OpenJDK 64-Bit Server VM\n",
       "Default Encoding: UTF-8\n",
       "Language: en\n",
       "Country: null\n",
       "--></g></svg>"
      ]
     },
     "execution_count": 13,
     "metadata": {},
     "output_type": "execute_result"
    }
   ],
   "source": [
    "%viz --style=\"POLYLINE\" --view=\"Action\" \"ControlNodeTest\""
   ]
  },
  {
   "cell_type": "code",
   "execution_count": 14,
   "id": "bizarre-switzerland",
   "metadata": {
    "execution": {
     "iopub.execute_input": "2021-03-25T09:28:33.442674Z",
     "iopub.status.busy": "2021-03-25T09:28:33.442173Z",
     "iopub.status.idle": "2021-03-25T09:28:33.690416Z",
     "shell.execute_reply": "2021-03-25T09:28:33.690024Z"
    }
   },
   "outputs": [
    {
     "data": {
      "image/svg+xml": [
       "<?xml version=\"1.0\" encoding=\"UTF-8\" standalone=\"no\"?><svg xmlns=\"http://www.w3.org/2000/svg\" xmlns:xlink=\"http://www.w3.org/1999/xlink\" contentScriptType=\"application/ecmascript\" contentStyleType=\"text/css\" height=\"191px\" preserveAspectRatio=\"none\" style=\"width:129px;height:191px;\" version=\"1.1\" viewBox=\"0 0 129 191\" width=\"129px\" zoomAndPan=\"magnify\"><defs/><g><!--MD5=[43c9051892ef23e1a46a86907403d788]\n",
       "class E1--><a href=\"psysml:d45f0f17-f367-4b4e-a94c-d0cd962b9658\" target=\"_top\" title=\"psysml:d45f0f17-f367-4b4e-a94c-d0cd962b9658\" xlink:actuate=\"onRequest\" xlink:href=\"psysml:d45f0f17-f367-4b4e-a94c-d0cd962b9658\" xlink:show=\"new\" xlink:title=\"psysml:d45f0f17-f367-4b4e-a94c-d0cd962b9658\" xlink:type=\"simple\"><rect fill=\"#FFFFFF\" height=\"173.1797\" id=\"E1\" style=\"stroke: #383838; stroke-width: 1.5;\" width=\"111\" x=\"7\" y=\"7\"/><text fill=\"#000000\" font-family=\"sans-serif\" font-size=\"12\" font-style=\"italic\" lengthAdjust=\"spacingAndGlyphs\" textLength=\"77\" x=\"24\" y=\"23.1387\">«action def»</text><text fill=\"#000000\" font-family=\"sans-serif\" font-size=\"12\" lengthAdjust=\"spacingAndGlyphs\" textLength=\"105\" x=\"10\" y=\"37.1074\">ControlNodeTest</text><line style=\"stroke: #383838; stroke-width: 1.5;\" x1=\"8\" x2=\"117\" y1=\"44.9375\" y2=\"44.9375\"/><text fill=\"#000000\" font-family=\"sans-serif\" font-size=\"11\" lengthAdjust=\"spacingAndGlyphs\" textLength=\"14\" x=\"13\" y=\"75.9526\">A1</text><text fill=\"#000000\" font-family=\"sans-serif\" font-size=\"11\" lengthAdjust=\"spacingAndGlyphs\" textLength=\"14\" x=\"13\" y=\"88.7573\">A2</text><text fill=\"#000000\" font-family=\"sans-serif\" font-size=\"11\" lengthAdjust=\"spacingAndGlyphs\" textLength=\"15\" x=\"13\" y=\"101.562\">B1</text><text fill=\"#000000\" font-family=\"sans-serif\" font-size=\"11\" lengthAdjust=\"spacingAndGlyphs\" textLength=\"15\" x=\"13\" y=\"114.3667\">B2</text><line style=\"stroke: #383838; stroke-width: 1.0;\" x1=\"8\" x2=\"42\" y1=\"59.3398\" y2=\"59.3398\"/><text fill=\"#000000\" font-family=\"sans-serif\" font-size=\"11\" lengthAdjust=\"spacingAndGlyphs\" textLength=\"41\" x=\"42\" y=\"62.6479\">actions</text><line style=\"stroke: #383838; stroke-width: 1.0;\" x1=\"83\" x2=\"117\" y1=\"59.3398\" y2=\"59.3398\"/><text fill=\"#000000\" font-family=\"sans-serif\" font-size=\"11\" lengthAdjust=\"spacingAndGlyphs\" textLength=\"6\" x=\"13\" y=\"143.9761\">F</text><line style=\"stroke: #383838; stroke-width: 1.0;\" x1=\"8\" x2=\"33.5\" y1=\"127.3633\" y2=\"127.3633\"/><text fill=\"#000000\" font-family=\"sans-serif\" font-size=\"11\" lengthAdjust=\"spacingAndGlyphs\" textLength=\"58\" x=\"33.5\" y=\"130.6714\">forkNodes</text><line style=\"stroke: #383838; stroke-width: 1.0;\" x1=\"91.5\" x2=\"117\" y1=\"127.3633\" y2=\"127.3633\"/><text fill=\"#000000\" font-family=\"sans-serif\" font-size=\"11\" lengthAdjust=\"spacingAndGlyphs\" textLength=\"3\" x=\"13\" y=\"173.5854\">J</text><line style=\"stroke: #383838; stroke-width: 1.0;\" x1=\"8\" x2=\"34.5\" y1=\"156.9727\" y2=\"156.9727\"/><text fill=\"#000000\" font-family=\"sans-serif\" font-size=\"11\" lengthAdjust=\"spacingAndGlyphs\" textLength=\"56\" x=\"34.5\" y=\"160.2808\">joinNodes</text><line style=\"stroke: #383838; stroke-width: 1.0;\" x1=\"90.5\" x2=\"117\" y1=\"156.9727\" y2=\"156.9727\"/></a><!--MD5=[d8520ec9030e54d89cc2f3aad4f567a3]\n",
       "@startuml\r\n",
       "skinparam linetype polyline\r\n",
       "skinparam monochrome true\r\n",
       "skinparam classbackgroundcolor white\r\n",
       "skinparam shadowing false\r\n",
       "skinparam wrapWidth 300\r\n",
       "hide circle\r\n",
       "\r\n",
       "comp def \"ControlNodeTest\" as E1  <<(T,blue)action def>> [[psysml:d45f0f17-f367-4b4e-a94c-d0cd962b9658 ]] {\r\n",
       "- - actions - -\r\n",
       "A1\r\n",
       "A2\r\n",
       "B1\r\n",
       "B2\r\n",
       "- - forkNodes - -\r\n",
       "F\r\n",
       "- - joinNodes - -\r\n",
       "J\r\n",
       "}\r\n",
       "@enduml\r\n",
       "\n",
       "PlantUML version 1.2020.13(Sat Jun 13 12:26:38 UTC 2020)\n",
       "(EPL source distribution)\n",
       "Java Runtime: OpenJDK Runtime Environment\n",
       "JVM: OpenJDK 64-Bit Server VM\n",
       "Default Encoding: UTF-8\n",
       "Language: en\n",
       "Country: null\n",
       "--></g></svg>"
      ]
     },
     "execution_count": 14,
     "metadata": {},
     "output_type": "execute_result"
    }
   ],
   "source": [
    "%viz --style=\"POLYLINE\" --view=\"Sequence\" \"ControlNodeTest\""
   ]
  },
  {
   "cell_type": "code",
   "execution_count": 15,
   "id": "thousand-verse",
   "metadata": {
    "execution": {
     "iopub.execute_input": "2021-03-25T09:28:33.741790Z",
     "iopub.status.busy": "2021-03-25T09:28:33.741280Z",
     "iopub.status.idle": "2021-03-25T09:28:33.842707Z",
     "shell.execute_reply": "2021-03-25T09:28:33.842314Z"
    }
   },
   "outputs": [
    {
     "data": {
      "image/svg+xml": [
       "<?xml version=\"1.0\" encoding=\"UTF-8\" standalone=\"no\"?><svg xmlns=\"http://www.w3.org/2000/svg\" xmlns:xlink=\"http://www.w3.org/1999/xlink\" contentScriptType=\"application/ecmascript\" contentStyleType=\"text/css\" height=\"128px\" preserveAspectRatio=\"none\" style=\"width:625px;height:128px;\" version=\"1.1\" viewBox=\"0 0 625 128\" width=\"625px\" zoomAndPan=\"magnify\"><defs/><g><!--MD5=[fbc87193dbaf4d95561dea2c320d4a47]\n",
       "cluster E1--><a href=\"psysml:d45f0f17-f367-4b4e-a94c-d0cd962b9658\" target=\"_top\" title=\"psysml:d45f0f17-f367-4b4e-a94c-d0cd962b9658\" xlink:actuate=\"onRequest\" xlink:href=\"psysml:d45f0f17-f367-4b4e-a94c-d0cd962b9658\" xlink:show=\"new\" xlink:title=\"psysml:d45f0f17-f367-4b4e-a94c-d0cd962b9658\" xlink:type=\"simple\"><rect fill=\"#FFFFFF\" height=\"110\" id=\"E1\" style=\"stroke: #383838; stroke-width: 1.5;\" width=\"607\" x=\"7\" y=\"7\"/><rect fill=\"#F8F8F8\" height=\"37.9375\" style=\"stroke: #383838; stroke-width: 1.5;\" width=\"607\" x=\"7\" y=\"7\"/><text fill=\"#000000\" font-family=\"sans-serif\" font-size=\"12\" font-style=\"italic\" lengthAdjust=\"spacingAndGlyphs\" textLength=\"77\" x=\"272\" y=\"23.1387\">«action def»</text><text fill=\"#000000\" font-family=\"sans-serif\" font-size=\"12\" lengthAdjust=\"spacingAndGlyphs\" textLength=\"105\" x=\"258\" y=\"37.1074\">ControlNodeTest</text></a><rect fill=\"#000000\" height=\"8\" style=\"stroke: none; stroke-width: 1.0;\" width=\"80\" x=\"518\" y=\"75.5\"/><rect fill=\"#000000\" height=\"8\" style=\"stroke: none; stroke-width: 1.0;\" width=\"80\" x=\"403\" y=\"75.5\"/><g id=\"E1.E2\"><a href=\"psysml:fdc5aa3b-ed80-41e9-a98e-ce8c422e55eb\" target=\"_top\" title=\"psysml:fdc5aa3b-ed80-41e9-a98e-ce8c422e55eb\" xlink:actuate=\"onRequest\" xlink:href=\"psysml:fdc5aa3b-ed80-41e9-a98e-ce8c422e55eb\" xlink:show=\"new\" xlink:title=\"psysml:fdc5aa3b-ed80-41e9-a98e-ce8c422e55eb\" xlink:type=\"simple\"><rect fill=\"#FFFFFF\" height=\"42.9375\" id=\"E2\" rx=\"10\" ry=\"10\" style=\"stroke: #383838; stroke-width: 1.5;\" width=\"60\" x=\"308\" y=\"58\"/><rect fill=\"#F8F8F8\" height=\"37.9375\" rx=\"10\" ry=\"10\" style=\"stroke: #F8F8F8; stroke-width: 1.5;\" width=\"60\" x=\"308\" y=\"58\"/><rect fill=\"#F8F8F8\" height=\"10\" style=\"stroke: #F8F8F8; stroke-width: 1.5;\" width=\"60\" x=\"308\" y=\"85.9375\"/><rect fill=\"none\" height=\"42.9375\" id=\"E2\" rx=\"10\" ry=\"10\" style=\"stroke: #383838; stroke-width: 1.5;\" width=\"60\" x=\"308\" y=\"58\"/><text fill=\"#000000\" font-family=\"sans-serif\" font-size=\"12\" font-style=\"italic\" lengthAdjust=\"spacingAndGlyphs\" textLength=\"53\" x=\"311.5\" y=\"74.1387\">«action»</text><text fill=\"#000000\" font-family=\"sans-serif\" font-size=\"12\" lengthAdjust=\"spacingAndGlyphs\" textLength=\"16\" x=\"330\" y=\"88.1074\">A1</text></a></g><g id=\"E1.E3\"><a href=\"psysml:2c991ffe-75e4-475a-bb83-43f5c2feea80\" target=\"_top\" title=\"psysml:2c991ffe-75e4-475a-bb83-43f5c2feea80\" xlink:actuate=\"onRequest\" xlink:href=\"psysml:2c991ffe-75e4-475a-bb83-43f5c2feea80\" xlink:show=\"new\" xlink:title=\"psysml:2c991ffe-75e4-475a-bb83-43f5c2feea80\" xlink:type=\"simple\"><rect fill=\"#FFFFFF\" height=\"42.9375\" id=\"E3\" rx=\"10\" ry=\"10\" style=\"stroke: #383838; stroke-width: 1.5;\" width=\"60\" x=\"213\" y=\"58\"/><rect fill=\"#F8F8F8\" height=\"37.9375\" rx=\"10\" ry=\"10\" style=\"stroke: #F8F8F8; stroke-width: 1.5;\" width=\"60\" x=\"213\" y=\"58\"/><rect fill=\"#F8F8F8\" height=\"10\" style=\"stroke: #F8F8F8; stroke-width: 1.5;\" width=\"60\" x=\"213\" y=\"85.9375\"/><rect fill=\"none\" height=\"42.9375\" id=\"E3\" rx=\"10\" ry=\"10\" style=\"stroke: #383838; stroke-width: 1.5;\" width=\"60\" x=\"213\" y=\"58\"/><text fill=\"#000000\" font-family=\"sans-serif\" font-size=\"12\" font-style=\"italic\" lengthAdjust=\"spacingAndGlyphs\" textLength=\"53\" x=\"216.5\" y=\"74.1387\">«action»</text><text fill=\"#000000\" font-family=\"sans-serif\" font-size=\"12\" lengthAdjust=\"spacingAndGlyphs\" textLength=\"16\" x=\"235\" y=\"88.1074\">A2</text></a></g><g id=\"E1.E6\"><a href=\"psysml:f26d7e3d-b672-461c-aa14-0bbf3d4e7737\" target=\"_top\" title=\"psysml:f26d7e3d-b672-461c-aa14-0bbf3d4e7737\" xlink:actuate=\"onRequest\" xlink:href=\"psysml:f26d7e3d-b672-461c-aa14-0bbf3d4e7737\" xlink:show=\"new\" xlink:title=\"psysml:f26d7e3d-b672-461c-aa14-0bbf3d4e7737\" xlink:type=\"simple\"><rect fill=\"#FFFFFF\" height=\"42.9375\" id=\"E6\" rx=\"10\" ry=\"10\" style=\"stroke: #383838; stroke-width: 1.5;\" width=\"60\" x=\"118\" y=\"58\"/><rect fill=\"#F8F8F8\" height=\"37.9375\" rx=\"10\" ry=\"10\" style=\"stroke: #F8F8F8; stroke-width: 1.5;\" width=\"60\" x=\"118\" y=\"58\"/><rect fill=\"#F8F8F8\" height=\"10\" style=\"stroke: #F8F8F8; stroke-width: 1.5;\" width=\"60\" x=\"118\" y=\"85.9375\"/><rect fill=\"none\" height=\"42.9375\" id=\"E6\" rx=\"10\" ry=\"10\" style=\"stroke: #383838; stroke-width: 1.5;\" width=\"60\" x=\"118\" y=\"58\"/><text fill=\"#000000\" font-family=\"sans-serif\" font-size=\"12\" font-style=\"italic\" lengthAdjust=\"spacingAndGlyphs\" textLength=\"53\" x=\"121.5\" y=\"74.1387\">«action»</text><text fill=\"#000000\" font-family=\"sans-serif\" font-size=\"12\" lengthAdjust=\"spacingAndGlyphs\" textLength=\"16\" x=\"140\" y=\"88.1074\">B1</text></a></g><g id=\"E1.E7\"><a href=\"psysml:f6cf6959-d08a-437c-8e4b-96dd916f2436\" target=\"_top\" title=\"psysml:f6cf6959-d08a-437c-8e4b-96dd916f2436\" xlink:actuate=\"onRequest\" xlink:href=\"psysml:f6cf6959-d08a-437c-8e4b-96dd916f2436\" xlink:show=\"new\" xlink:title=\"psysml:f6cf6959-d08a-437c-8e4b-96dd916f2436\" xlink:type=\"simple\"><rect fill=\"#FFFFFF\" height=\"42.9375\" id=\"E7\" rx=\"10\" ry=\"10\" style=\"stroke: #383838; stroke-width: 1.5;\" width=\"60\" x=\"23\" y=\"58\"/><rect fill=\"#F8F8F8\" height=\"37.9375\" rx=\"10\" ry=\"10\" style=\"stroke: #F8F8F8; stroke-width: 1.5;\" width=\"60\" x=\"23\" y=\"58\"/><rect fill=\"#F8F8F8\" height=\"10\" style=\"stroke: #F8F8F8; stroke-width: 1.5;\" width=\"60\" x=\"23\" y=\"85.9375\"/><rect fill=\"none\" height=\"42.9375\" id=\"E7\" rx=\"10\" ry=\"10\" style=\"stroke: #383838; stroke-width: 1.5;\" width=\"60\" x=\"23\" y=\"58\"/><text fill=\"#000000\" font-family=\"sans-serif\" font-size=\"12\" font-style=\"italic\" lengthAdjust=\"spacingAndGlyphs\" textLength=\"53\" x=\"26.5\" y=\"74.1387\">«action»</text><text fill=\"#000000\" font-family=\"sans-serif\" font-size=\"12\" lengthAdjust=\"spacingAndGlyphs\" textLength=\"16\" x=\"45\" y=\"88.1074\">B2</text></a></g><!--MD5=[3b019dcea29e1c3cfe72394e0ed2f730]\n",
       "@startuml\r\n",
       "skinparam linetype polyline\r\n",
       "skinparam monochrome true\r\n",
       "skinparam classbackgroundcolor white\r\n",
       "skinparam shadowing false\r\n",
       "skinparam wrapWidth 300\r\n",
       "hide circle\r\n",
       "\r\n",
       "rec def \"ControlNodeTest\" as E1  <<(T,blue)action def>> [[psysml:d45f0f17-f367-4b4e-a94c-d0cd962b9658 ]] {\r\n",
       "rec usage \"A1\" as E2  <<(T,blue)action>> [[psysml:fdc5aa3b-ed80-41e9-a98e-ce8c422e55eb ]] {\r\n",
       "}\r\n",
       "\r\n",
       "rec usage \"A2\" as E3  <<(T,blue)action>> [[psysml:2c991ffe-75e4-475a-bb83-43f5c2feea80 ]] {\r\n",
       "}\r\n",
       "\r\n",
       "join \"J\" as E4  [[psysml:5dc91872-c5b7-4d29-9265-55786a5f23d3 ]] \r\n",
       "fork \"F\" as E5  [[psysml:32073807-3d0f-4273-9610-bcad2a0739d7 ]] \r\n",
       "rec usage \"B1\" as E6  <<(T,blue)action>> [[psysml:f26d7e3d-b672-461c-aa14-0bbf3d4e7737 ]] {\r\n",
       "}\r\n",
       "\r\n",
       "rec usage \"B2\" as E7  <<(T,blue)action>> [[psysml:f6cf6959-d08a-437c-8e4b-96dd916f2436 ]] {\r\n",
       "}\r\n",
       "\r\n",
       "}\r\n",
       "\r\n",
       "@enduml\r\n",
       "\n",
       "PlantUML version 1.2020.13(Sat Jun 13 12:26:38 UTC 2020)\n",
       "(EPL source distribution)\n",
       "Java Runtime: OpenJDK Runtime Environment\n",
       "JVM: OpenJDK 64-Bit Server VM\n",
       "Default Encoding: UTF-8\n",
       "Language: en\n",
       "Country: null\n",
       "--></g></svg>"
      ]
     },
     "execution_count": 15,
     "metadata": {},
     "output_type": "execute_result"
    }
   ],
   "source": [
    "%viz --style=\"POLYLINE\" --view=\"MIXED\" \"ControlNodeTest\""
   ]
  },
  {
   "cell_type": "code",
   "execution_count": 16,
   "id": "collectible-wilderness",
   "metadata": {
    "execution": {
     "iopub.execute_input": "2021-03-25T09:28:33.896329Z",
     "iopub.status.busy": "2021-03-25T09:28:33.895532Z",
     "iopub.status.idle": "2021-03-25T09:28:33.994775Z",
     "shell.execute_reply": "2021-03-25T09:28:33.994402Z"
    }
   },
   "outputs": [
    {
     "data": {
      "image/svg+xml": [
       "<?xml version=\"1.0\" encoding=\"UTF-8\" standalone=\"no\"?><svg xmlns=\"http://www.w3.org/2000/svg\" xmlns:xlink=\"http://www.w3.org/1999/xlink\" contentScriptType=\"application/ecmascript\" contentStyleType=\"text/css\" height=\"593px\" preserveAspectRatio=\"none\" style=\"width:168px;height:593px;\" version=\"1.1\" viewBox=\"0 0 168 593\" width=\"168px\" zoomAndPan=\"magnify\"><defs/><g><!--MD5=[fbc87193dbaf4d95561dea2c320d4a47]\n",
       "cluster E1--><a href=\"psysml:d45f0f17-f367-4b4e-a94c-d0cd962b9658\" target=\"_top\" title=\"psysml:d45f0f17-f367-4b4e-a94c-d0cd962b9658\" xlink:actuate=\"onRequest\" xlink:href=\"psysml:d45f0f17-f367-4b4e-a94c-d0cd962b9658\" xlink:show=\"new\" xlink:title=\"psysml:d45f0f17-f367-4b4e-a94c-d0cd962b9658\" xlink:type=\"simple\"><rect fill=\"#FFFFFF\" height=\"575\" id=\"E1\" style=\"stroke: #383838; stroke-width: 1.5;\" width=\"150\" x=\"7\" y=\"7\"/><rect fill=\"#F8F8F8\" height=\"37.9375\" style=\"stroke: #383838; stroke-width: 1.5;\" width=\"150\" x=\"7\" y=\"7\"/><text fill=\"#000000\" font-family=\"sans-serif\" font-size=\"12\" font-style=\"italic\" lengthAdjust=\"spacingAndGlyphs\" textLength=\"77\" x=\"43.5\" y=\"23.1387\">«action def»</text><text fill=\"#000000\" font-family=\"sans-serif\" font-size=\"12\" lengthAdjust=\"spacingAndGlyphs\" textLength=\"105\" x=\"29.5\" y=\"37.1074\">ControlNodeTest</text></a><rect fill=\"#000000\" height=\"80\" style=\"stroke: none; stroke-width: 1.0;\" width=\"8\" x=\"78\" y=\"58\"/><rect fill=\"#000000\" height=\"80\" style=\"stroke: none; stroke-width: 1.0;\" width=\"8\" x=\"78\" y=\"173\"/><g id=\"E1.E2\"><a href=\"psysml:fdc5aa3b-ed80-41e9-a98e-ce8c422e55eb\" target=\"_top\" title=\"psysml:fdc5aa3b-ed80-41e9-a98e-ce8c422e55eb\" xlink:actuate=\"onRequest\" xlink:href=\"psysml:fdc5aa3b-ed80-41e9-a98e-ce8c422e55eb\" xlink:show=\"new\" xlink:title=\"psysml:fdc5aa3b-ed80-41e9-a98e-ce8c422e55eb\" xlink:type=\"simple\"><rect fill=\"#FFFFFF\" height=\"42.9375\" id=\"E2\" rx=\"10\" ry=\"10\" style=\"stroke: #383838; stroke-width: 1.5;\" width=\"60\" x=\"52\" y=\"288.5\"/><rect fill=\"#F8F8F8\" height=\"37.9375\" rx=\"10\" ry=\"10\" style=\"stroke: #F8F8F8; stroke-width: 1.5;\" width=\"60\" x=\"52\" y=\"288.5\"/><rect fill=\"#F8F8F8\" height=\"10\" style=\"stroke: #F8F8F8; stroke-width: 1.5;\" width=\"60\" x=\"52\" y=\"316.4375\"/><rect fill=\"none\" height=\"42.9375\" id=\"E2\" rx=\"10\" ry=\"10\" style=\"stroke: #383838; stroke-width: 1.5;\" width=\"60\" x=\"52\" y=\"288.5\"/><text fill=\"#000000\" font-family=\"sans-serif\" font-size=\"12\" font-style=\"italic\" lengthAdjust=\"spacingAndGlyphs\" textLength=\"53\" x=\"55.5\" y=\"304.6387\">«action»</text><text fill=\"#000000\" font-family=\"sans-serif\" font-size=\"12\" lengthAdjust=\"spacingAndGlyphs\" textLength=\"16\" x=\"74\" y=\"318.6074\">A1</text></a></g><g id=\"E1.E3\"><a href=\"psysml:2c991ffe-75e4-475a-bb83-43f5c2feea80\" target=\"_top\" title=\"psysml:2c991ffe-75e4-475a-bb83-43f5c2feea80\" xlink:actuate=\"onRequest\" xlink:href=\"psysml:2c991ffe-75e4-475a-bb83-43f5c2feea80\" xlink:show=\"new\" xlink:title=\"psysml:2c991ffe-75e4-475a-bb83-43f5c2feea80\" xlink:type=\"simple\"><rect fill=\"#FFFFFF\" height=\"42.9375\" id=\"E3\" rx=\"10\" ry=\"10\" style=\"stroke: #383838; stroke-width: 1.5;\" width=\"60\" x=\"52\" y=\"366.5\"/><rect fill=\"#F8F8F8\" height=\"37.9375\" rx=\"10\" ry=\"10\" style=\"stroke: #F8F8F8; stroke-width: 1.5;\" width=\"60\" x=\"52\" y=\"366.5\"/><rect fill=\"#F8F8F8\" height=\"10\" style=\"stroke: #F8F8F8; stroke-width: 1.5;\" width=\"60\" x=\"52\" y=\"394.4375\"/><rect fill=\"none\" height=\"42.9375\" id=\"E3\" rx=\"10\" ry=\"10\" style=\"stroke: #383838; stroke-width: 1.5;\" width=\"60\" x=\"52\" y=\"366.5\"/><text fill=\"#000000\" font-family=\"sans-serif\" font-size=\"12\" font-style=\"italic\" lengthAdjust=\"spacingAndGlyphs\" textLength=\"53\" x=\"55.5\" y=\"382.6387\">«action»</text><text fill=\"#000000\" font-family=\"sans-serif\" font-size=\"12\" lengthAdjust=\"spacingAndGlyphs\" textLength=\"16\" x=\"74\" y=\"396.6074\">A2</text></a></g><g id=\"E1.E6\"><a href=\"psysml:f26d7e3d-b672-461c-aa14-0bbf3d4e7737\" target=\"_top\" title=\"psysml:f26d7e3d-b672-461c-aa14-0bbf3d4e7737\" xlink:actuate=\"onRequest\" xlink:href=\"psysml:f26d7e3d-b672-461c-aa14-0bbf3d4e7737\" xlink:show=\"new\" xlink:title=\"psysml:f26d7e3d-b672-461c-aa14-0bbf3d4e7737\" xlink:type=\"simple\"><rect fill=\"#FFFFFF\" height=\"42.9375\" id=\"E6\" rx=\"10\" ry=\"10\" style=\"stroke: #383838; stroke-width: 1.5;\" width=\"60\" x=\"52\" y=\"444.5\"/><rect fill=\"#F8F8F8\" height=\"37.9375\" rx=\"10\" ry=\"10\" style=\"stroke: #F8F8F8; stroke-width: 1.5;\" width=\"60\" x=\"52\" y=\"444.5\"/><rect fill=\"#F8F8F8\" height=\"10\" style=\"stroke: #F8F8F8; stroke-width: 1.5;\" width=\"60\" x=\"52\" y=\"472.4375\"/><rect fill=\"none\" height=\"42.9375\" id=\"E6\" rx=\"10\" ry=\"10\" style=\"stroke: #383838; stroke-width: 1.5;\" width=\"60\" x=\"52\" y=\"444.5\"/><text fill=\"#000000\" font-family=\"sans-serif\" font-size=\"12\" font-style=\"italic\" lengthAdjust=\"spacingAndGlyphs\" textLength=\"53\" x=\"55.5\" y=\"460.6387\">«action»</text><text fill=\"#000000\" font-family=\"sans-serif\" font-size=\"12\" lengthAdjust=\"spacingAndGlyphs\" textLength=\"16\" x=\"74\" y=\"474.6074\">B1</text></a></g><g id=\"E1.E7\"><a href=\"psysml:f6cf6959-d08a-437c-8e4b-96dd916f2436\" target=\"_top\" title=\"psysml:f6cf6959-d08a-437c-8e4b-96dd916f2436\" xlink:actuate=\"onRequest\" xlink:href=\"psysml:f6cf6959-d08a-437c-8e4b-96dd916f2436\" xlink:show=\"new\" xlink:title=\"psysml:f6cf6959-d08a-437c-8e4b-96dd916f2436\" xlink:type=\"simple\"><rect fill=\"#FFFFFF\" height=\"42.9375\" id=\"E7\" rx=\"10\" ry=\"10\" style=\"stroke: #383838; stroke-width: 1.5;\" width=\"60\" x=\"52\" y=\"522.5\"/><rect fill=\"#F8F8F8\" height=\"37.9375\" rx=\"10\" ry=\"10\" style=\"stroke: #F8F8F8; stroke-width: 1.5;\" width=\"60\" x=\"52\" y=\"522.5\"/><rect fill=\"#F8F8F8\" height=\"10\" style=\"stroke: #F8F8F8; stroke-width: 1.5;\" width=\"60\" x=\"52\" y=\"550.4375\"/><rect fill=\"none\" height=\"42.9375\" id=\"E7\" rx=\"10\" ry=\"10\" style=\"stroke: #383838; stroke-width: 1.5;\" width=\"60\" x=\"52\" y=\"522.5\"/><text fill=\"#000000\" font-family=\"sans-serif\" font-size=\"12\" font-style=\"italic\" lengthAdjust=\"spacingAndGlyphs\" textLength=\"53\" x=\"55.5\" y=\"538.6387\">«action»</text><text fill=\"#000000\" font-family=\"sans-serif\" font-size=\"12\" lengthAdjust=\"spacingAndGlyphs\" textLength=\"16\" x=\"74\" y=\"552.6074\">B2</text></a></g><!--MD5=[c78cae00dcd69d083d9c3f7245dd86ed]\n",
       "@startuml\r\n",
       "left to right direction\r\n",
       "skinparam monochrome true\r\n",
       "skinparam classbackgroundcolor white\r\n",
       "skinparam shadowing false\r\n",
       "skinparam wrapWidth 300\r\n",
       "hide circle\r\n",
       "\r\n",
       "rec def \"ControlNodeTest\" as E1  <<(T,blue)action def>> [[psysml:d45f0f17-f367-4b4e-a94c-d0cd962b9658 ]] {\r\n",
       "rec usage \"A1\" as E2  <<(T,blue)action>> [[psysml:fdc5aa3b-ed80-41e9-a98e-ce8c422e55eb ]] {\r\n",
       "}\r\n",
       "\r\n",
       "rec usage \"A2\" as E3  <<(T,blue)action>> [[psysml:2c991ffe-75e4-475a-bb83-43f5c2feea80 ]] {\r\n",
       "}\r\n",
       "\r\n",
       "join \"J\" as E4  [[psysml:5dc91872-c5b7-4d29-9265-55786a5f23d3 ]] \r\n",
       "fork \"F\" as E5  [[psysml:32073807-3d0f-4273-9610-bcad2a0739d7 ]] \r\n",
       "rec usage \"B1\" as E6  <<(T,blue)action>> [[psysml:f26d7e3d-b672-461c-aa14-0bbf3d4e7737 ]] {\r\n",
       "}\r\n",
       "\r\n",
       "rec usage \"B2\" as E7  <<(T,blue)action>> [[psysml:f6cf6959-d08a-437c-8e4b-96dd916f2436 ]] {\r\n",
       "}\r\n",
       "\r\n",
       "}\r\n",
       "\r\n",
       "@enduml\r\n",
       "\n",
       "PlantUML version 1.2020.13(Sat Jun 13 12:26:38 UTC 2020)\n",
       "(EPL source distribution)\n",
       "Java Runtime: OpenJDK Runtime Environment\n",
       "JVM: OpenJDK 64-Bit Server VM\n",
       "Default Encoding: UTF-8\n",
       "Language: en\n",
       "Country: null\n",
       "--></g></svg>"
      ]
     },
     "execution_count": 16,
     "metadata": {},
     "output_type": "execute_result"
    }
   ],
   "source": [
    "%viz --style=\"LR\" --view=\"Default\" \"ControlNodeTest\""
   ]
  },
  {
   "cell_type": "code",
   "execution_count": 17,
   "id": "sudden-watershed",
   "metadata": {
    "execution": {
     "iopub.execute_input": "2021-03-25T09:28:34.046368Z",
     "iopub.status.busy": "2021-03-25T09:28:34.045583Z",
     "iopub.status.idle": "2021-03-25T09:28:34.290376Z",
     "shell.execute_reply": "2021-03-25T09:28:34.290007Z"
    }
   },
   "outputs": [
    {
     "data": {
      "image/svg+xml": [
       "<?xml version=\"1.0\" encoding=\"UTF-8\" standalone=\"no\"?><svg xmlns=\"http://www.w3.org/2000/svg\" xmlns:xlink=\"http://www.w3.org/1999/xlink\" contentScriptType=\"application/ecmascript\" contentStyleType=\"text/css\" height=\"191px\" preserveAspectRatio=\"none\" style=\"width:129px;height:191px;\" version=\"1.1\" viewBox=\"0 0 129 191\" width=\"129px\" zoomAndPan=\"magnify\"><defs/><g><!--MD5=[43c9051892ef23e1a46a86907403d788]\n",
       "class E1--><a href=\"psysml:d45f0f17-f367-4b4e-a94c-d0cd962b9658\" target=\"_top\" title=\"psysml:d45f0f17-f367-4b4e-a94c-d0cd962b9658\" xlink:actuate=\"onRequest\" xlink:href=\"psysml:d45f0f17-f367-4b4e-a94c-d0cd962b9658\" xlink:show=\"new\" xlink:title=\"psysml:d45f0f17-f367-4b4e-a94c-d0cd962b9658\" xlink:type=\"simple\"><rect fill=\"#FFFFFF\" height=\"173.1797\" id=\"E1\" style=\"stroke: #383838; stroke-width: 1.5;\" width=\"111\" x=\"7\" y=\"7\"/><text fill=\"#000000\" font-family=\"sans-serif\" font-size=\"12\" font-style=\"italic\" lengthAdjust=\"spacingAndGlyphs\" textLength=\"77\" x=\"24\" y=\"23.1387\">«action def»</text><text fill=\"#000000\" font-family=\"sans-serif\" font-size=\"12\" lengthAdjust=\"spacingAndGlyphs\" textLength=\"105\" x=\"10\" y=\"37.1074\">ControlNodeTest</text><line style=\"stroke: #383838; stroke-width: 1.5;\" x1=\"8\" x2=\"117\" y1=\"44.9375\" y2=\"44.9375\"/><text fill=\"#000000\" font-family=\"sans-serif\" font-size=\"11\" lengthAdjust=\"spacingAndGlyphs\" textLength=\"14\" x=\"13\" y=\"75.9526\">A1</text><text fill=\"#000000\" font-family=\"sans-serif\" font-size=\"11\" lengthAdjust=\"spacingAndGlyphs\" textLength=\"14\" x=\"13\" y=\"88.7573\">A2</text><text fill=\"#000000\" font-family=\"sans-serif\" font-size=\"11\" lengthAdjust=\"spacingAndGlyphs\" textLength=\"15\" x=\"13\" y=\"101.562\">B1</text><text fill=\"#000000\" font-family=\"sans-serif\" font-size=\"11\" lengthAdjust=\"spacingAndGlyphs\" textLength=\"15\" x=\"13\" y=\"114.3667\">B2</text><line style=\"stroke: #383838; stroke-width: 1.0;\" x1=\"8\" x2=\"42\" y1=\"59.3398\" y2=\"59.3398\"/><text fill=\"#000000\" font-family=\"sans-serif\" font-size=\"11\" lengthAdjust=\"spacingAndGlyphs\" textLength=\"41\" x=\"42\" y=\"62.6479\">actions</text><line style=\"stroke: #383838; stroke-width: 1.0;\" x1=\"83\" x2=\"117\" y1=\"59.3398\" y2=\"59.3398\"/><text fill=\"#000000\" font-family=\"sans-serif\" font-size=\"11\" lengthAdjust=\"spacingAndGlyphs\" textLength=\"6\" x=\"13\" y=\"143.9761\">F</text><line style=\"stroke: #383838; stroke-width: 1.0;\" x1=\"8\" x2=\"33.5\" y1=\"127.3633\" y2=\"127.3633\"/><text fill=\"#000000\" font-family=\"sans-serif\" font-size=\"11\" lengthAdjust=\"spacingAndGlyphs\" textLength=\"58\" x=\"33.5\" y=\"130.6714\">forkNodes</text><line style=\"stroke: #383838; stroke-width: 1.0;\" x1=\"91.5\" x2=\"117\" y1=\"127.3633\" y2=\"127.3633\"/><text fill=\"#000000\" font-family=\"sans-serif\" font-size=\"11\" lengthAdjust=\"spacingAndGlyphs\" textLength=\"3\" x=\"13\" y=\"173.5854\">J</text><line style=\"stroke: #383838; stroke-width: 1.0;\" x1=\"8\" x2=\"34.5\" y1=\"156.9727\" y2=\"156.9727\"/><text fill=\"#000000\" font-family=\"sans-serif\" font-size=\"11\" lengthAdjust=\"spacingAndGlyphs\" textLength=\"56\" x=\"34.5\" y=\"160.2808\">joinNodes</text><line style=\"stroke: #383838; stroke-width: 1.0;\" x1=\"90.5\" x2=\"117\" y1=\"156.9727\" y2=\"156.9727\"/></a><!--MD5=[35ba060651ad60bd49a0ae703c802502]\n",
       "@startuml\r\n",
       "left to right direction\r\n",
       "skinparam monochrome true\r\n",
       "skinparam classbackgroundcolor white\r\n",
       "skinparam shadowing false\r\n",
       "skinparam wrapWidth 300\r\n",
       "hide circle\r\n",
       "\r\n",
       "comp def \"ControlNodeTest\" as E1  <<(T,blue)action def>> [[psysml:d45f0f17-f367-4b4e-a94c-d0cd962b9658 ]] {\r\n",
       "- - actions - -\r\n",
       "A1\r\n",
       "A2\r\n",
       "B1\r\n",
       "B2\r\n",
       "- - forkNodes - -\r\n",
       "F\r\n",
       "- - joinNodes - -\r\n",
       "J\r\n",
       "}\r\n",
       "@enduml\r\n",
       "\n",
       "PlantUML version 1.2020.13(Sat Jun 13 12:26:38 UTC 2020)\n",
       "(EPL source distribution)\n",
       "Java Runtime: OpenJDK Runtime Environment\n",
       "JVM: OpenJDK 64-Bit Server VM\n",
       "Default Encoding: UTF-8\n",
       "Language: en\n",
       "Country: null\n",
       "--></g></svg>"
      ]
     },
     "execution_count": 17,
     "metadata": {},
     "output_type": "execute_result"
    }
   ],
   "source": [
    "%viz --style=\"LR\" --view=\"Tree\" \"ControlNodeTest\""
   ]
  },
  {
   "cell_type": "code",
   "execution_count": 18,
   "id": "cordless-beverage",
   "metadata": {
    "execution": {
     "iopub.execute_input": "2021-03-25T09:28:34.342799Z",
     "iopub.status.busy": "2021-03-25T09:28:34.342097Z",
     "iopub.status.idle": "2021-03-25T09:28:34.350442Z",
     "shell.execute_reply": "2021-03-25T09:28:34.350812Z"
    }
   },
   "outputs": [
    {
     "data": {
      "image/svg+xml": [
       "<?xml version=\"1.0\" encoding=\"UTF-8\" standalone=\"no\"?><svg xmlns=\"http://www.w3.org/2000/svg\" xmlns:xlink=\"http://www.w3.org/1999/xlink\" contentScriptType=\"application/ecmascript\" contentStyleType=\"text/css\" height=\"12px\" preserveAspectRatio=\"none\" style=\"width:12px;height:12px;\" version=\"1.1\" viewBox=\"0 0 12 12\" width=\"12px\" zoomAndPan=\"magnify\"><defs/><g><!--MD5=[19d285c9d72a204eba4e2cd117d745e8]\n",
       "@startuml\r\n",
       "left to right direction\r\n",
       "skinparam monochrome true\r\n",
       "skinparam classbackgroundcolor white\r\n",
       "skinparam shadowing false\r\n",
       "skinparam wrapWidth 300\r\n",
       "hide circle\r\n",
       "\r\n",
       "@enduml\r\n",
       "\n",
       "PlantUML version 1.2020.13(Sat Jun 13 12:26:38 UTC 2020)\n",
       "(EPL source distribution)\n",
       "Java Runtime: OpenJDK Runtime Environment\n",
       "JVM: OpenJDK 64-Bit Server VM\n",
       "Default Encoding: UTF-8\n",
       "Language: en\n",
       "Country: null\n",
       "--></g></svg>"
      ]
     },
     "execution_count": 18,
     "metadata": {},
     "output_type": "execute_result"
    }
   ],
   "source": [
    "%viz --style=\"LR\" --view=\"State\" \"ControlNodeTest\""
   ]
  },
  {
   "cell_type": "code",
   "execution_count": 19,
   "id": "bright-density",
   "metadata": {
    "execution": {
     "iopub.execute_input": "2021-03-25T09:28:34.403766Z",
     "iopub.status.busy": "2021-03-25T09:28:34.402783Z",
     "iopub.status.idle": "2021-03-25T09:28:34.433517Z",
     "shell.execute_reply": "2021-03-25T09:28:34.434020Z"
    }
   },
   "outputs": [
    {
     "data": {
      "image/svg+xml": [
       "<?xml version=\"1.0\" encoding=\"UTF-8\" standalone=\"no\"?><svg xmlns=\"http://www.w3.org/2000/svg\" xmlns:xlink=\"http://www.w3.org/1999/xlink\" contentScriptType=\"application/ecmascript\" contentStyleType=\"text/css\" height=\"60px\" preserveAspectRatio=\"none\" style=\"width:134px;height:60px;\" version=\"1.1\" viewBox=\"0 0 134 60\" width=\"134px\" zoomAndPan=\"magnify\"><defs/><g><g id=\"E1\"><a href=\"psysml:d45f0f17-f367-4b4e-a94c-d0cd962b9658\" target=\"_top\" title=\"psysml:d45f0f17-f367-4b4e-a94c-d0cd962b9658\" xlink:actuate=\"onRequest\" xlink:href=\"psysml:d45f0f17-f367-4b4e-a94c-d0cd962b9658\" xlink:show=\"new\" xlink:title=\"psysml:d45f0f17-f367-4b4e-a94c-d0cd962b9658\" xlink:type=\"simple\"><rect fill=\"#FFFFFF\" height=\"42.9375\" id=\"E1\" style=\"stroke: #383838; stroke-width: 1.5;\" width=\"116\" x=\"7\" y=\"7\"/><rect fill=\"#F8F8F8\" height=\"37.9375\" style=\"stroke: #383838; stroke-width: 1.5;\" width=\"116\" x=\"7\" y=\"7\"/><text fill=\"#000000\" font-family=\"sans-serif\" font-size=\"12\" font-style=\"italic\" lengthAdjust=\"spacingAndGlyphs\" textLength=\"77\" x=\"26.5\" y=\"23.1387\">«action def»</text><text fill=\"#000000\" font-family=\"sans-serif\" font-size=\"12\" lengthAdjust=\"spacingAndGlyphs\" textLength=\"105\" x=\"12.5\" y=\"37.1074\">ControlNodeTest</text></a></g><!--MD5=[dd71d446a5924967f36a2f710b09f865]\n",
       "@startuml\r\n",
       "skinparam ranksep 8\r\n",
       "skinparam rectangle {\r\n",
       " backgroundColor<<block>> LightGreen\r\n",
       "}\r\n",
       "left to right direction\r\n",
       "skinparam monochrome true\r\n",
       "skinparam classbackgroundcolor white\r\n",
       "skinparam shadowing false\r\n",
       "skinparam wrapWidth 300\r\n",
       "hide circle\r\n",
       "\r\n",
       "def \"ControlNodeTest\" as E1  <<(T,blue)action def>> [[psysml:d45f0f17-f367-4b4e-a94c-d0cd962b9658 ]] \r\n",
       "@enduml\r\n",
       "\n",
       "PlantUML version 1.2020.13(Sat Jun 13 12:26:38 UTC 2020)\n",
       "(EPL source distribution)\n",
       "Java Runtime: OpenJDK Runtime Environment\n",
       "JVM: OpenJDK 64-Bit Server VM\n",
       "Default Encoding: UTF-8\n",
       "Language: en\n",
       "Country: null\n",
       "--></g></svg>"
      ]
     },
     "execution_count": 19,
     "metadata": {},
     "output_type": "execute_result"
    }
   ],
   "source": [
    "%viz --style=\"LR\" --view=\"Interconnection\" \"ControlNodeTest\""
   ]
  },
  {
   "cell_type": "code",
   "execution_count": 20,
   "id": "miniature-earth",
   "metadata": {
    "execution": {
     "iopub.execute_input": "2021-03-25T09:28:34.488210Z",
     "iopub.status.busy": "2021-03-25T09:28:34.487145Z",
     "iopub.status.idle": "2021-03-25T09:28:34.587631Z",
     "shell.execute_reply": "2021-03-25T09:28:34.587262Z"
    }
   },
   "outputs": [
    {
     "data": {
      "image/svg+xml": [
       "<?xml version=\"1.0\" encoding=\"UTF-8\" standalone=\"no\"?><svg xmlns=\"http://www.w3.org/2000/svg\" xmlns:xlink=\"http://www.w3.org/1999/xlink\" contentScriptType=\"application/ecmascript\" contentStyleType=\"text/css\" height=\"593px\" preserveAspectRatio=\"none\" style=\"width:168px;height:593px;\" version=\"1.1\" viewBox=\"0 0 168 593\" width=\"168px\" zoomAndPan=\"magnify\"><defs/><g><!--MD5=[fbc87193dbaf4d95561dea2c320d4a47]\n",
       "cluster E1--><a href=\"psysml:d45f0f17-f367-4b4e-a94c-d0cd962b9658\" target=\"_top\" title=\"psysml:d45f0f17-f367-4b4e-a94c-d0cd962b9658\" xlink:actuate=\"onRequest\" xlink:href=\"psysml:d45f0f17-f367-4b4e-a94c-d0cd962b9658\" xlink:show=\"new\" xlink:title=\"psysml:d45f0f17-f367-4b4e-a94c-d0cd962b9658\" xlink:type=\"simple\"><rect fill=\"#FFFFFF\" height=\"575\" id=\"E1\" style=\"stroke: #383838; stroke-width: 1.5;\" width=\"150\" x=\"7\" y=\"7\"/><rect fill=\"#F8F8F8\" height=\"37.9375\" style=\"stroke: #383838; stroke-width: 1.5;\" width=\"150\" x=\"7\" y=\"7\"/><text fill=\"#000000\" font-family=\"sans-serif\" font-size=\"12\" font-style=\"italic\" lengthAdjust=\"spacingAndGlyphs\" textLength=\"77\" x=\"43.5\" y=\"23.1387\">«action def»</text><text fill=\"#000000\" font-family=\"sans-serif\" font-size=\"12\" lengthAdjust=\"spacingAndGlyphs\" textLength=\"105\" x=\"29.5\" y=\"37.1074\">ControlNodeTest</text></a><rect fill=\"#000000\" height=\"80\" style=\"stroke: none; stroke-width: 1.0;\" width=\"8\" x=\"78\" y=\"58\"/><rect fill=\"#000000\" height=\"80\" style=\"stroke: none; stroke-width: 1.0;\" width=\"8\" x=\"78\" y=\"173\"/><g id=\"E1.E2\"><a href=\"psysml:fdc5aa3b-ed80-41e9-a98e-ce8c422e55eb\" target=\"_top\" title=\"psysml:fdc5aa3b-ed80-41e9-a98e-ce8c422e55eb\" xlink:actuate=\"onRequest\" xlink:href=\"psysml:fdc5aa3b-ed80-41e9-a98e-ce8c422e55eb\" xlink:show=\"new\" xlink:title=\"psysml:fdc5aa3b-ed80-41e9-a98e-ce8c422e55eb\" xlink:type=\"simple\"><rect fill=\"#FFFFFF\" height=\"42.9375\" id=\"E2\" rx=\"10\" ry=\"10\" style=\"stroke: #383838; stroke-width: 1.5;\" width=\"60\" x=\"52\" y=\"288.5\"/><rect fill=\"#F8F8F8\" height=\"37.9375\" rx=\"10\" ry=\"10\" style=\"stroke: #F8F8F8; stroke-width: 1.5;\" width=\"60\" x=\"52\" y=\"288.5\"/><rect fill=\"#F8F8F8\" height=\"10\" style=\"stroke: #F8F8F8; stroke-width: 1.5;\" width=\"60\" x=\"52\" y=\"316.4375\"/><rect fill=\"none\" height=\"42.9375\" id=\"E2\" rx=\"10\" ry=\"10\" style=\"stroke: #383838; stroke-width: 1.5;\" width=\"60\" x=\"52\" y=\"288.5\"/><text fill=\"#000000\" font-family=\"sans-serif\" font-size=\"12\" font-style=\"italic\" lengthAdjust=\"spacingAndGlyphs\" textLength=\"53\" x=\"55.5\" y=\"304.6387\">«action»</text><text fill=\"#000000\" font-family=\"sans-serif\" font-size=\"12\" lengthAdjust=\"spacingAndGlyphs\" textLength=\"16\" x=\"74\" y=\"318.6074\">A1</text></a></g><g id=\"E1.E3\"><a href=\"psysml:2c991ffe-75e4-475a-bb83-43f5c2feea80\" target=\"_top\" title=\"psysml:2c991ffe-75e4-475a-bb83-43f5c2feea80\" xlink:actuate=\"onRequest\" xlink:href=\"psysml:2c991ffe-75e4-475a-bb83-43f5c2feea80\" xlink:show=\"new\" xlink:title=\"psysml:2c991ffe-75e4-475a-bb83-43f5c2feea80\" xlink:type=\"simple\"><rect fill=\"#FFFFFF\" height=\"42.9375\" id=\"E3\" rx=\"10\" ry=\"10\" style=\"stroke: #383838; stroke-width: 1.5;\" width=\"60\" x=\"52\" y=\"366.5\"/><rect fill=\"#F8F8F8\" height=\"37.9375\" rx=\"10\" ry=\"10\" style=\"stroke: #F8F8F8; stroke-width: 1.5;\" width=\"60\" x=\"52\" y=\"366.5\"/><rect fill=\"#F8F8F8\" height=\"10\" style=\"stroke: #F8F8F8; stroke-width: 1.5;\" width=\"60\" x=\"52\" y=\"394.4375\"/><rect fill=\"none\" height=\"42.9375\" id=\"E3\" rx=\"10\" ry=\"10\" style=\"stroke: #383838; stroke-width: 1.5;\" width=\"60\" x=\"52\" y=\"366.5\"/><text fill=\"#000000\" font-family=\"sans-serif\" font-size=\"12\" font-style=\"italic\" lengthAdjust=\"spacingAndGlyphs\" textLength=\"53\" x=\"55.5\" y=\"382.6387\">«action»</text><text fill=\"#000000\" font-family=\"sans-serif\" font-size=\"12\" lengthAdjust=\"spacingAndGlyphs\" textLength=\"16\" x=\"74\" y=\"396.6074\">A2</text></a></g><g id=\"E1.E6\"><a href=\"psysml:f26d7e3d-b672-461c-aa14-0bbf3d4e7737\" target=\"_top\" title=\"psysml:f26d7e3d-b672-461c-aa14-0bbf3d4e7737\" xlink:actuate=\"onRequest\" xlink:href=\"psysml:f26d7e3d-b672-461c-aa14-0bbf3d4e7737\" xlink:show=\"new\" xlink:title=\"psysml:f26d7e3d-b672-461c-aa14-0bbf3d4e7737\" xlink:type=\"simple\"><rect fill=\"#FFFFFF\" height=\"42.9375\" id=\"E6\" rx=\"10\" ry=\"10\" style=\"stroke: #383838; stroke-width: 1.5;\" width=\"60\" x=\"52\" y=\"444.5\"/><rect fill=\"#F8F8F8\" height=\"37.9375\" rx=\"10\" ry=\"10\" style=\"stroke: #F8F8F8; stroke-width: 1.5;\" width=\"60\" x=\"52\" y=\"444.5\"/><rect fill=\"#F8F8F8\" height=\"10\" style=\"stroke: #F8F8F8; stroke-width: 1.5;\" width=\"60\" x=\"52\" y=\"472.4375\"/><rect fill=\"none\" height=\"42.9375\" id=\"E6\" rx=\"10\" ry=\"10\" style=\"stroke: #383838; stroke-width: 1.5;\" width=\"60\" x=\"52\" y=\"444.5\"/><text fill=\"#000000\" font-family=\"sans-serif\" font-size=\"12\" font-style=\"italic\" lengthAdjust=\"spacingAndGlyphs\" textLength=\"53\" x=\"55.5\" y=\"460.6387\">«action»</text><text fill=\"#000000\" font-family=\"sans-serif\" font-size=\"12\" lengthAdjust=\"spacingAndGlyphs\" textLength=\"16\" x=\"74\" y=\"474.6074\">B1</text></a></g><g id=\"E1.E7\"><a href=\"psysml:f6cf6959-d08a-437c-8e4b-96dd916f2436\" target=\"_top\" title=\"psysml:f6cf6959-d08a-437c-8e4b-96dd916f2436\" xlink:actuate=\"onRequest\" xlink:href=\"psysml:f6cf6959-d08a-437c-8e4b-96dd916f2436\" xlink:show=\"new\" xlink:title=\"psysml:f6cf6959-d08a-437c-8e4b-96dd916f2436\" xlink:type=\"simple\"><rect fill=\"#FFFFFF\" height=\"42.9375\" id=\"E7\" rx=\"10\" ry=\"10\" style=\"stroke: #383838; stroke-width: 1.5;\" width=\"60\" x=\"52\" y=\"522.5\"/><rect fill=\"#F8F8F8\" height=\"37.9375\" rx=\"10\" ry=\"10\" style=\"stroke: #F8F8F8; stroke-width: 1.5;\" width=\"60\" x=\"52\" y=\"522.5\"/><rect fill=\"#F8F8F8\" height=\"10\" style=\"stroke: #F8F8F8; stroke-width: 1.5;\" width=\"60\" x=\"52\" y=\"550.4375\"/><rect fill=\"none\" height=\"42.9375\" id=\"E7\" rx=\"10\" ry=\"10\" style=\"stroke: #383838; stroke-width: 1.5;\" width=\"60\" x=\"52\" y=\"522.5\"/><text fill=\"#000000\" font-family=\"sans-serif\" font-size=\"12\" font-style=\"italic\" lengthAdjust=\"spacingAndGlyphs\" textLength=\"53\" x=\"55.5\" y=\"538.6387\">«action»</text><text fill=\"#000000\" font-family=\"sans-serif\" font-size=\"12\" lengthAdjust=\"spacingAndGlyphs\" textLength=\"16\" x=\"74\" y=\"552.6074\">B2</text></a></g><!--MD5=[91986d430e17c76643de33d4b63f0dcd]\n",
       "@startuml\r\n",
       "skinparam ranksep 8\r\n",
       "left to right direction\r\n",
       "skinparam monochrome true\r\n",
       "skinparam classbackgroundcolor white\r\n",
       "skinparam shadowing false\r\n",
       "skinparam wrapWidth 300\r\n",
       "hide circle\r\n",
       "\r\n",
       "rec def \"ControlNodeTest\" as E1  <<(T,blue)action def>> [[psysml:d45f0f17-f367-4b4e-a94c-d0cd962b9658 ]] {\r\n",
       "rec usage \"A1\" as E2  <<(T,blue)action>> [[psysml:fdc5aa3b-ed80-41e9-a98e-ce8c422e55eb ]] {\r\n",
       "}\r\n",
       "\r\n",
       "rec usage \"A2\" as E3  <<(T,blue)action>> [[psysml:2c991ffe-75e4-475a-bb83-43f5c2feea80 ]] {\r\n",
       "}\r\n",
       "\r\n",
       "join \"J\" as E4  [[psysml:5dc91872-c5b7-4d29-9265-55786a5f23d3 ]] \r\n",
       "fork \"F\" as E5  [[psysml:32073807-3d0f-4273-9610-bcad2a0739d7 ]] \r\n",
       "rec usage \"B1\" as E6  <<(T,blue)action>> [[psysml:f26d7e3d-b672-461c-aa14-0bbf3d4e7737 ]] {\r\n",
       "}\r\n",
       "\r\n",
       "rec usage \"B2\" as E7  <<(T,blue)action>> [[psysml:f6cf6959-d08a-437c-8e4b-96dd916f2436 ]] {\r\n",
       "}\r\n",
       "\r\n",
       "}\r\n",
       "\r\n",
       "@enduml\r\n",
       "\n",
       "PlantUML version 1.2020.13(Sat Jun 13 12:26:38 UTC 2020)\n",
       "(EPL source distribution)\n",
       "Java Runtime: OpenJDK Runtime Environment\n",
       "JVM: OpenJDK 64-Bit Server VM\n",
       "Default Encoding: UTF-8\n",
       "Language: en\n",
       "Country: null\n",
       "--></g></svg>"
      ]
     },
     "execution_count": 20,
     "metadata": {},
     "output_type": "execute_result"
    }
   ],
   "source": [
    "%viz --style=\"LR\" --view=\"Action\" \"ControlNodeTest\""
   ]
  },
  {
   "cell_type": "code",
   "execution_count": 21,
   "id": "formed-warren",
   "metadata": {
    "execution": {
     "iopub.execute_input": "2021-03-25T09:28:34.641589Z",
     "iopub.status.busy": "2021-03-25T09:28:34.640548Z",
     "iopub.status.idle": "2021-03-25T09:28:34.884887Z",
     "shell.execute_reply": "2021-03-25T09:28:34.885338Z"
    }
   },
   "outputs": [
    {
     "data": {
      "image/svg+xml": [
       "<?xml version=\"1.0\" encoding=\"UTF-8\" standalone=\"no\"?><svg xmlns=\"http://www.w3.org/2000/svg\" xmlns:xlink=\"http://www.w3.org/1999/xlink\" contentScriptType=\"application/ecmascript\" contentStyleType=\"text/css\" height=\"191px\" preserveAspectRatio=\"none\" style=\"width:129px;height:191px;\" version=\"1.1\" viewBox=\"0 0 129 191\" width=\"129px\" zoomAndPan=\"magnify\"><defs/><g><!--MD5=[43c9051892ef23e1a46a86907403d788]\n",
       "class E1--><a href=\"psysml:d45f0f17-f367-4b4e-a94c-d0cd962b9658\" target=\"_top\" title=\"psysml:d45f0f17-f367-4b4e-a94c-d0cd962b9658\" xlink:actuate=\"onRequest\" xlink:href=\"psysml:d45f0f17-f367-4b4e-a94c-d0cd962b9658\" xlink:show=\"new\" xlink:title=\"psysml:d45f0f17-f367-4b4e-a94c-d0cd962b9658\" xlink:type=\"simple\"><rect fill=\"#FFFFFF\" height=\"173.1797\" id=\"E1\" style=\"stroke: #383838; stroke-width: 1.5;\" width=\"111\" x=\"7\" y=\"7\"/><text fill=\"#000000\" font-family=\"sans-serif\" font-size=\"12\" font-style=\"italic\" lengthAdjust=\"spacingAndGlyphs\" textLength=\"77\" x=\"24\" y=\"23.1387\">«action def»</text><text fill=\"#000000\" font-family=\"sans-serif\" font-size=\"12\" lengthAdjust=\"spacingAndGlyphs\" textLength=\"105\" x=\"10\" y=\"37.1074\">ControlNodeTest</text><line style=\"stroke: #383838; stroke-width: 1.5;\" x1=\"8\" x2=\"117\" y1=\"44.9375\" y2=\"44.9375\"/><text fill=\"#000000\" font-family=\"sans-serif\" font-size=\"11\" lengthAdjust=\"spacingAndGlyphs\" textLength=\"14\" x=\"13\" y=\"75.9526\">A1</text><text fill=\"#000000\" font-family=\"sans-serif\" font-size=\"11\" lengthAdjust=\"spacingAndGlyphs\" textLength=\"14\" x=\"13\" y=\"88.7573\">A2</text><text fill=\"#000000\" font-family=\"sans-serif\" font-size=\"11\" lengthAdjust=\"spacingAndGlyphs\" textLength=\"15\" x=\"13\" y=\"101.562\">B1</text><text fill=\"#000000\" font-family=\"sans-serif\" font-size=\"11\" lengthAdjust=\"spacingAndGlyphs\" textLength=\"15\" x=\"13\" y=\"114.3667\">B2</text><line style=\"stroke: #383838; stroke-width: 1.0;\" x1=\"8\" x2=\"42\" y1=\"59.3398\" y2=\"59.3398\"/><text fill=\"#000000\" font-family=\"sans-serif\" font-size=\"11\" lengthAdjust=\"spacingAndGlyphs\" textLength=\"41\" x=\"42\" y=\"62.6479\">actions</text><line style=\"stroke: #383838; stroke-width: 1.0;\" x1=\"83\" x2=\"117\" y1=\"59.3398\" y2=\"59.3398\"/><text fill=\"#000000\" font-family=\"sans-serif\" font-size=\"11\" lengthAdjust=\"spacingAndGlyphs\" textLength=\"6\" x=\"13\" y=\"143.9761\">F</text><line style=\"stroke: #383838; stroke-width: 1.0;\" x1=\"8\" x2=\"33.5\" y1=\"127.3633\" y2=\"127.3633\"/><text fill=\"#000000\" font-family=\"sans-serif\" font-size=\"11\" lengthAdjust=\"spacingAndGlyphs\" textLength=\"58\" x=\"33.5\" y=\"130.6714\">forkNodes</text><line style=\"stroke: #383838; stroke-width: 1.0;\" x1=\"91.5\" x2=\"117\" y1=\"127.3633\" y2=\"127.3633\"/><text fill=\"#000000\" font-family=\"sans-serif\" font-size=\"11\" lengthAdjust=\"spacingAndGlyphs\" textLength=\"3\" x=\"13\" y=\"173.5854\">J</text><line style=\"stroke: #383838; stroke-width: 1.0;\" x1=\"8\" x2=\"34.5\" y1=\"156.9727\" y2=\"156.9727\"/><text fill=\"#000000\" font-family=\"sans-serif\" font-size=\"11\" lengthAdjust=\"spacingAndGlyphs\" textLength=\"56\" x=\"34.5\" y=\"160.2808\">joinNodes</text><line style=\"stroke: #383838; stroke-width: 1.0;\" x1=\"90.5\" x2=\"117\" y1=\"156.9727\" y2=\"156.9727\"/></a><!--MD5=[35ba060651ad60bd49a0ae703c802502]\n",
       "@startuml\r\n",
       "left to right direction\r\n",
       "skinparam monochrome true\r\n",
       "skinparam classbackgroundcolor white\r\n",
       "skinparam shadowing false\r\n",
       "skinparam wrapWidth 300\r\n",
       "hide circle\r\n",
       "\r\n",
       "comp def \"ControlNodeTest\" as E1  <<(T,blue)action def>> [[psysml:d45f0f17-f367-4b4e-a94c-d0cd962b9658 ]] {\r\n",
       "- - actions - -\r\n",
       "A1\r\n",
       "A2\r\n",
       "B1\r\n",
       "B2\r\n",
       "- - forkNodes - -\r\n",
       "F\r\n",
       "- - joinNodes - -\r\n",
       "J\r\n",
       "}\r\n",
       "@enduml\r\n",
       "\n",
       "PlantUML version 1.2020.13(Sat Jun 13 12:26:38 UTC 2020)\n",
       "(EPL source distribution)\n",
       "Java Runtime: OpenJDK Runtime Environment\n",
       "JVM: OpenJDK 64-Bit Server VM\n",
       "Default Encoding: UTF-8\n",
       "Language: en\n",
       "Country: null\n",
       "--></g></svg>"
      ]
     },
     "execution_count": 21,
     "metadata": {},
     "output_type": "execute_result"
    }
   ],
   "source": [
    "%viz --style=\"LR\" --view=\"Sequence\" \"ControlNodeTest\""
   ]
  },
  {
   "cell_type": "code",
   "execution_count": 22,
   "id": "rational-prerequisite",
   "metadata": {
    "execution": {
     "iopub.execute_input": "2021-03-25T09:28:34.937548Z",
     "iopub.status.busy": "2021-03-25T09:28:34.936934Z",
     "iopub.status.idle": "2021-03-25T09:28:35.037581Z",
     "shell.execute_reply": "2021-03-25T09:28:35.036124Z"
    }
   },
   "outputs": [
    {
     "data": {
      "image/svg+xml": [
       "<?xml version=\"1.0\" encoding=\"UTF-8\" standalone=\"no\"?><svg xmlns=\"http://www.w3.org/2000/svg\" xmlns:xlink=\"http://www.w3.org/1999/xlink\" contentScriptType=\"application/ecmascript\" contentStyleType=\"text/css\" height=\"593px\" preserveAspectRatio=\"none\" style=\"width:168px;height:593px;\" version=\"1.1\" viewBox=\"0 0 168 593\" width=\"168px\" zoomAndPan=\"magnify\"><defs/><g><!--MD5=[fbc87193dbaf4d95561dea2c320d4a47]\n",
       "cluster E1--><a href=\"psysml:d45f0f17-f367-4b4e-a94c-d0cd962b9658\" target=\"_top\" title=\"psysml:d45f0f17-f367-4b4e-a94c-d0cd962b9658\" xlink:actuate=\"onRequest\" xlink:href=\"psysml:d45f0f17-f367-4b4e-a94c-d0cd962b9658\" xlink:show=\"new\" xlink:title=\"psysml:d45f0f17-f367-4b4e-a94c-d0cd962b9658\" xlink:type=\"simple\"><rect fill=\"#FFFFFF\" height=\"575\" id=\"E1\" style=\"stroke: #383838; stroke-width: 1.5;\" width=\"150\" x=\"7\" y=\"7\"/><rect fill=\"#F8F8F8\" height=\"37.9375\" style=\"stroke: #383838; stroke-width: 1.5;\" width=\"150\" x=\"7\" y=\"7\"/><text fill=\"#000000\" font-family=\"sans-serif\" font-size=\"12\" font-style=\"italic\" lengthAdjust=\"spacingAndGlyphs\" textLength=\"77\" x=\"43.5\" y=\"23.1387\">«action def»</text><text fill=\"#000000\" font-family=\"sans-serif\" font-size=\"12\" lengthAdjust=\"spacingAndGlyphs\" textLength=\"105\" x=\"29.5\" y=\"37.1074\">ControlNodeTest</text></a><rect fill=\"#000000\" height=\"80\" style=\"stroke: none; stroke-width: 1.0;\" width=\"8\" x=\"78\" y=\"58\"/><rect fill=\"#000000\" height=\"80\" style=\"stroke: none; stroke-width: 1.0;\" width=\"8\" x=\"78\" y=\"173\"/><g id=\"E1.E2\"><a href=\"psysml:fdc5aa3b-ed80-41e9-a98e-ce8c422e55eb\" target=\"_top\" title=\"psysml:fdc5aa3b-ed80-41e9-a98e-ce8c422e55eb\" xlink:actuate=\"onRequest\" xlink:href=\"psysml:fdc5aa3b-ed80-41e9-a98e-ce8c422e55eb\" xlink:show=\"new\" xlink:title=\"psysml:fdc5aa3b-ed80-41e9-a98e-ce8c422e55eb\" xlink:type=\"simple\"><rect fill=\"#FFFFFF\" height=\"42.9375\" id=\"E2\" rx=\"10\" ry=\"10\" style=\"stroke: #383838; stroke-width: 1.5;\" width=\"60\" x=\"52\" y=\"288.5\"/><rect fill=\"#F8F8F8\" height=\"37.9375\" rx=\"10\" ry=\"10\" style=\"stroke: #F8F8F8; stroke-width: 1.5;\" width=\"60\" x=\"52\" y=\"288.5\"/><rect fill=\"#F8F8F8\" height=\"10\" style=\"stroke: #F8F8F8; stroke-width: 1.5;\" width=\"60\" x=\"52\" y=\"316.4375\"/><rect fill=\"none\" height=\"42.9375\" id=\"E2\" rx=\"10\" ry=\"10\" style=\"stroke: #383838; stroke-width: 1.5;\" width=\"60\" x=\"52\" y=\"288.5\"/><text fill=\"#000000\" font-family=\"sans-serif\" font-size=\"12\" font-style=\"italic\" lengthAdjust=\"spacingAndGlyphs\" textLength=\"53\" x=\"55.5\" y=\"304.6387\">«action»</text><text fill=\"#000000\" font-family=\"sans-serif\" font-size=\"12\" lengthAdjust=\"spacingAndGlyphs\" textLength=\"16\" x=\"74\" y=\"318.6074\">A1</text></a></g><g id=\"E1.E3\"><a href=\"psysml:2c991ffe-75e4-475a-bb83-43f5c2feea80\" target=\"_top\" title=\"psysml:2c991ffe-75e4-475a-bb83-43f5c2feea80\" xlink:actuate=\"onRequest\" xlink:href=\"psysml:2c991ffe-75e4-475a-bb83-43f5c2feea80\" xlink:show=\"new\" xlink:title=\"psysml:2c991ffe-75e4-475a-bb83-43f5c2feea80\" xlink:type=\"simple\"><rect fill=\"#FFFFFF\" height=\"42.9375\" id=\"E3\" rx=\"10\" ry=\"10\" style=\"stroke: #383838; stroke-width: 1.5;\" width=\"60\" x=\"52\" y=\"366.5\"/><rect fill=\"#F8F8F8\" height=\"37.9375\" rx=\"10\" ry=\"10\" style=\"stroke: #F8F8F8; stroke-width: 1.5;\" width=\"60\" x=\"52\" y=\"366.5\"/><rect fill=\"#F8F8F8\" height=\"10\" style=\"stroke: #F8F8F8; stroke-width: 1.5;\" width=\"60\" x=\"52\" y=\"394.4375\"/><rect fill=\"none\" height=\"42.9375\" id=\"E3\" rx=\"10\" ry=\"10\" style=\"stroke: #383838; stroke-width: 1.5;\" width=\"60\" x=\"52\" y=\"366.5\"/><text fill=\"#000000\" font-family=\"sans-serif\" font-size=\"12\" font-style=\"italic\" lengthAdjust=\"spacingAndGlyphs\" textLength=\"53\" x=\"55.5\" y=\"382.6387\">«action»</text><text fill=\"#000000\" font-family=\"sans-serif\" font-size=\"12\" lengthAdjust=\"spacingAndGlyphs\" textLength=\"16\" x=\"74\" y=\"396.6074\">A2</text></a></g><g id=\"E1.E6\"><a href=\"psysml:f26d7e3d-b672-461c-aa14-0bbf3d4e7737\" target=\"_top\" title=\"psysml:f26d7e3d-b672-461c-aa14-0bbf3d4e7737\" xlink:actuate=\"onRequest\" xlink:href=\"psysml:f26d7e3d-b672-461c-aa14-0bbf3d4e7737\" xlink:show=\"new\" xlink:title=\"psysml:f26d7e3d-b672-461c-aa14-0bbf3d4e7737\" xlink:type=\"simple\"><rect fill=\"#FFFFFF\" height=\"42.9375\" id=\"E6\" rx=\"10\" ry=\"10\" style=\"stroke: #383838; stroke-width: 1.5;\" width=\"60\" x=\"52\" y=\"444.5\"/><rect fill=\"#F8F8F8\" height=\"37.9375\" rx=\"10\" ry=\"10\" style=\"stroke: #F8F8F8; stroke-width: 1.5;\" width=\"60\" x=\"52\" y=\"444.5\"/><rect fill=\"#F8F8F8\" height=\"10\" style=\"stroke: #F8F8F8; stroke-width: 1.5;\" width=\"60\" x=\"52\" y=\"472.4375\"/><rect fill=\"none\" height=\"42.9375\" id=\"E6\" rx=\"10\" ry=\"10\" style=\"stroke: #383838; stroke-width: 1.5;\" width=\"60\" x=\"52\" y=\"444.5\"/><text fill=\"#000000\" font-family=\"sans-serif\" font-size=\"12\" font-style=\"italic\" lengthAdjust=\"spacingAndGlyphs\" textLength=\"53\" x=\"55.5\" y=\"460.6387\">«action»</text><text fill=\"#000000\" font-family=\"sans-serif\" font-size=\"12\" lengthAdjust=\"spacingAndGlyphs\" textLength=\"16\" x=\"74\" y=\"474.6074\">B1</text></a></g><g id=\"E1.E7\"><a href=\"psysml:f6cf6959-d08a-437c-8e4b-96dd916f2436\" target=\"_top\" title=\"psysml:f6cf6959-d08a-437c-8e4b-96dd916f2436\" xlink:actuate=\"onRequest\" xlink:href=\"psysml:f6cf6959-d08a-437c-8e4b-96dd916f2436\" xlink:show=\"new\" xlink:title=\"psysml:f6cf6959-d08a-437c-8e4b-96dd916f2436\" xlink:type=\"simple\"><rect fill=\"#FFFFFF\" height=\"42.9375\" id=\"E7\" rx=\"10\" ry=\"10\" style=\"stroke: #383838; stroke-width: 1.5;\" width=\"60\" x=\"52\" y=\"522.5\"/><rect fill=\"#F8F8F8\" height=\"37.9375\" rx=\"10\" ry=\"10\" style=\"stroke: #F8F8F8; stroke-width: 1.5;\" width=\"60\" x=\"52\" y=\"522.5\"/><rect fill=\"#F8F8F8\" height=\"10\" style=\"stroke: #F8F8F8; stroke-width: 1.5;\" width=\"60\" x=\"52\" y=\"550.4375\"/><rect fill=\"none\" height=\"42.9375\" id=\"E7\" rx=\"10\" ry=\"10\" style=\"stroke: #383838; stroke-width: 1.5;\" width=\"60\" x=\"52\" y=\"522.5\"/><text fill=\"#000000\" font-family=\"sans-serif\" font-size=\"12\" font-style=\"italic\" lengthAdjust=\"spacingAndGlyphs\" textLength=\"53\" x=\"55.5\" y=\"538.6387\">«action»</text><text fill=\"#000000\" font-family=\"sans-serif\" font-size=\"12\" lengthAdjust=\"spacingAndGlyphs\" textLength=\"16\" x=\"74\" y=\"552.6074\">B2</text></a></g><!--MD5=[c78cae00dcd69d083d9c3f7245dd86ed]\n",
       "@startuml\r\n",
       "left to right direction\r\n",
       "skinparam monochrome true\r\n",
       "skinparam classbackgroundcolor white\r\n",
       "skinparam shadowing false\r\n",
       "skinparam wrapWidth 300\r\n",
       "hide circle\r\n",
       "\r\n",
       "rec def \"ControlNodeTest\" as E1  <<(T,blue)action def>> [[psysml:d45f0f17-f367-4b4e-a94c-d0cd962b9658 ]] {\r\n",
       "rec usage \"A1\" as E2  <<(T,blue)action>> [[psysml:fdc5aa3b-ed80-41e9-a98e-ce8c422e55eb ]] {\r\n",
       "}\r\n",
       "\r\n",
       "rec usage \"A2\" as E3  <<(T,blue)action>> [[psysml:2c991ffe-75e4-475a-bb83-43f5c2feea80 ]] {\r\n",
       "}\r\n",
       "\r\n",
       "join \"J\" as E4  [[psysml:5dc91872-c5b7-4d29-9265-55786a5f23d3 ]] \r\n",
       "fork \"F\" as E5  [[psysml:32073807-3d0f-4273-9610-bcad2a0739d7 ]] \r\n",
       "rec usage \"B1\" as E6  <<(T,blue)action>> [[psysml:f26d7e3d-b672-461c-aa14-0bbf3d4e7737 ]] {\r\n",
       "}\r\n",
       "\r\n",
       "rec usage \"B2\" as E7  <<(T,blue)action>> [[psysml:f6cf6959-d08a-437c-8e4b-96dd916f2436 ]] {\r\n",
       "}\r\n",
       "\r\n",
       "}\r\n",
       "\r\n",
       "@enduml\r\n",
       "\n",
       "PlantUML version 1.2020.13(Sat Jun 13 12:26:38 UTC 2020)\n",
       "(EPL source distribution)\n",
       "Java Runtime: OpenJDK Runtime Environment\n",
       "JVM: OpenJDK 64-Bit Server VM\n",
       "Default Encoding: UTF-8\n",
       "Language: en\n",
       "Country: null\n",
       "--></g></svg>"
      ]
     },
     "execution_count": 22,
     "metadata": {},
     "output_type": "execute_result"
    }
   ],
   "source": [
    "%viz --style=\"LR\" --view=\"MIXED\" \"ControlNodeTest\""
   ]
  },
  {
   "cell_type": "code",
   "execution_count": 23,
   "id": "stretch-transition",
   "metadata": {
    "execution": {
     "iopub.execute_input": "2021-03-25T09:28:35.088670Z",
     "iopub.status.busy": "2021-03-25T09:28:35.087988Z",
     "iopub.status.idle": "2021-03-25T09:28:35.182747Z",
     "shell.execute_reply": "2021-03-25T09:28:35.183181Z"
    }
   },
   "outputs": [
    {
     "data": {
      "image/svg+xml": [
       "<?xml version=\"1.0\" encoding=\"UTF-8\" standalone=\"no\"?><svg xmlns=\"http://www.w3.org/2000/svg\" xmlns:xlink=\"http://www.w3.org/1999/xlink\" contentScriptType=\"application/ecmascript\" contentStyleType=\"text/css\" height=\"136px\" preserveAspectRatio=\"none\" style=\"width:633px;height:136px;\" version=\"1.1\" viewBox=\"0 0 633 136\" width=\"633px\" zoomAndPan=\"magnify\"><defs><filter height=\"300%\" id=\"f16o7pwhbfzwuo\" width=\"300%\" x=\"-1\" y=\"-1\"><feGaussianBlur result=\"blurOut\" stdDeviation=\"2.0\"/><feColorMatrix in=\"blurOut\" result=\"blurOut2\" type=\"matrix\" values=\"0 0 0 0 0 0 0 0 0 0 0 0 0 0 0 0 0 0 .4 0\"/><feOffset dx=\"4.0\" dy=\"4.0\" in=\"blurOut2\" result=\"blurOut3\"/><feBlend in=\"SourceGraphic\" in2=\"blurOut3\" mode=\"normal\"/></filter></defs><g><!--MD5=[fbc87193dbaf4d95561dea2c320d4a47]\n",
       "cluster E1--><a href=\"psysml:d45f0f17-f367-4b4e-a94c-d0cd962b9658\" target=\"_top\" title=\"psysml:d45f0f17-f367-4b4e-a94c-d0cd962b9658\" xlink:actuate=\"onRequest\" xlink:href=\"psysml:d45f0f17-f367-4b4e-a94c-d0cd962b9658\" xlink:show=\"new\" xlink:title=\"psysml:d45f0f17-f367-4b4e-a94c-d0cd962b9658\" xlink:type=\"simple\"><rect fill=\"#FFFFFF\" filter=\"url(#f16o7pwhbfzwuo)\" height=\"110\" id=\"E1\" style=\"stroke: #A80036; stroke-width: 1.5;\" width=\"607\" x=\"7\" y=\"7\"/><rect fill=\"#FEFECE\" height=\"37.9375\" style=\"stroke: #A80036; stroke-width: 1.5;\" width=\"607\" x=\"7\" y=\"7\"/><text fill=\"#000000\" font-family=\"sans-serif\" font-size=\"12\" font-style=\"italic\" lengthAdjust=\"spacingAndGlyphs\" textLength=\"77\" x=\"272\" y=\"23.1387\">«action def»</text><text fill=\"#000000\" font-family=\"sans-serif\" font-size=\"12\" lengthAdjust=\"spacingAndGlyphs\" textLength=\"105\" x=\"258\" y=\"37.1074\">ControlNodeTest</text></a><rect fill=\"#000000\" filter=\"url(#f16o7pwhbfzwuo)\" height=\"8\" style=\"stroke: none; stroke-width: 1.0;\" width=\"80\" x=\"518\" y=\"75.5\"/><rect fill=\"#000000\" filter=\"url(#f16o7pwhbfzwuo)\" height=\"8\" style=\"stroke: none; stroke-width: 1.0;\" width=\"80\" x=\"403\" y=\"75.5\"/><g id=\"E1.E2\"><a href=\"psysml:fdc5aa3b-ed80-41e9-a98e-ce8c422e55eb\" target=\"_top\" title=\"psysml:fdc5aa3b-ed80-41e9-a98e-ce8c422e55eb\" xlink:actuate=\"onRequest\" xlink:href=\"psysml:fdc5aa3b-ed80-41e9-a98e-ce8c422e55eb\" xlink:show=\"new\" xlink:title=\"psysml:fdc5aa3b-ed80-41e9-a98e-ce8c422e55eb\" xlink:type=\"simple\"><rect fill=\"#FEFECE\" filter=\"url(#f16o7pwhbfzwuo)\" height=\"42.9375\" id=\"E2\" rx=\"10\" ry=\"10\" style=\"stroke: #A80036; stroke-width: 1.5;\" width=\"60\" x=\"308\" y=\"58\"/><text fill=\"#000000\" font-family=\"sans-serif\" font-size=\"12\" font-style=\"italic\" lengthAdjust=\"spacingAndGlyphs\" textLength=\"53\" x=\"311.5\" y=\"74.1387\">«action»</text><text fill=\"#000000\" font-family=\"sans-serif\" font-size=\"12\" lengthAdjust=\"spacingAndGlyphs\" textLength=\"16\" x=\"330\" y=\"88.1074\">A1</text></a></g><g id=\"E1.E3\"><a href=\"psysml:2c991ffe-75e4-475a-bb83-43f5c2feea80\" target=\"_top\" title=\"psysml:2c991ffe-75e4-475a-bb83-43f5c2feea80\" xlink:actuate=\"onRequest\" xlink:href=\"psysml:2c991ffe-75e4-475a-bb83-43f5c2feea80\" xlink:show=\"new\" xlink:title=\"psysml:2c991ffe-75e4-475a-bb83-43f5c2feea80\" xlink:type=\"simple\"><rect fill=\"#FEFECE\" filter=\"url(#f16o7pwhbfzwuo)\" height=\"42.9375\" id=\"E3\" rx=\"10\" ry=\"10\" style=\"stroke: #A80036; stroke-width: 1.5;\" width=\"60\" x=\"213\" y=\"58\"/><text fill=\"#000000\" font-family=\"sans-serif\" font-size=\"12\" font-style=\"italic\" lengthAdjust=\"spacingAndGlyphs\" textLength=\"53\" x=\"216.5\" y=\"74.1387\">«action»</text><text fill=\"#000000\" font-family=\"sans-serif\" font-size=\"12\" lengthAdjust=\"spacingAndGlyphs\" textLength=\"16\" x=\"235\" y=\"88.1074\">A2</text></a></g><g id=\"E1.E6\"><a href=\"psysml:f26d7e3d-b672-461c-aa14-0bbf3d4e7737\" target=\"_top\" title=\"psysml:f26d7e3d-b672-461c-aa14-0bbf3d4e7737\" xlink:actuate=\"onRequest\" xlink:href=\"psysml:f26d7e3d-b672-461c-aa14-0bbf3d4e7737\" xlink:show=\"new\" xlink:title=\"psysml:f26d7e3d-b672-461c-aa14-0bbf3d4e7737\" xlink:type=\"simple\"><rect fill=\"#FEFECE\" filter=\"url(#f16o7pwhbfzwuo)\" height=\"42.9375\" id=\"E6\" rx=\"10\" ry=\"10\" style=\"stroke: #A80036; stroke-width: 1.5;\" width=\"60\" x=\"118\" y=\"58\"/><text fill=\"#000000\" font-family=\"sans-serif\" font-size=\"12\" font-style=\"italic\" lengthAdjust=\"spacingAndGlyphs\" textLength=\"53\" x=\"121.5\" y=\"74.1387\">«action»</text><text fill=\"#000000\" font-family=\"sans-serif\" font-size=\"12\" lengthAdjust=\"spacingAndGlyphs\" textLength=\"16\" x=\"140\" y=\"88.1074\">B1</text></a></g><g id=\"E1.E7\"><a href=\"psysml:f6cf6959-d08a-437c-8e4b-96dd916f2436\" target=\"_top\" title=\"psysml:f6cf6959-d08a-437c-8e4b-96dd916f2436\" xlink:actuate=\"onRequest\" xlink:href=\"psysml:f6cf6959-d08a-437c-8e4b-96dd916f2436\" xlink:show=\"new\" xlink:title=\"psysml:f6cf6959-d08a-437c-8e4b-96dd916f2436\" xlink:type=\"simple\"><rect fill=\"#FEFECE\" filter=\"url(#f16o7pwhbfzwuo)\" height=\"42.9375\" id=\"E7\" rx=\"10\" ry=\"10\" style=\"stroke: #A80036; stroke-width: 1.5;\" width=\"60\" x=\"23\" y=\"58\"/><text fill=\"#000000\" font-family=\"sans-serif\" font-size=\"12\" font-style=\"italic\" lengthAdjust=\"spacingAndGlyphs\" textLength=\"53\" x=\"26.5\" y=\"74.1387\">«action»</text><text fill=\"#000000\" font-family=\"sans-serif\" font-size=\"12\" lengthAdjust=\"spacingAndGlyphs\" textLength=\"16\" x=\"45\" y=\"88.1074\">B2</text></a></g><!--MD5=[8edb94fe3f5aa6abcef8b7d79d5147fb]\n",
       "@startuml\r\n",
       "skinparam wrapWidth 300\r\n",
       "hide circle\r\n",
       "\r\n",
       "rec def \"ControlNodeTest\" as E1  <<(T,blue)action def>> [[psysml:d45f0f17-f367-4b4e-a94c-d0cd962b9658 ]] {\r\n",
       "rec usage \"A1\" as E2  <<(T,blue)action>> [[psysml:fdc5aa3b-ed80-41e9-a98e-ce8c422e55eb ]] {\r\n",
       "}\r\n",
       "\r\n",
       "rec usage \"A2\" as E3  <<(T,blue)action>> [[psysml:2c991ffe-75e4-475a-bb83-43f5c2feea80 ]] {\r\n",
       "}\r\n",
       "\r\n",
       "join \"J\" as E4  [[psysml:5dc91872-c5b7-4d29-9265-55786a5f23d3 ]] \r\n",
       "fork \"F\" as E5  [[psysml:32073807-3d0f-4273-9610-bcad2a0739d7 ]] \r\n",
       "rec usage \"B1\" as E6  <<(T,blue)action>> [[psysml:f26d7e3d-b672-461c-aa14-0bbf3d4e7737 ]] {\r\n",
       "}\r\n",
       "\r\n",
       "rec usage \"B2\" as E7  <<(T,blue)action>> [[psysml:f6cf6959-d08a-437c-8e4b-96dd916f2436 ]] {\r\n",
       "}\r\n",
       "\r\n",
       "}\r\n",
       "\r\n",
       "@enduml\r\n",
       "\n",
       "PlantUML version 1.2020.13(Sat Jun 13 12:26:38 UTC 2020)\n",
       "(EPL source distribution)\n",
       "Java Runtime: OpenJDK Runtime Environment\n",
       "JVM: OpenJDK 64-Bit Server VM\n",
       "Default Encoding: UTF-8\n",
       "Language: en\n",
       "Country: null\n",
       "--></g></svg>"
      ]
     },
     "execution_count": 23,
     "metadata": {},
     "output_type": "execute_result"
    }
   ],
   "source": [
    "%viz --style=\"STDCOLOR\" --view=\"Default\" \"ControlNodeTest\""
   ]
  },
  {
   "cell_type": "code",
   "execution_count": 24,
   "id": "muslim-aircraft",
   "metadata": {
    "execution": {
     "iopub.execute_input": "2021-03-25T09:28:35.234655Z",
     "iopub.status.busy": "2021-03-25T09:28:35.234106Z",
     "iopub.status.idle": "2021-03-25T09:28:35.471774Z",
     "shell.execute_reply": "2021-03-25T09:28:35.471432Z"
    }
   },
   "outputs": [
    {
     "data": {
      "image/svg+xml": [
       "<?xml version=\"1.0\" encoding=\"UTF-8\" standalone=\"no\"?><svg xmlns=\"http://www.w3.org/2000/svg\" xmlns:xlink=\"http://www.w3.org/1999/xlink\" contentScriptType=\"application/ecmascript\" contentStyleType=\"text/css\" height=\"199px\" preserveAspectRatio=\"none\" style=\"width:137px;height:199px;\" version=\"1.1\" viewBox=\"0 0 137 199\" width=\"137px\" zoomAndPan=\"magnify\"><defs><filter height=\"300%\" id=\"f9h5dvmybgim\" width=\"300%\" x=\"-1\" y=\"-1\"><feGaussianBlur result=\"blurOut\" stdDeviation=\"2.0\"/><feColorMatrix in=\"blurOut\" result=\"blurOut2\" type=\"matrix\" values=\"0 0 0 0 0 0 0 0 0 0 0 0 0 0 0 0 0 0 .4 0\"/><feOffset dx=\"4.0\" dy=\"4.0\" in=\"blurOut2\" result=\"blurOut3\"/><feBlend in=\"SourceGraphic\" in2=\"blurOut3\" mode=\"normal\"/></filter></defs><g><!--MD5=[43c9051892ef23e1a46a86907403d788]\n",
       "class E1--><a href=\"psysml:d45f0f17-f367-4b4e-a94c-d0cd962b9658\" target=\"_top\" title=\"psysml:d45f0f17-f367-4b4e-a94c-d0cd962b9658\" xlink:actuate=\"onRequest\" xlink:href=\"psysml:d45f0f17-f367-4b4e-a94c-d0cd962b9658\" xlink:show=\"new\" xlink:title=\"psysml:d45f0f17-f367-4b4e-a94c-d0cd962b9658\" xlink:type=\"simple\"><rect fill=\"#FEFECE\" filter=\"url(#f9h5dvmybgim)\" height=\"173.1797\" id=\"E1\" style=\"stroke: #A80036; stroke-width: 1.5;\" width=\"111\" x=\"7\" y=\"7\"/><text fill=\"#000000\" font-family=\"sans-serif\" font-size=\"12\" font-style=\"italic\" lengthAdjust=\"spacingAndGlyphs\" textLength=\"77\" x=\"24\" y=\"23.1387\">«action def»</text><text fill=\"#000000\" font-family=\"sans-serif\" font-size=\"12\" lengthAdjust=\"spacingAndGlyphs\" textLength=\"105\" x=\"10\" y=\"37.1074\">ControlNodeTest</text><line style=\"stroke: #A80036; stroke-width: 1.5;\" x1=\"8\" x2=\"117\" y1=\"44.9375\" y2=\"44.9375\"/><text fill=\"#000000\" font-family=\"sans-serif\" font-size=\"11\" lengthAdjust=\"spacingAndGlyphs\" textLength=\"14\" x=\"13\" y=\"75.9526\">A1</text><text fill=\"#000000\" font-family=\"sans-serif\" font-size=\"11\" lengthAdjust=\"spacingAndGlyphs\" textLength=\"14\" x=\"13\" y=\"88.7573\">A2</text><text fill=\"#000000\" font-family=\"sans-serif\" font-size=\"11\" lengthAdjust=\"spacingAndGlyphs\" textLength=\"15\" x=\"13\" y=\"101.562\">B1</text><text fill=\"#000000\" font-family=\"sans-serif\" font-size=\"11\" lengthAdjust=\"spacingAndGlyphs\" textLength=\"15\" x=\"13\" y=\"114.3667\">B2</text><line style=\"stroke: #A80036; stroke-width: 1.0;\" x1=\"8\" x2=\"42\" y1=\"59.3398\" y2=\"59.3398\"/><text fill=\"#000000\" font-family=\"sans-serif\" font-size=\"11\" lengthAdjust=\"spacingAndGlyphs\" textLength=\"41\" x=\"42\" y=\"62.6479\">actions</text><line style=\"stroke: #A80036; stroke-width: 1.0;\" x1=\"83\" x2=\"117\" y1=\"59.3398\" y2=\"59.3398\"/><text fill=\"#000000\" font-family=\"sans-serif\" font-size=\"11\" lengthAdjust=\"spacingAndGlyphs\" textLength=\"6\" x=\"13\" y=\"143.9761\">F</text><line style=\"stroke: #A80036; stroke-width: 1.0;\" x1=\"8\" x2=\"33.5\" y1=\"127.3633\" y2=\"127.3633\"/><text fill=\"#000000\" font-family=\"sans-serif\" font-size=\"11\" lengthAdjust=\"spacingAndGlyphs\" textLength=\"58\" x=\"33.5\" y=\"130.6714\">forkNodes</text><line style=\"stroke: #A80036; stroke-width: 1.0;\" x1=\"91.5\" x2=\"117\" y1=\"127.3633\" y2=\"127.3633\"/><text fill=\"#000000\" font-family=\"sans-serif\" font-size=\"11\" lengthAdjust=\"spacingAndGlyphs\" textLength=\"3\" x=\"13\" y=\"173.5854\">J</text><line style=\"stroke: #A80036; stroke-width: 1.0;\" x1=\"8\" x2=\"34.5\" y1=\"156.9727\" y2=\"156.9727\"/><text fill=\"#000000\" font-family=\"sans-serif\" font-size=\"11\" lengthAdjust=\"spacingAndGlyphs\" textLength=\"56\" x=\"34.5\" y=\"160.2808\">joinNodes</text><line style=\"stroke: #A80036; stroke-width: 1.0;\" x1=\"90.5\" x2=\"117\" y1=\"156.9727\" y2=\"156.9727\"/></a><!--MD5=[ddf4f06b3283fe0e4a4951c19699b9f4]\n",
       "@startuml\r\n",
       "skinparam wrapWidth 300\r\n",
       "hide circle\r\n",
       "\r\n",
       "comp def \"ControlNodeTest\" as E1  <<(T,blue)action def>> [[psysml:d45f0f17-f367-4b4e-a94c-d0cd962b9658 ]] {\r\n",
       "- - actions - -\r\n",
       "A1\r\n",
       "A2\r\n",
       "B1\r\n",
       "B2\r\n",
       "- - forkNodes - -\r\n",
       "F\r\n",
       "- - joinNodes - -\r\n",
       "J\r\n",
       "}\r\n",
       "@enduml\r\n",
       "\n",
       "PlantUML version 1.2020.13(Sat Jun 13 12:26:38 UTC 2020)\n",
       "(EPL source distribution)\n",
       "Java Runtime: OpenJDK Runtime Environment\n",
       "JVM: OpenJDK 64-Bit Server VM\n",
       "Default Encoding: UTF-8\n",
       "Language: en\n",
       "Country: null\n",
       "--></g></svg>"
      ]
     },
     "execution_count": 24,
     "metadata": {},
     "output_type": "execute_result"
    }
   ],
   "source": [
    "%viz --style=\"STDCOLOR\" --view=\"Tree\" \"ControlNodeTest\""
   ]
  },
  {
   "cell_type": "code",
   "execution_count": 25,
   "id": "western-planning",
   "metadata": {
    "execution": {
     "iopub.execute_input": "2021-03-25T09:28:35.523240Z",
     "iopub.status.busy": "2021-03-25T09:28:35.522603Z",
     "iopub.status.idle": "2021-03-25T09:28:35.529010Z",
     "shell.execute_reply": "2021-03-25T09:28:35.528630Z"
    }
   },
   "outputs": [
    {
     "data": {
      "image/svg+xml": [
       "<?xml version=\"1.0\" encoding=\"UTF-8\" standalone=\"no\"?><svg xmlns=\"http://www.w3.org/2000/svg\" xmlns:xlink=\"http://www.w3.org/1999/xlink\" contentScriptType=\"application/ecmascript\" contentStyleType=\"text/css\" height=\"12px\" preserveAspectRatio=\"none\" style=\"width:12px;height:12px;\" version=\"1.1\" viewBox=\"0 0 12 12\" width=\"12px\" zoomAndPan=\"magnify\"><defs/><g><!--MD5=[aeeef50f102b80d730deb6443d14f702]\n",
       "@startuml\r\n",
       "skinparam wrapWidth 300\r\n",
       "hide circle\r\n",
       "\r\n",
       "@enduml\r\n",
       "\n",
       "PlantUML version 1.2020.13(Sat Jun 13 12:26:38 UTC 2020)\n",
       "(EPL source distribution)\n",
       "Java Runtime: OpenJDK Runtime Environment\n",
       "JVM: OpenJDK 64-Bit Server VM\n",
       "Default Encoding: UTF-8\n",
       "Language: en\n",
       "Country: null\n",
       "--></g></svg>"
      ]
     },
     "execution_count": 25,
     "metadata": {},
     "output_type": "execute_result"
    }
   ],
   "source": [
    "%viz --style=\"STDCOLOR\" --view=\"State\" \"ControlNodeTest\""
   ]
  },
  {
   "cell_type": "code",
   "execution_count": 26,
   "id": "appointed-surname",
   "metadata": {
    "execution": {
     "iopub.execute_input": "2021-03-25T09:28:35.580703Z",
     "iopub.status.busy": "2021-03-25T09:28:35.579753Z",
     "iopub.status.idle": "2021-03-25T09:28:35.606247Z",
     "shell.execute_reply": "2021-03-25T09:28:35.605734Z"
    }
   },
   "outputs": [
    {
     "data": {
      "image/svg+xml": [
       "<?xml version=\"1.0\" encoding=\"UTF-8\" standalone=\"no\"?><svg xmlns=\"http://www.w3.org/2000/svg\" xmlns:xlink=\"http://www.w3.org/1999/xlink\" contentScriptType=\"application/ecmascript\" contentStyleType=\"text/css\" height=\"68px\" preserveAspectRatio=\"none\" style=\"width:142px;height:68px;\" version=\"1.1\" viewBox=\"0 0 142 68\" width=\"142px\" zoomAndPan=\"magnify\"><defs><filter height=\"300%\" id=\"f16bla73pq6xqg\" width=\"300%\" x=\"-1\" y=\"-1\"><feGaussianBlur result=\"blurOut\" stdDeviation=\"2.0\"/><feColorMatrix in=\"blurOut\" result=\"blurOut2\" type=\"matrix\" values=\"0 0 0 0 0 0 0 0 0 0 0 0 0 0 0 0 0 0 .4 0\"/><feOffset dx=\"4.0\" dy=\"4.0\" in=\"blurOut2\" result=\"blurOut3\"/><feBlend in=\"SourceGraphic\" in2=\"blurOut3\" mode=\"normal\"/></filter></defs><g><g id=\"E1\"><a href=\"psysml:d45f0f17-f367-4b4e-a94c-d0cd962b9658\" target=\"_top\" title=\"psysml:d45f0f17-f367-4b4e-a94c-d0cd962b9658\" xlink:actuate=\"onRequest\" xlink:href=\"psysml:d45f0f17-f367-4b4e-a94c-d0cd962b9658\" xlink:show=\"new\" xlink:title=\"psysml:d45f0f17-f367-4b4e-a94c-d0cd962b9658\" xlink:type=\"simple\"><rect fill=\"#FEFECE\" filter=\"url(#f16bla73pq6xqg)\" height=\"42.9375\" id=\"E1\" style=\"stroke: #A80036; stroke-width: 1.5;\" width=\"116\" x=\"7\" y=\"7\"/><text fill=\"#000000\" font-family=\"sans-serif\" font-size=\"12\" font-style=\"italic\" lengthAdjust=\"spacingAndGlyphs\" textLength=\"77\" x=\"26.5\" y=\"23.1387\">«action def»</text><text fill=\"#000000\" font-family=\"sans-serif\" font-size=\"12\" lengthAdjust=\"spacingAndGlyphs\" textLength=\"105\" x=\"12.5\" y=\"37.1074\">ControlNodeTest</text></a></g><!--MD5=[62cd18468b2242cddbc3bf20687eac97]\n",
       "@startuml\r\n",
       "skinparam ranksep 8\r\n",
       "skinparam rectangle {\r\n",
       " backgroundColor<<block>> LightGreen\r\n",
       "}\r\n",
       "skinparam wrapWidth 300\r\n",
       "hide circle\r\n",
       "\r\n",
       "def \"ControlNodeTest\" as E1  <<(T,blue)action def>> [[psysml:d45f0f17-f367-4b4e-a94c-d0cd962b9658 ]] \r\n",
       "@enduml\r\n",
       "\n",
       "PlantUML version 1.2020.13(Sat Jun 13 12:26:38 UTC 2020)\n",
       "(EPL source distribution)\n",
       "Java Runtime: OpenJDK Runtime Environment\n",
       "JVM: OpenJDK 64-Bit Server VM\n",
       "Default Encoding: UTF-8\n",
       "Language: en\n",
       "Country: null\n",
       "--></g></svg>"
      ]
     },
     "execution_count": 26,
     "metadata": {},
     "output_type": "execute_result"
    }
   ],
   "source": [
    "%viz --style=\"STDCOLOR\" --view=\"Interconnection\" \"ControlNodeTest\""
   ]
  },
  {
   "cell_type": "code",
   "execution_count": 27,
   "id": "blank-afghanistan",
   "metadata": {
    "execution": {
     "iopub.execute_input": "2021-03-25T09:28:35.658385Z",
     "iopub.status.busy": "2021-03-25T09:28:35.657408Z",
     "iopub.status.idle": "2021-03-25T09:28:35.756434Z",
     "shell.execute_reply": "2021-03-25T09:28:35.755981Z"
    }
   },
   "outputs": [
    {
     "data": {
      "image/svg+xml": [
       "<?xml version=\"1.0\" encoding=\"UTF-8\" standalone=\"no\"?><svg xmlns=\"http://www.w3.org/2000/svg\" xmlns:xlink=\"http://www.w3.org/1999/xlink\" contentScriptType=\"application/ecmascript\" contentStyleType=\"text/css\" height=\"136px\" preserveAspectRatio=\"none\" style=\"width:633px;height:136px;\" version=\"1.1\" viewBox=\"0 0 633 136\" width=\"633px\" zoomAndPan=\"magnify\"><defs><filter height=\"300%\" id=\"fmnxld7hgjw3\" width=\"300%\" x=\"-1\" y=\"-1\"><feGaussianBlur result=\"blurOut\" stdDeviation=\"2.0\"/><feColorMatrix in=\"blurOut\" result=\"blurOut2\" type=\"matrix\" values=\"0 0 0 0 0 0 0 0 0 0 0 0 0 0 0 0 0 0 .4 0\"/><feOffset dx=\"4.0\" dy=\"4.0\" in=\"blurOut2\" result=\"blurOut3\"/><feBlend in=\"SourceGraphic\" in2=\"blurOut3\" mode=\"normal\"/></filter></defs><g><!--MD5=[fbc87193dbaf4d95561dea2c320d4a47]\n",
       "cluster E1--><a href=\"psysml:d45f0f17-f367-4b4e-a94c-d0cd962b9658\" target=\"_top\" title=\"psysml:d45f0f17-f367-4b4e-a94c-d0cd962b9658\" xlink:actuate=\"onRequest\" xlink:href=\"psysml:d45f0f17-f367-4b4e-a94c-d0cd962b9658\" xlink:show=\"new\" xlink:title=\"psysml:d45f0f17-f367-4b4e-a94c-d0cd962b9658\" xlink:type=\"simple\"><rect fill=\"#FFFFFF\" filter=\"url(#fmnxld7hgjw3)\" height=\"110\" id=\"E1\" style=\"stroke: #A80036; stroke-width: 1.5;\" width=\"607\" x=\"7\" y=\"7\"/><rect fill=\"#FEFECE\" height=\"37.9375\" style=\"stroke: #A80036; stroke-width: 1.5;\" width=\"607\" x=\"7\" y=\"7\"/><text fill=\"#000000\" font-family=\"sans-serif\" font-size=\"12\" font-style=\"italic\" lengthAdjust=\"spacingAndGlyphs\" textLength=\"77\" x=\"272\" y=\"23.1387\">«action def»</text><text fill=\"#000000\" font-family=\"sans-serif\" font-size=\"12\" lengthAdjust=\"spacingAndGlyphs\" textLength=\"105\" x=\"258\" y=\"37.1074\">ControlNodeTest</text></a><rect fill=\"#000000\" filter=\"url(#fmnxld7hgjw3)\" height=\"8\" style=\"stroke: none; stroke-width: 1.0;\" width=\"80\" x=\"518\" y=\"75.5\"/><rect fill=\"#000000\" filter=\"url(#fmnxld7hgjw3)\" height=\"8\" style=\"stroke: none; stroke-width: 1.0;\" width=\"80\" x=\"403\" y=\"75.5\"/><g id=\"E1.E2\"><a href=\"psysml:fdc5aa3b-ed80-41e9-a98e-ce8c422e55eb\" target=\"_top\" title=\"psysml:fdc5aa3b-ed80-41e9-a98e-ce8c422e55eb\" xlink:actuate=\"onRequest\" xlink:href=\"psysml:fdc5aa3b-ed80-41e9-a98e-ce8c422e55eb\" xlink:show=\"new\" xlink:title=\"psysml:fdc5aa3b-ed80-41e9-a98e-ce8c422e55eb\" xlink:type=\"simple\"><rect fill=\"#FEFECE\" filter=\"url(#fmnxld7hgjw3)\" height=\"42.9375\" id=\"E2\" rx=\"10\" ry=\"10\" style=\"stroke: #A80036; stroke-width: 1.5;\" width=\"60\" x=\"308\" y=\"58\"/><text fill=\"#000000\" font-family=\"sans-serif\" font-size=\"12\" font-style=\"italic\" lengthAdjust=\"spacingAndGlyphs\" textLength=\"53\" x=\"311.5\" y=\"74.1387\">«action»</text><text fill=\"#000000\" font-family=\"sans-serif\" font-size=\"12\" lengthAdjust=\"spacingAndGlyphs\" textLength=\"16\" x=\"330\" y=\"88.1074\">A1</text></a></g><g id=\"E1.E3\"><a href=\"psysml:2c991ffe-75e4-475a-bb83-43f5c2feea80\" target=\"_top\" title=\"psysml:2c991ffe-75e4-475a-bb83-43f5c2feea80\" xlink:actuate=\"onRequest\" xlink:href=\"psysml:2c991ffe-75e4-475a-bb83-43f5c2feea80\" xlink:show=\"new\" xlink:title=\"psysml:2c991ffe-75e4-475a-bb83-43f5c2feea80\" xlink:type=\"simple\"><rect fill=\"#FEFECE\" filter=\"url(#fmnxld7hgjw3)\" height=\"42.9375\" id=\"E3\" rx=\"10\" ry=\"10\" style=\"stroke: #A80036; stroke-width: 1.5;\" width=\"60\" x=\"213\" y=\"58\"/><text fill=\"#000000\" font-family=\"sans-serif\" font-size=\"12\" font-style=\"italic\" lengthAdjust=\"spacingAndGlyphs\" textLength=\"53\" x=\"216.5\" y=\"74.1387\">«action»</text><text fill=\"#000000\" font-family=\"sans-serif\" font-size=\"12\" lengthAdjust=\"spacingAndGlyphs\" textLength=\"16\" x=\"235\" y=\"88.1074\">A2</text></a></g><g id=\"E1.E6\"><a href=\"psysml:f26d7e3d-b672-461c-aa14-0bbf3d4e7737\" target=\"_top\" title=\"psysml:f26d7e3d-b672-461c-aa14-0bbf3d4e7737\" xlink:actuate=\"onRequest\" xlink:href=\"psysml:f26d7e3d-b672-461c-aa14-0bbf3d4e7737\" xlink:show=\"new\" xlink:title=\"psysml:f26d7e3d-b672-461c-aa14-0bbf3d4e7737\" xlink:type=\"simple\"><rect fill=\"#FEFECE\" filter=\"url(#fmnxld7hgjw3)\" height=\"42.9375\" id=\"E6\" rx=\"10\" ry=\"10\" style=\"stroke: #A80036; stroke-width: 1.5;\" width=\"60\" x=\"118\" y=\"58\"/><text fill=\"#000000\" font-family=\"sans-serif\" font-size=\"12\" font-style=\"italic\" lengthAdjust=\"spacingAndGlyphs\" textLength=\"53\" x=\"121.5\" y=\"74.1387\">«action»</text><text fill=\"#000000\" font-family=\"sans-serif\" font-size=\"12\" lengthAdjust=\"spacingAndGlyphs\" textLength=\"16\" x=\"140\" y=\"88.1074\">B1</text></a></g><g id=\"E1.E7\"><a href=\"psysml:f6cf6959-d08a-437c-8e4b-96dd916f2436\" target=\"_top\" title=\"psysml:f6cf6959-d08a-437c-8e4b-96dd916f2436\" xlink:actuate=\"onRequest\" xlink:href=\"psysml:f6cf6959-d08a-437c-8e4b-96dd916f2436\" xlink:show=\"new\" xlink:title=\"psysml:f6cf6959-d08a-437c-8e4b-96dd916f2436\" xlink:type=\"simple\"><rect fill=\"#FEFECE\" filter=\"url(#fmnxld7hgjw3)\" height=\"42.9375\" id=\"E7\" rx=\"10\" ry=\"10\" style=\"stroke: #A80036; stroke-width: 1.5;\" width=\"60\" x=\"23\" y=\"58\"/><text fill=\"#000000\" font-family=\"sans-serif\" font-size=\"12\" font-style=\"italic\" lengthAdjust=\"spacingAndGlyphs\" textLength=\"53\" x=\"26.5\" y=\"74.1387\">«action»</text><text fill=\"#000000\" font-family=\"sans-serif\" font-size=\"12\" lengthAdjust=\"spacingAndGlyphs\" textLength=\"16\" x=\"45\" y=\"88.1074\">B2</text></a></g><!--MD5=[41097d62fccbbbdbaf1980bfe9ab40c6]\n",
       "@startuml\r\n",
       "skinparam ranksep 8\r\n",
       "skinparam wrapWidth 300\r\n",
       "hide circle\r\n",
       "\r\n",
       "rec def \"ControlNodeTest\" as E1  <<(T,blue)action def>> [[psysml:d45f0f17-f367-4b4e-a94c-d0cd962b9658 ]] {\r\n",
       "rec usage \"A1\" as E2  <<(T,blue)action>> [[psysml:fdc5aa3b-ed80-41e9-a98e-ce8c422e55eb ]] {\r\n",
       "}\r\n",
       "\r\n",
       "rec usage \"A2\" as E3  <<(T,blue)action>> [[psysml:2c991ffe-75e4-475a-bb83-43f5c2feea80 ]] {\r\n",
       "}\r\n",
       "\r\n",
       "join \"J\" as E4  [[psysml:5dc91872-c5b7-4d29-9265-55786a5f23d3 ]] \r\n",
       "fork \"F\" as E5  [[psysml:32073807-3d0f-4273-9610-bcad2a0739d7 ]] \r\n",
       "rec usage \"B1\" as E6  <<(T,blue)action>> [[psysml:f26d7e3d-b672-461c-aa14-0bbf3d4e7737 ]] {\r\n",
       "}\r\n",
       "\r\n",
       "rec usage \"B2\" as E7  <<(T,blue)action>> [[psysml:f6cf6959-d08a-437c-8e4b-96dd916f2436 ]] {\r\n",
       "}\r\n",
       "\r\n",
       "}\r\n",
       "\r\n",
       "@enduml\r\n",
       "\n",
       "PlantUML version 1.2020.13(Sat Jun 13 12:26:38 UTC 2020)\n",
       "(EPL source distribution)\n",
       "Java Runtime: OpenJDK Runtime Environment\n",
       "JVM: OpenJDK 64-Bit Server VM\n",
       "Default Encoding: UTF-8\n",
       "Language: en\n",
       "Country: null\n",
       "--></g></svg>"
      ]
     },
     "execution_count": 27,
     "metadata": {},
     "output_type": "execute_result"
    }
   ],
   "source": [
    "%viz --style=\"STDCOLOR\" --view=\"Action\" \"ControlNodeTest\""
   ]
  },
  {
   "cell_type": "code",
   "execution_count": 28,
   "id": "hybrid-newspaper",
   "metadata": {
    "execution": {
     "iopub.execute_input": "2021-03-25T09:28:35.809101Z",
     "iopub.status.busy": "2021-03-25T09:28:35.808490Z",
     "iopub.status.idle": "2021-03-25T09:28:36.046468Z",
     "shell.execute_reply": "2021-03-25T09:28:36.046037Z"
    }
   },
   "outputs": [
    {
     "data": {
      "image/svg+xml": [
       "<?xml version=\"1.0\" encoding=\"UTF-8\" standalone=\"no\"?><svg xmlns=\"http://www.w3.org/2000/svg\" xmlns:xlink=\"http://www.w3.org/1999/xlink\" contentScriptType=\"application/ecmascript\" contentStyleType=\"text/css\" height=\"199px\" preserveAspectRatio=\"none\" style=\"width:137px;height:199px;\" version=\"1.1\" viewBox=\"0 0 137 199\" width=\"137px\" zoomAndPan=\"magnify\"><defs><filter height=\"300%\" id=\"f9h5dvmybgim\" width=\"300%\" x=\"-1\" y=\"-1\"><feGaussianBlur result=\"blurOut\" stdDeviation=\"2.0\"/><feColorMatrix in=\"blurOut\" result=\"blurOut2\" type=\"matrix\" values=\"0 0 0 0 0 0 0 0 0 0 0 0 0 0 0 0 0 0 .4 0\"/><feOffset dx=\"4.0\" dy=\"4.0\" in=\"blurOut2\" result=\"blurOut3\"/><feBlend in=\"SourceGraphic\" in2=\"blurOut3\" mode=\"normal\"/></filter></defs><g><!--MD5=[43c9051892ef23e1a46a86907403d788]\n",
       "class E1--><a href=\"psysml:d45f0f17-f367-4b4e-a94c-d0cd962b9658\" target=\"_top\" title=\"psysml:d45f0f17-f367-4b4e-a94c-d0cd962b9658\" xlink:actuate=\"onRequest\" xlink:href=\"psysml:d45f0f17-f367-4b4e-a94c-d0cd962b9658\" xlink:show=\"new\" xlink:title=\"psysml:d45f0f17-f367-4b4e-a94c-d0cd962b9658\" xlink:type=\"simple\"><rect fill=\"#FEFECE\" filter=\"url(#f9h5dvmybgim)\" height=\"173.1797\" id=\"E1\" style=\"stroke: #A80036; stroke-width: 1.5;\" width=\"111\" x=\"7\" y=\"7\"/><text fill=\"#000000\" font-family=\"sans-serif\" font-size=\"12\" font-style=\"italic\" lengthAdjust=\"spacingAndGlyphs\" textLength=\"77\" x=\"24\" y=\"23.1387\">«action def»</text><text fill=\"#000000\" font-family=\"sans-serif\" font-size=\"12\" lengthAdjust=\"spacingAndGlyphs\" textLength=\"105\" x=\"10\" y=\"37.1074\">ControlNodeTest</text><line style=\"stroke: #A80036; stroke-width: 1.5;\" x1=\"8\" x2=\"117\" y1=\"44.9375\" y2=\"44.9375\"/><text fill=\"#000000\" font-family=\"sans-serif\" font-size=\"11\" lengthAdjust=\"spacingAndGlyphs\" textLength=\"14\" x=\"13\" y=\"75.9526\">A1</text><text fill=\"#000000\" font-family=\"sans-serif\" font-size=\"11\" lengthAdjust=\"spacingAndGlyphs\" textLength=\"14\" x=\"13\" y=\"88.7573\">A2</text><text fill=\"#000000\" font-family=\"sans-serif\" font-size=\"11\" lengthAdjust=\"spacingAndGlyphs\" textLength=\"15\" x=\"13\" y=\"101.562\">B1</text><text fill=\"#000000\" font-family=\"sans-serif\" font-size=\"11\" lengthAdjust=\"spacingAndGlyphs\" textLength=\"15\" x=\"13\" y=\"114.3667\">B2</text><line style=\"stroke: #A80036; stroke-width: 1.0;\" x1=\"8\" x2=\"42\" y1=\"59.3398\" y2=\"59.3398\"/><text fill=\"#000000\" font-family=\"sans-serif\" font-size=\"11\" lengthAdjust=\"spacingAndGlyphs\" textLength=\"41\" x=\"42\" y=\"62.6479\">actions</text><line style=\"stroke: #A80036; stroke-width: 1.0;\" x1=\"83\" x2=\"117\" y1=\"59.3398\" y2=\"59.3398\"/><text fill=\"#000000\" font-family=\"sans-serif\" font-size=\"11\" lengthAdjust=\"spacingAndGlyphs\" textLength=\"6\" x=\"13\" y=\"143.9761\">F</text><line style=\"stroke: #A80036; stroke-width: 1.0;\" x1=\"8\" x2=\"33.5\" y1=\"127.3633\" y2=\"127.3633\"/><text fill=\"#000000\" font-family=\"sans-serif\" font-size=\"11\" lengthAdjust=\"spacingAndGlyphs\" textLength=\"58\" x=\"33.5\" y=\"130.6714\">forkNodes</text><line style=\"stroke: #A80036; stroke-width: 1.0;\" x1=\"91.5\" x2=\"117\" y1=\"127.3633\" y2=\"127.3633\"/><text fill=\"#000000\" font-family=\"sans-serif\" font-size=\"11\" lengthAdjust=\"spacingAndGlyphs\" textLength=\"3\" x=\"13\" y=\"173.5854\">J</text><line style=\"stroke: #A80036; stroke-width: 1.0;\" x1=\"8\" x2=\"34.5\" y1=\"156.9727\" y2=\"156.9727\"/><text fill=\"#000000\" font-family=\"sans-serif\" font-size=\"11\" lengthAdjust=\"spacingAndGlyphs\" textLength=\"56\" x=\"34.5\" y=\"160.2808\">joinNodes</text><line style=\"stroke: #A80036; stroke-width: 1.0;\" x1=\"90.5\" x2=\"117\" y1=\"156.9727\" y2=\"156.9727\"/></a><!--MD5=[ddf4f06b3283fe0e4a4951c19699b9f4]\n",
       "@startuml\r\n",
       "skinparam wrapWidth 300\r\n",
       "hide circle\r\n",
       "\r\n",
       "comp def \"ControlNodeTest\" as E1  <<(T,blue)action def>> [[psysml:d45f0f17-f367-4b4e-a94c-d0cd962b9658 ]] {\r\n",
       "- - actions - -\r\n",
       "A1\r\n",
       "A2\r\n",
       "B1\r\n",
       "B2\r\n",
       "- - forkNodes - -\r\n",
       "F\r\n",
       "- - joinNodes - -\r\n",
       "J\r\n",
       "}\r\n",
       "@enduml\r\n",
       "\n",
       "PlantUML version 1.2020.13(Sat Jun 13 12:26:38 UTC 2020)\n",
       "(EPL source distribution)\n",
       "Java Runtime: OpenJDK Runtime Environment\n",
       "JVM: OpenJDK 64-Bit Server VM\n",
       "Default Encoding: UTF-8\n",
       "Language: en\n",
       "Country: null\n",
       "--></g></svg>"
      ]
     },
     "execution_count": 28,
     "metadata": {},
     "output_type": "execute_result"
    }
   ],
   "source": [
    "%viz --style=\"STDCOLOR\" --view=\"Sequence\" \"ControlNodeTest\""
   ]
  },
  {
   "cell_type": "code",
   "execution_count": 29,
   "id": "assisted-nicholas",
   "metadata": {
    "execution": {
     "iopub.execute_input": "2021-03-25T09:28:36.100204Z",
     "iopub.status.busy": "2021-03-25T09:28:36.099605Z",
     "iopub.status.idle": "2021-03-25T09:28:36.194487Z",
     "shell.execute_reply": "2021-03-25T09:28:36.194049Z"
    }
   },
   "outputs": [
    {
     "data": {
      "image/svg+xml": [
       "<?xml version=\"1.0\" encoding=\"UTF-8\" standalone=\"no\"?><svg xmlns=\"http://www.w3.org/2000/svg\" xmlns:xlink=\"http://www.w3.org/1999/xlink\" contentScriptType=\"application/ecmascript\" contentStyleType=\"text/css\" height=\"136px\" preserveAspectRatio=\"none\" style=\"width:633px;height:136px;\" version=\"1.1\" viewBox=\"0 0 633 136\" width=\"633px\" zoomAndPan=\"magnify\"><defs><filter height=\"300%\" id=\"f16o7pwhbfzwuo\" width=\"300%\" x=\"-1\" y=\"-1\"><feGaussianBlur result=\"blurOut\" stdDeviation=\"2.0\"/><feColorMatrix in=\"blurOut\" result=\"blurOut2\" type=\"matrix\" values=\"0 0 0 0 0 0 0 0 0 0 0 0 0 0 0 0 0 0 .4 0\"/><feOffset dx=\"4.0\" dy=\"4.0\" in=\"blurOut2\" result=\"blurOut3\"/><feBlend in=\"SourceGraphic\" in2=\"blurOut3\" mode=\"normal\"/></filter></defs><g><!--MD5=[fbc87193dbaf4d95561dea2c320d4a47]\n",
       "cluster E1--><a href=\"psysml:d45f0f17-f367-4b4e-a94c-d0cd962b9658\" target=\"_top\" title=\"psysml:d45f0f17-f367-4b4e-a94c-d0cd962b9658\" xlink:actuate=\"onRequest\" xlink:href=\"psysml:d45f0f17-f367-4b4e-a94c-d0cd962b9658\" xlink:show=\"new\" xlink:title=\"psysml:d45f0f17-f367-4b4e-a94c-d0cd962b9658\" xlink:type=\"simple\"><rect fill=\"#FFFFFF\" filter=\"url(#f16o7pwhbfzwuo)\" height=\"110\" id=\"E1\" style=\"stroke: #A80036; stroke-width: 1.5;\" width=\"607\" x=\"7\" y=\"7\"/><rect fill=\"#FEFECE\" height=\"37.9375\" style=\"stroke: #A80036; stroke-width: 1.5;\" width=\"607\" x=\"7\" y=\"7\"/><text fill=\"#000000\" font-family=\"sans-serif\" font-size=\"12\" font-style=\"italic\" lengthAdjust=\"spacingAndGlyphs\" textLength=\"77\" x=\"272\" y=\"23.1387\">«action def»</text><text fill=\"#000000\" font-family=\"sans-serif\" font-size=\"12\" lengthAdjust=\"spacingAndGlyphs\" textLength=\"105\" x=\"258\" y=\"37.1074\">ControlNodeTest</text></a><rect fill=\"#000000\" filter=\"url(#f16o7pwhbfzwuo)\" height=\"8\" style=\"stroke: none; stroke-width: 1.0;\" width=\"80\" x=\"518\" y=\"75.5\"/><rect fill=\"#000000\" filter=\"url(#f16o7pwhbfzwuo)\" height=\"8\" style=\"stroke: none; stroke-width: 1.0;\" width=\"80\" x=\"403\" y=\"75.5\"/><g id=\"E1.E2\"><a href=\"psysml:fdc5aa3b-ed80-41e9-a98e-ce8c422e55eb\" target=\"_top\" title=\"psysml:fdc5aa3b-ed80-41e9-a98e-ce8c422e55eb\" xlink:actuate=\"onRequest\" xlink:href=\"psysml:fdc5aa3b-ed80-41e9-a98e-ce8c422e55eb\" xlink:show=\"new\" xlink:title=\"psysml:fdc5aa3b-ed80-41e9-a98e-ce8c422e55eb\" xlink:type=\"simple\"><rect fill=\"#FEFECE\" filter=\"url(#f16o7pwhbfzwuo)\" height=\"42.9375\" id=\"E2\" rx=\"10\" ry=\"10\" style=\"stroke: #A80036; stroke-width: 1.5;\" width=\"60\" x=\"308\" y=\"58\"/><text fill=\"#000000\" font-family=\"sans-serif\" font-size=\"12\" font-style=\"italic\" lengthAdjust=\"spacingAndGlyphs\" textLength=\"53\" x=\"311.5\" y=\"74.1387\">«action»</text><text fill=\"#000000\" font-family=\"sans-serif\" font-size=\"12\" lengthAdjust=\"spacingAndGlyphs\" textLength=\"16\" x=\"330\" y=\"88.1074\">A1</text></a></g><g id=\"E1.E3\"><a href=\"psysml:2c991ffe-75e4-475a-bb83-43f5c2feea80\" target=\"_top\" title=\"psysml:2c991ffe-75e4-475a-bb83-43f5c2feea80\" xlink:actuate=\"onRequest\" xlink:href=\"psysml:2c991ffe-75e4-475a-bb83-43f5c2feea80\" xlink:show=\"new\" xlink:title=\"psysml:2c991ffe-75e4-475a-bb83-43f5c2feea80\" xlink:type=\"simple\"><rect fill=\"#FEFECE\" filter=\"url(#f16o7pwhbfzwuo)\" height=\"42.9375\" id=\"E3\" rx=\"10\" ry=\"10\" style=\"stroke: #A80036; stroke-width: 1.5;\" width=\"60\" x=\"213\" y=\"58\"/><text fill=\"#000000\" font-family=\"sans-serif\" font-size=\"12\" font-style=\"italic\" lengthAdjust=\"spacingAndGlyphs\" textLength=\"53\" x=\"216.5\" y=\"74.1387\">«action»</text><text fill=\"#000000\" font-family=\"sans-serif\" font-size=\"12\" lengthAdjust=\"spacingAndGlyphs\" textLength=\"16\" x=\"235\" y=\"88.1074\">A2</text></a></g><g id=\"E1.E6\"><a href=\"psysml:f26d7e3d-b672-461c-aa14-0bbf3d4e7737\" target=\"_top\" title=\"psysml:f26d7e3d-b672-461c-aa14-0bbf3d4e7737\" xlink:actuate=\"onRequest\" xlink:href=\"psysml:f26d7e3d-b672-461c-aa14-0bbf3d4e7737\" xlink:show=\"new\" xlink:title=\"psysml:f26d7e3d-b672-461c-aa14-0bbf3d4e7737\" xlink:type=\"simple\"><rect fill=\"#FEFECE\" filter=\"url(#f16o7pwhbfzwuo)\" height=\"42.9375\" id=\"E6\" rx=\"10\" ry=\"10\" style=\"stroke: #A80036; stroke-width: 1.5;\" width=\"60\" x=\"118\" y=\"58\"/><text fill=\"#000000\" font-family=\"sans-serif\" font-size=\"12\" font-style=\"italic\" lengthAdjust=\"spacingAndGlyphs\" textLength=\"53\" x=\"121.5\" y=\"74.1387\">«action»</text><text fill=\"#000000\" font-family=\"sans-serif\" font-size=\"12\" lengthAdjust=\"spacingAndGlyphs\" textLength=\"16\" x=\"140\" y=\"88.1074\">B1</text></a></g><g id=\"E1.E7\"><a href=\"psysml:f6cf6959-d08a-437c-8e4b-96dd916f2436\" target=\"_top\" title=\"psysml:f6cf6959-d08a-437c-8e4b-96dd916f2436\" xlink:actuate=\"onRequest\" xlink:href=\"psysml:f6cf6959-d08a-437c-8e4b-96dd916f2436\" xlink:show=\"new\" xlink:title=\"psysml:f6cf6959-d08a-437c-8e4b-96dd916f2436\" xlink:type=\"simple\"><rect fill=\"#FEFECE\" filter=\"url(#f16o7pwhbfzwuo)\" height=\"42.9375\" id=\"E7\" rx=\"10\" ry=\"10\" style=\"stroke: #A80036; stroke-width: 1.5;\" width=\"60\" x=\"23\" y=\"58\"/><text fill=\"#000000\" font-family=\"sans-serif\" font-size=\"12\" font-style=\"italic\" lengthAdjust=\"spacingAndGlyphs\" textLength=\"53\" x=\"26.5\" y=\"74.1387\">«action»</text><text fill=\"#000000\" font-family=\"sans-serif\" font-size=\"12\" lengthAdjust=\"spacingAndGlyphs\" textLength=\"16\" x=\"45\" y=\"88.1074\">B2</text></a></g><!--MD5=[8edb94fe3f5aa6abcef8b7d79d5147fb]\n",
       "@startuml\r\n",
       "skinparam wrapWidth 300\r\n",
       "hide circle\r\n",
       "\r\n",
       "rec def \"ControlNodeTest\" as E1  <<(T,blue)action def>> [[psysml:d45f0f17-f367-4b4e-a94c-d0cd962b9658 ]] {\r\n",
       "rec usage \"A1\" as E2  <<(T,blue)action>> [[psysml:fdc5aa3b-ed80-41e9-a98e-ce8c422e55eb ]] {\r\n",
       "}\r\n",
       "\r\n",
       "rec usage \"A2\" as E3  <<(T,blue)action>> [[psysml:2c991ffe-75e4-475a-bb83-43f5c2feea80 ]] {\r\n",
       "}\r\n",
       "\r\n",
       "join \"J\" as E4  [[psysml:5dc91872-c5b7-4d29-9265-55786a5f23d3 ]] \r\n",
       "fork \"F\" as E5  [[psysml:32073807-3d0f-4273-9610-bcad2a0739d7 ]] \r\n",
       "rec usage \"B1\" as E6  <<(T,blue)action>> [[psysml:f26d7e3d-b672-461c-aa14-0bbf3d4e7737 ]] {\r\n",
       "}\r\n",
       "\r\n",
       "rec usage \"B2\" as E7  <<(T,blue)action>> [[psysml:f6cf6959-d08a-437c-8e4b-96dd916f2436 ]] {\r\n",
       "}\r\n",
       "\r\n",
       "}\r\n",
       "\r\n",
       "@enduml\r\n",
       "\n",
       "PlantUML version 1.2020.13(Sat Jun 13 12:26:38 UTC 2020)\n",
       "(EPL source distribution)\n",
       "Java Runtime: OpenJDK Runtime Environment\n",
       "JVM: OpenJDK 64-Bit Server VM\n",
       "Default Encoding: UTF-8\n",
       "Language: en\n",
       "Country: null\n",
       "--></g></svg>"
      ]
     },
     "execution_count": 29,
     "metadata": {},
     "output_type": "execute_result"
    }
   ],
   "source": [
    "%viz --style=\"STDCOLOR\" --view=\"MIXED\" \"ControlNodeTest\""
   ]
  },
  {
   "cell_type": "code",
   "execution_count": 30,
   "id": "regional-detective",
   "metadata": {
    "execution": {
     "iopub.execute_input": "2021-03-25T09:28:36.245293Z",
     "iopub.status.busy": "2021-03-25T09:28:36.244722Z",
     "iopub.status.idle": "2021-03-25T09:28:36.366670Z",
     "shell.execute_reply": "2021-03-25T09:28:36.365048Z"
    }
   },
   "outputs": [
    {
     "data": {
      "image/svg+xml": [
       "<?xml version=\"1.0\" encoding=\"UTF-8\" standalone=\"no\"?><svg xmlns=\"http://www.w3.org/2000/svg\" xmlns:xlink=\"http://www.w3.org/1999/xlink\" contentScriptType=\"application/ecmascript\" contentStyleType=\"text/css\" height=\"136px\" preserveAspectRatio=\"none\" style=\"width:737px;height:136px;\" version=\"1.1\" viewBox=\"0 0 737 136\" width=\"737px\" zoomAndPan=\"magnify\"><defs><filter height=\"300%\" id=\"fsitznmwd20ph\" width=\"300%\" x=\"-1\" y=\"-1\"><feGaussianBlur result=\"blurOut\" stdDeviation=\"2.0\"/><feColorMatrix in=\"blurOut\" result=\"blurOut2\" type=\"matrix\" values=\"0 0 0 0 0 0 0 0 0 0 0 0 0 0 0 0 0 0 .4 0\"/><feOffset dx=\"4.0\" dy=\"4.0\" in=\"blurOut2\" result=\"blurOut3\"/><feBlend in=\"SourceGraphic\" in2=\"blurOut3\" mode=\"normal\"/></filter></defs><g><!--MD5=[fbc87193dbaf4d95561dea2c320d4a47]\n",
       "cluster E1--><a href=\"psysml:d45f0f17-f367-4b4e-a94c-d0cd962b9658\" target=\"_top\" title=\"psysml:d45f0f17-f367-4b4e-a94c-d0cd962b9658\" xlink:actuate=\"onRequest\" xlink:href=\"psysml:d45f0f17-f367-4b4e-a94c-d0cd962b9658\" xlink:show=\"new\" xlink:title=\"psysml:d45f0f17-f367-4b4e-a94c-d0cd962b9658\" xlink:type=\"simple\"><rect fill=\"#FFFFFF\" filter=\"url(#fsitznmwd20ph)\" height=\"110\" id=\"E1\" style=\"stroke: #A80036; stroke-width: 1.5;\" width=\"711\" x=\"7\" y=\"7\"/><rect fill=\"#FEFECE\" height=\"37.9375\" style=\"stroke: #A80036; stroke-width: 1.5;\" width=\"711\" x=\"7\" y=\"7\"/><text fill=\"#000000\" font-family=\"sans-serif\" font-size=\"12\" font-style=\"italic\" lengthAdjust=\"spacingAndGlyphs\" textLength=\"77\" x=\"324\" y=\"23.1387\">«action def»</text><text fill=\"#000000\" font-family=\"sans-serif\" font-size=\"12\" lengthAdjust=\"spacingAndGlyphs\" textLength=\"105\" x=\"310\" y=\"37.1074\">ControlNodeTest</text></a><rect fill=\"#000000\" filter=\"url(#fsitznmwd20ph)\" height=\"8\" style=\"stroke: none; stroke-width: 1.0;\" width=\"80\" x=\"622\" y=\"75.5\"/><rect fill=\"#000000\" filter=\"url(#fsitznmwd20ph)\" height=\"8\" style=\"stroke: none; stroke-width: 1.0;\" width=\"80\" x=\"507\" y=\"75.5\"/><g id=\"E1.E2\"><a href=\"psysml:fdc5aa3b-ed80-41e9-a98e-ce8c422e55eb\" target=\"_top\" title=\"psysml:fdc5aa3b-ed80-41e9-a98e-ce8c422e55eb\" xlink:actuate=\"onRequest\" xlink:href=\"psysml:fdc5aa3b-ed80-41e9-a98e-ce8c422e55eb\" xlink:show=\"new\" xlink:title=\"psysml:fdc5aa3b-ed80-41e9-a98e-ce8c422e55eb\" xlink:type=\"simple\"><rect fill=\"#FEFECE\" filter=\"url(#fsitznmwd20ph)\" height=\"42.9375\" id=\"E2\" rx=\"10\" ry=\"10\" style=\"stroke: #A80036; stroke-width: 1.5;\" width=\"86\" x=\"386\" y=\"58\"/><ellipse cx=\"403.25\" cy=\"76.9688\" fill=\"#FFA500\" rx=\"11\" ry=\"11\" style=\"stroke: #A80036; stroke-width: 1.0;\"/><path d=\"M399.125,78.8906 L399.125,71.0781 L401.5781,71.0781 L401.5781,79.5156 Q401.5781,80.4375 402.0469,80.9688 Q402.5313,81.5 403.3594,81.5 Q404.2031,81.5 404.6719,80.9688 Q405.1406,80.4375 405.1406,79.5156 L405.1406,71.0781 L407.5938,71.0781 L407.5938,78.8906 Q407.5938,81.4219 406.5938,82.5625 Q405.5938,83.7031 403.3594,83.7031 Q401.1406,83.7031 400.125,82.5625 Q399.125,81.4219 399.125,78.8906 Z \"/><text fill=\"#000000\" font-family=\"sans-serif\" font-size=\"12\" font-style=\"italic\" lengthAdjust=\"spacingAndGlyphs\" textLength=\"53\" x=\"415.75\" y=\"74.1387\">«action»</text><text fill=\"#000000\" font-family=\"sans-serif\" font-size=\"12\" lengthAdjust=\"spacingAndGlyphs\" textLength=\"16\" x=\"434.25\" y=\"88.1074\">A1</text></a></g><g id=\"E1.E3\"><a href=\"psysml:2c991ffe-75e4-475a-bb83-43f5c2feea80\" target=\"_top\" title=\"psysml:2c991ffe-75e4-475a-bb83-43f5c2feea80\" xlink:actuate=\"onRequest\" xlink:href=\"psysml:2c991ffe-75e4-475a-bb83-43f5c2feea80\" xlink:show=\"new\" xlink:title=\"psysml:2c991ffe-75e4-475a-bb83-43f5c2feea80\" xlink:type=\"simple\"><rect fill=\"#FEFECE\" filter=\"url(#fsitznmwd20ph)\" height=\"42.9375\" id=\"E3\" rx=\"10\" ry=\"10\" style=\"stroke: #A80036; stroke-width: 1.5;\" width=\"86\" x=\"265\" y=\"58\"/><ellipse cx=\"282.25\" cy=\"76.9688\" fill=\"#FFA500\" rx=\"11\" ry=\"11\" style=\"stroke: #A80036; stroke-width: 1.0;\"/><path d=\"M278.125,78.8906 L278.125,71.0781 L280.5781,71.0781 L280.5781,79.5156 Q280.5781,80.4375 281.0469,80.9688 Q281.5313,81.5 282.3594,81.5 Q283.2031,81.5 283.6719,80.9688 Q284.1406,80.4375 284.1406,79.5156 L284.1406,71.0781 L286.5938,71.0781 L286.5938,78.8906 Q286.5938,81.4219 285.5938,82.5625 Q284.5938,83.7031 282.3594,83.7031 Q280.1406,83.7031 279.125,82.5625 Q278.125,81.4219 278.125,78.8906 Z \"/><text fill=\"#000000\" font-family=\"sans-serif\" font-size=\"12\" font-style=\"italic\" lengthAdjust=\"spacingAndGlyphs\" textLength=\"53\" x=\"294.75\" y=\"74.1387\">«action»</text><text fill=\"#000000\" font-family=\"sans-serif\" font-size=\"12\" lengthAdjust=\"spacingAndGlyphs\" textLength=\"16\" x=\"313.25\" y=\"88.1074\">A2</text></a></g><g id=\"E1.E6\"><a href=\"psysml:f26d7e3d-b672-461c-aa14-0bbf3d4e7737\" target=\"_top\" title=\"psysml:f26d7e3d-b672-461c-aa14-0bbf3d4e7737\" xlink:actuate=\"onRequest\" xlink:href=\"psysml:f26d7e3d-b672-461c-aa14-0bbf3d4e7737\" xlink:show=\"new\" xlink:title=\"psysml:f26d7e3d-b672-461c-aa14-0bbf3d4e7737\" xlink:type=\"simple\"><rect fill=\"#FEFECE\" filter=\"url(#fsitznmwd20ph)\" height=\"42.9375\" id=\"E6\" rx=\"10\" ry=\"10\" style=\"stroke: #A80036; stroke-width: 1.5;\" width=\"86\" x=\"144\" y=\"58\"/><ellipse cx=\"161.25\" cy=\"76.9688\" fill=\"#FFA500\" rx=\"11\" ry=\"11\" style=\"stroke: #A80036; stroke-width: 1.0;\"/><path d=\"M157.125,78.8906 L157.125,71.0781 L159.5781,71.0781 L159.5781,79.5156 Q159.5781,80.4375 160.0469,80.9688 Q160.5313,81.5 161.3594,81.5 Q162.2031,81.5 162.6719,80.9688 Q163.1406,80.4375 163.1406,79.5156 L163.1406,71.0781 L165.5938,71.0781 L165.5938,78.8906 Q165.5938,81.4219 164.5938,82.5625 Q163.5938,83.7031 161.3594,83.7031 Q159.1406,83.7031 158.125,82.5625 Q157.125,81.4219 157.125,78.8906 Z \"/><text fill=\"#000000\" font-family=\"sans-serif\" font-size=\"12\" font-style=\"italic\" lengthAdjust=\"spacingAndGlyphs\" textLength=\"53\" x=\"173.75\" y=\"74.1387\">«action»</text><text fill=\"#000000\" font-family=\"sans-serif\" font-size=\"12\" lengthAdjust=\"spacingAndGlyphs\" textLength=\"16\" x=\"192.25\" y=\"88.1074\">B1</text></a></g><g id=\"E1.E7\"><a href=\"psysml:f6cf6959-d08a-437c-8e4b-96dd916f2436\" target=\"_top\" title=\"psysml:f6cf6959-d08a-437c-8e4b-96dd916f2436\" xlink:actuate=\"onRequest\" xlink:href=\"psysml:f6cf6959-d08a-437c-8e4b-96dd916f2436\" xlink:show=\"new\" xlink:title=\"psysml:f6cf6959-d08a-437c-8e4b-96dd916f2436\" xlink:type=\"simple\"><rect fill=\"#FEFECE\" filter=\"url(#fsitznmwd20ph)\" height=\"42.9375\" id=\"E7\" rx=\"10\" ry=\"10\" style=\"stroke: #A80036; stroke-width: 1.5;\" width=\"86\" x=\"23\" y=\"58\"/><ellipse cx=\"40.25\" cy=\"76.9688\" fill=\"#FFA500\" rx=\"11\" ry=\"11\" style=\"stroke: #A80036; stroke-width: 1.0;\"/><path d=\"M36.125,78.8906 L36.125,71.0781 L38.5781,71.0781 L38.5781,79.5156 Q38.5781,80.4375 39.0469,80.9688 Q39.5313,81.5 40.3594,81.5 Q41.2031,81.5 41.6719,80.9688 Q42.1406,80.4375 42.1406,79.5156 L42.1406,71.0781 L44.5938,71.0781 L44.5938,78.8906 Q44.5938,81.4219 43.5938,82.5625 Q42.5938,83.7031 40.3594,83.7031 Q38.1406,83.7031 37.125,82.5625 Q36.125,81.4219 36.125,78.8906 Z \"/><text fill=\"#000000\" font-family=\"sans-serif\" font-size=\"12\" font-style=\"italic\" lengthAdjust=\"spacingAndGlyphs\" textLength=\"53\" x=\"52.75\" y=\"74.1387\">«action»</text><text fill=\"#000000\" font-family=\"sans-serif\" font-size=\"12\" lengthAdjust=\"spacingAndGlyphs\" textLength=\"16\" x=\"71.25\" y=\"88.1074\">B2</text></a></g><!--MD5=[4264b9cf036d0ff8bec9fb692ec58b0a]\n",
       "@startuml\r\n",
       " \r\n",
       "rec def \"ControlNodeTest\" as E1  <<(D,brown)action def>> [[psysml:d45f0f17-f367-4b4e-a94c-d0cd962b9658 ]] {\r\n",
       "rec usage \"A1\" as E2  <<(U,orange)action>> [[psysml:fdc5aa3b-ed80-41e9-a98e-ce8c422e55eb ]] {\r\n",
       "}\r\n",
       "\r\n",
       "rec usage \"A2\" as E3  <<(U,orange)action>> [[psysml:2c991ffe-75e4-475a-bb83-43f5c2feea80 ]] {\r\n",
       "}\r\n",
       "\r\n",
       "join \"J\" as E4  [[psysml:5dc91872-c5b7-4d29-9265-55786a5f23d3 ]] \r\n",
       "fork \"F\" as E5  [[psysml:32073807-3d0f-4273-9610-bcad2a0739d7 ]] \r\n",
       "rec usage \"B1\" as E6  <<(U,orange)action>> [[psysml:f26d7e3d-b672-461c-aa14-0bbf3d4e7737 ]] {\r\n",
       "}\r\n",
       "\r\n",
       "rec usage \"B2\" as E7  <<(U,orange)action>> [[psysml:f6cf6959-d08a-437c-8e4b-96dd916f2436 ]] {\r\n",
       "}\r\n",
       "\r\n",
       "}\r\n",
       "\r\n",
       "@enduml\r\n",
       "\n",
       "PlantUML version 1.2020.13(Sat Jun 13 12:26:38 UTC 2020)\n",
       "(EPL source distribution)\n",
       "Java Runtime: OpenJDK Runtime Environment\n",
       "JVM: OpenJDK 64-Bit Server VM\n",
       "Default Encoding: UTF-8\n",
       "Language: en\n",
       "Country: null\n",
       "--></g></svg>"
      ]
     },
     "execution_count": 30,
     "metadata": {},
     "output_type": "execute_result"
    }
   ],
   "source": [
    "%viz --style=\"PLANTUML\" --view=\"Default\" \"ControlNodeTest\""
   ]
  },
  {
   "cell_type": "code",
   "execution_count": 31,
   "id": "worse-arabic",
   "metadata": {
    "execution": {
     "iopub.execute_input": "2021-03-25T09:28:36.417234Z",
     "iopub.status.busy": "2021-03-25T09:28:36.416702Z",
     "iopub.status.idle": "2021-03-25T09:28:36.649627Z",
     "shell.execute_reply": "2021-03-25T09:28:36.650140Z"
    }
   },
   "outputs": [
    {
     "data": {
      "image/svg+xml": [
       "<?xml version=\"1.0\" encoding=\"UTF-8\" standalone=\"no\"?><svg xmlns=\"http://www.w3.org/2000/svg\" xmlns:xlink=\"http://www.w3.org/1999/xlink\" contentScriptType=\"application/ecmascript\" contentStyleType=\"text/css\" height=\"199px\" preserveAspectRatio=\"none\" style=\"width:163px;height:199px;\" version=\"1.1\" viewBox=\"0 0 163 199\" width=\"163px\" zoomAndPan=\"magnify\"><defs><filter height=\"300%\" id=\"fgn4wk37rdhc7\" width=\"300%\" x=\"-1\" y=\"-1\"><feGaussianBlur result=\"blurOut\" stdDeviation=\"2.0\"/><feColorMatrix in=\"blurOut\" result=\"blurOut2\" type=\"matrix\" values=\"0 0 0 0 0 0 0 0 0 0 0 0 0 0 0 0 0 0 .4 0\"/><feOffset dx=\"4.0\" dy=\"4.0\" in=\"blurOut2\" result=\"blurOut3\"/><feBlend in=\"SourceGraphic\" in2=\"blurOut3\" mode=\"normal\"/></filter></defs><g><!--MD5=[43c9051892ef23e1a46a86907403d788]\n",
       "class E1--><a href=\"psysml:d45f0f17-f367-4b4e-a94c-d0cd962b9658\" target=\"_top\" title=\"psysml:d45f0f17-f367-4b4e-a94c-d0cd962b9658\" xlink:actuate=\"onRequest\" xlink:href=\"psysml:d45f0f17-f367-4b4e-a94c-d0cd962b9658\" xlink:show=\"new\" xlink:title=\"psysml:d45f0f17-f367-4b4e-a94c-d0cd962b9658\" xlink:type=\"simple\"><rect fill=\"#FEFECE\" filter=\"url(#fgn4wk37rdhc7)\" height=\"173.1797\" id=\"E1\" style=\"stroke: #A80036; stroke-width: 1.5;\" width=\"137\" x=\"7\" y=\"7\"/><ellipse cx=\"22\" cy=\"25.9688\" fill=\"#A52A2A\" rx=\"11\" ry=\"11\" style=\"stroke: #A80036; stroke-width: 1.0;\"/><path d=\"M21.5938,21.7813 L21.5938,29.7656 L22.25,29.7656 Q23.6875,29.7656 24.2969,28.8594 Q24.9219,27.9375 24.9219,25.7656 Q24.9219,23.5938 24.2969,22.6875 Q23.6875,21.7813 22.25,21.7813 L21.5938,21.7813 Z M19.1406,19.5781 L21.7656,19.5781 Q24.7969,19.5781 26.125,21.0313 Q27.4688,22.4688 27.4688,25.7656 Q27.4688,29.0625 26.125,30.5156 Q24.7969,31.9688 21.7656,31.9688 L19.1406,31.9688 L19.1406,19.5781 Z \"/><text fill=\"#000000\" font-family=\"sans-serif\" font-size=\"12\" font-style=\"italic\" lengthAdjust=\"spacingAndGlyphs\" textLength=\"77\" x=\"50\" y=\"23.1387\">«action def»</text><text fill=\"#000000\" font-family=\"sans-serif\" font-size=\"12\" lengthAdjust=\"spacingAndGlyphs\" textLength=\"105\" x=\"36\" y=\"37.1074\">ControlNodeTest</text><line style=\"stroke: #A80036; stroke-width: 1.5;\" x1=\"8\" x2=\"143\" y1=\"44.9375\" y2=\"44.9375\"/><text fill=\"#000000\" font-family=\"sans-serif\" font-size=\"11\" lengthAdjust=\"spacingAndGlyphs\" textLength=\"14\" x=\"13\" y=\"75.9526\">A1</text><text fill=\"#000000\" font-family=\"sans-serif\" font-size=\"11\" lengthAdjust=\"spacingAndGlyphs\" textLength=\"14\" x=\"13\" y=\"88.7573\">A2</text><text fill=\"#000000\" font-family=\"sans-serif\" font-size=\"11\" lengthAdjust=\"spacingAndGlyphs\" textLength=\"15\" x=\"13\" y=\"101.562\">B1</text><text fill=\"#000000\" font-family=\"sans-serif\" font-size=\"11\" lengthAdjust=\"spacingAndGlyphs\" textLength=\"15\" x=\"13\" y=\"114.3667\">B2</text><line style=\"stroke: #A80036; stroke-width: 1.0;\" x1=\"8\" x2=\"55\" y1=\"59.3398\" y2=\"59.3398\"/><text fill=\"#000000\" font-family=\"sans-serif\" font-size=\"11\" lengthAdjust=\"spacingAndGlyphs\" textLength=\"41\" x=\"55\" y=\"62.6479\">actions</text><line style=\"stroke: #A80036; stroke-width: 1.0;\" x1=\"96\" x2=\"143\" y1=\"59.3398\" y2=\"59.3398\"/><text fill=\"#000000\" font-family=\"sans-serif\" font-size=\"11\" lengthAdjust=\"spacingAndGlyphs\" textLength=\"6\" x=\"13\" y=\"143.9761\">F</text><line style=\"stroke: #A80036; stroke-width: 1.0;\" x1=\"8\" x2=\"46.5\" y1=\"127.3633\" y2=\"127.3633\"/><text fill=\"#000000\" font-family=\"sans-serif\" font-size=\"11\" lengthAdjust=\"spacingAndGlyphs\" textLength=\"58\" x=\"46.5\" y=\"130.6714\">forkNodes</text><line style=\"stroke: #A80036; stroke-width: 1.0;\" x1=\"104.5\" x2=\"143\" y1=\"127.3633\" y2=\"127.3633\"/><text fill=\"#000000\" font-family=\"sans-serif\" font-size=\"11\" lengthAdjust=\"spacingAndGlyphs\" textLength=\"3\" x=\"13\" y=\"173.5854\">J</text><line style=\"stroke: #A80036; stroke-width: 1.0;\" x1=\"8\" x2=\"47.5\" y1=\"156.9727\" y2=\"156.9727\"/><text fill=\"#000000\" font-family=\"sans-serif\" font-size=\"11\" lengthAdjust=\"spacingAndGlyphs\" textLength=\"56\" x=\"47.5\" y=\"160.2808\">joinNodes</text><line style=\"stroke: #A80036; stroke-width: 1.0;\" x1=\"103.5\" x2=\"143\" y1=\"156.9727\" y2=\"156.9727\"/></a><!--MD5=[de2fbb08117fe32244af4be23eba5fa5]\n",
       "@startuml\r\n",
       " \r\n",
       "comp def \"ControlNodeTest\" as E1  <<(D,brown)action def>> [[psysml:d45f0f17-f367-4b4e-a94c-d0cd962b9658 ]] {\r\n",
       "- - actions - -\r\n",
       "A1\r\n",
       "A2\r\n",
       "B1\r\n",
       "B2\r\n",
       "- - forkNodes - -\r\n",
       "F\r\n",
       "- - joinNodes - -\r\n",
       "J\r\n",
       "}\r\n",
       "@enduml\r\n",
       "\n",
       "PlantUML version 1.2020.13(Sat Jun 13 12:26:38 UTC 2020)\n",
       "(EPL source distribution)\n",
       "Java Runtime: OpenJDK Runtime Environment\n",
       "JVM: OpenJDK 64-Bit Server VM\n",
       "Default Encoding: UTF-8\n",
       "Language: en\n",
       "Country: null\n",
       "--></g></svg>"
      ]
     },
     "execution_count": 31,
     "metadata": {},
     "output_type": "execute_result"
    }
   ],
   "source": [
    "%viz --style=\"PLANTUML\" --view=\"Tree\" \"ControlNodeTest\""
   ]
  },
  {
   "cell_type": "code",
   "execution_count": 32,
   "id": "constitutional-flour",
   "metadata": {
    "execution": {
     "iopub.execute_input": "2021-03-25T09:28:36.702490Z",
     "iopub.status.busy": "2021-03-25T09:28:36.701262Z",
     "iopub.status.idle": "2021-03-25T09:28:37.579645Z",
     "shell.execute_reply": "2021-03-25T09:28:37.578290Z"
    }
   },
   "outputs": [
    {
     "data": {
      "image/svg+xml": [
       "<?xml version=\"1.0\" encoding=\"UTF-8\" standalone=\"no\"?><svg xmlns=\"http://www.w3.org/2000/svg\" xmlns:xlink=\"http://www.w3.org/1999/xlink\" contentScriptType=\"application/ecmascript\" contentStyleType=\"text/css\" height=\"303px\" preserveAspectRatio=\"none\" style=\"width:603px;height:303px;background:#000000;\" version=\"1.1\" viewBox=\"0 0 603 303\" width=\"603px\" zoomAndPan=\"magnify\"><defs/><g><rect fill=\"#210801\" height=\"1\" style=\"stroke: #210801; stroke-width: 1.0;\" width=\"1\" x=\"0\" y=\"0\"/><rect fill=\"#FFFFFF\" height=\"205.5625\" style=\"stroke: #FFFFFF; stroke-width: 1.0;\" width=\"602\" x=\"0\" y=\"0\"/><text fill=\"#000000\" font-family=\"sans-serif\" font-size=\"12\" font-weight=\"bold\" lengthAdjust=\"spacingAndGlyphs\" textLength=\"159\" x=\"5\" y=\"16.1387\">Welcome to PlantUML!</text><text fill=\"#000000\" font-family=\"sans-serif\" font-size=\"12\" lengthAdjust=\"spacingAndGlyphs\" textLength=\"0\" x=\"9\" y=\"30.1074\"/><text fill=\"#000000\" font-family=\"sans-serif\" font-size=\"12\" lengthAdjust=\"spacingAndGlyphs\" textLength=\"293\" x=\"5\" y=\"44.0762\">If you use this software, you accept its license.</text><text fill=\"#000000\" font-family=\"sans-serif\" font-size=\"12\" lengthAdjust=\"spacingAndGlyphs\" textLength=\"107\" x=\"5\" y=\"58.0449\">(details by typing</text><text fill=\"#000000\" font-family=\"monospace\" font-size=\"12\" lengthAdjust=\"spacingAndGlyphs\" textLength=\"49\" x=\"116\" y=\"58.0449\">license</text><text fill=\"#000000\" font-family=\"sans-serif\" font-size=\"12\" lengthAdjust=\"spacingAndGlyphs\" textLength=\"56\" x=\"169\" y=\"58.0449\">keyword)</text><text fill=\"#000000\" font-family=\"sans-serif\" font-size=\"12\" lengthAdjust=\"spacingAndGlyphs\" textLength=\"0\" x=\"9\" y=\"72.0137\"/><text fill=\"#000000\" font-family=\"sans-serif\" font-size=\"12\" lengthAdjust=\"spacingAndGlyphs\" textLength=\"283\" x=\"5\" y=\"85.9824\">You can start with a simple UML Diagram like:</text><text fill=\"#000000\" font-family=\"sans-serif\" font-size=\"12\" lengthAdjust=\"spacingAndGlyphs\" textLength=\"0\" x=\"9\" y=\"99.9512\"/><text fill=\"#000000\" font-family=\"monospace\" font-size=\"12\" lengthAdjust=\"spacingAndGlyphs\" textLength=\"119\" x=\"5\" y=\"113.9199\">Bob-&gt;Alice: Hello</text><text fill=\"#000000\" font-family=\"sans-serif\" font-size=\"12\" lengthAdjust=\"spacingAndGlyphs\" textLength=\"0\" x=\"9\" y=\"127.8887\"/><text fill=\"#000000\" font-family=\"sans-serif\" font-size=\"12\" lengthAdjust=\"spacingAndGlyphs\" textLength=\"14\" x=\"5\" y=\"141.8574\">Or</text><text fill=\"#000000\" font-family=\"sans-serif\" font-size=\"12\" lengthAdjust=\"spacingAndGlyphs\" textLength=\"0\" x=\"9\" y=\"155.8262\"/><text fill=\"#000000\" font-family=\"monospace\" font-size=\"12\" lengthAdjust=\"spacingAndGlyphs\" textLength=\"91\" x=\"5\" y=\"169.7949\">class Example</text><text fill=\"#000000\" font-family=\"sans-serif\" font-size=\"12\" lengthAdjust=\"spacingAndGlyphs\" textLength=\"0\" x=\"9\" y=\"183.7637\"/><text fill=\"#000000\" font-family=\"sans-serif\" font-size=\"12\" lengthAdjust=\"spacingAndGlyphs\" textLength=\"349\" x=\"5\" y=\"197.7324\">You will find more information about PlantUML syntax on</text><text fill=\"#000000\" font-family=\"sans-serif\" font-size=\"12\" lengthAdjust=\"spacingAndGlyphs\" text-decoration=\"underline\" textLength=\"129\" x=\"358\" y=\"197.7324\">https://plantuml.com</text><image height=\"71\" width=\"80\" x=\"516\" xlink:href=\"data:image/png;base64,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\" y=\"6\"/><rect fill=\"#000000\" height=\"96.4844\" style=\"stroke: #000000; stroke-width: 1.0;\" width=\"602\" x=\"0\" y=\"205.5625\"/><rect fill=\"#33FF02\" height=\"21.2969\" style=\"stroke: #33FF02; stroke-width: 1.0;\" width=\"170\" x=\"5\" y=\"210.5625\"/><text fill=\"#000000\" font-family=\"sans-serif\" font-size=\"14\" font-weight=\"bold\" lengthAdjust=\"spacingAndGlyphs\" textLength=\"168\" x=\"6\" y=\"225.5625\">[From string (line 2) ]</text><text fill=\"#33FF02\" font-family=\"sans-serif\" font-size=\"14\" font-weight=\"bold\" lengthAdjust=\"spacingAndGlyphs\" textLength=\"0\" x=\"10\" y=\"245.8594\"/><text fill=\"#33FF02\" font-family=\"sans-serif\" font-size=\"14\" font-weight=\"bold\" lengthAdjust=\"spacingAndGlyphs\" textLength=\"79\" x=\"5\" y=\"262.1563\">@startuml</text><text fill=\"#33FF02\" font-family=\"sans-serif\" font-size=\"14\" font-weight=\"bold\" lengthAdjust=\"spacingAndGlyphs\" textLength=\"0\" x=\"10\" y=\"278.4531\"/><text fill=\"#FF0000\" font-family=\"sans-serif\" font-size=\"14\" font-weight=\"bold\" lengthAdjust=\"spacingAndGlyphs\" textLength=\"142\" x=\"10\" y=\"294.75\">Empty description</text><!--MD5=[f59edd8218d337f74d0c332fc6737304]\n",
       "@startuml\r\n",
       " \r\n",
       "@enduml\r\n",
       "\n",
       "PlantUML version 1.2020.13(Sat Jun 13 12:26:38 UTC 2020)\n",
       "(EPL source distribution)\n",
       "Java Runtime: OpenJDK Runtime Environment\n",
       "JVM: OpenJDK 64-Bit Server VM\n",
       "Default Encoding: UTF-8\n",
       "Language: en\n",
       "Country: null\n",
       "--></g></svg>"
      ]
     },
     "execution_count": 32,
     "metadata": {},
     "output_type": "execute_result"
    }
   ],
   "source": [
    "%viz --style=\"PLANTUML\" --view=\"State\" \"ControlNodeTest\""
   ]
  },
  {
   "cell_type": "code",
   "execution_count": 33,
   "id": "optional-claim",
   "metadata": {
    "execution": {
     "iopub.execute_input": "2021-03-25T09:28:37.631570Z",
     "iopub.status.busy": "2021-03-25T09:28:37.630820Z",
     "iopub.status.idle": "2021-03-25T09:28:37.657194Z",
     "shell.execute_reply": "2021-03-25T09:28:37.656683Z"
    }
   },
   "outputs": [
    {
     "data": {
      "image/svg+xml": [
       "<?xml version=\"1.0\" encoding=\"UTF-8\" standalone=\"no\"?><svg xmlns=\"http://www.w3.org/2000/svg\" xmlns:xlink=\"http://www.w3.org/1999/xlink\" contentScriptType=\"application/ecmascript\" contentStyleType=\"text/css\" height=\"68px\" preserveAspectRatio=\"none\" style=\"width:168px;height:68px;\" version=\"1.1\" viewBox=\"0 0 168 68\" width=\"168px\" zoomAndPan=\"magnify\"><defs><filter height=\"300%\" id=\"f1obnppozob01\" width=\"300%\" x=\"-1\" y=\"-1\"><feGaussianBlur result=\"blurOut\" stdDeviation=\"2.0\"/><feColorMatrix in=\"blurOut\" result=\"blurOut2\" type=\"matrix\" values=\"0 0 0 0 0 0 0 0 0 0 0 0 0 0 0 0 0 0 .4 0\"/><feOffset dx=\"4.0\" dy=\"4.0\" in=\"blurOut2\" result=\"blurOut3\"/><feBlend in=\"SourceGraphic\" in2=\"blurOut3\" mode=\"normal\"/></filter></defs><g><g id=\"E1\"><a href=\"psysml:d45f0f17-f367-4b4e-a94c-d0cd962b9658\" target=\"_top\" title=\"psysml:d45f0f17-f367-4b4e-a94c-d0cd962b9658\" xlink:actuate=\"onRequest\" xlink:href=\"psysml:d45f0f17-f367-4b4e-a94c-d0cd962b9658\" xlink:show=\"new\" xlink:title=\"psysml:d45f0f17-f367-4b4e-a94c-d0cd962b9658\" xlink:type=\"simple\"><rect fill=\"#FEFECE\" filter=\"url(#f1obnppozob01)\" height=\"42.9375\" id=\"E1\" style=\"stroke: #A80036; stroke-width: 1.5;\" width=\"142\" x=\"7\" y=\"7\"/><ellipse cx=\"24.25\" cy=\"25.9688\" fill=\"#A52A2A\" rx=\"11\" ry=\"11\" style=\"stroke: #A80036; stroke-width: 1.0;\"/><path d=\"M23.8438,21.7813 L23.8438,29.7656 L24.5,29.7656 Q25.9375,29.7656 26.5469,28.8594 Q27.1719,27.9375 27.1719,25.7656 Q27.1719,23.5938 26.5469,22.6875 Q25.9375,21.7813 24.5,21.7813 L23.8438,21.7813 Z M21.3906,19.5781 L24.0156,19.5781 Q27.0469,19.5781 28.375,21.0313 Q29.7188,22.4688 29.7188,25.7656 Q29.7188,29.0625 28.375,30.5156 Q27.0469,31.9688 24.0156,31.9688 L21.3906,31.9688 L21.3906,19.5781 Z \"/><text fill=\"#000000\" font-family=\"sans-serif\" font-size=\"12\" font-style=\"italic\" lengthAdjust=\"spacingAndGlyphs\" textLength=\"77\" x=\"52.75\" y=\"23.1387\">«action def»</text><text fill=\"#000000\" font-family=\"sans-serif\" font-size=\"12\" lengthAdjust=\"spacingAndGlyphs\" textLength=\"105\" x=\"38.75\" y=\"37.1074\">ControlNodeTest</text></a></g><!--MD5=[4a4e6ffc16138358f5c770295a3674e9]\n",
       "@startuml\r\n",
       "skinparam ranksep 8\r\n",
       "skinparam rectangle {\r\n",
       " backgroundColor<<block>> LightGreen\r\n",
       "}\r\n",
       " \r\n",
       "def \"ControlNodeTest\" as E1  <<(D,brown)action def>> [[psysml:d45f0f17-f367-4b4e-a94c-d0cd962b9658 ]] \r\n",
       "@enduml\r\n",
       "\n",
       "PlantUML version 1.2020.13(Sat Jun 13 12:26:38 UTC 2020)\n",
       "(EPL source distribution)\n",
       "Java Runtime: OpenJDK Runtime Environment\n",
       "JVM: OpenJDK 64-Bit Server VM\n",
       "Default Encoding: UTF-8\n",
       "Language: en\n",
       "Country: null\n",
       "--></g></svg>"
      ]
     },
     "execution_count": 33,
     "metadata": {},
     "output_type": "execute_result"
    }
   ],
   "source": [
    "%viz --style=\"PLANTUML\" --view=\"Interconnection\" \"ControlNodeTest\""
   ]
  },
  {
   "cell_type": "code",
   "execution_count": 34,
   "id": "geographic-agriculture",
   "metadata": {
    "execution": {
     "iopub.execute_input": "2021-03-25T09:28:37.708467Z",
     "iopub.status.busy": "2021-03-25T09:28:37.707932Z",
     "iopub.status.idle": "2021-03-25T09:28:37.803335Z",
     "shell.execute_reply": "2021-03-25T09:28:37.801536Z"
    }
   },
   "outputs": [
    {
     "data": {
      "image/svg+xml": [
       "<?xml version=\"1.0\" encoding=\"UTF-8\" standalone=\"no\"?><svg xmlns=\"http://www.w3.org/2000/svg\" xmlns:xlink=\"http://www.w3.org/1999/xlink\" contentScriptType=\"application/ecmascript\" contentStyleType=\"text/css\" height=\"136px\" preserveAspectRatio=\"none\" style=\"width:737px;height:136px;\" version=\"1.1\" viewBox=\"0 0 737 136\" width=\"737px\" zoomAndPan=\"magnify\"><defs><filter height=\"300%\" id=\"fb6gz78lc4noy\" width=\"300%\" x=\"-1\" y=\"-1\"><feGaussianBlur result=\"blurOut\" stdDeviation=\"2.0\"/><feColorMatrix in=\"blurOut\" result=\"blurOut2\" type=\"matrix\" values=\"0 0 0 0 0 0 0 0 0 0 0 0 0 0 0 0 0 0 .4 0\"/><feOffset dx=\"4.0\" dy=\"4.0\" in=\"blurOut2\" result=\"blurOut3\"/><feBlend in=\"SourceGraphic\" in2=\"blurOut3\" mode=\"normal\"/></filter></defs><g><!--MD5=[fbc87193dbaf4d95561dea2c320d4a47]\n",
       "cluster E1--><a href=\"psysml:d45f0f17-f367-4b4e-a94c-d0cd962b9658\" target=\"_top\" title=\"psysml:d45f0f17-f367-4b4e-a94c-d0cd962b9658\" xlink:actuate=\"onRequest\" xlink:href=\"psysml:d45f0f17-f367-4b4e-a94c-d0cd962b9658\" xlink:show=\"new\" xlink:title=\"psysml:d45f0f17-f367-4b4e-a94c-d0cd962b9658\" xlink:type=\"simple\"><rect fill=\"#FFFFFF\" filter=\"url(#fb6gz78lc4noy)\" height=\"110\" id=\"E1\" style=\"stroke: #A80036; stroke-width: 1.5;\" width=\"711\" x=\"7\" y=\"7\"/><rect fill=\"#FEFECE\" height=\"37.9375\" style=\"stroke: #A80036; stroke-width: 1.5;\" width=\"711\" x=\"7\" y=\"7\"/><text fill=\"#000000\" font-family=\"sans-serif\" font-size=\"12\" font-style=\"italic\" lengthAdjust=\"spacingAndGlyphs\" textLength=\"77\" x=\"324\" y=\"23.1387\">«action def»</text><text fill=\"#000000\" font-family=\"sans-serif\" font-size=\"12\" lengthAdjust=\"spacingAndGlyphs\" textLength=\"105\" x=\"310\" y=\"37.1074\">ControlNodeTest</text></a><rect fill=\"#000000\" filter=\"url(#fb6gz78lc4noy)\" height=\"8\" style=\"stroke: none; stroke-width: 1.0;\" width=\"80\" x=\"622\" y=\"75.5\"/><rect fill=\"#000000\" filter=\"url(#fb6gz78lc4noy)\" height=\"8\" style=\"stroke: none; stroke-width: 1.0;\" width=\"80\" x=\"507\" y=\"75.5\"/><g id=\"E1.E2\"><a href=\"psysml:fdc5aa3b-ed80-41e9-a98e-ce8c422e55eb\" target=\"_top\" title=\"psysml:fdc5aa3b-ed80-41e9-a98e-ce8c422e55eb\" xlink:actuate=\"onRequest\" xlink:href=\"psysml:fdc5aa3b-ed80-41e9-a98e-ce8c422e55eb\" xlink:show=\"new\" xlink:title=\"psysml:fdc5aa3b-ed80-41e9-a98e-ce8c422e55eb\" xlink:type=\"simple\"><rect fill=\"#FEFECE\" filter=\"url(#fb6gz78lc4noy)\" height=\"42.9375\" id=\"E2\" rx=\"10\" ry=\"10\" style=\"stroke: #A80036; stroke-width: 1.5;\" width=\"86\" x=\"386\" y=\"58\"/><ellipse cx=\"403.25\" cy=\"76.9688\" fill=\"#FFA500\" rx=\"11\" ry=\"11\" style=\"stroke: #A80036; stroke-width: 1.0;\"/><path d=\"M399.125,78.8906 L399.125,71.0781 L401.5781,71.0781 L401.5781,79.5156 Q401.5781,80.4375 402.0469,80.9688 Q402.5313,81.5 403.3594,81.5 Q404.2031,81.5 404.6719,80.9688 Q405.1406,80.4375 405.1406,79.5156 L405.1406,71.0781 L407.5938,71.0781 L407.5938,78.8906 Q407.5938,81.4219 406.5938,82.5625 Q405.5938,83.7031 403.3594,83.7031 Q401.1406,83.7031 400.125,82.5625 Q399.125,81.4219 399.125,78.8906 Z \"/><text fill=\"#000000\" font-family=\"sans-serif\" font-size=\"12\" font-style=\"italic\" lengthAdjust=\"spacingAndGlyphs\" textLength=\"53\" x=\"415.75\" y=\"74.1387\">«action»</text><text fill=\"#000000\" font-family=\"sans-serif\" font-size=\"12\" lengthAdjust=\"spacingAndGlyphs\" textLength=\"16\" x=\"434.25\" y=\"88.1074\">A1</text></a></g><g id=\"E1.E3\"><a href=\"psysml:2c991ffe-75e4-475a-bb83-43f5c2feea80\" target=\"_top\" title=\"psysml:2c991ffe-75e4-475a-bb83-43f5c2feea80\" xlink:actuate=\"onRequest\" xlink:href=\"psysml:2c991ffe-75e4-475a-bb83-43f5c2feea80\" xlink:show=\"new\" xlink:title=\"psysml:2c991ffe-75e4-475a-bb83-43f5c2feea80\" xlink:type=\"simple\"><rect fill=\"#FEFECE\" filter=\"url(#fb6gz78lc4noy)\" height=\"42.9375\" id=\"E3\" rx=\"10\" ry=\"10\" style=\"stroke: #A80036; stroke-width: 1.5;\" width=\"86\" x=\"265\" y=\"58\"/><ellipse cx=\"282.25\" cy=\"76.9688\" fill=\"#FFA500\" rx=\"11\" ry=\"11\" style=\"stroke: #A80036; stroke-width: 1.0;\"/><path d=\"M278.125,78.8906 L278.125,71.0781 L280.5781,71.0781 L280.5781,79.5156 Q280.5781,80.4375 281.0469,80.9688 Q281.5313,81.5 282.3594,81.5 Q283.2031,81.5 283.6719,80.9688 Q284.1406,80.4375 284.1406,79.5156 L284.1406,71.0781 L286.5938,71.0781 L286.5938,78.8906 Q286.5938,81.4219 285.5938,82.5625 Q284.5938,83.7031 282.3594,83.7031 Q280.1406,83.7031 279.125,82.5625 Q278.125,81.4219 278.125,78.8906 Z \"/><text fill=\"#000000\" font-family=\"sans-serif\" font-size=\"12\" font-style=\"italic\" lengthAdjust=\"spacingAndGlyphs\" textLength=\"53\" x=\"294.75\" y=\"74.1387\">«action»</text><text fill=\"#000000\" font-family=\"sans-serif\" font-size=\"12\" lengthAdjust=\"spacingAndGlyphs\" textLength=\"16\" x=\"313.25\" y=\"88.1074\">A2</text></a></g><g id=\"E1.E6\"><a href=\"psysml:f26d7e3d-b672-461c-aa14-0bbf3d4e7737\" target=\"_top\" title=\"psysml:f26d7e3d-b672-461c-aa14-0bbf3d4e7737\" xlink:actuate=\"onRequest\" xlink:href=\"psysml:f26d7e3d-b672-461c-aa14-0bbf3d4e7737\" xlink:show=\"new\" xlink:title=\"psysml:f26d7e3d-b672-461c-aa14-0bbf3d4e7737\" xlink:type=\"simple\"><rect fill=\"#FEFECE\" filter=\"url(#fb6gz78lc4noy)\" height=\"42.9375\" id=\"E6\" rx=\"10\" ry=\"10\" style=\"stroke: #A80036; stroke-width: 1.5;\" width=\"86\" x=\"144\" y=\"58\"/><ellipse cx=\"161.25\" cy=\"76.9688\" fill=\"#FFA500\" rx=\"11\" ry=\"11\" style=\"stroke: #A80036; stroke-width: 1.0;\"/><path d=\"M157.125,78.8906 L157.125,71.0781 L159.5781,71.0781 L159.5781,79.5156 Q159.5781,80.4375 160.0469,80.9688 Q160.5313,81.5 161.3594,81.5 Q162.2031,81.5 162.6719,80.9688 Q163.1406,80.4375 163.1406,79.5156 L163.1406,71.0781 L165.5938,71.0781 L165.5938,78.8906 Q165.5938,81.4219 164.5938,82.5625 Q163.5938,83.7031 161.3594,83.7031 Q159.1406,83.7031 158.125,82.5625 Q157.125,81.4219 157.125,78.8906 Z \"/><text fill=\"#000000\" font-family=\"sans-serif\" font-size=\"12\" font-style=\"italic\" lengthAdjust=\"spacingAndGlyphs\" textLength=\"53\" x=\"173.75\" y=\"74.1387\">«action»</text><text fill=\"#000000\" font-family=\"sans-serif\" font-size=\"12\" lengthAdjust=\"spacingAndGlyphs\" textLength=\"16\" x=\"192.25\" y=\"88.1074\">B1</text></a></g><g id=\"E1.E7\"><a href=\"psysml:f6cf6959-d08a-437c-8e4b-96dd916f2436\" target=\"_top\" title=\"psysml:f6cf6959-d08a-437c-8e4b-96dd916f2436\" xlink:actuate=\"onRequest\" xlink:href=\"psysml:f6cf6959-d08a-437c-8e4b-96dd916f2436\" xlink:show=\"new\" xlink:title=\"psysml:f6cf6959-d08a-437c-8e4b-96dd916f2436\" xlink:type=\"simple\"><rect fill=\"#FEFECE\" filter=\"url(#fb6gz78lc4noy)\" height=\"42.9375\" id=\"E7\" rx=\"10\" ry=\"10\" style=\"stroke: #A80036; stroke-width: 1.5;\" width=\"86\" x=\"23\" y=\"58\"/><ellipse cx=\"40.25\" cy=\"76.9688\" fill=\"#FFA500\" rx=\"11\" ry=\"11\" style=\"stroke: #A80036; stroke-width: 1.0;\"/><path d=\"M36.125,78.8906 L36.125,71.0781 L38.5781,71.0781 L38.5781,79.5156 Q38.5781,80.4375 39.0469,80.9688 Q39.5313,81.5 40.3594,81.5 Q41.2031,81.5 41.6719,80.9688 Q42.1406,80.4375 42.1406,79.5156 L42.1406,71.0781 L44.5938,71.0781 L44.5938,78.8906 Q44.5938,81.4219 43.5938,82.5625 Q42.5938,83.7031 40.3594,83.7031 Q38.1406,83.7031 37.125,82.5625 Q36.125,81.4219 36.125,78.8906 Z \"/><text fill=\"#000000\" font-family=\"sans-serif\" font-size=\"12\" font-style=\"italic\" lengthAdjust=\"spacingAndGlyphs\" textLength=\"53\" x=\"52.75\" y=\"74.1387\">«action»</text><text fill=\"#000000\" font-family=\"sans-serif\" font-size=\"12\" lengthAdjust=\"spacingAndGlyphs\" textLength=\"16\" x=\"71.25\" y=\"88.1074\">B2</text></a></g><!--MD5=[8bdde47f2120846526999df0f5f8abac]\n",
       "@startuml\r\n",
       "skinparam ranksep 8\r\n",
       " \r\n",
       "rec def \"ControlNodeTest\" as E1  <<(D,brown)action def>> [[psysml:d45f0f17-f367-4b4e-a94c-d0cd962b9658 ]] {\r\n",
       "rec usage \"A1\" as E2  <<(U,orange)action>> [[psysml:fdc5aa3b-ed80-41e9-a98e-ce8c422e55eb ]] {\r\n",
       "}\r\n",
       "\r\n",
       "rec usage \"A2\" as E3  <<(U,orange)action>> [[psysml:2c991ffe-75e4-475a-bb83-43f5c2feea80 ]] {\r\n",
       "}\r\n",
       "\r\n",
       "join \"J\" as E4  [[psysml:5dc91872-c5b7-4d29-9265-55786a5f23d3 ]] \r\n",
       "fork \"F\" as E5  [[psysml:32073807-3d0f-4273-9610-bcad2a0739d7 ]] \r\n",
       "rec usage \"B1\" as E6  <<(U,orange)action>> [[psysml:f26d7e3d-b672-461c-aa14-0bbf3d4e7737 ]] {\r\n",
       "}\r\n",
       "\r\n",
       "rec usage \"B2\" as E7  <<(U,orange)action>> [[psysml:f6cf6959-d08a-437c-8e4b-96dd916f2436 ]] {\r\n",
       "}\r\n",
       "\r\n",
       "}\r\n",
       "\r\n",
       "@enduml\r\n",
       "\n",
       "PlantUML version 1.2020.13(Sat Jun 13 12:26:38 UTC 2020)\n",
       "(EPL source distribution)\n",
       "Java Runtime: OpenJDK Runtime Environment\n",
       "JVM: OpenJDK 64-Bit Server VM\n",
       "Default Encoding: UTF-8\n",
       "Language: en\n",
       "Country: null\n",
       "--></g></svg>"
      ]
     },
     "execution_count": 34,
     "metadata": {},
     "output_type": "execute_result"
    }
   ],
   "source": [
    "%viz --style=\"PLANTUML\" --view=\"Action\" \"ControlNodeTest\""
   ]
  },
  {
   "cell_type": "code",
   "execution_count": 35,
   "id": "disciplinary-command",
   "metadata": {
    "execution": {
     "iopub.execute_input": "2021-03-25T09:28:37.853270Z",
     "iopub.status.busy": "2021-03-25T09:28:37.852836Z",
     "iopub.status.idle": "2021-03-25T09:28:38.084854Z",
     "shell.execute_reply": "2021-03-25T09:28:38.084203Z"
    }
   },
   "outputs": [
    {
     "data": {
      "image/svg+xml": [
       "<?xml version=\"1.0\" encoding=\"UTF-8\" standalone=\"no\"?><svg xmlns=\"http://www.w3.org/2000/svg\" xmlns:xlink=\"http://www.w3.org/1999/xlink\" contentScriptType=\"application/ecmascript\" contentStyleType=\"text/css\" height=\"199px\" preserveAspectRatio=\"none\" style=\"width:163px;height:199px;\" version=\"1.1\" viewBox=\"0 0 163 199\" width=\"163px\" zoomAndPan=\"magnify\"><defs><filter height=\"300%\" id=\"fgn4wk37rdhc7\" width=\"300%\" x=\"-1\" y=\"-1\"><feGaussianBlur result=\"blurOut\" stdDeviation=\"2.0\"/><feColorMatrix in=\"blurOut\" result=\"blurOut2\" type=\"matrix\" values=\"0 0 0 0 0 0 0 0 0 0 0 0 0 0 0 0 0 0 .4 0\"/><feOffset dx=\"4.0\" dy=\"4.0\" in=\"blurOut2\" result=\"blurOut3\"/><feBlend in=\"SourceGraphic\" in2=\"blurOut3\" mode=\"normal\"/></filter></defs><g><!--MD5=[43c9051892ef23e1a46a86907403d788]\n",
       "class E1--><a href=\"psysml:d45f0f17-f367-4b4e-a94c-d0cd962b9658\" target=\"_top\" title=\"psysml:d45f0f17-f367-4b4e-a94c-d0cd962b9658\" xlink:actuate=\"onRequest\" xlink:href=\"psysml:d45f0f17-f367-4b4e-a94c-d0cd962b9658\" xlink:show=\"new\" xlink:title=\"psysml:d45f0f17-f367-4b4e-a94c-d0cd962b9658\" xlink:type=\"simple\"><rect fill=\"#FEFECE\" filter=\"url(#fgn4wk37rdhc7)\" height=\"173.1797\" id=\"E1\" style=\"stroke: #A80036; stroke-width: 1.5;\" width=\"137\" x=\"7\" y=\"7\"/><ellipse cx=\"22\" cy=\"25.9688\" fill=\"#A52A2A\" rx=\"11\" ry=\"11\" style=\"stroke: #A80036; stroke-width: 1.0;\"/><path d=\"M21.5938,21.7813 L21.5938,29.7656 L22.25,29.7656 Q23.6875,29.7656 24.2969,28.8594 Q24.9219,27.9375 24.9219,25.7656 Q24.9219,23.5938 24.2969,22.6875 Q23.6875,21.7813 22.25,21.7813 L21.5938,21.7813 Z M19.1406,19.5781 L21.7656,19.5781 Q24.7969,19.5781 26.125,21.0313 Q27.4688,22.4688 27.4688,25.7656 Q27.4688,29.0625 26.125,30.5156 Q24.7969,31.9688 21.7656,31.9688 L19.1406,31.9688 L19.1406,19.5781 Z \"/><text fill=\"#000000\" font-family=\"sans-serif\" font-size=\"12\" font-style=\"italic\" lengthAdjust=\"spacingAndGlyphs\" textLength=\"77\" x=\"50\" y=\"23.1387\">«action def»</text><text fill=\"#000000\" font-family=\"sans-serif\" font-size=\"12\" lengthAdjust=\"spacingAndGlyphs\" textLength=\"105\" x=\"36\" y=\"37.1074\">ControlNodeTest</text><line style=\"stroke: #A80036; stroke-width: 1.5;\" x1=\"8\" x2=\"143\" y1=\"44.9375\" y2=\"44.9375\"/><text fill=\"#000000\" font-family=\"sans-serif\" font-size=\"11\" lengthAdjust=\"spacingAndGlyphs\" textLength=\"14\" x=\"13\" y=\"75.9526\">A1</text><text fill=\"#000000\" font-family=\"sans-serif\" font-size=\"11\" lengthAdjust=\"spacingAndGlyphs\" textLength=\"14\" x=\"13\" y=\"88.7573\">A2</text><text fill=\"#000000\" font-family=\"sans-serif\" font-size=\"11\" lengthAdjust=\"spacingAndGlyphs\" textLength=\"15\" x=\"13\" y=\"101.562\">B1</text><text fill=\"#000000\" font-family=\"sans-serif\" font-size=\"11\" lengthAdjust=\"spacingAndGlyphs\" textLength=\"15\" x=\"13\" y=\"114.3667\">B2</text><line style=\"stroke: #A80036; stroke-width: 1.0;\" x1=\"8\" x2=\"55\" y1=\"59.3398\" y2=\"59.3398\"/><text fill=\"#000000\" font-family=\"sans-serif\" font-size=\"11\" lengthAdjust=\"spacingAndGlyphs\" textLength=\"41\" x=\"55\" y=\"62.6479\">actions</text><line style=\"stroke: #A80036; stroke-width: 1.0;\" x1=\"96\" x2=\"143\" y1=\"59.3398\" y2=\"59.3398\"/><text fill=\"#000000\" font-family=\"sans-serif\" font-size=\"11\" lengthAdjust=\"spacingAndGlyphs\" textLength=\"6\" x=\"13\" y=\"143.9761\">F</text><line style=\"stroke: #A80036; stroke-width: 1.0;\" x1=\"8\" x2=\"46.5\" y1=\"127.3633\" y2=\"127.3633\"/><text fill=\"#000000\" font-family=\"sans-serif\" font-size=\"11\" lengthAdjust=\"spacingAndGlyphs\" textLength=\"58\" x=\"46.5\" y=\"130.6714\">forkNodes</text><line style=\"stroke: #A80036; stroke-width: 1.0;\" x1=\"104.5\" x2=\"143\" y1=\"127.3633\" y2=\"127.3633\"/><text fill=\"#000000\" font-family=\"sans-serif\" font-size=\"11\" lengthAdjust=\"spacingAndGlyphs\" textLength=\"3\" x=\"13\" y=\"173.5854\">J</text><line style=\"stroke: #A80036; stroke-width: 1.0;\" x1=\"8\" x2=\"47.5\" y1=\"156.9727\" y2=\"156.9727\"/><text fill=\"#000000\" font-family=\"sans-serif\" font-size=\"11\" lengthAdjust=\"spacingAndGlyphs\" textLength=\"56\" x=\"47.5\" y=\"160.2808\">joinNodes</text><line style=\"stroke: #A80036; stroke-width: 1.0;\" x1=\"103.5\" x2=\"143\" y1=\"156.9727\" y2=\"156.9727\"/></a><!--MD5=[de2fbb08117fe32244af4be23eba5fa5]\n",
       "@startuml\r\n",
       " \r\n",
       "comp def \"ControlNodeTest\" as E1  <<(D,brown)action def>> [[psysml:d45f0f17-f367-4b4e-a94c-d0cd962b9658 ]] {\r\n",
       "- - actions - -\r\n",
       "A1\r\n",
       "A2\r\n",
       "B1\r\n",
       "B2\r\n",
       "- - forkNodes - -\r\n",
       "F\r\n",
       "- - joinNodes - -\r\n",
       "J\r\n",
       "}\r\n",
       "@enduml\r\n",
       "\n",
       "PlantUML version 1.2020.13(Sat Jun 13 12:26:38 UTC 2020)\n",
       "(EPL source distribution)\n",
       "Java Runtime: OpenJDK Runtime Environment\n",
       "JVM: OpenJDK 64-Bit Server VM\n",
       "Default Encoding: UTF-8\n",
       "Language: en\n",
       "Country: null\n",
       "--></g></svg>"
      ]
     },
     "execution_count": 35,
     "metadata": {},
     "output_type": "execute_result"
    }
   ],
   "source": [
    "%viz --style=\"PLANTUML\" --view=\"Sequence\" \"ControlNodeTest\""
   ]
  },
  {
   "cell_type": "code",
   "execution_count": 36,
   "id": "blocked-superior",
   "metadata": {
    "execution": {
     "iopub.execute_input": "2021-03-25T09:28:38.137984Z",
     "iopub.status.busy": "2021-03-25T09:28:38.137245Z",
     "iopub.status.idle": "2021-03-25T09:28:38.232377Z",
     "shell.execute_reply": "2021-03-25T09:28:38.232765Z"
    }
   },
   "outputs": [
    {
     "data": {
      "image/svg+xml": [
       "<?xml version=\"1.0\" encoding=\"UTF-8\" standalone=\"no\"?><svg xmlns=\"http://www.w3.org/2000/svg\" xmlns:xlink=\"http://www.w3.org/1999/xlink\" contentScriptType=\"application/ecmascript\" contentStyleType=\"text/css\" height=\"136px\" preserveAspectRatio=\"none\" style=\"width:737px;height:136px;\" version=\"1.1\" viewBox=\"0 0 737 136\" width=\"737px\" zoomAndPan=\"magnify\"><defs><filter height=\"300%\" id=\"fsitznmwd20ph\" width=\"300%\" x=\"-1\" y=\"-1\"><feGaussianBlur result=\"blurOut\" stdDeviation=\"2.0\"/><feColorMatrix in=\"blurOut\" result=\"blurOut2\" type=\"matrix\" values=\"0 0 0 0 0 0 0 0 0 0 0 0 0 0 0 0 0 0 .4 0\"/><feOffset dx=\"4.0\" dy=\"4.0\" in=\"blurOut2\" result=\"blurOut3\"/><feBlend in=\"SourceGraphic\" in2=\"blurOut3\" mode=\"normal\"/></filter></defs><g><!--MD5=[fbc87193dbaf4d95561dea2c320d4a47]\n",
       "cluster E1--><a href=\"psysml:d45f0f17-f367-4b4e-a94c-d0cd962b9658\" target=\"_top\" title=\"psysml:d45f0f17-f367-4b4e-a94c-d0cd962b9658\" xlink:actuate=\"onRequest\" xlink:href=\"psysml:d45f0f17-f367-4b4e-a94c-d0cd962b9658\" xlink:show=\"new\" xlink:title=\"psysml:d45f0f17-f367-4b4e-a94c-d0cd962b9658\" xlink:type=\"simple\"><rect fill=\"#FFFFFF\" filter=\"url(#fsitznmwd20ph)\" height=\"110\" id=\"E1\" style=\"stroke: #A80036; stroke-width: 1.5;\" width=\"711\" x=\"7\" y=\"7\"/><rect fill=\"#FEFECE\" height=\"37.9375\" style=\"stroke: #A80036; stroke-width: 1.5;\" width=\"711\" x=\"7\" y=\"7\"/><text fill=\"#000000\" font-family=\"sans-serif\" font-size=\"12\" font-style=\"italic\" lengthAdjust=\"spacingAndGlyphs\" textLength=\"77\" x=\"324\" y=\"23.1387\">«action def»</text><text fill=\"#000000\" font-family=\"sans-serif\" font-size=\"12\" lengthAdjust=\"spacingAndGlyphs\" textLength=\"105\" x=\"310\" y=\"37.1074\">ControlNodeTest</text></a><rect fill=\"#000000\" filter=\"url(#fsitznmwd20ph)\" height=\"8\" style=\"stroke: none; stroke-width: 1.0;\" width=\"80\" x=\"622\" y=\"75.5\"/><rect fill=\"#000000\" filter=\"url(#fsitznmwd20ph)\" height=\"8\" style=\"stroke: none; stroke-width: 1.0;\" width=\"80\" x=\"507\" y=\"75.5\"/><g id=\"E1.E2\"><a href=\"psysml:fdc5aa3b-ed80-41e9-a98e-ce8c422e55eb\" target=\"_top\" title=\"psysml:fdc5aa3b-ed80-41e9-a98e-ce8c422e55eb\" xlink:actuate=\"onRequest\" xlink:href=\"psysml:fdc5aa3b-ed80-41e9-a98e-ce8c422e55eb\" xlink:show=\"new\" xlink:title=\"psysml:fdc5aa3b-ed80-41e9-a98e-ce8c422e55eb\" xlink:type=\"simple\"><rect fill=\"#FEFECE\" filter=\"url(#fsitznmwd20ph)\" height=\"42.9375\" id=\"E2\" rx=\"10\" ry=\"10\" style=\"stroke: #A80036; stroke-width: 1.5;\" width=\"86\" x=\"386\" y=\"58\"/><ellipse cx=\"403.25\" cy=\"76.9688\" fill=\"#FFA500\" rx=\"11\" ry=\"11\" style=\"stroke: #A80036; stroke-width: 1.0;\"/><path d=\"M399.125,78.8906 L399.125,71.0781 L401.5781,71.0781 L401.5781,79.5156 Q401.5781,80.4375 402.0469,80.9688 Q402.5313,81.5 403.3594,81.5 Q404.2031,81.5 404.6719,80.9688 Q405.1406,80.4375 405.1406,79.5156 L405.1406,71.0781 L407.5938,71.0781 L407.5938,78.8906 Q407.5938,81.4219 406.5938,82.5625 Q405.5938,83.7031 403.3594,83.7031 Q401.1406,83.7031 400.125,82.5625 Q399.125,81.4219 399.125,78.8906 Z \"/><text fill=\"#000000\" font-family=\"sans-serif\" font-size=\"12\" font-style=\"italic\" lengthAdjust=\"spacingAndGlyphs\" textLength=\"53\" x=\"415.75\" y=\"74.1387\">«action»</text><text fill=\"#000000\" font-family=\"sans-serif\" font-size=\"12\" lengthAdjust=\"spacingAndGlyphs\" textLength=\"16\" x=\"434.25\" y=\"88.1074\">A1</text></a></g><g id=\"E1.E3\"><a href=\"psysml:2c991ffe-75e4-475a-bb83-43f5c2feea80\" target=\"_top\" title=\"psysml:2c991ffe-75e4-475a-bb83-43f5c2feea80\" xlink:actuate=\"onRequest\" xlink:href=\"psysml:2c991ffe-75e4-475a-bb83-43f5c2feea80\" xlink:show=\"new\" xlink:title=\"psysml:2c991ffe-75e4-475a-bb83-43f5c2feea80\" xlink:type=\"simple\"><rect fill=\"#FEFECE\" filter=\"url(#fsitznmwd20ph)\" height=\"42.9375\" id=\"E3\" rx=\"10\" ry=\"10\" style=\"stroke: #A80036; stroke-width: 1.5;\" width=\"86\" x=\"265\" y=\"58\"/><ellipse cx=\"282.25\" cy=\"76.9688\" fill=\"#FFA500\" rx=\"11\" ry=\"11\" style=\"stroke: #A80036; stroke-width: 1.0;\"/><path d=\"M278.125,78.8906 L278.125,71.0781 L280.5781,71.0781 L280.5781,79.5156 Q280.5781,80.4375 281.0469,80.9688 Q281.5313,81.5 282.3594,81.5 Q283.2031,81.5 283.6719,80.9688 Q284.1406,80.4375 284.1406,79.5156 L284.1406,71.0781 L286.5938,71.0781 L286.5938,78.8906 Q286.5938,81.4219 285.5938,82.5625 Q284.5938,83.7031 282.3594,83.7031 Q280.1406,83.7031 279.125,82.5625 Q278.125,81.4219 278.125,78.8906 Z \"/><text fill=\"#000000\" font-family=\"sans-serif\" font-size=\"12\" font-style=\"italic\" lengthAdjust=\"spacingAndGlyphs\" textLength=\"53\" x=\"294.75\" y=\"74.1387\">«action»</text><text fill=\"#000000\" font-family=\"sans-serif\" font-size=\"12\" lengthAdjust=\"spacingAndGlyphs\" textLength=\"16\" x=\"313.25\" y=\"88.1074\">A2</text></a></g><g id=\"E1.E6\"><a href=\"psysml:f26d7e3d-b672-461c-aa14-0bbf3d4e7737\" target=\"_top\" title=\"psysml:f26d7e3d-b672-461c-aa14-0bbf3d4e7737\" xlink:actuate=\"onRequest\" xlink:href=\"psysml:f26d7e3d-b672-461c-aa14-0bbf3d4e7737\" xlink:show=\"new\" xlink:title=\"psysml:f26d7e3d-b672-461c-aa14-0bbf3d4e7737\" xlink:type=\"simple\"><rect fill=\"#FEFECE\" filter=\"url(#fsitznmwd20ph)\" height=\"42.9375\" id=\"E6\" rx=\"10\" ry=\"10\" style=\"stroke: #A80036; stroke-width: 1.5;\" width=\"86\" x=\"144\" y=\"58\"/><ellipse cx=\"161.25\" cy=\"76.9688\" fill=\"#FFA500\" rx=\"11\" ry=\"11\" style=\"stroke: #A80036; stroke-width: 1.0;\"/><path d=\"M157.125,78.8906 L157.125,71.0781 L159.5781,71.0781 L159.5781,79.5156 Q159.5781,80.4375 160.0469,80.9688 Q160.5313,81.5 161.3594,81.5 Q162.2031,81.5 162.6719,80.9688 Q163.1406,80.4375 163.1406,79.5156 L163.1406,71.0781 L165.5938,71.0781 L165.5938,78.8906 Q165.5938,81.4219 164.5938,82.5625 Q163.5938,83.7031 161.3594,83.7031 Q159.1406,83.7031 158.125,82.5625 Q157.125,81.4219 157.125,78.8906 Z \"/><text fill=\"#000000\" font-family=\"sans-serif\" font-size=\"12\" font-style=\"italic\" lengthAdjust=\"spacingAndGlyphs\" textLength=\"53\" x=\"173.75\" y=\"74.1387\">«action»</text><text fill=\"#000000\" font-family=\"sans-serif\" font-size=\"12\" lengthAdjust=\"spacingAndGlyphs\" textLength=\"16\" x=\"192.25\" y=\"88.1074\">B1</text></a></g><g id=\"E1.E7\"><a href=\"psysml:f6cf6959-d08a-437c-8e4b-96dd916f2436\" target=\"_top\" title=\"psysml:f6cf6959-d08a-437c-8e4b-96dd916f2436\" xlink:actuate=\"onRequest\" xlink:href=\"psysml:f6cf6959-d08a-437c-8e4b-96dd916f2436\" xlink:show=\"new\" xlink:title=\"psysml:f6cf6959-d08a-437c-8e4b-96dd916f2436\" xlink:type=\"simple\"><rect fill=\"#FEFECE\" filter=\"url(#fsitznmwd20ph)\" height=\"42.9375\" id=\"E7\" rx=\"10\" ry=\"10\" style=\"stroke: #A80036; stroke-width: 1.5;\" width=\"86\" x=\"23\" y=\"58\"/><ellipse cx=\"40.25\" cy=\"76.9688\" fill=\"#FFA500\" rx=\"11\" ry=\"11\" style=\"stroke: #A80036; stroke-width: 1.0;\"/><path d=\"M36.125,78.8906 L36.125,71.0781 L38.5781,71.0781 L38.5781,79.5156 Q38.5781,80.4375 39.0469,80.9688 Q39.5313,81.5 40.3594,81.5 Q41.2031,81.5 41.6719,80.9688 Q42.1406,80.4375 42.1406,79.5156 L42.1406,71.0781 L44.5938,71.0781 L44.5938,78.8906 Q44.5938,81.4219 43.5938,82.5625 Q42.5938,83.7031 40.3594,83.7031 Q38.1406,83.7031 37.125,82.5625 Q36.125,81.4219 36.125,78.8906 Z \"/><text fill=\"#000000\" font-family=\"sans-serif\" font-size=\"12\" font-style=\"italic\" lengthAdjust=\"spacingAndGlyphs\" textLength=\"53\" x=\"52.75\" y=\"74.1387\">«action»</text><text fill=\"#000000\" font-family=\"sans-serif\" font-size=\"12\" lengthAdjust=\"spacingAndGlyphs\" textLength=\"16\" x=\"71.25\" y=\"88.1074\">B2</text></a></g><!--MD5=[4264b9cf036d0ff8bec9fb692ec58b0a]\n",
       "@startuml\r\n",
       " \r\n",
       "rec def \"ControlNodeTest\" as E1  <<(D,brown)action def>> [[psysml:d45f0f17-f367-4b4e-a94c-d0cd962b9658 ]] {\r\n",
       "rec usage \"A1\" as E2  <<(U,orange)action>> [[psysml:fdc5aa3b-ed80-41e9-a98e-ce8c422e55eb ]] {\r\n",
       "}\r\n",
       "\r\n",
       "rec usage \"A2\" as E3  <<(U,orange)action>> [[psysml:2c991ffe-75e4-475a-bb83-43f5c2feea80 ]] {\r\n",
       "}\r\n",
       "\r\n",
       "join \"J\" as E4  [[psysml:5dc91872-c5b7-4d29-9265-55786a5f23d3 ]] \r\n",
       "fork \"F\" as E5  [[psysml:32073807-3d0f-4273-9610-bcad2a0739d7 ]] \r\n",
       "rec usage \"B1\" as E6  <<(U,orange)action>> [[psysml:f26d7e3d-b672-461c-aa14-0bbf3d4e7737 ]] {\r\n",
       "}\r\n",
       "\r\n",
       "rec usage \"B2\" as E7  <<(U,orange)action>> [[psysml:f6cf6959-d08a-437c-8e4b-96dd916f2436 ]] {\r\n",
       "}\r\n",
       "\r\n",
       "}\r\n",
       "\r\n",
       "@enduml\r\n",
       "\n",
       "PlantUML version 1.2020.13(Sat Jun 13 12:26:38 UTC 2020)\n",
       "(EPL source distribution)\n",
       "Java Runtime: OpenJDK Runtime Environment\n",
       "JVM: OpenJDK 64-Bit Server VM\n",
       "Default Encoding: UTF-8\n",
       "Language: en\n",
       "Country: null\n",
       "--></g></svg>"
      ]
     },
     "execution_count": 36,
     "metadata": {},
     "output_type": "execute_result"
    }
   ],
   "source": [
    "%viz --style=\"PLANTUML\" --view=\"MIXED\" \"ControlNodeTest\""
   ]
  },
  {
   "cell_type": "code",
   "execution_count": 37,
   "id": "light-sense",
   "metadata": {
    "execution": {
     "iopub.execute_input": "2021-03-25T09:28:38.283191Z",
     "iopub.status.busy": "2021-03-25T09:28:38.282682Z",
     "iopub.status.idle": "2021-03-25T09:28:38.381681Z",
     "shell.execute_reply": "2021-03-25T09:28:38.381313Z"
    }
   },
   "outputs": [
    {
     "data": {
      "image/svg+xml": [
       "<?xml version=\"1.0\" encoding=\"UTF-8\" standalone=\"no\"?><svg xmlns=\"http://www.w3.org/2000/svg\" xmlns:xlink=\"http://www.w3.org/1999/xlink\" contentScriptType=\"application/ecmascript\" contentStyleType=\"text/css\" height=\"128px\" preserveAspectRatio=\"none\" style=\"width:625px;height:128px;\" version=\"1.1\" viewBox=\"0 0 625 128\" width=\"625px\" zoomAndPan=\"magnify\"><defs/><g><!--MD5=[fbc87193dbaf4d95561dea2c320d4a47]\n",
       "cluster E1--><a href=\"psysml:d45f0f17-f367-4b4e-a94c-d0cd962b9658\" target=\"_top\" title=\"psysml:d45f0f17-f367-4b4e-a94c-d0cd962b9658\" xlink:actuate=\"onRequest\" xlink:href=\"psysml:d45f0f17-f367-4b4e-a94c-d0cd962b9658\" xlink:show=\"new\" xlink:title=\"psysml:d45f0f17-f367-4b4e-a94c-d0cd962b9658\" xlink:type=\"simple\"><rect fill=\"#FFFFFF\" height=\"110\" id=\"E1\" style=\"stroke: #383838; stroke-width: 1.5;\" width=\"607\" x=\"7\" y=\"7\"/><rect fill=\"#F8F8F8\" height=\"37.9375\" style=\"stroke: #383838; stroke-width: 1.5;\" width=\"607\" x=\"7\" y=\"7\"/><text fill=\"#000000\" font-family=\"sans-serif\" font-size=\"12\" font-style=\"italic\" lengthAdjust=\"spacingAndGlyphs\" textLength=\"77\" x=\"272\" y=\"23.1387\">«action def»</text><text fill=\"#000000\" font-family=\"sans-serif\" font-size=\"12\" lengthAdjust=\"spacingAndGlyphs\" textLength=\"105\" x=\"258\" y=\"37.1074\">ControlNodeTest</text></a><rect fill=\"#000000\" height=\"8\" style=\"stroke: none; stroke-width: 1.0;\" width=\"80\" x=\"518\" y=\"75.5\"/><rect fill=\"#000000\" height=\"8\" style=\"stroke: none; stroke-width: 1.0;\" width=\"80\" x=\"403\" y=\"75.5\"/><g id=\"E1.E2\"><a href=\"psysml:fdc5aa3b-ed80-41e9-a98e-ce8c422e55eb\" target=\"_top\" title=\"psysml:fdc5aa3b-ed80-41e9-a98e-ce8c422e55eb\" xlink:actuate=\"onRequest\" xlink:href=\"psysml:fdc5aa3b-ed80-41e9-a98e-ce8c422e55eb\" xlink:show=\"new\" xlink:title=\"psysml:fdc5aa3b-ed80-41e9-a98e-ce8c422e55eb\" xlink:type=\"simple\"><rect fill=\"#FFFFFF\" height=\"42.9375\" id=\"E2\" rx=\"10\" ry=\"10\" style=\"stroke: #383838; stroke-width: 1.5;\" width=\"60\" x=\"308\" y=\"58\"/><rect fill=\"#F8F8F8\" height=\"37.9375\" rx=\"10\" ry=\"10\" style=\"stroke: #F8F8F8; stroke-width: 1.5;\" width=\"60\" x=\"308\" y=\"58\"/><rect fill=\"#F8F8F8\" height=\"10\" style=\"stroke: #F8F8F8; stroke-width: 1.5;\" width=\"60\" x=\"308\" y=\"85.9375\"/><rect fill=\"none\" height=\"42.9375\" id=\"E2\" rx=\"10\" ry=\"10\" style=\"stroke: #383838; stroke-width: 1.5;\" width=\"60\" x=\"308\" y=\"58\"/><text fill=\"#000000\" font-family=\"sans-serif\" font-size=\"12\" font-style=\"italic\" lengthAdjust=\"spacingAndGlyphs\" textLength=\"53\" x=\"311.5\" y=\"74.1387\">«action»</text><text fill=\"#000000\" font-family=\"sans-serif\" font-size=\"12\" lengthAdjust=\"spacingAndGlyphs\" textLength=\"16\" x=\"330\" y=\"88.1074\">A1</text></a></g><g id=\"E1.E3\"><a href=\"psysml:2c991ffe-75e4-475a-bb83-43f5c2feea80\" target=\"_top\" title=\"psysml:2c991ffe-75e4-475a-bb83-43f5c2feea80\" xlink:actuate=\"onRequest\" xlink:href=\"psysml:2c991ffe-75e4-475a-bb83-43f5c2feea80\" xlink:show=\"new\" xlink:title=\"psysml:2c991ffe-75e4-475a-bb83-43f5c2feea80\" xlink:type=\"simple\"><rect fill=\"#FFFFFF\" height=\"42.9375\" id=\"E3\" rx=\"10\" ry=\"10\" style=\"stroke: #383838; stroke-width: 1.5;\" width=\"60\" x=\"213\" y=\"58\"/><rect fill=\"#F8F8F8\" height=\"37.9375\" rx=\"10\" ry=\"10\" style=\"stroke: #F8F8F8; stroke-width: 1.5;\" width=\"60\" x=\"213\" y=\"58\"/><rect fill=\"#F8F8F8\" height=\"10\" style=\"stroke: #F8F8F8; stroke-width: 1.5;\" width=\"60\" x=\"213\" y=\"85.9375\"/><rect fill=\"none\" height=\"42.9375\" id=\"E3\" rx=\"10\" ry=\"10\" style=\"stroke: #383838; stroke-width: 1.5;\" width=\"60\" x=\"213\" y=\"58\"/><text fill=\"#000000\" font-family=\"sans-serif\" font-size=\"12\" font-style=\"italic\" lengthAdjust=\"spacingAndGlyphs\" textLength=\"53\" x=\"216.5\" y=\"74.1387\">«action»</text><text fill=\"#000000\" font-family=\"sans-serif\" font-size=\"12\" lengthAdjust=\"spacingAndGlyphs\" textLength=\"16\" x=\"235\" y=\"88.1074\">A2</text></a></g><g id=\"E1.E6\"><a href=\"psysml:f26d7e3d-b672-461c-aa14-0bbf3d4e7737\" target=\"_top\" title=\"psysml:f26d7e3d-b672-461c-aa14-0bbf3d4e7737\" xlink:actuate=\"onRequest\" xlink:href=\"psysml:f26d7e3d-b672-461c-aa14-0bbf3d4e7737\" xlink:show=\"new\" xlink:title=\"psysml:f26d7e3d-b672-461c-aa14-0bbf3d4e7737\" xlink:type=\"simple\"><rect fill=\"#FFFFFF\" height=\"42.9375\" id=\"E6\" rx=\"10\" ry=\"10\" style=\"stroke: #383838; stroke-width: 1.5;\" width=\"60\" x=\"118\" y=\"58\"/><rect fill=\"#F8F8F8\" height=\"37.9375\" rx=\"10\" ry=\"10\" style=\"stroke: #F8F8F8; stroke-width: 1.5;\" width=\"60\" x=\"118\" y=\"58\"/><rect fill=\"#F8F8F8\" height=\"10\" style=\"stroke: #F8F8F8; stroke-width: 1.5;\" width=\"60\" x=\"118\" y=\"85.9375\"/><rect fill=\"none\" height=\"42.9375\" id=\"E6\" rx=\"10\" ry=\"10\" style=\"stroke: #383838; stroke-width: 1.5;\" width=\"60\" x=\"118\" y=\"58\"/><text fill=\"#000000\" font-family=\"sans-serif\" font-size=\"12\" font-style=\"italic\" lengthAdjust=\"spacingAndGlyphs\" textLength=\"53\" x=\"121.5\" y=\"74.1387\">«action»</text><text fill=\"#000000\" font-family=\"sans-serif\" font-size=\"12\" lengthAdjust=\"spacingAndGlyphs\" textLength=\"16\" x=\"140\" y=\"88.1074\">B1</text></a></g><g id=\"E1.E7\"><a href=\"psysml:f6cf6959-d08a-437c-8e4b-96dd916f2436\" target=\"_top\" title=\"psysml:f6cf6959-d08a-437c-8e4b-96dd916f2436\" xlink:actuate=\"onRequest\" xlink:href=\"psysml:f6cf6959-d08a-437c-8e4b-96dd916f2436\" xlink:show=\"new\" xlink:title=\"psysml:f6cf6959-d08a-437c-8e4b-96dd916f2436\" xlink:type=\"simple\"><rect fill=\"#FFFFFF\" height=\"42.9375\" id=\"E7\" rx=\"10\" ry=\"10\" style=\"stroke: #383838; stroke-width: 1.5;\" width=\"60\" x=\"23\" y=\"58\"/><rect fill=\"#F8F8F8\" height=\"37.9375\" rx=\"10\" ry=\"10\" style=\"stroke: #F8F8F8; stroke-width: 1.5;\" width=\"60\" x=\"23\" y=\"58\"/><rect fill=\"#F8F8F8\" height=\"10\" style=\"stroke: #F8F8F8; stroke-width: 1.5;\" width=\"60\" x=\"23\" y=\"85.9375\"/><rect fill=\"none\" height=\"42.9375\" id=\"E7\" rx=\"10\" ry=\"10\" style=\"stroke: #383838; stroke-width: 1.5;\" width=\"60\" x=\"23\" y=\"58\"/><text fill=\"#000000\" font-family=\"sans-serif\" font-size=\"12\" font-style=\"italic\" lengthAdjust=\"spacingAndGlyphs\" textLength=\"53\" x=\"26.5\" y=\"74.1387\">«action»</text><text fill=\"#000000\" font-family=\"sans-serif\" font-size=\"12\" lengthAdjust=\"spacingAndGlyphs\" textLength=\"16\" x=\"45\" y=\"88.1074\">B2</text></a></g><!--MD5=[e4f7c101899816fce20e544d3e9d3a50]\n",
       "@startuml\r\n",
       "skinparam monochrome true\r\n",
       "skinparam classbackgroundcolor white\r\n",
       "skinparam shadowing false\r\n",
       "skinparam wrapWidth 300\r\n",
       "hide circle\r\n",
       "\r\n",
       "rec def \"ControlNodeTest\" as E1  <<(T,blue)action def>> [[psysml:d45f0f17-f367-4b4e-a94c-d0cd962b9658 ]] {\r\n",
       "rec usage \"A1\" as E2  <<(T,blue)action>> [[psysml:fdc5aa3b-ed80-41e9-a98e-ce8c422e55eb ]] {\r\n",
       "}\r\n",
       "\r\n",
       "rec usage \"A2\" as E3  <<(T,blue)action>> [[psysml:2c991ffe-75e4-475a-bb83-43f5c2feea80 ]] {\r\n",
       "}\r\n",
       "\r\n",
       "join \"J\" as E4  [[psysml:5dc91872-c5b7-4d29-9265-55786a5f23d3 ]] \r\n",
       "fork \"F\" as E5  [[psysml:32073807-3d0f-4273-9610-bcad2a0739d7 ]] \r\n",
       "rec usage \"B1\" as E6  <<(T,blue)action>> [[psysml:f26d7e3d-b672-461c-aa14-0bbf3d4e7737 ]] {\r\n",
       "}\r\n",
       "\r\n",
       "rec usage \"B2\" as E7  <<(T,blue)action>> [[psysml:f6cf6959-d08a-437c-8e4b-96dd916f2436 ]] {\r\n",
       "}\r\n",
       "\r\n",
       "}\r\n",
       "\r\n",
       "@enduml\r\n",
       "\n",
       "PlantUML version 1.2020.13(Sat Jun 13 12:26:38 UTC 2020)\n",
       "(EPL source distribution)\n",
       "Java Runtime: OpenJDK Runtime Environment\n",
       "JVM: OpenJDK 64-Bit Server VM\n",
       "Default Encoding: UTF-8\n",
       "Language: en\n",
       "Country: null\n",
       "--></g></svg>"
      ]
     },
     "execution_count": 37,
     "metadata": {},
     "output_type": "execute_result"
    }
   ],
   "source": [
    "%viz --style=\"DEFAULT\" --view=\"Default\" \"ControlNodeTest\""
   ]
  },
  {
   "cell_type": "code",
   "execution_count": 38,
   "id": "touched-mustang",
   "metadata": {
    "execution": {
     "iopub.execute_input": "2021-03-25T09:28:38.433229Z",
     "iopub.status.busy": "2021-03-25T09:28:38.432460Z",
     "iopub.status.idle": "2021-03-25T09:28:38.668221Z",
     "shell.execute_reply": "2021-03-25T09:28:38.669071Z"
    }
   },
   "outputs": [
    {
     "data": {
      "image/svg+xml": [
       "<?xml version=\"1.0\" encoding=\"UTF-8\" standalone=\"no\"?><svg xmlns=\"http://www.w3.org/2000/svg\" xmlns:xlink=\"http://www.w3.org/1999/xlink\" contentScriptType=\"application/ecmascript\" contentStyleType=\"text/css\" height=\"191px\" preserveAspectRatio=\"none\" style=\"width:129px;height:191px;\" version=\"1.1\" viewBox=\"0 0 129 191\" width=\"129px\" zoomAndPan=\"magnify\"><defs/><g><!--MD5=[43c9051892ef23e1a46a86907403d788]\n",
       "class E1--><a href=\"psysml:d45f0f17-f367-4b4e-a94c-d0cd962b9658\" target=\"_top\" title=\"psysml:d45f0f17-f367-4b4e-a94c-d0cd962b9658\" xlink:actuate=\"onRequest\" xlink:href=\"psysml:d45f0f17-f367-4b4e-a94c-d0cd962b9658\" xlink:show=\"new\" xlink:title=\"psysml:d45f0f17-f367-4b4e-a94c-d0cd962b9658\" xlink:type=\"simple\"><rect fill=\"#FFFFFF\" height=\"173.1797\" id=\"E1\" style=\"stroke: #383838; stroke-width: 1.5;\" width=\"111\" x=\"7\" y=\"7\"/><text fill=\"#000000\" font-family=\"sans-serif\" font-size=\"12\" font-style=\"italic\" lengthAdjust=\"spacingAndGlyphs\" textLength=\"77\" x=\"24\" y=\"23.1387\">«action def»</text><text fill=\"#000000\" font-family=\"sans-serif\" font-size=\"12\" lengthAdjust=\"spacingAndGlyphs\" textLength=\"105\" x=\"10\" y=\"37.1074\">ControlNodeTest</text><line style=\"stroke: #383838; stroke-width: 1.5;\" x1=\"8\" x2=\"117\" y1=\"44.9375\" y2=\"44.9375\"/><text fill=\"#000000\" font-family=\"sans-serif\" font-size=\"11\" lengthAdjust=\"spacingAndGlyphs\" textLength=\"14\" x=\"13\" y=\"75.9526\">A1</text><text fill=\"#000000\" font-family=\"sans-serif\" font-size=\"11\" lengthAdjust=\"spacingAndGlyphs\" textLength=\"14\" x=\"13\" y=\"88.7573\">A2</text><text fill=\"#000000\" font-family=\"sans-serif\" font-size=\"11\" lengthAdjust=\"spacingAndGlyphs\" textLength=\"15\" x=\"13\" y=\"101.562\">B1</text><text fill=\"#000000\" font-family=\"sans-serif\" font-size=\"11\" lengthAdjust=\"spacingAndGlyphs\" textLength=\"15\" x=\"13\" y=\"114.3667\">B2</text><line style=\"stroke: #383838; stroke-width: 1.0;\" x1=\"8\" x2=\"42\" y1=\"59.3398\" y2=\"59.3398\"/><text fill=\"#000000\" font-family=\"sans-serif\" font-size=\"11\" lengthAdjust=\"spacingAndGlyphs\" textLength=\"41\" x=\"42\" y=\"62.6479\">actions</text><line style=\"stroke: #383838; stroke-width: 1.0;\" x1=\"83\" x2=\"117\" y1=\"59.3398\" y2=\"59.3398\"/><text fill=\"#000000\" font-family=\"sans-serif\" font-size=\"11\" lengthAdjust=\"spacingAndGlyphs\" textLength=\"6\" x=\"13\" y=\"143.9761\">F</text><line style=\"stroke: #383838; stroke-width: 1.0;\" x1=\"8\" x2=\"33.5\" y1=\"127.3633\" y2=\"127.3633\"/><text fill=\"#000000\" font-family=\"sans-serif\" font-size=\"11\" lengthAdjust=\"spacingAndGlyphs\" textLength=\"58\" x=\"33.5\" y=\"130.6714\">forkNodes</text><line style=\"stroke: #383838; stroke-width: 1.0;\" x1=\"91.5\" x2=\"117\" y1=\"127.3633\" y2=\"127.3633\"/><text fill=\"#000000\" font-family=\"sans-serif\" font-size=\"11\" lengthAdjust=\"spacingAndGlyphs\" textLength=\"3\" x=\"13\" y=\"173.5854\">J</text><line style=\"stroke: #383838; stroke-width: 1.0;\" x1=\"8\" x2=\"34.5\" y1=\"156.9727\" y2=\"156.9727\"/><text fill=\"#000000\" font-family=\"sans-serif\" font-size=\"11\" lengthAdjust=\"spacingAndGlyphs\" textLength=\"56\" x=\"34.5\" y=\"160.2808\">joinNodes</text><line style=\"stroke: #383838; stroke-width: 1.0;\" x1=\"90.5\" x2=\"117\" y1=\"156.9727\" y2=\"156.9727\"/></a><!--MD5=[12f41cf66a7e29ed213d2a43f4781ce7]\n",
       "@startuml\r\n",
       "skinparam monochrome true\r\n",
       "skinparam classbackgroundcolor white\r\n",
       "skinparam shadowing false\r\n",
       "skinparam wrapWidth 300\r\n",
       "hide circle\r\n",
       "\r\n",
       "comp def \"ControlNodeTest\" as E1  <<(T,blue)action def>> [[psysml:d45f0f17-f367-4b4e-a94c-d0cd962b9658 ]] {\r\n",
       "- - actions - -\r\n",
       "A1\r\n",
       "A2\r\n",
       "B1\r\n",
       "B2\r\n",
       "- - forkNodes - -\r\n",
       "F\r\n",
       "- - joinNodes - -\r\n",
       "J\r\n",
       "}\r\n",
       "@enduml\r\n",
       "\n",
       "PlantUML version 1.2020.13(Sat Jun 13 12:26:38 UTC 2020)\n",
       "(EPL source distribution)\n",
       "Java Runtime: OpenJDK Runtime Environment\n",
       "JVM: OpenJDK 64-Bit Server VM\n",
       "Default Encoding: UTF-8\n",
       "Language: en\n",
       "Country: null\n",
       "--></g></svg>"
      ]
     },
     "execution_count": 38,
     "metadata": {},
     "output_type": "execute_result"
    }
   ],
   "source": [
    "%viz --style=\"DEFAULT\" --view=\"Tree\" \"ControlNodeTest\""
   ]
  },
  {
   "cell_type": "code",
   "execution_count": 39,
   "id": "stupid-retail",
   "metadata": {
    "execution": {
     "iopub.execute_input": "2021-03-25T09:28:38.720683Z",
     "iopub.status.busy": "2021-03-25T09:28:38.720117Z",
     "iopub.status.idle": "2021-03-25T09:28:38.728170Z",
     "shell.execute_reply": "2021-03-25T09:28:38.727786Z"
    }
   },
   "outputs": [
    {
     "data": {
      "image/svg+xml": [
       "<?xml version=\"1.0\" encoding=\"UTF-8\" standalone=\"no\"?><svg xmlns=\"http://www.w3.org/2000/svg\" xmlns:xlink=\"http://www.w3.org/1999/xlink\" contentScriptType=\"application/ecmascript\" contentStyleType=\"text/css\" height=\"12px\" preserveAspectRatio=\"none\" style=\"width:12px;height:12px;\" version=\"1.1\" viewBox=\"0 0 12 12\" width=\"12px\" zoomAndPan=\"magnify\"><defs/><g><!--MD5=[c5f280e076d0d61ccf4b0f27871bda1d]\n",
       "@startuml\r\n",
       "skinparam monochrome true\r\n",
       "skinparam classbackgroundcolor white\r\n",
       "skinparam shadowing false\r\n",
       "skinparam wrapWidth 300\r\n",
       "hide circle\r\n",
       "\r\n",
       "@enduml\r\n",
       "\n",
       "PlantUML version 1.2020.13(Sat Jun 13 12:26:38 UTC 2020)\n",
       "(EPL source distribution)\n",
       "Java Runtime: OpenJDK Runtime Environment\n",
       "JVM: OpenJDK 64-Bit Server VM\n",
       "Default Encoding: UTF-8\n",
       "Language: en\n",
       "Country: null\n",
       "--></g></svg>"
      ]
     },
     "execution_count": 39,
     "metadata": {},
     "output_type": "execute_result"
    }
   ],
   "source": [
    "%viz --style=\"DEFAULT\" --view=\"State\" \"ControlNodeTest\""
   ]
  },
  {
   "cell_type": "code",
   "execution_count": 40,
   "id": "handmade-retailer",
   "metadata": {
    "execution": {
     "iopub.execute_input": "2021-03-25T09:28:38.781117Z",
     "iopub.status.busy": "2021-03-25T09:28:38.779984Z",
     "iopub.status.idle": "2021-03-25T09:28:38.809529Z",
     "shell.execute_reply": "2021-03-25T09:28:38.809142Z"
    }
   },
   "outputs": [
    {
     "data": {
      "image/svg+xml": [
       "<?xml version=\"1.0\" encoding=\"UTF-8\" standalone=\"no\"?><svg xmlns=\"http://www.w3.org/2000/svg\" xmlns:xlink=\"http://www.w3.org/1999/xlink\" contentScriptType=\"application/ecmascript\" contentStyleType=\"text/css\" height=\"60px\" preserveAspectRatio=\"none\" style=\"width:134px;height:60px;\" version=\"1.1\" viewBox=\"0 0 134 60\" width=\"134px\" zoomAndPan=\"magnify\"><defs/><g><g id=\"E1\"><a href=\"psysml:d45f0f17-f367-4b4e-a94c-d0cd962b9658\" target=\"_top\" title=\"psysml:d45f0f17-f367-4b4e-a94c-d0cd962b9658\" xlink:actuate=\"onRequest\" xlink:href=\"psysml:d45f0f17-f367-4b4e-a94c-d0cd962b9658\" xlink:show=\"new\" xlink:title=\"psysml:d45f0f17-f367-4b4e-a94c-d0cd962b9658\" xlink:type=\"simple\"><rect fill=\"#FFFFFF\" height=\"42.9375\" id=\"E1\" style=\"stroke: #383838; stroke-width: 1.5;\" width=\"116\" x=\"7\" y=\"7\"/><rect fill=\"#F8F8F8\" height=\"37.9375\" style=\"stroke: #383838; stroke-width: 1.5;\" width=\"116\" x=\"7\" y=\"7\"/><text fill=\"#000000\" font-family=\"sans-serif\" font-size=\"12\" font-style=\"italic\" lengthAdjust=\"spacingAndGlyphs\" textLength=\"77\" x=\"26.5\" y=\"23.1387\">«action def»</text><text fill=\"#000000\" font-family=\"sans-serif\" font-size=\"12\" lengthAdjust=\"spacingAndGlyphs\" textLength=\"105\" x=\"12.5\" y=\"37.1074\">ControlNodeTest</text></a></g><!--MD5=[939985866ea3d9396f50e6e5e5a66a66]\n",
       "@startuml\r\n",
       "skinparam ranksep 8\r\n",
       "skinparam rectangle {\r\n",
       " backgroundColor<<block>> LightGreen\r\n",
       "}\r\n",
       "skinparam monochrome true\r\n",
       "skinparam classbackgroundcolor white\r\n",
       "skinparam shadowing false\r\n",
       "skinparam wrapWidth 300\r\n",
       "hide circle\r\n",
       "\r\n",
       "def \"ControlNodeTest\" as E1  <<(T,blue)action def>> [[psysml:d45f0f17-f367-4b4e-a94c-d0cd962b9658 ]] \r\n",
       "@enduml\r\n",
       "\n",
       "PlantUML version 1.2020.13(Sat Jun 13 12:26:38 UTC 2020)\n",
       "(EPL source distribution)\n",
       "Java Runtime: OpenJDK Runtime Environment\n",
       "JVM: OpenJDK 64-Bit Server VM\n",
       "Default Encoding: UTF-8\n",
       "Language: en\n",
       "Country: null\n",
       "--></g></svg>"
      ]
     },
     "execution_count": 40,
     "metadata": {},
     "output_type": "execute_result"
    }
   ],
   "source": [
    "%viz --style=\"DEFAULT\" --view=\"Interconnection\" \"ControlNodeTest\""
   ]
  },
  {
   "cell_type": "code",
   "execution_count": 41,
   "id": "dental-librarian",
   "metadata": {
    "execution": {
     "iopub.execute_input": "2021-03-25T09:28:38.861109Z",
     "iopub.status.busy": "2021-03-25T09:28:38.860501Z",
     "iopub.status.idle": "2021-03-25T09:28:38.960738Z",
     "shell.execute_reply": "2021-03-25T09:28:38.959323Z"
    }
   },
   "outputs": [
    {
     "data": {
      "image/svg+xml": [
       "<?xml version=\"1.0\" encoding=\"UTF-8\" standalone=\"no\"?><svg xmlns=\"http://www.w3.org/2000/svg\" xmlns:xlink=\"http://www.w3.org/1999/xlink\" contentScriptType=\"application/ecmascript\" contentStyleType=\"text/css\" height=\"128px\" preserveAspectRatio=\"none\" style=\"width:625px;height:128px;\" version=\"1.1\" viewBox=\"0 0 625 128\" width=\"625px\" zoomAndPan=\"magnify\"><defs/><g><!--MD5=[fbc87193dbaf4d95561dea2c320d4a47]\n",
       "cluster E1--><a href=\"psysml:d45f0f17-f367-4b4e-a94c-d0cd962b9658\" target=\"_top\" title=\"psysml:d45f0f17-f367-4b4e-a94c-d0cd962b9658\" xlink:actuate=\"onRequest\" xlink:href=\"psysml:d45f0f17-f367-4b4e-a94c-d0cd962b9658\" xlink:show=\"new\" xlink:title=\"psysml:d45f0f17-f367-4b4e-a94c-d0cd962b9658\" xlink:type=\"simple\"><rect fill=\"#FFFFFF\" height=\"110\" id=\"E1\" style=\"stroke: #383838; stroke-width: 1.5;\" width=\"607\" x=\"7\" y=\"7\"/><rect fill=\"#F8F8F8\" height=\"37.9375\" style=\"stroke: #383838; stroke-width: 1.5;\" width=\"607\" x=\"7\" y=\"7\"/><text fill=\"#000000\" font-family=\"sans-serif\" font-size=\"12\" font-style=\"italic\" lengthAdjust=\"spacingAndGlyphs\" textLength=\"77\" x=\"272\" y=\"23.1387\">«action def»</text><text fill=\"#000000\" font-family=\"sans-serif\" font-size=\"12\" lengthAdjust=\"spacingAndGlyphs\" textLength=\"105\" x=\"258\" y=\"37.1074\">ControlNodeTest</text></a><rect fill=\"#000000\" height=\"8\" style=\"stroke: none; stroke-width: 1.0;\" width=\"80\" x=\"518\" y=\"75.5\"/><rect fill=\"#000000\" height=\"8\" style=\"stroke: none; stroke-width: 1.0;\" width=\"80\" x=\"403\" y=\"75.5\"/><g id=\"E1.E2\"><a href=\"psysml:fdc5aa3b-ed80-41e9-a98e-ce8c422e55eb\" target=\"_top\" title=\"psysml:fdc5aa3b-ed80-41e9-a98e-ce8c422e55eb\" xlink:actuate=\"onRequest\" xlink:href=\"psysml:fdc5aa3b-ed80-41e9-a98e-ce8c422e55eb\" xlink:show=\"new\" xlink:title=\"psysml:fdc5aa3b-ed80-41e9-a98e-ce8c422e55eb\" xlink:type=\"simple\"><rect fill=\"#FFFFFF\" height=\"42.9375\" id=\"E2\" rx=\"10\" ry=\"10\" style=\"stroke: #383838; stroke-width: 1.5;\" width=\"60\" x=\"308\" y=\"58\"/><rect fill=\"#F8F8F8\" height=\"37.9375\" rx=\"10\" ry=\"10\" style=\"stroke: #F8F8F8; stroke-width: 1.5;\" width=\"60\" x=\"308\" y=\"58\"/><rect fill=\"#F8F8F8\" height=\"10\" style=\"stroke: #F8F8F8; stroke-width: 1.5;\" width=\"60\" x=\"308\" y=\"85.9375\"/><rect fill=\"none\" height=\"42.9375\" id=\"E2\" rx=\"10\" ry=\"10\" style=\"stroke: #383838; stroke-width: 1.5;\" width=\"60\" x=\"308\" y=\"58\"/><text fill=\"#000000\" font-family=\"sans-serif\" font-size=\"12\" font-style=\"italic\" lengthAdjust=\"spacingAndGlyphs\" textLength=\"53\" x=\"311.5\" y=\"74.1387\">«action»</text><text fill=\"#000000\" font-family=\"sans-serif\" font-size=\"12\" lengthAdjust=\"spacingAndGlyphs\" textLength=\"16\" x=\"330\" y=\"88.1074\">A1</text></a></g><g id=\"E1.E3\"><a href=\"psysml:2c991ffe-75e4-475a-bb83-43f5c2feea80\" target=\"_top\" title=\"psysml:2c991ffe-75e4-475a-bb83-43f5c2feea80\" xlink:actuate=\"onRequest\" xlink:href=\"psysml:2c991ffe-75e4-475a-bb83-43f5c2feea80\" xlink:show=\"new\" xlink:title=\"psysml:2c991ffe-75e4-475a-bb83-43f5c2feea80\" xlink:type=\"simple\"><rect fill=\"#FFFFFF\" height=\"42.9375\" id=\"E3\" rx=\"10\" ry=\"10\" style=\"stroke: #383838; stroke-width: 1.5;\" width=\"60\" x=\"213\" y=\"58\"/><rect fill=\"#F8F8F8\" height=\"37.9375\" rx=\"10\" ry=\"10\" style=\"stroke: #F8F8F8; stroke-width: 1.5;\" width=\"60\" x=\"213\" y=\"58\"/><rect fill=\"#F8F8F8\" height=\"10\" style=\"stroke: #F8F8F8; stroke-width: 1.5;\" width=\"60\" x=\"213\" y=\"85.9375\"/><rect fill=\"none\" height=\"42.9375\" id=\"E3\" rx=\"10\" ry=\"10\" style=\"stroke: #383838; stroke-width: 1.5;\" width=\"60\" x=\"213\" y=\"58\"/><text fill=\"#000000\" font-family=\"sans-serif\" font-size=\"12\" font-style=\"italic\" lengthAdjust=\"spacingAndGlyphs\" textLength=\"53\" x=\"216.5\" y=\"74.1387\">«action»</text><text fill=\"#000000\" font-family=\"sans-serif\" font-size=\"12\" lengthAdjust=\"spacingAndGlyphs\" textLength=\"16\" x=\"235\" y=\"88.1074\">A2</text></a></g><g id=\"E1.E6\"><a href=\"psysml:f26d7e3d-b672-461c-aa14-0bbf3d4e7737\" target=\"_top\" title=\"psysml:f26d7e3d-b672-461c-aa14-0bbf3d4e7737\" xlink:actuate=\"onRequest\" xlink:href=\"psysml:f26d7e3d-b672-461c-aa14-0bbf3d4e7737\" xlink:show=\"new\" xlink:title=\"psysml:f26d7e3d-b672-461c-aa14-0bbf3d4e7737\" xlink:type=\"simple\"><rect fill=\"#FFFFFF\" height=\"42.9375\" id=\"E6\" rx=\"10\" ry=\"10\" style=\"stroke: #383838; stroke-width: 1.5;\" width=\"60\" x=\"118\" y=\"58\"/><rect fill=\"#F8F8F8\" height=\"37.9375\" rx=\"10\" ry=\"10\" style=\"stroke: #F8F8F8; stroke-width: 1.5;\" width=\"60\" x=\"118\" y=\"58\"/><rect fill=\"#F8F8F8\" height=\"10\" style=\"stroke: #F8F8F8; stroke-width: 1.5;\" width=\"60\" x=\"118\" y=\"85.9375\"/><rect fill=\"none\" height=\"42.9375\" id=\"E6\" rx=\"10\" ry=\"10\" style=\"stroke: #383838; stroke-width: 1.5;\" width=\"60\" x=\"118\" y=\"58\"/><text fill=\"#000000\" font-family=\"sans-serif\" font-size=\"12\" font-style=\"italic\" lengthAdjust=\"spacingAndGlyphs\" textLength=\"53\" x=\"121.5\" y=\"74.1387\">«action»</text><text fill=\"#000000\" font-family=\"sans-serif\" font-size=\"12\" lengthAdjust=\"spacingAndGlyphs\" textLength=\"16\" x=\"140\" y=\"88.1074\">B1</text></a></g><g id=\"E1.E7\"><a href=\"psysml:f6cf6959-d08a-437c-8e4b-96dd916f2436\" target=\"_top\" title=\"psysml:f6cf6959-d08a-437c-8e4b-96dd916f2436\" xlink:actuate=\"onRequest\" xlink:href=\"psysml:f6cf6959-d08a-437c-8e4b-96dd916f2436\" xlink:show=\"new\" xlink:title=\"psysml:f6cf6959-d08a-437c-8e4b-96dd916f2436\" xlink:type=\"simple\"><rect fill=\"#FFFFFF\" height=\"42.9375\" id=\"E7\" rx=\"10\" ry=\"10\" style=\"stroke: #383838; stroke-width: 1.5;\" width=\"60\" x=\"23\" y=\"58\"/><rect fill=\"#F8F8F8\" height=\"37.9375\" rx=\"10\" ry=\"10\" style=\"stroke: #F8F8F8; stroke-width: 1.5;\" width=\"60\" x=\"23\" y=\"58\"/><rect fill=\"#F8F8F8\" height=\"10\" style=\"stroke: #F8F8F8; stroke-width: 1.5;\" width=\"60\" x=\"23\" y=\"85.9375\"/><rect fill=\"none\" height=\"42.9375\" id=\"E7\" rx=\"10\" ry=\"10\" style=\"stroke: #383838; stroke-width: 1.5;\" width=\"60\" x=\"23\" y=\"58\"/><text fill=\"#000000\" font-family=\"sans-serif\" font-size=\"12\" font-style=\"italic\" lengthAdjust=\"spacingAndGlyphs\" textLength=\"53\" x=\"26.5\" y=\"74.1387\">«action»</text><text fill=\"#000000\" font-family=\"sans-serif\" font-size=\"12\" lengthAdjust=\"spacingAndGlyphs\" textLength=\"16\" x=\"45\" y=\"88.1074\">B2</text></a></g><!--MD5=[465ed9010fa9f7b8b577b679d99734dc]\n",
       "@startuml\r\n",
       "skinparam ranksep 8\r\n",
       "skinparam monochrome true\r\n",
       "skinparam classbackgroundcolor white\r\n",
       "skinparam shadowing false\r\n",
       "skinparam wrapWidth 300\r\n",
       "hide circle\r\n",
       "\r\n",
       "rec def \"ControlNodeTest\" as E1  <<(T,blue)action def>> [[psysml:d45f0f17-f367-4b4e-a94c-d0cd962b9658 ]] {\r\n",
       "rec usage \"A1\" as E2  <<(T,blue)action>> [[psysml:fdc5aa3b-ed80-41e9-a98e-ce8c422e55eb ]] {\r\n",
       "}\r\n",
       "\r\n",
       "rec usage \"A2\" as E3  <<(T,blue)action>> [[psysml:2c991ffe-75e4-475a-bb83-43f5c2feea80 ]] {\r\n",
       "}\r\n",
       "\r\n",
       "join \"J\" as E4  [[psysml:5dc91872-c5b7-4d29-9265-55786a5f23d3 ]] \r\n",
       "fork \"F\" as E5  [[psysml:32073807-3d0f-4273-9610-bcad2a0739d7 ]] \r\n",
       "rec usage \"B1\" as E6  <<(T,blue)action>> [[psysml:f26d7e3d-b672-461c-aa14-0bbf3d4e7737 ]] {\r\n",
       "}\r\n",
       "\r\n",
       "rec usage \"B2\" as E7  <<(T,blue)action>> [[psysml:f6cf6959-d08a-437c-8e4b-96dd916f2436 ]] {\r\n",
       "}\r\n",
       "\r\n",
       "}\r\n",
       "\r\n",
       "@enduml\r\n",
       "\n",
       "PlantUML version 1.2020.13(Sat Jun 13 12:26:38 UTC 2020)\n",
       "(EPL source distribution)\n",
       "Java Runtime: OpenJDK Runtime Environment\n",
       "JVM: OpenJDK 64-Bit Server VM\n",
       "Default Encoding: UTF-8\n",
       "Language: en\n",
       "Country: null\n",
       "--></g></svg>"
      ]
     },
     "execution_count": 41,
     "metadata": {},
     "output_type": "execute_result"
    }
   ],
   "source": [
    "%viz --style=\"DEFAULT\" --view=\"Action\" \"ControlNodeTest\""
   ]
  },
  {
   "cell_type": "code",
   "execution_count": 42,
   "id": "civilian-combine",
   "metadata": {
    "execution": {
     "iopub.execute_input": "2021-03-25T09:28:39.010755Z",
     "iopub.status.busy": "2021-03-25T09:28:39.010387Z",
     "iopub.status.idle": "2021-03-25T09:28:39.258682Z",
     "shell.execute_reply": "2021-03-25T09:28:39.258317Z"
    }
   },
   "outputs": [
    {
     "data": {
      "image/svg+xml": [
       "<?xml version=\"1.0\" encoding=\"UTF-8\" standalone=\"no\"?><svg xmlns=\"http://www.w3.org/2000/svg\" xmlns:xlink=\"http://www.w3.org/1999/xlink\" contentScriptType=\"application/ecmascript\" contentStyleType=\"text/css\" height=\"191px\" preserveAspectRatio=\"none\" style=\"width:129px;height:191px;\" version=\"1.1\" viewBox=\"0 0 129 191\" width=\"129px\" zoomAndPan=\"magnify\"><defs/><g><!--MD5=[43c9051892ef23e1a46a86907403d788]\n",
       "class E1--><a href=\"psysml:d45f0f17-f367-4b4e-a94c-d0cd962b9658\" target=\"_top\" title=\"psysml:d45f0f17-f367-4b4e-a94c-d0cd962b9658\" xlink:actuate=\"onRequest\" xlink:href=\"psysml:d45f0f17-f367-4b4e-a94c-d0cd962b9658\" xlink:show=\"new\" xlink:title=\"psysml:d45f0f17-f367-4b4e-a94c-d0cd962b9658\" xlink:type=\"simple\"><rect fill=\"#FFFFFF\" height=\"173.1797\" id=\"E1\" style=\"stroke: #383838; stroke-width: 1.5;\" width=\"111\" x=\"7\" y=\"7\"/><text fill=\"#000000\" font-family=\"sans-serif\" font-size=\"12\" font-style=\"italic\" lengthAdjust=\"spacingAndGlyphs\" textLength=\"77\" x=\"24\" y=\"23.1387\">«action def»</text><text fill=\"#000000\" font-family=\"sans-serif\" font-size=\"12\" lengthAdjust=\"spacingAndGlyphs\" textLength=\"105\" x=\"10\" y=\"37.1074\">ControlNodeTest</text><line style=\"stroke: #383838; stroke-width: 1.5;\" x1=\"8\" x2=\"117\" y1=\"44.9375\" y2=\"44.9375\"/><text fill=\"#000000\" font-family=\"sans-serif\" font-size=\"11\" lengthAdjust=\"spacingAndGlyphs\" textLength=\"14\" x=\"13\" y=\"75.9526\">A1</text><text fill=\"#000000\" font-family=\"sans-serif\" font-size=\"11\" lengthAdjust=\"spacingAndGlyphs\" textLength=\"14\" x=\"13\" y=\"88.7573\">A2</text><text fill=\"#000000\" font-family=\"sans-serif\" font-size=\"11\" lengthAdjust=\"spacingAndGlyphs\" textLength=\"15\" x=\"13\" y=\"101.562\">B1</text><text fill=\"#000000\" font-family=\"sans-serif\" font-size=\"11\" lengthAdjust=\"spacingAndGlyphs\" textLength=\"15\" x=\"13\" y=\"114.3667\">B2</text><line style=\"stroke: #383838; stroke-width: 1.0;\" x1=\"8\" x2=\"42\" y1=\"59.3398\" y2=\"59.3398\"/><text fill=\"#000000\" font-family=\"sans-serif\" font-size=\"11\" lengthAdjust=\"spacingAndGlyphs\" textLength=\"41\" x=\"42\" y=\"62.6479\">actions</text><line style=\"stroke: #383838; stroke-width: 1.0;\" x1=\"83\" x2=\"117\" y1=\"59.3398\" y2=\"59.3398\"/><text fill=\"#000000\" font-family=\"sans-serif\" font-size=\"11\" lengthAdjust=\"spacingAndGlyphs\" textLength=\"6\" x=\"13\" y=\"143.9761\">F</text><line style=\"stroke: #383838; stroke-width: 1.0;\" x1=\"8\" x2=\"33.5\" y1=\"127.3633\" y2=\"127.3633\"/><text fill=\"#000000\" font-family=\"sans-serif\" font-size=\"11\" lengthAdjust=\"spacingAndGlyphs\" textLength=\"58\" x=\"33.5\" y=\"130.6714\">forkNodes</text><line style=\"stroke: #383838; stroke-width: 1.0;\" x1=\"91.5\" x2=\"117\" y1=\"127.3633\" y2=\"127.3633\"/><text fill=\"#000000\" font-family=\"sans-serif\" font-size=\"11\" lengthAdjust=\"spacingAndGlyphs\" textLength=\"3\" x=\"13\" y=\"173.5854\">J</text><line style=\"stroke: #383838; stroke-width: 1.0;\" x1=\"8\" x2=\"34.5\" y1=\"156.9727\" y2=\"156.9727\"/><text fill=\"#000000\" font-family=\"sans-serif\" font-size=\"11\" lengthAdjust=\"spacingAndGlyphs\" textLength=\"56\" x=\"34.5\" y=\"160.2808\">joinNodes</text><line style=\"stroke: #383838; stroke-width: 1.0;\" x1=\"90.5\" x2=\"117\" y1=\"156.9727\" y2=\"156.9727\"/></a><!--MD5=[12f41cf66a7e29ed213d2a43f4781ce7]\n",
       "@startuml\r\n",
       "skinparam monochrome true\r\n",
       "skinparam classbackgroundcolor white\r\n",
       "skinparam shadowing false\r\n",
       "skinparam wrapWidth 300\r\n",
       "hide circle\r\n",
       "\r\n",
       "comp def \"ControlNodeTest\" as E1  <<(T,blue)action def>> [[psysml:d45f0f17-f367-4b4e-a94c-d0cd962b9658 ]] {\r\n",
       "- - actions - -\r\n",
       "A1\r\n",
       "A2\r\n",
       "B1\r\n",
       "B2\r\n",
       "- - forkNodes - -\r\n",
       "F\r\n",
       "- - joinNodes - -\r\n",
       "J\r\n",
       "}\r\n",
       "@enduml\r\n",
       "\n",
       "PlantUML version 1.2020.13(Sat Jun 13 12:26:38 UTC 2020)\n",
       "(EPL source distribution)\n",
       "Java Runtime: OpenJDK Runtime Environment\n",
       "JVM: OpenJDK 64-Bit Server VM\n",
       "Default Encoding: UTF-8\n",
       "Language: en\n",
       "Country: null\n",
       "--></g></svg>"
      ]
     },
     "execution_count": 42,
     "metadata": {},
     "output_type": "execute_result"
    }
   ],
   "source": [
    "%viz --style=\"DEFAULT\" --view=\"Sequence\" \"ControlNodeTest\""
   ]
  },
  {
   "cell_type": "code",
   "execution_count": 43,
   "id": "ongoing-marks",
   "metadata": {
    "execution": {
     "iopub.execute_input": "2021-03-25T09:28:39.309112Z",
     "iopub.status.busy": "2021-03-25T09:28:39.308575Z",
     "iopub.status.idle": "2021-03-25T09:28:39.406863Z",
     "shell.execute_reply": "2021-03-25T09:28:39.405146Z"
    }
   },
   "outputs": [
    {
     "data": {
      "image/svg+xml": [
       "<?xml version=\"1.0\" encoding=\"UTF-8\" standalone=\"no\"?><svg xmlns=\"http://www.w3.org/2000/svg\" xmlns:xlink=\"http://www.w3.org/1999/xlink\" contentScriptType=\"application/ecmascript\" contentStyleType=\"text/css\" height=\"128px\" preserveAspectRatio=\"none\" style=\"width:625px;height:128px;\" version=\"1.1\" viewBox=\"0 0 625 128\" width=\"625px\" zoomAndPan=\"magnify\"><defs/><g><!--MD5=[fbc87193dbaf4d95561dea2c320d4a47]\n",
       "cluster E1--><a href=\"psysml:d45f0f17-f367-4b4e-a94c-d0cd962b9658\" target=\"_top\" title=\"psysml:d45f0f17-f367-4b4e-a94c-d0cd962b9658\" xlink:actuate=\"onRequest\" xlink:href=\"psysml:d45f0f17-f367-4b4e-a94c-d0cd962b9658\" xlink:show=\"new\" xlink:title=\"psysml:d45f0f17-f367-4b4e-a94c-d0cd962b9658\" xlink:type=\"simple\"><rect fill=\"#FFFFFF\" height=\"110\" id=\"E1\" style=\"stroke: #383838; stroke-width: 1.5;\" width=\"607\" x=\"7\" y=\"7\"/><rect fill=\"#F8F8F8\" height=\"37.9375\" style=\"stroke: #383838; stroke-width: 1.5;\" width=\"607\" x=\"7\" y=\"7\"/><text fill=\"#000000\" font-family=\"sans-serif\" font-size=\"12\" font-style=\"italic\" lengthAdjust=\"spacingAndGlyphs\" textLength=\"77\" x=\"272\" y=\"23.1387\">«action def»</text><text fill=\"#000000\" font-family=\"sans-serif\" font-size=\"12\" lengthAdjust=\"spacingAndGlyphs\" textLength=\"105\" x=\"258\" y=\"37.1074\">ControlNodeTest</text></a><rect fill=\"#000000\" height=\"8\" style=\"stroke: none; stroke-width: 1.0;\" width=\"80\" x=\"518\" y=\"75.5\"/><rect fill=\"#000000\" height=\"8\" style=\"stroke: none; stroke-width: 1.0;\" width=\"80\" x=\"403\" y=\"75.5\"/><g id=\"E1.E2\"><a href=\"psysml:fdc5aa3b-ed80-41e9-a98e-ce8c422e55eb\" target=\"_top\" title=\"psysml:fdc5aa3b-ed80-41e9-a98e-ce8c422e55eb\" xlink:actuate=\"onRequest\" xlink:href=\"psysml:fdc5aa3b-ed80-41e9-a98e-ce8c422e55eb\" xlink:show=\"new\" xlink:title=\"psysml:fdc5aa3b-ed80-41e9-a98e-ce8c422e55eb\" xlink:type=\"simple\"><rect fill=\"#FFFFFF\" height=\"42.9375\" id=\"E2\" rx=\"10\" ry=\"10\" style=\"stroke: #383838; stroke-width: 1.5;\" width=\"60\" x=\"308\" y=\"58\"/><rect fill=\"#F8F8F8\" height=\"37.9375\" rx=\"10\" ry=\"10\" style=\"stroke: #F8F8F8; stroke-width: 1.5;\" width=\"60\" x=\"308\" y=\"58\"/><rect fill=\"#F8F8F8\" height=\"10\" style=\"stroke: #F8F8F8; stroke-width: 1.5;\" width=\"60\" x=\"308\" y=\"85.9375\"/><rect fill=\"none\" height=\"42.9375\" id=\"E2\" rx=\"10\" ry=\"10\" style=\"stroke: #383838; stroke-width: 1.5;\" width=\"60\" x=\"308\" y=\"58\"/><text fill=\"#000000\" font-family=\"sans-serif\" font-size=\"12\" font-style=\"italic\" lengthAdjust=\"spacingAndGlyphs\" textLength=\"53\" x=\"311.5\" y=\"74.1387\">«action»</text><text fill=\"#000000\" font-family=\"sans-serif\" font-size=\"12\" lengthAdjust=\"spacingAndGlyphs\" textLength=\"16\" x=\"330\" y=\"88.1074\">A1</text></a></g><g id=\"E1.E3\"><a href=\"psysml:2c991ffe-75e4-475a-bb83-43f5c2feea80\" target=\"_top\" title=\"psysml:2c991ffe-75e4-475a-bb83-43f5c2feea80\" xlink:actuate=\"onRequest\" xlink:href=\"psysml:2c991ffe-75e4-475a-bb83-43f5c2feea80\" xlink:show=\"new\" xlink:title=\"psysml:2c991ffe-75e4-475a-bb83-43f5c2feea80\" xlink:type=\"simple\"><rect fill=\"#FFFFFF\" height=\"42.9375\" id=\"E3\" rx=\"10\" ry=\"10\" style=\"stroke: #383838; stroke-width: 1.5;\" width=\"60\" x=\"213\" y=\"58\"/><rect fill=\"#F8F8F8\" height=\"37.9375\" rx=\"10\" ry=\"10\" style=\"stroke: #F8F8F8; stroke-width: 1.5;\" width=\"60\" x=\"213\" y=\"58\"/><rect fill=\"#F8F8F8\" height=\"10\" style=\"stroke: #F8F8F8; stroke-width: 1.5;\" width=\"60\" x=\"213\" y=\"85.9375\"/><rect fill=\"none\" height=\"42.9375\" id=\"E3\" rx=\"10\" ry=\"10\" style=\"stroke: #383838; stroke-width: 1.5;\" width=\"60\" x=\"213\" y=\"58\"/><text fill=\"#000000\" font-family=\"sans-serif\" font-size=\"12\" font-style=\"italic\" lengthAdjust=\"spacingAndGlyphs\" textLength=\"53\" x=\"216.5\" y=\"74.1387\">«action»</text><text fill=\"#000000\" font-family=\"sans-serif\" font-size=\"12\" lengthAdjust=\"spacingAndGlyphs\" textLength=\"16\" x=\"235\" y=\"88.1074\">A2</text></a></g><g id=\"E1.E6\"><a href=\"psysml:f26d7e3d-b672-461c-aa14-0bbf3d4e7737\" target=\"_top\" title=\"psysml:f26d7e3d-b672-461c-aa14-0bbf3d4e7737\" xlink:actuate=\"onRequest\" xlink:href=\"psysml:f26d7e3d-b672-461c-aa14-0bbf3d4e7737\" xlink:show=\"new\" xlink:title=\"psysml:f26d7e3d-b672-461c-aa14-0bbf3d4e7737\" xlink:type=\"simple\"><rect fill=\"#FFFFFF\" height=\"42.9375\" id=\"E6\" rx=\"10\" ry=\"10\" style=\"stroke: #383838; stroke-width: 1.5;\" width=\"60\" x=\"118\" y=\"58\"/><rect fill=\"#F8F8F8\" height=\"37.9375\" rx=\"10\" ry=\"10\" style=\"stroke: #F8F8F8; stroke-width: 1.5;\" width=\"60\" x=\"118\" y=\"58\"/><rect fill=\"#F8F8F8\" height=\"10\" style=\"stroke: #F8F8F8; stroke-width: 1.5;\" width=\"60\" x=\"118\" y=\"85.9375\"/><rect fill=\"none\" height=\"42.9375\" id=\"E6\" rx=\"10\" ry=\"10\" style=\"stroke: #383838; stroke-width: 1.5;\" width=\"60\" x=\"118\" y=\"58\"/><text fill=\"#000000\" font-family=\"sans-serif\" font-size=\"12\" font-style=\"italic\" lengthAdjust=\"spacingAndGlyphs\" textLength=\"53\" x=\"121.5\" y=\"74.1387\">«action»</text><text fill=\"#000000\" font-family=\"sans-serif\" font-size=\"12\" lengthAdjust=\"spacingAndGlyphs\" textLength=\"16\" x=\"140\" y=\"88.1074\">B1</text></a></g><g id=\"E1.E7\"><a href=\"psysml:f6cf6959-d08a-437c-8e4b-96dd916f2436\" target=\"_top\" title=\"psysml:f6cf6959-d08a-437c-8e4b-96dd916f2436\" xlink:actuate=\"onRequest\" xlink:href=\"psysml:f6cf6959-d08a-437c-8e4b-96dd916f2436\" xlink:show=\"new\" xlink:title=\"psysml:f6cf6959-d08a-437c-8e4b-96dd916f2436\" xlink:type=\"simple\"><rect fill=\"#FFFFFF\" height=\"42.9375\" id=\"E7\" rx=\"10\" ry=\"10\" style=\"stroke: #383838; stroke-width: 1.5;\" width=\"60\" x=\"23\" y=\"58\"/><rect fill=\"#F8F8F8\" height=\"37.9375\" rx=\"10\" ry=\"10\" style=\"stroke: #F8F8F8; stroke-width: 1.5;\" width=\"60\" x=\"23\" y=\"58\"/><rect fill=\"#F8F8F8\" height=\"10\" style=\"stroke: #F8F8F8; stroke-width: 1.5;\" width=\"60\" x=\"23\" y=\"85.9375\"/><rect fill=\"none\" height=\"42.9375\" id=\"E7\" rx=\"10\" ry=\"10\" style=\"stroke: #383838; stroke-width: 1.5;\" width=\"60\" x=\"23\" y=\"58\"/><text fill=\"#000000\" font-family=\"sans-serif\" font-size=\"12\" font-style=\"italic\" lengthAdjust=\"spacingAndGlyphs\" textLength=\"53\" x=\"26.5\" y=\"74.1387\">«action»</text><text fill=\"#000000\" font-family=\"sans-serif\" font-size=\"12\" lengthAdjust=\"spacingAndGlyphs\" textLength=\"16\" x=\"45\" y=\"88.1074\">B2</text></a></g><!--MD5=[e4f7c101899816fce20e544d3e9d3a50]\n",
       "@startuml\r\n",
       "skinparam monochrome true\r\n",
       "skinparam classbackgroundcolor white\r\n",
       "skinparam shadowing false\r\n",
       "skinparam wrapWidth 300\r\n",
       "hide circle\r\n",
       "\r\n",
       "rec def \"ControlNodeTest\" as E1  <<(T,blue)action def>> [[psysml:d45f0f17-f367-4b4e-a94c-d0cd962b9658 ]] {\r\n",
       "rec usage \"A1\" as E2  <<(T,blue)action>> [[psysml:fdc5aa3b-ed80-41e9-a98e-ce8c422e55eb ]] {\r\n",
       "}\r\n",
       "\r\n",
       "rec usage \"A2\" as E3  <<(T,blue)action>> [[psysml:2c991ffe-75e4-475a-bb83-43f5c2feea80 ]] {\r\n",
       "}\r\n",
       "\r\n",
       "join \"J\" as E4  [[psysml:5dc91872-c5b7-4d29-9265-55786a5f23d3 ]] \r\n",
       "fork \"F\" as E5  [[psysml:32073807-3d0f-4273-9610-bcad2a0739d7 ]] \r\n",
       "rec usage \"B1\" as E6  <<(T,blue)action>> [[psysml:f26d7e3d-b672-461c-aa14-0bbf3d4e7737 ]] {\r\n",
       "}\r\n",
       "\r\n",
       "rec usage \"B2\" as E7  <<(T,blue)action>> [[psysml:f6cf6959-d08a-437c-8e4b-96dd916f2436 ]] {\r\n",
       "}\r\n",
       "\r\n",
       "}\r\n",
       "\r\n",
       "@enduml\r\n",
       "\n",
       "PlantUML version 1.2020.13(Sat Jun 13 12:26:38 UTC 2020)\n",
       "(EPL source distribution)\n",
       "Java Runtime: OpenJDK Runtime Environment\n",
       "JVM: OpenJDK 64-Bit Server VM\n",
       "Default Encoding: UTF-8\n",
       "Language: en\n",
       "Country: null\n",
       "--></g></svg>"
      ]
     },
     "execution_count": 43,
     "metadata": {},
     "output_type": "execute_result"
    }
   ],
   "source": [
    "%viz --style=\"DEFAULT\" --view=\"MIXED\" \"ControlNodeTest\""
   ]
  },
  {
   "cell_type": "code",
   "execution_count": 44,
   "id": "pediatric-sentence",
   "metadata": {
    "execution": {
     "iopub.execute_input": "2021-03-25T09:28:39.458271Z",
     "iopub.status.busy": "2021-03-25T09:28:39.457569Z",
     "iopub.status.idle": "2021-03-25T09:28:39.555451Z",
     "shell.execute_reply": "2021-03-25T09:28:39.554037Z"
    }
   },
   "outputs": [
    {
     "data": {
      "image/svg+xml": [
       "<?xml version=\"1.0\" encoding=\"UTF-8\" standalone=\"no\"?><svg xmlns=\"http://www.w3.org/2000/svg\" xmlns:xlink=\"http://www.w3.org/1999/xlink\" contentScriptType=\"application/ecmascript\" contentStyleType=\"text/css\" height=\"128px\" preserveAspectRatio=\"none\" style=\"width:625px;height:128px;\" version=\"1.1\" viewBox=\"0 0 625 128\" width=\"625px\" zoomAndPan=\"magnify\"><defs/><g><!--MD5=[fbc87193dbaf4d95561dea2c320d4a47]\n",
       "cluster E1--><a href=\"psysml:d45f0f17-f367-4b4e-a94c-d0cd962b9658\" target=\"_top\" title=\"psysml:d45f0f17-f367-4b4e-a94c-d0cd962b9658\" xlink:actuate=\"onRequest\" xlink:href=\"psysml:d45f0f17-f367-4b4e-a94c-d0cd962b9658\" xlink:show=\"new\" xlink:title=\"psysml:d45f0f17-f367-4b4e-a94c-d0cd962b9658\" xlink:type=\"simple\"><rect fill=\"#FFFFFF\" height=\"110\" id=\"E1\" style=\"stroke: #383838; stroke-width: 1.5;\" width=\"607\" x=\"7\" y=\"7\"/><rect fill=\"#F8F8F8\" height=\"37.9375\" style=\"stroke: #383838; stroke-width: 1.5;\" width=\"607\" x=\"7\" y=\"7\"/><text fill=\"#000000\" font-family=\"sans-serif\" font-size=\"12\" font-style=\"italic\" lengthAdjust=\"spacingAndGlyphs\" textLength=\"77\" x=\"272\" y=\"23.1387\">«action def»</text><text fill=\"#000000\" font-family=\"sans-serif\" font-size=\"12\" lengthAdjust=\"spacingAndGlyphs\" textLength=\"105\" x=\"258\" y=\"37.1074\">ControlNodeTest</text></a><rect fill=\"#000000\" height=\"8\" style=\"stroke: none; stroke-width: 1.0;\" width=\"80\" x=\"518\" y=\"75.5\"/><rect fill=\"#000000\" height=\"8\" style=\"stroke: none; stroke-width: 1.0;\" width=\"80\" x=\"403\" y=\"75.5\"/><g id=\"E1.E2\"><a href=\"psysml:fdc5aa3b-ed80-41e9-a98e-ce8c422e55eb\" target=\"_top\" title=\"psysml:fdc5aa3b-ed80-41e9-a98e-ce8c422e55eb\" xlink:actuate=\"onRequest\" xlink:href=\"psysml:fdc5aa3b-ed80-41e9-a98e-ce8c422e55eb\" xlink:show=\"new\" xlink:title=\"psysml:fdc5aa3b-ed80-41e9-a98e-ce8c422e55eb\" xlink:type=\"simple\"><rect fill=\"#FFFFFF\" height=\"42.9375\" id=\"E2\" rx=\"10\" ry=\"10\" style=\"stroke: #383838; stroke-width: 1.5;\" width=\"60\" x=\"308\" y=\"58\"/><rect fill=\"#F8F8F8\" height=\"37.9375\" rx=\"10\" ry=\"10\" style=\"stroke: #F8F8F8; stroke-width: 1.5;\" width=\"60\" x=\"308\" y=\"58\"/><rect fill=\"#F8F8F8\" height=\"10\" style=\"stroke: #F8F8F8; stroke-width: 1.5;\" width=\"60\" x=\"308\" y=\"85.9375\"/><rect fill=\"none\" height=\"42.9375\" id=\"E2\" rx=\"10\" ry=\"10\" style=\"stroke: #383838; stroke-width: 1.5;\" width=\"60\" x=\"308\" y=\"58\"/><text fill=\"#000000\" font-family=\"sans-serif\" font-size=\"12\" font-style=\"italic\" lengthAdjust=\"spacingAndGlyphs\" textLength=\"53\" x=\"311.5\" y=\"74.1387\">«action»</text><text fill=\"#000000\" font-family=\"sans-serif\" font-size=\"12\" lengthAdjust=\"spacingAndGlyphs\" textLength=\"16\" x=\"330\" y=\"88.1074\">A1</text></a></g><g id=\"E1.E3\"><a href=\"psysml:2c991ffe-75e4-475a-bb83-43f5c2feea80\" target=\"_top\" title=\"psysml:2c991ffe-75e4-475a-bb83-43f5c2feea80\" xlink:actuate=\"onRequest\" xlink:href=\"psysml:2c991ffe-75e4-475a-bb83-43f5c2feea80\" xlink:show=\"new\" xlink:title=\"psysml:2c991ffe-75e4-475a-bb83-43f5c2feea80\" xlink:type=\"simple\"><rect fill=\"#FFFFFF\" height=\"42.9375\" id=\"E3\" rx=\"10\" ry=\"10\" style=\"stroke: #383838; stroke-width: 1.5;\" width=\"60\" x=\"213\" y=\"58\"/><rect fill=\"#F8F8F8\" height=\"37.9375\" rx=\"10\" ry=\"10\" style=\"stroke: #F8F8F8; stroke-width: 1.5;\" width=\"60\" x=\"213\" y=\"58\"/><rect fill=\"#F8F8F8\" height=\"10\" style=\"stroke: #F8F8F8; stroke-width: 1.5;\" width=\"60\" x=\"213\" y=\"85.9375\"/><rect fill=\"none\" height=\"42.9375\" id=\"E3\" rx=\"10\" ry=\"10\" style=\"stroke: #383838; stroke-width: 1.5;\" width=\"60\" x=\"213\" y=\"58\"/><text fill=\"#000000\" font-family=\"sans-serif\" font-size=\"12\" font-style=\"italic\" lengthAdjust=\"spacingAndGlyphs\" textLength=\"53\" x=\"216.5\" y=\"74.1387\">«action»</text><text fill=\"#000000\" font-family=\"sans-serif\" font-size=\"12\" lengthAdjust=\"spacingAndGlyphs\" textLength=\"16\" x=\"235\" y=\"88.1074\">A2</text></a></g><g id=\"E1.E6\"><a href=\"psysml:f26d7e3d-b672-461c-aa14-0bbf3d4e7737\" target=\"_top\" title=\"psysml:f26d7e3d-b672-461c-aa14-0bbf3d4e7737\" xlink:actuate=\"onRequest\" xlink:href=\"psysml:f26d7e3d-b672-461c-aa14-0bbf3d4e7737\" xlink:show=\"new\" xlink:title=\"psysml:f26d7e3d-b672-461c-aa14-0bbf3d4e7737\" xlink:type=\"simple\"><rect fill=\"#FFFFFF\" height=\"42.9375\" id=\"E6\" rx=\"10\" ry=\"10\" style=\"stroke: #383838; stroke-width: 1.5;\" width=\"60\" x=\"118\" y=\"58\"/><rect fill=\"#F8F8F8\" height=\"37.9375\" rx=\"10\" ry=\"10\" style=\"stroke: #F8F8F8; stroke-width: 1.5;\" width=\"60\" x=\"118\" y=\"58\"/><rect fill=\"#F8F8F8\" height=\"10\" style=\"stroke: #F8F8F8; stroke-width: 1.5;\" width=\"60\" x=\"118\" y=\"85.9375\"/><rect fill=\"none\" height=\"42.9375\" id=\"E6\" rx=\"10\" ry=\"10\" style=\"stroke: #383838; stroke-width: 1.5;\" width=\"60\" x=\"118\" y=\"58\"/><text fill=\"#000000\" font-family=\"sans-serif\" font-size=\"12\" font-style=\"italic\" lengthAdjust=\"spacingAndGlyphs\" textLength=\"53\" x=\"121.5\" y=\"74.1387\">«action»</text><text fill=\"#000000\" font-family=\"sans-serif\" font-size=\"12\" lengthAdjust=\"spacingAndGlyphs\" textLength=\"16\" x=\"140\" y=\"88.1074\">B1</text></a></g><g id=\"E1.E7\"><a href=\"psysml:f6cf6959-d08a-437c-8e4b-96dd916f2436\" target=\"_top\" title=\"psysml:f6cf6959-d08a-437c-8e4b-96dd916f2436\" xlink:actuate=\"onRequest\" xlink:href=\"psysml:f6cf6959-d08a-437c-8e4b-96dd916f2436\" xlink:show=\"new\" xlink:title=\"psysml:f6cf6959-d08a-437c-8e4b-96dd916f2436\" xlink:type=\"simple\"><rect fill=\"#FFFFFF\" height=\"42.9375\" id=\"E7\" rx=\"10\" ry=\"10\" style=\"stroke: #383838; stroke-width: 1.5;\" width=\"60\" x=\"23\" y=\"58\"/><rect fill=\"#F8F8F8\" height=\"37.9375\" rx=\"10\" ry=\"10\" style=\"stroke: #F8F8F8; stroke-width: 1.5;\" width=\"60\" x=\"23\" y=\"58\"/><rect fill=\"#F8F8F8\" height=\"10\" style=\"stroke: #F8F8F8; stroke-width: 1.5;\" width=\"60\" x=\"23\" y=\"85.9375\"/><rect fill=\"none\" height=\"42.9375\" id=\"E7\" rx=\"10\" ry=\"10\" style=\"stroke: #383838; stroke-width: 1.5;\" width=\"60\" x=\"23\" y=\"58\"/><text fill=\"#000000\" font-family=\"sans-serif\" font-size=\"12\" font-style=\"italic\" lengthAdjust=\"spacingAndGlyphs\" textLength=\"53\" x=\"26.5\" y=\"74.1387\">«action»</text><text fill=\"#000000\" font-family=\"sans-serif\" font-size=\"12\" lengthAdjust=\"spacingAndGlyphs\" textLength=\"16\" x=\"45\" y=\"88.1074\">B2</text></a></g><!--MD5=[9f6b6361d6900347753a857563bc3245]\n",
       "@startuml\r\n",
       "top to bottom direction\r\n",
       "skinparam monochrome true\r\n",
       "skinparam classbackgroundcolor white\r\n",
       "skinparam shadowing false\r\n",
       "skinparam wrapWidth 300\r\n",
       "hide circle\r\n",
       "\r\n",
       "rec def \"ControlNodeTest\" as E1  <<(T,blue)action def>> [[psysml:d45f0f17-f367-4b4e-a94c-d0cd962b9658 ]] {\r\n",
       "rec usage \"A1\" as E2  <<(T,blue)action>> [[psysml:fdc5aa3b-ed80-41e9-a98e-ce8c422e55eb ]] {\r\n",
       "}\r\n",
       "\r\n",
       "rec usage \"A2\" as E3  <<(T,blue)action>> [[psysml:2c991ffe-75e4-475a-bb83-43f5c2feea80 ]] {\r\n",
       "}\r\n",
       "\r\n",
       "join \"J\" as E4  [[psysml:5dc91872-c5b7-4d29-9265-55786a5f23d3 ]] \r\n",
       "fork \"F\" as E5  [[psysml:32073807-3d0f-4273-9610-bcad2a0739d7 ]] \r\n",
       "rec usage \"B1\" as E6  <<(T,blue)action>> [[psysml:f26d7e3d-b672-461c-aa14-0bbf3d4e7737 ]] {\r\n",
       "}\r\n",
       "\r\n",
       "rec usage \"B2\" as E7  <<(T,blue)action>> [[psysml:f6cf6959-d08a-437c-8e4b-96dd916f2436 ]] {\r\n",
       "}\r\n",
       "\r\n",
       "}\r\n",
       "\r\n",
       "@enduml\r\n",
       "\n",
       "PlantUML version 1.2020.13(Sat Jun 13 12:26:38 UTC 2020)\n",
       "(EPL source distribution)\n",
       "Java Runtime: OpenJDK Runtime Environment\n",
       "JVM: OpenJDK 64-Bit Server VM\n",
       "Default Encoding: UTF-8\n",
       "Language: en\n",
       "Country: null\n",
       "--></g></svg>"
      ]
     },
     "execution_count": 44,
     "metadata": {},
     "output_type": "execute_result"
    }
   ],
   "source": [
    "%viz --style=\"TB\" --view=\"Default\" \"ControlNodeTest\""
   ]
  },
  {
   "cell_type": "code",
   "execution_count": 45,
   "id": "collaborative-morris",
   "metadata": {
    "execution": {
     "iopub.execute_input": "2021-03-25T09:28:39.607675Z",
     "iopub.status.busy": "2021-03-25T09:28:39.607033Z",
     "iopub.status.idle": "2021-03-25T09:28:39.849075Z",
     "shell.execute_reply": "2021-03-25T09:28:39.848386Z"
    }
   },
   "outputs": [
    {
     "data": {
      "image/svg+xml": [
       "<?xml version=\"1.0\" encoding=\"UTF-8\" standalone=\"no\"?><svg xmlns=\"http://www.w3.org/2000/svg\" xmlns:xlink=\"http://www.w3.org/1999/xlink\" contentScriptType=\"application/ecmascript\" contentStyleType=\"text/css\" height=\"191px\" preserveAspectRatio=\"none\" style=\"width:129px;height:191px;\" version=\"1.1\" viewBox=\"0 0 129 191\" width=\"129px\" zoomAndPan=\"magnify\"><defs/><g><!--MD5=[43c9051892ef23e1a46a86907403d788]\n",
       "class E1--><a href=\"psysml:d45f0f17-f367-4b4e-a94c-d0cd962b9658\" target=\"_top\" title=\"psysml:d45f0f17-f367-4b4e-a94c-d0cd962b9658\" xlink:actuate=\"onRequest\" xlink:href=\"psysml:d45f0f17-f367-4b4e-a94c-d0cd962b9658\" xlink:show=\"new\" xlink:title=\"psysml:d45f0f17-f367-4b4e-a94c-d0cd962b9658\" xlink:type=\"simple\"><rect fill=\"#FFFFFF\" height=\"173.1797\" id=\"E1\" style=\"stroke: #383838; stroke-width: 1.5;\" width=\"111\" x=\"7\" y=\"7\"/><text fill=\"#000000\" font-family=\"sans-serif\" font-size=\"12\" font-style=\"italic\" lengthAdjust=\"spacingAndGlyphs\" textLength=\"77\" x=\"24\" y=\"23.1387\">«action def»</text><text fill=\"#000000\" font-family=\"sans-serif\" font-size=\"12\" lengthAdjust=\"spacingAndGlyphs\" textLength=\"105\" x=\"10\" y=\"37.1074\">ControlNodeTest</text><line style=\"stroke: #383838; stroke-width: 1.5;\" x1=\"8\" x2=\"117\" y1=\"44.9375\" y2=\"44.9375\"/><text fill=\"#000000\" font-family=\"sans-serif\" font-size=\"11\" lengthAdjust=\"spacingAndGlyphs\" textLength=\"14\" x=\"13\" y=\"75.9526\">A1</text><text fill=\"#000000\" font-family=\"sans-serif\" font-size=\"11\" lengthAdjust=\"spacingAndGlyphs\" textLength=\"14\" x=\"13\" y=\"88.7573\">A2</text><text fill=\"#000000\" font-family=\"sans-serif\" font-size=\"11\" lengthAdjust=\"spacingAndGlyphs\" textLength=\"15\" x=\"13\" y=\"101.562\">B1</text><text fill=\"#000000\" font-family=\"sans-serif\" font-size=\"11\" lengthAdjust=\"spacingAndGlyphs\" textLength=\"15\" x=\"13\" y=\"114.3667\">B2</text><line style=\"stroke: #383838; stroke-width: 1.0;\" x1=\"8\" x2=\"42\" y1=\"59.3398\" y2=\"59.3398\"/><text fill=\"#000000\" font-family=\"sans-serif\" font-size=\"11\" lengthAdjust=\"spacingAndGlyphs\" textLength=\"41\" x=\"42\" y=\"62.6479\">actions</text><line style=\"stroke: #383838; stroke-width: 1.0;\" x1=\"83\" x2=\"117\" y1=\"59.3398\" y2=\"59.3398\"/><text fill=\"#000000\" font-family=\"sans-serif\" font-size=\"11\" lengthAdjust=\"spacingAndGlyphs\" textLength=\"6\" x=\"13\" y=\"143.9761\">F</text><line style=\"stroke: #383838; stroke-width: 1.0;\" x1=\"8\" x2=\"33.5\" y1=\"127.3633\" y2=\"127.3633\"/><text fill=\"#000000\" font-family=\"sans-serif\" font-size=\"11\" lengthAdjust=\"spacingAndGlyphs\" textLength=\"58\" x=\"33.5\" y=\"130.6714\">forkNodes</text><line style=\"stroke: #383838; stroke-width: 1.0;\" x1=\"91.5\" x2=\"117\" y1=\"127.3633\" y2=\"127.3633\"/><text fill=\"#000000\" font-family=\"sans-serif\" font-size=\"11\" lengthAdjust=\"spacingAndGlyphs\" textLength=\"3\" x=\"13\" y=\"173.5854\">J</text><line style=\"stroke: #383838; stroke-width: 1.0;\" x1=\"8\" x2=\"34.5\" y1=\"156.9727\" y2=\"156.9727\"/><text fill=\"#000000\" font-family=\"sans-serif\" font-size=\"11\" lengthAdjust=\"spacingAndGlyphs\" textLength=\"56\" x=\"34.5\" y=\"160.2808\">joinNodes</text><line style=\"stroke: #383838; stroke-width: 1.0;\" x1=\"90.5\" x2=\"117\" y1=\"156.9727\" y2=\"156.9727\"/></a><!--MD5=[afa6344aab263acfe4738bbd32616b10]\n",
       "@startuml\r\n",
       "top to bottom direction\r\n",
       "skinparam monochrome true\r\n",
       "skinparam classbackgroundcolor white\r\n",
       "skinparam shadowing false\r\n",
       "skinparam wrapWidth 300\r\n",
       "hide circle\r\n",
       "\r\n",
       "comp def \"ControlNodeTest\" as E1  <<(T,blue)action def>> [[psysml:d45f0f17-f367-4b4e-a94c-d0cd962b9658 ]] {\r\n",
       "- - actions - -\r\n",
       "A1\r\n",
       "A2\r\n",
       "B1\r\n",
       "B2\r\n",
       "- - forkNodes - -\r\n",
       "F\r\n",
       "- - joinNodes - -\r\n",
       "J\r\n",
       "}\r\n",
       "@enduml\r\n",
       "\n",
       "PlantUML version 1.2020.13(Sat Jun 13 12:26:38 UTC 2020)\n",
       "(EPL source distribution)\n",
       "Java Runtime: OpenJDK Runtime Environment\n",
       "JVM: OpenJDK 64-Bit Server VM\n",
       "Default Encoding: UTF-8\n",
       "Language: en\n",
       "Country: null\n",
       "--></g></svg>"
      ]
     },
     "execution_count": 45,
     "metadata": {},
     "output_type": "execute_result"
    }
   ],
   "source": [
    "%viz --style=\"TB\" --view=\"Tree\" \"ControlNodeTest\""
   ]
  },
  {
   "cell_type": "code",
   "execution_count": 46,
   "id": "ethical-wings",
   "metadata": {
    "execution": {
     "iopub.execute_input": "2021-03-25T09:28:39.899743Z",
     "iopub.status.busy": "2021-03-25T09:28:39.899035Z",
     "iopub.status.idle": "2021-03-25T09:28:39.907350Z",
     "shell.execute_reply": "2021-03-25T09:28:39.906738Z"
    }
   },
   "outputs": [
    {
     "data": {
      "image/svg+xml": [
       "<?xml version=\"1.0\" encoding=\"UTF-8\" standalone=\"no\"?><svg xmlns=\"http://www.w3.org/2000/svg\" xmlns:xlink=\"http://www.w3.org/1999/xlink\" contentScriptType=\"application/ecmascript\" contentStyleType=\"text/css\" height=\"12px\" preserveAspectRatio=\"none\" style=\"width:12px;height:12px;\" version=\"1.1\" viewBox=\"0 0 12 12\" width=\"12px\" zoomAndPan=\"magnify\"><defs/><g><!--MD5=[f4ee21bc66e489b5061b7c3e9601fdef]\n",
       "@startuml\r\n",
       "top to bottom direction\r\n",
       "skinparam monochrome true\r\n",
       "skinparam classbackgroundcolor white\r\n",
       "skinparam shadowing false\r\n",
       "skinparam wrapWidth 300\r\n",
       "hide circle\r\n",
       "\r\n",
       "@enduml\r\n",
       "\n",
       "PlantUML version 1.2020.13(Sat Jun 13 12:26:38 UTC 2020)\n",
       "(EPL source distribution)\n",
       "Java Runtime: OpenJDK Runtime Environment\n",
       "JVM: OpenJDK 64-Bit Server VM\n",
       "Default Encoding: UTF-8\n",
       "Language: en\n",
       "Country: null\n",
       "--></g></svg>"
      ]
     },
     "execution_count": 46,
     "metadata": {},
     "output_type": "execute_result"
    }
   ],
   "source": [
    "%viz --style=\"TB\" --view=\"State\" \"ControlNodeTest\""
   ]
  },
  {
   "cell_type": "code",
   "execution_count": 47,
   "id": "widespread-service",
   "metadata": {
    "execution": {
     "iopub.execute_input": "2021-03-25T09:28:39.958348Z",
     "iopub.status.busy": "2021-03-25T09:28:39.957443Z",
     "iopub.status.idle": "2021-03-25T09:28:39.984698Z",
     "shell.execute_reply": "2021-03-25T09:28:39.984284Z"
    }
   },
   "outputs": [
    {
     "data": {
      "image/svg+xml": [
       "<?xml version=\"1.0\" encoding=\"UTF-8\" standalone=\"no\"?><svg xmlns=\"http://www.w3.org/2000/svg\" xmlns:xlink=\"http://www.w3.org/1999/xlink\" contentScriptType=\"application/ecmascript\" contentStyleType=\"text/css\" height=\"60px\" preserveAspectRatio=\"none\" style=\"width:134px;height:60px;\" version=\"1.1\" viewBox=\"0 0 134 60\" width=\"134px\" zoomAndPan=\"magnify\"><defs/><g><g id=\"E1\"><a href=\"psysml:d45f0f17-f367-4b4e-a94c-d0cd962b9658\" target=\"_top\" title=\"psysml:d45f0f17-f367-4b4e-a94c-d0cd962b9658\" xlink:actuate=\"onRequest\" xlink:href=\"psysml:d45f0f17-f367-4b4e-a94c-d0cd962b9658\" xlink:show=\"new\" xlink:title=\"psysml:d45f0f17-f367-4b4e-a94c-d0cd962b9658\" xlink:type=\"simple\"><rect fill=\"#FFFFFF\" height=\"42.9375\" id=\"E1\" style=\"stroke: #383838; stroke-width: 1.5;\" width=\"116\" x=\"7\" y=\"7\"/><rect fill=\"#F8F8F8\" height=\"37.9375\" style=\"stroke: #383838; stroke-width: 1.5;\" width=\"116\" x=\"7\" y=\"7\"/><text fill=\"#000000\" font-family=\"sans-serif\" font-size=\"12\" font-style=\"italic\" lengthAdjust=\"spacingAndGlyphs\" textLength=\"77\" x=\"26.5\" y=\"23.1387\">«action def»</text><text fill=\"#000000\" font-family=\"sans-serif\" font-size=\"12\" lengthAdjust=\"spacingAndGlyphs\" textLength=\"105\" x=\"12.5\" y=\"37.1074\">ControlNodeTest</text></a></g><!--MD5=[449c659a3c9140d4b1d2500e22b268c6]\n",
       "@startuml\r\n",
       "skinparam ranksep 8\r\n",
       "skinparam rectangle {\r\n",
       " backgroundColor<<block>> LightGreen\r\n",
       "}\r\n",
       "top to bottom direction\r\n",
       "skinparam monochrome true\r\n",
       "skinparam classbackgroundcolor white\r\n",
       "skinparam shadowing false\r\n",
       "skinparam wrapWidth 300\r\n",
       "hide circle\r\n",
       "\r\n",
       "def \"ControlNodeTest\" as E1  <<(T,blue)action def>> [[psysml:d45f0f17-f367-4b4e-a94c-d0cd962b9658 ]] \r\n",
       "@enduml\r\n",
       "\n",
       "PlantUML version 1.2020.13(Sat Jun 13 12:26:38 UTC 2020)\n",
       "(EPL source distribution)\n",
       "Java Runtime: OpenJDK Runtime Environment\n",
       "JVM: OpenJDK 64-Bit Server VM\n",
       "Default Encoding: UTF-8\n",
       "Language: en\n",
       "Country: null\n",
       "--></g></svg>"
      ]
     },
     "execution_count": 47,
     "metadata": {},
     "output_type": "execute_result"
    }
   ],
   "source": [
    "%viz --style=\"TB\" --view=\"Interconnection\" \"ControlNodeTest\""
   ]
  },
  {
   "cell_type": "code",
   "execution_count": 48,
   "id": "natural-charter",
   "metadata": {
    "execution": {
     "iopub.execute_input": "2021-03-25T09:28:40.036434Z",
     "iopub.status.busy": "2021-03-25T09:28:40.035683Z",
     "iopub.status.idle": "2021-03-25T09:28:40.133343Z",
     "shell.execute_reply": "2021-03-25T09:28:40.131719Z"
    }
   },
   "outputs": [
    {
     "data": {
      "image/svg+xml": [
       "<?xml version=\"1.0\" encoding=\"UTF-8\" standalone=\"no\"?><svg xmlns=\"http://www.w3.org/2000/svg\" xmlns:xlink=\"http://www.w3.org/1999/xlink\" contentScriptType=\"application/ecmascript\" contentStyleType=\"text/css\" height=\"128px\" preserveAspectRatio=\"none\" style=\"width:625px;height:128px;\" version=\"1.1\" viewBox=\"0 0 625 128\" width=\"625px\" zoomAndPan=\"magnify\"><defs/><g><!--MD5=[fbc87193dbaf4d95561dea2c320d4a47]\n",
       "cluster E1--><a href=\"psysml:d45f0f17-f367-4b4e-a94c-d0cd962b9658\" target=\"_top\" title=\"psysml:d45f0f17-f367-4b4e-a94c-d0cd962b9658\" xlink:actuate=\"onRequest\" xlink:href=\"psysml:d45f0f17-f367-4b4e-a94c-d0cd962b9658\" xlink:show=\"new\" xlink:title=\"psysml:d45f0f17-f367-4b4e-a94c-d0cd962b9658\" xlink:type=\"simple\"><rect fill=\"#FFFFFF\" height=\"110\" id=\"E1\" style=\"stroke: #383838; stroke-width: 1.5;\" width=\"607\" x=\"7\" y=\"7\"/><rect fill=\"#F8F8F8\" height=\"37.9375\" style=\"stroke: #383838; stroke-width: 1.5;\" width=\"607\" x=\"7\" y=\"7\"/><text fill=\"#000000\" font-family=\"sans-serif\" font-size=\"12\" font-style=\"italic\" lengthAdjust=\"spacingAndGlyphs\" textLength=\"77\" x=\"272\" y=\"23.1387\">«action def»</text><text fill=\"#000000\" font-family=\"sans-serif\" font-size=\"12\" lengthAdjust=\"spacingAndGlyphs\" textLength=\"105\" x=\"258\" y=\"37.1074\">ControlNodeTest</text></a><rect fill=\"#000000\" height=\"8\" style=\"stroke: none; stroke-width: 1.0;\" width=\"80\" x=\"518\" y=\"75.5\"/><rect fill=\"#000000\" height=\"8\" style=\"stroke: none; stroke-width: 1.0;\" width=\"80\" x=\"403\" y=\"75.5\"/><g id=\"E1.E2\"><a href=\"psysml:fdc5aa3b-ed80-41e9-a98e-ce8c422e55eb\" target=\"_top\" title=\"psysml:fdc5aa3b-ed80-41e9-a98e-ce8c422e55eb\" xlink:actuate=\"onRequest\" xlink:href=\"psysml:fdc5aa3b-ed80-41e9-a98e-ce8c422e55eb\" xlink:show=\"new\" xlink:title=\"psysml:fdc5aa3b-ed80-41e9-a98e-ce8c422e55eb\" xlink:type=\"simple\"><rect fill=\"#FFFFFF\" height=\"42.9375\" id=\"E2\" rx=\"10\" ry=\"10\" style=\"stroke: #383838; stroke-width: 1.5;\" width=\"60\" x=\"308\" y=\"58\"/><rect fill=\"#F8F8F8\" height=\"37.9375\" rx=\"10\" ry=\"10\" style=\"stroke: #F8F8F8; stroke-width: 1.5;\" width=\"60\" x=\"308\" y=\"58\"/><rect fill=\"#F8F8F8\" height=\"10\" style=\"stroke: #F8F8F8; stroke-width: 1.5;\" width=\"60\" x=\"308\" y=\"85.9375\"/><rect fill=\"none\" height=\"42.9375\" id=\"E2\" rx=\"10\" ry=\"10\" style=\"stroke: #383838; stroke-width: 1.5;\" width=\"60\" x=\"308\" y=\"58\"/><text fill=\"#000000\" font-family=\"sans-serif\" font-size=\"12\" font-style=\"italic\" lengthAdjust=\"spacingAndGlyphs\" textLength=\"53\" x=\"311.5\" y=\"74.1387\">«action»</text><text fill=\"#000000\" font-family=\"sans-serif\" font-size=\"12\" lengthAdjust=\"spacingAndGlyphs\" textLength=\"16\" x=\"330\" y=\"88.1074\">A1</text></a></g><g id=\"E1.E3\"><a href=\"psysml:2c991ffe-75e4-475a-bb83-43f5c2feea80\" target=\"_top\" title=\"psysml:2c991ffe-75e4-475a-bb83-43f5c2feea80\" xlink:actuate=\"onRequest\" xlink:href=\"psysml:2c991ffe-75e4-475a-bb83-43f5c2feea80\" xlink:show=\"new\" xlink:title=\"psysml:2c991ffe-75e4-475a-bb83-43f5c2feea80\" xlink:type=\"simple\"><rect fill=\"#FFFFFF\" height=\"42.9375\" id=\"E3\" rx=\"10\" ry=\"10\" style=\"stroke: #383838; stroke-width: 1.5;\" width=\"60\" x=\"213\" y=\"58\"/><rect fill=\"#F8F8F8\" height=\"37.9375\" rx=\"10\" ry=\"10\" style=\"stroke: #F8F8F8; stroke-width: 1.5;\" width=\"60\" x=\"213\" y=\"58\"/><rect fill=\"#F8F8F8\" height=\"10\" style=\"stroke: #F8F8F8; stroke-width: 1.5;\" width=\"60\" x=\"213\" y=\"85.9375\"/><rect fill=\"none\" height=\"42.9375\" id=\"E3\" rx=\"10\" ry=\"10\" style=\"stroke: #383838; stroke-width: 1.5;\" width=\"60\" x=\"213\" y=\"58\"/><text fill=\"#000000\" font-family=\"sans-serif\" font-size=\"12\" font-style=\"italic\" lengthAdjust=\"spacingAndGlyphs\" textLength=\"53\" x=\"216.5\" y=\"74.1387\">«action»</text><text fill=\"#000000\" font-family=\"sans-serif\" font-size=\"12\" lengthAdjust=\"spacingAndGlyphs\" textLength=\"16\" x=\"235\" y=\"88.1074\">A2</text></a></g><g id=\"E1.E6\"><a href=\"psysml:f26d7e3d-b672-461c-aa14-0bbf3d4e7737\" target=\"_top\" title=\"psysml:f26d7e3d-b672-461c-aa14-0bbf3d4e7737\" xlink:actuate=\"onRequest\" xlink:href=\"psysml:f26d7e3d-b672-461c-aa14-0bbf3d4e7737\" xlink:show=\"new\" xlink:title=\"psysml:f26d7e3d-b672-461c-aa14-0bbf3d4e7737\" xlink:type=\"simple\"><rect fill=\"#FFFFFF\" height=\"42.9375\" id=\"E6\" rx=\"10\" ry=\"10\" style=\"stroke: #383838; stroke-width: 1.5;\" width=\"60\" x=\"118\" y=\"58\"/><rect fill=\"#F8F8F8\" height=\"37.9375\" rx=\"10\" ry=\"10\" style=\"stroke: #F8F8F8; stroke-width: 1.5;\" width=\"60\" x=\"118\" y=\"58\"/><rect fill=\"#F8F8F8\" height=\"10\" style=\"stroke: #F8F8F8; stroke-width: 1.5;\" width=\"60\" x=\"118\" y=\"85.9375\"/><rect fill=\"none\" height=\"42.9375\" id=\"E6\" rx=\"10\" ry=\"10\" style=\"stroke: #383838; stroke-width: 1.5;\" width=\"60\" x=\"118\" y=\"58\"/><text fill=\"#000000\" font-family=\"sans-serif\" font-size=\"12\" font-style=\"italic\" lengthAdjust=\"spacingAndGlyphs\" textLength=\"53\" x=\"121.5\" y=\"74.1387\">«action»</text><text fill=\"#000000\" font-family=\"sans-serif\" font-size=\"12\" lengthAdjust=\"spacingAndGlyphs\" textLength=\"16\" x=\"140\" y=\"88.1074\">B1</text></a></g><g id=\"E1.E7\"><a href=\"psysml:f6cf6959-d08a-437c-8e4b-96dd916f2436\" target=\"_top\" title=\"psysml:f6cf6959-d08a-437c-8e4b-96dd916f2436\" xlink:actuate=\"onRequest\" xlink:href=\"psysml:f6cf6959-d08a-437c-8e4b-96dd916f2436\" xlink:show=\"new\" xlink:title=\"psysml:f6cf6959-d08a-437c-8e4b-96dd916f2436\" xlink:type=\"simple\"><rect fill=\"#FFFFFF\" height=\"42.9375\" id=\"E7\" rx=\"10\" ry=\"10\" style=\"stroke: #383838; stroke-width: 1.5;\" width=\"60\" x=\"23\" y=\"58\"/><rect fill=\"#F8F8F8\" height=\"37.9375\" rx=\"10\" ry=\"10\" style=\"stroke: #F8F8F8; stroke-width: 1.5;\" width=\"60\" x=\"23\" y=\"58\"/><rect fill=\"#F8F8F8\" height=\"10\" style=\"stroke: #F8F8F8; stroke-width: 1.5;\" width=\"60\" x=\"23\" y=\"85.9375\"/><rect fill=\"none\" height=\"42.9375\" id=\"E7\" rx=\"10\" ry=\"10\" style=\"stroke: #383838; stroke-width: 1.5;\" width=\"60\" x=\"23\" y=\"58\"/><text fill=\"#000000\" font-family=\"sans-serif\" font-size=\"12\" font-style=\"italic\" lengthAdjust=\"spacingAndGlyphs\" textLength=\"53\" x=\"26.5\" y=\"74.1387\">«action»</text><text fill=\"#000000\" font-family=\"sans-serif\" font-size=\"12\" lengthAdjust=\"spacingAndGlyphs\" textLength=\"16\" x=\"45\" y=\"88.1074\">B2</text></a></g><!--MD5=[c047a11e18a367a2144e6768c4313c44]\n",
       "@startuml\r\n",
       "skinparam ranksep 8\r\n",
       "top to bottom direction\r\n",
       "skinparam monochrome true\r\n",
       "skinparam classbackgroundcolor white\r\n",
       "skinparam shadowing false\r\n",
       "skinparam wrapWidth 300\r\n",
       "hide circle\r\n",
       "\r\n",
       "rec def \"ControlNodeTest\" as E1  <<(T,blue)action def>> [[psysml:d45f0f17-f367-4b4e-a94c-d0cd962b9658 ]] {\r\n",
       "rec usage \"A1\" as E2  <<(T,blue)action>> [[psysml:fdc5aa3b-ed80-41e9-a98e-ce8c422e55eb ]] {\r\n",
       "}\r\n",
       "\r\n",
       "rec usage \"A2\" as E3  <<(T,blue)action>> [[psysml:2c991ffe-75e4-475a-bb83-43f5c2feea80 ]] {\r\n",
       "}\r\n",
       "\r\n",
       "join \"J\" as E4  [[psysml:5dc91872-c5b7-4d29-9265-55786a5f23d3 ]] \r\n",
       "fork \"F\" as E5  [[psysml:32073807-3d0f-4273-9610-bcad2a0739d7 ]] \r\n",
       "rec usage \"B1\" as E6  <<(T,blue)action>> [[psysml:f26d7e3d-b672-461c-aa14-0bbf3d4e7737 ]] {\r\n",
       "}\r\n",
       "\r\n",
       "rec usage \"B2\" as E7  <<(T,blue)action>> [[psysml:f6cf6959-d08a-437c-8e4b-96dd916f2436 ]] {\r\n",
       "}\r\n",
       "\r\n",
       "}\r\n",
       "\r\n",
       "@enduml\r\n",
       "\n",
       "PlantUML version 1.2020.13(Sat Jun 13 12:26:38 UTC 2020)\n",
       "(EPL source distribution)\n",
       "Java Runtime: OpenJDK Runtime Environment\n",
       "JVM: OpenJDK 64-Bit Server VM\n",
       "Default Encoding: UTF-8\n",
       "Language: en\n",
       "Country: null\n",
       "--></g></svg>"
      ]
     },
     "execution_count": 48,
     "metadata": {},
     "output_type": "execute_result"
    }
   ],
   "source": [
    "%viz --style=\"TB\" --view=\"Action\" \"ControlNodeTest\""
   ]
  },
  {
   "cell_type": "code",
   "execution_count": 49,
   "id": "sorted-apple",
   "metadata": {
    "execution": {
     "iopub.execute_input": "2021-03-25T09:28:40.184842Z",
     "iopub.status.busy": "2021-03-25T09:28:40.184313Z",
     "iopub.status.idle": "2021-03-25T09:28:40.422587Z",
     "shell.execute_reply": "2021-03-25T09:28:40.422236Z"
    }
   },
   "outputs": [
    {
     "data": {
      "image/svg+xml": [
       "<?xml version=\"1.0\" encoding=\"UTF-8\" standalone=\"no\"?><svg xmlns=\"http://www.w3.org/2000/svg\" xmlns:xlink=\"http://www.w3.org/1999/xlink\" contentScriptType=\"application/ecmascript\" contentStyleType=\"text/css\" height=\"191px\" preserveAspectRatio=\"none\" style=\"width:129px;height:191px;\" version=\"1.1\" viewBox=\"0 0 129 191\" width=\"129px\" zoomAndPan=\"magnify\"><defs/><g><!--MD5=[43c9051892ef23e1a46a86907403d788]\n",
       "class E1--><a href=\"psysml:d45f0f17-f367-4b4e-a94c-d0cd962b9658\" target=\"_top\" title=\"psysml:d45f0f17-f367-4b4e-a94c-d0cd962b9658\" xlink:actuate=\"onRequest\" xlink:href=\"psysml:d45f0f17-f367-4b4e-a94c-d0cd962b9658\" xlink:show=\"new\" xlink:title=\"psysml:d45f0f17-f367-4b4e-a94c-d0cd962b9658\" xlink:type=\"simple\"><rect fill=\"#FFFFFF\" height=\"173.1797\" id=\"E1\" style=\"stroke: #383838; stroke-width: 1.5;\" width=\"111\" x=\"7\" y=\"7\"/><text fill=\"#000000\" font-family=\"sans-serif\" font-size=\"12\" font-style=\"italic\" lengthAdjust=\"spacingAndGlyphs\" textLength=\"77\" x=\"24\" y=\"23.1387\">«action def»</text><text fill=\"#000000\" font-family=\"sans-serif\" font-size=\"12\" lengthAdjust=\"spacingAndGlyphs\" textLength=\"105\" x=\"10\" y=\"37.1074\">ControlNodeTest</text><line style=\"stroke: #383838; stroke-width: 1.5;\" x1=\"8\" x2=\"117\" y1=\"44.9375\" y2=\"44.9375\"/><text fill=\"#000000\" font-family=\"sans-serif\" font-size=\"11\" lengthAdjust=\"spacingAndGlyphs\" textLength=\"14\" x=\"13\" y=\"75.9526\">A1</text><text fill=\"#000000\" font-family=\"sans-serif\" font-size=\"11\" lengthAdjust=\"spacingAndGlyphs\" textLength=\"14\" x=\"13\" y=\"88.7573\">A2</text><text fill=\"#000000\" font-family=\"sans-serif\" font-size=\"11\" lengthAdjust=\"spacingAndGlyphs\" textLength=\"15\" x=\"13\" y=\"101.562\">B1</text><text fill=\"#000000\" font-family=\"sans-serif\" font-size=\"11\" lengthAdjust=\"spacingAndGlyphs\" textLength=\"15\" x=\"13\" y=\"114.3667\">B2</text><line style=\"stroke: #383838; stroke-width: 1.0;\" x1=\"8\" x2=\"42\" y1=\"59.3398\" y2=\"59.3398\"/><text fill=\"#000000\" font-family=\"sans-serif\" font-size=\"11\" lengthAdjust=\"spacingAndGlyphs\" textLength=\"41\" x=\"42\" y=\"62.6479\">actions</text><line style=\"stroke: #383838; stroke-width: 1.0;\" x1=\"83\" x2=\"117\" y1=\"59.3398\" y2=\"59.3398\"/><text fill=\"#000000\" font-family=\"sans-serif\" font-size=\"11\" lengthAdjust=\"spacingAndGlyphs\" textLength=\"6\" x=\"13\" y=\"143.9761\">F</text><line style=\"stroke: #383838; stroke-width: 1.0;\" x1=\"8\" x2=\"33.5\" y1=\"127.3633\" y2=\"127.3633\"/><text fill=\"#000000\" font-family=\"sans-serif\" font-size=\"11\" lengthAdjust=\"spacingAndGlyphs\" textLength=\"58\" x=\"33.5\" y=\"130.6714\">forkNodes</text><line style=\"stroke: #383838; stroke-width: 1.0;\" x1=\"91.5\" x2=\"117\" y1=\"127.3633\" y2=\"127.3633\"/><text fill=\"#000000\" font-family=\"sans-serif\" font-size=\"11\" lengthAdjust=\"spacingAndGlyphs\" textLength=\"3\" x=\"13\" y=\"173.5854\">J</text><line style=\"stroke: #383838; stroke-width: 1.0;\" x1=\"8\" x2=\"34.5\" y1=\"156.9727\" y2=\"156.9727\"/><text fill=\"#000000\" font-family=\"sans-serif\" font-size=\"11\" lengthAdjust=\"spacingAndGlyphs\" textLength=\"56\" x=\"34.5\" y=\"160.2808\">joinNodes</text><line style=\"stroke: #383838; stroke-width: 1.0;\" x1=\"90.5\" x2=\"117\" y1=\"156.9727\" y2=\"156.9727\"/></a><!--MD5=[afa6344aab263acfe4738bbd32616b10]\n",
       "@startuml\r\n",
       "top to bottom direction\r\n",
       "skinparam monochrome true\r\n",
       "skinparam classbackgroundcolor white\r\n",
       "skinparam shadowing false\r\n",
       "skinparam wrapWidth 300\r\n",
       "hide circle\r\n",
       "\r\n",
       "comp def \"ControlNodeTest\" as E1  <<(T,blue)action def>> [[psysml:d45f0f17-f367-4b4e-a94c-d0cd962b9658 ]] {\r\n",
       "- - actions - -\r\n",
       "A1\r\n",
       "A2\r\n",
       "B1\r\n",
       "B2\r\n",
       "- - forkNodes - -\r\n",
       "F\r\n",
       "- - joinNodes - -\r\n",
       "J\r\n",
       "}\r\n",
       "@enduml\r\n",
       "\n",
       "PlantUML version 1.2020.13(Sat Jun 13 12:26:38 UTC 2020)\n",
       "(EPL source distribution)\n",
       "Java Runtime: OpenJDK Runtime Environment\n",
       "JVM: OpenJDK 64-Bit Server VM\n",
       "Default Encoding: UTF-8\n",
       "Language: en\n",
       "Country: null\n",
       "--></g></svg>"
      ]
     },
     "execution_count": 49,
     "metadata": {},
     "output_type": "execute_result"
    }
   ],
   "source": [
    "%viz --style=\"TB\" --view=\"Sequence\" \"ControlNodeTest\""
   ]
  },
  {
   "cell_type": "code",
   "execution_count": 50,
   "id": "consolidated-thanksgiving",
   "metadata": {
    "execution": {
     "iopub.execute_input": "2021-03-25T09:28:40.473224Z",
     "iopub.status.busy": "2021-03-25T09:28:40.472725Z",
     "iopub.status.idle": "2021-03-25T09:28:40.566356Z",
     "shell.execute_reply": "2021-03-25T09:28:40.564925Z"
    }
   },
   "outputs": [
    {
     "data": {
      "image/svg+xml": [
       "<?xml version=\"1.0\" encoding=\"UTF-8\" standalone=\"no\"?><svg xmlns=\"http://www.w3.org/2000/svg\" xmlns:xlink=\"http://www.w3.org/1999/xlink\" contentScriptType=\"application/ecmascript\" contentStyleType=\"text/css\" height=\"128px\" preserveAspectRatio=\"none\" style=\"width:625px;height:128px;\" version=\"1.1\" viewBox=\"0 0 625 128\" width=\"625px\" zoomAndPan=\"magnify\"><defs/><g><!--MD5=[fbc87193dbaf4d95561dea2c320d4a47]\n",
       "cluster E1--><a href=\"psysml:d45f0f17-f367-4b4e-a94c-d0cd962b9658\" target=\"_top\" title=\"psysml:d45f0f17-f367-4b4e-a94c-d0cd962b9658\" xlink:actuate=\"onRequest\" xlink:href=\"psysml:d45f0f17-f367-4b4e-a94c-d0cd962b9658\" xlink:show=\"new\" xlink:title=\"psysml:d45f0f17-f367-4b4e-a94c-d0cd962b9658\" xlink:type=\"simple\"><rect fill=\"#FFFFFF\" height=\"110\" id=\"E1\" style=\"stroke: #383838; stroke-width: 1.5;\" width=\"607\" x=\"7\" y=\"7\"/><rect fill=\"#F8F8F8\" height=\"37.9375\" style=\"stroke: #383838; stroke-width: 1.5;\" width=\"607\" x=\"7\" y=\"7\"/><text fill=\"#000000\" font-family=\"sans-serif\" font-size=\"12\" font-style=\"italic\" lengthAdjust=\"spacingAndGlyphs\" textLength=\"77\" x=\"272\" y=\"23.1387\">«action def»</text><text fill=\"#000000\" font-family=\"sans-serif\" font-size=\"12\" lengthAdjust=\"spacingAndGlyphs\" textLength=\"105\" x=\"258\" y=\"37.1074\">ControlNodeTest</text></a><rect fill=\"#000000\" height=\"8\" style=\"stroke: none; stroke-width: 1.0;\" width=\"80\" x=\"518\" y=\"75.5\"/><rect fill=\"#000000\" height=\"8\" style=\"stroke: none; stroke-width: 1.0;\" width=\"80\" x=\"403\" y=\"75.5\"/><g id=\"E1.E2\"><a href=\"psysml:fdc5aa3b-ed80-41e9-a98e-ce8c422e55eb\" target=\"_top\" title=\"psysml:fdc5aa3b-ed80-41e9-a98e-ce8c422e55eb\" xlink:actuate=\"onRequest\" xlink:href=\"psysml:fdc5aa3b-ed80-41e9-a98e-ce8c422e55eb\" xlink:show=\"new\" xlink:title=\"psysml:fdc5aa3b-ed80-41e9-a98e-ce8c422e55eb\" xlink:type=\"simple\"><rect fill=\"#FFFFFF\" height=\"42.9375\" id=\"E2\" rx=\"10\" ry=\"10\" style=\"stroke: #383838; stroke-width: 1.5;\" width=\"60\" x=\"308\" y=\"58\"/><rect fill=\"#F8F8F8\" height=\"37.9375\" rx=\"10\" ry=\"10\" style=\"stroke: #F8F8F8; stroke-width: 1.5;\" width=\"60\" x=\"308\" y=\"58\"/><rect fill=\"#F8F8F8\" height=\"10\" style=\"stroke: #F8F8F8; stroke-width: 1.5;\" width=\"60\" x=\"308\" y=\"85.9375\"/><rect fill=\"none\" height=\"42.9375\" id=\"E2\" rx=\"10\" ry=\"10\" style=\"stroke: #383838; stroke-width: 1.5;\" width=\"60\" x=\"308\" y=\"58\"/><text fill=\"#000000\" font-family=\"sans-serif\" font-size=\"12\" font-style=\"italic\" lengthAdjust=\"spacingAndGlyphs\" textLength=\"53\" x=\"311.5\" y=\"74.1387\">«action»</text><text fill=\"#000000\" font-family=\"sans-serif\" font-size=\"12\" lengthAdjust=\"spacingAndGlyphs\" textLength=\"16\" x=\"330\" y=\"88.1074\">A1</text></a></g><g id=\"E1.E3\"><a href=\"psysml:2c991ffe-75e4-475a-bb83-43f5c2feea80\" target=\"_top\" title=\"psysml:2c991ffe-75e4-475a-bb83-43f5c2feea80\" xlink:actuate=\"onRequest\" xlink:href=\"psysml:2c991ffe-75e4-475a-bb83-43f5c2feea80\" xlink:show=\"new\" xlink:title=\"psysml:2c991ffe-75e4-475a-bb83-43f5c2feea80\" xlink:type=\"simple\"><rect fill=\"#FFFFFF\" height=\"42.9375\" id=\"E3\" rx=\"10\" ry=\"10\" style=\"stroke: #383838; stroke-width: 1.5;\" width=\"60\" x=\"213\" y=\"58\"/><rect fill=\"#F8F8F8\" height=\"37.9375\" rx=\"10\" ry=\"10\" style=\"stroke: #F8F8F8; stroke-width: 1.5;\" width=\"60\" x=\"213\" y=\"58\"/><rect fill=\"#F8F8F8\" height=\"10\" style=\"stroke: #F8F8F8; stroke-width: 1.5;\" width=\"60\" x=\"213\" y=\"85.9375\"/><rect fill=\"none\" height=\"42.9375\" id=\"E3\" rx=\"10\" ry=\"10\" style=\"stroke: #383838; stroke-width: 1.5;\" width=\"60\" x=\"213\" y=\"58\"/><text fill=\"#000000\" font-family=\"sans-serif\" font-size=\"12\" font-style=\"italic\" lengthAdjust=\"spacingAndGlyphs\" textLength=\"53\" x=\"216.5\" y=\"74.1387\">«action»</text><text fill=\"#000000\" font-family=\"sans-serif\" font-size=\"12\" lengthAdjust=\"spacingAndGlyphs\" textLength=\"16\" x=\"235\" y=\"88.1074\">A2</text></a></g><g id=\"E1.E6\"><a href=\"psysml:f26d7e3d-b672-461c-aa14-0bbf3d4e7737\" target=\"_top\" title=\"psysml:f26d7e3d-b672-461c-aa14-0bbf3d4e7737\" xlink:actuate=\"onRequest\" xlink:href=\"psysml:f26d7e3d-b672-461c-aa14-0bbf3d4e7737\" xlink:show=\"new\" xlink:title=\"psysml:f26d7e3d-b672-461c-aa14-0bbf3d4e7737\" xlink:type=\"simple\"><rect fill=\"#FFFFFF\" height=\"42.9375\" id=\"E6\" rx=\"10\" ry=\"10\" style=\"stroke: #383838; stroke-width: 1.5;\" width=\"60\" x=\"118\" y=\"58\"/><rect fill=\"#F8F8F8\" height=\"37.9375\" rx=\"10\" ry=\"10\" style=\"stroke: #F8F8F8; stroke-width: 1.5;\" width=\"60\" x=\"118\" y=\"58\"/><rect fill=\"#F8F8F8\" height=\"10\" style=\"stroke: #F8F8F8; stroke-width: 1.5;\" width=\"60\" x=\"118\" y=\"85.9375\"/><rect fill=\"none\" height=\"42.9375\" id=\"E6\" rx=\"10\" ry=\"10\" style=\"stroke: #383838; stroke-width: 1.5;\" width=\"60\" x=\"118\" y=\"58\"/><text fill=\"#000000\" font-family=\"sans-serif\" font-size=\"12\" font-style=\"italic\" lengthAdjust=\"spacingAndGlyphs\" textLength=\"53\" x=\"121.5\" y=\"74.1387\">«action»</text><text fill=\"#000000\" font-family=\"sans-serif\" font-size=\"12\" lengthAdjust=\"spacingAndGlyphs\" textLength=\"16\" x=\"140\" y=\"88.1074\">B1</text></a></g><g id=\"E1.E7\"><a href=\"psysml:f6cf6959-d08a-437c-8e4b-96dd916f2436\" target=\"_top\" title=\"psysml:f6cf6959-d08a-437c-8e4b-96dd916f2436\" xlink:actuate=\"onRequest\" xlink:href=\"psysml:f6cf6959-d08a-437c-8e4b-96dd916f2436\" xlink:show=\"new\" xlink:title=\"psysml:f6cf6959-d08a-437c-8e4b-96dd916f2436\" xlink:type=\"simple\"><rect fill=\"#FFFFFF\" height=\"42.9375\" id=\"E7\" rx=\"10\" ry=\"10\" style=\"stroke: #383838; stroke-width: 1.5;\" width=\"60\" x=\"23\" y=\"58\"/><rect fill=\"#F8F8F8\" height=\"37.9375\" rx=\"10\" ry=\"10\" style=\"stroke: #F8F8F8; stroke-width: 1.5;\" width=\"60\" x=\"23\" y=\"58\"/><rect fill=\"#F8F8F8\" height=\"10\" style=\"stroke: #F8F8F8; stroke-width: 1.5;\" width=\"60\" x=\"23\" y=\"85.9375\"/><rect fill=\"none\" height=\"42.9375\" id=\"E7\" rx=\"10\" ry=\"10\" style=\"stroke: #383838; stroke-width: 1.5;\" width=\"60\" x=\"23\" y=\"58\"/><text fill=\"#000000\" font-family=\"sans-serif\" font-size=\"12\" font-style=\"italic\" lengthAdjust=\"spacingAndGlyphs\" textLength=\"53\" x=\"26.5\" y=\"74.1387\">«action»</text><text fill=\"#000000\" font-family=\"sans-serif\" font-size=\"12\" lengthAdjust=\"spacingAndGlyphs\" textLength=\"16\" x=\"45\" y=\"88.1074\">B2</text></a></g><!--MD5=[9f6b6361d6900347753a857563bc3245]\n",
       "@startuml\r\n",
       "top to bottom direction\r\n",
       "skinparam monochrome true\r\n",
       "skinparam classbackgroundcolor white\r\n",
       "skinparam shadowing false\r\n",
       "skinparam wrapWidth 300\r\n",
       "hide circle\r\n",
       "\r\n",
       "rec def \"ControlNodeTest\" as E1  <<(T,blue)action def>> [[psysml:d45f0f17-f367-4b4e-a94c-d0cd962b9658 ]] {\r\n",
       "rec usage \"A1\" as E2  <<(T,blue)action>> [[psysml:fdc5aa3b-ed80-41e9-a98e-ce8c422e55eb ]] {\r\n",
       "}\r\n",
       "\r\n",
       "rec usage \"A2\" as E3  <<(T,blue)action>> [[psysml:2c991ffe-75e4-475a-bb83-43f5c2feea80 ]] {\r\n",
       "}\r\n",
       "\r\n",
       "join \"J\" as E4  [[psysml:5dc91872-c5b7-4d29-9265-55786a5f23d3 ]] \r\n",
       "fork \"F\" as E5  [[psysml:32073807-3d0f-4273-9610-bcad2a0739d7 ]] \r\n",
       "rec usage \"B1\" as E6  <<(T,blue)action>> [[psysml:f26d7e3d-b672-461c-aa14-0bbf3d4e7737 ]] {\r\n",
       "}\r\n",
       "\r\n",
       "rec usage \"B2\" as E7  <<(T,blue)action>> [[psysml:f6cf6959-d08a-437c-8e4b-96dd916f2436 ]] {\r\n",
       "}\r\n",
       "\r\n",
       "}\r\n",
       "\r\n",
       "@enduml\r\n",
       "\n",
       "PlantUML version 1.2020.13(Sat Jun 13 12:26:38 UTC 2020)\n",
       "(EPL source distribution)\n",
       "Java Runtime: OpenJDK Runtime Environment\n",
       "JVM: OpenJDK 64-Bit Server VM\n",
       "Default Encoding: UTF-8\n",
       "Language: en\n",
       "Country: null\n",
       "--></g></svg>"
      ]
     },
     "execution_count": 50,
     "metadata": {},
     "output_type": "execute_result"
    }
   ],
   "source": [
    "%viz --style=\"TB\" --view=\"MIXED\" \"ControlNodeTest\""
   ]
  },
  {
   "cell_type": "code",
   "execution_count": 51,
   "id": "rational-module",
   "metadata": {
    "execution": {
     "iopub.execute_input": "2021-03-25T09:28:40.619159Z",
     "iopub.status.busy": "2021-03-25T09:28:40.618158Z",
     "iopub.status.idle": "2021-03-25T09:28:40.718803Z",
     "shell.execute_reply": "2021-03-25T09:28:40.717404Z"
    }
   },
   "outputs": [
    {
     "data": {
      "image/svg+xml": [
       "<?xml version=\"1.0\" encoding=\"UTF-8\" standalone=\"no\"?><svg xmlns=\"http://www.w3.org/2000/svg\" xmlns:xlink=\"http://www.w3.org/1999/xlink\" contentScriptType=\"application/ecmascript\" contentStyleType=\"text/css\" height=\"128px\" preserveAspectRatio=\"none\" style=\"width:625px;height:128px;\" version=\"1.1\" viewBox=\"0 0 625 128\" width=\"625px\" zoomAndPan=\"magnify\"><defs/><g><!--MD5=[fbc87193dbaf4d95561dea2c320d4a47]\n",
       "cluster E1--><a href=\"psysml:d45f0f17-f367-4b4e-a94c-d0cd962b9658\" target=\"_top\" title=\"psysml:d45f0f17-f367-4b4e-a94c-d0cd962b9658\" xlink:actuate=\"onRequest\" xlink:href=\"psysml:d45f0f17-f367-4b4e-a94c-d0cd962b9658\" xlink:show=\"new\" xlink:title=\"psysml:d45f0f17-f367-4b4e-a94c-d0cd962b9658\" xlink:type=\"simple\"><rect fill=\"#FFFFFF\" height=\"110\" id=\"E1\" style=\"stroke: #383838; stroke-width: 1.5;\" width=\"607\" x=\"7\" y=\"7\"/><rect fill=\"#F8F8F8\" height=\"37.9375\" style=\"stroke: #383838; stroke-width: 1.5;\" width=\"607\" x=\"7\" y=\"7\"/><text fill=\"#000000\" font-family=\"sans-serif\" font-size=\"12\" font-style=\"italic\" lengthAdjust=\"spacingAndGlyphs\" textLength=\"77\" x=\"272\" y=\"23.1387\">«action def»</text><text fill=\"#000000\" font-family=\"sans-serif\" font-size=\"12\" lengthAdjust=\"spacingAndGlyphs\" textLength=\"105\" x=\"258\" y=\"37.1074\">ControlNodeTest</text></a><rect fill=\"#000000\" height=\"8\" style=\"stroke: none; stroke-width: 1.0;\" width=\"80\" x=\"518\" y=\"75.5\"/><rect fill=\"#000000\" height=\"8\" style=\"stroke: none; stroke-width: 1.0;\" width=\"80\" x=\"403\" y=\"75.5\"/><g id=\"E1.E2\"><a href=\"psysml:fdc5aa3b-ed80-41e9-a98e-ce8c422e55eb\" target=\"_top\" title=\"psysml:fdc5aa3b-ed80-41e9-a98e-ce8c422e55eb\" xlink:actuate=\"onRequest\" xlink:href=\"psysml:fdc5aa3b-ed80-41e9-a98e-ce8c422e55eb\" xlink:show=\"new\" xlink:title=\"psysml:fdc5aa3b-ed80-41e9-a98e-ce8c422e55eb\" xlink:type=\"simple\"><rect fill=\"#FFFFFF\" height=\"42.9375\" id=\"E2\" rx=\"10\" ry=\"10\" style=\"stroke: #383838; stroke-width: 1.5;\" width=\"60\" x=\"308\" y=\"58\"/><rect fill=\"#F8F8F8\" height=\"37.9375\" rx=\"10\" ry=\"10\" style=\"stroke: #F8F8F8; stroke-width: 1.5;\" width=\"60\" x=\"308\" y=\"58\"/><rect fill=\"#F8F8F8\" height=\"10\" style=\"stroke: #F8F8F8; stroke-width: 1.5;\" width=\"60\" x=\"308\" y=\"85.9375\"/><rect fill=\"none\" height=\"42.9375\" id=\"E2\" rx=\"10\" ry=\"10\" style=\"stroke: #383838; stroke-width: 1.5;\" width=\"60\" x=\"308\" y=\"58\"/><text fill=\"#000000\" font-family=\"sans-serif\" font-size=\"12\" font-style=\"italic\" lengthAdjust=\"spacingAndGlyphs\" textLength=\"53\" x=\"311.5\" y=\"74.1387\">«action»</text><text fill=\"#000000\" font-family=\"sans-serif\" font-size=\"12\" lengthAdjust=\"spacingAndGlyphs\" textLength=\"16\" x=\"330\" y=\"88.1074\">A1</text></a></g><g id=\"E1.E3\"><a href=\"psysml:2c991ffe-75e4-475a-bb83-43f5c2feea80\" target=\"_top\" title=\"psysml:2c991ffe-75e4-475a-bb83-43f5c2feea80\" xlink:actuate=\"onRequest\" xlink:href=\"psysml:2c991ffe-75e4-475a-bb83-43f5c2feea80\" xlink:show=\"new\" xlink:title=\"psysml:2c991ffe-75e4-475a-bb83-43f5c2feea80\" xlink:type=\"simple\"><rect fill=\"#FFFFFF\" height=\"42.9375\" id=\"E3\" rx=\"10\" ry=\"10\" style=\"stroke: #383838; stroke-width: 1.5;\" width=\"60\" x=\"213\" y=\"58\"/><rect fill=\"#F8F8F8\" height=\"37.9375\" rx=\"10\" ry=\"10\" style=\"stroke: #F8F8F8; stroke-width: 1.5;\" width=\"60\" x=\"213\" y=\"58\"/><rect fill=\"#F8F8F8\" height=\"10\" style=\"stroke: #F8F8F8; stroke-width: 1.5;\" width=\"60\" x=\"213\" y=\"85.9375\"/><rect fill=\"none\" height=\"42.9375\" id=\"E3\" rx=\"10\" ry=\"10\" style=\"stroke: #383838; stroke-width: 1.5;\" width=\"60\" x=\"213\" y=\"58\"/><text fill=\"#000000\" font-family=\"sans-serif\" font-size=\"12\" font-style=\"italic\" lengthAdjust=\"spacingAndGlyphs\" textLength=\"53\" x=\"216.5\" y=\"74.1387\">«action»</text><text fill=\"#000000\" font-family=\"sans-serif\" font-size=\"12\" lengthAdjust=\"spacingAndGlyphs\" textLength=\"16\" x=\"235\" y=\"88.1074\">A2</text></a></g><g id=\"E1.E6\"><a href=\"psysml:f26d7e3d-b672-461c-aa14-0bbf3d4e7737\" target=\"_top\" title=\"psysml:f26d7e3d-b672-461c-aa14-0bbf3d4e7737\" xlink:actuate=\"onRequest\" xlink:href=\"psysml:f26d7e3d-b672-461c-aa14-0bbf3d4e7737\" xlink:show=\"new\" xlink:title=\"psysml:f26d7e3d-b672-461c-aa14-0bbf3d4e7737\" xlink:type=\"simple\"><rect fill=\"#FFFFFF\" height=\"42.9375\" id=\"E6\" rx=\"10\" ry=\"10\" style=\"stroke: #383838; stroke-width: 1.5;\" width=\"60\" x=\"118\" y=\"58\"/><rect fill=\"#F8F8F8\" height=\"37.9375\" rx=\"10\" ry=\"10\" style=\"stroke: #F8F8F8; stroke-width: 1.5;\" width=\"60\" x=\"118\" y=\"58\"/><rect fill=\"#F8F8F8\" height=\"10\" style=\"stroke: #F8F8F8; stroke-width: 1.5;\" width=\"60\" x=\"118\" y=\"85.9375\"/><rect fill=\"none\" height=\"42.9375\" id=\"E6\" rx=\"10\" ry=\"10\" style=\"stroke: #383838; stroke-width: 1.5;\" width=\"60\" x=\"118\" y=\"58\"/><text fill=\"#000000\" font-family=\"sans-serif\" font-size=\"12\" font-style=\"italic\" lengthAdjust=\"spacingAndGlyphs\" textLength=\"53\" x=\"121.5\" y=\"74.1387\">«action»</text><text fill=\"#000000\" font-family=\"sans-serif\" font-size=\"12\" lengthAdjust=\"spacingAndGlyphs\" textLength=\"16\" x=\"140\" y=\"88.1074\">B1</text></a></g><g id=\"E1.E7\"><a href=\"psysml:f6cf6959-d08a-437c-8e4b-96dd916f2436\" target=\"_top\" title=\"psysml:f6cf6959-d08a-437c-8e4b-96dd916f2436\" xlink:actuate=\"onRequest\" xlink:href=\"psysml:f6cf6959-d08a-437c-8e4b-96dd916f2436\" xlink:show=\"new\" xlink:title=\"psysml:f6cf6959-d08a-437c-8e4b-96dd916f2436\" xlink:type=\"simple\"><rect fill=\"#FFFFFF\" height=\"42.9375\" id=\"E7\" rx=\"10\" ry=\"10\" style=\"stroke: #383838; stroke-width: 1.5;\" width=\"60\" x=\"23\" y=\"58\"/><rect fill=\"#F8F8F8\" height=\"37.9375\" rx=\"10\" ry=\"10\" style=\"stroke: #F8F8F8; stroke-width: 1.5;\" width=\"60\" x=\"23\" y=\"58\"/><rect fill=\"#F8F8F8\" height=\"10\" style=\"stroke: #F8F8F8; stroke-width: 1.5;\" width=\"60\" x=\"23\" y=\"85.9375\"/><rect fill=\"none\" height=\"42.9375\" id=\"E7\" rx=\"10\" ry=\"10\" style=\"stroke: #383838; stroke-width: 1.5;\" width=\"60\" x=\"23\" y=\"58\"/><text fill=\"#000000\" font-family=\"sans-serif\" font-size=\"12\" font-style=\"italic\" lengthAdjust=\"spacingAndGlyphs\" textLength=\"53\" x=\"26.5\" y=\"74.1387\">«action»</text><text fill=\"#000000\" font-family=\"sans-serif\" font-size=\"12\" lengthAdjust=\"spacingAndGlyphs\" textLength=\"16\" x=\"45\" y=\"88.1074\">B2</text></a></g><!--MD5=[3e7f40e989da3f3bccd3e2186b6889ac]\n",
       "@startuml\r\n",
       "skinparam linetype ortho\r\n",
       "skinparam monochrome true\r\n",
       "skinparam classbackgroundcolor white\r\n",
       "skinparam shadowing false\r\n",
       "skinparam wrapWidth 300\r\n",
       "hide circle\r\n",
       "\r\n",
       "rec def \"ControlNodeTest\" as E1  <<(T,blue)action def>> [[psysml:d45f0f17-f367-4b4e-a94c-d0cd962b9658 ]] {\r\n",
       "rec usage \"A1\" as E2  <<(T,blue)action>> [[psysml:fdc5aa3b-ed80-41e9-a98e-ce8c422e55eb ]] {\r\n",
       "}\r\n",
       "\r\n",
       "rec usage \"A2\" as E3  <<(T,blue)action>> [[psysml:2c991ffe-75e4-475a-bb83-43f5c2feea80 ]] {\r\n",
       "}\r\n",
       "\r\n",
       "join \"J\" as E4  [[psysml:5dc91872-c5b7-4d29-9265-55786a5f23d3 ]] \r\n",
       "fork \"F\" as E5  [[psysml:32073807-3d0f-4273-9610-bcad2a0739d7 ]] \r\n",
       "rec usage \"B1\" as E6  <<(T,blue)action>> [[psysml:f26d7e3d-b672-461c-aa14-0bbf3d4e7737 ]] {\r\n",
       "}\r\n",
       "\r\n",
       "rec usage \"B2\" as E7  <<(T,blue)action>> [[psysml:f6cf6959-d08a-437c-8e4b-96dd916f2436 ]] {\r\n",
       "}\r\n",
       "\r\n",
       "}\r\n",
       "\r\n",
       "@enduml\r\n",
       "\n",
       "PlantUML version 1.2020.13(Sat Jun 13 12:26:38 UTC 2020)\n",
       "(EPL source distribution)\n",
       "Java Runtime: OpenJDK Runtime Environment\n",
       "JVM: OpenJDK 64-Bit Server VM\n",
       "Default Encoding: UTF-8\n",
       "Language: en\n",
       "Country: null\n",
       "--></g></svg>"
      ]
     },
     "execution_count": 51,
     "metadata": {},
     "output_type": "execute_result"
    }
   ],
   "source": [
    "%viz --style=\"ORTHOLINE\" --view=\"Default\" \"ControlNodeTest\""
   ]
  },
  {
   "cell_type": "code",
   "execution_count": 52,
   "id": "conventional-import",
   "metadata": {
    "execution": {
     "iopub.execute_input": "2021-03-25T09:28:40.771574Z",
     "iopub.status.busy": "2021-03-25T09:28:40.770441Z",
     "iopub.status.idle": "2021-03-25T09:28:41.005202Z",
     "shell.execute_reply": "2021-03-25T09:28:41.004637Z"
    }
   },
   "outputs": [
    {
     "data": {
      "image/svg+xml": [
       "<?xml version=\"1.0\" encoding=\"UTF-8\" standalone=\"no\"?><svg xmlns=\"http://www.w3.org/2000/svg\" xmlns:xlink=\"http://www.w3.org/1999/xlink\" contentScriptType=\"application/ecmascript\" contentStyleType=\"text/css\" height=\"191px\" preserveAspectRatio=\"none\" style=\"width:129px;height:191px;\" version=\"1.1\" viewBox=\"0 0 129 191\" width=\"129px\" zoomAndPan=\"magnify\"><defs/><g><!--MD5=[43c9051892ef23e1a46a86907403d788]\n",
       "class E1--><a href=\"psysml:d45f0f17-f367-4b4e-a94c-d0cd962b9658\" target=\"_top\" title=\"psysml:d45f0f17-f367-4b4e-a94c-d0cd962b9658\" xlink:actuate=\"onRequest\" xlink:href=\"psysml:d45f0f17-f367-4b4e-a94c-d0cd962b9658\" xlink:show=\"new\" xlink:title=\"psysml:d45f0f17-f367-4b4e-a94c-d0cd962b9658\" xlink:type=\"simple\"><rect fill=\"#FFFFFF\" height=\"173.1797\" id=\"E1\" style=\"stroke: #383838; stroke-width: 1.5;\" width=\"111\" x=\"7\" y=\"7\"/><text fill=\"#000000\" font-family=\"sans-serif\" font-size=\"12\" font-style=\"italic\" lengthAdjust=\"spacingAndGlyphs\" textLength=\"77\" x=\"24\" y=\"23.1387\">«action def»</text><text fill=\"#000000\" font-family=\"sans-serif\" font-size=\"12\" lengthAdjust=\"spacingAndGlyphs\" textLength=\"105\" x=\"10\" y=\"37.1074\">ControlNodeTest</text><line style=\"stroke: #383838; stroke-width: 1.5;\" x1=\"8\" x2=\"117\" y1=\"44.9375\" y2=\"44.9375\"/><text fill=\"#000000\" font-family=\"sans-serif\" font-size=\"11\" lengthAdjust=\"spacingAndGlyphs\" textLength=\"14\" x=\"13\" y=\"75.9526\">A1</text><text fill=\"#000000\" font-family=\"sans-serif\" font-size=\"11\" lengthAdjust=\"spacingAndGlyphs\" textLength=\"14\" x=\"13\" y=\"88.7573\">A2</text><text fill=\"#000000\" font-family=\"sans-serif\" font-size=\"11\" lengthAdjust=\"spacingAndGlyphs\" textLength=\"15\" x=\"13\" y=\"101.562\">B1</text><text fill=\"#000000\" font-family=\"sans-serif\" font-size=\"11\" lengthAdjust=\"spacingAndGlyphs\" textLength=\"15\" x=\"13\" y=\"114.3667\">B2</text><line style=\"stroke: #383838; stroke-width: 1.0;\" x1=\"8\" x2=\"42\" y1=\"59.3398\" y2=\"59.3398\"/><text fill=\"#000000\" font-family=\"sans-serif\" font-size=\"11\" lengthAdjust=\"spacingAndGlyphs\" textLength=\"41\" x=\"42\" y=\"62.6479\">actions</text><line style=\"stroke: #383838; stroke-width: 1.0;\" x1=\"83\" x2=\"117\" y1=\"59.3398\" y2=\"59.3398\"/><text fill=\"#000000\" font-family=\"sans-serif\" font-size=\"11\" lengthAdjust=\"spacingAndGlyphs\" textLength=\"6\" x=\"13\" y=\"143.9761\">F</text><line style=\"stroke: #383838; stroke-width: 1.0;\" x1=\"8\" x2=\"33.5\" y1=\"127.3633\" y2=\"127.3633\"/><text fill=\"#000000\" font-family=\"sans-serif\" font-size=\"11\" lengthAdjust=\"spacingAndGlyphs\" textLength=\"58\" x=\"33.5\" y=\"130.6714\">forkNodes</text><line style=\"stroke: #383838; stroke-width: 1.0;\" x1=\"91.5\" x2=\"117\" y1=\"127.3633\" y2=\"127.3633\"/><text fill=\"#000000\" font-family=\"sans-serif\" font-size=\"11\" lengthAdjust=\"spacingAndGlyphs\" textLength=\"3\" x=\"13\" y=\"173.5854\">J</text><line style=\"stroke: #383838; stroke-width: 1.0;\" x1=\"8\" x2=\"34.5\" y1=\"156.9727\" y2=\"156.9727\"/><text fill=\"#000000\" font-family=\"sans-serif\" font-size=\"11\" lengthAdjust=\"spacingAndGlyphs\" textLength=\"56\" x=\"34.5\" y=\"160.2808\">joinNodes</text><line style=\"stroke: #383838; stroke-width: 1.0;\" x1=\"90.5\" x2=\"117\" y1=\"156.9727\" y2=\"156.9727\"/></a><!--MD5=[077c46ea7602af3568706464b3f19cd4]\n",
       "@startuml\r\n",
       "skinparam linetype ortho\r\n",
       "skinparam monochrome true\r\n",
       "skinparam classbackgroundcolor white\r\n",
       "skinparam shadowing false\r\n",
       "skinparam wrapWidth 300\r\n",
       "hide circle\r\n",
       "\r\n",
       "comp def \"ControlNodeTest\" as E1  <<(T,blue)action def>> [[psysml:d45f0f17-f367-4b4e-a94c-d0cd962b9658 ]] {\r\n",
       "- - actions - -\r\n",
       "A1\r\n",
       "A2\r\n",
       "B1\r\n",
       "B2\r\n",
       "- - forkNodes - -\r\n",
       "F\r\n",
       "- - joinNodes - -\r\n",
       "J\r\n",
       "}\r\n",
       "@enduml\r\n",
       "\n",
       "PlantUML version 1.2020.13(Sat Jun 13 12:26:38 UTC 2020)\n",
       "(EPL source distribution)\n",
       "Java Runtime: OpenJDK Runtime Environment\n",
       "JVM: OpenJDK 64-Bit Server VM\n",
       "Default Encoding: UTF-8\n",
       "Language: en\n",
       "Country: null\n",
       "--></g></svg>"
      ]
     },
     "execution_count": 52,
     "metadata": {},
     "output_type": "execute_result"
    }
   ],
   "source": [
    "%viz --style=\"ORTHOLINE\" --view=\"Tree\" \"ControlNodeTest\""
   ]
  },
  {
   "cell_type": "code",
   "execution_count": 53,
   "id": "foster-bulgaria",
   "metadata": {
    "execution": {
     "iopub.execute_input": "2021-03-25T09:28:41.057332Z",
     "iopub.status.busy": "2021-03-25T09:28:41.056380Z",
     "iopub.status.idle": "2021-03-25T09:28:41.064619Z",
     "shell.execute_reply": "2021-03-25T09:28:41.064266Z"
    }
   },
   "outputs": [
    {
     "data": {
      "image/svg+xml": [
       "<?xml version=\"1.0\" encoding=\"UTF-8\" standalone=\"no\"?><svg xmlns=\"http://www.w3.org/2000/svg\" xmlns:xlink=\"http://www.w3.org/1999/xlink\" contentScriptType=\"application/ecmascript\" contentStyleType=\"text/css\" height=\"12px\" preserveAspectRatio=\"none\" style=\"width:12px;height:12px;\" version=\"1.1\" viewBox=\"0 0 12 12\" width=\"12px\" zoomAndPan=\"magnify\"><defs/><g><!--MD5=[97d6f38768b311333d388e66b2b27985]\n",
       "@startuml\r\n",
       "skinparam linetype ortho\r\n",
       "skinparam monochrome true\r\n",
       "skinparam classbackgroundcolor white\r\n",
       "skinparam shadowing false\r\n",
       "skinparam wrapWidth 300\r\n",
       "hide circle\r\n",
       "\r\n",
       "@enduml\r\n",
       "\n",
       "PlantUML version 1.2020.13(Sat Jun 13 12:26:38 UTC 2020)\n",
       "(EPL source distribution)\n",
       "Java Runtime: OpenJDK Runtime Environment\n",
       "JVM: OpenJDK 64-Bit Server VM\n",
       "Default Encoding: UTF-8\n",
       "Language: en\n",
       "Country: null\n",
       "--></g></svg>"
      ]
     },
     "execution_count": 53,
     "metadata": {},
     "output_type": "execute_result"
    }
   ],
   "source": [
    "%viz --style=\"ORTHOLINE\" --view=\"State\" \"ControlNodeTest\""
   ]
  },
  {
   "cell_type": "code",
   "execution_count": 54,
   "id": "western-dragon",
   "metadata": {
    "execution": {
     "iopub.execute_input": "2021-03-25T09:28:41.115980Z",
     "iopub.status.busy": "2021-03-25T09:28:41.115228Z",
     "iopub.status.idle": "2021-03-25T09:28:41.144320Z",
     "shell.execute_reply": "2021-03-25T09:28:41.144836Z"
    }
   },
   "outputs": [
    {
     "data": {
      "image/svg+xml": [
       "<?xml version=\"1.0\" encoding=\"UTF-8\" standalone=\"no\"?><svg xmlns=\"http://www.w3.org/2000/svg\" xmlns:xlink=\"http://www.w3.org/1999/xlink\" contentScriptType=\"application/ecmascript\" contentStyleType=\"text/css\" height=\"60px\" preserveAspectRatio=\"none\" style=\"width:134px;height:60px;\" version=\"1.1\" viewBox=\"0 0 134 60\" width=\"134px\" zoomAndPan=\"magnify\"><defs/><g><g id=\"E1\"><a href=\"psysml:d45f0f17-f367-4b4e-a94c-d0cd962b9658\" target=\"_top\" title=\"psysml:d45f0f17-f367-4b4e-a94c-d0cd962b9658\" xlink:actuate=\"onRequest\" xlink:href=\"psysml:d45f0f17-f367-4b4e-a94c-d0cd962b9658\" xlink:show=\"new\" xlink:title=\"psysml:d45f0f17-f367-4b4e-a94c-d0cd962b9658\" xlink:type=\"simple\"><rect fill=\"#FFFFFF\" height=\"42.9375\" id=\"E1\" style=\"stroke: #383838; stroke-width: 1.5;\" width=\"116\" x=\"7\" y=\"7\"/><rect fill=\"#F8F8F8\" height=\"37.9375\" style=\"stroke: #383838; stroke-width: 1.5;\" width=\"116\" x=\"7\" y=\"7\"/><text fill=\"#000000\" font-family=\"sans-serif\" font-size=\"12\" font-style=\"italic\" lengthAdjust=\"spacingAndGlyphs\" textLength=\"77\" x=\"26.5\" y=\"23.1387\">«action def»</text><text fill=\"#000000\" font-family=\"sans-serif\" font-size=\"12\" lengthAdjust=\"spacingAndGlyphs\" textLength=\"105\" x=\"12.5\" y=\"37.1074\">ControlNodeTest</text></a></g><!--MD5=[890b7a5bd71882b6ea9c723e237b9133]\n",
       "@startuml\r\n",
       "skinparam ranksep 8\r\n",
       "skinparam rectangle {\r\n",
       " backgroundColor<<block>> LightGreen\r\n",
       "}\r\n",
       "skinparam linetype ortho\r\n",
       "skinparam monochrome true\r\n",
       "skinparam classbackgroundcolor white\r\n",
       "skinparam shadowing false\r\n",
       "skinparam wrapWidth 300\r\n",
       "hide circle\r\n",
       "\r\n",
       "def \"ControlNodeTest\" as E1  <<(T,blue)action def>> [[psysml:d45f0f17-f367-4b4e-a94c-d0cd962b9658 ]] \r\n",
       "@enduml\r\n",
       "\n",
       "PlantUML version 1.2020.13(Sat Jun 13 12:26:38 UTC 2020)\n",
       "(EPL source distribution)\n",
       "Java Runtime: OpenJDK Runtime Environment\n",
       "JVM: OpenJDK 64-Bit Server VM\n",
       "Default Encoding: UTF-8\n",
       "Language: en\n",
       "Country: null\n",
       "--></g></svg>"
      ]
     },
     "execution_count": 54,
     "metadata": {},
     "output_type": "execute_result"
    }
   ],
   "source": [
    "%viz --style=\"ORTHOLINE\" --view=\"Interconnection\" \"ControlNodeTest\""
   ]
  },
  {
   "cell_type": "code",
   "execution_count": 55,
   "id": "above-furniture",
   "metadata": {
    "execution": {
     "iopub.execute_input": "2021-03-25T09:28:41.199298Z",
     "iopub.status.busy": "2021-03-25T09:28:41.197468Z",
     "iopub.status.idle": "2021-03-25T09:28:41.297694Z",
     "shell.execute_reply": "2021-03-25T09:28:41.296087Z"
    }
   },
   "outputs": [
    {
     "data": {
      "image/svg+xml": [
       "<?xml version=\"1.0\" encoding=\"UTF-8\" standalone=\"no\"?><svg xmlns=\"http://www.w3.org/2000/svg\" xmlns:xlink=\"http://www.w3.org/1999/xlink\" contentScriptType=\"application/ecmascript\" contentStyleType=\"text/css\" height=\"128px\" preserveAspectRatio=\"none\" style=\"width:625px;height:128px;\" version=\"1.1\" viewBox=\"0 0 625 128\" width=\"625px\" zoomAndPan=\"magnify\"><defs/><g><!--MD5=[fbc87193dbaf4d95561dea2c320d4a47]\n",
       "cluster E1--><a href=\"psysml:d45f0f17-f367-4b4e-a94c-d0cd962b9658\" target=\"_top\" title=\"psysml:d45f0f17-f367-4b4e-a94c-d0cd962b9658\" xlink:actuate=\"onRequest\" xlink:href=\"psysml:d45f0f17-f367-4b4e-a94c-d0cd962b9658\" xlink:show=\"new\" xlink:title=\"psysml:d45f0f17-f367-4b4e-a94c-d0cd962b9658\" xlink:type=\"simple\"><rect fill=\"#FFFFFF\" height=\"110\" id=\"E1\" style=\"stroke: #383838; stroke-width: 1.5;\" width=\"607\" x=\"7\" y=\"7\"/><rect fill=\"#F8F8F8\" height=\"37.9375\" style=\"stroke: #383838; stroke-width: 1.5;\" width=\"607\" x=\"7\" y=\"7\"/><text fill=\"#000000\" font-family=\"sans-serif\" font-size=\"12\" font-style=\"italic\" lengthAdjust=\"spacingAndGlyphs\" textLength=\"77\" x=\"272\" y=\"23.1387\">«action def»</text><text fill=\"#000000\" font-family=\"sans-serif\" font-size=\"12\" lengthAdjust=\"spacingAndGlyphs\" textLength=\"105\" x=\"258\" y=\"37.1074\">ControlNodeTest</text></a><rect fill=\"#000000\" height=\"8\" style=\"stroke: none; stroke-width: 1.0;\" width=\"80\" x=\"518\" y=\"75.5\"/><rect fill=\"#000000\" height=\"8\" style=\"stroke: none; stroke-width: 1.0;\" width=\"80\" x=\"403\" y=\"75.5\"/><g id=\"E1.E2\"><a href=\"psysml:fdc5aa3b-ed80-41e9-a98e-ce8c422e55eb\" target=\"_top\" title=\"psysml:fdc5aa3b-ed80-41e9-a98e-ce8c422e55eb\" xlink:actuate=\"onRequest\" xlink:href=\"psysml:fdc5aa3b-ed80-41e9-a98e-ce8c422e55eb\" xlink:show=\"new\" xlink:title=\"psysml:fdc5aa3b-ed80-41e9-a98e-ce8c422e55eb\" xlink:type=\"simple\"><rect fill=\"#FFFFFF\" height=\"42.9375\" id=\"E2\" rx=\"10\" ry=\"10\" style=\"stroke: #383838; stroke-width: 1.5;\" width=\"60\" x=\"308\" y=\"58\"/><rect fill=\"#F8F8F8\" height=\"37.9375\" rx=\"10\" ry=\"10\" style=\"stroke: #F8F8F8; stroke-width: 1.5;\" width=\"60\" x=\"308\" y=\"58\"/><rect fill=\"#F8F8F8\" height=\"10\" style=\"stroke: #F8F8F8; stroke-width: 1.5;\" width=\"60\" x=\"308\" y=\"85.9375\"/><rect fill=\"none\" height=\"42.9375\" id=\"E2\" rx=\"10\" ry=\"10\" style=\"stroke: #383838; stroke-width: 1.5;\" width=\"60\" x=\"308\" y=\"58\"/><text fill=\"#000000\" font-family=\"sans-serif\" font-size=\"12\" font-style=\"italic\" lengthAdjust=\"spacingAndGlyphs\" textLength=\"53\" x=\"311.5\" y=\"74.1387\">«action»</text><text fill=\"#000000\" font-family=\"sans-serif\" font-size=\"12\" lengthAdjust=\"spacingAndGlyphs\" textLength=\"16\" x=\"330\" y=\"88.1074\">A1</text></a></g><g id=\"E1.E3\"><a href=\"psysml:2c991ffe-75e4-475a-bb83-43f5c2feea80\" target=\"_top\" title=\"psysml:2c991ffe-75e4-475a-bb83-43f5c2feea80\" xlink:actuate=\"onRequest\" xlink:href=\"psysml:2c991ffe-75e4-475a-bb83-43f5c2feea80\" xlink:show=\"new\" xlink:title=\"psysml:2c991ffe-75e4-475a-bb83-43f5c2feea80\" xlink:type=\"simple\"><rect fill=\"#FFFFFF\" height=\"42.9375\" id=\"E3\" rx=\"10\" ry=\"10\" style=\"stroke: #383838; stroke-width: 1.5;\" width=\"60\" x=\"213\" y=\"58\"/><rect fill=\"#F8F8F8\" height=\"37.9375\" rx=\"10\" ry=\"10\" style=\"stroke: #F8F8F8; stroke-width: 1.5;\" width=\"60\" x=\"213\" y=\"58\"/><rect fill=\"#F8F8F8\" height=\"10\" style=\"stroke: #F8F8F8; stroke-width: 1.5;\" width=\"60\" x=\"213\" y=\"85.9375\"/><rect fill=\"none\" height=\"42.9375\" id=\"E3\" rx=\"10\" ry=\"10\" style=\"stroke: #383838; stroke-width: 1.5;\" width=\"60\" x=\"213\" y=\"58\"/><text fill=\"#000000\" font-family=\"sans-serif\" font-size=\"12\" font-style=\"italic\" lengthAdjust=\"spacingAndGlyphs\" textLength=\"53\" x=\"216.5\" y=\"74.1387\">«action»</text><text fill=\"#000000\" font-family=\"sans-serif\" font-size=\"12\" lengthAdjust=\"spacingAndGlyphs\" textLength=\"16\" x=\"235\" y=\"88.1074\">A2</text></a></g><g id=\"E1.E6\"><a href=\"psysml:f26d7e3d-b672-461c-aa14-0bbf3d4e7737\" target=\"_top\" title=\"psysml:f26d7e3d-b672-461c-aa14-0bbf3d4e7737\" xlink:actuate=\"onRequest\" xlink:href=\"psysml:f26d7e3d-b672-461c-aa14-0bbf3d4e7737\" xlink:show=\"new\" xlink:title=\"psysml:f26d7e3d-b672-461c-aa14-0bbf3d4e7737\" xlink:type=\"simple\"><rect fill=\"#FFFFFF\" height=\"42.9375\" id=\"E6\" rx=\"10\" ry=\"10\" style=\"stroke: #383838; stroke-width: 1.5;\" width=\"60\" x=\"118\" y=\"58\"/><rect fill=\"#F8F8F8\" height=\"37.9375\" rx=\"10\" ry=\"10\" style=\"stroke: #F8F8F8; stroke-width: 1.5;\" width=\"60\" x=\"118\" y=\"58\"/><rect fill=\"#F8F8F8\" height=\"10\" style=\"stroke: #F8F8F8; stroke-width: 1.5;\" width=\"60\" x=\"118\" y=\"85.9375\"/><rect fill=\"none\" height=\"42.9375\" id=\"E6\" rx=\"10\" ry=\"10\" style=\"stroke: #383838; stroke-width: 1.5;\" width=\"60\" x=\"118\" y=\"58\"/><text fill=\"#000000\" font-family=\"sans-serif\" font-size=\"12\" font-style=\"italic\" lengthAdjust=\"spacingAndGlyphs\" textLength=\"53\" x=\"121.5\" y=\"74.1387\">«action»</text><text fill=\"#000000\" font-family=\"sans-serif\" font-size=\"12\" lengthAdjust=\"spacingAndGlyphs\" textLength=\"16\" x=\"140\" y=\"88.1074\">B1</text></a></g><g id=\"E1.E7\"><a href=\"psysml:f6cf6959-d08a-437c-8e4b-96dd916f2436\" target=\"_top\" title=\"psysml:f6cf6959-d08a-437c-8e4b-96dd916f2436\" xlink:actuate=\"onRequest\" xlink:href=\"psysml:f6cf6959-d08a-437c-8e4b-96dd916f2436\" xlink:show=\"new\" xlink:title=\"psysml:f6cf6959-d08a-437c-8e4b-96dd916f2436\" xlink:type=\"simple\"><rect fill=\"#FFFFFF\" height=\"42.9375\" id=\"E7\" rx=\"10\" ry=\"10\" style=\"stroke: #383838; stroke-width: 1.5;\" width=\"60\" x=\"23\" y=\"58\"/><rect fill=\"#F8F8F8\" height=\"37.9375\" rx=\"10\" ry=\"10\" style=\"stroke: #F8F8F8; stroke-width: 1.5;\" width=\"60\" x=\"23\" y=\"58\"/><rect fill=\"#F8F8F8\" height=\"10\" style=\"stroke: #F8F8F8; stroke-width: 1.5;\" width=\"60\" x=\"23\" y=\"85.9375\"/><rect fill=\"none\" height=\"42.9375\" id=\"E7\" rx=\"10\" ry=\"10\" style=\"stroke: #383838; stroke-width: 1.5;\" width=\"60\" x=\"23\" y=\"58\"/><text fill=\"#000000\" font-family=\"sans-serif\" font-size=\"12\" font-style=\"italic\" lengthAdjust=\"spacingAndGlyphs\" textLength=\"53\" x=\"26.5\" y=\"74.1387\">«action»</text><text fill=\"#000000\" font-family=\"sans-serif\" font-size=\"12\" lengthAdjust=\"spacingAndGlyphs\" textLength=\"16\" x=\"45\" y=\"88.1074\">B2</text></a></g><!--MD5=[e7d140c7051e9d5d61026a944b6a4996]\n",
       "@startuml\r\n",
       "skinparam ranksep 8\r\n",
       "skinparam linetype ortho\r\n",
       "skinparam monochrome true\r\n",
       "skinparam classbackgroundcolor white\r\n",
       "skinparam shadowing false\r\n",
       "skinparam wrapWidth 300\r\n",
       "hide circle\r\n",
       "\r\n",
       "rec def \"ControlNodeTest\" as E1  <<(T,blue)action def>> [[psysml:d45f0f17-f367-4b4e-a94c-d0cd962b9658 ]] {\r\n",
       "rec usage \"A1\" as E2  <<(T,blue)action>> [[psysml:fdc5aa3b-ed80-41e9-a98e-ce8c422e55eb ]] {\r\n",
       "}\r\n",
       "\r\n",
       "rec usage \"A2\" as E3  <<(T,blue)action>> [[psysml:2c991ffe-75e4-475a-bb83-43f5c2feea80 ]] {\r\n",
       "}\r\n",
       "\r\n",
       "join \"J\" as E4  [[psysml:5dc91872-c5b7-4d29-9265-55786a5f23d3 ]] \r\n",
       "fork \"F\" as E5  [[psysml:32073807-3d0f-4273-9610-bcad2a0739d7 ]] \r\n",
       "rec usage \"B1\" as E6  <<(T,blue)action>> [[psysml:f26d7e3d-b672-461c-aa14-0bbf3d4e7737 ]] {\r\n",
       "}\r\n",
       "\r\n",
       "rec usage \"B2\" as E7  <<(T,blue)action>> [[psysml:f6cf6959-d08a-437c-8e4b-96dd916f2436 ]] {\r\n",
       "}\r\n",
       "\r\n",
       "}\r\n",
       "\r\n",
       "@enduml\r\n",
       "\n",
       "PlantUML version 1.2020.13(Sat Jun 13 12:26:38 UTC 2020)\n",
       "(EPL source distribution)\n",
       "Java Runtime: OpenJDK Runtime Environment\n",
       "JVM: OpenJDK 64-Bit Server VM\n",
       "Default Encoding: UTF-8\n",
       "Language: en\n",
       "Country: null\n",
       "--></g></svg>"
      ]
     },
     "execution_count": 55,
     "metadata": {},
     "output_type": "execute_result"
    }
   ],
   "source": [
    "%viz --style=\"ORTHOLINE\" --view=\"Action\" \"ControlNodeTest\""
   ]
  },
  {
   "cell_type": "code",
   "execution_count": 56,
   "id": "victorian-chair",
   "metadata": {
    "execution": {
     "iopub.execute_input": "2021-03-25T09:28:41.347769Z",
     "iopub.status.busy": "2021-03-25T09:28:41.347303Z",
     "iopub.status.idle": "2021-03-25T09:28:41.583400Z",
     "shell.execute_reply": "2021-03-25T09:28:41.583025Z"
    }
   },
   "outputs": [
    {
     "data": {
      "image/svg+xml": [
       "<?xml version=\"1.0\" encoding=\"UTF-8\" standalone=\"no\"?><svg xmlns=\"http://www.w3.org/2000/svg\" xmlns:xlink=\"http://www.w3.org/1999/xlink\" contentScriptType=\"application/ecmascript\" contentStyleType=\"text/css\" height=\"191px\" preserveAspectRatio=\"none\" style=\"width:129px;height:191px;\" version=\"1.1\" viewBox=\"0 0 129 191\" width=\"129px\" zoomAndPan=\"magnify\"><defs/><g><!--MD5=[43c9051892ef23e1a46a86907403d788]\n",
       "class E1--><a href=\"psysml:d45f0f17-f367-4b4e-a94c-d0cd962b9658\" target=\"_top\" title=\"psysml:d45f0f17-f367-4b4e-a94c-d0cd962b9658\" xlink:actuate=\"onRequest\" xlink:href=\"psysml:d45f0f17-f367-4b4e-a94c-d0cd962b9658\" xlink:show=\"new\" xlink:title=\"psysml:d45f0f17-f367-4b4e-a94c-d0cd962b9658\" xlink:type=\"simple\"><rect fill=\"#FFFFFF\" height=\"173.1797\" id=\"E1\" style=\"stroke: #383838; stroke-width: 1.5;\" width=\"111\" x=\"7\" y=\"7\"/><text fill=\"#000000\" font-family=\"sans-serif\" font-size=\"12\" font-style=\"italic\" lengthAdjust=\"spacingAndGlyphs\" textLength=\"77\" x=\"24\" y=\"23.1387\">«action def»</text><text fill=\"#000000\" font-family=\"sans-serif\" font-size=\"12\" lengthAdjust=\"spacingAndGlyphs\" textLength=\"105\" x=\"10\" y=\"37.1074\">ControlNodeTest</text><line style=\"stroke: #383838; stroke-width: 1.5;\" x1=\"8\" x2=\"117\" y1=\"44.9375\" y2=\"44.9375\"/><text fill=\"#000000\" font-family=\"sans-serif\" font-size=\"11\" lengthAdjust=\"spacingAndGlyphs\" textLength=\"14\" x=\"13\" y=\"75.9526\">A1</text><text fill=\"#000000\" font-family=\"sans-serif\" font-size=\"11\" lengthAdjust=\"spacingAndGlyphs\" textLength=\"14\" x=\"13\" y=\"88.7573\">A2</text><text fill=\"#000000\" font-family=\"sans-serif\" font-size=\"11\" lengthAdjust=\"spacingAndGlyphs\" textLength=\"15\" x=\"13\" y=\"101.562\">B1</text><text fill=\"#000000\" font-family=\"sans-serif\" font-size=\"11\" lengthAdjust=\"spacingAndGlyphs\" textLength=\"15\" x=\"13\" y=\"114.3667\">B2</text><line style=\"stroke: #383838; stroke-width: 1.0;\" x1=\"8\" x2=\"42\" y1=\"59.3398\" y2=\"59.3398\"/><text fill=\"#000000\" font-family=\"sans-serif\" font-size=\"11\" lengthAdjust=\"spacingAndGlyphs\" textLength=\"41\" x=\"42\" y=\"62.6479\">actions</text><line style=\"stroke: #383838; stroke-width: 1.0;\" x1=\"83\" x2=\"117\" y1=\"59.3398\" y2=\"59.3398\"/><text fill=\"#000000\" font-family=\"sans-serif\" font-size=\"11\" lengthAdjust=\"spacingAndGlyphs\" textLength=\"6\" x=\"13\" y=\"143.9761\">F</text><line style=\"stroke: #383838; stroke-width: 1.0;\" x1=\"8\" x2=\"33.5\" y1=\"127.3633\" y2=\"127.3633\"/><text fill=\"#000000\" font-family=\"sans-serif\" font-size=\"11\" lengthAdjust=\"spacingAndGlyphs\" textLength=\"58\" x=\"33.5\" y=\"130.6714\">forkNodes</text><line style=\"stroke: #383838; stroke-width: 1.0;\" x1=\"91.5\" x2=\"117\" y1=\"127.3633\" y2=\"127.3633\"/><text fill=\"#000000\" font-family=\"sans-serif\" font-size=\"11\" lengthAdjust=\"spacingAndGlyphs\" textLength=\"3\" x=\"13\" y=\"173.5854\">J</text><line style=\"stroke: #383838; stroke-width: 1.0;\" x1=\"8\" x2=\"34.5\" y1=\"156.9727\" y2=\"156.9727\"/><text fill=\"#000000\" font-family=\"sans-serif\" font-size=\"11\" lengthAdjust=\"spacingAndGlyphs\" textLength=\"56\" x=\"34.5\" y=\"160.2808\">joinNodes</text><line style=\"stroke: #383838; stroke-width: 1.0;\" x1=\"90.5\" x2=\"117\" y1=\"156.9727\" y2=\"156.9727\"/></a><!--MD5=[077c46ea7602af3568706464b3f19cd4]\n",
       "@startuml\r\n",
       "skinparam linetype ortho\r\n",
       "skinparam monochrome true\r\n",
       "skinparam classbackgroundcolor white\r\n",
       "skinparam shadowing false\r\n",
       "skinparam wrapWidth 300\r\n",
       "hide circle\r\n",
       "\r\n",
       "comp def \"ControlNodeTest\" as E1  <<(T,blue)action def>> [[psysml:d45f0f17-f367-4b4e-a94c-d0cd962b9658 ]] {\r\n",
       "- - actions - -\r\n",
       "A1\r\n",
       "A2\r\n",
       "B1\r\n",
       "B2\r\n",
       "- - forkNodes - -\r\n",
       "F\r\n",
       "- - joinNodes - -\r\n",
       "J\r\n",
       "}\r\n",
       "@enduml\r\n",
       "\n",
       "PlantUML version 1.2020.13(Sat Jun 13 12:26:38 UTC 2020)\n",
       "(EPL source distribution)\n",
       "Java Runtime: OpenJDK Runtime Environment\n",
       "JVM: OpenJDK 64-Bit Server VM\n",
       "Default Encoding: UTF-8\n",
       "Language: en\n",
       "Country: null\n",
       "--></g></svg>"
      ]
     },
     "execution_count": 56,
     "metadata": {},
     "output_type": "execute_result"
    }
   ],
   "source": [
    "%viz --style=\"ORTHOLINE\" --view=\"Sequence\" \"ControlNodeTest\""
   ]
  },
  {
   "cell_type": "code",
   "execution_count": 57,
   "id": "passive-liabilities",
   "metadata": {
    "execution": {
     "iopub.execute_input": "2021-03-25T09:28:41.634014Z",
     "iopub.status.busy": "2021-03-25T09:28:41.633472Z",
     "iopub.status.idle": "2021-03-25T09:28:41.729284Z",
     "shell.execute_reply": "2021-03-25T09:28:41.727983Z"
    }
   },
   "outputs": [
    {
     "data": {
      "image/svg+xml": [
       "<?xml version=\"1.0\" encoding=\"UTF-8\" standalone=\"no\"?><svg xmlns=\"http://www.w3.org/2000/svg\" xmlns:xlink=\"http://www.w3.org/1999/xlink\" contentScriptType=\"application/ecmascript\" contentStyleType=\"text/css\" height=\"128px\" preserveAspectRatio=\"none\" style=\"width:625px;height:128px;\" version=\"1.1\" viewBox=\"0 0 625 128\" width=\"625px\" zoomAndPan=\"magnify\"><defs/><g><!--MD5=[fbc87193dbaf4d95561dea2c320d4a47]\n",
       "cluster E1--><a href=\"psysml:d45f0f17-f367-4b4e-a94c-d0cd962b9658\" target=\"_top\" title=\"psysml:d45f0f17-f367-4b4e-a94c-d0cd962b9658\" xlink:actuate=\"onRequest\" xlink:href=\"psysml:d45f0f17-f367-4b4e-a94c-d0cd962b9658\" xlink:show=\"new\" xlink:title=\"psysml:d45f0f17-f367-4b4e-a94c-d0cd962b9658\" xlink:type=\"simple\"><rect fill=\"#FFFFFF\" height=\"110\" id=\"E1\" style=\"stroke: #383838; stroke-width: 1.5;\" width=\"607\" x=\"7\" y=\"7\"/><rect fill=\"#F8F8F8\" height=\"37.9375\" style=\"stroke: #383838; stroke-width: 1.5;\" width=\"607\" x=\"7\" y=\"7\"/><text fill=\"#000000\" font-family=\"sans-serif\" font-size=\"12\" font-style=\"italic\" lengthAdjust=\"spacingAndGlyphs\" textLength=\"77\" x=\"272\" y=\"23.1387\">«action def»</text><text fill=\"#000000\" font-family=\"sans-serif\" font-size=\"12\" lengthAdjust=\"spacingAndGlyphs\" textLength=\"105\" x=\"258\" y=\"37.1074\">ControlNodeTest</text></a><rect fill=\"#000000\" height=\"8\" style=\"stroke: none; stroke-width: 1.0;\" width=\"80\" x=\"518\" y=\"75.5\"/><rect fill=\"#000000\" height=\"8\" style=\"stroke: none; stroke-width: 1.0;\" width=\"80\" x=\"403\" y=\"75.5\"/><g id=\"E1.E2\"><a href=\"psysml:fdc5aa3b-ed80-41e9-a98e-ce8c422e55eb\" target=\"_top\" title=\"psysml:fdc5aa3b-ed80-41e9-a98e-ce8c422e55eb\" xlink:actuate=\"onRequest\" xlink:href=\"psysml:fdc5aa3b-ed80-41e9-a98e-ce8c422e55eb\" xlink:show=\"new\" xlink:title=\"psysml:fdc5aa3b-ed80-41e9-a98e-ce8c422e55eb\" xlink:type=\"simple\"><rect fill=\"#FFFFFF\" height=\"42.9375\" id=\"E2\" rx=\"10\" ry=\"10\" style=\"stroke: #383838; stroke-width: 1.5;\" width=\"60\" x=\"308\" y=\"58\"/><rect fill=\"#F8F8F8\" height=\"37.9375\" rx=\"10\" ry=\"10\" style=\"stroke: #F8F8F8; stroke-width: 1.5;\" width=\"60\" x=\"308\" y=\"58\"/><rect fill=\"#F8F8F8\" height=\"10\" style=\"stroke: #F8F8F8; stroke-width: 1.5;\" width=\"60\" x=\"308\" y=\"85.9375\"/><rect fill=\"none\" height=\"42.9375\" id=\"E2\" rx=\"10\" ry=\"10\" style=\"stroke: #383838; stroke-width: 1.5;\" width=\"60\" x=\"308\" y=\"58\"/><text fill=\"#000000\" font-family=\"sans-serif\" font-size=\"12\" font-style=\"italic\" lengthAdjust=\"spacingAndGlyphs\" textLength=\"53\" x=\"311.5\" y=\"74.1387\">«action»</text><text fill=\"#000000\" font-family=\"sans-serif\" font-size=\"12\" lengthAdjust=\"spacingAndGlyphs\" textLength=\"16\" x=\"330\" y=\"88.1074\">A1</text></a></g><g id=\"E1.E3\"><a href=\"psysml:2c991ffe-75e4-475a-bb83-43f5c2feea80\" target=\"_top\" title=\"psysml:2c991ffe-75e4-475a-bb83-43f5c2feea80\" xlink:actuate=\"onRequest\" xlink:href=\"psysml:2c991ffe-75e4-475a-bb83-43f5c2feea80\" xlink:show=\"new\" xlink:title=\"psysml:2c991ffe-75e4-475a-bb83-43f5c2feea80\" xlink:type=\"simple\"><rect fill=\"#FFFFFF\" height=\"42.9375\" id=\"E3\" rx=\"10\" ry=\"10\" style=\"stroke: #383838; stroke-width: 1.5;\" width=\"60\" x=\"213\" y=\"58\"/><rect fill=\"#F8F8F8\" height=\"37.9375\" rx=\"10\" ry=\"10\" style=\"stroke: #F8F8F8; stroke-width: 1.5;\" width=\"60\" x=\"213\" y=\"58\"/><rect fill=\"#F8F8F8\" height=\"10\" style=\"stroke: #F8F8F8; stroke-width: 1.5;\" width=\"60\" x=\"213\" y=\"85.9375\"/><rect fill=\"none\" height=\"42.9375\" id=\"E3\" rx=\"10\" ry=\"10\" style=\"stroke: #383838; stroke-width: 1.5;\" width=\"60\" x=\"213\" y=\"58\"/><text fill=\"#000000\" font-family=\"sans-serif\" font-size=\"12\" font-style=\"italic\" lengthAdjust=\"spacingAndGlyphs\" textLength=\"53\" x=\"216.5\" y=\"74.1387\">«action»</text><text fill=\"#000000\" font-family=\"sans-serif\" font-size=\"12\" lengthAdjust=\"spacingAndGlyphs\" textLength=\"16\" x=\"235\" y=\"88.1074\">A2</text></a></g><g id=\"E1.E6\"><a href=\"psysml:f26d7e3d-b672-461c-aa14-0bbf3d4e7737\" target=\"_top\" title=\"psysml:f26d7e3d-b672-461c-aa14-0bbf3d4e7737\" xlink:actuate=\"onRequest\" xlink:href=\"psysml:f26d7e3d-b672-461c-aa14-0bbf3d4e7737\" xlink:show=\"new\" xlink:title=\"psysml:f26d7e3d-b672-461c-aa14-0bbf3d4e7737\" xlink:type=\"simple\"><rect fill=\"#FFFFFF\" height=\"42.9375\" id=\"E6\" rx=\"10\" ry=\"10\" style=\"stroke: #383838; stroke-width: 1.5;\" width=\"60\" x=\"118\" y=\"58\"/><rect fill=\"#F8F8F8\" height=\"37.9375\" rx=\"10\" ry=\"10\" style=\"stroke: #F8F8F8; stroke-width: 1.5;\" width=\"60\" x=\"118\" y=\"58\"/><rect fill=\"#F8F8F8\" height=\"10\" style=\"stroke: #F8F8F8; stroke-width: 1.5;\" width=\"60\" x=\"118\" y=\"85.9375\"/><rect fill=\"none\" height=\"42.9375\" id=\"E6\" rx=\"10\" ry=\"10\" style=\"stroke: #383838; stroke-width: 1.5;\" width=\"60\" x=\"118\" y=\"58\"/><text fill=\"#000000\" font-family=\"sans-serif\" font-size=\"12\" font-style=\"italic\" lengthAdjust=\"spacingAndGlyphs\" textLength=\"53\" x=\"121.5\" y=\"74.1387\">«action»</text><text fill=\"#000000\" font-family=\"sans-serif\" font-size=\"12\" lengthAdjust=\"spacingAndGlyphs\" textLength=\"16\" x=\"140\" y=\"88.1074\">B1</text></a></g><g id=\"E1.E7\"><a href=\"psysml:f6cf6959-d08a-437c-8e4b-96dd916f2436\" target=\"_top\" title=\"psysml:f6cf6959-d08a-437c-8e4b-96dd916f2436\" xlink:actuate=\"onRequest\" xlink:href=\"psysml:f6cf6959-d08a-437c-8e4b-96dd916f2436\" xlink:show=\"new\" xlink:title=\"psysml:f6cf6959-d08a-437c-8e4b-96dd916f2436\" xlink:type=\"simple\"><rect fill=\"#FFFFFF\" height=\"42.9375\" id=\"E7\" rx=\"10\" ry=\"10\" style=\"stroke: #383838; stroke-width: 1.5;\" width=\"60\" x=\"23\" y=\"58\"/><rect fill=\"#F8F8F8\" height=\"37.9375\" rx=\"10\" ry=\"10\" style=\"stroke: #F8F8F8; stroke-width: 1.5;\" width=\"60\" x=\"23\" y=\"58\"/><rect fill=\"#F8F8F8\" height=\"10\" style=\"stroke: #F8F8F8; stroke-width: 1.5;\" width=\"60\" x=\"23\" y=\"85.9375\"/><rect fill=\"none\" height=\"42.9375\" id=\"E7\" rx=\"10\" ry=\"10\" style=\"stroke: #383838; stroke-width: 1.5;\" width=\"60\" x=\"23\" y=\"58\"/><text fill=\"#000000\" font-family=\"sans-serif\" font-size=\"12\" font-style=\"italic\" lengthAdjust=\"spacingAndGlyphs\" textLength=\"53\" x=\"26.5\" y=\"74.1387\">«action»</text><text fill=\"#000000\" font-family=\"sans-serif\" font-size=\"12\" lengthAdjust=\"spacingAndGlyphs\" textLength=\"16\" x=\"45\" y=\"88.1074\">B2</text></a></g><!--MD5=[3e7f40e989da3f3bccd3e2186b6889ac]\n",
       "@startuml\r\n",
       "skinparam linetype ortho\r\n",
       "skinparam monochrome true\r\n",
       "skinparam classbackgroundcolor white\r\n",
       "skinparam shadowing false\r\n",
       "skinparam wrapWidth 300\r\n",
       "hide circle\r\n",
       "\r\n",
       "rec def \"ControlNodeTest\" as E1  <<(T,blue)action def>> [[psysml:d45f0f17-f367-4b4e-a94c-d0cd962b9658 ]] {\r\n",
       "rec usage \"A1\" as E2  <<(T,blue)action>> [[psysml:fdc5aa3b-ed80-41e9-a98e-ce8c422e55eb ]] {\r\n",
       "}\r\n",
       "\r\n",
       "rec usage \"A2\" as E3  <<(T,blue)action>> [[psysml:2c991ffe-75e4-475a-bb83-43f5c2feea80 ]] {\r\n",
       "}\r\n",
       "\r\n",
       "join \"J\" as E4  [[psysml:5dc91872-c5b7-4d29-9265-55786a5f23d3 ]] \r\n",
       "fork \"F\" as E5  [[psysml:32073807-3d0f-4273-9610-bcad2a0739d7 ]] \r\n",
       "rec usage \"B1\" as E6  <<(T,blue)action>> [[psysml:f26d7e3d-b672-461c-aa14-0bbf3d4e7737 ]] {\r\n",
       "}\r\n",
       "\r\n",
       "rec usage \"B2\" as E7  <<(T,blue)action>> [[psysml:f6cf6959-d08a-437c-8e4b-96dd916f2436 ]] {\r\n",
       "}\r\n",
       "\r\n",
       "}\r\n",
       "\r\n",
       "@enduml\r\n",
       "\n",
       "PlantUML version 1.2020.13(Sat Jun 13 12:26:38 UTC 2020)\n",
       "(EPL source distribution)\n",
       "Java Runtime: OpenJDK Runtime Environment\n",
       "JVM: OpenJDK 64-Bit Server VM\n",
       "Default Encoding: UTF-8\n",
       "Language: en\n",
       "Country: null\n",
       "--></g></svg>"
      ]
     },
     "execution_count": 57,
     "metadata": {},
     "output_type": "execute_result"
    }
   ],
   "source": [
    "%viz --style=\"ORTHOLINE\" --view=\"MIXED\" \"ControlNodeTest\""
   ]
  }
 ],
 "metadata": {
  "kernelspec": {
   "display_name": "SysML",
   "language": "sysml",
   "name": "sysml"
  },
  "language_info": {
   "codemirror_mode": "sysml",
   "file_extension": ".sysml",
   "mimetype": "text/x-sysml",
   "name": "SysML",
   "pygments_lexer": "java",
   "version": "1.0.0"
  }
 },
 "nbformat": 4,
 "nbformat_minor": 5
}
