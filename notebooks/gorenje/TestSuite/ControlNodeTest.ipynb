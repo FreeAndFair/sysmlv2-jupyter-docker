{
 "cells": [
  {
   "cell_type": "markdown",
   "id": "quality-technician",
   "metadata": {},
   "source": [
    "# SysML v2 Test Suite\n",
    "\n",
    "This can notebook can be cleared using menu `Edit --> Clear All Outputs` and then all cells can be\n",
    "run using menu `Run --> Run All Cells`.\n",
    "\n",
    "**WARNING**: This file is generated, all modifications here will be ignored.\n"
   ]
  },
  {
   "cell_type": "markdown",
   "id": "approved-melissa",
   "metadata": {},
   "source": [
    "## File: ../../sysml/src/examples/Simple Tests/ControlNodeTest.sysml"
   ]
  },
  {
   "cell_type": "code",
   "execution_count": 1,
   "id": "bored-liability",
   "metadata": {
    "execution": {
     "iopub.execute_input": "2021-03-26T15:42:05.351730Z",
     "iopub.status.busy": "2021-03-26T15:42:05.351060Z",
     "iopub.status.idle": "2021-03-26T15:42:05.628253Z",
     "shell.execute_reply": "2021-03-26T15:42:05.623947Z"
    }
   },
   "outputs": [
    {
     "data": {
      "text/plain": [
       "ActionDefinition ControlNodeTest (fa6b3bba-5e8d-4dd0-a562-10f6d90208e0)\n"
      ]
     },
     "execution_count": 1,
     "metadata": {},
     "output_type": "execute_result"
    }
   ],
   "source": [
    "action def ControlNodeTest {\n",
    "\taction A1;\n",
    "\tthen J;\n",
    "\t\n",
    "\taction A2;\n",
    "\tthen J;\n",
    "\t\n",
    "\tjoin J;\n",
    "\tthen fork F;\n",
    "\tthen B1;\n",
    "\tthen B2;\n",
    "\t\t\n",
    "\taction B1;\n",
    "\taction B2;\n",
    "}"
   ]
  },
  {
   "cell_type": "code",
   "execution_count": 2,
   "id": "second-novelty",
   "metadata": {
    "execution": {
     "iopub.execute_input": "2021-03-26T15:42:05.681113Z",
     "iopub.status.busy": "2021-03-26T15:42:05.680148Z",
     "iopub.status.idle": "2021-03-26T15:42:06.374182Z",
     "shell.execute_reply": "2021-03-26T15:42:06.372083Z"
    }
   },
   "outputs": [
    {
     "data": {
      "image/svg+xml": [
       "<?xml version=\"1.0\" encoding=\"UTF-8\" standalone=\"no\"?><svg xmlns=\"http://www.w3.org/2000/svg\" xmlns:xlink=\"http://www.w3.org/1999/xlink\" contentScriptType=\"application/ecmascript\" contentStyleType=\"text/css\" height=\"367px\" preserveAspectRatio=\"none\" style=\"width:205px;height:367px;\" version=\"1.1\" viewBox=\"0 0 205 367\" width=\"205px\" zoomAndPan=\"magnify\"><defs/><g><!--MD5=[fbc87193dbaf4d95561dea2c320d4a47]\n",
       "cluster E1--><a href=\"psysml:8a19e2dd-7f31-4291-b841-c8e7ad6ceaae\" target=\"_top\" title=\"psysml:8a19e2dd-7f31-4291-b841-c8e7ad6ceaae\" xlink:actuate=\"onRequest\" xlink:href=\"psysml:8a19e2dd-7f31-4291-b841-c8e7ad6ceaae\" xlink:show=\"new\" xlink:title=\"psysml:8a19e2dd-7f31-4291-b841-c8e7ad6ceaae\" xlink:type=\"simple\"><rect fill=\"#FFFFFF\" height=\"349\" id=\"E1\" style=\"stroke: #383838; stroke-width: 1.5;\" width=\"187\" x=\"7\" y=\"7\"/><rect fill=\"#F8F8F8\" height=\"37.9375\" style=\"stroke: #383838; stroke-width: 1.5;\" width=\"187\" x=\"7\" y=\"7\"/><text fill=\"#000000\" font-family=\"sans-serif\" font-size=\"12\" font-style=\"italic\" lengthAdjust=\"spacingAndGlyphs\" textLength=\"77\" x=\"62\" y=\"23.1387\">«action def»</text><text fill=\"#000000\" font-family=\"sans-serif\" font-size=\"12\" lengthAdjust=\"spacingAndGlyphs\" textLength=\"105\" x=\"48\" y=\"37.1074\">ControlNodeTest</text></a><rect fill=\"#000000\" height=\"8\" style=\"stroke: none; stroke-width: 1.0;\" width=\"80\" x=\"60\" y=\"161\"/><rect fill=\"#000000\" height=\"8\" style=\"stroke: none; stroke-width: 1.0;\" width=\"80\" x=\"60\" y=\"229\"/><g id=\"E1.E2\"><a href=\"psysml:63691cb2-c1ae-4262-a628-287378f10d06\" target=\"_top\" title=\"psysml:63691cb2-c1ae-4262-a628-287378f10d06\" xlink:actuate=\"onRequest\" xlink:href=\"psysml:63691cb2-c1ae-4262-a628-287378f10d06\" xlink:show=\"new\" xlink:title=\"psysml:63691cb2-c1ae-4262-a628-287378f10d06\" xlink:type=\"simple\"><rect fill=\"#FFFFFF\" height=\"42.9375\" id=\"E2\" rx=\"10\" ry=\"10\" style=\"stroke: #383838; stroke-width: 1.5;\" width=\"60\" x=\"118\" y=\"58\"/><rect fill=\"#F8F8F8\" height=\"37.9375\" rx=\"10\" ry=\"10\" style=\"stroke: #F8F8F8; stroke-width: 1.5;\" width=\"60\" x=\"118\" y=\"58\"/><rect fill=\"#F8F8F8\" height=\"10\" style=\"stroke: #F8F8F8; stroke-width: 1.5;\" width=\"60\" x=\"118\" y=\"85.9375\"/><rect fill=\"none\" height=\"42.9375\" id=\"E2\" rx=\"10\" ry=\"10\" style=\"stroke: #383838; stroke-width: 1.5;\" width=\"60\" x=\"118\" y=\"58\"/><text fill=\"#000000\" font-family=\"sans-serif\" font-size=\"12\" font-style=\"italic\" lengthAdjust=\"spacingAndGlyphs\" textLength=\"53\" x=\"121.5\" y=\"74.1387\">«action»</text><text fill=\"#000000\" font-family=\"sans-serif\" font-size=\"12\" lengthAdjust=\"spacingAndGlyphs\" textLength=\"16\" x=\"140\" y=\"88.1074\">A1</text></a></g><g id=\"E1.E3\"><a href=\"psysml:c6acf79a-793e-4497-aa33-887aafacc071\" target=\"_top\" title=\"psysml:c6acf79a-793e-4497-aa33-887aafacc071\" xlink:actuate=\"onRequest\" xlink:href=\"psysml:c6acf79a-793e-4497-aa33-887aafacc071\" xlink:show=\"new\" xlink:title=\"psysml:c6acf79a-793e-4497-aa33-887aafacc071\" xlink:type=\"simple\"><rect fill=\"#FFFFFF\" height=\"42.9375\" id=\"E3\" rx=\"10\" ry=\"10\" style=\"stroke: #383838; stroke-width: 1.5;\" width=\"60\" x=\"23\" y=\"58\"/><rect fill=\"#F8F8F8\" height=\"37.9375\" rx=\"10\" ry=\"10\" style=\"stroke: #F8F8F8; stroke-width: 1.5;\" width=\"60\" x=\"23\" y=\"58\"/><rect fill=\"#F8F8F8\" height=\"10\" style=\"stroke: #F8F8F8; stroke-width: 1.5;\" width=\"60\" x=\"23\" y=\"85.9375\"/><rect fill=\"none\" height=\"42.9375\" id=\"E3\" rx=\"10\" ry=\"10\" style=\"stroke: #383838; stroke-width: 1.5;\" width=\"60\" x=\"23\" y=\"58\"/><text fill=\"#000000\" font-family=\"sans-serif\" font-size=\"12\" font-style=\"italic\" lengthAdjust=\"spacingAndGlyphs\" textLength=\"53\" x=\"26.5\" y=\"74.1387\">«action»</text><text fill=\"#000000\" font-family=\"sans-serif\" font-size=\"12\" lengthAdjust=\"spacingAndGlyphs\" textLength=\"16\" x=\"45\" y=\"88.1074\">A2</text></a></g><g id=\"E1.E6\"><a href=\"psysml:2beb575e-cdbc-464e-9dd9-fc16008b4aec\" target=\"_top\" title=\"psysml:2beb575e-cdbc-464e-9dd9-fc16008b4aec\" xlink:actuate=\"onRequest\" xlink:href=\"psysml:2beb575e-cdbc-464e-9dd9-fc16008b4aec\" xlink:show=\"new\" xlink:title=\"psysml:2beb575e-cdbc-464e-9dd9-fc16008b4aec\" xlink:type=\"simple\"><rect fill=\"#FFFFFF\" height=\"42.9375\" id=\"E6\" rx=\"10\" ry=\"10\" style=\"stroke: #383838; stroke-width: 1.5;\" width=\"60\" x=\"23\" y=\"297\"/><rect fill=\"#F8F8F8\" height=\"37.9375\" rx=\"10\" ry=\"10\" style=\"stroke: #F8F8F8; stroke-width: 1.5;\" width=\"60\" x=\"23\" y=\"297\"/><rect fill=\"#F8F8F8\" height=\"10\" style=\"stroke: #F8F8F8; stroke-width: 1.5;\" width=\"60\" x=\"23\" y=\"324.9375\"/><rect fill=\"none\" height=\"42.9375\" id=\"E6\" rx=\"10\" ry=\"10\" style=\"stroke: #383838; stroke-width: 1.5;\" width=\"60\" x=\"23\" y=\"297\"/><text fill=\"#000000\" font-family=\"sans-serif\" font-size=\"12\" font-style=\"italic\" lengthAdjust=\"spacingAndGlyphs\" textLength=\"53\" x=\"26.5\" y=\"313.1387\">«action»</text><text fill=\"#000000\" font-family=\"sans-serif\" font-size=\"12\" lengthAdjust=\"spacingAndGlyphs\" textLength=\"16\" x=\"45\" y=\"327.1074\">B1</text></a></g><g id=\"E1.E7\"><a href=\"psysml:18cbd039-fda1-47ea-ae1e-03ddeff777e2\" target=\"_top\" title=\"psysml:18cbd039-fda1-47ea-ae1e-03ddeff777e2\" xlink:actuate=\"onRequest\" xlink:href=\"psysml:18cbd039-fda1-47ea-ae1e-03ddeff777e2\" xlink:show=\"new\" xlink:title=\"psysml:18cbd039-fda1-47ea-ae1e-03ddeff777e2\" xlink:type=\"simple\"><rect fill=\"#FFFFFF\" height=\"42.9375\" id=\"E7\" rx=\"10\" ry=\"10\" style=\"stroke: #383838; stroke-width: 1.5;\" width=\"60\" x=\"118\" y=\"297\"/><rect fill=\"#F8F8F8\" height=\"37.9375\" rx=\"10\" ry=\"10\" style=\"stroke: #F8F8F8; stroke-width: 1.5;\" width=\"60\" x=\"118\" y=\"297\"/><rect fill=\"#F8F8F8\" height=\"10\" style=\"stroke: #F8F8F8; stroke-width: 1.5;\" width=\"60\" x=\"118\" y=\"324.9375\"/><rect fill=\"none\" height=\"42.9375\" id=\"E7\" rx=\"10\" ry=\"10\" style=\"stroke: #383838; stroke-width: 1.5;\" width=\"60\" x=\"118\" y=\"297\"/><text fill=\"#000000\" font-family=\"sans-serif\" font-size=\"12\" font-style=\"italic\" lengthAdjust=\"spacingAndGlyphs\" textLength=\"53\" x=\"121.5\" y=\"313.1387\">«action»</text><text fill=\"#000000\" font-family=\"sans-serif\" font-size=\"12\" lengthAdjust=\"spacingAndGlyphs\" textLength=\"16\" x=\"140\" y=\"327.1074\">B2</text></a></g><!--MD5=[4d03bb2d0377dc85ccfab60ff574652b]\n",
       "link E2 to E4--><a href=\"psysml:32927b08-9b1f-4059-96b6-74ea858c5377\" target=\"_top\" title=\"psysml:32927b08-9b1f-4059-96b6-74ea858c5377\" xlink:actuate=\"onRequest\" xlink:href=\"psysml:32927b08-9b1f-4059-96b6-74ea858c5377\" xlink:show=\"new\" xlink:title=\"psysml:32927b08-9b1f-4059-96b6-74ea858c5377\" xlink:type=\"simple\"><path d=\"M136.13,101.14 C125.84,119.06 111.49,144.01 104.37,156.4 \" fill=\"none\" id=\"E2-&gt;E4\" style=\"stroke: #383838; stroke-width: 1.0;\"/><polygon fill=\"#383838\" points=\"101.79,160.88,109.7406,155.0673,104.2799,156.5441,102.8031,151.0834,101.79,160.88\" style=\"stroke: #383838; stroke-width: 1.0;\"/></a><!--MD5=[af87c684e3b0d8be13c1a698a818ef1e]\n",
       "link E3 to E4--><a href=\"psysml:6834d0f3-19d8-44ac-95f5-e8bc4db68e8a\" target=\"_top\" title=\"psysml:6834d0f3-19d8-44ac-95f5-e8bc4db68e8a\" xlink:actuate=\"onRequest\" xlink:href=\"psysml:6834d0f3-19d8-44ac-95f5-e8bc4db68e8a\" xlink:show=\"new\" xlink:title=\"psysml:6834d0f3-19d8-44ac-95f5-e8bc4db68e8a\" xlink:type=\"simple\"><path d=\"M64.62,101.14 C74.7,119.06 88.75,144.01 95.72,156.4 \" fill=\"none\" id=\"E3-&gt;E4\" style=\"stroke: #383838; stroke-width: 1.0;\"/><polygon fill=\"#383838\" points=\"98.25,160.88,97.3377,151.0735,95.8048,156.5187,90.3596,154.9858,98.25,160.88\" style=\"stroke: #383838; stroke-width: 1.0;\"/></a><!--MD5=[1b7591eae5389033d8d09a9d6721a717]\n",
       "link E4 to E5--><a href=\"psysml:02aceb33-1759-43f7-b21c-5882a5f834e0\" target=\"_top\" title=\"psysml:02aceb33-1759-43f7-b21c-5882a5f834e0\" xlink:actuate=\"onRequest\" xlink:href=\"psysml:02aceb33-1759-43f7-b21c-5882a5f834e0\" xlink:show=\"new\" xlink:title=\"psysml:02aceb33-1759-43f7-b21c-5882a5f834e0\" xlink:type=\"simple\"><path d=\"M100,169.18 C100,178.92 100,208.52 100,223.34 \" fill=\"none\" id=\"E4-&gt;E5\" style=\"stroke: #383838; stroke-width: 1.0;\"/><polygon fill=\"#383838\" points=\"100,228.69,104,219.69,100,223.69,96,219.69,100,228.69\" style=\"stroke: #383838; stroke-width: 1.0;\"/></a><!--MD5=[9120cf2e5df3bff93db8f754bbbc09b4]\n",
       "link E5 to E6--><a href=\"psysml:f43de8b9-7272-426a-b0aa-70e703f3a468\" target=\"_top\" title=\"psysml:f43de8b9-7272-426a-b0aa-70e703f3a468\" xlink:actuate=\"onRequest\" xlink:href=\"psysml:f43de8b9-7272-426a-b0aa-70e703f3a468\" xlink:show=\"new\" xlink:title=\"psysml:f43de8b9-7272-426a-b0aa-70e703f3a468\" xlink:type=\"simple\"><path d=\"M98.21,237.17 C93.16,246.14 78.41,272.36 67.11,292.43 \" fill=\"none\" id=\"E5-&gt;E6\" style=\"stroke: #383838; stroke-width: 1.0;\"/><polygon fill=\"#383838\" points=\"64.61,296.87,72.5151,290.9955,67.0661,292.5148,65.5467,287.0658,64.61,296.87\" style=\"stroke: #383838; stroke-width: 1.0;\"/></a><!--MD5=[3a9b96bfbf6b6ad89c494e81751bda47]\n",
       "link E5 to E7--><a href=\"psysml:6de5063b-eb84-4499-9c8a-3a0354e3d885\" target=\"_top\" title=\"psysml:6de5063b-eb84-4499-9c8a-3a0354e3d885\" xlink:actuate=\"onRequest\" xlink:href=\"psysml:6de5063b-eb84-4499-9c8a-3a0354e3d885\" xlink:show=\"new\" xlink:title=\"psysml:6de5063b-eb84-4499-9c8a-3a0354e3d885\" xlink:type=\"simple\"><path d=\"M101.82,237.17 C106.98,246.14 122.05,272.36 133.59,292.43 \" fill=\"none\" id=\"E5-&gt;E7\" style=\"stroke: #383838; stroke-width: 1.0;\"/><polygon fill=\"#383838\" points=\"136.14,296.87,135.1269,287.0734,133.6501,292.5341,128.1894,291.0573,136.14,296.87\" style=\"stroke: #383838; stroke-width: 1.0;\"/></a><!--MD5=[fe78045650c4973f4e121144a91d600d]\n",
       "@startuml\r\n",
       " skinparam monochrome true\r\n",
       "skinparam classbackgroundcolor white\r\n",
       "skinparam shadowing false\r\n",
       "skinparam wrapWidth 300\r\n",
       "hide circle\r\n",
       "\r\n",
       "rec def \"ControlNodeTest\" as E1  <<(T,blue)action def>> [[psysml:8a19e2dd-7f31-4291-b841-c8e7ad6ceaae ]] {\r\n",
       "rec usage \"A1\" as E2  <<(T,blue)action>> [[psysml:63691cb2-c1ae-4262-a628-287378f10d06 ]] {\r\n",
       "}\r\n",
       "\r\n",
       "rec usage \"A2\" as E3  <<(T,blue)action>> [[psysml:c6acf79a-793e-4497-aa33-887aafacc071 ]] {\r\n",
       "}\r\n",
       "\r\n",
       "join \"J\" as E4  [[psysml:9118671e-8e40-41ce-bc29-e44727581a0d ]] \r\n",
       "fork \"F\" as E5  [[psysml:3c4d5a48-0835-4406-bc0d-d635a7475922 ]] \r\n",
       "rec usage \"B1\" as E6  <<(T,blue)action>> [[psysml:2beb575e-cdbc-464e-9dd9-fc16008b4aec ]] {\r\n",
       "}\r\n",
       "\r\n",
       "rec usage \"B2\" as E7  <<(T,blue)action>> [[psysml:18cbd039-fda1-47ea-ae1e-03ddeff777e2 ]] {\r\n",
       "}\r\n",
       "\r\n",
       "}\r\n",
       "\r\n",
       "E2 - -> E4 [[psysml:32927b08-9b1f-4059-96b6-74ea858c5377 ]] \r\n",
       "E3 - -> E4 [[psysml:6834d0f3-19d8-44ac-95f5-e8bc4db68e8a ]] \r\n",
       "E4 - -> E5 [[psysml:02aceb33-1759-43f7-b21c-5882a5f834e0 ]] \r\n",
       "E5 - -> E6 [[psysml:f43de8b9-7272-426a-b0aa-70e703f3a468 ]] \r\n",
       "E5 - -> E7 [[psysml:6de5063b-eb84-4499-9c8a-3a0354e3d885 ]] \r\n",
       "@enduml\r\n",
       "\n",
       "PlantUML version 1.2020.13(Sat Jun 13 12:26:38 UTC 2020)\n",
       "(EPL source distribution)\n",
       "Java Runtime: OpenJDK Runtime Environment\n",
       "JVM: OpenJDK 64-Bit Server VM\n",
       "Default Encoding: UTF-8\n",
       "Language: en\n",
       "Country: null\n",
       "--></g></svg>"
      ]
     },
     "execution_count": 2,
     "metadata": {},
     "output_type": "execute_result"
    }
   ],
   "source": [
    "%viz --style=\"COMPTREE\" --view=\"Default\" \"ControlNodeTest\""
   ]
  },
  {
   "cell_type": "code",
   "execution_count": 3,
   "id": "radio-juvenile",
   "metadata": {
    "execution": {
     "iopub.execute_input": "2021-03-26T15:42:06.428670Z",
     "iopub.status.busy": "2021-03-26T15:42:06.428221Z",
     "iopub.status.idle": "2021-03-26T15:42:06.677523Z",
     "shell.execute_reply": "2021-03-26T15:42:06.676111Z"
    }
   },
   "outputs": [
    {
     "data": {
      "image/svg+xml": [
       "<?xml version=\"1.0\" encoding=\"UTF-8\" standalone=\"no\"?><svg xmlns=\"http://www.w3.org/2000/svg\" xmlns:xlink=\"http://www.w3.org/1999/xlink\" contentScriptType=\"application/ecmascript\" contentStyleType=\"text/css\" height=\"191px\" preserveAspectRatio=\"none\" style=\"width:129px;height:191px;\" version=\"1.1\" viewBox=\"0 0 129 191\" width=\"129px\" zoomAndPan=\"magnify\"><defs/><g><!--MD5=[43c9051892ef23e1a46a86907403d788]\n",
       "class E1--><a href=\"psysml:8a19e2dd-7f31-4291-b841-c8e7ad6ceaae\" target=\"_top\" title=\"psysml:8a19e2dd-7f31-4291-b841-c8e7ad6ceaae\" xlink:actuate=\"onRequest\" xlink:href=\"psysml:8a19e2dd-7f31-4291-b841-c8e7ad6ceaae\" xlink:show=\"new\" xlink:title=\"psysml:8a19e2dd-7f31-4291-b841-c8e7ad6ceaae\" xlink:type=\"simple\"><rect fill=\"#FFFFFF\" height=\"173.1797\" id=\"E1\" style=\"stroke: #383838; stroke-width: 1.5;\" width=\"111\" x=\"7\" y=\"7\"/><text fill=\"#000000\" font-family=\"sans-serif\" font-size=\"12\" font-style=\"italic\" lengthAdjust=\"spacingAndGlyphs\" textLength=\"77\" x=\"24\" y=\"23.1387\">«action def»</text><text fill=\"#000000\" font-family=\"sans-serif\" font-size=\"12\" lengthAdjust=\"spacingAndGlyphs\" textLength=\"105\" x=\"10\" y=\"37.1074\">ControlNodeTest</text><line style=\"stroke: #383838; stroke-width: 1.5;\" x1=\"8\" x2=\"117\" y1=\"44.9375\" y2=\"44.9375\"/><text fill=\"#000000\" font-family=\"sans-serif\" font-size=\"11\" lengthAdjust=\"spacingAndGlyphs\" textLength=\"14\" x=\"13\" y=\"75.9526\">A1</text><text fill=\"#000000\" font-family=\"sans-serif\" font-size=\"11\" lengthAdjust=\"spacingAndGlyphs\" textLength=\"14\" x=\"13\" y=\"88.7573\">A2</text><text fill=\"#000000\" font-family=\"sans-serif\" font-size=\"11\" lengthAdjust=\"spacingAndGlyphs\" textLength=\"15\" x=\"13\" y=\"101.562\">B1</text><text fill=\"#000000\" font-family=\"sans-serif\" font-size=\"11\" lengthAdjust=\"spacingAndGlyphs\" textLength=\"15\" x=\"13\" y=\"114.3667\">B2</text><line style=\"stroke: #383838; stroke-width: 1.0;\" x1=\"8\" x2=\"42\" y1=\"59.3398\" y2=\"59.3398\"/><text fill=\"#000000\" font-family=\"sans-serif\" font-size=\"11\" lengthAdjust=\"spacingAndGlyphs\" textLength=\"41\" x=\"42\" y=\"62.6479\">actions</text><line style=\"stroke: #383838; stroke-width: 1.0;\" x1=\"83\" x2=\"117\" y1=\"59.3398\" y2=\"59.3398\"/><text fill=\"#000000\" font-family=\"sans-serif\" font-size=\"11\" lengthAdjust=\"spacingAndGlyphs\" textLength=\"6\" x=\"13\" y=\"143.9761\">F</text><line style=\"stroke: #383838; stroke-width: 1.0;\" x1=\"8\" x2=\"33.5\" y1=\"127.3633\" y2=\"127.3633\"/><text fill=\"#000000\" font-family=\"sans-serif\" font-size=\"11\" lengthAdjust=\"spacingAndGlyphs\" textLength=\"58\" x=\"33.5\" y=\"130.6714\">forkNodes</text><line style=\"stroke: #383838; stroke-width: 1.0;\" x1=\"91.5\" x2=\"117\" y1=\"127.3633\" y2=\"127.3633\"/><text fill=\"#000000\" font-family=\"sans-serif\" font-size=\"11\" lengthAdjust=\"spacingAndGlyphs\" textLength=\"3\" x=\"13\" y=\"173.5854\">J</text><line style=\"stroke: #383838; stroke-width: 1.0;\" x1=\"8\" x2=\"34.5\" y1=\"156.9727\" y2=\"156.9727\"/><text fill=\"#000000\" font-family=\"sans-serif\" font-size=\"11\" lengthAdjust=\"spacingAndGlyphs\" textLength=\"56\" x=\"34.5\" y=\"160.2808\">joinNodes</text><line style=\"stroke: #383838; stroke-width: 1.0;\" x1=\"90.5\" x2=\"117\" y1=\"156.9727\" y2=\"156.9727\"/></a><!--MD5=[1216f07cd1dd6288e110c930d23648b2]\n",
       "@startuml\r\n",
       " skinparam monochrome true\r\n",
       "skinparam classbackgroundcolor white\r\n",
       "skinparam shadowing false\r\n",
       "skinparam wrapWidth 300\r\n",
       "hide circle\r\n",
       "\r\n",
       "comp def \"ControlNodeTest\" as E1  <<(T,blue)action def>> [[psysml:8a19e2dd-7f31-4291-b841-c8e7ad6ceaae ]] {\r\n",
       "- - actions - -\r\n",
       "A1\r\n",
       "A2\r\n",
       "B1\r\n",
       "B2\r\n",
       "- - forkNodes - -\r\n",
       "F\r\n",
       "- - joinNodes - -\r\n",
       "J\r\n",
       "}\r\n",
       "@enduml\r\n",
       "\n",
       "PlantUML version 1.2020.13(Sat Jun 13 12:26:38 UTC 2020)\n",
       "(EPL source distribution)\n",
       "Java Runtime: OpenJDK Runtime Environment\n",
       "JVM: OpenJDK 64-Bit Server VM\n",
       "Default Encoding: UTF-8\n",
       "Language: en\n",
       "Country: null\n",
       "--></g></svg>"
      ]
     },
     "execution_count": 3,
     "metadata": {},
     "output_type": "execute_result"
    }
   ],
   "source": [
    "%viz --style=\"COMPTREE\" --view=\"Tree\" \"ControlNodeTest\""
   ]
  },
  {
   "cell_type": "code",
   "execution_count": 4,
   "id": "documented-quilt",
   "metadata": {
    "execution": {
     "iopub.execute_input": "2021-03-26T15:42:06.731698Z",
     "iopub.status.busy": "2021-03-26T15:42:06.730205Z",
     "iopub.status.idle": "2021-03-26T15:42:06.744641Z",
     "shell.execute_reply": "2021-03-26T15:42:06.743722Z"
    }
   },
   "outputs": [
    {
     "data": {
      "image/svg+xml": [
       "<?xml version=\"1.0\" encoding=\"UTF-8\" standalone=\"no\"?><svg xmlns=\"http://www.w3.org/2000/svg\" xmlns:xlink=\"http://www.w3.org/1999/xlink\" contentScriptType=\"application/ecmascript\" contentStyleType=\"text/css\" height=\"12px\" preserveAspectRatio=\"none\" style=\"width:12px;height:12px;\" version=\"1.1\" viewBox=\"0 0 12 12\" width=\"12px\" zoomAndPan=\"magnify\"><defs/><g><!--MD5=[f19188ef49e11757b5c46753f95d9edc]\n",
       "@startuml\r\n",
       " skinparam monochrome true\r\n",
       "skinparam classbackgroundcolor white\r\n",
       "skinparam shadowing false\r\n",
       "skinparam wrapWidth 300\r\n",
       "hide circle\r\n",
       "\r\n",
       "@enduml\r\n",
       "\n",
       "PlantUML version 1.2020.13(Sat Jun 13 12:26:38 UTC 2020)\n",
       "(EPL source distribution)\n",
       "Java Runtime: OpenJDK Runtime Environment\n",
       "JVM: OpenJDK 64-Bit Server VM\n",
       "Default Encoding: UTF-8\n",
       "Language: en\n",
       "Country: null\n",
       "--></g></svg>"
      ]
     },
     "execution_count": 4,
     "metadata": {},
     "output_type": "execute_result"
    }
   ],
   "source": [
    "%viz --style=\"COMPTREE\" --view=\"State\" \"ControlNodeTest\""
   ]
  },
  {
   "cell_type": "code",
   "execution_count": 5,
   "id": "unable-preference",
   "metadata": {
    "execution": {
     "iopub.execute_input": "2021-03-26T15:42:06.798213Z",
     "iopub.status.busy": "2021-03-26T15:42:06.796702Z",
     "iopub.status.idle": "2021-03-26T15:42:06.876265Z",
     "shell.execute_reply": "2021-03-26T15:42:06.874823Z"
    }
   },
   "outputs": [
    {
     "data": {
      "image/svg+xml": [
       "<?xml version=\"1.0\" encoding=\"UTF-8\" standalone=\"no\"?><svg xmlns=\"http://www.w3.org/2000/svg\" xmlns:xlink=\"http://www.w3.org/1999/xlink\" contentScriptType=\"application/ecmascript\" contentStyleType=\"text/css\" height=\"217px\" preserveAspectRatio=\"none\" style=\"width:205px;height:217px;\" version=\"1.1\" viewBox=\"0 0 205 217\" width=\"205px\" zoomAndPan=\"magnify\"><defs/><g><!--MD5=[fbc87193dbaf4d95561dea2c320d4a47]\n",
       "cluster E1--><a href=\"psysml:8a19e2dd-7f31-4291-b841-c8e7ad6ceaae\" target=\"_top\" title=\"psysml:8a19e2dd-7f31-4291-b841-c8e7ad6ceaae\" xlink:actuate=\"onRequest\" xlink:href=\"psysml:8a19e2dd-7f31-4291-b841-c8e7ad6ceaae\" xlink:show=\"new\" xlink:title=\"psysml:8a19e2dd-7f31-4291-b841-c8e7ad6ceaae\" xlink:type=\"simple\"><rect fill=\"#FFFFFF\" height=\"199\" id=\"E1\" style=\"stroke: #383838; stroke-width: 1.5;\" width=\"187\" x=\"7\" y=\"7\"/><rect fill=\"#F8F8F8\" height=\"37.9375\" style=\"stroke: #383838; stroke-width: 1.5;\" width=\"187\" x=\"7\" y=\"7\"/><text fill=\"#000000\" font-family=\"sans-serif\" font-size=\"12\" font-style=\"italic\" lengthAdjust=\"spacingAndGlyphs\" textLength=\"77\" x=\"62\" y=\"23.1387\">«action def»</text><text fill=\"#000000\" font-family=\"sans-serif\" font-size=\"12\" lengthAdjust=\"spacingAndGlyphs\" textLength=\"105\" x=\"48\" y=\"37.1074\">ControlNodeTest</text></a><rect fill=\"#000000\" height=\"8\" style=\"stroke: none; stroke-width: 1.0;\" width=\"80\" x=\"60\" y=\"111\"/><rect fill=\"#000000\" height=\"8\" style=\"stroke: none; stroke-width: 1.0;\" width=\"80\" x=\"60\" y=\"129\"/><g id=\"E1.E2\"><a href=\"psysml:63691cb2-c1ae-4262-a628-287378f10d06\" target=\"_top\" title=\"psysml:63691cb2-c1ae-4262-a628-287378f10d06\" xlink:actuate=\"onRequest\" xlink:href=\"psysml:63691cb2-c1ae-4262-a628-287378f10d06\" xlink:show=\"new\" xlink:title=\"psysml:63691cb2-c1ae-4262-a628-287378f10d06\" xlink:type=\"simple\"><rect fill=\"#FFFFFF\" height=\"42.9375\" id=\"E2\" rx=\"10\" ry=\"10\" style=\"stroke: #383838; stroke-width: 1.5;\" width=\"60\" x=\"118\" y=\"58\"/><rect fill=\"#F8F8F8\" height=\"37.9375\" rx=\"10\" ry=\"10\" style=\"stroke: #F8F8F8; stroke-width: 1.5;\" width=\"60\" x=\"118\" y=\"58\"/><rect fill=\"#F8F8F8\" height=\"10\" style=\"stroke: #F8F8F8; stroke-width: 1.5;\" width=\"60\" x=\"118\" y=\"85.9375\"/><rect fill=\"none\" height=\"42.9375\" id=\"E2\" rx=\"10\" ry=\"10\" style=\"stroke: #383838; stroke-width: 1.5;\" width=\"60\" x=\"118\" y=\"58\"/><text fill=\"#000000\" font-family=\"sans-serif\" font-size=\"12\" font-style=\"italic\" lengthAdjust=\"spacingAndGlyphs\" textLength=\"53\" x=\"121.5\" y=\"74.1387\">«action»</text><text fill=\"#000000\" font-family=\"sans-serif\" font-size=\"12\" lengthAdjust=\"spacingAndGlyphs\" textLength=\"16\" x=\"140\" y=\"88.1074\">A1</text></a></g><g id=\"E1.E3\"><a href=\"psysml:c6acf79a-793e-4497-aa33-887aafacc071\" target=\"_top\" title=\"psysml:c6acf79a-793e-4497-aa33-887aafacc071\" xlink:actuate=\"onRequest\" xlink:href=\"psysml:c6acf79a-793e-4497-aa33-887aafacc071\" xlink:show=\"new\" xlink:title=\"psysml:c6acf79a-793e-4497-aa33-887aafacc071\" xlink:type=\"simple\"><rect fill=\"#FFFFFF\" height=\"42.9375\" id=\"E3\" rx=\"10\" ry=\"10\" style=\"stroke: #383838; stroke-width: 1.5;\" width=\"60\" x=\"23\" y=\"58\"/><rect fill=\"#F8F8F8\" height=\"37.9375\" rx=\"10\" ry=\"10\" style=\"stroke: #F8F8F8; stroke-width: 1.5;\" width=\"60\" x=\"23\" y=\"58\"/><rect fill=\"#F8F8F8\" height=\"10\" style=\"stroke: #F8F8F8; stroke-width: 1.5;\" width=\"60\" x=\"23\" y=\"85.9375\"/><rect fill=\"none\" height=\"42.9375\" id=\"E3\" rx=\"10\" ry=\"10\" style=\"stroke: #383838; stroke-width: 1.5;\" width=\"60\" x=\"23\" y=\"58\"/><text fill=\"#000000\" font-family=\"sans-serif\" font-size=\"12\" font-style=\"italic\" lengthAdjust=\"spacingAndGlyphs\" textLength=\"53\" x=\"26.5\" y=\"74.1387\">«action»</text><text fill=\"#000000\" font-family=\"sans-serif\" font-size=\"12\" lengthAdjust=\"spacingAndGlyphs\" textLength=\"16\" x=\"45\" y=\"88.1074\">A2</text></a></g><g id=\"E1.E6\"><a href=\"psysml:2beb575e-cdbc-464e-9dd9-fc16008b4aec\" target=\"_top\" title=\"psysml:2beb575e-cdbc-464e-9dd9-fc16008b4aec\" xlink:actuate=\"onRequest\" xlink:href=\"psysml:2beb575e-cdbc-464e-9dd9-fc16008b4aec\" xlink:show=\"new\" xlink:title=\"psysml:2beb575e-cdbc-464e-9dd9-fc16008b4aec\" xlink:type=\"simple\"><rect fill=\"#FFFFFF\" height=\"42.9375\" id=\"E6\" rx=\"10\" ry=\"10\" style=\"stroke: #383838; stroke-width: 1.5;\" width=\"60\" x=\"23\" y=\"147\"/><rect fill=\"#F8F8F8\" height=\"37.9375\" rx=\"10\" ry=\"10\" style=\"stroke: #F8F8F8; stroke-width: 1.5;\" width=\"60\" x=\"23\" y=\"147\"/><rect fill=\"#F8F8F8\" height=\"10\" style=\"stroke: #F8F8F8; stroke-width: 1.5;\" width=\"60\" x=\"23\" y=\"174.9375\"/><rect fill=\"none\" height=\"42.9375\" id=\"E6\" rx=\"10\" ry=\"10\" style=\"stroke: #383838; stroke-width: 1.5;\" width=\"60\" x=\"23\" y=\"147\"/><text fill=\"#000000\" font-family=\"sans-serif\" font-size=\"12\" font-style=\"italic\" lengthAdjust=\"spacingAndGlyphs\" textLength=\"53\" x=\"26.5\" y=\"163.1387\">«action»</text><text fill=\"#000000\" font-family=\"sans-serif\" font-size=\"12\" lengthAdjust=\"spacingAndGlyphs\" textLength=\"16\" x=\"45\" y=\"177.1074\">B1</text></a></g><g id=\"E1.E7\"><a href=\"psysml:18cbd039-fda1-47ea-ae1e-03ddeff777e2\" target=\"_top\" title=\"psysml:18cbd039-fda1-47ea-ae1e-03ddeff777e2\" xlink:actuate=\"onRequest\" xlink:href=\"psysml:18cbd039-fda1-47ea-ae1e-03ddeff777e2\" xlink:show=\"new\" xlink:title=\"psysml:18cbd039-fda1-47ea-ae1e-03ddeff777e2\" xlink:type=\"simple\"><rect fill=\"#FFFFFF\" height=\"42.9375\" id=\"E7\" rx=\"10\" ry=\"10\" style=\"stroke: #383838; stroke-width: 1.5;\" width=\"60\" x=\"118\" y=\"147\"/><rect fill=\"#F8F8F8\" height=\"37.9375\" rx=\"10\" ry=\"10\" style=\"stroke: #F8F8F8; stroke-width: 1.5;\" width=\"60\" x=\"118\" y=\"147\"/><rect fill=\"#F8F8F8\" height=\"10\" style=\"stroke: #F8F8F8; stroke-width: 1.5;\" width=\"60\" x=\"118\" y=\"174.9375\"/><rect fill=\"none\" height=\"42.9375\" id=\"E7\" rx=\"10\" ry=\"10\" style=\"stroke: #383838; stroke-width: 1.5;\" width=\"60\" x=\"118\" y=\"147\"/><text fill=\"#000000\" font-family=\"sans-serif\" font-size=\"12\" font-style=\"italic\" lengthAdjust=\"spacingAndGlyphs\" textLength=\"53\" x=\"121.5\" y=\"163.1387\">«action»</text><text fill=\"#000000\" font-family=\"sans-serif\" font-size=\"12\" lengthAdjust=\"spacingAndGlyphs\" textLength=\"16\" x=\"140\" y=\"177.1074\">B2</text></a></g><!--MD5=[4d03bb2d0377dc85ccfab60ff574652b]\n",
       "link E2 to E4--><a href=\"psysml:32927b08-9b1f-4059-96b6-74ea858c5377\" target=\"_top\" title=\"psysml:32927b08-9b1f-4059-96b6-74ea858c5377\" xlink:actuate=\"onRequest\" xlink:href=\"psysml:32927b08-9b1f-4059-96b6-74ea858c5377\" xlink:show=\"new\" xlink:title=\"psysml:32927b08-9b1f-4059-96b6-74ea858c5377\" xlink:type=\"simple\"><path d=\"M118.42,101.14 C114.95,103.57 111.64,105.88 108.81,107.85 \" fill=\"none\" id=\"E2-&gt;E4\" style=\"stroke: #383838; stroke-width: 1.0;\"/><polygon fill=\"#383838\" points=\"104.3,111,113.9709,109.1361,108.4022,108.1413,109.397,102.5726,104.3,111\" style=\"stroke: #383838; stroke-width: 1.0;\"/></a><!--MD5=[af87c684e3b0d8be13c1a698a818ef1e]\n",
       "link E3 to E4--><a href=\"psysml:6834d0f3-19d8-44ac-95f5-e8bc4db68e8a\" target=\"_top\" title=\"psysml:6834d0f3-19d8-44ac-95f5-e8bc4db68e8a\" xlink:actuate=\"onRequest\" xlink:href=\"psysml:6834d0f3-19d8-44ac-95f5-e8bc4db68e8a\" xlink:show=\"new\" xlink:title=\"psysml:6834d0f3-19d8-44ac-95f5-e8bc4db68e8a\" xlink:type=\"simple\"><path d=\"M81.96,101.14 C85.36,103.57 88.6,105.88 91.37,107.85 \" fill=\"none\" id=\"E3-&gt;E4\" style=\"stroke: #383838; stroke-width: 1.0;\"/><polygon fill=\"#383838\" points=\"95.79,111,90.7801,102.5206,91.7175,108.0992,86.1388,109.0366,95.79,111\" style=\"stroke: #383838; stroke-width: 1.0;\"/></a><!--MD5=[1b7591eae5389033d8d09a9d6721a717]\n",
       "link E4 to E5--><a href=\"psysml:02aceb33-1759-43f7-b21c-5882a5f834e0\" target=\"_top\" title=\"psysml:02aceb33-1759-43f7-b21c-5882a5f834e0\" xlink:actuate=\"onRequest\" xlink:href=\"psysml:02aceb33-1759-43f7-b21c-5882a5f834e0\" xlink:show=\"new\" xlink:title=\"psysml:02aceb33-1759-43f7-b21c-5882a5f834e0\" xlink:type=\"simple\"><path d=\"M100,119.08 C100,120.38 100,121.95 100,123.55 \" fill=\"none\" id=\"E4-&gt;E5\" style=\"stroke: #383838; stroke-width: 1.0;\"/><polygon fill=\"#383838\" points=\"100,128.7,104,119.7,100,123.7,96,119.7,100,128.7\" style=\"stroke: #383838; stroke-width: 1.0;\"/></a><!--MD5=[9120cf2e5df3bff93db8f754bbbc09b4]\n",
       "link E5 to E6--><a href=\"psysml:f43de8b9-7272-426a-b0aa-70e703f3a468\" target=\"_top\" title=\"psysml:f43de8b9-7272-426a-b0aa-70e703f3a468\" xlink:actuate=\"onRequest\" xlink:href=\"psysml:f43de8b9-7272-426a-b0aa-70e703f3a468\" xlink:show=\"new\" xlink:title=\"psysml:f43de8b9-7272-426a-b0aa-70e703f3a468\" xlink:type=\"simple\"><path d=\"M95.66,137.09 C93.25,138.81 89.99,141.13 86.35,143.73 \" fill=\"none\" id=\"E5-&gt;E6\" style=\"stroke: #383838; stroke-width: 1.0;\"/><polygon fill=\"#383838\" points=\"81.93,146.88,91.5812,144.9166,86.0025,143.9792,86.9399,138.4006,81.93,146.88\" style=\"stroke: #383838; stroke-width: 1.0;\"/></a><!--MD5=[3a9b96bfbf6b6ad89c494e81751bda47]\n",
       "link E5 to E7--><a href=\"psysml:6de5063b-eb84-4499-9c8a-3a0354e3d885\" target=\"_top\" title=\"psysml:6de5063b-eb84-4499-9c8a-3a0354e3d885\" xlink:actuate=\"onRequest\" xlink:href=\"psysml:6de5063b-eb84-4499-9c8a-3a0354e3d885\" xlink:show=\"new\" xlink:title=\"psysml:6de5063b-eb84-4499-9c8a-3a0354e3d885\" xlink:type=\"simple\"><path d=\"M104.43,137.09 C106.9,138.81 110.22,141.13 113.94,143.73 \" fill=\"none\" id=\"E5-&gt;E7\" style=\"stroke: #383838; stroke-width: 1.0;\"/><polygon fill=\"#383838\" points=\"118.46,146.88,113.3827,138.4407,114.3645,144.0117,108.7935,144.9935,118.46,146.88\" style=\"stroke: #383838; stroke-width: 1.0;\"/></a><!--MD5=[b8709ce2dfaa7826e761d68aa206bbfe]\n",
       "@startuml\r\n",
       "skinparam ranksep 10\r\n",
       "skinparam rectangle {\r\n",
       " backgroundColor<<block>> LightGreen\r\n",
       "}\r\n",
       " skinparam monochrome true\r\n",
       "skinparam classbackgroundcolor white\r\n",
       "skinparam shadowing false\r\n",
       "skinparam wrapWidth 300\r\n",
       "hide circle\r\n",
       "\r\n",
       "rec def \"ControlNodeTest\" as E1  <<(T,blue)action def>> [[psysml:8a19e2dd-7f31-4291-b841-c8e7ad6ceaae ]] {\r\n",
       "rec usage \"A1\" as E2  <<(T,blue)action>> [[psysml:63691cb2-c1ae-4262-a628-287378f10d06 ]] {\r\n",
       "}\r\n",
       "\r\n",
       "rec usage \"A2\" as E3  <<(T,blue)action>> [[psysml:c6acf79a-793e-4497-aa33-887aafacc071 ]] {\r\n",
       "}\r\n",
       "\r\n",
       "join \"J\" as E4  [[psysml:9118671e-8e40-41ce-bc29-e44727581a0d ]] \r\n",
       "fork \"F\" as E5  [[psysml:3c4d5a48-0835-4406-bc0d-d635a7475922 ]] \r\n",
       "rec usage \"B1\" as E6  <<(T,blue)action>> [[psysml:2beb575e-cdbc-464e-9dd9-fc16008b4aec ]] {\r\n",
       "}\r\n",
       "\r\n",
       "rec usage \"B2\" as E7  <<(T,blue)action>> [[psysml:18cbd039-fda1-47ea-ae1e-03ddeff777e2 ]] {\r\n",
       "}\r\n",
       "\r\n",
       "}\r\n",
       "\r\n",
       "E2 - -> E4 [[psysml:32927b08-9b1f-4059-96b6-74ea858c5377 ]] \r\n",
       "E3 - -> E4 [[psysml:6834d0f3-19d8-44ac-95f5-e8bc4db68e8a ]] \r\n",
       "E4 - -> E5 [[psysml:02aceb33-1759-43f7-b21c-5882a5f834e0 ]] \r\n",
       "E5 - -> E6 [[psysml:f43de8b9-7272-426a-b0aa-70e703f3a468 ]] \r\n",
       "E5 - -> E7 [[psysml:6de5063b-eb84-4499-9c8a-3a0354e3d885 ]] \r\n",
       "@enduml\r\n",
       "\n",
       "PlantUML version 1.2020.13(Sat Jun 13 12:26:38 UTC 2020)\n",
       "(EPL source distribution)\n",
       "Java Runtime: OpenJDK Runtime Environment\n",
       "JVM: OpenJDK 64-Bit Server VM\n",
       "Default Encoding: UTF-8\n",
       "Language: en\n",
       "Country: null\n",
       "--></g></svg>"
      ]
     },
     "execution_count": 5,
     "metadata": {},
     "output_type": "execute_result"
    }
   ],
   "source": [
    "%viz --style=\"COMPTREE\" --view=\"Interconnection\" \"ControlNodeTest\""
   ]
  },
  {
   "cell_type": "code",
   "execution_count": 6,
   "id": "juvenile-niagara",
   "metadata": {
    "execution": {
     "iopub.execute_input": "2021-03-26T15:42:06.927907Z",
     "iopub.status.busy": "2021-03-26T15:42:06.927019Z",
     "iopub.status.idle": "2021-03-26T15:42:06.977138Z",
     "shell.execute_reply": "2021-03-26T15:42:06.974905Z"
    }
   },
   "outputs": [
    {
     "data": {
      "image/svg+xml": [
       "<?xml version=\"1.0\" encoding=\"UTF-8\" standalone=\"no\"?><svg xmlns=\"http://www.w3.org/2000/svg\" xmlns:xlink=\"http://www.w3.org/1999/xlink\" contentScriptType=\"application/ecmascript\" contentStyleType=\"text/css\" height=\"211px\" preserveAspectRatio=\"none\" style=\"width:205px;height:211px;\" version=\"1.1\" viewBox=\"0 0 205 211\" width=\"205px\" zoomAndPan=\"magnify\"><defs/><g><!--MD5=[fbc87193dbaf4d95561dea2c320d4a47]\n",
       "cluster E1--><a href=\"psysml:8a19e2dd-7f31-4291-b841-c8e7ad6ceaae\" target=\"_top\" title=\"psysml:8a19e2dd-7f31-4291-b841-c8e7ad6ceaae\" xlink:actuate=\"onRequest\" xlink:href=\"psysml:8a19e2dd-7f31-4291-b841-c8e7ad6ceaae\" xlink:show=\"new\" xlink:title=\"psysml:8a19e2dd-7f31-4291-b841-c8e7ad6ceaae\" xlink:type=\"simple\"><rect fill=\"#FFFFFF\" height=\"193\" id=\"E1\" style=\"stroke: #383838; stroke-width: 1.5;\" width=\"187\" x=\"7\" y=\"7\"/><rect fill=\"#F8F8F8\" height=\"37.9375\" style=\"stroke: #383838; stroke-width: 1.5;\" width=\"187\" x=\"7\" y=\"7\"/><text fill=\"#000000\" font-family=\"sans-serif\" font-size=\"12\" font-style=\"italic\" lengthAdjust=\"spacingAndGlyphs\" textLength=\"77\" x=\"62\" y=\"23.1387\">«action def»</text><text fill=\"#000000\" font-family=\"sans-serif\" font-size=\"12\" lengthAdjust=\"spacingAndGlyphs\" textLength=\"105\" x=\"48\" y=\"37.1074\">ControlNodeTest</text></a><rect fill=\"#000000\" height=\"8\" style=\"stroke: none; stroke-width: 1.0;\" width=\"80\" x=\"60\" y=\"109\"/><rect fill=\"#000000\" height=\"8\" style=\"stroke: none; stroke-width: 1.0;\" width=\"80\" x=\"60\" y=\"125\"/><g id=\"E1.E2\"><a href=\"psysml:63691cb2-c1ae-4262-a628-287378f10d06\" target=\"_top\" title=\"psysml:63691cb2-c1ae-4262-a628-287378f10d06\" xlink:actuate=\"onRequest\" xlink:href=\"psysml:63691cb2-c1ae-4262-a628-287378f10d06\" xlink:show=\"new\" xlink:title=\"psysml:63691cb2-c1ae-4262-a628-287378f10d06\" xlink:type=\"simple\"><rect fill=\"#FFFFFF\" height=\"42.9375\" id=\"E2\" rx=\"10\" ry=\"10\" style=\"stroke: #383838; stroke-width: 1.5;\" width=\"60\" x=\"118\" y=\"58\"/><rect fill=\"#F8F8F8\" height=\"37.9375\" rx=\"10\" ry=\"10\" style=\"stroke: #F8F8F8; stroke-width: 1.5;\" width=\"60\" x=\"118\" y=\"58\"/><rect fill=\"#F8F8F8\" height=\"10\" style=\"stroke: #F8F8F8; stroke-width: 1.5;\" width=\"60\" x=\"118\" y=\"85.9375\"/><rect fill=\"none\" height=\"42.9375\" id=\"E2\" rx=\"10\" ry=\"10\" style=\"stroke: #383838; stroke-width: 1.5;\" width=\"60\" x=\"118\" y=\"58\"/><text fill=\"#000000\" font-family=\"sans-serif\" font-size=\"12\" font-style=\"italic\" lengthAdjust=\"spacingAndGlyphs\" textLength=\"53\" x=\"121.5\" y=\"74.1387\">«action»</text><text fill=\"#000000\" font-family=\"sans-serif\" font-size=\"12\" lengthAdjust=\"spacingAndGlyphs\" textLength=\"16\" x=\"140\" y=\"88.1074\">A1</text></a></g><g id=\"E1.E3\"><a href=\"psysml:c6acf79a-793e-4497-aa33-887aafacc071\" target=\"_top\" title=\"psysml:c6acf79a-793e-4497-aa33-887aafacc071\" xlink:actuate=\"onRequest\" xlink:href=\"psysml:c6acf79a-793e-4497-aa33-887aafacc071\" xlink:show=\"new\" xlink:title=\"psysml:c6acf79a-793e-4497-aa33-887aafacc071\" xlink:type=\"simple\"><rect fill=\"#FFFFFF\" height=\"42.9375\" id=\"E3\" rx=\"10\" ry=\"10\" style=\"stroke: #383838; stroke-width: 1.5;\" width=\"60\" x=\"23\" y=\"58\"/><rect fill=\"#F8F8F8\" height=\"37.9375\" rx=\"10\" ry=\"10\" style=\"stroke: #F8F8F8; stroke-width: 1.5;\" width=\"60\" x=\"23\" y=\"58\"/><rect fill=\"#F8F8F8\" height=\"10\" style=\"stroke: #F8F8F8; stroke-width: 1.5;\" width=\"60\" x=\"23\" y=\"85.9375\"/><rect fill=\"none\" height=\"42.9375\" id=\"E3\" rx=\"10\" ry=\"10\" style=\"stroke: #383838; stroke-width: 1.5;\" width=\"60\" x=\"23\" y=\"58\"/><text fill=\"#000000\" font-family=\"sans-serif\" font-size=\"12\" font-style=\"italic\" lengthAdjust=\"spacingAndGlyphs\" textLength=\"53\" x=\"26.5\" y=\"74.1387\">«action»</text><text fill=\"#000000\" font-family=\"sans-serif\" font-size=\"12\" lengthAdjust=\"spacingAndGlyphs\" textLength=\"16\" x=\"45\" y=\"88.1074\">A2</text></a></g><g id=\"E1.E6\"><a href=\"psysml:2beb575e-cdbc-464e-9dd9-fc16008b4aec\" target=\"_top\" title=\"psysml:2beb575e-cdbc-464e-9dd9-fc16008b4aec\" xlink:actuate=\"onRequest\" xlink:href=\"psysml:2beb575e-cdbc-464e-9dd9-fc16008b4aec\" xlink:show=\"new\" xlink:title=\"psysml:2beb575e-cdbc-464e-9dd9-fc16008b4aec\" xlink:type=\"simple\"><rect fill=\"#FFFFFF\" height=\"42.9375\" id=\"E6\" rx=\"10\" ry=\"10\" style=\"stroke: #383838; stroke-width: 1.5;\" width=\"60\" x=\"23\" y=\"141\"/><rect fill=\"#F8F8F8\" height=\"37.9375\" rx=\"10\" ry=\"10\" style=\"stroke: #F8F8F8; stroke-width: 1.5;\" width=\"60\" x=\"23\" y=\"141\"/><rect fill=\"#F8F8F8\" height=\"10\" style=\"stroke: #F8F8F8; stroke-width: 1.5;\" width=\"60\" x=\"23\" y=\"168.9375\"/><rect fill=\"none\" height=\"42.9375\" id=\"E6\" rx=\"10\" ry=\"10\" style=\"stroke: #383838; stroke-width: 1.5;\" width=\"60\" x=\"23\" y=\"141\"/><text fill=\"#000000\" font-family=\"sans-serif\" font-size=\"12\" font-style=\"italic\" lengthAdjust=\"spacingAndGlyphs\" textLength=\"53\" x=\"26.5\" y=\"157.1387\">«action»</text><text fill=\"#000000\" font-family=\"sans-serif\" font-size=\"12\" lengthAdjust=\"spacingAndGlyphs\" textLength=\"16\" x=\"45\" y=\"171.1074\">B1</text></a></g><g id=\"E1.E7\"><a href=\"psysml:18cbd039-fda1-47ea-ae1e-03ddeff777e2\" target=\"_top\" title=\"psysml:18cbd039-fda1-47ea-ae1e-03ddeff777e2\" xlink:actuate=\"onRequest\" xlink:href=\"psysml:18cbd039-fda1-47ea-ae1e-03ddeff777e2\" xlink:show=\"new\" xlink:title=\"psysml:18cbd039-fda1-47ea-ae1e-03ddeff777e2\" xlink:type=\"simple\"><rect fill=\"#FFFFFF\" height=\"42.9375\" id=\"E7\" rx=\"10\" ry=\"10\" style=\"stroke: #383838; stroke-width: 1.5;\" width=\"60\" x=\"118\" y=\"141\"/><rect fill=\"#F8F8F8\" height=\"37.9375\" rx=\"10\" ry=\"10\" style=\"stroke: #F8F8F8; stroke-width: 1.5;\" width=\"60\" x=\"118\" y=\"141\"/><rect fill=\"#F8F8F8\" height=\"10\" style=\"stroke: #F8F8F8; stroke-width: 1.5;\" width=\"60\" x=\"118\" y=\"168.9375\"/><rect fill=\"none\" height=\"42.9375\" id=\"E7\" rx=\"10\" ry=\"10\" style=\"stroke: #383838; stroke-width: 1.5;\" width=\"60\" x=\"118\" y=\"141\"/><text fill=\"#000000\" font-family=\"sans-serif\" font-size=\"12\" font-style=\"italic\" lengthAdjust=\"spacingAndGlyphs\" textLength=\"53\" x=\"121.5\" y=\"157.1387\">«action»</text><text fill=\"#000000\" font-family=\"sans-serif\" font-size=\"12\" lengthAdjust=\"spacingAndGlyphs\" textLength=\"16\" x=\"140\" y=\"171.1074\">B2</text></a></g><!--MD5=[4d03bb2d0377dc85ccfab60ff574652b]\n",
       "link E2 to E4--><a href=\"psysml:32927b08-9b1f-4059-96b6-74ea858c5377\" target=\"_top\" title=\"psysml:32927b08-9b1f-4059-96b6-74ea858c5377\" xlink:actuate=\"onRequest\" xlink:href=\"psysml:32927b08-9b1f-4059-96b6-74ea858c5377\" xlink:show=\"new\" xlink:title=\"psysml:32927b08-9b1f-4059-96b6-74ea858c5377\" xlink:type=\"simple\"><path d=\"M117.87,100.27 C114.67,102.37 111.63,104.37 108.98,106.1 \" fill=\"none\" id=\"E2-&gt;E4\" style=\"stroke: #383838; stroke-width: 1.0; stroke-dasharray: 7.0,7.0;\"/><polygon fill=\"#383838\" points=\"104.72,108.9,114.4401,107.3128,108.9021,106.1595,110.0554,100.6215,104.72,108.9\" style=\"stroke: #383838; stroke-width: 1.0;\"/></a><!--MD5=[af87c684e3b0d8be13c1a698a818ef1e]\n",
       "link E3 to E4--><a href=\"psysml:6834d0f3-19d8-44ac-95f5-e8bc4db68e8a\" target=\"_top\" title=\"psysml:6834d0f3-19d8-44ac-95f5-e8bc4db68e8a\" xlink:actuate=\"onRequest\" xlink:href=\"psysml:6834d0f3-19d8-44ac-95f5-e8bc4db68e8a\" xlink:show=\"new\" xlink:title=\"psysml:6834d0f3-19d8-44ac-95f5-e8bc4db68e8a\" xlink:type=\"simple\"><path d=\"M83.03,100.63 C85.85,102.52 88.54,104.32 90.9,105.9 \" fill=\"none\" id=\"E3-&gt;E4\" style=\"stroke: #383838; stroke-width: 1.0; stroke-dasharray: 7.0,7.0;\"/><polygon fill=\"#383838\" points=\"95.26,108.82,90.0101,100.487,91.1063,106.0366,85.5567,107.1328,95.26,108.82\" style=\"stroke: #383838; stroke-width: 1.0;\"/></a><!--MD5=[1b7591eae5389033d8d09a9d6721a717]\n",
       "link E4 to E5--><a href=\"psysml:02aceb33-1759-43f7-b21c-5882a5f834e0\" target=\"_top\" title=\"psysml:02aceb33-1759-43f7-b21c-5882a5f834e0\" xlink:actuate=\"onRequest\" xlink:href=\"psysml:02aceb33-1759-43f7-b21c-5882a5f834e0\" xlink:show=\"new\" xlink:title=\"psysml:02aceb33-1759-43f7-b21c-5882a5f834e0\" xlink:type=\"simple\"><path d=\"M100,117.25 C100,118.05 100,118.94 100,119.86 \" fill=\"none\" id=\"E4-&gt;E5\" style=\"stroke: #383838; stroke-width: 1.0; stroke-dasharray: 7.0,7.0;\"/><polygon fill=\"#383838\" points=\"100,124.96,104,115.96,100,119.96,96,115.96,100,124.96\" style=\"stroke: #383838; stroke-width: 1.0;\"/></a><!--MD5=[9120cf2e5df3bff93db8f754bbbc09b4]\n",
       "link E5 to E6--><a href=\"psysml:f43de8b9-7272-426a-b0aa-70e703f3a468\" target=\"_top\" title=\"psysml:f43de8b9-7272-426a-b0aa-70e703f3a468\" xlink:actuate=\"onRequest\" xlink:href=\"psysml:f43de8b9-7272-426a-b0aa-70e703f3a468\" xlink:show=\"new\" xlink:title=\"psysml:f43de8b9-7272-426a-b0aa-70e703f3a468\" xlink:type=\"simple\"><path d=\"M95.32,133.14 C93.21,134.55 90.52,136.35 87.53,138.36 \" fill=\"none\" id=\"E5-&gt;E6\" style=\"stroke: #383838; stroke-width: 1.0; stroke-dasharray: 7.0,7.0;\"/><polygon fill=\"#383838\" points=\"83.27,141.21,92.9706,139.5074,87.4192,138.42,88.5066,132.8687,83.27,141.21\" style=\"stroke: #383838; stroke-width: 1.0;\"/></a><!--MD5=[3a9b96bfbf6b6ad89c494e81751bda47]\n",
       "link E5 to E7--><a href=\"psysml:6de5063b-eb84-4499-9c8a-3a0354e3d885\" target=\"_top\" title=\"psysml:6de5063b-eb84-4499-9c8a-3a0354e3d885\" xlink:actuate=\"onRequest\" xlink:href=\"psysml:6de5063b-eb84-4499-9c8a-3a0354e3d885\" xlink:show=\"new\" xlink:title=\"psysml:6de5063b-eb84-4499-9c8a-3a0354e3d885\" xlink:type=\"simple\"><path d=\"M104.78,133.14 C107.16,134.7 110.28,136.75 113.75,139.02 \" fill=\"none\" id=\"E5-&gt;E7\" style=\"stroke: #383838; stroke-width: 1.0; stroke-dasharray: 7.0,7.0;\"/><polygon fill=\"#383838\" points=\"117.96,141.79,112.6246,133.5115,113.7779,139.0495,108.2399,140.2028,117.96,141.79\" style=\"stroke: #383838; stroke-width: 1.0;\"/></a><!--MD5=[cd97ecf4e69e6d63d49d473dfc68f5de]\n",
       "@startuml\r\n",
       "skinparam ranksep 8\r\n",
       " skinparam monochrome true\r\n",
       "skinparam classbackgroundcolor white\r\n",
       "skinparam shadowing false\r\n",
       "skinparam wrapWidth 300\r\n",
       "hide circle\r\n",
       "\r\n",
       "rec def \"ControlNodeTest\" as E1  <<(T,blue)action def>> [[psysml:8a19e2dd-7f31-4291-b841-c8e7ad6ceaae ]] {\r\n",
       "rec usage \"A1\" as E2  <<(T,blue)action>> [[psysml:63691cb2-c1ae-4262-a628-287378f10d06 ]] {\r\n",
       "}\r\n",
       "\r\n",
       "rec usage \"A2\" as E3  <<(T,blue)action>> [[psysml:c6acf79a-793e-4497-aa33-887aafacc071 ]] {\r\n",
       "}\r\n",
       "\r\n",
       "join \"J\" as E4  [[psysml:9118671e-8e40-41ce-bc29-e44727581a0d ]] \r\n",
       "fork \"F\" as E5  [[psysml:3c4d5a48-0835-4406-bc0d-d635a7475922 ]] \r\n",
       "rec usage \"B1\" as E6  <<(T,blue)action>> [[psysml:2beb575e-cdbc-464e-9dd9-fc16008b4aec ]] {\r\n",
       "}\r\n",
       "\r\n",
       "rec usage \"B2\" as E7  <<(T,blue)action>> [[psysml:18cbd039-fda1-47ea-ae1e-03ddeff777e2 ]] {\r\n",
       "}\r\n",
       "\r\n",
       "}\r\n",
       "\r\n",
       "E2 ..> E4 [[psysml:32927b08-9b1f-4059-96b6-74ea858c5377 ]] \r\n",
       "E3 ..> E4 [[psysml:6834d0f3-19d8-44ac-95f5-e8bc4db68e8a ]] \r\n",
       "E4 ..> E5 [[psysml:02aceb33-1759-43f7-b21c-5882a5f834e0 ]] \r\n",
       "E5 ..> E6 [[psysml:f43de8b9-7272-426a-b0aa-70e703f3a468 ]] \r\n",
       "E5 ..> E7 [[psysml:6de5063b-eb84-4499-9c8a-3a0354e3d885 ]] \r\n",
       "@enduml\r\n",
       "\n",
       "PlantUML version 1.2020.13(Sat Jun 13 12:26:38 UTC 2020)\n",
       "(EPL source distribution)\n",
       "Java Runtime: OpenJDK Runtime Environment\n",
       "JVM: OpenJDK 64-Bit Server VM\n",
       "Default Encoding: UTF-8\n",
       "Language: en\n",
       "Country: null\n",
       "--></g></svg>"
      ]
     },
     "execution_count": 6,
     "metadata": {},
     "output_type": "execute_result"
    }
   ],
   "source": [
    "%viz --style=\"COMPTREE\" --view=\"Action\" \"ControlNodeTest\""
   ]
  },
  {
   "cell_type": "code",
   "execution_count": 7,
   "id": "concrete-dance",
   "metadata": {
    "execution": {
     "iopub.execute_input": "2021-03-26T15:42:07.030081Z",
     "iopub.status.busy": "2021-03-26T15:42:07.028762Z",
     "iopub.status.idle": "2021-03-26T15:42:07.131942Z",
     "shell.execute_reply": "2021-03-26T15:42:07.131624Z"
    }
   },
   "outputs": [
    {
     "data": {
      "image/svg+xml": [
       "<?xml version=\"1.0\" encoding=\"UTF-8\" standalone=\"no\"?><svg xmlns=\"http://www.w3.org/2000/svg\" xmlns:xlink=\"http://www.w3.org/1999/xlink\" contentScriptType=\"application/ecmascript\" contentStyleType=\"text/css\" height=\"191px\" preserveAspectRatio=\"none\" style=\"width:129px;height:191px;\" version=\"1.1\" viewBox=\"0 0 129 191\" width=\"129px\" zoomAndPan=\"magnify\"><defs/><g><!--MD5=[43c9051892ef23e1a46a86907403d788]\n",
       "class E1--><a href=\"psysml:8a19e2dd-7f31-4291-b841-c8e7ad6ceaae\" target=\"_top\" title=\"psysml:8a19e2dd-7f31-4291-b841-c8e7ad6ceaae\" xlink:actuate=\"onRequest\" xlink:href=\"psysml:8a19e2dd-7f31-4291-b841-c8e7ad6ceaae\" xlink:show=\"new\" xlink:title=\"psysml:8a19e2dd-7f31-4291-b841-c8e7ad6ceaae\" xlink:type=\"simple\"><rect fill=\"#FFFFFF\" height=\"173.1797\" id=\"E1\" style=\"stroke: #383838; stroke-width: 1.5;\" width=\"111\" x=\"7\" y=\"7\"/><text fill=\"#000000\" font-family=\"sans-serif\" font-size=\"12\" font-style=\"italic\" lengthAdjust=\"spacingAndGlyphs\" textLength=\"77\" x=\"24\" y=\"23.1387\">«action def»</text><text fill=\"#000000\" font-family=\"sans-serif\" font-size=\"12\" lengthAdjust=\"spacingAndGlyphs\" textLength=\"105\" x=\"10\" y=\"37.1074\">ControlNodeTest</text><line style=\"stroke: #383838; stroke-width: 1.5;\" x1=\"8\" x2=\"117\" y1=\"44.9375\" y2=\"44.9375\"/><text fill=\"#000000\" font-family=\"sans-serif\" font-size=\"11\" lengthAdjust=\"spacingAndGlyphs\" textLength=\"14\" x=\"13\" y=\"75.9526\">A1</text><text fill=\"#000000\" font-family=\"sans-serif\" font-size=\"11\" lengthAdjust=\"spacingAndGlyphs\" textLength=\"14\" x=\"13\" y=\"88.7573\">A2</text><text fill=\"#000000\" font-family=\"sans-serif\" font-size=\"11\" lengthAdjust=\"spacingAndGlyphs\" textLength=\"15\" x=\"13\" y=\"101.562\">B1</text><text fill=\"#000000\" font-family=\"sans-serif\" font-size=\"11\" lengthAdjust=\"spacingAndGlyphs\" textLength=\"15\" x=\"13\" y=\"114.3667\">B2</text><line style=\"stroke: #383838; stroke-width: 1.0;\" x1=\"8\" x2=\"42\" y1=\"59.3398\" y2=\"59.3398\"/><text fill=\"#000000\" font-family=\"sans-serif\" font-size=\"11\" lengthAdjust=\"spacingAndGlyphs\" textLength=\"41\" x=\"42\" y=\"62.6479\">actions</text><line style=\"stroke: #383838; stroke-width: 1.0;\" x1=\"83\" x2=\"117\" y1=\"59.3398\" y2=\"59.3398\"/><text fill=\"#000000\" font-family=\"sans-serif\" font-size=\"11\" lengthAdjust=\"spacingAndGlyphs\" textLength=\"6\" x=\"13\" y=\"143.9761\">F</text><line style=\"stroke: #383838; stroke-width: 1.0;\" x1=\"8\" x2=\"33.5\" y1=\"127.3633\" y2=\"127.3633\"/><text fill=\"#000000\" font-family=\"sans-serif\" font-size=\"11\" lengthAdjust=\"spacingAndGlyphs\" textLength=\"58\" x=\"33.5\" y=\"130.6714\">forkNodes</text><line style=\"stroke: #383838; stroke-width: 1.0;\" x1=\"91.5\" x2=\"117\" y1=\"127.3633\" y2=\"127.3633\"/><text fill=\"#000000\" font-family=\"sans-serif\" font-size=\"11\" lengthAdjust=\"spacingAndGlyphs\" textLength=\"3\" x=\"13\" y=\"173.5854\">J</text><line style=\"stroke: #383838; stroke-width: 1.0;\" x1=\"8\" x2=\"34.5\" y1=\"156.9727\" y2=\"156.9727\"/><text fill=\"#000000\" font-family=\"sans-serif\" font-size=\"11\" lengthAdjust=\"spacingAndGlyphs\" textLength=\"56\" x=\"34.5\" y=\"160.2808\">joinNodes</text><line style=\"stroke: #383838; stroke-width: 1.0;\" x1=\"90.5\" x2=\"117\" y1=\"156.9727\" y2=\"156.9727\"/></a><!--MD5=[1216f07cd1dd6288e110c930d23648b2]\n",
       "@startuml\r\n",
       " skinparam monochrome true\r\n",
       "skinparam classbackgroundcolor white\r\n",
       "skinparam shadowing false\r\n",
       "skinparam wrapWidth 300\r\n",
       "hide circle\r\n",
       "\r\n",
       "comp def \"ControlNodeTest\" as E1  <<(T,blue)action def>> [[psysml:8a19e2dd-7f31-4291-b841-c8e7ad6ceaae ]] {\r\n",
       "- - actions - -\r\n",
       "A1\r\n",
       "A2\r\n",
       "B1\r\n",
       "B2\r\n",
       "- - forkNodes - -\r\n",
       "F\r\n",
       "- - joinNodes - -\r\n",
       "J\r\n",
       "}\r\n",
       "@enduml\r\n",
       "\n",
       "PlantUML version 1.2020.13(Sat Jun 13 12:26:38 UTC 2020)\n",
       "(EPL source distribution)\n",
       "Java Runtime: OpenJDK Runtime Environment\n",
       "JVM: OpenJDK 64-Bit Server VM\n",
       "Default Encoding: UTF-8\n",
       "Language: en\n",
       "Country: null\n",
       "--></g></svg>"
      ]
     },
     "execution_count": 7,
     "metadata": {},
     "output_type": "execute_result"
    }
   ],
   "source": [
    "%viz --style=\"COMPTREE\" --view=\"Sequence\" \"ControlNodeTest\""
   ]
  },
  {
   "cell_type": "code",
   "execution_count": 8,
   "id": "enormous-hacker",
   "metadata": {
    "execution": {
     "iopub.execute_input": "2021-03-26T15:42:07.187334Z",
     "iopub.status.busy": "2021-03-26T15:42:07.185924Z",
     "iopub.status.idle": "2021-03-26T15:42:07.232452Z",
     "shell.execute_reply": "2021-03-26T15:42:07.230944Z"
    }
   },
   "outputs": [
    {
     "data": {
      "image/svg+xml": [
       "<?xml version=\"1.0\" encoding=\"UTF-8\" standalone=\"no\"?><svg xmlns=\"http://www.w3.org/2000/svg\" xmlns:xlink=\"http://www.w3.org/1999/xlink\" contentScriptType=\"application/ecmascript\" contentStyleType=\"text/css\" height=\"367px\" preserveAspectRatio=\"none\" style=\"width:205px;height:367px;\" version=\"1.1\" viewBox=\"0 0 205 367\" width=\"205px\" zoomAndPan=\"magnify\"><defs/><g><!--MD5=[fbc87193dbaf4d95561dea2c320d4a47]\n",
       "cluster E1--><a href=\"psysml:8a19e2dd-7f31-4291-b841-c8e7ad6ceaae\" target=\"_top\" title=\"psysml:8a19e2dd-7f31-4291-b841-c8e7ad6ceaae\" xlink:actuate=\"onRequest\" xlink:href=\"psysml:8a19e2dd-7f31-4291-b841-c8e7ad6ceaae\" xlink:show=\"new\" xlink:title=\"psysml:8a19e2dd-7f31-4291-b841-c8e7ad6ceaae\" xlink:type=\"simple\"><rect fill=\"#FFFFFF\" height=\"349\" id=\"E1\" style=\"stroke: #383838; stroke-width: 1.5;\" width=\"187\" x=\"7\" y=\"7\"/><rect fill=\"#F8F8F8\" height=\"37.9375\" style=\"stroke: #383838; stroke-width: 1.5;\" width=\"187\" x=\"7\" y=\"7\"/><text fill=\"#000000\" font-family=\"sans-serif\" font-size=\"12\" font-style=\"italic\" lengthAdjust=\"spacingAndGlyphs\" textLength=\"77\" x=\"62\" y=\"23.1387\">«action def»</text><text fill=\"#000000\" font-family=\"sans-serif\" font-size=\"12\" lengthAdjust=\"spacingAndGlyphs\" textLength=\"105\" x=\"48\" y=\"37.1074\">ControlNodeTest</text></a><rect fill=\"#000000\" height=\"8\" style=\"stroke: none; stroke-width: 1.0;\" width=\"80\" x=\"60\" y=\"161\"/><rect fill=\"#000000\" height=\"8\" style=\"stroke: none; stroke-width: 1.0;\" width=\"80\" x=\"60\" y=\"229\"/><g id=\"E1.E2\"><a href=\"psysml:63691cb2-c1ae-4262-a628-287378f10d06\" target=\"_top\" title=\"psysml:63691cb2-c1ae-4262-a628-287378f10d06\" xlink:actuate=\"onRequest\" xlink:href=\"psysml:63691cb2-c1ae-4262-a628-287378f10d06\" xlink:show=\"new\" xlink:title=\"psysml:63691cb2-c1ae-4262-a628-287378f10d06\" xlink:type=\"simple\"><rect fill=\"#FFFFFF\" height=\"42.9375\" id=\"E2\" rx=\"10\" ry=\"10\" style=\"stroke: #383838; stroke-width: 1.5;\" width=\"60\" x=\"118\" y=\"58\"/><rect fill=\"#F8F8F8\" height=\"37.9375\" rx=\"10\" ry=\"10\" style=\"stroke: #F8F8F8; stroke-width: 1.5;\" width=\"60\" x=\"118\" y=\"58\"/><rect fill=\"#F8F8F8\" height=\"10\" style=\"stroke: #F8F8F8; stroke-width: 1.5;\" width=\"60\" x=\"118\" y=\"85.9375\"/><rect fill=\"none\" height=\"42.9375\" id=\"E2\" rx=\"10\" ry=\"10\" style=\"stroke: #383838; stroke-width: 1.5;\" width=\"60\" x=\"118\" y=\"58\"/><text fill=\"#000000\" font-family=\"sans-serif\" font-size=\"12\" font-style=\"italic\" lengthAdjust=\"spacingAndGlyphs\" textLength=\"53\" x=\"121.5\" y=\"74.1387\">«action»</text><text fill=\"#000000\" font-family=\"sans-serif\" font-size=\"12\" lengthAdjust=\"spacingAndGlyphs\" textLength=\"16\" x=\"140\" y=\"88.1074\">A1</text></a></g><g id=\"E1.E3\"><a href=\"psysml:c6acf79a-793e-4497-aa33-887aafacc071\" target=\"_top\" title=\"psysml:c6acf79a-793e-4497-aa33-887aafacc071\" xlink:actuate=\"onRequest\" xlink:href=\"psysml:c6acf79a-793e-4497-aa33-887aafacc071\" xlink:show=\"new\" xlink:title=\"psysml:c6acf79a-793e-4497-aa33-887aafacc071\" xlink:type=\"simple\"><rect fill=\"#FFFFFF\" height=\"42.9375\" id=\"E3\" rx=\"10\" ry=\"10\" style=\"stroke: #383838; stroke-width: 1.5;\" width=\"60\" x=\"23\" y=\"58\"/><rect fill=\"#F8F8F8\" height=\"37.9375\" rx=\"10\" ry=\"10\" style=\"stroke: #F8F8F8; stroke-width: 1.5;\" width=\"60\" x=\"23\" y=\"58\"/><rect fill=\"#F8F8F8\" height=\"10\" style=\"stroke: #F8F8F8; stroke-width: 1.5;\" width=\"60\" x=\"23\" y=\"85.9375\"/><rect fill=\"none\" height=\"42.9375\" id=\"E3\" rx=\"10\" ry=\"10\" style=\"stroke: #383838; stroke-width: 1.5;\" width=\"60\" x=\"23\" y=\"58\"/><text fill=\"#000000\" font-family=\"sans-serif\" font-size=\"12\" font-style=\"italic\" lengthAdjust=\"spacingAndGlyphs\" textLength=\"53\" x=\"26.5\" y=\"74.1387\">«action»</text><text fill=\"#000000\" font-family=\"sans-serif\" font-size=\"12\" lengthAdjust=\"spacingAndGlyphs\" textLength=\"16\" x=\"45\" y=\"88.1074\">A2</text></a></g><g id=\"E1.E6\"><a href=\"psysml:2beb575e-cdbc-464e-9dd9-fc16008b4aec\" target=\"_top\" title=\"psysml:2beb575e-cdbc-464e-9dd9-fc16008b4aec\" xlink:actuate=\"onRequest\" xlink:href=\"psysml:2beb575e-cdbc-464e-9dd9-fc16008b4aec\" xlink:show=\"new\" xlink:title=\"psysml:2beb575e-cdbc-464e-9dd9-fc16008b4aec\" xlink:type=\"simple\"><rect fill=\"#FFFFFF\" height=\"42.9375\" id=\"E6\" rx=\"10\" ry=\"10\" style=\"stroke: #383838; stroke-width: 1.5;\" width=\"60\" x=\"23\" y=\"297\"/><rect fill=\"#F8F8F8\" height=\"37.9375\" rx=\"10\" ry=\"10\" style=\"stroke: #F8F8F8; stroke-width: 1.5;\" width=\"60\" x=\"23\" y=\"297\"/><rect fill=\"#F8F8F8\" height=\"10\" style=\"stroke: #F8F8F8; stroke-width: 1.5;\" width=\"60\" x=\"23\" y=\"324.9375\"/><rect fill=\"none\" height=\"42.9375\" id=\"E6\" rx=\"10\" ry=\"10\" style=\"stroke: #383838; stroke-width: 1.5;\" width=\"60\" x=\"23\" y=\"297\"/><text fill=\"#000000\" font-family=\"sans-serif\" font-size=\"12\" font-style=\"italic\" lengthAdjust=\"spacingAndGlyphs\" textLength=\"53\" x=\"26.5\" y=\"313.1387\">«action»</text><text fill=\"#000000\" font-family=\"sans-serif\" font-size=\"12\" lengthAdjust=\"spacingAndGlyphs\" textLength=\"16\" x=\"45\" y=\"327.1074\">B1</text></a></g><g id=\"E1.E7\"><a href=\"psysml:18cbd039-fda1-47ea-ae1e-03ddeff777e2\" target=\"_top\" title=\"psysml:18cbd039-fda1-47ea-ae1e-03ddeff777e2\" xlink:actuate=\"onRequest\" xlink:href=\"psysml:18cbd039-fda1-47ea-ae1e-03ddeff777e2\" xlink:show=\"new\" xlink:title=\"psysml:18cbd039-fda1-47ea-ae1e-03ddeff777e2\" xlink:type=\"simple\"><rect fill=\"#FFFFFF\" height=\"42.9375\" id=\"E7\" rx=\"10\" ry=\"10\" style=\"stroke: #383838; stroke-width: 1.5;\" width=\"60\" x=\"118\" y=\"297\"/><rect fill=\"#F8F8F8\" height=\"37.9375\" rx=\"10\" ry=\"10\" style=\"stroke: #F8F8F8; stroke-width: 1.5;\" width=\"60\" x=\"118\" y=\"297\"/><rect fill=\"#F8F8F8\" height=\"10\" style=\"stroke: #F8F8F8; stroke-width: 1.5;\" width=\"60\" x=\"118\" y=\"324.9375\"/><rect fill=\"none\" height=\"42.9375\" id=\"E7\" rx=\"10\" ry=\"10\" style=\"stroke: #383838; stroke-width: 1.5;\" width=\"60\" x=\"118\" y=\"297\"/><text fill=\"#000000\" font-family=\"sans-serif\" font-size=\"12\" font-style=\"italic\" lengthAdjust=\"spacingAndGlyphs\" textLength=\"53\" x=\"121.5\" y=\"313.1387\">«action»</text><text fill=\"#000000\" font-family=\"sans-serif\" font-size=\"12\" lengthAdjust=\"spacingAndGlyphs\" textLength=\"16\" x=\"140\" y=\"327.1074\">B2</text></a></g><!--MD5=[4d03bb2d0377dc85ccfab60ff574652b]\n",
       "link E2 to E4--><a href=\"psysml:32927b08-9b1f-4059-96b6-74ea858c5377\" target=\"_top\" title=\"psysml:32927b08-9b1f-4059-96b6-74ea858c5377\" xlink:actuate=\"onRequest\" xlink:href=\"psysml:32927b08-9b1f-4059-96b6-74ea858c5377\" xlink:show=\"new\" xlink:title=\"psysml:32927b08-9b1f-4059-96b6-74ea858c5377\" xlink:type=\"simple\"><path d=\"M136.13,101.14 C125.84,119.06 111.49,144.01 104.37,156.4 \" fill=\"none\" id=\"E2-&gt;E4\" style=\"stroke: #383838; stroke-width: 1.0;\"/><polygon fill=\"#383838\" points=\"101.79,160.88,109.7406,155.0673,104.2799,156.5441,102.8031,151.0834,101.79,160.88\" style=\"stroke: #383838; stroke-width: 1.0;\"/></a><!--MD5=[af87c684e3b0d8be13c1a698a818ef1e]\n",
       "link E3 to E4--><a href=\"psysml:6834d0f3-19d8-44ac-95f5-e8bc4db68e8a\" target=\"_top\" title=\"psysml:6834d0f3-19d8-44ac-95f5-e8bc4db68e8a\" xlink:actuate=\"onRequest\" xlink:href=\"psysml:6834d0f3-19d8-44ac-95f5-e8bc4db68e8a\" xlink:show=\"new\" xlink:title=\"psysml:6834d0f3-19d8-44ac-95f5-e8bc4db68e8a\" xlink:type=\"simple\"><path d=\"M64.62,101.14 C74.7,119.06 88.75,144.01 95.72,156.4 \" fill=\"none\" id=\"E3-&gt;E4\" style=\"stroke: #383838; stroke-width: 1.0;\"/><polygon fill=\"#383838\" points=\"98.25,160.88,97.3377,151.0735,95.8048,156.5187,90.3596,154.9858,98.25,160.88\" style=\"stroke: #383838; stroke-width: 1.0;\"/></a><!--MD5=[1b7591eae5389033d8d09a9d6721a717]\n",
       "link E4 to E5--><a href=\"psysml:02aceb33-1759-43f7-b21c-5882a5f834e0\" target=\"_top\" title=\"psysml:02aceb33-1759-43f7-b21c-5882a5f834e0\" xlink:actuate=\"onRequest\" xlink:href=\"psysml:02aceb33-1759-43f7-b21c-5882a5f834e0\" xlink:show=\"new\" xlink:title=\"psysml:02aceb33-1759-43f7-b21c-5882a5f834e0\" xlink:type=\"simple\"><path d=\"M100,169.18 C100,178.92 100,208.52 100,223.34 \" fill=\"none\" id=\"E4-&gt;E5\" style=\"stroke: #383838; stroke-width: 1.0;\"/><polygon fill=\"#383838\" points=\"100,228.69,104,219.69,100,223.69,96,219.69,100,228.69\" style=\"stroke: #383838; stroke-width: 1.0;\"/></a><!--MD5=[9120cf2e5df3bff93db8f754bbbc09b4]\n",
       "link E5 to E6--><a href=\"psysml:f43de8b9-7272-426a-b0aa-70e703f3a468\" target=\"_top\" title=\"psysml:f43de8b9-7272-426a-b0aa-70e703f3a468\" xlink:actuate=\"onRequest\" xlink:href=\"psysml:f43de8b9-7272-426a-b0aa-70e703f3a468\" xlink:show=\"new\" xlink:title=\"psysml:f43de8b9-7272-426a-b0aa-70e703f3a468\" xlink:type=\"simple\"><path d=\"M98.21,237.17 C93.16,246.14 78.41,272.36 67.11,292.43 \" fill=\"none\" id=\"E5-&gt;E6\" style=\"stroke: #383838; stroke-width: 1.0;\"/><polygon fill=\"#383838\" points=\"64.61,296.87,72.5151,290.9955,67.0661,292.5148,65.5467,287.0658,64.61,296.87\" style=\"stroke: #383838; stroke-width: 1.0;\"/></a><!--MD5=[3a9b96bfbf6b6ad89c494e81751bda47]\n",
       "link E5 to E7--><a href=\"psysml:6de5063b-eb84-4499-9c8a-3a0354e3d885\" target=\"_top\" title=\"psysml:6de5063b-eb84-4499-9c8a-3a0354e3d885\" xlink:actuate=\"onRequest\" xlink:href=\"psysml:6de5063b-eb84-4499-9c8a-3a0354e3d885\" xlink:show=\"new\" xlink:title=\"psysml:6de5063b-eb84-4499-9c8a-3a0354e3d885\" xlink:type=\"simple\"><path d=\"M101.82,237.17 C106.98,246.14 122.05,272.36 133.59,292.43 \" fill=\"none\" id=\"E5-&gt;E7\" style=\"stroke: #383838; stroke-width: 1.0;\"/><polygon fill=\"#383838\" points=\"136.14,296.87,135.1269,287.0734,133.6501,292.5341,128.1894,291.0573,136.14,296.87\" style=\"stroke: #383838; stroke-width: 1.0;\"/></a><!--MD5=[fe78045650c4973f4e121144a91d600d]\n",
       "@startuml\r\n",
       " skinparam monochrome true\r\n",
       "skinparam classbackgroundcolor white\r\n",
       "skinparam shadowing false\r\n",
       "skinparam wrapWidth 300\r\n",
       "hide circle\r\n",
       "\r\n",
       "rec def \"ControlNodeTest\" as E1  <<(T,blue)action def>> [[psysml:8a19e2dd-7f31-4291-b841-c8e7ad6ceaae ]] {\r\n",
       "rec usage \"A1\" as E2  <<(T,blue)action>> [[psysml:63691cb2-c1ae-4262-a628-287378f10d06 ]] {\r\n",
       "}\r\n",
       "\r\n",
       "rec usage \"A2\" as E3  <<(T,blue)action>> [[psysml:c6acf79a-793e-4497-aa33-887aafacc071 ]] {\r\n",
       "}\r\n",
       "\r\n",
       "join \"J\" as E4  [[psysml:9118671e-8e40-41ce-bc29-e44727581a0d ]] \r\n",
       "fork \"F\" as E5  [[psysml:3c4d5a48-0835-4406-bc0d-d635a7475922 ]] \r\n",
       "rec usage \"B1\" as E6  <<(T,blue)action>> [[psysml:2beb575e-cdbc-464e-9dd9-fc16008b4aec ]] {\r\n",
       "}\r\n",
       "\r\n",
       "rec usage \"B2\" as E7  <<(T,blue)action>> [[psysml:18cbd039-fda1-47ea-ae1e-03ddeff777e2 ]] {\r\n",
       "}\r\n",
       "\r\n",
       "}\r\n",
       "\r\n",
       "E2 - -> E4 [[psysml:32927b08-9b1f-4059-96b6-74ea858c5377 ]] \r\n",
       "E3 - -> E4 [[psysml:6834d0f3-19d8-44ac-95f5-e8bc4db68e8a ]] \r\n",
       "E4 - -> E5 [[psysml:02aceb33-1759-43f7-b21c-5882a5f834e0 ]] \r\n",
       "E5 - -> E6 [[psysml:f43de8b9-7272-426a-b0aa-70e703f3a468 ]] \r\n",
       "E5 - -> E7 [[psysml:6de5063b-eb84-4499-9c8a-3a0354e3d885 ]] \r\n",
       "@enduml\r\n",
       "\n",
       "PlantUML version 1.2020.13(Sat Jun 13 12:26:38 UTC 2020)\n",
       "(EPL source distribution)\n",
       "Java Runtime: OpenJDK Runtime Environment\n",
       "JVM: OpenJDK 64-Bit Server VM\n",
       "Default Encoding: UTF-8\n",
       "Language: en\n",
       "Country: null\n",
       "--></g></svg>"
      ]
     },
     "execution_count": 8,
     "metadata": {},
     "output_type": "execute_result"
    }
   ],
   "source": [
    "%viz --style=\"COMPTREE\" --view=\"MIXED\" \"ControlNodeTest\""
   ]
  },
  {
   "cell_type": "code",
   "execution_count": 9,
   "id": "sought-oregon",
   "metadata": {
    "execution": {
     "iopub.execute_input": "2021-03-26T15:42:07.282922Z",
     "iopub.status.busy": "2021-03-26T15:42:07.282468Z",
     "iopub.status.idle": "2021-03-26T15:42:07.321613Z",
     "shell.execute_reply": "2021-03-26T15:42:07.321934Z"
    }
   },
   "outputs": [
    {
     "data": {
      "image/svg+xml": [
       "<?xml version=\"1.0\" encoding=\"UTF-8\" standalone=\"no\"?><svg xmlns=\"http://www.w3.org/2000/svg\" xmlns:xlink=\"http://www.w3.org/1999/xlink\" contentScriptType=\"application/ecmascript\" contentStyleType=\"text/css\" height=\"367px\" preserveAspectRatio=\"none\" style=\"width:205px;height:367px;\" version=\"1.1\" viewBox=\"0 0 205 367\" width=\"205px\" zoomAndPan=\"magnify\"><defs/><g><!--MD5=[fbc87193dbaf4d95561dea2c320d4a47]\n",
       "cluster E1--><a href=\"psysml:8a19e2dd-7f31-4291-b841-c8e7ad6ceaae\" target=\"_top\" title=\"psysml:8a19e2dd-7f31-4291-b841-c8e7ad6ceaae\" xlink:actuate=\"onRequest\" xlink:href=\"psysml:8a19e2dd-7f31-4291-b841-c8e7ad6ceaae\" xlink:show=\"new\" xlink:title=\"psysml:8a19e2dd-7f31-4291-b841-c8e7ad6ceaae\" xlink:type=\"simple\"><rect fill=\"#FFFFFF\" height=\"349\" id=\"E1\" style=\"stroke: #383838; stroke-width: 1.5;\" width=\"187\" x=\"7\" y=\"7\"/><rect fill=\"#F8F8F8\" height=\"37.9375\" style=\"stroke: #383838; stroke-width: 1.5;\" width=\"187\" x=\"7\" y=\"7\"/><text fill=\"#000000\" font-family=\"sans-serif\" font-size=\"12\" font-style=\"italic\" lengthAdjust=\"spacingAndGlyphs\" textLength=\"77\" x=\"62\" y=\"23.1387\">«action def»</text><text fill=\"#000000\" font-family=\"sans-serif\" font-size=\"12\" lengthAdjust=\"spacingAndGlyphs\" textLength=\"105\" x=\"48\" y=\"37.1074\">ControlNodeTest</text></a><rect fill=\"#000000\" height=\"8\" style=\"stroke: none; stroke-width: 1.0;\" width=\"80\" x=\"60\" y=\"161\"/><rect fill=\"#000000\" height=\"8\" style=\"stroke: none; stroke-width: 1.0;\" width=\"80\" x=\"60\" y=\"229\"/><g id=\"E1.E2\"><a href=\"psysml:63691cb2-c1ae-4262-a628-287378f10d06\" target=\"_top\" title=\"psysml:63691cb2-c1ae-4262-a628-287378f10d06\" xlink:actuate=\"onRequest\" xlink:href=\"psysml:63691cb2-c1ae-4262-a628-287378f10d06\" xlink:show=\"new\" xlink:title=\"psysml:63691cb2-c1ae-4262-a628-287378f10d06\" xlink:type=\"simple\"><rect fill=\"#FFFFFF\" height=\"42.9375\" id=\"E2\" rx=\"10\" ry=\"10\" style=\"stroke: #383838; stroke-width: 1.5;\" width=\"60\" x=\"118\" y=\"58\"/><rect fill=\"#F8F8F8\" height=\"37.9375\" rx=\"10\" ry=\"10\" style=\"stroke: #F8F8F8; stroke-width: 1.5;\" width=\"60\" x=\"118\" y=\"58\"/><rect fill=\"#F8F8F8\" height=\"10\" style=\"stroke: #F8F8F8; stroke-width: 1.5;\" width=\"60\" x=\"118\" y=\"85.9375\"/><rect fill=\"none\" height=\"42.9375\" id=\"E2\" rx=\"10\" ry=\"10\" style=\"stroke: #383838; stroke-width: 1.5;\" width=\"60\" x=\"118\" y=\"58\"/><text fill=\"#000000\" font-family=\"sans-serif\" font-size=\"12\" font-style=\"italic\" lengthAdjust=\"spacingAndGlyphs\" textLength=\"53\" x=\"121.5\" y=\"74.1387\">«action»</text><text fill=\"#000000\" font-family=\"sans-serif\" font-size=\"12\" lengthAdjust=\"spacingAndGlyphs\" textLength=\"16\" x=\"140\" y=\"88.1074\">A1</text></a></g><g id=\"E1.E3\"><a href=\"psysml:c6acf79a-793e-4497-aa33-887aafacc071\" target=\"_top\" title=\"psysml:c6acf79a-793e-4497-aa33-887aafacc071\" xlink:actuate=\"onRequest\" xlink:href=\"psysml:c6acf79a-793e-4497-aa33-887aafacc071\" xlink:show=\"new\" xlink:title=\"psysml:c6acf79a-793e-4497-aa33-887aafacc071\" xlink:type=\"simple\"><rect fill=\"#FFFFFF\" height=\"42.9375\" id=\"E3\" rx=\"10\" ry=\"10\" style=\"stroke: #383838; stroke-width: 1.5;\" width=\"60\" x=\"23\" y=\"58\"/><rect fill=\"#F8F8F8\" height=\"37.9375\" rx=\"10\" ry=\"10\" style=\"stroke: #F8F8F8; stroke-width: 1.5;\" width=\"60\" x=\"23\" y=\"58\"/><rect fill=\"#F8F8F8\" height=\"10\" style=\"stroke: #F8F8F8; stroke-width: 1.5;\" width=\"60\" x=\"23\" y=\"85.9375\"/><rect fill=\"none\" height=\"42.9375\" id=\"E3\" rx=\"10\" ry=\"10\" style=\"stroke: #383838; stroke-width: 1.5;\" width=\"60\" x=\"23\" y=\"58\"/><text fill=\"#000000\" font-family=\"sans-serif\" font-size=\"12\" font-style=\"italic\" lengthAdjust=\"spacingAndGlyphs\" textLength=\"53\" x=\"26.5\" y=\"74.1387\">«action»</text><text fill=\"#000000\" font-family=\"sans-serif\" font-size=\"12\" lengthAdjust=\"spacingAndGlyphs\" textLength=\"16\" x=\"45\" y=\"88.1074\">A2</text></a></g><g id=\"E1.E6\"><a href=\"psysml:2beb575e-cdbc-464e-9dd9-fc16008b4aec\" target=\"_top\" title=\"psysml:2beb575e-cdbc-464e-9dd9-fc16008b4aec\" xlink:actuate=\"onRequest\" xlink:href=\"psysml:2beb575e-cdbc-464e-9dd9-fc16008b4aec\" xlink:show=\"new\" xlink:title=\"psysml:2beb575e-cdbc-464e-9dd9-fc16008b4aec\" xlink:type=\"simple\"><rect fill=\"#FFFFFF\" height=\"42.9375\" id=\"E6\" rx=\"10\" ry=\"10\" style=\"stroke: #383838; stroke-width: 1.5;\" width=\"60\" x=\"23\" y=\"297\"/><rect fill=\"#F8F8F8\" height=\"37.9375\" rx=\"10\" ry=\"10\" style=\"stroke: #F8F8F8; stroke-width: 1.5;\" width=\"60\" x=\"23\" y=\"297\"/><rect fill=\"#F8F8F8\" height=\"10\" style=\"stroke: #F8F8F8; stroke-width: 1.5;\" width=\"60\" x=\"23\" y=\"324.9375\"/><rect fill=\"none\" height=\"42.9375\" id=\"E6\" rx=\"10\" ry=\"10\" style=\"stroke: #383838; stroke-width: 1.5;\" width=\"60\" x=\"23\" y=\"297\"/><text fill=\"#000000\" font-family=\"sans-serif\" font-size=\"12\" font-style=\"italic\" lengthAdjust=\"spacingAndGlyphs\" textLength=\"53\" x=\"26.5\" y=\"313.1387\">«action»</text><text fill=\"#000000\" font-family=\"sans-serif\" font-size=\"12\" lengthAdjust=\"spacingAndGlyphs\" textLength=\"16\" x=\"45\" y=\"327.1074\">B1</text></a></g><g id=\"E1.E7\"><a href=\"psysml:18cbd039-fda1-47ea-ae1e-03ddeff777e2\" target=\"_top\" title=\"psysml:18cbd039-fda1-47ea-ae1e-03ddeff777e2\" xlink:actuate=\"onRequest\" xlink:href=\"psysml:18cbd039-fda1-47ea-ae1e-03ddeff777e2\" xlink:show=\"new\" xlink:title=\"psysml:18cbd039-fda1-47ea-ae1e-03ddeff777e2\" xlink:type=\"simple\"><rect fill=\"#FFFFFF\" height=\"42.9375\" id=\"E7\" rx=\"10\" ry=\"10\" style=\"stroke: #383838; stroke-width: 1.5;\" width=\"60\" x=\"118\" y=\"297\"/><rect fill=\"#F8F8F8\" height=\"37.9375\" rx=\"10\" ry=\"10\" style=\"stroke: #F8F8F8; stroke-width: 1.5;\" width=\"60\" x=\"118\" y=\"297\"/><rect fill=\"#F8F8F8\" height=\"10\" style=\"stroke: #F8F8F8; stroke-width: 1.5;\" width=\"60\" x=\"118\" y=\"324.9375\"/><rect fill=\"none\" height=\"42.9375\" id=\"E7\" rx=\"10\" ry=\"10\" style=\"stroke: #383838; stroke-width: 1.5;\" width=\"60\" x=\"118\" y=\"297\"/><text fill=\"#000000\" font-family=\"sans-serif\" font-size=\"12\" font-style=\"italic\" lengthAdjust=\"spacingAndGlyphs\" textLength=\"53\" x=\"121.5\" y=\"313.1387\">«action»</text><text fill=\"#000000\" font-family=\"sans-serif\" font-size=\"12\" lengthAdjust=\"spacingAndGlyphs\" textLength=\"16\" x=\"140\" y=\"327.1074\">B2</text></a></g><!--MD5=[4d03bb2d0377dc85ccfab60ff574652b]\n",
       "link E2 to E4--><a href=\"psysml:32927b08-9b1f-4059-96b6-74ea858c5377\" target=\"_top\" title=\"psysml:32927b08-9b1f-4059-96b6-74ea858c5377\" xlink:actuate=\"onRequest\" xlink:href=\"psysml:32927b08-9b1f-4059-96b6-74ea858c5377\" xlink:show=\"new\" xlink:title=\"psysml:32927b08-9b1f-4059-96b6-74ea858c5377\" xlink:type=\"simple\"><path d=\"M136.13,101.14 C125.84,119.06 111.49,144.01 104.37,156.4 \" fill=\"none\" id=\"E2-&gt;E4\" style=\"stroke: #383838; stroke-width: 1.0;\"/><polygon fill=\"#383838\" points=\"101.79,160.88,109.7406,155.0673,104.2799,156.5441,102.8031,151.0834,101.79,160.88\" style=\"stroke: #383838; stroke-width: 1.0;\"/></a><!--MD5=[af87c684e3b0d8be13c1a698a818ef1e]\n",
       "link E3 to E4--><a href=\"psysml:6834d0f3-19d8-44ac-95f5-e8bc4db68e8a\" target=\"_top\" title=\"psysml:6834d0f3-19d8-44ac-95f5-e8bc4db68e8a\" xlink:actuate=\"onRequest\" xlink:href=\"psysml:6834d0f3-19d8-44ac-95f5-e8bc4db68e8a\" xlink:show=\"new\" xlink:title=\"psysml:6834d0f3-19d8-44ac-95f5-e8bc4db68e8a\" xlink:type=\"simple\"><path d=\"M64.62,101.14 C74.7,119.06 88.75,144.01 95.72,156.4 \" fill=\"none\" id=\"E3-&gt;E4\" style=\"stroke: #383838; stroke-width: 1.0;\"/><polygon fill=\"#383838\" points=\"98.25,160.88,97.3377,151.0735,95.8048,156.5187,90.3596,154.9858,98.25,160.88\" style=\"stroke: #383838; stroke-width: 1.0;\"/></a><!--MD5=[1b7591eae5389033d8d09a9d6721a717]\n",
       "link E4 to E5--><a href=\"psysml:02aceb33-1759-43f7-b21c-5882a5f834e0\" target=\"_top\" title=\"psysml:02aceb33-1759-43f7-b21c-5882a5f834e0\" xlink:actuate=\"onRequest\" xlink:href=\"psysml:02aceb33-1759-43f7-b21c-5882a5f834e0\" xlink:show=\"new\" xlink:title=\"psysml:02aceb33-1759-43f7-b21c-5882a5f834e0\" xlink:type=\"simple\"><path d=\"M100,169.18 C100,178.92 100,208.52 100,223.34 \" fill=\"none\" id=\"E4-&gt;E5\" style=\"stroke: #383838; stroke-width: 1.0;\"/><polygon fill=\"#383838\" points=\"100,228.69,104,219.69,100,223.69,96,219.69,100,228.69\" style=\"stroke: #383838; stroke-width: 1.0;\"/></a><!--MD5=[9120cf2e5df3bff93db8f754bbbc09b4]\n",
       "link E5 to E6--><a href=\"psysml:f43de8b9-7272-426a-b0aa-70e703f3a468\" target=\"_top\" title=\"psysml:f43de8b9-7272-426a-b0aa-70e703f3a468\" xlink:actuate=\"onRequest\" xlink:href=\"psysml:f43de8b9-7272-426a-b0aa-70e703f3a468\" xlink:show=\"new\" xlink:title=\"psysml:f43de8b9-7272-426a-b0aa-70e703f3a468\" xlink:type=\"simple\"><path d=\"M98.21,237.17 C93.16,246.14 78.41,272.36 67.11,292.43 \" fill=\"none\" id=\"E5-&gt;E6\" style=\"stroke: #383838; stroke-width: 1.0;\"/><polygon fill=\"#383838\" points=\"64.61,296.87,72.5151,290.9955,67.0661,292.5148,65.5467,287.0658,64.61,296.87\" style=\"stroke: #383838; stroke-width: 1.0;\"/></a><!--MD5=[3a9b96bfbf6b6ad89c494e81751bda47]\n",
       "link E5 to E7--><a href=\"psysml:6de5063b-eb84-4499-9c8a-3a0354e3d885\" target=\"_top\" title=\"psysml:6de5063b-eb84-4499-9c8a-3a0354e3d885\" xlink:actuate=\"onRequest\" xlink:href=\"psysml:6de5063b-eb84-4499-9c8a-3a0354e3d885\" xlink:show=\"new\" xlink:title=\"psysml:6de5063b-eb84-4499-9c8a-3a0354e3d885\" xlink:type=\"simple\"><path d=\"M101.82,237.17 C106.98,246.14 122.05,272.36 133.59,292.43 \" fill=\"none\" id=\"E5-&gt;E7\" style=\"stroke: #383838; stroke-width: 1.0;\"/><polygon fill=\"#383838\" points=\"136.14,296.87,135.1269,287.0734,133.6501,292.5341,128.1894,291.0573,136.14,296.87\" style=\"stroke: #383838; stroke-width: 1.0;\"/></a><!--MD5=[f7016d89b067aa9cafd4705c83ba5f8c]\n",
       "@startuml\r\n",
       "skinparam linetype polyline\r\n",
       "skinparam monochrome true\r\n",
       "skinparam classbackgroundcolor white\r\n",
       "skinparam shadowing false\r\n",
       "skinparam wrapWidth 300\r\n",
       "hide circle\r\n",
       "\r\n",
       "rec def \"ControlNodeTest\" as E1  <<(T,blue)action def>> [[psysml:8a19e2dd-7f31-4291-b841-c8e7ad6ceaae ]] {\r\n",
       "rec usage \"A1\" as E2  <<(T,blue)action>> [[psysml:63691cb2-c1ae-4262-a628-287378f10d06 ]] {\r\n",
       "}\r\n",
       "\r\n",
       "rec usage \"A2\" as E3  <<(T,blue)action>> [[psysml:c6acf79a-793e-4497-aa33-887aafacc071 ]] {\r\n",
       "}\r\n",
       "\r\n",
       "join \"J\" as E4  [[psysml:9118671e-8e40-41ce-bc29-e44727581a0d ]] \r\n",
       "fork \"F\" as E5  [[psysml:3c4d5a48-0835-4406-bc0d-d635a7475922 ]] \r\n",
       "rec usage \"B1\" as E6  <<(T,blue)action>> [[psysml:2beb575e-cdbc-464e-9dd9-fc16008b4aec ]] {\r\n",
       "}\r\n",
       "\r\n",
       "rec usage \"B2\" as E7  <<(T,blue)action>> [[psysml:18cbd039-fda1-47ea-ae1e-03ddeff777e2 ]] {\r\n",
       "}\r\n",
       "\r\n",
       "}\r\n",
       "\r\n",
       "E2 - -> E4 [[psysml:32927b08-9b1f-4059-96b6-74ea858c5377 ]] \r\n",
       "E3 - -> E4 [[psysml:6834d0f3-19d8-44ac-95f5-e8bc4db68e8a ]] \r\n",
       "E4 - -> E5 [[psysml:02aceb33-1759-43f7-b21c-5882a5f834e0 ]] \r\n",
       "E5 - -> E6 [[psysml:f43de8b9-7272-426a-b0aa-70e703f3a468 ]] \r\n",
       "E5 - -> E7 [[psysml:6de5063b-eb84-4499-9c8a-3a0354e3d885 ]] \r\n",
       "@enduml\r\n",
       "\n",
       "PlantUML version 1.2020.13(Sat Jun 13 12:26:38 UTC 2020)\n",
       "(EPL source distribution)\n",
       "Java Runtime: OpenJDK Runtime Environment\n",
       "JVM: OpenJDK 64-Bit Server VM\n",
       "Default Encoding: UTF-8\n",
       "Language: en\n",
       "Country: null\n",
       "--></g></svg>"
      ]
     },
     "execution_count": 9,
     "metadata": {},
     "output_type": "execute_result"
    }
   ],
   "source": [
    "%viz --style=\"POLYLINE\" --view=\"Default\" \"ControlNodeTest\""
   ]
  },
  {
   "cell_type": "code",
   "execution_count": 10,
   "id": "undefined-kingston",
   "metadata": {
    "execution": {
     "iopub.execute_input": "2021-03-26T15:42:07.374651Z",
     "iopub.status.busy": "2021-03-26T15:42:07.374231Z",
     "iopub.status.idle": "2021-03-26T15:42:07.442468Z",
     "shell.execute_reply": "2021-03-26T15:42:07.442821Z"
    }
   },
   "outputs": [
    {
     "data": {
      "image/svg+xml": [
       "<?xml version=\"1.0\" encoding=\"UTF-8\" standalone=\"no\"?><svg xmlns=\"http://www.w3.org/2000/svg\" xmlns:xlink=\"http://www.w3.org/1999/xlink\" contentScriptType=\"application/ecmascript\" contentStyleType=\"text/css\" height=\"191px\" preserveAspectRatio=\"none\" style=\"width:129px;height:191px;\" version=\"1.1\" viewBox=\"0 0 129 191\" width=\"129px\" zoomAndPan=\"magnify\"><defs/><g><!--MD5=[43c9051892ef23e1a46a86907403d788]\n",
       "class E1--><a href=\"psysml:8a19e2dd-7f31-4291-b841-c8e7ad6ceaae\" target=\"_top\" title=\"psysml:8a19e2dd-7f31-4291-b841-c8e7ad6ceaae\" xlink:actuate=\"onRequest\" xlink:href=\"psysml:8a19e2dd-7f31-4291-b841-c8e7ad6ceaae\" xlink:show=\"new\" xlink:title=\"psysml:8a19e2dd-7f31-4291-b841-c8e7ad6ceaae\" xlink:type=\"simple\"><rect fill=\"#FFFFFF\" height=\"173.1797\" id=\"E1\" style=\"stroke: #383838; stroke-width: 1.5;\" width=\"111\" x=\"7\" y=\"7\"/><text fill=\"#000000\" font-family=\"sans-serif\" font-size=\"12\" font-style=\"italic\" lengthAdjust=\"spacingAndGlyphs\" textLength=\"77\" x=\"24\" y=\"23.1387\">«action def»</text><text fill=\"#000000\" font-family=\"sans-serif\" font-size=\"12\" lengthAdjust=\"spacingAndGlyphs\" textLength=\"105\" x=\"10\" y=\"37.1074\">ControlNodeTest</text><line style=\"stroke: #383838; stroke-width: 1.5;\" x1=\"8\" x2=\"117\" y1=\"44.9375\" y2=\"44.9375\"/><text fill=\"#000000\" font-family=\"sans-serif\" font-size=\"11\" lengthAdjust=\"spacingAndGlyphs\" textLength=\"14\" x=\"13\" y=\"75.9526\">A1</text><text fill=\"#000000\" font-family=\"sans-serif\" font-size=\"11\" lengthAdjust=\"spacingAndGlyphs\" textLength=\"14\" x=\"13\" y=\"88.7573\">A2</text><text fill=\"#000000\" font-family=\"sans-serif\" font-size=\"11\" lengthAdjust=\"spacingAndGlyphs\" textLength=\"15\" x=\"13\" y=\"101.562\">B1</text><text fill=\"#000000\" font-family=\"sans-serif\" font-size=\"11\" lengthAdjust=\"spacingAndGlyphs\" textLength=\"15\" x=\"13\" y=\"114.3667\">B2</text><line style=\"stroke: #383838; stroke-width: 1.0;\" x1=\"8\" x2=\"42\" y1=\"59.3398\" y2=\"59.3398\"/><text fill=\"#000000\" font-family=\"sans-serif\" font-size=\"11\" lengthAdjust=\"spacingAndGlyphs\" textLength=\"41\" x=\"42\" y=\"62.6479\">actions</text><line style=\"stroke: #383838; stroke-width: 1.0;\" x1=\"83\" x2=\"117\" y1=\"59.3398\" y2=\"59.3398\"/><text fill=\"#000000\" font-family=\"sans-serif\" font-size=\"11\" lengthAdjust=\"spacingAndGlyphs\" textLength=\"6\" x=\"13\" y=\"143.9761\">F</text><line style=\"stroke: #383838; stroke-width: 1.0;\" x1=\"8\" x2=\"33.5\" y1=\"127.3633\" y2=\"127.3633\"/><text fill=\"#000000\" font-family=\"sans-serif\" font-size=\"11\" lengthAdjust=\"spacingAndGlyphs\" textLength=\"58\" x=\"33.5\" y=\"130.6714\">forkNodes</text><line style=\"stroke: #383838; stroke-width: 1.0;\" x1=\"91.5\" x2=\"117\" y1=\"127.3633\" y2=\"127.3633\"/><text fill=\"#000000\" font-family=\"sans-serif\" font-size=\"11\" lengthAdjust=\"spacingAndGlyphs\" textLength=\"3\" x=\"13\" y=\"173.5854\">J</text><line style=\"stroke: #383838; stroke-width: 1.0;\" x1=\"8\" x2=\"34.5\" y1=\"156.9727\" y2=\"156.9727\"/><text fill=\"#000000\" font-family=\"sans-serif\" font-size=\"11\" lengthAdjust=\"spacingAndGlyphs\" textLength=\"56\" x=\"34.5\" y=\"160.2808\">joinNodes</text><line style=\"stroke: #383838; stroke-width: 1.0;\" x1=\"90.5\" x2=\"117\" y1=\"156.9727\" y2=\"156.9727\"/></a><!--MD5=[243b1544c4d064de13e2ecb329460c9d]\n",
       "@startuml\r\n",
       "skinparam linetype polyline\r\n",
       "skinparam monochrome true\r\n",
       "skinparam classbackgroundcolor white\r\n",
       "skinparam shadowing false\r\n",
       "skinparam wrapWidth 300\r\n",
       "hide circle\r\n",
       "\r\n",
       "comp def \"ControlNodeTest\" as E1  <<(T,blue)action def>> [[psysml:8a19e2dd-7f31-4291-b841-c8e7ad6ceaae ]] {\r\n",
       "- - actions - -\r\n",
       "A1\r\n",
       "A2\r\n",
       "B1\r\n",
       "B2\r\n",
       "- - forkNodes - -\r\n",
       "F\r\n",
       "- - joinNodes - -\r\n",
       "J\r\n",
       "}\r\n",
       "@enduml\r\n",
       "\n",
       "PlantUML version 1.2020.13(Sat Jun 13 12:26:38 UTC 2020)\n",
       "(EPL source distribution)\n",
       "Java Runtime: OpenJDK Runtime Environment\n",
       "JVM: OpenJDK 64-Bit Server VM\n",
       "Default Encoding: UTF-8\n",
       "Language: en\n",
       "Country: null\n",
       "--></g></svg>"
      ]
     },
     "execution_count": 10,
     "metadata": {},
     "output_type": "execute_result"
    }
   ],
   "source": [
    "%viz --style=\"POLYLINE\" --view=\"Tree\" \"ControlNodeTest\""
   ]
  },
  {
   "cell_type": "code",
   "execution_count": 11,
   "id": "demanding-department",
   "metadata": {
    "execution": {
     "iopub.execute_input": "2021-03-26T15:42:07.495777Z",
     "iopub.status.busy": "2021-03-26T15:42:07.495112Z",
     "iopub.status.idle": "2021-03-26T15:42:07.501870Z",
     "shell.execute_reply": "2021-03-26T15:42:07.502235Z"
    }
   },
   "outputs": [
    {
     "data": {
      "image/svg+xml": [
       "<?xml version=\"1.0\" encoding=\"UTF-8\" standalone=\"no\"?><svg xmlns=\"http://www.w3.org/2000/svg\" xmlns:xlink=\"http://www.w3.org/1999/xlink\" contentScriptType=\"application/ecmascript\" contentStyleType=\"text/css\" height=\"12px\" preserveAspectRatio=\"none\" style=\"width:12px;height:12px;\" version=\"1.1\" viewBox=\"0 0 12 12\" width=\"12px\" zoomAndPan=\"magnify\"><defs/><g><!--MD5=[896ac0e7a515d8dd7765a661cb4ee08b]\n",
       "@startuml\r\n",
       "skinparam linetype polyline\r\n",
       "skinparam monochrome true\r\n",
       "skinparam classbackgroundcolor white\r\n",
       "skinparam shadowing false\r\n",
       "skinparam wrapWidth 300\r\n",
       "hide circle\r\n",
       "\r\n",
       "@enduml\r\n",
       "\n",
       "PlantUML version 1.2020.13(Sat Jun 13 12:26:38 UTC 2020)\n",
       "(EPL source distribution)\n",
       "Java Runtime: OpenJDK Runtime Environment\n",
       "JVM: OpenJDK 64-Bit Server VM\n",
       "Default Encoding: UTF-8\n",
       "Language: en\n",
       "Country: null\n",
       "--></g></svg>"
      ]
     },
     "execution_count": 11,
     "metadata": {},
     "output_type": "execute_result"
    }
   ],
   "source": [
    "%viz --style=\"POLYLINE\" --view=\"State\" \"ControlNodeTest\""
   ]
  },
  {
   "cell_type": "code",
   "execution_count": 12,
   "id": "communist-cambridge",
   "metadata": {
    "execution": {
     "iopub.execute_input": "2021-03-26T15:42:07.575641Z",
     "iopub.status.busy": "2021-03-26T15:42:07.574827Z",
     "iopub.status.idle": "2021-03-26T15:42:07.610543Z",
     "shell.execute_reply": "2021-03-26T15:42:07.608253Z"
    }
   },
   "outputs": [
    {
     "data": {
      "image/svg+xml": [
       "<?xml version=\"1.0\" encoding=\"UTF-8\" standalone=\"no\"?><svg xmlns=\"http://www.w3.org/2000/svg\" xmlns:xlink=\"http://www.w3.org/1999/xlink\" contentScriptType=\"application/ecmascript\" contentStyleType=\"text/css\" height=\"217px\" preserveAspectRatio=\"none\" style=\"width:205px;height:217px;\" version=\"1.1\" viewBox=\"0 0 205 217\" width=\"205px\" zoomAndPan=\"magnify\"><defs/><g><!--MD5=[fbc87193dbaf4d95561dea2c320d4a47]\n",
       "cluster E1--><a href=\"psysml:8a19e2dd-7f31-4291-b841-c8e7ad6ceaae\" target=\"_top\" title=\"psysml:8a19e2dd-7f31-4291-b841-c8e7ad6ceaae\" xlink:actuate=\"onRequest\" xlink:href=\"psysml:8a19e2dd-7f31-4291-b841-c8e7ad6ceaae\" xlink:show=\"new\" xlink:title=\"psysml:8a19e2dd-7f31-4291-b841-c8e7ad6ceaae\" xlink:type=\"simple\"><rect fill=\"#FFFFFF\" height=\"199\" id=\"E1\" style=\"stroke: #383838; stroke-width: 1.5;\" width=\"187\" x=\"7\" y=\"7\"/><rect fill=\"#F8F8F8\" height=\"37.9375\" style=\"stroke: #383838; stroke-width: 1.5;\" width=\"187\" x=\"7\" y=\"7\"/><text fill=\"#000000\" font-family=\"sans-serif\" font-size=\"12\" font-style=\"italic\" lengthAdjust=\"spacingAndGlyphs\" textLength=\"77\" x=\"62\" y=\"23.1387\">«action def»</text><text fill=\"#000000\" font-family=\"sans-serif\" font-size=\"12\" lengthAdjust=\"spacingAndGlyphs\" textLength=\"105\" x=\"48\" y=\"37.1074\">ControlNodeTest</text></a><rect fill=\"#000000\" height=\"8\" style=\"stroke: none; stroke-width: 1.0;\" width=\"80\" x=\"60\" y=\"111\"/><rect fill=\"#000000\" height=\"8\" style=\"stroke: none; stroke-width: 1.0;\" width=\"80\" x=\"60\" y=\"129\"/><g id=\"E1.E2\"><a href=\"psysml:63691cb2-c1ae-4262-a628-287378f10d06\" target=\"_top\" title=\"psysml:63691cb2-c1ae-4262-a628-287378f10d06\" xlink:actuate=\"onRequest\" xlink:href=\"psysml:63691cb2-c1ae-4262-a628-287378f10d06\" xlink:show=\"new\" xlink:title=\"psysml:63691cb2-c1ae-4262-a628-287378f10d06\" xlink:type=\"simple\"><rect fill=\"#FFFFFF\" height=\"42.9375\" id=\"E2\" rx=\"10\" ry=\"10\" style=\"stroke: #383838; stroke-width: 1.5;\" width=\"60\" x=\"118\" y=\"58\"/><rect fill=\"#F8F8F8\" height=\"37.9375\" rx=\"10\" ry=\"10\" style=\"stroke: #F8F8F8; stroke-width: 1.5;\" width=\"60\" x=\"118\" y=\"58\"/><rect fill=\"#F8F8F8\" height=\"10\" style=\"stroke: #F8F8F8; stroke-width: 1.5;\" width=\"60\" x=\"118\" y=\"85.9375\"/><rect fill=\"none\" height=\"42.9375\" id=\"E2\" rx=\"10\" ry=\"10\" style=\"stroke: #383838; stroke-width: 1.5;\" width=\"60\" x=\"118\" y=\"58\"/><text fill=\"#000000\" font-family=\"sans-serif\" font-size=\"12\" font-style=\"italic\" lengthAdjust=\"spacingAndGlyphs\" textLength=\"53\" x=\"121.5\" y=\"74.1387\">«action»</text><text fill=\"#000000\" font-family=\"sans-serif\" font-size=\"12\" lengthAdjust=\"spacingAndGlyphs\" textLength=\"16\" x=\"140\" y=\"88.1074\">A1</text></a></g><g id=\"E1.E3\"><a href=\"psysml:c6acf79a-793e-4497-aa33-887aafacc071\" target=\"_top\" title=\"psysml:c6acf79a-793e-4497-aa33-887aafacc071\" xlink:actuate=\"onRequest\" xlink:href=\"psysml:c6acf79a-793e-4497-aa33-887aafacc071\" xlink:show=\"new\" xlink:title=\"psysml:c6acf79a-793e-4497-aa33-887aafacc071\" xlink:type=\"simple\"><rect fill=\"#FFFFFF\" height=\"42.9375\" id=\"E3\" rx=\"10\" ry=\"10\" style=\"stroke: #383838; stroke-width: 1.5;\" width=\"60\" x=\"23\" y=\"58\"/><rect fill=\"#F8F8F8\" height=\"37.9375\" rx=\"10\" ry=\"10\" style=\"stroke: #F8F8F8; stroke-width: 1.5;\" width=\"60\" x=\"23\" y=\"58\"/><rect fill=\"#F8F8F8\" height=\"10\" style=\"stroke: #F8F8F8; stroke-width: 1.5;\" width=\"60\" x=\"23\" y=\"85.9375\"/><rect fill=\"none\" height=\"42.9375\" id=\"E3\" rx=\"10\" ry=\"10\" style=\"stroke: #383838; stroke-width: 1.5;\" width=\"60\" x=\"23\" y=\"58\"/><text fill=\"#000000\" font-family=\"sans-serif\" font-size=\"12\" font-style=\"italic\" lengthAdjust=\"spacingAndGlyphs\" textLength=\"53\" x=\"26.5\" y=\"74.1387\">«action»</text><text fill=\"#000000\" font-family=\"sans-serif\" font-size=\"12\" lengthAdjust=\"spacingAndGlyphs\" textLength=\"16\" x=\"45\" y=\"88.1074\">A2</text></a></g><g id=\"E1.E6\"><a href=\"psysml:2beb575e-cdbc-464e-9dd9-fc16008b4aec\" target=\"_top\" title=\"psysml:2beb575e-cdbc-464e-9dd9-fc16008b4aec\" xlink:actuate=\"onRequest\" xlink:href=\"psysml:2beb575e-cdbc-464e-9dd9-fc16008b4aec\" xlink:show=\"new\" xlink:title=\"psysml:2beb575e-cdbc-464e-9dd9-fc16008b4aec\" xlink:type=\"simple\"><rect fill=\"#FFFFFF\" height=\"42.9375\" id=\"E6\" rx=\"10\" ry=\"10\" style=\"stroke: #383838; stroke-width: 1.5;\" width=\"60\" x=\"23\" y=\"147\"/><rect fill=\"#F8F8F8\" height=\"37.9375\" rx=\"10\" ry=\"10\" style=\"stroke: #F8F8F8; stroke-width: 1.5;\" width=\"60\" x=\"23\" y=\"147\"/><rect fill=\"#F8F8F8\" height=\"10\" style=\"stroke: #F8F8F8; stroke-width: 1.5;\" width=\"60\" x=\"23\" y=\"174.9375\"/><rect fill=\"none\" height=\"42.9375\" id=\"E6\" rx=\"10\" ry=\"10\" style=\"stroke: #383838; stroke-width: 1.5;\" width=\"60\" x=\"23\" y=\"147\"/><text fill=\"#000000\" font-family=\"sans-serif\" font-size=\"12\" font-style=\"italic\" lengthAdjust=\"spacingAndGlyphs\" textLength=\"53\" x=\"26.5\" y=\"163.1387\">«action»</text><text fill=\"#000000\" font-family=\"sans-serif\" font-size=\"12\" lengthAdjust=\"spacingAndGlyphs\" textLength=\"16\" x=\"45\" y=\"177.1074\">B1</text></a></g><g id=\"E1.E7\"><a href=\"psysml:18cbd039-fda1-47ea-ae1e-03ddeff777e2\" target=\"_top\" title=\"psysml:18cbd039-fda1-47ea-ae1e-03ddeff777e2\" xlink:actuate=\"onRequest\" xlink:href=\"psysml:18cbd039-fda1-47ea-ae1e-03ddeff777e2\" xlink:show=\"new\" xlink:title=\"psysml:18cbd039-fda1-47ea-ae1e-03ddeff777e2\" xlink:type=\"simple\"><rect fill=\"#FFFFFF\" height=\"42.9375\" id=\"E7\" rx=\"10\" ry=\"10\" style=\"stroke: #383838; stroke-width: 1.5;\" width=\"60\" x=\"118\" y=\"147\"/><rect fill=\"#F8F8F8\" height=\"37.9375\" rx=\"10\" ry=\"10\" style=\"stroke: #F8F8F8; stroke-width: 1.5;\" width=\"60\" x=\"118\" y=\"147\"/><rect fill=\"#F8F8F8\" height=\"10\" style=\"stroke: #F8F8F8; stroke-width: 1.5;\" width=\"60\" x=\"118\" y=\"174.9375\"/><rect fill=\"none\" height=\"42.9375\" id=\"E7\" rx=\"10\" ry=\"10\" style=\"stroke: #383838; stroke-width: 1.5;\" width=\"60\" x=\"118\" y=\"147\"/><text fill=\"#000000\" font-family=\"sans-serif\" font-size=\"12\" font-style=\"italic\" lengthAdjust=\"spacingAndGlyphs\" textLength=\"53\" x=\"121.5\" y=\"163.1387\">«action»</text><text fill=\"#000000\" font-family=\"sans-serif\" font-size=\"12\" lengthAdjust=\"spacingAndGlyphs\" textLength=\"16\" x=\"140\" y=\"177.1074\">B2</text></a></g><!--MD5=[4d03bb2d0377dc85ccfab60ff574652b]\n",
       "link E2 to E4--><a href=\"psysml:32927b08-9b1f-4059-96b6-74ea858c5377\" target=\"_top\" title=\"psysml:32927b08-9b1f-4059-96b6-74ea858c5377\" xlink:actuate=\"onRequest\" xlink:href=\"psysml:32927b08-9b1f-4059-96b6-74ea858c5377\" xlink:show=\"new\" xlink:title=\"psysml:32927b08-9b1f-4059-96b6-74ea858c5377\" xlink:type=\"simple\"><path d=\"M118.42,101.14 C114.95,103.57 111.64,105.88 108.81,107.85 \" fill=\"none\" id=\"E2-&gt;E4\" style=\"stroke: #383838; stroke-width: 1.0;\"/><polygon fill=\"#383838\" points=\"104.3,111,113.9709,109.1361,108.4022,108.1413,109.397,102.5726,104.3,111\" style=\"stroke: #383838; stroke-width: 1.0;\"/></a><!--MD5=[af87c684e3b0d8be13c1a698a818ef1e]\n",
       "link E3 to E4--><a href=\"psysml:6834d0f3-19d8-44ac-95f5-e8bc4db68e8a\" target=\"_top\" title=\"psysml:6834d0f3-19d8-44ac-95f5-e8bc4db68e8a\" xlink:actuate=\"onRequest\" xlink:href=\"psysml:6834d0f3-19d8-44ac-95f5-e8bc4db68e8a\" xlink:show=\"new\" xlink:title=\"psysml:6834d0f3-19d8-44ac-95f5-e8bc4db68e8a\" xlink:type=\"simple\"><path d=\"M81.96,101.14 C85.36,103.57 88.6,105.88 91.37,107.85 \" fill=\"none\" id=\"E3-&gt;E4\" style=\"stroke: #383838; stroke-width: 1.0;\"/><polygon fill=\"#383838\" points=\"95.79,111,90.7801,102.5206,91.7175,108.0992,86.1388,109.0366,95.79,111\" style=\"stroke: #383838; stroke-width: 1.0;\"/></a><!--MD5=[1b7591eae5389033d8d09a9d6721a717]\n",
       "link E4 to E5--><a href=\"psysml:02aceb33-1759-43f7-b21c-5882a5f834e0\" target=\"_top\" title=\"psysml:02aceb33-1759-43f7-b21c-5882a5f834e0\" xlink:actuate=\"onRequest\" xlink:href=\"psysml:02aceb33-1759-43f7-b21c-5882a5f834e0\" xlink:show=\"new\" xlink:title=\"psysml:02aceb33-1759-43f7-b21c-5882a5f834e0\" xlink:type=\"simple\"><path d=\"M100,119.08 C100,120.38 100,121.95 100,123.55 \" fill=\"none\" id=\"E4-&gt;E5\" style=\"stroke: #383838; stroke-width: 1.0;\"/><polygon fill=\"#383838\" points=\"100,128.7,104,119.7,100,123.7,96,119.7,100,128.7\" style=\"stroke: #383838; stroke-width: 1.0;\"/></a><!--MD5=[9120cf2e5df3bff93db8f754bbbc09b4]\n",
       "link E5 to E6--><a href=\"psysml:f43de8b9-7272-426a-b0aa-70e703f3a468\" target=\"_top\" title=\"psysml:f43de8b9-7272-426a-b0aa-70e703f3a468\" xlink:actuate=\"onRequest\" xlink:href=\"psysml:f43de8b9-7272-426a-b0aa-70e703f3a468\" xlink:show=\"new\" xlink:title=\"psysml:f43de8b9-7272-426a-b0aa-70e703f3a468\" xlink:type=\"simple\"><path d=\"M95.66,137.09 C93.25,138.81 89.99,141.13 86.35,143.73 \" fill=\"none\" id=\"E5-&gt;E6\" style=\"stroke: #383838; stroke-width: 1.0;\"/><polygon fill=\"#383838\" points=\"81.93,146.88,91.5812,144.9166,86.0025,143.9792,86.9399,138.4006,81.93,146.88\" style=\"stroke: #383838; stroke-width: 1.0;\"/></a><!--MD5=[3a9b96bfbf6b6ad89c494e81751bda47]\n",
       "link E5 to E7--><a href=\"psysml:6de5063b-eb84-4499-9c8a-3a0354e3d885\" target=\"_top\" title=\"psysml:6de5063b-eb84-4499-9c8a-3a0354e3d885\" xlink:actuate=\"onRequest\" xlink:href=\"psysml:6de5063b-eb84-4499-9c8a-3a0354e3d885\" xlink:show=\"new\" xlink:title=\"psysml:6de5063b-eb84-4499-9c8a-3a0354e3d885\" xlink:type=\"simple\"><path d=\"M104.43,137.09 C106.9,138.81 110.22,141.13 113.94,143.73 \" fill=\"none\" id=\"E5-&gt;E7\" style=\"stroke: #383838; stroke-width: 1.0;\"/><polygon fill=\"#383838\" points=\"118.46,146.88,113.3827,138.4407,114.3645,144.0117,108.7935,144.9935,118.46,146.88\" style=\"stroke: #383838; stroke-width: 1.0;\"/></a><!--MD5=[ede23e2d7073735576cf5149c0544483]\n",
       "@startuml\r\n",
       "skinparam ranksep 10\r\n",
       "skinparam rectangle {\r\n",
       " backgroundColor<<block>> LightGreen\r\n",
       "}\r\n",
       "skinparam linetype polyline\r\n",
       "skinparam monochrome true\r\n",
       "skinparam classbackgroundcolor white\r\n",
       "skinparam shadowing false\r\n",
       "skinparam wrapWidth 300\r\n",
       "hide circle\r\n",
       "\r\n",
       "rec def \"ControlNodeTest\" as E1  <<(T,blue)action def>> [[psysml:8a19e2dd-7f31-4291-b841-c8e7ad6ceaae ]] {\r\n",
       "rec usage \"A1\" as E2  <<(T,blue)action>> [[psysml:63691cb2-c1ae-4262-a628-287378f10d06 ]] {\r\n",
       "}\r\n",
       "\r\n",
       "rec usage \"A2\" as E3  <<(T,blue)action>> [[psysml:c6acf79a-793e-4497-aa33-887aafacc071 ]] {\r\n",
       "}\r\n",
       "\r\n",
       "join \"J\" as E4  [[psysml:9118671e-8e40-41ce-bc29-e44727581a0d ]] \r\n",
       "fork \"F\" as E5  [[psysml:3c4d5a48-0835-4406-bc0d-d635a7475922 ]] \r\n",
       "rec usage \"B1\" as E6  <<(T,blue)action>> [[psysml:2beb575e-cdbc-464e-9dd9-fc16008b4aec ]] {\r\n",
       "}\r\n",
       "\r\n",
       "rec usage \"B2\" as E7  <<(T,blue)action>> [[psysml:18cbd039-fda1-47ea-ae1e-03ddeff777e2 ]] {\r\n",
       "}\r\n",
       "\r\n",
       "}\r\n",
       "\r\n",
       "E2 - -> E4 [[psysml:32927b08-9b1f-4059-96b6-74ea858c5377 ]] \r\n",
       "E3 - -> E4 [[psysml:6834d0f3-19d8-44ac-95f5-e8bc4db68e8a ]] \r\n",
       "E4 - -> E5 [[psysml:02aceb33-1759-43f7-b21c-5882a5f834e0 ]] \r\n",
       "E5 - -> E6 [[psysml:f43de8b9-7272-426a-b0aa-70e703f3a468 ]] \r\n",
       "E5 - -> E7 [[psysml:6de5063b-eb84-4499-9c8a-3a0354e3d885 ]] \r\n",
       "@enduml\r\n",
       "\n",
       "PlantUML version 1.2020.13(Sat Jun 13 12:26:38 UTC 2020)\n",
       "(EPL source distribution)\n",
       "Java Runtime: OpenJDK Runtime Environment\n",
       "JVM: OpenJDK 64-Bit Server VM\n",
       "Default Encoding: UTF-8\n",
       "Language: en\n",
       "Country: null\n",
       "--></g></svg>"
      ]
     },
     "execution_count": 12,
     "metadata": {},
     "output_type": "execute_result"
    }
   ],
   "source": [
    "%viz --style=\"POLYLINE\" --view=\"Interconnection\" \"ControlNodeTest\""
   ]
  },
  {
   "cell_type": "code",
   "execution_count": 13,
   "id": "moved-pakistan",
   "metadata": {
    "execution": {
     "iopub.execute_input": "2021-03-26T15:42:07.662242Z",
     "iopub.status.busy": "2021-03-26T15:42:07.661475Z",
     "iopub.status.idle": "2021-03-26T15:42:07.711757Z",
     "shell.execute_reply": "2021-03-26T15:42:07.710649Z"
    }
   },
   "outputs": [
    {
     "data": {
      "image/svg+xml": [
       "<?xml version=\"1.0\" encoding=\"UTF-8\" standalone=\"no\"?><svg xmlns=\"http://www.w3.org/2000/svg\" xmlns:xlink=\"http://www.w3.org/1999/xlink\" contentScriptType=\"application/ecmascript\" contentStyleType=\"text/css\" height=\"211px\" preserveAspectRatio=\"none\" style=\"width:205px;height:211px;\" version=\"1.1\" viewBox=\"0 0 205 211\" width=\"205px\" zoomAndPan=\"magnify\"><defs/><g><!--MD5=[fbc87193dbaf4d95561dea2c320d4a47]\n",
       "cluster E1--><a href=\"psysml:8a19e2dd-7f31-4291-b841-c8e7ad6ceaae\" target=\"_top\" title=\"psysml:8a19e2dd-7f31-4291-b841-c8e7ad6ceaae\" xlink:actuate=\"onRequest\" xlink:href=\"psysml:8a19e2dd-7f31-4291-b841-c8e7ad6ceaae\" xlink:show=\"new\" xlink:title=\"psysml:8a19e2dd-7f31-4291-b841-c8e7ad6ceaae\" xlink:type=\"simple\"><rect fill=\"#FFFFFF\" height=\"193\" id=\"E1\" style=\"stroke: #383838; stroke-width: 1.5;\" width=\"187\" x=\"7\" y=\"7\"/><rect fill=\"#F8F8F8\" height=\"37.9375\" style=\"stroke: #383838; stroke-width: 1.5;\" width=\"187\" x=\"7\" y=\"7\"/><text fill=\"#000000\" font-family=\"sans-serif\" font-size=\"12\" font-style=\"italic\" lengthAdjust=\"spacingAndGlyphs\" textLength=\"77\" x=\"62\" y=\"23.1387\">«action def»</text><text fill=\"#000000\" font-family=\"sans-serif\" font-size=\"12\" lengthAdjust=\"spacingAndGlyphs\" textLength=\"105\" x=\"48\" y=\"37.1074\">ControlNodeTest</text></a><rect fill=\"#000000\" height=\"8\" style=\"stroke: none; stroke-width: 1.0;\" width=\"80\" x=\"60\" y=\"109\"/><rect fill=\"#000000\" height=\"8\" style=\"stroke: none; stroke-width: 1.0;\" width=\"80\" x=\"60\" y=\"125\"/><g id=\"E1.E2\"><a href=\"psysml:63691cb2-c1ae-4262-a628-287378f10d06\" target=\"_top\" title=\"psysml:63691cb2-c1ae-4262-a628-287378f10d06\" xlink:actuate=\"onRequest\" xlink:href=\"psysml:63691cb2-c1ae-4262-a628-287378f10d06\" xlink:show=\"new\" xlink:title=\"psysml:63691cb2-c1ae-4262-a628-287378f10d06\" xlink:type=\"simple\"><rect fill=\"#FFFFFF\" height=\"42.9375\" id=\"E2\" rx=\"10\" ry=\"10\" style=\"stroke: #383838; stroke-width: 1.5;\" width=\"60\" x=\"118\" y=\"58\"/><rect fill=\"#F8F8F8\" height=\"37.9375\" rx=\"10\" ry=\"10\" style=\"stroke: #F8F8F8; stroke-width: 1.5;\" width=\"60\" x=\"118\" y=\"58\"/><rect fill=\"#F8F8F8\" height=\"10\" style=\"stroke: #F8F8F8; stroke-width: 1.5;\" width=\"60\" x=\"118\" y=\"85.9375\"/><rect fill=\"none\" height=\"42.9375\" id=\"E2\" rx=\"10\" ry=\"10\" style=\"stroke: #383838; stroke-width: 1.5;\" width=\"60\" x=\"118\" y=\"58\"/><text fill=\"#000000\" font-family=\"sans-serif\" font-size=\"12\" font-style=\"italic\" lengthAdjust=\"spacingAndGlyphs\" textLength=\"53\" x=\"121.5\" y=\"74.1387\">«action»</text><text fill=\"#000000\" font-family=\"sans-serif\" font-size=\"12\" lengthAdjust=\"spacingAndGlyphs\" textLength=\"16\" x=\"140\" y=\"88.1074\">A1</text></a></g><g id=\"E1.E3\"><a href=\"psysml:c6acf79a-793e-4497-aa33-887aafacc071\" target=\"_top\" title=\"psysml:c6acf79a-793e-4497-aa33-887aafacc071\" xlink:actuate=\"onRequest\" xlink:href=\"psysml:c6acf79a-793e-4497-aa33-887aafacc071\" xlink:show=\"new\" xlink:title=\"psysml:c6acf79a-793e-4497-aa33-887aafacc071\" xlink:type=\"simple\"><rect fill=\"#FFFFFF\" height=\"42.9375\" id=\"E3\" rx=\"10\" ry=\"10\" style=\"stroke: #383838; stroke-width: 1.5;\" width=\"60\" x=\"23\" y=\"58\"/><rect fill=\"#F8F8F8\" height=\"37.9375\" rx=\"10\" ry=\"10\" style=\"stroke: #F8F8F8; stroke-width: 1.5;\" width=\"60\" x=\"23\" y=\"58\"/><rect fill=\"#F8F8F8\" height=\"10\" style=\"stroke: #F8F8F8; stroke-width: 1.5;\" width=\"60\" x=\"23\" y=\"85.9375\"/><rect fill=\"none\" height=\"42.9375\" id=\"E3\" rx=\"10\" ry=\"10\" style=\"stroke: #383838; stroke-width: 1.5;\" width=\"60\" x=\"23\" y=\"58\"/><text fill=\"#000000\" font-family=\"sans-serif\" font-size=\"12\" font-style=\"italic\" lengthAdjust=\"spacingAndGlyphs\" textLength=\"53\" x=\"26.5\" y=\"74.1387\">«action»</text><text fill=\"#000000\" font-family=\"sans-serif\" font-size=\"12\" lengthAdjust=\"spacingAndGlyphs\" textLength=\"16\" x=\"45\" y=\"88.1074\">A2</text></a></g><g id=\"E1.E6\"><a href=\"psysml:2beb575e-cdbc-464e-9dd9-fc16008b4aec\" target=\"_top\" title=\"psysml:2beb575e-cdbc-464e-9dd9-fc16008b4aec\" xlink:actuate=\"onRequest\" xlink:href=\"psysml:2beb575e-cdbc-464e-9dd9-fc16008b4aec\" xlink:show=\"new\" xlink:title=\"psysml:2beb575e-cdbc-464e-9dd9-fc16008b4aec\" xlink:type=\"simple\"><rect fill=\"#FFFFFF\" height=\"42.9375\" id=\"E6\" rx=\"10\" ry=\"10\" style=\"stroke: #383838; stroke-width: 1.5;\" width=\"60\" x=\"23\" y=\"141\"/><rect fill=\"#F8F8F8\" height=\"37.9375\" rx=\"10\" ry=\"10\" style=\"stroke: #F8F8F8; stroke-width: 1.5;\" width=\"60\" x=\"23\" y=\"141\"/><rect fill=\"#F8F8F8\" height=\"10\" style=\"stroke: #F8F8F8; stroke-width: 1.5;\" width=\"60\" x=\"23\" y=\"168.9375\"/><rect fill=\"none\" height=\"42.9375\" id=\"E6\" rx=\"10\" ry=\"10\" style=\"stroke: #383838; stroke-width: 1.5;\" width=\"60\" x=\"23\" y=\"141\"/><text fill=\"#000000\" font-family=\"sans-serif\" font-size=\"12\" font-style=\"italic\" lengthAdjust=\"spacingAndGlyphs\" textLength=\"53\" x=\"26.5\" y=\"157.1387\">«action»</text><text fill=\"#000000\" font-family=\"sans-serif\" font-size=\"12\" lengthAdjust=\"spacingAndGlyphs\" textLength=\"16\" x=\"45\" y=\"171.1074\">B1</text></a></g><g id=\"E1.E7\"><a href=\"psysml:18cbd039-fda1-47ea-ae1e-03ddeff777e2\" target=\"_top\" title=\"psysml:18cbd039-fda1-47ea-ae1e-03ddeff777e2\" xlink:actuate=\"onRequest\" xlink:href=\"psysml:18cbd039-fda1-47ea-ae1e-03ddeff777e2\" xlink:show=\"new\" xlink:title=\"psysml:18cbd039-fda1-47ea-ae1e-03ddeff777e2\" xlink:type=\"simple\"><rect fill=\"#FFFFFF\" height=\"42.9375\" id=\"E7\" rx=\"10\" ry=\"10\" style=\"stroke: #383838; stroke-width: 1.5;\" width=\"60\" x=\"118\" y=\"141\"/><rect fill=\"#F8F8F8\" height=\"37.9375\" rx=\"10\" ry=\"10\" style=\"stroke: #F8F8F8; stroke-width: 1.5;\" width=\"60\" x=\"118\" y=\"141\"/><rect fill=\"#F8F8F8\" height=\"10\" style=\"stroke: #F8F8F8; stroke-width: 1.5;\" width=\"60\" x=\"118\" y=\"168.9375\"/><rect fill=\"none\" height=\"42.9375\" id=\"E7\" rx=\"10\" ry=\"10\" style=\"stroke: #383838; stroke-width: 1.5;\" width=\"60\" x=\"118\" y=\"141\"/><text fill=\"#000000\" font-family=\"sans-serif\" font-size=\"12\" font-style=\"italic\" lengthAdjust=\"spacingAndGlyphs\" textLength=\"53\" x=\"121.5\" y=\"157.1387\">«action»</text><text fill=\"#000000\" font-family=\"sans-serif\" font-size=\"12\" lengthAdjust=\"spacingAndGlyphs\" textLength=\"16\" x=\"140\" y=\"171.1074\">B2</text></a></g><!--MD5=[4d03bb2d0377dc85ccfab60ff574652b]\n",
       "link E2 to E4--><a href=\"psysml:32927b08-9b1f-4059-96b6-74ea858c5377\" target=\"_top\" title=\"psysml:32927b08-9b1f-4059-96b6-74ea858c5377\" xlink:actuate=\"onRequest\" xlink:href=\"psysml:32927b08-9b1f-4059-96b6-74ea858c5377\" xlink:show=\"new\" xlink:title=\"psysml:32927b08-9b1f-4059-96b6-74ea858c5377\" xlink:type=\"simple\"><path d=\"M117.87,100.27 C114.67,102.37 111.63,104.37 108.98,106.1 \" fill=\"none\" id=\"E2-&gt;E4\" style=\"stroke: #383838; stroke-width: 1.0; stroke-dasharray: 7.0,7.0;\"/><polygon fill=\"#383838\" points=\"104.72,108.9,114.4401,107.3128,108.9021,106.1595,110.0554,100.6215,104.72,108.9\" style=\"stroke: #383838; stroke-width: 1.0;\"/></a><!--MD5=[af87c684e3b0d8be13c1a698a818ef1e]\n",
       "link E3 to E4--><a href=\"psysml:6834d0f3-19d8-44ac-95f5-e8bc4db68e8a\" target=\"_top\" title=\"psysml:6834d0f3-19d8-44ac-95f5-e8bc4db68e8a\" xlink:actuate=\"onRequest\" xlink:href=\"psysml:6834d0f3-19d8-44ac-95f5-e8bc4db68e8a\" xlink:show=\"new\" xlink:title=\"psysml:6834d0f3-19d8-44ac-95f5-e8bc4db68e8a\" xlink:type=\"simple\"><path d=\"M83.03,100.63 C85.85,102.52 88.54,104.32 90.9,105.9 \" fill=\"none\" id=\"E3-&gt;E4\" style=\"stroke: #383838; stroke-width: 1.0; stroke-dasharray: 7.0,7.0;\"/><polygon fill=\"#383838\" points=\"95.26,108.82,90.0101,100.487,91.1063,106.0366,85.5567,107.1328,95.26,108.82\" style=\"stroke: #383838; stroke-width: 1.0;\"/></a><!--MD5=[1b7591eae5389033d8d09a9d6721a717]\n",
       "link E4 to E5--><a href=\"psysml:02aceb33-1759-43f7-b21c-5882a5f834e0\" target=\"_top\" title=\"psysml:02aceb33-1759-43f7-b21c-5882a5f834e0\" xlink:actuate=\"onRequest\" xlink:href=\"psysml:02aceb33-1759-43f7-b21c-5882a5f834e0\" xlink:show=\"new\" xlink:title=\"psysml:02aceb33-1759-43f7-b21c-5882a5f834e0\" xlink:type=\"simple\"><path d=\"M100,117.25 C100,118.05 100,118.94 100,119.86 \" fill=\"none\" id=\"E4-&gt;E5\" style=\"stroke: #383838; stroke-width: 1.0; stroke-dasharray: 7.0,7.0;\"/><polygon fill=\"#383838\" points=\"100,124.96,104,115.96,100,119.96,96,115.96,100,124.96\" style=\"stroke: #383838; stroke-width: 1.0;\"/></a><!--MD5=[9120cf2e5df3bff93db8f754bbbc09b4]\n",
       "link E5 to E6--><a href=\"psysml:f43de8b9-7272-426a-b0aa-70e703f3a468\" target=\"_top\" title=\"psysml:f43de8b9-7272-426a-b0aa-70e703f3a468\" xlink:actuate=\"onRequest\" xlink:href=\"psysml:f43de8b9-7272-426a-b0aa-70e703f3a468\" xlink:show=\"new\" xlink:title=\"psysml:f43de8b9-7272-426a-b0aa-70e703f3a468\" xlink:type=\"simple\"><path d=\"M95.32,133.14 C93.21,134.55 90.52,136.35 87.53,138.36 \" fill=\"none\" id=\"E5-&gt;E6\" style=\"stroke: #383838; stroke-width: 1.0; stroke-dasharray: 7.0,7.0;\"/><polygon fill=\"#383838\" points=\"83.27,141.21,92.9706,139.5074,87.4192,138.42,88.5066,132.8687,83.27,141.21\" style=\"stroke: #383838; stroke-width: 1.0;\"/></a><!--MD5=[3a9b96bfbf6b6ad89c494e81751bda47]\n",
       "link E5 to E7--><a href=\"psysml:6de5063b-eb84-4499-9c8a-3a0354e3d885\" target=\"_top\" title=\"psysml:6de5063b-eb84-4499-9c8a-3a0354e3d885\" xlink:actuate=\"onRequest\" xlink:href=\"psysml:6de5063b-eb84-4499-9c8a-3a0354e3d885\" xlink:show=\"new\" xlink:title=\"psysml:6de5063b-eb84-4499-9c8a-3a0354e3d885\" xlink:type=\"simple\"><path d=\"M104.78,133.14 C107.16,134.7 110.28,136.75 113.75,139.02 \" fill=\"none\" id=\"E5-&gt;E7\" style=\"stroke: #383838; stroke-width: 1.0; stroke-dasharray: 7.0,7.0;\"/><polygon fill=\"#383838\" points=\"117.96,141.79,112.6246,133.5115,113.7779,139.0495,108.2399,140.2028,117.96,141.79\" style=\"stroke: #383838; stroke-width: 1.0;\"/></a><!--MD5=[6e5134db5e519f3046d3fe7355ab91b8]\n",
       "@startuml\r\n",
       "skinparam ranksep 8\r\n",
       "skinparam linetype polyline\r\n",
       "skinparam monochrome true\r\n",
       "skinparam classbackgroundcolor white\r\n",
       "skinparam shadowing false\r\n",
       "skinparam wrapWidth 300\r\n",
       "hide circle\r\n",
       "\r\n",
       "rec def \"ControlNodeTest\" as E1  <<(T,blue)action def>> [[psysml:8a19e2dd-7f31-4291-b841-c8e7ad6ceaae ]] {\r\n",
       "rec usage \"A1\" as E2  <<(T,blue)action>> [[psysml:63691cb2-c1ae-4262-a628-287378f10d06 ]] {\r\n",
       "}\r\n",
       "\r\n",
       "rec usage \"A2\" as E3  <<(T,blue)action>> [[psysml:c6acf79a-793e-4497-aa33-887aafacc071 ]] {\r\n",
       "}\r\n",
       "\r\n",
       "join \"J\" as E4  [[psysml:9118671e-8e40-41ce-bc29-e44727581a0d ]] \r\n",
       "fork \"F\" as E5  [[psysml:3c4d5a48-0835-4406-bc0d-d635a7475922 ]] \r\n",
       "rec usage \"B1\" as E6  <<(T,blue)action>> [[psysml:2beb575e-cdbc-464e-9dd9-fc16008b4aec ]] {\r\n",
       "}\r\n",
       "\r\n",
       "rec usage \"B2\" as E7  <<(T,blue)action>> [[psysml:18cbd039-fda1-47ea-ae1e-03ddeff777e2 ]] {\r\n",
       "}\r\n",
       "\r\n",
       "}\r\n",
       "\r\n",
       "E2 ..> E4 [[psysml:32927b08-9b1f-4059-96b6-74ea858c5377 ]] \r\n",
       "E3 ..> E4 [[psysml:6834d0f3-19d8-44ac-95f5-e8bc4db68e8a ]] \r\n",
       "E4 ..> E5 [[psysml:02aceb33-1759-43f7-b21c-5882a5f834e0 ]] \r\n",
       "E5 ..> E6 [[psysml:f43de8b9-7272-426a-b0aa-70e703f3a468 ]] \r\n",
       "E5 ..> E7 [[psysml:6de5063b-eb84-4499-9c8a-3a0354e3d885 ]] \r\n",
       "@enduml\r\n",
       "\n",
       "PlantUML version 1.2020.13(Sat Jun 13 12:26:38 UTC 2020)\n",
       "(EPL source distribution)\n",
       "Java Runtime: OpenJDK Runtime Environment\n",
       "JVM: OpenJDK 64-Bit Server VM\n",
       "Default Encoding: UTF-8\n",
       "Language: en\n",
       "Country: null\n",
       "--></g></svg>"
      ]
     },
     "execution_count": 13,
     "metadata": {},
     "output_type": "execute_result"
    }
   ],
   "source": [
    "%viz --style=\"POLYLINE\" --view=\"Action\" \"ControlNodeTest\""
   ]
  },
  {
   "cell_type": "code",
   "execution_count": 14,
   "id": "identified-reason",
   "metadata": {
    "execution": {
     "iopub.execute_input": "2021-03-26T15:42:07.763866Z",
     "iopub.status.busy": "2021-03-26T15:42:07.762974Z",
     "iopub.status.idle": "2021-03-26T15:42:07.846792Z",
     "shell.execute_reply": "2021-03-26T15:42:07.844129Z"
    }
   },
   "outputs": [
    {
     "data": {
      "image/svg+xml": [
       "<?xml version=\"1.0\" encoding=\"UTF-8\" standalone=\"no\"?><svg xmlns=\"http://www.w3.org/2000/svg\" xmlns:xlink=\"http://www.w3.org/1999/xlink\" contentScriptType=\"application/ecmascript\" contentStyleType=\"text/css\" height=\"191px\" preserveAspectRatio=\"none\" style=\"width:129px;height:191px;\" version=\"1.1\" viewBox=\"0 0 129 191\" width=\"129px\" zoomAndPan=\"magnify\"><defs/><g><!--MD5=[43c9051892ef23e1a46a86907403d788]\n",
       "class E1--><a href=\"psysml:8a19e2dd-7f31-4291-b841-c8e7ad6ceaae\" target=\"_top\" title=\"psysml:8a19e2dd-7f31-4291-b841-c8e7ad6ceaae\" xlink:actuate=\"onRequest\" xlink:href=\"psysml:8a19e2dd-7f31-4291-b841-c8e7ad6ceaae\" xlink:show=\"new\" xlink:title=\"psysml:8a19e2dd-7f31-4291-b841-c8e7ad6ceaae\" xlink:type=\"simple\"><rect fill=\"#FFFFFF\" height=\"173.1797\" id=\"E1\" style=\"stroke: #383838; stroke-width: 1.5;\" width=\"111\" x=\"7\" y=\"7\"/><text fill=\"#000000\" font-family=\"sans-serif\" font-size=\"12\" font-style=\"italic\" lengthAdjust=\"spacingAndGlyphs\" textLength=\"77\" x=\"24\" y=\"23.1387\">«action def»</text><text fill=\"#000000\" font-family=\"sans-serif\" font-size=\"12\" lengthAdjust=\"spacingAndGlyphs\" textLength=\"105\" x=\"10\" y=\"37.1074\">ControlNodeTest</text><line style=\"stroke: #383838; stroke-width: 1.5;\" x1=\"8\" x2=\"117\" y1=\"44.9375\" y2=\"44.9375\"/><text fill=\"#000000\" font-family=\"sans-serif\" font-size=\"11\" lengthAdjust=\"spacingAndGlyphs\" textLength=\"14\" x=\"13\" y=\"75.9526\">A1</text><text fill=\"#000000\" font-family=\"sans-serif\" font-size=\"11\" lengthAdjust=\"spacingAndGlyphs\" textLength=\"14\" x=\"13\" y=\"88.7573\">A2</text><text fill=\"#000000\" font-family=\"sans-serif\" font-size=\"11\" lengthAdjust=\"spacingAndGlyphs\" textLength=\"15\" x=\"13\" y=\"101.562\">B1</text><text fill=\"#000000\" font-family=\"sans-serif\" font-size=\"11\" lengthAdjust=\"spacingAndGlyphs\" textLength=\"15\" x=\"13\" y=\"114.3667\">B2</text><line style=\"stroke: #383838; stroke-width: 1.0;\" x1=\"8\" x2=\"42\" y1=\"59.3398\" y2=\"59.3398\"/><text fill=\"#000000\" font-family=\"sans-serif\" font-size=\"11\" lengthAdjust=\"spacingAndGlyphs\" textLength=\"41\" x=\"42\" y=\"62.6479\">actions</text><line style=\"stroke: #383838; stroke-width: 1.0;\" x1=\"83\" x2=\"117\" y1=\"59.3398\" y2=\"59.3398\"/><text fill=\"#000000\" font-family=\"sans-serif\" font-size=\"11\" lengthAdjust=\"spacingAndGlyphs\" textLength=\"6\" x=\"13\" y=\"143.9761\">F</text><line style=\"stroke: #383838; stroke-width: 1.0;\" x1=\"8\" x2=\"33.5\" y1=\"127.3633\" y2=\"127.3633\"/><text fill=\"#000000\" font-family=\"sans-serif\" font-size=\"11\" lengthAdjust=\"spacingAndGlyphs\" textLength=\"58\" x=\"33.5\" y=\"130.6714\">forkNodes</text><line style=\"stroke: #383838; stroke-width: 1.0;\" x1=\"91.5\" x2=\"117\" y1=\"127.3633\" y2=\"127.3633\"/><text fill=\"#000000\" font-family=\"sans-serif\" font-size=\"11\" lengthAdjust=\"spacingAndGlyphs\" textLength=\"3\" x=\"13\" y=\"173.5854\">J</text><line style=\"stroke: #383838; stroke-width: 1.0;\" x1=\"8\" x2=\"34.5\" y1=\"156.9727\" y2=\"156.9727\"/><text fill=\"#000000\" font-family=\"sans-serif\" font-size=\"11\" lengthAdjust=\"spacingAndGlyphs\" textLength=\"56\" x=\"34.5\" y=\"160.2808\">joinNodes</text><line style=\"stroke: #383838; stroke-width: 1.0;\" x1=\"90.5\" x2=\"117\" y1=\"156.9727\" y2=\"156.9727\"/></a><!--MD5=[243b1544c4d064de13e2ecb329460c9d]\n",
       "@startuml\r\n",
       "skinparam linetype polyline\r\n",
       "skinparam monochrome true\r\n",
       "skinparam classbackgroundcolor white\r\n",
       "skinparam shadowing false\r\n",
       "skinparam wrapWidth 300\r\n",
       "hide circle\r\n",
       "\r\n",
       "comp def \"ControlNodeTest\" as E1  <<(T,blue)action def>> [[psysml:8a19e2dd-7f31-4291-b841-c8e7ad6ceaae ]] {\r\n",
       "- - actions - -\r\n",
       "A1\r\n",
       "A2\r\n",
       "B1\r\n",
       "B2\r\n",
       "- - forkNodes - -\r\n",
       "F\r\n",
       "- - joinNodes - -\r\n",
       "J\r\n",
       "}\r\n",
       "@enduml\r\n",
       "\n",
       "PlantUML version 1.2020.13(Sat Jun 13 12:26:38 UTC 2020)\n",
       "(EPL source distribution)\n",
       "Java Runtime: OpenJDK Runtime Environment\n",
       "JVM: OpenJDK 64-Bit Server VM\n",
       "Default Encoding: UTF-8\n",
       "Language: en\n",
       "Country: null\n",
       "--></g></svg>"
      ]
     },
     "execution_count": 14,
     "metadata": {},
     "output_type": "execute_result"
    }
   ],
   "source": [
    "%viz --style=\"POLYLINE\" --view=\"Sequence\" \"ControlNodeTest\""
   ]
  },
  {
   "cell_type": "code",
   "execution_count": 15,
   "id": "sapphire-disposal",
   "metadata": {
    "execution": {
     "iopub.execute_input": "2021-03-26T15:42:07.899707Z",
     "iopub.status.busy": "2021-03-26T15:42:07.898786Z",
     "iopub.status.idle": "2021-03-26T15:42:07.955250Z",
     "shell.execute_reply": "2021-03-26T15:42:07.953359Z"
    }
   },
   "outputs": [
    {
     "data": {
      "image/svg+xml": [
       "<?xml version=\"1.0\" encoding=\"UTF-8\" standalone=\"no\"?><svg xmlns=\"http://www.w3.org/2000/svg\" xmlns:xlink=\"http://www.w3.org/1999/xlink\" contentScriptType=\"application/ecmascript\" contentStyleType=\"text/css\" height=\"367px\" preserveAspectRatio=\"none\" style=\"width:205px;height:367px;\" version=\"1.1\" viewBox=\"0 0 205 367\" width=\"205px\" zoomAndPan=\"magnify\"><defs/><g><!--MD5=[fbc87193dbaf4d95561dea2c320d4a47]\n",
       "cluster E1--><a href=\"psysml:8a19e2dd-7f31-4291-b841-c8e7ad6ceaae\" target=\"_top\" title=\"psysml:8a19e2dd-7f31-4291-b841-c8e7ad6ceaae\" xlink:actuate=\"onRequest\" xlink:href=\"psysml:8a19e2dd-7f31-4291-b841-c8e7ad6ceaae\" xlink:show=\"new\" xlink:title=\"psysml:8a19e2dd-7f31-4291-b841-c8e7ad6ceaae\" xlink:type=\"simple\"><rect fill=\"#FFFFFF\" height=\"349\" id=\"E1\" style=\"stroke: #383838; stroke-width: 1.5;\" width=\"187\" x=\"7\" y=\"7\"/><rect fill=\"#F8F8F8\" height=\"37.9375\" style=\"stroke: #383838; stroke-width: 1.5;\" width=\"187\" x=\"7\" y=\"7\"/><text fill=\"#000000\" font-family=\"sans-serif\" font-size=\"12\" font-style=\"italic\" lengthAdjust=\"spacingAndGlyphs\" textLength=\"77\" x=\"62\" y=\"23.1387\">«action def»</text><text fill=\"#000000\" font-family=\"sans-serif\" font-size=\"12\" lengthAdjust=\"spacingAndGlyphs\" textLength=\"105\" x=\"48\" y=\"37.1074\">ControlNodeTest</text></a><rect fill=\"#000000\" height=\"8\" style=\"stroke: none; stroke-width: 1.0;\" width=\"80\" x=\"60\" y=\"161\"/><rect fill=\"#000000\" height=\"8\" style=\"stroke: none; stroke-width: 1.0;\" width=\"80\" x=\"60\" y=\"229\"/><g id=\"E1.E2\"><a href=\"psysml:63691cb2-c1ae-4262-a628-287378f10d06\" target=\"_top\" title=\"psysml:63691cb2-c1ae-4262-a628-287378f10d06\" xlink:actuate=\"onRequest\" xlink:href=\"psysml:63691cb2-c1ae-4262-a628-287378f10d06\" xlink:show=\"new\" xlink:title=\"psysml:63691cb2-c1ae-4262-a628-287378f10d06\" xlink:type=\"simple\"><rect fill=\"#FFFFFF\" height=\"42.9375\" id=\"E2\" rx=\"10\" ry=\"10\" style=\"stroke: #383838; stroke-width: 1.5;\" width=\"60\" x=\"118\" y=\"58\"/><rect fill=\"#F8F8F8\" height=\"37.9375\" rx=\"10\" ry=\"10\" style=\"stroke: #F8F8F8; stroke-width: 1.5;\" width=\"60\" x=\"118\" y=\"58\"/><rect fill=\"#F8F8F8\" height=\"10\" style=\"stroke: #F8F8F8; stroke-width: 1.5;\" width=\"60\" x=\"118\" y=\"85.9375\"/><rect fill=\"none\" height=\"42.9375\" id=\"E2\" rx=\"10\" ry=\"10\" style=\"stroke: #383838; stroke-width: 1.5;\" width=\"60\" x=\"118\" y=\"58\"/><text fill=\"#000000\" font-family=\"sans-serif\" font-size=\"12\" font-style=\"italic\" lengthAdjust=\"spacingAndGlyphs\" textLength=\"53\" x=\"121.5\" y=\"74.1387\">«action»</text><text fill=\"#000000\" font-family=\"sans-serif\" font-size=\"12\" lengthAdjust=\"spacingAndGlyphs\" textLength=\"16\" x=\"140\" y=\"88.1074\">A1</text></a></g><g id=\"E1.E3\"><a href=\"psysml:c6acf79a-793e-4497-aa33-887aafacc071\" target=\"_top\" title=\"psysml:c6acf79a-793e-4497-aa33-887aafacc071\" xlink:actuate=\"onRequest\" xlink:href=\"psysml:c6acf79a-793e-4497-aa33-887aafacc071\" xlink:show=\"new\" xlink:title=\"psysml:c6acf79a-793e-4497-aa33-887aafacc071\" xlink:type=\"simple\"><rect fill=\"#FFFFFF\" height=\"42.9375\" id=\"E3\" rx=\"10\" ry=\"10\" style=\"stroke: #383838; stroke-width: 1.5;\" width=\"60\" x=\"23\" y=\"58\"/><rect fill=\"#F8F8F8\" height=\"37.9375\" rx=\"10\" ry=\"10\" style=\"stroke: #F8F8F8; stroke-width: 1.5;\" width=\"60\" x=\"23\" y=\"58\"/><rect fill=\"#F8F8F8\" height=\"10\" style=\"stroke: #F8F8F8; stroke-width: 1.5;\" width=\"60\" x=\"23\" y=\"85.9375\"/><rect fill=\"none\" height=\"42.9375\" id=\"E3\" rx=\"10\" ry=\"10\" style=\"stroke: #383838; stroke-width: 1.5;\" width=\"60\" x=\"23\" y=\"58\"/><text fill=\"#000000\" font-family=\"sans-serif\" font-size=\"12\" font-style=\"italic\" lengthAdjust=\"spacingAndGlyphs\" textLength=\"53\" x=\"26.5\" y=\"74.1387\">«action»</text><text fill=\"#000000\" font-family=\"sans-serif\" font-size=\"12\" lengthAdjust=\"spacingAndGlyphs\" textLength=\"16\" x=\"45\" y=\"88.1074\">A2</text></a></g><g id=\"E1.E6\"><a href=\"psysml:2beb575e-cdbc-464e-9dd9-fc16008b4aec\" target=\"_top\" title=\"psysml:2beb575e-cdbc-464e-9dd9-fc16008b4aec\" xlink:actuate=\"onRequest\" xlink:href=\"psysml:2beb575e-cdbc-464e-9dd9-fc16008b4aec\" xlink:show=\"new\" xlink:title=\"psysml:2beb575e-cdbc-464e-9dd9-fc16008b4aec\" xlink:type=\"simple\"><rect fill=\"#FFFFFF\" height=\"42.9375\" id=\"E6\" rx=\"10\" ry=\"10\" style=\"stroke: #383838; stroke-width: 1.5;\" width=\"60\" x=\"23\" y=\"297\"/><rect fill=\"#F8F8F8\" height=\"37.9375\" rx=\"10\" ry=\"10\" style=\"stroke: #F8F8F8; stroke-width: 1.5;\" width=\"60\" x=\"23\" y=\"297\"/><rect fill=\"#F8F8F8\" height=\"10\" style=\"stroke: #F8F8F8; stroke-width: 1.5;\" width=\"60\" x=\"23\" y=\"324.9375\"/><rect fill=\"none\" height=\"42.9375\" id=\"E6\" rx=\"10\" ry=\"10\" style=\"stroke: #383838; stroke-width: 1.5;\" width=\"60\" x=\"23\" y=\"297\"/><text fill=\"#000000\" font-family=\"sans-serif\" font-size=\"12\" font-style=\"italic\" lengthAdjust=\"spacingAndGlyphs\" textLength=\"53\" x=\"26.5\" y=\"313.1387\">«action»</text><text fill=\"#000000\" font-family=\"sans-serif\" font-size=\"12\" lengthAdjust=\"spacingAndGlyphs\" textLength=\"16\" x=\"45\" y=\"327.1074\">B1</text></a></g><g id=\"E1.E7\"><a href=\"psysml:18cbd039-fda1-47ea-ae1e-03ddeff777e2\" target=\"_top\" title=\"psysml:18cbd039-fda1-47ea-ae1e-03ddeff777e2\" xlink:actuate=\"onRequest\" xlink:href=\"psysml:18cbd039-fda1-47ea-ae1e-03ddeff777e2\" xlink:show=\"new\" xlink:title=\"psysml:18cbd039-fda1-47ea-ae1e-03ddeff777e2\" xlink:type=\"simple\"><rect fill=\"#FFFFFF\" height=\"42.9375\" id=\"E7\" rx=\"10\" ry=\"10\" style=\"stroke: #383838; stroke-width: 1.5;\" width=\"60\" x=\"118\" y=\"297\"/><rect fill=\"#F8F8F8\" height=\"37.9375\" rx=\"10\" ry=\"10\" style=\"stroke: #F8F8F8; stroke-width: 1.5;\" width=\"60\" x=\"118\" y=\"297\"/><rect fill=\"#F8F8F8\" height=\"10\" style=\"stroke: #F8F8F8; stroke-width: 1.5;\" width=\"60\" x=\"118\" y=\"324.9375\"/><rect fill=\"none\" height=\"42.9375\" id=\"E7\" rx=\"10\" ry=\"10\" style=\"stroke: #383838; stroke-width: 1.5;\" width=\"60\" x=\"118\" y=\"297\"/><text fill=\"#000000\" font-family=\"sans-serif\" font-size=\"12\" font-style=\"italic\" lengthAdjust=\"spacingAndGlyphs\" textLength=\"53\" x=\"121.5\" y=\"313.1387\">«action»</text><text fill=\"#000000\" font-family=\"sans-serif\" font-size=\"12\" lengthAdjust=\"spacingAndGlyphs\" textLength=\"16\" x=\"140\" y=\"327.1074\">B2</text></a></g><!--MD5=[4d03bb2d0377dc85ccfab60ff574652b]\n",
       "link E2 to E4--><a href=\"psysml:32927b08-9b1f-4059-96b6-74ea858c5377\" target=\"_top\" title=\"psysml:32927b08-9b1f-4059-96b6-74ea858c5377\" xlink:actuate=\"onRequest\" xlink:href=\"psysml:32927b08-9b1f-4059-96b6-74ea858c5377\" xlink:show=\"new\" xlink:title=\"psysml:32927b08-9b1f-4059-96b6-74ea858c5377\" xlink:type=\"simple\"><path d=\"M136.13,101.14 C125.84,119.06 111.49,144.01 104.37,156.4 \" fill=\"none\" id=\"E2-&gt;E4\" style=\"stroke: #383838; stroke-width: 1.0;\"/><polygon fill=\"#383838\" points=\"101.79,160.88,109.7406,155.0673,104.2799,156.5441,102.8031,151.0834,101.79,160.88\" style=\"stroke: #383838; stroke-width: 1.0;\"/></a><!--MD5=[af87c684e3b0d8be13c1a698a818ef1e]\n",
       "link E3 to E4--><a href=\"psysml:6834d0f3-19d8-44ac-95f5-e8bc4db68e8a\" target=\"_top\" title=\"psysml:6834d0f3-19d8-44ac-95f5-e8bc4db68e8a\" xlink:actuate=\"onRequest\" xlink:href=\"psysml:6834d0f3-19d8-44ac-95f5-e8bc4db68e8a\" xlink:show=\"new\" xlink:title=\"psysml:6834d0f3-19d8-44ac-95f5-e8bc4db68e8a\" xlink:type=\"simple\"><path d=\"M64.62,101.14 C74.7,119.06 88.75,144.01 95.72,156.4 \" fill=\"none\" id=\"E3-&gt;E4\" style=\"stroke: #383838; stroke-width: 1.0;\"/><polygon fill=\"#383838\" points=\"98.25,160.88,97.3377,151.0735,95.8048,156.5187,90.3596,154.9858,98.25,160.88\" style=\"stroke: #383838; stroke-width: 1.0;\"/></a><!--MD5=[1b7591eae5389033d8d09a9d6721a717]\n",
       "link E4 to E5--><a href=\"psysml:02aceb33-1759-43f7-b21c-5882a5f834e0\" target=\"_top\" title=\"psysml:02aceb33-1759-43f7-b21c-5882a5f834e0\" xlink:actuate=\"onRequest\" xlink:href=\"psysml:02aceb33-1759-43f7-b21c-5882a5f834e0\" xlink:show=\"new\" xlink:title=\"psysml:02aceb33-1759-43f7-b21c-5882a5f834e0\" xlink:type=\"simple\"><path d=\"M100,169.18 C100,178.92 100,208.52 100,223.34 \" fill=\"none\" id=\"E4-&gt;E5\" style=\"stroke: #383838; stroke-width: 1.0;\"/><polygon fill=\"#383838\" points=\"100,228.69,104,219.69,100,223.69,96,219.69,100,228.69\" style=\"stroke: #383838; stroke-width: 1.0;\"/></a><!--MD5=[9120cf2e5df3bff93db8f754bbbc09b4]\n",
       "link E5 to E6--><a href=\"psysml:f43de8b9-7272-426a-b0aa-70e703f3a468\" target=\"_top\" title=\"psysml:f43de8b9-7272-426a-b0aa-70e703f3a468\" xlink:actuate=\"onRequest\" xlink:href=\"psysml:f43de8b9-7272-426a-b0aa-70e703f3a468\" xlink:show=\"new\" xlink:title=\"psysml:f43de8b9-7272-426a-b0aa-70e703f3a468\" xlink:type=\"simple\"><path d=\"M98.21,237.17 C93.16,246.14 78.41,272.36 67.11,292.43 \" fill=\"none\" id=\"E5-&gt;E6\" style=\"stroke: #383838; stroke-width: 1.0;\"/><polygon fill=\"#383838\" points=\"64.61,296.87,72.5151,290.9955,67.0661,292.5148,65.5467,287.0658,64.61,296.87\" style=\"stroke: #383838; stroke-width: 1.0;\"/></a><!--MD5=[3a9b96bfbf6b6ad89c494e81751bda47]\n",
       "link E5 to E7--><a href=\"psysml:6de5063b-eb84-4499-9c8a-3a0354e3d885\" target=\"_top\" title=\"psysml:6de5063b-eb84-4499-9c8a-3a0354e3d885\" xlink:actuate=\"onRequest\" xlink:href=\"psysml:6de5063b-eb84-4499-9c8a-3a0354e3d885\" xlink:show=\"new\" xlink:title=\"psysml:6de5063b-eb84-4499-9c8a-3a0354e3d885\" xlink:type=\"simple\"><path d=\"M101.82,237.17 C106.98,246.14 122.05,272.36 133.59,292.43 \" fill=\"none\" id=\"E5-&gt;E7\" style=\"stroke: #383838; stroke-width: 1.0;\"/><polygon fill=\"#383838\" points=\"136.14,296.87,135.1269,287.0734,133.6501,292.5341,128.1894,291.0573,136.14,296.87\" style=\"stroke: #383838; stroke-width: 1.0;\"/></a><!--MD5=[f7016d89b067aa9cafd4705c83ba5f8c]\n",
       "@startuml\r\n",
       "skinparam linetype polyline\r\n",
       "skinparam monochrome true\r\n",
       "skinparam classbackgroundcolor white\r\n",
       "skinparam shadowing false\r\n",
       "skinparam wrapWidth 300\r\n",
       "hide circle\r\n",
       "\r\n",
       "rec def \"ControlNodeTest\" as E1  <<(T,blue)action def>> [[psysml:8a19e2dd-7f31-4291-b841-c8e7ad6ceaae ]] {\r\n",
       "rec usage \"A1\" as E2  <<(T,blue)action>> [[psysml:63691cb2-c1ae-4262-a628-287378f10d06 ]] {\r\n",
       "}\r\n",
       "\r\n",
       "rec usage \"A2\" as E3  <<(T,blue)action>> [[psysml:c6acf79a-793e-4497-aa33-887aafacc071 ]] {\r\n",
       "}\r\n",
       "\r\n",
       "join \"J\" as E4  [[psysml:9118671e-8e40-41ce-bc29-e44727581a0d ]] \r\n",
       "fork \"F\" as E5  [[psysml:3c4d5a48-0835-4406-bc0d-d635a7475922 ]] \r\n",
       "rec usage \"B1\" as E6  <<(T,blue)action>> [[psysml:2beb575e-cdbc-464e-9dd9-fc16008b4aec ]] {\r\n",
       "}\r\n",
       "\r\n",
       "rec usage \"B2\" as E7  <<(T,blue)action>> [[psysml:18cbd039-fda1-47ea-ae1e-03ddeff777e2 ]] {\r\n",
       "}\r\n",
       "\r\n",
       "}\r\n",
       "\r\n",
       "E2 - -> E4 [[psysml:32927b08-9b1f-4059-96b6-74ea858c5377 ]] \r\n",
       "E3 - -> E4 [[psysml:6834d0f3-19d8-44ac-95f5-e8bc4db68e8a ]] \r\n",
       "E4 - -> E5 [[psysml:02aceb33-1759-43f7-b21c-5882a5f834e0 ]] \r\n",
       "E5 - -> E6 [[psysml:f43de8b9-7272-426a-b0aa-70e703f3a468 ]] \r\n",
       "E5 - -> E7 [[psysml:6de5063b-eb84-4499-9c8a-3a0354e3d885 ]] \r\n",
       "@enduml\r\n",
       "\n",
       "PlantUML version 1.2020.13(Sat Jun 13 12:26:38 UTC 2020)\n",
       "(EPL source distribution)\n",
       "Java Runtime: OpenJDK Runtime Environment\n",
       "JVM: OpenJDK 64-Bit Server VM\n",
       "Default Encoding: UTF-8\n",
       "Language: en\n",
       "Country: null\n",
       "--></g></svg>"
      ]
     },
     "execution_count": 15,
     "metadata": {},
     "output_type": "execute_result"
    }
   ],
   "source": [
    "%viz --style=\"POLYLINE\" --view=\"MIXED\" \"ControlNodeTest\""
   ]
  },
  {
   "cell_type": "code",
   "execution_count": 16,
   "id": "cosmetic-satin",
   "metadata": {
    "execution": {
     "iopub.execute_input": "2021-03-26T15:42:08.011135Z",
     "iopub.status.busy": "2021-03-26T15:42:08.009974Z",
     "iopub.status.idle": "2021-03-26T15:42:08.050044Z",
     "shell.execute_reply": "2021-03-26T15:42:08.048641Z"
    }
   },
   "outputs": [
    {
     "data": {
      "image/svg+xml": [
       "<?xml version=\"1.0\" encoding=\"UTF-8\" standalone=\"no\"?><svg xmlns=\"http://www.w3.org/2000/svg\" xmlns:xlink=\"http://www.w3.org/1999/xlink\" contentScriptType=\"application/ecmascript\" contentStyleType=\"text/css\" height=\"207px\" preserveAspectRatio=\"none\" style=\"width:366px;height:207px;\" version=\"1.1\" viewBox=\"0 0 366 207\" width=\"366px\" zoomAndPan=\"magnify\"><defs/><g><!--MD5=[fbc87193dbaf4d95561dea2c320d4a47]\n",
       "cluster E1--><a href=\"psysml:8a19e2dd-7f31-4291-b841-c8e7ad6ceaae\" target=\"_top\" title=\"psysml:8a19e2dd-7f31-4291-b841-c8e7ad6ceaae\" xlink:actuate=\"onRequest\" xlink:href=\"psysml:8a19e2dd-7f31-4291-b841-c8e7ad6ceaae\" xlink:show=\"new\" xlink:title=\"psysml:8a19e2dd-7f31-4291-b841-c8e7ad6ceaae\" xlink:type=\"simple\"><rect fill=\"#FFFFFF\" height=\"189\" id=\"E1\" style=\"stroke: #383838; stroke-width: 1.5;\" width=\"348\" x=\"7\" y=\"7\"/><rect fill=\"#F8F8F8\" height=\"37.9375\" style=\"stroke: #383838; stroke-width: 1.5;\" width=\"348\" x=\"7\" y=\"7\"/><text fill=\"#000000\" font-family=\"sans-serif\" font-size=\"12\" font-style=\"italic\" lengthAdjust=\"spacingAndGlyphs\" textLength=\"77\" x=\"142.5\" y=\"23.1387\">«action def»</text><text fill=\"#000000\" font-family=\"sans-serif\" font-size=\"12\" lengthAdjust=\"spacingAndGlyphs\" textLength=\"105\" x=\"128.5\" y=\"37.1074\">ControlNodeTest</text></a><rect fill=\"#000000\" height=\"80\" style=\"stroke: none; stroke-width: 1.0;\" width=\"8\" x=\"143\" y=\"79\"/><rect fill=\"#000000\" height=\"80\" style=\"stroke: none; stroke-width: 1.0;\" width=\"8\" x=\"211\" y=\"79\"/><g id=\"E1.E2\"><a href=\"psysml:63691cb2-c1ae-4262-a628-287378f10d06\" target=\"_top\" title=\"psysml:63691cb2-c1ae-4262-a628-287378f10d06\" xlink:actuate=\"onRequest\" xlink:href=\"psysml:63691cb2-c1ae-4262-a628-287378f10d06\" xlink:show=\"new\" xlink:title=\"psysml:63691cb2-c1ae-4262-a628-287378f10d06\" xlink:type=\"simple\"><rect fill=\"#FFFFFF\" height=\"42.9375\" id=\"E2\" rx=\"10\" ry=\"10\" style=\"stroke: #383838; stroke-width: 1.5;\" width=\"60\" x=\"23\" y=\"58.5\"/><rect fill=\"#F8F8F8\" height=\"37.9375\" rx=\"10\" ry=\"10\" style=\"stroke: #F8F8F8; stroke-width: 1.5;\" width=\"60\" x=\"23\" y=\"58.5\"/><rect fill=\"#F8F8F8\" height=\"10\" style=\"stroke: #F8F8F8; stroke-width: 1.5;\" width=\"60\" x=\"23\" y=\"86.4375\"/><rect fill=\"none\" height=\"42.9375\" id=\"E2\" rx=\"10\" ry=\"10\" style=\"stroke: #383838; stroke-width: 1.5;\" width=\"60\" x=\"23\" y=\"58.5\"/><text fill=\"#000000\" font-family=\"sans-serif\" font-size=\"12\" font-style=\"italic\" lengthAdjust=\"spacingAndGlyphs\" textLength=\"53\" x=\"26.5\" y=\"74.6387\">«action»</text><text fill=\"#000000\" font-family=\"sans-serif\" font-size=\"12\" lengthAdjust=\"spacingAndGlyphs\" textLength=\"16\" x=\"45\" y=\"88.6074\">A1</text></a></g><g id=\"E1.E3\"><a href=\"psysml:c6acf79a-793e-4497-aa33-887aafacc071\" target=\"_top\" title=\"psysml:c6acf79a-793e-4497-aa33-887aafacc071\" xlink:actuate=\"onRequest\" xlink:href=\"psysml:c6acf79a-793e-4497-aa33-887aafacc071\" xlink:show=\"new\" xlink:title=\"psysml:c6acf79a-793e-4497-aa33-887aafacc071\" xlink:type=\"simple\"><rect fill=\"#FFFFFF\" height=\"42.9375\" id=\"E3\" rx=\"10\" ry=\"10\" style=\"stroke: #383838; stroke-width: 1.5;\" width=\"60\" x=\"23\" y=\"136.5\"/><rect fill=\"#F8F8F8\" height=\"37.9375\" rx=\"10\" ry=\"10\" style=\"stroke: #F8F8F8; stroke-width: 1.5;\" width=\"60\" x=\"23\" y=\"136.5\"/><rect fill=\"#F8F8F8\" height=\"10\" style=\"stroke: #F8F8F8; stroke-width: 1.5;\" width=\"60\" x=\"23\" y=\"164.4375\"/><rect fill=\"none\" height=\"42.9375\" id=\"E3\" rx=\"10\" ry=\"10\" style=\"stroke: #383838; stroke-width: 1.5;\" width=\"60\" x=\"23\" y=\"136.5\"/><text fill=\"#000000\" font-family=\"sans-serif\" font-size=\"12\" font-style=\"italic\" lengthAdjust=\"spacingAndGlyphs\" textLength=\"53\" x=\"26.5\" y=\"152.6387\">«action»</text><text fill=\"#000000\" font-family=\"sans-serif\" font-size=\"12\" lengthAdjust=\"spacingAndGlyphs\" textLength=\"16\" x=\"45\" y=\"166.6074\">A2</text></a></g><g id=\"E1.E6\"><a href=\"psysml:2beb575e-cdbc-464e-9dd9-fc16008b4aec\" target=\"_top\" title=\"psysml:2beb575e-cdbc-464e-9dd9-fc16008b4aec\" xlink:actuate=\"onRequest\" xlink:href=\"psysml:2beb575e-cdbc-464e-9dd9-fc16008b4aec\" xlink:show=\"new\" xlink:title=\"psysml:2beb575e-cdbc-464e-9dd9-fc16008b4aec\" xlink:type=\"simple\"><rect fill=\"#FFFFFF\" height=\"42.9375\" id=\"E6\" rx=\"10\" ry=\"10\" style=\"stroke: #383838; stroke-width: 1.5;\" width=\"60\" x=\"279\" y=\"136.5\"/><rect fill=\"#F8F8F8\" height=\"37.9375\" rx=\"10\" ry=\"10\" style=\"stroke: #F8F8F8; stroke-width: 1.5;\" width=\"60\" x=\"279\" y=\"136.5\"/><rect fill=\"#F8F8F8\" height=\"10\" style=\"stroke: #F8F8F8; stroke-width: 1.5;\" width=\"60\" x=\"279\" y=\"164.4375\"/><rect fill=\"none\" height=\"42.9375\" id=\"E6\" rx=\"10\" ry=\"10\" style=\"stroke: #383838; stroke-width: 1.5;\" width=\"60\" x=\"279\" y=\"136.5\"/><text fill=\"#000000\" font-family=\"sans-serif\" font-size=\"12\" font-style=\"italic\" lengthAdjust=\"spacingAndGlyphs\" textLength=\"53\" x=\"282.5\" y=\"152.6387\">«action»</text><text fill=\"#000000\" font-family=\"sans-serif\" font-size=\"12\" lengthAdjust=\"spacingAndGlyphs\" textLength=\"16\" x=\"301\" y=\"166.6074\">B1</text></a></g><g id=\"E1.E7\"><a href=\"psysml:18cbd039-fda1-47ea-ae1e-03ddeff777e2\" target=\"_top\" title=\"psysml:18cbd039-fda1-47ea-ae1e-03ddeff777e2\" xlink:actuate=\"onRequest\" xlink:href=\"psysml:18cbd039-fda1-47ea-ae1e-03ddeff777e2\" xlink:show=\"new\" xlink:title=\"psysml:18cbd039-fda1-47ea-ae1e-03ddeff777e2\" xlink:type=\"simple\"><rect fill=\"#FFFFFF\" height=\"42.9375\" id=\"E7\" rx=\"10\" ry=\"10\" style=\"stroke: #383838; stroke-width: 1.5;\" width=\"60\" x=\"279\" y=\"58.5\"/><rect fill=\"#F8F8F8\" height=\"37.9375\" rx=\"10\" ry=\"10\" style=\"stroke: #F8F8F8; stroke-width: 1.5;\" width=\"60\" x=\"279\" y=\"58.5\"/><rect fill=\"#F8F8F8\" height=\"10\" style=\"stroke: #F8F8F8; stroke-width: 1.5;\" width=\"60\" x=\"279\" y=\"86.4375\"/><rect fill=\"none\" height=\"42.9375\" id=\"E7\" rx=\"10\" ry=\"10\" style=\"stroke: #383838; stroke-width: 1.5;\" width=\"60\" x=\"279\" y=\"58.5\"/><text fill=\"#000000\" font-family=\"sans-serif\" font-size=\"12\" font-style=\"italic\" lengthAdjust=\"spacingAndGlyphs\" textLength=\"53\" x=\"282.5\" y=\"74.6387\">«action»</text><text fill=\"#000000\" font-family=\"sans-serif\" font-size=\"12\" lengthAdjust=\"spacingAndGlyphs\" textLength=\"16\" x=\"301\" y=\"88.6074\">B2</text></a></g><!--MD5=[4d03bb2d0377dc85ccfab60ff574652b]\n",
       "link E2 to E4--><a href=\"psysml:32927b08-9b1f-4059-96b6-74ea858c5377\" target=\"_top\" title=\"psysml:32927b08-9b1f-4059-96b6-74ea858c5377\" xlink:actuate=\"onRequest\" xlink:href=\"psysml:32927b08-9b1f-4059-96b6-74ea858c5377\" xlink:show=\"new\" xlink:title=\"psysml:32927b08-9b1f-4059-96b6-74ea858c5377\" xlink:type=\"simple\"><path d=\"M83.11,92.34 C102.1,100.39 125.55,110.33 137.75,115.5 \" fill=\"none\" id=\"E2-&gt;E4\" style=\"stroke: #383838; stroke-width: 1.0;\"/><polygon fill=\"#383838\" points=\"142.51,117.52,135.7944,110.3158,137.9091,115.5625,132.6624,117.6772,142.51,117.52\" style=\"stroke: #383838; stroke-width: 1.0;\"/></a><!--MD5=[af87c684e3b0d8be13c1a698a818ef1e]\n",
       "link E3 to E4--><a href=\"psysml:6834d0f3-19d8-44ac-95f5-e8bc4db68e8a\" target=\"_top\" title=\"psysml:6834d0f3-19d8-44ac-95f5-e8bc4db68e8a\" xlink:actuate=\"onRequest\" xlink:href=\"psysml:6834d0f3-19d8-44ac-95f5-e8bc4db68e8a\" xlink:show=\"new\" xlink:title=\"psysml:6834d0f3-19d8-44ac-95f5-e8bc4db68e8a\" xlink:type=\"simple\"><path d=\"M83.11,145.66 C102.1,137.61 125.55,127.67 137.75,122.5 \" fill=\"none\" id=\"E3-&gt;E4\" style=\"stroke: #383838; stroke-width: 1.0;\"/><polygon fill=\"#383838\" points=\"142.51,120.48,132.6624,120.3228,137.9091,122.4375,135.7944,127.6842,142.51,120.48\" style=\"stroke: #383838; stroke-width: 1.0;\"/></a><!--MD5=[1b7591eae5389033d8d09a9d6721a717]\n",
       "link E4 to E5--><a href=\"psysml:02aceb33-1759-43f7-b21c-5882a5f834e0\" target=\"_top\" title=\"psysml:02aceb33-1759-43f7-b21c-5882a5f834e0\" xlink:actuate=\"onRequest\" xlink:href=\"psysml:02aceb33-1759-43f7-b21c-5882a5f834e0\" xlink:show=\"new\" xlink:title=\"psysml:02aceb33-1759-43f7-b21c-5882a5f834e0\" xlink:type=\"simple\"><path d=\"M151.18,119 C160.92,119 190.52,119 205.34,119 \" fill=\"none\" id=\"E4-&gt;E5\" style=\"stroke: #383838; stroke-width: 1.0;\"/><polygon fill=\"#383838\" points=\"210.69,119,201.69,115,205.69,119,201.69,123,210.69,119\" style=\"stroke: #383838; stroke-width: 1.0;\"/></a><!--MD5=[9120cf2e5df3bff93db8f754bbbc09b4]\n",
       "link E5 to E6--><a href=\"psysml:f43de8b9-7272-426a-b0aa-70e703f3a468\" target=\"_top\" title=\"psysml:f43de8b9-7272-426a-b0aa-70e703f3a468\" xlink:actuate=\"onRequest\" xlink:href=\"psysml:f43de8b9-7272-426a-b0aa-70e703f3a468\" xlink:show=\"new\" xlink:title=\"psysml:f43de8b9-7272-426a-b0aa-70e703f3a468\" xlink:type=\"simple\"><path d=\"M219.06,120.3 C227.64,123.93 252.69,134.55 274.03,143.6 \" fill=\"none\" id=\"E5-&gt;E6\" style=\"stroke: #383838; stroke-width: 1.0;\"/><polygon fill=\"#383838\" points=\"278.8,145.62,272.0844,138.4158,274.1991,143.6625,268.9524,145.7772,278.8,145.62\" style=\"stroke: #383838; stroke-width: 1.0;\"/></a><!--MD5=[3a9b96bfbf6b6ad89c494e81751bda47]\n",
       "link E5 to E7--><a href=\"psysml:6de5063b-eb84-4499-9c8a-3a0354e3d885\" target=\"_top\" title=\"psysml:6de5063b-eb84-4499-9c8a-3a0354e3d885\" xlink:actuate=\"onRequest\" xlink:href=\"psysml:6de5063b-eb84-4499-9c8a-3a0354e3d885\" xlink:show=\"new\" xlink:title=\"psysml:6de5063b-eb84-4499-9c8a-3a0354e3d885\" xlink:type=\"simple\"><path d=\"M219.06,117.7 C227.64,114.07 252.69,103.45 274.03,94.4 \" fill=\"none\" id=\"E5-&gt;E7\" style=\"stroke: #383838; stroke-width: 1.0;\"/><polygon fill=\"#383838\" points=\"278.8,92.38,268.9524,92.2228,274.1991,94.3375,272.0844,99.5842,278.8,92.38\" style=\"stroke: #383838; stroke-width: 1.0;\"/></a><!--MD5=[6669756e3c4fb7fdb90fb773f947b0c6]\n",
       "@startuml\r\n",
       "left to right direction\r\n",
       "skinparam monochrome true\r\n",
       "skinparam classbackgroundcolor white\r\n",
       "skinparam shadowing false\r\n",
       "skinparam wrapWidth 300\r\n",
       "hide circle\r\n",
       "\r\n",
       "rec def \"ControlNodeTest\" as E1  <<(T,blue)action def>> [[psysml:8a19e2dd-7f31-4291-b841-c8e7ad6ceaae ]] {\r\n",
       "rec usage \"A1\" as E2  <<(T,blue)action>> [[psysml:63691cb2-c1ae-4262-a628-287378f10d06 ]] {\r\n",
       "}\r\n",
       "\r\n",
       "rec usage \"A2\" as E3  <<(T,blue)action>> [[psysml:c6acf79a-793e-4497-aa33-887aafacc071 ]] {\r\n",
       "}\r\n",
       "\r\n",
       "join \"J\" as E4  [[psysml:9118671e-8e40-41ce-bc29-e44727581a0d ]] \r\n",
       "fork \"F\" as E5  [[psysml:3c4d5a48-0835-4406-bc0d-d635a7475922 ]] \r\n",
       "rec usage \"B1\" as E6  <<(T,blue)action>> [[psysml:2beb575e-cdbc-464e-9dd9-fc16008b4aec ]] {\r\n",
       "}\r\n",
       "\r\n",
       "rec usage \"B2\" as E7  <<(T,blue)action>> [[psysml:18cbd039-fda1-47ea-ae1e-03ddeff777e2 ]] {\r\n",
       "}\r\n",
       "\r\n",
       "}\r\n",
       "\r\n",
       "E2 - -> E4 [[psysml:32927b08-9b1f-4059-96b6-74ea858c5377 ]] \r\n",
       "E3 - -> E4 [[psysml:6834d0f3-19d8-44ac-95f5-e8bc4db68e8a ]] \r\n",
       "E4 - -> E5 [[psysml:02aceb33-1759-43f7-b21c-5882a5f834e0 ]] \r\n",
       "E5 - -> E6 [[psysml:f43de8b9-7272-426a-b0aa-70e703f3a468 ]] \r\n",
       "E5 - -> E7 [[psysml:6de5063b-eb84-4499-9c8a-3a0354e3d885 ]] \r\n",
       "@enduml\r\n",
       "\n",
       "PlantUML version 1.2020.13(Sat Jun 13 12:26:38 UTC 2020)\n",
       "(EPL source distribution)\n",
       "Java Runtime: OpenJDK Runtime Environment\n",
       "JVM: OpenJDK 64-Bit Server VM\n",
       "Default Encoding: UTF-8\n",
       "Language: en\n",
       "Country: null\n",
       "--></g></svg>"
      ]
     },
     "execution_count": 16,
     "metadata": {},
     "output_type": "execute_result"
    }
   ],
   "source": [
    "%viz --style=\"LR\" --view=\"Default\" \"ControlNodeTest\""
   ]
  },
  {
   "cell_type": "code",
   "execution_count": 17,
   "id": "musical-tuition",
   "metadata": {
    "execution": {
     "iopub.execute_input": "2021-03-26T15:42:08.104774Z",
     "iopub.status.busy": "2021-03-26T15:42:08.104159Z",
     "iopub.status.idle": "2021-03-26T15:42:08.166054Z",
     "shell.execute_reply": "2021-03-26T15:42:08.165423Z"
    }
   },
   "outputs": [
    {
     "data": {
      "image/svg+xml": [
       "<?xml version=\"1.0\" encoding=\"UTF-8\" standalone=\"no\"?><svg xmlns=\"http://www.w3.org/2000/svg\" xmlns:xlink=\"http://www.w3.org/1999/xlink\" contentScriptType=\"application/ecmascript\" contentStyleType=\"text/css\" height=\"191px\" preserveAspectRatio=\"none\" style=\"width:129px;height:191px;\" version=\"1.1\" viewBox=\"0 0 129 191\" width=\"129px\" zoomAndPan=\"magnify\"><defs/><g><!--MD5=[43c9051892ef23e1a46a86907403d788]\n",
       "class E1--><a href=\"psysml:8a19e2dd-7f31-4291-b841-c8e7ad6ceaae\" target=\"_top\" title=\"psysml:8a19e2dd-7f31-4291-b841-c8e7ad6ceaae\" xlink:actuate=\"onRequest\" xlink:href=\"psysml:8a19e2dd-7f31-4291-b841-c8e7ad6ceaae\" xlink:show=\"new\" xlink:title=\"psysml:8a19e2dd-7f31-4291-b841-c8e7ad6ceaae\" xlink:type=\"simple\"><rect fill=\"#FFFFFF\" height=\"173.1797\" id=\"E1\" style=\"stroke: #383838; stroke-width: 1.5;\" width=\"111\" x=\"7\" y=\"7\"/><text fill=\"#000000\" font-family=\"sans-serif\" font-size=\"12\" font-style=\"italic\" lengthAdjust=\"spacingAndGlyphs\" textLength=\"77\" x=\"24\" y=\"23.1387\">«action def»</text><text fill=\"#000000\" font-family=\"sans-serif\" font-size=\"12\" lengthAdjust=\"spacingAndGlyphs\" textLength=\"105\" x=\"10\" y=\"37.1074\">ControlNodeTest</text><line style=\"stroke: #383838; stroke-width: 1.5;\" x1=\"8\" x2=\"117\" y1=\"44.9375\" y2=\"44.9375\"/><text fill=\"#000000\" font-family=\"sans-serif\" font-size=\"11\" lengthAdjust=\"spacingAndGlyphs\" textLength=\"14\" x=\"13\" y=\"75.9526\">A1</text><text fill=\"#000000\" font-family=\"sans-serif\" font-size=\"11\" lengthAdjust=\"spacingAndGlyphs\" textLength=\"14\" x=\"13\" y=\"88.7573\">A2</text><text fill=\"#000000\" font-family=\"sans-serif\" font-size=\"11\" lengthAdjust=\"spacingAndGlyphs\" textLength=\"15\" x=\"13\" y=\"101.562\">B1</text><text fill=\"#000000\" font-family=\"sans-serif\" font-size=\"11\" lengthAdjust=\"spacingAndGlyphs\" textLength=\"15\" x=\"13\" y=\"114.3667\">B2</text><line style=\"stroke: #383838; stroke-width: 1.0;\" x1=\"8\" x2=\"42\" y1=\"59.3398\" y2=\"59.3398\"/><text fill=\"#000000\" font-family=\"sans-serif\" font-size=\"11\" lengthAdjust=\"spacingAndGlyphs\" textLength=\"41\" x=\"42\" y=\"62.6479\">actions</text><line style=\"stroke: #383838; stroke-width: 1.0;\" x1=\"83\" x2=\"117\" y1=\"59.3398\" y2=\"59.3398\"/><text fill=\"#000000\" font-family=\"sans-serif\" font-size=\"11\" lengthAdjust=\"spacingAndGlyphs\" textLength=\"6\" x=\"13\" y=\"143.9761\">F</text><line style=\"stroke: #383838; stroke-width: 1.0;\" x1=\"8\" x2=\"33.5\" y1=\"127.3633\" y2=\"127.3633\"/><text fill=\"#000000\" font-family=\"sans-serif\" font-size=\"11\" lengthAdjust=\"spacingAndGlyphs\" textLength=\"58\" x=\"33.5\" y=\"130.6714\">forkNodes</text><line style=\"stroke: #383838; stroke-width: 1.0;\" x1=\"91.5\" x2=\"117\" y1=\"127.3633\" y2=\"127.3633\"/><text fill=\"#000000\" font-family=\"sans-serif\" font-size=\"11\" lengthAdjust=\"spacingAndGlyphs\" textLength=\"3\" x=\"13\" y=\"173.5854\">J</text><line style=\"stroke: #383838; stroke-width: 1.0;\" x1=\"8\" x2=\"34.5\" y1=\"156.9727\" y2=\"156.9727\"/><text fill=\"#000000\" font-family=\"sans-serif\" font-size=\"11\" lengthAdjust=\"spacingAndGlyphs\" textLength=\"56\" x=\"34.5\" y=\"160.2808\">joinNodes</text><line style=\"stroke: #383838; stroke-width: 1.0;\" x1=\"90.5\" x2=\"117\" y1=\"156.9727\" y2=\"156.9727\"/></a><!--MD5=[b40b4970c61351d69458acff6c0f3b7e]\n",
       "@startuml\r\n",
       "left to right direction\r\n",
       "skinparam monochrome true\r\n",
       "skinparam classbackgroundcolor white\r\n",
       "skinparam shadowing false\r\n",
       "skinparam wrapWidth 300\r\n",
       "hide circle\r\n",
       "\r\n",
       "comp def \"ControlNodeTest\" as E1  <<(T,blue)action def>> [[psysml:8a19e2dd-7f31-4291-b841-c8e7ad6ceaae ]] {\r\n",
       "- - actions - -\r\n",
       "A1\r\n",
       "A2\r\n",
       "B1\r\n",
       "B2\r\n",
       "- - forkNodes - -\r\n",
       "F\r\n",
       "- - joinNodes - -\r\n",
       "J\r\n",
       "}\r\n",
       "@enduml\r\n",
       "\n",
       "PlantUML version 1.2020.13(Sat Jun 13 12:26:38 UTC 2020)\n",
       "(EPL source distribution)\n",
       "Java Runtime: OpenJDK Runtime Environment\n",
       "JVM: OpenJDK 64-Bit Server VM\n",
       "Default Encoding: UTF-8\n",
       "Language: en\n",
       "Country: null\n",
       "--></g></svg>"
      ]
     },
     "execution_count": 17,
     "metadata": {},
     "output_type": "execute_result"
    }
   ],
   "source": [
    "%viz --style=\"LR\" --view=\"Tree\" \"ControlNodeTest\""
   ]
  },
  {
   "cell_type": "code",
   "execution_count": 18,
   "id": "offensive-topic",
   "metadata": {
    "execution": {
     "iopub.execute_input": "2021-03-26T15:42:08.221482Z",
     "iopub.status.busy": "2021-03-26T15:42:08.218800Z",
     "iopub.status.idle": "2021-03-26T15:42:08.228076Z",
     "shell.execute_reply": "2021-03-26T15:42:08.227731Z"
    }
   },
   "outputs": [
    {
     "data": {
      "image/svg+xml": [
       "<?xml version=\"1.0\" encoding=\"UTF-8\" standalone=\"no\"?><svg xmlns=\"http://www.w3.org/2000/svg\" xmlns:xlink=\"http://www.w3.org/1999/xlink\" contentScriptType=\"application/ecmascript\" contentStyleType=\"text/css\" height=\"12px\" preserveAspectRatio=\"none\" style=\"width:12px;height:12px;\" version=\"1.1\" viewBox=\"0 0 12 12\" width=\"12px\" zoomAndPan=\"magnify\"><defs/><g><!--MD5=[19d285c9d72a204eba4e2cd117d745e8]\n",
       "@startuml\r\n",
       "left to right direction\r\n",
       "skinparam monochrome true\r\n",
       "skinparam classbackgroundcolor white\r\n",
       "skinparam shadowing false\r\n",
       "skinparam wrapWidth 300\r\n",
       "hide circle\r\n",
       "\r\n",
       "@enduml\r\n",
       "\n",
       "PlantUML version 1.2020.13(Sat Jun 13 12:26:38 UTC 2020)\n",
       "(EPL source distribution)\n",
       "Java Runtime: OpenJDK Runtime Environment\n",
       "JVM: OpenJDK 64-Bit Server VM\n",
       "Default Encoding: UTF-8\n",
       "Language: en\n",
       "Country: null\n",
       "--></g></svg>"
      ]
     },
     "execution_count": 18,
     "metadata": {},
     "output_type": "execute_result"
    }
   ],
   "source": [
    "%viz --style=\"LR\" --view=\"State\" \"ControlNodeTest\""
   ]
  },
  {
   "cell_type": "code",
   "execution_count": 19,
   "id": "sustained-benjamin",
   "metadata": {
    "execution": {
     "iopub.execute_input": "2021-03-26T15:42:08.280775Z",
     "iopub.status.busy": "2021-03-26T15:42:08.280190Z",
     "iopub.status.idle": "2021-03-26T15:42:08.315187Z",
     "shell.execute_reply": "2021-03-26T15:42:08.315608Z"
    }
   },
   "outputs": [
    {
     "data": {
      "image/svg+xml": [
       "<?xml version=\"1.0\" encoding=\"UTF-8\" standalone=\"no\"?><svg xmlns=\"http://www.w3.org/2000/svg\" xmlns:xlink=\"http://www.w3.org/1999/xlink\" contentScriptType=\"application/ecmascript\" contentStyleType=\"text/css\" height=\"207px\" preserveAspectRatio=\"none\" style=\"width:216px;height:207px;\" version=\"1.1\" viewBox=\"0 0 216 207\" width=\"216px\" zoomAndPan=\"magnify\"><defs/><g><!--MD5=[fbc87193dbaf4d95561dea2c320d4a47]\n",
       "cluster E1--><a href=\"psysml:8a19e2dd-7f31-4291-b841-c8e7ad6ceaae\" target=\"_top\" title=\"psysml:8a19e2dd-7f31-4291-b841-c8e7ad6ceaae\" xlink:actuate=\"onRequest\" xlink:href=\"psysml:8a19e2dd-7f31-4291-b841-c8e7ad6ceaae\" xlink:show=\"new\" xlink:title=\"psysml:8a19e2dd-7f31-4291-b841-c8e7ad6ceaae\" xlink:type=\"simple\"><rect fill=\"#FFFFFF\" height=\"189\" id=\"E1\" style=\"stroke: #383838; stroke-width: 1.5;\" width=\"198\" x=\"7\" y=\"7\"/><rect fill=\"#F8F8F8\" height=\"37.9375\" style=\"stroke: #383838; stroke-width: 1.5;\" width=\"198\" x=\"7\" y=\"7\"/><text fill=\"#000000\" font-family=\"sans-serif\" font-size=\"12\" font-style=\"italic\" lengthAdjust=\"spacingAndGlyphs\" textLength=\"77\" x=\"67.5\" y=\"23.1387\">«action def»</text><text fill=\"#000000\" font-family=\"sans-serif\" font-size=\"12\" lengthAdjust=\"spacingAndGlyphs\" textLength=\"105\" x=\"53.5\" y=\"37.1074\">ControlNodeTest</text></a><rect fill=\"#000000\" height=\"80\" style=\"stroke: none; stroke-width: 1.0;\" width=\"8\" x=\"93\" y=\"79\"/><rect fill=\"#000000\" height=\"80\" style=\"stroke: none; stroke-width: 1.0;\" width=\"8\" x=\"111\" y=\"79\"/><g id=\"E1.E2\"><a href=\"psysml:63691cb2-c1ae-4262-a628-287378f10d06\" target=\"_top\" title=\"psysml:63691cb2-c1ae-4262-a628-287378f10d06\" xlink:actuate=\"onRequest\" xlink:href=\"psysml:63691cb2-c1ae-4262-a628-287378f10d06\" xlink:show=\"new\" xlink:title=\"psysml:63691cb2-c1ae-4262-a628-287378f10d06\" xlink:type=\"simple\"><rect fill=\"#FFFFFF\" height=\"42.9375\" id=\"E2\" rx=\"10\" ry=\"10\" style=\"stroke: #383838; stroke-width: 1.5;\" width=\"60\" x=\"23\" y=\"58.5\"/><rect fill=\"#F8F8F8\" height=\"37.9375\" rx=\"10\" ry=\"10\" style=\"stroke: #F8F8F8; stroke-width: 1.5;\" width=\"60\" x=\"23\" y=\"58.5\"/><rect fill=\"#F8F8F8\" height=\"10\" style=\"stroke: #F8F8F8; stroke-width: 1.5;\" width=\"60\" x=\"23\" y=\"86.4375\"/><rect fill=\"none\" height=\"42.9375\" id=\"E2\" rx=\"10\" ry=\"10\" style=\"stroke: #383838; stroke-width: 1.5;\" width=\"60\" x=\"23\" y=\"58.5\"/><text fill=\"#000000\" font-family=\"sans-serif\" font-size=\"12\" font-style=\"italic\" lengthAdjust=\"spacingAndGlyphs\" textLength=\"53\" x=\"26.5\" y=\"74.6387\">«action»</text><text fill=\"#000000\" font-family=\"sans-serif\" font-size=\"12\" lengthAdjust=\"spacingAndGlyphs\" textLength=\"16\" x=\"45\" y=\"88.6074\">A1</text></a></g><g id=\"E1.E3\"><a href=\"psysml:c6acf79a-793e-4497-aa33-887aafacc071\" target=\"_top\" title=\"psysml:c6acf79a-793e-4497-aa33-887aafacc071\" xlink:actuate=\"onRequest\" xlink:href=\"psysml:c6acf79a-793e-4497-aa33-887aafacc071\" xlink:show=\"new\" xlink:title=\"psysml:c6acf79a-793e-4497-aa33-887aafacc071\" xlink:type=\"simple\"><rect fill=\"#FFFFFF\" height=\"42.9375\" id=\"E3\" rx=\"10\" ry=\"10\" style=\"stroke: #383838; stroke-width: 1.5;\" width=\"60\" x=\"23\" y=\"136.5\"/><rect fill=\"#F8F8F8\" height=\"37.9375\" rx=\"10\" ry=\"10\" style=\"stroke: #F8F8F8; stroke-width: 1.5;\" width=\"60\" x=\"23\" y=\"136.5\"/><rect fill=\"#F8F8F8\" height=\"10\" style=\"stroke: #F8F8F8; stroke-width: 1.5;\" width=\"60\" x=\"23\" y=\"164.4375\"/><rect fill=\"none\" height=\"42.9375\" id=\"E3\" rx=\"10\" ry=\"10\" style=\"stroke: #383838; stroke-width: 1.5;\" width=\"60\" x=\"23\" y=\"136.5\"/><text fill=\"#000000\" font-family=\"sans-serif\" font-size=\"12\" font-style=\"italic\" lengthAdjust=\"spacingAndGlyphs\" textLength=\"53\" x=\"26.5\" y=\"152.6387\">«action»</text><text fill=\"#000000\" font-family=\"sans-serif\" font-size=\"12\" lengthAdjust=\"spacingAndGlyphs\" textLength=\"16\" x=\"45\" y=\"166.6074\">A2</text></a></g><g id=\"E1.E6\"><a href=\"psysml:2beb575e-cdbc-464e-9dd9-fc16008b4aec\" target=\"_top\" title=\"psysml:2beb575e-cdbc-464e-9dd9-fc16008b4aec\" xlink:actuate=\"onRequest\" xlink:href=\"psysml:2beb575e-cdbc-464e-9dd9-fc16008b4aec\" xlink:show=\"new\" xlink:title=\"psysml:2beb575e-cdbc-464e-9dd9-fc16008b4aec\" xlink:type=\"simple\"><rect fill=\"#FFFFFF\" height=\"42.9375\" id=\"E6\" rx=\"10\" ry=\"10\" style=\"stroke: #383838; stroke-width: 1.5;\" width=\"60\" x=\"129\" y=\"136.5\"/><rect fill=\"#F8F8F8\" height=\"37.9375\" rx=\"10\" ry=\"10\" style=\"stroke: #F8F8F8; stroke-width: 1.5;\" width=\"60\" x=\"129\" y=\"136.5\"/><rect fill=\"#F8F8F8\" height=\"10\" style=\"stroke: #F8F8F8; stroke-width: 1.5;\" width=\"60\" x=\"129\" y=\"164.4375\"/><rect fill=\"none\" height=\"42.9375\" id=\"E6\" rx=\"10\" ry=\"10\" style=\"stroke: #383838; stroke-width: 1.5;\" width=\"60\" x=\"129\" y=\"136.5\"/><text fill=\"#000000\" font-family=\"sans-serif\" font-size=\"12\" font-style=\"italic\" lengthAdjust=\"spacingAndGlyphs\" textLength=\"53\" x=\"132.5\" y=\"152.6387\">«action»</text><text fill=\"#000000\" font-family=\"sans-serif\" font-size=\"12\" lengthAdjust=\"spacingAndGlyphs\" textLength=\"16\" x=\"151\" y=\"166.6074\">B1</text></a></g><g id=\"E1.E7\"><a href=\"psysml:18cbd039-fda1-47ea-ae1e-03ddeff777e2\" target=\"_top\" title=\"psysml:18cbd039-fda1-47ea-ae1e-03ddeff777e2\" xlink:actuate=\"onRequest\" xlink:href=\"psysml:18cbd039-fda1-47ea-ae1e-03ddeff777e2\" xlink:show=\"new\" xlink:title=\"psysml:18cbd039-fda1-47ea-ae1e-03ddeff777e2\" xlink:type=\"simple\"><rect fill=\"#FFFFFF\" height=\"42.9375\" id=\"E7\" rx=\"10\" ry=\"10\" style=\"stroke: #383838; stroke-width: 1.5;\" width=\"60\" x=\"129\" y=\"58.5\"/><rect fill=\"#F8F8F8\" height=\"37.9375\" rx=\"10\" ry=\"10\" style=\"stroke: #F8F8F8; stroke-width: 1.5;\" width=\"60\" x=\"129\" y=\"58.5\"/><rect fill=\"#F8F8F8\" height=\"10\" style=\"stroke: #F8F8F8; stroke-width: 1.5;\" width=\"60\" x=\"129\" y=\"86.4375\"/><rect fill=\"none\" height=\"42.9375\" id=\"E7\" rx=\"10\" ry=\"10\" style=\"stroke: #383838; stroke-width: 1.5;\" width=\"60\" x=\"129\" y=\"58.5\"/><text fill=\"#000000\" font-family=\"sans-serif\" font-size=\"12\" font-style=\"italic\" lengthAdjust=\"spacingAndGlyphs\" textLength=\"53\" x=\"132.5\" y=\"74.6387\">«action»</text><text fill=\"#000000\" font-family=\"sans-serif\" font-size=\"12\" lengthAdjust=\"spacingAndGlyphs\" textLength=\"16\" x=\"151\" y=\"88.6074\">B2</text></a></g><!--MD5=[4d03bb2d0377dc85ccfab60ff574652b]\n",
       "link E2 to E4--><a href=\"psysml:32927b08-9b1f-4059-96b6-74ea858c5377\" target=\"_top\" title=\"psysml:32927b08-9b1f-4059-96b6-74ea858c5377\" xlink:actuate=\"onRequest\" xlink:href=\"psysml:32927b08-9b1f-4059-96b6-74ea858c5377\" xlink:show=\"new\" xlink:title=\"psysml:32927b08-9b1f-4059-96b6-74ea858c5377\" xlink:type=\"simple\"><path d=\"M77.46,101.78 C81.59,105.62 85.59,109.34 88.82,112.33 \" fill=\"none\" id=\"E2-&gt;E4\" style=\"stroke: #383838; stroke-width: 1.0;\"/><polygon fill=\"#383838\" points=\"92.67,115.91,88.8034,106.8519,89.0086,112.505,83.3554,112.7102,92.67,115.91\" style=\"stroke: #383838; stroke-width: 1.0;\"/></a><!--MD5=[af87c684e3b0d8be13c1a698a818ef1e]\n",
       "link E3 to E4--><a href=\"psysml:6834d0f3-19d8-44ac-95f5-e8bc4db68e8a\" target=\"_top\" title=\"psysml:6834d0f3-19d8-44ac-95f5-e8bc4db68e8a\" xlink:actuate=\"onRequest\" xlink:href=\"psysml:6834d0f3-19d8-44ac-95f5-e8bc4db68e8a\" xlink:show=\"new\" xlink:title=\"psysml:6834d0f3-19d8-44ac-95f5-e8bc4db68e8a\" xlink:type=\"simple\"><path d=\"M77.46,136.22 C81.59,132.38 85.59,128.66 88.82,125.67 \" fill=\"none\" id=\"E3-&gt;E4\" style=\"stroke: #383838; stroke-width: 1.0;\"/><polygon fill=\"#383838\" points=\"92.67,122.09,83.3554,125.2898,89.0086,125.495,88.8034,131.1481,92.67,122.09\" style=\"stroke: #383838; stroke-width: 1.0;\"/></a><!--MD5=[1b7591eae5389033d8d09a9d6721a717]\n",
       "link E4 to E5--><a href=\"psysml:02aceb33-1759-43f7-b21c-5882a5f834e0\" target=\"_top\" title=\"psysml:02aceb33-1759-43f7-b21c-5882a5f834e0\" xlink:actuate=\"onRequest\" xlink:href=\"psysml:02aceb33-1759-43f7-b21c-5882a5f834e0\" xlink:show=\"new\" xlink:title=\"psysml:02aceb33-1759-43f7-b21c-5882a5f834e0\" xlink:type=\"simple\"><path d=\"M101.08,119 C102.38,119 103.95,119 105.55,119 \" fill=\"none\" id=\"E4-&gt;E5\" style=\"stroke: #383838; stroke-width: 1.0;\"/><polygon fill=\"#383838\" points=\"110.7,119,101.7,115,105.7,119,101.7,123,110.7,119\" style=\"stroke: #383838; stroke-width: 1.0;\"/></a><!--MD5=[9120cf2e5df3bff93db8f754bbbc09b4]\n",
       "link E5 to E6--><a href=\"psysml:f43de8b9-7272-426a-b0aa-70e703f3a468\" target=\"_top\" title=\"psysml:f43de8b9-7272-426a-b0aa-70e703f3a468\" xlink:actuate=\"onRequest\" xlink:href=\"psysml:f43de8b9-7272-426a-b0aa-70e703f3a468\" xlink:show=\"new\" xlink:title=\"psysml:f43de8b9-7272-426a-b0aa-70e703f3a468\" xlink:type=\"simple\"><path d=\"M119.02,121.8 C121.78,124.37 126.15,128.43 130.99,132.92 \" fill=\"none\" id=\"E5-&gt;E6\" style=\"stroke: #383838; stroke-width: 1.0;\"/><polygon fill=\"#383838\" points=\"134.77,136.43,130.8845,127.38,131.1015,133.0327,125.4488,133.2496,134.77,136.43\" style=\"stroke: #383838; stroke-width: 1.0;\"/></a><!--MD5=[3a9b96bfbf6b6ad89c494e81751bda47]\n",
       "link E5 to E7--><a href=\"psysml:6de5063b-eb84-4499-9c8a-3a0354e3d885\" target=\"_top\" title=\"psysml:6de5063b-eb84-4499-9c8a-3a0354e3d885\" xlink:actuate=\"onRequest\" xlink:href=\"psysml:6de5063b-eb84-4499-9c8a-3a0354e3d885\" xlink:show=\"new\" xlink:title=\"psysml:6de5063b-eb84-4499-9c8a-3a0354e3d885\" xlink:type=\"simple\"><path d=\"M119.02,116.2 C121.78,113.63 126.15,109.57 130.99,105.08 \" fill=\"none\" id=\"E5-&gt;E7\" style=\"stroke: #383838; stroke-width: 1.0;\"/><polygon fill=\"#383838\" points=\"134.77,101.57,125.4488,104.7504,131.1015,104.9673,130.8845,110.62,134.77,101.57\" style=\"stroke: #383838; stroke-width: 1.0;\"/></a><!--MD5=[d95b4a61b61a2210594df744565611eb]\n",
       "@startuml\r\n",
       "skinparam ranksep 10\r\n",
       "skinparam rectangle {\r\n",
       " backgroundColor<<block>> LightGreen\r\n",
       "}\r\n",
       "left to right direction\r\n",
       "skinparam monochrome true\r\n",
       "skinparam classbackgroundcolor white\r\n",
       "skinparam shadowing false\r\n",
       "skinparam wrapWidth 300\r\n",
       "hide circle\r\n",
       "\r\n",
       "rec def \"ControlNodeTest\" as E1  <<(T,blue)action def>> [[psysml:8a19e2dd-7f31-4291-b841-c8e7ad6ceaae ]] {\r\n",
       "rec usage \"A1\" as E2  <<(T,blue)action>> [[psysml:63691cb2-c1ae-4262-a628-287378f10d06 ]] {\r\n",
       "}\r\n",
       "\r\n",
       "rec usage \"A2\" as E3  <<(T,blue)action>> [[psysml:c6acf79a-793e-4497-aa33-887aafacc071 ]] {\r\n",
       "}\r\n",
       "\r\n",
       "join \"J\" as E4  [[psysml:9118671e-8e40-41ce-bc29-e44727581a0d ]] \r\n",
       "fork \"F\" as E5  [[psysml:3c4d5a48-0835-4406-bc0d-d635a7475922 ]] \r\n",
       "rec usage \"B1\" as E6  <<(T,blue)action>> [[psysml:2beb575e-cdbc-464e-9dd9-fc16008b4aec ]] {\r\n",
       "}\r\n",
       "\r\n",
       "rec usage \"B2\" as E7  <<(T,blue)action>> [[psysml:18cbd039-fda1-47ea-ae1e-03ddeff777e2 ]] {\r\n",
       "}\r\n",
       "\r\n",
       "}\r\n",
       "\r\n",
       "E2 - -> E4 [[psysml:32927b08-9b1f-4059-96b6-74ea858c5377 ]] \r\n",
       "E3 - -> E4 [[psysml:6834d0f3-19d8-44ac-95f5-e8bc4db68e8a ]] \r\n",
       "E4 - -> E5 [[psysml:02aceb33-1759-43f7-b21c-5882a5f834e0 ]] \r\n",
       "E5 - -> E6 [[psysml:f43de8b9-7272-426a-b0aa-70e703f3a468 ]] \r\n",
       "E5 - -> E7 [[psysml:6de5063b-eb84-4499-9c8a-3a0354e3d885 ]] \r\n",
       "@enduml\r\n",
       "\n",
       "PlantUML version 1.2020.13(Sat Jun 13 12:26:38 UTC 2020)\n",
       "(EPL source distribution)\n",
       "Java Runtime: OpenJDK Runtime Environment\n",
       "JVM: OpenJDK 64-Bit Server VM\n",
       "Default Encoding: UTF-8\n",
       "Language: en\n",
       "Country: null\n",
       "--></g></svg>"
      ]
     },
     "execution_count": 19,
     "metadata": {},
     "output_type": "execute_result"
    }
   ],
   "source": [
    "%viz --style=\"LR\" --view=\"Interconnection\" \"ControlNodeTest\""
   ]
  },
  {
   "cell_type": "code",
   "execution_count": 20,
   "id": "electric-chosen",
   "metadata": {
    "execution": {
     "iopub.execute_input": "2021-03-26T15:42:08.366780Z",
     "iopub.status.busy": "2021-03-26T15:42:08.365990Z",
     "iopub.status.idle": "2021-03-26T15:42:08.400503Z",
     "shell.execute_reply": "2021-03-26T15:42:08.399225Z"
    }
   },
   "outputs": [
    {
     "data": {
      "image/svg+xml": [
       "<?xml version=\"1.0\" encoding=\"UTF-8\" standalone=\"no\"?><svg xmlns=\"http://www.w3.org/2000/svg\" xmlns:xlink=\"http://www.w3.org/1999/xlink\" contentScriptType=\"application/ecmascript\" contentStyleType=\"text/css\" height=\"207px\" preserveAspectRatio=\"none\" style=\"width:210px;height:207px;\" version=\"1.1\" viewBox=\"0 0 210 207\" width=\"210px\" zoomAndPan=\"magnify\"><defs/><g><!--MD5=[fbc87193dbaf4d95561dea2c320d4a47]\n",
       "cluster E1--><a href=\"psysml:8a19e2dd-7f31-4291-b841-c8e7ad6ceaae\" target=\"_top\" title=\"psysml:8a19e2dd-7f31-4291-b841-c8e7ad6ceaae\" xlink:actuate=\"onRequest\" xlink:href=\"psysml:8a19e2dd-7f31-4291-b841-c8e7ad6ceaae\" xlink:show=\"new\" xlink:title=\"psysml:8a19e2dd-7f31-4291-b841-c8e7ad6ceaae\" xlink:type=\"simple\"><rect fill=\"#FFFFFF\" height=\"189\" id=\"E1\" style=\"stroke: #383838; stroke-width: 1.5;\" width=\"192\" x=\"7\" y=\"7\"/><rect fill=\"#F8F8F8\" height=\"37.9375\" style=\"stroke: #383838; stroke-width: 1.5;\" width=\"192\" x=\"7\" y=\"7\"/><text fill=\"#000000\" font-family=\"sans-serif\" font-size=\"12\" font-style=\"italic\" lengthAdjust=\"spacingAndGlyphs\" textLength=\"77\" x=\"64.5\" y=\"23.1387\">«action def»</text><text fill=\"#000000\" font-family=\"sans-serif\" font-size=\"12\" lengthAdjust=\"spacingAndGlyphs\" textLength=\"105\" x=\"50.5\" y=\"37.1074\">ControlNodeTest</text></a><rect fill=\"#000000\" height=\"80\" style=\"stroke: none; stroke-width: 1.0;\" width=\"8\" x=\"91\" y=\"79\"/><rect fill=\"#000000\" height=\"80\" style=\"stroke: none; stroke-width: 1.0;\" width=\"8\" x=\"107\" y=\"79\"/><g id=\"E1.E2\"><a href=\"psysml:63691cb2-c1ae-4262-a628-287378f10d06\" target=\"_top\" title=\"psysml:63691cb2-c1ae-4262-a628-287378f10d06\" xlink:actuate=\"onRequest\" xlink:href=\"psysml:63691cb2-c1ae-4262-a628-287378f10d06\" xlink:show=\"new\" xlink:title=\"psysml:63691cb2-c1ae-4262-a628-287378f10d06\" xlink:type=\"simple\"><rect fill=\"#FFFFFF\" height=\"42.9375\" id=\"E2\" rx=\"10\" ry=\"10\" style=\"stroke: #383838; stroke-width: 1.5;\" width=\"60\" x=\"23\" y=\"58.5\"/><rect fill=\"#F8F8F8\" height=\"37.9375\" rx=\"10\" ry=\"10\" style=\"stroke: #F8F8F8; stroke-width: 1.5;\" width=\"60\" x=\"23\" y=\"58.5\"/><rect fill=\"#F8F8F8\" height=\"10\" style=\"stroke: #F8F8F8; stroke-width: 1.5;\" width=\"60\" x=\"23\" y=\"86.4375\"/><rect fill=\"none\" height=\"42.9375\" id=\"E2\" rx=\"10\" ry=\"10\" style=\"stroke: #383838; stroke-width: 1.5;\" width=\"60\" x=\"23\" y=\"58.5\"/><text fill=\"#000000\" font-family=\"sans-serif\" font-size=\"12\" font-style=\"italic\" lengthAdjust=\"spacingAndGlyphs\" textLength=\"53\" x=\"26.5\" y=\"74.6387\">«action»</text><text fill=\"#000000\" font-family=\"sans-serif\" font-size=\"12\" lengthAdjust=\"spacingAndGlyphs\" textLength=\"16\" x=\"45\" y=\"88.6074\">A1</text></a></g><g id=\"E1.E3\"><a href=\"psysml:c6acf79a-793e-4497-aa33-887aafacc071\" target=\"_top\" title=\"psysml:c6acf79a-793e-4497-aa33-887aafacc071\" xlink:actuate=\"onRequest\" xlink:href=\"psysml:c6acf79a-793e-4497-aa33-887aafacc071\" xlink:show=\"new\" xlink:title=\"psysml:c6acf79a-793e-4497-aa33-887aafacc071\" xlink:type=\"simple\"><rect fill=\"#FFFFFF\" height=\"42.9375\" id=\"E3\" rx=\"10\" ry=\"10\" style=\"stroke: #383838; stroke-width: 1.5;\" width=\"60\" x=\"23\" y=\"136.5\"/><rect fill=\"#F8F8F8\" height=\"37.9375\" rx=\"10\" ry=\"10\" style=\"stroke: #F8F8F8; stroke-width: 1.5;\" width=\"60\" x=\"23\" y=\"136.5\"/><rect fill=\"#F8F8F8\" height=\"10\" style=\"stroke: #F8F8F8; stroke-width: 1.5;\" width=\"60\" x=\"23\" y=\"164.4375\"/><rect fill=\"none\" height=\"42.9375\" id=\"E3\" rx=\"10\" ry=\"10\" style=\"stroke: #383838; stroke-width: 1.5;\" width=\"60\" x=\"23\" y=\"136.5\"/><text fill=\"#000000\" font-family=\"sans-serif\" font-size=\"12\" font-style=\"italic\" lengthAdjust=\"spacingAndGlyphs\" textLength=\"53\" x=\"26.5\" y=\"152.6387\">«action»</text><text fill=\"#000000\" font-family=\"sans-serif\" font-size=\"12\" lengthAdjust=\"spacingAndGlyphs\" textLength=\"16\" x=\"45\" y=\"166.6074\">A2</text></a></g><g id=\"E1.E6\"><a href=\"psysml:2beb575e-cdbc-464e-9dd9-fc16008b4aec\" target=\"_top\" title=\"psysml:2beb575e-cdbc-464e-9dd9-fc16008b4aec\" xlink:actuate=\"onRequest\" xlink:href=\"psysml:2beb575e-cdbc-464e-9dd9-fc16008b4aec\" xlink:show=\"new\" xlink:title=\"psysml:2beb575e-cdbc-464e-9dd9-fc16008b4aec\" xlink:type=\"simple\"><rect fill=\"#FFFFFF\" height=\"42.9375\" id=\"E6\" rx=\"10\" ry=\"10\" style=\"stroke: #383838; stroke-width: 1.5;\" width=\"60\" x=\"123\" y=\"136.5\"/><rect fill=\"#F8F8F8\" height=\"37.9375\" rx=\"10\" ry=\"10\" style=\"stroke: #F8F8F8; stroke-width: 1.5;\" width=\"60\" x=\"123\" y=\"136.5\"/><rect fill=\"#F8F8F8\" height=\"10\" style=\"stroke: #F8F8F8; stroke-width: 1.5;\" width=\"60\" x=\"123\" y=\"164.4375\"/><rect fill=\"none\" height=\"42.9375\" id=\"E6\" rx=\"10\" ry=\"10\" style=\"stroke: #383838; stroke-width: 1.5;\" width=\"60\" x=\"123\" y=\"136.5\"/><text fill=\"#000000\" font-family=\"sans-serif\" font-size=\"12\" font-style=\"italic\" lengthAdjust=\"spacingAndGlyphs\" textLength=\"53\" x=\"126.5\" y=\"152.6387\">«action»</text><text fill=\"#000000\" font-family=\"sans-serif\" font-size=\"12\" lengthAdjust=\"spacingAndGlyphs\" textLength=\"16\" x=\"145\" y=\"166.6074\">B1</text></a></g><g id=\"E1.E7\"><a href=\"psysml:18cbd039-fda1-47ea-ae1e-03ddeff777e2\" target=\"_top\" title=\"psysml:18cbd039-fda1-47ea-ae1e-03ddeff777e2\" xlink:actuate=\"onRequest\" xlink:href=\"psysml:18cbd039-fda1-47ea-ae1e-03ddeff777e2\" xlink:show=\"new\" xlink:title=\"psysml:18cbd039-fda1-47ea-ae1e-03ddeff777e2\" xlink:type=\"simple\"><rect fill=\"#FFFFFF\" height=\"42.9375\" id=\"E7\" rx=\"10\" ry=\"10\" style=\"stroke: #383838; stroke-width: 1.5;\" width=\"60\" x=\"123\" y=\"58.5\"/><rect fill=\"#F8F8F8\" height=\"37.9375\" rx=\"10\" ry=\"10\" style=\"stroke: #F8F8F8; stroke-width: 1.5;\" width=\"60\" x=\"123\" y=\"58.5\"/><rect fill=\"#F8F8F8\" height=\"10\" style=\"stroke: #F8F8F8; stroke-width: 1.5;\" width=\"60\" x=\"123\" y=\"86.4375\"/><rect fill=\"none\" height=\"42.9375\" id=\"E7\" rx=\"10\" ry=\"10\" style=\"stroke: #383838; stroke-width: 1.5;\" width=\"60\" x=\"123\" y=\"58.5\"/><text fill=\"#000000\" font-family=\"sans-serif\" font-size=\"12\" font-style=\"italic\" lengthAdjust=\"spacingAndGlyphs\" textLength=\"53\" x=\"126.5\" y=\"74.6387\">«action»</text><text fill=\"#000000\" font-family=\"sans-serif\" font-size=\"12\" lengthAdjust=\"spacingAndGlyphs\" textLength=\"16\" x=\"145\" y=\"88.6074\">B2</text></a></g><!--MD5=[4d03bb2d0377dc85ccfab60ff574652b]\n",
       "link E2 to E4--><a href=\"psysml:32927b08-9b1f-4059-96b6-74ea858c5377\" target=\"_top\" title=\"psysml:32927b08-9b1f-4059-96b6-74ea858c5377\" xlink:actuate=\"onRequest\" xlink:href=\"psysml:32927b08-9b1f-4059-96b6-74ea858c5377\" xlink:show=\"new\" xlink:title=\"psysml:32927b08-9b1f-4059-96b6-74ea858c5377\" xlink:type=\"simple\"><path d=\"M76.34,101.78 C80.28,105.62 84.09,109.34 87.16,112.33 \" fill=\"none\" id=\"E2-&gt;E4\" style=\"stroke: #383838; stroke-width: 1.0; stroke-dasharray: 7.0,7.0;\"/><polygon fill=\"#383838\" points=\"90.83,115.91,87.1648,106.7685,87.2448,112.4248,81.5885,112.5048,90.83,115.91\" style=\"stroke: #383838; stroke-width: 1.0;\"/></a><!--MD5=[af87c684e3b0d8be13c1a698a818ef1e]\n",
       "link E3 to E4--><a href=\"psysml:6834d0f3-19d8-44ac-95f5-e8bc4db68e8a\" target=\"_top\" title=\"psysml:6834d0f3-19d8-44ac-95f5-e8bc4db68e8a\" xlink:actuate=\"onRequest\" xlink:href=\"psysml:6834d0f3-19d8-44ac-95f5-e8bc4db68e8a\" xlink:show=\"new\" xlink:title=\"psysml:6834d0f3-19d8-44ac-95f5-e8bc4db68e8a\" xlink:type=\"simple\"><path d=\"M76.34,136.22 C80.28,132.38 84.09,128.66 87.16,125.67 \" fill=\"none\" id=\"E3-&gt;E4\" style=\"stroke: #383838; stroke-width: 1.0; stroke-dasharray: 7.0,7.0;\"/><polygon fill=\"#383838\" points=\"90.83,122.09,81.5885,125.4952,87.2448,125.5752,87.1648,131.2315,90.83,122.09\" style=\"stroke: #383838; stroke-width: 1.0;\"/></a><!--MD5=[1b7591eae5389033d8d09a9d6721a717]\n",
       "link E4 to E5--><a href=\"psysml:02aceb33-1759-43f7-b21c-5882a5f834e0\" target=\"_top\" title=\"psysml:02aceb33-1759-43f7-b21c-5882a5f834e0\" xlink:actuate=\"onRequest\" xlink:href=\"psysml:02aceb33-1759-43f7-b21c-5882a5f834e0\" xlink:show=\"new\" xlink:title=\"psysml:02aceb33-1759-43f7-b21c-5882a5f834e0\" xlink:type=\"simple\"><path d=\"M99.25,119 C100.05,119 100.94,119 101.86,119 \" fill=\"none\" id=\"E4-&gt;E5\" style=\"stroke: #383838; stroke-width: 1.0; stroke-dasharray: 7.0,7.0;\"/><polygon fill=\"#383838\" points=\"106.96,119,97.96,115,101.96,119,97.96,123,106.96,119\" style=\"stroke: #383838; stroke-width: 1.0;\"/></a><!--MD5=[9120cf2e5df3bff93db8f754bbbc09b4]\n",
       "link E5 to E6--><a href=\"psysml:f43de8b9-7272-426a-b0aa-70e703f3a468\" target=\"_top\" title=\"psysml:f43de8b9-7272-426a-b0aa-70e703f3a468\" xlink:actuate=\"onRequest\" xlink:href=\"psysml:f43de8b9-7272-426a-b0aa-70e703f3a468\" xlink:show=\"new\" xlink:title=\"psysml:f43de8b9-7272-426a-b0aa-70e703f3a468\" xlink:type=\"simple\"><path d=\"M115.14,122.06 C117.73,124.59 121.68,128.43 126.04,132.69 \" fill=\"none\" id=\"E5-&gt;E6\" style=\"stroke: #383838; stroke-width: 1.0; stroke-dasharray: 7.0,7.0;\"/><polygon fill=\"#383838\" points=\"129.78,136.34,126.1518,127.1838,126.2089,132.8404,120.5524,132.8975,129.78,136.34\" style=\"stroke: #383838; stroke-width: 1.0;\"/></a><!--MD5=[3a9b96bfbf6b6ad89c494e81751bda47]\n",
       "link E5 to E7--><a href=\"psysml:6de5063b-eb84-4499-9c8a-3a0354e3d885\" target=\"_top\" title=\"psysml:6de5063b-eb84-4499-9c8a-3a0354e3d885\" xlink:actuate=\"onRequest\" xlink:href=\"psysml:6de5063b-eb84-4499-9c8a-3a0354e3d885\" xlink:show=\"new\" xlink:title=\"psysml:6de5063b-eb84-4499-9c8a-3a0354e3d885\" xlink:type=\"simple\"><path d=\"M115.14,115.94 C117.73,113.41 121.68,109.57 126.04,105.31 \" fill=\"none\" id=\"E5-&gt;E7\" style=\"stroke: #383838; stroke-width: 1.0; stroke-dasharray: 7.0,7.0;\"/><polygon fill=\"#383838\" points=\"129.78,101.66,120.5524,105.1025,126.2089,105.1596,126.1518,110.8162,129.78,101.66\" style=\"stroke: #383838; stroke-width: 1.0;\"/></a><!--MD5=[492a3a4f955b023e1c17f74b5e93894d]\n",
       "@startuml\r\n",
       "skinparam ranksep 8\r\n",
       "left to right direction\r\n",
       "skinparam monochrome true\r\n",
       "skinparam classbackgroundcolor white\r\n",
       "skinparam shadowing false\r\n",
       "skinparam wrapWidth 300\r\n",
       "hide circle\r\n",
       "\r\n",
       "rec def \"ControlNodeTest\" as E1  <<(T,blue)action def>> [[psysml:8a19e2dd-7f31-4291-b841-c8e7ad6ceaae ]] {\r\n",
       "rec usage \"A1\" as E2  <<(T,blue)action>> [[psysml:63691cb2-c1ae-4262-a628-287378f10d06 ]] {\r\n",
       "}\r\n",
       "\r\n",
       "rec usage \"A2\" as E3  <<(T,blue)action>> [[psysml:c6acf79a-793e-4497-aa33-887aafacc071 ]] {\r\n",
       "}\r\n",
       "\r\n",
       "join \"J\" as E4  [[psysml:9118671e-8e40-41ce-bc29-e44727581a0d ]] \r\n",
       "fork \"F\" as E5  [[psysml:3c4d5a48-0835-4406-bc0d-d635a7475922 ]] \r\n",
       "rec usage \"B1\" as E6  <<(T,blue)action>> [[psysml:2beb575e-cdbc-464e-9dd9-fc16008b4aec ]] {\r\n",
       "}\r\n",
       "\r\n",
       "rec usage \"B2\" as E7  <<(T,blue)action>> [[psysml:18cbd039-fda1-47ea-ae1e-03ddeff777e2 ]] {\r\n",
       "}\r\n",
       "\r\n",
       "}\r\n",
       "\r\n",
       "E2 ..> E4 [[psysml:32927b08-9b1f-4059-96b6-74ea858c5377 ]] \r\n",
       "E3 ..> E4 [[psysml:6834d0f3-19d8-44ac-95f5-e8bc4db68e8a ]] \r\n",
       "E4 ..> E5 [[psysml:02aceb33-1759-43f7-b21c-5882a5f834e0 ]] \r\n",
       "E5 ..> E6 [[psysml:f43de8b9-7272-426a-b0aa-70e703f3a468 ]] \r\n",
       "E5 ..> E7 [[psysml:6de5063b-eb84-4499-9c8a-3a0354e3d885 ]] \r\n",
       "@enduml\r\n",
       "\n",
       "PlantUML version 1.2020.13(Sat Jun 13 12:26:38 UTC 2020)\n",
       "(EPL source distribution)\n",
       "Java Runtime: OpenJDK Runtime Environment\n",
       "JVM: OpenJDK 64-Bit Server VM\n",
       "Default Encoding: UTF-8\n",
       "Language: en\n",
       "Country: null\n",
       "--></g></svg>"
      ]
     },
     "execution_count": 20,
     "metadata": {},
     "output_type": "execute_result"
    }
   ],
   "source": [
    "%viz --style=\"LR\" --view=\"Action\" \"ControlNodeTest\""
   ]
  },
  {
   "cell_type": "code",
   "execution_count": 21,
   "id": "drawn-guinea",
   "metadata": {
    "execution": {
     "iopub.execute_input": "2021-03-26T15:42:08.451498Z",
     "iopub.status.busy": "2021-03-26T15:42:08.451059Z",
     "iopub.status.idle": "2021-03-26T15:42:08.510383Z",
     "shell.execute_reply": "2021-03-26T15:42:08.510039Z"
    }
   },
   "outputs": [
    {
     "data": {
      "image/svg+xml": [
       "<?xml version=\"1.0\" encoding=\"UTF-8\" standalone=\"no\"?><svg xmlns=\"http://www.w3.org/2000/svg\" xmlns:xlink=\"http://www.w3.org/1999/xlink\" contentScriptType=\"application/ecmascript\" contentStyleType=\"text/css\" height=\"191px\" preserveAspectRatio=\"none\" style=\"width:129px;height:191px;\" version=\"1.1\" viewBox=\"0 0 129 191\" width=\"129px\" zoomAndPan=\"magnify\"><defs/><g><!--MD5=[43c9051892ef23e1a46a86907403d788]\n",
       "class E1--><a href=\"psysml:8a19e2dd-7f31-4291-b841-c8e7ad6ceaae\" target=\"_top\" title=\"psysml:8a19e2dd-7f31-4291-b841-c8e7ad6ceaae\" xlink:actuate=\"onRequest\" xlink:href=\"psysml:8a19e2dd-7f31-4291-b841-c8e7ad6ceaae\" xlink:show=\"new\" xlink:title=\"psysml:8a19e2dd-7f31-4291-b841-c8e7ad6ceaae\" xlink:type=\"simple\"><rect fill=\"#FFFFFF\" height=\"173.1797\" id=\"E1\" style=\"stroke: #383838; stroke-width: 1.5;\" width=\"111\" x=\"7\" y=\"7\"/><text fill=\"#000000\" font-family=\"sans-serif\" font-size=\"12\" font-style=\"italic\" lengthAdjust=\"spacingAndGlyphs\" textLength=\"77\" x=\"24\" y=\"23.1387\">«action def»</text><text fill=\"#000000\" font-family=\"sans-serif\" font-size=\"12\" lengthAdjust=\"spacingAndGlyphs\" textLength=\"105\" x=\"10\" y=\"37.1074\">ControlNodeTest</text><line style=\"stroke: #383838; stroke-width: 1.5;\" x1=\"8\" x2=\"117\" y1=\"44.9375\" y2=\"44.9375\"/><text fill=\"#000000\" font-family=\"sans-serif\" font-size=\"11\" lengthAdjust=\"spacingAndGlyphs\" textLength=\"14\" x=\"13\" y=\"75.9526\">A1</text><text fill=\"#000000\" font-family=\"sans-serif\" font-size=\"11\" lengthAdjust=\"spacingAndGlyphs\" textLength=\"14\" x=\"13\" y=\"88.7573\">A2</text><text fill=\"#000000\" font-family=\"sans-serif\" font-size=\"11\" lengthAdjust=\"spacingAndGlyphs\" textLength=\"15\" x=\"13\" y=\"101.562\">B1</text><text fill=\"#000000\" font-family=\"sans-serif\" font-size=\"11\" lengthAdjust=\"spacingAndGlyphs\" textLength=\"15\" x=\"13\" y=\"114.3667\">B2</text><line style=\"stroke: #383838; stroke-width: 1.0;\" x1=\"8\" x2=\"42\" y1=\"59.3398\" y2=\"59.3398\"/><text fill=\"#000000\" font-family=\"sans-serif\" font-size=\"11\" lengthAdjust=\"spacingAndGlyphs\" textLength=\"41\" x=\"42\" y=\"62.6479\">actions</text><line style=\"stroke: #383838; stroke-width: 1.0;\" x1=\"83\" x2=\"117\" y1=\"59.3398\" y2=\"59.3398\"/><text fill=\"#000000\" font-family=\"sans-serif\" font-size=\"11\" lengthAdjust=\"spacingAndGlyphs\" textLength=\"6\" x=\"13\" y=\"143.9761\">F</text><line style=\"stroke: #383838; stroke-width: 1.0;\" x1=\"8\" x2=\"33.5\" y1=\"127.3633\" y2=\"127.3633\"/><text fill=\"#000000\" font-family=\"sans-serif\" font-size=\"11\" lengthAdjust=\"spacingAndGlyphs\" textLength=\"58\" x=\"33.5\" y=\"130.6714\">forkNodes</text><line style=\"stroke: #383838; stroke-width: 1.0;\" x1=\"91.5\" x2=\"117\" y1=\"127.3633\" y2=\"127.3633\"/><text fill=\"#000000\" font-family=\"sans-serif\" font-size=\"11\" lengthAdjust=\"spacingAndGlyphs\" textLength=\"3\" x=\"13\" y=\"173.5854\">J</text><line style=\"stroke: #383838; stroke-width: 1.0;\" x1=\"8\" x2=\"34.5\" y1=\"156.9727\" y2=\"156.9727\"/><text fill=\"#000000\" font-family=\"sans-serif\" font-size=\"11\" lengthAdjust=\"spacingAndGlyphs\" textLength=\"56\" x=\"34.5\" y=\"160.2808\">joinNodes</text><line style=\"stroke: #383838; stroke-width: 1.0;\" x1=\"90.5\" x2=\"117\" y1=\"156.9727\" y2=\"156.9727\"/></a><!--MD5=[b40b4970c61351d69458acff6c0f3b7e]\n",
       "@startuml\r\n",
       "left to right direction\r\n",
       "skinparam monochrome true\r\n",
       "skinparam classbackgroundcolor white\r\n",
       "skinparam shadowing false\r\n",
       "skinparam wrapWidth 300\r\n",
       "hide circle\r\n",
       "\r\n",
       "comp def \"ControlNodeTest\" as E1  <<(T,blue)action def>> [[psysml:8a19e2dd-7f31-4291-b841-c8e7ad6ceaae ]] {\r\n",
       "- - actions - -\r\n",
       "A1\r\n",
       "A2\r\n",
       "B1\r\n",
       "B2\r\n",
       "- - forkNodes - -\r\n",
       "F\r\n",
       "- - joinNodes - -\r\n",
       "J\r\n",
       "}\r\n",
       "@enduml\r\n",
       "\n",
       "PlantUML version 1.2020.13(Sat Jun 13 12:26:38 UTC 2020)\n",
       "(EPL source distribution)\n",
       "Java Runtime: OpenJDK Runtime Environment\n",
       "JVM: OpenJDK 64-Bit Server VM\n",
       "Default Encoding: UTF-8\n",
       "Language: en\n",
       "Country: null\n",
       "--></g></svg>"
      ]
     },
     "execution_count": 21,
     "metadata": {},
     "output_type": "execute_result"
    }
   ],
   "source": [
    "%viz --style=\"LR\" --view=\"Sequence\" \"ControlNodeTest\""
   ]
  },
  {
   "cell_type": "code",
   "execution_count": 22,
   "id": "internal-right",
   "metadata": {
    "execution": {
     "iopub.execute_input": "2021-03-26T15:42:08.562923Z",
     "iopub.status.busy": "2021-03-26T15:42:08.562137Z",
     "iopub.status.idle": "2021-03-26T15:42:08.602519Z",
     "shell.execute_reply": "2021-03-26T15:42:08.603063Z"
    }
   },
   "outputs": [
    {
     "data": {
      "image/svg+xml": [
       "<?xml version=\"1.0\" encoding=\"UTF-8\" standalone=\"no\"?><svg xmlns=\"http://www.w3.org/2000/svg\" xmlns:xlink=\"http://www.w3.org/1999/xlink\" contentScriptType=\"application/ecmascript\" contentStyleType=\"text/css\" height=\"207px\" preserveAspectRatio=\"none\" style=\"width:366px;height:207px;\" version=\"1.1\" viewBox=\"0 0 366 207\" width=\"366px\" zoomAndPan=\"magnify\"><defs/><g><!--MD5=[fbc87193dbaf4d95561dea2c320d4a47]\n",
       "cluster E1--><a href=\"psysml:8a19e2dd-7f31-4291-b841-c8e7ad6ceaae\" target=\"_top\" title=\"psysml:8a19e2dd-7f31-4291-b841-c8e7ad6ceaae\" xlink:actuate=\"onRequest\" xlink:href=\"psysml:8a19e2dd-7f31-4291-b841-c8e7ad6ceaae\" xlink:show=\"new\" xlink:title=\"psysml:8a19e2dd-7f31-4291-b841-c8e7ad6ceaae\" xlink:type=\"simple\"><rect fill=\"#FFFFFF\" height=\"189\" id=\"E1\" style=\"stroke: #383838; stroke-width: 1.5;\" width=\"348\" x=\"7\" y=\"7\"/><rect fill=\"#F8F8F8\" height=\"37.9375\" style=\"stroke: #383838; stroke-width: 1.5;\" width=\"348\" x=\"7\" y=\"7\"/><text fill=\"#000000\" font-family=\"sans-serif\" font-size=\"12\" font-style=\"italic\" lengthAdjust=\"spacingAndGlyphs\" textLength=\"77\" x=\"142.5\" y=\"23.1387\">«action def»</text><text fill=\"#000000\" font-family=\"sans-serif\" font-size=\"12\" lengthAdjust=\"spacingAndGlyphs\" textLength=\"105\" x=\"128.5\" y=\"37.1074\">ControlNodeTest</text></a><rect fill=\"#000000\" height=\"80\" style=\"stroke: none; stroke-width: 1.0;\" width=\"8\" x=\"143\" y=\"79\"/><rect fill=\"#000000\" height=\"80\" style=\"stroke: none; stroke-width: 1.0;\" width=\"8\" x=\"211\" y=\"79\"/><g id=\"E1.E2\"><a href=\"psysml:63691cb2-c1ae-4262-a628-287378f10d06\" target=\"_top\" title=\"psysml:63691cb2-c1ae-4262-a628-287378f10d06\" xlink:actuate=\"onRequest\" xlink:href=\"psysml:63691cb2-c1ae-4262-a628-287378f10d06\" xlink:show=\"new\" xlink:title=\"psysml:63691cb2-c1ae-4262-a628-287378f10d06\" xlink:type=\"simple\"><rect fill=\"#FFFFFF\" height=\"42.9375\" id=\"E2\" rx=\"10\" ry=\"10\" style=\"stroke: #383838; stroke-width: 1.5;\" width=\"60\" x=\"23\" y=\"58.5\"/><rect fill=\"#F8F8F8\" height=\"37.9375\" rx=\"10\" ry=\"10\" style=\"stroke: #F8F8F8; stroke-width: 1.5;\" width=\"60\" x=\"23\" y=\"58.5\"/><rect fill=\"#F8F8F8\" height=\"10\" style=\"stroke: #F8F8F8; stroke-width: 1.5;\" width=\"60\" x=\"23\" y=\"86.4375\"/><rect fill=\"none\" height=\"42.9375\" id=\"E2\" rx=\"10\" ry=\"10\" style=\"stroke: #383838; stroke-width: 1.5;\" width=\"60\" x=\"23\" y=\"58.5\"/><text fill=\"#000000\" font-family=\"sans-serif\" font-size=\"12\" font-style=\"italic\" lengthAdjust=\"spacingAndGlyphs\" textLength=\"53\" x=\"26.5\" y=\"74.6387\">«action»</text><text fill=\"#000000\" font-family=\"sans-serif\" font-size=\"12\" lengthAdjust=\"spacingAndGlyphs\" textLength=\"16\" x=\"45\" y=\"88.6074\">A1</text></a></g><g id=\"E1.E3\"><a href=\"psysml:c6acf79a-793e-4497-aa33-887aafacc071\" target=\"_top\" title=\"psysml:c6acf79a-793e-4497-aa33-887aafacc071\" xlink:actuate=\"onRequest\" xlink:href=\"psysml:c6acf79a-793e-4497-aa33-887aafacc071\" xlink:show=\"new\" xlink:title=\"psysml:c6acf79a-793e-4497-aa33-887aafacc071\" xlink:type=\"simple\"><rect fill=\"#FFFFFF\" height=\"42.9375\" id=\"E3\" rx=\"10\" ry=\"10\" style=\"stroke: #383838; stroke-width: 1.5;\" width=\"60\" x=\"23\" y=\"136.5\"/><rect fill=\"#F8F8F8\" height=\"37.9375\" rx=\"10\" ry=\"10\" style=\"stroke: #F8F8F8; stroke-width: 1.5;\" width=\"60\" x=\"23\" y=\"136.5\"/><rect fill=\"#F8F8F8\" height=\"10\" style=\"stroke: #F8F8F8; stroke-width: 1.5;\" width=\"60\" x=\"23\" y=\"164.4375\"/><rect fill=\"none\" height=\"42.9375\" id=\"E3\" rx=\"10\" ry=\"10\" style=\"stroke: #383838; stroke-width: 1.5;\" width=\"60\" x=\"23\" y=\"136.5\"/><text fill=\"#000000\" font-family=\"sans-serif\" font-size=\"12\" font-style=\"italic\" lengthAdjust=\"spacingAndGlyphs\" textLength=\"53\" x=\"26.5\" y=\"152.6387\">«action»</text><text fill=\"#000000\" font-family=\"sans-serif\" font-size=\"12\" lengthAdjust=\"spacingAndGlyphs\" textLength=\"16\" x=\"45\" y=\"166.6074\">A2</text></a></g><g id=\"E1.E6\"><a href=\"psysml:2beb575e-cdbc-464e-9dd9-fc16008b4aec\" target=\"_top\" title=\"psysml:2beb575e-cdbc-464e-9dd9-fc16008b4aec\" xlink:actuate=\"onRequest\" xlink:href=\"psysml:2beb575e-cdbc-464e-9dd9-fc16008b4aec\" xlink:show=\"new\" xlink:title=\"psysml:2beb575e-cdbc-464e-9dd9-fc16008b4aec\" xlink:type=\"simple\"><rect fill=\"#FFFFFF\" height=\"42.9375\" id=\"E6\" rx=\"10\" ry=\"10\" style=\"stroke: #383838; stroke-width: 1.5;\" width=\"60\" x=\"279\" y=\"136.5\"/><rect fill=\"#F8F8F8\" height=\"37.9375\" rx=\"10\" ry=\"10\" style=\"stroke: #F8F8F8; stroke-width: 1.5;\" width=\"60\" x=\"279\" y=\"136.5\"/><rect fill=\"#F8F8F8\" height=\"10\" style=\"stroke: #F8F8F8; stroke-width: 1.5;\" width=\"60\" x=\"279\" y=\"164.4375\"/><rect fill=\"none\" height=\"42.9375\" id=\"E6\" rx=\"10\" ry=\"10\" style=\"stroke: #383838; stroke-width: 1.5;\" width=\"60\" x=\"279\" y=\"136.5\"/><text fill=\"#000000\" font-family=\"sans-serif\" font-size=\"12\" font-style=\"italic\" lengthAdjust=\"spacingAndGlyphs\" textLength=\"53\" x=\"282.5\" y=\"152.6387\">«action»</text><text fill=\"#000000\" font-family=\"sans-serif\" font-size=\"12\" lengthAdjust=\"spacingAndGlyphs\" textLength=\"16\" x=\"301\" y=\"166.6074\">B1</text></a></g><g id=\"E1.E7\"><a href=\"psysml:18cbd039-fda1-47ea-ae1e-03ddeff777e2\" target=\"_top\" title=\"psysml:18cbd039-fda1-47ea-ae1e-03ddeff777e2\" xlink:actuate=\"onRequest\" xlink:href=\"psysml:18cbd039-fda1-47ea-ae1e-03ddeff777e2\" xlink:show=\"new\" xlink:title=\"psysml:18cbd039-fda1-47ea-ae1e-03ddeff777e2\" xlink:type=\"simple\"><rect fill=\"#FFFFFF\" height=\"42.9375\" id=\"E7\" rx=\"10\" ry=\"10\" style=\"stroke: #383838; stroke-width: 1.5;\" width=\"60\" x=\"279\" y=\"58.5\"/><rect fill=\"#F8F8F8\" height=\"37.9375\" rx=\"10\" ry=\"10\" style=\"stroke: #F8F8F8; stroke-width: 1.5;\" width=\"60\" x=\"279\" y=\"58.5\"/><rect fill=\"#F8F8F8\" height=\"10\" style=\"stroke: #F8F8F8; stroke-width: 1.5;\" width=\"60\" x=\"279\" y=\"86.4375\"/><rect fill=\"none\" height=\"42.9375\" id=\"E7\" rx=\"10\" ry=\"10\" style=\"stroke: #383838; stroke-width: 1.5;\" width=\"60\" x=\"279\" y=\"58.5\"/><text fill=\"#000000\" font-family=\"sans-serif\" font-size=\"12\" font-style=\"italic\" lengthAdjust=\"spacingAndGlyphs\" textLength=\"53\" x=\"282.5\" y=\"74.6387\">«action»</text><text fill=\"#000000\" font-family=\"sans-serif\" font-size=\"12\" lengthAdjust=\"spacingAndGlyphs\" textLength=\"16\" x=\"301\" y=\"88.6074\">B2</text></a></g><!--MD5=[4d03bb2d0377dc85ccfab60ff574652b]\n",
       "link E2 to E4--><a href=\"psysml:32927b08-9b1f-4059-96b6-74ea858c5377\" target=\"_top\" title=\"psysml:32927b08-9b1f-4059-96b6-74ea858c5377\" xlink:actuate=\"onRequest\" xlink:href=\"psysml:32927b08-9b1f-4059-96b6-74ea858c5377\" xlink:show=\"new\" xlink:title=\"psysml:32927b08-9b1f-4059-96b6-74ea858c5377\" xlink:type=\"simple\"><path d=\"M83.11,92.34 C102.1,100.39 125.55,110.33 137.75,115.5 \" fill=\"none\" id=\"E2-&gt;E4\" style=\"stroke: #383838; stroke-width: 1.0;\"/><polygon fill=\"#383838\" points=\"142.51,117.52,135.7944,110.3158,137.9091,115.5625,132.6624,117.6772,142.51,117.52\" style=\"stroke: #383838; stroke-width: 1.0;\"/></a><!--MD5=[af87c684e3b0d8be13c1a698a818ef1e]\n",
       "link E3 to E4--><a href=\"psysml:6834d0f3-19d8-44ac-95f5-e8bc4db68e8a\" target=\"_top\" title=\"psysml:6834d0f3-19d8-44ac-95f5-e8bc4db68e8a\" xlink:actuate=\"onRequest\" xlink:href=\"psysml:6834d0f3-19d8-44ac-95f5-e8bc4db68e8a\" xlink:show=\"new\" xlink:title=\"psysml:6834d0f3-19d8-44ac-95f5-e8bc4db68e8a\" xlink:type=\"simple\"><path d=\"M83.11,145.66 C102.1,137.61 125.55,127.67 137.75,122.5 \" fill=\"none\" id=\"E3-&gt;E4\" style=\"stroke: #383838; stroke-width: 1.0;\"/><polygon fill=\"#383838\" points=\"142.51,120.48,132.6624,120.3228,137.9091,122.4375,135.7944,127.6842,142.51,120.48\" style=\"stroke: #383838; stroke-width: 1.0;\"/></a><!--MD5=[1b7591eae5389033d8d09a9d6721a717]\n",
       "link E4 to E5--><a href=\"psysml:02aceb33-1759-43f7-b21c-5882a5f834e0\" target=\"_top\" title=\"psysml:02aceb33-1759-43f7-b21c-5882a5f834e0\" xlink:actuate=\"onRequest\" xlink:href=\"psysml:02aceb33-1759-43f7-b21c-5882a5f834e0\" xlink:show=\"new\" xlink:title=\"psysml:02aceb33-1759-43f7-b21c-5882a5f834e0\" xlink:type=\"simple\"><path d=\"M151.18,119 C160.92,119 190.52,119 205.34,119 \" fill=\"none\" id=\"E4-&gt;E5\" style=\"stroke: #383838; stroke-width: 1.0;\"/><polygon fill=\"#383838\" points=\"210.69,119,201.69,115,205.69,119,201.69,123,210.69,119\" style=\"stroke: #383838; stroke-width: 1.0;\"/></a><!--MD5=[9120cf2e5df3bff93db8f754bbbc09b4]\n",
       "link E5 to E6--><a href=\"psysml:f43de8b9-7272-426a-b0aa-70e703f3a468\" target=\"_top\" title=\"psysml:f43de8b9-7272-426a-b0aa-70e703f3a468\" xlink:actuate=\"onRequest\" xlink:href=\"psysml:f43de8b9-7272-426a-b0aa-70e703f3a468\" xlink:show=\"new\" xlink:title=\"psysml:f43de8b9-7272-426a-b0aa-70e703f3a468\" xlink:type=\"simple\"><path d=\"M219.06,120.3 C227.64,123.93 252.69,134.55 274.03,143.6 \" fill=\"none\" id=\"E5-&gt;E6\" style=\"stroke: #383838; stroke-width: 1.0;\"/><polygon fill=\"#383838\" points=\"278.8,145.62,272.0844,138.4158,274.1991,143.6625,268.9524,145.7772,278.8,145.62\" style=\"stroke: #383838; stroke-width: 1.0;\"/></a><!--MD5=[3a9b96bfbf6b6ad89c494e81751bda47]\n",
       "link E5 to E7--><a href=\"psysml:6de5063b-eb84-4499-9c8a-3a0354e3d885\" target=\"_top\" title=\"psysml:6de5063b-eb84-4499-9c8a-3a0354e3d885\" xlink:actuate=\"onRequest\" xlink:href=\"psysml:6de5063b-eb84-4499-9c8a-3a0354e3d885\" xlink:show=\"new\" xlink:title=\"psysml:6de5063b-eb84-4499-9c8a-3a0354e3d885\" xlink:type=\"simple\"><path d=\"M219.06,117.7 C227.64,114.07 252.69,103.45 274.03,94.4 \" fill=\"none\" id=\"E5-&gt;E7\" style=\"stroke: #383838; stroke-width: 1.0;\"/><polygon fill=\"#383838\" points=\"278.8,92.38,268.9524,92.2228,274.1991,94.3375,272.0844,99.5842,278.8,92.38\" style=\"stroke: #383838; stroke-width: 1.0;\"/></a><!--MD5=[6669756e3c4fb7fdb90fb773f947b0c6]\n",
       "@startuml\r\n",
       "left to right direction\r\n",
       "skinparam monochrome true\r\n",
       "skinparam classbackgroundcolor white\r\n",
       "skinparam shadowing false\r\n",
       "skinparam wrapWidth 300\r\n",
       "hide circle\r\n",
       "\r\n",
       "rec def \"ControlNodeTest\" as E1  <<(T,blue)action def>> [[psysml:8a19e2dd-7f31-4291-b841-c8e7ad6ceaae ]] {\r\n",
       "rec usage \"A1\" as E2  <<(T,blue)action>> [[psysml:63691cb2-c1ae-4262-a628-287378f10d06 ]] {\r\n",
       "}\r\n",
       "\r\n",
       "rec usage \"A2\" as E3  <<(T,blue)action>> [[psysml:c6acf79a-793e-4497-aa33-887aafacc071 ]] {\r\n",
       "}\r\n",
       "\r\n",
       "join \"J\" as E4  [[psysml:9118671e-8e40-41ce-bc29-e44727581a0d ]] \r\n",
       "fork \"F\" as E5  [[psysml:3c4d5a48-0835-4406-bc0d-d635a7475922 ]] \r\n",
       "rec usage \"B1\" as E6  <<(T,blue)action>> [[psysml:2beb575e-cdbc-464e-9dd9-fc16008b4aec ]] {\r\n",
       "}\r\n",
       "\r\n",
       "rec usage \"B2\" as E7  <<(T,blue)action>> [[psysml:18cbd039-fda1-47ea-ae1e-03ddeff777e2 ]] {\r\n",
       "}\r\n",
       "\r\n",
       "}\r\n",
       "\r\n",
       "E2 - -> E4 [[psysml:32927b08-9b1f-4059-96b6-74ea858c5377 ]] \r\n",
       "E3 - -> E4 [[psysml:6834d0f3-19d8-44ac-95f5-e8bc4db68e8a ]] \r\n",
       "E4 - -> E5 [[psysml:02aceb33-1759-43f7-b21c-5882a5f834e0 ]] \r\n",
       "E5 - -> E6 [[psysml:f43de8b9-7272-426a-b0aa-70e703f3a468 ]] \r\n",
       "E5 - -> E7 [[psysml:6de5063b-eb84-4499-9c8a-3a0354e3d885 ]] \r\n",
       "@enduml\r\n",
       "\n",
       "PlantUML version 1.2020.13(Sat Jun 13 12:26:38 UTC 2020)\n",
       "(EPL source distribution)\n",
       "Java Runtime: OpenJDK Runtime Environment\n",
       "JVM: OpenJDK 64-Bit Server VM\n",
       "Default Encoding: UTF-8\n",
       "Language: en\n",
       "Country: null\n",
       "--></g></svg>"
      ]
     },
     "execution_count": 22,
     "metadata": {},
     "output_type": "execute_result"
    }
   ],
   "source": [
    "%viz --style=\"LR\" --view=\"MIXED\" \"ControlNodeTest\""
   ]
  },
  {
   "cell_type": "code",
   "execution_count": 23,
   "id": "helpful-boost",
   "metadata": {
    "execution": {
     "iopub.execute_input": "2021-03-26T15:42:08.653402Z",
     "iopub.status.busy": "2021-03-26T15:42:08.652730Z",
     "iopub.status.idle": "2021-03-26T15:42:08.685309Z",
     "shell.execute_reply": "2021-03-26T15:42:08.684040Z"
    }
   },
   "outputs": [
    {
     "data": {
      "image/svg+xml": [
       "<?xml version=\"1.0\" encoding=\"UTF-8\" standalone=\"no\"?><svg xmlns=\"http://www.w3.org/2000/svg\" xmlns:xlink=\"http://www.w3.org/1999/xlink\" contentScriptType=\"application/ecmascript\" contentStyleType=\"text/css\" height=\"375px\" preserveAspectRatio=\"none\" style=\"width:213px;height:375px;\" version=\"1.1\" viewBox=\"0 0 213 375\" width=\"213px\" zoomAndPan=\"magnify\"><defs><filter height=\"300%\" id=\"f95mq4unki4r8\" width=\"300%\" x=\"-1\" y=\"-1\"><feGaussianBlur result=\"blurOut\" stdDeviation=\"2.0\"/><feColorMatrix in=\"blurOut\" result=\"blurOut2\" type=\"matrix\" values=\"0 0 0 0 0 0 0 0 0 0 0 0 0 0 0 0 0 0 .4 0\"/><feOffset dx=\"4.0\" dy=\"4.0\" in=\"blurOut2\" result=\"blurOut3\"/><feBlend in=\"SourceGraphic\" in2=\"blurOut3\" mode=\"normal\"/></filter></defs><g><!--MD5=[fbc87193dbaf4d95561dea2c320d4a47]\n",
       "cluster E1--><a href=\"psysml:8a19e2dd-7f31-4291-b841-c8e7ad6ceaae\" target=\"_top\" title=\"psysml:8a19e2dd-7f31-4291-b841-c8e7ad6ceaae\" xlink:actuate=\"onRequest\" xlink:href=\"psysml:8a19e2dd-7f31-4291-b841-c8e7ad6ceaae\" xlink:show=\"new\" xlink:title=\"psysml:8a19e2dd-7f31-4291-b841-c8e7ad6ceaae\" xlink:type=\"simple\"><rect fill=\"#FFFFFF\" filter=\"url(#f95mq4unki4r8)\" height=\"349\" id=\"E1\" style=\"stroke: #A80036; stroke-width: 1.5;\" width=\"187\" x=\"7\" y=\"7\"/><rect fill=\"#FEFECE\" height=\"37.9375\" style=\"stroke: #A80036; stroke-width: 1.5;\" width=\"187\" x=\"7\" y=\"7\"/><text fill=\"#000000\" font-family=\"sans-serif\" font-size=\"12\" font-style=\"italic\" lengthAdjust=\"spacingAndGlyphs\" textLength=\"77\" x=\"62\" y=\"23.1387\">«action def»</text><text fill=\"#000000\" font-family=\"sans-serif\" font-size=\"12\" lengthAdjust=\"spacingAndGlyphs\" textLength=\"105\" x=\"48\" y=\"37.1074\">ControlNodeTest</text></a><rect fill=\"#000000\" filter=\"url(#f95mq4unki4r8)\" height=\"8\" style=\"stroke: none; stroke-width: 1.0;\" width=\"80\" x=\"60\" y=\"161\"/><rect fill=\"#000000\" filter=\"url(#f95mq4unki4r8)\" height=\"8\" style=\"stroke: none; stroke-width: 1.0;\" width=\"80\" x=\"60\" y=\"229\"/><g id=\"E1.E2\"><a href=\"psysml:63691cb2-c1ae-4262-a628-287378f10d06\" target=\"_top\" title=\"psysml:63691cb2-c1ae-4262-a628-287378f10d06\" xlink:actuate=\"onRequest\" xlink:href=\"psysml:63691cb2-c1ae-4262-a628-287378f10d06\" xlink:show=\"new\" xlink:title=\"psysml:63691cb2-c1ae-4262-a628-287378f10d06\" xlink:type=\"simple\"><rect fill=\"#FEFECE\" filter=\"url(#f95mq4unki4r8)\" height=\"42.9375\" id=\"E2\" rx=\"10\" ry=\"10\" style=\"stroke: #A80036; stroke-width: 1.5;\" width=\"60\" x=\"118\" y=\"58\"/><text fill=\"#000000\" font-family=\"sans-serif\" font-size=\"12\" font-style=\"italic\" lengthAdjust=\"spacingAndGlyphs\" textLength=\"53\" x=\"121.5\" y=\"74.1387\">«action»</text><text fill=\"#000000\" font-family=\"sans-serif\" font-size=\"12\" lengthAdjust=\"spacingAndGlyphs\" textLength=\"16\" x=\"140\" y=\"88.1074\">A1</text></a></g><g id=\"E1.E3\"><a href=\"psysml:c6acf79a-793e-4497-aa33-887aafacc071\" target=\"_top\" title=\"psysml:c6acf79a-793e-4497-aa33-887aafacc071\" xlink:actuate=\"onRequest\" xlink:href=\"psysml:c6acf79a-793e-4497-aa33-887aafacc071\" xlink:show=\"new\" xlink:title=\"psysml:c6acf79a-793e-4497-aa33-887aafacc071\" xlink:type=\"simple\"><rect fill=\"#FEFECE\" filter=\"url(#f95mq4unki4r8)\" height=\"42.9375\" id=\"E3\" rx=\"10\" ry=\"10\" style=\"stroke: #A80036; stroke-width: 1.5;\" width=\"60\" x=\"23\" y=\"58\"/><text fill=\"#000000\" font-family=\"sans-serif\" font-size=\"12\" font-style=\"italic\" lengthAdjust=\"spacingAndGlyphs\" textLength=\"53\" x=\"26.5\" y=\"74.1387\">«action»</text><text fill=\"#000000\" font-family=\"sans-serif\" font-size=\"12\" lengthAdjust=\"spacingAndGlyphs\" textLength=\"16\" x=\"45\" y=\"88.1074\">A2</text></a></g><g id=\"E1.E6\"><a href=\"psysml:2beb575e-cdbc-464e-9dd9-fc16008b4aec\" target=\"_top\" title=\"psysml:2beb575e-cdbc-464e-9dd9-fc16008b4aec\" xlink:actuate=\"onRequest\" xlink:href=\"psysml:2beb575e-cdbc-464e-9dd9-fc16008b4aec\" xlink:show=\"new\" xlink:title=\"psysml:2beb575e-cdbc-464e-9dd9-fc16008b4aec\" xlink:type=\"simple\"><rect fill=\"#FEFECE\" filter=\"url(#f95mq4unki4r8)\" height=\"42.9375\" id=\"E6\" rx=\"10\" ry=\"10\" style=\"stroke: #A80036; stroke-width: 1.5;\" width=\"60\" x=\"23\" y=\"297\"/><text fill=\"#000000\" font-family=\"sans-serif\" font-size=\"12\" font-style=\"italic\" lengthAdjust=\"spacingAndGlyphs\" textLength=\"53\" x=\"26.5\" y=\"313.1387\">«action»</text><text fill=\"#000000\" font-family=\"sans-serif\" font-size=\"12\" lengthAdjust=\"spacingAndGlyphs\" textLength=\"16\" x=\"45\" y=\"327.1074\">B1</text></a></g><g id=\"E1.E7\"><a href=\"psysml:18cbd039-fda1-47ea-ae1e-03ddeff777e2\" target=\"_top\" title=\"psysml:18cbd039-fda1-47ea-ae1e-03ddeff777e2\" xlink:actuate=\"onRequest\" xlink:href=\"psysml:18cbd039-fda1-47ea-ae1e-03ddeff777e2\" xlink:show=\"new\" xlink:title=\"psysml:18cbd039-fda1-47ea-ae1e-03ddeff777e2\" xlink:type=\"simple\"><rect fill=\"#FEFECE\" filter=\"url(#f95mq4unki4r8)\" height=\"42.9375\" id=\"E7\" rx=\"10\" ry=\"10\" style=\"stroke: #A80036; stroke-width: 1.5;\" width=\"60\" x=\"118\" y=\"297\"/><text fill=\"#000000\" font-family=\"sans-serif\" font-size=\"12\" font-style=\"italic\" lengthAdjust=\"spacingAndGlyphs\" textLength=\"53\" x=\"121.5\" y=\"313.1387\">«action»</text><text fill=\"#000000\" font-family=\"sans-serif\" font-size=\"12\" lengthAdjust=\"spacingAndGlyphs\" textLength=\"16\" x=\"140\" y=\"327.1074\">B2</text></a></g><!--MD5=[4d03bb2d0377dc85ccfab60ff574652b]\n",
       "link E2 to E4--><a href=\"psysml:32927b08-9b1f-4059-96b6-74ea858c5377\" target=\"_top\" title=\"psysml:32927b08-9b1f-4059-96b6-74ea858c5377\" xlink:actuate=\"onRequest\" xlink:href=\"psysml:32927b08-9b1f-4059-96b6-74ea858c5377\" xlink:show=\"new\" xlink:title=\"psysml:32927b08-9b1f-4059-96b6-74ea858c5377\" xlink:type=\"simple\"><path d=\"M136.13,101.14 C125.84,119.06 111.49,144.01 104.37,156.4 \" fill=\"none\" id=\"E2-&gt;E4\" style=\"stroke: #A80036; stroke-width: 1.0;\"/><polygon fill=\"#A80036\" points=\"101.79,160.88,109.7406,155.0673,104.2799,156.5441,102.8031,151.0834,101.79,160.88\" style=\"stroke: #A80036; stroke-width: 1.0;\"/></a><!--MD5=[af87c684e3b0d8be13c1a698a818ef1e]\n",
       "link E3 to E4--><a href=\"psysml:6834d0f3-19d8-44ac-95f5-e8bc4db68e8a\" target=\"_top\" title=\"psysml:6834d0f3-19d8-44ac-95f5-e8bc4db68e8a\" xlink:actuate=\"onRequest\" xlink:href=\"psysml:6834d0f3-19d8-44ac-95f5-e8bc4db68e8a\" xlink:show=\"new\" xlink:title=\"psysml:6834d0f3-19d8-44ac-95f5-e8bc4db68e8a\" xlink:type=\"simple\"><path d=\"M64.62,101.14 C74.7,119.06 88.75,144.01 95.72,156.4 \" fill=\"none\" id=\"E3-&gt;E4\" style=\"stroke: #A80036; stroke-width: 1.0;\"/><polygon fill=\"#A80036\" points=\"98.25,160.88,97.3377,151.0735,95.8048,156.5187,90.3596,154.9858,98.25,160.88\" style=\"stroke: #A80036; stroke-width: 1.0;\"/></a><!--MD5=[1b7591eae5389033d8d09a9d6721a717]\n",
       "link E4 to E5--><a href=\"psysml:02aceb33-1759-43f7-b21c-5882a5f834e0\" target=\"_top\" title=\"psysml:02aceb33-1759-43f7-b21c-5882a5f834e0\" xlink:actuate=\"onRequest\" xlink:href=\"psysml:02aceb33-1759-43f7-b21c-5882a5f834e0\" xlink:show=\"new\" xlink:title=\"psysml:02aceb33-1759-43f7-b21c-5882a5f834e0\" xlink:type=\"simple\"><path d=\"M100,169.18 C100,178.92 100,208.52 100,223.34 \" fill=\"none\" id=\"E4-&gt;E5\" style=\"stroke: #A80036; stroke-width: 1.0;\"/><polygon fill=\"#A80036\" points=\"100,228.69,104,219.69,100,223.69,96,219.69,100,228.69\" style=\"stroke: #A80036; stroke-width: 1.0;\"/></a><!--MD5=[9120cf2e5df3bff93db8f754bbbc09b4]\n",
       "link E5 to E6--><a href=\"psysml:f43de8b9-7272-426a-b0aa-70e703f3a468\" target=\"_top\" title=\"psysml:f43de8b9-7272-426a-b0aa-70e703f3a468\" xlink:actuate=\"onRequest\" xlink:href=\"psysml:f43de8b9-7272-426a-b0aa-70e703f3a468\" xlink:show=\"new\" xlink:title=\"psysml:f43de8b9-7272-426a-b0aa-70e703f3a468\" xlink:type=\"simple\"><path d=\"M98.21,237.17 C93.16,246.14 78.41,272.36 67.11,292.43 \" fill=\"none\" id=\"E5-&gt;E6\" style=\"stroke: #A80036; stroke-width: 1.0;\"/><polygon fill=\"#A80036\" points=\"64.61,296.87,72.5151,290.9955,67.0661,292.5148,65.5467,287.0658,64.61,296.87\" style=\"stroke: #A80036; stroke-width: 1.0;\"/></a><!--MD5=[3a9b96bfbf6b6ad89c494e81751bda47]\n",
       "link E5 to E7--><a href=\"psysml:6de5063b-eb84-4499-9c8a-3a0354e3d885\" target=\"_top\" title=\"psysml:6de5063b-eb84-4499-9c8a-3a0354e3d885\" xlink:actuate=\"onRequest\" xlink:href=\"psysml:6de5063b-eb84-4499-9c8a-3a0354e3d885\" xlink:show=\"new\" xlink:title=\"psysml:6de5063b-eb84-4499-9c8a-3a0354e3d885\" xlink:type=\"simple\"><path d=\"M101.82,237.17 C106.98,246.14 122.05,272.36 133.59,292.43 \" fill=\"none\" id=\"E5-&gt;E7\" style=\"stroke: #A80036; stroke-width: 1.0;\"/><polygon fill=\"#A80036\" points=\"136.14,296.87,135.1269,287.0734,133.6501,292.5341,128.1894,291.0573,136.14,296.87\" style=\"stroke: #A80036; stroke-width: 1.0;\"/></a><!--MD5=[f8aa0ef817615443f1dd4f80abfa1e83]\n",
       "@startuml\r\n",
       "skinparam wrapWidth 300\r\n",
       "hide circle\r\n",
       "\r\n",
       "rec def \"ControlNodeTest\" as E1  <<(T,blue)action def>> [[psysml:8a19e2dd-7f31-4291-b841-c8e7ad6ceaae ]] {\r\n",
       "rec usage \"A1\" as E2  <<(T,blue)action>> [[psysml:63691cb2-c1ae-4262-a628-287378f10d06 ]] {\r\n",
       "}\r\n",
       "\r\n",
       "rec usage \"A2\" as E3  <<(T,blue)action>> [[psysml:c6acf79a-793e-4497-aa33-887aafacc071 ]] {\r\n",
       "}\r\n",
       "\r\n",
       "join \"J\" as E4  [[psysml:9118671e-8e40-41ce-bc29-e44727581a0d ]] \r\n",
       "fork \"F\" as E5  [[psysml:3c4d5a48-0835-4406-bc0d-d635a7475922 ]] \r\n",
       "rec usage \"B1\" as E6  <<(T,blue)action>> [[psysml:2beb575e-cdbc-464e-9dd9-fc16008b4aec ]] {\r\n",
       "}\r\n",
       "\r\n",
       "rec usage \"B2\" as E7  <<(T,blue)action>> [[psysml:18cbd039-fda1-47ea-ae1e-03ddeff777e2 ]] {\r\n",
       "}\r\n",
       "\r\n",
       "}\r\n",
       "\r\n",
       "E2 - -> E4 [[psysml:32927b08-9b1f-4059-96b6-74ea858c5377 ]] \r\n",
       "E3 - -> E4 [[psysml:6834d0f3-19d8-44ac-95f5-e8bc4db68e8a ]] \r\n",
       "E4 - -> E5 [[psysml:02aceb33-1759-43f7-b21c-5882a5f834e0 ]] \r\n",
       "E5 - -> E6 [[psysml:f43de8b9-7272-426a-b0aa-70e703f3a468 ]] \r\n",
       "E5 - -> E7 [[psysml:6de5063b-eb84-4499-9c8a-3a0354e3d885 ]] \r\n",
       "@enduml\r\n",
       "\n",
       "PlantUML version 1.2020.13(Sat Jun 13 12:26:38 UTC 2020)\n",
       "(EPL source distribution)\n",
       "Java Runtime: OpenJDK Runtime Environment\n",
       "JVM: OpenJDK 64-Bit Server VM\n",
       "Default Encoding: UTF-8\n",
       "Language: en\n",
       "Country: null\n",
       "--></g></svg>"
      ]
     },
     "execution_count": 23,
     "metadata": {},
     "output_type": "execute_result"
    }
   ],
   "source": [
    "%viz --style=\"STDCOLOR\" --view=\"Default\" \"ControlNodeTest\""
   ]
  },
  {
   "cell_type": "code",
   "execution_count": 24,
   "id": "higher-minimum",
   "metadata": {
    "execution": {
     "iopub.execute_input": "2021-03-26T15:42:08.736586Z",
     "iopub.status.busy": "2021-03-26T15:42:08.735802Z",
     "iopub.status.idle": "2021-03-26T15:42:08.797462Z",
     "shell.execute_reply": "2021-03-26T15:42:08.797079Z"
    }
   },
   "outputs": [
    {
     "data": {
      "image/svg+xml": [
       "<?xml version=\"1.0\" encoding=\"UTF-8\" standalone=\"no\"?><svg xmlns=\"http://www.w3.org/2000/svg\" xmlns:xlink=\"http://www.w3.org/1999/xlink\" contentScriptType=\"application/ecmascript\" contentStyleType=\"text/css\" height=\"199px\" preserveAspectRatio=\"none\" style=\"width:137px;height:199px;\" version=\"1.1\" viewBox=\"0 0 137 199\" width=\"137px\" zoomAndPan=\"magnify\"><defs><filter height=\"300%\" id=\"fwx97z9rq2x0o\" width=\"300%\" x=\"-1\" y=\"-1\"><feGaussianBlur result=\"blurOut\" stdDeviation=\"2.0\"/><feColorMatrix in=\"blurOut\" result=\"blurOut2\" type=\"matrix\" values=\"0 0 0 0 0 0 0 0 0 0 0 0 0 0 0 0 0 0 .4 0\"/><feOffset dx=\"4.0\" dy=\"4.0\" in=\"blurOut2\" result=\"blurOut3\"/><feBlend in=\"SourceGraphic\" in2=\"blurOut3\" mode=\"normal\"/></filter></defs><g><!--MD5=[43c9051892ef23e1a46a86907403d788]\n",
       "class E1--><a href=\"psysml:8a19e2dd-7f31-4291-b841-c8e7ad6ceaae\" target=\"_top\" title=\"psysml:8a19e2dd-7f31-4291-b841-c8e7ad6ceaae\" xlink:actuate=\"onRequest\" xlink:href=\"psysml:8a19e2dd-7f31-4291-b841-c8e7ad6ceaae\" xlink:show=\"new\" xlink:title=\"psysml:8a19e2dd-7f31-4291-b841-c8e7ad6ceaae\" xlink:type=\"simple\"><rect fill=\"#FEFECE\" filter=\"url(#fwx97z9rq2x0o)\" height=\"173.1797\" id=\"E1\" style=\"stroke: #A80036; stroke-width: 1.5;\" width=\"111\" x=\"7\" y=\"7\"/><text fill=\"#000000\" font-family=\"sans-serif\" font-size=\"12\" font-style=\"italic\" lengthAdjust=\"spacingAndGlyphs\" textLength=\"77\" x=\"24\" y=\"23.1387\">«action def»</text><text fill=\"#000000\" font-family=\"sans-serif\" font-size=\"12\" lengthAdjust=\"spacingAndGlyphs\" textLength=\"105\" x=\"10\" y=\"37.1074\">ControlNodeTest</text><line style=\"stroke: #A80036; stroke-width: 1.5;\" x1=\"8\" x2=\"117\" y1=\"44.9375\" y2=\"44.9375\"/><text fill=\"#000000\" font-family=\"sans-serif\" font-size=\"11\" lengthAdjust=\"spacingAndGlyphs\" textLength=\"14\" x=\"13\" y=\"75.9526\">A1</text><text fill=\"#000000\" font-family=\"sans-serif\" font-size=\"11\" lengthAdjust=\"spacingAndGlyphs\" textLength=\"14\" x=\"13\" y=\"88.7573\">A2</text><text fill=\"#000000\" font-family=\"sans-serif\" font-size=\"11\" lengthAdjust=\"spacingAndGlyphs\" textLength=\"15\" x=\"13\" y=\"101.562\">B1</text><text fill=\"#000000\" font-family=\"sans-serif\" font-size=\"11\" lengthAdjust=\"spacingAndGlyphs\" textLength=\"15\" x=\"13\" y=\"114.3667\">B2</text><line style=\"stroke: #A80036; stroke-width: 1.0;\" x1=\"8\" x2=\"42\" y1=\"59.3398\" y2=\"59.3398\"/><text fill=\"#000000\" font-family=\"sans-serif\" font-size=\"11\" lengthAdjust=\"spacingAndGlyphs\" textLength=\"41\" x=\"42\" y=\"62.6479\">actions</text><line style=\"stroke: #A80036; stroke-width: 1.0;\" x1=\"83\" x2=\"117\" y1=\"59.3398\" y2=\"59.3398\"/><text fill=\"#000000\" font-family=\"sans-serif\" font-size=\"11\" lengthAdjust=\"spacingAndGlyphs\" textLength=\"6\" x=\"13\" y=\"143.9761\">F</text><line style=\"stroke: #A80036; stroke-width: 1.0;\" x1=\"8\" x2=\"33.5\" y1=\"127.3633\" y2=\"127.3633\"/><text fill=\"#000000\" font-family=\"sans-serif\" font-size=\"11\" lengthAdjust=\"spacingAndGlyphs\" textLength=\"58\" x=\"33.5\" y=\"130.6714\">forkNodes</text><line style=\"stroke: #A80036; stroke-width: 1.0;\" x1=\"91.5\" x2=\"117\" y1=\"127.3633\" y2=\"127.3633\"/><text fill=\"#000000\" font-family=\"sans-serif\" font-size=\"11\" lengthAdjust=\"spacingAndGlyphs\" textLength=\"3\" x=\"13\" y=\"173.5854\">J</text><line style=\"stroke: #A80036; stroke-width: 1.0;\" x1=\"8\" x2=\"34.5\" y1=\"156.9727\" y2=\"156.9727\"/><text fill=\"#000000\" font-family=\"sans-serif\" font-size=\"11\" lengthAdjust=\"spacingAndGlyphs\" textLength=\"56\" x=\"34.5\" y=\"160.2808\">joinNodes</text><line style=\"stroke: #A80036; stroke-width: 1.0;\" x1=\"90.5\" x2=\"117\" y1=\"156.9727\" y2=\"156.9727\"/></a><!--MD5=[29a60cdaa97dfed45fbe41fc26bec6ff]\n",
       "@startuml\r\n",
       "skinparam wrapWidth 300\r\n",
       "hide circle\r\n",
       "\r\n",
       "comp def \"ControlNodeTest\" as E1  <<(T,blue)action def>> [[psysml:8a19e2dd-7f31-4291-b841-c8e7ad6ceaae ]] {\r\n",
       "- - actions - -\r\n",
       "A1\r\n",
       "A2\r\n",
       "B1\r\n",
       "B2\r\n",
       "- - forkNodes - -\r\n",
       "F\r\n",
       "- - joinNodes - -\r\n",
       "J\r\n",
       "}\r\n",
       "@enduml\r\n",
       "\n",
       "PlantUML version 1.2020.13(Sat Jun 13 12:26:38 UTC 2020)\n",
       "(EPL source distribution)\n",
       "Java Runtime: OpenJDK Runtime Environment\n",
       "JVM: OpenJDK 64-Bit Server VM\n",
       "Default Encoding: UTF-8\n",
       "Language: en\n",
       "Country: null\n",
       "--></g></svg>"
      ]
     },
     "execution_count": 24,
     "metadata": {},
     "output_type": "execute_result"
    }
   ],
   "source": [
    "%viz --style=\"STDCOLOR\" --view=\"Tree\" \"ControlNodeTest\""
   ]
  },
  {
   "cell_type": "code",
   "execution_count": 25,
   "id": "noted-plastic",
   "metadata": {
    "execution": {
     "iopub.execute_input": "2021-03-26T15:42:08.849151Z",
     "iopub.status.busy": "2021-03-26T15:42:08.848565Z",
     "iopub.status.idle": "2021-03-26T15:42:08.854216Z",
     "shell.execute_reply": "2021-03-26T15:42:08.853498Z"
    }
   },
   "outputs": [
    {
     "data": {
      "image/svg+xml": [
       "<?xml version=\"1.0\" encoding=\"UTF-8\" standalone=\"no\"?><svg xmlns=\"http://www.w3.org/2000/svg\" xmlns:xlink=\"http://www.w3.org/1999/xlink\" contentScriptType=\"application/ecmascript\" contentStyleType=\"text/css\" height=\"12px\" preserveAspectRatio=\"none\" style=\"width:12px;height:12px;\" version=\"1.1\" viewBox=\"0 0 12 12\" width=\"12px\" zoomAndPan=\"magnify\"><defs/><g><!--MD5=[aeeef50f102b80d730deb6443d14f702]\n",
       "@startuml\r\n",
       "skinparam wrapWidth 300\r\n",
       "hide circle\r\n",
       "\r\n",
       "@enduml\r\n",
       "\n",
       "PlantUML version 1.2020.13(Sat Jun 13 12:26:38 UTC 2020)\n",
       "(EPL source distribution)\n",
       "Java Runtime: OpenJDK Runtime Environment\n",
       "JVM: OpenJDK 64-Bit Server VM\n",
       "Default Encoding: UTF-8\n",
       "Language: en\n",
       "Country: null\n",
       "--></g></svg>"
      ]
     },
     "execution_count": 25,
     "metadata": {},
     "output_type": "execute_result"
    }
   ],
   "source": [
    "%viz --style=\"STDCOLOR\" --view=\"State\" \"ControlNodeTest\""
   ]
  },
  {
   "cell_type": "code",
   "execution_count": 26,
   "id": "stuffed-female",
   "metadata": {
    "execution": {
     "iopub.execute_input": "2021-03-26T15:42:08.906033Z",
     "iopub.status.busy": "2021-03-26T15:42:08.905183Z",
     "iopub.status.idle": "2021-03-26T15:42:08.949304Z",
     "shell.execute_reply": "2021-03-26T15:42:08.948949Z"
    }
   },
   "outputs": [
    {
     "data": {
      "image/svg+xml": [
       "<?xml version=\"1.0\" encoding=\"UTF-8\" standalone=\"no\"?><svg xmlns=\"http://www.w3.org/2000/svg\" xmlns:xlink=\"http://www.w3.org/1999/xlink\" contentScriptType=\"application/ecmascript\" contentStyleType=\"text/css\" height=\"225px\" preserveAspectRatio=\"none\" style=\"width:213px;height:225px;\" version=\"1.1\" viewBox=\"0 0 213 225\" width=\"213px\" zoomAndPan=\"magnify\"><defs><filter height=\"300%\" id=\"f18c1sjgamj1up\" width=\"300%\" x=\"-1\" y=\"-1\"><feGaussianBlur result=\"blurOut\" stdDeviation=\"2.0\"/><feColorMatrix in=\"blurOut\" result=\"blurOut2\" type=\"matrix\" values=\"0 0 0 0 0 0 0 0 0 0 0 0 0 0 0 0 0 0 .4 0\"/><feOffset dx=\"4.0\" dy=\"4.0\" in=\"blurOut2\" result=\"blurOut3\"/><feBlend in=\"SourceGraphic\" in2=\"blurOut3\" mode=\"normal\"/></filter></defs><g><!--MD5=[fbc87193dbaf4d95561dea2c320d4a47]\n",
       "cluster E1--><a href=\"psysml:8a19e2dd-7f31-4291-b841-c8e7ad6ceaae\" target=\"_top\" title=\"psysml:8a19e2dd-7f31-4291-b841-c8e7ad6ceaae\" xlink:actuate=\"onRequest\" xlink:href=\"psysml:8a19e2dd-7f31-4291-b841-c8e7ad6ceaae\" xlink:show=\"new\" xlink:title=\"psysml:8a19e2dd-7f31-4291-b841-c8e7ad6ceaae\" xlink:type=\"simple\"><rect fill=\"#FFFFFF\" filter=\"url(#f18c1sjgamj1up)\" height=\"199\" id=\"E1\" style=\"stroke: #A80036; stroke-width: 1.5;\" width=\"187\" x=\"7\" y=\"7\"/><rect fill=\"#FEFECE\" height=\"37.9375\" style=\"stroke: #A80036; stroke-width: 1.5;\" width=\"187\" x=\"7\" y=\"7\"/><text fill=\"#000000\" font-family=\"sans-serif\" font-size=\"12\" font-style=\"italic\" lengthAdjust=\"spacingAndGlyphs\" textLength=\"77\" x=\"62\" y=\"23.1387\">«action def»</text><text fill=\"#000000\" font-family=\"sans-serif\" font-size=\"12\" lengthAdjust=\"spacingAndGlyphs\" textLength=\"105\" x=\"48\" y=\"37.1074\">ControlNodeTest</text></a><rect fill=\"#000000\" filter=\"url(#f18c1sjgamj1up)\" height=\"8\" style=\"stroke: none; stroke-width: 1.0;\" width=\"80\" x=\"60\" y=\"111\"/><rect fill=\"#000000\" filter=\"url(#f18c1sjgamj1up)\" height=\"8\" style=\"stroke: none; stroke-width: 1.0;\" width=\"80\" x=\"60\" y=\"129\"/><g id=\"E1.E2\"><a href=\"psysml:63691cb2-c1ae-4262-a628-287378f10d06\" target=\"_top\" title=\"psysml:63691cb2-c1ae-4262-a628-287378f10d06\" xlink:actuate=\"onRequest\" xlink:href=\"psysml:63691cb2-c1ae-4262-a628-287378f10d06\" xlink:show=\"new\" xlink:title=\"psysml:63691cb2-c1ae-4262-a628-287378f10d06\" xlink:type=\"simple\"><rect fill=\"#FEFECE\" filter=\"url(#f18c1sjgamj1up)\" height=\"42.9375\" id=\"E2\" rx=\"10\" ry=\"10\" style=\"stroke: #A80036; stroke-width: 1.5;\" width=\"60\" x=\"118\" y=\"58\"/><text fill=\"#000000\" font-family=\"sans-serif\" font-size=\"12\" font-style=\"italic\" lengthAdjust=\"spacingAndGlyphs\" textLength=\"53\" x=\"121.5\" y=\"74.1387\">«action»</text><text fill=\"#000000\" font-family=\"sans-serif\" font-size=\"12\" lengthAdjust=\"spacingAndGlyphs\" textLength=\"16\" x=\"140\" y=\"88.1074\">A1</text></a></g><g id=\"E1.E3\"><a href=\"psysml:c6acf79a-793e-4497-aa33-887aafacc071\" target=\"_top\" title=\"psysml:c6acf79a-793e-4497-aa33-887aafacc071\" xlink:actuate=\"onRequest\" xlink:href=\"psysml:c6acf79a-793e-4497-aa33-887aafacc071\" xlink:show=\"new\" xlink:title=\"psysml:c6acf79a-793e-4497-aa33-887aafacc071\" xlink:type=\"simple\"><rect fill=\"#FEFECE\" filter=\"url(#f18c1sjgamj1up)\" height=\"42.9375\" id=\"E3\" rx=\"10\" ry=\"10\" style=\"stroke: #A80036; stroke-width: 1.5;\" width=\"60\" x=\"23\" y=\"58\"/><text fill=\"#000000\" font-family=\"sans-serif\" font-size=\"12\" font-style=\"italic\" lengthAdjust=\"spacingAndGlyphs\" textLength=\"53\" x=\"26.5\" y=\"74.1387\">«action»</text><text fill=\"#000000\" font-family=\"sans-serif\" font-size=\"12\" lengthAdjust=\"spacingAndGlyphs\" textLength=\"16\" x=\"45\" y=\"88.1074\">A2</text></a></g><g id=\"E1.E6\"><a href=\"psysml:2beb575e-cdbc-464e-9dd9-fc16008b4aec\" target=\"_top\" title=\"psysml:2beb575e-cdbc-464e-9dd9-fc16008b4aec\" xlink:actuate=\"onRequest\" xlink:href=\"psysml:2beb575e-cdbc-464e-9dd9-fc16008b4aec\" xlink:show=\"new\" xlink:title=\"psysml:2beb575e-cdbc-464e-9dd9-fc16008b4aec\" xlink:type=\"simple\"><rect fill=\"#FEFECE\" filter=\"url(#f18c1sjgamj1up)\" height=\"42.9375\" id=\"E6\" rx=\"10\" ry=\"10\" style=\"stroke: #A80036; stroke-width: 1.5;\" width=\"60\" x=\"23\" y=\"147\"/><text fill=\"#000000\" font-family=\"sans-serif\" font-size=\"12\" font-style=\"italic\" lengthAdjust=\"spacingAndGlyphs\" textLength=\"53\" x=\"26.5\" y=\"163.1387\">«action»</text><text fill=\"#000000\" font-family=\"sans-serif\" font-size=\"12\" lengthAdjust=\"spacingAndGlyphs\" textLength=\"16\" x=\"45\" y=\"177.1074\">B1</text></a></g><g id=\"E1.E7\"><a href=\"psysml:18cbd039-fda1-47ea-ae1e-03ddeff777e2\" target=\"_top\" title=\"psysml:18cbd039-fda1-47ea-ae1e-03ddeff777e2\" xlink:actuate=\"onRequest\" xlink:href=\"psysml:18cbd039-fda1-47ea-ae1e-03ddeff777e2\" xlink:show=\"new\" xlink:title=\"psysml:18cbd039-fda1-47ea-ae1e-03ddeff777e2\" xlink:type=\"simple\"><rect fill=\"#FEFECE\" filter=\"url(#f18c1sjgamj1up)\" height=\"42.9375\" id=\"E7\" rx=\"10\" ry=\"10\" style=\"stroke: #A80036; stroke-width: 1.5;\" width=\"60\" x=\"118\" y=\"147\"/><text fill=\"#000000\" font-family=\"sans-serif\" font-size=\"12\" font-style=\"italic\" lengthAdjust=\"spacingAndGlyphs\" textLength=\"53\" x=\"121.5\" y=\"163.1387\">«action»</text><text fill=\"#000000\" font-family=\"sans-serif\" font-size=\"12\" lengthAdjust=\"spacingAndGlyphs\" textLength=\"16\" x=\"140\" y=\"177.1074\">B2</text></a></g><!--MD5=[4d03bb2d0377dc85ccfab60ff574652b]\n",
       "link E2 to E4--><a href=\"psysml:32927b08-9b1f-4059-96b6-74ea858c5377\" target=\"_top\" title=\"psysml:32927b08-9b1f-4059-96b6-74ea858c5377\" xlink:actuate=\"onRequest\" xlink:href=\"psysml:32927b08-9b1f-4059-96b6-74ea858c5377\" xlink:show=\"new\" xlink:title=\"psysml:32927b08-9b1f-4059-96b6-74ea858c5377\" xlink:type=\"simple\"><path d=\"M118.42,101.14 C114.95,103.57 111.64,105.88 108.81,107.85 \" fill=\"none\" id=\"E2-&gt;E4\" style=\"stroke: #A80036; stroke-width: 1.0;\"/><polygon fill=\"#A80036\" points=\"104.3,111,113.9709,109.1361,108.4022,108.1413,109.397,102.5726,104.3,111\" style=\"stroke: #A80036; stroke-width: 1.0;\"/></a><!--MD5=[af87c684e3b0d8be13c1a698a818ef1e]\n",
       "link E3 to E4--><a href=\"psysml:6834d0f3-19d8-44ac-95f5-e8bc4db68e8a\" target=\"_top\" title=\"psysml:6834d0f3-19d8-44ac-95f5-e8bc4db68e8a\" xlink:actuate=\"onRequest\" xlink:href=\"psysml:6834d0f3-19d8-44ac-95f5-e8bc4db68e8a\" xlink:show=\"new\" xlink:title=\"psysml:6834d0f3-19d8-44ac-95f5-e8bc4db68e8a\" xlink:type=\"simple\"><path d=\"M81.96,101.14 C85.36,103.57 88.6,105.88 91.37,107.85 \" fill=\"none\" id=\"E3-&gt;E4\" style=\"stroke: #A80036; stroke-width: 1.0;\"/><polygon fill=\"#A80036\" points=\"95.79,111,90.7801,102.5206,91.7175,108.0992,86.1388,109.0366,95.79,111\" style=\"stroke: #A80036; stroke-width: 1.0;\"/></a><!--MD5=[1b7591eae5389033d8d09a9d6721a717]\n",
       "link E4 to E5--><a href=\"psysml:02aceb33-1759-43f7-b21c-5882a5f834e0\" target=\"_top\" title=\"psysml:02aceb33-1759-43f7-b21c-5882a5f834e0\" xlink:actuate=\"onRequest\" xlink:href=\"psysml:02aceb33-1759-43f7-b21c-5882a5f834e0\" xlink:show=\"new\" xlink:title=\"psysml:02aceb33-1759-43f7-b21c-5882a5f834e0\" xlink:type=\"simple\"><path d=\"M100,119.08 C100,120.38 100,121.95 100,123.55 \" fill=\"none\" id=\"E4-&gt;E5\" style=\"stroke: #A80036; stroke-width: 1.0;\"/><polygon fill=\"#A80036\" points=\"100,128.7,104,119.7,100,123.7,96,119.7,100,128.7\" style=\"stroke: #A80036; stroke-width: 1.0;\"/></a><!--MD5=[9120cf2e5df3bff93db8f754bbbc09b4]\n",
       "link E5 to E6--><a href=\"psysml:f43de8b9-7272-426a-b0aa-70e703f3a468\" target=\"_top\" title=\"psysml:f43de8b9-7272-426a-b0aa-70e703f3a468\" xlink:actuate=\"onRequest\" xlink:href=\"psysml:f43de8b9-7272-426a-b0aa-70e703f3a468\" xlink:show=\"new\" xlink:title=\"psysml:f43de8b9-7272-426a-b0aa-70e703f3a468\" xlink:type=\"simple\"><path d=\"M95.66,137.09 C93.25,138.81 89.99,141.13 86.35,143.73 \" fill=\"none\" id=\"E5-&gt;E6\" style=\"stroke: #A80036; stroke-width: 1.0;\"/><polygon fill=\"#A80036\" points=\"81.93,146.88,91.5812,144.9166,86.0025,143.9792,86.9399,138.4006,81.93,146.88\" style=\"stroke: #A80036; stroke-width: 1.0;\"/></a><!--MD5=[3a9b96bfbf6b6ad89c494e81751bda47]\n",
       "link E5 to E7--><a href=\"psysml:6de5063b-eb84-4499-9c8a-3a0354e3d885\" target=\"_top\" title=\"psysml:6de5063b-eb84-4499-9c8a-3a0354e3d885\" xlink:actuate=\"onRequest\" xlink:href=\"psysml:6de5063b-eb84-4499-9c8a-3a0354e3d885\" xlink:show=\"new\" xlink:title=\"psysml:6de5063b-eb84-4499-9c8a-3a0354e3d885\" xlink:type=\"simple\"><path d=\"M104.43,137.09 C106.9,138.81 110.22,141.13 113.94,143.73 \" fill=\"none\" id=\"E5-&gt;E7\" style=\"stroke: #A80036; stroke-width: 1.0;\"/><polygon fill=\"#A80036\" points=\"118.46,146.88,113.3827,138.4407,114.3645,144.0117,108.7935,144.9935,118.46,146.88\" style=\"stroke: #A80036; stroke-width: 1.0;\"/></a><!--MD5=[32115c50d96bcbad2a9815d173d79160]\n",
       "@startuml\r\n",
       "skinparam ranksep 10\r\n",
       "skinparam rectangle {\r\n",
       " backgroundColor<<block>> LightGreen\r\n",
       "}\r\n",
       "skinparam wrapWidth 300\r\n",
       "hide circle\r\n",
       "\r\n",
       "rec def \"ControlNodeTest\" as E1  <<(T,blue)action def>> [[psysml:8a19e2dd-7f31-4291-b841-c8e7ad6ceaae ]] {\r\n",
       "rec usage \"A1\" as E2  <<(T,blue)action>> [[psysml:63691cb2-c1ae-4262-a628-287378f10d06 ]] {\r\n",
       "}\r\n",
       "\r\n",
       "rec usage \"A2\" as E3  <<(T,blue)action>> [[psysml:c6acf79a-793e-4497-aa33-887aafacc071 ]] {\r\n",
       "}\r\n",
       "\r\n",
       "join \"J\" as E4  [[psysml:9118671e-8e40-41ce-bc29-e44727581a0d ]] \r\n",
       "fork \"F\" as E5  [[psysml:3c4d5a48-0835-4406-bc0d-d635a7475922 ]] \r\n",
       "rec usage \"B1\" as E6  <<(T,blue)action>> [[psysml:2beb575e-cdbc-464e-9dd9-fc16008b4aec ]] {\r\n",
       "}\r\n",
       "\r\n",
       "rec usage \"B2\" as E7  <<(T,blue)action>> [[psysml:18cbd039-fda1-47ea-ae1e-03ddeff777e2 ]] {\r\n",
       "}\r\n",
       "\r\n",
       "}\r\n",
       "\r\n",
       "E2 - -> E4 [[psysml:32927b08-9b1f-4059-96b6-74ea858c5377 ]] \r\n",
       "E3 - -> E4 [[psysml:6834d0f3-19d8-44ac-95f5-e8bc4db68e8a ]] \r\n",
       "E4 - -> E5 [[psysml:02aceb33-1759-43f7-b21c-5882a5f834e0 ]] \r\n",
       "E5 - -> E6 [[psysml:f43de8b9-7272-426a-b0aa-70e703f3a468 ]] \r\n",
       "E5 - -> E7 [[psysml:6de5063b-eb84-4499-9c8a-3a0354e3d885 ]] \r\n",
       "@enduml\r\n",
       "\n",
       "PlantUML version 1.2020.13(Sat Jun 13 12:26:38 UTC 2020)\n",
       "(EPL source distribution)\n",
       "Java Runtime: OpenJDK Runtime Environment\n",
       "JVM: OpenJDK 64-Bit Server VM\n",
       "Default Encoding: UTF-8\n",
       "Language: en\n",
       "Country: null\n",
       "--></g></svg>"
      ]
     },
     "execution_count": 26,
     "metadata": {},
     "output_type": "execute_result"
    }
   ],
   "source": [
    "%viz --style=\"STDCOLOR\" --view=\"Interconnection\" \"ControlNodeTest\""
   ]
  },
  {
   "cell_type": "code",
   "execution_count": 27,
   "id": "synthetic-chambers",
   "metadata": {
    "execution": {
     "iopub.execute_input": "2021-03-26T15:42:09.001939Z",
     "iopub.status.busy": "2021-03-26T15:42:09.000718Z",
     "iopub.status.idle": "2021-03-26T15:42:09.037070Z",
     "shell.execute_reply": "2021-03-26T15:42:09.035795Z"
    }
   },
   "outputs": [
    {
     "data": {
      "image/svg+xml": [
       "<?xml version=\"1.0\" encoding=\"UTF-8\" standalone=\"no\"?><svg xmlns=\"http://www.w3.org/2000/svg\" xmlns:xlink=\"http://www.w3.org/1999/xlink\" contentScriptType=\"application/ecmascript\" contentStyleType=\"text/css\" height=\"219px\" preserveAspectRatio=\"none\" style=\"width:213px;height:219px;\" version=\"1.1\" viewBox=\"0 0 213 219\" width=\"213px\" zoomAndPan=\"magnify\"><defs><filter height=\"300%\" id=\"f68ilnfjct6vd\" width=\"300%\" x=\"-1\" y=\"-1\"><feGaussianBlur result=\"blurOut\" stdDeviation=\"2.0\"/><feColorMatrix in=\"blurOut\" result=\"blurOut2\" type=\"matrix\" values=\"0 0 0 0 0 0 0 0 0 0 0 0 0 0 0 0 0 0 .4 0\"/><feOffset dx=\"4.0\" dy=\"4.0\" in=\"blurOut2\" result=\"blurOut3\"/><feBlend in=\"SourceGraphic\" in2=\"blurOut3\" mode=\"normal\"/></filter></defs><g><!--MD5=[fbc87193dbaf4d95561dea2c320d4a47]\n",
       "cluster E1--><a href=\"psysml:8a19e2dd-7f31-4291-b841-c8e7ad6ceaae\" target=\"_top\" title=\"psysml:8a19e2dd-7f31-4291-b841-c8e7ad6ceaae\" xlink:actuate=\"onRequest\" xlink:href=\"psysml:8a19e2dd-7f31-4291-b841-c8e7ad6ceaae\" xlink:show=\"new\" xlink:title=\"psysml:8a19e2dd-7f31-4291-b841-c8e7ad6ceaae\" xlink:type=\"simple\"><rect fill=\"#FFFFFF\" filter=\"url(#f68ilnfjct6vd)\" height=\"193\" id=\"E1\" style=\"stroke: #A80036; stroke-width: 1.5;\" width=\"187\" x=\"7\" y=\"7\"/><rect fill=\"#FEFECE\" height=\"37.9375\" style=\"stroke: #A80036; stroke-width: 1.5;\" width=\"187\" x=\"7\" y=\"7\"/><text fill=\"#000000\" font-family=\"sans-serif\" font-size=\"12\" font-style=\"italic\" lengthAdjust=\"spacingAndGlyphs\" textLength=\"77\" x=\"62\" y=\"23.1387\">«action def»</text><text fill=\"#000000\" font-family=\"sans-serif\" font-size=\"12\" lengthAdjust=\"spacingAndGlyphs\" textLength=\"105\" x=\"48\" y=\"37.1074\">ControlNodeTest</text></a><rect fill=\"#000000\" filter=\"url(#f68ilnfjct6vd)\" height=\"8\" style=\"stroke: none; stroke-width: 1.0;\" width=\"80\" x=\"60\" y=\"109\"/><rect fill=\"#000000\" filter=\"url(#f68ilnfjct6vd)\" height=\"8\" style=\"stroke: none; stroke-width: 1.0;\" width=\"80\" x=\"60\" y=\"125\"/><g id=\"E1.E2\"><a href=\"psysml:63691cb2-c1ae-4262-a628-287378f10d06\" target=\"_top\" title=\"psysml:63691cb2-c1ae-4262-a628-287378f10d06\" xlink:actuate=\"onRequest\" xlink:href=\"psysml:63691cb2-c1ae-4262-a628-287378f10d06\" xlink:show=\"new\" xlink:title=\"psysml:63691cb2-c1ae-4262-a628-287378f10d06\" xlink:type=\"simple\"><rect fill=\"#FEFECE\" filter=\"url(#f68ilnfjct6vd)\" height=\"42.9375\" id=\"E2\" rx=\"10\" ry=\"10\" style=\"stroke: #A80036; stroke-width: 1.5;\" width=\"60\" x=\"118\" y=\"58\"/><text fill=\"#000000\" font-family=\"sans-serif\" font-size=\"12\" font-style=\"italic\" lengthAdjust=\"spacingAndGlyphs\" textLength=\"53\" x=\"121.5\" y=\"74.1387\">«action»</text><text fill=\"#000000\" font-family=\"sans-serif\" font-size=\"12\" lengthAdjust=\"spacingAndGlyphs\" textLength=\"16\" x=\"140\" y=\"88.1074\">A1</text></a></g><g id=\"E1.E3\"><a href=\"psysml:c6acf79a-793e-4497-aa33-887aafacc071\" target=\"_top\" title=\"psysml:c6acf79a-793e-4497-aa33-887aafacc071\" xlink:actuate=\"onRequest\" xlink:href=\"psysml:c6acf79a-793e-4497-aa33-887aafacc071\" xlink:show=\"new\" xlink:title=\"psysml:c6acf79a-793e-4497-aa33-887aafacc071\" xlink:type=\"simple\"><rect fill=\"#FEFECE\" filter=\"url(#f68ilnfjct6vd)\" height=\"42.9375\" id=\"E3\" rx=\"10\" ry=\"10\" style=\"stroke: #A80036; stroke-width: 1.5;\" width=\"60\" x=\"23\" y=\"58\"/><text fill=\"#000000\" font-family=\"sans-serif\" font-size=\"12\" font-style=\"italic\" lengthAdjust=\"spacingAndGlyphs\" textLength=\"53\" x=\"26.5\" y=\"74.1387\">«action»</text><text fill=\"#000000\" font-family=\"sans-serif\" font-size=\"12\" lengthAdjust=\"spacingAndGlyphs\" textLength=\"16\" x=\"45\" y=\"88.1074\">A2</text></a></g><g id=\"E1.E6\"><a href=\"psysml:2beb575e-cdbc-464e-9dd9-fc16008b4aec\" target=\"_top\" title=\"psysml:2beb575e-cdbc-464e-9dd9-fc16008b4aec\" xlink:actuate=\"onRequest\" xlink:href=\"psysml:2beb575e-cdbc-464e-9dd9-fc16008b4aec\" xlink:show=\"new\" xlink:title=\"psysml:2beb575e-cdbc-464e-9dd9-fc16008b4aec\" xlink:type=\"simple\"><rect fill=\"#FEFECE\" filter=\"url(#f68ilnfjct6vd)\" height=\"42.9375\" id=\"E6\" rx=\"10\" ry=\"10\" style=\"stroke: #A80036; stroke-width: 1.5;\" width=\"60\" x=\"23\" y=\"141\"/><text fill=\"#000000\" font-family=\"sans-serif\" font-size=\"12\" font-style=\"italic\" lengthAdjust=\"spacingAndGlyphs\" textLength=\"53\" x=\"26.5\" y=\"157.1387\">«action»</text><text fill=\"#000000\" font-family=\"sans-serif\" font-size=\"12\" lengthAdjust=\"spacingAndGlyphs\" textLength=\"16\" x=\"45\" y=\"171.1074\">B1</text></a></g><g id=\"E1.E7\"><a href=\"psysml:18cbd039-fda1-47ea-ae1e-03ddeff777e2\" target=\"_top\" title=\"psysml:18cbd039-fda1-47ea-ae1e-03ddeff777e2\" xlink:actuate=\"onRequest\" xlink:href=\"psysml:18cbd039-fda1-47ea-ae1e-03ddeff777e2\" xlink:show=\"new\" xlink:title=\"psysml:18cbd039-fda1-47ea-ae1e-03ddeff777e2\" xlink:type=\"simple\"><rect fill=\"#FEFECE\" filter=\"url(#f68ilnfjct6vd)\" height=\"42.9375\" id=\"E7\" rx=\"10\" ry=\"10\" style=\"stroke: #A80036; stroke-width: 1.5;\" width=\"60\" x=\"118\" y=\"141\"/><text fill=\"#000000\" font-family=\"sans-serif\" font-size=\"12\" font-style=\"italic\" lengthAdjust=\"spacingAndGlyphs\" textLength=\"53\" x=\"121.5\" y=\"157.1387\">«action»</text><text fill=\"#000000\" font-family=\"sans-serif\" font-size=\"12\" lengthAdjust=\"spacingAndGlyphs\" textLength=\"16\" x=\"140\" y=\"171.1074\">B2</text></a></g><!--MD5=[4d03bb2d0377dc85ccfab60ff574652b]\n",
       "link E2 to E4--><a href=\"psysml:32927b08-9b1f-4059-96b6-74ea858c5377\" target=\"_top\" title=\"psysml:32927b08-9b1f-4059-96b6-74ea858c5377\" xlink:actuate=\"onRequest\" xlink:href=\"psysml:32927b08-9b1f-4059-96b6-74ea858c5377\" xlink:show=\"new\" xlink:title=\"psysml:32927b08-9b1f-4059-96b6-74ea858c5377\" xlink:type=\"simple\"><path d=\"M117.87,100.27 C114.67,102.37 111.63,104.37 108.98,106.1 \" fill=\"none\" id=\"E2-&gt;E4\" style=\"stroke: #A80036; stroke-width: 1.0; stroke-dasharray: 7.0,7.0;\"/><polygon fill=\"#A80036\" points=\"104.72,108.9,114.4401,107.3128,108.9021,106.1595,110.0554,100.6215,104.72,108.9\" style=\"stroke: #A80036; stroke-width: 1.0;\"/></a><!--MD5=[af87c684e3b0d8be13c1a698a818ef1e]\n",
       "link E3 to E4--><a href=\"psysml:6834d0f3-19d8-44ac-95f5-e8bc4db68e8a\" target=\"_top\" title=\"psysml:6834d0f3-19d8-44ac-95f5-e8bc4db68e8a\" xlink:actuate=\"onRequest\" xlink:href=\"psysml:6834d0f3-19d8-44ac-95f5-e8bc4db68e8a\" xlink:show=\"new\" xlink:title=\"psysml:6834d0f3-19d8-44ac-95f5-e8bc4db68e8a\" xlink:type=\"simple\"><path d=\"M83.03,100.63 C85.85,102.52 88.54,104.32 90.9,105.9 \" fill=\"none\" id=\"E3-&gt;E4\" style=\"stroke: #A80036; stroke-width: 1.0; stroke-dasharray: 7.0,7.0;\"/><polygon fill=\"#A80036\" points=\"95.26,108.82,90.0101,100.487,91.1063,106.0366,85.5567,107.1328,95.26,108.82\" style=\"stroke: #A80036; stroke-width: 1.0;\"/></a><!--MD5=[1b7591eae5389033d8d09a9d6721a717]\n",
       "link E4 to E5--><a href=\"psysml:02aceb33-1759-43f7-b21c-5882a5f834e0\" target=\"_top\" title=\"psysml:02aceb33-1759-43f7-b21c-5882a5f834e0\" xlink:actuate=\"onRequest\" xlink:href=\"psysml:02aceb33-1759-43f7-b21c-5882a5f834e0\" xlink:show=\"new\" xlink:title=\"psysml:02aceb33-1759-43f7-b21c-5882a5f834e0\" xlink:type=\"simple\"><path d=\"M100,117.25 C100,118.05 100,118.94 100,119.86 \" fill=\"none\" id=\"E4-&gt;E5\" style=\"stroke: #A80036; stroke-width: 1.0; stroke-dasharray: 7.0,7.0;\"/><polygon fill=\"#A80036\" points=\"100,124.96,104,115.96,100,119.96,96,115.96,100,124.96\" style=\"stroke: #A80036; stroke-width: 1.0;\"/></a><!--MD5=[9120cf2e5df3bff93db8f754bbbc09b4]\n",
       "link E5 to E6--><a href=\"psysml:f43de8b9-7272-426a-b0aa-70e703f3a468\" target=\"_top\" title=\"psysml:f43de8b9-7272-426a-b0aa-70e703f3a468\" xlink:actuate=\"onRequest\" xlink:href=\"psysml:f43de8b9-7272-426a-b0aa-70e703f3a468\" xlink:show=\"new\" xlink:title=\"psysml:f43de8b9-7272-426a-b0aa-70e703f3a468\" xlink:type=\"simple\"><path d=\"M95.32,133.14 C93.21,134.55 90.52,136.35 87.53,138.36 \" fill=\"none\" id=\"E5-&gt;E6\" style=\"stroke: #A80036; stroke-width: 1.0; stroke-dasharray: 7.0,7.0;\"/><polygon fill=\"#A80036\" points=\"83.27,141.21,92.9706,139.5074,87.4192,138.42,88.5066,132.8687,83.27,141.21\" style=\"stroke: #A80036; stroke-width: 1.0;\"/></a><!--MD5=[3a9b96bfbf6b6ad89c494e81751bda47]\n",
       "link E5 to E7--><a href=\"psysml:6de5063b-eb84-4499-9c8a-3a0354e3d885\" target=\"_top\" title=\"psysml:6de5063b-eb84-4499-9c8a-3a0354e3d885\" xlink:actuate=\"onRequest\" xlink:href=\"psysml:6de5063b-eb84-4499-9c8a-3a0354e3d885\" xlink:show=\"new\" xlink:title=\"psysml:6de5063b-eb84-4499-9c8a-3a0354e3d885\" xlink:type=\"simple\"><path d=\"M104.78,133.14 C107.16,134.7 110.28,136.75 113.75,139.02 \" fill=\"none\" id=\"E5-&gt;E7\" style=\"stroke: #A80036; stroke-width: 1.0; stroke-dasharray: 7.0,7.0;\"/><polygon fill=\"#A80036\" points=\"117.96,141.79,112.6246,133.5115,113.7779,139.0495,108.2399,140.2028,117.96,141.79\" style=\"stroke: #A80036; stroke-width: 1.0;\"/></a><!--MD5=[cca5a7e569650402bf17c3bf5d4e6c39]\n",
       "@startuml\r\n",
       "skinparam ranksep 8\r\n",
       "skinparam wrapWidth 300\r\n",
       "hide circle\r\n",
       "\r\n",
       "rec def \"ControlNodeTest\" as E1  <<(T,blue)action def>> [[psysml:8a19e2dd-7f31-4291-b841-c8e7ad6ceaae ]] {\r\n",
       "rec usage \"A1\" as E2  <<(T,blue)action>> [[psysml:63691cb2-c1ae-4262-a628-287378f10d06 ]] {\r\n",
       "}\r\n",
       "\r\n",
       "rec usage \"A2\" as E3  <<(T,blue)action>> [[psysml:c6acf79a-793e-4497-aa33-887aafacc071 ]] {\r\n",
       "}\r\n",
       "\r\n",
       "join \"J\" as E4  [[psysml:9118671e-8e40-41ce-bc29-e44727581a0d ]] \r\n",
       "fork \"F\" as E5  [[psysml:3c4d5a48-0835-4406-bc0d-d635a7475922 ]] \r\n",
       "rec usage \"B1\" as E6  <<(T,blue)action>> [[psysml:2beb575e-cdbc-464e-9dd9-fc16008b4aec ]] {\r\n",
       "}\r\n",
       "\r\n",
       "rec usage \"B2\" as E7  <<(T,blue)action>> [[psysml:18cbd039-fda1-47ea-ae1e-03ddeff777e2 ]] {\r\n",
       "}\r\n",
       "\r\n",
       "}\r\n",
       "\r\n",
       "E2 ..> E4 [[psysml:32927b08-9b1f-4059-96b6-74ea858c5377 ]] \r\n",
       "E3 ..> E4 [[psysml:6834d0f3-19d8-44ac-95f5-e8bc4db68e8a ]] \r\n",
       "E4 ..> E5 [[psysml:02aceb33-1759-43f7-b21c-5882a5f834e0 ]] \r\n",
       "E5 ..> E6 [[psysml:f43de8b9-7272-426a-b0aa-70e703f3a468 ]] \r\n",
       "E5 ..> E7 [[psysml:6de5063b-eb84-4499-9c8a-3a0354e3d885 ]] \r\n",
       "@enduml\r\n",
       "\n",
       "PlantUML version 1.2020.13(Sat Jun 13 12:26:38 UTC 2020)\n",
       "(EPL source distribution)\n",
       "Java Runtime: OpenJDK Runtime Environment\n",
       "JVM: OpenJDK 64-Bit Server VM\n",
       "Default Encoding: UTF-8\n",
       "Language: en\n",
       "Country: null\n",
       "--></g></svg>"
      ]
     },
     "execution_count": 27,
     "metadata": {},
     "output_type": "execute_result"
    }
   ],
   "source": [
    "%viz --style=\"STDCOLOR\" --view=\"Action\" \"ControlNodeTest\""
   ]
  },
  {
   "cell_type": "code",
   "execution_count": 28,
   "id": "exempt-summer",
   "metadata": {
    "execution": {
     "iopub.execute_input": "2021-03-26T15:42:09.086277Z",
     "iopub.status.busy": "2021-03-26T15:42:09.085956Z",
     "iopub.status.idle": "2021-03-26T15:42:09.138607Z",
     "shell.execute_reply": "2021-03-26T15:42:09.137886Z"
    }
   },
   "outputs": [
    {
     "data": {
      "image/svg+xml": [
       "<?xml version=\"1.0\" encoding=\"UTF-8\" standalone=\"no\"?><svg xmlns=\"http://www.w3.org/2000/svg\" xmlns:xlink=\"http://www.w3.org/1999/xlink\" contentScriptType=\"application/ecmascript\" contentStyleType=\"text/css\" height=\"199px\" preserveAspectRatio=\"none\" style=\"width:137px;height:199px;\" version=\"1.1\" viewBox=\"0 0 137 199\" width=\"137px\" zoomAndPan=\"magnify\"><defs><filter height=\"300%\" id=\"fwx97z9rq2x0o\" width=\"300%\" x=\"-1\" y=\"-1\"><feGaussianBlur result=\"blurOut\" stdDeviation=\"2.0\"/><feColorMatrix in=\"blurOut\" result=\"blurOut2\" type=\"matrix\" values=\"0 0 0 0 0 0 0 0 0 0 0 0 0 0 0 0 0 0 .4 0\"/><feOffset dx=\"4.0\" dy=\"4.0\" in=\"blurOut2\" result=\"blurOut3\"/><feBlend in=\"SourceGraphic\" in2=\"blurOut3\" mode=\"normal\"/></filter></defs><g><!--MD5=[43c9051892ef23e1a46a86907403d788]\n",
       "class E1--><a href=\"psysml:8a19e2dd-7f31-4291-b841-c8e7ad6ceaae\" target=\"_top\" title=\"psysml:8a19e2dd-7f31-4291-b841-c8e7ad6ceaae\" xlink:actuate=\"onRequest\" xlink:href=\"psysml:8a19e2dd-7f31-4291-b841-c8e7ad6ceaae\" xlink:show=\"new\" xlink:title=\"psysml:8a19e2dd-7f31-4291-b841-c8e7ad6ceaae\" xlink:type=\"simple\"><rect fill=\"#FEFECE\" filter=\"url(#fwx97z9rq2x0o)\" height=\"173.1797\" id=\"E1\" style=\"stroke: #A80036; stroke-width: 1.5;\" width=\"111\" x=\"7\" y=\"7\"/><text fill=\"#000000\" font-family=\"sans-serif\" font-size=\"12\" font-style=\"italic\" lengthAdjust=\"spacingAndGlyphs\" textLength=\"77\" x=\"24\" y=\"23.1387\">«action def»</text><text fill=\"#000000\" font-family=\"sans-serif\" font-size=\"12\" lengthAdjust=\"spacingAndGlyphs\" textLength=\"105\" x=\"10\" y=\"37.1074\">ControlNodeTest</text><line style=\"stroke: #A80036; stroke-width: 1.5;\" x1=\"8\" x2=\"117\" y1=\"44.9375\" y2=\"44.9375\"/><text fill=\"#000000\" font-family=\"sans-serif\" font-size=\"11\" lengthAdjust=\"spacingAndGlyphs\" textLength=\"14\" x=\"13\" y=\"75.9526\">A1</text><text fill=\"#000000\" font-family=\"sans-serif\" font-size=\"11\" lengthAdjust=\"spacingAndGlyphs\" textLength=\"14\" x=\"13\" y=\"88.7573\">A2</text><text fill=\"#000000\" font-family=\"sans-serif\" font-size=\"11\" lengthAdjust=\"spacingAndGlyphs\" textLength=\"15\" x=\"13\" y=\"101.562\">B1</text><text fill=\"#000000\" font-family=\"sans-serif\" font-size=\"11\" lengthAdjust=\"spacingAndGlyphs\" textLength=\"15\" x=\"13\" y=\"114.3667\">B2</text><line style=\"stroke: #A80036; stroke-width: 1.0;\" x1=\"8\" x2=\"42\" y1=\"59.3398\" y2=\"59.3398\"/><text fill=\"#000000\" font-family=\"sans-serif\" font-size=\"11\" lengthAdjust=\"spacingAndGlyphs\" textLength=\"41\" x=\"42\" y=\"62.6479\">actions</text><line style=\"stroke: #A80036; stroke-width: 1.0;\" x1=\"83\" x2=\"117\" y1=\"59.3398\" y2=\"59.3398\"/><text fill=\"#000000\" font-family=\"sans-serif\" font-size=\"11\" lengthAdjust=\"spacingAndGlyphs\" textLength=\"6\" x=\"13\" y=\"143.9761\">F</text><line style=\"stroke: #A80036; stroke-width: 1.0;\" x1=\"8\" x2=\"33.5\" y1=\"127.3633\" y2=\"127.3633\"/><text fill=\"#000000\" font-family=\"sans-serif\" font-size=\"11\" lengthAdjust=\"spacingAndGlyphs\" textLength=\"58\" x=\"33.5\" y=\"130.6714\">forkNodes</text><line style=\"stroke: #A80036; stroke-width: 1.0;\" x1=\"91.5\" x2=\"117\" y1=\"127.3633\" y2=\"127.3633\"/><text fill=\"#000000\" font-family=\"sans-serif\" font-size=\"11\" lengthAdjust=\"spacingAndGlyphs\" textLength=\"3\" x=\"13\" y=\"173.5854\">J</text><line style=\"stroke: #A80036; stroke-width: 1.0;\" x1=\"8\" x2=\"34.5\" y1=\"156.9727\" y2=\"156.9727\"/><text fill=\"#000000\" font-family=\"sans-serif\" font-size=\"11\" lengthAdjust=\"spacingAndGlyphs\" textLength=\"56\" x=\"34.5\" y=\"160.2808\">joinNodes</text><line style=\"stroke: #A80036; stroke-width: 1.0;\" x1=\"90.5\" x2=\"117\" y1=\"156.9727\" y2=\"156.9727\"/></a><!--MD5=[29a60cdaa97dfed45fbe41fc26bec6ff]\n",
       "@startuml\r\n",
       "skinparam wrapWidth 300\r\n",
       "hide circle\r\n",
       "\r\n",
       "comp def \"ControlNodeTest\" as E1  <<(T,blue)action def>> [[psysml:8a19e2dd-7f31-4291-b841-c8e7ad6ceaae ]] {\r\n",
       "- - actions - -\r\n",
       "A1\r\n",
       "A2\r\n",
       "B1\r\n",
       "B2\r\n",
       "- - forkNodes - -\r\n",
       "F\r\n",
       "- - joinNodes - -\r\n",
       "J\r\n",
       "}\r\n",
       "@enduml\r\n",
       "\n",
       "PlantUML version 1.2020.13(Sat Jun 13 12:26:38 UTC 2020)\n",
       "(EPL source distribution)\n",
       "Java Runtime: OpenJDK Runtime Environment\n",
       "JVM: OpenJDK 64-Bit Server VM\n",
       "Default Encoding: UTF-8\n",
       "Language: en\n",
       "Country: null\n",
       "--></g></svg>"
      ]
     },
     "execution_count": 28,
     "metadata": {},
     "output_type": "execute_result"
    }
   ],
   "source": [
    "%viz --style=\"STDCOLOR\" --view=\"Sequence\" \"ControlNodeTest\""
   ]
  },
  {
   "cell_type": "code",
   "execution_count": 29,
   "id": "rocky-notebook",
   "metadata": {
    "execution": {
     "iopub.execute_input": "2021-03-26T15:42:09.192988Z",
     "iopub.status.busy": "2021-03-26T15:42:09.192123Z",
     "iopub.status.idle": "2021-03-26T15:42:09.224718Z",
     "shell.execute_reply": "2021-03-26T15:42:09.223154Z"
    }
   },
   "outputs": [
    {
     "data": {
      "image/svg+xml": [
       "<?xml version=\"1.0\" encoding=\"UTF-8\" standalone=\"no\"?><svg xmlns=\"http://www.w3.org/2000/svg\" xmlns:xlink=\"http://www.w3.org/1999/xlink\" contentScriptType=\"application/ecmascript\" contentStyleType=\"text/css\" height=\"375px\" preserveAspectRatio=\"none\" style=\"width:213px;height:375px;\" version=\"1.1\" viewBox=\"0 0 213 375\" width=\"213px\" zoomAndPan=\"magnify\"><defs><filter height=\"300%\" id=\"f95mq4unki4r8\" width=\"300%\" x=\"-1\" y=\"-1\"><feGaussianBlur result=\"blurOut\" stdDeviation=\"2.0\"/><feColorMatrix in=\"blurOut\" result=\"blurOut2\" type=\"matrix\" values=\"0 0 0 0 0 0 0 0 0 0 0 0 0 0 0 0 0 0 .4 0\"/><feOffset dx=\"4.0\" dy=\"4.0\" in=\"blurOut2\" result=\"blurOut3\"/><feBlend in=\"SourceGraphic\" in2=\"blurOut3\" mode=\"normal\"/></filter></defs><g><!--MD5=[fbc87193dbaf4d95561dea2c320d4a47]\n",
       "cluster E1--><a href=\"psysml:8a19e2dd-7f31-4291-b841-c8e7ad6ceaae\" target=\"_top\" title=\"psysml:8a19e2dd-7f31-4291-b841-c8e7ad6ceaae\" xlink:actuate=\"onRequest\" xlink:href=\"psysml:8a19e2dd-7f31-4291-b841-c8e7ad6ceaae\" xlink:show=\"new\" xlink:title=\"psysml:8a19e2dd-7f31-4291-b841-c8e7ad6ceaae\" xlink:type=\"simple\"><rect fill=\"#FFFFFF\" filter=\"url(#f95mq4unki4r8)\" height=\"349\" id=\"E1\" style=\"stroke: #A80036; stroke-width: 1.5;\" width=\"187\" x=\"7\" y=\"7\"/><rect fill=\"#FEFECE\" height=\"37.9375\" style=\"stroke: #A80036; stroke-width: 1.5;\" width=\"187\" x=\"7\" y=\"7\"/><text fill=\"#000000\" font-family=\"sans-serif\" font-size=\"12\" font-style=\"italic\" lengthAdjust=\"spacingAndGlyphs\" textLength=\"77\" x=\"62\" y=\"23.1387\">«action def»</text><text fill=\"#000000\" font-family=\"sans-serif\" font-size=\"12\" lengthAdjust=\"spacingAndGlyphs\" textLength=\"105\" x=\"48\" y=\"37.1074\">ControlNodeTest</text></a><rect fill=\"#000000\" filter=\"url(#f95mq4unki4r8)\" height=\"8\" style=\"stroke: none; stroke-width: 1.0;\" width=\"80\" x=\"60\" y=\"161\"/><rect fill=\"#000000\" filter=\"url(#f95mq4unki4r8)\" height=\"8\" style=\"stroke: none; stroke-width: 1.0;\" width=\"80\" x=\"60\" y=\"229\"/><g id=\"E1.E2\"><a href=\"psysml:63691cb2-c1ae-4262-a628-287378f10d06\" target=\"_top\" title=\"psysml:63691cb2-c1ae-4262-a628-287378f10d06\" xlink:actuate=\"onRequest\" xlink:href=\"psysml:63691cb2-c1ae-4262-a628-287378f10d06\" xlink:show=\"new\" xlink:title=\"psysml:63691cb2-c1ae-4262-a628-287378f10d06\" xlink:type=\"simple\"><rect fill=\"#FEFECE\" filter=\"url(#f95mq4unki4r8)\" height=\"42.9375\" id=\"E2\" rx=\"10\" ry=\"10\" style=\"stroke: #A80036; stroke-width: 1.5;\" width=\"60\" x=\"118\" y=\"58\"/><text fill=\"#000000\" font-family=\"sans-serif\" font-size=\"12\" font-style=\"italic\" lengthAdjust=\"spacingAndGlyphs\" textLength=\"53\" x=\"121.5\" y=\"74.1387\">«action»</text><text fill=\"#000000\" font-family=\"sans-serif\" font-size=\"12\" lengthAdjust=\"spacingAndGlyphs\" textLength=\"16\" x=\"140\" y=\"88.1074\">A1</text></a></g><g id=\"E1.E3\"><a href=\"psysml:c6acf79a-793e-4497-aa33-887aafacc071\" target=\"_top\" title=\"psysml:c6acf79a-793e-4497-aa33-887aafacc071\" xlink:actuate=\"onRequest\" xlink:href=\"psysml:c6acf79a-793e-4497-aa33-887aafacc071\" xlink:show=\"new\" xlink:title=\"psysml:c6acf79a-793e-4497-aa33-887aafacc071\" xlink:type=\"simple\"><rect fill=\"#FEFECE\" filter=\"url(#f95mq4unki4r8)\" height=\"42.9375\" id=\"E3\" rx=\"10\" ry=\"10\" style=\"stroke: #A80036; stroke-width: 1.5;\" width=\"60\" x=\"23\" y=\"58\"/><text fill=\"#000000\" font-family=\"sans-serif\" font-size=\"12\" font-style=\"italic\" lengthAdjust=\"spacingAndGlyphs\" textLength=\"53\" x=\"26.5\" y=\"74.1387\">«action»</text><text fill=\"#000000\" font-family=\"sans-serif\" font-size=\"12\" lengthAdjust=\"spacingAndGlyphs\" textLength=\"16\" x=\"45\" y=\"88.1074\">A2</text></a></g><g id=\"E1.E6\"><a href=\"psysml:2beb575e-cdbc-464e-9dd9-fc16008b4aec\" target=\"_top\" title=\"psysml:2beb575e-cdbc-464e-9dd9-fc16008b4aec\" xlink:actuate=\"onRequest\" xlink:href=\"psysml:2beb575e-cdbc-464e-9dd9-fc16008b4aec\" xlink:show=\"new\" xlink:title=\"psysml:2beb575e-cdbc-464e-9dd9-fc16008b4aec\" xlink:type=\"simple\"><rect fill=\"#FEFECE\" filter=\"url(#f95mq4unki4r8)\" height=\"42.9375\" id=\"E6\" rx=\"10\" ry=\"10\" style=\"stroke: #A80036; stroke-width: 1.5;\" width=\"60\" x=\"23\" y=\"297\"/><text fill=\"#000000\" font-family=\"sans-serif\" font-size=\"12\" font-style=\"italic\" lengthAdjust=\"spacingAndGlyphs\" textLength=\"53\" x=\"26.5\" y=\"313.1387\">«action»</text><text fill=\"#000000\" font-family=\"sans-serif\" font-size=\"12\" lengthAdjust=\"spacingAndGlyphs\" textLength=\"16\" x=\"45\" y=\"327.1074\">B1</text></a></g><g id=\"E1.E7\"><a href=\"psysml:18cbd039-fda1-47ea-ae1e-03ddeff777e2\" target=\"_top\" title=\"psysml:18cbd039-fda1-47ea-ae1e-03ddeff777e2\" xlink:actuate=\"onRequest\" xlink:href=\"psysml:18cbd039-fda1-47ea-ae1e-03ddeff777e2\" xlink:show=\"new\" xlink:title=\"psysml:18cbd039-fda1-47ea-ae1e-03ddeff777e2\" xlink:type=\"simple\"><rect fill=\"#FEFECE\" filter=\"url(#f95mq4unki4r8)\" height=\"42.9375\" id=\"E7\" rx=\"10\" ry=\"10\" style=\"stroke: #A80036; stroke-width: 1.5;\" width=\"60\" x=\"118\" y=\"297\"/><text fill=\"#000000\" font-family=\"sans-serif\" font-size=\"12\" font-style=\"italic\" lengthAdjust=\"spacingAndGlyphs\" textLength=\"53\" x=\"121.5\" y=\"313.1387\">«action»</text><text fill=\"#000000\" font-family=\"sans-serif\" font-size=\"12\" lengthAdjust=\"spacingAndGlyphs\" textLength=\"16\" x=\"140\" y=\"327.1074\">B2</text></a></g><!--MD5=[4d03bb2d0377dc85ccfab60ff574652b]\n",
       "link E2 to E4--><a href=\"psysml:32927b08-9b1f-4059-96b6-74ea858c5377\" target=\"_top\" title=\"psysml:32927b08-9b1f-4059-96b6-74ea858c5377\" xlink:actuate=\"onRequest\" xlink:href=\"psysml:32927b08-9b1f-4059-96b6-74ea858c5377\" xlink:show=\"new\" xlink:title=\"psysml:32927b08-9b1f-4059-96b6-74ea858c5377\" xlink:type=\"simple\"><path d=\"M136.13,101.14 C125.84,119.06 111.49,144.01 104.37,156.4 \" fill=\"none\" id=\"E2-&gt;E4\" style=\"stroke: #A80036; stroke-width: 1.0;\"/><polygon fill=\"#A80036\" points=\"101.79,160.88,109.7406,155.0673,104.2799,156.5441,102.8031,151.0834,101.79,160.88\" style=\"stroke: #A80036; stroke-width: 1.0;\"/></a><!--MD5=[af87c684e3b0d8be13c1a698a818ef1e]\n",
       "link E3 to E4--><a href=\"psysml:6834d0f3-19d8-44ac-95f5-e8bc4db68e8a\" target=\"_top\" title=\"psysml:6834d0f3-19d8-44ac-95f5-e8bc4db68e8a\" xlink:actuate=\"onRequest\" xlink:href=\"psysml:6834d0f3-19d8-44ac-95f5-e8bc4db68e8a\" xlink:show=\"new\" xlink:title=\"psysml:6834d0f3-19d8-44ac-95f5-e8bc4db68e8a\" xlink:type=\"simple\"><path d=\"M64.62,101.14 C74.7,119.06 88.75,144.01 95.72,156.4 \" fill=\"none\" id=\"E3-&gt;E4\" style=\"stroke: #A80036; stroke-width: 1.0;\"/><polygon fill=\"#A80036\" points=\"98.25,160.88,97.3377,151.0735,95.8048,156.5187,90.3596,154.9858,98.25,160.88\" style=\"stroke: #A80036; stroke-width: 1.0;\"/></a><!--MD5=[1b7591eae5389033d8d09a9d6721a717]\n",
       "link E4 to E5--><a href=\"psysml:02aceb33-1759-43f7-b21c-5882a5f834e0\" target=\"_top\" title=\"psysml:02aceb33-1759-43f7-b21c-5882a5f834e0\" xlink:actuate=\"onRequest\" xlink:href=\"psysml:02aceb33-1759-43f7-b21c-5882a5f834e0\" xlink:show=\"new\" xlink:title=\"psysml:02aceb33-1759-43f7-b21c-5882a5f834e0\" xlink:type=\"simple\"><path d=\"M100,169.18 C100,178.92 100,208.52 100,223.34 \" fill=\"none\" id=\"E4-&gt;E5\" style=\"stroke: #A80036; stroke-width: 1.0;\"/><polygon fill=\"#A80036\" points=\"100,228.69,104,219.69,100,223.69,96,219.69,100,228.69\" style=\"stroke: #A80036; stroke-width: 1.0;\"/></a><!--MD5=[9120cf2e5df3bff93db8f754bbbc09b4]\n",
       "link E5 to E6--><a href=\"psysml:f43de8b9-7272-426a-b0aa-70e703f3a468\" target=\"_top\" title=\"psysml:f43de8b9-7272-426a-b0aa-70e703f3a468\" xlink:actuate=\"onRequest\" xlink:href=\"psysml:f43de8b9-7272-426a-b0aa-70e703f3a468\" xlink:show=\"new\" xlink:title=\"psysml:f43de8b9-7272-426a-b0aa-70e703f3a468\" xlink:type=\"simple\"><path d=\"M98.21,237.17 C93.16,246.14 78.41,272.36 67.11,292.43 \" fill=\"none\" id=\"E5-&gt;E6\" style=\"stroke: #A80036; stroke-width: 1.0;\"/><polygon fill=\"#A80036\" points=\"64.61,296.87,72.5151,290.9955,67.0661,292.5148,65.5467,287.0658,64.61,296.87\" style=\"stroke: #A80036; stroke-width: 1.0;\"/></a><!--MD5=[3a9b96bfbf6b6ad89c494e81751bda47]\n",
       "link E5 to E7--><a href=\"psysml:6de5063b-eb84-4499-9c8a-3a0354e3d885\" target=\"_top\" title=\"psysml:6de5063b-eb84-4499-9c8a-3a0354e3d885\" xlink:actuate=\"onRequest\" xlink:href=\"psysml:6de5063b-eb84-4499-9c8a-3a0354e3d885\" xlink:show=\"new\" xlink:title=\"psysml:6de5063b-eb84-4499-9c8a-3a0354e3d885\" xlink:type=\"simple\"><path d=\"M101.82,237.17 C106.98,246.14 122.05,272.36 133.59,292.43 \" fill=\"none\" id=\"E5-&gt;E7\" style=\"stroke: #A80036; stroke-width: 1.0;\"/><polygon fill=\"#A80036\" points=\"136.14,296.87,135.1269,287.0734,133.6501,292.5341,128.1894,291.0573,136.14,296.87\" style=\"stroke: #A80036; stroke-width: 1.0;\"/></a><!--MD5=[f8aa0ef817615443f1dd4f80abfa1e83]\n",
       "@startuml\r\n",
       "skinparam wrapWidth 300\r\n",
       "hide circle\r\n",
       "\r\n",
       "rec def \"ControlNodeTest\" as E1  <<(T,blue)action def>> [[psysml:8a19e2dd-7f31-4291-b841-c8e7ad6ceaae ]] {\r\n",
       "rec usage \"A1\" as E2  <<(T,blue)action>> [[psysml:63691cb2-c1ae-4262-a628-287378f10d06 ]] {\r\n",
       "}\r\n",
       "\r\n",
       "rec usage \"A2\" as E3  <<(T,blue)action>> [[psysml:c6acf79a-793e-4497-aa33-887aafacc071 ]] {\r\n",
       "}\r\n",
       "\r\n",
       "join \"J\" as E4  [[psysml:9118671e-8e40-41ce-bc29-e44727581a0d ]] \r\n",
       "fork \"F\" as E5  [[psysml:3c4d5a48-0835-4406-bc0d-d635a7475922 ]] \r\n",
       "rec usage \"B1\" as E6  <<(T,blue)action>> [[psysml:2beb575e-cdbc-464e-9dd9-fc16008b4aec ]] {\r\n",
       "}\r\n",
       "\r\n",
       "rec usage \"B2\" as E7  <<(T,blue)action>> [[psysml:18cbd039-fda1-47ea-ae1e-03ddeff777e2 ]] {\r\n",
       "}\r\n",
       "\r\n",
       "}\r\n",
       "\r\n",
       "E2 - -> E4 [[psysml:32927b08-9b1f-4059-96b6-74ea858c5377 ]] \r\n",
       "E3 - -> E4 [[psysml:6834d0f3-19d8-44ac-95f5-e8bc4db68e8a ]] \r\n",
       "E4 - -> E5 [[psysml:02aceb33-1759-43f7-b21c-5882a5f834e0 ]] \r\n",
       "E5 - -> E6 [[psysml:f43de8b9-7272-426a-b0aa-70e703f3a468 ]] \r\n",
       "E5 - -> E7 [[psysml:6de5063b-eb84-4499-9c8a-3a0354e3d885 ]] \r\n",
       "@enduml\r\n",
       "\n",
       "PlantUML version 1.2020.13(Sat Jun 13 12:26:38 UTC 2020)\n",
       "(EPL source distribution)\n",
       "Java Runtime: OpenJDK Runtime Environment\n",
       "JVM: OpenJDK 64-Bit Server VM\n",
       "Default Encoding: UTF-8\n",
       "Language: en\n",
       "Country: null\n",
       "--></g></svg>"
      ]
     },
     "execution_count": 29,
     "metadata": {},
     "output_type": "execute_result"
    }
   ],
   "source": [
    "%viz --style=\"STDCOLOR\" --view=\"MIXED\" \"ControlNodeTest\""
   ]
  },
  {
   "cell_type": "code",
   "execution_count": 30,
   "id": "compatible-professional",
   "metadata": {
    "execution": {
     "iopub.execute_input": "2021-03-26T15:42:09.276532Z",
     "iopub.status.busy": "2021-03-26T15:42:09.275192Z",
     "iopub.status.idle": "2021-03-26T15:42:09.340490Z",
     "shell.execute_reply": "2021-03-26T15:42:09.338964Z"
    }
   },
   "outputs": [
    {
     "data": {
      "image/svg+xml": [
       "<?xml version=\"1.0\" encoding=\"UTF-8\" standalone=\"no\"?><svg xmlns=\"http://www.w3.org/2000/svg\" xmlns:xlink=\"http://www.w3.org/1999/xlink\" contentScriptType=\"application/ecmascript\" contentStyleType=\"text/css\" height=\"375px\" preserveAspectRatio=\"none\" style=\"width:265px;height:375px;\" version=\"1.1\" viewBox=\"0 0 265 375\" width=\"265px\" zoomAndPan=\"magnify\"><defs><filter height=\"300%\" id=\"f14v2snvry9s0f\" width=\"300%\" x=\"-1\" y=\"-1\"><feGaussianBlur result=\"blurOut\" stdDeviation=\"2.0\"/><feColorMatrix in=\"blurOut\" result=\"blurOut2\" type=\"matrix\" values=\"0 0 0 0 0 0 0 0 0 0 0 0 0 0 0 0 0 0 .4 0\"/><feOffset dx=\"4.0\" dy=\"4.0\" in=\"blurOut2\" result=\"blurOut3\"/><feBlend in=\"SourceGraphic\" in2=\"blurOut3\" mode=\"normal\"/></filter></defs><g><!--MD5=[fbc87193dbaf4d95561dea2c320d4a47]\n",
       "cluster E1--><a href=\"psysml:8a19e2dd-7f31-4291-b841-c8e7ad6ceaae\" target=\"_top\" title=\"psysml:8a19e2dd-7f31-4291-b841-c8e7ad6ceaae\" xlink:actuate=\"onRequest\" xlink:href=\"psysml:8a19e2dd-7f31-4291-b841-c8e7ad6ceaae\" xlink:show=\"new\" xlink:title=\"psysml:8a19e2dd-7f31-4291-b841-c8e7ad6ceaae\" xlink:type=\"simple\"><rect fill=\"#FFFFFF\" filter=\"url(#f14v2snvry9s0f)\" height=\"349\" id=\"E1\" style=\"stroke: #A80036; stroke-width: 1.5;\" width=\"239\" x=\"7\" y=\"7\"/><rect fill=\"#FEFECE\" height=\"37.9375\" style=\"stroke: #A80036; stroke-width: 1.5;\" width=\"239\" x=\"7\" y=\"7\"/><text fill=\"#000000\" font-family=\"sans-serif\" font-size=\"12\" font-style=\"italic\" lengthAdjust=\"spacingAndGlyphs\" textLength=\"77\" x=\"88\" y=\"23.1387\">«action def»</text><text fill=\"#000000\" font-family=\"sans-serif\" font-size=\"12\" lengthAdjust=\"spacingAndGlyphs\" textLength=\"105\" x=\"74\" y=\"37.1074\">ControlNodeTest</text></a><rect fill=\"#000000\" filter=\"url(#f14v2snvry9s0f)\" height=\"8\" style=\"stroke: none; stroke-width: 1.0;\" width=\"80\" x=\"86\" y=\"161\"/><rect fill=\"#000000\" filter=\"url(#f14v2snvry9s0f)\" height=\"8\" style=\"stroke: none; stroke-width: 1.0;\" width=\"80\" x=\"86\" y=\"229\"/><g id=\"E1.E2\"><a href=\"psysml:63691cb2-c1ae-4262-a628-287378f10d06\" target=\"_top\" title=\"psysml:63691cb2-c1ae-4262-a628-287378f10d06\" xlink:actuate=\"onRequest\" xlink:href=\"psysml:63691cb2-c1ae-4262-a628-287378f10d06\" xlink:show=\"new\" xlink:title=\"psysml:63691cb2-c1ae-4262-a628-287378f10d06\" xlink:type=\"simple\"><rect fill=\"#FEFECE\" filter=\"url(#f14v2snvry9s0f)\" height=\"42.9375\" id=\"E2\" rx=\"10\" ry=\"10\" style=\"stroke: #A80036; stroke-width: 1.5;\" width=\"86\" x=\"144\" y=\"58\"/><ellipse cx=\"161.25\" cy=\"76.9688\" fill=\"#FFA500\" rx=\"11\" ry=\"11\" style=\"stroke: #A80036; stroke-width: 1.0;\"/><path d=\"M157.125,78.8906 L157.125,71.0781 L159.5781,71.0781 L159.5781,79.5156 Q159.5781,80.4375 160.0469,80.9688 Q160.5313,81.5 161.3594,81.5 Q162.2031,81.5 162.6719,80.9688 Q163.1406,80.4375 163.1406,79.5156 L163.1406,71.0781 L165.5938,71.0781 L165.5938,78.8906 Q165.5938,81.4219 164.5938,82.5625 Q163.5938,83.7031 161.3594,83.7031 Q159.1406,83.7031 158.125,82.5625 Q157.125,81.4219 157.125,78.8906 Z \"/><text fill=\"#000000\" font-family=\"sans-serif\" font-size=\"12\" font-style=\"italic\" lengthAdjust=\"spacingAndGlyphs\" textLength=\"53\" x=\"173.75\" y=\"74.1387\">«action»</text><text fill=\"#000000\" font-family=\"sans-serif\" font-size=\"12\" lengthAdjust=\"spacingAndGlyphs\" textLength=\"16\" x=\"192.25\" y=\"88.1074\">A1</text></a></g><g id=\"E1.E3\"><a href=\"psysml:c6acf79a-793e-4497-aa33-887aafacc071\" target=\"_top\" title=\"psysml:c6acf79a-793e-4497-aa33-887aafacc071\" xlink:actuate=\"onRequest\" xlink:href=\"psysml:c6acf79a-793e-4497-aa33-887aafacc071\" xlink:show=\"new\" xlink:title=\"psysml:c6acf79a-793e-4497-aa33-887aafacc071\" xlink:type=\"simple\"><rect fill=\"#FEFECE\" filter=\"url(#f14v2snvry9s0f)\" height=\"42.9375\" id=\"E3\" rx=\"10\" ry=\"10\" style=\"stroke: #A80036; stroke-width: 1.5;\" width=\"86\" x=\"23\" y=\"58\"/><ellipse cx=\"40.25\" cy=\"76.9688\" fill=\"#FFA500\" rx=\"11\" ry=\"11\" style=\"stroke: #A80036; stroke-width: 1.0;\"/><path d=\"M36.125,78.8906 L36.125,71.0781 L38.5781,71.0781 L38.5781,79.5156 Q38.5781,80.4375 39.0469,80.9688 Q39.5313,81.5 40.3594,81.5 Q41.2031,81.5 41.6719,80.9688 Q42.1406,80.4375 42.1406,79.5156 L42.1406,71.0781 L44.5938,71.0781 L44.5938,78.8906 Q44.5938,81.4219 43.5938,82.5625 Q42.5938,83.7031 40.3594,83.7031 Q38.1406,83.7031 37.125,82.5625 Q36.125,81.4219 36.125,78.8906 Z \"/><text fill=\"#000000\" font-family=\"sans-serif\" font-size=\"12\" font-style=\"italic\" lengthAdjust=\"spacingAndGlyphs\" textLength=\"53\" x=\"52.75\" y=\"74.1387\">«action»</text><text fill=\"#000000\" font-family=\"sans-serif\" font-size=\"12\" lengthAdjust=\"spacingAndGlyphs\" textLength=\"16\" x=\"71.25\" y=\"88.1074\">A2</text></a></g><g id=\"E1.E6\"><a href=\"psysml:2beb575e-cdbc-464e-9dd9-fc16008b4aec\" target=\"_top\" title=\"psysml:2beb575e-cdbc-464e-9dd9-fc16008b4aec\" xlink:actuate=\"onRequest\" xlink:href=\"psysml:2beb575e-cdbc-464e-9dd9-fc16008b4aec\" xlink:show=\"new\" xlink:title=\"psysml:2beb575e-cdbc-464e-9dd9-fc16008b4aec\" xlink:type=\"simple\"><rect fill=\"#FEFECE\" filter=\"url(#f14v2snvry9s0f)\" height=\"42.9375\" id=\"E6\" rx=\"10\" ry=\"10\" style=\"stroke: #A80036; stroke-width: 1.5;\" width=\"86\" x=\"23\" y=\"297\"/><ellipse cx=\"40.25\" cy=\"315.9688\" fill=\"#FFA500\" rx=\"11\" ry=\"11\" style=\"stroke: #A80036; stroke-width: 1.0;\"/><path d=\"M36.125,317.8906 L36.125,310.0781 L38.5781,310.0781 L38.5781,318.5156 Q38.5781,319.4375 39.0469,319.9688 Q39.5313,320.5 40.3594,320.5 Q41.2031,320.5 41.6719,319.9688 Q42.1406,319.4375 42.1406,318.5156 L42.1406,310.0781 L44.5938,310.0781 L44.5938,317.8906 Q44.5938,320.4219 43.5938,321.5625 Q42.5938,322.7031 40.3594,322.7031 Q38.1406,322.7031 37.125,321.5625 Q36.125,320.4219 36.125,317.8906 Z \"/><text fill=\"#000000\" font-family=\"sans-serif\" font-size=\"12\" font-style=\"italic\" lengthAdjust=\"spacingAndGlyphs\" textLength=\"53\" x=\"52.75\" y=\"313.1387\">«action»</text><text fill=\"#000000\" font-family=\"sans-serif\" font-size=\"12\" lengthAdjust=\"spacingAndGlyphs\" textLength=\"16\" x=\"71.25\" y=\"327.1074\">B1</text></a></g><g id=\"E1.E7\"><a href=\"psysml:18cbd039-fda1-47ea-ae1e-03ddeff777e2\" target=\"_top\" title=\"psysml:18cbd039-fda1-47ea-ae1e-03ddeff777e2\" xlink:actuate=\"onRequest\" xlink:href=\"psysml:18cbd039-fda1-47ea-ae1e-03ddeff777e2\" xlink:show=\"new\" xlink:title=\"psysml:18cbd039-fda1-47ea-ae1e-03ddeff777e2\" xlink:type=\"simple\"><rect fill=\"#FEFECE\" filter=\"url(#f14v2snvry9s0f)\" height=\"42.9375\" id=\"E7\" rx=\"10\" ry=\"10\" style=\"stroke: #A80036; stroke-width: 1.5;\" width=\"86\" x=\"144\" y=\"297\"/><ellipse cx=\"161.25\" cy=\"315.9688\" fill=\"#FFA500\" rx=\"11\" ry=\"11\" style=\"stroke: #A80036; stroke-width: 1.0;\"/><path d=\"M157.125,317.8906 L157.125,310.0781 L159.5781,310.0781 L159.5781,318.5156 Q159.5781,319.4375 160.0469,319.9688 Q160.5313,320.5 161.3594,320.5 Q162.2031,320.5 162.6719,319.9688 Q163.1406,319.4375 163.1406,318.5156 L163.1406,310.0781 L165.5938,310.0781 L165.5938,317.8906 Q165.5938,320.4219 164.5938,321.5625 Q163.5938,322.7031 161.3594,322.7031 Q159.1406,322.7031 158.125,321.5625 Q157.125,320.4219 157.125,317.8906 Z \"/><text fill=\"#000000\" font-family=\"sans-serif\" font-size=\"12\" font-style=\"italic\" lengthAdjust=\"spacingAndGlyphs\" textLength=\"53\" x=\"173.75\" y=\"313.1387\">«action»</text><text fill=\"#000000\" font-family=\"sans-serif\" font-size=\"12\" lengthAdjust=\"spacingAndGlyphs\" textLength=\"16\" x=\"192.25\" y=\"327.1074\">B2</text></a></g><!--MD5=[4d03bb2d0377dc85ccfab60ff574652b]\n",
       "link E2 to E4--><a href=\"psysml:32927b08-9b1f-4059-96b6-74ea858c5377\" target=\"_top\" title=\"psysml:32927b08-9b1f-4059-96b6-74ea858c5377\" xlink:actuate=\"onRequest\" xlink:href=\"psysml:32927b08-9b1f-4059-96b6-74ea858c5377\" xlink:show=\"new\" xlink:title=\"psysml:32927b08-9b1f-4059-96b6-74ea858c5377\" xlink:type=\"simple\"><path d=\"M171.92,101.14 C158.72,119.22 140.27,144.46 131.31,156.73 \" fill=\"none\" id=\"E2-&gt;E4\" style=\"stroke: #A80036; stroke-width: 1.0;\"/><polygon fill=\"#A80036\" points=\"128.28,160.88,136.8219,155.9773,131.2319,156.8444,130.3648,151.2543,128.28,160.88\" style=\"stroke: #A80036; stroke-width: 1.0;\"/></a><!--MD5=[af87c684e3b0d8be13c1a698a818ef1e]\n",
       "link E3 to E4--><a href=\"psysml:6834d0f3-19d8-44ac-95f5-e8bc4db68e8a\" target=\"_top\" title=\"psysml:6834d0f3-19d8-44ac-95f5-e8bc4db68e8a\" xlink:actuate=\"onRequest\" xlink:href=\"psysml:6834d0f3-19d8-44ac-95f5-e8bc4db68e8a\" xlink:show=\"new\" xlink:title=\"psysml:6834d0f3-19d8-44ac-95f5-e8bc4db68e8a\" xlink:type=\"simple\"><path d=\"M80.83,101.14 C93.82,119.22 111.96,144.46 120.78,156.73 \" fill=\"none\" id=\"E3-&gt;E4\" style=\"stroke: #A80036; stroke-width: 1.0;\"/><polygon fill=\"#A80036\" points=\"123.76,160.88,121.7581,151.2367,120.843,156.8191,115.2607,155.9039,123.76,160.88\" style=\"stroke: #A80036; stroke-width: 1.0;\"/></a><!--MD5=[1b7591eae5389033d8d09a9d6721a717]\n",
       "link E4 to E5--><a href=\"psysml:02aceb33-1759-43f7-b21c-5882a5f834e0\" target=\"_top\" title=\"psysml:02aceb33-1759-43f7-b21c-5882a5f834e0\" xlink:actuate=\"onRequest\" xlink:href=\"psysml:02aceb33-1759-43f7-b21c-5882a5f834e0\" xlink:show=\"new\" xlink:title=\"psysml:02aceb33-1759-43f7-b21c-5882a5f834e0\" xlink:type=\"simple\"><path d=\"M126,169.18 C126,178.92 126,208.52 126,223.34 \" fill=\"none\" id=\"E4-&gt;E5\" style=\"stroke: #A80036; stroke-width: 1.0;\"/><polygon fill=\"#A80036\" points=\"126,228.69,130,219.69,126,223.69,122,219.69,126,228.69\" style=\"stroke: #A80036; stroke-width: 1.0;\"/></a><!--MD5=[9120cf2e5df3bff93db8f754bbbc09b4]\n",
       "link E5 to E6--><a href=\"psysml:f43de8b9-7272-426a-b0aa-70e703f3a468\" target=\"_top\" title=\"psysml:f43de8b9-7272-426a-b0aa-70e703f3a468\" xlink:actuate=\"onRequest\" xlink:href=\"psysml:f43de8b9-7272-426a-b0aa-70e703f3a468\" xlink:show=\"new\" xlink:title=\"psysml:f43de8b9-7272-426a-b0aa-70e703f3a468\" xlink:type=\"simple\"><path d=\"M123.72,237.17 C117.25,246.18 98.28,272.58 83.83,292.68 \" fill=\"none\" id=\"E5-&gt;E6\" style=\"stroke: #A80036; stroke-width: 1.0;\"/><polygon fill=\"#A80036\" points=\"80.83,296.87,89.3326,291.8995,83.7496,292.811,82.8381,287.228,80.83,296.87\" style=\"stroke: #A80036; stroke-width: 1.0;\"/></a><!--MD5=[3a9b96bfbf6b6ad89c494e81751bda47]\n",
       "link E5 to E7--><a href=\"psysml:6de5063b-eb84-4499-9c8a-3a0354e3d885\" target=\"_top\" title=\"psysml:6de5063b-eb84-4499-9c8a-3a0354e3d885\" xlink:actuate=\"onRequest\" xlink:href=\"psysml:6de5063b-eb84-4499-9c8a-3a0354e3d885\" xlink:show=\"new\" xlink:title=\"psysml:6de5063b-eb84-4499-9c8a-3a0354e3d885\" xlink:type=\"simple\"><path d=\"M128.32,237.17 C134.9,246.18 154.19,272.58 168.87,292.68 \" fill=\"none\" id=\"E5-&gt;E7\" style=\"stroke: #A80036; stroke-width: 1.0;\"/><polygon fill=\"#A80036\" points=\"171.93,296.87,169.8674,287.2396,168.9874,292.8276,163.3994,291.9476,171.93,296.87\" style=\"stroke: #A80036; stroke-width: 1.0;\"/></a><!--MD5=[9ca3c5d47a8a8627351f409fa770cafb]\n",
       "@startuml\r\n",
       " \r\n",
       "rec def \"ControlNodeTest\" as E1  <<(D,brown)action def>> [[psysml:8a19e2dd-7f31-4291-b841-c8e7ad6ceaae ]] {\r\n",
       "rec usage \"A1\" as E2  <<(U,orange)action>> [[psysml:63691cb2-c1ae-4262-a628-287378f10d06 ]] {\r\n",
       "}\r\n",
       "\r\n",
       "rec usage \"A2\" as E3  <<(U,orange)action>> [[psysml:c6acf79a-793e-4497-aa33-887aafacc071 ]] {\r\n",
       "}\r\n",
       "\r\n",
       "join \"J\" as E4  [[psysml:9118671e-8e40-41ce-bc29-e44727581a0d ]] \r\n",
       "fork \"F\" as E5  [[psysml:3c4d5a48-0835-4406-bc0d-d635a7475922 ]] \r\n",
       "rec usage \"B1\" as E6  <<(U,orange)action>> [[psysml:2beb575e-cdbc-464e-9dd9-fc16008b4aec ]] {\r\n",
       "}\r\n",
       "\r\n",
       "rec usage \"B2\" as E7  <<(U,orange)action>> [[psysml:18cbd039-fda1-47ea-ae1e-03ddeff777e2 ]] {\r\n",
       "}\r\n",
       "\r\n",
       "}\r\n",
       "\r\n",
       "E2 - -> E4 [[psysml:32927b08-9b1f-4059-96b6-74ea858c5377 ]] \r\n",
       "E3 - -> E4 [[psysml:6834d0f3-19d8-44ac-95f5-e8bc4db68e8a ]] \r\n",
       "E4 - -> E5 [[psysml:02aceb33-1759-43f7-b21c-5882a5f834e0 ]] \r\n",
       "E5 - -> E6 [[psysml:f43de8b9-7272-426a-b0aa-70e703f3a468 ]] \r\n",
       "E5 - -> E7 [[psysml:6de5063b-eb84-4499-9c8a-3a0354e3d885 ]] \r\n",
       "@enduml\r\n",
       "\n",
       "PlantUML version 1.2020.13(Sat Jun 13 12:26:38 UTC 2020)\n",
       "(EPL source distribution)\n",
       "Java Runtime: OpenJDK Runtime Environment\n",
       "JVM: OpenJDK 64-Bit Server VM\n",
       "Default Encoding: UTF-8\n",
       "Language: en\n",
       "Country: null\n",
       "--></g></svg>"
      ]
     },
     "execution_count": 30,
     "metadata": {},
     "output_type": "execute_result"
    }
   ],
   "source": [
    "%viz --style=\"PLANTUML\" --view=\"Default\" \"ControlNodeTest\""
   ]
  },
  {
   "cell_type": "code",
   "execution_count": 31,
   "id": "pressed-penny",
   "metadata": {
    "execution": {
     "iopub.execute_input": "2021-03-26T15:42:09.395347Z",
     "iopub.status.busy": "2021-03-26T15:42:09.391877Z",
     "iopub.status.idle": "2021-03-26T15:42:09.450129Z",
     "shell.execute_reply": "2021-03-26T15:42:09.449799Z"
    }
   },
   "outputs": [
    {
     "data": {
      "image/svg+xml": [
       "<?xml version=\"1.0\" encoding=\"UTF-8\" standalone=\"no\"?><svg xmlns=\"http://www.w3.org/2000/svg\" xmlns:xlink=\"http://www.w3.org/1999/xlink\" contentScriptType=\"application/ecmascript\" contentStyleType=\"text/css\" height=\"199px\" preserveAspectRatio=\"none\" style=\"width:163px;height:199px;\" version=\"1.1\" viewBox=\"0 0 163 199\" width=\"163px\" zoomAndPan=\"magnify\"><defs><filter height=\"300%\" id=\"f1dawz5hcj4xu9\" width=\"300%\" x=\"-1\" y=\"-1\"><feGaussianBlur result=\"blurOut\" stdDeviation=\"2.0\"/><feColorMatrix in=\"blurOut\" result=\"blurOut2\" type=\"matrix\" values=\"0 0 0 0 0 0 0 0 0 0 0 0 0 0 0 0 0 0 .4 0\"/><feOffset dx=\"4.0\" dy=\"4.0\" in=\"blurOut2\" result=\"blurOut3\"/><feBlend in=\"SourceGraphic\" in2=\"blurOut3\" mode=\"normal\"/></filter></defs><g><!--MD5=[43c9051892ef23e1a46a86907403d788]\n",
       "class E1--><a href=\"psysml:8a19e2dd-7f31-4291-b841-c8e7ad6ceaae\" target=\"_top\" title=\"psysml:8a19e2dd-7f31-4291-b841-c8e7ad6ceaae\" xlink:actuate=\"onRequest\" xlink:href=\"psysml:8a19e2dd-7f31-4291-b841-c8e7ad6ceaae\" xlink:show=\"new\" xlink:title=\"psysml:8a19e2dd-7f31-4291-b841-c8e7ad6ceaae\" xlink:type=\"simple\"><rect fill=\"#FEFECE\" filter=\"url(#f1dawz5hcj4xu9)\" height=\"173.1797\" id=\"E1\" style=\"stroke: #A80036; stroke-width: 1.5;\" width=\"137\" x=\"7\" y=\"7\"/><ellipse cx=\"22\" cy=\"25.9688\" fill=\"#A52A2A\" rx=\"11\" ry=\"11\" style=\"stroke: #A80036; stroke-width: 1.0;\"/><path d=\"M21.5938,21.7813 L21.5938,29.7656 L22.25,29.7656 Q23.6875,29.7656 24.2969,28.8594 Q24.9219,27.9375 24.9219,25.7656 Q24.9219,23.5938 24.2969,22.6875 Q23.6875,21.7813 22.25,21.7813 L21.5938,21.7813 Z M19.1406,19.5781 L21.7656,19.5781 Q24.7969,19.5781 26.125,21.0313 Q27.4688,22.4688 27.4688,25.7656 Q27.4688,29.0625 26.125,30.5156 Q24.7969,31.9688 21.7656,31.9688 L19.1406,31.9688 L19.1406,19.5781 Z \"/><text fill=\"#000000\" font-family=\"sans-serif\" font-size=\"12\" font-style=\"italic\" lengthAdjust=\"spacingAndGlyphs\" textLength=\"77\" x=\"50\" y=\"23.1387\">«action def»</text><text fill=\"#000000\" font-family=\"sans-serif\" font-size=\"12\" lengthAdjust=\"spacingAndGlyphs\" textLength=\"105\" x=\"36\" y=\"37.1074\">ControlNodeTest</text><line style=\"stroke: #A80036; stroke-width: 1.5;\" x1=\"8\" x2=\"143\" y1=\"44.9375\" y2=\"44.9375\"/><text fill=\"#000000\" font-family=\"sans-serif\" font-size=\"11\" lengthAdjust=\"spacingAndGlyphs\" textLength=\"14\" x=\"13\" y=\"75.9526\">A1</text><text fill=\"#000000\" font-family=\"sans-serif\" font-size=\"11\" lengthAdjust=\"spacingAndGlyphs\" textLength=\"14\" x=\"13\" y=\"88.7573\">A2</text><text fill=\"#000000\" font-family=\"sans-serif\" font-size=\"11\" lengthAdjust=\"spacingAndGlyphs\" textLength=\"15\" x=\"13\" y=\"101.562\">B1</text><text fill=\"#000000\" font-family=\"sans-serif\" font-size=\"11\" lengthAdjust=\"spacingAndGlyphs\" textLength=\"15\" x=\"13\" y=\"114.3667\">B2</text><line style=\"stroke: #A80036; stroke-width: 1.0;\" x1=\"8\" x2=\"55\" y1=\"59.3398\" y2=\"59.3398\"/><text fill=\"#000000\" font-family=\"sans-serif\" font-size=\"11\" lengthAdjust=\"spacingAndGlyphs\" textLength=\"41\" x=\"55\" y=\"62.6479\">actions</text><line style=\"stroke: #A80036; stroke-width: 1.0;\" x1=\"96\" x2=\"143\" y1=\"59.3398\" y2=\"59.3398\"/><text fill=\"#000000\" font-family=\"sans-serif\" font-size=\"11\" lengthAdjust=\"spacingAndGlyphs\" textLength=\"6\" x=\"13\" y=\"143.9761\">F</text><line style=\"stroke: #A80036; stroke-width: 1.0;\" x1=\"8\" x2=\"46.5\" y1=\"127.3633\" y2=\"127.3633\"/><text fill=\"#000000\" font-family=\"sans-serif\" font-size=\"11\" lengthAdjust=\"spacingAndGlyphs\" textLength=\"58\" x=\"46.5\" y=\"130.6714\">forkNodes</text><line style=\"stroke: #A80036; stroke-width: 1.0;\" x1=\"104.5\" x2=\"143\" y1=\"127.3633\" y2=\"127.3633\"/><text fill=\"#000000\" font-family=\"sans-serif\" font-size=\"11\" lengthAdjust=\"spacingAndGlyphs\" textLength=\"3\" x=\"13\" y=\"173.5854\">J</text><line style=\"stroke: #A80036; stroke-width: 1.0;\" x1=\"8\" x2=\"47.5\" y1=\"156.9727\" y2=\"156.9727\"/><text fill=\"#000000\" font-family=\"sans-serif\" font-size=\"11\" lengthAdjust=\"spacingAndGlyphs\" textLength=\"56\" x=\"47.5\" y=\"160.2808\">joinNodes</text><line style=\"stroke: #A80036; stroke-width: 1.0;\" x1=\"103.5\" x2=\"143\" y1=\"156.9727\" y2=\"156.9727\"/></a><!--MD5=[7ac8d642e8ee602962887acace99299e]\n",
       "@startuml\r\n",
       " \r\n",
       "comp def \"ControlNodeTest\" as E1  <<(D,brown)action def>> [[psysml:8a19e2dd-7f31-4291-b841-c8e7ad6ceaae ]] {\r\n",
       "- - actions - -\r\n",
       "A1\r\n",
       "A2\r\n",
       "B1\r\n",
       "B2\r\n",
       "- - forkNodes - -\r\n",
       "F\r\n",
       "- - joinNodes - -\r\n",
       "J\r\n",
       "}\r\n",
       "@enduml\r\n",
       "\n",
       "PlantUML version 1.2020.13(Sat Jun 13 12:26:38 UTC 2020)\n",
       "(EPL source distribution)\n",
       "Java Runtime: OpenJDK Runtime Environment\n",
       "JVM: OpenJDK 64-Bit Server VM\n",
       "Default Encoding: UTF-8\n",
       "Language: en\n",
       "Country: null\n",
       "--></g></svg>"
      ]
     },
     "execution_count": 31,
     "metadata": {},
     "output_type": "execute_result"
    }
   ],
   "source": [
    "%viz --style=\"PLANTUML\" --view=\"Tree\" \"ControlNodeTest\""
   ]
  },
  {
   "cell_type": "code",
   "execution_count": 32,
   "id": "frequent-envelope",
   "metadata": {
    "execution": {
     "iopub.execute_input": "2021-03-26T15:42:09.503960Z",
     "iopub.status.busy": "2021-03-26T15:42:09.503135Z",
     "iopub.status.idle": "2021-03-26T15:42:09.585823Z",
     "shell.execute_reply": "2021-03-26T15:42:09.584501Z"
    }
   },
   "outputs": [
    {
     "data": {
      "image/svg+xml": [
       "<?xml version=\"1.0\" encoding=\"UTF-8\" standalone=\"no\"?><svg xmlns=\"http://www.w3.org/2000/svg\" xmlns:xlink=\"http://www.w3.org/1999/xlink\" contentScriptType=\"application/ecmascript\" contentStyleType=\"text/css\" height=\"303px\" preserveAspectRatio=\"none\" style=\"width:603px;height:303px;background:#000000;\" version=\"1.1\" viewBox=\"0 0 603 303\" width=\"603px\" zoomAndPan=\"magnify\"><defs/><g><rect fill=\"#231201\" height=\"1\" style=\"stroke: #231201; stroke-width: 1.0;\" width=\"1\" x=\"0\" y=\"0\"/><rect fill=\"#FFFFFF\" height=\"205.5625\" style=\"stroke: #FFFFFF; stroke-width: 1.0;\" width=\"602\" x=\"0\" y=\"0\"/><text fill=\"#000000\" font-family=\"sans-serif\" font-size=\"12\" font-weight=\"bold\" lengthAdjust=\"spacingAndGlyphs\" textLength=\"159\" x=\"5\" y=\"16.1387\">Welcome to PlantUML!</text><text fill=\"#000000\" font-family=\"sans-serif\" font-size=\"12\" lengthAdjust=\"spacingAndGlyphs\" textLength=\"0\" x=\"9\" y=\"30.1074\"/><text fill=\"#000000\" font-family=\"sans-serif\" font-size=\"12\" lengthAdjust=\"spacingAndGlyphs\" textLength=\"293\" x=\"5\" y=\"44.0762\">If you use this software, you accept its license.</text><text fill=\"#000000\" font-family=\"sans-serif\" font-size=\"12\" lengthAdjust=\"spacingAndGlyphs\" textLength=\"107\" x=\"5\" y=\"58.0449\">(details by typing</text><text fill=\"#000000\" font-family=\"monospace\" font-size=\"12\" lengthAdjust=\"spacingAndGlyphs\" textLength=\"49\" x=\"116\" y=\"58.0449\">license</text><text fill=\"#000000\" font-family=\"sans-serif\" font-size=\"12\" lengthAdjust=\"spacingAndGlyphs\" textLength=\"56\" x=\"169\" y=\"58.0449\">keyword)</text><text fill=\"#000000\" font-family=\"sans-serif\" font-size=\"12\" lengthAdjust=\"spacingAndGlyphs\" textLength=\"0\" x=\"9\" y=\"72.0137\"/><text fill=\"#000000\" font-family=\"sans-serif\" font-size=\"12\" lengthAdjust=\"spacingAndGlyphs\" textLength=\"283\" x=\"5\" y=\"85.9824\">You can start with a simple UML Diagram like:</text><text fill=\"#000000\" font-family=\"sans-serif\" font-size=\"12\" lengthAdjust=\"spacingAndGlyphs\" textLength=\"0\" x=\"9\" y=\"99.9512\"/><text fill=\"#000000\" font-family=\"monospace\" font-size=\"12\" lengthAdjust=\"spacingAndGlyphs\" textLength=\"119\" x=\"5\" y=\"113.9199\">Bob-&gt;Alice: Hello</text><text fill=\"#000000\" font-family=\"sans-serif\" font-size=\"12\" lengthAdjust=\"spacingAndGlyphs\" textLength=\"0\" x=\"9\" y=\"127.8887\"/><text fill=\"#000000\" font-family=\"sans-serif\" font-size=\"12\" lengthAdjust=\"spacingAndGlyphs\" textLength=\"14\" x=\"5\" y=\"141.8574\">Or</text><text fill=\"#000000\" font-family=\"sans-serif\" font-size=\"12\" lengthAdjust=\"spacingAndGlyphs\" textLength=\"0\" x=\"9\" y=\"155.8262\"/><text fill=\"#000000\" font-family=\"monospace\" font-size=\"12\" lengthAdjust=\"spacingAndGlyphs\" textLength=\"91\" x=\"5\" y=\"169.7949\">class Example</text><text fill=\"#000000\" font-family=\"sans-serif\" font-size=\"12\" lengthAdjust=\"spacingAndGlyphs\" textLength=\"0\" x=\"9\" y=\"183.7637\"/><text fill=\"#000000\" font-family=\"sans-serif\" font-size=\"12\" lengthAdjust=\"spacingAndGlyphs\" textLength=\"349\" x=\"5\" y=\"197.7324\">You will find more information about PlantUML syntax on</text><text fill=\"#000000\" font-family=\"sans-serif\" font-size=\"12\" lengthAdjust=\"spacingAndGlyphs\" text-decoration=\"underline\" textLength=\"129\" x=\"358\" y=\"197.7324\">https://plantuml.com</text><image height=\"71\" width=\"80\" x=\"516\" xlink:href=\"data:image/png;base64,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\" y=\"6\"/><rect fill=\"#000000\" height=\"96.4844\" style=\"stroke: #000000; stroke-width: 1.0;\" width=\"602\" x=\"0\" y=\"205.5625\"/><rect fill=\"#33FF02\" height=\"21.2969\" style=\"stroke: #33FF02; stroke-width: 1.0;\" width=\"170\" x=\"5\" y=\"210.5625\"/><text fill=\"#000000\" font-family=\"sans-serif\" font-size=\"14\" font-weight=\"bold\" lengthAdjust=\"spacingAndGlyphs\" textLength=\"168\" x=\"6\" y=\"225.5625\">[From string (line 2) ]</text><text fill=\"#33FF02\" font-family=\"sans-serif\" font-size=\"14\" font-weight=\"bold\" lengthAdjust=\"spacingAndGlyphs\" textLength=\"0\" x=\"10\" y=\"245.8594\"/><text fill=\"#33FF02\" font-family=\"sans-serif\" font-size=\"14\" font-weight=\"bold\" lengthAdjust=\"spacingAndGlyphs\" textLength=\"79\" x=\"5\" y=\"262.1563\">@startuml</text><text fill=\"#33FF02\" font-family=\"sans-serif\" font-size=\"14\" font-weight=\"bold\" lengthAdjust=\"spacingAndGlyphs\" textLength=\"0\" x=\"10\" y=\"278.4531\"/><text fill=\"#FF0000\" font-family=\"sans-serif\" font-size=\"14\" font-weight=\"bold\" lengthAdjust=\"spacingAndGlyphs\" textLength=\"142\" x=\"10\" y=\"294.75\">Empty description</text><!--MD5=[f59edd8218d337f74d0c332fc6737304]\n",
       "@startuml\r\n",
       " \r\n",
       "@enduml\r\n",
       "\n",
       "PlantUML version 1.2020.13(Sat Jun 13 12:26:38 UTC 2020)\n",
       "(EPL source distribution)\n",
       "Java Runtime: OpenJDK Runtime Environment\n",
       "JVM: OpenJDK 64-Bit Server VM\n",
       "Default Encoding: UTF-8\n",
       "Language: en\n",
       "Country: null\n",
       "--></g></svg>"
      ]
     },
     "execution_count": 32,
     "metadata": {},
     "output_type": "execute_result"
    }
   ],
   "source": [
    "%viz --style=\"PLANTUML\" --view=\"State\" \"ControlNodeTest\""
   ]
  },
  {
   "cell_type": "code",
   "execution_count": 33,
   "id": "proof-blair",
   "metadata": {
    "execution": {
     "iopub.execute_input": "2021-03-26T15:42:09.638113Z",
     "iopub.status.busy": "2021-03-26T15:42:09.637597Z",
     "iopub.status.idle": "2021-03-26T15:42:09.672668Z",
     "shell.execute_reply": "2021-03-26T15:42:09.671177Z"
    }
   },
   "outputs": [
    {
     "data": {
      "image/svg+xml": [
       "<?xml version=\"1.0\" encoding=\"UTF-8\" standalone=\"no\"?><svg xmlns=\"http://www.w3.org/2000/svg\" xmlns:xlink=\"http://www.w3.org/1999/xlink\" contentScriptType=\"application/ecmascript\" contentStyleType=\"text/css\" height=\"225px\" preserveAspectRatio=\"none\" style=\"width:265px;height:225px;\" version=\"1.1\" viewBox=\"0 0 265 225\" width=\"265px\" zoomAndPan=\"magnify\"><defs><filter height=\"300%\" id=\"fbkkhnastu3tm\" width=\"300%\" x=\"-1\" y=\"-1\"><feGaussianBlur result=\"blurOut\" stdDeviation=\"2.0\"/><feColorMatrix in=\"blurOut\" result=\"blurOut2\" type=\"matrix\" values=\"0 0 0 0 0 0 0 0 0 0 0 0 0 0 0 0 0 0 .4 0\"/><feOffset dx=\"4.0\" dy=\"4.0\" in=\"blurOut2\" result=\"blurOut3\"/><feBlend in=\"SourceGraphic\" in2=\"blurOut3\" mode=\"normal\"/></filter></defs><g><!--MD5=[fbc87193dbaf4d95561dea2c320d4a47]\n",
       "cluster E1--><a href=\"psysml:8a19e2dd-7f31-4291-b841-c8e7ad6ceaae\" target=\"_top\" title=\"psysml:8a19e2dd-7f31-4291-b841-c8e7ad6ceaae\" xlink:actuate=\"onRequest\" xlink:href=\"psysml:8a19e2dd-7f31-4291-b841-c8e7ad6ceaae\" xlink:show=\"new\" xlink:title=\"psysml:8a19e2dd-7f31-4291-b841-c8e7ad6ceaae\" xlink:type=\"simple\"><rect fill=\"#FFFFFF\" filter=\"url(#fbkkhnastu3tm)\" height=\"199\" id=\"E1\" style=\"stroke: #A80036; stroke-width: 1.5;\" width=\"239\" x=\"7\" y=\"7\"/><rect fill=\"#FEFECE\" height=\"37.9375\" style=\"stroke: #A80036; stroke-width: 1.5;\" width=\"239\" x=\"7\" y=\"7\"/><text fill=\"#000000\" font-family=\"sans-serif\" font-size=\"12\" font-style=\"italic\" lengthAdjust=\"spacingAndGlyphs\" textLength=\"77\" x=\"88\" y=\"23.1387\">«action def»</text><text fill=\"#000000\" font-family=\"sans-serif\" font-size=\"12\" lengthAdjust=\"spacingAndGlyphs\" textLength=\"105\" x=\"74\" y=\"37.1074\">ControlNodeTest</text></a><rect fill=\"#000000\" filter=\"url(#fbkkhnastu3tm)\" height=\"8\" style=\"stroke: none; stroke-width: 1.0;\" width=\"80\" x=\"86\" y=\"111\"/><rect fill=\"#000000\" filter=\"url(#fbkkhnastu3tm)\" height=\"8\" style=\"stroke: none; stroke-width: 1.0;\" width=\"80\" x=\"86\" y=\"129\"/><g id=\"E1.E2\"><a href=\"psysml:63691cb2-c1ae-4262-a628-287378f10d06\" target=\"_top\" title=\"psysml:63691cb2-c1ae-4262-a628-287378f10d06\" xlink:actuate=\"onRequest\" xlink:href=\"psysml:63691cb2-c1ae-4262-a628-287378f10d06\" xlink:show=\"new\" xlink:title=\"psysml:63691cb2-c1ae-4262-a628-287378f10d06\" xlink:type=\"simple\"><rect fill=\"#FEFECE\" filter=\"url(#fbkkhnastu3tm)\" height=\"42.9375\" id=\"E2\" rx=\"10\" ry=\"10\" style=\"stroke: #A80036; stroke-width: 1.5;\" width=\"86\" x=\"144\" y=\"58\"/><ellipse cx=\"161.25\" cy=\"76.9688\" fill=\"#FFA500\" rx=\"11\" ry=\"11\" style=\"stroke: #A80036; stroke-width: 1.0;\"/><path d=\"M157.125,78.8906 L157.125,71.0781 L159.5781,71.0781 L159.5781,79.5156 Q159.5781,80.4375 160.0469,80.9688 Q160.5313,81.5 161.3594,81.5 Q162.2031,81.5 162.6719,80.9688 Q163.1406,80.4375 163.1406,79.5156 L163.1406,71.0781 L165.5938,71.0781 L165.5938,78.8906 Q165.5938,81.4219 164.5938,82.5625 Q163.5938,83.7031 161.3594,83.7031 Q159.1406,83.7031 158.125,82.5625 Q157.125,81.4219 157.125,78.8906 Z \"/><text fill=\"#000000\" font-family=\"sans-serif\" font-size=\"12\" font-style=\"italic\" lengthAdjust=\"spacingAndGlyphs\" textLength=\"53\" x=\"173.75\" y=\"74.1387\">«action»</text><text fill=\"#000000\" font-family=\"sans-serif\" font-size=\"12\" lengthAdjust=\"spacingAndGlyphs\" textLength=\"16\" x=\"192.25\" y=\"88.1074\">A1</text></a></g><g id=\"E1.E3\"><a href=\"psysml:c6acf79a-793e-4497-aa33-887aafacc071\" target=\"_top\" title=\"psysml:c6acf79a-793e-4497-aa33-887aafacc071\" xlink:actuate=\"onRequest\" xlink:href=\"psysml:c6acf79a-793e-4497-aa33-887aafacc071\" xlink:show=\"new\" xlink:title=\"psysml:c6acf79a-793e-4497-aa33-887aafacc071\" xlink:type=\"simple\"><rect fill=\"#FEFECE\" filter=\"url(#fbkkhnastu3tm)\" height=\"42.9375\" id=\"E3\" rx=\"10\" ry=\"10\" style=\"stroke: #A80036; stroke-width: 1.5;\" width=\"86\" x=\"23\" y=\"58\"/><ellipse cx=\"40.25\" cy=\"76.9688\" fill=\"#FFA500\" rx=\"11\" ry=\"11\" style=\"stroke: #A80036; stroke-width: 1.0;\"/><path d=\"M36.125,78.8906 L36.125,71.0781 L38.5781,71.0781 L38.5781,79.5156 Q38.5781,80.4375 39.0469,80.9688 Q39.5313,81.5 40.3594,81.5 Q41.2031,81.5 41.6719,80.9688 Q42.1406,80.4375 42.1406,79.5156 L42.1406,71.0781 L44.5938,71.0781 L44.5938,78.8906 Q44.5938,81.4219 43.5938,82.5625 Q42.5938,83.7031 40.3594,83.7031 Q38.1406,83.7031 37.125,82.5625 Q36.125,81.4219 36.125,78.8906 Z \"/><text fill=\"#000000\" font-family=\"sans-serif\" font-size=\"12\" font-style=\"italic\" lengthAdjust=\"spacingAndGlyphs\" textLength=\"53\" x=\"52.75\" y=\"74.1387\">«action»</text><text fill=\"#000000\" font-family=\"sans-serif\" font-size=\"12\" lengthAdjust=\"spacingAndGlyphs\" textLength=\"16\" x=\"71.25\" y=\"88.1074\">A2</text></a></g><g id=\"E1.E6\"><a href=\"psysml:2beb575e-cdbc-464e-9dd9-fc16008b4aec\" target=\"_top\" title=\"psysml:2beb575e-cdbc-464e-9dd9-fc16008b4aec\" xlink:actuate=\"onRequest\" xlink:href=\"psysml:2beb575e-cdbc-464e-9dd9-fc16008b4aec\" xlink:show=\"new\" xlink:title=\"psysml:2beb575e-cdbc-464e-9dd9-fc16008b4aec\" xlink:type=\"simple\"><rect fill=\"#FEFECE\" filter=\"url(#fbkkhnastu3tm)\" height=\"42.9375\" id=\"E6\" rx=\"10\" ry=\"10\" style=\"stroke: #A80036; stroke-width: 1.5;\" width=\"86\" x=\"23\" y=\"147\"/><ellipse cx=\"40.25\" cy=\"165.9688\" fill=\"#FFA500\" rx=\"11\" ry=\"11\" style=\"stroke: #A80036; stroke-width: 1.0;\"/><path d=\"M36.125,167.8906 L36.125,160.0781 L38.5781,160.0781 L38.5781,168.5156 Q38.5781,169.4375 39.0469,169.9688 Q39.5313,170.5 40.3594,170.5 Q41.2031,170.5 41.6719,169.9688 Q42.1406,169.4375 42.1406,168.5156 L42.1406,160.0781 L44.5938,160.0781 L44.5938,167.8906 Q44.5938,170.4219 43.5938,171.5625 Q42.5938,172.7031 40.3594,172.7031 Q38.1406,172.7031 37.125,171.5625 Q36.125,170.4219 36.125,167.8906 Z \"/><text fill=\"#000000\" font-family=\"sans-serif\" font-size=\"12\" font-style=\"italic\" lengthAdjust=\"spacingAndGlyphs\" textLength=\"53\" x=\"52.75\" y=\"163.1387\">«action»</text><text fill=\"#000000\" font-family=\"sans-serif\" font-size=\"12\" lengthAdjust=\"spacingAndGlyphs\" textLength=\"16\" x=\"71.25\" y=\"177.1074\">B1</text></a></g><g id=\"E1.E7\"><a href=\"psysml:18cbd039-fda1-47ea-ae1e-03ddeff777e2\" target=\"_top\" title=\"psysml:18cbd039-fda1-47ea-ae1e-03ddeff777e2\" xlink:actuate=\"onRequest\" xlink:href=\"psysml:18cbd039-fda1-47ea-ae1e-03ddeff777e2\" xlink:show=\"new\" xlink:title=\"psysml:18cbd039-fda1-47ea-ae1e-03ddeff777e2\" xlink:type=\"simple\"><rect fill=\"#FEFECE\" filter=\"url(#fbkkhnastu3tm)\" height=\"42.9375\" id=\"E7\" rx=\"10\" ry=\"10\" style=\"stroke: #A80036; stroke-width: 1.5;\" width=\"86\" x=\"144\" y=\"147\"/><ellipse cx=\"161.25\" cy=\"165.9688\" fill=\"#FFA500\" rx=\"11\" ry=\"11\" style=\"stroke: #A80036; stroke-width: 1.0;\"/><path d=\"M157.125,167.8906 L157.125,160.0781 L159.5781,160.0781 L159.5781,168.5156 Q159.5781,169.4375 160.0469,169.9688 Q160.5313,170.5 161.3594,170.5 Q162.2031,170.5 162.6719,169.9688 Q163.1406,169.4375 163.1406,168.5156 L163.1406,160.0781 L165.5938,160.0781 L165.5938,167.8906 Q165.5938,170.4219 164.5938,171.5625 Q163.5938,172.7031 161.3594,172.7031 Q159.1406,172.7031 158.125,171.5625 Q157.125,170.4219 157.125,167.8906 Z \"/><text fill=\"#000000\" font-family=\"sans-serif\" font-size=\"12\" font-style=\"italic\" lengthAdjust=\"spacingAndGlyphs\" textLength=\"53\" x=\"173.75\" y=\"163.1387\">«action»</text><text fill=\"#000000\" font-family=\"sans-serif\" font-size=\"12\" lengthAdjust=\"spacingAndGlyphs\" textLength=\"16\" x=\"192.25\" y=\"177.1074\">B2</text></a></g><!--MD5=[4d03bb2d0377dc85ccfab60ff574652b]\n",
       "link E2 to E4--><a href=\"psysml:32927b08-9b1f-4059-96b6-74ea858c5377\" target=\"_top\" title=\"psysml:32927b08-9b1f-4059-96b6-74ea858c5377\" xlink:actuate=\"onRequest\" xlink:href=\"psysml:32927b08-9b1f-4059-96b6-74ea858c5377\" xlink:show=\"new\" xlink:title=\"psysml:32927b08-9b1f-4059-96b6-74ea858c5377\" xlink:type=\"simple\"><path d=\"M149.41,101.14 C144.44,103.87 139.75,106.45 135.88,108.58 \" fill=\"none\" id=\"E2-&gt;E4\" style=\"stroke: #A80036; stroke-width: 1.0;\"/><polygon fill=\"#A80036\" points=\"131.47,111,141.2842,110.175,135.8529,108.5937,137.4342,103.1624,131.47,111\" style=\"stroke: #A80036; stroke-width: 1.0;\"/></a><!--MD5=[af87c684e3b0d8be13c1a698a818ef1e]\n",
       "link E3 to E4--><a href=\"psysml:6834d0f3-19d8-44ac-95f5-e8bc4db68e8a\" target=\"_top\" title=\"psysml:6834d0f3-19d8-44ac-95f5-e8bc4db68e8a\" xlink:actuate=\"onRequest\" xlink:href=\"psysml:6834d0f3-19d8-44ac-95f5-e8bc4db68e8a\" xlink:show=\"new\" xlink:title=\"psysml:6834d0f3-19d8-44ac-95f5-e8bc4db68e8a\" xlink:type=\"simple\"><path d=\"M102.97,101.14 C107.75,103.81 112.27,106.34 116.03,108.43 \" fill=\"none\" id=\"E3-&gt;E4\" style=\"stroke: #A80036; stroke-width: 1.0;\"/><polygon fill=\"#A80036\" points=\"120.62,111,114.7148,103.1178,116.2553,108.5609,110.8122,110.1014,120.62,111\" style=\"stroke: #A80036; stroke-width: 1.0;\"/></a><!--MD5=[1b7591eae5389033d8d09a9d6721a717]\n",
       "link E4 to E5--><a href=\"psysml:02aceb33-1759-43f7-b21c-5882a5f834e0\" target=\"_top\" title=\"psysml:02aceb33-1759-43f7-b21c-5882a5f834e0\" xlink:actuate=\"onRequest\" xlink:href=\"psysml:02aceb33-1759-43f7-b21c-5882a5f834e0\" xlink:show=\"new\" xlink:title=\"psysml:02aceb33-1759-43f7-b21c-5882a5f834e0\" xlink:type=\"simple\"><path d=\"M126,119.08 C126,120.38 126,121.95 126,123.55 \" fill=\"none\" id=\"E4-&gt;E5\" style=\"stroke: #A80036; stroke-width: 1.0;\"/><polygon fill=\"#A80036\" points=\"126,128.7,130,119.7,126,123.7,122,119.7,126,128.7\" style=\"stroke: #A80036; stroke-width: 1.0;\"/></a><!--MD5=[9120cf2e5df3bff93db8f754bbbc09b4]\n",
       "link E5 to E6--><a href=\"psysml:f43de8b9-7272-426a-b0aa-70e703f3a468\" target=\"_top\" title=\"psysml:f43de8b9-7272-426a-b0aa-70e703f3a468\" xlink:actuate=\"onRequest\" xlink:href=\"psysml:f43de8b9-7272-426a-b0aa-70e703f3a468\" xlink:show=\"new\" xlink:title=\"psysml:f43de8b9-7272-426a-b0aa-70e703f3a468\" xlink:type=\"simple\"><path d=\"M120.46,137.09 C117.11,138.96 112.49,141.54 107.35,144.41 \" fill=\"none\" id=\"E5-&gt;E6\" style=\"stroke: #A80036; stroke-width: 1.0;\"/><polygon fill=\"#A80036\" points=\"102.93,146.88,112.7378,145.9814,107.2947,144.4409,108.8352,138.9978,102.93,146.88\" style=\"stroke: #A80036; stroke-width: 1.0;\"/></a><!--MD5=[3a9b96bfbf6b6ad89c494e81751bda47]\n",
       "link E5 to E7--><a href=\"psysml:6de5063b-eb84-4499-9c8a-3a0354e3d885\" target=\"_top\" title=\"psysml:6de5063b-eb84-4499-9c8a-3a0354e3d885\" xlink:actuate=\"onRequest\" xlink:href=\"psysml:6de5063b-eb84-4499-9c8a-3a0354e3d885\" xlink:show=\"new\" xlink:title=\"psysml:6de5063b-eb84-4499-9c8a-3a0354e3d885\" xlink:type=\"simple\"><path d=\"M131.63,137.09 C135.04,138.96 139.73,141.54 144.96,144.41 \" fill=\"none\" id=\"E5-&gt;E7\" style=\"stroke: #A80036; stroke-width: 1.0;\"/><polygon fill=\"#A80036\" points=\"149.45,146.88,143.4751,139.0506,145.0638,144.4797,139.6346,146.0685,149.45,146.88\" style=\"stroke: #A80036; stroke-width: 1.0;\"/></a><!--MD5=[cb7ae35f67f21057ec0cbce1bc28849e]\n",
       "@startuml\r\n",
       "skinparam ranksep 10\r\n",
       "skinparam rectangle {\r\n",
       " backgroundColor<<block>> LightGreen\r\n",
       "}\r\n",
       " \r\n",
       "rec def \"ControlNodeTest\" as E1  <<(D,brown)action def>> [[psysml:8a19e2dd-7f31-4291-b841-c8e7ad6ceaae ]] {\r\n",
       "rec usage \"A1\" as E2  <<(U,orange)action>> [[psysml:63691cb2-c1ae-4262-a628-287378f10d06 ]] {\r\n",
       "}\r\n",
       "\r\n",
       "rec usage \"A2\" as E3  <<(U,orange)action>> [[psysml:c6acf79a-793e-4497-aa33-887aafacc071 ]] {\r\n",
       "}\r\n",
       "\r\n",
       "join \"J\" as E4  [[psysml:9118671e-8e40-41ce-bc29-e44727581a0d ]] \r\n",
       "fork \"F\" as E5  [[psysml:3c4d5a48-0835-4406-bc0d-d635a7475922 ]] \r\n",
       "rec usage \"B1\" as E6  <<(U,orange)action>> [[psysml:2beb575e-cdbc-464e-9dd9-fc16008b4aec ]] {\r\n",
       "}\r\n",
       "\r\n",
       "rec usage \"B2\" as E7  <<(U,orange)action>> [[psysml:18cbd039-fda1-47ea-ae1e-03ddeff777e2 ]] {\r\n",
       "}\r\n",
       "\r\n",
       "}\r\n",
       "\r\n",
       "E2 - -> E4 [[psysml:32927b08-9b1f-4059-96b6-74ea858c5377 ]] \r\n",
       "E3 - -> E4 [[psysml:6834d0f3-19d8-44ac-95f5-e8bc4db68e8a ]] \r\n",
       "E4 - -> E5 [[psysml:02aceb33-1759-43f7-b21c-5882a5f834e0 ]] \r\n",
       "E5 - -> E6 [[psysml:f43de8b9-7272-426a-b0aa-70e703f3a468 ]] \r\n",
       "E5 - -> E7 [[psysml:6de5063b-eb84-4499-9c8a-3a0354e3d885 ]] \r\n",
       "@enduml\r\n",
       "\n",
       "PlantUML version 1.2020.13(Sat Jun 13 12:26:38 UTC 2020)\n",
       "(EPL source distribution)\n",
       "Java Runtime: OpenJDK Runtime Environment\n",
       "JVM: OpenJDK 64-Bit Server VM\n",
       "Default Encoding: UTF-8\n",
       "Language: en\n",
       "Country: null\n",
       "--></g></svg>"
      ]
     },
     "execution_count": 33,
     "metadata": {},
     "output_type": "execute_result"
    }
   ],
   "source": [
    "%viz --style=\"PLANTUML\" --view=\"Interconnection\" \"ControlNodeTest\""
   ]
  },
  {
   "cell_type": "code",
   "execution_count": 34,
   "id": "scenic-corruption",
   "metadata": {
    "execution": {
     "iopub.execute_input": "2021-03-26T15:42:09.722610Z",
     "iopub.status.busy": "2021-03-26T15:42:09.722225Z",
     "iopub.status.idle": "2021-03-26T15:42:09.752772Z",
     "shell.execute_reply": "2021-03-26T15:42:09.752063Z"
    }
   },
   "outputs": [
    {
     "data": {
      "image/svg+xml": [
       "<?xml version=\"1.0\" encoding=\"UTF-8\" standalone=\"no\"?><svg xmlns=\"http://www.w3.org/2000/svg\" xmlns:xlink=\"http://www.w3.org/1999/xlink\" contentScriptType=\"application/ecmascript\" contentStyleType=\"text/css\" height=\"219px\" preserveAspectRatio=\"none\" style=\"width:265px;height:219px;\" version=\"1.1\" viewBox=\"0 0 265 219\" width=\"265px\" zoomAndPan=\"magnify\"><defs><filter height=\"300%\" id=\"frntoalu4fea6\" width=\"300%\" x=\"-1\" y=\"-1\"><feGaussianBlur result=\"blurOut\" stdDeviation=\"2.0\"/><feColorMatrix in=\"blurOut\" result=\"blurOut2\" type=\"matrix\" values=\"0 0 0 0 0 0 0 0 0 0 0 0 0 0 0 0 0 0 .4 0\"/><feOffset dx=\"4.0\" dy=\"4.0\" in=\"blurOut2\" result=\"blurOut3\"/><feBlend in=\"SourceGraphic\" in2=\"blurOut3\" mode=\"normal\"/></filter></defs><g><!--MD5=[fbc87193dbaf4d95561dea2c320d4a47]\n",
       "cluster E1--><a href=\"psysml:8a19e2dd-7f31-4291-b841-c8e7ad6ceaae\" target=\"_top\" title=\"psysml:8a19e2dd-7f31-4291-b841-c8e7ad6ceaae\" xlink:actuate=\"onRequest\" xlink:href=\"psysml:8a19e2dd-7f31-4291-b841-c8e7ad6ceaae\" xlink:show=\"new\" xlink:title=\"psysml:8a19e2dd-7f31-4291-b841-c8e7ad6ceaae\" xlink:type=\"simple\"><rect fill=\"#FFFFFF\" filter=\"url(#frntoalu4fea6)\" height=\"193\" id=\"E1\" style=\"stroke: #A80036; stroke-width: 1.5;\" width=\"239\" x=\"7\" y=\"7\"/><rect fill=\"#FEFECE\" height=\"37.9375\" style=\"stroke: #A80036; stroke-width: 1.5;\" width=\"239\" x=\"7\" y=\"7\"/><text fill=\"#000000\" font-family=\"sans-serif\" font-size=\"12\" font-style=\"italic\" lengthAdjust=\"spacingAndGlyphs\" textLength=\"77\" x=\"88\" y=\"23.1387\">«action def»</text><text fill=\"#000000\" font-family=\"sans-serif\" font-size=\"12\" lengthAdjust=\"spacingAndGlyphs\" textLength=\"105\" x=\"74\" y=\"37.1074\">ControlNodeTest</text></a><rect fill=\"#000000\" filter=\"url(#frntoalu4fea6)\" height=\"8\" style=\"stroke: none; stroke-width: 1.0;\" width=\"80\" x=\"86\" y=\"109\"/><rect fill=\"#000000\" filter=\"url(#frntoalu4fea6)\" height=\"8\" style=\"stroke: none; stroke-width: 1.0;\" width=\"80\" x=\"86\" y=\"125\"/><g id=\"E1.E2\"><a href=\"psysml:63691cb2-c1ae-4262-a628-287378f10d06\" target=\"_top\" title=\"psysml:63691cb2-c1ae-4262-a628-287378f10d06\" xlink:actuate=\"onRequest\" xlink:href=\"psysml:63691cb2-c1ae-4262-a628-287378f10d06\" xlink:show=\"new\" xlink:title=\"psysml:63691cb2-c1ae-4262-a628-287378f10d06\" xlink:type=\"simple\"><rect fill=\"#FEFECE\" filter=\"url(#frntoalu4fea6)\" height=\"42.9375\" id=\"E2\" rx=\"10\" ry=\"10\" style=\"stroke: #A80036; stroke-width: 1.5;\" width=\"86\" x=\"144\" y=\"58\"/><ellipse cx=\"161.25\" cy=\"76.9688\" fill=\"#FFA500\" rx=\"11\" ry=\"11\" style=\"stroke: #A80036; stroke-width: 1.0;\"/><path d=\"M157.125,78.8906 L157.125,71.0781 L159.5781,71.0781 L159.5781,79.5156 Q159.5781,80.4375 160.0469,80.9688 Q160.5313,81.5 161.3594,81.5 Q162.2031,81.5 162.6719,80.9688 Q163.1406,80.4375 163.1406,79.5156 L163.1406,71.0781 L165.5938,71.0781 L165.5938,78.8906 Q165.5938,81.4219 164.5938,82.5625 Q163.5938,83.7031 161.3594,83.7031 Q159.1406,83.7031 158.125,82.5625 Q157.125,81.4219 157.125,78.8906 Z \"/><text fill=\"#000000\" font-family=\"sans-serif\" font-size=\"12\" font-style=\"italic\" lengthAdjust=\"spacingAndGlyphs\" textLength=\"53\" x=\"173.75\" y=\"74.1387\">«action»</text><text fill=\"#000000\" font-family=\"sans-serif\" font-size=\"12\" lengthAdjust=\"spacingAndGlyphs\" textLength=\"16\" x=\"192.25\" y=\"88.1074\">A1</text></a></g><g id=\"E1.E3\"><a href=\"psysml:c6acf79a-793e-4497-aa33-887aafacc071\" target=\"_top\" title=\"psysml:c6acf79a-793e-4497-aa33-887aafacc071\" xlink:actuate=\"onRequest\" xlink:href=\"psysml:c6acf79a-793e-4497-aa33-887aafacc071\" xlink:show=\"new\" xlink:title=\"psysml:c6acf79a-793e-4497-aa33-887aafacc071\" xlink:type=\"simple\"><rect fill=\"#FEFECE\" filter=\"url(#frntoalu4fea6)\" height=\"42.9375\" id=\"E3\" rx=\"10\" ry=\"10\" style=\"stroke: #A80036; stroke-width: 1.5;\" width=\"86\" x=\"23\" y=\"58\"/><ellipse cx=\"40.25\" cy=\"76.9688\" fill=\"#FFA500\" rx=\"11\" ry=\"11\" style=\"stroke: #A80036; stroke-width: 1.0;\"/><path d=\"M36.125,78.8906 L36.125,71.0781 L38.5781,71.0781 L38.5781,79.5156 Q38.5781,80.4375 39.0469,80.9688 Q39.5313,81.5 40.3594,81.5 Q41.2031,81.5 41.6719,80.9688 Q42.1406,80.4375 42.1406,79.5156 L42.1406,71.0781 L44.5938,71.0781 L44.5938,78.8906 Q44.5938,81.4219 43.5938,82.5625 Q42.5938,83.7031 40.3594,83.7031 Q38.1406,83.7031 37.125,82.5625 Q36.125,81.4219 36.125,78.8906 Z \"/><text fill=\"#000000\" font-family=\"sans-serif\" font-size=\"12\" font-style=\"italic\" lengthAdjust=\"spacingAndGlyphs\" textLength=\"53\" x=\"52.75\" y=\"74.1387\">«action»</text><text fill=\"#000000\" font-family=\"sans-serif\" font-size=\"12\" lengthAdjust=\"spacingAndGlyphs\" textLength=\"16\" x=\"71.25\" y=\"88.1074\">A2</text></a></g><g id=\"E1.E6\"><a href=\"psysml:2beb575e-cdbc-464e-9dd9-fc16008b4aec\" target=\"_top\" title=\"psysml:2beb575e-cdbc-464e-9dd9-fc16008b4aec\" xlink:actuate=\"onRequest\" xlink:href=\"psysml:2beb575e-cdbc-464e-9dd9-fc16008b4aec\" xlink:show=\"new\" xlink:title=\"psysml:2beb575e-cdbc-464e-9dd9-fc16008b4aec\" xlink:type=\"simple\"><rect fill=\"#FEFECE\" filter=\"url(#frntoalu4fea6)\" height=\"42.9375\" id=\"E6\" rx=\"10\" ry=\"10\" style=\"stroke: #A80036; stroke-width: 1.5;\" width=\"86\" x=\"23\" y=\"141\"/><ellipse cx=\"40.25\" cy=\"159.9688\" fill=\"#FFA500\" rx=\"11\" ry=\"11\" style=\"stroke: #A80036; stroke-width: 1.0;\"/><path d=\"M36.125,161.8906 L36.125,154.0781 L38.5781,154.0781 L38.5781,162.5156 Q38.5781,163.4375 39.0469,163.9688 Q39.5313,164.5 40.3594,164.5 Q41.2031,164.5 41.6719,163.9688 Q42.1406,163.4375 42.1406,162.5156 L42.1406,154.0781 L44.5938,154.0781 L44.5938,161.8906 Q44.5938,164.4219 43.5938,165.5625 Q42.5938,166.7031 40.3594,166.7031 Q38.1406,166.7031 37.125,165.5625 Q36.125,164.4219 36.125,161.8906 Z \"/><text fill=\"#000000\" font-family=\"sans-serif\" font-size=\"12\" font-style=\"italic\" lengthAdjust=\"spacingAndGlyphs\" textLength=\"53\" x=\"52.75\" y=\"157.1387\">«action»</text><text fill=\"#000000\" font-family=\"sans-serif\" font-size=\"12\" lengthAdjust=\"spacingAndGlyphs\" textLength=\"16\" x=\"71.25\" y=\"171.1074\">B1</text></a></g><g id=\"E1.E7\"><a href=\"psysml:18cbd039-fda1-47ea-ae1e-03ddeff777e2\" target=\"_top\" title=\"psysml:18cbd039-fda1-47ea-ae1e-03ddeff777e2\" xlink:actuate=\"onRequest\" xlink:href=\"psysml:18cbd039-fda1-47ea-ae1e-03ddeff777e2\" xlink:show=\"new\" xlink:title=\"psysml:18cbd039-fda1-47ea-ae1e-03ddeff777e2\" xlink:type=\"simple\"><rect fill=\"#FEFECE\" filter=\"url(#frntoalu4fea6)\" height=\"42.9375\" id=\"E7\" rx=\"10\" ry=\"10\" style=\"stroke: #A80036; stroke-width: 1.5;\" width=\"86\" x=\"144\" y=\"141\"/><ellipse cx=\"161.25\" cy=\"159.9688\" fill=\"#FFA500\" rx=\"11\" ry=\"11\" style=\"stroke: #A80036; stroke-width: 1.0;\"/><path d=\"M157.125,161.8906 L157.125,154.0781 L159.5781,154.0781 L159.5781,162.5156 Q159.5781,163.4375 160.0469,163.9688 Q160.5313,164.5 161.3594,164.5 Q162.2031,164.5 162.6719,163.9688 Q163.1406,163.4375 163.1406,162.5156 L163.1406,154.0781 L165.5938,154.0781 L165.5938,161.8906 Q165.5938,164.4219 164.5938,165.5625 Q163.5938,166.7031 161.3594,166.7031 Q159.1406,166.7031 158.125,165.5625 Q157.125,164.4219 157.125,161.8906 Z \"/><text fill=\"#000000\" font-family=\"sans-serif\" font-size=\"12\" font-style=\"italic\" lengthAdjust=\"spacingAndGlyphs\" textLength=\"53\" x=\"173.75\" y=\"157.1387\">«action»</text><text fill=\"#000000\" font-family=\"sans-serif\" font-size=\"12\" lengthAdjust=\"spacingAndGlyphs\" textLength=\"16\" x=\"192.25\" y=\"171.1074\">B2</text></a></g><!--MD5=[4d03bb2d0377dc85ccfab60ff574652b]\n",
       "link E2 to E4--><a href=\"psysml:32927b08-9b1f-4059-96b6-74ea858c5377\" target=\"_top\" title=\"psysml:32927b08-9b1f-4059-96b6-74ea858c5377\" xlink:actuate=\"onRequest\" xlink:href=\"psysml:32927b08-9b1f-4059-96b6-74ea858c5377\" xlink:show=\"new\" xlink:title=\"psysml:32927b08-9b1f-4059-96b6-74ea858c5377\" xlink:type=\"simple\"><path d=\"M146.99,101.16 C143.1,103.17 139.44,105.06 136.3,106.68 \" fill=\"none\" id=\"E2-&gt;E4\" style=\"stroke: #A80036; stroke-width: 1.0; stroke-dasharray: 7.0,7.0;\"/><polygon fill=\"#A80036\" points=\"131.83,108.99,141.6614,108.4046,136.2703,106.6913,137.9836,101.3002,131.83,108.99\" style=\"stroke: #A80036; stroke-width: 1.0;\"/></a><!--MD5=[af87c684e3b0d8be13c1a698a818ef1e]\n",
       "link E3 to E4--><a href=\"psysml:6834d0f3-19d8-44ac-95f5-e8bc4db68e8a\" target=\"_top\" title=\"psysml:6834d0f3-19d8-44ac-95f5-e8bc4db68e8a\" xlink:actuate=\"onRequest\" xlink:href=\"psysml:6834d0f3-19d8-44ac-95f5-e8bc4db68e8a\" xlink:show=\"new\" xlink:title=\"psysml:6834d0f3-19d8-44ac-95f5-e8bc4db68e8a\" xlink:type=\"simple\"><path d=\"M105.35,101.16 C109,103.07 112.44,104.88 115.42,106.45 \" fill=\"none\" id=\"E3-&gt;E4\" style=\"stroke: #A80036; stroke-width: 1.0; stroke-dasharray: 7.0,7.0;\"/><polygon fill=\"#A80036\" points=\"120.26,108.99,114.1556,101.261,115.8345,106.663,110.4325,108.3419,120.26,108.99\" style=\"stroke: #A80036; stroke-width: 1.0;\"/></a><!--MD5=[1b7591eae5389033d8d09a9d6721a717]\n",
       "link E4 to E5--><a href=\"psysml:02aceb33-1759-43f7-b21c-5882a5f834e0\" target=\"_top\" title=\"psysml:02aceb33-1759-43f7-b21c-5882a5f834e0\" xlink:actuate=\"onRequest\" xlink:href=\"psysml:02aceb33-1759-43f7-b21c-5882a5f834e0\" xlink:show=\"new\" xlink:title=\"psysml:02aceb33-1759-43f7-b21c-5882a5f834e0\" xlink:type=\"simple\"><path d=\"M126,117.25 C126,118.05 126,118.94 126,119.86 \" fill=\"none\" id=\"E4-&gt;E5\" style=\"stroke: #A80036; stroke-width: 1.0; stroke-dasharray: 7.0,7.0;\"/><polygon fill=\"#A80036\" points=\"126,124.96,130,115.96,126,119.96,122,115.96,126,124.96\" style=\"stroke: #A80036; stroke-width: 1.0;\"/></a><!--MD5=[9120cf2e5df3bff93db8f754bbbc09b4]\n",
       "link E5 to E6--><a href=\"psysml:f43de8b9-7272-426a-b0aa-70e703f3a468\" target=\"_top\" title=\"psysml:f43de8b9-7272-426a-b0aa-70e703f3a468\" xlink:actuate=\"onRequest\" xlink:href=\"psysml:f43de8b9-7272-426a-b0aa-70e703f3a468\" xlink:show=\"new\" xlink:title=\"psysml:f43de8b9-7272-426a-b0aa-70e703f3a468\" xlink:type=\"simple\"><path d=\"M120.03,133.14 C117.24,134.6 113.66,136.48 109.66,138.58 \" fill=\"none\" id=\"E5-&gt;E6\" style=\"stroke: #A80036; stroke-width: 1.0; stroke-dasharray: 7.0,7.0;\"/><polygon fill=\"#A80036\" points=\"105.18,140.93,115.0083,140.2937,109.6083,138.6084,111.2937,133.2084,105.18,140.93\" style=\"stroke: #A80036; stroke-width: 1.0;\"/></a><!--MD5=[3a9b96bfbf6b6ad89c494e81751bda47]\n",
       "link E5 to E7--><a href=\"psysml:6de5063b-eb84-4499-9c8a-3a0354e3d885\" target=\"_top\" title=\"psysml:6de5063b-eb84-4499-9c8a-3a0354e3d885\" xlink:actuate=\"onRequest\" xlink:href=\"psysml:6de5063b-eb84-4499-9c8a-3a0354e3d885\" xlink:show=\"new\" xlink:title=\"psysml:6de5063b-eb84-4499-9c8a-3a0354e3d885\" xlink:type=\"simple\"><path d=\"M132.07,133.14 C134.9,134.6 138.55,136.48 142.61,138.58 \" fill=\"none\" id=\"E5-&gt;E7\" style=\"stroke: #A80036; stroke-width: 1.0; stroke-dasharray: 7.0,7.0;\"/><polygon fill=\"#A80036\" points=\"147.16,140.93,140.9869,133.2558,142.7139,138.6426,137.3271,140.3696,147.16,140.93\" style=\"stroke: #A80036; stroke-width: 1.0;\"/></a><!--MD5=[212375912699003f4b88787be2d60100]\n",
       "@startuml\r\n",
       "skinparam ranksep 8\r\n",
       " \r\n",
       "rec def \"ControlNodeTest\" as E1  <<(D,brown)action def>> [[psysml:8a19e2dd-7f31-4291-b841-c8e7ad6ceaae ]] {\r\n",
       "rec usage \"A1\" as E2  <<(U,orange)action>> [[psysml:63691cb2-c1ae-4262-a628-287378f10d06 ]] {\r\n",
       "}\r\n",
       "\r\n",
       "rec usage \"A2\" as E3  <<(U,orange)action>> [[psysml:c6acf79a-793e-4497-aa33-887aafacc071 ]] {\r\n",
       "}\r\n",
       "\r\n",
       "join \"J\" as E4  [[psysml:9118671e-8e40-41ce-bc29-e44727581a0d ]] \r\n",
       "fork \"F\" as E5  [[psysml:3c4d5a48-0835-4406-bc0d-d635a7475922 ]] \r\n",
       "rec usage \"B1\" as E6  <<(U,orange)action>> [[psysml:2beb575e-cdbc-464e-9dd9-fc16008b4aec ]] {\r\n",
       "}\r\n",
       "\r\n",
       "rec usage \"B2\" as E7  <<(U,orange)action>> [[psysml:18cbd039-fda1-47ea-ae1e-03ddeff777e2 ]] {\r\n",
       "}\r\n",
       "\r\n",
       "}\r\n",
       "\r\n",
       "E2 ..> E4 [[psysml:32927b08-9b1f-4059-96b6-74ea858c5377 ]] \r\n",
       "E3 ..> E4 [[psysml:6834d0f3-19d8-44ac-95f5-e8bc4db68e8a ]] \r\n",
       "E4 ..> E5 [[psysml:02aceb33-1759-43f7-b21c-5882a5f834e0 ]] \r\n",
       "E5 ..> E6 [[psysml:f43de8b9-7272-426a-b0aa-70e703f3a468 ]] \r\n",
       "E5 ..> E7 [[psysml:6de5063b-eb84-4499-9c8a-3a0354e3d885 ]] \r\n",
       "@enduml\r\n",
       "\n",
       "PlantUML version 1.2020.13(Sat Jun 13 12:26:38 UTC 2020)\n",
       "(EPL source distribution)\n",
       "Java Runtime: OpenJDK Runtime Environment\n",
       "JVM: OpenJDK 64-Bit Server VM\n",
       "Default Encoding: UTF-8\n",
       "Language: en\n",
       "Country: null\n",
       "--></g></svg>"
      ]
     },
     "execution_count": 34,
     "metadata": {},
     "output_type": "execute_result"
    }
   ],
   "source": [
    "%viz --style=\"PLANTUML\" --view=\"Action\" \"ControlNodeTest\""
   ]
  },
  {
   "cell_type": "code",
   "execution_count": 35,
   "id": "interesting-above",
   "metadata": {
    "execution": {
     "iopub.execute_input": "2021-03-26T15:42:09.805365Z",
     "iopub.status.busy": "2021-03-26T15:42:09.801840Z",
     "iopub.status.idle": "2021-03-26T15:42:09.851268Z",
     "shell.execute_reply": "2021-03-26T15:42:09.850956Z"
    }
   },
   "outputs": [
    {
     "data": {
      "image/svg+xml": [
       "<?xml version=\"1.0\" encoding=\"UTF-8\" standalone=\"no\"?><svg xmlns=\"http://www.w3.org/2000/svg\" xmlns:xlink=\"http://www.w3.org/1999/xlink\" contentScriptType=\"application/ecmascript\" contentStyleType=\"text/css\" height=\"199px\" preserveAspectRatio=\"none\" style=\"width:163px;height:199px;\" version=\"1.1\" viewBox=\"0 0 163 199\" width=\"163px\" zoomAndPan=\"magnify\"><defs><filter height=\"300%\" id=\"f1dawz5hcj4xu9\" width=\"300%\" x=\"-1\" y=\"-1\"><feGaussianBlur result=\"blurOut\" stdDeviation=\"2.0\"/><feColorMatrix in=\"blurOut\" result=\"blurOut2\" type=\"matrix\" values=\"0 0 0 0 0 0 0 0 0 0 0 0 0 0 0 0 0 0 .4 0\"/><feOffset dx=\"4.0\" dy=\"4.0\" in=\"blurOut2\" result=\"blurOut3\"/><feBlend in=\"SourceGraphic\" in2=\"blurOut3\" mode=\"normal\"/></filter></defs><g><!--MD5=[43c9051892ef23e1a46a86907403d788]\n",
       "class E1--><a href=\"psysml:8a19e2dd-7f31-4291-b841-c8e7ad6ceaae\" target=\"_top\" title=\"psysml:8a19e2dd-7f31-4291-b841-c8e7ad6ceaae\" xlink:actuate=\"onRequest\" xlink:href=\"psysml:8a19e2dd-7f31-4291-b841-c8e7ad6ceaae\" xlink:show=\"new\" xlink:title=\"psysml:8a19e2dd-7f31-4291-b841-c8e7ad6ceaae\" xlink:type=\"simple\"><rect fill=\"#FEFECE\" filter=\"url(#f1dawz5hcj4xu9)\" height=\"173.1797\" id=\"E1\" style=\"stroke: #A80036; stroke-width: 1.5;\" width=\"137\" x=\"7\" y=\"7\"/><ellipse cx=\"22\" cy=\"25.9688\" fill=\"#A52A2A\" rx=\"11\" ry=\"11\" style=\"stroke: #A80036; stroke-width: 1.0;\"/><path d=\"M21.5938,21.7813 L21.5938,29.7656 L22.25,29.7656 Q23.6875,29.7656 24.2969,28.8594 Q24.9219,27.9375 24.9219,25.7656 Q24.9219,23.5938 24.2969,22.6875 Q23.6875,21.7813 22.25,21.7813 L21.5938,21.7813 Z M19.1406,19.5781 L21.7656,19.5781 Q24.7969,19.5781 26.125,21.0313 Q27.4688,22.4688 27.4688,25.7656 Q27.4688,29.0625 26.125,30.5156 Q24.7969,31.9688 21.7656,31.9688 L19.1406,31.9688 L19.1406,19.5781 Z \"/><text fill=\"#000000\" font-family=\"sans-serif\" font-size=\"12\" font-style=\"italic\" lengthAdjust=\"spacingAndGlyphs\" textLength=\"77\" x=\"50\" y=\"23.1387\">«action def»</text><text fill=\"#000000\" font-family=\"sans-serif\" font-size=\"12\" lengthAdjust=\"spacingAndGlyphs\" textLength=\"105\" x=\"36\" y=\"37.1074\">ControlNodeTest</text><line style=\"stroke: #A80036; stroke-width: 1.5;\" x1=\"8\" x2=\"143\" y1=\"44.9375\" y2=\"44.9375\"/><text fill=\"#000000\" font-family=\"sans-serif\" font-size=\"11\" lengthAdjust=\"spacingAndGlyphs\" textLength=\"14\" x=\"13\" y=\"75.9526\">A1</text><text fill=\"#000000\" font-family=\"sans-serif\" font-size=\"11\" lengthAdjust=\"spacingAndGlyphs\" textLength=\"14\" x=\"13\" y=\"88.7573\">A2</text><text fill=\"#000000\" font-family=\"sans-serif\" font-size=\"11\" lengthAdjust=\"spacingAndGlyphs\" textLength=\"15\" x=\"13\" y=\"101.562\">B1</text><text fill=\"#000000\" font-family=\"sans-serif\" font-size=\"11\" lengthAdjust=\"spacingAndGlyphs\" textLength=\"15\" x=\"13\" y=\"114.3667\">B2</text><line style=\"stroke: #A80036; stroke-width: 1.0;\" x1=\"8\" x2=\"55\" y1=\"59.3398\" y2=\"59.3398\"/><text fill=\"#000000\" font-family=\"sans-serif\" font-size=\"11\" lengthAdjust=\"spacingAndGlyphs\" textLength=\"41\" x=\"55\" y=\"62.6479\">actions</text><line style=\"stroke: #A80036; stroke-width: 1.0;\" x1=\"96\" x2=\"143\" y1=\"59.3398\" y2=\"59.3398\"/><text fill=\"#000000\" font-family=\"sans-serif\" font-size=\"11\" lengthAdjust=\"spacingAndGlyphs\" textLength=\"6\" x=\"13\" y=\"143.9761\">F</text><line style=\"stroke: #A80036; stroke-width: 1.0;\" x1=\"8\" x2=\"46.5\" y1=\"127.3633\" y2=\"127.3633\"/><text fill=\"#000000\" font-family=\"sans-serif\" font-size=\"11\" lengthAdjust=\"spacingAndGlyphs\" textLength=\"58\" x=\"46.5\" y=\"130.6714\">forkNodes</text><line style=\"stroke: #A80036; stroke-width: 1.0;\" x1=\"104.5\" x2=\"143\" y1=\"127.3633\" y2=\"127.3633\"/><text fill=\"#000000\" font-family=\"sans-serif\" font-size=\"11\" lengthAdjust=\"spacingAndGlyphs\" textLength=\"3\" x=\"13\" y=\"173.5854\">J</text><line style=\"stroke: #A80036; stroke-width: 1.0;\" x1=\"8\" x2=\"47.5\" y1=\"156.9727\" y2=\"156.9727\"/><text fill=\"#000000\" font-family=\"sans-serif\" font-size=\"11\" lengthAdjust=\"spacingAndGlyphs\" textLength=\"56\" x=\"47.5\" y=\"160.2808\">joinNodes</text><line style=\"stroke: #A80036; stroke-width: 1.0;\" x1=\"103.5\" x2=\"143\" y1=\"156.9727\" y2=\"156.9727\"/></a><!--MD5=[7ac8d642e8ee602962887acace99299e]\n",
       "@startuml\r\n",
       " \r\n",
       "comp def \"ControlNodeTest\" as E1  <<(D,brown)action def>> [[psysml:8a19e2dd-7f31-4291-b841-c8e7ad6ceaae ]] {\r\n",
       "- - actions - -\r\n",
       "A1\r\n",
       "A2\r\n",
       "B1\r\n",
       "B2\r\n",
       "- - forkNodes - -\r\n",
       "F\r\n",
       "- - joinNodes - -\r\n",
       "J\r\n",
       "}\r\n",
       "@enduml\r\n",
       "\n",
       "PlantUML version 1.2020.13(Sat Jun 13 12:26:38 UTC 2020)\n",
       "(EPL source distribution)\n",
       "Java Runtime: OpenJDK Runtime Environment\n",
       "JVM: OpenJDK 64-Bit Server VM\n",
       "Default Encoding: UTF-8\n",
       "Language: en\n",
       "Country: null\n",
       "--></g></svg>"
      ]
     },
     "execution_count": 35,
     "metadata": {},
     "output_type": "execute_result"
    }
   ],
   "source": [
    "%viz --style=\"PLANTUML\" --view=\"Sequence\" \"ControlNodeTest\""
   ]
  },
  {
   "cell_type": "code",
   "execution_count": 36,
   "id": "textile-organic",
   "metadata": {
    "execution": {
     "iopub.execute_input": "2021-03-26T15:42:09.901382Z",
     "iopub.status.busy": "2021-03-26T15:42:09.900991Z",
     "iopub.status.idle": "2021-03-26T15:42:09.930093Z",
     "shell.execute_reply": "2021-03-26T15:42:09.928542Z"
    }
   },
   "outputs": [
    {
     "data": {
      "image/svg+xml": [
       "<?xml version=\"1.0\" encoding=\"UTF-8\" standalone=\"no\"?><svg xmlns=\"http://www.w3.org/2000/svg\" xmlns:xlink=\"http://www.w3.org/1999/xlink\" contentScriptType=\"application/ecmascript\" contentStyleType=\"text/css\" height=\"375px\" preserveAspectRatio=\"none\" style=\"width:265px;height:375px;\" version=\"1.1\" viewBox=\"0 0 265 375\" width=\"265px\" zoomAndPan=\"magnify\"><defs><filter height=\"300%\" id=\"f14v2snvry9s0f\" width=\"300%\" x=\"-1\" y=\"-1\"><feGaussianBlur result=\"blurOut\" stdDeviation=\"2.0\"/><feColorMatrix in=\"blurOut\" result=\"blurOut2\" type=\"matrix\" values=\"0 0 0 0 0 0 0 0 0 0 0 0 0 0 0 0 0 0 .4 0\"/><feOffset dx=\"4.0\" dy=\"4.0\" in=\"blurOut2\" result=\"blurOut3\"/><feBlend in=\"SourceGraphic\" in2=\"blurOut3\" mode=\"normal\"/></filter></defs><g><!--MD5=[fbc87193dbaf4d95561dea2c320d4a47]\n",
       "cluster E1--><a href=\"psysml:8a19e2dd-7f31-4291-b841-c8e7ad6ceaae\" target=\"_top\" title=\"psysml:8a19e2dd-7f31-4291-b841-c8e7ad6ceaae\" xlink:actuate=\"onRequest\" xlink:href=\"psysml:8a19e2dd-7f31-4291-b841-c8e7ad6ceaae\" xlink:show=\"new\" xlink:title=\"psysml:8a19e2dd-7f31-4291-b841-c8e7ad6ceaae\" xlink:type=\"simple\"><rect fill=\"#FFFFFF\" filter=\"url(#f14v2snvry9s0f)\" height=\"349\" id=\"E1\" style=\"stroke: #A80036; stroke-width: 1.5;\" width=\"239\" x=\"7\" y=\"7\"/><rect fill=\"#FEFECE\" height=\"37.9375\" style=\"stroke: #A80036; stroke-width: 1.5;\" width=\"239\" x=\"7\" y=\"7\"/><text fill=\"#000000\" font-family=\"sans-serif\" font-size=\"12\" font-style=\"italic\" lengthAdjust=\"spacingAndGlyphs\" textLength=\"77\" x=\"88\" y=\"23.1387\">«action def»</text><text fill=\"#000000\" font-family=\"sans-serif\" font-size=\"12\" lengthAdjust=\"spacingAndGlyphs\" textLength=\"105\" x=\"74\" y=\"37.1074\">ControlNodeTest</text></a><rect fill=\"#000000\" filter=\"url(#f14v2snvry9s0f)\" height=\"8\" style=\"stroke: none; stroke-width: 1.0;\" width=\"80\" x=\"86\" y=\"161\"/><rect fill=\"#000000\" filter=\"url(#f14v2snvry9s0f)\" height=\"8\" style=\"stroke: none; stroke-width: 1.0;\" width=\"80\" x=\"86\" y=\"229\"/><g id=\"E1.E2\"><a href=\"psysml:63691cb2-c1ae-4262-a628-287378f10d06\" target=\"_top\" title=\"psysml:63691cb2-c1ae-4262-a628-287378f10d06\" xlink:actuate=\"onRequest\" xlink:href=\"psysml:63691cb2-c1ae-4262-a628-287378f10d06\" xlink:show=\"new\" xlink:title=\"psysml:63691cb2-c1ae-4262-a628-287378f10d06\" xlink:type=\"simple\"><rect fill=\"#FEFECE\" filter=\"url(#f14v2snvry9s0f)\" height=\"42.9375\" id=\"E2\" rx=\"10\" ry=\"10\" style=\"stroke: #A80036; stroke-width: 1.5;\" width=\"86\" x=\"144\" y=\"58\"/><ellipse cx=\"161.25\" cy=\"76.9688\" fill=\"#FFA500\" rx=\"11\" ry=\"11\" style=\"stroke: #A80036; stroke-width: 1.0;\"/><path d=\"M157.125,78.8906 L157.125,71.0781 L159.5781,71.0781 L159.5781,79.5156 Q159.5781,80.4375 160.0469,80.9688 Q160.5313,81.5 161.3594,81.5 Q162.2031,81.5 162.6719,80.9688 Q163.1406,80.4375 163.1406,79.5156 L163.1406,71.0781 L165.5938,71.0781 L165.5938,78.8906 Q165.5938,81.4219 164.5938,82.5625 Q163.5938,83.7031 161.3594,83.7031 Q159.1406,83.7031 158.125,82.5625 Q157.125,81.4219 157.125,78.8906 Z \"/><text fill=\"#000000\" font-family=\"sans-serif\" font-size=\"12\" font-style=\"italic\" lengthAdjust=\"spacingAndGlyphs\" textLength=\"53\" x=\"173.75\" y=\"74.1387\">«action»</text><text fill=\"#000000\" font-family=\"sans-serif\" font-size=\"12\" lengthAdjust=\"spacingAndGlyphs\" textLength=\"16\" x=\"192.25\" y=\"88.1074\">A1</text></a></g><g id=\"E1.E3\"><a href=\"psysml:c6acf79a-793e-4497-aa33-887aafacc071\" target=\"_top\" title=\"psysml:c6acf79a-793e-4497-aa33-887aafacc071\" xlink:actuate=\"onRequest\" xlink:href=\"psysml:c6acf79a-793e-4497-aa33-887aafacc071\" xlink:show=\"new\" xlink:title=\"psysml:c6acf79a-793e-4497-aa33-887aafacc071\" xlink:type=\"simple\"><rect fill=\"#FEFECE\" filter=\"url(#f14v2snvry9s0f)\" height=\"42.9375\" id=\"E3\" rx=\"10\" ry=\"10\" style=\"stroke: #A80036; stroke-width: 1.5;\" width=\"86\" x=\"23\" y=\"58\"/><ellipse cx=\"40.25\" cy=\"76.9688\" fill=\"#FFA500\" rx=\"11\" ry=\"11\" style=\"stroke: #A80036; stroke-width: 1.0;\"/><path d=\"M36.125,78.8906 L36.125,71.0781 L38.5781,71.0781 L38.5781,79.5156 Q38.5781,80.4375 39.0469,80.9688 Q39.5313,81.5 40.3594,81.5 Q41.2031,81.5 41.6719,80.9688 Q42.1406,80.4375 42.1406,79.5156 L42.1406,71.0781 L44.5938,71.0781 L44.5938,78.8906 Q44.5938,81.4219 43.5938,82.5625 Q42.5938,83.7031 40.3594,83.7031 Q38.1406,83.7031 37.125,82.5625 Q36.125,81.4219 36.125,78.8906 Z \"/><text fill=\"#000000\" font-family=\"sans-serif\" font-size=\"12\" font-style=\"italic\" lengthAdjust=\"spacingAndGlyphs\" textLength=\"53\" x=\"52.75\" y=\"74.1387\">«action»</text><text fill=\"#000000\" font-family=\"sans-serif\" font-size=\"12\" lengthAdjust=\"spacingAndGlyphs\" textLength=\"16\" x=\"71.25\" y=\"88.1074\">A2</text></a></g><g id=\"E1.E6\"><a href=\"psysml:2beb575e-cdbc-464e-9dd9-fc16008b4aec\" target=\"_top\" title=\"psysml:2beb575e-cdbc-464e-9dd9-fc16008b4aec\" xlink:actuate=\"onRequest\" xlink:href=\"psysml:2beb575e-cdbc-464e-9dd9-fc16008b4aec\" xlink:show=\"new\" xlink:title=\"psysml:2beb575e-cdbc-464e-9dd9-fc16008b4aec\" xlink:type=\"simple\"><rect fill=\"#FEFECE\" filter=\"url(#f14v2snvry9s0f)\" height=\"42.9375\" id=\"E6\" rx=\"10\" ry=\"10\" style=\"stroke: #A80036; stroke-width: 1.5;\" width=\"86\" x=\"23\" y=\"297\"/><ellipse cx=\"40.25\" cy=\"315.9688\" fill=\"#FFA500\" rx=\"11\" ry=\"11\" style=\"stroke: #A80036; stroke-width: 1.0;\"/><path d=\"M36.125,317.8906 L36.125,310.0781 L38.5781,310.0781 L38.5781,318.5156 Q38.5781,319.4375 39.0469,319.9688 Q39.5313,320.5 40.3594,320.5 Q41.2031,320.5 41.6719,319.9688 Q42.1406,319.4375 42.1406,318.5156 L42.1406,310.0781 L44.5938,310.0781 L44.5938,317.8906 Q44.5938,320.4219 43.5938,321.5625 Q42.5938,322.7031 40.3594,322.7031 Q38.1406,322.7031 37.125,321.5625 Q36.125,320.4219 36.125,317.8906 Z \"/><text fill=\"#000000\" font-family=\"sans-serif\" font-size=\"12\" font-style=\"italic\" lengthAdjust=\"spacingAndGlyphs\" textLength=\"53\" x=\"52.75\" y=\"313.1387\">«action»</text><text fill=\"#000000\" font-family=\"sans-serif\" font-size=\"12\" lengthAdjust=\"spacingAndGlyphs\" textLength=\"16\" x=\"71.25\" y=\"327.1074\">B1</text></a></g><g id=\"E1.E7\"><a href=\"psysml:18cbd039-fda1-47ea-ae1e-03ddeff777e2\" target=\"_top\" title=\"psysml:18cbd039-fda1-47ea-ae1e-03ddeff777e2\" xlink:actuate=\"onRequest\" xlink:href=\"psysml:18cbd039-fda1-47ea-ae1e-03ddeff777e2\" xlink:show=\"new\" xlink:title=\"psysml:18cbd039-fda1-47ea-ae1e-03ddeff777e2\" xlink:type=\"simple\"><rect fill=\"#FEFECE\" filter=\"url(#f14v2snvry9s0f)\" height=\"42.9375\" id=\"E7\" rx=\"10\" ry=\"10\" style=\"stroke: #A80036; stroke-width: 1.5;\" width=\"86\" x=\"144\" y=\"297\"/><ellipse cx=\"161.25\" cy=\"315.9688\" fill=\"#FFA500\" rx=\"11\" ry=\"11\" style=\"stroke: #A80036; stroke-width: 1.0;\"/><path d=\"M157.125,317.8906 L157.125,310.0781 L159.5781,310.0781 L159.5781,318.5156 Q159.5781,319.4375 160.0469,319.9688 Q160.5313,320.5 161.3594,320.5 Q162.2031,320.5 162.6719,319.9688 Q163.1406,319.4375 163.1406,318.5156 L163.1406,310.0781 L165.5938,310.0781 L165.5938,317.8906 Q165.5938,320.4219 164.5938,321.5625 Q163.5938,322.7031 161.3594,322.7031 Q159.1406,322.7031 158.125,321.5625 Q157.125,320.4219 157.125,317.8906 Z \"/><text fill=\"#000000\" font-family=\"sans-serif\" font-size=\"12\" font-style=\"italic\" lengthAdjust=\"spacingAndGlyphs\" textLength=\"53\" x=\"173.75\" y=\"313.1387\">«action»</text><text fill=\"#000000\" font-family=\"sans-serif\" font-size=\"12\" lengthAdjust=\"spacingAndGlyphs\" textLength=\"16\" x=\"192.25\" y=\"327.1074\">B2</text></a></g><!--MD5=[4d03bb2d0377dc85ccfab60ff574652b]\n",
       "link E2 to E4--><a href=\"psysml:32927b08-9b1f-4059-96b6-74ea858c5377\" target=\"_top\" title=\"psysml:32927b08-9b1f-4059-96b6-74ea858c5377\" xlink:actuate=\"onRequest\" xlink:href=\"psysml:32927b08-9b1f-4059-96b6-74ea858c5377\" xlink:show=\"new\" xlink:title=\"psysml:32927b08-9b1f-4059-96b6-74ea858c5377\" xlink:type=\"simple\"><path d=\"M171.92,101.14 C158.72,119.22 140.27,144.46 131.31,156.73 \" fill=\"none\" id=\"E2-&gt;E4\" style=\"stroke: #A80036; stroke-width: 1.0;\"/><polygon fill=\"#A80036\" points=\"128.28,160.88,136.8219,155.9773,131.2319,156.8444,130.3648,151.2543,128.28,160.88\" style=\"stroke: #A80036; stroke-width: 1.0;\"/></a><!--MD5=[af87c684e3b0d8be13c1a698a818ef1e]\n",
       "link E3 to E4--><a href=\"psysml:6834d0f3-19d8-44ac-95f5-e8bc4db68e8a\" target=\"_top\" title=\"psysml:6834d0f3-19d8-44ac-95f5-e8bc4db68e8a\" xlink:actuate=\"onRequest\" xlink:href=\"psysml:6834d0f3-19d8-44ac-95f5-e8bc4db68e8a\" xlink:show=\"new\" xlink:title=\"psysml:6834d0f3-19d8-44ac-95f5-e8bc4db68e8a\" xlink:type=\"simple\"><path d=\"M80.83,101.14 C93.82,119.22 111.96,144.46 120.78,156.73 \" fill=\"none\" id=\"E3-&gt;E4\" style=\"stroke: #A80036; stroke-width: 1.0;\"/><polygon fill=\"#A80036\" points=\"123.76,160.88,121.7581,151.2367,120.843,156.8191,115.2607,155.9039,123.76,160.88\" style=\"stroke: #A80036; stroke-width: 1.0;\"/></a><!--MD5=[1b7591eae5389033d8d09a9d6721a717]\n",
       "link E4 to E5--><a href=\"psysml:02aceb33-1759-43f7-b21c-5882a5f834e0\" target=\"_top\" title=\"psysml:02aceb33-1759-43f7-b21c-5882a5f834e0\" xlink:actuate=\"onRequest\" xlink:href=\"psysml:02aceb33-1759-43f7-b21c-5882a5f834e0\" xlink:show=\"new\" xlink:title=\"psysml:02aceb33-1759-43f7-b21c-5882a5f834e0\" xlink:type=\"simple\"><path d=\"M126,169.18 C126,178.92 126,208.52 126,223.34 \" fill=\"none\" id=\"E4-&gt;E5\" style=\"stroke: #A80036; stroke-width: 1.0;\"/><polygon fill=\"#A80036\" points=\"126,228.69,130,219.69,126,223.69,122,219.69,126,228.69\" style=\"stroke: #A80036; stroke-width: 1.0;\"/></a><!--MD5=[9120cf2e5df3bff93db8f754bbbc09b4]\n",
       "link E5 to E6--><a href=\"psysml:f43de8b9-7272-426a-b0aa-70e703f3a468\" target=\"_top\" title=\"psysml:f43de8b9-7272-426a-b0aa-70e703f3a468\" xlink:actuate=\"onRequest\" xlink:href=\"psysml:f43de8b9-7272-426a-b0aa-70e703f3a468\" xlink:show=\"new\" xlink:title=\"psysml:f43de8b9-7272-426a-b0aa-70e703f3a468\" xlink:type=\"simple\"><path d=\"M123.72,237.17 C117.25,246.18 98.28,272.58 83.83,292.68 \" fill=\"none\" id=\"E5-&gt;E6\" style=\"stroke: #A80036; stroke-width: 1.0;\"/><polygon fill=\"#A80036\" points=\"80.83,296.87,89.3326,291.8995,83.7496,292.811,82.8381,287.228,80.83,296.87\" style=\"stroke: #A80036; stroke-width: 1.0;\"/></a><!--MD5=[3a9b96bfbf6b6ad89c494e81751bda47]\n",
       "link E5 to E7--><a href=\"psysml:6de5063b-eb84-4499-9c8a-3a0354e3d885\" target=\"_top\" title=\"psysml:6de5063b-eb84-4499-9c8a-3a0354e3d885\" xlink:actuate=\"onRequest\" xlink:href=\"psysml:6de5063b-eb84-4499-9c8a-3a0354e3d885\" xlink:show=\"new\" xlink:title=\"psysml:6de5063b-eb84-4499-9c8a-3a0354e3d885\" xlink:type=\"simple\"><path d=\"M128.32,237.17 C134.9,246.18 154.19,272.58 168.87,292.68 \" fill=\"none\" id=\"E5-&gt;E7\" style=\"stroke: #A80036; stroke-width: 1.0;\"/><polygon fill=\"#A80036\" points=\"171.93,296.87,169.8674,287.2396,168.9874,292.8276,163.3994,291.9476,171.93,296.87\" style=\"stroke: #A80036; stroke-width: 1.0;\"/></a><!--MD5=[9ca3c5d47a8a8627351f409fa770cafb]\n",
       "@startuml\r\n",
       " \r\n",
       "rec def \"ControlNodeTest\" as E1  <<(D,brown)action def>> [[psysml:8a19e2dd-7f31-4291-b841-c8e7ad6ceaae ]] {\r\n",
       "rec usage \"A1\" as E2  <<(U,orange)action>> [[psysml:63691cb2-c1ae-4262-a628-287378f10d06 ]] {\r\n",
       "}\r\n",
       "\r\n",
       "rec usage \"A2\" as E3  <<(U,orange)action>> [[psysml:c6acf79a-793e-4497-aa33-887aafacc071 ]] {\r\n",
       "}\r\n",
       "\r\n",
       "join \"J\" as E4  [[psysml:9118671e-8e40-41ce-bc29-e44727581a0d ]] \r\n",
       "fork \"F\" as E5  [[psysml:3c4d5a48-0835-4406-bc0d-d635a7475922 ]] \r\n",
       "rec usage \"B1\" as E6  <<(U,orange)action>> [[psysml:2beb575e-cdbc-464e-9dd9-fc16008b4aec ]] {\r\n",
       "}\r\n",
       "\r\n",
       "rec usage \"B2\" as E7  <<(U,orange)action>> [[psysml:18cbd039-fda1-47ea-ae1e-03ddeff777e2 ]] {\r\n",
       "}\r\n",
       "\r\n",
       "}\r\n",
       "\r\n",
       "E2 - -> E4 [[psysml:32927b08-9b1f-4059-96b6-74ea858c5377 ]] \r\n",
       "E3 - -> E4 [[psysml:6834d0f3-19d8-44ac-95f5-e8bc4db68e8a ]] \r\n",
       "E4 - -> E5 [[psysml:02aceb33-1759-43f7-b21c-5882a5f834e0 ]] \r\n",
       "E5 - -> E6 [[psysml:f43de8b9-7272-426a-b0aa-70e703f3a468 ]] \r\n",
       "E5 - -> E7 [[psysml:6de5063b-eb84-4499-9c8a-3a0354e3d885 ]] \r\n",
       "@enduml\r\n",
       "\n",
       "PlantUML version 1.2020.13(Sat Jun 13 12:26:38 UTC 2020)\n",
       "(EPL source distribution)\n",
       "Java Runtime: OpenJDK Runtime Environment\n",
       "JVM: OpenJDK 64-Bit Server VM\n",
       "Default Encoding: UTF-8\n",
       "Language: en\n",
       "Country: null\n",
       "--></g></svg>"
      ]
     },
     "execution_count": 36,
     "metadata": {},
     "output_type": "execute_result"
    }
   ],
   "source": [
    "%viz --style=\"PLANTUML\" --view=\"MIXED\" \"ControlNodeTest\""
   ]
  },
  {
   "cell_type": "code",
   "execution_count": 37,
   "id": "numerical-hudson",
   "metadata": {
    "execution": {
     "iopub.execute_input": "2021-03-26T15:42:09.979908Z",
     "iopub.status.busy": "2021-03-26T15:42:09.979557Z",
     "iopub.status.idle": "2021-03-26T15:42:10.010260Z",
     "shell.execute_reply": "2021-03-26T15:42:10.009988Z"
    }
   },
   "outputs": [
    {
     "data": {
      "image/svg+xml": [
       "<?xml version=\"1.0\" encoding=\"UTF-8\" standalone=\"no\"?><svg xmlns=\"http://www.w3.org/2000/svg\" xmlns:xlink=\"http://www.w3.org/1999/xlink\" contentScriptType=\"application/ecmascript\" contentStyleType=\"text/css\" height=\"367px\" preserveAspectRatio=\"none\" style=\"width:205px;height:367px;\" version=\"1.1\" viewBox=\"0 0 205 367\" width=\"205px\" zoomAndPan=\"magnify\"><defs/><g><!--MD5=[fbc87193dbaf4d95561dea2c320d4a47]\n",
       "cluster E1--><a href=\"psysml:8a19e2dd-7f31-4291-b841-c8e7ad6ceaae\" target=\"_top\" title=\"psysml:8a19e2dd-7f31-4291-b841-c8e7ad6ceaae\" xlink:actuate=\"onRequest\" xlink:href=\"psysml:8a19e2dd-7f31-4291-b841-c8e7ad6ceaae\" xlink:show=\"new\" xlink:title=\"psysml:8a19e2dd-7f31-4291-b841-c8e7ad6ceaae\" xlink:type=\"simple\"><rect fill=\"#FFFFFF\" height=\"349\" id=\"E1\" style=\"stroke: #383838; stroke-width: 1.5;\" width=\"187\" x=\"7\" y=\"7\"/><rect fill=\"#F8F8F8\" height=\"37.9375\" style=\"stroke: #383838; stroke-width: 1.5;\" width=\"187\" x=\"7\" y=\"7\"/><text fill=\"#000000\" font-family=\"sans-serif\" font-size=\"12\" font-style=\"italic\" lengthAdjust=\"spacingAndGlyphs\" textLength=\"77\" x=\"62\" y=\"23.1387\">«action def»</text><text fill=\"#000000\" font-family=\"sans-serif\" font-size=\"12\" lengthAdjust=\"spacingAndGlyphs\" textLength=\"105\" x=\"48\" y=\"37.1074\">ControlNodeTest</text></a><rect fill=\"#000000\" height=\"8\" style=\"stroke: none; stroke-width: 1.0;\" width=\"80\" x=\"60\" y=\"161\"/><rect fill=\"#000000\" height=\"8\" style=\"stroke: none; stroke-width: 1.0;\" width=\"80\" x=\"60\" y=\"229\"/><g id=\"E1.E2\"><a href=\"psysml:63691cb2-c1ae-4262-a628-287378f10d06\" target=\"_top\" title=\"psysml:63691cb2-c1ae-4262-a628-287378f10d06\" xlink:actuate=\"onRequest\" xlink:href=\"psysml:63691cb2-c1ae-4262-a628-287378f10d06\" xlink:show=\"new\" xlink:title=\"psysml:63691cb2-c1ae-4262-a628-287378f10d06\" xlink:type=\"simple\"><rect fill=\"#FFFFFF\" height=\"42.9375\" id=\"E2\" rx=\"10\" ry=\"10\" style=\"stroke: #383838; stroke-width: 1.5;\" width=\"60\" x=\"118\" y=\"58\"/><rect fill=\"#F8F8F8\" height=\"37.9375\" rx=\"10\" ry=\"10\" style=\"stroke: #F8F8F8; stroke-width: 1.5;\" width=\"60\" x=\"118\" y=\"58\"/><rect fill=\"#F8F8F8\" height=\"10\" style=\"stroke: #F8F8F8; stroke-width: 1.5;\" width=\"60\" x=\"118\" y=\"85.9375\"/><rect fill=\"none\" height=\"42.9375\" id=\"E2\" rx=\"10\" ry=\"10\" style=\"stroke: #383838; stroke-width: 1.5;\" width=\"60\" x=\"118\" y=\"58\"/><text fill=\"#000000\" font-family=\"sans-serif\" font-size=\"12\" font-style=\"italic\" lengthAdjust=\"spacingAndGlyphs\" textLength=\"53\" x=\"121.5\" y=\"74.1387\">«action»</text><text fill=\"#000000\" font-family=\"sans-serif\" font-size=\"12\" lengthAdjust=\"spacingAndGlyphs\" textLength=\"16\" x=\"140\" y=\"88.1074\">A1</text></a></g><g id=\"E1.E3\"><a href=\"psysml:c6acf79a-793e-4497-aa33-887aafacc071\" target=\"_top\" title=\"psysml:c6acf79a-793e-4497-aa33-887aafacc071\" xlink:actuate=\"onRequest\" xlink:href=\"psysml:c6acf79a-793e-4497-aa33-887aafacc071\" xlink:show=\"new\" xlink:title=\"psysml:c6acf79a-793e-4497-aa33-887aafacc071\" xlink:type=\"simple\"><rect fill=\"#FFFFFF\" height=\"42.9375\" id=\"E3\" rx=\"10\" ry=\"10\" style=\"stroke: #383838; stroke-width: 1.5;\" width=\"60\" x=\"23\" y=\"58\"/><rect fill=\"#F8F8F8\" height=\"37.9375\" rx=\"10\" ry=\"10\" style=\"stroke: #F8F8F8; stroke-width: 1.5;\" width=\"60\" x=\"23\" y=\"58\"/><rect fill=\"#F8F8F8\" height=\"10\" style=\"stroke: #F8F8F8; stroke-width: 1.5;\" width=\"60\" x=\"23\" y=\"85.9375\"/><rect fill=\"none\" height=\"42.9375\" id=\"E3\" rx=\"10\" ry=\"10\" style=\"stroke: #383838; stroke-width: 1.5;\" width=\"60\" x=\"23\" y=\"58\"/><text fill=\"#000000\" font-family=\"sans-serif\" font-size=\"12\" font-style=\"italic\" lengthAdjust=\"spacingAndGlyphs\" textLength=\"53\" x=\"26.5\" y=\"74.1387\">«action»</text><text fill=\"#000000\" font-family=\"sans-serif\" font-size=\"12\" lengthAdjust=\"spacingAndGlyphs\" textLength=\"16\" x=\"45\" y=\"88.1074\">A2</text></a></g><g id=\"E1.E6\"><a href=\"psysml:2beb575e-cdbc-464e-9dd9-fc16008b4aec\" target=\"_top\" title=\"psysml:2beb575e-cdbc-464e-9dd9-fc16008b4aec\" xlink:actuate=\"onRequest\" xlink:href=\"psysml:2beb575e-cdbc-464e-9dd9-fc16008b4aec\" xlink:show=\"new\" xlink:title=\"psysml:2beb575e-cdbc-464e-9dd9-fc16008b4aec\" xlink:type=\"simple\"><rect fill=\"#FFFFFF\" height=\"42.9375\" id=\"E6\" rx=\"10\" ry=\"10\" style=\"stroke: #383838; stroke-width: 1.5;\" width=\"60\" x=\"23\" y=\"297\"/><rect fill=\"#F8F8F8\" height=\"37.9375\" rx=\"10\" ry=\"10\" style=\"stroke: #F8F8F8; stroke-width: 1.5;\" width=\"60\" x=\"23\" y=\"297\"/><rect fill=\"#F8F8F8\" height=\"10\" style=\"stroke: #F8F8F8; stroke-width: 1.5;\" width=\"60\" x=\"23\" y=\"324.9375\"/><rect fill=\"none\" height=\"42.9375\" id=\"E6\" rx=\"10\" ry=\"10\" style=\"stroke: #383838; stroke-width: 1.5;\" width=\"60\" x=\"23\" y=\"297\"/><text fill=\"#000000\" font-family=\"sans-serif\" font-size=\"12\" font-style=\"italic\" lengthAdjust=\"spacingAndGlyphs\" textLength=\"53\" x=\"26.5\" y=\"313.1387\">«action»</text><text fill=\"#000000\" font-family=\"sans-serif\" font-size=\"12\" lengthAdjust=\"spacingAndGlyphs\" textLength=\"16\" x=\"45\" y=\"327.1074\">B1</text></a></g><g id=\"E1.E7\"><a href=\"psysml:18cbd039-fda1-47ea-ae1e-03ddeff777e2\" target=\"_top\" title=\"psysml:18cbd039-fda1-47ea-ae1e-03ddeff777e2\" xlink:actuate=\"onRequest\" xlink:href=\"psysml:18cbd039-fda1-47ea-ae1e-03ddeff777e2\" xlink:show=\"new\" xlink:title=\"psysml:18cbd039-fda1-47ea-ae1e-03ddeff777e2\" xlink:type=\"simple\"><rect fill=\"#FFFFFF\" height=\"42.9375\" id=\"E7\" rx=\"10\" ry=\"10\" style=\"stroke: #383838; stroke-width: 1.5;\" width=\"60\" x=\"118\" y=\"297\"/><rect fill=\"#F8F8F8\" height=\"37.9375\" rx=\"10\" ry=\"10\" style=\"stroke: #F8F8F8; stroke-width: 1.5;\" width=\"60\" x=\"118\" y=\"297\"/><rect fill=\"#F8F8F8\" height=\"10\" style=\"stroke: #F8F8F8; stroke-width: 1.5;\" width=\"60\" x=\"118\" y=\"324.9375\"/><rect fill=\"none\" height=\"42.9375\" id=\"E7\" rx=\"10\" ry=\"10\" style=\"stroke: #383838; stroke-width: 1.5;\" width=\"60\" x=\"118\" y=\"297\"/><text fill=\"#000000\" font-family=\"sans-serif\" font-size=\"12\" font-style=\"italic\" lengthAdjust=\"spacingAndGlyphs\" textLength=\"53\" x=\"121.5\" y=\"313.1387\">«action»</text><text fill=\"#000000\" font-family=\"sans-serif\" font-size=\"12\" lengthAdjust=\"spacingAndGlyphs\" textLength=\"16\" x=\"140\" y=\"327.1074\">B2</text></a></g><!--MD5=[4d03bb2d0377dc85ccfab60ff574652b]\n",
       "link E2 to E4--><a href=\"psysml:32927b08-9b1f-4059-96b6-74ea858c5377\" target=\"_top\" title=\"psysml:32927b08-9b1f-4059-96b6-74ea858c5377\" xlink:actuate=\"onRequest\" xlink:href=\"psysml:32927b08-9b1f-4059-96b6-74ea858c5377\" xlink:show=\"new\" xlink:title=\"psysml:32927b08-9b1f-4059-96b6-74ea858c5377\" xlink:type=\"simple\"><path d=\"M136.13,101.14 C125.84,119.06 111.49,144.01 104.37,156.4 \" fill=\"none\" id=\"E2-&gt;E4\" style=\"stroke: #383838; stroke-width: 1.0;\"/><polygon fill=\"#383838\" points=\"101.79,160.88,109.7406,155.0673,104.2799,156.5441,102.8031,151.0834,101.79,160.88\" style=\"stroke: #383838; stroke-width: 1.0;\"/></a><!--MD5=[af87c684e3b0d8be13c1a698a818ef1e]\n",
       "link E3 to E4--><a href=\"psysml:6834d0f3-19d8-44ac-95f5-e8bc4db68e8a\" target=\"_top\" title=\"psysml:6834d0f3-19d8-44ac-95f5-e8bc4db68e8a\" xlink:actuate=\"onRequest\" xlink:href=\"psysml:6834d0f3-19d8-44ac-95f5-e8bc4db68e8a\" xlink:show=\"new\" xlink:title=\"psysml:6834d0f3-19d8-44ac-95f5-e8bc4db68e8a\" xlink:type=\"simple\"><path d=\"M64.62,101.14 C74.7,119.06 88.75,144.01 95.72,156.4 \" fill=\"none\" id=\"E3-&gt;E4\" style=\"stroke: #383838; stroke-width: 1.0;\"/><polygon fill=\"#383838\" points=\"98.25,160.88,97.3377,151.0735,95.8048,156.5187,90.3596,154.9858,98.25,160.88\" style=\"stroke: #383838; stroke-width: 1.0;\"/></a><!--MD5=[1b7591eae5389033d8d09a9d6721a717]\n",
       "link E4 to E5--><a href=\"psysml:02aceb33-1759-43f7-b21c-5882a5f834e0\" target=\"_top\" title=\"psysml:02aceb33-1759-43f7-b21c-5882a5f834e0\" xlink:actuate=\"onRequest\" xlink:href=\"psysml:02aceb33-1759-43f7-b21c-5882a5f834e0\" xlink:show=\"new\" xlink:title=\"psysml:02aceb33-1759-43f7-b21c-5882a5f834e0\" xlink:type=\"simple\"><path d=\"M100,169.18 C100,178.92 100,208.52 100,223.34 \" fill=\"none\" id=\"E4-&gt;E5\" style=\"stroke: #383838; stroke-width: 1.0;\"/><polygon fill=\"#383838\" points=\"100,228.69,104,219.69,100,223.69,96,219.69,100,228.69\" style=\"stroke: #383838; stroke-width: 1.0;\"/></a><!--MD5=[9120cf2e5df3bff93db8f754bbbc09b4]\n",
       "link E5 to E6--><a href=\"psysml:f43de8b9-7272-426a-b0aa-70e703f3a468\" target=\"_top\" title=\"psysml:f43de8b9-7272-426a-b0aa-70e703f3a468\" xlink:actuate=\"onRequest\" xlink:href=\"psysml:f43de8b9-7272-426a-b0aa-70e703f3a468\" xlink:show=\"new\" xlink:title=\"psysml:f43de8b9-7272-426a-b0aa-70e703f3a468\" xlink:type=\"simple\"><path d=\"M98.21,237.17 C93.16,246.14 78.41,272.36 67.11,292.43 \" fill=\"none\" id=\"E5-&gt;E6\" style=\"stroke: #383838; stroke-width: 1.0;\"/><polygon fill=\"#383838\" points=\"64.61,296.87,72.5151,290.9955,67.0661,292.5148,65.5467,287.0658,64.61,296.87\" style=\"stroke: #383838; stroke-width: 1.0;\"/></a><!--MD5=[3a9b96bfbf6b6ad89c494e81751bda47]\n",
       "link E5 to E7--><a href=\"psysml:6de5063b-eb84-4499-9c8a-3a0354e3d885\" target=\"_top\" title=\"psysml:6de5063b-eb84-4499-9c8a-3a0354e3d885\" xlink:actuate=\"onRequest\" xlink:href=\"psysml:6de5063b-eb84-4499-9c8a-3a0354e3d885\" xlink:show=\"new\" xlink:title=\"psysml:6de5063b-eb84-4499-9c8a-3a0354e3d885\" xlink:type=\"simple\"><path d=\"M101.82,237.17 C106.98,246.14 122.05,272.36 133.59,292.43 \" fill=\"none\" id=\"E5-&gt;E7\" style=\"stroke: #383838; stroke-width: 1.0;\"/><polygon fill=\"#383838\" points=\"136.14,296.87,135.1269,287.0734,133.6501,292.5341,128.1894,291.0573,136.14,296.87\" style=\"stroke: #383838; stroke-width: 1.0;\"/></a><!--MD5=[a99c491acf32c3ee7b72615c2f08ecd0]\n",
       "@startuml\r\n",
       "skinparam monochrome true\r\n",
       "skinparam classbackgroundcolor white\r\n",
       "skinparam shadowing false\r\n",
       "skinparam wrapWidth 300\r\n",
       "hide circle\r\n",
       "\r\n",
       "rec def \"ControlNodeTest\" as E1  <<(T,blue)action def>> [[psysml:8a19e2dd-7f31-4291-b841-c8e7ad6ceaae ]] {\r\n",
       "rec usage \"A1\" as E2  <<(T,blue)action>> [[psysml:63691cb2-c1ae-4262-a628-287378f10d06 ]] {\r\n",
       "}\r\n",
       "\r\n",
       "rec usage \"A2\" as E3  <<(T,blue)action>> [[psysml:c6acf79a-793e-4497-aa33-887aafacc071 ]] {\r\n",
       "}\r\n",
       "\r\n",
       "join \"J\" as E4  [[psysml:9118671e-8e40-41ce-bc29-e44727581a0d ]] \r\n",
       "fork \"F\" as E5  [[psysml:3c4d5a48-0835-4406-bc0d-d635a7475922 ]] \r\n",
       "rec usage \"B1\" as E6  <<(T,blue)action>> [[psysml:2beb575e-cdbc-464e-9dd9-fc16008b4aec ]] {\r\n",
       "}\r\n",
       "\r\n",
       "rec usage \"B2\" as E7  <<(T,blue)action>> [[psysml:18cbd039-fda1-47ea-ae1e-03ddeff777e2 ]] {\r\n",
       "}\r\n",
       "\r\n",
       "}\r\n",
       "\r\n",
       "E2 - -> E4 [[psysml:32927b08-9b1f-4059-96b6-74ea858c5377 ]] \r\n",
       "E3 - -> E4 [[psysml:6834d0f3-19d8-44ac-95f5-e8bc4db68e8a ]] \r\n",
       "E4 - -> E5 [[psysml:02aceb33-1759-43f7-b21c-5882a5f834e0 ]] \r\n",
       "E5 - -> E6 [[psysml:f43de8b9-7272-426a-b0aa-70e703f3a468 ]] \r\n",
       "E5 - -> E7 [[psysml:6de5063b-eb84-4499-9c8a-3a0354e3d885 ]] \r\n",
       "@enduml\r\n",
       "\n",
       "PlantUML version 1.2020.13(Sat Jun 13 12:26:38 UTC 2020)\n",
       "(EPL source distribution)\n",
       "Java Runtime: OpenJDK Runtime Environment\n",
       "JVM: OpenJDK 64-Bit Server VM\n",
       "Default Encoding: UTF-8\n",
       "Language: en\n",
       "Country: null\n",
       "--></g></svg>"
      ]
     },
     "execution_count": 37,
     "metadata": {},
     "output_type": "execute_result"
    }
   ],
   "source": [
    "%viz --style=\"DEFAULT\" --view=\"Default\" \"ControlNodeTest\""
   ]
  },
  {
   "cell_type": "code",
   "execution_count": 38,
   "id": "genetic-silver",
   "metadata": {
    "execution": {
     "iopub.execute_input": "2021-03-26T15:42:10.063218Z",
     "iopub.status.busy": "2021-03-26T15:42:10.062843Z",
     "iopub.status.idle": "2021-03-26T15:42:10.119545Z",
     "shell.execute_reply": "2021-03-26T15:42:10.118966Z"
    }
   },
   "outputs": [
    {
     "data": {
      "image/svg+xml": [
       "<?xml version=\"1.0\" encoding=\"UTF-8\" standalone=\"no\"?><svg xmlns=\"http://www.w3.org/2000/svg\" xmlns:xlink=\"http://www.w3.org/1999/xlink\" contentScriptType=\"application/ecmascript\" contentStyleType=\"text/css\" height=\"191px\" preserveAspectRatio=\"none\" style=\"width:129px;height:191px;\" version=\"1.1\" viewBox=\"0 0 129 191\" width=\"129px\" zoomAndPan=\"magnify\"><defs/><g><!--MD5=[43c9051892ef23e1a46a86907403d788]\n",
       "class E1--><a href=\"psysml:8a19e2dd-7f31-4291-b841-c8e7ad6ceaae\" target=\"_top\" title=\"psysml:8a19e2dd-7f31-4291-b841-c8e7ad6ceaae\" xlink:actuate=\"onRequest\" xlink:href=\"psysml:8a19e2dd-7f31-4291-b841-c8e7ad6ceaae\" xlink:show=\"new\" xlink:title=\"psysml:8a19e2dd-7f31-4291-b841-c8e7ad6ceaae\" xlink:type=\"simple\"><rect fill=\"#FFFFFF\" height=\"173.1797\" id=\"E1\" style=\"stroke: #383838; stroke-width: 1.5;\" width=\"111\" x=\"7\" y=\"7\"/><text fill=\"#000000\" font-family=\"sans-serif\" font-size=\"12\" font-style=\"italic\" lengthAdjust=\"spacingAndGlyphs\" textLength=\"77\" x=\"24\" y=\"23.1387\">«action def»</text><text fill=\"#000000\" font-family=\"sans-serif\" font-size=\"12\" lengthAdjust=\"spacingAndGlyphs\" textLength=\"105\" x=\"10\" y=\"37.1074\">ControlNodeTest</text><line style=\"stroke: #383838; stroke-width: 1.5;\" x1=\"8\" x2=\"117\" y1=\"44.9375\" y2=\"44.9375\"/><text fill=\"#000000\" font-family=\"sans-serif\" font-size=\"11\" lengthAdjust=\"spacingAndGlyphs\" textLength=\"14\" x=\"13\" y=\"75.9526\">A1</text><text fill=\"#000000\" font-family=\"sans-serif\" font-size=\"11\" lengthAdjust=\"spacingAndGlyphs\" textLength=\"14\" x=\"13\" y=\"88.7573\">A2</text><text fill=\"#000000\" font-family=\"sans-serif\" font-size=\"11\" lengthAdjust=\"spacingAndGlyphs\" textLength=\"15\" x=\"13\" y=\"101.562\">B1</text><text fill=\"#000000\" font-family=\"sans-serif\" font-size=\"11\" lengthAdjust=\"spacingAndGlyphs\" textLength=\"15\" x=\"13\" y=\"114.3667\">B2</text><line style=\"stroke: #383838; stroke-width: 1.0;\" x1=\"8\" x2=\"42\" y1=\"59.3398\" y2=\"59.3398\"/><text fill=\"#000000\" font-family=\"sans-serif\" font-size=\"11\" lengthAdjust=\"spacingAndGlyphs\" textLength=\"41\" x=\"42\" y=\"62.6479\">actions</text><line style=\"stroke: #383838; stroke-width: 1.0;\" x1=\"83\" x2=\"117\" y1=\"59.3398\" y2=\"59.3398\"/><text fill=\"#000000\" font-family=\"sans-serif\" font-size=\"11\" lengthAdjust=\"spacingAndGlyphs\" textLength=\"6\" x=\"13\" y=\"143.9761\">F</text><line style=\"stroke: #383838; stroke-width: 1.0;\" x1=\"8\" x2=\"33.5\" y1=\"127.3633\" y2=\"127.3633\"/><text fill=\"#000000\" font-family=\"sans-serif\" font-size=\"11\" lengthAdjust=\"spacingAndGlyphs\" textLength=\"58\" x=\"33.5\" y=\"130.6714\">forkNodes</text><line style=\"stroke: #383838; stroke-width: 1.0;\" x1=\"91.5\" x2=\"117\" y1=\"127.3633\" y2=\"127.3633\"/><text fill=\"#000000\" font-family=\"sans-serif\" font-size=\"11\" lengthAdjust=\"spacingAndGlyphs\" textLength=\"3\" x=\"13\" y=\"173.5854\">J</text><line style=\"stroke: #383838; stroke-width: 1.0;\" x1=\"8\" x2=\"34.5\" y1=\"156.9727\" y2=\"156.9727\"/><text fill=\"#000000\" font-family=\"sans-serif\" font-size=\"11\" lengthAdjust=\"spacingAndGlyphs\" textLength=\"56\" x=\"34.5\" y=\"160.2808\">joinNodes</text><line style=\"stroke: #383838; stroke-width: 1.0;\" x1=\"90.5\" x2=\"117\" y1=\"156.9727\" y2=\"156.9727\"/></a><!--MD5=[381ff8364dc625036a5952abea4bc53b]\n",
       "@startuml\r\n",
       "skinparam monochrome true\r\n",
       "skinparam classbackgroundcolor white\r\n",
       "skinparam shadowing false\r\n",
       "skinparam wrapWidth 300\r\n",
       "hide circle\r\n",
       "\r\n",
       "comp def \"ControlNodeTest\" as E1  <<(T,blue)action def>> [[psysml:8a19e2dd-7f31-4291-b841-c8e7ad6ceaae ]] {\r\n",
       "- - actions - -\r\n",
       "A1\r\n",
       "A2\r\n",
       "B1\r\n",
       "B2\r\n",
       "- - forkNodes - -\r\n",
       "F\r\n",
       "- - joinNodes - -\r\n",
       "J\r\n",
       "}\r\n",
       "@enduml\r\n",
       "\n",
       "PlantUML version 1.2020.13(Sat Jun 13 12:26:38 UTC 2020)\n",
       "(EPL source distribution)\n",
       "Java Runtime: OpenJDK Runtime Environment\n",
       "JVM: OpenJDK 64-Bit Server VM\n",
       "Default Encoding: UTF-8\n",
       "Language: en\n",
       "Country: null\n",
       "--></g></svg>"
      ]
     },
     "execution_count": 38,
     "metadata": {},
     "output_type": "execute_result"
    }
   ],
   "source": [
    "%viz --style=\"DEFAULT\" --view=\"Tree\" \"ControlNodeTest\""
   ]
  },
  {
   "cell_type": "code",
   "execution_count": 39,
   "id": "prerequisite-disabled",
   "metadata": {
    "execution": {
     "iopub.execute_input": "2021-03-26T15:42:10.170775Z",
     "iopub.status.busy": "2021-03-26T15:42:10.170163Z",
     "iopub.status.idle": "2021-03-26T15:42:10.175202Z",
     "shell.execute_reply": "2021-03-26T15:42:10.174917Z"
    }
   },
   "outputs": [
    {
     "data": {
      "image/svg+xml": [
       "<?xml version=\"1.0\" encoding=\"UTF-8\" standalone=\"no\"?><svg xmlns=\"http://www.w3.org/2000/svg\" xmlns:xlink=\"http://www.w3.org/1999/xlink\" contentScriptType=\"application/ecmascript\" contentStyleType=\"text/css\" height=\"12px\" preserveAspectRatio=\"none\" style=\"width:12px;height:12px;\" version=\"1.1\" viewBox=\"0 0 12 12\" width=\"12px\" zoomAndPan=\"magnify\"><defs/><g><!--MD5=[c5f280e076d0d61ccf4b0f27871bda1d]\n",
       "@startuml\r\n",
       "skinparam monochrome true\r\n",
       "skinparam classbackgroundcolor white\r\n",
       "skinparam shadowing false\r\n",
       "skinparam wrapWidth 300\r\n",
       "hide circle\r\n",
       "\r\n",
       "@enduml\r\n",
       "\n",
       "PlantUML version 1.2020.13(Sat Jun 13 12:26:38 UTC 2020)\n",
       "(EPL source distribution)\n",
       "Java Runtime: OpenJDK Runtime Environment\n",
       "JVM: OpenJDK 64-Bit Server VM\n",
       "Default Encoding: UTF-8\n",
       "Language: en\n",
       "Country: null\n",
       "--></g></svg>"
      ]
     },
     "execution_count": 39,
     "metadata": {},
     "output_type": "execute_result"
    }
   ],
   "source": [
    "%viz --style=\"DEFAULT\" --view=\"State\" \"ControlNodeTest\""
   ]
  },
  {
   "cell_type": "code",
   "execution_count": 40,
   "id": "liked-emphasis",
   "metadata": {
    "execution": {
     "iopub.execute_input": "2021-03-26T15:42:10.227924Z",
     "iopub.status.busy": "2021-03-26T15:42:10.227505Z",
     "iopub.status.idle": "2021-03-26T15:42:10.264187Z",
     "shell.execute_reply": "2021-03-26T15:42:10.262468Z"
    }
   },
   "outputs": [
    {
     "data": {
      "image/svg+xml": [
       "<?xml version=\"1.0\" encoding=\"UTF-8\" standalone=\"no\"?><svg xmlns=\"http://www.w3.org/2000/svg\" xmlns:xlink=\"http://www.w3.org/1999/xlink\" contentScriptType=\"application/ecmascript\" contentStyleType=\"text/css\" height=\"217px\" preserveAspectRatio=\"none\" style=\"width:205px;height:217px;\" version=\"1.1\" viewBox=\"0 0 205 217\" width=\"205px\" zoomAndPan=\"magnify\"><defs/><g><!--MD5=[fbc87193dbaf4d95561dea2c320d4a47]\n",
       "cluster E1--><a href=\"psysml:8a19e2dd-7f31-4291-b841-c8e7ad6ceaae\" target=\"_top\" title=\"psysml:8a19e2dd-7f31-4291-b841-c8e7ad6ceaae\" xlink:actuate=\"onRequest\" xlink:href=\"psysml:8a19e2dd-7f31-4291-b841-c8e7ad6ceaae\" xlink:show=\"new\" xlink:title=\"psysml:8a19e2dd-7f31-4291-b841-c8e7ad6ceaae\" xlink:type=\"simple\"><rect fill=\"#FFFFFF\" height=\"199\" id=\"E1\" style=\"stroke: #383838; stroke-width: 1.5;\" width=\"187\" x=\"7\" y=\"7\"/><rect fill=\"#F8F8F8\" height=\"37.9375\" style=\"stroke: #383838; stroke-width: 1.5;\" width=\"187\" x=\"7\" y=\"7\"/><text fill=\"#000000\" font-family=\"sans-serif\" font-size=\"12\" font-style=\"italic\" lengthAdjust=\"spacingAndGlyphs\" textLength=\"77\" x=\"62\" y=\"23.1387\">«action def»</text><text fill=\"#000000\" font-family=\"sans-serif\" font-size=\"12\" lengthAdjust=\"spacingAndGlyphs\" textLength=\"105\" x=\"48\" y=\"37.1074\">ControlNodeTest</text></a><rect fill=\"#000000\" height=\"8\" style=\"stroke: none; stroke-width: 1.0;\" width=\"80\" x=\"60\" y=\"111\"/><rect fill=\"#000000\" height=\"8\" style=\"stroke: none; stroke-width: 1.0;\" width=\"80\" x=\"60\" y=\"129\"/><g id=\"E1.E2\"><a href=\"psysml:63691cb2-c1ae-4262-a628-287378f10d06\" target=\"_top\" title=\"psysml:63691cb2-c1ae-4262-a628-287378f10d06\" xlink:actuate=\"onRequest\" xlink:href=\"psysml:63691cb2-c1ae-4262-a628-287378f10d06\" xlink:show=\"new\" xlink:title=\"psysml:63691cb2-c1ae-4262-a628-287378f10d06\" xlink:type=\"simple\"><rect fill=\"#FFFFFF\" height=\"42.9375\" id=\"E2\" rx=\"10\" ry=\"10\" style=\"stroke: #383838; stroke-width: 1.5;\" width=\"60\" x=\"118\" y=\"58\"/><rect fill=\"#F8F8F8\" height=\"37.9375\" rx=\"10\" ry=\"10\" style=\"stroke: #F8F8F8; stroke-width: 1.5;\" width=\"60\" x=\"118\" y=\"58\"/><rect fill=\"#F8F8F8\" height=\"10\" style=\"stroke: #F8F8F8; stroke-width: 1.5;\" width=\"60\" x=\"118\" y=\"85.9375\"/><rect fill=\"none\" height=\"42.9375\" id=\"E2\" rx=\"10\" ry=\"10\" style=\"stroke: #383838; stroke-width: 1.5;\" width=\"60\" x=\"118\" y=\"58\"/><text fill=\"#000000\" font-family=\"sans-serif\" font-size=\"12\" font-style=\"italic\" lengthAdjust=\"spacingAndGlyphs\" textLength=\"53\" x=\"121.5\" y=\"74.1387\">«action»</text><text fill=\"#000000\" font-family=\"sans-serif\" font-size=\"12\" lengthAdjust=\"spacingAndGlyphs\" textLength=\"16\" x=\"140\" y=\"88.1074\">A1</text></a></g><g id=\"E1.E3\"><a href=\"psysml:c6acf79a-793e-4497-aa33-887aafacc071\" target=\"_top\" title=\"psysml:c6acf79a-793e-4497-aa33-887aafacc071\" xlink:actuate=\"onRequest\" xlink:href=\"psysml:c6acf79a-793e-4497-aa33-887aafacc071\" xlink:show=\"new\" xlink:title=\"psysml:c6acf79a-793e-4497-aa33-887aafacc071\" xlink:type=\"simple\"><rect fill=\"#FFFFFF\" height=\"42.9375\" id=\"E3\" rx=\"10\" ry=\"10\" style=\"stroke: #383838; stroke-width: 1.5;\" width=\"60\" x=\"23\" y=\"58\"/><rect fill=\"#F8F8F8\" height=\"37.9375\" rx=\"10\" ry=\"10\" style=\"stroke: #F8F8F8; stroke-width: 1.5;\" width=\"60\" x=\"23\" y=\"58\"/><rect fill=\"#F8F8F8\" height=\"10\" style=\"stroke: #F8F8F8; stroke-width: 1.5;\" width=\"60\" x=\"23\" y=\"85.9375\"/><rect fill=\"none\" height=\"42.9375\" id=\"E3\" rx=\"10\" ry=\"10\" style=\"stroke: #383838; stroke-width: 1.5;\" width=\"60\" x=\"23\" y=\"58\"/><text fill=\"#000000\" font-family=\"sans-serif\" font-size=\"12\" font-style=\"italic\" lengthAdjust=\"spacingAndGlyphs\" textLength=\"53\" x=\"26.5\" y=\"74.1387\">«action»</text><text fill=\"#000000\" font-family=\"sans-serif\" font-size=\"12\" lengthAdjust=\"spacingAndGlyphs\" textLength=\"16\" x=\"45\" y=\"88.1074\">A2</text></a></g><g id=\"E1.E6\"><a href=\"psysml:2beb575e-cdbc-464e-9dd9-fc16008b4aec\" target=\"_top\" title=\"psysml:2beb575e-cdbc-464e-9dd9-fc16008b4aec\" xlink:actuate=\"onRequest\" xlink:href=\"psysml:2beb575e-cdbc-464e-9dd9-fc16008b4aec\" xlink:show=\"new\" xlink:title=\"psysml:2beb575e-cdbc-464e-9dd9-fc16008b4aec\" xlink:type=\"simple\"><rect fill=\"#FFFFFF\" height=\"42.9375\" id=\"E6\" rx=\"10\" ry=\"10\" style=\"stroke: #383838; stroke-width: 1.5;\" width=\"60\" x=\"23\" y=\"147\"/><rect fill=\"#F8F8F8\" height=\"37.9375\" rx=\"10\" ry=\"10\" style=\"stroke: #F8F8F8; stroke-width: 1.5;\" width=\"60\" x=\"23\" y=\"147\"/><rect fill=\"#F8F8F8\" height=\"10\" style=\"stroke: #F8F8F8; stroke-width: 1.5;\" width=\"60\" x=\"23\" y=\"174.9375\"/><rect fill=\"none\" height=\"42.9375\" id=\"E6\" rx=\"10\" ry=\"10\" style=\"stroke: #383838; stroke-width: 1.5;\" width=\"60\" x=\"23\" y=\"147\"/><text fill=\"#000000\" font-family=\"sans-serif\" font-size=\"12\" font-style=\"italic\" lengthAdjust=\"spacingAndGlyphs\" textLength=\"53\" x=\"26.5\" y=\"163.1387\">«action»</text><text fill=\"#000000\" font-family=\"sans-serif\" font-size=\"12\" lengthAdjust=\"spacingAndGlyphs\" textLength=\"16\" x=\"45\" y=\"177.1074\">B1</text></a></g><g id=\"E1.E7\"><a href=\"psysml:18cbd039-fda1-47ea-ae1e-03ddeff777e2\" target=\"_top\" title=\"psysml:18cbd039-fda1-47ea-ae1e-03ddeff777e2\" xlink:actuate=\"onRequest\" xlink:href=\"psysml:18cbd039-fda1-47ea-ae1e-03ddeff777e2\" xlink:show=\"new\" xlink:title=\"psysml:18cbd039-fda1-47ea-ae1e-03ddeff777e2\" xlink:type=\"simple\"><rect fill=\"#FFFFFF\" height=\"42.9375\" id=\"E7\" rx=\"10\" ry=\"10\" style=\"stroke: #383838; stroke-width: 1.5;\" width=\"60\" x=\"118\" y=\"147\"/><rect fill=\"#F8F8F8\" height=\"37.9375\" rx=\"10\" ry=\"10\" style=\"stroke: #F8F8F8; stroke-width: 1.5;\" width=\"60\" x=\"118\" y=\"147\"/><rect fill=\"#F8F8F8\" height=\"10\" style=\"stroke: #F8F8F8; stroke-width: 1.5;\" width=\"60\" x=\"118\" y=\"174.9375\"/><rect fill=\"none\" height=\"42.9375\" id=\"E7\" rx=\"10\" ry=\"10\" style=\"stroke: #383838; stroke-width: 1.5;\" width=\"60\" x=\"118\" y=\"147\"/><text fill=\"#000000\" font-family=\"sans-serif\" font-size=\"12\" font-style=\"italic\" lengthAdjust=\"spacingAndGlyphs\" textLength=\"53\" x=\"121.5\" y=\"163.1387\">«action»</text><text fill=\"#000000\" font-family=\"sans-serif\" font-size=\"12\" lengthAdjust=\"spacingAndGlyphs\" textLength=\"16\" x=\"140\" y=\"177.1074\">B2</text></a></g><!--MD5=[4d03bb2d0377dc85ccfab60ff574652b]\n",
       "link E2 to E4--><a href=\"psysml:32927b08-9b1f-4059-96b6-74ea858c5377\" target=\"_top\" title=\"psysml:32927b08-9b1f-4059-96b6-74ea858c5377\" xlink:actuate=\"onRequest\" xlink:href=\"psysml:32927b08-9b1f-4059-96b6-74ea858c5377\" xlink:show=\"new\" xlink:title=\"psysml:32927b08-9b1f-4059-96b6-74ea858c5377\" xlink:type=\"simple\"><path d=\"M118.42,101.14 C114.95,103.57 111.64,105.88 108.81,107.85 \" fill=\"none\" id=\"E2-&gt;E4\" style=\"stroke: #383838; stroke-width: 1.0;\"/><polygon fill=\"#383838\" points=\"104.3,111,113.9709,109.1361,108.4022,108.1413,109.397,102.5726,104.3,111\" style=\"stroke: #383838; stroke-width: 1.0;\"/></a><!--MD5=[af87c684e3b0d8be13c1a698a818ef1e]\n",
       "link E3 to E4--><a href=\"psysml:6834d0f3-19d8-44ac-95f5-e8bc4db68e8a\" target=\"_top\" title=\"psysml:6834d0f3-19d8-44ac-95f5-e8bc4db68e8a\" xlink:actuate=\"onRequest\" xlink:href=\"psysml:6834d0f3-19d8-44ac-95f5-e8bc4db68e8a\" xlink:show=\"new\" xlink:title=\"psysml:6834d0f3-19d8-44ac-95f5-e8bc4db68e8a\" xlink:type=\"simple\"><path d=\"M81.96,101.14 C85.36,103.57 88.6,105.88 91.37,107.85 \" fill=\"none\" id=\"E3-&gt;E4\" style=\"stroke: #383838; stroke-width: 1.0;\"/><polygon fill=\"#383838\" points=\"95.79,111,90.7801,102.5206,91.7175,108.0992,86.1388,109.0366,95.79,111\" style=\"stroke: #383838; stroke-width: 1.0;\"/></a><!--MD5=[1b7591eae5389033d8d09a9d6721a717]\n",
       "link E4 to E5--><a href=\"psysml:02aceb33-1759-43f7-b21c-5882a5f834e0\" target=\"_top\" title=\"psysml:02aceb33-1759-43f7-b21c-5882a5f834e0\" xlink:actuate=\"onRequest\" xlink:href=\"psysml:02aceb33-1759-43f7-b21c-5882a5f834e0\" xlink:show=\"new\" xlink:title=\"psysml:02aceb33-1759-43f7-b21c-5882a5f834e0\" xlink:type=\"simple\"><path d=\"M100,119.08 C100,120.38 100,121.95 100,123.55 \" fill=\"none\" id=\"E4-&gt;E5\" style=\"stroke: #383838; stroke-width: 1.0;\"/><polygon fill=\"#383838\" points=\"100,128.7,104,119.7,100,123.7,96,119.7,100,128.7\" style=\"stroke: #383838; stroke-width: 1.0;\"/></a><!--MD5=[9120cf2e5df3bff93db8f754bbbc09b4]\n",
       "link E5 to E6--><a href=\"psysml:f43de8b9-7272-426a-b0aa-70e703f3a468\" target=\"_top\" title=\"psysml:f43de8b9-7272-426a-b0aa-70e703f3a468\" xlink:actuate=\"onRequest\" xlink:href=\"psysml:f43de8b9-7272-426a-b0aa-70e703f3a468\" xlink:show=\"new\" xlink:title=\"psysml:f43de8b9-7272-426a-b0aa-70e703f3a468\" xlink:type=\"simple\"><path d=\"M95.66,137.09 C93.25,138.81 89.99,141.13 86.35,143.73 \" fill=\"none\" id=\"E5-&gt;E6\" style=\"stroke: #383838; stroke-width: 1.0;\"/><polygon fill=\"#383838\" points=\"81.93,146.88,91.5812,144.9166,86.0025,143.9792,86.9399,138.4006,81.93,146.88\" style=\"stroke: #383838; stroke-width: 1.0;\"/></a><!--MD5=[3a9b96bfbf6b6ad89c494e81751bda47]\n",
       "link E5 to E7--><a href=\"psysml:6de5063b-eb84-4499-9c8a-3a0354e3d885\" target=\"_top\" title=\"psysml:6de5063b-eb84-4499-9c8a-3a0354e3d885\" xlink:actuate=\"onRequest\" xlink:href=\"psysml:6de5063b-eb84-4499-9c8a-3a0354e3d885\" xlink:show=\"new\" xlink:title=\"psysml:6de5063b-eb84-4499-9c8a-3a0354e3d885\" xlink:type=\"simple\"><path d=\"M104.43,137.09 C106.9,138.81 110.22,141.13 113.94,143.73 \" fill=\"none\" id=\"E5-&gt;E7\" style=\"stroke: #383838; stroke-width: 1.0;\"/><polygon fill=\"#383838\" points=\"118.46,146.88,113.3827,138.4407,114.3645,144.0117,108.7935,144.9935,118.46,146.88\" style=\"stroke: #383838; stroke-width: 1.0;\"/></a><!--MD5=[5819237e5cce6f97261ba6f209558ff9]\n",
       "@startuml\r\n",
       "skinparam ranksep 10\r\n",
       "skinparam rectangle {\r\n",
       " backgroundColor<<block>> LightGreen\r\n",
       "}\r\n",
       "skinparam monochrome true\r\n",
       "skinparam classbackgroundcolor white\r\n",
       "skinparam shadowing false\r\n",
       "skinparam wrapWidth 300\r\n",
       "hide circle\r\n",
       "\r\n",
       "rec def \"ControlNodeTest\" as E1  <<(T,blue)action def>> [[psysml:8a19e2dd-7f31-4291-b841-c8e7ad6ceaae ]] {\r\n",
       "rec usage \"A1\" as E2  <<(T,blue)action>> [[psysml:63691cb2-c1ae-4262-a628-287378f10d06 ]] {\r\n",
       "}\r\n",
       "\r\n",
       "rec usage \"A2\" as E3  <<(T,blue)action>> [[psysml:c6acf79a-793e-4497-aa33-887aafacc071 ]] {\r\n",
       "}\r\n",
       "\r\n",
       "join \"J\" as E4  [[psysml:9118671e-8e40-41ce-bc29-e44727581a0d ]] \r\n",
       "fork \"F\" as E5  [[psysml:3c4d5a48-0835-4406-bc0d-d635a7475922 ]] \r\n",
       "rec usage \"B1\" as E6  <<(T,blue)action>> [[psysml:2beb575e-cdbc-464e-9dd9-fc16008b4aec ]] {\r\n",
       "}\r\n",
       "\r\n",
       "rec usage \"B2\" as E7  <<(T,blue)action>> [[psysml:18cbd039-fda1-47ea-ae1e-03ddeff777e2 ]] {\r\n",
       "}\r\n",
       "\r\n",
       "}\r\n",
       "\r\n",
       "E2 - -> E4 [[psysml:32927b08-9b1f-4059-96b6-74ea858c5377 ]] \r\n",
       "E3 - -> E4 [[psysml:6834d0f3-19d8-44ac-95f5-e8bc4db68e8a ]] \r\n",
       "E4 - -> E5 [[psysml:02aceb33-1759-43f7-b21c-5882a5f834e0 ]] \r\n",
       "E5 - -> E6 [[psysml:f43de8b9-7272-426a-b0aa-70e703f3a468 ]] \r\n",
       "E5 - -> E7 [[psysml:6de5063b-eb84-4499-9c8a-3a0354e3d885 ]] \r\n",
       "@enduml\r\n",
       "\n",
       "PlantUML version 1.2020.13(Sat Jun 13 12:26:38 UTC 2020)\n",
       "(EPL source distribution)\n",
       "Java Runtime: OpenJDK Runtime Environment\n",
       "JVM: OpenJDK 64-Bit Server VM\n",
       "Default Encoding: UTF-8\n",
       "Language: en\n",
       "Country: null\n",
       "--></g></svg>"
      ]
     },
     "execution_count": 40,
     "metadata": {},
     "output_type": "execute_result"
    }
   ],
   "source": [
    "%viz --style=\"DEFAULT\" --view=\"Interconnection\" \"ControlNodeTest\""
   ]
  },
  {
   "cell_type": "code",
   "execution_count": 41,
   "id": "convenient-charlotte",
   "metadata": {
    "execution": {
     "iopub.execute_input": "2021-03-26T15:42:10.313674Z",
     "iopub.status.busy": "2021-03-26T15:42:10.313344Z",
     "iopub.status.idle": "2021-03-26T15:42:10.340412Z",
     "shell.execute_reply": "2021-03-26T15:42:10.339403Z"
    }
   },
   "outputs": [
    {
     "data": {
      "image/svg+xml": [
       "<?xml version=\"1.0\" encoding=\"UTF-8\" standalone=\"no\"?><svg xmlns=\"http://www.w3.org/2000/svg\" xmlns:xlink=\"http://www.w3.org/1999/xlink\" contentScriptType=\"application/ecmascript\" contentStyleType=\"text/css\" height=\"211px\" preserveAspectRatio=\"none\" style=\"width:205px;height:211px;\" version=\"1.1\" viewBox=\"0 0 205 211\" width=\"205px\" zoomAndPan=\"magnify\"><defs/><g><!--MD5=[fbc87193dbaf4d95561dea2c320d4a47]\n",
       "cluster E1--><a href=\"psysml:8a19e2dd-7f31-4291-b841-c8e7ad6ceaae\" target=\"_top\" title=\"psysml:8a19e2dd-7f31-4291-b841-c8e7ad6ceaae\" xlink:actuate=\"onRequest\" xlink:href=\"psysml:8a19e2dd-7f31-4291-b841-c8e7ad6ceaae\" xlink:show=\"new\" xlink:title=\"psysml:8a19e2dd-7f31-4291-b841-c8e7ad6ceaae\" xlink:type=\"simple\"><rect fill=\"#FFFFFF\" height=\"193\" id=\"E1\" style=\"stroke: #383838; stroke-width: 1.5;\" width=\"187\" x=\"7\" y=\"7\"/><rect fill=\"#F8F8F8\" height=\"37.9375\" style=\"stroke: #383838; stroke-width: 1.5;\" width=\"187\" x=\"7\" y=\"7\"/><text fill=\"#000000\" font-family=\"sans-serif\" font-size=\"12\" font-style=\"italic\" lengthAdjust=\"spacingAndGlyphs\" textLength=\"77\" x=\"62\" y=\"23.1387\">«action def»</text><text fill=\"#000000\" font-family=\"sans-serif\" font-size=\"12\" lengthAdjust=\"spacingAndGlyphs\" textLength=\"105\" x=\"48\" y=\"37.1074\">ControlNodeTest</text></a><rect fill=\"#000000\" height=\"8\" style=\"stroke: none; stroke-width: 1.0;\" width=\"80\" x=\"60\" y=\"109\"/><rect fill=\"#000000\" height=\"8\" style=\"stroke: none; stroke-width: 1.0;\" width=\"80\" x=\"60\" y=\"125\"/><g id=\"E1.E2\"><a href=\"psysml:63691cb2-c1ae-4262-a628-287378f10d06\" target=\"_top\" title=\"psysml:63691cb2-c1ae-4262-a628-287378f10d06\" xlink:actuate=\"onRequest\" xlink:href=\"psysml:63691cb2-c1ae-4262-a628-287378f10d06\" xlink:show=\"new\" xlink:title=\"psysml:63691cb2-c1ae-4262-a628-287378f10d06\" xlink:type=\"simple\"><rect fill=\"#FFFFFF\" height=\"42.9375\" id=\"E2\" rx=\"10\" ry=\"10\" style=\"stroke: #383838; stroke-width: 1.5;\" width=\"60\" x=\"118\" y=\"58\"/><rect fill=\"#F8F8F8\" height=\"37.9375\" rx=\"10\" ry=\"10\" style=\"stroke: #F8F8F8; stroke-width: 1.5;\" width=\"60\" x=\"118\" y=\"58\"/><rect fill=\"#F8F8F8\" height=\"10\" style=\"stroke: #F8F8F8; stroke-width: 1.5;\" width=\"60\" x=\"118\" y=\"85.9375\"/><rect fill=\"none\" height=\"42.9375\" id=\"E2\" rx=\"10\" ry=\"10\" style=\"stroke: #383838; stroke-width: 1.5;\" width=\"60\" x=\"118\" y=\"58\"/><text fill=\"#000000\" font-family=\"sans-serif\" font-size=\"12\" font-style=\"italic\" lengthAdjust=\"spacingAndGlyphs\" textLength=\"53\" x=\"121.5\" y=\"74.1387\">«action»</text><text fill=\"#000000\" font-family=\"sans-serif\" font-size=\"12\" lengthAdjust=\"spacingAndGlyphs\" textLength=\"16\" x=\"140\" y=\"88.1074\">A1</text></a></g><g id=\"E1.E3\"><a href=\"psysml:c6acf79a-793e-4497-aa33-887aafacc071\" target=\"_top\" title=\"psysml:c6acf79a-793e-4497-aa33-887aafacc071\" xlink:actuate=\"onRequest\" xlink:href=\"psysml:c6acf79a-793e-4497-aa33-887aafacc071\" xlink:show=\"new\" xlink:title=\"psysml:c6acf79a-793e-4497-aa33-887aafacc071\" xlink:type=\"simple\"><rect fill=\"#FFFFFF\" height=\"42.9375\" id=\"E3\" rx=\"10\" ry=\"10\" style=\"stroke: #383838; stroke-width: 1.5;\" width=\"60\" x=\"23\" y=\"58\"/><rect fill=\"#F8F8F8\" height=\"37.9375\" rx=\"10\" ry=\"10\" style=\"stroke: #F8F8F8; stroke-width: 1.5;\" width=\"60\" x=\"23\" y=\"58\"/><rect fill=\"#F8F8F8\" height=\"10\" style=\"stroke: #F8F8F8; stroke-width: 1.5;\" width=\"60\" x=\"23\" y=\"85.9375\"/><rect fill=\"none\" height=\"42.9375\" id=\"E3\" rx=\"10\" ry=\"10\" style=\"stroke: #383838; stroke-width: 1.5;\" width=\"60\" x=\"23\" y=\"58\"/><text fill=\"#000000\" font-family=\"sans-serif\" font-size=\"12\" font-style=\"italic\" lengthAdjust=\"spacingAndGlyphs\" textLength=\"53\" x=\"26.5\" y=\"74.1387\">«action»</text><text fill=\"#000000\" font-family=\"sans-serif\" font-size=\"12\" lengthAdjust=\"spacingAndGlyphs\" textLength=\"16\" x=\"45\" y=\"88.1074\">A2</text></a></g><g id=\"E1.E6\"><a href=\"psysml:2beb575e-cdbc-464e-9dd9-fc16008b4aec\" target=\"_top\" title=\"psysml:2beb575e-cdbc-464e-9dd9-fc16008b4aec\" xlink:actuate=\"onRequest\" xlink:href=\"psysml:2beb575e-cdbc-464e-9dd9-fc16008b4aec\" xlink:show=\"new\" xlink:title=\"psysml:2beb575e-cdbc-464e-9dd9-fc16008b4aec\" xlink:type=\"simple\"><rect fill=\"#FFFFFF\" height=\"42.9375\" id=\"E6\" rx=\"10\" ry=\"10\" style=\"stroke: #383838; stroke-width: 1.5;\" width=\"60\" x=\"23\" y=\"141\"/><rect fill=\"#F8F8F8\" height=\"37.9375\" rx=\"10\" ry=\"10\" style=\"stroke: #F8F8F8; stroke-width: 1.5;\" width=\"60\" x=\"23\" y=\"141\"/><rect fill=\"#F8F8F8\" height=\"10\" style=\"stroke: #F8F8F8; stroke-width: 1.5;\" width=\"60\" x=\"23\" y=\"168.9375\"/><rect fill=\"none\" height=\"42.9375\" id=\"E6\" rx=\"10\" ry=\"10\" style=\"stroke: #383838; stroke-width: 1.5;\" width=\"60\" x=\"23\" y=\"141\"/><text fill=\"#000000\" font-family=\"sans-serif\" font-size=\"12\" font-style=\"italic\" lengthAdjust=\"spacingAndGlyphs\" textLength=\"53\" x=\"26.5\" y=\"157.1387\">«action»</text><text fill=\"#000000\" font-family=\"sans-serif\" font-size=\"12\" lengthAdjust=\"spacingAndGlyphs\" textLength=\"16\" x=\"45\" y=\"171.1074\">B1</text></a></g><g id=\"E1.E7\"><a href=\"psysml:18cbd039-fda1-47ea-ae1e-03ddeff777e2\" target=\"_top\" title=\"psysml:18cbd039-fda1-47ea-ae1e-03ddeff777e2\" xlink:actuate=\"onRequest\" xlink:href=\"psysml:18cbd039-fda1-47ea-ae1e-03ddeff777e2\" xlink:show=\"new\" xlink:title=\"psysml:18cbd039-fda1-47ea-ae1e-03ddeff777e2\" xlink:type=\"simple\"><rect fill=\"#FFFFFF\" height=\"42.9375\" id=\"E7\" rx=\"10\" ry=\"10\" style=\"stroke: #383838; stroke-width: 1.5;\" width=\"60\" x=\"118\" y=\"141\"/><rect fill=\"#F8F8F8\" height=\"37.9375\" rx=\"10\" ry=\"10\" style=\"stroke: #F8F8F8; stroke-width: 1.5;\" width=\"60\" x=\"118\" y=\"141\"/><rect fill=\"#F8F8F8\" height=\"10\" style=\"stroke: #F8F8F8; stroke-width: 1.5;\" width=\"60\" x=\"118\" y=\"168.9375\"/><rect fill=\"none\" height=\"42.9375\" id=\"E7\" rx=\"10\" ry=\"10\" style=\"stroke: #383838; stroke-width: 1.5;\" width=\"60\" x=\"118\" y=\"141\"/><text fill=\"#000000\" font-family=\"sans-serif\" font-size=\"12\" font-style=\"italic\" lengthAdjust=\"spacingAndGlyphs\" textLength=\"53\" x=\"121.5\" y=\"157.1387\">«action»</text><text fill=\"#000000\" font-family=\"sans-serif\" font-size=\"12\" lengthAdjust=\"spacingAndGlyphs\" textLength=\"16\" x=\"140\" y=\"171.1074\">B2</text></a></g><!--MD5=[4d03bb2d0377dc85ccfab60ff574652b]\n",
       "link E2 to E4--><a href=\"psysml:32927b08-9b1f-4059-96b6-74ea858c5377\" target=\"_top\" title=\"psysml:32927b08-9b1f-4059-96b6-74ea858c5377\" xlink:actuate=\"onRequest\" xlink:href=\"psysml:32927b08-9b1f-4059-96b6-74ea858c5377\" xlink:show=\"new\" xlink:title=\"psysml:32927b08-9b1f-4059-96b6-74ea858c5377\" xlink:type=\"simple\"><path d=\"M117.87,100.27 C114.67,102.37 111.63,104.37 108.98,106.1 \" fill=\"none\" id=\"E2-&gt;E4\" style=\"stroke: #383838; stroke-width: 1.0; stroke-dasharray: 7.0,7.0;\"/><polygon fill=\"#383838\" points=\"104.72,108.9,114.4401,107.3128,108.9021,106.1595,110.0554,100.6215,104.72,108.9\" style=\"stroke: #383838; stroke-width: 1.0;\"/></a><!--MD5=[af87c684e3b0d8be13c1a698a818ef1e]\n",
       "link E3 to E4--><a href=\"psysml:6834d0f3-19d8-44ac-95f5-e8bc4db68e8a\" target=\"_top\" title=\"psysml:6834d0f3-19d8-44ac-95f5-e8bc4db68e8a\" xlink:actuate=\"onRequest\" xlink:href=\"psysml:6834d0f3-19d8-44ac-95f5-e8bc4db68e8a\" xlink:show=\"new\" xlink:title=\"psysml:6834d0f3-19d8-44ac-95f5-e8bc4db68e8a\" xlink:type=\"simple\"><path d=\"M83.03,100.63 C85.85,102.52 88.54,104.32 90.9,105.9 \" fill=\"none\" id=\"E3-&gt;E4\" style=\"stroke: #383838; stroke-width: 1.0; stroke-dasharray: 7.0,7.0;\"/><polygon fill=\"#383838\" points=\"95.26,108.82,90.0101,100.487,91.1063,106.0366,85.5567,107.1328,95.26,108.82\" style=\"stroke: #383838; stroke-width: 1.0;\"/></a><!--MD5=[1b7591eae5389033d8d09a9d6721a717]\n",
       "link E4 to E5--><a href=\"psysml:02aceb33-1759-43f7-b21c-5882a5f834e0\" target=\"_top\" title=\"psysml:02aceb33-1759-43f7-b21c-5882a5f834e0\" xlink:actuate=\"onRequest\" xlink:href=\"psysml:02aceb33-1759-43f7-b21c-5882a5f834e0\" xlink:show=\"new\" xlink:title=\"psysml:02aceb33-1759-43f7-b21c-5882a5f834e0\" xlink:type=\"simple\"><path d=\"M100,117.25 C100,118.05 100,118.94 100,119.86 \" fill=\"none\" id=\"E4-&gt;E5\" style=\"stroke: #383838; stroke-width: 1.0; stroke-dasharray: 7.0,7.0;\"/><polygon fill=\"#383838\" points=\"100,124.96,104,115.96,100,119.96,96,115.96,100,124.96\" style=\"stroke: #383838; stroke-width: 1.0;\"/></a><!--MD5=[9120cf2e5df3bff93db8f754bbbc09b4]\n",
       "link E5 to E6--><a href=\"psysml:f43de8b9-7272-426a-b0aa-70e703f3a468\" target=\"_top\" title=\"psysml:f43de8b9-7272-426a-b0aa-70e703f3a468\" xlink:actuate=\"onRequest\" xlink:href=\"psysml:f43de8b9-7272-426a-b0aa-70e703f3a468\" xlink:show=\"new\" xlink:title=\"psysml:f43de8b9-7272-426a-b0aa-70e703f3a468\" xlink:type=\"simple\"><path d=\"M95.32,133.14 C93.21,134.55 90.52,136.35 87.53,138.36 \" fill=\"none\" id=\"E5-&gt;E6\" style=\"stroke: #383838; stroke-width: 1.0; stroke-dasharray: 7.0,7.0;\"/><polygon fill=\"#383838\" points=\"83.27,141.21,92.9706,139.5074,87.4192,138.42,88.5066,132.8687,83.27,141.21\" style=\"stroke: #383838; stroke-width: 1.0;\"/></a><!--MD5=[3a9b96bfbf6b6ad89c494e81751bda47]\n",
       "link E5 to E7--><a href=\"psysml:6de5063b-eb84-4499-9c8a-3a0354e3d885\" target=\"_top\" title=\"psysml:6de5063b-eb84-4499-9c8a-3a0354e3d885\" xlink:actuate=\"onRequest\" xlink:href=\"psysml:6de5063b-eb84-4499-9c8a-3a0354e3d885\" xlink:show=\"new\" xlink:title=\"psysml:6de5063b-eb84-4499-9c8a-3a0354e3d885\" xlink:type=\"simple\"><path d=\"M104.78,133.14 C107.16,134.7 110.28,136.75 113.75,139.02 \" fill=\"none\" id=\"E5-&gt;E7\" style=\"stroke: #383838; stroke-width: 1.0; stroke-dasharray: 7.0,7.0;\"/><polygon fill=\"#383838\" points=\"117.96,141.79,112.6246,133.5115,113.7779,139.0495,108.2399,140.2028,117.96,141.79\" style=\"stroke: #383838; stroke-width: 1.0;\"/></a><!--MD5=[73936913ff054e1052ee6dad49044e10]\n",
       "@startuml\r\n",
       "skinparam ranksep 8\r\n",
       "skinparam monochrome true\r\n",
       "skinparam classbackgroundcolor white\r\n",
       "skinparam shadowing false\r\n",
       "skinparam wrapWidth 300\r\n",
       "hide circle\r\n",
       "\r\n",
       "rec def \"ControlNodeTest\" as E1  <<(T,blue)action def>> [[psysml:8a19e2dd-7f31-4291-b841-c8e7ad6ceaae ]] {\r\n",
       "rec usage \"A1\" as E2  <<(T,blue)action>> [[psysml:63691cb2-c1ae-4262-a628-287378f10d06 ]] {\r\n",
       "}\r\n",
       "\r\n",
       "rec usage \"A2\" as E3  <<(T,blue)action>> [[psysml:c6acf79a-793e-4497-aa33-887aafacc071 ]] {\r\n",
       "}\r\n",
       "\r\n",
       "join \"J\" as E4  [[psysml:9118671e-8e40-41ce-bc29-e44727581a0d ]] \r\n",
       "fork \"F\" as E5  [[psysml:3c4d5a48-0835-4406-bc0d-d635a7475922 ]] \r\n",
       "rec usage \"B1\" as E6  <<(T,blue)action>> [[psysml:2beb575e-cdbc-464e-9dd9-fc16008b4aec ]] {\r\n",
       "}\r\n",
       "\r\n",
       "rec usage \"B2\" as E7  <<(T,blue)action>> [[psysml:18cbd039-fda1-47ea-ae1e-03ddeff777e2 ]] {\r\n",
       "}\r\n",
       "\r\n",
       "}\r\n",
       "\r\n",
       "E2 ..> E4 [[psysml:32927b08-9b1f-4059-96b6-74ea858c5377 ]] \r\n",
       "E3 ..> E4 [[psysml:6834d0f3-19d8-44ac-95f5-e8bc4db68e8a ]] \r\n",
       "E4 ..> E5 [[psysml:02aceb33-1759-43f7-b21c-5882a5f834e0 ]] \r\n",
       "E5 ..> E6 [[psysml:f43de8b9-7272-426a-b0aa-70e703f3a468 ]] \r\n",
       "E5 ..> E7 [[psysml:6de5063b-eb84-4499-9c8a-3a0354e3d885 ]] \r\n",
       "@enduml\r\n",
       "\n",
       "PlantUML version 1.2020.13(Sat Jun 13 12:26:38 UTC 2020)\n",
       "(EPL source distribution)\n",
       "Java Runtime: OpenJDK Runtime Environment\n",
       "JVM: OpenJDK 64-Bit Server VM\n",
       "Default Encoding: UTF-8\n",
       "Language: en\n",
       "Country: null\n",
       "--></g></svg>"
      ]
     },
     "execution_count": 41,
     "metadata": {},
     "output_type": "execute_result"
    }
   ],
   "source": [
    "%viz --style=\"DEFAULT\" --view=\"Action\" \"ControlNodeTest\""
   ]
  },
  {
   "cell_type": "code",
   "execution_count": 42,
   "id": "painted-runner",
   "metadata": {
    "execution": {
     "iopub.execute_input": "2021-03-26T15:42:10.393980Z",
     "iopub.status.busy": "2021-03-26T15:42:10.392937Z",
     "iopub.status.idle": "2021-03-26T15:42:10.452819Z",
     "shell.execute_reply": "2021-03-26T15:42:10.452183Z"
    }
   },
   "outputs": [
    {
     "data": {
      "image/svg+xml": [
       "<?xml version=\"1.0\" encoding=\"UTF-8\" standalone=\"no\"?><svg xmlns=\"http://www.w3.org/2000/svg\" xmlns:xlink=\"http://www.w3.org/1999/xlink\" contentScriptType=\"application/ecmascript\" contentStyleType=\"text/css\" height=\"191px\" preserveAspectRatio=\"none\" style=\"width:129px;height:191px;\" version=\"1.1\" viewBox=\"0 0 129 191\" width=\"129px\" zoomAndPan=\"magnify\"><defs/><g><!--MD5=[43c9051892ef23e1a46a86907403d788]\n",
       "class E1--><a href=\"psysml:8a19e2dd-7f31-4291-b841-c8e7ad6ceaae\" target=\"_top\" title=\"psysml:8a19e2dd-7f31-4291-b841-c8e7ad6ceaae\" xlink:actuate=\"onRequest\" xlink:href=\"psysml:8a19e2dd-7f31-4291-b841-c8e7ad6ceaae\" xlink:show=\"new\" xlink:title=\"psysml:8a19e2dd-7f31-4291-b841-c8e7ad6ceaae\" xlink:type=\"simple\"><rect fill=\"#FFFFFF\" height=\"173.1797\" id=\"E1\" style=\"stroke: #383838; stroke-width: 1.5;\" width=\"111\" x=\"7\" y=\"7\"/><text fill=\"#000000\" font-family=\"sans-serif\" font-size=\"12\" font-style=\"italic\" lengthAdjust=\"spacingAndGlyphs\" textLength=\"77\" x=\"24\" y=\"23.1387\">«action def»</text><text fill=\"#000000\" font-family=\"sans-serif\" font-size=\"12\" lengthAdjust=\"spacingAndGlyphs\" textLength=\"105\" x=\"10\" y=\"37.1074\">ControlNodeTest</text><line style=\"stroke: #383838; stroke-width: 1.5;\" x1=\"8\" x2=\"117\" y1=\"44.9375\" y2=\"44.9375\"/><text fill=\"#000000\" font-family=\"sans-serif\" font-size=\"11\" lengthAdjust=\"spacingAndGlyphs\" textLength=\"14\" x=\"13\" y=\"75.9526\">A1</text><text fill=\"#000000\" font-family=\"sans-serif\" font-size=\"11\" lengthAdjust=\"spacingAndGlyphs\" textLength=\"14\" x=\"13\" y=\"88.7573\">A2</text><text fill=\"#000000\" font-family=\"sans-serif\" font-size=\"11\" lengthAdjust=\"spacingAndGlyphs\" textLength=\"15\" x=\"13\" y=\"101.562\">B1</text><text fill=\"#000000\" font-family=\"sans-serif\" font-size=\"11\" lengthAdjust=\"spacingAndGlyphs\" textLength=\"15\" x=\"13\" y=\"114.3667\">B2</text><line style=\"stroke: #383838; stroke-width: 1.0;\" x1=\"8\" x2=\"42\" y1=\"59.3398\" y2=\"59.3398\"/><text fill=\"#000000\" font-family=\"sans-serif\" font-size=\"11\" lengthAdjust=\"spacingAndGlyphs\" textLength=\"41\" x=\"42\" y=\"62.6479\">actions</text><line style=\"stroke: #383838; stroke-width: 1.0;\" x1=\"83\" x2=\"117\" y1=\"59.3398\" y2=\"59.3398\"/><text fill=\"#000000\" font-family=\"sans-serif\" font-size=\"11\" lengthAdjust=\"spacingAndGlyphs\" textLength=\"6\" x=\"13\" y=\"143.9761\">F</text><line style=\"stroke: #383838; stroke-width: 1.0;\" x1=\"8\" x2=\"33.5\" y1=\"127.3633\" y2=\"127.3633\"/><text fill=\"#000000\" font-family=\"sans-serif\" font-size=\"11\" lengthAdjust=\"spacingAndGlyphs\" textLength=\"58\" x=\"33.5\" y=\"130.6714\">forkNodes</text><line style=\"stroke: #383838; stroke-width: 1.0;\" x1=\"91.5\" x2=\"117\" y1=\"127.3633\" y2=\"127.3633\"/><text fill=\"#000000\" font-family=\"sans-serif\" font-size=\"11\" lengthAdjust=\"spacingAndGlyphs\" textLength=\"3\" x=\"13\" y=\"173.5854\">J</text><line style=\"stroke: #383838; stroke-width: 1.0;\" x1=\"8\" x2=\"34.5\" y1=\"156.9727\" y2=\"156.9727\"/><text fill=\"#000000\" font-family=\"sans-serif\" font-size=\"11\" lengthAdjust=\"spacingAndGlyphs\" textLength=\"56\" x=\"34.5\" y=\"160.2808\">joinNodes</text><line style=\"stroke: #383838; stroke-width: 1.0;\" x1=\"90.5\" x2=\"117\" y1=\"156.9727\" y2=\"156.9727\"/></a><!--MD5=[381ff8364dc625036a5952abea4bc53b]\n",
       "@startuml\r\n",
       "skinparam monochrome true\r\n",
       "skinparam classbackgroundcolor white\r\n",
       "skinparam shadowing false\r\n",
       "skinparam wrapWidth 300\r\n",
       "hide circle\r\n",
       "\r\n",
       "comp def \"ControlNodeTest\" as E1  <<(T,blue)action def>> [[psysml:8a19e2dd-7f31-4291-b841-c8e7ad6ceaae ]] {\r\n",
       "- - actions - -\r\n",
       "A1\r\n",
       "A2\r\n",
       "B1\r\n",
       "B2\r\n",
       "- - forkNodes - -\r\n",
       "F\r\n",
       "- - joinNodes - -\r\n",
       "J\r\n",
       "}\r\n",
       "@enduml\r\n",
       "\n",
       "PlantUML version 1.2020.13(Sat Jun 13 12:26:38 UTC 2020)\n",
       "(EPL source distribution)\n",
       "Java Runtime: OpenJDK Runtime Environment\n",
       "JVM: OpenJDK 64-Bit Server VM\n",
       "Default Encoding: UTF-8\n",
       "Language: en\n",
       "Country: null\n",
       "--></g></svg>"
      ]
     },
     "execution_count": 42,
     "metadata": {},
     "output_type": "execute_result"
    }
   ],
   "source": [
    "%viz --style=\"DEFAULT\" --view=\"Sequence\" \"ControlNodeTest\""
   ]
  },
  {
   "cell_type": "code",
   "execution_count": 43,
   "id": "responsible-harrison",
   "metadata": {
    "execution": {
     "iopub.execute_input": "2021-03-26T15:42:10.504973Z",
     "iopub.status.busy": "2021-03-26T15:42:10.503716Z",
     "iopub.status.idle": "2021-03-26T15:42:10.536051Z",
     "shell.execute_reply": "2021-03-26T15:42:10.534830Z"
    }
   },
   "outputs": [
    {
     "data": {
      "image/svg+xml": [
       "<?xml version=\"1.0\" encoding=\"UTF-8\" standalone=\"no\"?><svg xmlns=\"http://www.w3.org/2000/svg\" xmlns:xlink=\"http://www.w3.org/1999/xlink\" contentScriptType=\"application/ecmascript\" contentStyleType=\"text/css\" height=\"367px\" preserveAspectRatio=\"none\" style=\"width:205px;height:367px;\" version=\"1.1\" viewBox=\"0 0 205 367\" width=\"205px\" zoomAndPan=\"magnify\"><defs/><g><!--MD5=[fbc87193dbaf4d95561dea2c320d4a47]\n",
       "cluster E1--><a href=\"psysml:8a19e2dd-7f31-4291-b841-c8e7ad6ceaae\" target=\"_top\" title=\"psysml:8a19e2dd-7f31-4291-b841-c8e7ad6ceaae\" xlink:actuate=\"onRequest\" xlink:href=\"psysml:8a19e2dd-7f31-4291-b841-c8e7ad6ceaae\" xlink:show=\"new\" xlink:title=\"psysml:8a19e2dd-7f31-4291-b841-c8e7ad6ceaae\" xlink:type=\"simple\"><rect fill=\"#FFFFFF\" height=\"349\" id=\"E1\" style=\"stroke: #383838; stroke-width: 1.5;\" width=\"187\" x=\"7\" y=\"7\"/><rect fill=\"#F8F8F8\" height=\"37.9375\" style=\"stroke: #383838; stroke-width: 1.5;\" width=\"187\" x=\"7\" y=\"7\"/><text fill=\"#000000\" font-family=\"sans-serif\" font-size=\"12\" font-style=\"italic\" lengthAdjust=\"spacingAndGlyphs\" textLength=\"77\" x=\"62\" y=\"23.1387\">«action def»</text><text fill=\"#000000\" font-family=\"sans-serif\" font-size=\"12\" lengthAdjust=\"spacingAndGlyphs\" textLength=\"105\" x=\"48\" y=\"37.1074\">ControlNodeTest</text></a><rect fill=\"#000000\" height=\"8\" style=\"stroke: none; stroke-width: 1.0;\" width=\"80\" x=\"60\" y=\"161\"/><rect fill=\"#000000\" height=\"8\" style=\"stroke: none; stroke-width: 1.0;\" width=\"80\" x=\"60\" y=\"229\"/><g id=\"E1.E2\"><a href=\"psysml:63691cb2-c1ae-4262-a628-287378f10d06\" target=\"_top\" title=\"psysml:63691cb2-c1ae-4262-a628-287378f10d06\" xlink:actuate=\"onRequest\" xlink:href=\"psysml:63691cb2-c1ae-4262-a628-287378f10d06\" xlink:show=\"new\" xlink:title=\"psysml:63691cb2-c1ae-4262-a628-287378f10d06\" xlink:type=\"simple\"><rect fill=\"#FFFFFF\" height=\"42.9375\" id=\"E2\" rx=\"10\" ry=\"10\" style=\"stroke: #383838; stroke-width: 1.5;\" width=\"60\" x=\"118\" y=\"58\"/><rect fill=\"#F8F8F8\" height=\"37.9375\" rx=\"10\" ry=\"10\" style=\"stroke: #F8F8F8; stroke-width: 1.5;\" width=\"60\" x=\"118\" y=\"58\"/><rect fill=\"#F8F8F8\" height=\"10\" style=\"stroke: #F8F8F8; stroke-width: 1.5;\" width=\"60\" x=\"118\" y=\"85.9375\"/><rect fill=\"none\" height=\"42.9375\" id=\"E2\" rx=\"10\" ry=\"10\" style=\"stroke: #383838; stroke-width: 1.5;\" width=\"60\" x=\"118\" y=\"58\"/><text fill=\"#000000\" font-family=\"sans-serif\" font-size=\"12\" font-style=\"italic\" lengthAdjust=\"spacingAndGlyphs\" textLength=\"53\" x=\"121.5\" y=\"74.1387\">«action»</text><text fill=\"#000000\" font-family=\"sans-serif\" font-size=\"12\" lengthAdjust=\"spacingAndGlyphs\" textLength=\"16\" x=\"140\" y=\"88.1074\">A1</text></a></g><g id=\"E1.E3\"><a href=\"psysml:c6acf79a-793e-4497-aa33-887aafacc071\" target=\"_top\" title=\"psysml:c6acf79a-793e-4497-aa33-887aafacc071\" xlink:actuate=\"onRequest\" xlink:href=\"psysml:c6acf79a-793e-4497-aa33-887aafacc071\" xlink:show=\"new\" xlink:title=\"psysml:c6acf79a-793e-4497-aa33-887aafacc071\" xlink:type=\"simple\"><rect fill=\"#FFFFFF\" height=\"42.9375\" id=\"E3\" rx=\"10\" ry=\"10\" style=\"stroke: #383838; stroke-width: 1.5;\" width=\"60\" x=\"23\" y=\"58\"/><rect fill=\"#F8F8F8\" height=\"37.9375\" rx=\"10\" ry=\"10\" style=\"stroke: #F8F8F8; stroke-width: 1.5;\" width=\"60\" x=\"23\" y=\"58\"/><rect fill=\"#F8F8F8\" height=\"10\" style=\"stroke: #F8F8F8; stroke-width: 1.5;\" width=\"60\" x=\"23\" y=\"85.9375\"/><rect fill=\"none\" height=\"42.9375\" id=\"E3\" rx=\"10\" ry=\"10\" style=\"stroke: #383838; stroke-width: 1.5;\" width=\"60\" x=\"23\" y=\"58\"/><text fill=\"#000000\" font-family=\"sans-serif\" font-size=\"12\" font-style=\"italic\" lengthAdjust=\"spacingAndGlyphs\" textLength=\"53\" x=\"26.5\" y=\"74.1387\">«action»</text><text fill=\"#000000\" font-family=\"sans-serif\" font-size=\"12\" lengthAdjust=\"spacingAndGlyphs\" textLength=\"16\" x=\"45\" y=\"88.1074\">A2</text></a></g><g id=\"E1.E6\"><a href=\"psysml:2beb575e-cdbc-464e-9dd9-fc16008b4aec\" target=\"_top\" title=\"psysml:2beb575e-cdbc-464e-9dd9-fc16008b4aec\" xlink:actuate=\"onRequest\" xlink:href=\"psysml:2beb575e-cdbc-464e-9dd9-fc16008b4aec\" xlink:show=\"new\" xlink:title=\"psysml:2beb575e-cdbc-464e-9dd9-fc16008b4aec\" xlink:type=\"simple\"><rect fill=\"#FFFFFF\" height=\"42.9375\" id=\"E6\" rx=\"10\" ry=\"10\" style=\"stroke: #383838; stroke-width: 1.5;\" width=\"60\" x=\"23\" y=\"297\"/><rect fill=\"#F8F8F8\" height=\"37.9375\" rx=\"10\" ry=\"10\" style=\"stroke: #F8F8F8; stroke-width: 1.5;\" width=\"60\" x=\"23\" y=\"297\"/><rect fill=\"#F8F8F8\" height=\"10\" style=\"stroke: #F8F8F8; stroke-width: 1.5;\" width=\"60\" x=\"23\" y=\"324.9375\"/><rect fill=\"none\" height=\"42.9375\" id=\"E6\" rx=\"10\" ry=\"10\" style=\"stroke: #383838; stroke-width: 1.5;\" width=\"60\" x=\"23\" y=\"297\"/><text fill=\"#000000\" font-family=\"sans-serif\" font-size=\"12\" font-style=\"italic\" lengthAdjust=\"spacingAndGlyphs\" textLength=\"53\" x=\"26.5\" y=\"313.1387\">«action»</text><text fill=\"#000000\" font-family=\"sans-serif\" font-size=\"12\" lengthAdjust=\"spacingAndGlyphs\" textLength=\"16\" x=\"45\" y=\"327.1074\">B1</text></a></g><g id=\"E1.E7\"><a href=\"psysml:18cbd039-fda1-47ea-ae1e-03ddeff777e2\" target=\"_top\" title=\"psysml:18cbd039-fda1-47ea-ae1e-03ddeff777e2\" xlink:actuate=\"onRequest\" xlink:href=\"psysml:18cbd039-fda1-47ea-ae1e-03ddeff777e2\" xlink:show=\"new\" xlink:title=\"psysml:18cbd039-fda1-47ea-ae1e-03ddeff777e2\" xlink:type=\"simple\"><rect fill=\"#FFFFFF\" height=\"42.9375\" id=\"E7\" rx=\"10\" ry=\"10\" style=\"stroke: #383838; stroke-width: 1.5;\" width=\"60\" x=\"118\" y=\"297\"/><rect fill=\"#F8F8F8\" height=\"37.9375\" rx=\"10\" ry=\"10\" style=\"stroke: #F8F8F8; stroke-width: 1.5;\" width=\"60\" x=\"118\" y=\"297\"/><rect fill=\"#F8F8F8\" height=\"10\" style=\"stroke: #F8F8F8; stroke-width: 1.5;\" width=\"60\" x=\"118\" y=\"324.9375\"/><rect fill=\"none\" height=\"42.9375\" id=\"E7\" rx=\"10\" ry=\"10\" style=\"stroke: #383838; stroke-width: 1.5;\" width=\"60\" x=\"118\" y=\"297\"/><text fill=\"#000000\" font-family=\"sans-serif\" font-size=\"12\" font-style=\"italic\" lengthAdjust=\"spacingAndGlyphs\" textLength=\"53\" x=\"121.5\" y=\"313.1387\">«action»</text><text fill=\"#000000\" font-family=\"sans-serif\" font-size=\"12\" lengthAdjust=\"spacingAndGlyphs\" textLength=\"16\" x=\"140\" y=\"327.1074\">B2</text></a></g><!--MD5=[4d03bb2d0377dc85ccfab60ff574652b]\n",
       "link E2 to E4--><a href=\"psysml:32927b08-9b1f-4059-96b6-74ea858c5377\" target=\"_top\" title=\"psysml:32927b08-9b1f-4059-96b6-74ea858c5377\" xlink:actuate=\"onRequest\" xlink:href=\"psysml:32927b08-9b1f-4059-96b6-74ea858c5377\" xlink:show=\"new\" xlink:title=\"psysml:32927b08-9b1f-4059-96b6-74ea858c5377\" xlink:type=\"simple\"><path d=\"M136.13,101.14 C125.84,119.06 111.49,144.01 104.37,156.4 \" fill=\"none\" id=\"E2-&gt;E4\" style=\"stroke: #383838; stroke-width: 1.0;\"/><polygon fill=\"#383838\" points=\"101.79,160.88,109.7406,155.0673,104.2799,156.5441,102.8031,151.0834,101.79,160.88\" style=\"stroke: #383838; stroke-width: 1.0;\"/></a><!--MD5=[af87c684e3b0d8be13c1a698a818ef1e]\n",
       "link E3 to E4--><a href=\"psysml:6834d0f3-19d8-44ac-95f5-e8bc4db68e8a\" target=\"_top\" title=\"psysml:6834d0f3-19d8-44ac-95f5-e8bc4db68e8a\" xlink:actuate=\"onRequest\" xlink:href=\"psysml:6834d0f3-19d8-44ac-95f5-e8bc4db68e8a\" xlink:show=\"new\" xlink:title=\"psysml:6834d0f3-19d8-44ac-95f5-e8bc4db68e8a\" xlink:type=\"simple\"><path d=\"M64.62,101.14 C74.7,119.06 88.75,144.01 95.72,156.4 \" fill=\"none\" id=\"E3-&gt;E4\" style=\"stroke: #383838; stroke-width: 1.0;\"/><polygon fill=\"#383838\" points=\"98.25,160.88,97.3377,151.0735,95.8048,156.5187,90.3596,154.9858,98.25,160.88\" style=\"stroke: #383838; stroke-width: 1.0;\"/></a><!--MD5=[1b7591eae5389033d8d09a9d6721a717]\n",
       "link E4 to E5--><a href=\"psysml:02aceb33-1759-43f7-b21c-5882a5f834e0\" target=\"_top\" title=\"psysml:02aceb33-1759-43f7-b21c-5882a5f834e0\" xlink:actuate=\"onRequest\" xlink:href=\"psysml:02aceb33-1759-43f7-b21c-5882a5f834e0\" xlink:show=\"new\" xlink:title=\"psysml:02aceb33-1759-43f7-b21c-5882a5f834e0\" xlink:type=\"simple\"><path d=\"M100,169.18 C100,178.92 100,208.52 100,223.34 \" fill=\"none\" id=\"E4-&gt;E5\" style=\"stroke: #383838; stroke-width: 1.0;\"/><polygon fill=\"#383838\" points=\"100,228.69,104,219.69,100,223.69,96,219.69,100,228.69\" style=\"stroke: #383838; stroke-width: 1.0;\"/></a><!--MD5=[9120cf2e5df3bff93db8f754bbbc09b4]\n",
       "link E5 to E6--><a href=\"psysml:f43de8b9-7272-426a-b0aa-70e703f3a468\" target=\"_top\" title=\"psysml:f43de8b9-7272-426a-b0aa-70e703f3a468\" xlink:actuate=\"onRequest\" xlink:href=\"psysml:f43de8b9-7272-426a-b0aa-70e703f3a468\" xlink:show=\"new\" xlink:title=\"psysml:f43de8b9-7272-426a-b0aa-70e703f3a468\" xlink:type=\"simple\"><path d=\"M98.21,237.17 C93.16,246.14 78.41,272.36 67.11,292.43 \" fill=\"none\" id=\"E5-&gt;E6\" style=\"stroke: #383838; stroke-width: 1.0;\"/><polygon fill=\"#383838\" points=\"64.61,296.87,72.5151,290.9955,67.0661,292.5148,65.5467,287.0658,64.61,296.87\" style=\"stroke: #383838; stroke-width: 1.0;\"/></a><!--MD5=[3a9b96bfbf6b6ad89c494e81751bda47]\n",
       "link E5 to E7--><a href=\"psysml:6de5063b-eb84-4499-9c8a-3a0354e3d885\" target=\"_top\" title=\"psysml:6de5063b-eb84-4499-9c8a-3a0354e3d885\" xlink:actuate=\"onRequest\" xlink:href=\"psysml:6de5063b-eb84-4499-9c8a-3a0354e3d885\" xlink:show=\"new\" xlink:title=\"psysml:6de5063b-eb84-4499-9c8a-3a0354e3d885\" xlink:type=\"simple\"><path d=\"M101.82,237.17 C106.98,246.14 122.05,272.36 133.59,292.43 \" fill=\"none\" id=\"E5-&gt;E7\" style=\"stroke: #383838; stroke-width: 1.0;\"/><polygon fill=\"#383838\" points=\"136.14,296.87,135.1269,287.0734,133.6501,292.5341,128.1894,291.0573,136.14,296.87\" style=\"stroke: #383838; stroke-width: 1.0;\"/></a><!--MD5=[a99c491acf32c3ee7b72615c2f08ecd0]\n",
       "@startuml\r\n",
       "skinparam monochrome true\r\n",
       "skinparam classbackgroundcolor white\r\n",
       "skinparam shadowing false\r\n",
       "skinparam wrapWidth 300\r\n",
       "hide circle\r\n",
       "\r\n",
       "rec def \"ControlNodeTest\" as E1  <<(T,blue)action def>> [[psysml:8a19e2dd-7f31-4291-b841-c8e7ad6ceaae ]] {\r\n",
       "rec usage \"A1\" as E2  <<(T,blue)action>> [[psysml:63691cb2-c1ae-4262-a628-287378f10d06 ]] {\r\n",
       "}\r\n",
       "\r\n",
       "rec usage \"A2\" as E3  <<(T,blue)action>> [[psysml:c6acf79a-793e-4497-aa33-887aafacc071 ]] {\r\n",
       "}\r\n",
       "\r\n",
       "join \"J\" as E4  [[psysml:9118671e-8e40-41ce-bc29-e44727581a0d ]] \r\n",
       "fork \"F\" as E5  [[psysml:3c4d5a48-0835-4406-bc0d-d635a7475922 ]] \r\n",
       "rec usage \"B1\" as E6  <<(T,blue)action>> [[psysml:2beb575e-cdbc-464e-9dd9-fc16008b4aec ]] {\r\n",
       "}\r\n",
       "\r\n",
       "rec usage \"B2\" as E7  <<(T,blue)action>> [[psysml:18cbd039-fda1-47ea-ae1e-03ddeff777e2 ]] {\r\n",
       "}\r\n",
       "\r\n",
       "}\r\n",
       "\r\n",
       "E2 - -> E4 [[psysml:32927b08-9b1f-4059-96b6-74ea858c5377 ]] \r\n",
       "E3 - -> E4 [[psysml:6834d0f3-19d8-44ac-95f5-e8bc4db68e8a ]] \r\n",
       "E4 - -> E5 [[psysml:02aceb33-1759-43f7-b21c-5882a5f834e0 ]] \r\n",
       "E5 - -> E6 [[psysml:f43de8b9-7272-426a-b0aa-70e703f3a468 ]] \r\n",
       "E5 - -> E7 [[psysml:6de5063b-eb84-4499-9c8a-3a0354e3d885 ]] \r\n",
       "@enduml\r\n",
       "\n",
       "PlantUML version 1.2020.13(Sat Jun 13 12:26:38 UTC 2020)\n",
       "(EPL source distribution)\n",
       "Java Runtime: OpenJDK Runtime Environment\n",
       "JVM: OpenJDK 64-Bit Server VM\n",
       "Default Encoding: UTF-8\n",
       "Language: en\n",
       "Country: null\n",
       "--></g></svg>"
      ]
     },
     "execution_count": 43,
     "metadata": {},
     "output_type": "execute_result"
    }
   ],
   "source": [
    "%viz --style=\"DEFAULT\" --view=\"MIXED\" \"ControlNodeTest\""
   ]
  },
  {
   "cell_type": "code",
   "execution_count": 44,
   "id": "disciplinary-travel",
   "metadata": {
    "execution": {
     "iopub.execute_input": "2021-03-26T15:42:10.586211Z",
     "iopub.status.busy": "2021-03-26T15:42:10.585822Z",
     "iopub.status.idle": "2021-03-26T15:42:10.615669Z",
     "shell.execute_reply": "2021-03-26T15:42:10.614209Z"
    }
   },
   "outputs": [
    {
     "data": {
      "image/svg+xml": [
       "<?xml version=\"1.0\" encoding=\"UTF-8\" standalone=\"no\"?><svg xmlns=\"http://www.w3.org/2000/svg\" xmlns:xlink=\"http://www.w3.org/1999/xlink\" contentScriptType=\"application/ecmascript\" contentStyleType=\"text/css\" height=\"367px\" preserveAspectRatio=\"none\" style=\"width:205px;height:367px;\" version=\"1.1\" viewBox=\"0 0 205 367\" width=\"205px\" zoomAndPan=\"magnify\"><defs/><g><!--MD5=[fbc87193dbaf4d95561dea2c320d4a47]\n",
       "cluster E1--><a href=\"psysml:8a19e2dd-7f31-4291-b841-c8e7ad6ceaae\" target=\"_top\" title=\"psysml:8a19e2dd-7f31-4291-b841-c8e7ad6ceaae\" xlink:actuate=\"onRequest\" xlink:href=\"psysml:8a19e2dd-7f31-4291-b841-c8e7ad6ceaae\" xlink:show=\"new\" xlink:title=\"psysml:8a19e2dd-7f31-4291-b841-c8e7ad6ceaae\" xlink:type=\"simple\"><rect fill=\"#FFFFFF\" height=\"349\" id=\"E1\" style=\"stroke: #383838; stroke-width: 1.5;\" width=\"187\" x=\"7\" y=\"7\"/><rect fill=\"#F8F8F8\" height=\"37.9375\" style=\"stroke: #383838; stroke-width: 1.5;\" width=\"187\" x=\"7\" y=\"7\"/><text fill=\"#000000\" font-family=\"sans-serif\" font-size=\"12\" font-style=\"italic\" lengthAdjust=\"spacingAndGlyphs\" textLength=\"77\" x=\"62\" y=\"23.1387\">«action def»</text><text fill=\"#000000\" font-family=\"sans-serif\" font-size=\"12\" lengthAdjust=\"spacingAndGlyphs\" textLength=\"105\" x=\"48\" y=\"37.1074\">ControlNodeTest</text></a><rect fill=\"#000000\" height=\"8\" style=\"stroke: none; stroke-width: 1.0;\" width=\"80\" x=\"60\" y=\"161\"/><rect fill=\"#000000\" height=\"8\" style=\"stroke: none; stroke-width: 1.0;\" width=\"80\" x=\"60\" y=\"229\"/><g id=\"E1.E2\"><a href=\"psysml:63691cb2-c1ae-4262-a628-287378f10d06\" target=\"_top\" title=\"psysml:63691cb2-c1ae-4262-a628-287378f10d06\" xlink:actuate=\"onRequest\" xlink:href=\"psysml:63691cb2-c1ae-4262-a628-287378f10d06\" xlink:show=\"new\" xlink:title=\"psysml:63691cb2-c1ae-4262-a628-287378f10d06\" xlink:type=\"simple\"><rect fill=\"#FFFFFF\" height=\"42.9375\" id=\"E2\" rx=\"10\" ry=\"10\" style=\"stroke: #383838; stroke-width: 1.5;\" width=\"60\" x=\"118\" y=\"58\"/><rect fill=\"#F8F8F8\" height=\"37.9375\" rx=\"10\" ry=\"10\" style=\"stroke: #F8F8F8; stroke-width: 1.5;\" width=\"60\" x=\"118\" y=\"58\"/><rect fill=\"#F8F8F8\" height=\"10\" style=\"stroke: #F8F8F8; stroke-width: 1.5;\" width=\"60\" x=\"118\" y=\"85.9375\"/><rect fill=\"none\" height=\"42.9375\" id=\"E2\" rx=\"10\" ry=\"10\" style=\"stroke: #383838; stroke-width: 1.5;\" width=\"60\" x=\"118\" y=\"58\"/><text fill=\"#000000\" font-family=\"sans-serif\" font-size=\"12\" font-style=\"italic\" lengthAdjust=\"spacingAndGlyphs\" textLength=\"53\" x=\"121.5\" y=\"74.1387\">«action»</text><text fill=\"#000000\" font-family=\"sans-serif\" font-size=\"12\" lengthAdjust=\"spacingAndGlyphs\" textLength=\"16\" x=\"140\" y=\"88.1074\">A1</text></a></g><g id=\"E1.E3\"><a href=\"psysml:c6acf79a-793e-4497-aa33-887aafacc071\" target=\"_top\" title=\"psysml:c6acf79a-793e-4497-aa33-887aafacc071\" xlink:actuate=\"onRequest\" xlink:href=\"psysml:c6acf79a-793e-4497-aa33-887aafacc071\" xlink:show=\"new\" xlink:title=\"psysml:c6acf79a-793e-4497-aa33-887aafacc071\" xlink:type=\"simple\"><rect fill=\"#FFFFFF\" height=\"42.9375\" id=\"E3\" rx=\"10\" ry=\"10\" style=\"stroke: #383838; stroke-width: 1.5;\" width=\"60\" x=\"23\" y=\"58\"/><rect fill=\"#F8F8F8\" height=\"37.9375\" rx=\"10\" ry=\"10\" style=\"stroke: #F8F8F8; stroke-width: 1.5;\" width=\"60\" x=\"23\" y=\"58\"/><rect fill=\"#F8F8F8\" height=\"10\" style=\"stroke: #F8F8F8; stroke-width: 1.5;\" width=\"60\" x=\"23\" y=\"85.9375\"/><rect fill=\"none\" height=\"42.9375\" id=\"E3\" rx=\"10\" ry=\"10\" style=\"stroke: #383838; stroke-width: 1.5;\" width=\"60\" x=\"23\" y=\"58\"/><text fill=\"#000000\" font-family=\"sans-serif\" font-size=\"12\" font-style=\"italic\" lengthAdjust=\"spacingAndGlyphs\" textLength=\"53\" x=\"26.5\" y=\"74.1387\">«action»</text><text fill=\"#000000\" font-family=\"sans-serif\" font-size=\"12\" lengthAdjust=\"spacingAndGlyphs\" textLength=\"16\" x=\"45\" y=\"88.1074\">A2</text></a></g><g id=\"E1.E6\"><a href=\"psysml:2beb575e-cdbc-464e-9dd9-fc16008b4aec\" target=\"_top\" title=\"psysml:2beb575e-cdbc-464e-9dd9-fc16008b4aec\" xlink:actuate=\"onRequest\" xlink:href=\"psysml:2beb575e-cdbc-464e-9dd9-fc16008b4aec\" xlink:show=\"new\" xlink:title=\"psysml:2beb575e-cdbc-464e-9dd9-fc16008b4aec\" xlink:type=\"simple\"><rect fill=\"#FFFFFF\" height=\"42.9375\" id=\"E6\" rx=\"10\" ry=\"10\" style=\"stroke: #383838; stroke-width: 1.5;\" width=\"60\" x=\"23\" y=\"297\"/><rect fill=\"#F8F8F8\" height=\"37.9375\" rx=\"10\" ry=\"10\" style=\"stroke: #F8F8F8; stroke-width: 1.5;\" width=\"60\" x=\"23\" y=\"297\"/><rect fill=\"#F8F8F8\" height=\"10\" style=\"stroke: #F8F8F8; stroke-width: 1.5;\" width=\"60\" x=\"23\" y=\"324.9375\"/><rect fill=\"none\" height=\"42.9375\" id=\"E6\" rx=\"10\" ry=\"10\" style=\"stroke: #383838; stroke-width: 1.5;\" width=\"60\" x=\"23\" y=\"297\"/><text fill=\"#000000\" font-family=\"sans-serif\" font-size=\"12\" font-style=\"italic\" lengthAdjust=\"spacingAndGlyphs\" textLength=\"53\" x=\"26.5\" y=\"313.1387\">«action»</text><text fill=\"#000000\" font-family=\"sans-serif\" font-size=\"12\" lengthAdjust=\"spacingAndGlyphs\" textLength=\"16\" x=\"45\" y=\"327.1074\">B1</text></a></g><g id=\"E1.E7\"><a href=\"psysml:18cbd039-fda1-47ea-ae1e-03ddeff777e2\" target=\"_top\" title=\"psysml:18cbd039-fda1-47ea-ae1e-03ddeff777e2\" xlink:actuate=\"onRequest\" xlink:href=\"psysml:18cbd039-fda1-47ea-ae1e-03ddeff777e2\" xlink:show=\"new\" xlink:title=\"psysml:18cbd039-fda1-47ea-ae1e-03ddeff777e2\" xlink:type=\"simple\"><rect fill=\"#FFFFFF\" height=\"42.9375\" id=\"E7\" rx=\"10\" ry=\"10\" style=\"stroke: #383838; stroke-width: 1.5;\" width=\"60\" x=\"118\" y=\"297\"/><rect fill=\"#F8F8F8\" height=\"37.9375\" rx=\"10\" ry=\"10\" style=\"stroke: #F8F8F8; stroke-width: 1.5;\" width=\"60\" x=\"118\" y=\"297\"/><rect fill=\"#F8F8F8\" height=\"10\" style=\"stroke: #F8F8F8; stroke-width: 1.5;\" width=\"60\" x=\"118\" y=\"324.9375\"/><rect fill=\"none\" height=\"42.9375\" id=\"E7\" rx=\"10\" ry=\"10\" style=\"stroke: #383838; stroke-width: 1.5;\" width=\"60\" x=\"118\" y=\"297\"/><text fill=\"#000000\" font-family=\"sans-serif\" font-size=\"12\" font-style=\"italic\" lengthAdjust=\"spacingAndGlyphs\" textLength=\"53\" x=\"121.5\" y=\"313.1387\">«action»</text><text fill=\"#000000\" font-family=\"sans-serif\" font-size=\"12\" lengthAdjust=\"spacingAndGlyphs\" textLength=\"16\" x=\"140\" y=\"327.1074\">B2</text></a></g><!--MD5=[4d03bb2d0377dc85ccfab60ff574652b]\n",
       "link E2 to E4--><a href=\"psysml:32927b08-9b1f-4059-96b6-74ea858c5377\" target=\"_top\" title=\"psysml:32927b08-9b1f-4059-96b6-74ea858c5377\" xlink:actuate=\"onRequest\" xlink:href=\"psysml:32927b08-9b1f-4059-96b6-74ea858c5377\" xlink:show=\"new\" xlink:title=\"psysml:32927b08-9b1f-4059-96b6-74ea858c5377\" xlink:type=\"simple\"><path d=\"M136.13,101.14 C125.84,119.06 111.49,144.01 104.37,156.4 \" fill=\"none\" id=\"E2-&gt;E4\" style=\"stroke: #383838; stroke-width: 1.0;\"/><polygon fill=\"#383838\" points=\"101.79,160.88,109.7406,155.0673,104.2799,156.5441,102.8031,151.0834,101.79,160.88\" style=\"stroke: #383838; stroke-width: 1.0;\"/></a><!--MD5=[af87c684e3b0d8be13c1a698a818ef1e]\n",
       "link E3 to E4--><a href=\"psysml:6834d0f3-19d8-44ac-95f5-e8bc4db68e8a\" target=\"_top\" title=\"psysml:6834d0f3-19d8-44ac-95f5-e8bc4db68e8a\" xlink:actuate=\"onRequest\" xlink:href=\"psysml:6834d0f3-19d8-44ac-95f5-e8bc4db68e8a\" xlink:show=\"new\" xlink:title=\"psysml:6834d0f3-19d8-44ac-95f5-e8bc4db68e8a\" xlink:type=\"simple\"><path d=\"M64.62,101.14 C74.7,119.06 88.75,144.01 95.72,156.4 \" fill=\"none\" id=\"E3-&gt;E4\" style=\"stroke: #383838; stroke-width: 1.0;\"/><polygon fill=\"#383838\" points=\"98.25,160.88,97.3377,151.0735,95.8048,156.5187,90.3596,154.9858,98.25,160.88\" style=\"stroke: #383838; stroke-width: 1.0;\"/></a><!--MD5=[1b7591eae5389033d8d09a9d6721a717]\n",
       "link E4 to E5--><a href=\"psysml:02aceb33-1759-43f7-b21c-5882a5f834e0\" target=\"_top\" title=\"psysml:02aceb33-1759-43f7-b21c-5882a5f834e0\" xlink:actuate=\"onRequest\" xlink:href=\"psysml:02aceb33-1759-43f7-b21c-5882a5f834e0\" xlink:show=\"new\" xlink:title=\"psysml:02aceb33-1759-43f7-b21c-5882a5f834e0\" xlink:type=\"simple\"><path d=\"M100,169.18 C100,178.92 100,208.52 100,223.34 \" fill=\"none\" id=\"E4-&gt;E5\" style=\"stroke: #383838; stroke-width: 1.0;\"/><polygon fill=\"#383838\" points=\"100,228.69,104,219.69,100,223.69,96,219.69,100,228.69\" style=\"stroke: #383838; stroke-width: 1.0;\"/></a><!--MD5=[9120cf2e5df3bff93db8f754bbbc09b4]\n",
       "link E5 to E6--><a href=\"psysml:f43de8b9-7272-426a-b0aa-70e703f3a468\" target=\"_top\" title=\"psysml:f43de8b9-7272-426a-b0aa-70e703f3a468\" xlink:actuate=\"onRequest\" xlink:href=\"psysml:f43de8b9-7272-426a-b0aa-70e703f3a468\" xlink:show=\"new\" xlink:title=\"psysml:f43de8b9-7272-426a-b0aa-70e703f3a468\" xlink:type=\"simple\"><path d=\"M98.21,237.17 C93.16,246.14 78.41,272.36 67.11,292.43 \" fill=\"none\" id=\"E5-&gt;E6\" style=\"stroke: #383838; stroke-width: 1.0;\"/><polygon fill=\"#383838\" points=\"64.61,296.87,72.5151,290.9955,67.0661,292.5148,65.5467,287.0658,64.61,296.87\" style=\"stroke: #383838; stroke-width: 1.0;\"/></a><!--MD5=[3a9b96bfbf6b6ad89c494e81751bda47]\n",
       "link E5 to E7--><a href=\"psysml:6de5063b-eb84-4499-9c8a-3a0354e3d885\" target=\"_top\" title=\"psysml:6de5063b-eb84-4499-9c8a-3a0354e3d885\" xlink:actuate=\"onRequest\" xlink:href=\"psysml:6de5063b-eb84-4499-9c8a-3a0354e3d885\" xlink:show=\"new\" xlink:title=\"psysml:6de5063b-eb84-4499-9c8a-3a0354e3d885\" xlink:type=\"simple\"><path d=\"M101.82,237.17 C106.98,246.14 122.05,272.36 133.59,292.43 \" fill=\"none\" id=\"E5-&gt;E7\" style=\"stroke: #383838; stroke-width: 1.0;\"/><polygon fill=\"#383838\" points=\"136.14,296.87,135.1269,287.0734,133.6501,292.5341,128.1894,291.0573,136.14,296.87\" style=\"stroke: #383838; stroke-width: 1.0;\"/></a><!--MD5=[bd49f29b2982382df0d586da9675bb7a]\n",
       "@startuml\r\n",
       "top to bottom direction\r\n",
       "skinparam monochrome true\r\n",
       "skinparam classbackgroundcolor white\r\n",
       "skinparam shadowing false\r\n",
       "skinparam wrapWidth 300\r\n",
       "hide circle\r\n",
       "\r\n",
       "rec def \"ControlNodeTest\" as E1  <<(T,blue)action def>> [[psysml:8a19e2dd-7f31-4291-b841-c8e7ad6ceaae ]] {\r\n",
       "rec usage \"A1\" as E2  <<(T,blue)action>> [[psysml:63691cb2-c1ae-4262-a628-287378f10d06 ]] {\r\n",
       "}\r\n",
       "\r\n",
       "rec usage \"A2\" as E3  <<(T,blue)action>> [[psysml:c6acf79a-793e-4497-aa33-887aafacc071 ]] {\r\n",
       "}\r\n",
       "\r\n",
       "join \"J\" as E4  [[psysml:9118671e-8e40-41ce-bc29-e44727581a0d ]] \r\n",
       "fork \"F\" as E5  [[psysml:3c4d5a48-0835-4406-bc0d-d635a7475922 ]] \r\n",
       "rec usage \"B1\" as E6  <<(T,blue)action>> [[psysml:2beb575e-cdbc-464e-9dd9-fc16008b4aec ]] {\r\n",
       "}\r\n",
       "\r\n",
       "rec usage \"B2\" as E7  <<(T,blue)action>> [[psysml:18cbd039-fda1-47ea-ae1e-03ddeff777e2 ]] {\r\n",
       "}\r\n",
       "\r\n",
       "}\r\n",
       "\r\n",
       "E2 - -> E4 [[psysml:32927b08-9b1f-4059-96b6-74ea858c5377 ]] \r\n",
       "E3 - -> E4 [[psysml:6834d0f3-19d8-44ac-95f5-e8bc4db68e8a ]] \r\n",
       "E4 - -> E5 [[psysml:02aceb33-1759-43f7-b21c-5882a5f834e0 ]] \r\n",
       "E5 - -> E6 [[psysml:f43de8b9-7272-426a-b0aa-70e703f3a468 ]] \r\n",
       "E5 - -> E7 [[psysml:6de5063b-eb84-4499-9c8a-3a0354e3d885 ]] \r\n",
       "@enduml\r\n",
       "\n",
       "PlantUML version 1.2020.13(Sat Jun 13 12:26:38 UTC 2020)\n",
       "(EPL source distribution)\n",
       "Java Runtime: OpenJDK Runtime Environment\n",
       "JVM: OpenJDK 64-Bit Server VM\n",
       "Default Encoding: UTF-8\n",
       "Language: en\n",
       "Country: null\n",
       "--></g></svg>"
      ]
     },
     "execution_count": 44,
     "metadata": {},
     "output_type": "execute_result"
    }
   ],
   "source": [
    "%viz --style=\"TB\" --view=\"Default\" \"ControlNodeTest\""
   ]
  },
  {
   "cell_type": "code",
   "execution_count": 45,
   "id": "clean-samuel",
   "metadata": {
    "execution": {
     "iopub.execute_input": "2021-03-26T15:42:10.665744Z",
     "iopub.status.busy": "2021-03-26T15:42:10.665250Z",
     "iopub.status.idle": "2021-03-26T15:42:10.719991Z",
     "shell.execute_reply": "2021-03-26T15:42:10.719530Z"
    }
   },
   "outputs": [
    {
     "data": {
      "image/svg+xml": [
       "<?xml version=\"1.0\" encoding=\"UTF-8\" standalone=\"no\"?><svg xmlns=\"http://www.w3.org/2000/svg\" xmlns:xlink=\"http://www.w3.org/1999/xlink\" contentScriptType=\"application/ecmascript\" contentStyleType=\"text/css\" height=\"191px\" preserveAspectRatio=\"none\" style=\"width:129px;height:191px;\" version=\"1.1\" viewBox=\"0 0 129 191\" width=\"129px\" zoomAndPan=\"magnify\"><defs/><g><!--MD5=[43c9051892ef23e1a46a86907403d788]\n",
       "class E1--><a href=\"psysml:8a19e2dd-7f31-4291-b841-c8e7ad6ceaae\" target=\"_top\" title=\"psysml:8a19e2dd-7f31-4291-b841-c8e7ad6ceaae\" xlink:actuate=\"onRequest\" xlink:href=\"psysml:8a19e2dd-7f31-4291-b841-c8e7ad6ceaae\" xlink:show=\"new\" xlink:title=\"psysml:8a19e2dd-7f31-4291-b841-c8e7ad6ceaae\" xlink:type=\"simple\"><rect fill=\"#FFFFFF\" height=\"173.1797\" id=\"E1\" style=\"stroke: #383838; stroke-width: 1.5;\" width=\"111\" x=\"7\" y=\"7\"/><text fill=\"#000000\" font-family=\"sans-serif\" font-size=\"12\" font-style=\"italic\" lengthAdjust=\"spacingAndGlyphs\" textLength=\"77\" x=\"24\" y=\"23.1387\">«action def»</text><text fill=\"#000000\" font-family=\"sans-serif\" font-size=\"12\" lengthAdjust=\"spacingAndGlyphs\" textLength=\"105\" x=\"10\" y=\"37.1074\">ControlNodeTest</text><line style=\"stroke: #383838; stroke-width: 1.5;\" x1=\"8\" x2=\"117\" y1=\"44.9375\" y2=\"44.9375\"/><text fill=\"#000000\" font-family=\"sans-serif\" font-size=\"11\" lengthAdjust=\"spacingAndGlyphs\" textLength=\"14\" x=\"13\" y=\"75.9526\">A1</text><text fill=\"#000000\" font-family=\"sans-serif\" font-size=\"11\" lengthAdjust=\"spacingAndGlyphs\" textLength=\"14\" x=\"13\" y=\"88.7573\">A2</text><text fill=\"#000000\" font-family=\"sans-serif\" font-size=\"11\" lengthAdjust=\"spacingAndGlyphs\" textLength=\"15\" x=\"13\" y=\"101.562\">B1</text><text fill=\"#000000\" font-family=\"sans-serif\" font-size=\"11\" lengthAdjust=\"spacingAndGlyphs\" textLength=\"15\" x=\"13\" y=\"114.3667\">B2</text><line style=\"stroke: #383838; stroke-width: 1.0;\" x1=\"8\" x2=\"42\" y1=\"59.3398\" y2=\"59.3398\"/><text fill=\"#000000\" font-family=\"sans-serif\" font-size=\"11\" lengthAdjust=\"spacingAndGlyphs\" textLength=\"41\" x=\"42\" y=\"62.6479\">actions</text><line style=\"stroke: #383838; stroke-width: 1.0;\" x1=\"83\" x2=\"117\" y1=\"59.3398\" y2=\"59.3398\"/><text fill=\"#000000\" font-family=\"sans-serif\" font-size=\"11\" lengthAdjust=\"spacingAndGlyphs\" textLength=\"6\" x=\"13\" y=\"143.9761\">F</text><line style=\"stroke: #383838; stroke-width: 1.0;\" x1=\"8\" x2=\"33.5\" y1=\"127.3633\" y2=\"127.3633\"/><text fill=\"#000000\" font-family=\"sans-serif\" font-size=\"11\" lengthAdjust=\"spacingAndGlyphs\" textLength=\"58\" x=\"33.5\" y=\"130.6714\">forkNodes</text><line style=\"stroke: #383838; stroke-width: 1.0;\" x1=\"91.5\" x2=\"117\" y1=\"127.3633\" y2=\"127.3633\"/><text fill=\"#000000\" font-family=\"sans-serif\" font-size=\"11\" lengthAdjust=\"spacingAndGlyphs\" textLength=\"3\" x=\"13\" y=\"173.5854\">J</text><line style=\"stroke: #383838; stroke-width: 1.0;\" x1=\"8\" x2=\"34.5\" y1=\"156.9727\" y2=\"156.9727\"/><text fill=\"#000000\" font-family=\"sans-serif\" font-size=\"11\" lengthAdjust=\"spacingAndGlyphs\" textLength=\"56\" x=\"34.5\" y=\"160.2808\">joinNodes</text><line style=\"stroke: #383838; stroke-width: 1.0;\" x1=\"90.5\" x2=\"117\" y1=\"156.9727\" y2=\"156.9727\"/></a><!--MD5=[da59963647a274ca08a769f5161e2ca8]\n",
       "@startuml\r\n",
       "top to bottom direction\r\n",
       "skinparam monochrome true\r\n",
       "skinparam classbackgroundcolor white\r\n",
       "skinparam shadowing false\r\n",
       "skinparam wrapWidth 300\r\n",
       "hide circle\r\n",
       "\r\n",
       "comp def \"ControlNodeTest\" as E1  <<(T,blue)action def>> [[psysml:8a19e2dd-7f31-4291-b841-c8e7ad6ceaae ]] {\r\n",
       "- - actions - -\r\n",
       "A1\r\n",
       "A2\r\n",
       "B1\r\n",
       "B2\r\n",
       "- - forkNodes - -\r\n",
       "F\r\n",
       "- - joinNodes - -\r\n",
       "J\r\n",
       "}\r\n",
       "@enduml\r\n",
       "\n",
       "PlantUML version 1.2020.13(Sat Jun 13 12:26:38 UTC 2020)\n",
       "(EPL source distribution)\n",
       "Java Runtime: OpenJDK Runtime Environment\n",
       "JVM: OpenJDK 64-Bit Server VM\n",
       "Default Encoding: UTF-8\n",
       "Language: en\n",
       "Country: null\n",
       "--></g></svg>"
      ]
     },
     "execution_count": 45,
     "metadata": {},
     "output_type": "execute_result"
    }
   ],
   "source": [
    "%viz --style=\"TB\" --view=\"Tree\" \"ControlNodeTest\""
   ]
  },
  {
   "cell_type": "code",
   "execution_count": 46,
   "id": "documentary-poker",
   "metadata": {
    "execution": {
     "iopub.execute_input": "2021-03-26T15:42:10.771541Z",
     "iopub.status.busy": "2021-03-26T15:42:10.771041Z",
     "iopub.status.idle": "2021-03-26T15:42:10.776202Z",
     "shell.execute_reply": "2021-03-26T15:42:10.775506Z"
    }
   },
   "outputs": [
    {
     "data": {
      "image/svg+xml": [
       "<?xml version=\"1.0\" encoding=\"UTF-8\" standalone=\"no\"?><svg xmlns=\"http://www.w3.org/2000/svg\" xmlns:xlink=\"http://www.w3.org/1999/xlink\" contentScriptType=\"application/ecmascript\" contentStyleType=\"text/css\" height=\"12px\" preserveAspectRatio=\"none\" style=\"width:12px;height:12px;\" version=\"1.1\" viewBox=\"0 0 12 12\" width=\"12px\" zoomAndPan=\"magnify\"><defs/><g><!--MD5=[f4ee21bc66e489b5061b7c3e9601fdef]\n",
       "@startuml\r\n",
       "top to bottom direction\r\n",
       "skinparam monochrome true\r\n",
       "skinparam classbackgroundcolor white\r\n",
       "skinparam shadowing false\r\n",
       "skinparam wrapWidth 300\r\n",
       "hide circle\r\n",
       "\r\n",
       "@enduml\r\n",
       "\n",
       "PlantUML version 1.2020.13(Sat Jun 13 12:26:38 UTC 2020)\n",
       "(EPL source distribution)\n",
       "Java Runtime: OpenJDK Runtime Environment\n",
       "JVM: OpenJDK 64-Bit Server VM\n",
       "Default Encoding: UTF-8\n",
       "Language: en\n",
       "Country: null\n",
       "--></g></svg>"
      ]
     },
     "execution_count": 46,
     "metadata": {},
     "output_type": "execute_result"
    }
   ],
   "source": [
    "%viz --style=\"TB\" --view=\"State\" \"ControlNodeTest\""
   ]
  },
  {
   "cell_type": "code",
   "execution_count": 47,
   "id": "monetary-banks",
   "metadata": {
    "execution": {
     "iopub.execute_input": "2021-03-26T15:42:10.828145Z",
     "iopub.status.busy": "2021-03-26T15:42:10.827332Z",
     "iopub.status.idle": "2021-03-26T15:42:10.858181Z",
     "shell.execute_reply": "2021-03-26T15:42:10.856712Z"
    }
   },
   "outputs": [
    {
     "data": {
      "image/svg+xml": [
       "<?xml version=\"1.0\" encoding=\"UTF-8\" standalone=\"no\"?><svg xmlns=\"http://www.w3.org/2000/svg\" xmlns:xlink=\"http://www.w3.org/1999/xlink\" contentScriptType=\"application/ecmascript\" contentStyleType=\"text/css\" height=\"217px\" preserveAspectRatio=\"none\" style=\"width:205px;height:217px;\" version=\"1.1\" viewBox=\"0 0 205 217\" width=\"205px\" zoomAndPan=\"magnify\"><defs/><g><!--MD5=[fbc87193dbaf4d95561dea2c320d4a47]\n",
       "cluster E1--><a href=\"psysml:8a19e2dd-7f31-4291-b841-c8e7ad6ceaae\" target=\"_top\" title=\"psysml:8a19e2dd-7f31-4291-b841-c8e7ad6ceaae\" xlink:actuate=\"onRequest\" xlink:href=\"psysml:8a19e2dd-7f31-4291-b841-c8e7ad6ceaae\" xlink:show=\"new\" xlink:title=\"psysml:8a19e2dd-7f31-4291-b841-c8e7ad6ceaae\" xlink:type=\"simple\"><rect fill=\"#FFFFFF\" height=\"199\" id=\"E1\" style=\"stroke: #383838; stroke-width: 1.5;\" width=\"187\" x=\"7\" y=\"7\"/><rect fill=\"#F8F8F8\" height=\"37.9375\" style=\"stroke: #383838; stroke-width: 1.5;\" width=\"187\" x=\"7\" y=\"7\"/><text fill=\"#000000\" font-family=\"sans-serif\" font-size=\"12\" font-style=\"italic\" lengthAdjust=\"spacingAndGlyphs\" textLength=\"77\" x=\"62\" y=\"23.1387\">«action def»</text><text fill=\"#000000\" font-family=\"sans-serif\" font-size=\"12\" lengthAdjust=\"spacingAndGlyphs\" textLength=\"105\" x=\"48\" y=\"37.1074\">ControlNodeTest</text></a><rect fill=\"#000000\" height=\"8\" style=\"stroke: none; stroke-width: 1.0;\" width=\"80\" x=\"60\" y=\"111\"/><rect fill=\"#000000\" height=\"8\" style=\"stroke: none; stroke-width: 1.0;\" width=\"80\" x=\"60\" y=\"129\"/><g id=\"E1.E2\"><a href=\"psysml:63691cb2-c1ae-4262-a628-287378f10d06\" target=\"_top\" title=\"psysml:63691cb2-c1ae-4262-a628-287378f10d06\" xlink:actuate=\"onRequest\" xlink:href=\"psysml:63691cb2-c1ae-4262-a628-287378f10d06\" xlink:show=\"new\" xlink:title=\"psysml:63691cb2-c1ae-4262-a628-287378f10d06\" xlink:type=\"simple\"><rect fill=\"#FFFFFF\" height=\"42.9375\" id=\"E2\" rx=\"10\" ry=\"10\" style=\"stroke: #383838; stroke-width: 1.5;\" width=\"60\" x=\"118\" y=\"58\"/><rect fill=\"#F8F8F8\" height=\"37.9375\" rx=\"10\" ry=\"10\" style=\"stroke: #F8F8F8; stroke-width: 1.5;\" width=\"60\" x=\"118\" y=\"58\"/><rect fill=\"#F8F8F8\" height=\"10\" style=\"stroke: #F8F8F8; stroke-width: 1.5;\" width=\"60\" x=\"118\" y=\"85.9375\"/><rect fill=\"none\" height=\"42.9375\" id=\"E2\" rx=\"10\" ry=\"10\" style=\"stroke: #383838; stroke-width: 1.5;\" width=\"60\" x=\"118\" y=\"58\"/><text fill=\"#000000\" font-family=\"sans-serif\" font-size=\"12\" font-style=\"italic\" lengthAdjust=\"spacingAndGlyphs\" textLength=\"53\" x=\"121.5\" y=\"74.1387\">«action»</text><text fill=\"#000000\" font-family=\"sans-serif\" font-size=\"12\" lengthAdjust=\"spacingAndGlyphs\" textLength=\"16\" x=\"140\" y=\"88.1074\">A1</text></a></g><g id=\"E1.E3\"><a href=\"psysml:c6acf79a-793e-4497-aa33-887aafacc071\" target=\"_top\" title=\"psysml:c6acf79a-793e-4497-aa33-887aafacc071\" xlink:actuate=\"onRequest\" xlink:href=\"psysml:c6acf79a-793e-4497-aa33-887aafacc071\" xlink:show=\"new\" xlink:title=\"psysml:c6acf79a-793e-4497-aa33-887aafacc071\" xlink:type=\"simple\"><rect fill=\"#FFFFFF\" height=\"42.9375\" id=\"E3\" rx=\"10\" ry=\"10\" style=\"stroke: #383838; stroke-width: 1.5;\" width=\"60\" x=\"23\" y=\"58\"/><rect fill=\"#F8F8F8\" height=\"37.9375\" rx=\"10\" ry=\"10\" style=\"stroke: #F8F8F8; stroke-width: 1.5;\" width=\"60\" x=\"23\" y=\"58\"/><rect fill=\"#F8F8F8\" height=\"10\" style=\"stroke: #F8F8F8; stroke-width: 1.5;\" width=\"60\" x=\"23\" y=\"85.9375\"/><rect fill=\"none\" height=\"42.9375\" id=\"E3\" rx=\"10\" ry=\"10\" style=\"stroke: #383838; stroke-width: 1.5;\" width=\"60\" x=\"23\" y=\"58\"/><text fill=\"#000000\" font-family=\"sans-serif\" font-size=\"12\" font-style=\"italic\" lengthAdjust=\"spacingAndGlyphs\" textLength=\"53\" x=\"26.5\" y=\"74.1387\">«action»</text><text fill=\"#000000\" font-family=\"sans-serif\" font-size=\"12\" lengthAdjust=\"spacingAndGlyphs\" textLength=\"16\" x=\"45\" y=\"88.1074\">A2</text></a></g><g id=\"E1.E6\"><a href=\"psysml:2beb575e-cdbc-464e-9dd9-fc16008b4aec\" target=\"_top\" title=\"psysml:2beb575e-cdbc-464e-9dd9-fc16008b4aec\" xlink:actuate=\"onRequest\" xlink:href=\"psysml:2beb575e-cdbc-464e-9dd9-fc16008b4aec\" xlink:show=\"new\" xlink:title=\"psysml:2beb575e-cdbc-464e-9dd9-fc16008b4aec\" xlink:type=\"simple\"><rect fill=\"#FFFFFF\" height=\"42.9375\" id=\"E6\" rx=\"10\" ry=\"10\" style=\"stroke: #383838; stroke-width: 1.5;\" width=\"60\" x=\"23\" y=\"147\"/><rect fill=\"#F8F8F8\" height=\"37.9375\" rx=\"10\" ry=\"10\" style=\"stroke: #F8F8F8; stroke-width: 1.5;\" width=\"60\" x=\"23\" y=\"147\"/><rect fill=\"#F8F8F8\" height=\"10\" style=\"stroke: #F8F8F8; stroke-width: 1.5;\" width=\"60\" x=\"23\" y=\"174.9375\"/><rect fill=\"none\" height=\"42.9375\" id=\"E6\" rx=\"10\" ry=\"10\" style=\"stroke: #383838; stroke-width: 1.5;\" width=\"60\" x=\"23\" y=\"147\"/><text fill=\"#000000\" font-family=\"sans-serif\" font-size=\"12\" font-style=\"italic\" lengthAdjust=\"spacingAndGlyphs\" textLength=\"53\" x=\"26.5\" y=\"163.1387\">«action»</text><text fill=\"#000000\" font-family=\"sans-serif\" font-size=\"12\" lengthAdjust=\"spacingAndGlyphs\" textLength=\"16\" x=\"45\" y=\"177.1074\">B1</text></a></g><g id=\"E1.E7\"><a href=\"psysml:18cbd039-fda1-47ea-ae1e-03ddeff777e2\" target=\"_top\" title=\"psysml:18cbd039-fda1-47ea-ae1e-03ddeff777e2\" xlink:actuate=\"onRequest\" xlink:href=\"psysml:18cbd039-fda1-47ea-ae1e-03ddeff777e2\" xlink:show=\"new\" xlink:title=\"psysml:18cbd039-fda1-47ea-ae1e-03ddeff777e2\" xlink:type=\"simple\"><rect fill=\"#FFFFFF\" height=\"42.9375\" id=\"E7\" rx=\"10\" ry=\"10\" style=\"stroke: #383838; stroke-width: 1.5;\" width=\"60\" x=\"118\" y=\"147\"/><rect fill=\"#F8F8F8\" height=\"37.9375\" rx=\"10\" ry=\"10\" style=\"stroke: #F8F8F8; stroke-width: 1.5;\" width=\"60\" x=\"118\" y=\"147\"/><rect fill=\"#F8F8F8\" height=\"10\" style=\"stroke: #F8F8F8; stroke-width: 1.5;\" width=\"60\" x=\"118\" y=\"174.9375\"/><rect fill=\"none\" height=\"42.9375\" id=\"E7\" rx=\"10\" ry=\"10\" style=\"stroke: #383838; stroke-width: 1.5;\" width=\"60\" x=\"118\" y=\"147\"/><text fill=\"#000000\" font-family=\"sans-serif\" font-size=\"12\" font-style=\"italic\" lengthAdjust=\"spacingAndGlyphs\" textLength=\"53\" x=\"121.5\" y=\"163.1387\">«action»</text><text fill=\"#000000\" font-family=\"sans-serif\" font-size=\"12\" lengthAdjust=\"spacingAndGlyphs\" textLength=\"16\" x=\"140\" y=\"177.1074\">B2</text></a></g><!--MD5=[4d03bb2d0377dc85ccfab60ff574652b]\n",
       "link E2 to E4--><a href=\"psysml:32927b08-9b1f-4059-96b6-74ea858c5377\" target=\"_top\" title=\"psysml:32927b08-9b1f-4059-96b6-74ea858c5377\" xlink:actuate=\"onRequest\" xlink:href=\"psysml:32927b08-9b1f-4059-96b6-74ea858c5377\" xlink:show=\"new\" xlink:title=\"psysml:32927b08-9b1f-4059-96b6-74ea858c5377\" xlink:type=\"simple\"><path d=\"M118.42,101.14 C114.95,103.57 111.64,105.88 108.81,107.85 \" fill=\"none\" id=\"E2-&gt;E4\" style=\"stroke: #383838; stroke-width: 1.0;\"/><polygon fill=\"#383838\" points=\"104.3,111,113.9709,109.1361,108.4022,108.1413,109.397,102.5726,104.3,111\" style=\"stroke: #383838; stroke-width: 1.0;\"/></a><!--MD5=[af87c684e3b0d8be13c1a698a818ef1e]\n",
       "link E3 to E4--><a href=\"psysml:6834d0f3-19d8-44ac-95f5-e8bc4db68e8a\" target=\"_top\" title=\"psysml:6834d0f3-19d8-44ac-95f5-e8bc4db68e8a\" xlink:actuate=\"onRequest\" xlink:href=\"psysml:6834d0f3-19d8-44ac-95f5-e8bc4db68e8a\" xlink:show=\"new\" xlink:title=\"psysml:6834d0f3-19d8-44ac-95f5-e8bc4db68e8a\" xlink:type=\"simple\"><path d=\"M81.96,101.14 C85.36,103.57 88.6,105.88 91.37,107.85 \" fill=\"none\" id=\"E3-&gt;E4\" style=\"stroke: #383838; stroke-width: 1.0;\"/><polygon fill=\"#383838\" points=\"95.79,111,90.7801,102.5206,91.7175,108.0992,86.1388,109.0366,95.79,111\" style=\"stroke: #383838; stroke-width: 1.0;\"/></a><!--MD5=[1b7591eae5389033d8d09a9d6721a717]\n",
       "link E4 to E5--><a href=\"psysml:02aceb33-1759-43f7-b21c-5882a5f834e0\" target=\"_top\" title=\"psysml:02aceb33-1759-43f7-b21c-5882a5f834e0\" xlink:actuate=\"onRequest\" xlink:href=\"psysml:02aceb33-1759-43f7-b21c-5882a5f834e0\" xlink:show=\"new\" xlink:title=\"psysml:02aceb33-1759-43f7-b21c-5882a5f834e0\" xlink:type=\"simple\"><path d=\"M100,119.08 C100,120.38 100,121.95 100,123.55 \" fill=\"none\" id=\"E4-&gt;E5\" style=\"stroke: #383838; stroke-width: 1.0;\"/><polygon fill=\"#383838\" points=\"100,128.7,104,119.7,100,123.7,96,119.7,100,128.7\" style=\"stroke: #383838; stroke-width: 1.0;\"/></a><!--MD5=[9120cf2e5df3bff93db8f754bbbc09b4]\n",
       "link E5 to E6--><a href=\"psysml:f43de8b9-7272-426a-b0aa-70e703f3a468\" target=\"_top\" title=\"psysml:f43de8b9-7272-426a-b0aa-70e703f3a468\" xlink:actuate=\"onRequest\" xlink:href=\"psysml:f43de8b9-7272-426a-b0aa-70e703f3a468\" xlink:show=\"new\" xlink:title=\"psysml:f43de8b9-7272-426a-b0aa-70e703f3a468\" xlink:type=\"simple\"><path d=\"M95.66,137.09 C93.25,138.81 89.99,141.13 86.35,143.73 \" fill=\"none\" id=\"E5-&gt;E6\" style=\"stroke: #383838; stroke-width: 1.0;\"/><polygon fill=\"#383838\" points=\"81.93,146.88,91.5812,144.9166,86.0025,143.9792,86.9399,138.4006,81.93,146.88\" style=\"stroke: #383838; stroke-width: 1.0;\"/></a><!--MD5=[3a9b96bfbf6b6ad89c494e81751bda47]\n",
       "link E5 to E7--><a href=\"psysml:6de5063b-eb84-4499-9c8a-3a0354e3d885\" target=\"_top\" title=\"psysml:6de5063b-eb84-4499-9c8a-3a0354e3d885\" xlink:actuate=\"onRequest\" xlink:href=\"psysml:6de5063b-eb84-4499-9c8a-3a0354e3d885\" xlink:show=\"new\" xlink:title=\"psysml:6de5063b-eb84-4499-9c8a-3a0354e3d885\" xlink:type=\"simple\"><path d=\"M104.43,137.09 C106.9,138.81 110.22,141.13 113.94,143.73 \" fill=\"none\" id=\"E5-&gt;E7\" style=\"stroke: #383838; stroke-width: 1.0;\"/><polygon fill=\"#383838\" points=\"118.46,146.88,113.3827,138.4407,114.3645,144.0117,108.7935,144.9935,118.46,146.88\" style=\"stroke: #383838; stroke-width: 1.0;\"/></a><!--MD5=[94dde6559d63470ff942f0db903d03f0]\n",
       "@startuml\r\n",
       "skinparam ranksep 10\r\n",
       "skinparam rectangle {\r\n",
       " backgroundColor<<block>> LightGreen\r\n",
       "}\r\n",
       "top to bottom direction\r\n",
       "skinparam monochrome true\r\n",
       "skinparam classbackgroundcolor white\r\n",
       "skinparam shadowing false\r\n",
       "skinparam wrapWidth 300\r\n",
       "hide circle\r\n",
       "\r\n",
       "rec def \"ControlNodeTest\" as E1  <<(T,blue)action def>> [[psysml:8a19e2dd-7f31-4291-b841-c8e7ad6ceaae ]] {\r\n",
       "rec usage \"A1\" as E2  <<(T,blue)action>> [[psysml:63691cb2-c1ae-4262-a628-287378f10d06 ]] {\r\n",
       "}\r\n",
       "\r\n",
       "rec usage \"A2\" as E3  <<(T,blue)action>> [[psysml:c6acf79a-793e-4497-aa33-887aafacc071 ]] {\r\n",
       "}\r\n",
       "\r\n",
       "join \"J\" as E4  [[psysml:9118671e-8e40-41ce-bc29-e44727581a0d ]] \r\n",
       "fork \"F\" as E5  [[psysml:3c4d5a48-0835-4406-bc0d-d635a7475922 ]] \r\n",
       "rec usage \"B1\" as E6  <<(T,blue)action>> [[psysml:2beb575e-cdbc-464e-9dd9-fc16008b4aec ]] {\r\n",
       "}\r\n",
       "\r\n",
       "rec usage \"B2\" as E7  <<(T,blue)action>> [[psysml:18cbd039-fda1-47ea-ae1e-03ddeff777e2 ]] {\r\n",
       "}\r\n",
       "\r\n",
       "}\r\n",
       "\r\n",
       "E2 - -> E4 [[psysml:32927b08-9b1f-4059-96b6-74ea858c5377 ]] \r\n",
       "E3 - -> E4 [[psysml:6834d0f3-19d8-44ac-95f5-e8bc4db68e8a ]] \r\n",
       "E4 - -> E5 [[psysml:02aceb33-1759-43f7-b21c-5882a5f834e0 ]] \r\n",
       "E5 - -> E6 [[psysml:f43de8b9-7272-426a-b0aa-70e703f3a468 ]] \r\n",
       "E5 - -> E7 [[psysml:6de5063b-eb84-4499-9c8a-3a0354e3d885 ]] \r\n",
       "@enduml\r\n",
       "\n",
       "PlantUML version 1.2020.13(Sat Jun 13 12:26:38 UTC 2020)\n",
       "(EPL source distribution)\n",
       "Java Runtime: OpenJDK Runtime Environment\n",
       "JVM: OpenJDK 64-Bit Server VM\n",
       "Default Encoding: UTF-8\n",
       "Language: en\n",
       "Country: null\n",
       "--></g></svg>"
      ]
     },
     "execution_count": 47,
     "metadata": {},
     "output_type": "execute_result"
    }
   ],
   "source": [
    "%viz --style=\"TB\" --view=\"Interconnection\" \"ControlNodeTest\""
   ]
  },
  {
   "cell_type": "code",
   "execution_count": 48,
   "id": "complex-stake",
   "metadata": {
    "execution": {
     "iopub.execute_input": "2021-03-26T15:42:10.908234Z",
     "iopub.status.busy": "2021-03-26T15:42:10.907913Z",
     "iopub.status.idle": "2021-03-26T15:42:10.935863Z",
     "shell.execute_reply": "2021-03-26T15:42:10.934236Z"
    }
   },
   "outputs": [
    {
     "data": {
      "image/svg+xml": [
       "<?xml version=\"1.0\" encoding=\"UTF-8\" standalone=\"no\"?><svg xmlns=\"http://www.w3.org/2000/svg\" xmlns:xlink=\"http://www.w3.org/1999/xlink\" contentScriptType=\"application/ecmascript\" contentStyleType=\"text/css\" height=\"211px\" preserveAspectRatio=\"none\" style=\"width:205px;height:211px;\" version=\"1.1\" viewBox=\"0 0 205 211\" width=\"205px\" zoomAndPan=\"magnify\"><defs/><g><!--MD5=[fbc87193dbaf4d95561dea2c320d4a47]\n",
       "cluster E1--><a href=\"psysml:8a19e2dd-7f31-4291-b841-c8e7ad6ceaae\" target=\"_top\" title=\"psysml:8a19e2dd-7f31-4291-b841-c8e7ad6ceaae\" xlink:actuate=\"onRequest\" xlink:href=\"psysml:8a19e2dd-7f31-4291-b841-c8e7ad6ceaae\" xlink:show=\"new\" xlink:title=\"psysml:8a19e2dd-7f31-4291-b841-c8e7ad6ceaae\" xlink:type=\"simple\"><rect fill=\"#FFFFFF\" height=\"193\" id=\"E1\" style=\"stroke: #383838; stroke-width: 1.5;\" width=\"187\" x=\"7\" y=\"7\"/><rect fill=\"#F8F8F8\" height=\"37.9375\" style=\"stroke: #383838; stroke-width: 1.5;\" width=\"187\" x=\"7\" y=\"7\"/><text fill=\"#000000\" font-family=\"sans-serif\" font-size=\"12\" font-style=\"italic\" lengthAdjust=\"spacingAndGlyphs\" textLength=\"77\" x=\"62\" y=\"23.1387\">«action def»</text><text fill=\"#000000\" font-family=\"sans-serif\" font-size=\"12\" lengthAdjust=\"spacingAndGlyphs\" textLength=\"105\" x=\"48\" y=\"37.1074\">ControlNodeTest</text></a><rect fill=\"#000000\" height=\"8\" style=\"stroke: none; stroke-width: 1.0;\" width=\"80\" x=\"60\" y=\"109\"/><rect fill=\"#000000\" height=\"8\" style=\"stroke: none; stroke-width: 1.0;\" width=\"80\" x=\"60\" y=\"125\"/><g id=\"E1.E2\"><a href=\"psysml:63691cb2-c1ae-4262-a628-287378f10d06\" target=\"_top\" title=\"psysml:63691cb2-c1ae-4262-a628-287378f10d06\" xlink:actuate=\"onRequest\" xlink:href=\"psysml:63691cb2-c1ae-4262-a628-287378f10d06\" xlink:show=\"new\" xlink:title=\"psysml:63691cb2-c1ae-4262-a628-287378f10d06\" xlink:type=\"simple\"><rect fill=\"#FFFFFF\" height=\"42.9375\" id=\"E2\" rx=\"10\" ry=\"10\" style=\"stroke: #383838; stroke-width: 1.5;\" width=\"60\" x=\"118\" y=\"58\"/><rect fill=\"#F8F8F8\" height=\"37.9375\" rx=\"10\" ry=\"10\" style=\"stroke: #F8F8F8; stroke-width: 1.5;\" width=\"60\" x=\"118\" y=\"58\"/><rect fill=\"#F8F8F8\" height=\"10\" style=\"stroke: #F8F8F8; stroke-width: 1.5;\" width=\"60\" x=\"118\" y=\"85.9375\"/><rect fill=\"none\" height=\"42.9375\" id=\"E2\" rx=\"10\" ry=\"10\" style=\"stroke: #383838; stroke-width: 1.5;\" width=\"60\" x=\"118\" y=\"58\"/><text fill=\"#000000\" font-family=\"sans-serif\" font-size=\"12\" font-style=\"italic\" lengthAdjust=\"spacingAndGlyphs\" textLength=\"53\" x=\"121.5\" y=\"74.1387\">«action»</text><text fill=\"#000000\" font-family=\"sans-serif\" font-size=\"12\" lengthAdjust=\"spacingAndGlyphs\" textLength=\"16\" x=\"140\" y=\"88.1074\">A1</text></a></g><g id=\"E1.E3\"><a href=\"psysml:c6acf79a-793e-4497-aa33-887aafacc071\" target=\"_top\" title=\"psysml:c6acf79a-793e-4497-aa33-887aafacc071\" xlink:actuate=\"onRequest\" xlink:href=\"psysml:c6acf79a-793e-4497-aa33-887aafacc071\" xlink:show=\"new\" xlink:title=\"psysml:c6acf79a-793e-4497-aa33-887aafacc071\" xlink:type=\"simple\"><rect fill=\"#FFFFFF\" height=\"42.9375\" id=\"E3\" rx=\"10\" ry=\"10\" style=\"stroke: #383838; stroke-width: 1.5;\" width=\"60\" x=\"23\" y=\"58\"/><rect fill=\"#F8F8F8\" height=\"37.9375\" rx=\"10\" ry=\"10\" style=\"stroke: #F8F8F8; stroke-width: 1.5;\" width=\"60\" x=\"23\" y=\"58\"/><rect fill=\"#F8F8F8\" height=\"10\" style=\"stroke: #F8F8F8; stroke-width: 1.5;\" width=\"60\" x=\"23\" y=\"85.9375\"/><rect fill=\"none\" height=\"42.9375\" id=\"E3\" rx=\"10\" ry=\"10\" style=\"stroke: #383838; stroke-width: 1.5;\" width=\"60\" x=\"23\" y=\"58\"/><text fill=\"#000000\" font-family=\"sans-serif\" font-size=\"12\" font-style=\"italic\" lengthAdjust=\"spacingAndGlyphs\" textLength=\"53\" x=\"26.5\" y=\"74.1387\">«action»</text><text fill=\"#000000\" font-family=\"sans-serif\" font-size=\"12\" lengthAdjust=\"spacingAndGlyphs\" textLength=\"16\" x=\"45\" y=\"88.1074\">A2</text></a></g><g id=\"E1.E6\"><a href=\"psysml:2beb575e-cdbc-464e-9dd9-fc16008b4aec\" target=\"_top\" title=\"psysml:2beb575e-cdbc-464e-9dd9-fc16008b4aec\" xlink:actuate=\"onRequest\" xlink:href=\"psysml:2beb575e-cdbc-464e-9dd9-fc16008b4aec\" xlink:show=\"new\" xlink:title=\"psysml:2beb575e-cdbc-464e-9dd9-fc16008b4aec\" xlink:type=\"simple\"><rect fill=\"#FFFFFF\" height=\"42.9375\" id=\"E6\" rx=\"10\" ry=\"10\" style=\"stroke: #383838; stroke-width: 1.5;\" width=\"60\" x=\"23\" y=\"141\"/><rect fill=\"#F8F8F8\" height=\"37.9375\" rx=\"10\" ry=\"10\" style=\"stroke: #F8F8F8; stroke-width: 1.5;\" width=\"60\" x=\"23\" y=\"141\"/><rect fill=\"#F8F8F8\" height=\"10\" style=\"stroke: #F8F8F8; stroke-width: 1.5;\" width=\"60\" x=\"23\" y=\"168.9375\"/><rect fill=\"none\" height=\"42.9375\" id=\"E6\" rx=\"10\" ry=\"10\" style=\"stroke: #383838; stroke-width: 1.5;\" width=\"60\" x=\"23\" y=\"141\"/><text fill=\"#000000\" font-family=\"sans-serif\" font-size=\"12\" font-style=\"italic\" lengthAdjust=\"spacingAndGlyphs\" textLength=\"53\" x=\"26.5\" y=\"157.1387\">«action»</text><text fill=\"#000000\" font-family=\"sans-serif\" font-size=\"12\" lengthAdjust=\"spacingAndGlyphs\" textLength=\"16\" x=\"45\" y=\"171.1074\">B1</text></a></g><g id=\"E1.E7\"><a href=\"psysml:18cbd039-fda1-47ea-ae1e-03ddeff777e2\" target=\"_top\" title=\"psysml:18cbd039-fda1-47ea-ae1e-03ddeff777e2\" xlink:actuate=\"onRequest\" xlink:href=\"psysml:18cbd039-fda1-47ea-ae1e-03ddeff777e2\" xlink:show=\"new\" xlink:title=\"psysml:18cbd039-fda1-47ea-ae1e-03ddeff777e2\" xlink:type=\"simple\"><rect fill=\"#FFFFFF\" height=\"42.9375\" id=\"E7\" rx=\"10\" ry=\"10\" style=\"stroke: #383838; stroke-width: 1.5;\" width=\"60\" x=\"118\" y=\"141\"/><rect fill=\"#F8F8F8\" height=\"37.9375\" rx=\"10\" ry=\"10\" style=\"stroke: #F8F8F8; stroke-width: 1.5;\" width=\"60\" x=\"118\" y=\"141\"/><rect fill=\"#F8F8F8\" height=\"10\" style=\"stroke: #F8F8F8; stroke-width: 1.5;\" width=\"60\" x=\"118\" y=\"168.9375\"/><rect fill=\"none\" height=\"42.9375\" id=\"E7\" rx=\"10\" ry=\"10\" style=\"stroke: #383838; stroke-width: 1.5;\" width=\"60\" x=\"118\" y=\"141\"/><text fill=\"#000000\" font-family=\"sans-serif\" font-size=\"12\" font-style=\"italic\" lengthAdjust=\"spacingAndGlyphs\" textLength=\"53\" x=\"121.5\" y=\"157.1387\">«action»</text><text fill=\"#000000\" font-family=\"sans-serif\" font-size=\"12\" lengthAdjust=\"spacingAndGlyphs\" textLength=\"16\" x=\"140\" y=\"171.1074\">B2</text></a></g><!--MD5=[4d03bb2d0377dc85ccfab60ff574652b]\n",
       "link E2 to E4--><a href=\"psysml:32927b08-9b1f-4059-96b6-74ea858c5377\" target=\"_top\" title=\"psysml:32927b08-9b1f-4059-96b6-74ea858c5377\" xlink:actuate=\"onRequest\" xlink:href=\"psysml:32927b08-9b1f-4059-96b6-74ea858c5377\" xlink:show=\"new\" xlink:title=\"psysml:32927b08-9b1f-4059-96b6-74ea858c5377\" xlink:type=\"simple\"><path d=\"M117.87,100.27 C114.67,102.37 111.63,104.37 108.98,106.1 \" fill=\"none\" id=\"E2-&gt;E4\" style=\"stroke: #383838; stroke-width: 1.0; stroke-dasharray: 7.0,7.0;\"/><polygon fill=\"#383838\" points=\"104.72,108.9,114.4401,107.3128,108.9021,106.1595,110.0554,100.6215,104.72,108.9\" style=\"stroke: #383838; stroke-width: 1.0;\"/></a><!--MD5=[af87c684e3b0d8be13c1a698a818ef1e]\n",
       "link E3 to E4--><a href=\"psysml:6834d0f3-19d8-44ac-95f5-e8bc4db68e8a\" target=\"_top\" title=\"psysml:6834d0f3-19d8-44ac-95f5-e8bc4db68e8a\" xlink:actuate=\"onRequest\" xlink:href=\"psysml:6834d0f3-19d8-44ac-95f5-e8bc4db68e8a\" xlink:show=\"new\" xlink:title=\"psysml:6834d0f3-19d8-44ac-95f5-e8bc4db68e8a\" xlink:type=\"simple\"><path d=\"M83.03,100.63 C85.85,102.52 88.54,104.32 90.9,105.9 \" fill=\"none\" id=\"E3-&gt;E4\" style=\"stroke: #383838; stroke-width: 1.0; stroke-dasharray: 7.0,7.0;\"/><polygon fill=\"#383838\" points=\"95.26,108.82,90.0101,100.487,91.1063,106.0366,85.5567,107.1328,95.26,108.82\" style=\"stroke: #383838; stroke-width: 1.0;\"/></a><!--MD5=[1b7591eae5389033d8d09a9d6721a717]\n",
       "link E4 to E5--><a href=\"psysml:02aceb33-1759-43f7-b21c-5882a5f834e0\" target=\"_top\" title=\"psysml:02aceb33-1759-43f7-b21c-5882a5f834e0\" xlink:actuate=\"onRequest\" xlink:href=\"psysml:02aceb33-1759-43f7-b21c-5882a5f834e0\" xlink:show=\"new\" xlink:title=\"psysml:02aceb33-1759-43f7-b21c-5882a5f834e0\" xlink:type=\"simple\"><path d=\"M100,117.25 C100,118.05 100,118.94 100,119.86 \" fill=\"none\" id=\"E4-&gt;E5\" style=\"stroke: #383838; stroke-width: 1.0; stroke-dasharray: 7.0,7.0;\"/><polygon fill=\"#383838\" points=\"100,124.96,104,115.96,100,119.96,96,115.96,100,124.96\" style=\"stroke: #383838; stroke-width: 1.0;\"/></a><!--MD5=[9120cf2e5df3bff93db8f754bbbc09b4]\n",
       "link E5 to E6--><a href=\"psysml:f43de8b9-7272-426a-b0aa-70e703f3a468\" target=\"_top\" title=\"psysml:f43de8b9-7272-426a-b0aa-70e703f3a468\" xlink:actuate=\"onRequest\" xlink:href=\"psysml:f43de8b9-7272-426a-b0aa-70e703f3a468\" xlink:show=\"new\" xlink:title=\"psysml:f43de8b9-7272-426a-b0aa-70e703f3a468\" xlink:type=\"simple\"><path d=\"M95.32,133.14 C93.21,134.55 90.52,136.35 87.53,138.36 \" fill=\"none\" id=\"E5-&gt;E6\" style=\"stroke: #383838; stroke-width: 1.0; stroke-dasharray: 7.0,7.0;\"/><polygon fill=\"#383838\" points=\"83.27,141.21,92.9706,139.5074,87.4192,138.42,88.5066,132.8687,83.27,141.21\" style=\"stroke: #383838; stroke-width: 1.0;\"/></a><!--MD5=[3a9b96bfbf6b6ad89c494e81751bda47]\n",
       "link E5 to E7--><a href=\"psysml:6de5063b-eb84-4499-9c8a-3a0354e3d885\" target=\"_top\" title=\"psysml:6de5063b-eb84-4499-9c8a-3a0354e3d885\" xlink:actuate=\"onRequest\" xlink:href=\"psysml:6de5063b-eb84-4499-9c8a-3a0354e3d885\" xlink:show=\"new\" xlink:title=\"psysml:6de5063b-eb84-4499-9c8a-3a0354e3d885\" xlink:type=\"simple\"><path d=\"M104.78,133.14 C107.16,134.7 110.28,136.75 113.75,139.02 \" fill=\"none\" id=\"E5-&gt;E7\" style=\"stroke: #383838; stroke-width: 1.0; stroke-dasharray: 7.0,7.0;\"/><polygon fill=\"#383838\" points=\"117.96,141.79,112.6246,133.5115,113.7779,139.0495,108.2399,140.2028,117.96,141.79\" style=\"stroke: #383838; stroke-width: 1.0;\"/></a><!--MD5=[23508ef7ddecc5c14ab111ca0ba3b21e]\n",
       "@startuml\r\n",
       "skinparam ranksep 8\r\n",
       "top to bottom direction\r\n",
       "skinparam monochrome true\r\n",
       "skinparam classbackgroundcolor white\r\n",
       "skinparam shadowing false\r\n",
       "skinparam wrapWidth 300\r\n",
       "hide circle\r\n",
       "\r\n",
       "rec def \"ControlNodeTest\" as E1  <<(T,blue)action def>> [[psysml:8a19e2dd-7f31-4291-b841-c8e7ad6ceaae ]] {\r\n",
       "rec usage \"A1\" as E2  <<(T,blue)action>> [[psysml:63691cb2-c1ae-4262-a628-287378f10d06 ]] {\r\n",
       "}\r\n",
       "\r\n",
       "rec usage \"A2\" as E3  <<(T,blue)action>> [[psysml:c6acf79a-793e-4497-aa33-887aafacc071 ]] {\r\n",
       "}\r\n",
       "\r\n",
       "join \"J\" as E4  [[psysml:9118671e-8e40-41ce-bc29-e44727581a0d ]] \r\n",
       "fork \"F\" as E5  [[psysml:3c4d5a48-0835-4406-bc0d-d635a7475922 ]] \r\n",
       "rec usage \"B1\" as E6  <<(T,blue)action>> [[psysml:2beb575e-cdbc-464e-9dd9-fc16008b4aec ]] {\r\n",
       "}\r\n",
       "\r\n",
       "rec usage \"B2\" as E7  <<(T,blue)action>> [[psysml:18cbd039-fda1-47ea-ae1e-03ddeff777e2 ]] {\r\n",
       "}\r\n",
       "\r\n",
       "}\r\n",
       "\r\n",
       "E2 ..> E4 [[psysml:32927b08-9b1f-4059-96b6-74ea858c5377 ]] \r\n",
       "E3 ..> E4 [[psysml:6834d0f3-19d8-44ac-95f5-e8bc4db68e8a ]] \r\n",
       "E4 ..> E5 [[psysml:02aceb33-1759-43f7-b21c-5882a5f834e0 ]] \r\n",
       "E5 ..> E6 [[psysml:f43de8b9-7272-426a-b0aa-70e703f3a468 ]] \r\n",
       "E5 ..> E7 [[psysml:6de5063b-eb84-4499-9c8a-3a0354e3d885 ]] \r\n",
       "@enduml\r\n",
       "\n",
       "PlantUML version 1.2020.13(Sat Jun 13 12:26:38 UTC 2020)\n",
       "(EPL source distribution)\n",
       "Java Runtime: OpenJDK Runtime Environment\n",
       "JVM: OpenJDK 64-Bit Server VM\n",
       "Default Encoding: UTF-8\n",
       "Language: en\n",
       "Country: null\n",
       "--></g></svg>"
      ]
     },
     "execution_count": 48,
     "metadata": {},
     "output_type": "execute_result"
    }
   ],
   "source": [
    "%viz --style=\"TB\" --view=\"Action\" \"ControlNodeTest\""
   ]
  },
  {
   "cell_type": "code",
   "execution_count": 49,
   "id": "happy-breath",
   "metadata": {
    "execution": {
     "iopub.execute_input": "2021-03-26T15:42:10.987032Z",
     "iopub.status.busy": "2021-03-26T15:42:10.986535Z",
     "iopub.status.idle": "2021-03-26T15:42:11.042536Z",
     "shell.execute_reply": "2021-03-26T15:42:11.042185Z"
    }
   },
   "outputs": [
    {
     "data": {
      "image/svg+xml": [
       "<?xml version=\"1.0\" encoding=\"UTF-8\" standalone=\"no\"?><svg xmlns=\"http://www.w3.org/2000/svg\" xmlns:xlink=\"http://www.w3.org/1999/xlink\" contentScriptType=\"application/ecmascript\" contentStyleType=\"text/css\" height=\"191px\" preserveAspectRatio=\"none\" style=\"width:129px;height:191px;\" version=\"1.1\" viewBox=\"0 0 129 191\" width=\"129px\" zoomAndPan=\"magnify\"><defs/><g><!--MD5=[43c9051892ef23e1a46a86907403d788]\n",
       "class E1--><a href=\"psysml:8a19e2dd-7f31-4291-b841-c8e7ad6ceaae\" target=\"_top\" title=\"psysml:8a19e2dd-7f31-4291-b841-c8e7ad6ceaae\" xlink:actuate=\"onRequest\" xlink:href=\"psysml:8a19e2dd-7f31-4291-b841-c8e7ad6ceaae\" xlink:show=\"new\" xlink:title=\"psysml:8a19e2dd-7f31-4291-b841-c8e7ad6ceaae\" xlink:type=\"simple\"><rect fill=\"#FFFFFF\" height=\"173.1797\" id=\"E1\" style=\"stroke: #383838; stroke-width: 1.5;\" width=\"111\" x=\"7\" y=\"7\"/><text fill=\"#000000\" font-family=\"sans-serif\" font-size=\"12\" font-style=\"italic\" lengthAdjust=\"spacingAndGlyphs\" textLength=\"77\" x=\"24\" y=\"23.1387\">«action def»</text><text fill=\"#000000\" font-family=\"sans-serif\" font-size=\"12\" lengthAdjust=\"spacingAndGlyphs\" textLength=\"105\" x=\"10\" y=\"37.1074\">ControlNodeTest</text><line style=\"stroke: #383838; stroke-width: 1.5;\" x1=\"8\" x2=\"117\" y1=\"44.9375\" y2=\"44.9375\"/><text fill=\"#000000\" font-family=\"sans-serif\" font-size=\"11\" lengthAdjust=\"spacingAndGlyphs\" textLength=\"14\" x=\"13\" y=\"75.9526\">A1</text><text fill=\"#000000\" font-family=\"sans-serif\" font-size=\"11\" lengthAdjust=\"spacingAndGlyphs\" textLength=\"14\" x=\"13\" y=\"88.7573\">A2</text><text fill=\"#000000\" font-family=\"sans-serif\" font-size=\"11\" lengthAdjust=\"spacingAndGlyphs\" textLength=\"15\" x=\"13\" y=\"101.562\">B1</text><text fill=\"#000000\" font-family=\"sans-serif\" font-size=\"11\" lengthAdjust=\"spacingAndGlyphs\" textLength=\"15\" x=\"13\" y=\"114.3667\">B2</text><line style=\"stroke: #383838; stroke-width: 1.0;\" x1=\"8\" x2=\"42\" y1=\"59.3398\" y2=\"59.3398\"/><text fill=\"#000000\" font-family=\"sans-serif\" font-size=\"11\" lengthAdjust=\"spacingAndGlyphs\" textLength=\"41\" x=\"42\" y=\"62.6479\">actions</text><line style=\"stroke: #383838; stroke-width: 1.0;\" x1=\"83\" x2=\"117\" y1=\"59.3398\" y2=\"59.3398\"/><text fill=\"#000000\" font-family=\"sans-serif\" font-size=\"11\" lengthAdjust=\"spacingAndGlyphs\" textLength=\"6\" x=\"13\" y=\"143.9761\">F</text><line style=\"stroke: #383838; stroke-width: 1.0;\" x1=\"8\" x2=\"33.5\" y1=\"127.3633\" y2=\"127.3633\"/><text fill=\"#000000\" font-family=\"sans-serif\" font-size=\"11\" lengthAdjust=\"spacingAndGlyphs\" textLength=\"58\" x=\"33.5\" y=\"130.6714\">forkNodes</text><line style=\"stroke: #383838; stroke-width: 1.0;\" x1=\"91.5\" x2=\"117\" y1=\"127.3633\" y2=\"127.3633\"/><text fill=\"#000000\" font-family=\"sans-serif\" font-size=\"11\" lengthAdjust=\"spacingAndGlyphs\" textLength=\"3\" x=\"13\" y=\"173.5854\">J</text><line style=\"stroke: #383838; stroke-width: 1.0;\" x1=\"8\" x2=\"34.5\" y1=\"156.9727\" y2=\"156.9727\"/><text fill=\"#000000\" font-family=\"sans-serif\" font-size=\"11\" lengthAdjust=\"spacingAndGlyphs\" textLength=\"56\" x=\"34.5\" y=\"160.2808\">joinNodes</text><line style=\"stroke: #383838; stroke-width: 1.0;\" x1=\"90.5\" x2=\"117\" y1=\"156.9727\" y2=\"156.9727\"/></a><!--MD5=[da59963647a274ca08a769f5161e2ca8]\n",
       "@startuml\r\n",
       "top to bottom direction\r\n",
       "skinparam monochrome true\r\n",
       "skinparam classbackgroundcolor white\r\n",
       "skinparam shadowing false\r\n",
       "skinparam wrapWidth 300\r\n",
       "hide circle\r\n",
       "\r\n",
       "comp def \"ControlNodeTest\" as E1  <<(T,blue)action def>> [[psysml:8a19e2dd-7f31-4291-b841-c8e7ad6ceaae ]] {\r\n",
       "- - actions - -\r\n",
       "A1\r\n",
       "A2\r\n",
       "B1\r\n",
       "B2\r\n",
       "- - forkNodes - -\r\n",
       "F\r\n",
       "- - joinNodes - -\r\n",
       "J\r\n",
       "}\r\n",
       "@enduml\r\n",
       "\n",
       "PlantUML version 1.2020.13(Sat Jun 13 12:26:38 UTC 2020)\n",
       "(EPL source distribution)\n",
       "Java Runtime: OpenJDK Runtime Environment\n",
       "JVM: OpenJDK 64-Bit Server VM\n",
       "Default Encoding: UTF-8\n",
       "Language: en\n",
       "Country: null\n",
       "--></g></svg>"
      ]
     },
     "execution_count": 49,
     "metadata": {},
     "output_type": "execute_result"
    }
   ],
   "source": [
    "%viz --style=\"TB\" --view=\"Sequence\" \"ControlNodeTest\""
   ]
  },
  {
   "cell_type": "code",
   "execution_count": 50,
   "id": "static-payment",
   "metadata": {
    "execution": {
     "iopub.execute_input": "2021-03-26T15:42:11.094766Z",
     "iopub.status.busy": "2021-03-26T15:42:11.093886Z",
     "iopub.status.idle": "2021-03-26T15:42:11.123375Z",
     "shell.execute_reply": "2021-03-26T15:42:11.121916Z"
    }
   },
   "outputs": [
    {
     "data": {
      "image/svg+xml": [
       "<?xml version=\"1.0\" encoding=\"UTF-8\" standalone=\"no\"?><svg xmlns=\"http://www.w3.org/2000/svg\" xmlns:xlink=\"http://www.w3.org/1999/xlink\" contentScriptType=\"application/ecmascript\" contentStyleType=\"text/css\" height=\"367px\" preserveAspectRatio=\"none\" style=\"width:205px;height:367px;\" version=\"1.1\" viewBox=\"0 0 205 367\" width=\"205px\" zoomAndPan=\"magnify\"><defs/><g><!--MD5=[fbc87193dbaf4d95561dea2c320d4a47]\n",
       "cluster E1--><a href=\"psysml:8a19e2dd-7f31-4291-b841-c8e7ad6ceaae\" target=\"_top\" title=\"psysml:8a19e2dd-7f31-4291-b841-c8e7ad6ceaae\" xlink:actuate=\"onRequest\" xlink:href=\"psysml:8a19e2dd-7f31-4291-b841-c8e7ad6ceaae\" xlink:show=\"new\" xlink:title=\"psysml:8a19e2dd-7f31-4291-b841-c8e7ad6ceaae\" xlink:type=\"simple\"><rect fill=\"#FFFFFF\" height=\"349\" id=\"E1\" style=\"stroke: #383838; stroke-width: 1.5;\" width=\"187\" x=\"7\" y=\"7\"/><rect fill=\"#F8F8F8\" height=\"37.9375\" style=\"stroke: #383838; stroke-width: 1.5;\" width=\"187\" x=\"7\" y=\"7\"/><text fill=\"#000000\" font-family=\"sans-serif\" font-size=\"12\" font-style=\"italic\" lengthAdjust=\"spacingAndGlyphs\" textLength=\"77\" x=\"62\" y=\"23.1387\">«action def»</text><text fill=\"#000000\" font-family=\"sans-serif\" font-size=\"12\" lengthAdjust=\"spacingAndGlyphs\" textLength=\"105\" x=\"48\" y=\"37.1074\">ControlNodeTest</text></a><rect fill=\"#000000\" height=\"8\" style=\"stroke: none; stroke-width: 1.0;\" width=\"80\" x=\"60\" y=\"161\"/><rect fill=\"#000000\" height=\"8\" style=\"stroke: none; stroke-width: 1.0;\" width=\"80\" x=\"60\" y=\"229\"/><g id=\"E1.E2\"><a href=\"psysml:63691cb2-c1ae-4262-a628-287378f10d06\" target=\"_top\" title=\"psysml:63691cb2-c1ae-4262-a628-287378f10d06\" xlink:actuate=\"onRequest\" xlink:href=\"psysml:63691cb2-c1ae-4262-a628-287378f10d06\" xlink:show=\"new\" xlink:title=\"psysml:63691cb2-c1ae-4262-a628-287378f10d06\" xlink:type=\"simple\"><rect fill=\"#FFFFFF\" height=\"42.9375\" id=\"E2\" rx=\"10\" ry=\"10\" style=\"stroke: #383838; stroke-width: 1.5;\" width=\"60\" x=\"118\" y=\"58\"/><rect fill=\"#F8F8F8\" height=\"37.9375\" rx=\"10\" ry=\"10\" style=\"stroke: #F8F8F8; stroke-width: 1.5;\" width=\"60\" x=\"118\" y=\"58\"/><rect fill=\"#F8F8F8\" height=\"10\" style=\"stroke: #F8F8F8; stroke-width: 1.5;\" width=\"60\" x=\"118\" y=\"85.9375\"/><rect fill=\"none\" height=\"42.9375\" id=\"E2\" rx=\"10\" ry=\"10\" style=\"stroke: #383838; stroke-width: 1.5;\" width=\"60\" x=\"118\" y=\"58\"/><text fill=\"#000000\" font-family=\"sans-serif\" font-size=\"12\" font-style=\"italic\" lengthAdjust=\"spacingAndGlyphs\" textLength=\"53\" x=\"121.5\" y=\"74.1387\">«action»</text><text fill=\"#000000\" font-family=\"sans-serif\" font-size=\"12\" lengthAdjust=\"spacingAndGlyphs\" textLength=\"16\" x=\"140\" y=\"88.1074\">A1</text></a></g><g id=\"E1.E3\"><a href=\"psysml:c6acf79a-793e-4497-aa33-887aafacc071\" target=\"_top\" title=\"psysml:c6acf79a-793e-4497-aa33-887aafacc071\" xlink:actuate=\"onRequest\" xlink:href=\"psysml:c6acf79a-793e-4497-aa33-887aafacc071\" xlink:show=\"new\" xlink:title=\"psysml:c6acf79a-793e-4497-aa33-887aafacc071\" xlink:type=\"simple\"><rect fill=\"#FFFFFF\" height=\"42.9375\" id=\"E3\" rx=\"10\" ry=\"10\" style=\"stroke: #383838; stroke-width: 1.5;\" width=\"60\" x=\"23\" y=\"58\"/><rect fill=\"#F8F8F8\" height=\"37.9375\" rx=\"10\" ry=\"10\" style=\"stroke: #F8F8F8; stroke-width: 1.5;\" width=\"60\" x=\"23\" y=\"58\"/><rect fill=\"#F8F8F8\" height=\"10\" style=\"stroke: #F8F8F8; stroke-width: 1.5;\" width=\"60\" x=\"23\" y=\"85.9375\"/><rect fill=\"none\" height=\"42.9375\" id=\"E3\" rx=\"10\" ry=\"10\" style=\"stroke: #383838; stroke-width: 1.5;\" width=\"60\" x=\"23\" y=\"58\"/><text fill=\"#000000\" font-family=\"sans-serif\" font-size=\"12\" font-style=\"italic\" lengthAdjust=\"spacingAndGlyphs\" textLength=\"53\" x=\"26.5\" y=\"74.1387\">«action»</text><text fill=\"#000000\" font-family=\"sans-serif\" font-size=\"12\" lengthAdjust=\"spacingAndGlyphs\" textLength=\"16\" x=\"45\" y=\"88.1074\">A2</text></a></g><g id=\"E1.E6\"><a href=\"psysml:2beb575e-cdbc-464e-9dd9-fc16008b4aec\" target=\"_top\" title=\"psysml:2beb575e-cdbc-464e-9dd9-fc16008b4aec\" xlink:actuate=\"onRequest\" xlink:href=\"psysml:2beb575e-cdbc-464e-9dd9-fc16008b4aec\" xlink:show=\"new\" xlink:title=\"psysml:2beb575e-cdbc-464e-9dd9-fc16008b4aec\" xlink:type=\"simple\"><rect fill=\"#FFFFFF\" height=\"42.9375\" id=\"E6\" rx=\"10\" ry=\"10\" style=\"stroke: #383838; stroke-width: 1.5;\" width=\"60\" x=\"23\" y=\"297\"/><rect fill=\"#F8F8F8\" height=\"37.9375\" rx=\"10\" ry=\"10\" style=\"stroke: #F8F8F8; stroke-width: 1.5;\" width=\"60\" x=\"23\" y=\"297\"/><rect fill=\"#F8F8F8\" height=\"10\" style=\"stroke: #F8F8F8; stroke-width: 1.5;\" width=\"60\" x=\"23\" y=\"324.9375\"/><rect fill=\"none\" height=\"42.9375\" id=\"E6\" rx=\"10\" ry=\"10\" style=\"stroke: #383838; stroke-width: 1.5;\" width=\"60\" x=\"23\" y=\"297\"/><text fill=\"#000000\" font-family=\"sans-serif\" font-size=\"12\" font-style=\"italic\" lengthAdjust=\"spacingAndGlyphs\" textLength=\"53\" x=\"26.5\" y=\"313.1387\">«action»</text><text fill=\"#000000\" font-family=\"sans-serif\" font-size=\"12\" lengthAdjust=\"spacingAndGlyphs\" textLength=\"16\" x=\"45\" y=\"327.1074\">B1</text></a></g><g id=\"E1.E7\"><a href=\"psysml:18cbd039-fda1-47ea-ae1e-03ddeff777e2\" target=\"_top\" title=\"psysml:18cbd039-fda1-47ea-ae1e-03ddeff777e2\" xlink:actuate=\"onRequest\" xlink:href=\"psysml:18cbd039-fda1-47ea-ae1e-03ddeff777e2\" xlink:show=\"new\" xlink:title=\"psysml:18cbd039-fda1-47ea-ae1e-03ddeff777e2\" xlink:type=\"simple\"><rect fill=\"#FFFFFF\" height=\"42.9375\" id=\"E7\" rx=\"10\" ry=\"10\" style=\"stroke: #383838; stroke-width: 1.5;\" width=\"60\" x=\"118\" y=\"297\"/><rect fill=\"#F8F8F8\" height=\"37.9375\" rx=\"10\" ry=\"10\" style=\"stroke: #F8F8F8; stroke-width: 1.5;\" width=\"60\" x=\"118\" y=\"297\"/><rect fill=\"#F8F8F8\" height=\"10\" style=\"stroke: #F8F8F8; stroke-width: 1.5;\" width=\"60\" x=\"118\" y=\"324.9375\"/><rect fill=\"none\" height=\"42.9375\" id=\"E7\" rx=\"10\" ry=\"10\" style=\"stroke: #383838; stroke-width: 1.5;\" width=\"60\" x=\"118\" y=\"297\"/><text fill=\"#000000\" font-family=\"sans-serif\" font-size=\"12\" font-style=\"italic\" lengthAdjust=\"spacingAndGlyphs\" textLength=\"53\" x=\"121.5\" y=\"313.1387\">«action»</text><text fill=\"#000000\" font-family=\"sans-serif\" font-size=\"12\" lengthAdjust=\"spacingAndGlyphs\" textLength=\"16\" x=\"140\" y=\"327.1074\">B2</text></a></g><!--MD5=[4d03bb2d0377dc85ccfab60ff574652b]\n",
       "link E2 to E4--><a href=\"psysml:32927b08-9b1f-4059-96b6-74ea858c5377\" target=\"_top\" title=\"psysml:32927b08-9b1f-4059-96b6-74ea858c5377\" xlink:actuate=\"onRequest\" xlink:href=\"psysml:32927b08-9b1f-4059-96b6-74ea858c5377\" xlink:show=\"new\" xlink:title=\"psysml:32927b08-9b1f-4059-96b6-74ea858c5377\" xlink:type=\"simple\"><path d=\"M136.13,101.14 C125.84,119.06 111.49,144.01 104.37,156.4 \" fill=\"none\" id=\"E2-&gt;E4\" style=\"stroke: #383838; stroke-width: 1.0;\"/><polygon fill=\"#383838\" points=\"101.79,160.88,109.7406,155.0673,104.2799,156.5441,102.8031,151.0834,101.79,160.88\" style=\"stroke: #383838; stroke-width: 1.0;\"/></a><!--MD5=[af87c684e3b0d8be13c1a698a818ef1e]\n",
       "link E3 to E4--><a href=\"psysml:6834d0f3-19d8-44ac-95f5-e8bc4db68e8a\" target=\"_top\" title=\"psysml:6834d0f3-19d8-44ac-95f5-e8bc4db68e8a\" xlink:actuate=\"onRequest\" xlink:href=\"psysml:6834d0f3-19d8-44ac-95f5-e8bc4db68e8a\" xlink:show=\"new\" xlink:title=\"psysml:6834d0f3-19d8-44ac-95f5-e8bc4db68e8a\" xlink:type=\"simple\"><path d=\"M64.62,101.14 C74.7,119.06 88.75,144.01 95.72,156.4 \" fill=\"none\" id=\"E3-&gt;E4\" style=\"stroke: #383838; stroke-width: 1.0;\"/><polygon fill=\"#383838\" points=\"98.25,160.88,97.3377,151.0735,95.8048,156.5187,90.3596,154.9858,98.25,160.88\" style=\"stroke: #383838; stroke-width: 1.0;\"/></a><!--MD5=[1b7591eae5389033d8d09a9d6721a717]\n",
       "link E4 to E5--><a href=\"psysml:02aceb33-1759-43f7-b21c-5882a5f834e0\" target=\"_top\" title=\"psysml:02aceb33-1759-43f7-b21c-5882a5f834e0\" xlink:actuate=\"onRequest\" xlink:href=\"psysml:02aceb33-1759-43f7-b21c-5882a5f834e0\" xlink:show=\"new\" xlink:title=\"psysml:02aceb33-1759-43f7-b21c-5882a5f834e0\" xlink:type=\"simple\"><path d=\"M100,169.18 C100,178.92 100,208.52 100,223.34 \" fill=\"none\" id=\"E4-&gt;E5\" style=\"stroke: #383838; stroke-width: 1.0;\"/><polygon fill=\"#383838\" points=\"100,228.69,104,219.69,100,223.69,96,219.69,100,228.69\" style=\"stroke: #383838; stroke-width: 1.0;\"/></a><!--MD5=[9120cf2e5df3bff93db8f754bbbc09b4]\n",
       "link E5 to E6--><a href=\"psysml:f43de8b9-7272-426a-b0aa-70e703f3a468\" target=\"_top\" title=\"psysml:f43de8b9-7272-426a-b0aa-70e703f3a468\" xlink:actuate=\"onRequest\" xlink:href=\"psysml:f43de8b9-7272-426a-b0aa-70e703f3a468\" xlink:show=\"new\" xlink:title=\"psysml:f43de8b9-7272-426a-b0aa-70e703f3a468\" xlink:type=\"simple\"><path d=\"M98.21,237.17 C93.16,246.14 78.41,272.36 67.11,292.43 \" fill=\"none\" id=\"E5-&gt;E6\" style=\"stroke: #383838; stroke-width: 1.0;\"/><polygon fill=\"#383838\" points=\"64.61,296.87,72.5151,290.9955,67.0661,292.5148,65.5467,287.0658,64.61,296.87\" style=\"stroke: #383838; stroke-width: 1.0;\"/></a><!--MD5=[3a9b96bfbf6b6ad89c494e81751bda47]\n",
       "link E5 to E7--><a href=\"psysml:6de5063b-eb84-4499-9c8a-3a0354e3d885\" target=\"_top\" title=\"psysml:6de5063b-eb84-4499-9c8a-3a0354e3d885\" xlink:actuate=\"onRequest\" xlink:href=\"psysml:6de5063b-eb84-4499-9c8a-3a0354e3d885\" xlink:show=\"new\" xlink:title=\"psysml:6de5063b-eb84-4499-9c8a-3a0354e3d885\" xlink:type=\"simple\"><path d=\"M101.82,237.17 C106.98,246.14 122.05,272.36 133.59,292.43 \" fill=\"none\" id=\"E5-&gt;E7\" style=\"stroke: #383838; stroke-width: 1.0;\"/><polygon fill=\"#383838\" points=\"136.14,296.87,135.1269,287.0734,133.6501,292.5341,128.1894,291.0573,136.14,296.87\" style=\"stroke: #383838; stroke-width: 1.0;\"/></a><!--MD5=[bd49f29b2982382df0d586da9675bb7a]\n",
       "@startuml\r\n",
       "top to bottom direction\r\n",
       "skinparam monochrome true\r\n",
       "skinparam classbackgroundcolor white\r\n",
       "skinparam shadowing false\r\n",
       "skinparam wrapWidth 300\r\n",
       "hide circle\r\n",
       "\r\n",
       "rec def \"ControlNodeTest\" as E1  <<(T,blue)action def>> [[psysml:8a19e2dd-7f31-4291-b841-c8e7ad6ceaae ]] {\r\n",
       "rec usage \"A1\" as E2  <<(T,blue)action>> [[psysml:63691cb2-c1ae-4262-a628-287378f10d06 ]] {\r\n",
       "}\r\n",
       "\r\n",
       "rec usage \"A2\" as E3  <<(T,blue)action>> [[psysml:c6acf79a-793e-4497-aa33-887aafacc071 ]] {\r\n",
       "}\r\n",
       "\r\n",
       "join \"J\" as E4  [[psysml:9118671e-8e40-41ce-bc29-e44727581a0d ]] \r\n",
       "fork \"F\" as E5  [[psysml:3c4d5a48-0835-4406-bc0d-d635a7475922 ]] \r\n",
       "rec usage \"B1\" as E6  <<(T,blue)action>> [[psysml:2beb575e-cdbc-464e-9dd9-fc16008b4aec ]] {\r\n",
       "}\r\n",
       "\r\n",
       "rec usage \"B2\" as E7  <<(T,blue)action>> [[psysml:18cbd039-fda1-47ea-ae1e-03ddeff777e2 ]] {\r\n",
       "}\r\n",
       "\r\n",
       "}\r\n",
       "\r\n",
       "E2 - -> E4 [[psysml:32927b08-9b1f-4059-96b6-74ea858c5377 ]] \r\n",
       "E3 - -> E4 [[psysml:6834d0f3-19d8-44ac-95f5-e8bc4db68e8a ]] \r\n",
       "E4 - -> E5 [[psysml:02aceb33-1759-43f7-b21c-5882a5f834e0 ]] \r\n",
       "E5 - -> E6 [[psysml:f43de8b9-7272-426a-b0aa-70e703f3a468 ]] \r\n",
       "E5 - -> E7 [[psysml:6de5063b-eb84-4499-9c8a-3a0354e3d885 ]] \r\n",
       "@enduml\r\n",
       "\n",
       "PlantUML version 1.2020.13(Sat Jun 13 12:26:38 UTC 2020)\n",
       "(EPL source distribution)\n",
       "Java Runtime: OpenJDK Runtime Environment\n",
       "JVM: OpenJDK 64-Bit Server VM\n",
       "Default Encoding: UTF-8\n",
       "Language: en\n",
       "Country: null\n",
       "--></g></svg>"
      ]
     },
     "execution_count": 50,
     "metadata": {},
     "output_type": "execute_result"
    }
   ],
   "source": [
    "%viz --style=\"TB\" --view=\"MIXED\" \"ControlNodeTest\""
   ]
  },
  {
   "cell_type": "code",
   "execution_count": 51,
   "id": "premium-insight",
   "metadata": {
    "execution": {
     "iopub.execute_input": "2021-03-26T15:42:11.175870Z",
     "iopub.status.busy": "2021-03-26T15:42:11.175083Z",
     "iopub.status.idle": "2021-03-26T15:42:11.204351Z",
     "shell.execute_reply": "2021-03-26T15:42:11.203135Z"
    }
   },
   "outputs": [
    {
     "data": {
      "image/svg+xml": [
       "<?xml version=\"1.0\" encoding=\"UTF-8\" standalone=\"no\"?><svg xmlns=\"http://www.w3.org/2000/svg\" xmlns:xlink=\"http://www.w3.org/1999/xlink\" contentScriptType=\"application/ecmascript\" contentStyleType=\"text/css\" height=\"367px\" preserveAspectRatio=\"none\" style=\"width:205px;height:367px;\" version=\"1.1\" viewBox=\"0 0 205 367\" width=\"205px\" zoomAndPan=\"magnify\"><defs/><g><!--MD5=[fbc87193dbaf4d95561dea2c320d4a47]\n",
       "cluster E1--><a href=\"psysml:8a19e2dd-7f31-4291-b841-c8e7ad6ceaae\" target=\"_top\" title=\"psysml:8a19e2dd-7f31-4291-b841-c8e7ad6ceaae\" xlink:actuate=\"onRequest\" xlink:href=\"psysml:8a19e2dd-7f31-4291-b841-c8e7ad6ceaae\" xlink:show=\"new\" xlink:title=\"psysml:8a19e2dd-7f31-4291-b841-c8e7ad6ceaae\" xlink:type=\"simple\"><rect fill=\"#FFFFFF\" height=\"349\" id=\"E1\" style=\"stroke: #383838; stroke-width: 1.5;\" width=\"187\" x=\"7\" y=\"7\"/><rect fill=\"#F8F8F8\" height=\"37.9375\" style=\"stroke: #383838; stroke-width: 1.5;\" width=\"187\" x=\"7\" y=\"7\"/><text fill=\"#000000\" font-family=\"sans-serif\" font-size=\"12\" font-style=\"italic\" lengthAdjust=\"spacingAndGlyphs\" textLength=\"77\" x=\"62\" y=\"23.1387\">«action def»</text><text fill=\"#000000\" font-family=\"sans-serif\" font-size=\"12\" lengthAdjust=\"spacingAndGlyphs\" textLength=\"105\" x=\"48\" y=\"37.1074\">ControlNodeTest</text></a><rect fill=\"#000000\" height=\"8\" style=\"stroke: none; stroke-width: 1.0;\" width=\"80\" x=\"60\" y=\"161\"/><rect fill=\"#000000\" height=\"8\" style=\"stroke: none; stroke-width: 1.0;\" width=\"80\" x=\"60\" y=\"229\"/><g id=\"E1.E2\"><a href=\"psysml:63691cb2-c1ae-4262-a628-287378f10d06\" target=\"_top\" title=\"psysml:63691cb2-c1ae-4262-a628-287378f10d06\" xlink:actuate=\"onRequest\" xlink:href=\"psysml:63691cb2-c1ae-4262-a628-287378f10d06\" xlink:show=\"new\" xlink:title=\"psysml:63691cb2-c1ae-4262-a628-287378f10d06\" xlink:type=\"simple\"><rect fill=\"#FFFFFF\" height=\"42.9375\" id=\"E2\" rx=\"10\" ry=\"10\" style=\"stroke: #383838; stroke-width: 1.5;\" width=\"60\" x=\"118\" y=\"58\"/><rect fill=\"#F8F8F8\" height=\"37.9375\" rx=\"10\" ry=\"10\" style=\"stroke: #F8F8F8; stroke-width: 1.5;\" width=\"60\" x=\"118\" y=\"58\"/><rect fill=\"#F8F8F8\" height=\"10\" style=\"stroke: #F8F8F8; stroke-width: 1.5;\" width=\"60\" x=\"118\" y=\"85.9375\"/><rect fill=\"none\" height=\"42.9375\" id=\"E2\" rx=\"10\" ry=\"10\" style=\"stroke: #383838; stroke-width: 1.5;\" width=\"60\" x=\"118\" y=\"58\"/><text fill=\"#000000\" font-family=\"sans-serif\" font-size=\"12\" font-style=\"italic\" lengthAdjust=\"spacingAndGlyphs\" textLength=\"53\" x=\"121.5\" y=\"74.1387\">«action»</text><text fill=\"#000000\" font-family=\"sans-serif\" font-size=\"12\" lengthAdjust=\"spacingAndGlyphs\" textLength=\"16\" x=\"140\" y=\"88.1074\">A1</text></a></g><g id=\"E1.E3\"><a href=\"psysml:c6acf79a-793e-4497-aa33-887aafacc071\" target=\"_top\" title=\"psysml:c6acf79a-793e-4497-aa33-887aafacc071\" xlink:actuate=\"onRequest\" xlink:href=\"psysml:c6acf79a-793e-4497-aa33-887aafacc071\" xlink:show=\"new\" xlink:title=\"psysml:c6acf79a-793e-4497-aa33-887aafacc071\" xlink:type=\"simple\"><rect fill=\"#FFFFFF\" height=\"42.9375\" id=\"E3\" rx=\"10\" ry=\"10\" style=\"stroke: #383838; stroke-width: 1.5;\" width=\"60\" x=\"23\" y=\"58\"/><rect fill=\"#F8F8F8\" height=\"37.9375\" rx=\"10\" ry=\"10\" style=\"stroke: #F8F8F8; stroke-width: 1.5;\" width=\"60\" x=\"23\" y=\"58\"/><rect fill=\"#F8F8F8\" height=\"10\" style=\"stroke: #F8F8F8; stroke-width: 1.5;\" width=\"60\" x=\"23\" y=\"85.9375\"/><rect fill=\"none\" height=\"42.9375\" id=\"E3\" rx=\"10\" ry=\"10\" style=\"stroke: #383838; stroke-width: 1.5;\" width=\"60\" x=\"23\" y=\"58\"/><text fill=\"#000000\" font-family=\"sans-serif\" font-size=\"12\" font-style=\"italic\" lengthAdjust=\"spacingAndGlyphs\" textLength=\"53\" x=\"26.5\" y=\"74.1387\">«action»</text><text fill=\"#000000\" font-family=\"sans-serif\" font-size=\"12\" lengthAdjust=\"spacingAndGlyphs\" textLength=\"16\" x=\"45\" y=\"88.1074\">A2</text></a></g><g id=\"E1.E6\"><a href=\"psysml:2beb575e-cdbc-464e-9dd9-fc16008b4aec\" target=\"_top\" title=\"psysml:2beb575e-cdbc-464e-9dd9-fc16008b4aec\" xlink:actuate=\"onRequest\" xlink:href=\"psysml:2beb575e-cdbc-464e-9dd9-fc16008b4aec\" xlink:show=\"new\" xlink:title=\"psysml:2beb575e-cdbc-464e-9dd9-fc16008b4aec\" xlink:type=\"simple\"><rect fill=\"#FFFFFF\" height=\"42.9375\" id=\"E6\" rx=\"10\" ry=\"10\" style=\"stroke: #383838; stroke-width: 1.5;\" width=\"60\" x=\"23\" y=\"297\"/><rect fill=\"#F8F8F8\" height=\"37.9375\" rx=\"10\" ry=\"10\" style=\"stroke: #F8F8F8; stroke-width: 1.5;\" width=\"60\" x=\"23\" y=\"297\"/><rect fill=\"#F8F8F8\" height=\"10\" style=\"stroke: #F8F8F8; stroke-width: 1.5;\" width=\"60\" x=\"23\" y=\"324.9375\"/><rect fill=\"none\" height=\"42.9375\" id=\"E6\" rx=\"10\" ry=\"10\" style=\"stroke: #383838; stroke-width: 1.5;\" width=\"60\" x=\"23\" y=\"297\"/><text fill=\"#000000\" font-family=\"sans-serif\" font-size=\"12\" font-style=\"italic\" lengthAdjust=\"spacingAndGlyphs\" textLength=\"53\" x=\"26.5\" y=\"313.1387\">«action»</text><text fill=\"#000000\" font-family=\"sans-serif\" font-size=\"12\" lengthAdjust=\"spacingAndGlyphs\" textLength=\"16\" x=\"45\" y=\"327.1074\">B1</text></a></g><g id=\"E1.E7\"><a href=\"psysml:18cbd039-fda1-47ea-ae1e-03ddeff777e2\" target=\"_top\" title=\"psysml:18cbd039-fda1-47ea-ae1e-03ddeff777e2\" xlink:actuate=\"onRequest\" xlink:href=\"psysml:18cbd039-fda1-47ea-ae1e-03ddeff777e2\" xlink:show=\"new\" xlink:title=\"psysml:18cbd039-fda1-47ea-ae1e-03ddeff777e2\" xlink:type=\"simple\"><rect fill=\"#FFFFFF\" height=\"42.9375\" id=\"E7\" rx=\"10\" ry=\"10\" style=\"stroke: #383838; stroke-width: 1.5;\" width=\"60\" x=\"118\" y=\"297\"/><rect fill=\"#F8F8F8\" height=\"37.9375\" rx=\"10\" ry=\"10\" style=\"stroke: #F8F8F8; stroke-width: 1.5;\" width=\"60\" x=\"118\" y=\"297\"/><rect fill=\"#F8F8F8\" height=\"10\" style=\"stroke: #F8F8F8; stroke-width: 1.5;\" width=\"60\" x=\"118\" y=\"324.9375\"/><rect fill=\"none\" height=\"42.9375\" id=\"E7\" rx=\"10\" ry=\"10\" style=\"stroke: #383838; stroke-width: 1.5;\" width=\"60\" x=\"118\" y=\"297\"/><text fill=\"#000000\" font-family=\"sans-serif\" font-size=\"12\" font-style=\"italic\" lengthAdjust=\"spacingAndGlyphs\" textLength=\"53\" x=\"121.5\" y=\"313.1387\">«action»</text><text fill=\"#000000\" font-family=\"sans-serif\" font-size=\"12\" lengthAdjust=\"spacingAndGlyphs\" textLength=\"16\" x=\"140\" y=\"327.1074\">B2</text></a></g><!--MD5=[4d03bb2d0377dc85ccfab60ff574652b]\n",
       "link E2 to E4--><a href=\"psysml:32927b08-9b1f-4059-96b6-74ea858c5377\" target=\"_top\" title=\"psysml:32927b08-9b1f-4059-96b6-74ea858c5377\" xlink:actuate=\"onRequest\" xlink:href=\"psysml:32927b08-9b1f-4059-96b6-74ea858c5377\" xlink:show=\"new\" xlink:title=\"psysml:32927b08-9b1f-4059-96b6-74ea858c5377\" xlink:type=\"simple\"><path d=\"M129,101.08 C129,101.08 129,155.97 129,155.97 \" fill=\"none\" id=\"E2-&gt;E4\" style=\"stroke: #383838; stroke-width: 1.0;\"/><polygon fill=\"#383838\" points=\"129,160.97,133,151.97,129,155.97,125,151.97,129,160.97\" style=\"stroke: #383838; stroke-width: 1.0;\"/></a><!--MD5=[af87c684e3b0d8be13c1a698a818ef1e]\n",
       "link E3 to E4--><a href=\"psysml:6834d0f3-19d8-44ac-95f5-e8bc4db68e8a\" target=\"_top\" title=\"psysml:6834d0f3-19d8-44ac-95f5-e8bc4db68e8a\" xlink:actuate=\"onRequest\" xlink:href=\"psysml:6834d0f3-19d8-44ac-95f5-e8bc4db68e8a\" xlink:show=\"new\" xlink:title=\"psysml:6834d0f3-19d8-44ac-95f5-e8bc4db68e8a\" xlink:type=\"simple\"><path d=\"M71.5,101.08 C71.5,101.08 71.5,155.97 71.5,155.97 \" fill=\"none\" id=\"E3-&gt;E4\" style=\"stroke: #383838; stroke-width: 1.0;\"/><polygon fill=\"#383838\" points=\"71.5,160.97,75.5,151.97,71.5,155.97,67.5,151.97,71.5,160.97\" style=\"stroke: #383838; stroke-width: 1.0;\"/></a><!--MD5=[1b7591eae5389033d8d09a9d6721a717]\n",
       "link E4 to E5--><a href=\"psysml:02aceb33-1759-43f7-b21c-5882a5f834e0\" target=\"_top\" title=\"psysml:02aceb33-1759-43f7-b21c-5882a5f834e0\" xlink:actuate=\"onRequest\" xlink:href=\"psysml:02aceb33-1759-43f7-b21c-5882a5f834e0\" xlink:show=\"new\" xlink:title=\"psysml:02aceb33-1759-43f7-b21c-5882a5f834e0\" xlink:type=\"simple\"><path d=\"M100,169.05 C100,169.05 100,223.71 100,223.71 \" fill=\"none\" id=\"E4-&gt;E5\" style=\"stroke: #383838; stroke-width: 1.0;\"/><polygon fill=\"#383838\" points=\"100,228.71,104,219.71,100,223.71,96,219.71,100,228.71\" style=\"stroke: #383838; stroke-width: 1.0;\"/></a><!--MD5=[9120cf2e5df3bff93db8f754bbbc09b4]\n",
       "link E5 to E6--><a href=\"psysml:f43de8b9-7272-426a-b0aa-70e703f3a468\" target=\"_top\" title=\"psysml:f43de8b9-7272-426a-b0aa-70e703f3a468\" xlink:actuate=\"onRequest\" xlink:href=\"psysml:f43de8b9-7272-426a-b0aa-70e703f3a468\" xlink:show=\"new\" xlink:title=\"psysml:f43de8b9-7272-426a-b0aa-70e703f3a468\" xlink:type=\"simple\"><path d=\"M71.5,237.12 C71.5,237.12 71.5,291.87 71.5,291.87 \" fill=\"none\" id=\"E5-&gt;E6\" style=\"stroke: #383838; stroke-width: 1.0;\"/><polygon fill=\"#383838\" points=\"71.5,296.87,75.5,287.87,71.5,291.87,67.5,287.87,71.5,296.87\" style=\"stroke: #383838; stroke-width: 1.0;\"/></a><!--MD5=[3a9b96bfbf6b6ad89c494e81751bda47]\n",
       "link E5 to E7--><a href=\"psysml:6de5063b-eb84-4499-9c8a-3a0354e3d885\" target=\"_top\" title=\"psysml:6de5063b-eb84-4499-9c8a-3a0354e3d885\" xlink:actuate=\"onRequest\" xlink:href=\"psysml:6de5063b-eb84-4499-9c8a-3a0354e3d885\" xlink:show=\"new\" xlink:title=\"psysml:6de5063b-eb84-4499-9c8a-3a0354e3d885\" xlink:type=\"simple\"><path d=\"M129,237.12 C129,237.12 129,291.87 129,291.87 \" fill=\"none\" id=\"E5-&gt;E7\" style=\"stroke: #383838; stroke-width: 1.0;\"/><polygon fill=\"#383838\" points=\"129,296.87,133,287.87,129,291.87,125,287.87,129,296.87\" style=\"stroke: #383838; stroke-width: 1.0;\"/></a><!--MD5=[0f88c2e4fc3f4803e71966ffd1e1765f]\n",
       "@startuml\r\n",
       "skinparam linetype ortho\r\n",
       "skinparam monochrome true\r\n",
       "skinparam classbackgroundcolor white\r\n",
       "skinparam shadowing false\r\n",
       "skinparam wrapWidth 300\r\n",
       "hide circle\r\n",
       "\r\n",
       "rec def \"ControlNodeTest\" as E1  <<(T,blue)action def>> [[psysml:8a19e2dd-7f31-4291-b841-c8e7ad6ceaae ]] {\r\n",
       "rec usage \"A1\" as E2  <<(T,blue)action>> [[psysml:63691cb2-c1ae-4262-a628-287378f10d06 ]] {\r\n",
       "}\r\n",
       "\r\n",
       "rec usage \"A2\" as E3  <<(T,blue)action>> [[psysml:c6acf79a-793e-4497-aa33-887aafacc071 ]] {\r\n",
       "}\r\n",
       "\r\n",
       "join \"J\" as E4  [[psysml:9118671e-8e40-41ce-bc29-e44727581a0d ]] \r\n",
       "fork \"F\" as E5  [[psysml:3c4d5a48-0835-4406-bc0d-d635a7475922 ]] \r\n",
       "rec usage \"B1\" as E6  <<(T,blue)action>> [[psysml:2beb575e-cdbc-464e-9dd9-fc16008b4aec ]] {\r\n",
       "}\r\n",
       "\r\n",
       "rec usage \"B2\" as E7  <<(T,blue)action>> [[psysml:18cbd039-fda1-47ea-ae1e-03ddeff777e2 ]] {\r\n",
       "}\r\n",
       "\r\n",
       "}\r\n",
       "\r\n",
       "E2 - -> E4 [[psysml:32927b08-9b1f-4059-96b6-74ea858c5377 ]] \r\n",
       "E3 - -> E4 [[psysml:6834d0f3-19d8-44ac-95f5-e8bc4db68e8a ]] \r\n",
       "E4 - -> E5 [[psysml:02aceb33-1759-43f7-b21c-5882a5f834e0 ]] \r\n",
       "E5 - -> E6 [[psysml:f43de8b9-7272-426a-b0aa-70e703f3a468 ]] \r\n",
       "E5 - -> E7 [[psysml:6de5063b-eb84-4499-9c8a-3a0354e3d885 ]] \r\n",
       "@enduml\r\n",
       "\n",
       "PlantUML version 1.2020.13(Sat Jun 13 12:26:38 UTC 2020)\n",
       "(EPL source distribution)\n",
       "Java Runtime: OpenJDK Runtime Environment\n",
       "JVM: OpenJDK 64-Bit Server VM\n",
       "Default Encoding: UTF-8\n",
       "Language: en\n",
       "Country: null\n",
       "--></g></svg>"
      ]
     },
     "execution_count": 51,
     "metadata": {},
     "output_type": "execute_result"
    }
   ],
   "source": [
    "%viz --style=\"ORTHOLINE\" --view=\"Default\" \"ControlNodeTest\""
   ]
  },
  {
   "cell_type": "code",
   "execution_count": 52,
   "id": "minor-basic",
   "metadata": {
    "execution": {
     "iopub.execute_input": "2021-03-26T15:42:11.256926Z",
     "iopub.status.busy": "2021-03-26T15:42:11.256410Z",
     "iopub.status.idle": "2021-03-26T15:42:11.305875Z",
     "shell.execute_reply": "2021-03-26T15:42:11.305582Z"
    }
   },
   "outputs": [
    {
     "data": {
      "image/svg+xml": [
       "<?xml version=\"1.0\" encoding=\"UTF-8\" standalone=\"no\"?><svg xmlns=\"http://www.w3.org/2000/svg\" xmlns:xlink=\"http://www.w3.org/1999/xlink\" contentScriptType=\"application/ecmascript\" contentStyleType=\"text/css\" height=\"191px\" preserveAspectRatio=\"none\" style=\"width:129px;height:191px;\" version=\"1.1\" viewBox=\"0 0 129 191\" width=\"129px\" zoomAndPan=\"magnify\"><defs/><g><!--MD5=[43c9051892ef23e1a46a86907403d788]\n",
       "class E1--><a href=\"psysml:8a19e2dd-7f31-4291-b841-c8e7ad6ceaae\" target=\"_top\" title=\"psysml:8a19e2dd-7f31-4291-b841-c8e7ad6ceaae\" xlink:actuate=\"onRequest\" xlink:href=\"psysml:8a19e2dd-7f31-4291-b841-c8e7ad6ceaae\" xlink:show=\"new\" xlink:title=\"psysml:8a19e2dd-7f31-4291-b841-c8e7ad6ceaae\" xlink:type=\"simple\"><rect fill=\"#FFFFFF\" height=\"173.1797\" id=\"E1\" style=\"stroke: #383838; stroke-width: 1.5;\" width=\"111\" x=\"7\" y=\"7\"/><text fill=\"#000000\" font-family=\"sans-serif\" font-size=\"12\" font-style=\"italic\" lengthAdjust=\"spacingAndGlyphs\" textLength=\"77\" x=\"24\" y=\"23.1387\">«action def»</text><text fill=\"#000000\" font-family=\"sans-serif\" font-size=\"12\" lengthAdjust=\"spacingAndGlyphs\" textLength=\"105\" x=\"10\" y=\"37.1074\">ControlNodeTest</text><line style=\"stroke: #383838; stroke-width: 1.5;\" x1=\"8\" x2=\"117\" y1=\"44.9375\" y2=\"44.9375\"/><text fill=\"#000000\" font-family=\"sans-serif\" font-size=\"11\" lengthAdjust=\"spacingAndGlyphs\" textLength=\"14\" x=\"13\" y=\"75.9526\">A1</text><text fill=\"#000000\" font-family=\"sans-serif\" font-size=\"11\" lengthAdjust=\"spacingAndGlyphs\" textLength=\"14\" x=\"13\" y=\"88.7573\">A2</text><text fill=\"#000000\" font-family=\"sans-serif\" font-size=\"11\" lengthAdjust=\"spacingAndGlyphs\" textLength=\"15\" x=\"13\" y=\"101.562\">B1</text><text fill=\"#000000\" font-family=\"sans-serif\" font-size=\"11\" lengthAdjust=\"spacingAndGlyphs\" textLength=\"15\" x=\"13\" y=\"114.3667\">B2</text><line style=\"stroke: #383838; stroke-width: 1.0;\" x1=\"8\" x2=\"42\" y1=\"59.3398\" y2=\"59.3398\"/><text fill=\"#000000\" font-family=\"sans-serif\" font-size=\"11\" lengthAdjust=\"spacingAndGlyphs\" textLength=\"41\" x=\"42\" y=\"62.6479\">actions</text><line style=\"stroke: #383838; stroke-width: 1.0;\" x1=\"83\" x2=\"117\" y1=\"59.3398\" y2=\"59.3398\"/><text fill=\"#000000\" font-family=\"sans-serif\" font-size=\"11\" lengthAdjust=\"spacingAndGlyphs\" textLength=\"6\" x=\"13\" y=\"143.9761\">F</text><line style=\"stroke: #383838; stroke-width: 1.0;\" x1=\"8\" x2=\"33.5\" y1=\"127.3633\" y2=\"127.3633\"/><text fill=\"#000000\" font-family=\"sans-serif\" font-size=\"11\" lengthAdjust=\"spacingAndGlyphs\" textLength=\"58\" x=\"33.5\" y=\"130.6714\">forkNodes</text><line style=\"stroke: #383838; stroke-width: 1.0;\" x1=\"91.5\" x2=\"117\" y1=\"127.3633\" y2=\"127.3633\"/><text fill=\"#000000\" font-family=\"sans-serif\" font-size=\"11\" lengthAdjust=\"spacingAndGlyphs\" textLength=\"3\" x=\"13\" y=\"173.5854\">J</text><line style=\"stroke: #383838; stroke-width: 1.0;\" x1=\"8\" x2=\"34.5\" y1=\"156.9727\" y2=\"156.9727\"/><text fill=\"#000000\" font-family=\"sans-serif\" font-size=\"11\" lengthAdjust=\"spacingAndGlyphs\" textLength=\"56\" x=\"34.5\" y=\"160.2808\">joinNodes</text><line style=\"stroke: #383838; stroke-width: 1.0;\" x1=\"90.5\" x2=\"117\" y1=\"156.9727\" y2=\"156.9727\"/></a><!--MD5=[efed3bb1f2be90d1322e9a35b7ef9f04]\n",
       "@startuml\r\n",
       "skinparam linetype ortho\r\n",
       "skinparam monochrome true\r\n",
       "skinparam classbackgroundcolor white\r\n",
       "skinparam shadowing false\r\n",
       "skinparam wrapWidth 300\r\n",
       "hide circle\r\n",
       "\r\n",
       "comp def \"ControlNodeTest\" as E1  <<(T,blue)action def>> [[psysml:8a19e2dd-7f31-4291-b841-c8e7ad6ceaae ]] {\r\n",
       "- - actions - -\r\n",
       "A1\r\n",
       "A2\r\n",
       "B1\r\n",
       "B2\r\n",
       "- - forkNodes - -\r\n",
       "F\r\n",
       "- - joinNodes - -\r\n",
       "J\r\n",
       "}\r\n",
       "@enduml\r\n",
       "\n",
       "PlantUML version 1.2020.13(Sat Jun 13 12:26:38 UTC 2020)\n",
       "(EPL source distribution)\n",
       "Java Runtime: OpenJDK Runtime Environment\n",
       "JVM: OpenJDK 64-Bit Server VM\n",
       "Default Encoding: UTF-8\n",
       "Language: en\n",
       "Country: null\n",
       "--></g></svg>"
      ]
     },
     "execution_count": 52,
     "metadata": {},
     "output_type": "execute_result"
    }
   ],
   "source": [
    "%viz --style=\"ORTHOLINE\" --view=\"Tree\" \"ControlNodeTest\""
   ]
  },
  {
   "cell_type": "code",
   "execution_count": 53,
   "id": "grateful-differential",
   "metadata": {
    "execution": {
     "iopub.execute_input": "2021-03-26T15:42:11.357675Z",
     "iopub.status.busy": "2021-03-26T15:42:11.356766Z",
     "iopub.status.idle": "2021-03-26T15:42:11.362768Z",
     "shell.execute_reply": "2021-03-26T15:42:11.362259Z"
    }
   },
   "outputs": [
    {
     "data": {
      "image/svg+xml": [
       "<?xml version=\"1.0\" encoding=\"UTF-8\" standalone=\"no\"?><svg xmlns=\"http://www.w3.org/2000/svg\" xmlns:xlink=\"http://www.w3.org/1999/xlink\" contentScriptType=\"application/ecmascript\" contentStyleType=\"text/css\" height=\"12px\" preserveAspectRatio=\"none\" style=\"width:12px;height:12px;\" version=\"1.1\" viewBox=\"0 0 12 12\" width=\"12px\" zoomAndPan=\"magnify\"><defs/><g><!--MD5=[97d6f38768b311333d388e66b2b27985]\n",
       "@startuml\r\n",
       "skinparam linetype ortho\r\n",
       "skinparam monochrome true\r\n",
       "skinparam classbackgroundcolor white\r\n",
       "skinparam shadowing false\r\n",
       "skinparam wrapWidth 300\r\n",
       "hide circle\r\n",
       "\r\n",
       "@enduml\r\n",
       "\n",
       "PlantUML version 1.2020.13(Sat Jun 13 12:26:38 UTC 2020)\n",
       "(EPL source distribution)\n",
       "Java Runtime: OpenJDK Runtime Environment\n",
       "JVM: OpenJDK 64-Bit Server VM\n",
       "Default Encoding: UTF-8\n",
       "Language: en\n",
       "Country: null\n",
       "--></g></svg>"
      ]
     },
     "execution_count": 53,
     "metadata": {},
     "output_type": "execute_result"
    }
   ],
   "source": [
    "%viz --style=\"ORTHOLINE\" --view=\"State\" \"ControlNodeTest\""
   ]
  },
  {
   "cell_type": "code",
   "execution_count": 54,
   "id": "studied-porter",
   "metadata": {
    "execution": {
     "iopub.execute_input": "2021-03-26T15:42:11.415378Z",
     "iopub.status.busy": "2021-03-26T15:42:11.414677Z",
     "iopub.status.idle": "2021-03-26T15:42:11.451715Z",
     "shell.execute_reply": "2021-03-26T15:42:11.452073Z"
    }
   },
   "outputs": [
    {
     "data": {
      "image/svg+xml": [
       "<?xml version=\"1.0\" encoding=\"UTF-8\" standalone=\"no\"?><svg xmlns=\"http://www.w3.org/2000/svg\" xmlns:xlink=\"http://www.w3.org/1999/xlink\" contentScriptType=\"application/ecmascript\" contentStyleType=\"text/css\" height=\"217px\" preserveAspectRatio=\"none\" style=\"width:205px;height:217px;\" version=\"1.1\" viewBox=\"0 0 205 217\" width=\"205px\" zoomAndPan=\"magnify\"><defs/><g><!--MD5=[fbc87193dbaf4d95561dea2c320d4a47]\n",
       "cluster E1--><a href=\"psysml:8a19e2dd-7f31-4291-b841-c8e7ad6ceaae\" target=\"_top\" title=\"psysml:8a19e2dd-7f31-4291-b841-c8e7ad6ceaae\" xlink:actuate=\"onRequest\" xlink:href=\"psysml:8a19e2dd-7f31-4291-b841-c8e7ad6ceaae\" xlink:show=\"new\" xlink:title=\"psysml:8a19e2dd-7f31-4291-b841-c8e7ad6ceaae\" xlink:type=\"simple\"><rect fill=\"#FFFFFF\" height=\"199\" id=\"E1\" style=\"stroke: #383838; stroke-width: 1.5;\" width=\"187\" x=\"7\" y=\"7\"/><rect fill=\"#F8F8F8\" height=\"37.9375\" style=\"stroke: #383838; stroke-width: 1.5;\" width=\"187\" x=\"7\" y=\"7\"/><text fill=\"#000000\" font-family=\"sans-serif\" font-size=\"12\" font-style=\"italic\" lengthAdjust=\"spacingAndGlyphs\" textLength=\"77\" x=\"62\" y=\"23.1387\">«action def»</text><text fill=\"#000000\" font-family=\"sans-serif\" font-size=\"12\" lengthAdjust=\"spacingAndGlyphs\" textLength=\"105\" x=\"48\" y=\"37.1074\">ControlNodeTest</text></a><rect fill=\"#000000\" height=\"8\" style=\"stroke: none; stroke-width: 1.0;\" width=\"80\" x=\"60\" y=\"111\"/><rect fill=\"#000000\" height=\"8\" style=\"stroke: none; stroke-width: 1.0;\" width=\"80\" x=\"60\" y=\"129\"/><g id=\"E1.E2\"><a href=\"psysml:63691cb2-c1ae-4262-a628-287378f10d06\" target=\"_top\" title=\"psysml:63691cb2-c1ae-4262-a628-287378f10d06\" xlink:actuate=\"onRequest\" xlink:href=\"psysml:63691cb2-c1ae-4262-a628-287378f10d06\" xlink:show=\"new\" xlink:title=\"psysml:63691cb2-c1ae-4262-a628-287378f10d06\" xlink:type=\"simple\"><rect fill=\"#FFFFFF\" height=\"42.9375\" id=\"E2\" rx=\"10\" ry=\"10\" style=\"stroke: #383838; stroke-width: 1.5;\" width=\"60\" x=\"118\" y=\"58\"/><rect fill=\"#F8F8F8\" height=\"37.9375\" rx=\"10\" ry=\"10\" style=\"stroke: #F8F8F8; stroke-width: 1.5;\" width=\"60\" x=\"118\" y=\"58\"/><rect fill=\"#F8F8F8\" height=\"10\" style=\"stroke: #F8F8F8; stroke-width: 1.5;\" width=\"60\" x=\"118\" y=\"85.9375\"/><rect fill=\"none\" height=\"42.9375\" id=\"E2\" rx=\"10\" ry=\"10\" style=\"stroke: #383838; stroke-width: 1.5;\" width=\"60\" x=\"118\" y=\"58\"/><text fill=\"#000000\" font-family=\"sans-serif\" font-size=\"12\" font-style=\"italic\" lengthAdjust=\"spacingAndGlyphs\" textLength=\"53\" x=\"121.5\" y=\"74.1387\">«action»</text><text fill=\"#000000\" font-family=\"sans-serif\" font-size=\"12\" lengthAdjust=\"spacingAndGlyphs\" textLength=\"16\" x=\"140\" y=\"88.1074\">A1</text></a></g><g id=\"E1.E3\"><a href=\"psysml:c6acf79a-793e-4497-aa33-887aafacc071\" target=\"_top\" title=\"psysml:c6acf79a-793e-4497-aa33-887aafacc071\" xlink:actuate=\"onRequest\" xlink:href=\"psysml:c6acf79a-793e-4497-aa33-887aafacc071\" xlink:show=\"new\" xlink:title=\"psysml:c6acf79a-793e-4497-aa33-887aafacc071\" xlink:type=\"simple\"><rect fill=\"#FFFFFF\" height=\"42.9375\" id=\"E3\" rx=\"10\" ry=\"10\" style=\"stroke: #383838; stroke-width: 1.5;\" width=\"60\" x=\"23\" y=\"58\"/><rect fill=\"#F8F8F8\" height=\"37.9375\" rx=\"10\" ry=\"10\" style=\"stroke: #F8F8F8; stroke-width: 1.5;\" width=\"60\" x=\"23\" y=\"58\"/><rect fill=\"#F8F8F8\" height=\"10\" style=\"stroke: #F8F8F8; stroke-width: 1.5;\" width=\"60\" x=\"23\" y=\"85.9375\"/><rect fill=\"none\" height=\"42.9375\" id=\"E3\" rx=\"10\" ry=\"10\" style=\"stroke: #383838; stroke-width: 1.5;\" width=\"60\" x=\"23\" y=\"58\"/><text fill=\"#000000\" font-family=\"sans-serif\" font-size=\"12\" font-style=\"italic\" lengthAdjust=\"spacingAndGlyphs\" textLength=\"53\" x=\"26.5\" y=\"74.1387\">«action»</text><text fill=\"#000000\" font-family=\"sans-serif\" font-size=\"12\" lengthAdjust=\"spacingAndGlyphs\" textLength=\"16\" x=\"45\" y=\"88.1074\">A2</text></a></g><g id=\"E1.E6\"><a href=\"psysml:2beb575e-cdbc-464e-9dd9-fc16008b4aec\" target=\"_top\" title=\"psysml:2beb575e-cdbc-464e-9dd9-fc16008b4aec\" xlink:actuate=\"onRequest\" xlink:href=\"psysml:2beb575e-cdbc-464e-9dd9-fc16008b4aec\" xlink:show=\"new\" xlink:title=\"psysml:2beb575e-cdbc-464e-9dd9-fc16008b4aec\" xlink:type=\"simple\"><rect fill=\"#FFFFFF\" height=\"42.9375\" id=\"E6\" rx=\"10\" ry=\"10\" style=\"stroke: #383838; stroke-width: 1.5;\" width=\"60\" x=\"23\" y=\"147\"/><rect fill=\"#F8F8F8\" height=\"37.9375\" rx=\"10\" ry=\"10\" style=\"stroke: #F8F8F8; stroke-width: 1.5;\" width=\"60\" x=\"23\" y=\"147\"/><rect fill=\"#F8F8F8\" height=\"10\" style=\"stroke: #F8F8F8; stroke-width: 1.5;\" width=\"60\" x=\"23\" y=\"174.9375\"/><rect fill=\"none\" height=\"42.9375\" id=\"E6\" rx=\"10\" ry=\"10\" style=\"stroke: #383838; stroke-width: 1.5;\" width=\"60\" x=\"23\" y=\"147\"/><text fill=\"#000000\" font-family=\"sans-serif\" font-size=\"12\" font-style=\"italic\" lengthAdjust=\"spacingAndGlyphs\" textLength=\"53\" x=\"26.5\" y=\"163.1387\">«action»</text><text fill=\"#000000\" font-family=\"sans-serif\" font-size=\"12\" lengthAdjust=\"spacingAndGlyphs\" textLength=\"16\" x=\"45\" y=\"177.1074\">B1</text></a></g><g id=\"E1.E7\"><a href=\"psysml:18cbd039-fda1-47ea-ae1e-03ddeff777e2\" target=\"_top\" title=\"psysml:18cbd039-fda1-47ea-ae1e-03ddeff777e2\" xlink:actuate=\"onRequest\" xlink:href=\"psysml:18cbd039-fda1-47ea-ae1e-03ddeff777e2\" xlink:show=\"new\" xlink:title=\"psysml:18cbd039-fda1-47ea-ae1e-03ddeff777e2\" xlink:type=\"simple\"><rect fill=\"#FFFFFF\" height=\"42.9375\" id=\"E7\" rx=\"10\" ry=\"10\" style=\"stroke: #383838; stroke-width: 1.5;\" width=\"60\" x=\"118\" y=\"147\"/><rect fill=\"#F8F8F8\" height=\"37.9375\" rx=\"10\" ry=\"10\" style=\"stroke: #F8F8F8; stroke-width: 1.5;\" width=\"60\" x=\"118\" y=\"147\"/><rect fill=\"#F8F8F8\" height=\"10\" style=\"stroke: #F8F8F8; stroke-width: 1.5;\" width=\"60\" x=\"118\" y=\"174.9375\"/><rect fill=\"none\" height=\"42.9375\" id=\"E7\" rx=\"10\" ry=\"10\" style=\"stroke: #383838; stroke-width: 1.5;\" width=\"60\" x=\"118\" y=\"147\"/><text fill=\"#000000\" font-family=\"sans-serif\" font-size=\"12\" font-style=\"italic\" lengthAdjust=\"spacingAndGlyphs\" textLength=\"53\" x=\"121.5\" y=\"163.1387\">«action»</text><text fill=\"#000000\" font-family=\"sans-serif\" font-size=\"12\" lengthAdjust=\"spacingAndGlyphs\" textLength=\"16\" x=\"140\" y=\"177.1074\">B2</text></a></g><!--MD5=[4d03bb2d0377dc85ccfab60ff574652b]\n",
       "link E2 to E4--><a href=\"psysml:32927b08-9b1f-4059-96b6-74ea858c5377\" target=\"_top\" title=\"psysml:32927b08-9b1f-4059-96b6-74ea858c5377\" xlink:actuate=\"onRequest\" xlink:href=\"psysml:32927b08-9b1f-4059-96b6-74ea858c5377\" xlink:show=\"new\" xlink:title=\"psysml:32927b08-9b1f-4059-96b6-74ea858c5377\" xlink:type=\"simple\"><path d=\"M129,101.38 C129,101.38 129,105.93 129,105.93 \" fill=\"none\" id=\"E2-&gt;E4\" style=\"stroke: #383838; stroke-width: 1.0;\"/><polygon fill=\"#383838\" points=\"129,110.93,133,101.93,129,105.93,125,101.93,129,110.93\" style=\"stroke: #383838; stroke-width: 1.0;\"/></a><!--MD5=[af87c684e3b0d8be13c1a698a818ef1e]\n",
       "link E3 to E4--><a href=\"psysml:6834d0f3-19d8-44ac-95f5-e8bc4db68e8a\" target=\"_top\" title=\"psysml:6834d0f3-19d8-44ac-95f5-e8bc4db68e8a\" xlink:actuate=\"onRequest\" xlink:href=\"psysml:6834d0f3-19d8-44ac-95f5-e8bc4db68e8a\" xlink:show=\"new\" xlink:title=\"psysml:6834d0f3-19d8-44ac-95f5-e8bc4db68e8a\" xlink:type=\"simple\"><path d=\"M71.5,101.38 C71.5,101.38 71.5,105.93 71.5,105.93 \" fill=\"none\" id=\"E3-&gt;E4\" style=\"stroke: #383838; stroke-width: 1.0;\"/><polygon fill=\"#383838\" points=\"71.5,110.93,75.5,101.93,71.5,105.93,67.5,101.93,71.5,110.93\" style=\"stroke: #383838; stroke-width: 1.0;\"/></a><!--MD5=[1b7591eae5389033d8d09a9d6721a717]\n",
       "link E4 to E5--><a href=\"psysml:02aceb33-1759-43f7-b21c-5882a5f834e0\" target=\"_top\" title=\"psysml:02aceb33-1759-43f7-b21c-5882a5f834e0\" xlink:actuate=\"onRequest\" xlink:href=\"psysml:02aceb33-1759-43f7-b21c-5882a5f834e0\" xlink:show=\"new\" xlink:title=\"psysml:02aceb33-1759-43f7-b21c-5882a5f834e0\" xlink:type=\"simple\"><path d=\"M100,119.17 C100,119.17 100,123.6 100,123.6 \" fill=\"none\" id=\"E4-&gt;E5\" style=\"stroke: #383838; stroke-width: 1.0;\"/><polygon fill=\"#383838\" points=\"100,128.6,104,119.6,100,123.6,96,119.6,100,128.6\" style=\"stroke: #383838; stroke-width: 1.0;\"/></a><!--MD5=[9120cf2e5df3bff93db8f754bbbc09b4]\n",
       "link E5 to E6--><a href=\"psysml:f43de8b9-7272-426a-b0aa-70e703f3a468\" target=\"_top\" title=\"psysml:f43de8b9-7272-426a-b0aa-70e703f3a468\" xlink:actuate=\"onRequest\" xlink:href=\"psysml:f43de8b9-7272-426a-b0aa-70e703f3a468\" xlink:show=\"new\" xlink:title=\"psysml:f43de8b9-7272-426a-b0aa-70e703f3a468\" xlink:type=\"simple\"><path d=\"M71.5,137.07 C71.5,137.07 71.5,141.87 71.5,141.87 \" fill=\"none\" id=\"E5-&gt;E6\" style=\"stroke: #383838; stroke-width: 1.0;\"/><polygon fill=\"#383838\" points=\"71.5,146.87,75.5,137.87,71.5,141.87,67.5,137.87,71.5,146.87\" style=\"stroke: #383838; stroke-width: 1.0;\"/></a><!--MD5=[3a9b96bfbf6b6ad89c494e81751bda47]\n",
       "link E5 to E7--><a href=\"psysml:6de5063b-eb84-4499-9c8a-3a0354e3d885\" target=\"_top\" title=\"psysml:6de5063b-eb84-4499-9c8a-3a0354e3d885\" xlink:actuate=\"onRequest\" xlink:href=\"psysml:6de5063b-eb84-4499-9c8a-3a0354e3d885\" xlink:show=\"new\" xlink:title=\"psysml:6de5063b-eb84-4499-9c8a-3a0354e3d885\" xlink:type=\"simple\"><path d=\"M129,137.07 C129,137.07 129,141.87 129,141.87 \" fill=\"none\" id=\"E5-&gt;E7\" style=\"stroke: #383838; stroke-width: 1.0;\"/><polygon fill=\"#383838\" points=\"129,146.87,133,137.87,129,141.87,125,137.87,129,146.87\" style=\"stroke: #383838; stroke-width: 1.0;\"/></a><!--MD5=[d16814b99b0f4f775199af80bf4bd18d]\n",
       "@startuml\r\n",
       "skinparam ranksep 10\r\n",
       "skinparam rectangle {\r\n",
       " backgroundColor<<block>> LightGreen\r\n",
       "}\r\n",
       "skinparam linetype ortho\r\n",
       "skinparam monochrome true\r\n",
       "skinparam classbackgroundcolor white\r\n",
       "skinparam shadowing false\r\n",
       "skinparam wrapWidth 300\r\n",
       "hide circle\r\n",
       "\r\n",
       "rec def \"ControlNodeTest\" as E1  <<(T,blue)action def>> [[psysml:8a19e2dd-7f31-4291-b841-c8e7ad6ceaae ]] {\r\n",
       "rec usage \"A1\" as E2  <<(T,blue)action>> [[psysml:63691cb2-c1ae-4262-a628-287378f10d06 ]] {\r\n",
       "}\r\n",
       "\r\n",
       "rec usage \"A2\" as E3  <<(T,blue)action>> [[psysml:c6acf79a-793e-4497-aa33-887aafacc071 ]] {\r\n",
       "}\r\n",
       "\r\n",
       "join \"J\" as E4  [[psysml:9118671e-8e40-41ce-bc29-e44727581a0d ]] \r\n",
       "fork \"F\" as E5  [[psysml:3c4d5a48-0835-4406-bc0d-d635a7475922 ]] \r\n",
       "rec usage \"B1\" as E6  <<(T,blue)action>> [[psysml:2beb575e-cdbc-464e-9dd9-fc16008b4aec ]] {\r\n",
       "}\r\n",
       "\r\n",
       "rec usage \"B2\" as E7  <<(T,blue)action>> [[psysml:18cbd039-fda1-47ea-ae1e-03ddeff777e2 ]] {\r\n",
       "}\r\n",
       "\r\n",
       "}\r\n",
       "\r\n",
       "E2 - -> E4 [[psysml:32927b08-9b1f-4059-96b6-74ea858c5377 ]] \r\n",
       "E3 - -> E4 [[psysml:6834d0f3-19d8-44ac-95f5-e8bc4db68e8a ]] \r\n",
       "E4 - -> E5 [[psysml:02aceb33-1759-43f7-b21c-5882a5f834e0 ]] \r\n",
       "E5 - -> E6 [[psysml:f43de8b9-7272-426a-b0aa-70e703f3a468 ]] \r\n",
       "E5 - -> E7 [[psysml:6de5063b-eb84-4499-9c8a-3a0354e3d885 ]] \r\n",
       "@enduml\r\n",
       "\n",
       "PlantUML version 1.2020.13(Sat Jun 13 12:26:38 UTC 2020)\n",
       "(EPL source distribution)\n",
       "Java Runtime: OpenJDK Runtime Environment\n",
       "JVM: OpenJDK 64-Bit Server VM\n",
       "Default Encoding: UTF-8\n",
       "Language: en\n",
       "Country: null\n",
       "--></g></svg>"
      ]
     },
     "execution_count": 54,
     "metadata": {},
     "output_type": "execute_result"
    }
   ],
   "source": [
    "%viz --style=\"ORTHOLINE\" --view=\"Interconnection\" \"ControlNodeTest\""
   ]
  },
  {
   "cell_type": "code",
   "execution_count": 55,
   "id": "lined-motion",
   "metadata": {
    "execution": {
     "iopub.execute_input": "2021-03-26T15:42:11.504204Z",
     "iopub.status.busy": "2021-03-26T15:42:11.503119Z",
     "iopub.status.idle": "2021-03-26T15:42:11.531381Z",
     "shell.execute_reply": "2021-03-26T15:42:11.530089Z"
    }
   },
   "outputs": [
    {
     "data": {
      "image/svg+xml": [
       "<?xml version=\"1.0\" encoding=\"UTF-8\" standalone=\"no\"?><svg xmlns=\"http://www.w3.org/2000/svg\" xmlns:xlink=\"http://www.w3.org/1999/xlink\" contentScriptType=\"application/ecmascript\" contentStyleType=\"text/css\" height=\"211px\" preserveAspectRatio=\"none\" style=\"width:205px;height:211px;\" version=\"1.1\" viewBox=\"0 0 205 211\" width=\"205px\" zoomAndPan=\"magnify\"><defs/><g><!--MD5=[fbc87193dbaf4d95561dea2c320d4a47]\n",
       "cluster E1--><a href=\"psysml:8a19e2dd-7f31-4291-b841-c8e7ad6ceaae\" target=\"_top\" title=\"psysml:8a19e2dd-7f31-4291-b841-c8e7ad6ceaae\" xlink:actuate=\"onRequest\" xlink:href=\"psysml:8a19e2dd-7f31-4291-b841-c8e7ad6ceaae\" xlink:show=\"new\" xlink:title=\"psysml:8a19e2dd-7f31-4291-b841-c8e7ad6ceaae\" xlink:type=\"simple\"><rect fill=\"#FFFFFF\" height=\"193\" id=\"E1\" style=\"stroke: #383838; stroke-width: 1.5;\" width=\"187\" x=\"7\" y=\"7\"/><rect fill=\"#F8F8F8\" height=\"37.9375\" style=\"stroke: #383838; stroke-width: 1.5;\" width=\"187\" x=\"7\" y=\"7\"/><text fill=\"#000000\" font-family=\"sans-serif\" font-size=\"12\" font-style=\"italic\" lengthAdjust=\"spacingAndGlyphs\" textLength=\"77\" x=\"62\" y=\"23.1387\">«action def»</text><text fill=\"#000000\" font-family=\"sans-serif\" font-size=\"12\" lengthAdjust=\"spacingAndGlyphs\" textLength=\"105\" x=\"48\" y=\"37.1074\">ControlNodeTest</text></a><rect fill=\"#000000\" height=\"8\" style=\"stroke: none; stroke-width: 1.0;\" width=\"80\" x=\"60\" y=\"109\"/><rect fill=\"#000000\" height=\"8\" style=\"stroke: none; stroke-width: 1.0;\" width=\"80\" x=\"60\" y=\"125\"/><g id=\"E1.E2\"><a href=\"psysml:63691cb2-c1ae-4262-a628-287378f10d06\" target=\"_top\" title=\"psysml:63691cb2-c1ae-4262-a628-287378f10d06\" xlink:actuate=\"onRequest\" xlink:href=\"psysml:63691cb2-c1ae-4262-a628-287378f10d06\" xlink:show=\"new\" xlink:title=\"psysml:63691cb2-c1ae-4262-a628-287378f10d06\" xlink:type=\"simple\"><rect fill=\"#FFFFFF\" height=\"42.9375\" id=\"E2\" rx=\"10\" ry=\"10\" style=\"stroke: #383838; stroke-width: 1.5;\" width=\"60\" x=\"118\" y=\"58\"/><rect fill=\"#F8F8F8\" height=\"37.9375\" rx=\"10\" ry=\"10\" style=\"stroke: #F8F8F8; stroke-width: 1.5;\" width=\"60\" x=\"118\" y=\"58\"/><rect fill=\"#F8F8F8\" height=\"10\" style=\"stroke: #F8F8F8; stroke-width: 1.5;\" width=\"60\" x=\"118\" y=\"85.9375\"/><rect fill=\"none\" height=\"42.9375\" id=\"E2\" rx=\"10\" ry=\"10\" style=\"stroke: #383838; stroke-width: 1.5;\" width=\"60\" x=\"118\" y=\"58\"/><text fill=\"#000000\" font-family=\"sans-serif\" font-size=\"12\" font-style=\"italic\" lengthAdjust=\"spacingAndGlyphs\" textLength=\"53\" x=\"121.5\" y=\"74.1387\">«action»</text><text fill=\"#000000\" font-family=\"sans-serif\" font-size=\"12\" lengthAdjust=\"spacingAndGlyphs\" textLength=\"16\" x=\"140\" y=\"88.1074\">A1</text></a></g><g id=\"E1.E3\"><a href=\"psysml:c6acf79a-793e-4497-aa33-887aafacc071\" target=\"_top\" title=\"psysml:c6acf79a-793e-4497-aa33-887aafacc071\" xlink:actuate=\"onRequest\" xlink:href=\"psysml:c6acf79a-793e-4497-aa33-887aafacc071\" xlink:show=\"new\" xlink:title=\"psysml:c6acf79a-793e-4497-aa33-887aafacc071\" xlink:type=\"simple\"><rect fill=\"#FFFFFF\" height=\"42.9375\" id=\"E3\" rx=\"10\" ry=\"10\" style=\"stroke: #383838; stroke-width: 1.5;\" width=\"60\" x=\"23\" y=\"58\"/><rect fill=\"#F8F8F8\" height=\"37.9375\" rx=\"10\" ry=\"10\" style=\"stroke: #F8F8F8; stroke-width: 1.5;\" width=\"60\" x=\"23\" y=\"58\"/><rect fill=\"#F8F8F8\" height=\"10\" style=\"stroke: #F8F8F8; stroke-width: 1.5;\" width=\"60\" x=\"23\" y=\"85.9375\"/><rect fill=\"none\" height=\"42.9375\" id=\"E3\" rx=\"10\" ry=\"10\" style=\"stroke: #383838; stroke-width: 1.5;\" width=\"60\" x=\"23\" y=\"58\"/><text fill=\"#000000\" font-family=\"sans-serif\" font-size=\"12\" font-style=\"italic\" lengthAdjust=\"spacingAndGlyphs\" textLength=\"53\" x=\"26.5\" y=\"74.1387\">«action»</text><text fill=\"#000000\" font-family=\"sans-serif\" font-size=\"12\" lengthAdjust=\"spacingAndGlyphs\" textLength=\"16\" x=\"45\" y=\"88.1074\">A2</text></a></g><g id=\"E1.E6\"><a href=\"psysml:2beb575e-cdbc-464e-9dd9-fc16008b4aec\" target=\"_top\" title=\"psysml:2beb575e-cdbc-464e-9dd9-fc16008b4aec\" xlink:actuate=\"onRequest\" xlink:href=\"psysml:2beb575e-cdbc-464e-9dd9-fc16008b4aec\" xlink:show=\"new\" xlink:title=\"psysml:2beb575e-cdbc-464e-9dd9-fc16008b4aec\" xlink:type=\"simple\"><rect fill=\"#FFFFFF\" height=\"42.9375\" id=\"E6\" rx=\"10\" ry=\"10\" style=\"stroke: #383838; stroke-width: 1.5;\" width=\"60\" x=\"23\" y=\"141\"/><rect fill=\"#F8F8F8\" height=\"37.9375\" rx=\"10\" ry=\"10\" style=\"stroke: #F8F8F8; stroke-width: 1.5;\" width=\"60\" x=\"23\" y=\"141\"/><rect fill=\"#F8F8F8\" height=\"10\" style=\"stroke: #F8F8F8; stroke-width: 1.5;\" width=\"60\" x=\"23\" y=\"168.9375\"/><rect fill=\"none\" height=\"42.9375\" id=\"E6\" rx=\"10\" ry=\"10\" style=\"stroke: #383838; stroke-width: 1.5;\" width=\"60\" x=\"23\" y=\"141\"/><text fill=\"#000000\" font-family=\"sans-serif\" font-size=\"12\" font-style=\"italic\" lengthAdjust=\"spacingAndGlyphs\" textLength=\"53\" x=\"26.5\" y=\"157.1387\">«action»</text><text fill=\"#000000\" font-family=\"sans-serif\" font-size=\"12\" lengthAdjust=\"spacingAndGlyphs\" textLength=\"16\" x=\"45\" y=\"171.1074\">B1</text></a></g><g id=\"E1.E7\"><a href=\"psysml:18cbd039-fda1-47ea-ae1e-03ddeff777e2\" target=\"_top\" title=\"psysml:18cbd039-fda1-47ea-ae1e-03ddeff777e2\" xlink:actuate=\"onRequest\" xlink:href=\"psysml:18cbd039-fda1-47ea-ae1e-03ddeff777e2\" xlink:show=\"new\" xlink:title=\"psysml:18cbd039-fda1-47ea-ae1e-03ddeff777e2\" xlink:type=\"simple\"><rect fill=\"#FFFFFF\" height=\"42.9375\" id=\"E7\" rx=\"10\" ry=\"10\" style=\"stroke: #383838; stroke-width: 1.5;\" width=\"60\" x=\"118\" y=\"141\"/><rect fill=\"#F8F8F8\" height=\"37.9375\" rx=\"10\" ry=\"10\" style=\"stroke: #F8F8F8; stroke-width: 1.5;\" width=\"60\" x=\"118\" y=\"141\"/><rect fill=\"#F8F8F8\" height=\"10\" style=\"stroke: #F8F8F8; stroke-width: 1.5;\" width=\"60\" x=\"118\" y=\"168.9375\"/><rect fill=\"none\" height=\"42.9375\" id=\"E7\" rx=\"10\" ry=\"10\" style=\"stroke: #383838; stroke-width: 1.5;\" width=\"60\" x=\"118\" y=\"141\"/><text fill=\"#000000\" font-family=\"sans-serif\" font-size=\"12\" font-style=\"italic\" lengthAdjust=\"spacingAndGlyphs\" textLength=\"53\" x=\"121.5\" y=\"157.1387\">«action»</text><text fill=\"#000000\" font-family=\"sans-serif\" font-size=\"12\" lengthAdjust=\"spacingAndGlyphs\" textLength=\"16\" x=\"140\" y=\"171.1074\">B2</text></a></g><!--MD5=[4d03bb2d0377dc85ccfab60ff574652b]\n",
       "link E2 to E4--><a href=\"psysml:32927b08-9b1f-4059-96b6-74ea858c5377\" target=\"_top\" title=\"psysml:32927b08-9b1f-4059-96b6-74ea858c5377\" xlink:actuate=\"onRequest\" xlink:href=\"psysml:32927b08-9b1f-4059-96b6-74ea858c5377\" xlink:show=\"new\" xlink:title=\"psysml:32927b08-9b1f-4059-96b6-74ea858c5377\" xlink:type=\"simple\"><path d=\"M129,101.28 C129,101.28 129,103.71 129,103.71 \" fill=\"none\" id=\"E2-&gt;E4\" style=\"stroke: #383838; stroke-width: 1.0; stroke-dasharray: 7.0,7.0;\"/><polygon fill=\"#383838\" points=\"129,108.71,133,99.71,129,103.71,125,99.71,129,108.71\" style=\"stroke: #383838; stroke-width: 1.0;\"/></a><!--MD5=[af87c684e3b0d8be13c1a698a818ef1e]\n",
       "link E3 to E4--><a href=\"psysml:6834d0f3-19d8-44ac-95f5-e8bc4db68e8a\" target=\"_top\" title=\"psysml:6834d0f3-19d8-44ac-95f5-e8bc4db68e8a\" xlink:actuate=\"onRequest\" xlink:href=\"psysml:6834d0f3-19d8-44ac-95f5-e8bc4db68e8a\" xlink:show=\"new\" xlink:title=\"psysml:6834d0f3-19d8-44ac-95f5-e8bc4db68e8a\" xlink:type=\"simple\"><path d=\"M71.5,101.28 C71.5,101.28 71.5,103.71 71.5,103.71 \" fill=\"none\" id=\"E3-&gt;E4\" style=\"stroke: #383838; stroke-width: 1.0; stroke-dasharray: 7.0,7.0;\"/><polygon fill=\"#383838\" points=\"71.5,108.71,75.5,99.71,71.5,103.71,67.5,99.71,71.5,108.71\" style=\"stroke: #383838; stroke-width: 1.0;\"/></a><!--MD5=[1b7591eae5389033d8d09a9d6721a717]\n",
       "link E4 to E5--><a href=\"psysml:02aceb33-1759-43f7-b21c-5882a5f834e0\" target=\"_top\" title=\"psysml:02aceb33-1759-43f7-b21c-5882a5f834e0\" xlink:actuate=\"onRequest\" xlink:href=\"psysml:02aceb33-1759-43f7-b21c-5882a5f834e0\" xlink:show=\"new\" xlink:title=\"psysml:02aceb33-1759-43f7-b21c-5882a5f834e0\" xlink:type=\"simple\"><path d=\"M100,117.04 C100,117.04 100,119.8 100,119.8 \" fill=\"none\" id=\"E4-&gt;E5\" style=\"stroke: #383838; stroke-width: 1.0; stroke-dasharray: 7.0,7.0;\"/><polygon fill=\"#383838\" points=\"100,124.8,104,115.8,100,119.8,96,115.8,100,124.8\" style=\"stroke: #383838; stroke-width: 1.0;\"/></a><!--MD5=[9120cf2e5df3bff93db8f754bbbc09b4]\n",
       "link E5 to E6--><a href=\"psysml:f43de8b9-7272-426a-b0aa-70e703f3a468\" target=\"_top\" title=\"psysml:f43de8b9-7272-426a-b0aa-70e703f3a468\" xlink:actuate=\"onRequest\" xlink:href=\"psysml:f43de8b9-7272-426a-b0aa-70e703f3a468\" xlink:show=\"new\" xlink:title=\"psysml:f43de8b9-7272-426a-b0aa-70e703f3a468\" xlink:type=\"simple\"><path d=\"M71.5,133.11 C71.5,133.11 71.5,135.88 71.5,135.88 \" fill=\"none\" id=\"E5-&gt;E6\" style=\"stroke: #383838; stroke-width: 1.0; stroke-dasharray: 7.0,7.0;\"/><polygon fill=\"#383838\" points=\"71.5,140.88,75.5,131.88,71.5,135.88,67.5,131.88,71.5,140.88\" style=\"stroke: #383838; stroke-width: 1.0;\"/></a><!--MD5=[3a9b96bfbf6b6ad89c494e81751bda47]\n",
       "link E5 to E7--><a href=\"psysml:6de5063b-eb84-4499-9c8a-3a0354e3d885\" target=\"_top\" title=\"psysml:6de5063b-eb84-4499-9c8a-3a0354e3d885\" xlink:actuate=\"onRequest\" xlink:href=\"psysml:6de5063b-eb84-4499-9c8a-3a0354e3d885\" xlink:show=\"new\" xlink:title=\"psysml:6de5063b-eb84-4499-9c8a-3a0354e3d885\" xlink:type=\"simple\"><path d=\"M129,133.11 C129,133.11 129,135.88 129,135.88 \" fill=\"none\" id=\"E5-&gt;E7\" style=\"stroke: #383838; stroke-width: 1.0; stroke-dasharray: 7.0,7.0;\"/><polygon fill=\"#383838\" points=\"129,140.88,133,131.88,129,135.88,125,131.88,129,140.88\" style=\"stroke: #383838; stroke-width: 1.0;\"/></a><!--MD5=[1f848844b93a67cb49fe997c1af0a530]\n",
       "@startuml\r\n",
       "skinparam ranksep 8\r\n",
       "skinparam linetype ortho\r\n",
       "skinparam monochrome true\r\n",
       "skinparam classbackgroundcolor white\r\n",
       "skinparam shadowing false\r\n",
       "skinparam wrapWidth 300\r\n",
       "hide circle\r\n",
       "\r\n",
       "rec def \"ControlNodeTest\" as E1  <<(T,blue)action def>> [[psysml:8a19e2dd-7f31-4291-b841-c8e7ad6ceaae ]] {\r\n",
       "rec usage \"A1\" as E2  <<(T,blue)action>> [[psysml:63691cb2-c1ae-4262-a628-287378f10d06 ]] {\r\n",
       "}\r\n",
       "\r\n",
       "rec usage \"A2\" as E3  <<(T,blue)action>> [[psysml:c6acf79a-793e-4497-aa33-887aafacc071 ]] {\r\n",
       "}\r\n",
       "\r\n",
       "join \"J\" as E4  [[psysml:9118671e-8e40-41ce-bc29-e44727581a0d ]] \r\n",
       "fork \"F\" as E5  [[psysml:3c4d5a48-0835-4406-bc0d-d635a7475922 ]] \r\n",
       "rec usage \"B1\" as E6  <<(T,blue)action>> [[psysml:2beb575e-cdbc-464e-9dd9-fc16008b4aec ]] {\r\n",
       "}\r\n",
       "\r\n",
       "rec usage \"B2\" as E7  <<(T,blue)action>> [[psysml:18cbd039-fda1-47ea-ae1e-03ddeff777e2 ]] {\r\n",
       "}\r\n",
       "\r\n",
       "}\r\n",
       "\r\n",
       "E2 ..> E4 [[psysml:32927b08-9b1f-4059-96b6-74ea858c5377 ]] \r\n",
       "E3 ..> E4 [[psysml:6834d0f3-19d8-44ac-95f5-e8bc4db68e8a ]] \r\n",
       "E4 ..> E5 [[psysml:02aceb33-1759-43f7-b21c-5882a5f834e0 ]] \r\n",
       "E5 ..> E6 [[psysml:f43de8b9-7272-426a-b0aa-70e703f3a468 ]] \r\n",
       "E5 ..> E7 [[psysml:6de5063b-eb84-4499-9c8a-3a0354e3d885 ]] \r\n",
       "@enduml\r\n",
       "\n",
       "PlantUML version 1.2020.13(Sat Jun 13 12:26:38 UTC 2020)\n",
       "(EPL source distribution)\n",
       "Java Runtime: OpenJDK Runtime Environment\n",
       "JVM: OpenJDK 64-Bit Server VM\n",
       "Default Encoding: UTF-8\n",
       "Language: en\n",
       "Country: null\n",
       "--></g></svg>"
      ]
     },
     "execution_count": 55,
     "metadata": {},
     "output_type": "execute_result"
    }
   ],
   "source": [
    "%viz --style=\"ORTHOLINE\" --view=\"Action\" \"ControlNodeTest\""
   ]
  },
  {
   "cell_type": "code",
   "execution_count": 56,
   "id": "english-mixture",
   "metadata": {
    "execution": {
     "iopub.execute_input": "2021-03-26T15:42:11.581744Z",
     "iopub.status.busy": "2021-03-26T15:42:11.581351Z",
     "iopub.status.idle": "2021-03-26T15:42:11.630156Z",
     "shell.execute_reply": "2021-03-26T15:42:11.629820Z"
    }
   },
   "outputs": [
    {
     "data": {
      "image/svg+xml": [
       "<?xml version=\"1.0\" encoding=\"UTF-8\" standalone=\"no\"?><svg xmlns=\"http://www.w3.org/2000/svg\" xmlns:xlink=\"http://www.w3.org/1999/xlink\" contentScriptType=\"application/ecmascript\" contentStyleType=\"text/css\" height=\"191px\" preserveAspectRatio=\"none\" style=\"width:129px;height:191px;\" version=\"1.1\" viewBox=\"0 0 129 191\" width=\"129px\" zoomAndPan=\"magnify\"><defs/><g><!--MD5=[43c9051892ef23e1a46a86907403d788]\n",
       "class E1--><a href=\"psysml:8a19e2dd-7f31-4291-b841-c8e7ad6ceaae\" target=\"_top\" title=\"psysml:8a19e2dd-7f31-4291-b841-c8e7ad6ceaae\" xlink:actuate=\"onRequest\" xlink:href=\"psysml:8a19e2dd-7f31-4291-b841-c8e7ad6ceaae\" xlink:show=\"new\" xlink:title=\"psysml:8a19e2dd-7f31-4291-b841-c8e7ad6ceaae\" xlink:type=\"simple\"><rect fill=\"#FFFFFF\" height=\"173.1797\" id=\"E1\" style=\"stroke: #383838; stroke-width: 1.5;\" width=\"111\" x=\"7\" y=\"7\"/><text fill=\"#000000\" font-family=\"sans-serif\" font-size=\"12\" font-style=\"italic\" lengthAdjust=\"spacingAndGlyphs\" textLength=\"77\" x=\"24\" y=\"23.1387\">«action def»</text><text fill=\"#000000\" font-family=\"sans-serif\" font-size=\"12\" lengthAdjust=\"spacingAndGlyphs\" textLength=\"105\" x=\"10\" y=\"37.1074\">ControlNodeTest</text><line style=\"stroke: #383838; stroke-width: 1.5;\" x1=\"8\" x2=\"117\" y1=\"44.9375\" y2=\"44.9375\"/><text fill=\"#000000\" font-family=\"sans-serif\" font-size=\"11\" lengthAdjust=\"spacingAndGlyphs\" textLength=\"14\" x=\"13\" y=\"75.9526\">A1</text><text fill=\"#000000\" font-family=\"sans-serif\" font-size=\"11\" lengthAdjust=\"spacingAndGlyphs\" textLength=\"14\" x=\"13\" y=\"88.7573\">A2</text><text fill=\"#000000\" font-family=\"sans-serif\" font-size=\"11\" lengthAdjust=\"spacingAndGlyphs\" textLength=\"15\" x=\"13\" y=\"101.562\">B1</text><text fill=\"#000000\" font-family=\"sans-serif\" font-size=\"11\" lengthAdjust=\"spacingAndGlyphs\" textLength=\"15\" x=\"13\" y=\"114.3667\">B2</text><line style=\"stroke: #383838; stroke-width: 1.0;\" x1=\"8\" x2=\"42\" y1=\"59.3398\" y2=\"59.3398\"/><text fill=\"#000000\" font-family=\"sans-serif\" font-size=\"11\" lengthAdjust=\"spacingAndGlyphs\" textLength=\"41\" x=\"42\" y=\"62.6479\">actions</text><line style=\"stroke: #383838; stroke-width: 1.0;\" x1=\"83\" x2=\"117\" y1=\"59.3398\" y2=\"59.3398\"/><text fill=\"#000000\" font-family=\"sans-serif\" font-size=\"11\" lengthAdjust=\"spacingAndGlyphs\" textLength=\"6\" x=\"13\" y=\"143.9761\">F</text><line style=\"stroke: #383838; stroke-width: 1.0;\" x1=\"8\" x2=\"33.5\" y1=\"127.3633\" y2=\"127.3633\"/><text fill=\"#000000\" font-family=\"sans-serif\" font-size=\"11\" lengthAdjust=\"spacingAndGlyphs\" textLength=\"58\" x=\"33.5\" y=\"130.6714\">forkNodes</text><line style=\"stroke: #383838; stroke-width: 1.0;\" x1=\"91.5\" x2=\"117\" y1=\"127.3633\" y2=\"127.3633\"/><text fill=\"#000000\" font-family=\"sans-serif\" font-size=\"11\" lengthAdjust=\"spacingAndGlyphs\" textLength=\"3\" x=\"13\" y=\"173.5854\">J</text><line style=\"stroke: #383838; stroke-width: 1.0;\" x1=\"8\" x2=\"34.5\" y1=\"156.9727\" y2=\"156.9727\"/><text fill=\"#000000\" font-family=\"sans-serif\" font-size=\"11\" lengthAdjust=\"spacingAndGlyphs\" textLength=\"56\" x=\"34.5\" y=\"160.2808\">joinNodes</text><line style=\"stroke: #383838; stroke-width: 1.0;\" x1=\"90.5\" x2=\"117\" y1=\"156.9727\" y2=\"156.9727\"/></a><!--MD5=[efed3bb1f2be90d1322e9a35b7ef9f04]\n",
       "@startuml\r\n",
       "skinparam linetype ortho\r\n",
       "skinparam monochrome true\r\n",
       "skinparam classbackgroundcolor white\r\n",
       "skinparam shadowing false\r\n",
       "skinparam wrapWidth 300\r\n",
       "hide circle\r\n",
       "\r\n",
       "comp def \"ControlNodeTest\" as E1  <<(T,blue)action def>> [[psysml:8a19e2dd-7f31-4291-b841-c8e7ad6ceaae ]] {\r\n",
       "- - actions - -\r\n",
       "A1\r\n",
       "A2\r\n",
       "B1\r\n",
       "B2\r\n",
       "- - forkNodes - -\r\n",
       "F\r\n",
       "- - joinNodes - -\r\n",
       "J\r\n",
       "}\r\n",
       "@enduml\r\n",
       "\n",
       "PlantUML version 1.2020.13(Sat Jun 13 12:26:38 UTC 2020)\n",
       "(EPL source distribution)\n",
       "Java Runtime: OpenJDK Runtime Environment\n",
       "JVM: OpenJDK 64-Bit Server VM\n",
       "Default Encoding: UTF-8\n",
       "Language: en\n",
       "Country: null\n",
       "--></g></svg>"
      ]
     },
     "execution_count": 56,
     "metadata": {},
     "output_type": "execute_result"
    }
   ],
   "source": [
    "%viz --style=\"ORTHOLINE\" --view=\"Sequence\" \"ControlNodeTest\""
   ]
  },
  {
   "cell_type": "code",
   "execution_count": 57,
   "id": "military-gateway",
   "metadata": {
    "execution": {
     "iopub.execute_input": "2021-03-26T15:42:11.680828Z",
     "iopub.status.busy": "2021-03-26T15:42:11.680370Z",
     "iopub.status.idle": "2021-03-26T15:42:11.707407Z",
     "shell.execute_reply": "2021-03-26T15:42:11.705979Z"
    }
   },
   "outputs": [
    {
     "data": {
      "image/svg+xml": [
       "<?xml version=\"1.0\" encoding=\"UTF-8\" standalone=\"no\"?><svg xmlns=\"http://www.w3.org/2000/svg\" xmlns:xlink=\"http://www.w3.org/1999/xlink\" contentScriptType=\"application/ecmascript\" contentStyleType=\"text/css\" height=\"367px\" preserveAspectRatio=\"none\" style=\"width:205px;height:367px;\" version=\"1.1\" viewBox=\"0 0 205 367\" width=\"205px\" zoomAndPan=\"magnify\"><defs/><g><!--MD5=[fbc87193dbaf4d95561dea2c320d4a47]\n",
       "cluster E1--><a href=\"psysml:8a19e2dd-7f31-4291-b841-c8e7ad6ceaae\" target=\"_top\" title=\"psysml:8a19e2dd-7f31-4291-b841-c8e7ad6ceaae\" xlink:actuate=\"onRequest\" xlink:href=\"psysml:8a19e2dd-7f31-4291-b841-c8e7ad6ceaae\" xlink:show=\"new\" xlink:title=\"psysml:8a19e2dd-7f31-4291-b841-c8e7ad6ceaae\" xlink:type=\"simple\"><rect fill=\"#FFFFFF\" height=\"349\" id=\"E1\" style=\"stroke: #383838; stroke-width: 1.5;\" width=\"187\" x=\"7\" y=\"7\"/><rect fill=\"#F8F8F8\" height=\"37.9375\" style=\"stroke: #383838; stroke-width: 1.5;\" width=\"187\" x=\"7\" y=\"7\"/><text fill=\"#000000\" font-family=\"sans-serif\" font-size=\"12\" font-style=\"italic\" lengthAdjust=\"spacingAndGlyphs\" textLength=\"77\" x=\"62\" y=\"23.1387\">«action def»</text><text fill=\"#000000\" font-family=\"sans-serif\" font-size=\"12\" lengthAdjust=\"spacingAndGlyphs\" textLength=\"105\" x=\"48\" y=\"37.1074\">ControlNodeTest</text></a><rect fill=\"#000000\" height=\"8\" style=\"stroke: none; stroke-width: 1.0;\" width=\"80\" x=\"60\" y=\"161\"/><rect fill=\"#000000\" height=\"8\" style=\"stroke: none; stroke-width: 1.0;\" width=\"80\" x=\"60\" y=\"229\"/><g id=\"E1.E2\"><a href=\"psysml:63691cb2-c1ae-4262-a628-287378f10d06\" target=\"_top\" title=\"psysml:63691cb2-c1ae-4262-a628-287378f10d06\" xlink:actuate=\"onRequest\" xlink:href=\"psysml:63691cb2-c1ae-4262-a628-287378f10d06\" xlink:show=\"new\" xlink:title=\"psysml:63691cb2-c1ae-4262-a628-287378f10d06\" xlink:type=\"simple\"><rect fill=\"#FFFFFF\" height=\"42.9375\" id=\"E2\" rx=\"10\" ry=\"10\" style=\"stroke: #383838; stroke-width: 1.5;\" width=\"60\" x=\"118\" y=\"58\"/><rect fill=\"#F8F8F8\" height=\"37.9375\" rx=\"10\" ry=\"10\" style=\"stroke: #F8F8F8; stroke-width: 1.5;\" width=\"60\" x=\"118\" y=\"58\"/><rect fill=\"#F8F8F8\" height=\"10\" style=\"stroke: #F8F8F8; stroke-width: 1.5;\" width=\"60\" x=\"118\" y=\"85.9375\"/><rect fill=\"none\" height=\"42.9375\" id=\"E2\" rx=\"10\" ry=\"10\" style=\"stroke: #383838; stroke-width: 1.5;\" width=\"60\" x=\"118\" y=\"58\"/><text fill=\"#000000\" font-family=\"sans-serif\" font-size=\"12\" font-style=\"italic\" lengthAdjust=\"spacingAndGlyphs\" textLength=\"53\" x=\"121.5\" y=\"74.1387\">«action»</text><text fill=\"#000000\" font-family=\"sans-serif\" font-size=\"12\" lengthAdjust=\"spacingAndGlyphs\" textLength=\"16\" x=\"140\" y=\"88.1074\">A1</text></a></g><g id=\"E1.E3\"><a href=\"psysml:c6acf79a-793e-4497-aa33-887aafacc071\" target=\"_top\" title=\"psysml:c6acf79a-793e-4497-aa33-887aafacc071\" xlink:actuate=\"onRequest\" xlink:href=\"psysml:c6acf79a-793e-4497-aa33-887aafacc071\" xlink:show=\"new\" xlink:title=\"psysml:c6acf79a-793e-4497-aa33-887aafacc071\" xlink:type=\"simple\"><rect fill=\"#FFFFFF\" height=\"42.9375\" id=\"E3\" rx=\"10\" ry=\"10\" style=\"stroke: #383838; stroke-width: 1.5;\" width=\"60\" x=\"23\" y=\"58\"/><rect fill=\"#F8F8F8\" height=\"37.9375\" rx=\"10\" ry=\"10\" style=\"stroke: #F8F8F8; stroke-width: 1.5;\" width=\"60\" x=\"23\" y=\"58\"/><rect fill=\"#F8F8F8\" height=\"10\" style=\"stroke: #F8F8F8; stroke-width: 1.5;\" width=\"60\" x=\"23\" y=\"85.9375\"/><rect fill=\"none\" height=\"42.9375\" id=\"E3\" rx=\"10\" ry=\"10\" style=\"stroke: #383838; stroke-width: 1.5;\" width=\"60\" x=\"23\" y=\"58\"/><text fill=\"#000000\" font-family=\"sans-serif\" font-size=\"12\" font-style=\"italic\" lengthAdjust=\"spacingAndGlyphs\" textLength=\"53\" x=\"26.5\" y=\"74.1387\">«action»</text><text fill=\"#000000\" font-family=\"sans-serif\" font-size=\"12\" lengthAdjust=\"spacingAndGlyphs\" textLength=\"16\" x=\"45\" y=\"88.1074\">A2</text></a></g><g id=\"E1.E6\"><a href=\"psysml:2beb575e-cdbc-464e-9dd9-fc16008b4aec\" target=\"_top\" title=\"psysml:2beb575e-cdbc-464e-9dd9-fc16008b4aec\" xlink:actuate=\"onRequest\" xlink:href=\"psysml:2beb575e-cdbc-464e-9dd9-fc16008b4aec\" xlink:show=\"new\" xlink:title=\"psysml:2beb575e-cdbc-464e-9dd9-fc16008b4aec\" xlink:type=\"simple\"><rect fill=\"#FFFFFF\" height=\"42.9375\" id=\"E6\" rx=\"10\" ry=\"10\" style=\"stroke: #383838; stroke-width: 1.5;\" width=\"60\" x=\"23\" y=\"297\"/><rect fill=\"#F8F8F8\" height=\"37.9375\" rx=\"10\" ry=\"10\" style=\"stroke: #F8F8F8; stroke-width: 1.5;\" width=\"60\" x=\"23\" y=\"297\"/><rect fill=\"#F8F8F8\" height=\"10\" style=\"stroke: #F8F8F8; stroke-width: 1.5;\" width=\"60\" x=\"23\" y=\"324.9375\"/><rect fill=\"none\" height=\"42.9375\" id=\"E6\" rx=\"10\" ry=\"10\" style=\"stroke: #383838; stroke-width: 1.5;\" width=\"60\" x=\"23\" y=\"297\"/><text fill=\"#000000\" font-family=\"sans-serif\" font-size=\"12\" font-style=\"italic\" lengthAdjust=\"spacingAndGlyphs\" textLength=\"53\" x=\"26.5\" y=\"313.1387\">«action»</text><text fill=\"#000000\" font-family=\"sans-serif\" font-size=\"12\" lengthAdjust=\"spacingAndGlyphs\" textLength=\"16\" x=\"45\" y=\"327.1074\">B1</text></a></g><g id=\"E1.E7\"><a href=\"psysml:18cbd039-fda1-47ea-ae1e-03ddeff777e2\" target=\"_top\" title=\"psysml:18cbd039-fda1-47ea-ae1e-03ddeff777e2\" xlink:actuate=\"onRequest\" xlink:href=\"psysml:18cbd039-fda1-47ea-ae1e-03ddeff777e2\" xlink:show=\"new\" xlink:title=\"psysml:18cbd039-fda1-47ea-ae1e-03ddeff777e2\" xlink:type=\"simple\"><rect fill=\"#FFFFFF\" height=\"42.9375\" id=\"E7\" rx=\"10\" ry=\"10\" style=\"stroke: #383838; stroke-width: 1.5;\" width=\"60\" x=\"118\" y=\"297\"/><rect fill=\"#F8F8F8\" height=\"37.9375\" rx=\"10\" ry=\"10\" style=\"stroke: #F8F8F8; stroke-width: 1.5;\" width=\"60\" x=\"118\" y=\"297\"/><rect fill=\"#F8F8F8\" height=\"10\" style=\"stroke: #F8F8F8; stroke-width: 1.5;\" width=\"60\" x=\"118\" y=\"324.9375\"/><rect fill=\"none\" height=\"42.9375\" id=\"E7\" rx=\"10\" ry=\"10\" style=\"stroke: #383838; stroke-width: 1.5;\" width=\"60\" x=\"118\" y=\"297\"/><text fill=\"#000000\" font-family=\"sans-serif\" font-size=\"12\" font-style=\"italic\" lengthAdjust=\"spacingAndGlyphs\" textLength=\"53\" x=\"121.5\" y=\"313.1387\">«action»</text><text fill=\"#000000\" font-family=\"sans-serif\" font-size=\"12\" lengthAdjust=\"spacingAndGlyphs\" textLength=\"16\" x=\"140\" y=\"327.1074\">B2</text></a></g><!--MD5=[4d03bb2d0377dc85ccfab60ff574652b]\n",
       "link E2 to E4--><a href=\"psysml:32927b08-9b1f-4059-96b6-74ea858c5377\" target=\"_top\" title=\"psysml:32927b08-9b1f-4059-96b6-74ea858c5377\" xlink:actuate=\"onRequest\" xlink:href=\"psysml:32927b08-9b1f-4059-96b6-74ea858c5377\" xlink:show=\"new\" xlink:title=\"psysml:32927b08-9b1f-4059-96b6-74ea858c5377\" xlink:type=\"simple\"><path d=\"M129,101.08 C129,101.08 129,155.97 129,155.97 \" fill=\"none\" id=\"E2-&gt;E4\" style=\"stroke: #383838; stroke-width: 1.0;\"/><polygon fill=\"#383838\" points=\"129,160.97,133,151.97,129,155.97,125,151.97,129,160.97\" style=\"stroke: #383838; stroke-width: 1.0;\"/></a><!--MD5=[af87c684e3b0d8be13c1a698a818ef1e]\n",
       "link E3 to E4--><a href=\"psysml:6834d0f3-19d8-44ac-95f5-e8bc4db68e8a\" target=\"_top\" title=\"psysml:6834d0f3-19d8-44ac-95f5-e8bc4db68e8a\" xlink:actuate=\"onRequest\" xlink:href=\"psysml:6834d0f3-19d8-44ac-95f5-e8bc4db68e8a\" xlink:show=\"new\" xlink:title=\"psysml:6834d0f3-19d8-44ac-95f5-e8bc4db68e8a\" xlink:type=\"simple\"><path d=\"M71.5,101.08 C71.5,101.08 71.5,155.97 71.5,155.97 \" fill=\"none\" id=\"E3-&gt;E4\" style=\"stroke: #383838; stroke-width: 1.0;\"/><polygon fill=\"#383838\" points=\"71.5,160.97,75.5,151.97,71.5,155.97,67.5,151.97,71.5,160.97\" style=\"stroke: #383838; stroke-width: 1.0;\"/></a><!--MD5=[1b7591eae5389033d8d09a9d6721a717]\n",
       "link E4 to E5--><a href=\"psysml:02aceb33-1759-43f7-b21c-5882a5f834e0\" target=\"_top\" title=\"psysml:02aceb33-1759-43f7-b21c-5882a5f834e0\" xlink:actuate=\"onRequest\" xlink:href=\"psysml:02aceb33-1759-43f7-b21c-5882a5f834e0\" xlink:show=\"new\" xlink:title=\"psysml:02aceb33-1759-43f7-b21c-5882a5f834e0\" xlink:type=\"simple\"><path d=\"M100,169.05 C100,169.05 100,223.71 100,223.71 \" fill=\"none\" id=\"E4-&gt;E5\" style=\"stroke: #383838; stroke-width: 1.0;\"/><polygon fill=\"#383838\" points=\"100,228.71,104,219.71,100,223.71,96,219.71,100,228.71\" style=\"stroke: #383838; stroke-width: 1.0;\"/></a><!--MD5=[9120cf2e5df3bff93db8f754bbbc09b4]\n",
       "link E5 to E6--><a href=\"psysml:f43de8b9-7272-426a-b0aa-70e703f3a468\" target=\"_top\" title=\"psysml:f43de8b9-7272-426a-b0aa-70e703f3a468\" xlink:actuate=\"onRequest\" xlink:href=\"psysml:f43de8b9-7272-426a-b0aa-70e703f3a468\" xlink:show=\"new\" xlink:title=\"psysml:f43de8b9-7272-426a-b0aa-70e703f3a468\" xlink:type=\"simple\"><path d=\"M71.5,237.12 C71.5,237.12 71.5,291.87 71.5,291.87 \" fill=\"none\" id=\"E5-&gt;E6\" style=\"stroke: #383838; stroke-width: 1.0;\"/><polygon fill=\"#383838\" points=\"71.5,296.87,75.5,287.87,71.5,291.87,67.5,287.87,71.5,296.87\" style=\"stroke: #383838; stroke-width: 1.0;\"/></a><!--MD5=[3a9b96bfbf6b6ad89c494e81751bda47]\n",
       "link E5 to E7--><a href=\"psysml:6de5063b-eb84-4499-9c8a-3a0354e3d885\" target=\"_top\" title=\"psysml:6de5063b-eb84-4499-9c8a-3a0354e3d885\" xlink:actuate=\"onRequest\" xlink:href=\"psysml:6de5063b-eb84-4499-9c8a-3a0354e3d885\" xlink:show=\"new\" xlink:title=\"psysml:6de5063b-eb84-4499-9c8a-3a0354e3d885\" xlink:type=\"simple\"><path d=\"M129,237.12 C129,237.12 129,291.87 129,291.87 \" fill=\"none\" id=\"E5-&gt;E7\" style=\"stroke: #383838; stroke-width: 1.0;\"/><polygon fill=\"#383838\" points=\"129,296.87,133,287.87,129,291.87,125,287.87,129,296.87\" style=\"stroke: #383838; stroke-width: 1.0;\"/></a><!--MD5=[0f88c2e4fc3f4803e71966ffd1e1765f]\n",
       "@startuml\r\n",
       "skinparam linetype ortho\r\n",
       "skinparam monochrome true\r\n",
       "skinparam classbackgroundcolor white\r\n",
       "skinparam shadowing false\r\n",
       "skinparam wrapWidth 300\r\n",
       "hide circle\r\n",
       "\r\n",
       "rec def \"ControlNodeTest\" as E1  <<(T,blue)action def>> [[psysml:8a19e2dd-7f31-4291-b841-c8e7ad6ceaae ]] {\r\n",
       "rec usage \"A1\" as E2  <<(T,blue)action>> [[psysml:63691cb2-c1ae-4262-a628-287378f10d06 ]] {\r\n",
       "}\r\n",
       "\r\n",
       "rec usage \"A2\" as E3  <<(T,blue)action>> [[psysml:c6acf79a-793e-4497-aa33-887aafacc071 ]] {\r\n",
       "}\r\n",
       "\r\n",
       "join \"J\" as E4  [[psysml:9118671e-8e40-41ce-bc29-e44727581a0d ]] \r\n",
       "fork \"F\" as E5  [[psysml:3c4d5a48-0835-4406-bc0d-d635a7475922 ]] \r\n",
       "rec usage \"B1\" as E6  <<(T,blue)action>> [[psysml:2beb575e-cdbc-464e-9dd9-fc16008b4aec ]] {\r\n",
       "}\r\n",
       "\r\n",
       "rec usage \"B2\" as E7  <<(T,blue)action>> [[psysml:18cbd039-fda1-47ea-ae1e-03ddeff777e2 ]] {\r\n",
       "}\r\n",
       "\r\n",
       "}\r\n",
       "\r\n",
       "E2 - -> E4 [[psysml:32927b08-9b1f-4059-96b6-74ea858c5377 ]] \r\n",
       "E3 - -> E4 [[psysml:6834d0f3-19d8-44ac-95f5-e8bc4db68e8a ]] \r\n",
       "E4 - -> E5 [[psysml:02aceb33-1759-43f7-b21c-5882a5f834e0 ]] \r\n",
       "E5 - -> E6 [[psysml:f43de8b9-7272-426a-b0aa-70e703f3a468 ]] \r\n",
       "E5 - -> E7 [[psysml:6de5063b-eb84-4499-9c8a-3a0354e3d885 ]] \r\n",
       "@enduml\r\n",
       "\n",
       "PlantUML version 1.2020.13(Sat Jun 13 12:26:38 UTC 2020)\n",
       "(EPL source distribution)\n",
       "Java Runtime: OpenJDK Runtime Environment\n",
       "JVM: OpenJDK 64-Bit Server VM\n",
       "Default Encoding: UTF-8\n",
       "Language: en\n",
       "Country: null\n",
       "--></g></svg>"
      ]
     },
     "execution_count": 57,
     "metadata": {},
     "output_type": "execute_result"
    }
   ],
   "source": [
    "%viz --style=\"ORTHOLINE\" --view=\"MIXED\" \"ControlNodeTest\""
   ]
  }
 ],
 "metadata": {
  "kernelspec": {
   "display_name": "SysML",
   "language": "sysml",
   "name": "sysml"
  },
  "language_info": {
   "codemirror_mode": "sysml",
   "file_extension": ".sysml",
   "mimetype": "text/x-sysml",
   "name": "SysML",
   "pygments_lexer": "java",
   "version": "1.0.0"
  }
 },
 "nbformat": 4,
 "nbformat_minor": 5
}
