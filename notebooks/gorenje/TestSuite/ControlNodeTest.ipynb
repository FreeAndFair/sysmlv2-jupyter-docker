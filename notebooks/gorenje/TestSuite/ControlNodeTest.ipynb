{
 "cells": [
  {
   "cell_type": "markdown",
   "id": "ae240235",
   "metadata": {},
   "source": [
    "# SysML v2 Test Suite\n",
    "\n",
    "This can notebook can be cleared using menu `Edit --> Clear All Outputs` and then all cells can be\n",
    "run using menu `Run --> Run All Cells`.\n",
    "\n",
    "**WARNING**: This file is generated, all modifications here will be ignored.\n"
   ]
  },
  {
   "cell_type": "markdown",
   "id": "eb70161d",
   "metadata": {},
   "source": [
    "## File: ../../sysml/src/examples/Simple Tests/ControlNodeTest.sysml"
   ]
  },
  {
   "cell_type": "code",
   "execution_count": 1,
   "id": "f379f6d3",
   "metadata": {
    "execution": {
     "iopub.execute_input": "2022-02-18T10:46:07.583419Z",
     "iopub.status.busy": "2022-02-18T10:46:07.582429Z",
     "iopub.status.idle": "2022-02-18T10:46:07.796617Z",
     "shell.execute_reply": "2022-02-18T10:46:07.796083Z"
    }
   },
   "outputs": [
    {
     "data": {
      "text/plain": [
       "ActionDefinition ControlNodeTest (904eeb95-8a6f-43e8-80b5-ca5caea67e1a)\n"
      ]
     },
     "execution_count": 1,
     "metadata": {},
     "output_type": "execute_result"
    }
   ],
   "source": [
    "action def ControlNodeTest {\n",
    "\taction A1;\n",
    "\tthen J;\n",
    "\t\n",
    "\taction A2;\n",
    "\tthen J;\n",
    "\t\n",
    "\tjoin J;\n",
    "\tthen fork F;\n",
    "\tthen B1;\n",
    "\tthen B2;\n",
    "\t\t\n",
    "\taction B1;\n",
    "\taction B2;\n",
    "}"
   ]
  },
  {
   "cell_type": "code",
   "execution_count": 2,
   "id": "618af1ab",
   "metadata": {
    "execution": {
     "iopub.execute_input": "2022-02-18T10:46:07.847818Z",
     "iopub.status.busy": "2022-02-18T10:46:07.847395Z",
     "iopub.status.idle": "2022-02-18T10:46:08.294160Z",
     "shell.execute_reply": "2022-02-18T10:46:08.292416Z"
    }
   },
   "outputs": [
    {
     "data": {
      "image/svg+xml": [
       "<?xml version=\"1.0\" encoding=\"UTF-8\" standalone=\"no\"?><svg xmlns=\"http://www.w3.org/2000/svg\" xmlns:xlink=\"http://www.w3.org/1999/xlink\" contentScriptType=\"application/ecmascript\" contentStyleType=\"text/css\" height=\"367px\" preserveAspectRatio=\"none\" style=\"width:205px;height:367px;\" version=\"1.1\" viewBox=\"0 0 205 367\" width=\"205px\" zoomAndPan=\"magnify\"><defs/><g><!--MD5=[fbc87193dbaf4d95561dea2c320d4a47]\n",
       "cluster E1--><a href=\"psysml:06c83ae0-0be1-4108-9f79-6c682626264b\" target=\"_top\" title=\"psysml:06c83ae0-0be1-4108-9f79-6c682626264b\" xlink:actuate=\"onRequest\" xlink:href=\"psysml:06c83ae0-0be1-4108-9f79-6c682626264b\" xlink:show=\"new\" xlink:title=\"psysml:06c83ae0-0be1-4108-9f79-6c682626264b\" xlink:type=\"simple\"><rect fill=\"#FFFFFF\" height=\"349\" id=\"E1\" style=\"stroke: #383838; stroke-width: 1.5;\" width=\"187\" x=\"7\" y=\"7\"/><rect fill=\"#F8F8F8\" height=\"37.9375\" style=\"stroke: #383838; stroke-width: 1.5;\" width=\"187\" x=\"7\" y=\"7\"/><text fill=\"#000000\" font-family=\"sans-serif\" font-size=\"12\" font-style=\"italic\" lengthAdjust=\"spacingAndGlyphs\" textLength=\"81\" x=\"60\" y=\"23.1387\">«action  def»</text><text fill=\"#000000\" font-family=\"sans-serif\" font-size=\"12\" lengthAdjust=\"spacingAndGlyphs\" textLength=\"105\" x=\"48\" y=\"37.1074\">ControlNodeTest</text></a><rect fill=\"#000000\" height=\"8\" style=\"stroke: none; stroke-width: 1.0;\" width=\"80\" x=\"60\" y=\"161\"/><rect fill=\"#000000\" height=\"8\" style=\"stroke: none; stroke-width: 1.0;\" width=\"80\" x=\"60\" y=\"229\"/><g id=\"E1.E2\"><a href=\"psysml:b587d390-d46d-4840-bcaf-beb60201fdea\" target=\"_top\" title=\"psysml:b587d390-d46d-4840-bcaf-beb60201fdea\" xlink:actuate=\"onRequest\" xlink:href=\"psysml:b587d390-d46d-4840-bcaf-beb60201fdea\" xlink:show=\"new\" xlink:title=\"psysml:b587d390-d46d-4840-bcaf-beb60201fdea\" xlink:type=\"simple\"><rect fill=\"#FFFFFF\" height=\"42.9375\" id=\"E2\" rx=\"10\" ry=\"10\" style=\"stroke: #383838; stroke-width: 1.5;\" width=\"60\" x=\"118\" y=\"58\"/><rect fill=\"#F8F8F8\" height=\"37.9375\" rx=\"10\" ry=\"10\" style=\"stroke: #F8F8F8; stroke-width: 1.5;\" width=\"60\" x=\"118\" y=\"58\"/><rect fill=\"#F8F8F8\" height=\"10\" style=\"stroke: #F8F8F8; stroke-width: 1.5;\" width=\"60\" x=\"118\" y=\"85.9375\"/><rect fill=\"none\" height=\"42.9375\" id=\"E2\" rx=\"10\" ry=\"10\" style=\"stroke: #383838; stroke-width: 1.5;\" width=\"60\" x=\"118\" y=\"58\"/><text fill=\"#000000\" font-family=\"sans-serif\" font-size=\"12\" font-style=\"italic\" lengthAdjust=\"spacingAndGlyphs\" textLength=\"53\" x=\"121.5\" y=\"74.1387\">«action»</text><text fill=\"#000000\" font-family=\"sans-serif\" font-size=\"12\" lengthAdjust=\"spacingAndGlyphs\" textLength=\"16\" x=\"140\" y=\"88.1074\">A1</text></a></g><g id=\"E1.E3\"><a href=\"psysml:2c010bd6-de88-4dc7-8be6-3edc78c34a31\" target=\"_top\" title=\"psysml:2c010bd6-de88-4dc7-8be6-3edc78c34a31\" xlink:actuate=\"onRequest\" xlink:href=\"psysml:2c010bd6-de88-4dc7-8be6-3edc78c34a31\" xlink:show=\"new\" xlink:title=\"psysml:2c010bd6-de88-4dc7-8be6-3edc78c34a31\" xlink:type=\"simple\"><rect fill=\"#FFFFFF\" height=\"42.9375\" id=\"E3\" rx=\"10\" ry=\"10\" style=\"stroke: #383838; stroke-width: 1.5;\" width=\"60\" x=\"23\" y=\"58\"/><rect fill=\"#F8F8F8\" height=\"37.9375\" rx=\"10\" ry=\"10\" style=\"stroke: #F8F8F8; stroke-width: 1.5;\" width=\"60\" x=\"23\" y=\"58\"/><rect fill=\"#F8F8F8\" height=\"10\" style=\"stroke: #F8F8F8; stroke-width: 1.5;\" width=\"60\" x=\"23\" y=\"85.9375\"/><rect fill=\"none\" height=\"42.9375\" id=\"E3\" rx=\"10\" ry=\"10\" style=\"stroke: #383838; stroke-width: 1.5;\" width=\"60\" x=\"23\" y=\"58\"/><text fill=\"#000000\" font-family=\"sans-serif\" font-size=\"12\" font-style=\"italic\" lengthAdjust=\"spacingAndGlyphs\" textLength=\"53\" x=\"26.5\" y=\"74.1387\">«action»</text><text fill=\"#000000\" font-family=\"sans-serif\" font-size=\"12\" lengthAdjust=\"spacingAndGlyphs\" textLength=\"16\" x=\"45\" y=\"88.1074\">A2</text></a></g><g id=\"E1.E6\"><a href=\"psysml:b42821ea-70f6-43bd-9a67-84f3e511770a\" target=\"_top\" title=\"psysml:b42821ea-70f6-43bd-9a67-84f3e511770a\" xlink:actuate=\"onRequest\" xlink:href=\"psysml:b42821ea-70f6-43bd-9a67-84f3e511770a\" xlink:show=\"new\" xlink:title=\"psysml:b42821ea-70f6-43bd-9a67-84f3e511770a\" xlink:type=\"simple\"><rect fill=\"#FFFFFF\" height=\"42.9375\" id=\"E6\" rx=\"10\" ry=\"10\" style=\"stroke: #383838; stroke-width: 1.5;\" width=\"60\" x=\"23\" y=\"297\"/><rect fill=\"#F8F8F8\" height=\"37.9375\" rx=\"10\" ry=\"10\" style=\"stroke: #F8F8F8; stroke-width: 1.5;\" width=\"60\" x=\"23\" y=\"297\"/><rect fill=\"#F8F8F8\" height=\"10\" style=\"stroke: #F8F8F8; stroke-width: 1.5;\" width=\"60\" x=\"23\" y=\"324.9375\"/><rect fill=\"none\" height=\"42.9375\" id=\"E6\" rx=\"10\" ry=\"10\" style=\"stroke: #383838; stroke-width: 1.5;\" width=\"60\" x=\"23\" y=\"297\"/><text fill=\"#000000\" font-family=\"sans-serif\" font-size=\"12\" font-style=\"italic\" lengthAdjust=\"spacingAndGlyphs\" textLength=\"53\" x=\"26.5\" y=\"313.1387\">«action»</text><text fill=\"#000000\" font-family=\"sans-serif\" font-size=\"12\" lengthAdjust=\"spacingAndGlyphs\" textLength=\"16\" x=\"45\" y=\"327.1074\">B1</text></a></g><g id=\"E1.E7\"><a href=\"psysml:e950d6a4-fdbd-4650-aa0a-2ca4b4e20830\" target=\"_top\" title=\"psysml:e950d6a4-fdbd-4650-aa0a-2ca4b4e20830\" xlink:actuate=\"onRequest\" xlink:href=\"psysml:e950d6a4-fdbd-4650-aa0a-2ca4b4e20830\" xlink:show=\"new\" xlink:title=\"psysml:e950d6a4-fdbd-4650-aa0a-2ca4b4e20830\" xlink:type=\"simple\"><rect fill=\"#FFFFFF\" height=\"42.9375\" id=\"E7\" rx=\"10\" ry=\"10\" style=\"stroke: #383838; stroke-width: 1.5;\" width=\"60\" x=\"118\" y=\"297\"/><rect fill=\"#F8F8F8\" height=\"37.9375\" rx=\"10\" ry=\"10\" style=\"stroke: #F8F8F8; stroke-width: 1.5;\" width=\"60\" x=\"118\" y=\"297\"/><rect fill=\"#F8F8F8\" height=\"10\" style=\"stroke: #F8F8F8; stroke-width: 1.5;\" width=\"60\" x=\"118\" y=\"324.9375\"/><rect fill=\"none\" height=\"42.9375\" id=\"E7\" rx=\"10\" ry=\"10\" style=\"stroke: #383838; stroke-width: 1.5;\" width=\"60\" x=\"118\" y=\"297\"/><text fill=\"#000000\" font-family=\"sans-serif\" font-size=\"12\" font-style=\"italic\" lengthAdjust=\"spacingAndGlyphs\" textLength=\"53\" x=\"121.5\" y=\"313.1387\">«action»</text><text fill=\"#000000\" font-family=\"sans-serif\" font-size=\"12\" lengthAdjust=\"spacingAndGlyphs\" textLength=\"16\" x=\"140\" y=\"327.1074\">B2</text></a></g><!--MD5=[4d03bb2d0377dc85ccfab60ff574652b]\n",
       "link E2 to E4--><a href=\"psysml:4f9dc8d6-d6e0-48a2-bcc8-8318223d246b\" target=\"_top\" title=\"psysml:4f9dc8d6-d6e0-48a2-bcc8-8318223d246b\" xlink:actuate=\"onRequest\" xlink:href=\"psysml:4f9dc8d6-d6e0-48a2-bcc8-8318223d246b\" xlink:show=\"new\" xlink:title=\"psysml:4f9dc8d6-d6e0-48a2-bcc8-8318223d246b\" xlink:type=\"simple\"><path d=\"M136.13,101.14 C125.84,119.06 111.49,144.01 104.37,156.4 \" fill=\"none\" id=\"E2-&gt;E4\" style=\"stroke: #383838; stroke-width: 1.0;\"/><polygon fill=\"#383838\" points=\"101.79,160.88,109.7406,155.0673,104.2799,156.5441,102.8031,151.0834,101.79,160.88\" style=\"stroke: #383838; stroke-width: 1.0;\"/><text fill=\"#000000\" font-family=\"sans-serif\" font-size=\"13\" lengthAdjust=\"spacingAndGlyphs\" textLength=\"7\" x=\"93.6144\" y=\"150.0038\">*</text></a><!--MD5=[af87c684e3b0d8be13c1a698a818ef1e]\n",
       "link E3 to E4--><a href=\"psysml:d5a52d23-3eda-48ed-8e98-b9c24f218910\" target=\"_top\" title=\"psysml:d5a52d23-3eda-48ed-8e98-b9c24f218910\" xlink:actuate=\"onRequest\" xlink:href=\"psysml:d5a52d23-3eda-48ed-8e98-b9c24f218910\" xlink:show=\"new\" xlink:title=\"psysml:d5a52d23-3eda-48ed-8e98-b9c24f218910\" xlink:type=\"simple\"><path d=\"M64.62,101.14 C74.7,119.06 88.75,144.01 95.72,156.4 \" fill=\"none\" id=\"E3-&gt;E4\" style=\"stroke: #383838; stroke-width: 1.0;\"/><polygon fill=\"#383838\" points=\"98.25,160.88,97.3377,151.0735,95.8048,156.5187,90.3596,154.9858,98.25,160.88\" style=\"stroke: #383838; stroke-width: 1.0;\"/><text fill=\"#000000\" font-family=\"sans-serif\" font-size=\"13\" lengthAdjust=\"spacingAndGlyphs\" textLength=\"7\" x=\"99.4531\" y=\"150.0038\">*</text></a><!--MD5=[1b7591eae5389033d8d09a9d6721a717]\n",
       "link E4 to E5--><a href=\"psysml:822f1664-72e1-4116-b41f-1c0919a615e0\" target=\"_top\" title=\"psysml:822f1664-72e1-4116-b41f-1c0919a615e0\" xlink:actuate=\"onRequest\" xlink:href=\"psysml:822f1664-72e1-4116-b41f-1c0919a615e0\" xlink:show=\"new\" xlink:title=\"psysml:822f1664-72e1-4116-b41f-1c0919a615e0\" xlink:type=\"simple\"><path d=\"M100,169.18 C100,178.92 100,208.52 100,223.34 \" fill=\"none\" id=\"E4-&gt;E5\" style=\"stroke: #383838; stroke-width: 1.0;\"/><polygon fill=\"#383838\" points=\"100,228.69,104,219.69,100,223.69,96,219.69,100,228.69\" style=\"stroke: #383838; stroke-width: 1.0;\"/><text fill=\"#000000\" font-family=\"sans-serif\" font-size=\"13\" lengthAdjust=\"spacingAndGlyphs\" textLength=\"7\" x=\"90.6813\" y=\"217.9768\">*</text></a><!--MD5=[9120cf2e5df3bff93db8f754bbbc09b4]\n",
       "link E5 to E6--><a href=\"psysml:2360acce-0fc1-431a-bbc0-189c84da742a\" target=\"_top\" title=\"psysml:2360acce-0fc1-431a-bbc0-189c84da742a\" xlink:actuate=\"onRequest\" xlink:href=\"psysml:2360acce-0fc1-431a-bbc0-189c84da742a\" xlink:show=\"new\" xlink:title=\"psysml:2360acce-0fc1-431a-bbc0-189c84da742a\" xlink:type=\"simple\"><path d=\"M98.21,237.17 C93.16,246.14 78.41,272.36 67.11,292.43 \" fill=\"none\" id=\"E5-&gt;E6\" style=\"stroke: #383838; stroke-width: 1.0;\"/><polygon fill=\"#383838\" points=\"64.61,296.87,72.5151,290.9955,67.0661,292.5148,65.5467,287.0658,64.61,296.87\" style=\"stroke: #383838; stroke-width: 1.0;\"/><text fill=\"#000000\" font-family=\"sans-serif\" font-size=\"13\" lengthAdjust=\"spacingAndGlyphs\" textLength=\"7\" x=\"59.8909\" y=\"285.7715\">*</text></a><!--MD5=[3a9b96bfbf6b6ad89c494e81751bda47]\n",
       "link E5 to E7--><a href=\"psysml:ee81c625-3e17-4e8d-972a-76052e7a84e3\" target=\"_top\" title=\"psysml:ee81c625-3e17-4e8d-972a-76052e7a84e3\" xlink:actuate=\"onRequest\" xlink:href=\"psysml:ee81c625-3e17-4e8d-972a-76052e7a84e3\" xlink:show=\"new\" xlink:title=\"psysml:ee81c625-3e17-4e8d-972a-76052e7a84e3\" xlink:type=\"simple\"><path d=\"M101.82,237.17 C106.98,246.14 122.05,272.36 133.59,292.43 \" fill=\"none\" id=\"E5-&gt;E7\" style=\"stroke: #383838; stroke-width: 1.0;\"/><polygon fill=\"#383838\" points=\"136.14,296.87,135.1269,287.0734,133.6501,292.5341,128.1894,291.0573,136.14,296.87\" style=\"stroke: #383838; stroke-width: 1.0;\"/><text fill=\"#000000\" font-family=\"sans-serif\" font-size=\"13\" lengthAdjust=\"spacingAndGlyphs\" textLength=\"7\" x=\"124.82\" y=\"285.7715\">*</text></a><!--MD5=[e74b7628246a729fed5902784b0bb3fd]\n",
       "@startuml\r\n",
       " skinparam monochrome true\r\n",
       "skinparam classbackgroundcolor white\r\n",
       "skinparam shadowing false\r\n",
       "skinparam wrapWidth 300\r\n",
       "hide circle\r\n",
       "\r\n",
       "rec def \"ControlNodeTest\" as E1  <<(T,blue) action  def>> [[psysml:06c83ae0-0be1-4108-9f79-6c682626264b ]] {\r\n",
       "rec usage \"A1\" as E2  <<(T,blue) action>> [[psysml:b587d390-d46d-4840-bcaf-beb60201fdea ]] {\r\n",
       "}\r\n",
       "\r\n",
       "rec usage \"A2\" as E3  <<(T,blue) action>> [[psysml:2c010bd6-de88-4dc7-8be6-3edc78c34a31 ]] {\r\n",
       "}\r\n",
       "\r\n",
       "join \"J\" as E4  [[psysml:b80e7b99-08a2-49d6-9359-b424cf684151 ]] \r\n",
       "fork \"F\" as E5  [[psysml:df495c9b-9171-48f9-ac7d-26427115e0f4 ]] \r\n",
       "rec usage \"B1\" as E6  <<(T,blue) action>> [[psysml:b42821ea-70f6-43bd-9a67-84f3e511770a ]] {\r\n",
       "}\r\n",
       "\r\n",
       "rec usage \"B2\" as E7  <<(T,blue) action>> [[psysml:e950d6a4-fdbd-4650-aa0a-2ca4b4e20830 ]] {\r\n",
       "}\r\n",
       "\r\n",
       "}\r\n",
       "\r\n",
       "E2 - -> \"*\"E4 [[psysml:4f9dc8d6-d6e0-48a2-bcc8-8318223d246b ]] \r\n",
       "E3 - -> \"*\"E4 [[psysml:d5a52d23-3eda-48ed-8e98-b9c24f218910 ]] \r\n",
       "E4 - -> \"*\"E5 [[psysml:822f1664-72e1-4116-b41f-1c0919a615e0 ]] \r\n",
       "E5 - -> \"*\"E6 [[psysml:2360acce-0fc1-431a-bbc0-189c84da742a ]] \r\n",
       "E5 - -> \"*\"E7 [[psysml:ee81c625-3e17-4e8d-972a-76052e7a84e3 ]] \r\n",
       "@enduml\r\n",
       "\n",
       "PlantUML version 1.2020.13(Sat Jun 13 12:26:38 UTC 2020)\n",
       "(EPL source distribution)\n",
       "Java Runtime: OpenJDK Runtime Environment\n",
       "JVM: OpenJDK 64-Bit Server VM\n",
       "Default Encoding: UTF-8\n",
       "Language: en\n",
       "Country: null\n",
       "--></g></svg>"
      ]
     },
     "execution_count": 2,
     "metadata": {},
     "output_type": "execute_result"
    }
   ],
   "source": [
    "%viz --style=\"COMPTREE\" --view=\"Default\" \"ControlNodeTest\""
   ]
  },
  {
   "cell_type": "code",
   "execution_count": 3,
   "id": "eb0ec04e",
   "metadata": {
    "execution": {
     "iopub.execute_input": "2022-02-18T10:46:08.343492Z",
     "iopub.status.busy": "2022-02-18T10:46:08.343036Z",
     "iopub.status.idle": "2022-02-18T10:46:08.505304Z",
     "shell.execute_reply": "2022-02-18T10:46:08.504929Z"
    }
   },
   "outputs": [
    {
     "data": {
      "image/svg+xml": [
       "<?xml version=\"1.0\" encoding=\"UTF-8\" standalone=\"no\"?><svg xmlns=\"http://www.w3.org/2000/svg\" xmlns:xlink=\"http://www.w3.org/1999/xlink\" contentScriptType=\"application/ecmascript\" contentStyleType=\"text/css\" height=\"250px\" preserveAspectRatio=\"none\" style=\"width:564px;height:250px;\" version=\"1.1\" viewBox=\"0 0 564 250\" width=\"564px\" zoomAndPan=\"magnify\"><defs/><g><!--MD5=[43c9051892ef23e1a46a86907403d788]\n",
       "class E1--><a href=\"psysml:06c83ae0-0be1-4108-9f79-6c682626264b\" target=\"_top\" title=\"psysml:06c83ae0-0be1-4108-9f79-6c682626264b\" xlink:actuate=\"onRequest\" xlink:href=\"psysml:06c83ae0-0be1-4108-9f79-6c682626264b\" xlink:show=\"new\" xlink:title=\"psysml:06c83ae0-0be1-4108-9f79-6c682626264b\" xlink:type=\"simple\"><rect fill=\"#FFFFFF\" height=\"126.7656\" id=\"E1\" style=\"stroke: #383838; stroke-width: 1.5;\" width=\"111\" x=\"224\" y=\"7\"/><text fill=\"#000000\" font-family=\"sans-serif\" font-size=\"12\" font-style=\"italic\" lengthAdjust=\"spacingAndGlyphs\" textLength=\"81\" x=\"239\" y=\"23.1387\">«action  def»</text><text fill=\"#000000\" font-family=\"sans-serif\" font-size=\"12\" lengthAdjust=\"spacingAndGlyphs\" textLength=\"105\" x=\"227\" y=\"37.1074\">ControlNodeTest</text><line style=\"stroke: #383838; stroke-width: 1.5;\" x1=\"225\" x2=\"334\" y1=\"44.9375\" y2=\"44.9375\"/><text fill=\"#000000\" font-family=\"sans-serif\" font-size=\"11\" lengthAdjust=\"spacingAndGlyphs\" textLength=\"36\" x=\"230\" y=\"75.9526\">then  J</text><text fill=\"#000000\" font-family=\"sans-serif\" font-size=\"11\" lengthAdjust=\"spacingAndGlyphs\" textLength=\"36\" x=\"230\" y=\"88.7573\">then  J</text><text fill=\"#000000\" font-family=\"sans-serif\" font-size=\"11\" lengthAdjust=\"spacingAndGlyphs\" textLength=\"25\" x=\"230\" y=\"101.562\">then</text><text fill=\"#000000\" font-family=\"sans-serif\" font-size=\"11\" lengthAdjust=\"spacingAndGlyphs\" textLength=\"48\" x=\"230\" y=\"114.3667\">then  B1</text><text fill=\"#000000\" font-family=\"sans-serif\" font-size=\"11\" lengthAdjust=\"spacingAndGlyphs\" textLength=\"48\" x=\"230\" y=\"127.1714\">then  B2</text><line style=\"stroke: #383838; stroke-width: 1.0;\" x1=\"225\" x2=\"244\" y1=\"59.3398\" y2=\"59.3398\"/><text fill=\"#000000\" font-family=\"sans-serif\" font-size=\"11\" lengthAdjust=\"spacingAndGlyphs\" textLength=\"71\" x=\"244\" y=\"62.6479\">successions</text><line style=\"stroke: #383838; stroke-width: 1.0;\" x1=\"315\" x2=\"334\" y1=\"59.3398\" y2=\"59.3398\"/></a><!--MD5=[b4997ac47864f28c2f74865a473b2911]\n",
       "class E2--><a href=\"psysml:b587d390-d46d-4840-bcaf-beb60201fdea\" target=\"_top\" title=\"psysml:b587d390-d46d-4840-bcaf-beb60201fdea\" xlink:actuate=\"onRequest\" xlink:href=\"psysml:b587d390-d46d-4840-bcaf-beb60201fdea\" xlink:show=\"new\" xlink:title=\"psysml:b587d390-d46d-4840-bcaf-beb60201fdea\" xlink:type=\"simple\"><rect fill=\"#FFFFFF\" height=\"45.9375\" id=\"E2\" rx=\"10\" ry=\"10\" style=\"stroke: #383838; stroke-width: 1.5;\" width=\"55\" x=\"7\" y=\"194\"/><text fill=\"#000000\" font-family=\"sans-serif\" font-size=\"12\" font-style=\"italic\" lengthAdjust=\"spacingAndGlyphs\" textLength=\"53\" x=\"8\" y=\"210.1387\">«action»</text><text fill=\"#000000\" font-family=\"sans-serif\" font-size=\"12\" lengthAdjust=\"spacingAndGlyphs\" textLength=\"16\" x=\"24.5\" y=\"224.1074\">A1</text><line style=\"stroke: #383838; stroke-width: 1.5;\" x1=\"8\" x2=\"61\" y1=\"231.9375\" y2=\"231.9375\"/></a><!--MD5=[09b614a08d8cba4a07c9adeb5e0fee81]\n",
       "class E3--><a href=\"psysml:2c010bd6-de88-4dc7-8be6-3edc78c34a31\" target=\"_top\" title=\"psysml:2c010bd6-de88-4dc7-8be6-3edc78c34a31\" xlink:actuate=\"onRequest\" xlink:href=\"psysml:2c010bd6-de88-4dc7-8be6-3edc78c34a31\" xlink:show=\"new\" xlink:title=\"psysml:2c010bd6-de88-4dc7-8be6-3edc78c34a31\" xlink:type=\"simple\"><rect fill=\"#FFFFFF\" height=\"45.9375\" id=\"E3\" rx=\"10\" ry=\"10\" style=\"stroke: #383838; stroke-width: 1.5;\" width=\"55\" x=\"97\" y=\"194\"/><text fill=\"#000000\" font-family=\"sans-serif\" font-size=\"12\" font-style=\"italic\" lengthAdjust=\"spacingAndGlyphs\" textLength=\"53\" x=\"98\" y=\"210.1387\">«action»</text><text fill=\"#000000\" font-family=\"sans-serif\" font-size=\"12\" lengthAdjust=\"spacingAndGlyphs\" textLength=\"16\" x=\"114.5\" y=\"224.1074\">A2</text><line style=\"stroke: #383838; stroke-width: 1.5;\" x1=\"98\" x2=\"151\" y1=\"231.9375\" y2=\"231.9375\"/></a><!--MD5=[ebbe1d658d1005bcc118a6aa81145e00]\n",
       "class E4--><a href=\"psysml:b80e7b99-08a2-49d6-9359-b424cf684151\" target=\"_top\" title=\"psysml:b80e7b99-08a2-49d6-9359-b424cf684151\" xlink:actuate=\"onRequest\" xlink:href=\"psysml:b80e7b99-08a2-49d6-9359-b424cf684151\" xlink:show=\"new\" xlink:title=\"psysml:b80e7b99-08a2-49d6-9359-b424cf684151\" xlink:type=\"simple\"><rect fill=\"#FFFFFF\" height=\"45.9375\" id=\"E4\" rx=\"10\" ry=\"10\" style=\"stroke: #383838; stroke-width: 1.5;\" width=\"74\" x=\"187.5\" y=\"194\"/><text fill=\"#000000\" font-family=\"sans-serif\" font-size=\"12\" font-style=\"italic\" lengthAdjust=\"spacingAndGlyphs\" textLength=\"72\" x=\"188.5\" y=\"210.1387\">«join node»</text><text fill=\"#000000\" font-family=\"sans-serif\" font-size=\"12\" lengthAdjust=\"spacingAndGlyphs\" textLength=\"3\" x=\"221\" y=\"224.1074\">J</text><line style=\"stroke: #383838; stroke-width: 1.5;\" x1=\"188.5\" x2=\"260.5\" y1=\"231.9375\" y2=\"231.9375\"/></a><!--MD5=[270fce915f116d4de14055a7c1d9a0f3]\n",
       "class E5--><a href=\"psysml:df495c9b-9171-48f9-ac7d-26427115e0f4\" target=\"_top\" title=\"psysml:df495c9b-9171-48f9-ac7d-26427115e0f4\" xlink:actuate=\"onRequest\" xlink:href=\"psysml:df495c9b-9171-48f9-ac7d-26427115e0f4\" xlink:show=\"new\" xlink:title=\"psysml:df495c9b-9171-48f9-ac7d-26427115e0f4\" xlink:type=\"simple\"><rect fill=\"#FFFFFF\" height=\"45.9375\" id=\"E5\" rx=\"10\" ry=\"10\" style=\"stroke: #383838; stroke-width: 1.5;\" width=\"76\" x=\"296.5\" y=\"194\"/><text fill=\"#000000\" font-family=\"sans-serif\" font-size=\"12\" font-style=\"italic\" lengthAdjust=\"spacingAndGlyphs\" textLength=\"74\" x=\"297.5\" y=\"210.1387\">«fork node»</text><text fill=\"#000000\" font-family=\"sans-serif\" font-size=\"12\" lengthAdjust=\"spacingAndGlyphs\" textLength=\"7\" x=\"329\" y=\"224.1074\">F</text><line style=\"stroke: #383838; stroke-width: 1.5;\" x1=\"297.5\" x2=\"371.5\" y1=\"231.9375\" y2=\"231.9375\"/></a><!--MD5=[60a26617385b1d2d0262a64233df1f8d]\n",
       "class E6--><a href=\"psysml:b42821ea-70f6-43bd-9a67-84f3e511770a\" target=\"_top\" title=\"psysml:b42821ea-70f6-43bd-9a67-84f3e511770a\" xlink:actuate=\"onRequest\" xlink:href=\"psysml:b42821ea-70f6-43bd-9a67-84f3e511770a\" xlink:show=\"new\" xlink:title=\"psysml:b42821ea-70f6-43bd-9a67-84f3e511770a\" xlink:type=\"simple\"><rect fill=\"#FFFFFF\" height=\"45.9375\" id=\"E6\" rx=\"10\" ry=\"10\" style=\"stroke: #383838; stroke-width: 1.5;\" width=\"55\" x=\"408\" y=\"194\"/><text fill=\"#000000\" font-family=\"sans-serif\" font-size=\"12\" font-style=\"italic\" lengthAdjust=\"spacingAndGlyphs\" textLength=\"53\" x=\"409\" y=\"210.1387\">«action»</text><text fill=\"#000000\" font-family=\"sans-serif\" font-size=\"12\" lengthAdjust=\"spacingAndGlyphs\" textLength=\"16\" x=\"425.5\" y=\"224.1074\">B1</text><line style=\"stroke: #383838; stroke-width: 1.5;\" x1=\"409\" x2=\"462\" y1=\"231.9375\" y2=\"231.9375\"/></a><!--MD5=[2156ba9850f5573cc1fc38a6a4b2f02b]\n",
       "class E7--><a href=\"psysml:e950d6a4-fdbd-4650-aa0a-2ca4b4e20830\" target=\"_top\" title=\"psysml:e950d6a4-fdbd-4650-aa0a-2ca4b4e20830\" xlink:actuate=\"onRequest\" xlink:href=\"psysml:e950d6a4-fdbd-4650-aa0a-2ca4b4e20830\" xlink:show=\"new\" xlink:title=\"psysml:e950d6a4-fdbd-4650-aa0a-2ca4b4e20830\" xlink:type=\"simple\"><rect fill=\"#FFFFFF\" height=\"45.9375\" id=\"E7\" rx=\"10\" ry=\"10\" style=\"stroke: #383838; stroke-width: 1.5;\" width=\"55\" x=\"498\" y=\"194\"/><text fill=\"#000000\" font-family=\"sans-serif\" font-size=\"12\" font-style=\"italic\" lengthAdjust=\"spacingAndGlyphs\" textLength=\"53\" x=\"499\" y=\"210.1387\">«action»</text><text fill=\"#000000\" font-family=\"sans-serif\" font-size=\"12\" lengthAdjust=\"spacingAndGlyphs\" textLength=\"16\" x=\"515.5\" y=\"224.1074\">B2</text><line style=\"stroke: #383838; stroke-width: 1.5;\" x1=\"499\" x2=\"552\" y1=\"231.9375\" y2=\"231.9375\"/></a><!--MD5=[a523cb2a0b79ecf9065ad8783f96c320]\n",
       "reverse link E1 to E2--><a href=\"psysml:8824560d-0356-45ea-8a7b-06baadbc63a3\" target=\"_top\" title=\"psysml:8824560d-0356-45ea-8a7b-06baadbc63a3\" xlink:actuate=\"onRequest\" xlink:href=\"psysml:8824560d-0356-45ea-8a7b-06baadbc63a3\" xlink:show=\"new\" xlink:title=\"psysml:8824560d-0356-45ea-8a7b-06baadbc63a3\" xlink:type=\"simple\"><path d=\"M212.66,110.92 C163.24,140.07 98.48,178.27 62.21,199.66 \" fill=\"none\" id=\"E1&lt;-E2\" style=\"stroke: #383838; stroke-width: 1.0;\"/><polygon fill=\"#383838\" points=\"223.91,104.29,216.71,103.89,213.5715,110.3823,220.7715,110.7823,223.91,104.29\" style=\"stroke: #383838; stroke-width: 1.0;\"/><text fill=\"#000000\" font-family=\"sans-serif\" font-size=\"13\" lengthAdjust=\"spacingAndGlyphs\" textLength=\"7\" x=\"69.8174\" y=\"190.6959\">*</text></a><!--MD5=[5d7b3810b1dd9b5164bea1151b29b665]\n",
       "reverse link E1 to E3--><a href=\"psysml:cbbe4b3e-f7e7-45b7-a67a-c33698d06c9d\" target=\"_top\" title=\"psysml:cbbe4b3e-f7e7-45b7-a67a-c33698d06c9d\" xlink:actuate=\"onRequest\" xlink:href=\"psysml:cbbe4b3e-f7e7-45b7-a67a-c33698d06c9d\" xlink:show=\"new\" xlink:title=\"psysml:cbbe4b3e-f7e7-45b7-a67a-c33698d06c9d\" xlink:type=\"simple\"><path d=\"M214.38,132.21 C190.87,154.12 165.81,177.49 148.14,193.96 \" fill=\"none\" id=\"E1&lt;-E3\" style=\"stroke: #383838; stroke-width: 1.0;\"/><polygon fill=\"#383838\" points=\"223.98,123.26,216.8638,124.4259,215.2029,131.4431,222.3192,130.2772,223.98,123.26\" style=\"stroke: #383838; stroke-width: 1.0;\"/><text fill=\"#000000\" font-family=\"sans-serif\" font-size=\"13\" lengthAdjust=\"spacingAndGlyphs\" textLength=\"7\" x=\"146.5526\" y=\"182.8455\">*</text></a><!--MD5=[f2c5c03aa1e8c0ba21c10a05e6444b8e]\n",
       "reverse link E1 to E4--><a href=\"psysml:8b2189df-ceef-42f5-8cc2-eeb8d6451d98\" target=\"_top\" title=\"psysml:8b2189df-ceef-42f5-8cc2-eeb8d6451d98\" xlink:actuate=\"onRequest\" xlink:href=\"psysml:8b2189df-ceef-42f5-8cc2-eeb8d6451d98\" xlink:show=\"new\" xlink:title=\"psysml:8b2189df-ceef-42f5-8cc2-eeb8d6451d98\" xlink:type=\"simple\"><path d=\"M251,146.38 C244.38,163.78 237.83,180.97 232.9,193.92 \" fill=\"none\" id=\"E1&lt;-E4\" style=\"stroke: #383838; stroke-width: 1.0;\"/><polygon fill=\"#383838\" points=\"255.7,134.04,249.8253,138.2218,251.4259,145.253,257.3006,141.0712,255.7,134.04\" style=\"stroke: #383838; stroke-width: 1.0;\"/></a><!--MD5=[33238bef88d6431a141d8bc8fb12bca0]\n",
       "reverse link E1 to E5--><a href=\"psysml:a82a5eef-dea6-4124-abec-2b50c8cafb15\" target=\"_top\" title=\"psysml:a82a5eef-dea6-4124-abec-2b50c8cafb15\" xlink:actuate=\"onRequest\" xlink:href=\"psysml:a82a5eef-dea6-4124-abec-2b50c8cafb15\" xlink:show=\"new\" xlink:title=\"psysml:a82a5eef-dea6-4124-abec-2b50c8cafb15\" xlink:type=\"simple\"><path d=\"M308,146.38 C314.62,163.78 321.17,180.97 326.1,193.92 \" fill=\"none\" id=\"E1&lt;-E5\" style=\"stroke: #383838; stroke-width: 1.0;\"/><polygon fill=\"#383838\" points=\"303.3,134.04,301.6994,141.0712,307.5741,145.253,309.1747,138.2218,303.3,134.04\" style=\"stroke: #383838; stroke-width: 1.0;\"/></a><!--MD5=[aca2ef284c2b1b90e17e73bf3f292c07]\n",
       "reverse link E1 to E6--><a href=\"psysml:fa0fa50c-58e4-4afc-aadf-ea60f0cb1460\" target=\"_top\" title=\"psysml:fa0fa50c-58e4-4afc-aadf-ea60f0cb1460\" xlink:actuate=\"onRequest\" xlink:href=\"psysml:fa0fa50c-58e4-4afc-aadf-ea60f0cb1460\" xlink:show=\"new\" xlink:title=\"psysml:fa0fa50c-58e4-4afc-aadf-ea60f0cb1460\" xlink:type=\"simple\"><path d=\"M345.04,132.21 C368.7,154.12 393.92,177.49 411.71,193.96 \" fill=\"none\" id=\"E1&lt;-E6\" style=\"stroke: #383838; stroke-width: 1.0;\"/><polygon fill=\"#383838\" points=\"335.38,123.26,337.057,130.2734,344.1759,131.4229,342.4989,124.4095,335.38,123.26\" style=\"stroke: #383838; stroke-width: 1.0;\"/><text fill=\"#000000\" font-family=\"sans-serif\" font-size=\"13\" lengthAdjust=\"spacingAndGlyphs\" textLength=\"7\" x=\"397.3758\" y=\"182.8455\">*</text></a><!--MD5=[fc9706a6b2cf8c0e423679d303750d3f]\n",
       "reverse link E1 to E7--><a href=\"psysml:49466f58-4643-4906-96c1-3a5676eba647\" target=\"_top\" title=\"psysml:49466f58-4643-4906-96c1-3a5676eba647\" xlink:actuate=\"onRequest\" xlink:href=\"psysml:49466f58-4643-4906-96c1-3a5676eba647\" xlink:show=\"new\" xlink:title=\"psysml:49466f58-4643-4906-96c1-3a5676eba647\" xlink:type=\"simple\"><path d=\"M346.34,110.76 C396.11,140 461.5,178.41 497.94,199.81 \" fill=\"none\" id=\"E1&lt;-E7\" style=\"stroke: #383838; stroke-width: 1.0;\"/><polygon fill=\"#383838\" points=\"335.01,104.11,338.1582,110.5976,345.3576,110.1868,342.2094,103.6992,335.01,104.11\" style=\"stroke: #383838; stroke-width: 1.0;\"/><text fill=\"#000000\" font-family=\"sans-serif\" font-size=\"13\" lengthAdjust=\"spacingAndGlyphs\" textLength=\"7\" x=\"482.9809\" y=\"190.5751\">*</text></a><!--MD5=[d9a4767bf6b88c57bf95870c0b6062cc]\n",
       "@startuml\r\n",
       " skinparam monochrome true\r\n",
       "skinparam classbackgroundcolor white\r\n",
       "skinparam shadowing false\r\n",
       "skinparam wrapWidth 300\r\n",
       "hide circle\r\n",
       "\r\n",
       "comp def \"ControlNodeTest\" as E1  <<(T,blue) action  def>> [[psysml:06c83ae0-0be1-4108-9f79-6c682626264b ]] {\r\n",
       "- - successions - -\r\n",
       " then  J\r\n",
       " then  J\r\n",
       " then \r\n",
       " then  B1\r\n",
       " then  B2\r\n",
       "}\r\n",
       "comp usage \"A1 \" as E2  <<(T,blue) action>> [[psysml:b587d390-d46d-4840-bcaf-beb60201fdea ]] {\r\n",
       "}\r\n",
       "comp usage \"A2 \" as E3  <<(T,blue) action>> [[psysml:2c010bd6-de88-4dc7-8be6-3edc78c34a31 ]] {\r\n",
       "}\r\n",
       "comp usage \"J \" as E4  <<(T,blue) join node>> [[psysml:b80e7b99-08a2-49d6-9359-b424cf684151 ]] {\r\n",
       "}\r\n",
       "comp usage \"F \" as E5  <<(T,blue) fork node>> [[psysml:df495c9b-9171-48f9-ac7d-26427115e0f4 ]] {\r\n",
       "}\r\n",
       "comp usage \"B1 \" as E6  <<(T,blue) action>> [[psysml:b42821ea-70f6-43bd-9a67-84f3e511770a ]] {\r\n",
       "}\r\n",
       "comp usage \"B2 \" as E7  <<(T,blue) action>> [[psysml:e950d6a4-fdbd-4650-aa0a-2ca4b4e20830 ]] {\r\n",
       "}\r\n",
       "E1 *- - \"*\"E2 [[psysml:8824560d-0356-45ea-8a7b-06baadbc63a3 ]] \r\n",
       "E1 *- - \"*\"E3 [[psysml:cbbe4b3e-f7e7-45b7-a67a-c33698d06c9d ]] \r\n",
       "E1 *- - E4 [[psysml:8b2189df-ceef-42f5-8cc2-eeb8d6451d98 ]] \r\n",
       "E1 *- - E5 [[psysml:a82a5eef-dea6-4124-abec-2b50c8cafb15 ]] \r\n",
       "E1 *- - \"*\"E6 [[psysml:fa0fa50c-58e4-4afc-aadf-ea60f0cb1460 ]] \r\n",
       "E1 *- - \"*\"E7 [[psysml:49466f58-4643-4906-96c1-3a5676eba647 ]] \r\n",
       "@enduml\r\n",
       "\n",
       "PlantUML version 1.2020.13(Sat Jun 13 12:26:38 UTC 2020)\n",
       "(EPL source distribution)\n",
       "Java Runtime: OpenJDK Runtime Environment\n",
       "JVM: OpenJDK 64-Bit Server VM\n",
       "Default Encoding: UTF-8\n",
       "Language: en\n",
       "Country: null\n",
       "--></g></svg>"
      ]
     },
     "execution_count": 3,
     "metadata": {},
     "output_type": "execute_result"
    }
   ],
   "source": [
    "%viz --style=\"COMPTREE\" --view=\"Tree\" \"ControlNodeTest\""
   ]
  },
  {
   "cell_type": "code",
   "execution_count": 4,
   "id": "5802bc16",
   "metadata": {
    "execution": {
     "iopub.execute_input": "2022-02-18T10:46:08.554979Z",
     "iopub.status.busy": "2022-02-18T10:46:08.554344Z",
     "iopub.status.idle": "2022-02-18T10:46:08.560297Z",
     "shell.execute_reply": "2022-02-18T10:46:08.559861Z"
    }
   },
   "outputs": [
    {
     "data": {
      "image/svg+xml": [
       "<?xml version=\"1.0\" encoding=\"UTF-8\" standalone=\"no\"?><svg xmlns=\"http://www.w3.org/2000/svg\" xmlns:xlink=\"http://www.w3.org/1999/xlink\" contentScriptType=\"application/ecmascript\" contentStyleType=\"text/css\" height=\"12px\" preserveAspectRatio=\"none\" style=\"width:12px;height:12px;\" version=\"1.1\" viewBox=\"0 0 12 12\" width=\"12px\" zoomAndPan=\"magnify\"><defs/><g><!--MD5=[f19188ef49e11757b5c46753f95d9edc]\n",
       "@startuml\r\n",
       " skinparam monochrome true\r\n",
       "skinparam classbackgroundcolor white\r\n",
       "skinparam shadowing false\r\n",
       "skinparam wrapWidth 300\r\n",
       "hide circle\r\n",
       "\r\n",
       "@enduml\r\n",
       "\n",
       "PlantUML version 1.2020.13(Sat Jun 13 12:26:38 UTC 2020)\n",
       "(EPL source distribution)\n",
       "Java Runtime: OpenJDK Runtime Environment\n",
       "JVM: OpenJDK 64-Bit Server VM\n",
       "Default Encoding: UTF-8\n",
       "Language: en\n",
       "Country: null\n",
       "--></g></svg>"
      ]
     },
     "execution_count": 4,
     "metadata": {},
     "output_type": "execute_result"
    }
   ],
   "source": [
    "%viz --style=\"COMPTREE\" --view=\"State\" \"ControlNodeTest\""
   ]
  },
  {
   "cell_type": "code",
   "execution_count": 5,
   "id": "85171fc6",
   "metadata": {
    "execution": {
     "iopub.execute_input": "2022-02-18T10:46:08.610388Z",
     "iopub.status.busy": "2022-02-18T10:46:08.609835Z",
     "iopub.status.idle": "2022-02-18T10:46:08.672878Z",
     "shell.execute_reply": "2022-02-18T10:46:08.673238Z"
    }
   },
   "outputs": [
    {
     "data": {
      "image/svg+xml": [
       "<?xml version=\"1.0\" encoding=\"UTF-8\" standalone=\"no\"?><svg xmlns=\"http://www.w3.org/2000/svg\" xmlns:xlink=\"http://www.w3.org/1999/xlink\" contentScriptType=\"application/ecmascript\" contentStyleType=\"text/css\" height=\"217px\" preserveAspectRatio=\"none\" style=\"width:205px;height:217px;\" version=\"1.1\" viewBox=\"0 0 205 217\" width=\"205px\" zoomAndPan=\"magnify\"><defs/><g><!--MD5=[fbc87193dbaf4d95561dea2c320d4a47]\n",
       "cluster E1--><a href=\"psysml:06c83ae0-0be1-4108-9f79-6c682626264b\" target=\"_top\" title=\"psysml:06c83ae0-0be1-4108-9f79-6c682626264b\" xlink:actuate=\"onRequest\" xlink:href=\"psysml:06c83ae0-0be1-4108-9f79-6c682626264b\" xlink:show=\"new\" xlink:title=\"psysml:06c83ae0-0be1-4108-9f79-6c682626264b\" xlink:type=\"simple\"><rect fill=\"#FFFFFF\" height=\"199\" id=\"E1\" style=\"stroke: #383838; stroke-width: 1.5;\" width=\"187\" x=\"7\" y=\"7\"/><rect fill=\"#F8F8F8\" height=\"37.9375\" style=\"stroke: #383838; stroke-width: 1.5;\" width=\"187\" x=\"7\" y=\"7\"/><text fill=\"#000000\" font-family=\"sans-serif\" font-size=\"12\" font-style=\"italic\" lengthAdjust=\"spacingAndGlyphs\" textLength=\"81\" x=\"60\" y=\"23.1387\">«action  def»</text><text fill=\"#000000\" font-family=\"sans-serif\" font-size=\"12\" lengthAdjust=\"spacingAndGlyphs\" textLength=\"105\" x=\"48\" y=\"37.1074\">ControlNodeTest</text></a><rect fill=\"#000000\" height=\"8\" style=\"stroke: none; stroke-width: 1.0;\" width=\"80\" x=\"60\" y=\"111\"/><rect fill=\"#000000\" height=\"8\" style=\"stroke: none; stroke-width: 1.0;\" width=\"80\" x=\"60\" y=\"129\"/><g id=\"E1.E2\"><a href=\"psysml:b587d390-d46d-4840-bcaf-beb60201fdea\" target=\"_top\" title=\"psysml:b587d390-d46d-4840-bcaf-beb60201fdea\" xlink:actuate=\"onRequest\" xlink:href=\"psysml:b587d390-d46d-4840-bcaf-beb60201fdea\" xlink:show=\"new\" xlink:title=\"psysml:b587d390-d46d-4840-bcaf-beb60201fdea\" xlink:type=\"simple\"><rect fill=\"#FFFFFF\" height=\"42.9375\" id=\"E2\" rx=\"10\" ry=\"10\" style=\"stroke: #383838; stroke-width: 1.5;\" width=\"60\" x=\"118\" y=\"58\"/><rect fill=\"#F8F8F8\" height=\"37.9375\" rx=\"10\" ry=\"10\" style=\"stroke: #F8F8F8; stroke-width: 1.5;\" width=\"60\" x=\"118\" y=\"58\"/><rect fill=\"#F8F8F8\" height=\"10\" style=\"stroke: #F8F8F8; stroke-width: 1.5;\" width=\"60\" x=\"118\" y=\"85.9375\"/><rect fill=\"none\" height=\"42.9375\" id=\"E2\" rx=\"10\" ry=\"10\" style=\"stroke: #383838; stroke-width: 1.5;\" width=\"60\" x=\"118\" y=\"58\"/><text fill=\"#000000\" font-family=\"sans-serif\" font-size=\"12\" font-style=\"italic\" lengthAdjust=\"spacingAndGlyphs\" textLength=\"53\" x=\"121.5\" y=\"74.1387\">«action»</text><text fill=\"#000000\" font-family=\"sans-serif\" font-size=\"12\" lengthAdjust=\"spacingAndGlyphs\" textLength=\"16\" x=\"140\" y=\"88.1074\">A1</text></a></g><g id=\"E1.E3\"><a href=\"psysml:2c010bd6-de88-4dc7-8be6-3edc78c34a31\" target=\"_top\" title=\"psysml:2c010bd6-de88-4dc7-8be6-3edc78c34a31\" xlink:actuate=\"onRequest\" xlink:href=\"psysml:2c010bd6-de88-4dc7-8be6-3edc78c34a31\" xlink:show=\"new\" xlink:title=\"psysml:2c010bd6-de88-4dc7-8be6-3edc78c34a31\" xlink:type=\"simple\"><rect fill=\"#FFFFFF\" height=\"42.9375\" id=\"E3\" rx=\"10\" ry=\"10\" style=\"stroke: #383838; stroke-width: 1.5;\" width=\"60\" x=\"23\" y=\"58\"/><rect fill=\"#F8F8F8\" height=\"37.9375\" rx=\"10\" ry=\"10\" style=\"stroke: #F8F8F8; stroke-width: 1.5;\" width=\"60\" x=\"23\" y=\"58\"/><rect fill=\"#F8F8F8\" height=\"10\" style=\"stroke: #F8F8F8; stroke-width: 1.5;\" width=\"60\" x=\"23\" y=\"85.9375\"/><rect fill=\"none\" height=\"42.9375\" id=\"E3\" rx=\"10\" ry=\"10\" style=\"stroke: #383838; stroke-width: 1.5;\" width=\"60\" x=\"23\" y=\"58\"/><text fill=\"#000000\" font-family=\"sans-serif\" font-size=\"12\" font-style=\"italic\" lengthAdjust=\"spacingAndGlyphs\" textLength=\"53\" x=\"26.5\" y=\"74.1387\">«action»</text><text fill=\"#000000\" font-family=\"sans-serif\" font-size=\"12\" lengthAdjust=\"spacingAndGlyphs\" textLength=\"16\" x=\"45\" y=\"88.1074\">A2</text></a></g><g id=\"E1.E6\"><a href=\"psysml:b42821ea-70f6-43bd-9a67-84f3e511770a\" target=\"_top\" title=\"psysml:b42821ea-70f6-43bd-9a67-84f3e511770a\" xlink:actuate=\"onRequest\" xlink:href=\"psysml:b42821ea-70f6-43bd-9a67-84f3e511770a\" xlink:show=\"new\" xlink:title=\"psysml:b42821ea-70f6-43bd-9a67-84f3e511770a\" xlink:type=\"simple\"><rect fill=\"#FFFFFF\" height=\"42.9375\" id=\"E6\" rx=\"10\" ry=\"10\" style=\"stroke: #383838; stroke-width: 1.5;\" width=\"60\" x=\"23\" y=\"147\"/><rect fill=\"#F8F8F8\" height=\"37.9375\" rx=\"10\" ry=\"10\" style=\"stroke: #F8F8F8; stroke-width: 1.5;\" width=\"60\" x=\"23\" y=\"147\"/><rect fill=\"#F8F8F8\" height=\"10\" style=\"stroke: #F8F8F8; stroke-width: 1.5;\" width=\"60\" x=\"23\" y=\"174.9375\"/><rect fill=\"none\" height=\"42.9375\" id=\"E6\" rx=\"10\" ry=\"10\" style=\"stroke: #383838; stroke-width: 1.5;\" width=\"60\" x=\"23\" y=\"147\"/><text fill=\"#000000\" font-family=\"sans-serif\" font-size=\"12\" font-style=\"italic\" lengthAdjust=\"spacingAndGlyphs\" textLength=\"53\" x=\"26.5\" y=\"163.1387\">«action»</text><text fill=\"#000000\" font-family=\"sans-serif\" font-size=\"12\" lengthAdjust=\"spacingAndGlyphs\" textLength=\"16\" x=\"45\" y=\"177.1074\">B1</text></a></g><g id=\"E1.E7\"><a href=\"psysml:e950d6a4-fdbd-4650-aa0a-2ca4b4e20830\" target=\"_top\" title=\"psysml:e950d6a4-fdbd-4650-aa0a-2ca4b4e20830\" xlink:actuate=\"onRequest\" xlink:href=\"psysml:e950d6a4-fdbd-4650-aa0a-2ca4b4e20830\" xlink:show=\"new\" xlink:title=\"psysml:e950d6a4-fdbd-4650-aa0a-2ca4b4e20830\" xlink:type=\"simple\"><rect fill=\"#FFFFFF\" height=\"42.9375\" id=\"E7\" rx=\"10\" ry=\"10\" style=\"stroke: #383838; stroke-width: 1.5;\" width=\"60\" x=\"118\" y=\"147\"/><rect fill=\"#F8F8F8\" height=\"37.9375\" rx=\"10\" ry=\"10\" style=\"stroke: #F8F8F8; stroke-width: 1.5;\" width=\"60\" x=\"118\" y=\"147\"/><rect fill=\"#F8F8F8\" height=\"10\" style=\"stroke: #F8F8F8; stroke-width: 1.5;\" width=\"60\" x=\"118\" y=\"174.9375\"/><rect fill=\"none\" height=\"42.9375\" id=\"E7\" rx=\"10\" ry=\"10\" style=\"stroke: #383838; stroke-width: 1.5;\" width=\"60\" x=\"118\" y=\"147\"/><text fill=\"#000000\" font-family=\"sans-serif\" font-size=\"12\" font-style=\"italic\" lengthAdjust=\"spacingAndGlyphs\" textLength=\"53\" x=\"121.5\" y=\"163.1387\">«action»</text><text fill=\"#000000\" font-family=\"sans-serif\" font-size=\"12\" lengthAdjust=\"spacingAndGlyphs\" textLength=\"16\" x=\"140\" y=\"177.1074\">B2</text></a></g><!--MD5=[4d03bb2d0377dc85ccfab60ff574652b]\n",
       "link E2 to E4--><a href=\"psysml:4f9dc8d6-d6e0-48a2-bcc8-8318223d246b\" target=\"_top\" title=\"psysml:4f9dc8d6-d6e0-48a2-bcc8-8318223d246b\" xlink:actuate=\"onRequest\" xlink:href=\"psysml:4f9dc8d6-d6e0-48a2-bcc8-8318223d246b\" xlink:show=\"new\" xlink:title=\"psysml:4f9dc8d6-d6e0-48a2-bcc8-8318223d246b\" xlink:type=\"simple\"><path d=\"M118.42,101.14 C114.95,103.57 111.64,105.88 108.81,107.85 \" fill=\"none\" id=\"E2-&gt;E4\" style=\"stroke: #383838; stroke-width: 1.0;\"/><polygon fill=\"#383838\" points=\"104.3,111,113.9709,109.1361,108.4022,108.1413,109.397,102.5726,104.3,111\" style=\"stroke: #383838; stroke-width: 1.0;\"/><text fill=\"#000000\" font-family=\"sans-serif\" font-size=\"13\" lengthAdjust=\"spacingAndGlyphs\" textLength=\"7\" x=\"97.87\" y=\"99.9205\">*</text></a><!--MD5=[af87c684e3b0d8be13c1a698a818ef1e]\n",
       "link E3 to E4--><a href=\"psysml:d5a52d23-3eda-48ed-8e98-b9c24f218910\" target=\"_top\" title=\"psysml:d5a52d23-3eda-48ed-8e98-b9c24f218910\" xlink:actuate=\"onRequest\" xlink:href=\"psysml:d5a52d23-3eda-48ed-8e98-b9c24f218910\" xlink:show=\"new\" xlink:title=\"psysml:d5a52d23-3eda-48ed-8e98-b9c24f218910\" xlink:type=\"simple\"><path d=\"M81.96,101.14 C85.36,103.57 88.6,105.88 91.37,107.85 \" fill=\"none\" id=\"E3-&gt;E4\" style=\"stroke: #383838; stroke-width: 1.0;\"/><polygon fill=\"#383838\" points=\"95.79,111,90.7801,102.5206,91.7175,108.0992,86.1388,109.0366,95.79,111\" style=\"stroke: #383838; stroke-width: 1.0;\"/><text fill=\"#000000\" font-family=\"sans-serif\" font-size=\"13\" lengthAdjust=\"spacingAndGlyphs\" textLength=\"7\" x=\"91.1121\" y=\"103.6092\">*</text></a><!--MD5=[1b7591eae5389033d8d09a9d6721a717]\n",
       "link E4 to E5--><a href=\"psysml:822f1664-72e1-4116-b41f-1c0919a615e0\" target=\"_top\" title=\"psysml:822f1664-72e1-4116-b41f-1c0919a615e0\" xlink:actuate=\"onRequest\" xlink:href=\"psysml:822f1664-72e1-4116-b41f-1c0919a615e0\" xlink:show=\"new\" xlink:title=\"psysml:822f1664-72e1-4116-b41f-1c0919a615e0\" xlink:type=\"simple\"><path d=\"M100,119.08 C100,120.38 100,121.95 100,123.55 \" fill=\"none\" id=\"E4-&gt;E5\" style=\"stroke: #383838; stroke-width: 1.0;\"/><polygon fill=\"#383838\" points=\"100,128.7,104,119.7,100,123.7,96,119.7,100,128.7\" style=\"stroke: #383838; stroke-width: 1.0;\"/><text fill=\"#000000\" font-family=\"sans-serif\" font-size=\"13\" lengthAdjust=\"spacingAndGlyphs\" textLength=\"7\" x=\"42.9663\" y=\"135.9509\">*</text></a><!--MD5=[9120cf2e5df3bff93db8f754bbbc09b4]\n",
       "link E5 to E6--><a href=\"psysml:2360acce-0fc1-431a-bbc0-189c84da742a\" target=\"_top\" title=\"psysml:2360acce-0fc1-431a-bbc0-189c84da742a\" xlink:actuate=\"onRequest\" xlink:href=\"psysml:2360acce-0fc1-431a-bbc0-189c84da742a\" xlink:show=\"new\" xlink:title=\"psysml:2360acce-0fc1-431a-bbc0-189c84da742a\" xlink:type=\"simple\"><path d=\"M95.66,137.09 C93.25,138.81 89.99,141.13 86.35,143.73 \" fill=\"none\" id=\"E5-&gt;E6\" style=\"stroke: #383838; stroke-width: 1.0;\"/><polygon fill=\"#383838\" points=\"81.93,146.88,91.5812,144.9166,86.0025,143.9792,86.9399,138.4006,81.93,146.88\" style=\"stroke: #383838; stroke-width: 1.0;\"/><text fill=\"#000000\" font-family=\"sans-serif\" font-size=\"13\" lengthAdjust=\"spacingAndGlyphs\" textLength=\"7\" x=\"91.0509\" y=\"155.0031\">*</text></a><!--MD5=[3a9b96bfbf6b6ad89c494e81751bda47]\n",
       "link E5 to E7--><a href=\"psysml:ee81c625-3e17-4e8d-972a-76052e7a84e3\" target=\"_top\" title=\"psysml:ee81c625-3e17-4e8d-972a-76052e7a84e3\" xlink:actuate=\"onRequest\" xlink:href=\"psysml:ee81c625-3e17-4e8d-972a-76052e7a84e3\" xlink:show=\"new\" xlink:title=\"psysml:ee81c625-3e17-4e8d-972a-76052e7a84e3\" xlink:type=\"simple\"><path d=\"M104.43,137.09 C106.9,138.81 110.22,141.13 113.94,143.73 \" fill=\"none\" id=\"E5-&gt;E7\" style=\"stroke: #383838; stroke-width: 1.0;\"/><polygon fill=\"#383838\" points=\"118.46,146.88,113.3827,138.4407,114.3645,144.0117,108.7935,144.9935,118.46,146.88\" style=\"stroke: #383838; stroke-width: 1.0;\"/><text fill=\"#000000\" font-family=\"sans-serif\" font-size=\"13\" lengthAdjust=\"spacingAndGlyphs\" textLength=\"7\" x=\"102.9935\" y=\"155.3537\">*</text></a><!--MD5=[21502c0fb3501ba0f38974111f392b0a]\n",
       "@startuml\r\n",
       "skinparam ranksep 10\r\n",
       "skinparam rectangle {\r\n",
       " backgroundColor<<block>> LightGreen\r\n",
       "}\r\n",
       " skinparam monochrome true\r\n",
       "skinparam classbackgroundcolor white\r\n",
       "skinparam shadowing false\r\n",
       "skinparam wrapWidth 300\r\n",
       "hide circle\r\n",
       "\r\n",
       "rec def \"ControlNodeTest\" as E1  <<(T,blue) action  def>> [[psysml:06c83ae0-0be1-4108-9f79-6c682626264b ]] {\r\n",
       "rec usage \"A1\" as E2  <<(T,blue) action>> [[psysml:b587d390-d46d-4840-bcaf-beb60201fdea ]] {\r\n",
       "}\r\n",
       "\r\n",
       "rec usage \"A2\" as E3  <<(T,blue) action>> [[psysml:2c010bd6-de88-4dc7-8be6-3edc78c34a31 ]] {\r\n",
       "}\r\n",
       "\r\n",
       "join \"J\" as E4  [[psysml:b80e7b99-08a2-49d6-9359-b424cf684151 ]] \r\n",
       "fork \"F\" as E5  [[psysml:df495c9b-9171-48f9-ac7d-26427115e0f4 ]] \r\n",
       "rec usage \"B1\" as E6  <<(T,blue) action>> [[psysml:b42821ea-70f6-43bd-9a67-84f3e511770a ]] {\r\n",
       "}\r\n",
       "\r\n",
       "rec usage \"B2\" as E7  <<(T,blue) action>> [[psysml:e950d6a4-fdbd-4650-aa0a-2ca4b4e20830 ]] {\r\n",
       "}\r\n",
       "\r\n",
       "}\r\n",
       "\r\n",
       "E2 - -> \"*\"E4 [[psysml:4f9dc8d6-d6e0-48a2-bcc8-8318223d246b ]] \r\n",
       "E3 - -> \"*\"E4 [[psysml:d5a52d23-3eda-48ed-8e98-b9c24f218910 ]] \r\n",
       "E4 - -> \"*\"E5 [[psysml:822f1664-72e1-4116-b41f-1c0919a615e0 ]] \r\n",
       "E5 - -> \"*\"E6 [[psysml:2360acce-0fc1-431a-bbc0-189c84da742a ]] \r\n",
       "E5 - -> \"*\"E7 [[psysml:ee81c625-3e17-4e8d-972a-76052e7a84e3 ]] \r\n",
       "@enduml\r\n",
       "\n",
       "PlantUML version 1.2020.13(Sat Jun 13 12:26:38 UTC 2020)\n",
       "(EPL source distribution)\n",
       "Java Runtime: OpenJDK Runtime Environment\n",
       "JVM: OpenJDK 64-Bit Server VM\n",
       "Default Encoding: UTF-8\n",
       "Language: en\n",
       "Country: null\n",
       "--></g></svg>"
      ]
     },
     "execution_count": 5,
     "metadata": {},
     "output_type": "execute_result"
    }
   ],
   "source": [
    "%viz --style=\"COMPTREE\" --view=\"Interconnection\" \"ControlNodeTest\""
   ]
  },
  {
   "cell_type": "code",
   "execution_count": 6,
   "id": "2a995707",
   "metadata": {
    "execution": {
     "iopub.execute_input": "2022-02-18T10:46:08.723112Z",
     "iopub.status.busy": "2022-02-18T10:46:08.722643Z",
     "iopub.status.idle": "2022-02-18T10:46:08.769351Z",
     "shell.execute_reply": "2022-02-18T10:46:08.769517Z"
    }
   },
   "outputs": [
    {
     "data": {
      "image/svg+xml": [
       "<?xml version=\"1.0\" encoding=\"UTF-8\" standalone=\"no\"?><svg xmlns=\"http://www.w3.org/2000/svg\" xmlns:xlink=\"http://www.w3.org/1999/xlink\" contentScriptType=\"application/ecmascript\" contentStyleType=\"text/css\" height=\"211px\" preserveAspectRatio=\"none\" style=\"width:205px;height:211px;\" version=\"1.1\" viewBox=\"0 0 205 211\" width=\"205px\" zoomAndPan=\"magnify\"><defs/><g><!--MD5=[fbc87193dbaf4d95561dea2c320d4a47]\n",
       "cluster E1--><a href=\"psysml:06c83ae0-0be1-4108-9f79-6c682626264b\" target=\"_top\" title=\"psysml:06c83ae0-0be1-4108-9f79-6c682626264b\" xlink:actuate=\"onRequest\" xlink:href=\"psysml:06c83ae0-0be1-4108-9f79-6c682626264b\" xlink:show=\"new\" xlink:title=\"psysml:06c83ae0-0be1-4108-9f79-6c682626264b\" xlink:type=\"simple\"><rect fill=\"#FFFFFF\" height=\"193\" id=\"E1\" style=\"stroke: #383838; stroke-width: 1.5;\" width=\"187\" x=\"7\" y=\"7\"/><rect fill=\"#F8F8F8\" height=\"37.9375\" style=\"stroke: #383838; stroke-width: 1.5;\" width=\"187\" x=\"7\" y=\"7\"/><text fill=\"#000000\" font-family=\"sans-serif\" font-size=\"12\" font-style=\"italic\" lengthAdjust=\"spacingAndGlyphs\" textLength=\"81\" x=\"60\" y=\"23.1387\">«action  def»</text><text fill=\"#000000\" font-family=\"sans-serif\" font-size=\"12\" lengthAdjust=\"spacingAndGlyphs\" textLength=\"105\" x=\"48\" y=\"37.1074\">ControlNodeTest</text></a><rect fill=\"#000000\" height=\"8\" style=\"stroke: none; stroke-width: 1.0;\" width=\"80\" x=\"60\" y=\"109\"/><rect fill=\"#000000\" height=\"8\" style=\"stroke: none; stroke-width: 1.0;\" width=\"80\" x=\"60\" y=\"125\"/><g id=\"E1.E2\"><a href=\"psysml:b587d390-d46d-4840-bcaf-beb60201fdea\" target=\"_top\" title=\"psysml:b587d390-d46d-4840-bcaf-beb60201fdea\" xlink:actuate=\"onRequest\" xlink:href=\"psysml:b587d390-d46d-4840-bcaf-beb60201fdea\" xlink:show=\"new\" xlink:title=\"psysml:b587d390-d46d-4840-bcaf-beb60201fdea\" xlink:type=\"simple\"><rect fill=\"#FFFFFF\" height=\"42.9375\" id=\"E2\" rx=\"10\" ry=\"10\" style=\"stroke: #383838; stroke-width: 1.5;\" width=\"60\" x=\"118\" y=\"58\"/><rect fill=\"#F8F8F8\" height=\"37.9375\" rx=\"10\" ry=\"10\" style=\"stroke: #F8F8F8; stroke-width: 1.5;\" width=\"60\" x=\"118\" y=\"58\"/><rect fill=\"#F8F8F8\" height=\"10\" style=\"stroke: #F8F8F8; stroke-width: 1.5;\" width=\"60\" x=\"118\" y=\"85.9375\"/><rect fill=\"none\" height=\"42.9375\" id=\"E2\" rx=\"10\" ry=\"10\" style=\"stroke: #383838; stroke-width: 1.5;\" width=\"60\" x=\"118\" y=\"58\"/><text fill=\"#000000\" font-family=\"sans-serif\" font-size=\"12\" font-style=\"italic\" lengthAdjust=\"spacingAndGlyphs\" textLength=\"53\" x=\"121.5\" y=\"74.1387\">«action»</text><text fill=\"#000000\" font-family=\"sans-serif\" font-size=\"12\" lengthAdjust=\"spacingAndGlyphs\" textLength=\"16\" x=\"140\" y=\"88.1074\">A1</text></a></g><g id=\"E1.E3\"><a href=\"psysml:2c010bd6-de88-4dc7-8be6-3edc78c34a31\" target=\"_top\" title=\"psysml:2c010bd6-de88-4dc7-8be6-3edc78c34a31\" xlink:actuate=\"onRequest\" xlink:href=\"psysml:2c010bd6-de88-4dc7-8be6-3edc78c34a31\" xlink:show=\"new\" xlink:title=\"psysml:2c010bd6-de88-4dc7-8be6-3edc78c34a31\" xlink:type=\"simple\"><rect fill=\"#FFFFFF\" height=\"42.9375\" id=\"E3\" rx=\"10\" ry=\"10\" style=\"stroke: #383838; stroke-width: 1.5;\" width=\"60\" x=\"23\" y=\"58\"/><rect fill=\"#F8F8F8\" height=\"37.9375\" rx=\"10\" ry=\"10\" style=\"stroke: #F8F8F8; stroke-width: 1.5;\" width=\"60\" x=\"23\" y=\"58\"/><rect fill=\"#F8F8F8\" height=\"10\" style=\"stroke: #F8F8F8; stroke-width: 1.5;\" width=\"60\" x=\"23\" y=\"85.9375\"/><rect fill=\"none\" height=\"42.9375\" id=\"E3\" rx=\"10\" ry=\"10\" style=\"stroke: #383838; stroke-width: 1.5;\" width=\"60\" x=\"23\" y=\"58\"/><text fill=\"#000000\" font-family=\"sans-serif\" font-size=\"12\" font-style=\"italic\" lengthAdjust=\"spacingAndGlyphs\" textLength=\"53\" x=\"26.5\" y=\"74.1387\">«action»</text><text fill=\"#000000\" font-family=\"sans-serif\" font-size=\"12\" lengthAdjust=\"spacingAndGlyphs\" textLength=\"16\" x=\"45\" y=\"88.1074\">A2</text></a></g><g id=\"E1.E6\"><a href=\"psysml:b42821ea-70f6-43bd-9a67-84f3e511770a\" target=\"_top\" title=\"psysml:b42821ea-70f6-43bd-9a67-84f3e511770a\" xlink:actuate=\"onRequest\" xlink:href=\"psysml:b42821ea-70f6-43bd-9a67-84f3e511770a\" xlink:show=\"new\" xlink:title=\"psysml:b42821ea-70f6-43bd-9a67-84f3e511770a\" xlink:type=\"simple\"><rect fill=\"#FFFFFF\" height=\"42.9375\" id=\"E6\" rx=\"10\" ry=\"10\" style=\"stroke: #383838; stroke-width: 1.5;\" width=\"60\" x=\"23\" y=\"141\"/><rect fill=\"#F8F8F8\" height=\"37.9375\" rx=\"10\" ry=\"10\" style=\"stroke: #F8F8F8; stroke-width: 1.5;\" width=\"60\" x=\"23\" y=\"141\"/><rect fill=\"#F8F8F8\" height=\"10\" style=\"stroke: #F8F8F8; stroke-width: 1.5;\" width=\"60\" x=\"23\" y=\"168.9375\"/><rect fill=\"none\" height=\"42.9375\" id=\"E6\" rx=\"10\" ry=\"10\" style=\"stroke: #383838; stroke-width: 1.5;\" width=\"60\" x=\"23\" y=\"141\"/><text fill=\"#000000\" font-family=\"sans-serif\" font-size=\"12\" font-style=\"italic\" lengthAdjust=\"spacingAndGlyphs\" textLength=\"53\" x=\"26.5\" y=\"157.1387\">«action»</text><text fill=\"#000000\" font-family=\"sans-serif\" font-size=\"12\" lengthAdjust=\"spacingAndGlyphs\" textLength=\"16\" x=\"45\" y=\"171.1074\">B1</text></a></g><g id=\"E1.E7\"><a href=\"psysml:e950d6a4-fdbd-4650-aa0a-2ca4b4e20830\" target=\"_top\" title=\"psysml:e950d6a4-fdbd-4650-aa0a-2ca4b4e20830\" xlink:actuate=\"onRequest\" xlink:href=\"psysml:e950d6a4-fdbd-4650-aa0a-2ca4b4e20830\" xlink:show=\"new\" xlink:title=\"psysml:e950d6a4-fdbd-4650-aa0a-2ca4b4e20830\" xlink:type=\"simple\"><rect fill=\"#FFFFFF\" height=\"42.9375\" id=\"E7\" rx=\"10\" ry=\"10\" style=\"stroke: #383838; stroke-width: 1.5;\" width=\"60\" x=\"118\" y=\"141\"/><rect fill=\"#F8F8F8\" height=\"37.9375\" rx=\"10\" ry=\"10\" style=\"stroke: #F8F8F8; stroke-width: 1.5;\" width=\"60\" x=\"118\" y=\"141\"/><rect fill=\"#F8F8F8\" height=\"10\" style=\"stroke: #F8F8F8; stroke-width: 1.5;\" width=\"60\" x=\"118\" y=\"168.9375\"/><rect fill=\"none\" height=\"42.9375\" id=\"E7\" rx=\"10\" ry=\"10\" style=\"stroke: #383838; stroke-width: 1.5;\" width=\"60\" x=\"118\" y=\"141\"/><text fill=\"#000000\" font-family=\"sans-serif\" font-size=\"12\" font-style=\"italic\" lengthAdjust=\"spacingAndGlyphs\" textLength=\"53\" x=\"121.5\" y=\"157.1387\">«action»</text><text fill=\"#000000\" font-family=\"sans-serif\" font-size=\"12\" lengthAdjust=\"spacingAndGlyphs\" textLength=\"16\" x=\"140\" y=\"171.1074\">B2</text></a></g><!--MD5=[4d03bb2d0377dc85ccfab60ff574652b]\n",
       "link E2 to E4--><a href=\"psysml:4f9dc8d6-d6e0-48a2-bcc8-8318223d246b\" target=\"_top\" title=\"psysml:4f9dc8d6-d6e0-48a2-bcc8-8318223d246b\" xlink:actuate=\"onRequest\" xlink:href=\"psysml:4f9dc8d6-d6e0-48a2-bcc8-8318223d246b\" xlink:show=\"new\" xlink:title=\"psysml:4f9dc8d6-d6e0-48a2-bcc8-8318223d246b\" xlink:type=\"simple\"><path d=\"M117.87,100.27 C114.67,102.37 111.63,104.37 108.98,106.1 \" fill=\"none\" id=\"E2-&gt;E4\" style=\"stroke: #383838; stroke-width: 1.0; stroke-dasharray: 7.0,7.0;\"/><polygon fill=\"#383838\" points=\"104.72,108.9,114.4401,107.3128,108.9021,106.1595,110.0554,100.6215,104.72,108.9\" style=\"stroke: #383838; stroke-width: 1.0;\"/></a><!--MD5=[af87c684e3b0d8be13c1a698a818ef1e]\n",
       "link E3 to E4--><a href=\"psysml:d5a52d23-3eda-48ed-8e98-b9c24f218910\" target=\"_top\" title=\"psysml:d5a52d23-3eda-48ed-8e98-b9c24f218910\" xlink:actuate=\"onRequest\" xlink:href=\"psysml:d5a52d23-3eda-48ed-8e98-b9c24f218910\" xlink:show=\"new\" xlink:title=\"psysml:d5a52d23-3eda-48ed-8e98-b9c24f218910\" xlink:type=\"simple\"><path d=\"M83.03,100.63 C85.85,102.52 88.54,104.32 90.9,105.9 \" fill=\"none\" id=\"E3-&gt;E4\" style=\"stroke: #383838; stroke-width: 1.0; stroke-dasharray: 7.0,7.0;\"/><polygon fill=\"#383838\" points=\"95.26,108.82,90.0101,100.487,91.1063,106.0366,85.5567,107.1328,95.26,108.82\" style=\"stroke: #383838; stroke-width: 1.0;\"/></a><!--MD5=[1b7591eae5389033d8d09a9d6721a717]\n",
       "link E4 to E5--><a href=\"psysml:822f1664-72e1-4116-b41f-1c0919a615e0\" target=\"_top\" title=\"psysml:822f1664-72e1-4116-b41f-1c0919a615e0\" xlink:actuate=\"onRequest\" xlink:href=\"psysml:822f1664-72e1-4116-b41f-1c0919a615e0\" xlink:show=\"new\" xlink:title=\"psysml:822f1664-72e1-4116-b41f-1c0919a615e0\" xlink:type=\"simple\"><path d=\"M100,117.25 C100,118.05 100,118.94 100,119.86 \" fill=\"none\" id=\"E4-&gt;E5\" style=\"stroke: #383838; stroke-width: 1.0; stroke-dasharray: 7.0,7.0;\"/><polygon fill=\"#383838\" points=\"100,124.96,104,115.96,100,119.96,96,115.96,100,124.96\" style=\"stroke: #383838; stroke-width: 1.0;\"/></a><!--MD5=[9120cf2e5df3bff93db8f754bbbc09b4]\n",
       "link E5 to E6--><a href=\"psysml:2360acce-0fc1-431a-bbc0-189c84da742a\" target=\"_top\" title=\"psysml:2360acce-0fc1-431a-bbc0-189c84da742a\" xlink:actuate=\"onRequest\" xlink:href=\"psysml:2360acce-0fc1-431a-bbc0-189c84da742a\" xlink:show=\"new\" xlink:title=\"psysml:2360acce-0fc1-431a-bbc0-189c84da742a\" xlink:type=\"simple\"><path d=\"M95.32,133.14 C93.21,134.55 90.52,136.35 87.53,138.36 \" fill=\"none\" id=\"E5-&gt;E6\" style=\"stroke: #383838; stroke-width: 1.0; stroke-dasharray: 7.0,7.0;\"/><polygon fill=\"#383838\" points=\"83.27,141.21,92.9706,139.5074,87.4192,138.42,88.5066,132.8687,83.27,141.21\" style=\"stroke: #383838; stroke-width: 1.0;\"/></a><!--MD5=[3a9b96bfbf6b6ad89c494e81751bda47]\n",
       "link E5 to E7--><a href=\"psysml:ee81c625-3e17-4e8d-972a-76052e7a84e3\" target=\"_top\" title=\"psysml:ee81c625-3e17-4e8d-972a-76052e7a84e3\" xlink:actuate=\"onRequest\" xlink:href=\"psysml:ee81c625-3e17-4e8d-972a-76052e7a84e3\" xlink:show=\"new\" xlink:title=\"psysml:ee81c625-3e17-4e8d-972a-76052e7a84e3\" xlink:type=\"simple\"><path d=\"M104.78,133.14 C107.16,134.7 110.28,136.75 113.75,139.02 \" fill=\"none\" id=\"E5-&gt;E7\" style=\"stroke: #383838; stroke-width: 1.0; stroke-dasharray: 7.0,7.0;\"/><polygon fill=\"#383838\" points=\"117.96,141.79,112.6246,133.5115,113.7779,139.0495,108.2399,140.2028,117.96,141.79\" style=\"stroke: #383838; stroke-width: 1.0;\"/></a><!--MD5=[9a222b81dc7b23bab18baa1512d77062]\n",
       "@startuml\r\n",
       "skinparam ranksep 8\r\n",
       " skinparam monochrome true\r\n",
       "skinparam classbackgroundcolor white\r\n",
       "skinparam shadowing false\r\n",
       "skinparam wrapWidth 300\r\n",
       "hide circle\r\n",
       "\r\n",
       "rec def \"ControlNodeTest\" as E1  <<(T,blue) action  def>> [[psysml:06c83ae0-0be1-4108-9f79-6c682626264b ]] {\r\n",
       "rec usage \"A1\" as E2  <<(T,blue) action>> [[psysml:b587d390-d46d-4840-bcaf-beb60201fdea ]] {\r\n",
       "}\r\n",
       "\r\n",
       "rec usage \"A2\" as E3  <<(T,blue) action>> [[psysml:2c010bd6-de88-4dc7-8be6-3edc78c34a31 ]] {\r\n",
       "}\r\n",
       "\r\n",
       "join \"J\" as E4  [[psysml:b80e7b99-08a2-49d6-9359-b424cf684151 ]] \r\n",
       "fork \"F\" as E5  [[psysml:df495c9b-9171-48f9-ac7d-26427115e0f4 ]] \r\n",
       "rec usage \"B1\" as E6  <<(T,blue) action>> [[psysml:b42821ea-70f6-43bd-9a67-84f3e511770a ]] {\r\n",
       "}\r\n",
       "\r\n",
       "rec usage \"B2\" as E7  <<(T,blue) action>> [[psysml:e950d6a4-fdbd-4650-aa0a-2ca4b4e20830 ]] {\r\n",
       "}\r\n",
       "\r\n",
       "}\r\n",
       "\r\n",
       "E2 ..> E4 [[psysml:4f9dc8d6-d6e0-48a2-bcc8-8318223d246b ]] \r\n",
       "E3 ..> E4 [[psysml:d5a52d23-3eda-48ed-8e98-b9c24f218910 ]] \r\n",
       "E4 ..> E5 [[psysml:822f1664-72e1-4116-b41f-1c0919a615e0 ]] \r\n",
       "E5 ..> E6 [[psysml:2360acce-0fc1-431a-bbc0-189c84da742a ]] \r\n",
       "E5 ..> E7 [[psysml:ee81c625-3e17-4e8d-972a-76052e7a84e3 ]] \r\n",
       "@enduml\r\n",
       "\n",
       "PlantUML version 1.2020.13(Sat Jun 13 12:26:38 UTC 2020)\n",
       "(EPL source distribution)\n",
       "Java Runtime: OpenJDK Runtime Environment\n",
       "JVM: OpenJDK 64-Bit Server VM\n",
       "Default Encoding: UTF-8\n",
       "Language: en\n",
       "Country: null\n",
       "--></g></svg>"
      ]
     },
     "execution_count": 6,
     "metadata": {},
     "output_type": "execute_result"
    }
   ],
   "source": [
    "%viz --style=\"COMPTREE\" --view=\"Action\" \"ControlNodeTest\""
   ]
  },
  {
   "cell_type": "code",
   "execution_count": 7,
   "id": "e7c8ef83",
   "metadata": {
    "execution": {
     "iopub.execute_input": "2022-02-18T10:46:08.820614Z",
     "iopub.status.busy": "2022-02-18T10:46:08.820190Z",
     "iopub.status.idle": "2022-02-18T10:46:08.832980Z",
     "shell.execute_reply": "2022-02-18T10:46:08.833303Z"
    }
   },
   "outputs": [
    {
     "data": {
      "image/svg+xml": [
       "<?xml version=\"1.0\" encoding=\"UTF-8\" standalone=\"no\"?><svg xmlns=\"http://www.w3.org/2000/svg\" xmlns:xlink=\"http://www.w3.org/1999/xlink\" contentScriptType=\"application/ecmascript\" contentStyleType=\"text/css\" height=\"12px\" preserveAspectRatio=\"none\" style=\"width:12px;height:12px;\" version=\"1.1\" viewBox=\"0 0 12 12\" width=\"12px\" zoomAndPan=\"magnify\"><defs/><g><!--MD5=[803fc46c337be7a5c8a9831e35356779]\n",
       "@startuml\r\n",
       "skinparam roundcorner 20\r\n",
       "skinparam BoxPadding 20\r\n",
       "skinparam SequenceBoxBackgroundColor #white\r\n",
       "skinparam style strictuml\r\n",
       "skinparam maxMessageSize 100\r\n",
       " skinparam monochrome true\r\n",
       "skinparam classbackgroundcolor white\r\n",
       "skinparam shadowing false\r\n",
       "skinparam wrapWidth 300\r\n",
       "hide circle\r\n",
       "\r\n",
       "@enduml\r\n",
       "\n",
       "PlantUML version 1.2020.13(Sat Jun 13 12:26:38 UTC 2020)\n",
       "(EPL source distribution)\n",
       "Java Runtime: OpenJDK Runtime Environment\n",
       "JVM: OpenJDK 64-Bit Server VM\n",
       "Default Encoding: UTF-8\n",
       "Language: en\n",
       "Country: null\n",
       "--></g></svg>"
      ]
     },
     "execution_count": 7,
     "metadata": {},
     "output_type": "execute_result"
    }
   ],
   "source": [
    "%viz --style=\"COMPTREE\" --view=\"Sequence\" \"ControlNodeTest\""
   ]
  },
  {
   "cell_type": "code",
   "execution_count": 8,
   "id": "628feb6c",
   "metadata": {
    "execution": {
     "iopub.execute_input": "2022-02-18T10:46:08.883863Z",
     "iopub.status.busy": "2022-02-18T10:46:08.883447Z",
     "iopub.status.idle": "2022-02-18T10:46:08.938173Z",
     "shell.execute_reply": "2022-02-18T10:46:08.938411Z"
    }
   },
   "outputs": [
    {
     "data": {
      "image/svg+xml": [
       "<?xml version=\"1.0\" encoding=\"UTF-8\" standalone=\"no\"?><svg xmlns=\"http://www.w3.org/2000/svg\" xmlns:xlink=\"http://www.w3.org/1999/xlink\" contentScriptType=\"application/ecmascript\" contentStyleType=\"text/css\" height=\"367px\" preserveAspectRatio=\"none\" style=\"width:205px;height:367px;\" version=\"1.1\" viewBox=\"0 0 205 367\" width=\"205px\" zoomAndPan=\"magnify\"><defs/><g><!--MD5=[fbc87193dbaf4d95561dea2c320d4a47]\n",
       "cluster E1--><a href=\"psysml:06c83ae0-0be1-4108-9f79-6c682626264b\" target=\"_top\" title=\"psysml:06c83ae0-0be1-4108-9f79-6c682626264b\" xlink:actuate=\"onRequest\" xlink:href=\"psysml:06c83ae0-0be1-4108-9f79-6c682626264b\" xlink:show=\"new\" xlink:title=\"psysml:06c83ae0-0be1-4108-9f79-6c682626264b\" xlink:type=\"simple\"><rect fill=\"#FFFFFF\" height=\"349\" id=\"E1\" style=\"stroke: #383838; stroke-width: 1.5;\" width=\"187\" x=\"7\" y=\"7\"/><rect fill=\"#F8F8F8\" height=\"37.9375\" style=\"stroke: #383838; stroke-width: 1.5;\" width=\"187\" x=\"7\" y=\"7\"/><text fill=\"#000000\" font-family=\"sans-serif\" font-size=\"12\" font-style=\"italic\" lengthAdjust=\"spacingAndGlyphs\" textLength=\"81\" x=\"60\" y=\"23.1387\">«action  def»</text><text fill=\"#000000\" font-family=\"sans-serif\" font-size=\"12\" lengthAdjust=\"spacingAndGlyphs\" textLength=\"105\" x=\"48\" y=\"37.1074\">ControlNodeTest</text></a><rect fill=\"#000000\" height=\"8\" style=\"stroke: none; stroke-width: 1.0;\" width=\"80\" x=\"60\" y=\"161\"/><rect fill=\"#000000\" height=\"8\" style=\"stroke: none; stroke-width: 1.0;\" width=\"80\" x=\"60\" y=\"229\"/><g id=\"E1.E2\"><a href=\"psysml:b587d390-d46d-4840-bcaf-beb60201fdea\" target=\"_top\" title=\"psysml:b587d390-d46d-4840-bcaf-beb60201fdea\" xlink:actuate=\"onRequest\" xlink:href=\"psysml:b587d390-d46d-4840-bcaf-beb60201fdea\" xlink:show=\"new\" xlink:title=\"psysml:b587d390-d46d-4840-bcaf-beb60201fdea\" xlink:type=\"simple\"><rect fill=\"#FFFFFF\" height=\"42.9375\" id=\"E2\" rx=\"10\" ry=\"10\" style=\"stroke: #383838; stroke-width: 1.5;\" width=\"60\" x=\"118\" y=\"58\"/><rect fill=\"#F8F8F8\" height=\"37.9375\" rx=\"10\" ry=\"10\" style=\"stroke: #F8F8F8; stroke-width: 1.5;\" width=\"60\" x=\"118\" y=\"58\"/><rect fill=\"#F8F8F8\" height=\"10\" style=\"stroke: #F8F8F8; stroke-width: 1.5;\" width=\"60\" x=\"118\" y=\"85.9375\"/><rect fill=\"none\" height=\"42.9375\" id=\"E2\" rx=\"10\" ry=\"10\" style=\"stroke: #383838; stroke-width: 1.5;\" width=\"60\" x=\"118\" y=\"58\"/><text fill=\"#000000\" font-family=\"sans-serif\" font-size=\"12\" font-style=\"italic\" lengthAdjust=\"spacingAndGlyphs\" textLength=\"53\" x=\"121.5\" y=\"74.1387\">«action»</text><text fill=\"#000000\" font-family=\"sans-serif\" font-size=\"12\" lengthAdjust=\"spacingAndGlyphs\" textLength=\"16\" x=\"140\" y=\"88.1074\">A1</text></a></g><g id=\"E1.E3\"><a href=\"psysml:2c010bd6-de88-4dc7-8be6-3edc78c34a31\" target=\"_top\" title=\"psysml:2c010bd6-de88-4dc7-8be6-3edc78c34a31\" xlink:actuate=\"onRequest\" xlink:href=\"psysml:2c010bd6-de88-4dc7-8be6-3edc78c34a31\" xlink:show=\"new\" xlink:title=\"psysml:2c010bd6-de88-4dc7-8be6-3edc78c34a31\" xlink:type=\"simple\"><rect fill=\"#FFFFFF\" height=\"42.9375\" id=\"E3\" rx=\"10\" ry=\"10\" style=\"stroke: #383838; stroke-width: 1.5;\" width=\"60\" x=\"23\" y=\"58\"/><rect fill=\"#F8F8F8\" height=\"37.9375\" rx=\"10\" ry=\"10\" style=\"stroke: #F8F8F8; stroke-width: 1.5;\" width=\"60\" x=\"23\" y=\"58\"/><rect fill=\"#F8F8F8\" height=\"10\" style=\"stroke: #F8F8F8; stroke-width: 1.5;\" width=\"60\" x=\"23\" y=\"85.9375\"/><rect fill=\"none\" height=\"42.9375\" id=\"E3\" rx=\"10\" ry=\"10\" style=\"stroke: #383838; stroke-width: 1.5;\" width=\"60\" x=\"23\" y=\"58\"/><text fill=\"#000000\" font-family=\"sans-serif\" font-size=\"12\" font-style=\"italic\" lengthAdjust=\"spacingAndGlyphs\" textLength=\"53\" x=\"26.5\" y=\"74.1387\">«action»</text><text fill=\"#000000\" font-family=\"sans-serif\" font-size=\"12\" lengthAdjust=\"spacingAndGlyphs\" textLength=\"16\" x=\"45\" y=\"88.1074\">A2</text></a></g><g id=\"E1.E6\"><a href=\"psysml:b42821ea-70f6-43bd-9a67-84f3e511770a\" target=\"_top\" title=\"psysml:b42821ea-70f6-43bd-9a67-84f3e511770a\" xlink:actuate=\"onRequest\" xlink:href=\"psysml:b42821ea-70f6-43bd-9a67-84f3e511770a\" xlink:show=\"new\" xlink:title=\"psysml:b42821ea-70f6-43bd-9a67-84f3e511770a\" xlink:type=\"simple\"><rect fill=\"#FFFFFF\" height=\"42.9375\" id=\"E6\" rx=\"10\" ry=\"10\" style=\"stroke: #383838; stroke-width: 1.5;\" width=\"60\" x=\"23\" y=\"297\"/><rect fill=\"#F8F8F8\" height=\"37.9375\" rx=\"10\" ry=\"10\" style=\"stroke: #F8F8F8; stroke-width: 1.5;\" width=\"60\" x=\"23\" y=\"297\"/><rect fill=\"#F8F8F8\" height=\"10\" style=\"stroke: #F8F8F8; stroke-width: 1.5;\" width=\"60\" x=\"23\" y=\"324.9375\"/><rect fill=\"none\" height=\"42.9375\" id=\"E6\" rx=\"10\" ry=\"10\" style=\"stroke: #383838; stroke-width: 1.5;\" width=\"60\" x=\"23\" y=\"297\"/><text fill=\"#000000\" font-family=\"sans-serif\" font-size=\"12\" font-style=\"italic\" lengthAdjust=\"spacingAndGlyphs\" textLength=\"53\" x=\"26.5\" y=\"313.1387\">«action»</text><text fill=\"#000000\" font-family=\"sans-serif\" font-size=\"12\" lengthAdjust=\"spacingAndGlyphs\" textLength=\"16\" x=\"45\" y=\"327.1074\">B1</text></a></g><g id=\"E1.E7\"><a href=\"psysml:e950d6a4-fdbd-4650-aa0a-2ca4b4e20830\" target=\"_top\" title=\"psysml:e950d6a4-fdbd-4650-aa0a-2ca4b4e20830\" xlink:actuate=\"onRequest\" xlink:href=\"psysml:e950d6a4-fdbd-4650-aa0a-2ca4b4e20830\" xlink:show=\"new\" xlink:title=\"psysml:e950d6a4-fdbd-4650-aa0a-2ca4b4e20830\" xlink:type=\"simple\"><rect fill=\"#FFFFFF\" height=\"42.9375\" id=\"E7\" rx=\"10\" ry=\"10\" style=\"stroke: #383838; stroke-width: 1.5;\" width=\"60\" x=\"118\" y=\"297\"/><rect fill=\"#F8F8F8\" height=\"37.9375\" rx=\"10\" ry=\"10\" style=\"stroke: #F8F8F8; stroke-width: 1.5;\" width=\"60\" x=\"118\" y=\"297\"/><rect fill=\"#F8F8F8\" height=\"10\" style=\"stroke: #F8F8F8; stroke-width: 1.5;\" width=\"60\" x=\"118\" y=\"324.9375\"/><rect fill=\"none\" height=\"42.9375\" id=\"E7\" rx=\"10\" ry=\"10\" style=\"stroke: #383838; stroke-width: 1.5;\" width=\"60\" x=\"118\" y=\"297\"/><text fill=\"#000000\" font-family=\"sans-serif\" font-size=\"12\" font-style=\"italic\" lengthAdjust=\"spacingAndGlyphs\" textLength=\"53\" x=\"121.5\" y=\"313.1387\">«action»</text><text fill=\"#000000\" font-family=\"sans-serif\" font-size=\"12\" lengthAdjust=\"spacingAndGlyphs\" textLength=\"16\" x=\"140\" y=\"327.1074\">B2</text></a></g><!--MD5=[4d03bb2d0377dc85ccfab60ff574652b]\n",
       "link E2 to E4--><a href=\"psysml:4f9dc8d6-d6e0-48a2-bcc8-8318223d246b\" target=\"_top\" title=\"psysml:4f9dc8d6-d6e0-48a2-bcc8-8318223d246b\" xlink:actuate=\"onRequest\" xlink:href=\"psysml:4f9dc8d6-d6e0-48a2-bcc8-8318223d246b\" xlink:show=\"new\" xlink:title=\"psysml:4f9dc8d6-d6e0-48a2-bcc8-8318223d246b\" xlink:type=\"simple\"><path d=\"M136.13,101.14 C125.84,119.06 111.49,144.01 104.37,156.4 \" fill=\"none\" id=\"E2-&gt;E4\" style=\"stroke: #383838; stroke-width: 1.0;\"/><polygon fill=\"#383838\" points=\"101.79,160.88,109.7406,155.0673,104.2799,156.5441,102.8031,151.0834,101.79,160.88\" style=\"stroke: #383838; stroke-width: 1.0;\"/><text fill=\"#000000\" font-family=\"sans-serif\" font-size=\"13\" lengthAdjust=\"spacingAndGlyphs\" textLength=\"7\" x=\"93.6144\" y=\"150.0038\">*</text></a><!--MD5=[af87c684e3b0d8be13c1a698a818ef1e]\n",
       "link E3 to E4--><a href=\"psysml:d5a52d23-3eda-48ed-8e98-b9c24f218910\" target=\"_top\" title=\"psysml:d5a52d23-3eda-48ed-8e98-b9c24f218910\" xlink:actuate=\"onRequest\" xlink:href=\"psysml:d5a52d23-3eda-48ed-8e98-b9c24f218910\" xlink:show=\"new\" xlink:title=\"psysml:d5a52d23-3eda-48ed-8e98-b9c24f218910\" xlink:type=\"simple\"><path d=\"M64.62,101.14 C74.7,119.06 88.75,144.01 95.72,156.4 \" fill=\"none\" id=\"E3-&gt;E4\" style=\"stroke: #383838; stroke-width: 1.0;\"/><polygon fill=\"#383838\" points=\"98.25,160.88,97.3377,151.0735,95.8048,156.5187,90.3596,154.9858,98.25,160.88\" style=\"stroke: #383838; stroke-width: 1.0;\"/><text fill=\"#000000\" font-family=\"sans-serif\" font-size=\"13\" lengthAdjust=\"spacingAndGlyphs\" textLength=\"7\" x=\"99.4531\" y=\"150.0038\">*</text></a><!--MD5=[1b7591eae5389033d8d09a9d6721a717]\n",
       "link E4 to E5--><a href=\"psysml:822f1664-72e1-4116-b41f-1c0919a615e0\" target=\"_top\" title=\"psysml:822f1664-72e1-4116-b41f-1c0919a615e0\" xlink:actuate=\"onRequest\" xlink:href=\"psysml:822f1664-72e1-4116-b41f-1c0919a615e0\" xlink:show=\"new\" xlink:title=\"psysml:822f1664-72e1-4116-b41f-1c0919a615e0\" xlink:type=\"simple\"><path d=\"M100,169.18 C100,178.92 100,208.52 100,223.34 \" fill=\"none\" id=\"E4-&gt;E5\" style=\"stroke: #383838; stroke-width: 1.0;\"/><polygon fill=\"#383838\" points=\"100,228.69,104,219.69,100,223.69,96,219.69,100,228.69\" style=\"stroke: #383838; stroke-width: 1.0;\"/><text fill=\"#000000\" font-family=\"sans-serif\" font-size=\"13\" lengthAdjust=\"spacingAndGlyphs\" textLength=\"7\" x=\"90.6813\" y=\"217.9768\">*</text></a><!--MD5=[9120cf2e5df3bff93db8f754bbbc09b4]\n",
       "link E5 to E6--><a href=\"psysml:2360acce-0fc1-431a-bbc0-189c84da742a\" target=\"_top\" title=\"psysml:2360acce-0fc1-431a-bbc0-189c84da742a\" xlink:actuate=\"onRequest\" xlink:href=\"psysml:2360acce-0fc1-431a-bbc0-189c84da742a\" xlink:show=\"new\" xlink:title=\"psysml:2360acce-0fc1-431a-bbc0-189c84da742a\" xlink:type=\"simple\"><path d=\"M98.21,237.17 C93.16,246.14 78.41,272.36 67.11,292.43 \" fill=\"none\" id=\"E5-&gt;E6\" style=\"stroke: #383838; stroke-width: 1.0;\"/><polygon fill=\"#383838\" points=\"64.61,296.87,72.5151,290.9955,67.0661,292.5148,65.5467,287.0658,64.61,296.87\" style=\"stroke: #383838; stroke-width: 1.0;\"/><text fill=\"#000000\" font-family=\"sans-serif\" font-size=\"13\" lengthAdjust=\"spacingAndGlyphs\" textLength=\"7\" x=\"59.8909\" y=\"285.7715\">*</text></a><!--MD5=[3a9b96bfbf6b6ad89c494e81751bda47]\n",
       "link E5 to E7--><a href=\"psysml:ee81c625-3e17-4e8d-972a-76052e7a84e3\" target=\"_top\" title=\"psysml:ee81c625-3e17-4e8d-972a-76052e7a84e3\" xlink:actuate=\"onRequest\" xlink:href=\"psysml:ee81c625-3e17-4e8d-972a-76052e7a84e3\" xlink:show=\"new\" xlink:title=\"psysml:ee81c625-3e17-4e8d-972a-76052e7a84e3\" xlink:type=\"simple\"><path d=\"M101.82,237.17 C106.98,246.14 122.05,272.36 133.59,292.43 \" fill=\"none\" id=\"E5-&gt;E7\" style=\"stroke: #383838; stroke-width: 1.0;\"/><polygon fill=\"#383838\" points=\"136.14,296.87,135.1269,287.0734,133.6501,292.5341,128.1894,291.0573,136.14,296.87\" style=\"stroke: #383838; stroke-width: 1.0;\"/><text fill=\"#000000\" font-family=\"sans-serif\" font-size=\"13\" lengthAdjust=\"spacingAndGlyphs\" textLength=\"7\" x=\"124.82\" y=\"285.7715\">*</text></a><!--MD5=[e74b7628246a729fed5902784b0bb3fd]\n",
       "@startuml\r\n",
       " skinparam monochrome true\r\n",
       "skinparam classbackgroundcolor white\r\n",
       "skinparam shadowing false\r\n",
       "skinparam wrapWidth 300\r\n",
       "hide circle\r\n",
       "\r\n",
       "rec def \"ControlNodeTest\" as E1  <<(T,blue) action  def>> [[psysml:06c83ae0-0be1-4108-9f79-6c682626264b ]] {\r\n",
       "rec usage \"A1\" as E2  <<(T,blue) action>> [[psysml:b587d390-d46d-4840-bcaf-beb60201fdea ]] {\r\n",
       "}\r\n",
       "\r\n",
       "rec usage \"A2\" as E3  <<(T,blue) action>> [[psysml:2c010bd6-de88-4dc7-8be6-3edc78c34a31 ]] {\r\n",
       "}\r\n",
       "\r\n",
       "join \"J\" as E4  [[psysml:b80e7b99-08a2-49d6-9359-b424cf684151 ]] \r\n",
       "fork \"F\" as E5  [[psysml:df495c9b-9171-48f9-ac7d-26427115e0f4 ]] \r\n",
       "rec usage \"B1\" as E6  <<(T,blue) action>> [[psysml:b42821ea-70f6-43bd-9a67-84f3e511770a ]] {\r\n",
       "}\r\n",
       "\r\n",
       "rec usage \"B2\" as E7  <<(T,blue) action>> [[psysml:e950d6a4-fdbd-4650-aa0a-2ca4b4e20830 ]] {\r\n",
       "}\r\n",
       "\r\n",
       "}\r\n",
       "\r\n",
       "E2 - -> \"*\"E4 [[psysml:4f9dc8d6-d6e0-48a2-bcc8-8318223d246b ]] \r\n",
       "E3 - -> \"*\"E4 [[psysml:d5a52d23-3eda-48ed-8e98-b9c24f218910 ]] \r\n",
       "E4 - -> \"*\"E5 [[psysml:822f1664-72e1-4116-b41f-1c0919a615e0 ]] \r\n",
       "E5 - -> \"*\"E6 [[psysml:2360acce-0fc1-431a-bbc0-189c84da742a ]] \r\n",
       "E5 - -> \"*\"E7 [[psysml:ee81c625-3e17-4e8d-972a-76052e7a84e3 ]] \r\n",
       "@enduml\r\n",
       "\n",
       "PlantUML version 1.2020.13(Sat Jun 13 12:26:38 UTC 2020)\n",
       "(EPL source distribution)\n",
       "Java Runtime: OpenJDK Runtime Environment\n",
       "JVM: OpenJDK 64-Bit Server VM\n",
       "Default Encoding: UTF-8\n",
       "Language: en\n",
       "Country: null\n",
       "--></g></svg>"
      ]
     },
     "execution_count": 8,
     "metadata": {},
     "output_type": "execute_result"
    }
   ],
   "source": [
    "%viz --style=\"COMPTREE\" --view=\"MIXED\" \"ControlNodeTest\""
   ]
  },
  {
   "cell_type": "code",
   "execution_count": 9,
   "id": "7c887cbe",
   "metadata": {
    "execution": {
     "iopub.execute_input": "2022-02-18T10:46:08.988872Z",
     "iopub.status.busy": "2022-02-18T10:46:08.988454Z",
     "iopub.status.idle": "2022-02-18T10:46:09.038092Z",
     "shell.execute_reply": "2022-02-18T10:46:09.037703Z"
    }
   },
   "outputs": [
    {
     "data": {
      "image/svg+xml": [
       "<?xml version=\"1.0\" encoding=\"UTF-8\" standalone=\"no\"?><svg xmlns=\"http://www.w3.org/2000/svg\" xmlns:xlink=\"http://www.w3.org/1999/xlink\" contentScriptType=\"application/ecmascript\" contentStyleType=\"text/css\" height=\"367px\" preserveAspectRatio=\"none\" style=\"width:205px;height:367px;\" version=\"1.1\" viewBox=\"0 0 205 367\" width=\"205px\" zoomAndPan=\"magnify\"><defs/><g><!--MD5=[fbc87193dbaf4d95561dea2c320d4a47]\n",
       "cluster E1--><a href=\"psysml:06c83ae0-0be1-4108-9f79-6c682626264b\" target=\"_top\" title=\"psysml:06c83ae0-0be1-4108-9f79-6c682626264b\" xlink:actuate=\"onRequest\" xlink:href=\"psysml:06c83ae0-0be1-4108-9f79-6c682626264b\" xlink:show=\"new\" xlink:title=\"psysml:06c83ae0-0be1-4108-9f79-6c682626264b\" xlink:type=\"simple\"><rect fill=\"#FFFFFF\" height=\"349\" id=\"E1\" style=\"stroke: #383838; stroke-width: 1.5;\" width=\"187\" x=\"7\" y=\"7\"/><rect fill=\"#F8F8F8\" height=\"37.9375\" style=\"stroke: #383838; stroke-width: 1.5;\" width=\"187\" x=\"7\" y=\"7\"/><text fill=\"#000000\" font-family=\"sans-serif\" font-size=\"12\" font-style=\"italic\" lengthAdjust=\"spacingAndGlyphs\" textLength=\"81\" x=\"60\" y=\"23.1387\">«action  def»</text><text fill=\"#000000\" font-family=\"sans-serif\" font-size=\"12\" lengthAdjust=\"spacingAndGlyphs\" textLength=\"105\" x=\"48\" y=\"37.1074\">ControlNodeTest</text></a><rect fill=\"#000000\" height=\"8\" style=\"stroke: none; stroke-width: 1.0;\" width=\"80\" x=\"60\" y=\"161\"/><rect fill=\"#000000\" height=\"8\" style=\"stroke: none; stroke-width: 1.0;\" width=\"80\" x=\"60\" y=\"229\"/><g id=\"E1.E2\"><a href=\"psysml:b587d390-d46d-4840-bcaf-beb60201fdea\" target=\"_top\" title=\"psysml:b587d390-d46d-4840-bcaf-beb60201fdea\" xlink:actuate=\"onRequest\" xlink:href=\"psysml:b587d390-d46d-4840-bcaf-beb60201fdea\" xlink:show=\"new\" xlink:title=\"psysml:b587d390-d46d-4840-bcaf-beb60201fdea\" xlink:type=\"simple\"><rect fill=\"#FFFFFF\" height=\"42.9375\" id=\"E2\" rx=\"10\" ry=\"10\" style=\"stroke: #383838; stroke-width: 1.5;\" width=\"60\" x=\"118\" y=\"58\"/><rect fill=\"#F8F8F8\" height=\"37.9375\" rx=\"10\" ry=\"10\" style=\"stroke: #F8F8F8; stroke-width: 1.5;\" width=\"60\" x=\"118\" y=\"58\"/><rect fill=\"#F8F8F8\" height=\"10\" style=\"stroke: #F8F8F8; stroke-width: 1.5;\" width=\"60\" x=\"118\" y=\"85.9375\"/><rect fill=\"none\" height=\"42.9375\" id=\"E2\" rx=\"10\" ry=\"10\" style=\"stroke: #383838; stroke-width: 1.5;\" width=\"60\" x=\"118\" y=\"58\"/><text fill=\"#000000\" font-family=\"sans-serif\" font-size=\"12\" font-style=\"italic\" lengthAdjust=\"spacingAndGlyphs\" textLength=\"53\" x=\"121.5\" y=\"74.1387\">«action»</text><text fill=\"#000000\" font-family=\"sans-serif\" font-size=\"12\" lengthAdjust=\"spacingAndGlyphs\" textLength=\"16\" x=\"140\" y=\"88.1074\">A1</text></a></g><g id=\"E1.E3\"><a href=\"psysml:2c010bd6-de88-4dc7-8be6-3edc78c34a31\" target=\"_top\" title=\"psysml:2c010bd6-de88-4dc7-8be6-3edc78c34a31\" xlink:actuate=\"onRequest\" xlink:href=\"psysml:2c010bd6-de88-4dc7-8be6-3edc78c34a31\" xlink:show=\"new\" xlink:title=\"psysml:2c010bd6-de88-4dc7-8be6-3edc78c34a31\" xlink:type=\"simple\"><rect fill=\"#FFFFFF\" height=\"42.9375\" id=\"E3\" rx=\"10\" ry=\"10\" style=\"stroke: #383838; stroke-width: 1.5;\" width=\"60\" x=\"23\" y=\"58\"/><rect fill=\"#F8F8F8\" height=\"37.9375\" rx=\"10\" ry=\"10\" style=\"stroke: #F8F8F8; stroke-width: 1.5;\" width=\"60\" x=\"23\" y=\"58\"/><rect fill=\"#F8F8F8\" height=\"10\" style=\"stroke: #F8F8F8; stroke-width: 1.5;\" width=\"60\" x=\"23\" y=\"85.9375\"/><rect fill=\"none\" height=\"42.9375\" id=\"E3\" rx=\"10\" ry=\"10\" style=\"stroke: #383838; stroke-width: 1.5;\" width=\"60\" x=\"23\" y=\"58\"/><text fill=\"#000000\" font-family=\"sans-serif\" font-size=\"12\" font-style=\"italic\" lengthAdjust=\"spacingAndGlyphs\" textLength=\"53\" x=\"26.5\" y=\"74.1387\">«action»</text><text fill=\"#000000\" font-family=\"sans-serif\" font-size=\"12\" lengthAdjust=\"spacingAndGlyphs\" textLength=\"16\" x=\"45\" y=\"88.1074\">A2</text></a></g><g id=\"E1.E6\"><a href=\"psysml:b42821ea-70f6-43bd-9a67-84f3e511770a\" target=\"_top\" title=\"psysml:b42821ea-70f6-43bd-9a67-84f3e511770a\" xlink:actuate=\"onRequest\" xlink:href=\"psysml:b42821ea-70f6-43bd-9a67-84f3e511770a\" xlink:show=\"new\" xlink:title=\"psysml:b42821ea-70f6-43bd-9a67-84f3e511770a\" xlink:type=\"simple\"><rect fill=\"#FFFFFF\" height=\"42.9375\" id=\"E6\" rx=\"10\" ry=\"10\" style=\"stroke: #383838; stroke-width: 1.5;\" width=\"60\" x=\"23\" y=\"297\"/><rect fill=\"#F8F8F8\" height=\"37.9375\" rx=\"10\" ry=\"10\" style=\"stroke: #F8F8F8; stroke-width: 1.5;\" width=\"60\" x=\"23\" y=\"297\"/><rect fill=\"#F8F8F8\" height=\"10\" style=\"stroke: #F8F8F8; stroke-width: 1.5;\" width=\"60\" x=\"23\" y=\"324.9375\"/><rect fill=\"none\" height=\"42.9375\" id=\"E6\" rx=\"10\" ry=\"10\" style=\"stroke: #383838; stroke-width: 1.5;\" width=\"60\" x=\"23\" y=\"297\"/><text fill=\"#000000\" font-family=\"sans-serif\" font-size=\"12\" font-style=\"italic\" lengthAdjust=\"spacingAndGlyphs\" textLength=\"53\" x=\"26.5\" y=\"313.1387\">«action»</text><text fill=\"#000000\" font-family=\"sans-serif\" font-size=\"12\" lengthAdjust=\"spacingAndGlyphs\" textLength=\"16\" x=\"45\" y=\"327.1074\">B1</text></a></g><g id=\"E1.E7\"><a href=\"psysml:e950d6a4-fdbd-4650-aa0a-2ca4b4e20830\" target=\"_top\" title=\"psysml:e950d6a4-fdbd-4650-aa0a-2ca4b4e20830\" xlink:actuate=\"onRequest\" xlink:href=\"psysml:e950d6a4-fdbd-4650-aa0a-2ca4b4e20830\" xlink:show=\"new\" xlink:title=\"psysml:e950d6a4-fdbd-4650-aa0a-2ca4b4e20830\" xlink:type=\"simple\"><rect fill=\"#FFFFFF\" height=\"42.9375\" id=\"E7\" rx=\"10\" ry=\"10\" style=\"stroke: #383838; stroke-width: 1.5;\" width=\"60\" x=\"118\" y=\"297\"/><rect fill=\"#F8F8F8\" height=\"37.9375\" rx=\"10\" ry=\"10\" style=\"stroke: #F8F8F8; stroke-width: 1.5;\" width=\"60\" x=\"118\" y=\"297\"/><rect fill=\"#F8F8F8\" height=\"10\" style=\"stroke: #F8F8F8; stroke-width: 1.5;\" width=\"60\" x=\"118\" y=\"324.9375\"/><rect fill=\"none\" height=\"42.9375\" id=\"E7\" rx=\"10\" ry=\"10\" style=\"stroke: #383838; stroke-width: 1.5;\" width=\"60\" x=\"118\" y=\"297\"/><text fill=\"#000000\" font-family=\"sans-serif\" font-size=\"12\" font-style=\"italic\" lengthAdjust=\"spacingAndGlyphs\" textLength=\"53\" x=\"121.5\" y=\"313.1387\">«action»</text><text fill=\"#000000\" font-family=\"sans-serif\" font-size=\"12\" lengthAdjust=\"spacingAndGlyphs\" textLength=\"16\" x=\"140\" y=\"327.1074\">B2</text></a></g><!--MD5=[4d03bb2d0377dc85ccfab60ff574652b]\n",
       "link E2 to E4--><a href=\"psysml:4f9dc8d6-d6e0-48a2-bcc8-8318223d246b\" target=\"_top\" title=\"psysml:4f9dc8d6-d6e0-48a2-bcc8-8318223d246b\" xlink:actuate=\"onRequest\" xlink:href=\"psysml:4f9dc8d6-d6e0-48a2-bcc8-8318223d246b\" xlink:show=\"new\" xlink:title=\"psysml:4f9dc8d6-d6e0-48a2-bcc8-8318223d246b\" xlink:type=\"simple\"><path d=\"M136.13,101.14 C125.84,119.06 111.49,144.01 104.37,156.4 \" fill=\"none\" id=\"E2-&gt;E4\" style=\"stroke: #383838; stroke-width: 1.0;\"/><polygon fill=\"#383838\" points=\"101.79,160.88,109.7406,155.0673,104.2799,156.5441,102.8031,151.0834,101.79,160.88\" style=\"stroke: #383838; stroke-width: 1.0;\"/><text fill=\"#000000\" font-family=\"sans-serif\" font-size=\"13\" lengthAdjust=\"spacingAndGlyphs\" textLength=\"7\" x=\"93.6144\" y=\"150.0038\">*</text></a><!--MD5=[af87c684e3b0d8be13c1a698a818ef1e]\n",
       "link E3 to E4--><a href=\"psysml:d5a52d23-3eda-48ed-8e98-b9c24f218910\" target=\"_top\" title=\"psysml:d5a52d23-3eda-48ed-8e98-b9c24f218910\" xlink:actuate=\"onRequest\" xlink:href=\"psysml:d5a52d23-3eda-48ed-8e98-b9c24f218910\" xlink:show=\"new\" xlink:title=\"psysml:d5a52d23-3eda-48ed-8e98-b9c24f218910\" xlink:type=\"simple\"><path d=\"M64.62,101.14 C74.7,119.06 88.75,144.01 95.72,156.4 \" fill=\"none\" id=\"E3-&gt;E4\" style=\"stroke: #383838; stroke-width: 1.0;\"/><polygon fill=\"#383838\" points=\"98.25,160.88,97.3377,151.0735,95.8048,156.5187,90.3596,154.9858,98.25,160.88\" style=\"stroke: #383838; stroke-width: 1.0;\"/><text fill=\"#000000\" font-family=\"sans-serif\" font-size=\"13\" lengthAdjust=\"spacingAndGlyphs\" textLength=\"7\" x=\"99.4531\" y=\"150.0038\">*</text></a><!--MD5=[1b7591eae5389033d8d09a9d6721a717]\n",
       "link E4 to E5--><a href=\"psysml:822f1664-72e1-4116-b41f-1c0919a615e0\" target=\"_top\" title=\"psysml:822f1664-72e1-4116-b41f-1c0919a615e0\" xlink:actuate=\"onRequest\" xlink:href=\"psysml:822f1664-72e1-4116-b41f-1c0919a615e0\" xlink:show=\"new\" xlink:title=\"psysml:822f1664-72e1-4116-b41f-1c0919a615e0\" xlink:type=\"simple\"><path d=\"M100,169.18 C100,178.92 100,208.52 100,223.34 \" fill=\"none\" id=\"E4-&gt;E5\" style=\"stroke: #383838; stroke-width: 1.0;\"/><polygon fill=\"#383838\" points=\"100,228.69,104,219.69,100,223.69,96,219.69,100,228.69\" style=\"stroke: #383838; stroke-width: 1.0;\"/><text fill=\"#000000\" font-family=\"sans-serif\" font-size=\"13\" lengthAdjust=\"spacingAndGlyphs\" textLength=\"7\" x=\"90.6813\" y=\"217.9768\">*</text></a><!--MD5=[9120cf2e5df3bff93db8f754bbbc09b4]\n",
       "link E5 to E6--><a href=\"psysml:2360acce-0fc1-431a-bbc0-189c84da742a\" target=\"_top\" title=\"psysml:2360acce-0fc1-431a-bbc0-189c84da742a\" xlink:actuate=\"onRequest\" xlink:href=\"psysml:2360acce-0fc1-431a-bbc0-189c84da742a\" xlink:show=\"new\" xlink:title=\"psysml:2360acce-0fc1-431a-bbc0-189c84da742a\" xlink:type=\"simple\"><path d=\"M98.21,237.17 C93.16,246.14 78.41,272.36 67.11,292.43 \" fill=\"none\" id=\"E5-&gt;E6\" style=\"stroke: #383838; stroke-width: 1.0;\"/><polygon fill=\"#383838\" points=\"64.61,296.87,72.5151,290.9955,67.0661,292.5148,65.5467,287.0658,64.61,296.87\" style=\"stroke: #383838; stroke-width: 1.0;\"/><text fill=\"#000000\" font-family=\"sans-serif\" font-size=\"13\" lengthAdjust=\"spacingAndGlyphs\" textLength=\"7\" x=\"59.8909\" y=\"285.7715\">*</text></a><!--MD5=[3a9b96bfbf6b6ad89c494e81751bda47]\n",
       "link E5 to E7--><a href=\"psysml:ee81c625-3e17-4e8d-972a-76052e7a84e3\" target=\"_top\" title=\"psysml:ee81c625-3e17-4e8d-972a-76052e7a84e3\" xlink:actuate=\"onRequest\" xlink:href=\"psysml:ee81c625-3e17-4e8d-972a-76052e7a84e3\" xlink:show=\"new\" xlink:title=\"psysml:ee81c625-3e17-4e8d-972a-76052e7a84e3\" xlink:type=\"simple\"><path d=\"M101.82,237.17 C106.98,246.14 122.05,272.36 133.59,292.43 \" fill=\"none\" id=\"E5-&gt;E7\" style=\"stroke: #383838; stroke-width: 1.0;\"/><polygon fill=\"#383838\" points=\"136.14,296.87,135.1269,287.0734,133.6501,292.5341,128.1894,291.0573,136.14,296.87\" style=\"stroke: #383838; stroke-width: 1.0;\"/><text fill=\"#000000\" font-family=\"sans-serif\" font-size=\"13\" lengthAdjust=\"spacingAndGlyphs\" textLength=\"7\" x=\"124.82\" y=\"285.7715\">*</text></a><!--MD5=[090ba69e00b073f8710d4d42687c31f7]\n",
       "@startuml\r\n",
       "skinparam linetype polyline\r\n",
       "skinparam monochrome true\r\n",
       "skinparam classbackgroundcolor white\r\n",
       "skinparam shadowing false\r\n",
       "skinparam wrapWidth 300\r\n",
       "hide circle\r\n",
       "\r\n",
       "rec def \"ControlNodeTest\" as E1  <<(T,blue) action  def>> [[psysml:06c83ae0-0be1-4108-9f79-6c682626264b ]] {\r\n",
       "rec usage \"A1\" as E2  <<(T,blue) action>> [[psysml:b587d390-d46d-4840-bcaf-beb60201fdea ]] {\r\n",
       "}\r\n",
       "\r\n",
       "rec usage \"A2\" as E3  <<(T,blue) action>> [[psysml:2c010bd6-de88-4dc7-8be6-3edc78c34a31 ]] {\r\n",
       "}\r\n",
       "\r\n",
       "join \"J\" as E4  [[psysml:b80e7b99-08a2-49d6-9359-b424cf684151 ]] \r\n",
       "fork \"F\" as E5  [[psysml:df495c9b-9171-48f9-ac7d-26427115e0f4 ]] \r\n",
       "rec usage \"B1\" as E6  <<(T,blue) action>> [[psysml:b42821ea-70f6-43bd-9a67-84f3e511770a ]] {\r\n",
       "}\r\n",
       "\r\n",
       "rec usage \"B2\" as E7  <<(T,blue) action>> [[psysml:e950d6a4-fdbd-4650-aa0a-2ca4b4e20830 ]] {\r\n",
       "}\r\n",
       "\r\n",
       "}\r\n",
       "\r\n",
       "E2 - -> \"*\"E4 [[psysml:4f9dc8d6-d6e0-48a2-bcc8-8318223d246b ]] \r\n",
       "E3 - -> \"*\"E4 [[psysml:d5a52d23-3eda-48ed-8e98-b9c24f218910 ]] \r\n",
       "E4 - -> \"*\"E5 [[psysml:822f1664-72e1-4116-b41f-1c0919a615e0 ]] \r\n",
       "E5 - -> \"*\"E6 [[psysml:2360acce-0fc1-431a-bbc0-189c84da742a ]] \r\n",
       "E5 - -> \"*\"E7 [[psysml:ee81c625-3e17-4e8d-972a-76052e7a84e3 ]] \r\n",
       "@enduml\r\n",
       "\n",
       "PlantUML version 1.2020.13(Sat Jun 13 12:26:38 UTC 2020)\n",
       "(EPL source distribution)\n",
       "Java Runtime: OpenJDK Runtime Environment\n",
       "JVM: OpenJDK 64-Bit Server VM\n",
       "Default Encoding: UTF-8\n",
       "Language: en\n",
       "Country: null\n",
       "--></g></svg>"
      ]
     },
     "execution_count": 9,
     "metadata": {},
     "output_type": "execute_result"
    }
   ],
   "source": [
    "%viz --style=\"POLYLINE\" --view=\"Default\" \"ControlNodeTest\""
   ]
  },
  {
   "cell_type": "code",
   "execution_count": 10,
   "id": "2b4880ac",
   "metadata": {
    "execution": {
     "iopub.execute_input": "2022-02-18T10:46:09.088054Z",
     "iopub.status.busy": "2022-02-18T10:46:09.087586Z",
     "iopub.status.idle": "2022-02-18T10:46:09.207243Z",
     "shell.execute_reply": "2022-02-18T10:46:09.205753Z"
    }
   },
   "outputs": [
    {
     "data": {
      "image/svg+xml": [
       "<?xml version=\"1.0\" encoding=\"UTF-8\" standalone=\"no\"?><svg xmlns=\"http://www.w3.org/2000/svg\" xmlns:xlink=\"http://www.w3.org/1999/xlink\" contentScriptType=\"application/ecmascript\" contentStyleType=\"text/css\" height=\"250px\" preserveAspectRatio=\"none\" style=\"width:564px;height:250px;\" version=\"1.1\" viewBox=\"0 0 564 250\" width=\"564px\" zoomAndPan=\"magnify\"><defs/><g><!--MD5=[43c9051892ef23e1a46a86907403d788]\n",
       "class E1--><a href=\"psysml:06c83ae0-0be1-4108-9f79-6c682626264b\" target=\"_top\" title=\"psysml:06c83ae0-0be1-4108-9f79-6c682626264b\" xlink:actuate=\"onRequest\" xlink:href=\"psysml:06c83ae0-0be1-4108-9f79-6c682626264b\" xlink:show=\"new\" xlink:title=\"psysml:06c83ae0-0be1-4108-9f79-6c682626264b\" xlink:type=\"simple\"><rect fill=\"#FFFFFF\" height=\"126.7656\" id=\"E1\" style=\"stroke: #383838; stroke-width: 1.5;\" width=\"111\" x=\"224\" y=\"7\"/><text fill=\"#000000\" font-family=\"sans-serif\" font-size=\"12\" font-style=\"italic\" lengthAdjust=\"spacingAndGlyphs\" textLength=\"81\" x=\"239\" y=\"23.1387\">«action  def»</text><text fill=\"#000000\" font-family=\"sans-serif\" font-size=\"12\" lengthAdjust=\"spacingAndGlyphs\" textLength=\"105\" x=\"227\" y=\"37.1074\">ControlNodeTest</text><line style=\"stroke: #383838; stroke-width: 1.5;\" x1=\"225\" x2=\"334\" y1=\"44.9375\" y2=\"44.9375\"/><text fill=\"#000000\" font-family=\"sans-serif\" font-size=\"11\" lengthAdjust=\"spacingAndGlyphs\" textLength=\"36\" x=\"230\" y=\"75.9526\">then  J</text><text fill=\"#000000\" font-family=\"sans-serif\" font-size=\"11\" lengthAdjust=\"spacingAndGlyphs\" textLength=\"36\" x=\"230\" y=\"88.7573\">then  J</text><text fill=\"#000000\" font-family=\"sans-serif\" font-size=\"11\" lengthAdjust=\"spacingAndGlyphs\" textLength=\"25\" x=\"230\" y=\"101.562\">then</text><text fill=\"#000000\" font-family=\"sans-serif\" font-size=\"11\" lengthAdjust=\"spacingAndGlyphs\" textLength=\"48\" x=\"230\" y=\"114.3667\">then  B1</text><text fill=\"#000000\" font-family=\"sans-serif\" font-size=\"11\" lengthAdjust=\"spacingAndGlyphs\" textLength=\"48\" x=\"230\" y=\"127.1714\">then  B2</text><line style=\"stroke: #383838; stroke-width: 1.0;\" x1=\"225\" x2=\"244\" y1=\"59.3398\" y2=\"59.3398\"/><text fill=\"#000000\" font-family=\"sans-serif\" font-size=\"11\" lengthAdjust=\"spacingAndGlyphs\" textLength=\"71\" x=\"244\" y=\"62.6479\">successions</text><line style=\"stroke: #383838; stroke-width: 1.0;\" x1=\"315\" x2=\"334\" y1=\"59.3398\" y2=\"59.3398\"/></a><!--MD5=[b4997ac47864f28c2f74865a473b2911]\n",
       "class E2--><a href=\"psysml:b587d390-d46d-4840-bcaf-beb60201fdea\" target=\"_top\" title=\"psysml:b587d390-d46d-4840-bcaf-beb60201fdea\" xlink:actuate=\"onRequest\" xlink:href=\"psysml:b587d390-d46d-4840-bcaf-beb60201fdea\" xlink:show=\"new\" xlink:title=\"psysml:b587d390-d46d-4840-bcaf-beb60201fdea\" xlink:type=\"simple\"><rect fill=\"#FFFFFF\" height=\"45.9375\" id=\"E2\" rx=\"10\" ry=\"10\" style=\"stroke: #383838; stroke-width: 1.5;\" width=\"55\" x=\"7\" y=\"194\"/><text fill=\"#000000\" font-family=\"sans-serif\" font-size=\"12\" font-style=\"italic\" lengthAdjust=\"spacingAndGlyphs\" textLength=\"53\" x=\"8\" y=\"210.1387\">«action»</text><text fill=\"#000000\" font-family=\"sans-serif\" font-size=\"12\" lengthAdjust=\"spacingAndGlyphs\" textLength=\"16\" x=\"24.5\" y=\"224.1074\">A1</text><line style=\"stroke: #383838; stroke-width: 1.5;\" x1=\"8\" x2=\"61\" y1=\"231.9375\" y2=\"231.9375\"/></a><!--MD5=[09b614a08d8cba4a07c9adeb5e0fee81]\n",
       "class E3--><a href=\"psysml:2c010bd6-de88-4dc7-8be6-3edc78c34a31\" target=\"_top\" title=\"psysml:2c010bd6-de88-4dc7-8be6-3edc78c34a31\" xlink:actuate=\"onRequest\" xlink:href=\"psysml:2c010bd6-de88-4dc7-8be6-3edc78c34a31\" xlink:show=\"new\" xlink:title=\"psysml:2c010bd6-de88-4dc7-8be6-3edc78c34a31\" xlink:type=\"simple\"><rect fill=\"#FFFFFF\" height=\"45.9375\" id=\"E3\" rx=\"10\" ry=\"10\" style=\"stroke: #383838; stroke-width: 1.5;\" width=\"55\" x=\"97\" y=\"194\"/><text fill=\"#000000\" font-family=\"sans-serif\" font-size=\"12\" font-style=\"italic\" lengthAdjust=\"spacingAndGlyphs\" textLength=\"53\" x=\"98\" y=\"210.1387\">«action»</text><text fill=\"#000000\" font-family=\"sans-serif\" font-size=\"12\" lengthAdjust=\"spacingAndGlyphs\" textLength=\"16\" x=\"114.5\" y=\"224.1074\">A2</text><line style=\"stroke: #383838; stroke-width: 1.5;\" x1=\"98\" x2=\"151\" y1=\"231.9375\" y2=\"231.9375\"/></a><!--MD5=[ebbe1d658d1005bcc118a6aa81145e00]\n",
       "class E4--><a href=\"psysml:b80e7b99-08a2-49d6-9359-b424cf684151\" target=\"_top\" title=\"psysml:b80e7b99-08a2-49d6-9359-b424cf684151\" xlink:actuate=\"onRequest\" xlink:href=\"psysml:b80e7b99-08a2-49d6-9359-b424cf684151\" xlink:show=\"new\" xlink:title=\"psysml:b80e7b99-08a2-49d6-9359-b424cf684151\" xlink:type=\"simple\"><rect fill=\"#FFFFFF\" height=\"45.9375\" id=\"E4\" rx=\"10\" ry=\"10\" style=\"stroke: #383838; stroke-width: 1.5;\" width=\"74\" x=\"187.5\" y=\"194\"/><text fill=\"#000000\" font-family=\"sans-serif\" font-size=\"12\" font-style=\"italic\" lengthAdjust=\"spacingAndGlyphs\" textLength=\"72\" x=\"188.5\" y=\"210.1387\">«join node»</text><text fill=\"#000000\" font-family=\"sans-serif\" font-size=\"12\" lengthAdjust=\"spacingAndGlyphs\" textLength=\"3\" x=\"221\" y=\"224.1074\">J</text><line style=\"stroke: #383838; stroke-width: 1.5;\" x1=\"188.5\" x2=\"260.5\" y1=\"231.9375\" y2=\"231.9375\"/></a><!--MD5=[270fce915f116d4de14055a7c1d9a0f3]\n",
       "class E5--><a href=\"psysml:df495c9b-9171-48f9-ac7d-26427115e0f4\" target=\"_top\" title=\"psysml:df495c9b-9171-48f9-ac7d-26427115e0f4\" xlink:actuate=\"onRequest\" xlink:href=\"psysml:df495c9b-9171-48f9-ac7d-26427115e0f4\" xlink:show=\"new\" xlink:title=\"psysml:df495c9b-9171-48f9-ac7d-26427115e0f4\" xlink:type=\"simple\"><rect fill=\"#FFFFFF\" height=\"45.9375\" id=\"E5\" rx=\"10\" ry=\"10\" style=\"stroke: #383838; stroke-width: 1.5;\" width=\"76\" x=\"296.5\" y=\"194\"/><text fill=\"#000000\" font-family=\"sans-serif\" font-size=\"12\" font-style=\"italic\" lengthAdjust=\"spacingAndGlyphs\" textLength=\"74\" x=\"297.5\" y=\"210.1387\">«fork node»</text><text fill=\"#000000\" font-family=\"sans-serif\" font-size=\"12\" lengthAdjust=\"spacingAndGlyphs\" textLength=\"7\" x=\"329\" y=\"224.1074\">F</text><line style=\"stroke: #383838; stroke-width: 1.5;\" x1=\"297.5\" x2=\"371.5\" y1=\"231.9375\" y2=\"231.9375\"/></a><!--MD5=[60a26617385b1d2d0262a64233df1f8d]\n",
       "class E6--><a href=\"psysml:b42821ea-70f6-43bd-9a67-84f3e511770a\" target=\"_top\" title=\"psysml:b42821ea-70f6-43bd-9a67-84f3e511770a\" xlink:actuate=\"onRequest\" xlink:href=\"psysml:b42821ea-70f6-43bd-9a67-84f3e511770a\" xlink:show=\"new\" xlink:title=\"psysml:b42821ea-70f6-43bd-9a67-84f3e511770a\" xlink:type=\"simple\"><rect fill=\"#FFFFFF\" height=\"45.9375\" id=\"E6\" rx=\"10\" ry=\"10\" style=\"stroke: #383838; stroke-width: 1.5;\" width=\"55\" x=\"408\" y=\"194\"/><text fill=\"#000000\" font-family=\"sans-serif\" font-size=\"12\" font-style=\"italic\" lengthAdjust=\"spacingAndGlyphs\" textLength=\"53\" x=\"409\" y=\"210.1387\">«action»</text><text fill=\"#000000\" font-family=\"sans-serif\" font-size=\"12\" lengthAdjust=\"spacingAndGlyphs\" textLength=\"16\" x=\"425.5\" y=\"224.1074\">B1</text><line style=\"stroke: #383838; stroke-width: 1.5;\" x1=\"409\" x2=\"462\" y1=\"231.9375\" y2=\"231.9375\"/></a><!--MD5=[2156ba9850f5573cc1fc38a6a4b2f02b]\n",
       "class E7--><a href=\"psysml:e950d6a4-fdbd-4650-aa0a-2ca4b4e20830\" target=\"_top\" title=\"psysml:e950d6a4-fdbd-4650-aa0a-2ca4b4e20830\" xlink:actuate=\"onRequest\" xlink:href=\"psysml:e950d6a4-fdbd-4650-aa0a-2ca4b4e20830\" xlink:show=\"new\" xlink:title=\"psysml:e950d6a4-fdbd-4650-aa0a-2ca4b4e20830\" xlink:type=\"simple\"><rect fill=\"#FFFFFF\" height=\"45.9375\" id=\"E7\" rx=\"10\" ry=\"10\" style=\"stroke: #383838; stroke-width: 1.5;\" width=\"55\" x=\"498\" y=\"194\"/><text fill=\"#000000\" font-family=\"sans-serif\" font-size=\"12\" font-style=\"italic\" lengthAdjust=\"spacingAndGlyphs\" textLength=\"53\" x=\"499\" y=\"210.1387\">«action»</text><text fill=\"#000000\" font-family=\"sans-serif\" font-size=\"12\" lengthAdjust=\"spacingAndGlyphs\" textLength=\"16\" x=\"515.5\" y=\"224.1074\">B2</text><line style=\"stroke: #383838; stroke-width: 1.5;\" x1=\"499\" x2=\"552\" y1=\"231.9375\" y2=\"231.9375\"/></a><!--MD5=[a523cb2a0b79ecf9065ad8783f96c320]\n",
       "reverse link E1 to E2--><a href=\"psysml:8824560d-0356-45ea-8a7b-06baadbc63a3\" target=\"_top\" title=\"psysml:8824560d-0356-45ea-8a7b-06baadbc63a3\" xlink:actuate=\"onRequest\" xlink:href=\"psysml:8824560d-0356-45ea-8a7b-06baadbc63a3\" xlink:show=\"new\" xlink:title=\"psysml:8824560d-0356-45ea-8a7b-06baadbc63a3\" xlink:type=\"simple\"><path d=\"M212.66,110.92 C163.24,140.07 98.48,178.27 62.21,199.66 \" fill=\"none\" id=\"E1&lt;-E2\" style=\"stroke: #383838; stroke-width: 1.0;\"/><polygon fill=\"#383838\" points=\"223.91,104.29,216.71,103.89,213.5715,110.3823,220.7715,110.7823,223.91,104.29\" style=\"stroke: #383838; stroke-width: 1.0;\"/><text fill=\"#000000\" font-family=\"sans-serif\" font-size=\"13\" lengthAdjust=\"spacingAndGlyphs\" textLength=\"7\" x=\"69.8174\" y=\"190.6959\">*</text></a><!--MD5=[5d7b3810b1dd9b5164bea1151b29b665]\n",
       "reverse link E1 to E3--><a href=\"psysml:cbbe4b3e-f7e7-45b7-a67a-c33698d06c9d\" target=\"_top\" title=\"psysml:cbbe4b3e-f7e7-45b7-a67a-c33698d06c9d\" xlink:actuate=\"onRequest\" xlink:href=\"psysml:cbbe4b3e-f7e7-45b7-a67a-c33698d06c9d\" xlink:show=\"new\" xlink:title=\"psysml:cbbe4b3e-f7e7-45b7-a67a-c33698d06c9d\" xlink:type=\"simple\"><path d=\"M214.38,132.21 C190.87,154.12 165.81,177.49 148.14,193.96 \" fill=\"none\" id=\"E1&lt;-E3\" style=\"stroke: #383838; stroke-width: 1.0;\"/><polygon fill=\"#383838\" points=\"223.98,123.26,216.8638,124.4259,215.2029,131.4431,222.3192,130.2772,223.98,123.26\" style=\"stroke: #383838; stroke-width: 1.0;\"/><text fill=\"#000000\" font-family=\"sans-serif\" font-size=\"13\" lengthAdjust=\"spacingAndGlyphs\" textLength=\"7\" x=\"146.5526\" y=\"182.8455\">*</text></a><!--MD5=[f2c5c03aa1e8c0ba21c10a05e6444b8e]\n",
       "reverse link E1 to E4--><a href=\"psysml:8b2189df-ceef-42f5-8cc2-eeb8d6451d98\" target=\"_top\" title=\"psysml:8b2189df-ceef-42f5-8cc2-eeb8d6451d98\" xlink:actuate=\"onRequest\" xlink:href=\"psysml:8b2189df-ceef-42f5-8cc2-eeb8d6451d98\" xlink:show=\"new\" xlink:title=\"psysml:8b2189df-ceef-42f5-8cc2-eeb8d6451d98\" xlink:type=\"simple\"><path d=\"M251,146.38 C244.38,163.78 237.83,180.97 232.9,193.92 \" fill=\"none\" id=\"E1&lt;-E4\" style=\"stroke: #383838; stroke-width: 1.0;\"/><polygon fill=\"#383838\" points=\"255.7,134.04,249.8253,138.2218,251.4259,145.253,257.3006,141.0712,255.7,134.04\" style=\"stroke: #383838; stroke-width: 1.0;\"/></a><!--MD5=[33238bef88d6431a141d8bc8fb12bca0]\n",
       "reverse link E1 to E5--><a href=\"psysml:a82a5eef-dea6-4124-abec-2b50c8cafb15\" target=\"_top\" title=\"psysml:a82a5eef-dea6-4124-abec-2b50c8cafb15\" xlink:actuate=\"onRequest\" xlink:href=\"psysml:a82a5eef-dea6-4124-abec-2b50c8cafb15\" xlink:show=\"new\" xlink:title=\"psysml:a82a5eef-dea6-4124-abec-2b50c8cafb15\" xlink:type=\"simple\"><path d=\"M308,146.38 C314.62,163.78 321.17,180.97 326.1,193.92 \" fill=\"none\" id=\"E1&lt;-E5\" style=\"stroke: #383838; stroke-width: 1.0;\"/><polygon fill=\"#383838\" points=\"303.3,134.04,301.6994,141.0712,307.5741,145.253,309.1747,138.2218,303.3,134.04\" style=\"stroke: #383838; stroke-width: 1.0;\"/></a><!--MD5=[aca2ef284c2b1b90e17e73bf3f292c07]\n",
       "reverse link E1 to E6--><a href=\"psysml:fa0fa50c-58e4-4afc-aadf-ea60f0cb1460\" target=\"_top\" title=\"psysml:fa0fa50c-58e4-4afc-aadf-ea60f0cb1460\" xlink:actuate=\"onRequest\" xlink:href=\"psysml:fa0fa50c-58e4-4afc-aadf-ea60f0cb1460\" xlink:show=\"new\" xlink:title=\"psysml:fa0fa50c-58e4-4afc-aadf-ea60f0cb1460\" xlink:type=\"simple\"><path d=\"M345.04,132.21 C368.7,154.12 393.92,177.49 411.71,193.96 \" fill=\"none\" id=\"E1&lt;-E6\" style=\"stroke: #383838; stroke-width: 1.0;\"/><polygon fill=\"#383838\" points=\"335.38,123.26,337.057,130.2734,344.1759,131.4229,342.4989,124.4095,335.38,123.26\" style=\"stroke: #383838; stroke-width: 1.0;\"/><text fill=\"#000000\" font-family=\"sans-serif\" font-size=\"13\" lengthAdjust=\"spacingAndGlyphs\" textLength=\"7\" x=\"397.3758\" y=\"182.8455\">*</text></a><!--MD5=[fc9706a6b2cf8c0e423679d303750d3f]\n",
       "reverse link E1 to E7--><a href=\"psysml:49466f58-4643-4906-96c1-3a5676eba647\" target=\"_top\" title=\"psysml:49466f58-4643-4906-96c1-3a5676eba647\" xlink:actuate=\"onRequest\" xlink:href=\"psysml:49466f58-4643-4906-96c1-3a5676eba647\" xlink:show=\"new\" xlink:title=\"psysml:49466f58-4643-4906-96c1-3a5676eba647\" xlink:type=\"simple\"><path d=\"M346.34,110.76 C396.11,140 461.5,178.41 497.94,199.81 \" fill=\"none\" id=\"E1&lt;-E7\" style=\"stroke: #383838; stroke-width: 1.0;\"/><polygon fill=\"#383838\" points=\"335.01,104.11,338.1582,110.5976,345.3576,110.1868,342.2094,103.6992,335.01,104.11\" style=\"stroke: #383838; stroke-width: 1.0;\"/><text fill=\"#000000\" font-family=\"sans-serif\" font-size=\"13\" lengthAdjust=\"spacingAndGlyphs\" textLength=\"7\" x=\"482.9809\" y=\"190.5751\">*</text></a><!--MD5=[25bc5a519499822199815b8046846b74]\n",
       "@startuml\r\n",
       "skinparam linetype polyline\r\n",
       "skinparam monochrome true\r\n",
       "skinparam classbackgroundcolor white\r\n",
       "skinparam shadowing false\r\n",
       "skinparam wrapWidth 300\r\n",
       "hide circle\r\n",
       "\r\n",
       "comp def \"ControlNodeTest\" as E1  <<(T,blue) action  def>> [[psysml:06c83ae0-0be1-4108-9f79-6c682626264b ]] {\r\n",
       "- - successions - -\r\n",
       " then  J\r\n",
       " then  J\r\n",
       " then \r\n",
       " then  B1\r\n",
       " then  B2\r\n",
       "}\r\n",
       "comp usage \"A1 \" as E2  <<(T,blue) action>> [[psysml:b587d390-d46d-4840-bcaf-beb60201fdea ]] {\r\n",
       "}\r\n",
       "comp usage \"A2 \" as E3  <<(T,blue) action>> [[psysml:2c010bd6-de88-4dc7-8be6-3edc78c34a31 ]] {\r\n",
       "}\r\n",
       "comp usage \"J \" as E4  <<(T,blue) join node>> [[psysml:b80e7b99-08a2-49d6-9359-b424cf684151 ]] {\r\n",
       "}\r\n",
       "comp usage \"F \" as E5  <<(T,blue) fork node>> [[psysml:df495c9b-9171-48f9-ac7d-26427115e0f4 ]] {\r\n",
       "}\r\n",
       "comp usage \"B1 \" as E6  <<(T,blue) action>> [[psysml:b42821ea-70f6-43bd-9a67-84f3e511770a ]] {\r\n",
       "}\r\n",
       "comp usage \"B2 \" as E7  <<(T,blue) action>> [[psysml:e950d6a4-fdbd-4650-aa0a-2ca4b4e20830 ]] {\r\n",
       "}\r\n",
       "E1 *- - \"*\"E2 [[psysml:8824560d-0356-45ea-8a7b-06baadbc63a3 ]] \r\n",
       "E1 *- - \"*\"E3 [[psysml:cbbe4b3e-f7e7-45b7-a67a-c33698d06c9d ]] \r\n",
       "E1 *- - E4 [[psysml:8b2189df-ceef-42f5-8cc2-eeb8d6451d98 ]] \r\n",
       "E1 *- - E5 [[psysml:a82a5eef-dea6-4124-abec-2b50c8cafb15 ]] \r\n",
       "E1 *- - \"*\"E6 [[psysml:fa0fa50c-58e4-4afc-aadf-ea60f0cb1460 ]] \r\n",
       "E1 *- - \"*\"E7 [[psysml:49466f58-4643-4906-96c1-3a5676eba647 ]] \r\n",
       "@enduml\r\n",
       "\n",
       "PlantUML version 1.2020.13(Sat Jun 13 12:26:38 UTC 2020)\n",
       "(EPL source distribution)\n",
       "Java Runtime: OpenJDK Runtime Environment\n",
       "JVM: OpenJDK 64-Bit Server VM\n",
       "Default Encoding: UTF-8\n",
       "Language: en\n",
       "Country: null\n",
       "--></g></svg>"
      ]
     },
     "execution_count": 10,
     "metadata": {},
     "output_type": "execute_result"
    }
   ],
   "source": [
    "%viz --style=\"POLYLINE\" --view=\"Tree\" \"ControlNodeTest\""
   ]
  },
  {
   "cell_type": "code",
   "execution_count": 11,
   "id": "dd5f8a82",
   "metadata": {
    "execution": {
     "iopub.execute_input": "2022-02-18T10:46:09.256283Z",
     "iopub.status.busy": "2022-02-18T10:46:09.255859Z",
     "iopub.status.idle": "2022-02-18T10:46:09.263512Z",
     "shell.execute_reply": "2022-02-18T10:46:09.263877Z"
    }
   },
   "outputs": [
    {
     "data": {
      "image/svg+xml": [
       "<?xml version=\"1.0\" encoding=\"UTF-8\" standalone=\"no\"?><svg xmlns=\"http://www.w3.org/2000/svg\" xmlns:xlink=\"http://www.w3.org/1999/xlink\" contentScriptType=\"application/ecmascript\" contentStyleType=\"text/css\" height=\"12px\" preserveAspectRatio=\"none\" style=\"width:12px;height:12px;\" version=\"1.1\" viewBox=\"0 0 12 12\" width=\"12px\" zoomAndPan=\"magnify\"><defs/><g><!--MD5=[896ac0e7a515d8dd7765a661cb4ee08b]\n",
       "@startuml\r\n",
       "skinparam linetype polyline\r\n",
       "skinparam monochrome true\r\n",
       "skinparam classbackgroundcolor white\r\n",
       "skinparam shadowing false\r\n",
       "skinparam wrapWidth 300\r\n",
       "hide circle\r\n",
       "\r\n",
       "@enduml\r\n",
       "\n",
       "PlantUML version 1.2020.13(Sat Jun 13 12:26:38 UTC 2020)\n",
       "(EPL source distribution)\n",
       "Java Runtime: OpenJDK Runtime Environment\n",
       "JVM: OpenJDK 64-Bit Server VM\n",
       "Default Encoding: UTF-8\n",
       "Language: en\n",
       "Country: null\n",
       "--></g></svg>"
      ]
     },
     "execution_count": 11,
     "metadata": {},
     "output_type": "execute_result"
    }
   ],
   "source": [
    "%viz --style=\"POLYLINE\" --view=\"State\" \"ControlNodeTest\""
   ]
  },
  {
   "cell_type": "code",
   "execution_count": 12,
   "id": "f22ca662",
   "metadata": {
    "execution": {
     "iopub.execute_input": "2022-02-18T10:46:09.314271Z",
     "iopub.status.busy": "2022-02-18T10:46:09.313800Z",
     "iopub.status.idle": "2022-02-18T10:46:09.358785Z",
     "shell.execute_reply": "2022-02-18T10:46:09.359151Z"
    }
   },
   "outputs": [
    {
     "data": {
      "image/svg+xml": [
       "<?xml version=\"1.0\" encoding=\"UTF-8\" standalone=\"no\"?><svg xmlns=\"http://www.w3.org/2000/svg\" xmlns:xlink=\"http://www.w3.org/1999/xlink\" contentScriptType=\"application/ecmascript\" contentStyleType=\"text/css\" height=\"217px\" preserveAspectRatio=\"none\" style=\"width:205px;height:217px;\" version=\"1.1\" viewBox=\"0 0 205 217\" width=\"205px\" zoomAndPan=\"magnify\"><defs/><g><!--MD5=[fbc87193dbaf4d95561dea2c320d4a47]\n",
       "cluster E1--><a href=\"psysml:06c83ae0-0be1-4108-9f79-6c682626264b\" target=\"_top\" title=\"psysml:06c83ae0-0be1-4108-9f79-6c682626264b\" xlink:actuate=\"onRequest\" xlink:href=\"psysml:06c83ae0-0be1-4108-9f79-6c682626264b\" xlink:show=\"new\" xlink:title=\"psysml:06c83ae0-0be1-4108-9f79-6c682626264b\" xlink:type=\"simple\"><rect fill=\"#FFFFFF\" height=\"199\" id=\"E1\" style=\"stroke: #383838; stroke-width: 1.5;\" width=\"187\" x=\"7\" y=\"7\"/><rect fill=\"#F8F8F8\" height=\"37.9375\" style=\"stroke: #383838; stroke-width: 1.5;\" width=\"187\" x=\"7\" y=\"7\"/><text fill=\"#000000\" font-family=\"sans-serif\" font-size=\"12\" font-style=\"italic\" lengthAdjust=\"spacingAndGlyphs\" textLength=\"81\" x=\"60\" y=\"23.1387\">«action  def»</text><text fill=\"#000000\" font-family=\"sans-serif\" font-size=\"12\" lengthAdjust=\"spacingAndGlyphs\" textLength=\"105\" x=\"48\" y=\"37.1074\">ControlNodeTest</text></a><rect fill=\"#000000\" height=\"8\" style=\"stroke: none; stroke-width: 1.0;\" width=\"80\" x=\"60\" y=\"111\"/><rect fill=\"#000000\" height=\"8\" style=\"stroke: none; stroke-width: 1.0;\" width=\"80\" x=\"60\" y=\"129\"/><g id=\"E1.E2\"><a href=\"psysml:b587d390-d46d-4840-bcaf-beb60201fdea\" target=\"_top\" title=\"psysml:b587d390-d46d-4840-bcaf-beb60201fdea\" xlink:actuate=\"onRequest\" xlink:href=\"psysml:b587d390-d46d-4840-bcaf-beb60201fdea\" xlink:show=\"new\" xlink:title=\"psysml:b587d390-d46d-4840-bcaf-beb60201fdea\" xlink:type=\"simple\"><rect fill=\"#FFFFFF\" height=\"42.9375\" id=\"E2\" rx=\"10\" ry=\"10\" style=\"stroke: #383838; stroke-width: 1.5;\" width=\"60\" x=\"118\" y=\"58\"/><rect fill=\"#F8F8F8\" height=\"37.9375\" rx=\"10\" ry=\"10\" style=\"stroke: #F8F8F8; stroke-width: 1.5;\" width=\"60\" x=\"118\" y=\"58\"/><rect fill=\"#F8F8F8\" height=\"10\" style=\"stroke: #F8F8F8; stroke-width: 1.5;\" width=\"60\" x=\"118\" y=\"85.9375\"/><rect fill=\"none\" height=\"42.9375\" id=\"E2\" rx=\"10\" ry=\"10\" style=\"stroke: #383838; stroke-width: 1.5;\" width=\"60\" x=\"118\" y=\"58\"/><text fill=\"#000000\" font-family=\"sans-serif\" font-size=\"12\" font-style=\"italic\" lengthAdjust=\"spacingAndGlyphs\" textLength=\"53\" x=\"121.5\" y=\"74.1387\">«action»</text><text fill=\"#000000\" font-family=\"sans-serif\" font-size=\"12\" lengthAdjust=\"spacingAndGlyphs\" textLength=\"16\" x=\"140\" y=\"88.1074\">A1</text></a></g><g id=\"E1.E3\"><a href=\"psysml:2c010bd6-de88-4dc7-8be6-3edc78c34a31\" target=\"_top\" title=\"psysml:2c010bd6-de88-4dc7-8be6-3edc78c34a31\" xlink:actuate=\"onRequest\" xlink:href=\"psysml:2c010bd6-de88-4dc7-8be6-3edc78c34a31\" xlink:show=\"new\" xlink:title=\"psysml:2c010bd6-de88-4dc7-8be6-3edc78c34a31\" xlink:type=\"simple\"><rect fill=\"#FFFFFF\" height=\"42.9375\" id=\"E3\" rx=\"10\" ry=\"10\" style=\"stroke: #383838; stroke-width: 1.5;\" width=\"60\" x=\"23\" y=\"58\"/><rect fill=\"#F8F8F8\" height=\"37.9375\" rx=\"10\" ry=\"10\" style=\"stroke: #F8F8F8; stroke-width: 1.5;\" width=\"60\" x=\"23\" y=\"58\"/><rect fill=\"#F8F8F8\" height=\"10\" style=\"stroke: #F8F8F8; stroke-width: 1.5;\" width=\"60\" x=\"23\" y=\"85.9375\"/><rect fill=\"none\" height=\"42.9375\" id=\"E3\" rx=\"10\" ry=\"10\" style=\"stroke: #383838; stroke-width: 1.5;\" width=\"60\" x=\"23\" y=\"58\"/><text fill=\"#000000\" font-family=\"sans-serif\" font-size=\"12\" font-style=\"italic\" lengthAdjust=\"spacingAndGlyphs\" textLength=\"53\" x=\"26.5\" y=\"74.1387\">«action»</text><text fill=\"#000000\" font-family=\"sans-serif\" font-size=\"12\" lengthAdjust=\"spacingAndGlyphs\" textLength=\"16\" x=\"45\" y=\"88.1074\">A2</text></a></g><g id=\"E1.E6\"><a href=\"psysml:b42821ea-70f6-43bd-9a67-84f3e511770a\" target=\"_top\" title=\"psysml:b42821ea-70f6-43bd-9a67-84f3e511770a\" xlink:actuate=\"onRequest\" xlink:href=\"psysml:b42821ea-70f6-43bd-9a67-84f3e511770a\" xlink:show=\"new\" xlink:title=\"psysml:b42821ea-70f6-43bd-9a67-84f3e511770a\" xlink:type=\"simple\"><rect fill=\"#FFFFFF\" height=\"42.9375\" id=\"E6\" rx=\"10\" ry=\"10\" style=\"stroke: #383838; stroke-width: 1.5;\" width=\"60\" x=\"23\" y=\"147\"/><rect fill=\"#F8F8F8\" height=\"37.9375\" rx=\"10\" ry=\"10\" style=\"stroke: #F8F8F8; stroke-width: 1.5;\" width=\"60\" x=\"23\" y=\"147\"/><rect fill=\"#F8F8F8\" height=\"10\" style=\"stroke: #F8F8F8; stroke-width: 1.5;\" width=\"60\" x=\"23\" y=\"174.9375\"/><rect fill=\"none\" height=\"42.9375\" id=\"E6\" rx=\"10\" ry=\"10\" style=\"stroke: #383838; stroke-width: 1.5;\" width=\"60\" x=\"23\" y=\"147\"/><text fill=\"#000000\" font-family=\"sans-serif\" font-size=\"12\" font-style=\"italic\" lengthAdjust=\"spacingAndGlyphs\" textLength=\"53\" x=\"26.5\" y=\"163.1387\">«action»</text><text fill=\"#000000\" font-family=\"sans-serif\" font-size=\"12\" lengthAdjust=\"spacingAndGlyphs\" textLength=\"16\" x=\"45\" y=\"177.1074\">B1</text></a></g><g id=\"E1.E7\"><a href=\"psysml:e950d6a4-fdbd-4650-aa0a-2ca4b4e20830\" target=\"_top\" title=\"psysml:e950d6a4-fdbd-4650-aa0a-2ca4b4e20830\" xlink:actuate=\"onRequest\" xlink:href=\"psysml:e950d6a4-fdbd-4650-aa0a-2ca4b4e20830\" xlink:show=\"new\" xlink:title=\"psysml:e950d6a4-fdbd-4650-aa0a-2ca4b4e20830\" xlink:type=\"simple\"><rect fill=\"#FFFFFF\" height=\"42.9375\" id=\"E7\" rx=\"10\" ry=\"10\" style=\"stroke: #383838; stroke-width: 1.5;\" width=\"60\" x=\"118\" y=\"147\"/><rect fill=\"#F8F8F8\" height=\"37.9375\" rx=\"10\" ry=\"10\" style=\"stroke: #F8F8F8; stroke-width: 1.5;\" width=\"60\" x=\"118\" y=\"147\"/><rect fill=\"#F8F8F8\" height=\"10\" style=\"stroke: #F8F8F8; stroke-width: 1.5;\" width=\"60\" x=\"118\" y=\"174.9375\"/><rect fill=\"none\" height=\"42.9375\" id=\"E7\" rx=\"10\" ry=\"10\" style=\"stroke: #383838; stroke-width: 1.5;\" width=\"60\" x=\"118\" y=\"147\"/><text fill=\"#000000\" font-family=\"sans-serif\" font-size=\"12\" font-style=\"italic\" lengthAdjust=\"spacingAndGlyphs\" textLength=\"53\" x=\"121.5\" y=\"163.1387\">«action»</text><text fill=\"#000000\" font-family=\"sans-serif\" font-size=\"12\" lengthAdjust=\"spacingAndGlyphs\" textLength=\"16\" x=\"140\" y=\"177.1074\">B2</text></a></g><!--MD5=[4d03bb2d0377dc85ccfab60ff574652b]\n",
       "link E2 to E4--><a href=\"psysml:4f9dc8d6-d6e0-48a2-bcc8-8318223d246b\" target=\"_top\" title=\"psysml:4f9dc8d6-d6e0-48a2-bcc8-8318223d246b\" xlink:actuate=\"onRequest\" xlink:href=\"psysml:4f9dc8d6-d6e0-48a2-bcc8-8318223d246b\" xlink:show=\"new\" xlink:title=\"psysml:4f9dc8d6-d6e0-48a2-bcc8-8318223d246b\" xlink:type=\"simple\"><path d=\"M118.42,101.14 C114.95,103.57 111.64,105.88 108.81,107.85 \" fill=\"none\" id=\"E2-&gt;E4\" style=\"stroke: #383838; stroke-width: 1.0;\"/><polygon fill=\"#383838\" points=\"104.3,111,113.9709,109.1361,108.4022,108.1413,109.397,102.5726,104.3,111\" style=\"stroke: #383838; stroke-width: 1.0;\"/><text fill=\"#000000\" font-family=\"sans-serif\" font-size=\"13\" lengthAdjust=\"spacingAndGlyphs\" textLength=\"7\" x=\"97.87\" y=\"99.9205\">*</text></a><!--MD5=[af87c684e3b0d8be13c1a698a818ef1e]\n",
       "link E3 to E4--><a href=\"psysml:d5a52d23-3eda-48ed-8e98-b9c24f218910\" target=\"_top\" title=\"psysml:d5a52d23-3eda-48ed-8e98-b9c24f218910\" xlink:actuate=\"onRequest\" xlink:href=\"psysml:d5a52d23-3eda-48ed-8e98-b9c24f218910\" xlink:show=\"new\" xlink:title=\"psysml:d5a52d23-3eda-48ed-8e98-b9c24f218910\" xlink:type=\"simple\"><path d=\"M81.96,101.14 C85.36,103.57 88.6,105.88 91.37,107.85 \" fill=\"none\" id=\"E3-&gt;E4\" style=\"stroke: #383838; stroke-width: 1.0;\"/><polygon fill=\"#383838\" points=\"95.79,111,90.7801,102.5206,91.7175,108.0992,86.1388,109.0366,95.79,111\" style=\"stroke: #383838; stroke-width: 1.0;\"/><text fill=\"#000000\" font-family=\"sans-serif\" font-size=\"13\" lengthAdjust=\"spacingAndGlyphs\" textLength=\"7\" x=\"91.1121\" y=\"103.6092\">*</text></a><!--MD5=[1b7591eae5389033d8d09a9d6721a717]\n",
       "link E4 to E5--><a href=\"psysml:822f1664-72e1-4116-b41f-1c0919a615e0\" target=\"_top\" title=\"psysml:822f1664-72e1-4116-b41f-1c0919a615e0\" xlink:actuate=\"onRequest\" xlink:href=\"psysml:822f1664-72e1-4116-b41f-1c0919a615e0\" xlink:show=\"new\" xlink:title=\"psysml:822f1664-72e1-4116-b41f-1c0919a615e0\" xlink:type=\"simple\"><path d=\"M100,119.08 C100,120.38 100,121.95 100,123.55 \" fill=\"none\" id=\"E4-&gt;E5\" style=\"stroke: #383838; stroke-width: 1.0;\"/><polygon fill=\"#383838\" points=\"100,128.7,104,119.7,100,123.7,96,119.7,100,128.7\" style=\"stroke: #383838; stroke-width: 1.0;\"/><text fill=\"#000000\" font-family=\"sans-serif\" font-size=\"13\" lengthAdjust=\"spacingAndGlyphs\" textLength=\"7\" x=\"42.9663\" y=\"135.9509\">*</text></a><!--MD5=[9120cf2e5df3bff93db8f754bbbc09b4]\n",
       "link E5 to E6--><a href=\"psysml:2360acce-0fc1-431a-bbc0-189c84da742a\" target=\"_top\" title=\"psysml:2360acce-0fc1-431a-bbc0-189c84da742a\" xlink:actuate=\"onRequest\" xlink:href=\"psysml:2360acce-0fc1-431a-bbc0-189c84da742a\" xlink:show=\"new\" xlink:title=\"psysml:2360acce-0fc1-431a-bbc0-189c84da742a\" xlink:type=\"simple\"><path d=\"M95.66,137.09 C93.25,138.81 89.99,141.13 86.35,143.73 \" fill=\"none\" id=\"E5-&gt;E6\" style=\"stroke: #383838; stroke-width: 1.0;\"/><polygon fill=\"#383838\" points=\"81.93,146.88,91.5812,144.9166,86.0025,143.9792,86.9399,138.4006,81.93,146.88\" style=\"stroke: #383838; stroke-width: 1.0;\"/><text fill=\"#000000\" font-family=\"sans-serif\" font-size=\"13\" lengthAdjust=\"spacingAndGlyphs\" textLength=\"7\" x=\"91.0509\" y=\"155.0031\">*</text></a><!--MD5=[3a9b96bfbf6b6ad89c494e81751bda47]\n",
       "link E5 to E7--><a href=\"psysml:ee81c625-3e17-4e8d-972a-76052e7a84e3\" target=\"_top\" title=\"psysml:ee81c625-3e17-4e8d-972a-76052e7a84e3\" xlink:actuate=\"onRequest\" xlink:href=\"psysml:ee81c625-3e17-4e8d-972a-76052e7a84e3\" xlink:show=\"new\" xlink:title=\"psysml:ee81c625-3e17-4e8d-972a-76052e7a84e3\" xlink:type=\"simple\"><path d=\"M104.43,137.09 C106.9,138.81 110.22,141.13 113.94,143.73 \" fill=\"none\" id=\"E5-&gt;E7\" style=\"stroke: #383838; stroke-width: 1.0;\"/><polygon fill=\"#383838\" points=\"118.46,146.88,113.3827,138.4407,114.3645,144.0117,108.7935,144.9935,118.46,146.88\" style=\"stroke: #383838; stroke-width: 1.0;\"/><text fill=\"#000000\" font-family=\"sans-serif\" font-size=\"13\" lengthAdjust=\"spacingAndGlyphs\" textLength=\"7\" x=\"102.9935\" y=\"155.3537\">*</text></a><!--MD5=[d7f546709635f6a6120afe4b8fb4046e]\n",
       "@startuml\r\n",
       "skinparam ranksep 10\r\n",
       "skinparam rectangle {\r\n",
       " backgroundColor<<block>> LightGreen\r\n",
       "}\r\n",
       "skinparam linetype polyline\r\n",
       "skinparam monochrome true\r\n",
       "skinparam classbackgroundcolor white\r\n",
       "skinparam shadowing false\r\n",
       "skinparam wrapWidth 300\r\n",
       "hide circle\r\n",
       "\r\n",
       "rec def \"ControlNodeTest\" as E1  <<(T,blue) action  def>> [[psysml:06c83ae0-0be1-4108-9f79-6c682626264b ]] {\r\n",
       "rec usage \"A1\" as E2  <<(T,blue) action>> [[psysml:b587d390-d46d-4840-bcaf-beb60201fdea ]] {\r\n",
       "}\r\n",
       "\r\n",
       "rec usage \"A2\" as E3  <<(T,blue) action>> [[psysml:2c010bd6-de88-4dc7-8be6-3edc78c34a31 ]] {\r\n",
       "}\r\n",
       "\r\n",
       "join \"J\" as E4  [[psysml:b80e7b99-08a2-49d6-9359-b424cf684151 ]] \r\n",
       "fork \"F\" as E5  [[psysml:df495c9b-9171-48f9-ac7d-26427115e0f4 ]] \r\n",
       "rec usage \"B1\" as E6  <<(T,blue) action>> [[psysml:b42821ea-70f6-43bd-9a67-84f3e511770a ]] {\r\n",
       "}\r\n",
       "\r\n",
       "rec usage \"B2\" as E7  <<(T,blue) action>> [[psysml:e950d6a4-fdbd-4650-aa0a-2ca4b4e20830 ]] {\r\n",
       "}\r\n",
       "\r\n",
       "}\r\n",
       "\r\n",
       "E2 - -> \"*\"E4 [[psysml:4f9dc8d6-d6e0-48a2-bcc8-8318223d246b ]] \r\n",
       "E3 - -> \"*\"E4 [[psysml:d5a52d23-3eda-48ed-8e98-b9c24f218910 ]] \r\n",
       "E4 - -> \"*\"E5 [[psysml:822f1664-72e1-4116-b41f-1c0919a615e0 ]] \r\n",
       "E5 - -> \"*\"E6 [[psysml:2360acce-0fc1-431a-bbc0-189c84da742a ]] \r\n",
       "E5 - -> \"*\"E7 [[psysml:ee81c625-3e17-4e8d-972a-76052e7a84e3 ]] \r\n",
       "@enduml\r\n",
       "\n",
       "PlantUML version 1.2020.13(Sat Jun 13 12:26:38 UTC 2020)\n",
       "(EPL source distribution)\n",
       "Java Runtime: OpenJDK Runtime Environment\n",
       "JVM: OpenJDK 64-Bit Server VM\n",
       "Default Encoding: UTF-8\n",
       "Language: en\n",
       "Country: null\n",
       "--></g></svg>"
      ]
     },
     "execution_count": 12,
     "metadata": {},
     "output_type": "execute_result"
    }
   ],
   "source": [
    "%viz --style=\"POLYLINE\" --view=\"Interconnection\" \"ControlNodeTest\""
   ]
  },
  {
   "cell_type": "code",
   "execution_count": 13,
   "id": "4bed5b98",
   "metadata": {
    "execution": {
     "iopub.execute_input": "2022-02-18T10:46:09.409054Z",
     "iopub.status.busy": "2022-02-18T10:46:09.408648Z",
     "iopub.status.idle": "2022-02-18T10:46:09.449624Z",
     "shell.execute_reply": "2022-02-18T10:46:09.449959Z"
    }
   },
   "outputs": [
    {
     "data": {
      "image/svg+xml": [
       "<?xml version=\"1.0\" encoding=\"UTF-8\" standalone=\"no\"?><svg xmlns=\"http://www.w3.org/2000/svg\" xmlns:xlink=\"http://www.w3.org/1999/xlink\" contentScriptType=\"application/ecmascript\" contentStyleType=\"text/css\" height=\"211px\" preserveAspectRatio=\"none\" style=\"width:205px;height:211px;\" version=\"1.1\" viewBox=\"0 0 205 211\" width=\"205px\" zoomAndPan=\"magnify\"><defs/><g><!--MD5=[fbc87193dbaf4d95561dea2c320d4a47]\n",
       "cluster E1--><a href=\"psysml:06c83ae0-0be1-4108-9f79-6c682626264b\" target=\"_top\" title=\"psysml:06c83ae0-0be1-4108-9f79-6c682626264b\" xlink:actuate=\"onRequest\" xlink:href=\"psysml:06c83ae0-0be1-4108-9f79-6c682626264b\" xlink:show=\"new\" xlink:title=\"psysml:06c83ae0-0be1-4108-9f79-6c682626264b\" xlink:type=\"simple\"><rect fill=\"#FFFFFF\" height=\"193\" id=\"E1\" style=\"stroke: #383838; stroke-width: 1.5;\" width=\"187\" x=\"7\" y=\"7\"/><rect fill=\"#F8F8F8\" height=\"37.9375\" style=\"stroke: #383838; stroke-width: 1.5;\" width=\"187\" x=\"7\" y=\"7\"/><text fill=\"#000000\" font-family=\"sans-serif\" font-size=\"12\" font-style=\"italic\" lengthAdjust=\"spacingAndGlyphs\" textLength=\"81\" x=\"60\" y=\"23.1387\">«action  def»</text><text fill=\"#000000\" font-family=\"sans-serif\" font-size=\"12\" lengthAdjust=\"spacingAndGlyphs\" textLength=\"105\" x=\"48\" y=\"37.1074\">ControlNodeTest</text></a><rect fill=\"#000000\" height=\"8\" style=\"stroke: none; stroke-width: 1.0;\" width=\"80\" x=\"60\" y=\"109\"/><rect fill=\"#000000\" height=\"8\" style=\"stroke: none; stroke-width: 1.0;\" width=\"80\" x=\"60\" y=\"125\"/><g id=\"E1.E2\"><a href=\"psysml:b587d390-d46d-4840-bcaf-beb60201fdea\" target=\"_top\" title=\"psysml:b587d390-d46d-4840-bcaf-beb60201fdea\" xlink:actuate=\"onRequest\" xlink:href=\"psysml:b587d390-d46d-4840-bcaf-beb60201fdea\" xlink:show=\"new\" xlink:title=\"psysml:b587d390-d46d-4840-bcaf-beb60201fdea\" xlink:type=\"simple\"><rect fill=\"#FFFFFF\" height=\"42.9375\" id=\"E2\" rx=\"10\" ry=\"10\" style=\"stroke: #383838; stroke-width: 1.5;\" width=\"60\" x=\"118\" y=\"58\"/><rect fill=\"#F8F8F8\" height=\"37.9375\" rx=\"10\" ry=\"10\" style=\"stroke: #F8F8F8; stroke-width: 1.5;\" width=\"60\" x=\"118\" y=\"58\"/><rect fill=\"#F8F8F8\" height=\"10\" style=\"stroke: #F8F8F8; stroke-width: 1.5;\" width=\"60\" x=\"118\" y=\"85.9375\"/><rect fill=\"none\" height=\"42.9375\" id=\"E2\" rx=\"10\" ry=\"10\" style=\"stroke: #383838; stroke-width: 1.5;\" width=\"60\" x=\"118\" y=\"58\"/><text fill=\"#000000\" font-family=\"sans-serif\" font-size=\"12\" font-style=\"italic\" lengthAdjust=\"spacingAndGlyphs\" textLength=\"53\" x=\"121.5\" y=\"74.1387\">«action»</text><text fill=\"#000000\" font-family=\"sans-serif\" font-size=\"12\" lengthAdjust=\"spacingAndGlyphs\" textLength=\"16\" x=\"140\" y=\"88.1074\">A1</text></a></g><g id=\"E1.E3\"><a href=\"psysml:2c010bd6-de88-4dc7-8be6-3edc78c34a31\" target=\"_top\" title=\"psysml:2c010bd6-de88-4dc7-8be6-3edc78c34a31\" xlink:actuate=\"onRequest\" xlink:href=\"psysml:2c010bd6-de88-4dc7-8be6-3edc78c34a31\" xlink:show=\"new\" xlink:title=\"psysml:2c010bd6-de88-4dc7-8be6-3edc78c34a31\" xlink:type=\"simple\"><rect fill=\"#FFFFFF\" height=\"42.9375\" id=\"E3\" rx=\"10\" ry=\"10\" style=\"stroke: #383838; stroke-width: 1.5;\" width=\"60\" x=\"23\" y=\"58\"/><rect fill=\"#F8F8F8\" height=\"37.9375\" rx=\"10\" ry=\"10\" style=\"stroke: #F8F8F8; stroke-width: 1.5;\" width=\"60\" x=\"23\" y=\"58\"/><rect fill=\"#F8F8F8\" height=\"10\" style=\"stroke: #F8F8F8; stroke-width: 1.5;\" width=\"60\" x=\"23\" y=\"85.9375\"/><rect fill=\"none\" height=\"42.9375\" id=\"E3\" rx=\"10\" ry=\"10\" style=\"stroke: #383838; stroke-width: 1.5;\" width=\"60\" x=\"23\" y=\"58\"/><text fill=\"#000000\" font-family=\"sans-serif\" font-size=\"12\" font-style=\"italic\" lengthAdjust=\"spacingAndGlyphs\" textLength=\"53\" x=\"26.5\" y=\"74.1387\">«action»</text><text fill=\"#000000\" font-family=\"sans-serif\" font-size=\"12\" lengthAdjust=\"spacingAndGlyphs\" textLength=\"16\" x=\"45\" y=\"88.1074\">A2</text></a></g><g id=\"E1.E6\"><a href=\"psysml:b42821ea-70f6-43bd-9a67-84f3e511770a\" target=\"_top\" title=\"psysml:b42821ea-70f6-43bd-9a67-84f3e511770a\" xlink:actuate=\"onRequest\" xlink:href=\"psysml:b42821ea-70f6-43bd-9a67-84f3e511770a\" xlink:show=\"new\" xlink:title=\"psysml:b42821ea-70f6-43bd-9a67-84f3e511770a\" xlink:type=\"simple\"><rect fill=\"#FFFFFF\" height=\"42.9375\" id=\"E6\" rx=\"10\" ry=\"10\" style=\"stroke: #383838; stroke-width: 1.5;\" width=\"60\" x=\"23\" y=\"141\"/><rect fill=\"#F8F8F8\" height=\"37.9375\" rx=\"10\" ry=\"10\" style=\"stroke: #F8F8F8; stroke-width: 1.5;\" width=\"60\" x=\"23\" y=\"141\"/><rect fill=\"#F8F8F8\" height=\"10\" style=\"stroke: #F8F8F8; stroke-width: 1.5;\" width=\"60\" x=\"23\" y=\"168.9375\"/><rect fill=\"none\" height=\"42.9375\" id=\"E6\" rx=\"10\" ry=\"10\" style=\"stroke: #383838; stroke-width: 1.5;\" width=\"60\" x=\"23\" y=\"141\"/><text fill=\"#000000\" font-family=\"sans-serif\" font-size=\"12\" font-style=\"italic\" lengthAdjust=\"spacingAndGlyphs\" textLength=\"53\" x=\"26.5\" y=\"157.1387\">«action»</text><text fill=\"#000000\" font-family=\"sans-serif\" font-size=\"12\" lengthAdjust=\"spacingAndGlyphs\" textLength=\"16\" x=\"45\" y=\"171.1074\">B1</text></a></g><g id=\"E1.E7\"><a href=\"psysml:e950d6a4-fdbd-4650-aa0a-2ca4b4e20830\" target=\"_top\" title=\"psysml:e950d6a4-fdbd-4650-aa0a-2ca4b4e20830\" xlink:actuate=\"onRequest\" xlink:href=\"psysml:e950d6a4-fdbd-4650-aa0a-2ca4b4e20830\" xlink:show=\"new\" xlink:title=\"psysml:e950d6a4-fdbd-4650-aa0a-2ca4b4e20830\" xlink:type=\"simple\"><rect fill=\"#FFFFFF\" height=\"42.9375\" id=\"E7\" rx=\"10\" ry=\"10\" style=\"stroke: #383838; stroke-width: 1.5;\" width=\"60\" x=\"118\" y=\"141\"/><rect fill=\"#F8F8F8\" height=\"37.9375\" rx=\"10\" ry=\"10\" style=\"stroke: #F8F8F8; stroke-width: 1.5;\" width=\"60\" x=\"118\" y=\"141\"/><rect fill=\"#F8F8F8\" height=\"10\" style=\"stroke: #F8F8F8; stroke-width: 1.5;\" width=\"60\" x=\"118\" y=\"168.9375\"/><rect fill=\"none\" height=\"42.9375\" id=\"E7\" rx=\"10\" ry=\"10\" style=\"stroke: #383838; stroke-width: 1.5;\" width=\"60\" x=\"118\" y=\"141\"/><text fill=\"#000000\" font-family=\"sans-serif\" font-size=\"12\" font-style=\"italic\" lengthAdjust=\"spacingAndGlyphs\" textLength=\"53\" x=\"121.5\" y=\"157.1387\">«action»</text><text fill=\"#000000\" font-family=\"sans-serif\" font-size=\"12\" lengthAdjust=\"spacingAndGlyphs\" textLength=\"16\" x=\"140\" y=\"171.1074\">B2</text></a></g><!--MD5=[4d03bb2d0377dc85ccfab60ff574652b]\n",
       "link E2 to E4--><a href=\"psysml:4f9dc8d6-d6e0-48a2-bcc8-8318223d246b\" target=\"_top\" title=\"psysml:4f9dc8d6-d6e0-48a2-bcc8-8318223d246b\" xlink:actuate=\"onRequest\" xlink:href=\"psysml:4f9dc8d6-d6e0-48a2-bcc8-8318223d246b\" xlink:show=\"new\" xlink:title=\"psysml:4f9dc8d6-d6e0-48a2-bcc8-8318223d246b\" xlink:type=\"simple\"><path d=\"M117.87,100.27 C114.67,102.37 111.63,104.37 108.98,106.1 \" fill=\"none\" id=\"E2-&gt;E4\" style=\"stroke: #383838; stroke-width: 1.0; stroke-dasharray: 7.0,7.0;\"/><polygon fill=\"#383838\" points=\"104.72,108.9,114.4401,107.3128,108.9021,106.1595,110.0554,100.6215,104.72,108.9\" style=\"stroke: #383838; stroke-width: 1.0;\"/></a><!--MD5=[af87c684e3b0d8be13c1a698a818ef1e]\n",
       "link E3 to E4--><a href=\"psysml:d5a52d23-3eda-48ed-8e98-b9c24f218910\" target=\"_top\" title=\"psysml:d5a52d23-3eda-48ed-8e98-b9c24f218910\" xlink:actuate=\"onRequest\" xlink:href=\"psysml:d5a52d23-3eda-48ed-8e98-b9c24f218910\" xlink:show=\"new\" xlink:title=\"psysml:d5a52d23-3eda-48ed-8e98-b9c24f218910\" xlink:type=\"simple\"><path d=\"M83.03,100.63 C85.85,102.52 88.54,104.32 90.9,105.9 \" fill=\"none\" id=\"E3-&gt;E4\" style=\"stroke: #383838; stroke-width: 1.0; stroke-dasharray: 7.0,7.0;\"/><polygon fill=\"#383838\" points=\"95.26,108.82,90.0101,100.487,91.1063,106.0366,85.5567,107.1328,95.26,108.82\" style=\"stroke: #383838; stroke-width: 1.0;\"/></a><!--MD5=[1b7591eae5389033d8d09a9d6721a717]\n",
       "link E4 to E5--><a href=\"psysml:822f1664-72e1-4116-b41f-1c0919a615e0\" target=\"_top\" title=\"psysml:822f1664-72e1-4116-b41f-1c0919a615e0\" xlink:actuate=\"onRequest\" xlink:href=\"psysml:822f1664-72e1-4116-b41f-1c0919a615e0\" xlink:show=\"new\" xlink:title=\"psysml:822f1664-72e1-4116-b41f-1c0919a615e0\" xlink:type=\"simple\"><path d=\"M100,117.25 C100,118.05 100,118.94 100,119.86 \" fill=\"none\" id=\"E4-&gt;E5\" style=\"stroke: #383838; stroke-width: 1.0; stroke-dasharray: 7.0,7.0;\"/><polygon fill=\"#383838\" points=\"100,124.96,104,115.96,100,119.96,96,115.96,100,124.96\" style=\"stroke: #383838; stroke-width: 1.0;\"/></a><!--MD5=[9120cf2e5df3bff93db8f754bbbc09b4]\n",
       "link E5 to E6--><a href=\"psysml:2360acce-0fc1-431a-bbc0-189c84da742a\" target=\"_top\" title=\"psysml:2360acce-0fc1-431a-bbc0-189c84da742a\" xlink:actuate=\"onRequest\" xlink:href=\"psysml:2360acce-0fc1-431a-bbc0-189c84da742a\" xlink:show=\"new\" xlink:title=\"psysml:2360acce-0fc1-431a-bbc0-189c84da742a\" xlink:type=\"simple\"><path d=\"M95.32,133.14 C93.21,134.55 90.52,136.35 87.53,138.36 \" fill=\"none\" id=\"E5-&gt;E6\" style=\"stroke: #383838; stroke-width: 1.0; stroke-dasharray: 7.0,7.0;\"/><polygon fill=\"#383838\" points=\"83.27,141.21,92.9706,139.5074,87.4192,138.42,88.5066,132.8687,83.27,141.21\" style=\"stroke: #383838; stroke-width: 1.0;\"/></a><!--MD5=[3a9b96bfbf6b6ad89c494e81751bda47]\n",
       "link E5 to E7--><a href=\"psysml:ee81c625-3e17-4e8d-972a-76052e7a84e3\" target=\"_top\" title=\"psysml:ee81c625-3e17-4e8d-972a-76052e7a84e3\" xlink:actuate=\"onRequest\" xlink:href=\"psysml:ee81c625-3e17-4e8d-972a-76052e7a84e3\" xlink:show=\"new\" xlink:title=\"psysml:ee81c625-3e17-4e8d-972a-76052e7a84e3\" xlink:type=\"simple\"><path d=\"M104.78,133.14 C107.16,134.7 110.28,136.75 113.75,139.02 \" fill=\"none\" id=\"E5-&gt;E7\" style=\"stroke: #383838; stroke-width: 1.0; stroke-dasharray: 7.0,7.0;\"/><polygon fill=\"#383838\" points=\"117.96,141.79,112.6246,133.5115,113.7779,139.0495,108.2399,140.2028,117.96,141.79\" style=\"stroke: #383838; stroke-width: 1.0;\"/></a><!--MD5=[bba08885302293df24211e5886d662dd]\n",
       "@startuml\r\n",
       "skinparam ranksep 8\r\n",
       "skinparam linetype polyline\r\n",
       "skinparam monochrome true\r\n",
       "skinparam classbackgroundcolor white\r\n",
       "skinparam shadowing false\r\n",
       "skinparam wrapWidth 300\r\n",
       "hide circle\r\n",
       "\r\n",
       "rec def \"ControlNodeTest\" as E1  <<(T,blue) action  def>> [[psysml:06c83ae0-0be1-4108-9f79-6c682626264b ]] {\r\n",
       "rec usage \"A1\" as E2  <<(T,blue) action>> [[psysml:b587d390-d46d-4840-bcaf-beb60201fdea ]] {\r\n",
       "}\r\n",
       "\r\n",
       "rec usage \"A2\" as E3  <<(T,blue) action>> [[psysml:2c010bd6-de88-4dc7-8be6-3edc78c34a31 ]] {\r\n",
       "}\r\n",
       "\r\n",
       "join \"J\" as E4  [[psysml:b80e7b99-08a2-49d6-9359-b424cf684151 ]] \r\n",
       "fork \"F\" as E5  [[psysml:df495c9b-9171-48f9-ac7d-26427115e0f4 ]] \r\n",
       "rec usage \"B1\" as E6  <<(T,blue) action>> [[psysml:b42821ea-70f6-43bd-9a67-84f3e511770a ]] {\r\n",
       "}\r\n",
       "\r\n",
       "rec usage \"B2\" as E7  <<(T,blue) action>> [[psysml:e950d6a4-fdbd-4650-aa0a-2ca4b4e20830 ]] {\r\n",
       "}\r\n",
       "\r\n",
       "}\r\n",
       "\r\n",
       "E2 ..> E4 [[psysml:4f9dc8d6-d6e0-48a2-bcc8-8318223d246b ]] \r\n",
       "E3 ..> E4 [[psysml:d5a52d23-3eda-48ed-8e98-b9c24f218910 ]] \r\n",
       "E4 ..> E5 [[psysml:822f1664-72e1-4116-b41f-1c0919a615e0 ]] \r\n",
       "E5 ..> E6 [[psysml:2360acce-0fc1-431a-bbc0-189c84da742a ]] \r\n",
       "E5 ..> E7 [[psysml:ee81c625-3e17-4e8d-972a-76052e7a84e3 ]] \r\n",
       "@enduml\r\n",
       "\n",
       "PlantUML version 1.2020.13(Sat Jun 13 12:26:38 UTC 2020)\n",
       "(EPL source distribution)\n",
       "Java Runtime: OpenJDK Runtime Environment\n",
       "JVM: OpenJDK 64-Bit Server VM\n",
       "Default Encoding: UTF-8\n",
       "Language: en\n",
       "Country: null\n",
       "--></g></svg>"
      ]
     },
     "execution_count": 13,
     "metadata": {},
     "output_type": "execute_result"
    }
   ],
   "source": [
    "%viz --style=\"POLYLINE\" --view=\"Action\" \"ControlNodeTest\""
   ]
  },
  {
   "cell_type": "code",
   "execution_count": 14,
   "id": "0932f727",
   "metadata": {
    "execution": {
     "iopub.execute_input": "2022-02-18T10:46:09.500026Z",
     "iopub.status.busy": "2022-02-18T10:46:09.499589Z",
     "iopub.status.idle": "2022-02-18T10:46:09.506693Z",
     "shell.execute_reply": "2022-02-18T10:46:09.507024Z"
    }
   },
   "outputs": [
    {
     "data": {
      "image/svg+xml": [
       "<?xml version=\"1.0\" encoding=\"UTF-8\" standalone=\"no\"?><svg xmlns=\"http://www.w3.org/2000/svg\" xmlns:xlink=\"http://www.w3.org/1999/xlink\" contentScriptType=\"application/ecmascript\" contentStyleType=\"text/css\" height=\"12px\" preserveAspectRatio=\"none\" style=\"width:12px;height:12px;\" version=\"1.1\" viewBox=\"0 0 12 12\" width=\"12px\" zoomAndPan=\"magnify\"><defs/><g><!--MD5=[dc938048236c351797870c36b62f92ad]\n",
       "@startuml\r\n",
       "skinparam roundcorner 20\r\n",
       "skinparam BoxPadding 20\r\n",
       "skinparam SequenceBoxBackgroundColor #white\r\n",
       "skinparam style strictuml\r\n",
       "skinparam maxMessageSize 100\r\n",
       "skinparam linetype polyline\r\n",
       "skinparam monochrome true\r\n",
       "skinparam classbackgroundcolor white\r\n",
       "skinparam shadowing false\r\n",
       "skinparam wrapWidth 300\r\n",
       "hide circle\r\n",
       "\r\n",
       "@enduml\r\n",
       "\n",
       "PlantUML version 1.2020.13(Sat Jun 13 12:26:38 UTC 2020)\n",
       "(EPL source distribution)\n",
       "Java Runtime: OpenJDK Runtime Environment\n",
       "JVM: OpenJDK 64-Bit Server VM\n",
       "Default Encoding: UTF-8\n",
       "Language: en\n",
       "Country: null\n",
       "--></g></svg>"
      ]
     },
     "execution_count": 14,
     "metadata": {},
     "output_type": "execute_result"
    }
   ],
   "source": [
    "%viz --style=\"POLYLINE\" --view=\"Sequence\" \"ControlNodeTest\""
   ]
  },
  {
   "cell_type": "code",
   "execution_count": 15,
   "id": "6ada1466",
   "metadata": {
    "execution": {
     "iopub.execute_input": "2022-02-18T10:46:09.557299Z",
     "iopub.status.busy": "2022-02-18T10:46:09.556888Z",
     "iopub.status.idle": "2022-02-18T10:46:09.602143Z",
     "shell.execute_reply": "2022-02-18T10:46:09.602443Z"
    }
   },
   "outputs": [
    {
     "data": {
      "image/svg+xml": [
       "<?xml version=\"1.0\" encoding=\"UTF-8\" standalone=\"no\"?><svg xmlns=\"http://www.w3.org/2000/svg\" xmlns:xlink=\"http://www.w3.org/1999/xlink\" contentScriptType=\"application/ecmascript\" contentStyleType=\"text/css\" height=\"367px\" preserveAspectRatio=\"none\" style=\"width:205px;height:367px;\" version=\"1.1\" viewBox=\"0 0 205 367\" width=\"205px\" zoomAndPan=\"magnify\"><defs/><g><!--MD5=[fbc87193dbaf4d95561dea2c320d4a47]\n",
       "cluster E1--><a href=\"psysml:06c83ae0-0be1-4108-9f79-6c682626264b\" target=\"_top\" title=\"psysml:06c83ae0-0be1-4108-9f79-6c682626264b\" xlink:actuate=\"onRequest\" xlink:href=\"psysml:06c83ae0-0be1-4108-9f79-6c682626264b\" xlink:show=\"new\" xlink:title=\"psysml:06c83ae0-0be1-4108-9f79-6c682626264b\" xlink:type=\"simple\"><rect fill=\"#FFFFFF\" height=\"349\" id=\"E1\" style=\"stroke: #383838; stroke-width: 1.5;\" width=\"187\" x=\"7\" y=\"7\"/><rect fill=\"#F8F8F8\" height=\"37.9375\" style=\"stroke: #383838; stroke-width: 1.5;\" width=\"187\" x=\"7\" y=\"7\"/><text fill=\"#000000\" font-family=\"sans-serif\" font-size=\"12\" font-style=\"italic\" lengthAdjust=\"spacingAndGlyphs\" textLength=\"81\" x=\"60\" y=\"23.1387\">«action  def»</text><text fill=\"#000000\" font-family=\"sans-serif\" font-size=\"12\" lengthAdjust=\"spacingAndGlyphs\" textLength=\"105\" x=\"48\" y=\"37.1074\">ControlNodeTest</text></a><rect fill=\"#000000\" height=\"8\" style=\"stroke: none; stroke-width: 1.0;\" width=\"80\" x=\"60\" y=\"161\"/><rect fill=\"#000000\" height=\"8\" style=\"stroke: none; stroke-width: 1.0;\" width=\"80\" x=\"60\" y=\"229\"/><g id=\"E1.E2\"><a href=\"psysml:b587d390-d46d-4840-bcaf-beb60201fdea\" target=\"_top\" title=\"psysml:b587d390-d46d-4840-bcaf-beb60201fdea\" xlink:actuate=\"onRequest\" xlink:href=\"psysml:b587d390-d46d-4840-bcaf-beb60201fdea\" xlink:show=\"new\" xlink:title=\"psysml:b587d390-d46d-4840-bcaf-beb60201fdea\" xlink:type=\"simple\"><rect fill=\"#FFFFFF\" height=\"42.9375\" id=\"E2\" rx=\"10\" ry=\"10\" style=\"stroke: #383838; stroke-width: 1.5;\" width=\"60\" x=\"118\" y=\"58\"/><rect fill=\"#F8F8F8\" height=\"37.9375\" rx=\"10\" ry=\"10\" style=\"stroke: #F8F8F8; stroke-width: 1.5;\" width=\"60\" x=\"118\" y=\"58\"/><rect fill=\"#F8F8F8\" height=\"10\" style=\"stroke: #F8F8F8; stroke-width: 1.5;\" width=\"60\" x=\"118\" y=\"85.9375\"/><rect fill=\"none\" height=\"42.9375\" id=\"E2\" rx=\"10\" ry=\"10\" style=\"stroke: #383838; stroke-width: 1.5;\" width=\"60\" x=\"118\" y=\"58\"/><text fill=\"#000000\" font-family=\"sans-serif\" font-size=\"12\" font-style=\"italic\" lengthAdjust=\"spacingAndGlyphs\" textLength=\"53\" x=\"121.5\" y=\"74.1387\">«action»</text><text fill=\"#000000\" font-family=\"sans-serif\" font-size=\"12\" lengthAdjust=\"spacingAndGlyphs\" textLength=\"16\" x=\"140\" y=\"88.1074\">A1</text></a></g><g id=\"E1.E3\"><a href=\"psysml:2c010bd6-de88-4dc7-8be6-3edc78c34a31\" target=\"_top\" title=\"psysml:2c010bd6-de88-4dc7-8be6-3edc78c34a31\" xlink:actuate=\"onRequest\" xlink:href=\"psysml:2c010bd6-de88-4dc7-8be6-3edc78c34a31\" xlink:show=\"new\" xlink:title=\"psysml:2c010bd6-de88-4dc7-8be6-3edc78c34a31\" xlink:type=\"simple\"><rect fill=\"#FFFFFF\" height=\"42.9375\" id=\"E3\" rx=\"10\" ry=\"10\" style=\"stroke: #383838; stroke-width: 1.5;\" width=\"60\" x=\"23\" y=\"58\"/><rect fill=\"#F8F8F8\" height=\"37.9375\" rx=\"10\" ry=\"10\" style=\"stroke: #F8F8F8; stroke-width: 1.5;\" width=\"60\" x=\"23\" y=\"58\"/><rect fill=\"#F8F8F8\" height=\"10\" style=\"stroke: #F8F8F8; stroke-width: 1.5;\" width=\"60\" x=\"23\" y=\"85.9375\"/><rect fill=\"none\" height=\"42.9375\" id=\"E3\" rx=\"10\" ry=\"10\" style=\"stroke: #383838; stroke-width: 1.5;\" width=\"60\" x=\"23\" y=\"58\"/><text fill=\"#000000\" font-family=\"sans-serif\" font-size=\"12\" font-style=\"italic\" lengthAdjust=\"spacingAndGlyphs\" textLength=\"53\" x=\"26.5\" y=\"74.1387\">«action»</text><text fill=\"#000000\" font-family=\"sans-serif\" font-size=\"12\" lengthAdjust=\"spacingAndGlyphs\" textLength=\"16\" x=\"45\" y=\"88.1074\">A2</text></a></g><g id=\"E1.E6\"><a href=\"psysml:b42821ea-70f6-43bd-9a67-84f3e511770a\" target=\"_top\" title=\"psysml:b42821ea-70f6-43bd-9a67-84f3e511770a\" xlink:actuate=\"onRequest\" xlink:href=\"psysml:b42821ea-70f6-43bd-9a67-84f3e511770a\" xlink:show=\"new\" xlink:title=\"psysml:b42821ea-70f6-43bd-9a67-84f3e511770a\" xlink:type=\"simple\"><rect fill=\"#FFFFFF\" height=\"42.9375\" id=\"E6\" rx=\"10\" ry=\"10\" style=\"stroke: #383838; stroke-width: 1.5;\" width=\"60\" x=\"23\" y=\"297\"/><rect fill=\"#F8F8F8\" height=\"37.9375\" rx=\"10\" ry=\"10\" style=\"stroke: #F8F8F8; stroke-width: 1.5;\" width=\"60\" x=\"23\" y=\"297\"/><rect fill=\"#F8F8F8\" height=\"10\" style=\"stroke: #F8F8F8; stroke-width: 1.5;\" width=\"60\" x=\"23\" y=\"324.9375\"/><rect fill=\"none\" height=\"42.9375\" id=\"E6\" rx=\"10\" ry=\"10\" style=\"stroke: #383838; stroke-width: 1.5;\" width=\"60\" x=\"23\" y=\"297\"/><text fill=\"#000000\" font-family=\"sans-serif\" font-size=\"12\" font-style=\"italic\" lengthAdjust=\"spacingAndGlyphs\" textLength=\"53\" x=\"26.5\" y=\"313.1387\">«action»</text><text fill=\"#000000\" font-family=\"sans-serif\" font-size=\"12\" lengthAdjust=\"spacingAndGlyphs\" textLength=\"16\" x=\"45\" y=\"327.1074\">B1</text></a></g><g id=\"E1.E7\"><a href=\"psysml:e950d6a4-fdbd-4650-aa0a-2ca4b4e20830\" target=\"_top\" title=\"psysml:e950d6a4-fdbd-4650-aa0a-2ca4b4e20830\" xlink:actuate=\"onRequest\" xlink:href=\"psysml:e950d6a4-fdbd-4650-aa0a-2ca4b4e20830\" xlink:show=\"new\" xlink:title=\"psysml:e950d6a4-fdbd-4650-aa0a-2ca4b4e20830\" xlink:type=\"simple\"><rect fill=\"#FFFFFF\" height=\"42.9375\" id=\"E7\" rx=\"10\" ry=\"10\" style=\"stroke: #383838; stroke-width: 1.5;\" width=\"60\" x=\"118\" y=\"297\"/><rect fill=\"#F8F8F8\" height=\"37.9375\" rx=\"10\" ry=\"10\" style=\"stroke: #F8F8F8; stroke-width: 1.5;\" width=\"60\" x=\"118\" y=\"297\"/><rect fill=\"#F8F8F8\" height=\"10\" style=\"stroke: #F8F8F8; stroke-width: 1.5;\" width=\"60\" x=\"118\" y=\"324.9375\"/><rect fill=\"none\" height=\"42.9375\" id=\"E7\" rx=\"10\" ry=\"10\" style=\"stroke: #383838; stroke-width: 1.5;\" width=\"60\" x=\"118\" y=\"297\"/><text fill=\"#000000\" font-family=\"sans-serif\" font-size=\"12\" font-style=\"italic\" lengthAdjust=\"spacingAndGlyphs\" textLength=\"53\" x=\"121.5\" y=\"313.1387\">«action»</text><text fill=\"#000000\" font-family=\"sans-serif\" font-size=\"12\" lengthAdjust=\"spacingAndGlyphs\" textLength=\"16\" x=\"140\" y=\"327.1074\">B2</text></a></g><!--MD5=[4d03bb2d0377dc85ccfab60ff574652b]\n",
       "link E2 to E4--><a href=\"psysml:4f9dc8d6-d6e0-48a2-bcc8-8318223d246b\" target=\"_top\" title=\"psysml:4f9dc8d6-d6e0-48a2-bcc8-8318223d246b\" xlink:actuate=\"onRequest\" xlink:href=\"psysml:4f9dc8d6-d6e0-48a2-bcc8-8318223d246b\" xlink:show=\"new\" xlink:title=\"psysml:4f9dc8d6-d6e0-48a2-bcc8-8318223d246b\" xlink:type=\"simple\"><path d=\"M136.13,101.14 C125.84,119.06 111.49,144.01 104.37,156.4 \" fill=\"none\" id=\"E2-&gt;E4\" style=\"stroke: #383838; stroke-width: 1.0;\"/><polygon fill=\"#383838\" points=\"101.79,160.88,109.7406,155.0673,104.2799,156.5441,102.8031,151.0834,101.79,160.88\" style=\"stroke: #383838; stroke-width: 1.0;\"/><text fill=\"#000000\" font-family=\"sans-serif\" font-size=\"13\" lengthAdjust=\"spacingAndGlyphs\" textLength=\"7\" x=\"93.6144\" y=\"150.0038\">*</text></a><!--MD5=[af87c684e3b0d8be13c1a698a818ef1e]\n",
       "link E3 to E4--><a href=\"psysml:d5a52d23-3eda-48ed-8e98-b9c24f218910\" target=\"_top\" title=\"psysml:d5a52d23-3eda-48ed-8e98-b9c24f218910\" xlink:actuate=\"onRequest\" xlink:href=\"psysml:d5a52d23-3eda-48ed-8e98-b9c24f218910\" xlink:show=\"new\" xlink:title=\"psysml:d5a52d23-3eda-48ed-8e98-b9c24f218910\" xlink:type=\"simple\"><path d=\"M64.62,101.14 C74.7,119.06 88.75,144.01 95.72,156.4 \" fill=\"none\" id=\"E3-&gt;E4\" style=\"stroke: #383838; stroke-width: 1.0;\"/><polygon fill=\"#383838\" points=\"98.25,160.88,97.3377,151.0735,95.8048,156.5187,90.3596,154.9858,98.25,160.88\" style=\"stroke: #383838; stroke-width: 1.0;\"/><text fill=\"#000000\" font-family=\"sans-serif\" font-size=\"13\" lengthAdjust=\"spacingAndGlyphs\" textLength=\"7\" x=\"99.4531\" y=\"150.0038\">*</text></a><!--MD5=[1b7591eae5389033d8d09a9d6721a717]\n",
       "link E4 to E5--><a href=\"psysml:822f1664-72e1-4116-b41f-1c0919a615e0\" target=\"_top\" title=\"psysml:822f1664-72e1-4116-b41f-1c0919a615e0\" xlink:actuate=\"onRequest\" xlink:href=\"psysml:822f1664-72e1-4116-b41f-1c0919a615e0\" xlink:show=\"new\" xlink:title=\"psysml:822f1664-72e1-4116-b41f-1c0919a615e0\" xlink:type=\"simple\"><path d=\"M100,169.18 C100,178.92 100,208.52 100,223.34 \" fill=\"none\" id=\"E4-&gt;E5\" style=\"stroke: #383838; stroke-width: 1.0;\"/><polygon fill=\"#383838\" points=\"100,228.69,104,219.69,100,223.69,96,219.69,100,228.69\" style=\"stroke: #383838; stroke-width: 1.0;\"/><text fill=\"#000000\" font-family=\"sans-serif\" font-size=\"13\" lengthAdjust=\"spacingAndGlyphs\" textLength=\"7\" x=\"90.6813\" y=\"217.9768\">*</text></a><!--MD5=[9120cf2e5df3bff93db8f754bbbc09b4]\n",
       "link E5 to E6--><a href=\"psysml:2360acce-0fc1-431a-bbc0-189c84da742a\" target=\"_top\" title=\"psysml:2360acce-0fc1-431a-bbc0-189c84da742a\" xlink:actuate=\"onRequest\" xlink:href=\"psysml:2360acce-0fc1-431a-bbc0-189c84da742a\" xlink:show=\"new\" xlink:title=\"psysml:2360acce-0fc1-431a-bbc0-189c84da742a\" xlink:type=\"simple\"><path d=\"M98.21,237.17 C93.16,246.14 78.41,272.36 67.11,292.43 \" fill=\"none\" id=\"E5-&gt;E6\" style=\"stroke: #383838; stroke-width: 1.0;\"/><polygon fill=\"#383838\" points=\"64.61,296.87,72.5151,290.9955,67.0661,292.5148,65.5467,287.0658,64.61,296.87\" style=\"stroke: #383838; stroke-width: 1.0;\"/><text fill=\"#000000\" font-family=\"sans-serif\" font-size=\"13\" lengthAdjust=\"spacingAndGlyphs\" textLength=\"7\" x=\"59.8909\" y=\"285.7715\">*</text></a><!--MD5=[3a9b96bfbf6b6ad89c494e81751bda47]\n",
       "link E5 to E7--><a href=\"psysml:ee81c625-3e17-4e8d-972a-76052e7a84e3\" target=\"_top\" title=\"psysml:ee81c625-3e17-4e8d-972a-76052e7a84e3\" xlink:actuate=\"onRequest\" xlink:href=\"psysml:ee81c625-3e17-4e8d-972a-76052e7a84e3\" xlink:show=\"new\" xlink:title=\"psysml:ee81c625-3e17-4e8d-972a-76052e7a84e3\" xlink:type=\"simple\"><path d=\"M101.82,237.17 C106.98,246.14 122.05,272.36 133.59,292.43 \" fill=\"none\" id=\"E5-&gt;E7\" style=\"stroke: #383838; stroke-width: 1.0;\"/><polygon fill=\"#383838\" points=\"136.14,296.87,135.1269,287.0734,133.6501,292.5341,128.1894,291.0573,136.14,296.87\" style=\"stroke: #383838; stroke-width: 1.0;\"/><text fill=\"#000000\" font-family=\"sans-serif\" font-size=\"13\" lengthAdjust=\"spacingAndGlyphs\" textLength=\"7\" x=\"124.82\" y=\"285.7715\">*</text></a><!--MD5=[090ba69e00b073f8710d4d42687c31f7]\n",
       "@startuml\r\n",
       "skinparam linetype polyline\r\n",
       "skinparam monochrome true\r\n",
       "skinparam classbackgroundcolor white\r\n",
       "skinparam shadowing false\r\n",
       "skinparam wrapWidth 300\r\n",
       "hide circle\r\n",
       "\r\n",
       "rec def \"ControlNodeTest\" as E1  <<(T,blue) action  def>> [[psysml:06c83ae0-0be1-4108-9f79-6c682626264b ]] {\r\n",
       "rec usage \"A1\" as E2  <<(T,blue) action>> [[psysml:b587d390-d46d-4840-bcaf-beb60201fdea ]] {\r\n",
       "}\r\n",
       "\r\n",
       "rec usage \"A2\" as E3  <<(T,blue) action>> [[psysml:2c010bd6-de88-4dc7-8be6-3edc78c34a31 ]] {\r\n",
       "}\r\n",
       "\r\n",
       "join \"J\" as E4  [[psysml:b80e7b99-08a2-49d6-9359-b424cf684151 ]] \r\n",
       "fork \"F\" as E5  [[psysml:df495c9b-9171-48f9-ac7d-26427115e0f4 ]] \r\n",
       "rec usage \"B1\" as E6  <<(T,blue) action>> [[psysml:b42821ea-70f6-43bd-9a67-84f3e511770a ]] {\r\n",
       "}\r\n",
       "\r\n",
       "rec usage \"B2\" as E7  <<(T,blue) action>> [[psysml:e950d6a4-fdbd-4650-aa0a-2ca4b4e20830 ]] {\r\n",
       "}\r\n",
       "\r\n",
       "}\r\n",
       "\r\n",
       "E2 - -> \"*\"E4 [[psysml:4f9dc8d6-d6e0-48a2-bcc8-8318223d246b ]] \r\n",
       "E3 - -> \"*\"E4 [[psysml:d5a52d23-3eda-48ed-8e98-b9c24f218910 ]] \r\n",
       "E4 - -> \"*\"E5 [[psysml:822f1664-72e1-4116-b41f-1c0919a615e0 ]] \r\n",
       "E5 - -> \"*\"E6 [[psysml:2360acce-0fc1-431a-bbc0-189c84da742a ]] \r\n",
       "E5 - -> \"*\"E7 [[psysml:ee81c625-3e17-4e8d-972a-76052e7a84e3 ]] \r\n",
       "@enduml\r\n",
       "\n",
       "PlantUML version 1.2020.13(Sat Jun 13 12:26:38 UTC 2020)\n",
       "(EPL source distribution)\n",
       "Java Runtime: OpenJDK Runtime Environment\n",
       "JVM: OpenJDK 64-Bit Server VM\n",
       "Default Encoding: UTF-8\n",
       "Language: en\n",
       "Country: null\n",
       "--></g></svg>"
      ]
     },
     "execution_count": 15,
     "metadata": {},
     "output_type": "execute_result"
    }
   ],
   "source": [
    "%viz --style=\"POLYLINE\" --view=\"MIXED\" \"ControlNodeTest\""
   ]
  },
  {
   "cell_type": "code",
   "execution_count": 16,
   "id": "37ce352b",
   "metadata": {
    "execution": {
     "iopub.execute_input": "2022-02-18T10:46:09.652827Z",
     "iopub.status.busy": "2022-02-18T10:46:09.652348Z",
     "iopub.status.idle": "2022-02-18T10:46:09.689465Z",
     "shell.execute_reply": "2022-02-18T10:46:09.689048Z"
    }
   },
   "outputs": [
    {
     "data": {
      "image/svg+xml": [
       "<?xml version=\"1.0\" encoding=\"UTF-8\" standalone=\"no\"?><svg xmlns=\"http://www.w3.org/2000/svg\" xmlns:xlink=\"http://www.w3.org/1999/xlink\" contentScriptType=\"application/ecmascript\" contentStyleType=\"text/css\" height=\"207px\" preserveAspectRatio=\"none\" style=\"width:366px;height:207px;\" version=\"1.1\" viewBox=\"0 0 366 207\" width=\"366px\" zoomAndPan=\"magnify\"><defs/><g><!--MD5=[fbc87193dbaf4d95561dea2c320d4a47]\n",
       "cluster E1--><a href=\"psysml:06c83ae0-0be1-4108-9f79-6c682626264b\" target=\"_top\" title=\"psysml:06c83ae0-0be1-4108-9f79-6c682626264b\" xlink:actuate=\"onRequest\" xlink:href=\"psysml:06c83ae0-0be1-4108-9f79-6c682626264b\" xlink:show=\"new\" xlink:title=\"psysml:06c83ae0-0be1-4108-9f79-6c682626264b\" xlink:type=\"simple\"><rect fill=\"#FFFFFF\" height=\"189\" id=\"E1\" style=\"stroke: #383838; stroke-width: 1.5;\" width=\"348\" x=\"7\" y=\"7\"/><rect fill=\"#F8F8F8\" height=\"37.9375\" style=\"stroke: #383838; stroke-width: 1.5;\" width=\"348\" x=\"7\" y=\"7\"/><text fill=\"#000000\" font-family=\"sans-serif\" font-size=\"12\" font-style=\"italic\" lengthAdjust=\"spacingAndGlyphs\" textLength=\"81\" x=\"140.5\" y=\"23.1387\">«action  def»</text><text fill=\"#000000\" font-family=\"sans-serif\" font-size=\"12\" lengthAdjust=\"spacingAndGlyphs\" textLength=\"105\" x=\"128.5\" y=\"37.1074\">ControlNodeTest</text></a><rect fill=\"#000000\" height=\"80\" style=\"stroke: none; stroke-width: 1.0;\" width=\"8\" x=\"143\" y=\"79\"/><rect fill=\"#000000\" height=\"80\" style=\"stroke: none; stroke-width: 1.0;\" width=\"8\" x=\"211\" y=\"79\"/><g id=\"E1.E2\"><a href=\"psysml:b587d390-d46d-4840-bcaf-beb60201fdea\" target=\"_top\" title=\"psysml:b587d390-d46d-4840-bcaf-beb60201fdea\" xlink:actuate=\"onRequest\" xlink:href=\"psysml:b587d390-d46d-4840-bcaf-beb60201fdea\" xlink:show=\"new\" xlink:title=\"psysml:b587d390-d46d-4840-bcaf-beb60201fdea\" xlink:type=\"simple\"><rect fill=\"#FFFFFF\" height=\"42.9375\" id=\"E2\" rx=\"10\" ry=\"10\" style=\"stroke: #383838; stroke-width: 1.5;\" width=\"60\" x=\"23\" y=\"58.5\"/><rect fill=\"#F8F8F8\" height=\"37.9375\" rx=\"10\" ry=\"10\" style=\"stroke: #F8F8F8; stroke-width: 1.5;\" width=\"60\" x=\"23\" y=\"58.5\"/><rect fill=\"#F8F8F8\" height=\"10\" style=\"stroke: #F8F8F8; stroke-width: 1.5;\" width=\"60\" x=\"23\" y=\"86.4375\"/><rect fill=\"none\" height=\"42.9375\" id=\"E2\" rx=\"10\" ry=\"10\" style=\"stroke: #383838; stroke-width: 1.5;\" width=\"60\" x=\"23\" y=\"58.5\"/><text fill=\"#000000\" font-family=\"sans-serif\" font-size=\"12\" font-style=\"italic\" lengthAdjust=\"spacingAndGlyphs\" textLength=\"53\" x=\"26.5\" y=\"74.6387\">«action»</text><text fill=\"#000000\" font-family=\"sans-serif\" font-size=\"12\" lengthAdjust=\"spacingAndGlyphs\" textLength=\"16\" x=\"45\" y=\"88.6074\">A1</text></a></g><g id=\"E1.E3\"><a href=\"psysml:2c010bd6-de88-4dc7-8be6-3edc78c34a31\" target=\"_top\" title=\"psysml:2c010bd6-de88-4dc7-8be6-3edc78c34a31\" xlink:actuate=\"onRequest\" xlink:href=\"psysml:2c010bd6-de88-4dc7-8be6-3edc78c34a31\" xlink:show=\"new\" xlink:title=\"psysml:2c010bd6-de88-4dc7-8be6-3edc78c34a31\" xlink:type=\"simple\"><rect fill=\"#FFFFFF\" height=\"42.9375\" id=\"E3\" rx=\"10\" ry=\"10\" style=\"stroke: #383838; stroke-width: 1.5;\" width=\"60\" x=\"23\" y=\"136.5\"/><rect fill=\"#F8F8F8\" height=\"37.9375\" rx=\"10\" ry=\"10\" style=\"stroke: #F8F8F8; stroke-width: 1.5;\" width=\"60\" x=\"23\" y=\"136.5\"/><rect fill=\"#F8F8F8\" height=\"10\" style=\"stroke: #F8F8F8; stroke-width: 1.5;\" width=\"60\" x=\"23\" y=\"164.4375\"/><rect fill=\"none\" height=\"42.9375\" id=\"E3\" rx=\"10\" ry=\"10\" style=\"stroke: #383838; stroke-width: 1.5;\" width=\"60\" x=\"23\" y=\"136.5\"/><text fill=\"#000000\" font-family=\"sans-serif\" font-size=\"12\" font-style=\"italic\" lengthAdjust=\"spacingAndGlyphs\" textLength=\"53\" x=\"26.5\" y=\"152.6387\">«action»</text><text fill=\"#000000\" font-family=\"sans-serif\" font-size=\"12\" lengthAdjust=\"spacingAndGlyphs\" textLength=\"16\" x=\"45\" y=\"166.6074\">A2</text></a></g><g id=\"E1.E6\"><a href=\"psysml:b42821ea-70f6-43bd-9a67-84f3e511770a\" target=\"_top\" title=\"psysml:b42821ea-70f6-43bd-9a67-84f3e511770a\" xlink:actuate=\"onRequest\" xlink:href=\"psysml:b42821ea-70f6-43bd-9a67-84f3e511770a\" xlink:show=\"new\" xlink:title=\"psysml:b42821ea-70f6-43bd-9a67-84f3e511770a\" xlink:type=\"simple\"><rect fill=\"#FFFFFF\" height=\"42.9375\" id=\"E6\" rx=\"10\" ry=\"10\" style=\"stroke: #383838; stroke-width: 1.5;\" width=\"60\" x=\"279\" y=\"136.5\"/><rect fill=\"#F8F8F8\" height=\"37.9375\" rx=\"10\" ry=\"10\" style=\"stroke: #F8F8F8; stroke-width: 1.5;\" width=\"60\" x=\"279\" y=\"136.5\"/><rect fill=\"#F8F8F8\" height=\"10\" style=\"stroke: #F8F8F8; stroke-width: 1.5;\" width=\"60\" x=\"279\" y=\"164.4375\"/><rect fill=\"none\" height=\"42.9375\" id=\"E6\" rx=\"10\" ry=\"10\" style=\"stroke: #383838; stroke-width: 1.5;\" width=\"60\" x=\"279\" y=\"136.5\"/><text fill=\"#000000\" font-family=\"sans-serif\" font-size=\"12\" font-style=\"italic\" lengthAdjust=\"spacingAndGlyphs\" textLength=\"53\" x=\"282.5\" y=\"152.6387\">«action»</text><text fill=\"#000000\" font-family=\"sans-serif\" font-size=\"12\" lengthAdjust=\"spacingAndGlyphs\" textLength=\"16\" x=\"301\" y=\"166.6074\">B1</text></a></g><g id=\"E1.E7\"><a href=\"psysml:e950d6a4-fdbd-4650-aa0a-2ca4b4e20830\" target=\"_top\" title=\"psysml:e950d6a4-fdbd-4650-aa0a-2ca4b4e20830\" xlink:actuate=\"onRequest\" xlink:href=\"psysml:e950d6a4-fdbd-4650-aa0a-2ca4b4e20830\" xlink:show=\"new\" xlink:title=\"psysml:e950d6a4-fdbd-4650-aa0a-2ca4b4e20830\" xlink:type=\"simple\"><rect fill=\"#FFFFFF\" height=\"42.9375\" id=\"E7\" rx=\"10\" ry=\"10\" style=\"stroke: #383838; stroke-width: 1.5;\" width=\"60\" x=\"279\" y=\"58.5\"/><rect fill=\"#F8F8F8\" height=\"37.9375\" rx=\"10\" ry=\"10\" style=\"stroke: #F8F8F8; stroke-width: 1.5;\" width=\"60\" x=\"279\" y=\"58.5\"/><rect fill=\"#F8F8F8\" height=\"10\" style=\"stroke: #F8F8F8; stroke-width: 1.5;\" width=\"60\" x=\"279\" y=\"86.4375\"/><rect fill=\"none\" height=\"42.9375\" id=\"E7\" rx=\"10\" ry=\"10\" style=\"stroke: #383838; stroke-width: 1.5;\" width=\"60\" x=\"279\" y=\"58.5\"/><text fill=\"#000000\" font-family=\"sans-serif\" font-size=\"12\" font-style=\"italic\" lengthAdjust=\"spacingAndGlyphs\" textLength=\"53\" x=\"282.5\" y=\"74.6387\">«action»</text><text fill=\"#000000\" font-family=\"sans-serif\" font-size=\"12\" lengthAdjust=\"spacingAndGlyphs\" textLength=\"16\" x=\"301\" y=\"88.6074\">B2</text></a></g><!--MD5=[4d03bb2d0377dc85ccfab60ff574652b]\n",
       "link E2 to E4--><a href=\"psysml:4f9dc8d6-d6e0-48a2-bcc8-8318223d246b\" target=\"_top\" title=\"psysml:4f9dc8d6-d6e0-48a2-bcc8-8318223d246b\" xlink:actuate=\"onRequest\" xlink:href=\"psysml:4f9dc8d6-d6e0-48a2-bcc8-8318223d246b\" xlink:show=\"new\" xlink:title=\"psysml:4f9dc8d6-d6e0-48a2-bcc8-8318223d246b\" xlink:type=\"simple\"><path d=\"M83.11,92.34 C102.1,100.39 125.55,110.33 137.75,115.5 \" fill=\"none\" id=\"E2-&gt;E4\" style=\"stroke: #383838; stroke-width: 1.0;\"/><polygon fill=\"#383838\" points=\"142.51,117.52,135.7944,110.3158,137.9091,115.5625,132.6624,117.6772,142.51,117.52\" style=\"stroke: #383838; stroke-width: 1.0;\"/><text fill=\"#000000\" font-family=\"sans-serif\" font-size=\"13\" lengthAdjust=\"spacingAndGlyphs\" textLength=\"7\" x=\"128.1193\" y=\"135.2168\">*</text></a><!--MD5=[af87c684e3b0d8be13c1a698a818ef1e]\n",
       "link E3 to E4--><a href=\"psysml:d5a52d23-3eda-48ed-8e98-b9c24f218910\" target=\"_top\" title=\"psysml:d5a52d23-3eda-48ed-8e98-b9c24f218910\" xlink:actuate=\"onRequest\" xlink:href=\"psysml:d5a52d23-3eda-48ed-8e98-b9c24f218910\" xlink:show=\"new\" xlink:title=\"psysml:d5a52d23-3eda-48ed-8e98-b9c24f218910\" xlink:type=\"simple\"><path d=\"M83.11,145.66 C102.1,137.61 125.55,127.67 137.75,122.5 \" fill=\"none\" id=\"E3-&gt;E4\" style=\"stroke: #383838; stroke-width: 1.0;\"/><polygon fill=\"#383838\" points=\"142.51,120.48,132.6624,120.3228,137.9091,122.4375,135.7944,127.6842,142.51,120.48\" style=\"stroke: #383838; stroke-width: 1.0;\"/><text fill=\"#000000\" font-family=\"sans-serif\" font-size=\"13\" lengthAdjust=\"spacingAndGlyphs\" textLength=\"7\" x=\"128.1193\" y=\"112.0398\">*</text></a><!--MD5=[1b7591eae5389033d8d09a9d6721a717]\n",
       "link E4 to E5--><a href=\"psysml:822f1664-72e1-4116-b41f-1c0919a615e0\" target=\"_top\" title=\"psysml:822f1664-72e1-4116-b41f-1c0919a615e0\" xlink:actuate=\"onRequest\" xlink:href=\"psysml:822f1664-72e1-4116-b41f-1c0919a615e0\" xlink:show=\"new\" xlink:title=\"psysml:822f1664-72e1-4116-b41f-1c0919a615e0\" xlink:type=\"simple\"><path d=\"M151.18,119 C160.92,119 190.52,119 205.34,119 \" fill=\"none\" id=\"E4-&gt;E5\" style=\"stroke: #383838; stroke-width: 1.0;\"/><polygon fill=\"#383838\" points=\"210.69,119,201.69,115,205.69,119,201.69,123,210.69,119\" style=\"stroke: #383838; stroke-width: 1.0;\"/><text fill=\"#000000\" font-family=\"sans-serif\" font-size=\"13\" lengthAdjust=\"spacingAndGlyphs\" textLength=\"7\" x=\"196.0752\" y=\"138.4441\">*</text></a><!--MD5=[9120cf2e5df3bff93db8f754bbbc09b4]\n",
       "link E5 to E6--><a href=\"psysml:2360acce-0fc1-431a-bbc0-189c84da742a\" target=\"_top\" title=\"psysml:2360acce-0fc1-431a-bbc0-189c84da742a\" xlink:actuate=\"onRequest\" xlink:href=\"psysml:2360acce-0fc1-431a-bbc0-189c84da742a\" xlink:show=\"new\" xlink:title=\"psysml:2360acce-0fc1-431a-bbc0-189c84da742a\" xlink:type=\"simple\"><path d=\"M219.06,120.3 C227.64,123.93 252.69,134.55 274.03,143.6 \" fill=\"none\" id=\"E5-&gt;E6\" style=\"stroke: #383838; stroke-width: 1.0;\"/><polygon fill=\"#383838\" points=\"278.8,145.62,272.0844,138.4158,274.1991,143.6625,268.9524,145.7772,278.8,145.62\" style=\"stroke: #383838; stroke-width: 1.0;\"/><text fill=\"#000000\" font-family=\"sans-serif\" font-size=\"13\" lengthAdjust=\"spacingAndGlyphs\" textLength=\"7\" x=\"264.0069\" y=\"156.581\">*</text></a><!--MD5=[3a9b96bfbf6b6ad89c494e81751bda47]\n",
       "link E5 to E7--><a href=\"psysml:ee81c625-3e17-4e8d-972a-76052e7a84e3\" target=\"_top\" title=\"psysml:ee81c625-3e17-4e8d-972a-76052e7a84e3\" xlink:actuate=\"onRequest\" xlink:href=\"psysml:ee81c625-3e17-4e8d-972a-76052e7a84e3\" xlink:show=\"new\" xlink:title=\"psysml:ee81c625-3e17-4e8d-972a-76052e7a84e3\" xlink:type=\"simple\"><path d=\"M219.06,117.7 C227.64,114.07 252.69,103.45 274.03,94.4 \" fill=\"none\" id=\"E5-&gt;E7\" style=\"stroke: #383838; stroke-width: 1.0;\"/><polygon fill=\"#383838\" points=\"278.8,92.38,268.9524,92.2228,274.1991,94.3375,272.0844,99.5842,278.8,92.38\" style=\"stroke: #383838; stroke-width: 1.0;\"/><text fill=\"#000000\" font-family=\"sans-serif\" font-size=\"13\" lengthAdjust=\"spacingAndGlyphs\" textLength=\"7\" x=\"264.0069\" y=\"109.0667\">*</text></a><!--MD5=[941a071e64f352effbb50a0623f0e9ee]\n",
       "@startuml\r\n",
       "left to right direction\r\n",
       "skinparam monochrome true\r\n",
       "skinparam classbackgroundcolor white\r\n",
       "skinparam shadowing false\r\n",
       "skinparam wrapWidth 300\r\n",
       "hide circle\r\n",
       "\r\n",
       "rec def \"ControlNodeTest\" as E1  <<(T,blue) action  def>> [[psysml:06c83ae0-0be1-4108-9f79-6c682626264b ]] {\r\n",
       "rec usage \"A1\" as E2  <<(T,blue) action>> [[psysml:b587d390-d46d-4840-bcaf-beb60201fdea ]] {\r\n",
       "}\r\n",
       "\r\n",
       "rec usage \"A2\" as E3  <<(T,blue) action>> [[psysml:2c010bd6-de88-4dc7-8be6-3edc78c34a31 ]] {\r\n",
       "}\r\n",
       "\r\n",
       "join \"J\" as E4  [[psysml:b80e7b99-08a2-49d6-9359-b424cf684151 ]] \r\n",
       "fork \"F\" as E5  [[psysml:df495c9b-9171-48f9-ac7d-26427115e0f4 ]] \r\n",
       "rec usage \"B1\" as E6  <<(T,blue) action>> [[psysml:b42821ea-70f6-43bd-9a67-84f3e511770a ]] {\r\n",
       "}\r\n",
       "\r\n",
       "rec usage \"B2\" as E7  <<(T,blue) action>> [[psysml:e950d6a4-fdbd-4650-aa0a-2ca4b4e20830 ]] {\r\n",
       "}\r\n",
       "\r\n",
       "}\r\n",
       "\r\n",
       "E2 - -> \"*\"E4 [[psysml:4f9dc8d6-d6e0-48a2-bcc8-8318223d246b ]] \r\n",
       "E3 - -> \"*\"E4 [[psysml:d5a52d23-3eda-48ed-8e98-b9c24f218910 ]] \r\n",
       "E4 - -> \"*\"E5 [[psysml:822f1664-72e1-4116-b41f-1c0919a615e0 ]] \r\n",
       "E5 - -> \"*\"E6 [[psysml:2360acce-0fc1-431a-bbc0-189c84da742a ]] \r\n",
       "E5 - -> \"*\"E7 [[psysml:ee81c625-3e17-4e8d-972a-76052e7a84e3 ]] \r\n",
       "@enduml\r\n",
       "\n",
       "PlantUML version 1.2020.13(Sat Jun 13 12:26:38 UTC 2020)\n",
       "(EPL source distribution)\n",
       "Java Runtime: OpenJDK Runtime Environment\n",
       "JVM: OpenJDK 64-Bit Server VM\n",
       "Default Encoding: UTF-8\n",
       "Language: en\n",
       "Country: null\n",
       "--></g></svg>"
      ]
     },
     "execution_count": 16,
     "metadata": {},
     "output_type": "execute_result"
    }
   ],
   "source": [
    "%viz --style=\"LR\" --view=\"Default\" \"ControlNodeTest\""
   ]
  },
  {
   "cell_type": "code",
   "execution_count": 17,
   "id": "38bb6daa",
   "metadata": {
    "execution": {
     "iopub.execute_input": "2022-02-18T10:46:09.738631Z",
     "iopub.status.busy": "2022-02-18T10:46:09.738204Z",
     "iopub.status.idle": "2022-02-18T10:46:09.822431Z",
     "shell.execute_reply": "2022-02-18T10:46:09.822048Z"
    }
   },
   "outputs": [
    {
     "data": {
      "image/svg+xml": [
       "<?xml version=\"1.0\" encoding=\"UTF-8\" standalone=\"no\"?><svg xmlns=\"http://www.w3.org/2000/svg\" xmlns:xlink=\"http://www.w3.org/1999/xlink\" contentScriptType=\"application/ecmascript\" contentStyleType=\"text/css\" height=\"468px\" preserveAspectRatio=\"none\" style=\"width:265px;height:468px;\" version=\"1.1\" viewBox=\"0 0 265 468\" width=\"265px\" zoomAndPan=\"magnify\"><defs/><g><!--MD5=[43c9051892ef23e1a46a86907403d788]\n",
       "class E1--><a href=\"psysml:06c83ae0-0be1-4108-9f79-6c682626264b\" target=\"_top\" title=\"psysml:06c83ae0-0be1-4108-9f79-6c682626264b\" xlink:actuate=\"onRequest\" xlink:href=\"psysml:06c83ae0-0be1-4108-9f79-6c682626264b\" xlink:show=\"new\" xlink:title=\"psysml:06c83ae0-0be1-4108-9f79-6c682626264b\" xlink:type=\"simple\"><rect fill=\"#FFFFFF\" height=\"126.7656\" id=\"E1\" style=\"stroke: #383838; stroke-width: 1.5;\" width=\"111\" x=\"7\" y=\"169.5\"/><text fill=\"#000000\" font-family=\"sans-serif\" font-size=\"12\" font-style=\"italic\" lengthAdjust=\"spacingAndGlyphs\" textLength=\"81\" x=\"22\" y=\"185.6387\">«action  def»</text><text fill=\"#000000\" font-family=\"sans-serif\" font-size=\"12\" lengthAdjust=\"spacingAndGlyphs\" textLength=\"105\" x=\"10\" y=\"199.6074\">ControlNodeTest</text><line style=\"stroke: #383838; stroke-width: 1.5;\" x1=\"8\" x2=\"117\" y1=\"207.4375\" y2=\"207.4375\"/><text fill=\"#000000\" font-family=\"sans-serif\" font-size=\"11\" lengthAdjust=\"spacingAndGlyphs\" textLength=\"36\" x=\"13\" y=\"238.4526\">then  J</text><text fill=\"#000000\" font-family=\"sans-serif\" font-size=\"11\" lengthAdjust=\"spacingAndGlyphs\" textLength=\"36\" x=\"13\" y=\"251.2573\">then  J</text><text fill=\"#000000\" font-family=\"sans-serif\" font-size=\"11\" lengthAdjust=\"spacingAndGlyphs\" textLength=\"25\" x=\"13\" y=\"264.062\">then</text><text fill=\"#000000\" font-family=\"sans-serif\" font-size=\"11\" lengthAdjust=\"spacingAndGlyphs\" textLength=\"48\" x=\"13\" y=\"276.8667\">then  B1</text><text fill=\"#000000\" font-family=\"sans-serif\" font-size=\"11\" lengthAdjust=\"spacingAndGlyphs\" textLength=\"48\" x=\"13\" y=\"289.6714\">then  B2</text><line style=\"stroke: #383838; stroke-width: 1.0;\" x1=\"8\" x2=\"27\" y1=\"221.8398\" y2=\"221.8398\"/><text fill=\"#000000\" font-family=\"sans-serif\" font-size=\"11\" lengthAdjust=\"spacingAndGlyphs\" textLength=\"71\" x=\"27\" y=\"225.1479\">successions</text><line style=\"stroke: #383838; stroke-width: 1.0;\" x1=\"98\" x2=\"117\" y1=\"221.8398\" y2=\"221.8398\"/></a><!--MD5=[b4997ac47864f28c2f74865a473b2911]\n",
       "class E2--><a href=\"psysml:b587d390-d46d-4840-bcaf-beb60201fdea\" target=\"_top\" title=\"psysml:b587d390-d46d-4840-bcaf-beb60201fdea\" xlink:actuate=\"onRequest\" xlink:href=\"psysml:b587d390-d46d-4840-bcaf-beb60201fdea\" xlink:show=\"new\" xlink:title=\"psysml:b587d390-d46d-4840-bcaf-beb60201fdea\" xlink:type=\"simple\"><rect fill=\"#FFFFFF\" height=\"45.9375\" id=\"E2\" rx=\"10\" ry=\"10\" style=\"stroke: #383838; stroke-width: 1.5;\" width=\"55\" x=\"188.5\" y=\"7\"/><text fill=\"#000000\" font-family=\"sans-serif\" font-size=\"12\" font-style=\"italic\" lengthAdjust=\"spacingAndGlyphs\" textLength=\"53\" x=\"189.5\" y=\"23.1387\">«action»</text><text fill=\"#000000\" font-family=\"sans-serif\" font-size=\"12\" lengthAdjust=\"spacingAndGlyphs\" textLength=\"16\" x=\"206\" y=\"37.1074\">A1</text><line style=\"stroke: #383838; stroke-width: 1.5;\" x1=\"189.5\" x2=\"242.5\" y1=\"44.9375\" y2=\"44.9375\"/></a><!--MD5=[09b614a08d8cba4a07c9adeb5e0fee81]\n",
       "class E3--><a href=\"psysml:2c010bd6-de88-4dc7-8be6-3edc78c34a31\" target=\"_top\" title=\"psysml:2c010bd6-de88-4dc7-8be6-3edc78c34a31\" xlink:actuate=\"onRequest\" xlink:href=\"psysml:2c010bd6-de88-4dc7-8be6-3edc78c34a31\" xlink:show=\"new\" xlink:title=\"psysml:2c010bd6-de88-4dc7-8be6-3edc78c34a31\" xlink:type=\"simple\"><rect fill=\"#FFFFFF\" height=\"45.9375\" id=\"E3\" rx=\"10\" ry=\"10\" style=\"stroke: #383838; stroke-width: 1.5;\" width=\"55\" x=\"188.5\" y=\"88\"/><text fill=\"#000000\" font-family=\"sans-serif\" font-size=\"12\" font-style=\"italic\" lengthAdjust=\"spacingAndGlyphs\" textLength=\"53\" x=\"189.5\" y=\"104.1387\">«action»</text><text fill=\"#000000\" font-family=\"sans-serif\" font-size=\"12\" lengthAdjust=\"spacingAndGlyphs\" textLength=\"16\" x=\"206\" y=\"118.1074\">A2</text><line style=\"stroke: #383838; stroke-width: 1.5;\" x1=\"189.5\" x2=\"242.5\" y1=\"125.9375\" y2=\"125.9375\"/></a><!--MD5=[ebbe1d658d1005bcc118a6aa81145e00]\n",
       "class E4--><a href=\"psysml:b80e7b99-08a2-49d6-9359-b424cf684151\" target=\"_top\" title=\"psysml:b80e7b99-08a2-49d6-9359-b424cf684151\" xlink:actuate=\"onRequest\" xlink:href=\"psysml:b80e7b99-08a2-49d6-9359-b424cf684151\" xlink:show=\"new\" xlink:title=\"psysml:b80e7b99-08a2-49d6-9359-b424cf684151\" xlink:type=\"simple\"><rect fill=\"#FFFFFF\" height=\"45.9375\" id=\"E4\" rx=\"10\" ry=\"10\" style=\"stroke: #383838; stroke-width: 1.5;\" width=\"74\" x=\"179\" y=\"169\"/><text fill=\"#000000\" font-family=\"sans-serif\" font-size=\"12\" font-style=\"italic\" lengthAdjust=\"spacingAndGlyphs\" textLength=\"72\" x=\"180\" y=\"185.1387\">«join node»</text><text fill=\"#000000\" font-family=\"sans-serif\" font-size=\"12\" lengthAdjust=\"spacingAndGlyphs\" textLength=\"3\" x=\"212.5\" y=\"199.1074\">J</text><line style=\"stroke: #383838; stroke-width: 1.5;\" x1=\"180\" x2=\"252\" y1=\"206.9375\" y2=\"206.9375\"/></a><!--MD5=[270fce915f116d4de14055a7c1d9a0f3]\n",
       "class E5--><a href=\"psysml:df495c9b-9171-48f9-ac7d-26427115e0f4\" target=\"_top\" title=\"psysml:df495c9b-9171-48f9-ac7d-26427115e0f4\" xlink:actuate=\"onRequest\" xlink:href=\"psysml:df495c9b-9171-48f9-ac7d-26427115e0f4\" xlink:show=\"new\" xlink:title=\"psysml:df495c9b-9171-48f9-ac7d-26427115e0f4\" xlink:type=\"simple\"><rect fill=\"#FFFFFF\" height=\"45.9375\" id=\"E5\" rx=\"10\" ry=\"10\" style=\"stroke: #383838; stroke-width: 1.5;\" width=\"76\" x=\"178\" y=\"250\"/><text fill=\"#000000\" font-family=\"sans-serif\" font-size=\"12\" font-style=\"italic\" lengthAdjust=\"spacingAndGlyphs\" textLength=\"74\" x=\"179\" y=\"266.1387\">«fork node»</text><text fill=\"#000000\" font-family=\"sans-serif\" font-size=\"12\" lengthAdjust=\"spacingAndGlyphs\" textLength=\"7\" x=\"210.5\" y=\"280.1074\">F</text><line style=\"stroke: #383838; stroke-width: 1.5;\" x1=\"179\" x2=\"253\" y1=\"287.9375\" y2=\"287.9375\"/></a><!--MD5=[60a26617385b1d2d0262a64233df1f8d]\n",
       "class E6--><a href=\"psysml:b42821ea-70f6-43bd-9a67-84f3e511770a\" target=\"_top\" title=\"psysml:b42821ea-70f6-43bd-9a67-84f3e511770a\" xlink:actuate=\"onRequest\" xlink:href=\"psysml:b42821ea-70f6-43bd-9a67-84f3e511770a\" xlink:show=\"new\" xlink:title=\"psysml:b42821ea-70f6-43bd-9a67-84f3e511770a\" xlink:type=\"simple\"><rect fill=\"#FFFFFF\" height=\"45.9375\" id=\"E6\" rx=\"10\" ry=\"10\" style=\"stroke: #383838; stroke-width: 1.5;\" width=\"55\" x=\"188.5\" y=\"331\"/><text fill=\"#000000\" font-family=\"sans-serif\" font-size=\"12\" font-style=\"italic\" lengthAdjust=\"spacingAndGlyphs\" textLength=\"53\" x=\"189.5\" y=\"347.1387\">«action»</text><text fill=\"#000000\" font-family=\"sans-serif\" font-size=\"12\" lengthAdjust=\"spacingAndGlyphs\" textLength=\"16\" x=\"206\" y=\"361.1074\">B1</text><line style=\"stroke: #383838; stroke-width: 1.5;\" x1=\"189.5\" x2=\"242.5\" y1=\"368.9375\" y2=\"368.9375\"/></a><!--MD5=[2156ba9850f5573cc1fc38a6a4b2f02b]\n",
       "class E7--><a href=\"psysml:e950d6a4-fdbd-4650-aa0a-2ca4b4e20830\" target=\"_top\" title=\"psysml:e950d6a4-fdbd-4650-aa0a-2ca4b4e20830\" xlink:actuate=\"onRequest\" xlink:href=\"psysml:e950d6a4-fdbd-4650-aa0a-2ca4b4e20830\" xlink:show=\"new\" xlink:title=\"psysml:e950d6a4-fdbd-4650-aa0a-2ca4b4e20830\" xlink:type=\"simple\"><rect fill=\"#FFFFFF\" height=\"45.9375\" id=\"E7\" rx=\"10\" ry=\"10\" style=\"stroke: #383838; stroke-width: 1.5;\" width=\"55\" x=\"188.5\" y=\"412\"/><text fill=\"#000000\" font-family=\"sans-serif\" font-size=\"12\" font-style=\"italic\" lengthAdjust=\"spacingAndGlyphs\" textLength=\"53\" x=\"189.5\" y=\"428.1387\">«action»</text><text fill=\"#000000\" font-family=\"sans-serif\" font-size=\"12\" lengthAdjust=\"spacingAndGlyphs\" textLength=\"16\" x=\"206\" y=\"442.1074\">B2</text><line style=\"stroke: #383838; stroke-width: 1.5;\" x1=\"189.5\" x2=\"242.5\" y1=\"449.9375\" y2=\"449.9375\"/></a><!--MD5=[a523cb2a0b79ecf9065ad8783f96c320]\n",
       "reverse link E1 to E2--><a href=\"psysml:8824560d-0356-45ea-8a7b-06baadbc63a3\" target=\"_top\" title=\"psysml:8824560d-0356-45ea-8a7b-06baadbc63a3\" xlink:actuate=\"onRequest\" xlink:href=\"psysml:8824560d-0356-45ea-8a7b-06baadbc63a3\" xlink:show=\"new\" xlink:title=\"psysml:8824560d-0356-45ea-8a7b-06baadbc63a3\" xlink:type=\"simple\"><path d=\"M112.91,158.22 C132.39,129.96 155.46,97.91 178,70 C182.52,64.41 187.61,58.61 192.55,53.22 \" fill=\"none\" id=\"E1&lt;-E2\" style=\"stroke: #383838; stroke-width: 1.0;\"/><polygon fill=\"#383838\" points=\"105.36,169.25,112.0522,166.5639,112.1466,159.3534,105.4544,162.0395,105.36,169.25\" style=\"stroke: #383838; stroke-width: 1.0;\"/><text fill=\"#000000\" font-family=\"sans-serif\" font-size=\"13\" lengthAdjust=\"spacingAndGlyphs\" textLength=\"7\" x=\"178.6441\" y=\"73.1839\">*</text></a><!--MD5=[5d7b3810b1dd9b5164bea1151b29b665]\n",
       "reverse link E1 to E3--><a href=\"psysml:cbbe4b3e-f7e7-45b7-a67a-c33698d06c9d\" target=\"_top\" title=\"psysml:cbbe4b3e-f7e7-45b7-a67a-c33698d06c9d\" xlink:actuate=\"onRequest\" xlink:href=\"psysml:cbbe4b3e-f7e7-45b7-a67a-c33698d06c9d\" xlink:show=\"new\" xlink:title=\"psysml:cbbe4b3e-f7e7-45b7-a67a-c33698d06c9d\" xlink:type=\"simple\"><path d=\"M128.43,180.71 C149.52,163.73 171.76,145.82 188.42,132.41 \" fill=\"none\" id=\"E1&lt;-E3\" style=\"stroke: #383838; stroke-width: 1.0;\"/><polygon fill=\"#383838\" points=\"118.19,188.96,125.3725,188.318,127.5424,181.4412,120.3599,182.0831,118.19,188.96\" style=\"stroke: #383838; stroke-width: 1.0;\"/><text fill=\"#000000\" font-family=\"sans-serif\" font-size=\"13\" lengthAdjust=\"spacingAndGlyphs\" textLength=\"7\" x=\"173.4558\" y=\"151.9101\">*</text></a><!--MD5=[f2c5c03aa1e8c0ba21c10a05e6444b8e]\n",
       "reverse link E1 to E4--><a href=\"psysml:8b2189df-ceef-42f5-8cc2-eeb8d6451d98\" target=\"_top\" title=\"psysml:8b2189df-ceef-42f5-8cc2-eeb8d6451d98\" xlink:actuate=\"onRequest\" xlink:href=\"psysml:8b2189df-ceef-42f5-8cc2-eeb8d6451d98\" xlink:show=\"new\" xlink:title=\"psysml:8b2189df-ceef-42f5-8cc2-eeb8d6451d98\" xlink:type=\"simple\"><path d=\"M131.19,214.68 C147.6,210.24 164.53,205.66 178.83,201.79 \" fill=\"none\" id=\"E1&lt;-E4\" style=\"stroke: #383838; stroke-width: 1.0;\"/><polygon fill=\"#383838\" points=\"118.19,218.2,125.0275,220.4909,129.772,215.0605,122.9345,212.7696,118.19,218.2\" style=\"stroke: #383838; stroke-width: 1.0;\"/></a><!--MD5=[33238bef88d6431a141d8bc8fb12bca0]\n",
       "reverse link E1 to E5--><a href=\"psysml:a82a5eef-dea6-4124-abec-2b50c8cafb15\" target=\"_top\" title=\"psysml:a82a5eef-dea6-4124-abec-2b50c8cafb15\" xlink:actuate=\"onRequest\" xlink:href=\"psysml:a82a5eef-dea6-4124-abec-2b50c8cafb15\" xlink:show=\"new\" xlink:title=\"psysml:a82a5eef-dea6-4124-abec-2b50c8cafb15\" xlink:type=\"simple\"><path d=\"M130.97,250.81 C147.1,255.07 163.74,259.47 177.91,263.21 \" fill=\"none\" id=\"E1&lt;-E5\" style=\"stroke: #383838; stroke-width: 1.0;\"/><polygon fill=\"#383838\" points=\"118.19,247.44,122.9663,252.8425,129.7903,250.5114,125.0139,245.109,118.19,247.44\" style=\"stroke: #383838; stroke-width: 1.0;\"/></a><!--MD5=[aca2ef284c2b1b90e17e73bf3f292c07]\n",
       "reverse link E1 to E6--><a href=\"psysml:fa0fa50c-58e4-4afc-aadf-ea60f0cb1460\" target=\"_top\" title=\"psysml:fa0fa50c-58e4-4afc-aadf-ea60f0cb1460\" xlink:actuate=\"onRequest\" xlink:href=\"psysml:fa0fa50c-58e4-4afc-aadf-ea60f0cb1460\" xlink:show=\"new\" xlink:title=\"psysml:fa0fa50c-58e4-4afc-aadf-ea60f0cb1460\" xlink:type=\"simple\"><path d=\"M128.43,284.86 C149.52,301.71 171.76,319.47 188.42,332.77 \" fill=\"none\" id=\"E1&lt;-E6\" style=\"stroke: #383838; stroke-width: 1.0;\"/><polygon fill=\"#383838\" points=\"118.19,276.68,120.3811,283.5501,127.5656,284.1699,125.3744,277.2998,118.19,276.68\" style=\"stroke: #383838; stroke-width: 1.0;\"/><text fill=\"#000000\" font-family=\"sans-serif\" font-size=\"13\" lengthAdjust=\"spacingAndGlyphs\" textLength=\"7\" x=\"173.4558\" y=\"341.3436\">*</text></a><!--MD5=[fc9706a6b2cf8c0e423679d303750d3f]\n",
       "reverse link E1 to E7--><a href=\"psysml:49466f58-4643-4906-96c1-3a5676eba647\" target=\"_top\" title=\"psysml:49466f58-4643-4906-96c1-3a5676eba647\" xlink:actuate=\"onRequest\" xlink:href=\"psysml:49466f58-4643-4906-96c1-3a5676eba647\" xlink:show=\"new\" xlink:title=\"psysml:49466f58-4643-4906-96c1-3a5676eba647\" xlink:type=\"simple\"><path d=\"M113.7,307.38 C133.11,335.09 155.92,366.49 178,394 C182.8,399.98 188.21,406.23 193.39,411.99 \" fill=\"none\" id=\"E1&lt;-E7\" style=\"stroke: #383838; stroke-width: 1.0;\"/><polygon fill=\"#383838\" points=\"106.17,296.56,106.3085,303.7698,113.017,306.4149,112.8785,299.2051,106.17,296.56\" style=\"stroke: #383838; stroke-width: 1.0;\"/><text fill=\"#000000\" font-family=\"sans-serif\" font-size=\"13\" lengthAdjust=\"spacingAndGlyphs\" textLength=\"7\" x=\"179.3729\" y=\"400.8836\">*</text></a><!--MD5=[3986ea8780fa6e0f6c1ff00ef9c032e9]\n",
       "@startuml\r\n",
       "left to right direction\r\n",
       "skinparam monochrome true\r\n",
       "skinparam classbackgroundcolor white\r\n",
       "skinparam shadowing false\r\n",
       "skinparam wrapWidth 300\r\n",
       "hide circle\r\n",
       "\r\n",
       "comp def \"ControlNodeTest\" as E1  <<(T,blue) action  def>> [[psysml:06c83ae0-0be1-4108-9f79-6c682626264b ]] {\r\n",
       "- - successions - -\r\n",
       " then  J\r\n",
       " then  J\r\n",
       " then \r\n",
       " then  B1\r\n",
       " then  B2\r\n",
       "}\r\n",
       "comp usage \"A1 \" as E2  <<(T,blue) action>> [[psysml:b587d390-d46d-4840-bcaf-beb60201fdea ]] {\r\n",
       "}\r\n",
       "comp usage \"A2 \" as E3  <<(T,blue) action>> [[psysml:2c010bd6-de88-4dc7-8be6-3edc78c34a31 ]] {\r\n",
       "}\r\n",
       "comp usage \"J \" as E4  <<(T,blue) join node>> [[psysml:b80e7b99-08a2-49d6-9359-b424cf684151 ]] {\r\n",
       "}\r\n",
       "comp usage \"F \" as E5  <<(T,blue) fork node>> [[psysml:df495c9b-9171-48f9-ac7d-26427115e0f4 ]] {\r\n",
       "}\r\n",
       "comp usage \"B1 \" as E6  <<(T,blue) action>> [[psysml:b42821ea-70f6-43bd-9a67-84f3e511770a ]] {\r\n",
       "}\r\n",
       "comp usage \"B2 \" as E7  <<(T,blue) action>> [[psysml:e950d6a4-fdbd-4650-aa0a-2ca4b4e20830 ]] {\r\n",
       "}\r\n",
       "E1 *- - \"*\"E2 [[psysml:8824560d-0356-45ea-8a7b-06baadbc63a3 ]] \r\n",
       "E1 *- - \"*\"E3 [[psysml:cbbe4b3e-f7e7-45b7-a67a-c33698d06c9d ]] \r\n",
       "E1 *- - E4 [[psysml:8b2189df-ceef-42f5-8cc2-eeb8d6451d98 ]] \r\n",
       "E1 *- - E5 [[psysml:a82a5eef-dea6-4124-abec-2b50c8cafb15 ]] \r\n",
       "E1 *- - \"*\"E6 [[psysml:fa0fa50c-58e4-4afc-aadf-ea60f0cb1460 ]] \r\n",
       "E1 *- - \"*\"E7 [[psysml:49466f58-4643-4906-96c1-3a5676eba647 ]] \r\n",
       "@enduml\r\n",
       "\n",
       "PlantUML version 1.2020.13(Sat Jun 13 12:26:38 UTC 2020)\n",
       "(EPL source distribution)\n",
       "Java Runtime: OpenJDK Runtime Environment\n",
       "JVM: OpenJDK 64-Bit Server VM\n",
       "Default Encoding: UTF-8\n",
       "Language: en\n",
       "Country: null\n",
       "--></g></svg>"
      ]
     },
     "execution_count": 17,
     "metadata": {},
     "output_type": "execute_result"
    }
   ],
   "source": [
    "%viz --style=\"LR\" --view=\"Tree\" \"ControlNodeTest\""
   ]
  },
  {
   "cell_type": "code",
   "execution_count": 18,
   "id": "08145671",
   "metadata": {
    "execution": {
     "iopub.execute_input": "2022-02-18T10:46:09.871786Z",
     "iopub.status.busy": "2022-02-18T10:46:09.871369Z",
     "iopub.status.idle": "2022-02-18T10:46:09.877090Z",
     "shell.execute_reply": "2022-02-18T10:46:09.877391Z"
    }
   },
   "outputs": [
    {
     "data": {
      "image/svg+xml": [
       "<?xml version=\"1.0\" encoding=\"UTF-8\" standalone=\"no\"?><svg xmlns=\"http://www.w3.org/2000/svg\" xmlns:xlink=\"http://www.w3.org/1999/xlink\" contentScriptType=\"application/ecmascript\" contentStyleType=\"text/css\" height=\"12px\" preserveAspectRatio=\"none\" style=\"width:12px;height:12px;\" version=\"1.1\" viewBox=\"0 0 12 12\" width=\"12px\" zoomAndPan=\"magnify\"><defs/><g><!--MD5=[19d285c9d72a204eba4e2cd117d745e8]\n",
       "@startuml\r\n",
       "left to right direction\r\n",
       "skinparam monochrome true\r\n",
       "skinparam classbackgroundcolor white\r\n",
       "skinparam shadowing false\r\n",
       "skinparam wrapWidth 300\r\n",
       "hide circle\r\n",
       "\r\n",
       "@enduml\r\n",
       "\n",
       "PlantUML version 1.2020.13(Sat Jun 13 12:26:38 UTC 2020)\n",
       "(EPL source distribution)\n",
       "Java Runtime: OpenJDK Runtime Environment\n",
       "JVM: OpenJDK 64-Bit Server VM\n",
       "Default Encoding: UTF-8\n",
       "Language: en\n",
       "Country: null\n",
       "--></g></svg>"
      ]
     },
     "execution_count": 18,
     "metadata": {},
     "output_type": "execute_result"
    }
   ],
   "source": [
    "%viz --style=\"LR\" --view=\"State\" \"ControlNodeTest\""
   ]
  },
  {
   "cell_type": "code",
   "execution_count": 19,
   "id": "7f98d252",
   "metadata": {
    "execution": {
     "iopub.execute_input": "2022-02-18T10:46:09.927605Z",
     "iopub.status.busy": "2022-02-18T10:46:09.927331Z",
     "iopub.status.idle": "2022-02-18T10:46:09.969066Z",
     "shell.execute_reply": "2022-02-18T10:46:09.968644Z"
    }
   },
   "outputs": [
    {
     "data": {
      "image/svg+xml": [
       "<?xml version=\"1.0\" encoding=\"UTF-8\" standalone=\"no\"?><svg xmlns=\"http://www.w3.org/2000/svg\" xmlns:xlink=\"http://www.w3.org/1999/xlink\" contentScriptType=\"application/ecmascript\" contentStyleType=\"text/css\" height=\"207px\" preserveAspectRatio=\"none\" style=\"width:216px;height:207px;\" version=\"1.1\" viewBox=\"0 0 216 207\" width=\"216px\" zoomAndPan=\"magnify\"><defs/><g><!--MD5=[fbc87193dbaf4d95561dea2c320d4a47]\n",
       "cluster E1--><a href=\"psysml:06c83ae0-0be1-4108-9f79-6c682626264b\" target=\"_top\" title=\"psysml:06c83ae0-0be1-4108-9f79-6c682626264b\" xlink:actuate=\"onRequest\" xlink:href=\"psysml:06c83ae0-0be1-4108-9f79-6c682626264b\" xlink:show=\"new\" xlink:title=\"psysml:06c83ae0-0be1-4108-9f79-6c682626264b\" xlink:type=\"simple\"><rect fill=\"#FFFFFF\" height=\"189\" id=\"E1\" style=\"stroke: #383838; stroke-width: 1.5;\" width=\"198\" x=\"7\" y=\"7\"/><rect fill=\"#F8F8F8\" height=\"37.9375\" style=\"stroke: #383838; stroke-width: 1.5;\" width=\"198\" x=\"7\" y=\"7\"/><text fill=\"#000000\" font-family=\"sans-serif\" font-size=\"12\" font-style=\"italic\" lengthAdjust=\"spacingAndGlyphs\" textLength=\"81\" x=\"65.5\" y=\"23.1387\">«action  def»</text><text fill=\"#000000\" font-family=\"sans-serif\" font-size=\"12\" lengthAdjust=\"spacingAndGlyphs\" textLength=\"105\" x=\"53.5\" y=\"37.1074\">ControlNodeTest</text></a><rect fill=\"#000000\" height=\"80\" style=\"stroke: none; stroke-width: 1.0;\" width=\"8\" x=\"93\" y=\"79\"/><rect fill=\"#000000\" height=\"80\" style=\"stroke: none; stroke-width: 1.0;\" width=\"8\" x=\"111\" y=\"79\"/><g id=\"E1.E2\"><a href=\"psysml:b587d390-d46d-4840-bcaf-beb60201fdea\" target=\"_top\" title=\"psysml:b587d390-d46d-4840-bcaf-beb60201fdea\" xlink:actuate=\"onRequest\" xlink:href=\"psysml:b587d390-d46d-4840-bcaf-beb60201fdea\" xlink:show=\"new\" xlink:title=\"psysml:b587d390-d46d-4840-bcaf-beb60201fdea\" xlink:type=\"simple\"><rect fill=\"#FFFFFF\" height=\"42.9375\" id=\"E2\" rx=\"10\" ry=\"10\" style=\"stroke: #383838; stroke-width: 1.5;\" width=\"60\" x=\"23\" y=\"58.5\"/><rect fill=\"#F8F8F8\" height=\"37.9375\" rx=\"10\" ry=\"10\" style=\"stroke: #F8F8F8; stroke-width: 1.5;\" width=\"60\" x=\"23\" y=\"58.5\"/><rect fill=\"#F8F8F8\" height=\"10\" style=\"stroke: #F8F8F8; stroke-width: 1.5;\" width=\"60\" x=\"23\" y=\"86.4375\"/><rect fill=\"none\" height=\"42.9375\" id=\"E2\" rx=\"10\" ry=\"10\" style=\"stroke: #383838; stroke-width: 1.5;\" width=\"60\" x=\"23\" y=\"58.5\"/><text fill=\"#000000\" font-family=\"sans-serif\" font-size=\"12\" font-style=\"italic\" lengthAdjust=\"spacingAndGlyphs\" textLength=\"53\" x=\"26.5\" y=\"74.6387\">«action»</text><text fill=\"#000000\" font-family=\"sans-serif\" font-size=\"12\" lengthAdjust=\"spacingAndGlyphs\" textLength=\"16\" x=\"45\" y=\"88.6074\">A1</text></a></g><g id=\"E1.E3\"><a href=\"psysml:2c010bd6-de88-4dc7-8be6-3edc78c34a31\" target=\"_top\" title=\"psysml:2c010bd6-de88-4dc7-8be6-3edc78c34a31\" xlink:actuate=\"onRequest\" xlink:href=\"psysml:2c010bd6-de88-4dc7-8be6-3edc78c34a31\" xlink:show=\"new\" xlink:title=\"psysml:2c010bd6-de88-4dc7-8be6-3edc78c34a31\" xlink:type=\"simple\"><rect fill=\"#FFFFFF\" height=\"42.9375\" id=\"E3\" rx=\"10\" ry=\"10\" style=\"stroke: #383838; stroke-width: 1.5;\" width=\"60\" x=\"23\" y=\"136.5\"/><rect fill=\"#F8F8F8\" height=\"37.9375\" rx=\"10\" ry=\"10\" style=\"stroke: #F8F8F8; stroke-width: 1.5;\" width=\"60\" x=\"23\" y=\"136.5\"/><rect fill=\"#F8F8F8\" height=\"10\" style=\"stroke: #F8F8F8; stroke-width: 1.5;\" width=\"60\" x=\"23\" y=\"164.4375\"/><rect fill=\"none\" height=\"42.9375\" id=\"E3\" rx=\"10\" ry=\"10\" style=\"stroke: #383838; stroke-width: 1.5;\" width=\"60\" x=\"23\" y=\"136.5\"/><text fill=\"#000000\" font-family=\"sans-serif\" font-size=\"12\" font-style=\"italic\" lengthAdjust=\"spacingAndGlyphs\" textLength=\"53\" x=\"26.5\" y=\"152.6387\">«action»</text><text fill=\"#000000\" font-family=\"sans-serif\" font-size=\"12\" lengthAdjust=\"spacingAndGlyphs\" textLength=\"16\" x=\"45\" y=\"166.6074\">A2</text></a></g><g id=\"E1.E6\"><a href=\"psysml:b42821ea-70f6-43bd-9a67-84f3e511770a\" target=\"_top\" title=\"psysml:b42821ea-70f6-43bd-9a67-84f3e511770a\" xlink:actuate=\"onRequest\" xlink:href=\"psysml:b42821ea-70f6-43bd-9a67-84f3e511770a\" xlink:show=\"new\" xlink:title=\"psysml:b42821ea-70f6-43bd-9a67-84f3e511770a\" xlink:type=\"simple\"><rect fill=\"#FFFFFF\" height=\"42.9375\" id=\"E6\" rx=\"10\" ry=\"10\" style=\"stroke: #383838; stroke-width: 1.5;\" width=\"60\" x=\"129\" y=\"136.5\"/><rect fill=\"#F8F8F8\" height=\"37.9375\" rx=\"10\" ry=\"10\" style=\"stroke: #F8F8F8; stroke-width: 1.5;\" width=\"60\" x=\"129\" y=\"136.5\"/><rect fill=\"#F8F8F8\" height=\"10\" style=\"stroke: #F8F8F8; stroke-width: 1.5;\" width=\"60\" x=\"129\" y=\"164.4375\"/><rect fill=\"none\" height=\"42.9375\" id=\"E6\" rx=\"10\" ry=\"10\" style=\"stroke: #383838; stroke-width: 1.5;\" width=\"60\" x=\"129\" y=\"136.5\"/><text fill=\"#000000\" font-family=\"sans-serif\" font-size=\"12\" font-style=\"italic\" lengthAdjust=\"spacingAndGlyphs\" textLength=\"53\" x=\"132.5\" y=\"152.6387\">«action»</text><text fill=\"#000000\" font-family=\"sans-serif\" font-size=\"12\" lengthAdjust=\"spacingAndGlyphs\" textLength=\"16\" x=\"151\" y=\"166.6074\">B1</text></a></g><g id=\"E1.E7\"><a href=\"psysml:e950d6a4-fdbd-4650-aa0a-2ca4b4e20830\" target=\"_top\" title=\"psysml:e950d6a4-fdbd-4650-aa0a-2ca4b4e20830\" xlink:actuate=\"onRequest\" xlink:href=\"psysml:e950d6a4-fdbd-4650-aa0a-2ca4b4e20830\" xlink:show=\"new\" xlink:title=\"psysml:e950d6a4-fdbd-4650-aa0a-2ca4b4e20830\" xlink:type=\"simple\"><rect fill=\"#FFFFFF\" height=\"42.9375\" id=\"E7\" rx=\"10\" ry=\"10\" style=\"stroke: #383838; stroke-width: 1.5;\" width=\"60\" x=\"129\" y=\"58.5\"/><rect fill=\"#F8F8F8\" height=\"37.9375\" rx=\"10\" ry=\"10\" style=\"stroke: #F8F8F8; stroke-width: 1.5;\" width=\"60\" x=\"129\" y=\"58.5\"/><rect fill=\"#F8F8F8\" height=\"10\" style=\"stroke: #F8F8F8; stroke-width: 1.5;\" width=\"60\" x=\"129\" y=\"86.4375\"/><rect fill=\"none\" height=\"42.9375\" id=\"E7\" rx=\"10\" ry=\"10\" style=\"stroke: #383838; stroke-width: 1.5;\" width=\"60\" x=\"129\" y=\"58.5\"/><text fill=\"#000000\" font-family=\"sans-serif\" font-size=\"12\" font-style=\"italic\" lengthAdjust=\"spacingAndGlyphs\" textLength=\"53\" x=\"132.5\" y=\"74.6387\">«action»</text><text fill=\"#000000\" font-family=\"sans-serif\" font-size=\"12\" lengthAdjust=\"spacingAndGlyphs\" textLength=\"16\" x=\"151\" y=\"88.6074\">B2</text></a></g><!--MD5=[4d03bb2d0377dc85ccfab60ff574652b]\n",
       "link E2 to E4--><a href=\"psysml:4f9dc8d6-d6e0-48a2-bcc8-8318223d246b\" target=\"_top\" title=\"psysml:4f9dc8d6-d6e0-48a2-bcc8-8318223d246b\" xlink:actuate=\"onRequest\" xlink:href=\"psysml:4f9dc8d6-d6e0-48a2-bcc8-8318223d246b\" xlink:show=\"new\" xlink:title=\"psysml:4f9dc8d6-d6e0-48a2-bcc8-8318223d246b\" xlink:type=\"simple\"><path d=\"M77.46,101.78 C81.59,105.62 85.59,109.34 88.82,112.33 \" fill=\"none\" id=\"E2-&gt;E4\" style=\"stroke: #383838; stroke-width: 1.0;\"/><polygon fill=\"#383838\" points=\"92.67,115.91,88.8034,106.8519,89.0086,112.505,83.3554,112.7102,92.67,115.91\" style=\"stroke: #383838; stroke-width: 1.0;\"/><text fill=\"#000000\" font-family=\"sans-serif\" font-size=\"13\" lengthAdjust=\"spacingAndGlyphs\" textLength=\"7\" x=\"84.6346\" y=\"125.3743\">*</text></a><!--MD5=[af87c684e3b0d8be13c1a698a818ef1e]\n",
       "link E3 to E4--><a href=\"psysml:d5a52d23-3eda-48ed-8e98-b9c24f218910\" target=\"_top\" title=\"psysml:d5a52d23-3eda-48ed-8e98-b9c24f218910\" xlink:actuate=\"onRequest\" xlink:href=\"psysml:d5a52d23-3eda-48ed-8e98-b9c24f218910\" xlink:show=\"new\" xlink:title=\"psysml:d5a52d23-3eda-48ed-8e98-b9c24f218910\" xlink:type=\"simple\"><path d=\"M77.46,136.22 C81.59,132.38 85.59,128.66 88.82,125.67 \" fill=\"none\" id=\"E3-&gt;E4\" style=\"stroke: #383838; stroke-width: 1.0;\"/><polygon fill=\"#383838\" points=\"92.67,122.09,83.3554,125.2898,89.0086,125.495,88.8034,131.1481,92.67,122.09\" style=\"stroke: #383838; stroke-width: 1.0;\"/><text fill=\"#000000\" font-family=\"sans-serif\" font-size=\"13\" lengthAdjust=\"spacingAndGlyphs\" textLength=\"7\" x=\"84.2779\" y=\"121.5834\">*</text></a><!--MD5=[1b7591eae5389033d8d09a9d6721a717]\n",
       "link E4 to E5--><a href=\"psysml:822f1664-72e1-4116-b41f-1c0919a615e0\" target=\"_top\" title=\"psysml:822f1664-72e1-4116-b41f-1c0919a615e0\" xlink:actuate=\"onRequest\" xlink:href=\"psysml:822f1664-72e1-4116-b41f-1c0919a615e0\" xlink:show=\"new\" xlink:title=\"psysml:822f1664-72e1-4116-b41f-1c0919a615e0\" xlink:type=\"simple\"><path d=\"M101.08,119 C102.38,119 103.95,119 105.55,119 \" fill=\"none\" id=\"E4-&gt;E5\" style=\"stroke: #383838; stroke-width: 1.0;\"/><polygon fill=\"#383838\" points=\"110.7,119,101.7,115,105.7,119,101.7,123,110.7,119\" style=\"stroke: #383838; stroke-width: 1.0;\"/><text fill=\"#000000\" font-family=\"sans-serif\" font-size=\"13\" lengthAdjust=\"spacingAndGlyphs\" textLength=\"7\" x=\"98.8948\" y=\"179.577\">*</text></a><!--MD5=[9120cf2e5df3bff93db8f754bbbc09b4]\n",
       "link E5 to E6--><a href=\"psysml:2360acce-0fc1-431a-bbc0-189c84da742a\" target=\"_top\" title=\"psysml:2360acce-0fc1-431a-bbc0-189c84da742a\" xlink:actuate=\"onRequest\" xlink:href=\"psysml:2360acce-0fc1-431a-bbc0-189c84da742a\" xlink:show=\"new\" xlink:title=\"psysml:2360acce-0fc1-431a-bbc0-189c84da742a\" xlink:type=\"simple\"><path d=\"M119.02,121.8 C121.78,124.37 126.15,128.43 130.99,132.92 \" fill=\"none\" id=\"E5-&gt;E6\" style=\"stroke: #383838; stroke-width: 1.0;\"/><polygon fill=\"#383838\" points=\"134.77,136.43,130.8845,127.38,131.1015,133.0327,125.4488,133.2496,134.77,136.43\" style=\"stroke: #383838; stroke-width: 1.0;\"/><text fill=\"#000000\" font-family=\"sans-serif\" font-size=\"13\" lengthAdjust=\"spacingAndGlyphs\" textLength=\"7\" x=\"119.9709\" y=\"125.3484\">*</text></a><!--MD5=[3a9b96bfbf6b6ad89c494e81751bda47]\n",
       "link E5 to E7--><a href=\"psysml:ee81c625-3e17-4e8d-972a-76052e7a84e3\" target=\"_top\" title=\"psysml:ee81c625-3e17-4e8d-972a-76052e7a84e3\" xlink:actuate=\"onRequest\" xlink:href=\"psysml:ee81c625-3e17-4e8d-972a-76052e7a84e3\" xlink:show=\"new\" xlink:title=\"psysml:ee81c625-3e17-4e8d-972a-76052e7a84e3\" xlink:type=\"simple\"><path d=\"M119.02,116.2 C121.78,113.63 126.15,109.57 130.99,105.08 \" fill=\"none\" id=\"E5-&gt;E7\" style=\"stroke: #383838; stroke-width: 1.0;\"/><polygon fill=\"#383838\" points=\"134.77,101.57,125.4488,104.7504,131.1015,104.9673,130.8845,110.62,134.77,101.57\" style=\"stroke: #383838; stroke-width: 1.0;\"/><text fill=\"#000000\" font-family=\"sans-serif\" font-size=\"13\" lengthAdjust=\"spacingAndGlyphs\" textLength=\"7\" x=\"120.3176\" y=\"121.4757\">*</text></a><!--MD5=[0c68161caf1bb6d9e6442f786516f97d]\n",
       "@startuml\r\n",
       "skinparam ranksep 10\r\n",
       "skinparam rectangle {\r\n",
       " backgroundColor<<block>> LightGreen\r\n",
       "}\r\n",
       "left to right direction\r\n",
       "skinparam monochrome true\r\n",
       "skinparam classbackgroundcolor white\r\n",
       "skinparam shadowing false\r\n",
       "skinparam wrapWidth 300\r\n",
       "hide circle\r\n",
       "\r\n",
       "rec def \"ControlNodeTest\" as E1  <<(T,blue) action  def>> [[psysml:06c83ae0-0be1-4108-9f79-6c682626264b ]] {\r\n",
       "rec usage \"A1\" as E2  <<(T,blue) action>> [[psysml:b587d390-d46d-4840-bcaf-beb60201fdea ]] {\r\n",
       "}\r\n",
       "\r\n",
       "rec usage \"A2\" as E3  <<(T,blue) action>> [[psysml:2c010bd6-de88-4dc7-8be6-3edc78c34a31 ]] {\r\n",
       "}\r\n",
       "\r\n",
       "join \"J\" as E4  [[psysml:b80e7b99-08a2-49d6-9359-b424cf684151 ]] \r\n",
       "fork \"F\" as E5  [[psysml:df495c9b-9171-48f9-ac7d-26427115e0f4 ]] \r\n",
       "rec usage \"B1\" as E6  <<(T,blue) action>> [[psysml:b42821ea-70f6-43bd-9a67-84f3e511770a ]] {\r\n",
       "}\r\n",
       "\r\n",
       "rec usage \"B2\" as E7  <<(T,blue) action>> [[psysml:e950d6a4-fdbd-4650-aa0a-2ca4b4e20830 ]] {\r\n",
       "}\r\n",
       "\r\n",
       "}\r\n",
       "\r\n",
       "E2 - -> \"*\"E4 [[psysml:4f9dc8d6-d6e0-48a2-bcc8-8318223d246b ]] \r\n",
       "E3 - -> \"*\"E4 [[psysml:d5a52d23-3eda-48ed-8e98-b9c24f218910 ]] \r\n",
       "E4 - -> \"*\"E5 [[psysml:822f1664-72e1-4116-b41f-1c0919a615e0 ]] \r\n",
       "E5 - -> \"*\"E6 [[psysml:2360acce-0fc1-431a-bbc0-189c84da742a ]] \r\n",
       "E5 - -> \"*\"E7 [[psysml:ee81c625-3e17-4e8d-972a-76052e7a84e3 ]] \r\n",
       "@enduml\r\n",
       "\n",
       "PlantUML version 1.2020.13(Sat Jun 13 12:26:38 UTC 2020)\n",
       "(EPL source distribution)\n",
       "Java Runtime: OpenJDK Runtime Environment\n",
       "JVM: OpenJDK 64-Bit Server VM\n",
       "Default Encoding: UTF-8\n",
       "Language: en\n",
       "Country: null\n",
       "--></g></svg>"
      ]
     },
     "execution_count": 19,
     "metadata": {},
     "output_type": "execute_result"
    }
   ],
   "source": [
    "%viz --style=\"LR\" --view=\"Interconnection\" \"ControlNodeTest\""
   ]
  },
  {
   "cell_type": "code",
   "execution_count": 20,
   "id": "8142afcd",
   "metadata": {
    "execution": {
     "iopub.execute_input": "2022-02-18T10:46:10.018519Z",
     "iopub.status.busy": "2022-02-18T10:46:10.018111Z",
     "iopub.status.idle": "2022-02-18T10:46:10.054752Z",
     "shell.execute_reply": "2022-02-18T10:46:10.054461Z"
    }
   },
   "outputs": [
    {
     "data": {
      "image/svg+xml": [
       "<?xml version=\"1.0\" encoding=\"UTF-8\" standalone=\"no\"?><svg xmlns=\"http://www.w3.org/2000/svg\" xmlns:xlink=\"http://www.w3.org/1999/xlink\" contentScriptType=\"application/ecmascript\" contentStyleType=\"text/css\" height=\"207px\" preserveAspectRatio=\"none\" style=\"width:210px;height:207px;\" version=\"1.1\" viewBox=\"0 0 210 207\" width=\"210px\" zoomAndPan=\"magnify\"><defs/><g><!--MD5=[fbc87193dbaf4d95561dea2c320d4a47]\n",
       "cluster E1--><a href=\"psysml:06c83ae0-0be1-4108-9f79-6c682626264b\" target=\"_top\" title=\"psysml:06c83ae0-0be1-4108-9f79-6c682626264b\" xlink:actuate=\"onRequest\" xlink:href=\"psysml:06c83ae0-0be1-4108-9f79-6c682626264b\" xlink:show=\"new\" xlink:title=\"psysml:06c83ae0-0be1-4108-9f79-6c682626264b\" xlink:type=\"simple\"><rect fill=\"#FFFFFF\" height=\"189\" id=\"E1\" style=\"stroke: #383838; stroke-width: 1.5;\" width=\"192\" x=\"7\" y=\"7\"/><rect fill=\"#F8F8F8\" height=\"37.9375\" style=\"stroke: #383838; stroke-width: 1.5;\" width=\"192\" x=\"7\" y=\"7\"/><text fill=\"#000000\" font-family=\"sans-serif\" font-size=\"12\" font-style=\"italic\" lengthAdjust=\"spacingAndGlyphs\" textLength=\"81\" x=\"62.5\" y=\"23.1387\">«action  def»</text><text fill=\"#000000\" font-family=\"sans-serif\" font-size=\"12\" lengthAdjust=\"spacingAndGlyphs\" textLength=\"105\" x=\"50.5\" y=\"37.1074\">ControlNodeTest</text></a><rect fill=\"#000000\" height=\"80\" style=\"stroke: none; stroke-width: 1.0;\" width=\"8\" x=\"91\" y=\"79\"/><rect fill=\"#000000\" height=\"80\" style=\"stroke: none; stroke-width: 1.0;\" width=\"8\" x=\"107\" y=\"79\"/><g id=\"E1.E2\"><a href=\"psysml:b587d390-d46d-4840-bcaf-beb60201fdea\" target=\"_top\" title=\"psysml:b587d390-d46d-4840-bcaf-beb60201fdea\" xlink:actuate=\"onRequest\" xlink:href=\"psysml:b587d390-d46d-4840-bcaf-beb60201fdea\" xlink:show=\"new\" xlink:title=\"psysml:b587d390-d46d-4840-bcaf-beb60201fdea\" xlink:type=\"simple\"><rect fill=\"#FFFFFF\" height=\"42.9375\" id=\"E2\" rx=\"10\" ry=\"10\" style=\"stroke: #383838; stroke-width: 1.5;\" width=\"60\" x=\"23\" y=\"58.5\"/><rect fill=\"#F8F8F8\" height=\"37.9375\" rx=\"10\" ry=\"10\" style=\"stroke: #F8F8F8; stroke-width: 1.5;\" width=\"60\" x=\"23\" y=\"58.5\"/><rect fill=\"#F8F8F8\" height=\"10\" style=\"stroke: #F8F8F8; stroke-width: 1.5;\" width=\"60\" x=\"23\" y=\"86.4375\"/><rect fill=\"none\" height=\"42.9375\" id=\"E2\" rx=\"10\" ry=\"10\" style=\"stroke: #383838; stroke-width: 1.5;\" width=\"60\" x=\"23\" y=\"58.5\"/><text fill=\"#000000\" font-family=\"sans-serif\" font-size=\"12\" font-style=\"italic\" lengthAdjust=\"spacingAndGlyphs\" textLength=\"53\" x=\"26.5\" y=\"74.6387\">«action»</text><text fill=\"#000000\" font-family=\"sans-serif\" font-size=\"12\" lengthAdjust=\"spacingAndGlyphs\" textLength=\"16\" x=\"45\" y=\"88.6074\">A1</text></a></g><g id=\"E1.E3\"><a href=\"psysml:2c010bd6-de88-4dc7-8be6-3edc78c34a31\" target=\"_top\" title=\"psysml:2c010bd6-de88-4dc7-8be6-3edc78c34a31\" xlink:actuate=\"onRequest\" xlink:href=\"psysml:2c010bd6-de88-4dc7-8be6-3edc78c34a31\" xlink:show=\"new\" xlink:title=\"psysml:2c010bd6-de88-4dc7-8be6-3edc78c34a31\" xlink:type=\"simple\"><rect fill=\"#FFFFFF\" height=\"42.9375\" id=\"E3\" rx=\"10\" ry=\"10\" style=\"stroke: #383838; stroke-width: 1.5;\" width=\"60\" x=\"23\" y=\"136.5\"/><rect fill=\"#F8F8F8\" height=\"37.9375\" rx=\"10\" ry=\"10\" style=\"stroke: #F8F8F8; stroke-width: 1.5;\" width=\"60\" x=\"23\" y=\"136.5\"/><rect fill=\"#F8F8F8\" height=\"10\" style=\"stroke: #F8F8F8; stroke-width: 1.5;\" width=\"60\" x=\"23\" y=\"164.4375\"/><rect fill=\"none\" height=\"42.9375\" id=\"E3\" rx=\"10\" ry=\"10\" style=\"stroke: #383838; stroke-width: 1.5;\" width=\"60\" x=\"23\" y=\"136.5\"/><text fill=\"#000000\" font-family=\"sans-serif\" font-size=\"12\" font-style=\"italic\" lengthAdjust=\"spacingAndGlyphs\" textLength=\"53\" x=\"26.5\" y=\"152.6387\">«action»</text><text fill=\"#000000\" font-family=\"sans-serif\" font-size=\"12\" lengthAdjust=\"spacingAndGlyphs\" textLength=\"16\" x=\"45\" y=\"166.6074\">A2</text></a></g><g id=\"E1.E6\"><a href=\"psysml:b42821ea-70f6-43bd-9a67-84f3e511770a\" target=\"_top\" title=\"psysml:b42821ea-70f6-43bd-9a67-84f3e511770a\" xlink:actuate=\"onRequest\" xlink:href=\"psysml:b42821ea-70f6-43bd-9a67-84f3e511770a\" xlink:show=\"new\" xlink:title=\"psysml:b42821ea-70f6-43bd-9a67-84f3e511770a\" xlink:type=\"simple\"><rect fill=\"#FFFFFF\" height=\"42.9375\" id=\"E6\" rx=\"10\" ry=\"10\" style=\"stroke: #383838; stroke-width: 1.5;\" width=\"60\" x=\"123\" y=\"136.5\"/><rect fill=\"#F8F8F8\" height=\"37.9375\" rx=\"10\" ry=\"10\" style=\"stroke: #F8F8F8; stroke-width: 1.5;\" width=\"60\" x=\"123\" y=\"136.5\"/><rect fill=\"#F8F8F8\" height=\"10\" style=\"stroke: #F8F8F8; stroke-width: 1.5;\" width=\"60\" x=\"123\" y=\"164.4375\"/><rect fill=\"none\" height=\"42.9375\" id=\"E6\" rx=\"10\" ry=\"10\" style=\"stroke: #383838; stroke-width: 1.5;\" width=\"60\" x=\"123\" y=\"136.5\"/><text fill=\"#000000\" font-family=\"sans-serif\" font-size=\"12\" font-style=\"italic\" lengthAdjust=\"spacingAndGlyphs\" textLength=\"53\" x=\"126.5\" y=\"152.6387\">«action»</text><text fill=\"#000000\" font-family=\"sans-serif\" font-size=\"12\" lengthAdjust=\"spacingAndGlyphs\" textLength=\"16\" x=\"145\" y=\"166.6074\">B1</text></a></g><g id=\"E1.E7\"><a href=\"psysml:e950d6a4-fdbd-4650-aa0a-2ca4b4e20830\" target=\"_top\" title=\"psysml:e950d6a4-fdbd-4650-aa0a-2ca4b4e20830\" xlink:actuate=\"onRequest\" xlink:href=\"psysml:e950d6a4-fdbd-4650-aa0a-2ca4b4e20830\" xlink:show=\"new\" xlink:title=\"psysml:e950d6a4-fdbd-4650-aa0a-2ca4b4e20830\" xlink:type=\"simple\"><rect fill=\"#FFFFFF\" height=\"42.9375\" id=\"E7\" rx=\"10\" ry=\"10\" style=\"stroke: #383838; stroke-width: 1.5;\" width=\"60\" x=\"123\" y=\"58.5\"/><rect fill=\"#F8F8F8\" height=\"37.9375\" rx=\"10\" ry=\"10\" style=\"stroke: #F8F8F8; stroke-width: 1.5;\" width=\"60\" x=\"123\" y=\"58.5\"/><rect fill=\"#F8F8F8\" height=\"10\" style=\"stroke: #F8F8F8; stroke-width: 1.5;\" width=\"60\" x=\"123\" y=\"86.4375\"/><rect fill=\"none\" height=\"42.9375\" id=\"E7\" rx=\"10\" ry=\"10\" style=\"stroke: #383838; stroke-width: 1.5;\" width=\"60\" x=\"123\" y=\"58.5\"/><text fill=\"#000000\" font-family=\"sans-serif\" font-size=\"12\" font-style=\"italic\" lengthAdjust=\"spacingAndGlyphs\" textLength=\"53\" x=\"126.5\" y=\"74.6387\">«action»</text><text fill=\"#000000\" font-family=\"sans-serif\" font-size=\"12\" lengthAdjust=\"spacingAndGlyphs\" textLength=\"16\" x=\"145\" y=\"88.6074\">B2</text></a></g><!--MD5=[4d03bb2d0377dc85ccfab60ff574652b]\n",
       "link E2 to E4--><a href=\"psysml:4f9dc8d6-d6e0-48a2-bcc8-8318223d246b\" target=\"_top\" title=\"psysml:4f9dc8d6-d6e0-48a2-bcc8-8318223d246b\" xlink:actuate=\"onRequest\" xlink:href=\"psysml:4f9dc8d6-d6e0-48a2-bcc8-8318223d246b\" xlink:show=\"new\" xlink:title=\"psysml:4f9dc8d6-d6e0-48a2-bcc8-8318223d246b\" xlink:type=\"simple\"><path d=\"M76.34,101.78 C80.28,105.62 84.09,109.34 87.16,112.33 \" fill=\"none\" id=\"E2-&gt;E4\" style=\"stroke: #383838; stroke-width: 1.0; stroke-dasharray: 7.0,7.0;\"/><polygon fill=\"#383838\" points=\"90.83,115.91,87.1648,106.7685,87.2448,112.4248,81.5885,112.5048,90.83,115.91\" style=\"stroke: #383838; stroke-width: 1.0;\"/></a><!--MD5=[af87c684e3b0d8be13c1a698a818ef1e]\n",
       "link E3 to E4--><a href=\"psysml:d5a52d23-3eda-48ed-8e98-b9c24f218910\" target=\"_top\" title=\"psysml:d5a52d23-3eda-48ed-8e98-b9c24f218910\" xlink:actuate=\"onRequest\" xlink:href=\"psysml:d5a52d23-3eda-48ed-8e98-b9c24f218910\" xlink:show=\"new\" xlink:title=\"psysml:d5a52d23-3eda-48ed-8e98-b9c24f218910\" xlink:type=\"simple\"><path d=\"M76.34,136.22 C80.28,132.38 84.09,128.66 87.16,125.67 \" fill=\"none\" id=\"E3-&gt;E4\" style=\"stroke: #383838; stroke-width: 1.0; stroke-dasharray: 7.0,7.0;\"/><polygon fill=\"#383838\" points=\"90.83,122.09,81.5885,125.4952,87.2448,125.5752,87.1648,131.2315,90.83,122.09\" style=\"stroke: #383838; stroke-width: 1.0;\"/></a><!--MD5=[1b7591eae5389033d8d09a9d6721a717]\n",
       "link E4 to E5--><a href=\"psysml:822f1664-72e1-4116-b41f-1c0919a615e0\" target=\"_top\" title=\"psysml:822f1664-72e1-4116-b41f-1c0919a615e0\" xlink:actuate=\"onRequest\" xlink:href=\"psysml:822f1664-72e1-4116-b41f-1c0919a615e0\" xlink:show=\"new\" xlink:title=\"psysml:822f1664-72e1-4116-b41f-1c0919a615e0\" xlink:type=\"simple\"><path d=\"M99.25,119 C100.05,119 100.94,119 101.86,119 \" fill=\"none\" id=\"E4-&gt;E5\" style=\"stroke: #383838; stroke-width: 1.0; stroke-dasharray: 7.0,7.0;\"/><polygon fill=\"#383838\" points=\"106.96,119,97.96,115,101.96,119,97.96,123,106.96,119\" style=\"stroke: #383838; stroke-width: 1.0;\"/></a><!--MD5=[9120cf2e5df3bff93db8f754bbbc09b4]\n",
       "link E5 to E6--><a href=\"psysml:2360acce-0fc1-431a-bbc0-189c84da742a\" target=\"_top\" title=\"psysml:2360acce-0fc1-431a-bbc0-189c84da742a\" xlink:actuate=\"onRequest\" xlink:href=\"psysml:2360acce-0fc1-431a-bbc0-189c84da742a\" xlink:show=\"new\" xlink:title=\"psysml:2360acce-0fc1-431a-bbc0-189c84da742a\" xlink:type=\"simple\"><path d=\"M115.14,122.06 C117.73,124.59 121.68,128.43 126.04,132.69 \" fill=\"none\" id=\"E5-&gt;E6\" style=\"stroke: #383838; stroke-width: 1.0; stroke-dasharray: 7.0,7.0;\"/><polygon fill=\"#383838\" points=\"129.78,136.34,126.1518,127.1838,126.2089,132.8404,120.5524,132.8975,129.78,136.34\" style=\"stroke: #383838; stroke-width: 1.0;\"/></a><!--MD5=[3a9b96bfbf6b6ad89c494e81751bda47]\n",
       "link E5 to E7--><a href=\"psysml:ee81c625-3e17-4e8d-972a-76052e7a84e3\" target=\"_top\" title=\"psysml:ee81c625-3e17-4e8d-972a-76052e7a84e3\" xlink:actuate=\"onRequest\" xlink:href=\"psysml:ee81c625-3e17-4e8d-972a-76052e7a84e3\" xlink:show=\"new\" xlink:title=\"psysml:ee81c625-3e17-4e8d-972a-76052e7a84e3\" xlink:type=\"simple\"><path d=\"M115.14,115.94 C117.73,113.41 121.68,109.57 126.04,105.31 \" fill=\"none\" id=\"E5-&gt;E7\" style=\"stroke: #383838; stroke-width: 1.0; stroke-dasharray: 7.0,7.0;\"/><polygon fill=\"#383838\" points=\"129.78,101.66,120.5524,105.1025,126.2089,105.1596,126.1518,110.8162,129.78,101.66\" style=\"stroke: #383838; stroke-width: 1.0;\"/></a><!--MD5=[bf8a6ab43bfc1e3bbf90490b4031741b]\n",
       "@startuml\r\n",
       "skinparam ranksep 8\r\n",
       "left to right direction\r\n",
       "skinparam monochrome true\r\n",
       "skinparam classbackgroundcolor white\r\n",
       "skinparam shadowing false\r\n",
       "skinparam wrapWidth 300\r\n",
       "hide circle\r\n",
       "\r\n",
       "rec def \"ControlNodeTest\" as E1  <<(T,blue) action  def>> [[psysml:06c83ae0-0be1-4108-9f79-6c682626264b ]] {\r\n",
       "rec usage \"A1\" as E2  <<(T,blue) action>> [[psysml:b587d390-d46d-4840-bcaf-beb60201fdea ]] {\r\n",
       "}\r\n",
       "\r\n",
       "rec usage \"A2\" as E3  <<(T,blue) action>> [[psysml:2c010bd6-de88-4dc7-8be6-3edc78c34a31 ]] {\r\n",
       "}\r\n",
       "\r\n",
       "join \"J\" as E4  [[psysml:b80e7b99-08a2-49d6-9359-b424cf684151 ]] \r\n",
       "fork \"F\" as E5  [[psysml:df495c9b-9171-48f9-ac7d-26427115e0f4 ]] \r\n",
       "rec usage \"B1\" as E6  <<(T,blue) action>> [[psysml:b42821ea-70f6-43bd-9a67-84f3e511770a ]] {\r\n",
       "}\r\n",
       "\r\n",
       "rec usage \"B2\" as E7  <<(T,blue) action>> [[psysml:e950d6a4-fdbd-4650-aa0a-2ca4b4e20830 ]] {\r\n",
       "}\r\n",
       "\r\n",
       "}\r\n",
       "\r\n",
       "E2 ..> E4 [[psysml:4f9dc8d6-d6e0-48a2-bcc8-8318223d246b ]] \r\n",
       "E3 ..> E4 [[psysml:d5a52d23-3eda-48ed-8e98-b9c24f218910 ]] \r\n",
       "E4 ..> E5 [[psysml:822f1664-72e1-4116-b41f-1c0919a615e0 ]] \r\n",
       "E5 ..> E6 [[psysml:2360acce-0fc1-431a-bbc0-189c84da742a ]] \r\n",
       "E5 ..> E7 [[psysml:ee81c625-3e17-4e8d-972a-76052e7a84e3 ]] \r\n",
       "@enduml\r\n",
       "\n",
       "PlantUML version 1.2020.13(Sat Jun 13 12:26:38 UTC 2020)\n",
       "(EPL source distribution)\n",
       "Java Runtime: OpenJDK Runtime Environment\n",
       "JVM: OpenJDK 64-Bit Server VM\n",
       "Default Encoding: UTF-8\n",
       "Language: en\n",
       "Country: null\n",
       "--></g></svg>"
      ]
     },
     "execution_count": 20,
     "metadata": {},
     "output_type": "execute_result"
    }
   ],
   "source": [
    "%viz --style=\"LR\" --view=\"Action\" \"ControlNodeTest\""
   ]
  },
  {
   "cell_type": "code",
   "execution_count": 21,
   "id": "b635410a",
   "metadata": {
    "execution": {
     "iopub.execute_input": "2022-02-18T10:46:10.104640Z",
     "iopub.status.busy": "2022-02-18T10:46:10.104242Z",
     "iopub.status.idle": "2022-02-18T10:46:10.111401Z",
     "shell.execute_reply": "2022-02-18T10:46:10.111127Z"
    }
   },
   "outputs": [
    {
     "data": {
      "image/svg+xml": [
       "<?xml version=\"1.0\" encoding=\"UTF-8\" standalone=\"no\"?><svg xmlns=\"http://www.w3.org/2000/svg\" xmlns:xlink=\"http://www.w3.org/1999/xlink\" contentScriptType=\"application/ecmascript\" contentStyleType=\"text/css\" height=\"12px\" preserveAspectRatio=\"none\" style=\"width:12px;height:12px;\" version=\"1.1\" viewBox=\"0 0 12 12\" width=\"12px\" zoomAndPan=\"magnify\"><defs/><g><!--MD5=[238c11ea2002f03115ad6b49a457d50e]\n",
       "@startuml\r\n",
       "skinparam roundcorner 20\r\n",
       "skinparam BoxPadding 20\r\n",
       "skinparam SequenceBoxBackgroundColor #white\r\n",
       "skinparam style strictuml\r\n",
       "skinparam maxMessageSize 100\r\n",
       "left to right direction\r\n",
       "skinparam monochrome true\r\n",
       "skinparam classbackgroundcolor white\r\n",
       "skinparam shadowing false\r\n",
       "skinparam wrapWidth 300\r\n",
       "hide circle\r\n",
       "\r\n",
       "@enduml\r\n",
       "\n",
       "PlantUML version 1.2020.13(Sat Jun 13 12:26:38 UTC 2020)\n",
       "(EPL source distribution)\n",
       "Java Runtime: OpenJDK Runtime Environment\n",
       "JVM: OpenJDK 64-Bit Server VM\n",
       "Default Encoding: UTF-8\n",
       "Language: en\n",
       "Country: null\n",
       "--></g></svg>"
      ]
     },
     "execution_count": 21,
     "metadata": {},
     "output_type": "execute_result"
    }
   ],
   "source": [
    "%viz --style=\"LR\" --view=\"Sequence\" \"ControlNodeTest\""
   ]
  },
  {
   "cell_type": "code",
   "execution_count": 22,
   "id": "3088de62",
   "metadata": {
    "execution": {
     "iopub.execute_input": "2022-02-18T10:46:10.161913Z",
     "iopub.status.busy": "2022-02-18T10:46:10.161422Z",
     "iopub.status.idle": "2022-02-18T10:46:10.197444Z",
     "shell.execute_reply": "2022-02-18T10:46:10.197155Z"
    }
   },
   "outputs": [
    {
     "data": {
      "image/svg+xml": [
       "<?xml version=\"1.0\" encoding=\"UTF-8\" standalone=\"no\"?><svg xmlns=\"http://www.w3.org/2000/svg\" xmlns:xlink=\"http://www.w3.org/1999/xlink\" contentScriptType=\"application/ecmascript\" contentStyleType=\"text/css\" height=\"207px\" preserveAspectRatio=\"none\" style=\"width:366px;height:207px;\" version=\"1.1\" viewBox=\"0 0 366 207\" width=\"366px\" zoomAndPan=\"magnify\"><defs/><g><!--MD5=[fbc87193dbaf4d95561dea2c320d4a47]\n",
       "cluster E1--><a href=\"psysml:06c83ae0-0be1-4108-9f79-6c682626264b\" target=\"_top\" title=\"psysml:06c83ae0-0be1-4108-9f79-6c682626264b\" xlink:actuate=\"onRequest\" xlink:href=\"psysml:06c83ae0-0be1-4108-9f79-6c682626264b\" xlink:show=\"new\" xlink:title=\"psysml:06c83ae0-0be1-4108-9f79-6c682626264b\" xlink:type=\"simple\"><rect fill=\"#FFFFFF\" height=\"189\" id=\"E1\" style=\"stroke: #383838; stroke-width: 1.5;\" width=\"348\" x=\"7\" y=\"7\"/><rect fill=\"#F8F8F8\" height=\"37.9375\" style=\"stroke: #383838; stroke-width: 1.5;\" width=\"348\" x=\"7\" y=\"7\"/><text fill=\"#000000\" font-family=\"sans-serif\" font-size=\"12\" font-style=\"italic\" lengthAdjust=\"spacingAndGlyphs\" textLength=\"81\" x=\"140.5\" y=\"23.1387\">«action  def»</text><text fill=\"#000000\" font-family=\"sans-serif\" font-size=\"12\" lengthAdjust=\"spacingAndGlyphs\" textLength=\"105\" x=\"128.5\" y=\"37.1074\">ControlNodeTest</text></a><rect fill=\"#000000\" height=\"80\" style=\"stroke: none; stroke-width: 1.0;\" width=\"8\" x=\"143\" y=\"79\"/><rect fill=\"#000000\" height=\"80\" style=\"stroke: none; stroke-width: 1.0;\" width=\"8\" x=\"211\" y=\"79\"/><g id=\"E1.E2\"><a href=\"psysml:b587d390-d46d-4840-bcaf-beb60201fdea\" target=\"_top\" title=\"psysml:b587d390-d46d-4840-bcaf-beb60201fdea\" xlink:actuate=\"onRequest\" xlink:href=\"psysml:b587d390-d46d-4840-bcaf-beb60201fdea\" xlink:show=\"new\" xlink:title=\"psysml:b587d390-d46d-4840-bcaf-beb60201fdea\" xlink:type=\"simple\"><rect fill=\"#FFFFFF\" height=\"42.9375\" id=\"E2\" rx=\"10\" ry=\"10\" style=\"stroke: #383838; stroke-width: 1.5;\" width=\"60\" x=\"23\" y=\"58.5\"/><rect fill=\"#F8F8F8\" height=\"37.9375\" rx=\"10\" ry=\"10\" style=\"stroke: #F8F8F8; stroke-width: 1.5;\" width=\"60\" x=\"23\" y=\"58.5\"/><rect fill=\"#F8F8F8\" height=\"10\" style=\"stroke: #F8F8F8; stroke-width: 1.5;\" width=\"60\" x=\"23\" y=\"86.4375\"/><rect fill=\"none\" height=\"42.9375\" id=\"E2\" rx=\"10\" ry=\"10\" style=\"stroke: #383838; stroke-width: 1.5;\" width=\"60\" x=\"23\" y=\"58.5\"/><text fill=\"#000000\" font-family=\"sans-serif\" font-size=\"12\" font-style=\"italic\" lengthAdjust=\"spacingAndGlyphs\" textLength=\"53\" x=\"26.5\" y=\"74.6387\">«action»</text><text fill=\"#000000\" font-family=\"sans-serif\" font-size=\"12\" lengthAdjust=\"spacingAndGlyphs\" textLength=\"16\" x=\"45\" y=\"88.6074\">A1</text></a></g><g id=\"E1.E3\"><a href=\"psysml:2c010bd6-de88-4dc7-8be6-3edc78c34a31\" target=\"_top\" title=\"psysml:2c010bd6-de88-4dc7-8be6-3edc78c34a31\" xlink:actuate=\"onRequest\" xlink:href=\"psysml:2c010bd6-de88-4dc7-8be6-3edc78c34a31\" xlink:show=\"new\" xlink:title=\"psysml:2c010bd6-de88-4dc7-8be6-3edc78c34a31\" xlink:type=\"simple\"><rect fill=\"#FFFFFF\" height=\"42.9375\" id=\"E3\" rx=\"10\" ry=\"10\" style=\"stroke: #383838; stroke-width: 1.5;\" width=\"60\" x=\"23\" y=\"136.5\"/><rect fill=\"#F8F8F8\" height=\"37.9375\" rx=\"10\" ry=\"10\" style=\"stroke: #F8F8F8; stroke-width: 1.5;\" width=\"60\" x=\"23\" y=\"136.5\"/><rect fill=\"#F8F8F8\" height=\"10\" style=\"stroke: #F8F8F8; stroke-width: 1.5;\" width=\"60\" x=\"23\" y=\"164.4375\"/><rect fill=\"none\" height=\"42.9375\" id=\"E3\" rx=\"10\" ry=\"10\" style=\"stroke: #383838; stroke-width: 1.5;\" width=\"60\" x=\"23\" y=\"136.5\"/><text fill=\"#000000\" font-family=\"sans-serif\" font-size=\"12\" font-style=\"italic\" lengthAdjust=\"spacingAndGlyphs\" textLength=\"53\" x=\"26.5\" y=\"152.6387\">«action»</text><text fill=\"#000000\" font-family=\"sans-serif\" font-size=\"12\" lengthAdjust=\"spacingAndGlyphs\" textLength=\"16\" x=\"45\" y=\"166.6074\">A2</text></a></g><g id=\"E1.E6\"><a href=\"psysml:b42821ea-70f6-43bd-9a67-84f3e511770a\" target=\"_top\" title=\"psysml:b42821ea-70f6-43bd-9a67-84f3e511770a\" xlink:actuate=\"onRequest\" xlink:href=\"psysml:b42821ea-70f6-43bd-9a67-84f3e511770a\" xlink:show=\"new\" xlink:title=\"psysml:b42821ea-70f6-43bd-9a67-84f3e511770a\" xlink:type=\"simple\"><rect fill=\"#FFFFFF\" height=\"42.9375\" id=\"E6\" rx=\"10\" ry=\"10\" style=\"stroke: #383838; stroke-width: 1.5;\" width=\"60\" x=\"279\" y=\"136.5\"/><rect fill=\"#F8F8F8\" height=\"37.9375\" rx=\"10\" ry=\"10\" style=\"stroke: #F8F8F8; stroke-width: 1.5;\" width=\"60\" x=\"279\" y=\"136.5\"/><rect fill=\"#F8F8F8\" height=\"10\" style=\"stroke: #F8F8F8; stroke-width: 1.5;\" width=\"60\" x=\"279\" y=\"164.4375\"/><rect fill=\"none\" height=\"42.9375\" id=\"E6\" rx=\"10\" ry=\"10\" style=\"stroke: #383838; stroke-width: 1.5;\" width=\"60\" x=\"279\" y=\"136.5\"/><text fill=\"#000000\" font-family=\"sans-serif\" font-size=\"12\" font-style=\"italic\" lengthAdjust=\"spacingAndGlyphs\" textLength=\"53\" x=\"282.5\" y=\"152.6387\">«action»</text><text fill=\"#000000\" font-family=\"sans-serif\" font-size=\"12\" lengthAdjust=\"spacingAndGlyphs\" textLength=\"16\" x=\"301\" y=\"166.6074\">B1</text></a></g><g id=\"E1.E7\"><a href=\"psysml:e950d6a4-fdbd-4650-aa0a-2ca4b4e20830\" target=\"_top\" title=\"psysml:e950d6a4-fdbd-4650-aa0a-2ca4b4e20830\" xlink:actuate=\"onRequest\" xlink:href=\"psysml:e950d6a4-fdbd-4650-aa0a-2ca4b4e20830\" xlink:show=\"new\" xlink:title=\"psysml:e950d6a4-fdbd-4650-aa0a-2ca4b4e20830\" xlink:type=\"simple\"><rect fill=\"#FFFFFF\" height=\"42.9375\" id=\"E7\" rx=\"10\" ry=\"10\" style=\"stroke: #383838; stroke-width: 1.5;\" width=\"60\" x=\"279\" y=\"58.5\"/><rect fill=\"#F8F8F8\" height=\"37.9375\" rx=\"10\" ry=\"10\" style=\"stroke: #F8F8F8; stroke-width: 1.5;\" width=\"60\" x=\"279\" y=\"58.5\"/><rect fill=\"#F8F8F8\" height=\"10\" style=\"stroke: #F8F8F8; stroke-width: 1.5;\" width=\"60\" x=\"279\" y=\"86.4375\"/><rect fill=\"none\" height=\"42.9375\" id=\"E7\" rx=\"10\" ry=\"10\" style=\"stroke: #383838; stroke-width: 1.5;\" width=\"60\" x=\"279\" y=\"58.5\"/><text fill=\"#000000\" font-family=\"sans-serif\" font-size=\"12\" font-style=\"italic\" lengthAdjust=\"spacingAndGlyphs\" textLength=\"53\" x=\"282.5\" y=\"74.6387\">«action»</text><text fill=\"#000000\" font-family=\"sans-serif\" font-size=\"12\" lengthAdjust=\"spacingAndGlyphs\" textLength=\"16\" x=\"301\" y=\"88.6074\">B2</text></a></g><!--MD5=[4d03bb2d0377dc85ccfab60ff574652b]\n",
       "link E2 to E4--><a href=\"psysml:4f9dc8d6-d6e0-48a2-bcc8-8318223d246b\" target=\"_top\" title=\"psysml:4f9dc8d6-d6e0-48a2-bcc8-8318223d246b\" xlink:actuate=\"onRequest\" xlink:href=\"psysml:4f9dc8d6-d6e0-48a2-bcc8-8318223d246b\" xlink:show=\"new\" xlink:title=\"psysml:4f9dc8d6-d6e0-48a2-bcc8-8318223d246b\" xlink:type=\"simple\"><path d=\"M83.11,92.34 C102.1,100.39 125.55,110.33 137.75,115.5 \" fill=\"none\" id=\"E2-&gt;E4\" style=\"stroke: #383838; stroke-width: 1.0;\"/><polygon fill=\"#383838\" points=\"142.51,117.52,135.7944,110.3158,137.9091,115.5625,132.6624,117.6772,142.51,117.52\" style=\"stroke: #383838; stroke-width: 1.0;\"/><text fill=\"#000000\" font-family=\"sans-serif\" font-size=\"13\" lengthAdjust=\"spacingAndGlyphs\" textLength=\"7\" x=\"128.1193\" y=\"135.2168\">*</text></a><!--MD5=[af87c684e3b0d8be13c1a698a818ef1e]\n",
       "link E3 to E4--><a href=\"psysml:d5a52d23-3eda-48ed-8e98-b9c24f218910\" target=\"_top\" title=\"psysml:d5a52d23-3eda-48ed-8e98-b9c24f218910\" xlink:actuate=\"onRequest\" xlink:href=\"psysml:d5a52d23-3eda-48ed-8e98-b9c24f218910\" xlink:show=\"new\" xlink:title=\"psysml:d5a52d23-3eda-48ed-8e98-b9c24f218910\" xlink:type=\"simple\"><path d=\"M83.11,145.66 C102.1,137.61 125.55,127.67 137.75,122.5 \" fill=\"none\" id=\"E3-&gt;E4\" style=\"stroke: #383838; stroke-width: 1.0;\"/><polygon fill=\"#383838\" points=\"142.51,120.48,132.6624,120.3228,137.9091,122.4375,135.7944,127.6842,142.51,120.48\" style=\"stroke: #383838; stroke-width: 1.0;\"/><text fill=\"#000000\" font-family=\"sans-serif\" font-size=\"13\" lengthAdjust=\"spacingAndGlyphs\" textLength=\"7\" x=\"128.1193\" y=\"112.0398\">*</text></a><!--MD5=[1b7591eae5389033d8d09a9d6721a717]\n",
       "link E4 to E5--><a href=\"psysml:822f1664-72e1-4116-b41f-1c0919a615e0\" target=\"_top\" title=\"psysml:822f1664-72e1-4116-b41f-1c0919a615e0\" xlink:actuate=\"onRequest\" xlink:href=\"psysml:822f1664-72e1-4116-b41f-1c0919a615e0\" xlink:show=\"new\" xlink:title=\"psysml:822f1664-72e1-4116-b41f-1c0919a615e0\" xlink:type=\"simple\"><path d=\"M151.18,119 C160.92,119 190.52,119 205.34,119 \" fill=\"none\" id=\"E4-&gt;E5\" style=\"stroke: #383838; stroke-width: 1.0;\"/><polygon fill=\"#383838\" points=\"210.69,119,201.69,115,205.69,119,201.69,123,210.69,119\" style=\"stroke: #383838; stroke-width: 1.0;\"/><text fill=\"#000000\" font-family=\"sans-serif\" font-size=\"13\" lengthAdjust=\"spacingAndGlyphs\" textLength=\"7\" x=\"196.0752\" y=\"138.4441\">*</text></a><!--MD5=[9120cf2e5df3bff93db8f754bbbc09b4]\n",
       "link E5 to E6--><a href=\"psysml:2360acce-0fc1-431a-bbc0-189c84da742a\" target=\"_top\" title=\"psysml:2360acce-0fc1-431a-bbc0-189c84da742a\" xlink:actuate=\"onRequest\" xlink:href=\"psysml:2360acce-0fc1-431a-bbc0-189c84da742a\" xlink:show=\"new\" xlink:title=\"psysml:2360acce-0fc1-431a-bbc0-189c84da742a\" xlink:type=\"simple\"><path d=\"M219.06,120.3 C227.64,123.93 252.69,134.55 274.03,143.6 \" fill=\"none\" id=\"E5-&gt;E6\" style=\"stroke: #383838; stroke-width: 1.0;\"/><polygon fill=\"#383838\" points=\"278.8,145.62,272.0844,138.4158,274.1991,143.6625,268.9524,145.7772,278.8,145.62\" style=\"stroke: #383838; stroke-width: 1.0;\"/><text fill=\"#000000\" font-family=\"sans-serif\" font-size=\"13\" lengthAdjust=\"spacingAndGlyphs\" textLength=\"7\" x=\"264.0069\" y=\"156.581\">*</text></a><!--MD5=[3a9b96bfbf6b6ad89c494e81751bda47]\n",
       "link E5 to E7--><a href=\"psysml:ee81c625-3e17-4e8d-972a-76052e7a84e3\" target=\"_top\" title=\"psysml:ee81c625-3e17-4e8d-972a-76052e7a84e3\" xlink:actuate=\"onRequest\" xlink:href=\"psysml:ee81c625-3e17-4e8d-972a-76052e7a84e3\" xlink:show=\"new\" xlink:title=\"psysml:ee81c625-3e17-4e8d-972a-76052e7a84e3\" xlink:type=\"simple\"><path d=\"M219.06,117.7 C227.64,114.07 252.69,103.45 274.03,94.4 \" fill=\"none\" id=\"E5-&gt;E7\" style=\"stroke: #383838; stroke-width: 1.0;\"/><polygon fill=\"#383838\" points=\"278.8,92.38,268.9524,92.2228,274.1991,94.3375,272.0844,99.5842,278.8,92.38\" style=\"stroke: #383838; stroke-width: 1.0;\"/><text fill=\"#000000\" font-family=\"sans-serif\" font-size=\"13\" lengthAdjust=\"spacingAndGlyphs\" textLength=\"7\" x=\"264.0069\" y=\"109.0667\">*</text></a><!--MD5=[941a071e64f352effbb50a0623f0e9ee]\n",
       "@startuml\r\n",
       "left to right direction\r\n",
       "skinparam monochrome true\r\n",
       "skinparam classbackgroundcolor white\r\n",
       "skinparam shadowing false\r\n",
       "skinparam wrapWidth 300\r\n",
       "hide circle\r\n",
       "\r\n",
       "rec def \"ControlNodeTest\" as E1  <<(T,blue) action  def>> [[psysml:06c83ae0-0be1-4108-9f79-6c682626264b ]] {\r\n",
       "rec usage \"A1\" as E2  <<(T,blue) action>> [[psysml:b587d390-d46d-4840-bcaf-beb60201fdea ]] {\r\n",
       "}\r\n",
       "\r\n",
       "rec usage \"A2\" as E3  <<(T,blue) action>> [[psysml:2c010bd6-de88-4dc7-8be6-3edc78c34a31 ]] {\r\n",
       "}\r\n",
       "\r\n",
       "join \"J\" as E4  [[psysml:b80e7b99-08a2-49d6-9359-b424cf684151 ]] \r\n",
       "fork \"F\" as E5  [[psysml:df495c9b-9171-48f9-ac7d-26427115e0f4 ]] \r\n",
       "rec usage \"B1\" as E6  <<(T,blue) action>> [[psysml:b42821ea-70f6-43bd-9a67-84f3e511770a ]] {\r\n",
       "}\r\n",
       "\r\n",
       "rec usage \"B2\" as E7  <<(T,blue) action>> [[psysml:e950d6a4-fdbd-4650-aa0a-2ca4b4e20830 ]] {\r\n",
       "}\r\n",
       "\r\n",
       "}\r\n",
       "\r\n",
       "E2 - -> \"*\"E4 [[psysml:4f9dc8d6-d6e0-48a2-bcc8-8318223d246b ]] \r\n",
       "E3 - -> \"*\"E4 [[psysml:d5a52d23-3eda-48ed-8e98-b9c24f218910 ]] \r\n",
       "E4 - -> \"*\"E5 [[psysml:822f1664-72e1-4116-b41f-1c0919a615e0 ]] \r\n",
       "E5 - -> \"*\"E6 [[psysml:2360acce-0fc1-431a-bbc0-189c84da742a ]] \r\n",
       "E5 - -> \"*\"E7 [[psysml:ee81c625-3e17-4e8d-972a-76052e7a84e3 ]] \r\n",
       "@enduml\r\n",
       "\n",
       "PlantUML version 1.2020.13(Sat Jun 13 12:26:38 UTC 2020)\n",
       "(EPL source distribution)\n",
       "Java Runtime: OpenJDK Runtime Environment\n",
       "JVM: OpenJDK 64-Bit Server VM\n",
       "Default Encoding: UTF-8\n",
       "Language: en\n",
       "Country: null\n",
       "--></g></svg>"
      ]
     },
     "execution_count": 22,
     "metadata": {},
     "output_type": "execute_result"
    }
   ],
   "source": [
    "%viz --style=\"LR\" --view=\"MIXED\" \"ControlNodeTest\""
   ]
  },
  {
   "cell_type": "code",
   "execution_count": 23,
   "id": "ee19946c",
   "metadata": {
    "execution": {
     "iopub.execute_input": "2022-02-18T10:46:10.247202Z",
     "iopub.status.busy": "2022-02-18T10:46:10.246948Z",
     "iopub.status.idle": "2022-02-18T10:46:10.278526Z",
     "shell.execute_reply": "2022-02-18T10:46:10.278329Z"
    }
   },
   "outputs": [
    {
     "data": {
      "image/svg+xml": [
       "<?xml version=\"1.0\" encoding=\"UTF-8\" standalone=\"no\"?><svg xmlns=\"http://www.w3.org/2000/svg\" xmlns:xlink=\"http://www.w3.org/1999/xlink\" contentScriptType=\"application/ecmascript\" contentStyleType=\"text/css\" height=\"375px\" preserveAspectRatio=\"none\" style=\"width:213px;height:375px;\" version=\"1.1\" viewBox=\"0 0 213 375\" width=\"213px\" zoomAndPan=\"magnify\"><defs><filter height=\"300%\" id=\"fmkwkkob47eew\" width=\"300%\" x=\"-1\" y=\"-1\"><feGaussianBlur result=\"blurOut\" stdDeviation=\"2.0\"/><feColorMatrix in=\"blurOut\" result=\"blurOut2\" type=\"matrix\" values=\"0 0 0 0 0 0 0 0 0 0 0 0 0 0 0 0 0 0 .4 0\"/><feOffset dx=\"4.0\" dy=\"4.0\" in=\"blurOut2\" result=\"blurOut3\"/><feBlend in=\"SourceGraphic\" in2=\"blurOut3\" mode=\"normal\"/></filter></defs><g><!--MD5=[fbc87193dbaf4d95561dea2c320d4a47]\n",
       "cluster E1--><a href=\"psysml:06c83ae0-0be1-4108-9f79-6c682626264b\" target=\"_top\" title=\"psysml:06c83ae0-0be1-4108-9f79-6c682626264b\" xlink:actuate=\"onRequest\" xlink:href=\"psysml:06c83ae0-0be1-4108-9f79-6c682626264b\" xlink:show=\"new\" xlink:title=\"psysml:06c83ae0-0be1-4108-9f79-6c682626264b\" xlink:type=\"simple\"><rect fill=\"#FFFFFF\" filter=\"url(#fmkwkkob47eew)\" height=\"349\" id=\"E1\" style=\"stroke: #A80036; stroke-width: 1.5;\" width=\"187\" x=\"7\" y=\"7\"/><rect fill=\"#FEFECE\" height=\"37.9375\" style=\"stroke: #A80036; stroke-width: 1.5;\" width=\"187\" x=\"7\" y=\"7\"/><text fill=\"#000000\" font-family=\"sans-serif\" font-size=\"12\" font-style=\"italic\" lengthAdjust=\"spacingAndGlyphs\" textLength=\"81\" x=\"60\" y=\"23.1387\">«action  def»</text><text fill=\"#000000\" font-family=\"sans-serif\" font-size=\"12\" lengthAdjust=\"spacingAndGlyphs\" textLength=\"105\" x=\"48\" y=\"37.1074\">ControlNodeTest</text></a><rect fill=\"#000000\" filter=\"url(#fmkwkkob47eew)\" height=\"8\" style=\"stroke: none; stroke-width: 1.0;\" width=\"80\" x=\"60\" y=\"161\"/><rect fill=\"#000000\" filter=\"url(#fmkwkkob47eew)\" height=\"8\" style=\"stroke: none; stroke-width: 1.0;\" width=\"80\" x=\"60\" y=\"229\"/><g id=\"E1.E2\"><a href=\"psysml:b587d390-d46d-4840-bcaf-beb60201fdea\" target=\"_top\" title=\"psysml:b587d390-d46d-4840-bcaf-beb60201fdea\" xlink:actuate=\"onRequest\" xlink:href=\"psysml:b587d390-d46d-4840-bcaf-beb60201fdea\" xlink:show=\"new\" xlink:title=\"psysml:b587d390-d46d-4840-bcaf-beb60201fdea\" xlink:type=\"simple\"><rect fill=\"#FEFECE\" filter=\"url(#fmkwkkob47eew)\" height=\"42.9375\" id=\"E2\" rx=\"10\" ry=\"10\" style=\"stroke: #A80036; stroke-width: 1.5;\" width=\"60\" x=\"118\" y=\"58\"/><text fill=\"#000000\" font-family=\"sans-serif\" font-size=\"12\" font-style=\"italic\" lengthAdjust=\"spacingAndGlyphs\" textLength=\"53\" x=\"121.5\" y=\"74.1387\">«action»</text><text fill=\"#000000\" font-family=\"sans-serif\" font-size=\"12\" lengthAdjust=\"spacingAndGlyphs\" textLength=\"16\" x=\"140\" y=\"88.1074\">A1</text></a></g><g id=\"E1.E3\"><a href=\"psysml:2c010bd6-de88-4dc7-8be6-3edc78c34a31\" target=\"_top\" title=\"psysml:2c010bd6-de88-4dc7-8be6-3edc78c34a31\" xlink:actuate=\"onRequest\" xlink:href=\"psysml:2c010bd6-de88-4dc7-8be6-3edc78c34a31\" xlink:show=\"new\" xlink:title=\"psysml:2c010bd6-de88-4dc7-8be6-3edc78c34a31\" xlink:type=\"simple\"><rect fill=\"#FEFECE\" filter=\"url(#fmkwkkob47eew)\" height=\"42.9375\" id=\"E3\" rx=\"10\" ry=\"10\" style=\"stroke: #A80036; stroke-width: 1.5;\" width=\"60\" x=\"23\" y=\"58\"/><text fill=\"#000000\" font-family=\"sans-serif\" font-size=\"12\" font-style=\"italic\" lengthAdjust=\"spacingAndGlyphs\" textLength=\"53\" x=\"26.5\" y=\"74.1387\">«action»</text><text fill=\"#000000\" font-family=\"sans-serif\" font-size=\"12\" lengthAdjust=\"spacingAndGlyphs\" textLength=\"16\" x=\"45\" y=\"88.1074\">A2</text></a></g><g id=\"E1.E6\"><a href=\"psysml:b42821ea-70f6-43bd-9a67-84f3e511770a\" target=\"_top\" title=\"psysml:b42821ea-70f6-43bd-9a67-84f3e511770a\" xlink:actuate=\"onRequest\" xlink:href=\"psysml:b42821ea-70f6-43bd-9a67-84f3e511770a\" xlink:show=\"new\" xlink:title=\"psysml:b42821ea-70f6-43bd-9a67-84f3e511770a\" xlink:type=\"simple\"><rect fill=\"#FEFECE\" filter=\"url(#fmkwkkob47eew)\" height=\"42.9375\" id=\"E6\" rx=\"10\" ry=\"10\" style=\"stroke: #A80036; stroke-width: 1.5;\" width=\"60\" x=\"23\" y=\"297\"/><text fill=\"#000000\" font-family=\"sans-serif\" font-size=\"12\" font-style=\"italic\" lengthAdjust=\"spacingAndGlyphs\" textLength=\"53\" x=\"26.5\" y=\"313.1387\">«action»</text><text fill=\"#000000\" font-family=\"sans-serif\" font-size=\"12\" lengthAdjust=\"spacingAndGlyphs\" textLength=\"16\" x=\"45\" y=\"327.1074\">B1</text></a></g><g id=\"E1.E7\"><a href=\"psysml:e950d6a4-fdbd-4650-aa0a-2ca4b4e20830\" target=\"_top\" title=\"psysml:e950d6a4-fdbd-4650-aa0a-2ca4b4e20830\" xlink:actuate=\"onRequest\" xlink:href=\"psysml:e950d6a4-fdbd-4650-aa0a-2ca4b4e20830\" xlink:show=\"new\" xlink:title=\"psysml:e950d6a4-fdbd-4650-aa0a-2ca4b4e20830\" xlink:type=\"simple\"><rect fill=\"#FEFECE\" filter=\"url(#fmkwkkob47eew)\" height=\"42.9375\" id=\"E7\" rx=\"10\" ry=\"10\" style=\"stroke: #A80036; stroke-width: 1.5;\" width=\"60\" x=\"118\" y=\"297\"/><text fill=\"#000000\" font-family=\"sans-serif\" font-size=\"12\" font-style=\"italic\" lengthAdjust=\"spacingAndGlyphs\" textLength=\"53\" x=\"121.5\" y=\"313.1387\">«action»</text><text fill=\"#000000\" font-family=\"sans-serif\" font-size=\"12\" lengthAdjust=\"spacingAndGlyphs\" textLength=\"16\" x=\"140\" y=\"327.1074\">B2</text></a></g><!--MD5=[4d03bb2d0377dc85ccfab60ff574652b]\n",
       "link E2 to E4--><a href=\"psysml:4f9dc8d6-d6e0-48a2-bcc8-8318223d246b\" target=\"_top\" title=\"psysml:4f9dc8d6-d6e0-48a2-bcc8-8318223d246b\" xlink:actuate=\"onRequest\" xlink:href=\"psysml:4f9dc8d6-d6e0-48a2-bcc8-8318223d246b\" xlink:show=\"new\" xlink:title=\"psysml:4f9dc8d6-d6e0-48a2-bcc8-8318223d246b\" xlink:type=\"simple\"><path d=\"M136.13,101.14 C125.84,119.06 111.49,144.01 104.37,156.4 \" fill=\"none\" id=\"E2-&gt;E4\" style=\"stroke: #A80036; stroke-width: 1.0;\"/><polygon fill=\"#A80036\" points=\"101.79,160.88,109.7406,155.0673,104.2799,156.5441,102.8031,151.0834,101.79,160.88\" style=\"stroke: #A80036; stroke-width: 1.0;\"/><text fill=\"#000000\" font-family=\"sans-serif\" font-size=\"13\" lengthAdjust=\"spacingAndGlyphs\" textLength=\"7\" x=\"93.6144\" y=\"150.0038\">*</text></a><!--MD5=[af87c684e3b0d8be13c1a698a818ef1e]\n",
       "link E3 to E4--><a href=\"psysml:d5a52d23-3eda-48ed-8e98-b9c24f218910\" target=\"_top\" title=\"psysml:d5a52d23-3eda-48ed-8e98-b9c24f218910\" xlink:actuate=\"onRequest\" xlink:href=\"psysml:d5a52d23-3eda-48ed-8e98-b9c24f218910\" xlink:show=\"new\" xlink:title=\"psysml:d5a52d23-3eda-48ed-8e98-b9c24f218910\" xlink:type=\"simple\"><path d=\"M64.62,101.14 C74.7,119.06 88.75,144.01 95.72,156.4 \" fill=\"none\" id=\"E3-&gt;E4\" style=\"stroke: #A80036; stroke-width: 1.0;\"/><polygon fill=\"#A80036\" points=\"98.25,160.88,97.3377,151.0735,95.8048,156.5187,90.3596,154.9858,98.25,160.88\" style=\"stroke: #A80036; stroke-width: 1.0;\"/><text fill=\"#000000\" font-family=\"sans-serif\" font-size=\"13\" lengthAdjust=\"spacingAndGlyphs\" textLength=\"7\" x=\"99.4531\" y=\"150.0038\">*</text></a><!--MD5=[1b7591eae5389033d8d09a9d6721a717]\n",
       "link E4 to E5--><a href=\"psysml:822f1664-72e1-4116-b41f-1c0919a615e0\" target=\"_top\" title=\"psysml:822f1664-72e1-4116-b41f-1c0919a615e0\" xlink:actuate=\"onRequest\" xlink:href=\"psysml:822f1664-72e1-4116-b41f-1c0919a615e0\" xlink:show=\"new\" xlink:title=\"psysml:822f1664-72e1-4116-b41f-1c0919a615e0\" xlink:type=\"simple\"><path d=\"M100,169.18 C100,178.92 100,208.52 100,223.34 \" fill=\"none\" id=\"E4-&gt;E5\" style=\"stroke: #A80036; stroke-width: 1.0;\"/><polygon fill=\"#A80036\" points=\"100,228.69,104,219.69,100,223.69,96,219.69,100,228.69\" style=\"stroke: #A80036; stroke-width: 1.0;\"/><text fill=\"#000000\" font-family=\"sans-serif\" font-size=\"13\" lengthAdjust=\"spacingAndGlyphs\" textLength=\"7\" x=\"90.6813\" y=\"217.9768\">*</text></a><!--MD5=[9120cf2e5df3bff93db8f754bbbc09b4]\n",
       "link E5 to E6--><a href=\"psysml:2360acce-0fc1-431a-bbc0-189c84da742a\" target=\"_top\" title=\"psysml:2360acce-0fc1-431a-bbc0-189c84da742a\" xlink:actuate=\"onRequest\" xlink:href=\"psysml:2360acce-0fc1-431a-bbc0-189c84da742a\" xlink:show=\"new\" xlink:title=\"psysml:2360acce-0fc1-431a-bbc0-189c84da742a\" xlink:type=\"simple\"><path d=\"M98.21,237.17 C93.16,246.14 78.41,272.36 67.11,292.43 \" fill=\"none\" id=\"E5-&gt;E6\" style=\"stroke: #A80036; stroke-width: 1.0;\"/><polygon fill=\"#A80036\" points=\"64.61,296.87,72.5151,290.9955,67.0661,292.5148,65.5467,287.0658,64.61,296.87\" style=\"stroke: #A80036; stroke-width: 1.0;\"/><text fill=\"#000000\" font-family=\"sans-serif\" font-size=\"13\" lengthAdjust=\"spacingAndGlyphs\" textLength=\"7\" x=\"59.8909\" y=\"285.7715\">*</text></a><!--MD5=[3a9b96bfbf6b6ad89c494e81751bda47]\n",
       "link E5 to E7--><a href=\"psysml:ee81c625-3e17-4e8d-972a-76052e7a84e3\" target=\"_top\" title=\"psysml:ee81c625-3e17-4e8d-972a-76052e7a84e3\" xlink:actuate=\"onRequest\" xlink:href=\"psysml:ee81c625-3e17-4e8d-972a-76052e7a84e3\" xlink:show=\"new\" xlink:title=\"psysml:ee81c625-3e17-4e8d-972a-76052e7a84e3\" xlink:type=\"simple\"><path d=\"M101.82,237.17 C106.98,246.14 122.05,272.36 133.59,292.43 \" fill=\"none\" id=\"E5-&gt;E7\" style=\"stroke: #A80036; stroke-width: 1.0;\"/><polygon fill=\"#A80036\" points=\"136.14,296.87,135.1269,287.0734,133.6501,292.5341,128.1894,291.0573,136.14,296.87\" style=\"stroke: #A80036; stroke-width: 1.0;\"/><text fill=\"#000000\" font-family=\"sans-serif\" font-size=\"13\" lengthAdjust=\"spacingAndGlyphs\" textLength=\"7\" x=\"124.82\" y=\"285.7715\">*</text></a><!--MD5=[27a6a5151e3be65f404881fcc5d39dfa]\n",
       "@startuml\r\n",
       "skinparam wrapWidth 300\r\n",
       "hide circle\r\n",
       "\r\n",
       "rec def \"ControlNodeTest\" as E1  <<(T,blue) action  def>> [[psysml:06c83ae0-0be1-4108-9f79-6c682626264b ]] {\r\n",
       "rec usage \"A1\" as E2  <<(T,blue) action>> [[psysml:b587d390-d46d-4840-bcaf-beb60201fdea ]] {\r\n",
       "}\r\n",
       "\r\n",
       "rec usage \"A2\" as E3  <<(T,blue) action>> [[psysml:2c010bd6-de88-4dc7-8be6-3edc78c34a31 ]] {\r\n",
       "}\r\n",
       "\r\n",
       "join \"J\" as E4  [[psysml:b80e7b99-08a2-49d6-9359-b424cf684151 ]] \r\n",
       "fork \"F\" as E5  [[psysml:df495c9b-9171-48f9-ac7d-26427115e0f4 ]] \r\n",
       "rec usage \"B1\" as E6  <<(T,blue) action>> [[psysml:b42821ea-70f6-43bd-9a67-84f3e511770a ]] {\r\n",
       "}\r\n",
       "\r\n",
       "rec usage \"B2\" as E7  <<(T,blue) action>> [[psysml:e950d6a4-fdbd-4650-aa0a-2ca4b4e20830 ]] {\r\n",
       "}\r\n",
       "\r\n",
       "}\r\n",
       "\r\n",
       "E2 - -> \"*\"E4 [[psysml:4f9dc8d6-d6e0-48a2-bcc8-8318223d246b ]] \r\n",
       "E3 - -> \"*\"E4 [[psysml:d5a52d23-3eda-48ed-8e98-b9c24f218910 ]] \r\n",
       "E4 - -> \"*\"E5 [[psysml:822f1664-72e1-4116-b41f-1c0919a615e0 ]] \r\n",
       "E5 - -> \"*\"E6 [[psysml:2360acce-0fc1-431a-bbc0-189c84da742a ]] \r\n",
       "E5 - -> \"*\"E7 [[psysml:ee81c625-3e17-4e8d-972a-76052e7a84e3 ]] \r\n",
       "@enduml\r\n",
       "\n",
       "PlantUML version 1.2020.13(Sat Jun 13 12:26:38 UTC 2020)\n",
       "(EPL source distribution)\n",
       "Java Runtime: OpenJDK Runtime Environment\n",
       "JVM: OpenJDK 64-Bit Server VM\n",
       "Default Encoding: UTF-8\n",
       "Language: en\n",
       "Country: null\n",
       "--></g></svg>"
      ]
     },
     "execution_count": 23,
     "metadata": {},
     "output_type": "execute_result"
    }
   ],
   "source": [
    "%viz --style=\"STDCOLOR\" --view=\"Default\" \"ControlNodeTest\""
   ]
  },
  {
   "cell_type": "code",
   "execution_count": 24,
   "id": "b01f7106",
   "metadata": {
    "execution": {
     "iopub.execute_input": "2022-02-18T10:46:10.328791Z",
     "iopub.status.busy": "2022-02-18T10:46:10.328588Z",
     "iopub.status.idle": "2022-02-18T10:46:10.420175Z",
     "shell.execute_reply": "2022-02-18T10:46:10.418769Z"
    }
   },
   "outputs": [
    {
     "data": {
      "image/svg+xml": [
       "<?xml version=\"1.0\" encoding=\"UTF-8\" standalone=\"no\"?><svg xmlns=\"http://www.w3.org/2000/svg\" xmlns:xlink=\"http://www.w3.org/1999/xlink\" contentScriptType=\"application/ecmascript\" contentStyleType=\"text/css\" height=\"258px\" preserveAspectRatio=\"none\" style=\"width:572px;height:258px;\" version=\"1.1\" viewBox=\"0 0 572 258\" width=\"572px\" zoomAndPan=\"magnify\"><defs><filter height=\"300%\" id=\"fx2mewt6qknny\" width=\"300%\" x=\"-1\" y=\"-1\"><feGaussianBlur result=\"blurOut\" stdDeviation=\"2.0\"/><feColorMatrix in=\"blurOut\" result=\"blurOut2\" type=\"matrix\" values=\"0 0 0 0 0 0 0 0 0 0 0 0 0 0 0 0 0 0 .4 0\"/><feOffset dx=\"4.0\" dy=\"4.0\" in=\"blurOut2\" result=\"blurOut3\"/><feBlend in=\"SourceGraphic\" in2=\"blurOut3\" mode=\"normal\"/></filter></defs><g><!--MD5=[43c9051892ef23e1a46a86907403d788]\n",
       "class E1--><a href=\"psysml:06c83ae0-0be1-4108-9f79-6c682626264b\" target=\"_top\" title=\"psysml:06c83ae0-0be1-4108-9f79-6c682626264b\" xlink:actuate=\"onRequest\" xlink:href=\"psysml:06c83ae0-0be1-4108-9f79-6c682626264b\" xlink:show=\"new\" xlink:title=\"psysml:06c83ae0-0be1-4108-9f79-6c682626264b\" xlink:type=\"simple\"><rect fill=\"#FEFECE\" filter=\"url(#fx2mewt6qknny)\" height=\"126.7656\" id=\"E1\" style=\"stroke: #A80036; stroke-width: 1.5;\" width=\"111\" x=\"224\" y=\"7\"/><text fill=\"#000000\" font-family=\"sans-serif\" font-size=\"12\" font-style=\"italic\" lengthAdjust=\"spacingAndGlyphs\" textLength=\"81\" x=\"239\" y=\"23.1387\">«action  def»</text><text fill=\"#000000\" font-family=\"sans-serif\" font-size=\"12\" lengthAdjust=\"spacingAndGlyphs\" textLength=\"105\" x=\"227\" y=\"37.1074\">ControlNodeTest</text><line style=\"stroke: #A80036; stroke-width: 1.5;\" x1=\"225\" x2=\"334\" y1=\"44.9375\" y2=\"44.9375\"/><text fill=\"#000000\" font-family=\"sans-serif\" font-size=\"11\" lengthAdjust=\"spacingAndGlyphs\" textLength=\"36\" x=\"230\" y=\"75.9526\">then  J</text><text fill=\"#000000\" font-family=\"sans-serif\" font-size=\"11\" lengthAdjust=\"spacingAndGlyphs\" textLength=\"36\" x=\"230\" y=\"88.7573\">then  J</text><text fill=\"#000000\" font-family=\"sans-serif\" font-size=\"11\" lengthAdjust=\"spacingAndGlyphs\" textLength=\"25\" x=\"230\" y=\"101.562\">then</text><text fill=\"#000000\" font-family=\"sans-serif\" font-size=\"11\" lengthAdjust=\"spacingAndGlyphs\" textLength=\"48\" x=\"230\" y=\"114.3667\">then  B1</text><text fill=\"#000000\" font-family=\"sans-serif\" font-size=\"11\" lengthAdjust=\"spacingAndGlyphs\" textLength=\"48\" x=\"230\" y=\"127.1714\">then  B2</text><line style=\"stroke: #A80036; stroke-width: 1.0;\" x1=\"225\" x2=\"244\" y1=\"59.3398\" y2=\"59.3398\"/><text fill=\"#000000\" font-family=\"sans-serif\" font-size=\"11\" lengthAdjust=\"spacingAndGlyphs\" textLength=\"71\" x=\"244\" y=\"62.6479\">successions</text><line style=\"stroke: #A80036; stroke-width: 1.0;\" x1=\"315\" x2=\"334\" y1=\"59.3398\" y2=\"59.3398\"/></a><!--MD5=[b4997ac47864f28c2f74865a473b2911]\n",
       "class E2--><a href=\"psysml:b587d390-d46d-4840-bcaf-beb60201fdea\" target=\"_top\" title=\"psysml:b587d390-d46d-4840-bcaf-beb60201fdea\" xlink:actuate=\"onRequest\" xlink:href=\"psysml:b587d390-d46d-4840-bcaf-beb60201fdea\" xlink:show=\"new\" xlink:title=\"psysml:b587d390-d46d-4840-bcaf-beb60201fdea\" xlink:type=\"simple\"><rect fill=\"#FEFECE\" filter=\"url(#fx2mewt6qknny)\" height=\"45.9375\" id=\"E2\" rx=\"10\" ry=\"10\" style=\"stroke: #A80036; stroke-width: 1.5;\" width=\"55\" x=\"7\" y=\"194\"/><text fill=\"#000000\" font-family=\"sans-serif\" font-size=\"12\" font-style=\"italic\" lengthAdjust=\"spacingAndGlyphs\" textLength=\"53\" x=\"8\" y=\"210.1387\">«action»</text><text fill=\"#000000\" font-family=\"sans-serif\" font-size=\"12\" lengthAdjust=\"spacingAndGlyphs\" textLength=\"16\" x=\"24.5\" y=\"224.1074\">A1</text><line style=\"stroke: #A80036; stroke-width: 1.5;\" x1=\"8\" x2=\"61\" y1=\"231.9375\" y2=\"231.9375\"/></a><!--MD5=[09b614a08d8cba4a07c9adeb5e0fee81]\n",
       "class E3--><a href=\"psysml:2c010bd6-de88-4dc7-8be6-3edc78c34a31\" target=\"_top\" title=\"psysml:2c010bd6-de88-4dc7-8be6-3edc78c34a31\" xlink:actuate=\"onRequest\" xlink:href=\"psysml:2c010bd6-de88-4dc7-8be6-3edc78c34a31\" xlink:show=\"new\" xlink:title=\"psysml:2c010bd6-de88-4dc7-8be6-3edc78c34a31\" xlink:type=\"simple\"><rect fill=\"#FEFECE\" filter=\"url(#fx2mewt6qknny)\" height=\"45.9375\" id=\"E3\" rx=\"10\" ry=\"10\" style=\"stroke: #A80036; stroke-width: 1.5;\" width=\"55\" x=\"97\" y=\"194\"/><text fill=\"#000000\" font-family=\"sans-serif\" font-size=\"12\" font-style=\"italic\" lengthAdjust=\"spacingAndGlyphs\" textLength=\"53\" x=\"98\" y=\"210.1387\">«action»</text><text fill=\"#000000\" font-family=\"sans-serif\" font-size=\"12\" lengthAdjust=\"spacingAndGlyphs\" textLength=\"16\" x=\"114.5\" y=\"224.1074\">A2</text><line style=\"stroke: #A80036; stroke-width: 1.5;\" x1=\"98\" x2=\"151\" y1=\"231.9375\" y2=\"231.9375\"/></a><!--MD5=[ebbe1d658d1005bcc118a6aa81145e00]\n",
       "class E4--><a href=\"psysml:b80e7b99-08a2-49d6-9359-b424cf684151\" target=\"_top\" title=\"psysml:b80e7b99-08a2-49d6-9359-b424cf684151\" xlink:actuate=\"onRequest\" xlink:href=\"psysml:b80e7b99-08a2-49d6-9359-b424cf684151\" xlink:show=\"new\" xlink:title=\"psysml:b80e7b99-08a2-49d6-9359-b424cf684151\" xlink:type=\"simple\"><rect fill=\"#FEFECE\" filter=\"url(#fx2mewt6qknny)\" height=\"45.9375\" id=\"E4\" rx=\"10\" ry=\"10\" style=\"stroke: #A80036; stroke-width: 1.5;\" width=\"74\" x=\"187.5\" y=\"194\"/><text fill=\"#000000\" font-family=\"sans-serif\" font-size=\"12\" font-style=\"italic\" lengthAdjust=\"spacingAndGlyphs\" textLength=\"72\" x=\"188.5\" y=\"210.1387\">«join node»</text><text fill=\"#000000\" font-family=\"sans-serif\" font-size=\"12\" lengthAdjust=\"spacingAndGlyphs\" textLength=\"3\" x=\"221\" y=\"224.1074\">J</text><line style=\"stroke: #A80036; stroke-width: 1.5;\" x1=\"188.5\" x2=\"260.5\" y1=\"231.9375\" y2=\"231.9375\"/></a><!--MD5=[270fce915f116d4de14055a7c1d9a0f3]\n",
       "class E5--><a href=\"psysml:df495c9b-9171-48f9-ac7d-26427115e0f4\" target=\"_top\" title=\"psysml:df495c9b-9171-48f9-ac7d-26427115e0f4\" xlink:actuate=\"onRequest\" xlink:href=\"psysml:df495c9b-9171-48f9-ac7d-26427115e0f4\" xlink:show=\"new\" xlink:title=\"psysml:df495c9b-9171-48f9-ac7d-26427115e0f4\" xlink:type=\"simple\"><rect fill=\"#FEFECE\" filter=\"url(#fx2mewt6qknny)\" height=\"45.9375\" id=\"E5\" rx=\"10\" ry=\"10\" style=\"stroke: #A80036; stroke-width: 1.5;\" width=\"76\" x=\"296.5\" y=\"194\"/><text fill=\"#000000\" font-family=\"sans-serif\" font-size=\"12\" font-style=\"italic\" lengthAdjust=\"spacingAndGlyphs\" textLength=\"74\" x=\"297.5\" y=\"210.1387\">«fork node»</text><text fill=\"#000000\" font-family=\"sans-serif\" font-size=\"12\" lengthAdjust=\"spacingAndGlyphs\" textLength=\"7\" x=\"329\" y=\"224.1074\">F</text><line style=\"stroke: #A80036; stroke-width: 1.5;\" x1=\"297.5\" x2=\"371.5\" y1=\"231.9375\" y2=\"231.9375\"/></a><!--MD5=[60a26617385b1d2d0262a64233df1f8d]\n",
       "class E6--><a href=\"psysml:b42821ea-70f6-43bd-9a67-84f3e511770a\" target=\"_top\" title=\"psysml:b42821ea-70f6-43bd-9a67-84f3e511770a\" xlink:actuate=\"onRequest\" xlink:href=\"psysml:b42821ea-70f6-43bd-9a67-84f3e511770a\" xlink:show=\"new\" xlink:title=\"psysml:b42821ea-70f6-43bd-9a67-84f3e511770a\" xlink:type=\"simple\"><rect fill=\"#FEFECE\" filter=\"url(#fx2mewt6qknny)\" height=\"45.9375\" id=\"E6\" rx=\"10\" ry=\"10\" style=\"stroke: #A80036; stroke-width: 1.5;\" width=\"55\" x=\"408\" y=\"194\"/><text fill=\"#000000\" font-family=\"sans-serif\" font-size=\"12\" font-style=\"italic\" lengthAdjust=\"spacingAndGlyphs\" textLength=\"53\" x=\"409\" y=\"210.1387\">«action»</text><text fill=\"#000000\" font-family=\"sans-serif\" font-size=\"12\" lengthAdjust=\"spacingAndGlyphs\" textLength=\"16\" x=\"425.5\" y=\"224.1074\">B1</text><line style=\"stroke: #A80036; stroke-width: 1.5;\" x1=\"409\" x2=\"462\" y1=\"231.9375\" y2=\"231.9375\"/></a><!--MD5=[2156ba9850f5573cc1fc38a6a4b2f02b]\n",
       "class E7--><a href=\"psysml:e950d6a4-fdbd-4650-aa0a-2ca4b4e20830\" target=\"_top\" title=\"psysml:e950d6a4-fdbd-4650-aa0a-2ca4b4e20830\" xlink:actuate=\"onRequest\" xlink:href=\"psysml:e950d6a4-fdbd-4650-aa0a-2ca4b4e20830\" xlink:show=\"new\" xlink:title=\"psysml:e950d6a4-fdbd-4650-aa0a-2ca4b4e20830\" xlink:type=\"simple\"><rect fill=\"#FEFECE\" filter=\"url(#fx2mewt6qknny)\" height=\"45.9375\" id=\"E7\" rx=\"10\" ry=\"10\" style=\"stroke: #A80036; stroke-width: 1.5;\" width=\"55\" x=\"498\" y=\"194\"/><text fill=\"#000000\" font-family=\"sans-serif\" font-size=\"12\" font-style=\"italic\" lengthAdjust=\"spacingAndGlyphs\" textLength=\"53\" x=\"499\" y=\"210.1387\">«action»</text><text fill=\"#000000\" font-family=\"sans-serif\" font-size=\"12\" lengthAdjust=\"spacingAndGlyphs\" textLength=\"16\" x=\"515.5\" y=\"224.1074\">B2</text><line style=\"stroke: #A80036; stroke-width: 1.5;\" x1=\"499\" x2=\"552\" y1=\"231.9375\" y2=\"231.9375\"/></a><!--MD5=[a523cb2a0b79ecf9065ad8783f96c320]\n",
       "reverse link E1 to E2--><a href=\"psysml:8824560d-0356-45ea-8a7b-06baadbc63a3\" target=\"_top\" title=\"psysml:8824560d-0356-45ea-8a7b-06baadbc63a3\" xlink:actuate=\"onRequest\" xlink:href=\"psysml:8824560d-0356-45ea-8a7b-06baadbc63a3\" xlink:show=\"new\" xlink:title=\"psysml:8824560d-0356-45ea-8a7b-06baadbc63a3\" xlink:type=\"simple\"><path d=\"M212.66,110.92 C163.24,140.07 98.48,178.27 62.21,199.66 \" fill=\"none\" id=\"E1&lt;-E2\" style=\"stroke: #A80036; stroke-width: 1.0;\"/><polygon fill=\"#A80036\" points=\"223.91,104.29,216.71,103.89,213.5715,110.3823,220.7715,110.7823,223.91,104.29\" style=\"stroke: #A80036; stroke-width: 1.0;\"/><text fill=\"#000000\" font-family=\"sans-serif\" font-size=\"13\" lengthAdjust=\"spacingAndGlyphs\" textLength=\"7\" x=\"69.8174\" y=\"190.6959\">*</text></a><!--MD5=[5d7b3810b1dd9b5164bea1151b29b665]\n",
       "reverse link E1 to E3--><a href=\"psysml:cbbe4b3e-f7e7-45b7-a67a-c33698d06c9d\" target=\"_top\" title=\"psysml:cbbe4b3e-f7e7-45b7-a67a-c33698d06c9d\" xlink:actuate=\"onRequest\" xlink:href=\"psysml:cbbe4b3e-f7e7-45b7-a67a-c33698d06c9d\" xlink:show=\"new\" xlink:title=\"psysml:cbbe4b3e-f7e7-45b7-a67a-c33698d06c9d\" xlink:type=\"simple\"><path d=\"M214.38,132.21 C190.87,154.12 165.81,177.49 148.14,193.96 \" fill=\"none\" id=\"E1&lt;-E3\" style=\"stroke: #A80036; stroke-width: 1.0;\"/><polygon fill=\"#A80036\" points=\"223.98,123.26,216.8638,124.4259,215.2029,131.4431,222.3192,130.2772,223.98,123.26\" style=\"stroke: #A80036; stroke-width: 1.0;\"/><text fill=\"#000000\" font-family=\"sans-serif\" font-size=\"13\" lengthAdjust=\"spacingAndGlyphs\" textLength=\"7\" x=\"146.5526\" y=\"182.8455\">*</text></a><!--MD5=[f2c5c03aa1e8c0ba21c10a05e6444b8e]\n",
       "reverse link E1 to E4--><a href=\"psysml:8b2189df-ceef-42f5-8cc2-eeb8d6451d98\" target=\"_top\" title=\"psysml:8b2189df-ceef-42f5-8cc2-eeb8d6451d98\" xlink:actuate=\"onRequest\" xlink:href=\"psysml:8b2189df-ceef-42f5-8cc2-eeb8d6451d98\" xlink:show=\"new\" xlink:title=\"psysml:8b2189df-ceef-42f5-8cc2-eeb8d6451d98\" xlink:type=\"simple\"><path d=\"M251,146.38 C244.38,163.78 237.83,180.97 232.9,193.92 \" fill=\"none\" id=\"E1&lt;-E4\" style=\"stroke: #A80036; stroke-width: 1.0;\"/><polygon fill=\"#A80036\" points=\"255.7,134.04,249.8253,138.2218,251.4259,145.253,257.3006,141.0712,255.7,134.04\" style=\"stroke: #A80036; stroke-width: 1.0;\"/></a><!--MD5=[33238bef88d6431a141d8bc8fb12bca0]\n",
       "reverse link E1 to E5--><a href=\"psysml:a82a5eef-dea6-4124-abec-2b50c8cafb15\" target=\"_top\" title=\"psysml:a82a5eef-dea6-4124-abec-2b50c8cafb15\" xlink:actuate=\"onRequest\" xlink:href=\"psysml:a82a5eef-dea6-4124-abec-2b50c8cafb15\" xlink:show=\"new\" xlink:title=\"psysml:a82a5eef-dea6-4124-abec-2b50c8cafb15\" xlink:type=\"simple\"><path d=\"M308,146.38 C314.62,163.78 321.17,180.97 326.1,193.92 \" fill=\"none\" id=\"E1&lt;-E5\" style=\"stroke: #A80036; stroke-width: 1.0;\"/><polygon fill=\"#A80036\" points=\"303.3,134.04,301.6994,141.0712,307.5741,145.253,309.1747,138.2218,303.3,134.04\" style=\"stroke: #A80036; stroke-width: 1.0;\"/></a><!--MD5=[aca2ef284c2b1b90e17e73bf3f292c07]\n",
       "reverse link E1 to E6--><a href=\"psysml:fa0fa50c-58e4-4afc-aadf-ea60f0cb1460\" target=\"_top\" title=\"psysml:fa0fa50c-58e4-4afc-aadf-ea60f0cb1460\" xlink:actuate=\"onRequest\" xlink:href=\"psysml:fa0fa50c-58e4-4afc-aadf-ea60f0cb1460\" xlink:show=\"new\" xlink:title=\"psysml:fa0fa50c-58e4-4afc-aadf-ea60f0cb1460\" xlink:type=\"simple\"><path d=\"M345.04,132.21 C368.7,154.12 393.92,177.49 411.71,193.96 \" fill=\"none\" id=\"E1&lt;-E6\" style=\"stroke: #A80036; stroke-width: 1.0;\"/><polygon fill=\"#A80036\" points=\"335.38,123.26,337.057,130.2734,344.1759,131.4229,342.4989,124.4095,335.38,123.26\" style=\"stroke: #A80036; stroke-width: 1.0;\"/><text fill=\"#000000\" font-family=\"sans-serif\" font-size=\"13\" lengthAdjust=\"spacingAndGlyphs\" textLength=\"7\" x=\"397.3758\" y=\"182.8455\">*</text></a><!--MD5=[fc9706a6b2cf8c0e423679d303750d3f]\n",
       "reverse link E1 to E7--><a href=\"psysml:49466f58-4643-4906-96c1-3a5676eba647\" target=\"_top\" title=\"psysml:49466f58-4643-4906-96c1-3a5676eba647\" xlink:actuate=\"onRequest\" xlink:href=\"psysml:49466f58-4643-4906-96c1-3a5676eba647\" xlink:show=\"new\" xlink:title=\"psysml:49466f58-4643-4906-96c1-3a5676eba647\" xlink:type=\"simple\"><path d=\"M346.34,110.76 C396.11,140 461.5,178.41 497.94,199.81 \" fill=\"none\" id=\"E1&lt;-E7\" style=\"stroke: #A80036; stroke-width: 1.0;\"/><polygon fill=\"#A80036\" points=\"335.01,104.11,338.1582,110.5976,345.3576,110.1868,342.2094,103.6992,335.01,104.11\" style=\"stroke: #A80036; stroke-width: 1.0;\"/><text fill=\"#000000\" font-family=\"sans-serif\" font-size=\"13\" lengthAdjust=\"spacingAndGlyphs\" textLength=\"7\" x=\"482.9809\" y=\"190.5751\">*</text></a><!--MD5=[f924c0dfc3f95cae0ef7319335cad072]\n",
       "@startuml\r\n",
       "skinparam wrapWidth 300\r\n",
       "hide circle\r\n",
       "\r\n",
       "comp def \"ControlNodeTest\" as E1  <<(T,blue) action  def>> [[psysml:06c83ae0-0be1-4108-9f79-6c682626264b ]] {\r\n",
       "- - successions - -\r\n",
       " then  J\r\n",
       " then  J\r\n",
       " then \r\n",
       " then  B1\r\n",
       " then  B2\r\n",
       "}\r\n",
       "comp usage \"A1 \" as E2  <<(T,blue) action>> [[psysml:b587d390-d46d-4840-bcaf-beb60201fdea ]] {\r\n",
       "}\r\n",
       "comp usage \"A2 \" as E3  <<(T,blue) action>> [[psysml:2c010bd6-de88-4dc7-8be6-3edc78c34a31 ]] {\r\n",
       "}\r\n",
       "comp usage \"J \" as E4  <<(T,blue) join node>> [[psysml:b80e7b99-08a2-49d6-9359-b424cf684151 ]] {\r\n",
       "}\r\n",
       "comp usage \"F \" as E5  <<(T,blue) fork node>> [[psysml:df495c9b-9171-48f9-ac7d-26427115e0f4 ]] {\r\n",
       "}\r\n",
       "comp usage \"B1 \" as E6  <<(T,blue) action>> [[psysml:b42821ea-70f6-43bd-9a67-84f3e511770a ]] {\r\n",
       "}\r\n",
       "comp usage \"B2 \" as E7  <<(T,blue) action>> [[psysml:e950d6a4-fdbd-4650-aa0a-2ca4b4e20830 ]] {\r\n",
       "}\r\n",
       "E1 *- - \"*\"E2 [[psysml:8824560d-0356-45ea-8a7b-06baadbc63a3 ]] \r\n",
       "E1 *- - \"*\"E3 [[psysml:cbbe4b3e-f7e7-45b7-a67a-c33698d06c9d ]] \r\n",
       "E1 *- - E4 [[psysml:8b2189df-ceef-42f5-8cc2-eeb8d6451d98 ]] \r\n",
       "E1 *- - E5 [[psysml:a82a5eef-dea6-4124-abec-2b50c8cafb15 ]] \r\n",
       "E1 *- - \"*\"E6 [[psysml:fa0fa50c-58e4-4afc-aadf-ea60f0cb1460 ]] \r\n",
       "E1 *- - \"*\"E7 [[psysml:49466f58-4643-4906-96c1-3a5676eba647 ]] \r\n",
       "@enduml\r\n",
       "\n",
       "PlantUML version 1.2020.13(Sat Jun 13 12:26:38 UTC 2020)\n",
       "(EPL source distribution)\n",
       "Java Runtime: OpenJDK Runtime Environment\n",
       "JVM: OpenJDK 64-Bit Server VM\n",
       "Default Encoding: UTF-8\n",
       "Language: en\n",
       "Country: null\n",
       "--></g></svg>"
      ]
     },
     "execution_count": 24,
     "metadata": {},
     "output_type": "execute_result"
    }
   ],
   "source": [
    "%viz --style=\"STDCOLOR\" --view=\"Tree\" \"ControlNodeTest\""
   ]
  },
  {
   "cell_type": "code",
   "execution_count": 25,
   "id": "a06d20a9",
   "metadata": {
    "execution": {
     "iopub.execute_input": "2022-02-18T10:46:10.469296Z",
     "iopub.status.busy": "2022-02-18T10:46:10.468979Z",
     "iopub.status.idle": "2022-02-18T10:46:10.473053Z",
     "shell.execute_reply": "2022-02-18T10:46:10.473364Z"
    }
   },
   "outputs": [
    {
     "data": {
      "image/svg+xml": [
       "<?xml version=\"1.0\" encoding=\"UTF-8\" standalone=\"no\"?><svg xmlns=\"http://www.w3.org/2000/svg\" xmlns:xlink=\"http://www.w3.org/1999/xlink\" contentScriptType=\"application/ecmascript\" contentStyleType=\"text/css\" height=\"12px\" preserveAspectRatio=\"none\" style=\"width:12px;height:12px;\" version=\"1.1\" viewBox=\"0 0 12 12\" width=\"12px\" zoomAndPan=\"magnify\"><defs/><g><!--MD5=[aeeef50f102b80d730deb6443d14f702]\n",
       "@startuml\r\n",
       "skinparam wrapWidth 300\r\n",
       "hide circle\r\n",
       "\r\n",
       "@enduml\r\n",
       "\n",
       "PlantUML version 1.2020.13(Sat Jun 13 12:26:38 UTC 2020)\n",
       "(EPL source distribution)\n",
       "Java Runtime: OpenJDK Runtime Environment\n",
       "JVM: OpenJDK 64-Bit Server VM\n",
       "Default Encoding: UTF-8\n",
       "Language: en\n",
       "Country: null\n",
       "--></g></svg>"
      ]
     },
     "execution_count": 25,
     "metadata": {},
     "output_type": "execute_result"
    }
   ],
   "source": [
    "%viz --style=\"STDCOLOR\" --view=\"State\" \"ControlNodeTest\""
   ]
  },
  {
   "cell_type": "code",
   "execution_count": 26,
   "id": "5f8400b8",
   "metadata": {
    "execution": {
     "iopub.execute_input": "2022-02-18T10:46:10.523516Z",
     "iopub.status.busy": "2022-02-18T10:46:10.523115Z",
     "iopub.status.idle": "2022-02-18T10:46:10.557331Z",
     "shell.execute_reply": "2022-02-18T10:46:10.556972Z"
    }
   },
   "outputs": [
    {
     "data": {
      "image/svg+xml": [
       "<?xml version=\"1.0\" encoding=\"UTF-8\" standalone=\"no\"?><svg xmlns=\"http://www.w3.org/2000/svg\" xmlns:xlink=\"http://www.w3.org/1999/xlink\" contentScriptType=\"application/ecmascript\" contentStyleType=\"text/css\" height=\"225px\" preserveAspectRatio=\"none\" style=\"width:213px;height:225px;\" version=\"1.1\" viewBox=\"0 0 213 225\" width=\"213px\" zoomAndPan=\"magnify\"><defs><filter height=\"300%\" id=\"f2ho6plixhxwd\" width=\"300%\" x=\"-1\" y=\"-1\"><feGaussianBlur result=\"blurOut\" stdDeviation=\"2.0\"/><feColorMatrix in=\"blurOut\" result=\"blurOut2\" type=\"matrix\" values=\"0 0 0 0 0 0 0 0 0 0 0 0 0 0 0 0 0 0 .4 0\"/><feOffset dx=\"4.0\" dy=\"4.0\" in=\"blurOut2\" result=\"blurOut3\"/><feBlend in=\"SourceGraphic\" in2=\"blurOut3\" mode=\"normal\"/></filter></defs><g><!--MD5=[fbc87193dbaf4d95561dea2c320d4a47]\n",
       "cluster E1--><a href=\"psysml:06c83ae0-0be1-4108-9f79-6c682626264b\" target=\"_top\" title=\"psysml:06c83ae0-0be1-4108-9f79-6c682626264b\" xlink:actuate=\"onRequest\" xlink:href=\"psysml:06c83ae0-0be1-4108-9f79-6c682626264b\" xlink:show=\"new\" xlink:title=\"psysml:06c83ae0-0be1-4108-9f79-6c682626264b\" xlink:type=\"simple\"><rect fill=\"#FFFFFF\" filter=\"url(#f2ho6plixhxwd)\" height=\"199\" id=\"E1\" style=\"stroke: #A80036; stroke-width: 1.5;\" width=\"187\" x=\"7\" y=\"7\"/><rect fill=\"#FEFECE\" height=\"37.9375\" style=\"stroke: #A80036; stroke-width: 1.5;\" width=\"187\" x=\"7\" y=\"7\"/><text fill=\"#000000\" font-family=\"sans-serif\" font-size=\"12\" font-style=\"italic\" lengthAdjust=\"spacingAndGlyphs\" textLength=\"81\" x=\"60\" y=\"23.1387\">«action  def»</text><text fill=\"#000000\" font-family=\"sans-serif\" font-size=\"12\" lengthAdjust=\"spacingAndGlyphs\" textLength=\"105\" x=\"48\" y=\"37.1074\">ControlNodeTest</text></a><rect fill=\"#000000\" filter=\"url(#f2ho6plixhxwd)\" height=\"8\" style=\"stroke: none; stroke-width: 1.0;\" width=\"80\" x=\"60\" y=\"111\"/><rect fill=\"#000000\" filter=\"url(#f2ho6plixhxwd)\" height=\"8\" style=\"stroke: none; stroke-width: 1.0;\" width=\"80\" x=\"60\" y=\"129\"/><g id=\"E1.E2\"><a href=\"psysml:b587d390-d46d-4840-bcaf-beb60201fdea\" target=\"_top\" title=\"psysml:b587d390-d46d-4840-bcaf-beb60201fdea\" xlink:actuate=\"onRequest\" xlink:href=\"psysml:b587d390-d46d-4840-bcaf-beb60201fdea\" xlink:show=\"new\" xlink:title=\"psysml:b587d390-d46d-4840-bcaf-beb60201fdea\" xlink:type=\"simple\"><rect fill=\"#FEFECE\" filter=\"url(#f2ho6plixhxwd)\" height=\"42.9375\" id=\"E2\" rx=\"10\" ry=\"10\" style=\"stroke: #A80036; stroke-width: 1.5;\" width=\"60\" x=\"118\" y=\"58\"/><text fill=\"#000000\" font-family=\"sans-serif\" font-size=\"12\" font-style=\"italic\" lengthAdjust=\"spacingAndGlyphs\" textLength=\"53\" x=\"121.5\" y=\"74.1387\">«action»</text><text fill=\"#000000\" font-family=\"sans-serif\" font-size=\"12\" lengthAdjust=\"spacingAndGlyphs\" textLength=\"16\" x=\"140\" y=\"88.1074\">A1</text></a></g><g id=\"E1.E3\"><a href=\"psysml:2c010bd6-de88-4dc7-8be6-3edc78c34a31\" target=\"_top\" title=\"psysml:2c010bd6-de88-4dc7-8be6-3edc78c34a31\" xlink:actuate=\"onRequest\" xlink:href=\"psysml:2c010bd6-de88-4dc7-8be6-3edc78c34a31\" xlink:show=\"new\" xlink:title=\"psysml:2c010bd6-de88-4dc7-8be6-3edc78c34a31\" xlink:type=\"simple\"><rect fill=\"#FEFECE\" filter=\"url(#f2ho6plixhxwd)\" height=\"42.9375\" id=\"E3\" rx=\"10\" ry=\"10\" style=\"stroke: #A80036; stroke-width: 1.5;\" width=\"60\" x=\"23\" y=\"58\"/><text fill=\"#000000\" font-family=\"sans-serif\" font-size=\"12\" font-style=\"italic\" lengthAdjust=\"spacingAndGlyphs\" textLength=\"53\" x=\"26.5\" y=\"74.1387\">«action»</text><text fill=\"#000000\" font-family=\"sans-serif\" font-size=\"12\" lengthAdjust=\"spacingAndGlyphs\" textLength=\"16\" x=\"45\" y=\"88.1074\">A2</text></a></g><g id=\"E1.E6\"><a href=\"psysml:b42821ea-70f6-43bd-9a67-84f3e511770a\" target=\"_top\" title=\"psysml:b42821ea-70f6-43bd-9a67-84f3e511770a\" xlink:actuate=\"onRequest\" xlink:href=\"psysml:b42821ea-70f6-43bd-9a67-84f3e511770a\" xlink:show=\"new\" xlink:title=\"psysml:b42821ea-70f6-43bd-9a67-84f3e511770a\" xlink:type=\"simple\"><rect fill=\"#FEFECE\" filter=\"url(#f2ho6plixhxwd)\" height=\"42.9375\" id=\"E6\" rx=\"10\" ry=\"10\" style=\"stroke: #A80036; stroke-width: 1.5;\" width=\"60\" x=\"23\" y=\"147\"/><text fill=\"#000000\" font-family=\"sans-serif\" font-size=\"12\" font-style=\"italic\" lengthAdjust=\"spacingAndGlyphs\" textLength=\"53\" x=\"26.5\" y=\"163.1387\">«action»</text><text fill=\"#000000\" font-family=\"sans-serif\" font-size=\"12\" lengthAdjust=\"spacingAndGlyphs\" textLength=\"16\" x=\"45\" y=\"177.1074\">B1</text></a></g><g id=\"E1.E7\"><a href=\"psysml:e950d6a4-fdbd-4650-aa0a-2ca4b4e20830\" target=\"_top\" title=\"psysml:e950d6a4-fdbd-4650-aa0a-2ca4b4e20830\" xlink:actuate=\"onRequest\" xlink:href=\"psysml:e950d6a4-fdbd-4650-aa0a-2ca4b4e20830\" xlink:show=\"new\" xlink:title=\"psysml:e950d6a4-fdbd-4650-aa0a-2ca4b4e20830\" xlink:type=\"simple\"><rect fill=\"#FEFECE\" filter=\"url(#f2ho6plixhxwd)\" height=\"42.9375\" id=\"E7\" rx=\"10\" ry=\"10\" style=\"stroke: #A80036; stroke-width: 1.5;\" width=\"60\" x=\"118\" y=\"147\"/><text fill=\"#000000\" font-family=\"sans-serif\" font-size=\"12\" font-style=\"italic\" lengthAdjust=\"spacingAndGlyphs\" textLength=\"53\" x=\"121.5\" y=\"163.1387\">«action»</text><text fill=\"#000000\" font-family=\"sans-serif\" font-size=\"12\" lengthAdjust=\"spacingAndGlyphs\" textLength=\"16\" x=\"140\" y=\"177.1074\">B2</text></a></g><!--MD5=[4d03bb2d0377dc85ccfab60ff574652b]\n",
       "link E2 to E4--><a href=\"psysml:4f9dc8d6-d6e0-48a2-bcc8-8318223d246b\" target=\"_top\" title=\"psysml:4f9dc8d6-d6e0-48a2-bcc8-8318223d246b\" xlink:actuate=\"onRequest\" xlink:href=\"psysml:4f9dc8d6-d6e0-48a2-bcc8-8318223d246b\" xlink:show=\"new\" xlink:title=\"psysml:4f9dc8d6-d6e0-48a2-bcc8-8318223d246b\" xlink:type=\"simple\"><path d=\"M118.42,101.14 C114.95,103.57 111.64,105.88 108.81,107.85 \" fill=\"none\" id=\"E2-&gt;E4\" style=\"stroke: #A80036; stroke-width: 1.0;\"/><polygon fill=\"#A80036\" points=\"104.3,111,113.9709,109.1361,108.4022,108.1413,109.397,102.5726,104.3,111\" style=\"stroke: #A80036; stroke-width: 1.0;\"/><text fill=\"#000000\" font-family=\"sans-serif\" font-size=\"13\" lengthAdjust=\"spacingAndGlyphs\" textLength=\"7\" x=\"97.87\" y=\"99.9205\">*</text></a><!--MD5=[af87c684e3b0d8be13c1a698a818ef1e]\n",
       "link E3 to E4--><a href=\"psysml:d5a52d23-3eda-48ed-8e98-b9c24f218910\" target=\"_top\" title=\"psysml:d5a52d23-3eda-48ed-8e98-b9c24f218910\" xlink:actuate=\"onRequest\" xlink:href=\"psysml:d5a52d23-3eda-48ed-8e98-b9c24f218910\" xlink:show=\"new\" xlink:title=\"psysml:d5a52d23-3eda-48ed-8e98-b9c24f218910\" xlink:type=\"simple\"><path d=\"M81.96,101.14 C85.36,103.57 88.6,105.88 91.37,107.85 \" fill=\"none\" id=\"E3-&gt;E4\" style=\"stroke: #A80036; stroke-width: 1.0;\"/><polygon fill=\"#A80036\" points=\"95.79,111,90.7801,102.5206,91.7175,108.0992,86.1388,109.0366,95.79,111\" style=\"stroke: #A80036; stroke-width: 1.0;\"/><text fill=\"#000000\" font-family=\"sans-serif\" font-size=\"13\" lengthAdjust=\"spacingAndGlyphs\" textLength=\"7\" x=\"91.1121\" y=\"103.6092\">*</text></a><!--MD5=[1b7591eae5389033d8d09a9d6721a717]\n",
       "link E4 to E5--><a href=\"psysml:822f1664-72e1-4116-b41f-1c0919a615e0\" target=\"_top\" title=\"psysml:822f1664-72e1-4116-b41f-1c0919a615e0\" xlink:actuate=\"onRequest\" xlink:href=\"psysml:822f1664-72e1-4116-b41f-1c0919a615e0\" xlink:show=\"new\" xlink:title=\"psysml:822f1664-72e1-4116-b41f-1c0919a615e0\" xlink:type=\"simple\"><path d=\"M100,119.08 C100,120.38 100,121.95 100,123.55 \" fill=\"none\" id=\"E4-&gt;E5\" style=\"stroke: #A80036; stroke-width: 1.0;\"/><polygon fill=\"#A80036\" points=\"100,128.7,104,119.7,100,123.7,96,119.7,100,128.7\" style=\"stroke: #A80036; stroke-width: 1.0;\"/><text fill=\"#000000\" font-family=\"sans-serif\" font-size=\"13\" lengthAdjust=\"spacingAndGlyphs\" textLength=\"7\" x=\"42.9663\" y=\"135.9509\">*</text></a><!--MD5=[9120cf2e5df3bff93db8f754bbbc09b4]\n",
       "link E5 to E6--><a href=\"psysml:2360acce-0fc1-431a-bbc0-189c84da742a\" target=\"_top\" title=\"psysml:2360acce-0fc1-431a-bbc0-189c84da742a\" xlink:actuate=\"onRequest\" xlink:href=\"psysml:2360acce-0fc1-431a-bbc0-189c84da742a\" xlink:show=\"new\" xlink:title=\"psysml:2360acce-0fc1-431a-bbc0-189c84da742a\" xlink:type=\"simple\"><path d=\"M95.66,137.09 C93.25,138.81 89.99,141.13 86.35,143.73 \" fill=\"none\" id=\"E5-&gt;E6\" style=\"stroke: #A80036; stroke-width: 1.0;\"/><polygon fill=\"#A80036\" points=\"81.93,146.88,91.5812,144.9166,86.0025,143.9792,86.9399,138.4006,81.93,146.88\" style=\"stroke: #A80036; stroke-width: 1.0;\"/><text fill=\"#000000\" font-family=\"sans-serif\" font-size=\"13\" lengthAdjust=\"spacingAndGlyphs\" textLength=\"7\" x=\"91.0509\" y=\"155.0031\">*</text></a><!--MD5=[3a9b96bfbf6b6ad89c494e81751bda47]\n",
       "link E5 to E7--><a href=\"psysml:ee81c625-3e17-4e8d-972a-76052e7a84e3\" target=\"_top\" title=\"psysml:ee81c625-3e17-4e8d-972a-76052e7a84e3\" xlink:actuate=\"onRequest\" xlink:href=\"psysml:ee81c625-3e17-4e8d-972a-76052e7a84e3\" xlink:show=\"new\" xlink:title=\"psysml:ee81c625-3e17-4e8d-972a-76052e7a84e3\" xlink:type=\"simple\"><path d=\"M104.43,137.09 C106.9,138.81 110.22,141.13 113.94,143.73 \" fill=\"none\" id=\"E5-&gt;E7\" style=\"stroke: #A80036; stroke-width: 1.0;\"/><polygon fill=\"#A80036\" points=\"118.46,146.88,113.3827,138.4407,114.3645,144.0117,108.7935,144.9935,118.46,146.88\" style=\"stroke: #A80036; stroke-width: 1.0;\"/><text fill=\"#000000\" font-family=\"sans-serif\" font-size=\"13\" lengthAdjust=\"spacingAndGlyphs\" textLength=\"7\" x=\"102.9935\" y=\"155.3537\">*</text></a><!--MD5=[0179f7a1c8ee9036415edd5f40b59989]\n",
       "@startuml\r\n",
       "skinparam ranksep 10\r\n",
       "skinparam rectangle {\r\n",
       " backgroundColor<<block>> LightGreen\r\n",
       "}\r\n",
       "skinparam wrapWidth 300\r\n",
       "hide circle\r\n",
       "\r\n",
       "rec def \"ControlNodeTest\" as E1  <<(T,blue) action  def>> [[psysml:06c83ae0-0be1-4108-9f79-6c682626264b ]] {\r\n",
       "rec usage \"A1\" as E2  <<(T,blue) action>> [[psysml:b587d390-d46d-4840-bcaf-beb60201fdea ]] {\r\n",
       "}\r\n",
       "\r\n",
       "rec usage \"A2\" as E3  <<(T,blue) action>> [[psysml:2c010bd6-de88-4dc7-8be6-3edc78c34a31 ]] {\r\n",
       "}\r\n",
       "\r\n",
       "join \"J\" as E4  [[psysml:b80e7b99-08a2-49d6-9359-b424cf684151 ]] \r\n",
       "fork \"F\" as E5  [[psysml:df495c9b-9171-48f9-ac7d-26427115e0f4 ]] \r\n",
       "rec usage \"B1\" as E6  <<(T,blue) action>> [[psysml:b42821ea-70f6-43bd-9a67-84f3e511770a ]] {\r\n",
       "}\r\n",
       "\r\n",
       "rec usage \"B2\" as E7  <<(T,blue) action>> [[psysml:e950d6a4-fdbd-4650-aa0a-2ca4b4e20830 ]] {\r\n",
       "}\r\n",
       "\r\n",
       "}\r\n",
       "\r\n",
       "E2 - -> \"*\"E4 [[psysml:4f9dc8d6-d6e0-48a2-bcc8-8318223d246b ]] \r\n",
       "E3 - -> \"*\"E4 [[psysml:d5a52d23-3eda-48ed-8e98-b9c24f218910 ]] \r\n",
       "E4 - -> \"*\"E5 [[psysml:822f1664-72e1-4116-b41f-1c0919a615e0 ]] \r\n",
       "E5 - -> \"*\"E6 [[psysml:2360acce-0fc1-431a-bbc0-189c84da742a ]] \r\n",
       "E5 - -> \"*\"E7 [[psysml:ee81c625-3e17-4e8d-972a-76052e7a84e3 ]] \r\n",
       "@enduml\r\n",
       "\n",
       "PlantUML version 1.2020.13(Sat Jun 13 12:26:38 UTC 2020)\n",
       "(EPL source distribution)\n",
       "Java Runtime: OpenJDK Runtime Environment\n",
       "JVM: OpenJDK 64-Bit Server VM\n",
       "Default Encoding: UTF-8\n",
       "Language: en\n",
       "Country: null\n",
       "--></g></svg>"
      ]
     },
     "execution_count": 26,
     "metadata": {},
     "output_type": "execute_result"
    }
   ],
   "source": [
    "%viz --style=\"STDCOLOR\" --view=\"Interconnection\" \"ControlNodeTest\""
   ]
  },
  {
   "cell_type": "code",
   "execution_count": 27,
   "id": "f5ea2e01",
   "metadata": {
    "execution": {
     "iopub.execute_input": "2022-02-18T10:46:10.606960Z",
     "iopub.status.busy": "2022-02-18T10:46:10.606563Z",
     "iopub.status.idle": "2022-02-18T10:46:10.636949Z",
     "shell.execute_reply": "2022-02-18T10:46:10.636677Z"
    }
   },
   "outputs": [
    {
     "data": {
      "image/svg+xml": [
       "<?xml version=\"1.0\" encoding=\"UTF-8\" standalone=\"no\"?><svg xmlns=\"http://www.w3.org/2000/svg\" xmlns:xlink=\"http://www.w3.org/1999/xlink\" contentScriptType=\"application/ecmascript\" contentStyleType=\"text/css\" height=\"219px\" preserveAspectRatio=\"none\" style=\"width:213px;height:219px;\" version=\"1.1\" viewBox=\"0 0 213 219\" width=\"213px\" zoomAndPan=\"magnify\"><defs><filter height=\"300%\" id=\"f6l0pgrwm036b\" width=\"300%\" x=\"-1\" y=\"-1\"><feGaussianBlur result=\"blurOut\" stdDeviation=\"2.0\"/><feColorMatrix in=\"blurOut\" result=\"blurOut2\" type=\"matrix\" values=\"0 0 0 0 0 0 0 0 0 0 0 0 0 0 0 0 0 0 .4 0\"/><feOffset dx=\"4.0\" dy=\"4.0\" in=\"blurOut2\" result=\"blurOut3\"/><feBlend in=\"SourceGraphic\" in2=\"blurOut3\" mode=\"normal\"/></filter></defs><g><!--MD5=[fbc87193dbaf4d95561dea2c320d4a47]\n",
       "cluster E1--><a href=\"psysml:06c83ae0-0be1-4108-9f79-6c682626264b\" target=\"_top\" title=\"psysml:06c83ae0-0be1-4108-9f79-6c682626264b\" xlink:actuate=\"onRequest\" xlink:href=\"psysml:06c83ae0-0be1-4108-9f79-6c682626264b\" xlink:show=\"new\" xlink:title=\"psysml:06c83ae0-0be1-4108-9f79-6c682626264b\" xlink:type=\"simple\"><rect fill=\"#FFFFFF\" filter=\"url(#f6l0pgrwm036b)\" height=\"193\" id=\"E1\" style=\"stroke: #A80036; stroke-width: 1.5;\" width=\"187\" x=\"7\" y=\"7\"/><rect fill=\"#FEFECE\" height=\"37.9375\" style=\"stroke: #A80036; stroke-width: 1.5;\" width=\"187\" x=\"7\" y=\"7\"/><text fill=\"#000000\" font-family=\"sans-serif\" font-size=\"12\" font-style=\"italic\" lengthAdjust=\"spacingAndGlyphs\" textLength=\"81\" x=\"60\" y=\"23.1387\">«action  def»</text><text fill=\"#000000\" font-family=\"sans-serif\" font-size=\"12\" lengthAdjust=\"spacingAndGlyphs\" textLength=\"105\" x=\"48\" y=\"37.1074\">ControlNodeTest</text></a><rect fill=\"#000000\" filter=\"url(#f6l0pgrwm036b)\" height=\"8\" style=\"stroke: none; stroke-width: 1.0;\" width=\"80\" x=\"60\" y=\"109\"/><rect fill=\"#000000\" filter=\"url(#f6l0pgrwm036b)\" height=\"8\" style=\"stroke: none; stroke-width: 1.0;\" width=\"80\" x=\"60\" y=\"125\"/><g id=\"E1.E2\"><a href=\"psysml:b587d390-d46d-4840-bcaf-beb60201fdea\" target=\"_top\" title=\"psysml:b587d390-d46d-4840-bcaf-beb60201fdea\" xlink:actuate=\"onRequest\" xlink:href=\"psysml:b587d390-d46d-4840-bcaf-beb60201fdea\" xlink:show=\"new\" xlink:title=\"psysml:b587d390-d46d-4840-bcaf-beb60201fdea\" xlink:type=\"simple\"><rect fill=\"#FEFECE\" filter=\"url(#f6l0pgrwm036b)\" height=\"42.9375\" id=\"E2\" rx=\"10\" ry=\"10\" style=\"stroke: #A80036; stroke-width: 1.5;\" width=\"60\" x=\"118\" y=\"58\"/><text fill=\"#000000\" font-family=\"sans-serif\" font-size=\"12\" font-style=\"italic\" lengthAdjust=\"spacingAndGlyphs\" textLength=\"53\" x=\"121.5\" y=\"74.1387\">«action»</text><text fill=\"#000000\" font-family=\"sans-serif\" font-size=\"12\" lengthAdjust=\"spacingAndGlyphs\" textLength=\"16\" x=\"140\" y=\"88.1074\">A1</text></a></g><g id=\"E1.E3\"><a href=\"psysml:2c010bd6-de88-4dc7-8be6-3edc78c34a31\" target=\"_top\" title=\"psysml:2c010bd6-de88-4dc7-8be6-3edc78c34a31\" xlink:actuate=\"onRequest\" xlink:href=\"psysml:2c010bd6-de88-4dc7-8be6-3edc78c34a31\" xlink:show=\"new\" xlink:title=\"psysml:2c010bd6-de88-4dc7-8be6-3edc78c34a31\" xlink:type=\"simple\"><rect fill=\"#FEFECE\" filter=\"url(#f6l0pgrwm036b)\" height=\"42.9375\" id=\"E3\" rx=\"10\" ry=\"10\" style=\"stroke: #A80036; stroke-width: 1.5;\" width=\"60\" x=\"23\" y=\"58\"/><text fill=\"#000000\" font-family=\"sans-serif\" font-size=\"12\" font-style=\"italic\" lengthAdjust=\"spacingAndGlyphs\" textLength=\"53\" x=\"26.5\" y=\"74.1387\">«action»</text><text fill=\"#000000\" font-family=\"sans-serif\" font-size=\"12\" lengthAdjust=\"spacingAndGlyphs\" textLength=\"16\" x=\"45\" y=\"88.1074\">A2</text></a></g><g id=\"E1.E6\"><a href=\"psysml:b42821ea-70f6-43bd-9a67-84f3e511770a\" target=\"_top\" title=\"psysml:b42821ea-70f6-43bd-9a67-84f3e511770a\" xlink:actuate=\"onRequest\" xlink:href=\"psysml:b42821ea-70f6-43bd-9a67-84f3e511770a\" xlink:show=\"new\" xlink:title=\"psysml:b42821ea-70f6-43bd-9a67-84f3e511770a\" xlink:type=\"simple\"><rect fill=\"#FEFECE\" filter=\"url(#f6l0pgrwm036b)\" height=\"42.9375\" id=\"E6\" rx=\"10\" ry=\"10\" style=\"stroke: #A80036; stroke-width: 1.5;\" width=\"60\" x=\"23\" y=\"141\"/><text fill=\"#000000\" font-family=\"sans-serif\" font-size=\"12\" font-style=\"italic\" lengthAdjust=\"spacingAndGlyphs\" textLength=\"53\" x=\"26.5\" y=\"157.1387\">«action»</text><text fill=\"#000000\" font-family=\"sans-serif\" font-size=\"12\" lengthAdjust=\"spacingAndGlyphs\" textLength=\"16\" x=\"45\" y=\"171.1074\">B1</text></a></g><g id=\"E1.E7\"><a href=\"psysml:e950d6a4-fdbd-4650-aa0a-2ca4b4e20830\" target=\"_top\" title=\"psysml:e950d6a4-fdbd-4650-aa0a-2ca4b4e20830\" xlink:actuate=\"onRequest\" xlink:href=\"psysml:e950d6a4-fdbd-4650-aa0a-2ca4b4e20830\" xlink:show=\"new\" xlink:title=\"psysml:e950d6a4-fdbd-4650-aa0a-2ca4b4e20830\" xlink:type=\"simple\"><rect fill=\"#FEFECE\" filter=\"url(#f6l0pgrwm036b)\" height=\"42.9375\" id=\"E7\" rx=\"10\" ry=\"10\" style=\"stroke: #A80036; stroke-width: 1.5;\" width=\"60\" x=\"118\" y=\"141\"/><text fill=\"#000000\" font-family=\"sans-serif\" font-size=\"12\" font-style=\"italic\" lengthAdjust=\"spacingAndGlyphs\" textLength=\"53\" x=\"121.5\" y=\"157.1387\">«action»</text><text fill=\"#000000\" font-family=\"sans-serif\" font-size=\"12\" lengthAdjust=\"spacingAndGlyphs\" textLength=\"16\" x=\"140\" y=\"171.1074\">B2</text></a></g><!--MD5=[4d03bb2d0377dc85ccfab60ff574652b]\n",
       "link E2 to E4--><a href=\"psysml:4f9dc8d6-d6e0-48a2-bcc8-8318223d246b\" target=\"_top\" title=\"psysml:4f9dc8d6-d6e0-48a2-bcc8-8318223d246b\" xlink:actuate=\"onRequest\" xlink:href=\"psysml:4f9dc8d6-d6e0-48a2-bcc8-8318223d246b\" xlink:show=\"new\" xlink:title=\"psysml:4f9dc8d6-d6e0-48a2-bcc8-8318223d246b\" xlink:type=\"simple\"><path d=\"M117.87,100.27 C114.67,102.37 111.63,104.37 108.98,106.1 \" fill=\"none\" id=\"E2-&gt;E4\" style=\"stroke: #A80036; stroke-width: 1.0; stroke-dasharray: 7.0,7.0;\"/><polygon fill=\"#A80036\" points=\"104.72,108.9,114.4401,107.3128,108.9021,106.1595,110.0554,100.6215,104.72,108.9\" style=\"stroke: #A80036; stroke-width: 1.0;\"/></a><!--MD5=[af87c684e3b0d8be13c1a698a818ef1e]\n",
       "link E3 to E4--><a href=\"psysml:d5a52d23-3eda-48ed-8e98-b9c24f218910\" target=\"_top\" title=\"psysml:d5a52d23-3eda-48ed-8e98-b9c24f218910\" xlink:actuate=\"onRequest\" xlink:href=\"psysml:d5a52d23-3eda-48ed-8e98-b9c24f218910\" xlink:show=\"new\" xlink:title=\"psysml:d5a52d23-3eda-48ed-8e98-b9c24f218910\" xlink:type=\"simple\"><path d=\"M83.03,100.63 C85.85,102.52 88.54,104.32 90.9,105.9 \" fill=\"none\" id=\"E3-&gt;E4\" style=\"stroke: #A80036; stroke-width: 1.0; stroke-dasharray: 7.0,7.0;\"/><polygon fill=\"#A80036\" points=\"95.26,108.82,90.0101,100.487,91.1063,106.0366,85.5567,107.1328,95.26,108.82\" style=\"stroke: #A80036; stroke-width: 1.0;\"/></a><!--MD5=[1b7591eae5389033d8d09a9d6721a717]\n",
       "link E4 to E5--><a href=\"psysml:822f1664-72e1-4116-b41f-1c0919a615e0\" target=\"_top\" title=\"psysml:822f1664-72e1-4116-b41f-1c0919a615e0\" xlink:actuate=\"onRequest\" xlink:href=\"psysml:822f1664-72e1-4116-b41f-1c0919a615e0\" xlink:show=\"new\" xlink:title=\"psysml:822f1664-72e1-4116-b41f-1c0919a615e0\" xlink:type=\"simple\"><path d=\"M100,117.25 C100,118.05 100,118.94 100,119.86 \" fill=\"none\" id=\"E4-&gt;E5\" style=\"stroke: #A80036; stroke-width: 1.0; stroke-dasharray: 7.0,7.0;\"/><polygon fill=\"#A80036\" points=\"100,124.96,104,115.96,100,119.96,96,115.96,100,124.96\" style=\"stroke: #A80036; stroke-width: 1.0;\"/></a><!--MD5=[9120cf2e5df3bff93db8f754bbbc09b4]\n",
       "link E5 to E6--><a href=\"psysml:2360acce-0fc1-431a-bbc0-189c84da742a\" target=\"_top\" title=\"psysml:2360acce-0fc1-431a-bbc0-189c84da742a\" xlink:actuate=\"onRequest\" xlink:href=\"psysml:2360acce-0fc1-431a-bbc0-189c84da742a\" xlink:show=\"new\" xlink:title=\"psysml:2360acce-0fc1-431a-bbc0-189c84da742a\" xlink:type=\"simple\"><path d=\"M95.32,133.14 C93.21,134.55 90.52,136.35 87.53,138.36 \" fill=\"none\" id=\"E5-&gt;E6\" style=\"stroke: #A80036; stroke-width: 1.0; stroke-dasharray: 7.0,7.0;\"/><polygon fill=\"#A80036\" points=\"83.27,141.21,92.9706,139.5074,87.4192,138.42,88.5066,132.8687,83.27,141.21\" style=\"stroke: #A80036; stroke-width: 1.0;\"/></a><!--MD5=[3a9b96bfbf6b6ad89c494e81751bda47]\n",
       "link E5 to E7--><a href=\"psysml:ee81c625-3e17-4e8d-972a-76052e7a84e3\" target=\"_top\" title=\"psysml:ee81c625-3e17-4e8d-972a-76052e7a84e3\" xlink:actuate=\"onRequest\" xlink:href=\"psysml:ee81c625-3e17-4e8d-972a-76052e7a84e3\" xlink:show=\"new\" xlink:title=\"psysml:ee81c625-3e17-4e8d-972a-76052e7a84e3\" xlink:type=\"simple\"><path d=\"M104.78,133.14 C107.16,134.7 110.28,136.75 113.75,139.02 \" fill=\"none\" id=\"E5-&gt;E7\" style=\"stroke: #A80036; stroke-width: 1.0; stroke-dasharray: 7.0,7.0;\"/><polygon fill=\"#A80036\" points=\"117.96,141.79,112.6246,133.5115,113.7779,139.0495,108.2399,140.2028,117.96,141.79\" style=\"stroke: #A80036; stroke-width: 1.0;\"/></a><!--MD5=[fda8ef871430a7ad4aac334ca8577600]\n",
       "@startuml\r\n",
       "skinparam ranksep 8\r\n",
       "skinparam wrapWidth 300\r\n",
       "hide circle\r\n",
       "\r\n",
       "rec def \"ControlNodeTest\" as E1  <<(T,blue) action  def>> [[psysml:06c83ae0-0be1-4108-9f79-6c682626264b ]] {\r\n",
       "rec usage \"A1\" as E2  <<(T,blue) action>> [[psysml:b587d390-d46d-4840-bcaf-beb60201fdea ]] {\r\n",
       "}\r\n",
       "\r\n",
       "rec usage \"A2\" as E3  <<(T,blue) action>> [[psysml:2c010bd6-de88-4dc7-8be6-3edc78c34a31 ]] {\r\n",
       "}\r\n",
       "\r\n",
       "join \"J\" as E4  [[psysml:b80e7b99-08a2-49d6-9359-b424cf684151 ]] \r\n",
       "fork \"F\" as E5  [[psysml:df495c9b-9171-48f9-ac7d-26427115e0f4 ]] \r\n",
       "rec usage \"B1\" as E6  <<(T,blue) action>> [[psysml:b42821ea-70f6-43bd-9a67-84f3e511770a ]] {\r\n",
       "}\r\n",
       "\r\n",
       "rec usage \"B2\" as E7  <<(T,blue) action>> [[psysml:e950d6a4-fdbd-4650-aa0a-2ca4b4e20830 ]] {\r\n",
       "}\r\n",
       "\r\n",
       "}\r\n",
       "\r\n",
       "E2 ..> E4 [[psysml:4f9dc8d6-d6e0-48a2-bcc8-8318223d246b ]] \r\n",
       "E3 ..> E4 [[psysml:d5a52d23-3eda-48ed-8e98-b9c24f218910 ]] \r\n",
       "E4 ..> E5 [[psysml:822f1664-72e1-4116-b41f-1c0919a615e0 ]] \r\n",
       "E5 ..> E6 [[psysml:2360acce-0fc1-431a-bbc0-189c84da742a ]] \r\n",
       "E5 ..> E7 [[psysml:ee81c625-3e17-4e8d-972a-76052e7a84e3 ]] \r\n",
       "@enduml\r\n",
       "\n",
       "PlantUML version 1.2020.13(Sat Jun 13 12:26:38 UTC 2020)\n",
       "(EPL source distribution)\n",
       "Java Runtime: OpenJDK Runtime Environment\n",
       "JVM: OpenJDK 64-Bit Server VM\n",
       "Default Encoding: UTF-8\n",
       "Language: en\n",
       "Country: null\n",
       "--></g></svg>"
      ]
     },
     "execution_count": 27,
     "metadata": {},
     "output_type": "execute_result"
    }
   ],
   "source": [
    "%viz --style=\"STDCOLOR\" --view=\"Action\" \"ControlNodeTest\""
   ]
  },
  {
   "cell_type": "code",
   "execution_count": 28,
   "id": "6eb077ab",
   "metadata": {
    "execution": {
     "iopub.execute_input": "2022-02-18T10:46:10.687209Z",
     "iopub.status.busy": "2022-02-18T10:46:10.686804Z",
     "iopub.status.idle": "2022-02-18T10:46:10.692315Z",
     "shell.execute_reply": "2022-02-18T10:46:10.692628Z"
    }
   },
   "outputs": [
    {
     "data": {
      "image/svg+xml": [
       "<?xml version=\"1.0\" encoding=\"UTF-8\" standalone=\"no\"?><svg xmlns=\"http://www.w3.org/2000/svg\" xmlns:xlink=\"http://www.w3.org/1999/xlink\" contentScriptType=\"application/ecmascript\" contentStyleType=\"text/css\" height=\"12px\" preserveAspectRatio=\"none\" style=\"width:12px;height:12px;\" version=\"1.1\" viewBox=\"0 0 12 12\" width=\"12px\" zoomAndPan=\"magnify\"><defs/><g><!--MD5=[6c4bca67b4d71758159a5a7f1f1e1fc2]\n",
       "@startuml\r\n",
       "skinparam roundcorner 20\r\n",
       "skinparam BoxPadding 20\r\n",
       "skinparam SequenceBoxBackgroundColor #white\r\n",
       "skinparam style strictuml\r\n",
       "skinparam maxMessageSize 100\r\n",
       "skinparam wrapWidth 300\r\n",
       "hide circle\r\n",
       "\r\n",
       "@enduml\r\n",
       "\n",
       "PlantUML version 1.2020.13(Sat Jun 13 12:26:38 UTC 2020)\n",
       "(EPL source distribution)\n",
       "Java Runtime: OpenJDK Runtime Environment\n",
       "JVM: OpenJDK 64-Bit Server VM\n",
       "Default Encoding: UTF-8\n",
       "Language: en\n",
       "Country: null\n",
       "--></g></svg>"
      ]
     },
     "execution_count": 28,
     "metadata": {},
     "output_type": "execute_result"
    }
   ],
   "source": [
    "%viz --style=\"STDCOLOR\" --view=\"Sequence\" \"ControlNodeTest\""
   ]
  },
  {
   "cell_type": "code",
   "execution_count": 29,
   "id": "d20ab98f",
   "metadata": {
    "execution": {
     "iopub.execute_input": "2022-02-18T10:46:10.742743Z",
     "iopub.status.busy": "2022-02-18T10:46:10.742346Z",
     "iopub.status.idle": "2022-02-18T10:46:10.773744Z",
     "shell.execute_reply": "2022-02-18T10:46:10.773462Z"
    }
   },
   "outputs": [
    {
     "data": {
      "image/svg+xml": [
       "<?xml version=\"1.0\" encoding=\"UTF-8\" standalone=\"no\"?><svg xmlns=\"http://www.w3.org/2000/svg\" xmlns:xlink=\"http://www.w3.org/1999/xlink\" contentScriptType=\"application/ecmascript\" contentStyleType=\"text/css\" height=\"375px\" preserveAspectRatio=\"none\" style=\"width:213px;height:375px;\" version=\"1.1\" viewBox=\"0 0 213 375\" width=\"213px\" zoomAndPan=\"magnify\"><defs><filter height=\"300%\" id=\"fmkwkkob47eew\" width=\"300%\" x=\"-1\" y=\"-1\"><feGaussianBlur result=\"blurOut\" stdDeviation=\"2.0\"/><feColorMatrix in=\"blurOut\" result=\"blurOut2\" type=\"matrix\" values=\"0 0 0 0 0 0 0 0 0 0 0 0 0 0 0 0 0 0 .4 0\"/><feOffset dx=\"4.0\" dy=\"4.0\" in=\"blurOut2\" result=\"blurOut3\"/><feBlend in=\"SourceGraphic\" in2=\"blurOut3\" mode=\"normal\"/></filter></defs><g><!--MD5=[fbc87193dbaf4d95561dea2c320d4a47]\n",
       "cluster E1--><a href=\"psysml:06c83ae0-0be1-4108-9f79-6c682626264b\" target=\"_top\" title=\"psysml:06c83ae0-0be1-4108-9f79-6c682626264b\" xlink:actuate=\"onRequest\" xlink:href=\"psysml:06c83ae0-0be1-4108-9f79-6c682626264b\" xlink:show=\"new\" xlink:title=\"psysml:06c83ae0-0be1-4108-9f79-6c682626264b\" xlink:type=\"simple\"><rect fill=\"#FFFFFF\" filter=\"url(#fmkwkkob47eew)\" height=\"349\" id=\"E1\" style=\"stroke: #A80036; stroke-width: 1.5;\" width=\"187\" x=\"7\" y=\"7\"/><rect fill=\"#FEFECE\" height=\"37.9375\" style=\"stroke: #A80036; stroke-width: 1.5;\" width=\"187\" x=\"7\" y=\"7\"/><text fill=\"#000000\" font-family=\"sans-serif\" font-size=\"12\" font-style=\"italic\" lengthAdjust=\"spacingAndGlyphs\" textLength=\"81\" x=\"60\" y=\"23.1387\">«action  def»</text><text fill=\"#000000\" font-family=\"sans-serif\" font-size=\"12\" lengthAdjust=\"spacingAndGlyphs\" textLength=\"105\" x=\"48\" y=\"37.1074\">ControlNodeTest</text></a><rect fill=\"#000000\" filter=\"url(#fmkwkkob47eew)\" height=\"8\" style=\"stroke: none; stroke-width: 1.0;\" width=\"80\" x=\"60\" y=\"161\"/><rect fill=\"#000000\" filter=\"url(#fmkwkkob47eew)\" height=\"8\" style=\"stroke: none; stroke-width: 1.0;\" width=\"80\" x=\"60\" y=\"229\"/><g id=\"E1.E2\"><a href=\"psysml:b587d390-d46d-4840-bcaf-beb60201fdea\" target=\"_top\" title=\"psysml:b587d390-d46d-4840-bcaf-beb60201fdea\" xlink:actuate=\"onRequest\" xlink:href=\"psysml:b587d390-d46d-4840-bcaf-beb60201fdea\" xlink:show=\"new\" xlink:title=\"psysml:b587d390-d46d-4840-bcaf-beb60201fdea\" xlink:type=\"simple\"><rect fill=\"#FEFECE\" filter=\"url(#fmkwkkob47eew)\" height=\"42.9375\" id=\"E2\" rx=\"10\" ry=\"10\" style=\"stroke: #A80036; stroke-width: 1.5;\" width=\"60\" x=\"118\" y=\"58\"/><text fill=\"#000000\" font-family=\"sans-serif\" font-size=\"12\" font-style=\"italic\" lengthAdjust=\"spacingAndGlyphs\" textLength=\"53\" x=\"121.5\" y=\"74.1387\">«action»</text><text fill=\"#000000\" font-family=\"sans-serif\" font-size=\"12\" lengthAdjust=\"spacingAndGlyphs\" textLength=\"16\" x=\"140\" y=\"88.1074\">A1</text></a></g><g id=\"E1.E3\"><a href=\"psysml:2c010bd6-de88-4dc7-8be6-3edc78c34a31\" target=\"_top\" title=\"psysml:2c010bd6-de88-4dc7-8be6-3edc78c34a31\" xlink:actuate=\"onRequest\" xlink:href=\"psysml:2c010bd6-de88-4dc7-8be6-3edc78c34a31\" xlink:show=\"new\" xlink:title=\"psysml:2c010bd6-de88-4dc7-8be6-3edc78c34a31\" xlink:type=\"simple\"><rect fill=\"#FEFECE\" filter=\"url(#fmkwkkob47eew)\" height=\"42.9375\" id=\"E3\" rx=\"10\" ry=\"10\" style=\"stroke: #A80036; stroke-width: 1.5;\" width=\"60\" x=\"23\" y=\"58\"/><text fill=\"#000000\" font-family=\"sans-serif\" font-size=\"12\" font-style=\"italic\" lengthAdjust=\"spacingAndGlyphs\" textLength=\"53\" x=\"26.5\" y=\"74.1387\">«action»</text><text fill=\"#000000\" font-family=\"sans-serif\" font-size=\"12\" lengthAdjust=\"spacingAndGlyphs\" textLength=\"16\" x=\"45\" y=\"88.1074\">A2</text></a></g><g id=\"E1.E6\"><a href=\"psysml:b42821ea-70f6-43bd-9a67-84f3e511770a\" target=\"_top\" title=\"psysml:b42821ea-70f6-43bd-9a67-84f3e511770a\" xlink:actuate=\"onRequest\" xlink:href=\"psysml:b42821ea-70f6-43bd-9a67-84f3e511770a\" xlink:show=\"new\" xlink:title=\"psysml:b42821ea-70f6-43bd-9a67-84f3e511770a\" xlink:type=\"simple\"><rect fill=\"#FEFECE\" filter=\"url(#fmkwkkob47eew)\" height=\"42.9375\" id=\"E6\" rx=\"10\" ry=\"10\" style=\"stroke: #A80036; stroke-width: 1.5;\" width=\"60\" x=\"23\" y=\"297\"/><text fill=\"#000000\" font-family=\"sans-serif\" font-size=\"12\" font-style=\"italic\" lengthAdjust=\"spacingAndGlyphs\" textLength=\"53\" x=\"26.5\" y=\"313.1387\">«action»</text><text fill=\"#000000\" font-family=\"sans-serif\" font-size=\"12\" lengthAdjust=\"spacingAndGlyphs\" textLength=\"16\" x=\"45\" y=\"327.1074\">B1</text></a></g><g id=\"E1.E7\"><a href=\"psysml:e950d6a4-fdbd-4650-aa0a-2ca4b4e20830\" target=\"_top\" title=\"psysml:e950d6a4-fdbd-4650-aa0a-2ca4b4e20830\" xlink:actuate=\"onRequest\" xlink:href=\"psysml:e950d6a4-fdbd-4650-aa0a-2ca4b4e20830\" xlink:show=\"new\" xlink:title=\"psysml:e950d6a4-fdbd-4650-aa0a-2ca4b4e20830\" xlink:type=\"simple\"><rect fill=\"#FEFECE\" filter=\"url(#fmkwkkob47eew)\" height=\"42.9375\" id=\"E7\" rx=\"10\" ry=\"10\" style=\"stroke: #A80036; stroke-width: 1.5;\" width=\"60\" x=\"118\" y=\"297\"/><text fill=\"#000000\" font-family=\"sans-serif\" font-size=\"12\" font-style=\"italic\" lengthAdjust=\"spacingAndGlyphs\" textLength=\"53\" x=\"121.5\" y=\"313.1387\">«action»</text><text fill=\"#000000\" font-family=\"sans-serif\" font-size=\"12\" lengthAdjust=\"spacingAndGlyphs\" textLength=\"16\" x=\"140\" y=\"327.1074\">B2</text></a></g><!--MD5=[4d03bb2d0377dc85ccfab60ff574652b]\n",
       "link E2 to E4--><a href=\"psysml:4f9dc8d6-d6e0-48a2-bcc8-8318223d246b\" target=\"_top\" title=\"psysml:4f9dc8d6-d6e0-48a2-bcc8-8318223d246b\" xlink:actuate=\"onRequest\" xlink:href=\"psysml:4f9dc8d6-d6e0-48a2-bcc8-8318223d246b\" xlink:show=\"new\" xlink:title=\"psysml:4f9dc8d6-d6e0-48a2-bcc8-8318223d246b\" xlink:type=\"simple\"><path d=\"M136.13,101.14 C125.84,119.06 111.49,144.01 104.37,156.4 \" fill=\"none\" id=\"E2-&gt;E4\" style=\"stroke: #A80036; stroke-width: 1.0;\"/><polygon fill=\"#A80036\" points=\"101.79,160.88,109.7406,155.0673,104.2799,156.5441,102.8031,151.0834,101.79,160.88\" style=\"stroke: #A80036; stroke-width: 1.0;\"/><text fill=\"#000000\" font-family=\"sans-serif\" font-size=\"13\" lengthAdjust=\"spacingAndGlyphs\" textLength=\"7\" x=\"93.6144\" y=\"150.0038\">*</text></a><!--MD5=[af87c684e3b0d8be13c1a698a818ef1e]\n",
       "link E3 to E4--><a href=\"psysml:d5a52d23-3eda-48ed-8e98-b9c24f218910\" target=\"_top\" title=\"psysml:d5a52d23-3eda-48ed-8e98-b9c24f218910\" xlink:actuate=\"onRequest\" xlink:href=\"psysml:d5a52d23-3eda-48ed-8e98-b9c24f218910\" xlink:show=\"new\" xlink:title=\"psysml:d5a52d23-3eda-48ed-8e98-b9c24f218910\" xlink:type=\"simple\"><path d=\"M64.62,101.14 C74.7,119.06 88.75,144.01 95.72,156.4 \" fill=\"none\" id=\"E3-&gt;E4\" style=\"stroke: #A80036; stroke-width: 1.0;\"/><polygon fill=\"#A80036\" points=\"98.25,160.88,97.3377,151.0735,95.8048,156.5187,90.3596,154.9858,98.25,160.88\" style=\"stroke: #A80036; stroke-width: 1.0;\"/><text fill=\"#000000\" font-family=\"sans-serif\" font-size=\"13\" lengthAdjust=\"spacingAndGlyphs\" textLength=\"7\" x=\"99.4531\" y=\"150.0038\">*</text></a><!--MD5=[1b7591eae5389033d8d09a9d6721a717]\n",
       "link E4 to E5--><a href=\"psysml:822f1664-72e1-4116-b41f-1c0919a615e0\" target=\"_top\" title=\"psysml:822f1664-72e1-4116-b41f-1c0919a615e0\" xlink:actuate=\"onRequest\" xlink:href=\"psysml:822f1664-72e1-4116-b41f-1c0919a615e0\" xlink:show=\"new\" xlink:title=\"psysml:822f1664-72e1-4116-b41f-1c0919a615e0\" xlink:type=\"simple\"><path d=\"M100,169.18 C100,178.92 100,208.52 100,223.34 \" fill=\"none\" id=\"E4-&gt;E5\" style=\"stroke: #A80036; stroke-width: 1.0;\"/><polygon fill=\"#A80036\" points=\"100,228.69,104,219.69,100,223.69,96,219.69,100,228.69\" style=\"stroke: #A80036; stroke-width: 1.0;\"/><text fill=\"#000000\" font-family=\"sans-serif\" font-size=\"13\" lengthAdjust=\"spacingAndGlyphs\" textLength=\"7\" x=\"90.6813\" y=\"217.9768\">*</text></a><!--MD5=[9120cf2e5df3bff93db8f754bbbc09b4]\n",
       "link E5 to E6--><a href=\"psysml:2360acce-0fc1-431a-bbc0-189c84da742a\" target=\"_top\" title=\"psysml:2360acce-0fc1-431a-bbc0-189c84da742a\" xlink:actuate=\"onRequest\" xlink:href=\"psysml:2360acce-0fc1-431a-bbc0-189c84da742a\" xlink:show=\"new\" xlink:title=\"psysml:2360acce-0fc1-431a-bbc0-189c84da742a\" xlink:type=\"simple\"><path d=\"M98.21,237.17 C93.16,246.14 78.41,272.36 67.11,292.43 \" fill=\"none\" id=\"E5-&gt;E6\" style=\"stroke: #A80036; stroke-width: 1.0;\"/><polygon fill=\"#A80036\" points=\"64.61,296.87,72.5151,290.9955,67.0661,292.5148,65.5467,287.0658,64.61,296.87\" style=\"stroke: #A80036; stroke-width: 1.0;\"/><text fill=\"#000000\" font-family=\"sans-serif\" font-size=\"13\" lengthAdjust=\"spacingAndGlyphs\" textLength=\"7\" x=\"59.8909\" y=\"285.7715\">*</text></a><!--MD5=[3a9b96bfbf6b6ad89c494e81751bda47]\n",
       "link E5 to E7--><a href=\"psysml:ee81c625-3e17-4e8d-972a-76052e7a84e3\" target=\"_top\" title=\"psysml:ee81c625-3e17-4e8d-972a-76052e7a84e3\" xlink:actuate=\"onRequest\" xlink:href=\"psysml:ee81c625-3e17-4e8d-972a-76052e7a84e3\" xlink:show=\"new\" xlink:title=\"psysml:ee81c625-3e17-4e8d-972a-76052e7a84e3\" xlink:type=\"simple\"><path d=\"M101.82,237.17 C106.98,246.14 122.05,272.36 133.59,292.43 \" fill=\"none\" id=\"E5-&gt;E7\" style=\"stroke: #A80036; stroke-width: 1.0;\"/><polygon fill=\"#A80036\" points=\"136.14,296.87,135.1269,287.0734,133.6501,292.5341,128.1894,291.0573,136.14,296.87\" style=\"stroke: #A80036; stroke-width: 1.0;\"/><text fill=\"#000000\" font-family=\"sans-serif\" font-size=\"13\" lengthAdjust=\"spacingAndGlyphs\" textLength=\"7\" x=\"124.82\" y=\"285.7715\">*</text></a><!--MD5=[27a6a5151e3be65f404881fcc5d39dfa]\n",
       "@startuml\r\n",
       "skinparam wrapWidth 300\r\n",
       "hide circle\r\n",
       "\r\n",
       "rec def \"ControlNodeTest\" as E1  <<(T,blue) action  def>> [[psysml:06c83ae0-0be1-4108-9f79-6c682626264b ]] {\r\n",
       "rec usage \"A1\" as E2  <<(T,blue) action>> [[psysml:b587d390-d46d-4840-bcaf-beb60201fdea ]] {\r\n",
       "}\r\n",
       "\r\n",
       "rec usage \"A2\" as E3  <<(T,blue) action>> [[psysml:2c010bd6-de88-4dc7-8be6-3edc78c34a31 ]] {\r\n",
       "}\r\n",
       "\r\n",
       "join \"J\" as E4  [[psysml:b80e7b99-08a2-49d6-9359-b424cf684151 ]] \r\n",
       "fork \"F\" as E5  [[psysml:df495c9b-9171-48f9-ac7d-26427115e0f4 ]] \r\n",
       "rec usage \"B1\" as E6  <<(T,blue) action>> [[psysml:b42821ea-70f6-43bd-9a67-84f3e511770a ]] {\r\n",
       "}\r\n",
       "\r\n",
       "rec usage \"B2\" as E7  <<(T,blue) action>> [[psysml:e950d6a4-fdbd-4650-aa0a-2ca4b4e20830 ]] {\r\n",
       "}\r\n",
       "\r\n",
       "}\r\n",
       "\r\n",
       "E2 - -> \"*\"E4 [[psysml:4f9dc8d6-d6e0-48a2-bcc8-8318223d246b ]] \r\n",
       "E3 - -> \"*\"E4 [[psysml:d5a52d23-3eda-48ed-8e98-b9c24f218910 ]] \r\n",
       "E4 - -> \"*\"E5 [[psysml:822f1664-72e1-4116-b41f-1c0919a615e0 ]] \r\n",
       "E5 - -> \"*\"E6 [[psysml:2360acce-0fc1-431a-bbc0-189c84da742a ]] \r\n",
       "E5 - -> \"*\"E7 [[psysml:ee81c625-3e17-4e8d-972a-76052e7a84e3 ]] \r\n",
       "@enduml\r\n",
       "\n",
       "PlantUML version 1.2020.13(Sat Jun 13 12:26:38 UTC 2020)\n",
       "(EPL source distribution)\n",
       "Java Runtime: OpenJDK Runtime Environment\n",
       "JVM: OpenJDK 64-Bit Server VM\n",
       "Default Encoding: UTF-8\n",
       "Language: en\n",
       "Country: null\n",
       "--></g></svg>"
      ]
     },
     "execution_count": 29,
     "metadata": {},
     "output_type": "execute_result"
    }
   ],
   "source": [
    "%viz --style=\"STDCOLOR\" --view=\"MIXED\" \"ControlNodeTest\""
   ]
  },
  {
   "cell_type": "code",
   "execution_count": 30,
   "id": "29aae33c",
   "metadata": {
    "execution": {
     "iopub.execute_input": "2022-02-18T10:46:10.823401Z",
     "iopub.status.busy": "2022-02-18T10:46:10.823155Z",
     "iopub.status.idle": "2022-02-18T10:46:10.879039Z",
     "shell.execute_reply": "2022-02-18T10:46:10.878733Z"
    }
   },
   "outputs": [
    {
     "data": {
      "image/svg+xml": [
       "<?xml version=\"1.0\" encoding=\"UTF-8\" standalone=\"no\"?><svg xmlns=\"http://www.w3.org/2000/svg\" xmlns:xlink=\"http://www.w3.org/1999/xlink\" contentScriptType=\"application/ecmascript\" contentStyleType=\"text/css\" height=\"375px\" preserveAspectRatio=\"none\" style=\"width:265px;height:375px;\" version=\"1.1\" viewBox=\"0 0 265 375\" width=\"265px\" zoomAndPan=\"magnify\"><defs><filter height=\"300%\" id=\"f1c3mvnmnmot37\" width=\"300%\" x=\"-1\" y=\"-1\"><feGaussianBlur result=\"blurOut\" stdDeviation=\"2.0\"/><feColorMatrix in=\"blurOut\" result=\"blurOut2\" type=\"matrix\" values=\"0 0 0 0 0 0 0 0 0 0 0 0 0 0 0 0 0 0 .4 0\"/><feOffset dx=\"4.0\" dy=\"4.0\" in=\"blurOut2\" result=\"blurOut3\"/><feBlend in=\"SourceGraphic\" in2=\"blurOut3\" mode=\"normal\"/></filter></defs><g><!--MD5=[fbc87193dbaf4d95561dea2c320d4a47]\n",
       "cluster E1--><a href=\"psysml:06c83ae0-0be1-4108-9f79-6c682626264b\" target=\"_top\" title=\"psysml:06c83ae0-0be1-4108-9f79-6c682626264b\" xlink:actuate=\"onRequest\" xlink:href=\"psysml:06c83ae0-0be1-4108-9f79-6c682626264b\" xlink:show=\"new\" xlink:title=\"psysml:06c83ae0-0be1-4108-9f79-6c682626264b\" xlink:type=\"simple\"><rect fill=\"#FFFFFF\" filter=\"url(#f1c3mvnmnmot37)\" height=\"349\" id=\"E1\" style=\"stroke: #A80036; stroke-width: 1.5;\" width=\"239\" x=\"7\" y=\"7\"/><rect fill=\"#FEFECE\" height=\"37.9375\" style=\"stroke: #A80036; stroke-width: 1.5;\" width=\"239\" x=\"7\" y=\"7\"/><text fill=\"#000000\" font-family=\"sans-serif\" font-size=\"12\" font-style=\"italic\" lengthAdjust=\"spacingAndGlyphs\" textLength=\"81\" x=\"86\" y=\"23.1387\">«action  def»</text><text fill=\"#000000\" font-family=\"sans-serif\" font-size=\"12\" lengthAdjust=\"spacingAndGlyphs\" textLength=\"105\" x=\"74\" y=\"37.1074\">ControlNodeTest</text></a><rect fill=\"#000000\" filter=\"url(#f1c3mvnmnmot37)\" height=\"8\" style=\"stroke: none; stroke-width: 1.0;\" width=\"80\" x=\"86\" y=\"161\"/><rect fill=\"#000000\" filter=\"url(#f1c3mvnmnmot37)\" height=\"8\" style=\"stroke: none; stroke-width: 1.0;\" width=\"80\" x=\"86\" y=\"229\"/><g id=\"E1.E2\"><a href=\"psysml:b587d390-d46d-4840-bcaf-beb60201fdea\" target=\"_top\" title=\"psysml:b587d390-d46d-4840-bcaf-beb60201fdea\" xlink:actuate=\"onRequest\" xlink:href=\"psysml:b587d390-d46d-4840-bcaf-beb60201fdea\" xlink:show=\"new\" xlink:title=\"psysml:b587d390-d46d-4840-bcaf-beb60201fdea\" xlink:type=\"simple\"><rect fill=\"#FEFECE\" filter=\"url(#f1c3mvnmnmot37)\" height=\"42.9375\" id=\"E2\" rx=\"10\" ry=\"10\" style=\"stroke: #A80036; stroke-width: 1.5;\" width=\"86\" x=\"144\" y=\"58\"/><ellipse cx=\"161.25\" cy=\"76.9688\" fill=\"#FFA500\" rx=\"11\" ry=\"11\" style=\"stroke: #A80036; stroke-width: 1.0;\"/><path d=\"M161,82.4375 Q159.25,82.4375 158.2969,81.4063 Q157.3594,80.3594 157.3594,78.5156 L157.3594,71.625 L159.4219,71.625 L159.4219,71.7813 Q159.3281,71.875 159.2969,72.0156 Q159.2813,72.1406 159.2813,72.4063 L159.2813,78.5313 Q159.2813,79.625 159.6563,80.25 Q160.0313,80.875 161.0156,80.875 Q162,80.875 162.3906,80.25 Q162.7813,79.625 162.7813,78.4844 L162.7813,71.625 L164.6563,71.625 L164.6563,78.4688 Q164.6563,80.5 163.625,81.4688 Q162.6094,82.4375 161,82.4375 Z \"/><text fill=\"#000000\" font-family=\"sans-serif\" font-size=\"12\" font-style=\"italic\" lengthAdjust=\"spacingAndGlyphs\" textLength=\"53\" x=\"173.75\" y=\"74.1387\">«action»</text><text fill=\"#000000\" font-family=\"sans-serif\" font-size=\"12\" lengthAdjust=\"spacingAndGlyphs\" textLength=\"16\" x=\"192.25\" y=\"88.1074\">A1</text></a></g><g id=\"E1.E3\"><a href=\"psysml:2c010bd6-de88-4dc7-8be6-3edc78c34a31\" target=\"_top\" title=\"psysml:2c010bd6-de88-4dc7-8be6-3edc78c34a31\" xlink:actuate=\"onRequest\" xlink:href=\"psysml:2c010bd6-de88-4dc7-8be6-3edc78c34a31\" xlink:show=\"new\" xlink:title=\"psysml:2c010bd6-de88-4dc7-8be6-3edc78c34a31\" xlink:type=\"simple\"><rect fill=\"#FEFECE\" filter=\"url(#f1c3mvnmnmot37)\" height=\"42.9375\" id=\"E3\" rx=\"10\" ry=\"10\" style=\"stroke: #A80036; stroke-width: 1.5;\" width=\"86\" x=\"23\" y=\"58\"/><ellipse cx=\"40.25\" cy=\"76.9688\" fill=\"#FFA500\" rx=\"11\" ry=\"11\" style=\"stroke: #A80036; stroke-width: 1.0;\"/><path d=\"M40,82.4375 Q38.25,82.4375 37.2969,81.4063 Q36.3594,80.3594 36.3594,78.5156 L36.3594,71.625 L38.4219,71.625 L38.4219,71.7813 Q38.3281,71.875 38.2969,72.0156 Q38.2813,72.1406 38.2813,72.4063 L38.2813,78.5313 Q38.2813,79.625 38.6563,80.25 Q39.0313,80.875 40.0156,80.875 Q41,80.875 41.3906,80.25 Q41.7813,79.625 41.7813,78.4844 L41.7813,71.625 L43.6563,71.625 L43.6563,78.4688 Q43.6563,80.5 42.625,81.4688 Q41.6094,82.4375 40,82.4375 Z \"/><text fill=\"#000000\" font-family=\"sans-serif\" font-size=\"12\" font-style=\"italic\" lengthAdjust=\"spacingAndGlyphs\" textLength=\"53\" x=\"52.75\" y=\"74.1387\">«action»</text><text fill=\"#000000\" font-family=\"sans-serif\" font-size=\"12\" lengthAdjust=\"spacingAndGlyphs\" textLength=\"16\" x=\"71.25\" y=\"88.1074\">A2</text></a></g><g id=\"E1.E6\"><a href=\"psysml:b42821ea-70f6-43bd-9a67-84f3e511770a\" target=\"_top\" title=\"psysml:b42821ea-70f6-43bd-9a67-84f3e511770a\" xlink:actuate=\"onRequest\" xlink:href=\"psysml:b42821ea-70f6-43bd-9a67-84f3e511770a\" xlink:show=\"new\" xlink:title=\"psysml:b42821ea-70f6-43bd-9a67-84f3e511770a\" xlink:type=\"simple\"><rect fill=\"#FEFECE\" filter=\"url(#f1c3mvnmnmot37)\" height=\"42.9375\" id=\"E6\" rx=\"10\" ry=\"10\" style=\"stroke: #A80036; stroke-width: 1.5;\" width=\"86\" x=\"23\" y=\"297\"/><ellipse cx=\"40.25\" cy=\"315.9688\" fill=\"#FFA500\" rx=\"11\" ry=\"11\" style=\"stroke: #A80036; stroke-width: 1.0;\"/><path d=\"M40,321.4375 Q38.25,321.4375 37.2969,320.4063 Q36.3594,319.3594 36.3594,317.5156 L36.3594,310.625 L38.4219,310.625 L38.4219,310.7813 Q38.3281,310.875 38.2969,311.0156 Q38.2813,311.1406 38.2813,311.4063 L38.2813,317.5313 Q38.2813,318.625 38.6563,319.25 Q39.0313,319.875 40.0156,319.875 Q41,319.875 41.3906,319.25 Q41.7813,318.625 41.7813,317.4844 L41.7813,310.625 L43.6563,310.625 L43.6563,317.4688 Q43.6563,319.5 42.625,320.4688 Q41.6094,321.4375 40,321.4375 Z \"/><text fill=\"#000000\" font-family=\"sans-serif\" font-size=\"12\" font-style=\"italic\" lengthAdjust=\"spacingAndGlyphs\" textLength=\"53\" x=\"52.75\" y=\"313.1387\">«action»</text><text fill=\"#000000\" font-family=\"sans-serif\" font-size=\"12\" lengthAdjust=\"spacingAndGlyphs\" textLength=\"16\" x=\"71.25\" y=\"327.1074\">B1</text></a></g><g id=\"E1.E7\"><a href=\"psysml:e950d6a4-fdbd-4650-aa0a-2ca4b4e20830\" target=\"_top\" title=\"psysml:e950d6a4-fdbd-4650-aa0a-2ca4b4e20830\" xlink:actuate=\"onRequest\" xlink:href=\"psysml:e950d6a4-fdbd-4650-aa0a-2ca4b4e20830\" xlink:show=\"new\" xlink:title=\"psysml:e950d6a4-fdbd-4650-aa0a-2ca4b4e20830\" xlink:type=\"simple\"><rect fill=\"#FEFECE\" filter=\"url(#f1c3mvnmnmot37)\" height=\"42.9375\" id=\"E7\" rx=\"10\" ry=\"10\" style=\"stroke: #A80036; stroke-width: 1.5;\" width=\"86\" x=\"144\" y=\"297\"/><ellipse cx=\"161.25\" cy=\"315.9688\" fill=\"#FFA500\" rx=\"11\" ry=\"11\" style=\"stroke: #A80036; stroke-width: 1.0;\"/><path d=\"M161,321.4375 Q159.25,321.4375 158.2969,320.4063 Q157.3594,319.3594 157.3594,317.5156 L157.3594,310.625 L159.4219,310.625 L159.4219,310.7813 Q159.3281,310.875 159.2969,311.0156 Q159.2813,311.1406 159.2813,311.4063 L159.2813,317.5313 Q159.2813,318.625 159.6563,319.25 Q160.0313,319.875 161.0156,319.875 Q162,319.875 162.3906,319.25 Q162.7813,318.625 162.7813,317.4844 L162.7813,310.625 L164.6563,310.625 L164.6563,317.4688 Q164.6563,319.5 163.625,320.4688 Q162.6094,321.4375 161,321.4375 Z \"/><text fill=\"#000000\" font-family=\"sans-serif\" font-size=\"12\" font-style=\"italic\" lengthAdjust=\"spacingAndGlyphs\" textLength=\"53\" x=\"173.75\" y=\"313.1387\">«action»</text><text fill=\"#000000\" font-family=\"sans-serif\" font-size=\"12\" lengthAdjust=\"spacingAndGlyphs\" textLength=\"16\" x=\"192.25\" y=\"327.1074\">B2</text></a></g><!--MD5=[4d03bb2d0377dc85ccfab60ff574652b]\n",
       "link E2 to E4--><a href=\"psysml:4f9dc8d6-d6e0-48a2-bcc8-8318223d246b\" target=\"_top\" title=\"psysml:4f9dc8d6-d6e0-48a2-bcc8-8318223d246b\" xlink:actuate=\"onRequest\" xlink:href=\"psysml:4f9dc8d6-d6e0-48a2-bcc8-8318223d246b\" xlink:show=\"new\" xlink:title=\"psysml:4f9dc8d6-d6e0-48a2-bcc8-8318223d246b\" xlink:type=\"simple\"><path d=\"M171.92,101.14 C158.72,119.22 140.27,144.46 131.31,156.73 \" fill=\"none\" id=\"E2-&gt;E4\" style=\"stroke: #A80036; stroke-width: 1.0;\"/><polygon fill=\"#A80036\" points=\"128.28,160.88,136.8219,155.9773,131.2319,156.8444,130.3648,151.2543,128.28,160.88\" style=\"stroke: #A80036; stroke-width: 1.0;\"/><text fill=\"#000000\" font-family=\"sans-serif\" font-size=\"13\" lengthAdjust=\"spacingAndGlyphs\" textLength=\"7\" x=\"120.4413\" y=\"150.0038\">*</text></a><!--MD5=[af87c684e3b0d8be13c1a698a818ef1e]\n",
       "link E3 to E4--><a href=\"psysml:d5a52d23-3eda-48ed-8e98-b9c24f218910\" target=\"_top\" title=\"psysml:d5a52d23-3eda-48ed-8e98-b9c24f218910\" xlink:actuate=\"onRequest\" xlink:href=\"psysml:d5a52d23-3eda-48ed-8e98-b9c24f218910\" xlink:show=\"new\" xlink:title=\"psysml:d5a52d23-3eda-48ed-8e98-b9c24f218910\" xlink:type=\"simple\"><path d=\"M80.83,101.14 C93.82,119.22 111.96,144.46 120.78,156.73 \" fill=\"none\" id=\"E3-&gt;E4\" style=\"stroke: #A80036; stroke-width: 1.0;\"/><polygon fill=\"#A80036\" points=\"123.76,160.88,121.7581,151.2367,120.843,156.8191,115.2607,155.9039,123.76,160.88\" style=\"stroke: #A80036; stroke-width: 1.0;\"/><text fill=\"#000000\" font-family=\"sans-serif\" font-size=\"13\" lengthAdjust=\"spacingAndGlyphs\" textLength=\"7\" x=\"112.8138\" y=\"150.0038\">*</text></a><!--MD5=[1b7591eae5389033d8d09a9d6721a717]\n",
       "link E4 to E5--><a href=\"psysml:822f1664-72e1-4116-b41f-1c0919a615e0\" target=\"_top\" title=\"psysml:822f1664-72e1-4116-b41f-1c0919a615e0\" xlink:actuate=\"onRequest\" xlink:href=\"psysml:822f1664-72e1-4116-b41f-1c0919a615e0\" xlink:show=\"new\" xlink:title=\"psysml:822f1664-72e1-4116-b41f-1c0919a615e0\" xlink:type=\"simple\"><path d=\"M126,169.18 C126,178.92 126,208.52 126,223.34 \" fill=\"none\" id=\"E4-&gt;E5\" style=\"stroke: #A80036; stroke-width: 1.0;\"/><polygon fill=\"#A80036\" points=\"126,228.69,130,219.69,126,223.69,122,219.69,126,228.69\" style=\"stroke: #A80036; stroke-width: 1.0;\"/><text fill=\"#000000\" font-family=\"sans-serif\" font-size=\"13\" lengthAdjust=\"spacingAndGlyphs\" textLength=\"7\" x=\"116.6813\" y=\"217.9768\">*</text></a><!--MD5=[9120cf2e5df3bff93db8f754bbbc09b4]\n",
       "link E5 to E6--><a href=\"psysml:2360acce-0fc1-431a-bbc0-189c84da742a\" target=\"_top\" title=\"psysml:2360acce-0fc1-431a-bbc0-189c84da742a\" xlink:actuate=\"onRequest\" xlink:href=\"psysml:2360acce-0fc1-431a-bbc0-189c84da742a\" xlink:show=\"new\" xlink:title=\"psysml:2360acce-0fc1-431a-bbc0-189c84da742a\" xlink:type=\"simple\"><path d=\"M123.72,237.17 C117.25,246.18 98.28,272.58 83.83,292.68 \" fill=\"none\" id=\"E5-&gt;E6\" style=\"stroke: #A80036; stroke-width: 1.0;\"/><polygon fill=\"#A80036\" points=\"80.83,296.87,89.3326,291.8995,83.7496,292.811,82.8381,287.228,80.83,296.87\" style=\"stroke: #A80036; stroke-width: 1.0;\"/><text fill=\"#000000\" font-family=\"sans-serif\" font-size=\"13\" lengthAdjust=\"spacingAndGlyphs\" textLength=\"7\" x=\"77.0166\" y=\"285.7715\">*</text></a><!--MD5=[3a9b96bfbf6b6ad89c494e81751bda47]\n",
       "link E5 to E7--><a href=\"psysml:ee81c625-3e17-4e8d-972a-76052e7a84e3\" target=\"_top\" title=\"psysml:ee81c625-3e17-4e8d-972a-76052e7a84e3\" xlink:actuate=\"onRequest\" xlink:href=\"psysml:ee81c625-3e17-4e8d-972a-76052e7a84e3\" xlink:show=\"new\" xlink:title=\"psysml:ee81c625-3e17-4e8d-972a-76052e7a84e3\" xlink:type=\"simple\"><path d=\"M128.32,237.17 C134.9,246.18 154.19,272.58 168.87,292.68 \" fill=\"none\" id=\"E5-&gt;E7\" style=\"stroke: #A80036; stroke-width: 1.0;\"/><polygon fill=\"#A80036\" points=\"171.93,296.87,169.8674,287.2396,168.9874,292.8276,163.3994,291.9476,171.93,296.87\" style=\"stroke: #A80036; stroke-width: 1.0;\"/><text fill=\"#000000\" font-family=\"sans-serif\" font-size=\"13\" lengthAdjust=\"spacingAndGlyphs\" textLength=\"7\" x=\"159.7072\" y=\"285.7715\">*</text></a><!--MD5=[622cb56970ccb6662a54560a0db25b63]\n",
       "@startuml\r\n",
       " \r\n",
       "rec def \"ControlNodeTest\" as E1 << <<(B,lemonchiffon) action  def>> [[psysml:06c83ae0-0be1-4108-9f79-6c682626264b ]] {\r\n",
       "rec usage \"A1\" as E2 << <<(U,orange) action>> [[psysml:b587d390-d46d-4840-bcaf-beb60201fdea ]] {\r\n",
       "}\r\n",
       "\r\n",
       "rec usage \"A2\" as E3 << <<(U,orange) action>> [[psysml:2c010bd6-de88-4dc7-8be6-3edc78c34a31 ]] {\r\n",
       "}\r\n",
       "\r\n",
       "join \"J\" as E4  [[psysml:b80e7b99-08a2-49d6-9359-b424cf684151 ]] \r\n",
       "fork \"F\" as E5  [[psysml:df495c9b-9171-48f9-ac7d-26427115e0f4 ]] \r\n",
       "rec usage \"B1\" as E6 << <<(U,orange) action>> [[psysml:b42821ea-70f6-43bd-9a67-84f3e511770a ]] {\r\n",
       "}\r\n",
       "\r\n",
       "rec usage \"B2\" as E7 << <<(U,orange) action>> [[psysml:e950d6a4-fdbd-4650-aa0a-2ca4b4e20830 ]] {\r\n",
       "}\r\n",
       "\r\n",
       "}\r\n",
       "\r\n",
       "E2 - -> \"*\"E4 [[psysml:4f9dc8d6-d6e0-48a2-bcc8-8318223d246b ]] \r\n",
       "E3 - -> \"*\"E4 [[psysml:d5a52d23-3eda-48ed-8e98-b9c24f218910 ]] \r\n",
       "E4 - -> \"*\"E5 [[psysml:822f1664-72e1-4116-b41f-1c0919a615e0 ]] \r\n",
       "E5 - -> \"*\"E6 [[psysml:2360acce-0fc1-431a-bbc0-189c84da742a ]] \r\n",
       "E5 - -> \"*\"E7 [[psysml:ee81c625-3e17-4e8d-972a-76052e7a84e3 ]] \r\n",
       "@enduml\r\n",
       "\n",
       "PlantUML version 1.2020.13(Sat Jun 13 12:26:38 UTC 2020)\n",
       "(EPL source distribution)\n",
       "Java Runtime: OpenJDK Runtime Environment\n",
       "JVM: OpenJDK 64-Bit Server VM\n",
       "Default Encoding: UTF-8\n",
       "Language: en\n",
       "Country: null\n",
       "--></g></svg>"
      ]
     },
     "execution_count": 30,
     "metadata": {},
     "output_type": "execute_result"
    }
   ],
   "source": [
    "%viz --style=\"PLANTUML\" --view=\"Default\" \"ControlNodeTest\""
   ]
  },
  {
   "cell_type": "code",
   "execution_count": 31,
   "id": "39668905",
   "metadata": {
    "execution": {
     "iopub.execute_input": "2022-02-18T10:46:10.928868Z",
     "iopub.status.busy": "2022-02-18T10:46:10.928555Z",
     "iopub.status.idle": "2022-02-18T10:46:11.013871Z",
     "shell.execute_reply": "2022-02-18T10:46:11.013597Z"
    }
   },
   "outputs": [
    {
     "data": {
      "image/svg+xml": [
       "<?xml version=\"1.0\" encoding=\"UTF-8\" standalone=\"no\"?><svg xmlns=\"http://www.w3.org/2000/svg\" xmlns:xlink=\"http://www.w3.org/1999/xlink\" contentScriptType=\"application/ecmascript\" contentStyleType=\"text/css\" height=\"258px\" preserveAspectRatio=\"none\" style=\"width:728px;height:258px;\" version=\"1.1\" viewBox=\"0 0 728 258\" width=\"728px\" zoomAndPan=\"magnify\"><defs><filter height=\"300%\" id=\"fjgdmqrq5uxix\" width=\"300%\" x=\"-1\" y=\"-1\"><feGaussianBlur result=\"blurOut\" stdDeviation=\"2.0\"/><feColorMatrix in=\"blurOut\" result=\"blurOut2\" type=\"matrix\" values=\"0 0 0 0 0 0 0 0 0 0 0 0 0 0 0 0 0 0 .4 0\"/><feOffset dx=\"4.0\" dy=\"4.0\" in=\"blurOut2\" result=\"blurOut3\"/><feBlend in=\"SourceGraphic\" in2=\"blurOut3\" mode=\"normal\"/></filter></defs><g><!--MD5=[43c9051892ef23e1a46a86907403d788]\n",
       "class E1--><a href=\"psysml:06c83ae0-0be1-4108-9f79-6c682626264b\" target=\"_top\" title=\"psysml:06c83ae0-0be1-4108-9f79-6c682626264b\" xlink:actuate=\"onRequest\" xlink:href=\"psysml:06c83ae0-0be1-4108-9f79-6c682626264b\" xlink:show=\"new\" xlink:title=\"psysml:06c83ae0-0be1-4108-9f79-6c682626264b\" xlink:type=\"simple\"><rect fill=\"#FEFECE\" filter=\"url(#fjgdmqrq5uxix)\" height=\"126.7656\" id=\"E1\" style=\"stroke: #A80036; stroke-width: 1.5;\" width=\"137\" x=\"289\" y=\"7\"/><ellipse cx=\"304\" cy=\"25.9688\" fill=\"#FFFACD\" rx=\"11\" ry=\"11\" style=\"stroke: #A80036; stroke-width: 1.0;\"/><path d=\"M300.875,30.9688 L300.875,20.375 L304.1094,20.375 Q306.0156,20.375 306.9219,21.125 Q307.8438,21.875 307.8438,23.0469 Q307.8438,23.7344 307.4531,24.3906 Q307.0781,25.0469 306.3594,25.3438 Q307.2188,25.7188 307.7344,26.4063 Q308.25,27.0938 308.25,27.9063 Q308.25,29.2813 307.2188,30.125 Q306.2031,30.9688 304.0938,30.9688 L300.875,30.9688 Z M302.7969,24.6094 L303.9531,24.6094 Q305.0781,24.6094 305.4844,24.2344 Q305.9063,23.8438 305.9063,23.2188 Q305.9063,22.6406 305.4844,22.2813 Q305.0625,21.9219 304.125,21.9219 L302.7969,21.9219 L302.7969,24.6094 Z M302.7969,29.3906 L304.2969,29.3906 Q305.2031,29.3906 305.7344,29 Q306.2656,28.6094 306.2656,27.8594 Q306.2656,27.0938 305.7656,26.625 Q305.2656,26.1406 304,26.1406 L302.7969,26.1406 L302.7969,29.3906 Z \"/><text fill=\"#000000\" font-family=\"sans-serif\" font-size=\"12\" font-style=\"italic\" lengthAdjust=\"spacingAndGlyphs\" textLength=\"81\" x=\"330\" y=\"23.1387\">«action  def»</text><text fill=\"#000000\" font-family=\"sans-serif\" font-size=\"12\" lengthAdjust=\"spacingAndGlyphs\" textLength=\"105\" x=\"318\" y=\"37.1074\">ControlNodeTest</text><line style=\"stroke: #A80036; stroke-width: 1.5;\" x1=\"290\" x2=\"425\" y1=\"44.9375\" y2=\"44.9375\"/><text fill=\"#000000\" font-family=\"sans-serif\" font-size=\"11\" lengthAdjust=\"spacingAndGlyphs\" textLength=\"36\" x=\"295\" y=\"75.9526\">then  J</text><text fill=\"#000000\" font-family=\"sans-serif\" font-size=\"11\" lengthAdjust=\"spacingAndGlyphs\" textLength=\"36\" x=\"295\" y=\"88.7573\">then  J</text><text fill=\"#000000\" font-family=\"sans-serif\" font-size=\"11\" lengthAdjust=\"spacingAndGlyphs\" textLength=\"25\" x=\"295\" y=\"101.562\">then</text><text fill=\"#000000\" font-family=\"sans-serif\" font-size=\"11\" lengthAdjust=\"spacingAndGlyphs\" textLength=\"48\" x=\"295\" y=\"114.3667\">then  B1</text><text fill=\"#000000\" font-family=\"sans-serif\" font-size=\"11\" lengthAdjust=\"spacingAndGlyphs\" textLength=\"48\" x=\"295\" y=\"127.1714\">then  B2</text><line style=\"stroke: #A80036; stroke-width: 1.0;\" x1=\"290\" x2=\"322\" y1=\"59.3398\" y2=\"59.3398\"/><text fill=\"#000000\" font-family=\"sans-serif\" font-size=\"11\" lengthAdjust=\"spacingAndGlyphs\" textLength=\"71\" x=\"322\" y=\"62.6479\">successions</text><line style=\"stroke: #A80036; stroke-width: 1.0;\" x1=\"393\" x2=\"425\" y1=\"59.3398\" y2=\"59.3398\"/></a><!--MD5=[b4997ac47864f28c2f74865a473b2911]\n",
       "class E2--><a href=\"psysml:b587d390-d46d-4840-bcaf-beb60201fdea\" target=\"_top\" title=\"psysml:b587d390-d46d-4840-bcaf-beb60201fdea\" xlink:actuate=\"onRequest\" xlink:href=\"psysml:b587d390-d46d-4840-bcaf-beb60201fdea\" xlink:show=\"new\" xlink:title=\"psysml:b587d390-d46d-4840-bcaf-beb60201fdea\" xlink:type=\"simple\"><rect fill=\"#FEFECE\" filter=\"url(#fjgdmqrq5uxix)\" height=\"45.9375\" id=\"E2\" rx=\"10\" ry=\"10\" style=\"stroke: #A80036; stroke-width: 1.5;\" width=\"81\" x=\"7\" y=\"194\"/><ellipse cx=\"22\" cy=\"212.9688\" fill=\"#FFA500\" rx=\"11\" ry=\"11\" style=\"stroke: #A80036; stroke-width: 1.0;\"/><path d=\"M21.75,218.4375 Q20,218.4375 19.0469,217.4063 Q18.1094,216.3594 18.1094,214.5156 L18.1094,207.625 L20.1719,207.625 L20.1719,207.7813 Q20.0781,207.875 20.0469,208.0156 Q20.0313,208.1406 20.0313,208.4063 L20.0313,214.5313 Q20.0313,215.625 20.4063,216.25 Q20.7813,216.875 21.7656,216.875 Q22.75,216.875 23.1406,216.25 Q23.5313,215.625 23.5313,214.4844 L23.5313,207.625 L25.4063,207.625 L25.4063,214.4688 Q25.4063,216.5 24.375,217.4688 Q23.3594,218.4375 21.75,218.4375 Z \"/><text fill=\"#000000\" font-family=\"sans-serif\" font-size=\"12\" font-style=\"italic\" lengthAdjust=\"spacingAndGlyphs\" textLength=\"53\" x=\"34\" y=\"210.1387\">«action»</text><text fill=\"#000000\" font-family=\"sans-serif\" font-size=\"12\" lengthAdjust=\"spacingAndGlyphs\" textLength=\"16\" x=\"50.5\" y=\"224.1074\">A1</text><line style=\"stroke: #A80036; stroke-width: 1.5;\" x1=\"8\" x2=\"87\" y1=\"231.9375\" y2=\"231.9375\"/></a><!--MD5=[09b614a08d8cba4a07c9adeb5e0fee81]\n",
       "class E3--><a href=\"psysml:2c010bd6-de88-4dc7-8be6-3edc78c34a31\" target=\"_top\" title=\"psysml:2c010bd6-de88-4dc7-8be6-3edc78c34a31\" xlink:actuate=\"onRequest\" xlink:href=\"psysml:2c010bd6-de88-4dc7-8be6-3edc78c34a31\" xlink:show=\"new\" xlink:title=\"psysml:2c010bd6-de88-4dc7-8be6-3edc78c34a31\" xlink:type=\"simple\"><rect fill=\"#FEFECE\" filter=\"url(#fjgdmqrq5uxix)\" height=\"45.9375\" id=\"E3\" rx=\"10\" ry=\"10\" style=\"stroke: #A80036; stroke-width: 1.5;\" width=\"81\" x=\"123\" y=\"194\"/><ellipse cx=\"138\" cy=\"212.9688\" fill=\"#FFA500\" rx=\"11\" ry=\"11\" style=\"stroke: #A80036; stroke-width: 1.0;\"/><path d=\"M137.75,218.4375 Q136,218.4375 135.0469,217.4063 Q134.1094,216.3594 134.1094,214.5156 L134.1094,207.625 L136.1719,207.625 L136.1719,207.7813 Q136.0781,207.875 136.0469,208.0156 Q136.0313,208.1406 136.0313,208.4063 L136.0313,214.5313 Q136.0313,215.625 136.4063,216.25 Q136.7813,216.875 137.7656,216.875 Q138.75,216.875 139.1406,216.25 Q139.5313,215.625 139.5313,214.4844 L139.5313,207.625 L141.4063,207.625 L141.4063,214.4688 Q141.4063,216.5 140.375,217.4688 Q139.3594,218.4375 137.75,218.4375 Z \"/><text fill=\"#000000\" font-family=\"sans-serif\" font-size=\"12\" font-style=\"italic\" lengthAdjust=\"spacingAndGlyphs\" textLength=\"53\" x=\"150\" y=\"210.1387\">«action»</text><text fill=\"#000000\" font-family=\"sans-serif\" font-size=\"12\" lengthAdjust=\"spacingAndGlyphs\" textLength=\"16\" x=\"166.5\" y=\"224.1074\">A2</text><line style=\"stroke: #A80036; stroke-width: 1.5;\" x1=\"124\" x2=\"203\" y1=\"231.9375\" y2=\"231.9375\"/></a><!--MD5=[ebbe1d658d1005bcc118a6aa81145e00]\n",
       "class E4--><a href=\"psysml:b80e7b99-08a2-49d6-9359-b424cf684151\" target=\"_top\" title=\"psysml:b80e7b99-08a2-49d6-9359-b424cf684151\" xlink:actuate=\"onRequest\" xlink:href=\"psysml:b80e7b99-08a2-49d6-9359-b424cf684151\" xlink:show=\"new\" xlink:title=\"psysml:b80e7b99-08a2-49d6-9359-b424cf684151\" xlink:type=\"simple\"><rect fill=\"#FEFECE\" filter=\"url(#fjgdmqrq5uxix)\" height=\"45.9375\" id=\"E4\" rx=\"10\" ry=\"10\" style=\"stroke: #A80036; stroke-width: 1.5;\" width=\"100\" x=\"239.5\" y=\"194\"/><ellipse cx=\"254.5\" cy=\"212.9688\" fill=\"#FFA500\" rx=\"11\" ry=\"11\" style=\"stroke: #A80036; stroke-width: 1.0;\"/><path d=\"M254.25,218.4375 Q252.5,218.4375 251.5469,217.4063 Q250.6094,216.3594 250.6094,214.5156 L250.6094,207.625 L252.6719,207.625 L252.6719,207.7813 Q252.5781,207.875 252.5469,208.0156 Q252.5313,208.1406 252.5313,208.4063 L252.5313,214.5313 Q252.5313,215.625 252.9063,216.25 Q253.2813,216.875 254.2656,216.875 Q255.25,216.875 255.6406,216.25 Q256.0313,215.625 256.0313,214.4844 L256.0313,207.625 L257.9063,207.625 L257.9063,214.4688 Q257.9063,216.5 256.875,217.4688 Q255.8594,218.4375 254.25,218.4375 Z \"/><text fill=\"#000000\" font-family=\"sans-serif\" font-size=\"12\" font-style=\"italic\" lengthAdjust=\"spacingAndGlyphs\" textLength=\"72\" x=\"266.5\" y=\"210.1387\">«join node»</text><text fill=\"#000000\" font-family=\"sans-serif\" font-size=\"12\" lengthAdjust=\"spacingAndGlyphs\" textLength=\"3\" x=\"299\" y=\"224.1074\">J</text><line style=\"stroke: #A80036; stroke-width: 1.5;\" x1=\"240.5\" x2=\"338.5\" y1=\"231.9375\" y2=\"231.9375\"/></a><!--MD5=[270fce915f116d4de14055a7c1d9a0f3]\n",
       "class E5--><a href=\"psysml:df495c9b-9171-48f9-ac7d-26427115e0f4\" target=\"_top\" title=\"psysml:df495c9b-9171-48f9-ac7d-26427115e0f4\" xlink:actuate=\"onRequest\" xlink:href=\"psysml:df495c9b-9171-48f9-ac7d-26427115e0f4\" xlink:show=\"new\" xlink:title=\"psysml:df495c9b-9171-48f9-ac7d-26427115e0f4\" xlink:type=\"simple\"><rect fill=\"#FEFECE\" filter=\"url(#fjgdmqrq5uxix)\" height=\"45.9375\" id=\"E5\" rx=\"10\" ry=\"10\" style=\"stroke: #A80036; stroke-width: 1.5;\" width=\"102\" x=\"374.5\" y=\"194\"/><ellipse cx=\"389.5\" cy=\"212.9688\" fill=\"#FFA500\" rx=\"11\" ry=\"11\" style=\"stroke: #A80036; stroke-width: 1.0;\"/><path d=\"M389.25,218.4375 Q387.5,218.4375 386.5469,217.4063 Q385.6094,216.3594 385.6094,214.5156 L385.6094,207.625 L387.6719,207.625 L387.6719,207.7813 Q387.5781,207.875 387.5469,208.0156 Q387.5313,208.1406 387.5313,208.4063 L387.5313,214.5313 Q387.5313,215.625 387.9063,216.25 Q388.2813,216.875 389.2656,216.875 Q390.25,216.875 390.6406,216.25 Q391.0313,215.625 391.0313,214.4844 L391.0313,207.625 L392.9063,207.625 L392.9063,214.4688 Q392.9063,216.5 391.875,217.4688 Q390.8594,218.4375 389.25,218.4375 Z \"/><text fill=\"#000000\" font-family=\"sans-serif\" font-size=\"12\" font-style=\"italic\" lengthAdjust=\"spacingAndGlyphs\" textLength=\"74\" x=\"401.5\" y=\"210.1387\">«fork node»</text><text fill=\"#000000\" font-family=\"sans-serif\" font-size=\"12\" lengthAdjust=\"spacingAndGlyphs\" textLength=\"7\" x=\"433\" y=\"224.1074\">F</text><line style=\"stroke: #A80036; stroke-width: 1.5;\" x1=\"375.5\" x2=\"475.5\" y1=\"231.9375\" y2=\"231.9375\"/></a><!--MD5=[60a26617385b1d2d0262a64233df1f8d]\n",
       "class E6--><a href=\"psysml:b42821ea-70f6-43bd-9a67-84f3e511770a\" target=\"_top\" title=\"psysml:b42821ea-70f6-43bd-9a67-84f3e511770a\" xlink:actuate=\"onRequest\" xlink:href=\"psysml:b42821ea-70f6-43bd-9a67-84f3e511770a\" xlink:show=\"new\" xlink:title=\"psysml:b42821ea-70f6-43bd-9a67-84f3e511770a\" xlink:type=\"simple\"><rect fill=\"#FEFECE\" filter=\"url(#fjgdmqrq5uxix)\" height=\"45.9375\" id=\"E6\" rx=\"10\" ry=\"10\" style=\"stroke: #A80036; stroke-width: 1.5;\" width=\"81\" x=\"512\" y=\"194\"/><ellipse cx=\"527\" cy=\"212.9688\" fill=\"#FFA500\" rx=\"11\" ry=\"11\" style=\"stroke: #A80036; stroke-width: 1.0;\"/><path d=\"M526.75,218.4375 Q525,218.4375 524.0469,217.4063 Q523.1094,216.3594 523.1094,214.5156 L523.1094,207.625 L525.1719,207.625 L525.1719,207.7813 Q525.0781,207.875 525.0469,208.0156 Q525.0313,208.1406 525.0313,208.4063 L525.0313,214.5313 Q525.0313,215.625 525.4063,216.25 Q525.7813,216.875 526.7656,216.875 Q527.75,216.875 528.1406,216.25 Q528.5313,215.625 528.5313,214.4844 L528.5313,207.625 L530.4063,207.625 L530.4063,214.4688 Q530.4063,216.5 529.375,217.4688 Q528.3594,218.4375 526.75,218.4375 Z \"/><text fill=\"#000000\" font-family=\"sans-serif\" font-size=\"12\" font-style=\"italic\" lengthAdjust=\"spacingAndGlyphs\" textLength=\"53\" x=\"539\" y=\"210.1387\">«action»</text><text fill=\"#000000\" font-family=\"sans-serif\" font-size=\"12\" lengthAdjust=\"spacingAndGlyphs\" textLength=\"16\" x=\"555.5\" y=\"224.1074\">B1</text><line style=\"stroke: #A80036; stroke-width: 1.5;\" x1=\"513\" x2=\"592\" y1=\"231.9375\" y2=\"231.9375\"/></a><!--MD5=[2156ba9850f5573cc1fc38a6a4b2f02b]\n",
       "class E7--><a href=\"psysml:e950d6a4-fdbd-4650-aa0a-2ca4b4e20830\" target=\"_top\" title=\"psysml:e950d6a4-fdbd-4650-aa0a-2ca4b4e20830\" xlink:actuate=\"onRequest\" xlink:href=\"psysml:e950d6a4-fdbd-4650-aa0a-2ca4b4e20830\" xlink:show=\"new\" xlink:title=\"psysml:e950d6a4-fdbd-4650-aa0a-2ca4b4e20830\" xlink:type=\"simple\"><rect fill=\"#FEFECE\" filter=\"url(#fjgdmqrq5uxix)\" height=\"45.9375\" id=\"E7\" rx=\"10\" ry=\"10\" style=\"stroke: #A80036; stroke-width: 1.5;\" width=\"81\" x=\"628\" y=\"194\"/><ellipse cx=\"643\" cy=\"212.9688\" fill=\"#FFA500\" rx=\"11\" ry=\"11\" style=\"stroke: #A80036; stroke-width: 1.0;\"/><path d=\"M642.75,218.4375 Q641,218.4375 640.0469,217.4063 Q639.1094,216.3594 639.1094,214.5156 L639.1094,207.625 L641.1719,207.625 L641.1719,207.7813 Q641.0781,207.875 641.0469,208.0156 Q641.0313,208.1406 641.0313,208.4063 L641.0313,214.5313 Q641.0313,215.625 641.4063,216.25 Q641.7813,216.875 642.7656,216.875 Q643.75,216.875 644.1406,216.25 Q644.5313,215.625 644.5313,214.4844 L644.5313,207.625 L646.4063,207.625 L646.4063,214.4688 Q646.4063,216.5 645.375,217.4688 Q644.3594,218.4375 642.75,218.4375 Z \"/><text fill=\"#000000\" font-family=\"sans-serif\" font-size=\"12\" font-style=\"italic\" lengthAdjust=\"spacingAndGlyphs\" textLength=\"53\" x=\"655\" y=\"210.1387\">«action»</text><text fill=\"#000000\" font-family=\"sans-serif\" font-size=\"12\" lengthAdjust=\"spacingAndGlyphs\" textLength=\"16\" x=\"671.5\" y=\"224.1074\">B2</text><line style=\"stroke: #A80036; stroke-width: 1.5;\" x1=\"629\" x2=\"708\" y1=\"231.9375\" y2=\"231.9375\"/></a><!--MD5=[a523cb2a0b79ecf9065ad8783f96c320]\n",
       "reverse link E1 to E2--><a href=\"psysml:8824560d-0356-45ea-8a7b-06baadbc63a3\" target=\"_top\" title=\"psysml:8824560d-0356-45ea-8a7b-06baadbc63a3\" xlink:actuate=\"onRequest\" xlink:href=\"psysml:8824560d-0356-45ea-8a7b-06baadbc63a3\" xlink:show=\"new\" xlink:title=\"psysml:8824560d-0356-45ea-8a7b-06baadbc63a3\" xlink:type=\"simple\"><path d=\"M276.87,109.09 C216.29,137.32 135.86,174.81 88.1,197.07 \" fill=\"none\" id=\"E1&lt;-E2\" style=\"stroke: #A80036; stroke-width: 1.0;\"/><polygon fill=\"#A80036\" points=\"288.7,103.57,281.5724,102.4755,277.8208,108.6338,284.9483,109.7283,288.7,103.57\" style=\"stroke: #A80036; stroke-width: 1.0;\"/><text fill=\"#000000\" font-family=\"sans-serif\" font-size=\"13\" lengthAdjust=\"spacingAndGlyphs\" textLength=\"7\" x=\"95.9553\" y=\"189.2683\">*</text></a><!--MD5=[5d7b3810b1dd9b5164bea1151b29b665]\n",
       "reverse link E1 to E3--><a href=\"psysml:cbbe4b3e-f7e7-45b7-a67a-c33698d06c9d\" target=\"_top\" title=\"psysml:cbbe4b3e-f7e7-45b7-a67a-c33698d06c9d\" xlink:actuate=\"onRequest\" xlink:href=\"psysml:cbbe4b3e-f7e7-45b7-a67a-c33698d06c9d\" xlink:show=\"new\" xlink:title=\"psysml:cbbe4b3e-f7e7-45b7-a67a-c33698d06c9d\" xlink:type=\"simple\"><path d=\"M278.31,130.48 C248.24,152.88 215.8,177.05 193.1,193.96 \" fill=\"none\" id=\"E1&lt;-E3\" style=\"stroke: #A80036; stroke-width: 1.0;\"/><polygon fill=\"#A80036\" points=\"288.83,122.65,281.6287,123.0262,279.2063,129.8183,286.4076,129.442,288.83,122.65\" style=\"stroke: #A80036; stroke-width: 1.0;\"/><text fill=\"#000000\" font-family=\"sans-serif\" font-size=\"13\" lengthAdjust=\"spacingAndGlyphs\" textLength=\"7\" x=\"193.1144\" y=\"182.8455\">*</text></a><!--MD5=[f2c5c03aa1e8c0ba21c10a05e6444b8e]\n",
       "reverse link E1 to E4--><a href=\"psysml:8b2189df-ceef-42f5-8cc2-eeb8d6451d98\" target=\"_top\" title=\"psysml:8b2189df-ceef-42f5-8cc2-eeb8d6451d98\" xlink:actuate=\"onRequest\" xlink:href=\"psysml:8b2189df-ceef-42f5-8cc2-eeb8d6451d98\" xlink:show=\"new\" xlink:title=\"psysml:8b2189df-ceef-42f5-8cc2-eeb8d6451d98\" xlink:type=\"simple\"><path d=\"M322.5,145.87 C314.23,163.44 306.04,180.85 299.89,193.92 \" fill=\"none\" id=\"E1&lt;-E4\" style=\"stroke: #A80036; stroke-width: 1.0;\"/><polygon fill=\"#A80036\" points=\"328.07,134.04,321.8933,137.7614,322.9528,144.8942,329.1295,141.1728,328.07,134.04\" style=\"stroke: #A80036; stroke-width: 1.0;\"/></a><!--MD5=[33238bef88d6431a141d8bc8fb12bca0]\n",
       "reverse link E1 to E5--><a href=\"psysml:a82a5eef-dea6-4124-abec-2b50c8cafb15\" target=\"_top\" title=\"psysml:a82a5eef-dea6-4124-abec-2b50c8cafb15\" xlink:actuate=\"onRequest\" xlink:href=\"psysml:a82a5eef-dea6-4124-abec-2b50c8cafb15\" xlink:show=\"new\" xlink:title=\"psysml:a82a5eef-dea6-4124-abec-2b50c8cafb15\" xlink:type=\"simple\"><path d=\"M392.5,145.87 C400.77,163.44 408.96,180.85 415.11,193.92 \" fill=\"none\" id=\"E1&lt;-E5\" style=\"stroke: #A80036; stroke-width: 1.0;\"/><polygon fill=\"#A80036\" points=\"386.93,134.04,385.8705,141.1728,392.0472,144.8942,393.1067,137.7614,386.93,134.04\" style=\"stroke: #A80036; stroke-width: 1.0;\"/></a><!--MD5=[aca2ef284c2b1b90e17e73bf3f292c07]\n",
       "reverse link E1 to E6--><a href=\"psysml:fa0fa50c-58e4-4afc-aadf-ea60f0cb1460\" target=\"_top\" title=\"psysml:fa0fa50c-58e4-4afc-aadf-ea60f0cb1460\" xlink:actuate=\"onRequest\" xlink:href=\"psysml:fa0fa50c-58e4-4afc-aadf-ea60f0cb1460\" xlink:show=\"new\" xlink:title=\"psysml:fa0fa50c-58e4-4afc-aadf-ea60f0cb1460\" xlink:type=\"simple\"><path d=\"M436.83,130.29 C467.1,152.72 499.78,176.94 522.66,193.89 \" fill=\"none\" id=\"E1&lt;-E6\" style=\"stroke: #A80036; stroke-width: 1.0;\"/><polygon fill=\"#A80036\" points=\"426.25,122.45,428.6933,129.2346,435.8957,129.5886,433.4524,122.8041,426.25,122.45\" style=\"stroke: #A80036; stroke-width: 1.0;\"/><text fill=\"#000000\" font-family=\"sans-serif\" font-size=\"13\" lengthAdjust=\"spacingAndGlyphs\" textLength=\"7\" x=\"506.6999\" y=\"182.7567\">*</text></a><!--MD5=[fc9706a6b2cf8c0e423679d303750d3f]\n",
       "reverse link E1 to E7--><a href=\"psysml:49466f58-4643-4906-96c1-3a5676eba647\" target=\"_top\" title=\"psysml:49466f58-4643-4906-96c1-3a5676eba647\" xlink:actuate=\"onRequest\" xlink:href=\"psysml:49466f58-4643-4906-96c1-3a5676eba647\" xlink:show=\"new\" xlink:title=\"psysml:49466f58-4643-4906-96c1-3a5676eba647\" xlink:type=\"simple\"><path d=\"M438.01,108.91 C498.78,137.14 579.64,174.71 627.66,197.03 \" fill=\"none\" id=\"E1&lt;-E7\" style=\"stroke: #A80036; stroke-width: 1.0;\"/><polygon fill=\"#A80036\" points=\"426.14,103.39,429.8978,109.5446,437.0243,108.4429,433.2665,102.2884,426.14,103.39\" style=\"stroke: #A80036; stroke-width: 1.0;\"/><text fill=\"#000000\" font-family=\"sans-serif\" font-size=\"13\" lengthAdjust=\"spacingAndGlyphs\" textLength=\"7\" x=\"613.0391\" y=\"189.3923\">*</text></a><!--MD5=[976405912d0e721aaea301ab11c72932]\n",
       "@startuml\r\n",
       " \r\n",
       "comp def \"ControlNodeTest\" as E1 << <<(B,lemonchiffon) action  def>> [[psysml:06c83ae0-0be1-4108-9f79-6c682626264b ]] {\r\n",
       "- - successions - -\r\n",
       " then  J\r\n",
       " then  J\r\n",
       " then \r\n",
       " then  B1\r\n",
       " then  B2\r\n",
       "}\r\n",
       "comp usage \"A1 \" as E2 << <<(U,orange) action>> [[psysml:b587d390-d46d-4840-bcaf-beb60201fdea ]] {\r\n",
       "}\r\n",
       "comp usage \"A2 \" as E3 << <<(U,orange) action>> [[psysml:2c010bd6-de88-4dc7-8be6-3edc78c34a31 ]] {\r\n",
       "}\r\n",
       "comp usage \"J \" as E4 << <<(U,orange) join node>> [[psysml:b80e7b99-08a2-49d6-9359-b424cf684151 ]] {\r\n",
       "}\r\n",
       "comp usage \"F \" as E5 << <<(U,orange) fork node>> [[psysml:df495c9b-9171-48f9-ac7d-26427115e0f4 ]] {\r\n",
       "}\r\n",
       "comp usage \"B1 \" as E6 << <<(U,orange) action>> [[psysml:b42821ea-70f6-43bd-9a67-84f3e511770a ]] {\r\n",
       "}\r\n",
       "comp usage \"B2 \" as E7 << <<(U,orange) action>> [[psysml:e950d6a4-fdbd-4650-aa0a-2ca4b4e20830 ]] {\r\n",
       "}\r\n",
       "E1 *- - \"*\"E2 [[psysml:8824560d-0356-45ea-8a7b-06baadbc63a3 ]] \r\n",
       "E1 *- - \"*\"E3 [[psysml:cbbe4b3e-f7e7-45b7-a67a-c33698d06c9d ]] \r\n",
       "E1 *- - E4 [[psysml:8b2189df-ceef-42f5-8cc2-eeb8d6451d98 ]] \r\n",
       "E1 *- - E5 [[psysml:a82a5eef-dea6-4124-abec-2b50c8cafb15 ]] \r\n",
       "E1 *- - \"*\"E6 [[psysml:fa0fa50c-58e4-4afc-aadf-ea60f0cb1460 ]] \r\n",
       "E1 *- - \"*\"E7 [[psysml:49466f58-4643-4906-96c1-3a5676eba647 ]] \r\n",
       "@enduml\r\n",
       "\n",
       "PlantUML version 1.2020.13(Sat Jun 13 12:26:38 UTC 2020)\n",
       "(EPL source distribution)\n",
       "Java Runtime: OpenJDK Runtime Environment\n",
       "JVM: OpenJDK 64-Bit Server VM\n",
       "Default Encoding: UTF-8\n",
       "Language: en\n",
       "Country: null\n",
       "--></g></svg>"
      ]
     },
     "execution_count": 31,
     "metadata": {},
     "output_type": "execute_result"
    }
   ],
   "source": [
    "%viz --style=\"PLANTUML\" --view=\"Tree\" \"ControlNodeTest\""
   ]
  },
  {
   "cell_type": "code",
   "execution_count": 32,
   "id": "67ba8c58",
   "metadata": {
    "execution": {
     "iopub.execute_input": "2022-02-18T10:46:11.063767Z",
     "iopub.status.busy": "2022-02-18T10:46:11.063452Z",
     "iopub.status.idle": "2022-02-18T10:46:11.119759Z",
     "shell.execute_reply": "2022-02-18T10:46:11.118855Z"
    }
   },
   "outputs": [
    {
     "data": {
      "image/svg+xml": [
       "<?xml version=\"1.0\" encoding=\"UTF-8\" standalone=\"no\"?><svg xmlns=\"http://www.w3.org/2000/svg\" xmlns:xlink=\"http://www.w3.org/1999/xlink\" contentScriptType=\"application/ecmascript\" contentStyleType=\"text/css\" height=\"300px\" preserveAspectRatio=\"none\" style=\"width:603px;height:300px;background:#000000;\" version=\"1.1\" viewBox=\"0 0 603 300\" width=\"603px\" zoomAndPan=\"magnify\"><defs/><g><rect fill=\"#161916\" height=\"1\" style=\"stroke: #161916; stroke-width: 1.0;\" width=\"1\" x=\"0\" y=\"0\"/><rect fill=\"#FFFFFF\" height=\"202.8012\" style=\"stroke: #FFFFFF; stroke-width: 1.0;\" width=\"602\" x=\"0\" y=\"0\"/><text fill=\"#000000\" font-family=\"sans-serif\" font-size=\"12\" font-weight=\"bold\" lengthAdjust=\"spacingAndGlyphs\" textLength=\"139\" x=\"5\" y=\"16.1387\">Welcome to PlantUML!</text><text fill=\"#000000\" font-family=\"sans-serif\" font-size=\"12\" lengthAdjust=\"spacingAndGlyphs\" textLength=\"0\" x=\"9\" y=\"30.1074\"/><text fill=\"#000000\" font-family=\"sans-serif\" font-size=\"12\" lengthAdjust=\"spacingAndGlyphs\" textLength=\"293\" x=\"5\" y=\"44.0762\">If you use this software, you accept its license.</text><text fill=\"#000000\" font-family=\"sans-serif\" font-size=\"12\" lengthAdjust=\"spacingAndGlyphs\" textLength=\"107\" x=\"5\" y=\"58.0449\">(details by typing</text><text fill=\"#000000\" font-family=\"monospace\" font-size=\"12\" lengthAdjust=\"spacingAndGlyphs\" textLength=\"42\" x=\"116\" y=\"58.595\">license</text><text fill=\"#000000\" font-family=\"sans-serif\" font-size=\"12\" lengthAdjust=\"spacingAndGlyphs\" textLength=\"56\" x=\"162\" y=\"58.0449\">keyword)</text><text fill=\"#000000\" font-family=\"sans-serif\" font-size=\"12\" lengthAdjust=\"spacingAndGlyphs\" textLength=\"0\" x=\"9\" y=\"72.0137\"/><text fill=\"#000000\" font-family=\"sans-serif\" font-size=\"12\" lengthAdjust=\"spacingAndGlyphs\" textLength=\"283\" x=\"5\" y=\"85.9824\">You can start with a simple UML Diagram like:</text><text fill=\"#000000\" font-family=\"sans-serif\" font-size=\"12\" lengthAdjust=\"spacingAndGlyphs\" textLength=\"0\" x=\"9\" y=\"99.9512\"/><text fill=\"#000000\" font-family=\"monospace\" font-size=\"12\" lengthAdjust=\"spacingAndGlyphs\" textLength=\"102\" x=\"5\" y=\"113.0893\">Bob-&gt;Alice: Hello</text><text fill=\"#000000\" font-family=\"sans-serif\" font-size=\"12\" lengthAdjust=\"spacingAndGlyphs\" textLength=\"0\" x=\"9\" y=\"126.508\"/><text fill=\"#000000\" font-family=\"sans-serif\" font-size=\"12\" lengthAdjust=\"spacingAndGlyphs\" textLength=\"14\" x=\"5\" y=\"140.4768\">Or</text><text fill=\"#000000\" font-family=\"sans-serif\" font-size=\"12\" lengthAdjust=\"spacingAndGlyphs\" textLength=\"0\" x=\"9\" y=\"154.4455\"/><text fill=\"#000000\" font-family=\"monospace\" font-size=\"12\" lengthAdjust=\"spacingAndGlyphs\" textLength=\"78\" x=\"5\" y=\"167.5837\">class Example</text><text fill=\"#000000\" font-family=\"sans-serif\" font-size=\"12\" lengthAdjust=\"spacingAndGlyphs\" textLength=\"0\" x=\"9\" y=\"181.0023\"/><text fill=\"#000000\" font-family=\"sans-serif\" font-size=\"12\" lengthAdjust=\"spacingAndGlyphs\" textLength=\"349\" x=\"5\" y=\"194.9711\">You will find more information about PlantUML syntax on</text><text fill=\"#000000\" font-family=\"sans-serif\" font-size=\"12\" lengthAdjust=\"spacingAndGlyphs\" text-decoration=\"underline\" textLength=\"129\" x=\"358\" y=\"194.9711\">https://plantuml.com</text><image height=\"71\" width=\"80\" x=\"516\" xlink:href=\"data:image/png;base64,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\" y=\"6\"/><rect fill=\"#000000\" height=\"96.4844\" style=\"stroke: #000000; stroke-width: 1.0;\" width=\"602\" x=\"0\" y=\"202.8012\"/><rect fill=\"#33FF02\" height=\"21.2969\" style=\"stroke: #33FF02; stroke-width: 1.0;\" width=\"145\" x=\"5\" y=\"207.8012\"/><text fill=\"#000000\" font-family=\"sans-serif\" font-size=\"14\" font-weight=\"bold\" lengthAdjust=\"spacingAndGlyphs\" textLength=\"143\" x=\"6\" y=\"222.8012\">[From string (line 2) ]</text><text fill=\"#33FF02\" font-family=\"sans-serif\" font-size=\"14\" font-weight=\"bold\" lengthAdjust=\"spacingAndGlyphs\" textLength=\"0\" x=\"9\" y=\"243.0981\"/><text fill=\"#33FF02\" font-family=\"sans-serif\" font-size=\"14\" font-weight=\"bold\" lengthAdjust=\"spacingAndGlyphs\" textLength=\"70\" x=\"5\" y=\"259.3949\">@startuml</text><text fill=\"#33FF02\" font-family=\"sans-serif\" font-size=\"14\" font-weight=\"bold\" lengthAdjust=\"spacingAndGlyphs\" textLength=\"0\" x=\"9\" y=\"275.6918\"/><text fill=\"#FF0000\" font-family=\"sans-serif\" font-size=\"14\" font-weight=\"bold\" lengthAdjust=\"spacingAndGlyphs\" textLength=\"124\" x=\"9\" y=\"291.9887\">Empty description</text><!--MD5=[f59edd8218d337f74d0c332fc6737304]\n",
       "@startuml\r\n",
       " \r\n",
       "@enduml\r\n",
       "\n",
       "PlantUML version 1.2020.13(Sat Jun 13 12:26:38 UTC 2020)\n",
       "(EPL source distribution)\n",
       "Java Runtime: OpenJDK Runtime Environment\n",
       "JVM: OpenJDK 64-Bit Server VM\n",
       "Default Encoding: UTF-8\n",
       "Language: en\n",
       "Country: null\n",
       "--></g></svg>"
      ]
     },
     "execution_count": 32,
     "metadata": {},
     "output_type": "execute_result"
    }
   ],
   "source": [
    "%viz --style=\"PLANTUML\" --view=\"State\" \"ControlNodeTest\""
   ]
  },
  {
   "cell_type": "code",
   "execution_count": 33,
   "id": "61be72a3",
   "metadata": {
    "execution": {
     "iopub.execute_input": "2022-02-18T10:46:11.169732Z",
     "iopub.status.busy": "2022-02-18T10:46:11.169419Z",
     "iopub.status.idle": "2022-02-18T10:46:11.203234Z",
     "shell.execute_reply": "2022-02-18T10:46:11.203426Z"
    }
   },
   "outputs": [
    {
     "data": {
      "image/svg+xml": [
       "<?xml version=\"1.0\" encoding=\"UTF-8\" standalone=\"no\"?><svg xmlns=\"http://www.w3.org/2000/svg\" xmlns:xlink=\"http://www.w3.org/1999/xlink\" contentScriptType=\"application/ecmascript\" contentStyleType=\"text/css\" height=\"225px\" preserveAspectRatio=\"none\" style=\"width:265px;height:225px;\" version=\"1.1\" viewBox=\"0 0 265 225\" width=\"265px\" zoomAndPan=\"magnify\"><defs><filter height=\"300%\" id=\"fi2by1yhxsbaq\" width=\"300%\" x=\"-1\" y=\"-1\"><feGaussianBlur result=\"blurOut\" stdDeviation=\"2.0\"/><feColorMatrix in=\"blurOut\" result=\"blurOut2\" type=\"matrix\" values=\"0 0 0 0 0 0 0 0 0 0 0 0 0 0 0 0 0 0 .4 0\"/><feOffset dx=\"4.0\" dy=\"4.0\" in=\"blurOut2\" result=\"blurOut3\"/><feBlend in=\"SourceGraphic\" in2=\"blurOut3\" mode=\"normal\"/></filter></defs><g><!--MD5=[fbc87193dbaf4d95561dea2c320d4a47]\n",
       "cluster E1--><a href=\"psysml:06c83ae0-0be1-4108-9f79-6c682626264b\" target=\"_top\" title=\"psysml:06c83ae0-0be1-4108-9f79-6c682626264b\" xlink:actuate=\"onRequest\" xlink:href=\"psysml:06c83ae0-0be1-4108-9f79-6c682626264b\" xlink:show=\"new\" xlink:title=\"psysml:06c83ae0-0be1-4108-9f79-6c682626264b\" xlink:type=\"simple\"><rect fill=\"#FFFFFF\" filter=\"url(#fi2by1yhxsbaq)\" height=\"199\" id=\"E1\" style=\"stroke: #A80036; stroke-width: 1.5;\" width=\"239\" x=\"7\" y=\"7\"/><rect fill=\"#FEFECE\" height=\"37.9375\" style=\"stroke: #A80036; stroke-width: 1.5;\" width=\"239\" x=\"7\" y=\"7\"/><text fill=\"#000000\" font-family=\"sans-serif\" font-size=\"12\" font-style=\"italic\" lengthAdjust=\"spacingAndGlyphs\" textLength=\"81\" x=\"86\" y=\"23.1387\">«action  def»</text><text fill=\"#000000\" font-family=\"sans-serif\" font-size=\"12\" lengthAdjust=\"spacingAndGlyphs\" textLength=\"105\" x=\"74\" y=\"37.1074\">ControlNodeTest</text></a><rect fill=\"#000000\" filter=\"url(#fi2by1yhxsbaq)\" height=\"8\" style=\"stroke: none; stroke-width: 1.0;\" width=\"80\" x=\"86\" y=\"111\"/><rect fill=\"#000000\" filter=\"url(#fi2by1yhxsbaq)\" height=\"8\" style=\"stroke: none; stroke-width: 1.0;\" width=\"80\" x=\"86\" y=\"129\"/><g id=\"E1.E2\"><a href=\"psysml:b587d390-d46d-4840-bcaf-beb60201fdea\" target=\"_top\" title=\"psysml:b587d390-d46d-4840-bcaf-beb60201fdea\" xlink:actuate=\"onRequest\" xlink:href=\"psysml:b587d390-d46d-4840-bcaf-beb60201fdea\" xlink:show=\"new\" xlink:title=\"psysml:b587d390-d46d-4840-bcaf-beb60201fdea\" xlink:type=\"simple\"><rect fill=\"#FEFECE\" filter=\"url(#fi2by1yhxsbaq)\" height=\"42.9375\" id=\"E2\" rx=\"10\" ry=\"10\" style=\"stroke: #A80036; stroke-width: 1.5;\" width=\"86\" x=\"144\" y=\"58\"/><ellipse cx=\"161.25\" cy=\"76.9688\" fill=\"#FFA500\" rx=\"11\" ry=\"11\" style=\"stroke: #A80036; stroke-width: 1.0;\"/><path d=\"M161,82.4375 Q159.25,82.4375 158.2969,81.4063 Q157.3594,80.3594 157.3594,78.5156 L157.3594,71.625 L159.4219,71.625 L159.4219,71.7813 Q159.3281,71.875 159.2969,72.0156 Q159.2813,72.1406 159.2813,72.4063 L159.2813,78.5313 Q159.2813,79.625 159.6563,80.25 Q160.0313,80.875 161.0156,80.875 Q162,80.875 162.3906,80.25 Q162.7813,79.625 162.7813,78.4844 L162.7813,71.625 L164.6563,71.625 L164.6563,78.4688 Q164.6563,80.5 163.625,81.4688 Q162.6094,82.4375 161,82.4375 Z \"/><text fill=\"#000000\" font-family=\"sans-serif\" font-size=\"12\" font-style=\"italic\" lengthAdjust=\"spacingAndGlyphs\" textLength=\"53\" x=\"173.75\" y=\"74.1387\">«action»</text><text fill=\"#000000\" font-family=\"sans-serif\" font-size=\"12\" lengthAdjust=\"spacingAndGlyphs\" textLength=\"16\" x=\"192.25\" y=\"88.1074\">A1</text></a></g><g id=\"E1.E3\"><a href=\"psysml:2c010bd6-de88-4dc7-8be6-3edc78c34a31\" target=\"_top\" title=\"psysml:2c010bd6-de88-4dc7-8be6-3edc78c34a31\" xlink:actuate=\"onRequest\" xlink:href=\"psysml:2c010bd6-de88-4dc7-8be6-3edc78c34a31\" xlink:show=\"new\" xlink:title=\"psysml:2c010bd6-de88-4dc7-8be6-3edc78c34a31\" xlink:type=\"simple\"><rect fill=\"#FEFECE\" filter=\"url(#fi2by1yhxsbaq)\" height=\"42.9375\" id=\"E3\" rx=\"10\" ry=\"10\" style=\"stroke: #A80036; stroke-width: 1.5;\" width=\"86\" x=\"23\" y=\"58\"/><ellipse cx=\"40.25\" cy=\"76.9688\" fill=\"#FFA500\" rx=\"11\" ry=\"11\" style=\"stroke: #A80036; stroke-width: 1.0;\"/><path d=\"M40,82.4375 Q38.25,82.4375 37.2969,81.4063 Q36.3594,80.3594 36.3594,78.5156 L36.3594,71.625 L38.4219,71.625 L38.4219,71.7813 Q38.3281,71.875 38.2969,72.0156 Q38.2813,72.1406 38.2813,72.4063 L38.2813,78.5313 Q38.2813,79.625 38.6563,80.25 Q39.0313,80.875 40.0156,80.875 Q41,80.875 41.3906,80.25 Q41.7813,79.625 41.7813,78.4844 L41.7813,71.625 L43.6563,71.625 L43.6563,78.4688 Q43.6563,80.5 42.625,81.4688 Q41.6094,82.4375 40,82.4375 Z \"/><text fill=\"#000000\" font-family=\"sans-serif\" font-size=\"12\" font-style=\"italic\" lengthAdjust=\"spacingAndGlyphs\" textLength=\"53\" x=\"52.75\" y=\"74.1387\">«action»</text><text fill=\"#000000\" font-family=\"sans-serif\" font-size=\"12\" lengthAdjust=\"spacingAndGlyphs\" textLength=\"16\" x=\"71.25\" y=\"88.1074\">A2</text></a></g><g id=\"E1.E6\"><a href=\"psysml:b42821ea-70f6-43bd-9a67-84f3e511770a\" target=\"_top\" title=\"psysml:b42821ea-70f6-43bd-9a67-84f3e511770a\" xlink:actuate=\"onRequest\" xlink:href=\"psysml:b42821ea-70f6-43bd-9a67-84f3e511770a\" xlink:show=\"new\" xlink:title=\"psysml:b42821ea-70f6-43bd-9a67-84f3e511770a\" xlink:type=\"simple\"><rect fill=\"#FEFECE\" filter=\"url(#fi2by1yhxsbaq)\" height=\"42.9375\" id=\"E6\" rx=\"10\" ry=\"10\" style=\"stroke: #A80036; stroke-width: 1.5;\" width=\"86\" x=\"23\" y=\"147\"/><ellipse cx=\"40.25\" cy=\"165.9688\" fill=\"#FFA500\" rx=\"11\" ry=\"11\" style=\"stroke: #A80036; stroke-width: 1.0;\"/><path d=\"M40,171.4375 Q38.25,171.4375 37.2969,170.4063 Q36.3594,169.3594 36.3594,167.5156 L36.3594,160.625 L38.4219,160.625 L38.4219,160.7813 Q38.3281,160.875 38.2969,161.0156 Q38.2813,161.1406 38.2813,161.4063 L38.2813,167.5313 Q38.2813,168.625 38.6563,169.25 Q39.0313,169.875 40.0156,169.875 Q41,169.875 41.3906,169.25 Q41.7813,168.625 41.7813,167.4844 L41.7813,160.625 L43.6563,160.625 L43.6563,167.4688 Q43.6563,169.5 42.625,170.4688 Q41.6094,171.4375 40,171.4375 Z \"/><text fill=\"#000000\" font-family=\"sans-serif\" font-size=\"12\" font-style=\"italic\" lengthAdjust=\"spacingAndGlyphs\" textLength=\"53\" x=\"52.75\" y=\"163.1387\">«action»</text><text fill=\"#000000\" font-family=\"sans-serif\" font-size=\"12\" lengthAdjust=\"spacingAndGlyphs\" textLength=\"16\" x=\"71.25\" y=\"177.1074\">B1</text></a></g><g id=\"E1.E7\"><a href=\"psysml:e950d6a4-fdbd-4650-aa0a-2ca4b4e20830\" target=\"_top\" title=\"psysml:e950d6a4-fdbd-4650-aa0a-2ca4b4e20830\" xlink:actuate=\"onRequest\" xlink:href=\"psysml:e950d6a4-fdbd-4650-aa0a-2ca4b4e20830\" xlink:show=\"new\" xlink:title=\"psysml:e950d6a4-fdbd-4650-aa0a-2ca4b4e20830\" xlink:type=\"simple\"><rect fill=\"#FEFECE\" filter=\"url(#fi2by1yhxsbaq)\" height=\"42.9375\" id=\"E7\" rx=\"10\" ry=\"10\" style=\"stroke: #A80036; stroke-width: 1.5;\" width=\"86\" x=\"144\" y=\"147\"/><ellipse cx=\"161.25\" cy=\"165.9688\" fill=\"#FFA500\" rx=\"11\" ry=\"11\" style=\"stroke: #A80036; stroke-width: 1.0;\"/><path d=\"M161,171.4375 Q159.25,171.4375 158.2969,170.4063 Q157.3594,169.3594 157.3594,167.5156 L157.3594,160.625 L159.4219,160.625 L159.4219,160.7813 Q159.3281,160.875 159.2969,161.0156 Q159.2813,161.1406 159.2813,161.4063 L159.2813,167.5313 Q159.2813,168.625 159.6563,169.25 Q160.0313,169.875 161.0156,169.875 Q162,169.875 162.3906,169.25 Q162.7813,168.625 162.7813,167.4844 L162.7813,160.625 L164.6563,160.625 L164.6563,167.4688 Q164.6563,169.5 163.625,170.4688 Q162.6094,171.4375 161,171.4375 Z \"/><text fill=\"#000000\" font-family=\"sans-serif\" font-size=\"12\" font-style=\"italic\" lengthAdjust=\"spacingAndGlyphs\" textLength=\"53\" x=\"173.75\" y=\"163.1387\">«action»</text><text fill=\"#000000\" font-family=\"sans-serif\" font-size=\"12\" lengthAdjust=\"spacingAndGlyphs\" textLength=\"16\" x=\"192.25\" y=\"177.1074\">B2</text></a></g><!--MD5=[4d03bb2d0377dc85ccfab60ff574652b]\n",
       "link E2 to E4--><a href=\"psysml:4f9dc8d6-d6e0-48a2-bcc8-8318223d246b\" target=\"_top\" title=\"psysml:4f9dc8d6-d6e0-48a2-bcc8-8318223d246b\" xlink:actuate=\"onRequest\" xlink:href=\"psysml:4f9dc8d6-d6e0-48a2-bcc8-8318223d246b\" xlink:show=\"new\" xlink:title=\"psysml:4f9dc8d6-d6e0-48a2-bcc8-8318223d246b\" xlink:type=\"simple\"><path d=\"M149.41,101.14 C144.44,103.87 139.75,106.45 135.88,108.58 \" fill=\"none\" id=\"E2-&gt;E4\" style=\"stroke: #A80036; stroke-width: 1.0;\"/><polygon fill=\"#A80036\" points=\"131.47,111,141.2842,110.175,135.8529,108.5937,137.4342,103.1624,131.47,111\" style=\"stroke: #A80036; stroke-width: 1.0;\"/><text fill=\"#000000\" font-family=\"sans-serif\" font-size=\"13\" lengthAdjust=\"spacingAndGlyphs\" textLength=\"7\" x=\"125.8736\" y=\"99.9205\">*</text></a><!--MD5=[af87c684e3b0d8be13c1a698a818ef1e]\n",
       "link E3 to E4--><a href=\"psysml:d5a52d23-3eda-48ed-8e98-b9c24f218910\" target=\"_top\" title=\"psysml:d5a52d23-3eda-48ed-8e98-b9c24f218910\" xlink:actuate=\"onRequest\" xlink:href=\"psysml:d5a52d23-3eda-48ed-8e98-b9c24f218910\" xlink:show=\"new\" xlink:title=\"psysml:d5a52d23-3eda-48ed-8e98-b9c24f218910\" xlink:type=\"simple\"><path d=\"M102.97,101.14 C107.75,103.81 112.27,106.34 116.03,108.43 \" fill=\"none\" id=\"E3-&gt;E4\" style=\"stroke: #A80036; stroke-width: 1.0;\"/><polygon fill=\"#A80036\" points=\"120.62,111,114.7148,103.1178,116.2553,108.5609,110.8122,110.1014,120.62,111\" style=\"stroke: #A80036; stroke-width: 1.0;\"/><text fill=\"#000000\" font-family=\"sans-serif\" font-size=\"13\" lengthAdjust=\"spacingAndGlyphs\" textLength=\"7\" x=\"117.0915\" y=\"103.4098\">*</text></a><!--MD5=[1b7591eae5389033d8d09a9d6721a717]\n",
       "link E4 to E5--><a href=\"psysml:822f1664-72e1-4116-b41f-1c0919a615e0\" target=\"_top\" title=\"psysml:822f1664-72e1-4116-b41f-1c0919a615e0\" xlink:actuate=\"onRequest\" xlink:href=\"psysml:822f1664-72e1-4116-b41f-1c0919a615e0\" xlink:show=\"new\" xlink:title=\"psysml:822f1664-72e1-4116-b41f-1c0919a615e0\" xlink:type=\"simple\"><path d=\"M126,119.08 C126,120.38 126,121.95 126,123.55 \" fill=\"none\" id=\"E4-&gt;E5\" style=\"stroke: #A80036; stroke-width: 1.0;\"/><polygon fill=\"#A80036\" points=\"126,128.7,130,119.7,126,123.7,122,119.7,126,128.7\" style=\"stroke: #A80036; stroke-width: 1.0;\"/><text fill=\"#000000\" font-family=\"sans-serif\" font-size=\"13\" lengthAdjust=\"spacingAndGlyphs\" textLength=\"7\" x=\"73.5975\" y=\"135.9509\">*</text></a><!--MD5=[9120cf2e5df3bff93db8f754bbbc09b4]\n",
       "link E5 to E6--><a href=\"psysml:2360acce-0fc1-431a-bbc0-189c84da742a\" target=\"_top\" title=\"psysml:2360acce-0fc1-431a-bbc0-189c84da742a\" xlink:actuate=\"onRequest\" xlink:href=\"psysml:2360acce-0fc1-431a-bbc0-189c84da742a\" xlink:show=\"new\" xlink:title=\"psysml:2360acce-0fc1-431a-bbc0-189c84da742a\" xlink:type=\"simple\"><path d=\"M120.46,137.09 C117.11,138.96 112.49,141.54 107.35,144.41 \" fill=\"none\" id=\"E5-&gt;E6\" style=\"stroke: #A80036; stroke-width: 1.0;\"/><polygon fill=\"#A80036\" points=\"102.93,146.88,112.7378,145.9814,107.2947,144.4409,108.8352,138.9978,102.93,146.88\" style=\"stroke: #A80036; stroke-width: 1.0;\"/><text fill=\"#000000\" font-family=\"sans-serif\" font-size=\"13\" lengthAdjust=\"spacingAndGlyphs\" textLength=\"7\" x=\"76.7751\" y=\"135.7859\">*</text></a><!--MD5=[3a9b96bfbf6b6ad89c494e81751bda47]\n",
       "link E5 to E7--><a href=\"psysml:ee81c625-3e17-4e8d-972a-76052e7a84e3\" target=\"_top\" title=\"psysml:ee81c625-3e17-4e8d-972a-76052e7a84e3\" xlink:actuate=\"onRequest\" xlink:href=\"psysml:ee81c625-3e17-4e8d-972a-76052e7a84e3\" xlink:show=\"new\" xlink:title=\"psysml:ee81c625-3e17-4e8d-972a-76052e7a84e3\" xlink:type=\"simple\"><path d=\"M131.63,137.09 C135.04,138.96 139.73,141.54 144.96,144.41 \" fill=\"none\" id=\"E5-&gt;E7\" style=\"stroke: #A80036; stroke-width: 1.0;\"/><polygon fill=\"#A80036\" points=\"149.45,146.88,143.4751,139.0506,145.0638,144.4797,139.6346,146.0685,149.45,146.88\" style=\"stroke: #A80036; stroke-width: 1.0;\"/><text fill=\"#000000\" font-family=\"sans-serif\" font-size=\"13\" lengthAdjust=\"spacingAndGlyphs\" textLength=\"7\" x=\"164.4832\" y=\"135.7025\">*</text></a><!--MD5=[dd06800d3cf66773ba768808e27277a0]\n",
       "@startuml\r\n",
       "skinparam ranksep 10\r\n",
       "skinparam rectangle {\r\n",
       " backgroundColor<<block>> LightGreen\r\n",
       "}\r\n",
       " \r\n",
       "rec def \"ControlNodeTest\" as E1 << <<(B,lemonchiffon) action  def>> [[psysml:06c83ae0-0be1-4108-9f79-6c682626264b ]] {\r\n",
       "rec usage \"A1\" as E2 << <<(U,orange) action>> [[psysml:b587d390-d46d-4840-bcaf-beb60201fdea ]] {\r\n",
       "}\r\n",
       "\r\n",
       "rec usage \"A2\" as E3 << <<(U,orange) action>> [[psysml:2c010bd6-de88-4dc7-8be6-3edc78c34a31 ]] {\r\n",
       "}\r\n",
       "\r\n",
       "join \"J\" as E4  [[psysml:b80e7b99-08a2-49d6-9359-b424cf684151 ]] \r\n",
       "fork \"F\" as E5  [[psysml:df495c9b-9171-48f9-ac7d-26427115e0f4 ]] \r\n",
       "rec usage \"B1\" as E6 << <<(U,orange) action>> [[psysml:b42821ea-70f6-43bd-9a67-84f3e511770a ]] {\r\n",
       "}\r\n",
       "\r\n",
       "rec usage \"B2\" as E7 << <<(U,orange) action>> [[psysml:e950d6a4-fdbd-4650-aa0a-2ca4b4e20830 ]] {\r\n",
       "}\r\n",
       "\r\n",
       "}\r\n",
       "\r\n",
       "E2 - -> \"*\"E4 [[psysml:4f9dc8d6-d6e0-48a2-bcc8-8318223d246b ]] \r\n",
       "E3 - -> \"*\"E4 [[psysml:d5a52d23-3eda-48ed-8e98-b9c24f218910 ]] \r\n",
       "E4 - -> \"*\"E5 [[psysml:822f1664-72e1-4116-b41f-1c0919a615e0 ]] \r\n",
       "E5 - -> \"*\"E6 [[psysml:2360acce-0fc1-431a-bbc0-189c84da742a ]] \r\n",
       "E5 - -> \"*\"E7 [[psysml:ee81c625-3e17-4e8d-972a-76052e7a84e3 ]] \r\n",
       "@enduml\r\n",
       "\n",
       "PlantUML version 1.2020.13(Sat Jun 13 12:26:38 UTC 2020)\n",
       "(EPL source distribution)\n",
       "Java Runtime: OpenJDK Runtime Environment\n",
       "JVM: OpenJDK 64-Bit Server VM\n",
       "Default Encoding: UTF-8\n",
       "Language: en\n",
       "Country: null\n",
       "--></g></svg>"
      ]
     },
     "execution_count": 33,
     "metadata": {},
     "output_type": "execute_result"
    }
   ],
   "source": [
    "%viz --style=\"PLANTUML\" --view=\"Interconnection\" \"ControlNodeTest\""
   ]
  },
  {
   "cell_type": "code",
   "execution_count": 34,
   "id": "aedf0e03",
   "metadata": {
    "execution": {
     "iopub.execute_input": "2022-02-18T10:46:11.254174Z",
     "iopub.status.busy": "2022-02-18T10:46:11.253775Z",
     "iopub.status.idle": "2022-02-18T10:46:11.290455Z",
     "shell.execute_reply": "2022-02-18T10:46:11.290104Z"
    }
   },
   "outputs": [
    {
     "data": {
      "image/svg+xml": [
       "<?xml version=\"1.0\" encoding=\"UTF-8\" standalone=\"no\"?><svg xmlns=\"http://www.w3.org/2000/svg\" xmlns:xlink=\"http://www.w3.org/1999/xlink\" contentScriptType=\"application/ecmascript\" contentStyleType=\"text/css\" height=\"219px\" preserveAspectRatio=\"none\" style=\"width:265px;height:219px;\" version=\"1.1\" viewBox=\"0 0 265 219\" width=\"265px\" zoomAndPan=\"magnify\"><defs><filter height=\"300%\" id=\"f1k35ewx6rmonm\" width=\"300%\" x=\"-1\" y=\"-1\"><feGaussianBlur result=\"blurOut\" stdDeviation=\"2.0\"/><feColorMatrix in=\"blurOut\" result=\"blurOut2\" type=\"matrix\" values=\"0 0 0 0 0 0 0 0 0 0 0 0 0 0 0 0 0 0 .4 0\"/><feOffset dx=\"4.0\" dy=\"4.0\" in=\"blurOut2\" result=\"blurOut3\"/><feBlend in=\"SourceGraphic\" in2=\"blurOut3\" mode=\"normal\"/></filter></defs><g><!--MD5=[fbc87193dbaf4d95561dea2c320d4a47]\n",
       "cluster E1--><a href=\"psysml:06c83ae0-0be1-4108-9f79-6c682626264b\" target=\"_top\" title=\"psysml:06c83ae0-0be1-4108-9f79-6c682626264b\" xlink:actuate=\"onRequest\" xlink:href=\"psysml:06c83ae0-0be1-4108-9f79-6c682626264b\" xlink:show=\"new\" xlink:title=\"psysml:06c83ae0-0be1-4108-9f79-6c682626264b\" xlink:type=\"simple\"><rect fill=\"#FFFFFF\" filter=\"url(#f1k35ewx6rmonm)\" height=\"193\" id=\"E1\" style=\"stroke: #A80036; stroke-width: 1.5;\" width=\"239\" x=\"7\" y=\"7\"/><rect fill=\"#FEFECE\" height=\"37.9375\" style=\"stroke: #A80036; stroke-width: 1.5;\" width=\"239\" x=\"7\" y=\"7\"/><text fill=\"#000000\" font-family=\"sans-serif\" font-size=\"12\" font-style=\"italic\" lengthAdjust=\"spacingAndGlyphs\" textLength=\"81\" x=\"86\" y=\"23.1387\">«action  def»</text><text fill=\"#000000\" font-family=\"sans-serif\" font-size=\"12\" lengthAdjust=\"spacingAndGlyphs\" textLength=\"105\" x=\"74\" y=\"37.1074\">ControlNodeTest</text></a><rect fill=\"#000000\" filter=\"url(#f1k35ewx6rmonm)\" height=\"8\" style=\"stroke: none; stroke-width: 1.0;\" width=\"80\" x=\"86\" y=\"109\"/><rect fill=\"#000000\" filter=\"url(#f1k35ewx6rmonm)\" height=\"8\" style=\"stroke: none; stroke-width: 1.0;\" width=\"80\" x=\"86\" y=\"125\"/><g id=\"E1.E2\"><a href=\"psysml:b587d390-d46d-4840-bcaf-beb60201fdea\" target=\"_top\" title=\"psysml:b587d390-d46d-4840-bcaf-beb60201fdea\" xlink:actuate=\"onRequest\" xlink:href=\"psysml:b587d390-d46d-4840-bcaf-beb60201fdea\" xlink:show=\"new\" xlink:title=\"psysml:b587d390-d46d-4840-bcaf-beb60201fdea\" xlink:type=\"simple\"><rect fill=\"#FEFECE\" filter=\"url(#f1k35ewx6rmonm)\" height=\"42.9375\" id=\"E2\" rx=\"10\" ry=\"10\" style=\"stroke: #A80036; stroke-width: 1.5;\" width=\"86\" x=\"144\" y=\"58\"/><ellipse cx=\"161.25\" cy=\"76.9688\" fill=\"#FFA500\" rx=\"11\" ry=\"11\" style=\"stroke: #A80036; stroke-width: 1.0;\"/><path d=\"M161,82.4375 Q159.25,82.4375 158.2969,81.4063 Q157.3594,80.3594 157.3594,78.5156 L157.3594,71.625 L159.4219,71.625 L159.4219,71.7813 Q159.3281,71.875 159.2969,72.0156 Q159.2813,72.1406 159.2813,72.4063 L159.2813,78.5313 Q159.2813,79.625 159.6563,80.25 Q160.0313,80.875 161.0156,80.875 Q162,80.875 162.3906,80.25 Q162.7813,79.625 162.7813,78.4844 L162.7813,71.625 L164.6563,71.625 L164.6563,78.4688 Q164.6563,80.5 163.625,81.4688 Q162.6094,82.4375 161,82.4375 Z \"/><text fill=\"#000000\" font-family=\"sans-serif\" font-size=\"12\" font-style=\"italic\" lengthAdjust=\"spacingAndGlyphs\" textLength=\"53\" x=\"173.75\" y=\"74.1387\">«action»</text><text fill=\"#000000\" font-family=\"sans-serif\" font-size=\"12\" lengthAdjust=\"spacingAndGlyphs\" textLength=\"16\" x=\"192.25\" y=\"88.1074\">A1</text></a></g><g id=\"E1.E3\"><a href=\"psysml:2c010bd6-de88-4dc7-8be6-3edc78c34a31\" target=\"_top\" title=\"psysml:2c010bd6-de88-4dc7-8be6-3edc78c34a31\" xlink:actuate=\"onRequest\" xlink:href=\"psysml:2c010bd6-de88-4dc7-8be6-3edc78c34a31\" xlink:show=\"new\" xlink:title=\"psysml:2c010bd6-de88-4dc7-8be6-3edc78c34a31\" xlink:type=\"simple\"><rect fill=\"#FEFECE\" filter=\"url(#f1k35ewx6rmonm)\" height=\"42.9375\" id=\"E3\" rx=\"10\" ry=\"10\" style=\"stroke: #A80036; stroke-width: 1.5;\" width=\"86\" x=\"23\" y=\"58\"/><ellipse cx=\"40.25\" cy=\"76.9688\" fill=\"#FFA500\" rx=\"11\" ry=\"11\" style=\"stroke: #A80036; stroke-width: 1.0;\"/><path d=\"M40,82.4375 Q38.25,82.4375 37.2969,81.4063 Q36.3594,80.3594 36.3594,78.5156 L36.3594,71.625 L38.4219,71.625 L38.4219,71.7813 Q38.3281,71.875 38.2969,72.0156 Q38.2813,72.1406 38.2813,72.4063 L38.2813,78.5313 Q38.2813,79.625 38.6563,80.25 Q39.0313,80.875 40.0156,80.875 Q41,80.875 41.3906,80.25 Q41.7813,79.625 41.7813,78.4844 L41.7813,71.625 L43.6563,71.625 L43.6563,78.4688 Q43.6563,80.5 42.625,81.4688 Q41.6094,82.4375 40,82.4375 Z \"/><text fill=\"#000000\" font-family=\"sans-serif\" font-size=\"12\" font-style=\"italic\" lengthAdjust=\"spacingAndGlyphs\" textLength=\"53\" x=\"52.75\" y=\"74.1387\">«action»</text><text fill=\"#000000\" font-family=\"sans-serif\" font-size=\"12\" lengthAdjust=\"spacingAndGlyphs\" textLength=\"16\" x=\"71.25\" y=\"88.1074\">A2</text></a></g><g id=\"E1.E6\"><a href=\"psysml:b42821ea-70f6-43bd-9a67-84f3e511770a\" target=\"_top\" title=\"psysml:b42821ea-70f6-43bd-9a67-84f3e511770a\" xlink:actuate=\"onRequest\" xlink:href=\"psysml:b42821ea-70f6-43bd-9a67-84f3e511770a\" xlink:show=\"new\" xlink:title=\"psysml:b42821ea-70f6-43bd-9a67-84f3e511770a\" xlink:type=\"simple\"><rect fill=\"#FEFECE\" filter=\"url(#f1k35ewx6rmonm)\" height=\"42.9375\" id=\"E6\" rx=\"10\" ry=\"10\" style=\"stroke: #A80036; stroke-width: 1.5;\" width=\"86\" x=\"23\" y=\"141\"/><ellipse cx=\"40.25\" cy=\"159.9688\" fill=\"#FFA500\" rx=\"11\" ry=\"11\" style=\"stroke: #A80036; stroke-width: 1.0;\"/><path d=\"M40,165.4375 Q38.25,165.4375 37.2969,164.4063 Q36.3594,163.3594 36.3594,161.5156 L36.3594,154.625 L38.4219,154.625 L38.4219,154.7813 Q38.3281,154.875 38.2969,155.0156 Q38.2813,155.1406 38.2813,155.4063 L38.2813,161.5313 Q38.2813,162.625 38.6563,163.25 Q39.0313,163.875 40.0156,163.875 Q41,163.875 41.3906,163.25 Q41.7813,162.625 41.7813,161.4844 L41.7813,154.625 L43.6563,154.625 L43.6563,161.4688 Q43.6563,163.5 42.625,164.4688 Q41.6094,165.4375 40,165.4375 Z \"/><text fill=\"#000000\" font-family=\"sans-serif\" font-size=\"12\" font-style=\"italic\" lengthAdjust=\"spacingAndGlyphs\" textLength=\"53\" x=\"52.75\" y=\"157.1387\">«action»</text><text fill=\"#000000\" font-family=\"sans-serif\" font-size=\"12\" lengthAdjust=\"spacingAndGlyphs\" textLength=\"16\" x=\"71.25\" y=\"171.1074\">B1</text></a></g><g id=\"E1.E7\"><a href=\"psysml:e950d6a4-fdbd-4650-aa0a-2ca4b4e20830\" target=\"_top\" title=\"psysml:e950d6a4-fdbd-4650-aa0a-2ca4b4e20830\" xlink:actuate=\"onRequest\" xlink:href=\"psysml:e950d6a4-fdbd-4650-aa0a-2ca4b4e20830\" xlink:show=\"new\" xlink:title=\"psysml:e950d6a4-fdbd-4650-aa0a-2ca4b4e20830\" xlink:type=\"simple\"><rect fill=\"#FEFECE\" filter=\"url(#f1k35ewx6rmonm)\" height=\"42.9375\" id=\"E7\" rx=\"10\" ry=\"10\" style=\"stroke: #A80036; stroke-width: 1.5;\" width=\"86\" x=\"144\" y=\"141\"/><ellipse cx=\"161.25\" cy=\"159.9688\" fill=\"#FFA500\" rx=\"11\" ry=\"11\" style=\"stroke: #A80036; stroke-width: 1.0;\"/><path d=\"M161,165.4375 Q159.25,165.4375 158.2969,164.4063 Q157.3594,163.3594 157.3594,161.5156 L157.3594,154.625 L159.4219,154.625 L159.4219,154.7813 Q159.3281,154.875 159.2969,155.0156 Q159.2813,155.1406 159.2813,155.4063 L159.2813,161.5313 Q159.2813,162.625 159.6563,163.25 Q160.0313,163.875 161.0156,163.875 Q162,163.875 162.3906,163.25 Q162.7813,162.625 162.7813,161.4844 L162.7813,154.625 L164.6563,154.625 L164.6563,161.4688 Q164.6563,163.5 163.625,164.4688 Q162.6094,165.4375 161,165.4375 Z \"/><text fill=\"#000000\" font-family=\"sans-serif\" font-size=\"12\" font-style=\"italic\" lengthAdjust=\"spacingAndGlyphs\" textLength=\"53\" x=\"173.75\" y=\"157.1387\">«action»</text><text fill=\"#000000\" font-family=\"sans-serif\" font-size=\"12\" lengthAdjust=\"spacingAndGlyphs\" textLength=\"16\" x=\"192.25\" y=\"171.1074\">B2</text></a></g><!--MD5=[4d03bb2d0377dc85ccfab60ff574652b]\n",
       "link E2 to E4--><a href=\"psysml:4f9dc8d6-d6e0-48a2-bcc8-8318223d246b\" target=\"_top\" title=\"psysml:4f9dc8d6-d6e0-48a2-bcc8-8318223d246b\" xlink:actuate=\"onRequest\" xlink:href=\"psysml:4f9dc8d6-d6e0-48a2-bcc8-8318223d246b\" xlink:show=\"new\" xlink:title=\"psysml:4f9dc8d6-d6e0-48a2-bcc8-8318223d246b\" xlink:type=\"simple\"><path d=\"M146.99,101.16 C143.1,103.17 139.44,105.06 136.3,106.68 \" fill=\"none\" id=\"E2-&gt;E4\" style=\"stroke: #A80036; stroke-width: 1.0; stroke-dasharray: 7.0,7.0;\"/><polygon fill=\"#A80036\" points=\"131.83,108.99,141.6614,108.4046,136.2703,106.6913,137.9836,101.3002,131.83,108.99\" style=\"stroke: #A80036; stroke-width: 1.0;\"/></a><!--MD5=[af87c684e3b0d8be13c1a698a818ef1e]\n",
       "link E3 to E4--><a href=\"psysml:d5a52d23-3eda-48ed-8e98-b9c24f218910\" target=\"_top\" title=\"psysml:d5a52d23-3eda-48ed-8e98-b9c24f218910\" xlink:actuate=\"onRequest\" xlink:href=\"psysml:d5a52d23-3eda-48ed-8e98-b9c24f218910\" xlink:show=\"new\" xlink:title=\"psysml:d5a52d23-3eda-48ed-8e98-b9c24f218910\" xlink:type=\"simple\"><path d=\"M105.35,101.16 C109,103.07 112.44,104.88 115.42,106.45 \" fill=\"none\" id=\"E3-&gt;E4\" style=\"stroke: #A80036; stroke-width: 1.0; stroke-dasharray: 7.0,7.0;\"/><polygon fill=\"#A80036\" points=\"120.26,108.99,114.1556,101.261,115.8345,106.663,110.4325,108.3419,120.26,108.99\" style=\"stroke: #A80036; stroke-width: 1.0;\"/></a><!--MD5=[1b7591eae5389033d8d09a9d6721a717]\n",
       "link E4 to E5--><a href=\"psysml:822f1664-72e1-4116-b41f-1c0919a615e0\" target=\"_top\" title=\"psysml:822f1664-72e1-4116-b41f-1c0919a615e0\" xlink:actuate=\"onRequest\" xlink:href=\"psysml:822f1664-72e1-4116-b41f-1c0919a615e0\" xlink:show=\"new\" xlink:title=\"psysml:822f1664-72e1-4116-b41f-1c0919a615e0\" xlink:type=\"simple\"><path d=\"M126,117.25 C126,118.05 126,118.94 126,119.86 \" fill=\"none\" id=\"E4-&gt;E5\" style=\"stroke: #A80036; stroke-width: 1.0; stroke-dasharray: 7.0,7.0;\"/><polygon fill=\"#A80036\" points=\"126,124.96,130,115.96,126,119.96,122,115.96,126,124.96\" style=\"stroke: #A80036; stroke-width: 1.0;\"/></a><!--MD5=[9120cf2e5df3bff93db8f754bbbc09b4]\n",
       "link E5 to E6--><a href=\"psysml:2360acce-0fc1-431a-bbc0-189c84da742a\" target=\"_top\" title=\"psysml:2360acce-0fc1-431a-bbc0-189c84da742a\" xlink:actuate=\"onRequest\" xlink:href=\"psysml:2360acce-0fc1-431a-bbc0-189c84da742a\" xlink:show=\"new\" xlink:title=\"psysml:2360acce-0fc1-431a-bbc0-189c84da742a\" xlink:type=\"simple\"><path d=\"M120.03,133.14 C117.24,134.6 113.66,136.48 109.66,138.58 \" fill=\"none\" id=\"E5-&gt;E6\" style=\"stroke: #A80036; stroke-width: 1.0; stroke-dasharray: 7.0,7.0;\"/><polygon fill=\"#A80036\" points=\"105.18,140.93,115.0083,140.2937,109.6083,138.6084,111.2937,133.2084,105.18,140.93\" style=\"stroke: #A80036; stroke-width: 1.0;\"/></a><!--MD5=[3a9b96bfbf6b6ad89c494e81751bda47]\n",
       "link E5 to E7--><a href=\"psysml:ee81c625-3e17-4e8d-972a-76052e7a84e3\" target=\"_top\" title=\"psysml:ee81c625-3e17-4e8d-972a-76052e7a84e3\" xlink:actuate=\"onRequest\" xlink:href=\"psysml:ee81c625-3e17-4e8d-972a-76052e7a84e3\" xlink:show=\"new\" xlink:title=\"psysml:ee81c625-3e17-4e8d-972a-76052e7a84e3\" xlink:type=\"simple\"><path d=\"M132.07,133.14 C134.9,134.6 138.55,136.48 142.61,138.58 \" fill=\"none\" id=\"E5-&gt;E7\" style=\"stroke: #A80036; stroke-width: 1.0; stroke-dasharray: 7.0,7.0;\"/><polygon fill=\"#A80036\" points=\"147.16,140.93,140.9869,133.2558,142.7139,138.6426,137.3271,140.3696,147.16,140.93\" style=\"stroke: #A80036; stroke-width: 1.0;\"/></a><!--MD5=[ee7faf5838998001399c19afd2a0a8e4]\n",
       "@startuml\r\n",
       "skinparam ranksep 8\r\n",
       " \r\n",
       "rec def \"ControlNodeTest\" as E1 << <<(B,lemonchiffon) action  def>> [[psysml:06c83ae0-0be1-4108-9f79-6c682626264b ]] {\r\n",
       "rec usage \"A1\" as E2 << <<(U,orange) action>> [[psysml:b587d390-d46d-4840-bcaf-beb60201fdea ]] {\r\n",
       "}\r\n",
       "\r\n",
       "rec usage \"A2\" as E3 << <<(U,orange) action>> [[psysml:2c010bd6-de88-4dc7-8be6-3edc78c34a31 ]] {\r\n",
       "}\r\n",
       "\r\n",
       "join \"J\" as E4  [[psysml:b80e7b99-08a2-49d6-9359-b424cf684151 ]] \r\n",
       "fork \"F\" as E5  [[psysml:df495c9b-9171-48f9-ac7d-26427115e0f4 ]] \r\n",
       "rec usage \"B1\" as E6 << <<(U,orange) action>> [[psysml:b42821ea-70f6-43bd-9a67-84f3e511770a ]] {\r\n",
       "}\r\n",
       "\r\n",
       "rec usage \"B2\" as E7 << <<(U,orange) action>> [[psysml:e950d6a4-fdbd-4650-aa0a-2ca4b4e20830 ]] {\r\n",
       "}\r\n",
       "\r\n",
       "}\r\n",
       "\r\n",
       "E2 ..> E4 [[psysml:4f9dc8d6-d6e0-48a2-bcc8-8318223d246b ]] \r\n",
       "E3 ..> E4 [[psysml:d5a52d23-3eda-48ed-8e98-b9c24f218910 ]] \r\n",
       "E4 ..> E5 [[psysml:822f1664-72e1-4116-b41f-1c0919a615e0 ]] \r\n",
       "E5 ..> E6 [[psysml:2360acce-0fc1-431a-bbc0-189c84da742a ]] \r\n",
       "E5 ..> E7 [[psysml:ee81c625-3e17-4e8d-972a-76052e7a84e3 ]] \r\n",
       "@enduml\r\n",
       "\n",
       "PlantUML version 1.2020.13(Sat Jun 13 12:26:38 UTC 2020)\n",
       "(EPL source distribution)\n",
       "Java Runtime: OpenJDK Runtime Environment\n",
       "JVM: OpenJDK 64-Bit Server VM\n",
       "Default Encoding: UTF-8\n",
       "Language: en\n",
       "Country: null\n",
       "--></g></svg>"
      ]
     },
     "execution_count": 34,
     "metadata": {},
     "output_type": "execute_result"
    }
   ],
   "source": [
    "%viz --style=\"PLANTUML\" --view=\"Action\" \"ControlNodeTest\""
   ]
  },
  {
   "cell_type": "code",
   "execution_count": 35,
   "id": "90975bf8",
   "metadata": {
    "execution": {
     "iopub.execute_input": "2022-02-18T10:46:11.339980Z",
     "iopub.status.busy": "2022-02-18T10:46:11.339579Z",
     "iopub.status.idle": "2022-02-18T10:46:11.345206Z",
     "shell.execute_reply": "2022-02-18T10:46:11.345496Z"
    }
   },
   "outputs": [
    {
     "data": {
      "image/svg+xml": [
       "<?xml version=\"1.0\" encoding=\"UTF-8\" standalone=\"no\"?><svg xmlns=\"http://www.w3.org/2000/svg\" xmlns:xlink=\"http://www.w3.org/1999/xlink\" contentScriptType=\"application/ecmascript\" contentStyleType=\"text/css\" height=\"12px\" preserveAspectRatio=\"none\" style=\"width:12px;height:12px;\" version=\"1.1\" viewBox=\"0 0 12 12\" width=\"12px\" zoomAndPan=\"magnify\"><defs/><g><!--MD5=[ca4faa0b02def275ea33c14ea7a1a98d]\n",
       "@startuml\r\n",
       "skinparam roundcorner 20\r\n",
       "skinparam BoxPadding 20\r\n",
       "skinparam SequenceBoxBackgroundColor #white\r\n",
       "skinparam style strictuml\r\n",
       "skinparam maxMessageSize 100\r\n",
       " \r\n",
       "@enduml\r\n",
       "\n",
       "PlantUML version 1.2020.13(Sat Jun 13 12:26:38 UTC 2020)\n",
       "(EPL source distribution)\n",
       "Java Runtime: OpenJDK Runtime Environment\n",
       "JVM: OpenJDK 64-Bit Server VM\n",
       "Default Encoding: UTF-8\n",
       "Language: en\n",
       "Country: null\n",
       "--></g></svg>"
      ]
     },
     "execution_count": 35,
     "metadata": {},
     "output_type": "execute_result"
    }
   ],
   "source": [
    "%viz --style=\"PLANTUML\" --view=\"Sequence\" \"ControlNodeTest\""
   ]
  },
  {
   "cell_type": "code",
   "execution_count": 36,
   "id": "1b2d12df",
   "metadata": {
    "execution": {
     "iopub.execute_input": "2022-02-18T10:46:11.395274Z",
     "iopub.status.busy": "2022-02-18T10:46:11.394874Z",
     "iopub.status.idle": "2022-02-18T10:46:11.432630Z",
     "shell.execute_reply": "2022-02-18T10:46:11.431371Z"
    }
   },
   "outputs": [
    {
     "data": {
      "image/svg+xml": [
       "<?xml version=\"1.0\" encoding=\"UTF-8\" standalone=\"no\"?><svg xmlns=\"http://www.w3.org/2000/svg\" xmlns:xlink=\"http://www.w3.org/1999/xlink\" contentScriptType=\"application/ecmascript\" contentStyleType=\"text/css\" height=\"375px\" preserveAspectRatio=\"none\" style=\"width:265px;height:375px;\" version=\"1.1\" viewBox=\"0 0 265 375\" width=\"265px\" zoomAndPan=\"magnify\"><defs><filter height=\"300%\" id=\"f1c3mvnmnmot37\" width=\"300%\" x=\"-1\" y=\"-1\"><feGaussianBlur result=\"blurOut\" stdDeviation=\"2.0\"/><feColorMatrix in=\"blurOut\" result=\"blurOut2\" type=\"matrix\" values=\"0 0 0 0 0 0 0 0 0 0 0 0 0 0 0 0 0 0 .4 0\"/><feOffset dx=\"4.0\" dy=\"4.0\" in=\"blurOut2\" result=\"blurOut3\"/><feBlend in=\"SourceGraphic\" in2=\"blurOut3\" mode=\"normal\"/></filter></defs><g><!--MD5=[fbc87193dbaf4d95561dea2c320d4a47]\n",
       "cluster E1--><a href=\"psysml:06c83ae0-0be1-4108-9f79-6c682626264b\" target=\"_top\" title=\"psysml:06c83ae0-0be1-4108-9f79-6c682626264b\" xlink:actuate=\"onRequest\" xlink:href=\"psysml:06c83ae0-0be1-4108-9f79-6c682626264b\" xlink:show=\"new\" xlink:title=\"psysml:06c83ae0-0be1-4108-9f79-6c682626264b\" xlink:type=\"simple\"><rect fill=\"#FFFFFF\" filter=\"url(#f1c3mvnmnmot37)\" height=\"349\" id=\"E1\" style=\"stroke: #A80036; stroke-width: 1.5;\" width=\"239\" x=\"7\" y=\"7\"/><rect fill=\"#FEFECE\" height=\"37.9375\" style=\"stroke: #A80036; stroke-width: 1.5;\" width=\"239\" x=\"7\" y=\"7\"/><text fill=\"#000000\" font-family=\"sans-serif\" font-size=\"12\" font-style=\"italic\" lengthAdjust=\"spacingAndGlyphs\" textLength=\"81\" x=\"86\" y=\"23.1387\">«action  def»</text><text fill=\"#000000\" font-family=\"sans-serif\" font-size=\"12\" lengthAdjust=\"spacingAndGlyphs\" textLength=\"105\" x=\"74\" y=\"37.1074\">ControlNodeTest</text></a><rect fill=\"#000000\" filter=\"url(#f1c3mvnmnmot37)\" height=\"8\" style=\"stroke: none; stroke-width: 1.0;\" width=\"80\" x=\"86\" y=\"161\"/><rect fill=\"#000000\" filter=\"url(#f1c3mvnmnmot37)\" height=\"8\" style=\"stroke: none; stroke-width: 1.0;\" width=\"80\" x=\"86\" y=\"229\"/><g id=\"E1.E2\"><a href=\"psysml:b587d390-d46d-4840-bcaf-beb60201fdea\" target=\"_top\" title=\"psysml:b587d390-d46d-4840-bcaf-beb60201fdea\" xlink:actuate=\"onRequest\" xlink:href=\"psysml:b587d390-d46d-4840-bcaf-beb60201fdea\" xlink:show=\"new\" xlink:title=\"psysml:b587d390-d46d-4840-bcaf-beb60201fdea\" xlink:type=\"simple\"><rect fill=\"#FEFECE\" filter=\"url(#f1c3mvnmnmot37)\" height=\"42.9375\" id=\"E2\" rx=\"10\" ry=\"10\" style=\"stroke: #A80036; stroke-width: 1.5;\" width=\"86\" x=\"144\" y=\"58\"/><ellipse cx=\"161.25\" cy=\"76.9688\" fill=\"#FFA500\" rx=\"11\" ry=\"11\" style=\"stroke: #A80036; stroke-width: 1.0;\"/><path d=\"M161,82.4375 Q159.25,82.4375 158.2969,81.4063 Q157.3594,80.3594 157.3594,78.5156 L157.3594,71.625 L159.4219,71.625 L159.4219,71.7813 Q159.3281,71.875 159.2969,72.0156 Q159.2813,72.1406 159.2813,72.4063 L159.2813,78.5313 Q159.2813,79.625 159.6563,80.25 Q160.0313,80.875 161.0156,80.875 Q162,80.875 162.3906,80.25 Q162.7813,79.625 162.7813,78.4844 L162.7813,71.625 L164.6563,71.625 L164.6563,78.4688 Q164.6563,80.5 163.625,81.4688 Q162.6094,82.4375 161,82.4375 Z \"/><text fill=\"#000000\" font-family=\"sans-serif\" font-size=\"12\" font-style=\"italic\" lengthAdjust=\"spacingAndGlyphs\" textLength=\"53\" x=\"173.75\" y=\"74.1387\">«action»</text><text fill=\"#000000\" font-family=\"sans-serif\" font-size=\"12\" lengthAdjust=\"spacingAndGlyphs\" textLength=\"16\" x=\"192.25\" y=\"88.1074\">A1</text></a></g><g id=\"E1.E3\"><a href=\"psysml:2c010bd6-de88-4dc7-8be6-3edc78c34a31\" target=\"_top\" title=\"psysml:2c010bd6-de88-4dc7-8be6-3edc78c34a31\" xlink:actuate=\"onRequest\" xlink:href=\"psysml:2c010bd6-de88-4dc7-8be6-3edc78c34a31\" xlink:show=\"new\" xlink:title=\"psysml:2c010bd6-de88-4dc7-8be6-3edc78c34a31\" xlink:type=\"simple\"><rect fill=\"#FEFECE\" filter=\"url(#f1c3mvnmnmot37)\" height=\"42.9375\" id=\"E3\" rx=\"10\" ry=\"10\" style=\"stroke: #A80036; stroke-width: 1.5;\" width=\"86\" x=\"23\" y=\"58\"/><ellipse cx=\"40.25\" cy=\"76.9688\" fill=\"#FFA500\" rx=\"11\" ry=\"11\" style=\"stroke: #A80036; stroke-width: 1.0;\"/><path d=\"M40,82.4375 Q38.25,82.4375 37.2969,81.4063 Q36.3594,80.3594 36.3594,78.5156 L36.3594,71.625 L38.4219,71.625 L38.4219,71.7813 Q38.3281,71.875 38.2969,72.0156 Q38.2813,72.1406 38.2813,72.4063 L38.2813,78.5313 Q38.2813,79.625 38.6563,80.25 Q39.0313,80.875 40.0156,80.875 Q41,80.875 41.3906,80.25 Q41.7813,79.625 41.7813,78.4844 L41.7813,71.625 L43.6563,71.625 L43.6563,78.4688 Q43.6563,80.5 42.625,81.4688 Q41.6094,82.4375 40,82.4375 Z \"/><text fill=\"#000000\" font-family=\"sans-serif\" font-size=\"12\" font-style=\"italic\" lengthAdjust=\"spacingAndGlyphs\" textLength=\"53\" x=\"52.75\" y=\"74.1387\">«action»</text><text fill=\"#000000\" font-family=\"sans-serif\" font-size=\"12\" lengthAdjust=\"spacingAndGlyphs\" textLength=\"16\" x=\"71.25\" y=\"88.1074\">A2</text></a></g><g id=\"E1.E6\"><a href=\"psysml:b42821ea-70f6-43bd-9a67-84f3e511770a\" target=\"_top\" title=\"psysml:b42821ea-70f6-43bd-9a67-84f3e511770a\" xlink:actuate=\"onRequest\" xlink:href=\"psysml:b42821ea-70f6-43bd-9a67-84f3e511770a\" xlink:show=\"new\" xlink:title=\"psysml:b42821ea-70f6-43bd-9a67-84f3e511770a\" xlink:type=\"simple\"><rect fill=\"#FEFECE\" filter=\"url(#f1c3mvnmnmot37)\" height=\"42.9375\" id=\"E6\" rx=\"10\" ry=\"10\" style=\"stroke: #A80036; stroke-width: 1.5;\" width=\"86\" x=\"23\" y=\"297\"/><ellipse cx=\"40.25\" cy=\"315.9688\" fill=\"#FFA500\" rx=\"11\" ry=\"11\" style=\"stroke: #A80036; stroke-width: 1.0;\"/><path d=\"M40,321.4375 Q38.25,321.4375 37.2969,320.4063 Q36.3594,319.3594 36.3594,317.5156 L36.3594,310.625 L38.4219,310.625 L38.4219,310.7813 Q38.3281,310.875 38.2969,311.0156 Q38.2813,311.1406 38.2813,311.4063 L38.2813,317.5313 Q38.2813,318.625 38.6563,319.25 Q39.0313,319.875 40.0156,319.875 Q41,319.875 41.3906,319.25 Q41.7813,318.625 41.7813,317.4844 L41.7813,310.625 L43.6563,310.625 L43.6563,317.4688 Q43.6563,319.5 42.625,320.4688 Q41.6094,321.4375 40,321.4375 Z \"/><text fill=\"#000000\" font-family=\"sans-serif\" font-size=\"12\" font-style=\"italic\" lengthAdjust=\"spacingAndGlyphs\" textLength=\"53\" x=\"52.75\" y=\"313.1387\">«action»</text><text fill=\"#000000\" font-family=\"sans-serif\" font-size=\"12\" lengthAdjust=\"spacingAndGlyphs\" textLength=\"16\" x=\"71.25\" y=\"327.1074\">B1</text></a></g><g id=\"E1.E7\"><a href=\"psysml:e950d6a4-fdbd-4650-aa0a-2ca4b4e20830\" target=\"_top\" title=\"psysml:e950d6a4-fdbd-4650-aa0a-2ca4b4e20830\" xlink:actuate=\"onRequest\" xlink:href=\"psysml:e950d6a4-fdbd-4650-aa0a-2ca4b4e20830\" xlink:show=\"new\" xlink:title=\"psysml:e950d6a4-fdbd-4650-aa0a-2ca4b4e20830\" xlink:type=\"simple\"><rect fill=\"#FEFECE\" filter=\"url(#f1c3mvnmnmot37)\" height=\"42.9375\" id=\"E7\" rx=\"10\" ry=\"10\" style=\"stroke: #A80036; stroke-width: 1.5;\" width=\"86\" x=\"144\" y=\"297\"/><ellipse cx=\"161.25\" cy=\"315.9688\" fill=\"#FFA500\" rx=\"11\" ry=\"11\" style=\"stroke: #A80036; stroke-width: 1.0;\"/><path d=\"M161,321.4375 Q159.25,321.4375 158.2969,320.4063 Q157.3594,319.3594 157.3594,317.5156 L157.3594,310.625 L159.4219,310.625 L159.4219,310.7813 Q159.3281,310.875 159.2969,311.0156 Q159.2813,311.1406 159.2813,311.4063 L159.2813,317.5313 Q159.2813,318.625 159.6563,319.25 Q160.0313,319.875 161.0156,319.875 Q162,319.875 162.3906,319.25 Q162.7813,318.625 162.7813,317.4844 L162.7813,310.625 L164.6563,310.625 L164.6563,317.4688 Q164.6563,319.5 163.625,320.4688 Q162.6094,321.4375 161,321.4375 Z \"/><text fill=\"#000000\" font-family=\"sans-serif\" font-size=\"12\" font-style=\"italic\" lengthAdjust=\"spacingAndGlyphs\" textLength=\"53\" x=\"173.75\" y=\"313.1387\">«action»</text><text fill=\"#000000\" font-family=\"sans-serif\" font-size=\"12\" lengthAdjust=\"spacingAndGlyphs\" textLength=\"16\" x=\"192.25\" y=\"327.1074\">B2</text></a></g><!--MD5=[4d03bb2d0377dc85ccfab60ff574652b]\n",
       "link E2 to E4--><a href=\"psysml:4f9dc8d6-d6e0-48a2-bcc8-8318223d246b\" target=\"_top\" title=\"psysml:4f9dc8d6-d6e0-48a2-bcc8-8318223d246b\" xlink:actuate=\"onRequest\" xlink:href=\"psysml:4f9dc8d6-d6e0-48a2-bcc8-8318223d246b\" xlink:show=\"new\" xlink:title=\"psysml:4f9dc8d6-d6e0-48a2-bcc8-8318223d246b\" xlink:type=\"simple\"><path d=\"M171.92,101.14 C158.72,119.22 140.27,144.46 131.31,156.73 \" fill=\"none\" id=\"E2-&gt;E4\" style=\"stroke: #A80036; stroke-width: 1.0;\"/><polygon fill=\"#A80036\" points=\"128.28,160.88,136.8219,155.9773,131.2319,156.8444,130.3648,151.2543,128.28,160.88\" style=\"stroke: #A80036; stroke-width: 1.0;\"/><text fill=\"#000000\" font-family=\"sans-serif\" font-size=\"13\" lengthAdjust=\"spacingAndGlyphs\" textLength=\"7\" x=\"120.4413\" y=\"150.0038\">*</text></a><!--MD5=[af87c684e3b0d8be13c1a698a818ef1e]\n",
       "link E3 to E4--><a href=\"psysml:d5a52d23-3eda-48ed-8e98-b9c24f218910\" target=\"_top\" title=\"psysml:d5a52d23-3eda-48ed-8e98-b9c24f218910\" xlink:actuate=\"onRequest\" xlink:href=\"psysml:d5a52d23-3eda-48ed-8e98-b9c24f218910\" xlink:show=\"new\" xlink:title=\"psysml:d5a52d23-3eda-48ed-8e98-b9c24f218910\" xlink:type=\"simple\"><path d=\"M80.83,101.14 C93.82,119.22 111.96,144.46 120.78,156.73 \" fill=\"none\" id=\"E3-&gt;E4\" style=\"stroke: #A80036; stroke-width: 1.0;\"/><polygon fill=\"#A80036\" points=\"123.76,160.88,121.7581,151.2367,120.843,156.8191,115.2607,155.9039,123.76,160.88\" style=\"stroke: #A80036; stroke-width: 1.0;\"/><text fill=\"#000000\" font-family=\"sans-serif\" font-size=\"13\" lengthAdjust=\"spacingAndGlyphs\" textLength=\"7\" x=\"112.8138\" y=\"150.0038\">*</text></a><!--MD5=[1b7591eae5389033d8d09a9d6721a717]\n",
       "link E4 to E5--><a href=\"psysml:822f1664-72e1-4116-b41f-1c0919a615e0\" target=\"_top\" title=\"psysml:822f1664-72e1-4116-b41f-1c0919a615e0\" xlink:actuate=\"onRequest\" xlink:href=\"psysml:822f1664-72e1-4116-b41f-1c0919a615e0\" xlink:show=\"new\" xlink:title=\"psysml:822f1664-72e1-4116-b41f-1c0919a615e0\" xlink:type=\"simple\"><path d=\"M126,169.18 C126,178.92 126,208.52 126,223.34 \" fill=\"none\" id=\"E4-&gt;E5\" style=\"stroke: #A80036; stroke-width: 1.0;\"/><polygon fill=\"#A80036\" points=\"126,228.69,130,219.69,126,223.69,122,219.69,126,228.69\" style=\"stroke: #A80036; stroke-width: 1.0;\"/><text fill=\"#000000\" font-family=\"sans-serif\" font-size=\"13\" lengthAdjust=\"spacingAndGlyphs\" textLength=\"7\" x=\"116.6813\" y=\"217.9768\">*</text></a><!--MD5=[9120cf2e5df3bff93db8f754bbbc09b4]\n",
       "link E5 to E6--><a href=\"psysml:2360acce-0fc1-431a-bbc0-189c84da742a\" target=\"_top\" title=\"psysml:2360acce-0fc1-431a-bbc0-189c84da742a\" xlink:actuate=\"onRequest\" xlink:href=\"psysml:2360acce-0fc1-431a-bbc0-189c84da742a\" xlink:show=\"new\" xlink:title=\"psysml:2360acce-0fc1-431a-bbc0-189c84da742a\" xlink:type=\"simple\"><path d=\"M123.72,237.17 C117.25,246.18 98.28,272.58 83.83,292.68 \" fill=\"none\" id=\"E5-&gt;E6\" style=\"stroke: #A80036; stroke-width: 1.0;\"/><polygon fill=\"#A80036\" points=\"80.83,296.87,89.3326,291.8995,83.7496,292.811,82.8381,287.228,80.83,296.87\" style=\"stroke: #A80036; stroke-width: 1.0;\"/><text fill=\"#000000\" font-family=\"sans-serif\" font-size=\"13\" lengthAdjust=\"spacingAndGlyphs\" textLength=\"7\" x=\"77.0166\" y=\"285.7715\">*</text></a><!--MD5=[3a9b96bfbf6b6ad89c494e81751bda47]\n",
       "link E5 to E7--><a href=\"psysml:ee81c625-3e17-4e8d-972a-76052e7a84e3\" target=\"_top\" title=\"psysml:ee81c625-3e17-4e8d-972a-76052e7a84e3\" xlink:actuate=\"onRequest\" xlink:href=\"psysml:ee81c625-3e17-4e8d-972a-76052e7a84e3\" xlink:show=\"new\" xlink:title=\"psysml:ee81c625-3e17-4e8d-972a-76052e7a84e3\" xlink:type=\"simple\"><path d=\"M128.32,237.17 C134.9,246.18 154.19,272.58 168.87,292.68 \" fill=\"none\" id=\"E5-&gt;E7\" style=\"stroke: #A80036; stroke-width: 1.0;\"/><polygon fill=\"#A80036\" points=\"171.93,296.87,169.8674,287.2396,168.9874,292.8276,163.3994,291.9476,171.93,296.87\" style=\"stroke: #A80036; stroke-width: 1.0;\"/><text fill=\"#000000\" font-family=\"sans-serif\" font-size=\"13\" lengthAdjust=\"spacingAndGlyphs\" textLength=\"7\" x=\"159.7072\" y=\"285.7715\">*</text></a><!--MD5=[622cb56970ccb6662a54560a0db25b63]\n",
       "@startuml\r\n",
       " \r\n",
       "rec def \"ControlNodeTest\" as E1 << <<(B,lemonchiffon) action  def>> [[psysml:06c83ae0-0be1-4108-9f79-6c682626264b ]] {\r\n",
       "rec usage \"A1\" as E2 << <<(U,orange) action>> [[psysml:b587d390-d46d-4840-bcaf-beb60201fdea ]] {\r\n",
       "}\r\n",
       "\r\n",
       "rec usage \"A2\" as E3 << <<(U,orange) action>> [[psysml:2c010bd6-de88-4dc7-8be6-3edc78c34a31 ]] {\r\n",
       "}\r\n",
       "\r\n",
       "join \"J\" as E4  [[psysml:b80e7b99-08a2-49d6-9359-b424cf684151 ]] \r\n",
       "fork \"F\" as E5  [[psysml:df495c9b-9171-48f9-ac7d-26427115e0f4 ]] \r\n",
       "rec usage \"B1\" as E6 << <<(U,orange) action>> [[psysml:b42821ea-70f6-43bd-9a67-84f3e511770a ]] {\r\n",
       "}\r\n",
       "\r\n",
       "rec usage \"B2\" as E7 << <<(U,orange) action>> [[psysml:e950d6a4-fdbd-4650-aa0a-2ca4b4e20830 ]] {\r\n",
       "}\r\n",
       "\r\n",
       "}\r\n",
       "\r\n",
       "E2 - -> \"*\"E4 [[psysml:4f9dc8d6-d6e0-48a2-bcc8-8318223d246b ]] \r\n",
       "E3 - -> \"*\"E4 [[psysml:d5a52d23-3eda-48ed-8e98-b9c24f218910 ]] \r\n",
       "E4 - -> \"*\"E5 [[psysml:822f1664-72e1-4116-b41f-1c0919a615e0 ]] \r\n",
       "E5 - -> \"*\"E6 [[psysml:2360acce-0fc1-431a-bbc0-189c84da742a ]] \r\n",
       "E5 - -> \"*\"E7 [[psysml:ee81c625-3e17-4e8d-972a-76052e7a84e3 ]] \r\n",
       "@enduml\r\n",
       "\n",
       "PlantUML version 1.2020.13(Sat Jun 13 12:26:38 UTC 2020)\n",
       "(EPL source distribution)\n",
       "Java Runtime: OpenJDK Runtime Environment\n",
       "JVM: OpenJDK 64-Bit Server VM\n",
       "Default Encoding: UTF-8\n",
       "Language: en\n",
       "Country: null\n",
       "--></g></svg>"
      ]
     },
     "execution_count": 36,
     "metadata": {},
     "output_type": "execute_result"
    }
   ],
   "source": [
    "%viz --style=\"PLANTUML\" --view=\"MIXED\" \"ControlNodeTest\""
   ]
  },
  {
   "cell_type": "code",
   "execution_count": 37,
   "id": "0e35e25f",
   "metadata": {
    "execution": {
     "iopub.execute_input": "2022-02-18T10:46:11.481815Z",
     "iopub.status.busy": "2022-02-18T10:46:11.481609Z",
     "iopub.status.idle": "2022-02-18T10:46:11.516852Z",
     "shell.execute_reply": "2022-02-18T10:46:11.516667Z"
    }
   },
   "outputs": [
    {
     "data": {
      "image/svg+xml": [
       "<?xml version=\"1.0\" encoding=\"UTF-8\" standalone=\"no\"?><svg xmlns=\"http://www.w3.org/2000/svg\" xmlns:xlink=\"http://www.w3.org/1999/xlink\" contentScriptType=\"application/ecmascript\" contentStyleType=\"text/css\" height=\"367px\" preserveAspectRatio=\"none\" style=\"width:205px;height:367px;\" version=\"1.1\" viewBox=\"0 0 205 367\" width=\"205px\" zoomAndPan=\"magnify\"><defs/><g><!--MD5=[fbc87193dbaf4d95561dea2c320d4a47]\n",
       "cluster E1--><a href=\"psysml:06c83ae0-0be1-4108-9f79-6c682626264b\" target=\"_top\" title=\"psysml:06c83ae0-0be1-4108-9f79-6c682626264b\" xlink:actuate=\"onRequest\" xlink:href=\"psysml:06c83ae0-0be1-4108-9f79-6c682626264b\" xlink:show=\"new\" xlink:title=\"psysml:06c83ae0-0be1-4108-9f79-6c682626264b\" xlink:type=\"simple\"><rect fill=\"#FFFFFF\" height=\"349\" id=\"E1\" style=\"stroke: #383838; stroke-width: 1.5;\" width=\"187\" x=\"7\" y=\"7\"/><rect fill=\"#F8F8F8\" height=\"37.9375\" style=\"stroke: #383838; stroke-width: 1.5;\" width=\"187\" x=\"7\" y=\"7\"/><text fill=\"#000000\" font-family=\"sans-serif\" font-size=\"12\" font-style=\"italic\" lengthAdjust=\"spacingAndGlyphs\" textLength=\"81\" x=\"60\" y=\"23.1387\">«action  def»</text><text fill=\"#000000\" font-family=\"sans-serif\" font-size=\"12\" lengthAdjust=\"spacingAndGlyphs\" textLength=\"105\" x=\"48\" y=\"37.1074\">ControlNodeTest</text></a><rect fill=\"#000000\" height=\"8\" style=\"stroke: none; stroke-width: 1.0;\" width=\"80\" x=\"60\" y=\"161\"/><rect fill=\"#000000\" height=\"8\" style=\"stroke: none; stroke-width: 1.0;\" width=\"80\" x=\"60\" y=\"229\"/><g id=\"E1.E2\"><a href=\"psysml:b587d390-d46d-4840-bcaf-beb60201fdea\" target=\"_top\" title=\"psysml:b587d390-d46d-4840-bcaf-beb60201fdea\" xlink:actuate=\"onRequest\" xlink:href=\"psysml:b587d390-d46d-4840-bcaf-beb60201fdea\" xlink:show=\"new\" xlink:title=\"psysml:b587d390-d46d-4840-bcaf-beb60201fdea\" xlink:type=\"simple\"><rect fill=\"#FFFFFF\" height=\"42.9375\" id=\"E2\" rx=\"10\" ry=\"10\" style=\"stroke: #383838; stroke-width: 1.5;\" width=\"60\" x=\"118\" y=\"58\"/><rect fill=\"#F8F8F8\" height=\"37.9375\" rx=\"10\" ry=\"10\" style=\"stroke: #F8F8F8; stroke-width: 1.5;\" width=\"60\" x=\"118\" y=\"58\"/><rect fill=\"#F8F8F8\" height=\"10\" style=\"stroke: #F8F8F8; stroke-width: 1.5;\" width=\"60\" x=\"118\" y=\"85.9375\"/><rect fill=\"none\" height=\"42.9375\" id=\"E2\" rx=\"10\" ry=\"10\" style=\"stroke: #383838; stroke-width: 1.5;\" width=\"60\" x=\"118\" y=\"58\"/><text fill=\"#000000\" font-family=\"sans-serif\" font-size=\"12\" font-style=\"italic\" lengthAdjust=\"spacingAndGlyphs\" textLength=\"53\" x=\"121.5\" y=\"74.1387\">«action»</text><text fill=\"#000000\" font-family=\"sans-serif\" font-size=\"12\" lengthAdjust=\"spacingAndGlyphs\" textLength=\"16\" x=\"140\" y=\"88.1074\">A1</text></a></g><g id=\"E1.E3\"><a href=\"psysml:2c010bd6-de88-4dc7-8be6-3edc78c34a31\" target=\"_top\" title=\"psysml:2c010bd6-de88-4dc7-8be6-3edc78c34a31\" xlink:actuate=\"onRequest\" xlink:href=\"psysml:2c010bd6-de88-4dc7-8be6-3edc78c34a31\" xlink:show=\"new\" xlink:title=\"psysml:2c010bd6-de88-4dc7-8be6-3edc78c34a31\" xlink:type=\"simple\"><rect fill=\"#FFFFFF\" height=\"42.9375\" id=\"E3\" rx=\"10\" ry=\"10\" style=\"stroke: #383838; stroke-width: 1.5;\" width=\"60\" x=\"23\" y=\"58\"/><rect fill=\"#F8F8F8\" height=\"37.9375\" rx=\"10\" ry=\"10\" style=\"stroke: #F8F8F8; stroke-width: 1.5;\" width=\"60\" x=\"23\" y=\"58\"/><rect fill=\"#F8F8F8\" height=\"10\" style=\"stroke: #F8F8F8; stroke-width: 1.5;\" width=\"60\" x=\"23\" y=\"85.9375\"/><rect fill=\"none\" height=\"42.9375\" id=\"E3\" rx=\"10\" ry=\"10\" style=\"stroke: #383838; stroke-width: 1.5;\" width=\"60\" x=\"23\" y=\"58\"/><text fill=\"#000000\" font-family=\"sans-serif\" font-size=\"12\" font-style=\"italic\" lengthAdjust=\"spacingAndGlyphs\" textLength=\"53\" x=\"26.5\" y=\"74.1387\">«action»</text><text fill=\"#000000\" font-family=\"sans-serif\" font-size=\"12\" lengthAdjust=\"spacingAndGlyphs\" textLength=\"16\" x=\"45\" y=\"88.1074\">A2</text></a></g><g id=\"E1.E6\"><a href=\"psysml:b42821ea-70f6-43bd-9a67-84f3e511770a\" target=\"_top\" title=\"psysml:b42821ea-70f6-43bd-9a67-84f3e511770a\" xlink:actuate=\"onRequest\" xlink:href=\"psysml:b42821ea-70f6-43bd-9a67-84f3e511770a\" xlink:show=\"new\" xlink:title=\"psysml:b42821ea-70f6-43bd-9a67-84f3e511770a\" xlink:type=\"simple\"><rect fill=\"#FFFFFF\" height=\"42.9375\" id=\"E6\" rx=\"10\" ry=\"10\" style=\"stroke: #383838; stroke-width: 1.5;\" width=\"60\" x=\"23\" y=\"297\"/><rect fill=\"#F8F8F8\" height=\"37.9375\" rx=\"10\" ry=\"10\" style=\"stroke: #F8F8F8; stroke-width: 1.5;\" width=\"60\" x=\"23\" y=\"297\"/><rect fill=\"#F8F8F8\" height=\"10\" style=\"stroke: #F8F8F8; stroke-width: 1.5;\" width=\"60\" x=\"23\" y=\"324.9375\"/><rect fill=\"none\" height=\"42.9375\" id=\"E6\" rx=\"10\" ry=\"10\" style=\"stroke: #383838; stroke-width: 1.5;\" width=\"60\" x=\"23\" y=\"297\"/><text fill=\"#000000\" font-family=\"sans-serif\" font-size=\"12\" font-style=\"italic\" lengthAdjust=\"spacingAndGlyphs\" textLength=\"53\" x=\"26.5\" y=\"313.1387\">«action»</text><text fill=\"#000000\" font-family=\"sans-serif\" font-size=\"12\" lengthAdjust=\"spacingAndGlyphs\" textLength=\"16\" x=\"45\" y=\"327.1074\">B1</text></a></g><g id=\"E1.E7\"><a href=\"psysml:e950d6a4-fdbd-4650-aa0a-2ca4b4e20830\" target=\"_top\" title=\"psysml:e950d6a4-fdbd-4650-aa0a-2ca4b4e20830\" xlink:actuate=\"onRequest\" xlink:href=\"psysml:e950d6a4-fdbd-4650-aa0a-2ca4b4e20830\" xlink:show=\"new\" xlink:title=\"psysml:e950d6a4-fdbd-4650-aa0a-2ca4b4e20830\" xlink:type=\"simple\"><rect fill=\"#FFFFFF\" height=\"42.9375\" id=\"E7\" rx=\"10\" ry=\"10\" style=\"stroke: #383838; stroke-width: 1.5;\" width=\"60\" x=\"118\" y=\"297\"/><rect fill=\"#F8F8F8\" height=\"37.9375\" rx=\"10\" ry=\"10\" style=\"stroke: #F8F8F8; stroke-width: 1.5;\" width=\"60\" x=\"118\" y=\"297\"/><rect fill=\"#F8F8F8\" height=\"10\" style=\"stroke: #F8F8F8; stroke-width: 1.5;\" width=\"60\" x=\"118\" y=\"324.9375\"/><rect fill=\"none\" height=\"42.9375\" id=\"E7\" rx=\"10\" ry=\"10\" style=\"stroke: #383838; stroke-width: 1.5;\" width=\"60\" x=\"118\" y=\"297\"/><text fill=\"#000000\" font-family=\"sans-serif\" font-size=\"12\" font-style=\"italic\" lengthAdjust=\"spacingAndGlyphs\" textLength=\"53\" x=\"121.5\" y=\"313.1387\">«action»</text><text fill=\"#000000\" font-family=\"sans-serif\" font-size=\"12\" lengthAdjust=\"spacingAndGlyphs\" textLength=\"16\" x=\"140\" y=\"327.1074\">B2</text></a></g><!--MD5=[4d03bb2d0377dc85ccfab60ff574652b]\n",
       "link E2 to E4--><a href=\"psysml:4f9dc8d6-d6e0-48a2-bcc8-8318223d246b\" target=\"_top\" title=\"psysml:4f9dc8d6-d6e0-48a2-bcc8-8318223d246b\" xlink:actuate=\"onRequest\" xlink:href=\"psysml:4f9dc8d6-d6e0-48a2-bcc8-8318223d246b\" xlink:show=\"new\" xlink:title=\"psysml:4f9dc8d6-d6e0-48a2-bcc8-8318223d246b\" xlink:type=\"simple\"><path d=\"M136.13,101.14 C125.84,119.06 111.49,144.01 104.37,156.4 \" fill=\"none\" id=\"E2-&gt;E4\" style=\"stroke: #383838; stroke-width: 1.0;\"/><polygon fill=\"#383838\" points=\"101.79,160.88,109.7406,155.0673,104.2799,156.5441,102.8031,151.0834,101.79,160.88\" style=\"stroke: #383838; stroke-width: 1.0;\"/><text fill=\"#000000\" font-family=\"sans-serif\" font-size=\"13\" lengthAdjust=\"spacingAndGlyphs\" textLength=\"7\" x=\"93.6144\" y=\"150.0038\">*</text></a><!--MD5=[af87c684e3b0d8be13c1a698a818ef1e]\n",
       "link E3 to E4--><a href=\"psysml:d5a52d23-3eda-48ed-8e98-b9c24f218910\" target=\"_top\" title=\"psysml:d5a52d23-3eda-48ed-8e98-b9c24f218910\" xlink:actuate=\"onRequest\" xlink:href=\"psysml:d5a52d23-3eda-48ed-8e98-b9c24f218910\" xlink:show=\"new\" xlink:title=\"psysml:d5a52d23-3eda-48ed-8e98-b9c24f218910\" xlink:type=\"simple\"><path d=\"M64.62,101.14 C74.7,119.06 88.75,144.01 95.72,156.4 \" fill=\"none\" id=\"E3-&gt;E4\" style=\"stroke: #383838; stroke-width: 1.0;\"/><polygon fill=\"#383838\" points=\"98.25,160.88,97.3377,151.0735,95.8048,156.5187,90.3596,154.9858,98.25,160.88\" style=\"stroke: #383838; stroke-width: 1.0;\"/><text fill=\"#000000\" font-family=\"sans-serif\" font-size=\"13\" lengthAdjust=\"spacingAndGlyphs\" textLength=\"7\" x=\"99.4531\" y=\"150.0038\">*</text></a><!--MD5=[1b7591eae5389033d8d09a9d6721a717]\n",
       "link E4 to E5--><a href=\"psysml:822f1664-72e1-4116-b41f-1c0919a615e0\" target=\"_top\" title=\"psysml:822f1664-72e1-4116-b41f-1c0919a615e0\" xlink:actuate=\"onRequest\" xlink:href=\"psysml:822f1664-72e1-4116-b41f-1c0919a615e0\" xlink:show=\"new\" xlink:title=\"psysml:822f1664-72e1-4116-b41f-1c0919a615e0\" xlink:type=\"simple\"><path d=\"M100,169.18 C100,178.92 100,208.52 100,223.34 \" fill=\"none\" id=\"E4-&gt;E5\" style=\"stroke: #383838; stroke-width: 1.0;\"/><polygon fill=\"#383838\" points=\"100,228.69,104,219.69,100,223.69,96,219.69,100,228.69\" style=\"stroke: #383838; stroke-width: 1.0;\"/><text fill=\"#000000\" font-family=\"sans-serif\" font-size=\"13\" lengthAdjust=\"spacingAndGlyphs\" textLength=\"7\" x=\"90.6813\" y=\"217.9768\">*</text></a><!--MD5=[9120cf2e5df3bff93db8f754bbbc09b4]\n",
       "link E5 to E6--><a href=\"psysml:2360acce-0fc1-431a-bbc0-189c84da742a\" target=\"_top\" title=\"psysml:2360acce-0fc1-431a-bbc0-189c84da742a\" xlink:actuate=\"onRequest\" xlink:href=\"psysml:2360acce-0fc1-431a-bbc0-189c84da742a\" xlink:show=\"new\" xlink:title=\"psysml:2360acce-0fc1-431a-bbc0-189c84da742a\" xlink:type=\"simple\"><path d=\"M98.21,237.17 C93.16,246.14 78.41,272.36 67.11,292.43 \" fill=\"none\" id=\"E5-&gt;E6\" style=\"stroke: #383838; stroke-width: 1.0;\"/><polygon fill=\"#383838\" points=\"64.61,296.87,72.5151,290.9955,67.0661,292.5148,65.5467,287.0658,64.61,296.87\" style=\"stroke: #383838; stroke-width: 1.0;\"/><text fill=\"#000000\" font-family=\"sans-serif\" font-size=\"13\" lengthAdjust=\"spacingAndGlyphs\" textLength=\"7\" x=\"59.8909\" y=\"285.7715\">*</text></a><!--MD5=[3a9b96bfbf6b6ad89c494e81751bda47]\n",
       "link E5 to E7--><a href=\"psysml:ee81c625-3e17-4e8d-972a-76052e7a84e3\" target=\"_top\" title=\"psysml:ee81c625-3e17-4e8d-972a-76052e7a84e3\" xlink:actuate=\"onRequest\" xlink:href=\"psysml:ee81c625-3e17-4e8d-972a-76052e7a84e3\" xlink:show=\"new\" xlink:title=\"psysml:ee81c625-3e17-4e8d-972a-76052e7a84e3\" xlink:type=\"simple\"><path d=\"M101.82,237.17 C106.98,246.14 122.05,272.36 133.59,292.43 \" fill=\"none\" id=\"E5-&gt;E7\" style=\"stroke: #383838; stroke-width: 1.0;\"/><polygon fill=\"#383838\" points=\"136.14,296.87,135.1269,287.0734,133.6501,292.5341,128.1894,291.0573,136.14,296.87\" style=\"stroke: #383838; stroke-width: 1.0;\"/><text fill=\"#000000\" font-family=\"sans-serif\" font-size=\"13\" lengthAdjust=\"spacingAndGlyphs\" textLength=\"7\" x=\"124.82\" y=\"285.7715\">*</text></a><!--MD5=[236ed2c69e93091154894ef51a4f5f97]\n",
       "@startuml\r\n",
       "skinparam monochrome true\r\n",
       "skinparam classbackgroundcolor white\r\n",
       "skinparam shadowing false\r\n",
       "skinparam wrapWidth 300\r\n",
       "hide circle\r\n",
       "\r\n",
       "rec def \"ControlNodeTest\" as E1  <<(T,blue) action  def>> [[psysml:06c83ae0-0be1-4108-9f79-6c682626264b ]] {\r\n",
       "rec usage \"A1\" as E2  <<(T,blue) action>> [[psysml:b587d390-d46d-4840-bcaf-beb60201fdea ]] {\r\n",
       "}\r\n",
       "\r\n",
       "rec usage \"A2\" as E3  <<(T,blue) action>> [[psysml:2c010bd6-de88-4dc7-8be6-3edc78c34a31 ]] {\r\n",
       "}\r\n",
       "\r\n",
       "join \"J\" as E4  [[psysml:b80e7b99-08a2-49d6-9359-b424cf684151 ]] \r\n",
       "fork \"F\" as E5  [[psysml:df495c9b-9171-48f9-ac7d-26427115e0f4 ]] \r\n",
       "rec usage \"B1\" as E6  <<(T,blue) action>> [[psysml:b42821ea-70f6-43bd-9a67-84f3e511770a ]] {\r\n",
       "}\r\n",
       "\r\n",
       "rec usage \"B2\" as E7  <<(T,blue) action>> [[psysml:e950d6a4-fdbd-4650-aa0a-2ca4b4e20830 ]] {\r\n",
       "}\r\n",
       "\r\n",
       "}\r\n",
       "\r\n",
       "E2 - -> \"*\"E4 [[psysml:4f9dc8d6-d6e0-48a2-bcc8-8318223d246b ]] \r\n",
       "E3 - -> \"*\"E4 [[psysml:d5a52d23-3eda-48ed-8e98-b9c24f218910 ]] \r\n",
       "E4 - -> \"*\"E5 [[psysml:822f1664-72e1-4116-b41f-1c0919a615e0 ]] \r\n",
       "E5 - -> \"*\"E6 [[psysml:2360acce-0fc1-431a-bbc0-189c84da742a ]] \r\n",
       "E5 - -> \"*\"E7 [[psysml:ee81c625-3e17-4e8d-972a-76052e7a84e3 ]] \r\n",
       "@enduml\r\n",
       "\n",
       "PlantUML version 1.2020.13(Sat Jun 13 12:26:38 UTC 2020)\n",
       "(EPL source distribution)\n",
       "Java Runtime: OpenJDK Runtime Environment\n",
       "JVM: OpenJDK 64-Bit Server VM\n",
       "Default Encoding: UTF-8\n",
       "Language: en\n",
       "Country: null\n",
       "--></g></svg>"
      ]
     },
     "execution_count": 37,
     "metadata": {},
     "output_type": "execute_result"
    }
   ],
   "source": [
    "%viz --style=\"DEFAULT\" --view=\"Default\" \"ControlNodeTest\""
   ]
  },
  {
   "cell_type": "code",
   "execution_count": 38,
   "id": "80c65d10",
   "metadata": {
    "execution": {
     "iopub.execute_input": "2022-02-18T10:46:11.566923Z",
     "iopub.status.busy": "2022-02-18T10:46:11.566718Z",
     "iopub.status.idle": "2022-02-18T10:46:11.647584Z",
     "shell.execute_reply": "2022-02-18T10:46:11.647236Z"
    }
   },
   "outputs": [
    {
     "data": {
      "image/svg+xml": [
       "<?xml version=\"1.0\" encoding=\"UTF-8\" standalone=\"no\"?><svg xmlns=\"http://www.w3.org/2000/svg\" xmlns:xlink=\"http://www.w3.org/1999/xlink\" contentScriptType=\"application/ecmascript\" contentStyleType=\"text/css\" height=\"250px\" preserveAspectRatio=\"none\" style=\"width:564px;height:250px;\" version=\"1.1\" viewBox=\"0 0 564 250\" width=\"564px\" zoomAndPan=\"magnify\"><defs/><g><!--MD5=[43c9051892ef23e1a46a86907403d788]\n",
       "class E1--><a href=\"psysml:06c83ae0-0be1-4108-9f79-6c682626264b\" target=\"_top\" title=\"psysml:06c83ae0-0be1-4108-9f79-6c682626264b\" xlink:actuate=\"onRequest\" xlink:href=\"psysml:06c83ae0-0be1-4108-9f79-6c682626264b\" xlink:show=\"new\" xlink:title=\"psysml:06c83ae0-0be1-4108-9f79-6c682626264b\" xlink:type=\"simple\"><rect fill=\"#FFFFFF\" height=\"126.7656\" id=\"E1\" style=\"stroke: #383838; stroke-width: 1.5;\" width=\"111\" x=\"224\" y=\"7\"/><text fill=\"#000000\" font-family=\"sans-serif\" font-size=\"12\" font-style=\"italic\" lengthAdjust=\"spacingAndGlyphs\" textLength=\"81\" x=\"239\" y=\"23.1387\">«action  def»</text><text fill=\"#000000\" font-family=\"sans-serif\" font-size=\"12\" lengthAdjust=\"spacingAndGlyphs\" textLength=\"105\" x=\"227\" y=\"37.1074\">ControlNodeTest</text><line style=\"stroke: #383838; stroke-width: 1.5;\" x1=\"225\" x2=\"334\" y1=\"44.9375\" y2=\"44.9375\"/><text fill=\"#000000\" font-family=\"sans-serif\" font-size=\"11\" lengthAdjust=\"spacingAndGlyphs\" textLength=\"36\" x=\"230\" y=\"75.9526\">then  J</text><text fill=\"#000000\" font-family=\"sans-serif\" font-size=\"11\" lengthAdjust=\"spacingAndGlyphs\" textLength=\"36\" x=\"230\" y=\"88.7573\">then  J</text><text fill=\"#000000\" font-family=\"sans-serif\" font-size=\"11\" lengthAdjust=\"spacingAndGlyphs\" textLength=\"25\" x=\"230\" y=\"101.562\">then</text><text fill=\"#000000\" font-family=\"sans-serif\" font-size=\"11\" lengthAdjust=\"spacingAndGlyphs\" textLength=\"48\" x=\"230\" y=\"114.3667\">then  B1</text><text fill=\"#000000\" font-family=\"sans-serif\" font-size=\"11\" lengthAdjust=\"spacingAndGlyphs\" textLength=\"48\" x=\"230\" y=\"127.1714\">then  B2</text><line style=\"stroke: #383838; stroke-width: 1.0;\" x1=\"225\" x2=\"244\" y1=\"59.3398\" y2=\"59.3398\"/><text fill=\"#000000\" font-family=\"sans-serif\" font-size=\"11\" lengthAdjust=\"spacingAndGlyphs\" textLength=\"71\" x=\"244\" y=\"62.6479\">successions</text><line style=\"stroke: #383838; stroke-width: 1.0;\" x1=\"315\" x2=\"334\" y1=\"59.3398\" y2=\"59.3398\"/></a><!--MD5=[b4997ac47864f28c2f74865a473b2911]\n",
       "class E2--><a href=\"psysml:b587d390-d46d-4840-bcaf-beb60201fdea\" target=\"_top\" title=\"psysml:b587d390-d46d-4840-bcaf-beb60201fdea\" xlink:actuate=\"onRequest\" xlink:href=\"psysml:b587d390-d46d-4840-bcaf-beb60201fdea\" xlink:show=\"new\" xlink:title=\"psysml:b587d390-d46d-4840-bcaf-beb60201fdea\" xlink:type=\"simple\"><rect fill=\"#FFFFFF\" height=\"45.9375\" id=\"E2\" rx=\"10\" ry=\"10\" style=\"stroke: #383838; stroke-width: 1.5;\" width=\"55\" x=\"7\" y=\"194\"/><text fill=\"#000000\" font-family=\"sans-serif\" font-size=\"12\" font-style=\"italic\" lengthAdjust=\"spacingAndGlyphs\" textLength=\"53\" x=\"8\" y=\"210.1387\">«action»</text><text fill=\"#000000\" font-family=\"sans-serif\" font-size=\"12\" lengthAdjust=\"spacingAndGlyphs\" textLength=\"16\" x=\"24.5\" y=\"224.1074\">A1</text><line style=\"stroke: #383838; stroke-width: 1.5;\" x1=\"8\" x2=\"61\" y1=\"231.9375\" y2=\"231.9375\"/></a><!--MD5=[09b614a08d8cba4a07c9adeb5e0fee81]\n",
       "class E3--><a href=\"psysml:2c010bd6-de88-4dc7-8be6-3edc78c34a31\" target=\"_top\" title=\"psysml:2c010bd6-de88-4dc7-8be6-3edc78c34a31\" xlink:actuate=\"onRequest\" xlink:href=\"psysml:2c010bd6-de88-4dc7-8be6-3edc78c34a31\" xlink:show=\"new\" xlink:title=\"psysml:2c010bd6-de88-4dc7-8be6-3edc78c34a31\" xlink:type=\"simple\"><rect fill=\"#FFFFFF\" height=\"45.9375\" id=\"E3\" rx=\"10\" ry=\"10\" style=\"stroke: #383838; stroke-width: 1.5;\" width=\"55\" x=\"97\" y=\"194\"/><text fill=\"#000000\" font-family=\"sans-serif\" font-size=\"12\" font-style=\"italic\" lengthAdjust=\"spacingAndGlyphs\" textLength=\"53\" x=\"98\" y=\"210.1387\">«action»</text><text fill=\"#000000\" font-family=\"sans-serif\" font-size=\"12\" lengthAdjust=\"spacingAndGlyphs\" textLength=\"16\" x=\"114.5\" y=\"224.1074\">A2</text><line style=\"stroke: #383838; stroke-width: 1.5;\" x1=\"98\" x2=\"151\" y1=\"231.9375\" y2=\"231.9375\"/></a><!--MD5=[ebbe1d658d1005bcc118a6aa81145e00]\n",
       "class E4--><a href=\"psysml:b80e7b99-08a2-49d6-9359-b424cf684151\" target=\"_top\" title=\"psysml:b80e7b99-08a2-49d6-9359-b424cf684151\" xlink:actuate=\"onRequest\" xlink:href=\"psysml:b80e7b99-08a2-49d6-9359-b424cf684151\" xlink:show=\"new\" xlink:title=\"psysml:b80e7b99-08a2-49d6-9359-b424cf684151\" xlink:type=\"simple\"><rect fill=\"#FFFFFF\" height=\"45.9375\" id=\"E4\" rx=\"10\" ry=\"10\" style=\"stroke: #383838; stroke-width: 1.5;\" width=\"74\" x=\"187.5\" y=\"194\"/><text fill=\"#000000\" font-family=\"sans-serif\" font-size=\"12\" font-style=\"italic\" lengthAdjust=\"spacingAndGlyphs\" textLength=\"72\" x=\"188.5\" y=\"210.1387\">«join node»</text><text fill=\"#000000\" font-family=\"sans-serif\" font-size=\"12\" lengthAdjust=\"spacingAndGlyphs\" textLength=\"3\" x=\"221\" y=\"224.1074\">J</text><line style=\"stroke: #383838; stroke-width: 1.5;\" x1=\"188.5\" x2=\"260.5\" y1=\"231.9375\" y2=\"231.9375\"/></a><!--MD5=[270fce915f116d4de14055a7c1d9a0f3]\n",
       "class E5--><a href=\"psysml:df495c9b-9171-48f9-ac7d-26427115e0f4\" target=\"_top\" title=\"psysml:df495c9b-9171-48f9-ac7d-26427115e0f4\" xlink:actuate=\"onRequest\" xlink:href=\"psysml:df495c9b-9171-48f9-ac7d-26427115e0f4\" xlink:show=\"new\" xlink:title=\"psysml:df495c9b-9171-48f9-ac7d-26427115e0f4\" xlink:type=\"simple\"><rect fill=\"#FFFFFF\" height=\"45.9375\" id=\"E5\" rx=\"10\" ry=\"10\" style=\"stroke: #383838; stroke-width: 1.5;\" width=\"76\" x=\"296.5\" y=\"194\"/><text fill=\"#000000\" font-family=\"sans-serif\" font-size=\"12\" font-style=\"italic\" lengthAdjust=\"spacingAndGlyphs\" textLength=\"74\" x=\"297.5\" y=\"210.1387\">«fork node»</text><text fill=\"#000000\" font-family=\"sans-serif\" font-size=\"12\" lengthAdjust=\"spacingAndGlyphs\" textLength=\"7\" x=\"329\" y=\"224.1074\">F</text><line style=\"stroke: #383838; stroke-width: 1.5;\" x1=\"297.5\" x2=\"371.5\" y1=\"231.9375\" y2=\"231.9375\"/></a><!--MD5=[60a26617385b1d2d0262a64233df1f8d]\n",
       "class E6--><a href=\"psysml:b42821ea-70f6-43bd-9a67-84f3e511770a\" target=\"_top\" title=\"psysml:b42821ea-70f6-43bd-9a67-84f3e511770a\" xlink:actuate=\"onRequest\" xlink:href=\"psysml:b42821ea-70f6-43bd-9a67-84f3e511770a\" xlink:show=\"new\" xlink:title=\"psysml:b42821ea-70f6-43bd-9a67-84f3e511770a\" xlink:type=\"simple\"><rect fill=\"#FFFFFF\" height=\"45.9375\" id=\"E6\" rx=\"10\" ry=\"10\" style=\"stroke: #383838; stroke-width: 1.5;\" width=\"55\" x=\"408\" y=\"194\"/><text fill=\"#000000\" font-family=\"sans-serif\" font-size=\"12\" font-style=\"italic\" lengthAdjust=\"spacingAndGlyphs\" textLength=\"53\" x=\"409\" y=\"210.1387\">«action»</text><text fill=\"#000000\" font-family=\"sans-serif\" font-size=\"12\" lengthAdjust=\"spacingAndGlyphs\" textLength=\"16\" x=\"425.5\" y=\"224.1074\">B1</text><line style=\"stroke: #383838; stroke-width: 1.5;\" x1=\"409\" x2=\"462\" y1=\"231.9375\" y2=\"231.9375\"/></a><!--MD5=[2156ba9850f5573cc1fc38a6a4b2f02b]\n",
       "class E7--><a href=\"psysml:e950d6a4-fdbd-4650-aa0a-2ca4b4e20830\" target=\"_top\" title=\"psysml:e950d6a4-fdbd-4650-aa0a-2ca4b4e20830\" xlink:actuate=\"onRequest\" xlink:href=\"psysml:e950d6a4-fdbd-4650-aa0a-2ca4b4e20830\" xlink:show=\"new\" xlink:title=\"psysml:e950d6a4-fdbd-4650-aa0a-2ca4b4e20830\" xlink:type=\"simple\"><rect fill=\"#FFFFFF\" height=\"45.9375\" id=\"E7\" rx=\"10\" ry=\"10\" style=\"stroke: #383838; stroke-width: 1.5;\" width=\"55\" x=\"498\" y=\"194\"/><text fill=\"#000000\" font-family=\"sans-serif\" font-size=\"12\" font-style=\"italic\" lengthAdjust=\"spacingAndGlyphs\" textLength=\"53\" x=\"499\" y=\"210.1387\">«action»</text><text fill=\"#000000\" font-family=\"sans-serif\" font-size=\"12\" lengthAdjust=\"spacingAndGlyphs\" textLength=\"16\" x=\"515.5\" y=\"224.1074\">B2</text><line style=\"stroke: #383838; stroke-width: 1.5;\" x1=\"499\" x2=\"552\" y1=\"231.9375\" y2=\"231.9375\"/></a><!--MD5=[a523cb2a0b79ecf9065ad8783f96c320]\n",
       "reverse link E1 to E2--><a href=\"psysml:8824560d-0356-45ea-8a7b-06baadbc63a3\" target=\"_top\" title=\"psysml:8824560d-0356-45ea-8a7b-06baadbc63a3\" xlink:actuate=\"onRequest\" xlink:href=\"psysml:8824560d-0356-45ea-8a7b-06baadbc63a3\" xlink:show=\"new\" xlink:title=\"psysml:8824560d-0356-45ea-8a7b-06baadbc63a3\" xlink:type=\"simple\"><path d=\"M212.66,110.92 C163.24,140.07 98.48,178.27 62.21,199.66 \" fill=\"none\" id=\"E1&lt;-E2\" style=\"stroke: #383838; stroke-width: 1.0;\"/><polygon fill=\"#383838\" points=\"223.91,104.29,216.71,103.89,213.5715,110.3823,220.7715,110.7823,223.91,104.29\" style=\"stroke: #383838; stroke-width: 1.0;\"/><text fill=\"#000000\" font-family=\"sans-serif\" font-size=\"13\" lengthAdjust=\"spacingAndGlyphs\" textLength=\"7\" x=\"69.8174\" y=\"190.6959\">*</text></a><!--MD5=[5d7b3810b1dd9b5164bea1151b29b665]\n",
       "reverse link E1 to E3--><a href=\"psysml:cbbe4b3e-f7e7-45b7-a67a-c33698d06c9d\" target=\"_top\" title=\"psysml:cbbe4b3e-f7e7-45b7-a67a-c33698d06c9d\" xlink:actuate=\"onRequest\" xlink:href=\"psysml:cbbe4b3e-f7e7-45b7-a67a-c33698d06c9d\" xlink:show=\"new\" xlink:title=\"psysml:cbbe4b3e-f7e7-45b7-a67a-c33698d06c9d\" xlink:type=\"simple\"><path d=\"M214.38,132.21 C190.87,154.12 165.81,177.49 148.14,193.96 \" fill=\"none\" id=\"E1&lt;-E3\" style=\"stroke: #383838; stroke-width: 1.0;\"/><polygon fill=\"#383838\" points=\"223.98,123.26,216.8638,124.4259,215.2029,131.4431,222.3192,130.2772,223.98,123.26\" style=\"stroke: #383838; stroke-width: 1.0;\"/><text fill=\"#000000\" font-family=\"sans-serif\" font-size=\"13\" lengthAdjust=\"spacingAndGlyphs\" textLength=\"7\" x=\"146.5526\" y=\"182.8455\">*</text></a><!--MD5=[f2c5c03aa1e8c0ba21c10a05e6444b8e]\n",
       "reverse link E1 to E4--><a href=\"psysml:8b2189df-ceef-42f5-8cc2-eeb8d6451d98\" target=\"_top\" title=\"psysml:8b2189df-ceef-42f5-8cc2-eeb8d6451d98\" xlink:actuate=\"onRequest\" xlink:href=\"psysml:8b2189df-ceef-42f5-8cc2-eeb8d6451d98\" xlink:show=\"new\" xlink:title=\"psysml:8b2189df-ceef-42f5-8cc2-eeb8d6451d98\" xlink:type=\"simple\"><path d=\"M251,146.38 C244.38,163.78 237.83,180.97 232.9,193.92 \" fill=\"none\" id=\"E1&lt;-E4\" style=\"stroke: #383838; stroke-width: 1.0;\"/><polygon fill=\"#383838\" points=\"255.7,134.04,249.8253,138.2218,251.4259,145.253,257.3006,141.0712,255.7,134.04\" style=\"stroke: #383838; stroke-width: 1.0;\"/></a><!--MD5=[33238bef88d6431a141d8bc8fb12bca0]\n",
       "reverse link E1 to E5--><a href=\"psysml:a82a5eef-dea6-4124-abec-2b50c8cafb15\" target=\"_top\" title=\"psysml:a82a5eef-dea6-4124-abec-2b50c8cafb15\" xlink:actuate=\"onRequest\" xlink:href=\"psysml:a82a5eef-dea6-4124-abec-2b50c8cafb15\" xlink:show=\"new\" xlink:title=\"psysml:a82a5eef-dea6-4124-abec-2b50c8cafb15\" xlink:type=\"simple\"><path d=\"M308,146.38 C314.62,163.78 321.17,180.97 326.1,193.92 \" fill=\"none\" id=\"E1&lt;-E5\" style=\"stroke: #383838; stroke-width: 1.0;\"/><polygon fill=\"#383838\" points=\"303.3,134.04,301.6994,141.0712,307.5741,145.253,309.1747,138.2218,303.3,134.04\" style=\"stroke: #383838; stroke-width: 1.0;\"/></a><!--MD5=[aca2ef284c2b1b90e17e73bf3f292c07]\n",
       "reverse link E1 to E6--><a href=\"psysml:fa0fa50c-58e4-4afc-aadf-ea60f0cb1460\" target=\"_top\" title=\"psysml:fa0fa50c-58e4-4afc-aadf-ea60f0cb1460\" xlink:actuate=\"onRequest\" xlink:href=\"psysml:fa0fa50c-58e4-4afc-aadf-ea60f0cb1460\" xlink:show=\"new\" xlink:title=\"psysml:fa0fa50c-58e4-4afc-aadf-ea60f0cb1460\" xlink:type=\"simple\"><path d=\"M345.04,132.21 C368.7,154.12 393.92,177.49 411.71,193.96 \" fill=\"none\" id=\"E1&lt;-E6\" style=\"stroke: #383838; stroke-width: 1.0;\"/><polygon fill=\"#383838\" points=\"335.38,123.26,337.057,130.2734,344.1759,131.4229,342.4989,124.4095,335.38,123.26\" style=\"stroke: #383838; stroke-width: 1.0;\"/><text fill=\"#000000\" font-family=\"sans-serif\" font-size=\"13\" lengthAdjust=\"spacingAndGlyphs\" textLength=\"7\" x=\"397.3758\" y=\"182.8455\">*</text></a><!--MD5=[fc9706a6b2cf8c0e423679d303750d3f]\n",
       "reverse link E1 to E7--><a href=\"psysml:49466f58-4643-4906-96c1-3a5676eba647\" target=\"_top\" title=\"psysml:49466f58-4643-4906-96c1-3a5676eba647\" xlink:actuate=\"onRequest\" xlink:href=\"psysml:49466f58-4643-4906-96c1-3a5676eba647\" xlink:show=\"new\" xlink:title=\"psysml:49466f58-4643-4906-96c1-3a5676eba647\" xlink:type=\"simple\"><path d=\"M346.34,110.76 C396.11,140 461.5,178.41 497.94,199.81 \" fill=\"none\" id=\"E1&lt;-E7\" style=\"stroke: #383838; stroke-width: 1.0;\"/><polygon fill=\"#383838\" points=\"335.01,104.11,338.1582,110.5976,345.3576,110.1868,342.2094,103.6992,335.01,104.11\" style=\"stroke: #383838; stroke-width: 1.0;\"/><text fill=\"#000000\" font-family=\"sans-serif\" font-size=\"13\" lengthAdjust=\"spacingAndGlyphs\" textLength=\"7\" x=\"482.9809\" y=\"190.5751\">*</text></a><!--MD5=[eacf0de9c641f2ffb785b29dbe8de2c4]\n",
       "@startuml\r\n",
       "skinparam monochrome true\r\n",
       "skinparam classbackgroundcolor white\r\n",
       "skinparam shadowing false\r\n",
       "skinparam wrapWidth 300\r\n",
       "hide circle\r\n",
       "\r\n",
       "comp def \"ControlNodeTest\" as E1  <<(T,blue) action  def>> [[psysml:06c83ae0-0be1-4108-9f79-6c682626264b ]] {\r\n",
       "- - successions - -\r\n",
       " then  J\r\n",
       " then  J\r\n",
       " then \r\n",
       " then  B1\r\n",
       " then  B2\r\n",
       "}\r\n",
       "comp usage \"A1 \" as E2  <<(T,blue) action>> [[psysml:b587d390-d46d-4840-bcaf-beb60201fdea ]] {\r\n",
       "}\r\n",
       "comp usage \"A2 \" as E3  <<(T,blue) action>> [[psysml:2c010bd6-de88-4dc7-8be6-3edc78c34a31 ]] {\r\n",
       "}\r\n",
       "comp usage \"J \" as E4  <<(T,blue) join node>> [[psysml:b80e7b99-08a2-49d6-9359-b424cf684151 ]] {\r\n",
       "}\r\n",
       "comp usage \"F \" as E5  <<(T,blue) fork node>> [[psysml:df495c9b-9171-48f9-ac7d-26427115e0f4 ]] {\r\n",
       "}\r\n",
       "comp usage \"B1 \" as E6  <<(T,blue) action>> [[psysml:b42821ea-70f6-43bd-9a67-84f3e511770a ]] {\r\n",
       "}\r\n",
       "comp usage \"B2 \" as E7  <<(T,blue) action>> [[psysml:e950d6a4-fdbd-4650-aa0a-2ca4b4e20830 ]] {\r\n",
       "}\r\n",
       "E1 *- - \"*\"E2 [[psysml:8824560d-0356-45ea-8a7b-06baadbc63a3 ]] \r\n",
       "E1 *- - \"*\"E3 [[psysml:cbbe4b3e-f7e7-45b7-a67a-c33698d06c9d ]] \r\n",
       "E1 *- - E4 [[psysml:8b2189df-ceef-42f5-8cc2-eeb8d6451d98 ]] \r\n",
       "E1 *- - E5 [[psysml:a82a5eef-dea6-4124-abec-2b50c8cafb15 ]] \r\n",
       "E1 *- - \"*\"E6 [[psysml:fa0fa50c-58e4-4afc-aadf-ea60f0cb1460 ]] \r\n",
       "E1 *- - \"*\"E7 [[psysml:49466f58-4643-4906-96c1-3a5676eba647 ]] \r\n",
       "@enduml\r\n",
       "\n",
       "PlantUML version 1.2020.13(Sat Jun 13 12:26:38 UTC 2020)\n",
       "(EPL source distribution)\n",
       "Java Runtime: OpenJDK Runtime Environment\n",
       "JVM: OpenJDK 64-Bit Server VM\n",
       "Default Encoding: UTF-8\n",
       "Language: en\n",
       "Country: null\n",
       "--></g></svg>"
      ]
     },
     "execution_count": 38,
     "metadata": {},
     "output_type": "execute_result"
    }
   ],
   "source": [
    "%viz --style=\"DEFAULT\" --view=\"Tree\" \"ControlNodeTest\""
   ]
  },
  {
   "cell_type": "code",
   "execution_count": 39,
   "id": "da96dde4",
   "metadata": {
    "execution": {
     "iopub.execute_input": "2022-02-18T10:46:11.697006Z",
     "iopub.status.busy": "2022-02-18T10:46:11.696763Z",
     "iopub.status.idle": "2022-02-18T10:46:11.700922Z",
     "shell.execute_reply": "2022-02-18T10:46:11.701231Z"
    }
   },
   "outputs": [
    {
     "data": {
      "image/svg+xml": [
       "<?xml version=\"1.0\" encoding=\"UTF-8\" standalone=\"no\"?><svg xmlns=\"http://www.w3.org/2000/svg\" xmlns:xlink=\"http://www.w3.org/1999/xlink\" contentScriptType=\"application/ecmascript\" contentStyleType=\"text/css\" height=\"12px\" preserveAspectRatio=\"none\" style=\"width:12px;height:12px;\" version=\"1.1\" viewBox=\"0 0 12 12\" width=\"12px\" zoomAndPan=\"magnify\"><defs/><g><!--MD5=[c5f280e076d0d61ccf4b0f27871bda1d]\n",
       "@startuml\r\n",
       "skinparam monochrome true\r\n",
       "skinparam classbackgroundcolor white\r\n",
       "skinparam shadowing false\r\n",
       "skinparam wrapWidth 300\r\n",
       "hide circle\r\n",
       "\r\n",
       "@enduml\r\n",
       "\n",
       "PlantUML version 1.2020.13(Sat Jun 13 12:26:38 UTC 2020)\n",
       "(EPL source distribution)\n",
       "Java Runtime: OpenJDK Runtime Environment\n",
       "JVM: OpenJDK 64-Bit Server VM\n",
       "Default Encoding: UTF-8\n",
       "Language: en\n",
       "Country: null\n",
       "--></g></svg>"
      ]
     },
     "execution_count": 39,
     "metadata": {},
     "output_type": "execute_result"
    }
   ],
   "source": [
    "%viz --style=\"DEFAULT\" --view=\"State\" \"ControlNodeTest\""
   ]
  },
  {
   "cell_type": "code",
   "execution_count": 40,
   "id": "f1a6ca16",
   "metadata": {
    "execution": {
     "iopub.execute_input": "2022-02-18T10:46:11.751015Z",
     "iopub.status.busy": "2022-02-18T10:46:11.750823Z",
     "iopub.status.idle": "2022-02-18T10:46:11.782371Z",
     "shell.execute_reply": "2022-02-18T10:46:11.782091Z"
    }
   },
   "outputs": [
    {
     "data": {
      "image/svg+xml": [
       "<?xml version=\"1.0\" encoding=\"UTF-8\" standalone=\"no\"?><svg xmlns=\"http://www.w3.org/2000/svg\" xmlns:xlink=\"http://www.w3.org/1999/xlink\" contentScriptType=\"application/ecmascript\" contentStyleType=\"text/css\" height=\"217px\" preserveAspectRatio=\"none\" style=\"width:205px;height:217px;\" version=\"1.1\" viewBox=\"0 0 205 217\" width=\"205px\" zoomAndPan=\"magnify\"><defs/><g><!--MD5=[fbc87193dbaf4d95561dea2c320d4a47]\n",
       "cluster E1--><a href=\"psysml:06c83ae0-0be1-4108-9f79-6c682626264b\" target=\"_top\" title=\"psysml:06c83ae0-0be1-4108-9f79-6c682626264b\" xlink:actuate=\"onRequest\" xlink:href=\"psysml:06c83ae0-0be1-4108-9f79-6c682626264b\" xlink:show=\"new\" xlink:title=\"psysml:06c83ae0-0be1-4108-9f79-6c682626264b\" xlink:type=\"simple\"><rect fill=\"#FFFFFF\" height=\"199\" id=\"E1\" style=\"stroke: #383838; stroke-width: 1.5;\" width=\"187\" x=\"7\" y=\"7\"/><rect fill=\"#F8F8F8\" height=\"37.9375\" style=\"stroke: #383838; stroke-width: 1.5;\" width=\"187\" x=\"7\" y=\"7\"/><text fill=\"#000000\" font-family=\"sans-serif\" font-size=\"12\" font-style=\"italic\" lengthAdjust=\"spacingAndGlyphs\" textLength=\"81\" x=\"60\" y=\"23.1387\">«action  def»</text><text fill=\"#000000\" font-family=\"sans-serif\" font-size=\"12\" lengthAdjust=\"spacingAndGlyphs\" textLength=\"105\" x=\"48\" y=\"37.1074\">ControlNodeTest</text></a><rect fill=\"#000000\" height=\"8\" style=\"stroke: none; stroke-width: 1.0;\" width=\"80\" x=\"60\" y=\"111\"/><rect fill=\"#000000\" height=\"8\" style=\"stroke: none; stroke-width: 1.0;\" width=\"80\" x=\"60\" y=\"129\"/><g id=\"E1.E2\"><a href=\"psysml:b587d390-d46d-4840-bcaf-beb60201fdea\" target=\"_top\" title=\"psysml:b587d390-d46d-4840-bcaf-beb60201fdea\" xlink:actuate=\"onRequest\" xlink:href=\"psysml:b587d390-d46d-4840-bcaf-beb60201fdea\" xlink:show=\"new\" xlink:title=\"psysml:b587d390-d46d-4840-bcaf-beb60201fdea\" xlink:type=\"simple\"><rect fill=\"#FFFFFF\" height=\"42.9375\" id=\"E2\" rx=\"10\" ry=\"10\" style=\"stroke: #383838; stroke-width: 1.5;\" width=\"60\" x=\"118\" y=\"58\"/><rect fill=\"#F8F8F8\" height=\"37.9375\" rx=\"10\" ry=\"10\" style=\"stroke: #F8F8F8; stroke-width: 1.5;\" width=\"60\" x=\"118\" y=\"58\"/><rect fill=\"#F8F8F8\" height=\"10\" style=\"stroke: #F8F8F8; stroke-width: 1.5;\" width=\"60\" x=\"118\" y=\"85.9375\"/><rect fill=\"none\" height=\"42.9375\" id=\"E2\" rx=\"10\" ry=\"10\" style=\"stroke: #383838; stroke-width: 1.5;\" width=\"60\" x=\"118\" y=\"58\"/><text fill=\"#000000\" font-family=\"sans-serif\" font-size=\"12\" font-style=\"italic\" lengthAdjust=\"spacingAndGlyphs\" textLength=\"53\" x=\"121.5\" y=\"74.1387\">«action»</text><text fill=\"#000000\" font-family=\"sans-serif\" font-size=\"12\" lengthAdjust=\"spacingAndGlyphs\" textLength=\"16\" x=\"140\" y=\"88.1074\">A1</text></a></g><g id=\"E1.E3\"><a href=\"psysml:2c010bd6-de88-4dc7-8be6-3edc78c34a31\" target=\"_top\" title=\"psysml:2c010bd6-de88-4dc7-8be6-3edc78c34a31\" xlink:actuate=\"onRequest\" xlink:href=\"psysml:2c010bd6-de88-4dc7-8be6-3edc78c34a31\" xlink:show=\"new\" xlink:title=\"psysml:2c010bd6-de88-4dc7-8be6-3edc78c34a31\" xlink:type=\"simple\"><rect fill=\"#FFFFFF\" height=\"42.9375\" id=\"E3\" rx=\"10\" ry=\"10\" style=\"stroke: #383838; stroke-width: 1.5;\" width=\"60\" x=\"23\" y=\"58\"/><rect fill=\"#F8F8F8\" height=\"37.9375\" rx=\"10\" ry=\"10\" style=\"stroke: #F8F8F8; stroke-width: 1.5;\" width=\"60\" x=\"23\" y=\"58\"/><rect fill=\"#F8F8F8\" height=\"10\" style=\"stroke: #F8F8F8; stroke-width: 1.5;\" width=\"60\" x=\"23\" y=\"85.9375\"/><rect fill=\"none\" height=\"42.9375\" id=\"E3\" rx=\"10\" ry=\"10\" style=\"stroke: #383838; stroke-width: 1.5;\" width=\"60\" x=\"23\" y=\"58\"/><text fill=\"#000000\" font-family=\"sans-serif\" font-size=\"12\" font-style=\"italic\" lengthAdjust=\"spacingAndGlyphs\" textLength=\"53\" x=\"26.5\" y=\"74.1387\">«action»</text><text fill=\"#000000\" font-family=\"sans-serif\" font-size=\"12\" lengthAdjust=\"spacingAndGlyphs\" textLength=\"16\" x=\"45\" y=\"88.1074\">A2</text></a></g><g id=\"E1.E6\"><a href=\"psysml:b42821ea-70f6-43bd-9a67-84f3e511770a\" target=\"_top\" title=\"psysml:b42821ea-70f6-43bd-9a67-84f3e511770a\" xlink:actuate=\"onRequest\" xlink:href=\"psysml:b42821ea-70f6-43bd-9a67-84f3e511770a\" xlink:show=\"new\" xlink:title=\"psysml:b42821ea-70f6-43bd-9a67-84f3e511770a\" xlink:type=\"simple\"><rect fill=\"#FFFFFF\" height=\"42.9375\" id=\"E6\" rx=\"10\" ry=\"10\" style=\"stroke: #383838; stroke-width: 1.5;\" width=\"60\" x=\"23\" y=\"147\"/><rect fill=\"#F8F8F8\" height=\"37.9375\" rx=\"10\" ry=\"10\" style=\"stroke: #F8F8F8; stroke-width: 1.5;\" width=\"60\" x=\"23\" y=\"147\"/><rect fill=\"#F8F8F8\" height=\"10\" style=\"stroke: #F8F8F8; stroke-width: 1.5;\" width=\"60\" x=\"23\" y=\"174.9375\"/><rect fill=\"none\" height=\"42.9375\" id=\"E6\" rx=\"10\" ry=\"10\" style=\"stroke: #383838; stroke-width: 1.5;\" width=\"60\" x=\"23\" y=\"147\"/><text fill=\"#000000\" font-family=\"sans-serif\" font-size=\"12\" font-style=\"italic\" lengthAdjust=\"spacingAndGlyphs\" textLength=\"53\" x=\"26.5\" y=\"163.1387\">«action»</text><text fill=\"#000000\" font-family=\"sans-serif\" font-size=\"12\" lengthAdjust=\"spacingAndGlyphs\" textLength=\"16\" x=\"45\" y=\"177.1074\">B1</text></a></g><g id=\"E1.E7\"><a href=\"psysml:e950d6a4-fdbd-4650-aa0a-2ca4b4e20830\" target=\"_top\" title=\"psysml:e950d6a4-fdbd-4650-aa0a-2ca4b4e20830\" xlink:actuate=\"onRequest\" xlink:href=\"psysml:e950d6a4-fdbd-4650-aa0a-2ca4b4e20830\" xlink:show=\"new\" xlink:title=\"psysml:e950d6a4-fdbd-4650-aa0a-2ca4b4e20830\" xlink:type=\"simple\"><rect fill=\"#FFFFFF\" height=\"42.9375\" id=\"E7\" rx=\"10\" ry=\"10\" style=\"stroke: #383838; stroke-width: 1.5;\" width=\"60\" x=\"118\" y=\"147\"/><rect fill=\"#F8F8F8\" height=\"37.9375\" rx=\"10\" ry=\"10\" style=\"stroke: #F8F8F8; stroke-width: 1.5;\" width=\"60\" x=\"118\" y=\"147\"/><rect fill=\"#F8F8F8\" height=\"10\" style=\"stroke: #F8F8F8; stroke-width: 1.5;\" width=\"60\" x=\"118\" y=\"174.9375\"/><rect fill=\"none\" height=\"42.9375\" id=\"E7\" rx=\"10\" ry=\"10\" style=\"stroke: #383838; stroke-width: 1.5;\" width=\"60\" x=\"118\" y=\"147\"/><text fill=\"#000000\" font-family=\"sans-serif\" font-size=\"12\" font-style=\"italic\" lengthAdjust=\"spacingAndGlyphs\" textLength=\"53\" x=\"121.5\" y=\"163.1387\">«action»</text><text fill=\"#000000\" font-family=\"sans-serif\" font-size=\"12\" lengthAdjust=\"spacingAndGlyphs\" textLength=\"16\" x=\"140\" y=\"177.1074\">B2</text></a></g><!--MD5=[4d03bb2d0377dc85ccfab60ff574652b]\n",
       "link E2 to E4--><a href=\"psysml:4f9dc8d6-d6e0-48a2-bcc8-8318223d246b\" target=\"_top\" title=\"psysml:4f9dc8d6-d6e0-48a2-bcc8-8318223d246b\" xlink:actuate=\"onRequest\" xlink:href=\"psysml:4f9dc8d6-d6e0-48a2-bcc8-8318223d246b\" xlink:show=\"new\" xlink:title=\"psysml:4f9dc8d6-d6e0-48a2-bcc8-8318223d246b\" xlink:type=\"simple\"><path d=\"M118.42,101.14 C114.95,103.57 111.64,105.88 108.81,107.85 \" fill=\"none\" id=\"E2-&gt;E4\" style=\"stroke: #383838; stroke-width: 1.0;\"/><polygon fill=\"#383838\" points=\"104.3,111,113.9709,109.1361,108.4022,108.1413,109.397,102.5726,104.3,111\" style=\"stroke: #383838; stroke-width: 1.0;\"/><text fill=\"#000000\" font-family=\"sans-serif\" font-size=\"13\" lengthAdjust=\"spacingAndGlyphs\" textLength=\"7\" x=\"97.87\" y=\"99.9205\">*</text></a><!--MD5=[af87c684e3b0d8be13c1a698a818ef1e]\n",
       "link E3 to E4--><a href=\"psysml:d5a52d23-3eda-48ed-8e98-b9c24f218910\" target=\"_top\" title=\"psysml:d5a52d23-3eda-48ed-8e98-b9c24f218910\" xlink:actuate=\"onRequest\" xlink:href=\"psysml:d5a52d23-3eda-48ed-8e98-b9c24f218910\" xlink:show=\"new\" xlink:title=\"psysml:d5a52d23-3eda-48ed-8e98-b9c24f218910\" xlink:type=\"simple\"><path d=\"M81.96,101.14 C85.36,103.57 88.6,105.88 91.37,107.85 \" fill=\"none\" id=\"E3-&gt;E4\" style=\"stroke: #383838; stroke-width: 1.0;\"/><polygon fill=\"#383838\" points=\"95.79,111,90.7801,102.5206,91.7175,108.0992,86.1388,109.0366,95.79,111\" style=\"stroke: #383838; stroke-width: 1.0;\"/><text fill=\"#000000\" font-family=\"sans-serif\" font-size=\"13\" lengthAdjust=\"spacingAndGlyphs\" textLength=\"7\" x=\"91.1121\" y=\"103.6092\">*</text></a><!--MD5=[1b7591eae5389033d8d09a9d6721a717]\n",
       "link E4 to E5--><a href=\"psysml:822f1664-72e1-4116-b41f-1c0919a615e0\" target=\"_top\" title=\"psysml:822f1664-72e1-4116-b41f-1c0919a615e0\" xlink:actuate=\"onRequest\" xlink:href=\"psysml:822f1664-72e1-4116-b41f-1c0919a615e0\" xlink:show=\"new\" xlink:title=\"psysml:822f1664-72e1-4116-b41f-1c0919a615e0\" xlink:type=\"simple\"><path d=\"M100,119.08 C100,120.38 100,121.95 100,123.55 \" fill=\"none\" id=\"E4-&gt;E5\" style=\"stroke: #383838; stroke-width: 1.0;\"/><polygon fill=\"#383838\" points=\"100,128.7,104,119.7,100,123.7,96,119.7,100,128.7\" style=\"stroke: #383838; stroke-width: 1.0;\"/><text fill=\"#000000\" font-family=\"sans-serif\" font-size=\"13\" lengthAdjust=\"spacingAndGlyphs\" textLength=\"7\" x=\"42.9663\" y=\"135.9509\">*</text></a><!--MD5=[9120cf2e5df3bff93db8f754bbbc09b4]\n",
       "link E5 to E6--><a href=\"psysml:2360acce-0fc1-431a-bbc0-189c84da742a\" target=\"_top\" title=\"psysml:2360acce-0fc1-431a-bbc0-189c84da742a\" xlink:actuate=\"onRequest\" xlink:href=\"psysml:2360acce-0fc1-431a-bbc0-189c84da742a\" xlink:show=\"new\" xlink:title=\"psysml:2360acce-0fc1-431a-bbc0-189c84da742a\" xlink:type=\"simple\"><path d=\"M95.66,137.09 C93.25,138.81 89.99,141.13 86.35,143.73 \" fill=\"none\" id=\"E5-&gt;E6\" style=\"stroke: #383838; stroke-width: 1.0;\"/><polygon fill=\"#383838\" points=\"81.93,146.88,91.5812,144.9166,86.0025,143.9792,86.9399,138.4006,81.93,146.88\" style=\"stroke: #383838; stroke-width: 1.0;\"/><text fill=\"#000000\" font-family=\"sans-serif\" font-size=\"13\" lengthAdjust=\"spacingAndGlyphs\" textLength=\"7\" x=\"91.0509\" y=\"155.0031\">*</text></a><!--MD5=[3a9b96bfbf6b6ad89c494e81751bda47]\n",
       "link E5 to E7--><a href=\"psysml:ee81c625-3e17-4e8d-972a-76052e7a84e3\" target=\"_top\" title=\"psysml:ee81c625-3e17-4e8d-972a-76052e7a84e3\" xlink:actuate=\"onRequest\" xlink:href=\"psysml:ee81c625-3e17-4e8d-972a-76052e7a84e3\" xlink:show=\"new\" xlink:title=\"psysml:ee81c625-3e17-4e8d-972a-76052e7a84e3\" xlink:type=\"simple\"><path d=\"M104.43,137.09 C106.9,138.81 110.22,141.13 113.94,143.73 \" fill=\"none\" id=\"E5-&gt;E7\" style=\"stroke: #383838; stroke-width: 1.0;\"/><polygon fill=\"#383838\" points=\"118.46,146.88,113.3827,138.4407,114.3645,144.0117,108.7935,144.9935,118.46,146.88\" style=\"stroke: #383838; stroke-width: 1.0;\"/><text fill=\"#000000\" font-family=\"sans-serif\" font-size=\"13\" lengthAdjust=\"spacingAndGlyphs\" textLength=\"7\" x=\"102.9935\" y=\"155.3537\">*</text></a><!--MD5=[c37ea90e3be3766670a39b55f5bc20a2]\n",
       "@startuml\r\n",
       "skinparam ranksep 10\r\n",
       "skinparam rectangle {\r\n",
       " backgroundColor<<block>> LightGreen\r\n",
       "}\r\n",
       "skinparam monochrome true\r\n",
       "skinparam classbackgroundcolor white\r\n",
       "skinparam shadowing false\r\n",
       "skinparam wrapWidth 300\r\n",
       "hide circle\r\n",
       "\r\n",
       "rec def \"ControlNodeTest\" as E1  <<(T,blue) action  def>> [[psysml:06c83ae0-0be1-4108-9f79-6c682626264b ]] {\r\n",
       "rec usage \"A1\" as E2  <<(T,blue) action>> [[psysml:b587d390-d46d-4840-bcaf-beb60201fdea ]] {\r\n",
       "}\r\n",
       "\r\n",
       "rec usage \"A2\" as E3  <<(T,blue) action>> [[psysml:2c010bd6-de88-4dc7-8be6-3edc78c34a31 ]] {\r\n",
       "}\r\n",
       "\r\n",
       "join \"J\" as E4  [[psysml:b80e7b99-08a2-49d6-9359-b424cf684151 ]] \r\n",
       "fork \"F\" as E5  [[psysml:df495c9b-9171-48f9-ac7d-26427115e0f4 ]] \r\n",
       "rec usage \"B1\" as E6  <<(T,blue) action>> [[psysml:b42821ea-70f6-43bd-9a67-84f3e511770a ]] {\r\n",
       "}\r\n",
       "\r\n",
       "rec usage \"B2\" as E7  <<(T,blue) action>> [[psysml:e950d6a4-fdbd-4650-aa0a-2ca4b4e20830 ]] {\r\n",
       "}\r\n",
       "\r\n",
       "}\r\n",
       "\r\n",
       "E2 - -> \"*\"E4 [[psysml:4f9dc8d6-d6e0-48a2-bcc8-8318223d246b ]] \r\n",
       "E3 - -> \"*\"E4 [[psysml:d5a52d23-3eda-48ed-8e98-b9c24f218910 ]] \r\n",
       "E4 - -> \"*\"E5 [[psysml:822f1664-72e1-4116-b41f-1c0919a615e0 ]] \r\n",
       "E5 - -> \"*\"E6 [[psysml:2360acce-0fc1-431a-bbc0-189c84da742a ]] \r\n",
       "E5 - -> \"*\"E7 [[psysml:ee81c625-3e17-4e8d-972a-76052e7a84e3 ]] \r\n",
       "@enduml\r\n",
       "\n",
       "PlantUML version 1.2020.13(Sat Jun 13 12:26:38 UTC 2020)\n",
       "(EPL source distribution)\n",
       "Java Runtime: OpenJDK Runtime Environment\n",
       "JVM: OpenJDK 64-Bit Server VM\n",
       "Default Encoding: UTF-8\n",
       "Language: en\n",
       "Country: null\n",
       "--></g></svg>"
      ]
     },
     "execution_count": 40,
     "metadata": {},
     "output_type": "execute_result"
    }
   ],
   "source": [
    "%viz --style=\"DEFAULT\" --view=\"Interconnection\" \"ControlNodeTest\""
   ]
  },
  {
   "cell_type": "code",
   "execution_count": 41,
   "id": "902931b6",
   "metadata": {
    "execution": {
     "iopub.execute_input": "2022-02-18T10:46:11.832232Z",
     "iopub.status.busy": "2022-02-18T10:46:11.831903Z",
     "iopub.status.idle": "2022-02-18T10:46:11.861226Z",
     "shell.execute_reply": "2022-02-18T10:46:11.860878Z"
    }
   },
   "outputs": [
    {
     "data": {
      "image/svg+xml": [
       "<?xml version=\"1.0\" encoding=\"UTF-8\" standalone=\"no\"?><svg xmlns=\"http://www.w3.org/2000/svg\" xmlns:xlink=\"http://www.w3.org/1999/xlink\" contentScriptType=\"application/ecmascript\" contentStyleType=\"text/css\" height=\"211px\" preserveAspectRatio=\"none\" style=\"width:205px;height:211px;\" version=\"1.1\" viewBox=\"0 0 205 211\" width=\"205px\" zoomAndPan=\"magnify\"><defs/><g><!--MD5=[fbc87193dbaf4d95561dea2c320d4a47]\n",
       "cluster E1--><a href=\"psysml:06c83ae0-0be1-4108-9f79-6c682626264b\" target=\"_top\" title=\"psysml:06c83ae0-0be1-4108-9f79-6c682626264b\" xlink:actuate=\"onRequest\" xlink:href=\"psysml:06c83ae0-0be1-4108-9f79-6c682626264b\" xlink:show=\"new\" xlink:title=\"psysml:06c83ae0-0be1-4108-9f79-6c682626264b\" xlink:type=\"simple\"><rect fill=\"#FFFFFF\" height=\"193\" id=\"E1\" style=\"stroke: #383838; stroke-width: 1.5;\" width=\"187\" x=\"7\" y=\"7\"/><rect fill=\"#F8F8F8\" height=\"37.9375\" style=\"stroke: #383838; stroke-width: 1.5;\" width=\"187\" x=\"7\" y=\"7\"/><text fill=\"#000000\" font-family=\"sans-serif\" font-size=\"12\" font-style=\"italic\" lengthAdjust=\"spacingAndGlyphs\" textLength=\"81\" x=\"60\" y=\"23.1387\">«action  def»</text><text fill=\"#000000\" font-family=\"sans-serif\" font-size=\"12\" lengthAdjust=\"spacingAndGlyphs\" textLength=\"105\" x=\"48\" y=\"37.1074\">ControlNodeTest</text></a><rect fill=\"#000000\" height=\"8\" style=\"stroke: none; stroke-width: 1.0;\" width=\"80\" x=\"60\" y=\"109\"/><rect fill=\"#000000\" height=\"8\" style=\"stroke: none; stroke-width: 1.0;\" width=\"80\" x=\"60\" y=\"125\"/><g id=\"E1.E2\"><a href=\"psysml:b587d390-d46d-4840-bcaf-beb60201fdea\" target=\"_top\" title=\"psysml:b587d390-d46d-4840-bcaf-beb60201fdea\" xlink:actuate=\"onRequest\" xlink:href=\"psysml:b587d390-d46d-4840-bcaf-beb60201fdea\" xlink:show=\"new\" xlink:title=\"psysml:b587d390-d46d-4840-bcaf-beb60201fdea\" xlink:type=\"simple\"><rect fill=\"#FFFFFF\" height=\"42.9375\" id=\"E2\" rx=\"10\" ry=\"10\" style=\"stroke: #383838; stroke-width: 1.5;\" width=\"60\" x=\"118\" y=\"58\"/><rect fill=\"#F8F8F8\" height=\"37.9375\" rx=\"10\" ry=\"10\" style=\"stroke: #F8F8F8; stroke-width: 1.5;\" width=\"60\" x=\"118\" y=\"58\"/><rect fill=\"#F8F8F8\" height=\"10\" style=\"stroke: #F8F8F8; stroke-width: 1.5;\" width=\"60\" x=\"118\" y=\"85.9375\"/><rect fill=\"none\" height=\"42.9375\" id=\"E2\" rx=\"10\" ry=\"10\" style=\"stroke: #383838; stroke-width: 1.5;\" width=\"60\" x=\"118\" y=\"58\"/><text fill=\"#000000\" font-family=\"sans-serif\" font-size=\"12\" font-style=\"italic\" lengthAdjust=\"spacingAndGlyphs\" textLength=\"53\" x=\"121.5\" y=\"74.1387\">«action»</text><text fill=\"#000000\" font-family=\"sans-serif\" font-size=\"12\" lengthAdjust=\"spacingAndGlyphs\" textLength=\"16\" x=\"140\" y=\"88.1074\">A1</text></a></g><g id=\"E1.E3\"><a href=\"psysml:2c010bd6-de88-4dc7-8be6-3edc78c34a31\" target=\"_top\" title=\"psysml:2c010bd6-de88-4dc7-8be6-3edc78c34a31\" xlink:actuate=\"onRequest\" xlink:href=\"psysml:2c010bd6-de88-4dc7-8be6-3edc78c34a31\" xlink:show=\"new\" xlink:title=\"psysml:2c010bd6-de88-4dc7-8be6-3edc78c34a31\" xlink:type=\"simple\"><rect fill=\"#FFFFFF\" height=\"42.9375\" id=\"E3\" rx=\"10\" ry=\"10\" style=\"stroke: #383838; stroke-width: 1.5;\" width=\"60\" x=\"23\" y=\"58\"/><rect fill=\"#F8F8F8\" height=\"37.9375\" rx=\"10\" ry=\"10\" style=\"stroke: #F8F8F8; stroke-width: 1.5;\" width=\"60\" x=\"23\" y=\"58\"/><rect fill=\"#F8F8F8\" height=\"10\" style=\"stroke: #F8F8F8; stroke-width: 1.5;\" width=\"60\" x=\"23\" y=\"85.9375\"/><rect fill=\"none\" height=\"42.9375\" id=\"E3\" rx=\"10\" ry=\"10\" style=\"stroke: #383838; stroke-width: 1.5;\" width=\"60\" x=\"23\" y=\"58\"/><text fill=\"#000000\" font-family=\"sans-serif\" font-size=\"12\" font-style=\"italic\" lengthAdjust=\"spacingAndGlyphs\" textLength=\"53\" x=\"26.5\" y=\"74.1387\">«action»</text><text fill=\"#000000\" font-family=\"sans-serif\" font-size=\"12\" lengthAdjust=\"spacingAndGlyphs\" textLength=\"16\" x=\"45\" y=\"88.1074\">A2</text></a></g><g id=\"E1.E6\"><a href=\"psysml:b42821ea-70f6-43bd-9a67-84f3e511770a\" target=\"_top\" title=\"psysml:b42821ea-70f6-43bd-9a67-84f3e511770a\" xlink:actuate=\"onRequest\" xlink:href=\"psysml:b42821ea-70f6-43bd-9a67-84f3e511770a\" xlink:show=\"new\" xlink:title=\"psysml:b42821ea-70f6-43bd-9a67-84f3e511770a\" xlink:type=\"simple\"><rect fill=\"#FFFFFF\" height=\"42.9375\" id=\"E6\" rx=\"10\" ry=\"10\" style=\"stroke: #383838; stroke-width: 1.5;\" width=\"60\" x=\"23\" y=\"141\"/><rect fill=\"#F8F8F8\" height=\"37.9375\" rx=\"10\" ry=\"10\" style=\"stroke: #F8F8F8; stroke-width: 1.5;\" width=\"60\" x=\"23\" y=\"141\"/><rect fill=\"#F8F8F8\" height=\"10\" style=\"stroke: #F8F8F8; stroke-width: 1.5;\" width=\"60\" x=\"23\" y=\"168.9375\"/><rect fill=\"none\" height=\"42.9375\" id=\"E6\" rx=\"10\" ry=\"10\" style=\"stroke: #383838; stroke-width: 1.5;\" width=\"60\" x=\"23\" y=\"141\"/><text fill=\"#000000\" font-family=\"sans-serif\" font-size=\"12\" font-style=\"italic\" lengthAdjust=\"spacingAndGlyphs\" textLength=\"53\" x=\"26.5\" y=\"157.1387\">«action»</text><text fill=\"#000000\" font-family=\"sans-serif\" font-size=\"12\" lengthAdjust=\"spacingAndGlyphs\" textLength=\"16\" x=\"45\" y=\"171.1074\">B1</text></a></g><g id=\"E1.E7\"><a href=\"psysml:e950d6a4-fdbd-4650-aa0a-2ca4b4e20830\" target=\"_top\" title=\"psysml:e950d6a4-fdbd-4650-aa0a-2ca4b4e20830\" xlink:actuate=\"onRequest\" xlink:href=\"psysml:e950d6a4-fdbd-4650-aa0a-2ca4b4e20830\" xlink:show=\"new\" xlink:title=\"psysml:e950d6a4-fdbd-4650-aa0a-2ca4b4e20830\" xlink:type=\"simple\"><rect fill=\"#FFFFFF\" height=\"42.9375\" id=\"E7\" rx=\"10\" ry=\"10\" style=\"stroke: #383838; stroke-width: 1.5;\" width=\"60\" x=\"118\" y=\"141\"/><rect fill=\"#F8F8F8\" height=\"37.9375\" rx=\"10\" ry=\"10\" style=\"stroke: #F8F8F8; stroke-width: 1.5;\" width=\"60\" x=\"118\" y=\"141\"/><rect fill=\"#F8F8F8\" height=\"10\" style=\"stroke: #F8F8F8; stroke-width: 1.5;\" width=\"60\" x=\"118\" y=\"168.9375\"/><rect fill=\"none\" height=\"42.9375\" id=\"E7\" rx=\"10\" ry=\"10\" style=\"stroke: #383838; stroke-width: 1.5;\" width=\"60\" x=\"118\" y=\"141\"/><text fill=\"#000000\" font-family=\"sans-serif\" font-size=\"12\" font-style=\"italic\" lengthAdjust=\"spacingAndGlyphs\" textLength=\"53\" x=\"121.5\" y=\"157.1387\">«action»</text><text fill=\"#000000\" font-family=\"sans-serif\" font-size=\"12\" lengthAdjust=\"spacingAndGlyphs\" textLength=\"16\" x=\"140\" y=\"171.1074\">B2</text></a></g><!--MD5=[4d03bb2d0377dc85ccfab60ff574652b]\n",
       "link E2 to E4--><a href=\"psysml:4f9dc8d6-d6e0-48a2-bcc8-8318223d246b\" target=\"_top\" title=\"psysml:4f9dc8d6-d6e0-48a2-bcc8-8318223d246b\" xlink:actuate=\"onRequest\" xlink:href=\"psysml:4f9dc8d6-d6e0-48a2-bcc8-8318223d246b\" xlink:show=\"new\" xlink:title=\"psysml:4f9dc8d6-d6e0-48a2-bcc8-8318223d246b\" xlink:type=\"simple\"><path d=\"M117.87,100.27 C114.67,102.37 111.63,104.37 108.98,106.1 \" fill=\"none\" id=\"E2-&gt;E4\" style=\"stroke: #383838; stroke-width: 1.0; stroke-dasharray: 7.0,7.0;\"/><polygon fill=\"#383838\" points=\"104.72,108.9,114.4401,107.3128,108.9021,106.1595,110.0554,100.6215,104.72,108.9\" style=\"stroke: #383838; stroke-width: 1.0;\"/></a><!--MD5=[af87c684e3b0d8be13c1a698a818ef1e]\n",
       "link E3 to E4--><a href=\"psysml:d5a52d23-3eda-48ed-8e98-b9c24f218910\" target=\"_top\" title=\"psysml:d5a52d23-3eda-48ed-8e98-b9c24f218910\" xlink:actuate=\"onRequest\" xlink:href=\"psysml:d5a52d23-3eda-48ed-8e98-b9c24f218910\" xlink:show=\"new\" xlink:title=\"psysml:d5a52d23-3eda-48ed-8e98-b9c24f218910\" xlink:type=\"simple\"><path d=\"M83.03,100.63 C85.85,102.52 88.54,104.32 90.9,105.9 \" fill=\"none\" id=\"E3-&gt;E4\" style=\"stroke: #383838; stroke-width: 1.0; stroke-dasharray: 7.0,7.0;\"/><polygon fill=\"#383838\" points=\"95.26,108.82,90.0101,100.487,91.1063,106.0366,85.5567,107.1328,95.26,108.82\" style=\"stroke: #383838; stroke-width: 1.0;\"/></a><!--MD5=[1b7591eae5389033d8d09a9d6721a717]\n",
       "link E4 to E5--><a href=\"psysml:822f1664-72e1-4116-b41f-1c0919a615e0\" target=\"_top\" title=\"psysml:822f1664-72e1-4116-b41f-1c0919a615e0\" xlink:actuate=\"onRequest\" xlink:href=\"psysml:822f1664-72e1-4116-b41f-1c0919a615e0\" xlink:show=\"new\" xlink:title=\"psysml:822f1664-72e1-4116-b41f-1c0919a615e0\" xlink:type=\"simple\"><path d=\"M100,117.25 C100,118.05 100,118.94 100,119.86 \" fill=\"none\" id=\"E4-&gt;E5\" style=\"stroke: #383838; stroke-width: 1.0; stroke-dasharray: 7.0,7.0;\"/><polygon fill=\"#383838\" points=\"100,124.96,104,115.96,100,119.96,96,115.96,100,124.96\" style=\"stroke: #383838; stroke-width: 1.0;\"/></a><!--MD5=[9120cf2e5df3bff93db8f754bbbc09b4]\n",
       "link E5 to E6--><a href=\"psysml:2360acce-0fc1-431a-bbc0-189c84da742a\" target=\"_top\" title=\"psysml:2360acce-0fc1-431a-bbc0-189c84da742a\" xlink:actuate=\"onRequest\" xlink:href=\"psysml:2360acce-0fc1-431a-bbc0-189c84da742a\" xlink:show=\"new\" xlink:title=\"psysml:2360acce-0fc1-431a-bbc0-189c84da742a\" xlink:type=\"simple\"><path d=\"M95.32,133.14 C93.21,134.55 90.52,136.35 87.53,138.36 \" fill=\"none\" id=\"E5-&gt;E6\" style=\"stroke: #383838; stroke-width: 1.0; stroke-dasharray: 7.0,7.0;\"/><polygon fill=\"#383838\" points=\"83.27,141.21,92.9706,139.5074,87.4192,138.42,88.5066,132.8687,83.27,141.21\" style=\"stroke: #383838; stroke-width: 1.0;\"/></a><!--MD5=[3a9b96bfbf6b6ad89c494e81751bda47]\n",
       "link E5 to E7--><a href=\"psysml:ee81c625-3e17-4e8d-972a-76052e7a84e3\" target=\"_top\" title=\"psysml:ee81c625-3e17-4e8d-972a-76052e7a84e3\" xlink:actuate=\"onRequest\" xlink:href=\"psysml:ee81c625-3e17-4e8d-972a-76052e7a84e3\" xlink:show=\"new\" xlink:title=\"psysml:ee81c625-3e17-4e8d-972a-76052e7a84e3\" xlink:type=\"simple\"><path d=\"M104.78,133.14 C107.16,134.7 110.28,136.75 113.75,139.02 \" fill=\"none\" id=\"E5-&gt;E7\" style=\"stroke: #383838; stroke-width: 1.0; stroke-dasharray: 7.0,7.0;\"/><polygon fill=\"#383838\" points=\"117.96,141.79,112.6246,133.5115,113.7779,139.0495,108.2399,140.2028,117.96,141.79\" style=\"stroke: #383838; stroke-width: 1.0;\"/></a><!--MD5=[1be813f4090c30e3dedca72da8fba245]\n",
       "@startuml\r\n",
       "skinparam ranksep 8\r\n",
       "skinparam monochrome true\r\n",
       "skinparam classbackgroundcolor white\r\n",
       "skinparam shadowing false\r\n",
       "skinparam wrapWidth 300\r\n",
       "hide circle\r\n",
       "\r\n",
       "rec def \"ControlNodeTest\" as E1  <<(T,blue) action  def>> [[psysml:06c83ae0-0be1-4108-9f79-6c682626264b ]] {\r\n",
       "rec usage \"A1\" as E2  <<(T,blue) action>> [[psysml:b587d390-d46d-4840-bcaf-beb60201fdea ]] {\r\n",
       "}\r\n",
       "\r\n",
       "rec usage \"A2\" as E3  <<(T,blue) action>> [[psysml:2c010bd6-de88-4dc7-8be6-3edc78c34a31 ]] {\r\n",
       "}\r\n",
       "\r\n",
       "join \"J\" as E4  [[psysml:b80e7b99-08a2-49d6-9359-b424cf684151 ]] \r\n",
       "fork \"F\" as E5  [[psysml:df495c9b-9171-48f9-ac7d-26427115e0f4 ]] \r\n",
       "rec usage \"B1\" as E6  <<(T,blue) action>> [[psysml:b42821ea-70f6-43bd-9a67-84f3e511770a ]] {\r\n",
       "}\r\n",
       "\r\n",
       "rec usage \"B2\" as E7  <<(T,blue) action>> [[psysml:e950d6a4-fdbd-4650-aa0a-2ca4b4e20830 ]] {\r\n",
       "}\r\n",
       "\r\n",
       "}\r\n",
       "\r\n",
       "E2 ..> E4 [[psysml:4f9dc8d6-d6e0-48a2-bcc8-8318223d246b ]] \r\n",
       "E3 ..> E4 [[psysml:d5a52d23-3eda-48ed-8e98-b9c24f218910 ]] \r\n",
       "E4 ..> E5 [[psysml:822f1664-72e1-4116-b41f-1c0919a615e0 ]] \r\n",
       "E5 ..> E6 [[psysml:2360acce-0fc1-431a-bbc0-189c84da742a ]] \r\n",
       "E5 ..> E7 [[psysml:ee81c625-3e17-4e8d-972a-76052e7a84e3 ]] \r\n",
       "@enduml\r\n",
       "\n",
       "PlantUML version 1.2020.13(Sat Jun 13 12:26:38 UTC 2020)\n",
       "(EPL source distribution)\n",
       "Java Runtime: OpenJDK Runtime Environment\n",
       "JVM: OpenJDK 64-Bit Server VM\n",
       "Default Encoding: UTF-8\n",
       "Language: en\n",
       "Country: null\n",
       "--></g></svg>"
      ]
     },
     "execution_count": 41,
     "metadata": {},
     "output_type": "execute_result"
    }
   ],
   "source": [
    "%viz --style=\"DEFAULT\" --view=\"Action\" \"ControlNodeTest\""
   ]
  },
  {
   "cell_type": "code",
   "execution_count": 42,
   "id": "ada779c0",
   "metadata": {
    "execution": {
     "iopub.execute_input": "2022-02-18T10:46:11.910578Z",
     "iopub.status.busy": "2022-02-18T10:46:11.910344Z",
     "iopub.status.idle": "2022-02-18T10:46:11.915056Z",
     "shell.execute_reply": "2022-02-18T10:46:11.915245Z"
    }
   },
   "outputs": [
    {
     "data": {
      "image/svg+xml": [
       "<?xml version=\"1.0\" encoding=\"UTF-8\" standalone=\"no\"?><svg xmlns=\"http://www.w3.org/2000/svg\" xmlns:xlink=\"http://www.w3.org/1999/xlink\" contentScriptType=\"application/ecmascript\" contentStyleType=\"text/css\" height=\"12px\" preserveAspectRatio=\"none\" style=\"width:12px;height:12px;\" version=\"1.1\" viewBox=\"0 0 12 12\" width=\"12px\" zoomAndPan=\"magnify\"><defs/><g><!--MD5=[0b72472770326784bf6c2b53246e1e64]\n",
       "@startuml\r\n",
       "skinparam roundcorner 20\r\n",
       "skinparam BoxPadding 20\r\n",
       "skinparam SequenceBoxBackgroundColor #white\r\n",
       "skinparam style strictuml\r\n",
       "skinparam maxMessageSize 100\r\n",
       "skinparam monochrome true\r\n",
       "skinparam classbackgroundcolor white\r\n",
       "skinparam shadowing false\r\n",
       "skinparam wrapWidth 300\r\n",
       "hide circle\r\n",
       "\r\n",
       "@enduml\r\n",
       "\n",
       "PlantUML version 1.2020.13(Sat Jun 13 12:26:38 UTC 2020)\n",
       "(EPL source distribution)\n",
       "Java Runtime: OpenJDK Runtime Environment\n",
       "JVM: OpenJDK 64-Bit Server VM\n",
       "Default Encoding: UTF-8\n",
       "Language: en\n",
       "Country: null\n",
       "--></g></svg>"
      ]
     },
     "execution_count": 42,
     "metadata": {},
     "output_type": "execute_result"
    }
   ],
   "source": [
    "%viz --style=\"DEFAULT\" --view=\"Sequence\" \"ControlNodeTest\""
   ]
  },
  {
   "cell_type": "code",
   "execution_count": 43,
   "id": "070f496f",
   "metadata": {
    "execution": {
     "iopub.execute_input": "2022-02-18T10:46:11.965437Z",
     "iopub.status.busy": "2022-02-18T10:46:11.965196Z",
     "iopub.status.idle": "2022-02-18T10:46:11.996341Z",
     "shell.execute_reply": "2022-02-18T10:46:11.996058Z"
    }
   },
   "outputs": [
    {
     "data": {
      "image/svg+xml": [
       "<?xml version=\"1.0\" encoding=\"UTF-8\" standalone=\"no\"?><svg xmlns=\"http://www.w3.org/2000/svg\" xmlns:xlink=\"http://www.w3.org/1999/xlink\" contentScriptType=\"application/ecmascript\" contentStyleType=\"text/css\" height=\"367px\" preserveAspectRatio=\"none\" style=\"width:205px;height:367px;\" version=\"1.1\" viewBox=\"0 0 205 367\" width=\"205px\" zoomAndPan=\"magnify\"><defs/><g><!--MD5=[fbc87193dbaf4d95561dea2c320d4a47]\n",
       "cluster E1--><a href=\"psysml:06c83ae0-0be1-4108-9f79-6c682626264b\" target=\"_top\" title=\"psysml:06c83ae0-0be1-4108-9f79-6c682626264b\" xlink:actuate=\"onRequest\" xlink:href=\"psysml:06c83ae0-0be1-4108-9f79-6c682626264b\" xlink:show=\"new\" xlink:title=\"psysml:06c83ae0-0be1-4108-9f79-6c682626264b\" xlink:type=\"simple\"><rect fill=\"#FFFFFF\" height=\"349\" id=\"E1\" style=\"stroke: #383838; stroke-width: 1.5;\" width=\"187\" x=\"7\" y=\"7\"/><rect fill=\"#F8F8F8\" height=\"37.9375\" style=\"stroke: #383838; stroke-width: 1.5;\" width=\"187\" x=\"7\" y=\"7\"/><text fill=\"#000000\" font-family=\"sans-serif\" font-size=\"12\" font-style=\"italic\" lengthAdjust=\"spacingAndGlyphs\" textLength=\"81\" x=\"60\" y=\"23.1387\">«action  def»</text><text fill=\"#000000\" font-family=\"sans-serif\" font-size=\"12\" lengthAdjust=\"spacingAndGlyphs\" textLength=\"105\" x=\"48\" y=\"37.1074\">ControlNodeTest</text></a><rect fill=\"#000000\" height=\"8\" style=\"stroke: none; stroke-width: 1.0;\" width=\"80\" x=\"60\" y=\"161\"/><rect fill=\"#000000\" height=\"8\" style=\"stroke: none; stroke-width: 1.0;\" width=\"80\" x=\"60\" y=\"229\"/><g id=\"E1.E2\"><a href=\"psysml:b587d390-d46d-4840-bcaf-beb60201fdea\" target=\"_top\" title=\"psysml:b587d390-d46d-4840-bcaf-beb60201fdea\" xlink:actuate=\"onRequest\" xlink:href=\"psysml:b587d390-d46d-4840-bcaf-beb60201fdea\" xlink:show=\"new\" xlink:title=\"psysml:b587d390-d46d-4840-bcaf-beb60201fdea\" xlink:type=\"simple\"><rect fill=\"#FFFFFF\" height=\"42.9375\" id=\"E2\" rx=\"10\" ry=\"10\" style=\"stroke: #383838; stroke-width: 1.5;\" width=\"60\" x=\"118\" y=\"58\"/><rect fill=\"#F8F8F8\" height=\"37.9375\" rx=\"10\" ry=\"10\" style=\"stroke: #F8F8F8; stroke-width: 1.5;\" width=\"60\" x=\"118\" y=\"58\"/><rect fill=\"#F8F8F8\" height=\"10\" style=\"stroke: #F8F8F8; stroke-width: 1.5;\" width=\"60\" x=\"118\" y=\"85.9375\"/><rect fill=\"none\" height=\"42.9375\" id=\"E2\" rx=\"10\" ry=\"10\" style=\"stroke: #383838; stroke-width: 1.5;\" width=\"60\" x=\"118\" y=\"58\"/><text fill=\"#000000\" font-family=\"sans-serif\" font-size=\"12\" font-style=\"italic\" lengthAdjust=\"spacingAndGlyphs\" textLength=\"53\" x=\"121.5\" y=\"74.1387\">«action»</text><text fill=\"#000000\" font-family=\"sans-serif\" font-size=\"12\" lengthAdjust=\"spacingAndGlyphs\" textLength=\"16\" x=\"140\" y=\"88.1074\">A1</text></a></g><g id=\"E1.E3\"><a href=\"psysml:2c010bd6-de88-4dc7-8be6-3edc78c34a31\" target=\"_top\" title=\"psysml:2c010bd6-de88-4dc7-8be6-3edc78c34a31\" xlink:actuate=\"onRequest\" xlink:href=\"psysml:2c010bd6-de88-4dc7-8be6-3edc78c34a31\" xlink:show=\"new\" xlink:title=\"psysml:2c010bd6-de88-4dc7-8be6-3edc78c34a31\" xlink:type=\"simple\"><rect fill=\"#FFFFFF\" height=\"42.9375\" id=\"E3\" rx=\"10\" ry=\"10\" style=\"stroke: #383838; stroke-width: 1.5;\" width=\"60\" x=\"23\" y=\"58\"/><rect fill=\"#F8F8F8\" height=\"37.9375\" rx=\"10\" ry=\"10\" style=\"stroke: #F8F8F8; stroke-width: 1.5;\" width=\"60\" x=\"23\" y=\"58\"/><rect fill=\"#F8F8F8\" height=\"10\" style=\"stroke: #F8F8F8; stroke-width: 1.5;\" width=\"60\" x=\"23\" y=\"85.9375\"/><rect fill=\"none\" height=\"42.9375\" id=\"E3\" rx=\"10\" ry=\"10\" style=\"stroke: #383838; stroke-width: 1.5;\" width=\"60\" x=\"23\" y=\"58\"/><text fill=\"#000000\" font-family=\"sans-serif\" font-size=\"12\" font-style=\"italic\" lengthAdjust=\"spacingAndGlyphs\" textLength=\"53\" x=\"26.5\" y=\"74.1387\">«action»</text><text fill=\"#000000\" font-family=\"sans-serif\" font-size=\"12\" lengthAdjust=\"spacingAndGlyphs\" textLength=\"16\" x=\"45\" y=\"88.1074\">A2</text></a></g><g id=\"E1.E6\"><a href=\"psysml:b42821ea-70f6-43bd-9a67-84f3e511770a\" target=\"_top\" title=\"psysml:b42821ea-70f6-43bd-9a67-84f3e511770a\" xlink:actuate=\"onRequest\" xlink:href=\"psysml:b42821ea-70f6-43bd-9a67-84f3e511770a\" xlink:show=\"new\" xlink:title=\"psysml:b42821ea-70f6-43bd-9a67-84f3e511770a\" xlink:type=\"simple\"><rect fill=\"#FFFFFF\" height=\"42.9375\" id=\"E6\" rx=\"10\" ry=\"10\" style=\"stroke: #383838; stroke-width: 1.5;\" width=\"60\" x=\"23\" y=\"297\"/><rect fill=\"#F8F8F8\" height=\"37.9375\" rx=\"10\" ry=\"10\" style=\"stroke: #F8F8F8; stroke-width: 1.5;\" width=\"60\" x=\"23\" y=\"297\"/><rect fill=\"#F8F8F8\" height=\"10\" style=\"stroke: #F8F8F8; stroke-width: 1.5;\" width=\"60\" x=\"23\" y=\"324.9375\"/><rect fill=\"none\" height=\"42.9375\" id=\"E6\" rx=\"10\" ry=\"10\" style=\"stroke: #383838; stroke-width: 1.5;\" width=\"60\" x=\"23\" y=\"297\"/><text fill=\"#000000\" font-family=\"sans-serif\" font-size=\"12\" font-style=\"italic\" lengthAdjust=\"spacingAndGlyphs\" textLength=\"53\" x=\"26.5\" y=\"313.1387\">«action»</text><text fill=\"#000000\" font-family=\"sans-serif\" font-size=\"12\" lengthAdjust=\"spacingAndGlyphs\" textLength=\"16\" x=\"45\" y=\"327.1074\">B1</text></a></g><g id=\"E1.E7\"><a href=\"psysml:e950d6a4-fdbd-4650-aa0a-2ca4b4e20830\" target=\"_top\" title=\"psysml:e950d6a4-fdbd-4650-aa0a-2ca4b4e20830\" xlink:actuate=\"onRequest\" xlink:href=\"psysml:e950d6a4-fdbd-4650-aa0a-2ca4b4e20830\" xlink:show=\"new\" xlink:title=\"psysml:e950d6a4-fdbd-4650-aa0a-2ca4b4e20830\" xlink:type=\"simple\"><rect fill=\"#FFFFFF\" height=\"42.9375\" id=\"E7\" rx=\"10\" ry=\"10\" style=\"stroke: #383838; stroke-width: 1.5;\" width=\"60\" x=\"118\" y=\"297\"/><rect fill=\"#F8F8F8\" height=\"37.9375\" rx=\"10\" ry=\"10\" style=\"stroke: #F8F8F8; stroke-width: 1.5;\" width=\"60\" x=\"118\" y=\"297\"/><rect fill=\"#F8F8F8\" height=\"10\" style=\"stroke: #F8F8F8; stroke-width: 1.5;\" width=\"60\" x=\"118\" y=\"324.9375\"/><rect fill=\"none\" height=\"42.9375\" id=\"E7\" rx=\"10\" ry=\"10\" style=\"stroke: #383838; stroke-width: 1.5;\" width=\"60\" x=\"118\" y=\"297\"/><text fill=\"#000000\" font-family=\"sans-serif\" font-size=\"12\" font-style=\"italic\" lengthAdjust=\"spacingAndGlyphs\" textLength=\"53\" x=\"121.5\" y=\"313.1387\">«action»</text><text fill=\"#000000\" font-family=\"sans-serif\" font-size=\"12\" lengthAdjust=\"spacingAndGlyphs\" textLength=\"16\" x=\"140\" y=\"327.1074\">B2</text></a></g><!--MD5=[4d03bb2d0377dc85ccfab60ff574652b]\n",
       "link E2 to E4--><a href=\"psysml:4f9dc8d6-d6e0-48a2-bcc8-8318223d246b\" target=\"_top\" title=\"psysml:4f9dc8d6-d6e0-48a2-bcc8-8318223d246b\" xlink:actuate=\"onRequest\" xlink:href=\"psysml:4f9dc8d6-d6e0-48a2-bcc8-8318223d246b\" xlink:show=\"new\" xlink:title=\"psysml:4f9dc8d6-d6e0-48a2-bcc8-8318223d246b\" xlink:type=\"simple\"><path d=\"M136.13,101.14 C125.84,119.06 111.49,144.01 104.37,156.4 \" fill=\"none\" id=\"E2-&gt;E4\" style=\"stroke: #383838; stroke-width: 1.0;\"/><polygon fill=\"#383838\" points=\"101.79,160.88,109.7406,155.0673,104.2799,156.5441,102.8031,151.0834,101.79,160.88\" style=\"stroke: #383838; stroke-width: 1.0;\"/><text fill=\"#000000\" font-family=\"sans-serif\" font-size=\"13\" lengthAdjust=\"spacingAndGlyphs\" textLength=\"7\" x=\"93.6144\" y=\"150.0038\">*</text></a><!--MD5=[af87c684e3b0d8be13c1a698a818ef1e]\n",
       "link E3 to E4--><a href=\"psysml:d5a52d23-3eda-48ed-8e98-b9c24f218910\" target=\"_top\" title=\"psysml:d5a52d23-3eda-48ed-8e98-b9c24f218910\" xlink:actuate=\"onRequest\" xlink:href=\"psysml:d5a52d23-3eda-48ed-8e98-b9c24f218910\" xlink:show=\"new\" xlink:title=\"psysml:d5a52d23-3eda-48ed-8e98-b9c24f218910\" xlink:type=\"simple\"><path d=\"M64.62,101.14 C74.7,119.06 88.75,144.01 95.72,156.4 \" fill=\"none\" id=\"E3-&gt;E4\" style=\"stroke: #383838; stroke-width: 1.0;\"/><polygon fill=\"#383838\" points=\"98.25,160.88,97.3377,151.0735,95.8048,156.5187,90.3596,154.9858,98.25,160.88\" style=\"stroke: #383838; stroke-width: 1.0;\"/><text fill=\"#000000\" font-family=\"sans-serif\" font-size=\"13\" lengthAdjust=\"spacingAndGlyphs\" textLength=\"7\" x=\"99.4531\" y=\"150.0038\">*</text></a><!--MD5=[1b7591eae5389033d8d09a9d6721a717]\n",
       "link E4 to E5--><a href=\"psysml:822f1664-72e1-4116-b41f-1c0919a615e0\" target=\"_top\" title=\"psysml:822f1664-72e1-4116-b41f-1c0919a615e0\" xlink:actuate=\"onRequest\" xlink:href=\"psysml:822f1664-72e1-4116-b41f-1c0919a615e0\" xlink:show=\"new\" xlink:title=\"psysml:822f1664-72e1-4116-b41f-1c0919a615e0\" xlink:type=\"simple\"><path d=\"M100,169.18 C100,178.92 100,208.52 100,223.34 \" fill=\"none\" id=\"E4-&gt;E5\" style=\"stroke: #383838; stroke-width: 1.0;\"/><polygon fill=\"#383838\" points=\"100,228.69,104,219.69,100,223.69,96,219.69,100,228.69\" style=\"stroke: #383838; stroke-width: 1.0;\"/><text fill=\"#000000\" font-family=\"sans-serif\" font-size=\"13\" lengthAdjust=\"spacingAndGlyphs\" textLength=\"7\" x=\"90.6813\" y=\"217.9768\">*</text></a><!--MD5=[9120cf2e5df3bff93db8f754bbbc09b4]\n",
       "link E5 to E6--><a href=\"psysml:2360acce-0fc1-431a-bbc0-189c84da742a\" target=\"_top\" title=\"psysml:2360acce-0fc1-431a-bbc0-189c84da742a\" xlink:actuate=\"onRequest\" xlink:href=\"psysml:2360acce-0fc1-431a-bbc0-189c84da742a\" xlink:show=\"new\" xlink:title=\"psysml:2360acce-0fc1-431a-bbc0-189c84da742a\" xlink:type=\"simple\"><path d=\"M98.21,237.17 C93.16,246.14 78.41,272.36 67.11,292.43 \" fill=\"none\" id=\"E5-&gt;E6\" style=\"stroke: #383838; stroke-width: 1.0;\"/><polygon fill=\"#383838\" points=\"64.61,296.87,72.5151,290.9955,67.0661,292.5148,65.5467,287.0658,64.61,296.87\" style=\"stroke: #383838; stroke-width: 1.0;\"/><text fill=\"#000000\" font-family=\"sans-serif\" font-size=\"13\" lengthAdjust=\"spacingAndGlyphs\" textLength=\"7\" x=\"59.8909\" y=\"285.7715\">*</text></a><!--MD5=[3a9b96bfbf6b6ad89c494e81751bda47]\n",
       "link E5 to E7--><a href=\"psysml:ee81c625-3e17-4e8d-972a-76052e7a84e3\" target=\"_top\" title=\"psysml:ee81c625-3e17-4e8d-972a-76052e7a84e3\" xlink:actuate=\"onRequest\" xlink:href=\"psysml:ee81c625-3e17-4e8d-972a-76052e7a84e3\" xlink:show=\"new\" xlink:title=\"psysml:ee81c625-3e17-4e8d-972a-76052e7a84e3\" xlink:type=\"simple\"><path d=\"M101.82,237.17 C106.98,246.14 122.05,272.36 133.59,292.43 \" fill=\"none\" id=\"E5-&gt;E7\" style=\"stroke: #383838; stroke-width: 1.0;\"/><polygon fill=\"#383838\" points=\"136.14,296.87,135.1269,287.0734,133.6501,292.5341,128.1894,291.0573,136.14,296.87\" style=\"stroke: #383838; stroke-width: 1.0;\"/><text fill=\"#000000\" font-family=\"sans-serif\" font-size=\"13\" lengthAdjust=\"spacingAndGlyphs\" textLength=\"7\" x=\"124.82\" y=\"285.7715\">*</text></a><!--MD5=[236ed2c69e93091154894ef51a4f5f97]\n",
       "@startuml\r\n",
       "skinparam monochrome true\r\n",
       "skinparam classbackgroundcolor white\r\n",
       "skinparam shadowing false\r\n",
       "skinparam wrapWidth 300\r\n",
       "hide circle\r\n",
       "\r\n",
       "rec def \"ControlNodeTest\" as E1  <<(T,blue) action  def>> [[psysml:06c83ae0-0be1-4108-9f79-6c682626264b ]] {\r\n",
       "rec usage \"A1\" as E2  <<(T,blue) action>> [[psysml:b587d390-d46d-4840-bcaf-beb60201fdea ]] {\r\n",
       "}\r\n",
       "\r\n",
       "rec usage \"A2\" as E3  <<(T,blue) action>> [[psysml:2c010bd6-de88-4dc7-8be6-3edc78c34a31 ]] {\r\n",
       "}\r\n",
       "\r\n",
       "join \"J\" as E4  [[psysml:b80e7b99-08a2-49d6-9359-b424cf684151 ]] \r\n",
       "fork \"F\" as E5  [[psysml:df495c9b-9171-48f9-ac7d-26427115e0f4 ]] \r\n",
       "rec usage \"B1\" as E6  <<(T,blue) action>> [[psysml:b42821ea-70f6-43bd-9a67-84f3e511770a ]] {\r\n",
       "}\r\n",
       "\r\n",
       "rec usage \"B2\" as E7  <<(T,blue) action>> [[psysml:e950d6a4-fdbd-4650-aa0a-2ca4b4e20830 ]] {\r\n",
       "}\r\n",
       "\r\n",
       "}\r\n",
       "\r\n",
       "E2 - -> \"*\"E4 [[psysml:4f9dc8d6-d6e0-48a2-bcc8-8318223d246b ]] \r\n",
       "E3 - -> \"*\"E4 [[psysml:d5a52d23-3eda-48ed-8e98-b9c24f218910 ]] \r\n",
       "E4 - -> \"*\"E5 [[psysml:822f1664-72e1-4116-b41f-1c0919a615e0 ]] \r\n",
       "E5 - -> \"*\"E6 [[psysml:2360acce-0fc1-431a-bbc0-189c84da742a ]] \r\n",
       "E5 - -> \"*\"E7 [[psysml:ee81c625-3e17-4e8d-972a-76052e7a84e3 ]] \r\n",
       "@enduml\r\n",
       "\n",
       "PlantUML version 1.2020.13(Sat Jun 13 12:26:38 UTC 2020)\n",
       "(EPL source distribution)\n",
       "Java Runtime: OpenJDK Runtime Environment\n",
       "JVM: OpenJDK 64-Bit Server VM\n",
       "Default Encoding: UTF-8\n",
       "Language: en\n",
       "Country: null\n",
       "--></g></svg>"
      ]
     },
     "execution_count": 43,
     "metadata": {},
     "output_type": "execute_result"
    }
   ],
   "source": [
    "%viz --style=\"DEFAULT\" --view=\"MIXED\" \"ControlNodeTest\""
   ]
  },
  {
   "cell_type": "code",
   "execution_count": 44,
   "id": "ccd84eca",
   "metadata": {
    "execution": {
     "iopub.execute_input": "2022-02-18T10:46:12.046100Z",
     "iopub.status.busy": "2022-02-18T10:46:12.045706Z",
     "iopub.status.idle": "2022-02-18T10:46:12.075899Z",
     "shell.execute_reply": "2022-02-18T10:46:12.075556Z"
    }
   },
   "outputs": [
    {
     "data": {
      "image/svg+xml": [
       "<?xml version=\"1.0\" encoding=\"UTF-8\" standalone=\"no\"?><svg xmlns=\"http://www.w3.org/2000/svg\" xmlns:xlink=\"http://www.w3.org/1999/xlink\" contentScriptType=\"application/ecmascript\" contentStyleType=\"text/css\" height=\"367px\" preserveAspectRatio=\"none\" style=\"width:205px;height:367px;\" version=\"1.1\" viewBox=\"0 0 205 367\" width=\"205px\" zoomAndPan=\"magnify\"><defs/><g><!--MD5=[fbc87193dbaf4d95561dea2c320d4a47]\n",
       "cluster E1--><a href=\"psysml:06c83ae0-0be1-4108-9f79-6c682626264b\" target=\"_top\" title=\"psysml:06c83ae0-0be1-4108-9f79-6c682626264b\" xlink:actuate=\"onRequest\" xlink:href=\"psysml:06c83ae0-0be1-4108-9f79-6c682626264b\" xlink:show=\"new\" xlink:title=\"psysml:06c83ae0-0be1-4108-9f79-6c682626264b\" xlink:type=\"simple\"><rect fill=\"#FFFFFF\" height=\"349\" id=\"E1\" style=\"stroke: #383838; stroke-width: 1.5;\" width=\"187\" x=\"7\" y=\"7\"/><rect fill=\"#F8F8F8\" height=\"37.9375\" style=\"stroke: #383838; stroke-width: 1.5;\" width=\"187\" x=\"7\" y=\"7\"/><text fill=\"#000000\" font-family=\"sans-serif\" font-size=\"12\" font-style=\"italic\" lengthAdjust=\"spacingAndGlyphs\" textLength=\"81\" x=\"60\" y=\"23.1387\">«action  def»</text><text fill=\"#000000\" font-family=\"sans-serif\" font-size=\"12\" lengthAdjust=\"spacingAndGlyphs\" textLength=\"105\" x=\"48\" y=\"37.1074\">ControlNodeTest</text></a><rect fill=\"#000000\" height=\"8\" style=\"stroke: none; stroke-width: 1.0;\" width=\"80\" x=\"60\" y=\"161\"/><rect fill=\"#000000\" height=\"8\" style=\"stroke: none; stroke-width: 1.0;\" width=\"80\" x=\"60\" y=\"229\"/><g id=\"E1.E2\"><a href=\"psysml:b587d390-d46d-4840-bcaf-beb60201fdea\" target=\"_top\" title=\"psysml:b587d390-d46d-4840-bcaf-beb60201fdea\" xlink:actuate=\"onRequest\" xlink:href=\"psysml:b587d390-d46d-4840-bcaf-beb60201fdea\" xlink:show=\"new\" xlink:title=\"psysml:b587d390-d46d-4840-bcaf-beb60201fdea\" xlink:type=\"simple\"><rect fill=\"#FFFFFF\" height=\"42.9375\" id=\"E2\" rx=\"10\" ry=\"10\" style=\"stroke: #383838; stroke-width: 1.5;\" width=\"60\" x=\"118\" y=\"58\"/><rect fill=\"#F8F8F8\" height=\"37.9375\" rx=\"10\" ry=\"10\" style=\"stroke: #F8F8F8; stroke-width: 1.5;\" width=\"60\" x=\"118\" y=\"58\"/><rect fill=\"#F8F8F8\" height=\"10\" style=\"stroke: #F8F8F8; stroke-width: 1.5;\" width=\"60\" x=\"118\" y=\"85.9375\"/><rect fill=\"none\" height=\"42.9375\" id=\"E2\" rx=\"10\" ry=\"10\" style=\"stroke: #383838; stroke-width: 1.5;\" width=\"60\" x=\"118\" y=\"58\"/><text fill=\"#000000\" font-family=\"sans-serif\" font-size=\"12\" font-style=\"italic\" lengthAdjust=\"spacingAndGlyphs\" textLength=\"53\" x=\"121.5\" y=\"74.1387\">«action»</text><text fill=\"#000000\" font-family=\"sans-serif\" font-size=\"12\" lengthAdjust=\"spacingAndGlyphs\" textLength=\"16\" x=\"140\" y=\"88.1074\">A1</text></a></g><g id=\"E1.E3\"><a href=\"psysml:2c010bd6-de88-4dc7-8be6-3edc78c34a31\" target=\"_top\" title=\"psysml:2c010bd6-de88-4dc7-8be6-3edc78c34a31\" xlink:actuate=\"onRequest\" xlink:href=\"psysml:2c010bd6-de88-4dc7-8be6-3edc78c34a31\" xlink:show=\"new\" xlink:title=\"psysml:2c010bd6-de88-4dc7-8be6-3edc78c34a31\" xlink:type=\"simple\"><rect fill=\"#FFFFFF\" height=\"42.9375\" id=\"E3\" rx=\"10\" ry=\"10\" style=\"stroke: #383838; stroke-width: 1.5;\" width=\"60\" x=\"23\" y=\"58\"/><rect fill=\"#F8F8F8\" height=\"37.9375\" rx=\"10\" ry=\"10\" style=\"stroke: #F8F8F8; stroke-width: 1.5;\" width=\"60\" x=\"23\" y=\"58\"/><rect fill=\"#F8F8F8\" height=\"10\" style=\"stroke: #F8F8F8; stroke-width: 1.5;\" width=\"60\" x=\"23\" y=\"85.9375\"/><rect fill=\"none\" height=\"42.9375\" id=\"E3\" rx=\"10\" ry=\"10\" style=\"stroke: #383838; stroke-width: 1.5;\" width=\"60\" x=\"23\" y=\"58\"/><text fill=\"#000000\" font-family=\"sans-serif\" font-size=\"12\" font-style=\"italic\" lengthAdjust=\"spacingAndGlyphs\" textLength=\"53\" x=\"26.5\" y=\"74.1387\">«action»</text><text fill=\"#000000\" font-family=\"sans-serif\" font-size=\"12\" lengthAdjust=\"spacingAndGlyphs\" textLength=\"16\" x=\"45\" y=\"88.1074\">A2</text></a></g><g id=\"E1.E6\"><a href=\"psysml:b42821ea-70f6-43bd-9a67-84f3e511770a\" target=\"_top\" title=\"psysml:b42821ea-70f6-43bd-9a67-84f3e511770a\" xlink:actuate=\"onRequest\" xlink:href=\"psysml:b42821ea-70f6-43bd-9a67-84f3e511770a\" xlink:show=\"new\" xlink:title=\"psysml:b42821ea-70f6-43bd-9a67-84f3e511770a\" xlink:type=\"simple\"><rect fill=\"#FFFFFF\" height=\"42.9375\" id=\"E6\" rx=\"10\" ry=\"10\" style=\"stroke: #383838; stroke-width: 1.5;\" width=\"60\" x=\"23\" y=\"297\"/><rect fill=\"#F8F8F8\" height=\"37.9375\" rx=\"10\" ry=\"10\" style=\"stroke: #F8F8F8; stroke-width: 1.5;\" width=\"60\" x=\"23\" y=\"297\"/><rect fill=\"#F8F8F8\" height=\"10\" style=\"stroke: #F8F8F8; stroke-width: 1.5;\" width=\"60\" x=\"23\" y=\"324.9375\"/><rect fill=\"none\" height=\"42.9375\" id=\"E6\" rx=\"10\" ry=\"10\" style=\"stroke: #383838; stroke-width: 1.5;\" width=\"60\" x=\"23\" y=\"297\"/><text fill=\"#000000\" font-family=\"sans-serif\" font-size=\"12\" font-style=\"italic\" lengthAdjust=\"spacingAndGlyphs\" textLength=\"53\" x=\"26.5\" y=\"313.1387\">«action»</text><text fill=\"#000000\" font-family=\"sans-serif\" font-size=\"12\" lengthAdjust=\"spacingAndGlyphs\" textLength=\"16\" x=\"45\" y=\"327.1074\">B1</text></a></g><g id=\"E1.E7\"><a href=\"psysml:e950d6a4-fdbd-4650-aa0a-2ca4b4e20830\" target=\"_top\" title=\"psysml:e950d6a4-fdbd-4650-aa0a-2ca4b4e20830\" xlink:actuate=\"onRequest\" xlink:href=\"psysml:e950d6a4-fdbd-4650-aa0a-2ca4b4e20830\" xlink:show=\"new\" xlink:title=\"psysml:e950d6a4-fdbd-4650-aa0a-2ca4b4e20830\" xlink:type=\"simple\"><rect fill=\"#FFFFFF\" height=\"42.9375\" id=\"E7\" rx=\"10\" ry=\"10\" style=\"stroke: #383838; stroke-width: 1.5;\" width=\"60\" x=\"118\" y=\"297\"/><rect fill=\"#F8F8F8\" height=\"37.9375\" rx=\"10\" ry=\"10\" style=\"stroke: #F8F8F8; stroke-width: 1.5;\" width=\"60\" x=\"118\" y=\"297\"/><rect fill=\"#F8F8F8\" height=\"10\" style=\"stroke: #F8F8F8; stroke-width: 1.5;\" width=\"60\" x=\"118\" y=\"324.9375\"/><rect fill=\"none\" height=\"42.9375\" id=\"E7\" rx=\"10\" ry=\"10\" style=\"stroke: #383838; stroke-width: 1.5;\" width=\"60\" x=\"118\" y=\"297\"/><text fill=\"#000000\" font-family=\"sans-serif\" font-size=\"12\" font-style=\"italic\" lengthAdjust=\"spacingAndGlyphs\" textLength=\"53\" x=\"121.5\" y=\"313.1387\">«action»</text><text fill=\"#000000\" font-family=\"sans-serif\" font-size=\"12\" lengthAdjust=\"spacingAndGlyphs\" textLength=\"16\" x=\"140\" y=\"327.1074\">B2</text></a></g><!--MD5=[4d03bb2d0377dc85ccfab60ff574652b]\n",
       "link E2 to E4--><a href=\"psysml:4f9dc8d6-d6e0-48a2-bcc8-8318223d246b\" target=\"_top\" title=\"psysml:4f9dc8d6-d6e0-48a2-bcc8-8318223d246b\" xlink:actuate=\"onRequest\" xlink:href=\"psysml:4f9dc8d6-d6e0-48a2-bcc8-8318223d246b\" xlink:show=\"new\" xlink:title=\"psysml:4f9dc8d6-d6e0-48a2-bcc8-8318223d246b\" xlink:type=\"simple\"><path d=\"M136.13,101.14 C125.84,119.06 111.49,144.01 104.37,156.4 \" fill=\"none\" id=\"E2-&gt;E4\" style=\"stroke: #383838; stroke-width: 1.0;\"/><polygon fill=\"#383838\" points=\"101.79,160.88,109.7406,155.0673,104.2799,156.5441,102.8031,151.0834,101.79,160.88\" style=\"stroke: #383838; stroke-width: 1.0;\"/><text fill=\"#000000\" font-family=\"sans-serif\" font-size=\"13\" lengthAdjust=\"spacingAndGlyphs\" textLength=\"7\" x=\"93.6144\" y=\"150.0038\">*</text></a><!--MD5=[af87c684e3b0d8be13c1a698a818ef1e]\n",
       "link E3 to E4--><a href=\"psysml:d5a52d23-3eda-48ed-8e98-b9c24f218910\" target=\"_top\" title=\"psysml:d5a52d23-3eda-48ed-8e98-b9c24f218910\" xlink:actuate=\"onRequest\" xlink:href=\"psysml:d5a52d23-3eda-48ed-8e98-b9c24f218910\" xlink:show=\"new\" xlink:title=\"psysml:d5a52d23-3eda-48ed-8e98-b9c24f218910\" xlink:type=\"simple\"><path d=\"M64.62,101.14 C74.7,119.06 88.75,144.01 95.72,156.4 \" fill=\"none\" id=\"E3-&gt;E4\" style=\"stroke: #383838; stroke-width: 1.0;\"/><polygon fill=\"#383838\" points=\"98.25,160.88,97.3377,151.0735,95.8048,156.5187,90.3596,154.9858,98.25,160.88\" style=\"stroke: #383838; stroke-width: 1.0;\"/><text fill=\"#000000\" font-family=\"sans-serif\" font-size=\"13\" lengthAdjust=\"spacingAndGlyphs\" textLength=\"7\" x=\"99.4531\" y=\"150.0038\">*</text></a><!--MD5=[1b7591eae5389033d8d09a9d6721a717]\n",
       "link E4 to E5--><a href=\"psysml:822f1664-72e1-4116-b41f-1c0919a615e0\" target=\"_top\" title=\"psysml:822f1664-72e1-4116-b41f-1c0919a615e0\" xlink:actuate=\"onRequest\" xlink:href=\"psysml:822f1664-72e1-4116-b41f-1c0919a615e0\" xlink:show=\"new\" xlink:title=\"psysml:822f1664-72e1-4116-b41f-1c0919a615e0\" xlink:type=\"simple\"><path d=\"M100,169.18 C100,178.92 100,208.52 100,223.34 \" fill=\"none\" id=\"E4-&gt;E5\" style=\"stroke: #383838; stroke-width: 1.0;\"/><polygon fill=\"#383838\" points=\"100,228.69,104,219.69,100,223.69,96,219.69,100,228.69\" style=\"stroke: #383838; stroke-width: 1.0;\"/><text fill=\"#000000\" font-family=\"sans-serif\" font-size=\"13\" lengthAdjust=\"spacingAndGlyphs\" textLength=\"7\" x=\"90.6813\" y=\"217.9768\">*</text></a><!--MD5=[9120cf2e5df3bff93db8f754bbbc09b4]\n",
       "link E5 to E6--><a href=\"psysml:2360acce-0fc1-431a-bbc0-189c84da742a\" target=\"_top\" title=\"psysml:2360acce-0fc1-431a-bbc0-189c84da742a\" xlink:actuate=\"onRequest\" xlink:href=\"psysml:2360acce-0fc1-431a-bbc0-189c84da742a\" xlink:show=\"new\" xlink:title=\"psysml:2360acce-0fc1-431a-bbc0-189c84da742a\" xlink:type=\"simple\"><path d=\"M98.21,237.17 C93.16,246.14 78.41,272.36 67.11,292.43 \" fill=\"none\" id=\"E5-&gt;E6\" style=\"stroke: #383838; stroke-width: 1.0;\"/><polygon fill=\"#383838\" points=\"64.61,296.87,72.5151,290.9955,67.0661,292.5148,65.5467,287.0658,64.61,296.87\" style=\"stroke: #383838; stroke-width: 1.0;\"/><text fill=\"#000000\" font-family=\"sans-serif\" font-size=\"13\" lengthAdjust=\"spacingAndGlyphs\" textLength=\"7\" x=\"59.8909\" y=\"285.7715\">*</text></a><!--MD5=[3a9b96bfbf6b6ad89c494e81751bda47]\n",
       "link E5 to E7--><a href=\"psysml:ee81c625-3e17-4e8d-972a-76052e7a84e3\" target=\"_top\" title=\"psysml:ee81c625-3e17-4e8d-972a-76052e7a84e3\" xlink:actuate=\"onRequest\" xlink:href=\"psysml:ee81c625-3e17-4e8d-972a-76052e7a84e3\" xlink:show=\"new\" xlink:title=\"psysml:ee81c625-3e17-4e8d-972a-76052e7a84e3\" xlink:type=\"simple\"><path d=\"M101.82,237.17 C106.98,246.14 122.05,272.36 133.59,292.43 \" fill=\"none\" id=\"E5-&gt;E7\" style=\"stroke: #383838; stroke-width: 1.0;\"/><polygon fill=\"#383838\" points=\"136.14,296.87,135.1269,287.0734,133.6501,292.5341,128.1894,291.0573,136.14,296.87\" style=\"stroke: #383838; stroke-width: 1.0;\"/><text fill=\"#000000\" font-family=\"sans-serif\" font-size=\"13\" lengthAdjust=\"spacingAndGlyphs\" textLength=\"7\" x=\"124.82\" y=\"285.7715\">*</text></a><!--MD5=[133f36882282104a5d83c73fff031d6f]\n",
       "@startuml\r\n",
       "top to bottom direction\r\n",
       "skinparam monochrome true\r\n",
       "skinparam classbackgroundcolor white\r\n",
       "skinparam shadowing false\r\n",
       "skinparam wrapWidth 300\r\n",
       "hide circle\r\n",
       "\r\n",
       "rec def \"ControlNodeTest\" as E1  <<(T,blue) action  def>> [[psysml:06c83ae0-0be1-4108-9f79-6c682626264b ]] {\r\n",
       "rec usage \"A1\" as E2  <<(T,blue) action>> [[psysml:b587d390-d46d-4840-bcaf-beb60201fdea ]] {\r\n",
       "}\r\n",
       "\r\n",
       "rec usage \"A2\" as E3  <<(T,blue) action>> [[psysml:2c010bd6-de88-4dc7-8be6-3edc78c34a31 ]] {\r\n",
       "}\r\n",
       "\r\n",
       "join \"J\" as E4  [[psysml:b80e7b99-08a2-49d6-9359-b424cf684151 ]] \r\n",
       "fork \"F\" as E5  [[psysml:df495c9b-9171-48f9-ac7d-26427115e0f4 ]] \r\n",
       "rec usage \"B1\" as E6  <<(T,blue) action>> [[psysml:b42821ea-70f6-43bd-9a67-84f3e511770a ]] {\r\n",
       "}\r\n",
       "\r\n",
       "rec usage \"B2\" as E7  <<(T,blue) action>> [[psysml:e950d6a4-fdbd-4650-aa0a-2ca4b4e20830 ]] {\r\n",
       "}\r\n",
       "\r\n",
       "}\r\n",
       "\r\n",
       "E2 - -> \"*\"E4 [[psysml:4f9dc8d6-d6e0-48a2-bcc8-8318223d246b ]] \r\n",
       "E3 - -> \"*\"E4 [[psysml:d5a52d23-3eda-48ed-8e98-b9c24f218910 ]] \r\n",
       "E4 - -> \"*\"E5 [[psysml:822f1664-72e1-4116-b41f-1c0919a615e0 ]] \r\n",
       "E5 - -> \"*\"E6 [[psysml:2360acce-0fc1-431a-bbc0-189c84da742a ]] \r\n",
       "E5 - -> \"*\"E7 [[psysml:ee81c625-3e17-4e8d-972a-76052e7a84e3 ]] \r\n",
       "@enduml\r\n",
       "\n",
       "PlantUML version 1.2020.13(Sat Jun 13 12:26:38 UTC 2020)\n",
       "(EPL source distribution)\n",
       "Java Runtime: OpenJDK Runtime Environment\n",
       "JVM: OpenJDK 64-Bit Server VM\n",
       "Default Encoding: UTF-8\n",
       "Language: en\n",
       "Country: null\n",
       "--></g></svg>"
      ]
     },
     "execution_count": 44,
     "metadata": {},
     "output_type": "execute_result"
    }
   ],
   "source": [
    "%viz --style=\"TB\" --view=\"Default\" \"ControlNodeTest\""
   ]
  },
  {
   "cell_type": "code",
   "execution_count": 45,
   "id": "15ad3ecd",
   "metadata": {
    "execution": {
     "iopub.execute_input": "2022-02-18T10:46:12.125221Z",
     "iopub.status.busy": "2022-02-18T10:46:12.124981Z",
     "iopub.status.idle": "2022-02-18T10:46:12.206146Z",
     "shell.execute_reply": "2022-02-18T10:46:12.205792Z"
    }
   },
   "outputs": [
    {
     "data": {
      "image/svg+xml": [
       "<?xml version=\"1.0\" encoding=\"UTF-8\" standalone=\"no\"?><svg xmlns=\"http://www.w3.org/2000/svg\" xmlns:xlink=\"http://www.w3.org/1999/xlink\" contentScriptType=\"application/ecmascript\" contentStyleType=\"text/css\" height=\"250px\" preserveAspectRatio=\"none\" style=\"width:564px;height:250px;\" version=\"1.1\" viewBox=\"0 0 564 250\" width=\"564px\" zoomAndPan=\"magnify\"><defs/><g><!--MD5=[43c9051892ef23e1a46a86907403d788]\n",
       "class E1--><a href=\"psysml:06c83ae0-0be1-4108-9f79-6c682626264b\" target=\"_top\" title=\"psysml:06c83ae0-0be1-4108-9f79-6c682626264b\" xlink:actuate=\"onRequest\" xlink:href=\"psysml:06c83ae0-0be1-4108-9f79-6c682626264b\" xlink:show=\"new\" xlink:title=\"psysml:06c83ae0-0be1-4108-9f79-6c682626264b\" xlink:type=\"simple\"><rect fill=\"#FFFFFF\" height=\"126.7656\" id=\"E1\" style=\"stroke: #383838; stroke-width: 1.5;\" width=\"111\" x=\"224\" y=\"7\"/><text fill=\"#000000\" font-family=\"sans-serif\" font-size=\"12\" font-style=\"italic\" lengthAdjust=\"spacingAndGlyphs\" textLength=\"81\" x=\"239\" y=\"23.1387\">«action  def»</text><text fill=\"#000000\" font-family=\"sans-serif\" font-size=\"12\" lengthAdjust=\"spacingAndGlyphs\" textLength=\"105\" x=\"227\" y=\"37.1074\">ControlNodeTest</text><line style=\"stroke: #383838; stroke-width: 1.5;\" x1=\"225\" x2=\"334\" y1=\"44.9375\" y2=\"44.9375\"/><text fill=\"#000000\" font-family=\"sans-serif\" font-size=\"11\" lengthAdjust=\"spacingAndGlyphs\" textLength=\"36\" x=\"230\" y=\"75.9526\">then  J</text><text fill=\"#000000\" font-family=\"sans-serif\" font-size=\"11\" lengthAdjust=\"spacingAndGlyphs\" textLength=\"36\" x=\"230\" y=\"88.7573\">then  J</text><text fill=\"#000000\" font-family=\"sans-serif\" font-size=\"11\" lengthAdjust=\"spacingAndGlyphs\" textLength=\"25\" x=\"230\" y=\"101.562\">then</text><text fill=\"#000000\" font-family=\"sans-serif\" font-size=\"11\" lengthAdjust=\"spacingAndGlyphs\" textLength=\"48\" x=\"230\" y=\"114.3667\">then  B1</text><text fill=\"#000000\" font-family=\"sans-serif\" font-size=\"11\" lengthAdjust=\"spacingAndGlyphs\" textLength=\"48\" x=\"230\" y=\"127.1714\">then  B2</text><line style=\"stroke: #383838; stroke-width: 1.0;\" x1=\"225\" x2=\"244\" y1=\"59.3398\" y2=\"59.3398\"/><text fill=\"#000000\" font-family=\"sans-serif\" font-size=\"11\" lengthAdjust=\"spacingAndGlyphs\" textLength=\"71\" x=\"244\" y=\"62.6479\">successions</text><line style=\"stroke: #383838; stroke-width: 1.0;\" x1=\"315\" x2=\"334\" y1=\"59.3398\" y2=\"59.3398\"/></a><!--MD5=[b4997ac47864f28c2f74865a473b2911]\n",
       "class E2--><a href=\"psysml:b587d390-d46d-4840-bcaf-beb60201fdea\" target=\"_top\" title=\"psysml:b587d390-d46d-4840-bcaf-beb60201fdea\" xlink:actuate=\"onRequest\" xlink:href=\"psysml:b587d390-d46d-4840-bcaf-beb60201fdea\" xlink:show=\"new\" xlink:title=\"psysml:b587d390-d46d-4840-bcaf-beb60201fdea\" xlink:type=\"simple\"><rect fill=\"#FFFFFF\" height=\"45.9375\" id=\"E2\" rx=\"10\" ry=\"10\" style=\"stroke: #383838; stroke-width: 1.5;\" width=\"55\" x=\"7\" y=\"194\"/><text fill=\"#000000\" font-family=\"sans-serif\" font-size=\"12\" font-style=\"italic\" lengthAdjust=\"spacingAndGlyphs\" textLength=\"53\" x=\"8\" y=\"210.1387\">«action»</text><text fill=\"#000000\" font-family=\"sans-serif\" font-size=\"12\" lengthAdjust=\"spacingAndGlyphs\" textLength=\"16\" x=\"24.5\" y=\"224.1074\">A1</text><line style=\"stroke: #383838; stroke-width: 1.5;\" x1=\"8\" x2=\"61\" y1=\"231.9375\" y2=\"231.9375\"/></a><!--MD5=[09b614a08d8cba4a07c9adeb5e0fee81]\n",
       "class E3--><a href=\"psysml:2c010bd6-de88-4dc7-8be6-3edc78c34a31\" target=\"_top\" title=\"psysml:2c010bd6-de88-4dc7-8be6-3edc78c34a31\" xlink:actuate=\"onRequest\" xlink:href=\"psysml:2c010bd6-de88-4dc7-8be6-3edc78c34a31\" xlink:show=\"new\" xlink:title=\"psysml:2c010bd6-de88-4dc7-8be6-3edc78c34a31\" xlink:type=\"simple\"><rect fill=\"#FFFFFF\" height=\"45.9375\" id=\"E3\" rx=\"10\" ry=\"10\" style=\"stroke: #383838; stroke-width: 1.5;\" width=\"55\" x=\"97\" y=\"194\"/><text fill=\"#000000\" font-family=\"sans-serif\" font-size=\"12\" font-style=\"italic\" lengthAdjust=\"spacingAndGlyphs\" textLength=\"53\" x=\"98\" y=\"210.1387\">«action»</text><text fill=\"#000000\" font-family=\"sans-serif\" font-size=\"12\" lengthAdjust=\"spacingAndGlyphs\" textLength=\"16\" x=\"114.5\" y=\"224.1074\">A2</text><line style=\"stroke: #383838; stroke-width: 1.5;\" x1=\"98\" x2=\"151\" y1=\"231.9375\" y2=\"231.9375\"/></a><!--MD5=[ebbe1d658d1005bcc118a6aa81145e00]\n",
       "class E4--><a href=\"psysml:b80e7b99-08a2-49d6-9359-b424cf684151\" target=\"_top\" title=\"psysml:b80e7b99-08a2-49d6-9359-b424cf684151\" xlink:actuate=\"onRequest\" xlink:href=\"psysml:b80e7b99-08a2-49d6-9359-b424cf684151\" xlink:show=\"new\" xlink:title=\"psysml:b80e7b99-08a2-49d6-9359-b424cf684151\" xlink:type=\"simple\"><rect fill=\"#FFFFFF\" height=\"45.9375\" id=\"E4\" rx=\"10\" ry=\"10\" style=\"stroke: #383838; stroke-width: 1.5;\" width=\"74\" x=\"187.5\" y=\"194\"/><text fill=\"#000000\" font-family=\"sans-serif\" font-size=\"12\" font-style=\"italic\" lengthAdjust=\"spacingAndGlyphs\" textLength=\"72\" x=\"188.5\" y=\"210.1387\">«join node»</text><text fill=\"#000000\" font-family=\"sans-serif\" font-size=\"12\" lengthAdjust=\"spacingAndGlyphs\" textLength=\"3\" x=\"221\" y=\"224.1074\">J</text><line style=\"stroke: #383838; stroke-width: 1.5;\" x1=\"188.5\" x2=\"260.5\" y1=\"231.9375\" y2=\"231.9375\"/></a><!--MD5=[270fce915f116d4de14055a7c1d9a0f3]\n",
       "class E5--><a href=\"psysml:df495c9b-9171-48f9-ac7d-26427115e0f4\" target=\"_top\" title=\"psysml:df495c9b-9171-48f9-ac7d-26427115e0f4\" xlink:actuate=\"onRequest\" xlink:href=\"psysml:df495c9b-9171-48f9-ac7d-26427115e0f4\" xlink:show=\"new\" xlink:title=\"psysml:df495c9b-9171-48f9-ac7d-26427115e0f4\" xlink:type=\"simple\"><rect fill=\"#FFFFFF\" height=\"45.9375\" id=\"E5\" rx=\"10\" ry=\"10\" style=\"stroke: #383838; stroke-width: 1.5;\" width=\"76\" x=\"296.5\" y=\"194\"/><text fill=\"#000000\" font-family=\"sans-serif\" font-size=\"12\" font-style=\"italic\" lengthAdjust=\"spacingAndGlyphs\" textLength=\"74\" x=\"297.5\" y=\"210.1387\">«fork node»</text><text fill=\"#000000\" font-family=\"sans-serif\" font-size=\"12\" lengthAdjust=\"spacingAndGlyphs\" textLength=\"7\" x=\"329\" y=\"224.1074\">F</text><line style=\"stroke: #383838; stroke-width: 1.5;\" x1=\"297.5\" x2=\"371.5\" y1=\"231.9375\" y2=\"231.9375\"/></a><!--MD5=[60a26617385b1d2d0262a64233df1f8d]\n",
       "class E6--><a href=\"psysml:b42821ea-70f6-43bd-9a67-84f3e511770a\" target=\"_top\" title=\"psysml:b42821ea-70f6-43bd-9a67-84f3e511770a\" xlink:actuate=\"onRequest\" xlink:href=\"psysml:b42821ea-70f6-43bd-9a67-84f3e511770a\" xlink:show=\"new\" xlink:title=\"psysml:b42821ea-70f6-43bd-9a67-84f3e511770a\" xlink:type=\"simple\"><rect fill=\"#FFFFFF\" height=\"45.9375\" id=\"E6\" rx=\"10\" ry=\"10\" style=\"stroke: #383838; stroke-width: 1.5;\" width=\"55\" x=\"408\" y=\"194\"/><text fill=\"#000000\" font-family=\"sans-serif\" font-size=\"12\" font-style=\"italic\" lengthAdjust=\"spacingAndGlyphs\" textLength=\"53\" x=\"409\" y=\"210.1387\">«action»</text><text fill=\"#000000\" font-family=\"sans-serif\" font-size=\"12\" lengthAdjust=\"spacingAndGlyphs\" textLength=\"16\" x=\"425.5\" y=\"224.1074\">B1</text><line style=\"stroke: #383838; stroke-width: 1.5;\" x1=\"409\" x2=\"462\" y1=\"231.9375\" y2=\"231.9375\"/></a><!--MD5=[2156ba9850f5573cc1fc38a6a4b2f02b]\n",
       "class E7--><a href=\"psysml:e950d6a4-fdbd-4650-aa0a-2ca4b4e20830\" target=\"_top\" title=\"psysml:e950d6a4-fdbd-4650-aa0a-2ca4b4e20830\" xlink:actuate=\"onRequest\" xlink:href=\"psysml:e950d6a4-fdbd-4650-aa0a-2ca4b4e20830\" xlink:show=\"new\" xlink:title=\"psysml:e950d6a4-fdbd-4650-aa0a-2ca4b4e20830\" xlink:type=\"simple\"><rect fill=\"#FFFFFF\" height=\"45.9375\" id=\"E7\" rx=\"10\" ry=\"10\" style=\"stroke: #383838; stroke-width: 1.5;\" width=\"55\" x=\"498\" y=\"194\"/><text fill=\"#000000\" font-family=\"sans-serif\" font-size=\"12\" font-style=\"italic\" lengthAdjust=\"spacingAndGlyphs\" textLength=\"53\" x=\"499\" y=\"210.1387\">«action»</text><text fill=\"#000000\" font-family=\"sans-serif\" font-size=\"12\" lengthAdjust=\"spacingAndGlyphs\" textLength=\"16\" x=\"515.5\" y=\"224.1074\">B2</text><line style=\"stroke: #383838; stroke-width: 1.5;\" x1=\"499\" x2=\"552\" y1=\"231.9375\" y2=\"231.9375\"/></a><!--MD5=[a523cb2a0b79ecf9065ad8783f96c320]\n",
       "reverse link E1 to E2--><a href=\"psysml:8824560d-0356-45ea-8a7b-06baadbc63a3\" target=\"_top\" title=\"psysml:8824560d-0356-45ea-8a7b-06baadbc63a3\" xlink:actuate=\"onRequest\" xlink:href=\"psysml:8824560d-0356-45ea-8a7b-06baadbc63a3\" xlink:show=\"new\" xlink:title=\"psysml:8824560d-0356-45ea-8a7b-06baadbc63a3\" xlink:type=\"simple\"><path d=\"M212.66,110.92 C163.24,140.07 98.48,178.27 62.21,199.66 \" fill=\"none\" id=\"E1&lt;-E2\" style=\"stroke: #383838; stroke-width: 1.0;\"/><polygon fill=\"#383838\" points=\"223.91,104.29,216.71,103.89,213.5715,110.3823,220.7715,110.7823,223.91,104.29\" style=\"stroke: #383838; stroke-width: 1.0;\"/><text fill=\"#000000\" font-family=\"sans-serif\" font-size=\"13\" lengthAdjust=\"spacingAndGlyphs\" textLength=\"7\" x=\"69.8174\" y=\"190.6959\">*</text></a><!--MD5=[5d7b3810b1dd9b5164bea1151b29b665]\n",
       "reverse link E1 to E3--><a href=\"psysml:cbbe4b3e-f7e7-45b7-a67a-c33698d06c9d\" target=\"_top\" title=\"psysml:cbbe4b3e-f7e7-45b7-a67a-c33698d06c9d\" xlink:actuate=\"onRequest\" xlink:href=\"psysml:cbbe4b3e-f7e7-45b7-a67a-c33698d06c9d\" xlink:show=\"new\" xlink:title=\"psysml:cbbe4b3e-f7e7-45b7-a67a-c33698d06c9d\" xlink:type=\"simple\"><path d=\"M214.38,132.21 C190.87,154.12 165.81,177.49 148.14,193.96 \" fill=\"none\" id=\"E1&lt;-E3\" style=\"stroke: #383838; stroke-width: 1.0;\"/><polygon fill=\"#383838\" points=\"223.98,123.26,216.8638,124.4259,215.2029,131.4431,222.3192,130.2772,223.98,123.26\" style=\"stroke: #383838; stroke-width: 1.0;\"/><text fill=\"#000000\" font-family=\"sans-serif\" font-size=\"13\" lengthAdjust=\"spacingAndGlyphs\" textLength=\"7\" x=\"146.5526\" y=\"182.8455\">*</text></a><!--MD5=[f2c5c03aa1e8c0ba21c10a05e6444b8e]\n",
       "reverse link E1 to E4--><a href=\"psysml:8b2189df-ceef-42f5-8cc2-eeb8d6451d98\" target=\"_top\" title=\"psysml:8b2189df-ceef-42f5-8cc2-eeb8d6451d98\" xlink:actuate=\"onRequest\" xlink:href=\"psysml:8b2189df-ceef-42f5-8cc2-eeb8d6451d98\" xlink:show=\"new\" xlink:title=\"psysml:8b2189df-ceef-42f5-8cc2-eeb8d6451d98\" xlink:type=\"simple\"><path d=\"M251,146.38 C244.38,163.78 237.83,180.97 232.9,193.92 \" fill=\"none\" id=\"E1&lt;-E4\" style=\"stroke: #383838; stroke-width: 1.0;\"/><polygon fill=\"#383838\" points=\"255.7,134.04,249.8253,138.2218,251.4259,145.253,257.3006,141.0712,255.7,134.04\" style=\"stroke: #383838; stroke-width: 1.0;\"/></a><!--MD5=[33238bef88d6431a141d8bc8fb12bca0]\n",
       "reverse link E1 to E5--><a href=\"psysml:a82a5eef-dea6-4124-abec-2b50c8cafb15\" target=\"_top\" title=\"psysml:a82a5eef-dea6-4124-abec-2b50c8cafb15\" xlink:actuate=\"onRequest\" xlink:href=\"psysml:a82a5eef-dea6-4124-abec-2b50c8cafb15\" xlink:show=\"new\" xlink:title=\"psysml:a82a5eef-dea6-4124-abec-2b50c8cafb15\" xlink:type=\"simple\"><path d=\"M308,146.38 C314.62,163.78 321.17,180.97 326.1,193.92 \" fill=\"none\" id=\"E1&lt;-E5\" style=\"stroke: #383838; stroke-width: 1.0;\"/><polygon fill=\"#383838\" points=\"303.3,134.04,301.6994,141.0712,307.5741,145.253,309.1747,138.2218,303.3,134.04\" style=\"stroke: #383838; stroke-width: 1.0;\"/></a><!--MD5=[aca2ef284c2b1b90e17e73bf3f292c07]\n",
       "reverse link E1 to E6--><a href=\"psysml:fa0fa50c-58e4-4afc-aadf-ea60f0cb1460\" target=\"_top\" title=\"psysml:fa0fa50c-58e4-4afc-aadf-ea60f0cb1460\" xlink:actuate=\"onRequest\" xlink:href=\"psysml:fa0fa50c-58e4-4afc-aadf-ea60f0cb1460\" xlink:show=\"new\" xlink:title=\"psysml:fa0fa50c-58e4-4afc-aadf-ea60f0cb1460\" xlink:type=\"simple\"><path d=\"M345.04,132.21 C368.7,154.12 393.92,177.49 411.71,193.96 \" fill=\"none\" id=\"E1&lt;-E6\" style=\"stroke: #383838; stroke-width: 1.0;\"/><polygon fill=\"#383838\" points=\"335.38,123.26,337.057,130.2734,344.1759,131.4229,342.4989,124.4095,335.38,123.26\" style=\"stroke: #383838; stroke-width: 1.0;\"/><text fill=\"#000000\" font-family=\"sans-serif\" font-size=\"13\" lengthAdjust=\"spacingAndGlyphs\" textLength=\"7\" x=\"397.3758\" y=\"182.8455\">*</text></a><!--MD5=[fc9706a6b2cf8c0e423679d303750d3f]\n",
       "reverse link E1 to E7--><a href=\"psysml:49466f58-4643-4906-96c1-3a5676eba647\" target=\"_top\" title=\"psysml:49466f58-4643-4906-96c1-3a5676eba647\" xlink:actuate=\"onRequest\" xlink:href=\"psysml:49466f58-4643-4906-96c1-3a5676eba647\" xlink:show=\"new\" xlink:title=\"psysml:49466f58-4643-4906-96c1-3a5676eba647\" xlink:type=\"simple\"><path d=\"M346.34,110.76 C396.11,140 461.5,178.41 497.94,199.81 \" fill=\"none\" id=\"E1&lt;-E7\" style=\"stroke: #383838; stroke-width: 1.0;\"/><polygon fill=\"#383838\" points=\"335.01,104.11,338.1582,110.5976,345.3576,110.1868,342.2094,103.6992,335.01,104.11\" style=\"stroke: #383838; stroke-width: 1.0;\"/><text fill=\"#000000\" font-family=\"sans-serif\" font-size=\"13\" lengthAdjust=\"spacingAndGlyphs\" textLength=\"7\" x=\"482.9809\" y=\"190.5751\">*</text></a><!--MD5=[aab18b283ba87f3d9fd2237215f065e5]\n",
       "@startuml\r\n",
       "top to bottom direction\r\n",
       "skinparam monochrome true\r\n",
       "skinparam classbackgroundcolor white\r\n",
       "skinparam shadowing false\r\n",
       "skinparam wrapWidth 300\r\n",
       "hide circle\r\n",
       "\r\n",
       "comp def \"ControlNodeTest\" as E1  <<(T,blue) action  def>> [[psysml:06c83ae0-0be1-4108-9f79-6c682626264b ]] {\r\n",
       "- - successions - -\r\n",
       " then  J\r\n",
       " then  J\r\n",
       " then \r\n",
       " then  B1\r\n",
       " then  B2\r\n",
       "}\r\n",
       "comp usage \"A1 \" as E2  <<(T,blue) action>> [[psysml:b587d390-d46d-4840-bcaf-beb60201fdea ]] {\r\n",
       "}\r\n",
       "comp usage \"A2 \" as E3  <<(T,blue) action>> [[psysml:2c010bd6-de88-4dc7-8be6-3edc78c34a31 ]] {\r\n",
       "}\r\n",
       "comp usage \"J \" as E4  <<(T,blue) join node>> [[psysml:b80e7b99-08a2-49d6-9359-b424cf684151 ]] {\r\n",
       "}\r\n",
       "comp usage \"F \" as E5  <<(T,blue) fork node>> [[psysml:df495c9b-9171-48f9-ac7d-26427115e0f4 ]] {\r\n",
       "}\r\n",
       "comp usage \"B1 \" as E6  <<(T,blue) action>> [[psysml:b42821ea-70f6-43bd-9a67-84f3e511770a ]] {\r\n",
       "}\r\n",
       "comp usage \"B2 \" as E7  <<(T,blue) action>> [[psysml:e950d6a4-fdbd-4650-aa0a-2ca4b4e20830 ]] {\r\n",
       "}\r\n",
       "E1 *- - \"*\"E2 [[psysml:8824560d-0356-45ea-8a7b-06baadbc63a3 ]] \r\n",
       "E1 *- - \"*\"E3 [[psysml:cbbe4b3e-f7e7-45b7-a67a-c33698d06c9d ]] \r\n",
       "E1 *- - E4 [[psysml:8b2189df-ceef-42f5-8cc2-eeb8d6451d98 ]] \r\n",
       "E1 *- - E5 [[psysml:a82a5eef-dea6-4124-abec-2b50c8cafb15 ]] \r\n",
       "E1 *- - \"*\"E6 [[psysml:fa0fa50c-58e4-4afc-aadf-ea60f0cb1460 ]] \r\n",
       "E1 *- - \"*\"E7 [[psysml:49466f58-4643-4906-96c1-3a5676eba647 ]] \r\n",
       "@enduml\r\n",
       "\n",
       "PlantUML version 1.2020.13(Sat Jun 13 12:26:38 UTC 2020)\n",
       "(EPL source distribution)\n",
       "Java Runtime: OpenJDK Runtime Environment\n",
       "JVM: OpenJDK 64-Bit Server VM\n",
       "Default Encoding: UTF-8\n",
       "Language: en\n",
       "Country: null\n",
       "--></g></svg>"
      ]
     },
     "execution_count": 45,
     "metadata": {},
     "output_type": "execute_result"
    }
   ],
   "source": [
    "%viz --style=\"TB\" --view=\"Tree\" \"ControlNodeTest\""
   ]
  },
  {
   "cell_type": "code",
   "execution_count": 46,
   "id": "f0d1f1f7",
   "metadata": {
    "execution": {
     "iopub.execute_input": "2022-02-18T10:46:12.255386Z",
     "iopub.status.busy": "2022-02-18T10:46:12.255074Z",
     "iopub.status.idle": "2022-02-18T10:46:12.260244Z",
     "shell.execute_reply": "2022-02-18T10:46:12.259908Z"
    }
   },
   "outputs": [
    {
     "data": {
      "image/svg+xml": [
       "<?xml version=\"1.0\" encoding=\"UTF-8\" standalone=\"no\"?><svg xmlns=\"http://www.w3.org/2000/svg\" xmlns:xlink=\"http://www.w3.org/1999/xlink\" contentScriptType=\"application/ecmascript\" contentStyleType=\"text/css\" height=\"12px\" preserveAspectRatio=\"none\" style=\"width:12px;height:12px;\" version=\"1.1\" viewBox=\"0 0 12 12\" width=\"12px\" zoomAndPan=\"magnify\"><defs/><g><!--MD5=[f4ee21bc66e489b5061b7c3e9601fdef]\n",
       "@startuml\r\n",
       "top to bottom direction\r\n",
       "skinparam monochrome true\r\n",
       "skinparam classbackgroundcolor white\r\n",
       "skinparam shadowing false\r\n",
       "skinparam wrapWidth 300\r\n",
       "hide circle\r\n",
       "\r\n",
       "@enduml\r\n",
       "\n",
       "PlantUML version 1.2020.13(Sat Jun 13 12:26:38 UTC 2020)\n",
       "(EPL source distribution)\n",
       "Java Runtime: OpenJDK Runtime Environment\n",
       "JVM: OpenJDK 64-Bit Server VM\n",
       "Default Encoding: UTF-8\n",
       "Language: en\n",
       "Country: null\n",
       "--></g></svg>"
      ]
     },
     "execution_count": 46,
     "metadata": {},
     "output_type": "execute_result"
    }
   ],
   "source": [
    "%viz --style=\"TB\" --view=\"State\" \"ControlNodeTest\""
   ]
  },
  {
   "cell_type": "code",
   "execution_count": 47,
   "id": "eb9e54b0",
   "metadata": {
    "execution": {
     "iopub.execute_input": "2022-02-18T10:46:12.310301Z",
     "iopub.status.busy": "2022-02-18T10:46:12.309992Z",
     "iopub.status.idle": "2022-02-18T10:46:12.345513Z",
     "shell.execute_reply": "2022-02-18T10:46:12.345197Z"
    }
   },
   "outputs": [
    {
     "data": {
      "image/svg+xml": [
       "<?xml version=\"1.0\" encoding=\"UTF-8\" standalone=\"no\"?><svg xmlns=\"http://www.w3.org/2000/svg\" xmlns:xlink=\"http://www.w3.org/1999/xlink\" contentScriptType=\"application/ecmascript\" contentStyleType=\"text/css\" height=\"217px\" preserveAspectRatio=\"none\" style=\"width:205px;height:217px;\" version=\"1.1\" viewBox=\"0 0 205 217\" width=\"205px\" zoomAndPan=\"magnify\"><defs/><g><!--MD5=[fbc87193dbaf4d95561dea2c320d4a47]\n",
       "cluster E1--><a href=\"psysml:06c83ae0-0be1-4108-9f79-6c682626264b\" target=\"_top\" title=\"psysml:06c83ae0-0be1-4108-9f79-6c682626264b\" xlink:actuate=\"onRequest\" xlink:href=\"psysml:06c83ae0-0be1-4108-9f79-6c682626264b\" xlink:show=\"new\" xlink:title=\"psysml:06c83ae0-0be1-4108-9f79-6c682626264b\" xlink:type=\"simple\"><rect fill=\"#FFFFFF\" height=\"199\" id=\"E1\" style=\"stroke: #383838; stroke-width: 1.5;\" width=\"187\" x=\"7\" y=\"7\"/><rect fill=\"#F8F8F8\" height=\"37.9375\" style=\"stroke: #383838; stroke-width: 1.5;\" width=\"187\" x=\"7\" y=\"7\"/><text fill=\"#000000\" font-family=\"sans-serif\" font-size=\"12\" font-style=\"italic\" lengthAdjust=\"spacingAndGlyphs\" textLength=\"81\" x=\"60\" y=\"23.1387\">«action  def»</text><text fill=\"#000000\" font-family=\"sans-serif\" font-size=\"12\" lengthAdjust=\"spacingAndGlyphs\" textLength=\"105\" x=\"48\" y=\"37.1074\">ControlNodeTest</text></a><rect fill=\"#000000\" height=\"8\" style=\"stroke: none; stroke-width: 1.0;\" width=\"80\" x=\"60\" y=\"111\"/><rect fill=\"#000000\" height=\"8\" style=\"stroke: none; stroke-width: 1.0;\" width=\"80\" x=\"60\" y=\"129\"/><g id=\"E1.E2\"><a href=\"psysml:b587d390-d46d-4840-bcaf-beb60201fdea\" target=\"_top\" title=\"psysml:b587d390-d46d-4840-bcaf-beb60201fdea\" xlink:actuate=\"onRequest\" xlink:href=\"psysml:b587d390-d46d-4840-bcaf-beb60201fdea\" xlink:show=\"new\" xlink:title=\"psysml:b587d390-d46d-4840-bcaf-beb60201fdea\" xlink:type=\"simple\"><rect fill=\"#FFFFFF\" height=\"42.9375\" id=\"E2\" rx=\"10\" ry=\"10\" style=\"stroke: #383838; stroke-width: 1.5;\" width=\"60\" x=\"118\" y=\"58\"/><rect fill=\"#F8F8F8\" height=\"37.9375\" rx=\"10\" ry=\"10\" style=\"stroke: #F8F8F8; stroke-width: 1.5;\" width=\"60\" x=\"118\" y=\"58\"/><rect fill=\"#F8F8F8\" height=\"10\" style=\"stroke: #F8F8F8; stroke-width: 1.5;\" width=\"60\" x=\"118\" y=\"85.9375\"/><rect fill=\"none\" height=\"42.9375\" id=\"E2\" rx=\"10\" ry=\"10\" style=\"stroke: #383838; stroke-width: 1.5;\" width=\"60\" x=\"118\" y=\"58\"/><text fill=\"#000000\" font-family=\"sans-serif\" font-size=\"12\" font-style=\"italic\" lengthAdjust=\"spacingAndGlyphs\" textLength=\"53\" x=\"121.5\" y=\"74.1387\">«action»</text><text fill=\"#000000\" font-family=\"sans-serif\" font-size=\"12\" lengthAdjust=\"spacingAndGlyphs\" textLength=\"16\" x=\"140\" y=\"88.1074\">A1</text></a></g><g id=\"E1.E3\"><a href=\"psysml:2c010bd6-de88-4dc7-8be6-3edc78c34a31\" target=\"_top\" title=\"psysml:2c010bd6-de88-4dc7-8be6-3edc78c34a31\" xlink:actuate=\"onRequest\" xlink:href=\"psysml:2c010bd6-de88-4dc7-8be6-3edc78c34a31\" xlink:show=\"new\" xlink:title=\"psysml:2c010bd6-de88-4dc7-8be6-3edc78c34a31\" xlink:type=\"simple\"><rect fill=\"#FFFFFF\" height=\"42.9375\" id=\"E3\" rx=\"10\" ry=\"10\" style=\"stroke: #383838; stroke-width: 1.5;\" width=\"60\" x=\"23\" y=\"58\"/><rect fill=\"#F8F8F8\" height=\"37.9375\" rx=\"10\" ry=\"10\" style=\"stroke: #F8F8F8; stroke-width: 1.5;\" width=\"60\" x=\"23\" y=\"58\"/><rect fill=\"#F8F8F8\" height=\"10\" style=\"stroke: #F8F8F8; stroke-width: 1.5;\" width=\"60\" x=\"23\" y=\"85.9375\"/><rect fill=\"none\" height=\"42.9375\" id=\"E3\" rx=\"10\" ry=\"10\" style=\"stroke: #383838; stroke-width: 1.5;\" width=\"60\" x=\"23\" y=\"58\"/><text fill=\"#000000\" font-family=\"sans-serif\" font-size=\"12\" font-style=\"italic\" lengthAdjust=\"spacingAndGlyphs\" textLength=\"53\" x=\"26.5\" y=\"74.1387\">«action»</text><text fill=\"#000000\" font-family=\"sans-serif\" font-size=\"12\" lengthAdjust=\"spacingAndGlyphs\" textLength=\"16\" x=\"45\" y=\"88.1074\">A2</text></a></g><g id=\"E1.E6\"><a href=\"psysml:b42821ea-70f6-43bd-9a67-84f3e511770a\" target=\"_top\" title=\"psysml:b42821ea-70f6-43bd-9a67-84f3e511770a\" xlink:actuate=\"onRequest\" xlink:href=\"psysml:b42821ea-70f6-43bd-9a67-84f3e511770a\" xlink:show=\"new\" xlink:title=\"psysml:b42821ea-70f6-43bd-9a67-84f3e511770a\" xlink:type=\"simple\"><rect fill=\"#FFFFFF\" height=\"42.9375\" id=\"E6\" rx=\"10\" ry=\"10\" style=\"stroke: #383838; stroke-width: 1.5;\" width=\"60\" x=\"23\" y=\"147\"/><rect fill=\"#F8F8F8\" height=\"37.9375\" rx=\"10\" ry=\"10\" style=\"stroke: #F8F8F8; stroke-width: 1.5;\" width=\"60\" x=\"23\" y=\"147\"/><rect fill=\"#F8F8F8\" height=\"10\" style=\"stroke: #F8F8F8; stroke-width: 1.5;\" width=\"60\" x=\"23\" y=\"174.9375\"/><rect fill=\"none\" height=\"42.9375\" id=\"E6\" rx=\"10\" ry=\"10\" style=\"stroke: #383838; stroke-width: 1.5;\" width=\"60\" x=\"23\" y=\"147\"/><text fill=\"#000000\" font-family=\"sans-serif\" font-size=\"12\" font-style=\"italic\" lengthAdjust=\"spacingAndGlyphs\" textLength=\"53\" x=\"26.5\" y=\"163.1387\">«action»</text><text fill=\"#000000\" font-family=\"sans-serif\" font-size=\"12\" lengthAdjust=\"spacingAndGlyphs\" textLength=\"16\" x=\"45\" y=\"177.1074\">B1</text></a></g><g id=\"E1.E7\"><a href=\"psysml:e950d6a4-fdbd-4650-aa0a-2ca4b4e20830\" target=\"_top\" title=\"psysml:e950d6a4-fdbd-4650-aa0a-2ca4b4e20830\" xlink:actuate=\"onRequest\" xlink:href=\"psysml:e950d6a4-fdbd-4650-aa0a-2ca4b4e20830\" xlink:show=\"new\" xlink:title=\"psysml:e950d6a4-fdbd-4650-aa0a-2ca4b4e20830\" xlink:type=\"simple\"><rect fill=\"#FFFFFF\" height=\"42.9375\" id=\"E7\" rx=\"10\" ry=\"10\" style=\"stroke: #383838; stroke-width: 1.5;\" width=\"60\" x=\"118\" y=\"147\"/><rect fill=\"#F8F8F8\" height=\"37.9375\" rx=\"10\" ry=\"10\" style=\"stroke: #F8F8F8; stroke-width: 1.5;\" width=\"60\" x=\"118\" y=\"147\"/><rect fill=\"#F8F8F8\" height=\"10\" style=\"stroke: #F8F8F8; stroke-width: 1.5;\" width=\"60\" x=\"118\" y=\"174.9375\"/><rect fill=\"none\" height=\"42.9375\" id=\"E7\" rx=\"10\" ry=\"10\" style=\"stroke: #383838; stroke-width: 1.5;\" width=\"60\" x=\"118\" y=\"147\"/><text fill=\"#000000\" font-family=\"sans-serif\" font-size=\"12\" font-style=\"italic\" lengthAdjust=\"spacingAndGlyphs\" textLength=\"53\" x=\"121.5\" y=\"163.1387\">«action»</text><text fill=\"#000000\" font-family=\"sans-serif\" font-size=\"12\" lengthAdjust=\"spacingAndGlyphs\" textLength=\"16\" x=\"140\" y=\"177.1074\">B2</text></a></g><!--MD5=[4d03bb2d0377dc85ccfab60ff574652b]\n",
       "link E2 to E4--><a href=\"psysml:4f9dc8d6-d6e0-48a2-bcc8-8318223d246b\" target=\"_top\" title=\"psysml:4f9dc8d6-d6e0-48a2-bcc8-8318223d246b\" xlink:actuate=\"onRequest\" xlink:href=\"psysml:4f9dc8d6-d6e0-48a2-bcc8-8318223d246b\" xlink:show=\"new\" xlink:title=\"psysml:4f9dc8d6-d6e0-48a2-bcc8-8318223d246b\" xlink:type=\"simple\"><path d=\"M118.42,101.14 C114.95,103.57 111.64,105.88 108.81,107.85 \" fill=\"none\" id=\"E2-&gt;E4\" style=\"stroke: #383838; stroke-width: 1.0;\"/><polygon fill=\"#383838\" points=\"104.3,111,113.9709,109.1361,108.4022,108.1413,109.397,102.5726,104.3,111\" style=\"stroke: #383838; stroke-width: 1.0;\"/><text fill=\"#000000\" font-family=\"sans-serif\" font-size=\"13\" lengthAdjust=\"spacingAndGlyphs\" textLength=\"7\" x=\"97.87\" y=\"99.9205\">*</text></a><!--MD5=[af87c684e3b0d8be13c1a698a818ef1e]\n",
       "link E3 to E4--><a href=\"psysml:d5a52d23-3eda-48ed-8e98-b9c24f218910\" target=\"_top\" title=\"psysml:d5a52d23-3eda-48ed-8e98-b9c24f218910\" xlink:actuate=\"onRequest\" xlink:href=\"psysml:d5a52d23-3eda-48ed-8e98-b9c24f218910\" xlink:show=\"new\" xlink:title=\"psysml:d5a52d23-3eda-48ed-8e98-b9c24f218910\" xlink:type=\"simple\"><path d=\"M81.96,101.14 C85.36,103.57 88.6,105.88 91.37,107.85 \" fill=\"none\" id=\"E3-&gt;E4\" style=\"stroke: #383838; stroke-width: 1.0;\"/><polygon fill=\"#383838\" points=\"95.79,111,90.7801,102.5206,91.7175,108.0992,86.1388,109.0366,95.79,111\" style=\"stroke: #383838; stroke-width: 1.0;\"/><text fill=\"#000000\" font-family=\"sans-serif\" font-size=\"13\" lengthAdjust=\"spacingAndGlyphs\" textLength=\"7\" x=\"91.1121\" y=\"103.6092\">*</text></a><!--MD5=[1b7591eae5389033d8d09a9d6721a717]\n",
       "link E4 to E5--><a href=\"psysml:822f1664-72e1-4116-b41f-1c0919a615e0\" target=\"_top\" title=\"psysml:822f1664-72e1-4116-b41f-1c0919a615e0\" xlink:actuate=\"onRequest\" xlink:href=\"psysml:822f1664-72e1-4116-b41f-1c0919a615e0\" xlink:show=\"new\" xlink:title=\"psysml:822f1664-72e1-4116-b41f-1c0919a615e0\" xlink:type=\"simple\"><path d=\"M100,119.08 C100,120.38 100,121.95 100,123.55 \" fill=\"none\" id=\"E4-&gt;E5\" style=\"stroke: #383838; stroke-width: 1.0;\"/><polygon fill=\"#383838\" points=\"100,128.7,104,119.7,100,123.7,96,119.7,100,128.7\" style=\"stroke: #383838; stroke-width: 1.0;\"/><text fill=\"#000000\" font-family=\"sans-serif\" font-size=\"13\" lengthAdjust=\"spacingAndGlyphs\" textLength=\"7\" x=\"42.9663\" y=\"135.9509\">*</text></a><!--MD5=[9120cf2e5df3bff93db8f754bbbc09b4]\n",
       "link E5 to E6--><a href=\"psysml:2360acce-0fc1-431a-bbc0-189c84da742a\" target=\"_top\" title=\"psysml:2360acce-0fc1-431a-bbc0-189c84da742a\" xlink:actuate=\"onRequest\" xlink:href=\"psysml:2360acce-0fc1-431a-bbc0-189c84da742a\" xlink:show=\"new\" xlink:title=\"psysml:2360acce-0fc1-431a-bbc0-189c84da742a\" xlink:type=\"simple\"><path d=\"M95.66,137.09 C93.25,138.81 89.99,141.13 86.35,143.73 \" fill=\"none\" id=\"E5-&gt;E6\" style=\"stroke: #383838; stroke-width: 1.0;\"/><polygon fill=\"#383838\" points=\"81.93,146.88,91.5812,144.9166,86.0025,143.9792,86.9399,138.4006,81.93,146.88\" style=\"stroke: #383838; stroke-width: 1.0;\"/><text fill=\"#000000\" font-family=\"sans-serif\" font-size=\"13\" lengthAdjust=\"spacingAndGlyphs\" textLength=\"7\" x=\"91.0509\" y=\"155.0031\">*</text></a><!--MD5=[3a9b96bfbf6b6ad89c494e81751bda47]\n",
       "link E5 to E7--><a href=\"psysml:ee81c625-3e17-4e8d-972a-76052e7a84e3\" target=\"_top\" title=\"psysml:ee81c625-3e17-4e8d-972a-76052e7a84e3\" xlink:actuate=\"onRequest\" xlink:href=\"psysml:ee81c625-3e17-4e8d-972a-76052e7a84e3\" xlink:show=\"new\" xlink:title=\"psysml:ee81c625-3e17-4e8d-972a-76052e7a84e3\" xlink:type=\"simple\"><path d=\"M104.43,137.09 C106.9,138.81 110.22,141.13 113.94,143.73 \" fill=\"none\" id=\"E5-&gt;E7\" style=\"stroke: #383838; stroke-width: 1.0;\"/><polygon fill=\"#383838\" points=\"118.46,146.88,113.3827,138.4407,114.3645,144.0117,108.7935,144.9935,118.46,146.88\" style=\"stroke: #383838; stroke-width: 1.0;\"/><text fill=\"#000000\" font-family=\"sans-serif\" font-size=\"13\" lengthAdjust=\"spacingAndGlyphs\" textLength=\"7\" x=\"102.9935\" y=\"155.3537\">*</text></a><!--MD5=[9e67ef81c236d08e2210e7c366650fc3]\n",
       "@startuml\r\n",
       "skinparam ranksep 10\r\n",
       "skinparam rectangle {\r\n",
       " backgroundColor<<block>> LightGreen\r\n",
       "}\r\n",
       "top to bottom direction\r\n",
       "skinparam monochrome true\r\n",
       "skinparam classbackgroundcolor white\r\n",
       "skinparam shadowing false\r\n",
       "skinparam wrapWidth 300\r\n",
       "hide circle\r\n",
       "\r\n",
       "rec def \"ControlNodeTest\" as E1  <<(T,blue) action  def>> [[psysml:06c83ae0-0be1-4108-9f79-6c682626264b ]] {\r\n",
       "rec usage \"A1\" as E2  <<(T,blue) action>> [[psysml:b587d390-d46d-4840-bcaf-beb60201fdea ]] {\r\n",
       "}\r\n",
       "\r\n",
       "rec usage \"A2\" as E3  <<(T,blue) action>> [[psysml:2c010bd6-de88-4dc7-8be6-3edc78c34a31 ]] {\r\n",
       "}\r\n",
       "\r\n",
       "join \"J\" as E4  [[psysml:b80e7b99-08a2-49d6-9359-b424cf684151 ]] \r\n",
       "fork \"F\" as E5  [[psysml:df495c9b-9171-48f9-ac7d-26427115e0f4 ]] \r\n",
       "rec usage \"B1\" as E6  <<(T,blue) action>> [[psysml:b42821ea-70f6-43bd-9a67-84f3e511770a ]] {\r\n",
       "}\r\n",
       "\r\n",
       "rec usage \"B2\" as E7  <<(T,blue) action>> [[psysml:e950d6a4-fdbd-4650-aa0a-2ca4b4e20830 ]] {\r\n",
       "}\r\n",
       "\r\n",
       "}\r\n",
       "\r\n",
       "E2 - -> \"*\"E4 [[psysml:4f9dc8d6-d6e0-48a2-bcc8-8318223d246b ]] \r\n",
       "E3 - -> \"*\"E4 [[psysml:d5a52d23-3eda-48ed-8e98-b9c24f218910 ]] \r\n",
       "E4 - -> \"*\"E5 [[psysml:822f1664-72e1-4116-b41f-1c0919a615e0 ]] \r\n",
       "E5 - -> \"*\"E6 [[psysml:2360acce-0fc1-431a-bbc0-189c84da742a ]] \r\n",
       "E5 - -> \"*\"E7 [[psysml:ee81c625-3e17-4e8d-972a-76052e7a84e3 ]] \r\n",
       "@enduml\r\n",
       "\n",
       "PlantUML version 1.2020.13(Sat Jun 13 12:26:38 UTC 2020)\n",
       "(EPL source distribution)\n",
       "Java Runtime: OpenJDK Runtime Environment\n",
       "JVM: OpenJDK 64-Bit Server VM\n",
       "Default Encoding: UTF-8\n",
       "Language: en\n",
       "Country: null\n",
       "--></g></svg>"
      ]
     },
     "execution_count": 47,
     "metadata": {},
     "output_type": "execute_result"
    }
   ],
   "source": [
    "%viz --style=\"TB\" --view=\"Interconnection\" \"ControlNodeTest\""
   ]
  },
  {
   "cell_type": "code",
   "execution_count": 48,
   "id": "37b22299",
   "metadata": {
    "execution": {
     "iopub.execute_input": "2022-02-18T10:46:12.395741Z",
     "iopub.status.busy": "2022-02-18T10:46:12.395204Z",
     "iopub.status.idle": "2022-02-18T10:46:12.427899Z",
     "shell.execute_reply": "2022-02-18T10:46:12.427538Z"
    }
   },
   "outputs": [
    {
     "data": {
      "image/svg+xml": [
       "<?xml version=\"1.0\" encoding=\"UTF-8\" standalone=\"no\"?><svg xmlns=\"http://www.w3.org/2000/svg\" xmlns:xlink=\"http://www.w3.org/1999/xlink\" contentScriptType=\"application/ecmascript\" contentStyleType=\"text/css\" height=\"211px\" preserveAspectRatio=\"none\" style=\"width:205px;height:211px;\" version=\"1.1\" viewBox=\"0 0 205 211\" width=\"205px\" zoomAndPan=\"magnify\"><defs/><g><!--MD5=[fbc87193dbaf4d95561dea2c320d4a47]\n",
       "cluster E1--><a href=\"psysml:06c83ae0-0be1-4108-9f79-6c682626264b\" target=\"_top\" title=\"psysml:06c83ae0-0be1-4108-9f79-6c682626264b\" xlink:actuate=\"onRequest\" xlink:href=\"psysml:06c83ae0-0be1-4108-9f79-6c682626264b\" xlink:show=\"new\" xlink:title=\"psysml:06c83ae0-0be1-4108-9f79-6c682626264b\" xlink:type=\"simple\"><rect fill=\"#FFFFFF\" height=\"193\" id=\"E1\" style=\"stroke: #383838; stroke-width: 1.5;\" width=\"187\" x=\"7\" y=\"7\"/><rect fill=\"#F8F8F8\" height=\"37.9375\" style=\"stroke: #383838; stroke-width: 1.5;\" width=\"187\" x=\"7\" y=\"7\"/><text fill=\"#000000\" font-family=\"sans-serif\" font-size=\"12\" font-style=\"italic\" lengthAdjust=\"spacingAndGlyphs\" textLength=\"81\" x=\"60\" y=\"23.1387\">«action  def»</text><text fill=\"#000000\" font-family=\"sans-serif\" font-size=\"12\" lengthAdjust=\"spacingAndGlyphs\" textLength=\"105\" x=\"48\" y=\"37.1074\">ControlNodeTest</text></a><rect fill=\"#000000\" height=\"8\" style=\"stroke: none; stroke-width: 1.0;\" width=\"80\" x=\"60\" y=\"109\"/><rect fill=\"#000000\" height=\"8\" style=\"stroke: none; stroke-width: 1.0;\" width=\"80\" x=\"60\" y=\"125\"/><g id=\"E1.E2\"><a href=\"psysml:b587d390-d46d-4840-bcaf-beb60201fdea\" target=\"_top\" title=\"psysml:b587d390-d46d-4840-bcaf-beb60201fdea\" xlink:actuate=\"onRequest\" xlink:href=\"psysml:b587d390-d46d-4840-bcaf-beb60201fdea\" xlink:show=\"new\" xlink:title=\"psysml:b587d390-d46d-4840-bcaf-beb60201fdea\" xlink:type=\"simple\"><rect fill=\"#FFFFFF\" height=\"42.9375\" id=\"E2\" rx=\"10\" ry=\"10\" style=\"stroke: #383838; stroke-width: 1.5;\" width=\"60\" x=\"118\" y=\"58\"/><rect fill=\"#F8F8F8\" height=\"37.9375\" rx=\"10\" ry=\"10\" style=\"stroke: #F8F8F8; stroke-width: 1.5;\" width=\"60\" x=\"118\" y=\"58\"/><rect fill=\"#F8F8F8\" height=\"10\" style=\"stroke: #F8F8F8; stroke-width: 1.5;\" width=\"60\" x=\"118\" y=\"85.9375\"/><rect fill=\"none\" height=\"42.9375\" id=\"E2\" rx=\"10\" ry=\"10\" style=\"stroke: #383838; stroke-width: 1.5;\" width=\"60\" x=\"118\" y=\"58\"/><text fill=\"#000000\" font-family=\"sans-serif\" font-size=\"12\" font-style=\"italic\" lengthAdjust=\"spacingAndGlyphs\" textLength=\"53\" x=\"121.5\" y=\"74.1387\">«action»</text><text fill=\"#000000\" font-family=\"sans-serif\" font-size=\"12\" lengthAdjust=\"spacingAndGlyphs\" textLength=\"16\" x=\"140\" y=\"88.1074\">A1</text></a></g><g id=\"E1.E3\"><a href=\"psysml:2c010bd6-de88-4dc7-8be6-3edc78c34a31\" target=\"_top\" title=\"psysml:2c010bd6-de88-4dc7-8be6-3edc78c34a31\" xlink:actuate=\"onRequest\" xlink:href=\"psysml:2c010bd6-de88-4dc7-8be6-3edc78c34a31\" xlink:show=\"new\" xlink:title=\"psysml:2c010bd6-de88-4dc7-8be6-3edc78c34a31\" xlink:type=\"simple\"><rect fill=\"#FFFFFF\" height=\"42.9375\" id=\"E3\" rx=\"10\" ry=\"10\" style=\"stroke: #383838; stroke-width: 1.5;\" width=\"60\" x=\"23\" y=\"58\"/><rect fill=\"#F8F8F8\" height=\"37.9375\" rx=\"10\" ry=\"10\" style=\"stroke: #F8F8F8; stroke-width: 1.5;\" width=\"60\" x=\"23\" y=\"58\"/><rect fill=\"#F8F8F8\" height=\"10\" style=\"stroke: #F8F8F8; stroke-width: 1.5;\" width=\"60\" x=\"23\" y=\"85.9375\"/><rect fill=\"none\" height=\"42.9375\" id=\"E3\" rx=\"10\" ry=\"10\" style=\"stroke: #383838; stroke-width: 1.5;\" width=\"60\" x=\"23\" y=\"58\"/><text fill=\"#000000\" font-family=\"sans-serif\" font-size=\"12\" font-style=\"italic\" lengthAdjust=\"spacingAndGlyphs\" textLength=\"53\" x=\"26.5\" y=\"74.1387\">«action»</text><text fill=\"#000000\" font-family=\"sans-serif\" font-size=\"12\" lengthAdjust=\"spacingAndGlyphs\" textLength=\"16\" x=\"45\" y=\"88.1074\">A2</text></a></g><g id=\"E1.E6\"><a href=\"psysml:b42821ea-70f6-43bd-9a67-84f3e511770a\" target=\"_top\" title=\"psysml:b42821ea-70f6-43bd-9a67-84f3e511770a\" xlink:actuate=\"onRequest\" xlink:href=\"psysml:b42821ea-70f6-43bd-9a67-84f3e511770a\" xlink:show=\"new\" xlink:title=\"psysml:b42821ea-70f6-43bd-9a67-84f3e511770a\" xlink:type=\"simple\"><rect fill=\"#FFFFFF\" height=\"42.9375\" id=\"E6\" rx=\"10\" ry=\"10\" style=\"stroke: #383838; stroke-width: 1.5;\" width=\"60\" x=\"23\" y=\"141\"/><rect fill=\"#F8F8F8\" height=\"37.9375\" rx=\"10\" ry=\"10\" style=\"stroke: #F8F8F8; stroke-width: 1.5;\" width=\"60\" x=\"23\" y=\"141\"/><rect fill=\"#F8F8F8\" height=\"10\" style=\"stroke: #F8F8F8; stroke-width: 1.5;\" width=\"60\" x=\"23\" y=\"168.9375\"/><rect fill=\"none\" height=\"42.9375\" id=\"E6\" rx=\"10\" ry=\"10\" style=\"stroke: #383838; stroke-width: 1.5;\" width=\"60\" x=\"23\" y=\"141\"/><text fill=\"#000000\" font-family=\"sans-serif\" font-size=\"12\" font-style=\"italic\" lengthAdjust=\"spacingAndGlyphs\" textLength=\"53\" x=\"26.5\" y=\"157.1387\">«action»</text><text fill=\"#000000\" font-family=\"sans-serif\" font-size=\"12\" lengthAdjust=\"spacingAndGlyphs\" textLength=\"16\" x=\"45\" y=\"171.1074\">B1</text></a></g><g id=\"E1.E7\"><a href=\"psysml:e950d6a4-fdbd-4650-aa0a-2ca4b4e20830\" target=\"_top\" title=\"psysml:e950d6a4-fdbd-4650-aa0a-2ca4b4e20830\" xlink:actuate=\"onRequest\" xlink:href=\"psysml:e950d6a4-fdbd-4650-aa0a-2ca4b4e20830\" xlink:show=\"new\" xlink:title=\"psysml:e950d6a4-fdbd-4650-aa0a-2ca4b4e20830\" xlink:type=\"simple\"><rect fill=\"#FFFFFF\" height=\"42.9375\" id=\"E7\" rx=\"10\" ry=\"10\" style=\"stroke: #383838; stroke-width: 1.5;\" width=\"60\" x=\"118\" y=\"141\"/><rect fill=\"#F8F8F8\" height=\"37.9375\" rx=\"10\" ry=\"10\" style=\"stroke: #F8F8F8; stroke-width: 1.5;\" width=\"60\" x=\"118\" y=\"141\"/><rect fill=\"#F8F8F8\" height=\"10\" style=\"stroke: #F8F8F8; stroke-width: 1.5;\" width=\"60\" x=\"118\" y=\"168.9375\"/><rect fill=\"none\" height=\"42.9375\" id=\"E7\" rx=\"10\" ry=\"10\" style=\"stroke: #383838; stroke-width: 1.5;\" width=\"60\" x=\"118\" y=\"141\"/><text fill=\"#000000\" font-family=\"sans-serif\" font-size=\"12\" font-style=\"italic\" lengthAdjust=\"spacingAndGlyphs\" textLength=\"53\" x=\"121.5\" y=\"157.1387\">«action»</text><text fill=\"#000000\" font-family=\"sans-serif\" font-size=\"12\" lengthAdjust=\"spacingAndGlyphs\" textLength=\"16\" x=\"140\" y=\"171.1074\">B2</text></a></g><!--MD5=[4d03bb2d0377dc85ccfab60ff574652b]\n",
       "link E2 to E4--><a href=\"psysml:4f9dc8d6-d6e0-48a2-bcc8-8318223d246b\" target=\"_top\" title=\"psysml:4f9dc8d6-d6e0-48a2-bcc8-8318223d246b\" xlink:actuate=\"onRequest\" xlink:href=\"psysml:4f9dc8d6-d6e0-48a2-bcc8-8318223d246b\" xlink:show=\"new\" xlink:title=\"psysml:4f9dc8d6-d6e0-48a2-bcc8-8318223d246b\" xlink:type=\"simple\"><path d=\"M117.87,100.27 C114.67,102.37 111.63,104.37 108.98,106.1 \" fill=\"none\" id=\"E2-&gt;E4\" style=\"stroke: #383838; stroke-width: 1.0; stroke-dasharray: 7.0,7.0;\"/><polygon fill=\"#383838\" points=\"104.72,108.9,114.4401,107.3128,108.9021,106.1595,110.0554,100.6215,104.72,108.9\" style=\"stroke: #383838; stroke-width: 1.0;\"/></a><!--MD5=[af87c684e3b0d8be13c1a698a818ef1e]\n",
       "link E3 to E4--><a href=\"psysml:d5a52d23-3eda-48ed-8e98-b9c24f218910\" target=\"_top\" title=\"psysml:d5a52d23-3eda-48ed-8e98-b9c24f218910\" xlink:actuate=\"onRequest\" xlink:href=\"psysml:d5a52d23-3eda-48ed-8e98-b9c24f218910\" xlink:show=\"new\" xlink:title=\"psysml:d5a52d23-3eda-48ed-8e98-b9c24f218910\" xlink:type=\"simple\"><path d=\"M83.03,100.63 C85.85,102.52 88.54,104.32 90.9,105.9 \" fill=\"none\" id=\"E3-&gt;E4\" style=\"stroke: #383838; stroke-width: 1.0; stroke-dasharray: 7.0,7.0;\"/><polygon fill=\"#383838\" points=\"95.26,108.82,90.0101,100.487,91.1063,106.0366,85.5567,107.1328,95.26,108.82\" style=\"stroke: #383838; stroke-width: 1.0;\"/></a><!--MD5=[1b7591eae5389033d8d09a9d6721a717]\n",
       "link E4 to E5--><a href=\"psysml:822f1664-72e1-4116-b41f-1c0919a615e0\" target=\"_top\" title=\"psysml:822f1664-72e1-4116-b41f-1c0919a615e0\" xlink:actuate=\"onRequest\" xlink:href=\"psysml:822f1664-72e1-4116-b41f-1c0919a615e0\" xlink:show=\"new\" xlink:title=\"psysml:822f1664-72e1-4116-b41f-1c0919a615e0\" xlink:type=\"simple\"><path d=\"M100,117.25 C100,118.05 100,118.94 100,119.86 \" fill=\"none\" id=\"E4-&gt;E5\" style=\"stroke: #383838; stroke-width: 1.0; stroke-dasharray: 7.0,7.0;\"/><polygon fill=\"#383838\" points=\"100,124.96,104,115.96,100,119.96,96,115.96,100,124.96\" style=\"stroke: #383838; stroke-width: 1.0;\"/></a><!--MD5=[9120cf2e5df3bff93db8f754bbbc09b4]\n",
       "link E5 to E6--><a href=\"psysml:2360acce-0fc1-431a-bbc0-189c84da742a\" target=\"_top\" title=\"psysml:2360acce-0fc1-431a-bbc0-189c84da742a\" xlink:actuate=\"onRequest\" xlink:href=\"psysml:2360acce-0fc1-431a-bbc0-189c84da742a\" xlink:show=\"new\" xlink:title=\"psysml:2360acce-0fc1-431a-bbc0-189c84da742a\" xlink:type=\"simple\"><path d=\"M95.32,133.14 C93.21,134.55 90.52,136.35 87.53,138.36 \" fill=\"none\" id=\"E5-&gt;E6\" style=\"stroke: #383838; stroke-width: 1.0; stroke-dasharray: 7.0,7.0;\"/><polygon fill=\"#383838\" points=\"83.27,141.21,92.9706,139.5074,87.4192,138.42,88.5066,132.8687,83.27,141.21\" style=\"stroke: #383838; stroke-width: 1.0;\"/></a><!--MD5=[3a9b96bfbf6b6ad89c494e81751bda47]\n",
       "link E5 to E7--><a href=\"psysml:ee81c625-3e17-4e8d-972a-76052e7a84e3\" target=\"_top\" title=\"psysml:ee81c625-3e17-4e8d-972a-76052e7a84e3\" xlink:actuate=\"onRequest\" xlink:href=\"psysml:ee81c625-3e17-4e8d-972a-76052e7a84e3\" xlink:show=\"new\" xlink:title=\"psysml:ee81c625-3e17-4e8d-972a-76052e7a84e3\" xlink:type=\"simple\"><path d=\"M104.78,133.14 C107.16,134.7 110.28,136.75 113.75,139.02 \" fill=\"none\" id=\"E5-&gt;E7\" style=\"stroke: #383838; stroke-width: 1.0; stroke-dasharray: 7.0,7.0;\"/><polygon fill=\"#383838\" points=\"117.96,141.79,112.6246,133.5115,113.7779,139.0495,108.2399,140.2028,117.96,141.79\" style=\"stroke: #383838; stroke-width: 1.0;\"/></a><!--MD5=[2db17e22df1cd35ba04def02a2cb4e32]\n",
       "@startuml\r\n",
       "skinparam ranksep 8\r\n",
       "top to bottom direction\r\n",
       "skinparam monochrome true\r\n",
       "skinparam classbackgroundcolor white\r\n",
       "skinparam shadowing false\r\n",
       "skinparam wrapWidth 300\r\n",
       "hide circle\r\n",
       "\r\n",
       "rec def \"ControlNodeTest\" as E1  <<(T,blue) action  def>> [[psysml:06c83ae0-0be1-4108-9f79-6c682626264b ]] {\r\n",
       "rec usage \"A1\" as E2  <<(T,blue) action>> [[psysml:b587d390-d46d-4840-bcaf-beb60201fdea ]] {\r\n",
       "}\r\n",
       "\r\n",
       "rec usage \"A2\" as E3  <<(T,blue) action>> [[psysml:2c010bd6-de88-4dc7-8be6-3edc78c34a31 ]] {\r\n",
       "}\r\n",
       "\r\n",
       "join \"J\" as E4  [[psysml:b80e7b99-08a2-49d6-9359-b424cf684151 ]] \r\n",
       "fork \"F\" as E5  [[psysml:df495c9b-9171-48f9-ac7d-26427115e0f4 ]] \r\n",
       "rec usage \"B1\" as E6  <<(T,blue) action>> [[psysml:b42821ea-70f6-43bd-9a67-84f3e511770a ]] {\r\n",
       "}\r\n",
       "\r\n",
       "rec usage \"B2\" as E7  <<(T,blue) action>> [[psysml:e950d6a4-fdbd-4650-aa0a-2ca4b4e20830 ]] {\r\n",
       "}\r\n",
       "\r\n",
       "}\r\n",
       "\r\n",
       "E2 ..> E4 [[psysml:4f9dc8d6-d6e0-48a2-bcc8-8318223d246b ]] \r\n",
       "E3 ..> E4 [[psysml:d5a52d23-3eda-48ed-8e98-b9c24f218910 ]] \r\n",
       "E4 ..> E5 [[psysml:822f1664-72e1-4116-b41f-1c0919a615e0 ]] \r\n",
       "E5 ..> E6 [[psysml:2360acce-0fc1-431a-bbc0-189c84da742a ]] \r\n",
       "E5 ..> E7 [[psysml:ee81c625-3e17-4e8d-972a-76052e7a84e3 ]] \r\n",
       "@enduml\r\n",
       "\n",
       "PlantUML version 1.2020.13(Sat Jun 13 12:26:38 UTC 2020)\n",
       "(EPL source distribution)\n",
       "Java Runtime: OpenJDK Runtime Environment\n",
       "JVM: OpenJDK 64-Bit Server VM\n",
       "Default Encoding: UTF-8\n",
       "Language: en\n",
       "Country: null\n",
       "--></g></svg>"
      ]
     },
     "execution_count": 48,
     "metadata": {},
     "output_type": "execute_result"
    }
   ],
   "source": [
    "%viz --style=\"TB\" --view=\"Action\" \"ControlNodeTest\""
   ]
  },
  {
   "cell_type": "code",
   "execution_count": 49,
   "id": "8d69029b",
   "metadata": {
    "execution": {
     "iopub.execute_input": "2022-02-18T10:46:12.477006Z",
     "iopub.status.busy": "2022-02-18T10:46:12.476766Z",
     "iopub.status.idle": "2022-02-18T10:46:12.482355Z",
     "shell.execute_reply": "2022-02-18T10:46:12.482581Z"
    }
   },
   "outputs": [
    {
     "data": {
      "image/svg+xml": [
       "<?xml version=\"1.0\" encoding=\"UTF-8\" standalone=\"no\"?><svg xmlns=\"http://www.w3.org/2000/svg\" xmlns:xlink=\"http://www.w3.org/1999/xlink\" contentScriptType=\"application/ecmascript\" contentStyleType=\"text/css\" height=\"12px\" preserveAspectRatio=\"none\" style=\"width:12px;height:12px;\" version=\"1.1\" viewBox=\"0 0 12 12\" width=\"12px\" zoomAndPan=\"magnify\"><defs/><g><!--MD5=[e1ab0c84c44d2fef8bf5f140f2689906]\n",
       "@startuml\r\n",
       "skinparam roundcorner 20\r\n",
       "skinparam BoxPadding 20\r\n",
       "skinparam SequenceBoxBackgroundColor #white\r\n",
       "skinparam style strictuml\r\n",
       "skinparam maxMessageSize 100\r\n",
       "top to bottom direction\r\n",
       "skinparam monochrome true\r\n",
       "skinparam classbackgroundcolor white\r\n",
       "skinparam shadowing false\r\n",
       "skinparam wrapWidth 300\r\n",
       "hide circle\r\n",
       "\r\n",
       "@enduml\r\n",
       "\n",
       "PlantUML version 1.2020.13(Sat Jun 13 12:26:38 UTC 2020)\n",
       "(EPL source distribution)\n",
       "Java Runtime: OpenJDK Runtime Environment\n",
       "JVM: OpenJDK 64-Bit Server VM\n",
       "Default Encoding: UTF-8\n",
       "Language: en\n",
       "Country: null\n",
       "--></g></svg>"
      ]
     },
     "execution_count": 49,
     "metadata": {},
     "output_type": "execute_result"
    }
   ],
   "source": [
    "%viz --style=\"TB\" --view=\"Sequence\" \"ControlNodeTest\""
   ]
  },
  {
   "cell_type": "code",
   "execution_count": 50,
   "id": "1d60f43f",
   "metadata": {
    "execution": {
     "iopub.execute_input": "2022-02-18T10:46:12.532719Z",
     "iopub.status.busy": "2022-02-18T10:46:12.532476Z",
     "iopub.status.idle": "2022-02-18T10:46:12.566856Z",
     "shell.execute_reply": "2022-02-18T10:46:12.566001Z"
    }
   },
   "outputs": [
    {
     "data": {
      "image/svg+xml": [
       "<?xml version=\"1.0\" encoding=\"UTF-8\" standalone=\"no\"?><svg xmlns=\"http://www.w3.org/2000/svg\" xmlns:xlink=\"http://www.w3.org/1999/xlink\" contentScriptType=\"application/ecmascript\" contentStyleType=\"text/css\" height=\"367px\" preserveAspectRatio=\"none\" style=\"width:205px;height:367px;\" version=\"1.1\" viewBox=\"0 0 205 367\" width=\"205px\" zoomAndPan=\"magnify\"><defs/><g><!--MD5=[fbc87193dbaf4d95561dea2c320d4a47]\n",
       "cluster E1--><a href=\"psysml:06c83ae0-0be1-4108-9f79-6c682626264b\" target=\"_top\" title=\"psysml:06c83ae0-0be1-4108-9f79-6c682626264b\" xlink:actuate=\"onRequest\" xlink:href=\"psysml:06c83ae0-0be1-4108-9f79-6c682626264b\" xlink:show=\"new\" xlink:title=\"psysml:06c83ae0-0be1-4108-9f79-6c682626264b\" xlink:type=\"simple\"><rect fill=\"#FFFFFF\" height=\"349\" id=\"E1\" style=\"stroke: #383838; stroke-width: 1.5;\" width=\"187\" x=\"7\" y=\"7\"/><rect fill=\"#F8F8F8\" height=\"37.9375\" style=\"stroke: #383838; stroke-width: 1.5;\" width=\"187\" x=\"7\" y=\"7\"/><text fill=\"#000000\" font-family=\"sans-serif\" font-size=\"12\" font-style=\"italic\" lengthAdjust=\"spacingAndGlyphs\" textLength=\"81\" x=\"60\" y=\"23.1387\">«action  def»</text><text fill=\"#000000\" font-family=\"sans-serif\" font-size=\"12\" lengthAdjust=\"spacingAndGlyphs\" textLength=\"105\" x=\"48\" y=\"37.1074\">ControlNodeTest</text></a><rect fill=\"#000000\" height=\"8\" style=\"stroke: none; stroke-width: 1.0;\" width=\"80\" x=\"60\" y=\"161\"/><rect fill=\"#000000\" height=\"8\" style=\"stroke: none; stroke-width: 1.0;\" width=\"80\" x=\"60\" y=\"229\"/><g id=\"E1.E2\"><a href=\"psysml:b587d390-d46d-4840-bcaf-beb60201fdea\" target=\"_top\" title=\"psysml:b587d390-d46d-4840-bcaf-beb60201fdea\" xlink:actuate=\"onRequest\" xlink:href=\"psysml:b587d390-d46d-4840-bcaf-beb60201fdea\" xlink:show=\"new\" xlink:title=\"psysml:b587d390-d46d-4840-bcaf-beb60201fdea\" xlink:type=\"simple\"><rect fill=\"#FFFFFF\" height=\"42.9375\" id=\"E2\" rx=\"10\" ry=\"10\" style=\"stroke: #383838; stroke-width: 1.5;\" width=\"60\" x=\"118\" y=\"58\"/><rect fill=\"#F8F8F8\" height=\"37.9375\" rx=\"10\" ry=\"10\" style=\"stroke: #F8F8F8; stroke-width: 1.5;\" width=\"60\" x=\"118\" y=\"58\"/><rect fill=\"#F8F8F8\" height=\"10\" style=\"stroke: #F8F8F8; stroke-width: 1.5;\" width=\"60\" x=\"118\" y=\"85.9375\"/><rect fill=\"none\" height=\"42.9375\" id=\"E2\" rx=\"10\" ry=\"10\" style=\"stroke: #383838; stroke-width: 1.5;\" width=\"60\" x=\"118\" y=\"58\"/><text fill=\"#000000\" font-family=\"sans-serif\" font-size=\"12\" font-style=\"italic\" lengthAdjust=\"spacingAndGlyphs\" textLength=\"53\" x=\"121.5\" y=\"74.1387\">«action»</text><text fill=\"#000000\" font-family=\"sans-serif\" font-size=\"12\" lengthAdjust=\"spacingAndGlyphs\" textLength=\"16\" x=\"140\" y=\"88.1074\">A1</text></a></g><g id=\"E1.E3\"><a href=\"psysml:2c010bd6-de88-4dc7-8be6-3edc78c34a31\" target=\"_top\" title=\"psysml:2c010bd6-de88-4dc7-8be6-3edc78c34a31\" xlink:actuate=\"onRequest\" xlink:href=\"psysml:2c010bd6-de88-4dc7-8be6-3edc78c34a31\" xlink:show=\"new\" xlink:title=\"psysml:2c010bd6-de88-4dc7-8be6-3edc78c34a31\" xlink:type=\"simple\"><rect fill=\"#FFFFFF\" height=\"42.9375\" id=\"E3\" rx=\"10\" ry=\"10\" style=\"stroke: #383838; stroke-width: 1.5;\" width=\"60\" x=\"23\" y=\"58\"/><rect fill=\"#F8F8F8\" height=\"37.9375\" rx=\"10\" ry=\"10\" style=\"stroke: #F8F8F8; stroke-width: 1.5;\" width=\"60\" x=\"23\" y=\"58\"/><rect fill=\"#F8F8F8\" height=\"10\" style=\"stroke: #F8F8F8; stroke-width: 1.5;\" width=\"60\" x=\"23\" y=\"85.9375\"/><rect fill=\"none\" height=\"42.9375\" id=\"E3\" rx=\"10\" ry=\"10\" style=\"stroke: #383838; stroke-width: 1.5;\" width=\"60\" x=\"23\" y=\"58\"/><text fill=\"#000000\" font-family=\"sans-serif\" font-size=\"12\" font-style=\"italic\" lengthAdjust=\"spacingAndGlyphs\" textLength=\"53\" x=\"26.5\" y=\"74.1387\">«action»</text><text fill=\"#000000\" font-family=\"sans-serif\" font-size=\"12\" lengthAdjust=\"spacingAndGlyphs\" textLength=\"16\" x=\"45\" y=\"88.1074\">A2</text></a></g><g id=\"E1.E6\"><a href=\"psysml:b42821ea-70f6-43bd-9a67-84f3e511770a\" target=\"_top\" title=\"psysml:b42821ea-70f6-43bd-9a67-84f3e511770a\" xlink:actuate=\"onRequest\" xlink:href=\"psysml:b42821ea-70f6-43bd-9a67-84f3e511770a\" xlink:show=\"new\" xlink:title=\"psysml:b42821ea-70f6-43bd-9a67-84f3e511770a\" xlink:type=\"simple\"><rect fill=\"#FFFFFF\" height=\"42.9375\" id=\"E6\" rx=\"10\" ry=\"10\" style=\"stroke: #383838; stroke-width: 1.5;\" width=\"60\" x=\"23\" y=\"297\"/><rect fill=\"#F8F8F8\" height=\"37.9375\" rx=\"10\" ry=\"10\" style=\"stroke: #F8F8F8; stroke-width: 1.5;\" width=\"60\" x=\"23\" y=\"297\"/><rect fill=\"#F8F8F8\" height=\"10\" style=\"stroke: #F8F8F8; stroke-width: 1.5;\" width=\"60\" x=\"23\" y=\"324.9375\"/><rect fill=\"none\" height=\"42.9375\" id=\"E6\" rx=\"10\" ry=\"10\" style=\"stroke: #383838; stroke-width: 1.5;\" width=\"60\" x=\"23\" y=\"297\"/><text fill=\"#000000\" font-family=\"sans-serif\" font-size=\"12\" font-style=\"italic\" lengthAdjust=\"spacingAndGlyphs\" textLength=\"53\" x=\"26.5\" y=\"313.1387\">«action»</text><text fill=\"#000000\" font-family=\"sans-serif\" font-size=\"12\" lengthAdjust=\"spacingAndGlyphs\" textLength=\"16\" x=\"45\" y=\"327.1074\">B1</text></a></g><g id=\"E1.E7\"><a href=\"psysml:e950d6a4-fdbd-4650-aa0a-2ca4b4e20830\" target=\"_top\" title=\"psysml:e950d6a4-fdbd-4650-aa0a-2ca4b4e20830\" xlink:actuate=\"onRequest\" xlink:href=\"psysml:e950d6a4-fdbd-4650-aa0a-2ca4b4e20830\" xlink:show=\"new\" xlink:title=\"psysml:e950d6a4-fdbd-4650-aa0a-2ca4b4e20830\" xlink:type=\"simple\"><rect fill=\"#FFFFFF\" height=\"42.9375\" id=\"E7\" rx=\"10\" ry=\"10\" style=\"stroke: #383838; stroke-width: 1.5;\" width=\"60\" x=\"118\" y=\"297\"/><rect fill=\"#F8F8F8\" height=\"37.9375\" rx=\"10\" ry=\"10\" style=\"stroke: #F8F8F8; stroke-width: 1.5;\" width=\"60\" x=\"118\" y=\"297\"/><rect fill=\"#F8F8F8\" height=\"10\" style=\"stroke: #F8F8F8; stroke-width: 1.5;\" width=\"60\" x=\"118\" y=\"324.9375\"/><rect fill=\"none\" height=\"42.9375\" id=\"E7\" rx=\"10\" ry=\"10\" style=\"stroke: #383838; stroke-width: 1.5;\" width=\"60\" x=\"118\" y=\"297\"/><text fill=\"#000000\" font-family=\"sans-serif\" font-size=\"12\" font-style=\"italic\" lengthAdjust=\"spacingAndGlyphs\" textLength=\"53\" x=\"121.5\" y=\"313.1387\">«action»</text><text fill=\"#000000\" font-family=\"sans-serif\" font-size=\"12\" lengthAdjust=\"spacingAndGlyphs\" textLength=\"16\" x=\"140\" y=\"327.1074\">B2</text></a></g><!--MD5=[4d03bb2d0377dc85ccfab60ff574652b]\n",
       "link E2 to E4--><a href=\"psysml:4f9dc8d6-d6e0-48a2-bcc8-8318223d246b\" target=\"_top\" title=\"psysml:4f9dc8d6-d6e0-48a2-bcc8-8318223d246b\" xlink:actuate=\"onRequest\" xlink:href=\"psysml:4f9dc8d6-d6e0-48a2-bcc8-8318223d246b\" xlink:show=\"new\" xlink:title=\"psysml:4f9dc8d6-d6e0-48a2-bcc8-8318223d246b\" xlink:type=\"simple\"><path d=\"M136.13,101.14 C125.84,119.06 111.49,144.01 104.37,156.4 \" fill=\"none\" id=\"E2-&gt;E4\" style=\"stroke: #383838; stroke-width: 1.0;\"/><polygon fill=\"#383838\" points=\"101.79,160.88,109.7406,155.0673,104.2799,156.5441,102.8031,151.0834,101.79,160.88\" style=\"stroke: #383838; stroke-width: 1.0;\"/><text fill=\"#000000\" font-family=\"sans-serif\" font-size=\"13\" lengthAdjust=\"spacingAndGlyphs\" textLength=\"7\" x=\"93.6144\" y=\"150.0038\">*</text></a><!--MD5=[af87c684e3b0d8be13c1a698a818ef1e]\n",
       "link E3 to E4--><a href=\"psysml:d5a52d23-3eda-48ed-8e98-b9c24f218910\" target=\"_top\" title=\"psysml:d5a52d23-3eda-48ed-8e98-b9c24f218910\" xlink:actuate=\"onRequest\" xlink:href=\"psysml:d5a52d23-3eda-48ed-8e98-b9c24f218910\" xlink:show=\"new\" xlink:title=\"psysml:d5a52d23-3eda-48ed-8e98-b9c24f218910\" xlink:type=\"simple\"><path d=\"M64.62,101.14 C74.7,119.06 88.75,144.01 95.72,156.4 \" fill=\"none\" id=\"E3-&gt;E4\" style=\"stroke: #383838; stroke-width: 1.0;\"/><polygon fill=\"#383838\" points=\"98.25,160.88,97.3377,151.0735,95.8048,156.5187,90.3596,154.9858,98.25,160.88\" style=\"stroke: #383838; stroke-width: 1.0;\"/><text fill=\"#000000\" font-family=\"sans-serif\" font-size=\"13\" lengthAdjust=\"spacingAndGlyphs\" textLength=\"7\" x=\"99.4531\" y=\"150.0038\">*</text></a><!--MD5=[1b7591eae5389033d8d09a9d6721a717]\n",
       "link E4 to E5--><a href=\"psysml:822f1664-72e1-4116-b41f-1c0919a615e0\" target=\"_top\" title=\"psysml:822f1664-72e1-4116-b41f-1c0919a615e0\" xlink:actuate=\"onRequest\" xlink:href=\"psysml:822f1664-72e1-4116-b41f-1c0919a615e0\" xlink:show=\"new\" xlink:title=\"psysml:822f1664-72e1-4116-b41f-1c0919a615e0\" xlink:type=\"simple\"><path d=\"M100,169.18 C100,178.92 100,208.52 100,223.34 \" fill=\"none\" id=\"E4-&gt;E5\" style=\"stroke: #383838; stroke-width: 1.0;\"/><polygon fill=\"#383838\" points=\"100,228.69,104,219.69,100,223.69,96,219.69,100,228.69\" style=\"stroke: #383838; stroke-width: 1.0;\"/><text fill=\"#000000\" font-family=\"sans-serif\" font-size=\"13\" lengthAdjust=\"spacingAndGlyphs\" textLength=\"7\" x=\"90.6813\" y=\"217.9768\">*</text></a><!--MD5=[9120cf2e5df3bff93db8f754bbbc09b4]\n",
       "link E5 to E6--><a href=\"psysml:2360acce-0fc1-431a-bbc0-189c84da742a\" target=\"_top\" title=\"psysml:2360acce-0fc1-431a-bbc0-189c84da742a\" xlink:actuate=\"onRequest\" xlink:href=\"psysml:2360acce-0fc1-431a-bbc0-189c84da742a\" xlink:show=\"new\" xlink:title=\"psysml:2360acce-0fc1-431a-bbc0-189c84da742a\" xlink:type=\"simple\"><path d=\"M98.21,237.17 C93.16,246.14 78.41,272.36 67.11,292.43 \" fill=\"none\" id=\"E5-&gt;E6\" style=\"stroke: #383838; stroke-width: 1.0;\"/><polygon fill=\"#383838\" points=\"64.61,296.87,72.5151,290.9955,67.0661,292.5148,65.5467,287.0658,64.61,296.87\" style=\"stroke: #383838; stroke-width: 1.0;\"/><text fill=\"#000000\" font-family=\"sans-serif\" font-size=\"13\" lengthAdjust=\"spacingAndGlyphs\" textLength=\"7\" x=\"59.8909\" y=\"285.7715\">*</text></a><!--MD5=[3a9b96bfbf6b6ad89c494e81751bda47]\n",
       "link E5 to E7--><a href=\"psysml:ee81c625-3e17-4e8d-972a-76052e7a84e3\" target=\"_top\" title=\"psysml:ee81c625-3e17-4e8d-972a-76052e7a84e3\" xlink:actuate=\"onRequest\" xlink:href=\"psysml:ee81c625-3e17-4e8d-972a-76052e7a84e3\" xlink:show=\"new\" xlink:title=\"psysml:ee81c625-3e17-4e8d-972a-76052e7a84e3\" xlink:type=\"simple\"><path d=\"M101.82,237.17 C106.98,246.14 122.05,272.36 133.59,292.43 \" fill=\"none\" id=\"E5-&gt;E7\" style=\"stroke: #383838; stroke-width: 1.0;\"/><polygon fill=\"#383838\" points=\"136.14,296.87,135.1269,287.0734,133.6501,292.5341,128.1894,291.0573,136.14,296.87\" style=\"stroke: #383838; stroke-width: 1.0;\"/><text fill=\"#000000\" font-family=\"sans-serif\" font-size=\"13\" lengthAdjust=\"spacingAndGlyphs\" textLength=\"7\" x=\"124.82\" y=\"285.7715\">*</text></a><!--MD5=[133f36882282104a5d83c73fff031d6f]\n",
       "@startuml\r\n",
       "top to bottom direction\r\n",
       "skinparam monochrome true\r\n",
       "skinparam classbackgroundcolor white\r\n",
       "skinparam shadowing false\r\n",
       "skinparam wrapWidth 300\r\n",
       "hide circle\r\n",
       "\r\n",
       "rec def \"ControlNodeTest\" as E1  <<(T,blue) action  def>> [[psysml:06c83ae0-0be1-4108-9f79-6c682626264b ]] {\r\n",
       "rec usage \"A1\" as E2  <<(T,blue) action>> [[psysml:b587d390-d46d-4840-bcaf-beb60201fdea ]] {\r\n",
       "}\r\n",
       "\r\n",
       "rec usage \"A2\" as E3  <<(T,blue) action>> [[psysml:2c010bd6-de88-4dc7-8be6-3edc78c34a31 ]] {\r\n",
       "}\r\n",
       "\r\n",
       "join \"J\" as E4  [[psysml:b80e7b99-08a2-49d6-9359-b424cf684151 ]] \r\n",
       "fork \"F\" as E5  [[psysml:df495c9b-9171-48f9-ac7d-26427115e0f4 ]] \r\n",
       "rec usage \"B1\" as E6  <<(T,blue) action>> [[psysml:b42821ea-70f6-43bd-9a67-84f3e511770a ]] {\r\n",
       "}\r\n",
       "\r\n",
       "rec usage \"B2\" as E7  <<(T,blue) action>> [[psysml:e950d6a4-fdbd-4650-aa0a-2ca4b4e20830 ]] {\r\n",
       "}\r\n",
       "\r\n",
       "}\r\n",
       "\r\n",
       "E2 - -> \"*\"E4 [[psysml:4f9dc8d6-d6e0-48a2-bcc8-8318223d246b ]] \r\n",
       "E3 - -> \"*\"E4 [[psysml:d5a52d23-3eda-48ed-8e98-b9c24f218910 ]] \r\n",
       "E4 - -> \"*\"E5 [[psysml:822f1664-72e1-4116-b41f-1c0919a615e0 ]] \r\n",
       "E5 - -> \"*\"E6 [[psysml:2360acce-0fc1-431a-bbc0-189c84da742a ]] \r\n",
       "E5 - -> \"*\"E7 [[psysml:ee81c625-3e17-4e8d-972a-76052e7a84e3 ]] \r\n",
       "@enduml\r\n",
       "\n",
       "PlantUML version 1.2020.13(Sat Jun 13 12:26:38 UTC 2020)\n",
       "(EPL source distribution)\n",
       "Java Runtime: OpenJDK Runtime Environment\n",
       "JVM: OpenJDK 64-Bit Server VM\n",
       "Default Encoding: UTF-8\n",
       "Language: en\n",
       "Country: null\n",
       "--></g></svg>"
      ]
     },
     "execution_count": 50,
     "metadata": {},
     "output_type": "execute_result"
    }
   ],
   "source": [
    "%viz --style=\"TB\" --view=\"MIXED\" \"ControlNodeTest\""
   ]
  },
  {
   "cell_type": "code",
   "execution_count": 51,
   "id": "e870ba22",
   "metadata": {
    "execution": {
     "iopub.execute_input": "2022-02-18T10:46:12.616664Z",
     "iopub.status.busy": "2022-02-18T10:46:12.616240Z",
     "iopub.status.idle": "2022-02-18T10:46:12.648435Z",
     "shell.execute_reply": "2022-02-18T10:46:12.648151Z"
    }
   },
   "outputs": [
    {
     "data": {
      "image/svg+xml": [
       "<?xml version=\"1.0\" encoding=\"UTF-8\" standalone=\"no\"?><svg xmlns=\"http://www.w3.org/2000/svg\" xmlns:xlink=\"http://www.w3.org/1999/xlink\" contentScriptType=\"application/ecmascript\" contentStyleType=\"text/css\" height=\"367px\" preserveAspectRatio=\"none\" style=\"width:205px;height:367px;\" version=\"1.1\" viewBox=\"0 0 205 367\" width=\"205px\" zoomAndPan=\"magnify\"><defs/><g><!--MD5=[fbc87193dbaf4d95561dea2c320d4a47]\n",
       "cluster E1--><a href=\"psysml:06c83ae0-0be1-4108-9f79-6c682626264b\" target=\"_top\" title=\"psysml:06c83ae0-0be1-4108-9f79-6c682626264b\" xlink:actuate=\"onRequest\" xlink:href=\"psysml:06c83ae0-0be1-4108-9f79-6c682626264b\" xlink:show=\"new\" xlink:title=\"psysml:06c83ae0-0be1-4108-9f79-6c682626264b\" xlink:type=\"simple\"><rect fill=\"#FFFFFF\" height=\"349\" id=\"E1\" style=\"stroke: #383838; stroke-width: 1.5;\" width=\"187\" x=\"7\" y=\"7\"/><rect fill=\"#F8F8F8\" height=\"37.9375\" style=\"stroke: #383838; stroke-width: 1.5;\" width=\"187\" x=\"7\" y=\"7\"/><text fill=\"#000000\" font-family=\"sans-serif\" font-size=\"12\" font-style=\"italic\" lengthAdjust=\"spacingAndGlyphs\" textLength=\"81\" x=\"60\" y=\"23.1387\">«action  def»</text><text fill=\"#000000\" font-family=\"sans-serif\" font-size=\"12\" lengthAdjust=\"spacingAndGlyphs\" textLength=\"105\" x=\"48\" y=\"37.1074\">ControlNodeTest</text></a><rect fill=\"#000000\" height=\"8\" style=\"stroke: none; stroke-width: 1.0;\" width=\"80\" x=\"60\" y=\"161\"/><rect fill=\"#000000\" height=\"8\" style=\"stroke: none; stroke-width: 1.0;\" width=\"80\" x=\"60\" y=\"229\"/><g id=\"E1.E2\"><a href=\"psysml:b587d390-d46d-4840-bcaf-beb60201fdea\" target=\"_top\" title=\"psysml:b587d390-d46d-4840-bcaf-beb60201fdea\" xlink:actuate=\"onRequest\" xlink:href=\"psysml:b587d390-d46d-4840-bcaf-beb60201fdea\" xlink:show=\"new\" xlink:title=\"psysml:b587d390-d46d-4840-bcaf-beb60201fdea\" xlink:type=\"simple\"><rect fill=\"#FFFFFF\" height=\"42.9375\" id=\"E2\" rx=\"10\" ry=\"10\" style=\"stroke: #383838; stroke-width: 1.5;\" width=\"60\" x=\"118\" y=\"58\"/><rect fill=\"#F8F8F8\" height=\"37.9375\" rx=\"10\" ry=\"10\" style=\"stroke: #F8F8F8; stroke-width: 1.5;\" width=\"60\" x=\"118\" y=\"58\"/><rect fill=\"#F8F8F8\" height=\"10\" style=\"stroke: #F8F8F8; stroke-width: 1.5;\" width=\"60\" x=\"118\" y=\"85.9375\"/><rect fill=\"none\" height=\"42.9375\" id=\"E2\" rx=\"10\" ry=\"10\" style=\"stroke: #383838; stroke-width: 1.5;\" width=\"60\" x=\"118\" y=\"58\"/><text fill=\"#000000\" font-family=\"sans-serif\" font-size=\"12\" font-style=\"italic\" lengthAdjust=\"spacingAndGlyphs\" textLength=\"53\" x=\"121.5\" y=\"74.1387\">«action»</text><text fill=\"#000000\" font-family=\"sans-serif\" font-size=\"12\" lengthAdjust=\"spacingAndGlyphs\" textLength=\"16\" x=\"140\" y=\"88.1074\">A1</text></a></g><g id=\"E1.E3\"><a href=\"psysml:2c010bd6-de88-4dc7-8be6-3edc78c34a31\" target=\"_top\" title=\"psysml:2c010bd6-de88-4dc7-8be6-3edc78c34a31\" xlink:actuate=\"onRequest\" xlink:href=\"psysml:2c010bd6-de88-4dc7-8be6-3edc78c34a31\" xlink:show=\"new\" xlink:title=\"psysml:2c010bd6-de88-4dc7-8be6-3edc78c34a31\" xlink:type=\"simple\"><rect fill=\"#FFFFFF\" height=\"42.9375\" id=\"E3\" rx=\"10\" ry=\"10\" style=\"stroke: #383838; stroke-width: 1.5;\" width=\"60\" x=\"23\" y=\"58\"/><rect fill=\"#F8F8F8\" height=\"37.9375\" rx=\"10\" ry=\"10\" style=\"stroke: #F8F8F8; stroke-width: 1.5;\" width=\"60\" x=\"23\" y=\"58\"/><rect fill=\"#F8F8F8\" height=\"10\" style=\"stroke: #F8F8F8; stroke-width: 1.5;\" width=\"60\" x=\"23\" y=\"85.9375\"/><rect fill=\"none\" height=\"42.9375\" id=\"E3\" rx=\"10\" ry=\"10\" style=\"stroke: #383838; stroke-width: 1.5;\" width=\"60\" x=\"23\" y=\"58\"/><text fill=\"#000000\" font-family=\"sans-serif\" font-size=\"12\" font-style=\"italic\" lengthAdjust=\"spacingAndGlyphs\" textLength=\"53\" x=\"26.5\" y=\"74.1387\">«action»</text><text fill=\"#000000\" font-family=\"sans-serif\" font-size=\"12\" lengthAdjust=\"spacingAndGlyphs\" textLength=\"16\" x=\"45\" y=\"88.1074\">A2</text></a></g><g id=\"E1.E6\"><a href=\"psysml:b42821ea-70f6-43bd-9a67-84f3e511770a\" target=\"_top\" title=\"psysml:b42821ea-70f6-43bd-9a67-84f3e511770a\" xlink:actuate=\"onRequest\" xlink:href=\"psysml:b42821ea-70f6-43bd-9a67-84f3e511770a\" xlink:show=\"new\" xlink:title=\"psysml:b42821ea-70f6-43bd-9a67-84f3e511770a\" xlink:type=\"simple\"><rect fill=\"#FFFFFF\" height=\"42.9375\" id=\"E6\" rx=\"10\" ry=\"10\" style=\"stroke: #383838; stroke-width: 1.5;\" width=\"60\" x=\"23\" y=\"297\"/><rect fill=\"#F8F8F8\" height=\"37.9375\" rx=\"10\" ry=\"10\" style=\"stroke: #F8F8F8; stroke-width: 1.5;\" width=\"60\" x=\"23\" y=\"297\"/><rect fill=\"#F8F8F8\" height=\"10\" style=\"stroke: #F8F8F8; stroke-width: 1.5;\" width=\"60\" x=\"23\" y=\"324.9375\"/><rect fill=\"none\" height=\"42.9375\" id=\"E6\" rx=\"10\" ry=\"10\" style=\"stroke: #383838; stroke-width: 1.5;\" width=\"60\" x=\"23\" y=\"297\"/><text fill=\"#000000\" font-family=\"sans-serif\" font-size=\"12\" font-style=\"italic\" lengthAdjust=\"spacingAndGlyphs\" textLength=\"53\" x=\"26.5\" y=\"313.1387\">«action»</text><text fill=\"#000000\" font-family=\"sans-serif\" font-size=\"12\" lengthAdjust=\"spacingAndGlyphs\" textLength=\"16\" x=\"45\" y=\"327.1074\">B1</text></a></g><g id=\"E1.E7\"><a href=\"psysml:e950d6a4-fdbd-4650-aa0a-2ca4b4e20830\" target=\"_top\" title=\"psysml:e950d6a4-fdbd-4650-aa0a-2ca4b4e20830\" xlink:actuate=\"onRequest\" xlink:href=\"psysml:e950d6a4-fdbd-4650-aa0a-2ca4b4e20830\" xlink:show=\"new\" xlink:title=\"psysml:e950d6a4-fdbd-4650-aa0a-2ca4b4e20830\" xlink:type=\"simple\"><rect fill=\"#FFFFFF\" height=\"42.9375\" id=\"E7\" rx=\"10\" ry=\"10\" style=\"stroke: #383838; stroke-width: 1.5;\" width=\"60\" x=\"118\" y=\"297\"/><rect fill=\"#F8F8F8\" height=\"37.9375\" rx=\"10\" ry=\"10\" style=\"stroke: #F8F8F8; stroke-width: 1.5;\" width=\"60\" x=\"118\" y=\"297\"/><rect fill=\"#F8F8F8\" height=\"10\" style=\"stroke: #F8F8F8; stroke-width: 1.5;\" width=\"60\" x=\"118\" y=\"324.9375\"/><rect fill=\"none\" height=\"42.9375\" id=\"E7\" rx=\"10\" ry=\"10\" style=\"stroke: #383838; stroke-width: 1.5;\" width=\"60\" x=\"118\" y=\"297\"/><text fill=\"#000000\" font-family=\"sans-serif\" font-size=\"12\" font-style=\"italic\" lengthAdjust=\"spacingAndGlyphs\" textLength=\"53\" x=\"121.5\" y=\"313.1387\">«action»</text><text fill=\"#000000\" font-family=\"sans-serif\" font-size=\"12\" lengthAdjust=\"spacingAndGlyphs\" textLength=\"16\" x=\"140\" y=\"327.1074\">B2</text></a></g><!--MD5=[4d03bb2d0377dc85ccfab60ff574652b]\n",
       "link E2 to E4--><a href=\"psysml:4f9dc8d6-d6e0-48a2-bcc8-8318223d246b\" target=\"_top\" title=\"psysml:4f9dc8d6-d6e0-48a2-bcc8-8318223d246b\" xlink:actuate=\"onRequest\" xlink:href=\"psysml:4f9dc8d6-d6e0-48a2-bcc8-8318223d246b\" xlink:show=\"new\" xlink:title=\"psysml:4f9dc8d6-d6e0-48a2-bcc8-8318223d246b\" xlink:type=\"simple\"><path d=\"M129,101.08 C129,101.08 129,155.97 129,155.97 \" fill=\"none\" id=\"E2-&gt;E4\" style=\"stroke: #383838; stroke-width: 1.0;\"/><polygon fill=\"#383838\" points=\"129,160.97,133,151.97,129,155.97,125,151.97,129,160.97\" style=\"stroke: #383838; stroke-width: 1.0;\"/><text fill=\"#000000\" font-family=\"sans-serif\" font-size=\"13\" lengthAdjust=\"spacingAndGlyphs\" textLength=\"7\" x=\"140.1688\" y=\"149.8691\">*</text></a><!--MD5=[af87c684e3b0d8be13c1a698a818ef1e]\n",
       "link E3 to E4--><a href=\"psysml:d5a52d23-3eda-48ed-8e98-b9c24f218910\" target=\"_top\" title=\"psysml:d5a52d23-3eda-48ed-8e98-b9c24f218910\" xlink:actuate=\"onRequest\" xlink:href=\"psysml:d5a52d23-3eda-48ed-8e98-b9c24f218910\" xlink:show=\"new\" xlink:title=\"psysml:d5a52d23-3eda-48ed-8e98-b9c24f218910\" xlink:type=\"simple\"><path d=\"M71.5,101.08 C71.5,101.08 71.5,155.97 71.5,155.97 \" fill=\"none\" id=\"E3-&gt;E4\" style=\"stroke: #383838; stroke-width: 1.0;\"/><polygon fill=\"#383838\" points=\"71.5,160.97,75.5,151.97,71.5,155.97,67.5,151.97,71.5,160.97\" style=\"stroke: #383838; stroke-width: 1.0;\"/><text fill=\"#000000\" font-family=\"sans-serif\" font-size=\"13\" lengthAdjust=\"spacingAndGlyphs\" textLength=\"7\" x=\"44.9\" y=\"151.0154\">*</text></a><!--MD5=[1b7591eae5389033d8d09a9d6721a717]\n",
       "link E4 to E5--><a href=\"psysml:822f1664-72e1-4116-b41f-1c0919a615e0\" target=\"_top\" title=\"psysml:822f1664-72e1-4116-b41f-1c0919a615e0\" xlink:actuate=\"onRequest\" xlink:href=\"psysml:822f1664-72e1-4116-b41f-1c0919a615e0\" xlink:show=\"new\" xlink:title=\"psysml:822f1664-72e1-4116-b41f-1c0919a615e0\" xlink:type=\"simple\"><path d=\"M100,169.05 C100,169.05 100,223.71 100,223.71 \" fill=\"none\" id=\"E4-&gt;E5\" style=\"stroke: #383838; stroke-width: 1.0;\"/><polygon fill=\"#383838\" points=\"100,228.71,104,219.71,100,223.71,96,219.71,100,228.71\" style=\"stroke: #383838; stroke-width: 1.0;\"/><text fill=\"#000000\" font-family=\"sans-serif\" font-size=\"13\" lengthAdjust=\"spacingAndGlyphs\" textLength=\"7\" x=\"90.6813\" y=\"218.01\">*</text></a><!--MD5=[9120cf2e5df3bff93db8f754bbbc09b4]\n",
       "link E5 to E6--><a href=\"psysml:2360acce-0fc1-431a-bbc0-189c84da742a\" target=\"_top\" title=\"psysml:2360acce-0fc1-431a-bbc0-189c84da742a\" xlink:actuate=\"onRequest\" xlink:href=\"psysml:2360acce-0fc1-431a-bbc0-189c84da742a\" xlink:show=\"new\" xlink:title=\"psysml:2360acce-0fc1-431a-bbc0-189c84da742a\" xlink:type=\"simple\"><path d=\"M71.5,237.12 C71.5,237.12 71.5,291.87 71.5,291.87 \" fill=\"none\" id=\"E5-&gt;E6\" style=\"stroke: #383838; stroke-width: 1.0;\"/><polygon fill=\"#383838\" points=\"71.5,296.87,75.5,287.87,71.5,291.87,67.5,287.87,71.5,296.87\" style=\"stroke: #383838; stroke-width: 1.0;\"/><text fill=\"#000000\" font-family=\"sans-serif\" font-size=\"13\" lengthAdjust=\"spacingAndGlyphs\" textLength=\"7\" x=\"68.7188\" y=\"285.7715\">*</text></a><!--MD5=[3a9b96bfbf6b6ad89c494e81751bda47]\n",
       "link E5 to E7--><a href=\"psysml:ee81c625-3e17-4e8d-972a-76052e7a84e3\" target=\"_top\" title=\"psysml:ee81c625-3e17-4e8d-972a-76052e7a84e3\" xlink:actuate=\"onRequest\" xlink:href=\"psysml:ee81c625-3e17-4e8d-972a-76052e7a84e3\" xlink:show=\"new\" xlink:title=\"psysml:ee81c625-3e17-4e8d-972a-76052e7a84e3\" xlink:type=\"simple\"><path d=\"M129,237.12 C129,237.12 129,291.87 129,291.87 \" fill=\"none\" id=\"E5-&gt;E7\" style=\"stroke: #383838; stroke-width: 1.0;\"/><polygon fill=\"#383838\" points=\"129,296.87,133,287.87,129,291.87,125,287.87,129,296.87\" style=\"stroke: #383838; stroke-width: 1.0;\"/><text fill=\"#000000\" font-family=\"sans-serif\" font-size=\"13\" lengthAdjust=\"spacingAndGlyphs\" textLength=\"7\" x=\"115.6719\" y=\"285.7715\">*</text></a><!--MD5=[6b66d32e5c20840a0fe5772e7dfcb1f3]\n",
       "@startuml\r\n",
       "skinparam linetype ortho\r\n",
       "skinparam monochrome true\r\n",
       "skinparam classbackgroundcolor white\r\n",
       "skinparam shadowing false\r\n",
       "skinparam wrapWidth 300\r\n",
       "hide circle\r\n",
       "\r\n",
       "rec def \"ControlNodeTest\" as E1  <<(T,blue) action  def>> [[psysml:06c83ae0-0be1-4108-9f79-6c682626264b ]] {\r\n",
       "rec usage \"A1\" as E2  <<(T,blue) action>> [[psysml:b587d390-d46d-4840-bcaf-beb60201fdea ]] {\r\n",
       "}\r\n",
       "\r\n",
       "rec usage \"A2\" as E3  <<(T,blue) action>> [[psysml:2c010bd6-de88-4dc7-8be6-3edc78c34a31 ]] {\r\n",
       "}\r\n",
       "\r\n",
       "join \"J\" as E4  [[psysml:b80e7b99-08a2-49d6-9359-b424cf684151 ]] \r\n",
       "fork \"F\" as E5  [[psysml:df495c9b-9171-48f9-ac7d-26427115e0f4 ]] \r\n",
       "rec usage \"B1\" as E6  <<(T,blue) action>> [[psysml:b42821ea-70f6-43bd-9a67-84f3e511770a ]] {\r\n",
       "}\r\n",
       "\r\n",
       "rec usage \"B2\" as E7  <<(T,blue) action>> [[psysml:e950d6a4-fdbd-4650-aa0a-2ca4b4e20830 ]] {\r\n",
       "}\r\n",
       "\r\n",
       "}\r\n",
       "\r\n",
       "E2 - -> \"*\"E4 [[psysml:4f9dc8d6-d6e0-48a2-bcc8-8318223d246b ]] \r\n",
       "E3 - -> \"*\"E4 [[psysml:d5a52d23-3eda-48ed-8e98-b9c24f218910 ]] \r\n",
       "E4 - -> \"*\"E5 [[psysml:822f1664-72e1-4116-b41f-1c0919a615e0 ]] \r\n",
       "E5 - -> \"*\"E6 [[psysml:2360acce-0fc1-431a-bbc0-189c84da742a ]] \r\n",
       "E5 - -> \"*\"E7 [[psysml:ee81c625-3e17-4e8d-972a-76052e7a84e3 ]] \r\n",
       "@enduml\r\n",
       "\n",
       "PlantUML version 1.2020.13(Sat Jun 13 12:26:38 UTC 2020)\n",
       "(EPL source distribution)\n",
       "Java Runtime: OpenJDK Runtime Environment\n",
       "JVM: OpenJDK 64-Bit Server VM\n",
       "Default Encoding: UTF-8\n",
       "Language: en\n",
       "Country: null\n",
       "--></g></svg>"
      ]
     },
     "execution_count": 51,
     "metadata": {},
     "output_type": "execute_result"
    }
   ],
   "source": [
    "%viz --style=\"ORTHOLINE\" --view=\"Default\" \"ControlNodeTest\""
   ]
  },
  {
   "cell_type": "code",
   "execution_count": 52,
   "id": "2d35c2b2",
   "metadata": {
    "execution": {
     "iopub.execute_input": "2022-02-18T10:46:12.698076Z",
     "iopub.status.busy": "2022-02-18T10:46:12.697837Z",
     "iopub.status.idle": "2022-02-18T10:46:12.781056Z",
     "shell.execute_reply": "2022-02-18T10:46:12.780601Z"
    }
   },
   "outputs": [
    {
     "data": {
      "image/svg+xml": [
       "<?xml version=\"1.0\" encoding=\"UTF-8\" standalone=\"no\"?><svg xmlns=\"http://www.w3.org/2000/svg\" xmlns:xlink=\"http://www.w3.org/1999/xlink\" contentScriptType=\"application/ecmascript\" contentStyleType=\"text/css\" height=\"250px\" preserveAspectRatio=\"none\" style=\"width:564px;height:250px;\" version=\"1.1\" viewBox=\"0 0 564 250\" width=\"564px\" zoomAndPan=\"magnify\"><defs/><g><!--MD5=[43c9051892ef23e1a46a86907403d788]\n",
       "class E1--><a href=\"psysml:06c83ae0-0be1-4108-9f79-6c682626264b\" target=\"_top\" title=\"psysml:06c83ae0-0be1-4108-9f79-6c682626264b\" xlink:actuate=\"onRequest\" xlink:href=\"psysml:06c83ae0-0be1-4108-9f79-6c682626264b\" xlink:show=\"new\" xlink:title=\"psysml:06c83ae0-0be1-4108-9f79-6c682626264b\" xlink:type=\"simple\"><rect fill=\"#FFFFFF\" height=\"126.7656\" id=\"E1\" style=\"stroke: #383838; stroke-width: 1.5;\" width=\"111\" x=\"224\" y=\"7\"/><text fill=\"#000000\" font-family=\"sans-serif\" font-size=\"12\" font-style=\"italic\" lengthAdjust=\"spacingAndGlyphs\" textLength=\"81\" x=\"239\" y=\"23.1387\">«action  def»</text><text fill=\"#000000\" font-family=\"sans-serif\" font-size=\"12\" lengthAdjust=\"spacingAndGlyphs\" textLength=\"105\" x=\"227\" y=\"37.1074\">ControlNodeTest</text><line style=\"stroke: #383838; stroke-width: 1.5;\" x1=\"225\" x2=\"334\" y1=\"44.9375\" y2=\"44.9375\"/><text fill=\"#000000\" font-family=\"sans-serif\" font-size=\"11\" lengthAdjust=\"spacingAndGlyphs\" textLength=\"36\" x=\"230\" y=\"75.9526\">then  J</text><text fill=\"#000000\" font-family=\"sans-serif\" font-size=\"11\" lengthAdjust=\"spacingAndGlyphs\" textLength=\"36\" x=\"230\" y=\"88.7573\">then  J</text><text fill=\"#000000\" font-family=\"sans-serif\" font-size=\"11\" lengthAdjust=\"spacingAndGlyphs\" textLength=\"25\" x=\"230\" y=\"101.562\">then</text><text fill=\"#000000\" font-family=\"sans-serif\" font-size=\"11\" lengthAdjust=\"spacingAndGlyphs\" textLength=\"48\" x=\"230\" y=\"114.3667\">then  B1</text><text fill=\"#000000\" font-family=\"sans-serif\" font-size=\"11\" lengthAdjust=\"spacingAndGlyphs\" textLength=\"48\" x=\"230\" y=\"127.1714\">then  B2</text><line style=\"stroke: #383838; stroke-width: 1.0;\" x1=\"225\" x2=\"244\" y1=\"59.3398\" y2=\"59.3398\"/><text fill=\"#000000\" font-family=\"sans-serif\" font-size=\"11\" lengthAdjust=\"spacingAndGlyphs\" textLength=\"71\" x=\"244\" y=\"62.6479\">successions</text><line style=\"stroke: #383838; stroke-width: 1.0;\" x1=\"315\" x2=\"334\" y1=\"59.3398\" y2=\"59.3398\"/></a><!--MD5=[b4997ac47864f28c2f74865a473b2911]\n",
       "class E2--><a href=\"psysml:b587d390-d46d-4840-bcaf-beb60201fdea\" target=\"_top\" title=\"psysml:b587d390-d46d-4840-bcaf-beb60201fdea\" xlink:actuate=\"onRequest\" xlink:href=\"psysml:b587d390-d46d-4840-bcaf-beb60201fdea\" xlink:show=\"new\" xlink:title=\"psysml:b587d390-d46d-4840-bcaf-beb60201fdea\" xlink:type=\"simple\"><rect fill=\"#FFFFFF\" height=\"45.9375\" id=\"E2\" rx=\"10\" ry=\"10\" style=\"stroke: #383838; stroke-width: 1.5;\" width=\"55\" x=\"7\" y=\"194\"/><text fill=\"#000000\" font-family=\"sans-serif\" font-size=\"12\" font-style=\"italic\" lengthAdjust=\"spacingAndGlyphs\" textLength=\"53\" x=\"8\" y=\"210.1387\">«action»</text><text fill=\"#000000\" font-family=\"sans-serif\" font-size=\"12\" lengthAdjust=\"spacingAndGlyphs\" textLength=\"16\" x=\"24.5\" y=\"224.1074\">A1</text><line style=\"stroke: #383838; stroke-width: 1.5;\" x1=\"8\" x2=\"61\" y1=\"231.9375\" y2=\"231.9375\"/></a><!--MD5=[09b614a08d8cba4a07c9adeb5e0fee81]\n",
       "class E3--><a href=\"psysml:2c010bd6-de88-4dc7-8be6-3edc78c34a31\" target=\"_top\" title=\"psysml:2c010bd6-de88-4dc7-8be6-3edc78c34a31\" xlink:actuate=\"onRequest\" xlink:href=\"psysml:2c010bd6-de88-4dc7-8be6-3edc78c34a31\" xlink:show=\"new\" xlink:title=\"psysml:2c010bd6-de88-4dc7-8be6-3edc78c34a31\" xlink:type=\"simple\"><rect fill=\"#FFFFFF\" height=\"45.9375\" id=\"E3\" rx=\"10\" ry=\"10\" style=\"stroke: #383838; stroke-width: 1.5;\" width=\"55\" x=\"97\" y=\"194\"/><text fill=\"#000000\" font-family=\"sans-serif\" font-size=\"12\" font-style=\"italic\" lengthAdjust=\"spacingAndGlyphs\" textLength=\"53\" x=\"98\" y=\"210.1387\">«action»</text><text fill=\"#000000\" font-family=\"sans-serif\" font-size=\"12\" lengthAdjust=\"spacingAndGlyphs\" textLength=\"16\" x=\"114.5\" y=\"224.1074\">A2</text><line style=\"stroke: #383838; stroke-width: 1.5;\" x1=\"98\" x2=\"151\" y1=\"231.9375\" y2=\"231.9375\"/></a><!--MD5=[ebbe1d658d1005bcc118a6aa81145e00]\n",
       "class E4--><a href=\"psysml:b80e7b99-08a2-49d6-9359-b424cf684151\" target=\"_top\" title=\"psysml:b80e7b99-08a2-49d6-9359-b424cf684151\" xlink:actuate=\"onRequest\" xlink:href=\"psysml:b80e7b99-08a2-49d6-9359-b424cf684151\" xlink:show=\"new\" xlink:title=\"psysml:b80e7b99-08a2-49d6-9359-b424cf684151\" xlink:type=\"simple\"><rect fill=\"#FFFFFF\" height=\"45.9375\" id=\"E4\" rx=\"10\" ry=\"10\" style=\"stroke: #383838; stroke-width: 1.5;\" width=\"74\" x=\"187.5\" y=\"194\"/><text fill=\"#000000\" font-family=\"sans-serif\" font-size=\"12\" font-style=\"italic\" lengthAdjust=\"spacingAndGlyphs\" textLength=\"72\" x=\"188.5\" y=\"210.1387\">«join node»</text><text fill=\"#000000\" font-family=\"sans-serif\" font-size=\"12\" lengthAdjust=\"spacingAndGlyphs\" textLength=\"3\" x=\"221\" y=\"224.1074\">J</text><line style=\"stroke: #383838; stroke-width: 1.5;\" x1=\"188.5\" x2=\"260.5\" y1=\"231.9375\" y2=\"231.9375\"/></a><!--MD5=[270fce915f116d4de14055a7c1d9a0f3]\n",
       "class E5--><a href=\"psysml:df495c9b-9171-48f9-ac7d-26427115e0f4\" target=\"_top\" title=\"psysml:df495c9b-9171-48f9-ac7d-26427115e0f4\" xlink:actuate=\"onRequest\" xlink:href=\"psysml:df495c9b-9171-48f9-ac7d-26427115e0f4\" xlink:show=\"new\" xlink:title=\"psysml:df495c9b-9171-48f9-ac7d-26427115e0f4\" xlink:type=\"simple\"><rect fill=\"#FFFFFF\" height=\"45.9375\" id=\"E5\" rx=\"10\" ry=\"10\" style=\"stroke: #383838; stroke-width: 1.5;\" width=\"76\" x=\"296.5\" y=\"194\"/><text fill=\"#000000\" font-family=\"sans-serif\" font-size=\"12\" font-style=\"italic\" lengthAdjust=\"spacingAndGlyphs\" textLength=\"74\" x=\"297.5\" y=\"210.1387\">«fork node»</text><text fill=\"#000000\" font-family=\"sans-serif\" font-size=\"12\" lengthAdjust=\"spacingAndGlyphs\" textLength=\"7\" x=\"329\" y=\"224.1074\">F</text><line style=\"stroke: #383838; stroke-width: 1.5;\" x1=\"297.5\" x2=\"371.5\" y1=\"231.9375\" y2=\"231.9375\"/></a><!--MD5=[60a26617385b1d2d0262a64233df1f8d]\n",
       "class E6--><a href=\"psysml:b42821ea-70f6-43bd-9a67-84f3e511770a\" target=\"_top\" title=\"psysml:b42821ea-70f6-43bd-9a67-84f3e511770a\" xlink:actuate=\"onRequest\" xlink:href=\"psysml:b42821ea-70f6-43bd-9a67-84f3e511770a\" xlink:show=\"new\" xlink:title=\"psysml:b42821ea-70f6-43bd-9a67-84f3e511770a\" xlink:type=\"simple\"><rect fill=\"#FFFFFF\" height=\"45.9375\" id=\"E6\" rx=\"10\" ry=\"10\" style=\"stroke: #383838; stroke-width: 1.5;\" width=\"55\" x=\"408\" y=\"194\"/><text fill=\"#000000\" font-family=\"sans-serif\" font-size=\"12\" font-style=\"italic\" lengthAdjust=\"spacingAndGlyphs\" textLength=\"53\" x=\"409\" y=\"210.1387\">«action»</text><text fill=\"#000000\" font-family=\"sans-serif\" font-size=\"12\" lengthAdjust=\"spacingAndGlyphs\" textLength=\"16\" x=\"425.5\" y=\"224.1074\">B1</text><line style=\"stroke: #383838; stroke-width: 1.5;\" x1=\"409\" x2=\"462\" y1=\"231.9375\" y2=\"231.9375\"/></a><!--MD5=[2156ba9850f5573cc1fc38a6a4b2f02b]\n",
       "class E7--><a href=\"psysml:e950d6a4-fdbd-4650-aa0a-2ca4b4e20830\" target=\"_top\" title=\"psysml:e950d6a4-fdbd-4650-aa0a-2ca4b4e20830\" xlink:actuate=\"onRequest\" xlink:href=\"psysml:e950d6a4-fdbd-4650-aa0a-2ca4b4e20830\" xlink:show=\"new\" xlink:title=\"psysml:e950d6a4-fdbd-4650-aa0a-2ca4b4e20830\" xlink:type=\"simple\"><rect fill=\"#FFFFFF\" height=\"45.9375\" id=\"E7\" rx=\"10\" ry=\"10\" style=\"stroke: #383838; stroke-width: 1.5;\" width=\"55\" x=\"498\" y=\"194\"/><text fill=\"#000000\" font-family=\"sans-serif\" font-size=\"12\" font-style=\"italic\" lengthAdjust=\"spacingAndGlyphs\" textLength=\"53\" x=\"499\" y=\"210.1387\">«action»</text><text fill=\"#000000\" font-family=\"sans-serif\" font-size=\"12\" lengthAdjust=\"spacingAndGlyphs\" textLength=\"16\" x=\"515.5\" y=\"224.1074\">B2</text><line style=\"stroke: #383838; stroke-width: 1.5;\" x1=\"499\" x2=\"552\" y1=\"231.9375\" y2=\"231.9375\"/></a><!--MD5=[a523cb2a0b79ecf9065ad8783f96c320]\n",
       "reverse link E1 to E2--><a href=\"psysml:8824560d-0356-45ea-8a7b-06baadbc63a3\" target=\"_top\" title=\"psysml:8824560d-0356-45ea-8a7b-06baadbc63a3\" xlink:actuate=\"onRequest\" xlink:href=\"psysml:8824560d-0356-45ea-8a7b-06baadbc63a3\" xlink:show=\"new\" xlink:title=\"psysml:8824560d-0356-45ea-8a7b-06baadbc63a3\" xlink:type=\"simple\"><path d=\"M210.91,50 C210.91,50 34.5,50 34.5,50 C34.5,50 34.5,147.89 34.5,193.78 \" fill=\"none\" id=\"E1&lt;-E2\" style=\"stroke: #383838; stroke-width: 1.0;\"/><polygon fill=\"#383838\" points=\"223.91,50,217.91,46,211.91,50,217.91,54,223.91,50\" style=\"stroke: #383838; stroke-width: 1.0;\"/><text fill=\"#000000\" font-family=\"sans-serif\" font-size=\"13\" lengthAdjust=\"spacingAndGlyphs\" textLength=\"7\" x=\"26.6031\" y=\"182.9999\">*</text></a><!--MD5=[5d7b3810b1dd9b5164bea1151b29b665]\n",
       "reverse link E1 to E3--><a href=\"psysml:cbbe4b3e-f7e7-45b7-a67a-c33698d06c9d\" target=\"_top\" title=\"psysml:cbbe4b3e-f7e7-45b7-a67a-c33698d06c9d\" xlink:actuate=\"onRequest\" xlink:href=\"psysml:cbbe4b3e-f7e7-45b7-a67a-c33698d06c9d\" xlink:show=\"new\" xlink:title=\"psysml:cbbe4b3e-f7e7-45b7-a67a-c33698d06c9d\" xlink:type=\"simple\"><path d=\"M210.98,92 C210.98,92 124.5,92 124.5,92 C124.5,92 124.5,157.63 124.5,193.78 \" fill=\"none\" id=\"E1&lt;-E3\" style=\"stroke: #383838; stroke-width: 1.0;\"/><polygon fill=\"#383838\" points=\"223.98,92,217.98,88,211.98,92,217.98,96,223.98,92\" style=\"stroke: #383838; stroke-width: 1.0;\"/><text fill=\"#000000\" font-family=\"sans-serif\" font-size=\"13\" lengthAdjust=\"spacingAndGlyphs\" textLength=\"7\" x=\"116.6031\" y=\"182.9999\">*</text></a><!--MD5=[f2c5c03aa1e8c0ba21c10a05e6444b8e]\n",
       "reverse link E1 to E4--><a href=\"psysml:8b2189df-ceef-42f5-8cc2-eeb8d6451d98\" target=\"_top\" title=\"psysml:8b2189df-ceef-42f5-8cc2-eeb8d6451d98\" xlink:actuate=\"onRequest\" xlink:href=\"psysml:8b2189df-ceef-42f5-8cc2-eeb8d6451d98\" xlink:show=\"new\" xlink:title=\"psysml:8b2189df-ceef-42f5-8cc2-eeb8d6451d98\" xlink:type=\"simple\"><path d=\"M242.75,147.33 C242.75,147.33 242.75,193.71 242.75,193.71 \" fill=\"none\" id=\"E1&lt;-E4\" style=\"stroke: #383838; stroke-width: 1.0;\"/><polygon fill=\"#383838\" points=\"242.75,134.33,238.75,140.33,242.75,146.33,246.75,140.33,242.75,134.33\" style=\"stroke: #383838; stroke-width: 1.0;\"/></a><!--MD5=[33238bef88d6431a141d8bc8fb12bca0]\n",
       "reverse link E1 to E5--><a href=\"psysml:a82a5eef-dea6-4124-abec-2b50c8cafb15\" target=\"_top\" title=\"psysml:a82a5eef-dea6-4124-abec-2b50c8cafb15\" xlink:actuate=\"onRequest\" xlink:href=\"psysml:a82a5eef-dea6-4124-abec-2b50c8cafb15\" xlink:show=\"new\" xlink:title=\"psysml:a82a5eef-dea6-4124-abec-2b50c8cafb15\" xlink:type=\"simple\"><path d=\"M315.75,147.33 C315.75,147.33 315.75,193.71 315.75,193.71 \" fill=\"none\" id=\"E1&lt;-E5\" style=\"stroke: #383838; stroke-width: 1.0;\"/><polygon fill=\"#383838\" points=\"315.75,134.33,311.75,140.33,315.75,146.33,319.75,140.33,315.75,134.33\" style=\"stroke: #383838; stroke-width: 1.0;\"/></a><!--MD5=[aca2ef284c2b1b90e17e73bf3f292c07]\n",
       "reverse link E1 to E6--><a href=\"psysml:fa0fa50c-58e4-4afc-aadf-ea60f0cb1460\" target=\"_top\" title=\"psysml:fa0fa50c-58e4-4afc-aadf-ea60f0cb1460\" xlink:actuate=\"onRequest\" xlink:href=\"psysml:fa0fa50c-58e4-4afc-aadf-ea60f0cb1460\" xlink:show=\"new\" xlink:title=\"psysml:fa0fa50c-58e4-4afc-aadf-ea60f0cb1460\" xlink:type=\"simple\"><path d=\"M348.38,92 C348.38,92 435.5,92 435.5,92 C435.5,92 435.5,157.63 435.5,193.78 \" fill=\"none\" id=\"E1&lt;-E6\" style=\"stroke: #383838; stroke-width: 1.0;\"/><polygon fill=\"#383838\" points=\"335.38,92,341.38,96,347.38,92,341.38,88,335.38,92\" style=\"stroke: #383838; stroke-width: 1.0;\"/><text fill=\"#000000\" font-family=\"sans-serif\" font-size=\"13\" lengthAdjust=\"spacingAndGlyphs\" textLength=\"7\" x=\"427.6031\" y=\"182.9999\">*</text></a><!--MD5=[fc9706a6b2cf8c0e423679d303750d3f]\n",
       "reverse link E1 to E7--><a href=\"psysml:49466f58-4643-4906-96c1-3a5676eba647\" target=\"_top\" title=\"psysml:49466f58-4643-4906-96c1-3a5676eba647\" xlink:actuate=\"onRequest\" xlink:href=\"psysml:49466f58-4643-4906-96c1-3a5676eba647\" xlink:show=\"new\" xlink:title=\"psysml:49466f58-4643-4906-96c1-3a5676eba647\" xlink:type=\"simple\"><path d=\"M348.01,50 C348.01,50 525.5,50 525.5,50 C525.5,50 525.5,147.89 525.5,193.78 \" fill=\"none\" id=\"E1&lt;-E7\" style=\"stroke: #383838; stroke-width: 1.0;\"/><polygon fill=\"#383838\" points=\"335.01,50,341.01,54,347.01,50,341.01,46,335.01,50\" style=\"stroke: #383838; stroke-width: 1.0;\"/><text fill=\"#000000\" font-family=\"sans-serif\" font-size=\"13\" lengthAdjust=\"spacingAndGlyphs\" textLength=\"7\" x=\"517.6031\" y=\"182.9999\">*</text></a><!--MD5=[f7617a96c82e06ac40ac92c070052f6f]\n",
       "@startuml\r\n",
       "skinparam linetype ortho\r\n",
       "skinparam monochrome true\r\n",
       "skinparam classbackgroundcolor white\r\n",
       "skinparam shadowing false\r\n",
       "skinparam wrapWidth 300\r\n",
       "hide circle\r\n",
       "\r\n",
       "comp def \"ControlNodeTest\" as E1  <<(T,blue) action  def>> [[psysml:06c83ae0-0be1-4108-9f79-6c682626264b ]] {\r\n",
       "- - successions - -\r\n",
       " then  J\r\n",
       " then  J\r\n",
       " then \r\n",
       " then  B1\r\n",
       " then  B2\r\n",
       "}\r\n",
       "comp usage \"A1 \" as E2  <<(T,blue) action>> [[psysml:b587d390-d46d-4840-bcaf-beb60201fdea ]] {\r\n",
       "}\r\n",
       "comp usage \"A2 \" as E3  <<(T,blue) action>> [[psysml:2c010bd6-de88-4dc7-8be6-3edc78c34a31 ]] {\r\n",
       "}\r\n",
       "comp usage \"J \" as E4  <<(T,blue) join node>> [[psysml:b80e7b99-08a2-49d6-9359-b424cf684151 ]] {\r\n",
       "}\r\n",
       "comp usage \"F \" as E5  <<(T,blue) fork node>> [[psysml:df495c9b-9171-48f9-ac7d-26427115e0f4 ]] {\r\n",
       "}\r\n",
       "comp usage \"B1 \" as E6  <<(T,blue) action>> [[psysml:b42821ea-70f6-43bd-9a67-84f3e511770a ]] {\r\n",
       "}\r\n",
       "comp usage \"B2 \" as E7  <<(T,blue) action>> [[psysml:e950d6a4-fdbd-4650-aa0a-2ca4b4e20830 ]] {\r\n",
       "}\r\n",
       "E1 *- - \"*\"E2 [[psysml:8824560d-0356-45ea-8a7b-06baadbc63a3 ]] \r\n",
       "E1 *- - \"*\"E3 [[psysml:cbbe4b3e-f7e7-45b7-a67a-c33698d06c9d ]] \r\n",
       "E1 *- - E4 [[psysml:8b2189df-ceef-42f5-8cc2-eeb8d6451d98 ]] \r\n",
       "E1 *- - E5 [[psysml:a82a5eef-dea6-4124-abec-2b50c8cafb15 ]] \r\n",
       "E1 *- - \"*\"E6 [[psysml:fa0fa50c-58e4-4afc-aadf-ea60f0cb1460 ]] \r\n",
       "E1 *- - \"*\"E7 [[psysml:49466f58-4643-4906-96c1-3a5676eba647 ]] \r\n",
       "@enduml\r\n",
       "\n",
       "PlantUML version 1.2020.13(Sat Jun 13 12:26:38 UTC 2020)\n",
       "(EPL source distribution)\n",
       "Java Runtime: OpenJDK Runtime Environment\n",
       "JVM: OpenJDK 64-Bit Server VM\n",
       "Default Encoding: UTF-8\n",
       "Language: en\n",
       "Country: null\n",
       "--></g></svg>"
      ]
     },
     "execution_count": 52,
     "metadata": {},
     "output_type": "execute_result"
    }
   ],
   "source": [
    "%viz --style=\"ORTHOLINE\" --view=\"Tree\" \"ControlNodeTest\""
   ]
  },
  {
   "cell_type": "code",
   "execution_count": 53,
   "id": "7ce0f595",
   "metadata": {
    "execution": {
     "iopub.execute_input": "2022-02-18T10:46:12.830271Z",
     "iopub.status.busy": "2022-02-18T10:46:12.829841Z",
     "iopub.status.idle": "2022-02-18T10:46:12.834482Z",
     "shell.execute_reply": "2022-02-18T10:46:12.834799Z"
    }
   },
   "outputs": [
    {
     "data": {
      "image/svg+xml": [
       "<?xml version=\"1.0\" encoding=\"UTF-8\" standalone=\"no\"?><svg xmlns=\"http://www.w3.org/2000/svg\" xmlns:xlink=\"http://www.w3.org/1999/xlink\" contentScriptType=\"application/ecmascript\" contentStyleType=\"text/css\" height=\"12px\" preserveAspectRatio=\"none\" style=\"width:12px;height:12px;\" version=\"1.1\" viewBox=\"0 0 12 12\" width=\"12px\" zoomAndPan=\"magnify\"><defs/><g><!--MD5=[97d6f38768b311333d388e66b2b27985]\n",
       "@startuml\r\n",
       "skinparam linetype ortho\r\n",
       "skinparam monochrome true\r\n",
       "skinparam classbackgroundcolor white\r\n",
       "skinparam shadowing false\r\n",
       "skinparam wrapWidth 300\r\n",
       "hide circle\r\n",
       "\r\n",
       "@enduml\r\n",
       "\n",
       "PlantUML version 1.2020.13(Sat Jun 13 12:26:38 UTC 2020)\n",
       "(EPL source distribution)\n",
       "Java Runtime: OpenJDK Runtime Environment\n",
       "JVM: OpenJDK 64-Bit Server VM\n",
       "Default Encoding: UTF-8\n",
       "Language: en\n",
       "Country: null\n",
       "--></g></svg>"
      ]
     },
     "execution_count": 53,
     "metadata": {},
     "output_type": "execute_result"
    }
   ],
   "source": [
    "%viz --style=\"ORTHOLINE\" --view=\"State\" \"ControlNodeTest\""
   ]
  },
  {
   "cell_type": "code",
   "execution_count": 54,
   "id": "80ffdf5e",
   "metadata": {
    "execution": {
     "iopub.execute_input": "2022-02-18T10:46:12.884368Z",
     "iopub.status.busy": "2022-02-18T10:46:12.883938Z",
     "iopub.status.idle": "2022-02-18T10:46:12.914292Z",
     "shell.execute_reply": "2022-02-18T10:46:12.913212Z"
    }
   },
   "outputs": [
    {
     "data": {
      "image/svg+xml": [
       "<?xml version=\"1.0\" encoding=\"UTF-8\" standalone=\"no\"?><svg xmlns=\"http://www.w3.org/2000/svg\" xmlns:xlink=\"http://www.w3.org/1999/xlink\" contentScriptType=\"application/ecmascript\" contentStyleType=\"text/css\" height=\"217px\" preserveAspectRatio=\"none\" style=\"width:205px;height:217px;\" version=\"1.1\" viewBox=\"0 0 205 217\" width=\"205px\" zoomAndPan=\"magnify\"><defs/><g><!--MD5=[fbc87193dbaf4d95561dea2c320d4a47]\n",
       "cluster E1--><a href=\"psysml:06c83ae0-0be1-4108-9f79-6c682626264b\" target=\"_top\" title=\"psysml:06c83ae0-0be1-4108-9f79-6c682626264b\" xlink:actuate=\"onRequest\" xlink:href=\"psysml:06c83ae0-0be1-4108-9f79-6c682626264b\" xlink:show=\"new\" xlink:title=\"psysml:06c83ae0-0be1-4108-9f79-6c682626264b\" xlink:type=\"simple\"><rect fill=\"#FFFFFF\" height=\"199\" id=\"E1\" style=\"stroke: #383838; stroke-width: 1.5;\" width=\"187\" x=\"7\" y=\"7\"/><rect fill=\"#F8F8F8\" height=\"37.9375\" style=\"stroke: #383838; stroke-width: 1.5;\" width=\"187\" x=\"7\" y=\"7\"/><text fill=\"#000000\" font-family=\"sans-serif\" font-size=\"12\" font-style=\"italic\" lengthAdjust=\"spacingAndGlyphs\" textLength=\"81\" x=\"60\" y=\"23.1387\">«action  def»</text><text fill=\"#000000\" font-family=\"sans-serif\" font-size=\"12\" lengthAdjust=\"spacingAndGlyphs\" textLength=\"105\" x=\"48\" y=\"37.1074\">ControlNodeTest</text></a><rect fill=\"#000000\" height=\"8\" style=\"stroke: none; stroke-width: 1.0;\" width=\"80\" x=\"60\" y=\"111\"/><rect fill=\"#000000\" height=\"8\" style=\"stroke: none; stroke-width: 1.0;\" width=\"80\" x=\"60\" y=\"129\"/><g id=\"E1.E2\"><a href=\"psysml:b587d390-d46d-4840-bcaf-beb60201fdea\" target=\"_top\" title=\"psysml:b587d390-d46d-4840-bcaf-beb60201fdea\" xlink:actuate=\"onRequest\" xlink:href=\"psysml:b587d390-d46d-4840-bcaf-beb60201fdea\" xlink:show=\"new\" xlink:title=\"psysml:b587d390-d46d-4840-bcaf-beb60201fdea\" xlink:type=\"simple\"><rect fill=\"#FFFFFF\" height=\"42.9375\" id=\"E2\" rx=\"10\" ry=\"10\" style=\"stroke: #383838; stroke-width: 1.5;\" width=\"60\" x=\"118\" y=\"58\"/><rect fill=\"#F8F8F8\" height=\"37.9375\" rx=\"10\" ry=\"10\" style=\"stroke: #F8F8F8; stroke-width: 1.5;\" width=\"60\" x=\"118\" y=\"58\"/><rect fill=\"#F8F8F8\" height=\"10\" style=\"stroke: #F8F8F8; stroke-width: 1.5;\" width=\"60\" x=\"118\" y=\"85.9375\"/><rect fill=\"none\" height=\"42.9375\" id=\"E2\" rx=\"10\" ry=\"10\" style=\"stroke: #383838; stroke-width: 1.5;\" width=\"60\" x=\"118\" y=\"58\"/><text fill=\"#000000\" font-family=\"sans-serif\" font-size=\"12\" font-style=\"italic\" lengthAdjust=\"spacingAndGlyphs\" textLength=\"53\" x=\"121.5\" y=\"74.1387\">«action»</text><text fill=\"#000000\" font-family=\"sans-serif\" font-size=\"12\" lengthAdjust=\"spacingAndGlyphs\" textLength=\"16\" x=\"140\" y=\"88.1074\">A1</text></a></g><g id=\"E1.E3\"><a href=\"psysml:2c010bd6-de88-4dc7-8be6-3edc78c34a31\" target=\"_top\" title=\"psysml:2c010bd6-de88-4dc7-8be6-3edc78c34a31\" xlink:actuate=\"onRequest\" xlink:href=\"psysml:2c010bd6-de88-4dc7-8be6-3edc78c34a31\" xlink:show=\"new\" xlink:title=\"psysml:2c010bd6-de88-4dc7-8be6-3edc78c34a31\" xlink:type=\"simple\"><rect fill=\"#FFFFFF\" height=\"42.9375\" id=\"E3\" rx=\"10\" ry=\"10\" style=\"stroke: #383838; stroke-width: 1.5;\" width=\"60\" x=\"23\" y=\"58\"/><rect fill=\"#F8F8F8\" height=\"37.9375\" rx=\"10\" ry=\"10\" style=\"stroke: #F8F8F8; stroke-width: 1.5;\" width=\"60\" x=\"23\" y=\"58\"/><rect fill=\"#F8F8F8\" height=\"10\" style=\"stroke: #F8F8F8; stroke-width: 1.5;\" width=\"60\" x=\"23\" y=\"85.9375\"/><rect fill=\"none\" height=\"42.9375\" id=\"E3\" rx=\"10\" ry=\"10\" style=\"stroke: #383838; stroke-width: 1.5;\" width=\"60\" x=\"23\" y=\"58\"/><text fill=\"#000000\" font-family=\"sans-serif\" font-size=\"12\" font-style=\"italic\" lengthAdjust=\"spacingAndGlyphs\" textLength=\"53\" x=\"26.5\" y=\"74.1387\">«action»</text><text fill=\"#000000\" font-family=\"sans-serif\" font-size=\"12\" lengthAdjust=\"spacingAndGlyphs\" textLength=\"16\" x=\"45\" y=\"88.1074\">A2</text></a></g><g id=\"E1.E6\"><a href=\"psysml:b42821ea-70f6-43bd-9a67-84f3e511770a\" target=\"_top\" title=\"psysml:b42821ea-70f6-43bd-9a67-84f3e511770a\" xlink:actuate=\"onRequest\" xlink:href=\"psysml:b42821ea-70f6-43bd-9a67-84f3e511770a\" xlink:show=\"new\" xlink:title=\"psysml:b42821ea-70f6-43bd-9a67-84f3e511770a\" xlink:type=\"simple\"><rect fill=\"#FFFFFF\" height=\"42.9375\" id=\"E6\" rx=\"10\" ry=\"10\" style=\"stroke: #383838; stroke-width: 1.5;\" width=\"60\" x=\"23\" y=\"147\"/><rect fill=\"#F8F8F8\" height=\"37.9375\" rx=\"10\" ry=\"10\" style=\"stroke: #F8F8F8; stroke-width: 1.5;\" width=\"60\" x=\"23\" y=\"147\"/><rect fill=\"#F8F8F8\" height=\"10\" style=\"stroke: #F8F8F8; stroke-width: 1.5;\" width=\"60\" x=\"23\" y=\"174.9375\"/><rect fill=\"none\" height=\"42.9375\" id=\"E6\" rx=\"10\" ry=\"10\" style=\"stroke: #383838; stroke-width: 1.5;\" width=\"60\" x=\"23\" y=\"147\"/><text fill=\"#000000\" font-family=\"sans-serif\" font-size=\"12\" font-style=\"italic\" lengthAdjust=\"spacingAndGlyphs\" textLength=\"53\" x=\"26.5\" y=\"163.1387\">«action»</text><text fill=\"#000000\" font-family=\"sans-serif\" font-size=\"12\" lengthAdjust=\"spacingAndGlyphs\" textLength=\"16\" x=\"45\" y=\"177.1074\">B1</text></a></g><g id=\"E1.E7\"><a href=\"psysml:e950d6a4-fdbd-4650-aa0a-2ca4b4e20830\" target=\"_top\" title=\"psysml:e950d6a4-fdbd-4650-aa0a-2ca4b4e20830\" xlink:actuate=\"onRequest\" xlink:href=\"psysml:e950d6a4-fdbd-4650-aa0a-2ca4b4e20830\" xlink:show=\"new\" xlink:title=\"psysml:e950d6a4-fdbd-4650-aa0a-2ca4b4e20830\" xlink:type=\"simple\"><rect fill=\"#FFFFFF\" height=\"42.9375\" id=\"E7\" rx=\"10\" ry=\"10\" style=\"stroke: #383838; stroke-width: 1.5;\" width=\"60\" x=\"118\" y=\"147\"/><rect fill=\"#F8F8F8\" height=\"37.9375\" rx=\"10\" ry=\"10\" style=\"stroke: #F8F8F8; stroke-width: 1.5;\" width=\"60\" x=\"118\" y=\"147\"/><rect fill=\"#F8F8F8\" height=\"10\" style=\"stroke: #F8F8F8; stroke-width: 1.5;\" width=\"60\" x=\"118\" y=\"174.9375\"/><rect fill=\"none\" height=\"42.9375\" id=\"E7\" rx=\"10\" ry=\"10\" style=\"stroke: #383838; stroke-width: 1.5;\" width=\"60\" x=\"118\" y=\"147\"/><text fill=\"#000000\" font-family=\"sans-serif\" font-size=\"12\" font-style=\"italic\" lengthAdjust=\"spacingAndGlyphs\" textLength=\"53\" x=\"121.5\" y=\"163.1387\">«action»</text><text fill=\"#000000\" font-family=\"sans-serif\" font-size=\"12\" lengthAdjust=\"spacingAndGlyphs\" textLength=\"16\" x=\"140\" y=\"177.1074\">B2</text></a></g><!--MD5=[4d03bb2d0377dc85ccfab60ff574652b]\n",
       "link E2 to E4--><a href=\"psysml:4f9dc8d6-d6e0-48a2-bcc8-8318223d246b\" target=\"_top\" title=\"psysml:4f9dc8d6-d6e0-48a2-bcc8-8318223d246b\" xlink:actuate=\"onRequest\" xlink:href=\"psysml:4f9dc8d6-d6e0-48a2-bcc8-8318223d246b\" xlink:show=\"new\" xlink:title=\"psysml:4f9dc8d6-d6e0-48a2-bcc8-8318223d246b\" xlink:type=\"simple\"><path d=\"M129,101.38 C129,101.38 129,105.93 129,105.93 \" fill=\"none\" id=\"E2-&gt;E4\" style=\"stroke: #383838; stroke-width: 1.0;\"/><polygon fill=\"#383838\" points=\"129,110.93,133,101.93,129,105.93,125,101.93,129,110.93\" style=\"stroke: #383838; stroke-width: 1.0;\"/><text fill=\"#000000\" font-family=\"sans-serif\" font-size=\"13\" lengthAdjust=\"spacingAndGlyphs\" textLength=\"7\" x=\"134.4298\" y=\"120.7771\">*</text></a><!--MD5=[af87c684e3b0d8be13c1a698a818ef1e]\n",
       "link E3 to E4--><a href=\"psysml:d5a52d23-3eda-48ed-8e98-b9c24f218910\" target=\"_top\" title=\"psysml:d5a52d23-3eda-48ed-8e98-b9c24f218910\" xlink:actuate=\"onRequest\" xlink:href=\"psysml:d5a52d23-3eda-48ed-8e98-b9c24f218910\" xlink:show=\"new\" xlink:title=\"psysml:d5a52d23-3eda-48ed-8e98-b9c24f218910\" xlink:type=\"simple\"><path d=\"M71.5,101.38 C71.5,101.38 71.5,105.93 71.5,105.93 \" fill=\"none\" id=\"E3-&gt;E4\" style=\"stroke: #383838; stroke-width: 1.0;\"/><polygon fill=\"#383838\" points=\"71.5,110.93,75.5,101.93,71.5,105.93,67.5,101.93,71.5,110.93\" style=\"stroke: #383838; stroke-width: 1.0;\"/><text fill=\"#000000\" font-family=\"sans-serif\" font-size=\"13\" lengthAdjust=\"spacingAndGlyphs\" textLength=\"7\" x=\"39.495\" y=\"120.9044\">*</text></a><!--MD5=[1b7591eae5389033d8d09a9d6721a717]\n",
       "link E4 to E5--><a href=\"psysml:822f1664-72e1-4116-b41f-1c0919a615e0\" target=\"_top\" title=\"psysml:822f1664-72e1-4116-b41f-1c0919a615e0\" xlink:actuate=\"onRequest\" xlink:href=\"psysml:822f1664-72e1-4116-b41f-1c0919a615e0\" xlink:show=\"new\" xlink:title=\"psysml:822f1664-72e1-4116-b41f-1c0919a615e0\" xlink:type=\"simple\"><path d=\"M100,119.17 C100,119.17 100,123.6 100,123.6 \" fill=\"none\" id=\"E4-&gt;E5\" style=\"stroke: #383838; stroke-width: 1.0;\"/><polygon fill=\"#383838\" points=\"100,128.6,104,119.6,100,123.6,96,119.6,100,128.6\" style=\"stroke: #383838; stroke-width: 1.0;\"/><text fill=\"#000000\" font-family=\"sans-serif\" font-size=\"13\" lengthAdjust=\"spacingAndGlyphs\" textLength=\"7\" x=\"43.3276\" y=\"136.1011\">*</text></a><!--MD5=[9120cf2e5df3bff93db8f754bbbc09b4]\n",
       "link E5 to E6--><a href=\"psysml:2360acce-0fc1-431a-bbc0-189c84da742a\" target=\"_top\" title=\"psysml:2360acce-0fc1-431a-bbc0-189c84da742a\" xlink:actuate=\"onRequest\" xlink:href=\"psysml:2360acce-0fc1-431a-bbc0-189c84da742a\" xlink:show=\"new\" xlink:title=\"psysml:2360acce-0fc1-431a-bbc0-189c84da742a\" xlink:type=\"simple\"><path d=\"M71.5,137.07 C71.5,137.07 71.5,141.87 71.5,141.87 \" fill=\"none\" id=\"E5-&gt;E6\" style=\"stroke: #383838; stroke-width: 1.0;\"/><polygon fill=\"#383838\" points=\"71.5,146.87,75.5,137.87,71.5,141.87,67.5,137.87,71.5,146.87\" style=\"stroke: #383838; stroke-width: 1.0;\"/><text fill=\"#000000\" font-family=\"sans-serif\" font-size=\"13\" lengthAdjust=\"spacingAndGlyphs\" textLength=\"7\" x=\"42.6575\" y=\"135.6478\">*</text></a><!--MD5=[3a9b96bfbf6b6ad89c494e81751bda47]\n",
       "link E5 to E7--><a href=\"psysml:ee81c625-3e17-4e8d-972a-76052e7a84e3\" target=\"_top\" title=\"psysml:ee81c625-3e17-4e8d-972a-76052e7a84e3\" xlink:actuate=\"onRequest\" xlink:href=\"psysml:ee81c625-3e17-4e8d-972a-76052e7a84e3\" xlink:show=\"new\" xlink:title=\"psysml:ee81c625-3e17-4e8d-972a-76052e7a84e3\" xlink:type=\"simple\"><path d=\"M129,137.07 C129,137.07 129,141.87 129,141.87 \" fill=\"none\" id=\"E5-&gt;E7\" style=\"stroke: #383838; stroke-width: 1.0;\"/><polygon fill=\"#383838\" points=\"129,146.87,133,137.87,129,141.87,125,137.87,129,146.87\" style=\"stroke: #383838; stroke-width: 1.0;\"/><text fill=\"#000000\" font-family=\"sans-serif\" font-size=\"13\" lengthAdjust=\"spacingAndGlyphs\" textLength=\"7\" x=\"150.5473\" y=\"135.671\">*</text></a><!--MD5=[93cca94cde7b1ff8c930af686d7edc4e]\n",
       "@startuml\r\n",
       "skinparam ranksep 10\r\n",
       "skinparam rectangle {\r\n",
       " backgroundColor<<block>> LightGreen\r\n",
       "}\r\n",
       "skinparam linetype ortho\r\n",
       "skinparam monochrome true\r\n",
       "skinparam classbackgroundcolor white\r\n",
       "skinparam shadowing false\r\n",
       "skinparam wrapWidth 300\r\n",
       "hide circle\r\n",
       "\r\n",
       "rec def \"ControlNodeTest\" as E1  <<(T,blue) action  def>> [[psysml:06c83ae0-0be1-4108-9f79-6c682626264b ]] {\r\n",
       "rec usage \"A1\" as E2  <<(T,blue) action>> [[psysml:b587d390-d46d-4840-bcaf-beb60201fdea ]] {\r\n",
       "}\r\n",
       "\r\n",
       "rec usage \"A2\" as E3  <<(T,blue) action>> [[psysml:2c010bd6-de88-4dc7-8be6-3edc78c34a31 ]] {\r\n",
       "}\r\n",
       "\r\n",
       "join \"J\" as E4  [[psysml:b80e7b99-08a2-49d6-9359-b424cf684151 ]] \r\n",
       "fork \"F\" as E5  [[psysml:df495c9b-9171-48f9-ac7d-26427115e0f4 ]] \r\n",
       "rec usage \"B1\" as E6  <<(T,blue) action>> [[psysml:b42821ea-70f6-43bd-9a67-84f3e511770a ]] {\r\n",
       "}\r\n",
       "\r\n",
       "rec usage \"B2\" as E7  <<(T,blue) action>> [[psysml:e950d6a4-fdbd-4650-aa0a-2ca4b4e20830 ]] {\r\n",
       "}\r\n",
       "\r\n",
       "}\r\n",
       "\r\n",
       "E2 - -> \"*\"E4 [[psysml:4f9dc8d6-d6e0-48a2-bcc8-8318223d246b ]] \r\n",
       "E3 - -> \"*\"E4 [[psysml:d5a52d23-3eda-48ed-8e98-b9c24f218910 ]] \r\n",
       "E4 - -> \"*\"E5 [[psysml:822f1664-72e1-4116-b41f-1c0919a615e0 ]] \r\n",
       "E5 - -> \"*\"E6 [[psysml:2360acce-0fc1-431a-bbc0-189c84da742a ]] \r\n",
       "E5 - -> \"*\"E7 [[psysml:ee81c625-3e17-4e8d-972a-76052e7a84e3 ]] \r\n",
       "@enduml\r\n",
       "\n",
       "PlantUML version 1.2020.13(Sat Jun 13 12:26:38 UTC 2020)\n",
       "(EPL source distribution)\n",
       "Java Runtime: OpenJDK Runtime Environment\n",
       "JVM: OpenJDK 64-Bit Server VM\n",
       "Default Encoding: UTF-8\n",
       "Language: en\n",
       "Country: null\n",
       "--></g></svg>"
      ]
     },
     "execution_count": 54,
     "metadata": {},
     "output_type": "execute_result"
    }
   ],
   "source": [
    "%viz --style=\"ORTHOLINE\" --view=\"Interconnection\" \"ControlNodeTest\""
   ]
  },
  {
   "cell_type": "code",
   "execution_count": 55,
   "id": "7a249780",
   "metadata": {
    "execution": {
     "iopub.execute_input": "2022-02-18T10:46:12.964059Z",
     "iopub.status.busy": "2022-02-18T10:46:12.963631Z",
     "iopub.status.idle": "2022-02-18T10:46:12.994139Z",
     "shell.execute_reply": "2022-02-18T10:46:12.993773Z"
    }
   },
   "outputs": [
    {
     "data": {
      "image/svg+xml": [
       "<?xml version=\"1.0\" encoding=\"UTF-8\" standalone=\"no\"?><svg xmlns=\"http://www.w3.org/2000/svg\" xmlns:xlink=\"http://www.w3.org/1999/xlink\" contentScriptType=\"application/ecmascript\" contentStyleType=\"text/css\" height=\"211px\" preserveAspectRatio=\"none\" style=\"width:205px;height:211px;\" version=\"1.1\" viewBox=\"0 0 205 211\" width=\"205px\" zoomAndPan=\"magnify\"><defs/><g><!--MD5=[fbc87193dbaf4d95561dea2c320d4a47]\n",
       "cluster E1--><a href=\"psysml:06c83ae0-0be1-4108-9f79-6c682626264b\" target=\"_top\" title=\"psysml:06c83ae0-0be1-4108-9f79-6c682626264b\" xlink:actuate=\"onRequest\" xlink:href=\"psysml:06c83ae0-0be1-4108-9f79-6c682626264b\" xlink:show=\"new\" xlink:title=\"psysml:06c83ae0-0be1-4108-9f79-6c682626264b\" xlink:type=\"simple\"><rect fill=\"#FFFFFF\" height=\"193\" id=\"E1\" style=\"stroke: #383838; stroke-width: 1.5;\" width=\"187\" x=\"7\" y=\"7\"/><rect fill=\"#F8F8F8\" height=\"37.9375\" style=\"stroke: #383838; stroke-width: 1.5;\" width=\"187\" x=\"7\" y=\"7\"/><text fill=\"#000000\" font-family=\"sans-serif\" font-size=\"12\" font-style=\"italic\" lengthAdjust=\"spacingAndGlyphs\" textLength=\"81\" x=\"60\" y=\"23.1387\">«action  def»</text><text fill=\"#000000\" font-family=\"sans-serif\" font-size=\"12\" lengthAdjust=\"spacingAndGlyphs\" textLength=\"105\" x=\"48\" y=\"37.1074\">ControlNodeTest</text></a><rect fill=\"#000000\" height=\"8\" style=\"stroke: none; stroke-width: 1.0;\" width=\"80\" x=\"60\" y=\"109\"/><rect fill=\"#000000\" height=\"8\" style=\"stroke: none; stroke-width: 1.0;\" width=\"80\" x=\"60\" y=\"125\"/><g id=\"E1.E2\"><a href=\"psysml:b587d390-d46d-4840-bcaf-beb60201fdea\" target=\"_top\" title=\"psysml:b587d390-d46d-4840-bcaf-beb60201fdea\" xlink:actuate=\"onRequest\" xlink:href=\"psysml:b587d390-d46d-4840-bcaf-beb60201fdea\" xlink:show=\"new\" xlink:title=\"psysml:b587d390-d46d-4840-bcaf-beb60201fdea\" xlink:type=\"simple\"><rect fill=\"#FFFFFF\" height=\"42.9375\" id=\"E2\" rx=\"10\" ry=\"10\" style=\"stroke: #383838; stroke-width: 1.5;\" width=\"60\" x=\"118\" y=\"58\"/><rect fill=\"#F8F8F8\" height=\"37.9375\" rx=\"10\" ry=\"10\" style=\"stroke: #F8F8F8; stroke-width: 1.5;\" width=\"60\" x=\"118\" y=\"58\"/><rect fill=\"#F8F8F8\" height=\"10\" style=\"stroke: #F8F8F8; stroke-width: 1.5;\" width=\"60\" x=\"118\" y=\"85.9375\"/><rect fill=\"none\" height=\"42.9375\" id=\"E2\" rx=\"10\" ry=\"10\" style=\"stroke: #383838; stroke-width: 1.5;\" width=\"60\" x=\"118\" y=\"58\"/><text fill=\"#000000\" font-family=\"sans-serif\" font-size=\"12\" font-style=\"italic\" lengthAdjust=\"spacingAndGlyphs\" textLength=\"53\" x=\"121.5\" y=\"74.1387\">«action»</text><text fill=\"#000000\" font-family=\"sans-serif\" font-size=\"12\" lengthAdjust=\"spacingAndGlyphs\" textLength=\"16\" x=\"140\" y=\"88.1074\">A1</text></a></g><g id=\"E1.E3\"><a href=\"psysml:2c010bd6-de88-4dc7-8be6-3edc78c34a31\" target=\"_top\" title=\"psysml:2c010bd6-de88-4dc7-8be6-3edc78c34a31\" xlink:actuate=\"onRequest\" xlink:href=\"psysml:2c010bd6-de88-4dc7-8be6-3edc78c34a31\" xlink:show=\"new\" xlink:title=\"psysml:2c010bd6-de88-4dc7-8be6-3edc78c34a31\" xlink:type=\"simple\"><rect fill=\"#FFFFFF\" height=\"42.9375\" id=\"E3\" rx=\"10\" ry=\"10\" style=\"stroke: #383838; stroke-width: 1.5;\" width=\"60\" x=\"23\" y=\"58\"/><rect fill=\"#F8F8F8\" height=\"37.9375\" rx=\"10\" ry=\"10\" style=\"stroke: #F8F8F8; stroke-width: 1.5;\" width=\"60\" x=\"23\" y=\"58\"/><rect fill=\"#F8F8F8\" height=\"10\" style=\"stroke: #F8F8F8; stroke-width: 1.5;\" width=\"60\" x=\"23\" y=\"85.9375\"/><rect fill=\"none\" height=\"42.9375\" id=\"E3\" rx=\"10\" ry=\"10\" style=\"stroke: #383838; stroke-width: 1.5;\" width=\"60\" x=\"23\" y=\"58\"/><text fill=\"#000000\" font-family=\"sans-serif\" font-size=\"12\" font-style=\"italic\" lengthAdjust=\"spacingAndGlyphs\" textLength=\"53\" x=\"26.5\" y=\"74.1387\">«action»</text><text fill=\"#000000\" font-family=\"sans-serif\" font-size=\"12\" lengthAdjust=\"spacingAndGlyphs\" textLength=\"16\" x=\"45\" y=\"88.1074\">A2</text></a></g><g id=\"E1.E6\"><a href=\"psysml:b42821ea-70f6-43bd-9a67-84f3e511770a\" target=\"_top\" title=\"psysml:b42821ea-70f6-43bd-9a67-84f3e511770a\" xlink:actuate=\"onRequest\" xlink:href=\"psysml:b42821ea-70f6-43bd-9a67-84f3e511770a\" xlink:show=\"new\" xlink:title=\"psysml:b42821ea-70f6-43bd-9a67-84f3e511770a\" xlink:type=\"simple\"><rect fill=\"#FFFFFF\" height=\"42.9375\" id=\"E6\" rx=\"10\" ry=\"10\" style=\"stroke: #383838; stroke-width: 1.5;\" width=\"60\" x=\"23\" y=\"141\"/><rect fill=\"#F8F8F8\" height=\"37.9375\" rx=\"10\" ry=\"10\" style=\"stroke: #F8F8F8; stroke-width: 1.5;\" width=\"60\" x=\"23\" y=\"141\"/><rect fill=\"#F8F8F8\" height=\"10\" style=\"stroke: #F8F8F8; stroke-width: 1.5;\" width=\"60\" x=\"23\" y=\"168.9375\"/><rect fill=\"none\" height=\"42.9375\" id=\"E6\" rx=\"10\" ry=\"10\" style=\"stroke: #383838; stroke-width: 1.5;\" width=\"60\" x=\"23\" y=\"141\"/><text fill=\"#000000\" font-family=\"sans-serif\" font-size=\"12\" font-style=\"italic\" lengthAdjust=\"spacingAndGlyphs\" textLength=\"53\" x=\"26.5\" y=\"157.1387\">«action»</text><text fill=\"#000000\" font-family=\"sans-serif\" font-size=\"12\" lengthAdjust=\"spacingAndGlyphs\" textLength=\"16\" x=\"45\" y=\"171.1074\">B1</text></a></g><g id=\"E1.E7\"><a href=\"psysml:e950d6a4-fdbd-4650-aa0a-2ca4b4e20830\" target=\"_top\" title=\"psysml:e950d6a4-fdbd-4650-aa0a-2ca4b4e20830\" xlink:actuate=\"onRequest\" xlink:href=\"psysml:e950d6a4-fdbd-4650-aa0a-2ca4b4e20830\" xlink:show=\"new\" xlink:title=\"psysml:e950d6a4-fdbd-4650-aa0a-2ca4b4e20830\" xlink:type=\"simple\"><rect fill=\"#FFFFFF\" height=\"42.9375\" id=\"E7\" rx=\"10\" ry=\"10\" style=\"stroke: #383838; stroke-width: 1.5;\" width=\"60\" x=\"118\" y=\"141\"/><rect fill=\"#F8F8F8\" height=\"37.9375\" rx=\"10\" ry=\"10\" style=\"stroke: #F8F8F8; stroke-width: 1.5;\" width=\"60\" x=\"118\" y=\"141\"/><rect fill=\"#F8F8F8\" height=\"10\" style=\"stroke: #F8F8F8; stroke-width: 1.5;\" width=\"60\" x=\"118\" y=\"168.9375\"/><rect fill=\"none\" height=\"42.9375\" id=\"E7\" rx=\"10\" ry=\"10\" style=\"stroke: #383838; stroke-width: 1.5;\" width=\"60\" x=\"118\" y=\"141\"/><text fill=\"#000000\" font-family=\"sans-serif\" font-size=\"12\" font-style=\"italic\" lengthAdjust=\"spacingAndGlyphs\" textLength=\"53\" x=\"121.5\" y=\"157.1387\">«action»</text><text fill=\"#000000\" font-family=\"sans-serif\" font-size=\"12\" lengthAdjust=\"spacingAndGlyphs\" textLength=\"16\" x=\"140\" y=\"171.1074\">B2</text></a></g><!--MD5=[4d03bb2d0377dc85ccfab60ff574652b]\n",
       "link E2 to E4--><a href=\"psysml:4f9dc8d6-d6e0-48a2-bcc8-8318223d246b\" target=\"_top\" title=\"psysml:4f9dc8d6-d6e0-48a2-bcc8-8318223d246b\" xlink:actuate=\"onRequest\" xlink:href=\"psysml:4f9dc8d6-d6e0-48a2-bcc8-8318223d246b\" xlink:show=\"new\" xlink:title=\"psysml:4f9dc8d6-d6e0-48a2-bcc8-8318223d246b\" xlink:type=\"simple\"><path d=\"M129,101.28 C129,101.28 129,103.71 129,103.71 \" fill=\"none\" id=\"E2-&gt;E4\" style=\"stroke: #383838; stroke-width: 1.0; stroke-dasharray: 7.0,7.0;\"/><polygon fill=\"#383838\" points=\"129,108.71,133,99.71,129,103.71,125,99.71,129,108.71\" style=\"stroke: #383838; stroke-width: 1.0;\"/></a><!--MD5=[af87c684e3b0d8be13c1a698a818ef1e]\n",
       "link E3 to E4--><a href=\"psysml:d5a52d23-3eda-48ed-8e98-b9c24f218910\" target=\"_top\" title=\"psysml:d5a52d23-3eda-48ed-8e98-b9c24f218910\" xlink:actuate=\"onRequest\" xlink:href=\"psysml:d5a52d23-3eda-48ed-8e98-b9c24f218910\" xlink:show=\"new\" xlink:title=\"psysml:d5a52d23-3eda-48ed-8e98-b9c24f218910\" xlink:type=\"simple\"><path d=\"M71.5,101.28 C71.5,101.28 71.5,103.71 71.5,103.71 \" fill=\"none\" id=\"E3-&gt;E4\" style=\"stroke: #383838; stroke-width: 1.0; stroke-dasharray: 7.0,7.0;\"/><polygon fill=\"#383838\" points=\"71.5,108.71,75.5,99.71,71.5,103.71,67.5,99.71,71.5,108.71\" style=\"stroke: #383838; stroke-width: 1.0;\"/></a><!--MD5=[1b7591eae5389033d8d09a9d6721a717]\n",
       "link E4 to E5--><a href=\"psysml:822f1664-72e1-4116-b41f-1c0919a615e0\" target=\"_top\" title=\"psysml:822f1664-72e1-4116-b41f-1c0919a615e0\" xlink:actuate=\"onRequest\" xlink:href=\"psysml:822f1664-72e1-4116-b41f-1c0919a615e0\" xlink:show=\"new\" xlink:title=\"psysml:822f1664-72e1-4116-b41f-1c0919a615e0\" xlink:type=\"simple\"><path d=\"M100,117.04 C100,117.04 100,119.8 100,119.8 \" fill=\"none\" id=\"E4-&gt;E5\" style=\"stroke: #383838; stroke-width: 1.0; stroke-dasharray: 7.0,7.0;\"/><polygon fill=\"#383838\" points=\"100,124.8,104,115.8,100,119.8,96,115.8,100,124.8\" style=\"stroke: #383838; stroke-width: 1.0;\"/></a><!--MD5=[9120cf2e5df3bff93db8f754bbbc09b4]\n",
       "link E5 to E6--><a href=\"psysml:2360acce-0fc1-431a-bbc0-189c84da742a\" target=\"_top\" title=\"psysml:2360acce-0fc1-431a-bbc0-189c84da742a\" xlink:actuate=\"onRequest\" xlink:href=\"psysml:2360acce-0fc1-431a-bbc0-189c84da742a\" xlink:show=\"new\" xlink:title=\"psysml:2360acce-0fc1-431a-bbc0-189c84da742a\" xlink:type=\"simple\"><path d=\"M71.5,133.11 C71.5,133.11 71.5,135.88 71.5,135.88 \" fill=\"none\" id=\"E5-&gt;E6\" style=\"stroke: #383838; stroke-width: 1.0; stroke-dasharray: 7.0,7.0;\"/><polygon fill=\"#383838\" points=\"71.5,140.88,75.5,131.88,71.5,135.88,67.5,131.88,71.5,140.88\" style=\"stroke: #383838; stroke-width: 1.0;\"/></a><!--MD5=[3a9b96bfbf6b6ad89c494e81751bda47]\n",
       "link E5 to E7--><a href=\"psysml:ee81c625-3e17-4e8d-972a-76052e7a84e3\" target=\"_top\" title=\"psysml:ee81c625-3e17-4e8d-972a-76052e7a84e3\" xlink:actuate=\"onRequest\" xlink:href=\"psysml:ee81c625-3e17-4e8d-972a-76052e7a84e3\" xlink:show=\"new\" xlink:title=\"psysml:ee81c625-3e17-4e8d-972a-76052e7a84e3\" xlink:type=\"simple\"><path d=\"M129,133.11 C129,133.11 129,135.88 129,135.88 \" fill=\"none\" id=\"E5-&gt;E7\" style=\"stroke: #383838; stroke-width: 1.0; stroke-dasharray: 7.0,7.0;\"/><polygon fill=\"#383838\" points=\"129,140.88,133,131.88,129,135.88,125,131.88,129,140.88\" style=\"stroke: #383838; stroke-width: 1.0;\"/></a><!--MD5=[847bd57e5a0745f61d8953bac4afdbae]\n",
       "@startuml\r\n",
       "skinparam ranksep 8\r\n",
       "skinparam linetype ortho\r\n",
       "skinparam monochrome true\r\n",
       "skinparam classbackgroundcolor white\r\n",
       "skinparam shadowing false\r\n",
       "skinparam wrapWidth 300\r\n",
       "hide circle\r\n",
       "\r\n",
       "rec def \"ControlNodeTest\" as E1  <<(T,blue) action  def>> [[psysml:06c83ae0-0be1-4108-9f79-6c682626264b ]] {\r\n",
       "rec usage \"A1\" as E2  <<(T,blue) action>> [[psysml:b587d390-d46d-4840-bcaf-beb60201fdea ]] {\r\n",
       "}\r\n",
       "\r\n",
       "rec usage \"A2\" as E3  <<(T,blue) action>> [[psysml:2c010bd6-de88-4dc7-8be6-3edc78c34a31 ]] {\r\n",
       "}\r\n",
       "\r\n",
       "join \"J\" as E4  [[psysml:b80e7b99-08a2-49d6-9359-b424cf684151 ]] \r\n",
       "fork \"F\" as E5  [[psysml:df495c9b-9171-48f9-ac7d-26427115e0f4 ]] \r\n",
       "rec usage \"B1\" as E6  <<(T,blue) action>> [[psysml:b42821ea-70f6-43bd-9a67-84f3e511770a ]] {\r\n",
       "}\r\n",
       "\r\n",
       "rec usage \"B2\" as E7  <<(T,blue) action>> [[psysml:e950d6a4-fdbd-4650-aa0a-2ca4b4e20830 ]] {\r\n",
       "}\r\n",
       "\r\n",
       "}\r\n",
       "\r\n",
       "E2 ..> E4 [[psysml:4f9dc8d6-d6e0-48a2-bcc8-8318223d246b ]] \r\n",
       "E3 ..> E4 [[psysml:d5a52d23-3eda-48ed-8e98-b9c24f218910 ]] \r\n",
       "E4 ..> E5 [[psysml:822f1664-72e1-4116-b41f-1c0919a615e0 ]] \r\n",
       "E5 ..> E6 [[psysml:2360acce-0fc1-431a-bbc0-189c84da742a ]] \r\n",
       "E5 ..> E7 [[psysml:ee81c625-3e17-4e8d-972a-76052e7a84e3 ]] \r\n",
       "@enduml\r\n",
       "\n",
       "PlantUML version 1.2020.13(Sat Jun 13 12:26:38 UTC 2020)\n",
       "(EPL source distribution)\n",
       "Java Runtime: OpenJDK Runtime Environment\n",
       "JVM: OpenJDK 64-Bit Server VM\n",
       "Default Encoding: UTF-8\n",
       "Language: en\n",
       "Country: null\n",
       "--></g></svg>"
      ]
     },
     "execution_count": 55,
     "metadata": {},
     "output_type": "execute_result"
    }
   ],
   "source": [
    "%viz --style=\"ORTHOLINE\" --view=\"Action\" \"ControlNodeTest\""
   ]
  },
  {
   "cell_type": "code",
   "execution_count": 56,
   "id": "8432931f",
   "metadata": {
    "execution": {
     "iopub.execute_input": "2022-02-18T10:46:13.043562Z",
     "iopub.status.busy": "2022-02-18T10:46:13.043156Z",
     "iopub.status.idle": "2022-02-18T10:46:13.048507Z",
     "shell.execute_reply": "2022-02-18T10:46:13.048093Z"
    }
   },
   "outputs": [
    {
     "data": {
      "image/svg+xml": [
       "<?xml version=\"1.0\" encoding=\"UTF-8\" standalone=\"no\"?><svg xmlns=\"http://www.w3.org/2000/svg\" xmlns:xlink=\"http://www.w3.org/1999/xlink\" contentScriptType=\"application/ecmascript\" contentStyleType=\"text/css\" height=\"12px\" preserveAspectRatio=\"none\" style=\"width:12px;height:12px;\" version=\"1.1\" viewBox=\"0 0 12 12\" width=\"12px\" zoomAndPan=\"magnify\"><defs/><g><!--MD5=[30fc1de5121c5abddedd55b44417fde8]\n",
       "@startuml\r\n",
       "skinparam roundcorner 20\r\n",
       "skinparam BoxPadding 20\r\n",
       "skinparam SequenceBoxBackgroundColor #white\r\n",
       "skinparam style strictuml\r\n",
       "skinparam maxMessageSize 100\r\n",
       "skinparam linetype ortho\r\n",
       "skinparam monochrome true\r\n",
       "skinparam classbackgroundcolor white\r\n",
       "skinparam shadowing false\r\n",
       "skinparam wrapWidth 300\r\n",
       "hide circle\r\n",
       "\r\n",
       "@enduml\r\n",
       "\n",
       "PlantUML version 1.2020.13(Sat Jun 13 12:26:38 UTC 2020)\n",
       "(EPL source distribution)\n",
       "Java Runtime: OpenJDK Runtime Environment\n",
       "JVM: OpenJDK 64-Bit Server VM\n",
       "Default Encoding: UTF-8\n",
       "Language: en\n",
       "Country: null\n",
       "--></g></svg>"
      ]
     },
     "execution_count": 56,
     "metadata": {},
     "output_type": "execute_result"
    }
   ],
   "source": [
    "%viz --style=\"ORTHOLINE\" --view=\"Sequence\" \"ControlNodeTest\""
   ]
  },
  {
   "cell_type": "code",
   "execution_count": 57,
   "id": "06777627",
   "metadata": {
    "execution": {
     "iopub.execute_input": "2022-02-18T10:46:13.098163Z",
     "iopub.status.busy": "2022-02-18T10:46:13.097742Z",
     "iopub.status.idle": "2022-02-18T10:46:13.130499Z",
     "shell.execute_reply": "2022-02-18T10:46:13.130081Z"
    }
   },
   "outputs": [
    {
     "data": {
      "image/svg+xml": [
       "<?xml version=\"1.0\" encoding=\"UTF-8\" standalone=\"no\"?><svg xmlns=\"http://www.w3.org/2000/svg\" xmlns:xlink=\"http://www.w3.org/1999/xlink\" contentScriptType=\"application/ecmascript\" contentStyleType=\"text/css\" height=\"367px\" preserveAspectRatio=\"none\" style=\"width:205px;height:367px;\" version=\"1.1\" viewBox=\"0 0 205 367\" width=\"205px\" zoomAndPan=\"magnify\"><defs/><g><!--MD5=[fbc87193dbaf4d95561dea2c320d4a47]\n",
       "cluster E1--><a href=\"psysml:06c83ae0-0be1-4108-9f79-6c682626264b\" target=\"_top\" title=\"psysml:06c83ae0-0be1-4108-9f79-6c682626264b\" xlink:actuate=\"onRequest\" xlink:href=\"psysml:06c83ae0-0be1-4108-9f79-6c682626264b\" xlink:show=\"new\" xlink:title=\"psysml:06c83ae0-0be1-4108-9f79-6c682626264b\" xlink:type=\"simple\"><rect fill=\"#FFFFFF\" height=\"349\" id=\"E1\" style=\"stroke: #383838; stroke-width: 1.5;\" width=\"187\" x=\"7\" y=\"7\"/><rect fill=\"#F8F8F8\" height=\"37.9375\" style=\"stroke: #383838; stroke-width: 1.5;\" width=\"187\" x=\"7\" y=\"7\"/><text fill=\"#000000\" font-family=\"sans-serif\" font-size=\"12\" font-style=\"italic\" lengthAdjust=\"spacingAndGlyphs\" textLength=\"81\" x=\"60\" y=\"23.1387\">«action  def»</text><text fill=\"#000000\" font-family=\"sans-serif\" font-size=\"12\" lengthAdjust=\"spacingAndGlyphs\" textLength=\"105\" x=\"48\" y=\"37.1074\">ControlNodeTest</text></a><rect fill=\"#000000\" height=\"8\" style=\"stroke: none; stroke-width: 1.0;\" width=\"80\" x=\"60\" y=\"161\"/><rect fill=\"#000000\" height=\"8\" style=\"stroke: none; stroke-width: 1.0;\" width=\"80\" x=\"60\" y=\"229\"/><g id=\"E1.E2\"><a href=\"psysml:b587d390-d46d-4840-bcaf-beb60201fdea\" target=\"_top\" title=\"psysml:b587d390-d46d-4840-bcaf-beb60201fdea\" xlink:actuate=\"onRequest\" xlink:href=\"psysml:b587d390-d46d-4840-bcaf-beb60201fdea\" xlink:show=\"new\" xlink:title=\"psysml:b587d390-d46d-4840-bcaf-beb60201fdea\" xlink:type=\"simple\"><rect fill=\"#FFFFFF\" height=\"42.9375\" id=\"E2\" rx=\"10\" ry=\"10\" style=\"stroke: #383838; stroke-width: 1.5;\" width=\"60\" x=\"118\" y=\"58\"/><rect fill=\"#F8F8F8\" height=\"37.9375\" rx=\"10\" ry=\"10\" style=\"stroke: #F8F8F8; stroke-width: 1.5;\" width=\"60\" x=\"118\" y=\"58\"/><rect fill=\"#F8F8F8\" height=\"10\" style=\"stroke: #F8F8F8; stroke-width: 1.5;\" width=\"60\" x=\"118\" y=\"85.9375\"/><rect fill=\"none\" height=\"42.9375\" id=\"E2\" rx=\"10\" ry=\"10\" style=\"stroke: #383838; stroke-width: 1.5;\" width=\"60\" x=\"118\" y=\"58\"/><text fill=\"#000000\" font-family=\"sans-serif\" font-size=\"12\" font-style=\"italic\" lengthAdjust=\"spacingAndGlyphs\" textLength=\"53\" x=\"121.5\" y=\"74.1387\">«action»</text><text fill=\"#000000\" font-family=\"sans-serif\" font-size=\"12\" lengthAdjust=\"spacingAndGlyphs\" textLength=\"16\" x=\"140\" y=\"88.1074\">A1</text></a></g><g id=\"E1.E3\"><a href=\"psysml:2c010bd6-de88-4dc7-8be6-3edc78c34a31\" target=\"_top\" title=\"psysml:2c010bd6-de88-4dc7-8be6-3edc78c34a31\" xlink:actuate=\"onRequest\" xlink:href=\"psysml:2c010bd6-de88-4dc7-8be6-3edc78c34a31\" xlink:show=\"new\" xlink:title=\"psysml:2c010bd6-de88-4dc7-8be6-3edc78c34a31\" xlink:type=\"simple\"><rect fill=\"#FFFFFF\" height=\"42.9375\" id=\"E3\" rx=\"10\" ry=\"10\" style=\"stroke: #383838; stroke-width: 1.5;\" width=\"60\" x=\"23\" y=\"58\"/><rect fill=\"#F8F8F8\" height=\"37.9375\" rx=\"10\" ry=\"10\" style=\"stroke: #F8F8F8; stroke-width: 1.5;\" width=\"60\" x=\"23\" y=\"58\"/><rect fill=\"#F8F8F8\" height=\"10\" style=\"stroke: #F8F8F8; stroke-width: 1.5;\" width=\"60\" x=\"23\" y=\"85.9375\"/><rect fill=\"none\" height=\"42.9375\" id=\"E3\" rx=\"10\" ry=\"10\" style=\"stroke: #383838; stroke-width: 1.5;\" width=\"60\" x=\"23\" y=\"58\"/><text fill=\"#000000\" font-family=\"sans-serif\" font-size=\"12\" font-style=\"italic\" lengthAdjust=\"spacingAndGlyphs\" textLength=\"53\" x=\"26.5\" y=\"74.1387\">«action»</text><text fill=\"#000000\" font-family=\"sans-serif\" font-size=\"12\" lengthAdjust=\"spacingAndGlyphs\" textLength=\"16\" x=\"45\" y=\"88.1074\">A2</text></a></g><g id=\"E1.E6\"><a href=\"psysml:b42821ea-70f6-43bd-9a67-84f3e511770a\" target=\"_top\" title=\"psysml:b42821ea-70f6-43bd-9a67-84f3e511770a\" xlink:actuate=\"onRequest\" xlink:href=\"psysml:b42821ea-70f6-43bd-9a67-84f3e511770a\" xlink:show=\"new\" xlink:title=\"psysml:b42821ea-70f6-43bd-9a67-84f3e511770a\" xlink:type=\"simple\"><rect fill=\"#FFFFFF\" height=\"42.9375\" id=\"E6\" rx=\"10\" ry=\"10\" style=\"stroke: #383838; stroke-width: 1.5;\" width=\"60\" x=\"23\" y=\"297\"/><rect fill=\"#F8F8F8\" height=\"37.9375\" rx=\"10\" ry=\"10\" style=\"stroke: #F8F8F8; stroke-width: 1.5;\" width=\"60\" x=\"23\" y=\"297\"/><rect fill=\"#F8F8F8\" height=\"10\" style=\"stroke: #F8F8F8; stroke-width: 1.5;\" width=\"60\" x=\"23\" y=\"324.9375\"/><rect fill=\"none\" height=\"42.9375\" id=\"E6\" rx=\"10\" ry=\"10\" style=\"stroke: #383838; stroke-width: 1.5;\" width=\"60\" x=\"23\" y=\"297\"/><text fill=\"#000000\" font-family=\"sans-serif\" font-size=\"12\" font-style=\"italic\" lengthAdjust=\"spacingAndGlyphs\" textLength=\"53\" x=\"26.5\" y=\"313.1387\">«action»</text><text fill=\"#000000\" font-family=\"sans-serif\" font-size=\"12\" lengthAdjust=\"spacingAndGlyphs\" textLength=\"16\" x=\"45\" y=\"327.1074\">B1</text></a></g><g id=\"E1.E7\"><a href=\"psysml:e950d6a4-fdbd-4650-aa0a-2ca4b4e20830\" target=\"_top\" title=\"psysml:e950d6a4-fdbd-4650-aa0a-2ca4b4e20830\" xlink:actuate=\"onRequest\" xlink:href=\"psysml:e950d6a4-fdbd-4650-aa0a-2ca4b4e20830\" xlink:show=\"new\" xlink:title=\"psysml:e950d6a4-fdbd-4650-aa0a-2ca4b4e20830\" xlink:type=\"simple\"><rect fill=\"#FFFFFF\" height=\"42.9375\" id=\"E7\" rx=\"10\" ry=\"10\" style=\"stroke: #383838; stroke-width: 1.5;\" width=\"60\" x=\"118\" y=\"297\"/><rect fill=\"#F8F8F8\" height=\"37.9375\" rx=\"10\" ry=\"10\" style=\"stroke: #F8F8F8; stroke-width: 1.5;\" width=\"60\" x=\"118\" y=\"297\"/><rect fill=\"#F8F8F8\" height=\"10\" style=\"stroke: #F8F8F8; stroke-width: 1.5;\" width=\"60\" x=\"118\" y=\"324.9375\"/><rect fill=\"none\" height=\"42.9375\" id=\"E7\" rx=\"10\" ry=\"10\" style=\"stroke: #383838; stroke-width: 1.5;\" width=\"60\" x=\"118\" y=\"297\"/><text fill=\"#000000\" font-family=\"sans-serif\" font-size=\"12\" font-style=\"italic\" lengthAdjust=\"spacingAndGlyphs\" textLength=\"53\" x=\"121.5\" y=\"313.1387\">«action»</text><text fill=\"#000000\" font-family=\"sans-serif\" font-size=\"12\" lengthAdjust=\"spacingAndGlyphs\" textLength=\"16\" x=\"140\" y=\"327.1074\">B2</text></a></g><!--MD5=[4d03bb2d0377dc85ccfab60ff574652b]\n",
       "link E2 to E4--><a href=\"psysml:4f9dc8d6-d6e0-48a2-bcc8-8318223d246b\" target=\"_top\" title=\"psysml:4f9dc8d6-d6e0-48a2-bcc8-8318223d246b\" xlink:actuate=\"onRequest\" xlink:href=\"psysml:4f9dc8d6-d6e0-48a2-bcc8-8318223d246b\" xlink:show=\"new\" xlink:title=\"psysml:4f9dc8d6-d6e0-48a2-bcc8-8318223d246b\" xlink:type=\"simple\"><path d=\"M129,101.08 C129,101.08 129,155.97 129,155.97 \" fill=\"none\" id=\"E2-&gt;E4\" style=\"stroke: #383838; stroke-width: 1.0;\"/><polygon fill=\"#383838\" points=\"129,160.97,133,151.97,129,155.97,125,151.97,129,160.97\" style=\"stroke: #383838; stroke-width: 1.0;\"/><text fill=\"#000000\" font-family=\"sans-serif\" font-size=\"13\" lengthAdjust=\"spacingAndGlyphs\" textLength=\"7\" x=\"140.1688\" y=\"149.8691\">*</text></a><!--MD5=[af87c684e3b0d8be13c1a698a818ef1e]\n",
       "link E3 to E4--><a href=\"psysml:d5a52d23-3eda-48ed-8e98-b9c24f218910\" target=\"_top\" title=\"psysml:d5a52d23-3eda-48ed-8e98-b9c24f218910\" xlink:actuate=\"onRequest\" xlink:href=\"psysml:d5a52d23-3eda-48ed-8e98-b9c24f218910\" xlink:show=\"new\" xlink:title=\"psysml:d5a52d23-3eda-48ed-8e98-b9c24f218910\" xlink:type=\"simple\"><path d=\"M71.5,101.08 C71.5,101.08 71.5,155.97 71.5,155.97 \" fill=\"none\" id=\"E3-&gt;E4\" style=\"stroke: #383838; stroke-width: 1.0;\"/><polygon fill=\"#383838\" points=\"71.5,160.97,75.5,151.97,71.5,155.97,67.5,151.97,71.5,160.97\" style=\"stroke: #383838; stroke-width: 1.0;\"/><text fill=\"#000000\" font-family=\"sans-serif\" font-size=\"13\" lengthAdjust=\"spacingAndGlyphs\" textLength=\"7\" x=\"44.9\" y=\"151.0154\">*</text></a><!--MD5=[1b7591eae5389033d8d09a9d6721a717]\n",
       "link E4 to E5--><a href=\"psysml:822f1664-72e1-4116-b41f-1c0919a615e0\" target=\"_top\" title=\"psysml:822f1664-72e1-4116-b41f-1c0919a615e0\" xlink:actuate=\"onRequest\" xlink:href=\"psysml:822f1664-72e1-4116-b41f-1c0919a615e0\" xlink:show=\"new\" xlink:title=\"psysml:822f1664-72e1-4116-b41f-1c0919a615e0\" xlink:type=\"simple\"><path d=\"M100,169.05 C100,169.05 100,223.71 100,223.71 \" fill=\"none\" id=\"E4-&gt;E5\" style=\"stroke: #383838; stroke-width: 1.0;\"/><polygon fill=\"#383838\" points=\"100,228.71,104,219.71,100,223.71,96,219.71,100,228.71\" style=\"stroke: #383838; stroke-width: 1.0;\"/><text fill=\"#000000\" font-family=\"sans-serif\" font-size=\"13\" lengthAdjust=\"spacingAndGlyphs\" textLength=\"7\" x=\"90.6813\" y=\"218.01\">*</text></a><!--MD5=[9120cf2e5df3bff93db8f754bbbc09b4]\n",
       "link E5 to E6--><a href=\"psysml:2360acce-0fc1-431a-bbc0-189c84da742a\" target=\"_top\" title=\"psysml:2360acce-0fc1-431a-bbc0-189c84da742a\" xlink:actuate=\"onRequest\" xlink:href=\"psysml:2360acce-0fc1-431a-bbc0-189c84da742a\" xlink:show=\"new\" xlink:title=\"psysml:2360acce-0fc1-431a-bbc0-189c84da742a\" xlink:type=\"simple\"><path d=\"M71.5,237.12 C71.5,237.12 71.5,291.87 71.5,291.87 \" fill=\"none\" id=\"E5-&gt;E6\" style=\"stroke: #383838; stroke-width: 1.0;\"/><polygon fill=\"#383838\" points=\"71.5,296.87,75.5,287.87,71.5,291.87,67.5,287.87,71.5,296.87\" style=\"stroke: #383838; stroke-width: 1.0;\"/><text fill=\"#000000\" font-family=\"sans-serif\" font-size=\"13\" lengthAdjust=\"spacingAndGlyphs\" textLength=\"7\" x=\"68.7188\" y=\"285.7715\">*</text></a><!--MD5=[3a9b96bfbf6b6ad89c494e81751bda47]\n",
       "link E5 to E7--><a href=\"psysml:ee81c625-3e17-4e8d-972a-76052e7a84e3\" target=\"_top\" title=\"psysml:ee81c625-3e17-4e8d-972a-76052e7a84e3\" xlink:actuate=\"onRequest\" xlink:href=\"psysml:ee81c625-3e17-4e8d-972a-76052e7a84e3\" xlink:show=\"new\" xlink:title=\"psysml:ee81c625-3e17-4e8d-972a-76052e7a84e3\" xlink:type=\"simple\"><path d=\"M129,237.12 C129,237.12 129,291.87 129,291.87 \" fill=\"none\" id=\"E5-&gt;E7\" style=\"stroke: #383838; stroke-width: 1.0;\"/><polygon fill=\"#383838\" points=\"129,296.87,133,287.87,129,291.87,125,287.87,129,296.87\" style=\"stroke: #383838; stroke-width: 1.0;\"/><text fill=\"#000000\" font-family=\"sans-serif\" font-size=\"13\" lengthAdjust=\"spacingAndGlyphs\" textLength=\"7\" x=\"115.6719\" y=\"285.7715\">*</text></a><!--MD5=[6b66d32e5c20840a0fe5772e7dfcb1f3]\n",
       "@startuml\r\n",
       "skinparam linetype ortho\r\n",
       "skinparam monochrome true\r\n",
       "skinparam classbackgroundcolor white\r\n",
       "skinparam shadowing false\r\n",
       "skinparam wrapWidth 300\r\n",
       "hide circle\r\n",
       "\r\n",
       "rec def \"ControlNodeTest\" as E1  <<(T,blue) action  def>> [[psysml:06c83ae0-0be1-4108-9f79-6c682626264b ]] {\r\n",
       "rec usage \"A1\" as E2  <<(T,blue) action>> [[psysml:b587d390-d46d-4840-bcaf-beb60201fdea ]] {\r\n",
       "}\r\n",
       "\r\n",
       "rec usage \"A2\" as E3  <<(T,blue) action>> [[psysml:2c010bd6-de88-4dc7-8be6-3edc78c34a31 ]] {\r\n",
       "}\r\n",
       "\r\n",
       "join \"J\" as E4  [[psysml:b80e7b99-08a2-49d6-9359-b424cf684151 ]] \r\n",
       "fork \"F\" as E5  [[psysml:df495c9b-9171-48f9-ac7d-26427115e0f4 ]] \r\n",
       "rec usage \"B1\" as E6  <<(T,blue) action>> [[psysml:b42821ea-70f6-43bd-9a67-84f3e511770a ]] {\r\n",
       "}\r\n",
       "\r\n",
       "rec usage \"B2\" as E7  <<(T,blue) action>> [[psysml:e950d6a4-fdbd-4650-aa0a-2ca4b4e20830 ]] {\r\n",
       "}\r\n",
       "\r\n",
       "}\r\n",
       "\r\n",
       "E2 - -> \"*\"E4 [[psysml:4f9dc8d6-d6e0-48a2-bcc8-8318223d246b ]] \r\n",
       "E3 - -> \"*\"E4 [[psysml:d5a52d23-3eda-48ed-8e98-b9c24f218910 ]] \r\n",
       "E4 - -> \"*\"E5 [[psysml:822f1664-72e1-4116-b41f-1c0919a615e0 ]] \r\n",
       "E5 - -> \"*\"E6 [[psysml:2360acce-0fc1-431a-bbc0-189c84da742a ]] \r\n",
       "E5 - -> \"*\"E7 [[psysml:ee81c625-3e17-4e8d-972a-76052e7a84e3 ]] \r\n",
       "@enduml\r\n",
       "\n",
       "PlantUML version 1.2020.13(Sat Jun 13 12:26:38 UTC 2020)\n",
       "(EPL source distribution)\n",
       "Java Runtime: OpenJDK Runtime Environment\n",
       "JVM: OpenJDK 64-Bit Server VM\n",
       "Default Encoding: UTF-8\n",
       "Language: en\n",
       "Country: null\n",
       "--></g></svg>"
      ]
     },
     "execution_count": 57,
     "metadata": {},
     "output_type": "execute_result"
    }
   ],
   "source": [
    "%viz --style=\"ORTHOLINE\" --view=\"MIXED\" \"ControlNodeTest\""
   ]
  }
 ],
 "metadata": {
  "kernelspec": {
   "display_name": "SysML",
   "language": "sysml",
   "name": "sysml"
  },
  "language_info": {
   "codemirror_mode": "sysml",
   "file_extension": ".sysml",
   "mimetype": "text/x-sysml",
   "name": "SysML",
   "pygments_lexer": "java",
   "version": "1.0.0"
  }
 },
 "nbformat": 4,
 "nbformat_minor": 5
}
